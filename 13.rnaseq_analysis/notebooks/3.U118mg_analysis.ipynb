{
    "cells": [
        {
            "cell_type": "code",
            "execution_count": 1,
            "id": "8ff2c112",
            "metadata": {
                "execution": {
                    "iopub.execute_input": "2025-02-27T19:20:45.464380Z",
                    "iopub.status.busy": "2025-02-27T19:20:45.462512Z",
                    "iopub.status.idle": "2025-02-27T19:20:50.299409Z",
                    "shell.execute_reply": "2025-02-27T19:20:50.298479Z"
                },
                "papermill": {
                    "duration": 4.857533,
                    "end_time": "2025-02-27T19:20:50.300314",
                    "exception": false,
                    "start_time": "2025-02-27T19:20:45.442781",
                    "status": "completed"
                },
                "tags": [],
                "vscode": {
                    "languageId": "r"
                }
            },
            "outputs": [],
            "source": [
                "\n",
                "list_of_packages <- c(\"ggplot2\", \"dplyr\", \"DESeq2\",\"biomaRt\",\"tidyr\", \"tidyverse\")\n",
                "for(package in list_of_packages){\n",
                "suppressPackageStartupMessages(suppressMessages(suppressWarnings(library(package,character.only=TRUE))))\n",
                "}"
            ]
        },
        {
            "cell_type": "code",
            "execution_count": 2,
            "id": "480dba2d",
            "metadata": {
                "execution": {
                    "iopub.execute_input": "2025-02-27T19:20:50.319169Z",
                    "iopub.status.busy": "2025-02-27T19:20:50.305267Z",
                    "iopub.status.idle": "2025-02-27T19:20:50.325264Z",
                    "shell.execute_reply": "2025-02-27T19:20:50.324534Z"
                },
                "papermill": {
                    "duration": 0.02367,
                    "end_time": "2025-02-27T19:20:50.326179",
                    "exception": false,
                    "start_time": "2025-02-27T19:20:50.302509",
                    "status": "completed"
                },
                "tags": [],
                "vscode": {
                    "languageId": "r"
                }
            },
            "outputs": [],
            "source": [
                "figures_dir<-file.path(\"../figures\")\n",
                "if(!dir.exists(figures_dir)){\n",
                " dir.create(figures_dir, showWarnings = FALSE, recursive = TRUE)\n",
                "}"
            ]
        },
        {
            "cell_type": "code",
            "execution_count": 3,
            "id": "7345cd3a",
            "metadata": {
                "execution": {
                    "iopub.execute_input": "2025-02-27T19:20:50.331687Z",
                    "iopub.status.busy": "2025-02-27T19:20:50.331082Z",
                    "iopub.status.idle": "2025-02-27T19:20:54.860912Z",
                    "shell.execute_reply": "2025-02-27T19:20:54.860122Z"
                },
                "papermill": {
                    "duration": 4.533537,
                    "end_time": "2025-02-27T19:20:54.861840",
                    "exception": false,
                    "start_time": "2025-02-27T19:20:50.328303",
                    "status": "completed"
                },
                "tags": [],
                "vscode": {
                    "languageId": "r"
                }
            },
            "outputs": [
                {
                    "data": {
                        "text/html": [
                            "<style>\n",
                            ".list-inline {list-style: none; margin:0; padding: 0}\n",
                            ".list-inline>li {display: inline-block}\n",
                            ".list-inline>li:not(:last-child)::after {content: \"\\00b7\"; padding: 0 .5ex}\n",
                            "</style>\n",
                            "<ol class=list-inline><li>39376</li><li>3</li></ol>\n"
                        ],
                        "text/latex": [
                            "\\begin{enumerate*}\n",
                            "\\item 39376\n",
                            "\\item 3\n",
                            "\\end{enumerate*}\n"
                        ],
                        "text/markdown": [
                            "1. 39376\n",
                            "2. 3\n",
                            "\n",
                            "\n"
                        ],
                        "text/plain": [
                            "[1] 39376     3"
                        ]
                    },
                    "metadata": {},
                    "output_type": "display_data"
                },
                {
                    "data": {
                        "text/html": [
                            "<style>\n",
                            ".list-inline {list-style: none; margin:0; padding: 0}\n",
                            ".list-inline>li {display: inline-block}\n",
                            ".list-inline>li:not(:last-child)::after {content: \"\\00b7\"; padding: 0 .5ex}\n",
                            "</style>\n",
                            "<ol class=list-inline><li>39376</li><li>275</li></ol>\n"
                        ],
                        "text/latex": [
                            "\\begin{enumerate*}\n",
                            "\\item 39376\n",
                            "\\item 275\n",
                            "\\end{enumerate*}\n"
                        ],
                        "text/markdown": [
                            "1. 39376\n",
                            "2. 275\n",
                            "\n",
                            "\n"
                        ],
                        "text/plain": [
                            "[1] 39376   275"
                        ]
                    },
                    "metadata": {},
                    "output_type": "display_data"
                },
                {
                    "data": {
                        "text/html": [
                            "<style>\n",
                            ".list-inline {list-style: none; margin:0; padding: 0}\n",
                            ".list-inline>li {display: inline-block}\n",
                            ".list-inline>li:not(:last-child)::after {content: \"\\00b7\"; padding: 0 .5ex}\n",
                            "</style>\n",
                            "<ol class=list-inline><li>39376</li><li>277</li></ol>\n"
                        ],
                        "text/latex": [
                            "\\begin{enumerate*}\n",
                            "\\item 39376\n",
                            "\\item 277\n",
                            "\\end{enumerate*}\n"
                        ],
                        "text/markdown": [
                            "1. 39376\n",
                            "2. 277\n",
                            "\n",
                            "\n"
                        ],
                        "text/plain": [
                            "[1] 39376   277"
                        ]
                    },
                    "metadata": {},
                    "output_type": "display_data"
                },
                {
                    "data": {
                        "text/html": [
                            "<table class=\"dataframe\">\n",
                            "<caption>A data.frame: 6 \u00d7 277</caption>\n",
                            "<thead>\n",
                            "\t<tr><th></th><th scope=col>GeneID</th><th scope=col>GSM4610662</th><th scope=col>GSM4610663</th><th scope=col>GSM1185864</th><th scope=col>GSM1185865</th><th scope=col>GSM1185866</th><th scope=col>GSM1185867</th><th scope=col>GSM1185868</th><th scope=col>GSM1185869</th><th scope=col>GSM1185870</th><th scope=col>\u22ef</th><th scope=col>GSM1186128</th><th scope=col>GSM1186129</th><th scope=col>GSM1186130</th><th scope=col>GSM1186131</th><th scope=col>GSM1186132</th><th scope=col>GSM1186133</th><th scope=col>GSM1186134</th><th scope=col>GSM1186135</th><th scope=col>GSM1186136</th><th scope=col>GSM1186137</th></tr>\n",
                            "\t<tr><th></th><th scope=col>&lt;int&gt;</th><th scope=col>&lt;int&gt;</th><th scope=col>&lt;int&gt;</th><th scope=col>&lt;int&gt;</th><th scope=col>&lt;int&gt;</th><th scope=col>&lt;int&gt;</th><th scope=col>&lt;int&gt;</th><th scope=col>&lt;int&gt;</th><th scope=col>&lt;int&gt;</th><th scope=col>&lt;int&gt;</th><th scope=col>\u22ef</th><th scope=col>&lt;int&gt;</th><th scope=col>&lt;int&gt;</th><th scope=col>&lt;int&gt;</th><th scope=col>&lt;int&gt;</th><th scope=col>&lt;int&gt;</th><th scope=col>&lt;int&gt;</th><th scope=col>&lt;int&gt;</th><th scope=col>&lt;int&gt;</th><th scope=col>&lt;int&gt;</th><th scope=col>&lt;int&gt;</th></tr>\n",
                            "</thead>\n",
                            "<tbody>\n",
                            "\t<tr><th scope=row>1</th><td> 1</td><td>515</td><td>543</td><td> 124</td><td>  88</td><td>  20</td><td>   77</td><td>  34</td><td>   63</td><td> 100</td><td>\u22ef</td><td>  164</td><td>   94</td><td> 103</td><td> 139</td><td>  130</td><td>  45</td><td>  145</td><td>   26</td><td>   71</td><td>  103</td></tr>\n",
                            "\t<tr><th scope=row>2</th><td> 2</td><td>  4</td><td>  3</td><td>7406</td><td>4694</td><td>9879</td><td>14567</td><td>6395</td><td>30121</td><td>5409</td><td>\u22ef</td><td>34234</td><td>10055</td><td>7369</td><td>9552</td><td>16688</td><td>7280</td><td>21142</td><td>10219</td><td> 6204</td><td>10714</td></tr>\n",
                            "\t<tr><th scope=row>3</th><td> 3</td><td>  0</td><td>  0</td><td>   5</td><td>   2</td><td>   2</td><td>    7</td><td>   2</td><td>    4</td><td>   3</td><td>\u22ef</td><td>    1</td><td>    5</td><td>   0</td><td>   3</td><td>    4</td><td>   3</td><td>    2</td><td>    1</td><td>    0</td><td>    4</td></tr>\n",
                            "\t<tr><th scope=row>4</th><td> 9</td><td>150</td><td>179</td><td>  57</td><td>  12</td><td>  50</td><td>   21</td><td>  14</td><td>   71</td><td>  57</td><td>\u22ef</td><td>   24</td><td>   22</td><td>  42</td><td>  59</td><td>   71</td><td>  23</td><td>   33</td><td>   13</td><td>   16</td><td>   62</td></tr>\n",
                            "\t<tr><th scope=row>5</th><td>10</td><td>  3</td><td>  2</td><td>  18</td><td>   3</td><td>   1</td><td>    2</td><td>   0</td><td>   33</td><td>  24</td><td>\u22ef</td><td>    2</td><td>   24</td><td>  24</td><td>  32</td><td>   13</td><td>   1</td><td>    7</td><td>    3</td><td>   16</td><td>    5</td></tr>\n",
                            "\t<tr><th scope=row>6</th><td>12</td><td>  0</td><td>  1</td><td>4403</td><td> 248</td><td> 773</td><td>  167</td><td>  29</td><td>13993</td><td>3840</td><td>\u22ef</td><td>20279</td><td>  503</td><td> 644</td><td>2300</td><td> 1721</td><td> 514</td><td>14871</td><td> 8055</td><td>13021</td><td> 1128</td></tr>\n",
                            "</tbody>\n",
                            "</table>\n"
                        ],
                        "text/latex": [
                            "A data.frame: 6 \u00d7 277\n",
                            "\\begin{tabular}{r|lllllllllllllllllllll}\n",
                            "  & GeneID & GSM4610662 & GSM4610663 & GSM1185864 & GSM1185865 & GSM1185866 & GSM1185867 & GSM1185868 & GSM1185869 & GSM1185870 & \u22ef & GSM1186128 & GSM1186129 & GSM1186130 & GSM1186131 & GSM1186132 & GSM1186133 & GSM1186134 & GSM1186135 & GSM1186136 & GSM1186137\\\\\n",
                            "  & <int> & <int> & <int> & <int> & <int> & <int> & <int> & <int> & <int> & <int> & \u22ef & <int> & <int> & <int> & <int> & <int> & <int> & <int> & <int> & <int> & <int>\\\\\n",
                            "\\hline\n",
                            "\t1 &  1 & 515 & 543 &  124 &   88 &   20 &    77 &   34 &    63 &  100 & \u22ef &   164 &    94 &  103 &  139 &   130 &   45 &   145 &    26 &    71 &   103\\\\\n",
                            "\t2 &  2 &   4 &   3 & 7406 & 4694 & 9879 & 14567 & 6395 & 30121 & 5409 & \u22ef & 34234 & 10055 & 7369 & 9552 & 16688 & 7280 & 21142 & 10219 &  6204 & 10714\\\\\n",
                            "\t3 &  3 &   0 &   0 &    5 &    2 &    2 &     7 &    2 &     4 &    3 & \u22ef &     1 &     5 &    0 &    3 &     4 &    3 &     2 &     1 &     0 &     4\\\\\n",
                            "\t4 &  9 & 150 & 179 &   57 &   12 &   50 &    21 &   14 &    71 &   57 & \u22ef &    24 &    22 &   42 &   59 &    71 &   23 &    33 &    13 &    16 &    62\\\\\n",
                            "\t5 & 10 &   3 &   2 &   18 &    3 &    1 &     2 &    0 &    33 &   24 & \u22ef &     2 &    24 &   24 &   32 &    13 &    1 &     7 &     3 &    16 &     5\\\\\n",
                            "\t6 & 12 &   0 &   1 & 4403 &  248 &  773 &   167 &   29 & 13993 & 3840 & \u22ef & 20279 &   503 &  644 & 2300 &  1721 &  514 & 14871 &  8055 & 13021 &  1128\\\\\n",
                            "\\end{tabular}\n"
                        ],
                        "text/markdown": [
                            "\n",
                            "A data.frame: 6 \u00d7 277\n",
                            "\n",
                            "| <!--/--> | GeneID &lt;int&gt; | GSM4610662 &lt;int&gt; | GSM4610663 &lt;int&gt; | GSM1185864 &lt;int&gt; | GSM1185865 &lt;int&gt; | GSM1185866 &lt;int&gt; | GSM1185867 &lt;int&gt; | GSM1185868 &lt;int&gt; | GSM1185869 &lt;int&gt; | GSM1185870 &lt;int&gt; | \u22ef \u22ef | GSM1186128 &lt;int&gt; | GSM1186129 &lt;int&gt; | GSM1186130 &lt;int&gt; | GSM1186131 &lt;int&gt; | GSM1186132 &lt;int&gt; | GSM1186133 &lt;int&gt; | GSM1186134 &lt;int&gt; | GSM1186135 &lt;int&gt; | GSM1186136 &lt;int&gt; | GSM1186137 &lt;int&gt; |\n",
                            "|---|---|---|---|---|---|---|---|---|---|---|---|---|---|---|---|---|---|---|---|---|---|\n",
                            "| 1 |  1 | 515 | 543 |  124 |   88 |   20 |    77 |   34 |    63 |  100 | \u22ef |   164 |    94 |  103 |  139 |   130 |   45 |   145 |    26 |    71 |   103 |\n",
                            "| 2 |  2 |   4 |   3 | 7406 | 4694 | 9879 | 14567 | 6395 | 30121 | 5409 | \u22ef | 34234 | 10055 | 7369 | 9552 | 16688 | 7280 | 21142 | 10219 |  6204 | 10714 |\n",
                            "| 3 |  3 |   0 |   0 |    5 |    2 |    2 |     7 |    2 |     4 |    3 | \u22ef |     1 |     5 |    0 |    3 |     4 |    3 |     2 |     1 |     0 |     4 |\n",
                            "| 4 |  9 | 150 | 179 |   57 |   12 |   50 |    21 |   14 |    71 |   57 | \u22ef |    24 |    22 |   42 |   59 |    71 |   23 |    33 |    13 |    16 |    62 |\n",
                            "| 5 | 10 |   3 |   2 |   18 |    3 |    1 |     2 |    0 |    33 |   24 | \u22ef |     2 |    24 |   24 |   32 |    13 |    1 |     7 |     3 |    16 |     5 |\n",
                            "| 6 | 12 |   0 |   1 | 4403 |  248 |  773 |   167 |   29 | 13993 | 3840 | \u22ef | 20279 |   503 |  644 | 2300 |  1721 |  514 | 14871 |  8055 | 13021 |  1128 |\n",
                            "\n"
                        ],
                        "text/plain": [
                            "  GeneID GSM4610662 GSM4610663 GSM1185864 GSM1185865 GSM1185866 GSM1185867\n",
                            "1  1     515        543         124         88         20          77     \n",
                            "2  2       4          3        7406       4694       9879       14567     \n",
                            "3  3       0          0           5          2          2           7     \n",
                            "4  9     150        179          57         12         50          21     \n",
                            "5 10       3          2          18          3          1           2     \n",
                            "6 12       0          1        4403        248        773         167     \n",
                            "  GSM1185868 GSM1185869 GSM1185870 \u22ef GSM1186128 GSM1186129 GSM1186130\n",
                            "1   34          63       100       \u22ef   164         94       103      \n",
                            "2 6395       30121      5409       \u22ef 34234      10055      7369      \n",
                            "3    2           4         3       \u22ef     1          5         0      \n",
                            "4   14          71        57       \u22ef    24         22        42      \n",
                            "5    0          33        24       \u22ef     2         24        24      \n",
                            "6   29       13993      3840       \u22ef 20279        503       644      \n",
                            "  GSM1186131 GSM1186132 GSM1186133 GSM1186134 GSM1186135 GSM1186136 GSM1186137\n",
                            "1  139         130        45         145         26         71        103     \n",
                            "2 9552       16688      7280       21142      10219       6204      10714     \n",
                            "3    3           4         3           2          1          0          4     \n",
                            "4   59          71        23          33         13         16         62     \n",
                            "5   32          13         1           7          3         16          5     \n",
                            "6 2300        1721       514       14871       8055      13021       1128     "
                        ]
                    },
                    "metadata": {},
                    "output_type": "display_data"
                }
            ],
            "source": [
                "dataset1 <- read.table(\"../data/U118mg/GSE152291_raw_counts_GRCh38.p13_NCBI.tsv\", header=TRUE, sep=\"\\t\")\n",
                "dataset2 <- read.table(\"../data/U118mg/GSE48865_raw_counts_GRCh38.p13_NCBI.tsv\", header=TRUE, sep=\"\\t\")\n",
                "\n",
                "# keep only GSM4610662 and GSM4610663 columns from dataset1\n",
                "dataset1 <- dataset1 %>% dplyr::select(GeneID,GSM4610662, GSM4610663)\n",
                "dim(dataset1)\n",
                "dim(dataset2)\n",
                "# combine the two datasets \n",
                "merged_dataset <- merge(dataset1, dataset2, by=\"GeneID\", all=TRUE)\n",
                "dim(merged_dataset)\n",
                "head(merged_dataset)"
            ]
        },
        {
            "cell_type": "code",
            "execution_count": 4,
            "id": "27861b16",
            "metadata": {
                "execution": {
                    "iopub.execute_input": "2025-02-27T19:20:54.867679Z",
                    "iopub.status.busy": "2025-02-27T19:20:54.867072Z",
                    "iopub.status.idle": "2025-02-27T19:20:54.872889Z",
                    "shell.execute_reply": "2025-02-27T19:20:54.872207Z"
                },
                "papermill": {
                    "duration": 0.00944,
                    "end_time": "2025-02-27T19:20:54.873692",
                    "exception": false,
                    "start_time": "2025-02-27T19:20:54.864252",
                    "status": "completed"
                },
                "tags": [],
                "vscode": {
                    "languageId": "r"
                }
            },
            "outputs": [],
            "source": [
                "genes <- c(\n",
                "    \"GSDMA\",\n",
                "    \"GSDMB\",\n",
                "    \"GSDMC\",\n",
                "    \"GSDMD\",\n",
                "    \"GSDME\",\n",
                "    \"TLR4\",\n",
                "    \"TLR5\",\n",
                "    \"CASP1\",\n",
                "    \"CASP2\",\n",
                "    \"CASP3\",\n",
                "    \"CASP4\",\n",
                "    \"CASP5\",\n",
                "    \"CASP6\",\n",
                "    \"CASP7\",\n",
                "    \"CASP8\",\n",
                "    \"CASP9\",\n",
                "    \"CASP10\",\n",
                "    \"CASP11\"\n",
                ")\n"
            ]
        },
        {
            "cell_type": "code",
            "execution_count": 5,
            "id": "00debfca",
            "metadata": {
                "execution": {
                    "iopub.execute_input": "2025-02-27T19:20:54.879118Z",
                    "iopub.status.busy": "2025-02-27T19:20:54.878396Z",
                    "iopub.status.idle": "2025-02-27T19:20:57.042158Z",
                    "shell.execute_reply": "2025-02-27T19:20:57.041336Z"
                },
                "papermill": {
                    "duration": 2.167307,
                    "end_time": "2025-02-27T19:20:57.043030",
                    "exception": false,
                    "start_time": "2025-02-27T19:20:54.875723",
                    "status": "completed"
                },
                "tags": [],
                "vscode": {
                    "languageId": "r"
                }
            },
            "outputs": [
                {
                    "data": {
                        "text/html": [
                            "<table class=\"dataframe\">\n",
                            "<caption>A data.frame: 6 \u00d7 3</caption>\n",
                            "<thead>\n",
                            "\t<tr><th></th><th scope=col>hgnc_symbol</th><th scope=col>entrezgene_id</th><th scope=col>transcript_length</th></tr>\n",
                            "\t<tr><th></th><th scope=col>&lt;chr&gt;</th><th scope=col>&lt;int&gt;</th><th scope=col>&lt;int&gt;</th></tr>\n",
                            "</thead>\n",
                            "<tbody>\n",
                            "\t<tr><th scope=row>1</th><td>CASP1</td><td>834</td><td>2505</td></tr>\n",
                            "\t<tr><th scope=row>2</th><td>CASP1</td><td>834</td><td> 832</td></tr>\n",
                            "\t<tr><th scope=row>3</th><td>CASP1</td><td>834</td><td> 424</td></tr>\n",
                            "\t<tr><th scope=row>4</th><td>CASP1</td><td>834</td><td>1061</td></tr>\n",
                            "\t<tr><th scope=row>5</th><td>CASP1</td><td>834</td><td>1521</td></tr>\n",
                            "\t<tr><th scope=row>6</th><td>CASP1</td><td>834</td><td>1307</td></tr>\n",
                            "</tbody>\n",
                            "</table>\n"
                        ],
                        "text/latex": [
                            "A data.frame: 6 \u00d7 3\n",
                            "\\begin{tabular}{r|lll}\n",
                            "  & hgnc\\_symbol & entrezgene\\_id & transcript\\_length\\\\\n",
                            "  & <chr> & <int> & <int>\\\\\n",
                            "\\hline\n",
                            "\t1 & CASP1 & 834 & 2505\\\\\n",
                            "\t2 & CASP1 & 834 &  832\\\\\n",
                            "\t3 & CASP1 & 834 &  424\\\\\n",
                            "\t4 & CASP1 & 834 & 1061\\\\\n",
                            "\t5 & CASP1 & 834 & 1521\\\\\n",
                            "\t6 & CASP1 & 834 & 1307\\\\\n",
                            "\\end{tabular}\n"
                        ],
                        "text/markdown": [
                            "\n",
                            "A data.frame: 6 \u00d7 3\n",
                            "\n",
                            "| <!--/--> | hgnc_symbol &lt;chr&gt; | entrezgene_id &lt;int&gt; | transcript_length &lt;int&gt; |\n",
                            "|---|---|---|---|\n",
                            "| 1 | CASP1 | 834 | 2505 |\n",
                            "| 2 | CASP1 | 834 |  832 |\n",
                            "| 3 | CASP1 | 834 |  424 |\n",
                            "| 4 | CASP1 | 834 | 1061 |\n",
                            "| 5 | CASP1 | 834 | 1521 |\n",
                            "| 6 | CASP1 | 834 | 1307 |\n",
                            "\n"
                        ],
                        "text/plain": [
                            "  hgnc_symbol entrezgene_id transcript_length\n",
                            "1 CASP1       834           2505             \n",
                            "2 CASP1       834            832             \n",
                            "3 CASP1       834            424             \n",
                            "4 CASP1       834           1061             \n",
                            "5 CASP1       834           1521             \n",
                            "6 CASP1       834           1307             "
                        ]
                    },
                    "metadata": {},
                    "output_type": "display_data"
                }
            ],
            "source": [
                "mart <- useMart(biomart=\"ENSEMBL_MART_ENSEMBL\", dataset=\"hsapiens_gene_ensembl\")\n",
                "\n",
                "# run and if if an error occurs, try again\n",
                "while (TRUE) {\n",
                "    tryCatch({\n",
                "        entrezgene_id_list <- getBM(\n",
                "            mart = mart,\n",
                "            attributes = c('hgnc_symbol','entrezgene_id', \"transcript_length\"),\n",
                "            filter = 'hgnc_symbol',\n",
                "            values = genes,\n",
                "            uniqueRows = TRUE)\n",
                "        break\n",
                "    }, error = function(e) {\n",
                "        print(e)\n",
                "    })\n",
                "}\n",
                "head(entrezgene_id_list)"
            ]
        },
        {
            "cell_type": "code",
            "execution_count": 6,
            "id": "ea79c3d6",
            "metadata": {
                "execution": {
                    "iopub.execute_input": "2025-02-27T19:20:57.048289Z",
                    "iopub.status.busy": "2025-02-27T19:20:57.047540Z",
                    "iopub.status.idle": "2025-02-27T19:20:57.116787Z",
                    "shell.execute_reply": "2025-02-27T19:20:57.115901Z"
                },
                "papermill": {
                    "duration": 0.072575,
                    "end_time": "2025-02-27T19:20:57.117660",
                    "exception": false,
                    "start_time": "2025-02-27T19:20:57.045085",
                    "status": "completed"
                },
                "tags": [],
                "vscode": {
                    "languageId": "r"
                }
            },
            "outputs": [
                {
                    "name": "stderr",
                    "output_type": "stream",
                    "text": [
                        "\u001b[1m\u001b[22m`summarise()` has grouped output by 'hgnc_symbol'. You can override using the `.groups` argument.\n"
                    ]
                }
            ],
            "source": [
                "\n",
                "# get the average transcript length for each gene group by hgnc_symbol and entrezgene_id\n",
                "entrezgene_id_list <- entrezgene_id_list %>% \n",
                "    group_by(hgnc_symbol, entrezgene_id) %>%\n",
                "    summarise(transcript_length = mean(transcript_length)) %>%\n",
                "    ungroup()\n",
                "    # get only genes that are present in the entrezgene_id_column of the entrezgene_id_list\n",
                "merged_dataset <- merged_dataset[merged_dataset$GeneID %in% entrezgene_id_list$entrezgene_id,]\n",
                "\n",
                "# convert entrezgene_id_list from a tibble to a data.frame\n",
                "entrezgene_id_list <- as.data.frame(entrezgene_id_list)\n",
                "merged_dataset <- as.data.frame(merged_dataset)\n",
                "merged_dataset$entrezgene_id <- as.character(merged_dataset$GeneID)"
            ]
        },
        {
            "cell_type": "code",
            "execution_count": 7,
            "id": "0740bb1f",
            "metadata": {
                "execution": {
                    "iopub.execute_input": "2025-02-27T19:20:57.123908Z",
                    "iopub.status.busy": "2025-02-27T19:20:57.123280Z",
                    "iopub.status.idle": "2025-02-27T19:20:57.195556Z",
                    "shell.execute_reply": "2025-02-27T19:20:57.194674Z"
                },
                "papermill": {
                    "duration": 0.076198,
                    "end_time": "2025-02-27T19:20:57.196446",
                    "exception": false,
                    "start_time": "2025-02-27T19:20:57.120248",
                    "status": "completed"
                },
                "tags": [],
                "vscode": {
                    "languageId": "r"
                }
            },
            "outputs": [
                {
                    "data": {
                        "text/html": [
                            "<table class=\"dataframe\">\n",
                            "<caption>A data.frame: 1 \u00d7 278</caption>\n",
                            "<thead>\n",
                            "\t<tr><th></th><th scope=col>GeneID</th><th scope=col>GSM4610662</th><th scope=col>GSM4610663</th><th scope=col>GSM1185864</th><th scope=col>GSM1185865</th><th scope=col>GSM1185866</th><th scope=col>GSM1185867</th><th scope=col>GSM1185868</th><th scope=col>GSM1185869</th><th scope=col>GSM1185870</th><th scope=col>\u22ef</th><th scope=col>GSM1186129</th><th scope=col>GSM1186130</th><th scope=col>GSM1186131</th><th scope=col>GSM1186132</th><th scope=col>GSM1186133</th><th scope=col>GSM1186134</th><th scope=col>GSM1186135</th><th scope=col>GSM1186136</th><th scope=col>GSM1186137</th><th scope=col>entrezgene_id</th></tr>\n",
                            "\t<tr><th></th><th scope=col>&lt;int&gt;</th><th scope=col>&lt;int&gt;</th><th scope=col>&lt;int&gt;</th><th scope=col>&lt;int&gt;</th><th scope=col>&lt;int&gt;</th><th scope=col>&lt;int&gt;</th><th scope=col>&lt;int&gt;</th><th scope=col>&lt;int&gt;</th><th scope=col>&lt;int&gt;</th><th scope=col>&lt;int&gt;</th><th scope=col>\u22ef</th><th scope=col>&lt;int&gt;</th><th scope=col>&lt;int&gt;</th><th scope=col>&lt;int&gt;</th><th scope=col>&lt;int&gt;</th><th scope=col>&lt;int&gt;</th><th scope=col>&lt;int&gt;</th><th scope=col>&lt;int&gt;</th><th scope=col>&lt;int&gt;</th><th scope=col>&lt;int&gt;</th><th scope=col>&lt;chr&gt;</th></tr>\n",
                            "</thead>\n",
                            "<tbody>\n",
                            "\t<tr><th scope=row>598</th><td>834</td><td>397</td><td>517</td><td>246</td><td>69</td><td>44</td><td>161</td><td>70</td><td>493</td><td>116</td><td>\u22ef</td><td>122</td><td>68</td><td>175</td><td>375</td><td>100</td><td>469</td><td>187</td><td>129</td><td>147</td><td>834</td></tr>\n",
                            "</tbody>\n",
                            "</table>\n"
                        ],
                        "text/latex": [
                            "A data.frame: 1 \u00d7 278\n",
                            "\\begin{tabular}{r|lllllllllllllllllllll}\n",
                            "  & GeneID & GSM4610662 & GSM4610663 & GSM1185864 & GSM1185865 & GSM1185866 & GSM1185867 & GSM1185868 & GSM1185869 & GSM1185870 & \u22ef & GSM1186129 & GSM1186130 & GSM1186131 & GSM1186132 & GSM1186133 & GSM1186134 & GSM1186135 & GSM1186136 & GSM1186137 & entrezgene\\_id\\\\\n",
                            "  & <int> & <int> & <int> & <int> & <int> & <int> & <int> & <int> & <int> & <int> & \u22ef & <int> & <int> & <int> & <int> & <int> & <int> & <int> & <int> & <int> & <chr>\\\\\n",
                            "\\hline\n",
                            "\t598 & 834 & 397 & 517 & 246 & 69 & 44 & 161 & 70 & 493 & 116 & \u22ef & 122 & 68 & 175 & 375 & 100 & 469 & 187 & 129 & 147 & 834\\\\\n",
                            "\\end{tabular}\n"
                        ],
                        "text/markdown": [
                            "\n",
                            "A data.frame: 1 \u00d7 278\n",
                            "\n",
                            "| <!--/--> | GeneID &lt;int&gt; | GSM4610662 &lt;int&gt; | GSM4610663 &lt;int&gt; | GSM1185864 &lt;int&gt; | GSM1185865 &lt;int&gt; | GSM1185866 &lt;int&gt; | GSM1185867 &lt;int&gt; | GSM1185868 &lt;int&gt; | GSM1185869 &lt;int&gt; | GSM1185870 &lt;int&gt; | \u22ef \u22ef | GSM1186129 &lt;int&gt; | GSM1186130 &lt;int&gt; | GSM1186131 &lt;int&gt; | GSM1186132 &lt;int&gt; | GSM1186133 &lt;int&gt; | GSM1186134 &lt;int&gt; | GSM1186135 &lt;int&gt; | GSM1186136 &lt;int&gt; | GSM1186137 &lt;int&gt; | entrezgene_id &lt;chr&gt; |\n",
                            "|---|---|---|---|---|---|---|---|---|---|---|---|---|---|---|---|---|---|---|---|---|---|\n",
                            "| 598 | 834 | 397 | 517 | 246 | 69 | 44 | 161 | 70 | 493 | 116 | \u22ef | 122 | 68 | 175 | 375 | 100 | 469 | 187 | 129 | 147 | 834 |\n",
                            "\n"
                        ],
                        "text/plain": [
                            "    GeneID GSM4610662 GSM4610663 GSM1185864 GSM1185865 GSM1185866 GSM1185867\n",
                            "598 834    397        517        246        69         44         161       \n",
                            "    GSM1185868 GSM1185869 GSM1185870 \u22ef GSM1186129 GSM1186130 GSM1186131\n",
                            "598 70         493        116        \u22ef 122        68         175       \n",
                            "    GSM1186132 GSM1186133 GSM1186134 GSM1186135 GSM1186136 GSM1186137\n",
                            "598 375        100        469        187        129        147       \n",
                            "    entrezgene_id\n",
                            "598 834          "
                        ]
                    },
                    "metadata": {},
                    "output_type": "display_data"
                },
                {
                    "data": {
                        "text/html": [
                            "<table class=\"dataframe\">\n",
                            "<caption>A data.frame: 1 \u00d7 3</caption>\n",
                            "<thead>\n",
                            "\t<tr><th></th><th scope=col>hgnc_symbol</th><th scope=col>entrezgene_id</th><th scope=col>transcript_length</th></tr>\n",
                            "\t<tr><th></th><th scope=col>&lt;chr&gt;</th><th scope=col>&lt;int&gt;</th><th scope=col>&lt;dbl&gt;</th></tr>\n",
                            "</thead>\n",
                            "<tbody>\n",
                            "\t<tr><th scope=row>1</th><td>CASP1</td><td>834</td><td>1429.045</td></tr>\n",
                            "</tbody>\n",
                            "</table>\n"
                        ],
                        "text/latex": [
                            "A data.frame: 1 \u00d7 3\n",
                            "\\begin{tabular}{r|lll}\n",
                            "  & hgnc\\_symbol & entrezgene\\_id & transcript\\_length\\\\\n",
                            "  & <chr> & <int> & <dbl>\\\\\n",
                            "\\hline\n",
                            "\t1 & CASP1 & 834 & 1429.045\\\\\n",
                            "\\end{tabular}\n"
                        ],
                        "text/markdown": [
                            "\n",
                            "A data.frame: 1 \u00d7 3\n",
                            "\n",
                            "| <!--/--> | hgnc_symbol &lt;chr&gt; | entrezgene_id &lt;int&gt; | transcript_length &lt;dbl&gt; |\n",
                            "|---|---|---|---|\n",
                            "| 1 | CASP1 | 834 | 1429.045 |\n",
                            "\n"
                        ],
                        "text/plain": [
                            "  hgnc_symbol entrezgene_id transcript_length\n",
                            "1 CASP1       834           1429.045         "
                        ]
                    },
                    "metadata": {},
                    "output_type": "display_data"
                }
            ],
            "source": [
                "head(merged_dataset,1)\n",
                "head(entrezgene_id_list,1)"
            ]
        },
        {
            "cell_type": "code",
            "execution_count": 8,
            "id": "864f7944",
            "metadata": {
                "execution": {
                    "iopub.execute_input": "2025-02-27T19:20:57.204700Z",
                    "iopub.status.busy": "2025-02-27T19:20:57.203688Z",
                    "iopub.status.idle": "2025-02-27T19:20:57.217586Z",
                    "shell.execute_reply": "2025-02-27T19:20:57.216524Z"
                },
                "papermill": {
                    "duration": 0.019228,
                    "end_time": "2025-02-27T19:20:57.218657",
                    "exception": false,
                    "start_time": "2025-02-27T19:20:57.199429",
                    "status": "completed"
                },
                "tags": [],
                "vscode": {
                    "languageId": "r"
                }
            },
            "outputs": [
                {
                    "data": {
                        "text/html": [
                            "<style>\n",
                            ".list-inline {list-style: none; margin:0; padding: 0}\n",
                            ".list-inline>li {display: inline-block}\n",
                            ".list-inline>li:not(:last-child)::after {content: \"\\00b7\"; padding: 0 .5ex}\n",
                            "</style>\n",
                            "<ol class=list-inline><li>'834'</li><li>'835'</li><li>'836'</li><li>'837'</li><li>'838'</li><li>'839'</li><li>'840'</li><li>'841'</li><li>'842'</li><li>'843'</li><li>'1687'</li><li>'7099'</li><li>'7100'</li><li>'55876'</li><li>'56169'</li><li>'79792'</li><li>'284110'</li></ol>\n"
                        ],
                        "text/latex": [
                            "\\begin{enumerate*}\n",
                            "\\item '834'\n",
                            "\\item '835'\n",
                            "\\item '836'\n",
                            "\\item '837'\n",
                            "\\item '838'\n",
                            "\\item '839'\n",
                            "\\item '840'\n",
                            "\\item '841'\n",
                            "\\item '842'\n",
                            "\\item '843'\n",
                            "\\item '1687'\n",
                            "\\item '7099'\n",
                            "\\item '7100'\n",
                            "\\item '55876'\n",
                            "\\item '56169'\n",
                            "\\item '79792'\n",
                            "\\item '284110'\n",
                            "\\end{enumerate*}\n"
                        ],
                        "text/markdown": [
                            "1. '834'\n",
                            "2. '835'\n",
                            "3. '836'\n",
                            "4. '837'\n",
                            "5. '838'\n",
                            "6. '839'\n",
                            "7. '840'\n",
                            "8. '841'\n",
                            "9. '842'\n",
                            "10. '843'\n",
                            "11. '1687'\n",
                            "12. '7099'\n",
                            "13. '7100'\n",
                            "14. '55876'\n",
                            "15. '56169'\n",
                            "16. '79792'\n",
                            "17. '284110'\n",
                            "\n",
                            "\n"
                        ],
                        "text/plain": [
                            " [1] \"834\"    \"835\"    \"836\"    \"837\"    \"838\"    \"839\"    \"840\"    \"841\"   \n",
                            " [9] \"842\"    \"843\"    \"1687\"   \"7099\"   \"7100\"   \"55876\"  \"56169\"  \"79792\" \n",
                            "[17] \"284110\""
                        ]
                    },
                    "metadata": {},
                    "output_type": "display_data"
                },
                {
                    "data": {
                        "text/html": [
                            "<style>\n",
                            ".list-inline {list-style: none; margin:0; padding: 0}\n",
                            ".list-inline>li {display: inline-block}\n",
                            ".list-inline>li:not(:last-child)::after {content: \"\\00b7\"; padding: 0 .5ex}\n",
                            "</style>\n",
                            "<ol class=list-inline><li>834</li><li>843</li><li>835</li><li>836</li><li>837</li><li>838</li><li>839</li><li>840</li><li>841</li><li>842</li><li>284110</li><li>55876</li><li>56169</li><li>79792</li><li>1687</li><li>7099</li><li>7100</li></ol>\n"
                        ],
                        "text/latex": [
                            "\\begin{enumerate*}\n",
                            "\\item 834\n",
                            "\\item 843\n",
                            "\\item 835\n",
                            "\\item 836\n",
                            "\\item 837\n",
                            "\\item 838\n",
                            "\\item 839\n",
                            "\\item 840\n",
                            "\\item 841\n",
                            "\\item 842\n",
                            "\\item 284110\n",
                            "\\item 55876\n",
                            "\\item 56169\n",
                            "\\item 79792\n",
                            "\\item 1687\n",
                            "\\item 7099\n",
                            "\\item 7100\n",
                            "\\end{enumerate*}\n"
                        ],
                        "text/markdown": [
                            "1. 834\n",
                            "2. 843\n",
                            "3. 835\n",
                            "4. 836\n",
                            "5. 837\n",
                            "6. 838\n",
                            "7. 839\n",
                            "8. 840\n",
                            "9. 841\n",
                            "10. 842\n",
                            "11. 284110\n",
                            "12. 55876\n",
                            "13. 56169\n",
                            "14. 79792\n",
                            "15. 1687\n",
                            "16. 7099\n",
                            "17. 7100\n",
                            "\n",
                            "\n"
                        ],
                        "text/plain": [
                            " [1]    834    843    835    836    837    838    839    840    841    842\n",
                            "[11] 284110  55876  56169  79792   1687   7099   7100"
                        ]
                    },
                    "metadata": {},
                    "output_type": "display_data"
                }
            ],
            "source": [
                "merged_dataset$entrezgene_id\n",
                "entrezgene_id_list$entrezgene_id"
            ]
        },
        {
            "cell_type": "code",
            "execution_count": 9,
            "id": "5eb4de40",
            "metadata": {
                "execution": {
                    "iopub.execute_input": "2025-02-27T19:20:57.225280Z",
                    "iopub.status.busy": "2025-02-27T19:20:57.224370Z",
                    "iopub.status.idle": "2025-02-27T19:20:57.236789Z",
                    "shell.execute_reply": "2025-02-27T19:20:57.235667Z"
                },
                "papermill": {
                    "duration": 0.016728,
                    "end_time": "2025-02-27T19:20:57.237910",
                    "exception": false,
                    "start_time": "2025-02-27T19:20:57.221182",
                    "status": "completed"
                },
                "tags": [],
                "vscode": {
                    "languageId": "r"
                }
            },
            "outputs": [],
            "source": [
                "# merge the two datasets on the entrezgene_id column \n",
                "merged_dataset <- merge(merged_dataset, entrezgene_id_list, by=\"entrezgene_id\")"
            ]
        },
        {
            "cell_type": "code",
            "execution_count": 10,
            "id": "a37d6232",
            "metadata": {
                "execution": {
                    "iopub.execute_input": "2025-02-27T19:20:57.245437Z",
                    "iopub.status.busy": "2025-02-27T19:20:57.244769Z",
                    "iopub.status.idle": "2025-02-27T19:20:57.271690Z",
                    "shell.execute_reply": "2025-02-27T19:20:57.270168Z"
                },
                "papermill": {
                    "duration": 0.032138,
                    "end_time": "2025-02-27T19:20:57.273030",
                    "exception": false,
                    "start_time": "2025-02-27T19:20:57.240892",
                    "status": "completed"
                },
                "tags": [],
                "vscode": {
                    "languageId": "r"
                }
            },
            "outputs": [],
            "source": [
                "# get the counts\n",
                "# define the fpkm for each column that begins with GSM\n",
                "for (i in 1:ncol(merged_dataset)) {\n",
                "if (grepl(\"GSM\", colnames(merged_dataset)[i])) {\n",
                " merged_dataset[,colnames(merged_dataset)[i]] <- merged_dataset[,colnames(merged_dataset)[i]] / merged_dataset$transcript_length\n",
                "}\n",
                "}\n"
            ]
        },
        {
            "cell_type": "code",
            "execution_count": 11,
            "id": "d389210f",
            "metadata": {
                "execution": {
                    "iopub.execute_input": "2025-02-27T19:20:57.281519Z",
                    "iopub.status.busy": "2025-02-27T19:20:57.280486Z",
                    "iopub.status.idle": "2025-02-27T19:20:57.363420Z",
                    "shell.execute_reply": "2025-02-27T19:20:57.362550Z"
                },
                "papermill": {
                    "duration": 0.087898,
                    "end_time": "2025-02-27T19:20:57.364341",
                    "exception": false,
                    "start_time": "2025-02-27T19:20:57.276443",
                    "status": "completed"
                },
                "tags": [],
                "vscode": {
                    "languageId": "r"
                }
            },
            "outputs": [
                {
                    "data": {
                        "text/html": [
                            "<table class=\"dataframe\">\n",
                            "<caption>A tibble: 6 \u00d7 279</caption>\n",
                            "<thead>\n",
                            "\t<tr><th scope=col>entrezgene_id</th><th scope=col>GSM4610662</th><th scope=col>GSM4610663</th><th scope=col>GSM1185864</th><th scope=col>GSM1185865</th><th scope=col>GSM1185866</th><th scope=col>GSM1185867</th><th scope=col>GSM1185868</th><th scope=col>GSM1185869</th><th scope=col>GSM1185870</th><th scope=col>\u22ef</th><th scope=col>GSM1186130</th><th scope=col>GSM1186131</th><th scope=col>GSM1186132</th><th scope=col>GSM1186133</th><th scope=col>GSM1186134</th><th scope=col>GSM1186135</th><th scope=col>GSM1186136</th><th scope=col>GSM1186137</th><th scope=col>hgnc_symbol</th><th scope=col>transcript_length</th></tr>\n",
                            "\t<tr><th scope=col>&lt;chr&gt;</th><th scope=col>&lt;dbl&gt;</th><th scope=col>&lt;dbl&gt;</th><th scope=col>&lt;dbl&gt;</th><th scope=col>&lt;dbl&gt;</th><th scope=col>&lt;dbl&gt;</th><th scope=col>&lt;dbl&gt;</th><th scope=col>&lt;dbl&gt;</th><th scope=col>&lt;dbl&gt;</th><th scope=col>&lt;dbl&gt;</th><th scope=col>\u22ef</th><th scope=col>&lt;dbl&gt;</th><th scope=col>&lt;dbl&gt;</th><th scope=col>&lt;dbl&gt;</th><th scope=col>&lt;dbl&gt;</th><th scope=col>&lt;dbl&gt;</th><th scope=col>&lt;dbl&gt;</th><th scope=col>&lt;dbl&gt;</th><th scope=col>&lt;dbl&gt;</th><th scope=col>&lt;chr&gt;</th><th scope=col>&lt;dbl&gt;</th></tr>\n",
                            "</thead>\n",
                            "<tbody>\n",
                            "\t<tr><td>1687  </td><td>0.6941307614</td><td>0.733485194</td><td>0.81830078</td><td>0.5183928658</td><td>0.5143217176</td><td>0.392865798</td><td>0.468182038</td><td>0.614743372</td><td>0.59845878</td><td>\u22ef</td><td>0.53196336</td><td>0.83458537</td><td>1.556535647</td><td>0.688024039</td><td>0.606601076</td><td>0.5367130325</td><td>0.263267581</td><td>0.726699947</td><td>GSDME</td><td>1473.786</td></tr>\n",
                            "\t<tr><td>284110</td><td>0.0007095553</td><td>0.002838221</td><td>0.02199622</td><td>0.0007095553</td><td>0.0007095553</td><td>0.003547777</td><td>0.002128666</td><td>0.002128666</td><td>0.02341533</td><td>\u22ef</td><td>0.02412488</td><td>0.05605487</td><td>0.007805109</td><td>0.001419111</td><td>0.007805109</td><td>0.0078051088</td><td>0.005676443</td><td>0.000000000</td><td>GSDMA</td><td>1409.333</td></tr>\n",
                            "\t<tr><td>55876 </td><td>0.1463725074</td><td>0.160514779</td><td>0.05303352</td><td>0.0516192901</td><td>0.0905105360</td><td>0.052326404</td><td>0.056569085</td><td>0.069297129</td><td>0.06717579</td><td>\u22ef</td><td>0.07071136</td><td>0.14849385</td><td>0.063640221</td><td>0.057276199</td><td>0.039598359</td><td>0.1760712770</td><td>0.050912176</td><td>0.258096450</td><td>GSDMB</td><td>1414.200</td></tr>\n",
                            "\t<tr><td>56169 </td><td>0.0046000511</td><td>0.010733453</td><td>0.05290059</td><td>0.0099667774</td><td>0.0007666752</td><td>0.003066701</td><td>0.000000000</td><td>0.045233836</td><td>0.06440072</td><td>\u22ef</td><td>0.05903399</td><td>0.07743419</td><td>0.075900843</td><td>0.001533350</td><td>0.015333504</td><td>0.0007666752</td><td>0.019933555</td><td>0.004600051</td><td>GSDMC</td><td>1304.333</td></tr>\n",
                            "\t<tr><td>7099  </td><td>0.0308620604</td><td>0.028290222</td><td>0.18992037</td><td>0.0579652802</td><td>0.1946683812</td><td>0.229289282</td><td>0.050051931</td><td>0.284682724</td><td>0.45185222</td><td>\u22ef</td><td>0.13670310</td><td>0.05855878</td><td>0.577674465</td><td>0.226717444</td><td>0.248676987</td><td>0.1194915673</td><td>0.125426579</td><td>0.108215045</td><td>TLR4 </td><td>5054.750</td></tr>\n",
                            "\t<tr><td>7100  </td><td>0.0030670927</td><td>0.002726305</td><td>0.02385517</td><td>0.0129499468</td><td>0.0061341853</td><td>0.027263046</td><td>0.006815761</td><td>0.072247071</td><td>0.02589989</td><td>\u22ef</td><td>0.02726305</td><td>0.03169329</td><td>0.147902023</td><td>0.020788072</td><td>0.058956337</td><td>0.0719062833</td><td>0.024195953</td><td>0.016017039</td><td>TLR5 </td><td>2934.375</td></tr>\n",
                            "</tbody>\n",
                            "</table>\n"
                        ],
                        "text/latex": [
                            "A tibble: 6 \u00d7 279\n",
                            "\\begin{tabular}{lllllllllllllllllllll}\n",
                            " entrezgene\\_id & GSM4610662 & GSM4610663 & GSM1185864 & GSM1185865 & GSM1185866 & GSM1185867 & GSM1185868 & GSM1185869 & GSM1185870 & \u22ef & GSM1186130 & GSM1186131 & GSM1186132 & GSM1186133 & GSM1186134 & GSM1186135 & GSM1186136 & GSM1186137 & hgnc\\_symbol & transcript\\_length\\\\\n",
                            " <chr> & <dbl> & <dbl> & <dbl> & <dbl> & <dbl> & <dbl> & <dbl> & <dbl> & <dbl> & \u22ef & <dbl> & <dbl> & <dbl> & <dbl> & <dbl> & <dbl> & <dbl> & <dbl> & <chr> & <dbl>\\\\\n",
                            "\\hline\n",
                            "\t 1687   & 0.6941307614 & 0.733485194 & 0.81830078 & 0.5183928658 & 0.5143217176 & 0.392865798 & 0.468182038 & 0.614743372 & 0.59845878 & \u22ef & 0.53196336 & 0.83458537 & 1.556535647 & 0.688024039 & 0.606601076 & 0.5367130325 & 0.263267581 & 0.726699947 & GSDME & 1473.786\\\\\n",
                            "\t 284110 & 0.0007095553 & 0.002838221 & 0.02199622 & 0.0007095553 & 0.0007095553 & 0.003547777 & 0.002128666 & 0.002128666 & 0.02341533 & \u22ef & 0.02412488 & 0.05605487 & 0.007805109 & 0.001419111 & 0.007805109 & 0.0078051088 & 0.005676443 & 0.000000000 & GSDMA & 1409.333\\\\\n",
                            "\t 55876  & 0.1463725074 & 0.160514779 & 0.05303352 & 0.0516192901 & 0.0905105360 & 0.052326404 & 0.056569085 & 0.069297129 & 0.06717579 & \u22ef & 0.07071136 & 0.14849385 & 0.063640221 & 0.057276199 & 0.039598359 & 0.1760712770 & 0.050912176 & 0.258096450 & GSDMB & 1414.200\\\\\n",
                            "\t 56169  & 0.0046000511 & 0.010733453 & 0.05290059 & 0.0099667774 & 0.0007666752 & 0.003066701 & 0.000000000 & 0.045233836 & 0.06440072 & \u22ef & 0.05903399 & 0.07743419 & 0.075900843 & 0.001533350 & 0.015333504 & 0.0007666752 & 0.019933555 & 0.004600051 & GSDMC & 1304.333\\\\\n",
                            "\t 7099   & 0.0308620604 & 0.028290222 & 0.18992037 & 0.0579652802 & 0.1946683812 & 0.229289282 & 0.050051931 & 0.284682724 & 0.45185222 & \u22ef & 0.13670310 & 0.05855878 & 0.577674465 & 0.226717444 & 0.248676987 & 0.1194915673 & 0.125426579 & 0.108215045 & TLR4  & 5054.750\\\\\n",
                            "\t 7100   & 0.0030670927 & 0.002726305 & 0.02385517 & 0.0129499468 & 0.0061341853 & 0.027263046 & 0.006815761 & 0.072247071 & 0.02589989 & \u22ef & 0.02726305 & 0.03169329 & 0.147902023 & 0.020788072 & 0.058956337 & 0.0719062833 & 0.024195953 & 0.016017039 & TLR5  & 2934.375\\\\\n",
                            "\\end{tabular}\n"
                        ],
                        "text/markdown": [
                            "\n",
                            "A tibble: 6 \u00d7 279\n",
                            "\n",
                            "| entrezgene_id &lt;chr&gt; | GSM4610662 &lt;dbl&gt; | GSM4610663 &lt;dbl&gt; | GSM1185864 &lt;dbl&gt; | GSM1185865 &lt;dbl&gt; | GSM1185866 &lt;dbl&gt; | GSM1185867 &lt;dbl&gt; | GSM1185868 &lt;dbl&gt; | GSM1185869 &lt;dbl&gt; | GSM1185870 &lt;dbl&gt; | \u22ef \u22ef | GSM1186130 &lt;dbl&gt; | GSM1186131 &lt;dbl&gt; | GSM1186132 &lt;dbl&gt; | GSM1186133 &lt;dbl&gt; | GSM1186134 &lt;dbl&gt; | GSM1186135 &lt;dbl&gt; | GSM1186136 &lt;dbl&gt; | GSM1186137 &lt;dbl&gt; | hgnc_symbol &lt;chr&gt; | transcript_length &lt;dbl&gt; |\n",
                            "|---|---|---|---|---|---|---|---|---|---|---|---|---|---|---|---|---|---|---|---|---|\n",
                            "| 1687   | 0.6941307614 | 0.733485194 | 0.81830078 | 0.5183928658 | 0.5143217176 | 0.392865798 | 0.468182038 | 0.614743372 | 0.59845878 | \u22ef | 0.53196336 | 0.83458537 | 1.556535647 | 0.688024039 | 0.606601076 | 0.5367130325 | 0.263267581 | 0.726699947 | GSDME | 1473.786 |\n",
                            "| 284110 | 0.0007095553 | 0.002838221 | 0.02199622 | 0.0007095553 | 0.0007095553 | 0.003547777 | 0.002128666 | 0.002128666 | 0.02341533 | \u22ef | 0.02412488 | 0.05605487 | 0.007805109 | 0.001419111 | 0.007805109 | 0.0078051088 | 0.005676443 | 0.000000000 | GSDMA | 1409.333 |\n",
                            "| 55876  | 0.1463725074 | 0.160514779 | 0.05303352 | 0.0516192901 | 0.0905105360 | 0.052326404 | 0.056569085 | 0.069297129 | 0.06717579 | \u22ef | 0.07071136 | 0.14849385 | 0.063640221 | 0.057276199 | 0.039598359 | 0.1760712770 | 0.050912176 | 0.258096450 | GSDMB | 1414.200 |\n",
                            "| 56169  | 0.0046000511 | 0.010733453 | 0.05290059 | 0.0099667774 | 0.0007666752 | 0.003066701 | 0.000000000 | 0.045233836 | 0.06440072 | \u22ef | 0.05903399 | 0.07743419 | 0.075900843 | 0.001533350 | 0.015333504 | 0.0007666752 | 0.019933555 | 0.004600051 | GSDMC | 1304.333 |\n",
                            "| 7099   | 0.0308620604 | 0.028290222 | 0.18992037 | 0.0579652802 | 0.1946683812 | 0.229289282 | 0.050051931 | 0.284682724 | 0.45185222 | \u22ef | 0.13670310 | 0.05855878 | 0.577674465 | 0.226717444 | 0.248676987 | 0.1194915673 | 0.125426579 | 0.108215045 | TLR4  | 5054.750 |\n",
                            "| 7100   | 0.0030670927 | 0.002726305 | 0.02385517 | 0.0129499468 | 0.0061341853 | 0.027263046 | 0.006815761 | 0.072247071 | 0.02589989 | \u22ef | 0.02726305 | 0.03169329 | 0.147902023 | 0.020788072 | 0.058956337 | 0.0719062833 | 0.024195953 | 0.016017039 | TLR5  | 2934.375 |\n",
                            "\n"
                        ],
                        "text/plain": [
                            "  entrezgene_id GSM4610662   GSM4610663  GSM1185864 GSM1185865   GSM1185866  \n",
                            "1 1687          0.6941307614 0.733485194 0.81830078 0.5183928658 0.5143217176\n",
                            "2 284110        0.0007095553 0.002838221 0.02199622 0.0007095553 0.0007095553\n",
                            "3 55876         0.1463725074 0.160514779 0.05303352 0.0516192901 0.0905105360\n",
                            "4 56169         0.0046000511 0.010733453 0.05290059 0.0099667774 0.0007666752\n",
                            "5 7099          0.0308620604 0.028290222 0.18992037 0.0579652802 0.1946683812\n",
                            "6 7100          0.0030670927 0.002726305 0.02385517 0.0129499468 0.0061341853\n",
                            "  GSM1185867  GSM1185868  GSM1185869  GSM1185870 \u22ef GSM1186130 GSM1186131\n",
                            "1 0.392865798 0.468182038 0.614743372 0.59845878 \u22ef 0.53196336 0.83458537\n",
                            "2 0.003547777 0.002128666 0.002128666 0.02341533 \u22ef 0.02412488 0.05605487\n",
                            "3 0.052326404 0.056569085 0.069297129 0.06717579 \u22ef 0.07071136 0.14849385\n",
                            "4 0.003066701 0.000000000 0.045233836 0.06440072 \u22ef 0.05903399 0.07743419\n",
                            "5 0.229289282 0.050051931 0.284682724 0.45185222 \u22ef 0.13670310 0.05855878\n",
                            "6 0.027263046 0.006815761 0.072247071 0.02589989 \u22ef 0.02726305 0.03169329\n",
                            "  GSM1186132  GSM1186133  GSM1186134  GSM1186135   GSM1186136  GSM1186137 \n",
                            "1 1.556535647 0.688024039 0.606601076 0.5367130325 0.263267581 0.726699947\n",
                            "2 0.007805109 0.001419111 0.007805109 0.0078051088 0.005676443 0.000000000\n",
                            "3 0.063640221 0.057276199 0.039598359 0.1760712770 0.050912176 0.258096450\n",
                            "4 0.075900843 0.001533350 0.015333504 0.0007666752 0.019933555 0.004600051\n",
                            "5 0.577674465 0.226717444 0.248676987 0.1194915673 0.125426579 0.108215045\n",
                            "6 0.147902023 0.020788072 0.058956337 0.0719062833 0.024195953 0.016017039\n",
                            "  hgnc_symbol transcript_length\n",
                            "1 GSDME       1473.786         \n",
                            "2 GSDMA       1409.333         \n",
                            "3 GSDMB       1414.200         \n",
                            "4 GSDMC       1304.333         \n",
                            "5 TLR4        5054.750         \n",
                            "6 TLR5        2934.375         "
                        ]
                    },
                    "metadata": {},
                    "output_type": "display_data"
                }
            ],
            "source": [
                "# remove GeneID column\n",
                "merged_dataset <- merged_dataset[,!grepl(\"GeneID\", colnames(merged_dataset))]\n",
                "# convert to tibble\n",
                "\n",
                "merged_dataset <- as_tibble(merged_dataset)\n",
                "head(merged_dataset)"
            ]
        },
        {
            "cell_type": "code",
            "execution_count": 12,
            "id": "5eb0075f",
            "metadata": {
                "execution": {
                    "iopub.execute_input": "2025-02-27T19:20:57.372237Z",
                    "iopub.status.busy": "2025-02-27T19:20:57.371447Z",
                    "iopub.status.idle": "2025-02-27T19:20:57.395939Z",
                    "shell.execute_reply": "2025-02-27T19:20:57.395110Z"
                },
                "papermill": {
                    "duration": 0.029143,
                    "end_time": "2025-02-27T19:20:57.396816",
                    "exception": false,
                    "start_time": "2025-02-27T19:20:57.367673",
                    "status": "completed"
                },
                "tags": [],
                "vscode": {
                    "languageId": "r"
                }
            },
            "outputs": [
                {
                    "data": {
                        "text/html": [
                            "<table class=\"dataframe\">\n",
                            "<caption>A tibble: 6 \u00d7 6</caption>\n",
                            "<thead>\n",
                            "\t<tr><th scope=col>entrezgene_id</th><th scope=col>hgnc_symbol</th><th scope=col>transcript_length</th><th scope=col>sample</th><th scope=col>fpkm</th><th scope=col>u118mg</th></tr>\n",
                            "\t<tr><th scope=col>&lt;chr&gt;</th><th scope=col>&lt;chr&gt;</th><th scope=col>&lt;dbl&gt;</th><th scope=col>&lt;chr&gt;</th><th scope=col>&lt;dbl&gt;</th><th scope=col>&lt;lgl&gt;</th></tr>\n",
                            "</thead>\n",
                            "<tbody>\n",
                            "\t<tr><td>1687</td><td>GSDME</td><td>1473.786</td><td>GSM4610662</td><td>0.6941308</td><td> TRUE</td></tr>\n",
                            "\t<tr><td>1687</td><td>GSDME</td><td>1473.786</td><td>GSM4610663</td><td>0.7334852</td><td> TRUE</td></tr>\n",
                            "\t<tr><td>1687</td><td>GSDME</td><td>1473.786</td><td>GSM1185864</td><td>0.8183008</td><td>FALSE</td></tr>\n",
                            "\t<tr><td>1687</td><td>GSDME</td><td>1473.786</td><td>GSM1185865</td><td>0.5183929</td><td>FALSE</td></tr>\n",
                            "\t<tr><td>1687</td><td>GSDME</td><td>1473.786</td><td>GSM1185866</td><td>0.5143217</td><td>FALSE</td></tr>\n",
                            "\t<tr><td>1687</td><td>GSDME</td><td>1473.786</td><td>GSM1185867</td><td>0.3928658</td><td>FALSE</td></tr>\n",
                            "</tbody>\n",
                            "</table>\n"
                        ],
                        "text/latex": [
                            "A tibble: 6 \u00d7 6\n",
                            "\\begin{tabular}{llllll}\n",
                            " entrezgene\\_id & hgnc\\_symbol & transcript\\_length & sample & fpkm & u118mg\\\\\n",
                            " <chr> & <chr> & <dbl> & <chr> & <dbl> & <lgl>\\\\\n",
                            "\\hline\n",
                            "\t 1687 & GSDME & 1473.786 & GSM4610662 & 0.6941308 &  TRUE\\\\\n",
                            "\t 1687 & GSDME & 1473.786 & GSM4610663 & 0.7334852 &  TRUE\\\\\n",
                            "\t 1687 & GSDME & 1473.786 & GSM1185864 & 0.8183008 & FALSE\\\\\n",
                            "\t 1687 & GSDME & 1473.786 & GSM1185865 & 0.5183929 & FALSE\\\\\n",
                            "\t 1687 & GSDME & 1473.786 & GSM1185866 & 0.5143217 & FALSE\\\\\n",
                            "\t 1687 & GSDME & 1473.786 & GSM1185867 & 0.3928658 & FALSE\\\\\n",
                            "\\end{tabular}\n"
                        ],
                        "text/markdown": [
                            "\n",
                            "A tibble: 6 \u00d7 6\n",
                            "\n",
                            "| entrezgene_id &lt;chr&gt; | hgnc_symbol &lt;chr&gt; | transcript_length &lt;dbl&gt; | sample &lt;chr&gt; | fpkm &lt;dbl&gt; | u118mg &lt;lgl&gt; |\n",
                            "|---|---|---|---|---|---|\n",
                            "| 1687 | GSDME | 1473.786 | GSM4610662 | 0.6941308 |  TRUE |\n",
                            "| 1687 | GSDME | 1473.786 | GSM4610663 | 0.7334852 |  TRUE |\n",
                            "| 1687 | GSDME | 1473.786 | GSM1185864 | 0.8183008 | FALSE |\n",
                            "| 1687 | GSDME | 1473.786 | GSM1185865 | 0.5183929 | FALSE |\n",
                            "| 1687 | GSDME | 1473.786 | GSM1185866 | 0.5143217 | FALSE |\n",
                            "| 1687 | GSDME | 1473.786 | GSM1185867 | 0.3928658 | FALSE |\n",
                            "\n"
                        ],
                        "text/plain": [
                            "  entrezgene_id hgnc_symbol transcript_length sample     fpkm      u118mg\n",
                            "1 1687          GSDME       1473.786          GSM4610662 0.6941308  TRUE \n",
                            "2 1687          GSDME       1473.786          GSM4610663 0.7334852  TRUE \n",
                            "3 1687          GSDME       1473.786          GSM1185864 0.8183008 FALSE \n",
                            "4 1687          GSDME       1473.786          GSM1185865 0.5183929 FALSE \n",
                            "5 1687          GSDME       1473.786          GSM1185866 0.5143217 FALSE \n",
                            "6 1687          GSDME       1473.786          GSM1185867 0.3928658 FALSE "
                        ]
                    },
                    "metadata": {},
                    "output_type": "display_data"
                }
            ],
            "source": [
                "\n",
                "# melt the dataset to long format\n",
                "merged_dataset_long <- merged_dataset %>%\n",
                "    dplyr::select(entrezgene_id, hgnc_symbol, transcript_length, starts_with(\"GSM\")) %>%\n",
                "    pivot_longer(cols = starts_with(\"GSM\"), names_to = \"sample\", values_to = \"fpkm\")\n",
                "# add a column to indicate u118mg bool for GSM4610662 and GSM4610663\n",
                "merged_dataset_long$u118mg <- ifelse(grepl(\"GSM4610662|GSM4610663\", merged_dataset_long$sample), TRUE, FALSE)\n",
                "head(merged_dataset_long)"
            ]
        },
        {
            "cell_type": "code",
            "execution_count": 13,
            "id": "c14bea3e",
            "metadata": {
                "execution": {
                    "iopub.execute_input": "2025-02-27T19:20:57.405946Z",
                    "iopub.status.busy": "2025-02-27T19:20:57.404825Z",
                    "iopub.status.idle": "2025-02-27T19:20:57.445152Z",
                    "shell.execute_reply": "2025-02-27T19:20:57.443871Z"
                },
                "papermill": {
                    "duration": 0.046181,
                    "end_time": "2025-02-27T19:20:57.446459",
                    "exception": false,
                    "start_time": "2025-02-27T19:20:57.400278",
                    "status": "completed"
                },
                "tags": [],
                "vscode": {
                    "languageId": "r"
                }
            },
            "outputs": [
                {
                    "data": {
                        "text/html": [
                            "<table class=\"dataframe\">\n",
                            "<caption>A grouped_df: 6 \u00d7 6</caption>\n",
                            "<thead>\n",
                            "\t<tr><th scope=col>entrezgene_id</th><th scope=col>hgnc_symbol</th><th scope=col>transcript_length</th><th scope=col>sample</th><th scope=col>fpkm</th><th scope=col>u118mg</th></tr>\n",
                            "\t<tr><th scope=col>&lt;chr&gt;</th><th scope=col>&lt;chr&gt;</th><th scope=col>&lt;dbl&gt;</th><th scope=col>&lt;chr&gt;</th><th scope=col>&lt;dbl&gt;</th><th scope=col>&lt;lgl&gt;</th></tr>\n",
                            "</thead>\n",
                            "<tbody>\n",
                            "\t<tr><td>1687</td><td>GSDME</td><td>1473.786</td><td>GSM4610662</td><td>0.6941308</td><td> TRUE</td></tr>\n",
                            "\t<tr><td>1687</td><td>GSDME</td><td>1473.786</td><td>GSM4610663</td><td>0.7334852</td><td> TRUE</td></tr>\n",
                            "\t<tr><td>1687</td><td>GSDME</td><td>1473.786</td><td>GSM1185864</td><td>0.8183008</td><td>FALSE</td></tr>\n",
                            "\t<tr><td>1687</td><td>GSDME</td><td>1473.786</td><td>GSM1185865</td><td>0.5183929</td><td>FALSE</td></tr>\n",
                            "\t<tr><td>1687</td><td>GSDME</td><td>1473.786</td><td>GSM1185866</td><td>0.5143217</td><td>FALSE</td></tr>\n",
                            "\t<tr><td>1687</td><td>GSDME</td><td>1473.786</td><td>GSM1185867</td><td>0.3928658</td><td>FALSE</td></tr>\n",
                            "</tbody>\n",
                            "</table>\n"
                        ],
                        "text/latex": [
                            "A grouped\\_df: 6 \u00d7 6\n",
                            "\\begin{tabular}{llllll}\n",
                            " entrezgene\\_id & hgnc\\_symbol & transcript\\_length & sample & fpkm & u118mg\\\\\n",
                            " <chr> & <chr> & <dbl> & <chr> & <dbl> & <lgl>\\\\\n",
                            "\\hline\n",
                            "\t 1687 & GSDME & 1473.786 & GSM4610662 & 0.6941308 &  TRUE\\\\\n",
                            "\t 1687 & GSDME & 1473.786 & GSM4610663 & 0.7334852 &  TRUE\\\\\n",
                            "\t 1687 & GSDME & 1473.786 & GSM1185864 & 0.8183008 & FALSE\\\\\n",
                            "\t 1687 & GSDME & 1473.786 & GSM1185865 & 0.5183929 & FALSE\\\\\n",
                            "\t 1687 & GSDME & 1473.786 & GSM1185866 & 0.5143217 & FALSE\\\\\n",
                            "\t 1687 & GSDME & 1473.786 & GSM1185867 & 0.3928658 & FALSE\\\\\n",
                            "\\end{tabular}\n"
                        ],
                        "text/markdown": [
                            "\n",
                            "A grouped_df: 6 \u00d7 6\n",
                            "\n",
                            "| entrezgene_id &lt;chr&gt; | hgnc_symbol &lt;chr&gt; | transcript_length &lt;dbl&gt; | sample &lt;chr&gt; | fpkm &lt;dbl&gt; | u118mg &lt;lgl&gt; |\n",
                            "|---|---|---|---|---|---|\n",
                            "| 1687 | GSDME | 1473.786 | GSM4610662 | 0.6941308 |  TRUE |\n",
                            "| 1687 | GSDME | 1473.786 | GSM4610663 | 0.7334852 |  TRUE |\n",
                            "| 1687 | GSDME | 1473.786 | GSM1185864 | 0.8183008 | FALSE |\n",
                            "| 1687 | GSDME | 1473.786 | GSM1185865 | 0.5183929 | FALSE |\n",
                            "| 1687 | GSDME | 1473.786 | GSM1185866 | 0.5143217 | FALSE |\n",
                            "| 1687 | GSDME | 1473.786 | GSM1185867 | 0.3928658 | FALSE |\n",
                            "\n"
                        ],
                        "text/plain": [
                            "  entrezgene_id hgnc_symbol transcript_length sample     fpkm      u118mg\n",
                            "1 1687          GSDME       1473.786          GSM4610662 0.6941308  TRUE \n",
                            "2 1687          GSDME       1473.786          GSM4610663 0.7334852  TRUE \n",
                            "3 1687          GSDME       1473.786          GSM1185864 0.8183008 FALSE \n",
                            "4 1687          GSDME       1473.786          GSM1185865 0.5183929 FALSE \n",
                            "5 1687          GSDME       1473.786          GSM1185866 0.5143217 FALSE \n",
                            "6 1687          GSDME       1473.786          GSM1185867 0.3928658 FALSE "
                        ]
                    },
                    "metadata": {},
                    "output_type": "display_data"
                }
            ],
            "source": [
                "# get the mean and standard deviation for each gene for each sample\n",
                "merged_dataset_long <- merged_dataset_long %>%\n",
                "    group_by(hgnc_symbol, entrezgene_id,sample,u118mg)\n",
                "head(merged_dataset_long)"
            ]
        },
        {
            "cell_type": "code",
            "execution_count": 14,
            "id": "aa0ce0ce",
            "metadata": {
                "execution": {
                    "iopub.execute_input": "2025-02-27T19:20:57.455302Z",
                    "iopub.status.busy": "2025-02-27T19:20:57.454547Z",
                    "iopub.status.idle": "2025-02-27T19:20:57.660638Z",
                    "shell.execute_reply": "2025-02-27T19:20:57.659748Z"
                },
                "papermill": {
                    "duration": 0.211443,
                    "end_time": "2025-02-27T19:20:57.661543",
                    "exception": false,
                    "start_time": "2025-02-27T19:20:57.450100",
                    "status": "completed"
                },
                "tags": [],
                "vscode": {
                    "languageId": "r"
                }
            },
            "outputs": [],
            "source": [
                "# save the dataset to a file parquet file\n",
                "arrow::write_parquet(merged_dataset_long,\"../data/U118mg/merged_dataset_long.parquet\")"
            ]
        }
    ],
    "metadata": {
        "kernelspec": {
            "display_name": "R",
            "language": "R",
            "name": "ir"
        },
        "language_info": {
            "codemirror_mode": "r",
            "file_extension": ".r",
            "mimetype": "text/x-r-source",
            "name": "R",
            "pygments_lexer": "r",
            "version": "4.2.2"
        },
        "papermill": {
            "default_parameters": {},
            "duration": 13.10246,
            "end_time": "2025-02-27T19:20:57.781538",
            "environment_variables": {},
            "exception": null,
            "input_path": "3.U118mg_analysis.ipynb",
            "output_path": "3.U118mg_analysis.ipynb",
            "parameters": {},
            "start_time": "2025-02-27T19:20:44.679078",
            "version": "2.6.0"
        }
    },
    "nbformat": 4,
    "nbformat_minor": 5
}
