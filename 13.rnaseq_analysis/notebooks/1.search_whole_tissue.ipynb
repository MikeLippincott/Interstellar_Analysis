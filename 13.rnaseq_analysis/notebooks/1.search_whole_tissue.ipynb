{
    "cells": [
        {
            "cell_type": "code",
            "execution_count": 1,
            "id": "c404d44f",
            "metadata": {
                "execution": {
                    "iopub.execute_input": "2025-02-27T19:18:17.499472Z",
                    "iopub.status.busy": "2025-02-27T19:18:17.497604Z",
                    "iopub.status.idle": "2025-02-27T19:18:19.541364Z",
                    "shell.execute_reply": "2025-02-27T19:18:19.540532Z"
                },
                "papermill": {
                    "duration": 2.047462,
                    "end_time": "2025-02-27T19:18:19.542256",
                    "exception": false,
                    "start_time": "2025-02-27T19:18:17.494794",
                    "status": "completed"
                },
                "tags": [],
                "vscode": {
                    "languageId": "r"
                }
            },
            "outputs": [],
            "source": [
                "\n",
                "list_of_packages <- c(\"dplyr\",\"tidyr\",\"biomaRt\")\n",
                "for(package in list_of_packages){\n",
                "suppressPackageStartupMessages(suppressMessages(suppressWarnings(library(package,character.only=TRUE))))\n",
                "}"
            ]
        },
        {
            "cell_type": "code",
            "execution_count": 2,
            "id": "941c5245",
            "metadata": {
                "execution": {
                    "iopub.execute_input": "2025-02-27T19:18:19.559238Z",
                    "iopub.status.busy": "2025-02-27T19:18:19.545805Z",
                    "iopub.status.idle": "2025-02-27T19:18:19.564134Z",
                    "shell.execute_reply": "2025-02-27T19:18:19.563457Z"
                },
                "papermill": {
                    "duration": 0.021228,
                    "end_time": "2025-02-27T19:18:19.564942",
                    "exception": false,
                    "start_time": "2025-02-27T19:18:19.543714",
                    "status": "completed"
                },
                "tags": [],
                "vscode": {
                    "languageId": "r"
                }
            },
            "outputs": [],
            "source": [
                "genes <- c(\n",
                "    \"GSDMA\",\n",
                "    \"GSDMB\",\n",
                "    \"GSDMC\",\n",
                "    \"GSDMD\",\n",
                "    \"GSDME\",\n",
                "    \"TLR4\",\n",
                "    \"TLR5\",\n",
                "    \"CASP1\",\n",
                "    \"CASP2\",\n",
                "    \"CASP3\",\n",
                "    \"CASP4\",\n",
                "    \"CASP5\",\n",
                "    \"CASP6\",\n",
                "    \"CASP7\",\n",
                "    \"CASP8\",\n",
                "    \"CASP9\",\n",
                "    \"CASP10\",\n",
                "    \"CASP11\"\n",
                ")"
            ]
        },
        {
            "cell_type": "code",
            "execution_count": 3,
            "id": "0e94a81f",
            "metadata": {
                "execution": {
                    "iopub.execute_input": "2025-02-27T19:18:19.568308Z",
                    "iopub.status.busy": "2025-02-27T19:18:19.567741Z",
                    "iopub.status.idle": "2025-02-27T19:18:21.147700Z",
                    "shell.execute_reply": "2025-02-27T19:18:21.146440Z"
                },
                "papermill": {
                    "duration": 1.582984,
                    "end_time": "2025-02-27T19:18:21.148952",
                    "exception": false,
                    "start_time": "2025-02-27T19:18:19.565968",
                    "status": "completed"
                },
                "tags": [],
                "vscode": {
                    "languageId": "r"
                }
            },
            "outputs": [
                {
                    "name": "stderr",
                    "output_type": "stream",
                    "text": [
                        "Warning message:\n",
                        "\u201cEnsembl will soon enforce the use of https.\n",
                        "Ensure the 'host' argument includes \"https://\"\u201d\n"
                    ]
                }
            ],
            "source": [
                "mart <- useMart(biomart=\"ENSEMBL_MART_ENSEMBL\", dataset=\"hsapiens_gene_ensembl\",host = \"www.ensembl.org\", path = \"/biomart/martservice\")"
            ]
        },
        {
            "cell_type": "code",
            "execution_count": 4,
            "id": "a3c49169",
            "metadata": {
                "execution": {
                    "iopub.execute_input": "2025-02-27T19:18:21.155204Z",
                    "iopub.status.busy": "2025-02-27T19:18:21.154026Z",
                    "iopub.status.idle": "2025-02-27T19:21:20.387462Z",
                    "shell.execute_reply": "2025-02-27T19:21:20.386710Z"
                },
                "papermill": {
                    "duration": 179.238009,
                    "end_time": "2025-02-27T19:21:20.389023",
                    "exception": false,
                    "start_time": "2025-02-27T19:18:21.151014",
                    "status": "completed"
                },
                "tags": [],
                "vscode": {
                    "languageId": "r"
                }
            },
            "outputs": [
                {
                    "data": {
                        "text/html": [
                            "<table class=\"dataframe\">\n",
                            "<caption>A tibble: 6 \u00d7 6</caption>\n",
                            "<thead>\n",
                            "\t<tr><th scope=col>geneID</th><th scope=col>Ensembl</th><th scope=col>transcript_length</th><th scope=col>Sample</th><th scope=col>expression</th><th scope=col>tissue</th></tr>\n",
                            "\t<tr><th scope=col>&lt;chr&gt;</th><th scope=col>&lt;chr&gt;</th><th scope=col>&lt;int&gt;</th><th scope=col>&lt;chr&gt;</th><th scope=col>&lt;int&gt;</th><th scope=col>&lt;chr&gt;</th></tr>\n",
                            "</thead>\n",
                            "<tbody>\n",
                            "\t<tr><td>CASP1</td><td>ENSG00000137752.24</td><td>1693</td><td>GTEX.1117F.0226.SM.5GZZ7</td><td> 300</td><td>adipose_subcutaneous</td></tr>\n",
                            "\t<tr><td>CASP1</td><td>ENSG00000137752.24</td><td>1693</td><td>GTEX.111CU.1826.SM.5GZYN</td><td>1155</td><td>adipose_subcutaneous</td></tr>\n",
                            "\t<tr><td>CASP1</td><td>ENSG00000137752.24</td><td>1693</td><td>GTEX.111FC.0226.SM.5N9B8</td><td>1382</td><td>adipose_subcutaneous</td></tr>\n",
                            "\t<tr><td>CASP1</td><td>ENSG00000137752.24</td><td>1693</td><td>GTEX.111VG.2326.SM.5N9BK</td><td>1615</td><td>adipose_subcutaneous</td></tr>\n",
                            "\t<tr><td>CASP1</td><td>ENSG00000137752.24</td><td>1693</td><td>GTEX.111YS.2426.SM.5GZZQ</td><td> 585</td><td>adipose_subcutaneous</td></tr>\n",
                            "\t<tr><td>CASP1</td><td>ENSG00000137752.24</td><td>1693</td><td>GTEX.1122O.2026.SM.9YFMG</td><td>1317</td><td>adipose_subcutaneous</td></tr>\n",
                            "</tbody>\n",
                            "</table>\n"
                        ],
                        "text/latex": [
                            "A tibble: 6 \u00d7 6\n",
                            "\\begin{tabular}{llllll}\n",
                            " geneID & Ensembl & transcript\\_length & Sample & expression & tissue\\\\\n",
                            " <chr> & <chr> & <int> & <chr> & <int> & <chr>\\\\\n",
                            "\\hline\n",
                            "\t CASP1 & ENSG00000137752.24 & 1693 & GTEX.1117F.0226.SM.5GZZ7 &  300 & adipose\\_subcutaneous\\\\\n",
                            "\t CASP1 & ENSG00000137752.24 & 1693 & GTEX.111CU.1826.SM.5GZYN & 1155 & adipose\\_subcutaneous\\\\\n",
                            "\t CASP1 & ENSG00000137752.24 & 1693 & GTEX.111FC.0226.SM.5N9B8 & 1382 & adipose\\_subcutaneous\\\\\n",
                            "\t CASP1 & ENSG00000137752.24 & 1693 & GTEX.111VG.2326.SM.5N9BK & 1615 & adipose\\_subcutaneous\\\\\n",
                            "\t CASP1 & ENSG00000137752.24 & 1693 & GTEX.111YS.2426.SM.5GZZQ &  585 & adipose\\_subcutaneous\\\\\n",
                            "\t CASP1 & ENSG00000137752.24 & 1693 & GTEX.1122O.2026.SM.9YFMG & 1317 & adipose\\_subcutaneous\\\\\n",
                            "\\end{tabular}\n"
                        ],
                        "text/markdown": [
                            "\n",
                            "A tibble: 6 \u00d7 6\n",
                            "\n",
                            "| geneID &lt;chr&gt; | Ensembl &lt;chr&gt; | transcript_length &lt;int&gt; | Sample &lt;chr&gt; | expression &lt;int&gt; | tissue &lt;chr&gt; |\n",
                            "|---|---|---|---|---|---|\n",
                            "| CASP1 | ENSG00000137752.24 | 1693 | GTEX.1117F.0226.SM.5GZZ7 |  300 | adipose_subcutaneous |\n",
                            "| CASP1 | ENSG00000137752.24 | 1693 | GTEX.111CU.1826.SM.5GZYN | 1155 | adipose_subcutaneous |\n",
                            "| CASP1 | ENSG00000137752.24 | 1693 | GTEX.111FC.0226.SM.5N9B8 | 1382 | adipose_subcutaneous |\n",
                            "| CASP1 | ENSG00000137752.24 | 1693 | GTEX.111VG.2326.SM.5N9BK | 1615 | adipose_subcutaneous |\n",
                            "| CASP1 | ENSG00000137752.24 | 1693 | GTEX.111YS.2426.SM.5GZZQ |  585 | adipose_subcutaneous |\n",
                            "| CASP1 | ENSG00000137752.24 | 1693 | GTEX.1122O.2026.SM.9YFMG | 1317 | adipose_subcutaneous |\n",
                            "\n"
                        ],
                        "text/plain": [
                            "  geneID Ensembl            transcript_length Sample                  \n",
                            "1 CASP1  ENSG00000137752.24 1693              GTEX.1117F.0226.SM.5GZZ7\n",
                            "2 CASP1  ENSG00000137752.24 1693              GTEX.111CU.1826.SM.5GZYN\n",
                            "3 CASP1  ENSG00000137752.24 1693              GTEX.111FC.0226.SM.5N9B8\n",
                            "4 CASP1  ENSG00000137752.24 1693              GTEX.111VG.2326.SM.5N9BK\n",
                            "5 CASP1  ENSG00000137752.24 1693              GTEX.111YS.2426.SM.5GZZQ\n",
                            "6 CASP1  ENSG00000137752.24 1693              GTEX.1122O.2026.SM.9YFMG\n",
                            "  expression tissue              \n",
                            "1  300       adipose_subcutaneous\n",
                            "2 1155       adipose_subcutaneous\n",
                            "3 1382       adipose_subcutaneous\n",
                            "4 1615       adipose_subcutaneous\n",
                            "5  585       adipose_subcutaneous\n",
                            "6 1317       adipose_subcutaneous"
                        ]
                    },
                    "metadata": {},
                    "output_type": "display_data"
                }
            ],
            "source": [
                "data_path <- file.path(\"../data/gtex_data\")\n",
                "data_files <- list.files(data_path, pattern = \"gct\", full.names = TRUE)\n",
                "\n",
                "rna_df <- data.frame()\n",
                "for (file in data_files){\n",
                "    tmp_df <- read.table(file, header = TRUE, skip = 2, sep = \"\\t\", stringsAsFactors = FALSE)\n",
                "    # trim the decimal from the Name column\n",
                "\n",
                "    tmp_df <- tmp_df[tmp_df$Description %in% genes,]\n",
                "    \n",
                "    # rename the Description column to geneID\n",
                "    colnames(tmp_df)[2] <- \"geneID\"\n",
                "    colnames(tmp_df)[1] <- \"Ensembl\"\n",
                "\n",
                "    # drop the Name column\n",
                "    tmp_df <- tmp_df[, !names(tmp_df) %in% \"Name\"]\n",
                "    tmp_df <- tmp_df[, !names(tmp_df) %in% \"Description\"]\n",
                "    # convert the GeneID to gene symbol\n",
                "    gene_id <- unique(tmp_df$geneID)\n",
                "    lookup <- getBM(\n",
                "        mart = mart,\n",
                "        attributes = c('transcript_length','hgnc_symbol'),\n",
                "        filter = 'hgnc_symbol',\n",
                "        values = gene_id,\n",
                "        uniqueRows = TRUE\n",
                "        )\n",
                "    tmp_df <- merge(tmp_df, lookup, by.x=\"geneID\", by.y=\"hgnc_symbol\", all=TRUE)\n",
                "    # make the df tidy long format\n",
                "    tmp_df <- tmp_df %>% \n",
                "        pivot_longer(cols = -c(Ensembl, geneID,transcript_length), names_to = \"Sample\", values_to = \"expression\") %>%\n",
                "        mutate(tissue = gsub(\"../data/gtex_data/gene_reads_v10_\", \"\", file)) %>%\n",
                "        mutate(tissue = gsub(\".gct\", \"\", tissue))\n",
                "    rna_df <- rbind(rna_df, tmp_df)\n",
                "}\n",
                "head(rna_df)"
            ]
        },
        {
            "cell_type": "code",
            "execution_count": 5,
            "id": "fc17aa10",
            "metadata": {
                "execution": {
                    "iopub.execute_input": "2025-02-27T19:21:20.394324Z",
                    "iopub.status.busy": "2025-02-27T19:21:20.393752Z",
                    "iopub.status.idle": "2025-02-27T19:21:20.403568Z",
                    "shell.execute_reply": "2025-02-27T19:21:20.402712Z"
                },
                "papermill": {
                    "duration": 0.014078,
                    "end_time": "2025-02-27T19:21:20.404480",
                    "exception": false,
                    "start_time": "2025-02-27T19:21:20.390402",
                    "status": "completed"
                },
                "tags": [],
                "vscode": {
                    "languageId": "r"
                }
            },
            "outputs": [],
            "source": [
                "rna_df$fpkm <- rna_df$expression / rna_df$transcript_length"
            ]
        },
        {
            "cell_type": "code",
            "execution_count": 6,
            "id": "0db96f1e",
            "metadata": {
                "execution": {
                    "iopub.execute_input": "2025-02-27T19:21:20.408819Z",
                    "iopub.status.busy": "2025-02-27T19:21:20.408216Z",
                    "iopub.status.idle": "2025-02-27T19:21:26.816704Z",
                    "shell.execute_reply": "2025-02-27T19:21:26.815706Z"
                },
                "papermill": {
                    "duration": 6.411771,
                    "end_time": "2025-02-27T19:21:26.817660",
                    "exception": false,
                    "start_time": "2025-02-27T19:21:20.405889",
                    "status": "completed"
                },
                "tags": [],
                "vscode": {
                    "languageId": "r"
                }
            },
            "outputs": [],
            "source": [
                "# save the compiled gtex data to a file\n",
                "\n",
                "all_gtex_tissue_data <- file.path(\"../data/genes_of_interest_gtex_tissue_data.tsv\")\n",
                "\n",
                "\n",
                "write.table(rna_df, file = all_gtex_tissue_data, sep = \"\\t\", row.names = FALSE)"
            ]
        }
    ],
    "metadata": {
        "kernelspec": {
            "display_name": "R",
            "language": "R",
            "name": "ir"
        },
        "language_info": {
            "codemirror_mode": "r",
            "file_extension": ".r",
            "mimetype": "text/x-r-source",
            "name": "R",
            "pygments_lexer": "r",
            "version": "4.2.2"
        },
        "papermill": {
            "default_parameters": {},
            "duration": 190.552788,
            "end_time": "2025-02-27T19:21:27.034648",
            "environment_variables": {},
            "exception": null,
            "input_path": "1.search_whole_tissue.ipynb",
            "output_path": "1.search_whole_tissue.ipynb",
            "parameters": {},
            "start_time": "2025-02-27T19:18:16.481860",
            "version": "2.6.0"
        }
    },
    "nbformat": 4,
    "nbformat_minor": 5
}
