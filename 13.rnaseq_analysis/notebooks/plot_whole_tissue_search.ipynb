{
    "cells": [
        {
            "cell_type": "code",
            "execution_count": 1,
            "metadata": {
                "vscode": {
                    "languageId": "r"
                }
            },
            "outputs": [],
            "source": [
                "\n",
                "list_of_packages <- c(\"ggplot2\", \"dplyr\", \"DESeq2\",\"biomaRt\",\"tidyr\")\n",
                "for(package in list_of_packages){\n",
                "suppressPackageStartupMessages(suppressMessages(suppressWarnings(library(package,character.only=TRUE))))\n",
                "}"
            ]
        },
        {
            "cell_type": "code",
            "execution_count": 2,
            "metadata": {
                "vscode": {
                    "languageId": "r"
                }
            },
            "outputs": [],
            "source": [
                "genes <- c(\n",
                " \"GSDMD\",\n",
                " \"GSDME\"\n",
                ")"
            ]
        },
        {
            "cell_type": "code",
            "execution_count": 3,
            "metadata": {
                "vscode": {
                    "languageId": "r"
                }
            },
            "outputs": [
                {
                    "data": {
                        "text/html": [
                            "<table class=\"dataframe\">\n",
                            "<caption>A data.frame: 6 \u00d7 5</caption>\n",
                            "<thead>\n",
                            "\t<tr><th></th><th scope=col>Ensembl</th><th scope=col>geneID</th><th scope=col>Sample</th><th scope=col>expression</th><th scope=col>tissue</th></tr>\n",
                            "\t<tr><th></th><th scope=col>&lt;chr&gt;</th><th scope=col>&lt;chr&gt;</th><th scope=col>&lt;chr&gt;</th><th scope=col>&lt;int&gt;</th><th scope=col>&lt;chr&gt;</th></tr>\n",
                            "</thead>\n",
                            "<tbody>\n",
                            "\t<tr><th scope=row>1</th><td>ENSG00000132906</td><td>CASP9</td><td>GTEX.1117F.0226.SM.5GZZ7</td><td> 362</td><td>adipose_subcutaneous</td></tr>\n",
                            "\t<tr><th scope=row>2</th><td>ENSG00000132906</td><td>CASP9</td><td>GTEX.111CU.1826.SM.5GZYN</td><td> 539</td><td>adipose_subcutaneous</td></tr>\n",
                            "\t<tr><th scope=row>3</th><td>ENSG00000132906</td><td>CASP9</td><td>GTEX.111FC.0226.SM.5N9B8</td><td>1071</td><td>adipose_subcutaneous</td></tr>\n",
                            "\t<tr><th scope=row>4</th><td>ENSG00000132906</td><td>CASP9</td><td>GTEX.111VG.2326.SM.5N9BK</td><td>1409</td><td>adipose_subcutaneous</td></tr>\n",
                            "\t<tr><th scope=row>5</th><td>ENSG00000132906</td><td>CASP9</td><td>GTEX.111YS.2426.SM.5GZZQ</td><td> 567</td><td>adipose_subcutaneous</td></tr>\n",
                            "\t<tr><th scope=row>6</th><td>ENSG00000132906</td><td>CASP9</td><td>GTEX.1122O.2026.SM.9YFMG</td><td>1403</td><td>adipose_subcutaneous</td></tr>\n",
                            "</tbody>\n",
                            "</table>\n"
                        ],
                        "text/latex": [
                            "A data.frame: 6 \u00d7 5\n",
                            "\\begin{tabular}{r|lllll}\n",
                            "  & Ensembl & geneID & Sample & expression & tissue\\\\\n",
                            "  & <chr> & <chr> & <chr> & <int> & <chr>\\\\\n",
                            "\\hline\n",
                            "\t1 & ENSG00000132906 & CASP9 & GTEX.1117F.0226.SM.5GZZ7 &  362 & adipose\\_subcutaneous\\\\\n",
                            "\t2 & ENSG00000132906 & CASP9 & GTEX.111CU.1826.SM.5GZYN &  539 & adipose\\_subcutaneous\\\\\n",
                            "\t3 & ENSG00000132906 & CASP9 & GTEX.111FC.0226.SM.5N9B8 & 1071 & adipose\\_subcutaneous\\\\\n",
                            "\t4 & ENSG00000132906 & CASP9 & GTEX.111VG.2326.SM.5N9BK & 1409 & adipose\\_subcutaneous\\\\\n",
                            "\t5 & ENSG00000132906 & CASP9 & GTEX.111YS.2426.SM.5GZZQ &  567 & adipose\\_subcutaneous\\\\\n",
                            "\t6 & ENSG00000132906 & CASP9 & GTEX.1122O.2026.SM.9YFMG & 1403 & adipose\\_subcutaneous\\\\\n",
                            "\\end{tabular}\n"
                        ],
                        "text/markdown": [
                            "\n",
                            "A data.frame: 6 \u00d7 5\n",
                            "\n",
                            "| <!--/--> | Ensembl &lt;chr&gt; | geneID &lt;chr&gt; | Sample &lt;chr&gt; | expression &lt;int&gt; | tissue &lt;chr&gt; |\n",
                            "|---|---|---|---|---|---|\n",
                            "| 1 | ENSG00000132906 | CASP9 | GTEX.1117F.0226.SM.5GZZ7 |  362 | adipose_subcutaneous |\n",
                            "| 2 | ENSG00000132906 | CASP9 | GTEX.111CU.1826.SM.5GZYN |  539 | adipose_subcutaneous |\n",
                            "| 3 | ENSG00000132906 | CASP9 | GTEX.111FC.0226.SM.5N9B8 | 1071 | adipose_subcutaneous |\n",
                            "| 4 | ENSG00000132906 | CASP9 | GTEX.111VG.2326.SM.5N9BK | 1409 | adipose_subcutaneous |\n",
                            "| 5 | ENSG00000132906 | CASP9 | GTEX.111YS.2426.SM.5GZZQ |  567 | adipose_subcutaneous |\n",
                            "| 6 | ENSG00000132906 | CASP9 | GTEX.1122O.2026.SM.9YFMG | 1403 | adipose_subcutaneous |\n",
                            "\n"
                        ],
                        "text/plain": [
                            "  Ensembl         geneID Sample                   expression\n",
                            "1 ENSG00000132906 CASP9  GTEX.1117F.0226.SM.5GZZ7  362      \n",
                            "2 ENSG00000132906 CASP9  GTEX.111CU.1826.SM.5GZYN  539      \n",
                            "3 ENSG00000132906 CASP9  GTEX.111FC.0226.SM.5N9B8 1071      \n",
                            "4 ENSG00000132906 CASP9  GTEX.111VG.2326.SM.5N9BK 1409      \n",
                            "5 ENSG00000132906 CASP9  GTEX.111YS.2426.SM.5GZZQ  567      \n",
                            "6 ENSG00000132906 CASP9  GTEX.1122O.2026.SM.9YFMG 1403      \n",
                            "  tissue              \n",
                            "1 adipose_subcutaneous\n",
                            "2 adipose_subcutaneous\n",
                            "3 adipose_subcutaneous\n",
                            "4 adipose_subcutaneous\n",
                            "5 adipose_subcutaneous\n",
                            "6 adipose_subcutaneous"
                        ]
                    },
                    "metadata": {},
                    "output_type": "display_data"
                }
            ],
            "source": [
                "all_gtex_tissue_data <- file.path(\"../data/genes_of_interest_gtex_tissue_data.tsv\")\n",
                "gtex_df <- read.table(all_gtex_tissue_data, header = TRUE, sep = \"\\t\")\n",
                "# trim the decimals in Ensembl\n",
                "gtex_df$Ensembl <- gsub(\"\\\\..*\", \"\", gtex_df$Ensembl)\n",
                "head(gtex_df)"
            ]
        },
        {
            "cell_type": "code",
            "execution_count": 4,
            "metadata": {
                "vscode": {
                    "languageId": "r"
                }
            },
            "outputs": [
                {
                    "ename": "ERROR",
                    "evalue": "Error in curl::curl_fetch_memory(url, handle = handle): Operation was aborted by an application callback\n",
                    "output_type": "error",
                    "traceback": [
                        "Error in curl::curl_fetch_memory(url, handle = handle): Operation was aborted by an application callback\nTraceback:\n",
                        "1. getBM(mart = mart, attributes = c(\"hgnc_symbol\", \"transcript_length\", \n .     \"ensembl_gene_id\"), filter = \"ensembl_gene_id\", values = gene_id, \n .     uniqueRows = TRUE)",
                        "2. .submitQueryXML(host = paste0(martHost(mart), sep), query = fullXmlQuery, \n .     httr_config = martHTTRConfig(mart))",
                        "3. httr::POST(url = host, body = list(query = query), config = httr_config, \n .     timeout(300))",
                        "4. request_perform(req, hu$handle$handle)",
                        "5. request_fetch(req$output, req$url, handle)",
                        "6. request_fetch.write_memory(req$output, req$url, handle)",
                        "7. curl::curl_fetch_memory(url, handle = handle)"
                    ]
                }
            ],
            "source": [
                "# convert the GeneID to gene symbol\n",
                "mart <- useMart(biomart=\"ENSEMBL_MART_ENSEMBL\", dataset=\"hsapiens_gene_ensembl\")\n",
                "gene_id <- gtex_df$Ensembl\n",
                "lookup <- getBM(\n",
                "    mart = mart,\n",
                "    attributes = c('hgnc_symbol','transcript_length','ensembl_gene_id'),\n",
                "    filter = 'ensembl_gene_id',\n",
                "    values = gene_id,\n",
                "    uniqueRows = TRUE\n",
                "    )\n",
                "lookup\n",
                "# merge the two datasets\n",
                "# tmp_df <- merge(tmp_df, lookup, by.x=\"Description\", by.y=\"hgnc_symbol\", all=TRUE)"
            ]
        },
        {
            "cell_type": "code",
            "execution_count": null,
            "metadata": {
                "vscode": {
                    "languageId": "r"
                }
            },
            "outputs": [],
            "source": [
                "\n",
                "# convert the GeneID to gene symbol\n",
                "mart <- useMart(biomart=\"ENSEMBL_MART_ENSEMBL\", dataset=\"hsapiens_gene_ensembl\")\n",
                "gene_id <- gtex_df$Description\n",
                "lookup <- getBM(\n",
                "    mart = mart,\n",
                "    attributes = c('hgnc_symbol','transcript_length'),\n",
                "    filter = 'hgnc_symbol',\n",
                "    values = gene_id,\n",
                "    uniqueRows = TRUE)\n",
                "# merge the two datasets\n",
                "gtex_df <- merge(gtex_df, lookup, by.x=\"Description\", by.y=\"hgnc_symbol\", all=TRUE)\n",
                "# write the merged dataset to a file\n",
                "head(gtex_df)"
            ]
        },
        {
            "cell_type": "code",
            "execution_count": null,
            "metadata": {
                "vscode": {
                    "languageId": "r"
                }
            },
            "outputs": [],
            "source": [
                "\n",
                "gsdm_df <- gtex_df[gtex_df$Description %in% genes,]\n",
                "head(gsdm_df)"
            ]
        },
        {
            "cell_type": "code",
            "execution_count": null,
            "metadata": {
                "vscode": {
                    "languageId": "r"
                }
            },
            "outputs": [],
            "source": [
                "unique(gsdm_df$tissue)"
            ]
        },
        {
            "cell_type": "code",
            "execution_count": null,
            "metadata": {
                "vscode": {
                    "languageId": "r"
                }
            },
            "outputs": [],
            "source": [
                "# get the mean expression of each gene in each tissue across all samples\n",
                "gsdm_df <- gsdm_df %>% \n",
                "  group_by(Description, tissue) %>% \n",
                "  summarise(mean_expression = mean(expression), sd_expression = sd(expression)) %>%\n",
                "  ungroup()\n",
                "head(gtex_df)"
            ]
        },
        {
            "cell_type": "code",
            "execution_count": null,
            "metadata": {
                "vscode": {
                    "languageId": "r"
                }
            },
            "outputs": [],
            "source": [
                "width <- 30\n",
                "height <- 30\n",
                "options(repr.plot.width = width, repr.plot.height = height)\n",
                "gsdm_plot <- (\n",
                "    ggplot(gsdm_df, aes(x = Description, y = mean_expression, fill = tissue))\n",
                "    + geom_bar(stat = \"identity\", position = \"dodge\")\n",
                "    + facet_wrap(~tissue, scales = \"free_y\", nrow = 10)\n",
                "    + theme(legend.position = \"none\")\n",
                "    + theme(strip.text = element_text(size = 18))\n",
                "\n",
                ")\n",
                "gsdm_plot"
            ]
        },
        {
            "cell_type": "code",
            "execution_count": null,
            "metadata": {
                "vscode": {
                    "languageId": "r"
                }
            },
            "outputs": [],
            "source": [
                "tlr_and_casp_genes <- c(\n",
                " \"TLR4\",\n",
                " \"TLR5\",\n",
                " \"TLR10\",\n",
                " \"CASP1\",\n",
                " \"CASP2\",\n",
                " \"CASP3\",\n",
                " \"CASP4\",\n",
                " \"CASP5\",\n",
                " \"CASP6\",\n",
                " \"CASP7\",\n",
                " \"CASP8\",\n",
                " \"CASP9\",\n",
                " \"CASP10\",\n",
                " \"CASP11\"\n",
                ")\n",
                "casp_df <- gtex_df[gtex_df$Description %in% tlr_and_casp_genes,]\n",
                "head(casp_df)"
            ]
        },
        {
            "cell_type": "code",
            "execution_count": null,
            "metadata": {
                "vscode": {
                    "languageId": "r"
                }
            },
            "outputs": [],
            "source": [
                "# get the mean expression of each gene in each tissue across all samples\n",
                "casp_df <- casp_df %>% \n",
                "  group_by(Description, tissue) %>% \n",
                "  summarise(mean_expression = mean(expression), sd_expression = sd(expression)) %>%\n",
                "  ungroup()\n",
                "head(casp_df)"
            ]
        },
        {
            "cell_type": "code",
            "execution_count": null,
            "metadata": {
                "vscode": {
                    "languageId": "r"
                }
            },
            "outputs": [],
            "source": [
                "casp_plot <- (\n",
                "    ggplot(casp_df, aes(x = Description, y = mean_expression, fill = tissue))\n",
                "    + geom_bar(stat = \"identity\", position = \"dodge\")\n",
                "    + facet_wrap(~tissue, scales = \"free_y\")\n",
                "    # rotate the x-axis labels\n",
                "    + theme(axis.text.x = element_text(angle = 90, hjust = 1))\n",
                "    # hide the legend\n",
                "    + theme(legend.position = \"none\")\n",
                ")\n",
                "casp_plot"
            ]
        }
    ],
    "metadata": {
        "kernelspec": {
            "display_name": "R",
            "language": "R",
            "name": "ir"
        },
        "language_info": {
            "codemirror_mode": "r",
            "file_extension": ".r",
            "mimetype": "text/x-r-source",
            "name": "R",
            "pygments_lexer": "r",
            "version": "4.2.2"
        }
    },
    "nbformat": 4,
    "nbformat_minor": 2
}
