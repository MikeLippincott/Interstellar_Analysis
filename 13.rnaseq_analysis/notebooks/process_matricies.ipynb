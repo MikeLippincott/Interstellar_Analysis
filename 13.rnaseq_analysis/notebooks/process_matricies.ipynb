{
    "cells": [
        {
            "cell_type": "code",
            "execution_count": 1,
            "metadata": {
                "vscode": {
                    "languageId": "r"
                }
            },
            "outputs": [],
            "source": [
                "\n",
                "list_of_packages <- c(\"ggplot2\", \"dplyr\", \"DESeq2\",\"biomaRt\",\"tidyr\")\n",
                "for(package in list_of_packages){\n",
                "suppressPackageStartupMessages(suppressMessages(suppressWarnings(library(package,character.only=TRUE))))\n",
                "}"
            ]
        },
        {
            "cell_type": "code",
            "execution_count": 2,
            "metadata": {
                "vscode": {
                    "languageId": "r"
                }
            },
            "outputs": [],
            "source": [
                "figures_dir<-file.path(\"../figures\")\n",
                "if(!dir.exists(figures_dir)){\n",
                " dir.create(figures_dir, showWarnings = FALSE, recursive = TRUE)\n",
                "}"
            ]
        },
        {
            "cell_type": "code",
            "execution_count": 3,
            "metadata": {
                "vscode": {
                    "languageId": "r"
                }
            },
            "outputs": [
                {
                    "data": {
                        "text/html": [
                            "<table class=\"dataframe\">\n",
                            "<caption>A data.frame: 6 \u00d7 3</caption>\n",
                            "<thead>\n",
                            "\t<tr><th></th><th scope=col>GeneID</th><th scope=col>GSM1937035</th><th scope=col>GSM1937037</th></tr>\n",
                            "\t<tr><th></th><th scope=col>&lt;int&gt;</th><th scope=col>&lt;int&gt;</th><th scope=col>&lt;int&gt;</th></tr>\n",
                            "</thead>\n",
                            "<tbody>\n",
                            "\t<tr><th scope=row>1</th><td>100287102</td><td>  3</td><td>  2</td></tr>\n",
                            "\t<tr><th scope=row>2</th><td>   653635</td><td>103</td><td>138</td></tr>\n",
                            "\t<tr><th scope=row>3</th><td>102466751</td><td>  8</td><td>  4</td></tr>\n",
                            "\t<tr><th scope=row>4</th><td>107985730</td><td>  1</td><td>  4</td></tr>\n",
                            "\t<tr><th scope=row>5</th><td>100302278</td><td>  0</td><td>  0</td></tr>\n",
                            "\t<tr><th scope=row>6</th><td>   645520</td><td>  0</td><td>  0</td></tr>\n",
                            "</tbody>\n",
                            "</table>\n"
                        ],
                        "text/latex": [
                            "A data.frame: 6 \u00d7 3\n",
                            "\\begin{tabular}{r|lll}\n",
                            "  & GeneID & GSM1937035 & GSM1937037\\\\\n",
                            "  & <int> & <int> & <int>\\\\\n",
                            "\\hline\n",
                            "\t1 & 100287102 &   3 &   2\\\\\n",
                            "\t2 &    653635 & 103 & 138\\\\\n",
                            "\t3 & 102466751 &   8 &   4\\\\\n",
                            "\t4 & 107985730 &   1 &   4\\\\\n",
                            "\t5 & 100302278 &   0 &   0\\\\\n",
                            "\t6 &    645520 &   0 &   0\\\\\n",
                            "\\end{tabular}\n"
                        ],
                        "text/markdown": [
                            "\n",
                            "A data.frame: 6 \u00d7 3\n",
                            "\n",
                            "| <!--/--> | GeneID &lt;int&gt; | GSM1937035 &lt;int&gt; | GSM1937037 &lt;int&gt; |\n",
                            "|---|---|---|---|\n",
                            "| 1 | 100287102 |   3 |   2 |\n",
                            "| 2 |    653635 | 103 | 138 |\n",
                            "| 3 | 102466751 |   8 |   4 |\n",
                            "| 4 | 107985730 |   1 |   4 |\n",
                            "| 5 | 100302278 |   0 |   0 |\n",
                            "| 6 |    645520 |   0 |   0 |\n",
                            "\n"
                        ],
                        "text/plain": [
                            "  GeneID    GSM1937035 GSM1937037\n",
                            "1 100287102   3          2       \n",
                            "2    653635 103        138       \n",
                            "3 102466751   8          4       \n",
                            "4 107985730   1          4       \n",
                            "5 100302278   0          0       \n",
                            "6    645520   0          0       "
                        ]
                    },
                    "metadata": {},
                    "output_type": "display_data"
                },
                {
                    "data": {
                        "text/html": [
                            "<table class=\"dataframe\">\n",
                            "<caption>A data.frame: 6 \u00d7 10</caption>\n",
                            "<thead>\n",
                            "\t<tr><th></th><th scope=col>GeneID</th><th scope=col>GSM5742788</th><th scope=col>GSM5742789</th><th scope=col>GSM5742790</th><th scope=col>GSM5742791</th><th scope=col>GSM5742792</th><th scope=col>GSM5742793</th><th scope=col>GSM5742794</th><th scope=col>GSM5742795</th><th scope=col>GSM5742796</th></tr>\n",
                            "\t<tr><th></th><th scope=col>&lt;int&gt;</th><th scope=col>&lt;int&gt;</th><th scope=col>&lt;int&gt;</th><th scope=col>&lt;int&gt;</th><th scope=col>&lt;int&gt;</th><th scope=col>&lt;int&gt;</th><th scope=col>&lt;int&gt;</th><th scope=col>&lt;int&gt;</th><th scope=col>&lt;int&gt;</th><th scope=col>&lt;int&gt;</th></tr>\n",
                            "</thead>\n",
                            "<tbody>\n",
                            "\t<tr><th scope=row>1</th><td>100287102</td><td>  2</td><td>  4</td><td>  1</td><td>  2</td><td>  4</td><td>  4</td><td>  1</td><td>  3</td><td>  2</td></tr>\n",
                            "\t<tr><th scope=row>2</th><td>   653635</td><td>567</td><td>695</td><td>663</td><td>679</td><td>624</td><td>706</td><td>632</td><td>840</td><td>747</td></tr>\n",
                            "\t<tr><th scope=row>3</th><td>102466751</td><td> 11</td><td> 12</td><td> 12</td><td> 12</td><td> 20</td><td> 18</td><td> 21</td><td> 22</td><td> 16</td></tr>\n",
                            "\t<tr><th scope=row>4</th><td>107985730</td><td>  0</td><td>  0</td><td>  0</td><td>  1</td><td>  0</td><td>  0</td><td>  0</td><td>  1</td><td>  0</td></tr>\n",
                            "\t<tr><th scope=row>5</th><td>100302278</td><td>  0</td><td>  0</td><td>  0</td><td>  0</td><td>  0</td><td>  1</td><td>  0</td><td>  0</td><td>  0</td></tr>\n",
                            "\t<tr><th scope=row>6</th><td>   645520</td><td>  0</td><td>  0</td><td>  0</td><td>  0</td><td>  0</td><td>  0</td><td>  0</td><td>  0</td><td>  0</td></tr>\n",
                            "</tbody>\n",
                            "</table>\n"
                        ],
                        "text/latex": [
                            "A data.frame: 6 \u00d7 10\n",
                            "\\begin{tabular}{r|llllllllll}\n",
                            "  & GeneID & GSM5742788 & GSM5742789 & GSM5742790 & GSM5742791 & GSM5742792 & GSM5742793 & GSM5742794 & GSM5742795 & GSM5742796\\\\\n",
                            "  & <int> & <int> & <int> & <int> & <int> & <int> & <int> & <int> & <int> & <int>\\\\\n",
                            "\\hline\n",
                            "\t1 & 100287102 &   2 &   4 &   1 &   2 &   4 &   4 &   1 &   3 &   2\\\\\n",
                            "\t2 &    653635 & 567 & 695 & 663 & 679 & 624 & 706 & 632 & 840 & 747\\\\\n",
                            "\t3 & 102466751 &  11 &  12 &  12 &  12 &  20 &  18 &  21 &  22 &  16\\\\\n",
                            "\t4 & 107985730 &   0 &   0 &   0 &   1 &   0 &   0 &   0 &   1 &   0\\\\\n",
                            "\t5 & 100302278 &   0 &   0 &   0 &   0 &   0 &   1 &   0 &   0 &   0\\\\\n",
                            "\t6 &    645520 &   0 &   0 &   0 &   0 &   0 &   0 &   0 &   0 &   0\\\\\n",
                            "\\end{tabular}\n"
                        ],
                        "text/markdown": [
                            "\n",
                            "A data.frame: 6 \u00d7 10\n",
                            "\n",
                            "| <!--/--> | GeneID &lt;int&gt; | GSM5742788 &lt;int&gt; | GSM5742789 &lt;int&gt; | GSM5742790 &lt;int&gt; | GSM5742791 &lt;int&gt; | GSM5742792 &lt;int&gt; | GSM5742793 &lt;int&gt; | GSM5742794 &lt;int&gt; | GSM5742795 &lt;int&gt; | GSM5742796 &lt;int&gt; |\n",
                            "|---|---|---|---|---|---|---|---|---|---|---|\n",
                            "| 1 | 100287102 |   2 |   4 |   1 |   2 |   4 |   4 |   1 |   3 |   2 |\n",
                            "| 2 |    653635 | 567 | 695 | 663 | 679 | 624 | 706 | 632 | 840 | 747 |\n",
                            "| 3 | 102466751 |  11 |  12 |  12 |  12 |  20 |  18 |  21 |  22 |  16 |\n",
                            "| 4 | 107985730 |   0 |   0 |   0 |   1 |   0 |   0 |   0 |   1 |   0 |\n",
                            "| 5 | 100302278 |   0 |   0 |   0 |   0 |   0 |   1 |   0 |   0 |   0 |\n",
                            "| 6 |    645520 |   0 |   0 |   0 |   0 |   0 |   0 |   0 |   0 |   0 |\n",
                            "\n"
                        ],
                        "text/plain": [
                            "  GeneID    GSM5742788 GSM5742789 GSM5742790 GSM5742791 GSM5742792 GSM5742793\n",
                            "1 100287102   2          4          1          2          4          4       \n",
                            "2    653635 567        695        663        679        624        706       \n",
                            "3 102466751  11         12         12         12         20         18       \n",
                            "4 107985730   0          0          0          1          0          0       \n",
                            "5 100302278   0          0          0          0          0          1       \n",
                            "6    645520   0          0          0          0          0          0       \n",
                            "  GSM5742794 GSM5742795 GSM5742796\n",
                            "1   1          3          2       \n",
                            "2 632        840        747       \n",
                            "3  21         22         16       \n",
                            "4   0          1          0       \n",
                            "5   0          0          0       \n",
                            "6   0          0          0       "
                        ]
                    },
                    "metadata": {},
                    "output_type": "display_data"
                }
            ],
            "source": [
                "dataset1 <- read.table(\"../data/GSE74886_raw_counts_GRCh38.p13_NCBI.tsv\", header=TRUE, sep=\"\\t\")\n",
                "dataset2 <- read.table(\"../data/GSE191270_raw_counts_GRCh38.p13_NCBI.tsv\", header=TRUE, sep=\"\\t\")\n",
                "head(dataset1)\n",
                "head(dataset2)"
            ]
        },
        {
            "cell_type": "code",
            "execution_count": 4,
            "metadata": {
                "vscode": {
                    "languageId": "r"
                }
            },
            "outputs": [
                {
                    "name": "stdout",
                    "output_type": "stream",
                    "text": [
                        "[1] 39376    12\n"
                    ]
                },
                {
                    "data": {
                        "text/html": [
                            "<table class=\"dataframe\">\n",
                            "<caption>A data.frame: 6 \u00d7 12</caption>\n",
                            "<thead>\n",
                            "\t<tr><th></th><th scope=col>GeneID</th><th scope=col>GSM1937035</th><th scope=col>GSM1937037</th><th scope=col>GSM5742788</th><th scope=col>GSM5742789</th><th scope=col>GSM5742790</th><th scope=col>GSM5742791</th><th scope=col>GSM5742792</th><th scope=col>GSM5742793</th><th scope=col>GSM5742794</th><th scope=col>GSM5742795</th><th scope=col>GSM5742796</th></tr>\n",
                            "\t<tr><th></th><th scope=col>&lt;int&gt;</th><th scope=col>&lt;int&gt;</th><th scope=col>&lt;int&gt;</th><th scope=col>&lt;int&gt;</th><th scope=col>&lt;int&gt;</th><th scope=col>&lt;int&gt;</th><th scope=col>&lt;int&gt;</th><th scope=col>&lt;int&gt;</th><th scope=col>&lt;int&gt;</th><th scope=col>&lt;int&gt;</th><th scope=col>&lt;int&gt;</th><th scope=col>&lt;int&gt;</th></tr>\n",
                            "</thead>\n",
                            "<tbody>\n",
                            "\t<tr><th scope=row>1</th><td> 1</td><td>101</td><td>206</td><td>254</td><td>259</td><td>255</td><td>274</td><td>230</td><td>270</td><td>170</td><td>221</td><td>206</td></tr>\n",
                            "\t<tr><th scope=row>2</th><td> 2</td><td> 46</td><td> 65</td><td>  0</td><td>  2</td><td>  0</td><td>  1</td><td>  0</td><td>  0</td><td>  0</td><td>  2</td><td>  2</td></tr>\n",
                            "\t<tr><th scope=row>3</th><td> 3</td><td>  0</td><td>  8</td><td>  2</td><td>  2</td><td>  0</td><td>  0</td><td>  0</td><td>  0</td><td>  0</td><td>  1</td><td>  2</td></tr>\n",
                            "\t<tr><th scope=row>4</th><td> 9</td><td> 33</td><td> 62</td><td> 20</td><td> 11</td><td> 13</td><td> 25</td><td> 14</td><td> 19</td><td> 31</td><td> 30</td><td> 26</td></tr>\n",
                            "\t<tr><th scope=row>5</th><td>10</td><td>  1</td><td>  4</td><td>  0</td><td>  1</td><td>  0</td><td>  0</td><td>  0</td><td>  0</td><td>  0</td><td>  0</td><td>  0</td></tr>\n",
                            "\t<tr><th scope=row>6</th><td>12</td><td>  0</td><td>  4</td><td>  0</td><td>  3</td><td>  1</td><td>  0</td><td>  0</td><td>  0</td><td>  0</td><td>  0</td><td>  0</td></tr>\n",
                            "</tbody>\n",
                            "</table>\n"
                        ],
                        "text/latex": [
                            "A data.frame: 6 \u00d7 12\n",
                            "\\begin{tabular}{r|llllllllllll}\n",
                            "  & GeneID & GSM1937035 & GSM1937037 & GSM5742788 & GSM5742789 & GSM5742790 & GSM5742791 & GSM5742792 & GSM5742793 & GSM5742794 & GSM5742795 & GSM5742796\\\\\n",
                            "  & <int> & <int> & <int> & <int> & <int> & <int> & <int> & <int> & <int> & <int> & <int> & <int>\\\\\n",
                            "\\hline\n",
                            "\t1 &  1 & 101 & 206 & 254 & 259 & 255 & 274 & 230 & 270 & 170 & 221 & 206\\\\\n",
                            "\t2 &  2 &  46 &  65 &   0 &   2 &   0 &   1 &   0 &   0 &   0 &   2 &   2\\\\\n",
                            "\t3 &  3 &   0 &   8 &   2 &   2 &   0 &   0 &   0 &   0 &   0 &   1 &   2\\\\\n",
                            "\t4 &  9 &  33 &  62 &  20 &  11 &  13 &  25 &  14 &  19 &  31 &  30 &  26\\\\\n",
                            "\t5 & 10 &   1 &   4 &   0 &   1 &   0 &   0 &   0 &   0 &   0 &   0 &   0\\\\\n",
                            "\t6 & 12 &   0 &   4 &   0 &   3 &   1 &   0 &   0 &   0 &   0 &   0 &   0\\\\\n",
                            "\\end{tabular}\n"
                        ],
                        "text/markdown": [
                            "\n",
                            "A data.frame: 6 \u00d7 12\n",
                            "\n",
                            "| <!--/--> | GeneID &lt;int&gt; | GSM1937035 &lt;int&gt; | GSM1937037 &lt;int&gt; | GSM5742788 &lt;int&gt; | GSM5742789 &lt;int&gt; | GSM5742790 &lt;int&gt; | GSM5742791 &lt;int&gt; | GSM5742792 &lt;int&gt; | GSM5742793 &lt;int&gt; | GSM5742794 &lt;int&gt; | GSM5742795 &lt;int&gt; | GSM5742796 &lt;int&gt; |\n",
                            "|---|---|---|---|---|---|---|---|---|---|---|---|---|\n",
                            "| 1 |  1 | 101 | 206 | 254 | 259 | 255 | 274 | 230 | 270 | 170 | 221 | 206 |\n",
                            "| 2 |  2 |  46 |  65 |   0 |   2 |   0 |   1 |   0 |   0 |   0 |   2 |   2 |\n",
                            "| 3 |  3 |   0 |   8 |   2 |   2 |   0 |   0 |   0 |   0 |   0 |   1 |   2 |\n",
                            "| 4 |  9 |  33 |  62 |  20 |  11 |  13 |  25 |  14 |  19 |  31 |  30 |  26 |\n",
                            "| 5 | 10 |   1 |   4 |   0 |   1 |   0 |   0 |   0 |   0 |   0 |   0 |   0 |\n",
                            "| 6 | 12 |   0 |   4 |   0 |   3 |   1 |   0 |   0 |   0 |   0 |   0 |   0 |\n",
                            "\n"
                        ],
                        "text/plain": [
                            "  GeneID GSM1937035 GSM1937037 GSM5742788 GSM5742789 GSM5742790 GSM5742791\n",
                            "1  1     101        206        254        259        255        274       \n",
                            "2  2      46         65          0          2          0          1       \n",
                            "3  3       0          8          2          2          0          0       \n",
                            "4  9      33         62         20         11         13         25       \n",
                            "5 10       1          4          0          1          0          0       \n",
                            "6 12       0          4          0          3          1          0       \n",
                            "  GSM5742792 GSM5742793 GSM5742794 GSM5742795 GSM5742796\n",
                            "1 230        270        170        221        206       \n",
                            "2   0          0          0          2          2       \n",
                            "3   0          0          0          1          2       \n",
                            "4  14         19         31         30         26       \n",
                            "5   0          0          0          0          0       \n",
                            "6   0          0          0          0          0       "
                        ]
                    },
                    "metadata": {},
                    "output_type": "display_data"
                }
            ],
            "source": [
                "# merge the two datasets\n",
                "merged_dataset <- merge(dataset1, dataset2, by=\"GeneID\", all=TRUE)\n",
                "print(dim(merged_dataset))\n",
                "head(merged_dataset)"
            ]
        },
        {
            "cell_type": "code",
            "execution_count": 5,
            "metadata": {
                "vscode": {
                    "languageId": "r"
                }
            },
            "outputs": [
                {
                    "data": {
                        "text/html": [
                            "<table class=\"dataframe\">\n",
                            "<caption>A data.frame: 6 \u00d7 16</caption>\n",
                            "<thead>\n",
                            "\t<tr><th></th><th scope=col>GeneID</th><th scope=col>GSM1937035</th><th scope=col>GSM1937037</th><th scope=col>GSM5742788</th><th scope=col>GSM5742789</th><th scope=col>GSM5742790</th><th scope=col>GSM5742791</th><th scope=col>GSM5742792</th><th scope=col>GSM5742793</th><th scope=col>GSM5742794</th><th scope=col>GSM5742795</th><th scope=col>GSM5742796</th><th scope=col>ensembl_gene_id</th><th scope=col>gene_biotype</th><th scope=col>hgnc_symbol</th><th scope=col>transcript_length</th></tr>\n",
                            "\t<tr><th></th><th scope=col>&lt;int&gt;</th><th scope=col>&lt;int&gt;</th><th scope=col>&lt;int&gt;</th><th scope=col>&lt;int&gt;</th><th scope=col>&lt;int&gt;</th><th scope=col>&lt;int&gt;</th><th scope=col>&lt;int&gt;</th><th scope=col>&lt;int&gt;</th><th scope=col>&lt;int&gt;</th><th scope=col>&lt;int&gt;</th><th scope=col>&lt;int&gt;</th><th scope=col>&lt;int&gt;</th><th scope=col>&lt;chr&gt;</th><th scope=col>&lt;chr&gt;</th><th scope=col>&lt;chr&gt;</th><th scope=col>&lt;int&gt;</th></tr>\n",
                            "</thead>\n",
                            "<tbody>\n",
                            "\t<tr><th scope=row>1</th><td>1</td><td>101</td><td>206</td><td>254</td><td>259</td><td>255</td><td>274</td><td>230</td><td>270</td><td>170</td><td>221</td><td>206</td><td>ENSG00000121410</td><td>protein_coding</td><td>A1BG</td><td>2134</td></tr>\n",
                            "\t<tr><th scope=row>2</th><td>1</td><td>101</td><td>206</td><td>254</td><td>259</td><td>255</td><td>274</td><td>230</td><td>270</td><td>170</td><td>221</td><td>206</td><td>ENSG00000121410</td><td>protein_coding</td><td>A1BG</td><td>3382</td></tr>\n",
                            "\t<tr><th scope=row>3</th><td>1</td><td>101</td><td>206</td><td>254</td><td>259</td><td>255</td><td>274</td><td>230</td><td>270</td><td>170</td><td>221</td><td>206</td><td>ENSG00000121410</td><td>protein_coding</td><td>A1BG</td><td>2301</td></tr>\n",
                            "\t<tr><th scope=row>4</th><td>1</td><td>101</td><td>206</td><td>254</td><td>259</td><td>255</td><td>274</td><td>230</td><td>270</td><td>170</td><td>221</td><td>206</td><td>ENSG00000121410</td><td>protein_coding</td><td>A1BG</td><td> 475</td></tr>\n",
                            "\t<tr><th scope=row>5</th><td>1</td><td>101</td><td>206</td><td>254</td><td>259</td><td>255</td><td>274</td><td>230</td><td>270</td><td>170</td><td>221</td><td>206</td><td>ENSG00000121410</td><td>protein_coding</td><td>A1BG</td><td> 917</td></tr>\n",
                            "\t<tr><th scope=row>6</th><td>2</td><td> 46</td><td> 65</td><td>  0</td><td>  2</td><td>  0</td><td>  1</td><td>  0</td><td>  0</td><td>  0</td><td>  2</td><td>  2</td><td>ENSG00000175899</td><td>protein_coding</td><td>A2M </td><td>4610</td></tr>\n",
                            "</tbody>\n",
                            "</table>\n"
                        ],
                        "text/latex": [
                            "A data.frame: 6 \u00d7 16\n",
                            "\\begin{tabular}{r|llllllllllllllll}\n",
                            "  & GeneID & GSM1937035 & GSM1937037 & GSM5742788 & GSM5742789 & GSM5742790 & GSM5742791 & GSM5742792 & GSM5742793 & GSM5742794 & GSM5742795 & GSM5742796 & ensembl\\_gene\\_id & gene\\_biotype & hgnc\\_symbol & transcript\\_length\\\\\n",
                            "  & <int> & <int> & <int> & <int> & <int> & <int> & <int> & <int> & <int> & <int> & <int> & <int> & <chr> & <chr> & <chr> & <int>\\\\\n",
                            "\\hline\n",
                            "\t1 & 1 & 101 & 206 & 254 & 259 & 255 & 274 & 230 & 270 & 170 & 221 & 206 & ENSG00000121410 & protein\\_coding & A1BG & 2134\\\\\n",
                            "\t2 & 1 & 101 & 206 & 254 & 259 & 255 & 274 & 230 & 270 & 170 & 221 & 206 & ENSG00000121410 & protein\\_coding & A1BG & 3382\\\\\n",
                            "\t3 & 1 & 101 & 206 & 254 & 259 & 255 & 274 & 230 & 270 & 170 & 221 & 206 & ENSG00000121410 & protein\\_coding & A1BG & 2301\\\\\n",
                            "\t4 & 1 & 101 & 206 & 254 & 259 & 255 & 274 & 230 & 270 & 170 & 221 & 206 & ENSG00000121410 & protein\\_coding & A1BG &  475\\\\\n",
                            "\t5 & 1 & 101 & 206 & 254 & 259 & 255 & 274 & 230 & 270 & 170 & 221 & 206 & ENSG00000121410 & protein\\_coding & A1BG &  917\\\\\n",
                            "\t6 & 2 &  46 &  65 &   0 &   2 &   0 &   1 &   0 &   0 &   0 &   2 &   2 & ENSG00000175899 & protein\\_coding & A2M  & 4610\\\\\n",
                            "\\end{tabular}\n"
                        ],
                        "text/markdown": [
                            "\n",
                            "A data.frame: 6 \u00d7 16\n",
                            "\n",
                            "| <!--/--> | GeneID &lt;int&gt; | GSM1937035 &lt;int&gt; | GSM1937037 &lt;int&gt; | GSM5742788 &lt;int&gt; | GSM5742789 &lt;int&gt; | GSM5742790 &lt;int&gt; | GSM5742791 &lt;int&gt; | GSM5742792 &lt;int&gt; | GSM5742793 &lt;int&gt; | GSM5742794 &lt;int&gt; | GSM5742795 &lt;int&gt; | GSM5742796 &lt;int&gt; | ensembl_gene_id &lt;chr&gt; | gene_biotype &lt;chr&gt; | hgnc_symbol &lt;chr&gt; | transcript_length &lt;int&gt; |\n",
                            "|---|---|---|---|---|---|---|---|---|---|---|---|---|---|---|---|---|\n",
                            "| 1 | 1 | 101 | 206 | 254 | 259 | 255 | 274 | 230 | 270 | 170 | 221 | 206 | ENSG00000121410 | protein_coding | A1BG | 2134 |\n",
                            "| 2 | 1 | 101 | 206 | 254 | 259 | 255 | 274 | 230 | 270 | 170 | 221 | 206 | ENSG00000121410 | protein_coding | A1BG | 3382 |\n",
                            "| 3 | 1 | 101 | 206 | 254 | 259 | 255 | 274 | 230 | 270 | 170 | 221 | 206 | ENSG00000121410 | protein_coding | A1BG | 2301 |\n",
                            "| 4 | 1 | 101 | 206 | 254 | 259 | 255 | 274 | 230 | 270 | 170 | 221 | 206 | ENSG00000121410 | protein_coding | A1BG |  475 |\n",
                            "| 5 | 1 | 101 | 206 | 254 | 259 | 255 | 274 | 230 | 270 | 170 | 221 | 206 | ENSG00000121410 | protein_coding | A1BG |  917 |\n",
                            "| 6 | 2 |  46 |  65 |   0 |   2 |   0 |   1 |   0 |   0 |   0 |   2 |   2 | ENSG00000175899 | protein_coding | A2M  | 4610 |\n",
                            "\n"
                        ],
                        "text/plain": [
                            "  GeneID GSM1937035 GSM1937037 GSM5742788 GSM5742789 GSM5742790 GSM5742791\n",
                            "1 1      101        206        254        259        255        274       \n",
                            "2 1      101        206        254        259        255        274       \n",
                            "3 1      101        206        254        259        255        274       \n",
                            "4 1      101        206        254        259        255        274       \n",
                            "5 1      101        206        254        259        255        274       \n",
                            "6 2       46         65          0          2          0          1       \n",
                            "  GSM5742792 GSM5742793 GSM5742794 GSM5742795 GSM5742796 ensembl_gene_id\n",
                            "1 230        270        170        221        206        ENSG00000121410\n",
                            "2 230        270        170        221        206        ENSG00000121410\n",
                            "3 230        270        170        221        206        ENSG00000121410\n",
                            "4 230        270        170        221        206        ENSG00000121410\n",
                            "5 230        270        170        221        206        ENSG00000121410\n",
                            "6   0          0          0          2          2        ENSG00000175899\n",
                            "  gene_biotype   hgnc_symbol transcript_length\n",
                            "1 protein_coding A1BG        2134             \n",
                            "2 protein_coding A1BG        3382             \n",
                            "3 protein_coding A1BG        2301             \n",
                            "4 protein_coding A1BG         475             \n",
                            "5 protein_coding A1BG         917             \n",
                            "6 protein_coding A2M         4610             "
                        ]
                    },
                    "metadata": {},
                    "output_type": "display_data"
                }
            ],
            "source": [
                "# convert the GeneID to gene symbol\n",
                "mart <- useMart(biomart=\"ENSEMBL_MART_ENSEMBL\", dataset=\"hsapiens_gene_ensembl\")\n",
                "gene_id <- merged_dataset$GeneID\n",
                "lookup <- getBM(\n",
                "mart = mart,\n",
                "attributes = c('entrezgene_id', 'ensembl_gene_id',\n",
                " 'gene_biotype','hgnc_symbol','transcript_length'),\n",
                "filter = 'entrezgene_id',\n",
                "values = gene_id,\n",
                "uniqueRows = TRUE)\n",
                "# merge the two datasets\n",
                "merged_dataset <- merge(merged_dataset, lookup, by.x=\"GeneID\", by.y=\"entrezgene_id\", all=TRUE)\n",
                "# write the merged dataset to a file\n",
                "head(merged_dataset)\n"
            ]
        },
        {
            "cell_type": "code",
            "execution_count": 6,
            "metadata": {
                "vscode": {
                    "languageId": "r"
                }
            },
            "outputs": [
                {
                    "data": {
                        "text/html": [
                            "<table class=\"dataframe\">\n",
                            "<caption>A data.frame: 6 \u00d7 5</caption>\n",
                            "<thead>\n",
                            "\t<tr><th></th><th scope=col>ensembl_gene_id</th><th scope=col>hgnc_symbol</th><th scope=col>transcript_length</th><th scope=col>GSM1937035</th><th scope=col>GSM1937037</th></tr>\n",
                            "\t<tr><th></th><th scope=col>&lt;int&gt;</th><th scope=col>&lt;chr&gt;</th><th scope=col>&lt;int&gt;</th><th scope=col>&lt;int&gt;</th><th scope=col>&lt;int&gt;</th></tr>\n",
                            "</thead>\n",
                            "<tbody>\n",
                            "\t<tr><th scope=row>1</th><td>1</td><td>A1BG</td><td>2134</td><td>101</td><td>206</td></tr>\n",
                            "\t<tr><th scope=row>2</th><td>1</td><td>A1BG</td><td>3382</td><td>101</td><td>206</td></tr>\n",
                            "\t<tr><th scope=row>3</th><td>1</td><td>A1BG</td><td>2301</td><td>101</td><td>206</td></tr>\n",
                            "\t<tr><th scope=row>4</th><td>1</td><td>A1BG</td><td> 475</td><td>101</td><td>206</td></tr>\n",
                            "\t<tr><th scope=row>5</th><td>1</td><td>A1BG</td><td> 917</td><td>101</td><td>206</td></tr>\n",
                            "\t<tr><th scope=row>6</th><td>2</td><td>A2M </td><td>4610</td><td> 46</td><td> 65</td></tr>\n",
                            "</tbody>\n",
                            "</table>\n"
                        ],
                        "text/latex": [
                            "A data.frame: 6 \u00d7 5\n",
                            "\\begin{tabular}{r|lllll}\n",
                            "  & ensembl\\_gene\\_id & hgnc\\_symbol & transcript\\_length & GSM1937035 & GSM1937037\\\\\n",
                            "  & <int> & <chr> & <int> & <int> & <int>\\\\\n",
                            "\\hline\n",
                            "\t1 & 1 & A1BG & 2134 & 101 & 206\\\\\n",
                            "\t2 & 1 & A1BG & 3382 & 101 & 206\\\\\n",
                            "\t3 & 1 & A1BG & 2301 & 101 & 206\\\\\n",
                            "\t4 & 1 & A1BG &  475 & 101 & 206\\\\\n",
                            "\t5 & 1 & A1BG &  917 & 101 & 206\\\\\n",
                            "\t6 & 2 & A2M  & 4610 &  46 &  65\\\\\n",
                            "\\end{tabular}\n"
                        ],
                        "text/markdown": [
                            "\n",
                            "A data.frame: 6 \u00d7 5\n",
                            "\n",
                            "| <!--/--> | ensembl_gene_id &lt;int&gt; | hgnc_symbol &lt;chr&gt; | transcript_length &lt;int&gt; | GSM1937035 &lt;int&gt; | GSM1937037 &lt;int&gt; |\n",
                            "|---|---|---|---|---|---|\n",
                            "| 1 | 1 | A1BG | 2134 | 101 | 206 |\n",
                            "| 2 | 1 | A1BG | 3382 | 101 | 206 |\n",
                            "| 3 | 1 | A1BG | 2301 | 101 | 206 |\n",
                            "| 4 | 1 | A1BG |  475 | 101 | 206 |\n",
                            "| 5 | 1 | A1BG |  917 | 101 | 206 |\n",
                            "| 6 | 2 | A2M  | 4610 |  46 |  65 |\n",
                            "\n"
                        ],
                        "text/plain": [
                            "  ensembl_gene_id hgnc_symbol transcript_length GSM1937035 GSM1937037\n",
                            "1 1               A1BG        2134              101        206       \n",
                            "2 1               A1BG        3382              101        206       \n",
                            "3 1               A1BG        2301              101        206       \n",
                            "4 1               A1BG         475              101        206       \n",
                            "5 1               A1BG         917              101        206       \n",
                            "6 2               A2M         4610               46         65       "
                        ]
                    },
                    "metadata": {},
                    "output_type": "display_data"
                },
                {
                    "data": {
                        "text/html": [
                            "<table class=\"dataframe\">\n",
                            "<caption>A data.frame: 6 \u00d7 12</caption>\n",
                            "<thead>\n",
                            "\t<tr><th></th><th scope=col>ensembl_gene_id</th><th scope=col>hgnc_symbol</th><th scope=col>transcript_length</th><th scope=col>GSM5742788</th><th scope=col>GSM5742789</th><th scope=col>GSM5742790</th><th scope=col>GSM5742791</th><th scope=col>GSM5742792</th><th scope=col>GSM5742793</th><th scope=col>GSM5742794</th><th scope=col>GSM5742795</th><th scope=col>GSM5742796</th></tr>\n",
                            "\t<tr><th></th><th scope=col>&lt;int&gt;</th><th scope=col>&lt;chr&gt;</th><th scope=col>&lt;int&gt;</th><th scope=col>&lt;int&gt;</th><th scope=col>&lt;int&gt;</th><th scope=col>&lt;int&gt;</th><th scope=col>&lt;int&gt;</th><th scope=col>&lt;int&gt;</th><th scope=col>&lt;int&gt;</th><th scope=col>&lt;int&gt;</th><th scope=col>&lt;int&gt;</th><th scope=col>&lt;int&gt;</th></tr>\n",
                            "</thead>\n",
                            "<tbody>\n",
                            "\t<tr><th scope=row>1</th><td>1</td><td>A1BG</td><td>2134</td><td>254</td><td>259</td><td>255</td><td>274</td><td>230</td><td>270</td><td>170</td><td>221</td><td>206</td></tr>\n",
                            "\t<tr><th scope=row>2</th><td>1</td><td>A1BG</td><td>3382</td><td>254</td><td>259</td><td>255</td><td>274</td><td>230</td><td>270</td><td>170</td><td>221</td><td>206</td></tr>\n",
                            "\t<tr><th scope=row>3</th><td>1</td><td>A1BG</td><td>2301</td><td>254</td><td>259</td><td>255</td><td>274</td><td>230</td><td>270</td><td>170</td><td>221</td><td>206</td></tr>\n",
                            "\t<tr><th scope=row>4</th><td>1</td><td>A1BG</td><td> 475</td><td>254</td><td>259</td><td>255</td><td>274</td><td>230</td><td>270</td><td>170</td><td>221</td><td>206</td></tr>\n",
                            "\t<tr><th scope=row>5</th><td>1</td><td>A1BG</td><td> 917</td><td>254</td><td>259</td><td>255</td><td>274</td><td>230</td><td>270</td><td>170</td><td>221</td><td>206</td></tr>\n",
                            "\t<tr><th scope=row>6</th><td>2</td><td>A2M </td><td>4610</td><td>  0</td><td>  2</td><td>  0</td><td>  1</td><td>  0</td><td>  0</td><td>  0</td><td>  2</td><td>  2</td></tr>\n",
                            "</tbody>\n",
                            "</table>\n"
                        ],
                        "text/latex": [
                            "A data.frame: 6 \u00d7 12\n",
                            "\\begin{tabular}{r|llllllllllll}\n",
                            "  & ensembl\\_gene\\_id & hgnc\\_symbol & transcript\\_length & GSM5742788 & GSM5742789 & GSM5742790 & GSM5742791 & GSM5742792 & GSM5742793 & GSM5742794 & GSM5742795 & GSM5742796\\\\\n",
                            "  & <int> & <chr> & <int> & <int> & <int> & <int> & <int> & <int> & <int> & <int> & <int> & <int>\\\\\n",
                            "\\hline\n",
                            "\t1 & 1 & A1BG & 2134 & 254 & 259 & 255 & 274 & 230 & 270 & 170 & 221 & 206\\\\\n",
                            "\t2 & 1 & A1BG & 3382 & 254 & 259 & 255 & 274 & 230 & 270 & 170 & 221 & 206\\\\\n",
                            "\t3 & 1 & A1BG & 2301 & 254 & 259 & 255 & 274 & 230 & 270 & 170 & 221 & 206\\\\\n",
                            "\t4 & 1 & A1BG &  475 & 254 & 259 & 255 & 274 & 230 & 270 & 170 & 221 & 206\\\\\n",
                            "\t5 & 1 & A1BG &  917 & 254 & 259 & 255 & 274 & 230 & 270 & 170 & 221 & 206\\\\\n",
                            "\t6 & 2 & A2M  & 4610 &   0 &   2 &   0 &   1 &   0 &   0 &   0 &   2 &   2\\\\\n",
                            "\\end{tabular}\n"
                        ],
                        "text/markdown": [
                            "\n",
                            "A data.frame: 6 \u00d7 12\n",
                            "\n",
                            "| <!--/--> | ensembl_gene_id &lt;int&gt; | hgnc_symbol &lt;chr&gt; | transcript_length &lt;int&gt; | GSM5742788 &lt;int&gt; | GSM5742789 &lt;int&gt; | GSM5742790 &lt;int&gt; | GSM5742791 &lt;int&gt; | GSM5742792 &lt;int&gt; | GSM5742793 &lt;int&gt; | GSM5742794 &lt;int&gt; | GSM5742795 &lt;int&gt; | GSM5742796 &lt;int&gt; |\n",
                            "|---|---|---|---|---|---|---|---|---|---|---|---|---|\n",
                            "| 1 | 1 | A1BG | 2134 | 254 | 259 | 255 | 274 | 230 | 270 | 170 | 221 | 206 |\n",
                            "| 2 | 1 | A1BG | 3382 | 254 | 259 | 255 | 274 | 230 | 270 | 170 | 221 | 206 |\n",
                            "| 3 | 1 | A1BG | 2301 | 254 | 259 | 255 | 274 | 230 | 270 | 170 | 221 | 206 |\n",
                            "| 4 | 1 | A1BG |  475 | 254 | 259 | 255 | 274 | 230 | 270 | 170 | 221 | 206 |\n",
                            "| 5 | 1 | A1BG |  917 | 254 | 259 | 255 | 274 | 230 | 270 | 170 | 221 | 206 |\n",
                            "| 6 | 2 | A2M  | 4610 |   0 |   2 |   0 |   1 |   0 |   0 |   0 |   2 |   2 |\n",
                            "\n"
                        ],
                        "text/plain": [
                            "  ensembl_gene_id hgnc_symbol transcript_length GSM5742788 GSM5742789\n",
                            "1 1               A1BG        2134              254        259       \n",
                            "2 1               A1BG        3382              254        259       \n",
                            "3 1               A1BG        2301              254        259       \n",
                            "4 1               A1BG         475              254        259       \n",
                            "5 1               A1BG         917              254        259       \n",
                            "6 2               A2M         4610                0          2       \n",
                            "  GSM5742790 GSM5742791 GSM5742792 GSM5742793 GSM5742794 GSM5742795 GSM5742796\n",
                            "1 255        274        230        270        170        221        206       \n",
                            "2 255        274        230        270        170        221        206       \n",
                            "3 255        274        230        270        170        221        206       \n",
                            "4 255        274        230        270        170        221        206       \n",
                            "5 255        274        230        270        170        221        206       \n",
                            "6   0          1          0          0          0          2          2       "
                        ]
                    },
                    "metadata": {},
                    "output_type": "display_data"
                }
            ],
            "source": [
                "# get some of the columns\n",
                "dataset1 <- data.frame(merged_dataset$GeneID, merged_dataset$hgnc_symbol, merged_dataset$transcript_length, merged_dataset$GSM1937035, merged_dataset$GSM1937037)\n",
                "dataset2 <- data.frame(merged_dataset$GeneID, merged_dataset$hgnc_symbol, merged_dataset$transcript_length, merged_dataset$GSM5742788, merged_dataset$GSM5742789, merged_dataset$GSM5742790, merged_dataset$GSM5742791, merged_dataset$GSM5742792, merged_dataset$GSM5742793, merged_dataset$GSM5742794, merged_dataset$GSM5742795, merged_dataset$GSM5742796)\n",
                "# rename the columns to remove merged_dataset. prefix\n",
                "colnames(dataset1) <- c(\"ensembl_gene_id\",\t\t\"hgnc_symbol\",\t\"transcript_length\", \"GSM1937035\", \"GSM1937037\")\n",
                "colnames(dataset2) <- c(\"ensembl_gene_id\",\t\t\"hgnc_symbol\",\t\"transcript_length\", \"GSM5742788\", \"GSM5742789\", \"GSM5742790\", \"GSM5742791\", \"GSM5742792\", \"GSM5742793\", \"GSM5742794\", \"GSM5742795\", \"GSM5742796\")\n",
                "head(dataset1)\n",
                "head(dataset2)"
            ]
        },
        {
            "cell_type": "code",
            "execution_count": 7,
            "metadata": {
                "vscode": {
                    "languageId": "r"
                }
            },
            "outputs": [],
            "source": [
                "# normalize all genes via FPKM\n",
                "# get the gene lengths\n",
                "\n",
                "# get the counts\n",
                "# define the fpkm for each column that begins with GSM\n",
                "for (i in 1:ncol(dataset1)) {\n",
                "if (grepl(\"GSM\", colnames(dataset1)[i])) {\n",
                " dataset1[,colnames(dataset1)[i]] <- dataset1[,colnames(dataset1)[i]] / dataset1$transcript_length\n",
                "}\n",
                "}\n",
                "for (i in 1:ncol(dataset2)) {\n",
                "if (grepl(\"GSM\", colnames(dataset2)[i])) {\n",
                " dataset2[,colnames(dataset2)[i]] <- dataset2[,colnames(dataset2)[i]] / dataset2$transcript_length\n",
                "}\n",
                "}"
            ]
        },
        {
            "cell_type": "code",
            "execution_count": 8,
            "metadata": {
                "vscode": {
                    "languageId": "r"
                }
            },
            "outputs": [],
            "source": [
                "# plot the FPKM for GSDMD genes\n",
                "genes <- c(\n",
                " \"GSDMA\",\n",
                " \"GSDMB\",\n",
                " \"GSDMC\",\n",
                " \"GSDMD\",\n",
                " \"GSDME\"\n",
                ")\n",
                "# get only genes of interest for dataset1\n",
                "dataset1 <- dataset1[dataset1$hgnc_symbol %in% genes,]\n",
                "# get only genes of interest for dataset2\n",
                "dataset2 <- dataset2[dataset2$hgnc_symbol %in% genes,]\n",
                "# drop esemble gene id, transcript length and gene lengths\n",
                "dataset1$ensembl_gene_id <- NULL\n",
                "dataset1$transcript_length <- NULL\n",
                "dataset1$gene_lengths <- NULL\n",
                "dataset2$ensembl_gene_id <- NULL\n",
                "dataset2$transcript_length <- NULL\n",
                "dataset2$gene_lengths <- NULL\n",
                "\n",
                "# make each dataset tidy long format\n",
                "dataset1 <- gather(dataset1, key=\"sample\", value=\"fpkm\", -hgnc_symbol)\n",
                "dataset2 <- gather(dataset2, key=\"sample\", value=\"fpkm\", -hgnc_symbol)\n",
                "# concat the two datasets\n",
                "dataset <- rbind(dataset1, dataset2)"
            ]
        },
        {
            "cell_type": "code",
            "execution_count": 9,
            "metadata": {
                "vscode": {
                    "languageId": "r"
                }
            },
            "outputs": [
                {
                    "name": "stderr",
                    "output_type": "stream",
                    "text": [
                        "\u001b[1m\u001b[22m`summarise()` has grouped output by 'hgnc_symbol'. You can override using the\n",
                        "`.groups` argument.\n"
                    ]
                },
                {
                    "data": {
                        "text/html": [
                            "<table class=\"dataframe\">\n",
                            "<caption>A grouped_df: 6 \u00d7 4</caption>\n",
                            "<thead>\n",
                            "\t<tr><th scope=col>hgnc_symbol</th><th scope=col>sample</th><th scope=col>mean_fpkm</th><th scope=col>sd_fpkm</th></tr>\n",
                            "\t<tr><th scope=col>&lt;chr&gt;</th><th scope=col>&lt;chr&gt;</th><th scope=col>&lt;dbl&gt;</th><th scope=col>&lt;dbl&gt;</th></tr>\n",
                            "</thead>\n",
                            "<tbody>\n",
                            "\t<tr><td>GSDMA</td><td>GSM1937035</td><td>0.000000000</td><td>0.000000000</td></tr>\n",
                            "\t<tr><td>GSDMA</td><td>GSM1937037</td><td>0.004905614</td><td>0.003694783</td></tr>\n",
                            "\t<tr><td>GSDMA</td><td>GSM5742788</td><td>0.000000000</td><td>0.000000000</td></tr>\n",
                            "\t<tr><td>GSDMA</td><td>GSM5742789</td><td>0.000000000</td><td>0.000000000</td></tr>\n",
                            "\t<tr><td>GSDMA</td><td>GSM5742790</td><td>0.000000000</td><td>0.000000000</td></tr>\n",
                            "\t<tr><td>GSDMA</td><td>GSM5742791</td><td>0.000000000</td><td>0.000000000</td></tr>\n",
                            "</tbody>\n",
                            "</table>\n"
                        ],
                        "text/latex": [
                            "A grouped\\_df: 6 \u00d7 4\n",
                            "\\begin{tabular}{llll}\n",
                            " hgnc\\_symbol & sample & mean\\_fpkm & sd\\_fpkm\\\\\n",
                            " <chr> & <chr> & <dbl> & <dbl>\\\\\n",
                            "\\hline\n",
                            "\t GSDMA & GSM1937035 & 0.000000000 & 0.000000000\\\\\n",
                            "\t GSDMA & GSM1937037 & 0.004905614 & 0.003694783\\\\\n",
                            "\t GSDMA & GSM5742788 & 0.000000000 & 0.000000000\\\\\n",
                            "\t GSDMA & GSM5742789 & 0.000000000 & 0.000000000\\\\\n",
                            "\t GSDMA & GSM5742790 & 0.000000000 & 0.000000000\\\\\n",
                            "\t GSDMA & GSM5742791 & 0.000000000 & 0.000000000\\\\\n",
                            "\\end{tabular}\n"
                        ],
                        "text/markdown": [
                            "\n",
                            "A grouped_df: 6 \u00d7 4\n",
                            "\n",
                            "| hgnc_symbol &lt;chr&gt; | sample &lt;chr&gt; | mean_fpkm &lt;dbl&gt; | sd_fpkm &lt;dbl&gt; |\n",
                            "|---|---|---|---|\n",
                            "| GSDMA | GSM1937035 | 0.000000000 | 0.000000000 |\n",
                            "| GSDMA | GSM1937037 | 0.004905614 | 0.003694783 |\n",
                            "| GSDMA | GSM5742788 | 0.000000000 | 0.000000000 |\n",
                            "| GSDMA | GSM5742789 | 0.000000000 | 0.000000000 |\n",
                            "| GSDMA | GSM5742790 | 0.000000000 | 0.000000000 |\n",
                            "| GSDMA | GSM5742791 | 0.000000000 | 0.000000000 |\n",
                            "\n"
                        ],
                        "text/plain": [
                            "  hgnc_symbol sample     mean_fpkm   sd_fpkm    \n",
                            "1 GSDMA       GSM1937035 0.000000000 0.000000000\n",
                            "2 GSDMA       GSM1937037 0.004905614 0.003694783\n",
                            "3 GSDMA       GSM5742788 0.000000000 0.000000000\n",
                            "4 GSDMA       GSM5742789 0.000000000 0.000000000\n",
                            "5 GSDMA       GSM5742790 0.000000000 0.000000000\n",
                            "6 GSDMA       GSM5742791 0.000000000 0.000000000"
                        ]
                    },
                    "metadata": {},
                    "output_type": "display_data"
                }
            ],
            "source": [
                "# get the mean and standard deviation for each gene for each sample\n",
                "dataset <- dataset %>%\n",
                "group_by(hgnc_symbol, sample) %>%\n",
                "summarise(mean_fpkm = mean(fpkm), sd_fpkm = sd(fpkm))\n",
                "head(dataset)"
            ]
        },
        {
            "cell_type": "code",
            "execution_count": 10,
            "metadata": {
                "vscode": {
                    "languageId": "r"
                }
            },
            "outputs": [
                {
                    "data": {
                        "image/png": "[encoded data removed]",
                        "text/plain": [
                            "plot without title"
                        ]
                    },
                    "metadata": {
                        "image/png": {
                            "height": 420,
                            "width": 420
                        }
                    },
                    "output_type": "display_data"
                }
            ],
            "source": [
                "plot <- (\n",
                " ggplot(dataset, aes(x=hgnc_symbol, y=mean_fpkm, fill=hgnc_symbol)) \n",
                " + geom_bar(stat=\"identity\") \n",
                " + theme(axis.text.x = element_text(angle = 90, hjust = 1)) \n",
                " + labs(y=\"Mean FPKM\") \n",
                " # remove the x-axis label\n",
                " + theme(axis.title.x=element_blank(), axis.text.x=element_blank(), axis.ticks.x=element_blank())\n",
                " + geom_errorbar(aes(ymin=mean_fpkm-sd_fpkm, ymax=mean_fpkm+sd_fpkm), width=.2, position=position_dodge(.9)) \n",
                " # rename legend title\n",
                "+ labs(fill=\"Gene\")\n",
                " + theme_bw()\n",
                " + facet_wrap(~sample)\n",
                ")\n",
                "ggsave(file.path(figures_dir, \"GSDMD_gene_expression_SHSY5Y_dataset.png\"), plot, width=12, height=8)\n",
                "plot\n"
            ]
        }
    ],
    "metadata": {
        "kernelspec": {
            "display_name": "R",
            "language": "R",
            "name": "ir"
        },
        "language_info": {
            "codemirror_mode": "r",
            "file_extension": ".r",
            "mimetype": "text/x-r-source",
            "name": "R",
            "pygments_lexer": "r",
            "version": "4.2.2"
        }
    },
    "nbformat": 4,
    "nbformat_minor": 2
}
