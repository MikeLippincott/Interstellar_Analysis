{
    "cells": [
        {
            "cell_type": "code",
            "execution_count": 1,
            "metadata": {
                "vscode": {
                    "languageId": "r"
                }
            },
            "outputs": [],
            "source": [
                "\n",
                "list_of_packages <- c(\"dplyr\",\"tidyr\",\"biomaRt\")\n",
                "for(package in list_of_packages){\n",
                "suppressPackageStartupMessages(suppressMessages(suppressWarnings(library(package,character.only=TRUE))))\n",
                "}"
            ]
        },
        {
            "cell_type": "code",
            "execution_count": 2,
            "metadata": {
                "vscode": {
                    "languageId": "r"
                }
            },
            "outputs": [],
            "source": [
                "genes <- c(\n",
                "    \"GSDMA\",\n",
                "    \"GSDMB\",\n",
                "    \"GSDMC\",\n",
                "    \"GSDMD\",\n",
                "    \"GSDME\",\n",
                "    \"TLR4\",\n",
                "    \"TLR5\",\n",
                "    \"CASP1\",\n",
                "    \"CASP2\",\n",
                "    \"CASP3\",\n",
                "    \"CASP4\",\n",
                "    \"CASP5\",\n",
                "    \"CASP6\",\n",
                "    \"CASP7\",\n",
                "    \"CASP8\",\n",
                "    \"CASP9\",\n",
                "    \"CASP10\",\n",
                "    \"CASP11\"\n",
                ")\n",
                "selected_genes <- TRUE"
            ]
        },
        {
            "cell_type": "code",
            "execution_count": 4,
            "metadata": {
                "vscode": {
                    "languageId": "r"
                }
            },
            "outputs": [
                {
                    "ename": "ERROR",
                    "evalue": "Error in curl::curl_fetch_memory(url, handle = handle): Timeout was reached: [www.ensembl.org:443] Operation timed out after 10004 milliseconds with 0 bytes received\n",
                    "output_type": "error",
                    "traceback": [
                        "Error in curl::curl_fetch_memory(url, handle = handle): Timeout was reached: [www.ensembl.org:443] Operation timed out after 10004 milliseconds with 0 bytes received\nTraceback:\n",
                        "1. useMart(biomart = \"ENSEMBL_MART_ENSEMBL\", dataset = \"hsapiens_gene_ensembl\")",
                        "2. .useMart(biomart, dataset, host = host, path = path, port = port, \n .     archive = archive, version = version, verbose = verbose, \n .     httr_config = list(httr::config()), ensemblRedirect = TRUE)",
                        "3. useDataset(mart = mart, dataset = dataset, verbose = verbose)",
                        "4. .getAttributes(mart, verbose = verbose)",
                        "5. .getAttrFilt(mart = mart, verbose = verbose, type = \"attributes\")",
                        "6. bmRequest(request = request, httr_config = martHTTRConfig(mart), \n .     verbose = verbose)",
                        "7. httr::GET(request, config = httr_config, content_type(\"text/plain\"), \n .     timeout(10))",
                        "8. request_perform(req, hu$handle$handle)",
                        "9. request_fetch(req$output, req$url, handle)",
                        "10. request_fetch.write_memory(req$output, req$url, handle)",
                        "11. curl::curl_fetch_memory(url, handle = handle)"
                    ]
                }
            ],
            "source": [
                "data_path <- file.path(\"../data/gtex_data\")\n",
                "data_files <- list.files(data_path, pattern = \"gct\", full.names = TRUE)\n",
                "\n",
                "rna_df <- data.frame()\n",
                "for (file in data_files){\n",
                "    tmp_df <- read.table(file, header = TRUE, skip = 2, sep = \"\\t\", stringsAsFactors = FALSE)\n",
                "    # trim the decimal from the Name column\n",
                "    if (selected_genes){\n",
                "        tmp_df <- tmp_df[tmp_df$Description %in% genes,]\n",
                "    }\n",
                "    # rename the Description column to geneID\n",
                "    colnames(tmp_df)[2] <- \"geneID\"\n",
                "    colnames(tmp_df)[1] <- \"Ensembl\"\n",
                "\n",
                "    # drop the Name column\n",
                "    tmp_df <- tmp_df[, !names(tmp_df) %in% \"Name\"]\n",
                "    tmp_df <- tmp_df[, !names(tmp_df) %in% \"Description\"]\n",
                "    # convert the GeneID to gene symbol\n",
                "    mart <- useMart(biomart=\"ENSEMBL_MART_ENSEMBL\", dataset=\"hsapiens_gene_ensembl\")\n",
                "    gene_id <- unique(tmp_df$Ensembl)\n",
                "\n",
                "    lookup <- getBM(\n",
                "        mart = mart,\n",
                "        attributes = c('transcript_length','ensembl_gene_id'),\n",
                "        filter = 'ensembl_gene_id',\n",
                "        values = gene_id,\n",
                "        uniqueRows = TRUE\n",
                "        )\n",
                "    tmp_df <- merge(tmp_df, lookup, by.x=\"Ensembl\", by.y=\"ensembl_gene_id\", all=TRUE)\n",
                "    # make the df tidy long format\n",
                "    tmp_df <- tmp_df %>% \n",
                "        pivot_longer(cols = -c(Ensembl, geneID,transcript_length), names_to = \"Sample\", values_to = \"expression\") %>%\n",
                "        mutate(tissue = gsub(\"../data/gtex_data/gene_reads_v10_\", \"\", file)) %>%\n",
                "        mutate(tissue = gsub(\".gct\", \"\", tissue))\n",
                "\n",
                "    rna_df <- rbind(rna_df, tmp_df)\n",
                "}\n",
                "head(rna_df)"
            ]
        },
        {
            "cell_type": "code",
            "execution_count": null,
            "metadata": {
                "vscode": {
                    "languageId": "r"
                }
            },
            "outputs": [],
            "source": [
                "# save the compiled gtex data to a file\n",
                "if (selected_genes){\n",
                "    all_gtex_tissue_data <- file.path(\"../data/genes_of_interest_gtex_tissue_data.tsv\")\n",
                "} else {\n",
                "    all_gtex_tissue_data <- file.path(\"../data/all_gtex_tissue_data.tsv\")\n",
                "}\n",
                "\n",
                "write.table(rna_df, file = all_gtex_tissue_data, sep = \"\\t\", row.names = FALSE)"
            ]
        }
    ],
    "metadata": {
        "kernelspec": {
            "display_name": "R",
            "language": "R",
            "name": "ir"
        },
        "language_info": {
            "codemirror_mode": "r",
            "file_extension": ".r",
            "mimetype": "text/x-r-source",
            "name": "R",
            "pygments_lexer": "r",
            "version": "4.2.2"
        }
    },
    "nbformat": 4,
    "nbformat_minor": 2
}
