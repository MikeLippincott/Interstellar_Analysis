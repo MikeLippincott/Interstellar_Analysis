{
    "cells": [
        {
            "cell_type": "code",
            "execution_count": 19,
            "metadata": {
                "vscode": {
                    "languageId": "r"
                }
            },
            "outputs": [],
            "source": [
                "\n",
                "list_of_packages <- c(\"ggplot2\", \"dplyr\", \"DESeq2\",\"biomaRt\",\"tidyr\")\n",
                "for(package in list_of_packages){\n",
                "suppressPackageStartupMessages(suppressMessages(suppressWarnings(library(package,character.only=TRUE))))\n",
                "}"
            ]
        },
        {
            "cell_type": "code",
            "execution_count": 36,
            "metadata": {
                "vscode": {
                    "languageId": "r"
                }
            },
            "outputs": [
                {
                    "ename": "",
                    "evalue": "",
                    "output_type": "error",
                    "traceback": [
                        "\u001b[1;31mThe Kernel crashed while executing code in the current cell or a previous cell. \n",
                        "\u001b[1;31mPlease review the code in the cell(s) to identify a possible cause of the failure. \n",
                        "\u001b[1;31mClick <a href='https://aka.ms/vscodeJupyterKernelCrash'>here</a> for more info. \n",
                        "\u001b[1;31mView Jupyter <a href='command:jupyter.viewOutput'>log</a> for further details."
                    ]
                }
            ],
            "source": [
                "data_path <- file.path(\"../data/gtex_data\")\n",
                "data_files <- list.files(data_path, pattern = \"gct\", full.names = TRUE)\n",
                "rna_df <- data.frame()\n",
                "for (file in data_files){\n",
                "    tmp_df <- read.table(file, header = TRUE, skip = 2, sep = \"\\t\", stringsAsFactors = FALSE)\n",
                "    \n",
                "        drop_cols <- c(\"Description\")\n",
                "        tmp_df <- tmp_df[, !names(tmp_df) %in% drop_cols]\n",
                "\n",
                "        # make the df tidy long format\n",
                "        tmp_df <- tmp_df %>% \n",
                "            gather(key = \"Description\", value = \"expression\", -1) %>% \n",
                "            mutate(tissue = gsub(\"../data/gtex_data/gene_reads_v10_\", \"\", data_files[1])) %>%\n",
                "            mutate(tissue = gsub(\".gct\", \"\", tissue))\n",
                "    rna_df <- rbind(rna_df, tmp_df)\n",
                "}\n",
                "head(rna_df)\n",
                "# tmp_df <- read.table(data_files[1], header = TRUE, skip = 2, sep = \"\\t\", stringsAsFactors = FALSE)"
            ]
        },
        {
            "cell_type": "code",
            "execution_count": null,
            "metadata": {
                "vscode": {
                    "languageId": "r"
                }
            },
            "outputs": [],
            "source": [
                "# save the compiled gtex data to a file\n",
                "all_gtex_tissue_data <- file.path(\"../data/all_gtex_tissue_data.tsv\")\n",
                "write.table(rna_df, file = all_gtex_tissue_data, sep = \"\\t\", row.names = FALSE)"
            ]
        }
    ],
    "metadata": {
        "kernelspec": {
            "display_name": "R",
            "language": "R",
            "name": "ir"
        },
        "language_info": {
            "codemirror_mode": "r",
            "file_extension": ".r",
            "mimetype": "text/x-r-source",
            "name": "R",
            "pygments_lexer": "r",
            "version": "4.2.2"
        }
    },
    "nbformat": 4,
    "nbformat_minor": 2
}
