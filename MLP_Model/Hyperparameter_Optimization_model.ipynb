{
 "cells": [
  {
   "attachments": {},
   "cell_type": "markdown",
   "id": "8e60628c",
   "metadata": {},
   "source": [
    "## Hyperparameter tuning via Optuna"
   ]
  },
  {
   "cell_type": "markdown",
   "id": "8fac71a5",
   "metadata": {},
   "source": [
    "### Being a binary model this notebook will be limited to predicting one class 1 or 0, yes or no.\n",
    "### Here I will be predicting if a cell received a treatment or not"
   ]
  },
  {
   "cell_type": "code",
   "execution_count": 1,
   "id": "860a61dd",
   "metadata": {},
   "outputs": [],
   "source": [
    "import sys\n",
    "from pathlib import Path\n",
    "\n",
    "import matplotlib.pyplot as plt\n",
    "import numpy as np\n",
    "import optuna\n",
    "import pandas as pd\n",
    "import plotly\n",
    "import seaborn as sns\n",
    "import toml\n",
    "import torch\n",
    "import torch.nn as nn\n",
    "import torch.optim as optim\n",
    "from sklearn import preprocessing\n",
    "\n",
    "from sklearn.model_selection import train_test_split\n",
    "\n",
    "sys.path.append(\"..\")\n",
    "from MLP_utils.parameters import Parameters\n",
    "from sklearn.metrics import confusion_matrix\n",
    "from sklearn.metrics import precision_score, recall_score\n",
    "from sklearn.metrics import roc_auc_score\n",
    "\n",
    "from sklearn.metrics import roc_curve, auc\n",
    "\n",
    "\n",
    "from MLP_utils.utils import (\n",
    "    Dataset_formatter,\n",
    "    data_split,\n",
    "    extract_best_trial_params,\n",
    "    objective_model_optimizer,\n",
    "    optimized_model_create,\n",
    "    plot_metric_vs_epoch,\n",
    "    results_output,\n",
    "    test_optimized_model,\n",
    "    train_optimized_model,\n",
    "    un_nest,\n",
    ")\n",
    "\n",
    "from utils.utils import df_stats\n",
    "from MLP_utils.utils import parameter_set"
   ]
  },
  {
   "cell_type": "code",
   "execution_count": 2,
   "id": "44baa945",
   "metadata": {},
   "outputs": [],
   "source": [
    "# Import Data\n",
    "# set data file path under pathlib path for multi-system use\n",
    "file_path = Path(\n",
    "    \"../../Extracted_Features_(CSV_files)/interstellar_wave3_sc_norm_fs_cellprofiler.csv.gz\"\n",
    ")\n",
    "df = pd.read_csv(file_path, engine=\"pyarrow\")"
   ]
  },
  {
   "cell_type": "code",
   "execution_count": 3,
   "id": "394294ce",
   "metadata": {},
   "outputs": [],
   "source": [
    "data = Path(\"MLP_utils/config.toml\")\n",
    "config = toml.load(data)\n",
    "params = Parameters()\n",
    "params = parameter_set(params, config)"
   ]
  },
  {
   "attachments": {},
   "cell_type": "markdown",
   "id": "5c486e00",
   "metadata": {},
   "source": [
    "#### Set up Data to be compatible with model"
   ]
  },
  {
   "attachments": {},
   "cell_type": "markdown",
   "id": "95754baa",
   "metadata": {},
   "source": [
    "##### Classification Models:\n",
    "Comment out code if using regression"
   ]
  },
  {
   "cell_type": "code",
   "execution_count": 4,
   "id": "786e3a76",
   "metadata": {},
   "outputs": [
    {
     "name": "stdout",
     "output_type": "stream",
     "text": [
      "Unique Catagories are:\n",
      "['LPS_10µg/ml' 'Disulfiram_2.5µM' 'LPS_1µg/ml' 'Disulfiram_0.1µM'\n",
      " 'H2O2_500µM' 'Thapsi_10µM' 'H2O2_50µM' 'Thapsi_1µM' 'ATP_1mM'\n",
      " 'LPS + Nigericin_1µg/ml + 10µM' 'ATP_0.1mM'\n",
      " 'LPS + Nigericin_1µg/ml + 1µM' 'Flagellin_1µg/ml' 'DMSO 0.1%_0'\n",
      " 'Flagellin_0.1µg/ml' 'Media only_0']\n",
      "Selected Catagories are:\n",
      "['LPS_10µg/ml' 'Disulfiram_2.5µM' 'Media only_0']\n",
      "The dimensions of the data are: (50049, 569)\n",
      "Number of total missing values across all columns: 0\n",
      "Data Subset Is Off\n"
     ]
    }
   ],
   "source": [
    "# Combine treatment with dosage to be able to discern treatments with different doses as a different condition\n",
    "# Combine treatment and dose\n",
    "df = df.assign(\n",
    "    Metadata_Treatment_and_Dose=lambda x: df[\"Metadata_treatment\"]\n",
    "    + \"_\"\n",
    "    + df[\"Metadata_dose\"]\n",
    ")\n",
    "\n",
    "print(\"Unique Catagories are:\")\n",
    "print(df[\"Metadata_Treatment_and_Dose\"].unique())\n",
    "\n",
    "# Generate df specific to analysis and model\n",
    "df = df.query(\n",
    "    \"Metadata_Treatment_and_Dose == 'LPS_10µg/ml'| Metadata_Treatment_and_Dose == 'Media only_0' | Metadata_Treatment_and_Dose == 'Disulfiram_2.5µM'\"\n",
    ")\n",
    "# for binary classification testing\n",
    "# df = df.query(\n",
    "#     \"Metadata_Treatment_and_Dose == 'LPS_10µg/ml'| Metadata_Treatment_and_Dose == 'Media only_0'\"\n",
    "# )\n",
    "print(\"Selected Catagories are:\")\n",
    "print(df[\"Metadata_Treatment_and_Dose\"].unique())\n",
    "# Drop na and reindex accordingly\n",
    "df = df.dropna()\n",
    "df = df.reset_index(drop=True)\n",
    "\n",
    "# Check for Nans again\n",
    "df_stats(df)\n",
    "\n",
    "# Understand categorical data such as treatment and dosing\n",
    "df[[\"Metadata_Treatment_and_Dose\"]].drop_duplicates()\n",
    "\n",
    "if params.DATA_SUBSET_OPTION == \"True\":\n",
    "    df = df.sample(n=params.DATA_SUBSET_NUMBER)\n",
    "    print(f\"Data Subset Is On\")\n",
    "    print(f\"Data is subset to {params.DATA_SUBSET_NUMBER}\")\n",
    "else:\n",
    "    print(f\"Data Subset Is Off\")\n",
    "\n",
    "# Code snippet for metadata extraction by Jenna Tomkinson\n",
    "df_metadata = list(df.columns[df.columns.str.startswith(\"Metadata\")])\n",
    "\n",
    "# define which columns are data and which are descriptive\n",
    "df_descriptive = df[df_metadata]\n",
    "df_values = df.drop(columns=df_metadata)"
   ]
  },
  {
   "cell_type": "code",
   "execution_count": 5,
   "id": "595afb65",
   "metadata": {},
   "outputs": [],
   "source": [
    "# Creating label encoder\n",
    "le = preprocessing.LabelEncoder()\n",
    "# Converting strings into numbers\n",
    "df_values[\"Metadata_Treatment_and_Dose\"] = le.fit_transform(\n",
    "    df_descriptive[\"Metadata_Treatment_and_Dose\"]\n",
    ")\n",
    "# split into X and Y where Y are the predictive column and x are the observable data\n",
    "df_values_X = df_values.drop(\"Metadata_Treatment_and_Dose\", axis=1)\n",
    "df_values_Y = df_values[\"Metadata_Treatment_and_Dose\"]"
   ]
  },
  {
   "attachments": {},
   "cell_type": "markdown",
   "id": "633673ce",
   "metadata": {},
   "source": [
    "##### Regression Model Data Wrangling and Set Up\n",
    "comment out if not using regression"
   ]
  },
  {
   "cell_type": "code",
   "execution_count": 6,
   "id": "e2df24ec",
   "metadata": {},
   "outputs": [],
   "source": [
    "# if params.DATA_SUBSET_OPTION == 'True':\n",
    "#     df = df.sample(n=params.DATA_SUBSET_NUMBER)\n",
    "#     print(\"yes\")\n",
    "# else:\n",
    "#     pass\n",
    "# df_stats(df)\n",
    "# # Drop na and reindex accordingly\n",
    "# df = df.dropna()\n",
    "# df = df.reset_index(drop=True)\n",
    "\n",
    "# # Check for Nans again\n",
    "# df_stats(df)\n",
    "# # Code snippet for metadata extraction by Jenna Tomkinson\n",
    "# df_metadata = list(df.columns[df.columns.str.startswith(\"Metadata\")])\n",
    "# # define which columns are data and which are descriptive\n",
    "# df_descriptive = df[df_metadata]\n",
    "# df_values = df.drop(columns=df_metadata)\n",
    "# df_values_Y = df_values['Nuclei_Texture_InverseDifferenceMoment_CorrER_3_01_256']\n",
    "# df_values_X = df_values.drop('Nuclei_Texture_InverseDifferenceMoment_CorrER_3_01_256', axis=1)"
   ]
  },
  {
   "attachments": {},
   "cell_type": "markdown",
   "id": "260a048e",
   "metadata": {},
   "source": [
    "#### Split Data - All Models can proceed through this point"
   ]
  },
  {
   "cell_type": "code",
   "execution_count": 7,
   "id": "f4feb87f",
   "metadata": {},
   "outputs": [],
   "source": [
    "X_train, X_test, X_val, Y_train, Y_test, Y_val = data_split(\n",
    "    X_vals=df_values_X,\n",
    "    y_vals=df_values_Y,\n",
    "    train_proportion=0.8,\n",
    "    val_proportion=0.1,\n",
    "    test_proportion=0.1,\n",
    "    seed=1,\n",
    "    params=params,\n",
    ")"
   ]
  },
  {
   "cell_type": "code",
   "execution_count": 8,
   "id": "36894826",
   "metadata": {},
   "outputs": [],
   "source": [
    "# produce data objects for train, val and test datasets\n",
    "train_data = Dataset_formatter(\n",
    "    torch.FloatTensor(X_train.values), torch.FloatTensor(Y_train.values)\n",
    ")\n",
    "val_data = Dataset_formatter(\n",
    "    torch.FloatTensor(X_val.values), torch.FloatTensor(Y_val.values)\n",
    ")\n",
    "test_data = Dataset_formatter(\n",
    "    torch.FloatTensor(X_test.values), torch.FloatTensor(Y_test.values)\n",
    ")"
   ]
  },
  {
   "cell_type": "code",
   "execution_count": 9,
   "id": "4382d712",
   "metadata": {},
   "outputs": [
    {
     "name": "stdout",
     "output_type": "stream",
     "text": [
      "Number of in features:  555\n",
      "Number of out features:  3\n",
      "Multi_Class\n"
     ]
    }
   ],
   "source": [
    "params.IN_FEATURES = X_train.shape[1]\n",
    "print(\"Number of in features: \", params.IN_FEATURES)\n",
    "if params.MODEL_TYPE == \"Regression\":\n",
    "    params.OUT_FEATURES = 1\n",
    "else:\n",
    "    params.OUT_FEATURES = len(df_values[\"Metadata_Treatment_and_Dose\"].unique())\n",
    "\n",
    "print(\"Number of out features: \", params.OUT_FEATURES)\n",
    "\n",
    "if params.OUT_FEATURES > 2:\n",
    "    params.MODEL_TYPE = \"Multi_Class\"\n",
    "elif params.OUT_FEATURES == 2:\n",
    "    params.OUT_FEATURES = params.OUT_FEATURES - 1\n",
    "    params.MODEL_TYPE = \"Binary_Classification\"\n",
    "elif params.OUT_FEATURES == 1:\n",
    "    params.MODEL_TYPE = \"Regression\"\n",
    "else:\n",
    "    pass\n",
    "print(params.MODEL_TYPE)"
   ]
  },
  {
   "cell_type": "code",
   "execution_count": 10,
   "id": "77effa5c",
   "metadata": {},
   "outputs": [],
   "source": [
    "# convert data class into a dataloader to be compatible with pytorch\n",
    "train_loader = torch.utils.data.DataLoader(\n",
    "    dataset=train_data, batch_size=params.BATCH_SIZE\n",
    ")\n",
    "valid_loader = torch.utils.data.DataLoader(\n",
    "    dataset=val_data, batch_size=params.BATCH_SIZE\n",
    ")\n",
    "test_loader = torch.utils.data.DataLoader(dataset=test_data, batch_size=1)"
   ]
  },
  {
   "cell_type": "code",
   "execution_count": 11,
   "id": "a969042f",
   "metadata": {},
   "outputs": [
    {
     "name": "stderr",
     "output_type": "stream",
     "text": [
      "\u001b[32m[I 2023-04-06 14:36:42,289]\u001b[0m A new study created in memory with name: no-name-9550b3a1-697f-4acb-9f87-a947ee0fc8ea\u001b[0m\n",
      "\u001b[32m[I 2023-04-06 14:37:02,551]\u001b[0m Trial 0 finished with value: 1.064912989735603 and parameters: {'n_layers': 3, 'n_units_l0': 6, 'dropout_0': 0.37727714047101335, 'n_units_l1': 9, 'dropout_1': 0.37752021859441487, 'n_units_l2': 10, 'dropout_2': 0.37721451475233314, 'learning_rate': 0.05218649490770786, 'optimizer': 'RMSprop'}. Best is trial 0 with value: 1.064912989735603.\u001b[0m\n",
      "\u001b[32m[I 2023-04-06 14:37:19,916]\u001b[0m Trial 1 finished with value: 0.6942459441224734 and parameters: {'n_layers': 1, 'n_units_l0': 5, 'dropout_0': 0.1295814250069766, 'learning_rate': 0.053079925630949015, 'optimizer': 'Adam'}. Best is trial 1 with value: 0.6942459441224734.\u001b[0m\n",
      "\u001b[32m[I 2023-04-06 14:37:38,807]\u001b[0m Trial 2 finished with value: 0.9308001446723938 and parameters: {'n_layers': 3, 'n_units_l0': 3, 'dropout_0': 0.3156856962937017, 'n_units_l1': 9, 'dropout_1': 0.36034725061632455, 'n_units_l2': 2, 'dropout_2': 0.21624583804945297, 'learning_rate': 0.017721636088312533, 'optimizer': 'RMSprop'}. Best is trial 1 with value: 0.6942459441224734.\u001b[0m\n",
      "\u001b[32m[I 2023-04-06 14:37:55,886]\u001b[0m Trial 3 finished with value: 0.8490068556865057 and parameters: {'n_layers': 1, 'n_units_l0': 2, 'dropout_0': 0.13266506383595714, 'learning_rate': 0.011253311663388535, 'optimizer': 'RMSprop'}. Best is trial 1 with value: 0.6942459441224734.\u001b[0m\n",
      "\u001b[32m[I 2023-04-06 14:38:13,888]\u001b[0m Trial 4 finished with value: 0.8274132760365803 and parameters: {'n_layers': 3, 'n_units_l0': 9, 'dropout_0': 0.3825099702780913, 'n_units_l1': 8, 'dropout_1': 0.3040670064328118, 'n_units_l2': 6, 'dropout_2': 0.27057616641058635, 'learning_rate': 0.08477344569630167, 'optimizer': 'SGD'}. Best is trial 1 with value: 0.6942459441224734.\u001b[0m\n",
      "\u001b[32m[I 2023-04-06 14:38:31,419]\u001b[0m Trial 5 finished with value: 0.7643209119637807 and parameters: {'n_layers': 1, 'n_units_l0': 3, 'dropout_0': 0.2663066426516776, 'learning_rate': 0.05258741125481774, 'optimizer': 'Adam'}. Best is trial 1 with value: 0.6942459441224734.\u001b[0m\n",
      "\u001b[32m[I 2023-04-06 14:38:31,795]\u001b[0m Trial 6 pruned. \u001b[0m\n",
      "\u001b[32m[I 2023-04-06 14:38:32,087]\u001b[0m Trial 7 pruned. \u001b[0m\n",
      "\u001b[32m[I 2023-04-06 14:38:49,671]\u001b[0m Trial 8 finished with value: 0.7073689657449722 and parameters: {'n_layers': 1, 'n_units_l0': 4, 'dropout_0': 0.23992661089938347, 'learning_rate': 0.05125185534090619, 'optimizer': 'Adam'}. Best is trial 1 with value: 0.6942459441224734.\u001b[0m\n",
      "\u001b[32m[I 2023-04-06 14:38:50,068]\u001b[0m Trial 9 pruned. \u001b[0m\n"
     ]
    },
    {
     "name": "stdout",
     "output_type": "stream",
     "text": [
      "Validation Accuracy: 69.6007992007992\n",
      "Validation Loss: 0.6484690074622631\n",
      "Training Accuracy: 66.69062663902695\n",
      "Training Loss: 0.7176676876225122\n"
     ]
    },
    {
     "data": {
      "text/plain": [
       "(69.6007992007992, 0.6484690074622631, 66.69062663902695, 0.7176676876225122)"
      ]
     },
     "execution_count": 11,
     "metadata": {},
     "output_type": "execute_result"
    }
   ],
   "source": [
    "# no accuracy function must be loss for regression\n",
    "if params.MODEL_TYPE == \"Regression\":\n",
    "    params.METRIC = \"loss\"\n",
    "    params.DIRECTION = \"minimize\"\n",
    "else:\n",
    "    pass\n",
    "\n",
    "\n",
    "# wrap the objective function inside of a lambda function to pass args...\n",
    "objective_lambda_func = lambda trial: objective_model_optimizer(\n",
    "    train_loader,\n",
    "    valid_loader,\n",
    "    trial=trial,\n",
    "    params=params,\n",
    "    metric=params.METRIC,\n",
    "    return_info=False,\n",
    ")\n",
    "\n",
    "\n",
    "# Study is the object for model optimization\n",
    "study = optuna.create_study(direction=f\"{params.DIRECTION}\")\n",
    "# Here I apply the optimize function of the study to the objective function\n",
    "# This optimizes each parameter specified to be optimized from the defined search space\n",
    "study.optimize(objective_lambda_func, n_trials=params.N_TRIALS)\n",
    "# Prints out the best trial's optimized parameters\n",
    "objective_model_optimizer(\n",
    "    train_loader,\n",
    "    valid_loader,\n",
    "    trial=study.best_trial,\n",
    "    params=params,\n",
    "    metric=params.METRIC,\n",
    "    return_info=True,\n",
    ")"
   ]
  },
  {
   "cell_type": "code",
   "execution_count": 12,
   "id": "b2620589",
   "metadata": {},
   "outputs": [
    {
     "data": {
      "application/vnd.plotly.v1+json": {
       "config": {
        "plotlyServerURL": "https://plot.ly"
       },
       "data": [
        {
         "mode": "markers",
         "name": "Objective Value",
         "type": "scatter",
         "x": [
          0,
          1,
          2,
          3,
          4,
          5,
          8
         ],
         "y": [
          1.064912989735603,
          0.6942459441224734,
          0.9308001446723938,
          0.8490068556865057,
          0.8274132760365803,
          0.7643209119637807,
          0.7073689657449722
         ]
        },
        {
         "name": "Best Value",
         "type": "scatter",
         "x": [
          0,
          1,
          2,
          3,
          4,
          5,
          8
         ],
         "y": [
          1.064912989735603,
          0.6942459441224734,
          0.6942459441224734,
          0.6942459441224734,
          0.6942459441224734,
          0.6942459441224734,
          0.6942459441224734
         ]
        }
       ],
       "layout": {
        "template": {
         "data": {
          "bar": [
           {
            "error_x": {
             "color": "#2a3f5f"
            },
            "error_y": {
             "color": "#2a3f5f"
            },
            "marker": {
             "line": {
              "color": "#E5ECF6",
              "width": 0.5
             },
             "pattern": {
              "fillmode": "overlay",
              "size": 10,
              "solidity": 0.2
             }
            },
            "type": "bar"
           }
          ],
          "barpolar": [
           {
            "marker": {
             "line": {
              "color": "#E5ECF6",
              "width": 0.5
             },
             "pattern": {
              "fillmode": "overlay",
              "size": 10,
              "solidity": 0.2
             }
            },
            "type": "barpolar"
           }
          ],
          "carpet": [
           {
            "aaxis": {
             "endlinecolor": "#2a3f5f",
             "gridcolor": "white",
             "linecolor": "white",
             "minorgridcolor": "white",
             "startlinecolor": "#2a3f5f"
            },
            "baxis": {
             "endlinecolor": "#2a3f5f",
             "gridcolor": "white",
             "linecolor": "white",
             "minorgridcolor": "white",
             "startlinecolor": "#2a3f5f"
            },
            "type": "carpet"
           }
          ],
          "choropleth": [
           {
            "colorbar": {
             "outlinewidth": 0,
             "ticks": ""
            },
            "type": "choropleth"
           }
          ],
          "contour": [
           {
            "colorbar": {
             "outlinewidth": 0,
             "ticks": ""
            },
            "colorscale": [
             [
              0,
              "#0d0887"
             ],
             [
              0.1111111111111111,
              "#46039f"
             ],
             [
              0.2222222222222222,
              "#7201a8"
             ],
             [
              0.3333333333333333,
              "#9c179e"
             ],
             [
              0.4444444444444444,
              "#bd3786"
             ],
             [
              0.5555555555555556,
              "#d8576b"
             ],
             [
              0.6666666666666666,
              "#ed7953"
             ],
             [
              0.7777777777777778,
              "#fb9f3a"
             ],
             [
              0.8888888888888888,
              "#fdca26"
             ],
             [
              1,
              "#f0f921"
             ]
            ],
            "type": "contour"
           }
          ],
          "contourcarpet": [
           {
            "colorbar": {
             "outlinewidth": 0,
             "ticks": ""
            },
            "type": "contourcarpet"
           }
          ],
          "heatmap": [
           {
            "colorbar": {
             "outlinewidth": 0,
             "ticks": ""
            },
            "colorscale": [
             [
              0,
              "#0d0887"
             ],
             [
              0.1111111111111111,
              "#46039f"
             ],
             [
              0.2222222222222222,
              "#7201a8"
             ],
             [
              0.3333333333333333,
              "#9c179e"
             ],
             [
              0.4444444444444444,
              "#bd3786"
             ],
             [
              0.5555555555555556,
              "#d8576b"
             ],
             [
              0.6666666666666666,
              "#ed7953"
             ],
             [
              0.7777777777777778,
              "#fb9f3a"
             ],
             [
              0.8888888888888888,
              "#fdca26"
             ],
             [
              1,
              "#f0f921"
             ]
            ],
            "type": "heatmap"
           }
          ],
          "heatmapgl": [
           {
            "colorbar": {
             "outlinewidth": 0,
             "ticks": ""
            },
            "colorscale": [
             [
              0,
              "#0d0887"
             ],
             [
              0.1111111111111111,
              "#46039f"
             ],
             [
              0.2222222222222222,
              "#7201a8"
             ],
             [
              0.3333333333333333,
              "#9c179e"
             ],
             [
              0.4444444444444444,
              "#bd3786"
             ],
             [
              0.5555555555555556,
              "#d8576b"
             ],
             [
              0.6666666666666666,
              "#ed7953"
             ],
             [
              0.7777777777777778,
              "#fb9f3a"
             ],
             [
              0.8888888888888888,
              "#fdca26"
             ],
             [
              1,
              "#f0f921"
             ]
            ],
            "type": "heatmapgl"
           }
          ],
          "histogram": [
           {
            "marker": {
             "pattern": {
              "fillmode": "overlay",
              "size": 10,
              "solidity": 0.2
             }
            },
            "type": "histogram"
           }
          ],
          "histogram2d": [
           {
            "colorbar": {
             "outlinewidth": 0,
             "ticks": ""
            },
            "colorscale": [
             [
              0,
              "#0d0887"
             ],
             [
              0.1111111111111111,
              "#46039f"
             ],
             [
              0.2222222222222222,
              "#7201a8"
             ],
             [
              0.3333333333333333,
              "#9c179e"
             ],
             [
              0.4444444444444444,
              "#bd3786"
             ],
             [
              0.5555555555555556,
              "#d8576b"
             ],
             [
              0.6666666666666666,
              "#ed7953"
             ],
             [
              0.7777777777777778,
              "#fb9f3a"
             ],
             [
              0.8888888888888888,
              "#fdca26"
             ],
             [
              1,
              "#f0f921"
             ]
            ],
            "type": "histogram2d"
           }
          ],
          "histogram2dcontour": [
           {
            "colorbar": {
             "outlinewidth": 0,
             "ticks": ""
            },
            "colorscale": [
             [
              0,
              "#0d0887"
             ],
             [
              0.1111111111111111,
              "#46039f"
             ],
             [
              0.2222222222222222,
              "#7201a8"
             ],
             [
              0.3333333333333333,
              "#9c179e"
             ],
             [
              0.4444444444444444,
              "#bd3786"
             ],
             [
              0.5555555555555556,
              "#d8576b"
             ],
             [
              0.6666666666666666,
              "#ed7953"
             ],
             [
              0.7777777777777778,
              "#fb9f3a"
             ],
             [
              0.8888888888888888,
              "#fdca26"
             ],
             [
              1,
              "#f0f921"
             ]
            ],
            "type": "histogram2dcontour"
           }
          ],
          "mesh3d": [
           {
            "colorbar": {
             "outlinewidth": 0,
             "ticks": ""
            },
            "type": "mesh3d"
           }
          ],
          "parcoords": [
           {
            "line": {
             "colorbar": {
              "outlinewidth": 0,
              "ticks": ""
             }
            },
            "type": "parcoords"
           }
          ],
          "pie": [
           {
            "automargin": true,
            "type": "pie"
           }
          ],
          "scatter": [
           {
            "fillpattern": {
             "fillmode": "overlay",
             "size": 10,
             "solidity": 0.2
            },
            "type": "scatter"
           }
          ],
          "scatter3d": [
           {
            "line": {
             "colorbar": {
              "outlinewidth": 0,
              "ticks": ""
             }
            },
            "marker": {
             "colorbar": {
              "outlinewidth": 0,
              "ticks": ""
             }
            },
            "type": "scatter3d"
           }
          ],
          "scattercarpet": [
           {
            "marker": {
             "colorbar": {
              "outlinewidth": 0,
              "ticks": ""
             }
            },
            "type": "scattercarpet"
           }
          ],
          "scattergeo": [
           {
            "marker": {
             "colorbar": {
              "outlinewidth": 0,
              "ticks": ""
             }
            },
            "type": "scattergeo"
           }
          ],
          "scattergl": [
           {
            "marker": {
             "colorbar": {
              "outlinewidth": 0,
              "ticks": ""
             }
            },
            "type": "scattergl"
           }
          ],
          "scattermapbox": [
           {
            "marker": {
             "colorbar": {
              "outlinewidth": 0,
              "ticks": ""
             }
            },
            "type": "scattermapbox"
           }
          ],
          "scatterpolar": [
           {
            "marker": {
             "colorbar": {
              "outlinewidth": 0,
              "ticks": ""
             }
            },
            "type": "scatterpolar"
           }
          ],
          "scatterpolargl": [
           {
            "marker": {
             "colorbar": {
              "outlinewidth": 0,
              "ticks": ""
             }
            },
            "type": "scatterpolargl"
           }
          ],
          "scatterternary": [
           {
            "marker": {
             "colorbar": {
              "outlinewidth": 0,
              "ticks": ""
             }
            },
            "type": "scatterternary"
           }
          ],
          "surface": [
           {
            "colorbar": {
             "outlinewidth": 0,
             "ticks": ""
            },
            "colorscale": [
             [
              0,
              "#0d0887"
             ],
             [
              0.1111111111111111,
              "#46039f"
             ],
             [
              0.2222222222222222,
              "#7201a8"
             ],
             [
              0.3333333333333333,
              "#9c179e"
             ],
             [
              0.4444444444444444,
              "#bd3786"
             ],
             [
              0.5555555555555556,
              "#d8576b"
             ],
             [
              0.6666666666666666,
              "#ed7953"
             ],
             [
              0.7777777777777778,
              "#fb9f3a"
             ],
             [
              0.8888888888888888,
              "#fdca26"
             ],
             [
              1,
              "#f0f921"
             ]
            ],
            "type": "surface"
           }
          ],
          "table": [
           {
            "cells": {
             "fill": {
              "color": "#EBF0F8"
             },
             "line": {
              "color": "white"
             }
            },
            "header": {
             "fill": {
              "color": "#C8D4E3"
             },
             "line": {
              "color": "white"
             }
            },
            "type": "table"
           }
          ]
         },
         "layout": {
          "annotationdefaults": {
           "arrowcolor": "#2a3f5f",
           "arrowhead": 0,
           "arrowwidth": 1
          },
          "autotypenumbers": "strict",
          "coloraxis": {
           "colorbar": {
            "outlinewidth": 0,
            "ticks": ""
           }
          },
          "colorscale": {
           "diverging": [
            [
             0,
             "#8e0152"
            ],
            [
             0.1,
             "#c51b7d"
            ],
            [
             0.2,
             "#de77ae"
            ],
            [
             0.3,
             "#f1b6da"
            ],
            [
             0.4,
             "#fde0ef"
            ],
            [
             0.5,
             "#f7f7f7"
            ],
            [
             0.6,
             "#e6f5d0"
            ],
            [
             0.7,
             "#b8e186"
            ],
            [
             0.8,
             "#7fbc41"
            ],
            [
             0.9,
             "#4d9221"
            ],
            [
             1,
             "#276419"
            ]
           ],
           "sequential": [
            [
             0,
             "#0d0887"
            ],
            [
             0.1111111111111111,
             "#46039f"
            ],
            [
             0.2222222222222222,
             "#7201a8"
            ],
            [
             0.3333333333333333,
             "#9c179e"
            ],
            [
             0.4444444444444444,
             "#bd3786"
            ],
            [
             0.5555555555555556,
             "#d8576b"
            ],
            [
             0.6666666666666666,
             "#ed7953"
            ],
            [
             0.7777777777777778,
             "#fb9f3a"
            ],
            [
             0.8888888888888888,
             "#fdca26"
            ],
            [
             1,
             "#f0f921"
            ]
           ],
           "sequentialminus": [
            [
             0,
             "#0d0887"
            ],
            [
             0.1111111111111111,
             "#46039f"
            ],
            [
             0.2222222222222222,
             "#7201a8"
            ],
            [
             0.3333333333333333,
             "#9c179e"
            ],
            [
             0.4444444444444444,
             "#bd3786"
            ],
            [
             0.5555555555555556,
             "#d8576b"
            ],
            [
             0.6666666666666666,
             "#ed7953"
            ],
            [
             0.7777777777777778,
             "#fb9f3a"
            ],
            [
             0.8888888888888888,
             "#fdca26"
            ],
            [
             1,
             "#f0f921"
            ]
           ]
          },
          "colorway": [
           "#636efa",
           "#EF553B",
           "#00cc96",
           "#ab63fa",
           "#FFA15A",
           "#19d3f3",
           "#FF6692",
           "#B6E880",
           "#FF97FF",
           "#FECB52"
          ],
          "font": {
           "color": "#2a3f5f"
          },
          "geo": {
           "bgcolor": "white",
           "lakecolor": "white",
           "landcolor": "#E5ECF6",
           "showlakes": true,
           "showland": true,
           "subunitcolor": "white"
          },
          "hoverlabel": {
           "align": "left"
          },
          "hovermode": "closest",
          "mapbox": {
           "style": "light"
          },
          "paper_bgcolor": "white",
          "plot_bgcolor": "#E5ECF6",
          "polar": {
           "angularaxis": {
            "gridcolor": "white",
            "linecolor": "white",
            "ticks": ""
           },
           "bgcolor": "#E5ECF6",
           "radialaxis": {
            "gridcolor": "white",
            "linecolor": "white",
            "ticks": ""
           }
          },
          "scene": {
           "xaxis": {
            "backgroundcolor": "#E5ECF6",
            "gridcolor": "white",
            "gridwidth": 2,
            "linecolor": "white",
            "showbackground": true,
            "ticks": "",
            "zerolinecolor": "white"
           },
           "yaxis": {
            "backgroundcolor": "#E5ECF6",
            "gridcolor": "white",
            "gridwidth": 2,
            "linecolor": "white",
            "showbackground": true,
            "ticks": "",
            "zerolinecolor": "white"
           },
           "zaxis": {
            "backgroundcolor": "#E5ECF6",
            "gridcolor": "white",
            "gridwidth": 2,
            "linecolor": "white",
            "showbackground": true,
            "ticks": "",
            "zerolinecolor": "white"
           }
          },
          "shapedefaults": {
           "line": {
            "color": "#2a3f5f"
           }
          },
          "ternary": {
           "aaxis": {
            "gridcolor": "white",
            "linecolor": "white",
            "ticks": ""
           },
           "baxis": {
            "gridcolor": "white",
            "linecolor": "white",
            "ticks": ""
           },
           "bgcolor": "#E5ECF6",
           "caxis": {
            "gridcolor": "white",
            "linecolor": "white",
            "ticks": ""
           }
          },
          "title": {
           "x": 0.05
          },
          "xaxis": {
           "automargin": true,
           "gridcolor": "white",
           "linecolor": "white",
           "ticks": "",
           "title": {
            "standoff": 15
           },
           "zerolinecolor": "white",
           "zerolinewidth": 2
          },
          "yaxis": {
           "automargin": true,
           "gridcolor": "white",
           "linecolor": "white",
           "ticks": "",
           "title": {
            "standoff": 15
           },
           "zerolinecolor": "white",
           "zerolinewidth": 2
          }
         }
        },
        "title": {
         "text": "Optimization History Plot"
        },
        "xaxis": {
         "title": {
          "text": "Trial"
         }
        },
        "yaxis": {
         "title": {
          "text": "Objective Value"
         }
        }
       }
      }
     },
     "metadata": {},
     "output_type": "display_data"
    }
   ],
   "source": [
    "fig = optuna.visualization.plot_optimization_history(study)\n",
    "graph_path = f\"./figures/{params.MODEL_TYPE}/plot_optimization_history_graph\"\n",
    "fig.write_html(Path(f\"{graph_path}.html\"))\n",
    "fig.write_image(Path(f\"{graph_path}.png\"))\n",
    "fig.show()"
   ]
  },
  {
   "cell_type": "code",
   "execution_count": 13,
   "id": "92103de1",
   "metadata": {},
   "outputs": [
    {
     "data": {
      "application/vnd.plotly.v1+json": {
       "config": {
        "plotlyServerURL": "https://plot.ly"
       },
       "data": [
        {
         "marker": {
          "maxdisplayed": 10
         },
         "mode": "lines+markers",
         "name": "Trial0",
         "type": "scatter",
         "x": [
          0,
          1,
          2,
          3,
          4,
          5,
          6,
          7,
          8,
          9,
          10,
          11,
          12,
          13,
          14,
          15,
          16,
          17,
          18,
          19,
          20,
          21,
          22,
          23,
          24,
          25,
          26,
          27,
          28,
          29,
          30,
          31,
          32,
          33,
          34,
          35,
          36,
          37,
          38,
          39,
          40,
          41,
          42,
          43,
          44,
          45,
          46,
          47,
          48,
          49
         ],
         "y": [
          1.0932030081748962,
          1.090586543083191,
          1.0901111430592005,
          1.0876288761695225,
          1.0853718996047974,
          1.0835070510705311,
          1.0805927969160534,
          1.0786062429348626,
          1.076415004553618,
          1.0733674486478169,
          1.0720314148700598,
          1.0694031218687694,
          1.0669021698144765,
          1.0647749063514529,
          1.0626451293627421,
          1.059664527575175,
          1.057382376754985,
          1.0547368741697736,
          1.0518542120331211,
          1.0473923544088999,
          1.0480364220482963,
          1.0456296173912105,
          1.0434869160686713,
          1.0407446838087504,
          1.0384265712896983,
          1.0371138197489274,
          1.0391577691943557,
          1.041087992489338,
          1.0429091224040108,
          1.0446258839633729,
          1.0462434685999347,
          1.0477675196404257,
          1.0492039705165708,
          1.0505588495848226,
          1.0518380922930581,
          1.0530473338784996,
          1.0541918479107522,
          1.0552765034269869,
          1.0563057633037243,
          1.0572836938003696,
          1.0582139988740282,
          1.0591000571610434,
          1.0599449325439538,
          1.0607514148860264,
          1.0615220681384756,
          1.0622592160235278,
          1.062965007327127,
          1.0636413906597428,
          1.0642901632656045,
          1.064912989735603
         ]
        },
        {
         "marker": {
          "maxdisplayed": 10
         },
         "mode": "lines+markers",
         "name": "Trial1",
         "type": "scatter",
         "x": [
          0,
          1,
          2,
          3,
          4,
          5,
          6,
          7,
          8,
          9,
          10,
          11,
          12,
          13,
          14,
          15,
          16,
          17,
          18,
          19,
          20,
          21,
          22,
          23,
          24,
          25,
          26,
          27,
          28,
          29,
          30,
          31,
          32,
          33,
          34,
          35,
          36,
          37,
          38,
          39,
          40,
          41,
          42,
          43,
          44,
          45,
          46,
          47,
          48,
          49
         ],
         "y": [
          0.9632797837257385,
          0.9040691355864208,
          0.8719515601793925,
          0.8494844560821851,
          0.8313751796881359,
          0.8111839460002052,
          0.7972031476951782,
          0.7866075100998084,
          0.778397274238092,
          0.7709578255812327,
          0.7650288560173728,
          0.7588457465171814,
          0.7524960812849877,
          0.748866433898608,
          0.7451861825254229,
          0.7421504507462184,
          0.7390096614173816,
          0.7362225121921964,
          0.7329965244259752,
          0.7299833446741105,
          0.727082752046131,
          0.7247985086657786,
          0.722837062417597,
          0.7204305022541021,
          0.7187321891387305,
          0.7173038153694228,
          0.715820414600549,
          0.7145526545743149,
          0.7134837777107613,
          0.7117301053471038,
          0.7104357910412616,
          0.7092349389567971,
          0.708187331755956,
          0.7070232492451575,
          0.7059077170633135,
          0.704661642925607,
          0.7035951784870647,
          0.7024139270447849,
          0.7012728786366618,
          0.7003448841472466,
          0.6994466002636808,
          0.6985589498801836,
          0.6979549710833748,
          0.6971408642376914,
          0.6965461266261559,
          0.6958912121860877,
          0.6954522438294499,
          0.6951363789331583,
          0.694697237643255,
          0.6942459441224734
         ]
        },
        {
         "marker": {
          "maxdisplayed": 10
         },
         "mode": "lines+markers",
         "name": "Trial2",
         "type": "scatter",
         "x": [
          0,
          1,
          2,
          3,
          4,
          5,
          6,
          7,
          8,
          9,
          10,
          11,
          12,
          13,
          14,
          15,
          16,
          17,
          18,
          19,
          20,
          21,
          22,
          23,
          24,
          25,
          26,
          27,
          28,
          29,
          30,
          31,
          32,
          33,
          34,
          35,
          36,
          37,
          38,
          39,
          40,
          41,
          42,
          43,
          44,
          45,
          46,
          47,
          48,
          49
         ],
         "y": [
          1.0135025382041931,
          1.0253649254639945,
          1.0131173266304865,
          1.0201836129029593,
          1.0097054064273836,
          1.0180830409129462,
          1.0113386909166973,
          0.9998802070816358,
          1.00017938680119,
          0.9940421928962072,
          0.9874970036925692,
          0.9824571833014488,
          0.9776331728849657,
          0.9809742612498147,
          0.9800720910231272,
          0.9772781810412804,
          0.9729622736865399,
          0.9727493662525105,
          0.974851417959782,
          0.9724684973557789,
          0.9717917101723805,
          0.9697587797136016,
          0.9665911266769186,
          0.9654569158123599,
          0.9626919686794281,
          0.9606844733158747,
          0.9584792602209397,
          0.9555002653173037,
          0.9538092928371209,
          0.9521276252137288,
          0.9492125799579004,
          0.9484436884522438,
          0.9469324455718802,
          0.9468350220544665,
          0.945581479299636,
          0.9450905938391332,
          0.9451489577422271,
          0.9439905330277326,
          0.9431487247984635,
          0.9420108805100122,
          0.9404676532357688,
          0.9386123626951187,
          0.9373611068540765,
          0.936446799473329,
          0.9352286486713974,
          0.9339083662067634,
          0.9327252910914995,
          0.9316417531420788,
          0.9313802400819299,
          0.9308001446723938
         ]
        },
        {
         "marker": {
          "maxdisplayed": 10
         },
         "mode": "lines+markers",
         "name": "Trial3",
         "type": "scatter",
         "x": [
          0,
          1,
          2,
          3,
          4,
          5,
          6,
          7,
          8,
          9,
          10,
          11,
          12,
          13,
          14,
          15,
          16,
          17,
          18,
          19,
          20,
          21,
          22,
          23,
          24,
          25,
          26,
          27,
          28,
          29,
          30,
          31,
          32,
          33,
          34,
          35,
          36,
          37,
          38,
          39,
          40,
          41,
          42,
          43,
          44,
          45,
          46,
          47,
          48,
          49
         ],
         "y": [
          0.9772903919219971,
          0.9567348808050156,
          0.9617191420661079,
          0.9577501639723778,
          0.9585582454999289,
          0.9524591962496439,
          0.9466111872877393,
          0.9447463254133861,
          0.9468497435251871,
          0.9417864918708801,
          0.9369236592090491,
          0.9329632073640823,
          0.9289156886247488,
          0.9250881324211757,
          0.9187920504146152,
          0.9170247154931227,
          0.9138627139961019,
          0.9101238918525202,
          0.9085553283231301,
          0.9056772515177729,
          0.9055085721470062,
          0.9011987276149521,
          0.897947638794996,
          0.8940732851624489,
          0.8917530695597331,
          0.8896314818889668,
          0.8865433990219493,
          0.8832998282852628,
          0.8814930100550598,
          0.8806550208065246,
          0.8774612988195112,
          0.8756456704189379,
          0.8743834311913962,
          0.8721657211289686,
          0.8696114852314903,
          0.8679847631741453,
          0.8661256392259855,
          0.8649339477221172,
          0.8638895171829779,
          0.8624570652842521,
          0.8615466751218811,
          0.8600154956654895,
          0.8583611936070197,
          0.857057224394697,
          0.8562139641355584,
          0.8543065332848091,
          0.8528875175942764,
          0.8513991120788788,
          0.8502729441843877,
          0.8490068556865057
         ]
        },
        {
         "marker": {
          "maxdisplayed": 10
         },
         "mode": "lines+markers",
         "name": "Trial4",
         "type": "scatter",
         "x": [
          0,
          1,
          2,
          3,
          4,
          5,
          6,
          7,
          8,
          9,
          10,
          11,
          12,
          13,
          14,
          15,
          16,
          17,
          18,
          19,
          20,
          21,
          22,
          23,
          24,
          25,
          26,
          27,
          28,
          29,
          30,
          31,
          32,
          33,
          34,
          35,
          36,
          37,
          38,
          39,
          40,
          41,
          42,
          43,
          44,
          45,
          46,
          47,
          48,
          49
         ],
         "y": [
          1.0550646781921387,
          1.0432891547679901,
          1.0313106576601665,
          1.0181687374909718,
          1.0044369141260783,
          0.9927214698659048,
          0.9819488610540116,
          0.9731268994510175,
          0.9640435466059932,
          0.9565625747044881,
          0.9495626534476426,
          0.9428561752041182,
          0.9369103648723702,
          0.9310540954271954,
          0.9263744917180805,
          0.9214020383854707,
          0.9161623652074852,
          0.911209010967502,
          0.906639959205661,
          0.9019679655631384,
          0.8974723021189371,
          0.89446791193702,
          0.8891029280164967,
          0.8860755558643078,
          0.8819937511285147,
          0.8828730201109862,
          0.8794272015860052,
          0.875313109585217,
          0.8711654584983299,
          0.8692546801434623,
          0.8661764844130444,
          0.8635305178662143,
          0.8598651019009678,
          0.8578755642269172,
          0.8551099144277119,
          0.8520999302466712,
          0.8516336743896072,
          0.8493032392702604,
          0.8474748126971416,
          0.8445475272834301,
          0.8423129635128548,
          0.8400713122553295,
          0.8378069902113241,
          0.8394521450002987,
          0.836967780413451,
          0.8349707567173502,
          0.8324435262392599,
          0.8301744728038708,
          0.8287335105088293,
          0.8274132760365803
         ]
        },
        {
         "marker": {
          "maxdisplayed": 10
         },
         "mode": "lines+markers",
         "name": "Trial5",
         "type": "scatter",
         "x": [
          0,
          1,
          2,
          3,
          4,
          5,
          6,
          7,
          8,
          9,
          10,
          11,
          12,
          13,
          14,
          15,
          16,
          17,
          18,
          19,
          20,
          21,
          22,
          23,
          24,
          25,
          26,
          27,
          28,
          29,
          30,
          31,
          32,
          33,
          34,
          35,
          36,
          37,
          38,
          39,
          40,
          41,
          42,
          43,
          44,
          45,
          46,
          47,
          48,
          49
         ],
         "y": [
          0.9137762685616811,
          0.9085663904746374,
          0.8757522039943272,
          0.8618987426161767,
          0.8499927719434103,
          0.8386917064587275,
          0.8305081270989918,
          0.8231569429238637,
          0.8174322170239907,
          0.8139947563409805,
          0.810418008854895,
          0.8073751288983558,
          0.8045596327537147,
          0.8015248761290596,
          0.7978607012165918,
          0.795410830527544,
          0.7936158273734298,
          0.7919352148418073,
          0.7898198773986413,
          0.7874763493736584,
          0.7862607907681236,
          0.7852081110080081,
          0.7835299666377079,
          0.7822800299359693,
          0.7808219432830812,
          0.7803327926458459,
          0.7789472768336169,
          0.7776779035727185,
          0.7770776978169366,
          0.7762942085663479,
          0.7755834944145655,
          0.7745716022327542,
          0.7739126613043776,
          0.7731751244442137,
          0.7725836152122134,
          0.7720427620742056,
          0.7714362332412789,
          0.7708734611147329,
          0.7703504962289436,
          0.7698722879091898,
          0.769350470566168,
          0.7687259988179281,
          0.7681461251521294,
          0.7675513993158485,
          0.7668964823087057,
          0.7665620502354443,
          0.765907903723683,
          0.7653915788978338,
          0.7650952199283911,
          0.7643209119637807
         ]
        },
        {
         "marker": {
          "maxdisplayed": 10
         },
         "mode": "lines+markers",
         "name": "Trial6",
         "type": "scatter",
         "x": [
          0
         ],
         "y": [
          1.069728394349416
         ]
        },
        {
         "marker": {
          "maxdisplayed": 10
         },
         "mode": "lines+markers",
         "name": "Trial7",
         "type": "scatter",
         "x": [
          0
         ],
         "y": [
          1.0888306498527527
         ]
        },
        {
         "marker": {
          "maxdisplayed": 10
         },
         "mode": "lines+markers",
         "name": "Trial8",
         "type": "scatter",
         "x": [
          0,
          1,
          2,
          3,
          4,
          5,
          6,
          7,
          8,
          9,
          10,
          11,
          12,
          13,
          14,
          15,
          16,
          17,
          18,
          19,
          20,
          21,
          22,
          23,
          24,
          25,
          26,
          27,
          28,
          29,
          30,
          31,
          32,
          33,
          34,
          35,
          36,
          37,
          38,
          39,
          40,
          41,
          42,
          43,
          44,
          45,
          46,
          47,
          48,
          49
         ],
         "y": [
          0.8843617339928945,
          0.8716854602098465,
          0.8571931752893659,
          0.8416432539621989,
          0.8303958853085834,
          0.821421863304244,
          0.811975218000866,
          0.8054127270976702,
          0.7978795259087174,
          0.7902990529934565,
          0.784910022309332,
          0.7809448424312803,
          0.7758945463559566,
          0.7724554148458298,
          0.7693733970324197,
          0.7657409142702818,
          0.76261739228286,
          0.7588980142717008,
          0.754970257742363,
          0.7520011737942696,
          0.7491424362810831,
          0.7463689956701164,
          0.7437064636876619,
          0.7412915107690625,
          0.7387778403361638,
          0.7368273221147366,
          0.7347338963070033,
          0.7330673207484539,
          0.7312753878790755,
          0.7293369354473218,
          0.7278614971906907,
          0.7262795497663319,
          0.724576608550669,
          0.723147489130497,
          0.7222054985307511,
          0.7206934821550492,
          0.7196373385083568,
          0.7184224452888756,
          0.7171025265995253,
          0.716192948569854,
          0.7148980975635653,
          0.7136923824510877,
          0.712418491064116,
          0.7118542561251106,
          0.7107014452969586,
          0.7100721394670181,
          0.7095491882968454,
          0.708480491820309,
          0.7080676054873435,
          0.7073689657449722
         ]
        },
        {
         "marker": {
          "maxdisplayed": 10
         },
         "mode": "lines+markers",
         "name": "Trial9",
         "type": "scatter",
         "x": [
          0
         ],
         "y": [
          1.0894824465115864
         ]
        }
       ],
       "layout": {
        "showlegend": false,
        "template": {
         "data": {
          "bar": [
           {
            "error_x": {
             "color": "#2a3f5f"
            },
            "error_y": {
             "color": "#2a3f5f"
            },
            "marker": {
             "line": {
              "color": "#E5ECF6",
              "width": 0.5
             },
             "pattern": {
              "fillmode": "overlay",
              "size": 10,
              "solidity": 0.2
             }
            },
            "type": "bar"
           }
          ],
          "barpolar": [
           {
            "marker": {
             "line": {
              "color": "#E5ECF6",
              "width": 0.5
             },
             "pattern": {
              "fillmode": "overlay",
              "size": 10,
              "solidity": 0.2
             }
            },
            "type": "barpolar"
           }
          ],
          "carpet": [
           {
            "aaxis": {
             "endlinecolor": "#2a3f5f",
             "gridcolor": "white",
             "linecolor": "white",
             "minorgridcolor": "white",
             "startlinecolor": "#2a3f5f"
            },
            "baxis": {
             "endlinecolor": "#2a3f5f",
             "gridcolor": "white",
             "linecolor": "white",
             "minorgridcolor": "white",
             "startlinecolor": "#2a3f5f"
            },
            "type": "carpet"
           }
          ],
          "choropleth": [
           {
            "colorbar": {
             "outlinewidth": 0,
             "ticks": ""
            },
            "type": "choropleth"
           }
          ],
          "contour": [
           {
            "colorbar": {
             "outlinewidth": 0,
             "ticks": ""
            },
            "colorscale": [
             [
              0,
              "#0d0887"
             ],
             [
              0.1111111111111111,
              "#46039f"
             ],
             [
              0.2222222222222222,
              "#7201a8"
             ],
             [
              0.3333333333333333,
              "#9c179e"
             ],
             [
              0.4444444444444444,
              "#bd3786"
             ],
             [
              0.5555555555555556,
              "#d8576b"
             ],
             [
              0.6666666666666666,
              "#ed7953"
             ],
             [
              0.7777777777777778,
              "#fb9f3a"
             ],
             [
              0.8888888888888888,
              "#fdca26"
             ],
             [
              1,
              "#f0f921"
             ]
            ],
            "type": "contour"
           }
          ],
          "contourcarpet": [
           {
            "colorbar": {
             "outlinewidth": 0,
             "ticks": ""
            },
            "type": "contourcarpet"
           }
          ],
          "heatmap": [
           {
            "colorbar": {
             "outlinewidth": 0,
             "ticks": ""
            },
            "colorscale": [
             [
              0,
              "#0d0887"
             ],
             [
              0.1111111111111111,
              "#46039f"
             ],
             [
              0.2222222222222222,
              "#7201a8"
             ],
             [
              0.3333333333333333,
              "#9c179e"
             ],
             [
              0.4444444444444444,
              "#bd3786"
             ],
             [
              0.5555555555555556,
              "#d8576b"
             ],
             [
              0.6666666666666666,
              "#ed7953"
             ],
             [
              0.7777777777777778,
              "#fb9f3a"
             ],
             [
              0.8888888888888888,
              "#fdca26"
             ],
             [
              1,
              "#f0f921"
             ]
            ],
            "type": "heatmap"
           }
          ],
          "heatmapgl": [
           {
            "colorbar": {
             "outlinewidth": 0,
             "ticks": ""
            },
            "colorscale": [
             [
              0,
              "#0d0887"
             ],
             [
              0.1111111111111111,
              "#46039f"
             ],
             [
              0.2222222222222222,
              "#7201a8"
             ],
             [
              0.3333333333333333,
              "#9c179e"
             ],
             [
              0.4444444444444444,
              "#bd3786"
             ],
             [
              0.5555555555555556,
              "#d8576b"
             ],
             [
              0.6666666666666666,
              "#ed7953"
             ],
             [
              0.7777777777777778,
              "#fb9f3a"
             ],
             [
              0.8888888888888888,
              "#fdca26"
             ],
             [
              1,
              "#f0f921"
             ]
            ],
            "type": "heatmapgl"
           }
          ],
          "histogram": [
           {
            "marker": {
             "pattern": {
              "fillmode": "overlay",
              "size": 10,
              "solidity": 0.2
             }
            },
            "type": "histogram"
           }
          ],
          "histogram2d": [
           {
            "colorbar": {
             "outlinewidth": 0,
             "ticks": ""
            },
            "colorscale": [
             [
              0,
              "#0d0887"
             ],
             [
              0.1111111111111111,
              "#46039f"
             ],
             [
              0.2222222222222222,
              "#7201a8"
             ],
             [
              0.3333333333333333,
              "#9c179e"
             ],
             [
              0.4444444444444444,
              "#bd3786"
             ],
             [
              0.5555555555555556,
              "#d8576b"
             ],
             [
              0.6666666666666666,
              "#ed7953"
             ],
             [
              0.7777777777777778,
              "#fb9f3a"
             ],
             [
              0.8888888888888888,
              "#fdca26"
             ],
             [
              1,
              "#f0f921"
             ]
            ],
            "type": "histogram2d"
           }
          ],
          "histogram2dcontour": [
           {
            "colorbar": {
             "outlinewidth": 0,
             "ticks": ""
            },
            "colorscale": [
             [
              0,
              "#0d0887"
             ],
             [
              0.1111111111111111,
              "#46039f"
             ],
             [
              0.2222222222222222,
              "#7201a8"
             ],
             [
              0.3333333333333333,
              "#9c179e"
             ],
             [
              0.4444444444444444,
              "#bd3786"
             ],
             [
              0.5555555555555556,
              "#d8576b"
             ],
             [
              0.6666666666666666,
              "#ed7953"
             ],
             [
              0.7777777777777778,
              "#fb9f3a"
             ],
             [
              0.8888888888888888,
              "#fdca26"
             ],
             [
              1,
              "#f0f921"
             ]
            ],
            "type": "histogram2dcontour"
           }
          ],
          "mesh3d": [
           {
            "colorbar": {
             "outlinewidth": 0,
             "ticks": ""
            },
            "type": "mesh3d"
           }
          ],
          "parcoords": [
           {
            "line": {
             "colorbar": {
              "outlinewidth": 0,
              "ticks": ""
             }
            },
            "type": "parcoords"
           }
          ],
          "pie": [
           {
            "automargin": true,
            "type": "pie"
           }
          ],
          "scatter": [
           {
            "fillpattern": {
             "fillmode": "overlay",
             "size": 10,
             "solidity": 0.2
            },
            "type": "scatter"
           }
          ],
          "scatter3d": [
           {
            "line": {
             "colorbar": {
              "outlinewidth": 0,
              "ticks": ""
             }
            },
            "marker": {
             "colorbar": {
              "outlinewidth": 0,
              "ticks": ""
             }
            },
            "type": "scatter3d"
           }
          ],
          "scattercarpet": [
           {
            "marker": {
             "colorbar": {
              "outlinewidth": 0,
              "ticks": ""
             }
            },
            "type": "scattercarpet"
           }
          ],
          "scattergeo": [
           {
            "marker": {
             "colorbar": {
              "outlinewidth": 0,
              "ticks": ""
             }
            },
            "type": "scattergeo"
           }
          ],
          "scattergl": [
           {
            "marker": {
             "colorbar": {
              "outlinewidth": 0,
              "ticks": ""
             }
            },
            "type": "scattergl"
           }
          ],
          "scattermapbox": [
           {
            "marker": {
             "colorbar": {
              "outlinewidth": 0,
              "ticks": ""
             }
            },
            "type": "scattermapbox"
           }
          ],
          "scatterpolar": [
           {
            "marker": {
             "colorbar": {
              "outlinewidth": 0,
              "ticks": ""
             }
            },
            "type": "scatterpolar"
           }
          ],
          "scatterpolargl": [
           {
            "marker": {
             "colorbar": {
              "outlinewidth": 0,
              "ticks": ""
             }
            },
            "type": "scatterpolargl"
           }
          ],
          "scatterternary": [
           {
            "marker": {
             "colorbar": {
              "outlinewidth": 0,
              "ticks": ""
             }
            },
            "type": "scatterternary"
           }
          ],
          "surface": [
           {
            "colorbar": {
             "outlinewidth": 0,
             "ticks": ""
            },
            "colorscale": [
             [
              0,
              "#0d0887"
             ],
             [
              0.1111111111111111,
              "#46039f"
             ],
             [
              0.2222222222222222,
              "#7201a8"
             ],
             [
              0.3333333333333333,
              "#9c179e"
             ],
             [
              0.4444444444444444,
              "#bd3786"
             ],
             [
              0.5555555555555556,
              "#d8576b"
             ],
             [
              0.6666666666666666,
              "#ed7953"
             ],
             [
              0.7777777777777778,
              "#fb9f3a"
             ],
             [
              0.8888888888888888,
              "#fdca26"
             ],
             [
              1,
              "#f0f921"
             ]
            ],
            "type": "surface"
           }
          ],
          "table": [
           {
            "cells": {
             "fill": {
              "color": "#EBF0F8"
             },
             "line": {
              "color": "white"
             }
            },
            "header": {
             "fill": {
              "color": "#C8D4E3"
             },
             "line": {
              "color": "white"
             }
            },
            "type": "table"
           }
          ]
         },
         "layout": {
          "annotationdefaults": {
           "arrowcolor": "#2a3f5f",
           "arrowhead": 0,
           "arrowwidth": 1
          },
          "autotypenumbers": "strict",
          "coloraxis": {
           "colorbar": {
            "outlinewidth": 0,
            "ticks": ""
           }
          },
          "colorscale": {
           "diverging": [
            [
             0,
             "#8e0152"
            ],
            [
             0.1,
             "#c51b7d"
            ],
            [
             0.2,
             "#de77ae"
            ],
            [
             0.3,
             "#f1b6da"
            ],
            [
             0.4,
             "#fde0ef"
            ],
            [
             0.5,
             "#f7f7f7"
            ],
            [
             0.6,
             "#e6f5d0"
            ],
            [
             0.7,
             "#b8e186"
            ],
            [
             0.8,
             "#7fbc41"
            ],
            [
             0.9,
             "#4d9221"
            ],
            [
             1,
             "#276419"
            ]
           ],
           "sequential": [
            [
             0,
             "#0d0887"
            ],
            [
             0.1111111111111111,
             "#46039f"
            ],
            [
             0.2222222222222222,
             "#7201a8"
            ],
            [
             0.3333333333333333,
             "#9c179e"
            ],
            [
             0.4444444444444444,
             "#bd3786"
            ],
            [
             0.5555555555555556,
             "#d8576b"
            ],
            [
             0.6666666666666666,
             "#ed7953"
            ],
            [
             0.7777777777777778,
             "#fb9f3a"
            ],
            [
             0.8888888888888888,
             "#fdca26"
            ],
            [
             1,
             "#f0f921"
            ]
           ],
           "sequentialminus": [
            [
             0,
             "#0d0887"
            ],
            [
             0.1111111111111111,
             "#46039f"
            ],
            [
             0.2222222222222222,
             "#7201a8"
            ],
            [
             0.3333333333333333,
             "#9c179e"
            ],
            [
             0.4444444444444444,
             "#bd3786"
            ],
            [
             0.5555555555555556,
             "#d8576b"
            ],
            [
             0.6666666666666666,
             "#ed7953"
            ],
            [
             0.7777777777777778,
             "#fb9f3a"
            ],
            [
             0.8888888888888888,
             "#fdca26"
            ],
            [
             1,
             "#f0f921"
            ]
           ]
          },
          "colorway": [
           "#636efa",
           "#EF553B",
           "#00cc96",
           "#ab63fa",
           "#FFA15A",
           "#19d3f3",
           "#FF6692",
           "#B6E880",
           "#FF97FF",
           "#FECB52"
          ],
          "font": {
           "color": "#2a3f5f"
          },
          "geo": {
           "bgcolor": "white",
           "lakecolor": "white",
           "landcolor": "#E5ECF6",
           "showlakes": true,
           "showland": true,
           "subunitcolor": "white"
          },
          "hoverlabel": {
           "align": "left"
          },
          "hovermode": "closest",
          "mapbox": {
           "style": "light"
          },
          "paper_bgcolor": "white",
          "plot_bgcolor": "#E5ECF6",
          "polar": {
           "angularaxis": {
            "gridcolor": "white",
            "linecolor": "white",
            "ticks": ""
           },
           "bgcolor": "#E5ECF6",
           "radialaxis": {
            "gridcolor": "white",
            "linecolor": "white",
            "ticks": ""
           }
          },
          "scene": {
           "xaxis": {
            "backgroundcolor": "#E5ECF6",
            "gridcolor": "white",
            "gridwidth": 2,
            "linecolor": "white",
            "showbackground": true,
            "ticks": "",
            "zerolinecolor": "white"
           },
           "yaxis": {
            "backgroundcolor": "#E5ECF6",
            "gridcolor": "white",
            "gridwidth": 2,
            "linecolor": "white",
            "showbackground": true,
            "ticks": "",
            "zerolinecolor": "white"
           },
           "zaxis": {
            "backgroundcolor": "#E5ECF6",
            "gridcolor": "white",
            "gridwidth": 2,
            "linecolor": "white",
            "showbackground": true,
            "ticks": "",
            "zerolinecolor": "white"
           }
          },
          "shapedefaults": {
           "line": {
            "color": "#2a3f5f"
           }
          },
          "ternary": {
           "aaxis": {
            "gridcolor": "white",
            "linecolor": "white",
            "ticks": ""
           },
           "baxis": {
            "gridcolor": "white",
            "linecolor": "white",
            "ticks": ""
           },
           "bgcolor": "#E5ECF6",
           "caxis": {
            "gridcolor": "white",
            "linecolor": "white",
            "ticks": ""
           }
          },
          "title": {
           "x": 0.05
          },
          "xaxis": {
           "automargin": true,
           "gridcolor": "white",
           "linecolor": "white",
           "ticks": "",
           "title": {
            "standoff": 15
           },
           "zerolinecolor": "white",
           "zerolinewidth": 2
          },
          "yaxis": {
           "automargin": true,
           "gridcolor": "white",
           "linecolor": "white",
           "ticks": "",
           "title": {
            "standoff": 15
           },
           "zerolinecolor": "white",
           "zerolinewidth": 2
          }
         }
        },
        "title": {
         "text": "Intermediate Values Plot"
        },
        "xaxis": {
         "title": {
          "text": "Step"
         }
        },
        "yaxis": {
         "title": {
          "text": "Intermediate Value"
         }
        }
       }
      }
     },
     "metadata": {},
     "output_type": "display_data"
    }
   ],
   "source": [
    "fig = optuna.visualization.plot_intermediate_values(study)\n",
    "graph_path = f\"./figures/{params.MODEL_TYPE}/plot_intermediate_values_graph\"\n",
    "fig.write_html(Path(f\"{graph_path}.html\"))\n",
    "fig.write_image(Path(f\"{graph_path}.png\"))\n",
    "fig.show()"
   ]
  },
  {
   "cell_type": "code",
   "execution_count": 14,
   "id": "325a1ec3",
   "metadata": {},
   "outputs": [],
   "source": [
    "# call function for best trial parameter extraction\n",
    "param_dict = extract_best_trial_params(study.best_params)"
   ]
  },
  {
   "cell_type": "code",
   "execution_count": 15,
   "id": "50e946e7",
   "metadata": {},
   "outputs": [
    {
     "name": "stdout",
     "output_type": "stream",
     "text": [
      "Adam\n",
      "Epoch 0: Validation loss decreased (inf --> 0.896724).  Saving model ...\n",
      "\t Train_Loss: 1.0180 Train_Acc: 51.525 Val_Loss: 0.8967  BEST VAL Loss: 0.8967  Val_Acc: 59.620\n",
      "\n",
      "Epoch 1: Validation loss decreased (0.896724 --> 0.879147).  Saving model ...\n",
      "\t Train_Loss: 0.9383 Train_Acc: 61.035 Val_Loss: 0.8791  BEST VAL Loss: 0.8791  Val_Acc: 64.615\n",
      "\n",
      "Epoch 2: Validation loss decreased (0.879147 --> 0.847684).  Saving model ...\n",
      "\t Train_Loss: 0.8972 Train_Acc: 62.939 Val_Loss: 0.8477  BEST VAL Loss: 0.8477  Val_Acc: 66.154\n",
      "\n",
      "Epoch 3: Validation loss decreased (0.847684 --> 0.825373).  Saving model ...\n",
      "\t Train_Loss: 0.8695 Train_Acc: 63.950 Val_Loss: 0.8254  BEST VAL Loss: 0.8254  Val_Acc: 66.833\n",
      "\n",
      "Epoch 4: Validation loss decreased (0.825373 --> 0.809840).  Saving model ...\n",
      "\t Train_Loss: 0.8494 Train_Acc: 64.864 Val_Loss: 0.8098  BEST VAL Loss: 0.8098  Val_Acc: 66.254\n",
      "\n",
      "Epoch 5: Validation loss decreased (0.809840 --> 0.795139).  Saving model ...\n",
      "\t Train_Loss: 0.8341 Train_Acc: 64.962 Val_Loss: 0.7951  BEST VAL Loss: 0.7951  Val_Acc: 66.593\n",
      "\n",
      "Epoch 6: Validation loss decreased (0.795139 --> 0.782085).  Saving model ...\n",
      "\t Train_Loss: 0.8222 Train_Acc: 65.057 Val_Loss: 0.7821  BEST VAL Loss: 0.7821  Val_Acc: 68.571\n",
      "\n",
      "Epoch 7: Validation loss decreased (0.782085 --> 0.769045).  Saving model ...\n",
      "\t Train_Loss: 0.8122 Train_Acc: 65.821 Val_Loss: 0.7690  BEST VAL Loss: 0.7690  Val_Acc: 68.531\n",
      "\n",
      "Epoch 8: Validation loss decreased (0.769045 --> 0.757799).  Saving model ...\n",
      "\t Train_Loss: 0.8041 Train_Acc: 65.796 Val_Loss: 0.7578  BEST VAL Loss: 0.7578  Val_Acc: 69.011\n",
      "\n",
      "Epoch 9: Validation loss decreased (0.757799 --> 0.748813).  Saving model ...\n",
      "\t Train_Loss: 0.7967 Train_Acc: 66.263 Val_Loss: 0.7488  BEST VAL Loss: 0.7488  Val_Acc: 68.731\n",
      "\n",
      "Epoch 10: Validation loss decreased (0.748813 --> 0.741548).  Saving model ...\n",
      "\t Train_Loss: 0.7904 Train_Acc: 66.133 Val_Loss: 0.7415  BEST VAL Loss: 0.7415  Val_Acc: 68.891\n",
      "\n",
      "Epoch 11: Validation loss decreased (0.741548 --> 0.734825).  Saving model ...\n",
      "\t Train_Loss: 0.7850 Train_Acc: 66.295 Val_Loss: 0.7348  BEST VAL Loss: 0.7348  Val_Acc: 69.870\n",
      "\n",
      "Epoch 12: Validation loss decreased (0.734825 --> 0.727544).  Saving model ...\n",
      "\t Train_Loss: 0.7799 Train_Acc: 66.623 Val_Loss: 0.7275  BEST VAL Loss: 0.7275  Val_Acc: 69.431\n",
      "\n",
      "Epoch 13: Validation loss decreased (0.727544 --> 0.721986).  Saving model ...\n",
      "\t Train_Loss: 0.7753 Train_Acc: 66.767 Val_Loss: 0.7220  BEST VAL Loss: 0.7220  Val_Acc: 69.151\n",
      "\n",
      "Epoch 14: Validation loss decreased (0.721986 --> 0.716650).  Saving model ...\n",
      "\t Train_Loss: 0.7713 Train_Acc: 66.570 Val_Loss: 0.7166  BEST VAL Loss: 0.7166  Val_Acc: 69.091\n",
      "\n",
      "Epoch 15: Validation loss decreased (0.716650 --> 0.713257).  Saving model ...\n",
      "\t Train_Loss: 0.7678 Train_Acc: 66.653 Val_Loss: 0.7133  BEST VAL Loss: 0.7133  Val_Acc: 69.810\n",
      "\n",
      "Epoch 16: Validation loss decreased (0.713257 --> 0.708822).  Saving model ...\n",
      "\t Train_Loss: 0.7646 Train_Acc: 66.722 Val_Loss: 0.7088  BEST VAL Loss: 0.7088  Val_Acc: 70.050\n",
      "\n",
      "Epoch 17: Validation loss decreased (0.708822 --> 0.704071).  Saving model ...\n",
      "\t Train_Loss: 0.7616 Train_Acc: 66.680 Val_Loss: 0.7041  BEST VAL Loss: 0.7041  Val_Acc: 69.351\n",
      "\n",
      "Epoch 18: Validation loss decreased (0.704071 --> 0.699812).  Saving model ...\n",
      "\t Train_Loss: 0.7584 Train_Acc: 67.132 Val_Loss: 0.6998  BEST VAL Loss: 0.6998  Val_Acc: 69.530\n",
      "\n",
      "Epoch 19: Validation loss decreased (0.699812 --> 0.695651).  Saving model ...\n",
      "\t Train_Loss: 0.7558 Train_Acc: 66.850 Val_Loss: 0.6957  BEST VAL Loss: 0.6957  Val_Acc: 70.130\n",
      "\n",
      "Epoch 20: Validation loss decreased (0.695651 --> 0.692136).  Saving model ...\n",
      "\t Train_Loss: 0.7532 Train_Acc: 67.085 Val_Loss: 0.6921  BEST VAL Loss: 0.6921  Val_Acc: 69.970\n",
      "\n",
      "Epoch 21: Validation loss decreased (0.692136 --> 0.690002).  Saving model ...\n",
      "\t Train_Loss: 0.7511 Train_Acc: 66.717 Val_Loss: 0.6900  BEST VAL Loss: 0.6900  Val_Acc: 69.311\n",
      "\n",
      "Epoch 22: Validation loss decreased (0.690002 --> 0.686877).  Saving model ...\n",
      "\t Train_Loss: 0.7489 Train_Acc: 67.284 Val_Loss: 0.6869  BEST VAL Loss: 0.6869  Val_Acc: 70.130\n",
      "\n",
      "Epoch 23: Validation loss decreased (0.686877 --> 0.683823).  Saving model ...\n",
      "\t Train_Loss: 0.7472 Train_Acc: 66.912 Val_Loss: 0.6838  BEST VAL Loss: 0.6838  Val_Acc: 70.010\n",
      "\n",
      "Epoch 24: Validation loss decreased (0.683823 --> 0.680570).  Saving model ...\n",
      "\t Train_Loss: 0.7453 Train_Acc: 67.199 Val_Loss: 0.6806  BEST VAL Loss: 0.6806  Val_Acc: 69.990\n",
      "\n",
      "Epoch 25: Validation loss decreased (0.680570 --> 0.677912).  Saving model ...\n",
      "\t Train_Loss: 0.7437 Train_Acc: 67.127 Val_Loss: 0.6779  BEST VAL Loss: 0.6779  Val_Acc: 70.090\n",
      "\n",
      "Epoch 26: Validation loss decreased (0.677912 --> 0.675459).  Saving model ...\n",
      "\t Train_Loss: 0.7418 Train_Acc: 67.247 Val_Loss: 0.6755  BEST VAL Loss: 0.6755  Val_Acc: 69.930\n",
      "\n",
      "Epoch 27: Validation loss decreased (0.675459 --> 0.673272).  Saving model ...\n",
      "\t Train_Loss: 0.7400 Train_Acc: 67.522 Val_Loss: 0.6733  BEST VAL Loss: 0.6733  Val_Acc: 69.570\n",
      "\n",
      "Epoch 28: Validation loss decreased (0.673272 --> 0.671272).  Saving model ...\n",
      "\t Train_Loss: 0.7386 Train_Acc: 67.177 Val_Loss: 0.6713  BEST VAL Loss: 0.6713  Val_Acc: 70.230\n",
      "\n",
      "Epoch 29: Validation loss decreased (0.671272 --> 0.669446).  Saving model ...\n",
      "\t Train_Loss: 0.7373 Train_Acc: 67.085 Val_Loss: 0.6694  BEST VAL Loss: 0.6694  Val_Acc: 70.310\n",
      "\n",
      "Epoch 30: Validation loss decreased (0.669446 --> 0.667424).  Saving model ...\n",
      "\t Train_Loss: 0.7359 Train_Acc: 67.349 Val_Loss: 0.6674  BEST VAL Loss: 0.6674  Val_Acc: 70.370\n",
      "\n",
      "Epoch 31: Validation loss decreased (0.667424 --> 0.665319).  Saving model ...\n",
      "\t Train_Loss: 0.7347 Train_Acc: 67.492 Val_Loss: 0.6653  BEST VAL Loss: 0.6653  Val_Acc: 70.649\n",
      "\n",
      "Epoch 32: Validation loss decreased (0.665319 --> 0.663556).  Saving model ...\n",
      "\t Train_Loss: 0.7337 Train_Acc: 67.202 Val_Loss: 0.6636  BEST VAL Loss: 0.6636  Val_Acc: 70.430\n",
      "\n",
      "Epoch 33: Validation loss decreased (0.663556 --> 0.661629).  Saving model ...\n",
      "\t Train_Loss: 0.7324 Train_Acc: 67.507 Val_Loss: 0.6616  BEST VAL Loss: 0.6616  Val_Acc: 69.830\n",
      "\n",
      "Epoch 34: Validation loss decreased (0.661629 --> 0.659842).  Saving model ...\n",
      "\t Train_Loss: 0.7312 Train_Acc: 67.806 Val_Loss: 0.6598  BEST VAL Loss: 0.6598  Val_Acc: 69.890\n",
      "\n",
      "Epoch 35: Validation loss decreased (0.659842 --> 0.658222).  Saving model ...\n",
      "\t Train_Loss: 0.7302 Train_Acc: 67.482 Val_Loss: 0.6582  BEST VAL Loss: 0.6582  Val_Acc: 70.589\n",
      "\n",
      "Epoch 36: Validation loss decreased (0.658222 --> 0.656568).  Saving model ...\n",
      "\t Train_Loss: 0.7292 Train_Acc: 67.399 Val_Loss: 0.6566  BEST VAL Loss: 0.6566  Val_Acc: 70.529\n",
      "\n",
      "Epoch 37: Validation loss decreased (0.656568 --> 0.655203).  Saving model ...\n",
      "\t Train_Loss: 0.7279 Train_Acc: 67.796 Val_Loss: 0.6552  BEST VAL Loss: 0.6552  Val_Acc: 70.210\n",
      "\n",
      "Epoch 38: Validation loss decreased (0.655203 --> 0.653712).  Saving model ...\n",
      "\t Train_Loss: 0.7268 Train_Acc: 67.572 Val_Loss: 0.6537  BEST VAL Loss: 0.6537  Val_Acc: 69.151\n",
      "\n",
      "Epoch 39: Validation loss decreased (0.653712 --> 0.652216).  Saving model ...\n",
      "\t Train_Loss: 0.7258 Train_Acc: 67.562 Val_Loss: 0.6522  BEST VAL Loss: 0.6522  Val_Acc: 70.430\n",
      "\n",
      "Epoch 40: Validation loss decreased (0.652216 --> 0.650964).  Saving model ...\n",
      "\t Train_Loss: 0.7249 Train_Acc: 67.654 Val_Loss: 0.6510  BEST VAL Loss: 0.6510  Val_Acc: 69.830\n",
      "\n",
      "Epoch 41: Validation loss decreased (0.650964 --> 0.649883).  Saving model ...\n",
      "\t Train_Loss: 0.7240 Train_Acc: 67.384 Val_Loss: 0.6499  BEST VAL Loss: 0.6499  Val_Acc: 70.170\n",
      "\n",
      "Epoch 42: Validation loss decreased (0.649883 --> 0.648733).  Saving model ...\n",
      "\t Train_Loss: 0.7232 Train_Acc: 67.699 Val_Loss: 0.6487  BEST VAL Loss: 0.6487  Val_Acc: 70.090\n",
      "\n",
      "Epoch 43: Validation loss decreased (0.648733 --> 0.647700).  Saving model ...\n",
      "\t Train_Loss: 0.7223 Train_Acc: 67.789 Val_Loss: 0.6477  BEST VAL Loss: 0.6477  Val_Acc: 69.970\n",
      "\n",
      "Epoch 44: Validation loss decreased (0.647700 --> 0.646999).  Saving model ...\n",
      "\t Train_Loss: 0.7214 Train_Acc: 67.796 Val_Loss: 0.6470  BEST VAL Loss: 0.6470  Val_Acc: 69.131\n",
      "\n",
      "Epoch 45: Validation loss decreased (0.646999 --> 0.646128).  Saving model ...\n",
      "\t Train_Loss: 0.7207 Train_Acc: 67.562 Val_Loss: 0.6461  BEST VAL Loss: 0.6461  Val_Acc: 69.630\n",
      "\n",
      "Epoch 46: Validation loss decreased (0.646128 --> 0.644889).  Saving model ...\n",
      "\t Train_Loss: 0.7200 Train_Acc: 67.467 Val_Loss: 0.6449  BEST VAL Loss: 0.6449  Val_Acc: 70.589\n",
      "\n",
      "Epoch 47: Validation loss decreased (0.644889 --> 0.644053).  Saving model ...\n",
      "\t Train_Loss: 0.7192 Train_Acc: 67.749 Val_Loss: 0.6441  BEST VAL Loss: 0.6441  Val_Acc: 70.569\n",
      "\n",
      "Epoch 48: Validation loss decreased (0.644053 --> 0.643327).  Saving model ...\n",
      "\t Train_Loss: 0.7186 Train_Acc: 67.442 Val_Loss: 0.6433  BEST VAL Loss: 0.6433  Val_Acc: 69.710\n",
      "\n",
      "Epoch 49: Validation loss decreased (0.643327 --> 0.642904).  Saving model ...\n",
      "\t Train_Loss: 0.7179 Train_Acc: 67.659 Val_Loss: 0.6429  BEST VAL Loss: 0.6429  Val_Acc: 69.590\n",
      "\n",
      "Epoch 50: Validation loss decreased (0.642904 --> 0.642496).  Saving model ...\n",
      "\t Train_Loss: 0.7173 Train_Acc: 67.574 Val_Loss: 0.6425  BEST VAL Loss: 0.6425  Val_Acc: 69.610\n",
      "\n",
      "Epoch 51: Validation loss decreased (0.642496 --> 0.641774).  Saving model ...\n",
      "\t Train_Loss: 0.7166 Train_Acc: 67.429 Val_Loss: 0.6418  BEST VAL Loss: 0.6418  Val_Acc: 69.491\n",
      "\n",
      "Epoch 52: Validation loss decreased (0.641774 --> 0.640852).  Saving model ...\n",
      "\t Train_Loss: 0.7160 Train_Acc: 67.751 Val_Loss: 0.6409  BEST VAL Loss: 0.6409  Val_Acc: 70.230\n",
      "\n",
      "Epoch 53: Validation loss decreased (0.640852 --> 0.640019).  Saving model ...\n",
      "\t Train_Loss: 0.7154 Train_Acc: 67.884 Val_Loss: 0.6400  BEST VAL Loss: 0.6400  Val_Acc: 69.151\n",
      "\n",
      "Epoch 54: Validation loss decreased (0.640019 --> 0.639420).  Saving model ...\n",
      "\t Train_Loss: 0.7148 Train_Acc: 67.664 Val_Loss: 0.6394  BEST VAL Loss: 0.6394  Val_Acc: 69.011\n",
      "\n",
      "Epoch 55: Validation loss decreased (0.639420 --> 0.638696).  Saving model ...\n",
      "\t Train_Loss: 0.7143 Train_Acc: 67.532 Val_Loss: 0.6387  BEST VAL Loss: 0.6387  Val_Acc: 70.629\n",
      "\n",
      "Epoch 56: Validation loss decreased (0.638696 --> 0.637871).  Saving model ...\n",
      "\t Train_Loss: 0.7137 Train_Acc: 67.607 Val_Loss: 0.6379  BEST VAL Loss: 0.6379  Val_Acc: 69.550\n",
      "\n",
      "Epoch 57: Validation loss decreased (0.637871 --> 0.637175).  Saving model ...\n",
      "\t Train_Loss: 0.7132 Train_Acc: 67.744 Val_Loss: 0.6372  BEST VAL Loss: 0.6372  Val_Acc: 69.211\n",
      "\n",
      "Epoch 58: Validation loss decreased (0.637175 --> 0.636454).  Saving model ...\n",
      "\t Train_Loss: 0.7127 Train_Acc: 67.701 Val_Loss: 0.6365  BEST VAL Loss: 0.6365  Val_Acc: 69.630\n",
      "\n",
      "Epoch 59: Validation loss decreased (0.636454 --> 0.635816).  Saving model ...\n",
      "\t Train_Loss: 0.7121 Train_Acc: 67.579 Val_Loss: 0.6358  BEST VAL Loss: 0.6358  Val_Acc: 69.950\n",
      "\n",
      "Epoch 60: Validation loss decreased (0.635816 --> 0.635227).  Saving model ...\n",
      "\t Train_Loss: 0.7116 Train_Acc: 67.751 Val_Loss: 0.6352  BEST VAL Loss: 0.6352  Val_Acc: 68.691\n",
      "\n",
      "Epoch 61: Validation loss decreased (0.635227 --> 0.634677).  Saving model ...\n",
      "\t Train_Loss: 0.7111 Train_Acc: 67.524 Val_Loss: 0.6347  BEST VAL Loss: 0.6347  Val_Acc: 69.131\n",
      "\n",
      "Epoch 62: Validation loss decreased (0.634677 --> 0.634223).  Saving model ...\n",
      "\t Train_Loss: 0.7106 Train_Acc: 67.657 Val_Loss: 0.6342  BEST VAL Loss: 0.6342  Val_Acc: 68.791\n",
      "\n",
      "Epoch 63: Validation loss decreased (0.634223 --> 0.633574).  Saving model ...\n",
      "\t Train_Loss: 0.7101 Train_Acc: 67.971 Val_Loss: 0.6336  BEST VAL Loss: 0.6336  Val_Acc: 69.830\n",
      "\n",
      "Epoch 64: Validation loss decreased (0.633574 --> 0.633005).  Saving model ...\n",
      "\t Train_Loss: 0.7096 Train_Acc: 67.879 Val_Loss: 0.6330  BEST VAL Loss: 0.6330  Val_Acc: 69.910\n",
      "\n",
      "Epoch 65: Validation loss decreased (0.633005 --> 0.632518).  Saving model ...\n",
      "\t Train_Loss: 0.7091 Train_Acc: 68.174 Val_Loss: 0.6325  BEST VAL Loss: 0.6325  Val_Acc: 68.831\n",
      "\n",
      "Epoch 66: Validation loss decreased (0.632518 --> 0.632125).  Saving model ...\n",
      "\t Train_Loss: 0.7087 Train_Acc: 68.011 Val_Loss: 0.6321  BEST VAL Loss: 0.6321  Val_Acc: 68.711\n",
      "\n",
      "Epoch 67: Validation loss decreased (0.632125 --> 0.631818).  Saving model ...\n",
      "\t Train_Loss: 0.7083 Train_Acc: 67.929 Val_Loss: 0.6318  BEST VAL Loss: 0.6318  Val_Acc: 70.050\n",
      "\n",
      "Epoch 68: Validation loss decreased (0.631818 --> 0.631401).  Saving model ...\n",
      "\t Train_Loss: 0.7078 Train_Acc: 68.039 Val_Loss: 0.6314  BEST VAL Loss: 0.6314  Val_Acc: 69.111\n",
      "\n",
      "Epoch 69: Validation loss decreased (0.631401 --> 0.630921).  Saving model ...\n",
      "\t Train_Loss: 0.7075 Train_Acc: 67.664 Val_Loss: 0.6309  BEST VAL Loss: 0.6309  Val_Acc: 69.451\n",
      "\n",
      "Epoch 70: Validation loss decreased (0.630921 --> 0.630389).  Saving model ...\n",
      "\t Train_Loss: 0.7071 Train_Acc: 67.736 Val_Loss: 0.6304  BEST VAL Loss: 0.6304  Val_Acc: 69.770\n",
      "\n",
      "Epoch 71: Validation loss decreased (0.630389 --> 0.629995).  Saving model ...\n",
      "\t Train_Loss: 0.7067 Train_Acc: 67.951 Val_Loss: 0.6300  BEST VAL Loss: 0.6300  Val_Acc: 68.791\n",
      "\n",
      "Epoch 72: Validation loss decreased (0.629995 --> 0.629512).  Saving model ...\n",
      "\t Train_Loss: 0.7062 Train_Acc: 68.233 Val_Loss: 0.6295  BEST VAL Loss: 0.6295  Val_Acc: 68.551\n",
      "\n",
      "Epoch 73: Validation loss decreased (0.629512 --> 0.629078).  Saving model ...\n",
      "\t Train_Loss: 0.7058 Train_Acc: 67.989 Val_Loss: 0.6291  BEST VAL Loss: 0.6291  Val_Acc: 69.151\n",
      "\n",
      "Epoch 74: Validation loss decreased (0.629078 --> 0.628709).  Saving model ...\n",
      "\t Train_Loss: 0.7055 Train_Acc: 67.944 Val_Loss: 0.6287  BEST VAL Loss: 0.6287  Val_Acc: 68.731\n",
      "\n",
      "Epoch 75: Validation loss decreased (0.628709 --> 0.628300).  Saving model ...\n",
      "\t Train_Loss: 0.7052 Train_Acc: 67.559 Val_Loss: 0.6283  BEST VAL Loss: 0.6283  Val_Acc: 69.670\n",
      "\n",
      "Epoch 76: Validation loss decreased (0.628300 --> 0.628009).  Saving model ...\n",
      "\t Train_Loss: 0.7049 Train_Acc: 68.101 Val_Loss: 0.6280  BEST VAL Loss: 0.6280  Val_Acc: 69.730\n",
      "\n",
      "Epoch 77: Validation loss decreased (0.628009 --> 0.627690).  Saving model ...\n",
      "\t Train_Loss: 0.7045 Train_Acc: 68.116 Val_Loss: 0.6277  BEST VAL Loss: 0.6277  Val_Acc: 69.730\n",
      "\n",
      "Epoch 78: Validation loss decreased (0.627690 --> 0.627287).  Saving model ...\n",
      "\t Train_Loss: 0.7041 Train_Acc: 67.959 Val_Loss: 0.6273  BEST VAL Loss: 0.6273  Val_Acc: 69.670\n",
      "\n",
      "Epoch 79: Validation loss decreased (0.627287 --> 0.626905).  Saving model ...\n",
      "\t Train_Loss: 0.7037 Train_Acc: 68.136 Val_Loss: 0.6269  BEST VAL Loss: 0.6269  Val_Acc: 70.070\n",
      "\n",
      "Epoch 80: Validation loss decreased (0.626905 --> 0.626643).  Saving model ...\n",
      "\t Train_Loss: 0.7033 Train_Acc: 68.079 Val_Loss: 0.6266  BEST VAL Loss: 0.6266  Val_Acc: 69.890\n",
      "\n",
      "Epoch 81: Validation loss decreased (0.626643 --> 0.626232).  Saving model ...\n",
      "\t Train_Loss: 0.7031 Train_Acc: 67.659 Val_Loss: 0.6262  BEST VAL Loss: 0.6262  Val_Acc: 69.810\n",
      "\n",
      "Epoch 82: Validation loss decreased (0.626232 --> 0.625749).  Saving model ...\n",
      "\t Train_Loss: 0.7027 Train_Acc: 68.004 Val_Loss: 0.6257  BEST VAL Loss: 0.6257  Val_Acc: 69.790\n",
      "\n",
      "Epoch 83: Validation loss decreased (0.625749 --> 0.625327).  Saving model ...\n",
      "\t Train_Loss: 0.7024 Train_Acc: 67.969 Val_Loss: 0.6253  BEST VAL Loss: 0.6253  Val_Acc: 68.991\n",
      "\n",
      "Epoch 84: Validation loss decreased (0.625327 --> 0.624931).  Saving model ...\n",
      "\t Train_Loss: 0.7021 Train_Acc: 67.981 Val_Loss: 0.6249  BEST VAL Loss: 0.6249  Val_Acc: 69.730\n",
      "\n",
      "Epoch 85: Validation loss decreased (0.624931 --> 0.624510).  Saving model ...\n",
      "\t Train_Loss: 0.7017 Train_Acc: 67.941 Val_Loss: 0.6245  BEST VAL Loss: 0.6245  Val_Acc: 69.950\n",
      "\n",
      "Epoch 86: Validation loss decreased (0.624510 --> 0.624176).  Saving model ...\n",
      "\t Train_Loss: 0.7014 Train_Acc: 67.836 Val_Loss: 0.6242  BEST VAL Loss: 0.6242  Val_Acc: 69.131\n",
      "\n",
      "Epoch 87: Validation loss decreased (0.624176 --> 0.623778).  Saving model ...\n",
      "\t Train_Loss: 0.7011 Train_Acc: 67.966 Val_Loss: 0.6238  BEST VAL Loss: 0.6238  Val_Acc: 69.351\n",
      "\n",
      "Epoch 88: Validation loss decreased (0.623778 --> 0.623527).  Saving model ...\n",
      "\t Train_Loss: 0.7008 Train_Acc: 68.046 Val_Loss: 0.6235  BEST VAL Loss: 0.6235  Val_Acc: 70.250\n",
      "\n",
      "Epoch 89: Validation loss decreased (0.623527 --> 0.623190).  Saving model ...\n",
      "\t Train_Loss: 0.7005 Train_Acc: 68.106 Val_Loss: 0.6232  BEST VAL Loss: 0.6232  Val_Acc: 69.810\n",
      "\n",
      "Epoch 90: Validation loss decreased (0.623190 --> 0.622850).  Saving model ...\n",
      "\t Train_Loss: 0.7002 Train_Acc: 68.154 Val_Loss: 0.6229  BEST VAL Loss: 0.6229  Val_Acc: 68.871\n",
      "\n",
      "Epoch 91: Validation loss decreased (0.622850 --> 0.622572).  Saving model ...\n",
      "\t Train_Loss: 0.6999 Train_Acc: 68.301 Val_Loss: 0.6226  BEST VAL Loss: 0.6226  Val_Acc: 68.472\n",
      "\n",
      "Epoch 92: Validation loss decreased (0.622572 --> 0.622314).  Saving model ...\n",
      "\t Train_Loss: 0.6997 Train_Acc: 67.986 Val_Loss: 0.6223  BEST VAL Loss: 0.6223  Val_Acc: 68.312\n",
      "\n",
      "Epoch 93: Validation loss decreased (0.622314 --> 0.622160).  Saving model ...\n",
      "\t Train_Loss: 0.6994 Train_Acc: 67.761 Val_Loss: 0.6222  BEST VAL Loss: 0.6222  Val_Acc: 69.570\n",
      "\n",
      "Epoch 94: Validation loss decreased (0.622160 --> 0.621800).  Saving model ...\n",
      "\t Train_Loss: 0.6992 Train_Acc: 67.871 Val_Loss: 0.6218  BEST VAL Loss: 0.6218  Val_Acc: 69.171\n",
      "\n",
      "Epoch 95: Validation loss decreased (0.621800 --> 0.621447).  Saving model ...\n",
      "\t Train_Loss: 0.6988 Train_Acc: 68.311 Val_Loss: 0.6214  BEST VAL Loss: 0.6214  Val_Acc: 69.271\n",
      "\n",
      "Epoch 96: Validation loss decreased (0.621447 --> 0.621176).  Saving model ...\n",
      "\t Train_Loss: 0.6986 Train_Acc: 68.368 Val_Loss: 0.6212  BEST VAL Loss: 0.6212  Val_Acc: 69.251\n",
      "\n",
      "Epoch 97: Validation loss decreased (0.621176 --> 0.620924).  Saving model ...\n",
      "\t Train_Loss: 0.6983 Train_Acc: 67.961 Val_Loss: 0.6209  BEST VAL Loss: 0.6209  Val_Acc: 69.670\n",
      "\n",
      "Epoch 98: Validation loss decreased (0.620924 --> 0.620670).  Saving model ...\n",
      "\t Train_Loss: 0.6980 Train_Acc: 68.441 Val_Loss: 0.6207  BEST VAL Loss: 0.6207  Val_Acc: 69.770\n",
      "\n",
      "Epoch 99: Validation loss did not decrease\n",
      "\t Train_Loss: 0.6978 Train_Acc: 67.864 Val_Loss: 0.6207  BEST VAL Loss: 0.6207  Val_Acc: 68.591\n",
      "\n"
     ]
    }
   ],
   "source": [
    "# call the optimized training model\n",
    "train_loss, train_acc, valid_loss, valid_acc, epochs_ran, model = train_optimized_model(\n",
    "    params.TRAIN_EPOCHS,\n",
    "    train_loader,\n",
    "    valid_loader,\n",
    "    param_dict,\n",
    "    params,\n",
    ")\n",
    "if params.MODEL_TYPE == \"Regression\":\n",
    "    training_stats = pd.DataFrame(\n",
    "        zip(train_loss, valid_loss, epochs_ran),\n",
    "        columns=[\"train_loss\", \"valid_loss\", \"epochs_ran\"],\n",
    "    )\n",
    "else:\n",
    "    training_stats = pd.DataFrame(\n",
    "        zip(train_loss, train_acc, valid_loss, valid_acc, epochs_ran),\n",
    "        columns=[\"train_loss\", \"train_acc\", \"valid_loss\", \"valid_acc\", \"epochs_ran\"],\n",
    "    )"
   ]
  },
  {
   "cell_type": "code",
   "execution_count": 16,
   "id": "1340d8aa",
   "metadata": {},
   "outputs": [
    {
     "name": "stderr",
     "output_type": "stream",
     "text": [
      "/home/lippincm/Documents/ML/Interstellar_Analysis/4.MLP_Model/MLP_utils/utils.py:852: UserWarning:\n",
      "\n",
      "Ignoring `palette` because no `hue` variable has been assigned.\n",
      "\n",
      "/home/lippincm/Documents/ML/Interstellar_Analysis/4.MLP_Model/MLP_utils/utils.py:853: UserWarning:\n",
      "\n",
      "Ignoring `palette` because no `hue` variable has been assigned.\n",
      "\n"
     ]
    },
    {
     "data": {
      "image/png": "[encoded data removed]",
      "text/plain": [
       "<Figure size 640x480 with 1 Axes>"
      ]
     },
     "metadata": {},
     "output_type": "display_data"
    }
   ],
   "source": [
    "if params.MODEL_TYPE == \"Regression\":\n",
    "    pass\n",
    "else:\n",
    "    plot_metric_vs_epoch(\n",
    "        training_stats,\n",
    "        x=\"epochs_ran\",\n",
    "        y1=\"train_acc\",\n",
    "        y2=\"valid_acc\",\n",
    "        title=\"Accuracy vs. Epochs\",\n",
    "        x_axis_label=\"Epochs\",\n",
    "        y_axis_label=\"Accuracy\",\n",
    "        params=params,\n",
    "    )"
   ]
  },
  {
   "cell_type": "code",
   "execution_count": 17,
   "id": "41991221",
   "metadata": {},
   "outputs": [
    {
     "name": "stderr",
     "output_type": "stream",
     "text": [
      "/home/lippincm/Documents/ML/Interstellar_Analysis/4.MLP_Model/MLP_utils/utils.py:852: UserWarning:\n",
      "\n",
      "Ignoring `palette` because no `hue` variable has been assigned.\n",
      "\n",
      "/home/lippincm/Documents/ML/Interstellar_Analysis/4.MLP_Model/MLP_utils/utils.py:853: UserWarning:\n",
      "\n",
      "Ignoring `palette` because no `hue` variable has been assigned.\n",
      "\n"
     ]
    },
    {
     "data": {
      "image/png": "[encoded data removed]",
      "text/plain": [
       "<Figure size 640x480 with 1 Axes>"
      ]
     },
     "metadata": {},
     "output_type": "display_data"
    }
   ],
   "source": [
    "plot_metric_vs_epoch(\n",
    "    training_stats,\n",
    "    x=\"epochs_ran\",\n",
    "    y1=\"train_loss\",\n",
    "    y2=\"valid_loss\",\n",
    "    title=\"Loss vs. Epochs\",\n",
    "    x_axis_label=\"Epochs\",\n",
    "    y_axis_label=\"Loss\",\n",
    "    params=params,\n",
    ")"
   ]
  },
  {
   "cell_type": "code",
   "execution_count": 18,
   "id": "3e2c848c",
   "metadata": {},
   "outputs": [],
   "source": [
    "# calling the testing function and outputing list values of tested model\n",
    "if params.MODEL_TYPE == \"Multi_Class\":\n",
    "    y_pred_list = test_optimized_model(model, test_loader, params)\n",
    "elif params.MODEL_TYPE == \"Binary_Classification\":\n",
    "    y_pred_list, y_pred_prob_list = test_optimized_model(model, test_loader, params)\n",
    "elif params.MODEL_TYPE == \"Regression\":\n",
    "    y_pred_list = test_optimized_model(model, test_loader, params)\n",
    "else:\n",
    "    raise Exception(\"Model type must be specified for proper model testing\")\n",
    "\n",
    "\n",
    "# un-nest list if nested i.e. length of input data does not match length of output data\n",
    "if len(y_pred_list) != len(Y_test):\n",
    "    y_pred_list = un_nest(y_pred_list)\n",
    "    y_pred_prob_list = un_nest(y_pred_prob_list)\n",
    "else:\n",
    "    pass"
   ]
  },
  {
   "cell_type": "code",
   "execution_count": 19,
   "id": "3c53f7e4",
   "metadata": {},
   "outputs": [
    {
     "name": "stdout",
     "output_type": "stream",
     "text": [
      "              precision    recall  f1-score   support\n",
      "\n",
      "           0       0.69      0.68      0.69      1346\n",
      "           1       0.60      0.65      0.62      1768\n",
      "           2       0.78      0.73      0.76      1891\n",
      "\n",
      "    accuracy                           0.69      5005\n",
      "   macro avg       0.69      0.69      0.69      5005\n",
      "weighted avg       0.69      0.69      0.69      5005\n",
      "\n",
      "Precision for class 0: 0.6944655041698257\n",
      "Recall for class 0: 0.6805349182763745\n",
      "Precision for class 1: 0.6014644351464435\n",
      "Recall for class 1: 0.6504524886877828\n",
      "Precision for class 2: 0.7807215332581735\n",
      "Recall for class 2: 0.7324167107350608\n",
      "3\n"
     ]
    },
    {
     "data": {
      "image/png": "[encoded data removed]",
      "text/plain": [
       "<Figure size 640x480 with 2 Axes>"
      ]
     },
     "metadata": {},
     "output_type": "display_data"
    },
    {
     "data": {
      "image/png": "[encoded data removed]",
      "text/plain": [
       "<Figure size 640x480 with 1 Axes>"
      ]
     },
     "metadata": {},
     "output_type": "display_data"
    }
   ],
   "source": [
    "# Call visualization function\n",
    "# calling the testing function and outputing list values of tested model\n",
    "if params.MODEL_TYPE == \"Multi_Class\":\n",
    "    results_output(y_pred_list, Y_test, params)\n",
    "elif params.MODEL_TYPE == \"Binary_Classification\":\n",
    "    results_output(y_pred_list, Y_test, params, y_pred_prob_list)\n",
    "elif params.MODEL_TYPE == \"Regression\":\n",
    "    results_output(y_pred_list, Y_test, params)\n",
    "else:\n",
    "    raise Exception(\"Model type must be specified for proper model testing\")"
   ]
  }
 ],
 "metadata": {
  "jupytext": {
   "cell_metadata_filter": "-all",
   "encoding": "# coding: utf-8",
   "executable": "/usr/bin/env python",
   "formats": "ipynb,py",
   "main_language": "python"
  },
  "kernelspec": {
   "display_name": "Python 3 (ipykernel)",
   "language": "python",
   "name": "python3"
  },
  "language_info": {
   "codemirror_mode": {
    "name": "ipython",
    "version": 3
   },
   "file_extension": ".py",
   "mimetype": "text/x-python",
   "name": "python",
   "nbconvert_exporter": "python",
   "pygments_lexer": "ipython3",
   "version": "3.10.10 | packaged by conda-forge | (main, Mar 24 2023, 20:08:06) [GCC 11.3.0]"
  },
  "vscode": {
   "interpreter": {
    "hash": "72ae02083a9ca7d143c492d1aec380c7bf553ec51bd66e90e72bba65228121b6"
   }
  }
 },
 "nbformat": 4,
 "nbformat_minor": 5
}
