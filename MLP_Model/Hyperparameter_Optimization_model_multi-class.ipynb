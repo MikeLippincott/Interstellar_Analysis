{
 "cells": [
  {
   "attachments": {},
   "cell_type": "markdown",
   "id": "8e60628c",
   "metadata": {},
   "source": [
    "## Hyperparameter tuning via Optuna"
   ]
  },
  {
   "cell_type": "markdown",
   "id": "8fac71a5",
   "metadata": {},
   "source": [
    "### Being a binary model this notebook will be limited to predicting one class 1 or 0, yes or no.\n",
    "### Here I will be predicting if a cell received a treatment or not"
   ]
  },
  {
   "cell_type": "code",
   "execution_count": 1,
   "id": "860a61dd",
   "metadata": {},
   "outputs": [],
   "source": [
    "import sys\n",
    "from pathlib import Path\n",
    "\n",
    "import matplotlib.pyplot as plt\n",
    "import numpy as np\n",
    "import optuna\n",
    "import pandas as pd\n",
    "import plotly\n",
    "import seaborn as sns\n",
    "import toml\n",
    "import torch\n",
    "import torch.nn as nn\n",
    "import torch.optim as optim\n",
    "from sklearn import preprocessing\n",
    "\n",
    "from sklearn.model_selection import train_test_split\n",
    "\n",
    "sys.path.append(\"..\")\n",
    "from MLP_utils.parameters import Parameters\n",
    "from sklearn.metrics import confusion_matrix\n",
    "from sklearn.metrics import precision_score, recall_score\n",
    "from sklearn.metrics import roc_auc_score\n",
    "\n",
    "from sklearn.metrics import roc_curve, auc\n",
    "\n",
    "import pyarrow.parquet as pq\n",
    "\n",
    "from MLP_utils.utils import (\n",
    "    Dataset_formatter,\n",
    "    data_split,\n",
    "    extract_best_trial_params,\n",
    "    objective_model_optimizer,\n",
    "    optimized_model_create,\n",
    "    plot_metric_vs_epoch,\n",
    "    results_output,\n",
    "    test_optimized_model,\n",
    "    train_optimized_model,\n",
    "    un_nest,\n",
    ")\n",
    "\n",
    "from utils.utils import df_stats\n",
    "from MLP_utils.utils import parameter_set"
   ]
  },
  {
   "cell_type": "code",
   "execution_count": 2,
   "id": "44baa945",
   "metadata": {},
   "outputs": [],
   "source": [
    "# Import Data\n",
    "# set data file path under pathlib path for multi-system use\n",
    "file_path = Path(\"../../Extracted_Features_(CSV_files)/feature_df_sc_norm.parquet\")\n",
    "\n",
    "df = pq.read_table(file_path).to_pandas()\n",
    "# df = pd.read_csv(file_path, engine=\"pyarrow\")"
   ]
  },
  {
   "cell_type": "code",
   "execution_count": 3,
   "id": "394294ce",
   "metadata": {},
   "outputs": [],
   "source": [
    "data = Path(\"MLP_utils/config.toml\")\n",
    "config = toml.load(data)\n",
    "params = Parameters()\n",
    "params = parameter_set(params, config)"
   ]
  },
  {
   "attachments": {},
   "cell_type": "markdown",
   "id": "5c486e00",
   "metadata": {},
   "source": [
    "#### Set up Data to be compatible with model"
   ]
  },
  {
   "attachments": {},
   "cell_type": "markdown",
   "id": "95754baa",
   "metadata": {},
   "source": [
    "##### Classification Models:\n",
    "Comment out code if using regression"
   ]
  },
  {
   "cell_type": "code",
   "execution_count": 4,
   "id": "0c329280",
   "metadata": {},
   "outputs": [
    {
     "data": {
      "text/html": [
       "<div>\n",
       "<style scoped>\n",
       "    .dataframe tbody tr th:only-of-type {\n",
       "        vertical-align: middle;\n",
       "    }\n",
       "\n",
       "    .dataframe tbody tr th {\n",
       "        vertical-align: top;\n",
       "    }\n",
       "\n",
       "    .dataframe thead th {\n",
       "        text-align: right;\n",
       "    }\n",
       "</style>\n",
       "<table border=\"1\" class=\"dataframe\">\n",
       "  <thead>\n",
       "    <tr style=\"text-align: right;\">\n",
       "      <th></th>\n",
       "      <th>Metadata_cell_type</th>\n",
       "      <th>Metadata_Well</th>\n",
       "      <th>Metadata_number_of_singlecells</th>\n",
       "      <th>Metadata_incubation inducer (h)</th>\n",
       "      <th>Metadata_inhibitor</th>\n",
       "      <th>Metadata_inhibitor_concentration</th>\n",
       "      <th>Metadata_inhibitor_concentration_unit</th>\n",
       "      <th>Metadata_inducer1</th>\n",
       "      <th>Metadata_inducer1_concentration</th>\n",
       "      <th>Metadata_inducer1_concentration_unit</th>\n",
       "      <th>...</th>\n",
       "      <th>Nuclei_Texture_Variance_CorrPM_3_00_256</th>\n",
       "      <th>Nuclei_Texture_Variance_CorrPM_3_01_256</th>\n",
       "      <th>Nuclei_Texture_Variance_CorrPM_3_02_256</th>\n",
       "      <th>Nuclei_Texture_Variance_CorrPM_3_03_256</th>\n",
       "      <th>Metadata_Treatment</th>\n",
       "      <th>Metadata_Dose</th>\n",
       "      <th>oneb_Metadata_Treatment_Dose_Inhibitor_Dose</th>\n",
       "      <th>twob_Metadata_Treatment_Dose_Inhibitor_Dose</th>\n",
       "      <th>threeb_Metadata_Treatment_Dose_Inhibitor_Dose</th>\n",
       "      <th>fourb_Metadata_Treatment_Dose_Inhibitor_Dose</th>\n",
       "    </tr>\n",
       "  </thead>\n",
       "  <tbody>\n",
       "    <tr>\n",
       "      <th>0</th>\n",
       "      <td>SH-SY5Y</td>\n",
       "      <td>B13</td>\n",
       "      <td>3765</td>\n",
       "      <td>6</td>\n",
       "      <td>Media ctr</td>\n",
       "      <td>0.0</td>\n",
       "      <td>None</td>\n",
       "      <td>media ctr</td>\n",
       "      <td>0.0</td>\n",
       "      <td>None</td>\n",
       "      <td>...</td>\n",
       "      <td>0.099225</td>\n",
       "      <td>0.096054</td>\n",
       "      <td>0.110432</td>\n",
       "      <td>0.107764</td>\n",
       "      <td>media ctr</td>\n",
       "      <td>0</td>\n",
       "      <td>media ctr_0_Media ctr_0.0</td>\n",
       "      <td>media ctr_Media ctr_0.0__0</td>\n",
       "      <td>media ctr__0__Media ctr_0.0</td>\n",
       "      <td>media ctr__0__Media ctr__0.0</td>\n",
       "    </tr>\n",
       "    <tr>\n",
       "      <th>1</th>\n",
       "      <td>SH-SY5Y</td>\n",
       "      <td>B13</td>\n",
       "      <td>3765</td>\n",
       "      <td>6</td>\n",
       "      <td>Media ctr</td>\n",
       "      <td>0.0</td>\n",
       "      <td>None</td>\n",
       "      <td>media ctr</td>\n",
       "      <td>0.0</td>\n",
       "      <td>None</td>\n",
       "      <td>...</td>\n",
       "      <td>0.020683</td>\n",
       "      <td>0.016122</td>\n",
       "      <td>0.012990</td>\n",
       "      <td>0.013631</td>\n",
       "      <td>media ctr</td>\n",
       "      <td>0</td>\n",
       "      <td>media ctr_0_Media ctr_0.0</td>\n",
       "      <td>media ctr_Media ctr_0.0__0</td>\n",
       "      <td>media ctr__0__Media ctr_0.0</td>\n",
       "      <td>media ctr__0__Media ctr__0.0</td>\n",
       "    </tr>\n",
       "    <tr>\n",
       "      <th>2</th>\n",
       "      <td>SH-SY5Y</td>\n",
       "      <td>B13</td>\n",
       "      <td>3765</td>\n",
       "      <td>6</td>\n",
       "      <td>Media ctr</td>\n",
       "      <td>0.0</td>\n",
       "      <td>None</td>\n",
       "      <td>media ctr</td>\n",
       "      <td>0.0</td>\n",
       "      <td>None</td>\n",
       "      <td>...</td>\n",
       "      <td>0.027519</td>\n",
       "      <td>0.045982</td>\n",
       "      <td>0.037653</td>\n",
       "      <td>0.017281</td>\n",
       "      <td>media ctr</td>\n",
       "      <td>0</td>\n",
       "      <td>media ctr_0_Media ctr_0.0</td>\n",
       "      <td>media ctr_Media ctr_0.0__0</td>\n",
       "      <td>media ctr__0__Media ctr_0.0</td>\n",
       "      <td>media ctr__0__Media ctr__0.0</td>\n",
       "    </tr>\n",
       "    <tr>\n",
       "      <th>3</th>\n",
       "      <td>SH-SY5Y</td>\n",
       "      <td>B13</td>\n",
       "      <td>3765</td>\n",
       "      <td>6</td>\n",
       "      <td>Media ctr</td>\n",
       "      <td>0.0</td>\n",
       "      <td>None</td>\n",
       "      <td>media ctr</td>\n",
       "      <td>0.0</td>\n",
       "      <td>None</td>\n",
       "      <td>...</td>\n",
       "      <td>-0.002945</td>\n",
       "      <td>0.000293</td>\n",
       "      <td>0.008048</td>\n",
       "      <td>-0.002151</td>\n",
       "      <td>media ctr</td>\n",
       "      <td>0</td>\n",
       "      <td>media ctr_0_Media ctr_0.0</td>\n",
       "      <td>media ctr_Media ctr_0.0__0</td>\n",
       "      <td>media ctr__0__Media ctr_0.0</td>\n",
       "      <td>media ctr__0__Media ctr__0.0</td>\n",
       "    </tr>\n",
       "    <tr>\n",
       "      <th>4</th>\n",
       "      <td>SH-SY5Y</td>\n",
       "      <td>B13</td>\n",
       "      <td>3765</td>\n",
       "      <td>6</td>\n",
       "      <td>Media ctr</td>\n",
       "      <td>0.0</td>\n",
       "      <td>None</td>\n",
       "      <td>media ctr</td>\n",
       "      <td>0.0</td>\n",
       "      <td>None</td>\n",
       "      <td>...</td>\n",
       "      <td>0.016846</td>\n",
       "      <td>0.006499</td>\n",
       "      <td>0.014114</td>\n",
       "      <td>0.026206</td>\n",
       "      <td>media ctr</td>\n",
       "      <td>0</td>\n",
       "      <td>media ctr_0_Media ctr_0.0</td>\n",
       "      <td>media ctr_Media ctr_0.0__0</td>\n",
       "      <td>media ctr__0__Media ctr_0.0</td>\n",
       "      <td>media ctr__0__Media ctr__0.0</td>\n",
       "    </tr>\n",
       "    <tr>\n",
       "      <th>...</th>\n",
       "      <td>...</td>\n",
       "      <td>...</td>\n",
       "      <td>...</td>\n",
       "      <td>...</td>\n",
       "      <td>...</td>\n",
       "      <td>...</td>\n",
       "      <td>...</td>\n",
       "      <td>...</td>\n",
       "      <td>...</td>\n",
       "      <td>...</td>\n",
       "      <td>...</td>\n",
       "      <td>...</td>\n",
       "      <td>...</td>\n",
       "      <td>...</td>\n",
       "      <td>...</td>\n",
       "      <td>...</td>\n",
       "      <td>...</td>\n",
       "      <td>...</td>\n",
       "      <td>...</td>\n",
       "      <td>...</td>\n",
       "      <td>...</td>\n",
       "    </tr>\n",
       "    <tr>\n",
       "      <th>597897</th>\n",
       "      <td>SH-SY5Y</td>\n",
       "      <td>O23</td>\n",
       "      <td>3555</td>\n",
       "      <td>6</td>\n",
       "      <td>Media ctr</td>\n",
       "      <td>0.0</td>\n",
       "      <td>None</td>\n",
       "      <td>media ctr</td>\n",
       "      <td>0.0</td>\n",
       "      <td>None</td>\n",
       "      <td>...</td>\n",
       "      <td>-0.024370</td>\n",
       "      <td>-0.033577</td>\n",
       "      <td>-0.033811</td>\n",
       "      <td>-0.028148</td>\n",
       "      <td>media ctr</td>\n",
       "      <td>0</td>\n",
       "      <td>media ctr_0_Media ctr_0.0</td>\n",
       "      <td>media ctr_Media ctr_0.0__0</td>\n",
       "      <td>media ctr__0__Media ctr_0.0</td>\n",
       "      <td>media ctr__0__Media ctr__0.0</td>\n",
       "    </tr>\n",
       "    <tr>\n",
       "      <th>597898</th>\n",
       "      <td>SH-SY5Y</td>\n",
       "      <td>O23</td>\n",
       "      <td>3555</td>\n",
       "      <td>6</td>\n",
       "      <td>Media ctr</td>\n",
       "      <td>0.0</td>\n",
       "      <td>None</td>\n",
       "      <td>media ctr</td>\n",
       "      <td>0.0</td>\n",
       "      <td>None</td>\n",
       "      <td>...</td>\n",
       "      <td>-0.049855</td>\n",
       "      <td>-0.048752</td>\n",
       "      <td>-0.050176</td>\n",
       "      <td>-0.049417</td>\n",
       "      <td>media ctr</td>\n",
       "      <td>0</td>\n",
       "      <td>media ctr_0_Media ctr_0.0</td>\n",
       "      <td>media ctr_Media ctr_0.0__0</td>\n",
       "      <td>media ctr__0__Media ctr_0.0</td>\n",
       "      <td>media ctr__0__Media ctr__0.0</td>\n",
       "    </tr>\n",
       "    <tr>\n",
       "      <th>597899</th>\n",
       "      <td>SH-SY5Y</td>\n",
       "      <td>O23</td>\n",
       "      <td>3555</td>\n",
       "      <td>6</td>\n",
       "      <td>Media ctr</td>\n",
       "      <td>0.0</td>\n",
       "      <td>None</td>\n",
       "      <td>media ctr</td>\n",
       "      <td>0.0</td>\n",
       "      <td>None</td>\n",
       "      <td>...</td>\n",
       "      <td>-0.027676</td>\n",
       "      <td>-0.024066</td>\n",
       "      <td>-0.026279</td>\n",
       "      <td>-0.027050</td>\n",
       "      <td>media ctr</td>\n",
       "      <td>0</td>\n",
       "      <td>media ctr_0_Media ctr_0.0</td>\n",
       "      <td>media ctr_Media ctr_0.0__0</td>\n",
       "      <td>media ctr__0__Media ctr_0.0</td>\n",
       "      <td>media ctr__0__Media ctr__0.0</td>\n",
       "    </tr>\n",
       "    <tr>\n",
       "      <th>597900</th>\n",
       "      <td>SH-SY5Y</td>\n",
       "      <td>O23</td>\n",
       "      <td>3555</td>\n",
       "      <td>6</td>\n",
       "      <td>Media ctr</td>\n",
       "      <td>0.0</td>\n",
       "      <td>None</td>\n",
       "      <td>media ctr</td>\n",
       "      <td>0.0</td>\n",
       "      <td>None</td>\n",
       "      <td>...</td>\n",
       "      <td>0.308702</td>\n",
       "      <td>0.309290</td>\n",
       "      <td>0.311365</td>\n",
       "      <td>0.309627</td>\n",
       "      <td>media ctr</td>\n",
       "      <td>0</td>\n",
       "      <td>media ctr_0_Media ctr_0.0</td>\n",
       "      <td>media ctr_Media ctr_0.0__0</td>\n",
       "      <td>media ctr__0__Media ctr_0.0</td>\n",
       "      <td>media ctr__0__Media ctr__0.0</td>\n",
       "    </tr>\n",
       "    <tr>\n",
       "      <th>597901</th>\n",
       "      <td>SH-SY5Y</td>\n",
       "      <td>O23</td>\n",
       "      <td>3555</td>\n",
       "      <td>6</td>\n",
       "      <td>Media ctr</td>\n",
       "      <td>0.0</td>\n",
       "      <td>None</td>\n",
       "      <td>media ctr</td>\n",
       "      <td>0.0</td>\n",
       "      <td>None</td>\n",
       "      <td>...</td>\n",
       "      <td>-0.013247</td>\n",
       "      <td>-0.016873</td>\n",
       "      <td>-0.014697</td>\n",
       "      <td>-0.012389</td>\n",
       "      <td>media ctr</td>\n",
       "      <td>0</td>\n",
       "      <td>media ctr_0_Media ctr_0.0</td>\n",
       "      <td>media ctr_Media ctr_0.0__0</td>\n",
       "      <td>media ctr__0__Media ctr_0.0</td>\n",
       "      <td>media ctr__0__Media ctr__0.0</td>\n",
       "    </tr>\n",
       "  </tbody>\n",
       "</table>\n",
       "<p>597902 rows × 2872 columns</p>\n",
       "</div>"
      ],
      "text/plain": [
       "       Metadata_cell_type Metadata_Well  Metadata_number_of_singlecells   \n",
       "0                 SH-SY5Y           B13                            3765  \\\n",
       "1                 SH-SY5Y           B13                            3765   \n",
       "2                 SH-SY5Y           B13                            3765   \n",
       "3                 SH-SY5Y           B13                            3765   \n",
       "4                 SH-SY5Y           B13                            3765   \n",
       "...                   ...           ...                             ...   \n",
       "597897            SH-SY5Y           O23                            3555   \n",
       "597898            SH-SY5Y           O23                            3555   \n",
       "597899            SH-SY5Y           O23                            3555   \n",
       "597900            SH-SY5Y           O23                            3555   \n",
       "597901            SH-SY5Y           O23                            3555   \n",
       "\n",
       "        Metadata_incubation inducer (h) Metadata_inhibitor   \n",
       "0                                     6          Media ctr  \\\n",
       "1                                     6          Media ctr   \n",
       "2                                     6          Media ctr   \n",
       "3                                     6          Media ctr   \n",
       "4                                     6          Media ctr   \n",
       "...                                 ...                ...   \n",
       "597897                                6          Media ctr   \n",
       "597898                                6          Media ctr   \n",
       "597899                                6          Media ctr   \n",
       "597900                                6          Media ctr   \n",
       "597901                                6          Media ctr   \n",
       "\n",
       "        Metadata_inhibitor_concentration   \n",
       "0                                    0.0  \\\n",
       "1                                    0.0   \n",
       "2                                    0.0   \n",
       "3                                    0.0   \n",
       "4                                    0.0   \n",
       "...                                  ...   \n",
       "597897                               0.0   \n",
       "597898                               0.0   \n",
       "597899                               0.0   \n",
       "597900                               0.0   \n",
       "597901                               0.0   \n",
       "\n",
       "       Metadata_inhibitor_concentration_unit Metadata_inducer1   \n",
       "0                                       None         media ctr  \\\n",
       "1                                       None         media ctr   \n",
       "2                                       None         media ctr   \n",
       "3                                       None         media ctr   \n",
       "4                                       None         media ctr   \n",
       "...                                      ...               ...   \n",
       "597897                                  None         media ctr   \n",
       "597898                                  None         media ctr   \n",
       "597899                                  None         media ctr   \n",
       "597900                                  None         media ctr   \n",
       "597901                                  None         media ctr   \n",
       "\n",
       "        Metadata_inducer1_concentration Metadata_inducer1_concentration_unit   \n",
       "0                                   0.0                                 None  \\\n",
       "1                                   0.0                                 None   \n",
       "2                                   0.0                                 None   \n",
       "3                                   0.0                                 None   \n",
       "4                                   0.0                                 None   \n",
       "...                                 ...                                  ...   \n",
       "597897                              0.0                                 None   \n",
       "597898                              0.0                                 None   \n",
       "597899                              0.0                                 None   \n",
       "597900                              0.0                                 None   \n",
       "597901                              0.0                                 None   \n",
       "\n",
       "        ... Nuclei_Texture_Variance_CorrPM_3_00_256   \n",
       "0       ...                                0.099225  \\\n",
       "1       ...                                0.020683   \n",
       "2       ...                                0.027519   \n",
       "3       ...                               -0.002945   \n",
       "4       ...                                0.016846   \n",
       "...     ...                                     ...   \n",
       "597897  ...                               -0.024370   \n",
       "597898  ...                               -0.049855   \n",
       "597899  ...                               -0.027676   \n",
       "597900  ...                                0.308702   \n",
       "597901  ...                               -0.013247   \n",
       "\n",
       "        Nuclei_Texture_Variance_CorrPM_3_01_256   \n",
       "0                                      0.096054  \\\n",
       "1                                      0.016122   \n",
       "2                                      0.045982   \n",
       "3                                      0.000293   \n",
       "4                                      0.006499   \n",
       "...                                         ...   \n",
       "597897                                -0.033577   \n",
       "597898                                -0.048752   \n",
       "597899                                -0.024066   \n",
       "597900                                 0.309290   \n",
       "597901                                -0.016873   \n",
       "\n",
       "       Nuclei_Texture_Variance_CorrPM_3_02_256   \n",
       "0                                     0.110432  \\\n",
       "1                                     0.012990   \n",
       "2                                     0.037653   \n",
       "3                                     0.008048   \n",
       "4                                     0.014114   \n",
       "...                                        ...   \n",
       "597897                               -0.033811   \n",
       "597898                               -0.050176   \n",
       "597899                               -0.026279   \n",
       "597900                                0.311365   \n",
       "597901                               -0.014697   \n",
       "\n",
       "        Nuclei_Texture_Variance_CorrPM_3_03_256 Metadata_Treatment   \n",
       "0                                      0.107764          media ctr  \\\n",
       "1                                      0.013631          media ctr   \n",
       "2                                      0.017281          media ctr   \n",
       "3                                     -0.002151          media ctr   \n",
       "4                                      0.026206          media ctr   \n",
       "...                                         ...                ...   \n",
       "597897                                -0.028148          media ctr   \n",
       "597898                                -0.049417          media ctr   \n",
       "597899                                -0.027050          media ctr   \n",
       "597900                                 0.309627          media ctr   \n",
       "597901                                -0.012389          media ctr   \n",
       "\n",
       "        Metadata_Dose  oneb_Metadata_Treatment_Dose_Inhibitor_Dose   \n",
       "0                   0                    media ctr_0_Media ctr_0.0  \\\n",
       "1                   0                    media ctr_0_Media ctr_0.0   \n",
       "2                   0                    media ctr_0_Media ctr_0.0   \n",
       "3                   0                    media ctr_0_Media ctr_0.0   \n",
       "4                   0                    media ctr_0_Media ctr_0.0   \n",
       "...               ...                                          ...   \n",
       "597897              0                    media ctr_0_Media ctr_0.0   \n",
       "597898              0                    media ctr_0_Media ctr_0.0   \n",
       "597899              0                    media ctr_0_Media ctr_0.0   \n",
       "597900              0                    media ctr_0_Media ctr_0.0   \n",
       "597901              0                    media ctr_0_Media ctr_0.0   \n",
       "\n",
       "        twob_Metadata_Treatment_Dose_Inhibitor_Dose   \n",
       "0                        media ctr_Media ctr_0.0__0  \\\n",
       "1                        media ctr_Media ctr_0.0__0   \n",
       "2                        media ctr_Media ctr_0.0__0   \n",
       "3                        media ctr_Media ctr_0.0__0   \n",
       "4                        media ctr_Media ctr_0.0__0   \n",
       "...                                             ...   \n",
       "597897                   media ctr_Media ctr_0.0__0   \n",
       "597898                   media ctr_Media ctr_0.0__0   \n",
       "597899                   media ctr_Media ctr_0.0__0   \n",
       "597900                   media ctr_Media ctr_0.0__0   \n",
       "597901                   media ctr_Media ctr_0.0__0   \n",
       "\n",
       "        threeb_Metadata_Treatment_Dose_Inhibitor_Dose   \n",
       "0                         media ctr__0__Media ctr_0.0  \\\n",
       "1                         media ctr__0__Media ctr_0.0   \n",
       "2                         media ctr__0__Media ctr_0.0   \n",
       "3                         media ctr__0__Media ctr_0.0   \n",
       "4                         media ctr__0__Media ctr_0.0   \n",
       "...                                               ...   \n",
       "597897                    media ctr__0__Media ctr_0.0   \n",
       "597898                    media ctr__0__Media ctr_0.0   \n",
       "597899                    media ctr__0__Media ctr_0.0   \n",
       "597900                    media ctr__0__Media ctr_0.0   \n",
       "597901                    media ctr__0__Media ctr_0.0   \n",
       "\n",
       "        fourb_Metadata_Treatment_Dose_Inhibitor_Dose  \n",
       "0                       media ctr__0__Media ctr__0.0  \n",
       "1                       media ctr__0__Media ctr__0.0  \n",
       "2                       media ctr__0__Media ctr__0.0  \n",
       "3                       media ctr__0__Media ctr__0.0  \n",
       "4                       media ctr__0__Media ctr__0.0  \n",
       "...                                              ...  \n",
       "597897                  media ctr__0__Media ctr__0.0  \n",
       "597898                  media ctr__0__Media ctr__0.0  \n",
       "597899                  media ctr__0__Media ctr__0.0  \n",
       "597900                  media ctr__0__Media ctr__0.0  \n",
       "597901                  media ctr__0__Media ctr__0.0  \n",
       "\n",
       "[597902 rows x 2872 columns]"
      ]
     },
     "execution_count": 4,
     "metadata": {},
     "output_type": "execute_result"
    }
   ],
   "source": [
    "df"
   ]
  },
  {
   "cell_type": "code",
   "execution_count": 5,
   "id": "786e3a76",
   "metadata": {},
   "outputs": [
    {
     "name": "stdout",
     "output_type": "stream",
     "text": [
      "Data Subset Is Off\n"
     ]
    }
   ],
   "source": [
    "# Combine treatment with dosage to be able to discern treatments with different doses as a different condition\n",
    "# Combine treatment and dose\n",
    "# df = df.assign(\n",
    "# Metadata_Treatment_and_Dose=lambda x: df[\"Metadata_treatment\"]\n",
    "# + \"_\"\n",
    "# + df[\"Metadata_dose\"]\n",
    "# )\n",
    "\n",
    "# print(\"Unique Catagories are:\")\n",
    "# print(df[\"Metadata_Treatment_and_Dose\"].unique())\n",
    "\n",
    "# Generate df specific to analysis and model\n",
    "# df = df.query(\n",
    "# \"Metadata_Treatment_and_Dose == 'LPS_10µg/ml'| Metadata_Treatment_and_Dose == 'Media only_0' | Metadata_Treatment_and_Dose == 'Disulfiram_2.5µM'\"\n",
    "# )\n",
    "# for binary classification testing\n",
    "# df = df.query(\n",
    "#     \"Metadata_Treatment_and_Dose == 'LPS_10µg/ml'| Metadata_Treatment_and_Dose == 'Media only_0'\"\n",
    "# )\n",
    "# print(\"Selected Catagories are:\")\n",
    "# print(df[\"Metadata_Treatment_and_Dose\"].unique())\n",
    "# Drop na and reindex accordingly\n",
    "# df = df.dropna()\n",
    "# df = df.reset_index(drop=True)\n",
    "\n",
    "# Check for Nans again\n",
    "# df_stats(df)\n",
    "\n",
    "# Understand categorical data such as treatment and dosing\n",
    "# df[[\"Metadata_Treatment_and_Dose\"]].drop_duplicates()\n",
    "\n",
    "if params.DATA_SUBSET_OPTION == \"True\":\n",
    "    df = df.sample(n=params.DATA_SUBSET_NUMBER)\n",
    "    print(\"Data Subset Is On\")\n",
    "    print(f\"Data is subset to {params.DATA_SUBSET_NUMBER}\")\n",
    "else:\n",
    "    print(\"Data Subset Is Off\")\n",
    "\n",
    "# Code snippet for metadata extraction by Jenna Tomkinson\n",
    "df_metadata = list(df.columns[df.columns.str.contains(\"Metadata\")])\n",
    "\n",
    "# define which columns are data and which are descriptive\n",
    "df_descriptive = df[df_metadata]\n",
    "df_values = df.drop(columns=df_metadata)"
   ]
  },
  {
   "cell_type": "code",
   "execution_count": 6,
   "id": "595afb65",
   "metadata": {},
   "outputs": [],
   "source": [
    "# Creating label encoder\n",
    "le = preprocessing.LabelEncoder()\n",
    "# Converting strings into numbers\n",
    "df_values[\"oneb_Metadata_Treatment_Dose_Inhibitor_Dose\"] = le.fit_transform(\n",
    "    df_descriptive[\"oneb_Metadata_Treatment_Dose_Inhibitor_Dose\"]\n",
    ")\n",
    "# split into X and Y where Y are the predictive column and x are the observable data\n",
    "df_values_X = df_values.drop(\"oneb_Metadata_Treatment_Dose_Inhibitor_Dose\", axis=1)\n",
    "df_values_Y = df_values[\"oneb_Metadata_Treatment_Dose_Inhibitor_Dose\"]"
   ]
  },
  {
   "attachments": {},
   "cell_type": "markdown",
   "id": "633673ce",
   "metadata": {},
   "source": [
    "##### Regression Model Data Wrangling and Set Up\n",
    "comment out if not using regression"
   ]
  },
  {
   "cell_type": "code",
   "execution_count": 7,
   "id": "e2df24ec",
   "metadata": {},
   "outputs": [],
   "source": [
    "# if params.DATA_SUBSET_OPTION == 'True':\n",
    "#     df = df.sample(n=params.DATA_SUBSET_NUMBER)\n",
    "#     print(\"yes\")\n",
    "# else:\n",
    "#     pass\n",
    "# df_stats(df)\n",
    "# # Drop na and reindex accordingly\n",
    "# df = df.dropna()\n",
    "# df = df.reset_index(drop=True)\n",
    "\n",
    "# # Check for Nans again\n",
    "# df_stats(df)\n",
    "# # Code snippet for metadata extraction by Jenna Tomkinson\n",
    "# df_metadata = list(df.columns[df.columns.str.startswith(\"Metadata\")])\n",
    "# # define which columns are data and which are descriptive\n",
    "# df_descriptive = df[df_metadata]\n",
    "# df_values = df.drop(columns=df_metadata)\n",
    "# df_values_Y = df_values['Nuclei_Texture_InverseDifferenceMoment_CorrER_3_01_256']\n",
    "# df_values_X = df_values.drop('Nuclei_Texture_InverseDifferenceMoment_CorrER_3_01_256', axis=1)"
   ]
  },
  {
   "attachments": {},
   "cell_type": "markdown",
   "id": "260a048e",
   "metadata": {},
   "source": [
    "#### Split Data - All Models can proceed through this point"
   ]
  },
  {
   "cell_type": "code",
   "execution_count": 8,
   "id": "f4feb87f",
   "metadata": {},
   "outputs": [],
   "source": [
    "X_train, X_test, X_val, Y_train, Y_test, Y_val = data_split(\n",
    "    X_vals=df_values_X,\n",
    "    y_vals=df_values_Y,\n",
    "    train_proportion=0.8,\n",
    "    val_proportion=0.1,\n",
    "    test_proportion=0.1,\n",
    "    seed=1,\n",
    "    params=params,\n",
    ")"
   ]
  },
  {
   "cell_type": "code",
   "execution_count": 9,
   "id": "36894826",
   "metadata": {},
   "outputs": [],
   "source": [
    "# produce data objects for train, val and test datasets\n",
    "train_data = Dataset_formatter(\n",
    "    torch.FloatTensor(X_train.values), torch.FloatTensor(Y_train.values)\n",
    ")\n",
    "val_data = Dataset_formatter(\n",
    "    torch.FloatTensor(X_val.values), torch.FloatTensor(Y_val.values)\n",
    ")\n",
    "test_data = Dataset_formatter(\n",
    "    torch.FloatTensor(X_test.values), torch.FloatTensor(Y_test.values)\n",
    ")"
   ]
  },
  {
   "cell_type": "code",
   "execution_count": 10,
   "id": "4382d712",
   "metadata": {},
   "outputs": [
    {
     "name": "stdout",
     "output_type": "stream",
     "text": [
      "Number of in features:  2847\n",
      "Number of out features:  36\n",
      "Multi_Class\n"
     ]
    }
   ],
   "source": [
    "params.IN_FEATURES = X_train.shape[1]\n",
    "print(\"Number of in features: \", params.IN_FEATURES)\n",
    "if params.MODEL_TYPE == \"Regression\":\n",
    "    params.OUT_FEATURES = 1\n",
    "else:\n",
    "    params.OUT_FEATURES = len(\n",
    "        df_values[\"oneb_Metadata_Treatment_Dose_Inhibitor_Dose\"].unique()\n",
    "    )\n",
    "\n",
    "print(\"Number of out features: \", params.OUT_FEATURES)\n",
    "\n",
    "if params.OUT_FEATURES > 2:\n",
    "    params.MODEL_TYPE = \"Multi_Class\"\n",
    "elif params.OUT_FEATURES == 2:\n",
    "    params.OUT_FEATURES = params.OUT_FEATURES - 1\n",
    "    params.MODEL_TYPE = \"Binary_Classification\"\n",
    "elif params.OUT_FEATURES == 1:\n",
    "    params.MODEL_TYPE = \"Regression\"\n",
    "else:\n",
    "    pass\n",
    "print(params.MODEL_TYPE)"
   ]
  },
  {
   "cell_type": "code",
   "execution_count": 11,
   "id": "77effa5c",
   "metadata": {},
   "outputs": [],
   "source": [
    "# convert data class into a dataloader to be compatible with pytorch\n",
    "train_loader = torch.utils.data.DataLoader(\n",
    "    dataset=train_data, batch_size=params.BATCH_SIZE\n",
    ")\n",
    "valid_loader = torch.utils.data.DataLoader(\n",
    "    dataset=val_data, batch_size=params.BATCH_SIZE\n",
    ")\n",
    "test_loader = torch.utils.data.DataLoader(dataset=test_data, batch_size=1)"
   ]
  },
  {
   "cell_type": "code",
   "execution_count": 12,
   "id": "a969042f",
   "metadata": {},
   "outputs": [
    {
     "name": "stderr",
     "output_type": "stream",
     "text": [
      "\u001b[32m[I 2023-04-26 22:55:12,561]\u001b[0m A new study created in memory with name: no-name-51fcb8df-3fb3-4c83-a516-e07cf9bbffe6\u001b[0m\n",
      "\u001b[32m[I 2023-04-26 23:08:02,511]\u001b[0m Trial 0 finished with value: 3.5589243032932285 and parameters: {'n_layers': 3, 'n_units_l0': 10, 'dropout_0': 0.3569860241945474, 'n_units_l1': 8, 'dropout_1': 0.24967619269256724, 'n_units_l2': 4, 'dropout_2': 0.10149477439189934, 'learning_rate': 0.06563840870113956, 'optimizer': 'Adam'}. Best is trial 0 with value: 3.5589243032932285.\u001b[0m\n",
      "\u001b[32m[I 2023-04-26 23:20:37,310]\u001b[0m Trial 1 finished with value: 3.1059856180349987 and parameters: {'n_layers': 1, 'n_units_l0': 7, 'dropout_0': 0.16506260295371766, 'learning_rate': 0.07866286682585126, 'optimizer': 'Adam'}. Best is trial 1 with value: 3.1059856180349987.\u001b[0m\n",
      "\u001b[32m[I 2023-04-26 23:33:17,975]\u001b[0m Trial 2 finished with value: 3.061064742008845 and parameters: {'n_layers': 3, 'n_units_l0': 6, 'dropout_0': 0.3741271524406602, 'n_units_l1': 3, 'dropout_1': 0.2930440928763406, 'n_units_l2': 6, 'dropout_2': 0.3473706711928449, 'learning_rate': 0.08357336851565259, 'optimizer': 'SGD'}. Best is trial 2 with value: 3.061064742008845.\u001b[0m\n",
      "\u001b[32m[I 2023-04-26 23:45:49,874]\u001b[0m Trial 3 finished with value: 2.5984437681039174 and parameters: {'n_layers': 1, 'n_units_l0': 4, 'dropout_0': 0.13508105768242348, 'learning_rate': 0.0180185660046529, 'optimizer': 'SGD'}. Best is trial 3 with value: 2.5984437681039174.\u001b[0m\n",
      "\u001b[32m[I 2023-04-26 23:58:23,793]\u001b[0m Trial 4 finished with value: 2.8103056994279227 and parameters: {'n_layers': 1, 'n_units_l0': 2, 'dropout_0': 0.14768887908817985, 'learning_rate': 0.005377565015288503, 'optimizer': 'Adam'}. Best is trial 3 with value: 2.5984437681039174.\u001b[0m\n",
      "\u001b[32m[I 2023-04-27 00:11:01,799]\u001b[0m Trial 5 finished with value: 2.541972820838293 and parameters: {'n_layers': 2, 'n_units_l0': 5, 'dropout_0': 0.2502489684679986, 'n_units_l1': 5, 'dropout_1': 0.16379429699150255, 'learning_rate': 0.0034022218214811153, 'optimizer': 'Adam'}. Best is trial 5 with value: 2.541972820838293.\u001b[0m\n",
      "\u001b[32m[I 2023-04-27 00:11:17,062]\u001b[0m Trial 6 pruned. \u001b[0m\n",
      "\u001b[32m[I 2023-04-27 00:11:32,389]\u001b[0m Trial 7 pruned. \u001b[0m\n",
      "\u001b[32m[I 2023-04-27 00:24:15,620]\u001b[0m Trial 8 finished with value: 2.680382342576981 and parameters: {'n_layers': 2, 'n_units_l0': 9, 'dropout_0': 0.3860553657442325, 'n_units_l1': 4, 'dropout_1': 0.34910802498881194, 'learning_rate': 0.003273859235065828, 'optimizer': 'Adam'}. Best is trial 5 with value: 2.541972820838293.\u001b[0m\n",
      "\u001b[32m[I 2023-04-27 00:24:30,884]\u001b[0m Trial 9 pruned. \u001b[0m\n"
     ]
    },
    {
     "name": "stdout",
     "output_type": "stream",
     "text": [
      "Validation Accuracy: 24.21595223361375\n",
      "Validation Loss: 2.5463908183574673\n",
      "Training Accuracy: 16.661707643418634\n",
      "Training Loss: 2.82556240931931\n"
     ]
    },
    {
     "data": {
      "text/plain": [
       "(24.21595223361375, 2.5463908183574673, 16.661707643418634, 2.82556240931931)"
      ]
     },
     "execution_count": 12,
     "metadata": {},
     "output_type": "execute_result"
    }
   ],
   "source": [
    "# no accuracy function must be loss for regression\n",
    "if params.MODEL_TYPE == \"Regression\":\n",
    "    params.METRIC = \"loss\"\n",
    "    params.DIRECTION = \"minimize\"\n",
    "else:\n",
    "    pass\n",
    "\n",
    "\n",
    "# wrap the objective function inside of a lambda function to pass args...\n",
    "objective_lambda_func = lambda trial: objective_model_optimizer(\n",
    "    train_loader,\n",
    "    valid_loader,\n",
    "    trial=trial,\n",
    "    params=params,\n",
    "    metric=params.METRIC,\n",
    "    return_info=False,\n",
    ")\n",
    "\n",
    "\n",
    "# Study is the object for model optimization\n",
    "study = optuna.create_study(direction=f\"{params.DIRECTION}\")\n",
    "# Here I apply the optimize function of the study to the objective function\n",
    "# This optimizes each parameter specified to be optimized from the defined search space\n",
    "study.optimize(objective_lambda_func, n_trials=params.N_TRIALS)\n",
    "# Prints out the best trial's optimized parameters\n",
    "objective_model_optimizer(\n",
    "    train_loader,\n",
    "    valid_loader,\n",
    "    trial=study.best_trial,\n",
    "    params=params,\n",
    "    metric=params.METRIC,\n",
    "    return_info=True,\n",
    ")"
   ]
  },
  {
   "cell_type": "code",
   "execution_count": 13,
   "id": "b2620589",
   "metadata": {},
   "outputs": [
    {
     "data": {
      "application/vnd.plotly.v1+json": {
       "config": {
        "plotlyServerURL": "https://plot.ly"
       },
       "data": [
        {
         "mode": "markers",
         "name": "Objective Value",
         "type": "scatter",
         "x": [
          0,
          1,
          2,
          3,
          4,
          5,
          8
         ],
         "y": [
          3.5589243032932285,
          3.1059856180349987,
          3.061064742008845,
          2.5984437681039174,
          2.8103056994279227,
          2.541972820838293,
          2.680382342576981
         ]
        },
        {
         "name": "Best Value",
         "type": "scatter",
         "x": [
          0,
          1,
          2,
          3,
          4,
          5,
          8
         ],
         "y": [
          3.5589243032932285,
          3.1059856180349987,
          3.061064742008845,
          2.5984437681039174,
          2.5984437681039174,
          2.541972820838293,
          2.541972820838293
         ]
        }
       ],
       "layout": {
        "template": {
         "data": {
          "bar": [
           {
            "error_x": {
             "color": "#2a3f5f"
            },
            "error_y": {
             "color": "#2a3f5f"
            },
            "marker": {
             "line": {
              "color": "#E5ECF6",
              "width": 0.5
             },
             "pattern": {
              "fillmode": "overlay",
              "size": 10,
              "solidity": 0.2
             }
            },
            "type": "bar"
           }
          ],
          "barpolar": [
           {
            "marker": {
             "line": {
              "color": "#E5ECF6",
              "width": 0.5
             },
             "pattern": {
              "fillmode": "overlay",
              "size": 10,
              "solidity": 0.2
             }
            },
            "type": "barpolar"
           }
          ],
          "carpet": [
           {
            "aaxis": {
             "endlinecolor": "#2a3f5f",
             "gridcolor": "white",
             "linecolor": "white",
             "minorgridcolor": "white",
             "startlinecolor": "#2a3f5f"
            },
            "baxis": {
             "endlinecolor": "#2a3f5f",
             "gridcolor": "white",
             "linecolor": "white",
             "minorgridcolor": "white",
             "startlinecolor": "#2a3f5f"
            },
            "type": "carpet"
           }
          ],
          "choropleth": [
           {
            "colorbar": {
             "outlinewidth": 0,
             "ticks": ""
            },
            "type": "choropleth"
           }
          ],
          "contour": [
           {
            "colorbar": {
             "outlinewidth": 0,
             "ticks": ""
            },
            "colorscale": [
             [
              0,
              "#0d0887"
             ],
             [
              0.1111111111111111,
              "#46039f"
             ],
             [
              0.2222222222222222,
              "#7201a8"
             ],
             [
              0.3333333333333333,
              "#9c179e"
             ],
             [
              0.4444444444444444,
              "#bd3786"
             ],
             [
              0.5555555555555556,
              "#d8576b"
             ],
             [
              0.6666666666666666,
              "#ed7953"
             ],
             [
              0.7777777777777778,
              "#fb9f3a"
             ],
             [
              0.8888888888888888,
              "#fdca26"
             ],
             [
              1,
              "#f0f921"
             ]
            ],
            "type": "contour"
           }
          ],
          "contourcarpet": [
           {
            "colorbar": {
             "outlinewidth": 0,
             "ticks": ""
            },
            "type": "contourcarpet"
           }
          ],
          "heatmap": [
           {
            "colorbar": {
             "outlinewidth": 0,
             "ticks": ""
            },
            "colorscale": [
             [
              0,
              "#0d0887"
             ],
             [
              0.1111111111111111,
              "#46039f"
             ],
             [
              0.2222222222222222,
              "#7201a8"
             ],
             [
              0.3333333333333333,
              "#9c179e"
             ],
             [
              0.4444444444444444,
              "#bd3786"
             ],
             [
              0.5555555555555556,
              "#d8576b"
             ],
             [
              0.6666666666666666,
              "#ed7953"
             ],
             [
              0.7777777777777778,
              "#fb9f3a"
             ],
             [
              0.8888888888888888,
              "#fdca26"
             ],
             [
              1,
              "#f0f921"
             ]
            ],
            "type": "heatmap"
           }
          ],
          "heatmapgl": [
           {
            "colorbar": {
             "outlinewidth": 0,
             "ticks": ""
            },
            "colorscale": [
             [
              0,
              "#0d0887"
             ],
             [
              0.1111111111111111,
              "#46039f"
             ],
             [
              0.2222222222222222,
              "#7201a8"
             ],
             [
              0.3333333333333333,
              "#9c179e"
             ],
             [
              0.4444444444444444,
              "#bd3786"
             ],
             [
              0.5555555555555556,
              "#d8576b"
             ],
             [
              0.6666666666666666,
              "#ed7953"
             ],
             [
              0.7777777777777778,
              "#fb9f3a"
             ],
             [
              0.8888888888888888,
              "#fdca26"
             ],
             [
              1,
              "#f0f921"
             ]
            ],
            "type": "heatmapgl"
           }
          ],
          "histogram": [
           {
            "marker": {
             "pattern": {
              "fillmode": "overlay",
              "size": 10,
              "solidity": 0.2
             }
            },
            "type": "histogram"
           }
          ],
          "histogram2d": [
           {
            "colorbar": {
             "outlinewidth": 0,
             "ticks": ""
            },
            "colorscale": [
             [
              0,
              "#0d0887"
             ],
             [
              0.1111111111111111,
              "#46039f"
             ],
             [
              0.2222222222222222,
              "#7201a8"
             ],
             [
              0.3333333333333333,
              "#9c179e"
             ],
             [
              0.4444444444444444,
              "#bd3786"
             ],
             [
              0.5555555555555556,
              "#d8576b"
             ],
             [
              0.6666666666666666,
              "#ed7953"
             ],
             [
              0.7777777777777778,
              "#fb9f3a"
             ],
             [
              0.8888888888888888,
              "#fdca26"
             ],
             [
              1,
              "#f0f921"
             ]
            ],
            "type": "histogram2d"
           }
          ],
          "histogram2dcontour": [
           {
            "colorbar": {
             "outlinewidth": 0,
             "ticks": ""
            },
            "colorscale": [
             [
              0,
              "#0d0887"
             ],
             [
              0.1111111111111111,
              "#46039f"
             ],
             [
              0.2222222222222222,
              "#7201a8"
             ],
             [
              0.3333333333333333,
              "#9c179e"
             ],
             [
              0.4444444444444444,
              "#bd3786"
             ],
             [
              0.5555555555555556,
              "#d8576b"
             ],
             [
              0.6666666666666666,
              "#ed7953"
             ],
             [
              0.7777777777777778,
              "#fb9f3a"
             ],
             [
              0.8888888888888888,
              "#fdca26"
             ],
             [
              1,
              "#f0f921"
             ]
            ],
            "type": "histogram2dcontour"
           }
          ],
          "mesh3d": [
           {
            "colorbar": {
             "outlinewidth": 0,
             "ticks": ""
            },
            "type": "mesh3d"
           }
          ],
          "parcoords": [
           {
            "line": {
             "colorbar": {
              "outlinewidth": 0,
              "ticks": ""
             }
            },
            "type": "parcoords"
           }
          ],
          "pie": [
           {
            "automargin": true,
            "type": "pie"
           }
          ],
          "scatter": [
           {
            "fillpattern": {
             "fillmode": "overlay",
             "size": 10,
             "solidity": 0.2
            },
            "type": "scatter"
           }
          ],
          "scatter3d": [
           {
            "line": {
             "colorbar": {
              "outlinewidth": 0,
              "ticks": ""
             }
            },
            "marker": {
             "colorbar": {
              "outlinewidth": 0,
              "ticks": ""
             }
            },
            "type": "scatter3d"
           }
          ],
          "scattercarpet": [
           {
            "marker": {
             "colorbar": {
              "outlinewidth": 0,
              "ticks": ""
             }
            },
            "type": "scattercarpet"
           }
          ],
          "scattergeo": [
           {
            "marker": {
             "colorbar": {
              "outlinewidth": 0,
              "ticks": ""
             }
            },
            "type": "scattergeo"
           }
          ],
          "scattergl": [
           {
            "marker": {
             "colorbar": {
              "outlinewidth": 0,
              "ticks": ""
             }
            },
            "type": "scattergl"
           }
          ],
          "scattermapbox": [
           {
            "marker": {
             "colorbar": {
              "outlinewidth": 0,
              "ticks": ""
             }
            },
            "type": "scattermapbox"
           }
          ],
          "scatterpolar": [
           {
            "marker": {
             "colorbar": {
              "outlinewidth": 0,
              "ticks": ""
             }
            },
            "type": "scatterpolar"
           }
          ],
          "scatterpolargl": [
           {
            "marker": {
             "colorbar": {
              "outlinewidth": 0,
              "ticks": ""
             }
            },
            "type": "scatterpolargl"
           }
          ],
          "scatterternary": [
           {
            "marker": {
             "colorbar": {
              "outlinewidth": 0,
              "ticks": ""
             }
            },
            "type": "scatterternary"
           }
          ],
          "surface": [
           {
            "colorbar": {
             "outlinewidth": 0,
             "ticks": ""
            },
            "colorscale": [
             [
              0,
              "#0d0887"
             ],
             [
              0.1111111111111111,
              "#46039f"
             ],
             [
              0.2222222222222222,
              "#7201a8"
             ],
             [
              0.3333333333333333,
              "#9c179e"
             ],
             [
              0.4444444444444444,
              "#bd3786"
             ],
             [
              0.5555555555555556,
              "#d8576b"
             ],
             [
              0.6666666666666666,
              "#ed7953"
             ],
             [
              0.7777777777777778,
              "#fb9f3a"
             ],
             [
              0.8888888888888888,
              "#fdca26"
             ],
             [
              1,
              "#f0f921"
             ]
            ],
            "type": "surface"
           }
          ],
          "table": [
           {
            "cells": {
             "fill": {
              "color": "#EBF0F8"
             },
             "line": {
              "color": "white"
             }
            },
            "header": {
             "fill": {
              "color": "#C8D4E3"
             },
             "line": {
              "color": "white"
             }
            },
            "type": "table"
           }
          ]
         },
         "layout": {
          "annotationdefaults": {
           "arrowcolor": "#2a3f5f",
           "arrowhead": 0,
           "arrowwidth": 1
          },
          "autotypenumbers": "strict",
          "coloraxis": {
           "colorbar": {
            "outlinewidth": 0,
            "ticks": ""
           }
          },
          "colorscale": {
           "diverging": [
            [
             0,
             "#8e0152"
            ],
            [
             0.1,
             "#c51b7d"
            ],
            [
             0.2,
             "#de77ae"
            ],
            [
             0.3,
             "#f1b6da"
            ],
            [
             0.4,
             "#fde0ef"
            ],
            [
             0.5,
             "#f7f7f7"
            ],
            [
             0.6,
             "#e6f5d0"
            ],
            [
             0.7,
             "#b8e186"
            ],
            [
             0.8,
             "#7fbc41"
            ],
            [
             0.9,
             "#4d9221"
            ],
            [
             1,
             "#276419"
            ]
           ],
           "sequential": [
            [
             0,
             "#0d0887"
            ],
            [
             0.1111111111111111,
             "#46039f"
            ],
            [
             0.2222222222222222,
             "#7201a8"
            ],
            [
             0.3333333333333333,
             "#9c179e"
            ],
            [
             0.4444444444444444,
             "#bd3786"
            ],
            [
             0.5555555555555556,
             "#d8576b"
            ],
            [
             0.6666666666666666,
             "#ed7953"
            ],
            [
             0.7777777777777778,
             "#fb9f3a"
            ],
            [
             0.8888888888888888,
             "#fdca26"
            ],
            [
             1,
             "#f0f921"
            ]
           ],
           "sequentialminus": [
            [
             0,
             "#0d0887"
            ],
            [
             0.1111111111111111,
             "#46039f"
            ],
            [
             0.2222222222222222,
             "#7201a8"
            ],
            [
             0.3333333333333333,
             "#9c179e"
            ],
            [
             0.4444444444444444,
             "#bd3786"
            ],
            [
             0.5555555555555556,
             "#d8576b"
            ],
            [
             0.6666666666666666,
             "#ed7953"
            ],
            [
             0.7777777777777778,
             "#fb9f3a"
            ],
            [
             0.8888888888888888,
             "#fdca26"
            ],
            [
             1,
             "#f0f921"
            ]
           ]
          },
          "colorway": [
           "#636efa",
           "#EF553B",
           "#00cc96",
           "#ab63fa",
           "#FFA15A",
           "#19d3f3",
           "#FF6692",
           "#B6E880",
           "#FF97FF",
           "#FECB52"
          ],
          "font": {
           "color": "#2a3f5f"
          },
          "geo": {
           "bgcolor": "white",
           "lakecolor": "white",
           "landcolor": "#E5ECF6",
           "showlakes": true,
           "showland": true,
           "subunitcolor": "white"
          },
          "hoverlabel": {
           "align": "left"
          },
          "hovermode": "closest",
          "mapbox": {
           "style": "light"
          },
          "paper_bgcolor": "white",
          "plot_bgcolor": "#E5ECF6",
          "polar": {
           "angularaxis": {
            "gridcolor": "white",
            "linecolor": "white",
            "ticks": ""
           },
           "bgcolor": "#E5ECF6",
           "radialaxis": {
            "gridcolor": "white",
            "linecolor": "white",
            "ticks": ""
           }
          },
          "scene": {
           "xaxis": {
            "backgroundcolor": "#E5ECF6",
            "gridcolor": "white",
            "gridwidth": 2,
            "linecolor": "white",
            "showbackground": true,
            "ticks": "",
            "zerolinecolor": "white"
           },
           "yaxis": {
            "backgroundcolor": "#E5ECF6",
            "gridcolor": "white",
            "gridwidth": 2,
            "linecolor": "white",
            "showbackground": true,
            "ticks": "",
            "zerolinecolor": "white"
           },
           "zaxis": {
            "backgroundcolor": "#E5ECF6",
            "gridcolor": "white",
            "gridwidth": 2,
            "linecolor": "white",
            "showbackground": true,
            "ticks": "",
            "zerolinecolor": "white"
           }
          },
          "shapedefaults": {
           "line": {
            "color": "#2a3f5f"
           }
          },
          "ternary": {
           "aaxis": {
            "gridcolor": "white",
            "linecolor": "white",
            "ticks": ""
           },
           "baxis": {
            "gridcolor": "white",
            "linecolor": "white",
            "ticks": ""
           },
           "bgcolor": "#E5ECF6",
           "caxis": {
            "gridcolor": "white",
            "linecolor": "white",
            "ticks": ""
           }
          },
          "title": {
           "x": 0.05
          },
          "xaxis": {
           "automargin": true,
           "gridcolor": "white",
           "linecolor": "white",
           "ticks": "",
           "title": {
            "standoff": 15
           },
           "zerolinecolor": "white",
           "zerolinewidth": 2
          },
          "yaxis": {
           "automargin": true,
           "gridcolor": "white",
           "linecolor": "white",
           "ticks": "",
           "title": {
            "standoff": 15
           },
           "zerolinecolor": "white",
           "zerolinewidth": 2
          }
         }
        },
        "title": {
         "text": "Optimization History Plot"
        },
        "xaxis": {
         "title": {
          "text": "Trial"
         }
        },
        "yaxis": {
         "title": {
          "text": "Objective Value"
         }
        }
       }
      }
     },
     "metadata": {},
     "output_type": "display_data"
    }
   ],
   "source": [
    "fig = optuna.visualization.plot_optimization_history(study)\n",
    "graph_path = f\"./figures/{params.MODEL_TYPE}/plot_optimization_history_graph\"\n",
    "fig.write_html(Path(f\"{graph_path}.html\"))\n",
    "fig.write_image(Path(f\"{graph_path}.png\"))\n",
    "fig.show()"
   ]
  },
  {
   "cell_type": "code",
   "execution_count": 14,
   "id": "92103de1",
   "metadata": {},
   "outputs": [
    {
     "data": {
      "application/vnd.plotly.v1+json": {
       "config": {
        "plotlyServerURL": "https://plot.ly"
       },
       "data": [
        {
         "marker": {
          "maxdisplayed": 10
         },
         "mode": "lines+markers",
         "name": "Trial0",
         "type": "scatter",
         "x": [
          0,
          1,
          2,
          3,
          4,
          5,
          6,
          7,
          8,
          9,
          10,
          11,
          12,
          13,
          14,
          15,
          16,
          17,
          18,
          19,
          20,
          21,
          22,
          23,
          24,
          25,
          26,
          27,
          28,
          29,
          30,
          31,
          32,
          33,
          34,
          35,
          36,
          37,
          38,
          39,
          40,
          41,
          42,
          43,
          44,
          45,
          46,
          47,
          48,
          49
         ],
         "y": [
          3.558904723326365,
          3.5589109659194946,
          3.558914479944441,
          3.5589166204134624,
          3.5589180866877235,
          3.5589191165235303,
          3.558919907183874,
          3.558920492231846,
          3.5589209896546823,
          3.558921364148458,
          3.5589217106501256,
          3.5589219828446708,
          3.5589222247783954,
          3.5589224233513788,
          3.558922586970859,
          3.55892273808519,
          3.5589228644090536,
          3.558922979566786,
          3.5589230788381476,
          3.5589231671889623,
          3.5589232598032265,
          3.558923341649951,
          3.5589234160340344,
          3.558923476934433,
          3.5589235418637593,
          3.5589236025626843,
          3.558923658618221,
          3.558923706838063,
          3.5589237513213323,
          3.5589237933688698,
          3.5589238321909344,
          3.55892386722068,
          3.558923904101054,
          3.5589239391626095,
          3.55892397188005,
          3.5589240009034118,
          3.5589240303984626,
          3.5589240594914076,
          3.5589240865829654,
          3.5589241114258767,
          3.558924135929201,
          3.558924159360311,
          3.5589241800382165,
          3.5589242004986974,
          3.558924220049824,
          3.558924239787504,
          3.5589242507379963,
          3.5589242688483664,
          3.5589242862195385,
          3.5589243032932285
         ]
        },
        {
         "marker": {
          "maxdisplayed": 10
         },
         "mode": "lines+markers",
         "name": "Trial1",
         "type": "scatter",
         "x": [
          0,
          1,
          2,
          3,
          4,
          5,
          6,
          7,
          8,
          9,
          10,
          11,
          12,
          13,
          14,
          15,
          16,
          17,
          18,
          19,
          20,
          21,
          22,
          23,
          24,
          25,
          26,
          27,
          28,
          29,
          30,
          31,
          32,
          33,
          34,
          35,
          36,
          37,
          38,
          39,
          40,
          41,
          42,
          43,
          44,
          45,
          46,
          47,
          48,
          49
         ],
         "y": [
          2.8810420393943788,
          2.8576897998650868,
          2.8388382024235193,
          2.8551424543062844,
          2.8653427775700884,
          2.8662666698296864,
          2.859941376958574,
          2.8563696846365927,
          2.8636229338469326,
          2.865018082062403,
          2.8634863275470153,
          2.8702604889869687,
          2.876280552912981,
          2.8734845856825513,
          2.880586200290256,
          2.886994488040606,
          2.892217864709742,
          2.9022273227020547,
          2.9152498540125396,
          2.9200233632326125,
          2.923418731538076,
          2.927145979801814,
          2.9341971974441967,
          2.941188817057345,
          2.947614468097687,
          2.9541546289737406,
          2.9630518234806296,
          2.966612770443871,
          2.972446664448442,
          2.97575289077229,
          2.982333282629649,
          2.9864864344398176,
          2.9911465950686518,
          2.9971651124019245,
          3.0042342692329767,
          3.0107972528095592,
          3.0170707763852294,
          3.022668437372174,
          3.0340406702114984,
          3.04116622676452,
          3.050498449123972,
          3.056545837814846,
          3.061597619315451,
          3.069349793141539,
          3.076595932995832,
          3.081218545678734,
          3.088521109151503,
          3.0945139076146813,
          3.0999006532487416,
          3.1059856180349987
         ]
        },
        {
         "marker": {
          "maxdisplayed": 10
         },
         "mode": "lines+markers",
         "name": "Trial2",
         "type": "scatter",
         "x": [
          0,
          1,
          2,
          3,
          4,
          5,
          6,
          7,
          8,
          9,
          10,
          11,
          12,
          13,
          14,
          15,
          16,
          17,
          18,
          19,
          20,
          21,
          22,
          23,
          24,
          25,
          26,
          27,
          28,
          29,
          30,
          31,
          32,
          33,
          34,
          35,
          36,
          37,
          38,
          39,
          40,
          41,
          42,
          43,
          44,
          45,
          46,
          47,
          48,
          49
         ],
         "y": [
          3.5355672319730123,
          3.4541463434696196,
          3.3803553369310166,
          3.3285865396261216,
          3.2883738223711654,
          3.257618397474289,
          3.2358594956852142,
          3.2175222381949427,
          3.2041998827898945,
          3.192076083024343,
          3.1801203904729904,
          3.1747487697336414,
          3.163506919909747,
          3.1555005062194104,
          3.146840697394478,
          3.138894415398439,
          3.1331091990657884,
          3.1285586332833324,
          3.12386834725999,
          3.128108542164167,
          3.1236390240608705,
          3.1190495787244856,
          3.1151374785796455,
          3.1111254317892922,
          3.107575017293294,
          3.104328780907851,
          3.1010050452785727,
          3.0978780208598997,
          3.095532295073586,
          3.0931408298015595,
          3.090815921239955,
          3.0884090144187213,
          3.086218301696007,
          3.084107200538411,
          3.0821874512944905,
          3.0804643332958226,
          3.0785706154934998,
          3.07703298351221,
          3.0753649859346903,
          3.073865285118421,
          3.0721431723455104,
          3.0715692233471645,
          3.069749972524569,
          3.0690254326119573,
          3.067303927474552,
          3.0658497106337896,
          3.0644543629166088,
          3.063140112741126,
          3.0620291752880124,
          3.061064742008845
         ]
        },
        {
         "marker": {
          "maxdisplayed": 10
         },
         "mode": "lines+markers",
         "name": "Trial3",
         "type": "scatter",
         "x": [
          0,
          1,
          2,
          3,
          4,
          5,
          6,
          7,
          8,
          9,
          10,
          11,
          12,
          13,
          14,
          15,
          16,
          17,
          18,
          19,
          20,
          21,
          22,
          23,
          24,
          25,
          26,
          27,
          28,
          29,
          30,
          31,
          32,
          33,
          34,
          35,
          36,
          37,
          38,
          39,
          40,
          41,
          42,
          43,
          44,
          45,
          46,
          47,
          48,
          49
         ],
         "y": [
          3.4214272220929463,
          3.3418444255987803,
          3.273085833920373,
          3.2109444777170815,
          3.15505983988444,
          3.1059262997574275,
          3.06348024663471,
          3.026708929737409,
          2.994533125559489,
          2.9660817631085714,
          2.9406251217379715,
          2.917640323109097,
          2.8966973775472393,
          2.8775274875618164,
          2.8598334868748982,
          2.843538133054972,
          2.8283512356234537,
          2.8142303453551403,
          2.8009345010707256,
          2.7885513760646186,
          2.7769533840436784,
          2.76602395790996,
          2.755703993638357,
          2.746012600759665,
          2.7367979062398273,
          2.7280325362315545,
          2.719697908266091,
          2.7117783522322063,
          2.7042353234071843,
          2.6970561418268417,
          2.690130373483063,
          2.683508047088981,
          2.677171132420049,
          2.6711106030380027,
          2.6652840718768895,
          2.659652479158508,
          2.654245818413056,
          2.6489863780506875,
          2.643976324134403,
          2.63915468732516,
          2.6344765871520934,
          2.629963610569636,
          2.6255699467289353,
          2.6213306006157038,
          2.6171806460839733,
          2.613250500654829,
          2.609357178549395,
          2.605606135063701,
          2.6019823495222596,
          2.5984437681039174
         ]
        },
        {
         "marker": {
          "maxdisplayed": 10
         },
         "mode": "lines+markers",
         "name": "Trial4",
         "type": "scatter",
         "x": [
          0,
          1,
          2,
          3,
          4,
          5,
          6,
          7,
          8,
          9,
          10,
          11,
          12,
          13,
          14,
          15,
          16,
          17,
          18,
          19,
          20,
          21,
          22,
          23,
          24,
          25,
          26,
          27,
          28,
          29,
          30,
          31,
          32,
          33,
          34,
          35,
          36,
          37,
          38,
          39,
          40,
          41,
          42,
          43,
          44,
          45,
          46,
          47,
          48,
          49
         ],
         "y": [
          3.0037171165148417,
          2.958927388985952,
          2.93317698902554,
          2.915322278936704,
          2.901756850083669,
          2.89142775800493,
          2.883724054836091,
          2.8770544116695724,
          2.871087787327943,
          2.8661244253317517,
          2.861579748355981,
          2.857986913455857,
          2.854594555573586,
          2.851529818205606,
          2.848863749768999,
          2.8465767107903956,
          2.8442895213762918,
          2.8422392337410534,
          2.840203467377445,
          2.838422008156776,
          2.83692458394974,
          2.83545614137794,
          2.833850075542063,
          2.832501848042011,
          2.8313824677467347,
          2.8301694952524628,
          2.8289850580839464,
          2.8276682865051996,
          2.8264950223352714,
          2.8253376783265005,
          2.8242670169440647,
          2.823257643481096,
          2.822338522443868,
          2.8214017607417765,
          2.820447265988305,
          2.819598527418243,
          2.81885171151376,
          2.8180826856378927,
          2.817305220497979,
          2.8166584114233655,
          2.8160297825084473,
          2.8154377943939632,
          2.814802401287611,
          2.81407503964323,
          2.8133311633710507,
          2.8127196587514187,
          2.8121190414361075,
          2.8114884821905033,
          2.8109245702522956,
          2.8103056994279227
         ]
        },
        {
         "marker": {
          "maxdisplayed": 10
         },
         "mode": "lines+markers",
         "name": "Trial5",
         "type": "scatter",
         "x": [
          0,
          1,
          2,
          3,
          4,
          5,
          6,
          7,
          8,
          9,
          10,
          11,
          12,
          13,
          14,
          15,
          16,
          17,
          18,
          19,
          20,
          21,
          22,
          23,
          24,
          25,
          26,
          27,
          28,
          29,
          30,
          31,
          32,
          33,
          34,
          35,
          36,
          37,
          38,
          39,
          40,
          41,
          42,
          43,
          44,
          45,
          46,
          47,
          48,
          49
         ],
         "y": [
          2.817288275559743,
          2.783681859572728,
          2.749305628405677,
          2.7206729690233864,
          2.6993630496660868,
          2.682131652699576,
          2.6688922479039148,
          2.6577991594870882,
          2.6489639502984503,
          2.640717866420746,
          2.6331032940835666,
          2.6261816226773793,
          2.6210851345306785,
          2.616299028907503,
          2.611223258972168,
          2.6069358865420025,
          2.6027737187404263,
          2.598772802176299,
          2.5952510151946755,
          2.591911153793335,
          2.58880776185838,
          2.585911246321418,
          2.5833157598108487,
          2.580947657922904,
          2.5785524934132895,
          2.576125849821629,
          2.5739003390441706,
          2.571846924935069,
          2.5699209861371712,
          2.568138169580036,
          2.5663055554513012,
          2.5645766536394756,
          2.5630154279747397,
          2.561293046965319,
          2.5595759456498284,
          2.558036444915666,
          2.5566758157970675,
          2.555094594913617,
          2.5539443358396876,
          2.5526502455274267,
          2.5513405303644943,
          2.5501186302730017,
          2.5490070582360262,
          2.547994854594722,
          2.5468366755379575,
          2.5458860052668535,
          2.5449074839869295,
          2.5439668723278577,
          2.5430113131497185,
          2.541972820838293
         ]
        },
        {
         "marker": {
          "maxdisplayed": 10
         },
         "mode": "lines+markers",
         "name": "Trial6",
         "type": "scatter",
         "x": [
          0
         ],
         "y": [
          3.559591205914815
         ]
        },
        {
         "marker": {
          "maxdisplayed": 10
         },
         "mode": "lines+markers",
         "name": "Trial7",
         "type": "scatter",
         "x": [
          0
         ],
         "y": [
          3.4481295307477313
         ]
        },
        {
         "marker": {
          "maxdisplayed": 10
         },
         "mode": "lines+markers",
         "name": "Trial8",
         "type": "scatter",
         "x": [
          0,
          1,
          2,
          3,
          4,
          5,
          6,
          7,
          8,
          9,
          10,
          11,
          12,
          13,
          14,
          15,
          16,
          17,
          18,
          19,
          20,
          21,
          22,
          23,
          24,
          25,
          26,
          27,
          28,
          29,
          30,
          31,
          32,
          33,
          34,
          35,
          36,
          37,
          38,
          39,
          40,
          41,
          42,
          43,
          44,
          45,
          46,
          47,
          48,
          49
         ],
         "y": [
          2.883876848220825,
          2.846011255184809,
          2.820193448331621,
          2.7992521971464157,
          2.7845170958836873,
          2.771675062179565,
          2.7622608485675992,
          2.756877692043781,
          2.750777111671589,
          2.7469232602914175,
          2.7427878723000036,
          2.739805524879032,
          2.736638562801557,
          2.7331124680382866,
          2.729802570343018,
          2.7273820521930854,
          2.725285987526763,
          2.72319996908859,
          2.7207549059600162,
          2.7189868593215945,
          2.7170380734262016,
          2.715288974480196,
          2.7131358110386397,
          2.7116278547379706,
          2.7101766969362893,
          2.7084587317246656,
          2.7069986115267244,
          2.7055147538582482,
          2.7037609418233233,
          2.7024555627504983,
          2.7012817057230136,
          2.700070659195384,
          2.6987506237897008,
          2.697495673100154,
          2.696100420838311,
          2.6950752908432927,
          2.6939134127384907,
          2.69278015870797,
          2.6918732189724586,
          2.6908396691083913,
          2.689619182086573,
          2.6884764171781996,
          2.687440865816072,
          2.686360844337579,
          2.685413075817956,
          2.6842260211274245,
          2.683197626492656,
          2.682344075209565,
          2.681290512668843,
          2.680382342576981
         ]
        },
        {
         "marker": {
          "maxdisplayed": 10
         },
         "mode": "lines+markers",
         "name": "Trial9",
         "type": "scatter",
         "x": [
          0
         ],
         "y": [
          3.1140793561935425
         ]
        }
       ],
       "layout": {
        "showlegend": false,
        "template": {
         "data": {
          "bar": [
           {
            "error_x": {
             "color": "#2a3f5f"
            },
            "error_y": {
             "color": "#2a3f5f"
            },
            "marker": {
             "line": {
              "color": "#E5ECF6",
              "width": 0.5
             },
             "pattern": {
              "fillmode": "overlay",
              "size": 10,
              "solidity": 0.2
             }
            },
            "type": "bar"
           }
          ],
          "barpolar": [
           {
            "marker": {
             "line": {
              "color": "#E5ECF6",
              "width": 0.5
             },
             "pattern": {
              "fillmode": "overlay",
              "size": 10,
              "solidity": 0.2
             }
            },
            "type": "barpolar"
           }
          ],
          "carpet": [
           {
            "aaxis": {
             "endlinecolor": "#2a3f5f",
             "gridcolor": "white",
             "linecolor": "white",
             "minorgridcolor": "white",
             "startlinecolor": "#2a3f5f"
            },
            "baxis": {
             "endlinecolor": "#2a3f5f",
             "gridcolor": "white",
             "linecolor": "white",
             "minorgridcolor": "white",
             "startlinecolor": "#2a3f5f"
            },
            "type": "carpet"
           }
          ],
          "choropleth": [
           {
            "colorbar": {
             "outlinewidth": 0,
             "ticks": ""
            },
            "type": "choropleth"
           }
          ],
          "contour": [
           {
            "colorbar": {
             "outlinewidth": 0,
             "ticks": ""
            },
            "colorscale": [
             [
              0,
              "#0d0887"
             ],
             [
              0.1111111111111111,
              "#46039f"
             ],
             [
              0.2222222222222222,
              "#7201a8"
             ],
             [
              0.3333333333333333,
              "#9c179e"
             ],
             [
              0.4444444444444444,
              "#bd3786"
             ],
             [
              0.5555555555555556,
              "#d8576b"
             ],
             [
              0.6666666666666666,
              "#ed7953"
             ],
             [
              0.7777777777777778,
              "#fb9f3a"
             ],
             [
              0.8888888888888888,
              "#fdca26"
             ],
             [
              1,
              "#f0f921"
             ]
            ],
            "type": "contour"
           }
          ],
          "contourcarpet": [
           {
            "colorbar": {
             "outlinewidth": 0,
             "ticks": ""
            },
            "type": "contourcarpet"
           }
          ],
          "heatmap": [
           {
            "colorbar": {
             "outlinewidth": 0,
             "ticks": ""
            },
            "colorscale": [
             [
              0,
              "#0d0887"
             ],
             [
              0.1111111111111111,
              "#46039f"
             ],
             [
              0.2222222222222222,
              "#7201a8"
             ],
             [
              0.3333333333333333,
              "#9c179e"
             ],
             [
              0.4444444444444444,
              "#bd3786"
             ],
             [
              0.5555555555555556,
              "#d8576b"
             ],
             [
              0.6666666666666666,
              "#ed7953"
             ],
             [
              0.7777777777777778,
              "#fb9f3a"
             ],
             [
              0.8888888888888888,
              "#fdca26"
             ],
             [
              1,
              "#f0f921"
             ]
            ],
            "type": "heatmap"
           }
          ],
          "heatmapgl": [
           {
            "colorbar": {
             "outlinewidth": 0,
             "ticks": ""
            },
            "colorscale": [
             [
              0,
              "#0d0887"
             ],
             [
              0.1111111111111111,
              "#46039f"
             ],
             [
              0.2222222222222222,
              "#7201a8"
             ],
             [
              0.3333333333333333,
              "#9c179e"
             ],
             [
              0.4444444444444444,
              "#bd3786"
             ],
             [
              0.5555555555555556,
              "#d8576b"
             ],
             [
              0.6666666666666666,
              "#ed7953"
             ],
             [
              0.7777777777777778,
              "#fb9f3a"
             ],
             [
              0.8888888888888888,
              "#fdca26"
             ],
             [
              1,
              "#f0f921"
             ]
            ],
            "type": "heatmapgl"
           }
          ],
          "histogram": [
           {
            "marker": {
             "pattern": {
              "fillmode": "overlay",
              "size": 10,
              "solidity": 0.2
             }
            },
            "type": "histogram"
           }
          ],
          "histogram2d": [
           {
            "colorbar": {
             "outlinewidth": 0,
             "ticks": ""
            },
            "colorscale": [
             [
              0,
              "#0d0887"
             ],
             [
              0.1111111111111111,
              "#46039f"
             ],
             [
              0.2222222222222222,
              "#7201a8"
             ],
             [
              0.3333333333333333,
              "#9c179e"
             ],
             [
              0.4444444444444444,
              "#bd3786"
             ],
             [
              0.5555555555555556,
              "#d8576b"
             ],
             [
              0.6666666666666666,
              "#ed7953"
             ],
             [
              0.7777777777777778,
              "#fb9f3a"
             ],
             [
              0.8888888888888888,
              "#fdca26"
             ],
             [
              1,
              "#f0f921"
             ]
            ],
            "type": "histogram2d"
           }
          ],
          "histogram2dcontour": [
           {
            "colorbar": {
             "outlinewidth": 0,
             "ticks": ""
            },
            "colorscale": [
             [
              0,
              "#0d0887"
             ],
             [
              0.1111111111111111,
              "#46039f"
             ],
             [
              0.2222222222222222,
              "#7201a8"
             ],
             [
              0.3333333333333333,
              "#9c179e"
             ],
             [
              0.4444444444444444,
              "#bd3786"
             ],
             [
              0.5555555555555556,
              "#d8576b"
             ],
             [
              0.6666666666666666,
              "#ed7953"
             ],
             [
              0.7777777777777778,
              "#fb9f3a"
             ],
             [
              0.8888888888888888,
              "#fdca26"
             ],
             [
              1,
              "#f0f921"
             ]
            ],
            "type": "histogram2dcontour"
           }
          ],
          "mesh3d": [
           {
            "colorbar": {
             "outlinewidth": 0,
             "ticks": ""
            },
            "type": "mesh3d"
           }
          ],
          "parcoords": [
           {
            "line": {
             "colorbar": {
              "outlinewidth": 0,
              "ticks": ""
             }
            },
            "type": "parcoords"
           }
          ],
          "pie": [
           {
            "automargin": true,
            "type": "pie"
           }
          ],
          "scatter": [
           {
            "fillpattern": {
             "fillmode": "overlay",
             "size": 10,
             "solidity": 0.2
            },
            "type": "scatter"
           }
          ],
          "scatter3d": [
           {
            "line": {
             "colorbar": {
              "outlinewidth": 0,
              "ticks": ""
             }
            },
            "marker": {
             "colorbar": {
              "outlinewidth": 0,
              "ticks": ""
             }
            },
            "type": "scatter3d"
           }
          ],
          "scattercarpet": [
           {
            "marker": {
             "colorbar": {
              "outlinewidth": 0,
              "ticks": ""
             }
            },
            "type": "scattercarpet"
           }
          ],
          "scattergeo": [
           {
            "marker": {
             "colorbar": {
              "outlinewidth": 0,
              "ticks": ""
             }
            },
            "type": "scattergeo"
           }
          ],
          "scattergl": [
           {
            "marker": {
             "colorbar": {
              "outlinewidth": 0,
              "ticks": ""
             }
            },
            "type": "scattergl"
           }
          ],
          "scattermapbox": [
           {
            "marker": {
             "colorbar": {
              "outlinewidth": 0,
              "ticks": ""
             }
            },
            "type": "scattermapbox"
           }
          ],
          "scatterpolar": [
           {
            "marker": {
             "colorbar": {
              "outlinewidth": 0,
              "ticks": ""
             }
            },
            "type": "scatterpolar"
           }
          ],
          "scatterpolargl": [
           {
            "marker": {
             "colorbar": {
              "outlinewidth": 0,
              "ticks": ""
             }
            },
            "type": "scatterpolargl"
           }
          ],
          "scatterternary": [
           {
            "marker": {
             "colorbar": {
              "outlinewidth": 0,
              "ticks": ""
             }
            },
            "type": "scatterternary"
           }
          ],
          "surface": [
           {
            "colorbar": {
             "outlinewidth": 0,
             "ticks": ""
            },
            "colorscale": [
             [
              0,
              "#0d0887"
             ],
             [
              0.1111111111111111,
              "#46039f"
             ],
             [
              0.2222222222222222,
              "#7201a8"
             ],
             [
              0.3333333333333333,
              "#9c179e"
             ],
             [
              0.4444444444444444,
              "#bd3786"
             ],
             [
              0.5555555555555556,
              "#d8576b"
             ],
             [
              0.6666666666666666,
              "#ed7953"
             ],
             [
              0.7777777777777778,
              "#fb9f3a"
             ],
             [
              0.8888888888888888,
              "#fdca26"
             ],
             [
              1,
              "#f0f921"
             ]
            ],
            "type": "surface"
           }
          ],
          "table": [
           {
            "cells": {
             "fill": {
              "color": "#EBF0F8"
             },
             "line": {
              "color": "white"
             }
            },
            "header": {
             "fill": {
              "color": "#C8D4E3"
             },
             "line": {
              "color": "white"
             }
            },
            "type": "table"
           }
          ]
         },
         "layout": {
          "annotationdefaults": {
           "arrowcolor": "#2a3f5f",
           "arrowhead": 0,
           "arrowwidth": 1
          },
          "autotypenumbers": "strict",
          "coloraxis": {
           "colorbar": {
            "outlinewidth": 0,
            "ticks": ""
           }
          },
          "colorscale": {
           "diverging": [
            [
             0,
             "#8e0152"
            ],
            [
             0.1,
             "#c51b7d"
            ],
            [
             0.2,
             "#de77ae"
            ],
            [
             0.3,
             "#f1b6da"
            ],
            [
             0.4,
             "#fde0ef"
            ],
            [
             0.5,
             "#f7f7f7"
            ],
            [
             0.6,
             "#e6f5d0"
            ],
            [
             0.7,
             "#b8e186"
            ],
            [
             0.8,
             "#7fbc41"
            ],
            [
             0.9,
             "#4d9221"
            ],
            [
             1,
             "#276419"
            ]
           ],
           "sequential": [
            [
             0,
             "#0d0887"
            ],
            [
             0.1111111111111111,
             "#46039f"
            ],
            [
             0.2222222222222222,
             "#7201a8"
            ],
            [
             0.3333333333333333,
             "#9c179e"
            ],
            [
             0.4444444444444444,
             "#bd3786"
            ],
            [
             0.5555555555555556,
             "#d8576b"
            ],
            [
             0.6666666666666666,
             "#ed7953"
            ],
            [
             0.7777777777777778,
             "#fb9f3a"
            ],
            [
             0.8888888888888888,
             "#fdca26"
            ],
            [
             1,
             "#f0f921"
            ]
           ],
           "sequentialminus": [
            [
             0,
             "#0d0887"
            ],
            [
             0.1111111111111111,
             "#46039f"
            ],
            [
             0.2222222222222222,
             "#7201a8"
            ],
            [
             0.3333333333333333,
             "#9c179e"
            ],
            [
             0.4444444444444444,
             "#bd3786"
            ],
            [
             0.5555555555555556,
             "#d8576b"
            ],
            [
             0.6666666666666666,
             "#ed7953"
            ],
            [
             0.7777777777777778,
             "#fb9f3a"
            ],
            [
             0.8888888888888888,
             "#fdca26"
            ],
            [
             1,
             "#f0f921"
            ]
           ]
          },
          "colorway": [
           "#636efa",
           "#EF553B",
           "#00cc96",
           "#ab63fa",
           "#FFA15A",
           "#19d3f3",
           "#FF6692",
           "#B6E880",
           "#FF97FF",
           "#FECB52"
          ],
          "font": {
           "color": "#2a3f5f"
          },
          "geo": {
           "bgcolor": "white",
           "lakecolor": "white",
           "landcolor": "#E5ECF6",
           "showlakes": true,
           "showland": true,
           "subunitcolor": "white"
          },
          "hoverlabel": {
           "align": "left"
          },
          "hovermode": "closest",
          "mapbox": {
           "style": "light"
          },
          "paper_bgcolor": "white",
          "plot_bgcolor": "#E5ECF6",
          "polar": {
           "angularaxis": {
            "gridcolor": "white",
            "linecolor": "white",
            "ticks": ""
           },
           "bgcolor": "#E5ECF6",
           "radialaxis": {
            "gridcolor": "white",
            "linecolor": "white",
            "ticks": ""
           }
          },
          "scene": {
           "xaxis": {
            "backgroundcolor": "#E5ECF6",
            "gridcolor": "white",
            "gridwidth": 2,
            "linecolor": "white",
            "showbackground": true,
            "ticks": "",
            "zerolinecolor": "white"
           },
           "yaxis": {
            "backgroundcolor": "#E5ECF6",
            "gridcolor": "white",
            "gridwidth": 2,
            "linecolor": "white",
            "showbackground": true,
            "ticks": "",
            "zerolinecolor": "white"
           },
           "zaxis": {
            "backgroundcolor": "#E5ECF6",
            "gridcolor": "white",
            "gridwidth": 2,
            "linecolor": "white",
            "showbackground": true,
            "ticks": "",
            "zerolinecolor": "white"
           }
          },
          "shapedefaults": {
           "line": {
            "color": "#2a3f5f"
           }
          },
          "ternary": {
           "aaxis": {
            "gridcolor": "white",
            "linecolor": "white",
            "ticks": ""
           },
           "baxis": {
            "gridcolor": "white",
            "linecolor": "white",
            "ticks": ""
           },
           "bgcolor": "#E5ECF6",
           "caxis": {
            "gridcolor": "white",
            "linecolor": "white",
            "ticks": ""
           }
          },
          "title": {
           "x": 0.05
          },
          "xaxis": {
           "automargin": true,
           "gridcolor": "white",
           "linecolor": "white",
           "ticks": "",
           "title": {
            "standoff": 15
           },
           "zerolinecolor": "white",
           "zerolinewidth": 2
          },
          "yaxis": {
           "automargin": true,
           "gridcolor": "white",
           "linecolor": "white",
           "ticks": "",
           "title": {
            "standoff": 15
           },
           "zerolinecolor": "white",
           "zerolinewidth": 2
          }
         }
        },
        "title": {
         "text": "Intermediate Values Plot"
        },
        "xaxis": {
         "title": {
          "text": "Step"
         }
        },
        "yaxis": {
         "title": {
          "text": "Intermediate Value"
         }
        }
       }
      }
     },
     "metadata": {},
     "output_type": "display_data"
    }
   ],
   "source": [
    "fig = optuna.visualization.plot_intermediate_values(study)\n",
    "graph_path = f\"./figures/{params.MODEL_TYPE}/plot_intermediate_values_graph\"\n",
    "fig.write_html(Path(f\"{graph_path}.html\"))\n",
    "fig.write_image(Path(f\"{graph_path}.png\"))\n",
    "fig.show()"
   ]
  },
  {
   "cell_type": "code",
   "execution_count": 15,
   "id": "325a1ec3",
   "metadata": {},
   "outputs": [],
   "source": [
    "# call function for best trial parameter extraction\n",
    "param_dict = extract_best_trial_params(study.best_params)"
   ]
  },
  {
   "cell_type": "code",
   "execution_count": 16,
   "id": "50e946e7",
   "metadata": {},
   "outputs": [
    {
     "name": "stdout",
     "output_type": "stream",
     "text": [
      "Adam\n",
      "Epoch 0: Validation loss decreased (inf --> 2.790438).  Saving model ...\n",
      "\t Train_Loss: 3.1972 Train_Acc: 9.513 Val_Loss: 2.7904  BEST VAL Loss: 2.7904  Val_Acc: 17.631\n",
      "\n",
      "Epoch 1: Validation loss decreased (2.790438 --> 2.742428).  Saving model ...\n",
      "\t Train_Loss: 3.0916 Train_Acc: 12.473 Val_Loss: 2.7424  BEST VAL Loss: 2.7424  Val_Acc: 20.466\n",
      "\n",
      "Epoch 2: Validation loss decreased (2.742428 --> 2.708395).  Saving model ...\n",
      "\t Train_Loss: 3.0401 Train_Acc: 13.576 Val_Loss: 2.7084  BEST VAL Loss: 2.7084  Val_Acc: 21.965\n",
      "\n",
      "Epoch 3: Validation loss decreased (2.708395 --> 2.686202).  Saving model ...\n",
      "\t Train_Loss: 3.0089 Train_Acc: 13.810 Val_Loss: 2.6862  BEST VAL Loss: 2.6862  Val_Acc: 22.607\n",
      "\n",
      "Epoch 4: Validation loss decreased (2.686202 --> 2.668514).  Saving model ...\n",
      "\t Train_Loss: 2.9868 Train_Acc: 14.221 Val_Loss: 2.6685  BEST VAL Loss: 2.6685  Val_Acc: 23.253\n",
      "\n",
      "Epoch 5: Validation loss decreased (2.668514 --> 2.654580).  Saving model ...\n",
      "\t Train_Loss: 2.9708 Train_Acc: 14.362 Val_Loss: 2.6546  BEST VAL Loss: 2.6546  Val_Acc: 24.136\n",
      "\n",
      "Epoch 6: Validation loss decreased (2.654580 --> 2.643163).  Saving model ...\n",
      "\t Train_Loss: 2.9581 Train_Acc: 14.565 Val_Loss: 2.6432  BEST VAL Loss: 2.6432  Val_Acc: 24.037\n",
      "\n",
      "Epoch 7: Validation loss decreased (2.643163 --> 2.634167).  Saving model ...\n",
      "\t Train_Loss: 2.9477 Train_Acc: 14.842 Val_Loss: 2.6342  BEST VAL Loss: 2.6342  Val_Acc: 24.246\n",
      "\n",
      "Epoch 8: Validation loss decreased (2.634167 --> 2.626849).  Saving model ...\n",
      "\t Train_Loss: 2.9390 Train_Acc: 15.117 Val_Loss: 2.6268  BEST VAL Loss: 2.6268  Val_Acc: 24.584\n",
      "\n",
      "Epoch 9: Validation loss decreased (2.626849 --> 2.619616).  Saving model ...\n",
      "\t Train_Loss: 2.9314 Train_Acc: 15.299 Val_Loss: 2.6196  BEST VAL Loss: 2.6196  Val_Acc: 25.126\n",
      "\n",
      "Epoch 10: Validation loss decreased (2.619616 --> 2.612505).  Saving model ...\n",
      "\t Train_Loss: 2.9249 Train_Acc: 15.462 Val_Loss: 2.6125  BEST VAL Loss: 2.6125  Val_Acc: 25.398\n",
      "\n",
      "Epoch 11: Validation loss decreased (2.612505 --> 2.607305).  Saving model ...\n",
      "\t Train_Loss: 2.9187 Train_Acc: 15.651 Val_Loss: 2.6073  BEST VAL Loss: 2.6073  Val_Acc: 24.821\n",
      "\n",
      "Epoch 12: Validation loss decreased (2.607305 --> 2.601735).  Saving model ...\n",
      "\t Train_Loss: 2.9132 Train_Acc: 15.728 Val_Loss: 2.6017  BEST VAL Loss: 2.6017  Val_Acc: 25.163\n",
      "\n",
      "Epoch 13: Validation loss decreased (2.601735 --> 2.597147).  Saving model ...\n",
      "\t Train_Loss: 2.9082 Train_Acc: 15.903 Val_Loss: 2.5971  BEST VAL Loss: 2.5971  Val_Acc: 24.826\n",
      "\n",
      "Epoch 14: Validation loss decreased (2.597147 --> 2.593968).  Saving model ...\n",
      "\t Train_Loss: 2.9038 Train_Acc: 15.923 Val_Loss: 2.5940  BEST VAL Loss: 2.5940  Val_Acc: 24.895\n",
      "\n",
      "Epoch 15: Validation loss decreased (2.593968 --> 2.590011).  Saving model ...\n",
      "\t Train_Loss: 2.8996 Train_Acc: 16.023 Val_Loss: 2.5900  BEST VAL Loss: 2.5900  Val_Acc: 25.082\n",
      "\n",
      "Epoch 16: Validation loss decreased (2.590011 --> 2.586475).  Saving model ...\n",
      "\t Train_Loss: 2.8957 Train_Acc: 16.065 Val_Loss: 2.5865  BEST VAL Loss: 2.5865  Val_Acc: 25.036\n",
      "\n",
      "Epoch 17: Validation loss decreased (2.586475 --> 2.583167).  Saving model ...\n",
      "\t Train_Loss: 2.8922 Train_Acc: 16.113 Val_Loss: 2.5832  BEST VAL Loss: 2.5832  Val_Acc: 25.148\n",
      "\n",
      "Epoch 18: Validation loss decreased (2.583167 --> 2.580022).  Saving model ...\n",
      "\t Train_Loss: 2.8890 Train_Acc: 16.131 Val_Loss: 2.5800  BEST VAL Loss: 2.5800  Val_Acc: 25.153\n",
      "\n",
      "Epoch 19: Validation loss decreased (2.580022 --> 2.577660).  Saving model ...\n",
      "\t Train_Loss: 2.8860 Train_Acc: 16.174 Val_Loss: 2.5777  BEST VAL Loss: 2.5777  Val_Acc: 24.671\n",
      "\n",
      "Epoch 20: Validation loss decreased (2.577660 --> 2.575623).  Saving model ...\n",
      "\t Train_Loss: 2.8832 Train_Acc: 16.107 Val_Loss: 2.5756  BEST VAL Loss: 2.5756  Val_Acc: 24.780\n",
      "\n",
      "Epoch 21: Validation loss decreased (2.575623 --> 2.573520).  Saving model ...\n",
      "\t Train_Loss: 2.8806 Train_Acc: 16.226 Val_Loss: 2.5735  BEST VAL Loss: 2.5735  Val_Acc: 24.475\n",
      "\n",
      "Epoch 22: Validation loss decreased (2.573520 --> 2.571741).  Saving model ...\n",
      "\t Train_Loss: 2.8782 Train_Acc: 16.204 Val_Loss: 2.5717  BEST VAL Loss: 2.5717  Val_Acc: 24.609\n",
      "\n",
      "Epoch 23: Validation loss decreased (2.571741 --> 2.569084).  Saving model ...\n",
      "\t Train_Loss: 2.8758 Train_Acc: 16.318 Val_Loss: 2.5691  BEST VAL Loss: 2.5691  Val_Acc: 25.278\n",
      "\n",
      "Epoch 24: Validation loss decreased (2.569084 --> 2.567072).  Saving model ...\n",
      "\t Train_Loss: 2.8736 Train_Acc: 16.347 Val_Loss: 2.5671  BEST VAL Loss: 2.5671  Val_Acc: 24.741\n",
      "\n",
      "Epoch 25: Validation loss decreased (2.567072 --> 2.564824).  Saving model ...\n",
      "\t Train_Loss: 2.8715 Train_Acc: 16.332 Val_Loss: 2.5648  BEST VAL Loss: 2.5648  Val_Acc: 25.243\n",
      "\n",
      "Epoch 26: Validation loss decreased (2.564824 --> 2.562541).  Saving model ...\n",
      "\t Train_Loss: 2.8695 Train_Acc: 16.338 Val_Loss: 2.5625  BEST VAL Loss: 2.5625  Val_Acc: 25.081\n",
      "\n",
      "Epoch 27: Validation loss decreased (2.562541 --> 2.560543).  Saving model ...\n",
      "\t Train_Loss: 2.8676 Train_Acc: 16.431 Val_Loss: 2.5605  BEST VAL Loss: 2.5605  Val_Acc: 25.223\n",
      "\n",
      "Epoch 28: Validation loss decreased (2.560543 --> 2.558695).  Saving model ...\n",
      "\t Train_Loss: 2.8657 Train_Acc: 16.510 Val_Loss: 2.5587  BEST VAL Loss: 2.5587  Val_Acc: 25.099\n",
      "\n",
      "Epoch 29: Validation loss decreased (2.558695 --> 2.557175).  Saving model ...\n",
      "\t Train_Loss: 2.8640 Train_Acc: 16.473 Val_Loss: 2.5572  BEST VAL Loss: 2.5572  Val_Acc: 24.811\n",
      "\n",
      "Epoch 30: Validation loss decreased (2.557175 --> 2.555494).  Saving model ...\n",
      "\t Train_Loss: 2.8624 Train_Acc: 16.574 Val_Loss: 2.5555  BEST VAL Loss: 2.5555  Val_Acc: 25.440\n",
      "\n",
      "Epoch 31: Validation loss decreased (2.555494 --> 2.553934).  Saving model ...\n",
      "\t Train_Loss: 2.8608 Train_Acc: 16.436 Val_Loss: 2.5539  BEST VAL Loss: 2.5539  Val_Acc: 25.288\n",
      "\n",
      "Epoch 32: Validation loss decreased (2.553934 --> 2.552637).  Saving model ...\n",
      "\t Train_Loss: 2.8593 Train_Acc: 16.423 Val_Loss: 2.5526  BEST VAL Loss: 2.5526  Val_Acc: 25.250\n",
      "\n",
      "Epoch 33: Validation loss decreased (2.552637 --> 2.551065).  Saving model ...\n",
      "\t Train_Loss: 2.8579 Train_Acc: 16.455 Val_Loss: 2.5511  BEST VAL Loss: 2.5511  Val_Acc: 25.353\n",
      "\n",
      "Epoch 34: Validation loss decreased (2.551065 --> 2.549734).  Saving model ...\n",
      "\t Train_Loss: 2.8565 Train_Acc: 16.492 Val_Loss: 2.5497  BEST VAL Loss: 2.5497  Val_Acc: 24.888\n",
      "\n",
      "Epoch 35: Validation loss decreased (2.549734 --> 2.548383).  Saving model ...\n",
      "\t Train_Loss: 2.8552 Train_Acc: 16.396 Val_Loss: 2.5484  BEST VAL Loss: 2.5484  Val_Acc: 25.368\n",
      "\n",
      "Epoch 36: Validation loss decreased (2.548383 --> 2.547444).  Saving model ...\n",
      "\t Train_Loss: 2.8539 Train_Acc: 16.372 Val_Loss: 2.5474  BEST VAL Loss: 2.5474  Val_Acc: 24.918\n",
      "\n",
      "Epoch 37: Validation loss decreased (2.547444 --> 2.546281).  Saving model ...\n",
      "\t Train_Loss: 2.8527 Train_Acc: 16.339 Val_Loss: 2.5463  BEST VAL Loss: 2.5463  Val_Acc: 25.211\n",
      "\n",
      "Epoch 38: Validation loss decreased (2.546281 --> 2.545201).  Saving model ...\n",
      "\t Train_Loss: 2.8516 Train_Acc: 16.291 Val_Loss: 2.5452  BEST VAL Loss: 2.5452  Val_Acc: 24.765\n",
      "\n",
      "Epoch 39: Validation loss decreased (2.545201 --> 2.544138).  Saving model ...\n",
      "\t Train_Loss: 2.8505 Train_Acc: 16.304 Val_Loss: 2.5441  BEST VAL Loss: 2.5441  Val_Acc: 24.867\n",
      "\n",
      "Epoch 40: Validation loss decreased (2.544138 --> 2.542789).  Saving model ...\n",
      "\t Train_Loss: 2.8494 Train_Acc: 16.362 Val_Loss: 2.5428  BEST VAL Loss: 2.5428  Val_Acc: 25.390\n",
      "\n",
      "Epoch 41: Validation loss decreased (2.542789 --> 2.541693).  Saving model ...\n",
      "\t Train_Loss: 2.8484 Train_Acc: 16.361 Val_Loss: 2.5417  BEST VAL Loss: 2.5417  Val_Acc: 25.494\n",
      "\n",
      "Epoch 42: Validation loss decreased (2.541693 --> 2.540628).  Saving model ...\n",
      "\t Train_Loss: 2.8474 Train_Acc: 16.422 Val_Loss: 2.5406  BEST VAL Loss: 2.5406  Val_Acc: 25.124\n",
      "\n",
      "Epoch 43: Validation loss decreased (2.540628 --> 2.539912).  Saving model ...\n",
      "\t Train_Loss: 2.8464 Train_Acc: 16.308 Val_Loss: 2.5399  BEST VAL Loss: 2.5399  Val_Acc: 24.482\n",
      "\n",
      "Epoch 44: Validation loss decreased (2.539912 --> 2.539197).  Saving model ...\n",
      "\t Train_Loss: 2.8455 Train_Acc: 16.364 Val_Loss: 2.5392  BEST VAL Loss: 2.5392  Val_Acc: 25.166\n",
      "\n",
      "Epoch 45: Validation loss decreased (2.539197 --> 2.538326).  Saving model ...\n",
      "\t Train_Loss: 2.8446 Train_Acc: 16.414 Val_Loss: 2.5383  BEST VAL Loss: 2.5383  Val_Acc: 25.020\n",
      "\n",
      "Epoch 46: Validation loss decreased (2.538326 --> 2.537289).  Saving model ...\n",
      "\t Train_Loss: 2.8437 Train_Acc: 16.436 Val_Loss: 2.5373  BEST VAL Loss: 2.5373  Val_Acc: 25.360\n",
      "\n",
      "Epoch 47: Validation loss decreased (2.537289 --> 2.536169).  Saving model ...\n",
      "\t Train_Loss: 2.8428 Train_Acc: 16.446 Val_Loss: 2.5362  BEST VAL Loss: 2.5362  Val_Acc: 25.544\n",
      "\n",
      "Epoch 48: Validation loss decreased (2.536169 --> 2.535488).  Saving model ...\n",
      "\t Train_Loss: 2.8420 Train_Acc: 16.450 Val_Loss: 2.5355  BEST VAL Loss: 2.5355  Val_Acc: 24.763\n",
      "\n",
      "Epoch 49: Validation loss decreased (2.535488 --> 2.534889).  Saving model ...\n",
      "\t Train_Loss: 2.8412 Train_Acc: 16.482 Val_Loss: 2.5349  BEST VAL Loss: 2.5349  Val_Acc: 24.740\n",
      "\n",
      "Epoch 50: Validation loss decreased (2.534889 --> 2.533881).  Saving model ...\n",
      "\t Train_Loss: 2.8404 Train_Acc: 16.463 Val_Loss: 2.5339  BEST VAL Loss: 2.5339  Val_Acc: 25.539\n",
      "\n",
      "Epoch 51: Validation loss decreased (2.533881 --> 2.533109).  Saving model ...\n",
      "\t Train_Loss: 2.8396 Train_Acc: 16.457 Val_Loss: 2.5331  BEST VAL Loss: 2.5331  Val_Acc: 25.186\n",
      "\n",
      "Epoch 52: Validation loss decreased (2.533109 --> 2.532472).  Saving model ...\n",
      "\t Train_Loss: 2.8388 Train_Acc: 16.501 Val_Loss: 2.5325  BEST VAL Loss: 2.5325  Val_Acc: 25.022\n",
      "\n",
      "Epoch 53: Validation loss decreased (2.532472 --> 2.531845).  Saving model ...\n",
      "\t Train_Loss: 2.8380 Train_Acc: 16.480 Val_Loss: 2.5318  BEST VAL Loss: 2.5318  Val_Acc: 24.947\n",
      "\n",
      "Epoch 54: Validation loss decreased (2.531845 --> 2.531025).  Saving model ...\n",
      "\t Train_Loss: 2.8373 Train_Acc: 16.574 Val_Loss: 2.5310  BEST VAL Loss: 2.5310  Val_Acc: 25.233\n",
      "\n",
      "Epoch 55: Validation loss decreased (2.531025 --> 2.530453).  Saving model ...\n",
      "\t Train_Loss: 2.8366 Train_Acc: 16.475 Val_Loss: 2.5305  BEST VAL Loss: 2.5305  Val_Acc: 25.214\n",
      "\n",
      "Epoch 56: Validation loss decreased (2.530453 --> 2.529634).  Saving model ...\n",
      "\t Train_Loss: 2.8359 Train_Acc: 16.518 Val_Loss: 2.5296  BEST VAL Loss: 2.5296  Val_Acc: 25.469\n",
      "\n",
      "Epoch 57: Validation loss decreased (2.529634 --> 2.528914).  Saving model ...\n",
      "\t Train_Loss: 2.8352 Train_Acc: 16.489 Val_Loss: 2.5289  BEST VAL Loss: 2.5289  Val_Acc: 25.159\n",
      "\n",
      "Epoch 58: Validation loss decreased (2.528914 --> 2.528255).  Saving model ...\n",
      "\t Train_Loss: 2.8346 Train_Acc: 16.515 Val_Loss: 2.5283  BEST VAL Loss: 2.5283  Val_Acc: 25.489\n",
      "\n",
      "Epoch 59: Validation loss decreased (2.528255 --> 2.527639).  Saving model ...\n",
      "\t Train_Loss: 2.8339 Train_Acc: 16.553 Val_Loss: 2.5276  BEST VAL Loss: 2.5276  Val_Acc: 25.504\n",
      "\n",
      "Epoch 60: Validation loss decreased (2.527639 --> 2.526976).  Saving model ...\n",
      "\t Train_Loss: 2.8333 Train_Acc: 16.586 Val_Loss: 2.5270  BEST VAL Loss: 2.5270  Val_Acc: 25.131\n",
      "\n",
      "Epoch 61: Validation loss decreased (2.526976 --> 2.526360).  Saving model ...\n",
      "\t Train_Loss: 2.8327 Train_Acc: 16.630 Val_Loss: 2.5264  BEST VAL Loss: 2.5264  Val_Acc: 25.235\n",
      "\n",
      "Epoch 62: Validation loss decreased (2.526360 --> 2.525828).  Saving model ...\n",
      "\t Train_Loss: 2.8321 Train_Acc: 16.489 Val_Loss: 2.5258  BEST VAL Loss: 2.5258  Val_Acc: 25.539\n",
      "\n",
      "Epoch 63: Validation loss decreased (2.525828 --> 2.525241).  Saving model ...\n",
      "\t Train_Loss: 2.8315 Train_Acc: 16.508 Val_Loss: 2.5252  BEST VAL Loss: 2.5252  Val_Acc: 25.261\n",
      "\n",
      "Epoch 64: Validation loss decreased (2.525241 --> 2.524683).  Saving model ...\n",
      "\t Train_Loss: 2.8309 Train_Acc: 16.551 Val_Loss: 2.5247  BEST VAL Loss: 2.5247  Val_Acc: 25.405\n",
      "\n",
      "Epoch 65: Validation loss decreased (2.524683 --> 2.524058).  Saving model ...\n",
      "\t Train_Loss: 2.8304 Train_Acc: 16.543 Val_Loss: 2.5241  BEST VAL Loss: 2.5241  Val_Acc: 24.868\n",
      "\n",
      "Epoch 66: Validation loss decreased (2.524058 --> 2.523381).  Saving model ...\n",
      "\t Train_Loss: 2.8298 Train_Acc: 16.593 Val_Loss: 2.5234  BEST VAL Loss: 2.5234  Val_Acc: 25.213\n",
      "\n",
      "Epoch 67: Validation loss decreased (2.523381 --> 2.522881).  Saving model ...\n",
      "\t Train_Loss: 2.8293 Train_Acc: 16.594 Val_Loss: 2.5229  BEST VAL Loss: 2.5229  Val_Acc: 25.106\n",
      "\n",
      "Epoch 68: Validation loss decreased (2.522881 --> 2.522435).  Saving model ...\n",
      "\t Train_Loss: 2.8287 Train_Acc: 16.644 Val_Loss: 2.5224  BEST VAL Loss: 2.5224  Val_Acc: 24.930\n",
      "\n",
      "Epoch 69: Validation loss decreased (2.522435 --> 2.521919).  Saving model ...\n",
      "\t Train_Loss: 2.8282 Train_Acc: 16.562 Val_Loss: 2.5219  BEST VAL Loss: 2.5219  Val_Acc: 25.235\n",
      "\n",
      "Epoch 70: Validation loss decreased (2.521919 --> 2.521285).  Saving model ...\n",
      "\t Train_Loss: 2.8277 Train_Acc: 16.608 Val_Loss: 2.5213  BEST VAL Loss: 2.5213  Val_Acc: 25.608\n",
      "\n",
      "Epoch 71: Validation loss decreased (2.521285 --> 2.520832).  Saving model ...\n",
      "\t Train_Loss: 2.8273 Train_Acc: 16.588 Val_Loss: 2.5208  BEST VAL Loss: 2.5208  Val_Acc: 25.238\n",
      "\n",
      "Epoch 72: Validation loss decreased (2.520832 --> 2.520199).  Saving model ...\n",
      "\t Train_Loss: 2.8268 Train_Acc: 16.782 Val_Loss: 2.5202  BEST VAL Loss: 2.5202  Val_Acc: 25.338\n",
      "\n",
      "Epoch 73: Validation loss decreased (2.520199 --> 2.519697).  Saving model ...\n",
      "\t Train_Loss: 2.8263 Train_Acc: 16.756 Val_Loss: 2.5197  BEST VAL Loss: 2.5197  Val_Acc: 25.393\n",
      "\n",
      "Epoch 74: Validation loss decreased (2.519697 --> 2.519235).  Saving model ...\n",
      "\t Train_Loss: 2.8258 Train_Acc: 16.705 Val_Loss: 2.5192  BEST VAL Loss: 2.5192  Val_Acc: 25.263\n",
      "\n",
      "Epoch 75: Validation loss decreased (2.519235 --> 2.518821).  Saving model ...\n",
      "\t Train_Loss: 2.8254 Train_Acc: 16.657 Val_Loss: 2.5188  BEST VAL Loss: 2.5188  Val_Acc: 24.912\n",
      "\n",
      "Epoch 76: Validation loss decreased (2.518821 --> 2.518240).  Saving model ...\n",
      "\t Train_Loss: 2.8249 Train_Acc: 16.651 Val_Loss: 2.5182  BEST VAL Loss: 2.5182  Val_Acc: 25.449\n",
      "\n",
      "Epoch 77: Validation loss decreased (2.518240 --> 2.517710).  Saving model ...\n",
      "\t Train_Loss: 2.8244 Train_Acc: 16.684 Val_Loss: 2.5177  BEST VAL Loss: 2.5177  Val_Acc: 25.457\n",
      "\n",
      "Epoch 78: Validation loss decreased (2.517710 --> 2.517323).  Saving model ...\n",
      "\t Train_Loss: 2.8240 Train_Acc: 16.595 Val_Loss: 2.5173  BEST VAL Loss: 2.5173  Val_Acc: 24.828\n",
      "\n",
      "Epoch 79: Validation loss decreased (2.517323 --> 2.516931).  Saving model ...\n",
      "\t Train_Loss: 2.8236 Train_Acc: 16.685 Val_Loss: 2.5169  BEST VAL Loss: 2.5169  Val_Acc: 24.743\n",
      "\n",
      "Epoch 80: Validation loss decreased (2.516931 --> 2.516564).  Saving model ...\n",
      "\t Train_Loss: 2.8232 Train_Acc: 16.684 Val_Loss: 2.5166  BEST VAL Loss: 2.5166  Val_Acc: 25.561\n",
      "\n",
      "Epoch 81: Validation loss decreased (2.516564 --> 2.516126).  Saving model ...\n",
      "\t Train_Loss: 2.8228 Train_Acc: 16.529 Val_Loss: 2.5161  BEST VAL Loss: 2.5161  Val_Acc: 25.689\n",
      "\n",
      "Epoch 82: Validation loss decreased (2.516126 --> 2.515766).  Saving model ...\n",
      "\t Train_Loss: 2.8224 Train_Acc: 16.635 Val_Loss: 2.5158  BEST VAL Loss: 2.5158  Val_Acc: 25.437\n",
      "\n",
      "Epoch 83: Validation loss decreased (2.515766 --> 2.515245).  Saving model ...\n",
      "\t Train_Loss: 2.8220 Train_Acc: 16.614 Val_Loss: 2.5152  BEST VAL Loss: 2.5152  Val_Acc: 25.735\n",
      "\n",
      "Epoch 84: Validation loss decreased (2.515245 --> 2.514839).  Saving model ...\n",
      "\t Train_Loss: 2.8216 Train_Acc: 16.652 Val_Loss: 2.5148  BEST VAL Loss: 2.5148  Val_Acc: 25.500\n",
      "\n",
      "Epoch 85: Validation loss decreased (2.514839 --> 2.514479).  Saving model ...\n",
      "\t Train_Loss: 2.8212 Train_Acc: 16.709 Val_Loss: 2.5145  BEST VAL Loss: 2.5145  Val_Acc: 25.081\n",
      "\n",
      "Epoch 86: Validation loss decreased (2.514479 --> 2.513979).  Saving model ...\n",
      "\t Train_Loss: 2.8208 Train_Acc: 16.736 Val_Loss: 2.5140  BEST VAL Loss: 2.5140  Val_Acc: 25.430\n",
      "\n",
      "Epoch 87: Validation loss decreased (2.513979 --> 2.513544).  Saving model ...\n",
      "\t Train_Loss: 2.8205 Train_Acc: 16.677 Val_Loss: 2.5135  BEST VAL Loss: 2.5135  Val_Acc: 25.745\n",
      "\n",
      "Epoch 88: Validation loss decreased (2.513544 --> 2.513111).  Saving model ...\n",
      "\t Train_Loss: 2.8201 Train_Acc: 16.693 Val_Loss: 2.5131  BEST VAL Loss: 2.5131  Val_Acc: 25.444\n",
      "\n",
      "Epoch 89: Validation loss decreased (2.513111 --> 2.512686).  Saving model ...\n",
      "\t Train_Loss: 2.8197 Train_Acc: 16.755 Val_Loss: 2.5127  BEST VAL Loss: 2.5127  Val_Acc: 25.429\n",
      "\n",
      "Epoch 90: Validation loss decreased (2.512686 --> 2.512285).  Saving model ...\n",
      "\t Train_Loss: 2.8194 Train_Acc: 16.691 Val_Loss: 2.5123  BEST VAL Loss: 2.5123  Val_Acc: 25.397\n",
      "\n",
      "Epoch 91: Validation loss decreased (2.512285 --> 2.511894).  Saving model ...\n",
      "\t Train_Loss: 2.8190 Train_Acc: 16.734 Val_Loss: 2.5119  BEST VAL Loss: 2.5119  Val_Acc: 25.684\n",
      "\n",
      "Epoch 92: Validation loss decreased (2.511894 --> 2.511502).  Saving model ...\n",
      "\t Train_Loss: 2.8187 Train_Acc: 16.638 Val_Loss: 2.5115  BEST VAL Loss: 2.5115  Val_Acc: 25.760\n",
      "\n",
      "Epoch 93: Validation loss decreased (2.511502 --> 2.511072).  Saving model ...\n",
      "\t Train_Loss: 2.8183 Train_Acc: 16.719 Val_Loss: 2.5111  BEST VAL Loss: 2.5111  Val_Acc: 25.587\n",
      "\n",
      "Epoch 94: Validation loss decreased (2.511072 --> 2.510659).  Saving model ...\n",
      "\t Train_Loss: 2.8180 Train_Acc: 16.765 Val_Loss: 2.5107  BEST VAL Loss: 2.5107  Val_Acc: 25.457\n",
      "\n",
      "Epoch 95: Validation loss decreased (2.510659 --> 2.510370).  Saving model ...\n",
      "\t Train_Loss: 2.8177 Train_Acc: 16.804 Val_Loss: 2.5104  BEST VAL Loss: 2.5104  Val_Acc: 25.397\n",
      "\n",
      "Epoch 96: Validation loss decreased (2.510370 --> 2.510058).  Saving model ...\n",
      "\t Train_Loss: 2.8174 Train_Acc: 16.762 Val_Loss: 2.5101  BEST VAL Loss: 2.5101  Val_Acc: 25.323\n",
      "\n",
      "Epoch 97: Validation loss decreased (2.510058 --> 2.509627).  Saving model ...\n",
      "\t Train_Loss: 2.8170 Train_Acc: 16.916 Val_Loss: 2.5096  BEST VAL Loss: 2.5096  Val_Acc: 26.067\n",
      "\n",
      "Epoch 98: Validation loss decreased (2.509627 --> 2.509227).  Saving model ...\n",
      "\t Train_Loss: 2.8167 Train_Acc: 16.860 Val_Loss: 2.5092  BEST VAL Loss: 2.5092  Val_Acc: 26.103\n",
      "\n",
      "Epoch 99: Validation loss decreased (2.509227 --> 2.508839).  Saving model ...\n",
      "\t Train_Loss: 2.8164 Train_Acc: 16.955 Val_Loss: 2.5088  BEST VAL Loss: 2.5088  Val_Acc: 25.750\n",
      "\n"
     ]
    }
   ],
   "source": [
    "# call the optimized training model\n",
    "train_loss, train_acc, valid_loss, valid_acc, epochs_ran, model = train_optimized_model(\n",
    "    params.TRAIN_EPOCHS,\n",
    "    train_loader,\n",
    "    valid_loader,\n",
    "    param_dict,\n",
    "    params,\n",
    ")\n",
    "if params.MODEL_TYPE == \"Regression\":\n",
    "    training_stats = pd.DataFrame(\n",
    "        zip(train_loss, valid_loss, epochs_ran),\n",
    "        columns=[\"train_loss\", \"valid_loss\", \"epochs_ran\"],\n",
    "    )\n",
    "else:\n",
    "    training_stats = pd.DataFrame(\n",
    "        zip(train_loss, train_acc, valid_loss, valid_acc, epochs_ran),\n",
    "        columns=[\"train_loss\", \"train_acc\", \"valid_loss\", \"valid_acc\", \"epochs_ran\"],\n",
    "    )"
   ]
  },
  {
   "cell_type": "code",
   "execution_count": 17,
   "id": "1340d8aa",
   "metadata": {},
   "outputs": [
    {
     "name": "stderr",
     "output_type": "stream",
     "text": [
      "/home/lippincm/Documents/ML/Interstellar_Analysis/MLP_Model/MLP_utils/utils.py:884: UserWarning:\n",
      "\n",
      "Ignoring `palette` because no `hue` variable has been assigned.\n",
      "\n",
      "/home/lippincm/Documents/ML/Interstellar_Analysis/MLP_Model/MLP_utils/utils.py:885: UserWarning:\n",
      "\n",
      "Ignoring `palette` because no `hue` variable has been assigned.\n",
      "\n"
     ]
    },
    {
     "data": {
      "image/png": "[encoded data removed]",
      "text/plain": [
       "<Figure size 640x480 with 1 Axes>"
      ]
     },
     "metadata": {},
     "output_type": "display_data"
    }
   ],
   "source": [
    "if params.MODEL_TYPE == \"Regression\":\n",
    "    pass\n",
    "else:\n",
    "    plot_metric_vs_epoch(\n",
    "        training_stats,\n",
    "        x=\"epochs_ran\",\n",
    "        y1=\"train_acc\",\n",
    "        y2=\"valid_acc\",\n",
    "        title=\"Accuracy vs. Epochs\",\n",
    "        x_axis_label=\"Epochs\",\n",
    "        y_axis_label=\"Accuracy\",\n",
    "        params=params,\n",
    "    )"
   ]
  },
  {
   "cell_type": "code",
   "execution_count": 18,
   "id": "41991221",
   "metadata": {},
   "outputs": [
    {
     "name": "stderr",
     "output_type": "stream",
     "text": [
      "/home/lippincm/Documents/ML/Interstellar_Analysis/MLP_Model/MLP_utils/utils.py:884: UserWarning:\n",
      "\n",
      "Ignoring `palette` because no `hue` variable has been assigned.\n",
      "\n",
      "/home/lippincm/Documents/ML/Interstellar_Analysis/MLP_Model/MLP_utils/utils.py:885: UserWarning:\n",
      "\n",
      "Ignoring `palette` because no `hue` variable has been assigned.\n",
      "\n"
     ]
    },
    {
     "data": {
      "image/png": "[encoded data removed]",
      "text/plain": [
       "<Figure size 640x480 with 1 Axes>"
      ]
     },
     "metadata": {},
     "output_type": "display_data"
    }
   ],
   "source": [
    "plot_metric_vs_epoch(\n",
    "    training_stats,\n",
    "    x=\"epochs_ran\",\n",
    "    y1=\"train_loss\",\n",
    "    y2=\"valid_loss\",\n",
    "    title=\"Loss vs. Epochs\",\n",
    "    x_axis_label=\"Epochs\",\n",
    "    y_axis_label=\"Loss\",\n",
    "    params=params,\n",
    ")"
   ]
  },
  {
   "cell_type": "code",
   "execution_count": 19,
   "id": "3e2c848c",
   "metadata": {},
   "outputs": [],
   "source": [
    "# calling the testing function and outputting list values of tested model\n",
    "if params.MODEL_TYPE == \"Multi_Class\" or params.MODEL_TYPE == \"Regression\":\n",
    "    y_pred_list = test_optimized_model(model, test_loader, params)\n",
    "elif params.MODEL_TYPE == \"Binary_Classification\":\n",
    "    y_pred_list, y_pred_prob_list = test_optimized_model(model, test_loader, params)\n",
    "else:\n",
    "    raise Exception(\"Model type must be specified for proper model testing\")\n",
    "\n",
    "\n",
    "# un-nest list if nested i.e. length of input data does not match length of output data\n",
    "if len(y_pred_list) != len(Y_test):\n",
    "    y_pred_list = un_nest(y_pred_list)\n",
    "    y_pred_prob_list = un_nest(y_pred_prob_list)\n",
    "else:\n",
    "    pass"
   ]
  },
  {
   "cell_type": "code",
   "execution_count": 20,
   "id": "3c53f7e4",
   "metadata": {},
   "outputs": [
    {
     "name": "stderr",
     "output_type": "stream",
     "text": [
      "/home/lippincm/miniconda3/envs/Interstellar/lib/python3.10/site-packages/sklearn/metrics/_classification.py:1344: UndefinedMetricWarning:\n",
      "\n",
      "Precision and F-score are ill-defined and being set to 0.0 in labels with no predicted samples. Use `zero_division` parameter to control this behavior.\n",
      "\n",
      "/home/lippincm/miniconda3/envs/Interstellar/lib/python3.10/site-packages/sklearn/metrics/_classification.py:1344: UndefinedMetricWarning:\n",
      "\n",
      "Precision and F-score are ill-defined and being set to 0.0 in labels with no predicted samples. Use `zero_division` parameter to control this behavior.\n",
      "\n",
      "/home/lippincm/miniconda3/envs/Interstellar/lib/python3.10/site-packages/sklearn/metrics/_classification.py:1344: UndefinedMetricWarning:\n",
      "\n",
      "Precision and F-score are ill-defined and being set to 0.0 in labels with no predicted samples. Use `zero_division` parameter to control this behavior.\n",
      "\n"
     ]
    },
    {
     "name": "stdout",
     "output_type": "stream",
     "text": [
      "              precision    recall  f1-score   support\n",
      "\n",
      "           0       0.12      0.82      0.21      3564\n",
      "           1       0.00      0.00      0.00      1578\n",
      "           2       0.30      0.31      0.30      1672\n",
      "           3       0.00      0.00      0.00      1646\n",
      "           4       0.10      0.02      0.03      1598\n",
      "           5       0.37      0.44      0.40      1651\n",
      "           6       0.16      0.15      0.16      1761\n",
      "           7       0.00      0.00      0.00      1493\n",
      "           8       0.00      0.00      0.00      1581\n",
      "           9       0.76      0.64      0.70      1288\n",
      "          10       0.14      0.19      0.16      2690\n",
      "          11       0.40      0.11      0.17      1176\n",
      "          12       0.67      0.48      0.56      1475\n",
      "          13       0.00      0.00      0.00      1586\n",
      "          14       0.00      0.00      0.00      1751\n",
      "          15       0.00      0.00      0.00      1646\n",
      "          16       0.00      0.00      0.00      1681\n",
      "          17       0.16      0.19      0.17      1632\n",
      "          18       0.21      0.37      0.27      1617\n",
      "          19       0.26      0.00      0.01      1464\n",
      "          20       0.29      0.20      0.24      1674\n",
      "          21       0.33      0.32      0.33      1599\n",
      "          22       0.61      0.52      0.56      1622\n",
      "          23       0.35      0.75      0.47      1440\n",
      "          24       0.39      0.57      0.47      1241\n",
      "          25       0.73      0.60      0.66      1446\n",
      "          26       0.40      0.06      0.10      1365\n",
      "          27       0.32      0.32      0.32      1469\n",
      "          28       0.81      0.42      0.55      1368\n",
      "          29       0.45      0.80      0.58      1673\n",
      "          30       0.17      0.10      0.12      1377\n",
      "          31       0.46      0.71      0.56      1321\n",
      "          32       0.00      0.00      0.00      1708\n",
      "          33       0.00      0.00      0.00      1795\n",
      "          34       0.00      0.00      0.00      1751\n",
      "          35       0.10      0.01      0.01      2392\n",
      "\n",
      "    accuracy                           0.26     59791\n",
      "   macro avg       0.25      0.25      0.23     59791\n",
      "weighted avg       0.23      0.26      0.21     59791\n",
      "\n",
      "Precision for class 0: 0.11883198635422165\n",
      "Recall for class 0: 0.8209876543209876\n",
      "Precision for class 1: 0.0\n",
      "Recall for class 1: 0.0\n",
      "Precision for class 2: 0.29805491990846683\n",
      "Recall for class 2: 0.3116028708133971\n"
     ]
    },
    {
     "name": "stderr",
     "output_type": "stream",
     "text": [
      "/home/lippincm/miniconda3/envs/Interstellar/lib/python3.10/site-packages/sklearn/metrics/_classification.py:1344: UndefinedMetricWarning:\n",
      "\n",
      "Precision is ill-defined and being set to 0.0 due to no predicted samples. Use `zero_division` parameter to control this behavior.\n",
      "\n"
     ]
    },
    {
     "name": "stdout",
     "output_type": "stream",
     "text": [
      "Precision for class 3: 0.0\n",
      "Recall for class 3: 0.0\n",
      "Precision for class 4: 0.09764309764309764\n",
      "Recall for class 4: 0.018147684605757195\n",
      "Precision for class 5: 0.36736736736736736\n",
      "Recall for class 5: 0.44457904300423984\n",
      "Precision for class 6: 0.16492949110974864\n",
      "Recall for class 6: 0.15275411697898922\n",
      "Precision for class 7: 0.0\n",
      "Recall for class 7: 0.0\n",
      "Precision for class 8: 0.0\n",
      "Recall for class 8: 0.0\n"
     ]
    },
    {
     "name": "stderr",
     "output_type": "stream",
     "text": [
      "/home/lippincm/miniconda3/envs/Interstellar/lib/python3.10/site-packages/sklearn/metrics/_classification.py:1344: UndefinedMetricWarning:\n",
      "\n",
      "Precision is ill-defined and being set to 0.0 due to no predicted samples. Use `zero_division` parameter to control this behavior.\n",
      "\n",
      "/home/lippincm/miniconda3/envs/Interstellar/lib/python3.10/site-packages/sklearn/metrics/_classification.py:1344: UndefinedMetricWarning:\n",
      "\n",
      "Precision is ill-defined and being set to 0.0 due to no predicted samples. Use `zero_division` parameter to control this behavior.\n",
      "\n"
     ]
    },
    {
     "name": "stdout",
     "output_type": "stream",
     "text": [
      "Precision for class 9: 0.7644320297951583\n",
      "Recall for class 9: 0.6374223602484472\n",
      "Precision for class 10: 0.13764961915125137\n",
      "Recall for class 10: 0.18810408921933086\n",
      "Precision for class 11: 0.3968253968253968\n",
      "Recall for class 11: 0.10629251700680271\n",
      "Precision for class 12: 0.6701127819548872\n",
      "Recall for class 12: 0.48338983050847456\n",
      "Precision for class 13: 0.0\n",
      "Recall for class 13: 0.0\n",
      "Precision for class 14: 0.0\n",
      "Recall for class 14: 0.0\n"
     ]
    },
    {
     "name": "stderr",
     "output_type": "stream",
     "text": [
      "/home/lippincm/miniconda3/envs/Interstellar/lib/python3.10/site-packages/sklearn/metrics/_classification.py:1344: UndefinedMetricWarning:\n",
      "\n",
      "Precision is ill-defined and being set to 0.0 due to no predicted samples. Use `zero_division` parameter to control this behavior.\n",
      "\n",
      "/home/lippincm/miniconda3/envs/Interstellar/lib/python3.10/site-packages/sklearn/metrics/_classification.py:1344: UndefinedMetricWarning:\n",
      "\n",
      "Precision is ill-defined and being set to 0.0 due to no predicted samples. Use `zero_division` parameter to control this behavior.\n",
      "\n",
      "/home/lippincm/miniconda3/envs/Interstellar/lib/python3.10/site-packages/sklearn/metrics/_classification.py:1344: UndefinedMetricWarning:\n",
      "\n",
      "Precision is ill-defined and being set to 0.0 due to no predicted samples. Use `zero_division` parameter to control this behavior.\n",
      "\n"
     ]
    },
    {
     "name": "stdout",
     "output_type": "stream",
     "text": [
      "Precision for class 15: 0.0\n",
      "Recall for class 15: 0.0\n",
      "Precision for class 16: 0.0\n",
      "Recall for class 16: 0.0\n",
      "Precision for class 17: 0.15933781686497675\n",
      "Recall for class 17: 0.18872549019607843\n"
     ]
    },
    {
     "name": "stderr",
     "output_type": "stream",
     "text": [
      "/home/lippincm/miniconda3/envs/Interstellar/lib/python3.10/site-packages/sklearn/metrics/_classification.py:1344: UndefinedMetricWarning:\n",
      "\n",
      "Precision is ill-defined and being set to 0.0 due to no predicted samples. Use `zero_division` parameter to control this behavior.\n",
      "\n"
     ]
    },
    {
     "name": "stdout",
     "output_type": "stream",
     "text": [
      "Precision for class 18: 0.21157969978556113\n",
      "Recall for class 18: 0.3661100803957947\n",
      "Precision for class 19: 0.2608695652173913\n",
      "Recall for class 19: 0.004098360655737705\n",
      "Precision for class 20: 0.2918492550394391\n",
      "Recall for class 20: 0.1989247311827957\n",
      "Precision for class 21: 0.33099041533546325\n",
      "Recall for class 21: 0.3239524702939337\n",
      "Precision for class 22: 0.6082916368834882\n",
      "Recall for class 22: 0.5246609124537608\n",
      "Precision for class 23: 0.34628862695125834\n",
      "Recall for class 23: 0.7548611111111111\n",
      "Precision for class 24: 0.39228650137741045\n",
      "Recall for class 24: 0.5737308622078968\n",
      "Precision for class 25: 0.7348484848484848\n",
      "Recall for class 25: 0.6037344398340249\n",
      "Precision for class 26: 0.39690721649484534\n",
      "Recall for class 26: 0.05641025641025641\n",
      "Precision for class 27: 0.31900604432505036\n",
      "Recall for class 27: 0.3233492171545269\n",
      "Precision for class 28: 0.8072625698324022\n",
      "Recall for class 28: 0.42251461988304095\n",
      "Precision for class 29: 0.45494579945799457\n",
      "Recall for class 29: 0.8027495517035266\n",
      "Precision for class 30: 0.1652593486127865\n",
      "Recall for class 30: 0.09949164851125636\n",
      "Precision for class 31: 0.4592881521209166\n",
      "Recall for class 31: 0.7130961392884179\n",
      "Precision for class 32: 0.0\n",
      "Recall for class 32: 0.0\n"
     ]
    },
    {
     "name": "stderr",
     "output_type": "stream",
     "text": [
      "/home/lippincm/miniconda3/envs/Interstellar/lib/python3.10/site-packages/sklearn/metrics/_classification.py:1344: UndefinedMetricWarning:\n",
      "\n",
      "Precision is ill-defined and being set to 0.0 due to no predicted samples. Use `zero_division` parameter to control this behavior.\n",
      "\n",
      "/home/lippincm/miniconda3/envs/Interstellar/lib/python3.10/site-packages/sklearn/metrics/_classification.py:1344: UndefinedMetricWarning:\n",
      "\n",
      "Precision is ill-defined and being set to 0.0 due to no predicted samples. Use `zero_division` parameter to control this behavior.\n",
      "\n",
      "/home/lippincm/miniconda3/envs/Interstellar/lib/python3.10/site-packages/sklearn/metrics/_classification.py:1344: UndefinedMetricWarning:\n",
      "\n",
      "Precision is ill-defined and being set to 0.0 due to no predicted samples. Use `zero_division` parameter to control this behavior.\n",
      "\n"
     ]
    },
    {
     "name": "stdout",
     "output_type": "stream",
     "text": [
      "Precision for class 33: 0.0\n",
      "Recall for class 33: 0.0\n",
      "Precision for class 34: 0.0\n",
      "Recall for class 34: 0.0\n",
      "Precision for class 35: 0.09848484848484848\n",
      "Recall for class 35: 0.005434782608695652\n",
      "36\n"
     ]
    },
    {
     "data": {
      "image/png": "[encoded data removed]",
      "text/plain": [
       "<Figure size 640x480 with 2 Axes>"
      ]
     },
     "metadata": {},
     "output_type": "display_data"
    },
    {
     "data": {
      "image/png": "[encoded data removed]",
      "text/plain": [
       "<Figure size 640x480 with 1 Axes>"
      ]
     },
     "metadata": {},
     "output_type": "display_data"
    }
   ],
   "source": [
    "# Call visualization function\n",
    "# calling the testing function and outputing list values of tested model\n",
    "if params.MODEL_TYPE == \"Multi_Class\" or params.MODEL_TYPE == \"Regression\":\n",
    "    confusion_matrix_df = results_output(y_pred_list, Y_test, params)\n",
    "elif params.MODEL_TYPE == \"Binary_Classification\":\n",
    "    results_output(y_pred_list, Y_test, params, y_pred_prob_list)\n",
    "else:\n",
    "    raise Exception(\"Model type must be specified for proper model testing\")"
   ]
  }
 ],
 "metadata": {
  "jupytext": {
   "cell_metadata_filter": "-all",
   "encoding": "# coding: utf-8",
   "executable": "/usr/bin/env python",
   "formats": "ipynb,py",
   "main_language": "python"
  },
  "kernelspec": {
   "display_name": "Python 3 (ipykernel)",
   "language": "python",
   "name": "python3"
  },
  "language_info": {
   "codemirror_mode": {
    "name": "ipython",
    "version": 3
   },
   "file_extension": ".py",
   "mimetype": "text/x-python",
   "name": "python",
   "nbconvert_exporter": "python",
   "pygments_lexer": "ipython3",
   "version": "3.10.10"
  },
  "vscode": {
   "interpreter": {
    "hash": "72ae02083a9ca7d143c492d1aec380c7bf553ec51bd66e90e72bba65228121b6"
   }
  }
 },
 "nbformat": 4,
 "nbformat_minor": 5
}
