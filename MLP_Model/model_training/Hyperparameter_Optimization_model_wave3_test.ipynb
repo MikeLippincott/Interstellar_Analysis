{
 "cells": [
  {
   "attachments": {},
   "cell_type": "markdown",
   "id": "8e60628c",
   "metadata": {},
   "source": [
    "## Hyperparameter tuning via Optuna"
   ]
  },
  {
   "cell_type": "markdown",
   "id": "8fac71a5",
   "metadata": {},
   "source": [
    "### Being a binary model this notebook will be limited to predicting one class 1 or 0, yes or no.\n",
    "### Here I will be predicting if a cell received a treatment or not"
   ]
  },
  {
   "cell_type": "code",
   "execution_count": 1,
   "id": "860a61dd",
   "metadata": {},
   "outputs": [],
   "source": [
    "import sys\n",
    "from pathlib import Path\n",
    "\n",
    "import matplotlib.pyplot as plt\n",
    "import numpy as np\n",
    "import optuna\n",
    "import pandas as pd\n",
    "import plotly\n",
    "import seaborn as sns\n",
    "import toml\n",
    "import torch\n",
    "import torch.nn as nn\n",
    "import torch.optim as optim\n",
    "from sklearn import preprocessing\n",
    "\n",
    "from sklearn.model_selection import train_test_split\n",
    "\n",
    "sys.path.append(\"..\")\n",
    "from MLP_utils.parameters import Parameters\n",
    "from sklearn.metrics import confusion_matrix\n",
    "from sklearn.metrics import precision_score, recall_score\n",
    "from sklearn.metrics import roc_auc_score\n",
    "\n",
    "from sklearn.metrics import roc_curve, auc\n",
    "\n",
    "\n",
    "from MLP_utils.utils import (\n",
    "    Dataset_formatter,\n",
    "    data_split,\n",
    "    extract_best_trial_params,\n",
    "    objective_model_optimizer,\n",
    "    optimized_model_create,\n",
    "    plot_metric_vs_epoch,\n",
    "    results_output,\n",
    "    test_optimized_model,\n",
    "    train_optimized_model,\n",
    "    un_nest,\n",
    ")\n",
    "\n",
    "from utils.utils import df_stats\n",
    "from MLP_utils.utils import parameter_set"
   ]
  },
  {
   "cell_type": "code",
   "execution_count": 2,
   "id": "44baa945",
   "metadata": {},
   "outputs": [],
   "source": [
    "# Import Data\n",
    "# set data file path under pathlib path for multi-system use\n",
    "file_path = Path(\n",
    "    \"../../Extracted_Features_(CSV_files)/interstellar_wave3_sc_norm_fs_cellprofiler.csv.gz\"\n",
    ")\n",
    "df = pd.read_csv(file_path, engine=\"pyarrow\")"
   ]
  },
  {
   "cell_type": "code",
   "execution_count": 3,
   "id": "394294ce",
   "metadata": {},
   "outputs": [],
   "source": [
    "data = Path(\"MLP_utils/config.toml\")\n",
    "config = toml.load(data)\n",
    "params = Parameters()\n",
    "params = parameter_set(params, config)"
   ]
  },
  {
   "attachments": {},
   "cell_type": "markdown",
   "id": "5c486e00",
   "metadata": {},
   "source": [
    "#### Set up Data to be compatible with model"
   ]
  },
  {
   "attachments": {},
   "cell_type": "markdown",
   "id": "95754baa",
   "metadata": {},
   "source": [
    "##### Classification Models:\n",
    "Comment out code if using regression"
   ]
  },
  {
   "cell_type": "code",
   "execution_count": 4,
   "id": "786e3a76",
   "metadata": {},
   "outputs": [
    {
     "name": "stdout",
     "output_type": "stream",
     "text": [
      "Unique Catagories are:\n",
      "['LPS_10µg/ml' 'Disulfiram_2.5µM' 'LPS_1µg/ml' 'Disulfiram_0.1µM'\n",
      " 'H2O2_500µM' 'Thapsi_10µM' 'H2O2_50µM' 'Thapsi_1µM' 'ATP_1mM'\n",
      " 'LPS + Nigericin_1µg/ml + 10µM' 'ATP_0.1mM'\n",
      " 'LPS + Nigericin_1µg/ml + 1µM' 'Flagellin_1µg/ml' 'DMSO 0.1%_0'\n",
      " 'Flagellin_0.1µg/ml' 'Media only_0']\n",
      "Selected Catagories are:\n",
      "['LPS_10µg/ml' 'Disulfiram_2.5µM' 'Media only_0']\n",
      "The dimensions of the data are: (50049, 569)\n",
      "Number of total missing values across all columns: 0\n",
      "Data Subset Is Off\n"
     ]
    }
   ],
   "source": [
    "# Combine treatment with dosage to be able to discern treatments with different doses as a different condition\n",
    "# Combine treatment and dose\n",
    "df = df.assign(\n",
    "    Metadata_Treatment_and_Dose=lambda x: df[\"Metadata_treatment\"]\n",
    "    + \"_\"\n",
    "    + df[\"Metadata_dose\"]\n",
    ")\n",
    "\n",
    "print(\"Unique Catagories are:\")\n",
    "print(df[\"Metadata_Treatment_and_Dose\"].unique())\n",
    "\n",
    "# Generate df specific to analysis and model\n",
    "df = df.query(\n",
    "    \"Metadata_Treatment_and_Dose == 'LPS_10µg/ml'| Metadata_Treatment_and_Dose == 'Media only_0' | Metadata_Treatment_and_Dose == 'Disulfiram_2.5µM'\"\n",
    ")\n",
    "# for binary classification testing\n",
    "# df = df.query(\n",
    "#     \"Metadata_Treatment_and_Dose == 'LPS_10µg/ml'| Metadata_Treatment_and_Dose == 'Media only_0'\"\n",
    "# )\n",
    "print(\"Selected Catagories are:\")\n",
    "print(df[\"Metadata_Treatment_and_Dose\"].unique())\n",
    "# Drop na and reindex accordingly\n",
    "df = df.dropna()\n",
    "df = df.reset_index(drop=True)\n",
    "\n",
    "# Check for Nans again\n",
    "df_stats(df)\n",
    "\n",
    "# Understand categorical data such as treatment and dosing\n",
    "df[[\"Metadata_Treatment_and_Dose\"]].drop_duplicates()\n",
    "\n",
    "if params.DATA_SUBSET_OPTION == \"True\":\n",
    "    df = df.sample(n=params.DATA_SUBSET_NUMBER)\n",
    "    print(\"Data Subset Is On\")\n",
    "    print(f\"Data is subset to {params.DATA_SUBSET_NUMBER}\")\n",
    "else:\n",
    "    print(\"Data Subset Is Off\")\n",
    "\n",
    "# Code snippet for metadata extraction by Jenna Tomkinson\n",
    "df_metadata = list(df.columns[df.columns.str.startswith(\"Metadata\")])\n",
    "\n",
    "# define which columns are data and which are descriptive\n",
    "df_descriptive = df[df_metadata]\n",
    "df_values = df.drop(columns=df_metadata)"
   ]
  },
  {
   "cell_type": "code",
   "execution_count": 5,
   "id": "595afb65",
   "metadata": {},
   "outputs": [],
   "source": [
    "# Creating label encoder\n",
    "le = preprocessing.LabelEncoder()\n",
    "# Converting strings into numbers\n",
    "df_values[\"Metadata_Treatment_and_Dose\"] = le.fit_transform(\n",
    "    df_descriptive[\"Metadata_Treatment_and_Dose\"]\n",
    ")\n",
    "# split into X and Y where Y are the predictive column and x are the observable data\n",
    "df_values_X = df_values.drop(\"Metadata_Treatment_and_Dose\", axis=1)\n",
    "df_values_Y = df_values[\"Metadata_Treatment_and_Dose\"]"
   ]
  },
  {
   "attachments": {},
   "cell_type": "markdown",
   "id": "633673ce",
   "metadata": {},
   "source": [
    "##### Regression Model Data Wrangling and Set Up\n",
    "comment out if not using regression"
   ]
  },
  {
   "cell_type": "code",
   "execution_count": 6,
   "id": "e2df24ec",
   "metadata": {},
   "outputs": [],
   "source": [
    "# if params.DATA_SUBSET_OPTION == 'True':\n",
    "#     df = df.sample(n=params.DATA_SUBSET_NUMBER)\n",
    "#     print(\"yes\")\n",
    "# else:\n",
    "#     pass\n",
    "# df_stats(df)\n",
    "# # Drop na and reindex accordingly\n",
    "# df = df.dropna()\n",
    "# df = df.reset_index(drop=True)\n",
    "\n",
    "# # Check for Nans again\n",
    "# df_stats(df)\n",
    "# # Code snippet for metadata extraction by Jenna Tomkinson\n",
    "# df_metadata = list(df.columns[df.columns.str.startswith(\"Metadata\")])\n",
    "# # define which columns are data and which are descriptive\n",
    "# df_descriptive = df[df_metadata]\n",
    "# df_values = df.drop(columns=df_metadata)\n",
    "# df_values_Y = df_values['Nuclei_Texture_InverseDifferenceMoment_CorrER_3_01_256']\n",
    "# df_values_X = df_values.drop('Nuclei_Texture_InverseDifferenceMoment_CorrER_3_01_256', axis=1)"
   ]
  },
  {
   "attachments": {},
   "cell_type": "markdown",
   "id": "260a048e",
   "metadata": {},
   "source": [
    "#### Split Data - All Models can proceed through this point"
   ]
  },
  {
   "cell_type": "code",
   "execution_count": 7,
   "id": "f4feb87f",
   "metadata": {},
   "outputs": [],
   "source": [
    "X_train, X_test, X_val, Y_train, Y_test, Y_val = data_split(\n",
    "    X_vals=df_values_X,\n",
    "    y_vals=df_values_Y,\n",
    "    train_proportion=0.8,\n",
    "    val_proportion=0.1,\n",
    "    test_proportion=0.1,\n",
    "    seed=1,\n",
    "    params=params,\n",
    ")"
   ]
  },
  {
   "cell_type": "code",
   "execution_count": 8,
   "id": "36894826",
   "metadata": {},
   "outputs": [],
   "source": [
    "# produce data objects for train, val and test datasets\n",
    "train_data = Dataset_formatter(\n",
    "    torch.FloatTensor(X_train.values), torch.FloatTensor(Y_train.values)\n",
    ")\n",
    "val_data = Dataset_formatter(\n",
    "    torch.FloatTensor(X_val.values), torch.FloatTensor(Y_val.values)\n",
    ")\n",
    "test_data = Dataset_formatter(\n",
    "    torch.FloatTensor(X_test.values), torch.FloatTensor(Y_test.values)\n",
    ")"
   ]
  },
  {
   "cell_type": "code",
   "execution_count": 9,
   "id": "4382d712",
   "metadata": {},
   "outputs": [
    {
     "name": "stdout",
     "output_type": "stream",
     "text": [
      "Number of in features:  555\n",
      "Number of out features:  3\n",
      "Multi_Class\n"
     ]
    }
   ],
   "source": [
    "params.IN_FEATURES = X_train.shape[1]\n",
    "print(\"Number of in features: \", params.IN_FEATURES)\n",
    "if params.MODEL_TYPE == \"Regression\":\n",
    "    params.OUT_FEATURES = 1\n",
    "else:\n",
    "    params.OUT_FEATURES = len(df_values[\"Metadata_Treatment_and_Dose\"].unique())\n",
    "\n",
    "print(\"Number of out features: \", params.OUT_FEATURES)\n",
    "\n",
    "if params.OUT_FEATURES > 2:\n",
    "    params.MODEL_TYPE = \"Multi_Class\"\n",
    "elif params.OUT_FEATURES == 2:\n",
    "    params.OUT_FEATURES = params.OUT_FEATURES - 1\n",
    "    params.MODEL_TYPE = \"Binary_Classification\"\n",
    "elif params.OUT_FEATURES == 1:\n",
    "    params.MODEL_TYPE = \"Regression\"\n",
    "else:\n",
    "    pass\n",
    "print(params.MODEL_TYPE)"
   ]
  },
  {
   "cell_type": "code",
   "execution_count": 10,
   "id": "77effa5c",
   "metadata": {},
   "outputs": [],
   "source": [
    "# convert data class into a dataloader to be compatible with pytorch\n",
    "train_loader = torch.utils.data.DataLoader(\n",
    "    dataset=train_data, batch_size=params.BATCH_SIZE\n",
    ")\n",
    "valid_loader = torch.utils.data.DataLoader(\n",
    "    dataset=val_data, batch_size=params.BATCH_SIZE\n",
    ")\n",
    "test_loader = torch.utils.data.DataLoader(dataset=test_data, batch_size=1)"
   ]
  },
  {
   "cell_type": "code",
   "execution_count": 11,
   "id": "a969042f",
   "metadata": {},
   "outputs": [
    {
     "name": "stderr",
     "output_type": "stream",
     "text": [
      "\u001b[32m[I 2023-04-12 08:55:15,476]\u001b[0m A new study created in memory with name: no-name-39a313ac-5789-4570-99cf-4f3f2363da83\u001b[0m\n",
      "\u001b[32m[I 2023-04-12 08:55:36,073]\u001b[0m Trial 0 finished with value: 0.783629340926806 and parameters: {'n_layers': 2, 'n_units_l0': 4, 'dropout_0': 0.2635782466082889, 'n_units_l1': 6, 'dropout_1': 0.10401956981023165, 'learning_rate': 0.099393805399036, 'optimizer': 'SGD'}. Best is trial 0 with value: 0.783629340926806.\u001b[0m\n",
      "\u001b[32m[I 2023-04-12 08:55:55,122]\u001b[0m Trial 1 finished with value: 0.9632613013188043 and parameters: {'n_layers': 3, 'n_units_l0': 7, 'dropout_0': 0.1709847551270531, 'n_units_l1': 4, 'dropout_1': 0.29305132307907017, 'n_units_l2': 2, 'dropout_2': 0.21384142704291526, 'learning_rate': 0.025468047474127956, 'optimizer': 'SGD'}. Best is trial 0 with value: 0.783629340926806.\u001b[0m\n",
      "\u001b[32m[I 2023-04-12 08:56:14,766]\u001b[0m Trial 2 finished with value: 0.9088526328404744 and parameters: {'n_layers': 3, 'n_units_l0': 10, 'dropout_0': 0.2977125279659777, 'n_units_l1': 4, 'dropout_1': 0.1878479827235135, 'n_units_l2': 10, 'dropout_2': 0.21206618405248304, 'learning_rate': 0.026448058277786228, 'optimizer': 'RMSprop'}. Best is trial 0 with value: 0.783629340926806.\u001b[0m\n",
      "\u001b[32m[I 2023-04-12 08:56:32,691]\u001b[0m Trial 3 finished with value: 1.2075280106067658 and parameters: {'n_layers': 1, 'n_units_l0': 3, 'dropout_0': 0.25394597529567886, 'learning_rate': 0.00012753927178572953, 'optimizer': 'SGD'}. Best is trial 0 with value: 0.783629340926806.\u001b[0m\n",
      "\u001b[32m[I 2023-04-12 08:56:51,812]\u001b[0m Trial 4 finished with value: 1.019683441122373 and parameters: {'n_layers': 3, 'n_units_l0': 6, 'dropout_0': 0.39902222930833753, 'n_units_l1': 3, 'dropout_1': 0.37353928166172967, 'n_units_l2': 9, 'dropout_2': 0.3698271972313808, 'learning_rate': 0.021371080799743203, 'optimizer': 'SGD'}. Best is trial 0 with value: 0.783629340926806.\u001b[0m\n",
      "\u001b[32m[I 2023-04-12 08:57:10,244]\u001b[0m Trial 5 finished with value: 0.9324858307838438 and parameters: {'n_layers': 1, 'n_units_l0': 3, 'dropout_0': 0.38489688800336497, 'learning_rate': 0.03527856123822524, 'optimizer': 'RMSprop'}. Best is trial 0 with value: 0.783629340926806.\u001b[0m\n",
      "\u001b[32m[I 2023-04-12 08:57:18,906]\u001b[0m Trial 6 pruned. \u001b[0m\n",
      "\u001b[32m[I 2023-04-12 08:57:19,319]\u001b[0m Trial 7 pruned. \u001b[0m\n",
      "\u001b[32m[I 2023-04-12 08:57:19,727]\u001b[0m Trial 8 pruned. \u001b[0m\n",
      "\u001b[32m[I 2023-04-12 08:57:39,298]\u001b[0m Trial 9 finished with value: 0.8402276746431987 and parameters: {'n_layers': 2, 'n_units_l0': 5, 'dropout_0': 0.3970108766640831, 'n_units_l1': 7, 'dropout_1': 0.27779362938528185, 'learning_rate': 0.0981468854574352, 'optimizer': 'SGD'}. Best is trial 0 with value: 0.783629340926806.\u001b[0m\n"
     ]
    },
    {
     "name": "stdout",
     "output_type": "stream",
     "text": [
      "Validation Accuracy: 65.70829170829171\n",
      "Validation Loss: 0.8256864160299302\n",
      "Training Accuracy: 62.21703838757212\n",
      "Training Loss: 0.8440469728010457\n"
     ]
    },
    {
     "data": {
      "text/plain": [
       "(65.70829170829171, 0.8256864160299302, 62.21703838757212, 0.8440469728010457)"
      ]
     },
     "execution_count": 11,
     "metadata": {},
     "output_type": "execute_result"
    }
   ],
   "source": [
    "# no accuracy function must be loss for regression\n",
    "if params.MODEL_TYPE == \"Regression\":\n",
    "    params.METRIC = \"loss\"\n",
    "    params.DIRECTION = \"minimize\"\n",
    "else:\n",
    "    pass\n",
    "\n",
    "\n",
    "# wrap the objective function inside of a lambda function to pass args...\n",
    "objective_lambda_func = lambda trial: objective_model_optimizer(\n",
    "    train_loader,\n",
    "    valid_loader,\n",
    "    trial=trial,\n",
    "    params=params,\n",
    "    metric=params.METRIC,\n",
    "    return_info=False,\n",
    ")\n",
    "\n",
    "\n",
    "# Study is the object for model optimization\n",
    "study = optuna.create_study(direction=f\"{params.DIRECTION}\")\n",
    "# Here I apply the optimize function of the study to the objective function\n",
    "# This optimizes each parameter specified to be optimized from the defined search space\n",
    "study.optimize(objective_lambda_func, n_trials=params.N_TRIALS)\n",
    "# Prints out the best trial's optimized parameters\n",
    "objective_model_optimizer(\n",
    "    train_loader,\n",
    "    valid_loader,\n",
    "    trial=study.best_trial,\n",
    "    params=params,\n",
    "    metric=params.METRIC,\n",
    "    return_info=True,\n",
    ")"
   ]
  },
  {
   "cell_type": "code",
   "execution_count": 12,
   "id": "b2620589",
   "metadata": {},
   "outputs": [
    {
     "data": {
      "application/vnd.plotly.v1+json": {
       "config": {
        "plotlyServerURL": "https://plot.ly"
       },
       "data": [
        {
         "mode": "markers",
         "name": "Objective Value",
         "type": "scatter",
         "x": [
          0,
          1,
          2,
          3,
          4,
          5,
          9
         ],
         "y": [
          0.783629340926806,
          0.9632613013188043,
          0.9088526328404744,
          1.2075280106067658,
          1.019683441122373,
          0.9324858307838438,
          0.8402276746431987
         ]
        },
        {
         "name": "Best Value",
         "type": "scatter",
         "x": [
          0,
          1,
          2,
          3,
          4,
          5,
          9
         ],
         "y": [
          0.783629340926806,
          0.783629340926806,
          0.783629340926806,
          0.783629340926806,
          0.783629340926806,
          0.783629340926806,
          0.783629340926806
         ]
        }
       ],
       "layout": {
        "template": {
         "data": {
          "bar": [
           {
            "error_x": {
             "color": "#2a3f5f"
            },
            "error_y": {
             "color": "#2a3f5f"
            },
            "marker": {
             "line": {
              "color": "#E5ECF6",
              "width": 0.5
             },
             "pattern": {
              "fillmode": "overlay",
              "size": 10,
              "solidity": 0.2
             }
            },
            "type": "bar"
           }
          ],
          "barpolar": [
           {
            "marker": {
             "line": {
              "color": "#E5ECF6",
              "width": 0.5
             },
             "pattern": {
              "fillmode": "overlay",
              "size": 10,
              "solidity": 0.2
             }
            },
            "type": "barpolar"
           }
          ],
          "carpet": [
           {
            "aaxis": {
             "endlinecolor": "#2a3f5f",
             "gridcolor": "white",
             "linecolor": "white",
             "minorgridcolor": "white",
             "startlinecolor": "#2a3f5f"
            },
            "baxis": {
             "endlinecolor": "#2a3f5f",
             "gridcolor": "white",
             "linecolor": "white",
             "minorgridcolor": "white",
             "startlinecolor": "#2a3f5f"
            },
            "type": "carpet"
           }
          ],
          "choropleth": [
           {
            "colorbar": {
             "outlinewidth": 0,
             "ticks": ""
            },
            "type": "choropleth"
           }
          ],
          "contour": [
           {
            "colorbar": {
             "outlinewidth": 0,
             "ticks": ""
            },
            "colorscale": [
             [
              0,
              "#0d0887"
             ],
             [
              0.1111111111111111,
              "#46039f"
             ],
             [
              0.2222222222222222,
              "#7201a8"
             ],
             [
              0.3333333333333333,
              "#9c179e"
             ],
             [
              0.4444444444444444,
              "#bd3786"
             ],
             [
              0.5555555555555556,
              "#d8576b"
             ],
             [
              0.6666666666666666,
              "#ed7953"
             ],
             [
              0.7777777777777778,
              "#fb9f3a"
             ],
             [
              0.8888888888888888,
              "#fdca26"
             ],
             [
              1,
              "#f0f921"
             ]
            ],
            "type": "contour"
           }
          ],
          "contourcarpet": [
           {
            "colorbar": {
             "outlinewidth": 0,
             "ticks": ""
            },
            "type": "contourcarpet"
           }
          ],
          "heatmap": [
           {
            "colorbar": {
             "outlinewidth": 0,
             "ticks": ""
            },
            "colorscale": [
             [
              0,
              "#0d0887"
             ],
             [
              0.1111111111111111,
              "#46039f"
             ],
             [
              0.2222222222222222,
              "#7201a8"
             ],
             [
              0.3333333333333333,
              "#9c179e"
             ],
             [
              0.4444444444444444,
              "#bd3786"
             ],
             [
              0.5555555555555556,
              "#d8576b"
             ],
             [
              0.6666666666666666,
              "#ed7953"
             ],
             [
              0.7777777777777778,
              "#fb9f3a"
             ],
             [
              0.8888888888888888,
              "#fdca26"
             ],
             [
              1,
              "#f0f921"
             ]
            ],
            "type": "heatmap"
           }
          ],
          "heatmapgl": [
           {
            "colorbar": {
             "outlinewidth": 0,
             "ticks": ""
            },
            "colorscale": [
             [
              0,
              "#0d0887"
             ],
             [
              0.1111111111111111,
              "#46039f"
             ],
             [
              0.2222222222222222,
              "#7201a8"
             ],
             [
              0.3333333333333333,
              "#9c179e"
             ],
             [
              0.4444444444444444,
              "#bd3786"
             ],
             [
              0.5555555555555556,
              "#d8576b"
             ],
             [
              0.6666666666666666,
              "#ed7953"
             ],
             [
              0.7777777777777778,
              "#fb9f3a"
             ],
             [
              0.8888888888888888,
              "#fdca26"
             ],
             [
              1,
              "#f0f921"
             ]
            ],
            "type": "heatmapgl"
           }
          ],
          "histogram": [
           {
            "marker": {
             "pattern": {
              "fillmode": "overlay",
              "size": 10,
              "solidity": 0.2
             }
            },
            "type": "histogram"
           }
          ],
          "histogram2d": [
           {
            "colorbar": {
             "outlinewidth": 0,
             "ticks": ""
            },
            "colorscale": [
             [
              0,
              "#0d0887"
             ],
             [
              0.1111111111111111,
              "#46039f"
             ],
             [
              0.2222222222222222,
              "#7201a8"
             ],
             [
              0.3333333333333333,
              "#9c179e"
             ],
             [
              0.4444444444444444,
              "#bd3786"
             ],
             [
              0.5555555555555556,
              "#d8576b"
             ],
             [
              0.6666666666666666,
              "#ed7953"
             ],
             [
              0.7777777777777778,
              "#fb9f3a"
             ],
             [
              0.8888888888888888,
              "#fdca26"
             ],
             [
              1,
              "#f0f921"
             ]
            ],
            "type": "histogram2d"
           }
          ],
          "histogram2dcontour": [
           {
            "colorbar": {
             "outlinewidth": 0,
             "ticks": ""
            },
            "colorscale": [
             [
              0,
              "#0d0887"
             ],
             [
              0.1111111111111111,
              "#46039f"
             ],
             [
              0.2222222222222222,
              "#7201a8"
             ],
             [
              0.3333333333333333,
              "#9c179e"
             ],
             [
              0.4444444444444444,
              "#bd3786"
             ],
             [
              0.5555555555555556,
              "#d8576b"
             ],
             [
              0.6666666666666666,
              "#ed7953"
             ],
             [
              0.7777777777777778,
              "#fb9f3a"
             ],
             [
              0.8888888888888888,
              "#fdca26"
             ],
             [
              1,
              "#f0f921"
             ]
            ],
            "type": "histogram2dcontour"
           }
          ],
          "mesh3d": [
           {
            "colorbar": {
             "outlinewidth": 0,
             "ticks": ""
            },
            "type": "mesh3d"
           }
          ],
          "parcoords": [
           {
            "line": {
             "colorbar": {
              "outlinewidth": 0,
              "ticks": ""
             }
            },
            "type": "parcoords"
           }
          ],
          "pie": [
           {
            "automargin": true,
            "type": "pie"
           }
          ],
          "scatter": [
           {
            "fillpattern": {
             "fillmode": "overlay",
             "size": 10,
             "solidity": 0.2
            },
            "type": "scatter"
           }
          ],
          "scatter3d": [
           {
            "line": {
             "colorbar": {
              "outlinewidth": 0,
              "ticks": ""
             }
            },
            "marker": {
             "colorbar": {
              "outlinewidth": 0,
              "ticks": ""
             }
            },
            "type": "scatter3d"
           }
          ],
          "scattercarpet": [
           {
            "marker": {
             "colorbar": {
              "outlinewidth": 0,
              "ticks": ""
             }
            },
            "type": "scattercarpet"
           }
          ],
          "scattergeo": [
           {
            "marker": {
             "colorbar": {
              "outlinewidth": 0,
              "ticks": ""
             }
            },
            "type": "scattergeo"
           }
          ],
          "scattergl": [
           {
            "marker": {
             "colorbar": {
              "outlinewidth": 0,
              "ticks": ""
             }
            },
            "type": "scattergl"
           }
          ],
          "scattermapbox": [
           {
            "marker": {
             "colorbar": {
              "outlinewidth": 0,
              "ticks": ""
             }
            },
            "type": "scattermapbox"
           }
          ],
          "scatterpolar": [
           {
            "marker": {
             "colorbar": {
              "outlinewidth": 0,
              "ticks": ""
             }
            },
            "type": "scatterpolar"
           }
          ],
          "scatterpolargl": [
           {
            "marker": {
             "colorbar": {
              "outlinewidth": 0,
              "ticks": ""
             }
            },
            "type": "scatterpolargl"
           }
          ],
          "scatterternary": [
           {
            "marker": {
             "colorbar": {
              "outlinewidth": 0,
              "ticks": ""
             }
            },
            "type": "scatterternary"
           }
          ],
          "surface": [
           {
            "colorbar": {
             "outlinewidth": 0,
             "ticks": ""
            },
            "colorscale": [
             [
              0,
              "#0d0887"
             ],
             [
              0.1111111111111111,
              "#46039f"
             ],
             [
              0.2222222222222222,
              "#7201a8"
             ],
             [
              0.3333333333333333,
              "#9c179e"
             ],
             [
              0.4444444444444444,
              "#bd3786"
             ],
             [
              0.5555555555555556,
              "#d8576b"
             ],
             [
              0.6666666666666666,
              "#ed7953"
             ],
             [
              0.7777777777777778,
              "#fb9f3a"
             ],
             [
              0.8888888888888888,
              "#fdca26"
             ],
             [
              1,
              "#f0f921"
             ]
            ],
            "type": "surface"
           }
          ],
          "table": [
           {
            "cells": {
             "fill": {
              "color": "#EBF0F8"
             },
             "line": {
              "color": "white"
             }
            },
            "header": {
             "fill": {
              "color": "#C8D4E3"
             },
             "line": {
              "color": "white"
             }
            },
            "type": "table"
           }
          ]
         },
         "layout": {
          "annotationdefaults": {
           "arrowcolor": "#2a3f5f",
           "arrowhead": 0,
           "arrowwidth": 1
          },
          "autotypenumbers": "strict",
          "coloraxis": {
           "colorbar": {
            "outlinewidth": 0,
            "ticks": ""
           }
          },
          "colorscale": {
           "diverging": [
            [
             0,
             "#8e0152"
            ],
            [
             0.1,
             "#c51b7d"
            ],
            [
             0.2,
             "#de77ae"
            ],
            [
             0.3,
             "#f1b6da"
            ],
            [
             0.4,
             "#fde0ef"
            ],
            [
             0.5,
             "#f7f7f7"
            ],
            [
             0.6,
             "#e6f5d0"
            ],
            [
             0.7,
             "#b8e186"
            ],
            [
             0.8,
             "#7fbc41"
            ],
            [
             0.9,
             "#4d9221"
            ],
            [
             1,
             "#276419"
            ]
           ],
           "sequential": [
            [
             0,
             "#0d0887"
            ],
            [
             0.1111111111111111,
             "#46039f"
            ],
            [
             0.2222222222222222,
             "#7201a8"
            ],
            [
             0.3333333333333333,
             "#9c179e"
            ],
            [
             0.4444444444444444,
             "#bd3786"
            ],
            [
             0.5555555555555556,
             "#d8576b"
            ],
            [
             0.6666666666666666,
             "#ed7953"
            ],
            [
             0.7777777777777778,
             "#fb9f3a"
            ],
            [
             0.8888888888888888,
             "#fdca26"
            ],
            [
             1,
             "#f0f921"
            ]
           ],
           "sequentialminus": [
            [
             0,
             "#0d0887"
            ],
            [
             0.1111111111111111,
             "#46039f"
            ],
            [
             0.2222222222222222,
             "#7201a8"
            ],
            [
             0.3333333333333333,
             "#9c179e"
            ],
            [
             0.4444444444444444,
             "#bd3786"
            ],
            [
             0.5555555555555556,
             "#d8576b"
            ],
            [
             0.6666666666666666,
             "#ed7953"
            ],
            [
             0.7777777777777778,
             "#fb9f3a"
            ],
            [
             0.8888888888888888,
             "#fdca26"
            ],
            [
             1,
             "#f0f921"
            ]
           ]
          },
          "colorway": [
           "#636efa",
           "#EF553B",
           "#00cc96",
           "#ab63fa",
           "#FFA15A",
           "#19d3f3",
           "#FF6692",
           "#B6E880",
           "#FF97FF",
           "#FECB52"
          ],
          "font": {
           "color": "#2a3f5f"
          },
          "geo": {
           "bgcolor": "white",
           "lakecolor": "white",
           "landcolor": "#E5ECF6",
           "showlakes": true,
           "showland": true,
           "subunitcolor": "white"
          },
          "hoverlabel": {
           "align": "left"
          },
          "hovermode": "closest",
          "mapbox": {
           "style": "light"
          },
          "paper_bgcolor": "white",
          "plot_bgcolor": "#E5ECF6",
          "polar": {
           "angularaxis": {
            "gridcolor": "white",
            "linecolor": "white",
            "ticks": ""
           },
           "bgcolor": "#E5ECF6",
           "radialaxis": {
            "gridcolor": "white",
            "linecolor": "white",
            "ticks": ""
           }
          },
          "scene": {
           "xaxis": {
            "backgroundcolor": "#E5ECF6",
            "gridcolor": "white",
            "gridwidth": 2,
            "linecolor": "white",
            "showbackground": true,
            "ticks": "",
            "zerolinecolor": "white"
           },
           "yaxis": {
            "backgroundcolor": "#E5ECF6",
            "gridcolor": "white",
            "gridwidth": 2,
            "linecolor": "white",
            "showbackground": true,
            "ticks": "",
            "zerolinecolor": "white"
           },
           "zaxis": {
            "backgroundcolor": "#E5ECF6",
            "gridcolor": "white",
            "gridwidth": 2,
            "linecolor": "white",
            "showbackground": true,
            "ticks": "",
            "zerolinecolor": "white"
           }
          },
          "shapedefaults": {
           "line": {
            "color": "#2a3f5f"
           }
          },
          "ternary": {
           "aaxis": {
            "gridcolor": "white",
            "linecolor": "white",
            "ticks": ""
           },
           "baxis": {
            "gridcolor": "white",
            "linecolor": "white",
            "ticks": ""
           },
           "bgcolor": "#E5ECF6",
           "caxis": {
            "gridcolor": "white",
            "linecolor": "white",
            "ticks": ""
           }
          },
          "title": {
           "x": 0.05
          },
          "xaxis": {
           "automargin": true,
           "gridcolor": "white",
           "linecolor": "white",
           "ticks": "",
           "title": {
            "standoff": 15
           },
           "zerolinecolor": "white",
           "zerolinewidth": 2
          },
          "yaxis": {
           "automargin": true,
           "gridcolor": "white",
           "linecolor": "white",
           "ticks": "",
           "title": {
            "standoff": 15
           },
           "zerolinecolor": "white",
           "zerolinewidth": 2
          }
         }
        },
        "title": {
         "text": "Optimization History Plot"
        },
        "xaxis": {
         "title": {
          "text": "Trial"
         }
        },
        "yaxis": {
         "title": {
          "text": "Objective Value"
         }
        }
       }
      }
     },
     "metadata": {},
     "output_type": "display_data"
    }
   ],
   "source": [
    "fig = optuna.visualization.plot_optimization_history(study)\n",
    "graph_path = f\"./figures/{params.MODEL_TYPE}/plot_optimization_history_graph\"\n",
    "fig.write_html(Path(f\"{graph_path}.html\"))\n",
    "fig.write_image(Path(f\"{graph_path}.png\"))\n",
    "fig.show()"
   ]
  },
  {
   "cell_type": "code",
   "execution_count": 13,
   "id": "92103de1",
   "metadata": {},
   "outputs": [
    {
     "data": {
      "application/vnd.plotly.v1+json": {
       "config": {
        "plotlyServerURL": "https://plot.ly"
       },
       "data": [
        {
         "marker": {
          "maxdisplayed": 10
         },
         "mode": "lines+markers",
         "name": "Trial0",
         "type": "scatter",
         "x": [
          0,
          1,
          2,
          3,
          4,
          5,
          6,
          7,
          8,
          9,
          10,
          11,
          12,
          13,
          14,
          15,
          16,
          17,
          18,
          19,
          20,
          21,
          22,
          23,
          24,
          25,
          26,
          27,
          28,
          29,
          30,
          31,
          32,
          33,
          34,
          35,
          36,
          37,
          38,
          39,
          40,
          41,
          42,
          43,
          44,
          45,
          46,
          47,
          48,
          49
         ],
         "y": [
          1.0177460312843323,
          0.9913848638534546,
          0.9745444026258258,
          0.9600398714343708,
          0.9481158475081127,
          0.9365291049083075,
          0.9265645870140622,
          0.9157457140584787,
          0.9071654732580539,
          0.9008784353733063,
          0.8932865018194373,
          0.8877740055322647,
          0.8794166483940222,
          0.8730732394116265,
          0.8677484697765774,
          0.8632848386963208,
          0.8583349018704657,
          0.8541604015562269,
          0.8497817997346844,
          0.8470191046595573,
          0.8435904714796278,
          0.8403398353945125,
          0.8370842933654785,
          0.8330959897074436,
          0.8306132149696351,
          0.8276640822490058,
          0.8239958481288253,
          0.8214457936230162,
          0.8197049303301452,
          0.8169380075401732,
          0.8143687187343517,
          0.8126478378350536,
          0.8106791012816958,
          0.8082408957621631,
          0.8062318864322844,
          0.8044182829282902,
          0.8022239154523557,
          0.8003128672900953,
          0.7985104959235232,
          0.7973126562933127,
          0.795658056813527,
          0.7936676648401079,
          0.7922556425711906,
          0.7907020761208101,
          0.789018021689521,
          0.7879250189964323,
          0.7867579931485739,
          0.7854445214486784,
          0.7843869879943172,
          0.783629340926806
         ]
        },
        {
         "marker": {
          "maxdisplayed": 10
         },
         "mode": "lines+markers",
         "name": "Trial1",
         "type": "scatter",
         "x": [
          0,
          1,
          2,
          3,
          4,
          5,
          6,
          7,
          8,
          9,
          10,
          11,
          12,
          13,
          14,
          15,
          16,
          17,
          18,
          19,
          20,
          21,
          22,
          23,
          24,
          25,
          26,
          27,
          28,
          29,
          30,
          31,
          32,
          33,
          34,
          35,
          36,
          37,
          38,
          39,
          40,
          41,
          42,
          43,
          44,
          45,
          46,
          47,
          48,
          49
         ],
         "y": [
          1.0768001675605774,
          1.0751770536104837,
          1.0744853880670335,
          1.0741214056809743,
          1.0737349271774292,
          1.0732121103339725,
          1.07245652732395,
          1.0714305192232132,
          1.070170192806809,
          1.0686838706334432,
          1.0669958772081318,
          1.0650966399245794,
          1.0629398028055828,
          1.0605118246305556,
          1.0578348371717665,
          1.0548653639853,
          1.0516992526895859,
          1.048427250650194,
          1.0449949790511215,
          1.0414361611008645,
          1.0378493941019453,
          1.0341402341922126,
          1.0305408165938612,
          1.0269561927351687,
          1.023331591685613,
          1.0198361350175662,
          1.0165646539794073,
          1.0133396468701814,
          1.0102686241440388,
          1.0072010894616443,
          1.0042018589153083,
          1.0013660167654355,
          0.998776265467056,
          0.996339235235663,
          0.9939168070043837,
          0.9915313477869387,
          0.9891404829046748,
          0.9868679138129218,
          0.9848406587401007,
          0.9828351013362407,
          0.9808143781937235,
          0.9787682987867841,
          0.976885381595109,
          0.9748492538928986,
          0.9728837823426282,
          0.9708796713663184,
          0.9689280295625646,
          0.9669947168893284,
          0.9652319426844719,
          0.9632613013188043
         ]
        },
        {
         "marker": {
          "maxdisplayed": 10
         },
         "mode": "lines+markers",
         "name": "Trial2",
         "type": "scatter",
         "x": [
          0,
          1,
          2,
          3,
          4,
          5,
          6,
          7,
          8,
          9,
          10,
          11,
          12,
          13,
          14,
          15,
          16,
          17,
          18,
          19,
          20,
          21,
          22,
          23,
          24,
          25,
          26,
          27,
          28,
          29,
          30,
          31,
          32,
          33,
          34,
          35,
          36,
          37,
          38,
          39,
          40,
          41,
          42,
          43,
          44,
          45,
          46,
          47,
          48,
          49
         ],
         "y": [
          1.0826423366864522,
          1.082690676053365,
          1.079293469587962,
          1.0758639027674992,
          1.0710541288057962,
          1.078956534465154,
          1.0750818791843595,
          1.0673133730888367,
          1.0595282514890034,
          1.053030647834142,
          1.0444156048875868,
          1.0403918019599385,
          1.0373646991375165,
          1.0305262683402925,
          1.0250126719474795,
          1.0156658813357353,
          1.0118924665684794,
          1.0051361223061879,
          0.9998291422400559,
          0.9937519172827404,
          0.9891033371289573,
          0.9839975210753356,
          0.9790815568488579,
          0.9752292103237575,
          0.9715514051914214,
          0.9685142850264523,
          0.964234670003255,
          0.9599852728701771,
          0.9553992200171809,
          0.9513008303112452,
          0.9481045353797173,
          0.9449769149844844,
          0.9426506113524389,
          0.9388945421167447,
          0.9360903197810763,
          0.9350016434435491,
          0.9386793095786292,
          0.9357057626832994,
          0.9331631148472809,
          0.9295146544774372,
          0.9261505242770279,
          0.9251296378317333,
          0.92251463892848,
          0.920491461500977,
          0.9181352414466717,
          0.915845031755558,
          0.9138278411635271,
          0.9114982289158635,
          0.910846722977502,
          0.9088526328404744
         ]
        },
        {
         "marker": {
          "maxdisplayed": 10
         },
         "mode": "lines+markers",
         "name": "Trial3",
         "type": "scatter",
         "x": [
          0,
          1,
          2,
          3,
          4,
          5,
          6,
          7,
          8,
          9,
          10,
          11,
          12,
          13,
          14,
          15,
          16,
          17,
          18,
          19,
          20,
          21,
          22,
          23,
          24,
          25,
          26,
          27,
          28,
          29,
          30,
          31,
          32,
          33,
          34,
          35,
          36,
          37,
          38,
          39,
          40,
          41,
          42,
          43,
          44,
          45,
          46,
          47,
          48,
          49
         ],
         "y": [
          1.2615111072858174,
          1.2588537832101185,
          1.256315463119083,
          1.2538811018069584,
          1.2515496492385865,
          1.249338898393843,
          1.2472513885725112,
          1.245284542441368,
          1.2434416479534574,
          1.2417074859142303,
          1.2400711088469534,
          1.238524263103803,
          1.2370626773589697,
          1.2356749815600259,
          1.2343558139271207,
          1.2331004527707894,
          1.2319008801497664,
          1.2307536889005588,
          1.2296525595480936,
          1.2285940547784169,
          1.2275725357116214,
          1.226586766315229,
          1.225633218668509,
          1.2247086721989844,
          1.223811423778534,
          1.2229416706623177,
          1.2221007163141981,
          1.2212875804730827,
          1.2204998382206624,
          1.2197351965639327,
          1.2189914347023094,
          1.2182677512367568,
          1.2175628717499551,
          1.216874957669015,
          1.2162027024087452,
          1.2155454064960833,
          1.214902344587687,
          1.2142726805126458,
          1.2136555089909804,
          1.213050228357315,
          1.2124561124700841,
          1.2118727905409676,
          1.2112993889076764,
          1.2107356357755084,
          1.2101811625339367,
          1.2096351778161698,
          1.2090970632877756,
          1.2085666991770267,
          1.2080439410242094,
          1.2075280106067658
         ]
        },
        {
         "marker": {
          "maxdisplayed": 10
         },
         "mode": "lines+markers",
         "name": "Trial4",
         "type": "scatter",
         "x": [
          0,
          1,
          2,
          3,
          4,
          5,
          6,
          7,
          8,
          9,
          10,
          11,
          12,
          13,
          14,
          15,
          16,
          17,
          18,
          19,
          20,
          21,
          22,
          23,
          24,
          25,
          26,
          27,
          28,
          29,
          30,
          31,
          32,
          33,
          34,
          35,
          36,
          37,
          38,
          39,
          40,
          41,
          42,
          43,
          44,
          45,
          46,
          47,
          48,
          49
         ],
         "y": [
          1.116428295771281,
          1.1044933001200359,
          1.0976775222354467,
          1.0931264013051987,
          1.089627476533254,
          1.0867534710301294,
          1.0842639151073639,
          1.0819898570577304,
          1.0798241716844066,
          1.0777537723382316,
          1.075798618071007,
          1.0738420552677579,
          1.0718792936740777,
          1.0699239926678794,
          1.0680114958021378,
          1.0660399372378984,
          1.0641015581056181,
          1.0621297867209822,
          1.0602120621162547,
          1.0583165317773817,
          1.056357837858654,
          1.054426204526063,
          1.0525842157826906,
          1.0507726880411308,
          1.0489705153306326,
          1.0472674996424944,
          1.045608032632757,
          1.043990663829304,
          1.0424353100102524,
          1.0408797558810976,
          1.0393840452676177,
          1.0380122441177566,
          1.0367426161814217,
          1.035511124659987,
          1.034422466016951,
          1.0332259544067912,
          1.0320039069330371,
          1.0308646651213629,
          1.029776786127661,
          1.0287496385475,
          1.0276715474400093,
          1.0266295255176605,
          1.0256410795588826,
          1.0247886641459032,
          1.0238988991136904,
          1.0229905947394993,
          1.0220918522236195,
          1.0212585628032684,
          1.020544359675881,
          1.019683441122373
         ]
        },
        {
         "marker": {
          "maxdisplayed": 10
         },
         "mode": "lines+markers",
         "name": "Trial5",
         "type": "scatter",
         "x": [
          0,
          1,
          2,
          3,
          4,
          5,
          6,
          7,
          8,
          9,
          10,
          11,
          12,
          13,
          14,
          15,
          16,
          17,
          18,
          19,
          20,
          21,
          22,
          23,
          24,
          25,
          26,
          27,
          28,
          29,
          30,
          31,
          32,
          33,
          34,
          35,
          36,
          37,
          38,
          39,
          40,
          41,
          42,
          43,
          44,
          45,
          46,
          47,
          48,
          49
         ],
         "y": [
          0.9784705738226572,
          0.9719896515210469,
          0.9853281742996639,
          0.9850805550813674,
          0.9779118001461029,
          0.9698135389222039,
          0.9685439949943905,
          0.9764178867141406,
          0.9752131579098879,
          0.9861719022194546,
          1.003838202266982,
          1.0041047508517902,
          1.0002392599215875,
          0.9993218531211217,
          0.9925921201705933,
          0.9870206272850435,
          0.9881262545492137,
          0.9903763907927056,
          0.9863028353766393,
          0.9860265597701074,
          0.9898090882906839,
          0.9850135016621966,
          0.9803874699965768,
          0.9786954207552804,
          0.9808150470256806,
          0.9765804138703225,
          0.9769950255199715,
          0.9707674797446956,
          0.966330467798244,
          0.965190474026733,
          0.9601827835844409,
          0.9565162033153076,
          0.9521988375921442,
          0.9518368239788448,
          0.9522426538524175,
          0.9486414274131811,
          0.9477497919185741,
          0.944438036335142,
          0.9434265721048046,
          0.9445028389493624,
          0.9412668289207831,
          0.9402701928028984,
          0.9386524966982908,
          0.938264602061474,
          0.9374149366661355,
          0.9360471257696981,
          0.9348257245324183,
          0.9345832297371492,
          0.9346135854721068,
          0.9324858307838438
         ]
        },
        {
         "marker": {
          "maxdisplayed": 10
         },
         "mode": "lines+markers",
         "name": "Trial6",
         "type": "scatter",
         "x": [
          0,
          1,
          2,
          3,
          4,
          5,
          6,
          7,
          8,
          9,
          10,
          11,
          12,
          13,
          14,
          15,
          16,
          17,
          18,
          19,
          20,
          21,
          22,
          23
         ],
         "y": [
          1.0480258862177532,
          1.0202680230140686,
          1.01253808538119,
          1.0234445879856746,
          1.0384743213653564,
          1.0322492751810286,
          1.027352152835755,
          1.02744559943676,
          1.0208306202182065,
          1.0216337889432907,
          1.019345583337726,
          1.0238129852546587,
          1.0248817121371245,
          1.0201179988327482,
          1.021407288975186,
          1.029664314041535,
          1.0248202664010664,
          1.0202544072160014,
          1.016834762535597,
          1.0110733126600582,
          1.0083477539675574,
          1.0059357904123536,
          1.003400762012039,
          1.009942450043228
         ]
        },
        {
         "marker": {
          "maxdisplayed": 10
         },
         "mode": "lines+markers",
         "name": "Trial7",
         "type": "scatter",
         "x": [
          0
         ],
         "y": [
          1.1281426548957825
         ]
        },
        {
         "marker": {
          "maxdisplayed": 10
         },
         "mode": "lines+markers",
         "name": "Trial8",
         "type": "scatter",
         "x": [
          0
         ],
         "y": [
          1.090769608815511
         ]
        },
        {
         "marker": {
          "maxdisplayed": 10
         },
         "mode": "lines+markers",
         "name": "Trial9",
         "type": "scatter",
         "x": [
          0,
          1,
          2,
          3,
          4,
          5,
          6,
          7,
          8,
          9,
          10,
          11,
          12,
          13,
          14,
          15,
          16,
          17,
          18,
          19,
          20,
          21,
          22,
          23,
          24,
          25,
          26,
          27,
          28,
          29,
          30,
          31,
          32,
          33,
          34,
          35,
          36,
          37,
          38,
          39,
          40,
          41,
          42,
          43,
          44,
          45,
          46,
          47,
          48,
          49
         ],
         "y": [
          1.0472931067148845,
          1.0332110722859702,
          1.019489818149143,
          1.0060647974411647,
          0.9922419706980389,
          0.979532637529903,
          0.9701207563990639,
          0.9616284966468811,
          0.9539479690569418,
          0.9475188742081324,
          0.9422016785000309,
          0.9373441297147008,
          0.931857094550744,
          0.9265945823419661,
          0.9222714338037702,
          0.9177403915673494,
          0.9130461923047608,
          0.9084808026198987,
          0.9047587200214988,
          0.9014149179061255,
          0.8977385778275748,
          0.8942957588217475,
          0.8909401941126671,
          0.887963039179643,
          0.8848891421159109,
          0.88237804098007,
          0.879886899465396,
          0.8778286146975699,
          0.8756114449994318,
          0.8733049465550317,
          0.8712392670492972,
          0.8693081565822165,
          0.8675606666189253,
          0.8653222602956436,
          0.8635511758781617,
          0.8617936323086421,
          0.8602913749647572,
          0.8579852204573784,
          0.8559121902172384,
          0.8540302867690723,
          0.8522072938399587,
          0.8508391545878518,
          0.8492709305859352,
          0.847892302229549,
          0.8460103959948929,
          0.8452947960383651,
          0.8437613479211822,
          0.842990702845984,
          0.8413582991580574,
          0.8402276746431987
         ]
        }
       ],
       "layout": {
        "showlegend": false,
        "template": {
         "data": {
          "bar": [
           {
            "error_x": {
             "color": "#2a3f5f"
            },
            "error_y": {
             "color": "#2a3f5f"
            },
            "marker": {
             "line": {
              "color": "#E5ECF6",
              "width": 0.5
             },
             "pattern": {
              "fillmode": "overlay",
              "size": 10,
              "solidity": 0.2
             }
            },
            "type": "bar"
           }
          ],
          "barpolar": [
           {
            "marker": {
             "line": {
              "color": "#E5ECF6",
              "width": 0.5
             },
             "pattern": {
              "fillmode": "overlay",
              "size": 10,
              "solidity": 0.2
             }
            },
            "type": "barpolar"
           }
          ],
          "carpet": [
           {
            "aaxis": {
             "endlinecolor": "#2a3f5f",
             "gridcolor": "white",
             "linecolor": "white",
             "minorgridcolor": "white",
             "startlinecolor": "#2a3f5f"
            },
            "baxis": {
             "endlinecolor": "#2a3f5f",
             "gridcolor": "white",
             "linecolor": "white",
             "minorgridcolor": "white",
             "startlinecolor": "#2a3f5f"
            },
            "type": "carpet"
           }
          ],
          "choropleth": [
           {
            "colorbar": {
             "outlinewidth": 0,
             "ticks": ""
            },
            "type": "choropleth"
           }
          ],
          "contour": [
           {
            "colorbar": {
             "outlinewidth": 0,
             "ticks": ""
            },
            "colorscale": [
             [
              0,
              "#0d0887"
             ],
             [
              0.1111111111111111,
              "#46039f"
             ],
             [
              0.2222222222222222,
              "#7201a8"
             ],
             [
              0.3333333333333333,
              "#9c179e"
             ],
             [
              0.4444444444444444,
              "#bd3786"
             ],
             [
              0.5555555555555556,
              "#d8576b"
             ],
             [
              0.6666666666666666,
              "#ed7953"
             ],
             [
              0.7777777777777778,
              "#fb9f3a"
             ],
             [
              0.8888888888888888,
              "#fdca26"
             ],
             [
              1,
              "#f0f921"
             ]
            ],
            "type": "contour"
           }
          ],
          "contourcarpet": [
           {
            "colorbar": {
             "outlinewidth": 0,
             "ticks": ""
            },
            "type": "contourcarpet"
           }
          ],
          "heatmap": [
           {
            "colorbar": {
             "outlinewidth": 0,
             "ticks": ""
            },
            "colorscale": [
             [
              0,
              "#0d0887"
             ],
             [
              0.1111111111111111,
              "#46039f"
             ],
             [
              0.2222222222222222,
              "#7201a8"
             ],
             [
              0.3333333333333333,
              "#9c179e"
             ],
             [
              0.4444444444444444,
              "#bd3786"
             ],
             [
              0.5555555555555556,
              "#d8576b"
             ],
             [
              0.6666666666666666,
              "#ed7953"
             ],
             [
              0.7777777777777778,
              "#fb9f3a"
             ],
             [
              0.8888888888888888,
              "#fdca26"
             ],
             [
              1,
              "#f0f921"
             ]
            ],
            "type": "heatmap"
           }
          ],
          "heatmapgl": [
           {
            "colorbar": {
             "outlinewidth": 0,
             "ticks": ""
            },
            "colorscale": [
             [
              0,
              "#0d0887"
             ],
             [
              0.1111111111111111,
              "#46039f"
             ],
             [
              0.2222222222222222,
              "#7201a8"
             ],
             [
              0.3333333333333333,
              "#9c179e"
             ],
             [
              0.4444444444444444,
              "#bd3786"
             ],
             [
              0.5555555555555556,
              "#d8576b"
             ],
             [
              0.6666666666666666,
              "#ed7953"
             ],
             [
              0.7777777777777778,
              "#fb9f3a"
             ],
             [
              0.8888888888888888,
              "#fdca26"
             ],
             [
              1,
              "#f0f921"
             ]
            ],
            "type": "heatmapgl"
           }
          ],
          "histogram": [
           {
            "marker": {
             "pattern": {
              "fillmode": "overlay",
              "size": 10,
              "solidity": 0.2
             }
            },
            "type": "histogram"
           }
          ],
          "histogram2d": [
           {
            "colorbar": {
             "outlinewidth": 0,
             "ticks": ""
            },
            "colorscale": [
             [
              0,
              "#0d0887"
             ],
             [
              0.1111111111111111,
              "#46039f"
             ],
             [
              0.2222222222222222,
              "#7201a8"
             ],
             [
              0.3333333333333333,
              "#9c179e"
             ],
             [
              0.4444444444444444,
              "#bd3786"
             ],
             [
              0.5555555555555556,
              "#d8576b"
             ],
             [
              0.6666666666666666,
              "#ed7953"
             ],
             [
              0.7777777777777778,
              "#fb9f3a"
             ],
             [
              0.8888888888888888,
              "#fdca26"
             ],
             [
              1,
              "#f0f921"
             ]
            ],
            "type": "histogram2d"
           }
          ],
          "histogram2dcontour": [
           {
            "colorbar": {
             "outlinewidth": 0,
             "ticks": ""
            },
            "colorscale": [
             [
              0,
              "#0d0887"
             ],
             [
              0.1111111111111111,
              "#46039f"
             ],
             [
              0.2222222222222222,
              "#7201a8"
             ],
             [
              0.3333333333333333,
              "#9c179e"
             ],
             [
              0.4444444444444444,
              "#bd3786"
             ],
             [
              0.5555555555555556,
              "#d8576b"
             ],
             [
              0.6666666666666666,
              "#ed7953"
             ],
             [
              0.7777777777777778,
              "#fb9f3a"
             ],
             [
              0.8888888888888888,
              "#fdca26"
             ],
             [
              1,
              "#f0f921"
             ]
            ],
            "type": "histogram2dcontour"
           }
          ],
          "mesh3d": [
           {
            "colorbar": {
             "outlinewidth": 0,
             "ticks": ""
            },
            "type": "mesh3d"
           }
          ],
          "parcoords": [
           {
            "line": {
             "colorbar": {
              "outlinewidth": 0,
              "ticks": ""
             }
            },
            "type": "parcoords"
           }
          ],
          "pie": [
           {
            "automargin": true,
            "type": "pie"
           }
          ],
          "scatter": [
           {
            "fillpattern": {
             "fillmode": "overlay",
             "size": 10,
             "solidity": 0.2
            },
            "type": "scatter"
           }
          ],
          "scatter3d": [
           {
            "line": {
             "colorbar": {
              "outlinewidth": 0,
              "ticks": ""
             }
            },
            "marker": {
             "colorbar": {
              "outlinewidth": 0,
              "ticks": ""
             }
            },
            "type": "scatter3d"
           }
          ],
          "scattercarpet": [
           {
            "marker": {
             "colorbar": {
              "outlinewidth": 0,
              "ticks": ""
             }
            },
            "type": "scattercarpet"
           }
          ],
          "scattergeo": [
           {
            "marker": {
             "colorbar": {
              "outlinewidth": 0,
              "ticks": ""
             }
            },
            "type": "scattergeo"
           }
          ],
          "scattergl": [
           {
            "marker": {
             "colorbar": {
              "outlinewidth": 0,
              "ticks": ""
             }
            },
            "type": "scattergl"
           }
          ],
          "scattermapbox": [
           {
            "marker": {
             "colorbar": {
              "outlinewidth": 0,
              "ticks": ""
             }
            },
            "type": "scattermapbox"
           }
          ],
          "scatterpolar": [
           {
            "marker": {
             "colorbar": {
              "outlinewidth": 0,
              "ticks": ""
             }
            },
            "type": "scatterpolar"
           }
          ],
          "scatterpolargl": [
           {
            "marker": {
             "colorbar": {
              "outlinewidth": 0,
              "ticks": ""
             }
            },
            "type": "scatterpolargl"
           }
          ],
          "scatterternary": [
           {
            "marker": {
             "colorbar": {
              "outlinewidth": 0,
              "ticks": ""
             }
            },
            "type": "scatterternary"
           }
          ],
          "surface": [
           {
            "colorbar": {
             "outlinewidth": 0,
             "ticks": ""
            },
            "colorscale": [
             [
              0,
              "#0d0887"
             ],
             [
              0.1111111111111111,
              "#46039f"
             ],
             [
              0.2222222222222222,
              "#7201a8"
             ],
             [
              0.3333333333333333,
              "#9c179e"
             ],
             [
              0.4444444444444444,
              "#bd3786"
             ],
             [
              0.5555555555555556,
              "#d8576b"
             ],
             [
              0.6666666666666666,
              "#ed7953"
             ],
             [
              0.7777777777777778,
              "#fb9f3a"
             ],
             [
              0.8888888888888888,
              "#fdca26"
             ],
             [
              1,
              "#f0f921"
             ]
            ],
            "type": "surface"
           }
          ],
          "table": [
           {
            "cells": {
             "fill": {
              "color": "#EBF0F8"
             },
             "line": {
              "color": "white"
             }
            },
            "header": {
             "fill": {
              "color": "#C8D4E3"
             },
             "line": {
              "color": "white"
             }
            },
            "type": "table"
           }
          ]
         },
         "layout": {
          "annotationdefaults": {
           "arrowcolor": "#2a3f5f",
           "arrowhead": 0,
           "arrowwidth": 1
          },
          "autotypenumbers": "strict",
          "coloraxis": {
           "colorbar": {
            "outlinewidth": 0,
            "ticks": ""
           }
          },
          "colorscale": {
           "diverging": [
            [
             0,
             "#8e0152"
            ],
            [
             0.1,
             "#c51b7d"
            ],
            [
             0.2,
             "#de77ae"
            ],
            [
             0.3,
             "#f1b6da"
            ],
            [
             0.4,
             "#fde0ef"
            ],
            [
             0.5,
             "#f7f7f7"
            ],
            [
             0.6,
             "#e6f5d0"
            ],
            [
             0.7,
             "#b8e186"
            ],
            [
             0.8,
             "#7fbc41"
            ],
            [
             0.9,
             "#4d9221"
            ],
            [
             1,
             "#276419"
            ]
           ],
           "sequential": [
            [
             0,
             "#0d0887"
            ],
            [
             0.1111111111111111,
             "#46039f"
            ],
            [
             0.2222222222222222,
             "#7201a8"
            ],
            [
             0.3333333333333333,
             "#9c179e"
            ],
            [
             0.4444444444444444,
             "#bd3786"
            ],
            [
             0.5555555555555556,
             "#d8576b"
            ],
            [
             0.6666666666666666,
             "#ed7953"
            ],
            [
             0.7777777777777778,
             "#fb9f3a"
            ],
            [
             0.8888888888888888,
             "#fdca26"
            ],
            [
             1,
             "#f0f921"
            ]
           ],
           "sequentialminus": [
            [
             0,
             "#0d0887"
            ],
            [
             0.1111111111111111,
             "#46039f"
            ],
            [
             0.2222222222222222,
             "#7201a8"
            ],
            [
             0.3333333333333333,
             "#9c179e"
            ],
            [
             0.4444444444444444,
             "#bd3786"
            ],
            [
             0.5555555555555556,
             "#d8576b"
            ],
            [
             0.6666666666666666,
             "#ed7953"
            ],
            [
             0.7777777777777778,
             "#fb9f3a"
            ],
            [
             0.8888888888888888,
             "#fdca26"
            ],
            [
             1,
             "#f0f921"
            ]
           ]
          },
          "colorway": [
           "#636efa",
           "#EF553B",
           "#00cc96",
           "#ab63fa",
           "#FFA15A",
           "#19d3f3",
           "#FF6692",
           "#B6E880",
           "#FF97FF",
           "#FECB52"
          ],
          "font": {
           "color": "#2a3f5f"
          },
          "geo": {
           "bgcolor": "white",
           "lakecolor": "white",
           "landcolor": "#E5ECF6",
           "showlakes": true,
           "showland": true,
           "subunitcolor": "white"
          },
          "hoverlabel": {
           "align": "left"
          },
          "hovermode": "closest",
          "mapbox": {
           "style": "light"
          },
          "paper_bgcolor": "white",
          "plot_bgcolor": "#E5ECF6",
          "polar": {
           "angularaxis": {
            "gridcolor": "white",
            "linecolor": "white",
            "ticks": ""
           },
           "bgcolor": "#E5ECF6",
           "radialaxis": {
            "gridcolor": "white",
            "linecolor": "white",
            "ticks": ""
           }
          },
          "scene": {
           "xaxis": {
            "backgroundcolor": "#E5ECF6",
            "gridcolor": "white",
            "gridwidth": 2,
            "linecolor": "white",
            "showbackground": true,
            "ticks": "",
            "zerolinecolor": "white"
           },
           "yaxis": {
            "backgroundcolor": "#E5ECF6",
            "gridcolor": "white",
            "gridwidth": 2,
            "linecolor": "white",
            "showbackground": true,
            "ticks": "",
            "zerolinecolor": "white"
           },
           "zaxis": {
            "backgroundcolor": "#E5ECF6",
            "gridcolor": "white",
            "gridwidth": 2,
            "linecolor": "white",
            "showbackground": true,
            "ticks": "",
            "zerolinecolor": "white"
           }
          },
          "shapedefaults": {
           "line": {
            "color": "#2a3f5f"
           }
          },
          "ternary": {
           "aaxis": {
            "gridcolor": "white",
            "linecolor": "white",
            "ticks": ""
           },
           "baxis": {
            "gridcolor": "white",
            "linecolor": "white",
            "ticks": ""
           },
           "bgcolor": "#E5ECF6",
           "caxis": {
            "gridcolor": "white",
            "linecolor": "white",
            "ticks": ""
           }
          },
          "title": {
           "x": 0.05
          },
          "xaxis": {
           "automargin": true,
           "gridcolor": "white",
           "linecolor": "white",
           "ticks": "",
           "title": {
            "standoff": 15
           },
           "zerolinecolor": "white",
           "zerolinewidth": 2
          },
          "yaxis": {
           "automargin": true,
           "gridcolor": "white",
           "linecolor": "white",
           "ticks": "",
           "title": {
            "standoff": 15
           },
           "zerolinecolor": "white",
           "zerolinewidth": 2
          }
         }
        },
        "title": {
         "text": "Intermediate Values Plot"
        },
        "xaxis": {
         "title": {
          "text": "Step"
         }
        },
        "yaxis": {
         "title": {
          "text": "Intermediate Value"
         }
        }
       }
      }
     },
     "metadata": {},
     "output_type": "display_data"
    }
   ],
   "source": [
    "fig = optuna.visualization.plot_intermediate_values(study)\n",
    "graph_path = f\"./figures/{params.MODEL_TYPE}/plot_intermediate_values_graph\"\n",
    "fig.write_html(Path(f\"{graph_path}.html\"))\n",
    "fig.write_image(Path(f\"{graph_path}.png\"))\n",
    "fig.show()"
   ]
  },
  {
   "cell_type": "code",
   "execution_count": 14,
   "id": "325a1ec3",
   "metadata": {},
   "outputs": [],
   "source": [
    "# call function for best trial parameter extraction\n",
    "param_dict = extract_best_trial_params(study.best_params)"
   ]
  },
  {
   "cell_type": "code",
   "execution_count": 15,
   "id": "50e946e7",
   "metadata": {},
   "outputs": [
    {
     "name": "stdout",
     "output_type": "stream",
     "text": [
      "SGD\n",
      "Epoch 0: Validation loss decreased (inf --> 1.031790).  Saving model ...\n",
      "\t Train_Loss: 1.0742 Train_Acc: 41.425 Val_Loss: 1.0318  BEST VAL Loss: 1.0318  Val_Acc: 49.910\n",
      "\n",
      "Epoch 1: Validation loss decreased (1.031790 --> 1.012831).  Saving model ...\n",
      "\t Train_Loss: 1.0483 Train_Acc: 45.623 Val_Loss: 1.0128  BEST VAL Loss: 1.0128  Val_Acc: 51.548\n",
      "\n",
      "Epoch 2: Validation loss decreased (1.012831 --> 0.999585).  Saving model ...\n",
      "\t Train_Loss: 1.0321 Train_Acc: 47.803 Val_Loss: 0.9996  BEST VAL Loss: 0.9996  Val_Acc: 52.088\n",
      "\n",
      "Epoch 3: Validation loss decreased (0.999585 --> 0.987768).  Saving model ...\n",
      "\t Train_Loss: 1.0187 Train_Acc: 50.538 Val_Loss: 0.9878  BEST VAL Loss: 0.9878  Val_Acc: 56.943\n",
      "\n",
      "Epoch 4: Validation loss decreased (0.987768 --> 0.977327).  Saving model ...\n",
      "\t Train_Loss: 1.0078 Train_Acc: 52.509 Val_Loss: 0.9773  BEST VAL Loss: 0.9773  Val_Acc: 59.001\n",
      "\n",
      "Epoch 5: Validation loss decreased (0.977327 --> 0.967558).  Saving model ...\n",
      "\t Train_Loss: 0.9982 Train_Acc: 53.795 Val_Loss: 0.9676  BEST VAL Loss: 0.9676  Val_Acc: 60.519\n",
      "\n",
      "Epoch 6: Validation loss decreased (0.967558 --> 0.958346).  Saving model ...\n",
      "\t Train_Loss: 0.9898 Train_Acc: 54.642 Val_Loss: 0.9583  BEST VAL Loss: 0.9583  Val_Acc: 61.279\n",
      "\n",
      "Epoch 7: Validation loss decreased (0.958346 --> 0.951919).  Saving model ...\n",
      "\t Train_Loss: 0.9822 Train_Acc: 55.833 Val_Loss: 0.9519  BEST VAL Loss: 0.9519  Val_Acc: 61.538\n",
      "\n",
      "Epoch 8: Validation loss decreased (0.951919 --> 0.946374).  Saving model ...\n",
      "\t Train_Loss: 0.9754 Train_Acc: 56.255 Val_Loss: 0.9464  BEST VAL Loss: 0.9464  Val_Acc: 62.238\n",
      "\n",
      "Epoch 9: Validation loss decreased (0.946374 --> 0.941973).  Saving model ...\n",
      "\t Train_Loss: 0.9690 Train_Acc: 57.274 Val_Loss: 0.9420  BEST VAL Loss: 0.9420  Val_Acc: 62.278\n",
      "\n",
      "Epoch 10: Validation loss decreased (0.941973 --> 0.937166).  Saving model ...\n",
      "\t Train_Loss: 0.9630 Train_Acc: 58.098 Val_Loss: 0.9372  BEST VAL Loss: 0.9372  Val_Acc: 63.616\n",
      "\n",
      "Epoch 11: Validation loss decreased (0.937166 --> 0.932318).  Saving model ...\n",
      "\t Train_Loss: 0.9578 Train_Acc: 57.909 Val_Loss: 0.9323  BEST VAL Loss: 0.9323  Val_Acc: 63.497\n",
      "\n",
      "Epoch 12: Validation loss decreased (0.932318 --> 0.928225).  Saving model ...\n",
      "\t Train_Loss: 0.9531 Train_Acc: 58.053 Val_Loss: 0.9282  BEST VAL Loss: 0.9282  Val_Acc: 63.177\n",
      "\n",
      "Epoch 13: Validation loss decreased (0.928225 --> 0.923846).  Saving model ...\n",
      "\t Train_Loss: 0.9490 Train_Acc: 58.263 Val_Loss: 0.9238  BEST VAL Loss: 0.9238  Val_Acc: 64.995\n",
      "\n",
      "Epoch 14: Validation loss decreased (0.923846 --> 0.920320).  Saving model ...\n",
      "\t Train_Loss: 0.9450 Train_Acc: 58.895 Val_Loss: 0.9203  BEST VAL Loss: 0.9203  Val_Acc: 64.296\n",
      "\n",
      "Epoch 15: Validation loss decreased (0.920320 --> 0.916529).  Saving model ...\n",
      "\t Train_Loss: 0.9415 Train_Acc: 58.960 Val_Loss: 0.9165  BEST VAL Loss: 0.9165  Val_Acc: 65.594\n",
      "\n",
      "Epoch 16: Validation loss decreased (0.916529 --> 0.914082).  Saving model ...\n",
      "\t Train_Loss: 0.9380 Train_Acc: 59.572 Val_Loss: 0.9141  BEST VAL Loss: 0.9141  Val_Acc: 64.316\n",
      "\n",
      "Epoch 17: Validation loss decreased (0.914082 --> 0.911479).  Saving model ...\n",
      "\t Train_Loss: 0.9347 Train_Acc: 59.832 Val_Loss: 0.9115  BEST VAL Loss: 0.9115  Val_Acc: 64.376\n",
      "\n",
      "Epoch 18: Validation loss decreased (0.911479 --> 0.908837).  Saving model ...\n",
      "\t Train_Loss: 0.9316 Train_Acc: 60.179 Val_Loss: 0.9088  BEST VAL Loss: 0.9088  Val_Acc: 65.235\n",
      "\n",
      "Epoch 19: Validation loss decreased (0.908837 --> 0.906630).  Saving model ...\n",
      "\t Train_Loss: 0.9291 Train_Acc: 60.049 Val_Loss: 0.9066  BEST VAL Loss: 0.9066  Val_Acc: 64.436\n",
      "\n",
      "Epoch 20: Validation loss decreased (0.906630 --> 0.904063).  Saving model ...\n",
      "\t Train_Loss: 0.9265 Train_Acc: 60.401 Val_Loss: 0.9041  BEST VAL Loss: 0.9041  Val_Acc: 65.415\n",
      "\n",
      "Epoch 21: Validation loss decreased (0.904063 --> 0.901448).  Saving model ...\n",
      "\t Train_Loss: 0.9241 Train_Acc: 60.421 Val_Loss: 0.9014  BEST VAL Loss: 0.9014  Val_Acc: 63.516\n",
      "\n",
      "Epoch 22: Validation loss decreased (0.901448 --> 0.898299).  Saving model ...\n",
      "\t Train_Loss: 0.9218 Train_Acc: 60.276 Val_Loss: 0.8983  BEST VAL Loss: 0.8983  Val_Acc: 64.316\n",
      "\n",
      "Epoch 23: Validation loss decreased (0.898299 --> 0.894790).  Saving model ...\n",
      "\t Train_Loss: 0.9196 Train_Acc: 60.321 Val_Loss: 0.8948  BEST VAL Loss: 0.8948  Val_Acc: 67.033\n",
      "\n",
      "Epoch 24: Validation loss decreased (0.894790 --> 0.892455).  Saving model ...\n",
      "\t Train_Loss: 0.9175 Train_Acc: 60.638 Val_Loss: 0.8925  BEST VAL Loss: 0.8925  Val_Acc: 66.074\n",
      "\n",
      "Epoch 25: Validation loss decreased (0.892455 --> 0.889169).  Saving model ...\n",
      "\t Train_Loss: 0.9153 Train_Acc: 60.953 Val_Loss: 0.8892  BEST VAL Loss: 0.8892  Val_Acc: 66.134\n",
      "\n",
      "Epoch 26: Validation loss decreased (0.889169 --> 0.885835).  Saving model ...\n",
      "\t Train_Loss: 0.9135 Train_Acc: 60.671 Val_Loss: 0.8858  BEST VAL Loss: 0.8858  Val_Acc: 67.173\n",
      "\n",
      "Epoch 27: Validation loss decreased (0.885835 --> 0.883072).  Saving model ...\n",
      "\t Train_Loss: 0.9116 Train_Acc: 61.273 Val_Loss: 0.8831  BEST VAL Loss: 0.8831  Val_Acc: 67.253\n",
      "\n",
      "Epoch 28: Validation loss decreased (0.883072 --> 0.880821).  Saving model ...\n",
      "\t Train_Loss: 0.9099 Train_Acc: 60.986 Val_Loss: 0.8808  BEST VAL Loss: 0.8808  Val_Acc: 65.375\n",
      "\n",
      "Epoch 29: Validation loss decreased (0.880821 --> 0.877889).  Saving model ...\n",
      "\t Train_Loss: 0.9081 Train_Acc: 61.360 Val_Loss: 0.8779  BEST VAL Loss: 0.8779  Val_Acc: 66.553\n",
      "\n",
      "Epoch 30: Validation loss decreased (0.877889 --> 0.874992).  Saving model ...\n",
      "\t Train_Loss: 0.9065 Train_Acc: 61.370 Val_Loss: 0.8750  BEST VAL Loss: 0.8750  Val_Acc: 67.473\n",
      "\n",
      "Epoch 31: Validation loss decreased (0.874992 --> 0.873137).  Saving model ...\n",
      "\t Train_Loss: 0.9049 Train_Acc: 61.520 Val_Loss: 0.8731  BEST VAL Loss: 0.8731  Val_Acc: 63.996\n",
      "\n",
      "Epoch 32: Validation loss decreased (0.873137 --> 0.871468).  Saving model ...\n",
      "\t Train_Loss: 0.9035 Train_Acc: 61.260 Val_Loss: 0.8715  BEST VAL Loss: 0.8715  Val_Acc: 64.755\n",
      "\n",
      "Epoch 33: Validation loss decreased (0.871468 --> 0.869171).  Saving model ...\n",
      "\t Train_Loss: 0.9020 Train_Acc: 61.313 Val_Loss: 0.8692  BEST VAL Loss: 0.8692  Val_Acc: 67.632\n",
      "\n",
      "Epoch 34: Validation loss decreased (0.869171 --> 0.867311).  Saving model ...\n",
      "\t Train_Loss: 0.9006 Train_Acc: 61.503 Val_Loss: 0.8673  BEST VAL Loss: 0.8673  Val_Acc: 65.674\n",
      "\n",
      "Epoch 35: Validation loss decreased (0.867311 --> 0.865659).  Saving model ...\n",
      "\t Train_Loss: 0.8994 Train_Acc: 61.078 Val_Loss: 0.8657  BEST VAL Loss: 0.8657  Val_Acc: 66.553\n",
      "\n",
      "Epoch 36: Validation loss decreased (0.865659 --> 0.864354).  Saving model ...\n",
      "\t Train_Loss: 0.8982 Train_Acc: 61.413 Val_Loss: 0.8644  BEST VAL Loss: 0.8644  Val_Acc: 67.413\n",
      "\n",
      "Epoch 37: Validation loss decreased (0.864354 --> 0.862488).  Saving model ...\n",
      "\t Train_Loss: 0.8970 Train_Acc: 61.892 Val_Loss: 0.8625  BEST VAL Loss: 0.8625  Val_Acc: 67.293\n",
      "\n",
      "Epoch 38: Validation loss decreased (0.862488 --> 0.860609).  Saving model ...\n",
      "\t Train_Loss: 0.8958 Train_Acc: 61.390 Val_Loss: 0.8606  BEST VAL Loss: 0.8606  Val_Acc: 66.434\n",
      "\n",
      "Epoch 39: Validation loss decreased (0.860609 --> 0.858825).  Saving model ...\n",
      "\t Train_Loss: 0.8946 Train_Acc: 61.935 Val_Loss: 0.8588  BEST VAL Loss: 0.8588  Val_Acc: 67.393\n",
      "\n",
      "Epoch 40: Validation loss decreased (0.858825 --> 0.857488).  Saving model ...\n",
      "\t Train_Loss: 0.8936 Train_Acc: 61.867 Val_Loss: 0.8575  BEST VAL Loss: 0.8575  Val_Acc: 66.713\n",
      "\n",
      "Epoch 41: Validation loss decreased (0.857488 --> 0.855794).  Saving model ...\n",
      "\t Train_Loss: 0.8924 Train_Acc: 61.990 Val_Loss: 0.8558  BEST VAL Loss: 0.8558  Val_Acc: 65.934\n",
      "\n",
      "Epoch 42: Validation loss decreased (0.855794 --> 0.854662).  Saving model ...\n",
      "\t Train_Loss: 0.8915 Train_Acc: 61.807 Val_Loss: 0.8547  BEST VAL Loss: 0.8547  Val_Acc: 64.436\n",
      "\n",
      "Epoch 43: Validation loss decreased (0.854662 --> 0.853194).  Saving model ...\n",
      "\t Train_Loss: 0.8905 Train_Acc: 61.840 Val_Loss: 0.8532  BEST VAL Loss: 0.8532  Val_Acc: 67.133\n",
      "\n",
      "Epoch 44: Validation loss decreased (0.853194 --> 0.851627).  Saving model ...\n",
      "\t Train_Loss: 0.8895 Train_Acc: 61.977 Val_Loss: 0.8516  BEST VAL Loss: 0.8516  Val_Acc: 67.952\n",
      "\n",
      "Epoch 45: Validation loss decreased (0.851627 --> 0.850304).  Saving model ...\n",
      "\t Train_Loss: 0.8886 Train_Acc: 62.062 Val_Loss: 0.8503  BEST VAL Loss: 0.8503  Val_Acc: 68.132\n",
      "\n",
      "Epoch 46: Validation loss decreased (0.850304 --> 0.848984).  Saving model ...\n",
      "\t Train_Loss: 0.8876 Train_Acc: 62.184 Val_Loss: 0.8490  BEST VAL Loss: 0.8490  Val_Acc: 65.674\n",
      "\n",
      "Epoch 47: Validation loss decreased (0.848984 --> 0.848091).  Saving model ...\n",
      "\t Train_Loss: 0.8868 Train_Acc: 61.915 Val_Loss: 0.8481  BEST VAL Loss: 0.8481  Val_Acc: 64.935\n",
      "\n",
      "Epoch 48: Validation loss decreased (0.848091 --> 0.847213).  Saving model ...\n",
      "\t Train_Loss: 0.8858 Train_Acc: 62.442 Val_Loss: 0.8472  BEST VAL Loss: 0.8472  Val_Acc: 64.595\n",
      "\n",
      "Epoch 49: Validation loss decreased (0.847213 --> 0.846899).  Saving model ...\n",
      "\t Train_Loss: 0.8850 Train_Acc: 62.257 Val_Loss: 0.8469  BEST VAL Loss: 0.8469  Val_Acc: 61.718\n",
      "\n",
      "Epoch 50: Validation loss decreased (0.846899 --> 0.846561).  Saving model ...\n",
      "\t Train_Loss: 0.8842 Train_Acc: 62.222 Val_Loss: 0.8466  BEST VAL Loss: 0.8466  Val_Acc: 64.056\n",
      "\n",
      "Epoch 51: Validation loss decreased (0.846561 --> 0.844951).  Saving model ...\n",
      "\t Train_Loss: 0.8834 Train_Acc: 62.094 Val_Loss: 0.8450  BEST VAL Loss: 0.8450  Val_Acc: 68.292\n",
      "\n",
      "Epoch 52: Validation loss decreased (0.844951 --> 0.844524).  Saving model ...\n",
      "\t Train_Loss: 0.8827 Train_Acc: 62.397 Val_Loss: 0.8445  BEST VAL Loss: 0.8445  Val_Acc: 64.236\n",
      "\n",
      "Epoch 53: Validation loss decreased (0.844524 --> 0.843179).  Saving model ...\n",
      "\t Train_Loss: 0.8819 Train_Acc: 62.242 Val_Loss: 0.8432  BEST VAL Loss: 0.8432  Val_Acc: 68.332\n",
      "\n",
      "Epoch 54: Validation loss decreased (0.843179 --> 0.843144).  Saving model ...\n",
      "\t Train_Loss: 0.8812 Train_Acc: 62.287 Val_Loss: 0.8431  BEST VAL Loss: 0.8431  Val_Acc: 65.874\n",
      "\n",
      "Epoch 55: Validation loss decreased (0.843144 --> 0.841726).  Saving model ...\n",
      "\t Train_Loss: 0.8805 Train_Acc: 62.467 Val_Loss: 0.8417  BEST VAL Loss: 0.8417  Val_Acc: 67.812\n",
      "\n",
      "Epoch 56: Validation loss did not decrease\n",
      "\t Train_Loss: 0.8797 Train_Acc: 62.527 Val_Loss: 0.8419  BEST VAL Loss: 0.8417  Val_Acc: 64.755\n",
      "\n",
      "Epoch 57: Validation loss decreased (0.841726 --> 0.840779).  Saving model ...\n",
      "\t Train_Loss: 0.8791 Train_Acc: 62.374 Val_Loss: 0.8408  BEST VAL Loss: 0.8408  Val_Acc: 67.632\n",
      "\n",
      "Epoch 58: Validation loss decreased (0.840779 --> 0.839592).  Saving model ...\n",
      "\t Train_Loss: 0.8784 Train_Acc: 62.604 Val_Loss: 0.8396  BEST VAL Loss: 0.8396  Val_Acc: 68.352\n",
      "\n",
      "Epoch 59: Validation loss decreased (0.839592 --> 0.838113).  Saving model ...\n",
      "\t Train_Loss: 0.8776 Train_Acc: 62.309 Val_Loss: 0.8381  BEST VAL Loss: 0.8381  Val_Acc: 68.591\n",
      "\n",
      "Epoch 60: Validation loss decreased (0.838113 --> 0.836938).  Saving model ...\n",
      "\t Train_Loss: 0.8770 Train_Acc: 62.709 Val_Loss: 0.8369  BEST VAL Loss: 0.8369  Val_Acc: 66.553\n",
      "\n",
      "Epoch 61: Validation loss decreased (0.836938 --> 0.836426).  Saving model ...\n",
      "\t Train_Loss: 0.8762 Train_Acc: 62.949 Val_Loss: 0.8364  BEST VAL Loss: 0.8364  Val_Acc: 64.535\n",
      "\n",
      "Epoch 62: Validation loss decreased (0.836426 --> 0.835860).  Saving model ...\n",
      "\t Train_Loss: 0.8756 Train_Acc: 62.402 Val_Loss: 0.8359  BEST VAL Loss: 0.8359  Val_Acc: 67.093\n",
      "\n",
      "Epoch 63: Validation loss decreased (0.835860 --> 0.835155).  Saving model ...\n",
      "\t Train_Loss: 0.8750 Train_Acc: 62.432 Val_Loss: 0.8352  BEST VAL Loss: 0.8352  Val_Acc: 68.112\n",
      "\n",
      "Epoch 64: Validation loss decreased (0.835155 --> 0.834987).  Saving model ...\n",
      "\t Train_Loss: 0.8744 Train_Acc: 62.774 Val_Loss: 0.8350  BEST VAL Loss: 0.8350  Val_Acc: 64.196\n",
      "\n",
      "Epoch 65: Validation loss decreased (0.834987 --> 0.834623).  Saving model ...\n",
      "\t Train_Loss: 0.8738 Train_Acc: 62.619 Val_Loss: 0.8346  BEST VAL Loss: 0.8346  Val_Acc: 66.134\n",
      "\n",
      "Epoch 66: Validation loss decreased (0.834623 --> 0.833911).  Saving model ...\n",
      "\t Train_Loss: 0.8732 Train_Acc: 62.836 Val_Loss: 0.8339  BEST VAL Loss: 0.8339  Val_Acc: 66.793\n",
      "\n",
      "Epoch 67: Validation loss decreased (0.833911 --> 0.833202).  Saving model ...\n",
      "\t Train_Loss: 0.8726 Train_Acc: 62.492 Val_Loss: 0.8332  BEST VAL Loss: 0.8332  Val_Acc: 66.014\n",
      "\n",
      "Epoch 68: Validation loss did not decrease\n",
      "\t Train_Loss: 0.8721 Train_Acc: 62.419 Val_Loss: 0.8333  BEST VAL Loss: 0.8332  Val_Acc: 64.036\n",
      "\n",
      "Epoch 69: Validation loss decreased (0.833202 --> 0.832635).  Saving model ...\n",
      "\t Train_Loss: 0.8716 Train_Acc: 62.621 Val_Loss: 0.8326  BEST VAL Loss: 0.8326  Val_Acc: 68.352\n",
      "\n",
      "Epoch 70: Validation loss did not decrease\n",
      "\t Train_Loss: 0.8711 Train_Acc: 62.879 Val_Loss: 0.8327  BEST VAL Loss: 0.8326  Val_Acc: 61.878\n",
      "\n",
      "Epoch 71: Validation loss decreased (0.832635 --> 0.831480).  Saving model ...\n",
      "\t Train_Loss: 0.8706 Train_Acc: 62.547 Val_Loss: 0.8315  BEST VAL Loss: 0.8315  Val_Acc: 68.911\n",
      "\n",
      "Epoch 72: Validation loss decreased (0.831480 --> 0.830409).  Saving model ...\n",
      "\t Train_Loss: 0.8700 Train_Acc: 63.061 Val_Loss: 0.8304  BEST VAL Loss: 0.8304  Val_Acc: 66.633\n",
      "\n",
      "Epoch 73: Validation loss decreased (0.830409 --> 0.829392).  Saving model ...\n",
      "\t Train_Loss: 0.8695 Train_Acc: 62.564 Val_Loss: 0.8294  BEST VAL Loss: 0.8294  Val_Acc: 68.332\n",
      "\n",
      "Epoch 74: Validation loss decreased (0.829392 --> 0.828392).  Saving model ...\n",
      "\t Train_Loss: 0.8690 Train_Acc: 62.269 Val_Loss: 0.8284  BEST VAL Loss: 0.8284  Val_Acc: 68.472\n",
      "\n",
      "Epoch 75: Validation loss decreased (0.828392 --> 0.828128).  Saving model ...\n",
      "\t Train_Loss: 0.8684 Train_Acc: 62.434 Val_Loss: 0.8281  BEST VAL Loss: 0.8281  Val_Acc: 63.377\n",
      "\n",
      "Epoch 76: Validation loss decreased (0.828128 --> 0.827349).  Saving model ...\n",
      "\t Train_Loss: 0.8680 Train_Acc: 61.935 Val_Loss: 0.8273  BEST VAL Loss: 0.8273  Val_Acc: 66.573\n",
      "\n",
      "Epoch 77: Validation loss decreased (0.827349 --> 0.826374).  Saving model ...\n",
      "\t Train_Loss: 0.8675 Train_Acc: 62.040 Val_Loss: 0.8264  BEST VAL Loss: 0.8264  Val_Acc: 68.671\n",
      "\n",
      "Epoch 78: Validation loss decreased (0.826374 --> 0.826087).  Saving model ...\n",
      "\t Train_Loss: 0.8670 Train_Acc: 61.987 Val_Loss: 0.8261  BEST VAL Loss: 0.8261  Val_Acc: 65.654\n",
      "\n",
      "Epoch 79: Validation loss decreased (0.826087 --> 0.825645).  Saving model ...\n",
      "\t Train_Loss: 0.8665 Train_Acc: 62.007 Val_Loss: 0.8256  BEST VAL Loss: 0.8256  Val_Acc: 68.052\n",
      "\n",
      "Epoch 80: Validation loss decreased (0.825645 --> 0.824769).  Saving model ...\n",
      "\t Train_Loss: 0.8660 Train_Acc: 62.364 Val_Loss: 0.8248  BEST VAL Loss: 0.8248  Val_Acc: 68.591\n",
      "\n",
      "Epoch 81: Validation loss decreased (0.824769 --> 0.824074).  Saving model ...\n",
      "\t Train_Loss: 0.8655 Train_Acc: 62.347 Val_Loss: 0.8241  BEST VAL Loss: 0.8241  Val_Acc: 67.153\n",
      "\n",
      "Epoch 82: Validation loss decreased (0.824074 --> 0.823248).  Saving model ...\n",
      "\t Train_Loss: 0.8650 Train_Acc: 62.304 Val_Loss: 0.8232  BEST VAL Loss: 0.8232  Val_Acc: 67.572\n",
      "\n",
      "Epoch 83: Validation loss decreased (0.823248 --> 0.822899).  Saving model ...\n",
      "\t Train_Loss: 0.8646 Train_Acc: 62.394 Val_Loss: 0.8229  BEST VAL Loss: 0.8229  Val_Acc: 66.613\n",
      "\n",
      "Epoch 84: Validation loss decreased (0.822899 --> 0.822269).  Saving model ...\n",
      "\t Train_Loss: 0.8642 Train_Acc: 61.887 Val_Loss: 0.8223  BEST VAL Loss: 0.8223  Val_Acc: 67.053\n",
      "\n",
      "Epoch 85: Validation loss decreased (0.822269 --> 0.821696).  Saving model ...\n",
      "\t Train_Loss: 0.8638 Train_Acc: 62.057 Val_Loss: 0.8217  BEST VAL Loss: 0.8217  Val_Acc: 67.393\n",
      "\n",
      "Epoch 86: Validation loss decreased (0.821696 --> 0.820989).  Saving model ...\n",
      "\t Train_Loss: 0.8633 Train_Acc: 62.631 Val_Loss: 0.8210  BEST VAL Loss: 0.8210  Val_Acc: 68.072\n",
      "\n",
      "Epoch 87: Validation loss decreased (0.820989 --> 0.820864).  Saving model ...\n",
      "\t Train_Loss: 0.8629 Train_Acc: 62.509 Val_Loss: 0.8209  BEST VAL Loss: 0.8209  Val_Acc: 64.875\n",
      "\n",
      "Epoch 88: Validation loss decreased (0.820864 --> 0.820225).  Saving model ...\n",
      "\t Train_Loss: 0.8625 Train_Acc: 62.074 Val_Loss: 0.8202  BEST VAL Loss: 0.8202  Val_Acc: 68.292\n",
      "\n",
      "Epoch 89: Validation loss decreased (0.820225 --> 0.819947).  Saving model ...\n",
      "\t Train_Loss: 0.8621 Train_Acc: 62.519 Val_Loss: 0.8199  BEST VAL Loss: 0.8199  Val_Acc: 66.633\n",
      "\n",
      "Epoch 90: Validation loss decreased (0.819947 --> 0.819519).  Saving model ...\n",
      "\t Train_Loss: 0.8617 Train_Acc: 62.489 Val_Loss: 0.8195  BEST VAL Loss: 0.8195  Val_Acc: 66.693\n",
      "\n",
      "Epoch 91: Validation loss decreased (0.819519 --> 0.819242).  Saving model ...\n",
      "\t Train_Loss: 0.8613 Train_Acc: 62.624 Val_Loss: 0.8192  BEST VAL Loss: 0.8192  Val_Acc: 67.013\n",
      "\n",
      "Epoch 92: Validation loss decreased (0.819242 --> 0.818693).  Saving model ...\n",
      "\t Train_Loss: 0.8609 Train_Acc: 62.494 Val_Loss: 0.8187  BEST VAL Loss: 0.8187  Val_Acc: 67.233\n",
      "\n",
      "Epoch 93: Validation loss decreased (0.818693 --> 0.817867).  Saving model ...\n",
      "\t Train_Loss: 0.8605 Train_Acc: 62.806 Val_Loss: 0.8179  BEST VAL Loss: 0.8179  Val_Acc: 68.951\n",
      "\n",
      "Epoch 94: Validation loss decreased (0.817867 --> 0.817677).  Saving model ...\n",
      "\t Train_Loss: 0.8601 Train_Acc: 62.776 Val_Loss: 0.8177  BEST VAL Loss: 0.8177  Val_Acc: 67.772\n",
      "\n",
      "Epoch 95: Validation loss decreased (0.817677 --> 0.817620).  Saving model ...\n",
      "\t Train_Loss: 0.8597 Train_Acc: 62.641 Val_Loss: 0.8176  BEST VAL Loss: 0.8176  Val_Acc: 64.016\n",
      "\n",
      "Epoch 96: Validation loss decreased (0.817620 --> 0.817466).  Saving model ...\n",
      "\t Train_Loss: 0.8594 Train_Acc: 62.696 Val_Loss: 0.8175  BEST VAL Loss: 0.8175  Val_Acc: 67.992\n",
      "\n",
      "Epoch 97: Validation loss decreased (0.817466 --> 0.817115).  Saving model ...\n",
      "\t Train_Loss: 0.8591 Train_Acc: 62.671 Val_Loss: 0.8171  BEST VAL Loss: 0.8171  Val_Acc: 66.773\n",
      "\n",
      "Epoch 98: Validation loss decreased (0.817115 --> 0.816484).  Saving model ...\n",
      "\t Train_Loss: 0.8587 Train_Acc: 62.731 Val_Loss: 0.8165  BEST VAL Loss: 0.8165  Val_Acc: 69.011\n",
      "\n",
      "Epoch 99: Validation loss decreased (0.816484 --> 0.815747).  Saving model ...\n",
      "\t Train_Loss: 0.8583 Train_Acc: 63.241 Val_Loss: 0.8157  BEST VAL Loss: 0.8157  Val_Acc: 69.071\n",
      "\n"
     ]
    }
   ],
   "source": [
    "# call the optimized training model\n",
    "train_loss, train_acc, valid_loss, valid_acc, epochs_ran, model = train_optimized_model(\n",
    "    params.TRAIN_EPOCHS,\n",
    "    train_loader,\n",
    "    valid_loader,\n",
    "    param_dict,\n",
    "    params,\n",
    ")\n",
    "if params.MODEL_TYPE == \"Regression\":\n",
    "    training_stats = pd.DataFrame(\n",
    "        zip(train_loss, valid_loss, epochs_ran),\n",
    "        columns=[\"train_loss\", \"valid_loss\", \"epochs_ran\"],\n",
    "    )\n",
    "else:\n",
    "    training_stats = pd.DataFrame(\n",
    "        zip(train_loss, train_acc, valid_loss, valid_acc, epochs_ran),\n",
    "        columns=[\"train_loss\", \"train_acc\", \"valid_loss\", \"valid_acc\", \"epochs_ran\"],\n",
    "    )"
   ]
  },
  {
   "cell_type": "code",
   "execution_count": 16,
   "id": "1340d8aa",
   "metadata": {},
   "outputs": [
    {
     "name": "stderr",
     "output_type": "stream",
     "text": [
      "/home/lippincm/Documents/ML/Interstellar_Analysis/MLP_Model/MLP_utils/utils.py:874: UserWarning:\n",
      "\n",
      "Ignoring `palette` because no `hue` variable has been assigned.\n",
      "\n",
      "/home/lippincm/Documents/ML/Interstellar_Analysis/MLP_Model/MLP_utils/utils.py:875: UserWarning:\n",
      "\n",
      "Ignoring `palette` because no `hue` variable has been assigned.\n",
      "\n"
     ]
    },
    {
     "data": {
      "image/png": "[encoded data removed]",
      "text/plain": [
       "<Figure size 640x480 with 1 Axes>"
      ]
     },
     "metadata": {},
     "output_type": "display_data"
    }
   ],
   "source": [
    "if params.MODEL_TYPE == \"Regression\":\n",
    "    pass\n",
    "else:\n",
    "    plot_metric_vs_epoch(\n",
    "        training_stats,\n",
    "        x=\"epochs_ran\",\n",
    "        y1=\"train_acc\",\n",
    "        y2=\"valid_acc\",\n",
    "        title=\"Accuracy vs. Epochs\",\n",
    "        x_axis_label=\"Epochs\",\n",
    "        y_axis_label=\"Accuracy\",\n",
    "        params=params,\n",
    "    )"
   ]
  },
  {
   "cell_type": "code",
   "execution_count": 17,
   "id": "41991221",
   "metadata": {},
   "outputs": [
    {
     "name": "stderr",
     "output_type": "stream",
     "text": [
      "/home/lippincm/Documents/ML/Interstellar_Analysis/MLP_Model/MLP_utils/utils.py:874: UserWarning:\n",
      "\n",
      "Ignoring `palette` because no `hue` variable has been assigned.\n",
      "\n",
      "/home/lippincm/Documents/ML/Interstellar_Analysis/MLP_Model/MLP_utils/utils.py:875: UserWarning:\n",
      "\n",
      "Ignoring `palette` because no `hue` variable has been assigned.\n",
      "\n"
     ]
    },
    {
     "data": {
      "image/png": "[encoded data removed]",
      "text/plain": [
       "<Figure size 640x480 with 1 Axes>"
      ]
     },
     "metadata": {},
     "output_type": "display_data"
    }
   ],
   "source": [
    "plot_metric_vs_epoch(\n",
    "    training_stats,\n",
    "    x=\"epochs_ran\",\n",
    "    y1=\"train_loss\",\n",
    "    y2=\"valid_loss\",\n",
    "    title=\"Loss vs. Epochs\",\n",
    "    x_axis_label=\"Epochs\",\n",
    "    y_axis_label=\"Loss\",\n",
    "    params=params,\n",
    ")"
   ]
  },
  {
   "cell_type": "code",
   "execution_count": 18,
   "id": "3e2c848c",
   "metadata": {},
   "outputs": [],
   "source": [
    "# calling the testing function and outputting list values of tested model\n",
    "if params.MODEL_TYPE == \"Multi_Class\" or params.MODEL_TYPE == \"Regression\":\n",
    "    y_pred_list = test_optimized_model(model, test_loader, params)\n",
    "elif params.MODEL_TYPE == \"Binary_Classification\":\n",
    "    y_pred_list, y_pred_prob_list = test_optimized_model(model, test_loader, params)\n",
    "else:\n",
    "    raise Exception(\"Model type must be specified for proper model testing\")\n",
    "\n",
    "\n",
    "# un-nest list if nested i.e. length of input data does not match length of output data\n",
    "if len(y_pred_list) != len(Y_test):\n",
    "    y_pred_list = un_nest(y_pred_list)\n",
    "    y_pred_prob_list = un_nest(y_pred_prob_list)\n",
    "else:\n",
    "    pass"
   ]
  },
  {
   "cell_type": "code",
   "execution_count": 19,
   "id": "3c53f7e4",
   "metadata": {},
   "outputs": [
    {
     "name": "stdout",
     "output_type": "stream",
     "text": [
      "              precision    recall  f1-score   support\n",
      "\n",
      "           0       0.69      0.62      0.65      1346\n",
      "           1       0.64      0.60      0.62      1768\n",
      "           2       0.70      0.79      0.74      1891\n",
      "\n",
      "    accuracy                           0.68      5005\n",
      "   macro avg       0.68      0.67      0.67      5005\n",
      "weighted avg       0.68      0.68      0.68      5005\n",
      "\n",
      "Precision for class 0: 0.686530612244898\n",
      "Recall for class 0: 0.62481426448737\n",
      "Precision for class 1: 0.6412121212121212\n",
      "Recall for class 1: 0.5984162895927602\n",
      "Precision for class 2: 0.7028169014084507\n",
      "Recall for class 2: 0.7916446324695928\n",
      "3\n"
     ]
    },
    {
     "data": {
      "image/png": "[encoded data removed]",
      "text/plain": [
       "<Figure size 640x480 with 2 Axes>"
      ]
     },
     "metadata": {},
     "output_type": "display_data"
    },
    {
     "data": {
      "image/png": "[encoded data removed]",
      "text/plain": [
       "<Figure size 640x480 with 1 Axes>"
      ]
     },
     "metadata": {},
     "output_type": "display_data"
    }
   ],
   "source": [
    "# Call visualization function\n",
    "# calling the testing function and outputing list values of tested model\n",
    "if params.MODEL_TYPE == \"Multi_Class\" or params.MODEL_TYPE == \"Regression\":\n",
    "    confusion_matrix_df = results_output(y_pred_list, Y_test, params)\n",
    "elif params.MODEL_TYPE == \"Binary_Classification\":\n",
    "    results_output(y_pred_list, Y_test, params, y_pred_prob_list)\n",
    "else:\n",
    "    raise Exception(\"Model type must be specified for proper model testing\")"
   ]
  }
 ],
 "metadata": {
  "jupytext": {
   "cell_metadata_filter": "-all",
   "encoding": "# coding: utf-8",
   "executable": "/usr/bin/env python",
   "formats": "ipynb,py",
   "main_language": "python"
  },
  "kernelspec": {
   "display_name": "Python 3 (ipykernel)",
   "language": "python",
   "name": "python3"
  },
  "language_info": {
   "codemirror_mode": {
    "name": "ipython",
    "version": 3
   },
   "file_extension": ".py",
   "mimetype": "text/x-python",
   "name": "python",
   "nbconvert_exporter": "python",
   "pygments_lexer": "ipython3",
   "version": "3.10.10 | packaged by conda-forge | (main, Mar 24 2023, 20:08:06) [GCC 11.3.0]"
  },
  "vscode": {
   "interpreter": {
    "hash": "72ae02083a9ca7d143c492d1aec380c7bf553ec51bd66e90e72bba65228121b6"
   }
  }
 },
 "nbformat": 4,
 "nbformat_minor": 5
}
