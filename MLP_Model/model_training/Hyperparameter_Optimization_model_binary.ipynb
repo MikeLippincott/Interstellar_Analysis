{
 "cells": [
  {
   "attachments": {},
   "cell_type": "markdown",
   "id": "8e60628c",
   "metadata": {},
   "source": [
    "## Hyperparameter tuning via Optuna"
   ]
  },
  {
   "cell_type": "markdown",
   "id": "8fac71a5",
   "metadata": {},
   "source": [
    "### Being a binary model this notebook will be limited to predicting one class 1 or 0, yes or no.\n",
    "### Here I will be predicting if a cell received a treatment or not"
   ]
  },
  {
   "cell_type": "code",
   "execution_count": 1,
   "id": "860a61dd",
   "metadata": {},
   "outputs": [],
   "source": [
    "import sys\n",
    "from pathlib import Path\n",
    "import os\n",
    "\n",
    "import matplotlib.pyplot as plt\n",
    "import numpy as np\n",
    "import optuna\n",
    "import pandas as pd\n",
    "import plotly\n",
    "import seaborn as sns\n",
    "import toml\n",
    "import torch\n",
    "import torch.nn as nn\n",
    "import torch.optim as optim\n",
    "from sklearn import preprocessing\n",
    "\n",
    "from sklearn.model_selection import train_test_split\n",
    "\n",
    "\n",
    "from sklearn.metrics import confusion_matrix\n",
    "from sklearn.metrics import precision_score, recall_score\n",
    "from sklearn.metrics import roc_auc_score\n",
    "\n",
    "from sklearn.metrics import roc_curve, auc\n",
    "\n",
    "import pyarrow.parquet as pq\n",
    "\n",
    "sys.path.append(\"..\")\n",
    "from MLP_utils.utils import parameter_set\n",
    "from MLP_utils.parameters import Parameters\n",
    "from MLP_utils.utils import (\n",
    "    Dataset_formatter,\n",
    "    data_split,\n",
    "    extract_best_trial_params,\n",
    "    objective_model_optimizer,\n",
    "    optimized_model_create,\n",
    "    plot_metric_vs_epoch,\n",
    "    results_output,\n",
    "    test_optimized_model,\n",
    "    train_optimized_model,\n",
    "    un_nest,\n",
    ")\n",
    "\n",
    "\n",
    "sys.path.append(\"../..\")\n",
    "from utils.utils import df_stats"
   ]
  },
  {
   "cell_type": "code",
   "execution_count": 2,
   "id": "44baa945",
   "metadata": {},
   "outputs": [],
   "source": [
    "# Import Data\n",
    "# set data file path under pathlib path for multi-system use\n",
    "\n",
    "\n",
    "file_path = Path(\n",
    "    \"../../../Extracted_Features_(CSV_files)/interstellar_wave3_sc_norm_fs_cellprofiler.csv.gz\"\n",
    ")\n",
    "\n",
    "file_path = Path(\n",
    "    \"../../../Extracted_Features_(CSV_files)/SHSY5Y_preprocessed_df_sc_norm.parquet\"\n",
    ")\n",
    "\n",
    "df = pq.read_table(file_path).to_pandas()\n",
    "# df = pd.read_csv(file_path, engine=\"pyarrow\")"
   ]
  },
  {
   "cell_type": "code",
   "execution_count": 3,
   "id": "394294ce",
   "metadata": {},
   "outputs": [],
   "source": [
    "data = Path(\"../MLP_utils/config.toml\")\n",
    "config = toml.load(data)\n",
    "params = Parameters()\n",
    "params = parameter_set(params, config)"
   ]
  },
  {
   "attachments": {},
   "cell_type": "markdown",
   "id": "5c486e00",
   "metadata": {},
   "source": [
    "#### Set up Data to be compatible with model"
   ]
  },
  {
   "attachments": {},
   "cell_type": "markdown",
   "id": "95754baa",
   "metadata": {},
   "source": [
    "##### Classification Models:\n",
    "Comment out code if using regression"
   ]
  },
  {
   "cell_type": "code",
   "execution_count": 4,
   "id": "b6ea8ac9",
   "metadata": {},
   "outputs": [
    {
     "name": "stdout",
     "output_type": "stream",
     "text": [
      "Selected Catagories are:\n",
      "['DMSO_0.100_DMSO_0.025' 'LPS_10.000_DMSO_0.025']\n",
      "The dimensions of the data are: (52453, 2872)\n",
      "Number of total missing values across all columns: 104906\n",
      "Data Subset Is Off\n"
     ]
    }
   ],
   "source": [
    "# Combine treatment with dosage to be able to discern treatments with different doses as a different condition\n",
    "# Combine treatment and dose\n",
    "# df = df.assign(\n",
    "#     Metadata_Treatment_and_Dose=lambda x: df[\"Metadata_treatment\"]\n",
    "#     + \"_\"\n",
    "#     + df[\"Metadata_dose\"]\n",
    "# )\n",
    "\n",
    "# print(\"Unique Catagories are:\")\n",
    "# print(df[\"Metadata_Treatment_and_Dose\"].unique())\n",
    "\n",
    "# Generate df specific to analysis and model\n",
    "# df = df.query(\n",
    "#     \"oneb_Metadata_Treatment_Dose_Inhibitor_Dose == 'LPS_100.000_DMSO_0.025'| oneb_Metadata_Treatment_Dose_Inhibitor_Dose == 'DMSO_0.100_DMSO_0.025' | oneb_Metadata_Treatment_Dose_Inhibitor_Dose == 'Thapsigargin_10.000_DMSO_0.025'\"\n",
    "# )\n",
    "# for binary classification testing\n",
    "df = df.query(\n",
    "    \"oneb_Metadata_Treatment_Dose_Inhibitor_Dose == 'LPS_10.000_DMSO_0.025'| oneb_Metadata_Treatment_Dose_Inhibitor_Dose == 'DMSO_0.100_DMSO_0.025'\"\n",
    ")\n",
    "# df = df.query(\n",
    "#     \"oneb_Metadata_Treatment_Dose_Inhibitor_Dose == 'LPS_100.000_DMSO_0.025'| oneb_Metadata_Treatment_Dose_Inhibitor_Dose == 'LPS_10.000_DMSO_0.025'\"\n",
    "# )\n",
    "print(\"Selected Catagories are:\")\n",
    "print(df[\"oneb_Metadata_Treatment_Dose_Inhibitor_Dose\"].unique())\n",
    "# Drop na and reindex accordingly\n",
    "# df = df.dropna()\n",
    "# df = df.reset_index(drop=True)\n",
    "\n",
    "# Check for Nans again\n",
    "df_stats(df)\n",
    "\n",
    "if params.DATA_SUBSET_OPTION == \"True\":\n",
    "    df = df.sample(n=params.DATA_SUBSET_NUMBER)\n",
    "    print(\"Data Subset Is On\")\n",
    "    print(f\"Data is subset to {params.DATA_SUBSET_NUMBER}\")\n",
    "else:\n",
    "    print(\"Data Subset Is Off\")"
   ]
  },
  {
   "cell_type": "code",
   "execution_count": 5,
   "id": "088cff07",
   "metadata": {},
   "outputs": [
    {
     "name": "stdout",
     "output_type": "stream",
     "text": [
      "Wells held out for testing: ['E20' 'I14']\n",
      "Wells to use for training, validation, and testing ['B14' 'C14' 'B15' 'C15' 'E16' 'E17' 'E21' 'J14' 'I15' 'J15']\n"
     ]
    }
   ],
   "source": [
    "np.random.seed(seed=0)\n",
    "wells_to_hold = (\n",
    "    df.groupby(\"oneb_Metadata_Treatment_Dose_Inhibitor_Dose\")\n",
    "    .agg(np.random.choice)[\"Metadata_Well\"]\n",
    "    .to_list()\n",
    ")\n",
    "df_holdout = df[df[\"Metadata_Well\"].isin(wells_to_hold)]\n",
    "df = df[~df[\"Metadata_Well\"].isin(wells_to_hold)]\n",
    "\n",
    "\n",
    "print(\"Wells held out for testing:\", df_holdout[\"Metadata_Well\"].unique())\n",
    "print(\n",
    "    \"Wells to use for training, validation, and testing\", df[\"Metadata_Well\"].unique()\n",
    ")"
   ]
  },
  {
   "cell_type": "code",
   "execution_count": 6,
   "id": "786e3a76",
   "metadata": {},
   "outputs": [],
   "source": [
    "# Code snippet for metadata extraction by Jenna Tomkinson\n",
    "df_metadata = list(df.columns[df.columns.str.startswith(\"Metadata\")])\n",
    "\n",
    "# define which columns are data and which are descriptive\n",
    "df_descriptive = df[df_metadata]\n",
    "df_values = df.drop(columns=df_metadata)"
   ]
  },
  {
   "cell_type": "code",
   "execution_count": 7,
   "id": "595afb65",
   "metadata": {},
   "outputs": [],
   "source": [
    "# Creating label encoder\n",
    "le = preprocessing.LabelEncoder()\n",
    "# Converting strings into numbers\n",
    "df_values[\"oneb_Metadata_Treatment_Dose_Inhibitor_Dose\"] = le.fit_transform(\n",
    "    df_values[\"oneb_Metadata_Treatment_Dose_Inhibitor_Dose\"]\n",
    ")\n",
    "# split into X and Y where Y are the predictive column and x are the observable data\n",
    "df_values_X = df_values.drop(\n",
    "    [\n",
    "        \"oneb_Metadata_Treatment_Dose_Inhibitor_Dose\",\n",
    "        \"twob_Metadata_Treatment_Dose_Inhibitor_Dose\",\n",
    "        \"threeb_Metadata_Treatment_Dose_Inhibitor_Dose\",\n",
    "        \"fourb_Metadata_Treatment_Dose_Inhibitor_Dose\",\n",
    "    ],\n",
    "    axis=1,\n",
    ")\n",
    "df_values_Y = df_values[\"oneb_Metadata_Treatment_Dose_Inhibitor_Dose\"]"
   ]
  },
  {
   "attachments": {},
   "cell_type": "markdown",
   "id": "633673ce",
   "metadata": {},
   "source": [
    "##### Regression Model Data Wrangling and Set Up\n",
    "comment out if not using regression"
   ]
  },
  {
   "cell_type": "code",
   "execution_count": 8,
   "id": "e2df24ec",
   "metadata": {},
   "outputs": [],
   "source": [
    "# if params.DATA_SUBSET_OPTION == 'True':\n",
    "#     df = df.sample(n=params.DATA_SUBSET_NUMBER)\n",
    "#     print(\"yes\")\n",
    "# else:\n",
    "#     pass\n",
    "# df_stats(df)\n",
    "# # Drop na and reindex accordingly\n",
    "# df = df.dropna()\n",
    "# df = df.reset_index(drop=True)\n",
    "\n",
    "# # Check for Nans again\n",
    "# df_stats(df)\n",
    "# # Code snippet for metadata extraction by Jenna Tomkinson\n",
    "# df_metadata = list(df.columns[df.columns.str.startswith(\"Metadata\")])\n",
    "# # define which columns are data and which are descriptive\n",
    "# df_descriptive = df[df_metadata]\n",
    "# df_values = df.drop(columns=df_metadata)\n",
    "# df_values_Y = df_values['Nuclei_Texture_InverseDifferenceMoment_CorrER_3_01_256']\n",
    "# df_values_X = df_values.drop('Nuclei_Texture_InverseDifferenceMoment_CorrER_3_01_256', axis=1)"
   ]
  },
  {
   "attachments": {},
   "cell_type": "markdown",
   "id": "260a048e",
   "metadata": {},
   "source": [
    "#### Split Data - All Models can proceed through this point"
   ]
  },
  {
   "cell_type": "code",
   "execution_count": 9,
   "id": "f4feb87f",
   "metadata": {},
   "outputs": [],
   "source": [
    "X_train, X_test, X_val, Y_train, Y_test, Y_val = data_split(\n",
    "    X_vals=df_values_X,\n",
    "    y_vals=df_values_Y,\n",
    "    train_proportion=0.8,\n",
    "    val_proportion=0.1,\n",
    "    test_proportion=0.1,\n",
    "    seed=1,\n",
    "    params=params,\n",
    ")"
   ]
  },
  {
   "cell_type": "code",
   "execution_count": 10,
   "id": "36894826",
   "metadata": {},
   "outputs": [],
   "source": [
    "# produce data objects for train, val and test datasets\n",
    "train_data = Dataset_formatter(\n",
    "    torch.FloatTensor(X_train.values), torch.FloatTensor(Y_train.values)\n",
    ")\n",
    "val_data = Dataset_formatter(\n",
    "    torch.FloatTensor(X_val.values), torch.FloatTensor(Y_val.values)\n",
    ")\n",
    "test_data = Dataset_formatter(\n",
    "    torch.FloatTensor(X_test.values), torch.FloatTensor(Y_test.values)\n",
    ")"
   ]
  },
  {
   "cell_type": "code",
   "execution_count": 11,
   "id": "4382d712",
   "metadata": {},
   "outputs": [
    {
     "name": "stdout",
     "output_type": "stream",
     "text": [
      "Number of in features:  2847\n",
      "Number of out features:  2\n",
      "Binary_Classification\n"
     ]
    }
   ],
   "source": [
    "params.IN_FEATURES = X_train.shape[1]\n",
    "print(\"Number of in features: \", params.IN_FEATURES)\n",
    "if params.MODEL_TYPE == \"Regression\":\n",
    "    params.OUT_FEATURES = 1\n",
    "else:\n",
    "    params.OUT_FEATURES = len(\n",
    "        df_values[\"oneb_Metadata_Treatment_Dose_Inhibitor_Dose\"].unique()\n",
    "    )\n",
    "\n",
    "print(\"Number of out features: \", params.OUT_FEATURES)\n",
    "\n",
    "if params.OUT_FEATURES > 2:\n",
    "    params.MODEL_TYPE = \"Multi_Class\"\n",
    "elif params.OUT_FEATURES == 2:\n",
    "    params.OUT_FEATURES = params.OUT_FEATURES - 1\n",
    "    params.MODEL_TYPE = \"Binary_Classification\"\n",
    "elif params.OUT_FEATURES == 1:\n",
    "    params.MODEL_TYPE = \"Regression\"\n",
    "else:\n",
    "    pass\n",
    "print(params.MODEL_TYPE)"
   ]
  },
  {
   "cell_type": "code",
   "execution_count": 12,
   "id": "77effa5c",
   "metadata": {},
   "outputs": [],
   "source": [
    "# convert data class into a dataloader to be compatible with pytorch\n",
    "train_loader = torch.utils.data.DataLoader(\n",
    "    dataset=train_data, batch_size=params.BATCH_SIZE\n",
    ")\n",
    "valid_loader = torch.utils.data.DataLoader(\n",
    "    dataset=val_data, batch_size=params.BATCH_SIZE\n",
    ")\n",
    "test_loader = torch.utils.data.DataLoader(dataset=test_data, batch_size=1)"
   ]
  },
  {
   "cell_type": "code",
   "execution_count": 13,
   "id": "a969042f",
   "metadata": {},
   "outputs": [
    {
     "name": "stderr",
     "output_type": "stream",
     "text": [
      "\u001b[32m[I 2023-05-08 20:41:44,128]\u001b[0m A new study created in memory with name: no-name-da770f33-e436-4954-964f-747d3633316e\u001b[0m\n",
      "\u001b[32m[I 2023-05-08 20:42:34,011]\u001b[0m Trial 0 finished with value: 0.5468713104724884 and parameters: {'n_layers': 2, 'n_units_l0': 9, 'dropout_0': 0.14835802297369938, 'n_units_l1': 10, 'dropout_1': 0.16237280019292707, 'learning_rate': 0.08764782264835319, 'optimizer': 'Adam'}. Best is trial 0 with value: 0.5468713104724884.\u001b[0m\n",
      "\u001b[32m[I 2023-05-08 20:43:21,539]\u001b[0m Trial 1 finished with value: 0.4982338688373566 and parameters: {'n_layers': 2, 'n_units_l0': 4, 'dropout_0': 0.3927561085586829, 'n_units_l1': 6, 'dropout_1': 0.1130504760687891, 'learning_rate': 0.06823313305666533, 'optimizer': 'SGD'}. Best is trial 1 with value: 0.4982338688373566.\u001b[0m\n",
      "\u001b[32m[I 2023-05-08 20:44:08,728]\u001b[0m Trial 2 finished with value: 0.514484976887703 and parameters: {'n_layers': 1, 'n_units_l0': 10, 'dropout_0': 0.3081601812374479, 'learning_rate': 0.08198302003334057, 'optimizer': 'Adam'}. Best is trial 1 with value: 0.4982338688373566.\u001b[0m\n",
      "\u001b[32m[I 2023-05-08 20:44:56,606]\u001b[0m Trial 3 finished with value: 0.5871223816871644 and parameters: {'n_layers': 2, 'n_units_l0': 4, 'dropout_0': 0.1468536524333617, 'n_units_l1': 6, 'dropout_1': 0.3823814652562906, 'learning_rate': 0.06044137264201476, 'optimizer': 'RMSprop'}. Best is trial 1 with value: 0.4982338688373566.\u001b[0m\n",
      "\u001b[32m[I 2023-05-08 20:45:44,361]\u001b[0m Trial 4 finished with value: 0.6020999579429627 and parameters: {'n_layers': 3, 'n_units_l0': 6, 'dropout_0': 0.3559652501934577, 'n_units_l1': 9, 'dropout_1': 0.3202207840167297, 'n_units_l2': 6, 'dropout_2': 0.3262633982240947, 'learning_rate': 0.08368358262671968, 'optimizer': 'RMSprop'}. Best is trial 1 with value: 0.4982338688373566.\u001b[0m\n",
      "\u001b[32m[I 2023-05-08 20:45:45,313]\u001b[0m Trial 5 pruned. \u001b[0m\n",
      "\u001b[32m[I 2023-05-08 20:46:33,015]\u001b[0m Trial 6 finished with value: 0.4935445618629455 and parameters: {'n_layers': 1, 'n_units_l0': 5, 'dropout_0': 0.25584658402076743, 'learning_rate': 0.026779986630544678, 'optimizer': 'RMSprop'}. Best is trial 6 with value: 0.4935445618629455.\u001b[0m\n",
      "\u001b[32m[I 2023-05-08 20:46:34,043]\u001b[0m Trial 7 pruned. \u001b[0m\n",
      "\u001b[32m[I 2023-05-08 20:46:34,938]\u001b[0m Trial 8 pruned. \u001b[0m\n",
      "\u001b[32m[I 2023-05-08 20:47:22,514]\u001b[0m Trial 9 finished with value: 0.45723539721965795 and parameters: {'n_layers': 1, 'n_units_l0': 4, 'dropout_0': 0.126857284575737, 'learning_rate': 0.011175671127179493, 'optimizer': 'RMSprop'}. Best is trial 9 with value: 0.45723539721965795.\u001b[0m\n"
     ]
    },
    {
     "name": "stdout",
     "output_type": "stream",
     "text": [
      "Validation Accuracy: 75.17606444188723\n",
      "Validation Loss: 0.5036067495346069\n",
      "Training Accuracy: 79.34846654007711\n",
      "Training Loss: 0.4290839292492185\n"
     ]
    },
    {
     "data": {
      "text/plain": [
       "(75.17606444188723, 0.5036067495346069, 79.34846654007711, 0.4290839292492185)"
      ]
     },
     "execution_count": 13,
     "metadata": {},
     "output_type": "execute_result"
    }
   ],
   "source": [
    "# no accuracy function must be loss for regression\n",
    "if params.MODEL_TYPE == \"Regression\":\n",
    "    params.METRIC = \"loss\"\n",
    "    pass\n",
    "\n",
    "\n",
    "# wrap the objective function inside of a lambda function to pass args...\n",
    "objective_lambda_func = lambda trial: objective_model_optimizer(\n",
    "    train_loader,\n",
    "    valid_loader,\n",
    "    trial=trial,\n",
    "    params=params,\n",
    "    metric=params.METRIC,\n",
    "    return_info=False,\n",
    ")\n",
    "\n",
    "\n",
    "# Study is the object for model optimization\n",
    "study = optuna.create_study(direction=f\"{params.DIRECTION}\")\n",
    "# Here I apply the optimize function of the study to the objective function\n",
    "# This optimizes each parameter specified to be optimized from the defined search space\n",
    "study.optimize(objective_lambda_func, n_trials=params.N_TRIALS)\n",
    "# Prints out the best trial's optimized parameters\n",
    "objective_model_optimizer(\n",
    "    train_loader,\n",
    "    valid_loader,\n",
    "    trial=study.best_trial,\n",
    "    params=params,\n",
    "    metric=params.METRIC,\n",
    "    return_info=True,\n",
    ")"
   ]
  },
  {
   "cell_type": "code",
   "execution_count": 14,
   "id": "b2620589",
   "metadata": {},
   "outputs": [
    {
     "data": {
      "application/vnd.plotly.v1+json": {
       "config": {
        "plotlyServerURL": "https://plot.ly"
       },
       "data": [
        {
         "mode": "markers",
         "name": "Objective Value",
         "type": "scatter",
         "x": [
          0,
          1,
          2,
          3,
          4,
          6,
          9
         ],
         "y": [
          0.5468713104724884,
          0.4982338688373566,
          0.514484976887703,
          0.5871223816871644,
          0.6020999579429627,
          0.4935445618629455,
          0.45723539721965795
         ]
        },
        {
         "name": "Best Value",
         "type": "scatter",
         "x": [
          0,
          1,
          2,
          3,
          4,
          6,
          9
         ],
         "y": [
          0.5468713104724884,
          0.4982338688373566,
          0.4982338688373566,
          0.4982338688373566,
          0.4982338688373566,
          0.4935445618629455,
          0.45723539721965795
         ]
        }
       ],
       "layout": {
        "template": {
         "data": {
          "bar": [
           {
            "error_x": {
             "color": "#2a3f5f"
            },
            "error_y": {
             "color": "#2a3f5f"
            },
            "marker": {
             "line": {
              "color": "#E5ECF6",
              "width": 0.5
             },
             "pattern": {
              "fillmode": "overlay",
              "size": 10,
              "solidity": 0.2
             }
            },
            "type": "bar"
           }
          ],
          "barpolar": [
           {
            "marker": {
             "line": {
              "color": "#E5ECF6",
              "width": 0.5
             },
             "pattern": {
              "fillmode": "overlay",
              "size": 10,
              "solidity": 0.2
             }
            },
            "type": "barpolar"
           }
          ],
          "carpet": [
           {
            "aaxis": {
             "endlinecolor": "#2a3f5f",
             "gridcolor": "white",
             "linecolor": "white",
             "minorgridcolor": "white",
             "startlinecolor": "#2a3f5f"
            },
            "baxis": {
             "endlinecolor": "#2a3f5f",
             "gridcolor": "white",
             "linecolor": "white",
             "minorgridcolor": "white",
             "startlinecolor": "#2a3f5f"
            },
            "type": "carpet"
           }
          ],
          "choropleth": [
           {
            "colorbar": {
             "outlinewidth": 0,
             "ticks": ""
            },
            "type": "choropleth"
           }
          ],
          "contour": [
           {
            "colorbar": {
             "outlinewidth": 0,
             "ticks": ""
            },
            "colorscale": [
             [
              0,
              "#0d0887"
             ],
             [
              0.1111111111111111,
              "#46039f"
             ],
             [
              0.2222222222222222,
              "#7201a8"
             ],
             [
              0.3333333333333333,
              "#9c179e"
             ],
             [
              0.4444444444444444,
              "#bd3786"
             ],
             [
              0.5555555555555556,
              "#d8576b"
             ],
             [
              0.6666666666666666,
              "#ed7953"
             ],
             [
              0.7777777777777778,
              "#fb9f3a"
             ],
             [
              0.8888888888888888,
              "#fdca26"
             ],
             [
              1,
              "#f0f921"
             ]
            ],
            "type": "contour"
           }
          ],
          "contourcarpet": [
           {
            "colorbar": {
             "outlinewidth": 0,
             "ticks": ""
            },
            "type": "contourcarpet"
           }
          ],
          "heatmap": [
           {
            "colorbar": {
             "outlinewidth": 0,
             "ticks": ""
            },
            "colorscale": [
             [
              0,
              "#0d0887"
             ],
             [
              0.1111111111111111,
              "#46039f"
             ],
             [
              0.2222222222222222,
              "#7201a8"
             ],
             [
              0.3333333333333333,
              "#9c179e"
             ],
             [
              0.4444444444444444,
              "#bd3786"
             ],
             [
              0.5555555555555556,
              "#d8576b"
             ],
             [
              0.6666666666666666,
              "#ed7953"
             ],
             [
              0.7777777777777778,
              "#fb9f3a"
             ],
             [
              0.8888888888888888,
              "#fdca26"
             ],
             [
              1,
              "#f0f921"
             ]
            ],
            "type": "heatmap"
           }
          ],
          "heatmapgl": [
           {
            "colorbar": {
             "outlinewidth": 0,
             "ticks": ""
            },
            "colorscale": [
             [
              0,
              "#0d0887"
             ],
             [
              0.1111111111111111,
              "#46039f"
             ],
             [
              0.2222222222222222,
              "#7201a8"
             ],
             [
              0.3333333333333333,
              "#9c179e"
             ],
             [
              0.4444444444444444,
              "#bd3786"
             ],
             [
              0.5555555555555556,
              "#d8576b"
             ],
             [
              0.6666666666666666,
              "#ed7953"
             ],
             [
              0.7777777777777778,
              "#fb9f3a"
             ],
             [
              0.8888888888888888,
              "#fdca26"
             ],
             [
              1,
              "#f0f921"
             ]
            ],
            "type": "heatmapgl"
           }
          ],
          "histogram": [
           {
            "marker": {
             "pattern": {
              "fillmode": "overlay",
              "size": 10,
              "solidity": 0.2
             }
            },
            "type": "histogram"
           }
          ],
          "histogram2d": [
           {
            "colorbar": {
             "outlinewidth": 0,
             "ticks": ""
            },
            "colorscale": [
             [
              0,
              "#0d0887"
             ],
             [
              0.1111111111111111,
              "#46039f"
             ],
             [
              0.2222222222222222,
              "#7201a8"
             ],
             [
              0.3333333333333333,
              "#9c179e"
             ],
             [
              0.4444444444444444,
              "#bd3786"
             ],
             [
              0.5555555555555556,
              "#d8576b"
             ],
             [
              0.6666666666666666,
              "#ed7953"
             ],
             [
              0.7777777777777778,
              "#fb9f3a"
             ],
             [
              0.8888888888888888,
              "#fdca26"
             ],
             [
              1,
              "#f0f921"
             ]
            ],
            "type": "histogram2d"
           }
          ],
          "histogram2dcontour": [
           {
            "colorbar": {
             "outlinewidth": 0,
             "ticks": ""
            },
            "colorscale": [
             [
              0,
              "#0d0887"
             ],
             [
              0.1111111111111111,
              "#46039f"
             ],
             [
              0.2222222222222222,
              "#7201a8"
             ],
             [
              0.3333333333333333,
              "#9c179e"
             ],
             [
              0.4444444444444444,
              "#bd3786"
             ],
             [
              0.5555555555555556,
              "#d8576b"
             ],
             [
              0.6666666666666666,
              "#ed7953"
             ],
             [
              0.7777777777777778,
              "#fb9f3a"
             ],
             [
              0.8888888888888888,
              "#fdca26"
             ],
             [
              1,
              "#f0f921"
             ]
            ],
            "type": "histogram2dcontour"
           }
          ],
          "mesh3d": [
           {
            "colorbar": {
             "outlinewidth": 0,
             "ticks": ""
            },
            "type": "mesh3d"
           }
          ],
          "parcoords": [
           {
            "line": {
             "colorbar": {
              "outlinewidth": 0,
              "ticks": ""
             }
            },
            "type": "parcoords"
           }
          ],
          "pie": [
           {
            "automargin": true,
            "type": "pie"
           }
          ],
          "scatter": [
           {
            "fillpattern": {
             "fillmode": "overlay",
             "size": 10,
             "solidity": 0.2
            },
            "type": "scatter"
           }
          ],
          "scatter3d": [
           {
            "line": {
             "colorbar": {
              "outlinewidth": 0,
              "ticks": ""
             }
            },
            "marker": {
             "colorbar": {
              "outlinewidth": 0,
              "ticks": ""
             }
            },
            "type": "scatter3d"
           }
          ],
          "scattercarpet": [
           {
            "marker": {
             "colorbar": {
              "outlinewidth": 0,
              "ticks": ""
             }
            },
            "type": "scattercarpet"
           }
          ],
          "scattergeo": [
           {
            "marker": {
             "colorbar": {
              "outlinewidth": 0,
              "ticks": ""
             }
            },
            "type": "scattergeo"
           }
          ],
          "scattergl": [
           {
            "marker": {
             "colorbar": {
              "outlinewidth": 0,
              "ticks": ""
             }
            },
            "type": "scattergl"
           }
          ],
          "scattermapbox": [
           {
            "marker": {
             "colorbar": {
              "outlinewidth": 0,
              "ticks": ""
             }
            },
            "type": "scattermapbox"
           }
          ],
          "scatterpolar": [
           {
            "marker": {
             "colorbar": {
              "outlinewidth": 0,
              "ticks": ""
             }
            },
            "type": "scatterpolar"
           }
          ],
          "scatterpolargl": [
           {
            "marker": {
             "colorbar": {
              "outlinewidth": 0,
              "ticks": ""
             }
            },
            "type": "scatterpolargl"
           }
          ],
          "scatterternary": [
           {
            "marker": {
             "colorbar": {
              "outlinewidth": 0,
              "ticks": ""
             }
            },
            "type": "scatterternary"
           }
          ],
          "surface": [
           {
            "colorbar": {
             "outlinewidth": 0,
             "ticks": ""
            },
            "colorscale": [
             [
              0,
              "#0d0887"
             ],
             [
              0.1111111111111111,
              "#46039f"
             ],
             [
              0.2222222222222222,
              "#7201a8"
             ],
             [
              0.3333333333333333,
              "#9c179e"
             ],
             [
              0.4444444444444444,
              "#bd3786"
             ],
             [
              0.5555555555555556,
              "#d8576b"
             ],
             [
              0.6666666666666666,
              "#ed7953"
             ],
             [
              0.7777777777777778,
              "#fb9f3a"
             ],
             [
              0.8888888888888888,
              "#fdca26"
             ],
             [
              1,
              "#f0f921"
             ]
            ],
            "type": "surface"
           }
          ],
          "table": [
           {
            "cells": {
             "fill": {
              "color": "#EBF0F8"
             },
             "line": {
              "color": "white"
             }
            },
            "header": {
             "fill": {
              "color": "#C8D4E3"
             },
             "line": {
              "color": "white"
             }
            },
            "type": "table"
           }
          ]
         },
         "layout": {
          "annotationdefaults": {
           "arrowcolor": "#2a3f5f",
           "arrowhead": 0,
           "arrowwidth": 1
          },
          "autotypenumbers": "strict",
          "coloraxis": {
           "colorbar": {
            "outlinewidth": 0,
            "ticks": ""
           }
          },
          "colorscale": {
           "diverging": [
            [
             0,
             "#8e0152"
            ],
            [
             0.1,
             "#c51b7d"
            ],
            [
             0.2,
             "#de77ae"
            ],
            [
             0.3,
             "#f1b6da"
            ],
            [
             0.4,
             "#fde0ef"
            ],
            [
             0.5,
             "#f7f7f7"
            ],
            [
             0.6,
             "#e6f5d0"
            ],
            [
             0.7,
             "#b8e186"
            ],
            [
             0.8,
             "#7fbc41"
            ],
            [
             0.9,
             "#4d9221"
            ],
            [
             1,
             "#276419"
            ]
           ],
           "sequential": [
            [
             0,
             "#0d0887"
            ],
            [
             0.1111111111111111,
             "#46039f"
            ],
            [
             0.2222222222222222,
             "#7201a8"
            ],
            [
             0.3333333333333333,
             "#9c179e"
            ],
            [
             0.4444444444444444,
             "#bd3786"
            ],
            [
             0.5555555555555556,
             "#d8576b"
            ],
            [
             0.6666666666666666,
             "#ed7953"
            ],
            [
             0.7777777777777778,
             "#fb9f3a"
            ],
            [
             0.8888888888888888,
             "#fdca26"
            ],
            [
             1,
             "#f0f921"
            ]
           ],
           "sequentialminus": [
            [
             0,
             "#0d0887"
            ],
            [
             0.1111111111111111,
             "#46039f"
            ],
            [
             0.2222222222222222,
             "#7201a8"
            ],
            [
             0.3333333333333333,
             "#9c179e"
            ],
            [
             0.4444444444444444,
             "#bd3786"
            ],
            [
             0.5555555555555556,
             "#d8576b"
            ],
            [
             0.6666666666666666,
             "#ed7953"
            ],
            [
             0.7777777777777778,
             "#fb9f3a"
            ],
            [
             0.8888888888888888,
             "#fdca26"
            ],
            [
             1,
             "#f0f921"
            ]
           ]
          },
          "colorway": [
           "#636efa",
           "#EF553B",
           "#00cc96",
           "#ab63fa",
           "#FFA15A",
           "#19d3f3",
           "#FF6692",
           "#B6E880",
           "#FF97FF",
           "#FECB52"
          ],
          "font": {
           "color": "#2a3f5f"
          },
          "geo": {
           "bgcolor": "white",
           "lakecolor": "white",
           "landcolor": "#E5ECF6",
           "showlakes": true,
           "showland": true,
           "subunitcolor": "white"
          },
          "hoverlabel": {
           "align": "left"
          },
          "hovermode": "closest",
          "mapbox": {
           "style": "light"
          },
          "paper_bgcolor": "white",
          "plot_bgcolor": "#E5ECF6",
          "polar": {
           "angularaxis": {
            "gridcolor": "white",
            "linecolor": "white",
            "ticks": ""
           },
           "bgcolor": "#E5ECF6",
           "radialaxis": {
            "gridcolor": "white",
            "linecolor": "white",
            "ticks": ""
           }
          },
          "scene": {
           "xaxis": {
            "backgroundcolor": "#E5ECF6",
            "gridcolor": "white",
            "gridwidth": 2,
            "linecolor": "white",
            "showbackground": true,
            "ticks": "",
            "zerolinecolor": "white"
           },
           "yaxis": {
            "backgroundcolor": "#E5ECF6",
            "gridcolor": "white",
            "gridwidth": 2,
            "linecolor": "white",
            "showbackground": true,
            "ticks": "",
            "zerolinecolor": "white"
           },
           "zaxis": {
            "backgroundcolor": "#E5ECF6",
            "gridcolor": "white",
            "gridwidth": 2,
            "linecolor": "white",
            "showbackground": true,
            "ticks": "",
            "zerolinecolor": "white"
           }
          },
          "shapedefaults": {
           "line": {
            "color": "#2a3f5f"
           }
          },
          "ternary": {
           "aaxis": {
            "gridcolor": "white",
            "linecolor": "white",
            "ticks": ""
           },
           "baxis": {
            "gridcolor": "white",
            "linecolor": "white",
            "ticks": ""
           },
           "bgcolor": "#E5ECF6",
           "caxis": {
            "gridcolor": "white",
            "linecolor": "white",
            "ticks": ""
           }
          },
          "title": {
           "x": 0.05
          },
          "xaxis": {
           "automargin": true,
           "gridcolor": "white",
           "linecolor": "white",
           "ticks": "",
           "title": {
            "standoff": 15
           },
           "zerolinecolor": "white",
           "zerolinewidth": 2
          },
          "yaxis": {
           "automargin": true,
           "gridcolor": "white",
           "linecolor": "white",
           "ticks": "",
           "title": {
            "standoff": 15
           },
           "zerolinecolor": "white",
           "zerolinewidth": 2
          }
         }
        },
        "title": {
         "text": "Optimization History Plot"
        },
        "xaxis": {
         "title": {
          "text": "Trial"
         }
        },
        "yaxis": {
         "title": {
          "text": "Objective Value"
         }
        }
       }
      }
     },
     "metadata": {},
     "output_type": "display_data"
    }
   ],
   "source": [
    "fig = optuna.visualization.plot_optimization_history(study)\n",
    "graph_path = Path(f\"../figures/{params.MODEL_TYPE}/{params.MODEL_NAME}/\")\n",
    "if not os.path.exists(graph_path):\n",
    "    os.makedirs(graph_path)\n",
    "graph_path = f\"../figures/{params.MODEL_TYPE}/{params.MODEL_NAME}/plot_optimization_history_graph\"\n",
    "fig.write_image(Path(f\"{graph_path}.png\"))\n",
    "fig.show()"
   ]
  },
  {
   "cell_type": "code",
   "execution_count": 15,
   "id": "92103de1",
   "metadata": {},
   "outputs": [
    {
     "data": {
      "application/vnd.plotly.v1+json": {
       "config": {
        "plotlyServerURL": "https://plot.ly"
       },
       "data": [
        {
         "marker": {
          "maxdisplayed": 10
         },
         "mode": "lines+markers",
         "name": "Trial0",
         "type": "scatter",
         "x": [
          0,
          1,
          2,
          3,
          4,
          5,
          6,
          7,
          8,
          9,
          10,
          11,
          12,
          13,
          14,
          15,
          16,
          17,
          18,
          19,
          20,
          21,
          22,
          23,
          24,
          25,
          26,
          27,
          28,
          29,
          30,
          31,
          32,
          33,
          34,
          35,
          36,
          37,
          38,
          39,
          40,
          41,
          42,
          43,
          44,
          45,
          46,
          47,
          48,
          49
         ],
         "y": [
          0.5982952356338501,
          0.5851332366466522,
          0.5798825065294901,
          0.5728155702352524,
          0.5647918605804444,
          0.5585362215836843,
          0.5525025640215192,
          0.5490562975406648,
          0.545269074704912,
          0.5417444866895675,
          0.5391015134074472,
          0.5374459370970727,
          0.534768464932075,
          0.5331811121531895,
          0.5317989134788513,
          0.5298555355519057,
          0.5294993642498466,
          0.5289251926872465,
          0.5274942576885223,
          0.5265480139851569,
          0.5251510350477128,
          0.5244844967668706,
          0.5256251744602037,
          0.5253366922338804,
          0.5272644624710083,
          0.5288346904974717,
          0.530142065330788,
          0.5318235158920288,
          0.5329481655153735,
          0.5339388819535572,
          0.535110008332037,
          0.536213931068778,
          0.5371474005959251,
          0.5380549690302681,
          0.5388942456245422,
          0.5396425518724653,
          0.5403776681101,
          0.5409780922688936,
          0.5415779972687746,
          0.5421187099814414,
          0.542630139211329,
          0.5432584651878901,
          0.543786405962567,
          0.5441820439967242,
          0.5445646895302666,
          0.5450823848662169,
          0.5456264516140551,
          0.546021667867899,
          0.5464389139292192,
          0.5468713104724884
         ]
        },
        {
         "marker": {
          "maxdisplayed": 10
         },
         "mode": "lines+markers",
         "name": "Trial1",
         "type": "scatter",
         "x": [
          0,
          1,
          2,
          3,
          4,
          5,
          6,
          7,
          8,
          9,
          10,
          11,
          12,
          13,
          14,
          15,
          16,
          17,
          18,
          19,
          20,
          21,
          22,
          23,
          24,
          25,
          26,
          27,
          28,
          29,
          30,
          31,
          32,
          33,
          34,
          35,
          36,
          37,
          38,
          39,
          40,
          41,
          42,
          43,
          44,
          45,
          46,
          47,
          48,
          49
         ],
         "y": [
          0.6158652782440186,
          0.6085201561450959,
          0.6027795553207398,
          0.5972921818494797,
          0.5917564415931702,
          0.5862135032812755,
          0.5808603031294687,
          0.5758114591240884,
          0.5711982303195531,
          0.5666732645034791,
          0.5624582875858655,
          0.5584504276514054,
          0.5546989738941194,
          0.5511891216039658,
          0.5478204381465912,
          0.5447894547134637,
          0.5419132684960084,
          0.5392938355604806,
          0.5367034874464336,
          0.5343623125553131,
          0.5321540946052187,
          0.5300093686038797,
          0.5280234888843868,
          0.5261596344411373,
          0.5244003031253814,
          0.5227576329157902,
          0.5211607661512163,
          0.5196933305689267,
          0.5182907922514555,
          0.5169121489922206,
          0.515656211491554,
          0.5144657731056214,
          0.5132716225855278,
          0.5121659810052198,
          0.5110655815260751,
          0.5099895715713499,
          0.5090074574625169,
          0.5080336622501673,
          0.5070502126828217,
          0.5061333553493024,
          0.505194947923102,
          0.5043334295352301,
          0.5034214504929476,
          0.5025618080388417,
          0.501808088488049,
          0.501094447011533,
          0.5003758926340874,
          0.4996372949331999,
          0.4989085947980686,
          0.4982338688373566
         ]
        },
        {
         "marker": {
          "maxdisplayed": 10
         },
         "mode": "lines+markers",
         "name": "Trial2",
         "type": "scatter",
         "x": [
          0,
          1,
          2,
          3,
          4,
          5,
          6,
          7,
          8,
          9,
          10,
          11,
          12,
          13,
          14,
          15,
          16,
          17,
          18,
          19,
          20,
          21,
          22,
          23,
          24,
          25,
          26,
          27,
          28,
          29,
          30,
          31,
          32,
          33,
          34,
          35,
          36,
          37,
          38,
          39,
          40,
          41,
          42,
          43,
          44,
          45,
          46,
          47,
          48,
          49
         ],
         "y": [
          0.5832739114761353,
          0.5624695241451263,
          0.5468317170937856,
          0.5389209195971489,
          0.5291913557052613,
          0.523088147242864,
          0.5173781837735858,
          0.5131253741681575,
          0.5088331149684058,
          0.5058091360330581,
          0.5027854513038288,
          0.5008021434148152,
          0.5000599732765784,
          0.4976119765213557,
          0.49711009462674455,
          0.4957214165478945,
          0.49406954120187196,
          0.49288198252518967,
          0.49170076094175635,
          0.4905997648835182,
          0.48991618269965764,
          0.48935551751743667,
          0.48902239980904955,
          0.49112491135795916,
          0.49186436200141914,
          0.49274111894460826,
          0.4926267102912621,
          0.4931300904069628,
          0.49291208468634506,
          0.49351556221644083,
          0.4934777519395275,
          0.4948468556627631,
          0.4952084031972018,
          0.495650137697949,
          0.49526128189904345,
          0.49675890290074876,
          0.4972282965441008,
          0.5044361922301744,
          0.5071592133778793,
          0.5086180999875068,
          0.5084274031767031,
          0.5078752838429951,
          0.507675322543743,
          0.5075459852814674,
          0.5072522224320306,
          0.5078454201636108,
          0.5091195890244018,
          0.5151050686836243,
          0.514535519298242,
          0.514484976887703
         ]
        },
        {
         "marker": {
          "maxdisplayed": 10
         },
         "mode": "lines+markers",
         "name": "Trial3",
         "type": "scatter",
         "x": [
          0,
          1,
          2,
          3,
          4,
          5,
          6,
          7,
          8,
          9,
          10,
          11,
          12,
          13,
          14,
          15,
          16,
          17,
          18,
          19,
          20,
          21,
          22,
          23,
          24,
          25,
          26,
          27,
          28,
          29,
          30,
          31,
          32,
          33,
          34,
          35,
          36,
          37,
          38,
          39,
          40,
          41,
          42,
          43,
          44,
          45,
          46,
          47,
          48,
          49
         ],
         "y": [
          0.6007434010505677,
          0.5911160051822663,
          0.5871407151222229,
          0.5852250576019287,
          0.5840264558792114,
          0.5814014812310536,
          0.5792503987039839,
          0.5781757786870003,
          0.5764090829425388,
          0.5745232582092286,
          0.5729819709604437,
          0.5702478667100271,
          0.5694936853188735,
          0.5679612576961518,
          0.5676606194178263,
          0.5688260078430176,
          0.5663822223158443,
          0.565277052587933,
          0.5636144964318527,
          0.565471020936966,
          0.5671594619750977,
          0.5687020393935117,
          0.5701166997785154,
          0.5714182416598003,
          0.5726191372871399,
          0.5737300904897543,
          0.5747604087547019,
          0.5757182334150587,
          0.5766107246793549,
          0.5774441862106323,
          0.5782241786679914,
          0.5789556179195643,
          0.5796428521474203,
          0.5802897428765016,
          0.5808997198513576,
          0.5814758413367801,
          0.5820208423846477,
          0.5825371729700188,
          0.5830270327054538,
          0.5834924045205117,
          0.5839350784697184,
          0.584356676680701,
          0.5847586673359537,
          0.5851423867724157,
          0.5855090525415207,
          0.5858597750249116,
          0.5861955746691278,
          0.5865173826615016,
          0.5868260556337784,
          0.5871223816871644
         ]
        },
        {
         "marker": {
          "maxdisplayed": 10
         },
         "mode": "lines+markers",
         "name": "Trial4",
         "type": "scatter",
         "x": [
          0,
          1,
          2,
          3,
          4,
          5,
          6,
          7,
          8,
          9,
          10,
          11,
          12,
          13,
          14,
          15,
          16,
          17,
          18,
          19,
          20,
          21,
          22,
          23,
          24,
          25,
          26,
          27,
          28,
          29,
          30,
          31,
          32,
          33,
          34,
          35,
          36,
          37,
          38,
          39,
          40,
          41,
          42,
          43,
          44,
          45,
          46,
          47,
          48,
          49
         ],
         "y": [
          0.5996997594833374,
          0.6003903031349183,
          0.6007377982139588,
          0.6009883880615234,
          0.6012434411048889,
          0.6014175573984781,
          0.6015373383249555,
          0.6017658770084382,
          0.6019228445159066,
          0.6020393323898316,
          0.6021095969460228,
          0.6021355619033179,
          0.6021817335715661,
          0.602249756029674,
          0.6022516520818075,
          0.6022763870656491,
          0.6023009096874911,
          0.6022183173232609,
          0.6022503200330233,
          0.6021476340293884,
          0.6021173806417556,
          0.6020790446888317,
          0.6020429637121117,
          0.6017060687144598,
          0.6014270443916321,
          0.601125739629452,
          0.6013246717276397,
          0.601382521220616,
          0.6014325141906739,
          0.6014815978209178,
          0.6015290652551959,
          0.6015745405107736,
          0.6016178647677103,
          0.6016590202555936,
          0.601698055267334,
          0.6017350686921014,
          0.6017701664486447,
          0.6018034718538585,
          0.6018351047466962,
          0.601865175664425,
          0.6018937898845208,
          0.6019210511729832,
          0.6019470497619275,
          0.6019718695770612,
          0.6019955878787572,
          0.6020182759865472,
          0.6020399988965787,
          0.6020608181754749,
          0.6020807872013171,
          0.6020999579429627
         ]
        },
        {
         "marker": {
          "maxdisplayed": 10
         },
         "mode": "lines+markers",
         "name": "Trial5",
         "type": "scatter",
         "x": [
          0
         ],
         "y": [
          0.6017388820648193
         ]
        },
        {
         "marker": {
          "maxdisplayed": 10
         },
         "mode": "lines+markers",
         "name": "Trial6",
         "type": "scatter",
         "x": [
          0,
          1,
          2,
          3,
          4,
          5,
          6,
          7,
          8,
          9,
          10,
          11,
          12,
          13,
          14,
          15,
          16,
          17,
          18,
          19,
          20,
          21,
          22,
          23,
          24,
          25,
          26,
          27,
          28,
          29,
          30,
          31,
          32,
          33,
          34,
          35,
          36,
          37,
          38,
          39,
          40,
          41,
          42,
          43,
          44,
          45,
          46,
          47,
          48,
          49
         ],
         "y": [
          0.565609586238861,
          0.555025726556778,
          0.5487199823061625,
          0.5450195908546448,
          0.5393019199371338,
          0.5336133271455764,
          0.5283435225486756,
          0.5246139593422413,
          0.5241529749499427,
          0.5208407884836197,
          0.5191178343512796,
          0.5173153524597486,
          0.5149764088483958,
          0.5123256585427693,
          0.5096509488423666,
          0.5076370172202588,
          0.50589919405825,
          0.5045670761002435,
          0.5031374639586399,
          0.5015942257642746,
          0.5005905801341647,
          0.4993001406843012,
          0.4981446730053943,
          0.49842497284213705,
          0.4973970410823822,
          0.4965355196824441,
          0.4958264843181328,
          0.49583570275987904,
          0.49520177841186525,
          0.4944806122779847,
          0.49401163631869904,
          0.4944354781880975,
          0.4940028031667074,
          0.493733519841643,
          0.4949394837447576,
          0.4943962521023221,
          0.49393218385206694,
          0.49353792165455074,
          0.4932771105032702,
          0.49322427332401286,
          0.4933401667490239,
          0.4937006619714556,
          0.4936456608217817,
          0.4935896946625277,
          0.4936367469363743,
          0.49353412778481204,
          0.49326502579323794,
          0.49319922948877015,
          0.4933090503118476,
          0.4935445618629455
         ]
        },
        {
         "marker": {
          "maxdisplayed": 10
         },
         "mode": "lines+markers",
         "name": "Trial7",
         "type": "scatter",
         "x": [
          0
         ],
         "y": [
          0.600487208366394
         ]
        },
        {
         "marker": {
          "maxdisplayed": 10
         },
         "mode": "lines+markers",
         "name": "Trial8",
         "type": "scatter",
         "x": [
          0
         ],
         "y": [
          0.6002761721611023
         ]
        },
        {
         "marker": {
          "maxdisplayed": 10
         },
         "mode": "lines+markers",
         "name": "Trial9",
         "type": "scatter",
         "x": [
          0,
          1,
          2,
          3,
          4,
          5,
          6,
          7,
          8,
          9,
          10,
          11,
          12,
          13,
          14,
          15,
          16,
          17,
          18,
          19,
          20,
          21,
          22,
          23,
          24,
          25,
          26,
          27,
          28,
          29,
          30,
          31,
          32,
          33,
          34,
          35,
          36,
          37,
          38,
          39,
          40,
          41,
          42,
          43,
          44,
          45,
          46,
          47,
          48,
          49
         ],
         "y": [
          0.5074590146541595,
          0.4957788288593292,
          0.4872725486755371,
          0.4815538600087166,
          0.4778035068511963,
          0.4759923150142034,
          0.47379781263215204,
          0.47302428558468823,
          0.4709649013148414,
          0.4694665259122849,
          0.4679748757319018,
          0.46795340826114024,
          0.4667481784637158,
          0.465943261555263,
          0.4656474840641022,
          0.4656326089054346,
          0.46473398033310387,
          0.46422190136379665,
          0.46340639152024926,
          0.46242914706468585,
          0.4625122425102053,
          0.4619515324180777,
          0.4613369120203931,
          0.46088960543274876,
          0.4613357827663422,
          0.4616945074154781,
          0.4613688906033834,
          0.460951674410275,
          0.4604557672451282,
          0.46025058170159655,
          0.459785613898308,
          0.4588158305734396,
          0.4585817143772588,
          0.45801251460524167,
          0.45736633794648307,
          0.45700937923457885,
          0.45684154226973256,
          0.4565553563205819,
          0.4565957518724295,
          0.4562068894505501,
          0.4565233330901076,
          0.45623484197117037,
          0.45625771159349493,
          0.45605378665707336,
          0.4562228760454391,
          0.45656241152597515,
          0.4564572634849143,
          0.4564979840070009,
          0.45645638546165157,
          0.45723539721965795
         ]
        }
       ],
       "layout": {
        "showlegend": false,
        "template": {
         "data": {
          "bar": [
           {
            "error_x": {
             "color": "#2a3f5f"
            },
            "error_y": {
             "color": "#2a3f5f"
            },
            "marker": {
             "line": {
              "color": "#E5ECF6",
              "width": 0.5
             },
             "pattern": {
              "fillmode": "overlay",
              "size": 10,
              "solidity": 0.2
             }
            },
            "type": "bar"
           }
          ],
          "barpolar": [
           {
            "marker": {
             "line": {
              "color": "#E5ECF6",
              "width": 0.5
             },
             "pattern": {
              "fillmode": "overlay",
              "size": 10,
              "solidity": 0.2
             }
            },
            "type": "barpolar"
           }
          ],
          "carpet": [
           {
            "aaxis": {
             "endlinecolor": "#2a3f5f",
             "gridcolor": "white",
             "linecolor": "white",
             "minorgridcolor": "white",
             "startlinecolor": "#2a3f5f"
            },
            "baxis": {
             "endlinecolor": "#2a3f5f",
             "gridcolor": "white",
             "linecolor": "white",
             "minorgridcolor": "white",
             "startlinecolor": "#2a3f5f"
            },
            "type": "carpet"
           }
          ],
          "choropleth": [
           {
            "colorbar": {
             "outlinewidth": 0,
             "ticks": ""
            },
            "type": "choropleth"
           }
          ],
          "contour": [
           {
            "colorbar": {
             "outlinewidth": 0,
             "ticks": ""
            },
            "colorscale": [
             [
              0,
              "#0d0887"
             ],
             [
              0.1111111111111111,
              "#46039f"
             ],
             [
              0.2222222222222222,
              "#7201a8"
             ],
             [
              0.3333333333333333,
              "#9c179e"
             ],
             [
              0.4444444444444444,
              "#bd3786"
             ],
             [
              0.5555555555555556,
              "#d8576b"
             ],
             [
              0.6666666666666666,
              "#ed7953"
             ],
             [
              0.7777777777777778,
              "#fb9f3a"
             ],
             [
              0.8888888888888888,
              "#fdca26"
             ],
             [
              1,
              "#f0f921"
             ]
            ],
            "type": "contour"
           }
          ],
          "contourcarpet": [
           {
            "colorbar": {
             "outlinewidth": 0,
             "ticks": ""
            },
            "type": "contourcarpet"
           }
          ],
          "heatmap": [
           {
            "colorbar": {
             "outlinewidth": 0,
             "ticks": ""
            },
            "colorscale": [
             [
              0,
              "#0d0887"
             ],
             [
              0.1111111111111111,
              "#46039f"
             ],
             [
              0.2222222222222222,
              "#7201a8"
             ],
             [
              0.3333333333333333,
              "#9c179e"
             ],
             [
              0.4444444444444444,
              "#bd3786"
             ],
             [
              0.5555555555555556,
              "#d8576b"
             ],
             [
              0.6666666666666666,
              "#ed7953"
             ],
             [
              0.7777777777777778,
              "#fb9f3a"
             ],
             [
              0.8888888888888888,
              "#fdca26"
             ],
             [
              1,
              "#f0f921"
             ]
            ],
            "type": "heatmap"
           }
          ],
          "heatmapgl": [
           {
            "colorbar": {
             "outlinewidth": 0,
             "ticks": ""
            },
            "colorscale": [
             [
              0,
              "#0d0887"
             ],
             [
              0.1111111111111111,
              "#46039f"
             ],
             [
              0.2222222222222222,
              "#7201a8"
             ],
             [
              0.3333333333333333,
              "#9c179e"
             ],
             [
              0.4444444444444444,
              "#bd3786"
             ],
             [
              0.5555555555555556,
              "#d8576b"
             ],
             [
              0.6666666666666666,
              "#ed7953"
             ],
             [
              0.7777777777777778,
              "#fb9f3a"
             ],
             [
              0.8888888888888888,
              "#fdca26"
             ],
             [
              1,
              "#f0f921"
             ]
            ],
            "type": "heatmapgl"
           }
          ],
          "histogram": [
           {
            "marker": {
             "pattern": {
              "fillmode": "overlay",
              "size": 10,
              "solidity": 0.2
             }
            },
            "type": "histogram"
           }
          ],
          "histogram2d": [
           {
            "colorbar": {
             "outlinewidth": 0,
             "ticks": ""
            },
            "colorscale": [
             [
              0,
              "#0d0887"
             ],
             [
              0.1111111111111111,
              "#46039f"
             ],
             [
              0.2222222222222222,
              "#7201a8"
             ],
             [
              0.3333333333333333,
              "#9c179e"
             ],
             [
              0.4444444444444444,
              "#bd3786"
             ],
             [
              0.5555555555555556,
              "#d8576b"
             ],
             [
              0.6666666666666666,
              "#ed7953"
             ],
             [
              0.7777777777777778,
              "#fb9f3a"
             ],
             [
              0.8888888888888888,
              "#fdca26"
             ],
             [
              1,
              "#f0f921"
             ]
            ],
            "type": "histogram2d"
           }
          ],
          "histogram2dcontour": [
           {
            "colorbar": {
             "outlinewidth": 0,
             "ticks": ""
            },
            "colorscale": [
             [
              0,
              "#0d0887"
             ],
             [
              0.1111111111111111,
              "#46039f"
             ],
             [
              0.2222222222222222,
              "#7201a8"
             ],
             [
              0.3333333333333333,
              "#9c179e"
             ],
             [
              0.4444444444444444,
              "#bd3786"
             ],
             [
              0.5555555555555556,
              "#d8576b"
             ],
             [
              0.6666666666666666,
              "#ed7953"
             ],
             [
              0.7777777777777778,
              "#fb9f3a"
             ],
             [
              0.8888888888888888,
              "#fdca26"
             ],
             [
              1,
              "#f0f921"
             ]
            ],
            "type": "histogram2dcontour"
           }
          ],
          "mesh3d": [
           {
            "colorbar": {
             "outlinewidth": 0,
             "ticks": ""
            },
            "type": "mesh3d"
           }
          ],
          "parcoords": [
           {
            "line": {
             "colorbar": {
              "outlinewidth": 0,
              "ticks": ""
             }
            },
            "type": "parcoords"
           }
          ],
          "pie": [
           {
            "automargin": true,
            "type": "pie"
           }
          ],
          "scatter": [
           {
            "fillpattern": {
             "fillmode": "overlay",
             "size": 10,
             "solidity": 0.2
            },
            "type": "scatter"
           }
          ],
          "scatter3d": [
           {
            "line": {
             "colorbar": {
              "outlinewidth": 0,
              "ticks": ""
             }
            },
            "marker": {
             "colorbar": {
              "outlinewidth": 0,
              "ticks": ""
             }
            },
            "type": "scatter3d"
           }
          ],
          "scattercarpet": [
           {
            "marker": {
             "colorbar": {
              "outlinewidth": 0,
              "ticks": ""
             }
            },
            "type": "scattercarpet"
           }
          ],
          "scattergeo": [
           {
            "marker": {
             "colorbar": {
              "outlinewidth": 0,
              "ticks": ""
             }
            },
            "type": "scattergeo"
           }
          ],
          "scattergl": [
           {
            "marker": {
             "colorbar": {
              "outlinewidth": 0,
              "ticks": ""
             }
            },
            "type": "scattergl"
           }
          ],
          "scattermapbox": [
           {
            "marker": {
             "colorbar": {
              "outlinewidth": 0,
              "ticks": ""
             }
            },
            "type": "scattermapbox"
           }
          ],
          "scatterpolar": [
           {
            "marker": {
             "colorbar": {
              "outlinewidth": 0,
              "ticks": ""
             }
            },
            "type": "scatterpolar"
           }
          ],
          "scatterpolargl": [
           {
            "marker": {
             "colorbar": {
              "outlinewidth": 0,
              "ticks": ""
             }
            },
            "type": "scatterpolargl"
           }
          ],
          "scatterternary": [
           {
            "marker": {
             "colorbar": {
              "outlinewidth": 0,
              "ticks": ""
             }
            },
            "type": "scatterternary"
           }
          ],
          "surface": [
           {
            "colorbar": {
             "outlinewidth": 0,
             "ticks": ""
            },
            "colorscale": [
             [
              0,
              "#0d0887"
             ],
             [
              0.1111111111111111,
              "#46039f"
             ],
             [
              0.2222222222222222,
              "#7201a8"
             ],
             [
              0.3333333333333333,
              "#9c179e"
             ],
             [
              0.4444444444444444,
              "#bd3786"
             ],
             [
              0.5555555555555556,
              "#d8576b"
             ],
             [
              0.6666666666666666,
              "#ed7953"
             ],
             [
              0.7777777777777778,
              "#fb9f3a"
             ],
             [
              0.8888888888888888,
              "#fdca26"
             ],
             [
              1,
              "#f0f921"
             ]
            ],
            "type": "surface"
           }
          ],
          "table": [
           {
            "cells": {
             "fill": {
              "color": "#EBF0F8"
             },
             "line": {
              "color": "white"
             }
            },
            "header": {
             "fill": {
              "color": "#C8D4E3"
             },
             "line": {
              "color": "white"
             }
            },
            "type": "table"
           }
          ]
         },
         "layout": {
          "annotationdefaults": {
           "arrowcolor": "#2a3f5f",
           "arrowhead": 0,
           "arrowwidth": 1
          },
          "autotypenumbers": "strict",
          "coloraxis": {
           "colorbar": {
            "outlinewidth": 0,
            "ticks": ""
           }
          },
          "colorscale": {
           "diverging": [
            [
             0,
             "#8e0152"
            ],
            [
             0.1,
             "#c51b7d"
            ],
            [
             0.2,
             "#de77ae"
            ],
            [
             0.3,
             "#f1b6da"
            ],
            [
             0.4,
             "#fde0ef"
            ],
            [
             0.5,
             "#f7f7f7"
            ],
            [
             0.6,
             "#e6f5d0"
            ],
            [
             0.7,
             "#b8e186"
            ],
            [
             0.8,
             "#7fbc41"
            ],
            [
             0.9,
             "#4d9221"
            ],
            [
             1,
             "#276419"
            ]
           ],
           "sequential": [
            [
             0,
             "#0d0887"
            ],
            [
             0.1111111111111111,
             "#46039f"
            ],
            [
             0.2222222222222222,
             "#7201a8"
            ],
            [
             0.3333333333333333,
             "#9c179e"
            ],
            [
             0.4444444444444444,
             "#bd3786"
            ],
            [
             0.5555555555555556,
             "#d8576b"
            ],
            [
             0.6666666666666666,
             "#ed7953"
            ],
            [
             0.7777777777777778,
             "#fb9f3a"
            ],
            [
             0.8888888888888888,
             "#fdca26"
            ],
            [
             1,
             "#f0f921"
            ]
           ],
           "sequentialminus": [
            [
             0,
             "#0d0887"
            ],
            [
             0.1111111111111111,
             "#46039f"
            ],
            [
             0.2222222222222222,
             "#7201a8"
            ],
            [
             0.3333333333333333,
             "#9c179e"
            ],
            [
             0.4444444444444444,
             "#bd3786"
            ],
            [
             0.5555555555555556,
             "#d8576b"
            ],
            [
             0.6666666666666666,
             "#ed7953"
            ],
            [
             0.7777777777777778,
             "#fb9f3a"
            ],
            [
             0.8888888888888888,
             "#fdca26"
            ],
            [
             1,
             "#f0f921"
            ]
           ]
          },
          "colorway": [
           "#636efa",
           "#EF553B",
           "#00cc96",
           "#ab63fa",
           "#FFA15A",
           "#19d3f3",
           "#FF6692",
           "#B6E880",
           "#FF97FF",
           "#FECB52"
          ],
          "font": {
           "color": "#2a3f5f"
          },
          "geo": {
           "bgcolor": "white",
           "lakecolor": "white",
           "landcolor": "#E5ECF6",
           "showlakes": true,
           "showland": true,
           "subunitcolor": "white"
          },
          "hoverlabel": {
           "align": "left"
          },
          "hovermode": "closest",
          "mapbox": {
           "style": "light"
          },
          "paper_bgcolor": "white",
          "plot_bgcolor": "#E5ECF6",
          "polar": {
           "angularaxis": {
            "gridcolor": "white",
            "linecolor": "white",
            "ticks": ""
           },
           "bgcolor": "#E5ECF6",
           "radialaxis": {
            "gridcolor": "white",
            "linecolor": "white",
            "ticks": ""
           }
          },
          "scene": {
           "xaxis": {
            "backgroundcolor": "#E5ECF6",
            "gridcolor": "white",
            "gridwidth": 2,
            "linecolor": "white",
            "showbackground": true,
            "ticks": "",
            "zerolinecolor": "white"
           },
           "yaxis": {
            "backgroundcolor": "#E5ECF6",
            "gridcolor": "white",
            "gridwidth": 2,
            "linecolor": "white",
            "showbackground": true,
            "ticks": "",
            "zerolinecolor": "white"
           },
           "zaxis": {
            "backgroundcolor": "#E5ECF6",
            "gridcolor": "white",
            "gridwidth": 2,
            "linecolor": "white",
            "showbackground": true,
            "ticks": "",
            "zerolinecolor": "white"
           }
          },
          "shapedefaults": {
           "line": {
            "color": "#2a3f5f"
           }
          },
          "ternary": {
           "aaxis": {
            "gridcolor": "white",
            "linecolor": "white",
            "ticks": ""
           },
           "baxis": {
            "gridcolor": "white",
            "linecolor": "white",
            "ticks": ""
           },
           "bgcolor": "#E5ECF6",
           "caxis": {
            "gridcolor": "white",
            "linecolor": "white",
            "ticks": ""
           }
          },
          "title": {
           "x": 0.05
          },
          "xaxis": {
           "automargin": true,
           "gridcolor": "white",
           "linecolor": "white",
           "ticks": "",
           "title": {
            "standoff": 15
           },
           "zerolinecolor": "white",
           "zerolinewidth": 2
          },
          "yaxis": {
           "automargin": true,
           "gridcolor": "white",
           "linecolor": "white",
           "ticks": "",
           "title": {
            "standoff": 15
           },
           "zerolinecolor": "white",
           "zerolinewidth": 2
          }
         }
        },
        "title": {
         "text": "Intermediate Values Plot"
        },
        "xaxis": {
         "title": {
          "text": "Step"
         }
        },
        "yaxis": {
         "title": {
          "text": "Intermediate Value"
         }
        }
       }
      }
     },
     "metadata": {},
     "output_type": "display_data"
    }
   ],
   "source": [
    "fig = optuna.visualization.plot_intermediate_values(study)\n",
    "graph_path = Path(f\"../figures/{params.MODEL_TYPE}/{params.MODEL_NAME}/\")\n",
    "if not os.path.exists(graph_path):\n",
    "    os.makedirs(graph_path)\n",
    "graph_path = (\n",
    "    f\"../figures/{params.MODEL_TYPE}/{params.MODEL_NAME}/plot_intermediate_values_graph\"\n",
    ")\n",
    "fig.write_image(Path(f\"{graph_path}.png\"))\n",
    "fig.show()"
   ]
  },
  {
   "cell_type": "code",
   "execution_count": 16,
   "id": "325a1ec3",
   "metadata": {},
   "outputs": [],
   "source": [
    "param_dict = extract_best_trial_params(\n",
    "    study.best_params, params, model_name=params.MODEL_NAME\n",
    ")"
   ]
  },
  {
   "cell_type": "code",
   "execution_count": 17,
   "id": "50e946e7",
   "metadata": {},
   "outputs": [
    {
     "name": "stdout",
     "output_type": "stream",
     "text": [
      "RMSprop\n",
      "Epoch 0: Validation loss decreased (inf --> 0.525342).  Saving model ...\n",
      "\t Train_Loss: 0.7592 Train_Acc: 70.965 Val_Loss: 0.5253  BEST VAL Loss: 0.5253  Val_Acc: 73.418\n",
      "\n",
      "Epoch 1: Validation loss decreased (0.525342 --> 0.508810).  Saving model ...\n",
      "\t Train_Loss: 0.6378 Train_Acc: 74.728 Val_Loss: 0.5088  BEST VAL Loss: 0.5088  Val_Acc: 76.018\n",
      "\n",
      "Epoch 2: Validation loss decreased (0.508810 --> 0.497602).  Saving model ...\n",
      "\t Train_Loss: 0.5892 Train_Acc: 76.006 Val_Loss: 0.4976  BEST VAL Loss: 0.4976  Val_Acc: 77.307\n",
      "\n",
      "Epoch 3: Validation loss decreased (0.497602 --> 0.489968).  Saving model ...\n",
      "\t Train_Loss: 0.5610 Train_Acc: 77.001 Val_Loss: 0.4900  BEST VAL Loss: 0.4900  Val_Acc: 77.814\n",
      "\n",
      "Epoch 4: Validation loss decreased (0.489968 --> 0.485397).  Saving model ...\n",
      "\t Train_Loss: 0.5432 Train_Acc: 77.228 Val_Loss: 0.4854  BEST VAL Loss: 0.4854  Val_Acc: 77.860\n",
      "\n",
      "Epoch 5: Validation loss decreased (0.485397 --> 0.481547).  Saving model ...\n",
      "\t Train_Loss: 0.5299 Train_Acc: 77.582 Val_Loss: 0.4815  BEST VAL Loss: 0.4815  Val_Acc: 77.468\n",
      "\n",
      "Epoch 6: Validation loss decreased (0.481547 --> 0.477996).  Saving model ...\n",
      "\t Train_Loss: 0.5194 Train_Acc: 78.008 Val_Loss: 0.4780  BEST VAL Loss: 0.4780  Val_Acc: 77.975\n",
      "\n",
      "Epoch 7: Validation loss decreased (0.477996 --> 0.476152).  Saving model ...\n",
      "\t Train_Loss: 0.5110 Train_Acc: 77.971 Val_Loss: 0.4762  BEST VAL Loss: 0.4762  Val_Acc: 77.629\n",
      "\n",
      "Epoch 8: Validation loss decreased (0.476152 --> 0.474163).  Saving model ...\n",
      "\t Train_Loss: 0.5036 Train_Acc: 78.307 Val_Loss: 0.4742  BEST VAL Loss: 0.4742  Val_Acc: 77.929\n",
      "\n",
      "Epoch 9: Validation loss decreased (0.474163 --> 0.473160).  Saving model ...\n",
      "\t Train_Loss: 0.4974 Train_Acc: 78.837 Val_Loss: 0.4732  BEST VAL Loss: 0.4732  Val_Acc: 77.422\n",
      "\n",
      "Epoch 10: Validation loss decreased (0.473160 --> 0.471256).  Saving model ...\n",
      "\t Train_Loss: 0.4924 Train_Acc: 78.719 Val_Loss: 0.4713  BEST VAL Loss: 0.4713  Val_Acc: 78.412\n",
      "\n",
      "Epoch 11: Validation loss decreased (0.471256 --> 0.469917).  Saving model ...\n",
      "\t Train_Loss: 0.4875 Train_Acc: 79.075 Val_Loss: 0.4699  BEST VAL Loss: 0.4699  Val_Acc: 78.343\n",
      "\n",
      "Epoch 12: Validation loss decreased (0.469917 --> 0.469474).  Saving model ...\n",
      "\t Train_Loss: 0.4830 Train_Acc: 79.389 Val_Loss: 0.4695  BEST VAL Loss: 0.4695  Val_Acc: 77.514\n",
      "\n",
      "Epoch 13: Validation loss decreased (0.469474 --> 0.469073).  Saving model ...\n",
      "\t Train_Loss: 0.4795 Train_Acc: 78.957 Val_Loss: 0.4691  BEST VAL Loss: 0.4691  Val_Acc: 77.215\n",
      "\n",
      "Epoch 14: Validation loss decreased (0.469073 --> 0.468174).  Saving model ...\n",
      "\t Train_Loss: 0.4758 Train_Acc: 79.700 Val_Loss: 0.4682  BEST VAL Loss: 0.4682  Val_Acc: 78.090\n",
      "\n",
      "Epoch 15: Validation loss decreased (0.468174 --> 0.467396).  Saving model ...\n",
      "\t Train_Loss: 0.4727 Train_Acc: 79.444 Val_Loss: 0.4674  BEST VAL Loss: 0.4674  Val_Acc: 77.952\n",
      "\n",
      "Epoch 16: Validation loss decreased (0.467396 --> 0.466507).  Saving model ...\n",
      "\t Train_Loss: 0.4695 Train_Acc: 79.608 Val_Loss: 0.4665  BEST VAL Loss: 0.4665  Val_Acc: 78.573\n",
      "\n",
      "Epoch 17: Validation loss decreased (0.466507 --> 0.465790).  Saving model ...\n",
      "\t Train_Loss: 0.4667 Train_Acc: 79.815 Val_Loss: 0.4658  BEST VAL Loss: 0.4658  Val_Acc: 77.929\n",
      "\n",
      "Epoch 18: Validation loss decreased (0.465790 --> 0.465219).  Saving model ...\n",
      "\t Train_Loss: 0.4638 Train_Acc: 80.134 Val_Loss: 0.4652  BEST VAL Loss: 0.4652  Val_Acc: 78.504\n",
      "\n",
      "Epoch 19: Validation loss decreased (0.465219 --> 0.464568).  Saving model ...\n",
      "\t Train_Loss: 0.4615 Train_Acc: 79.795 Val_Loss: 0.4646  BEST VAL Loss: 0.4646  Val_Acc: 77.952\n",
      "\n",
      "Epoch 20: Validation loss decreased (0.464568 --> 0.463741).  Saving model ...\n",
      "\t Train_Loss: 0.4590 Train_Acc: 80.160 Val_Loss: 0.4637  BEST VAL Loss: 0.4637  Val_Acc: 79.010\n",
      "\n",
      "Epoch 21: Validation loss decreased (0.463741 --> 0.463238).  Saving model ...\n",
      "\t Train_Loss: 0.4570 Train_Acc: 79.938 Val_Loss: 0.4632  BEST VAL Loss: 0.4632  Val_Acc: 78.619\n",
      "\n",
      "Epoch 22: Validation loss decreased (0.463238 --> 0.462922).  Saving model ...\n",
      "\t Train_Loss: 0.4547 Train_Acc: 80.497 Val_Loss: 0.4629  BEST VAL Loss: 0.4629  Val_Acc: 79.010\n",
      "\n",
      "Epoch 23: Validation loss decreased (0.462922 --> 0.462439).  Saving model ...\n",
      "\t Train_Loss: 0.4529 Train_Acc: 80.232 Val_Loss: 0.4624  BEST VAL Loss: 0.4624  Val_Acc: 78.688\n",
      "\n",
      "Epoch 24: Validation loss decreased (0.462439 --> 0.462010).  Saving model ...\n",
      "\t Train_Loss: 0.4508 Train_Acc: 80.635 Val_Loss: 0.4620  BEST VAL Loss: 0.4620  Val_Acc: 79.010\n",
      "\n",
      "Epoch 25: Validation loss did not decrease\n",
      "\t Train_Loss: 0.4490 Train_Acc: 80.511 Val_Loss: 0.4623  BEST VAL Loss: 0.4620  Val_Acc: 78.366\n",
      "\n",
      "Epoch 26: Validation loss decreased (0.462010 --> 0.461598).  Saving model ...\n",
      "\t Train_Loss: 0.4473 Train_Acc: 80.525 Val_Loss: 0.4616  BEST VAL Loss: 0.4616  Val_Acc: 79.171\n",
      "\n",
      "Epoch 27: Validation loss decreased (0.461598 --> 0.461256).  Saving model ...\n",
      "\t Train_Loss: 0.4456 Train_Acc: 80.819 Val_Loss: 0.4613  BEST VAL Loss: 0.4613  Val_Acc: 78.366\n",
      "\n",
      "Epoch 28: Validation loss decreased (0.461256 --> 0.461149).  Saving model ...\n",
      "\t Train_Loss: 0.4438 Train_Acc: 80.891 Val_Loss: 0.4611  BEST VAL Loss: 0.4611  Val_Acc: 78.987\n",
      "\n",
      "Epoch 29: Validation loss decreased (0.461149 --> 0.460861).  Saving model ...\n",
      "\t Train_Loss: 0.4422 Train_Acc: 80.802 Val_Loss: 0.4609  BEST VAL Loss: 0.4609  Val_Acc: 78.780\n",
      "\n",
      "Epoch 30: Validation loss decreased (0.460861 --> 0.460477).  Saving model ...\n",
      "\t Train_Loss: 0.4408 Train_Acc: 80.922 Val_Loss: 0.4605  BEST VAL Loss: 0.4605  Val_Acc: 79.171\n",
      "\n",
      "Epoch 31: Validation loss decreased (0.460477 --> 0.460383).  Saving model ...\n",
      "\t Train_Loss: 0.4393 Train_Acc: 80.966 Val_Loss: 0.4604  BEST VAL Loss: 0.4604  Val_Acc: 78.665\n",
      "\n",
      "Epoch 32: Validation loss decreased (0.460383 --> 0.459864).  Saving model ...\n",
      "\t Train_Loss: 0.4379 Train_Acc: 80.894 Val_Loss: 0.4599  BEST VAL Loss: 0.4599  Val_Acc: 79.333\n",
      "\n",
      "Epoch 33: Validation loss decreased (0.459864 --> 0.459544).  Saving model ...\n",
      "\t Train_Loss: 0.4365 Train_Acc: 81.003 Val_Loss: 0.4595  BEST VAL Loss: 0.4595  Val_Acc: 79.010\n",
      "\n",
      "Epoch 34: Validation loss decreased (0.459544 --> 0.459286).  Saving model ...\n",
      "\t Train_Loss: 0.4352 Train_Acc: 81.132 Val_Loss: 0.4593  BEST VAL Loss: 0.4593  Val_Acc: 78.642\n",
      "\n",
      "Epoch 35: Validation loss decreased (0.459286 --> 0.459150).  Saving model ...\n",
      "\t Train_Loss: 0.4338 Train_Acc: 81.383 Val_Loss: 0.4591  BEST VAL Loss: 0.4591  Val_Acc: 79.264\n",
      "\n",
      "Epoch 36: Validation loss did not decrease\n",
      "\t Train_Loss: 0.4326 Train_Acc: 81.429 Val_Loss: 0.4593  BEST VAL Loss: 0.4591  Val_Acc: 77.675\n",
      "\n",
      "Epoch 37: Validation loss did not decrease\n",
      "\t Train_Loss: 0.4313 Train_Acc: 81.242 Val_Loss: 0.4594  BEST VAL Loss: 0.4591  Val_Acc: 78.872\n",
      "\n",
      "Epoch 38: Validation loss decreased (0.459150 --> 0.459146).  Saving model ...\n",
      "\t Train_Loss: 0.4301 Train_Acc: 81.239 Val_Loss: 0.4591  BEST VAL Loss: 0.4591  Val_Acc: 79.125\n",
      "\n",
      "Epoch 39: Validation loss did not decrease\n",
      "\t Train_Loss: 0.4290 Train_Acc: 81.181 Val_Loss: 0.4594  BEST VAL Loss: 0.4591  Val_Acc: 78.297\n",
      "\n",
      "Epoch 40: Validation loss did not decrease\n",
      "\t Train_Loss: 0.4278 Train_Acc: 81.501 Val_Loss: 0.4592  BEST VAL Loss: 0.4591  Val_Acc: 79.010\n",
      "\n",
      "Epoch 41: Validation loss decreased (0.459146 --> 0.458832).  Saving model ...\n",
      "\t Train_Loss: 0.4267 Train_Acc: 81.806 Val_Loss: 0.4588  BEST VAL Loss: 0.4588  Val_Acc: 79.471\n",
      "\n",
      "Epoch 42: Validation loss did not decrease\n",
      "\t Train_Loss: 0.4256 Train_Acc: 81.481 Val_Loss: 0.4590  BEST VAL Loss: 0.4588  Val_Acc: 78.895\n",
      "\n",
      "Epoch 43: Validation loss did not decrease\n",
      "\t Train_Loss: 0.4245 Train_Acc: 81.532 Val_Loss: 0.4592  BEST VAL Loss: 0.4588  Val_Acc: 79.425\n",
      "\n",
      "Epoch 44: Validation loss did not decrease\n",
      "\t Train_Loss: 0.4235 Train_Acc: 81.636 Val_Loss: 0.4594  BEST VAL Loss: 0.4588  Val_Acc: 79.079\n",
      "\n",
      "Epoch 45: Validation loss did not decrease\n",
      "\t Train_Loss: 0.4225 Train_Acc: 81.449 Val_Loss: 0.4593  BEST VAL Loss: 0.4588  Val_Acc: 79.448\n",
      "\n",
      "Epoch 46: Validation loss did not decrease\n",
      "\t Train_Loss: 0.4215 Train_Acc: 81.791 Val_Loss: 0.4593  BEST VAL Loss: 0.4588  Val_Acc: 79.356\n",
      "\n",
      "Epoch 47: Validation loss did not decrease\n",
      "\t Train_Loss: 0.4206 Train_Acc: 81.829 Val_Loss: 0.4598  BEST VAL Loss: 0.4588  Val_Acc: 77.814\n",
      "\n",
      "Epoch 48: Validation loss did not decrease\n",
      "\t Train_Loss: 0.4196 Train_Acc: 81.768 Val_Loss: 0.4599  BEST VAL Loss: 0.4588  Val_Acc: 78.527\n",
      "\n",
      "Epoch 49: Validation loss did not decrease\n",
      "\t Train_Loss: 0.4187 Train_Acc: 81.783 Val_Loss: 0.4600  BEST VAL Loss: 0.4588  Val_Acc: 79.540\n",
      "\n",
      "Epoch 50: Validation loss did not decrease\n",
      "\t Train_Loss: 0.4178 Train_Acc: 82.001 Val_Loss: 0.4598  BEST VAL Loss: 0.4588  Val_Acc: 79.816\n",
      "\n",
      "Epoch 51: Validation loss did not decrease\n",
      "\t Train_Loss: 0.4170 Train_Acc: 81.832 Val_Loss: 0.4596  BEST VAL Loss: 0.4588  Val_Acc: 79.540\n",
      "\n",
      "Epoch 52: Validation loss did not decrease\n",
      "\t Train_Loss: 0.4160 Train_Acc: 82.378 Val_Loss: 0.4600  BEST VAL Loss: 0.4588  Val_Acc: 79.264\n",
      "\n",
      "Epoch 53: Validation loss did not decrease\n",
      "\t Train_Loss: 0.4151 Train_Acc: 81.978 Val_Loss: 0.4603  BEST VAL Loss: 0.4588  Val_Acc: 79.010\n",
      "\n",
      "Epoch 54: Validation loss did not decrease\n",
      "\t Train_Loss: 0.4143 Train_Acc: 81.806 Val_Loss: 0.4604  BEST VAL Loss: 0.4588  Val_Acc: 79.494\n",
      "\n",
      "Epoch 55: Validation loss did not decrease\n",
      "\t Train_Loss: 0.4135 Train_Acc: 82.318 Val_Loss: 0.4607  BEST VAL Loss: 0.4588  Val_Acc: 78.895\n",
      "\n",
      "Epoch 56: Validation loss did not decrease\n",
      "\t Train_Loss: 0.4126 Train_Acc: 82.321 Val_Loss: 0.4610  BEST VAL Loss: 0.4588  Val_Acc: 79.563\n",
      "\n",
      "Epoch 57: Validation loss did not decrease\n",
      "Early stopped at epoch : 57\n"
     ]
    }
   ],
   "source": [
    "# call the optimized training model\n",
    "train_loss, train_acc, valid_loss, valid_acc, epochs_ran, model = train_optimized_model(\n",
    "    params.TRAIN_EPOCHS,\n",
    "    train_loader,\n",
    "    valid_loader,\n",
    "    param_dict,\n",
    "    params,\n",
    "    params.MODEL_NAME,\n",
    ")\n",
    "# get training_metrics\n",
    "if params.MODEL_TYPE == \"Regression\":\n",
    "    training_stats = pd.DataFrame(\n",
    "        zip(train_loss, valid_loss, epochs_ran),\n",
    "        columns=[\"train_loss\", \"valid_loss\", \"epochs_ran\"],\n",
    "    )\n",
    "else:\n",
    "    training_stats = pd.DataFrame(\n",
    "        zip(train_loss, train_acc, valid_loss, valid_acc, epochs_ran),\n",
    "        columns=[\"train_loss\", \"train_acc\", \"valid_loss\", \"valid_acc\", \"epochs_ran\"],\n",
    "    )"
   ]
  },
  {
   "cell_type": "code",
   "execution_count": 18,
   "id": "1340d8aa",
   "metadata": {},
   "outputs": [
    {
     "name": "stderr",
     "output_type": "stream",
     "text": [
      "/home/lippincm/Documents/ML/Interstellar_Analysis/MLP_Model/model_training/../MLP_utils/utils.py:962: UserWarning:\n",
      "\n",
      "Ignoring `palette` because no `hue` variable has been assigned.\n",
      "\n",
      "/home/lippincm/Documents/ML/Interstellar_Analysis/MLP_Model/model_training/../MLP_utils/utils.py:963: UserWarning:\n",
      "\n",
      "Ignoring `palette` because no `hue` variable has been assigned.\n",
      "\n"
     ]
    },
    {
     "data": {
      "image/png": "[encoded data removed]",
      "text/plain": [
       "<Figure size 640x480 with 1 Axes>"
      ]
     },
     "metadata": {},
     "output_type": "display_data"
    }
   ],
   "source": [
    "if params.MODEL_TYPE == \"Regression\":\n",
    "    pass\n",
    "else:\n",
    "    plot_metric_vs_epoch(\n",
    "        training_stats,\n",
    "        x=\"epochs_ran\",\n",
    "        y1=\"train_acc\",\n",
    "        y2=\"valid_acc\",\n",
    "        title=\"Accuracy vs. Epochs\",\n",
    "        x_axis_label=\"Epochs\",\n",
    "        y_axis_label=\"Accuracy\",\n",
    "        params=params,\n",
    "        model_name=params.MODEL_NAME,\n",
    "    )"
   ]
  },
  {
   "cell_type": "code",
   "execution_count": 19,
   "id": "41991221",
   "metadata": {},
   "outputs": [
    {
     "name": "stderr",
     "output_type": "stream",
     "text": [
      "/home/lippincm/Documents/ML/Interstellar_Analysis/MLP_Model/model_training/../MLP_utils/utils.py:962: UserWarning:\n",
      "\n",
      "Ignoring `palette` because no `hue` variable has been assigned.\n",
      "\n",
      "/home/lippincm/Documents/ML/Interstellar_Analysis/MLP_Model/model_training/../MLP_utils/utils.py:963: UserWarning:\n",
      "\n",
      "Ignoring `palette` because no `hue` variable has been assigned.\n",
      "\n"
     ]
    },
    {
     "data": {
      "image/png": "[encoded data removed]",
      "text/plain": [
       "<Figure size 640x480 with 1 Axes>"
      ]
     },
     "metadata": {},
     "output_type": "display_data"
    }
   ],
   "source": [
    "plot_metric_vs_epoch(\n",
    "    training_stats,\n",
    "    x=\"epochs_ran\",\n",
    "    y1=\"train_loss\",\n",
    "    y2=\"valid_loss\",\n",
    "    title=\"Loss vs. Epochs\",\n",
    "    x_axis_label=\"Epochs\",\n",
    "    y_axis_label=\"Loss\",\n",
    "    params=params,\n",
    "    model_name=params.MODEL_NAME,\n",
    ")"
   ]
  },
  {
   "cell_type": "code",
   "execution_count": 20,
   "id": "3e2c848c",
   "metadata": {},
   "outputs": [],
   "source": [
    "# calling the testing function and outputting list values of tested model\n",
    "if params.MODEL_TYPE == \"Multi_Class\" or params.MODEL_TYPE == \"Regression\":\n",
    "    y_pred_list = test_optimized_model(\n",
    "        model, test_loader, params, model_name=params.MODEL_NAME\n",
    "    )\n",
    "elif params.MODEL_TYPE == \"Binary_Classification\":\n",
    "    y_pred_list, y_pred_prob_list = test_optimized_model(\n",
    "        model, test_loader, params, model_name=params.MODEL_NAME\n",
    "    )\n",
    "else:\n",
    "    raise Exception(\"Model type must be specified for proper model testing\")\n",
    "\n",
    "\n",
    "# un-nest list if nested i.e. length of input data does not match length of output data\n",
    "if len(y_pred_list) != len(Y_test):\n",
    "    y_pred_list = un_nest(y_pred_list)\n",
    "    y_pred_prob_list = un_nest(y_pred_prob_list)\n",
    "else:\n",
    "    pass"
   ]
  },
  {
   "cell_type": "code",
   "execution_count": 21,
   "id": "3c53f7e4",
   "metadata": {},
   "outputs": [
    {
     "name": "stdout",
     "output_type": "stream",
     "text": [
      "              precision    recall  f1-score   support\n",
      "\n",
      "           0       0.83      0.88      0.86      3081\n",
      "           1       0.66      0.56      0.61      1264\n",
      "\n",
      "    accuracy                           0.79      4345\n",
      "   macro avg       0.75      0.72      0.73      4345\n",
      "weighted avg       0.78      0.79      0.78      4345\n",
      "\n"
     ]
    },
    {
     "data": {
      "image/png": "[encoded data removed]",
      "text/plain": [
       "<Figure size 640x480 with 2 Axes>"
      ]
     },
     "metadata": {},
     "output_type": "display_data"
    },
    {
     "data": {
      "image/png": "[encoded data removed]",
      "text/plain": [
       "<Figure size 550x400 with 1 Axes>"
      ]
     },
     "metadata": {},
     "output_type": "display_data"
    }
   ],
   "source": [
    "# Call visualization function\n",
    "# calling the testing function and outputing list values of tested model\n",
    "if params.MODEL_TYPE == \"Multi_Class\" or params.MODEL_TYPE == \"Regression\":\n",
    "    confusion_matrix_df = results_output(\n",
    "        y_pred_list,\n",
    "        Y_test,\n",
    "        params,\n",
    "        test_name=f\"{params.MODEL_NAME}_testing\",\n",
    "        model_name=params.MODEL_NAME,\n",
    "        title=params.MODEL_NAME,\n",
    "    )\n",
    "elif params.MODEL_TYPE == \"Binary_Classification\":\n",
    "    results_output(\n",
    "        y_pred_list,\n",
    "        Y_test,\n",
    "        params,\n",
    "        y_pred_prob_list,\n",
    "        test_name=f\"{params.MODEL_NAME}_testing\",\n",
    "        model_name=params.MODEL_NAME,\n",
    "        title=params.MODEL_NAME,\n",
    "    )\n",
    "else:\n",
    "    raise Exception(\"Model type must be specified for proper model testing\")"
   ]
  },
  {
   "attachments": {},
   "cell_type": "markdown",
   "id": "2c620f38",
   "metadata": {},
   "source": [
    "#### look at the feature weights of the model"
   ]
  },
  {
   "cell_type": "code",
   "execution_count": 22,
   "id": "06ecc2f0",
   "metadata": {},
   "outputs": [],
   "source": [
    "# get all paramters from pytorch model\n",
    "lst = []\n",
    "for name, param in model.named_parameters():\n",
    "    # print(name, param.shape)\n",
    "    lst.append(param)\n",
    "feature_weights = model[0].weight.grad[0].detach().cpu().numpy()"
   ]
  },
  {
   "cell_type": "code",
   "execution_count": 23,
   "id": "131b568f",
   "metadata": {},
   "outputs": [],
   "source": [
    "col_list = []\n",
    "for col in df_values.columns:\n",
    "    # print(col)\n",
    "    col_list.append(col)"
   ]
  },
  {
   "cell_type": "code",
   "execution_count": 24,
   "id": "400c1291",
   "metadata": {},
   "outputs": [],
   "source": [
    "# remove last 4 columns from col_list that are not features\n",
    "col_list = col_list[:-4]"
   ]
  },
  {
   "cell_type": "code",
   "execution_count": 25,
   "id": "42dbfe2a",
   "metadata": {},
   "outputs": [
    {
     "data": {
      "text/html": [
       "<div>\n",
       "<style scoped>\n",
       "    .dataframe tbody tr th:only-of-type {\n",
       "        vertical-align: middle;\n",
       "    }\n",
       "\n",
       "    .dataframe tbody tr th {\n",
       "        vertical-align: top;\n",
       "    }\n",
       "\n",
       "    .dataframe thead th {\n",
       "        text-align: right;\n",
       "    }\n",
       "</style>\n",
       "<table border=\"1\" class=\"dataframe\">\n",
       "  <thead>\n",
       "    <tr style=\"text-align: right;\">\n",
       "      <th></th>\n",
       "      <th>feature</th>\n",
       "      <th>weight</th>\n",
       "    </tr>\n",
       "  </thead>\n",
       "  <tbody>\n",
       "    <tr>\n",
       "      <th>2048</th>\n",
       "      <td>Nuclei_Granularity_13_CorrER</td>\n",
       "      <td>0.002750</td>\n",
       "    </tr>\n",
       "    <tr>\n",
       "      <th>1095</th>\n",
       "      <td>Cells_Granularity_13_CorrER</td>\n",
       "      <td>0.002659</td>\n",
       "    </tr>\n",
       "    <tr>\n",
       "      <th>151</th>\n",
       "      <td>Cytoplasm_Granularity_13_CorrER</td>\n",
       "      <td>0.002464</td>\n",
       "    </tr>\n",
       "    <tr>\n",
       "      <th>2172</th>\n",
       "      <td>Nuclei_Intensity_StdIntensityEdge_CorrDNA</td>\n",
       "      <td>0.002455</td>\n",
       "    </tr>\n",
       "    <tr>\n",
       "      <th>2049</th>\n",
       "      <td>Nuclei_Granularity_13_CorrGasdermin</td>\n",
       "      <td>0.002424</td>\n",
       "    </tr>\n",
       "    <tr>\n",
       "      <th>...</th>\n",
       "      <td>...</td>\n",
       "      <td>...</td>\n",
       "    </tr>\n",
       "    <tr>\n",
       "      <th>1330</th>\n",
       "      <td>Cells_RadialDistribution_RadialCV_CorrMito_4of4</td>\n",
       "      <td>-0.002488</td>\n",
       "    </tr>\n",
       "    <tr>\n",
       "      <th>374</th>\n",
       "      <td>Cytoplasm_RadialDistribution_RadialCV_CorrGasdermin_4of4</td>\n",
       "      <td>-0.002545</td>\n",
       "    </tr>\n",
       "    <tr>\n",
       "      <th>370</th>\n",
       "      <td>Cytoplasm_RadialDistribution_RadialCV_CorrER_4of4</td>\n",
       "      <td>-0.002548</td>\n",
       "    </tr>\n",
       "    <tr>\n",
       "      <th>378</th>\n",
       "      <td>Cytoplasm_RadialDistribution_RadialCV_CorrMito_4of4</td>\n",
       "      <td>-0.002928</td>\n",
       "    </tr>\n",
       "    <tr>\n",
       "      <th>26</th>\n",
       "      <td>Cytoplasm_AreaShape_Zernike_1_1</td>\n",
       "      <td>-0.002965</td>\n",
       "    </tr>\n",
       "  </tbody>\n",
       "</table>\n",
       "<p>2847 rows × 2 columns</p>\n",
       "</div>"
      ],
      "text/plain": [
       "                                                       feature    weight\n",
       "2048                              Nuclei_Granularity_13_CorrER  0.002750\n",
       "1095                               Cells_Granularity_13_CorrER  0.002659\n",
       "151                            Cytoplasm_Granularity_13_CorrER  0.002464\n",
       "2172                 Nuclei_Intensity_StdIntensityEdge_CorrDNA  0.002455\n",
       "2049                       Nuclei_Granularity_13_CorrGasdermin  0.002424\n",
       "...                                                        ...       ...\n",
       "1330           Cells_RadialDistribution_RadialCV_CorrMito_4of4 -0.002488\n",
       "374   Cytoplasm_RadialDistribution_RadialCV_CorrGasdermin_4of4 -0.002545\n",
       "370          Cytoplasm_RadialDistribution_RadialCV_CorrER_4of4 -0.002548\n",
       "378        Cytoplasm_RadialDistribution_RadialCV_CorrMito_4of4 -0.002928\n",
       "26                             Cytoplasm_AreaShape_Zernike_1_1 -0.002965\n",
       "\n",
       "[2847 rows x 2 columns]"
      ]
     },
     "execution_count": 25,
     "metadata": {},
     "output_type": "execute_result"
    }
   ],
   "source": [
    "pd.set_option(\"display.max_colwidth\", None)\n",
    "\n",
    "df = pd.DataFrame(zip(col_list, feature_weights), columns=[\"feature\", \"weight\"])\n",
    "# change weight collumn to float\n",
    "df[\"weight\"] = df[\"weight\"].astype(float)\n",
    "# sort by weight\n",
    "df = df.sort_values(by=[\"weight\"], ascending=False)\n",
    "df"
   ]
  },
  {
   "cell_type": "code",
   "execution_count": 26,
   "id": "e8a4e590",
   "metadata": {},
   "outputs": [],
   "source": [
    "# Code snippet for metadata extraction by Jenna Tomkinson\n",
    "df_metadata = list(df_holdout.columns[df_holdout.columns.str.startswith(\"Metadata\")])\n",
    "\n",
    "# define which columns are data and which are descriptive\n",
    "df_descriptive = df_holdout[df_metadata]\n",
    "df_values = df_holdout.drop(columns=df_metadata)"
   ]
  },
  {
   "cell_type": "code",
   "execution_count": 27,
   "id": "748bb398",
   "metadata": {},
   "outputs": [],
   "source": [
    "# Creating label encoder\n",
    "le = preprocessing.LabelEncoder()\n",
    "# Converting strings into numbers\n",
    "df_values[\"oneb_Metadata_Treatment_Dose_Inhibitor_Dose\"] = le.fit_transform(\n",
    "    df_values[\"oneb_Metadata_Treatment_Dose_Inhibitor_Dose\"]\n",
    ")\n",
    "# split into X and Y where Y are the predictive column and x are the observable data\n",
    "df_values_X = df_values.drop(\n",
    "    [\n",
    "        \"oneb_Metadata_Treatment_Dose_Inhibitor_Dose\",\n",
    "        \"twob_Metadata_Treatment_Dose_Inhibitor_Dose\",\n",
    "        \"threeb_Metadata_Treatment_Dose_Inhibitor_Dose\",\n",
    "        \"fourb_Metadata_Treatment_Dose_Inhibitor_Dose\",\n",
    "    ],\n",
    "    axis=1,\n",
    ")\n",
    "df_values_Y = df_values[\"oneb_Metadata_Treatment_Dose_Inhibitor_Dose\"]"
   ]
  },
  {
   "cell_type": "code",
   "execution_count": 28,
   "id": "2c5677d3",
   "metadata": {},
   "outputs": [],
   "source": [
    "test_data = Dataset_formatter(\n",
    "    torch.FloatTensor(df_values_X.values), torch.FloatTensor(df_values_Y.values)\n",
    ")\n",
    "\n",
    "# convert data class into a dataloader to be compatible with pytorch\n",
    "test_loader = torch.utils.data.DataLoader(dataset=test_data, batch_size=1)"
   ]
  },
  {
   "cell_type": "code",
   "execution_count": 29,
   "id": "3e2c848c",
   "metadata": {},
   "outputs": [],
   "source": [
    "# calling the testing function and outputting list values of tested model\n",
    "if params.MODEL_TYPE == \"Multi_Class\" or params.MODEL_TYPE == \"Regression\":\n",
    "    y_pred_list = test_optimized_model(\n",
    "        model, test_loader, params, model_name=params.MODEL_NAME\n",
    "    )\n",
    "elif params.MODEL_TYPE == \"Binary_Classification\":\n",
    "    y_pred_list, y_pred_prob_list = test_optimized_model(\n",
    "        model, test_loader, params, model_name=params.MODEL_NAME\n",
    "    )\n",
    "else:\n",
    "    raise Exception(\"Model type must be specified for proper model testing\")\n",
    "\n",
    "\n",
    "# un-nest list if nested i.e. length of input data does not match length of output data\n",
    "if len(y_pred_list) != len(df_values_Y):\n",
    "    y_pred_list = un_nest(y_pred_list)\n",
    "    y_pred_prob_list = un_nest(y_pred_prob_list)\n",
    "else:\n",
    "    pass"
   ]
  },
  {
   "cell_type": "code",
   "execution_count": 30,
   "id": "3c53f7e4",
   "metadata": {},
   "outputs": [
    {
     "name": "stdout",
     "output_type": "stream",
     "text": [
      "              precision    recall  f1-score   support\n",
      "\n",
      "           0       0.68      0.82      0.75      4837\n",
      "           1       0.73      0.56      0.63      4168\n",
      "\n",
      "    accuracy                           0.70      9005\n",
      "   macro avg       0.71      0.69      0.69      9005\n",
      "weighted avg       0.70      0.70      0.69      9005\n",
      "\n"
     ]
    },
    {
     "data": {
      "image/png": "[encoded data removed]",
      "text/plain": [
       "<Figure size 640x480 with 2 Axes>"
      ]
     },
     "metadata": {},
     "output_type": "display_data"
    },
    {
     "data": {
      "image/png": "[encoded data removed]",
      "text/plain": [
       "<Figure size 550x400 with 1 Axes>"
      ]
     },
     "metadata": {},
     "output_type": "display_data"
    }
   ],
   "source": [
    "# Call visualization function\n",
    "# calling the testing function and outputing list values of tested model\n",
    "if params.MODEL_TYPE == \"Multi_Class\" or params.MODEL_TYPE == \"Regression\":\n",
    "    confusion_matrix_df = results_output(\n",
    "        y_pred_list,\n",
    "        df_values_Y,\n",
    "        params,\n",
    "        test_name=f\"{params.MODEL_NAME}_hold_out\",\n",
    "        model_name=params.MODEL_NAME,\n",
    "        title=params.MODEL_NAME,\n",
    "    )\n",
    "elif params.MODEL_TYPE == \"Binary_Classification\":\n",
    "    results_output(\n",
    "        y_pred_list,\n",
    "        df_values_Y,\n",
    "        params,\n",
    "        y_pred_prob_list,\n",
    "        test_name=f\"{params.MODEL_NAME}_hold_out\",\n",
    "        model_name=params.MODEL_NAME,\n",
    "        title=params.MODEL_NAME,\n",
    "    )\n",
    "else:\n",
    "    raise Exception(\"Model type must be specified for proper model testing\")"
   ]
  }
 ],
 "metadata": {
  "jupytext": {
   "cell_metadata_filter": "-all",
   "encoding": "# coding: utf-8",
   "executable": "/usr/bin/env python",
   "formats": "ipynb,py",
   "main_language": "python"
  },
  "kernelspec": {
   "display_name": "Python 3 (ipykernel)",
   "language": "python",
   "name": "python3"
  },
  "language_info": {
   "codemirror_mode": {
    "name": "ipython",
    "version": 3
   },
   "file_extension": ".py",
   "mimetype": "text/x-python",
   "name": "python",
   "nbconvert_exporter": "python",
   "pygments_lexer": "ipython3",
   "version": "3.10.10"
  },
  "vscode": {
   "interpreter": {
    "hash": "72ae02083a9ca7d143c492d1aec380c7bf553ec51bd66e90e72bba65228121b6"
   }
  }
 },
 "nbformat": 4,
 "nbformat_minor": 5
}
