{
 "cells": [
  {
   "attachments": {},
   "cell_type": "markdown",
   "id": "8e60628c",
   "metadata": {},
   "source": [
    "## Hyperparameter tuning via Optuna"
   ]
  },
  {
   "cell_type": "markdown",
   "id": "8fac71a5",
   "metadata": {},
   "source": [
    "### Being a binary model this notebook will be limited to predicting one class 1 or 0, yes or no.\n",
    "### Here I will be predicting if a cell received a treatment or not"
   ]
  },
  {
   "cell_type": "code",
   "execution_count": 1,
   "id": "860a61dd",
   "metadata": {},
   "outputs": [],
   "source": [
    "import sys\n",
    "from pathlib import Path\n",
    "import os\n",
    "\n",
    "import matplotlib.pyplot as plt\n",
    "import numpy as np\n",
    "import optuna\n",
    "import pandas as pd\n",
    "import plotly\n",
    "import seaborn as sns\n",
    "import toml\n",
    "import torch\n",
    "import torch.nn as nn\n",
    "import torch.optim as optim\n",
    "from sklearn import preprocessing\n",
    "\n",
    "from sklearn.model_selection import train_test_split\n",
    "\n",
    "\n",
    "from sklearn.metrics import confusion_matrix\n",
    "from sklearn.metrics import precision_score, recall_score\n",
    "from sklearn.metrics import roc_auc_score\n",
    "\n",
    "from sklearn.metrics import roc_curve, auc\n",
    "\n",
    "import pyarrow.parquet as pq\n",
    "\n",
    "sys.path.append(\"..\")\n",
    "from MLP_utils.utils import parameter_set\n",
    "from MLP_utils.parameters import Parameters\n",
    "from MLP_utils.utils import (\n",
    "    Dataset_formatter,\n",
    "    data_split,\n",
    "    extract_best_trial_params,\n",
    "    objective_model_optimizer,\n",
    "    optimized_model_create,\n",
    "    plot_metric_vs_epoch,\n",
    "    results_output,\n",
    "    test_optimized_model,\n",
    "    train_optimized_model,\n",
    "    un_nest,\n",
    ")\n",
    "\n",
    "\n",
    "sys.path.append(\"../..\")\n",
    "from utils.utils import df_stats"
   ]
  },
  {
   "cell_type": "code",
   "execution_count": 2,
   "id": "44baa945",
   "metadata": {},
   "outputs": [],
   "source": [
    "# Import Data\n",
    "# set data file path under pathlib path for multi-system use\n",
    "\n",
    "\n",
    "file_path = Path(\n",
    "    \"../../../Extracted_Features_(CSV_files)/interstellar_wave3_sc_norm_fs_cellprofiler.csv.gz\"\n",
    ")\n",
    "\n",
    "file_path = Path(\n",
    "    \"../../../Extracted_Features_(CSV_files)/SHSY5Y_preprocessed_df_sc_norm.parquet\"\n",
    ")\n",
    "\n",
    "df = pq.read_table(file_path).to_pandas()\n",
    "# df = pd.read_csv(file_path, engine=\"pyarrow\")"
   ]
  },
  {
   "cell_type": "code",
   "execution_count": 3,
   "id": "394294ce",
   "metadata": {},
   "outputs": [],
   "source": [
    "data = Path(\"../MLP_utils/config.toml\")\n",
    "config = toml.load(data)\n",
    "params = Parameters()\n",
    "params = parameter_set(params, config)"
   ]
  },
  {
   "attachments": {},
   "cell_type": "markdown",
   "id": "5c486e00",
   "metadata": {},
   "source": [
    "#### Set up Data to be compatible with model"
   ]
  },
  {
   "attachments": {},
   "cell_type": "markdown",
   "id": "95754baa",
   "metadata": {},
   "source": [
    "##### Classification Models:\n",
    "Comment out code if using regression"
   ]
  },
  {
   "cell_type": "code",
   "execution_count": 4,
   "id": "b6ea8ac9",
   "metadata": {},
   "outputs": [
    {
     "name": "stdout",
     "output_type": "stream",
     "text": [
      "Selected Catagories are:\n",
      "['DMSO_0.100_DMSO_0.025' 'Thapsigargin_10.000_DMSO_0.025'\n",
      " 'LPS_100.000_DMSO_0.025']\n",
      "The dimensions of the data are: (64842, 2872)\n",
      "Number of total missing values across all columns: 129684\n",
      "Data Subset Is Off\n"
     ]
    }
   ],
   "source": [
    "# Combine treatment with dosage to be able to discern treatments with different doses as a different condition\n",
    "# Combine treatment and dose\n",
    "# df = df.assign(\n",
    "#     Metadata_Treatment_and_Dose=lambda x: df[\"Metadata_treatment\"]\n",
    "#     + \"_\"\n",
    "#     + df[\"Metadata_dose\"]\n",
    "# )\n",
    "\n",
    "# print(\"Unique Catagories are:\")\n",
    "# print(df[\"Metadata_Treatment_and_Dose\"].unique())\n",
    "\n",
    "# Generate df specific to analysis and model\n",
    "df = df.query(\n",
    "    \"oneb_Metadata_Treatment_Dose_Inhibitor_Dose == 'LPS_100.000_DMSO_0.025'| oneb_Metadata_Treatment_Dose_Inhibitor_Dose == 'Thapsigargin_10.000_DMSO_0.025' | oneb_Metadata_Treatment_Dose_Inhibitor_Dose == 'DMSO_0.100_DMSO_0.025'\"\n",
    ")\n",
    "# for binary classification testing\n",
    "# df = df.query(\n",
    "#     \"oneb_Metadata_Treatment_Dose_Inhibitor_Dose == 'LPS_100.000_DMSO_0.025'| oneb_Metadata_Treatment_Dose_Inhibitor_Dose == 'DMSO_0.100_DMSO_0.025'\"\n",
    "# )\n",
    "print(\"Selected Catagories are:\")\n",
    "print(df[\"oneb_Metadata_Treatment_Dose_Inhibitor_Dose\"].unique())\n",
    "# Drop na and reindex accordingly\n",
    "# df = df.dropna()\n",
    "# df = df.reset_index(drop=True)\n",
    "\n",
    "# Check for Nans again\n",
    "df_stats(df)\n",
    "\n",
    "if params.DATA_SUBSET_OPTION == \"True\":\n",
    "    df = df.sample(n=params.DATA_SUBSET_NUMBER)\n",
    "    print(\"Data Subset Is On\")\n",
    "    print(f\"Data is subset to {params.DATA_SUBSET_NUMBER}\")\n",
    "else:\n",
    "    print(\"Data Subset Is Off\")"
   ]
  },
  {
   "cell_type": "code",
   "execution_count": 5,
   "id": "088cff07",
   "metadata": {},
   "outputs": [
    {
     "name": "stdout",
     "output_type": "stream",
     "text": [
      "Wells held out for testing: ['I14' 'L14' 'J21']\n",
      "Wells to use for training, validation, and testing ['B14' 'C14' 'E14' 'B15' 'C15' 'E15' 'J14' 'I15' 'J15' 'L15' 'J16' 'J17'\n",
      " 'J20']\n"
     ]
    }
   ],
   "source": [
    "np.random.seed(seed=0)\n",
    "wells_to_hold = (\n",
    "    df.groupby(\"oneb_Metadata_Treatment_Dose_Inhibitor_Dose\")\n",
    "    .agg(np.random.choice)[\"Metadata_Well\"]\n",
    "    .to_list()\n",
    ")\n",
    "df_holdout = df[df[\"Metadata_Well\"].isin(wells_to_hold)]\n",
    "df = df[~df[\"Metadata_Well\"].isin(wells_to_hold)]\n",
    "\n",
    "\n",
    "print(\"Wells held out for testing:\", df_holdout[\"Metadata_Well\"].unique())\n",
    "print(\n",
    "    \"Wells to use for training, validation, and testing\", df[\"Metadata_Well\"].unique()\n",
    ")"
   ]
  },
  {
   "cell_type": "code",
   "execution_count": 6,
   "id": "786e3a76",
   "metadata": {},
   "outputs": [],
   "source": [
    "# Code snippet for metadata extraction by Jenna Tomkinson\n",
    "df_metadata = list(df.columns[df.columns.str.startswith(\"Metadata\")])\n",
    "\n",
    "# define which columns are data and which are descriptive\n",
    "df_descriptive = df[df_metadata]\n",
    "df_values = df.drop(columns=df_metadata)"
   ]
  },
  {
   "cell_type": "code",
   "execution_count": 7,
   "id": "595afb65",
   "metadata": {},
   "outputs": [],
   "source": [
    "# Creating label encoder\n",
    "le = preprocessing.LabelEncoder()\n",
    "# Converting strings into numbers\n",
    "df_values[\"oneb_Metadata_Treatment_Dose_Inhibitor_Dose\"] = le.fit_transform(\n",
    "    df_values[\"oneb_Metadata_Treatment_Dose_Inhibitor_Dose\"]\n",
    ")\n",
    "# split into X and Y where Y are the predictive column and x are the observable data\n",
    "df_values_X = df_values.drop(\n",
    "    [\n",
    "        \"oneb_Metadata_Treatment_Dose_Inhibitor_Dose\",\n",
    "        \"twob_Metadata_Treatment_Dose_Inhibitor_Dose\",\n",
    "        \"threeb_Metadata_Treatment_Dose_Inhibitor_Dose\",\n",
    "        \"fourb_Metadata_Treatment_Dose_Inhibitor_Dose\",\n",
    "    ],\n",
    "    axis=1,\n",
    ")\n",
    "df_values_Y = df_values[\"oneb_Metadata_Treatment_Dose_Inhibitor_Dose\"]"
   ]
  },
  {
   "cell_type": "code",
   "execution_count": 8,
   "id": "37451f5c",
   "metadata": {},
   "outputs": [],
   "source": [
    "output_name = (\" \").join(df[\"oneb_Metadata_Treatment_Dose_Inhibitor_Dose\"].unique())\n",
    "title = f'{output_name.split(\" \")[0].split(\"_\")[0]} vs {(\" \").join(output_name.split(\" \")[1].split(\"_\")[:2])} vs {(\" \").join(output_name.split(\" \")[2].split(\"_\")[:2])}'"
   ]
  },
  {
   "attachments": {},
   "cell_type": "markdown",
   "id": "633673ce",
   "metadata": {},
   "source": [
    "##### Regression Model Data Wrangling and Set Up\n",
    "comment out if not using regression"
   ]
  },
  {
   "cell_type": "code",
   "execution_count": 9,
   "id": "e2df24ec",
   "metadata": {},
   "outputs": [],
   "source": [
    "# if params.DATA_SUBSET_OPTION == 'True':\n",
    "#     df = df.sample(n=params.DATA_SUBSET_NUMBER)\n",
    "#     print(\"yes\")\n",
    "# else:\n",
    "#     pass\n",
    "# df_stats(df)\n",
    "# # Drop na and reindex accordingly\n",
    "# df = df.dropna()\n",
    "# df = df.reset_index(drop=True)\n",
    "\n",
    "# # Check for Nans again\n",
    "# df_stats(df)\n",
    "# # Code snippet for metadata extraction by Jenna Tomkinson\n",
    "# df_metadata = list(df.columns[df.columns.str.startswith(\"Metadata\")])\n",
    "# # define which columns are data and which are descriptive\n",
    "# df_descriptive = df[df_metadata]\n",
    "# df_values = df.drop(columns=df_metadata)\n",
    "# df_values_Y = df_values['Nuclei_Texture_InverseDifferenceMoment_CorrER_3_01_256']\n",
    "# df_values_X = df_values.drop('Nuclei_Texture_InverseDifferenceMoment_CorrER_3_01_256', axis=1)"
   ]
  },
  {
   "attachments": {},
   "cell_type": "markdown",
   "id": "260a048e",
   "metadata": {},
   "source": [
    "#### Split Data - All Models can proceed through this point"
   ]
  },
  {
   "cell_type": "code",
   "execution_count": 10,
   "id": "f4feb87f",
   "metadata": {},
   "outputs": [],
   "source": [
    "X_train, X_test, X_val, Y_train, Y_test, Y_val = data_split(\n",
    "    X_vals=df_values_X,\n",
    "    y_vals=df_values_Y,\n",
    "    train_proportion=0.8,\n",
    "    val_proportion=0.1,\n",
    "    test_proportion=0.1,\n",
    "    seed=1,\n",
    "    params=params,\n",
    ")"
   ]
  },
  {
   "cell_type": "code",
   "execution_count": 11,
   "id": "36894826",
   "metadata": {},
   "outputs": [],
   "source": [
    "# produce data objects for train, val and test datasets\n",
    "train_data = Dataset_formatter(\n",
    "    torch.FloatTensor(X_train.values), torch.FloatTensor(Y_train.values)\n",
    ")\n",
    "val_data = Dataset_formatter(\n",
    "    torch.FloatTensor(X_val.values), torch.FloatTensor(Y_val.values)\n",
    ")\n",
    "test_data = Dataset_formatter(\n",
    "    torch.FloatTensor(X_test.values), torch.FloatTensor(Y_test.values)\n",
    ")"
   ]
  },
  {
   "cell_type": "code",
   "execution_count": 12,
   "id": "4382d712",
   "metadata": {},
   "outputs": [
    {
     "name": "stdout",
     "output_type": "stream",
     "text": [
      "Number of in features:  2847\n",
      "Number of out features:  3\n",
      "Multi_Class\n"
     ]
    }
   ],
   "source": [
    "params.IN_FEATURES = X_train.shape[1]\n",
    "print(\"Number of in features: \", params.IN_FEATURES)\n",
    "if params.MODEL_TYPE == \"Regression\":\n",
    "    params.OUT_FEATURES = 1\n",
    "else:\n",
    "    params.OUT_FEATURES = len(\n",
    "        df_values[\"oneb_Metadata_Treatment_Dose_Inhibitor_Dose\"].unique()\n",
    "    )\n",
    "\n",
    "print(\"Number of out features: \", params.OUT_FEATURES)\n",
    "\n",
    "if params.OUT_FEATURES > 2:\n",
    "    params.MODEL_TYPE = \"Multi_Class\"\n",
    "elif params.OUT_FEATURES == 2:\n",
    "    params.OUT_FEATURES = params.OUT_FEATURES - 1\n",
    "    params.MODEL_TYPE = \"Binary_Classification\"\n",
    "elif params.OUT_FEATURES == 1:\n",
    "    params.MODEL_TYPE = \"Regression\"\n",
    "else:\n",
    "    pass\n",
    "print(params.MODEL_TYPE)"
   ]
  },
  {
   "cell_type": "code",
   "execution_count": 13,
   "id": "77effa5c",
   "metadata": {},
   "outputs": [],
   "source": [
    "# convert data class into a dataloader to be compatible with pytorch\n",
    "train_loader = torch.utils.data.DataLoader(\n",
    "    dataset=train_data, batch_size=params.BATCH_SIZE\n",
    ")\n",
    "valid_loader = torch.utils.data.DataLoader(\n",
    "    dataset=val_data, batch_size=params.BATCH_SIZE\n",
    ")\n",
    "test_loader = torch.utils.data.DataLoader(dataset=test_data, batch_size=1)"
   ]
  },
  {
   "cell_type": "code",
   "execution_count": 14,
   "id": "a969042f",
   "metadata": {},
   "outputs": [
    {
     "name": "stderr",
     "output_type": "stream",
     "text": [
      "\u001b[32m[I 2023-05-08 19:52:33,995]\u001b[0m A new study created in memory with name: no-name-02cf856a-7142-4393-bea1-c2f5b6f7152f\u001b[0m\n",
      "\u001b[32m[I 2023-05-08 19:53:34,040]\u001b[0m Trial 0 finished with value: 0.7981155596176783 and parameters: {'n_layers': 3, 'n_units_l0': 6, 'dropout_0': 0.29557735951685393, 'n_units_l1': 5, 'dropout_1': 0.24603887306911698, 'n_units_l2': 4, 'dropout_2': 0.1804274751129309, 'learning_rate': 0.0769274539602728, 'optimizer': 'Adam'}. Best is trial 0 with value: 0.7981155596176783.\u001b[0m\n",
      "\u001b[32m[I 2023-05-08 19:54:31,792]\u001b[0m Trial 1 finished with value: 0.4797029867768287 and parameters: {'n_layers': 1, 'n_units_l0': 10, 'dropout_0': 0.19360606886953802, 'learning_rate': 0.0263857580266415, 'optimizer': 'RMSprop'}. Best is trial 1 with value: 0.4797029867768287.\u001b[0m\n",
      "\u001b[32m[I 2023-05-08 19:55:29,209]\u001b[0m Trial 2 finished with value: 0.3814269013206164 and parameters: {'n_layers': 1, 'n_units_l0': 2, 'dropout_0': 0.17264195102366792, 'learning_rate': 0.04807099605887862, 'optimizer': 'Adam'}. Best is trial 2 with value: 0.3814269013206164.\u001b[0m\n",
      "\u001b[32m[I 2023-05-08 19:56:27,543]\u001b[0m Trial 3 finished with value: 0.6641202425956726 and parameters: {'n_layers': 3, 'n_units_l0': 2, 'dropout_0': 0.2895311703852589, 'n_units_l1': 7, 'dropout_1': 0.1166588615501604, 'n_units_l2': 4, 'dropout_2': 0.22223637105448127, 'learning_rate': 0.05284143386364224, 'optimizer': 'Adam'}. Best is trial 2 with value: 0.3814269013206164.\u001b[0m\n",
      "\u001b[32m[I 2023-05-08 19:57:25,772]\u001b[0m Trial 4 finished with value: 0.36018930524587633 and parameters: {'n_layers': 3, 'n_units_l0': 3, 'dropout_0': 0.20682280352378202, 'n_units_l1': 9, 'dropout_1': 0.2910188728144092, 'n_units_l2': 6, 'dropout_2': 0.2021676149075825, 'learning_rate': 0.03448554709826476, 'optimizer': 'Adam'}. Best is trial 4 with value: 0.36018930524587633.\u001b[0m\n",
      "\u001b[32m[I 2023-05-08 19:57:26,888]\u001b[0m Trial 5 pruned. \u001b[0m\n",
      "\u001b[32m[I 2023-05-08 19:57:28,156]\u001b[0m Trial 6 pruned. \u001b[0m\n",
      "\u001b[32m[I 2023-05-08 19:57:29,275]\u001b[0m Trial 7 pruned. \u001b[0m\n",
      "\u001b[32m[I 2023-05-08 19:57:30,504]\u001b[0m Trial 8 pruned. \u001b[0m\n",
      "\u001b[32m[I 2023-05-08 19:57:31,635]\u001b[0m Trial 9 pruned. \u001b[0m\n"
     ]
    },
    {
     "name": "stdout",
     "output_type": "stream",
     "text": [
      "Validation Accuracy: 79.92272554244386\n",
      "Validation Loss: 0.5143978761633238\n",
      "Training Accuracy: 71.93608566329566\n",
      "Training Loss: 0.5898015212181003\n"
     ]
    },
    {
     "data": {
      "text/plain": [
       "(79.92272554244386, 0.5143978761633238, 71.93608566329566, 0.5898015212181003)"
      ]
     },
     "execution_count": 14,
     "metadata": {},
     "output_type": "execute_result"
    }
   ],
   "source": [
    "# no accuracy function must be loss for regression\n",
    "if params.MODEL_TYPE == \"Regression\":\n",
    "    params.METRIC = \"loss\"\n",
    "    pass\n",
    "\n",
    "\n",
    "# wrap the objective function inside of a lambda function to pass args...\n",
    "objective_lambda_func = lambda trial: objective_model_optimizer(\n",
    "    train_loader,\n",
    "    valid_loader,\n",
    "    trial=trial,\n",
    "    params=params,\n",
    "    metric=params.METRIC,\n",
    "    return_info=False,\n",
    ")\n",
    "\n",
    "\n",
    "# Study is the object for model optimization\n",
    "study = optuna.create_study(direction=f\"{params.DIRECTION}\")\n",
    "# Here I apply the optimize function of the study to the objective function\n",
    "# This optimizes each parameter specified to be optimized from the defined search space\n",
    "study.optimize(objective_lambda_func, n_trials=params.N_TRIALS)\n",
    "# Prints out the best trial's optimized parameters\n",
    "objective_model_optimizer(\n",
    "    train_loader,\n",
    "    valid_loader,\n",
    "    trial=study.best_trial,\n",
    "    params=params,\n",
    "    metric=params.METRIC,\n",
    "    return_info=True,\n",
    ")"
   ]
  },
  {
   "cell_type": "code",
   "execution_count": 15,
   "id": "b2620589",
   "metadata": {},
   "outputs": [
    {
     "data": {
      "application/vnd.plotly.v1+json": {
       "config": {
        "plotlyServerURL": "https://plot.ly"
       },
       "data": [
        {
         "mode": "markers",
         "name": "Objective Value",
         "type": "scatter",
         "x": [
          0,
          1,
          2,
          3,
          4
         ],
         "y": [
          0.7981155596176783,
          0.4797029867768287,
          0.3814269013206164,
          0.6641202425956726,
          0.36018930524587633
         ]
        },
        {
         "name": "Best Value",
         "type": "scatter",
         "x": [
          0,
          1,
          2,
          3,
          4
         ],
         "y": [
          0.7981155596176783,
          0.4797029867768287,
          0.3814269013206164,
          0.3814269013206164,
          0.36018930524587633
         ]
        }
       ],
       "layout": {
        "template": {
         "data": {
          "bar": [
           {
            "error_x": {
             "color": "#2a3f5f"
            },
            "error_y": {
             "color": "#2a3f5f"
            },
            "marker": {
             "line": {
              "color": "#E5ECF6",
              "width": 0.5
             },
             "pattern": {
              "fillmode": "overlay",
              "size": 10,
              "solidity": 0.2
             }
            },
            "type": "bar"
           }
          ],
          "barpolar": [
           {
            "marker": {
             "line": {
              "color": "#E5ECF6",
              "width": 0.5
             },
             "pattern": {
              "fillmode": "overlay",
              "size": 10,
              "solidity": 0.2
             }
            },
            "type": "barpolar"
           }
          ],
          "carpet": [
           {
            "aaxis": {
             "endlinecolor": "#2a3f5f",
             "gridcolor": "white",
             "linecolor": "white",
             "minorgridcolor": "white",
             "startlinecolor": "#2a3f5f"
            },
            "baxis": {
             "endlinecolor": "#2a3f5f",
             "gridcolor": "white",
             "linecolor": "white",
             "minorgridcolor": "white",
             "startlinecolor": "#2a3f5f"
            },
            "type": "carpet"
           }
          ],
          "choropleth": [
           {
            "colorbar": {
             "outlinewidth": 0,
             "ticks": ""
            },
            "type": "choropleth"
           }
          ],
          "contour": [
           {
            "colorbar": {
             "outlinewidth": 0,
             "ticks": ""
            },
            "colorscale": [
             [
              0,
              "#0d0887"
             ],
             [
              0.1111111111111111,
              "#46039f"
             ],
             [
              0.2222222222222222,
              "#7201a8"
             ],
             [
              0.3333333333333333,
              "#9c179e"
             ],
             [
              0.4444444444444444,
              "#bd3786"
             ],
             [
              0.5555555555555556,
              "#d8576b"
             ],
             [
              0.6666666666666666,
              "#ed7953"
             ],
             [
              0.7777777777777778,
              "#fb9f3a"
             ],
             [
              0.8888888888888888,
              "#fdca26"
             ],
             [
              1,
              "#f0f921"
             ]
            ],
            "type": "contour"
           }
          ],
          "contourcarpet": [
           {
            "colorbar": {
             "outlinewidth": 0,
             "ticks": ""
            },
            "type": "contourcarpet"
           }
          ],
          "heatmap": [
           {
            "colorbar": {
             "outlinewidth": 0,
             "ticks": ""
            },
            "colorscale": [
             [
              0,
              "#0d0887"
             ],
             [
              0.1111111111111111,
              "#46039f"
             ],
             [
              0.2222222222222222,
              "#7201a8"
             ],
             [
              0.3333333333333333,
              "#9c179e"
             ],
             [
              0.4444444444444444,
              "#bd3786"
             ],
             [
              0.5555555555555556,
              "#d8576b"
             ],
             [
              0.6666666666666666,
              "#ed7953"
             ],
             [
              0.7777777777777778,
              "#fb9f3a"
             ],
             [
              0.8888888888888888,
              "#fdca26"
             ],
             [
              1,
              "#f0f921"
             ]
            ],
            "type": "heatmap"
           }
          ],
          "heatmapgl": [
           {
            "colorbar": {
             "outlinewidth": 0,
             "ticks": ""
            },
            "colorscale": [
             [
              0,
              "#0d0887"
             ],
             [
              0.1111111111111111,
              "#46039f"
             ],
             [
              0.2222222222222222,
              "#7201a8"
             ],
             [
              0.3333333333333333,
              "#9c179e"
             ],
             [
              0.4444444444444444,
              "#bd3786"
             ],
             [
              0.5555555555555556,
              "#d8576b"
             ],
             [
              0.6666666666666666,
              "#ed7953"
             ],
             [
              0.7777777777777778,
              "#fb9f3a"
             ],
             [
              0.8888888888888888,
              "#fdca26"
             ],
             [
              1,
              "#f0f921"
             ]
            ],
            "type": "heatmapgl"
           }
          ],
          "histogram": [
           {
            "marker": {
             "pattern": {
              "fillmode": "overlay",
              "size": 10,
              "solidity": 0.2
             }
            },
            "type": "histogram"
           }
          ],
          "histogram2d": [
           {
            "colorbar": {
             "outlinewidth": 0,
             "ticks": ""
            },
            "colorscale": [
             [
              0,
              "#0d0887"
             ],
             [
              0.1111111111111111,
              "#46039f"
             ],
             [
              0.2222222222222222,
              "#7201a8"
             ],
             [
              0.3333333333333333,
              "#9c179e"
             ],
             [
              0.4444444444444444,
              "#bd3786"
             ],
             [
              0.5555555555555556,
              "#d8576b"
             ],
             [
              0.6666666666666666,
              "#ed7953"
             ],
             [
              0.7777777777777778,
              "#fb9f3a"
             ],
             [
              0.8888888888888888,
              "#fdca26"
             ],
             [
              1,
              "#f0f921"
             ]
            ],
            "type": "histogram2d"
           }
          ],
          "histogram2dcontour": [
           {
            "colorbar": {
             "outlinewidth": 0,
             "ticks": ""
            },
            "colorscale": [
             [
              0,
              "#0d0887"
             ],
             [
              0.1111111111111111,
              "#46039f"
             ],
             [
              0.2222222222222222,
              "#7201a8"
             ],
             [
              0.3333333333333333,
              "#9c179e"
             ],
             [
              0.4444444444444444,
              "#bd3786"
             ],
             [
              0.5555555555555556,
              "#d8576b"
             ],
             [
              0.6666666666666666,
              "#ed7953"
             ],
             [
              0.7777777777777778,
              "#fb9f3a"
             ],
             [
              0.8888888888888888,
              "#fdca26"
             ],
             [
              1,
              "#f0f921"
             ]
            ],
            "type": "histogram2dcontour"
           }
          ],
          "mesh3d": [
           {
            "colorbar": {
             "outlinewidth": 0,
             "ticks": ""
            },
            "type": "mesh3d"
           }
          ],
          "parcoords": [
           {
            "line": {
             "colorbar": {
              "outlinewidth": 0,
              "ticks": ""
             }
            },
            "type": "parcoords"
           }
          ],
          "pie": [
           {
            "automargin": true,
            "type": "pie"
           }
          ],
          "scatter": [
           {
            "fillpattern": {
             "fillmode": "overlay",
             "size": 10,
             "solidity": 0.2
            },
            "type": "scatter"
           }
          ],
          "scatter3d": [
           {
            "line": {
             "colorbar": {
              "outlinewidth": 0,
              "ticks": ""
             }
            },
            "marker": {
             "colorbar": {
              "outlinewidth": 0,
              "ticks": ""
             }
            },
            "type": "scatter3d"
           }
          ],
          "scattercarpet": [
           {
            "marker": {
             "colorbar": {
              "outlinewidth": 0,
              "ticks": ""
             }
            },
            "type": "scattercarpet"
           }
          ],
          "scattergeo": [
           {
            "marker": {
             "colorbar": {
              "outlinewidth": 0,
              "ticks": ""
             }
            },
            "type": "scattergeo"
           }
          ],
          "scattergl": [
           {
            "marker": {
             "colorbar": {
              "outlinewidth": 0,
              "ticks": ""
             }
            },
            "type": "scattergl"
           }
          ],
          "scattermapbox": [
           {
            "marker": {
             "colorbar": {
              "outlinewidth": 0,
              "ticks": ""
             }
            },
            "type": "scattermapbox"
           }
          ],
          "scatterpolar": [
           {
            "marker": {
             "colorbar": {
              "outlinewidth": 0,
              "ticks": ""
             }
            },
            "type": "scatterpolar"
           }
          ],
          "scatterpolargl": [
           {
            "marker": {
             "colorbar": {
              "outlinewidth": 0,
              "ticks": ""
             }
            },
            "type": "scatterpolargl"
           }
          ],
          "scatterternary": [
           {
            "marker": {
             "colorbar": {
              "outlinewidth": 0,
              "ticks": ""
             }
            },
            "type": "scatterternary"
           }
          ],
          "surface": [
           {
            "colorbar": {
             "outlinewidth": 0,
             "ticks": ""
            },
            "colorscale": [
             [
              0,
              "#0d0887"
             ],
             [
              0.1111111111111111,
              "#46039f"
             ],
             [
              0.2222222222222222,
              "#7201a8"
             ],
             [
              0.3333333333333333,
              "#9c179e"
             ],
             [
              0.4444444444444444,
              "#bd3786"
             ],
             [
              0.5555555555555556,
              "#d8576b"
             ],
             [
              0.6666666666666666,
              "#ed7953"
             ],
             [
              0.7777777777777778,
              "#fb9f3a"
             ],
             [
              0.8888888888888888,
              "#fdca26"
             ],
             [
              1,
              "#f0f921"
             ]
            ],
            "type": "surface"
           }
          ],
          "table": [
           {
            "cells": {
             "fill": {
              "color": "#EBF0F8"
             },
             "line": {
              "color": "white"
             }
            },
            "header": {
             "fill": {
              "color": "#C8D4E3"
             },
             "line": {
              "color": "white"
             }
            },
            "type": "table"
           }
          ]
         },
         "layout": {
          "annotationdefaults": {
           "arrowcolor": "#2a3f5f",
           "arrowhead": 0,
           "arrowwidth": 1
          },
          "autotypenumbers": "strict",
          "coloraxis": {
           "colorbar": {
            "outlinewidth": 0,
            "ticks": ""
           }
          },
          "colorscale": {
           "diverging": [
            [
             0,
             "#8e0152"
            ],
            [
             0.1,
             "#c51b7d"
            ],
            [
             0.2,
             "#de77ae"
            ],
            [
             0.3,
             "#f1b6da"
            ],
            [
             0.4,
             "#fde0ef"
            ],
            [
             0.5,
             "#f7f7f7"
            ],
            [
             0.6,
             "#e6f5d0"
            ],
            [
             0.7,
             "#b8e186"
            ],
            [
             0.8,
             "#7fbc41"
            ],
            [
             0.9,
             "#4d9221"
            ],
            [
             1,
             "#276419"
            ]
           ],
           "sequential": [
            [
             0,
             "#0d0887"
            ],
            [
             0.1111111111111111,
             "#46039f"
            ],
            [
             0.2222222222222222,
             "#7201a8"
            ],
            [
             0.3333333333333333,
             "#9c179e"
            ],
            [
             0.4444444444444444,
             "#bd3786"
            ],
            [
             0.5555555555555556,
             "#d8576b"
            ],
            [
             0.6666666666666666,
             "#ed7953"
            ],
            [
             0.7777777777777778,
             "#fb9f3a"
            ],
            [
             0.8888888888888888,
             "#fdca26"
            ],
            [
             1,
             "#f0f921"
            ]
           ],
           "sequentialminus": [
            [
             0,
             "#0d0887"
            ],
            [
             0.1111111111111111,
             "#46039f"
            ],
            [
             0.2222222222222222,
             "#7201a8"
            ],
            [
             0.3333333333333333,
             "#9c179e"
            ],
            [
             0.4444444444444444,
             "#bd3786"
            ],
            [
             0.5555555555555556,
             "#d8576b"
            ],
            [
             0.6666666666666666,
             "#ed7953"
            ],
            [
             0.7777777777777778,
             "#fb9f3a"
            ],
            [
             0.8888888888888888,
             "#fdca26"
            ],
            [
             1,
             "#f0f921"
            ]
           ]
          },
          "colorway": [
           "#636efa",
           "#EF553B",
           "#00cc96",
           "#ab63fa",
           "#FFA15A",
           "#19d3f3",
           "#FF6692",
           "#B6E880",
           "#FF97FF",
           "#FECB52"
          ],
          "font": {
           "color": "#2a3f5f"
          },
          "geo": {
           "bgcolor": "white",
           "lakecolor": "white",
           "landcolor": "#E5ECF6",
           "showlakes": true,
           "showland": true,
           "subunitcolor": "white"
          },
          "hoverlabel": {
           "align": "left"
          },
          "hovermode": "closest",
          "mapbox": {
           "style": "light"
          },
          "paper_bgcolor": "white",
          "plot_bgcolor": "#E5ECF6",
          "polar": {
           "angularaxis": {
            "gridcolor": "white",
            "linecolor": "white",
            "ticks": ""
           },
           "bgcolor": "#E5ECF6",
           "radialaxis": {
            "gridcolor": "white",
            "linecolor": "white",
            "ticks": ""
           }
          },
          "scene": {
           "xaxis": {
            "backgroundcolor": "#E5ECF6",
            "gridcolor": "white",
            "gridwidth": 2,
            "linecolor": "white",
            "showbackground": true,
            "ticks": "",
            "zerolinecolor": "white"
           },
           "yaxis": {
            "backgroundcolor": "#E5ECF6",
            "gridcolor": "white",
            "gridwidth": 2,
            "linecolor": "white",
            "showbackground": true,
            "ticks": "",
            "zerolinecolor": "white"
           },
           "zaxis": {
            "backgroundcolor": "#E5ECF6",
            "gridcolor": "white",
            "gridwidth": 2,
            "linecolor": "white",
            "showbackground": true,
            "ticks": "",
            "zerolinecolor": "white"
           }
          },
          "shapedefaults": {
           "line": {
            "color": "#2a3f5f"
           }
          },
          "ternary": {
           "aaxis": {
            "gridcolor": "white",
            "linecolor": "white",
            "ticks": ""
           },
           "baxis": {
            "gridcolor": "white",
            "linecolor": "white",
            "ticks": ""
           },
           "bgcolor": "#E5ECF6",
           "caxis": {
            "gridcolor": "white",
            "linecolor": "white",
            "ticks": ""
           }
          },
          "title": {
           "x": 0.05
          },
          "xaxis": {
           "automargin": true,
           "gridcolor": "white",
           "linecolor": "white",
           "ticks": "",
           "title": {
            "standoff": 15
           },
           "zerolinecolor": "white",
           "zerolinewidth": 2
          },
          "yaxis": {
           "automargin": true,
           "gridcolor": "white",
           "linecolor": "white",
           "ticks": "",
           "title": {
            "standoff": 15
           },
           "zerolinecolor": "white",
           "zerolinewidth": 2
          }
         }
        },
        "title": {
         "text": "Optimization History Plot"
        },
        "xaxis": {
         "title": {
          "text": "Trial"
         }
        },
        "yaxis": {
         "title": {
          "text": "Objective Value"
         }
        }
       }
      }
     },
     "metadata": {},
     "output_type": "display_data"
    }
   ],
   "source": [
    "fig = optuna.visualization.plot_optimization_history(study)\n",
    "graph_path = Path(f\"../figures/{params.MODEL_TYPE}/{params.MODEL_NAME}/\")\n",
    "if not os.path.exists(graph_path):\n",
    "    os.makedirs(graph_path)\n",
    "graph_path = f\"../figures/{params.MODEL_TYPE}/{params.MODEL_NAME}/plot_optimization_history_graph\"\n",
    "fig.write_image(Path(f\"{graph_path}.png\"))\n",
    "fig.show()"
   ]
  },
  {
   "cell_type": "code",
   "execution_count": 16,
   "id": "92103de1",
   "metadata": {},
   "outputs": [
    {
     "data": {
      "application/vnd.plotly.v1+json": {
       "config": {
        "plotlyServerURL": "https://plot.ly"
       },
       "data": [
        {
         "marker": {
          "maxdisplayed": 10
         },
         "mode": "lines+markers",
         "name": "Trial0",
         "type": "scatter",
         "x": [
          0,
          1,
          2,
          3,
          4,
          5,
          6,
          7,
          8,
          9,
          10,
          11,
          12,
          13,
          14,
          15,
          16,
          17,
          18,
          19,
          20,
          21,
          22,
          23,
          24,
          25,
          26,
          27,
          28,
          29,
          30,
          31,
          32,
          33,
          34,
          35,
          36,
          37,
          38,
          39,
          40,
          41,
          42,
          43,
          44,
          45,
          46,
          47,
          48,
          49
         ],
         "y": [
          0.8227629959583282,
          0.7427678902943928,
          0.7272325489256116,
          0.7497686470548311,
          0.7395628889401753,
          0.721773702237341,
          0.7036174152578626,
          0.6898816985388596,
          0.6791610386636521,
          0.6932161450386046,
          0.6964396193171992,
          0.6976934928033086,
          0.7078908636019781,
          0.708289914187931,
          0.704696359899309,
          0.6996013907094796,
          0.6939875173802469,
          0.689037937257025,
          0.6835247748776486,
          0.678602675596873,
          0.6762159982370952,
          0.6711771257899025,
          0.6667570411295131,
          0.6638767412967153,
          0.6613910579681397,
          0.6578845186875417,
          0.6537621370804162,
          0.667683960781211,
          0.6778924907075947,
          0.6874298880497615,
          0.696350751384612,
          0.7047149560724695,
          0.7125728356115745,
          0.7199690558162388,
          0.7269431579680669,
          0.73353031443225,
          0.7397618760933746,
          0.745665899494238,
          0.7512675735176119,
          0.756589553753535,
          0.7616522794331961,
          0.766474266373922,
          0.7710723010606546,
          0.7754616285815384,
          0.7796561631891464,
          0.7836685858774878,
          0.7875105182752544,
          0.7911926048497359,
          0.7947246176855904,
          0.7981155596176783
         ]
        },
        {
         "marker": {
          "maxdisplayed": 10
         },
         "mode": "lines+markers",
         "name": "Trial1",
         "type": "scatter",
         "x": [
          0,
          1,
          2,
          3,
          4,
          5,
          6,
          7,
          8,
          9,
          10,
          11,
          12,
          13,
          14,
          15,
          16,
          17,
          18,
          19,
          20,
          21,
          22,
          23,
          24,
          25,
          26,
          27,
          28,
          29,
          30,
          31,
          32,
          33,
          34,
          35,
          36,
          37,
          38,
          39,
          40,
          41,
          42,
          43,
          44,
          45,
          46,
          47,
          48,
          49
         ],
         "y": [
          0.838597983121872,
          0.6504088391860327,
          0.6433858308527205,
          0.6024947737654051,
          0.587890781958898,
          0.5589647566278776,
          0.5183813178113529,
          0.5417170341437062,
          0.550844730326423,
          0.5372974765797457,
          0.5154130063725241,
          0.5190502009871933,
          0.499891717846577,
          0.4944772340712093,
          0.4811628914541668,
          0.48424661469956237,
          0.47897855616083324,
          0.466968579976647,
          0.4551055823501788,
          0.4445815286288659,
          0.46294536205038195,
          0.45481786244746414,
          0.4916221924882005,
          0.4822521263526545,
          0.4891533716519673,
          0.4826407974156049,
          0.4878748853081538,
          0.4792583756858394,
          0.47805728994566815,
          0.47162735818160895,
          0.46564305421485686,
          0.46222892062117654,
          0.4573450193862722,
          0.48409234630126574,
          0.479922073653766,
          0.48007136334975553,
          0.5319947962825362,
          0.5267538089762653,
          0.5208167349680876,
          0.5161183066666126,
          0.5101371019836364,
          0.5095279391795869,
          0.5055086460224417,
          0.5024468220318808,
          0.4990420619646708,
          0.4958906775151474,
          0.49156116276768086,
          0.4881926814301146,
          0.4837628013524068,
          0.4797029867768287
         ]
        },
        {
         "marker": {
          "maxdisplayed": 10
         },
         "mode": "lines+markers",
         "name": "Trial2",
         "type": "scatter",
         "x": [
          0,
          1,
          2,
          3,
          4,
          5,
          6,
          7,
          8,
          9,
          10,
          11,
          12,
          13,
          14,
          15,
          16,
          17,
          18,
          19,
          20,
          21,
          22,
          23,
          24,
          25,
          26,
          27,
          28,
          29,
          30,
          31,
          32,
          33,
          34,
          35,
          36,
          37,
          38,
          39,
          40,
          41,
          42,
          43,
          44,
          45,
          46,
          47,
          48,
          49
         ],
         "y": [
          0.6825983027617136,
          0.5808307925860087,
          0.5199623372819688,
          0.48148691902558005,
          0.46017386615276334,
          0.4465011805295944,
          0.43615960649081637,
          0.42309505057831603,
          0.4123151313375544,
          0.4032904401421547,
          0.39838003615538276,
          0.3919365993804402,
          0.3852609311923002,
          0.3790402710437774,
          0.3741298652357525,
          0.373737002722919,
          0.38257405892306684,
          0.37983561583139275,
          0.3760489512953842,
          0.3721194629867871,
          0.36822768501819125,
          0.3649787929925052,
          0.3617013550322989,
          0.35840160234106905,
          0.35521628916263576,
          0.35225787032873196,
          0.3498668402065465,
          0.34746360672371723,
          0.3452036144404575,
          0.346648192902406,
          0.3445458641295791,
          0.3421543544779221,
          0.35109934602120907,
          0.35216933693371566,
          0.3516202431349527,
          0.3506438732147217,
          0.3496729982597334,
          0.350079867662045,
          0.34860766061350834,
          0.3582521294554074,
          0.3570000313646425,
          0.3555354383729753,
          0.3540850326765415,
          0.3524329707478032,
          0.350908392391823,
          0.34931084141135216,
          0.34752240893265884,
          0.3467614351668291,
          0.36987370972325195,
          0.3814269013206164
         ]
        },
        {
         "marker": {
          "maxdisplayed": 10
         },
         "mode": "lines+markers",
         "name": "Trial3",
         "type": "scatter",
         "x": [
          0,
          1,
          2,
          3,
          4,
          5,
          6,
          7,
          8,
          9,
          10,
          11,
          12,
          13,
          14,
          15,
          16,
          17,
          18,
          19,
          20,
          21,
          22,
          23,
          24,
          25,
          26,
          27,
          28,
          29,
          30,
          31,
          32,
          33,
          34,
          35,
          36,
          37,
          38,
          39,
          40,
          41,
          42,
          43,
          44,
          45,
          46,
          47,
          48,
          49
         ],
         "y": [
          0.7443756063779196,
          0.7314458588759105,
          0.7213392025894589,
          0.7150129154324532,
          0.7083932240804036,
          0.7018438296185598,
          0.6961727014609744,
          0.6906072869896889,
          0.6874932359766077,
          0.685794883966446,
          0.6850916409131252,
          0.6848460262020429,
          0.6832831356769954,
          0.6813887598968689,
          0.6799475418196785,
          0.6793170273303986,
          0.6777177879623338,
          0.6773990133294352,
          0.6772688491302624,
          0.6764432191848755,
          0.6763690407313998,
          0.6752992073694866,
          0.6746954313222914,
          0.6739441735876932,
          0.6733673310279847,
          0.6726319843377824,
          0.6717121387705391,
          0.6709870401592483,
          0.671034201465804,
          0.6706280400355656,
          0.6702741797893278,
          0.6698688796410959,
          0.6704951374217718,
          0.6701121137422674,
          0.6693942092713855,
          0.669281744018749,
          0.668977989001317,
          0.668493838686692,
          0.6678328496268671,
          0.6671290616194409,
          0.667018800731597,
          0.6667190388081566,
          0.6663464310095293,
          0.6659613583575597,
          0.6656498078946714,
          0.6657268372566805,
          0.6652948241284554,
          0.664763481873605,
          0.6645761586370923,
          0.6641202425956726
         ]
        },
        {
         "marker": {
          "maxdisplayed": 10
         },
         "mode": "lines+markers",
         "name": "Trial4",
         "type": "scatter",
         "x": [
          0,
          1,
          2,
          3,
          4,
          5,
          6,
          7,
          8,
          9,
          10,
          11,
          12,
          13,
          14,
          15,
          16,
          17,
          18,
          19,
          20,
          21,
          22,
          23,
          24,
          25,
          26,
          27,
          28,
          29,
          30,
          31,
          32,
          33,
          34,
          35,
          36,
          37,
          38,
          39,
          40,
          41,
          42,
          43,
          44,
          45,
          46,
          47,
          48,
          49
         ],
         "y": [
          0.5645732283592224,
          0.5013711253801981,
          0.4699627508719762,
          0.45285142461458844,
          0.4371974875529608,
          0.4270991136630377,
          0.42477222070807513,
          0.41717271879315376,
          0.4093646064952568,
          0.40156725645065305,
          0.396329734361533,
          0.39405306552847225,
          0.39006106364421356,
          0.38676860431830085,
          0.3828721102741029,
          0.38138543410847586,
          0.37872074398339967,
          0.3760850829658685,
          0.37430841697935474,
          0.37583074420690543,
          0.37380745226428624,
          0.3719716060793761,
          0.3708872939797416,
          0.36970770131382674,
          0.3686935834089915,
          0.36695614189673686,
          0.36556620583122157,
          0.36449927322211717,
          0.36366842926918774,
          0.3620688070853551,
          0.36163459413795057,
          0.3601862215436995,
          0.35980491505728823,
          0.35931455358570696,
          0.35837119037196746,
          0.3571939849191242,
          0.3564838129389393,
          0.35812908411026,
          0.3591255629673982,
          0.3594072714447975,
          0.3594694320506197,
          0.359394774313957,
          0.3602685939896014,
          0.3605565324877248,
          0.3608847132435552,
          0.3606902767998585,
          0.36015802833205424,
          0.3598359962925315,
          0.36040662614261215,
          0.36018930524587633
         ]
        },
        {
         "marker": {
          "maxdisplayed": 10
         },
         "mode": "lines+markers",
         "name": "Trial5",
         "type": "scatter",
         "x": [
          0
         ],
         "y": [
          0.781915952761968
         ]
        },
        {
         "marker": {
          "maxdisplayed": 10
         },
         "mode": "lines+markers",
         "name": "Trial6",
         "type": "scatter",
         "x": [
          0
         ],
         "y": [
          0.7970283031463623
         ]
        },
        {
         "marker": {
          "maxdisplayed": 10
         },
         "mode": "lines+markers",
         "name": "Trial7",
         "type": "scatter",
         "x": [
          0
         ],
         "y": [
          0.9689390261967977
         ]
        },
        {
         "marker": {
          "maxdisplayed": 10
         },
         "mode": "lines+markers",
         "name": "Trial8",
         "type": "scatter",
         "x": [
          0
         ],
         "y": [
          0.780456672112147
         ]
        },
        {
         "marker": {
          "maxdisplayed": 10
         },
         "mode": "lines+markers",
         "name": "Trial9",
         "type": "scatter",
         "x": [
          0
         ],
         "y": [
          0.9348231554031372
         ]
        }
       ],
       "layout": {
        "showlegend": false,
        "template": {
         "data": {
          "bar": [
           {
            "error_x": {
             "color": "#2a3f5f"
            },
            "error_y": {
             "color": "#2a3f5f"
            },
            "marker": {
             "line": {
              "color": "#E5ECF6",
              "width": 0.5
             },
             "pattern": {
              "fillmode": "overlay",
              "size": 10,
              "solidity": 0.2
             }
            },
            "type": "bar"
           }
          ],
          "barpolar": [
           {
            "marker": {
             "line": {
              "color": "#E5ECF6",
              "width": 0.5
             },
             "pattern": {
              "fillmode": "overlay",
              "size": 10,
              "solidity": 0.2
             }
            },
            "type": "barpolar"
           }
          ],
          "carpet": [
           {
            "aaxis": {
             "endlinecolor": "#2a3f5f",
             "gridcolor": "white",
             "linecolor": "white",
             "minorgridcolor": "white",
             "startlinecolor": "#2a3f5f"
            },
            "baxis": {
             "endlinecolor": "#2a3f5f",
             "gridcolor": "white",
             "linecolor": "white",
             "minorgridcolor": "white",
             "startlinecolor": "#2a3f5f"
            },
            "type": "carpet"
           }
          ],
          "choropleth": [
           {
            "colorbar": {
             "outlinewidth": 0,
             "ticks": ""
            },
            "type": "choropleth"
           }
          ],
          "contour": [
           {
            "colorbar": {
             "outlinewidth": 0,
             "ticks": ""
            },
            "colorscale": [
             [
              0,
              "#0d0887"
             ],
             [
              0.1111111111111111,
              "#46039f"
             ],
             [
              0.2222222222222222,
              "#7201a8"
             ],
             [
              0.3333333333333333,
              "#9c179e"
             ],
             [
              0.4444444444444444,
              "#bd3786"
             ],
             [
              0.5555555555555556,
              "#d8576b"
             ],
             [
              0.6666666666666666,
              "#ed7953"
             ],
             [
              0.7777777777777778,
              "#fb9f3a"
             ],
             [
              0.8888888888888888,
              "#fdca26"
             ],
             [
              1,
              "#f0f921"
             ]
            ],
            "type": "contour"
           }
          ],
          "contourcarpet": [
           {
            "colorbar": {
             "outlinewidth": 0,
             "ticks": ""
            },
            "type": "contourcarpet"
           }
          ],
          "heatmap": [
           {
            "colorbar": {
             "outlinewidth": 0,
             "ticks": ""
            },
            "colorscale": [
             [
              0,
              "#0d0887"
             ],
             [
              0.1111111111111111,
              "#46039f"
             ],
             [
              0.2222222222222222,
              "#7201a8"
             ],
             [
              0.3333333333333333,
              "#9c179e"
             ],
             [
              0.4444444444444444,
              "#bd3786"
             ],
             [
              0.5555555555555556,
              "#d8576b"
             ],
             [
              0.6666666666666666,
              "#ed7953"
             ],
             [
              0.7777777777777778,
              "#fb9f3a"
             ],
             [
              0.8888888888888888,
              "#fdca26"
             ],
             [
              1,
              "#f0f921"
             ]
            ],
            "type": "heatmap"
           }
          ],
          "heatmapgl": [
           {
            "colorbar": {
             "outlinewidth": 0,
             "ticks": ""
            },
            "colorscale": [
             [
              0,
              "#0d0887"
             ],
             [
              0.1111111111111111,
              "#46039f"
             ],
             [
              0.2222222222222222,
              "#7201a8"
             ],
             [
              0.3333333333333333,
              "#9c179e"
             ],
             [
              0.4444444444444444,
              "#bd3786"
             ],
             [
              0.5555555555555556,
              "#d8576b"
             ],
             [
              0.6666666666666666,
              "#ed7953"
             ],
             [
              0.7777777777777778,
              "#fb9f3a"
             ],
             [
              0.8888888888888888,
              "#fdca26"
             ],
             [
              1,
              "#f0f921"
             ]
            ],
            "type": "heatmapgl"
           }
          ],
          "histogram": [
           {
            "marker": {
             "pattern": {
              "fillmode": "overlay",
              "size": 10,
              "solidity": 0.2
             }
            },
            "type": "histogram"
           }
          ],
          "histogram2d": [
           {
            "colorbar": {
             "outlinewidth": 0,
             "ticks": ""
            },
            "colorscale": [
             [
              0,
              "#0d0887"
             ],
             [
              0.1111111111111111,
              "#46039f"
             ],
             [
              0.2222222222222222,
              "#7201a8"
             ],
             [
              0.3333333333333333,
              "#9c179e"
             ],
             [
              0.4444444444444444,
              "#bd3786"
             ],
             [
              0.5555555555555556,
              "#d8576b"
             ],
             [
              0.6666666666666666,
              "#ed7953"
             ],
             [
              0.7777777777777778,
              "#fb9f3a"
             ],
             [
              0.8888888888888888,
              "#fdca26"
             ],
             [
              1,
              "#f0f921"
             ]
            ],
            "type": "histogram2d"
           }
          ],
          "histogram2dcontour": [
           {
            "colorbar": {
             "outlinewidth": 0,
             "ticks": ""
            },
            "colorscale": [
             [
              0,
              "#0d0887"
             ],
             [
              0.1111111111111111,
              "#46039f"
             ],
             [
              0.2222222222222222,
              "#7201a8"
             ],
             [
              0.3333333333333333,
              "#9c179e"
             ],
             [
              0.4444444444444444,
              "#bd3786"
             ],
             [
              0.5555555555555556,
              "#d8576b"
             ],
             [
              0.6666666666666666,
              "#ed7953"
             ],
             [
              0.7777777777777778,
              "#fb9f3a"
             ],
             [
              0.8888888888888888,
              "#fdca26"
             ],
             [
              1,
              "#f0f921"
             ]
            ],
            "type": "histogram2dcontour"
           }
          ],
          "mesh3d": [
           {
            "colorbar": {
             "outlinewidth": 0,
             "ticks": ""
            },
            "type": "mesh3d"
           }
          ],
          "parcoords": [
           {
            "line": {
             "colorbar": {
              "outlinewidth": 0,
              "ticks": ""
             }
            },
            "type": "parcoords"
           }
          ],
          "pie": [
           {
            "automargin": true,
            "type": "pie"
           }
          ],
          "scatter": [
           {
            "fillpattern": {
             "fillmode": "overlay",
             "size": 10,
             "solidity": 0.2
            },
            "type": "scatter"
           }
          ],
          "scatter3d": [
           {
            "line": {
             "colorbar": {
              "outlinewidth": 0,
              "ticks": ""
             }
            },
            "marker": {
             "colorbar": {
              "outlinewidth": 0,
              "ticks": ""
             }
            },
            "type": "scatter3d"
           }
          ],
          "scattercarpet": [
           {
            "marker": {
             "colorbar": {
              "outlinewidth": 0,
              "ticks": ""
             }
            },
            "type": "scattercarpet"
           }
          ],
          "scattergeo": [
           {
            "marker": {
             "colorbar": {
              "outlinewidth": 0,
              "ticks": ""
             }
            },
            "type": "scattergeo"
           }
          ],
          "scattergl": [
           {
            "marker": {
             "colorbar": {
              "outlinewidth": 0,
              "ticks": ""
             }
            },
            "type": "scattergl"
           }
          ],
          "scattermapbox": [
           {
            "marker": {
             "colorbar": {
              "outlinewidth": 0,
              "ticks": ""
             }
            },
            "type": "scattermapbox"
           }
          ],
          "scatterpolar": [
           {
            "marker": {
             "colorbar": {
              "outlinewidth": 0,
              "ticks": ""
             }
            },
            "type": "scatterpolar"
           }
          ],
          "scatterpolargl": [
           {
            "marker": {
             "colorbar": {
              "outlinewidth": 0,
              "ticks": ""
             }
            },
            "type": "scatterpolargl"
           }
          ],
          "scatterternary": [
           {
            "marker": {
             "colorbar": {
              "outlinewidth": 0,
              "ticks": ""
             }
            },
            "type": "scatterternary"
           }
          ],
          "surface": [
           {
            "colorbar": {
             "outlinewidth": 0,
             "ticks": ""
            },
            "colorscale": [
             [
              0,
              "#0d0887"
             ],
             [
              0.1111111111111111,
              "#46039f"
             ],
             [
              0.2222222222222222,
              "#7201a8"
             ],
             [
              0.3333333333333333,
              "#9c179e"
             ],
             [
              0.4444444444444444,
              "#bd3786"
             ],
             [
              0.5555555555555556,
              "#d8576b"
             ],
             [
              0.6666666666666666,
              "#ed7953"
             ],
             [
              0.7777777777777778,
              "#fb9f3a"
             ],
             [
              0.8888888888888888,
              "#fdca26"
             ],
             [
              1,
              "#f0f921"
             ]
            ],
            "type": "surface"
           }
          ],
          "table": [
           {
            "cells": {
             "fill": {
              "color": "#EBF0F8"
             },
             "line": {
              "color": "white"
             }
            },
            "header": {
             "fill": {
              "color": "#C8D4E3"
             },
             "line": {
              "color": "white"
             }
            },
            "type": "table"
           }
          ]
         },
         "layout": {
          "annotationdefaults": {
           "arrowcolor": "#2a3f5f",
           "arrowhead": 0,
           "arrowwidth": 1
          },
          "autotypenumbers": "strict",
          "coloraxis": {
           "colorbar": {
            "outlinewidth": 0,
            "ticks": ""
           }
          },
          "colorscale": {
           "diverging": [
            [
             0,
             "#8e0152"
            ],
            [
             0.1,
             "#c51b7d"
            ],
            [
             0.2,
             "#de77ae"
            ],
            [
             0.3,
             "#f1b6da"
            ],
            [
             0.4,
             "#fde0ef"
            ],
            [
             0.5,
             "#f7f7f7"
            ],
            [
             0.6,
             "#e6f5d0"
            ],
            [
             0.7,
             "#b8e186"
            ],
            [
             0.8,
             "#7fbc41"
            ],
            [
             0.9,
             "#4d9221"
            ],
            [
             1,
             "#276419"
            ]
           ],
           "sequential": [
            [
             0,
             "#0d0887"
            ],
            [
             0.1111111111111111,
             "#46039f"
            ],
            [
             0.2222222222222222,
             "#7201a8"
            ],
            [
             0.3333333333333333,
             "#9c179e"
            ],
            [
             0.4444444444444444,
             "#bd3786"
            ],
            [
             0.5555555555555556,
             "#d8576b"
            ],
            [
             0.6666666666666666,
             "#ed7953"
            ],
            [
             0.7777777777777778,
             "#fb9f3a"
            ],
            [
             0.8888888888888888,
             "#fdca26"
            ],
            [
             1,
             "#f0f921"
            ]
           ],
           "sequentialminus": [
            [
             0,
             "#0d0887"
            ],
            [
             0.1111111111111111,
             "#46039f"
            ],
            [
             0.2222222222222222,
             "#7201a8"
            ],
            [
             0.3333333333333333,
             "#9c179e"
            ],
            [
             0.4444444444444444,
             "#bd3786"
            ],
            [
             0.5555555555555556,
             "#d8576b"
            ],
            [
             0.6666666666666666,
             "#ed7953"
            ],
            [
             0.7777777777777778,
             "#fb9f3a"
            ],
            [
             0.8888888888888888,
             "#fdca26"
            ],
            [
             1,
             "#f0f921"
            ]
           ]
          },
          "colorway": [
           "#636efa",
           "#EF553B",
           "#00cc96",
           "#ab63fa",
           "#FFA15A",
           "#19d3f3",
           "#FF6692",
           "#B6E880",
           "#FF97FF",
           "#FECB52"
          ],
          "font": {
           "color": "#2a3f5f"
          },
          "geo": {
           "bgcolor": "white",
           "lakecolor": "white",
           "landcolor": "#E5ECF6",
           "showlakes": true,
           "showland": true,
           "subunitcolor": "white"
          },
          "hoverlabel": {
           "align": "left"
          },
          "hovermode": "closest",
          "mapbox": {
           "style": "light"
          },
          "paper_bgcolor": "white",
          "plot_bgcolor": "#E5ECF6",
          "polar": {
           "angularaxis": {
            "gridcolor": "white",
            "linecolor": "white",
            "ticks": ""
           },
           "bgcolor": "#E5ECF6",
           "radialaxis": {
            "gridcolor": "white",
            "linecolor": "white",
            "ticks": ""
           }
          },
          "scene": {
           "xaxis": {
            "backgroundcolor": "#E5ECF6",
            "gridcolor": "white",
            "gridwidth": 2,
            "linecolor": "white",
            "showbackground": true,
            "ticks": "",
            "zerolinecolor": "white"
           },
           "yaxis": {
            "backgroundcolor": "#E5ECF6",
            "gridcolor": "white",
            "gridwidth": 2,
            "linecolor": "white",
            "showbackground": true,
            "ticks": "",
            "zerolinecolor": "white"
           },
           "zaxis": {
            "backgroundcolor": "#E5ECF6",
            "gridcolor": "white",
            "gridwidth": 2,
            "linecolor": "white",
            "showbackground": true,
            "ticks": "",
            "zerolinecolor": "white"
           }
          },
          "shapedefaults": {
           "line": {
            "color": "#2a3f5f"
           }
          },
          "ternary": {
           "aaxis": {
            "gridcolor": "white",
            "linecolor": "white",
            "ticks": ""
           },
           "baxis": {
            "gridcolor": "white",
            "linecolor": "white",
            "ticks": ""
           },
           "bgcolor": "#E5ECF6",
           "caxis": {
            "gridcolor": "white",
            "linecolor": "white",
            "ticks": ""
           }
          },
          "title": {
           "x": 0.05
          },
          "xaxis": {
           "automargin": true,
           "gridcolor": "white",
           "linecolor": "white",
           "ticks": "",
           "title": {
            "standoff": 15
           },
           "zerolinecolor": "white",
           "zerolinewidth": 2
          },
          "yaxis": {
           "automargin": true,
           "gridcolor": "white",
           "linecolor": "white",
           "ticks": "",
           "title": {
            "standoff": 15
           },
           "zerolinecolor": "white",
           "zerolinewidth": 2
          }
         }
        },
        "title": {
         "text": "Intermediate Values Plot"
        },
        "xaxis": {
         "title": {
          "text": "Step"
         }
        },
        "yaxis": {
         "title": {
          "text": "Intermediate Value"
         }
        }
       }
      }
     },
     "metadata": {},
     "output_type": "display_data"
    }
   ],
   "source": [
    "fig = optuna.visualization.plot_intermediate_values(study)\n",
    "graph_path = Path(f\"../figures/{params.MODEL_TYPE}/{params.MODEL_NAME}/\")\n",
    "if not os.path.exists(graph_path):\n",
    "    os.makedirs(graph_path)\n",
    "graph_path = (\n",
    "    f\"../figures/{params.MODEL_TYPE}/{params.MODEL_NAME}/plot_intermediate_values_graph\"\n",
    ")\n",
    "fig.write_image(Path(f\"{graph_path}.png\"))\n",
    "fig.show()"
   ]
  },
  {
   "cell_type": "code",
   "execution_count": 17,
   "id": "325a1ec3",
   "metadata": {},
   "outputs": [],
   "source": [
    "param_dict = extract_best_trial_params(\n",
    "    study.best_params, params, model_name=params.MODEL_NAME\n",
    ")"
   ]
  },
  {
   "cell_type": "code",
   "execution_count": 18,
   "id": "50e946e7",
   "metadata": {},
   "outputs": [
    {
     "name": "stdout",
     "output_type": "stream",
     "text": [
      "Adam\n",
      "Epoch 0: Validation loss decreased (inf --> 0.633003).  Saving model ...\n",
      "\t Train_Loss: 0.8494 Train_Acc: 56.371 Val_Loss: 0.6330  BEST VAL Loss: 0.6330  Val_Acc: 70.023\n",
      "\n",
      "Epoch 1: Validation loss decreased (0.633003 --> 0.558070).  Saving model ...\n",
      "\t Train_Loss: 0.7625 Train_Acc: 69.689 Val_Loss: 0.5581  BEST VAL Loss: 0.5581  Val_Acc: 83.498\n",
      "\n",
      "Epoch 2: Validation loss decreased (0.558070 --> 0.527505).  Saving model ...\n",
      "\t Train_Loss: 0.7102 Train_Acc: 74.444 Val_Loss: 0.5275  BEST VAL Loss: 0.5275  Val_Acc: 83.041\n",
      "\n",
      "Epoch 3: Validation loss decreased (0.527505 --> 0.503326).  Saving model ...\n",
      "\t Train_Loss: 0.6743 Train_Acc: 76.145 Val_Loss: 0.5033  BEST VAL Loss: 0.5033  Val_Acc: 85.668\n",
      "\n",
      "Epoch 4: Validation loss decreased (0.503326 --> 0.485104).  Saving model ...\n",
      "\t Train_Loss: 0.6500 Train_Acc: 77.747 Val_Loss: 0.4851  BEST VAL Loss: 0.4851  Val_Acc: 86.886\n",
      "\n",
      "Epoch 5: Validation loss decreased (0.485104 --> 0.475500).  Saving model ...\n",
      "\t Train_Loss: 0.6334 Train_Acc: 78.123 Val_Loss: 0.4755  BEST VAL Loss: 0.4755  Val_Acc: 86.030\n",
      "\n",
      "Epoch 6: Validation loss did not decrease\n",
      "\t Train_Loss: 0.6302 Train_Acc: 73.842 Val_Loss: 0.4789  BEST VAL Loss: 0.4755  Val_Acc: 79.330\n",
      "\n",
      "Epoch 7: Validation loss did not decrease\n",
      "\t Train_Loss: 0.6269 Train_Acc: 73.442 Val_Loss: 0.4954  BEST VAL Loss: 0.4755  Val_Acc: 72.821\n",
      "\n",
      "Epoch 8: Validation loss did not decrease\n",
      "\t Train_Loss: 0.6269 Train_Acc: 71.648 Val_Loss: 0.4947  BEST VAL Loss: 0.4755  Val_Acc: 81.176\n",
      "\n",
      "Epoch 9: Validation loss did not decrease\n",
      "\t Train_Loss: 0.6227 Train_Acc: 74.970 Val_Loss: 0.4986  BEST VAL Loss: 0.4755  Val_Acc: 72.764\n",
      "\n",
      "Epoch 10: Validation loss did not decrease\n",
      "\t Train_Loss: 0.6219 Train_Acc: 72.968 Val_Loss: 0.4924  BEST VAL Loss: 0.4755  Val_Acc: 85.497\n",
      "\n",
      "Epoch 11: Validation loss did not decrease\n",
      "\t Train_Loss: 0.6184 Train_Acc: 75.212 Val_Loss: 0.4922  BEST VAL Loss: 0.4755  Val_Acc: 77.826\n",
      "\n",
      "Epoch 12: Validation loss did not decrease\n",
      "\t Train_Loss: 0.6162 Train_Acc: 74.368 Val_Loss: 0.4872  BEST VAL Loss: 0.4755  Val_Acc: 86.201\n",
      "\n",
      "Epoch 13: Validation loss did not decrease\n",
      "\t Train_Loss: 0.6129 Train_Acc: 75.603 Val_Loss: 0.4840  BEST VAL Loss: 0.4755  Val_Acc: 83.574\n",
      "\n",
      "Epoch 14: Validation loss did not decrease\n",
      "\t Train_Loss: 0.6092 Train_Acc: 75.931 Val_Loss: 0.4796  BEST VAL Loss: 0.4755  Val_Acc: 87.514\n",
      "\n",
      "Epoch 15: Validation loss did not decrease\n",
      "\t Train_Loss: 0.6055 Train_Acc: 76.286 Val_Loss: 0.4762  BEST VAL Loss: 0.4755  Val_Acc: 86.011\n",
      "\n",
      "Epoch 16: Validation loss decreased (0.475500 --> 0.472027).  Saving model ...\n",
      "\t Train_Loss: 0.6027 Train_Acc: 76.616 Val_Loss: 0.4720  BEST VAL Loss: 0.4720  Val_Acc: 87.590\n",
      "\n",
      "Epoch 17: Validation loss did not decrease\n",
      "\t Train_Loss: 0.5995 Train_Acc: 76.790 Val_Loss: 0.4724  BEST VAL Loss: 0.4720  Val_Acc: 81.671\n",
      "\n",
      "Epoch 18: Validation loss decreased (0.472027 --> 0.470915).  Saving model ...\n",
      "\t Train_Loss: 0.5991 Train_Acc: 75.070 Val_Loss: 0.4709  BEST VAL Loss: 0.4709  Val_Acc: 85.801\n",
      "\n",
      "Epoch 19: Validation loss decreased (0.470915 --> 0.469046).  Saving model ...\n",
      "\t Train_Loss: 0.5969 Train_Acc: 76.245 Val_Loss: 0.4690  BEST VAL Loss: 0.4690  Val_Acc: 85.992\n",
      "\n",
      "Epoch 20: Validation loss decreased (0.469046 --> 0.466861).  Saving model ...\n",
      "\t Train_Loss: 0.5953 Train_Acc: 76.114 Val_Loss: 0.4669  BEST VAL Loss: 0.4669  Val_Acc: 86.372\n",
      "\n",
      "Epoch 21: Validation loss decreased (0.466861 --> 0.465402).  Saving model ...\n",
      "\t Train_Loss: 0.5939 Train_Acc: 76.048 Val_Loss: 0.4654  BEST VAL Loss: 0.4654  Val_Acc: 87.286\n",
      "\n",
      "Epoch 22: Validation loss decreased (0.465402 --> 0.463592).  Saving model ...\n",
      "\t Train_Loss: 0.5925 Train_Acc: 76.155 Val_Loss: 0.4636  BEST VAL Loss: 0.4636  Val_Acc: 87.686\n",
      "\n",
      "Epoch 23: Validation loss did not decrease\n",
      "\t Train_Loss: 0.5906 Train_Acc: 76.497 Val_Loss: 0.4638  BEST VAL Loss: 0.4636  Val_Acc: 85.002\n",
      "\n",
      "Epoch 24: Validation loss decreased (0.463592 --> 0.463152).  Saving model ...\n",
      "\t Train_Loss: 0.5912 Train_Acc: 74.301 Val_Loss: 0.4632  BEST VAL Loss: 0.4632  Val_Acc: 85.325\n",
      "\n",
      "Epoch 25: Validation loss did not decrease\n",
      "\t Train_Loss: 0.5908 Train_Acc: 74.441 Val_Loss: 0.4635  BEST VAL Loss: 0.4632  Val_Acc: 83.803\n",
      "\n",
      "Epoch 26: Validation loss decreased (0.463152 --> 0.462417).  Saving model ...\n",
      "\t Train_Loss: 0.5897 Train_Acc: 76.457 Val_Loss: 0.4624  BEST VAL Loss: 0.4624  Val_Acc: 85.211\n",
      "\n",
      "Epoch 27: Validation loss decreased (0.462417 --> 0.461845).  Saving model ...\n",
      "\t Train_Loss: 0.5883 Train_Acc: 76.940 Val_Loss: 0.4618  BEST VAL Loss: 0.4618  Val_Acc: 86.486\n",
      "\n",
      "Epoch 28: Validation loss decreased (0.461845 --> 0.460711).  Saving model ...\n",
      "\t Train_Loss: 0.5878 Train_Acc: 75.864 Val_Loss: 0.4607  BEST VAL Loss: 0.4607  Val_Acc: 87.476\n",
      "\n",
      "Epoch 29: Validation loss decreased (0.460711 --> 0.459809).  Saving model ...\n",
      "\t Train_Loss: 0.5866 Train_Acc: 76.642 Val_Loss: 0.4598  BEST VAL Loss: 0.4598  Val_Acc: 86.772\n",
      "\n",
      "Epoch 30: Validation loss decreased (0.459809 --> 0.458287).  Saving model ...\n",
      "\t Train_Loss: 0.5853 Train_Acc: 77.071 Val_Loss: 0.4583  BEST VAL Loss: 0.4583  Val_Acc: 88.314\n",
      "\n",
      "Epoch 31: Validation loss decreased (0.458287 --> 0.456685).  Saving model ...\n",
      "\t Train_Loss: 0.5846 Train_Acc: 76.383 Val_Loss: 0.4567  BEST VAL Loss: 0.4567  Val_Acc: 87.990\n",
      "\n",
      "Epoch 32: Validation loss decreased (0.456685 --> 0.456090).  Saving model ...\n",
      "\t Train_Loss: 0.5837 Train_Acc: 76.174 Val_Loss: 0.4561  BEST VAL Loss: 0.4561  Val_Acc: 85.744\n",
      "\n",
      "Epoch 33: Validation loss decreased (0.456090 --> 0.454653).  Saving model ...\n",
      "\t Train_Loss: 0.5825 Train_Acc: 77.068 Val_Loss: 0.4547  BEST VAL Loss: 0.4547  Val_Acc: 87.533\n",
      "\n",
      "Epoch 34: Validation loss decreased (0.454653 --> 0.453571).  Saving model ...\n",
      "\t Train_Loss: 0.5815 Train_Acc: 76.597 Val_Loss: 0.4536  BEST VAL Loss: 0.4536  Val_Acc: 88.142\n",
      "\n",
      "Epoch 35: Validation loss decreased (0.453571 --> 0.453344).  Saving model ...\n",
      "\t Train_Loss: 0.5805 Train_Acc: 76.657 Val_Loss: 0.4533  BEST VAL Loss: 0.4533  Val_Acc: 87.057\n",
      "\n",
      "Epoch 36: Validation loss decreased (0.453344 --> 0.452385).  Saving model ...\n",
      "\t Train_Loss: 0.5802 Train_Acc: 76.081 Val_Loss: 0.4524  BEST VAL Loss: 0.4524  Val_Acc: 87.038\n",
      "\n",
      "Epoch 37: Validation loss decreased (0.452385 --> 0.452244).  Saving model ...\n",
      "\t Train_Loss: 0.5805 Train_Acc: 74.584 Val_Loss: 0.4522  BEST VAL Loss: 0.4522  Val_Acc: 82.642\n",
      "\n",
      "Epoch 38: Validation loss decreased (0.452244 --> 0.451952).  Saving model ...\n",
      "\t Train_Loss: 0.5803 Train_Acc: 75.279 Val_Loss: 0.4520  BEST VAL Loss: 0.4520  Val_Acc: 86.220\n",
      "\n",
      "Epoch 39: Validation loss decreased (0.451952 --> 0.451278).  Saving model ...\n",
      "\t Train_Loss: 0.5804 Train_Acc: 74.860 Val_Loss: 0.4513  BEST VAL Loss: 0.4513  Val_Acc: 86.201\n",
      "\n",
      "Epoch 40: Validation loss decreased (0.451278 --> 0.450679).  Saving model ...\n",
      "\t Train_Loss: 0.5799 Train_Acc: 75.277 Val_Loss: 0.4507  BEST VAL Loss: 0.4507  Val_Acc: 87.400\n",
      "\n",
      "Epoch 41: Validation loss decreased (0.450679 --> 0.450387).  Saving model ...\n",
      "\t Train_Loss: 0.5795 Train_Acc: 75.379 Val_Loss: 0.4504  BEST VAL Loss: 0.4504  Val_Acc: 86.582\n",
      "\n",
      "Epoch 42: Validation loss did not decrease\n",
      "\t Train_Loss: 0.5799 Train_Acc: 73.782 Val_Loss: 0.4506  BEST VAL Loss: 0.4504  Val_Acc: 85.668\n",
      "\n",
      "Epoch 43: Validation loss did not decrease\n",
      "\t Train_Loss: 0.5807 Train_Acc: 72.483 Val_Loss: 0.4514  BEST VAL Loss: 0.4504  Val_Acc: 83.536\n",
      "\n",
      "Epoch 44: Validation loss did not decrease\n",
      "\t Train_Loss: 0.5812 Train_Acc: 72.916 Val_Loss: 0.4521  BEST VAL Loss: 0.4504  Val_Acc: 84.793\n",
      "\n",
      "Epoch 45: Validation loss did not decrease\n",
      "\t Train_Loss: 0.5812 Train_Acc: 74.054 Val_Loss: 0.4516  BEST VAL Loss: 0.4504  Val_Acc: 86.106\n",
      "\n",
      "Epoch 46: Validation loss did not decrease\n",
      "\t Train_Loss: 0.5808 Train_Acc: 74.384 Val_Loss: 0.4519  BEST VAL Loss: 0.4504  Val_Acc: 83.422\n",
      "\n",
      "Epoch 47: Validation loss did not decrease\n",
      "\t Train_Loss: 0.5838 Train_Acc: 65.661 Val_Loss: 0.4539  BEST VAL Loss: 0.4504  Val_Acc: 70.175\n",
      "\n",
      "Epoch 48: Validation loss did not decrease\n",
      "\t Train_Loss: 0.5865 Train_Acc: 62.296 Val_Loss: 0.4548  BEST VAL Loss: 0.4504  Val_Acc: 83.175\n",
      "\n",
      "Epoch 49: Validation loss did not decrease\n",
      "\t Train_Loss: 0.5882 Train_Acc: 64.802 Val_Loss: 0.4557  BEST VAL Loss: 0.4504  Val_Acc: 83.555\n",
      "\n",
      "Epoch 50: Validation loss did not decrease\n",
      "\t Train_Loss: 0.5899 Train_Acc: 65.037 Val_Loss: 0.4568  BEST VAL Loss: 0.4504  Val_Acc: 84.088\n",
      "\n",
      "Epoch 51: Validation loss did not decrease\n",
      "\t Train_Loss: 0.5919 Train_Acc: 64.359 Val_Loss: 0.4584  BEST VAL Loss: 0.4504  Val_Acc: 82.509\n",
      "\n",
      "Epoch 52: Validation loss did not decrease\n",
      "\t Train_Loss: 0.5938 Train_Acc: 64.081 Val_Loss: 0.4597  BEST VAL Loss: 0.4504  Val_Acc: 83.860\n",
      "\n",
      "Epoch 53: Validation loss did not decrease\n",
      "\t Train_Loss: 0.5952 Train_Acc: 65.340 Val_Loss: 0.4603  BEST VAL Loss: 0.4504  Val_Acc: 84.640\n",
      "\n",
      "Epoch 54: Validation loss did not decrease\n",
      "\t Train_Loss: 0.5965 Train_Acc: 65.359 Val_Loss: 0.4615  BEST VAL Loss: 0.4504  Val_Acc: 83.955\n",
      "\n",
      "Epoch 55: Validation loss did not decrease\n",
      "\t Train_Loss: 0.5990 Train_Acc: 62.277 Val_Loss: 0.4678  BEST VAL Loss: 0.4504  Val_Acc: 58.641\n",
      "\n",
      "Epoch 56: Validation loss did not decrease\n",
      "\t Train_Loss: 0.6035 Train_Acc: 58.427 Val_Loss: 0.4727  BEST VAL Loss: 0.4504  Val_Acc: 66.121\n",
      "\n",
      "Epoch 57: Validation loss did not decrease\n",
      "Early stopped at epoch : 57\n"
     ]
    }
   ],
   "source": [
    "# call the optimized training model\n",
    "train_loss, train_acc, valid_loss, valid_acc, epochs_ran, model = train_optimized_model(\n",
    "    params.TRAIN_EPOCHS,\n",
    "    train_loader,\n",
    "    valid_loader,\n",
    "    param_dict,\n",
    "    params,\n",
    "    params.MODEL_NAME,\n",
    ")\n",
    "# get training_metrics\n",
    "if params.MODEL_TYPE == \"Regression\":\n",
    "    training_stats = pd.DataFrame(\n",
    "        zip(train_loss, valid_loss, epochs_ran),\n",
    "        columns=[\"train_loss\", \"valid_loss\", \"epochs_ran\"],\n",
    "    )\n",
    "else:\n",
    "    training_stats = pd.DataFrame(\n",
    "        zip(train_loss, train_acc, valid_loss, valid_acc, epochs_ran),\n",
    "        columns=[\"train_loss\", \"train_acc\", \"valid_loss\", \"valid_acc\", \"epochs_ran\"],\n",
    "    )"
   ]
  },
  {
   "cell_type": "code",
   "execution_count": 19,
   "id": "1340d8aa",
   "metadata": {},
   "outputs": [
    {
     "name": "stderr",
     "output_type": "stream",
     "text": [
      "/home/lippincm/Documents/ML/Interstellar_Analysis/MLP_Model/model_training/../MLP_utils/utils.py:962: UserWarning:\n",
      "\n",
      "Ignoring `palette` because no `hue` variable has been assigned.\n",
      "\n",
      "/home/lippincm/Documents/ML/Interstellar_Analysis/MLP_Model/model_training/../MLP_utils/utils.py:963: UserWarning:\n",
      "\n",
      "Ignoring `palette` because no `hue` variable has been assigned.\n",
      "\n"
     ]
    },
    {
     "data": {
      "image/png": "[encoded data removed]",
      "text/plain": [
       "<Figure size 640x480 with 1 Axes>"
      ]
     },
     "metadata": {},
     "output_type": "display_data"
    }
   ],
   "source": [
    "if params.MODEL_TYPE == \"Regression\":\n",
    "    pass\n",
    "else:\n",
    "    plot_metric_vs_epoch(\n",
    "        training_stats,\n",
    "        x=\"epochs_ran\",\n",
    "        y1=\"train_acc\",\n",
    "        y2=\"valid_acc\",\n",
    "        title=\"Accuracy vs. Epochs\",\n",
    "        x_axis_label=\"Epochs\",\n",
    "        y_axis_label=\"Accuracy\",\n",
    "        params=params,\n",
    "        model_name=params.MODEL_NAME,\n",
    "    )"
   ]
  },
  {
   "cell_type": "code",
   "execution_count": 20,
   "id": "41991221",
   "metadata": {},
   "outputs": [
    {
     "name": "stderr",
     "output_type": "stream",
     "text": [
      "/home/lippincm/Documents/ML/Interstellar_Analysis/MLP_Model/model_training/../MLP_utils/utils.py:962: UserWarning:\n",
      "\n",
      "Ignoring `palette` because no `hue` variable has been assigned.\n",
      "\n",
      "/home/lippincm/Documents/ML/Interstellar_Analysis/MLP_Model/model_training/../MLP_utils/utils.py:963: UserWarning:\n",
      "\n",
      "Ignoring `palette` because no `hue` variable has been assigned.\n",
      "\n"
     ]
    },
    {
     "data": {
      "image/png": "[encoded data removed]",
      "text/plain": [
       "<Figure size 640x480 with 1 Axes>"
      ]
     },
     "metadata": {},
     "output_type": "display_data"
    }
   ],
   "source": [
    "plot_metric_vs_epoch(\n",
    "    training_stats,\n",
    "    x=\"epochs_ran\",\n",
    "    y1=\"train_loss\",\n",
    "    y2=\"valid_loss\",\n",
    "    title=\"Loss vs. Epochs\",\n",
    "    x_axis_label=\"Epochs\",\n",
    "    y_axis_label=\"Loss\",\n",
    "    params=params,\n",
    "    model_name=params.MODEL_NAME,\n",
    ")"
   ]
  },
  {
   "cell_type": "code",
   "execution_count": 21,
   "id": "3e2c848c",
   "metadata": {},
   "outputs": [],
   "source": [
    "# calling the testing function and outputting list values of tested model\n",
    "if params.MODEL_TYPE == \"Multi_Class\" or params.MODEL_TYPE == \"Regression\":\n",
    "    y_pred_list = test_optimized_model(\n",
    "        model, test_loader, params, model_name=params.MODEL_NAME\n",
    "    )\n",
    "elif params.MODEL_TYPE == \"Binary_Classification\":\n",
    "    y_pred_list, y_pred_prob_list = test_optimized_model(\n",
    "        model, test_loader, params, model_name=params.MODEL_NAME\n",
    "    )\n",
    "else:\n",
    "    raise Exception(\"Model type must be specified for proper model testing\")\n",
    "\n",
    "\n",
    "# un-nest list if nested i.e. length of input data does not match length of output data\n",
    "if len(y_pred_list) != len(Y_test):\n",
    "    y_pred_list = un_nest(y_pred_list)\n",
    "    y_pred_prob_list = un_nest(y_pred_prob_list)\n",
    "else:\n",
    "    pass"
   ]
  },
  {
   "cell_type": "code",
   "execution_count": 22,
   "id": "3c53f7e4",
   "metadata": {},
   "outputs": [
    {
     "name": "stdout",
     "output_type": "stream",
     "text": [
      "              precision    recall  f1-score   support\n",
      "\n",
      "           0       0.93      0.83      0.88      3081\n",
      "           1       0.75      0.96      0.84      1186\n",
      "           2       0.82      0.83      0.82       987\n",
      "\n",
      "    accuracy                           0.86      5254\n",
      "   macro avg       0.84      0.87      0.85      5254\n",
      "weighted avg       0.87      0.86      0.86      5254\n",
      "\n",
      "Precision for class 0: 0.9324127906976744\n",
      "Recall for class 0: 0.8328464784160987\n",
      "Precision for class 1: 0.7544910179640718\n",
      "Recall for class 1: 0.9561551433389545\n",
      "Precision for class 2: 0.8198198198198198\n",
      "Recall for class 2: 0.8297872340425532\n",
      "3\n"
     ]
    },
    {
     "data": {
      "image/png": "[encoded data removed]",
      "text/plain": [
       "<Figure size 640x480 with 2 Axes>"
      ]
     },
     "metadata": {},
     "output_type": "display_data"
    },
    {
     "data": {
      "image/png": "[encoded data removed]",
      "text/plain": [
       "<Figure size 640x480 with 1 Axes>"
      ]
     },
     "metadata": {},
     "output_type": "display_data"
    }
   ],
   "source": [
    "# Call visualization function\n",
    "# calling the testing function and outputing list values of tested model\n",
    "if params.MODEL_TYPE == \"Multi_Class\" or params.MODEL_TYPE == \"Regression\":\n",
    "    confusion_matrix_df = results_output(\n",
    "        y_pred_list,\n",
    "        Y_test,\n",
    "        params,\n",
    "        test_name=f\"{params.MODEL_NAME}_testing\",\n",
    "        model_name=params.MODEL_NAME,\n",
    "        title=title,\n",
    "    )\n",
    "elif params.MODEL_TYPE == \"Binary_Classification\":\n",
    "    results_output(\n",
    "        y_pred_list,\n",
    "        Y_test,\n",
    "        params,\n",
    "        y_pred_prob_list,\n",
    "        test_name=f\"{params.MODEL_NAME}_testing\",\n",
    "        model_name=params.MODEL_NAME,\n",
    "    )\n",
    "else:\n",
    "    raise Exception(\"Model type must be specified for proper model testing\")"
   ]
  },
  {
   "cell_type": "code",
   "execution_count": 23,
   "id": "81d214ac",
   "metadata": {},
   "outputs": [
    {
     "name": "stdout",
     "output_type": "stream",
     "text": [
      "0 DMSO_0.100_DMSO_0.025\n",
      "2 Thapsigargin_10.000_DMSO_0.025\n",
      "1 LPS_100.000_DMSO_0.025\n"
     ]
    }
   ],
   "source": [
    "for i, j in zip(\n",
    "    df_values[\"oneb_Metadata_Treatment_Dose_Inhibitor_Dose\"].unique(),\n",
    "    df[\"oneb_Metadata_Treatment_Dose_Inhibitor_Dose\"].unique(),\n",
    "):\n",
    "    print(i, j)"
   ]
  },
  {
   "attachments": {},
   "cell_type": "markdown",
   "id": "2c620f38",
   "metadata": {},
   "source": [
    "#### look at the feature weights of the model"
   ]
  },
  {
   "cell_type": "code",
   "execution_count": 24,
   "id": "06ecc2f0",
   "metadata": {},
   "outputs": [],
   "source": [
    "# get all paramters from pytorch model\n",
    "lst = []\n",
    "for name, param in model.named_parameters():\n",
    "    # print(name, param.shape)\n",
    "    lst.append(param)\n",
    "feature_weights = model[0].weight.grad[0].detach().cpu().numpy()"
   ]
  },
  {
   "cell_type": "code",
   "execution_count": 25,
   "id": "131b568f",
   "metadata": {},
   "outputs": [],
   "source": [
    "col_list = []\n",
    "for col in df_values.columns:\n",
    "    # print(col)\n",
    "    col_list.append(col)"
   ]
  },
  {
   "cell_type": "code",
   "execution_count": 26,
   "id": "400c1291",
   "metadata": {},
   "outputs": [],
   "source": [
    "# remove last 4 columns from col_list that are not features\n",
    "col_list = col_list[:-4]"
   ]
  },
  {
   "cell_type": "code",
   "execution_count": 27,
   "id": "42dbfe2a",
   "metadata": {},
   "outputs": [
    {
     "data": {
      "text/html": [
       "<div>\n",
       "<style scoped>\n",
       "    .dataframe tbody tr th:only-of-type {\n",
       "        vertical-align: middle;\n",
       "    }\n",
       "\n",
       "    .dataframe tbody tr th {\n",
       "        vertical-align: top;\n",
       "    }\n",
       "\n",
       "    .dataframe thead th {\n",
       "        text-align: right;\n",
       "    }\n",
       "</style>\n",
       "<table border=\"1\" class=\"dataframe\">\n",
       "  <thead>\n",
       "    <tr style=\"text-align: right;\">\n",
       "      <th></th>\n",
       "      <th>feature</th>\n",
       "      <th>weight</th>\n",
       "    </tr>\n",
       "  </thead>\n",
       "  <tbody>\n",
       "    <tr>\n",
       "      <th>0</th>\n",
       "      <td>Cytoplasm_AreaShape_Area</td>\n",
       "      <td>0.0</td>\n",
       "    </tr>\n",
       "    <tr>\n",
       "      <th>1869</th>\n",
       "      <td>Cells_Texture_SumVariance_CorrMito_3_02_256</td>\n",
       "      <td>0.0</td>\n",
       "    </tr>\n",
       "    <tr>\n",
       "      <th>1893</th>\n",
       "      <td>Cells_Texture_Variance_CorrPM_3_02_256</td>\n",
       "      <td>0.0</td>\n",
       "    </tr>\n",
       "    <tr>\n",
       "      <th>1894</th>\n",
       "      <td>Cells_Texture_Variance_CorrPM_3_03_256</td>\n",
       "      <td>0.0</td>\n",
       "    </tr>\n",
       "    <tr>\n",
       "      <th>1895</th>\n",
       "      <td>Nuclei_AreaShape_Area</td>\n",
       "      <td>0.0</td>\n",
       "    </tr>\n",
       "    <tr>\n",
       "      <th>...</th>\n",
       "      <td>...</td>\n",
       "      <td>...</td>\n",
       "    </tr>\n",
       "    <tr>\n",
       "      <th>951</th>\n",
       "      <td>Cells_AreaShape_Compactness</td>\n",
       "      <td>0.0</td>\n",
       "    </tr>\n",
       "    <tr>\n",
       "      <th>952</th>\n",
       "      <td>Cells_AreaShape_ConvexArea</td>\n",
       "      <td>0.0</td>\n",
       "    </tr>\n",
       "    <tr>\n",
       "      <th>953</th>\n",
       "      <td>Cells_AreaShape_Eccentricity</td>\n",
       "      <td>0.0</td>\n",
       "    </tr>\n",
       "    <tr>\n",
       "      <th>954</th>\n",
       "      <td>Cells_AreaShape_EquivalentDiameter</td>\n",
       "      <td>0.0</td>\n",
       "    </tr>\n",
       "    <tr>\n",
       "      <th>2846</th>\n",
       "      <td>Nuclei_Texture_Variance_CorrPM_3_03_256</td>\n",
       "      <td>0.0</td>\n",
       "    </tr>\n",
       "  </tbody>\n",
       "</table>\n",
       "<p>2847 rows × 2 columns</p>\n",
       "</div>"
      ],
      "text/plain": [
       "                                          feature  weight\n",
       "0                        Cytoplasm_AreaShape_Area     0.0\n",
       "1869  Cells_Texture_SumVariance_CorrMito_3_02_256     0.0\n",
       "1893       Cells_Texture_Variance_CorrPM_3_02_256     0.0\n",
       "1894       Cells_Texture_Variance_CorrPM_3_03_256     0.0\n",
       "1895                        Nuclei_AreaShape_Area     0.0\n",
       "...                                           ...     ...\n",
       "951                   Cells_AreaShape_Compactness     0.0\n",
       "952                    Cells_AreaShape_ConvexArea     0.0\n",
       "953                  Cells_AreaShape_Eccentricity     0.0\n",
       "954            Cells_AreaShape_EquivalentDiameter     0.0\n",
       "2846      Nuclei_Texture_Variance_CorrPM_3_03_256     0.0\n",
       "\n",
       "[2847 rows x 2 columns]"
      ]
     },
     "execution_count": 27,
     "metadata": {},
     "output_type": "execute_result"
    }
   ],
   "source": [
    "pd.set_option(\"display.max_colwidth\", None)\n",
    "\n",
    "df1 = pd.DataFrame(zip(col_list, feature_weights), columns=[\"feature\", \"weight\"])\n",
    "# change weight collumn to float\n",
    "df1[\"weight\"] = df1[\"weight\"].astype(float)\n",
    "# sort by weight\n",
    "df1 = df1.sort_values(by=[\"weight\"], ascending=False)\n",
    "df1"
   ]
  },
  {
   "cell_type": "code",
   "execution_count": 28,
   "id": "e8a4e590",
   "metadata": {},
   "outputs": [],
   "source": [
    "# Code snippet for metadata extraction by Jenna Tomkinson\n",
    "df_metadata = list(df_holdout.columns[df_holdout.columns.str.startswith(\"Metadata\")])\n",
    "\n",
    "# define which columns are data and which are descriptive\n",
    "df_descriptive = df_holdout[df_metadata]\n",
    "df_values = df_holdout.drop(columns=df_metadata)"
   ]
  },
  {
   "cell_type": "code",
   "execution_count": 29,
   "id": "cd055cfe",
   "metadata": {},
   "outputs": [
    {
     "data": {
      "text/html": [
       "<div>\n",
       "<style scoped>\n",
       "    .dataframe tbody tr th:only-of-type {\n",
       "        vertical-align: middle;\n",
       "    }\n",
       "\n",
       "    .dataframe tbody tr th {\n",
       "        vertical-align: top;\n",
       "    }\n",
       "\n",
       "    .dataframe thead th {\n",
       "        text-align: right;\n",
       "    }\n",
       "</style>\n",
       "<table border=\"1\" class=\"dataframe\">\n",
       "  <thead>\n",
       "    <tr style=\"text-align: right;\">\n",
       "      <th></th>\n",
       "      <th>Metadata_cell_type</th>\n",
       "      <th>Metadata_Well</th>\n",
       "      <th>Metadata_number_of_singlecells</th>\n",
       "      <th>Metadata_incubation inducer (h)</th>\n",
       "      <th>Metadata_inhibitor</th>\n",
       "      <th>Metadata_inhibitor_concentration</th>\n",
       "      <th>Metadata_inhibitor_concentration_unit</th>\n",
       "      <th>Metadata_inducer1</th>\n",
       "      <th>Metadata_inducer1_concentration</th>\n",
       "      <th>Metadata_inducer1_concentration_unit</th>\n",
       "      <th>...</th>\n",
       "      <th>Metadata_inducer2_concentration</th>\n",
       "      <th>Metadata_inducer2_concentration_unit</th>\n",
       "      <th>Metadata_ImageNumber</th>\n",
       "      <th>Metadata_Plate</th>\n",
       "      <th>Metadata_Cells_Number_Object_Number</th>\n",
       "      <th>Metadata_Cytoplasm_Parent_Cells</th>\n",
       "      <th>Metadata_Cytoplasm_Parent_Nuclei</th>\n",
       "      <th>Metadata_Nuclei_Number_Object_Number</th>\n",
       "      <th>Metadata_Treatment</th>\n",
       "      <th>Metadata_Dose</th>\n",
       "    </tr>\n",
       "  </thead>\n",
       "  <tbody>\n",
       "    <tr>\n",
       "      <th>336238</th>\n",
       "      <td>SH-SY5Y</td>\n",
       "      <td>I14</td>\n",
       "      <td>4837</td>\n",
       "      <td>6</td>\n",
       "      <td>DMSO</td>\n",
       "      <td>0.025</td>\n",
       "      <td>%</td>\n",
       "      <td>DMSO</td>\n",
       "      <td>0.1</td>\n",
       "      <td>%</td>\n",
       "      <td>...</td>\n",
       "      <td>0.0</td>\n",
       "      <td>None</td>\n",
       "      <td>32</td>\n",
       "      <td>*70117_20230210MM1_Gasdermin514_CP_BC430856</td>\n",
       "      <td>1</td>\n",
       "      <td>1</td>\n",
       "      <td>5</td>\n",
       "      <td>5</td>\n",
       "      <td>DMSO</td>\n",
       "      <td>0.100</td>\n",
       "    </tr>\n",
       "    <tr>\n",
       "      <th>336239</th>\n",
       "      <td>SH-SY5Y</td>\n",
       "      <td>I14</td>\n",
       "      <td>4837</td>\n",
       "      <td>6</td>\n",
       "      <td>DMSO</td>\n",
       "      <td>0.025</td>\n",
       "      <td>%</td>\n",
       "      <td>DMSO</td>\n",
       "      <td>0.1</td>\n",
       "      <td>%</td>\n",
       "      <td>...</td>\n",
       "      <td>0.0</td>\n",
       "      <td>None</td>\n",
       "      <td>32</td>\n",
       "      <td>*70117_20230210MM1_Gasdermin514_CP_BC430856</td>\n",
       "      <td>2</td>\n",
       "      <td>2</td>\n",
       "      <td>6</td>\n",
       "      <td>6</td>\n",
       "      <td>DMSO</td>\n",
       "      <td>0.100</td>\n",
       "    </tr>\n",
       "    <tr>\n",
       "      <th>336240</th>\n",
       "      <td>SH-SY5Y</td>\n",
       "      <td>I14</td>\n",
       "      <td>4837</td>\n",
       "      <td>6</td>\n",
       "      <td>DMSO</td>\n",
       "      <td>0.025</td>\n",
       "      <td>%</td>\n",
       "      <td>DMSO</td>\n",
       "      <td>0.1</td>\n",
       "      <td>%</td>\n",
       "      <td>...</td>\n",
       "      <td>0.0</td>\n",
       "      <td>None</td>\n",
       "      <td>32</td>\n",
       "      <td>*70117_20230210MM1_Gasdermin514_CP_BC430856</td>\n",
       "      <td>3</td>\n",
       "      <td>3</td>\n",
       "      <td>7</td>\n",
       "      <td>7</td>\n",
       "      <td>DMSO</td>\n",
       "      <td>0.100</td>\n",
       "    </tr>\n",
       "    <tr>\n",
       "      <th>336241</th>\n",
       "      <td>SH-SY5Y</td>\n",
       "      <td>I14</td>\n",
       "      <td>4837</td>\n",
       "      <td>6</td>\n",
       "      <td>DMSO</td>\n",
       "      <td>0.025</td>\n",
       "      <td>%</td>\n",
       "      <td>DMSO</td>\n",
       "      <td>0.1</td>\n",
       "      <td>%</td>\n",
       "      <td>...</td>\n",
       "      <td>0.0</td>\n",
       "      <td>None</td>\n",
       "      <td>32</td>\n",
       "      <td>*70117_20230210MM1_Gasdermin514_CP_BC430856</td>\n",
       "      <td>4</td>\n",
       "      <td>4</td>\n",
       "      <td>9</td>\n",
       "      <td>9</td>\n",
       "      <td>DMSO</td>\n",
       "      <td>0.100</td>\n",
       "    </tr>\n",
       "    <tr>\n",
       "      <th>336242</th>\n",
       "      <td>SH-SY5Y</td>\n",
       "      <td>I14</td>\n",
       "      <td>4837</td>\n",
       "      <td>6</td>\n",
       "      <td>DMSO</td>\n",
       "      <td>0.025</td>\n",
       "      <td>%</td>\n",
       "      <td>DMSO</td>\n",
       "      <td>0.1</td>\n",
       "      <td>%</td>\n",
       "      <td>...</td>\n",
       "      <td>0.0</td>\n",
       "      <td>None</td>\n",
       "      <td>32</td>\n",
       "      <td>*70117_20230210MM1_Gasdermin514_CP_BC430856</td>\n",
       "      <td>5</td>\n",
       "      <td>5</td>\n",
       "      <td>10</td>\n",
       "      <td>10</td>\n",
       "      <td>DMSO</td>\n",
       "      <td>0.100</td>\n",
       "    </tr>\n",
       "    <tr>\n",
       "      <th>...</th>\n",
       "      <td>...</td>\n",
       "      <td>...</td>\n",
       "      <td>...</td>\n",
       "      <td>...</td>\n",
       "      <td>...</td>\n",
       "      <td>...</td>\n",
       "      <td>...</td>\n",
       "      <td>...</td>\n",
       "      <td>...</td>\n",
       "      <td>...</td>\n",
       "      <td>...</td>\n",
       "      <td>...</td>\n",
       "      <td>...</td>\n",
       "      <td>...</td>\n",
       "      <td>...</td>\n",
       "      <td>...</td>\n",
       "      <td>...</td>\n",
       "      <td>...</td>\n",
       "      <td>...</td>\n",
       "      <td>...</td>\n",
       "      <td>...</td>\n",
       "    </tr>\n",
       "    <tr>\n",
       "      <th>528609</th>\n",
       "      <td>SH-SY5Y</td>\n",
       "      <td>J21</td>\n",
       "      <td>4126</td>\n",
       "      <td>6</td>\n",
       "      <td>DMSO</td>\n",
       "      <td>0.025</td>\n",
       "      <td>%</td>\n",
       "      <td>LPS</td>\n",
       "      <td>100.0</td>\n",
       "      <td>µg_per_ml</td>\n",
       "      <td>...</td>\n",
       "      <td>0.0</td>\n",
       "      <td>None</td>\n",
       "      <td>332</td>\n",
       "      <td>*70117_20230210MM1_Gasdermin514_CP_BC430856</td>\n",
       "      <td>183</td>\n",
       "      <td>183</td>\n",
       "      <td>192</td>\n",
       "      <td>192</td>\n",
       "      <td>LPS</td>\n",
       "      <td>100.000</td>\n",
       "    </tr>\n",
       "    <tr>\n",
       "      <th>528610</th>\n",
       "      <td>SH-SY5Y</td>\n",
       "      <td>J21</td>\n",
       "      <td>4126</td>\n",
       "      <td>6</td>\n",
       "      <td>DMSO</td>\n",
       "      <td>0.025</td>\n",
       "      <td>%</td>\n",
       "      <td>LPS</td>\n",
       "      <td>100.0</td>\n",
       "      <td>µg_per_ml</td>\n",
       "      <td>...</td>\n",
       "      <td>0.0</td>\n",
       "      <td>None</td>\n",
       "      <td>332</td>\n",
       "      <td>*70117_20230210MM1_Gasdermin514_CP_BC430856</td>\n",
       "      <td>186</td>\n",
       "      <td>186</td>\n",
       "      <td>195</td>\n",
       "      <td>195</td>\n",
       "      <td>LPS</td>\n",
       "      <td>100.000</td>\n",
       "    </tr>\n",
       "    <tr>\n",
       "      <th>528611</th>\n",
       "      <td>SH-SY5Y</td>\n",
       "      <td>J21</td>\n",
       "      <td>4126</td>\n",
       "      <td>6</td>\n",
       "      <td>DMSO</td>\n",
       "      <td>0.025</td>\n",
       "      <td>%</td>\n",
       "      <td>LPS</td>\n",
       "      <td>100.0</td>\n",
       "      <td>µg_per_ml</td>\n",
       "      <td>...</td>\n",
       "      <td>0.0</td>\n",
       "      <td>None</td>\n",
       "      <td>332</td>\n",
       "      <td>*70117_20230210MM1_Gasdermin514_CP_BC430856</td>\n",
       "      <td>241</td>\n",
       "      <td>241</td>\n",
       "      <td>251</td>\n",
       "      <td>251</td>\n",
       "      <td>LPS</td>\n",
       "      <td>100.000</td>\n",
       "    </tr>\n",
       "    <tr>\n",
       "      <th>528612</th>\n",
       "      <td>SH-SY5Y</td>\n",
       "      <td>J21</td>\n",
       "      <td>4126</td>\n",
       "      <td>6</td>\n",
       "      <td>DMSO</td>\n",
       "      <td>0.025</td>\n",
       "      <td>%</td>\n",
       "      <td>LPS</td>\n",
       "      <td>100.0</td>\n",
       "      <td>µg_per_ml</td>\n",
       "      <td>...</td>\n",
       "      <td>0.0</td>\n",
       "      <td>None</td>\n",
       "      <td>332</td>\n",
       "      <td>*70117_20230210MM1_Gasdermin514_CP_BC430856</td>\n",
       "      <td>250</td>\n",
       "      <td>250</td>\n",
       "      <td>260</td>\n",
       "      <td>260</td>\n",
       "      <td>LPS</td>\n",
       "      <td>100.000</td>\n",
       "    </tr>\n",
       "    <tr>\n",
       "      <th>528613</th>\n",
       "      <td>SH-SY5Y</td>\n",
       "      <td>J21</td>\n",
       "      <td>4126</td>\n",
       "      <td>6</td>\n",
       "      <td>DMSO</td>\n",
       "      <td>0.025</td>\n",
       "      <td>%</td>\n",
       "      <td>LPS</td>\n",
       "      <td>100.0</td>\n",
       "      <td>µg_per_ml</td>\n",
       "      <td>...</td>\n",
       "      <td>0.0</td>\n",
       "      <td>None</td>\n",
       "      <td>334</td>\n",
       "      <td>*70117_20230210MM1_Gasdermin514_CP_BC430856</td>\n",
       "      <td>147</td>\n",
       "      <td>147</td>\n",
       "      <td>159</td>\n",
       "      <td>159</td>\n",
       "      <td>LPS</td>\n",
       "      <td>100.000</td>\n",
       "    </tr>\n",
       "  </tbody>\n",
       "</table>\n",
       "<p>12309 rows × 21 columns</p>\n",
       "</div>"
      ],
      "text/plain": [
       "       Metadata_cell_type Metadata_Well  Metadata_number_of_singlecells   \n",
       "336238            SH-SY5Y           I14                            4837  \\\n",
       "336239            SH-SY5Y           I14                            4837   \n",
       "336240            SH-SY5Y           I14                            4837   \n",
       "336241            SH-SY5Y           I14                            4837   \n",
       "336242            SH-SY5Y           I14                            4837   \n",
       "...                   ...           ...                             ...   \n",
       "528609            SH-SY5Y           J21                            4126   \n",
       "528610            SH-SY5Y           J21                            4126   \n",
       "528611            SH-SY5Y           J21                            4126   \n",
       "528612            SH-SY5Y           J21                            4126   \n",
       "528613            SH-SY5Y           J21                            4126   \n",
       "\n",
       "        Metadata_incubation inducer (h) Metadata_inhibitor   \n",
       "336238                                6               DMSO  \\\n",
       "336239                                6               DMSO   \n",
       "336240                                6               DMSO   \n",
       "336241                                6               DMSO   \n",
       "336242                                6               DMSO   \n",
       "...                                 ...                ...   \n",
       "528609                                6               DMSO   \n",
       "528610                                6               DMSO   \n",
       "528611                                6               DMSO   \n",
       "528612                                6               DMSO   \n",
       "528613                                6               DMSO   \n",
       "\n",
       "        Metadata_inhibitor_concentration   \n",
       "336238                             0.025  \\\n",
       "336239                             0.025   \n",
       "336240                             0.025   \n",
       "336241                             0.025   \n",
       "336242                             0.025   \n",
       "...                                  ...   \n",
       "528609                             0.025   \n",
       "528610                             0.025   \n",
       "528611                             0.025   \n",
       "528612                             0.025   \n",
       "528613                             0.025   \n",
       "\n",
       "       Metadata_inhibitor_concentration_unit Metadata_inducer1   \n",
       "336238                                     %              DMSO  \\\n",
       "336239                                     %              DMSO   \n",
       "336240                                     %              DMSO   \n",
       "336241                                     %              DMSO   \n",
       "336242                                     %              DMSO   \n",
       "...                                      ...               ...   \n",
       "528609                                     %               LPS   \n",
       "528610                                     %               LPS   \n",
       "528611                                     %               LPS   \n",
       "528612                                     %               LPS   \n",
       "528613                                     %               LPS   \n",
       "\n",
       "        Metadata_inducer1_concentration Metadata_inducer1_concentration_unit   \n",
       "336238                              0.1                                    %  \\\n",
       "336239                              0.1                                    %   \n",
       "336240                              0.1                                    %   \n",
       "336241                              0.1                                    %   \n",
       "336242                              0.1                                    %   \n",
       "...                                 ...                                  ...   \n",
       "528609                            100.0                            µg_per_ml   \n",
       "528610                            100.0                            µg_per_ml   \n",
       "528611                            100.0                            µg_per_ml   \n",
       "528612                            100.0                            µg_per_ml   \n",
       "528613                            100.0                            µg_per_ml   \n",
       "\n",
       "        ... Metadata_inducer2_concentration   \n",
       "336238  ...                             0.0  \\\n",
       "336239  ...                             0.0   \n",
       "336240  ...                             0.0   \n",
       "336241  ...                             0.0   \n",
       "336242  ...                             0.0   \n",
       "...     ...                             ...   \n",
       "528609  ...                             0.0   \n",
       "528610  ...                             0.0   \n",
       "528611  ...                             0.0   \n",
       "528612  ...                             0.0   \n",
       "528613  ...                             0.0   \n",
       "\n",
       "        Metadata_inducer2_concentration_unit Metadata_ImageNumber   \n",
       "336238                                  None                   32  \\\n",
       "336239                                  None                   32   \n",
       "336240                                  None                   32   \n",
       "336241                                  None                   32   \n",
       "336242                                  None                   32   \n",
       "...                                      ...                  ...   \n",
       "528609                                  None                  332   \n",
       "528610                                  None                  332   \n",
       "528611                                  None                  332   \n",
       "528612                                  None                  332   \n",
       "528613                                  None                  334   \n",
       "\n",
       "                                     Metadata_Plate   \n",
       "336238  *70117_20230210MM1_Gasdermin514_CP_BC430856  \\\n",
       "336239  *70117_20230210MM1_Gasdermin514_CP_BC430856   \n",
       "336240  *70117_20230210MM1_Gasdermin514_CP_BC430856   \n",
       "336241  *70117_20230210MM1_Gasdermin514_CP_BC430856   \n",
       "336242  *70117_20230210MM1_Gasdermin514_CP_BC430856   \n",
       "...                                             ...   \n",
       "528609  *70117_20230210MM1_Gasdermin514_CP_BC430856   \n",
       "528610  *70117_20230210MM1_Gasdermin514_CP_BC430856   \n",
       "528611  *70117_20230210MM1_Gasdermin514_CP_BC430856   \n",
       "528612  *70117_20230210MM1_Gasdermin514_CP_BC430856   \n",
       "528613  *70117_20230210MM1_Gasdermin514_CP_BC430856   \n",
       "\n",
       "       Metadata_Cells_Number_Object_Number  Metadata_Cytoplasm_Parent_Cells   \n",
       "336238                                   1                                1  \\\n",
       "336239                                   2                                2   \n",
       "336240                                   3                                3   \n",
       "336241                                   4                                4   \n",
       "336242                                   5                                5   \n",
       "...                                    ...                              ...   \n",
       "528609                                 183                              183   \n",
       "528610                                 186                              186   \n",
       "528611                                 241                              241   \n",
       "528612                                 250                              250   \n",
       "528613                                 147                              147   \n",
       "\n",
       "        Metadata_Cytoplasm_Parent_Nuclei   \n",
       "336238                                 5  \\\n",
       "336239                                 6   \n",
       "336240                                 7   \n",
       "336241                                 9   \n",
       "336242                                10   \n",
       "...                                  ...   \n",
       "528609                               192   \n",
       "528610                               195   \n",
       "528611                               251   \n",
       "528612                               260   \n",
       "528613                               159   \n",
       "\n",
       "        Metadata_Nuclei_Number_Object_Number  Metadata_Treatment Metadata_Dose  \n",
       "336238                                     5                DMSO         0.100  \n",
       "336239                                     6                DMSO         0.100  \n",
       "336240                                     7                DMSO         0.100  \n",
       "336241                                     9                DMSO         0.100  \n",
       "336242                                    10                DMSO         0.100  \n",
       "...                                      ...                 ...           ...  \n",
       "528609                                   192                 LPS       100.000  \n",
       "528610                                   195                 LPS       100.000  \n",
       "528611                                   251                 LPS       100.000  \n",
       "528612                                   260                 LPS       100.000  \n",
       "528613                                   159                 LPS       100.000  \n",
       "\n",
       "[12309 rows x 21 columns]"
      ]
     },
     "execution_count": 29,
     "metadata": {},
     "output_type": "execute_result"
    }
   ],
   "source": [
    "df_descriptive"
   ]
  },
  {
   "cell_type": "code",
   "execution_count": 30,
   "id": "748bb398",
   "metadata": {},
   "outputs": [],
   "source": [
    "# Creating label encoder\n",
    "le = preprocessing.LabelEncoder()\n",
    "# Converting strings into numbers\n",
    "df_values[\"oneb_Metadata_Treatment_Dose_Inhibitor_Dose\"] = le.fit_transform(\n",
    "    df_values[\"oneb_Metadata_Treatment_Dose_Inhibitor_Dose\"]\n",
    ")\n",
    "# split into X and Y where Y are the predictive column and x are the observable data\n",
    "df_values_X = df_values.drop(\n",
    "    [\n",
    "        \"oneb_Metadata_Treatment_Dose_Inhibitor_Dose\",\n",
    "        \"twob_Metadata_Treatment_Dose_Inhibitor_Dose\",\n",
    "        \"threeb_Metadata_Treatment_Dose_Inhibitor_Dose\",\n",
    "        \"fourb_Metadata_Treatment_Dose_Inhibitor_Dose\",\n",
    "    ],\n",
    "    axis=1,\n",
    ")\n",
    "df_values_Y = df_values[\"oneb_Metadata_Treatment_Dose_Inhibitor_Dose\"]"
   ]
  },
  {
   "cell_type": "code",
   "execution_count": 31,
   "id": "2c5677d3",
   "metadata": {},
   "outputs": [],
   "source": [
    "test_data = Dataset_formatter(\n",
    "    torch.FloatTensor(df_values_X.values), torch.FloatTensor(df_values_Y.values)\n",
    ")\n",
    "\n",
    "# convert data class into a dataloader to be compatible with pytorch\n",
    "test_loader = torch.utils.data.DataLoader(dataset=test_data, batch_size=1)"
   ]
  },
  {
   "cell_type": "code",
   "execution_count": 32,
   "id": "3e2c848c",
   "metadata": {},
   "outputs": [],
   "source": [
    "# calling the testing function and outputting list values of tested model\n",
    "if params.MODEL_TYPE == \"Multi_Class\" or params.MODEL_TYPE == \"Regression\":\n",
    "    y_pred_list = test_optimized_model(\n",
    "        model, test_loader, params, model_name=params.MODEL_NAME\n",
    "    )\n",
    "elif params.MODEL_TYPE == \"Binary_Classification\":\n",
    "    y_pred_list, y_pred_prob_list = test_optimized_model(\n",
    "        model, test_loader, params, model_name=params.MODEL_NAME\n",
    "    )\n",
    "else:\n",
    "    raise Exception(\"Model type must be specified for proper model testing\")\n",
    "\n",
    "\n",
    "# un-nest list if nested i.e. length of input data does not match length of output data\n",
    "if len(y_pred_list) != len(df_values_Y):\n",
    "    y_pred_list = un_nest(y_pred_list)\n",
    "    y_pred_prob_list = un_nest(y_pred_prob_list)\n",
    "else:\n",
    "    pass"
   ]
  },
  {
   "cell_type": "code",
   "execution_count": 33,
   "id": "3c53f7e4",
   "metadata": {},
   "outputs": [
    {
     "name": "stdout",
     "output_type": "stream",
     "text": [
      "              precision    recall  f1-score   support\n",
      "\n",
      "           0       0.84      0.90      0.87      4837\n",
      "           1       0.90      0.90      0.90      4126\n",
      "           2       0.93      0.82      0.87      3346\n",
      "\n",
      "    accuracy                           0.88     12309\n",
      "   macro avg       0.89      0.88      0.88     12309\n",
      "weighted avg       0.88      0.88      0.88     12309\n",
      "\n",
      "Precision for class 0: 0.8389455455070233\n",
      "Recall for class 0: 0.9013851560884846\n",
      "Precision for class 1: 0.9027576197387518\n",
      "Recall for class 1: 0.9045079980610761\n",
      "Precision for class 2: 0.926124916051041\n",
      "Recall for class 2: 0.8242677824267782\n",
      "3\n"
     ]
    },
    {
     "data": {
      "image/png": "[encoded data removed]",
      "text/plain": [
       "<Figure size 640x480 with 2 Axes>"
      ]
     },
     "metadata": {},
     "output_type": "display_data"
    },
    {
     "data": {
      "image/png": "[encoded data removed]",
      "text/plain": [
       "<Figure size 640x480 with 1 Axes>"
      ]
     },
     "metadata": {},
     "output_type": "display_data"
    }
   ],
   "source": [
    "# Call visualization function\n",
    "# calling the testing function and outputing list values of tested model\n",
    "\n",
    "if params.MODEL_TYPE == \"Multi_Class\" or params.MODEL_TYPE == \"Regression\":\n",
    "    confusion_matrix_df = results_output(\n",
    "        y_pred_list,\n",
    "        df_values_Y,\n",
    "        params,\n",
    "        test_name=f\"{params.MODEL_NAME}_hold_out\",\n",
    "        model_name=params.MODEL_NAME,\n",
    "        title=title,\n",
    "    )\n",
    "elif params.MODEL_TYPE == \"Binary_Classification\":\n",
    "    results_output(\n",
    "        y_pred_list,\n",
    "        df_values_Y,\n",
    "        params,\n",
    "        y_pred_prob_list,\n",
    "        test_name=f\"{params.MODEL_NAME}_hold_out\",\n",
    "        model_name=params.MODEL_NAME,\n",
    "    )\n",
    "else:\n",
    "    raise Exception(\"Model type must be specified for proper model testing\")"
   ]
  },
  {
   "cell_type": "code",
   "execution_count": 34,
   "id": "932853de",
   "metadata": {},
   "outputs": [
    {
     "name": "stdout",
     "output_type": "stream",
     "text": [
      "0 DMSO_0.100_DMSO_0.025\n",
      "2 Thapsigargin_10.000_DMSO_0.025\n",
      "1 LPS_100.000_DMSO_0.025\n"
     ]
    }
   ],
   "source": [
    "for i, j in zip(\n",
    "    df_values[\"oneb_Metadata_Treatment_Dose_Inhibitor_Dose\"].unique(),\n",
    "    df[\"oneb_Metadata_Treatment_Dose_Inhibitor_Dose\"].unique(),\n",
    "):\n",
    "    print(i, j)"
   ]
  }
 ],
 "metadata": {
  "jupytext": {
   "cell_metadata_filter": "-all",
   "encoding": "# coding: utf-8",
   "executable": "/usr/bin/env python",
   "formats": "ipynb,py",
   "main_language": "python"
  },
  "kernelspec": {
   "display_name": "Python 3 (ipykernel)",
   "language": "python",
   "name": "python3"
  },
  "language_info": {
   "codemirror_mode": {
    "name": "ipython",
    "version": 3
   },
   "file_extension": ".py",
   "mimetype": "text/x-python",
   "name": "python",
   "nbconvert_exporter": "python",
   "pygments_lexer": "ipython3",
   "version": "3.10.10"
  },
  "vscode": {
   "interpreter": {
    "hash": "72ae02083a9ca7d143c492d1aec380c7bf553ec51bd66e90e72bba65228121b6"
   }
  }
 },
 "nbformat": 4,
 "nbformat_minor": 5
}
