{
 "cells": [
  {
   "attachments": {},
   "cell_type": "markdown",
   "id": "8e60628c",
   "metadata": {},
   "source": [
    "## Hyperparameter tuning via Optuna"
   ]
  },
  {
   "cell_type": "markdown",
   "id": "8fac71a5",
   "metadata": {},
   "source": [
    "### Being a binary model this notebook will be limited to predicting one class 1 or 0, yes or no.\n",
    "### Here I will be predicting if a cell received a treatment or not"
   ]
  },
  {
   "cell_type": "code",
   "execution_count": 1,
   "id": "860a61dd",
   "metadata": {},
   "outputs": [],
   "source": [
    "import sys\n",
    "from pathlib import Path\n",
    "import os\n",
    "\n",
    "import matplotlib.pyplot as plt\n",
    "import numpy as np\n",
    "import optuna\n",
    "import pandas as pd\n",
    "import plotly\n",
    "import seaborn as sns\n",
    "import toml\n",
    "import torch\n",
    "import torch.nn as nn\n",
    "import torch.optim as optim\n",
    "from sklearn import preprocessing\n",
    "\n",
    "from sklearn.model_selection import train_test_split\n",
    "\n",
    "\n",
    "from sklearn.metrics import confusion_matrix\n",
    "from sklearn.metrics import precision_score, recall_score\n",
    "from sklearn.metrics import roc_auc_score\n",
    "\n",
    "from sklearn.metrics import roc_curve, auc\n",
    "\n",
    "import pyarrow.parquet as pq\n",
    "\n",
    "sys.path.append(\"..\")\n",
    "from MLP_utils.utils import parameter_set\n",
    "from MLP_utils.parameters import Parameters\n",
    "from MLP_utils.utils import (\n",
    "    Dataset_formatter,\n",
    "    data_split,\n",
    "    extract_best_trial_params,\n",
    "    objective_model_optimizer,\n",
    "    optimized_model_create,\n",
    "    plot_metric_vs_epoch,\n",
    "    results_output,\n",
    "    test_optimized_model,\n",
    "    train_optimized_model,\n",
    "    un_nest,\n",
    ")\n",
    "\n",
    "\n",
    "sys.path.append(\"../..\")\n",
    "from utils.utils import df_stats"
   ]
  },
  {
   "cell_type": "code",
   "execution_count": 2,
   "id": "44baa945",
   "metadata": {},
   "outputs": [],
   "source": [
    "# Import Data\n",
    "# set data file path under pathlib path for multi-system use\n",
    "\n",
    "\n",
    "file_path = Path(\n",
    "    \"../../../Extracted_Features_(CSV_files)/interstellar_wave3_sc_norm_fs_cellprofiler.csv.gz\"\n",
    ")\n",
    "\n",
    "file_path = Path(\n",
    "    \"../../../Extracted_Features_(CSV_files)/SHSY5Y_preprocessed_df_sc_norm.parquet\"\n",
    ")\n",
    "\n",
    "df = pq.read_table(file_path).to_pandas()\n",
    "# df = pd.read_csv(file_path, engine=\"pyarrow\")"
   ]
  },
  {
   "cell_type": "code",
   "execution_count": 3,
   "id": "394294ce",
   "metadata": {},
   "outputs": [],
   "source": [
    "data = Path(\"../MLP_utils/config.toml\")\n",
    "config = toml.load(data)\n",
    "params = Parameters()\n",
    "params = parameter_set(params, config)"
   ]
  },
  {
   "attachments": {},
   "cell_type": "markdown",
   "id": "5c486e00",
   "metadata": {},
   "source": [
    "#### Set up Data to be compatible with model"
   ]
  },
  {
   "attachments": {},
   "cell_type": "markdown",
   "id": "95754baa",
   "metadata": {},
   "source": [
    "##### Classification Models:\n",
    "Comment out code if using regression"
   ]
  },
  {
   "cell_type": "code",
   "execution_count": 4,
   "id": "b6ea8ac9",
   "metadata": {},
   "outputs": [
    {
     "name": "stdout",
     "output_type": "stream",
     "text": [
      "Selected Catagories are:\n",
      "['DMSO_0.100_DMSO_0.025' 'Thapsigargin_10.000_DMSO_0.025'\n",
      " 'LPS_100.000_DMSO_0.025']\n",
      "The dimensions of the data are: (64842, 2872)\n",
      "Number of total missing values across all columns: 129684\n",
      "Data Subset Is Off\n"
     ]
    }
   ],
   "source": [
    "# Combine treatment with dosage to be able to discern treatments with different doses as a different condition\n",
    "# Combine treatment and dose\n",
    "# df = df.assign(\n",
    "#     Metadata_Treatment_and_Dose=lambda x: df[\"Metadata_treatment\"]\n",
    "#     + \"_\"\n",
    "#     + df[\"Metadata_dose\"]\n",
    "# )\n",
    "\n",
    "# print(\"Unique Catagories are:\")\n",
    "# print(df[\"Metadata_Treatment_and_Dose\"].unique())\n",
    "\n",
    "# Generate df specific to analysis and model\n",
    "df = df.query(\n",
    "    \"oneb_Metadata_Treatment_Dose_Inhibitor_Dose == 'LPS_100.000_DMSO_0.025'| oneb_Metadata_Treatment_Dose_Inhibitor_Dose == 'DMSO_0.100_DMSO_0.025' | oneb_Metadata_Treatment_Dose_Inhibitor_Dose == 'Thapsigargin_10.000_DMSO_0.025'\"\n",
    ")\n",
    "# for binary classification testing\n",
    "# df = df.query(\n",
    "#     \"oneb_Metadata_Treatment_Dose_Inhibitor_Dose == 'LPS_100.000_DMSO_0.025'| oneb_Metadata_Treatment_Dose_Inhibitor_Dose == 'DMSO_0.100_DMSO_0.025'\"\n",
    "# )\n",
    "print(\"Selected Catagories are:\")\n",
    "print(df[\"oneb_Metadata_Treatment_Dose_Inhibitor_Dose\"].unique())\n",
    "# Drop na and reindex accordingly\n",
    "# df = df.dropna()\n",
    "# df = df.reset_index(drop=True)\n",
    "\n",
    "# Check for Nans again\n",
    "df_stats(df)\n",
    "\n",
    "if params.DATA_SUBSET_OPTION == \"True\":\n",
    "    df = df.sample(n=params.DATA_SUBSET_NUMBER)\n",
    "    print(\"Data Subset Is On\")\n",
    "    print(f\"Data is subset to {params.DATA_SUBSET_NUMBER}\")\n",
    "else:\n",
    "    print(\"Data Subset Is Off\")"
   ]
  },
  {
   "cell_type": "code",
   "execution_count": 5,
   "id": "088cff07",
   "metadata": {},
   "outputs": [
    {
     "name": "stdout",
     "output_type": "stream",
     "text": [
      "Wells held out for testing: ['I14' 'L14' 'J21']\n",
      "Wells to use for training, validation, and testing ['B14' 'C14' 'E14' 'B15' 'C15' 'E15' 'J14' 'I15' 'J15' 'L15' 'J16' 'J17'\n",
      " 'J20']\n"
     ]
    }
   ],
   "source": [
    "np.random.seed(seed=0)\n",
    "wells_to_hold = (\n",
    "    df.groupby(\"oneb_Metadata_Treatment_Dose_Inhibitor_Dose\")\n",
    "    .agg(np.random.choice)[\"Metadata_Well\"]\n",
    "    .to_list()\n",
    ")\n",
    "df_holdout = df[df[\"Metadata_Well\"].isin(wells_to_hold)]\n",
    "df = df[~df[\"Metadata_Well\"].isin(wells_to_hold)]\n",
    "\n",
    "\n",
    "print(\"Wells held out for testing:\", df_holdout[\"Metadata_Well\"].unique())\n",
    "print(\n",
    "    \"Wells to use for training, validation, and testing\", df[\"Metadata_Well\"].unique()\n",
    ")"
   ]
  },
  {
   "cell_type": "code",
   "execution_count": 6,
   "id": "786e3a76",
   "metadata": {},
   "outputs": [],
   "source": [
    "# Code snippet for metadata extraction by Jenna Tomkinson\n",
    "df_metadata = list(df.columns[df.columns.str.startswith(\"Metadata\")])\n",
    "\n",
    "# define which columns are data and which are descriptive\n",
    "df_descriptive = df[df_metadata]\n",
    "df_values = df.drop(columns=df_metadata)"
   ]
  },
  {
   "cell_type": "code",
   "execution_count": 7,
   "id": "595afb65",
   "metadata": {},
   "outputs": [],
   "source": [
    "# Creating label encoder\n",
    "le = preprocessing.LabelEncoder()\n",
    "# Converting strings into numbers\n",
    "df_values[\"oneb_Metadata_Treatment_Dose_Inhibitor_Dose\"] = le.fit_transform(\n",
    "    df_values[\"oneb_Metadata_Treatment_Dose_Inhibitor_Dose\"]\n",
    ")\n",
    "# split into X and Y where Y are the predictive column and x are the observable data\n",
    "df_values_X = df_values.drop(\n",
    "    [\n",
    "        \"oneb_Metadata_Treatment_Dose_Inhibitor_Dose\",\n",
    "        \"twob_Metadata_Treatment_Dose_Inhibitor_Dose\",\n",
    "        \"threeb_Metadata_Treatment_Dose_Inhibitor_Dose\",\n",
    "        \"fourb_Metadata_Treatment_Dose_Inhibitor_Dose\",\n",
    "    ],\n",
    "    axis=1,\n",
    ")\n",
    "df_values_Y = df_values[\"oneb_Metadata_Treatment_Dose_Inhibitor_Dose\"]"
   ]
  },
  {
   "attachments": {},
   "cell_type": "markdown",
   "id": "633673ce",
   "metadata": {},
   "source": [
    "##### Regression Model Data Wrangling and Set Up\n",
    "comment out if not using regression"
   ]
  },
  {
   "cell_type": "code",
   "execution_count": 8,
   "id": "e2df24ec",
   "metadata": {},
   "outputs": [],
   "source": [
    "# if params.DATA_SUBSET_OPTION == 'True':\n",
    "#     df = df.sample(n=params.DATA_SUBSET_NUMBER)\n",
    "#     print(\"yes\")\n",
    "# else:\n",
    "#     pass\n",
    "# df_stats(df)\n",
    "# # Drop na and reindex accordingly\n",
    "# df = df.dropna()\n",
    "# df = df.reset_index(drop=True)\n",
    "\n",
    "# # Check for Nans again\n",
    "# df_stats(df)\n",
    "# # Code snippet for metadata extraction by Jenna Tomkinson\n",
    "# df_metadata = list(df.columns[df.columns.str.startswith(\"Metadata\")])\n",
    "# # define which columns are data and which are descriptive\n",
    "# df_descriptive = df[df_metadata]\n",
    "# df_values = df.drop(columns=df_metadata)\n",
    "# df_values_Y = df_values['Nuclei_Texture_InverseDifferenceMoment_CorrER_3_01_256']\n",
    "# df_values_X = df_values.drop('Nuclei_Texture_InverseDifferenceMoment_CorrER_3_01_256', axis=1)"
   ]
  },
  {
   "attachments": {},
   "cell_type": "markdown",
   "id": "260a048e",
   "metadata": {},
   "source": [
    "#### Split Data - All Models can proceed through this point"
   ]
  },
  {
   "cell_type": "code",
   "execution_count": 9,
   "id": "f4feb87f",
   "metadata": {},
   "outputs": [],
   "source": [
    "X_train, X_test, X_val, Y_train, Y_test, Y_val = data_split(\n",
    "    X_vals=df_values_X,\n",
    "    y_vals=df_values_Y,\n",
    "    train_proportion=0.8,\n",
    "    val_proportion=0.1,\n",
    "    test_proportion=0.1,\n",
    "    seed=1,\n",
    "    params=params,\n",
    ")"
   ]
  },
  {
   "cell_type": "code",
   "execution_count": 10,
   "id": "36894826",
   "metadata": {},
   "outputs": [],
   "source": [
    "# produce data objects for train, val and test datasets\n",
    "train_data = Dataset_formatter(\n",
    "    torch.FloatTensor(X_train.values), torch.FloatTensor(Y_train.values)\n",
    ")\n",
    "val_data = Dataset_formatter(\n",
    "    torch.FloatTensor(X_val.values), torch.FloatTensor(Y_val.values)\n",
    ")\n",
    "test_data = Dataset_formatter(\n",
    "    torch.FloatTensor(X_test.values), torch.FloatTensor(Y_test.values)\n",
    ")"
   ]
  },
  {
   "cell_type": "code",
   "execution_count": 11,
   "id": "4382d712",
   "metadata": {},
   "outputs": [
    {
     "name": "stdout",
     "output_type": "stream",
     "text": [
      "Number of in features:  2847\n",
      "Number of out features:  3\n",
      "Multi_Class\n"
     ]
    }
   ],
   "source": [
    "params.IN_FEATURES = X_train.shape[1]\n",
    "print(\"Number of in features: \", params.IN_FEATURES)\n",
    "if params.MODEL_TYPE == \"Regression\":\n",
    "    params.OUT_FEATURES = 1\n",
    "else:\n",
    "    params.OUT_FEATURES = len(\n",
    "        df_values[\"oneb_Metadata_Treatment_Dose_Inhibitor_Dose\"].unique()\n",
    "    )\n",
    "\n",
    "print(\"Number of out features: \", params.OUT_FEATURES)\n",
    "\n",
    "if params.OUT_FEATURES > 2:\n",
    "    params.MODEL_TYPE = \"Multi_Class\"\n",
    "elif params.OUT_FEATURES == 2:\n",
    "    params.OUT_FEATURES = params.OUT_FEATURES - 1\n",
    "    params.MODEL_TYPE = \"Binary_Classification\"\n",
    "elif params.OUT_FEATURES == 1:\n",
    "    params.MODEL_TYPE = \"Regression\"\n",
    "else:\n",
    "    pass\n",
    "print(params.MODEL_TYPE)"
   ]
  },
  {
   "cell_type": "code",
   "execution_count": 12,
   "id": "77effa5c",
   "metadata": {},
   "outputs": [],
   "source": [
    "# convert data class into a dataloader to be compatible with pytorch\n",
    "train_loader = torch.utils.data.DataLoader(\n",
    "    dataset=train_data, batch_size=params.BATCH_SIZE\n",
    ")\n",
    "valid_loader = torch.utils.data.DataLoader(\n",
    "    dataset=val_data, batch_size=params.BATCH_SIZE\n",
    ")\n",
    "test_loader = torch.utils.data.DataLoader(dataset=test_data, batch_size=1)"
   ]
  },
  {
   "cell_type": "code",
   "execution_count": 13,
   "id": "a969042f",
   "metadata": {},
   "outputs": [
    {
     "name": "stderr",
     "output_type": "stream",
     "text": [
      "\u001b[32m[I 2023-05-04 21:21:53,089]\u001b[0m A new study created in memory with name: no-name-5c2e1522-cbf4-4068-8ceb-2d1eac7ec676\u001b[0m\n",
      "\u001b[32m[I 2023-05-04 21:22:51,823]\u001b[0m Trial 0 finished with value: 0.6579585438966751 and parameters: {'n_layers': 3, 'n_units_l0': 2, 'dropout_0': 0.2663147721380371, 'n_units_l1': 6, 'dropout_1': 0.35616326168372625, 'n_units_l2': 8, 'dropout_2': 0.28351798795605665, 'learning_rate': 0.08009439685646869, 'optimizer': 'SGD'}. Best is trial 0 with value: 0.6579585438966751.\u001b[0m\n",
      "\u001b[32m[I 2023-05-04 21:23:47,956]\u001b[0m Trial 1 finished with value: 0.7873816723624866 and parameters: {'n_layers': 1, 'n_units_l0': 7, 'dropout_0': 0.32118010119386375, 'learning_rate': 0.0349495066507295, 'optimizer': 'RMSprop'}. Best is trial 0 with value: 0.6579585438966751.\u001b[0m\n",
      "\u001b[32m[I 2023-05-04 21:24:44,460]\u001b[0m Trial 2 finished with value: 0.31437038764357567 and parameters: {'n_layers': 1, 'n_units_l0': 3, 'dropout_0': 0.1575964858712806, 'learning_rate': 0.09235407598689824, 'optimizer': 'SGD'}. Best is trial 2 with value: 0.31437038764357567.\u001b[0m\n",
      "\u001b[32m[I 2023-05-04 21:25:40,804]\u001b[0m Trial 3 finished with value: 0.5691971037785212 and parameters: {'n_layers': 1, 'n_units_l0': 7, 'dropout_0': 0.2519859548844424, 'learning_rate': 0.03013672929135587, 'optimizer': 'RMSprop'}. Best is trial 2 with value: 0.31437038764357567.\u001b[0m\n",
      "\u001b[32m[I 2023-05-04 21:26:37,929]\u001b[0m Trial 4 finished with value: 0.8625063127279283 and parameters: {'n_layers': 3, 'n_units_l0': 9, 'dropout_0': 0.1415403474735649, 'n_units_l1': 9, 'dropout_1': 0.2371555265755225, 'n_units_l2': 4, 'dropout_2': 0.37427437890002124, 'learning_rate': 0.08930236494866062, 'optimizer': 'RMSprop'}. Best is trial 2 with value: 0.31437038764357567.\u001b[0m\n",
      "\u001b[32m[I 2023-05-04 21:26:39,011]\u001b[0m Trial 5 pruned. \u001b[0m\n",
      "\u001b[32m[I 2023-05-04 21:26:40,201]\u001b[0m Trial 6 pruned. \u001b[0m\n",
      "\u001b[32m[I 2023-05-04 21:26:41,300]\u001b[0m Trial 7 pruned. \u001b[0m\n",
      "\u001b[32m[I 2023-05-04 21:26:42,482]\u001b[0m Trial 8 pruned. \u001b[0m\n",
      "\u001b[32m[I 2023-05-04 21:27:39,200]\u001b[0m Trial 9 finished with value: 0.37069776763518647 and parameters: {'n_layers': 2, 'n_units_l0': 2, 'dropout_0': 0.23703460281503874, 'n_units_l1': 5, 'dropout_1': 0.14989129065505985, 'learning_rate': 0.018327799812641186, 'optimizer': 'Adam'}. Best is trial 2 with value: 0.31437038764357567.\u001b[0m\n"
     ]
    },
    {
     "name": "stdout",
     "output_type": "stream",
     "text": [
      "Validation Accuracy: 92.70270270270268\n",
      "Validation Loss: 0.22000712012251217\n",
      "Training Accuracy: 88.47552647233788\n",
      "Training Loss: 0.31197792243818906\n"
     ]
    },
    {
     "data": {
      "text/plain": [
       "(92.70270270270268,\n",
       " 0.22000712012251217,\n",
       " 88.47552647233788,\n",
       " 0.31197792243818906)"
      ]
     },
     "execution_count": 13,
     "metadata": {},
     "output_type": "execute_result"
    }
   ],
   "source": [
    "# no accuracy function must be loss for regression\n",
    "if params.MODEL_TYPE == \"Regression\":\n",
    "    params.METRIC = \"loss\"\n",
    "    pass\n",
    "\n",
    "\n",
    "# wrap the objective function inside of a lambda function to pass args...\n",
    "objective_lambda_func = lambda trial: objective_model_optimizer(\n",
    "    train_loader,\n",
    "    valid_loader,\n",
    "    trial=trial,\n",
    "    params=params,\n",
    "    metric=params.METRIC,\n",
    "    return_info=False,\n",
    ")\n",
    "\n",
    "\n",
    "# Study is the object for model optimization\n",
    "study = optuna.create_study(direction=f\"{params.DIRECTION}\")\n",
    "# Here I apply the optimize function of the study to the objective function\n",
    "# This optimizes each parameter specified to be optimized from the defined search space\n",
    "study.optimize(objective_lambda_func, n_trials=params.N_TRIALS)\n",
    "# Prints out the best trial's optimized parameters\n",
    "objective_model_optimizer(\n",
    "    train_loader,\n",
    "    valid_loader,\n",
    "    trial=study.best_trial,\n",
    "    params=params,\n",
    "    metric=params.METRIC,\n",
    "    return_info=True,\n",
    ")"
   ]
  },
  {
   "cell_type": "code",
   "execution_count": 14,
   "id": "b2620589",
   "metadata": {},
   "outputs": [
    {
     "data": {
      "application/vnd.plotly.v1+json": {
       "config": {
        "plotlyServerURL": "https://plot.ly"
       },
       "data": [
        {
         "mode": "markers",
         "name": "Objective Value",
         "type": "scatter",
         "x": [
          0,
          1,
          2,
          3,
          4,
          9
         ],
         "y": [
          0.6579585438966751,
          0.7873816723624866,
          0.31437038764357567,
          0.5691971037785212,
          0.8625063127279283,
          0.37069776763518647
         ]
        },
        {
         "name": "Best Value",
         "type": "scatter",
         "x": [
          0,
          1,
          2,
          3,
          4,
          9
         ],
         "y": [
          0.6579585438966751,
          0.6579585438966751,
          0.31437038764357567,
          0.31437038764357567,
          0.31437038764357567,
          0.31437038764357567
         ]
        }
       ],
       "layout": {
        "template": {
         "data": {
          "bar": [
           {
            "error_x": {
             "color": "#2a3f5f"
            },
            "error_y": {
             "color": "#2a3f5f"
            },
            "marker": {
             "line": {
              "color": "#E5ECF6",
              "width": 0.5
             },
             "pattern": {
              "fillmode": "overlay",
              "size": 10,
              "solidity": 0.2
             }
            },
            "type": "bar"
           }
          ],
          "barpolar": [
           {
            "marker": {
             "line": {
              "color": "#E5ECF6",
              "width": 0.5
             },
             "pattern": {
              "fillmode": "overlay",
              "size": 10,
              "solidity": 0.2
             }
            },
            "type": "barpolar"
           }
          ],
          "carpet": [
           {
            "aaxis": {
             "endlinecolor": "#2a3f5f",
             "gridcolor": "white",
             "linecolor": "white",
             "minorgridcolor": "white",
             "startlinecolor": "#2a3f5f"
            },
            "baxis": {
             "endlinecolor": "#2a3f5f",
             "gridcolor": "white",
             "linecolor": "white",
             "minorgridcolor": "white",
             "startlinecolor": "#2a3f5f"
            },
            "type": "carpet"
           }
          ],
          "choropleth": [
           {
            "colorbar": {
             "outlinewidth": 0,
             "ticks": ""
            },
            "type": "choropleth"
           }
          ],
          "contour": [
           {
            "colorbar": {
             "outlinewidth": 0,
             "ticks": ""
            },
            "colorscale": [
             [
              0,
              "#0d0887"
             ],
             [
              0.1111111111111111,
              "#46039f"
             ],
             [
              0.2222222222222222,
              "#7201a8"
             ],
             [
              0.3333333333333333,
              "#9c179e"
             ],
             [
              0.4444444444444444,
              "#bd3786"
             ],
             [
              0.5555555555555556,
              "#d8576b"
             ],
             [
              0.6666666666666666,
              "#ed7953"
             ],
             [
              0.7777777777777778,
              "#fb9f3a"
             ],
             [
              0.8888888888888888,
              "#fdca26"
             ],
             [
              1,
              "#f0f921"
             ]
            ],
            "type": "contour"
           }
          ],
          "contourcarpet": [
           {
            "colorbar": {
             "outlinewidth": 0,
             "ticks": ""
            },
            "type": "contourcarpet"
           }
          ],
          "heatmap": [
           {
            "colorbar": {
             "outlinewidth": 0,
             "ticks": ""
            },
            "colorscale": [
             [
              0,
              "#0d0887"
             ],
             [
              0.1111111111111111,
              "#46039f"
             ],
             [
              0.2222222222222222,
              "#7201a8"
             ],
             [
              0.3333333333333333,
              "#9c179e"
             ],
             [
              0.4444444444444444,
              "#bd3786"
             ],
             [
              0.5555555555555556,
              "#d8576b"
             ],
             [
              0.6666666666666666,
              "#ed7953"
             ],
             [
              0.7777777777777778,
              "#fb9f3a"
             ],
             [
              0.8888888888888888,
              "#fdca26"
             ],
             [
              1,
              "#f0f921"
             ]
            ],
            "type": "heatmap"
           }
          ],
          "heatmapgl": [
           {
            "colorbar": {
             "outlinewidth": 0,
             "ticks": ""
            },
            "colorscale": [
             [
              0,
              "#0d0887"
             ],
             [
              0.1111111111111111,
              "#46039f"
             ],
             [
              0.2222222222222222,
              "#7201a8"
             ],
             [
              0.3333333333333333,
              "#9c179e"
             ],
             [
              0.4444444444444444,
              "#bd3786"
             ],
             [
              0.5555555555555556,
              "#d8576b"
             ],
             [
              0.6666666666666666,
              "#ed7953"
             ],
             [
              0.7777777777777778,
              "#fb9f3a"
             ],
             [
              0.8888888888888888,
              "#fdca26"
             ],
             [
              1,
              "#f0f921"
             ]
            ],
            "type": "heatmapgl"
           }
          ],
          "histogram": [
           {
            "marker": {
             "pattern": {
              "fillmode": "overlay",
              "size": 10,
              "solidity": 0.2
             }
            },
            "type": "histogram"
           }
          ],
          "histogram2d": [
           {
            "colorbar": {
             "outlinewidth": 0,
             "ticks": ""
            },
            "colorscale": [
             [
              0,
              "#0d0887"
             ],
             [
              0.1111111111111111,
              "#46039f"
             ],
             [
              0.2222222222222222,
              "#7201a8"
             ],
             [
              0.3333333333333333,
              "#9c179e"
             ],
             [
              0.4444444444444444,
              "#bd3786"
             ],
             [
              0.5555555555555556,
              "#d8576b"
             ],
             [
              0.6666666666666666,
              "#ed7953"
             ],
             [
              0.7777777777777778,
              "#fb9f3a"
             ],
             [
              0.8888888888888888,
              "#fdca26"
             ],
             [
              1,
              "#f0f921"
             ]
            ],
            "type": "histogram2d"
           }
          ],
          "histogram2dcontour": [
           {
            "colorbar": {
             "outlinewidth": 0,
             "ticks": ""
            },
            "colorscale": [
             [
              0,
              "#0d0887"
             ],
             [
              0.1111111111111111,
              "#46039f"
             ],
             [
              0.2222222222222222,
              "#7201a8"
             ],
             [
              0.3333333333333333,
              "#9c179e"
             ],
             [
              0.4444444444444444,
              "#bd3786"
             ],
             [
              0.5555555555555556,
              "#d8576b"
             ],
             [
              0.6666666666666666,
              "#ed7953"
             ],
             [
              0.7777777777777778,
              "#fb9f3a"
             ],
             [
              0.8888888888888888,
              "#fdca26"
             ],
             [
              1,
              "#f0f921"
             ]
            ],
            "type": "histogram2dcontour"
           }
          ],
          "mesh3d": [
           {
            "colorbar": {
             "outlinewidth": 0,
             "ticks": ""
            },
            "type": "mesh3d"
           }
          ],
          "parcoords": [
           {
            "line": {
             "colorbar": {
              "outlinewidth": 0,
              "ticks": ""
             }
            },
            "type": "parcoords"
           }
          ],
          "pie": [
           {
            "automargin": true,
            "type": "pie"
           }
          ],
          "scatter": [
           {
            "fillpattern": {
             "fillmode": "overlay",
             "size": 10,
             "solidity": 0.2
            },
            "type": "scatter"
           }
          ],
          "scatter3d": [
           {
            "line": {
             "colorbar": {
              "outlinewidth": 0,
              "ticks": ""
             }
            },
            "marker": {
             "colorbar": {
              "outlinewidth": 0,
              "ticks": ""
             }
            },
            "type": "scatter3d"
           }
          ],
          "scattercarpet": [
           {
            "marker": {
             "colorbar": {
              "outlinewidth": 0,
              "ticks": ""
             }
            },
            "type": "scattercarpet"
           }
          ],
          "scattergeo": [
           {
            "marker": {
             "colorbar": {
              "outlinewidth": 0,
              "ticks": ""
             }
            },
            "type": "scattergeo"
           }
          ],
          "scattergl": [
           {
            "marker": {
             "colorbar": {
              "outlinewidth": 0,
              "ticks": ""
             }
            },
            "type": "scattergl"
           }
          ],
          "scattermapbox": [
           {
            "marker": {
             "colorbar": {
              "outlinewidth": 0,
              "ticks": ""
             }
            },
            "type": "scattermapbox"
           }
          ],
          "scatterpolar": [
           {
            "marker": {
             "colorbar": {
              "outlinewidth": 0,
              "ticks": ""
             }
            },
            "type": "scatterpolar"
           }
          ],
          "scatterpolargl": [
           {
            "marker": {
             "colorbar": {
              "outlinewidth": 0,
              "ticks": ""
             }
            },
            "type": "scatterpolargl"
           }
          ],
          "scatterternary": [
           {
            "marker": {
             "colorbar": {
              "outlinewidth": 0,
              "ticks": ""
             }
            },
            "type": "scatterternary"
           }
          ],
          "surface": [
           {
            "colorbar": {
             "outlinewidth": 0,
             "ticks": ""
            },
            "colorscale": [
             [
              0,
              "#0d0887"
             ],
             [
              0.1111111111111111,
              "#46039f"
             ],
             [
              0.2222222222222222,
              "#7201a8"
             ],
             [
              0.3333333333333333,
              "#9c179e"
             ],
             [
              0.4444444444444444,
              "#bd3786"
             ],
             [
              0.5555555555555556,
              "#d8576b"
             ],
             [
              0.6666666666666666,
              "#ed7953"
             ],
             [
              0.7777777777777778,
              "#fb9f3a"
             ],
             [
              0.8888888888888888,
              "#fdca26"
             ],
             [
              1,
              "#f0f921"
             ]
            ],
            "type": "surface"
           }
          ],
          "table": [
           {
            "cells": {
             "fill": {
              "color": "#EBF0F8"
             },
             "line": {
              "color": "white"
             }
            },
            "header": {
             "fill": {
              "color": "#C8D4E3"
             },
             "line": {
              "color": "white"
             }
            },
            "type": "table"
           }
          ]
         },
         "layout": {
          "annotationdefaults": {
           "arrowcolor": "#2a3f5f",
           "arrowhead": 0,
           "arrowwidth": 1
          },
          "autotypenumbers": "strict",
          "coloraxis": {
           "colorbar": {
            "outlinewidth": 0,
            "ticks": ""
           }
          },
          "colorscale": {
           "diverging": [
            [
             0,
             "#8e0152"
            ],
            [
             0.1,
             "#c51b7d"
            ],
            [
             0.2,
             "#de77ae"
            ],
            [
             0.3,
             "#f1b6da"
            ],
            [
             0.4,
             "#fde0ef"
            ],
            [
             0.5,
             "#f7f7f7"
            ],
            [
             0.6,
             "#e6f5d0"
            ],
            [
             0.7,
             "#b8e186"
            ],
            [
             0.8,
             "#7fbc41"
            ],
            [
             0.9,
             "#4d9221"
            ],
            [
             1,
             "#276419"
            ]
           ],
           "sequential": [
            [
             0,
             "#0d0887"
            ],
            [
             0.1111111111111111,
             "#46039f"
            ],
            [
             0.2222222222222222,
             "#7201a8"
            ],
            [
             0.3333333333333333,
             "#9c179e"
            ],
            [
             0.4444444444444444,
             "#bd3786"
            ],
            [
             0.5555555555555556,
             "#d8576b"
            ],
            [
             0.6666666666666666,
             "#ed7953"
            ],
            [
             0.7777777777777778,
             "#fb9f3a"
            ],
            [
             0.8888888888888888,
             "#fdca26"
            ],
            [
             1,
             "#f0f921"
            ]
           ],
           "sequentialminus": [
            [
             0,
             "#0d0887"
            ],
            [
             0.1111111111111111,
             "#46039f"
            ],
            [
             0.2222222222222222,
             "#7201a8"
            ],
            [
             0.3333333333333333,
             "#9c179e"
            ],
            [
             0.4444444444444444,
             "#bd3786"
            ],
            [
             0.5555555555555556,
             "#d8576b"
            ],
            [
             0.6666666666666666,
             "#ed7953"
            ],
            [
             0.7777777777777778,
             "#fb9f3a"
            ],
            [
             0.8888888888888888,
             "#fdca26"
            ],
            [
             1,
             "#f0f921"
            ]
           ]
          },
          "colorway": [
           "#636efa",
           "#EF553B",
           "#00cc96",
           "#ab63fa",
           "#FFA15A",
           "#19d3f3",
           "#FF6692",
           "#B6E880",
           "#FF97FF",
           "#FECB52"
          ],
          "font": {
           "color": "#2a3f5f"
          },
          "geo": {
           "bgcolor": "white",
           "lakecolor": "white",
           "landcolor": "#E5ECF6",
           "showlakes": true,
           "showland": true,
           "subunitcolor": "white"
          },
          "hoverlabel": {
           "align": "left"
          },
          "hovermode": "closest",
          "mapbox": {
           "style": "light"
          },
          "paper_bgcolor": "white",
          "plot_bgcolor": "#E5ECF6",
          "polar": {
           "angularaxis": {
            "gridcolor": "white",
            "linecolor": "white",
            "ticks": ""
           },
           "bgcolor": "#E5ECF6",
           "radialaxis": {
            "gridcolor": "white",
            "linecolor": "white",
            "ticks": ""
           }
          },
          "scene": {
           "xaxis": {
            "backgroundcolor": "#E5ECF6",
            "gridcolor": "white",
            "gridwidth": 2,
            "linecolor": "white",
            "showbackground": true,
            "ticks": "",
            "zerolinecolor": "white"
           },
           "yaxis": {
            "backgroundcolor": "#E5ECF6",
            "gridcolor": "white",
            "gridwidth": 2,
            "linecolor": "white",
            "showbackground": true,
            "ticks": "",
            "zerolinecolor": "white"
           },
           "zaxis": {
            "backgroundcolor": "#E5ECF6",
            "gridcolor": "white",
            "gridwidth": 2,
            "linecolor": "white",
            "showbackground": true,
            "ticks": "",
            "zerolinecolor": "white"
           }
          },
          "shapedefaults": {
           "line": {
            "color": "#2a3f5f"
           }
          },
          "ternary": {
           "aaxis": {
            "gridcolor": "white",
            "linecolor": "white",
            "ticks": ""
           },
           "baxis": {
            "gridcolor": "white",
            "linecolor": "white",
            "ticks": ""
           },
           "bgcolor": "#E5ECF6",
           "caxis": {
            "gridcolor": "white",
            "linecolor": "white",
            "ticks": ""
           }
          },
          "title": {
           "x": 0.05
          },
          "xaxis": {
           "automargin": true,
           "gridcolor": "white",
           "linecolor": "white",
           "ticks": "",
           "title": {
            "standoff": 15
           },
           "zerolinecolor": "white",
           "zerolinewidth": 2
          },
          "yaxis": {
           "automargin": true,
           "gridcolor": "white",
           "linecolor": "white",
           "ticks": "",
           "title": {
            "standoff": 15
           },
           "zerolinecolor": "white",
           "zerolinewidth": 2
          }
         }
        },
        "title": {
         "text": "Optimization History Plot"
        },
        "xaxis": {
         "title": {
          "text": "Trial"
         }
        },
        "yaxis": {
         "title": {
          "text": "Objective Value"
         }
        }
       }
      }
     },
     "metadata": {},
     "output_type": "display_data"
    }
   ],
   "source": [
    "fig = optuna.visualization.plot_optimization_history(study)\n",
    "graph_path = Path(f\"../figures/{params.MODEL_TYPE}/{params.MODEL_NAME}/\")\n",
    "if not os.path.exists(graph_path):\n",
    "    os.makedirs(graph_path)\n",
    "graph_path = f\"../figures/{params.MODEL_TYPE}/{params.MODEL_NAME}/plot_optimization_history_graph\"\n",
    "fig.write_image(Path(f\"{graph_path}.png\"))\n",
    "fig.show()"
   ]
  },
  {
   "cell_type": "code",
   "execution_count": 15,
   "id": "92103de1",
   "metadata": {},
   "outputs": [
    {
     "data": {
      "application/vnd.plotly.v1+json": {
       "config": {
        "plotlyServerURL": "https://plot.ly"
       },
       "data": [
        {
         "marker": {
          "maxdisplayed": 10
         },
         "mode": "lines+markers",
         "name": "Trial0",
         "type": "scatter",
         "x": [
          0,
          1,
          2,
          3,
          4,
          5,
          6,
          7,
          8,
          9,
          10,
          11,
          12,
          13,
          14,
          15,
          16,
          17,
          18,
          19,
          20,
          21,
          22,
          23,
          24,
          25,
          26,
          27,
          28,
          29,
          30,
          31,
          32,
          33,
          34,
          35,
          36,
          37,
          38,
          39,
          40,
          41,
          42,
          43,
          44,
          45,
          46,
          47,
          48,
          49
         ],
         "y": [
          0.8382039070129395,
          0.8060578157504399,
          0.7822275691562228,
          0.7640436068177223,
          0.7472693264484406,
          0.7434263312154346,
          0.7297529379526774,
          0.720046194891135,
          0.7696402227437056,
          0.7579283088445664,
          0.7480063736438751,
          0.7394368615415362,
          0.7309664189815521,
          0.7238432992072333,
          0.7176653497748905,
          0.7117770984768867,
          0.7068760091183233,
          0.7024375724571723,
          0.6980150373358476,
          0.6936046620210011,
          0.7160621663880726,
          0.7121788629076696,
          0.7079762794833251,
          0.7035009761651357,
          0.699534345070521,
          0.6970246804830356,
          0.6981239241582377,
          0.6945601570464316,
          0.6915146547487412,
          0.6885505381557676,
          0.6874921648733077,
          0.6849542995914817,
          0.682435489664174,
          0.6797378369990517,
          0.6808985111259278,
          0.6787866163584921,
          0.6808667870255204,
          0.679105008380455,
          0.677609780150601,
          0.6752223797142506,
          0.6741765289287257,
          0.6722162791660854,
          0.6702459942000781,
          0.6683284565806389,
          0.6665038890308804,
          0.6647381147612696,
          0.6627828628881604,
          0.6610257130944066,
          0.6594360807315022,
          0.6579585438966751
         ]
        },
        {
         "marker": {
          "maxdisplayed": 10
         },
         "mode": "lines+markers",
         "name": "Trial1",
         "type": "scatter",
         "x": [
          0,
          1,
          2,
          3,
          4,
          5,
          6,
          7,
          8,
          9,
          10,
          11,
          12,
          13,
          14,
          15,
          16,
          17,
          18,
          19,
          20,
          21,
          22,
          23,
          24,
          25,
          26,
          27,
          28,
          29,
          30,
          31,
          32,
          33,
          34,
          35,
          36,
          37,
          38,
          39,
          40,
          41,
          42,
          43,
          44,
          45,
          46,
          47,
          48,
          49
         ],
         "y": [
          0.8751862645149231,
          1.0459104080994925,
          0.9434968928496045,
          0.9217243144909542,
          0.9158661405245464,
          0.8431897784272832,
          0.7810192427464895,
          0.7436708994209766,
          0.7618444440541444,
          0.7814352770646413,
          0.7522599760330085,
          0.7383437885178461,
          0.7244392442397583,
          0.70355963884365,
          0.687818999754058,
          0.6812948286533356,
          0.6661116580168407,
          0.6531148693627782,
          0.6450309329911282,
          0.7450787002841632,
          0.7286895558474557,
          0.7183712775057013,
          0.7050296033638112,
          0.6956306027455463,
          0.6998520503441493,
          0.916296855188333,
          0.9130706693287249,
          0.8973717838525772,
          1.0099795090741124,
          0.9925610409842597,
          0.9739835978515686,
          0.9671491174958646,
          0.9510584327608649,
          0.9349459177430939,
          0.9230217898175829,
          0.9078713565788886,
          0.8934767780540225,
          0.8809210060719858,
          0.8846515599224302,
          0.8773681584745645,
          0.8676092343601753,
          0.8560823046025776,
          0.8457634637291118,
          0.8367020072359028,
          0.8271294886315311,
          0.8189075458524885,
          0.8092336557435652,
          0.8014567222239243,
          0.7950189108548522,
          0.7873816723624866
         ]
        },
        {
         "marker": {
          "maxdisplayed": 10
         },
         "mode": "lines+markers",
         "name": "Trial2",
         "type": "scatter",
         "x": [
          0,
          1,
          2,
          3,
          4,
          5,
          6,
          7,
          8,
          9,
          10,
          11,
          12,
          13,
          14,
          15,
          16,
          17,
          18,
          19,
          20,
          21,
          22,
          23,
          24,
          25,
          26,
          27,
          28,
          29,
          30,
          31,
          32,
          33,
          34,
          35,
          36,
          37,
          38,
          39,
          40,
          41,
          42,
          43,
          44,
          45,
          46,
          47,
          48,
          49
         ],
         "y": [
          0.5682673950990041,
          0.5105034733812015,
          0.5269983592960571,
          0.4975204293926558,
          0.5929959515730541,
          0.5500060634480584,
          0.5195964801879157,
          0.4935699713726839,
          0.47206137522503183,
          0.45945954471826556,
          0.4460861335198084,
          0.4328831657767296,
          0.4211851003078314,
          0.4151818993545714,
          0.4075702577829361,
          0.3997988384217024,
          0.39200008777426737,
          0.3849929560113836,
          0.378699810097092,
          0.37272590820988016,
          0.3701000031497743,
          0.36499392184795754,
          0.36140213917562924,
          0.3569803449014823,
          0.3536544973651568,
          0.3503047567911637,
          0.34666861115414416,
          0.3481942915490695,
          0.34545549356389316,
          0.3422711386448807,
          0.33912740367394617,
          0.33611189504154027,
          0.33307958258823916,
          0.3466031067073345,
          0.34372615878071106,
          0.34076890735714527,
          0.33859003623863604,
          0.33676785132602644,
          0.3351675182198867,
          0.3325892355913917,
          0.33022363047774245,
          0.3287275874662021,
          0.3265395591887393,
          0.32444058567511314,
          0.3225133532727206,
          0.3210387589490932,
          0.31935986606998645,
          0.31786421143139404,
          0.31595565819618654,
          0.31437038764357567
         ]
        },
        {
         "marker": {
          "maxdisplayed": 10
         },
         "mode": "lines+markers",
         "name": "Trial3",
         "type": "scatter",
         "x": [
          0,
          1,
          2,
          3,
          4,
          5,
          6,
          7,
          8,
          9,
          10,
          11,
          12,
          13,
          14,
          15,
          16,
          17,
          18,
          19,
          20,
          21,
          22,
          23,
          24,
          25,
          26,
          27,
          28,
          29,
          30,
          31,
          32,
          33,
          34,
          35,
          36,
          37,
          38,
          39,
          40,
          41,
          42,
          43,
          44,
          45,
          46,
          47,
          48,
          49
         ],
         "y": [
          0.6795557339986166,
          0.6064800967772802,
          0.5602150923675961,
          0.5046646681924661,
          0.4854051500558853,
          0.474453441798687,
          0.49967442736739204,
          0.5346077413608631,
          0.5060044825077057,
          0.7517603188753128,
          0.7187707225481669,
          0.6998950557576284,
          0.6897652256183134,
          0.6774672543009121,
          0.6504700755079588,
          0.6260443646460772,
          0.6145073289380354,
          0.599496736018746,
          0.5878941176230447,
          0.5834739158550898,
          0.5673819850125009,
          0.7537884796884927,
          0.7427127617208854,
          0.725479866998891,
          0.7088173175851504,
          0.6924060490459969,
          0.6991894350927553,
          0.6897180833454643,
          0.6759990399767613,
          0.6637144337925647,
          0.6752527273630584,
          0.6641263304433475,
          0.651343102256457,
          0.639085198661276,
          0.6591845733069239,
          0.6507670932483894,
          0.6409332164907241,
          0.6309368264648999,
          0.62135833571864,
          0.6121780980999272,
          0.6060109117287931,
          0.5983712015052637,
          0.5926967564132787,
          0.5887138548335342,
          0.581118278812479,
          0.5834570477406184,
          0.5804715470430698,
          0.5762924511606494,
          0.572713927144096,
          0.5691971037785212
         ]
        },
        {
         "marker": {
          "maxdisplayed": 10
         },
         "mode": "lines+markers",
         "name": "Trial4",
         "type": "scatter",
         "x": [
          0,
          1,
          2,
          3,
          4,
          5,
          6,
          7,
          8,
          9,
          10,
          11,
          12,
          13,
          14,
          15,
          16,
          17,
          18,
          19,
          20,
          21,
          22,
          23,
          24,
          25,
          26,
          27,
          28,
          29,
          30,
          31,
          32,
          33,
          34,
          35,
          36,
          37,
          38,
          39,
          40,
          41,
          42,
          43,
          44,
          45,
          46,
          47,
          48,
          49
         ],
         "y": [
          1.0489603678385417,
          1.0442490875720978,
          1.0409424304962158,
          1.036993036667506,
          1.0353276968002318,
          1.0324862235122256,
          1.0291207134723663,
          1.0244840731223426,
          1.0175988475481672,
          1.0104903141657513,
          1.005366771510153,
          0.9940281709035238,
          0.9875352420868018,
          0.9784431883266994,
          0.9687301483419206,
          0.9595243738343319,
          0.9508040874612099,
          0.9422315497089316,
          0.9338389394576091,
          0.9251631016532581,
          0.9185752021887946,
          0.9101707352833315,
          0.9016782628453296,
          0.9032584668861495,
          0.8961032684644065,
          0.8902251193156611,
          0.886808819608924,
          0.880338231012935,
          0.8752914173849701,
          0.8732563459210928,
          0.8714971555176604,
          0.8687334647402167,
          0.8662549263299113,
          0.8638791935700996,
          0.8624079261507306,
          0.8614594359640722,
          0.8593720686328303,
          0.8575416607292075,
          0.8555104289299402,
          0.8540497603515785,
          0.8627671291673087,
          0.86258255867731,
          0.8654303382071414,
          0.863486204183463,
          0.8617318906165936,
          0.8618486584096716,
          0.8622697257826515,
          0.8615264882230097,
          0.8629076201088576,
          0.8625063127279283
         ]
        },
        {
         "marker": {
          "maxdisplayed": 10
         },
         "mode": "lines+markers",
         "name": "Trial5",
         "type": "scatter",
         "x": [
          0
         ],
         "y": [
          3.2751271724700928
         ]
        },
        {
         "marker": {
          "maxdisplayed": 10
         },
         "mode": "lines+markers",
         "name": "Trial6",
         "type": "scatter",
         "x": [
          0
         ],
         "y": [
          1.012625088294347
         ]
        },
        {
         "marker": {
          "maxdisplayed": 10
         },
         "mode": "lines+markers",
         "name": "Trial7",
         "type": "scatter",
         "x": [
          0
         ],
         "y": [
          0.9643413126468658
         ]
        },
        {
         "marker": {
          "maxdisplayed": 10
         },
         "mode": "lines+markers",
         "name": "Trial8",
         "type": "scatter",
         "x": [
          0
         ],
         "y": [
          0.9313658674558004
         ]
        },
        {
         "marker": {
          "maxdisplayed": 10
         },
         "mode": "lines+markers",
         "name": "Trial9",
         "type": "scatter",
         "x": [
          0,
          1,
          2,
          3,
          4,
          5,
          6,
          7,
          8,
          9,
          10,
          11,
          12,
          13,
          14,
          15,
          16,
          17,
          18,
          19,
          20,
          21,
          22,
          23,
          24,
          25,
          26,
          27,
          28,
          29,
          30,
          31,
          32,
          33,
          34,
          35,
          36,
          37,
          38,
          39,
          40,
          41,
          42,
          43,
          44,
          45,
          46,
          47,
          48,
          49
         ],
         "y": [
          0.5680891275405884,
          0.5100164785981178,
          0.4856085975964864,
          0.46907051155964535,
          0.4534316947062811,
          0.4472734795676338,
          0.4382933690434411,
          0.4341890625655651,
          0.428687553162928,
          0.42274071623881665,
          0.4230521944436161,
          0.41914617311623364,
          0.4147988829093102,
          0.4123958668538502,
          0.4095796704292297,
          0.40710066786656773,
          0.4042982561331169,
          0.4011006493259359,
          0.3991409087913078,
          0.3971402826408545,
          0.39541426963276327,
          0.39342330938035786,
          0.39278864320637513,
          0.3909049361116356,
          0.3886891279617945,
          0.387587359891488,
          0.3864126297426812,
          0.3860145159775302,
          0.38472777348140186,
          0.38294193016158207,
          0.3837205894211287,
          0.3830870973567168,
          0.38256467336958105,
          0.38213479942550843,
          0.38135259293374557,
          0.38009983590907515,
          0.3791296534441612,
          0.3782134914868756,
          0.3774734824641138,
          0.3768856742729743,
          0.3761739899230197,
          0.37563119686785196,
          0.3746988704038221,
          0.37400443389108684,
          0.37363672455151875,
          0.3727072361802709,
          0.37208025421656615,
          0.3714975419764717,
          0.3709989382701666,
          0.37069776763518647
         ]
        }
       ],
       "layout": {
        "showlegend": false,
        "template": {
         "data": {
          "bar": [
           {
            "error_x": {
             "color": "#2a3f5f"
            },
            "error_y": {
             "color": "#2a3f5f"
            },
            "marker": {
             "line": {
              "color": "#E5ECF6",
              "width": 0.5
             },
             "pattern": {
              "fillmode": "overlay",
              "size": 10,
              "solidity": 0.2
             }
            },
            "type": "bar"
           }
          ],
          "barpolar": [
           {
            "marker": {
             "line": {
              "color": "#E5ECF6",
              "width": 0.5
             },
             "pattern": {
              "fillmode": "overlay",
              "size": 10,
              "solidity": 0.2
             }
            },
            "type": "barpolar"
           }
          ],
          "carpet": [
           {
            "aaxis": {
             "endlinecolor": "#2a3f5f",
             "gridcolor": "white",
             "linecolor": "white",
             "minorgridcolor": "white",
             "startlinecolor": "#2a3f5f"
            },
            "baxis": {
             "endlinecolor": "#2a3f5f",
             "gridcolor": "white",
             "linecolor": "white",
             "minorgridcolor": "white",
             "startlinecolor": "#2a3f5f"
            },
            "type": "carpet"
           }
          ],
          "choropleth": [
           {
            "colorbar": {
             "outlinewidth": 0,
             "ticks": ""
            },
            "type": "choropleth"
           }
          ],
          "contour": [
           {
            "colorbar": {
             "outlinewidth": 0,
             "ticks": ""
            },
            "colorscale": [
             [
              0,
              "#0d0887"
             ],
             [
              0.1111111111111111,
              "#46039f"
             ],
             [
              0.2222222222222222,
              "#7201a8"
             ],
             [
              0.3333333333333333,
              "#9c179e"
             ],
             [
              0.4444444444444444,
              "#bd3786"
             ],
             [
              0.5555555555555556,
              "#d8576b"
             ],
             [
              0.6666666666666666,
              "#ed7953"
             ],
             [
              0.7777777777777778,
              "#fb9f3a"
             ],
             [
              0.8888888888888888,
              "#fdca26"
             ],
             [
              1,
              "#f0f921"
             ]
            ],
            "type": "contour"
           }
          ],
          "contourcarpet": [
           {
            "colorbar": {
             "outlinewidth": 0,
             "ticks": ""
            },
            "type": "contourcarpet"
           }
          ],
          "heatmap": [
           {
            "colorbar": {
             "outlinewidth": 0,
             "ticks": ""
            },
            "colorscale": [
             [
              0,
              "#0d0887"
             ],
             [
              0.1111111111111111,
              "#46039f"
             ],
             [
              0.2222222222222222,
              "#7201a8"
             ],
             [
              0.3333333333333333,
              "#9c179e"
             ],
             [
              0.4444444444444444,
              "#bd3786"
             ],
             [
              0.5555555555555556,
              "#d8576b"
             ],
             [
              0.6666666666666666,
              "#ed7953"
             ],
             [
              0.7777777777777778,
              "#fb9f3a"
             ],
             [
              0.8888888888888888,
              "#fdca26"
             ],
             [
              1,
              "#f0f921"
             ]
            ],
            "type": "heatmap"
           }
          ],
          "heatmapgl": [
           {
            "colorbar": {
             "outlinewidth": 0,
             "ticks": ""
            },
            "colorscale": [
             [
              0,
              "#0d0887"
             ],
             [
              0.1111111111111111,
              "#46039f"
             ],
             [
              0.2222222222222222,
              "#7201a8"
             ],
             [
              0.3333333333333333,
              "#9c179e"
             ],
             [
              0.4444444444444444,
              "#bd3786"
             ],
             [
              0.5555555555555556,
              "#d8576b"
             ],
             [
              0.6666666666666666,
              "#ed7953"
             ],
             [
              0.7777777777777778,
              "#fb9f3a"
             ],
             [
              0.8888888888888888,
              "#fdca26"
             ],
             [
              1,
              "#f0f921"
             ]
            ],
            "type": "heatmapgl"
           }
          ],
          "histogram": [
           {
            "marker": {
             "pattern": {
              "fillmode": "overlay",
              "size": 10,
              "solidity": 0.2
             }
            },
            "type": "histogram"
           }
          ],
          "histogram2d": [
           {
            "colorbar": {
             "outlinewidth": 0,
             "ticks": ""
            },
            "colorscale": [
             [
              0,
              "#0d0887"
             ],
             [
              0.1111111111111111,
              "#46039f"
             ],
             [
              0.2222222222222222,
              "#7201a8"
             ],
             [
              0.3333333333333333,
              "#9c179e"
             ],
             [
              0.4444444444444444,
              "#bd3786"
             ],
             [
              0.5555555555555556,
              "#d8576b"
             ],
             [
              0.6666666666666666,
              "#ed7953"
             ],
             [
              0.7777777777777778,
              "#fb9f3a"
             ],
             [
              0.8888888888888888,
              "#fdca26"
             ],
             [
              1,
              "#f0f921"
             ]
            ],
            "type": "histogram2d"
           }
          ],
          "histogram2dcontour": [
           {
            "colorbar": {
             "outlinewidth": 0,
             "ticks": ""
            },
            "colorscale": [
             [
              0,
              "#0d0887"
             ],
             [
              0.1111111111111111,
              "#46039f"
             ],
             [
              0.2222222222222222,
              "#7201a8"
             ],
             [
              0.3333333333333333,
              "#9c179e"
             ],
             [
              0.4444444444444444,
              "#bd3786"
             ],
             [
              0.5555555555555556,
              "#d8576b"
             ],
             [
              0.6666666666666666,
              "#ed7953"
             ],
             [
              0.7777777777777778,
              "#fb9f3a"
             ],
             [
              0.8888888888888888,
              "#fdca26"
             ],
             [
              1,
              "#f0f921"
             ]
            ],
            "type": "histogram2dcontour"
           }
          ],
          "mesh3d": [
           {
            "colorbar": {
             "outlinewidth": 0,
             "ticks": ""
            },
            "type": "mesh3d"
           }
          ],
          "parcoords": [
           {
            "line": {
             "colorbar": {
              "outlinewidth": 0,
              "ticks": ""
             }
            },
            "type": "parcoords"
           }
          ],
          "pie": [
           {
            "automargin": true,
            "type": "pie"
           }
          ],
          "scatter": [
           {
            "fillpattern": {
             "fillmode": "overlay",
             "size": 10,
             "solidity": 0.2
            },
            "type": "scatter"
           }
          ],
          "scatter3d": [
           {
            "line": {
             "colorbar": {
              "outlinewidth": 0,
              "ticks": ""
             }
            },
            "marker": {
             "colorbar": {
              "outlinewidth": 0,
              "ticks": ""
             }
            },
            "type": "scatter3d"
           }
          ],
          "scattercarpet": [
           {
            "marker": {
             "colorbar": {
              "outlinewidth": 0,
              "ticks": ""
             }
            },
            "type": "scattercarpet"
           }
          ],
          "scattergeo": [
           {
            "marker": {
             "colorbar": {
              "outlinewidth": 0,
              "ticks": ""
             }
            },
            "type": "scattergeo"
           }
          ],
          "scattergl": [
           {
            "marker": {
             "colorbar": {
              "outlinewidth": 0,
              "ticks": ""
             }
            },
            "type": "scattergl"
           }
          ],
          "scattermapbox": [
           {
            "marker": {
             "colorbar": {
              "outlinewidth": 0,
              "ticks": ""
             }
            },
            "type": "scattermapbox"
           }
          ],
          "scatterpolar": [
           {
            "marker": {
             "colorbar": {
              "outlinewidth": 0,
              "ticks": ""
             }
            },
            "type": "scatterpolar"
           }
          ],
          "scatterpolargl": [
           {
            "marker": {
             "colorbar": {
              "outlinewidth": 0,
              "ticks": ""
             }
            },
            "type": "scatterpolargl"
           }
          ],
          "scatterternary": [
           {
            "marker": {
             "colorbar": {
              "outlinewidth": 0,
              "ticks": ""
             }
            },
            "type": "scatterternary"
           }
          ],
          "surface": [
           {
            "colorbar": {
             "outlinewidth": 0,
             "ticks": ""
            },
            "colorscale": [
             [
              0,
              "#0d0887"
             ],
             [
              0.1111111111111111,
              "#46039f"
             ],
             [
              0.2222222222222222,
              "#7201a8"
             ],
             [
              0.3333333333333333,
              "#9c179e"
             ],
             [
              0.4444444444444444,
              "#bd3786"
             ],
             [
              0.5555555555555556,
              "#d8576b"
             ],
             [
              0.6666666666666666,
              "#ed7953"
             ],
             [
              0.7777777777777778,
              "#fb9f3a"
             ],
             [
              0.8888888888888888,
              "#fdca26"
             ],
             [
              1,
              "#f0f921"
             ]
            ],
            "type": "surface"
           }
          ],
          "table": [
           {
            "cells": {
             "fill": {
              "color": "#EBF0F8"
             },
             "line": {
              "color": "white"
             }
            },
            "header": {
             "fill": {
              "color": "#C8D4E3"
             },
             "line": {
              "color": "white"
             }
            },
            "type": "table"
           }
          ]
         },
         "layout": {
          "annotationdefaults": {
           "arrowcolor": "#2a3f5f",
           "arrowhead": 0,
           "arrowwidth": 1
          },
          "autotypenumbers": "strict",
          "coloraxis": {
           "colorbar": {
            "outlinewidth": 0,
            "ticks": ""
           }
          },
          "colorscale": {
           "diverging": [
            [
             0,
             "#8e0152"
            ],
            [
             0.1,
             "#c51b7d"
            ],
            [
             0.2,
             "#de77ae"
            ],
            [
             0.3,
             "#f1b6da"
            ],
            [
             0.4,
             "#fde0ef"
            ],
            [
             0.5,
             "#f7f7f7"
            ],
            [
             0.6,
             "#e6f5d0"
            ],
            [
             0.7,
             "#b8e186"
            ],
            [
             0.8,
             "#7fbc41"
            ],
            [
             0.9,
             "#4d9221"
            ],
            [
             1,
             "#276419"
            ]
           ],
           "sequential": [
            [
             0,
             "#0d0887"
            ],
            [
             0.1111111111111111,
             "#46039f"
            ],
            [
             0.2222222222222222,
             "#7201a8"
            ],
            [
             0.3333333333333333,
             "#9c179e"
            ],
            [
             0.4444444444444444,
             "#bd3786"
            ],
            [
             0.5555555555555556,
             "#d8576b"
            ],
            [
             0.6666666666666666,
             "#ed7953"
            ],
            [
             0.7777777777777778,
             "#fb9f3a"
            ],
            [
             0.8888888888888888,
             "#fdca26"
            ],
            [
             1,
             "#f0f921"
            ]
           ],
           "sequentialminus": [
            [
             0,
             "#0d0887"
            ],
            [
             0.1111111111111111,
             "#46039f"
            ],
            [
             0.2222222222222222,
             "#7201a8"
            ],
            [
             0.3333333333333333,
             "#9c179e"
            ],
            [
             0.4444444444444444,
             "#bd3786"
            ],
            [
             0.5555555555555556,
             "#d8576b"
            ],
            [
             0.6666666666666666,
             "#ed7953"
            ],
            [
             0.7777777777777778,
             "#fb9f3a"
            ],
            [
             0.8888888888888888,
             "#fdca26"
            ],
            [
             1,
             "#f0f921"
            ]
           ]
          },
          "colorway": [
           "#636efa",
           "#EF553B",
           "#00cc96",
           "#ab63fa",
           "#FFA15A",
           "#19d3f3",
           "#FF6692",
           "#B6E880",
           "#FF97FF",
           "#FECB52"
          ],
          "font": {
           "color": "#2a3f5f"
          },
          "geo": {
           "bgcolor": "white",
           "lakecolor": "white",
           "landcolor": "#E5ECF6",
           "showlakes": true,
           "showland": true,
           "subunitcolor": "white"
          },
          "hoverlabel": {
           "align": "left"
          },
          "hovermode": "closest",
          "mapbox": {
           "style": "light"
          },
          "paper_bgcolor": "white",
          "plot_bgcolor": "#E5ECF6",
          "polar": {
           "angularaxis": {
            "gridcolor": "white",
            "linecolor": "white",
            "ticks": ""
           },
           "bgcolor": "#E5ECF6",
           "radialaxis": {
            "gridcolor": "white",
            "linecolor": "white",
            "ticks": ""
           }
          },
          "scene": {
           "xaxis": {
            "backgroundcolor": "#E5ECF6",
            "gridcolor": "white",
            "gridwidth": 2,
            "linecolor": "white",
            "showbackground": true,
            "ticks": "",
            "zerolinecolor": "white"
           },
           "yaxis": {
            "backgroundcolor": "#E5ECF6",
            "gridcolor": "white",
            "gridwidth": 2,
            "linecolor": "white",
            "showbackground": true,
            "ticks": "",
            "zerolinecolor": "white"
           },
           "zaxis": {
            "backgroundcolor": "#E5ECF6",
            "gridcolor": "white",
            "gridwidth": 2,
            "linecolor": "white",
            "showbackground": true,
            "ticks": "",
            "zerolinecolor": "white"
           }
          },
          "shapedefaults": {
           "line": {
            "color": "#2a3f5f"
           }
          },
          "ternary": {
           "aaxis": {
            "gridcolor": "white",
            "linecolor": "white",
            "ticks": ""
           },
           "baxis": {
            "gridcolor": "white",
            "linecolor": "white",
            "ticks": ""
           },
           "bgcolor": "#E5ECF6",
           "caxis": {
            "gridcolor": "white",
            "linecolor": "white",
            "ticks": ""
           }
          },
          "title": {
           "x": 0.05
          },
          "xaxis": {
           "automargin": true,
           "gridcolor": "white",
           "linecolor": "white",
           "ticks": "",
           "title": {
            "standoff": 15
           },
           "zerolinecolor": "white",
           "zerolinewidth": 2
          },
          "yaxis": {
           "automargin": true,
           "gridcolor": "white",
           "linecolor": "white",
           "ticks": "",
           "title": {
            "standoff": 15
           },
           "zerolinecolor": "white",
           "zerolinewidth": 2
          }
         }
        },
        "title": {
         "text": "Intermediate Values Plot"
        },
        "xaxis": {
         "title": {
          "text": "Step"
         }
        },
        "yaxis": {
         "title": {
          "text": "Intermediate Value"
         }
        }
       }
      }
     },
     "metadata": {},
     "output_type": "display_data"
    }
   ],
   "source": [
    "fig = optuna.visualization.plot_intermediate_values(study)\n",
    "graph_path = Path(f\"../figures/{params.MODEL_TYPE}/{params.MODEL_NAME}/\")\n",
    "if not os.path.exists(graph_path):\n",
    "    os.makedirs(graph_path)\n",
    "graph_path = (\n",
    "    f\"../figures/{params.MODEL_TYPE}/{params.MODEL_NAME}/plot_intermediate_values_graph\"\n",
    ")\n",
    "fig.write_image(Path(f\"{graph_path}.png\"))\n",
    "fig.show()"
   ]
  },
  {
   "cell_type": "code",
   "execution_count": 16,
   "id": "325a1ec3",
   "metadata": {},
   "outputs": [],
   "source": [
    "param_dict = extract_best_trial_params(\n",
    "    study.best_params, params, model_name=params.MODEL_NAME\n",
    ")"
   ]
  },
  {
   "cell_type": "code",
   "execution_count": 17,
   "id": "50e946e7",
   "metadata": {},
   "outputs": [
    {
     "name": "stdout",
     "output_type": "stream",
     "text": [
      "SGD\n",
      "Epoch 0: Validation loss decreased (inf --> 0.705002).  Saving model ...\n",
      "\t Train_Loss: 0.8853 Train_Acc: 50.430 Val_Loss: 0.7050  BEST VAL Loss: 0.7050  Val_Acc: 65.436\n",
      "\n",
      "Epoch 1: Validation loss decreased (0.705002 --> 0.668730).  Saving model ...\n",
      "\t Train_Loss: 0.7454 Train_Acc: 72.209 Val_Loss: 0.6687  BEST VAL Loss: 0.6687  Val_Acc: 68.748\n",
      "\n",
      "Epoch 2: Validation loss decreased (0.668730 --> 0.626809).  Saving model ...\n",
      "\t Train_Loss: 0.6728 Train_Acc: 73.789 Val_Loss: 0.6268  BEST VAL Loss: 0.6268  Val_Acc: 71.298\n",
      "\n",
      "Epoch 3: Validation loss decreased (0.626809 --> 0.582075).  Saving model ...\n",
      "\t Train_Loss: 0.6253 Train_Acc: 74.534 Val_Loss: 0.5821  BEST VAL Loss: 0.5821  Val_Acc: 74.343\n",
      "\n",
      "Epoch 4: Validation loss decreased (0.582075 --> 0.543006).  Saving model ...\n",
      "\t Train_Loss: 0.5904 Train_Acc: 74.927 Val_Loss: 0.5430  BEST VAL Loss: 0.5430  Val_Acc: 76.608\n",
      "\n",
      "Epoch 5: Validation loss decreased (0.543006 --> 0.512495).  Saving model ...\n",
      "\t Train_Loss: 0.5639 Train_Acc: 82.603 Val_Loss: 0.5125  BEST VAL Loss: 0.5125  Val_Acc: 87.743\n",
      "\n",
      "Epoch 6: Validation loss decreased (0.512495 --> 0.490511).  Saving model ...\n",
      "\t Train_Loss: 0.5414 Train_Acc: 83.950 Val_Loss: 0.4905  BEST VAL Loss: 0.4905  Val_Acc: 87.667\n",
      "\n",
      "Epoch 7: Validation loss decreased (0.490511 --> 0.471365).  Saving model ...\n",
      "\t Train_Loss: 0.5231 Train_Acc: 84.138 Val_Loss: 0.4714  BEST VAL Loss: 0.4714  Val_Acc: 88.561\n",
      "\n",
      "Epoch 8: Validation loss decreased (0.471365 --> 0.458953).  Saving model ...\n",
      "\t Train_Loss: 0.5076 Train_Acc: 84.502 Val_Loss: 0.4590  BEST VAL Loss: 0.4590  Val_Acc: 86.239\n",
      "\n",
      "Epoch 9: Validation loss decreased (0.458953 --> 0.447331).  Saving model ...\n",
      "\t Train_Loss: 0.4942 Train_Acc: 84.704 Val_Loss: 0.4473  BEST VAL Loss: 0.4473  Val_Acc: 88.314\n",
      "\n",
      "Epoch 10: Validation loss decreased (0.447331 --> 0.433728).  Saving model ...\n",
      "\t Train_Loss: 0.4830 Train_Acc: 85.016 Val_Loss: 0.4337  BEST VAL Loss: 0.4337  Val_Acc: 89.760\n",
      "\n",
      "Epoch 11: Validation loss decreased (0.433728 --> 0.421243).  Saving model ...\n",
      "\t Train_Loss: 0.4731 Train_Acc: 85.418 Val_Loss: 0.4212  BEST VAL Loss: 0.4212  Val_Acc: 90.750\n",
      "\n",
      "Epoch 12: Validation loss decreased (0.421243 --> 0.413338).  Saving model ...\n",
      "\t Train_Loss: 0.4641 Train_Acc: 85.692 Val_Loss: 0.4133  BEST VAL Loss: 0.4133  Val_Acc: 89.513\n",
      "\n",
      "Epoch 13: Validation loss decreased (0.413338 --> 0.404891).  Saving model ...\n",
      "\t Train_Loss: 0.4560 Train_Acc: 85.492 Val_Loss: 0.4049  BEST VAL Loss: 0.4049  Val_Acc: 90.541\n",
      "\n",
      "Epoch 14: Validation loss decreased (0.404891 --> 0.396689).  Saving model ...\n",
      "\t Train_Loss: 0.4487 Train_Acc: 85.887 Val_Loss: 0.3967  BEST VAL Loss: 0.3967  Val_Acc: 90.293\n",
      "\n",
      "Epoch 15: Validation loss decreased (0.396689 --> 0.388530).  Saving model ...\n",
      "\t Train_Loss: 0.4418 Train_Acc: 85.999 Val_Loss: 0.3885  BEST VAL Loss: 0.3885  Val_Acc: 90.921\n",
      "\n",
      "Epoch 16: Validation loss decreased (0.388530 --> 0.384004).  Saving model ...\n",
      "\t Train_Loss: 0.4358 Train_Acc: 86.382 Val_Loss: 0.3840  BEST VAL Loss: 0.3840  Val_Acc: 89.437\n",
      "\n",
      "Epoch 17: Validation loss decreased (0.384004 --> 0.376574).  Saving model ...\n",
      "\t Train_Loss: 0.4303 Train_Acc: 86.189 Val_Loss: 0.3766  BEST VAL Loss: 0.3766  Val_Acc: 92.254\n",
      "\n",
      "Epoch 18: Validation loss did not decrease\n",
      "\t Train_Loss: 0.4252 Train_Acc: 86.568 Val_Loss: 0.3831  BEST VAL Loss: 0.3766  Val_Acc: 86.525\n",
      "\n",
      "Epoch 19: Validation loss did not decrease\n",
      "\t Train_Loss: 0.4210 Train_Acc: 86.313 Val_Loss: 0.3781  BEST VAL Loss: 0.3766  Val_Acc: 91.169\n",
      "\n",
      "Epoch 20: Validation loss decreased (0.376574 --> 0.372022).  Saving model ...\n",
      "\t Train_Loss: 0.4166 Train_Acc: 86.682 Val_Loss: 0.3720  BEST VAL Loss: 0.3720  Val_Acc: 91.797\n",
      "\n",
      "Epoch 21: Validation loss did not decrease\n",
      "\t Train_Loss: 0.4124 Train_Acc: 86.924 Val_Loss: 0.3793  BEST VAL Loss: 0.3720  Val_Acc: 81.671\n",
      "\n",
      "Epoch 22: Validation loss did not decrease\n",
      "\t Train_Loss: 0.4092 Train_Acc: 86.237 Val_Loss: 0.3736  BEST VAL Loss: 0.3720  Val_Acc: 92.177\n",
      "\n",
      "Epoch 23: Validation loss decreased (0.372022 --> 0.368255).  Saving model ...\n",
      "\t Train_Loss: 0.4054 Train_Acc: 87.172 Val_Loss: 0.3683  BEST VAL Loss: 0.3683  Val_Acc: 92.273\n",
      "\n",
      "Epoch 24: Validation loss did not decrease\n",
      "\t Train_Loss: 0.4017 Train_Acc: 87.317 Val_Loss: 0.3704  BEST VAL Loss: 0.3683  Val_Acc: 89.132\n",
      "\n",
      "Epoch 25: Validation loss decreased (0.368255 --> 0.365172).  Saving model ...\n",
      "\t Train_Loss: 0.3988 Train_Acc: 86.898 Val_Loss: 0.3652  BEST VAL Loss: 0.3652  Val_Acc: 92.539\n",
      "\n",
      "Epoch 26: Validation loss decreased (0.365172 --> 0.360236).  Saving model ...\n",
      "\t Train_Loss: 0.3956 Train_Acc: 87.310 Val_Loss: 0.3602  BEST VAL Loss: 0.3602  Val_Acc: 92.539\n",
      "\n",
      "Epoch 27: Validation loss decreased (0.360236 --> 0.356234).  Saving model ...\n",
      "\t Train_Loss: 0.3925 Train_Acc: 87.562 Val_Loss: 0.3562  BEST VAL Loss: 0.3562  Val_Acc: 91.968\n",
      "\n",
      "Epoch 28: Validation loss decreased (0.356234 --> 0.352210).  Saving model ...\n",
      "\t Train_Loss: 0.3896 Train_Acc: 87.457 Val_Loss: 0.3522  BEST VAL Loss: 0.3522  Val_Acc: 92.615\n",
      "\n",
      "Epoch 29: Validation loss did not decrease\n",
      "\t Train_Loss: 0.3869 Train_Acc: 87.598 Val_Loss: 0.3538  BEST VAL Loss: 0.3522  Val_Acc: 89.265\n",
      "\n",
      "Epoch 30: Validation loss decreased (0.352210 --> 0.350375).  Saving model ...\n",
      "\t Train_Loss: 0.3844 Train_Acc: 87.491 Val_Loss: 0.3504  BEST VAL Loss: 0.3504  Val_Acc: 91.131\n",
      "\n",
      "Epoch 31: Validation loss decreased (0.350375 --> 0.348147).  Saving model ...\n",
      "\t Train_Loss: 0.3819 Train_Acc: 87.814 Val_Loss: 0.3481  BEST VAL Loss: 0.3481  Val_Acc: 91.378\n",
      "\n",
      "Epoch 32: Validation loss decreased (0.348147 --> 0.344392).  Saving model ...\n",
      "\t Train_Loss: 0.3795 Train_Acc: 87.907 Val_Loss: 0.3444  BEST VAL Loss: 0.3444  Val_Acc: 92.958\n",
      "\n",
      "Epoch 33: Validation loss decreased (0.344392 --> 0.342384).  Saving model ...\n",
      "\t Train_Loss: 0.3770 Train_Acc: 88.238 Val_Loss: 0.3424  BEST VAL Loss: 0.3424  Val_Acc: 91.606\n",
      "\n",
      "Epoch 34: Validation loss decreased (0.342384 --> 0.340044).  Saving model ...\n",
      "\t Train_Loss: 0.3748 Train_Acc: 87.943 Val_Loss: 0.3400  BEST VAL Loss: 0.3400  Val_Acc: 91.702\n",
      "\n",
      "Epoch 35: Validation loss decreased (0.340044 --> 0.336596).  Saving model ...\n",
      "\t Train_Loss: 0.3727 Train_Acc: 88.026 Val_Loss: 0.3366  BEST VAL Loss: 0.3366  Val_Acc: 93.300\n",
      "\n",
      "Epoch 36: Validation loss decreased (0.336596 --> 0.333943).  Saving model ...\n",
      "\t Train_Loss: 0.3708 Train_Acc: 88.150 Val_Loss: 0.3339  BEST VAL Loss: 0.3339  Val_Acc: 92.786\n",
      "\n",
      "Epoch 37: Validation loss decreased (0.333943 --> 0.332016).  Saving model ...\n",
      "\t Train_Loss: 0.3689 Train_Acc: 88.167 Val_Loss: 0.3320  BEST VAL Loss: 0.3320  Val_Acc: 91.873\n",
      "\n",
      "Epoch 38: Validation loss decreased (0.332016 --> 0.329596).  Saving model ...\n",
      "\t Train_Loss: 0.3670 Train_Acc: 88.093 Val_Loss: 0.3296  BEST VAL Loss: 0.3296  Val_Acc: 92.501\n",
      "\n",
      "Epoch 39: Validation loss decreased (0.329596 --> 0.326850).  Saving model ...\n",
      "\t Train_Loss: 0.3653 Train_Acc: 88.048 Val_Loss: 0.3268  BEST VAL Loss: 0.3268  Val_Acc: 93.186\n",
      "\n",
      "Epoch 40: Validation loss did not decrease\n",
      "\t Train_Loss: 0.3634 Train_Acc: 88.930 Val_Loss: 0.3284  BEST VAL Loss: 0.3268  Val_Acc: 86.848\n",
      "\n",
      "Epoch 41: Validation loss decreased (0.326850 --> 0.325874).  Saving model ...\n",
      "\t Train_Loss: 0.3620 Train_Acc: 87.902 Val_Loss: 0.3259  BEST VAL Loss: 0.3259  Val_Acc: 92.425\n",
      "\n",
      "Epoch 42: Validation loss decreased (0.325874 --> 0.323320).  Saving model ...\n",
      "\t Train_Loss: 0.3603 Train_Acc: 88.604 Val_Loss: 0.3233  BEST VAL Loss: 0.3233  Val_Acc: 93.262\n",
      "\n",
      "Epoch 43: Validation loss decreased (0.323320 --> 0.321567).  Saving model ...\n",
      "\t Train_Loss: 0.3588 Train_Acc: 88.742 Val_Loss: 0.3216  BEST VAL Loss: 0.3216  Val_Acc: 92.273\n",
      "\n",
      "Epoch 44: Validation loss decreased (0.321567 --> 0.319400).  Saving model ...\n",
      "\t Train_Loss: 0.3573 Train_Acc: 88.621 Val_Loss: 0.3194  BEST VAL Loss: 0.3194  Val_Acc: 93.148\n",
      "\n",
      "Epoch 45: Validation loss decreased (0.319400 --> 0.317875).  Saving model ...\n",
      "\t Train_Loss: 0.3559 Train_Acc: 88.366 Val_Loss: 0.3179  BEST VAL Loss: 0.3179  Val_Acc: 92.444\n",
      "\n",
      "Epoch 46: Validation loss did not decrease\n",
      "\t Train_Loss: 0.3546 Train_Acc: 88.419 Val_Loss: 0.3186  BEST VAL Loss: 0.3179  Val_Acc: 90.008\n",
      "\n",
      "Epoch 47: Validation loss decreased (0.317875 --> 0.317774).  Saving model ...\n",
      "\t Train_Loss: 0.3533 Train_Acc: 88.533 Val_Loss: 0.3178  BEST VAL Loss: 0.3178  Val_Acc: 90.978\n",
      "\n",
      "Epoch 48: Validation loss decreased (0.317774 --> 0.315582).  Saving model ...\n",
      "\t Train_Loss: 0.3520 Train_Acc: 88.628 Val_Loss: 0.3156  BEST VAL Loss: 0.3156  Val_Acc: 93.091\n",
      "\n",
      "Epoch 49: Validation loss decreased (0.315582 --> 0.314209).  Saving model ...\n",
      "\t Train_Loss: 0.3507 Train_Acc: 88.845 Val_Loss: 0.3142  BEST VAL Loss: 0.3142  Val_Acc: 92.615\n",
      "\n",
      "Epoch 50: Validation loss decreased (0.314209 --> 0.313785).  Saving model ...\n",
      "\t Train_Loss: 0.3493 Train_Acc: 88.888 Val_Loss: 0.3138  BEST VAL Loss: 0.3138  Val_Acc: 91.835\n",
      "\n",
      "Epoch 51: Validation loss decreased (0.313785 --> 0.311902).  Saving model ...\n",
      "\t Train_Loss: 0.3482 Train_Acc: 88.645 Val_Loss: 0.3119  BEST VAL Loss: 0.3119  Val_Acc: 93.148\n",
      "\n",
      "Epoch 52: Validation loss did not decrease\n",
      "\t Train_Loss: 0.3470 Train_Acc: 88.942 Val_Loss: 0.3121  BEST VAL Loss: 0.3119  Val_Acc: 88.942\n",
      "\n",
      "Epoch 53: Validation loss decreased (0.311902 --> 0.310245).  Saving model ...\n",
      "\t Train_Loss: 0.3459 Train_Acc: 88.740 Val_Loss: 0.3102  BEST VAL Loss: 0.3102  Val_Acc: 93.396\n",
      "\n",
      "Epoch 54: Validation loss decreased (0.310245 --> 0.308734).  Saving model ...\n",
      "\t Train_Loss: 0.3447 Train_Acc: 89.306 Val_Loss: 0.3087  BEST VAL Loss: 0.3087  Val_Acc: 93.053\n",
      "\n",
      "Epoch 55: Validation loss decreased (0.308734 --> 0.307053).  Saving model ...\n",
      "\t Train_Loss: 0.3437 Train_Acc: 88.761 Val_Loss: 0.3071  BEST VAL Loss: 0.3071  Val_Acc: 93.567\n",
      "\n",
      "Epoch 56: Validation loss did not decrease\n",
      "\t Train_Loss: 0.3425 Train_Acc: 89.214 Val_Loss: 0.3082  BEST VAL Loss: 0.3071  Val_Acc: 90.579\n",
      "\n",
      "Epoch 57: Validation loss decreased (0.307053 --> 0.306768).  Saving model ...\n",
      "\t Train_Loss: 0.3416 Train_Acc: 88.964 Val_Loss: 0.3068  BEST VAL Loss: 0.3068  Val_Acc: 92.748\n",
      "\n",
      "Epoch 58: Validation loss did not decrease\n",
      "\t Train_Loss: 0.3406 Train_Acc: 89.047 Val_Loss: 0.3094  BEST VAL Loss: 0.3068  Val_Acc: 89.855\n",
      "\n",
      "Epoch 59: Validation loss did not decrease\n",
      "\t Train_Loss: 0.3398 Train_Acc: 88.978 Val_Loss: 0.3083  BEST VAL Loss: 0.3068  Val_Acc: 92.996\n",
      "\n",
      "Epoch 60: Validation loss decreased (0.306768 --> 0.306683).  Saving model ...\n",
      "\t Train_Loss: 0.3388 Train_Acc: 89.090 Val_Loss: 0.3067  BEST VAL Loss: 0.3067  Val_Acc: 92.939\n",
      "\n",
      "Epoch 61: Validation loss decreased (0.306683 --> 0.306254).  Saving model ...\n",
      "\t Train_Loss: 0.3377 Train_Acc: 89.782 Val_Loss: 0.3063  BEST VAL Loss: 0.3063  Val_Acc: 92.349\n",
      "\n",
      "Epoch 62: Validation loss decreased (0.306254 --> 0.304559).  Saving model ...\n",
      "\t Train_Loss: 0.3369 Train_Acc: 88.904 Val_Loss: 0.3046  BEST VAL Loss: 0.3046  Val_Acc: 93.776\n",
      "\n",
      "Epoch 63: Validation loss decreased (0.304559 --> 0.303045).  Saving model ...\n",
      "\t Train_Loss: 0.3358 Train_Acc: 89.580 Val_Loss: 0.3030  BEST VAL Loss: 0.3030  Val_Acc: 93.396\n",
      "\n",
      "Epoch 64: Validation loss decreased (0.303045 --> 0.301532).  Saving model ...\n",
      "\t Train_Loss: 0.3350 Train_Acc: 89.535 Val_Loss: 0.3015  BEST VAL Loss: 0.3015  Val_Acc: 93.567\n",
      "\n",
      "Epoch 65: Validation loss decreased (0.301532 --> 0.300626).  Saving model ...\n",
      "\t Train_Loss: 0.3341 Train_Acc: 89.268 Val_Loss: 0.3006  BEST VAL Loss: 0.3006  Val_Acc: 92.215\n",
      "\n",
      "Epoch 66: Validation loss did not decrease\n",
      "\t Train_Loss: 0.3332 Train_Acc: 89.490 Val_Loss: 0.3020  BEST VAL Loss: 0.3006  Val_Acc: 87.686\n",
      "\n",
      "Epoch 67: Validation loss decreased (0.300626 --> 0.300518).  Saving model ...\n",
      "\t Train_Loss: 0.3324 Train_Acc: 89.187 Val_Loss: 0.3005  BEST VAL Loss: 0.3005  Val_Acc: 94.043\n",
      "\n",
      "Epoch 68: Validation loss decreased (0.300518 --> 0.299226).  Saving model ...\n",
      "\t Train_Loss: 0.3315 Train_Acc: 89.278 Val_Loss: 0.2992  BEST VAL Loss: 0.2992  Val_Acc: 93.757\n",
      "\n",
      "Epoch 69: Validation loss decreased (0.299226 --> 0.299138).  Saving model ...\n",
      "\t Train_Loss: 0.3307 Train_Acc: 89.328 Val_Loss: 0.2991  BEST VAL Loss: 0.2991  Val_Acc: 90.198\n",
      "\n",
      "Epoch 70: Validation loss did not decrease\n",
      "\t Train_Loss: 0.3299 Train_Acc: 89.316 Val_Loss: 0.2996  BEST VAL Loss: 0.2991  Val_Acc: 91.435\n",
      "\n",
      "Epoch 71: Validation loss decreased (0.299138 --> 0.298405).  Saving model ...\n",
      "\t Train_Loss: 0.3292 Train_Acc: 89.404 Val_Loss: 0.2984  BEST VAL Loss: 0.2984  Val_Acc: 93.110\n",
      "\n",
      "Epoch 72: Validation loss decreased (0.298405 --> 0.297389).  Saving model ...\n",
      "\t Train_Loss: 0.3284 Train_Acc: 89.378 Val_Loss: 0.2974  BEST VAL Loss: 0.2974  Val_Acc: 92.672\n",
      "\n",
      "Epoch 73: Validation loss decreased (0.297389 --> 0.296069).  Saving model ...\n",
      "\t Train_Loss: 0.3276 Train_Acc: 89.599 Val_Loss: 0.2961  BEST VAL Loss: 0.2961  Val_Acc: 93.814\n",
      "\n",
      "Epoch 74: Validation loss decreased (0.296069 --> 0.294802).  Saving model ...\n",
      "\t Train_Loss: 0.3268 Train_Acc: 89.485 Val_Loss: 0.2948  BEST VAL Loss: 0.2948  Val_Acc: 93.776\n",
      "\n",
      "Epoch 75: Validation loss decreased (0.294802 --> 0.294511).  Saving model ...\n",
      "\t Train_Loss: 0.3261 Train_Acc: 89.858 Val_Loss: 0.2945  BEST VAL Loss: 0.2945  Val_Acc: 92.482\n",
      "\n",
      "Epoch 76: Validation loss decreased (0.294511 --> 0.293418).  Saving model ...\n",
      "\t Train_Loss: 0.3255 Train_Acc: 89.218 Val_Loss: 0.2934  BEST VAL Loss: 0.2934  Val_Acc: 93.719\n",
      "\n",
      "Epoch 77: Validation loss decreased (0.293418 --> 0.292221).  Saving model ...\n",
      "\t Train_Loss: 0.3247 Train_Acc: 89.761 Val_Loss: 0.2922  BEST VAL Loss: 0.2922  Val_Acc: 93.681\n",
      "\n",
      "Epoch 78: Validation loss decreased (0.292221 --> 0.291567).  Saving model ...\n",
      "\t Train_Loss: 0.3240 Train_Acc: 89.568 Val_Loss: 0.2916  BEST VAL Loss: 0.2916  Val_Acc: 93.186\n",
      "\n",
      "Epoch 79: Validation loss decreased (0.291567 --> 0.290475).  Saving model ...\n",
      "\t Train_Loss: 0.3234 Train_Acc: 89.323 Val_Loss: 0.2905  BEST VAL Loss: 0.2905  Val_Acc: 93.434\n",
      "\n",
      "Epoch 80: Validation loss decreased (0.290475 --> 0.289439).  Saving model ...\n",
      "\t Train_Loss: 0.3226 Train_Acc: 89.875 Val_Loss: 0.2894  BEST VAL Loss: 0.2894  Val_Acc: 93.396\n",
      "\n",
      "Epoch 81: Validation loss decreased (0.289439 --> 0.288361).  Saving model ...\n",
      "\t Train_Loss: 0.3219 Train_Acc: 89.770 Val_Loss: 0.2884  BEST VAL Loss: 0.2884  Val_Acc: 93.890\n",
      "\n",
      "Epoch 82: Validation loss decreased (0.288361 --> 0.287244).  Saving model ...\n",
      "\t Train_Loss: 0.3213 Train_Acc: 90.008 Val_Loss: 0.2872  BEST VAL Loss: 0.2872  Val_Acc: 93.738\n",
      "\n",
      "Epoch 83: Validation loss decreased (0.287244 --> 0.286198).  Saving model ...\n",
      "\t Train_Loss: 0.3206 Train_Acc: 89.913 Val_Loss: 0.2862  BEST VAL Loss: 0.2862  Val_Acc: 93.700\n",
      "\n",
      "Epoch 84: Validation loss decreased (0.286198 --> 0.285316).  Saving model ...\n",
      "\t Train_Loss: 0.3199 Train_Acc: 89.799 Val_Loss: 0.2853  BEST VAL Loss: 0.2853  Val_Acc: 93.548\n",
      "\n",
      "Epoch 85: Validation loss decreased (0.285316 --> 0.285019).  Saving model ...\n",
      "\t Train_Loss: 0.3193 Train_Acc: 89.958 Val_Loss: 0.2850  BEST VAL Loss: 0.2850  Val_Acc: 92.349\n",
      "\n",
      "Epoch 86: Validation loss decreased (0.285019 --> 0.284099).  Saving model ...\n",
      "\t Train_Loss: 0.3187 Train_Acc: 89.892 Val_Loss: 0.2841  BEST VAL Loss: 0.2841  Val_Acc: 94.081\n",
      "\n",
      "Epoch 87: Validation loss decreased (0.284099 --> 0.283167).  Saving model ...\n",
      "\t Train_Loss: 0.3180 Train_Acc: 90.042 Val_Loss: 0.2832  BEST VAL Loss: 0.2832  Val_Acc: 93.928\n",
      "\n",
      "Epoch 88: Validation loss decreased (0.283167 --> 0.282493).  Saving model ...\n",
      "\t Train_Loss: 0.3174 Train_Acc: 89.866 Val_Loss: 0.2825  BEST VAL Loss: 0.2825  Val_Acc: 93.510\n",
      "\n",
      "Epoch 89: Validation loss decreased (0.282493 --> 0.281967).  Saving model ...\n",
      "\t Train_Loss: 0.3168 Train_Acc: 90.039 Val_Loss: 0.2820  BEST VAL Loss: 0.2820  Val_Acc: 93.167\n",
      "\n",
      "Epoch 90: Validation loss decreased (0.281967 --> 0.281300).  Saving model ...\n",
      "\t Train_Loss: 0.3162 Train_Acc: 89.901 Val_Loss: 0.2813  BEST VAL Loss: 0.2813  Val_Acc: 93.662\n",
      "\n",
      "Epoch 91: Validation loss decreased (0.281300 --> 0.280381).  Saving model ...\n",
      "\t Train_Loss: 0.3155 Train_Acc: 90.068 Val_Loss: 0.2804  BEST VAL Loss: 0.2804  Val_Acc: 94.119\n",
      "\n",
      "Epoch 92: Validation loss decreased (0.280381 --> 0.280174).  Saving model ...\n",
      "\t Train_Loss: 0.3149 Train_Acc: 90.065 Val_Loss: 0.2802  BEST VAL Loss: 0.2802  Val_Acc: 92.501\n",
      "\n",
      "Epoch 93: Validation loss decreased (0.280174 --> 0.279811).  Saving model ...\n",
      "\t Train_Loss: 0.3144 Train_Acc: 89.985 Val_Loss: 0.2798  BEST VAL Loss: 0.2798  Val_Acc: 93.034\n",
      "\n",
      "Epoch 94: Validation loss decreased (0.279811 --> 0.278933).  Saving model ...\n",
      "\t Train_Loss: 0.3139 Train_Acc: 89.611 Val_Loss: 0.2789  BEST VAL Loss: 0.2789  Val_Acc: 93.795\n",
      "\n",
      "Epoch 95: Validation loss decreased (0.278933 --> 0.278180).  Saving model ...\n",
      "\t Train_Loss: 0.3133 Train_Acc: 90.165 Val_Loss: 0.2782  BEST VAL Loss: 0.2782  Val_Acc: 93.890\n",
      "\n",
      "Epoch 96: Validation loss decreased (0.278180 --> 0.277347).  Saving model ...\n",
      "\t Train_Loss: 0.3128 Train_Acc: 89.766 Val_Loss: 0.2773  BEST VAL Loss: 0.2773  Val_Acc: 93.567\n",
      "\n",
      "Epoch 97: Validation loss decreased (0.277347 --> 0.276749).  Saving model ...\n",
      "\t Train_Loss: 0.3122 Train_Acc: 90.280 Val_Loss: 0.2767  BEST VAL Loss: 0.2767  Val_Acc: 93.852\n",
      "\n",
      "Epoch 98: Validation loss decreased (0.276749 --> 0.275951).  Saving model ...\n",
      "\t Train_Loss: 0.3116 Train_Acc: 90.422 Val_Loss: 0.2760  BEST VAL Loss: 0.2760  Val_Acc: 93.738\n",
      "\n",
      "Epoch 99: Validation loss decreased (0.275951 --> 0.275210).  Saving model ...\n",
      "\t Train_Loss: 0.3111 Train_Acc: 90.170 Val_Loss: 0.2752  BEST VAL Loss: 0.2752  Val_Acc: 93.586\n",
      "\n"
     ]
    }
   ],
   "source": [
    "# call the optimized training model\n",
    "train_loss, train_acc, valid_loss, valid_acc, epochs_ran, model = train_optimized_model(\n",
    "    params.TRAIN_EPOCHS,\n",
    "    train_loader,\n",
    "    valid_loader,\n",
    "    param_dict,\n",
    "    params,\n",
    "    params.MODEL_NAME,\n",
    ")\n",
    "# get training_metrics\n",
    "if params.MODEL_TYPE == \"Regression\":\n",
    "    training_stats = pd.DataFrame(\n",
    "        zip(train_loss, valid_loss, epochs_ran),\n",
    "        columns=[\"train_loss\", \"valid_loss\", \"epochs_ran\"],\n",
    "    )\n",
    "else:\n",
    "    training_stats = pd.DataFrame(\n",
    "        zip(train_loss, train_acc, valid_loss, valid_acc, epochs_ran),\n",
    "        columns=[\"train_loss\", \"train_acc\", \"valid_loss\", \"valid_acc\", \"epochs_ran\"],\n",
    "    )"
   ]
  },
  {
   "cell_type": "code",
   "execution_count": 18,
   "id": "1340d8aa",
   "metadata": {},
   "outputs": [
    {
     "name": "stderr",
     "output_type": "stream",
     "text": [
      "/home/lippincm/Documents/ML/Interstellar_Analysis/MLP_Model/model_training/../MLP_utils/utils.py:944: UserWarning:\n",
      "\n",
      "Ignoring `palette` because no `hue` variable has been assigned.\n",
      "\n",
      "/home/lippincm/Documents/ML/Interstellar_Analysis/MLP_Model/model_training/../MLP_utils/utils.py:945: UserWarning:\n",
      "\n",
      "Ignoring `palette` because no `hue` variable has been assigned.\n",
      "\n"
     ]
    },
    {
     "data": {
      "image/png": "[encoded data removed]",
      "text/plain": [
       "<Figure size 640x480 with 1 Axes>"
      ]
     },
     "metadata": {},
     "output_type": "display_data"
    }
   ],
   "source": [
    "if params.MODEL_TYPE == \"Regression\":\n",
    "    pass\n",
    "else:\n",
    "    plot_metric_vs_epoch(\n",
    "        training_stats,\n",
    "        x=\"epochs_ran\",\n",
    "        y1=\"train_acc\",\n",
    "        y2=\"valid_acc\",\n",
    "        title=\"Accuracy vs. Epochs\",\n",
    "        x_axis_label=\"Epochs\",\n",
    "        y_axis_label=\"Accuracy\",\n",
    "        params=params,\n",
    "        model_name=params.MODEL_NAME,\n",
    "    )"
   ]
  },
  {
   "cell_type": "code",
   "execution_count": 19,
   "id": "41991221",
   "metadata": {},
   "outputs": [
    {
     "name": "stderr",
     "output_type": "stream",
     "text": [
      "/home/lippincm/Documents/ML/Interstellar_Analysis/MLP_Model/model_training/../MLP_utils/utils.py:944: UserWarning:\n",
      "\n",
      "Ignoring `palette` because no `hue` variable has been assigned.\n",
      "\n",
      "/home/lippincm/Documents/ML/Interstellar_Analysis/MLP_Model/model_training/../MLP_utils/utils.py:945: UserWarning:\n",
      "\n",
      "Ignoring `palette` because no `hue` variable has been assigned.\n",
      "\n"
     ]
    },
    {
     "data": {
      "image/png": "[encoded data removed]",
      "text/plain": [
       "<Figure size 640x480 with 1 Axes>"
      ]
     },
     "metadata": {},
     "output_type": "display_data"
    }
   ],
   "source": [
    "plot_metric_vs_epoch(\n",
    "    training_stats,\n",
    "    x=\"epochs_ran\",\n",
    "    y1=\"train_loss\",\n",
    "    y2=\"valid_loss\",\n",
    "    title=\"Loss vs. Epochs\",\n",
    "    x_axis_label=\"Epochs\",\n",
    "    y_axis_label=\"Loss\",\n",
    "    params=params,\n",
    "    model_name=params.MODEL_NAME,\n",
    ")"
   ]
  },
  {
   "cell_type": "code",
   "execution_count": 20,
   "id": "3e2c848c",
   "metadata": {},
   "outputs": [],
   "source": [
    "# calling the testing function and outputting list values of tested model\n",
    "if params.MODEL_TYPE == \"Multi_Class\" or params.MODEL_TYPE == \"Regression\":\n",
    "    y_pred_list = test_optimized_model(\n",
    "        model, test_loader, params, model_name=params.MODEL_NAME\n",
    "    )\n",
    "elif params.MODEL_TYPE == \"Binary_Classification\":\n",
    "    y_pred_list, y_pred_prob_list = test_optimized_model(\n",
    "        model, test_loader, params, model_name=params.MODEL_NAME\n",
    "    )\n",
    "else:\n",
    "    raise Exception(\"Model type must be specified for proper model testing\")\n",
    "\n",
    "\n",
    "# un-nest list if nested i.e. length of input data does not match length of output data\n",
    "if len(y_pred_list) != len(Y_test):\n",
    "    y_pred_list = un_nest(y_pred_list)\n",
    "    y_pred_prob_list = un_nest(y_pred_prob_list)\n",
    "else:\n",
    "    pass"
   ]
  },
  {
   "cell_type": "code",
   "execution_count": 21,
   "id": "3c53f7e4",
   "metadata": {},
   "outputs": [
    {
     "name": "stdout",
     "output_type": "stream",
     "text": [
      "              precision    recall  f1-score   support\n",
      "\n",
      "           0       0.95      0.95      0.95      3081\n",
      "           1       0.93      0.95      0.94      1186\n",
      "           2       0.92      0.89      0.90       987\n",
      "\n",
      "    accuracy                           0.94      5254\n",
      "   macro avg       0.93      0.93      0.93      5254\n",
      "weighted avg       0.94      0.94      0.94      5254\n",
      "\n",
      "Precision for class 0: 0.9486679662118258\n",
      "Recall for class 0: 0.9477442388834794\n",
      "Precision for class 1: 0.9299258037922506\n",
      "Recall for class 1: 0.9510961214165261\n",
      "Precision for class 2: 0.9158878504672897\n",
      "Recall for class 2: 0.8936170212765957\n",
      "3\n"
     ]
    },
    {
     "data": {
      "image/png": "[encoded data removed]",
      "text/plain": [
       "<Figure size 640x480 with 2 Axes>"
      ]
     },
     "metadata": {},
     "output_type": "display_data"
    },
    {
     "data": {
      "image/png": "[encoded data removed]",
      "text/plain": [
       "<Figure size 640x480 with 1 Axes>"
      ]
     },
     "metadata": {},
     "output_type": "display_data"
    }
   ],
   "source": [
    "# Call visualization function\n",
    "# calling the testing function and outputing list values of tested model\n",
    "if params.MODEL_TYPE == \"Multi_Class\" or params.MODEL_TYPE == \"Regression\":\n",
    "    confusion_matrix_df = results_output(\n",
    "        y_pred_list,\n",
    "        Y_test,\n",
    "        params,\n",
    "        test_name=f\"{params.MODEL_NAME}_testing\",\n",
    "        model_name=params.MODEL_NAME,\n",
    "    )\n",
    "elif params.MODEL_TYPE == \"Binary_Classification\":\n",
    "    results_output(\n",
    "        y_pred_list,\n",
    "        Y_test,\n",
    "        params,\n",
    "        y_pred_prob_list,\n",
    "        test_name=f\"{params.MODEL_NAME}_testing\",\n",
    "        model_name=params.MODEL_NAME,\n",
    "    )\n",
    "else:\n",
    "    raise Exception(\"Model type must be specified for proper model testing\")"
   ]
  },
  {
   "attachments": {},
   "cell_type": "markdown",
   "id": "2c620f38",
   "metadata": {},
   "source": [
    "#### look at the feature weights of the model"
   ]
  },
  {
   "cell_type": "code",
   "execution_count": 22,
   "id": "06ecc2f0",
   "metadata": {},
   "outputs": [],
   "source": [
    "# get all paramters from pytorch model\n",
    "lst = []\n",
    "for name, param in model.named_parameters():\n",
    "    # print(name, param.shape)\n",
    "    lst.append(param)\n",
    "feature_weights = model[0].weight.grad[0].detach().cpu().numpy()"
   ]
  },
  {
   "cell_type": "code",
   "execution_count": 23,
   "id": "131b568f",
   "metadata": {},
   "outputs": [],
   "source": [
    "col_list = []\n",
    "for col in df_values.columns:\n",
    "    # print(col)\n",
    "    col_list.append(col)"
   ]
  },
  {
   "cell_type": "code",
   "execution_count": 24,
   "id": "400c1291",
   "metadata": {},
   "outputs": [],
   "source": [
    "# remove last 4 columns from col_list that are not features\n",
    "col_list = col_list[:-4]"
   ]
  },
  {
   "cell_type": "code",
   "execution_count": 25,
   "id": "42dbfe2a",
   "metadata": {},
   "outputs": [
    {
     "data": {
      "text/html": [
       "<div>\n",
       "<style scoped>\n",
       "    .dataframe tbody tr th:only-of-type {\n",
       "        vertical-align: middle;\n",
       "    }\n",
       "\n",
       "    .dataframe tbody tr th {\n",
       "        vertical-align: top;\n",
       "    }\n",
       "\n",
       "    .dataframe thead th {\n",
       "        text-align: right;\n",
       "    }\n",
       "</style>\n",
       "<table border=\"1\" class=\"dataframe\">\n",
       "  <thead>\n",
       "    <tr style=\"text-align: right;\">\n",
       "      <th></th>\n",
       "      <th>feature</th>\n",
       "      <th>weight</th>\n",
       "    </tr>\n",
       "  </thead>\n",
       "  <tbody>\n",
       "    <tr>\n",
       "      <th>2590</th>\n",
       "      <td>Nuclei_Texture_AngularSecondMoment_CorrDNA_3_03_256</td>\n",
       "      <td>0.038044</td>\n",
       "    </tr>\n",
       "    <tr>\n",
       "      <th>2587</th>\n",
       "      <td>Nuclei_Texture_AngularSecondMoment_CorrDNA_3_00_256</td>\n",
       "      <td>0.034997</td>\n",
       "    </tr>\n",
       "    <tr>\n",
       "      <th>2589</th>\n",
       "      <td>Nuclei_Texture_AngularSecondMoment_CorrDNA_3_02_256</td>\n",
       "      <td>0.034598</td>\n",
       "    </tr>\n",
       "    <tr>\n",
       "      <th>2588</th>\n",
       "      <td>Nuclei_Texture_AngularSecondMoment_CorrDNA_3_01_256</td>\n",
       "      <td>0.032239</td>\n",
       "    </tr>\n",
       "    <tr>\n",
       "      <th>2670</th>\n",
       "      <td>Nuclei_Texture_DifferenceVariance_CorrDNA_3_03_256</td>\n",
       "      <td>0.030818</td>\n",
       "    </tr>\n",
       "    <tr>\n",
       "      <th>...</th>\n",
       "      <td>...</td>\n",
       "      <td>...</td>\n",
       "    </tr>\n",
       "    <tr>\n",
       "      <th>2017</th>\n",
       "      <td>Nuclei_Correlation_RWC_CorrER_CorrGasdermin</td>\n",
       "      <td>-0.030581</td>\n",
       "    </tr>\n",
       "    <tr>\n",
       "      <th>2729</th>\n",
       "      <td>Nuclei_Texture_InfoMeas2_CorrDNA_3_02_256</td>\n",
       "      <td>-0.033097</td>\n",
       "    </tr>\n",
       "    <tr>\n",
       "      <th>2727</th>\n",
       "      <td>Nuclei_Texture_InfoMeas2_CorrDNA_3_00_256</td>\n",
       "      <td>-0.034329</td>\n",
       "    </tr>\n",
       "    <tr>\n",
       "      <th>2728</th>\n",
       "      <td>Nuclei_Texture_InfoMeas2_CorrDNA_3_01_256</td>\n",
       "      <td>-0.035595</td>\n",
       "    </tr>\n",
       "    <tr>\n",
       "      <th>2021</th>\n",
       "      <td>Nuclei_Correlation_RWC_CorrGasdermin_CorrER</td>\n",
       "      <td>-0.041638</td>\n",
       "    </tr>\n",
       "  </tbody>\n",
       "</table>\n",
       "<p>2847 rows × 2 columns</p>\n",
       "</div>"
      ],
      "text/plain": [
       "                                                  feature    weight\n",
       "2590  Nuclei_Texture_AngularSecondMoment_CorrDNA_3_03_256  0.038044\n",
       "2587  Nuclei_Texture_AngularSecondMoment_CorrDNA_3_00_256  0.034997\n",
       "2589  Nuclei_Texture_AngularSecondMoment_CorrDNA_3_02_256  0.034598\n",
       "2588  Nuclei_Texture_AngularSecondMoment_CorrDNA_3_01_256  0.032239\n",
       "2670   Nuclei_Texture_DifferenceVariance_CorrDNA_3_03_256  0.030818\n",
       "...                                                   ...       ...\n",
       "2017          Nuclei_Correlation_RWC_CorrER_CorrGasdermin -0.030581\n",
       "2729            Nuclei_Texture_InfoMeas2_CorrDNA_3_02_256 -0.033097\n",
       "2727            Nuclei_Texture_InfoMeas2_CorrDNA_3_00_256 -0.034329\n",
       "2728            Nuclei_Texture_InfoMeas2_CorrDNA_3_01_256 -0.035595\n",
       "2021          Nuclei_Correlation_RWC_CorrGasdermin_CorrER -0.041638\n",
       "\n",
       "[2847 rows x 2 columns]"
      ]
     },
     "execution_count": 25,
     "metadata": {},
     "output_type": "execute_result"
    }
   ],
   "source": [
    "pd.set_option(\"display.max_colwidth\", None)\n",
    "\n",
    "df = pd.DataFrame(zip(col_list, feature_weights), columns=[\"feature\", \"weight\"])\n",
    "# change weight collumn to float\n",
    "df[\"weight\"] = df[\"weight\"].astype(float)\n",
    "# sort by weight\n",
    "df = df.sort_values(by=[\"weight\"], ascending=False)\n",
    "df"
   ]
  },
  {
   "cell_type": "code",
   "execution_count": 26,
   "id": "a719f558",
   "metadata": {},
   "outputs": [
    {
     "data": {
      "text/plain": [
       "Sequential(\n",
       "  (0): Linear(in_features=2847, out_features=3, bias=True)\n",
       "  (1): ReLU()\n",
       "  (2): Dropout(p=0.1575964858712806, inplace=False)\n",
       "  (3): Linear(in_features=3, out_features=3, bias=True)\n",
       ")"
      ]
     },
     "execution_count": 26,
     "metadata": {},
     "output_type": "execute_result"
    }
   ],
   "source": [
    "model"
   ]
  },
  {
   "cell_type": "code",
   "execution_count": null,
   "id": "c56a351c",
   "metadata": {},
   "outputs": [],
   "source": []
  },
  {
   "cell_type": "code",
   "execution_count": 27,
   "id": "e8a4e590",
   "metadata": {},
   "outputs": [],
   "source": [
    "# Code snippet for metadata extraction by Jenna Tomkinson\n",
    "df_metadata = list(df_holdout.columns[df_holdout.columns.str.startswith(\"Metadata\")])\n",
    "\n",
    "# define which columns are data and which are descriptive\n",
    "df_descriptive = df_holdout[df_metadata]\n",
    "df_values = df_holdout.drop(columns=df_metadata)"
   ]
  },
  {
   "cell_type": "code",
   "execution_count": 28,
   "id": "748bb398",
   "metadata": {},
   "outputs": [],
   "source": [
    "# Creating label encoder\n",
    "le = preprocessing.LabelEncoder()\n",
    "# Converting strings into numbers\n",
    "df_values[\"oneb_Metadata_Treatment_Dose_Inhibitor_Dose\"] = le.fit_transform(\n",
    "    df_values[\"oneb_Metadata_Treatment_Dose_Inhibitor_Dose\"]\n",
    ")\n",
    "# split into X and Y where Y are the predictive column and x are the observable data\n",
    "df_values_X = df_values.drop(\n",
    "    [\n",
    "        \"oneb_Metadata_Treatment_Dose_Inhibitor_Dose\",\n",
    "        \"twob_Metadata_Treatment_Dose_Inhibitor_Dose\",\n",
    "        \"threeb_Metadata_Treatment_Dose_Inhibitor_Dose\",\n",
    "        \"fourb_Metadata_Treatment_Dose_Inhibitor_Dose\",\n",
    "    ],\n",
    "    axis=1,\n",
    ")\n",
    "df_values_Y = df_values[\"oneb_Metadata_Treatment_Dose_Inhibitor_Dose\"]"
   ]
  },
  {
   "cell_type": "code",
   "execution_count": 29,
   "id": "2c5677d3",
   "metadata": {},
   "outputs": [],
   "source": [
    "test_data = Dataset_formatter(\n",
    "    torch.FloatTensor(df_values_X.values), torch.FloatTensor(df_values_Y.values)\n",
    ")\n",
    "\n",
    "# convert data class into a dataloader to be compatible with pytorch\n",
    "test_loader = torch.utils.data.DataLoader(dataset=test_data, batch_size=1)"
   ]
  },
  {
   "cell_type": "code",
   "execution_count": 30,
   "id": "3e2c848c",
   "metadata": {},
   "outputs": [],
   "source": [
    "# calling the testing function and outputting list values of tested model\n",
    "if params.MODEL_TYPE == \"Multi_Class\" or params.MODEL_TYPE == \"Regression\":\n",
    "    y_pred_list = test_optimized_model(\n",
    "        model, test_loader, params, model_name=params.MODEL_NAME\n",
    "    )\n",
    "elif params.MODEL_TYPE == \"Binary_Classification\":\n",
    "    y_pred_list, y_pred_prob_list = test_optimized_model(\n",
    "        model, test_loader, params, model_name=params.MODEL_NAME\n",
    "    )\n",
    "else:\n",
    "    raise Exception(\"Model type must be specified for proper model testing\")\n",
    "\n",
    "\n",
    "# un-nest list if nested i.e. length of input data does not match length of output data\n",
    "if len(y_pred_list) != len(df_values_Y):\n",
    "    y_pred_list = un_nest(y_pred_list)\n",
    "    y_pred_prob_list = un_nest(y_pred_prob_list)\n",
    "else:\n",
    "    pass"
   ]
  },
  {
   "cell_type": "code",
   "execution_count": 31,
   "id": "3c53f7e4",
   "metadata": {},
   "outputs": [
    {
     "name": "stdout",
     "output_type": "stream",
     "text": [
      "              precision    recall  f1-score   support\n",
      "\n",
      "           0       0.86      0.95      0.91      4837\n",
      "           1       0.98      0.88      0.93      4126\n",
      "           2       0.94      0.92      0.93      3346\n",
      "\n",
      "    accuracy                           0.92     12309\n",
      "   macro avg       0.93      0.92      0.92     12309\n",
      "weighted avg       0.92      0.92      0.92     12309\n",
      "\n",
      "Precision for class 0: 0.8640285071267817\n",
      "Recall for class 0: 0.9524498656191854\n",
      "Precision for class 1: 0.9806503628056974\n",
      "Recall for class 1: 0.8843916626272419\n",
      "Precision for class 2: 0.9434889434889435\n",
      "Recall for class 2: 0.9181111775254035\n",
      "3\n"
     ]
    },
    {
     "data": {
      "image/png": "[encoded data removed]",
      "text/plain": [
       "<Figure size 640x480 with 2 Axes>"
      ]
     },
     "metadata": {},
     "output_type": "display_data"
    },
    {
     "data": {
      "image/png": "[encoded data removed]",
      "text/plain": [
       "<Figure size 640x480 with 1 Axes>"
      ]
     },
     "metadata": {},
     "output_type": "display_data"
    }
   ],
   "source": [
    "# Call visualization function\n",
    "# calling the testing function and outputing list values of tested model\n",
    "if params.MODEL_TYPE == \"Multi_Class\" or params.MODEL_TYPE == \"Regression\":\n",
    "    confusion_matrix_df = results_output(\n",
    "        y_pred_list,\n",
    "        df_values_Y,\n",
    "        params,\n",
    "        test_name=f\"{params.MODEL_NAME}_hold_out\",\n",
    "        model_name=params.MODEL_NAME,\n",
    "    )\n",
    "elif params.MODEL_TYPE == \"Binary_Classification\":\n",
    "    results_output(\n",
    "        y_pred_list,\n",
    "        df_values_Y,\n",
    "        params,\n",
    "        y_pred_prob_list,\n",
    "        test_name=f\"{params.MODEL_NAME}_hold_out\",\n",
    "        model_name=params.MODEL_NAME,\n",
    "    )\n",
    "else:\n",
    "    raise Exception(\"Model type must be specified for proper model testing\")"
   ]
  }
 ],
 "metadata": {
  "jupytext": {
   "cell_metadata_filter": "-all",
   "encoding": "# coding: utf-8",
   "executable": "/usr/bin/env python",
   "formats": "ipynb,py",
   "main_language": "python"
  },
  "kernelspec": {
   "display_name": "Python 3 (ipykernel)",
   "language": "python",
   "name": "python3"
  },
  "language_info": {
   "codemirror_mode": {
    "name": "ipython",
    "version": 3
   },
   "file_extension": ".py",
   "mimetype": "text/x-python",
   "name": "python",
   "nbconvert_exporter": "python",
   "pygments_lexer": "ipython3",
   "version": "3.10.10"
  },
  "vscode": {
   "interpreter": {
    "hash": "72ae02083a9ca7d143c492d1aec380c7bf553ec51bd66e90e72bba65228121b6"
   }
  }
 },
 "nbformat": 4,
 "nbformat_minor": 5
}
