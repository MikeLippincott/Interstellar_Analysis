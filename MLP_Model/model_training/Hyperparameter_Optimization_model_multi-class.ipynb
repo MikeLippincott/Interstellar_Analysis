{
 "cells": [
  {
   "attachments": {},
   "cell_type": "markdown",
   "id": "8e60628c",
   "metadata": {},
   "source": [
    "## Hyperparameter tuning via Optuna"
   ]
  },
  {
   "cell_type": "markdown",
   "id": "8fac71a5",
   "metadata": {},
   "source": [
    "### Being a binary model this notebook will be limited to predicting one class 1 or 0, yes or no.\n",
    "### Here I will be predicting if a cell received a treatment or not"
   ]
  },
  {
   "cell_type": "code",
   "execution_count": 1,
   "id": "860a61dd",
   "metadata": {},
   "outputs": [],
   "source": [
    "import sys\n",
    "from pathlib import Path\n",
    "import os\n",
    "\n",
    "import matplotlib.pyplot as plt\n",
    "import numpy as np\n",
    "import optuna\n",
    "import pandas as pd\n",
    "import plotly\n",
    "import seaborn as sns\n",
    "import toml\n",
    "import torch\n",
    "import torch.nn as nn\n",
    "import torch.optim as optim\n",
    "from sklearn import preprocessing\n",
    "\n",
    "from sklearn.model_selection import train_test_split\n",
    "\n",
    "\n",
    "from sklearn.metrics import confusion_matrix\n",
    "from sklearn.metrics import precision_score, recall_score\n",
    "from sklearn.metrics import roc_auc_score\n",
    "\n",
    "from sklearn.metrics import roc_curve, auc\n",
    "\n",
    "import pyarrow.parquet as pq\n",
    "\n",
    "sys.path.append(\"..\")\n",
    "from MLP_utils.utils import parameter_set\n",
    "from MLP_utils.parameters import Parameters\n",
    "from MLP_utils.utils import (\n",
    "    Dataset_formatter,\n",
    "    data_split,\n",
    "    extract_best_trial_params,\n",
    "    objective_model_optimizer,\n",
    "    optimized_model_create,\n",
    "    plot_metric_vs_epoch,\n",
    "    results_output,\n",
    "    test_optimized_model,\n",
    "    train_optimized_model,\n",
    "    un_nest,\n",
    ")\n",
    "\n",
    "\n",
    "sys.path.append(\"../..\")\n",
    "from utils.utils import df_stats"
   ]
  },
  {
   "cell_type": "code",
   "execution_count": 2,
   "id": "44baa945",
   "metadata": {},
   "outputs": [],
   "source": [
    "# Import Data\n",
    "# set data file path under pathlib path for multi-system use\n",
    "\n",
    "\n",
    "file_path = Path(\n",
    "    \"../../../Extracted_Features_(CSV_files)/interstellar_wave3_sc_norm_fs_cellprofiler.csv.gz\"\n",
    ")\n",
    "\n",
    "file_path = Path(\n",
    "    \"../../../Extracted_Features_(CSV_files)/SHSY5Y_preprocessed_df_sc_norm.parquet\"\n",
    ")\n",
    "\n",
    "df = pq.read_table(file_path).to_pandas()\n",
    "# df = pd.read_csv(file_path, engine=\"pyarrow\")"
   ]
  },
  {
   "cell_type": "code",
   "execution_count": 3,
   "id": "394294ce",
   "metadata": {},
   "outputs": [],
   "source": [
    "data = Path(\"../MLP_utils/config.toml\")\n",
    "config = toml.load(data)\n",
    "params = Parameters()\n",
    "params = parameter_set(params, config)"
   ]
  },
  {
   "attachments": {},
   "cell_type": "markdown",
   "id": "5c486e00",
   "metadata": {},
   "source": [
    "#### Set up Data to be compatible with model"
   ]
  },
  {
   "attachments": {},
   "cell_type": "markdown",
   "id": "95754baa",
   "metadata": {},
   "source": [
    "##### Classification Models:\n",
    "Comment out code if using regression"
   ]
  },
  {
   "cell_type": "code",
   "execution_count": 4,
   "id": "b6ea8ac9",
   "metadata": {},
   "outputs": [
    {
     "name": "stdout",
     "output_type": "stream",
     "text": [
      "Selected Catagories are:\n",
      "['DMSO_0.100_DMSO_0.025' 'Thapsigargin_10.000_DMSO_0.025'\n",
      " 'LPS_100.000_DMSO_0.025']\n",
      "The dimensions of the data are: (64842, 2872)\n",
      "Number of total missing values across all columns: 129684\n",
      "Data Subset Is Off\n"
     ]
    }
   ],
   "source": [
    "# Combine treatment with dosage to be able to discern treatments with different doses as a different condition\n",
    "# Combine treatment and dose\n",
    "# df = df.assign(\n",
    "#     Metadata_Treatment_and_Dose=lambda x: df[\"Metadata_treatment\"]\n",
    "#     + \"_\"\n",
    "#     + df[\"Metadata_dose\"]\n",
    "# )\n",
    "\n",
    "# print(\"Unique Catagories are:\")\n",
    "# print(df[\"Metadata_Treatment_and_Dose\"].unique())\n",
    "\n",
    "# Generate df specific to analysis and model\n",
    "df = df.query(\n",
    "    \"oneb_Metadata_Treatment_Dose_Inhibitor_Dose == 'LPS_100.000_DMSO_0.025'| oneb_Metadata_Treatment_Dose_Inhibitor_Dose == 'DMSO_0.100_DMSO_0.025' | oneb_Metadata_Treatment_Dose_Inhibitor_Dose == 'Thapsigargin_10.000_DMSO_0.025'\"\n",
    ")\n",
    "# for binary classification testing\n",
    "# df = df.query(\n",
    "#     \"oneb_Metadata_Treatment_Dose_Inhibitor_Dose == 'LPS_100.000_DMSO_0.025'| oneb_Metadata_Treatment_Dose_Inhibitor_Dose == 'DMSO_0.100_DMSO_0.025'\"\n",
    "# )\n",
    "print(\"Selected Catagories are:\")\n",
    "print(df[\"oneb_Metadata_Treatment_Dose_Inhibitor_Dose\"].unique())\n",
    "# Drop na and reindex accordingly\n",
    "# df = df.dropna()\n",
    "# df = df.reset_index(drop=True)\n",
    "\n",
    "# Check for Nans again\n",
    "df_stats(df)\n",
    "\n",
    "if params.DATA_SUBSET_OPTION == \"True\":\n",
    "    df = df.sample(n=params.DATA_SUBSET_NUMBER)\n",
    "    print(\"Data Subset Is On\")\n",
    "    print(f\"Data is subset to {params.DATA_SUBSET_NUMBER}\")\n",
    "else:\n",
    "    print(\"Data Subset Is Off\")"
   ]
  },
  {
   "cell_type": "code",
   "execution_count": 5,
   "id": "088cff07",
   "metadata": {},
   "outputs": [
    {
     "name": "stdout",
     "output_type": "stream",
     "text": [
      "Wells held out for testing: ['I14' 'L14' 'J21']\n",
      "Wells to use for training, validation, and testing ['B14' 'C14' 'E14' 'B15' 'C15' 'E15' 'J14' 'I15' 'J15' 'L15' 'J16' 'J17'\n",
      " 'J20']\n"
     ]
    }
   ],
   "source": [
    "np.random.seed(seed=0)\n",
    "wells_to_hold = (\n",
    "    df.groupby(\"oneb_Metadata_Treatment_Dose_Inhibitor_Dose\")\n",
    "    .agg(np.random.choice)[\"Metadata_Well\"]\n",
    "    .to_list()\n",
    ")\n",
    "df_holdout = df[df[\"Metadata_Well\"].isin(wells_to_hold)]\n",
    "df = df[~df[\"Metadata_Well\"].isin(wells_to_hold)]\n",
    "\n",
    "\n",
    "print(\"Wells held out for testing:\", df_holdout[\"Metadata_Well\"].unique())\n",
    "print(\n",
    "    \"Wells to use for training, validation, and testing\", df[\"Metadata_Well\"].unique()\n",
    ")"
   ]
  },
  {
   "cell_type": "code",
   "execution_count": 6,
   "id": "786e3a76",
   "metadata": {},
   "outputs": [],
   "source": [
    "# Code snippet for metadata extraction by Jenna Tomkinson\n",
    "df_metadata = list(df.columns[df.columns.str.startswith(\"Metadata\")])\n",
    "\n",
    "# define which columns are data and which are descriptive\n",
    "df_descriptive = df[df_metadata]\n",
    "df_values = df.drop(columns=df_metadata)"
   ]
  },
  {
   "cell_type": "code",
   "execution_count": 7,
   "id": "595afb65",
   "metadata": {},
   "outputs": [],
   "source": [
    "# Creating label encoder\n",
    "le = preprocessing.LabelEncoder()\n",
    "# Converting strings into numbers\n",
    "df_values[\"oneb_Metadata_Treatment_Dose_Inhibitor_Dose\"] = le.fit_transform(\n",
    "    df_values[\"oneb_Metadata_Treatment_Dose_Inhibitor_Dose\"]\n",
    ")\n",
    "# split into X and Y where Y are the predictive column and x are the observable data\n",
    "df_values_X = df_values.drop(\n",
    "    [\n",
    "        \"oneb_Metadata_Treatment_Dose_Inhibitor_Dose\",\n",
    "        \"twob_Metadata_Treatment_Dose_Inhibitor_Dose\",\n",
    "        \"threeb_Metadata_Treatment_Dose_Inhibitor_Dose\",\n",
    "        \"fourb_Metadata_Treatment_Dose_Inhibitor_Dose\",\n",
    "    ],\n",
    "    axis=1,\n",
    ")\n",
    "df_values_Y = df_values[\"oneb_Metadata_Treatment_Dose_Inhibitor_Dose\"]"
   ]
  },
  {
   "attachments": {},
   "cell_type": "markdown",
   "id": "633673ce",
   "metadata": {},
   "source": [
    "##### Regression Model Data Wrangling and Set Up\n",
    "comment out if not using regression"
   ]
  },
  {
   "cell_type": "code",
   "execution_count": 8,
   "id": "e2df24ec",
   "metadata": {},
   "outputs": [],
   "source": [
    "# if params.DATA_SUBSET_OPTION == 'True':\n",
    "#     df = df.sample(n=params.DATA_SUBSET_NUMBER)\n",
    "#     print(\"yes\")\n",
    "# else:\n",
    "#     pass\n",
    "# df_stats(df)\n",
    "# # Drop na and reindex accordingly\n",
    "# df = df.dropna()\n",
    "# df = df.reset_index(drop=True)\n",
    "\n",
    "# # Check for Nans again\n",
    "# df_stats(df)\n",
    "# # Code snippet for metadata extraction by Jenna Tomkinson\n",
    "# df_metadata = list(df.columns[df.columns.str.startswith(\"Metadata\")])\n",
    "# # define which columns are data and which are descriptive\n",
    "# df_descriptive = df[df_metadata]\n",
    "# df_values = df.drop(columns=df_metadata)\n",
    "# df_values_Y = df_values['Nuclei_Texture_InverseDifferenceMoment_CorrER_3_01_256']\n",
    "# df_values_X = df_values.drop('Nuclei_Texture_InverseDifferenceMoment_CorrER_3_01_256', axis=1)"
   ]
  },
  {
   "attachments": {},
   "cell_type": "markdown",
   "id": "260a048e",
   "metadata": {},
   "source": [
    "#### Split Data - All Models can proceed through this point"
   ]
  },
  {
   "cell_type": "code",
   "execution_count": 9,
   "id": "f4feb87f",
   "metadata": {},
   "outputs": [],
   "source": [
    "X_train, X_test, X_val, Y_train, Y_test, Y_val = data_split(\n",
    "    X_vals=df_values_X,\n",
    "    y_vals=df_values_Y,\n",
    "    train_proportion=0.8,\n",
    "    val_proportion=0.1,\n",
    "    test_proportion=0.1,\n",
    "    seed=1,\n",
    "    params=params,\n",
    ")"
   ]
  },
  {
   "cell_type": "code",
   "execution_count": 10,
   "id": "36894826",
   "metadata": {},
   "outputs": [],
   "source": [
    "# produce data objects for train, val and test datasets\n",
    "train_data = Dataset_formatter(\n",
    "    torch.FloatTensor(X_train.values), torch.FloatTensor(Y_train.values)\n",
    ")\n",
    "val_data = Dataset_formatter(\n",
    "    torch.FloatTensor(X_val.values), torch.FloatTensor(Y_val.values)\n",
    ")\n",
    "test_data = Dataset_formatter(\n",
    "    torch.FloatTensor(X_test.values), torch.FloatTensor(Y_test.values)\n",
    ")"
   ]
  },
  {
   "cell_type": "code",
   "execution_count": 11,
   "id": "4382d712",
   "metadata": {},
   "outputs": [
    {
     "name": "stdout",
     "output_type": "stream",
     "text": [
      "Number of in features:  2847\n",
      "Number of out features:  3\n",
      "Multi_Class\n"
     ]
    }
   ],
   "source": [
    "params.IN_FEATURES = X_train.shape[1]\n",
    "print(\"Number of in features: \", params.IN_FEATURES)\n",
    "if params.MODEL_TYPE == \"Regression\":\n",
    "    params.OUT_FEATURES = 1\n",
    "else:\n",
    "    params.OUT_FEATURES = len(\n",
    "        df_values[\"oneb_Metadata_Treatment_Dose_Inhibitor_Dose\"].unique()\n",
    "    )\n",
    "\n",
    "print(\"Number of out features: \", params.OUT_FEATURES)\n",
    "\n",
    "if params.OUT_FEATURES > 2:\n",
    "    params.MODEL_TYPE = \"Multi_Class\"\n",
    "elif params.OUT_FEATURES == 2:\n",
    "    params.OUT_FEATURES = params.OUT_FEATURES - 1\n",
    "    params.MODEL_TYPE = \"Binary_Classification\"\n",
    "elif params.OUT_FEATURES == 1:\n",
    "    params.MODEL_TYPE = \"Regression\"\n",
    "else:\n",
    "    pass\n",
    "print(params.MODEL_TYPE)"
   ]
  },
  {
   "cell_type": "code",
   "execution_count": 12,
   "id": "77effa5c",
   "metadata": {},
   "outputs": [],
   "source": [
    "# convert data class into a dataloader to be compatible with pytorch\n",
    "train_loader = torch.utils.data.DataLoader(\n",
    "    dataset=train_data, batch_size=params.BATCH_SIZE\n",
    ")\n",
    "valid_loader = torch.utils.data.DataLoader(\n",
    "    dataset=val_data, batch_size=params.BATCH_SIZE\n",
    ")\n",
    "test_loader = torch.utils.data.DataLoader(dataset=test_data, batch_size=1)"
   ]
  },
  {
   "cell_type": "code",
   "execution_count": 13,
   "id": "a969042f",
   "metadata": {},
   "outputs": [
    {
     "name": "stderr",
     "output_type": "stream",
     "text": [
      "\u001b[32m[I 2023-05-05 10:49:07,770]\u001b[0m A new study created in memory with name: no-name-89e50424-d88c-4024-98a3-23f059137aec\u001b[0m\n",
      "\u001b[32m[I 2023-05-05 10:50:07,157]\u001b[0m Trial 0 finished with value: 0.3142504338920116 and parameters: {'n_layers': 2, 'n_units_l0': 10, 'dropout_0': 0.12358066649529623, 'n_units_l1': 7, 'dropout_1': 0.10715011851003853, 'learning_rate': 0.061764818523835675, 'optimizer': 'Adam'}. Best is trial 0 with value: 0.3142504338920116.\u001b[0m\n",
      "\u001b[32m[I 2023-05-05 10:51:03,538]\u001b[0m Trial 1 finished with value: 0.46264067639907197 and parameters: {'n_layers': 1, 'n_units_l0': 2, 'dropout_0': 0.3960132061997884, 'learning_rate': 0.03968127975789702, 'optimizer': 'SGD'}. Best is trial 0 with value: 0.3142504338920116.\u001b[0m\n",
      "\u001b[32m[I 2023-05-05 10:51:59,674]\u001b[0m Trial 2 finished with value: 0.7420505611101785 and parameters: {'n_layers': 2, 'n_units_l0': 5, 'dropout_0': 0.20178334009640037, 'n_units_l1': 9, 'dropout_1': 0.3092370663579095, 'learning_rate': 0.03240073491003143, 'optimizer': 'RMSprop'}. Best is trial 0 with value: 0.3142504338920116.\u001b[0m\n",
      "\u001b[32m[I 2023-05-05 10:52:56,232]\u001b[0m Trial 3 finished with value: 0.6134521935383479 and parameters: {'n_layers': 2, 'n_units_l0': 2, 'dropout_0': 0.39921088458153553, 'n_units_l1': 4, 'dropout_1': 0.21867929437935657, 'learning_rate': 0.042008976107297716, 'optimizer': 'Adam'}. Best is trial 0 with value: 0.3142504338920116.\u001b[0m\n",
      "\u001b[32m[I 2023-05-05 10:53:52,942]\u001b[0m Trial 4 finished with value: 0.23614388053615887 and parameters: {'n_layers': 2, 'n_units_l0': 6, 'dropout_0': 0.12755620181671876, 'n_units_l1': 10, 'dropout_1': 0.26143687796528636, 'learning_rate': 0.09579345104685451, 'optimizer': 'SGD'}. Best is trial 4 with value: 0.23614388053615887.\u001b[0m\n",
      "\u001b[32m[I 2023-05-05 10:54:49,165]\u001b[0m Trial 5 finished with value: 0.17383712733785317 and parameters: {'n_layers': 1, 'n_units_l0': 9, 'dropout_0': 0.202232477293248, 'learning_rate': 0.0646326705665734, 'optimizer': 'SGD'}. Best is trial 5 with value: 0.17383712733785317.\u001b[0m\n",
      "\u001b[32m[I 2023-05-05 10:54:50,233]\u001b[0m Trial 6 pruned. \u001b[0m\n",
      "\u001b[32m[I 2023-05-05 10:54:51,316]\u001b[0m Trial 7 pruned. \u001b[0m\n",
      "\u001b[32m[I 2023-05-05 10:54:52,519]\u001b[0m Trial 8 pruned. \u001b[0m\n",
      "\u001b[32m[I 2023-05-05 10:55:09,399]\u001b[0m Trial 9 pruned. \u001b[0m\n"
     ]
    },
    {
     "name": "stdout",
     "output_type": "stream",
     "text": [
      "Validation Accuracy: 93.44461362771223\n",
      "Validation Loss: 0.18399044511218868\n",
      "Training Accuracy: 92.9417727543129\n",
      "Training Loss: 0.1919878584973861\n"
     ]
    },
    {
     "data": {
      "text/plain": [
       "(93.44461362771223, 0.18399044511218868, 92.9417727543129, 0.1919878584973861)"
      ]
     },
     "execution_count": 13,
     "metadata": {},
     "output_type": "execute_result"
    }
   ],
   "source": [
    "# no accuracy function must be loss for regression\n",
    "if params.MODEL_TYPE == \"Regression\":\n",
    "    params.METRIC = \"loss\"\n",
    "    pass\n",
    "\n",
    "\n",
    "# wrap the objective function inside of a lambda function to pass args...\n",
    "objective_lambda_func = lambda trial: objective_model_optimizer(\n",
    "    train_loader,\n",
    "    valid_loader,\n",
    "    trial=trial,\n",
    "    params=params,\n",
    "    metric=params.METRIC,\n",
    "    return_info=False,\n",
    ")\n",
    "\n",
    "\n",
    "# Study is the object for model optimization\n",
    "study = optuna.create_study(direction=f\"{params.DIRECTION}\")\n",
    "# Here I apply the optimize function of the study to the objective function\n",
    "# This optimizes each parameter specified to be optimized from the defined search space\n",
    "study.optimize(objective_lambda_func, n_trials=params.N_TRIALS)\n",
    "# Prints out the best trial's optimized parameters\n",
    "objective_model_optimizer(\n",
    "    train_loader,\n",
    "    valid_loader,\n",
    "    trial=study.best_trial,\n",
    "    params=params,\n",
    "    metric=params.METRIC,\n",
    "    return_info=True,\n",
    ")"
   ]
  },
  {
   "cell_type": "code",
   "execution_count": 14,
   "id": "b2620589",
   "metadata": {},
   "outputs": [
    {
     "data": {
      "application/vnd.plotly.v1+json": {
       "config": {
        "plotlyServerURL": "https://plot.ly"
       },
       "data": [
        {
         "mode": "markers",
         "name": "Objective Value",
         "type": "scatter",
         "x": [
          0,
          1,
          2,
          3,
          4,
          5
         ],
         "y": [
          0.3142504338920116,
          0.46264067639907197,
          0.7420505611101785,
          0.6134521935383479,
          0.23614388053615887,
          0.17383712733785317
         ]
        },
        {
         "name": "Best Value",
         "type": "scatter",
         "x": [
          0,
          1,
          2,
          3,
          4,
          5
         ],
         "y": [
          0.3142504338920116,
          0.3142504338920116,
          0.3142504338920116,
          0.3142504338920116,
          0.23614388053615887,
          0.17383712733785317
         ]
        }
       ],
       "layout": {
        "template": {
         "data": {
          "bar": [
           {
            "error_x": {
             "color": "#2a3f5f"
            },
            "error_y": {
             "color": "#2a3f5f"
            },
            "marker": {
             "line": {
              "color": "#E5ECF6",
              "width": 0.5
             },
             "pattern": {
              "fillmode": "overlay",
              "size": 10,
              "solidity": 0.2
             }
            },
            "type": "bar"
           }
          ],
          "barpolar": [
           {
            "marker": {
             "line": {
              "color": "#E5ECF6",
              "width": 0.5
             },
             "pattern": {
              "fillmode": "overlay",
              "size": 10,
              "solidity": 0.2
             }
            },
            "type": "barpolar"
           }
          ],
          "carpet": [
           {
            "aaxis": {
             "endlinecolor": "#2a3f5f",
             "gridcolor": "white",
             "linecolor": "white",
             "minorgridcolor": "white",
             "startlinecolor": "#2a3f5f"
            },
            "baxis": {
             "endlinecolor": "#2a3f5f",
             "gridcolor": "white",
             "linecolor": "white",
             "minorgridcolor": "white",
             "startlinecolor": "#2a3f5f"
            },
            "type": "carpet"
           }
          ],
          "choropleth": [
           {
            "colorbar": {
             "outlinewidth": 0,
             "ticks": ""
            },
            "type": "choropleth"
           }
          ],
          "contour": [
           {
            "colorbar": {
             "outlinewidth": 0,
             "ticks": ""
            },
            "colorscale": [
             [
              0,
              "#0d0887"
             ],
             [
              0.1111111111111111,
              "#46039f"
             ],
             [
              0.2222222222222222,
              "#7201a8"
             ],
             [
              0.3333333333333333,
              "#9c179e"
             ],
             [
              0.4444444444444444,
              "#bd3786"
             ],
             [
              0.5555555555555556,
              "#d8576b"
             ],
             [
              0.6666666666666666,
              "#ed7953"
             ],
             [
              0.7777777777777778,
              "#fb9f3a"
             ],
             [
              0.8888888888888888,
              "#fdca26"
             ],
             [
              1,
              "#f0f921"
             ]
            ],
            "type": "contour"
           }
          ],
          "contourcarpet": [
           {
            "colorbar": {
             "outlinewidth": 0,
             "ticks": ""
            },
            "type": "contourcarpet"
           }
          ],
          "heatmap": [
           {
            "colorbar": {
             "outlinewidth": 0,
             "ticks": ""
            },
            "colorscale": [
             [
              0,
              "#0d0887"
             ],
             [
              0.1111111111111111,
              "#46039f"
             ],
             [
              0.2222222222222222,
              "#7201a8"
             ],
             [
              0.3333333333333333,
              "#9c179e"
             ],
             [
              0.4444444444444444,
              "#bd3786"
             ],
             [
              0.5555555555555556,
              "#d8576b"
             ],
             [
              0.6666666666666666,
              "#ed7953"
             ],
             [
              0.7777777777777778,
              "#fb9f3a"
             ],
             [
              0.8888888888888888,
              "#fdca26"
             ],
             [
              1,
              "#f0f921"
             ]
            ],
            "type": "heatmap"
           }
          ],
          "heatmapgl": [
           {
            "colorbar": {
             "outlinewidth": 0,
             "ticks": ""
            },
            "colorscale": [
             [
              0,
              "#0d0887"
             ],
             [
              0.1111111111111111,
              "#46039f"
             ],
             [
              0.2222222222222222,
              "#7201a8"
             ],
             [
              0.3333333333333333,
              "#9c179e"
             ],
             [
              0.4444444444444444,
              "#bd3786"
             ],
             [
              0.5555555555555556,
              "#d8576b"
             ],
             [
              0.6666666666666666,
              "#ed7953"
             ],
             [
              0.7777777777777778,
              "#fb9f3a"
             ],
             [
              0.8888888888888888,
              "#fdca26"
             ],
             [
              1,
              "#f0f921"
             ]
            ],
            "type": "heatmapgl"
           }
          ],
          "histogram": [
           {
            "marker": {
             "pattern": {
              "fillmode": "overlay",
              "size": 10,
              "solidity": 0.2
             }
            },
            "type": "histogram"
           }
          ],
          "histogram2d": [
           {
            "colorbar": {
             "outlinewidth": 0,
             "ticks": ""
            },
            "colorscale": [
             [
              0,
              "#0d0887"
             ],
             [
              0.1111111111111111,
              "#46039f"
             ],
             [
              0.2222222222222222,
              "#7201a8"
             ],
             [
              0.3333333333333333,
              "#9c179e"
             ],
             [
              0.4444444444444444,
              "#bd3786"
             ],
             [
              0.5555555555555556,
              "#d8576b"
             ],
             [
              0.6666666666666666,
              "#ed7953"
             ],
             [
              0.7777777777777778,
              "#fb9f3a"
             ],
             [
              0.8888888888888888,
              "#fdca26"
             ],
             [
              1,
              "#f0f921"
             ]
            ],
            "type": "histogram2d"
           }
          ],
          "histogram2dcontour": [
           {
            "colorbar": {
             "outlinewidth": 0,
             "ticks": ""
            },
            "colorscale": [
             [
              0,
              "#0d0887"
             ],
             [
              0.1111111111111111,
              "#46039f"
             ],
             [
              0.2222222222222222,
              "#7201a8"
             ],
             [
              0.3333333333333333,
              "#9c179e"
             ],
             [
              0.4444444444444444,
              "#bd3786"
             ],
             [
              0.5555555555555556,
              "#d8576b"
             ],
             [
              0.6666666666666666,
              "#ed7953"
             ],
             [
              0.7777777777777778,
              "#fb9f3a"
             ],
             [
              0.8888888888888888,
              "#fdca26"
             ],
             [
              1,
              "#f0f921"
             ]
            ],
            "type": "histogram2dcontour"
           }
          ],
          "mesh3d": [
           {
            "colorbar": {
             "outlinewidth": 0,
             "ticks": ""
            },
            "type": "mesh3d"
           }
          ],
          "parcoords": [
           {
            "line": {
             "colorbar": {
              "outlinewidth": 0,
              "ticks": ""
             }
            },
            "type": "parcoords"
           }
          ],
          "pie": [
           {
            "automargin": true,
            "type": "pie"
           }
          ],
          "scatter": [
           {
            "fillpattern": {
             "fillmode": "overlay",
             "size": 10,
             "solidity": 0.2
            },
            "type": "scatter"
           }
          ],
          "scatter3d": [
           {
            "line": {
             "colorbar": {
              "outlinewidth": 0,
              "ticks": ""
             }
            },
            "marker": {
             "colorbar": {
              "outlinewidth": 0,
              "ticks": ""
             }
            },
            "type": "scatter3d"
           }
          ],
          "scattercarpet": [
           {
            "marker": {
             "colorbar": {
              "outlinewidth": 0,
              "ticks": ""
             }
            },
            "type": "scattercarpet"
           }
          ],
          "scattergeo": [
           {
            "marker": {
             "colorbar": {
              "outlinewidth": 0,
              "ticks": ""
             }
            },
            "type": "scattergeo"
           }
          ],
          "scattergl": [
           {
            "marker": {
             "colorbar": {
              "outlinewidth": 0,
              "ticks": ""
             }
            },
            "type": "scattergl"
           }
          ],
          "scattermapbox": [
           {
            "marker": {
             "colorbar": {
              "outlinewidth": 0,
              "ticks": ""
             }
            },
            "type": "scattermapbox"
           }
          ],
          "scatterpolar": [
           {
            "marker": {
             "colorbar": {
              "outlinewidth": 0,
              "ticks": ""
             }
            },
            "type": "scatterpolar"
           }
          ],
          "scatterpolargl": [
           {
            "marker": {
             "colorbar": {
              "outlinewidth": 0,
              "ticks": ""
             }
            },
            "type": "scatterpolargl"
           }
          ],
          "scatterternary": [
           {
            "marker": {
             "colorbar": {
              "outlinewidth": 0,
              "ticks": ""
             }
            },
            "type": "scatterternary"
           }
          ],
          "surface": [
           {
            "colorbar": {
             "outlinewidth": 0,
             "ticks": ""
            },
            "colorscale": [
             [
              0,
              "#0d0887"
             ],
             [
              0.1111111111111111,
              "#46039f"
             ],
             [
              0.2222222222222222,
              "#7201a8"
             ],
             [
              0.3333333333333333,
              "#9c179e"
             ],
             [
              0.4444444444444444,
              "#bd3786"
             ],
             [
              0.5555555555555556,
              "#d8576b"
             ],
             [
              0.6666666666666666,
              "#ed7953"
             ],
             [
              0.7777777777777778,
              "#fb9f3a"
             ],
             [
              0.8888888888888888,
              "#fdca26"
             ],
             [
              1,
              "#f0f921"
             ]
            ],
            "type": "surface"
           }
          ],
          "table": [
           {
            "cells": {
             "fill": {
              "color": "#EBF0F8"
             },
             "line": {
              "color": "white"
             }
            },
            "header": {
             "fill": {
              "color": "#C8D4E3"
             },
             "line": {
              "color": "white"
             }
            },
            "type": "table"
           }
          ]
         },
         "layout": {
          "annotationdefaults": {
           "arrowcolor": "#2a3f5f",
           "arrowhead": 0,
           "arrowwidth": 1
          },
          "autotypenumbers": "strict",
          "coloraxis": {
           "colorbar": {
            "outlinewidth": 0,
            "ticks": ""
           }
          },
          "colorscale": {
           "diverging": [
            [
             0,
             "#8e0152"
            ],
            [
             0.1,
             "#c51b7d"
            ],
            [
             0.2,
             "#de77ae"
            ],
            [
             0.3,
             "#f1b6da"
            ],
            [
             0.4,
             "#fde0ef"
            ],
            [
             0.5,
             "#f7f7f7"
            ],
            [
             0.6,
             "#e6f5d0"
            ],
            [
             0.7,
             "#b8e186"
            ],
            [
             0.8,
             "#7fbc41"
            ],
            [
             0.9,
             "#4d9221"
            ],
            [
             1,
             "#276419"
            ]
           ],
           "sequential": [
            [
             0,
             "#0d0887"
            ],
            [
             0.1111111111111111,
             "#46039f"
            ],
            [
             0.2222222222222222,
             "#7201a8"
            ],
            [
             0.3333333333333333,
             "#9c179e"
            ],
            [
             0.4444444444444444,
             "#bd3786"
            ],
            [
             0.5555555555555556,
             "#d8576b"
            ],
            [
             0.6666666666666666,
             "#ed7953"
            ],
            [
             0.7777777777777778,
             "#fb9f3a"
            ],
            [
             0.8888888888888888,
             "#fdca26"
            ],
            [
             1,
             "#f0f921"
            ]
           ],
           "sequentialminus": [
            [
             0,
             "#0d0887"
            ],
            [
             0.1111111111111111,
             "#46039f"
            ],
            [
             0.2222222222222222,
             "#7201a8"
            ],
            [
             0.3333333333333333,
             "#9c179e"
            ],
            [
             0.4444444444444444,
             "#bd3786"
            ],
            [
             0.5555555555555556,
             "#d8576b"
            ],
            [
             0.6666666666666666,
             "#ed7953"
            ],
            [
             0.7777777777777778,
             "#fb9f3a"
            ],
            [
             0.8888888888888888,
             "#fdca26"
            ],
            [
             1,
             "#f0f921"
            ]
           ]
          },
          "colorway": [
           "#636efa",
           "#EF553B",
           "#00cc96",
           "#ab63fa",
           "#FFA15A",
           "#19d3f3",
           "#FF6692",
           "#B6E880",
           "#FF97FF",
           "#FECB52"
          ],
          "font": {
           "color": "#2a3f5f"
          },
          "geo": {
           "bgcolor": "white",
           "lakecolor": "white",
           "landcolor": "#E5ECF6",
           "showlakes": true,
           "showland": true,
           "subunitcolor": "white"
          },
          "hoverlabel": {
           "align": "left"
          },
          "hovermode": "closest",
          "mapbox": {
           "style": "light"
          },
          "paper_bgcolor": "white",
          "plot_bgcolor": "#E5ECF6",
          "polar": {
           "angularaxis": {
            "gridcolor": "white",
            "linecolor": "white",
            "ticks": ""
           },
           "bgcolor": "#E5ECF6",
           "radialaxis": {
            "gridcolor": "white",
            "linecolor": "white",
            "ticks": ""
           }
          },
          "scene": {
           "xaxis": {
            "backgroundcolor": "#E5ECF6",
            "gridcolor": "white",
            "gridwidth": 2,
            "linecolor": "white",
            "showbackground": true,
            "ticks": "",
            "zerolinecolor": "white"
           },
           "yaxis": {
            "backgroundcolor": "#E5ECF6",
            "gridcolor": "white",
            "gridwidth": 2,
            "linecolor": "white",
            "showbackground": true,
            "ticks": "",
            "zerolinecolor": "white"
           },
           "zaxis": {
            "backgroundcolor": "#E5ECF6",
            "gridcolor": "white",
            "gridwidth": 2,
            "linecolor": "white",
            "showbackground": true,
            "ticks": "",
            "zerolinecolor": "white"
           }
          },
          "shapedefaults": {
           "line": {
            "color": "#2a3f5f"
           }
          },
          "ternary": {
           "aaxis": {
            "gridcolor": "white",
            "linecolor": "white",
            "ticks": ""
           },
           "baxis": {
            "gridcolor": "white",
            "linecolor": "white",
            "ticks": ""
           },
           "bgcolor": "#E5ECF6",
           "caxis": {
            "gridcolor": "white",
            "linecolor": "white",
            "ticks": ""
           }
          },
          "title": {
           "x": 0.05
          },
          "xaxis": {
           "automargin": true,
           "gridcolor": "white",
           "linecolor": "white",
           "ticks": "",
           "title": {
            "standoff": 15
           },
           "zerolinecolor": "white",
           "zerolinewidth": 2
          },
          "yaxis": {
           "automargin": true,
           "gridcolor": "white",
           "linecolor": "white",
           "ticks": "",
           "title": {
            "standoff": 15
           },
           "zerolinecolor": "white",
           "zerolinewidth": 2
          }
         }
        },
        "title": {
         "text": "Optimization History Plot"
        },
        "xaxis": {
         "title": {
          "text": "Trial"
         }
        },
        "yaxis": {
         "title": {
          "text": "Objective Value"
         }
        }
       }
      }
     },
     "metadata": {},
     "output_type": "display_data"
    }
   ],
   "source": [
    "fig = optuna.visualization.plot_optimization_history(study)\n",
    "graph_path = Path(f\"../figures/{params.MODEL_TYPE}/{params.MODEL_NAME}/\")\n",
    "if not os.path.exists(graph_path):\n",
    "    os.makedirs(graph_path)\n",
    "graph_path = f\"../figures/{params.MODEL_TYPE}/{params.MODEL_NAME}/plot_optimization_history_graph\"\n",
    "fig.write_image(Path(f\"{graph_path}.png\"))\n",
    "fig.show()"
   ]
  },
  {
   "cell_type": "code",
   "execution_count": 15,
   "id": "92103de1",
   "metadata": {},
   "outputs": [
    {
     "data": {
      "application/vnd.plotly.v1+json": {
       "config": {
        "plotlyServerURL": "https://plot.ly"
       },
       "data": [
        {
         "marker": {
          "maxdisplayed": 10
         },
         "mode": "lines+markers",
         "name": "Trial0",
         "type": "scatter",
         "x": [
          0,
          1,
          2,
          3,
          4,
          5,
          6,
          7,
          8,
          9,
          10,
          11,
          12,
          13,
          14,
          15,
          16,
          17,
          18,
          19,
          20,
          21,
          22,
          23,
          24,
          25,
          26,
          27,
          28,
          29,
          30,
          31,
          32,
          33,
          34,
          35,
          36,
          37,
          38,
          39,
          40,
          41,
          42,
          43,
          44,
          45,
          46,
          47,
          48,
          49
         ],
         "y": [
          0.5006797214349111,
          0.4221433773636818,
          0.3745246132214864,
          0.341454208518068,
          0.32586101988951366,
          0.31100860279467374,
          0.29962519130536486,
          0.29087028807650006,
          0.2845211299481215,
          0.2770828085641066,
          0.27177570873137674,
          0.267432153224945,
          0.26453920033497685,
          0.259351753053211,
          0.2558110045062171,
          0.2534549369787177,
          0.2523945913303132,
          0.2509121398131053,
          0.24882923537179044,
          0.24688007086515426,
          0.24513153672691376,
          0.24341676181012933,
          0.24406633731247723,
          0.24592686289300522,
          0.24726700792709988,
          0.24873916413157415,
          0.24776622266681106,
          0.2466364915349654,
          0.24494782972267307,
          0.24354612885249988,
          0.24250459246417527,
          0.24298101337626576,
          0.2448180727284364,
          0.24628750220233317,
          0.2510564217964808,
          0.25358132121187665,
          0.25610375645998357,
          0.25664453855470604,
          0.2601443257214676,
          0.2685333625103037,
          0.27427598185897845,
          0.27980769242322634,
          0.28468522631613785,
          0.29002998018580856,
          0.2936715001861254,
          0.3014085210211899,
          0.3056565567005611,
          0.30877629248425364,
          0.3106078033645948,
          0.3142504338920116
         ]
        },
        {
         "marker": {
          "maxdisplayed": 10
         },
         "mode": "lines+markers",
         "name": "Trial1",
         "type": "scatter",
         "x": [
          0,
          1,
          2,
          3,
          4,
          5,
          6,
          7,
          8,
          9,
          10,
          11,
          12,
          13,
          14,
          15,
          16,
          17,
          18,
          19,
          20,
          21,
          22,
          23,
          24,
          25,
          26,
          27,
          28,
          29,
          30,
          31,
          32,
          33,
          34,
          35,
          36,
          37,
          38,
          39,
          40,
          41,
          42,
          43,
          44,
          45,
          46,
          47,
          48,
          49
         ],
         "y": [
          0.8619972169399261,
          0.7933999796708424,
          0.747254408068127,
          0.7102253461877505,
          0.6827885031700134,
          0.6604442546765009,
          0.6425260802110035,
          0.6267863102257252,
          0.6137700500311675,
          0.6027075722813606,
          0.5929654263185733,
          0.584237776696682,
          0.5761265953381856,
          0.5684306511566752,
          0.5615427219205432,
          0.555026610692342,
          0.5494245924786024,
          0.5482547065174138,
          0.5426604967368277,
          0.5375725438197454,
          0.534151920960063,
          0.5294201798511273,
          0.5250426250091497,
          0.5211545024067163,
          0.5177532213926316,
          0.5140383270306464,
          0.5106738656759262,
          0.5077039230437506,
          0.5045803672280805,
          0.5017721320192019,
          0.4987805966408022,
          0.49604694452136755,
          0.4934097341816835,
          0.49119818371300605,
          0.4895081144003641,
          0.48717986709541744,
          0.48480319936533234,
          0.48278819390556266,
          0.4806632907726826,
          0.47863633160789815,
          0.4770462976965478,
          0.4750700313893576,
          0.4731001077696335,
          0.4712424490487938,
          0.4696108794874616,
          0.46784613281488424,
          0.4661946511226344,
          0.4646512289635009,
          0.463349123288985,
          0.46264067639907197
         ]
        },
        {
         "marker": {
          "maxdisplayed": 10
         },
         "mode": "lines+markers",
         "name": "Trial2",
         "type": "scatter",
         "x": [
          0,
          1,
          2,
          3,
          4,
          5,
          6,
          7,
          8,
          9,
          10,
          11,
          12,
          13,
          14,
          15,
          16,
          17,
          18,
          19,
          20,
          21,
          22,
          23,
          24,
          25,
          26,
          27,
          28,
          29,
          30,
          31,
          32,
          33,
          34,
          35,
          36,
          37,
          38,
          39,
          40,
          41,
          42,
          43,
          44,
          45,
          46,
          47,
          48,
          49
         ],
         "y": [
          0.8791762987772623,
          0.8493396391471226,
          0.8491667442851596,
          0.7895006711284319,
          0.7684126893679301,
          0.7386912074353958,
          0.873040701661791,
          0.8327668731411297,
          0.8042234127168302,
          0.7745348249872526,
          0.745853175719579,
          0.7352381133370929,
          0.7132551631866357,
          0.7702830966029849,
          0.7713823239008586,
          0.7695168958355982,
          0.7650861734268711,
          0.7606517021302823,
          0.7552776352355354,
          0.759397209684054,
          0.7542046289595346,
          0.7540866448120638,
          0.748252669106359,
          0.7849631533026695,
          0.7881431504090627,
          0.7863462273126992,
          0.7833954831700266,
          0.7781049318256832,
          0.7725478242868664,
          0.7673718783590527,
          0.7624524149202531,
          0.7588730944941441,
          0.7538477850682808,
          0.748840953205146,
          0.7452415068944295,
          0.7452465210247923,
          0.7414178048168216,
          0.7481285215992677,
          0.7448850416729592,
          0.7671473582585653,
          0.768957713270575,
          0.767381754659471,
          0.7649303827174875,
          0.7616119152217201,
          0.7584466227778683,
          0.755077445636625,
          0.7518194163521978,
          0.7485318394998709,
          0.7451227126883812,
          0.7420505611101785
         ]
        },
        {
         "marker": {
          "maxdisplayed": 10
         },
         "mode": "lines+markers",
         "name": "Trial3",
         "type": "scatter",
         "x": [
          0,
          1,
          2,
          3,
          4,
          5,
          6,
          7,
          8,
          9,
          10,
          11,
          12,
          13,
          14,
          15,
          16,
          17,
          18,
          19,
          20,
          21,
          22,
          23,
          24,
          25,
          26,
          27,
          28,
          29,
          30,
          31,
          32,
          33,
          34,
          35,
          36,
          37,
          38,
          39,
          40,
          41,
          42,
          43,
          44,
          45,
          46,
          47,
          48,
          49
         ],
         "y": [
          0.7575381596883138,
          0.7361354778210323,
          0.7169102927049001,
          0.7022897650798162,
          0.6928624331951141,
          0.6839317712518903,
          0.6782617086455935,
          0.6737228867908319,
          0.6696917425703119,
          0.6664388368527094,
          0.6625397828492251,
          0.6597626763913367,
          0.6577118772726792,
          0.6547062432482129,
          0.6523501634597778,
          0.6504394200940927,
          0.6484244576856203,
          0.6460872573984995,
          0.6440071176018632,
          0.6419188931584359,
          0.6400131715668573,
          0.6385709182782607,
          0.6368994773298071,
          0.6353485228286849,
          0.633858406941096,
          0.6324838411349517,
          0.6310178081930419,
          0.6296434540833745,
          0.628562055442525,
          0.6273423244555791,
          0.6267878550996063,
          0.6259736750895779,
          0.6252117298468196,
          0.6241368937726115,
          0.6232817505087173,
          0.6225366873873606,
          0.6215018066200051,
          0.6206519569744144,
          0.6198088600594774,
          0.6191861222187678,
          0.6188101746687074,
          0.6182138955309276,
          0.6175147643847059,
          0.6170138750563967,
          0.6162204901377359,
          0.6157613558613735,
          0.6151274856946146,
          0.6145196012738677,
          0.6138374164801876,
          0.6134521935383479
         ]
        },
        {
         "marker": {
          "maxdisplayed": 10
         },
         "mode": "lines+markers",
         "name": "Trial4",
         "type": "scatter",
         "x": [
          0,
          1,
          2,
          3,
          4,
          5,
          6,
          7,
          8,
          9,
          10,
          11,
          12,
          13,
          14,
          15,
          16,
          17,
          18,
          19,
          20,
          21,
          22,
          23,
          24,
          25,
          26,
          27,
          28,
          29,
          30,
          31,
          32,
          33,
          34,
          35,
          36,
          37,
          38,
          39,
          40,
          41,
          42,
          43,
          44,
          45,
          46,
          47,
          48,
          49
         ],
         "y": [
          0.7198111911614736,
          0.6863048821687698,
          0.5812307463751899,
          0.5159142067035039,
          0.4812736570835113,
          0.4889469891786575,
          0.4528228186425708,
          0.43507061402002967,
          0.40941681492107884,
          0.39046694238980606,
          0.3730937364426526,
          0.359175376387106,
          0.3459295896001351,
          0.3371137857791923,
          0.32676422380738784,
          0.317307902344813,
          0.3093450079653777,
          0.3014866030878491,
          0.29423671490267705,
          0.2899674610545238,
          0.28433146233123446,
          0.28324858923301555,
          0.2858628653313803,
          0.28060748128013474,
          0.2770418988664945,
          0.2725382403303415,
          0.2688771647251682,
          0.26528294748138814,
          0.26141889016518643,
          0.25996095091104504,
          0.2569473638169227,
          0.25403104202511406,
          0.25186657461554113,
          0.24945716253098318,
          0.24747736163082576,
          0.2527492948014427,
          0.2513208934986913,
          0.24892519153001014,
          0.24674368700665283,
          0.24626192034532624,
          0.24419439977746665,
          0.24332135082000775,
          0.2413745674398518,
          0.24032416228543624,
          0.24227180668601278,
          0.24059936728166492,
          0.23902351705106434,
          0.23839642831848726,
          0.23765465880737824,
          0.23614388053615887
         ]
        },
        {
         "marker": {
          "maxdisplayed": 10
         },
         "mode": "lines+markers",
         "name": "Trial5",
         "type": "scatter",
         "x": [
          0,
          1,
          2,
          3,
          4,
          5,
          6,
          7,
          8,
          9,
          10,
          11,
          12,
          13,
          14,
          15,
          16,
          17,
          18,
          19,
          20,
          21,
          22,
          23,
          24,
          25,
          26,
          27,
          28,
          29,
          30,
          31,
          32,
          33,
          34,
          35,
          36,
          37,
          38,
          39,
          40,
          41,
          42,
          43,
          44,
          45,
          46,
          47,
          48,
          49
         ],
         "y": [
          0.6723708609739939,
          0.5446349605917931,
          0.4676270501481162,
          0.42038686449329055,
          0.3870775153239568,
          0.36365436017513275,
          0.34206656366586685,
          0.32458862382918596,
          0.3092903105749024,
          0.2960265872379144,
          0.2868954850868745,
          0.27677440519134205,
          0.26841844599216413,
          0.2612339359308992,
          0.2541302338242531,
          0.24811339021349946,
          0.24297098070383072,
          0.23847514501324404,
          0.23365476649058492,
          0.22953405156731604,
          0.22532541375784648,
          0.22173078211419509,
          0.21824925716804422,
          0.21585613085577884,
          0.21329710334539415,
          0.21055824352571598,
          0.20820066171847743,
          0.20564708362023035,
          0.20351667398180084,
          0.2014827790773577,
          0.19969414030351945,
          0.19785317351731163,
          0.19633249577247738,
          0.19458585962945343,
          0.19278290548494886,
          0.19101982543037999,
          0.18976561366035058,
          0.18826848608359956,
          0.18690583453728601,
          0.18534456457321843,
          0.18388494113233034,
          0.18283325188334973,
          0.18159820376209512,
          0.1802822911660328,
          0.17908682825940628,
          0.17789332852091477,
          0.17671562321748296,
          0.17574058245453572,
          0.17483484418112408,
          0.17383712733785317
         ]
        },
        {
         "marker": {
          "maxdisplayed": 10
         },
         "mode": "lines+markers",
         "name": "Trial6",
         "type": "scatter",
         "x": [
          0
         ],
         "y": [
          0.9034106532732645
         ]
        },
        {
         "marker": {
          "maxdisplayed": 10
         },
         "mode": "lines+markers",
         "name": "Trial7",
         "type": "scatter",
         "x": [
          0
         ],
         "y": [
          0.767436554034551
         ]
        },
        {
         "marker": {
          "maxdisplayed": 10
         },
         "mode": "lines+markers",
         "name": "Trial8",
         "type": "scatter",
         "x": [
          0
         ],
         "y": [
          0.9510398705800375
         ]
        },
        {
         "marker": {
          "maxdisplayed": 10
         },
         "mode": "lines+markers",
         "name": "Trial9",
         "type": "scatter",
         "x": [
          0,
          1,
          2,
          3,
          4,
          5,
          6,
          7,
          8,
          9,
          10,
          11,
          12,
          13,
          14
         ],
         "y": [
          0.5071629087130228,
          0.4560109004378319,
          0.5623114887211057,
          0.5109412471453348,
          0.4884306808312734,
          0.4655108484956953,
          0.45121209323406214,
          0.4519406072795391,
          0.5196258933455856,
          0.5342789113521575,
          0.5284198034893383,
          0.5153808275030719,
          0.5040186945444498,
          0.49781505124909536,
          0.4868347667985492
         ]
        }
       ],
       "layout": {
        "showlegend": false,
        "template": {
         "data": {
          "bar": [
           {
            "error_x": {
             "color": "#2a3f5f"
            },
            "error_y": {
             "color": "#2a3f5f"
            },
            "marker": {
             "line": {
              "color": "#E5ECF6",
              "width": 0.5
             },
             "pattern": {
              "fillmode": "overlay",
              "size": 10,
              "solidity": 0.2
             }
            },
            "type": "bar"
           }
          ],
          "barpolar": [
           {
            "marker": {
             "line": {
              "color": "#E5ECF6",
              "width": 0.5
             },
             "pattern": {
              "fillmode": "overlay",
              "size": 10,
              "solidity": 0.2
             }
            },
            "type": "barpolar"
           }
          ],
          "carpet": [
           {
            "aaxis": {
             "endlinecolor": "#2a3f5f",
             "gridcolor": "white",
             "linecolor": "white",
             "minorgridcolor": "white",
             "startlinecolor": "#2a3f5f"
            },
            "baxis": {
             "endlinecolor": "#2a3f5f",
             "gridcolor": "white",
             "linecolor": "white",
             "minorgridcolor": "white",
             "startlinecolor": "#2a3f5f"
            },
            "type": "carpet"
           }
          ],
          "choropleth": [
           {
            "colorbar": {
             "outlinewidth": 0,
             "ticks": ""
            },
            "type": "choropleth"
           }
          ],
          "contour": [
           {
            "colorbar": {
             "outlinewidth": 0,
             "ticks": ""
            },
            "colorscale": [
             [
              0,
              "#0d0887"
             ],
             [
              0.1111111111111111,
              "#46039f"
             ],
             [
              0.2222222222222222,
              "#7201a8"
             ],
             [
              0.3333333333333333,
              "#9c179e"
             ],
             [
              0.4444444444444444,
              "#bd3786"
             ],
             [
              0.5555555555555556,
              "#d8576b"
             ],
             [
              0.6666666666666666,
              "#ed7953"
             ],
             [
              0.7777777777777778,
              "#fb9f3a"
             ],
             [
              0.8888888888888888,
              "#fdca26"
             ],
             [
              1,
              "#f0f921"
             ]
            ],
            "type": "contour"
           }
          ],
          "contourcarpet": [
           {
            "colorbar": {
             "outlinewidth": 0,
             "ticks": ""
            },
            "type": "contourcarpet"
           }
          ],
          "heatmap": [
           {
            "colorbar": {
             "outlinewidth": 0,
             "ticks": ""
            },
            "colorscale": [
             [
              0,
              "#0d0887"
             ],
             [
              0.1111111111111111,
              "#46039f"
             ],
             [
              0.2222222222222222,
              "#7201a8"
             ],
             [
              0.3333333333333333,
              "#9c179e"
             ],
             [
              0.4444444444444444,
              "#bd3786"
             ],
             [
              0.5555555555555556,
              "#d8576b"
             ],
             [
              0.6666666666666666,
              "#ed7953"
             ],
             [
              0.7777777777777778,
              "#fb9f3a"
             ],
             [
              0.8888888888888888,
              "#fdca26"
             ],
             [
              1,
              "#f0f921"
             ]
            ],
            "type": "heatmap"
           }
          ],
          "heatmapgl": [
           {
            "colorbar": {
             "outlinewidth": 0,
             "ticks": ""
            },
            "colorscale": [
             [
              0,
              "#0d0887"
             ],
             [
              0.1111111111111111,
              "#46039f"
             ],
             [
              0.2222222222222222,
              "#7201a8"
             ],
             [
              0.3333333333333333,
              "#9c179e"
             ],
             [
              0.4444444444444444,
              "#bd3786"
             ],
             [
              0.5555555555555556,
              "#d8576b"
             ],
             [
              0.6666666666666666,
              "#ed7953"
             ],
             [
              0.7777777777777778,
              "#fb9f3a"
             ],
             [
              0.8888888888888888,
              "#fdca26"
             ],
             [
              1,
              "#f0f921"
             ]
            ],
            "type": "heatmapgl"
           }
          ],
          "histogram": [
           {
            "marker": {
             "pattern": {
              "fillmode": "overlay",
              "size": 10,
              "solidity": 0.2
             }
            },
            "type": "histogram"
           }
          ],
          "histogram2d": [
           {
            "colorbar": {
             "outlinewidth": 0,
             "ticks": ""
            },
            "colorscale": [
             [
              0,
              "#0d0887"
             ],
             [
              0.1111111111111111,
              "#46039f"
             ],
             [
              0.2222222222222222,
              "#7201a8"
             ],
             [
              0.3333333333333333,
              "#9c179e"
             ],
             [
              0.4444444444444444,
              "#bd3786"
             ],
             [
              0.5555555555555556,
              "#d8576b"
             ],
             [
              0.6666666666666666,
              "#ed7953"
             ],
             [
              0.7777777777777778,
              "#fb9f3a"
             ],
             [
              0.8888888888888888,
              "#fdca26"
             ],
             [
              1,
              "#f0f921"
             ]
            ],
            "type": "histogram2d"
           }
          ],
          "histogram2dcontour": [
           {
            "colorbar": {
             "outlinewidth": 0,
             "ticks": ""
            },
            "colorscale": [
             [
              0,
              "#0d0887"
             ],
             [
              0.1111111111111111,
              "#46039f"
             ],
             [
              0.2222222222222222,
              "#7201a8"
             ],
             [
              0.3333333333333333,
              "#9c179e"
             ],
             [
              0.4444444444444444,
              "#bd3786"
             ],
             [
              0.5555555555555556,
              "#d8576b"
             ],
             [
              0.6666666666666666,
              "#ed7953"
             ],
             [
              0.7777777777777778,
              "#fb9f3a"
             ],
             [
              0.8888888888888888,
              "#fdca26"
             ],
             [
              1,
              "#f0f921"
             ]
            ],
            "type": "histogram2dcontour"
           }
          ],
          "mesh3d": [
           {
            "colorbar": {
             "outlinewidth": 0,
             "ticks": ""
            },
            "type": "mesh3d"
           }
          ],
          "parcoords": [
           {
            "line": {
             "colorbar": {
              "outlinewidth": 0,
              "ticks": ""
             }
            },
            "type": "parcoords"
           }
          ],
          "pie": [
           {
            "automargin": true,
            "type": "pie"
           }
          ],
          "scatter": [
           {
            "fillpattern": {
             "fillmode": "overlay",
             "size": 10,
             "solidity": 0.2
            },
            "type": "scatter"
           }
          ],
          "scatter3d": [
           {
            "line": {
             "colorbar": {
              "outlinewidth": 0,
              "ticks": ""
             }
            },
            "marker": {
             "colorbar": {
              "outlinewidth": 0,
              "ticks": ""
             }
            },
            "type": "scatter3d"
           }
          ],
          "scattercarpet": [
           {
            "marker": {
             "colorbar": {
              "outlinewidth": 0,
              "ticks": ""
             }
            },
            "type": "scattercarpet"
           }
          ],
          "scattergeo": [
           {
            "marker": {
             "colorbar": {
              "outlinewidth": 0,
              "ticks": ""
             }
            },
            "type": "scattergeo"
           }
          ],
          "scattergl": [
           {
            "marker": {
             "colorbar": {
              "outlinewidth": 0,
              "ticks": ""
             }
            },
            "type": "scattergl"
           }
          ],
          "scattermapbox": [
           {
            "marker": {
             "colorbar": {
              "outlinewidth": 0,
              "ticks": ""
             }
            },
            "type": "scattermapbox"
           }
          ],
          "scatterpolar": [
           {
            "marker": {
             "colorbar": {
              "outlinewidth": 0,
              "ticks": ""
             }
            },
            "type": "scatterpolar"
           }
          ],
          "scatterpolargl": [
           {
            "marker": {
             "colorbar": {
              "outlinewidth": 0,
              "ticks": ""
             }
            },
            "type": "scatterpolargl"
           }
          ],
          "scatterternary": [
           {
            "marker": {
             "colorbar": {
              "outlinewidth": 0,
              "ticks": ""
             }
            },
            "type": "scatterternary"
           }
          ],
          "surface": [
           {
            "colorbar": {
             "outlinewidth": 0,
             "ticks": ""
            },
            "colorscale": [
             [
              0,
              "#0d0887"
             ],
             [
              0.1111111111111111,
              "#46039f"
             ],
             [
              0.2222222222222222,
              "#7201a8"
             ],
             [
              0.3333333333333333,
              "#9c179e"
             ],
             [
              0.4444444444444444,
              "#bd3786"
             ],
             [
              0.5555555555555556,
              "#d8576b"
             ],
             [
              0.6666666666666666,
              "#ed7953"
             ],
             [
              0.7777777777777778,
              "#fb9f3a"
             ],
             [
              0.8888888888888888,
              "#fdca26"
             ],
             [
              1,
              "#f0f921"
             ]
            ],
            "type": "surface"
           }
          ],
          "table": [
           {
            "cells": {
             "fill": {
              "color": "#EBF0F8"
             },
             "line": {
              "color": "white"
             }
            },
            "header": {
             "fill": {
              "color": "#C8D4E3"
             },
             "line": {
              "color": "white"
             }
            },
            "type": "table"
           }
          ]
         },
         "layout": {
          "annotationdefaults": {
           "arrowcolor": "#2a3f5f",
           "arrowhead": 0,
           "arrowwidth": 1
          },
          "autotypenumbers": "strict",
          "coloraxis": {
           "colorbar": {
            "outlinewidth": 0,
            "ticks": ""
           }
          },
          "colorscale": {
           "diverging": [
            [
             0,
             "#8e0152"
            ],
            [
             0.1,
             "#c51b7d"
            ],
            [
             0.2,
             "#de77ae"
            ],
            [
             0.3,
             "#f1b6da"
            ],
            [
             0.4,
             "#fde0ef"
            ],
            [
             0.5,
             "#f7f7f7"
            ],
            [
             0.6,
             "#e6f5d0"
            ],
            [
             0.7,
             "#b8e186"
            ],
            [
             0.8,
             "#7fbc41"
            ],
            [
             0.9,
             "#4d9221"
            ],
            [
             1,
             "#276419"
            ]
           ],
           "sequential": [
            [
             0,
             "#0d0887"
            ],
            [
             0.1111111111111111,
             "#46039f"
            ],
            [
             0.2222222222222222,
             "#7201a8"
            ],
            [
             0.3333333333333333,
             "#9c179e"
            ],
            [
             0.4444444444444444,
             "#bd3786"
            ],
            [
             0.5555555555555556,
             "#d8576b"
            ],
            [
             0.6666666666666666,
             "#ed7953"
            ],
            [
             0.7777777777777778,
             "#fb9f3a"
            ],
            [
             0.8888888888888888,
             "#fdca26"
            ],
            [
             1,
             "#f0f921"
            ]
           ],
           "sequentialminus": [
            [
             0,
             "#0d0887"
            ],
            [
             0.1111111111111111,
             "#46039f"
            ],
            [
             0.2222222222222222,
             "#7201a8"
            ],
            [
             0.3333333333333333,
             "#9c179e"
            ],
            [
             0.4444444444444444,
             "#bd3786"
            ],
            [
             0.5555555555555556,
             "#d8576b"
            ],
            [
             0.6666666666666666,
             "#ed7953"
            ],
            [
             0.7777777777777778,
             "#fb9f3a"
            ],
            [
             0.8888888888888888,
             "#fdca26"
            ],
            [
             1,
             "#f0f921"
            ]
           ]
          },
          "colorway": [
           "#636efa",
           "#EF553B",
           "#00cc96",
           "#ab63fa",
           "#FFA15A",
           "#19d3f3",
           "#FF6692",
           "#B6E880",
           "#FF97FF",
           "#FECB52"
          ],
          "font": {
           "color": "#2a3f5f"
          },
          "geo": {
           "bgcolor": "white",
           "lakecolor": "white",
           "landcolor": "#E5ECF6",
           "showlakes": true,
           "showland": true,
           "subunitcolor": "white"
          },
          "hoverlabel": {
           "align": "left"
          },
          "hovermode": "closest",
          "mapbox": {
           "style": "light"
          },
          "paper_bgcolor": "white",
          "plot_bgcolor": "#E5ECF6",
          "polar": {
           "angularaxis": {
            "gridcolor": "white",
            "linecolor": "white",
            "ticks": ""
           },
           "bgcolor": "#E5ECF6",
           "radialaxis": {
            "gridcolor": "white",
            "linecolor": "white",
            "ticks": ""
           }
          },
          "scene": {
           "xaxis": {
            "backgroundcolor": "#E5ECF6",
            "gridcolor": "white",
            "gridwidth": 2,
            "linecolor": "white",
            "showbackground": true,
            "ticks": "",
            "zerolinecolor": "white"
           },
           "yaxis": {
            "backgroundcolor": "#E5ECF6",
            "gridcolor": "white",
            "gridwidth": 2,
            "linecolor": "white",
            "showbackground": true,
            "ticks": "",
            "zerolinecolor": "white"
           },
           "zaxis": {
            "backgroundcolor": "#E5ECF6",
            "gridcolor": "white",
            "gridwidth": 2,
            "linecolor": "white",
            "showbackground": true,
            "ticks": "",
            "zerolinecolor": "white"
           }
          },
          "shapedefaults": {
           "line": {
            "color": "#2a3f5f"
           }
          },
          "ternary": {
           "aaxis": {
            "gridcolor": "white",
            "linecolor": "white",
            "ticks": ""
           },
           "baxis": {
            "gridcolor": "white",
            "linecolor": "white",
            "ticks": ""
           },
           "bgcolor": "#E5ECF6",
           "caxis": {
            "gridcolor": "white",
            "linecolor": "white",
            "ticks": ""
           }
          },
          "title": {
           "x": 0.05
          },
          "xaxis": {
           "automargin": true,
           "gridcolor": "white",
           "linecolor": "white",
           "ticks": "",
           "title": {
            "standoff": 15
           },
           "zerolinecolor": "white",
           "zerolinewidth": 2
          },
          "yaxis": {
           "automargin": true,
           "gridcolor": "white",
           "linecolor": "white",
           "ticks": "",
           "title": {
            "standoff": 15
           },
           "zerolinecolor": "white",
           "zerolinewidth": 2
          }
         }
        },
        "title": {
         "text": "Intermediate Values Plot"
        },
        "xaxis": {
         "title": {
          "text": "Step"
         }
        },
        "yaxis": {
         "title": {
          "text": "Intermediate Value"
         }
        }
       }
      }
     },
     "metadata": {},
     "output_type": "display_data"
    }
   ],
   "source": [
    "fig = optuna.visualization.plot_intermediate_values(study)\n",
    "graph_path = Path(f\"../figures/{params.MODEL_TYPE}/{params.MODEL_NAME}/\")\n",
    "if not os.path.exists(graph_path):\n",
    "    os.makedirs(graph_path)\n",
    "graph_path = (\n",
    "    f\"../figures/{params.MODEL_TYPE}/{params.MODEL_NAME}/plot_intermediate_values_graph\"\n",
    ")\n",
    "fig.write_image(Path(f\"{graph_path}.png\"))\n",
    "fig.show()"
   ]
  },
  {
   "cell_type": "code",
   "execution_count": 16,
   "id": "325a1ec3",
   "metadata": {},
   "outputs": [],
   "source": [
    "param_dict = extract_best_trial_params(\n",
    "    study.best_params, params, model_name=params.MODEL_NAME\n",
    ")"
   ]
  },
  {
   "cell_type": "code",
   "execution_count": 17,
   "id": "50e946e7",
   "metadata": {},
   "outputs": [
    {
     "name": "stdout",
     "output_type": "stream",
     "text": [
      "SGD\n",
      "Epoch 0: Validation loss decreased (inf --> 0.544334).  Saving model ...\n",
      "\t Train_Loss: 0.6918 Train_Acc: 67.664 Val_Loss: 0.5443  BEST VAL Loss: 0.5443  Val_Acc: 76.646\n",
      "\n",
      "Epoch 1: Validation loss decreased (0.544334 --> 0.469214).  Saving model ...\n",
      "\t Train_Loss: 0.5609 Train_Acc: 83.743 Val_Loss: 0.4692  BEST VAL Loss: 0.4692  Val_Acc: 84.298\n",
      "\n",
      "Epoch 2: Validation loss decreased (0.469214 --> 0.414304).  Saving model ...\n",
      "\t Train_Loss: 0.4909 Train_Acc: 86.829 Val_Loss: 0.4143  BEST VAL Loss: 0.4143  Val_Acc: 88.485\n",
      "\n",
      "Epoch 3: Validation loss decreased (0.414304 --> 0.377341).  Saving model ...\n",
      "\t Train_Loss: 0.4461 Train_Acc: 88.316 Val_Loss: 0.3773  BEST VAL Loss: 0.3773  Val_Acc: 90.864\n",
      "\n",
      "Epoch 4: Validation loss decreased (0.377341 --> 0.347999).  Saving model ...\n",
      "\t Train_Loss: 0.4144 Train_Acc: 89.297 Val_Loss: 0.3480  BEST VAL Loss: 0.3480  Val_Acc: 91.930\n",
      "\n",
      "Epoch 5: Validation loss decreased (0.347999 --> 0.325473).  Saving model ...\n",
      "\t Train_Loss: 0.3901 Train_Acc: 89.808 Val_Loss: 0.3255  BEST VAL Loss: 0.3255  Val_Acc: 92.577\n",
      "\n",
      "Epoch 6: Validation loss decreased (0.325473 --> 0.307791).  Saving model ...\n",
      "\t Train_Loss: 0.3703 Train_Acc: 90.334 Val_Loss: 0.3078  BEST VAL Loss: 0.3078  Val_Acc: 93.205\n",
      "\n",
      "Epoch 7: Validation loss decreased (0.307791 --> 0.296630).  Saving model ...\n",
      "\t Train_Loss: 0.3546 Train_Acc: 90.839 Val_Loss: 0.2966  BEST VAL Loss: 0.2966  Val_Acc: 92.254\n",
      "\n",
      "Epoch 8: Validation loss decreased (0.296630 --> 0.284084).  Saving model ...\n",
      "\t Train_Loss: 0.3408 Train_Acc: 91.308 Val_Loss: 0.2841  BEST VAL Loss: 0.2841  Val_Acc: 93.148\n",
      "\n",
      "Epoch 9: Validation loss decreased (0.284084 --> 0.274304).  Saving model ...\n",
      "\t Train_Loss: 0.3288 Train_Acc: 91.712 Val_Loss: 0.2743  BEST VAL Loss: 0.2743  Val_Acc: 93.243\n",
      "\n",
      "Epoch 10: Validation loss decreased (0.274304 --> 0.268467).  Saving model ...\n",
      "\t Train_Loss: 0.3183 Train_Acc: 91.948 Val_Loss: 0.2685  BEST VAL Loss: 0.2685  Val_Acc: 91.721\n",
      "\n",
      "Epoch 11: Validation loss decreased (0.268467 --> 0.260604).  Saving model ...\n",
      "\t Train_Loss: 0.3099 Train_Acc: 91.824 Val_Loss: 0.2606  BEST VAL Loss: 0.2606  Val_Acc: 93.662\n",
      "\n",
      "Epoch 12: Validation loss decreased (0.260604 --> 0.253888).  Saving model ...\n",
      "\t Train_Loss: 0.3018 Train_Acc: 92.126 Val_Loss: 0.2539  BEST VAL Loss: 0.2539  Val_Acc: 93.567\n",
      "\n",
      "Epoch 13: Validation loss decreased (0.253888 --> 0.247440).  Saving model ...\n",
      "\t Train_Loss: 0.2943 Train_Acc: 92.669 Val_Loss: 0.2474  BEST VAL Loss: 0.2474  Val_Acc: 94.119\n",
      "\n",
      "Epoch 14: Validation loss decreased (0.247440 --> 0.241954).  Saving model ...\n",
      "\t Train_Loss: 0.2877 Train_Acc: 92.683 Val_Loss: 0.2420  BEST VAL Loss: 0.2420  Val_Acc: 93.947\n",
      "\n",
      "Epoch 15: Validation loss decreased (0.241954 --> 0.236430).  Saving model ...\n",
      "\t Train_Loss: 0.2815 Train_Acc: 92.866 Val_Loss: 0.2364  BEST VAL Loss: 0.2364  Val_Acc: 94.385\n",
      "\n",
      "Epoch 16: Validation loss decreased (0.236430 --> 0.233704).  Saving model ...\n",
      "\t Train_Loss: 0.2757 Train_Acc: 92.995 Val_Loss: 0.2337  BEST VAL Loss: 0.2337  Val_Acc: 92.863\n",
      "\n",
      "Epoch 17: Validation loss decreased (0.233704 --> 0.229278).  Saving model ...\n",
      "\t Train_Loss: 0.2705 Train_Acc: 93.104 Val_Loss: 0.2293  BEST VAL Loss: 0.2293  Val_Acc: 94.233\n",
      "\n",
      "Epoch 18: Validation loss decreased (0.229278 --> 0.225249).  Saving model ...\n",
      "\t Train_Loss: 0.2658 Train_Acc: 93.142 Val_Loss: 0.2252  BEST VAL Loss: 0.2252  Val_Acc: 94.595\n",
      "\n",
      "Epoch 19: Validation loss decreased (0.225249 --> 0.221576).  Saving model ...\n",
      "\t Train_Loss: 0.2615 Train_Acc: 93.073 Val_Loss: 0.2216  BEST VAL Loss: 0.2216  Val_Acc: 94.537\n",
      "\n",
      "Epoch 20: Validation loss decreased (0.221576 --> 0.218670).  Saving model ...\n",
      "\t Train_Loss: 0.2573 Train_Acc: 93.256 Val_Loss: 0.2187  BEST VAL Loss: 0.2187  Val_Acc: 93.871\n",
      "\n",
      "Epoch 21: Validation loss decreased (0.218670 --> 0.215382).  Saving model ...\n",
      "\t Train_Loss: 0.2533 Train_Acc: 93.380 Val_Loss: 0.2154  BEST VAL Loss: 0.2154  Val_Acc: 94.652\n",
      "\n",
      "Epoch 22: Validation loss decreased (0.215382 --> 0.212598).  Saving model ...\n",
      "\t Train_Loss: 0.2496 Train_Acc: 93.711 Val_Loss: 0.2126  BEST VAL Loss: 0.2126  Val_Acc: 94.233\n",
      "\n",
      "Epoch 23: Validation loss decreased (0.212598 --> 0.209904).  Saving model ...\n",
      "\t Train_Loss: 0.2461 Train_Acc: 93.668 Val_Loss: 0.2099  BEST VAL Loss: 0.2099  Val_Acc: 94.709\n",
      "\n",
      "Epoch 24: Validation loss decreased (0.209904 --> 0.209018).  Saving model ...\n",
      "\t Train_Loss: 0.2428 Train_Acc: 93.839 Val_Loss: 0.2090  BEST VAL Loss: 0.2090  Val_Acc: 92.425\n",
      "\n",
      "Epoch 25: Validation loss decreased (0.209018 --> 0.206571).  Saving model ...\n",
      "\t Train_Loss: 0.2397 Train_Acc: 93.782 Val_Loss: 0.2066  BEST VAL Loss: 0.2066  Val_Acc: 94.537\n",
      "\n",
      "Epoch 26: Validation loss decreased (0.206571 --> 0.204266).  Saving model ...\n",
      "\t Train_Loss: 0.2366 Train_Acc: 94.049 Val_Loss: 0.2043  BEST VAL Loss: 0.2043  Val_Acc: 94.461\n",
      "\n",
      "Epoch 27: Validation loss decreased (0.204266 --> 0.202075).  Saving model ...\n",
      "\t Train_Loss: 0.2338 Train_Acc: 93.920 Val_Loss: 0.2021  BEST VAL Loss: 0.2021  Val_Acc: 94.671\n",
      "\n",
      "Epoch 28: Validation loss decreased (0.202075 --> 0.200218).  Saving model ...\n",
      "\t Train_Loss: 0.2311 Train_Acc: 94.084 Val_Loss: 0.2002  BEST VAL Loss: 0.2002  Val_Acc: 94.518\n",
      "\n",
      "Epoch 29: Validation loss decreased (0.200218 --> 0.198293).  Saving model ...\n",
      "\t Train_Loss: 0.2285 Train_Acc: 94.251 Val_Loss: 0.1983  BEST VAL Loss: 0.1983  Val_Acc: 94.804\n",
      "\n",
      "Epoch 30: Validation loss decreased (0.198293 --> 0.197139).  Saving model ...\n",
      "\t Train_Loss: 0.2260 Train_Acc: 94.113 Val_Loss: 0.1971  BEST VAL Loss: 0.1971  Val_Acc: 93.548\n",
      "\n",
      "Epoch 31: Validation loss decreased (0.197139 --> 0.195379).  Saving model ...\n",
      "\t Train_Loss: 0.2237 Train_Acc: 94.127 Val_Loss: 0.1954  BEST VAL Loss: 0.1954  Val_Acc: 94.842\n",
      "\n",
      "Epoch 32: Validation loss decreased (0.195379 --> 0.193788).  Saving model ...\n",
      "\t Train_Loss: 0.2214 Train_Acc: 94.339 Val_Loss: 0.1938  BEST VAL Loss: 0.1938  Val_Acc: 94.537\n",
      "\n",
      "Epoch 33: Validation loss decreased (0.193788 --> 0.192274).  Saving model ...\n",
      "\t Train_Loss: 0.2191 Train_Acc: 94.518 Val_Loss: 0.1923  BEST VAL Loss: 0.1923  Val_Acc: 94.595\n",
      "\n",
      "Epoch 34: Validation loss decreased (0.192274 --> 0.190629).  Saving model ...\n",
      "\t Train_Loss: 0.2169 Train_Acc: 94.608 Val_Loss: 0.1906  BEST VAL Loss: 0.1906  Val_Acc: 94.899\n",
      "\n",
      "Epoch 35: Validation loss decreased (0.190629 --> 0.189105).  Saving model ...\n",
      "\t Train_Loss: 0.2147 Train_Acc: 94.667 Val_Loss: 0.1891  BEST VAL Loss: 0.1891  Val_Acc: 95.089\n",
      "\n",
      "Epoch 36: Validation loss decreased (0.189105 --> 0.187563).  Saving model ...\n",
      "\t Train_Loss: 0.2127 Train_Acc: 94.798 Val_Loss: 0.1876  BEST VAL Loss: 0.1876  Val_Acc: 95.166\n",
      "\n",
      "Epoch 37: Validation loss decreased (0.187563 --> 0.186390).  Saving model ...\n",
      "\t Train_Loss: 0.2106 Train_Acc: 94.903 Val_Loss: 0.1864  BEST VAL Loss: 0.1864  Val_Acc: 94.747\n",
      "\n",
      "Epoch 38: Validation loss decreased (0.186390 --> 0.186196).  Saving model ...\n",
      "\t Train_Loss: 0.2087 Train_Acc: 94.775 Val_Loss: 0.1862  BEST VAL Loss: 0.1862  Val_Acc: 93.319\n",
      "\n",
      "Epoch 39: Validation loss decreased (0.186196 --> 0.184972).  Saving model ...\n",
      "\t Train_Loss: 0.2069 Train_Acc: 94.927 Val_Loss: 0.1850  BEST VAL Loss: 0.1850  Val_Acc: 95.089\n",
      "\n",
      "Epoch 40: Validation loss decreased (0.184972 --> 0.184086).  Saving model ...\n",
      "\t Train_Loss: 0.2051 Train_Acc: 94.936 Val_Loss: 0.1841  BEST VAL Loss: 0.1841  Val_Acc: 94.804\n",
      "\n",
      "Epoch 41: Validation loss decreased (0.184086 --> 0.182976).  Saving model ...\n",
      "\t Train_Loss: 0.2034 Train_Acc: 94.917 Val_Loss: 0.1830  BEST VAL Loss: 0.1830  Val_Acc: 95.089\n",
      "\n",
      "Epoch 42: Validation loss decreased (0.182976 --> 0.181809).  Saving model ...\n",
      "\t Train_Loss: 0.2017 Train_Acc: 95.105 Val_Loss: 0.1818  BEST VAL Loss: 0.1818  Val_Acc: 95.108\n",
      "\n",
      "Epoch 43: Validation loss decreased (0.181809 --> 0.180950).  Saving model ...\n",
      "\t Train_Loss: 0.2001 Train_Acc: 95.212 Val_Loss: 0.1810  BEST VAL Loss: 0.1810  Val_Acc: 94.842\n",
      "\n",
      "Epoch 44: Validation loss decreased (0.180950 --> 0.179944).  Saving model ...\n",
      "\t Train_Loss: 0.1985 Train_Acc: 95.155 Val_Loss: 0.1799  BEST VAL Loss: 0.1799  Val_Acc: 95.070\n",
      "\n",
      "Epoch 45: Validation loss decreased (0.179944 --> 0.178895).  Saving model ...\n",
      "\t Train_Loss: 0.1970 Train_Acc: 95.334 Val_Loss: 0.1789  BEST VAL Loss: 0.1789  Val_Acc: 95.147\n",
      "\n",
      "Epoch 46: Validation loss decreased (0.178895 --> 0.177903).  Saving model ...\n",
      "\t Train_Loss: 0.1955 Train_Acc: 95.165 Val_Loss: 0.1779  BEST VAL Loss: 0.1779  Val_Acc: 95.128\n",
      "\n",
      "Epoch 47: Validation loss decreased (0.177903 --> 0.176980).  Saving model ...\n",
      "\t Train_Loss: 0.1940 Train_Acc: 95.303 Val_Loss: 0.1770  BEST VAL Loss: 0.1770  Val_Acc: 95.204\n",
      "\n",
      "Epoch 48: Validation loss decreased (0.176980 --> 0.176551).  Saving model ...\n",
      "\t Train_Loss: 0.1927 Train_Acc: 95.253 Val_Loss: 0.1766  BEST VAL Loss: 0.1766  Val_Acc: 94.499\n",
      "\n",
      "Epoch 49: Validation loss decreased (0.176551 --> 0.175595).  Saving model ...\n",
      "\t Train_Loss: 0.1913 Train_Acc: 95.184 Val_Loss: 0.1756  BEST VAL Loss: 0.1756  Val_Acc: 95.280\n",
      "\n",
      "Epoch 50: Validation loss decreased (0.175595 --> 0.174664).  Saving model ...\n",
      "\t Train_Loss: 0.1899 Train_Acc: 95.543 Val_Loss: 0.1747  BEST VAL Loss: 0.1747  Val_Acc: 95.489\n",
      "\n",
      "Epoch 51: Validation loss decreased (0.174664 --> 0.173823).  Saving model ...\n",
      "\t Train_Loss: 0.1885 Train_Acc: 95.526 Val_Loss: 0.1738  BEST VAL Loss: 0.1738  Val_Acc: 95.223\n",
      "\n",
      "Epoch 52: Validation loss did not decrease\n",
      "\t Train_Loss: 0.1873 Train_Acc: 95.434 Val_Loss: 0.1747  BEST VAL Loss: 0.1738  Val_Acc: 92.196\n",
      "\n",
      "Epoch 53: Validation loss did not decrease\n",
      "\t Train_Loss: 0.1862 Train_Acc: 95.246 Val_Loss: 0.1740  BEST VAL Loss: 0.1738  Val_Acc: 95.051\n",
      "\n",
      "Epoch 54: Validation loss did not decrease\n",
      "\t Train_Loss: 0.1850 Train_Acc: 95.503 Val_Loss: 0.1746  BEST VAL Loss: 0.1738  Val_Acc: 93.072\n",
      "\n",
      "Epoch 55: Validation loss decreased (0.173823 --> 0.173689).  Saving model ...\n",
      "\t Train_Loss: 0.1838 Train_Acc: 95.479 Val_Loss: 0.1737  BEST VAL Loss: 0.1737  Val_Acc: 95.375\n",
      "\n",
      "Epoch 56: Validation loss decreased (0.173689 --> 0.172896).  Saving model ...\n",
      "\t Train_Loss: 0.1826 Train_Acc: 95.691 Val_Loss: 0.1729  BEST VAL Loss: 0.1729  Val_Acc: 95.223\n",
      "\n",
      "Epoch 57: Validation loss decreased (0.172896 --> 0.172161).  Saving model ...\n",
      "\t Train_Loss: 0.1814 Train_Acc: 95.741 Val_Loss: 0.1722  BEST VAL Loss: 0.1722  Val_Acc: 95.318\n",
      "\n",
      "Epoch 58: Validation loss decreased (0.172161 --> 0.171487).  Saving model ...\n",
      "\t Train_Loss: 0.1803 Train_Acc: 95.686 Val_Loss: 0.1715  BEST VAL Loss: 0.1715  Val_Acc: 95.280\n",
      "\n",
      "Epoch 59: Validation loss did not decrease\n",
      "\t Train_Loss: 0.1792 Train_Acc: 95.810 Val_Loss: 0.1734  BEST VAL Loss: 0.1715  Val_Acc: 90.046\n",
      "\n",
      "Epoch 60: Validation loss did not decrease\n",
      "\t Train_Loss: 0.1784 Train_Acc: 95.448 Val_Loss: 0.1730  BEST VAL Loss: 0.1715  Val_Acc: 94.480\n",
      "\n",
      "Epoch 61: Validation loss did not decrease\n",
      "\t Train_Loss: 0.1773 Train_Acc: 95.841 Val_Loss: 0.1723  BEST VAL Loss: 0.1715  Val_Acc: 95.546\n",
      "\n",
      "Epoch 62: Validation loss did not decrease\n",
      "\t Train_Loss: 0.1763 Train_Acc: 95.852 Val_Loss: 0.1715  BEST VAL Loss: 0.1715  Val_Acc: 95.337\n",
      "\n",
      "Epoch 63: Validation loss decreased (0.171487 --> 0.170851).  Saving model ...\n",
      "\t Train_Loss: 0.1752 Train_Acc: 95.979 Val_Loss: 0.1709  BEST VAL Loss: 0.1709  Val_Acc: 95.394\n",
      "\n",
      "Epoch 64: Validation loss decreased (0.170851 --> 0.170285).  Saving model ...\n",
      "\t Train_Loss: 0.1742 Train_Acc: 95.926 Val_Loss: 0.1703  BEST VAL Loss: 0.1703  Val_Acc: 95.223\n",
      "\n",
      "Epoch 65: Validation loss decreased (0.170285 --> 0.170013).  Saving model ...\n",
      "\t Train_Loss: 0.1732 Train_Acc: 95.957 Val_Loss: 0.1700  BEST VAL Loss: 0.1700  Val_Acc: 94.499\n",
      "\n",
      "Epoch 66: Validation loss decreased (0.170013 --> 0.169534).  Saving model ...\n",
      "\t Train_Loss: 0.1723 Train_Acc: 95.764 Val_Loss: 0.1695  BEST VAL Loss: 0.1695  Val_Acc: 94.842\n",
      "\n",
      "Epoch 67: Validation loss decreased (0.169534 --> 0.168973).  Saving model ...\n",
      "\t Train_Loss: 0.1713 Train_Acc: 96.121 Val_Loss: 0.1690  BEST VAL Loss: 0.1690  Val_Acc: 95.128\n",
      "\n",
      "Epoch 68: Validation loss decreased (0.168973 --> 0.168601).  Saving model ...\n",
      "\t Train_Loss: 0.1704 Train_Acc: 96.202 Val_Loss: 0.1686  BEST VAL Loss: 0.1686  Val_Acc: 94.975\n",
      "\n",
      "Epoch 69: Validation loss decreased (0.168601 --> 0.168078).  Saving model ...\n",
      "\t Train_Loss: 0.1695 Train_Acc: 95.955 Val_Loss: 0.1681  BEST VAL Loss: 0.1681  Val_Acc: 95.280\n",
      "\n",
      "Epoch 70: Validation loss decreased (0.168078 --> 0.167549).  Saving model ...\n",
      "\t Train_Loss: 0.1686 Train_Acc: 96.195 Val_Loss: 0.1675  BEST VAL Loss: 0.1675  Val_Acc: 95.432\n",
      "\n",
      "Epoch 71: Validation loss decreased (0.167549 --> 0.167016).  Saving model ...\n",
      "\t Train_Loss: 0.1677 Train_Acc: 96.095 Val_Loss: 0.1670  BEST VAL Loss: 0.1670  Val_Acc: 95.280\n",
      "\n",
      "Epoch 72: Validation loss decreased (0.167016 --> 0.166528).  Saving model ...\n",
      "\t Train_Loss: 0.1668 Train_Acc: 96.117 Val_Loss: 0.1665  BEST VAL Loss: 0.1665  Val_Acc: 95.223\n",
      "\n",
      "Epoch 73: Validation loss decreased (0.166528 --> 0.166004).  Saving model ...\n",
      "\t Train_Loss: 0.1660 Train_Acc: 96.221 Val_Loss: 0.1660  BEST VAL Loss: 0.1660  Val_Acc: 95.718\n",
      "\n",
      "Epoch 74: Validation loss decreased (0.166004 --> 0.165501).  Saving model ...\n",
      "\t Train_Loss: 0.1651 Train_Acc: 96.359 Val_Loss: 0.1655  BEST VAL Loss: 0.1655  Val_Acc: 95.356\n",
      "\n",
      "Epoch 75: Validation loss did not decrease\n",
      "\t Train_Loss: 0.1644 Train_Acc: 95.962 Val_Loss: 0.1659  BEST VAL Loss: 0.1655  Val_Acc: 92.406\n",
      "\n",
      "Epoch 76: Validation loss decreased (0.165501 --> 0.165438).  Saving model ...\n",
      "\t Train_Loss: 0.1637 Train_Acc: 95.826 Val_Loss: 0.1654  BEST VAL Loss: 0.1654  Val_Acc: 95.489\n",
      "\n",
      "Epoch 77: Validation loss decreased (0.165438 --> 0.164981).  Saving model ...\n",
      "\t Train_Loss: 0.1628 Train_Acc: 96.302 Val_Loss: 0.1650  BEST VAL Loss: 0.1650  Val_Acc: 95.356\n",
      "\n",
      "Epoch 78: Validation loss decreased (0.164981 --> 0.164909).  Saving model ...\n",
      "\t Train_Loss: 0.1621 Train_Acc: 96.326 Val_Loss: 0.1649  BEST VAL Loss: 0.1649  Val_Acc: 94.671\n",
      "\n",
      "Epoch 79: Validation loss decreased (0.164909 --> 0.164391).  Saving model ...\n",
      "\t Train_Loss: 0.1613 Train_Acc: 96.231 Val_Loss: 0.1644  BEST VAL Loss: 0.1644  Val_Acc: 95.603\n",
      "\n",
      "Epoch 80: Validation loss decreased (0.164391 --> 0.163957).  Saving model ...\n",
      "\t Train_Loss: 0.1606 Train_Acc: 96.255 Val_Loss: 0.1640  BEST VAL Loss: 0.1640  Val_Acc: 95.527\n",
      "\n",
      "Epoch 81: Validation loss decreased (0.163957 --> 0.163512).  Saving model ...\n",
      "\t Train_Loss: 0.1598 Train_Acc: 96.343 Val_Loss: 0.1635  BEST VAL Loss: 0.1635  Val_Acc: 95.584\n",
      "\n",
      "Epoch 82: Validation loss decreased (0.163512 --> 0.163043).  Saving model ...\n",
      "\t Train_Loss: 0.1591 Train_Acc: 96.338 Val_Loss: 0.1630  BEST VAL Loss: 0.1630  Val_Acc: 95.889\n",
      "\n",
      "Epoch 83: Validation loss decreased (0.163043 --> 0.162577).  Saving model ...\n",
      "\t Train_Loss: 0.1584 Train_Acc: 96.500 Val_Loss: 0.1626  BEST VAL Loss: 0.1626  Val_Acc: 95.794\n",
      "\n",
      "Epoch 84: Validation loss decreased (0.162577 --> 0.162181).  Saving model ...\n",
      "\t Train_Loss: 0.1576 Train_Acc: 96.547 Val_Loss: 0.1622  BEST VAL Loss: 0.1622  Val_Acc: 95.699\n",
      "\n",
      "Epoch 85: Validation loss decreased (0.162181 --> 0.162094).  Saving model ...\n",
      "\t Train_Loss: 0.1569 Train_Acc: 96.421 Val_Loss: 0.1621  BEST VAL Loss: 0.1621  Val_Acc: 94.785\n",
      "\n",
      "Epoch 86: Validation loss decreased (0.162094 --> 0.161704).  Saving model ...\n",
      "\t Train_Loss: 0.1563 Train_Acc: 96.300 Val_Loss: 0.1617  BEST VAL Loss: 0.1617  Val_Acc: 95.413\n",
      "\n",
      "Epoch 87: Validation loss decreased (0.161704 --> 0.161283).  Saving model ...\n",
      "\t Train_Loss: 0.1556 Train_Acc: 96.397 Val_Loss: 0.1613  BEST VAL Loss: 0.1613  Val_Acc: 95.679\n",
      "\n",
      "Epoch 88: Validation loss decreased (0.161283 --> 0.160870).  Saving model ...\n",
      "\t Train_Loss: 0.1549 Train_Acc: 96.590 Val_Loss: 0.1609  BEST VAL Loss: 0.1609  Val_Acc: 95.470\n",
      "\n",
      "Epoch 89: Validation loss decreased (0.160870 --> 0.160490).  Saving model ...\n",
      "\t Train_Loss: 0.1542 Train_Acc: 96.547 Val_Loss: 0.1605  BEST VAL Loss: 0.1605  Val_Acc: 95.775\n",
      "\n",
      "Epoch 90: Validation loss decreased (0.160490 --> 0.160088).  Saving model ...\n",
      "\t Train_Loss: 0.1536 Train_Acc: 96.431 Val_Loss: 0.1601  BEST VAL Loss: 0.1601  Val_Acc: 95.641\n",
      "\n",
      "Epoch 91: Validation loss decreased (0.160088 --> 0.159794).  Saving model ...\n",
      "\t Train_Loss: 0.1529 Train_Acc: 96.571 Val_Loss: 0.1598  BEST VAL Loss: 0.1598  Val_Acc: 95.280\n",
      "\n",
      "Epoch 92: Validation loss decreased (0.159794 --> 0.159435).  Saving model ...\n",
      "\t Train_Loss: 0.1523 Train_Acc: 96.519 Val_Loss: 0.1594  BEST VAL Loss: 0.1594  Val_Acc: 95.375\n",
      "\n",
      "Epoch 93: Validation loss decreased (0.159435 --> 0.159087).  Saving model ...\n",
      "\t Train_Loss: 0.1517 Train_Acc: 96.564 Val_Loss: 0.1591  BEST VAL Loss: 0.1591  Val_Acc: 95.603\n",
      "\n",
      "Epoch 94: Validation loss decreased (0.159087 --> 0.158961).  Saving model ...\n",
      "\t Train_Loss: 0.1511 Train_Acc: 96.395 Val_Loss: 0.1590  BEST VAL Loss: 0.1590  Val_Acc: 95.108\n",
      "\n",
      "Epoch 95: Validation loss decreased (0.158961 --> 0.158706).  Saving model ...\n",
      "\t Train_Loss: 0.1505 Train_Acc: 96.443 Val_Loss: 0.1587  BEST VAL Loss: 0.1587  Val_Acc: 95.128\n",
      "\n",
      "Epoch 96: Validation loss decreased (0.158706 --> 0.158480).  Saving model ...\n",
      "\t Train_Loss: 0.1500 Train_Acc: 96.397 Val_Loss: 0.1585  BEST VAL Loss: 0.1585  Val_Acc: 95.413\n",
      "\n",
      "Epoch 97: Validation loss decreased (0.158480 --> 0.158167).  Saving model ...\n",
      "\t Train_Loss: 0.1494 Train_Acc: 96.583 Val_Loss: 0.1582  BEST VAL Loss: 0.1582  Val_Acc: 95.432\n",
      "\n",
      "Epoch 98: Validation loss decreased (0.158167 --> 0.157867).  Saving model ...\n",
      "\t Train_Loss: 0.1488 Train_Acc: 96.571 Val_Loss: 0.1579  BEST VAL Loss: 0.1579  Val_Acc: 95.527\n",
      "\n",
      "Epoch 99: Validation loss decreased (0.157867 --> 0.157552).  Saving model ...\n",
      "\t Train_Loss: 0.1483 Train_Acc: 96.597 Val_Loss: 0.1576  BEST VAL Loss: 0.1576  Val_Acc: 95.775\n",
      "\n"
     ]
    }
   ],
   "source": [
    "# call the optimized training model\n",
    "train_loss, train_acc, valid_loss, valid_acc, epochs_ran, model = train_optimized_model(\n",
    "    params.TRAIN_EPOCHS,\n",
    "    train_loader,\n",
    "    valid_loader,\n",
    "    param_dict,\n",
    "    params,\n",
    "    params.MODEL_NAME,\n",
    ")\n",
    "# get training_metrics\n",
    "if params.MODEL_TYPE == \"Regression\":\n",
    "    training_stats = pd.DataFrame(\n",
    "        zip(train_loss, valid_loss, epochs_ran),\n",
    "        columns=[\"train_loss\", \"valid_loss\", \"epochs_ran\"],\n",
    "    )\n",
    "else:\n",
    "    training_stats = pd.DataFrame(\n",
    "        zip(train_loss, train_acc, valid_loss, valid_acc, epochs_ran),\n",
    "        columns=[\"train_loss\", \"train_acc\", \"valid_loss\", \"valid_acc\", \"epochs_ran\"],\n",
    "    )"
   ]
  },
  {
   "cell_type": "code",
   "execution_count": 18,
   "id": "1340d8aa",
   "metadata": {},
   "outputs": [
    {
     "name": "stderr",
     "output_type": "stream",
     "text": [
      "/home/lippincm/Documents/ML/Interstellar_Analysis/MLP_Model/model_training/../MLP_utils/utils.py:962: UserWarning:\n",
      "\n",
      "Ignoring `palette` because no `hue` variable has been assigned.\n",
      "\n",
      "/home/lippincm/Documents/ML/Interstellar_Analysis/MLP_Model/model_training/../MLP_utils/utils.py:963: UserWarning:\n",
      "\n",
      "Ignoring `palette` because no `hue` variable has been assigned.\n",
      "\n"
     ]
    },
    {
     "data": {
      "image/png": "[encoded data removed]",
      "text/plain": [
       "<Figure size 640x480 with 1 Axes>"
      ]
     },
     "metadata": {},
     "output_type": "display_data"
    }
   ],
   "source": [
    "if params.MODEL_TYPE == \"Regression\":\n",
    "    pass\n",
    "else:\n",
    "    plot_metric_vs_epoch(\n",
    "        training_stats,\n",
    "        x=\"epochs_ran\",\n",
    "        y1=\"train_acc\",\n",
    "        y2=\"valid_acc\",\n",
    "        title=\"Accuracy vs. Epochs\",\n",
    "        x_axis_label=\"Epochs\",\n",
    "        y_axis_label=\"Accuracy\",\n",
    "        params=params,\n",
    "        model_name=params.MODEL_NAME,\n",
    "    )"
   ]
  },
  {
   "cell_type": "code",
   "execution_count": 19,
   "id": "41991221",
   "metadata": {},
   "outputs": [
    {
     "name": "stderr",
     "output_type": "stream",
     "text": [
      "/home/lippincm/Documents/ML/Interstellar_Analysis/MLP_Model/model_training/../MLP_utils/utils.py:962: UserWarning:\n",
      "\n",
      "Ignoring `palette` because no `hue` variable has been assigned.\n",
      "\n",
      "/home/lippincm/Documents/ML/Interstellar_Analysis/MLP_Model/model_training/../MLP_utils/utils.py:963: UserWarning:\n",
      "\n",
      "Ignoring `palette` because no `hue` variable has been assigned.\n",
      "\n"
     ]
    },
    {
     "data": {
      "image/png": "[encoded data removed]",
      "text/plain": [
       "<Figure size 640x480 with 1 Axes>"
      ]
     },
     "metadata": {},
     "output_type": "display_data"
    }
   ],
   "source": [
    "plot_metric_vs_epoch(\n",
    "    training_stats,\n",
    "    x=\"epochs_ran\",\n",
    "    y1=\"train_loss\",\n",
    "    y2=\"valid_loss\",\n",
    "    title=\"Loss vs. Epochs\",\n",
    "    x_axis_label=\"Epochs\",\n",
    "    y_axis_label=\"Loss\",\n",
    "    params=params,\n",
    "    model_name=params.MODEL_NAME,\n",
    ")"
   ]
  },
  {
   "cell_type": "code",
   "execution_count": 20,
   "id": "3e2c848c",
   "metadata": {},
   "outputs": [],
   "source": [
    "# calling the testing function and outputting list values of tested model\n",
    "if params.MODEL_TYPE == \"Multi_Class\" or params.MODEL_TYPE == \"Regression\":\n",
    "    y_pred_list = test_optimized_model(\n",
    "        model, test_loader, params, model_name=params.MODEL_NAME\n",
    "    )\n",
    "elif params.MODEL_TYPE == \"Binary_Classification\":\n",
    "    y_pred_list, y_pred_prob_list = test_optimized_model(\n",
    "        model, test_loader, params, model_name=params.MODEL_NAME\n",
    "    )\n",
    "else:\n",
    "    raise Exception(\"Model type must be specified for proper model testing\")\n",
    "\n",
    "\n",
    "# un-nest list if nested i.e. length of input data does not match length of output data\n",
    "if len(y_pred_list) != len(Y_test):\n",
    "    y_pred_list = un_nest(y_pred_list)\n",
    "    y_pred_prob_list = un_nest(y_pred_prob_list)\n",
    "else:\n",
    "    pass"
   ]
  },
  {
   "cell_type": "code",
   "execution_count": 21,
   "id": "3c53f7e4",
   "metadata": {},
   "outputs": [
    {
     "name": "stdout",
     "output_type": "stream",
     "text": [
      "              precision    recall  f1-score   support\n",
      "\n",
      "           0       0.97      0.97      0.97      3081\n",
      "           1       0.94      0.97      0.95      1186\n",
      "           2       0.95      0.92      0.94       987\n",
      "\n",
      "    accuracy                           0.96      5254\n",
      "   macro avg       0.95      0.95      0.95      5254\n",
      "weighted avg       0.96      0.96      0.96      5254\n",
      "\n",
      "Precision for class 0: 0.9653497409326425\n",
      "Recall for class 0: 0.967543005517689\n",
      "Precision for class 1: 0.9439406430338005\n",
      "Recall for class 1: 0.9654300168634065\n",
      "Precision for class 2: 0.9548793284365162\n",
      "Recall for class 2: 0.9219858156028369\n",
      "3\n"
     ]
    },
    {
     "data": {
      "image/png": "[encoded data removed]",
      "text/plain": [
       "<Figure size 640x480 with 2 Axes>"
      ]
     },
     "metadata": {},
     "output_type": "display_data"
    },
    {
     "data": {
      "image/png": "[encoded data removed]",
      "text/plain": [
       "<Figure size 640x480 with 1 Axes>"
      ]
     },
     "metadata": {},
     "output_type": "display_data"
    }
   ],
   "source": [
    "# Call visualization function\n",
    "# calling the testing function and outputing list values of tested model\n",
    "if params.MODEL_TYPE == \"Multi_Class\" or params.MODEL_TYPE == \"Regression\":\n",
    "    confusion_matrix_df = results_output(\n",
    "        y_pred_list,\n",
    "        Y_test,\n",
    "        params,\n",
    "        test_name=f\"{params.MODEL_NAME}_testing\",\n",
    "        model_name=params.MODEL_NAME,\n",
    "    )\n",
    "elif params.MODEL_TYPE == \"Binary_Classification\":\n",
    "    results_output(\n",
    "        y_pred_list,\n",
    "        Y_test,\n",
    "        params,\n",
    "        y_pred_prob_list,\n",
    "        test_name=f\"{params.MODEL_NAME}_testing\",\n",
    "        model_name=params.MODEL_NAME,\n",
    "    )\n",
    "else:\n",
    "    raise Exception(\"Model type must be specified for proper model testing\")"
   ]
  },
  {
   "attachments": {},
   "cell_type": "markdown",
   "id": "2c620f38",
   "metadata": {},
   "source": [
    "#### look at the feature weights of the model"
   ]
  },
  {
   "cell_type": "code",
   "execution_count": 22,
   "id": "06ecc2f0",
   "metadata": {},
   "outputs": [],
   "source": [
    "# get all paramters from pytorch model\n",
    "lst = []\n",
    "for name, param in model.named_parameters():\n",
    "    # print(name, param.shape)\n",
    "    lst.append(param)\n",
    "feature_weights = model[0].weight.grad[0].detach().cpu().numpy()"
   ]
  },
  {
   "cell_type": "code",
   "execution_count": 23,
   "id": "131b568f",
   "metadata": {},
   "outputs": [],
   "source": [
    "col_list = []\n",
    "for col in df_values.columns:\n",
    "    # print(col)\n",
    "    col_list.append(col)"
   ]
  },
  {
   "cell_type": "code",
   "execution_count": 24,
   "id": "400c1291",
   "metadata": {},
   "outputs": [],
   "source": [
    "# remove last 4 columns from col_list that are not features\n",
    "col_list = col_list[:-4]"
   ]
  },
  {
   "cell_type": "code",
   "execution_count": 25,
   "id": "42dbfe2a",
   "metadata": {},
   "outputs": [
    {
     "data": {
      "text/html": [
       "<div>\n",
       "<style scoped>\n",
       "    .dataframe tbody tr th:only-of-type {\n",
       "        vertical-align: middle;\n",
       "    }\n",
       "\n",
       "    .dataframe tbody tr th {\n",
       "        vertical-align: top;\n",
       "    }\n",
       "\n",
       "    .dataframe thead th {\n",
       "        text-align: right;\n",
       "    }\n",
       "</style>\n",
       "<table border=\"1\" class=\"dataframe\">\n",
       "  <thead>\n",
       "    <tr style=\"text-align: right;\">\n",
       "      <th></th>\n",
       "      <th>feature</th>\n",
       "      <th>weight</th>\n",
       "    </tr>\n",
       "  </thead>\n",
       "  <tbody>\n",
       "    <tr>\n",
       "      <th>2756</th>\n",
       "      <td>Nuclei_Texture_InverseDifferenceMoment_CorrGasdermin_3_01_256</td>\n",
       "      <td>0.000567</td>\n",
       "    </tr>\n",
       "    <tr>\n",
       "      <th>1812</th>\n",
       "      <td>Cells_Texture_InverseDifferenceMoment_CorrPM_3_01_256</td>\n",
       "      <td>0.000565</td>\n",
       "    </tr>\n",
       "    <tr>\n",
       "      <th>2763</th>\n",
       "      <td>Nuclei_Texture_InverseDifferenceMoment_CorrPM_3_00_256</td>\n",
       "      <td>0.000555</td>\n",
       "    </tr>\n",
       "    <tr>\n",
       "      <th>2764</th>\n",
       "      <td>Nuclei_Texture_InverseDifferenceMoment_CorrPM_3_01_256</td>\n",
       "      <td>0.000537</td>\n",
       "    </tr>\n",
       "    <tr>\n",
       "      <th>2755</th>\n",
       "      <td>Nuclei_Texture_InverseDifferenceMoment_CorrGasdermin_3_00_256</td>\n",
       "      <td>0.000534</td>\n",
       "    </tr>\n",
       "    <tr>\n",
       "      <th>...</th>\n",
       "      <td>...</td>\n",
       "      <td>...</td>\n",
       "    </tr>\n",
       "    <tr>\n",
       "      <th>2161</th>\n",
       "      <td>Nuclei_Intensity_MedianIntensity_CorrPM</td>\n",
       "      <td>-0.000680</td>\n",
       "    </tr>\n",
       "    <tr>\n",
       "      <th>2121</th>\n",
       "      <td>Nuclei_Intensity_IntegratedIntensity_CorrPM</td>\n",
       "      <td>-0.000697</td>\n",
       "    </tr>\n",
       "    <tr>\n",
       "      <th>2413</th>\n",
       "      <td>Nuclei_RadialDistribution_ZernikeMagnitude_CorrPM_4_0</td>\n",
       "      <td>-0.000704</td>\n",
       "    </tr>\n",
       "    <tr>\n",
       "      <th>2126</th>\n",
       "      <td>Nuclei_Intensity_LowerQuartileIntensity_CorrPM</td>\n",
       "      <td>-0.000743</td>\n",
       "    </tr>\n",
       "    <tr>\n",
       "      <th>1178</th>\n",
       "      <td>Cells_Intensity_MADIntensity_CorrPM</td>\n",
       "      <td>-0.000919</td>\n",
       "    </tr>\n",
       "  </tbody>\n",
       "</table>\n",
       "<p>2847 rows × 2 columns</p>\n",
       "</div>"
      ],
      "text/plain": [
       "                                                            feature    weight\n",
       "2756  Nuclei_Texture_InverseDifferenceMoment_CorrGasdermin_3_01_256  0.000567\n",
       "1812          Cells_Texture_InverseDifferenceMoment_CorrPM_3_01_256  0.000565\n",
       "2763         Nuclei_Texture_InverseDifferenceMoment_CorrPM_3_00_256  0.000555\n",
       "2764         Nuclei_Texture_InverseDifferenceMoment_CorrPM_3_01_256  0.000537\n",
       "2755  Nuclei_Texture_InverseDifferenceMoment_CorrGasdermin_3_00_256  0.000534\n",
       "...                                                             ...       ...\n",
       "2161                        Nuclei_Intensity_MedianIntensity_CorrPM -0.000680\n",
       "2121                    Nuclei_Intensity_IntegratedIntensity_CorrPM -0.000697\n",
       "2413          Nuclei_RadialDistribution_ZernikeMagnitude_CorrPM_4_0 -0.000704\n",
       "2126                 Nuclei_Intensity_LowerQuartileIntensity_CorrPM -0.000743\n",
       "1178                            Cells_Intensity_MADIntensity_CorrPM -0.000919\n",
       "\n",
       "[2847 rows x 2 columns]"
      ]
     },
     "execution_count": 25,
     "metadata": {},
     "output_type": "execute_result"
    }
   ],
   "source": [
    "pd.set_option(\"display.max_colwidth\", None)\n",
    "\n",
    "df = pd.DataFrame(zip(col_list, feature_weights), columns=[\"feature\", \"weight\"])\n",
    "# change weight collumn to float\n",
    "df[\"weight\"] = df[\"weight\"].astype(float)\n",
    "# sort by weight\n",
    "df = df.sort_values(by=[\"weight\"], ascending=False)\n",
    "df"
   ]
  },
  {
   "cell_type": "code",
   "execution_count": 26,
   "id": "e8a4e590",
   "metadata": {},
   "outputs": [],
   "source": [
    "# Code snippet for metadata extraction by Jenna Tomkinson\n",
    "df_metadata = list(df_holdout.columns[df_holdout.columns.str.startswith(\"Metadata\")])\n",
    "\n",
    "# define which columns are data and which are descriptive\n",
    "df_descriptive = df_holdout[df_metadata]\n",
    "df_values = df_holdout.drop(columns=df_metadata)"
   ]
  },
  {
   "cell_type": "code",
   "execution_count": 27,
   "id": "748bb398",
   "metadata": {},
   "outputs": [],
   "source": [
    "# Creating label encoder\n",
    "le = preprocessing.LabelEncoder()\n",
    "# Converting strings into numbers\n",
    "df_values[\"oneb_Metadata_Treatment_Dose_Inhibitor_Dose\"] = le.fit_transform(\n",
    "    df_values[\"oneb_Metadata_Treatment_Dose_Inhibitor_Dose\"]\n",
    ")\n",
    "# split into X and Y where Y are the predictive column and x are the observable data\n",
    "df_values_X = df_values.drop(\n",
    "    [\n",
    "        \"oneb_Metadata_Treatment_Dose_Inhibitor_Dose\",\n",
    "        \"twob_Metadata_Treatment_Dose_Inhibitor_Dose\",\n",
    "        \"threeb_Metadata_Treatment_Dose_Inhibitor_Dose\",\n",
    "        \"fourb_Metadata_Treatment_Dose_Inhibitor_Dose\",\n",
    "    ],\n",
    "    axis=1,\n",
    ")\n",
    "df_values_Y = df_values[\"oneb_Metadata_Treatment_Dose_Inhibitor_Dose\"]"
   ]
  },
  {
   "cell_type": "code",
   "execution_count": 28,
   "id": "2c5677d3",
   "metadata": {},
   "outputs": [],
   "source": [
    "test_data = Dataset_formatter(\n",
    "    torch.FloatTensor(df_values_X.values), torch.FloatTensor(df_values_Y.values)\n",
    ")\n",
    "\n",
    "# convert data class into a dataloader to be compatible with pytorch\n",
    "test_loader = torch.utils.data.DataLoader(dataset=test_data, batch_size=1)"
   ]
  },
  {
   "cell_type": "code",
   "execution_count": 29,
   "id": "3e2c848c",
   "metadata": {},
   "outputs": [],
   "source": [
    "# calling the testing function and outputting list values of tested model\n",
    "if params.MODEL_TYPE == \"Multi_Class\" or params.MODEL_TYPE == \"Regression\":\n",
    "    y_pred_list = test_optimized_model(\n",
    "        model, test_loader, params, model_name=params.MODEL_NAME\n",
    "    )\n",
    "elif params.MODEL_TYPE == \"Binary_Classification\":\n",
    "    y_pred_list, y_pred_prob_list = test_optimized_model(\n",
    "        model, test_loader, params, model_name=params.MODEL_NAME\n",
    "    )\n",
    "else:\n",
    "    raise Exception(\"Model type must be specified for proper model testing\")\n",
    "\n",
    "\n",
    "# un-nest list if nested i.e. length of input data does not match length of output data\n",
    "if len(y_pred_list) != len(df_values_Y):\n",
    "    y_pred_list = un_nest(y_pred_list)\n",
    "    y_pred_prob_list = un_nest(y_pred_prob_list)\n",
    "else:\n",
    "    pass"
   ]
  },
  {
   "cell_type": "code",
   "execution_count": 30,
   "id": "3c53f7e4",
   "metadata": {},
   "outputs": [
    {
     "name": "stdout",
     "output_type": "stream",
     "text": [
      "              precision    recall  f1-score   support\n",
      "\n",
      "           0       0.88      0.98      0.93      4837\n",
      "           1       0.99      0.90      0.94      4126\n",
      "           2       0.98      0.93      0.96      3346\n",
      "\n",
      "    accuracy                           0.94     12309\n",
      "   macro avg       0.95      0.94      0.94     12309\n",
      "weighted avg       0.94      0.94      0.94     12309\n",
      "\n",
      "Precision for class 0: 0.8836518834663203\n",
      "Recall for class 0: 0.9844945213975604\n",
      "Precision for class 1: 0.9871794871794872\n",
      "Recall for class 1: 0.8957828405235094\n",
      "Precision for class 2: 0.9811083123425692\n",
      "Recall for class 2: 0.931261207411835\n",
      "3\n"
     ]
    },
    {
     "data": {
      "image/png": "[encoded data removed]",
      "text/plain": [
       "<Figure size 640x480 with 2 Axes>"
      ]
     },
     "metadata": {},
     "output_type": "display_data"
    },
    {
     "data": {
      "image/png": "[encoded data removed]",
      "text/plain": [
       "<Figure size 640x480 with 1 Axes>"
      ]
     },
     "metadata": {},
     "output_type": "display_data"
    }
   ],
   "source": [
    "# Call visualization function\n",
    "# calling the testing function and outputing list values of tested model\n",
    "if params.MODEL_TYPE == \"Multi_Class\" or params.MODEL_TYPE == \"Regression\":\n",
    "    confusion_matrix_df = results_output(\n",
    "        y_pred_list,\n",
    "        df_values_Y,\n",
    "        params,\n",
    "        test_name=f\"{params.MODEL_NAME}_hold_out\",\n",
    "        model_name=params.MODEL_NAME,\n",
    "    )\n",
    "elif params.MODEL_TYPE == \"Binary_Classification\":\n",
    "    results_output(\n",
    "        y_pred_list,\n",
    "        df_values_Y,\n",
    "        params,\n",
    "        y_pred_prob_list,\n",
    "        test_name=f\"{params.MODEL_NAME}_hold_out\",\n",
    "        model_name=params.MODEL_NAME,\n",
    "    )\n",
    "else:\n",
    "    raise Exception(\"Model type must be specified for proper model testing\")"
   ]
  }
 ],
 "metadata": {
  "jupytext": {
   "cell_metadata_filter": "-all",
   "encoding": "# coding: utf-8",
   "executable": "/usr/bin/env python",
   "formats": "ipynb,py",
   "main_language": "python"
  },
  "kernelspec": {
   "display_name": "Python 3 (ipykernel)",
   "language": "python",
   "name": "python3"
  },
  "language_info": {
   "codemirror_mode": {
    "name": "ipython",
    "version": 3
   },
   "file_extension": ".py",
   "mimetype": "text/x-python",
   "name": "python",
   "nbconvert_exporter": "python",
   "pygments_lexer": "ipython3",
   "version": "3.10.10"
  },
  "vscode": {
   "interpreter": {
    "hash": "72ae02083a9ca7d143c492d1aec380c7bf553ec51bd66e90e72bba65228121b6"
   }
  }
 },
 "nbformat": 4,
 "nbformat_minor": 5
}
