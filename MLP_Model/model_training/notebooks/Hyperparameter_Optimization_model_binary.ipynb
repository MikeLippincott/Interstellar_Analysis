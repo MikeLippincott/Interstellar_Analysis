{
 "cells": [
  {
   "attachments": {},
   "cell_type": "markdown",
   "id": "8e60628c",
   "metadata": {},
   "source": [
    "## Hyperparameter tuning via Optuna"
   ]
  },
  {
   "cell_type": "markdown",
   "id": "8fac71a5",
   "metadata": {},
   "source": [
    "### Being a binary model this notebook will be limited to predicting one class 1 or 0, yes or no.\n",
    "### Here I will be predicting if a cell received a treatment or not"
   ]
  },
  {
   "cell_type": "code",
   "execution_count": 1,
   "id": "860a61dd",
   "metadata": {},
   "outputs": [],
   "source": [
    "import os\n",
    "import sys\n",
    "from pathlib import Path\n",
    "\n",
    "import matplotlib.pyplot as plt\n",
    "import numpy as np\n",
    "import optuna\n",
    "import pandas as pd\n",
    "import plotly\n",
    "import pyarrow.parquet as pq\n",
    "import seaborn as sns\n",
    "import toml\n",
    "import torch\n",
    "import torch.nn as nn\n",
    "import torch.optim as optim\n",
    "from sklearn import preprocessing\n",
    "from sklearn.metrics import (\n",
    "    auc,\n",
    "    confusion_matrix,\n",
    "    precision_score,\n",
    "    recall_score,\n",
    "    roc_auc_score,\n",
    "    roc_curve,\n",
    ")\n",
    "from sklearn.model_selection import train_test_split\n",
    "\n",
    "sys.path.append(\"../..\")\n",
    "from MLP_utils.parameters import Parameters\n",
    "from MLP_utils.utils import (\n",
    "    Dataset_formatter,\n",
    "    data_split,\n",
    "    extract_best_trial_params,\n",
    "    objective_model_optimizer,\n",
    "    optimized_model_create,\n",
    "    parameter_set,\n",
    "    plot_metric_vs_epoch,\n",
    "    results_output,\n",
    "    test_optimized_model,\n",
    "    train_optimized_model,\n",
    "    un_nest,\n",
    ")\n",
    "\n",
    "sys.path.append(\"../../..\")\n",
    "from utils.utils import df_stats"
   ]
  },
  {
   "cell_type": "code",
   "execution_count": 2,
   "id": "44baa945",
   "metadata": {},
   "outputs": [],
   "source": [
    "# Import Data\n",
    "# set data file path under pathlib path for multi-system use\n",
    "\n",
    "\n",
    "file_path = Path(\n",
    "    \"../../../../Extracted_Features_(CSV_files)/interstellar_wave3_sc_norm_fs_cellprofiler.csv.gz\"\n",
    ")\n",
    "\n",
    "file_path = Path(\n",
    "    \"../../../../Extracted_Features_(CSV_files)/SHSY5Y_preprocessed_df_sc_norm.parquet\"\n",
    ")\n",
    "\n",
    "df = pq.read_table(file_path).to_pandas()\n",
    "# df = pd.read_csv(file_path, engine=\"pyarrow\")"
   ]
  },
  {
   "cell_type": "code",
   "execution_count": 3,
   "id": "394294ce",
   "metadata": {},
   "outputs": [],
   "source": [
    "data = Path(\"../../MLP_utils/config.toml\")\n",
    "config = toml.load(data)\n",
    "params = Parameters()\n",
    "params = parameter_set(params, config)"
   ]
  },
  {
   "attachments": {},
   "cell_type": "markdown",
   "id": "5c486e00",
   "metadata": {},
   "source": [
    "#### Set up Data to be compatible with model"
   ]
  },
  {
   "attachments": {},
   "cell_type": "markdown",
   "id": "95754baa",
   "metadata": {},
   "source": [
    "##### Classification Models:\n",
    "Comment out code if using regression"
   ]
  },
  {
   "cell_type": "code",
   "execution_count": 4,
   "id": "b6ea8ac9",
   "metadata": {},
   "outputs": [
    {
     "name": "stdout",
     "output_type": "stream",
     "text": [
      "Selected Catagories are:\n",
      "['DMSO_0.100_DMSO_0.025' 'LPS_10.000_DMSO_0.025']\n",
      "The dimensions of the data are: (52453, 2872)\n",
      "Number of total missing values across all columns: 104906\n",
      "Data Subset Is Off\n"
     ]
    }
   ],
   "source": [
    "# for binary classification testing\n",
    "df = df.query(\n",
    "    \"oneb_Metadata_Treatment_Dose_Inhibitor_Dose == 'LPS_10.000_DMSO_0.025'| oneb_Metadata_Treatment_Dose_Inhibitor_Dose == 'DMSO_0.100_DMSO_0.025'\"\n",
    ")\n",
    "\n",
    "print(\"Selected Catagories are:\")\n",
    "print(df[\"oneb_Metadata_Treatment_Dose_Inhibitor_Dose\"].unique())\n",
    "df_stats(df)\n",
    "\n",
    "if params.DATA_SUBSET_OPTION == \"True\":\n",
    "    df = df.sample(n=params.DATA_SUBSET_NUMBER)\n",
    "    print(\"Data Subset Is On\")\n",
    "    print(f\"Data is subset to {params.DATA_SUBSET_NUMBER}\")\n",
    "else:\n",
    "    print(\"Data Subset Is Off\")"
   ]
  },
  {
   "cell_type": "code",
   "execution_count": 5,
   "id": "088cff07",
   "metadata": {},
   "outputs": [
    {
     "name": "stdout",
     "output_type": "stream",
     "text": [
      "Wells held out for testing: ['E20' 'I14']\n",
      "Wells to use for training, validation, and testing ['B14' 'C14' 'B15' 'C15' 'E16' 'E17' 'E21' 'J14' 'I15' 'J15']\n"
     ]
    }
   ],
   "source": [
    "np.random.seed(seed=0)\n",
    "wells_to_hold = (\n",
    "    df.groupby(\"oneb_Metadata_Treatment_Dose_Inhibitor_Dose\")\n",
    "    .agg(np.random.choice)[\"Metadata_Well\"]\n",
    "    .to_list()\n",
    ")\n",
    "df_holdout = df[df[\"Metadata_Well\"].isin(wells_to_hold)]\n",
    "df = df[~df[\"Metadata_Well\"].isin(wells_to_hold)]\n",
    "\n",
    "\n",
    "print(\"Wells held out for testing:\", df_holdout[\"Metadata_Well\"].unique())\n",
    "print(\n",
    "    \"Wells to use for training, validation, and testing\", df[\"Metadata_Well\"].unique()\n",
    ")"
   ]
  },
  {
   "cell_type": "code",
   "execution_count": 6,
   "id": "786e3a76",
   "metadata": {},
   "outputs": [],
   "source": [
    "# Code snippet for metadata extraction by Jenna Tomkinson\n",
    "df_metadata = list(df.columns[df.columns.str.startswith(\"Metadata\")])\n",
    "\n",
    "# define which columns are data and which are descriptive\n",
    "df_descriptive = df[df_metadata]\n",
    "df_values = df.drop(columns=df_metadata)"
   ]
  },
  {
   "cell_type": "code",
   "execution_count": 7,
   "id": "595afb65",
   "metadata": {},
   "outputs": [],
   "source": [
    "# Creating label encoder\n",
    "le = preprocessing.LabelEncoder()\n",
    "# Converting strings into numbers\n",
    "df_values[\"oneb_Metadata_Treatment_Dose_Inhibitor_Dose\"] = le.fit_transform(\n",
    "    df_values[\"oneb_Metadata_Treatment_Dose_Inhibitor_Dose\"]\n",
    ")\n",
    "# split into X and Y where Y are the predictive column and x are the observable data\n",
    "df_values_X = df_values.drop(\n",
    "    [\n",
    "        \"oneb_Metadata_Treatment_Dose_Inhibitor_Dose\",\n",
    "        \"twob_Metadata_Treatment_Dose_Inhibitor_Dose\",\n",
    "        \"threeb_Metadata_Treatment_Dose_Inhibitor_Dose\",\n",
    "        \"fourb_Metadata_Treatment_Dose_Inhibitor_Dose\",\n",
    "    ],\n",
    "    axis=1,\n",
    ")\n",
    "df_values_Y = df_values[\"oneb_Metadata_Treatment_Dose_Inhibitor_Dose\"]"
   ]
  },
  {
   "attachments": {},
   "cell_type": "markdown",
   "id": "260a048e",
   "metadata": {},
   "source": [
    "#### Split Data - All Models can proceed through this point"
   ]
  },
  {
   "cell_type": "code",
   "execution_count": 8,
   "id": "f4feb87f",
   "metadata": {},
   "outputs": [],
   "source": [
    "X_train, X_test, X_val, Y_train, Y_test, Y_val = data_split(\n",
    "    X_vals=df_values_X,\n",
    "    y_vals=df_values_Y,\n",
    "    train_proportion=0.8,\n",
    "    val_proportion=0.1,\n",
    "    test_proportion=0.1,\n",
    "    seed=1,\n",
    "    params=params,\n",
    ")"
   ]
  },
  {
   "cell_type": "code",
   "execution_count": 9,
   "id": "36894826",
   "metadata": {},
   "outputs": [],
   "source": [
    "# produce data objects for train, val and test datasets\n",
    "train_data = Dataset_formatter(\n",
    "    torch.FloatTensor(X_train.values), torch.FloatTensor(Y_train.values)\n",
    ")\n",
    "val_data = Dataset_formatter(\n",
    "    torch.FloatTensor(X_val.values), torch.FloatTensor(Y_val.values)\n",
    ")\n",
    "test_data = Dataset_formatter(\n",
    "    torch.FloatTensor(X_test.values), torch.FloatTensor(Y_test.values)\n",
    ")"
   ]
  },
  {
   "cell_type": "code",
   "execution_count": 10,
   "id": "4382d712",
   "metadata": {},
   "outputs": [
    {
     "name": "stdout",
     "output_type": "stream",
     "text": [
      "Number of in features:  2847\n",
      "Number of out features:  2\n",
      "Binary_Classification\n"
     ]
    }
   ],
   "source": [
    "params.IN_FEATURES = X_train.shape[1]\n",
    "print(\"Number of in features: \", params.IN_FEATURES)\n",
    "if params.MODEL_TYPE == \"Regression\":\n",
    "    params.OUT_FEATURES = 1\n",
    "else:\n",
    "    params.OUT_FEATURES = len(\n",
    "        df_values[\"oneb_Metadata_Treatment_Dose_Inhibitor_Dose\"].unique()\n",
    "    )\n",
    "\n",
    "print(\"Number of out features: \", params.OUT_FEATURES)\n",
    "\n",
    "if params.OUT_FEATURES > 2:\n",
    "    params.MODEL_TYPE = \"Multi_Class\"\n",
    "elif params.OUT_FEATURES == 2:\n",
    "    params.OUT_FEATURES = params.OUT_FEATURES - 1\n",
    "    params.MODEL_TYPE = \"Binary_Classification\"\n",
    "elif params.OUT_FEATURES == 1:\n",
    "    params.MODEL_TYPE = \"Regression\"\n",
    "else:\n",
    "    pass\n",
    "print(params.MODEL_TYPE)"
   ]
  },
  {
   "cell_type": "code",
   "execution_count": 11,
   "id": "77effa5c",
   "metadata": {},
   "outputs": [],
   "source": [
    "# convert data class into a dataloader to be compatible with pytorch\n",
    "train_loader = torch.utils.data.DataLoader(\n",
    "    dataset=train_data, batch_size=params.BATCH_SIZE\n",
    ")\n",
    "valid_loader = torch.utils.data.DataLoader(\n",
    "    dataset=val_data, batch_size=params.BATCH_SIZE\n",
    ")\n",
    "test_loader = torch.utils.data.DataLoader(dataset=test_data, batch_size=1)"
   ]
  },
  {
   "cell_type": "code",
   "execution_count": 12,
   "id": "a969042f",
   "metadata": {},
   "outputs": [
    {
     "name": "stderr",
     "output_type": "stream",
     "text": [
      "[I 2023-07-06 16:39:17,618] A new study created in memory with name: no-name-aa263156-5336-46e3-88a7-1f57cc4546b0\n",
      "[I 2023-07-06 16:40:06,070] Trial 0 finished with value: 0.6236558443307877 and parameters: {'n_layers': 1, 'n_units_l0': 4, 'dropout_0': 0.296180798776161, 'learning_rate': 0.08679146229514959, 'optimizer': 'RMSprop'}. Best is trial 0 with value: 0.6236558443307877.\n",
      "[I 2023-07-06 16:40:54,652] Trial 1 finished with value: 0.5118416348695756 and parameters: {'n_layers': 2, 'n_units_l0': 5, 'dropout_0': 0.23624389990690237, 'n_units_l1': 10, 'dropout_1': 0.34082032406975843, 'learning_rate': 0.0364589647622932, 'optimizer': 'RMSprop'}. Best is trial 1 with value: 0.5118416348695756.\n",
      "[I 2023-07-06 16:41:41,305] Trial 2 finished with value: 0.46535606348514563 and parameters: {'n_layers': 1, 'n_units_l0': 5, 'dropout_0': 0.22975179268900905, 'learning_rate': 0.030391772922786515, 'optimizer': 'Adam'}. Best is trial 2 with value: 0.46535606348514563.\n",
      "[I 2023-07-06 16:42:28,765] Trial 3 finished with value: 0.46094945621490474 and parameters: {'n_layers': 1, 'n_units_l0': 9, 'dropout_0': 0.3566488710814182, 'learning_rate': 0.036423424948837796, 'optimizer': 'SGD'}. Best is trial 3 with value: 0.46094945621490474.\n",
      "[I 2023-07-06 16:43:16,787] Trial 4 finished with value: 0.5998866884708405 and parameters: {'n_layers': 3, 'n_units_l0': 5, 'dropout_0': 0.33681426723766383, 'n_units_l1': 2, 'dropout_1': 0.3575406158171217, 'n_units_l2': 8, 'dropout_2': 0.20560734815823167, 'learning_rate': 0.09162654300735334, 'optimizer': 'Adam'}. Best is trial 3 with value: 0.46094945621490474.\n",
      "[I 2023-07-06 16:44:04,877] Trial 5 finished with value: 0.503987025141716 and parameters: {'n_layers': 3, 'n_units_l0': 8, 'dropout_0': 0.22839450907630435, 'n_units_l1': 9, 'dropout_1': 0.17203234202493503, 'n_units_l2': 3, 'dropout_2': 0.2964233539922454, 'learning_rate': 0.027656328292278393, 'optimizer': 'Adam'}. Best is trial 3 with value: 0.46094945621490474.\n",
      "[I 2023-07-06 16:44:52,007] Trial 6 finished with value: 0.49302461206913006 and parameters: {'n_layers': 1, 'n_units_l0': 2, 'dropout_0': 0.1359568287519215, 'learning_rate': 0.043490584211370545, 'optimizer': 'Adam'}. Best is trial 3 with value: 0.46094945621490474.\n",
      "[I 2023-07-06 16:45:39,621] Trial 7 finished with value: 0.48183390688896177 and parameters: {'n_layers': 2, 'n_units_l0': 4, 'dropout_0': 0.30840831086916753, 'n_units_l1': 9, 'dropout_1': 0.34848742043761755, 'learning_rate': 0.029734442858195594, 'optimizer': 'Adam'}. Best is trial 3 with value: 0.46094945621490474.\n",
      "[I 2023-07-06 16:45:40,611] Trial 8 pruned. \n",
      "[I 2023-07-06 16:46:27,853] Trial 9 finished with value: 0.4806447219848633 and parameters: {'n_layers': 2, 'n_units_l0': 3, 'dropout_0': 0.18666916977918796, 'n_units_l1': 6, 'dropout_1': 0.1844196487444941, 'learning_rate': 0.039161003309963416, 'optimizer': 'Adam'}. Best is trial 3 with value: 0.46094945621490474.\n"
     ]
    },
    {
     "name": "stdout",
     "output_type": "stream",
     "text": [
      "Validation Accuracy: 78.06812428078251\n",
      "Validation Loss: 0.45946915209293365\n",
      "Training Accuracy: 78.03112952413834\n",
      "Training Loss: 0.46262426703316833\n"
     ]
    },
    {
     "data": {
      "text/plain": [
       "(78.06812428078251,\n",
       " 0.45946915209293365,\n",
       " 78.03112952413834,\n",
       " 0.46262426703316833)"
      ]
     },
     "execution_count": 12,
     "metadata": {},
     "output_type": "execute_result"
    }
   ],
   "source": [
    "# no accuracy function must be loss for regression\n",
    "if params.MODEL_TYPE == \"Regression\":\n",
    "    params.METRIC = \"loss\"\n",
    "    pass\n",
    "\n",
    "\n",
    "# wrap the objective function inside of a lambda function to pass args...\n",
    "objective_lambda_func = lambda trial: objective_model_optimizer(\n",
    "    train_loader,\n",
    "    valid_loader,\n",
    "    trial=trial,\n",
    "    params=params,\n",
    "    metric=params.METRIC,\n",
    "    return_info=False,\n",
    ")\n",
    "\n",
    "\n",
    "# Study is the object for model optimization\n",
    "study = optuna.create_study(direction=f\"{params.DIRECTION}\")\n",
    "# Here I apply the optimize function of the study to the objective function\n",
    "# This optimizes each parameter specified to be optimized from the defined search space\n",
    "study.optimize(objective_lambda_func, n_trials=params.N_TRIALS)\n",
    "# Prints out the best trial's optimized parameters\n",
    "objective_model_optimizer(\n",
    "    train_loader,\n",
    "    valid_loader,\n",
    "    trial=study.best_trial,\n",
    "    params=params,\n",
    "    metric=params.METRIC,\n",
    "    return_info=True,\n",
    ")"
   ]
  },
  {
   "cell_type": "code",
   "execution_count": 13,
   "id": "b2620589",
   "metadata": {},
   "outputs": [
    {
     "data": {
      "application/vnd.plotly.v1+json": {
       "config": {
        "plotlyServerURL": "https://plot.ly"
       },
       "data": [
        {
         "mode": "markers",
         "name": "Objective Value",
         "type": "scatter",
         "x": [
          0,
          1,
          2,
          3,
          4,
          5,
          6,
          7,
          9
         ],
         "y": [
          0.6236558443307877,
          0.5118416348695756,
          0.46535606348514563,
          0.46094945621490474,
          0.5998866884708405,
          0.503987025141716,
          0.49302461206913006,
          0.48183390688896177,
          0.4806447219848633
         ]
        },
        {
         "name": "Best Value",
         "type": "scatter",
         "x": [
          0,
          1,
          2,
          3,
          4,
          5,
          6,
          7,
          9
         ],
         "y": [
          0.6236558443307877,
          0.5118416348695756,
          0.46535606348514563,
          0.46094945621490474,
          0.46094945621490474,
          0.46094945621490474,
          0.46094945621490474,
          0.46094945621490474,
          0.46094945621490474
         ]
        }
       ],
       "layout": {
        "template": {
         "data": {
          "bar": [
           {
            "error_x": {
             "color": "#2a3f5f"
            },
            "error_y": {
             "color": "#2a3f5f"
            },
            "marker": {
             "line": {
              "color": "#E5ECF6",
              "width": 0.5
             },
             "pattern": {
              "fillmode": "overlay",
              "size": 10,
              "solidity": 0.2
             }
            },
            "type": "bar"
           }
          ],
          "barpolar": [
           {
            "marker": {
             "line": {
              "color": "#E5ECF6",
              "width": 0.5
             },
             "pattern": {
              "fillmode": "overlay",
              "size": 10,
              "solidity": 0.2
             }
            },
            "type": "barpolar"
           }
          ],
          "carpet": [
           {
            "aaxis": {
             "endlinecolor": "#2a3f5f",
             "gridcolor": "white",
             "linecolor": "white",
             "minorgridcolor": "white",
             "startlinecolor": "#2a3f5f"
            },
            "baxis": {
             "endlinecolor": "#2a3f5f",
             "gridcolor": "white",
             "linecolor": "white",
             "minorgridcolor": "white",
             "startlinecolor": "#2a3f5f"
            },
            "type": "carpet"
           }
          ],
          "choropleth": [
           {
            "colorbar": {
             "outlinewidth": 0,
             "ticks": ""
            },
            "type": "choropleth"
           }
          ],
          "contour": [
           {
            "colorbar": {
             "outlinewidth": 0,
             "ticks": ""
            },
            "colorscale": [
             [
              0,
              "#0d0887"
             ],
             [
              0.1111111111111111,
              "#46039f"
             ],
             [
              0.2222222222222222,
              "#7201a8"
             ],
             [
              0.3333333333333333,
              "#9c179e"
             ],
             [
              0.4444444444444444,
              "#bd3786"
             ],
             [
              0.5555555555555556,
              "#d8576b"
             ],
             [
              0.6666666666666666,
              "#ed7953"
             ],
             [
              0.7777777777777778,
              "#fb9f3a"
             ],
             [
              0.8888888888888888,
              "#fdca26"
             ],
             [
              1,
              "#f0f921"
             ]
            ],
            "type": "contour"
           }
          ],
          "contourcarpet": [
           {
            "colorbar": {
             "outlinewidth": 0,
             "ticks": ""
            },
            "type": "contourcarpet"
           }
          ],
          "heatmap": [
           {
            "colorbar": {
             "outlinewidth": 0,
             "ticks": ""
            },
            "colorscale": [
             [
              0,
              "#0d0887"
             ],
             [
              0.1111111111111111,
              "#46039f"
             ],
             [
              0.2222222222222222,
              "#7201a8"
             ],
             [
              0.3333333333333333,
              "#9c179e"
             ],
             [
              0.4444444444444444,
              "#bd3786"
             ],
             [
              0.5555555555555556,
              "#d8576b"
             ],
             [
              0.6666666666666666,
              "#ed7953"
             ],
             [
              0.7777777777777778,
              "#fb9f3a"
             ],
             [
              0.8888888888888888,
              "#fdca26"
             ],
             [
              1,
              "#f0f921"
             ]
            ],
            "type": "heatmap"
           }
          ],
          "heatmapgl": [
           {
            "colorbar": {
             "outlinewidth": 0,
             "ticks": ""
            },
            "colorscale": [
             [
              0,
              "#0d0887"
             ],
             [
              0.1111111111111111,
              "#46039f"
             ],
             [
              0.2222222222222222,
              "#7201a8"
             ],
             [
              0.3333333333333333,
              "#9c179e"
             ],
             [
              0.4444444444444444,
              "#bd3786"
             ],
             [
              0.5555555555555556,
              "#d8576b"
             ],
             [
              0.6666666666666666,
              "#ed7953"
             ],
             [
              0.7777777777777778,
              "#fb9f3a"
             ],
             [
              0.8888888888888888,
              "#fdca26"
             ],
             [
              1,
              "#f0f921"
             ]
            ],
            "type": "heatmapgl"
           }
          ],
          "histogram": [
           {
            "marker": {
             "pattern": {
              "fillmode": "overlay",
              "size": 10,
              "solidity": 0.2
             }
            },
            "type": "histogram"
           }
          ],
          "histogram2d": [
           {
            "colorbar": {
             "outlinewidth": 0,
             "ticks": ""
            },
            "colorscale": [
             [
              0,
              "#0d0887"
             ],
             [
              0.1111111111111111,
              "#46039f"
             ],
             [
              0.2222222222222222,
              "#7201a8"
             ],
             [
              0.3333333333333333,
              "#9c179e"
             ],
             [
              0.4444444444444444,
              "#bd3786"
             ],
             [
              0.5555555555555556,
              "#d8576b"
             ],
             [
              0.6666666666666666,
              "#ed7953"
             ],
             [
              0.7777777777777778,
              "#fb9f3a"
             ],
             [
              0.8888888888888888,
              "#fdca26"
             ],
             [
              1,
              "#f0f921"
             ]
            ],
            "type": "histogram2d"
           }
          ],
          "histogram2dcontour": [
           {
            "colorbar": {
             "outlinewidth": 0,
             "ticks": ""
            },
            "colorscale": [
             [
              0,
              "#0d0887"
             ],
             [
              0.1111111111111111,
              "#46039f"
             ],
             [
              0.2222222222222222,
              "#7201a8"
             ],
             [
              0.3333333333333333,
              "#9c179e"
             ],
             [
              0.4444444444444444,
              "#bd3786"
             ],
             [
              0.5555555555555556,
              "#d8576b"
             ],
             [
              0.6666666666666666,
              "#ed7953"
             ],
             [
              0.7777777777777778,
              "#fb9f3a"
             ],
             [
              0.8888888888888888,
              "#fdca26"
             ],
             [
              1,
              "#f0f921"
             ]
            ],
            "type": "histogram2dcontour"
           }
          ],
          "mesh3d": [
           {
            "colorbar": {
             "outlinewidth": 0,
             "ticks": ""
            },
            "type": "mesh3d"
           }
          ],
          "parcoords": [
           {
            "line": {
             "colorbar": {
              "outlinewidth": 0,
              "ticks": ""
             }
            },
            "type": "parcoords"
           }
          ],
          "pie": [
           {
            "automargin": true,
            "type": "pie"
           }
          ],
          "scatter": [
           {
            "fillpattern": {
             "fillmode": "overlay",
             "size": 10,
             "solidity": 0.2
            },
            "type": "scatter"
           }
          ],
          "scatter3d": [
           {
            "line": {
             "colorbar": {
              "outlinewidth": 0,
              "ticks": ""
             }
            },
            "marker": {
             "colorbar": {
              "outlinewidth": 0,
              "ticks": ""
             }
            },
            "type": "scatter3d"
           }
          ],
          "scattercarpet": [
           {
            "marker": {
             "colorbar": {
              "outlinewidth": 0,
              "ticks": ""
             }
            },
            "type": "scattercarpet"
           }
          ],
          "scattergeo": [
           {
            "marker": {
             "colorbar": {
              "outlinewidth": 0,
              "ticks": ""
             }
            },
            "type": "scattergeo"
           }
          ],
          "scattergl": [
           {
            "marker": {
             "colorbar": {
              "outlinewidth": 0,
              "ticks": ""
             }
            },
            "type": "scattergl"
           }
          ],
          "scattermapbox": [
           {
            "marker": {
             "colorbar": {
              "outlinewidth": 0,
              "ticks": ""
             }
            },
            "type": "scattermapbox"
           }
          ],
          "scatterpolar": [
           {
            "marker": {
             "colorbar": {
              "outlinewidth": 0,
              "ticks": ""
             }
            },
            "type": "scatterpolar"
           }
          ],
          "scatterpolargl": [
           {
            "marker": {
             "colorbar": {
              "outlinewidth": 0,
              "ticks": ""
             }
            },
            "type": "scatterpolargl"
           }
          ],
          "scatterternary": [
           {
            "marker": {
             "colorbar": {
              "outlinewidth": 0,
              "ticks": ""
             }
            },
            "type": "scatterternary"
           }
          ],
          "surface": [
           {
            "colorbar": {
             "outlinewidth": 0,
             "ticks": ""
            },
            "colorscale": [
             [
              0,
              "#0d0887"
             ],
             [
              0.1111111111111111,
              "#46039f"
             ],
             [
              0.2222222222222222,
              "#7201a8"
             ],
             [
              0.3333333333333333,
              "#9c179e"
             ],
             [
              0.4444444444444444,
              "#bd3786"
             ],
             [
              0.5555555555555556,
              "#d8576b"
             ],
             [
              0.6666666666666666,
              "#ed7953"
             ],
             [
              0.7777777777777778,
              "#fb9f3a"
             ],
             [
              0.8888888888888888,
              "#fdca26"
             ],
             [
              1,
              "#f0f921"
             ]
            ],
            "type": "surface"
           }
          ],
          "table": [
           {
            "cells": {
             "fill": {
              "color": "#EBF0F8"
             },
             "line": {
              "color": "white"
             }
            },
            "header": {
             "fill": {
              "color": "#C8D4E3"
             },
             "line": {
              "color": "white"
             }
            },
            "type": "table"
           }
          ]
         },
         "layout": {
          "annotationdefaults": {
           "arrowcolor": "#2a3f5f",
           "arrowhead": 0,
           "arrowwidth": 1
          },
          "autotypenumbers": "strict",
          "coloraxis": {
           "colorbar": {
            "outlinewidth": 0,
            "ticks": ""
           }
          },
          "colorscale": {
           "diverging": [
            [
             0,
             "#8e0152"
            ],
            [
             0.1,
             "#c51b7d"
            ],
            [
             0.2,
             "#de77ae"
            ],
            [
             0.3,
             "#f1b6da"
            ],
            [
             0.4,
             "#fde0ef"
            ],
            [
             0.5,
             "#f7f7f7"
            ],
            [
             0.6,
             "#e6f5d0"
            ],
            [
             0.7,
             "#b8e186"
            ],
            [
             0.8,
             "#7fbc41"
            ],
            [
             0.9,
             "#4d9221"
            ],
            [
             1,
             "#276419"
            ]
           ],
           "sequential": [
            [
             0,
             "#0d0887"
            ],
            [
             0.1111111111111111,
             "#46039f"
            ],
            [
             0.2222222222222222,
             "#7201a8"
            ],
            [
             0.3333333333333333,
             "#9c179e"
            ],
            [
             0.4444444444444444,
             "#bd3786"
            ],
            [
             0.5555555555555556,
             "#d8576b"
            ],
            [
             0.6666666666666666,
             "#ed7953"
            ],
            [
             0.7777777777777778,
             "#fb9f3a"
            ],
            [
             0.8888888888888888,
             "#fdca26"
            ],
            [
             1,
             "#f0f921"
            ]
           ],
           "sequentialminus": [
            [
             0,
             "#0d0887"
            ],
            [
             0.1111111111111111,
             "#46039f"
            ],
            [
             0.2222222222222222,
             "#7201a8"
            ],
            [
             0.3333333333333333,
             "#9c179e"
            ],
            [
             0.4444444444444444,
             "#bd3786"
            ],
            [
             0.5555555555555556,
             "#d8576b"
            ],
            [
             0.6666666666666666,
             "#ed7953"
            ],
            [
             0.7777777777777778,
             "#fb9f3a"
            ],
            [
             0.8888888888888888,
             "#fdca26"
            ],
            [
             1,
             "#f0f921"
            ]
           ]
          },
          "colorway": [
           "#636efa",
           "#EF553B",
           "#00cc96",
           "#ab63fa",
           "#FFA15A",
           "#19d3f3",
           "#FF6692",
           "#B6E880",
           "#FF97FF",
           "#FECB52"
          ],
          "font": {
           "color": "#2a3f5f"
          },
          "geo": {
           "bgcolor": "white",
           "lakecolor": "white",
           "landcolor": "#E5ECF6",
           "showlakes": true,
           "showland": true,
           "subunitcolor": "white"
          },
          "hoverlabel": {
           "align": "left"
          },
          "hovermode": "closest",
          "mapbox": {
           "style": "light"
          },
          "paper_bgcolor": "white",
          "plot_bgcolor": "#E5ECF6",
          "polar": {
           "angularaxis": {
            "gridcolor": "white",
            "linecolor": "white",
            "ticks": ""
           },
           "bgcolor": "#E5ECF6",
           "radialaxis": {
            "gridcolor": "white",
            "linecolor": "white",
            "ticks": ""
           }
          },
          "scene": {
           "xaxis": {
            "backgroundcolor": "#E5ECF6",
            "gridcolor": "white",
            "gridwidth": 2,
            "linecolor": "white",
            "showbackground": true,
            "ticks": "",
            "zerolinecolor": "white"
           },
           "yaxis": {
            "backgroundcolor": "#E5ECF6",
            "gridcolor": "white",
            "gridwidth": 2,
            "linecolor": "white",
            "showbackground": true,
            "ticks": "",
            "zerolinecolor": "white"
           },
           "zaxis": {
            "backgroundcolor": "#E5ECF6",
            "gridcolor": "white",
            "gridwidth": 2,
            "linecolor": "white",
            "showbackground": true,
            "ticks": "",
            "zerolinecolor": "white"
           }
          },
          "shapedefaults": {
           "line": {
            "color": "#2a3f5f"
           }
          },
          "ternary": {
           "aaxis": {
            "gridcolor": "white",
            "linecolor": "white",
            "ticks": ""
           },
           "baxis": {
            "gridcolor": "white",
            "linecolor": "white",
            "ticks": ""
           },
           "bgcolor": "#E5ECF6",
           "caxis": {
            "gridcolor": "white",
            "linecolor": "white",
            "ticks": ""
           }
          },
          "title": {
           "x": 0.05
          },
          "xaxis": {
           "automargin": true,
           "gridcolor": "white",
           "linecolor": "white",
           "ticks": "",
           "title": {
            "standoff": 15
           },
           "zerolinecolor": "white",
           "zerolinewidth": 2
          },
          "yaxis": {
           "automargin": true,
           "gridcolor": "white",
           "linecolor": "white",
           "ticks": "",
           "title": {
            "standoff": 15
           },
           "zerolinecolor": "white",
           "zerolinewidth": 2
          }
         }
        },
        "title": {
         "text": "Optimization History Plot"
        },
        "xaxis": {
         "title": {
          "text": "Trial"
         }
        },
        "yaxis": {
         "title": {
          "text": "Objective Value"
         }
        }
       }
      }
     },
     "metadata": {},
     "output_type": "display_data"
    }
   ],
   "source": [
    "fig = optuna.visualization.plot_optimization_history(study)\n",
    "graph_path = Path(f\"../../figures/{params.MODEL_TYPE}/{params.MODEL_NAME}/\")\n",
    "if not os.path.exists(graph_path):\n",
    "    os.makedirs(graph_path)\n",
    "graph_path = f\"../../figures/{params.MODEL_TYPE}/{params.MODEL_NAME}/plot_optimization_history_graph\"\n",
    "fig.write_image(Path(f\"{graph_path}.png\"))\n",
    "fig.show()"
   ]
  },
  {
   "cell_type": "code",
   "execution_count": 14,
   "id": "92103de1",
   "metadata": {},
   "outputs": [
    {
     "data": {
      "application/vnd.plotly.v1+json": {
       "config": {
        "plotlyServerURL": "https://plot.ly"
       },
       "data": [
        {
         "marker": {
          "maxdisplayed": 10
         },
         "mode": "lines+markers",
         "name": "Trial0",
         "type": "scatter",
         "x": [
          0,
          1,
          2,
          3,
          4,
          5,
          6,
          7,
          8,
          9,
          10,
          11,
          12,
          13,
          14,
          15,
          16,
          17,
          18,
          19,
          20,
          21,
          22,
          23,
          24,
          25,
          26,
          27,
          28,
          29,
          30,
          31,
          32,
          33,
          34,
          35,
          36,
          37,
          38,
          39,
          40,
          41,
          42,
          43,
          44,
          45,
          46,
          47,
          48,
          49
         ],
         "y": [
          2.1820290088653564,
          1.3790822625160217,
          1.0990604201952616,
          0.9607233911752702,
          0.8745248794555665,
          0.818253880739212,
          0.7749576645238058,
          0.7463224209845065,
          0.8158243013752831,
          0.7878860467672347,
          0.7640829189257187,
          0.743997886776924,
          0.7270656549013577,
          0.7118533717734472,
          0.6988451921939849,
          0.6883017573505641,
          0.7112044190659244,
          0.7010660711261961,
          0.6930226762043802,
          0.6847199001908303,
          0.6770120143890381,
          0.6701571556654844,
          0.6660512260768725,
          0.6789372225602467,
          0.672640531539917,
          0.6665348933293269,
          0.660903889823843,
          0.655337914611612,
          0.6501984785343038,
          0.6458264201879501,
          0.6449374862255588,
          0.6415592161938548,
          0.6380413024714499,
          0.6345218200893963,
          0.6312170657089778,
          0.6280465028352207,
          0.6251086004682488,
          0.6223007895444568,
          0.6201234563803061,
          0.6228836488723755,
          0.6232186779743288,
          0.6228355705738068,
          0.6215196393256963,
          0.6201691030101343,
          0.6182035819689433,
          0.6193398760712665,
          0.6284282207489014,
          0.6272925913333892,
          0.6255950321956556,
          0.6236558443307877
         ]
        },
        {
         "marker": {
          "maxdisplayed": 10
         },
         "mode": "lines+markers",
         "name": "Trial1",
         "type": "scatter",
         "x": [
          0,
          1,
          2,
          3,
          4,
          5,
          6,
          7,
          8,
          9,
          10,
          11,
          12,
          13,
          14,
          15,
          16,
          17,
          18,
          19,
          20,
          21,
          22,
          23,
          24,
          25,
          26,
          27,
          28,
          29,
          30,
          31,
          32,
          33,
          34,
          35,
          36,
          37,
          38,
          39,
          40,
          41,
          42,
          43,
          44,
          45,
          46,
          47,
          48,
          49
         ],
         "y": [
          0.5811399221420288,
          0.5751214802265168,
          0.5717394709587097,
          0.5693526297807694,
          0.5660329866409303,
          0.5618667562802634,
          0.55670314346041,
          0.5514748021960258,
          0.5465655929512447,
          0.5426190143823624,
          0.53777153654532,
          0.5344494665662448,
          0.5319112167908595,
          0.5295728985752378,
          0.5264939073721568,
          0.5231935661286116,
          0.5215205066344317,
          0.5197517888413535,
          0.5197768070195851,
          0.5189890503883362,
          0.517143033799671,
          0.52299193685705,
          0.5230726350908693,
          0.5222500498096149,
          0.5225970072746278,
          0.5215581646332375,
          0.5205321402461441,
          0.5194490351847241,
          0.5188509342999295,
          0.5189349013566971,
          0.5181908690160321,
          0.5180665209889412,
          0.519051577466907,
          0.5181623623651618,
          0.5180087816715241,
          0.5172126218676568,
          0.5168902150682502,
          0.5162010398350265,
          0.5153785595527064,
          0.5145673860609532,
          0.5142646975633576,
          0.513709233062608,
          0.5136626786963885,
          0.5132484922354872,
          0.5135331564479405,
          0.5134353877409645,
          0.513025207468804,
          0.5130635316173235,
          0.5125032221784397,
          0.5118416348695756
         ]
        },
        {
         "marker": {
          "maxdisplayed": 10
         },
         "mode": "lines+markers",
         "name": "Trial2",
         "type": "scatter",
         "x": [
          0,
          1,
          2,
          3,
          4,
          5,
          6,
          7,
          8,
          9,
          10,
          11,
          12,
          13,
          14,
          15,
          16,
          17,
          18,
          19,
          20,
          21,
          22,
          23,
          24,
          25,
          26,
          27,
          28,
          29,
          30,
          31,
          32,
          33,
          34,
          35,
          36,
          37,
          38,
          39,
          40,
          41,
          42,
          43,
          44,
          45,
          46,
          47,
          48,
          49
         ],
         "y": [
          0.5424390077590943,
          0.5303097307682038,
          0.5201671759287517,
          0.5124943882226944,
          0.5057304680347443,
          0.4988640596469243,
          0.49301789488111225,
          0.48820217996835713,
          0.4845245156023238,
          0.48143912017345436,
          0.4783315918662332,
          0.4758618921041489,
          0.47351801395416265,
          0.4717615084988731,
          0.47044779618581145,
          0.4690342348068952,
          0.46831424271359157,
          0.46721182962258656,
          0.4668798597235428,
          0.46553326547145835,
          0.46499848621232165,
          0.46408458541740066,
          0.46390527512716206,
          0.46330617492397624,
          0.4626277279853821,
          0.4624628688280399,
          0.46206409710424917,
          0.46211728794234136,
          0.4619120334756785,
          0.4620196131865183,
          0.46273755969539765,
          0.46311415769159797,
          0.4628951320142457,
          0.46293472454828377,
          0.46309897150312157,
          0.46281649453772444,
          0.4631079395075103,
          0.4632754001178241,
          0.4634611641749359,
          0.46371060147881504,
          0.46370573799784587,
          0.4640975026857285,
          0.46385753334954727,
          0.4637604420835322,
          0.46379118243853257,
          0.46357952719149387,
          0.4637200070188401,
          0.46405271403491505,
          0.46439611498190436,
          0.46535606348514563
         ]
        },
        {
         "marker": {
          "maxdisplayed": 10
         },
         "mode": "lines+markers",
         "name": "Trial3",
         "type": "scatter",
         "x": [
          0,
          1,
          2,
          3,
          4,
          5,
          6,
          7,
          8,
          9,
          10,
          11,
          12,
          13,
          14,
          15,
          16,
          17,
          18,
          19,
          20,
          21,
          22,
          23,
          24,
          25,
          26,
          27,
          28,
          29,
          30,
          31,
          32,
          33,
          34,
          35,
          36,
          37,
          38,
          39,
          40,
          41,
          42,
          43,
          44,
          45,
          46,
          47,
          48,
          49
         ],
         "y": [
          0.5907472848892212,
          0.5760906398296357,
          0.5656676570574443,
          0.5569638252258301,
          0.5501272082328796,
          0.5438718179861705,
          0.5384351296084268,
          0.5334361515939237,
          0.5287615040938061,
          0.5245008009672165,
          0.5205555904995312,
          0.5169479255874952,
          0.5135497877231011,
          0.5105164268187115,
          0.5075736860434215,
          0.5049545638263226,
          0.5024450929725872,
          0.5000903321637049,
          0.4978136865716233,
          0.49573666393756877,
          0.4937222196942285,
          0.4917598445307126,
          0.48991753018420686,
          0.4881966466705004,
          0.48656383275985715,
          0.4850364460394933,
          0.48355085871837755,
          0.48208501296383993,
          0.480732543509582,
          0.4794353204965592,
          0.47815500767000263,
          0.4769387448206544,
          0.4758129547942769,
          0.47471664407674,
          0.47363327520234244,
          0.472583391600185,
          0.471607133826694,
          0.4706282065102929,
          0.4696778667278779,
          0.4688223508000373,
          0.46789964684625945,
          0.467044831599508,
          0.4662229808264,
          0.4653758200732144,
          0.4646032950613233,
          0.4638345564189164,
          0.4630873521591754,
          0.46234003951152164,
          0.4616211773181448,
          0.46094945621490474
         ]
        },
        {
         "marker": {
          "maxdisplayed": 10
         },
         "mode": "lines+markers",
         "name": "Trial4",
         "type": "scatter",
         "x": [
          0,
          1,
          2,
          3,
          4,
          5,
          6,
          7,
          8,
          9,
          10,
          11,
          12,
          13,
          14,
          15,
          16,
          17,
          18,
          19,
          20,
          21,
          22,
          23,
          24,
          25,
          26,
          27,
          28,
          29,
          30,
          31,
          32,
          33,
          34,
          35,
          36,
          37,
          38,
          39,
          40,
          41,
          42,
          43,
          44,
          45,
          46,
          47,
          48,
          49
         ],
         "y": [
          0.5997541785240174,
          0.5997807860374451,
          0.5998030066490173,
          0.5998105466365814,
          0.5998197984695434,
          0.5998249391714731,
          0.5998301182474408,
          0.5998343259096146,
          0.5998382859759861,
          0.5998419904708863,
          0.5998453183607622,
          0.5998483945926031,
          0.5998512304746187,
          0.5998538485595157,
          0.599856256643931,
          0.5998584806919097,
          0.599860533545999,
          0.5998624238702985,
          0.5998641766999896,
          0.5998657947778702,
          0.5998672922452291,
          0.5998686855489557,
          0.5998699789461882,
          0.59987118045489,
          0.5998723020553589,
          0.5998733502167922,
          0.5998743326575668,
          0.5998752521617072,
          0.5998761185284318,
          0.5998769315083821,
          0.599877695883474,
          0.5998784180730581,
          0.5998790997447389,
          0.5998797437723945,
          0.5998803533826556,
          0.5998809317747752,
          0.5998814814799541,
          0.5998820025669901,
          0.5998825005995921,
          0.5998829728364944,
          0.5998834214559415,
          0.5998838512670426,
          0.5998842619186224,
          0.5998846549879421,
          0.5998850316471523,
          0.5998853908932728,
          0.5998857358668713,
          0.5998860654731591,
          0.5998863825992663,
          0.5998866884708405
         ]
        },
        {
         "marker": {
          "maxdisplayed": 10
         },
         "mode": "lines+markers",
         "name": "Trial5",
         "type": "scatter",
         "x": [
          0,
          1,
          2,
          3,
          4,
          5,
          6,
          7,
          8,
          9,
          10,
          11,
          12,
          13,
          14,
          15,
          16,
          17,
          18,
          19,
          20,
          21,
          22,
          23,
          24,
          25,
          26,
          27,
          28,
          29,
          30,
          31,
          32,
          33,
          34,
          35,
          36,
          37,
          38,
          39,
          40,
          41,
          42,
          43,
          44,
          45,
          46,
          47,
          48,
          49
         ],
         "y": [
          0.5691803336143494,
          0.5560840725898744,
          0.5492993791898092,
          0.5422954589128495,
          0.5378023052215577,
          0.5351261138916016,
          0.5340732301984515,
          0.5316124118864536,
          0.529431939125061,
          0.5274188899993897,
          0.5262323959307238,
          0.5242940684159597,
          0.5229982004715846,
          0.5220585814544133,
          0.52097691655159,
          0.5198762170970439,
          0.5191014970050137,
          0.5183613820208443,
          0.5175567021495416,
          0.5172474947571754,
          0.5164313534895578,
          0.5160059210929003,
          0.5157783736353335,
          0.5153309871753057,
          0.5148873751163483,
          0.5144593030214311,
          0.5139588084485797,
          0.513446227993284,
          0.5131687057429347,
          0.5126702185471853,
          0.512257537149614,
          0.5114801477640867,
          0.5108940617604689,
          0.5104261431623907,
          0.5099985573972974,
          0.5096976796785989,
          0.5092621263620014,
          0.5088467025443126,
          0.5082605377221717,
          0.5076612441241741,
          0.5072750379399555,
          0.5067973128386906,
          0.5064129602077395,
          0.5059571160511537,
          0.5056297779083252,
          0.5052253650582356,
          0.5049227912375268,
          0.5045873532692591,
          0.504265579033871,
          0.503987025141716
         ]
        },
        {
         "marker": {
          "maxdisplayed": 10
         },
         "mode": "lines+markers",
         "name": "Trial6",
         "type": "scatter",
         "x": [
          0,
          1,
          2,
          3,
          4,
          5,
          6,
          7,
          8,
          9,
          10,
          11,
          12,
          13,
          14,
          15,
          16,
          17,
          18,
          19,
          20,
          21,
          22,
          23,
          24,
          25,
          26,
          27,
          28,
          29,
          30,
          31,
          32,
          33,
          34,
          35,
          36,
          37,
          38,
          39,
          40,
          41,
          42,
          43,
          44,
          45,
          46,
          47,
          48,
          49
         ],
         "y": [
          0.555888831615448,
          0.5427538096904755,
          0.5330260753631592,
          0.5256021901965141,
          0.5203913974761962,
          0.5177276243766148,
          0.5157633244991302,
          0.5138393573462964,
          0.5135229388872783,
          0.5123799550533296,
          0.511292353001508,
          0.5103302111228308,
          0.5090576277329373,
          0.5076573627335685,
          0.5071306149164836,
          0.5057220697402954,
          0.5048539480742287,
          0.5037511590454313,
          0.5030003249645233,
          0.5018435937166215,
          0.5008267223834991,
          0.5001271158456801,
          0.499512419493302,
          0.49893745581308996,
          0.49854246330261226,
          0.4979425301918616,
          0.4974457877653616,
          0.49677353096859783,
          0.49619660048649217,
          0.495712836186091,
          0.4954194697641557,
          0.4954339286312461,
          0.49540574713186786,
          0.4951442425741868,
          0.49520779848098756,
          0.4950520974066522,
          0.49519696863921914,
          0.4954098030140525,
          0.4951802820731432,
          0.4949960088729858,
          0.4948939948547177,
          0.49476271910326813,
          0.49442475119302437,
          0.49426258883693,
          0.4940588676929473,
          0.4938174188137054,
          0.4937073653048657,
          0.49338044201334325,
          0.4932396751277302,
          0.49302461206913006
         ]
        },
        {
         "marker": {
          "maxdisplayed": 10
         },
         "mode": "lines+markers",
         "name": "Trial7",
         "type": "scatter",
         "x": [
          0,
          1,
          2,
          3,
          4,
          5,
          6,
          7,
          8,
          9,
          10,
          11,
          12,
          13,
          14,
          15,
          16,
          17,
          18,
          19,
          20,
          21,
          22,
          23,
          24,
          25,
          26,
          27,
          28,
          29,
          30,
          31,
          32,
          33,
          34,
          35,
          36,
          37,
          38,
          39,
          40,
          41,
          42,
          43,
          44,
          45,
          46,
          47,
          48,
          49
         ],
         "y": [
          0.5575649380683899,
          0.54307621717453,
          0.5348039229710897,
          0.5262180924415588,
          0.5215938234329224,
          0.5168395072221756,
          0.5135257993425643,
          0.5101959966123104,
          0.5070651650428772,
          0.504438334107399,
          0.502554383061149,
          0.5005746001998584,
          0.49928260262195884,
          0.49849038890429903,
          0.4973946837584178,
          0.4965333431959153,
          0.49541142056970044,
          0.4942720999320349,
          0.4942083528167324,
          0.4930666920542718,
          0.49238929635002515,
          0.4917760307138618,
          0.49095788675805807,
          0.49029914066195496,
          0.4897470219135285,
          0.4892755205814655,
          0.48890038839092964,
          0.4884580920849528,
          0.4880154371261597,
          0.48767700314521795,
          0.48714674595863594,
          0.4868446225300431,
          0.4864213921807029,
          0.4859386866583544,
          0.4857245377131871,
          0.4852967997392018,
          0.48495183570964906,
          0.48455782862086033,
          0.4841766501084351,
          0.48393360793590545,
          0.4838864887632975,
          0.4837277616773333,
          0.48352905997010165,
          0.48343161791563033,
          0.4832087406847212,
          0.4830889212048572,
          0.4827651247065118,
          0.48230525702238075,
          0.4820577403720544,
          0.48183390688896177
         ]
        },
        {
         "marker": {
          "maxdisplayed": 10
         },
         "mode": "lines+markers",
         "name": "Trial8",
         "type": "scatter",
         "x": [
          0
         ],
         "y": [
          0.9619407057762146
         ]
        },
        {
         "marker": {
          "maxdisplayed": 10
         },
         "mode": "lines+markers",
         "name": "Trial9",
         "type": "scatter",
         "x": [
          0,
          1,
          2,
          3,
          4,
          5,
          6,
          7,
          8,
          9,
          10,
          11,
          12,
          13,
          14,
          15,
          16,
          17,
          18,
          19,
          20,
          21,
          22,
          23,
          24,
          25,
          26,
          27,
          28,
          29,
          30,
          31,
          32,
          33,
          34,
          35,
          36,
          37,
          38,
          39,
          40,
          41,
          42,
          43,
          44,
          45,
          46,
          47,
          48,
          49
         ],
         "y": [
          0.5578318238258362,
          0.5435596823692321,
          0.5326825698216756,
          0.5263237312436103,
          0.522185218334198,
          0.517769827445348,
          0.5133715748786927,
          0.5109104372560977,
          0.5085151652495066,
          0.5074058401584625,
          0.5057341277599335,
          0.5045396020015082,
          0.5027614634770614,
          0.5011893217052733,
          0.5001295638084412,
          0.4991025432944298,
          0.4979941154227538,
          0.4969454530212615,
          0.4959161105908846,
          0.4950728237628937,
          0.4943795207000914,
          0.493229097940705,
          0.4925884091335794,
          0.49199705397089327,
          0.49120915174484253,
          0.49048898242987116,
          0.4899329397413465,
          0.4891968118292945,
          0.488581219829362,
          0.48796331663926445,
          0.48704963114953814,
          0.4863145418465138,
          0.48582900563875836,
          0.48533352245302763,
          0.48488486613546095,
          0.48456490470303426,
          0.48413686510678877,
          0.48377405797180373,
          0.4832436757209973,
          0.48273255303502083,
          0.48265220828172634,
          0.4823077296926861,
          0.48209627437037084,
          0.4816674103791063,
          0.4814314749505784,
          0.48116527018339733,
          0.48094602899348476,
          0.48069666139781475,
          0.4807255932262966,
          0.4806447219848633
         ]
        }
       ],
       "layout": {
        "showlegend": false,
        "template": {
         "data": {
          "bar": [
           {
            "error_x": {
             "color": "#2a3f5f"
            },
            "error_y": {
             "color": "#2a3f5f"
            },
            "marker": {
             "line": {
              "color": "#E5ECF6",
              "width": 0.5
             },
             "pattern": {
              "fillmode": "overlay",
              "size": 10,
              "solidity": 0.2
             }
            },
            "type": "bar"
           }
          ],
          "barpolar": [
           {
            "marker": {
             "line": {
              "color": "#E5ECF6",
              "width": 0.5
             },
             "pattern": {
              "fillmode": "overlay",
              "size": 10,
              "solidity": 0.2
             }
            },
            "type": "barpolar"
           }
          ],
          "carpet": [
           {
            "aaxis": {
             "endlinecolor": "#2a3f5f",
             "gridcolor": "white",
             "linecolor": "white",
             "minorgridcolor": "white",
             "startlinecolor": "#2a3f5f"
            },
            "baxis": {
             "endlinecolor": "#2a3f5f",
             "gridcolor": "white",
             "linecolor": "white",
             "minorgridcolor": "white",
             "startlinecolor": "#2a3f5f"
            },
            "type": "carpet"
           }
          ],
          "choropleth": [
           {
            "colorbar": {
             "outlinewidth": 0,
             "ticks": ""
            },
            "type": "choropleth"
           }
          ],
          "contour": [
           {
            "colorbar": {
             "outlinewidth": 0,
             "ticks": ""
            },
            "colorscale": [
             [
              0,
              "#0d0887"
             ],
             [
              0.1111111111111111,
              "#46039f"
             ],
             [
              0.2222222222222222,
              "#7201a8"
             ],
             [
              0.3333333333333333,
              "#9c179e"
             ],
             [
              0.4444444444444444,
              "#bd3786"
             ],
             [
              0.5555555555555556,
              "#d8576b"
             ],
             [
              0.6666666666666666,
              "#ed7953"
             ],
             [
              0.7777777777777778,
              "#fb9f3a"
             ],
             [
              0.8888888888888888,
              "#fdca26"
             ],
             [
              1,
              "#f0f921"
             ]
            ],
            "type": "contour"
           }
          ],
          "contourcarpet": [
           {
            "colorbar": {
             "outlinewidth": 0,
             "ticks": ""
            },
            "type": "contourcarpet"
           }
          ],
          "heatmap": [
           {
            "colorbar": {
             "outlinewidth": 0,
             "ticks": ""
            },
            "colorscale": [
             [
              0,
              "#0d0887"
             ],
             [
              0.1111111111111111,
              "#46039f"
             ],
             [
              0.2222222222222222,
              "#7201a8"
             ],
             [
              0.3333333333333333,
              "#9c179e"
             ],
             [
              0.4444444444444444,
              "#bd3786"
             ],
             [
              0.5555555555555556,
              "#d8576b"
             ],
             [
              0.6666666666666666,
              "#ed7953"
             ],
             [
              0.7777777777777778,
              "#fb9f3a"
             ],
             [
              0.8888888888888888,
              "#fdca26"
             ],
             [
              1,
              "#f0f921"
             ]
            ],
            "type": "heatmap"
           }
          ],
          "heatmapgl": [
           {
            "colorbar": {
             "outlinewidth": 0,
             "ticks": ""
            },
            "colorscale": [
             [
              0,
              "#0d0887"
             ],
             [
              0.1111111111111111,
              "#46039f"
             ],
             [
              0.2222222222222222,
              "#7201a8"
             ],
             [
              0.3333333333333333,
              "#9c179e"
             ],
             [
              0.4444444444444444,
              "#bd3786"
             ],
             [
              0.5555555555555556,
              "#d8576b"
             ],
             [
              0.6666666666666666,
              "#ed7953"
             ],
             [
              0.7777777777777778,
              "#fb9f3a"
             ],
             [
              0.8888888888888888,
              "#fdca26"
             ],
             [
              1,
              "#f0f921"
             ]
            ],
            "type": "heatmapgl"
           }
          ],
          "histogram": [
           {
            "marker": {
             "pattern": {
              "fillmode": "overlay",
              "size": 10,
              "solidity": 0.2
             }
            },
            "type": "histogram"
           }
          ],
          "histogram2d": [
           {
            "colorbar": {
             "outlinewidth": 0,
             "ticks": ""
            },
            "colorscale": [
             [
              0,
              "#0d0887"
             ],
             [
              0.1111111111111111,
              "#46039f"
             ],
             [
              0.2222222222222222,
              "#7201a8"
             ],
             [
              0.3333333333333333,
              "#9c179e"
             ],
             [
              0.4444444444444444,
              "#bd3786"
             ],
             [
              0.5555555555555556,
              "#d8576b"
             ],
             [
              0.6666666666666666,
              "#ed7953"
             ],
             [
              0.7777777777777778,
              "#fb9f3a"
             ],
             [
              0.8888888888888888,
              "#fdca26"
             ],
             [
              1,
              "#f0f921"
             ]
            ],
            "type": "histogram2d"
           }
          ],
          "histogram2dcontour": [
           {
            "colorbar": {
             "outlinewidth": 0,
             "ticks": ""
            },
            "colorscale": [
             [
              0,
              "#0d0887"
             ],
             [
              0.1111111111111111,
              "#46039f"
             ],
             [
              0.2222222222222222,
              "#7201a8"
             ],
             [
              0.3333333333333333,
              "#9c179e"
             ],
             [
              0.4444444444444444,
              "#bd3786"
             ],
             [
              0.5555555555555556,
              "#d8576b"
             ],
             [
              0.6666666666666666,
              "#ed7953"
             ],
             [
              0.7777777777777778,
              "#fb9f3a"
             ],
             [
              0.8888888888888888,
              "#fdca26"
             ],
             [
              1,
              "#f0f921"
             ]
            ],
            "type": "histogram2dcontour"
           }
          ],
          "mesh3d": [
           {
            "colorbar": {
             "outlinewidth": 0,
             "ticks": ""
            },
            "type": "mesh3d"
           }
          ],
          "parcoords": [
           {
            "line": {
             "colorbar": {
              "outlinewidth": 0,
              "ticks": ""
             }
            },
            "type": "parcoords"
           }
          ],
          "pie": [
           {
            "automargin": true,
            "type": "pie"
           }
          ],
          "scatter": [
           {
            "fillpattern": {
             "fillmode": "overlay",
             "size": 10,
             "solidity": 0.2
            },
            "type": "scatter"
           }
          ],
          "scatter3d": [
           {
            "line": {
             "colorbar": {
              "outlinewidth": 0,
              "ticks": ""
             }
            },
            "marker": {
             "colorbar": {
              "outlinewidth": 0,
              "ticks": ""
             }
            },
            "type": "scatter3d"
           }
          ],
          "scattercarpet": [
           {
            "marker": {
             "colorbar": {
              "outlinewidth": 0,
              "ticks": ""
             }
            },
            "type": "scattercarpet"
           }
          ],
          "scattergeo": [
           {
            "marker": {
             "colorbar": {
              "outlinewidth": 0,
              "ticks": ""
             }
            },
            "type": "scattergeo"
           }
          ],
          "scattergl": [
           {
            "marker": {
             "colorbar": {
              "outlinewidth": 0,
              "ticks": ""
             }
            },
            "type": "scattergl"
           }
          ],
          "scattermapbox": [
           {
            "marker": {
             "colorbar": {
              "outlinewidth": 0,
              "ticks": ""
             }
            },
            "type": "scattermapbox"
           }
          ],
          "scatterpolar": [
           {
            "marker": {
             "colorbar": {
              "outlinewidth": 0,
              "ticks": ""
             }
            },
            "type": "scatterpolar"
           }
          ],
          "scatterpolargl": [
           {
            "marker": {
             "colorbar": {
              "outlinewidth": 0,
              "ticks": ""
             }
            },
            "type": "scatterpolargl"
           }
          ],
          "scatterternary": [
           {
            "marker": {
             "colorbar": {
              "outlinewidth": 0,
              "ticks": ""
             }
            },
            "type": "scatterternary"
           }
          ],
          "surface": [
           {
            "colorbar": {
             "outlinewidth": 0,
             "ticks": ""
            },
            "colorscale": [
             [
              0,
              "#0d0887"
             ],
             [
              0.1111111111111111,
              "#46039f"
             ],
             [
              0.2222222222222222,
              "#7201a8"
             ],
             [
              0.3333333333333333,
              "#9c179e"
             ],
             [
              0.4444444444444444,
              "#bd3786"
             ],
             [
              0.5555555555555556,
              "#d8576b"
             ],
             [
              0.6666666666666666,
              "#ed7953"
             ],
             [
              0.7777777777777778,
              "#fb9f3a"
             ],
             [
              0.8888888888888888,
              "#fdca26"
             ],
             [
              1,
              "#f0f921"
             ]
            ],
            "type": "surface"
           }
          ],
          "table": [
           {
            "cells": {
             "fill": {
              "color": "#EBF0F8"
             },
             "line": {
              "color": "white"
             }
            },
            "header": {
             "fill": {
              "color": "#C8D4E3"
             },
             "line": {
              "color": "white"
             }
            },
            "type": "table"
           }
          ]
         },
         "layout": {
          "annotationdefaults": {
           "arrowcolor": "#2a3f5f",
           "arrowhead": 0,
           "arrowwidth": 1
          },
          "autotypenumbers": "strict",
          "coloraxis": {
           "colorbar": {
            "outlinewidth": 0,
            "ticks": ""
           }
          },
          "colorscale": {
           "diverging": [
            [
             0,
             "#8e0152"
            ],
            [
             0.1,
             "#c51b7d"
            ],
            [
             0.2,
             "#de77ae"
            ],
            [
             0.3,
             "#f1b6da"
            ],
            [
             0.4,
             "#fde0ef"
            ],
            [
             0.5,
             "#f7f7f7"
            ],
            [
             0.6,
             "#e6f5d0"
            ],
            [
             0.7,
             "#b8e186"
            ],
            [
             0.8,
             "#7fbc41"
            ],
            [
             0.9,
             "#4d9221"
            ],
            [
             1,
             "#276419"
            ]
           ],
           "sequential": [
            [
             0,
             "#0d0887"
            ],
            [
             0.1111111111111111,
             "#46039f"
            ],
            [
             0.2222222222222222,
             "#7201a8"
            ],
            [
             0.3333333333333333,
             "#9c179e"
            ],
            [
             0.4444444444444444,
             "#bd3786"
            ],
            [
             0.5555555555555556,
             "#d8576b"
            ],
            [
             0.6666666666666666,
             "#ed7953"
            ],
            [
             0.7777777777777778,
             "#fb9f3a"
            ],
            [
             0.8888888888888888,
             "#fdca26"
            ],
            [
             1,
             "#f0f921"
            ]
           ],
           "sequentialminus": [
            [
             0,
             "#0d0887"
            ],
            [
             0.1111111111111111,
             "#46039f"
            ],
            [
             0.2222222222222222,
             "#7201a8"
            ],
            [
             0.3333333333333333,
             "#9c179e"
            ],
            [
             0.4444444444444444,
             "#bd3786"
            ],
            [
             0.5555555555555556,
             "#d8576b"
            ],
            [
             0.6666666666666666,
             "#ed7953"
            ],
            [
             0.7777777777777778,
             "#fb9f3a"
            ],
            [
             0.8888888888888888,
             "#fdca26"
            ],
            [
             1,
             "#f0f921"
            ]
           ]
          },
          "colorway": [
           "#636efa",
           "#EF553B",
           "#00cc96",
           "#ab63fa",
           "#FFA15A",
           "#19d3f3",
           "#FF6692",
           "#B6E880",
           "#FF97FF",
           "#FECB52"
          ],
          "font": {
           "color": "#2a3f5f"
          },
          "geo": {
           "bgcolor": "white",
           "lakecolor": "white",
           "landcolor": "#E5ECF6",
           "showlakes": true,
           "showland": true,
           "subunitcolor": "white"
          },
          "hoverlabel": {
           "align": "left"
          },
          "hovermode": "closest",
          "mapbox": {
           "style": "light"
          },
          "paper_bgcolor": "white",
          "plot_bgcolor": "#E5ECF6",
          "polar": {
           "angularaxis": {
            "gridcolor": "white",
            "linecolor": "white",
            "ticks": ""
           },
           "bgcolor": "#E5ECF6",
           "radialaxis": {
            "gridcolor": "white",
            "linecolor": "white",
            "ticks": ""
           }
          },
          "scene": {
           "xaxis": {
            "backgroundcolor": "#E5ECF6",
            "gridcolor": "white",
            "gridwidth": 2,
            "linecolor": "white",
            "showbackground": true,
            "ticks": "",
            "zerolinecolor": "white"
           },
           "yaxis": {
            "backgroundcolor": "#E5ECF6",
            "gridcolor": "white",
            "gridwidth": 2,
            "linecolor": "white",
            "showbackground": true,
            "ticks": "",
            "zerolinecolor": "white"
           },
           "zaxis": {
            "backgroundcolor": "#E5ECF6",
            "gridcolor": "white",
            "gridwidth": 2,
            "linecolor": "white",
            "showbackground": true,
            "ticks": "",
            "zerolinecolor": "white"
           }
          },
          "shapedefaults": {
           "line": {
            "color": "#2a3f5f"
           }
          },
          "ternary": {
           "aaxis": {
            "gridcolor": "white",
            "linecolor": "white",
            "ticks": ""
           },
           "baxis": {
            "gridcolor": "white",
            "linecolor": "white",
            "ticks": ""
           },
           "bgcolor": "#E5ECF6",
           "caxis": {
            "gridcolor": "white",
            "linecolor": "white",
            "ticks": ""
           }
          },
          "title": {
           "x": 0.05
          },
          "xaxis": {
           "automargin": true,
           "gridcolor": "white",
           "linecolor": "white",
           "ticks": "",
           "title": {
            "standoff": 15
           },
           "zerolinecolor": "white",
           "zerolinewidth": 2
          },
          "yaxis": {
           "automargin": true,
           "gridcolor": "white",
           "linecolor": "white",
           "ticks": "",
           "title": {
            "standoff": 15
           },
           "zerolinecolor": "white",
           "zerolinewidth": 2
          }
         }
        },
        "title": {
         "text": "Intermediate Values Plot"
        },
        "xaxis": {
         "title": {
          "text": "Step"
         }
        },
        "yaxis": {
         "title": {
          "text": "Intermediate Value"
         }
        }
       }
      }
     },
     "metadata": {},
     "output_type": "display_data"
    }
   ],
   "source": [
    "fig = optuna.visualization.plot_intermediate_values(study)\n",
    "graph_path = Path(f\"../../figures/{params.MODEL_TYPE}/{params.MODEL_NAME}/\")\n",
    "if not os.path.exists(graph_path):\n",
    "    os.makedirs(graph_path)\n",
    "graph_path = f\"../../figures/{params.MODEL_TYPE}/{params.MODEL_NAME}/plot_intermediate_values_graph\"\n",
    "fig.write_image(Path(f\"{graph_path}.png\"))\n",
    "fig.show()"
   ]
  },
  {
   "cell_type": "code",
   "execution_count": 15,
   "id": "325a1ec3",
   "metadata": {},
   "outputs": [],
   "source": [
    "param_dict = extract_best_trial_params(\n",
    "    study.best_params, params, model_name=params.MODEL_NAME\n",
    ")"
   ]
  },
  {
   "cell_type": "code",
   "execution_count": 16,
   "id": "50e946e7",
   "metadata": {},
   "outputs": [
    {
     "name": "stdout",
     "output_type": "stream",
     "text": [
      "SGD\n",
      "Epoch 0: Validation loss decreased (inf --> 0.596320).  Saving model ...\n",
      "\t Train_Loss: 0.6613 Train_Acc: 56.094 Val_Loss: 0.5963  BEST VAL Loss: 0.5963  Val_Acc: 69.252\n",
      "\n",
      "Epoch 1: Validation loss decreased (0.596320 --> 0.582041).  Saving model ...\n",
      "\t Train_Loss: 0.6309 Train_Acc: 66.569 Val_Loss: 0.5820  BEST VAL Loss: 0.5820  Val_Acc: 72.589\n",
      "\n",
      "Epoch 2: Validation loss decreased (0.582041 --> 0.571000).  Saving model ...\n",
      "\t Train_Loss: 0.6121 Train_Acc: 71.825 Val_Loss: 0.5710  BEST VAL Loss: 0.5710  Val_Acc: 73.625\n",
      "\n",
      "Epoch 3: Validation loss decreased (0.571000 --> 0.561942).  Saving model ...\n",
      "\t Train_Loss: 0.5985 Train_Acc: 72.841 Val_Loss: 0.5619  BEST VAL Loss: 0.5619  Val_Acc: 73.694\n",
      "\n",
      "Epoch 4: Validation loss decreased (0.561942 --> 0.554239).  Saving model ...\n",
      "\t Train_Loss: 0.5874 Train_Acc: 73.707 Val_Loss: 0.5542  BEST VAL Loss: 0.5542  Val_Acc: 74.545\n",
      "\n",
      "Epoch 5: Validation loss decreased (0.554239 --> 0.547432).  Saving model ...\n",
      "\t Train_Loss: 0.5785 Train_Acc: 73.946 Val_Loss: 0.5474  BEST VAL Loss: 0.5474  Val_Acc: 74.983\n",
      "\n",
      "Epoch 6: Validation loss decreased (0.547432 --> 0.541600).  Saving model ...\n",
      "\t Train_Loss: 0.5710 Train_Acc: 74.320 Val_Loss: 0.5416  BEST VAL Loss: 0.5416  Val_Acc: 75.374\n",
      "\n",
      "Epoch 7: Validation loss decreased (0.541600 --> 0.536423).  Saving model ...\n",
      "\t Train_Loss: 0.5644 Train_Acc: 74.702 Val_Loss: 0.5364  BEST VAL Loss: 0.5364  Val_Acc: 75.420\n",
      "\n",
      "Epoch 8: Validation loss decreased (0.536423 --> 0.531604).  Saving model ...\n",
      "\t Train_Loss: 0.5584 Train_Acc: 75.085 Val_Loss: 0.5316  BEST VAL Loss: 0.5316  Val_Acc: 75.811\n",
      "\n",
      "Epoch 9: Validation loss decreased (0.531604 --> 0.527379).  Saving model ...\n",
      "\t Train_Loss: 0.5530 Train_Acc: 75.433 Val_Loss: 0.5274  BEST VAL Loss: 0.5274  Val_Acc: 76.133\n",
      "\n",
      "Epoch 10: Validation loss decreased (0.527379 --> 0.523573).  Saving model ...\n",
      "\t Train_Loss: 0.5482 Train_Acc: 75.620 Val_Loss: 0.5236  BEST VAL Loss: 0.5236  Val_Acc: 76.870\n",
      "\n",
      "Epoch 11: Validation loss decreased (0.523573 --> 0.520005).  Saving model ...\n",
      "\t Train_Loss: 0.5437 Train_Acc: 75.959 Val_Loss: 0.5200  BEST VAL Loss: 0.5200  Val_Acc: 77.031\n",
      "\n",
      "Epoch 12: Validation loss decreased (0.520005 --> 0.516657).  Saving model ...\n",
      "\t Train_Loss: 0.5396 Train_Acc: 76.351 Val_Loss: 0.5167  BEST VAL Loss: 0.5167  Val_Acc: 77.215\n",
      "\n",
      "Epoch 13: Validation loss decreased (0.516657 --> 0.513508).  Saving model ...\n",
      "\t Train_Loss: 0.5358 Train_Acc: 76.532 Val_Loss: 0.5135  BEST VAL Loss: 0.5135  Val_Acc: 77.468\n",
      "\n",
      "Epoch 14: Validation loss decreased (0.513508 --> 0.510642).  Saving model ...\n",
      "\t Train_Loss: 0.5322 Train_Acc: 76.705 Val_Loss: 0.5106  BEST VAL Loss: 0.5106  Val_Acc: 77.814\n",
      "\n",
      "Epoch 15: Validation loss decreased (0.510642 --> 0.507930).  Saving model ...\n",
      "\t Train_Loss: 0.5288 Train_Acc: 76.840 Val_Loss: 0.5079  BEST VAL Loss: 0.5079  Val_Acc: 77.814\n",
      "\n",
      "Epoch 16: Validation loss decreased (0.507930 --> 0.505373).  Saving model ...\n",
      "\t Train_Loss: 0.5256 Train_Acc: 77.251 Val_Loss: 0.5054  BEST VAL Loss: 0.5054  Val_Acc: 77.722\n",
      "\n",
      "Epoch 17: Validation loss decreased (0.505373 --> 0.502911).  Saving model ...\n",
      "\t Train_Loss: 0.5226 Train_Acc: 77.320 Val_Loss: 0.5029  BEST VAL Loss: 0.5029  Val_Acc: 78.297\n",
      "\n",
      "Epoch 18: Validation loss decreased (0.502911 --> 0.500694).  Saving model ...\n",
      "\t Train_Loss: 0.5198 Train_Acc: 77.297 Val_Loss: 0.5007  BEST VAL Loss: 0.5007  Val_Acc: 78.320\n",
      "\n",
      "Epoch 19: Validation loss decreased (0.500694 --> 0.498556).  Saving model ...\n",
      "\t Train_Loss: 0.5171 Train_Acc: 77.620 Val_Loss: 0.4986  BEST VAL Loss: 0.4986  Val_Acc: 78.412\n",
      "\n",
      "Epoch 20: Validation loss decreased (0.498556 --> 0.496558).  Saving model ...\n",
      "\t Train_Loss: 0.5145 Train_Acc: 77.671 Val_Loss: 0.4966  BEST VAL Loss: 0.4966  Val_Acc: 78.343\n",
      "\n",
      "Epoch 21: Validation loss decreased (0.496558 --> 0.494655).  Saving model ...\n",
      "\t Train_Loss: 0.5120 Train_Acc: 77.959 Val_Loss: 0.4947  BEST VAL Loss: 0.4947  Val_Acc: 78.665\n",
      "\n",
      "Epoch 22: Validation loss decreased (0.494655 --> 0.492836).  Saving model ...\n",
      "\t Train_Loss: 0.5096 Train_Acc: 78.106 Val_Loss: 0.4928  BEST VAL Loss: 0.4928  Val_Acc: 78.504\n",
      "\n",
      "Epoch 23: Validation loss decreased (0.492836 --> 0.491109).  Saving model ...\n",
      "\t Train_Loss: 0.5073 Train_Acc: 78.396 Val_Loss: 0.4911  BEST VAL Loss: 0.4911  Val_Acc: 78.665\n",
      "\n",
      "Epoch 24: Validation loss decreased (0.491109 --> 0.489485).  Saving model ...\n",
      "\t Train_Loss: 0.5052 Train_Acc: 78.281 Val_Loss: 0.4895  BEST VAL Loss: 0.4895  Val_Acc: 78.665\n",
      "\n",
      "Epoch 25: Validation loss decreased (0.489485 --> 0.487921).  Saving model ...\n",
      "\t Train_Loss: 0.5031 Train_Acc: 78.362 Val_Loss: 0.4879  BEST VAL Loss: 0.4879  Val_Acc: 78.849\n",
      "\n",
      "Epoch 26: Validation loss decreased (0.487921 --> 0.486403).  Saving model ...\n",
      "\t Train_Loss: 0.5011 Train_Acc: 78.526 Val_Loss: 0.4864  BEST VAL Loss: 0.4864  Val_Acc: 78.573\n",
      "\n",
      "Epoch 27: Validation loss decreased (0.486403 --> 0.484963).  Saving model ...\n",
      "\t Train_Loss: 0.4993 Train_Acc: 78.583 Val_Loss: 0.4850  BEST VAL Loss: 0.4850  Val_Acc: 78.872\n",
      "\n",
      "Epoch 28: Validation loss decreased (0.484963 --> 0.483608).  Saving model ...\n",
      "\t Train_Loss: 0.4974 Train_Acc: 78.842 Val_Loss: 0.4836  BEST VAL Loss: 0.4836  Val_Acc: 78.711\n",
      "\n",
      "Epoch 29: Validation loss decreased (0.483608 --> 0.482279).  Saving model ...\n",
      "\t Train_Loss: 0.4956 Train_Acc: 78.799 Val_Loss: 0.4823  BEST VAL Loss: 0.4823  Val_Acc: 78.780\n",
      "\n",
      "Epoch 30: Validation loss decreased (0.482279 --> 0.480997).  Saving model ...\n",
      "\t Train_Loss: 0.4940 Train_Acc: 78.954 Val_Loss: 0.4810  BEST VAL Loss: 0.4810  Val_Acc: 79.033\n",
      "\n",
      "Epoch 31: Validation loss decreased (0.480997 --> 0.479747).  Saving model ...\n",
      "\t Train_Loss: 0.4923 Train_Acc: 79.081 Val_Loss: 0.4797  BEST VAL Loss: 0.4797  Val_Acc: 79.102\n",
      "\n",
      "Epoch 32: Validation loss decreased (0.479747 --> 0.478582).  Saving model ...\n",
      "\t Train_Loss: 0.4907 Train_Acc: 79.090 Val_Loss: 0.4786  BEST VAL Loss: 0.4786  Val_Acc: 79.102\n",
      "\n",
      "Epoch 33: Validation loss decreased (0.478582 --> 0.477506).  Saving model ...\n",
      "\t Train_Loss: 0.4891 Train_Acc: 79.280 Val_Loss: 0.4775  BEST VAL Loss: 0.4775  Val_Acc: 78.849\n",
      "\n",
      "Epoch 34: Validation loss decreased (0.477506 --> 0.476423).  Saving model ...\n",
      "\t Train_Loss: 0.4876 Train_Acc: 79.211 Val_Loss: 0.4764  BEST VAL Loss: 0.4764  Val_Acc: 79.310\n",
      "\n",
      "Epoch 35: Validation loss decreased (0.476423 --> 0.475400).  Saving model ...\n",
      "\t Train_Loss: 0.4860 Train_Acc: 79.625 Val_Loss: 0.4754  BEST VAL Loss: 0.4754  Val_Acc: 79.241\n",
      "\n",
      "Epoch 36: Validation loss decreased (0.475400 --> 0.474406).  Saving model ...\n",
      "\t Train_Loss: 0.4846 Train_Acc: 79.564 Val_Loss: 0.4744  BEST VAL Loss: 0.4744  Val_Acc: 79.125\n",
      "\n",
      "Epoch 37: Validation loss decreased (0.474406 --> 0.473442).  Saving model ...\n",
      "\t Train_Loss: 0.4832 Train_Acc: 79.728 Val_Loss: 0.4734  BEST VAL Loss: 0.4734  Val_Acc: 79.333\n",
      "\n",
      "Epoch 38: Validation loss decreased (0.473442 --> 0.472514).  Saving model ...\n",
      "\t Train_Loss: 0.4818 Train_Acc: 79.694 Val_Loss: 0.4725  BEST VAL Loss: 0.4725  Val_Acc: 79.471\n",
      "\n",
      "Epoch 39: Validation loss decreased (0.472514 --> 0.471616).  Saving model ...\n",
      "\t Train_Loss: 0.4805 Train_Acc: 79.783 Val_Loss: 0.4716  BEST VAL Loss: 0.4716  Val_Acc: 79.264\n",
      "\n",
      "Epoch 40: Validation loss decreased (0.471616 --> 0.470751).  Saving model ...\n",
      "\t Train_Loss: 0.4792 Train_Acc: 79.835 Val_Loss: 0.4708  BEST VAL Loss: 0.4708  Val_Acc: 79.125\n",
      "\n",
      "Epoch 41: Validation loss decreased (0.470751 --> 0.469917).  Saving model ...\n",
      "\t Train_Loss: 0.4779 Train_Acc: 79.613 Val_Loss: 0.4699  BEST VAL Loss: 0.4699  Val_Acc: 79.287\n",
      "\n",
      "Epoch 42: Validation loss decreased (0.469917 --> 0.469110).  Saving model ...\n",
      "\t Train_Loss: 0.4767 Train_Acc: 79.826 Val_Loss: 0.4691  BEST VAL Loss: 0.4691  Val_Acc: 79.356\n",
      "\n",
      "Epoch 43: Validation loss decreased (0.469110 --> 0.468318).  Saving model ...\n",
      "\t Train_Loss: 0.4755 Train_Acc: 80.033 Val_Loss: 0.4683  BEST VAL Loss: 0.4683  Val_Acc: 79.217\n",
      "\n",
      "Epoch 44: Validation loss decreased (0.468318 --> 0.467545).  Saving model ...\n",
      "\t Train_Loss: 0.4742 Train_Acc: 80.264 Val_Loss: 0.4675  BEST VAL Loss: 0.4675  Val_Acc: 79.287\n",
      "\n",
      "Epoch 45: Validation loss decreased (0.467545 --> 0.466776).  Saving model ...\n",
      "\t Train_Loss: 0.4731 Train_Acc: 80.255 Val_Loss: 0.4668  BEST VAL Loss: 0.4668  Val_Acc: 79.148\n",
      "\n",
      "Epoch 46: Validation loss decreased (0.466776 --> 0.466064).  Saving model ...\n",
      "\t Train_Loss: 0.4719 Train_Acc: 80.125 Val_Loss: 0.4661  BEST VAL Loss: 0.4661  Val_Acc: 79.494\n",
      "\n",
      "Epoch 47: Validation loss decreased (0.466064 --> 0.465378).  Saving model ...\n",
      "\t Train_Loss: 0.4708 Train_Acc: 80.289 Val_Loss: 0.4654  BEST VAL Loss: 0.4654  Val_Acc: 79.125\n",
      "\n",
      "Epoch 48: Validation loss decreased (0.465378 --> 0.464739).  Saving model ...\n",
      "\t Train_Loss: 0.4697 Train_Acc: 80.304 Val_Loss: 0.4647  BEST VAL Loss: 0.4647  Val_Acc: 79.125\n",
      "\n",
      "Epoch 49: Validation loss decreased (0.464739 --> 0.464084).  Saving model ...\n",
      "\t Train_Loss: 0.4686 Train_Acc: 80.246 Val_Loss: 0.4641  BEST VAL Loss: 0.4641  Val_Acc: 79.586\n",
      "\n",
      "Epoch 50: Validation loss decreased (0.464084 --> 0.463431).  Saving model ...\n",
      "\t Train_Loss: 0.4675 Train_Acc: 80.686 Val_Loss: 0.4634  BEST VAL Loss: 0.4634  Val_Acc: 79.586\n",
      "\n",
      "Epoch 51: Validation loss decreased (0.463431 --> 0.462817).  Saving model ...\n",
      "\t Train_Loss: 0.4665 Train_Acc: 80.551 Val_Loss: 0.4628  BEST VAL Loss: 0.4628  Val_Acc: 79.609\n",
      "\n",
      "Epoch 52: Validation loss decreased (0.462817 --> 0.462174).  Saving model ...\n",
      "\t Train_Loss: 0.4655 Train_Acc: 80.563 Val_Loss: 0.4622  BEST VAL Loss: 0.4622  Val_Acc: 79.678\n",
      "\n",
      "Epoch 53: Validation loss decreased (0.462174 --> 0.461590).  Saving model ...\n",
      "\t Train_Loss: 0.4644 Train_Acc: 80.853 Val_Loss: 0.4616  BEST VAL Loss: 0.4616  Val_Acc: 79.517\n",
      "\n",
      "Epoch 54: Validation loss decreased (0.461590 --> 0.461021).  Saving model ...\n",
      "\t Train_Loss: 0.4634 Train_Acc: 80.989 Val_Loss: 0.4610  BEST VAL Loss: 0.4610  Val_Acc: 79.402\n",
      "\n",
      "Epoch 55: Validation loss decreased (0.461021 --> 0.460458).  Saving model ...\n",
      "\t Train_Loss: 0.4624 Train_Acc: 80.928 Val_Loss: 0.4605  BEST VAL Loss: 0.4605  Val_Acc: 79.655\n",
      "\n",
      "Epoch 56: Validation loss decreased (0.460458 --> 0.459912).  Saving model ...\n",
      "\t Train_Loss: 0.4614 Train_Acc: 80.845 Val_Loss: 0.4599  BEST VAL Loss: 0.4599  Val_Acc: 79.563\n",
      "\n",
      "Epoch 57: Validation loss decreased (0.459912 --> 0.459387).  Saving model ...\n",
      "\t Train_Loss: 0.4605 Train_Acc: 80.943 Val_Loss: 0.4594  BEST VAL Loss: 0.4594  Val_Acc: 79.655\n",
      "\n",
      "Epoch 58: Validation loss decreased (0.459387 --> 0.458851).  Saving model ...\n",
      "\t Train_Loss: 0.4596 Train_Acc: 81.083 Val_Loss: 0.4589  BEST VAL Loss: 0.4589  Val_Acc: 79.747\n",
      "\n",
      "Epoch 59: Validation loss decreased (0.458851 --> 0.458366).  Saving model ...\n",
      "\t Train_Loss: 0.4587 Train_Acc: 81.127 Val_Loss: 0.4584  BEST VAL Loss: 0.4584  Val_Acc: 79.494\n",
      "\n",
      "Epoch 60: Validation loss decreased (0.458366 --> 0.457863).  Saving model ...\n",
      "\t Train_Loss: 0.4577 Train_Acc: 81.147 Val_Loss: 0.4579  BEST VAL Loss: 0.4579  Val_Acc: 79.908\n",
      "\n",
      "Epoch 61: Validation loss decreased (0.457863 --> 0.457368).  Saving model ...\n",
      "\t Train_Loss: 0.4569 Train_Acc: 81.270 Val_Loss: 0.4574  BEST VAL Loss: 0.4574  Val_Acc: 79.540\n",
      "\n",
      "Epoch 62: Validation loss decreased (0.457368 --> 0.456882).  Saving model ...\n",
      "\t Train_Loss: 0.4560 Train_Acc: 81.127 Val_Loss: 0.4569  BEST VAL Loss: 0.4569  Val_Acc: 79.862\n",
      "\n",
      "Epoch 63: Validation loss decreased (0.456882 --> 0.456425).  Saving model ...\n",
      "\t Train_Loss: 0.4551 Train_Acc: 81.374 Val_Loss: 0.4564  BEST VAL Loss: 0.4564  Val_Acc: 79.494\n",
      "\n",
      "Epoch 64: Validation loss decreased (0.456425 --> 0.456000).  Saving model ...\n",
      "\t Train_Loss: 0.4543 Train_Acc: 81.207 Val_Loss: 0.4560  BEST VAL Loss: 0.4560  Val_Acc: 80.023\n",
      "\n",
      "Epoch 65: Validation loss decreased (0.456000 --> 0.455586).  Saving model ...\n",
      "\t Train_Loss: 0.4535 Train_Acc: 81.247 Val_Loss: 0.4556  BEST VAL Loss: 0.4556  Val_Acc: 79.632\n",
      "\n",
      "Epoch 66: Validation loss decreased (0.455586 --> 0.455164).  Saving model ...\n",
      "\t Train_Loss: 0.4526 Train_Acc: 81.081 Val_Loss: 0.4552  BEST VAL Loss: 0.4552  Val_Acc: 80.046\n",
      "\n",
      "Epoch 67: Validation loss decreased (0.455164 --> 0.454744).  Saving model ...\n",
      "\t Train_Loss: 0.4518 Train_Acc: 81.481 Val_Loss: 0.4547  BEST VAL Loss: 0.4547  Val_Acc: 80.000\n",
      "\n",
      "Epoch 68: Validation loss decreased (0.454744 --> 0.454312).  Saving model ...\n",
      "\t Train_Loss: 0.4510 Train_Acc: 81.613 Val_Loss: 0.4543  BEST VAL Loss: 0.4543  Val_Acc: 79.862\n",
      "\n",
      "Epoch 69: Validation loss decreased (0.454312 --> 0.453924).  Saving model ...\n",
      "\t Train_Loss: 0.4502 Train_Acc: 81.558 Val_Loss: 0.4539  BEST VAL Loss: 0.4539  Val_Acc: 79.701\n",
      "\n",
      "Epoch 70: Validation loss decreased (0.453924 --> 0.453553).  Saving model ...\n",
      "\t Train_Loss: 0.4494 Train_Acc: 81.573 Val_Loss: 0.4536  BEST VAL Loss: 0.4536  Val_Acc: 79.931\n",
      "\n",
      "Epoch 71: Validation loss decreased (0.453553 --> 0.453169).  Saving model ...\n",
      "\t Train_Loss: 0.4486 Train_Acc: 81.521 Val_Loss: 0.4532  BEST VAL Loss: 0.4532  Val_Acc: 79.770\n",
      "\n",
      "Epoch 72: Validation loss decreased (0.453169 --> 0.452798).  Saving model ...\n",
      "\t Train_Loss: 0.4478 Train_Acc: 81.788 Val_Loss: 0.4528  BEST VAL Loss: 0.4528  Val_Acc: 80.092\n",
      "\n",
      "Epoch 73: Validation loss decreased (0.452798 --> 0.452435).  Saving model ...\n",
      "\t Train_Loss: 0.4470 Train_Acc: 81.866 Val_Loss: 0.4524  BEST VAL Loss: 0.4524  Val_Acc: 79.839\n",
      "\n",
      "Epoch 74: Validation loss decreased (0.452435 --> 0.452103).  Saving model ...\n",
      "\t Train_Loss: 0.4463 Train_Acc: 81.757 Val_Loss: 0.4521  BEST VAL Loss: 0.4521  Val_Acc: 79.609\n",
      "\n",
      "Epoch 75: Validation loss decreased (0.452103 --> 0.451773).  Saving model ...\n",
      "\t Train_Loss: 0.4455 Train_Acc: 81.806 Val_Loss: 0.4518  BEST VAL Loss: 0.4518  Val_Acc: 79.494\n",
      "\n",
      "Epoch 76: Validation loss decreased (0.451773 --> 0.451396).  Saving model ...\n",
      "\t Train_Loss: 0.4448 Train_Acc: 82.111 Val_Loss: 0.4514  BEST VAL Loss: 0.4514  Val_Acc: 80.345\n",
      "\n",
      "Epoch 77: Validation loss decreased (0.451396 --> 0.451069).  Saving model ...\n",
      "\t Train_Loss: 0.4440 Train_Acc: 81.909 Val_Loss: 0.4511  BEST VAL Loss: 0.4511  Val_Acc: 80.069\n",
      "\n",
      "Epoch 78: Validation loss decreased (0.451069 --> 0.450739).  Saving model ...\n",
      "\t Train_Loss: 0.4433 Train_Acc: 81.832 Val_Loss: 0.4507  BEST VAL Loss: 0.4507  Val_Acc: 80.253\n",
      "\n",
      "Epoch 79: Validation loss decreased (0.450739 --> 0.450397).  Saving model ...\n",
      "\t Train_Loss: 0.4426 Train_Acc: 81.768 Val_Loss: 0.4504  BEST VAL Loss: 0.4504  Val_Acc: 80.391\n",
      "\n",
      "Epoch 80: Validation loss decreased (0.450397 --> 0.450079).  Saving model ...\n",
      "\t Train_Loss: 0.4419 Train_Acc: 82.229 Val_Loss: 0.4501  BEST VAL Loss: 0.4501  Val_Acc: 80.299\n",
      "\n",
      "Epoch 81: Validation loss decreased (0.450079 --> 0.449822).  Saving model ...\n",
      "\t Train_Loss: 0.4412 Train_Acc: 82.082 Val_Loss: 0.4498  BEST VAL Loss: 0.4498  Val_Acc: 80.138\n",
      "\n",
      "Epoch 82: Validation loss decreased (0.449822 --> 0.449497).  Saving model ...\n",
      "\t Train_Loss: 0.4405 Train_Acc: 82.136 Val_Loss: 0.4495  BEST VAL Loss: 0.4495  Val_Acc: 80.230\n",
      "\n",
      "Epoch 83: Validation loss decreased (0.449497 --> 0.449194).  Saving model ...\n",
      "\t Train_Loss: 0.4398 Train_Acc: 82.306 Val_Loss: 0.4492  BEST VAL Loss: 0.4492  Val_Acc: 79.839\n",
      "\n",
      "Epoch 84: Validation loss decreased (0.449194 --> 0.448866).  Saving model ...\n",
      "\t Train_Loss: 0.4391 Train_Acc: 82.364 Val_Loss: 0.4489  BEST VAL Loss: 0.4489  Val_Acc: 80.207\n",
      "\n",
      "Epoch 85: Validation loss decreased (0.448866 --> 0.448564).  Saving model ...\n",
      "\t Train_Loss: 0.4384 Train_Acc: 82.237 Val_Loss: 0.4486  BEST VAL Loss: 0.4486  Val_Acc: 80.253\n",
      "\n",
      "Epoch 86: Validation loss decreased (0.448564 --> 0.448280).  Saving model ...\n",
      "\t Train_Loss: 0.4377 Train_Acc: 82.096 Val_Loss: 0.4483  BEST VAL Loss: 0.4483  Val_Acc: 80.207\n",
      "\n",
      "Epoch 87: Validation loss decreased (0.448280 --> 0.447989).  Saving model ...\n",
      "\t Train_Loss: 0.4371 Train_Acc: 82.496 Val_Loss: 0.4480  BEST VAL Loss: 0.4480  Val_Acc: 80.483\n",
      "\n",
      "Epoch 88: Validation loss decreased (0.447989 --> 0.447705).  Saving model ...\n",
      "\t Train_Loss: 0.4364 Train_Acc: 82.358 Val_Loss: 0.4477  BEST VAL Loss: 0.4477  Val_Acc: 80.437\n",
      "\n",
      "Epoch 89: Validation loss decreased (0.447705 --> 0.447417).  Saving model ...\n",
      "\t Train_Loss: 0.4358 Train_Acc: 82.617 Val_Loss: 0.4474  BEST VAL Loss: 0.4474  Val_Acc: 80.161\n",
      "\n",
      "Epoch 90: Validation loss decreased (0.447417 --> 0.447138).  Saving model ...\n",
      "\t Train_Loss: 0.4351 Train_Acc: 82.559 Val_Loss: 0.4471  BEST VAL Loss: 0.4471  Val_Acc: 80.506\n",
      "\n",
      "Epoch 91: Validation loss decreased (0.447138 --> 0.446878).  Saving model ...\n",
      "\t Train_Loss: 0.4345 Train_Acc: 82.591 Val_Loss: 0.4469  BEST VAL Loss: 0.4469  Val_Acc: 80.230\n",
      "\n",
      "Epoch 92: Validation loss decreased (0.446878 --> 0.446650).  Saving model ...\n",
      "\t Train_Loss: 0.4338 Train_Acc: 82.749 Val_Loss: 0.4466  BEST VAL Loss: 0.4466  Val_Acc: 80.299\n",
      "\n",
      "Epoch 93: Validation loss decreased (0.446650 --> 0.446414).  Saving model ...\n",
      "\t Train_Loss: 0.4332 Train_Acc: 82.700 Val_Loss: 0.4464  BEST VAL Loss: 0.4464  Val_Acc: 80.276\n",
      "\n",
      "Epoch 94: Validation loss decreased (0.446414 --> 0.446154).  Saving model ...\n",
      "\t Train_Loss: 0.4326 Train_Acc: 82.631 Val_Loss: 0.4462  BEST VAL Loss: 0.4462  Val_Acc: 80.598\n",
      "\n",
      "Epoch 95: Validation loss decreased (0.446154 --> 0.445895).  Saving model ...\n",
      "\t Train_Loss: 0.4320 Train_Acc: 82.522 Val_Loss: 0.4459  BEST VAL Loss: 0.4459  Val_Acc: 80.368\n",
      "\n",
      "Epoch 96: Validation loss decreased (0.445895 --> 0.445646).  Saving model ...\n",
      "\t Train_Loss: 0.4314 Train_Acc: 82.879 Val_Loss: 0.4456  BEST VAL Loss: 0.4456  Val_Acc: 80.621\n",
      "\n",
      "Epoch 97: Validation loss decreased (0.445646 --> 0.445417).  Saving model ...\n",
      "\t Train_Loss: 0.4307 Train_Acc: 82.974 Val_Loss: 0.4454  BEST VAL Loss: 0.4454  Val_Acc: 80.437\n",
      "\n",
      "Epoch 98: Validation loss decreased (0.445417 --> 0.445205).  Saving model ...\n",
      "\t Train_Loss: 0.4301 Train_Acc: 82.698 Val_Loss: 0.4452  BEST VAL Loss: 0.4452  Val_Acc: 80.552\n",
      "\n",
      "Epoch 99: Validation loss decreased (0.445205 --> 0.444985).  Saving model ...\n",
      "\t Train_Loss: 0.4295 Train_Acc: 82.804 Val_Loss: 0.4450  BEST VAL Loss: 0.4450  Val_Acc: 80.460\n",
      "\n"
     ]
    }
   ],
   "source": [
    "# call the optimized training model\n",
    "train_loss, train_acc, valid_loss, valid_acc, epochs_ran, model = train_optimized_model(\n",
    "    params.TRAIN_EPOCHS,\n",
    "    train_loader,\n",
    "    valid_loader,\n",
    "    param_dict,\n",
    "    params,\n",
    "    params.MODEL_NAME,\n",
    ")\n",
    "# get training_metrics\n",
    "if params.MODEL_TYPE == \"Regression\":\n",
    "    training_stats = pd.DataFrame(\n",
    "        zip(train_loss, valid_loss, epochs_ran),\n",
    "        columns=[\"train_loss\", \"valid_loss\", \"epochs_ran\"],\n",
    "    )\n",
    "else:\n",
    "    training_stats = pd.DataFrame(\n",
    "        zip(train_loss, train_acc, valid_loss, valid_acc, epochs_ran),\n",
    "        columns=[\"train_loss\", \"train_acc\", \"valid_loss\", \"valid_acc\", \"epochs_ran\"],\n",
    "    )"
   ]
  },
  {
   "cell_type": "code",
   "execution_count": 17,
   "id": "1340d8aa",
   "metadata": {},
   "outputs": [
    {
     "name": "stderr",
     "output_type": "stream",
     "text": [
      "/home/lippincm/Documents/ML/Interstellar_Analysis/MLP_Model/model_training/notebooks/../../MLP_utils/utils.py:953: UserWarning:\n",
      "\n",
      "Ignoring `palette` because no `hue` variable has been assigned.\n",
      "\n",
      "/home/lippincm/Documents/ML/Interstellar_Analysis/MLP_Model/model_training/notebooks/../../MLP_utils/utils.py:954: UserWarning:\n",
      "\n",
      "Ignoring `palette` because no `hue` variable has been assigned.\n",
      "\n"
     ]
    },
    {
     "data": {
      "image/png": "[encoded data removed]",
      "text/plain": [
       "<Figure size 640x480 with 1 Axes>"
      ]
     },
     "metadata": {},
     "output_type": "display_data"
    }
   ],
   "source": [
    "if params.MODEL_TYPE == \"Regression\":\n",
    "    pass\n",
    "else:\n",
    "    plot_metric_vs_epoch(\n",
    "        training_stats,\n",
    "        x=\"epochs_ran\",\n",
    "        y1=\"train_acc\",\n",
    "        y2=\"valid_acc\",\n",
    "        title=\"Accuracy vs. Epochs\",\n",
    "        x_axis_label=\"Epochs\",\n",
    "        y_axis_label=\"Accuracy\",\n",
    "        params=params,\n",
    "        model_name=params.MODEL_NAME,\n",
    "    )"
   ]
  },
  {
   "cell_type": "code",
   "execution_count": 18,
   "id": "41991221",
   "metadata": {},
   "outputs": [
    {
     "name": "stderr",
     "output_type": "stream",
     "text": [
      "/home/lippincm/Documents/ML/Interstellar_Analysis/MLP_Model/model_training/notebooks/../../MLP_utils/utils.py:953: UserWarning:\n",
      "\n",
      "Ignoring `palette` because no `hue` variable has been assigned.\n",
      "\n",
      "/home/lippincm/Documents/ML/Interstellar_Analysis/MLP_Model/model_training/notebooks/../../MLP_utils/utils.py:954: UserWarning:\n",
      "\n",
      "Ignoring `palette` because no `hue` variable has been assigned.\n",
      "\n"
     ]
    },
    {
     "data": {
      "image/png": "[encoded data removed]",
      "text/plain": [
       "<Figure size 640x480 with 1 Axes>"
      ]
     },
     "metadata": {},
     "output_type": "display_data"
    }
   ],
   "source": [
    "plot_metric_vs_epoch(\n",
    "    training_stats,\n",
    "    x=\"epochs_ran\",\n",
    "    y1=\"train_loss\",\n",
    "    y2=\"valid_loss\",\n",
    "    title=\"Loss vs. Epochs\",\n",
    "    x_axis_label=\"Epochs\",\n",
    "    y_axis_label=\"Loss\",\n",
    "    params=params,\n",
    "    model_name=params.MODEL_NAME,\n",
    ")"
   ]
  },
  {
   "cell_type": "code",
   "execution_count": 19,
   "id": "3e2c848c",
   "metadata": {},
   "outputs": [],
   "source": [
    "# calling the testing function and outputting list values of tested model\n",
    "if params.MODEL_TYPE == \"Multi_Class\" or params.MODEL_TYPE == \"Regression\":\n",
    "    y_pred_list = test_optimized_model(\n",
    "        model, test_loader, params, model_name=params.MODEL_NAME\n",
    "    )\n",
    "elif params.MODEL_TYPE == \"Binary_Classification\":\n",
    "    y_pred_list, y_pred_prob_list = test_optimized_model(\n",
    "        model, test_loader, params, model_name=params.MODEL_NAME\n",
    "    )\n",
    "else:\n",
    "    raise Exception(\"Model type must be specified for proper model testing\")\n",
    "\n",
    "\n",
    "# un-nest list if nested i.e. length of input data does not match length of output data\n",
    "if len(y_pred_list) != len(Y_test):\n",
    "    y_pred_list = un_nest(y_pred_list)\n",
    "    y_pred_prob_list = un_nest(y_pred_prob_list)\n",
    "else:\n",
    "    pass"
   ]
  },
  {
   "cell_type": "code",
   "execution_count": 20,
   "id": "3c53f7e4",
   "metadata": {},
   "outputs": [
    {
     "name": "stdout",
     "output_type": "stream",
     "text": [
      "              precision    recall  f1-score   support\n",
      "\n",
      "           0       0.83      0.90      0.87      3081\n",
      "           1       0.70      0.55      0.62      1264\n",
      "\n",
      "    accuracy                           0.80      4345\n",
      "   macro avg       0.77      0.73      0.74      4345\n",
      "weighted avg       0.79      0.80      0.80      4345\n",
      "\n"
     ]
    },
    {
     "data": {
      "image/png": "[encoded data removed]",
      "text/plain": [
       "<Figure size 640x480 with 2 Axes>"
      ]
     },
     "metadata": {},
     "output_type": "display_data"
    },
    {
     "data": {
      "image/png": "[encoded data removed]",
      "text/plain": [
       "<Figure size 550x400 with 1 Axes>"
      ]
     },
     "metadata": {},
     "output_type": "display_data"
    }
   ],
   "source": [
    "# Call visualization function\n",
    "# calling the testing function and outputing list values of tested model\n",
    "if params.MODEL_TYPE == \"Multi_Class\" or params.MODEL_TYPE == \"Regression\":\n",
    "    confusion_matrix_df = results_output(\n",
    "        y_pred_list,\n",
    "        Y_test,\n",
    "        params,\n",
    "        test_name=f\"{params.MODEL_NAME}_testing\",\n",
    "        model_name=params.MODEL_NAME,\n",
    "        title=params.MODEL_NAME,\n",
    "    )\n",
    "elif params.MODEL_TYPE == \"Binary_Classification\":\n",
    "    results_output(\n",
    "        y_pred_list,\n",
    "        Y_test,\n",
    "        params,\n",
    "        y_pred_prob_list,\n",
    "        test_name=f\"{params.MODEL_NAME}_testing\",\n",
    "        model_name=params.MODEL_NAME,\n",
    "        title=params.MODEL_NAME,\n",
    "    )\n",
    "else:\n",
    "    raise Exception(\"Model type must be specified for proper model testing\")"
   ]
  },
  {
   "attachments": {},
   "cell_type": "markdown",
   "id": "2c620f38",
   "metadata": {},
   "source": [
    "#### look at the feature weights of the model"
   ]
  },
  {
   "cell_type": "code",
   "execution_count": 21,
   "id": "06ecc2f0",
   "metadata": {},
   "outputs": [],
   "source": [
    "# get all paramters from pytorch model\n",
    "lst = []\n",
    "for name, param in model.named_parameters():\n",
    "    # print(name, param.shape)\n",
    "    lst.append(param)\n",
    "feature_weights = model[0].weight.grad[0].detach().cpu().numpy()"
   ]
  },
  {
   "cell_type": "code",
   "execution_count": 22,
   "id": "131b568f",
   "metadata": {},
   "outputs": [],
   "source": [
    "col_list = []\n",
    "for col in df_values.columns:\n",
    "    # print(col)\n",
    "    col_list.append(col)"
   ]
  },
  {
   "cell_type": "code",
   "execution_count": 23,
   "id": "400c1291",
   "metadata": {},
   "outputs": [],
   "source": [
    "# remove last 4 columns from col_list that are not features\n",
    "col_list = col_list[:-4]"
   ]
  },
  {
   "cell_type": "code",
   "execution_count": 24,
   "id": "42dbfe2a",
   "metadata": {},
   "outputs": [
    {
     "data": {
      "text/html": [
       "<div>\n",
       "<style scoped>\n",
       "    .dataframe tbody tr th:only-of-type {\n",
       "        vertical-align: middle;\n",
       "    }\n",
       "\n",
       "    .dataframe tbody tr th {\n",
       "        vertical-align: top;\n",
       "    }\n",
       "\n",
       "    .dataframe thead th {\n",
       "        text-align: right;\n",
       "    }\n",
       "</style>\n",
       "<table border=\"1\" class=\"dataframe\">\n",
       "  <thead>\n",
       "    <tr style=\"text-align: right;\">\n",
       "      <th></th>\n",
       "      <th>feature</th>\n",
       "      <th>weight</th>\n",
       "    </tr>\n",
       "  </thead>\n",
       "  <tbody>\n",
       "    <tr>\n",
       "      <th>2106</th>\n",
       "      <td>Nuclei_Granularity_8_CorrPM</td>\n",
       "      <td>0.025828</td>\n",
       "    </tr>\n",
       "    <tr>\n",
       "      <th>209</th>\n",
       "      <td>Cytoplasm_Granularity_8_CorrPM</td>\n",
       "      <td>0.024073</td>\n",
       "    </tr>\n",
       "    <tr>\n",
       "      <th>1153</th>\n",
       "      <td>Cells_Granularity_8_CorrPM</td>\n",
       "      <td>0.023759</td>\n",
       "    </tr>\n",
       "    <tr>\n",
       "      <th>629</th>\n",
       "      <td>Cytoplasm_RadialDistribution_ZernikePhase_CorrMito_4_0</td>\n",
       "      <td>0.023612</td>\n",
       "    </tr>\n",
       "    <tr>\n",
       "      <th>547</th>\n",
       "      <td>Cytoplasm_RadialDistribution_ZernikePhase_CorrDNA_6_4</td>\n",
       "      <td>0.023482</td>\n",
       "    </tr>\n",
       "    <tr>\n",
       "      <th>...</th>\n",
       "      <td>...</td>\n",
       "      <td>...</td>\n",
       "    </tr>\n",
       "    <tr>\n",
       "      <th>2444</th>\n",
       "      <td>Nuclei_RadialDistribution_ZernikePhase_CorrDNA_4_2</td>\n",
       "      <td>-0.023874</td>\n",
       "    </tr>\n",
       "    <tr>\n",
       "      <th>976</th>\n",
       "      <td>Cells_AreaShape_Zernike_4_4</td>\n",
       "      <td>-0.024027</td>\n",
       "    </tr>\n",
       "    <tr>\n",
       "      <th>682</th>\n",
       "      <td>Cytoplasm_RadialDistribution_ZernikePhase_CorrPM_9_9</td>\n",
       "      <td>-0.025189</td>\n",
       "    </tr>\n",
       "    <tr>\n",
       "      <th>1604</th>\n",
       "      <td>Cells_RadialDistribution_ZernikePhase_CorrMito_9_9</td>\n",
       "      <td>-0.025349</td>\n",
       "    </tr>\n",
       "    <tr>\n",
       "      <th>1634</th>\n",
       "      <td>Cells_RadialDistribution_ZernikePhase_CorrPM_9_9</td>\n",
       "      <td>-0.025502</td>\n",
       "    </tr>\n",
       "  </tbody>\n",
       "</table>\n",
       "<p>2847 rows × 2 columns</p>\n",
       "</div>"
      ],
      "text/plain": [
       "                                                     feature    weight\n",
       "2106                             Nuclei_Granularity_8_CorrPM  0.025828\n",
       "209                           Cytoplasm_Granularity_8_CorrPM  0.024073\n",
       "1153                              Cells_Granularity_8_CorrPM  0.023759\n",
       "629   Cytoplasm_RadialDistribution_ZernikePhase_CorrMito_4_0  0.023612\n",
       "547    Cytoplasm_RadialDistribution_ZernikePhase_CorrDNA_6_4  0.023482\n",
       "...                                                      ...       ...\n",
       "2444      Nuclei_RadialDistribution_ZernikePhase_CorrDNA_4_2 -0.023874\n",
       "976                              Cells_AreaShape_Zernike_4_4 -0.024027\n",
       "682     Cytoplasm_RadialDistribution_ZernikePhase_CorrPM_9_9 -0.025189\n",
       "1604      Cells_RadialDistribution_ZernikePhase_CorrMito_9_9 -0.025349\n",
       "1634        Cells_RadialDistribution_ZernikePhase_CorrPM_9_9 -0.025502\n",
       "\n",
       "[2847 rows x 2 columns]"
      ]
     },
     "execution_count": 24,
     "metadata": {},
     "output_type": "execute_result"
    }
   ],
   "source": [
    "pd.set_option(\"display.max_colwidth\", None)\n",
    "\n",
    "df = pd.DataFrame(zip(col_list, feature_weights), columns=[\"feature\", \"weight\"])\n",
    "# change weight collumn to float\n",
    "df[\"weight\"] = df[\"weight\"].astype(float)\n",
    "# sort by weight\n",
    "df = df.sort_values(by=[\"weight\"], ascending=False)\n",
    "df"
   ]
  },
  {
   "cell_type": "code",
   "execution_count": 25,
   "id": "e8a4e590",
   "metadata": {},
   "outputs": [],
   "source": [
    "# Code snippet for metadata extraction by Jenna Tomkinson\n",
    "df_metadata = list(df_holdout.columns[df_holdout.columns.str.startswith(\"Metadata\")])\n",
    "\n",
    "# define which columns are data and which are descriptive\n",
    "df_descriptive = df_holdout[df_metadata]\n",
    "df_values = df_holdout.drop(columns=df_metadata)"
   ]
  },
  {
   "cell_type": "code",
   "execution_count": 26,
   "id": "748bb398",
   "metadata": {},
   "outputs": [],
   "source": [
    "# Creating label encoder\n",
    "le = preprocessing.LabelEncoder()\n",
    "# Converting strings into numbers\n",
    "df_values[\"oneb_Metadata_Treatment_Dose_Inhibitor_Dose\"] = le.fit_transform(\n",
    "    df_values[\"oneb_Metadata_Treatment_Dose_Inhibitor_Dose\"]\n",
    ")\n",
    "# split into X and Y where Y are the predictive column and x are the observable data\n",
    "df_values_X = df_values.drop(\n",
    "    [\n",
    "        \"oneb_Metadata_Treatment_Dose_Inhibitor_Dose\",\n",
    "        \"twob_Metadata_Treatment_Dose_Inhibitor_Dose\",\n",
    "        \"threeb_Metadata_Treatment_Dose_Inhibitor_Dose\",\n",
    "        \"fourb_Metadata_Treatment_Dose_Inhibitor_Dose\",\n",
    "    ],\n",
    "    axis=1,\n",
    ")\n",
    "df_values_Y = df_values[\"oneb_Metadata_Treatment_Dose_Inhibitor_Dose\"]"
   ]
  },
  {
   "cell_type": "code",
   "execution_count": 27,
   "id": "2c5677d3",
   "metadata": {},
   "outputs": [],
   "source": [
    "test_data = Dataset_formatter(\n",
    "    torch.FloatTensor(df_values_X.values), torch.FloatTensor(df_values_Y.values)\n",
    ")\n",
    "\n",
    "# convert data class into a dataloader to be compatible with pytorch\n",
    "test_loader = torch.utils.data.DataLoader(dataset=test_data, batch_size=1)"
   ]
  },
  {
   "cell_type": "code",
   "execution_count": 28,
   "id": "3e2c848c",
   "metadata": {},
   "outputs": [],
   "source": [
    "# calling the testing function and outputting list values of tested model\n",
    "if params.MODEL_TYPE == \"Multi_Class\" or params.MODEL_TYPE == \"Regression\":\n",
    "    y_pred_list = test_optimized_model(\n",
    "        model, test_loader, params, model_name=params.MODEL_NAME\n",
    "    )\n",
    "elif params.MODEL_TYPE == \"Binary_Classification\":\n",
    "    y_pred_list, y_pred_prob_list = test_optimized_model(\n",
    "        model, test_loader, params, model_name=params.MODEL_NAME\n",
    "    )\n",
    "else:\n",
    "    raise Exception(\"Model type must be specified for proper model testing\")\n",
    "\n",
    "\n",
    "# un-nest list if nested i.e. length of input data does not match length of output data\n",
    "if len(y_pred_list) != len(df_values_Y):\n",
    "    y_pred_list = un_nest(y_pred_list)\n",
    "    y_pred_prob_list = un_nest(y_pred_prob_list)\n",
    "else:\n",
    "    pass"
   ]
  },
  {
   "cell_type": "code",
   "execution_count": 29,
   "id": "3c53f7e4",
   "metadata": {},
   "outputs": [
    {
     "name": "stdout",
     "output_type": "stream",
     "text": [
      "              precision    recall  f1-score   support\n",
      "\n",
      "           0       0.69      0.85      0.76      4837\n",
      "           1       0.76      0.55      0.64      4168\n",
      "\n",
      "    accuracy                           0.71      9005\n",
      "   macro avg       0.73      0.70      0.70      9005\n",
      "weighted avg       0.72      0.71      0.71      9005\n",
      "\n"
     ]
    },
    {
     "data": {
      "image/png": "[encoded data removed]",
      "text/plain": [
       "<Figure size 640x480 with 2 Axes>"
      ]
     },
     "metadata": {},
     "output_type": "display_data"
    },
    {
     "data": {
      "image/png": "[encoded data removed]",
      "text/plain": [
       "<Figure size 550x400 with 1 Axes>"
      ]
     },
     "metadata": {},
     "output_type": "display_data"
    }
   ],
   "source": [
    "# Call visualization function\n",
    "# calling the testing function and outputing list values of tested model\n",
    "if params.MODEL_TYPE == \"Multi_Class\" or params.MODEL_TYPE == \"Regression\":\n",
    "    confusion_matrix_df = results_output(\n",
    "        y_pred_list,\n",
    "        df_values_Y,\n",
    "        params,\n",
    "        test_name=f\"{params.MODEL_NAME}_hold_out\",\n",
    "        model_name=params.MODEL_NAME,\n",
    "        title=params.MODEL_NAME,\n",
    "    )\n",
    "elif params.MODEL_TYPE == \"Binary_Classification\":\n",
    "    results_output(\n",
    "        y_pred_list,\n",
    "        df_values_Y,\n",
    "        params,\n",
    "        y_pred_prob_list,\n",
    "        test_name=f\"{params.MODEL_NAME}_hold_out\",\n",
    "        model_name=params.MODEL_NAME,\n",
    "        title=params.MODEL_NAME,\n",
    "    )\n",
    "else:\n",
    "    raise Exception(\"Model type must be specified for proper model testing\")"
   ]
  }
 ],
 "metadata": {
  "jupytext": {
   "cell_metadata_filter": "-all",
   "encoding": "# coding: utf-8",
   "executable": "/usr/bin/env python",
   "formats": "ipynb,py",
   "main_language": "python"
  },
  "kernelspec": {
   "display_name": "Python 3 (ipykernel)",
   "language": "python",
   "name": "python3"
  },
  "language_info": {
   "codemirror_mode": {
    "name": "ipython",
    "version": 3
   },
   "file_extension": ".py",
   "mimetype": "text/x-python",
   "name": "python",
   "nbconvert_exporter": "python",
   "pygments_lexer": "ipython3",
   "version": "3.10.10 | packaged by conda-forge | (main, Mar 24 2023, 20:08:06) [GCC 11.3.0]"
  },
  "vscode": {
   "interpreter": {
    "hash": "72ae02083a9ca7d143c492d1aec380c7bf553ec51bd66e90e72bba65228121b6"
   }
  }
 },
 "nbformat": 4,
 "nbformat_minor": 5
}
