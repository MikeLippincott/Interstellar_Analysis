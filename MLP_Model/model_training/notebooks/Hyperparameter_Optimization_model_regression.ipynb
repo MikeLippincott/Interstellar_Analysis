{
 "cells": [
  {
   "attachments": {},
   "cell_type": "markdown",
   "id": "8e60628c",
   "metadata": {},
   "source": [
    "## Hyperparameter tuning via Optuna"
   ]
  },
  {
   "cell_type": "markdown",
   "id": "8fac71a5",
   "metadata": {},
   "source": [
    "### Being a binary model this notebook will be limited to predicting one class 1 or 0, yes or no.\n",
    "### Here I will be predicting if a cell received a treatment or not"
   ]
  },
  {
   "cell_type": "code",
   "execution_count": 1,
   "id": "860a61dd",
   "metadata": {},
   "outputs": [],
   "source": [
    "import os\n",
    "import sys\n",
    "from pathlib import Path\n",
    "\n",
    "import matplotlib.pyplot as plt\n",
    "import numpy as np\n",
    "import optuna\n",
    "import pandas as pd\n",
    "import plotly\n",
    "import pyarrow.parquet as pq\n",
    "import seaborn as sns\n",
    "import toml\n",
    "import torch\n",
    "import torch.nn as nn\n",
    "import torch.optim as optim\n",
    "from sklearn import preprocessing\n",
    "from sklearn.metrics import (auc, confusion_matrix, precision_score,\n",
    "                             recall_score, roc_auc_score, roc_curve)\n",
    "from sklearn.model_selection import train_test_split\n",
    "\n",
    "sys.path.append(\"..\")\n",
    "from MLP_utils.parameters import Parameters\n",
    "from MLP_utils.utils import (Dataset_formatter, data_split,\n",
    "                             extract_best_trial_params,\n",
    "                             objective_model_optimizer, optimized_model_create,\n",
    "                             parameter_set, plot_metric_vs_epoch,\n",
    "                             results_output, test_optimized_model,\n",
    "                             train_optimized_model, un_nest)\n",
    "\n",
    "sys.path.append(\"../..\")\n",
    "from utils.utils import df_stats"
   ]
  },
  {
   "cell_type": "code",
   "execution_count": 2,
   "id": "44baa945",
   "metadata": {},
   "outputs": [],
   "source": [
    "# Import Data\n",
    "# set data file path under pathlib path for multi-system use\n",
    "\n",
    "\n",
    "file_path = Path(\n",
    "    \"../../../Extracted_Features_(CSV_files)/interstellar_wave3_sc_norm_fs_cellprofiler.csv.gz\"\n",
    ")\n",
    "\n",
    "file_path = Path(\n",
    "    \"../../../Extracted_Features_(CSV_files)/SHSY5Y_preprocessed_df_sc_norm.parquet\"\n",
    ")\n",
    "\n",
    "df = pq.read_table(file_path).to_pandas()\n",
    "# df = pd.read_csv(file_path, engine=\"pyarrow\")"
   ]
  },
  {
   "cell_type": "code",
   "execution_count": 3,
   "id": "394294ce",
   "metadata": {},
   "outputs": [],
   "source": [
    "data = Path(\"../MLP_utils/config.toml\")\n",
    "config = toml.load(data)\n",
    "params = Parameters()\n",
    "params = parameter_set(params, config)"
   ]
  },
  {
   "attachments": {},
   "cell_type": "markdown",
   "id": "5c486e00",
   "metadata": {},
   "source": [
    "#### Set up Data to be compatible with model"
   ]
  },
  {
   "attachments": {},
   "cell_type": "markdown",
   "id": "633673ce",
   "metadata": {},
   "source": [
    "##### Regression Model Data Wrangling and Set Up\n",
    "comment out if not using regression"
   ]
  },
  {
   "cell_type": "code",
   "execution_count": 9,
   "id": "e2df24ec",
   "metadata": {},
   "outputs": [],
   "source": [
    "# if params.DATA_SUBSET_OPTION == 'True':\n",
    "#     df = df.sample(n=params.DATA_SUBSET_NUMBER)\n",
    "#     print(\"yes\")\n",
    "# else:\n",
    "#     pass\n",
    "# df_stats(df)\n",
    "# # Drop na and reindex accordingly\n",
    "# df = df.dropna()\n",
    "# df = df.reset_index(drop=True)\n",
    "\n",
    "# # Check for Nans again\n",
    "# df_stats(df)\n",
    "# # Code snippet for metadata extraction by Jenna Tomkinson\n",
    "# df_metadata = list(df.columns[df.columns.str.startswith(\"Metadata\")])\n",
    "# # define which columns are data and which are descriptive\n",
    "# df_descriptive = df[df_metadata]\n",
    "# df_values = df.drop(columns=df_metadata)\n",
    "# df_values_Y = df_values['Nuclei_Texture_InverseDifferenceMoment_CorrER_3_01_256']\n",
    "# df_values_X = df_values.drop('Nuclei_Texture_InverseDifferenceMoment_CorrER_3_01_256', axis=1)"
   ]
  },
  {
   "attachments": {},
   "cell_type": "markdown",
   "id": "260a048e",
   "metadata": {},
   "source": [
    "#### Split Data - All Models can proceed through this point"
   ]
  },
  {
   "cell_type": "code",
   "execution_count": 10,
   "id": "f4feb87f",
   "metadata": {},
   "outputs": [],
   "source": [
    "X_train, X_test, X_val, Y_train, Y_test, Y_val = data_split(\n",
    "    X_vals=df_values_X,\n",
    "    y_vals=df_values_Y,\n",
    "    train_proportion=0.8,\n",
    "    val_proportion=0.1,\n",
    "    test_proportion=0.1,\n",
    "    seed=1,\n",
    "    params=params,\n",
    ")"
   ]
  },
  {
   "cell_type": "code",
   "execution_count": 11,
   "id": "36894826",
   "metadata": {},
   "outputs": [],
   "source": [
    "# produce data objects for train, val and test datasets\n",
    "train_data = Dataset_formatter(\n",
    "    torch.FloatTensor(X_train.values), torch.FloatTensor(Y_train.values)\n",
    ")\n",
    "val_data = Dataset_formatter(\n",
    "    torch.FloatTensor(X_val.values), torch.FloatTensor(Y_val.values)\n",
    ")\n",
    "test_data = Dataset_formatter(\n",
    "    torch.FloatTensor(X_test.values), torch.FloatTensor(Y_test.values)\n",
    ")"
   ]
  },
  {
   "cell_type": "code",
   "execution_count": 12,
   "id": "4382d712",
   "metadata": {},
   "outputs": [
    {
     "name": "stdout",
     "output_type": "stream",
     "text": [
      "Number of in features:  2847\n",
      "Number of out features:  3\n",
      "Multi_Class\n"
     ]
    }
   ],
   "source": [
    "params.IN_FEATURES = X_train.shape[1]\n",
    "print(\"Number of in features: \", params.IN_FEATURES)\n",
    "if params.MODEL_TYPE == \"Regression\":\n",
    "    params.OUT_FEATURES = 1\n",
    "else:\n",
    "    params.OUT_FEATURES = len(\n",
    "        df_values[\"oneb_Metadata_Treatment_Dose_Inhibitor_Dose\"].unique()\n",
    "    )\n",
    "\n",
    "print(\"Number of out features: \", params.OUT_FEATURES)\n",
    "\n",
    "if params.OUT_FEATURES > 2:\n",
    "    params.MODEL_TYPE = \"Multi_Class\"\n",
    "elif params.OUT_FEATURES == 2:\n",
    "    params.OUT_FEATURES = params.OUT_FEATURES - 1\n",
    "    params.MODEL_TYPE = \"Binary_Classification\"\n",
    "elif params.OUT_FEATURES == 1:\n",
    "    params.MODEL_TYPE = \"Regression\"\n",
    "else:\n",
    "    pass\n",
    "print(params.MODEL_TYPE)"
   ]
  },
  {
   "cell_type": "code",
   "execution_count": 13,
   "id": "77effa5c",
   "metadata": {},
   "outputs": [],
   "source": [
    "# convert data class into a dataloader to be compatible with pytorch\n",
    "train_loader = torch.utils.data.DataLoader(\n",
    "    dataset=train_data, batch_size=params.BATCH_SIZE\n",
    ")\n",
    "valid_loader = torch.utils.data.DataLoader(\n",
    "    dataset=val_data, batch_size=params.BATCH_SIZE\n",
    ")\n",
    "test_loader = torch.utils.data.DataLoader(dataset=test_data, batch_size=1)"
   ]
  },
  {
   "cell_type": "code",
   "execution_count": 14,
   "id": "a969042f",
   "metadata": {},
   "outputs": [
    {
     "name": "stderr",
     "output_type": "stream",
     "text": [
      "\u001b[32m[I 2023-05-09 16:49:25,604]\u001b[0m A new study created in memory with name: no-name-bf59d0ff-93ec-4b52-910e-5249a92059fb\u001b[0m\n",
      "\u001b[32m[I 2023-05-09 16:50:28,341]\u001b[0m Trial 0 finished with value: 0.6613113981485367 and parameters: {'n_layers': 3, 'n_units_l0': 2, 'dropout_0': 0.29009447047788267, 'n_units_l1': 8, 'dropout_1': 0.24955210369077716, 'n_units_l2': 4, 'dropout_2': 0.1594188594278872, 'learning_rate': 0.07605546591277389, 'optimizer': 'SGD'}. Best is trial 0 with value: 0.6613113981485367.\u001b[0m\n",
      "\u001b[32m[I 2023-05-09 16:51:26,614]\u001b[0m Trial 1 finished with value: 0.9646136794487635 and parameters: {'n_layers': 3, 'n_units_l0': 2, 'dropout_0': 0.253657679015733, 'n_units_l1': 9, 'dropout_1': 0.28375782004881644, 'n_units_l2': 8, 'dropout_2': 0.18756282045118997, 'learning_rate': 0.09177823451006922, 'optimizer': 'Adam'}. Best is trial 0 with value: 0.6613113981485367.\u001b[0m\n",
      "\u001b[32m[I 2023-05-09 16:52:24,712]\u001b[0m Trial 2 finished with value: 0.25946934714913367 and parameters: {'n_layers': 2, 'n_units_l0': 8, 'dropout_0': 0.23254995232689885, 'n_units_l1': 5, 'dropout_1': 0.2853300935407952, 'learning_rate': 0.05131869287301355, 'optimizer': 'SGD'}. Best is trial 2 with value: 0.25946934714913367.\u001b[0m\n",
      "\u001b[32m[I 2023-05-09 16:53:23,202]\u001b[0m Trial 3 finished with value: 0.32229626735051475 and parameters: {'n_layers': 2, 'n_units_l0': 10, 'dropout_0': 0.1957708266965636, 'n_units_l1': 2, 'dropout_1': 0.19021001699086104, 'learning_rate': 0.011407296342736342, 'optimizer': 'Adam'}. Best is trial 2 with value: 0.25946934714913367.\u001b[0m\n",
      "\u001b[32m[I 2023-05-09 16:54:19,848]\u001b[0m Trial 4 finished with value: 0.8780736211935678 and parameters: {'n_layers': 2, 'n_units_l0': 9, 'dropout_0': 0.1596842619036437, 'n_units_l1': 9, 'dropout_1': 0.2054957918296264, 'learning_rate': 0.07546722267607042, 'optimizer': 'RMSprop'}. Best is trial 2 with value: 0.25946934714913367.\u001b[0m\n",
      "\u001b[32m[I 2023-05-09 16:55:18,497]\u001b[0m Trial 5 finished with value: 0.23084842090805371 and parameters: {'n_layers': 1, 'n_units_l0': 5, 'dropout_0': 0.1280381123675951, 'learning_rate': 0.08211235472711448, 'optimizer': 'SGD'}. Best is trial 5 with value: 0.23084842090805371.\u001b[0m\n",
      "\u001b[32m[I 2023-05-09 16:55:19,643]\u001b[0m Trial 6 pruned. \u001b[0m\n",
      "\u001b[32m[I 2023-05-09 16:55:20,748]\u001b[0m Trial 7 pruned. \u001b[0m\n",
      "\u001b[32m[I 2023-05-09 16:55:25,456]\u001b[0m Trial 8 pruned. \u001b[0m\n",
      "\u001b[32m[I 2023-05-09 16:56:24,838]\u001b[0m Trial 9 finished with value: 0.22011951759457585 and parameters: {'n_layers': 1, 'n_units_l0': 4, 'dropout_0': 0.10761993461503183, 'learning_rate': 0.03031322543949697, 'optimizer': 'SGD'}. Best is trial 9 with value: 0.22011951759457585.\u001b[0m\n"
     ]
    },
    {
     "name": "stdout",
     "output_type": "stream",
     "text": [
      "Validation Accuracy: 91.7491435097069\n",
      "Validation Loss: 0.23197958648204803\n",
      "Training Accuracy: 89.4123973825104\n",
      "Training Loss: 0.28415115581175615\n"
     ]
    },
    {
     "data": {
      "text/plain": [
       "(91.7491435097069, 0.23197958648204803, 89.4123973825104, 0.28415115581175615)"
      ]
     },
     "execution_count": 14,
     "metadata": {},
     "output_type": "execute_result"
    }
   ],
   "source": [
    "# no accuracy function must be loss for regression\n",
    "if params.MODEL_TYPE == \"Regression\":\n",
    "    params.METRIC = \"loss\"\n",
    "    pass\n",
    "\n",
    "sampler = optuna.samplers.TPESampler(seed=10)\n",
    "\n",
    "# wrap the objective function inside of a lambda function to pass args...\n",
    "objective_lambda_func = lambda trial: objective_model_optimizer(\n",
    "    train_loader,\n",
    "    valid_loader,\n",
    "    trial=trial,\n",
    "    params=params,\n",
    "    metric=params.METRIC,\n",
    "    return_info=False,\n",
    ")\n",
    "\n",
    "\n",
    "# Study is the object for model optimization\n",
    "study = optuna.create_study(direction=f\"{params.DIRECTION}\", sampler=sampler)\n",
    "# Here I apply the optimize function of the study to the objective function\n",
    "# This optimizes each parameter specified to be optimized from the defined search space\n",
    "study.optimize(objective_lambda_func, n_trials=params.N_TRIALS)\n",
    "# Prints out the best trial's optimized parameters\n",
    "objective_model_optimizer(\n",
    "    train_loader,\n",
    "    valid_loader,\n",
    "    trial=study.best_trial,\n",
    "    params=params,\n",
    "    metric=params.METRIC,\n",
    "    return_info=True,\n",
    ")"
   ]
  },
  {
   "cell_type": "code",
   "execution_count": 15,
   "id": "b2620589",
   "metadata": {},
   "outputs": [
    {
     "data": {
      "application/vnd.plotly.v1+json": {
       "config": {
        "plotlyServerURL": "https://plot.ly"
       },
       "data": [
        {
         "mode": "markers",
         "name": "Objective Value",
         "type": "scatter",
         "x": [
          0,
          1,
          2,
          3,
          4,
          5,
          9
         ],
         "y": [
          0.6613113981485367,
          0.9646136794487635,
          0.25946934714913367,
          0.32229626735051475,
          0.8780736211935678,
          0.23084842090805371,
          0.22011951759457585
         ]
        },
        {
         "name": "Best Value",
         "type": "scatter",
         "x": [
          0,
          1,
          2,
          3,
          4,
          5,
          9
         ],
         "y": [
          0.6613113981485367,
          0.6613113981485367,
          0.25946934714913367,
          0.25946934714913367,
          0.25946934714913367,
          0.23084842090805371,
          0.22011951759457585
         ]
        }
       ],
       "layout": {
        "template": {
         "data": {
          "bar": [
           {
            "error_x": {
             "color": "#2a3f5f"
            },
            "error_y": {
             "color": "#2a3f5f"
            },
            "marker": {
             "line": {
              "color": "#E5ECF6",
              "width": 0.5
             },
             "pattern": {
              "fillmode": "overlay",
              "size": 10,
              "solidity": 0.2
             }
            },
            "type": "bar"
           }
          ],
          "barpolar": [
           {
            "marker": {
             "line": {
              "color": "#E5ECF6",
              "width": 0.5
             },
             "pattern": {
              "fillmode": "overlay",
              "size": 10,
              "solidity": 0.2
             }
            },
            "type": "barpolar"
           }
          ],
          "carpet": [
           {
            "aaxis": {
             "endlinecolor": "#2a3f5f",
             "gridcolor": "white",
             "linecolor": "white",
             "minorgridcolor": "white",
             "startlinecolor": "#2a3f5f"
            },
            "baxis": {
             "endlinecolor": "#2a3f5f",
             "gridcolor": "white",
             "linecolor": "white",
             "minorgridcolor": "white",
             "startlinecolor": "#2a3f5f"
            },
            "type": "carpet"
           }
          ],
          "choropleth": [
           {
            "colorbar": {
             "outlinewidth": 0,
             "ticks": ""
            },
            "type": "choropleth"
           }
          ],
          "contour": [
           {
            "colorbar": {
             "outlinewidth": 0,
             "ticks": ""
            },
            "colorscale": [
             [
              0,
              "#0d0887"
             ],
             [
              0.1111111111111111,
              "#46039f"
             ],
             [
              0.2222222222222222,
              "#7201a8"
             ],
             [
              0.3333333333333333,
              "#9c179e"
             ],
             [
              0.4444444444444444,
              "#bd3786"
             ],
             [
              0.5555555555555556,
              "#d8576b"
             ],
             [
              0.6666666666666666,
              "#ed7953"
             ],
             [
              0.7777777777777778,
              "#fb9f3a"
             ],
             [
              0.8888888888888888,
              "#fdca26"
             ],
             [
              1,
              "#f0f921"
             ]
            ],
            "type": "contour"
           }
          ],
          "contourcarpet": [
           {
            "colorbar": {
             "outlinewidth": 0,
             "ticks": ""
            },
            "type": "contourcarpet"
           }
          ],
          "heatmap": [
           {
            "colorbar": {
             "outlinewidth": 0,
             "ticks": ""
            },
            "colorscale": [
             [
              0,
              "#0d0887"
             ],
             [
              0.1111111111111111,
              "#46039f"
             ],
             [
              0.2222222222222222,
              "#7201a8"
             ],
             [
              0.3333333333333333,
              "#9c179e"
             ],
             [
              0.4444444444444444,
              "#bd3786"
             ],
             [
              0.5555555555555556,
              "#d8576b"
             ],
             [
              0.6666666666666666,
              "#ed7953"
             ],
             [
              0.7777777777777778,
              "#fb9f3a"
             ],
             [
              0.8888888888888888,
              "#fdca26"
             ],
             [
              1,
              "#f0f921"
             ]
            ],
            "type": "heatmap"
           }
          ],
          "heatmapgl": [
           {
            "colorbar": {
             "outlinewidth": 0,
             "ticks": ""
            },
            "colorscale": [
             [
              0,
              "#0d0887"
             ],
             [
              0.1111111111111111,
              "#46039f"
             ],
             [
              0.2222222222222222,
              "#7201a8"
             ],
             [
              0.3333333333333333,
              "#9c179e"
             ],
             [
              0.4444444444444444,
              "#bd3786"
             ],
             [
              0.5555555555555556,
              "#d8576b"
             ],
             [
              0.6666666666666666,
              "#ed7953"
             ],
             [
              0.7777777777777778,
              "#fb9f3a"
             ],
             [
              0.8888888888888888,
              "#fdca26"
             ],
             [
              1,
              "#f0f921"
             ]
            ],
            "type": "heatmapgl"
           }
          ],
          "histogram": [
           {
            "marker": {
             "pattern": {
              "fillmode": "overlay",
              "size": 10,
              "solidity": 0.2
             }
            },
            "type": "histogram"
           }
          ],
          "histogram2d": [
           {
            "colorbar": {
             "outlinewidth": 0,
             "ticks": ""
            },
            "colorscale": [
             [
              0,
              "#0d0887"
             ],
             [
              0.1111111111111111,
              "#46039f"
             ],
             [
              0.2222222222222222,
              "#7201a8"
             ],
             [
              0.3333333333333333,
              "#9c179e"
             ],
             [
              0.4444444444444444,
              "#bd3786"
             ],
             [
              0.5555555555555556,
              "#d8576b"
             ],
             [
              0.6666666666666666,
              "#ed7953"
             ],
             [
              0.7777777777777778,
              "#fb9f3a"
             ],
             [
              0.8888888888888888,
              "#fdca26"
             ],
             [
              1,
              "#f0f921"
             ]
            ],
            "type": "histogram2d"
           }
          ],
          "histogram2dcontour": [
           {
            "colorbar": {
             "outlinewidth": 0,
             "ticks": ""
            },
            "colorscale": [
             [
              0,
              "#0d0887"
             ],
             [
              0.1111111111111111,
              "#46039f"
             ],
             [
              0.2222222222222222,
              "#7201a8"
             ],
             [
              0.3333333333333333,
              "#9c179e"
             ],
             [
              0.4444444444444444,
              "#bd3786"
             ],
             [
              0.5555555555555556,
              "#d8576b"
             ],
             [
              0.6666666666666666,
              "#ed7953"
             ],
             [
              0.7777777777777778,
              "#fb9f3a"
             ],
             [
              0.8888888888888888,
              "#fdca26"
             ],
             [
              1,
              "#f0f921"
             ]
            ],
            "type": "histogram2dcontour"
           }
          ],
          "mesh3d": [
           {
            "colorbar": {
             "outlinewidth": 0,
             "ticks": ""
            },
            "type": "mesh3d"
           }
          ],
          "parcoords": [
           {
            "line": {
             "colorbar": {
              "outlinewidth": 0,
              "ticks": ""
             }
            },
            "type": "parcoords"
           }
          ],
          "pie": [
           {
            "automargin": true,
            "type": "pie"
           }
          ],
          "scatter": [
           {
            "fillpattern": {
             "fillmode": "overlay",
             "size": 10,
             "solidity": 0.2
            },
            "type": "scatter"
           }
          ],
          "scatter3d": [
           {
            "line": {
             "colorbar": {
              "outlinewidth": 0,
              "ticks": ""
             }
            },
            "marker": {
             "colorbar": {
              "outlinewidth": 0,
              "ticks": ""
             }
            },
            "type": "scatter3d"
           }
          ],
          "scattercarpet": [
           {
            "marker": {
             "colorbar": {
              "outlinewidth": 0,
              "ticks": ""
             }
            },
            "type": "scattercarpet"
           }
          ],
          "scattergeo": [
           {
            "marker": {
             "colorbar": {
              "outlinewidth": 0,
              "ticks": ""
             }
            },
            "type": "scattergeo"
           }
          ],
          "scattergl": [
           {
            "marker": {
             "colorbar": {
              "outlinewidth": 0,
              "ticks": ""
             }
            },
            "type": "scattergl"
           }
          ],
          "scattermapbox": [
           {
            "marker": {
             "colorbar": {
              "outlinewidth": 0,
              "ticks": ""
             }
            },
            "type": "scattermapbox"
           }
          ],
          "scatterpolar": [
           {
            "marker": {
             "colorbar": {
              "outlinewidth": 0,
              "ticks": ""
             }
            },
            "type": "scatterpolar"
           }
          ],
          "scatterpolargl": [
           {
            "marker": {
             "colorbar": {
              "outlinewidth": 0,
              "ticks": ""
             }
            },
            "type": "scatterpolargl"
           }
          ],
          "scatterternary": [
           {
            "marker": {
             "colorbar": {
              "outlinewidth": 0,
              "ticks": ""
             }
            },
            "type": "scatterternary"
           }
          ],
          "surface": [
           {
            "colorbar": {
             "outlinewidth": 0,
             "ticks": ""
            },
            "colorscale": [
             [
              0,
              "#0d0887"
             ],
             [
              0.1111111111111111,
              "#46039f"
             ],
             [
              0.2222222222222222,
              "#7201a8"
             ],
             [
              0.3333333333333333,
              "#9c179e"
             ],
             [
              0.4444444444444444,
              "#bd3786"
             ],
             [
              0.5555555555555556,
              "#d8576b"
             ],
             [
              0.6666666666666666,
              "#ed7953"
             ],
             [
              0.7777777777777778,
              "#fb9f3a"
             ],
             [
              0.8888888888888888,
              "#fdca26"
             ],
             [
              1,
              "#f0f921"
             ]
            ],
            "type": "surface"
           }
          ],
          "table": [
           {
            "cells": {
             "fill": {
              "color": "#EBF0F8"
             },
             "line": {
              "color": "white"
             }
            },
            "header": {
             "fill": {
              "color": "#C8D4E3"
             },
             "line": {
              "color": "white"
             }
            },
            "type": "table"
           }
          ]
         },
         "layout": {
          "annotationdefaults": {
           "arrowcolor": "#2a3f5f",
           "arrowhead": 0,
           "arrowwidth": 1
          },
          "autotypenumbers": "strict",
          "coloraxis": {
           "colorbar": {
            "outlinewidth": 0,
            "ticks": ""
           }
          },
          "colorscale": {
           "diverging": [
            [
             0,
             "#8e0152"
            ],
            [
             0.1,
             "#c51b7d"
            ],
            [
             0.2,
             "#de77ae"
            ],
            [
             0.3,
             "#f1b6da"
            ],
            [
             0.4,
             "#fde0ef"
            ],
            [
             0.5,
             "#f7f7f7"
            ],
            [
             0.6,
             "#e6f5d0"
            ],
            [
             0.7,
             "#b8e186"
            ],
            [
             0.8,
             "#7fbc41"
            ],
            [
             0.9,
             "#4d9221"
            ],
            [
             1,
             "#276419"
            ]
           ],
           "sequential": [
            [
             0,
             "#0d0887"
            ],
            [
             0.1111111111111111,
             "#46039f"
            ],
            [
             0.2222222222222222,
             "#7201a8"
            ],
            [
             0.3333333333333333,
             "#9c179e"
            ],
            [
             0.4444444444444444,
             "#bd3786"
            ],
            [
             0.5555555555555556,
             "#d8576b"
            ],
            [
             0.6666666666666666,
             "#ed7953"
            ],
            [
             0.7777777777777778,
             "#fb9f3a"
            ],
            [
             0.8888888888888888,
             "#fdca26"
            ],
            [
             1,
             "#f0f921"
            ]
           ],
           "sequentialminus": [
            [
             0,
             "#0d0887"
            ],
            [
             0.1111111111111111,
             "#46039f"
            ],
            [
             0.2222222222222222,
             "#7201a8"
            ],
            [
             0.3333333333333333,
             "#9c179e"
            ],
            [
             0.4444444444444444,
             "#bd3786"
            ],
            [
             0.5555555555555556,
             "#d8576b"
            ],
            [
             0.6666666666666666,
             "#ed7953"
            ],
            [
             0.7777777777777778,
             "#fb9f3a"
            ],
            [
             0.8888888888888888,
             "#fdca26"
            ],
            [
             1,
             "#f0f921"
            ]
           ]
          },
          "colorway": [
           "#636efa",
           "#EF553B",
           "#00cc96",
           "#ab63fa",
           "#FFA15A",
           "#19d3f3",
           "#FF6692",
           "#B6E880",
           "#FF97FF",
           "#FECB52"
          ],
          "font": {
           "color": "#2a3f5f"
          },
          "geo": {
           "bgcolor": "white",
           "lakecolor": "white",
           "landcolor": "#E5ECF6",
           "showlakes": true,
           "showland": true,
           "subunitcolor": "white"
          },
          "hoverlabel": {
           "align": "left"
          },
          "hovermode": "closest",
          "mapbox": {
           "style": "light"
          },
          "paper_bgcolor": "white",
          "plot_bgcolor": "#E5ECF6",
          "polar": {
           "angularaxis": {
            "gridcolor": "white",
            "linecolor": "white",
            "ticks": ""
           },
           "bgcolor": "#E5ECF6",
           "radialaxis": {
            "gridcolor": "white",
            "linecolor": "white",
            "ticks": ""
           }
          },
          "scene": {
           "xaxis": {
            "backgroundcolor": "#E5ECF6",
            "gridcolor": "white",
            "gridwidth": 2,
            "linecolor": "white",
            "showbackground": true,
            "ticks": "",
            "zerolinecolor": "white"
           },
           "yaxis": {
            "backgroundcolor": "#E5ECF6",
            "gridcolor": "white",
            "gridwidth": 2,
            "linecolor": "white",
            "showbackground": true,
            "ticks": "",
            "zerolinecolor": "white"
           },
           "zaxis": {
            "backgroundcolor": "#E5ECF6",
            "gridcolor": "white",
            "gridwidth": 2,
            "linecolor": "white",
            "showbackground": true,
            "ticks": "",
            "zerolinecolor": "white"
           }
          },
          "shapedefaults": {
           "line": {
            "color": "#2a3f5f"
           }
          },
          "ternary": {
           "aaxis": {
            "gridcolor": "white",
            "linecolor": "white",
            "ticks": ""
           },
           "baxis": {
            "gridcolor": "white",
            "linecolor": "white",
            "ticks": ""
           },
           "bgcolor": "#E5ECF6",
           "caxis": {
            "gridcolor": "white",
            "linecolor": "white",
            "ticks": ""
           }
          },
          "title": {
           "x": 0.05
          },
          "xaxis": {
           "automargin": true,
           "gridcolor": "white",
           "linecolor": "white",
           "ticks": "",
           "title": {
            "standoff": 15
           },
           "zerolinecolor": "white",
           "zerolinewidth": 2
          },
          "yaxis": {
           "automargin": true,
           "gridcolor": "white",
           "linecolor": "white",
           "ticks": "",
           "title": {
            "standoff": 15
           },
           "zerolinecolor": "white",
           "zerolinewidth": 2
          }
         }
        },
        "title": {
         "text": "Optimization History Plot"
        },
        "xaxis": {
         "title": {
          "text": "Trial"
         }
        },
        "yaxis": {
         "title": {
          "text": "Objective Value"
         }
        }
       }
      }
     },
     "metadata": {},
     "output_type": "display_data"
    }
   ],
   "source": [
    "fig = optuna.visualization.plot_optimization_history(study)\n",
    "graph_path = Path(f\"../figures/{params.MODEL_TYPE}/{params.MODEL_NAME}/\")\n",
    "if not os.path.exists(graph_path):\n",
    "    os.makedirs(graph_path)\n",
    "graph_path = f\"../figures/{params.MODEL_TYPE}/{params.MODEL_NAME}/plot_optimization_history_graph\"\n",
    "fig.write_image(Path(f\"{graph_path}.png\"))\n",
    "fig.show()"
   ]
  },
  {
   "cell_type": "code",
   "execution_count": 16,
   "id": "92103de1",
   "metadata": {},
   "outputs": [
    {
     "data": {
      "application/vnd.plotly.v1+json": {
       "config": {
        "plotlyServerURL": "https://plot.ly"
       },
       "data": [
        {
         "marker": {
          "maxdisplayed": 10
         },
         "mode": "lines+markers",
         "name": "Trial0",
         "type": "scatter",
         "x": [
          0,
          1,
          2,
          3,
          4,
          5,
          6,
          7,
          8,
          9,
          10,
          11,
          12,
          13,
          14,
          15,
          16,
          17,
          18,
          19,
          20,
          21,
          22,
          23,
          24,
          25,
          26,
          27,
          28,
          29,
          30,
          31,
          32,
          33,
          34,
          35,
          36,
          37,
          38,
          39,
          40,
          41,
          42,
          43,
          44,
          45,
          46,
          47,
          48,
          49
         ],
         "y": [
          0.9164230823516846,
          0.8785677303870518,
          0.8421073191695743,
          0.8116585637132326,
          0.7915411770343781,
          0.7793396727906333,
          0.7641233659925916,
          0.749600887298584,
          0.7637314200401306,
          0.7683269401391347,
          0.7624992068969841,
          0.752483936647574,
          0.7421968136078271,
          0.788560139281409,
          0.7803723322020635,
          0.7765234311421711,
          0.7670316415674545,
          0.7583843132963887,
          0.7508143714645452,
          0.7435763369003932,
          0.7367151805332728,
          0.7304187159646641,
          0.7255165542381398,
          0.719862699094746,
          0.7146137456099193,
          0.7099225807648438,
          0.7052464669133409,
          0.701992865474451,
          0.7044106560876999,
          0.7005813181400298,
          0.705383386022301,
          0.701542510651052,
          0.6978457865088876,
          0.6943275186361051,
          0.6913042031583332,
          0.6880707056434066,
          0.6849673154117825,
          0.682305513766774,
          0.6797494674340273,
          0.6771691764394443,
          0.6746424538333241,
          0.6750287631201365,
          0.6748324607231819,
          0.6726861291311003,
          0.6705163768044223,
          0.669565668788509,
          0.6674961834511857,
          0.6653540711849928,
          0.6632829377440368,
          0.6613113981485367
         ]
        },
        {
         "marker": {
          "maxdisplayed": 10
         },
         "mode": "lines+markers",
         "name": "Trial1",
         "type": "scatter",
         "x": [
          0,
          1,
          2,
          3,
          4,
          5,
          6,
          7,
          8,
          9,
          10,
          11,
          12,
          13,
          14,
          15,
          16,
          17,
          18,
          19,
          20,
          21,
          22,
          23,
          24,
          25,
          26,
          27,
          28,
          29,
          30,
          31,
          32,
          33,
          34,
          35,
          36,
          37,
          38,
          39,
          40,
          41,
          42,
          43,
          44,
          45,
          46,
          47,
          48,
          49
         ],
         "y": [
          0.9634960095087687,
          0.963574727376302,
          0.963567723830541,
          0.9635795950889587,
          0.96361123919487,
          0.9636596292257309,
          0.9637174691472735,
          0.9637783331175644,
          0.9638380099225926,
          0.9638943900664646,
          0.9639466432007875,
          0.9639946619669595,
          0.9640386257416161,
          0.964078902488663,
          0.9641158090697394,
          0.9641497246921062,
          0.9641809685557495,
          0.9642098397016525,
          0.9642365731691059,
          0.9642614170908927,
          0.964284555779563,
          0.9643061549374551,
          0.9643263821152672,
          0.964345364107026,
          0.964363205830256,
          0.9643800182220262,
          0.9643958961522137,
          0.964410901069641,
          0.964425126368972,
          0.9644386145803663,
          0.9644514408803754,
          0.9644636378313105,
          0.9644752575291529,
          0.9644863532454361,
          0.9644969517276402,
          0.9645070844778308,
          0.9645167873786378,
          0.9645260839085832,
          0.9645350040533606,
          0.964543565114339,
          0.9645518008770981,
          0.9645597156551149,
          0.9645673336908799,
          0.9645746779261213,
          0.96458176418587,
          0.9645885909381119,
          0.9645951842585352,
          0.9646015593575107,
          0.9646077188504797,
          0.9646136794487635
         ]
        },
        {
         "marker": {
          "maxdisplayed": 10
         },
         "mode": "lines+markers",
         "name": "Trial2",
         "type": "scatter",
         "x": [
          0,
          1,
          2,
          3,
          4,
          5,
          6,
          7,
          8,
          9,
          10,
          11,
          12,
          13,
          14,
          15,
          16,
          17,
          18,
          19,
          20,
          21,
          22,
          23,
          24,
          25,
          26,
          27,
          28,
          29,
          30,
          31,
          32,
          33,
          34,
          35,
          36,
          37,
          38,
          39,
          40,
          41,
          42,
          43,
          44,
          45,
          46,
          47,
          48,
          49
         ],
         "y": [
          0.7897010346253713,
          0.6921288818120956,
          0.6304100039932462,
          0.5756440895299116,
          0.5390504211187362,
          0.5045195900731617,
          0.49128157113279614,
          0.4677862077951431,
          0.4501451634698444,
          0.430087876568238,
          0.4128081128001213,
          0.3990743863913748,
          0.3871027378317638,
          0.3776573700209459,
          0.36758527722623613,
          0.3613981893286109,
          0.3527881891704073,
          0.34417358827259803,
          0.3391878212753095,
          0.33314273357391355,
          0.32778114340608083,
          0.32233282325394225,
          0.3193565330643585,
          0.31399242952466017,
          0.3100507022937139,
          0.3047428816939012,
          0.3018450482208052,
          0.2996024669458469,
          0.29502736939781016,
          0.2923084182043871,
          0.28916053642188355,
          0.2851691928226501,
          0.2813942574641921,
          0.27818677296825484,
          0.2753032274899028,
          0.2767165774410521,
          0.2790703260012575,
          0.27584329031799965,
          0.2741986599742856,
          0.27189823699494203,
          0.2690591349955497,
          0.2662215666875007,
          0.26336908623460653,
          0.2628867163351088,
          0.2602892291214731,
          0.25790443131025287,
          0.2578702517223696,
          0.2624200296898683,
          0.26157238283733125,
          0.25946934714913367
         ]
        },
        {
         "marker": {
          "maxdisplayed": 10
         },
         "mode": "lines+markers",
         "name": "Trial3",
         "type": "scatter",
         "x": [
          0,
          1,
          2,
          3,
          4,
          5,
          6,
          7,
          8,
          9,
          10,
          11,
          12,
          13,
          14,
          15,
          16,
          17,
          18,
          19,
          20,
          21,
          22,
          23,
          24,
          25,
          26,
          27,
          28,
          29,
          30,
          31,
          32,
          33,
          34,
          35,
          36,
          37,
          38,
          39,
          40,
          41,
          42,
          43,
          44,
          45,
          46,
          47,
          48,
          49
         ],
         "y": [
          0.7597829898198446,
          0.6393972138563793,
          0.5814016626940833,
          0.5331849803527197,
          0.4981733779112498,
          0.4715047619409032,
          0.44945525413467774,
          0.43120492001374566,
          0.41793425657131056,
          0.40774209698041286,
          0.39914596938725677,
          0.39107375716169684,
          0.3830119703824704,
          0.3753532760200047,
          0.3689828190538619,
          0.36349106238534057,
          0.3587141676860698,
          0.35560096772732563,
          0.35286310864122294,
          0.3497262343764306,
          0.3466685565691146,
          0.34435595617149817,
          0.34188652988793194,
          0.3403594322088692,
          0.34175886869430544,
          0.3418997327486674,
          0.3419037089671618,
          0.3412765732833318,
          0.33981260571671634,
          0.3386322894030148,
          0.33715549928526733,
          0.3362074869995316,
          0.33589887047054795,
          0.33518839481414536,
          0.33369624430225014,
          0.33286823580662417,
          0.3328300950763462,
          0.3317358003635156,
          0.3302723897191195,
          0.32897289035220945,
          0.32785122357005997,
          0.32678015932204235,
          0.32605594286853956,
          0.3248584715254379,
          0.32335138519605,
          0.32249728649638704,
          0.3222339957529772,
          0.3218778082583514,
          0.3224961321268763,
          0.32229626735051475
         ]
        },
        {
         "marker": {
          "maxdisplayed": 10
         },
         "mode": "lines+markers",
         "name": "Trial4",
         "type": "scatter",
         "x": [
          0,
          1,
          2,
          3,
          4,
          5,
          6,
          7,
          8,
          9,
          10,
          11,
          12,
          13,
          14,
          15,
          16,
          17,
          18,
          19,
          20,
          21,
          22,
          23,
          24,
          25,
          26,
          27,
          28,
          29,
          30,
          31,
          32,
          33,
          34,
          35,
          36,
          37,
          38,
          39,
          40,
          41,
          42,
          43,
          44,
          45,
          46,
          47,
          48,
          49
         ],
         "y": [
          0.935114840666453,
          0.90196160475413,
          0.9163113468223147,
          0.9132597595453262,
          0.8908025920391083,
          0.8736355933878156,
          0.8544934519699642,
          0.83799609541893,
          0.8288038726206178,
          0.8155192077159882,
          0.9299843365495856,
          0.9083289537164899,
          0.8965100661302223,
          0.9261390453293209,
          0.9069304068883259,
          0.9167229160666466,
          0.9117377885416442,
          0.9172024368136018,
          0.9160246535351402,
          0.9103945344686508,
          0.9097592570478954,
          0.9083009867957142,
          0.9067536436993141,
          0.903263592057758,
          0.9018401920795442,
          0.899106943454498,
          0.897051485600295,
          0.8961596769236385,
          0.893949198311773,
          0.8914024114608766,
          0.8942260543505353,
          0.8920381059870124,
          0.8894032751670992,
          0.8872622193074693,
          0.8861850210598536,
          0.8862959152018581,
          0.885167125377569,
          0.8855164524233131,
          0.8843991269922663,
          0.88301089728872,
          0.8817255496978762,
          0.8819566118338754,
          0.8808696829071343,
          0.8807594721967525,
          0.880205469440531,
          0.8809755301993828,
          0.8800035482602763,
          0.8792843580659891,
          0.8786338255518957,
          0.8780736211935678
         ]
        },
        {
         "marker": {
          "maxdisplayed": 10
         },
         "mode": "lines+markers",
         "name": "Trial5",
         "type": "scatter",
         "x": [
          0,
          1,
          2,
          3,
          4,
          5,
          6,
          7,
          8,
          9,
          10,
          11,
          12,
          13,
          14,
          15,
          16,
          17,
          18,
          19,
          20,
          21,
          22,
          23,
          24,
          25,
          26,
          27,
          28,
          29,
          30,
          31,
          32,
          33,
          34,
          35,
          36,
          37,
          38,
          39,
          40,
          41,
          42,
          43,
          44,
          45,
          46,
          47,
          48,
          49
         ],
         "y": [
          0.7617405354976654,
          0.6247379829486212,
          0.5794164703951942,
          0.5250831631322702,
          0.4779335200786591,
          0.44179258454177117,
          0.44658615298214416,
          0.4315443259353439,
          0.41537024053158583,
          0.3952869517107805,
          0.3768651792497346,
          0.36370679260128075,
          0.3514244011961497,
          0.34090090738165946,
          0.32987195783191253,
          0.32098329688111943,
          0.3187735156685698,
          0.31240732540135036,
          0.3099014156481676,
          0.3023556427409252,
          0.29525949723190736,
          0.29004503628521255,
          0.28582661534133164,
          0.2804306668953763,
          0.27514397939046226,
          0.27041462264381927,
          0.26655494081385345,
          0.26210658340936616,
          0.2590425334785177,
          0.2568951350119379,
          0.2603108922960938,
          0.2570658036662887,
          0.2539919998609658,
          0.2529819977341914,
          0.2542844560884294,
          0.2509490239813372,
          0.2489950462236061,
          0.24691545048303776,
          0.2469015064147803,
          0.24702200051397086,
          0.24432225110448474,
          0.24169245643156864,
          0.23926145028929383,
          0.23816785300997176,
          0.23712481966725107,
          0.23806081998391432,
          0.23647339985514368,
          0.23491610152026018,
          0.23277784296039009,
          0.23084842090805371
         ]
        },
        {
         "marker": {
          "maxdisplayed": 10
         },
         "mode": "lines+markers",
         "name": "Trial6",
         "type": "scatter",
         "x": [
          0
         ],
         "y": [
          0.992883712053299
         ]
        },
        {
         "marker": {
          "maxdisplayed": 10
         },
         "mode": "lines+markers",
         "name": "Trial7",
         "type": "scatter",
         "x": [
          0
         ],
         "y": [
          0.9460069636503855
         ]
        },
        {
         "marker": {
          "maxdisplayed": 10
         },
         "mode": "lines+markers",
         "name": "Trial8",
         "type": "scatter",
         "x": [
          0,
          1,
          2,
          3
         ],
         "y": [
          0.7415341337521871,
          0.7235057999690374,
          0.7149111827214559,
          0.7106247420112292
         ]
        },
        {
         "marker": {
          "maxdisplayed": 10
         },
         "mode": "lines+markers",
         "name": "Trial9",
         "type": "scatter",
         "x": [
          0,
          1,
          2,
          3,
          4,
          5,
          6,
          7,
          8,
          9,
          10,
          11,
          12,
          13,
          14,
          15,
          16,
          17,
          18,
          19,
          20,
          21,
          22,
          23,
          24,
          25,
          26,
          27,
          28,
          29,
          30,
          31,
          32,
          33,
          34,
          35,
          36,
          37,
          38,
          39,
          40,
          41,
          42,
          43,
          44,
          45,
          46,
          47,
          48,
          49
         ],
         "y": [
          0.6987662514050802,
          0.6009507651130359,
          0.5407710721095403,
          0.4975417790313562,
          0.46366544763247175,
          0.43843392862213987,
          0.41676228599888937,
          0.39917021120587987,
          0.3836062252521515,
          0.37047484119733176,
          0.3587815504182469,
          0.3483400876737303,
          0.3392673056477155,
          0.3311569843263853,
          0.32355111887057625,
          0.3164747500171264,
          0.3101664477703618,
          0.30456966713622763,
          0.29904153459427646,
          0.29398958509167034,
          0.28921678520384286,
          0.2848014470302697,
          0.28061334227306256,
          0.27661233198725516,
          0.2730041284362475,
          0.26957259317621207,
          0.266216418441431,
          0.26303397784275667,
          0.25999525146580293,
          0.2571178683804141,
          0.25441561310842475,
          0.2518483324286838,
          0.24942589152340935,
          0.24707158764495568,
          0.24478055572225935,
          0.24293062546186978,
          0.24079910330138762,
          0.23882073229342174,
          0.2369469920030007,
          0.23510342805335918,
          0.2333009957176883,
          0.23158572685150874,
          0.2299026671883672,
          0.22839149663394148,
          0.22680477969072482,
          0.22540969660748605,
          0.2239363601972871,
          0.22261695506879023,
          0.2212320144484643,
          0.22011951759457585
         ]
        }
       ],
       "layout": {
        "showlegend": false,
        "template": {
         "data": {
          "bar": [
           {
            "error_x": {
             "color": "#2a3f5f"
            },
            "error_y": {
             "color": "#2a3f5f"
            },
            "marker": {
             "line": {
              "color": "#E5ECF6",
              "width": 0.5
             },
             "pattern": {
              "fillmode": "overlay",
              "size": 10,
              "solidity": 0.2
             }
            },
            "type": "bar"
           }
          ],
          "barpolar": [
           {
            "marker": {
             "line": {
              "color": "#E5ECF6",
              "width": 0.5
             },
             "pattern": {
              "fillmode": "overlay",
              "size": 10,
              "solidity": 0.2
             }
            },
            "type": "barpolar"
           }
          ],
          "carpet": [
           {
            "aaxis": {
             "endlinecolor": "#2a3f5f",
             "gridcolor": "white",
             "linecolor": "white",
             "minorgridcolor": "white",
             "startlinecolor": "#2a3f5f"
            },
            "baxis": {
             "endlinecolor": "#2a3f5f",
             "gridcolor": "white",
             "linecolor": "white",
             "minorgridcolor": "white",
             "startlinecolor": "#2a3f5f"
            },
            "type": "carpet"
           }
          ],
          "choropleth": [
           {
            "colorbar": {
             "outlinewidth": 0,
             "ticks": ""
            },
            "type": "choropleth"
           }
          ],
          "contour": [
           {
            "colorbar": {
             "outlinewidth": 0,
             "ticks": ""
            },
            "colorscale": [
             [
              0,
              "#0d0887"
             ],
             [
              0.1111111111111111,
              "#46039f"
             ],
             [
              0.2222222222222222,
              "#7201a8"
             ],
             [
              0.3333333333333333,
              "#9c179e"
             ],
             [
              0.4444444444444444,
              "#bd3786"
             ],
             [
              0.5555555555555556,
              "#d8576b"
             ],
             [
              0.6666666666666666,
              "#ed7953"
             ],
             [
              0.7777777777777778,
              "#fb9f3a"
             ],
             [
              0.8888888888888888,
              "#fdca26"
             ],
             [
              1,
              "#f0f921"
             ]
            ],
            "type": "contour"
           }
          ],
          "contourcarpet": [
           {
            "colorbar": {
             "outlinewidth": 0,
             "ticks": ""
            },
            "type": "contourcarpet"
           }
          ],
          "heatmap": [
           {
            "colorbar": {
             "outlinewidth": 0,
             "ticks": ""
            },
            "colorscale": [
             [
              0,
              "#0d0887"
             ],
             [
              0.1111111111111111,
              "#46039f"
             ],
             [
              0.2222222222222222,
              "#7201a8"
             ],
             [
              0.3333333333333333,
              "#9c179e"
             ],
             [
              0.4444444444444444,
              "#bd3786"
             ],
             [
              0.5555555555555556,
              "#d8576b"
             ],
             [
              0.6666666666666666,
              "#ed7953"
             ],
             [
              0.7777777777777778,
              "#fb9f3a"
             ],
             [
              0.8888888888888888,
              "#fdca26"
             ],
             [
              1,
              "#f0f921"
             ]
            ],
            "type": "heatmap"
           }
          ],
          "heatmapgl": [
           {
            "colorbar": {
             "outlinewidth": 0,
             "ticks": ""
            },
            "colorscale": [
             [
              0,
              "#0d0887"
             ],
             [
              0.1111111111111111,
              "#46039f"
             ],
             [
              0.2222222222222222,
              "#7201a8"
             ],
             [
              0.3333333333333333,
              "#9c179e"
             ],
             [
              0.4444444444444444,
              "#bd3786"
             ],
             [
              0.5555555555555556,
              "#d8576b"
             ],
             [
              0.6666666666666666,
              "#ed7953"
             ],
             [
              0.7777777777777778,
              "#fb9f3a"
             ],
             [
              0.8888888888888888,
              "#fdca26"
             ],
             [
              1,
              "#f0f921"
             ]
            ],
            "type": "heatmapgl"
           }
          ],
          "histogram": [
           {
            "marker": {
             "pattern": {
              "fillmode": "overlay",
              "size": 10,
              "solidity": 0.2
             }
            },
            "type": "histogram"
           }
          ],
          "histogram2d": [
           {
            "colorbar": {
             "outlinewidth": 0,
             "ticks": ""
            },
            "colorscale": [
             [
              0,
              "#0d0887"
             ],
             [
              0.1111111111111111,
              "#46039f"
             ],
             [
              0.2222222222222222,
              "#7201a8"
             ],
             [
              0.3333333333333333,
              "#9c179e"
             ],
             [
              0.4444444444444444,
              "#bd3786"
             ],
             [
              0.5555555555555556,
              "#d8576b"
             ],
             [
              0.6666666666666666,
              "#ed7953"
             ],
             [
              0.7777777777777778,
              "#fb9f3a"
             ],
             [
              0.8888888888888888,
              "#fdca26"
             ],
             [
              1,
              "#f0f921"
             ]
            ],
            "type": "histogram2d"
           }
          ],
          "histogram2dcontour": [
           {
            "colorbar": {
             "outlinewidth": 0,
             "ticks": ""
            },
            "colorscale": [
             [
              0,
              "#0d0887"
             ],
             [
              0.1111111111111111,
              "#46039f"
             ],
             [
              0.2222222222222222,
              "#7201a8"
             ],
             [
              0.3333333333333333,
              "#9c179e"
             ],
             [
              0.4444444444444444,
              "#bd3786"
             ],
             [
              0.5555555555555556,
              "#d8576b"
             ],
             [
              0.6666666666666666,
              "#ed7953"
             ],
             [
              0.7777777777777778,
              "#fb9f3a"
             ],
             [
              0.8888888888888888,
              "#fdca26"
             ],
             [
              1,
              "#f0f921"
             ]
            ],
            "type": "histogram2dcontour"
           }
          ],
          "mesh3d": [
           {
            "colorbar": {
             "outlinewidth": 0,
             "ticks": ""
            },
            "type": "mesh3d"
           }
          ],
          "parcoords": [
           {
            "line": {
             "colorbar": {
              "outlinewidth": 0,
              "ticks": ""
             }
            },
            "type": "parcoords"
           }
          ],
          "pie": [
           {
            "automargin": true,
            "type": "pie"
           }
          ],
          "scatter": [
           {
            "fillpattern": {
             "fillmode": "overlay",
             "size": 10,
             "solidity": 0.2
            },
            "type": "scatter"
           }
          ],
          "scatter3d": [
           {
            "line": {
             "colorbar": {
              "outlinewidth": 0,
              "ticks": ""
             }
            },
            "marker": {
             "colorbar": {
              "outlinewidth": 0,
              "ticks": ""
             }
            },
            "type": "scatter3d"
           }
          ],
          "scattercarpet": [
           {
            "marker": {
             "colorbar": {
              "outlinewidth": 0,
              "ticks": ""
             }
            },
            "type": "scattercarpet"
           }
          ],
          "scattergeo": [
           {
            "marker": {
             "colorbar": {
              "outlinewidth": 0,
              "ticks": ""
             }
            },
            "type": "scattergeo"
           }
          ],
          "scattergl": [
           {
            "marker": {
             "colorbar": {
              "outlinewidth": 0,
              "ticks": ""
             }
            },
            "type": "scattergl"
           }
          ],
          "scattermapbox": [
           {
            "marker": {
             "colorbar": {
              "outlinewidth": 0,
              "ticks": ""
             }
            },
            "type": "scattermapbox"
           }
          ],
          "scatterpolar": [
           {
            "marker": {
             "colorbar": {
              "outlinewidth": 0,
              "ticks": ""
             }
            },
            "type": "scatterpolar"
           }
          ],
          "scatterpolargl": [
           {
            "marker": {
             "colorbar": {
              "outlinewidth": 0,
              "ticks": ""
             }
            },
            "type": "scatterpolargl"
           }
          ],
          "scatterternary": [
           {
            "marker": {
             "colorbar": {
              "outlinewidth": 0,
              "ticks": ""
             }
            },
            "type": "scatterternary"
           }
          ],
          "surface": [
           {
            "colorbar": {
             "outlinewidth": 0,
             "ticks": ""
            },
            "colorscale": [
             [
              0,
              "#0d0887"
             ],
             [
              0.1111111111111111,
              "#46039f"
             ],
             [
              0.2222222222222222,
              "#7201a8"
             ],
             [
              0.3333333333333333,
              "#9c179e"
             ],
             [
              0.4444444444444444,
              "#bd3786"
             ],
             [
              0.5555555555555556,
              "#d8576b"
             ],
             [
              0.6666666666666666,
              "#ed7953"
             ],
             [
              0.7777777777777778,
              "#fb9f3a"
             ],
             [
              0.8888888888888888,
              "#fdca26"
             ],
             [
              1,
              "#f0f921"
             ]
            ],
            "type": "surface"
           }
          ],
          "table": [
           {
            "cells": {
             "fill": {
              "color": "#EBF0F8"
             },
             "line": {
              "color": "white"
             }
            },
            "header": {
             "fill": {
              "color": "#C8D4E3"
             },
             "line": {
              "color": "white"
             }
            },
            "type": "table"
           }
          ]
         },
         "layout": {
          "annotationdefaults": {
           "arrowcolor": "#2a3f5f",
           "arrowhead": 0,
           "arrowwidth": 1
          },
          "autotypenumbers": "strict",
          "coloraxis": {
           "colorbar": {
            "outlinewidth": 0,
            "ticks": ""
           }
          },
          "colorscale": {
           "diverging": [
            [
             0,
             "#8e0152"
            ],
            [
             0.1,
             "#c51b7d"
            ],
            [
             0.2,
             "#de77ae"
            ],
            [
             0.3,
             "#f1b6da"
            ],
            [
             0.4,
             "#fde0ef"
            ],
            [
             0.5,
             "#f7f7f7"
            ],
            [
             0.6,
             "#e6f5d0"
            ],
            [
             0.7,
             "#b8e186"
            ],
            [
             0.8,
             "#7fbc41"
            ],
            [
             0.9,
             "#4d9221"
            ],
            [
             1,
             "#276419"
            ]
           ],
           "sequential": [
            [
             0,
             "#0d0887"
            ],
            [
             0.1111111111111111,
             "#46039f"
            ],
            [
             0.2222222222222222,
             "#7201a8"
            ],
            [
             0.3333333333333333,
             "#9c179e"
            ],
            [
             0.4444444444444444,
             "#bd3786"
            ],
            [
             0.5555555555555556,
             "#d8576b"
            ],
            [
             0.6666666666666666,
             "#ed7953"
            ],
            [
             0.7777777777777778,
             "#fb9f3a"
            ],
            [
             0.8888888888888888,
             "#fdca26"
            ],
            [
             1,
             "#f0f921"
            ]
           ],
           "sequentialminus": [
            [
             0,
             "#0d0887"
            ],
            [
             0.1111111111111111,
             "#46039f"
            ],
            [
             0.2222222222222222,
             "#7201a8"
            ],
            [
             0.3333333333333333,
             "#9c179e"
            ],
            [
             0.4444444444444444,
             "#bd3786"
            ],
            [
             0.5555555555555556,
             "#d8576b"
            ],
            [
             0.6666666666666666,
             "#ed7953"
            ],
            [
             0.7777777777777778,
             "#fb9f3a"
            ],
            [
             0.8888888888888888,
             "#fdca26"
            ],
            [
             1,
             "#f0f921"
            ]
           ]
          },
          "colorway": [
           "#636efa",
           "#EF553B",
           "#00cc96",
           "#ab63fa",
           "#FFA15A",
           "#19d3f3",
           "#FF6692",
           "#B6E880",
           "#FF97FF",
           "#FECB52"
          ],
          "font": {
           "color": "#2a3f5f"
          },
          "geo": {
           "bgcolor": "white",
           "lakecolor": "white",
           "landcolor": "#E5ECF6",
           "showlakes": true,
           "showland": true,
           "subunitcolor": "white"
          },
          "hoverlabel": {
           "align": "left"
          },
          "hovermode": "closest",
          "mapbox": {
           "style": "light"
          },
          "paper_bgcolor": "white",
          "plot_bgcolor": "#E5ECF6",
          "polar": {
           "angularaxis": {
            "gridcolor": "white",
            "linecolor": "white",
            "ticks": ""
           },
           "bgcolor": "#E5ECF6",
           "radialaxis": {
            "gridcolor": "white",
            "linecolor": "white",
            "ticks": ""
           }
          },
          "scene": {
           "xaxis": {
            "backgroundcolor": "#E5ECF6",
            "gridcolor": "white",
            "gridwidth": 2,
            "linecolor": "white",
            "showbackground": true,
            "ticks": "",
            "zerolinecolor": "white"
           },
           "yaxis": {
            "backgroundcolor": "#E5ECF6",
            "gridcolor": "white",
            "gridwidth": 2,
            "linecolor": "white",
            "showbackground": true,
            "ticks": "",
            "zerolinecolor": "white"
           },
           "zaxis": {
            "backgroundcolor": "#E5ECF6",
            "gridcolor": "white",
            "gridwidth": 2,
            "linecolor": "white",
            "showbackground": true,
            "ticks": "",
            "zerolinecolor": "white"
           }
          },
          "shapedefaults": {
           "line": {
            "color": "#2a3f5f"
           }
          },
          "ternary": {
           "aaxis": {
            "gridcolor": "white",
            "linecolor": "white",
            "ticks": ""
           },
           "baxis": {
            "gridcolor": "white",
            "linecolor": "white",
            "ticks": ""
           },
           "bgcolor": "#E5ECF6",
           "caxis": {
            "gridcolor": "white",
            "linecolor": "white",
            "ticks": ""
           }
          },
          "title": {
           "x": 0.05
          },
          "xaxis": {
           "automargin": true,
           "gridcolor": "white",
           "linecolor": "white",
           "ticks": "",
           "title": {
            "standoff": 15
           },
           "zerolinecolor": "white",
           "zerolinewidth": 2
          },
          "yaxis": {
           "automargin": true,
           "gridcolor": "white",
           "linecolor": "white",
           "ticks": "",
           "title": {
            "standoff": 15
           },
           "zerolinecolor": "white",
           "zerolinewidth": 2
          }
         }
        },
        "title": {
         "text": "Intermediate Values Plot"
        },
        "xaxis": {
         "title": {
          "text": "Step"
         }
        },
        "yaxis": {
         "title": {
          "text": "Intermediate Value"
         }
        }
       }
      }
     },
     "metadata": {},
     "output_type": "display_data"
    }
   ],
   "source": [
    "fig = optuna.visualization.plot_intermediate_values(study)\n",
    "graph_path = Path(f\"../figures/{params.MODEL_TYPE}/{params.MODEL_NAME}/\")\n",
    "if not os.path.exists(graph_path):\n",
    "    os.makedirs(graph_path)\n",
    "graph_path = (\n",
    "    f\"../figures/{params.MODEL_TYPE}/{params.MODEL_NAME}/plot_intermediate_values_graph\"\n",
    ")\n",
    "fig.write_image(Path(f\"{graph_path}.png\"))\n",
    "fig.show()"
   ]
  },
  {
   "cell_type": "code",
   "execution_count": 17,
   "id": "325a1ec3",
   "metadata": {},
   "outputs": [],
   "source": [
    "param_dict = extract_best_trial_params(\n",
    "    study.best_params, params, model_name=params.MODEL_NAME\n",
    ")"
   ]
  },
  {
   "cell_type": "code",
   "execution_count": 18,
   "id": "50e946e7",
   "metadata": {},
   "outputs": [
    {
     "name": "stdout",
     "output_type": "stream",
     "text": [
      "SGD\n",
      "Epoch 0: Validation loss decreased (inf --> 0.599730).  Saving model ...\n",
      "\t Train_Loss: 0.7649 Train_Acc: 71.358 Val_Loss: 0.5997  BEST VAL Loss: 0.5997  Val_Acc: 80.320\n",
      "\n",
      "Epoch 1: Validation loss decreased (0.599730 --> 0.541646).  Saving model ...\n",
      "\t Train_Loss: 0.6698 Train_Acc: 80.264 Val_Loss: 0.5416  BEST VAL Loss: 0.5416  Val_Acc: 84.336\n",
      "\n",
      "Epoch 2: Validation loss decreased (0.541646 --> 0.499229).  Saving model ...\n",
      "\t Train_Loss: 0.6099 Train_Acc: 82.858 Val_Loss: 0.4992  BEST VAL Loss: 0.4992  Val_Acc: 86.734\n",
      "\n",
      "Epoch 3: Validation loss decreased (0.499229 --> 0.467347).  Saving model ...\n",
      "\t Train_Loss: 0.5672 Train_Acc: 84.707 Val_Loss: 0.4673  BEST VAL Loss: 0.4673  Val_Acc: 88.504\n",
      "\n",
      "Epoch 4: Validation loss decreased (0.467347 --> 0.441414).  Saving model ...\n",
      "\t Train_Loss: 0.5348 Train_Acc: 85.547 Val_Loss: 0.4414  BEST VAL Loss: 0.4414  Val_Acc: 89.817\n",
      "\n",
      "Epoch 5: Validation loss decreased (0.441414 --> 0.419923).  Saving model ...\n",
      "\t Train_Loss: 0.5090 Train_Acc: 86.327 Val_Loss: 0.4199  BEST VAL Loss: 0.4199  Val_Acc: 90.502\n",
      "\n",
      "Epoch 6: Validation loss decreased (0.419923 --> 0.404026).  Saving model ...\n",
      "\t Train_Loss: 0.4873 Train_Acc: 87.222 Val_Loss: 0.4040  BEST VAL Loss: 0.4040  Val_Acc: 89.836\n",
      "\n",
      "Epoch 7: Validation loss decreased (0.404026 --> 0.389630).  Saving model ...\n",
      "\t Train_Loss: 0.4694 Train_Acc: 87.776 Val_Loss: 0.3896  BEST VAL Loss: 0.3896  Val_Acc: 90.579\n",
      "\n",
      "Epoch 8: Validation loss decreased (0.389630 --> 0.376034).  Saving model ...\n",
      "\t Train_Loss: 0.4539 Train_Acc: 88.573 Val_Loss: 0.3760  BEST VAL Loss: 0.3760  Val_Acc: 91.911\n",
      "\n",
      "Epoch 9: Validation loss decreased (0.376034 --> 0.366250).  Saving model ...\n",
      "\t Train_Loss: 0.4401 Train_Acc: 88.985 Val_Loss: 0.3662  BEST VAL Loss: 0.3662  Val_Acc: 90.617\n",
      "\n",
      "Epoch 10: Validation loss decreased (0.366250 --> 0.355544).  Saving model ...\n",
      "\t Train_Loss: 0.4276 Train_Acc: 89.340 Val_Loss: 0.3555  BEST VAL Loss: 0.3555  Val_Acc: 92.215\n",
      "\n",
      "Epoch 11: Validation loss decreased (0.355544 --> 0.346027).  Saving model ...\n",
      "\t Train_Loss: 0.4167 Train_Acc: 89.547 Val_Loss: 0.3460  BEST VAL Loss: 0.3460  Val_Acc: 92.234\n",
      "\n",
      "Epoch 12: Validation loss decreased (0.346027 --> 0.337122).  Saving model ...\n",
      "\t Train_Loss: 0.4067 Train_Acc: 89.849 Val_Loss: 0.3371  BEST VAL Loss: 0.3371  Val_Acc: 92.596\n",
      "\n",
      "Epoch 13: Validation loss decreased (0.337122 --> 0.328981).  Saving model ...\n",
      "\t Train_Loss: 0.3977 Train_Acc: 90.177 Val_Loss: 0.3290  BEST VAL Loss: 0.3290  Val_Acc: 93.091\n",
      "\n",
      "Epoch 14: Validation loss decreased (0.328981 --> 0.321563).  Saving model ...\n",
      "\t Train_Loss: 0.3893 Train_Acc: 90.337 Val_Loss: 0.3216  BEST VAL Loss: 0.3216  Val_Acc: 93.129\n",
      "\n",
      "Epoch 15: Validation loss decreased (0.321563 --> 0.314857).  Saving model ...\n",
      "\t Train_Loss: 0.3816 Train_Acc: 90.632 Val_Loss: 0.3149  BEST VAL Loss: 0.3149  Val_Acc: 92.939\n",
      "\n",
      "Epoch 16: Validation loss decreased (0.314857 --> 0.308477).  Saving model ...\n",
      "\t Train_Loss: 0.3748 Train_Acc: 90.741 Val_Loss: 0.3085  BEST VAL Loss: 0.3085  Val_Acc: 93.643\n",
      "\n",
      "Epoch 17: Validation loss decreased (0.308477 --> 0.302553).  Saving model ...\n",
      "\t Train_Loss: 0.3686 Train_Acc: 91.020 Val_Loss: 0.3026  BEST VAL Loss: 0.3026  Val_Acc: 93.814\n",
      "\n",
      "Epoch 18: Validation loss decreased (0.302553 --> 0.297414).  Saving model ...\n",
      "\t Train_Loss: 0.3627 Train_Acc: 91.020 Val_Loss: 0.2974  BEST VAL Loss: 0.2974  Val_Acc: 93.319\n",
      "\n",
      "Epoch 19: Validation loss decreased (0.297414 --> 0.292159).  Saving model ...\n",
      "\t Train_Loss: 0.3570 Train_Acc: 91.220 Val_Loss: 0.2922  BEST VAL Loss: 0.2922  Val_Acc: 93.852\n",
      "\n",
      "Epoch 20: Validation loss decreased (0.292159 --> 0.288039).  Saving model ...\n",
      "\t Train_Loss: 0.3518 Train_Acc: 91.443 Val_Loss: 0.2880  BEST VAL Loss: 0.2880  Val_Acc: 92.844\n",
      "\n",
      "Epoch 21: Validation loss decreased (0.288039 --> 0.283307).  Saving model ...\n",
      "\t Train_Loss: 0.3467 Train_Acc: 91.453 Val_Loss: 0.2833  BEST VAL Loss: 0.2833  Val_Acc: 94.138\n",
      "\n",
      "Epoch 22: Validation loss decreased (0.283307 --> 0.278846).  Saving model ...\n",
      "\t Train_Loss: 0.3420 Train_Acc: 91.550 Val_Loss: 0.2788  BEST VAL Loss: 0.2788  Val_Acc: 94.195\n",
      "\n",
      "Epoch 23: Validation loss decreased (0.278846 --> 0.274833).  Saving model ...\n",
      "\t Train_Loss: 0.3377 Train_Acc: 91.653 Val_Loss: 0.2748  BEST VAL Loss: 0.2748  Val_Acc: 94.100\n",
      "\n",
      "Epoch 24: Validation loss decreased (0.274833 --> 0.270861).  Saving model ...\n",
      "\t Train_Loss: 0.3334 Train_Acc: 91.760 Val_Loss: 0.2709  BEST VAL Loss: 0.2709  Val_Acc: 94.309\n",
      "\n",
      "Epoch 25: Validation loss decreased (0.270861 --> 0.267129).  Saving model ...\n",
      "\t Train_Loss: 0.3294 Train_Acc: 91.769 Val_Loss: 0.2671  BEST VAL Loss: 0.2671  Val_Acc: 94.309\n",
      "\n",
      "Epoch 26: Validation loss decreased (0.267129 --> 0.263588).  Saving model ...\n",
      "\t Train_Loss: 0.3257 Train_Acc: 91.921 Val_Loss: 0.2636  BEST VAL Loss: 0.2636  Val_Acc: 94.461\n",
      "\n",
      "Epoch 27: Validation loss decreased (0.263588 --> 0.260200).  Saving model ...\n",
      "\t Train_Loss: 0.3222 Train_Acc: 91.838 Val_Loss: 0.2602  BEST VAL Loss: 0.2602  Val_Acc: 94.595\n",
      "\n",
      "Epoch 28: Validation loss decreased (0.260200 --> 0.257062).  Saving model ...\n",
      "\t Train_Loss: 0.3189 Train_Acc: 91.914 Val_Loss: 0.2571  BEST VAL Loss: 0.2571  Val_Acc: 94.518\n",
      "\n",
      "Epoch 29: Validation loss decreased (0.257062 --> 0.254027).  Saving model ...\n",
      "\t Train_Loss: 0.3155 Train_Acc: 92.167 Val_Loss: 0.2540  BEST VAL Loss: 0.2540  Val_Acc: 94.461\n",
      "\n",
      "Epoch 30: Validation loss decreased (0.254027 --> 0.251138).  Saving model ...\n",
      "\t Train_Loss: 0.3124 Train_Acc: 92.200 Val_Loss: 0.2511  BEST VAL Loss: 0.2511  Val_Acc: 94.709\n",
      "\n",
      "Epoch 31: Validation loss decreased (0.251138 --> 0.248381).  Saving model ...\n",
      "\t Train_Loss: 0.3094 Train_Acc: 92.307 Val_Loss: 0.2484  BEST VAL Loss: 0.2484  Val_Acc: 94.766\n",
      "\n",
      "Epoch 32: Validation loss decreased (0.248381 --> 0.246553).  Saving model ...\n",
      "\t Train_Loss: 0.3066 Train_Acc: 92.288 Val_Loss: 0.2466  BEST VAL Loss: 0.2466  Val_Acc: 93.776\n",
      "\n",
      "Epoch 33: Validation loss decreased (0.246553 --> 0.244027).  Saving model ...\n",
      "\t Train_Loss: 0.3039 Train_Acc: 92.476 Val_Loss: 0.2440  BEST VAL Loss: 0.2440  Val_Acc: 94.690\n",
      "\n",
      "Epoch 34: Validation loss decreased (0.244027 --> 0.241564).  Saving model ...\n",
      "\t Train_Loss: 0.3012 Train_Acc: 92.543 Val_Loss: 0.2416  BEST VAL Loss: 0.2416  Val_Acc: 94.747\n",
      "\n",
      "Epoch 35: Validation loss decreased (0.241564 --> 0.239203).  Saving model ...\n",
      "\t Train_Loss: 0.2986 Train_Acc: 92.464 Val_Loss: 0.2392  BEST VAL Loss: 0.2392  Val_Acc: 94.880\n",
      "\n",
      "Epoch 36: Validation loss decreased (0.239203 --> 0.236996).  Saving model ...\n",
      "\t Train_Loss: 0.2962 Train_Acc: 92.676 Val_Loss: 0.2370  BEST VAL Loss: 0.2370  Val_Acc: 94.823\n",
      "\n",
      "Epoch 37: Validation loss decreased (0.236996 --> 0.234851).  Saving model ...\n",
      "\t Train_Loss: 0.2937 Train_Acc: 92.757 Val_Loss: 0.2349  BEST VAL Loss: 0.2349  Val_Acc: 94.899\n",
      "\n",
      "Epoch 38: Validation loss decreased (0.234851 --> 0.232773).  Saving model ...\n",
      "\t Train_Loss: 0.2914 Train_Acc: 92.669 Val_Loss: 0.2328  BEST VAL Loss: 0.2328  Val_Acc: 94.861\n",
      "\n",
      "Epoch 39: Validation loss decreased (0.232773 --> 0.231057).  Saving model ...\n",
      "\t Train_Loss: 0.2892 Train_Acc: 92.947 Val_Loss: 0.2311  BEST VAL Loss: 0.2311  Val_Acc: 94.366\n",
      "\n",
      "Epoch 40: Validation loss decreased (0.231057 --> 0.229171).  Saving model ...\n",
      "\t Train_Loss: 0.2871 Train_Acc: 92.759 Val_Loss: 0.2292  BEST VAL Loss: 0.2292  Val_Acc: 94.956\n",
      "\n",
      "Epoch 41: Validation loss decreased (0.229171 --> 0.227467).  Saving model ...\n",
      "\t Train_Loss: 0.2850 Train_Acc: 93.076 Val_Loss: 0.2275  BEST VAL Loss: 0.2275  Val_Acc: 94.576\n",
      "\n",
      "Epoch 42: Validation loss decreased (0.227467 --> 0.225709).  Saving model ...\n",
      "\t Train_Loss: 0.2830 Train_Acc: 92.935 Val_Loss: 0.2257  BEST VAL Loss: 0.2257  Val_Acc: 94.899\n",
      "\n",
      "Epoch 43: Validation loss decreased (0.225709 --> 0.224085).  Saving model ...\n",
      "\t Train_Loss: 0.2811 Train_Acc: 92.923 Val_Loss: 0.2241  BEST VAL Loss: 0.2241  Val_Acc: 94.880\n",
      "\n",
      "Epoch 44: Validation loss decreased (0.224085 --> 0.222709).  Saving model ...\n",
      "\t Train_Loss: 0.2793 Train_Acc: 92.947 Val_Loss: 0.2227  BEST VAL Loss: 0.2227  Val_Acc: 94.728\n",
      "\n",
      "Epoch 45: Validation loss decreased (0.222709 --> 0.221108).  Saving model ...\n",
      "\t Train_Loss: 0.2774 Train_Acc: 93.323 Val_Loss: 0.2211  BEST VAL Loss: 0.2211  Val_Acc: 94.994\n",
      "\n",
      "Epoch 46: Validation loss decreased (0.221108 --> 0.219547).  Saving model ...\n",
      "\t Train_Loss: 0.2756 Train_Acc: 93.294 Val_Loss: 0.2195  BEST VAL Loss: 0.2195  Val_Acc: 94.937\n",
      "\n",
      "Epoch 47: Validation loss decreased (0.219547 --> 0.218117).  Saving model ...\n",
      "\t Train_Loss: 0.2738 Train_Acc: 93.318 Val_Loss: 0.2181  BEST VAL Loss: 0.2181  Val_Acc: 94.861\n",
      "\n",
      "Epoch 48: Validation loss decreased (0.218117 --> 0.216837).  Saving model ...\n",
      "\t Train_Loss: 0.2721 Train_Acc: 93.352 Val_Loss: 0.2168  BEST VAL Loss: 0.2168  Val_Acc: 94.537\n",
      "\n",
      "Epoch 49: Validation loss decreased (0.216837 --> 0.215392).  Saving model ...\n",
      "\t Train_Loss: 0.2706 Train_Acc: 93.271 Val_Loss: 0.2154  BEST VAL Loss: 0.2154  Val_Acc: 94.785\n",
      "\n",
      "Epoch 50: Validation loss decreased (0.215392 --> 0.214031).  Saving model ...\n",
      "\t Train_Loss: 0.2690 Train_Acc: 93.437 Val_Loss: 0.2140  BEST VAL Loss: 0.2140  Val_Acc: 95.242\n",
      "\n",
      "Epoch 51: Validation loss decreased (0.214031 --> 0.212698).  Saving model ...\n",
      "\t Train_Loss: 0.2674 Train_Acc: 93.447 Val_Loss: 0.2127  BEST VAL Loss: 0.2127  Val_Acc: 95.204\n",
      "\n",
      "Epoch 52: Validation loss decreased (0.212698 --> 0.211386).  Saving model ...\n",
      "\t Train_Loss: 0.2658 Train_Acc: 93.587 Val_Loss: 0.2114  BEST VAL Loss: 0.2114  Val_Acc: 95.089\n",
      "\n",
      "Epoch 53: Validation loss decreased (0.211386 --> 0.210186).  Saving model ...\n",
      "\t Train_Loss: 0.2644 Train_Acc: 93.447 Val_Loss: 0.2102  BEST VAL Loss: 0.2102  Val_Acc: 94.975\n",
      "\n",
      "Epoch 54: Validation loss decreased (0.210186 --> 0.208995).  Saving model ...\n",
      "\t Train_Loss: 0.2629 Train_Acc: 93.578 Val_Loss: 0.2090  BEST VAL Loss: 0.2090  Val_Acc: 95.261\n",
      "\n",
      "Epoch 55: Validation loss decreased (0.208995 --> 0.207814).  Saving model ...\n",
      "\t Train_Loss: 0.2614 Train_Acc: 93.720 Val_Loss: 0.2078  BEST VAL Loss: 0.2078  Val_Acc: 95.051\n",
      "\n",
      "Epoch 56: Validation loss decreased (0.207814 --> 0.206710).  Saving model ...\n",
      "\t Train_Loss: 0.2601 Train_Acc: 93.525 Val_Loss: 0.2067  BEST VAL Loss: 0.2067  Val_Acc: 95.166\n",
      "\n",
      "Epoch 57: Validation loss decreased (0.206710 --> 0.205646).  Saving model ...\n",
      "\t Train_Loss: 0.2587 Train_Acc: 93.623 Val_Loss: 0.2056  BEST VAL Loss: 0.2056  Val_Acc: 95.128\n",
      "\n",
      "Epoch 58: Validation loss decreased (0.205646 --> 0.204665).  Saving model ...\n",
      "\t Train_Loss: 0.2574 Train_Acc: 93.468 Val_Loss: 0.2047  BEST VAL Loss: 0.2047  Val_Acc: 95.032\n",
      "\n",
      "Epoch 59: Validation loss decreased (0.204665 --> 0.203599).  Saving model ...\n",
      "\t Train_Loss: 0.2563 Train_Acc: 93.587 Val_Loss: 0.2036  BEST VAL Loss: 0.2036  Val_Acc: 95.337\n",
      "\n",
      "Epoch 60: Validation loss decreased (0.203599 --> 0.202604).  Saving model ...\n",
      "\t Train_Loss: 0.2550 Train_Acc: 93.582 Val_Loss: 0.2026  BEST VAL Loss: 0.2026  Val_Acc: 95.318\n",
      "\n",
      "Epoch 61: Validation loss decreased (0.202604 --> 0.201650).  Saving model ...\n",
      "\t Train_Loss: 0.2538 Train_Acc: 93.766 Val_Loss: 0.2017  BEST VAL Loss: 0.2017  Val_Acc: 95.089\n",
      "\n",
      "Epoch 62: Validation loss decreased (0.201650 --> 0.200645).  Saving model ...\n",
      "\t Train_Loss: 0.2525 Train_Acc: 93.773 Val_Loss: 0.2006  BEST VAL Loss: 0.2006  Val_Acc: 95.242\n",
      "\n",
      "Epoch 63: Validation loss decreased (0.200645 --> 0.199681).  Saving model ...\n",
      "\t Train_Loss: 0.2514 Train_Acc: 93.801 Val_Loss: 0.1997  BEST VAL Loss: 0.1997  Val_Acc: 95.394\n",
      "\n",
      "Epoch 64: Validation loss decreased (0.199681 --> 0.198811).  Saving model ...\n",
      "\t Train_Loss: 0.2501 Train_Acc: 94.084 Val_Loss: 0.1988  BEST VAL Loss: 0.1988  Val_Acc: 95.280\n",
      "\n",
      "Epoch 65: Validation loss decreased (0.198811 --> 0.197880).  Saving model ...\n",
      "\t Train_Loss: 0.2490 Train_Acc: 93.892 Val_Loss: 0.1979  BEST VAL Loss: 0.1979  Val_Acc: 95.451\n",
      "\n",
      "Epoch 66: Validation loss decreased (0.197880 --> 0.196974).  Saving model ...\n",
      "\t Train_Loss: 0.2479 Train_Acc: 93.875 Val_Loss: 0.1970  BEST VAL Loss: 0.1970  Val_Acc: 95.489\n",
      "\n",
      "Epoch 67: Validation loss decreased (0.196974 --> 0.196135).  Saving model ...\n",
      "\t Train_Loss: 0.2468 Train_Acc: 93.904 Val_Loss: 0.1961  BEST VAL Loss: 0.1961  Val_Acc: 95.413\n",
      "\n",
      "Epoch 68: Validation loss decreased (0.196135 --> 0.195309).  Saving model ...\n",
      "\t Train_Loss: 0.2457 Train_Acc: 93.989 Val_Loss: 0.1953  BEST VAL Loss: 0.1953  Val_Acc: 94.975\n",
      "\n",
      "Epoch 69: Validation loss decreased (0.195309 --> 0.194455).  Saving model ...\n",
      "\t Train_Loss: 0.2446 Train_Acc: 93.996 Val_Loss: 0.1945  BEST VAL Loss: 0.1945  Val_Acc: 95.318\n",
      "\n",
      "Epoch 70: Validation loss decreased (0.194455 --> 0.193607).  Saving model ...\n",
      "\t Train_Loss: 0.2436 Train_Acc: 94.094 Val_Loss: 0.1936  BEST VAL Loss: 0.1936  Val_Acc: 95.470\n",
      "\n",
      "Epoch 71: Validation loss decreased (0.193607 --> 0.192795).  Saving model ...\n",
      "\t Train_Loss: 0.2425 Train_Acc: 94.094 Val_Loss: 0.1928  BEST VAL Loss: 0.1928  Val_Acc: 95.679\n",
      "\n",
      "Epoch 72: Validation loss decreased (0.192795 --> 0.191988).  Saving model ...\n",
      "\t Train_Loss: 0.2415 Train_Acc: 93.965 Val_Loss: 0.1920  BEST VAL Loss: 0.1920  Val_Acc: 95.470\n",
      "\n",
      "Epoch 73: Validation loss decreased (0.191988 --> 0.191207).  Saving model ...\n",
      "\t Train_Loss: 0.2405 Train_Acc: 94.156 Val_Loss: 0.1912  BEST VAL Loss: 0.1912  Val_Acc: 95.147\n",
      "\n",
      "Epoch 74: Validation loss decreased (0.191207 --> 0.190485).  Saving model ...\n",
      "\t Train_Loss: 0.2396 Train_Acc: 94.075 Val_Loss: 0.1905  BEST VAL Loss: 0.1905  Val_Acc: 95.185\n",
      "\n",
      "Epoch 75: Validation loss decreased (0.190485 --> 0.189721).  Saving model ...\n",
      "\t Train_Loss: 0.2386 Train_Acc: 94.184 Val_Loss: 0.1897  BEST VAL Loss: 0.1897  Val_Acc: 95.584\n",
      "\n",
      "Epoch 76: Validation loss decreased (0.189721 --> 0.188980).  Saving model ...\n",
      "\t Train_Loss: 0.2377 Train_Acc: 94.232 Val_Loss: 0.1890  BEST VAL Loss: 0.1890  Val_Acc: 95.451\n",
      "\n",
      "Epoch 77: Validation loss decreased (0.188980 --> 0.188267).  Saving model ...\n",
      "\t Train_Loss: 0.2368 Train_Acc: 94.227 Val_Loss: 0.1883  BEST VAL Loss: 0.1883  Val_Acc: 95.679\n",
      "\n",
      "Epoch 78: Validation loss decreased (0.188267 --> 0.187537).  Saving model ...\n",
      "\t Train_Loss: 0.2359 Train_Acc: 94.239 Val_Loss: 0.1875  BEST VAL Loss: 0.1875  Val_Acc: 95.375\n",
      "\n",
      "Epoch 79: Validation loss decreased (0.187537 --> 0.186833).  Saving model ...\n",
      "\t Train_Loss: 0.2350 Train_Acc: 94.344 Val_Loss: 0.1868  BEST VAL Loss: 0.1868  Val_Acc: 95.718\n",
      "\n",
      "Epoch 80: Validation loss decreased (0.186833 --> 0.186132).  Saving model ...\n",
      "\t Train_Loss: 0.2341 Train_Acc: 94.142 Val_Loss: 0.1861  BEST VAL Loss: 0.1861  Val_Acc: 95.527\n",
      "\n",
      "Epoch 81: Validation loss decreased (0.186132 --> 0.185469).  Saving model ...\n",
      "\t Train_Loss: 0.2332 Train_Acc: 94.327 Val_Loss: 0.1855  BEST VAL Loss: 0.1855  Val_Acc: 95.622\n",
      "\n",
      "Epoch 82: Validation loss decreased (0.185469 --> 0.184800).  Saving model ...\n",
      "\t Train_Loss: 0.2324 Train_Acc: 94.215 Val_Loss: 0.1848  BEST VAL Loss: 0.1848  Val_Acc: 95.394\n",
      "\n",
      "Epoch 83: Validation loss decreased (0.184800 --> 0.184154).  Saving model ...\n",
      "\t Train_Loss: 0.2316 Train_Acc: 94.337 Val_Loss: 0.1842  BEST VAL Loss: 0.1842  Val_Acc: 95.451\n",
      "\n",
      "Epoch 84: Validation loss decreased (0.184154 --> 0.183704).  Saving model ...\n",
      "\t Train_Loss: 0.2308 Train_Acc: 94.327 Val_Loss: 0.1837  BEST VAL Loss: 0.1837  Val_Acc: 94.994\n",
      "\n",
      "Epoch 85: Validation loss decreased (0.183704 --> 0.183097).  Saving model ...\n",
      "\t Train_Loss: 0.2300 Train_Acc: 94.258 Val_Loss: 0.1831  BEST VAL Loss: 0.1831  Val_Acc: 95.470\n",
      "\n",
      "Epoch 86: Validation loss decreased (0.183097 --> 0.182473).  Saving model ...\n",
      "\t Train_Loss: 0.2292 Train_Acc: 94.408 Val_Loss: 0.1825  BEST VAL Loss: 0.1825  Val_Acc: 95.432\n",
      "\n",
      "Epoch 87: Validation loss decreased (0.182473 --> 0.181911).  Saving model ...\n",
      "\t Train_Loss: 0.2285 Train_Acc: 94.137 Val_Loss: 0.1819  BEST VAL Loss: 0.1819  Val_Acc: 95.641\n",
      "\n",
      "Epoch 88: Validation loss decreased (0.181911 --> 0.181311).  Saving model ...\n",
      "\t Train_Loss: 0.2277 Train_Acc: 94.415 Val_Loss: 0.1813  BEST VAL Loss: 0.1813  Val_Acc: 95.699\n",
      "\n",
      "Epoch 89: Validation loss decreased (0.181311 --> 0.180758).  Saving model ...\n",
      "\t Train_Loss: 0.2269 Train_Acc: 94.656 Val_Loss: 0.1808  BEST VAL Loss: 0.1808  Val_Acc: 95.508\n",
      "\n",
      "Epoch 90: Validation loss decreased (0.180758 --> 0.180212).  Saving model ...\n",
      "\t Train_Loss: 0.2261 Train_Acc: 94.289 Val_Loss: 0.1802  BEST VAL Loss: 0.1802  Val_Acc: 95.641\n",
      "\n",
      "Epoch 91: Validation loss decreased (0.180212 --> 0.179624).  Saving model ...\n",
      "\t Train_Loss: 0.2254 Train_Acc: 94.589 Val_Loss: 0.1796  BEST VAL Loss: 0.1796  Val_Acc: 95.813\n",
      "\n",
      "Epoch 92: Validation loss decreased (0.179624 --> 0.179056).  Saving model ...\n",
      "\t Train_Loss: 0.2247 Train_Acc: 94.587 Val_Loss: 0.1791  BEST VAL Loss: 0.1791  Val_Acc: 95.451\n",
      "\n",
      "Epoch 93: Validation loss decreased (0.179056 --> 0.178501).  Saving model ...\n",
      "\t Train_Loss: 0.2239 Train_Acc: 94.565 Val_Loss: 0.1785  BEST VAL Loss: 0.1785  Val_Acc: 95.622\n",
      "\n",
      "Epoch 94: Validation loss decreased (0.178501 --> 0.177940).  Saving model ...\n",
      "\t Train_Loss: 0.2232 Train_Acc: 94.584 Val_Loss: 0.1779  BEST VAL Loss: 0.1779  Val_Acc: 95.584\n",
      "\n",
      "Epoch 95: Validation loss decreased (0.177940 --> 0.177404).  Saving model ...\n",
      "\t Train_Loss: 0.2225 Train_Acc: 94.427 Val_Loss: 0.1774  BEST VAL Loss: 0.1774  Val_Acc: 95.527\n",
      "\n",
      "Epoch 96: Validation loss decreased (0.177404 --> 0.176919).  Saving model ...\n",
      "\t Train_Loss: 0.2219 Train_Acc: 94.553 Val_Loss: 0.1769  BEST VAL Loss: 0.1769  Val_Acc: 95.775\n",
      "\n",
      "Epoch 97: Validation loss decreased (0.176919 --> 0.176392).  Saving model ...\n",
      "\t Train_Loss: 0.2212 Train_Acc: 94.418 Val_Loss: 0.1764  BEST VAL Loss: 0.1764  Val_Acc: 95.565\n",
      "\n",
      "Epoch 98: Validation loss decreased (0.176392 --> 0.175905).  Saving model ...\n",
      "\t Train_Loss: 0.2205 Train_Acc: 94.610 Val_Loss: 0.1759  BEST VAL Loss: 0.1759  Val_Acc: 95.889\n",
      "\n",
      "Epoch 99: Validation loss decreased (0.175905 --> 0.175386).  Saving model ...\n",
      "\t Train_Loss: 0.2198 Train_Acc: 94.782 Val_Loss: 0.1754  BEST VAL Loss: 0.1754  Val_Acc: 95.756\n",
      "\n"
     ]
    }
   ],
   "source": [
    "# call the optimized training model\n",
    "train_loss, train_acc, valid_loss, valid_acc, epochs_ran, model = train_optimized_model(\n",
    "    params.TRAIN_EPOCHS,\n",
    "    train_loader,\n",
    "    valid_loader,\n",
    "    param_dict,\n",
    "    params,\n",
    "    params.MODEL_NAME,\n",
    ")\n",
    "# get training_metrics\n",
    "if params.MODEL_TYPE == \"Regression\":\n",
    "    training_stats = pd.DataFrame(\n",
    "        zip(train_loss, valid_loss, epochs_ran),\n",
    "        columns=[\"train_loss\", \"valid_loss\", \"epochs_ran\"],\n",
    "    )\n",
    "else:\n",
    "    training_stats = pd.DataFrame(\n",
    "        zip(train_loss, train_acc, valid_loss, valid_acc, epochs_ran),\n",
    "        columns=[\"train_loss\", \"train_acc\", \"valid_loss\", \"valid_acc\", \"epochs_ran\"],\n",
    "    )"
   ]
  },
  {
   "cell_type": "code",
   "execution_count": 19,
   "id": "1340d8aa",
   "metadata": {},
   "outputs": [
    {
     "name": "stderr",
     "output_type": "stream",
     "text": [
      "/home/lippincm/Documents/ML/Interstellar_Analysis/MLP_Model/model_training/../MLP_utils/utils.py:962: UserWarning:\n",
      "\n",
      "Ignoring `palette` because no `hue` variable has been assigned.\n",
      "\n",
      "/home/lippincm/Documents/ML/Interstellar_Analysis/MLP_Model/model_training/../MLP_utils/utils.py:963: UserWarning:\n",
      "\n",
      "Ignoring `palette` because no `hue` variable has been assigned.\n",
      "\n"
     ]
    },
    {
     "data": {
      "image/png": "[encoded data removed]",
      "text/plain": [
       "<Figure size 640x480 with 1 Axes>"
      ]
     },
     "metadata": {},
     "output_type": "display_data"
    }
   ],
   "source": [
    "if params.MODEL_TYPE == \"Regression\":\n",
    "    pass\n",
    "else:\n",
    "    plot_metric_vs_epoch(\n",
    "        training_stats,\n",
    "        x=\"epochs_ran\",\n",
    "        y1=\"train_acc\",\n",
    "        y2=\"valid_acc\",\n",
    "        title=\"Accuracy vs. Epochs\",\n",
    "        x_axis_label=\"Epochs\",\n",
    "        y_axis_label=\"Accuracy\",\n",
    "        params=params,\n",
    "        model_name=params.MODEL_NAME,\n",
    "    )"
   ]
  },
  {
   "cell_type": "code",
   "execution_count": 20,
   "id": "41991221",
   "metadata": {},
   "outputs": [
    {
     "name": "stderr",
     "output_type": "stream",
     "text": [
      "/home/lippincm/Documents/ML/Interstellar_Analysis/MLP_Model/model_training/../MLP_utils/utils.py:962: UserWarning:\n",
      "\n",
      "Ignoring `palette` because no `hue` variable has been assigned.\n",
      "\n",
      "/home/lippincm/Documents/ML/Interstellar_Analysis/MLP_Model/model_training/../MLP_utils/utils.py:963: UserWarning:\n",
      "\n",
      "Ignoring `palette` because no `hue` variable has been assigned.\n",
      "\n"
     ]
    },
    {
     "data": {
      "image/png": "[encoded data removed]",
      "text/plain": [
       "<Figure size 640x480 with 1 Axes>"
      ]
     },
     "metadata": {},
     "output_type": "display_data"
    }
   ],
   "source": [
    "plot_metric_vs_epoch(\n",
    "    training_stats,\n",
    "    x=\"epochs_ran\",\n",
    "    y1=\"train_loss\",\n",
    "    y2=\"valid_loss\",\n",
    "    title=\"Loss vs. Epochs\",\n",
    "    x_axis_label=\"Epochs\",\n",
    "    y_axis_label=\"Loss\",\n",
    "    params=params,\n",
    "    model_name=params.MODEL_NAME,\n",
    ")"
   ]
  },
  {
   "cell_type": "code",
   "execution_count": 21,
   "id": "3e2c848c",
   "metadata": {},
   "outputs": [],
   "source": [
    "# calling the testing function and outputting list values of tested model\n",
    "if params.MODEL_TYPE == \"Multi_Class\" or params.MODEL_TYPE == \"Regression\":\n",
    "    y_pred_list = test_optimized_model(\n",
    "        model, test_loader, params, model_name=params.MODEL_NAME\n",
    "    )\n",
    "elif params.MODEL_TYPE == \"Binary_Classification\":\n",
    "    y_pred_list, y_pred_prob_list = test_optimized_model(\n",
    "        model, test_loader, params, model_name=params.MODEL_NAME\n",
    "    )\n",
    "else:\n",
    "    raise Exception(\"Model type must be specified for proper model testing\")\n",
    "\n",
    "\n",
    "# un-nest list if nested i.e. length of input data does not match length of output data\n",
    "if len(y_pred_list) != len(Y_test):\n",
    "    y_pred_list = un_nest(y_pred_list)\n",
    "    y_pred_prob_list = un_nest(y_pred_prob_list)\n",
    "else:\n",
    "    pass"
   ]
  },
  {
   "cell_type": "code",
   "execution_count": 22,
   "id": "3c53f7e4",
   "metadata": {},
   "outputs": [
    {
     "name": "stdout",
     "output_type": "stream",
     "text": [
      "              precision    recall  f1-score   support\n",
      "\n",
      "           0       0.96      0.97      0.97      3081\n",
      "           1       0.95      0.96      0.96      1186\n",
      "           2       0.95      0.93      0.94       987\n",
      "\n",
      "    accuracy                           0.96      5254\n",
      "   macro avg       0.96      0.95      0.95      5254\n",
      "weighted avg       0.96      0.96      0.96      5254\n",
      "\n",
      "Precision for class 0: 0.964447317388494\n",
      "Recall for class 0: 0.9685167153521584\n",
      "Precision for class 1: 0.9538977367979882\n",
      "Recall for class 1: 0.9595278246205734\n",
      "Precision for class 2: 0.9503619441571872\n",
      "Recall for class 2: 0.9311043566362716\n",
      "3\n"
     ]
    },
    {
     "data": {
      "image/png": "[encoded data removed]",
      "text/plain": [
       "<Figure size 640x480 with 2 Axes>"
      ]
     },
     "metadata": {},
     "output_type": "display_data"
    },
    {
     "data": {
      "image/png": "[encoded data removed]",
      "text/plain": [
       "<Figure size 640x480 with 1 Axes>"
      ]
     },
     "metadata": {},
     "output_type": "display_data"
    }
   ],
   "source": [
    "# Call visualization function\n",
    "# calling the testing function and outputing list values of tested model\n",
    "if params.MODEL_TYPE == \"Multi_Class\" or params.MODEL_TYPE == \"Regression\":\n",
    "    confusion_matrix_df = results_output(\n",
    "        y_pred_list,\n",
    "        Y_test,\n",
    "        params,\n",
    "        test_name=f\"{params.MODEL_NAME}_testing\",\n",
    "        model_name=params.MODEL_NAME,\n",
    "        title=title,\n",
    "    )\n",
    "elif params.MODEL_TYPE == \"Binary_Classification\":\n",
    "    results_output(\n",
    "        y_pred_list,\n",
    "        Y_test,\n",
    "        params,\n",
    "        y_pred_prob_list,\n",
    "        test_name=f\"{params.MODEL_NAME}_testing\",\n",
    "        model_name=params.MODEL_NAME,\n",
    "    )\n",
    "else:\n",
    "    raise Exception(\"Model type must be specified for proper model testing\")"
   ]
  },
  {
   "cell_type": "code",
   "execution_count": 23,
   "id": "81d214ac",
   "metadata": {},
   "outputs": [
    {
     "name": "stdout",
     "output_type": "stream",
     "text": [
      "0 DMSO_0.100_DMSO_0.025\n",
      "2 Thapsigargin_10.000_DMSO_0.025\n",
      "1 LPS_100.000_DMSO_0.025\n"
     ]
    }
   ],
   "source": [
    "for i, j in zip(\n",
    "    df_values[\"oneb_Metadata_Treatment_Dose_Inhibitor_Dose\"].unique(),\n",
    "    df[\"oneb_Metadata_Treatment_Dose_Inhibitor_Dose\"].unique(),\n",
    "):\n",
    "    print(i, j)"
   ]
  },
  {
   "attachments": {},
   "cell_type": "markdown",
   "id": "2c620f38",
   "metadata": {},
   "source": [
    "#### look at the feature weights of the model"
   ]
  },
  {
   "cell_type": "code",
   "execution_count": 24,
   "id": "06ecc2f0",
   "metadata": {},
   "outputs": [],
   "source": [
    "# get all paramters from pytorch model\n",
    "lst = []\n",
    "for name, param in model.named_parameters():\n",
    "    # print(name, param.shape)\n",
    "    lst.append(param)\n",
    "feature_weights = model[0].weight.grad[0].detach().cpu().numpy()"
   ]
  },
  {
   "cell_type": "code",
   "execution_count": 25,
   "id": "131b568f",
   "metadata": {},
   "outputs": [],
   "source": [
    "col_list = []\n",
    "for col in df_values.columns:\n",
    "    # print(col)\n",
    "    col_list.append(col)"
   ]
  },
  {
   "cell_type": "code",
   "execution_count": 26,
   "id": "400c1291",
   "metadata": {},
   "outputs": [],
   "source": [
    "# remove last 4 columns from col_list that are not features\n",
    "col_list = col_list[:-4]"
   ]
  },
  {
   "cell_type": "code",
   "execution_count": 27,
   "id": "42dbfe2a",
   "metadata": {},
   "outputs": [
    {
     "data": {
      "text/html": [
       "<div>\n",
       "<style scoped>\n",
       "    .dataframe tbody tr th:only-of-type {\n",
       "        vertical-align: middle;\n",
       "    }\n",
       "\n",
       "    .dataframe tbody tr th {\n",
       "        vertical-align: top;\n",
       "    }\n",
       "\n",
       "    .dataframe thead th {\n",
       "        text-align: right;\n",
       "    }\n",
       "</style>\n",
       "<table border=\"1\" class=\"dataframe\">\n",
       "  <thead>\n",
       "    <tr style=\"text-align: right;\">\n",
       "      <th></th>\n",
       "      <th>feature</th>\n",
       "      <th>weight</th>\n",
       "    </tr>\n",
       "  </thead>\n",
       "  <tbody>\n",
       "    <tr>\n",
       "      <th>2021</th>\n",
       "      <td>Nuclei_Correlation_RWC_CorrGasdermin_CorrER</td>\n",
       "      <td>0.004885</td>\n",
       "    </tr>\n",
       "    <tr>\n",
       "      <th>2017</th>\n",
       "      <td>Nuclei_Correlation_RWC_CorrER_CorrGasdermin</td>\n",
       "      <td>0.004114</td>\n",
       "    </tr>\n",
       "    <tr>\n",
       "      <th>1542</th>\n",
       "      <td>Cells_RadialDistribution_ZernikePhase_CorrER_9_5</td>\n",
       "      <td>0.003863</td>\n",
       "    </tr>\n",
       "    <tr>\n",
       "      <th>1572</th>\n",
       "      <td>Cells_RadialDistribution_ZernikePhase_CorrGasdermin_9_5</td>\n",
       "      <td>0.003852</td>\n",
       "    </tr>\n",
       "    <tr>\n",
       "      <th>1602</th>\n",
       "      <td>Cells_RadialDistribution_ZernikePhase_CorrMito_9_5</td>\n",
       "      <td>0.003464</td>\n",
       "    </tr>\n",
       "    <tr>\n",
       "      <th>...</th>\n",
       "      <td>...</td>\n",
       "      <td>...</td>\n",
       "    </tr>\n",
       "    <tr>\n",
       "      <th>2064</th>\n",
       "      <td>Nuclei_Granularity_16_CorrGasdermin</td>\n",
       "      <td>-0.003549</td>\n",
       "    </tr>\n",
       "    <tr>\n",
       "      <th>161</th>\n",
       "      <td>Cytoplasm_Granularity_15_CorrER</td>\n",
       "      <td>-0.003605</td>\n",
       "    </tr>\n",
       "    <tr>\n",
       "      <th>985</th>\n",
       "      <td>Cells_AreaShape_Zernike_7_3</td>\n",
       "      <td>-0.003678</td>\n",
       "    </tr>\n",
       "    <tr>\n",
       "      <th>1105</th>\n",
       "      <td>Cells_Granularity_15_CorrER</td>\n",
       "      <td>-0.003771</td>\n",
       "    </tr>\n",
       "    <tr>\n",
       "      <th>2058</th>\n",
       "      <td>Nuclei_Granularity_15_CorrER</td>\n",
       "      <td>-0.004015</td>\n",
       "    </tr>\n",
       "  </tbody>\n",
       "</table>\n",
       "<p>2847 rows × 2 columns</p>\n",
       "</div>"
      ],
      "text/plain": [
       "                                                      feature    weight\n",
       "2021              Nuclei_Correlation_RWC_CorrGasdermin_CorrER  0.004885\n",
       "2017              Nuclei_Correlation_RWC_CorrER_CorrGasdermin  0.004114\n",
       "1542         Cells_RadialDistribution_ZernikePhase_CorrER_9_5  0.003863\n",
       "1572  Cells_RadialDistribution_ZernikePhase_CorrGasdermin_9_5  0.003852\n",
       "1602       Cells_RadialDistribution_ZernikePhase_CorrMito_9_5  0.003464\n",
       "...                                                       ...       ...\n",
       "2064                      Nuclei_Granularity_16_CorrGasdermin -0.003549\n",
       "161                           Cytoplasm_Granularity_15_CorrER -0.003605\n",
       "985                               Cells_AreaShape_Zernike_7_3 -0.003678\n",
       "1105                              Cells_Granularity_15_CorrER -0.003771\n",
       "2058                             Nuclei_Granularity_15_CorrER -0.004015\n",
       "\n",
       "[2847 rows x 2 columns]"
      ]
     },
     "execution_count": 27,
     "metadata": {},
     "output_type": "execute_result"
    }
   ],
   "source": [
    "pd.set_option(\"display.max_colwidth\", None)\n",
    "\n",
    "df1 = pd.DataFrame(zip(col_list, feature_weights), columns=[\"feature\", \"weight\"])\n",
    "# change weight collumn to float\n",
    "df1[\"weight\"] = df1[\"weight\"].astype(float)\n",
    "# sort by weight\n",
    "df1 = df1.sort_values(by=[\"weight\"], ascending=False)\n",
    "df1"
   ]
  },
  {
   "cell_type": "code",
   "execution_count": 28,
   "id": "e8a4e590",
   "metadata": {},
   "outputs": [],
   "source": [
    "# Code snippet for metadata extraction by Jenna Tomkinson\n",
    "df_metadata = list(df_holdout.columns[df_holdout.columns.str.startswith(\"Metadata\")])\n",
    "\n",
    "# define which columns are data and which are descriptive\n",
    "df_descriptive = df_holdout[df_metadata]\n",
    "df_values = df_holdout.drop(columns=df_metadata)"
   ]
  },
  {
   "cell_type": "code",
   "execution_count": 29,
   "id": "cd055cfe",
   "metadata": {},
   "outputs": [
    {
     "data": {
      "text/html": [
       "<div>\n",
       "<style scoped>\n",
       "    .dataframe tbody tr th:only-of-type {\n",
       "        vertical-align: middle;\n",
       "    }\n",
       "\n",
       "    .dataframe tbody tr th {\n",
       "        vertical-align: top;\n",
       "    }\n",
       "\n",
       "    .dataframe thead th {\n",
       "        text-align: right;\n",
       "    }\n",
       "</style>\n",
       "<table border=\"1\" class=\"dataframe\">\n",
       "  <thead>\n",
       "    <tr style=\"text-align: right;\">\n",
       "      <th></th>\n",
       "      <th>Metadata_cell_type</th>\n",
       "      <th>Metadata_Well</th>\n",
       "      <th>Metadata_number_of_singlecells</th>\n",
       "      <th>Metadata_incubation inducer (h)</th>\n",
       "      <th>Metadata_inhibitor</th>\n",
       "      <th>Metadata_inhibitor_concentration</th>\n",
       "      <th>Metadata_inhibitor_concentration_unit</th>\n",
       "      <th>Metadata_inducer1</th>\n",
       "      <th>Metadata_inducer1_concentration</th>\n",
       "      <th>Metadata_inducer1_concentration_unit</th>\n",
       "      <th>...</th>\n",
       "      <th>Metadata_inducer2_concentration</th>\n",
       "      <th>Metadata_inducer2_concentration_unit</th>\n",
       "      <th>Metadata_ImageNumber</th>\n",
       "      <th>Metadata_Plate</th>\n",
       "      <th>Metadata_Cells_Number_Object_Number</th>\n",
       "      <th>Metadata_Cytoplasm_Parent_Cells</th>\n",
       "      <th>Metadata_Cytoplasm_Parent_Nuclei</th>\n",
       "      <th>Metadata_Nuclei_Number_Object_Number</th>\n",
       "      <th>Metadata_Treatment</th>\n",
       "      <th>Metadata_Dose</th>\n",
       "    </tr>\n",
       "  </thead>\n",
       "  <tbody>\n",
       "    <tr>\n",
       "      <th>336238</th>\n",
       "      <td>SH-SY5Y</td>\n",
       "      <td>I14</td>\n",
       "      <td>4837</td>\n",
       "      <td>6</td>\n",
       "      <td>DMSO</td>\n",
       "      <td>0.025</td>\n",
       "      <td>%</td>\n",
       "      <td>DMSO</td>\n",
       "      <td>0.1</td>\n",
       "      <td>%</td>\n",
       "      <td>...</td>\n",
       "      <td>0.0</td>\n",
       "      <td>None</td>\n",
       "      <td>32</td>\n",
       "      <td>*70117_20230210MM1_Gasdermin514_CP_BC430856</td>\n",
       "      <td>1</td>\n",
       "      <td>1</td>\n",
       "      <td>5</td>\n",
       "      <td>5</td>\n",
       "      <td>DMSO</td>\n",
       "      <td>0.100</td>\n",
       "    </tr>\n",
       "    <tr>\n",
       "      <th>336239</th>\n",
       "      <td>SH-SY5Y</td>\n",
       "      <td>I14</td>\n",
       "      <td>4837</td>\n",
       "      <td>6</td>\n",
       "      <td>DMSO</td>\n",
       "      <td>0.025</td>\n",
       "      <td>%</td>\n",
       "      <td>DMSO</td>\n",
       "      <td>0.1</td>\n",
       "      <td>%</td>\n",
       "      <td>...</td>\n",
       "      <td>0.0</td>\n",
       "      <td>None</td>\n",
       "      <td>32</td>\n",
       "      <td>*70117_20230210MM1_Gasdermin514_CP_BC430856</td>\n",
       "      <td>2</td>\n",
       "      <td>2</td>\n",
       "      <td>6</td>\n",
       "      <td>6</td>\n",
       "      <td>DMSO</td>\n",
       "      <td>0.100</td>\n",
       "    </tr>\n",
       "    <tr>\n",
       "      <th>336240</th>\n",
       "      <td>SH-SY5Y</td>\n",
       "      <td>I14</td>\n",
       "      <td>4837</td>\n",
       "      <td>6</td>\n",
       "      <td>DMSO</td>\n",
       "      <td>0.025</td>\n",
       "      <td>%</td>\n",
       "      <td>DMSO</td>\n",
       "      <td>0.1</td>\n",
       "      <td>%</td>\n",
       "      <td>...</td>\n",
       "      <td>0.0</td>\n",
       "      <td>None</td>\n",
       "      <td>32</td>\n",
       "      <td>*70117_20230210MM1_Gasdermin514_CP_BC430856</td>\n",
       "      <td>3</td>\n",
       "      <td>3</td>\n",
       "      <td>7</td>\n",
       "      <td>7</td>\n",
       "      <td>DMSO</td>\n",
       "      <td>0.100</td>\n",
       "    </tr>\n",
       "    <tr>\n",
       "      <th>336241</th>\n",
       "      <td>SH-SY5Y</td>\n",
       "      <td>I14</td>\n",
       "      <td>4837</td>\n",
       "      <td>6</td>\n",
       "      <td>DMSO</td>\n",
       "      <td>0.025</td>\n",
       "      <td>%</td>\n",
       "      <td>DMSO</td>\n",
       "      <td>0.1</td>\n",
       "      <td>%</td>\n",
       "      <td>...</td>\n",
       "      <td>0.0</td>\n",
       "      <td>None</td>\n",
       "      <td>32</td>\n",
       "      <td>*70117_20230210MM1_Gasdermin514_CP_BC430856</td>\n",
       "      <td>4</td>\n",
       "      <td>4</td>\n",
       "      <td>9</td>\n",
       "      <td>9</td>\n",
       "      <td>DMSO</td>\n",
       "      <td>0.100</td>\n",
       "    </tr>\n",
       "    <tr>\n",
       "      <th>336242</th>\n",
       "      <td>SH-SY5Y</td>\n",
       "      <td>I14</td>\n",
       "      <td>4837</td>\n",
       "      <td>6</td>\n",
       "      <td>DMSO</td>\n",
       "      <td>0.025</td>\n",
       "      <td>%</td>\n",
       "      <td>DMSO</td>\n",
       "      <td>0.1</td>\n",
       "      <td>%</td>\n",
       "      <td>...</td>\n",
       "      <td>0.0</td>\n",
       "      <td>None</td>\n",
       "      <td>32</td>\n",
       "      <td>*70117_20230210MM1_Gasdermin514_CP_BC430856</td>\n",
       "      <td>5</td>\n",
       "      <td>5</td>\n",
       "      <td>10</td>\n",
       "      <td>10</td>\n",
       "      <td>DMSO</td>\n",
       "      <td>0.100</td>\n",
       "    </tr>\n",
       "    <tr>\n",
       "      <th>...</th>\n",
       "      <td>...</td>\n",
       "      <td>...</td>\n",
       "      <td>...</td>\n",
       "      <td>...</td>\n",
       "      <td>...</td>\n",
       "      <td>...</td>\n",
       "      <td>...</td>\n",
       "      <td>...</td>\n",
       "      <td>...</td>\n",
       "      <td>...</td>\n",
       "      <td>...</td>\n",
       "      <td>...</td>\n",
       "      <td>...</td>\n",
       "      <td>...</td>\n",
       "      <td>...</td>\n",
       "      <td>...</td>\n",
       "      <td>...</td>\n",
       "      <td>...</td>\n",
       "      <td>...</td>\n",
       "      <td>...</td>\n",
       "      <td>...</td>\n",
       "    </tr>\n",
       "    <tr>\n",
       "      <th>528609</th>\n",
       "      <td>SH-SY5Y</td>\n",
       "      <td>J21</td>\n",
       "      <td>4126</td>\n",
       "      <td>6</td>\n",
       "      <td>DMSO</td>\n",
       "      <td>0.025</td>\n",
       "      <td>%</td>\n",
       "      <td>LPS</td>\n",
       "      <td>100.0</td>\n",
       "      <td>µg_per_ml</td>\n",
       "      <td>...</td>\n",
       "      <td>0.0</td>\n",
       "      <td>None</td>\n",
       "      <td>332</td>\n",
       "      <td>*70117_20230210MM1_Gasdermin514_CP_BC430856</td>\n",
       "      <td>183</td>\n",
       "      <td>183</td>\n",
       "      <td>192</td>\n",
       "      <td>192</td>\n",
       "      <td>LPS</td>\n",
       "      <td>100.000</td>\n",
       "    </tr>\n",
       "    <tr>\n",
       "      <th>528610</th>\n",
       "      <td>SH-SY5Y</td>\n",
       "      <td>J21</td>\n",
       "      <td>4126</td>\n",
       "      <td>6</td>\n",
       "      <td>DMSO</td>\n",
       "      <td>0.025</td>\n",
       "      <td>%</td>\n",
       "      <td>LPS</td>\n",
       "      <td>100.0</td>\n",
       "      <td>µg_per_ml</td>\n",
       "      <td>...</td>\n",
       "      <td>0.0</td>\n",
       "      <td>None</td>\n",
       "      <td>332</td>\n",
       "      <td>*70117_20230210MM1_Gasdermin514_CP_BC430856</td>\n",
       "      <td>186</td>\n",
       "      <td>186</td>\n",
       "      <td>195</td>\n",
       "      <td>195</td>\n",
       "      <td>LPS</td>\n",
       "      <td>100.000</td>\n",
       "    </tr>\n",
       "    <tr>\n",
       "      <th>528611</th>\n",
       "      <td>SH-SY5Y</td>\n",
       "      <td>J21</td>\n",
       "      <td>4126</td>\n",
       "      <td>6</td>\n",
       "      <td>DMSO</td>\n",
       "      <td>0.025</td>\n",
       "      <td>%</td>\n",
       "      <td>LPS</td>\n",
       "      <td>100.0</td>\n",
       "      <td>µg_per_ml</td>\n",
       "      <td>...</td>\n",
       "      <td>0.0</td>\n",
       "      <td>None</td>\n",
       "      <td>332</td>\n",
       "      <td>*70117_20230210MM1_Gasdermin514_CP_BC430856</td>\n",
       "      <td>241</td>\n",
       "      <td>241</td>\n",
       "      <td>251</td>\n",
       "      <td>251</td>\n",
       "      <td>LPS</td>\n",
       "      <td>100.000</td>\n",
       "    </tr>\n",
       "    <tr>\n",
       "      <th>528612</th>\n",
       "      <td>SH-SY5Y</td>\n",
       "      <td>J21</td>\n",
       "      <td>4126</td>\n",
       "      <td>6</td>\n",
       "      <td>DMSO</td>\n",
       "      <td>0.025</td>\n",
       "      <td>%</td>\n",
       "      <td>LPS</td>\n",
       "      <td>100.0</td>\n",
       "      <td>µg_per_ml</td>\n",
       "      <td>...</td>\n",
       "      <td>0.0</td>\n",
       "      <td>None</td>\n",
       "      <td>332</td>\n",
       "      <td>*70117_20230210MM1_Gasdermin514_CP_BC430856</td>\n",
       "      <td>250</td>\n",
       "      <td>250</td>\n",
       "      <td>260</td>\n",
       "      <td>260</td>\n",
       "      <td>LPS</td>\n",
       "      <td>100.000</td>\n",
       "    </tr>\n",
       "    <tr>\n",
       "      <th>528613</th>\n",
       "      <td>SH-SY5Y</td>\n",
       "      <td>J21</td>\n",
       "      <td>4126</td>\n",
       "      <td>6</td>\n",
       "      <td>DMSO</td>\n",
       "      <td>0.025</td>\n",
       "      <td>%</td>\n",
       "      <td>LPS</td>\n",
       "      <td>100.0</td>\n",
       "      <td>µg_per_ml</td>\n",
       "      <td>...</td>\n",
       "      <td>0.0</td>\n",
       "      <td>None</td>\n",
       "      <td>334</td>\n",
       "      <td>*70117_20230210MM1_Gasdermin514_CP_BC430856</td>\n",
       "      <td>147</td>\n",
       "      <td>147</td>\n",
       "      <td>159</td>\n",
       "      <td>159</td>\n",
       "      <td>LPS</td>\n",
       "      <td>100.000</td>\n",
       "    </tr>\n",
       "  </tbody>\n",
       "</table>\n",
       "<p>12309 rows × 21 columns</p>\n",
       "</div>"
      ],
      "text/plain": [
       "       Metadata_cell_type Metadata_Well  Metadata_number_of_singlecells   \n",
       "336238            SH-SY5Y           I14                            4837  \\\n",
       "336239            SH-SY5Y           I14                            4837   \n",
       "336240            SH-SY5Y           I14                            4837   \n",
       "336241            SH-SY5Y           I14                            4837   \n",
       "336242            SH-SY5Y           I14                            4837   \n",
       "...                   ...           ...                             ...   \n",
       "528609            SH-SY5Y           J21                            4126   \n",
       "528610            SH-SY5Y           J21                            4126   \n",
       "528611            SH-SY5Y           J21                            4126   \n",
       "528612            SH-SY5Y           J21                            4126   \n",
       "528613            SH-SY5Y           J21                            4126   \n",
       "\n",
       "        Metadata_incubation inducer (h) Metadata_inhibitor   \n",
       "336238                                6               DMSO  \\\n",
       "336239                                6               DMSO   \n",
       "336240                                6               DMSO   \n",
       "336241                                6               DMSO   \n",
       "336242                                6               DMSO   \n",
       "...                                 ...                ...   \n",
       "528609                                6               DMSO   \n",
       "528610                                6               DMSO   \n",
       "528611                                6               DMSO   \n",
       "528612                                6               DMSO   \n",
       "528613                                6               DMSO   \n",
       "\n",
       "        Metadata_inhibitor_concentration   \n",
       "336238                             0.025  \\\n",
       "336239                             0.025   \n",
       "336240                             0.025   \n",
       "336241                             0.025   \n",
       "336242                             0.025   \n",
       "...                                  ...   \n",
       "528609                             0.025   \n",
       "528610                             0.025   \n",
       "528611                             0.025   \n",
       "528612                             0.025   \n",
       "528613                             0.025   \n",
       "\n",
       "       Metadata_inhibitor_concentration_unit Metadata_inducer1   \n",
       "336238                                     %              DMSO  \\\n",
       "336239                                     %              DMSO   \n",
       "336240                                     %              DMSO   \n",
       "336241                                     %              DMSO   \n",
       "336242                                     %              DMSO   \n",
       "...                                      ...               ...   \n",
       "528609                                     %               LPS   \n",
       "528610                                     %               LPS   \n",
       "528611                                     %               LPS   \n",
       "528612                                     %               LPS   \n",
       "528613                                     %               LPS   \n",
       "\n",
       "        Metadata_inducer1_concentration Metadata_inducer1_concentration_unit   \n",
       "336238                              0.1                                    %  \\\n",
       "336239                              0.1                                    %   \n",
       "336240                              0.1                                    %   \n",
       "336241                              0.1                                    %   \n",
       "336242                              0.1                                    %   \n",
       "...                                 ...                                  ...   \n",
       "528609                            100.0                            µg_per_ml   \n",
       "528610                            100.0                            µg_per_ml   \n",
       "528611                            100.0                            µg_per_ml   \n",
       "528612                            100.0                            µg_per_ml   \n",
       "528613                            100.0                            µg_per_ml   \n",
       "\n",
       "        ... Metadata_inducer2_concentration   \n",
       "336238  ...                             0.0  \\\n",
       "336239  ...                             0.0   \n",
       "336240  ...                             0.0   \n",
       "336241  ...                             0.0   \n",
       "336242  ...                             0.0   \n",
       "...     ...                             ...   \n",
       "528609  ...                             0.0   \n",
       "528610  ...                             0.0   \n",
       "528611  ...                             0.0   \n",
       "528612  ...                             0.0   \n",
       "528613  ...                             0.0   \n",
       "\n",
       "        Metadata_inducer2_concentration_unit Metadata_ImageNumber   \n",
       "336238                                  None                   32  \\\n",
       "336239                                  None                   32   \n",
       "336240                                  None                   32   \n",
       "336241                                  None                   32   \n",
       "336242                                  None                   32   \n",
       "...                                      ...                  ...   \n",
       "528609                                  None                  332   \n",
       "528610                                  None                  332   \n",
       "528611                                  None                  332   \n",
       "528612                                  None                  332   \n",
       "528613                                  None                  334   \n",
       "\n",
       "                                     Metadata_Plate   \n",
       "336238  *70117_20230210MM1_Gasdermin514_CP_BC430856  \\\n",
       "336239  *70117_20230210MM1_Gasdermin514_CP_BC430856   \n",
       "336240  *70117_20230210MM1_Gasdermin514_CP_BC430856   \n",
       "336241  *70117_20230210MM1_Gasdermin514_CP_BC430856   \n",
       "336242  *70117_20230210MM1_Gasdermin514_CP_BC430856   \n",
       "...                                             ...   \n",
       "528609  *70117_20230210MM1_Gasdermin514_CP_BC430856   \n",
       "528610  *70117_20230210MM1_Gasdermin514_CP_BC430856   \n",
       "528611  *70117_20230210MM1_Gasdermin514_CP_BC430856   \n",
       "528612  *70117_20230210MM1_Gasdermin514_CP_BC430856   \n",
       "528613  *70117_20230210MM1_Gasdermin514_CP_BC430856   \n",
       "\n",
       "       Metadata_Cells_Number_Object_Number  Metadata_Cytoplasm_Parent_Cells   \n",
       "336238                                   1                                1  \\\n",
       "336239                                   2                                2   \n",
       "336240                                   3                                3   \n",
       "336241                                   4                                4   \n",
       "336242                                   5                                5   \n",
       "...                                    ...                              ...   \n",
       "528609                                 183                              183   \n",
       "528610                                 186                              186   \n",
       "528611                                 241                              241   \n",
       "528612                                 250                              250   \n",
       "528613                                 147                              147   \n",
       "\n",
       "        Metadata_Cytoplasm_Parent_Nuclei   \n",
       "336238                                 5  \\\n",
       "336239                                 6   \n",
       "336240                                 7   \n",
       "336241                                 9   \n",
       "336242                                10   \n",
       "...                                  ...   \n",
       "528609                               192   \n",
       "528610                               195   \n",
       "528611                               251   \n",
       "528612                               260   \n",
       "528613                               159   \n",
       "\n",
       "        Metadata_Nuclei_Number_Object_Number  Metadata_Treatment Metadata_Dose  \n",
       "336238                                     5                DMSO         0.100  \n",
       "336239                                     6                DMSO         0.100  \n",
       "336240                                     7                DMSO         0.100  \n",
       "336241                                     9                DMSO         0.100  \n",
       "336242                                    10                DMSO         0.100  \n",
       "...                                      ...                 ...           ...  \n",
       "528609                                   192                 LPS       100.000  \n",
       "528610                                   195                 LPS       100.000  \n",
       "528611                                   251                 LPS       100.000  \n",
       "528612                                   260                 LPS       100.000  \n",
       "528613                                   159                 LPS       100.000  \n",
       "\n",
       "[12309 rows x 21 columns]"
      ]
     },
     "execution_count": 29,
     "metadata": {},
     "output_type": "execute_result"
    }
   ],
   "source": [
    "df_descriptive"
   ]
  },
  {
   "cell_type": "code",
   "execution_count": 30,
   "id": "748bb398",
   "metadata": {},
   "outputs": [],
   "source": [
    "# Creating label encoder\n",
    "le = preprocessing.LabelEncoder()\n",
    "# Converting strings into numbers\n",
    "df_values[\"oneb_Metadata_Treatment_Dose_Inhibitor_Dose\"] = le.fit_transform(\n",
    "    df_values[\"oneb_Metadata_Treatment_Dose_Inhibitor_Dose\"]\n",
    ")\n",
    "# split into X and Y where Y are the predictive column and x are the observable data\n",
    "df_values_X = df_values.drop(\n",
    "    [\n",
    "        \"oneb_Metadata_Treatment_Dose_Inhibitor_Dose\",\n",
    "        \"twob_Metadata_Treatment_Dose_Inhibitor_Dose\",\n",
    "        \"threeb_Metadata_Treatment_Dose_Inhibitor_Dose\",\n",
    "        \"fourb_Metadata_Treatment_Dose_Inhibitor_Dose\",\n",
    "    ],\n",
    "    axis=1,\n",
    ")\n",
    "df_values_Y = df_values[\"oneb_Metadata_Treatment_Dose_Inhibitor_Dose\"]"
   ]
  },
  {
   "cell_type": "code",
   "execution_count": 31,
   "id": "2c5677d3",
   "metadata": {},
   "outputs": [],
   "source": [
    "test_data = Dataset_formatter(\n",
    "    torch.FloatTensor(df_values_X.values), torch.FloatTensor(df_values_Y.values)\n",
    ")\n",
    "\n",
    "# convert data class into a dataloader to be compatible with pytorch\n",
    "test_loader = torch.utils.data.DataLoader(dataset=test_data, batch_size=1)"
   ]
  },
  {
   "cell_type": "code",
   "execution_count": 32,
   "id": "3e2c848c",
   "metadata": {},
   "outputs": [],
   "source": [
    "# calling the testing function and outputting list values of tested model\n",
    "if params.MODEL_TYPE == \"Multi_Class\" or params.MODEL_TYPE == \"Regression\":\n",
    "    y_pred_list = test_optimized_model(\n",
    "        model, test_loader, params, model_name=params.MODEL_NAME\n",
    "    )\n",
    "elif params.MODEL_TYPE == \"Binary_Classification\":\n",
    "    y_pred_list, y_pred_prob_list = test_optimized_model(\n",
    "        model, test_loader, params, model_name=params.MODEL_NAME\n",
    "    )\n",
    "else:\n",
    "    raise Exception(\"Model type must be specified for proper model testing\")\n",
    "\n",
    "\n",
    "# un-nest list if nested i.e. length of input data does not match length of output data\n",
    "if len(y_pred_list) != len(df_values_Y):\n",
    "    y_pred_list = un_nest(y_pred_list)\n",
    "    y_pred_prob_list = un_nest(y_pred_prob_list)\n",
    "else:\n",
    "    pass"
   ]
  },
  {
   "cell_type": "code",
   "execution_count": 33,
   "id": "3c53f7e4",
   "metadata": {},
   "outputs": [
    {
     "name": "stdout",
     "output_type": "stream",
     "text": [
      "              precision    recall  f1-score   support\n",
      "\n",
      "           0       0.89      0.98      0.93      4837\n",
      "           1       0.99      0.90      0.94      4126\n",
      "           2       0.98      0.93      0.96      3346\n",
      "\n",
      "    accuracy                           0.94     12309\n",
      "   macro avg       0.95      0.94      0.94     12309\n",
      "weighted avg       0.95      0.94      0.94     12309\n",
      "\n",
      "Precision for class 0: 0.8868205510052123\n",
      "Recall for class 0: 0.9849080008269588\n",
      "Precision for class 1: 0.9909357504665423\n",
      "Recall for class 1: 0.9008725157537567\n",
      "Precision for class 2: 0.9805398618957941\n",
      "Recall for class 2: 0.9336521219366407\n",
      "3\n"
     ]
    },
    {
     "data": {
      "image/png": "[encoded data removed]",
      "text/plain": [
       "<Figure size 640x480 with 2 Axes>"
      ]
     },
     "metadata": {},
     "output_type": "display_data"
    },
    {
     "data": {
      "image/png": "[encoded data removed]",
      "text/plain": [
       "<Figure size 640x480 with 1 Axes>"
      ]
     },
     "metadata": {},
     "output_type": "display_data"
    }
   ],
   "source": [
    "# Call visualization function\n",
    "# calling the testing function and outputing list values of tested model\n",
    "\n",
    "if params.MODEL_TYPE == \"Multi_Class\" or params.MODEL_TYPE == \"Regression\":\n",
    "    confusion_matrix_df = results_output(\n",
    "        y_pred_list,\n",
    "        df_values_Y,\n",
    "        params,\n",
    "        test_name=f\"{params.MODEL_NAME}_hold_out\",\n",
    "        model_name=params.MODEL_NAME,\n",
    "        title=title,\n",
    "    )\n",
    "elif params.MODEL_TYPE == \"Binary_Classification\":\n",
    "    results_output(\n",
    "        y_pred_list,\n",
    "        df_values_Y,\n",
    "        params,\n",
    "        y_pred_prob_list,\n",
    "        test_name=f\"{params.MODEL_NAME}_hold_out\",\n",
    "        model_name=params.MODEL_NAME,\n",
    "    )\n",
    "else:\n",
    "    raise Exception(\"Model type must be specified for proper model testing\")"
   ]
  },
  {
   "cell_type": "code",
   "execution_count": 34,
   "id": "932853de",
   "metadata": {},
   "outputs": [
    {
     "name": "stdout",
     "output_type": "stream",
     "text": [
      "0 DMSO_0.100_DMSO_0.025\n",
      "2 Thapsigargin_10.000_DMSO_0.025\n",
      "1 LPS_100.000_DMSO_0.025\n"
     ]
    }
   ],
   "source": [
    "for i, j in zip(\n",
    "    df_values[\"oneb_Metadata_Treatment_Dose_Inhibitor_Dose\"].unique(),\n",
    "    df[\"oneb_Metadata_Treatment_Dose_Inhibitor_Dose\"].unique(),\n",
    "):\n",
    "    print(i, j)"
   ]
  }
 ],
 "metadata": {
  "jupytext": {
   "cell_metadata_filter": "-all",
   "encoding": "# coding: utf-8",
   "executable": "/usr/bin/env python",
   "formats": "ipynb,py",
   "main_language": "python"
  },
  "kernelspec": {
   "display_name": "Python 3 (ipykernel)",
   "language": "python",
   "name": "python3"
  },
  "language_info": {
   "codemirror_mode": {
    "name": "ipython",
    "version": 3
   },
   "file_extension": ".py",
   "mimetype": "text/x-python",
   "name": "python",
   "nbconvert_exporter": "python",
   "pygments_lexer": "ipython3",
   "version": "3.10.10"
  },
  "vscode": {
   "interpreter": {
    "hash": "72ae02083a9ca7d143c492d1aec380c7bf553ec51bd66e90e72bba65228121b6"
   }
  }
 },
 "nbformat": 4,
 "nbformat_minor": 5
}
