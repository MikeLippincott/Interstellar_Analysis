{
    "cells": [
        {
            "cell_type": "code",
            "execution_count": 1,
            "metadata": {
                "vscode": {
                    "languageId": "r"
                }
            },
            "outputs": [
                {
                    "name": "stderr",
                    "output_type": "stream",
                    "text": [
                        "Warning message:\n",
                        "“package ‘ggplot2’ was built under R version 4.2.3”\n",
                        "Warning message:\n",
                        "“package ‘argparse’ was built under R version 4.2.3”\n",
                        "Warning message:\n",
                        "“package ‘dplyr’ was built under R version 4.2.3”\n",
                        "\n",
                        "Attaching package: ‘dplyr’\n",
                        "\n",
                        "\n",
                        "The following objects are masked from ‘package:stats’:\n",
                        "\n",
                        "    filter, lag\n",
                        "\n",
                        "\n",
                        "The following objects are masked from ‘package:base’:\n",
                        "\n",
                        "    intersect, setdiff, setequal, union\n",
                        "\n",
                        "\n",
                        "Warning message:\n",
                        "“package ‘cowplot’ was built under R version 4.2.3”\n"
                    ]
                }
            ],
            "source": [
                "library(ggplot2)\n",
                "library(argparse)\n",
                "library(dplyr)\n",
                "library(cowplot)"
            ]
        },
        {
            "cell_type": "code",
            "execution_count": 2,
            "metadata": {
                "vscode": {
                    "languageId": "r"
                }
            },
            "outputs": [],
            "source": [
                "cell_type <- \"PBMC\""
            ]
        },
        {
            "cell_type": "code",
            "execution_count": 3,
            "metadata": {
                "vscode": {
                    "languageId": "r"
                }
            },
            "outputs": [
                {
                    "data": {
                        "text/html": [
                            "<table class=\"dataframe\">\n",
                            "<caption>A data.frame: 6 × 11</caption>\n",
                            "<thead>\n",
                            "\t<tr><th></th><th scope=col>RI_u</th><th scope=col>RI_v</th><th scope=col>u_k</th><th scope=col>v_k</th><th scope=col>r2</th><th scope=col>Shuffle</th><th scope=col>global_RI_u</th><th scope=col>global_RI_v</th><th scope=col>global_RI_u_v</th><th scope=col>global_min</th><th scope=col>global_max</th></tr>\n",
                            "\t<tr><th></th><th scope=col>&lt;dbl&gt;</th><th scope=col>&lt;dbl&gt;</th><th scope=col>&lt;dbl&gt;</th><th scope=col>&lt;dbl&gt;</th><th scope=col>&lt;dbl&gt;</th><th scope=col>&lt;chr&gt;</th><th scope=col>&lt;dbl&gt;</th><th scope=col>&lt;dbl&gt;</th><th scope=col>&lt;dbl&gt;</th><th scope=col>&lt;dbl&gt;</th><th scope=col>&lt;dbl&gt;</th></tr>\n",
                            "</thead>\n",
                            "<tbody>\n",
                            "\t<tr><th scope=row>1</th><td>-0.10072102</td><td>-0.2090197</td><td>0.03343074</td><td>0.06937660</td><td>-3.012827</td><td>False</td><td>29.76096</td><td>70.23904</td><td>-11.83722</td><td>-0.7257783</td><td>0</td></tr>\n",
                            "\t<tr><th scope=row>2</th><td>-0.05161199</td><td>-0.2765639</td><td>0.01713075</td><td>0.09179548</td><td>-3.012827</td><td>False</td><td>29.76096</td><td>70.23904</td><td>-11.83722</td><td>-0.7257783</td><td>0</td></tr>\n",
                            "\t<tr><th scope=row>3</th><td>-0.05865930</td><td>-0.0583004</td><td>0.01946985</td><td>0.01935073</td><td>-3.012827</td><td>False</td><td>29.76096</td><td>70.23904</td><td>-11.83722</td><td>-0.7257783</td><td>0</td></tr>\n",
                            "\t<tr><th scope=row>4</th><td>-0.33059685</td><td>-0.2476289</td><td>0.10972979</td><td>0.08219154</td><td>-3.012827</td><td>False</td><td>29.76096</td><td>70.23904</td><td>-11.83722</td><td>-0.7257783</td><td>0</td></tr>\n",
                            "\t<tr><th scope=row>5</th><td>-0.03583835</td><td>-0.1446533</td><td>0.01189526</td><td>0.04801248</td><td>-3.012827</td><td>False</td><td>29.76096</td><td>70.23904</td><td>-11.83722</td><td>-0.7257783</td><td>0</td></tr>\n",
                            "\t<tr><th scope=row>6</th><td>-0.07249933</td><td>-0.7257783</td><td>0.02406356</td><td>0.24089613</td><td>-3.012827</td><td>False</td><td>29.76096</td><td>70.23904</td><td>-11.83722</td><td>-0.7257783</td><td>0</td></tr>\n",
                            "</tbody>\n",
                            "</table>\n"
                        ],
                        "text/latex": [
                            "A data.frame: 6 × 11\n",
                            "\\begin{tabular}{r|lllllllllll}\n",
                            "  & RI\\_u & RI\\_v & u\\_k & v\\_k & r2 & Shuffle & global\\_RI\\_u & global\\_RI\\_v & global\\_RI\\_u\\_v & global\\_min & global\\_max\\\\\n",
                            "  & <dbl> & <dbl> & <dbl> & <dbl> & <dbl> & <chr> & <dbl> & <dbl> & <dbl> & <dbl> & <dbl>\\\\\n",
                            "\\hline\n",
                            "\t1 & -0.10072102 & -0.2090197 & 0.03343074 & 0.06937660 & -3.012827 & False & 29.76096 & 70.23904 & -11.83722 & -0.7257783 & 0\\\\\n",
                            "\t2 & -0.05161199 & -0.2765639 & 0.01713075 & 0.09179548 & -3.012827 & False & 29.76096 & 70.23904 & -11.83722 & -0.7257783 & 0\\\\\n",
                            "\t3 & -0.05865930 & -0.0583004 & 0.01946985 & 0.01935073 & -3.012827 & False & 29.76096 & 70.23904 & -11.83722 & -0.7257783 & 0\\\\\n",
                            "\t4 & -0.33059685 & -0.2476289 & 0.10972979 & 0.08219154 & -3.012827 & False & 29.76096 & 70.23904 & -11.83722 & -0.7257783 & 0\\\\\n",
                            "\t5 & -0.03583835 & -0.1446533 & 0.01189526 & 0.04801248 & -3.012827 & False & 29.76096 & 70.23904 & -11.83722 & -0.7257783 & 0\\\\\n",
                            "\t6 & -0.07249933 & -0.7257783 & 0.02406356 & 0.24089613 & -3.012827 & False & 29.76096 & 70.23904 & -11.83722 & -0.7257783 & 0\\\\\n",
                            "\\end{tabular}\n"
                        ],
                        "text/markdown": [
                            "\n",
                            "A data.frame: 6 × 11\n",
                            "\n",
                            "| <!--/--> | RI_u &lt;dbl&gt; | RI_v &lt;dbl&gt; | u_k &lt;dbl&gt; | v_k &lt;dbl&gt; | r2 &lt;dbl&gt; | Shuffle &lt;chr&gt; | global_RI_u &lt;dbl&gt; | global_RI_v &lt;dbl&gt; | global_RI_u_v &lt;dbl&gt; | global_min &lt;dbl&gt; | global_max &lt;dbl&gt; |\n",
                            "|---|---|---|---|---|---|---|---|---|---|---|---|\n",
                            "| 1 | -0.10072102 | -0.2090197 | 0.03343074 | 0.06937660 | -3.012827 | False | 29.76096 | 70.23904 | -11.83722 | -0.7257783 | 0 |\n",
                            "| 2 | -0.05161199 | -0.2765639 | 0.01713075 | 0.09179548 | -3.012827 | False | 29.76096 | 70.23904 | -11.83722 | -0.7257783 | 0 |\n",
                            "| 3 | -0.05865930 | -0.0583004 | 0.01946985 | 0.01935073 | -3.012827 | False | 29.76096 | 70.23904 | -11.83722 | -0.7257783 | 0 |\n",
                            "| 4 | -0.33059685 | -0.2476289 | 0.10972979 | 0.08219154 | -3.012827 | False | 29.76096 | 70.23904 | -11.83722 | -0.7257783 | 0 |\n",
                            "| 5 | -0.03583835 | -0.1446533 | 0.01189526 | 0.04801248 | -3.012827 | False | 29.76096 | 70.23904 | -11.83722 | -0.7257783 | 0 |\n",
                            "| 6 | -0.07249933 | -0.7257783 | 0.02406356 | 0.24089613 | -3.012827 | False | 29.76096 | 70.23904 | -11.83722 | -0.7257783 | 0 |\n",
                            "\n"
                        ],
                        "text/plain": [
                            "  RI_u        RI_v       u_k        v_k        r2        Shuffle global_RI_u\n",
                            "1 -0.10072102 -0.2090197 0.03343074 0.06937660 -3.012827 False   29.76096   \n",
                            "2 -0.05161199 -0.2765639 0.01713075 0.09179548 -3.012827 False   29.76096   \n",
                            "3 -0.05865930 -0.0583004 0.01946985 0.01935073 -3.012827 False   29.76096   \n",
                            "4 -0.33059685 -0.2476289 0.10972979 0.08219154 -3.012827 False   29.76096   \n",
                            "5 -0.03583835 -0.1446533 0.01189526 0.04801248 -3.012827 False   29.76096   \n",
                            "6 -0.07249933 -0.7257783 0.02406356 0.24089613 -3.012827 False   29.76096   \n",
                            "  global_RI_v global_RI_u_v global_min global_max\n",
                            "1 70.23904    -11.83722     -0.7257783 0         \n",
                            "2 70.23904    -11.83722     -0.7257783 0         \n",
                            "3 70.23904    -11.83722     -0.7257783 0         \n",
                            "4 70.23904    -11.83722     -0.7257783 0         \n",
                            "5 70.23904    -11.83722     -0.7257783 0         \n",
                            "6 70.23904    -11.83722     -0.7257783 0         "
                        ]
                    },
                    "metadata": {},
                    "output_type": "display_data"
                }
            ],
            "source": [
                "redundancy_index_plot_not_shuffled_path <- file.path(paste0(\n",
                "    \"../\", \n",
                "    \"figures/\",\n",
                "    cell_type,\n",
                "    \"_redundancy_index_not_shuffled_plot.png\"))\n",
                "\n",
                "redundancy_index_plot_shuffled_path <- file.path(paste0(\n",
                "    \"../\", \n",
                "    \"figures/\",\n",
                "    cell_type,\n",
                "    \"_redundancy_index_shuffled_plot.png\"))\n",
                "\n",
                "# import data\n",
                "redundancy_file_path <- file.path(paste0(\n",
                "    \"../\", \n",
                "    \"results/\",\n",
                "    cell_type,\n",
                "    \"_redundancy_analysis.csv\"))\n",
                "\n",
                "redundancy_df <- read.csv(redundancy_file_path)\n",
                "head(redundancy_df)"
            ]
        },
        {
            "cell_type": "markdown",
            "metadata": {},
            "source": [
                "### Plot of Redundancy Index"
            ]
        },
        {
            "cell_type": "code",
            "execution_count": 4,
            "metadata": {
                "vscode": {
                    "languageId": "r"
                }
            },
            "outputs": [],
            "source": [
                "# change True to Shuffled data via mutate\n",
                "redundancy_df <- redundancy_df %>% mutate(Shuffle = ifelse(Shuffle == \"True\", \"Shuffled\", \"Not Shuffled\"))\n",
                "minimum_value <- min(redundancy_df$RI_u, redundancy_df$RI_v)\n",
                "maximum_value <- max(redundancy_df$RI_u, redundancy_df$RI_v)\n",
                "# shuffle = True df\n",
                "shuffle_df <- redundancy_df[redundancy_df$Shuffle == \"Shuffled\",]\n",
                "shuffle_min <- min(shuffle_df$RI_u, shuffle_df$RI_v)\n",
                "shuffle_max <- max(shuffle_df$RI_u, shuffle_df$RI_v)\n",
                "# shuffle = False df\n",
                "no_shuffle_df <- redundancy_df[redundancy_df$Shuffle == \"Not Shuffled\",]\n",
                "no_shuffle_min <- min(no_shuffle_df$RI_u, no_shuffle_df$RI_v)\n",
                "no_shuffle_max <- max(no_shuffle_df$RI_u, no_shuffle_df$RI_v)\n"
            ]
        },
        {
            "cell_type": "code",
            "execution_count": 5,
            "metadata": {
                "vscode": {
                    "languageId": "r"
                }
            },
            "outputs": [],
            "source": [
                "# set cutoff for axis break\n",
                "yticks_shuffle <- c(-1000,-100,-50,-10)\n",
                "# function to transform data to y position\n",
                "trans <- function(x){pmin(x,40) + 0.05*pmax(x-40,0)}"
            ]
        },
        {
            "cell_type": "markdown",
            "metadata": {},
            "source": [
                "### shuffled data plot"
            ]
        },
        {
            "cell_type": "code",
            "execution_count": 6,
            "metadata": {
                "vscode": {
                    "languageId": "r"
                }
            },
            "outputs": [],
            "source": [
                "RI_plot_inset_shuffle <- (\n",
                "    ggplot(shuffle_df, aes(x=RI_u, y=RI_v, color=Shuffle))\n",
                "    + geom_point()\n",
                "    + theme_bw()\n",
                "    + xlim(shuffle_min, shuffle_max)\n",
                "    + ylim(shuffle_min, shuffle_max)\n",
                "    + xlab(\"Morphology Data Redundancy Index\")\n",
                "    + ylab(\"nELISA Data Redundancy Index\")\n",
                "    + geom_abline(intercept = 0, slope = 1)\n",
                "    + ggtitle(\"Redundancy Index Plot of \\nMorphology and nELISA Data\")\n",
                "    + theme(\n",
                "        axis.title.x = element_text(size = 16),\n",
                "        axis.title.y = element_text(size = 16),\n",
                "        axis.text.x = element_text(size = 14),\n",
                "        axis.text.y = element_text(size = 14),\n",
                "        legend.text = element_text(size = 14),\n",
                "        legend.title = element_text(size = 14),\n",
                "        plot.title = element_text(size = 20, hjust = 0.5)\n",
                "\n",
                "    )\n",
                "\n",
                ")"
            ]
        },
        {
            "cell_type": "code",
            "execution_count": 7,
            "metadata": {
                "vscode": {
                    "languageId": "r"
                }
            },
            "outputs": [
                {
                    "name": "stderr",
                    "output_type": "stream",
                    "text": [
                        "Warning message:\n",
                        "“\u001b[1m\u001b[22mRemoved 6 rows containing missing values (`geom_point()`).”\n"
                    ]
                }
            ],
            "source": [
                "RI_plot_w_inset <- (\n",
                "    ggplot(shuffle_df, aes(x=RI_u, y=RI_v, color=Shuffle))\n",
                "    + geom_point()\n",
                "    + theme_bw()\n",
                "    + xlim(-50, shuffle_max)\n",
                "    + ylim(-600, shuffle_max)\n",
                "    + geom_abline(intercept = 0, slope = 1)\n",
                "    + theme(\n",
                "        axis.title.x = element_text(size = 16),\n",
                "        axis.title.y = element_text(size = 16),\n",
                "        axis.text.x = element_text(size = 14),\n",
                "        axis.text.y = element_text(size = 14),\n",
                "        legend.text = element_text(size = 14),\n",
                "        legend.title = element_text(size = 14),\n",
                "        plot.title = element_text(size = 20, hjust = 0.5)\n",
                "\n",
                ")\n",
                ")\n",
                "# drop legend\n",
                "RI_plot_inset_shuffle <- RI_plot_inset_shuffle + theme(legend.position = \"none\")\n",
                "# drop axis labels\n",
                "RI_plot_w_inset <- RI_plot_w_inset + theme(axis.title.x = element_blank(), axis.title.y = element_blank())\n",
                "RI_plot_w_inset <- RI_plot_w_inset + theme(legend.position = \"none\")\n",
                "new_plot<- (\n",
                "  ggdraw() \n",
                "  + draw_plot(RI_plot_inset_shuffle)\n",
                "  + draw_plot(RI_plot_w_inset, x = 0.12, y = 0.57, width = 0.3, height = 0.3)\n",
                ")\n",
                "ggsave(redundancy_index_plot_shuffled_path, width = 8, height = 8)\n"
            ]
        },
        {
            "cell_type": "markdown",
            "metadata": {},
            "source": [
                "### non shuffled data plot"
            ]
        },
        {
            "cell_type": "code",
            "execution_count": 8,
            "metadata": {
                "vscode": {
                    "languageId": "r"
                }
            },
            "outputs": [],
            "source": [
                "RI_plot_no_shuffle <- (\n",
                "    ggplot(no_shuffle_df, aes(x=RI_u, y=RI_v, color=Shuffle))\n",
                "    + geom_point()\n",
                "    + theme_bw()\n",
                "    + xlim(no_shuffle_min, no_shuffle_max)\n",
                "    + ylim(no_shuffle_min, no_shuffle_max)\n",
                "    + xlab(\"Morphology Data Redundancy Index\")\n",
                "    + ylab(\"nELISA Data Redundancy Index\")\n",
                "    + geom_abline(intercept = 0, slope = 1)\n",
                "    + ggtitle(\"Redundancy Index Plot of \\nMorphology and nELISA Data\")\n",
                "    # change color of points to blue\n",
                "    + scale_color_manual(values = c(\"blue\"))\n",
                "    + theme(\n",
                "        axis.title.x = element_text(size = 16),\n",
                "        axis.title.y = element_text(size = 16),\n",
                "        axis.text.x = element_text(size = 16),\n",
                "        axis.text.y = element_text(size = 16),\n",
                "        legend.text = element_text(size = 16),\n",
                "        legend.title = element_text(size = 16),\n",
                "        plot.title = element_text(size = 20, hjust = 0.5)\n",
                "\n",
                "    )\n",
                ")"
            ]
        },
        {
            "cell_type": "code",
            "execution_count": 9,
            "metadata": {
                "vscode": {
                    "languageId": "r"
                }
            },
            "outputs": [],
            "source": [
                "RI_plot_inset_no_shuffle <- (\n",
                "    ggplot(no_shuffle_df, aes(x=RI_u, y=RI_v, color=Shuffle))\n",
                "    + geom_point()\n",
                "    + theme_bw()\n",
                "    + xlim(-0.1, no_shuffle_max)\n",
                "    + ylim(-0.1, no_shuffle_max)\n",
                "    + xlab(\"Morphology Data Redundancy Index\")\n",
                "    + ylab(\"nELISA Data Redundancy Index\")\n",
                "    + geom_abline(intercept = 0, slope = 1)\n",
                "    # change color of points to blue\n",
                "    + scale_color_manual(values = c(\"blue\"))\n",
                "    + theme(\n",
                "        axis.title.x = element_text(size = 1),\n",
                "        axis.title.y = element_text(size = 16),\n",
                "        axis.text.x = element_text(size = 12, angle = 45, hjust = 1),\n",
                "        axis.text.y = element_text(size = 12),\n",
                "        legend.text = element_text(size = 16),\n",
                "        legend.title = element_text(size = 16),\n",
                "        plot.title = element_text(size = 20, hjust = 0.5)\n",
                "    )\n",
                ")"
            ]
        },
        {
            "cell_type": "code",
            "execution_count": 10,
            "metadata": {
                "vscode": {
                    "languageId": "r"
                }
            },
            "outputs": [
                {
                    "name": "stderr",
                    "output_type": "stream",
                    "text": [
                        "Warning message:\n",
                        "“\u001b[1m\u001b[22mRemoved 18 rows containing missing values (`geom_point()`).”\n"
                    ]
                }
            ],
            "source": [
                "# drop legend\n",
                "RI_plot_no_shuffle <- RI_plot_no_shuffle + theme(legend.position = \"none\")\n",
                "# drop axis labels\n",
                "RI_plot_inset_no_shuffle <- RI_plot_inset_no_shuffle + theme(axis.title.x = element_blank(), axis.title.y = element_blank())\n",
                "RI_plot_inset_no_shuffle <- RI_plot_inset_no_shuffle + theme(legend.position = \"none\")\n",
                "new_plot<- (\n",
                "  ggdraw() \n",
                "  + draw_plot(RI_plot_no_shuffle)\n",
                "  + draw_plot(RI_plot_inset_no_shuffle, x = 0.12, y = 0.57, width = 0.3, height = 0.3)\n",
                ")\n",
                "ggsave(redundancy_index_plot_not_shuffled_path, width = 8, height = 8)"
            ]
        }
    ],
    "metadata": {
        "kernelspec": {
            "display_name": "R",
            "language": "R",
            "name": "ir"
        },
        "language_info": {
            "codemirror_mode": "r",
            "file_extension": ".r",
            "mimetype": "text/x-r-source",
            "name": "R",
            "pygments_lexer": "r",
            "version": "4.2.2"
        },
        "orig_nbformat": 4
    },
    "nbformat": 4,
    "nbformat_minor": 2
}
