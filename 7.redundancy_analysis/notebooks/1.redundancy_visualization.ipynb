{
    "cells": [
        {
            "cell_type": "code",
            "execution_count": 2,
            "metadata": {
                "vscode": {
                    "languageId": "r"
                }
            },
            "outputs": [
                {
                    "name": "stderr",
                    "output_type": "stream",
                    "text": [
                        "Warning message:\n",
                        "\u201cpackage \u2018argparse\u2019 was built under R version 4.2.3\u201d\n"
                    ]
                }
            ],
            "source": [
                "library(ggplot2)\n",
                "library(argparse)"
            ]
        },
        {
            "cell_type": "code",
            "execution_count": null,
            "metadata": {
                "vscode": {
                    "languageId": "r"
                }
            },
            "outputs": [],
            "source": [
                "# set up argument parser\n",
                "parser <- ArgumentParser(description = \"Plot redundancy of a set of sequences\")\n",
                "parser$add_argument(\"-c\", \"--cell_type\", help = \"Cell_type\", required = TRUE)\n",
                "\n",
                "# parse arguments\n",
                "args <- parser$parse_args()\n",
                "\n",
                "cell_type <- args$cell_type"
            ]
        },
        {
            "cell_type": "code",
            "execution_count": null,
            "metadata": {
                "vscode": {
                    "languageId": "r"
                }
            },
            "outputs": [],
            "source": [
                "# define output fraph paths\n",
                "skree_plot_path <- file.path(paste0(\"../figures/\", cell_type, \"_skree_plot.png\"))\n",
                "redundancy_index_plot_path <- file.path(paste0(\"../figures/\", cell_type, \"_redundancy_index_plot.png\"))"
            ]
        },
        {
            "cell_type": "code",
            "execution_count": null,
            "metadata": {
                "vscode": {
                    "languageId": "r"
                }
            },
            "outputs": [],
            "source": [
                "redundancy_file_path <- file.path(paste0(\n",
                "    \"../\", \n",
                "    \"results/\",\n",
                "    cell_type,\n",
                "    \"_redundancy_analysis.csv\"))\n",
                "\n",
                "redundancy_df <- read.csv(redundancy_file_path)\n",
                "head(redundancy_df)\n"
            ]
        },
        {
            "cell_type": "markdown",
            "metadata": {},
            "source": [
                "### Skree plot of R2 vs K"
            ]
        },
        {
            "cell_type": "code",
            "execution_count": null,
            "metadata": {
                "vscode": {
                    "languageId": "r"
                }
            },
            "outputs": [],
            "source": [
                "# ggplot visualization for redundancy analysis line plot \n",
                "line_plot <- (\n",
                "    ggplot(redundancy_df, aes(x=K, y=r2, color=Shuffle))\n",
                "    + geom_line() \n",
                "    + theme_bw()\n",
                "    + ylim(-1,1)\n",
                "    + labs(x=\"Components (K)\", y=\"R2\")\n",
                "    + ggtitle(\"Scree Plot for \\nCanonical Correlation Analysis \\nComponents (K)\")\n",
                "    + theme(plot.title = element_text(hjust = 0.5, size=20),\n",
                "            legend.title = element_blank(),\n",
                "            legend.text = element_text(size=14),\n",
                "            axis.text.x = element_text(size=14),\n",
                "            axis.text.y = element_text(size=14),\n",
                "            axis.title.x = element_text(size=14),\n",
                "            axis.title.y = element_text(size=14)\n",
                "    )\n",
                "\n",
                ")\n",
                "ggsave(skree_plot_path, line_plot, width=10, height=8, dpi=600)\n"
            ]
        },
        {
            "cell_type": "code",
            "execution_count": null,
            "metadata": {
                "vscode": {
                    "languageId": "r"
                }
            },
            "outputs": [],
            "source": [
                "# read in the redundancy index results\n",
                "\n",
                "# set path \n",
                "redundancy_index_file_path <- file.path(paste0(\n",
                "    \"../\", \n",
                "    \"results/\",\n",
                "    cell_type,\n",
                "    \"_redundancy_index.csv\"))\n",
                "\n",
                "# read in the redundancy index results\n",
                "redundancy_index_df <- read.csv(redundancy_index_file_path)\n",
                "head(redundancy_index_df)\n"
            ]
        },
        {
            "cell_type": "code",
            "execution_count": null,
            "metadata": {
                "vscode": {
                    "languageId": "r"
                }
            },
            "outputs": [],
            "source": [
                "# find the min and max redundancy index for each K\n",
                "minimum_value = min(min(redundancy_index_df$u_k_RI),min(redundancy_index_df$v_k_RI))\n",
                "maximum_value = max(max(redundancy_index_df$u_k_RI),max(redundancy_index_df$v_k_RI))"
            ]
        },
        {
            "cell_type": "code",
            "execution_count": null,
            "metadata": {
                "vscode": {
                    "languageId": "r"
                }
            },
            "outputs": [],
            "source": [
                "RI_plot <- (\n",
                "    ggplot(redundancy_index_df, aes(x=u_k_RI, y=v_k_RI, color=Shuffle))\n",
                "    + geom_point()\n",
                "    + theme_bw()\n",
                "    + xlim(minimum_value, maximum_value)\n",
                "    + ylim(minimum_value, maximum_value)\n",
                "    + xlab(\"Morphology Data Redundancy Index\")\n",
                "    + ylab(\"nELISA Data Redundancy Index\")\n",
                "    + geom_abline(intercept = 0, slope = 1)\n",
                "    + ggtitle(\"Redundancy Index Plot of \\nMorphology and nELISA Data\")\n",
                "    + theme(\n",
                "        axis.title.x = element_text(size = 16),\n",
                "        axis.title.y = element_text(size = 16),\n",
                "        axis.text.x = element_text(size = 14),\n",
                "        axis.text.y = element_text(size = 14),\n",
                "        legend.text = element_text(size = 14),\n",
                "        legend.title = element_text(size = 14),\n",
                "        plot.title = element_text(size = 20, hjust = 0.5)\n",
                "\n",
                "    )\n",
                "\n",
                ")\n",
                "ggsave(redundancy_index_plot_path, RI_plot, width=10, height=8, dpi=600)"
            ]
        }
    ],
    "metadata": {
        "kernelspec": {
            "display_name": "R",
            "language": "R",
            "name": "ir"
        },
        "language_info": {
            "codemirror_mode": "r",
            "file_extension": ".r",
            "mimetype": "text/x-r-source",
            "name": "R",
            "pygments_lexer": "r",
            "version": "4.2.2"
        },
        "orig_nbformat": 4
    },
    "nbformat": 4,
    "nbformat_minor": 2
}
