{
    "cells": [
        {
            "cell_type": "code",
            "execution_count": 37,
            "metadata": {},
            "outputs": [],
            "source": [
                "import pathlib\n",
                "\n",
                "import matplotlib.pyplot as plt\n",
                "import numpy as np\n",
                "import pandas as pd\n",
                "import seaborn as sns\n",
                "from numpy.linalg import qr, svd\n",
                "from sklearn.cross_decomposition import CCA\n",
                "from sklearn.metrics import r2_score\n",
                "from sklearn.preprocessing import StandardScaler\n",
                "from tqdm import tqdm"
            ]
        },
        {
            "cell_type": "code",
            "execution_count": 38,
            "metadata": {},
            "outputs": [],
            "source": [
                "# Parameters\n",
                "cell_type = \"PBMC\"\n",
                "Shuffle = False"
            ]
        },
        {
            "cell_type": "code",
            "execution_count": 39,
            "metadata": {},
            "outputs": [],
            "source": [
                "# set paths to data\n",
                "morphology_data_path = pathlib.Path(\n",
                "    f\"../../data/{cell_type}_preprocessed_sc_norm_aggregated.parquet\"\n",
                ").resolve(strict=True)\n",
                "nomic_data_path = pathlib.Path(\n",
                "    f\"../../2.Nomic_nELISA_Analysis/Data/clean/Plate2/nELISA_plate_430420_{cell_type}_clean.parquet\"\n",
                ").resolve(strict=True)\n",
                "\n",
                "# output path\n",
                "results_file_path = pathlib.Path(f\"../results/{cell_type}_redundancy_analysis.csv\")\n",
                "results_file_path.parent.mkdir(parents=True, exist_ok=True)\n",
                "\n",
                "# read data\n",
                "morphology_data = pd.read_parquet(morphology_data_path)\n",
                "nomic_data = pd.read_parquet(nomic_data_path)"
            ]
        },
        {
            "cell_type": "code",
            "execution_count": 40,
            "metadata": {},
            "outputs": [],
            "source": [
                "# get the columns that contain metadata\n",
                "morphology_metadata = morphology_data[\n",
                "    morphology_data.columns[morphology_data.columns.str.contains(\"Metadata\")]\n",
                "]\n",
                "morphology_data = morphology_data.drop(morphology_metadata.columns, axis=1)\n",
                "\n",
                "nomic_data_values = nomic_data[\n",
                "    nomic_data.columns[nomic_data.columns.str.contains(\"[NSU]\", regex=True)]\n",
                "]\n",
                "nomic_metadata = nomic_data.drop(nomic_data_values.columns, axis=1)"
            ]
        },
        {
            "cell_type": "code",
            "execution_count": 41,
            "metadata": {},
            "outputs": [],
            "source": [
                "# standardize the data for nomic standard scalar\n",
                "scaler = StandardScaler()\n",
                "nomic_data_values = scaler.fit_transform(nomic_data_values)\n",
                "nomic_data_values = pd.DataFrame(\n",
                "    nomic_data_values,\n",
                "    columns=nomic_data.columns[nomic_data.columns.str.contains(\"[NSU]\", regex=True)],\n",
                ")"
            ]
        },
        {
            "cell_type": "code",
            "execution_count": 42,
            "metadata": {},
            "outputs": [],
            "source": [
                "# shuffle the data both rows and columns\n",
                "if Shuffle:\n",
                "    for column in nomic_data_values:\n",
                "        np.random.shuffle(nomic_data_values[column].values)\n",
                "    for column in morphology_data:\n",
                "        np.random.shuffle(morphology_data[column].values)"
            ]
        },
        {
            "cell_type": "markdown",
            "metadata": {},
            "source": [
                "### Variables\n",
                "$Y_{M \\times P} = MorphologyData$  \n",
                "$X_{N \\times Q} = NomicData$  \n",
                "Where  \n",
                "$M = Rows of MorphologyData$  \n",
                "$P = Columns of MorphologyData$  \n",
                "$N = Rows of NomicData$  \n",
                "$Q = Columns of NomicData$  "
            ]
        },
        {
            "cell_type": "code",
            "execution_count": 43,
            "metadata": {},
            "outputs": [
                {
                    "name": "stdout",
                    "output_type": "stream",
                    "text": [
                        "N: 154 P: 1245 Q: 187\n",
                        "K: 154\n"
                    ]
                }
            ],
            "source": [
                "# define the variables\n",
                "N = morphology_data.shape[0]\n",
                "P = morphology_data.shape[1]\n",
                "\n",
                "N = nomic_data_values.shape[0]\n",
                "Q = nomic_data_values.shape[1]\n",
                "print(\"N:\", N, \"P:\", P, \"Q:\", Q)\n",
                "K = min(N, P, Q)\n",
                "print(\"K:\", K)\n",
                "\n",
                "# Define dfs\n",
                "X = morphology_data\n",
                "Y = nomic_data_values"
            ]
        },
        {
            "cell_type": "code",
            "execution_count": 44,
            "metadata": {},
            "outputs": [],
            "source": [
                "# rewrite the dcorr functionsin python\n",
                "\n",
                "\n",
                "def dcorr(X: pd.DataFrame, Y: pd.DataFrame):\n",
                "    X"
            ]
        },
        {
            "cell_type": "code",
            "execution_count": 45,
            "metadata": {},
            "outputs": [
                {
                    "ename": "ValueError",
                    "evalue": "Dot product shape mismatch, (154, 1245) vs (154, 1245)",
                    "output_type": "error",
                    "traceback": [
                        "\u001b[0;31m---------------------------------------------------------------------------\u001b[0m",
                        "\u001b[0;31mValueError\u001b[0m                                Traceback (most recent call last)",
                        "\u001b[0;32m/tmp/ipykernel_1365918/191704530.py\u001b[0m in \u001b[0;36m?\u001b[0;34m()\u001b[0m\n\u001b[1;32m     18\u001b[0m \u001b[0;31m# A[iX, :] = A\u001b[0m\u001b[0;34m\u001b[0m\u001b[0;34m\u001b[0m\u001b[0m\n\u001b[1;32m     19\u001b[0m \u001b[0;31m# B[iY, :] = B\u001b[0m\u001b[0;34m\u001b[0m\u001b[0;34m\u001b[0m\u001b[0m\n\u001b[1;32m     20\u001b[0m \u001b[0;34m\u001b[0m\u001b[0m\n\u001b[1;32m     21\u001b[0m \u001b[0;31m# Compute U and V\u001b[0m\u001b[0;34m\u001b[0m\u001b[0;34m\u001b[0m\u001b[0m\n\u001b[0;32m---> 22\u001b[0;31m \u001b[0mU\u001b[0m \u001b[0;34m=\u001b[0m \u001b[0mX\u001b[0m \u001b[0;34m@\u001b[0m \u001b[0mA\u001b[0m\u001b[0;34m\u001b[0m\u001b[0;34m\u001b[0m\u001b[0m\n\u001b[0m\u001b[1;32m     23\u001b[0m \u001b[0mV\u001b[0m \u001b[0;34m=\u001b[0m \u001b[0mY\u001b[0m \u001b[0;34m@\u001b[0m \u001b[0mB\u001b[0m\u001b[0;34m\u001b[0m\u001b[0;34m\u001b[0m\u001b[0m\n",
                        "\u001b[0;32m~/miniconda3/envs/Interstellar/lib/python3.10/site-packages/pandas/core/frame.py\u001b[0m in \u001b[0;36m?\u001b[0;34m(self, other)\u001b[0m\n\u001b[1;32m   1630\u001b[0m     \u001b[0;32mdef\u001b[0m \u001b[0m__matmul__\u001b[0m\u001b[0;34m(\u001b[0m\u001b[0mself\u001b[0m\u001b[0;34m,\u001b[0m \u001b[0mother\u001b[0m\u001b[0;34m:\u001b[0m \u001b[0mAnyArrayLike\u001b[0m \u001b[0;34m|\u001b[0m \u001b[0mDataFrame\u001b[0m\u001b[0;34m)\u001b[0m \u001b[0;34m->\u001b[0m \u001b[0mDataFrame\u001b[0m \u001b[0;34m|\u001b[0m \u001b[0mSeries\u001b[0m\u001b[0;34m:\u001b[0m\u001b[0;34m\u001b[0m\u001b[0;34m\u001b[0m\u001b[0m\n\u001b[1;32m   1631\u001b[0m         \"\"\"\n\u001b[1;32m   1632\u001b[0m         \u001b[0mMatrix\u001b[0m \u001b[0mmultiplication\u001b[0m \u001b[0musing\u001b[0m \u001b[0mbinary\u001b[0m\u001b[0;31m \u001b[0m\u001b[0;31m`\u001b[0m\u001b[0;34m@\u001b[0m\u001b[0;31m`\u001b[0m \u001b[0moperator\u001b[0m \u001b[0;32min\u001b[0m \u001b[0mPython\u001b[0m\u001b[0;34m>=\u001b[0m\u001b[0;36m3.5\u001b[0m\u001b[0;34m.\u001b[0m\u001b[0;34m\u001b[0m\u001b[0;34m\u001b[0m\u001b[0m\n\u001b[1;32m   1633\u001b[0m         \"\"\"\n\u001b[0;32m-> 1634\u001b[0;31m         \u001b[0;32mreturn\u001b[0m \u001b[0mself\u001b[0m\u001b[0;34m.\u001b[0m\u001b[0mdot\u001b[0m\u001b[0;34m(\u001b[0m\u001b[0mother\u001b[0m\u001b[0;34m)\u001b[0m\u001b[0;34m\u001b[0m\u001b[0;34m\u001b[0m\u001b[0m\n\u001b[0m",
                        "\u001b[0;32m~/miniconda3/envs/Interstellar/lib/python3.10/site-packages/pandas/core/frame.py\u001b[0m in \u001b[0;36m?\u001b[0;34m(self, other)\u001b[0m\n\u001b[1;32m   1599\u001b[0m             \u001b[0mleft\u001b[0m \u001b[0;34m=\u001b[0m \u001b[0mself\u001b[0m\u001b[0;34m\u001b[0m\u001b[0;34m\u001b[0m\u001b[0m\n\u001b[1;32m   1600\u001b[0m             \u001b[0mlvals\u001b[0m \u001b[0;34m=\u001b[0m \u001b[0mself\u001b[0m\u001b[0;34m.\u001b[0m\u001b[0mvalues\u001b[0m\u001b[0;34m\u001b[0m\u001b[0;34m\u001b[0m\u001b[0m\n\u001b[1;32m   1601\u001b[0m             \u001b[0mrvals\u001b[0m \u001b[0;34m=\u001b[0m \u001b[0mnp\u001b[0m\u001b[0;34m.\u001b[0m\u001b[0masarray\u001b[0m\u001b[0;34m(\u001b[0m\u001b[0mother\u001b[0m\u001b[0;34m)\u001b[0m\u001b[0;34m\u001b[0m\u001b[0;34m\u001b[0m\u001b[0m\n\u001b[1;32m   1602\u001b[0m             \u001b[0;32mif\u001b[0m \u001b[0mlvals\u001b[0m\u001b[0;34m.\u001b[0m\u001b[0mshape\u001b[0m\u001b[0;34m[\u001b[0m\u001b[0;36m1\u001b[0m\u001b[0;34m]\u001b[0m \u001b[0;34m!=\u001b[0m \u001b[0mrvals\u001b[0m\u001b[0;34m.\u001b[0m\u001b[0mshape\u001b[0m\u001b[0;34m[\u001b[0m\u001b[0;36m0\u001b[0m\u001b[0;34m]\u001b[0m\u001b[0;34m:\u001b[0m\u001b[0;34m\u001b[0m\u001b[0;34m\u001b[0m\u001b[0m\n\u001b[0;32m-> 1603\u001b[0;31m                 raise ValueError(\n\u001b[0m\u001b[1;32m   1604\u001b[0m                     \u001b[0;34mf\"Dot product shape mismatch, {lvals.shape} vs {rvals.shape}\"\u001b[0m\u001b[0;34m\u001b[0m\u001b[0;34m\u001b[0m\u001b[0m\n\u001b[1;32m   1605\u001b[0m                 )\n\u001b[1;32m   1606\u001b[0m \u001b[0;34m\u001b[0m\u001b[0m\n",
                        "\u001b[0;31mValueError\u001b[0m: Dot product shape mismatch, (154, 1245) vs (154, 1245)"
                    ]
                }
            ],
            "source": [
                "# Perform QR decomposition on X and Y\n",
                "Qx, Rx = qr(X)\n",
                "Qy, Ry = qr(Y)\n",
                "\n",
                "# Compute the SVD of Qx' * Qy\n",
                "k = min(X.shape[1], Y.shape[1], X.shape[0])\n",
                "L, D, M = svd(Qx.T @ Qy, full_matrices=False)\n",
                "\n",
                "# Compute A and B\n",
                "df = X.shape[0] - 1\n",
                "A = np.linalg.solve(L[:, :k], Rx) * np.sqrt(df)\n",
                "df = Y.shape[0] - 1\n",
                "B = np.linalg.solve(M[:, :k], Ry) * np.sqrt(df)\n",
                "# Compute cc\n",
                "cc = np.clip(np.diag(D[:k]), 0, 1)\n",
                "\n",
                "# # Update A and B with iX and iY\n",
                "# A[iX, :] = A\n",
                "# B[iY, :] = B\n",
                "\n",
                "# Compute U and V\n",
                "U = X @ A\n",
                "V = Y @ B"
            ]
        },
        {
            "cell_type": "code",
            "execution_count": null,
            "metadata": {},
            "outputs": [],
            "source": []
        },
        {
            "cell_type": "code",
            "execution_count": null,
            "metadata": {},
            "outputs": [],
            "source": []
        }
    ],
    "metadata": {
        "kernelspec": {
            "display_name": "Interstellar",
            "language": "python",
            "name": "python3"
        },
        "language_info": {
            "codemirror_mode": {
                "name": "ipython",
                "version": 3
            },
            "file_extension": ".py",
            "mimetype": "text/x-python",
            "name": "python",
            "nbconvert_exporter": "python",
            "pygments_lexer": "ipython3",
            "version": "3.10.12"
        },
        "orig_nbformat": 4
    },
    "nbformat": 4,
    "nbformat_minor": 2
}
