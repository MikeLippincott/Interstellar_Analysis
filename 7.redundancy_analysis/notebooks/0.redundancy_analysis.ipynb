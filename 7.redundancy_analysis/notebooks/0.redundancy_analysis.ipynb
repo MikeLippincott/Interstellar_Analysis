{
    "cells": [
        {
            "cell_type": "markdown",
            "id": "14a206ff",
            "metadata": {
                "papermill": {
                    "duration": 0.002217,
                    "end_time": "2023-11-01T17:36:52.287720",
                    "exception": false,
                    "start_time": "2023-11-01T17:36:52.285503",
                    "status": "completed"
                },
                "tags": []
            },
            "source": [
                "# Canonical Correlation Analysis (CCA)\n",
                "Here I calculate the Canonical Correlation Coefficients and the canonical variables for the two datasets. \n",
                "I also plot the correlation coefficients and the canonical variables."
            ]
        },
        {
            "cell_type": "code",
            "execution_count": 17,
            "id": "87720c69",
            "metadata": {
                "execution": {
                    "iopub.execute_input": "2023-11-01T17:36:52.291799Z",
                    "iopub.status.busy": "2023-11-01T17:36:52.291493Z",
                    "iopub.status.idle": "2023-11-01T17:36:52.851217Z",
                    "shell.execute_reply": "2023-11-01T17:36:52.850895Z"
                },
                "papermill": {
                    "duration": 0.562742,
                    "end_time": "2023-11-01T17:36:52.852170",
                    "exception": false,
                    "start_time": "2023-11-01T17:36:52.289428",
                    "status": "completed"
                },
                "tags": []
            },
            "outputs": [],
            "source": [
                "import pathlib\n",
                "\n",
                "import matplotlib.pyplot as plt\n",
                "import numpy as np\n",
                "import pandas as pd\n",
                "import seaborn as sns\n",
                "from sklearn.cross_decomposition import CCA\n",
                "from sklearn.metrics import r2_score\n",
                "from sklearn.preprocessing import StandardScaler\n",
                "from tqdm import tqdm"
            ]
        },
        {
            "cell_type": "code",
            "execution_count": 18,
            "id": "69cabaa6",
            "metadata": {
                "execution": {
                    "iopub.execute_input": "2023-11-01T17:36:52.858008Z",
                    "iopub.status.busy": "2023-11-01T17:36:52.857575Z",
                    "iopub.status.idle": "2023-11-01T17:36:52.859597Z",
                    "shell.execute_reply": "2023-11-01T17:36:52.859342Z"
                },
                "papermill": {
                    "duration": 0.005309,
                    "end_time": "2023-11-01T17:36:52.860197",
                    "exception": false,
                    "start_time": "2023-11-01T17:36:52.854888",
                    "status": "completed"
                },
                "tags": [
                    "injected-parameters"
                ]
            },
            "outputs": [],
            "source": [
                "# Parameters\n",
                "cell_type = \"PBMC\"\n",
                "Shuffle = False"
            ]
        },
        {
            "cell_type": "code",
            "execution_count": 19,
            "id": "4b1e3226",
            "metadata": {
                "execution": {
                    "iopub.execute_input": "2023-11-01T17:36:52.864045Z",
                    "iopub.status.busy": "2023-11-01T17:36:52.863779Z",
                    "iopub.status.idle": "2023-11-01T17:36:53.000477Z",
                    "shell.execute_reply": "2023-11-01T17:36:53.000164Z"
                },
                "papermill": {
                    "duration": 0.139771,
                    "end_time": "2023-11-01T17:36:53.001573",
                    "exception": false,
                    "start_time": "2023-11-01T17:36:52.861802",
                    "status": "completed"
                },
                "tags": []
            },
            "outputs": [],
            "source": [
                "# set paths to data\n",
                "morphology_data_path = pathlib.Path(\n",
                "    f\"../../data/{cell_type}_preprocessed_sc_norm_aggregated.parquet\"\n",
                ").resolve(strict=True)\n",
                "nomic_data_path = pathlib.Path(\n",
                "    f\"../../2.Nomic_nELISA_Analysis/Data/clean/Plate2/nELISA_plate_430420_{cell_type}_clean.parquet\"\n",
                ").resolve(strict=True)\n",
                "\n",
                "# output path\n",
                "results_file_path = pathlib.Path(f\"../results/{cell_type}_redundancy_analysis.csv\")\n",
                "results_file_path.parent.mkdir(parents=True, exist_ok=True)\n",
                "\n",
                "# read data\n",
                "morphology_data = pd.read_parquet(morphology_data_path)\n",
                "nomic_data = pd.read_parquet(nomic_data_path)"
            ]
        },
        {
            "cell_type": "code",
            "execution_count": 20,
            "id": "198b1de1",
            "metadata": {
                "execution": {
                    "iopub.execute_input": "2023-11-01T17:36:53.006003Z",
                    "iopub.status.busy": "2023-11-01T17:36:53.005570Z",
                    "iopub.status.idle": "2023-11-01T17:36:53.010002Z",
                    "shell.execute_reply": "2023-11-01T17:36:53.009761Z"
                },
                "papermill": {
                    "duration": 0.007311,
                    "end_time": "2023-11-01T17:36:53.010764",
                    "exception": false,
                    "start_time": "2023-11-01T17:36:53.003453",
                    "status": "completed"
                },
                "tags": []
            },
            "outputs": [],
            "source": [
                "# get the columns that contain metadata\n",
                "morphology_metadata = morphology_data[\n",
                "    morphology_data.columns[morphology_data.columns.str.contains(\"Metadata\")]\n",
                "]\n",
                "morphology_data = morphology_data.drop(morphology_metadata.columns, axis=1)\n",
                "\n",
                "nomic_data_values = nomic_data[\n",
                "    nomic_data.columns[nomic_data.columns.str.contains(\"[NSU]\", regex=True)]\n",
                "]\n",
                "nomic_metadata = nomic_data.drop(nomic_data_values.columns, axis=1)"
            ]
        },
        {
            "cell_type": "code",
            "execution_count": 21,
            "id": "35e68936",
            "metadata": {
                "execution": {
                    "iopub.execute_input": "2023-11-01T17:36:53.014756Z",
                    "iopub.status.busy": "2023-11-01T17:36:53.014497Z",
                    "iopub.status.idle": "2023-11-01T17:36:53.019092Z",
                    "shell.execute_reply": "2023-11-01T17:36:53.018836Z"
                },
                "papermill": {
                    "duration": 0.007281,
                    "end_time": "2023-11-01T17:36:53.019808",
                    "exception": false,
                    "start_time": "2023-11-01T17:36:53.012527",
                    "status": "completed"
                },
                "tags": []
            },
            "outputs": [],
            "source": [
                "# standardize the data for nomic standard scalar\n",
                "scaler = StandardScaler()\n",
                "nomic_data_values = scaler.fit_transform(nomic_data_values)\n",
                "nomic_data_values = pd.DataFrame(\n",
                "    nomic_data_values,\n",
                "    columns=nomic_data.columns[nomic_data.columns.str.contains(\"[NSU]\", regex=True)],\n",
                ")"
            ]
        },
        {
            "cell_type": "code",
            "execution_count": 22,
            "id": "32bd2773",
            "metadata": {
                "execution": {
                    "iopub.execute_input": "2023-11-01T17:36:53.023815Z",
                    "iopub.status.busy": "2023-11-01T17:36:53.023498Z",
                    "iopub.status.idle": "2023-11-01T17:36:53.025792Z",
                    "shell.execute_reply": "2023-11-01T17:36:53.025556Z"
                },
                "papermill": {
                    "duration": 0.004831,
                    "end_time": "2023-11-01T17:36:53.026366",
                    "exception": false,
                    "start_time": "2023-11-01T17:36:53.021535",
                    "status": "completed"
                },
                "tags": []
            },
            "outputs": [],
            "source": [
                "# shuffle the data both rows and columns\n",
                "if Shuffle:\n",
                "    for column in nomic_data_values:\n",
                "        np.random.shuffle(nomic_data_values[column].values)\n",
                "    for column in morphology_data:\n",
                "        np.random.shuffle(morphology_data[column].values)"
            ]
        },
        {
            "cell_type": "markdown",
            "id": "c7b471d9",
            "metadata": {
                "papermill": {
                    "duration": 0.001578,
                    "end_time": "2023-11-01T17:36:53.029623",
                    "exception": false,
                    "start_time": "2023-11-01T17:36:53.028045",
                    "status": "completed"
                },
                "tags": []
            },
            "source": [
                "### Variables\n",
                "$Y_{M \\times P} = MorphologyData$  \n",
                "$X_{N \\times Q} = NomicData$  \n",
                "Where  \n",
                "$M = Rows of MorphologyData$  \n",
                "$P = Columns of MorphologyData$  \n",
                "$N = Rows of NomicData$  \n",
                "$Q = Columns of NomicData$  "
            ]
        },
        {
            "cell_type": "code",
            "execution_count": 23,
            "id": "ee880378",
            "metadata": {
                "execution": {
                    "iopub.execute_input": "2023-11-01T17:36:53.033604Z",
                    "iopub.status.busy": "2023-11-01T17:36:53.033351Z",
                    "iopub.status.idle": "2023-11-01T17:36:53.035876Z",
                    "shell.execute_reply": "2023-11-01T17:36:53.035632Z"
                },
                "papermill": {
                    "duration": 0.005304,
                    "end_time": "2023-11-01T17:36:53.036516",
                    "exception": false,
                    "start_time": "2023-11-01T17:36:53.031212",
                    "status": "completed"
                },
                "tags": []
            },
            "outputs": [
                {
                    "name": "stdout",
                    "output_type": "stream",
                    "text": [
                        "N: 154 P: 1245 Q: 187\n",
                        "K: 154\n"
                    ]
                }
            ],
            "source": [
                "# define the variables\n",
                "N = morphology_data.shape[0]\n",
                "P = morphology_data.shape[1]\n",
                "\n",
                "N = nomic_data_values.shape[0]\n",
                "Q = nomic_data_values.shape[1]\n",
                "print(\"N:\", N, \"P:\", P, \"Q:\", Q)\n",
                "K = min(N, P, Q)\n",
                "print(\"K:\", K)"
            ]
        },
        {
            "cell_type": "code",
            "execution_count": 27,
            "id": "fb97f56c",
            "metadata": {
                "execution": {
                    "iopub.execute_input": "2023-11-01T17:36:53.040595Z",
                    "iopub.status.busy": "2023-11-01T17:36:53.040282Z",
                    "iopub.status.idle": "2023-11-01T17:37:02.335376Z",
                    "shell.execute_reply": "2023-11-01T17:37:02.334966Z"
                },
                "papermill": {
                    "duration": 9.29809,
                    "end_time": "2023-11-01T17:37:02.336360",
                    "exception": false,
                    "start_time": "2023-11-01T17:36:53.038270",
                    "status": "completed"
                },
                "tags": []
            },
            "outputs": [
                {
                    "name": "stderr",
                    "output_type": "stream",
                    "text": [
                        "/home/lippincm/miniconda3/envs/Interstellar/lib/python3.10/site-packages/sklearn/cross_decomposition/_pls.py:302: UserWarning: Y residual is constant at iteration 153\n",
                        "  warnings.warn(f\"Y residual is constant at iteration {k}\")\n"
                    ]
                },
                {
                    "data": {
                        "text/plain": [
                            "0.20416723605363807"
                        ]
                    },
                    "execution_count": 27,
                    "metadata": {},
                    "output_type": "execute_result"
                }
            ],
            "source": [
                "cca = CCA(n_components=K)\n",
                "cca.fit(morphology_data, nomic_data_values)\n",
                "X_c, Y_c = cca.transform(morphology_data, nomic_data_values)\n",
                "ccascore = [cca.score(morphology_data, nomic_data_values), X_c, Y_c][0]\n",
                "ccascore"
            ]
        },
        {
            "cell_type": "code",
            "execution_count": 28,
            "id": "3cb660ae",
            "metadata": {},
            "outputs": [],
            "source": [
                "A_tilde = pd.DataFrame(cca.x_loadings_)\n",
                "B_tilde = pd.DataFrame(cca.y_loadings_)"
            ]
        },
        {
            "cell_type": "markdown",
            "id": "258b43b3",
            "metadata": {
                "papermill": {
                    "duration": 0.00273,
                    "end_time": "2023-11-01T17:37:02.353278",
                    "exception": false,
                    "start_time": "2023-11-01T17:37:02.350548",
                    "status": "completed"
                },
                "tags": []
            },
            "source": [
                "From the canonical coefficients we can calculate the variance extracted by each canonical variable.  \n",
                "$u_k = \\frac{1}{P} \\sum^P_{p=1} \\tilde a^2_{pk}$  \n",
                "  \n",
                "$v_k = \\frac{1}{Q} \\sum^Q_{q=1} \\tilde a^2_{qk}$"
            ]
        },
        {
            "cell_type": "code",
            "execution_count": 30,
            "id": "c9d587aa",
            "metadata": {},
            "outputs": [
                {
                    "data": {
                        "text/plain": [
                            "12.862535871379198"
                        ]
                    },
                    "execution_count": 30,
                    "metadata": {},
                    "output_type": "execute_result"
                }
            ],
            "source": [
                "u_k = (sum(A_tilde**2)) / len(A_tilde)\n",
                "v_k = (sum(B_tilde**2)) / len(B_tilde)\n",
                "\n",
                "RI_u = u_k * ccascore\n",
                "RI_v = v_k * ccascore\n",
                "RI_u\n",
                "RI_v"
            ]
        },
        {
            "cell_type": "code",
            "execution_count": null,
            "id": "a60b9f75",
            "metadata": {},
            "outputs": [],
            "source": [
                "u_k_min = min(u_k)\n",
                "v_k_min = min(v_k)\n",
                "u_k_max = max(u_k)\n",
                "v_k_max = max(v_k)\n",
                "min_all = min(u_k_min, v_k_min)\n",
                "max_all = max(u_k_max, v_k_max)"
            ]
        },
        {
            "cell_type": "code",
            "execution_count": null,
            "id": "bb709b17",
            "metadata": {
                "execution": {
                    "iopub.execute_input": "2023-11-01T17:37:02.369241Z",
                    "iopub.status.busy": "2023-11-01T17:37:02.369030Z",
                    "iopub.status.idle": "2023-11-01T17:37:02.470142Z",
                    "shell.execute_reply": "2023-11-01T17:37:02.469794Z"
                },
                "papermill": {
                    "duration": 0.104917,
                    "end_time": "2023-11-01T17:37:02.470771",
                    "exception": false,
                    "start_time": "2023-11-01T17:37:02.365854",
                    "status": "completed"
                },
                "tags": []
            },
            "outputs": [],
            "source": [
                "# scatter plot of the canonical variates\n",
                "plt.scatter(u_k, v_k)\n",
                "# fit a line to the scatter plot\n",
                "m, b = np.polyfit(u_k, v_k, 1)\n",
                "# plt.plot(u_k, m * u_k + b)\n",
                "plt.xlabel(\"u_k\")\n",
                "plt.ylabel(\"v_k\")\n",
                "plt.title(\"Canonical Variates\")\n",
                "plt.xlim(min_all, max_all)\n",
                "plt.ylim(min_all, max_all)\n",
                "# add r2 of regression line to plot\n",
                "plt.show()\n",
                "plt.close()\n",
                "\n",
                "# calculate r2 of k\n",
                "from sklearn.metrics import r2_score\n",
                "\n",
                "# k_r2 = r2_score(v_k, m * u_k + b)\n",
                "# print(k_r2)"
            ]
        },
        {
            "cell_type": "code",
            "execution_count": null,
            "id": "95b671f3",
            "metadata": {},
            "outputs": [],
            "source": []
        },
        {
            "cell_type": "code",
            "execution_count": null,
            "id": "251aba98",
            "metadata": {
                "execution": {
                    "iopub.execute_input": "2023-11-01T17:37:02.476916Z",
                    "iopub.status.busy": "2023-11-01T17:37:02.476660Z",
                    "iopub.status.idle": "2023-11-01T17:37:02.571825Z",
                    "shell.execute_reply": "2023-11-01T17:37:02.571508Z"
                },
                "papermill": {
                    "duration": 0.099671,
                    "end_time": "2023-11-01T17:37:02.572652",
                    "exception": false,
                    "start_time": "2023-11-01T17:37:02.472981",
                    "status": "completed"
                },
                "tags": []
            },
            "outputs": [],
            "source": [
                "# plot the redundancy index\n",
                "plt.scatter(RI_u, RI_v)\n",
                "plt.xlabel(\"u_k_RI\")\n",
                "plt.ylabel(\"v_k_RI\")\n",
                "plt.title(\"Redundancy Index\")\n",
                "plt.show()\n",
                "plt.close()"
            ]
        },
        {
            "cell_type": "code",
            "execution_count": null,
            "id": "a07f3a6e",
            "metadata": {
                "execution": {
                    "iopub.execute_input": "2023-11-01T17:37:02.579982Z",
                    "iopub.status.busy": "2023-11-01T17:37:02.579731Z",
                    "iopub.status.idle": "2023-11-01T17:37:02.586522Z",
                    "shell.execute_reply": "2023-11-01T17:37:02.586270Z"
                },
                "papermill": {
                    "duration": 0.011994,
                    "end_time": "2023-11-01T17:37:02.587282",
                    "exception": false,
                    "start_time": "2023-11-01T17:37:02.575288",
                    "status": "completed"
                },
                "tags": []
            },
            "outputs": [],
            "source": [
                "# df from the canonical variates\n",
                "RI_df = pd.DataFrame([u_k_RI, v_k_RI], index=[\"u_k_RI\", \"v_k_RI\"]).T\n",
                "RI_df[\"Shuffle\"] = Shuffle\n",
                "# set output path\n",
                "results_file_path_RI = pathlib.Path(f\"../results/{cell_type}_redundancy_index.csv\")\n",
                "results_file_path_RI.parent.mkdir(parents=True, exist_ok=True)\n",
                "\n",
                "if not results_file_path_RI.exists():\n",
                "    RI_df.to_csv(results_file_path_RI, index=False)\n",
                "elif results_file_path_RI.exists():\n",
                "    # read in the existing file\n",
                "    existing_df = pd.read_csv(results_file_path_RI)\n",
                "    if len(existing_df[\"Shuffle\"].unique()) > 1:\n",
                "        # overwrite the file\n",
                "        RI_df.to_csv(results_file_path_RI, index=False)\n",
                "    elif existing_df[\"Shuffle\"].unique() != Shuffle:\n",
                "        # append to the file\n",
                "        RI_df.to_csv(results_file_path_RI, mode=\"a\", header=False, index=False)\n",
                "    else:\n",
                "        print(\"The file already exists and the shuffle value is the same\")\n",
                "        print(\"No write occured\")\n",
                "else:\n",
                "    print(\"Something went wrong: check path for the redundancy index file\")"
            ]
        },
        {
            "cell_type": "code",
            "execution_count": null,
            "id": "d12bed26",
            "metadata": {
                "execution": {
                    "iopub.execute_input": "2023-11-01T17:37:02.592073Z",
                    "iopub.status.busy": "2023-11-01T17:37:02.591843Z",
                    "iopub.status.idle": "2023-11-01T17:47:24.378696Z",
                    "shell.execute_reply": "2023-11-01T17:47:24.378289Z"
                },
                "papermill": {
                    "duration": 621.790223,
                    "end_time": "2023-11-01T17:47:24.379645",
                    "exception": false,
                    "start_time": "2023-11-01T17:37:02.589422",
                    "status": "completed"
                },
                "tags": []
            },
            "outputs": [],
            "source": [
                "out_dict = {}\n",
                "for i in tqdm(range(2, K)):\n",
                "    cca = CCA(n_components=i)\n",
                "    cca.fit(morphology_data, nomic_data_values)\n",
                "    X_c, Y_c = cca.transform(morphology_data, nomic_data_values)\n",
                "    cca.score(morphology_data, nomic_data_values), X_c, Y_c\n",
                "    coef_df = pd.DataFrame(\n",
                "        cca.coef_, columns=morphology_data.columns, index=nomic_data_values.columns\n",
                "    )\n",
                "    # get the X and Y coefficients as np arrays\n",
                "    X_coef = cca.x_weights_\n",
                "    Y_coef = cca.y_weights_\n",
                "    # get the variance explained by each canonical variate\n",
                "    u_k = sum(cca.x_loadings_**2) / P\n",
                "    v_k = sum(cca.y_loadings_**2) / Q\n",
                "    k_r2 = r2_score(v_k, m * u_k + b)\n",
                "    # calculate the redundancy index of each variable\n",
                "    u_k_RI = []\n",
                "    v_k_RI = []\n",
                "    for i in enumerate(u_k):\n",
                "        # add to list\n",
                "        u_k_RI.append(i[1] / k_r2)\n",
                "    for i in enumerate(v_k):\n",
                "        # add to list\n",
                "        v_k_RI.append(i[1] / k_r2)\n",
                "\n",
                "    sum_u_k_RI = sum(u_k_RI)\n",
                "    sum_v_k_RI = sum(v_k_RI)\n",
                "    out_dict[i[0]] = [sum_u_k_RI, sum_v_k_RI, k_r2]"
            ]
        },
        {
            "cell_type": "code",
            "execution_count": null,
            "id": "691b143b",
            "metadata": {
                "execution": {
                    "iopub.execute_input": "2023-11-01T17:47:24.416473Z",
                    "iopub.status.busy": "2023-11-01T17:47:24.416153Z",
                    "iopub.status.idle": "2023-11-01T17:47:24.602557Z",
                    "shell.execute_reply": "2023-11-01T17:47:24.602277Z"
                },
                "papermill": {
                    "duration": 0.193942,
                    "end_time": "2023-11-01T17:47:24.603334",
                    "exception": false,
                    "start_time": "2023-11-01T17:47:24.409392",
                    "status": "completed"
                },
                "tags": []
            },
            "outputs": [],
            "source": [
                "# dict to df\n",
                "out_df = pd.DataFrame.from_dict(\n",
                "    out_dict, orient=\"index\", columns=[\"X_RI\", \"Y_RI\", \"r2\"]\n",
                ")\n",
                "# reset index\n",
                "out_df = out_df.reset_index()\n",
                "# rename index column\n",
                "out_df = out_df.rename(columns={\"index\": \"K\"})\n",
                "out_df[\"Shuffle\"] = Shuffle\n",
                "# plot the redundancy index\n",
                "plt.plot(out_df[\"K\"], out_df[\"r2\"], label=\"X\")\n",
                "plt.xlabel(\"K\")\n",
                "plt.ylabel(\"r2\")\n",
                "plt.title(\"Skree Plot of r2 against K\")\n",
                "plt.show()\n",
                "plt.close()\n",
                "\n",
                "# plot the redundancy index\n",
                "plt.plot(out_df[\"K\"], out_df[\"X_RI\"], label=\"X\")\n",
                "plt.plot(out_df[\"K\"], out_df[\"Y_RI\"], label=\"Y\")\n",
                "plt.xlabel(\"K\")\n",
                "plt.ylabel(\"Redundancy Index\")\n",
                "plt.title(\"Redundancy Index against K\")\n",
                "plt.legend()\n",
                "plt.show()\n",
                "plt.close()"
            ]
        },
        {
            "cell_type": "code",
            "execution_count": null,
            "id": "ad245d49",
            "metadata": {
                "execution": {
                    "iopub.execute_input": "2023-11-01T17:47:24.623607Z",
                    "iopub.status.busy": "2023-11-01T17:47:24.623300Z",
                    "iopub.status.idle": "2023-11-01T17:47:24.627795Z",
                    "shell.execute_reply": "2023-11-01T17:47:24.627545Z"
                },
                "papermill": {
                    "duration": 0.015134,
                    "end_time": "2023-11-01T17:47:24.628502",
                    "exception": false,
                    "start_time": "2023-11-01T17:47:24.613368",
                    "status": "completed"
                },
                "tags": []
            },
            "outputs": [],
            "source": [
                "# check if file exists\n",
                "if not results_file_path.exists():\n",
                "    # write to file\n",
                "    out_df.to_csv(results_file_path, index=False)\n",
                "    pass\n",
                "elif results_file_path.exists():\n",
                "    # read in the file\n",
                "    old_df = pd.read_csv(results_file_path)\n",
                "    if len(old_df[\"Shuffle\"] > 1):\n",
                "        # overwrite the file\n",
                "        out_df.to_csv(results_file_path, index=False)\n",
                "    elif old_df[\"Shuffle\"].unique() == Shuffle:\n",
                "        pass\n",
                "    else:\n",
                "        # concat the dfs and write to file\n",
                "        out_df = pd.concat([old_df, out_df])\n",
                "        out_df.to_csv(results_file_path, index=False)"
            ]
        }
    ],
    "metadata": {
        "kernelspec": {
            "display_name": "Interstellar",
            "language": "python",
            "name": "python3"
        },
        "language_info": {
            "codemirror_mode": {
                "name": "ipython",
                "version": 3
            },
            "file_extension": ".py",
            "mimetype": "text/x-python",
            "name": "python",
            "nbconvert_exporter": "python",
            "pygments_lexer": "ipython3",
            "version": "3.10.12"
        },
        "papermill": {
            "default_parameters": {},
            "duration": 633.338407,
            "end_time": "2023-11-01T17:47:24.953615",
            "environment_variables": {},
            "exception": null,
            "input_path": "0.redundancy_analysis.ipynb",
            "output_path": "0.redundancy_analysis.ipynb",
            "parameters": {
                "Shuffle": false,
                "cell_type": "PBMC"
            },
            "start_time": "2023-11-01T17:36:51.615208",
            "version": "2.4.0"
        }
    },
    "nbformat": 4,
    "nbformat_minor": 5
}
