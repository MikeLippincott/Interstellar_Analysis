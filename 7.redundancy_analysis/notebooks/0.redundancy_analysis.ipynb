{
 "cells": [
  {
   "cell_type": "markdown",
   "id": "14a206ff",
   "metadata": {
    "papermill": {
     "duration": 0.002217,
     "end_time": "2023-11-01T17:36:52.287720",
     "exception": false,
     "start_time": "2023-11-01T17:36:52.285503",
     "status": "completed"
    },
    "tags": []
   },
   "source": [
    "# Canonical Correlation Analysis (CCA)\n",
    "Here I calculate the Canonical Correlation Coefficients and the canonical variables for the two datasets. \n",
    "I also plot the correlation coefficients and the canonical variables."
   ]
  },
  {
   "cell_type": "markdown",
   "id": "2e701231",
   "metadata": {},
   "source": [
    "This analysis is based on the following article:\n",
    "https://brainder.org/2019/12/27/redundancy-in-canonical-correlation-analysis/\n"
   ]
  },
  {
   "cell_type": "code",
   "execution_count": 1,
   "id": "87720c69",
   "metadata": {
    "execution": {
     "iopub.execute_input": "2023-11-01T17:36:52.291799Z",
     "iopub.status.busy": "2023-11-01T17:36:52.291493Z",
     "iopub.status.idle": "2023-11-01T17:36:52.851217Z",
     "shell.execute_reply": "2023-11-01T17:36:52.850895Z"
    },
    "papermill": {
     "duration": 0.562742,
     "end_time": "2023-11-01T17:36:52.852170",
     "exception": false,
     "start_time": "2023-11-01T17:36:52.289428",
     "status": "completed"
    },
    "tags": []
   },
   "outputs": [],
   "source": [
    "# import libraries\n",
    "import pathlib\n",
    "\n",
    "import matplotlib.pyplot as plt\n",
    "import numpy as np\n",
    "import pandas as pd\n",
    "import seaborn as sns\n",
    "from sklearn.cross_decomposition import CCA\n",
    "from sklearn.metrics import r2_score\n",
    "from sklearn.preprocessing import StandardScaler\n",
    "from tqdm import tqdm"
   ]
  },
  {
   "cell_type": "code",
   "execution_count": 2,
   "id": "69cabaa6",
   "metadata": {
    "execution": {
     "iopub.execute_input": "2023-11-01T17:36:52.858008Z",
     "iopub.status.busy": "2023-11-01T17:36:52.857575Z",
     "iopub.status.idle": "2023-11-01T17:36:52.859597Z",
     "shell.execute_reply": "2023-11-01T17:36:52.859342Z"
    },
    "papermill": {
     "duration": 0.005309,
     "end_time": "2023-11-01T17:36:52.860197",
     "exception": false,
     "start_time": "2023-11-01T17:36:52.854888",
     "status": "completed"
    },
    "tags": [
     "injected-parameters"
    ]
   },
   "outputs": [],
   "source": [
    "# Parameters\n",
    "cell_type = \"PBMC\"\n",
    "Shuffle = True"
   ]
  },
  {
   "cell_type": "code",
   "execution_count": 3,
   "id": "4b1e3226",
   "metadata": {
    "execution": {
     "iopub.execute_input": "2023-11-01T17:36:52.864045Z",
     "iopub.status.busy": "2023-11-01T17:36:52.863779Z",
     "iopub.status.idle": "2023-11-01T17:36:53.000477Z",
     "shell.execute_reply": "2023-11-01T17:36:53.000164Z"
    },
    "papermill": {
     "duration": 0.139771,
     "end_time": "2023-11-01T17:36:53.001573",
     "exception": false,
     "start_time": "2023-11-01T17:36:52.861802",
     "status": "completed"
    },
    "tags": []
   },
   "outputs": [],
   "source": [
    "# set paths to data\n",
    "morphology_data_path = pathlib.Path(\n",
    "    f\"../../data/{cell_type}_preprocessed_sc_norm_aggregated.parquet\"\n",
    ").resolve(strict=True)\n",
    "nomic_data_path = pathlib.Path(\n",
    "    f\"../../2.Nomic_nELISA_Analysis/Data/clean/Plate2/nELISA_plate_430420_{cell_type}_clean.parquet\"\n",
    ").resolve(strict=True)\n",
    "\n",
    "# output path\n",
    "results_file_path = pathlib.Path(f\"../results/{cell_type}_redundancy_analysis.csv\")\n",
    "results_file_path.parent.mkdir(parents=True, exist_ok=True)\n",
    "\n",
    "# read data\n",
    "morphology_data = pd.read_parquet(morphology_data_path)\n",
    "nomic_data = pd.read_parquet(nomic_data_path)"
   ]
  },
  {
   "cell_type": "code",
   "execution_count": 4,
   "id": "198b1de1",
   "metadata": {
    "execution": {
     "iopub.execute_input": "2023-11-01T17:36:53.006003Z",
     "iopub.status.busy": "2023-11-01T17:36:53.005570Z",
     "iopub.status.idle": "2023-11-01T17:36:53.010002Z",
     "shell.execute_reply": "2023-11-01T17:36:53.009761Z"
    },
    "papermill": {
     "duration": 0.007311,
     "end_time": "2023-11-01T17:36:53.010764",
     "exception": false,
     "start_time": "2023-11-01T17:36:53.003453",
     "status": "completed"
    },
    "tags": []
   },
   "outputs": [],
   "source": [
    "# get the columns that contain metadata\n",
    "morphology_metadata = morphology_data[\n",
    "    morphology_data.columns[morphology_data.columns.str.contains(\"Metadata\")]\n",
    "]\n",
    "morphology_data = morphology_data.drop(morphology_metadata.columns, axis=1)\n",
    "\n",
    "nomic_data_values = nomic_data[\n",
    "    nomic_data.columns[nomic_data.columns.str.contains(\"[NSU]\", regex=True)]\n",
    "]\n",
    "nomic_metadata = nomic_data.drop(nomic_data_values.columns, axis=1)"
   ]
  },
  {
   "cell_type": "markdown",
   "id": "9e52ffd7",
   "metadata": {},
   "source": [
    "#### Data Needs to be in standard scalar format for CCA"
   ]
  },
  {
   "cell_type": "code",
   "execution_count": 5,
   "id": "35e68936",
   "metadata": {
    "execution": {
     "iopub.execute_input": "2023-11-01T17:36:53.014756Z",
     "iopub.status.busy": "2023-11-01T17:36:53.014497Z",
     "iopub.status.idle": "2023-11-01T17:36:53.019092Z",
     "shell.execute_reply": "2023-11-01T17:36:53.018836Z"
    },
    "papermill": {
     "duration": 0.007281,
     "end_time": "2023-11-01T17:36:53.019808",
     "exception": false,
     "start_time": "2023-11-01T17:36:53.012527",
     "status": "completed"
    },
    "tags": []
   },
   "outputs": [],
   "source": [
    "# standardize the data for nomic standard scalar\n",
    "scaler = StandardScaler()\n",
    "nomic_data_values = scaler.fit_transform(nomic_data_values)\n",
    "nomic_data_values = pd.DataFrame(\n",
    "    nomic_data_values,\n",
    "    columns=nomic_data.columns[nomic_data.columns.str.contains(\"[NSU]\", regex=True)],\n",
    ")"
   ]
  },
  {
   "cell_type": "code",
   "execution_count": 6,
   "id": "096ebd42",
   "metadata": {},
   "outputs": [
    {
     "data": {
      "text/html": [
       "<div>\n",
       "<style scoped>\n",
       "    .dataframe tbody tr th:only-of-type {\n",
       "        vertical-align: middle;\n",
       "    }\n",
       "\n",
       "    .dataframe tbody tr th {\n",
       "        vertical-align: top;\n",
       "    }\n",
       "\n",
       "    .dataframe thead th {\n",
       "        text-align: right;\n",
       "    }\n",
       "</style>\n",
       "<table border=\"1\" class=\"dataframe\">\n",
       "  <thead>\n",
       "    <tr style=\"text-align: right;\">\n",
       "      <th></th>\n",
       "      <th>Activin A [NSU]</th>\n",
       "      <th>AITRL (GITR Ligand) [NSU]</th>\n",
       "      <th>Amphiregulin [NSU]</th>\n",
       "      <th>Amyloid beta [NSU]</th>\n",
       "      <th>APRIL [NSU]</th>\n",
       "      <th>BAFF [NSU]</th>\n",
       "      <th>BCMA (TNFRSF17) [NSU]</th>\n",
       "      <th>BDNF [NSU]</th>\n",
       "      <th>BMP2 [NSU]</th>\n",
       "      <th>BMP3 [NSU]</th>\n",
       "      <th>...</th>\n",
       "      <th>TWEAK [NSU]</th>\n",
       "      <th>uPA [NSU]</th>\n",
       "      <th>VCAM-1 [NSU]</th>\n",
       "      <th>VEGF Receptor 2 (Flk-1) [NSU]</th>\n",
       "      <th>VEGF-A (165) [NSU]</th>\n",
       "      <th>VEGF-C [NSU]</th>\n",
       "      <th>VEGF-D [NSU]</th>\n",
       "      <th>VEGFR-1 [NSU]</th>\n",
       "      <th>WISP-1 (CCN4) [NSU]</th>\n",
       "      <th>XCL1 (Lymphotactin) [NSU]</th>\n",
       "    </tr>\n",
       "  </thead>\n",
       "  <tbody>\n",
       "    <tr>\n",
       "      <th>count</th>\n",
       "      <td>1.540000e+02</td>\n",
       "      <td>1.540000e+02</td>\n",
       "      <td>1.540000e+02</td>\n",
       "      <td>1.540000e+02</td>\n",
       "      <td>1.540000e+02</td>\n",
       "      <td>1.540000e+02</td>\n",
       "      <td>1.540000e+02</td>\n",
       "      <td>1.540000e+02</td>\n",
       "      <td>1.540000e+02</td>\n",
       "      <td>154.000000</td>\n",
       "      <td>...</td>\n",
       "      <td>1.540000e+02</td>\n",
       "      <td>1.540000e+02</td>\n",
       "      <td>1.540000e+02</td>\n",
       "      <td>1.540000e+02</td>\n",
       "      <td>1.540000e+02</td>\n",
       "      <td>1.540000e+02</td>\n",
       "      <td>1.540000e+02</td>\n",
       "      <td>1.540000e+02</td>\n",
       "      <td>154.000000</td>\n",
       "      <td>1.540000e+02</td>\n",
       "    </tr>\n",
       "    <tr>\n",
       "      <th>mean</th>\n",
       "      <td>-1.038131e-16</td>\n",
       "      <td>2.883696e-17</td>\n",
       "      <td>3.784851e-16</td>\n",
       "      <td>-1.787892e-16</td>\n",
       "      <td>-3.388343e-16</td>\n",
       "      <td>5.767392e-18</td>\n",
       "      <td>-4.613914e-17</td>\n",
       "      <td>1.557196e-16</td>\n",
       "      <td>-5.306001e-16</td>\n",
       "      <td>0.000000</td>\n",
       "      <td>...</td>\n",
       "      <td>6.113436e-16</td>\n",
       "      <td>4.613914e-17</td>\n",
       "      <td>-2.306957e-17</td>\n",
       "      <td>2.306957e-17</td>\n",
       "      <td>2.883696e-18</td>\n",
       "      <td>-3.258577e-16</td>\n",
       "      <td>-2.306957e-16</td>\n",
       "      <td>6.920871e-17</td>\n",
       "      <td>0.000000</td>\n",
       "      <td>3.979501e-16</td>\n",
       "    </tr>\n",
       "    <tr>\n",
       "      <th>std</th>\n",
       "      <td>1.003263e+00</td>\n",
       "      <td>1.003263e+00</td>\n",
       "      <td>1.003263e+00</td>\n",
       "      <td>1.003263e+00</td>\n",
       "      <td>1.003263e+00</td>\n",
       "      <td>1.003263e+00</td>\n",
       "      <td>1.003263e+00</td>\n",
       "      <td>1.003263e+00</td>\n",
       "      <td>1.003263e+00</td>\n",
       "      <td>1.003263</td>\n",
       "      <td>...</td>\n",
       "      <td>1.003263e+00</td>\n",
       "      <td>1.003263e+00</td>\n",
       "      <td>1.003263e+00</td>\n",
       "      <td>1.003263e+00</td>\n",
       "      <td>1.003263e+00</td>\n",
       "      <td>1.003263e+00</td>\n",
       "      <td>1.003263e+00</td>\n",
       "      <td>1.003263e+00</td>\n",
       "      <td>1.003263</td>\n",
       "      <td>1.003263e+00</td>\n",
       "    </tr>\n",
       "    <tr>\n",
       "      <th>min</th>\n",
       "      <td>-7.753361e-01</td>\n",
       "      <td>-2.404660e+00</td>\n",
       "      <td>-1.626729e+00</td>\n",
       "      <td>-2.623379e+00</td>\n",
       "      <td>-2.502733e+00</td>\n",
       "      <td>-2.063749e+00</td>\n",
       "      <td>-3.267475e+00</td>\n",
       "      <td>-2.126498e+00</td>\n",
       "      <td>-2.744970e+00</td>\n",
       "      <td>-2.045397</td>\n",
       "      <td>...</td>\n",
       "      <td>-2.444083e+00</td>\n",
       "      <td>-2.359350e+00</td>\n",
       "      <td>-2.390540e+00</td>\n",
       "      <td>-2.812137e+00</td>\n",
       "      <td>-2.100477e+00</td>\n",
       "      <td>-3.241260e+00</td>\n",
       "      <td>-2.075041e+00</td>\n",
       "      <td>-1.405828e+00</td>\n",
       "      <td>-2.423406</td>\n",
       "      <td>-2.034209e+00</td>\n",
       "    </tr>\n",
       "    <tr>\n",
       "      <th>25%</th>\n",
       "      <td>-5.852376e-01</td>\n",
       "      <td>-7.977280e-01</td>\n",
       "      <td>-7.345144e-01</td>\n",
       "      <td>-6.888167e-01</td>\n",
       "      <td>-7.773053e-01</td>\n",
       "      <td>-6.836681e-01</td>\n",
       "      <td>-7.810839e-01</td>\n",
       "      <td>-6.254525e-01</td>\n",
       "      <td>-5.719509e-01</td>\n",
       "      <td>-0.664659</td>\n",
       "      <td>...</td>\n",
       "      <td>-7.489428e-01</td>\n",
       "      <td>-6.543184e-01</td>\n",
       "      <td>-7.170485e-01</td>\n",
       "      <td>-5.184526e-01</td>\n",
       "      <td>-6.810349e-01</td>\n",
       "      <td>-7.408295e-01</td>\n",
       "      <td>-6.358911e-01</td>\n",
       "      <td>-6.591589e-01</td>\n",
       "      <td>-0.681727</td>\n",
       "      <td>-6.995932e-01</td>\n",
       "    </tr>\n",
       "    <tr>\n",
       "      <th>50%</th>\n",
       "      <td>-5.077906e-01</td>\n",
       "      <td>-6.492239e-02</td>\n",
       "      <td>-2.339748e-01</td>\n",
       "      <td>-1.011396e-01</td>\n",
       "      <td>-8.989044e-02</td>\n",
       "      <td>2.056610e-02</td>\n",
       "      <td>9.340619e-02</td>\n",
       "      <td>-8.593829e-02</td>\n",
       "      <td>-1.425891e-01</td>\n",
       "      <td>-0.229429</td>\n",
       "      <td>...</td>\n",
       "      <td>-3.713431e-02</td>\n",
       "      <td>-8.319940e-02</td>\n",
       "      <td>1.192415e-02</td>\n",
       "      <td>-7.199159e-02</td>\n",
       "      <td>-7.061398e-02</td>\n",
       "      <td>7.170670e-02</td>\n",
       "      <td>-1.133556e-01</td>\n",
       "      <td>-3.474098e-01</td>\n",
       "      <td>0.033378</td>\n",
       "      <td>-2.057293e-01</td>\n",
       "    </tr>\n",
       "    <tr>\n",
       "      <th>75%</th>\n",
       "      <td>2.378032e-01</td>\n",
       "      <td>6.132403e-01</td>\n",
       "      <td>8.189925e-01</td>\n",
       "      <td>5.894068e-01</td>\n",
       "      <td>6.385160e-01</td>\n",
       "      <td>6.156226e-01</td>\n",
       "      <td>7.638540e-01</td>\n",
       "      <td>4.953480e-01</td>\n",
       "      <td>4.344105e-01</td>\n",
       "      <td>0.502222</td>\n",
       "      <td>...</td>\n",
       "      <td>6.029268e-01</td>\n",
       "      <td>6.905801e-01</td>\n",
       "      <td>6.410902e-01</td>\n",
       "      <td>5.976565e-01</td>\n",
       "      <td>5.186115e-01</td>\n",
       "      <td>7.108837e-01</td>\n",
       "      <td>5.324321e-01</td>\n",
       "      <td>4.257470e-01</td>\n",
       "      <td>0.697235</td>\n",
       "      <td>6.313630e-01</td>\n",
       "    </tr>\n",
       "    <tr>\n",
       "      <th>max</th>\n",
       "      <td>2.910307e+00</td>\n",
       "      <td>2.647989e+00</td>\n",
       "      <td>2.247566e+00</td>\n",
       "      <td>3.007529e+00</td>\n",
       "      <td>2.991157e+00</td>\n",
       "      <td>3.399755e+00</td>\n",
       "      <td>2.458591e+00</td>\n",
       "      <td>3.847185e+00</td>\n",
       "      <td>3.326857e+00</td>\n",
       "      <td>3.710686</td>\n",
       "      <td>...</td>\n",
       "      <td>2.714300e+00</td>\n",
       "      <td>3.273316e+00</td>\n",
       "      <td>3.549740e+00</td>\n",
       "      <td>3.463280e+00</td>\n",
       "      <td>2.442682e+00</td>\n",
       "      <td>2.662569e+00</td>\n",
       "      <td>2.864553e+00</td>\n",
       "      <td>3.071173e+00</td>\n",
       "      <td>2.991102</td>\n",
       "      <td>3.797019e+00</td>\n",
       "    </tr>\n",
       "  </tbody>\n",
       "</table>\n",
       "<p>8 rows × 187 columns</p>\n",
       "</div>"
      ],
      "text/plain": [
       "       Activin A [NSU]  AITRL (GITR Ligand) [NSU]  Amphiregulin [NSU]  \\\n",
       "count     1.540000e+02               1.540000e+02        1.540000e+02   \n",
       "mean     -1.038131e-16               2.883696e-17        3.784851e-16   \n",
       "std       1.003263e+00               1.003263e+00        1.003263e+00   \n",
       "min      -7.753361e-01              -2.404660e+00       -1.626729e+00   \n",
       "25%      -5.852376e-01              -7.977280e-01       -7.345144e-01   \n",
       "50%      -5.077906e-01              -6.492239e-02       -2.339748e-01   \n",
       "75%       2.378032e-01               6.132403e-01        8.189925e-01   \n",
       "max       2.910307e+00               2.647989e+00        2.247566e+00   \n",
       "\n",
       "       Amyloid beta [NSU]   APRIL [NSU]    BAFF [NSU]  BCMA (TNFRSF17) [NSU]  \\\n",
       "count        1.540000e+02  1.540000e+02  1.540000e+02           1.540000e+02   \n",
       "mean        -1.787892e-16 -3.388343e-16  5.767392e-18          -4.613914e-17   \n",
       "std          1.003263e+00  1.003263e+00  1.003263e+00           1.003263e+00   \n",
       "min         -2.623379e+00 -2.502733e+00 -2.063749e+00          -3.267475e+00   \n",
       "25%         -6.888167e-01 -7.773053e-01 -6.836681e-01          -7.810839e-01   \n",
       "50%         -1.011396e-01 -8.989044e-02  2.056610e-02           9.340619e-02   \n",
       "75%          5.894068e-01  6.385160e-01  6.156226e-01           7.638540e-01   \n",
       "max          3.007529e+00  2.991157e+00  3.399755e+00           2.458591e+00   \n",
       "\n",
       "         BDNF [NSU]    BMP2 [NSU]  BMP3 [NSU]  ...   TWEAK [NSU]  \\\n",
       "count  1.540000e+02  1.540000e+02  154.000000  ...  1.540000e+02   \n",
       "mean   1.557196e-16 -5.306001e-16    0.000000  ...  6.113436e-16   \n",
       "std    1.003263e+00  1.003263e+00    1.003263  ...  1.003263e+00   \n",
       "min   -2.126498e+00 -2.744970e+00   -2.045397  ... -2.444083e+00   \n",
       "25%   -6.254525e-01 -5.719509e-01   -0.664659  ... -7.489428e-01   \n",
       "50%   -8.593829e-02 -1.425891e-01   -0.229429  ... -3.713431e-02   \n",
       "75%    4.953480e-01  4.344105e-01    0.502222  ...  6.029268e-01   \n",
       "max    3.847185e+00  3.326857e+00    3.710686  ...  2.714300e+00   \n",
       "\n",
       "          uPA [NSU]  VCAM-1 [NSU]  VEGF Receptor 2 (Flk-1) [NSU]  \\\n",
       "count  1.540000e+02  1.540000e+02                   1.540000e+02   \n",
       "mean   4.613914e-17 -2.306957e-17                   2.306957e-17   \n",
       "std    1.003263e+00  1.003263e+00                   1.003263e+00   \n",
       "min   -2.359350e+00 -2.390540e+00                  -2.812137e+00   \n",
       "25%   -6.543184e-01 -7.170485e-01                  -5.184526e-01   \n",
       "50%   -8.319940e-02  1.192415e-02                  -7.199159e-02   \n",
       "75%    6.905801e-01  6.410902e-01                   5.976565e-01   \n",
       "max    3.273316e+00  3.549740e+00                   3.463280e+00   \n",
       "\n",
       "       VEGF-A (165) [NSU]  VEGF-C [NSU]  VEGF-D [NSU]  VEGFR-1 [NSU]  \\\n",
       "count        1.540000e+02  1.540000e+02  1.540000e+02   1.540000e+02   \n",
       "mean         2.883696e-18 -3.258577e-16 -2.306957e-16   6.920871e-17   \n",
       "std          1.003263e+00  1.003263e+00  1.003263e+00   1.003263e+00   \n",
       "min         -2.100477e+00 -3.241260e+00 -2.075041e+00  -1.405828e+00   \n",
       "25%         -6.810349e-01 -7.408295e-01 -6.358911e-01  -6.591589e-01   \n",
       "50%         -7.061398e-02  7.170670e-02 -1.133556e-01  -3.474098e-01   \n",
       "75%          5.186115e-01  7.108837e-01  5.324321e-01   4.257470e-01   \n",
       "max          2.442682e+00  2.662569e+00  2.864553e+00   3.071173e+00   \n",
       "\n",
       "       WISP-1 (CCN4) [NSU]  XCL1 (Lymphotactin) [NSU]  \n",
       "count           154.000000               1.540000e+02  \n",
       "mean              0.000000               3.979501e-16  \n",
       "std               1.003263               1.003263e+00  \n",
       "min              -2.423406              -2.034209e+00  \n",
       "25%              -0.681727              -6.995932e-01  \n",
       "50%               0.033378              -2.057293e-01  \n",
       "75%               0.697235               6.313630e-01  \n",
       "max               2.991102               3.797019e+00  \n",
       "\n",
       "[8 rows x 187 columns]"
      ]
     },
     "execution_count": 6,
     "metadata": {},
     "output_type": "execute_result"
    }
   ],
   "source": [
    "# check the scale of the data\n",
    "nomic_data_values.describe()"
   ]
  },
  {
   "cell_type": "code",
   "execution_count": 7,
   "id": "32bd2773",
   "metadata": {
    "execution": {
     "iopub.execute_input": "2023-11-01T17:36:53.023815Z",
     "iopub.status.busy": "2023-11-01T17:36:53.023498Z",
     "iopub.status.idle": "2023-11-01T17:36:53.025792Z",
     "shell.execute_reply": "2023-11-01T17:36:53.025556Z"
    },
    "papermill": {
     "duration": 0.004831,
     "end_time": "2023-11-01T17:36:53.026366",
     "exception": false,
     "start_time": "2023-11-01T17:36:53.021535",
     "status": "completed"
    },
    "tags": []
   },
   "outputs": [],
   "source": [
    "# shuffle the data both rows and columns\n",
    "if Shuffle:\n",
    "    for column in nomic_data_values:\n",
    "        np.random.shuffle(nomic_data_values[column].values)\n",
    "    for column in morphology_data:\n",
    "        np.random.shuffle(morphology_data[column].values)"
   ]
  },
  {
   "cell_type": "markdown",
   "id": "c7b471d9",
   "metadata": {
    "papermill": {
     "duration": 0.001578,
     "end_time": "2023-11-01T17:36:53.029623",
     "exception": false,
     "start_time": "2023-11-01T17:36:53.028045",
     "status": "completed"
    },
    "tags": []
   },
   "source": [
    "### Variables\n",
    "$Y_{N \\times P} = MorphologyData$  \n",
    "$X_{N \\times Q} = NomicData$  \n",
    "Where  \n",
    "$N = Rows of each data set$   \n",
    "note that each data set is paired so N is the same for both  \n",
    "$P = Columns of MorphologyData$  \n",
    "$Q = Columns of NomicData$  \n",
    "$K = Number of Canonical Variables$  \n",
    "Where  \n",
    "$K = min(P,Q)$  \n",
    "unless $N < min(P,Q)$  \n",
    "then $K = min(N, P, Q)$"
   ]
  },
  {
   "cell_type": "code",
   "execution_count": 8,
   "id": "ee880378",
   "metadata": {
    "execution": {
     "iopub.execute_input": "2023-11-01T17:36:53.033604Z",
     "iopub.status.busy": "2023-11-01T17:36:53.033351Z",
     "iopub.status.idle": "2023-11-01T17:36:53.035876Z",
     "shell.execute_reply": "2023-11-01T17:36:53.035632Z"
    },
    "papermill": {
     "duration": 0.005304,
     "end_time": "2023-11-01T17:36:53.036516",
     "exception": false,
     "start_time": "2023-11-01T17:36:53.031212",
     "status": "completed"
    },
    "tags": []
   },
   "outputs": [
    {
     "name": "stdout",
     "output_type": "stream",
     "text": [
      "N: 154 P: 1245 Q: 187\n",
      "K: 154\n"
     ]
    }
   ],
   "source": [
    "# define the variables\n",
    "N = morphology_data.shape[0]\n",
    "P = morphology_data.shape[1]\n",
    "\n",
    "N = nomic_data_values.shape[0]\n",
    "Q = nomic_data_values.shape[1]\n",
    "print(\"N:\", N, \"P:\", P, \"Q:\", Q)\n",
    "K = min(N, P, Q)\n",
    "print(\"K:\", K)"
   ]
  },
  {
   "cell_type": "markdown",
   "id": "a2531878",
   "metadata": {},
   "source": [
    "#### Calculate the Canonical Correlation Coefficients  \n",
    "X = Morphology Data  \n",
    "Y = Nomic Data"
   ]
  },
  {
   "cell_type": "code",
   "execution_count": 9,
   "id": "fb97f56c",
   "metadata": {
    "execution": {
     "iopub.execute_input": "2023-11-01T17:36:53.040595Z",
     "iopub.status.busy": "2023-11-01T17:36:53.040282Z",
     "iopub.status.idle": "2023-11-01T17:37:02.335376Z",
     "shell.execute_reply": "2023-11-01T17:37:02.334966Z"
    },
    "papermill": {
     "duration": 9.29809,
     "end_time": "2023-11-01T17:37:02.336360",
     "exception": false,
     "start_time": "2023-11-01T17:36:53.038270",
     "status": "completed"
    },
    "tags": []
   },
   "outputs": [
    {
     "name": "stdout",
     "output_type": "stream",
     "text": [
      "The R2 score for the Canonical Correlation is: -5.375612848080362\n"
     ]
    },
    {
     "name": "stderr",
     "output_type": "stream",
     "text": [
      "/home/lippincm/miniconda3/envs/Interstellar/lib/python3.10/site-packages/sklearn/cross_decomposition/_pls.py:302: UserWarning: Y residual is constant at iteration 153\n",
      "  warnings.warn(f\"Y residual is constant at iteration {k}\")\n"
     ]
    }
   ],
   "source": [
    "# define the cca model\n",
    "cca = CCA(n_components=K)\n",
    "# fit the model to the paired data sets\n",
    "cca.fit(morphology_data, nomic_data_values)\n",
    "# transform the data to the canonical space\n",
    "# get the canonical coefficients for both data sets\n",
    "X_c, Y_c = cca.transform(morphology_data, nomic_data_values)\n",
    "# r2 score of the model fit\n",
    "r2_model = [cca.score(morphology_data, nomic_data_values), X_c, Y_c][0]\n",
    "print(\"The R2 score for the Canonical Correlation is:\", r2_model)"
   ]
  },
  {
   "cell_type": "markdown",
   "id": "70221870",
   "metadata": {},
   "source": [
    "#### Extract the canonical loadings from the CCA\n",
    "In the absence of scikit-learn canonical loadings.  \n",
    "We would calculate the loads as follows:  \n",
    "$\\tilde{A} = corr(Y,U)$  \n",
    "$\\tilde{B} = corr(X,V)$  \n",
    "Where $X$ and $Y$ are the original data matrices  \n",
    "and $U$ and $V$ are the canonical variates"
   ]
  },
  {
   "cell_type": "code",
   "execution_count": 10,
   "id": "3cb660ae",
   "metadata": {},
   "outputs": [],
   "source": [
    "A_tilde = cca.x_loadings_.T\n",
    "B_tilde = cca.y_loadings_.T"
   ]
  },
  {
   "cell_type": "markdown",
   "id": "258b43b3",
   "metadata": {
    "papermill": {
     "duration": 0.00273,
     "end_time": "2023-11-01T17:37:02.353278",
     "exception": false,
     "start_time": "2023-11-01T17:37:02.350548",
     "status": "completed"
    },
    "tags": []
   },
   "source": [
    "From the canonical coefficients we can calculate the variance extracted by each canonical variable.  \n",
    "$u_k = \\frac{1}{P} \\sum^P_{p=1} \\tilde a^2_{pk}$  \n",
    "  \n",
    "$v_k = \\frac{1}{Q} \\sum^Q_{q=1} \\tilde b^2_{qk}$  \n",
    "Where $k$ is the canonical variable number and $p$ and $q$ are the variables in the original data sets.\n"
   ]
  },
  {
   "cell_type": "code",
   "execution_count": 11,
   "id": "3de0c606",
   "metadata": {},
   "outputs": [],
   "source": [
    "u_k = []\n",
    "v_k = []\n",
    "for i in A_tilde:\n",
    "    u_k.append(np.mean(i**2))\n",
    "for i in B_tilde:\n",
    "    v_k.append(np.mean(i**2))"
   ]
  },
  {
   "cell_type": "markdown",
   "id": "ab20df49",
   "metadata": {},
   "source": [
    "We can caluculate the r2 score for each canonical variable as follows:"
   ]
  },
  {
   "cell_type": "code",
   "execution_count": 12,
   "id": "a813d7b5",
   "metadata": {},
   "outputs": [
    {
     "data": {
      "text/plain": [
       "-22498.077451058954"
      ]
     },
     "execution_count": 12,
     "metadata": {},
     "output_type": "execute_result"
    }
   ],
   "source": [
    "# coefficients of determination for each canonical variable\n",
    "r2 = r2_score(u_k, v_k)\n",
    "r2"
   ]
  },
  {
   "cell_type": "markdown",
   "id": "e642df10",
   "metadata": {},
   "source": [
    "We then caluclate the Redundancy Index (RI) for each canonical variable as follows:  \n",
    "$RI_u = u_k * r^2_k$  \n",
    "$RI_v = v_k * r^2_k$"
   ]
  },
  {
   "cell_type": "code",
   "execution_count": 13,
   "id": "5aeceec7",
   "metadata": {},
   "outputs": [],
   "source": [
    "# calculate the redundancy index for each canonical variable\n",
    "RI_u = []\n",
    "RI_v = []\n",
    "\n",
    "for i in u_k:\n",
    "    RI_u.append(i * r2)\n",
    "for i in v_k:\n",
    "    RI_v.append(i * r2)"
   ]
  },
  {
   "cell_type": "markdown",
   "id": "5407039c",
   "metadata": {},
   "source": [
    "We then caculate the total redundancy of both data sets as follows:  \n",
    "#### $RI_{total} = \\sum^K_{k=1} RI_u + \\sum^K_{k=1} RI_v$  \n",
    "From the total redundancy we can calculate the percentage contribution of each data set to the total redundancy as follows:  \n",
    "#### $RI_{u\\%} = \\frac{\\sum^K_{k=1} RI_u}{RI_{total}}$  \n",
    "#### $RI_{v\\%} = \\frac{\\sum^K_{k=1} RI_v}{RI_{total}}$"
   ]
  },
  {
   "cell_type": "code",
   "execution_count": 14,
   "id": "1584918c",
   "metadata": {},
   "outputs": [],
   "source": [
    "RI_u_min = np.min(RI_u)\n",
    "RI_v_min = np.min(RI_v)\n",
    "RI_u_max = np.max(RI_u)\n",
    "RI_v_max = np.max(RI_v)\n",
    "global_min = np.min([RI_u_min, RI_v_min])\n",
    "global_max = np.max([RI_u_max, RI_v_max])\n",
    "\n",
    "# Calulate the global redundancy index\n",
    "global_RI_u_v = np.sum(RI_u) + np.sum(RI_v)\n",
    "global_RI_u = np.sum(RI_u) / global_RI_u_v * 100\n",
    "global_RI_v = np.sum(RI_v) / global_RI_u_v * 100"
   ]
  },
  {
   "cell_type": "code",
   "execution_count": 15,
   "id": "93d5164c",
   "metadata": {},
   "outputs": [
    {
     "data": {
      "text/html": [
       "<div>\n",
       "<style scoped>\n",
       "    .dataframe tbody tr th:only-of-type {\n",
       "        vertical-align: middle;\n",
       "    }\n",
       "\n",
       "    .dataframe tbody tr th {\n",
       "        vertical-align: top;\n",
       "    }\n",
       "\n",
       "    .dataframe thead th {\n",
       "        text-align: right;\n",
       "    }\n",
       "</style>\n",
       "<table border=\"1\" class=\"dataframe\">\n",
       "  <thead>\n",
       "    <tr style=\"text-align: right;\">\n",
       "      <th></th>\n",
       "      <th>RI_u</th>\n",
       "      <th>RI_v</th>\n",
       "      <th>u_k</th>\n",
       "      <th>v_k</th>\n",
       "      <th>r2</th>\n",
       "      <th>Shuffle</th>\n",
       "      <th>global_RI_u</th>\n",
       "      <th>global_RI_v</th>\n",
       "      <th>global_RI_u_v</th>\n",
       "      <th>global_min</th>\n",
       "      <th>global_max</th>\n",
       "    </tr>\n",
       "  </thead>\n",
       "  <tbody>\n",
       "    <tr>\n",
       "      <th>0</th>\n",
       "      <td>-20.680679</td>\n",
       "      <td>-269.941699</td>\n",
       "      <td>0.000919</td>\n",
       "      <td>0.011998</td>\n",
       "      <td>-22498.077451</td>\n",
       "      <td>True</td>\n",
       "      <td>7.541602</td>\n",
       "      <td>92.458398</td>\n",
       "      <td>-39019.982604</td>\n",
       "      <td>-928.382353</td>\n",
       "      <td>-0.0</td>\n",
       "    </tr>\n",
       "    <tr>\n",
       "      <th>1</th>\n",
       "      <td>-20.620108</td>\n",
       "      <td>-928.382353</td>\n",
       "      <td>0.000917</td>\n",
       "      <td>0.041265</td>\n",
       "      <td>-22498.077451</td>\n",
       "      <td>True</td>\n",
       "      <td>7.541602</td>\n",
       "      <td>92.458398</td>\n",
       "      <td>-39019.982604</td>\n",
       "      <td>-928.382353</td>\n",
       "      <td>-0.0</td>\n",
       "    </tr>\n",
       "    <tr>\n",
       "      <th>2</th>\n",
       "      <td>-20.331814</td>\n",
       "      <td>-202.780922</td>\n",
       "      <td>0.000904</td>\n",
       "      <td>0.009013</td>\n",
       "      <td>-22498.077451</td>\n",
       "      <td>True</td>\n",
       "      <td>7.541602</td>\n",
       "      <td>92.458398</td>\n",
       "      <td>-39019.982604</td>\n",
       "      <td>-928.382353</td>\n",
       "      <td>-0.0</td>\n",
       "    </tr>\n",
       "    <tr>\n",
       "      <th>3</th>\n",
       "      <td>-20.269692</td>\n",
       "      <td>-579.151852</td>\n",
       "      <td>0.000901</td>\n",
       "      <td>0.025742</td>\n",
       "      <td>-22498.077451</td>\n",
       "      <td>True</td>\n",
       "      <td>7.541602</td>\n",
       "      <td>92.458398</td>\n",
       "      <td>-39019.982604</td>\n",
       "      <td>-928.382353</td>\n",
       "      <td>-0.0</td>\n",
       "    </tr>\n",
       "    <tr>\n",
       "      <th>4</th>\n",
       "      <td>-20.081381</td>\n",
       "      <td>-215.744773</td>\n",
       "      <td>0.000893</td>\n",
       "      <td>0.009589</td>\n",
       "      <td>-22498.077451</td>\n",
       "      <td>True</td>\n",
       "      <td>7.541602</td>\n",
       "      <td>92.458398</td>\n",
       "      <td>-39019.982604</td>\n",
       "      <td>-928.382353</td>\n",
       "      <td>-0.0</td>\n",
       "    </tr>\n",
       "  </tbody>\n",
       "</table>\n",
       "</div>"
      ],
      "text/plain": [
       "        RI_u        RI_v       u_k       v_k            r2  Shuffle  \\\n",
       "0 -20.680679 -269.941699  0.000919  0.011998 -22498.077451     True   \n",
       "1 -20.620108 -928.382353  0.000917  0.041265 -22498.077451     True   \n",
       "2 -20.331814 -202.780922  0.000904  0.009013 -22498.077451     True   \n",
       "3 -20.269692 -579.151852  0.000901  0.025742 -22498.077451     True   \n",
       "4 -20.081381 -215.744773  0.000893  0.009589 -22498.077451     True   \n",
       "\n",
       "   global_RI_u  global_RI_v  global_RI_u_v  global_min  global_max  \n",
       "0     7.541602    92.458398  -39019.982604 -928.382353        -0.0  \n",
       "1     7.541602    92.458398  -39019.982604 -928.382353        -0.0  \n",
       "2     7.541602    92.458398  -39019.982604 -928.382353        -0.0  \n",
       "3     7.541602    92.458398  -39019.982604 -928.382353        -0.0  \n",
       "4     7.541602    92.458398  -39019.982604 -928.382353        -0.0  "
      ]
     },
     "execution_count": 15,
     "metadata": {},
     "output_type": "execute_result"
    }
   ],
   "source": [
    "# make a dataframe of the results\n",
    "results_df = pd.DataFrame(\n",
    "    {\n",
    "        \"RI_u\": RI_u,\n",
    "        \"RI_v\": RI_v,\n",
    "        \"u_k\": u_k,\n",
    "        \"v_k\": v_k,\n",
    "        \"r2\": r2,\n",
    "        \"Shuffle\": Shuffle,\n",
    "        \"global_RI_u\": global_RI_u,\n",
    "        \"global_RI_v\": global_RI_v,\n",
    "        \"global_RI_u_v\": global_RI_u_v,\n",
    "        \"global_min\": global_min,\n",
    "        \"global_max\": global_max,\n",
    "    }\n",
    ")\n",
    "results_df.head(5)"
   ]
  },
  {
   "cell_type": "code",
   "execution_count": 16,
   "id": "229d975f",
   "metadata": {},
   "outputs": [
    {
     "name": "stdout",
     "output_type": "stream",
     "text": [
      "The results file exists.\n"
     ]
    }
   ],
   "source": [
    "# check for file existence\n",
    "if results_file_path.is_file():\n",
    "    print(\"The results file exists.\")\n",
    "    #  read the results file\n",
    "    existing_file_df = pd.read_csv(results_file_path)\n",
    "    # check for if it is full for shuffle type\n",
    "    if len(existing_file_df[\"Shuffle\"].unique()) > 1:\n",
    "        # delete the existing file\n",
    "        results_file_path.unlink()\n",
    "    elif not existing_file_df[\"Shuffle\"].unique() == Shuffle:\n",
    "        pd.concat([existing_file_df, results_df]).to_csv(results_file_path, index=False)\n",
    "else:\n",
    "    results_df.to_csv(results_file_path, index=False)\n",
    "    print(\"The results file is created.\")"
   ]
  }
 ],
 "metadata": {
  "kernelspec": {
   "display_name": "Interstellar",
   "language": "python",
   "name": "python3"
  },
  "language_info": {
   "codemirror_mode": {
    "name": "ipython",
    "version": 3
   },
   "file_extension": ".py",
   "mimetype": "text/x-python",
   "name": "python",
   "nbconvert_exporter": "python",
   "pygments_lexer": "ipython3",
   "version": "3.10.12"
  },
  "papermill": {
   "default_parameters": {},
   "duration": 633.338407,
   "end_time": "2023-11-01T17:47:24.953615",
   "environment_variables": {},
   "exception": null,
   "input_path": "0.redundancy_analysis.ipynb",
   "output_path": "0.redundancy_analysis.ipynb",
   "parameters": {
    "Shuffle": false,
    "cell_type": "PBMC"
   },
   "start_time": "2023-11-01T17:36:51.615208",
   "version": "2.4.0"
  }
 },
 "nbformat": 4,
 "nbformat_minor": 5
}
