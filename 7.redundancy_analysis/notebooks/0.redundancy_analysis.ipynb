{
 "cells": [
  {
   "cell_type": "markdown",
   "id": "14a206ff",
   "metadata": {
    "papermill": {
     "duration": 0.002217,
     "end_time": "2023-11-01T17:36:52.287720",
     "exception": false,
     "start_time": "2023-11-01T17:36:52.285503",
     "status": "completed"
    },
    "tags": []
   },
   "source": [
    "# Canonical Correlation Analysis (CCA)\n",
    "Here I calculate the Canonical Correlation Coefficients and the canonical variables for the two datasets. \n",
    "I also plot the correlation coefficients and the canonical variables."
   ]
  },
  {
   "cell_type": "code",
   "execution_count": 1,
   "id": "87720c69",
   "metadata": {
    "execution": {
     "iopub.execute_input": "2023-11-01T17:36:52.291799Z",
     "iopub.status.busy": "2023-11-01T17:36:52.291493Z",
     "iopub.status.idle": "2023-11-01T17:36:52.851217Z",
     "shell.execute_reply": "2023-11-01T17:36:52.850895Z"
    },
    "papermill": {
     "duration": 0.562742,
     "end_time": "2023-11-01T17:36:52.852170",
     "exception": false,
     "start_time": "2023-11-01T17:36:52.289428",
     "status": "completed"
    },
    "tags": []
   },
   "outputs": [],
   "source": [
    "import pathlib\n",
    "\n",
    "import matplotlib.pyplot as plt\n",
    "import numpy as np\n",
    "import pandas as pd\n",
    "import seaborn as sns\n",
    "from sklearn.cross_decomposition import CCA\n",
    "from sklearn.metrics import r2_score\n",
    "from sklearn.preprocessing import StandardScaler\n",
    "from tqdm import tqdm"
   ]
  },
  {
   "cell_type": "code",
   "execution_count": 2,
   "id": "69cabaa6",
   "metadata": {
    "execution": {
     "iopub.execute_input": "2023-11-01T17:36:52.858008Z",
     "iopub.status.busy": "2023-11-01T17:36:52.857575Z",
     "iopub.status.idle": "2023-11-01T17:36:52.859597Z",
     "shell.execute_reply": "2023-11-01T17:36:52.859342Z"
    },
    "papermill": {
     "duration": 0.005309,
     "end_time": "2023-11-01T17:36:52.860197",
     "exception": false,
     "start_time": "2023-11-01T17:36:52.854888",
     "status": "completed"
    },
    "tags": [
     "injected-parameters"
    ]
   },
   "outputs": [],
   "source": [
    "# Parameters\n",
    "cell_type = \"SHSY5Y\"\n",
    "Shuffle = False"
   ]
  },
  {
   "cell_type": "code",
   "execution_count": 3,
   "id": "4b1e3226",
   "metadata": {
    "execution": {
     "iopub.execute_input": "2023-11-01T17:36:52.864045Z",
     "iopub.status.busy": "2023-11-01T17:36:52.863779Z",
     "iopub.status.idle": "2023-11-01T17:36:53.000477Z",
     "shell.execute_reply": "2023-11-01T17:36:53.000164Z"
    },
    "papermill": {
     "duration": 0.139771,
     "end_time": "2023-11-01T17:36:53.001573",
     "exception": false,
     "start_time": "2023-11-01T17:36:52.861802",
     "status": "completed"
    },
    "tags": []
   },
   "outputs": [],
   "source": [
    "# set paths to data\n",
    "morphology_data_path = pathlib.Path(\n",
    "    f\"../../data/{cell_type}_preprocessed_sc_norm_aggregated.parquet\"\n",
    ").resolve(strict=True)\n",
    "nomic_data_path = pathlib.Path(\n",
    "    f\"../../2.Nomic_nELISA_Analysis/Data/clean/Plate2/nELISA_plate_430420_{cell_type}_clean.parquet\"\n",
    ").resolve(strict=True)\n",
    "\n",
    "# output path\n",
    "results_file_path = pathlib.Path(f\"../results/{cell_type}_redundancy_analysis.csv\")\n",
    "results_file_path.parent.mkdir(parents=True, exist_ok=True)\n",
    "\n",
    "# read data\n",
    "morphology_data = pd.read_parquet(morphology_data_path)\n",
    "nomic_data = pd.read_parquet(nomic_data_path)"
   ]
  },
  {
   "cell_type": "code",
   "execution_count": 4,
   "id": "198b1de1",
   "metadata": {
    "execution": {
     "iopub.execute_input": "2023-11-01T17:36:53.006003Z",
     "iopub.status.busy": "2023-11-01T17:36:53.005570Z",
     "iopub.status.idle": "2023-11-01T17:36:53.010002Z",
     "shell.execute_reply": "2023-11-01T17:36:53.009761Z"
    },
    "papermill": {
     "duration": 0.007311,
     "end_time": "2023-11-01T17:36:53.010764",
     "exception": false,
     "start_time": "2023-11-01T17:36:53.003453",
     "status": "completed"
    },
    "tags": []
   },
   "outputs": [],
   "source": [
    "# get the columns that contain metadata\n",
    "morphology_metadata = morphology_data[\n",
    "    morphology_data.columns[morphology_data.columns.str.contains(\"Metadata\")]\n",
    "]\n",
    "morphology_data = morphology_data.drop(morphology_metadata.columns, axis=1)\n",
    "\n",
    "nomic_data_values = nomic_data[\n",
    "    nomic_data.columns[nomic_data.columns.str.contains(\"[NSU]\", regex=True)]\n",
    "]\n",
    "nomic_metadata = nomic_data.drop(nomic_data_values.columns, axis=1)"
   ]
  },
  {
   "cell_type": "code",
   "execution_count": 5,
   "id": "35e68936",
   "metadata": {
    "execution": {
     "iopub.execute_input": "2023-11-01T17:36:53.014756Z",
     "iopub.status.busy": "2023-11-01T17:36:53.014497Z",
     "iopub.status.idle": "2023-11-01T17:36:53.019092Z",
     "shell.execute_reply": "2023-11-01T17:36:53.018836Z"
    },
    "papermill": {
     "duration": 0.007281,
     "end_time": "2023-11-01T17:36:53.019808",
     "exception": false,
     "start_time": "2023-11-01T17:36:53.012527",
     "status": "completed"
    },
    "tags": []
   },
   "outputs": [],
   "source": [
    "# standardize the data for nomic standard scalar\n",
    "scaler = StandardScaler()\n",
    "nomic_data_values = scaler.fit_transform(nomic_data_values)\n",
    "nomic_data_values = pd.DataFrame(\n",
    "    nomic_data_values,\n",
    "    columns=nomic_data.columns[nomic_data.columns.str.contains(\"[NSU]\", regex=True)],\n",
    ")"
   ]
  },
  {
   "cell_type": "code",
   "execution_count": 6,
   "id": "096ebd42",
   "metadata": {},
   "outputs": [
    {
     "data": {
      "text/html": [
       "<div>\n",
       "<style scoped>\n",
       "    .dataframe tbody tr th:only-of-type {\n",
       "        vertical-align: middle;\n",
       "    }\n",
       "\n",
       "    .dataframe tbody tr th {\n",
       "        vertical-align: top;\n",
       "    }\n",
       "\n",
       "    .dataframe thead th {\n",
       "        text-align: right;\n",
       "    }\n",
       "</style>\n",
       "<table border=\"1\" class=\"dataframe\">\n",
       "  <thead>\n",
       "    <tr style=\"text-align: right;\">\n",
       "      <th></th>\n",
       "      <th>Activin A [NSU]</th>\n",
       "      <th>AITRL (GITR Ligand) [NSU]</th>\n",
       "      <th>Amphiregulin [NSU]</th>\n",
       "      <th>Amyloid beta [NSU]</th>\n",
       "      <th>APRIL [NSU]</th>\n",
       "      <th>BAFF [NSU]</th>\n",
       "      <th>BCMA (TNFRSF17) [NSU]</th>\n",
       "      <th>BDNF [NSU]</th>\n",
       "      <th>BMP2 [NSU]</th>\n",
       "      <th>BMP3 [NSU]</th>\n",
       "      <th>...</th>\n",
       "      <th>TWEAK [NSU]</th>\n",
       "      <th>uPA [NSU]</th>\n",
       "      <th>VCAM-1 [NSU]</th>\n",
       "      <th>VEGF Receptor 2 (Flk-1) [NSU]</th>\n",
       "      <th>VEGF-A (165) [NSU]</th>\n",
       "      <th>VEGF-C [NSU]</th>\n",
       "      <th>VEGF-D [NSU]</th>\n",
       "      <th>VEGFR-1 [NSU]</th>\n",
       "      <th>WISP-1 (CCN4) [NSU]</th>\n",
       "      <th>XCL1 (Lymphotactin) [NSU]</th>\n",
       "    </tr>\n",
       "  </thead>\n",
       "  <tbody>\n",
       "    <tr>\n",
       "      <th>count</th>\n",
       "      <td>1.540000e+02</td>\n",
       "      <td>1.540000e+02</td>\n",
       "      <td>1.540000e+02</td>\n",
       "      <td>1.540000e+02</td>\n",
       "      <td>1.540000e+02</td>\n",
       "      <td>1.540000e+02</td>\n",
       "      <td>1.540000e+02</td>\n",
       "      <td>1.540000e+02</td>\n",
       "      <td>1.540000e+02</td>\n",
       "      <td>1.540000e+02</td>\n",
       "      <td>...</td>\n",
       "      <td>1.540000e+02</td>\n",
       "      <td>1.540000e+02</td>\n",
       "      <td>1.540000e+02</td>\n",
       "      <td>1.540000e+02</td>\n",
       "      <td>1.540000e+02</td>\n",
       "      <td>1.540000e+02</td>\n",
       "      <td>1.540000e+02</td>\n",
       "      <td>1.540000e+02</td>\n",
       "      <td>1.540000e+02</td>\n",
       "      <td>1.540000e+02</td>\n",
       "    </tr>\n",
       "    <tr>\n",
       "      <th>mean</th>\n",
       "      <td>-5.767392e-18</td>\n",
       "      <td>2.537653e-16</td>\n",
       "      <td>-1.586033e-17</td>\n",
       "      <td>-2.883696e-16</td>\n",
       "      <td>-4.210196e-16</td>\n",
       "      <td>-3.460435e-16</td>\n",
       "      <td>-6.949708e-16</td>\n",
       "      <td>8.074349e-17</td>\n",
       "      <td>-1.672544e-16</td>\n",
       "      <td>-2.710674e-16</td>\n",
       "      <td>...</td>\n",
       "      <td>5.767392e-17</td>\n",
       "      <td>-6.920871e-17</td>\n",
       "      <td>1.023712e-16</td>\n",
       "      <td>-4.412055e-16</td>\n",
       "      <td>-5.306001e-16</td>\n",
       "      <td>1.874403e-16</td>\n",
       "      <td>1.845566e-16</td>\n",
       "      <td>-2.220446e-16</td>\n",
       "      <td>-4.498566e-16</td>\n",
       "      <td>1.845566e-16</td>\n",
       "    </tr>\n",
       "    <tr>\n",
       "      <th>std</th>\n",
       "      <td>1.003263e+00</td>\n",
       "      <td>1.003263e+00</td>\n",
       "      <td>1.003263e+00</td>\n",
       "      <td>1.003263e+00</td>\n",
       "      <td>1.003263e+00</td>\n",
       "      <td>1.003263e+00</td>\n",
       "      <td>1.003263e+00</td>\n",
       "      <td>1.003263e+00</td>\n",
       "      <td>1.003263e+00</td>\n",
       "      <td>1.003263e+00</td>\n",
       "      <td>...</td>\n",
       "      <td>1.003263e+00</td>\n",
       "      <td>1.003263e+00</td>\n",
       "      <td>1.003263e+00</td>\n",
       "      <td>1.003263e+00</td>\n",
       "      <td>1.003263e+00</td>\n",
       "      <td>1.003263e+00</td>\n",
       "      <td>1.003263e+00</td>\n",
       "      <td>1.003263e+00</td>\n",
       "      <td>1.003263e+00</td>\n",
       "      <td>1.003263e+00</td>\n",
       "    </tr>\n",
       "    <tr>\n",
       "      <th>min</th>\n",
       "      <td>-2.691866e+00</td>\n",
       "      <td>-2.696353e+00</td>\n",
       "      <td>-2.237568e+00</td>\n",
       "      <td>-2.456348e+00</td>\n",
       "      <td>-2.837719e+00</td>\n",
       "      <td>-2.684119e+00</td>\n",
       "      <td>-3.451689e+00</td>\n",
       "      <td>-3.569405e+00</td>\n",
       "      <td>-2.629060e+00</td>\n",
       "      <td>-2.635962e+00</td>\n",
       "      <td>...</td>\n",
       "      <td>-2.365982e+00</td>\n",
       "      <td>-1.483717e+00</td>\n",
       "      <td>-2.251355e+00</td>\n",
       "      <td>-2.502359e+00</td>\n",
       "      <td>-2.476014e+00</td>\n",
       "      <td>-2.028581e+00</td>\n",
       "      <td>-2.933628e+00</td>\n",
       "      <td>-2.575479e+00</td>\n",
       "      <td>-2.707078e+00</td>\n",
       "      <td>-2.665481e+00</td>\n",
       "    </tr>\n",
       "    <tr>\n",
       "      <th>25%</th>\n",
       "      <td>-7.382462e-01</td>\n",
       "      <td>-6.940149e-01</td>\n",
       "      <td>-7.268042e-01</td>\n",
       "      <td>-6.476923e-01</td>\n",
       "      <td>-6.716020e-01</td>\n",
       "      <td>-7.260002e-01</td>\n",
       "      <td>-5.677978e-01</td>\n",
       "      <td>-6.072838e-01</td>\n",
       "      <td>-6.428204e-01</td>\n",
       "      <td>-6.966886e-01</td>\n",
       "      <td>...</td>\n",
       "      <td>-7.332631e-01</td>\n",
       "      <td>-6.026020e-01</td>\n",
       "      <td>-7.454492e-01</td>\n",
       "      <td>-6.688754e-01</td>\n",
       "      <td>-6.648255e-01</td>\n",
       "      <td>-6.218562e-01</td>\n",
       "      <td>-6.166921e-01</td>\n",
       "      <td>-5.960095e-01</td>\n",
       "      <td>-6.397282e-01</td>\n",
       "      <td>-6.772764e-01</td>\n",
       "    </tr>\n",
       "    <tr>\n",
       "      <th>50%</th>\n",
       "      <td>-7.722240e-02</td>\n",
       "      <td>-3.012511e-02</td>\n",
       "      <td>1.418990e-02</td>\n",
       "      <td>9.647868e-02</td>\n",
       "      <td>8.166907e-02</td>\n",
       "      <td>-4.792004e-02</td>\n",
       "      <td>2.800882e-02</td>\n",
       "      <td>6.682614e-02</td>\n",
       "      <td>3.158489e-02</td>\n",
       "      <td>6.926583e-02</td>\n",
       "      <td>...</td>\n",
       "      <td>-3.425331e-02</td>\n",
       "      <td>-2.746469e-01</td>\n",
       "      <td>-3.635448e-02</td>\n",
       "      <td>-3.673122e-02</td>\n",
       "      <td>-3.618958e-02</td>\n",
       "      <td>-3.428984e-02</td>\n",
       "      <td>-2.668467e-02</td>\n",
       "      <td>3.575778e-02</td>\n",
       "      <td>-8.369562e-02</td>\n",
       "      <td>-3.026831e-02</td>\n",
       "    </tr>\n",
       "    <tr>\n",
       "      <th>75%</th>\n",
       "      <td>6.461317e-01</td>\n",
       "      <td>7.332197e-01</td>\n",
       "      <td>6.070213e-01</td>\n",
       "      <td>6.230867e-01</td>\n",
       "      <td>7.491312e-01</td>\n",
       "      <td>6.578601e-01</td>\n",
       "      <td>5.727327e-01</td>\n",
       "      <td>6.151911e-01</td>\n",
       "      <td>6.890445e-01</td>\n",
       "      <td>6.578658e-01</td>\n",
       "      <td>...</td>\n",
       "      <td>6.076744e-01</td>\n",
       "      <td>3.022558e-01</td>\n",
       "      <td>6.476946e-01</td>\n",
       "      <td>6.489825e-01</td>\n",
       "      <td>6.997961e-01</td>\n",
       "      <td>3.930677e-01</td>\n",
       "      <td>6.191390e-01</td>\n",
       "      <td>6.505894e-01</td>\n",
       "      <td>8.313301e-01</td>\n",
       "      <td>7.287864e-01</td>\n",
       "    </tr>\n",
       "    <tr>\n",
       "      <th>max</th>\n",
       "      <td>2.557580e+00</td>\n",
       "      <td>2.202141e+00</td>\n",
       "      <td>4.555992e+00</td>\n",
       "      <td>2.548749e+00</td>\n",
       "      <td>2.671947e+00</td>\n",
       "      <td>3.454775e+00</td>\n",
       "      <td>2.866139e+00</td>\n",
       "      <td>3.064857e+00</td>\n",
       "      <td>2.550136e+00</td>\n",
       "      <td>3.315288e+00</td>\n",
       "      <td>...</td>\n",
       "      <td>3.341457e+00</td>\n",
       "      <td>4.055895e+00</td>\n",
       "      <td>3.050163e+00</td>\n",
       "      <td>2.921248e+00</td>\n",
       "      <td>2.564062e+00</td>\n",
       "      <td>5.374768e+00</td>\n",
       "      <td>3.222332e+00</td>\n",
       "      <td>2.501835e+00</td>\n",
       "      <td>2.604819e+00</td>\n",
       "      <td>2.220510e+00</td>\n",
       "    </tr>\n",
       "  </tbody>\n",
       "</table>\n",
       "<p>8 rows × 187 columns</p>\n",
       "</div>"
      ],
      "text/plain": [
       "       Activin A [NSU]  AITRL (GITR Ligand) [NSU]  Amphiregulin [NSU]  \\\n",
       "count     1.540000e+02               1.540000e+02        1.540000e+02   \n",
       "mean     -5.767392e-18               2.537653e-16       -1.586033e-17   \n",
       "std       1.003263e+00               1.003263e+00        1.003263e+00   \n",
       "min      -2.691866e+00              -2.696353e+00       -2.237568e+00   \n",
       "25%      -7.382462e-01              -6.940149e-01       -7.268042e-01   \n",
       "50%      -7.722240e-02              -3.012511e-02        1.418990e-02   \n",
       "75%       6.461317e-01               7.332197e-01        6.070213e-01   \n",
       "max       2.557580e+00               2.202141e+00        4.555992e+00   \n",
       "\n",
       "       Amyloid beta [NSU]   APRIL [NSU]    BAFF [NSU]  BCMA (TNFRSF17) [NSU]  \\\n",
       "count        1.540000e+02  1.540000e+02  1.540000e+02           1.540000e+02   \n",
       "mean        -2.883696e-16 -4.210196e-16 -3.460435e-16          -6.949708e-16   \n",
       "std          1.003263e+00  1.003263e+00  1.003263e+00           1.003263e+00   \n",
       "min         -2.456348e+00 -2.837719e+00 -2.684119e+00          -3.451689e+00   \n",
       "25%         -6.476923e-01 -6.716020e-01 -7.260002e-01          -5.677978e-01   \n",
       "50%          9.647868e-02  8.166907e-02 -4.792004e-02           2.800882e-02   \n",
       "75%          6.230867e-01  7.491312e-01  6.578601e-01           5.727327e-01   \n",
       "max          2.548749e+00  2.671947e+00  3.454775e+00           2.866139e+00   \n",
       "\n",
       "         BDNF [NSU]    BMP2 [NSU]    BMP3 [NSU]  ...   TWEAK [NSU]  \\\n",
       "count  1.540000e+02  1.540000e+02  1.540000e+02  ...  1.540000e+02   \n",
       "mean   8.074349e-17 -1.672544e-16 -2.710674e-16  ...  5.767392e-17   \n",
       "std    1.003263e+00  1.003263e+00  1.003263e+00  ...  1.003263e+00   \n",
       "min   -3.569405e+00 -2.629060e+00 -2.635962e+00  ... -2.365982e+00   \n",
       "25%   -6.072838e-01 -6.428204e-01 -6.966886e-01  ... -7.332631e-01   \n",
       "50%    6.682614e-02  3.158489e-02  6.926583e-02  ... -3.425331e-02   \n",
       "75%    6.151911e-01  6.890445e-01  6.578658e-01  ...  6.076744e-01   \n",
       "max    3.064857e+00  2.550136e+00  3.315288e+00  ...  3.341457e+00   \n",
       "\n",
       "          uPA [NSU]  VCAM-1 [NSU]  VEGF Receptor 2 (Flk-1) [NSU]  \\\n",
       "count  1.540000e+02  1.540000e+02                   1.540000e+02   \n",
       "mean  -6.920871e-17  1.023712e-16                  -4.412055e-16   \n",
       "std    1.003263e+00  1.003263e+00                   1.003263e+00   \n",
       "min   -1.483717e+00 -2.251355e+00                  -2.502359e+00   \n",
       "25%   -6.026020e-01 -7.454492e-01                  -6.688754e-01   \n",
       "50%   -2.746469e-01 -3.635448e-02                  -3.673122e-02   \n",
       "75%    3.022558e-01  6.476946e-01                   6.489825e-01   \n",
       "max    4.055895e+00  3.050163e+00                   2.921248e+00   \n",
       "\n",
       "       VEGF-A (165) [NSU]  VEGF-C [NSU]  VEGF-D [NSU]  VEGFR-1 [NSU]  \\\n",
       "count        1.540000e+02  1.540000e+02  1.540000e+02   1.540000e+02   \n",
       "mean        -5.306001e-16  1.874403e-16  1.845566e-16  -2.220446e-16   \n",
       "std          1.003263e+00  1.003263e+00  1.003263e+00   1.003263e+00   \n",
       "min         -2.476014e+00 -2.028581e+00 -2.933628e+00  -2.575479e+00   \n",
       "25%         -6.648255e-01 -6.218562e-01 -6.166921e-01  -5.960095e-01   \n",
       "50%         -3.618958e-02 -3.428984e-02 -2.668467e-02   3.575778e-02   \n",
       "75%          6.997961e-01  3.930677e-01  6.191390e-01   6.505894e-01   \n",
       "max          2.564062e+00  5.374768e+00  3.222332e+00   2.501835e+00   \n",
       "\n",
       "       WISP-1 (CCN4) [NSU]  XCL1 (Lymphotactin) [NSU]  \n",
       "count         1.540000e+02               1.540000e+02  \n",
       "mean         -4.498566e-16               1.845566e-16  \n",
       "std           1.003263e+00               1.003263e+00  \n",
       "min          -2.707078e+00              -2.665481e+00  \n",
       "25%          -6.397282e-01              -6.772764e-01  \n",
       "50%          -8.369562e-02              -3.026831e-02  \n",
       "75%           8.313301e-01               7.287864e-01  \n",
       "max           2.604819e+00               2.220510e+00  \n",
       "\n",
       "[8 rows x 187 columns]"
      ]
     },
     "execution_count": 6,
     "metadata": {},
     "output_type": "execute_result"
    }
   ],
   "source": [
    "# check the scale of the data\n",
    "nomic_data_values.describe()"
   ]
  },
  {
   "cell_type": "code",
   "execution_count": 7,
   "id": "32bd2773",
   "metadata": {
    "execution": {
     "iopub.execute_input": "2023-11-01T17:36:53.023815Z",
     "iopub.status.busy": "2023-11-01T17:36:53.023498Z",
     "iopub.status.idle": "2023-11-01T17:36:53.025792Z",
     "shell.execute_reply": "2023-11-01T17:36:53.025556Z"
    },
    "papermill": {
     "duration": 0.004831,
     "end_time": "2023-11-01T17:36:53.026366",
     "exception": false,
     "start_time": "2023-11-01T17:36:53.021535",
     "status": "completed"
    },
    "tags": []
   },
   "outputs": [],
   "source": [
    "# shuffle the data both rows and columns\n",
    "if Shuffle:\n",
    "    for column in nomic_data_values:\n",
    "        np.random.shuffle(nomic_data_values[column].values)\n",
    "    for column in morphology_data:\n",
    "        np.random.shuffle(morphology_data[column].values)"
   ]
  },
  {
   "cell_type": "markdown",
   "id": "c7b471d9",
   "metadata": {
    "papermill": {
     "duration": 0.001578,
     "end_time": "2023-11-01T17:36:53.029623",
     "exception": false,
     "start_time": "2023-11-01T17:36:53.028045",
     "status": "completed"
    },
    "tags": []
   },
   "source": [
    "### Variables\n",
    "$Y_{M \\times P} = MorphologyData$  \n",
    "$X_{N \\times Q} = NomicData$  \n",
    "Where  \n",
    "$M = Rows of MorphologyData$  \n",
    "$P = Columns of MorphologyData$  \n",
    "$N = Rows of NomicData$  \n",
    "$Q = Columns of NomicData$  "
   ]
  },
  {
   "cell_type": "code",
   "execution_count": 8,
   "id": "ee880378",
   "metadata": {
    "execution": {
     "iopub.execute_input": "2023-11-01T17:36:53.033604Z",
     "iopub.status.busy": "2023-11-01T17:36:53.033351Z",
     "iopub.status.idle": "2023-11-01T17:36:53.035876Z",
     "shell.execute_reply": "2023-11-01T17:36:53.035632Z"
    },
    "papermill": {
     "duration": 0.005304,
     "end_time": "2023-11-01T17:36:53.036516",
     "exception": false,
     "start_time": "2023-11-01T17:36:53.031212",
     "status": "completed"
    },
    "tags": []
   },
   "outputs": [
    {
     "name": "stdout",
     "output_type": "stream",
     "text": [
      "N: 154 P: 1251 Q: 187\n",
      "K: 154\n"
     ]
    }
   ],
   "source": [
    "# define the variables\n",
    "N = morphology_data.shape[0]\n",
    "P = morphology_data.shape[1]\n",
    "\n",
    "N = nomic_data_values.shape[0]\n",
    "Q = nomic_data_values.shape[1]\n",
    "print(\"N:\", N, \"P:\", P, \"Q:\", Q)\n",
    "K = min(N, P, Q)\n",
    "print(\"K:\", K)"
   ]
  },
  {
   "cell_type": "code",
   "execution_count": 9,
   "id": "fb97f56c",
   "metadata": {
    "execution": {
     "iopub.execute_input": "2023-11-01T17:36:53.040595Z",
     "iopub.status.busy": "2023-11-01T17:36:53.040282Z",
     "iopub.status.idle": "2023-11-01T17:37:02.335376Z",
     "shell.execute_reply": "2023-11-01T17:37:02.334966Z"
    },
    "papermill": {
     "duration": 9.29809,
     "end_time": "2023-11-01T17:37:02.336360",
     "exception": false,
     "start_time": "2023-11-01T17:36:53.038270",
     "status": "completed"
    },
    "tags": []
   },
   "outputs": [
    {
     "name": "stdout",
     "output_type": "stream",
     "text": [
      "The R2 score for the Canonical Correlation is: 0.1549824908098266\n"
     ]
    },
    {
     "name": "stderr",
     "output_type": "stream",
     "text": [
      "/home/lippincm/miniconda3/envs/Interstellar/lib/python3.10/site-packages/sklearn/cross_decomposition/_pls.py:302: UserWarning: Y residual is constant at iteration 153\n",
      "  warnings.warn(f\"Y residual is constant at iteration {k}\")\n"
     ]
    }
   ],
   "source": [
    "cca = CCA(n_components=K)\n",
    "cca.fit(morphology_data, nomic_data_values)\n",
    "X_c, Y_c = cca.transform(morphology_data, nomic_data_values)\n",
    "r2 = [cca.score(morphology_data, nomic_data_values), X_c, Y_c][0]\n",
    "print(\"The R2 score for the Canonical Correlation is:\", r2)"
   ]
  },
  {
   "cell_type": "code",
   "execution_count": 10,
   "id": "3cb660ae",
   "metadata": {},
   "outputs": [],
   "source": [
    "A_tilde = cca.x_loadings_.T\n",
    "B_tilde = cca.y_loadings_.T"
   ]
  },
  {
   "cell_type": "markdown",
   "id": "258b43b3",
   "metadata": {
    "papermill": {
     "duration": 0.00273,
     "end_time": "2023-11-01T17:37:02.353278",
     "exception": false,
     "start_time": "2023-11-01T17:37:02.350548",
     "status": "completed"
    },
    "tags": []
   },
   "source": [
    "From the canonical coefficients we can calculate the variance extracted by each canonical variable.  \n",
    "$u_k = \\frac{1}{P} \\sum^P_{p=1} \\tilde a^2_{pk}$  \n",
    "  \n",
    "$v_k = \\frac{1}{Q} \\sum^Q_{q=1} \\tilde a^2_{qk}$"
   ]
  },
  {
   "cell_type": "code",
   "execution_count": 11,
   "id": "3de0c606",
   "metadata": {},
   "outputs": [],
   "source": [
    "u_k = []\n",
    "v_k = []\n",
    "for i in A_tilde:\n",
    "    u_k.append(np.mean(i**2))\n",
    "for i in B_tilde:\n",
    "    v_k.append(np.mean(i**2))"
   ]
  },
  {
   "cell_type": "code",
   "execution_count": 12,
   "id": "a813d7b5",
   "metadata": {},
   "outputs": [],
   "source": [
    "# coefficients of determination for each canonical variable\n",
    "r2 = r2_score(u_k, v_k)"
   ]
  },
  {
   "cell_type": "code",
   "execution_count": 13,
   "id": "5aeceec7",
   "metadata": {},
   "outputs": [],
   "source": [
    "# calculate the redundancy index for each canonical variable\n",
    "RI_u = []\n",
    "RI_v = []\n",
    "\n",
    "for i in u_k:\n",
    "    RI_u.append(i * r2)\n",
    "for i in v_k:\n",
    "    RI_v.append(i * r2)"
   ]
  },
  {
   "cell_type": "code",
   "execution_count": 14,
   "id": "5a5d46e6",
   "metadata": {},
   "outputs": [
    {
     "data": {
      "text/plain": [
       "[<matplotlib.lines.Line2D at 0x7f74debaf250>]"
      ]
     },
     "execution_count": 14,
     "metadata": {},
     "output_type": "execute_result"
    },
    {
     "data": {
      "image/png": "[encoded data removed]",
      "text/plain": [
       "<Figure size 1000x1000 with 1 Axes>"
      ]
     },
     "metadata": {},
     "output_type": "display_data"
    }
   ],
   "source": [
    "RI_u_min = np.min(RI_u)\n",
    "RI_v_min = np.min(RI_v)\n",
    "RI_u_max = np.max(RI_u)\n",
    "RI_v_max = np.max(RI_v)\n",
    "global_min = np.min([RI_u_min, RI_v_min])\n",
    "global_max = np.max([RI_u_max, RI_v_max])\n",
    "\n",
    "# Calulate the global redundancy index\n",
    "global_RI_u_v = np.sum(RI_u) + np.sum(RI_v)\n",
    "global_RI_u = np.sum(RI_u) / global_RI_u_v * 100\n",
    "global_RI_v = np.sum(RI_v) / global_RI_u_v * 100\n",
    "\n",
    "# plot RI_u and RI_v\n",
    "sns.set_theme(style=\"whitegrid\")\n",
    "plt.figure(figsize=(10, 10))\n",
    "plt.scatter(RI_u, RI_v)\n",
    "plt.xlabel(f\"RI of u ( {round(global_RI_u,2)}%)\")\n",
    "plt.ylabel(f\"RI of v ( {round(global_RI_v,2)}%)\")\n",
    "plt.xlim(global_min, global_max)\n",
    "plt.ylim(global_min, global_max)\n",
    "# add a line of y=x to the plot\n",
    "plt.plot(\n",
    "    [global_min, global_max],\n",
    "    [global_min, global_max],\n",
    "    color=\"red\",\n",
    "    linestyle=\"-\",\n",
    "    linewidth=2,\n",
    ")"
   ]
  },
  {
   "cell_type": "code",
   "execution_count": 15,
   "id": "93d5164c",
   "metadata": {},
   "outputs": [
    {
     "data": {
      "text/html": [
       "<div>\n",
       "<style scoped>\n",
       "    .dataframe tbody tr th:only-of-type {\n",
       "        vertical-align: middle;\n",
       "    }\n",
       "\n",
       "    .dataframe tbody tr th {\n",
       "        vertical-align: top;\n",
       "    }\n",
       "\n",
       "    .dataframe thead th {\n",
       "        text-align: right;\n",
       "    }\n",
       "</style>\n",
       "<table border=\"1\" class=\"dataframe\">\n",
       "  <thead>\n",
       "    <tr style=\"text-align: right;\">\n",
       "      <th></th>\n",
       "      <th>RI_u</th>\n",
       "      <th>RI_v</th>\n",
       "      <th>u_k</th>\n",
       "      <th>v_k</th>\n",
       "      <th>r2</th>\n",
       "      <th>Shuffle</th>\n",
       "    </tr>\n",
       "  </thead>\n",
       "  <tbody>\n",
       "    <tr>\n",
       "      <th>0</th>\n",
       "      <td>-0.022901</td>\n",
       "      <td>-0.068289</td>\n",
       "      <td>0.003336</td>\n",
       "      <td>0.009947</td>\n",
       "      <td>-6.865314</td>\n",
       "      <td>False</td>\n",
       "    </tr>\n",
       "    <tr>\n",
       "      <th>1</th>\n",
       "      <td>-0.100897</td>\n",
       "      <td>-0.236104</td>\n",
       "      <td>0.014697</td>\n",
       "      <td>0.034391</td>\n",
       "      <td>-6.865314</td>\n",
       "      <td>False</td>\n",
       "    </tr>\n",
       "    <tr>\n",
       "      <th>2</th>\n",
       "      <td>-0.066115</td>\n",
       "      <td>-0.120811</td>\n",
       "      <td>0.009630</td>\n",
       "      <td>0.017597</td>\n",
       "      <td>-6.865314</td>\n",
       "      <td>False</td>\n",
       "    </tr>\n",
       "    <tr>\n",
       "      <th>3</th>\n",
       "      <td>-0.158201</td>\n",
       "      <td>-0.361020</td>\n",
       "      <td>0.023043</td>\n",
       "      <td>0.052586</td>\n",
       "      <td>-6.865314</td>\n",
       "      <td>False</td>\n",
       "    </tr>\n",
       "    <tr>\n",
       "      <th>4</th>\n",
       "      <td>-0.032683</td>\n",
       "      <td>-0.107614</td>\n",
       "      <td>0.004761</td>\n",
       "      <td>0.015675</td>\n",
       "      <td>-6.865314</td>\n",
       "      <td>False</td>\n",
       "    </tr>\n",
       "  </tbody>\n",
       "</table>\n",
       "</div>"
      ],
      "text/plain": [
       "       RI_u      RI_v       u_k       v_k        r2  Shuffle\n",
       "0 -0.022901 -0.068289  0.003336  0.009947 -6.865314    False\n",
       "1 -0.100897 -0.236104  0.014697  0.034391 -6.865314    False\n",
       "2 -0.066115 -0.120811  0.009630  0.017597 -6.865314    False\n",
       "3 -0.158201 -0.361020  0.023043  0.052586 -6.865314    False\n",
       "4 -0.032683 -0.107614  0.004761  0.015675 -6.865314    False"
      ]
     },
     "execution_count": 15,
     "metadata": {},
     "output_type": "execute_result"
    }
   ],
   "source": [
    "# make a dataframe of the results\n",
    "results_df = pd.DataFrame(\n",
    "    {\n",
    "        \"RI_u\": RI_u,\n",
    "        \"RI_v\": RI_v,\n",
    "        \"u_k\": u_k,\n",
    "        \"v_k\": v_k,\n",
    "        \"r2\": r2,\n",
    "        \"Shuffle\": Shuffle,\n",
    "    }\n",
    ")\n",
    "\n",
    "results_df.head(5)"
   ]
  },
  {
   "cell_type": "code",
   "execution_count": 16,
   "id": "229d975f",
   "metadata": {},
   "outputs": [
    {
     "name": "stdout",
     "output_type": "stream",
     "text": [
      "The results file exists.\n"
     ]
    }
   ],
   "source": [
    "# check for file existence\n",
    "if results_file_path.is_file():\n",
    "    print(\"The results file exists.\")\n",
    "    #  read the results file\n",
    "    existing_file_df = pd.read_csv(results_file_path)\n",
    "    # check for if it is full for shuffle type\n",
    "    if len(existing_file_df[\"Shuffle\"].unique()) > 1:\n",
    "        # delete the existing file\n",
    "        results_file_path.unlink()\n",
    "    elif not existing_file_df[\"Shuffle\"].unique() == Shuffle:\n",
    "        pd.concat([existing_file_df, results_df]).to_csv(results_file_path, index=False)\n",
    "else:\n",
    "    results_df.to_csv(results_file_path, index=False)\n",
    "    print(\"The results file is created.\")"
   ]
  }
 ],
 "metadata": {
  "kernelspec": {
   "display_name": "Interstellar",
   "language": "python",
   "name": "python3"
  },
  "language_info": {
   "codemirror_mode": {
    "name": "ipython",
    "version": 3
   },
   "file_extension": ".py",
   "mimetype": "text/x-python",
   "name": "python",
   "nbconvert_exporter": "python",
   "pygments_lexer": "ipython3",
   "version": "3.10.12"
  },
  "papermill": {
   "default_parameters": {},
   "duration": 633.338407,
   "end_time": "2023-11-01T17:47:24.953615",
   "environment_variables": {},
   "exception": null,
   "input_path": "0.redundancy_analysis.ipynb",
   "output_path": "0.redundancy_analysis.ipynb",
   "parameters": {
    "Shuffle": false,
    "cell_type": "PBMC"
   },
   "start_time": "2023-11-01T17:36:51.615208",
   "version": "2.4.0"
  }
 },
 "nbformat": 4,
 "nbformat_minor": 5
}
