{
 "cells": [
  {
   "cell_type": "code",
   "execution_count": 17,
   "id": "c4549d80",
   "metadata": {
    "vscode": {
     "languageId": "r"
    }
   },
   "outputs": [],
   "source": [
    "suppressPackageStartupMessages(library(ggplot2))\n",
    "suppressPackageStartupMessages(library(dplyr))\n",
    "suppressPackageStartupMessages(library(argparse))"
   ]
  },
  {
   "attachments": {},
   "cell_type": "markdown",
   "id": "65fe30fa",
   "metadata": {},
   "source": [
    "## Two Beta Model Vizualization"
   ]
  },
  {
   "cell_type": "code",
   "execution_count": null,
   "id": "7ba4c692",
   "metadata": {
    "vscode": {
     "languageId": "r"
    }
   },
   "outputs": [],
   "source": [
    "# define command line arguments\n",
    "parser <- ArgumentParser(description = \"Visualize linear modeling results\")\n",
    "# add arguments\n",
    "parser$add_argument('--celltype', type='character', help='Cell type to visualize')\n",
    "\n",
    "# parse arguments from command line\n",
    "args <- parser$parse_args()\n",
    "\n",
    "# define cell type\n",
    "celltype <- args$celltype\n"
   ]
  },
  {
   "cell_type": "code",
   "execution_count": 18,
   "id": "c356aa32",
   "metadata": {
    "vscode": {
     "languageId": "r"
    }
   },
   "outputs": [],
   "source": [
    "celltype <- \"SHSY5Y\""
   ]
  },
  {
   "cell_type": "code",
   "execution_count": 19,
   "id": "f86de8b4",
   "metadata": {
    "vscode": {
     "languageId": "r"
    }
   },
   "outputs": [
    {
     "data": {
      "text/html": [
       "<table class=\"dataframe\">\n",
       "<caption>A tibble: 2 × 6</caption>\n",
       "<thead>\n",
       "\t<tr><th scope=col>feature</th><th scope=col>r2_score</th><th scope=col>Metadata_number_of_singlecells</th><th scope=col>twob_Metadata_Treatment_Inhibitor_Dose</th><th scope=col>Treatment_Dose</th><th scope=col>inducer1_inhibitor_inhibitor_dose__inducer1_dose</th></tr>\n",
       "\t<tr><th scope=col>&lt;chr&gt;</th><th scope=col>&lt;dbl&gt;</th><th scope=col>&lt;dbl&gt;</th><th scope=col>&lt;dbl&gt;</th><th scope=col>&lt;dbl&gt;</th><th scope=col>&lt;chr&gt;</th></tr>\n",
       "</thead>\n",
       "<tbody>\n",
       "\t<tr><td>Cytoplasm_AreaShape_Compactness </td><td>0.0010758123</td><td>-7.546792e-05</td><td>-0.0403419414</td><td>0.0403419414</td><td>media ctr_Media ctr_0.0__0</td></tr>\n",
       "\t<tr><td>Cytoplasm_AreaShape_Eccentricity</td><td>0.0005340345</td><td>-6.444612e-05</td><td>-0.0004922216</td><td>0.0004922216</td><td>media ctr_Media ctr_0.0__0</td></tr>\n",
       "</tbody>\n",
       "</table>\n"
      ],
      "text/latex": [
       "A tibble: 2 × 6\n",
       "\\begin{tabular}{llllll}\n",
       " feature & r2\\_score & Metadata\\_number\\_of\\_singlecells & twob\\_Metadata\\_Treatment\\_Inhibitor\\_Dose & Treatment\\_Dose & inducer1\\_inhibitor\\_inhibitor\\_dose\\_\\_inducer1\\_dose\\\\\n",
       " <chr> & <dbl> & <dbl> & <dbl> & <dbl> & <chr>\\\\\n",
       "\\hline\n",
       "\t Cytoplasm\\_AreaShape\\_Compactness  & 0.0010758123 & -7.546792e-05 & -0.0403419414 & 0.0403419414 & media ctr\\_Media ctr\\_0.0\\_\\_0\\\\\n",
       "\t Cytoplasm\\_AreaShape\\_Eccentricity & 0.0005340345 & -6.444612e-05 & -0.0004922216 & 0.0004922216 & media ctr\\_Media ctr\\_0.0\\_\\_0\\\\\n",
       "\\end{tabular}\n"
      ],
      "text/markdown": [
       "\n",
       "A tibble: 2 × 6\n",
       "\n",
       "| feature &lt;chr&gt; | r2_score &lt;dbl&gt; | Metadata_number_of_singlecells &lt;dbl&gt; | twob_Metadata_Treatment_Inhibitor_Dose &lt;dbl&gt; | Treatment_Dose &lt;dbl&gt; | inducer1_inhibitor_inhibitor_dose__inducer1_dose &lt;chr&gt; |\n",
       "|---|---|---|---|---|---|\n",
       "| Cytoplasm_AreaShape_Compactness  | 0.0010758123 | -7.546792e-05 | -0.0403419414 | 0.0403419414 | media ctr_Media ctr_0.0__0 |\n",
       "| Cytoplasm_AreaShape_Eccentricity | 0.0005340345 | -6.444612e-05 | -0.0004922216 | 0.0004922216 | media ctr_Media ctr_0.0__0 |\n",
       "\n"
      ],
      "text/plain": [
       "  feature                          r2_score     Metadata_number_of_singlecells\n",
       "1 Cytoplasm_AreaShape_Compactness  0.0010758123 -7.546792e-05                 \n",
       "2 Cytoplasm_AreaShape_Eccentricity 0.0005340345 -6.444612e-05                 \n",
       "  twob_Metadata_Treatment_Inhibitor_Dose Treatment_Dose\n",
       "1 -0.0403419414                          0.0403419414  \n",
       "2 -0.0004922216                          0.0004922216  \n",
       "  inducer1_inhibitor_inhibitor_dose__inducer1_dose\n",
       "1 media ctr_Media ctr_0.0__0                      \n",
       "2 media ctr_Media ctr_0.0__0                      "
      ]
     },
     "metadata": {},
     "output_type": "display_data"
    }
   ],
   "source": [
    "\n",
    "lm_file <- file.path(paste0(\"./results/\", celltype, \"/lm_two_beta.tsv\"))\n",
    "\n",
    "lm_cp_fig <- file.path(paste0(\"./figures/\", celltype, \"/lm_two_beta.pdf\"))\n",
    "lm_cp_fig_abs <- file.path(paste0(\"./figures/\", celltype, \"/lm_two_beta_abs.pdf\"))\n",
    "\n",
    "# if path does not exist, create it\n",
    "if (!dir.exists(file.path(paste0(\"./figures/\", celltype)))) {\n",
    "    dir.create(file.path(paste0(\"./figures/\", celltype)))\n",
    "}\n",
    "lm_df <- readr::read_tsv(lm_file, col_types = readr::cols(.default = \"d\", feature =\"c\", inducer1_inhibitor_inhibitor_dose__inducer1_dose = \"c\"))\n",
    "head(lm_df, 2)"
   ]
  },
  {
   "cell_type": "code",
   "execution_count": 20,
   "id": "05511ea0",
   "metadata": {
    "vscode": {
     "languageId": "r"
    }
   },
   "outputs": [
    {
     "data": {
      "text/html": [
       "<style>\n",
       ".list-inline {list-style: none; margin:0; padding: 0}\n",
       ".list-inline>li {display: inline-block}\n",
       ".list-inline>li:not(:last-child)::after {content: \"\\00b7\"; padding: 0 .5ex}\n",
       "</style>\n",
       "<ol class=list-inline><li>'media ctr_Media ctr_0.0__0'</li><li>'DMSO_DMSO_1.0__0.100'</li><li>'DMSO_Z-VAD-FMK_100.0__0.100'</li><li>'DMSO_Z-VAD-FMK_30.0__0.100'</li><li>'DMSO_DMSO_0.025__0.100'</li><li>'Thapsigargin_DMSO_0.025__1.000'</li><li>'Thapsigargin_DMSO_0.025__10.000'</li><li>'Topotecan_DMSO_0.025__5.000'</li><li>'Topotecan_DMSO_0.025__10.000'</li><li>'Topotecan_DMSO_0.025__20.000'</li><li>'LPS_DMSO_0.025__0.010'</li><li>'LPS_DMSO_0.025__0.100'</li><li>'LPS_DMSO_0.025__1.000'</li><li>'LPS_DMSO_0.025__10.000'</li><li>'LPS_Disulfiram_0.1__10.000'</li><li>'LPS_Disulfiram_1.0__10.000'</li><li>'LPS_Disulfiram_2.5__10.000'</li><li>'LPS_Nigericin_DMSO_0.025__100.000_1.0'</li><li>'LPS_Nigericin_DMSO_0.025__100.000_3.0'</li><li>'LPS_Nigericin_DMSO_0.025__100.000_10.0'</li><li>'Disulfiram_DMSO_0.025__0.100'</li><li>'Disulfiram_DMSO_0.025__1.000'</li><li>'Disulfiram_DMSO_0.025__2.500'</li><li>'H2O2_DMSO_0.025__100.000'</li><li>'LPS_Z-VAD-FMK_100.0__10.000'</li><li>'LPS_DMSO_0.025__100.000'</li><li>'LPS_Nigericin_DMSO_0.025__1.000_1.0'</li><li>'LPS_Nigericin_DMSO_0.025__1.000_3.0'</li><li>'LPS_Nigericin_DMSO_0.025__1.000_10.0'</li><li>'LPS_Nigericin_Disulfiram_1.0__1.000_10.0'</li><li>'LPS_Nigericin_Z-VAD-FMK_100.0__1.000_10.0'</li><li>'H2O2_Disulfiram_1.0__100.000'</li><li>'H2O2_Z-VAD-FMK_100.0__100.000'</li><li>'Flagellin_DMSO_0.025__0.100'</li><li>'Flagellin_DMSO_0.025__1.000'</li><li>'Flagellin_Disulfiram_1.0__1.000'</li></ol>\n"
      ],
      "text/latex": [
       "\\begin{enumerate*}\n",
       "\\item 'media ctr\\_Media ctr\\_0.0\\_\\_0'\n",
       "\\item 'DMSO\\_DMSO\\_1.0\\_\\_0.100'\n",
       "\\item 'DMSO\\_Z-VAD-FMK\\_100.0\\_\\_0.100'\n",
       "\\item 'DMSO\\_Z-VAD-FMK\\_30.0\\_\\_0.100'\n",
       "\\item 'DMSO\\_DMSO\\_0.025\\_\\_0.100'\n",
       "\\item 'Thapsigargin\\_DMSO\\_0.025\\_\\_1.000'\n",
       "\\item 'Thapsigargin\\_DMSO\\_0.025\\_\\_10.000'\n",
       "\\item 'Topotecan\\_DMSO\\_0.025\\_\\_5.000'\n",
       "\\item 'Topotecan\\_DMSO\\_0.025\\_\\_10.000'\n",
       "\\item 'Topotecan\\_DMSO\\_0.025\\_\\_20.000'\n",
       "\\item 'LPS\\_DMSO\\_0.025\\_\\_0.010'\n",
       "\\item 'LPS\\_DMSO\\_0.025\\_\\_0.100'\n",
       "\\item 'LPS\\_DMSO\\_0.025\\_\\_1.000'\n",
       "\\item 'LPS\\_DMSO\\_0.025\\_\\_10.000'\n",
       "\\item 'LPS\\_Disulfiram\\_0.1\\_\\_10.000'\n",
       "\\item 'LPS\\_Disulfiram\\_1.0\\_\\_10.000'\n",
       "\\item 'LPS\\_Disulfiram\\_2.5\\_\\_10.000'\n",
       "\\item 'LPS\\_Nigericin\\_DMSO\\_0.025\\_\\_100.000\\_1.0'\n",
       "\\item 'LPS\\_Nigericin\\_DMSO\\_0.025\\_\\_100.000\\_3.0'\n",
       "\\item 'LPS\\_Nigericin\\_DMSO\\_0.025\\_\\_100.000\\_10.0'\n",
       "\\item 'Disulfiram\\_DMSO\\_0.025\\_\\_0.100'\n",
       "\\item 'Disulfiram\\_DMSO\\_0.025\\_\\_1.000'\n",
       "\\item 'Disulfiram\\_DMSO\\_0.025\\_\\_2.500'\n",
       "\\item 'H2O2\\_DMSO\\_0.025\\_\\_100.000'\n",
       "\\item 'LPS\\_Z-VAD-FMK\\_100.0\\_\\_10.000'\n",
       "\\item 'LPS\\_DMSO\\_0.025\\_\\_100.000'\n",
       "\\item 'LPS\\_Nigericin\\_DMSO\\_0.025\\_\\_1.000\\_1.0'\n",
       "\\item 'LPS\\_Nigericin\\_DMSO\\_0.025\\_\\_1.000\\_3.0'\n",
       "\\item 'LPS\\_Nigericin\\_DMSO\\_0.025\\_\\_1.000\\_10.0'\n",
       "\\item 'LPS\\_Nigericin\\_Disulfiram\\_1.0\\_\\_1.000\\_10.0'\n",
       "\\item 'LPS\\_Nigericin\\_Z-VAD-FMK\\_100.0\\_\\_1.000\\_10.0'\n",
       "\\item 'H2O2\\_Disulfiram\\_1.0\\_\\_100.000'\n",
       "\\item 'H2O2\\_Z-VAD-FMK\\_100.0\\_\\_100.000'\n",
       "\\item 'Flagellin\\_DMSO\\_0.025\\_\\_0.100'\n",
       "\\item 'Flagellin\\_DMSO\\_0.025\\_\\_1.000'\n",
       "\\item 'Flagellin\\_Disulfiram\\_1.0\\_\\_1.000'\n",
       "\\end{enumerate*}\n"
      ],
      "text/markdown": [
       "1. 'media ctr_Media ctr_0.0__0'\n",
       "2. 'DMSO_DMSO_1.0__0.100'\n",
       "3. 'DMSO_Z-VAD-FMK_100.0__0.100'\n",
       "4. 'DMSO_Z-VAD-FMK_30.0__0.100'\n",
       "5. 'DMSO_DMSO_0.025__0.100'\n",
       "6. 'Thapsigargin_DMSO_0.025__1.000'\n",
       "7. 'Thapsigargin_DMSO_0.025__10.000'\n",
       "8. 'Topotecan_DMSO_0.025__5.000'\n",
       "9. 'Topotecan_DMSO_0.025__10.000'\n",
       "10. 'Topotecan_DMSO_0.025__20.000'\n",
       "11. 'LPS_DMSO_0.025__0.010'\n",
       "12. 'LPS_DMSO_0.025__0.100'\n",
       "13. 'LPS_DMSO_0.025__1.000'\n",
       "14. 'LPS_DMSO_0.025__10.000'\n",
       "15. 'LPS_Disulfiram_0.1__10.000'\n",
       "16. 'LPS_Disulfiram_1.0__10.000'\n",
       "17. 'LPS_Disulfiram_2.5__10.000'\n",
       "18. 'LPS_Nigericin_DMSO_0.025__100.000_1.0'\n",
       "19. 'LPS_Nigericin_DMSO_0.025__100.000_3.0'\n",
       "20. 'LPS_Nigericin_DMSO_0.025__100.000_10.0'\n",
       "21. 'Disulfiram_DMSO_0.025__0.100'\n",
       "22. 'Disulfiram_DMSO_0.025__1.000'\n",
       "23. 'Disulfiram_DMSO_0.025__2.500'\n",
       "24. 'H2O2_DMSO_0.025__100.000'\n",
       "25. 'LPS_Z-VAD-FMK_100.0__10.000'\n",
       "26. 'LPS_DMSO_0.025__100.000'\n",
       "27. 'LPS_Nigericin_DMSO_0.025__1.000_1.0'\n",
       "28. 'LPS_Nigericin_DMSO_0.025__1.000_3.0'\n",
       "29. 'LPS_Nigericin_DMSO_0.025__1.000_10.0'\n",
       "30. 'LPS_Nigericin_Disulfiram_1.0__1.000_10.0'\n",
       "31. 'LPS_Nigericin_Z-VAD-FMK_100.0__1.000_10.0'\n",
       "32. 'H2O2_Disulfiram_1.0__100.000'\n",
       "33. 'H2O2_Z-VAD-FMK_100.0__100.000'\n",
       "34. 'Flagellin_DMSO_0.025__0.100'\n",
       "35. 'Flagellin_DMSO_0.025__1.000'\n",
       "36. 'Flagellin_Disulfiram_1.0__1.000'\n",
       "\n",
       "\n"
      ],
      "text/plain": [
       " [1] \"media ctr_Media ctr_0.0__0\"               \n",
       " [2] \"DMSO_DMSO_1.0__0.100\"                     \n",
       " [3] \"DMSO_Z-VAD-FMK_100.0__0.100\"              \n",
       " [4] \"DMSO_Z-VAD-FMK_30.0__0.100\"               \n",
       " [5] \"DMSO_DMSO_0.025__0.100\"                   \n",
       " [6] \"Thapsigargin_DMSO_0.025__1.000\"           \n",
       " [7] \"Thapsigargin_DMSO_0.025__10.000\"          \n",
       " [8] \"Topotecan_DMSO_0.025__5.000\"              \n",
       " [9] \"Topotecan_DMSO_0.025__10.000\"             \n",
       "[10] \"Topotecan_DMSO_0.025__20.000\"             \n",
       "[11] \"LPS_DMSO_0.025__0.010\"                    \n",
       "[12] \"LPS_DMSO_0.025__0.100\"                    \n",
       "[13] \"LPS_DMSO_0.025__1.000\"                    \n",
       "[14] \"LPS_DMSO_0.025__10.000\"                   \n",
       "[15] \"LPS_Disulfiram_0.1__10.000\"               \n",
       "[16] \"LPS_Disulfiram_1.0__10.000\"               \n",
       "[17] \"LPS_Disulfiram_2.5__10.000\"               \n",
       "[18] \"LPS_Nigericin_DMSO_0.025__100.000_1.0\"    \n",
       "[19] \"LPS_Nigericin_DMSO_0.025__100.000_3.0\"    \n",
       "[20] \"LPS_Nigericin_DMSO_0.025__100.000_10.0\"   \n",
       "[21] \"Disulfiram_DMSO_0.025__0.100\"             \n",
       "[22] \"Disulfiram_DMSO_0.025__1.000\"             \n",
       "[23] \"Disulfiram_DMSO_0.025__2.500\"             \n",
       "[24] \"H2O2_DMSO_0.025__100.000\"                 \n",
       "[25] \"LPS_Z-VAD-FMK_100.0__10.000\"              \n",
       "[26] \"LPS_DMSO_0.025__100.000\"                  \n",
       "[27] \"LPS_Nigericin_DMSO_0.025__1.000_1.0\"      \n",
       "[28] \"LPS_Nigericin_DMSO_0.025__1.000_3.0\"      \n",
       "[29] \"LPS_Nigericin_DMSO_0.025__1.000_10.0\"     \n",
       "[30] \"LPS_Nigericin_Disulfiram_1.0__1.000_10.0\" \n",
       "[31] \"LPS_Nigericin_Z-VAD-FMK_100.0__1.000_10.0\"\n",
       "[32] \"H2O2_Disulfiram_1.0__100.000\"             \n",
       "[33] \"H2O2_Z-VAD-FMK_100.0__100.000\"            \n",
       "[34] \"Flagellin_DMSO_0.025__0.100\"              \n",
       "[35] \"Flagellin_DMSO_0.025__1.000\"              \n",
       "[36] \"Flagellin_Disulfiram_1.0__1.000\"          "
      ]
     },
     "metadata": {},
     "output_type": "display_data"
    }
   ],
   "source": [
    "unique(lm_df$inducer1_inhibitor_inhibitor_dose__inducer1_dose)"
   ]
  },
  {
   "cell_type": "code",
   "execution_count": 21,
   "id": "4085652a",
   "metadata": {
    "vscode": {
     "languageId": "r"
    }
   },
   "outputs": [
    {
     "name": "stderr",
     "output_type": "stream",
     "text": [
      "Warning message:\n",
      "“\u001b[1m\u001b[22mExpected 6 pieces. Additional pieces discarded in 7956 rows [2, 4, 5, 8, 10,\n",
      "12, 13, 14, 17, 18, 19, 21, 23, 24, 25, 26, 27, 30, 32, 33, ...].”\n",
      "Warning message:\n",
      "“\u001b[1m\u001b[22mExpected 6 pieces. Missing pieces filled with `NA` in 15264 rows [1, 3, 6, 7,\n",
      "9, 11, 15, 16, 20, 22, 28, 29, 31, 34, 39, 40, 41, 43, 44, 45, ...].”\n"
     ]
    }
   ],
   "source": [
    "\n",
    "# Arrange by absolute value coefficient\n",
    "# Split out components of feature name for visualization\n",
    "lm_df <- lm_df %>%\n",
    "    dplyr::arrange(desc(abs(twob_Metadata_Treatment_Inhibitor_Dose))) %>%\n",
    "    tidyr::separate(\n",
    "        feature,\n",
    "        into = c(\n",
    "            \"compartment\",\n",
    "            \"feature_group\",\n",
    "            \"measurement\",\n",
    "            \"channel\",\n",
    "            \"parameter1\",\n",
    "            \"parameter2\"\n",
    "        ),\n",
    "        sep = \"_\",\n",
    "        remove = FALSE\n",
    "    ) %>%\n",
    "    dplyr::mutate(channel_cleaned = channel)\n",
    "\n"
   ]
  },
  {
   "cell_type": "code",
   "execution_count": 22,
   "id": "9e039275",
   "metadata": {
    "vscode": {
     "languageId": "r"
    }
   },
   "outputs": [
    {
     "data": {
      "text/html": [
       "<style>\n",
       ".list-inline {list-style: none; margin:0; padding: 0}\n",
       ".list-inline>li {display: inline-block}\n",
       ".list-inline>li:not(:last-child)::after {content: \"\\00b7\"; padding: 0 .5ex}\n",
       "</style>\n",
       "<ol class=list-inline><li>'CorrPM'</li><li>'CorrMito'</li><li>'CorrGasdermin'</li><li>'CorrER'</li><li>'CorrDNA'</li><li>NA</li><li>'8'</li><li>'0'</li><li>'4'</li><li>'Adjacent'</li><li>'3'</li><li>'5'</li><li>'6'</li><li>'1'</li><li>'7'</li><li>'9'</li><li>'2'</li><li>'X'</li><li>'Y'</li></ol>\n"
      ],
      "text/latex": [
       "\\begin{enumerate*}\n",
       "\\item 'CorrPM'\n",
       "\\item 'CorrMito'\n",
       "\\item 'CorrGasdermin'\n",
       "\\item 'CorrER'\n",
       "\\item 'CorrDNA'\n",
       "\\item NA\n",
       "\\item '8'\n",
       "\\item '0'\n",
       "\\item '4'\n",
       "\\item 'Adjacent'\n",
       "\\item '3'\n",
       "\\item '5'\n",
       "\\item '6'\n",
       "\\item '1'\n",
       "\\item '7'\n",
       "\\item '9'\n",
       "\\item '2'\n",
       "\\item 'X'\n",
       "\\item 'Y'\n",
       "\\end{enumerate*}\n"
      ],
      "text/markdown": [
       "1. 'CorrPM'\n",
       "2. 'CorrMito'\n",
       "3. 'CorrGasdermin'\n",
       "4. 'CorrER'\n",
       "5. 'CorrDNA'\n",
       "6. NA\n",
       "7. '8'\n",
       "8. '0'\n",
       "9. '4'\n",
       "10. 'Adjacent'\n",
       "11. '3'\n",
       "12. '5'\n",
       "13. '6'\n",
       "14. '1'\n",
       "15. '7'\n",
       "16. '9'\n",
       "17. '2'\n",
       "18. 'X'\n",
       "19. 'Y'\n",
       "\n",
       "\n"
      ],
      "text/plain": [
       " [1] \"CorrPM\"        \"CorrMito\"      \"CorrGasdermin\" \"CorrER\"       \n",
       " [5] \"CorrDNA\"       NA              \"8\"             \"0\"            \n",
       " [9] \"4\"             \"Adjacent\"      \"3\"             \"5\"            \n",
       "[13] \"6\"             \"1\"             \"7\"             \"9\"            \n",
       "[17] \"2\"             \"X\"             \"Y\"            "
      ]
     },
     "metadata": {},
     "output_type": "display_data"
    }
   ],
   "source": [
    "unique(lm_df$channel)"
   ]
  },
  {
   "cell_type": "code",
   "execution_count": 23,
   "id": "f2cfd6bf",
   "metadata": {
    "vscode": {
     "languageId": "r"
    }
   },
   "outputs": [
    {
     "data": {
      "text/html": [
       "<style>\n",
       ".list-inline {list-style: none; margin:0; padding: 0}\n",
       ".list-inline>li {display: inline-block}\n",
       ".list-inline>li:not(:last-child)::after {content: \"\\00b7\"; padding: 0 .5ex}\n",
       "</style>\n",
       "<ol class=list-inline><li>'CorrPM'</li><li>'CorrMito'</li><li>'CorrGasdermin'</li><li>'CorrER'</li><li>'CorrDNA'</li><li>NA</li><li>'8'</li><li>'0'</li><li>'4'</li><li>'Adjacent'</li><li>'3'</li><li>'5'</li><li>'6'</li><li>'1'</li><li>'7'</li><li>'9'</li><li>'2'</li><li>'X'</li><li>'Y'</li></ol>\n"
      ],
      "text/latex": [
       "\\begin{enumerate*}\n",
       "\\item 'CorrPM'\n",
       "\\item 'CorrMito'\n",
       "\\item 'CorrGasdermin'\n",
       "\\item 'CorrER'\n",
       "\\item 'CorrDNA'\n",
       "\\item NA\n",
       "\\item '8'\n",
       "\\item '0'\n",
       "\\item '4'\n",
       "\\item 'Adjacent'\n",
       "\\item '3'\n",
       "\\item '5'\n",
       "\\item '6'\n",
       "\\item '1'\n",
       "\\item '7'\n",
       "\\item '9'\n",
       "\\item '2'\n",
       "\\item 'X'\n",
       "\\item 'Y'\n",
       "\\end{enumerate*}\n"
      ],
      "text/markdown": [
       "1. 'CorrPM'\n",
       "2. 'CorrMito'\n",
       "3. 'CorrGasdermin'\n",
       "4. 'CorrER'\n",
       "5. 'CorrDNA'\n",
       "6. NA\n",
       "7. '8'\n",
       "8. '0'\n",
       "9. '4'\n",
       "10. 'Adjacent'\n",
       "11. '3'\n",
       "12. '5'\n",
       "13. '6'\n",
       "14. '1'\n",
       "15. '7'\n",
       "16. '9'\n",
       "17. '2'\n",
       "18. 'X'\n",
       "19. 'Y'\n",
       "\n",
       "\n"
      ],
      "text/plain": [
       " [1] \"CorrPM\"        \"CorrMito\"      \"CorrGasdermin\" \"CorrER\"       \n",
       " [5] \"CorrDNA\"       NA              \"8\"             \"0\"            \n",
       " [9] \"4\"             \"Adjacent\"      \"3\"             \"5\"            \n",
       "[13] \"6\"             \"1\"             \"7\"             \"9\"            \n",
       "[17] \"2\"             \"X\"             \"Y\"            "
      ]
     },
     "metadata": {},
     "output_type": "display_data"
    }
   ],
   "source": [
    "unique(lm_df$channel_cleaned)"
   ]
  },
  {
   "cell_type": "code",
   "execution_count": 24,
   "id": "e599b3ec",
   "metadata": {
    "vscode": {
     "languageId": "r"
    }
   },
   "outputs": [
    {
     "name": "stdout",
     "output_type": "stream",
     "text": [
      "[1] 45036    14\n"
     ]
    },
    {
     "data": {
      "text/html": [
       "<table class=\"dataframe\">\n",
       "<caption>A tibble: 2 × 14</caption>\n",
       "<thead>\n",
       "\t<tr><th scope=col>feature</th><th scope=col>compartment</th><th scope=col>feature_group</th><th scope=col>measurement</th><th scope=col>channel</th><th scope=col>parameter1</th><th scope=col>parameter2</th><th scope=col>r2_score</th><th scope=col>Metadata_number_of_singlecells</th><th scope=col>twob_Metadata_Treatment_Inhibitor_Dose</th><th scope=col>Treatment_Dose</th><th scope=col>inducer1_inhibitor_inhibitor_dose__inducer1_dose</th><th scope=col>channel_cleaned</th><th scope=col>channel_learned</th></tr>\n",
       "\t<tr><th scope=col>&lt;chr&gt;</th><th scope=col>&lt;chr&gt;</th><th scope=col>&lt;chr&gt;</th><th scope=col>&lt;chr&gt;</th><th scope=col>&lt;chr&gt;</th><th scope=col>&lt;chr&gt;</th><th scope=col>&lt;chr&gt;</th><th scope=col>&lt;dbl&gt;</th><th scope=col>&lt;dbl&gt;</th><th scope=col>&lt;dbl&gt;</th><th scope=col>&lt;dbl&gt;</th><th scope=col>&lt;chr&gt;</th><th scope=col>&lt;chr&gt;</th><th scope=col>&lt;chr&gt;</th></tr>\n",
       "</thead>\n",
       "<tbody>\n",
       "\t<tr><td>Cytoplasm_Correlation_RWC_CorrPM_CorrMito            </td><td>Cytoplasm</td><td>Correlation</td><td>RWC              </td><td>CorrPM  </td><td>CorrMito</td><td>NA</td><td>0.3742011</td><td>-0.0002044911</td><td>-1.380149</td><td>-1.380149</td><td>H2O2_Disulfiram_1.0__100.000          </td><td>CorrPM  </td><td>PM  </td></tr>\n",
       "\t<tr><td>Cytoplasm_Texture_DifferenceEntropy_CorrMito_3_00_256</td><td>Cytoplasm</td><td>Texture    </td><td>DifferenceEntropy</td><td>CorrMito</td><td>3       </td><td>00</td><td>0.4806035</td><td> 0.0003742630</td><td> 1.348076</td><td> 1.348076</td><td>LPS_Nigericin_DMSO_0.025__100.000_10.0</td><td>CorrMito</td><td>Mito</td></tr>\n",
       "</tbody>\n",
       "</table>\n"
      ],
      "text/latex": [
       "A tibble: 2 × 14\n",
       "\\begin{tabular}{llllllllllllll}\n",
       " feature & compartment & feature\\_group & measurement & channel & parameter1 & parameter2 & r2\\_score & Metadata\\_number\\_of\\_singlecells & twob\\_Metadata\\_Treatment\\_Inhibitor\\_Dose & Treatment\\_Dose & inducer1\\_inhibitor\\_inhibitor\\_dose\\_\\_inducer1\\_dose & channel\\_cleaned & channel\\_learned\\\\\n",
       " <chr> & <chr> & <chr> & <chr> & <chr> & <chr> & <chr> & <dbl> & <dbl> & <dbl> & <dbl> & <chr> & <chr> & <chr>\\\\\n",
       "\\hline\n",
       "\t Cytoplasm\\_Correlation\\_RWC\\_CorrPM\\_CorrMito             & Cytoplasm & Correlation & RWC               & CorrPM   & CorrMito & NA & 0.3742011 & -0.0002044911 & -1.380149 & -1.380149 & H2O2\\_Disulfiram\\_1.0\\_\\_100.000           & CorrPM   & PM  \\\\\n",
       "\t Cytoplasm\\_Texture\\_DifferenceEntropy\\_CorrMito\\_3\\_00\\_256 & Cytoplasm & Texture     & DifferenceEntropy & CorrMito & 3        & 00 & 0.4806035 &  0.0003742630 &  1.348076 &  1.348076 & LPS\\_Nigericin\\_DMSO\\_0.025\\_\\_100.000\\_10.0 & CorrMito & Mito\\\\\n",
       "\\end{tabular}\n"
      ],
      "text/markdown": [
       "\n",
       "A tibble: 2 × 14\n",
       "\n",
       "| feature &lt;chr&gt; | compartment &lt;chr&gt; | feature_group &lt;chr&gt; | measurement &lt;chr&gt; | channel &lt;chr&gt; | parameter1 &lt;chr&gt; | parameter2 &lt;chr&gt; | r2_score &lt;dbl&gt; | Metadata_number_of_singlecells &lt;dbl&gt; | twob_Metadata_Treatment_Inhibitor_Dose &lt;dbl&gt; | Treatment_Dose &lt;dbl&gt; | inducer1_inhibitor_inhibitor_dose__inducer1_dose &lt;chr&gt; | channel_cleaned &lt;chr&gt; | channel_learned &lt;chr&gt; |\n",
       "|---|---|---|---|---|---|---|---|---|---|---|---|---|---|\n",
       "| Cytoplasm_Correlation_RWC_CorrPM_CorrMito             | Cytoplasm | Correlation | RWC               | CorrPM   | CorrMito | NA | 0.3742011 | -0.0002044911 | -1.380149 | -1.380149 | H2O2_Disulfiram_1.0__100.000           | CorrPM   | PM   |\n",
       "| Cytoplasm_Texture_DifferenceEntropy_CorrMito_3_00_256 | Cytoplasm | Texture     | DifferenceEntropy | CorrMito | 3        | 00 | 0.4806035 |  0.0003742630 |  1.348076 |  1.348076 | LPS_Nigericin_DMSO_0.025__100.000_10.0 | CorrMito | Mito |\n",
       "\n"
      ],
      "text/plain": [
       "  feature                                               compartment\n",
       "1 Cytoplasm_Correlation_RWC_CorrPM_CorrMito             Cytoplasm  \n",
       "2 Cytoplasm_Texture_DifferenceEntropy_CorrMito_3_00_256 Cytoplasm  \n",
       "  feature_group measurement       channel  parameter1 parameter2 r2_score \n",
       "1 Correlation   RWC               CorrPM   CorrMito   NA         0.3742011\n",
       "2 Texture       DifferenceEntropy CorrMito 3          00         0.4806035\n",
       "  Metadata_number_of_singlecells twob_Metadata_Treatment_Inhibitor_Dose\n",
       "1 -0.0002044911                  -1.380149                             \n",
       "2  0.0003742630                   1.348076                             \n",
       "  Treatment_Dose inducer1_inhibitor_inhibitor_dose__inducer1_dose\n",
       "1 -1.380149      H2O2_Disulfiram_1.0__100.000                    \n",
       "2  1.348076      LPS_Nigericin_DMSO_0.025__100.000_10.0          \n",
       "  channel_cleaned channel_learned\n",
       "1 CorrPM          PM             \n",
       "2 CorrMito        Mito           "
      ]
     },
     "metadata": {},
     "output_type": "display_data"
    },
    {
     "data": {
      "text/html": [
       "<style>\n",
       ".list-inline {list-style: none; margin:0; padding: 0}\n",
       ".list-inline>li {display: inline-block}\n",
       ".list-inline>li:not(:last-child)::after {content: \"\\00b7\"; padding: 0 .5ex}\n",
       "</style>\n",
       "<ol class=list-inline><li>'PM'</li><li>'Mito'</li><li>'gasdermin'</li><li>'ER'</li><li>'nuclei'</li><li>'other'</li></ol>\n"
      ],
      "text/latex": [
       "\\begin{enumerate*}\n",
       "\\item 'PM'\n",
       "\\item 'Mito'\n",
       "\\item 'gasdermin'\n",
       "\\item 'ER'\n",
       "\\item 'nuclei'\n",
       "\\item 'other'\n",
       "\\end{enumerate*}\n"
      ],
      "text/markdown": [
       "1. 'PM'\n",
       "2. 'Mito'\n",
       "3. 'gasdermin'\n",
       "4. 'ER'\n",
       "5. 'nuclei'\n",
       "6. 'other'\n",
       "\n",
       "\n"
      ],
      "text/plain": [
       "[1] \"PM\"        \"Mito\"      \"gasdermin\" \"ER\"        \"nuclei\"    \"other\"    "
      ]
     },
     "metadata": {},
     "output_type": "display_data"
    }
   ],
   "source": [
    "# Clean channel for visualization\n",
    "lm_df$channel_learned <- dplyr::recode(lm_df$channel_cleaned,\n",
    "        \"CorrDNA\" = \"nuclei\",\n",
    "        \"CorrMito\" = \"Mito\",\n",
    "        \"CorrER\" = \"ER\",\n",
    "        \"CorrGasdermin\" = \"gasdermin\",\n",
    "        \"CorrPM\" = \"PM\",\n",
    "        .default = \"other\",\n",
    "        .missing=\"other\"\n",
    "    )\n",
    "\n",
    "print(dim(lm_df))\n",
    "head(lm_df,2)\n",
    "unique(lm_df$channel_learned)\n",
    "lm_df$abs_Metadata_number_of_singlecells <- abs(lm_df$Metadata_number_of_singlecells)\n",
    "lm_df$abs_twob_Metadata_Treatment_Inhibitor_Dose <- abs(lm_df$twob_Metadata_Treatment_Inhibitor_Dose)\n",
    "lm_df$abs_Treatment_Dose <- abs(lm_df$Treatment_Dose)"
   ]
  },
  {
   "cell_type": "code",
   "execution_count": 25,
   "id": "a429584c",
   "metadata": {
    "vscode": {
     "languageId": "r"
    }
   },
   "outputs": [],
   "source": [
    "loop_list <- unique(lm_df$inducer1_inhibitor_inhibitor_dose__inducer1_dose)\n",
    "x_list <- c('abs_twob_Metadata_Treatment_Inhibitor_Dose','abs_Treatment_Dose')"
   ]
  },
  {
   "cell_type": "code",
   "execution_count": 26,
   "id": "732318a5",
   "metadata": {
    "vscode": {
     "languageId": "r"
    }
   },
   "outputs": [
    {
     "data": {
      "text/html": [
       "<strong>png:</strong> 2"
      ],
      "text/latex": [
       "\\textbf{png:} 2"
      ],
      "text/markdown": [
       "**png:** 2"
      ],
      "text/plain": [
       "png \n",
       "  2 "
      ]
     },
     "metadata": {},
     "output_type": "display_data"
    }
   ],
   "source": [
    "pdf(file=lm_cp_fig_abs )\n",
    "for (i in 1:length(loop_list)){\n",
    "    df <- lm_df[lm_df$inducer1_inhibitor_inhibitor_dose__inducer1_dose == loop_list[i],]\n",
    "    for (j in 1:length(x_list)){\n",
    "        lm_fig_gg <- (\n",
    "            ggplot(df, aes(x = .data[[x_list[j]]], y = r2_score))\n",
    "            + geom_point(aes(size = abs_Metadata_number_of_singlecells, color = channel_learned), alpha = 0.7)\n",
    "            + theme_bw()\n",
    "            + guides(\n",
    "                color = guide_legend(title = \"Channel\\n(if applicable)\", order = 1),\n",
    "                size = guide_legend(title = \"Cell count contributution\")\n",
    "            )\n",
    "            + ylab(\"R2 score of LM feature\")\n",
    "            + xlab(paste0(x_list[j],\" contribution (LM beta coefficient)\"))\n",
    "            + ggtitle(paste0(\"How CellProfiler features contribute\\nto \",loop_list[i], \"\\ntreatments and cell density\"))\n",
    "        )\n",
    "    plot(lm_fig_gg)    \n",
    "    }\n",
    "}\n",
    "dev.off()"
   ]
  },
  {
   "cell_type": "code",
   "execution_count": 31,
   "id": "ddab8908",
   "metadata": {
    "vscode": {
     "languageId": "r"
    }
   },
   "outputs": [
    {
     "data": {
      "text/html": [
       "<table class=\"dataframe\">\n",
       "<caption>A tibble: 6 × 17</caption>\n",
       "<thead>\n",
       "\t<tr><th scope=col>feature</th><th scope=col>compartment</th><th scope=col>feature_group</th><th scope=col>measurement</th><th scope=col>channel</th><th scope=col>parameter1</th><th scope=col>parameter2</th><th scope=col>r2_score</th><th scope=col>Metadata_number_of_singlecells</th><th scope=col>twob_Metadata_Treatment_Inhibitor_Dose</th><th scope=col>Treatment_Dose</th><th scope=col>inducer1_inhibitor_inhibitor_dose__inducer1_dose</th><th scope=col>channel_cleaned</th><th scope=col>channel_learned</th><th scope=col>abs_Metadata_number_of_singlecells</th><th scope=col>abs_twob_Metadata_Treatment_Inhibitor_Dose</th><th scope=col>abs_Treatment_Dose</th></tr>\n",
       "\t<tr><th scope=col>&lt;chr&gt;</th><th scope=col>&lt;chr&gt;</th><th scope=col>&lt;chr&gt;</th><th scope=col>&lt;chr&gt;</th><th scope=col>&lt;chr&gt;</th><th scope=col>&lt;chr&gt;</th><th scope=col>&lt;chr&gt;</th><th scope=col>&lt;dbl&gt;</th><th scope=col>&lt;dbl&gt;</th><th scope=col>&lt;dbl&gt;</th><th scope=col>&lt;dbl&gt;</th><th scope=col>&lt;chr&gt;</th><th scope=col>&lt;chr&gt;</th><th scope=col>&lt;chr&gt;</th><th scope=col>&lt;dbl&gt;</th><th scope=col>&lt;dbl&gt;</th><th scope=col>&lt;dbl&gt;</th></tr>\n",
       "</thead>\n",
       "<tbody>\n",
       "\t<tr><td>Cytoplasm_Correlation_RWC_CorrPM_CorrMito              </td><td>Cytoplasm</td><td>Correlation</td><td>RWC                    </td><td>CorrPM  </td><td>CorrMito</td><td>NA</td><td>0.3742011</td><td>-0.0002044911</td><td>-1.380149</td><td>-1.380149</td><td>H2O2_Disulfiram_1.0__100.000          </td><td>CorrPM  </td><td>PM  </td><td>0.0002044911</td><td>1.380149</td><td>1.380149</td></tr>\n",
       "\t<tr><td>Cytoplasm_Texture_DifferenceEntropy_CorrMito_3_00_256  </td><td>Cytoplasm</td><td>Texture    </td><td>DifferenceEntropy      </td><td>CorrMito</td><td>3       </td><td>00</td><td>0.4806035</td><td> 0.0003742630</td><td> 1.348076</td><td> 1.348076</td><td>LPS_Nigericin_DMSO_0.025__100.000_10.0</td><td>CorrMito</td><td>Mito</td><td>0.0003742630</td><td>1.348076</td><td>1.348076</td></tr>\n",
       "\t<tr><td>Nuclei_Correlation_Overlap_CorrMito_CorrPM             </td><td>Nuclei   </td><td>Correlation</td><td>Overlap                </td><td>CorrMito</td><td>CorrPM  </td><td>NA</td><td>0.3394022</td><td>-0.0002052585</td><td>-1.338728</td><td>-1.338728</td><td>H2O2_Disulfiram_1.0__100.000          </td><td>CorrMito</td><td>Mito</td><td>0.0002052585</td><td>1.338728</td><td>1.338728</td></tr>\n",
       "\t<tr><td>Cytoplasm_Texture_DifferenceEntropy_CorrMito_3_00_256  </td><td>Cytoplasm</td><td>Texture    </td><td>DifferenceEntropy      </td><td>CorrMito</td><td>3       </td><td>00</td><td>0.3247935</td><td> 0.0005011261</td><td> 1.307950</td><td> 1.307950</td><td>H2O2_Disulfiram_1.0__100.000          </td><td>CorrMito</td><td>Mito</td><td>0.0005011261</td><td>1.307950</td><td>1.307950</td></tr>\n",
       "\t<tr><td>Cells_Texture_InverseDifferenceMoment_CorrMito_3_00_256</td><td>Cells    </td><td>Texture    </td><td>InverseDifferenceMoment</td><td>CorrMito</td><td>3       </td><td>00</td><td>0.4846559</td><td>-0.0002868892</td><td>-1.295927</td><td>-1.295927</td><td>LPS_Nigericin_DMSO_0.025__100.000_10.0</td><td>CorrMito</td><td>Mito</td><td>0.0002868892</td><td>1.295927</td><td>1.295927</td></tr>\n",
       "\t<tr><td>Nuclei_Intensity_MaxIntensityEdge_CorrMito             </td><td>Nuclei   </td><td>Intensity  </td><td>MaxIntensityEdge       </td><td>CorrMito</td><td>NA      </td><td>NA</td><td>0.2796684</td><td> 0.0001916182</td><td> 1.278755</td><td> 1.278755</td><td>H2O2_Disulfiram_1.0__100.000          </td><td>CorrMito</td><td>Mito</td><td>0.0001916182</td><td>1.278755</td><td>1.278755</td></tr>\n",
       "</tbody>\n",
       "</table>\n"
      ],
      "text/latex": [
       "A tibble: 6 × 17\n",
       "\\begin{tabular}{lllllllllllllllll}\n",
       " feature & compartment & feature\\_group & measurement & channel & parameter1 & parameter2 & r2\\_score & Metadata\\_number\\_of\\_singlecells & twob\\_Metadata\\_Treatment\\_Inhibitor\\_Dose & Treatment\\_Dose & inducer1\\_inhibitor\\_inhibitor\\_dose\\_\\_inducer1\\_dose & channel\\_cleaned & channel\\_learned & abs\\_Metadata\\_number\\_of\\_singlecells & abs\\_twob\\_Metadata\\_Treatment\\_Inhibitor\\_Dose & abs\\_Treatment\\_Dose\\\\\n",
       " <chr> & <chr> & <chr> & <chr> & <chr> & <chr> & <chr> & <dbl> & <dbl> & <dbl> & <dbl> & <chr> & <chr> & <chr> & <dbl> & <dbl> & <dbl>\\\\\n",
       "\\hline\n",
       "\t Cytoplasm\\_Correlation\\_RWC\\_CorrPM\\_CorrMito               & Cytoplasm & Correlation & RWC                     & CorrPM   & CorrMito & NA & 0.3742011 & -0.0002044911 & -1.380149 & -1.380149 & H2O2\\_Disulfiram\\_1.0\\_\\_100.000           & CorrPM   & PM   & 0.0002044911 & 1.380149 & 1.380149\\\\\n",
       "\t Cytoplasm\\_Texture\\_DifferenceEntropy\\_CorrMito\\_3\\_00\\_256   & Cytoplasm & Texture     & DifferenceEntropy       & CorrMito & 3        & 00 & 0.4806035 &  0.0003742630 &  1.348076 &  1.348076 & LPS\\_Nigericin\\_DMSO\\_0.025\\_\\_100.000\\_10.0 & CorrMito & Mito & 0.0003742630 & 1.348076 & 1.348076\\\\\n",
       "\t Nuclei\\_Correlation\\_Overlap\\_CorrMito\\_CorrPM              & Nuclei    & Correlation & Overlap                 & CorrMito & CorrPM   & NA & 0.3394022 & -0.0002052585 & -1.338728 & -1.338728 & H2O2\\_Disulfiram\\_1.0\\_\\_100.000           & CorrMito & Mito & 0.0002052585 & 1.338728 & 1.338728\\\\\n",
       "\t Cytoplasm\\_Texture\\_DifferenceEntropy\\_CorrMito\\_3\\_00\\_256   & Cytoplasm & Texture     & DifferenceEntropy       & CorrMito & 3        & 00 & 0.3247935 &  0.0005011261 &  1.307950 &  1.307950 & H2O2\\_Disulfiram\\_1.0\\_\\_100.000           & CorrMito & Mito & 0.0005011261 & 1.307950 & 1.307950\\\\\n",
       "\t Cells\\_Texture\\_InverseDifferenceMoment\\_CorrMito\\_3\\_00\\_256 & Cells     & Texture     & InverseDifferenceMoment & CorrMito & 3        & 00 & 0.4846559 & -0.0002868892 & -1.295927 & -1.295927 & LPS\\_Nigericin\\_DMSO\\_0.025\\_\\_100.000\\_10.0 & CorrMito & Mito & 0.0002868892 & 1.295927 & 1.295927\\\\\n",
       "\t Nuclei\\_Intensity\\_MaxIntensityEdge\\_CorrMito              & Nuclei    & Intensity   & MaxIntensityEdge        & CorrMito & NA       & NA & 0.2796684 &  0.0001916182 &  1.278755 &  1.278755 & H2O2\\_Disulfiram\\_1.0\\_\\_100.000           & CorrMito & Mito & 0.0001916182 & 1.278755 & 1.278755\\\\\n",
       "\\end{tabular}\n"
      ],
      "text/markdown": [
       "\n",
       "A tibble: 6 × 17\n",
       "\n",
       "| feature &lt;chr&gt; | compartment &lt;chr&gt; | feature_group &lt;chr&gt; | measurement &lt;chr&gt; | channel &lt;chr&gt; | parameter1 &lt;chr&gt; | parameter2 &lt;chr&gt; | r2_score &lt;dbl&gt; | Metadata_number_of_singlecells &lt;dbl&gt; | twob_Metadata_Treatment_Inhibitor_Dose &lt;dbl&gt; | Treatment_Dose &lt;dbl&gt; | inducer1_inhibitor_inhibitor_dose__inducer1_dose &lt;chr&gt; | channel_cleaned &lt;chr&gt; | channel_learned &lt;chr&gt; | abs_Metadata_number_of_singlecells &lt;dbl&gt; | abs_twob_Metadata_Treatment_Inhibitor_Dose &lt;dbl&gt; | abs_Treatment_Dose &lt;dbl&gt; |\n",
       "|---|---|---|---|---|---|---|---|---|---|---|---|---|---|---|---|---|\n",
       "| Cytoplasm_Correlation_RWC_CorrPM_CorrMito               | Cytoplasm | Correlation | RWC                     | CorrPM   | CorrMito | NA | 0.3742011 | -0.0002044911 | -1.380149 | -1.380149 | H2O2_Disulfiram_1.0__100.000           | CorrPM   | PM   | 0.0002044911 | 1.380149 | 1.380149 |\n",
       "| Cytoplasm_Texture_DifferenceEntropy_CorrMito_3_00_256   | Cytoplasm | Texture     | DifferenceEntropy       | CorrMito | 3        | 00 | 0.4806035 |  0.0003742630 |  1.348076 |  1.348076 | LPS_Nigericin_DMSO_0.025__100.000_10.0 | CorrMito | Mito | 0.0003742630 | 1.348076 | 1.348076 |\n",
       "| Nuclei_Correlation_Overlap_CorrMito_CorrPM              | Nuclei    | Correlation | Overlap                 | CorrMito | CorrPM   | NA | 0.3394022 | -0.0002052585 | -1.338728 | -1.338728 | H2O2_Disulfiram_1.0__100.000           | CorrMito | Mito | 0.0002052585 | 1.338728 | 1.338728 |\n",
       "| Cytoplasm_Texture_DifferenceEntropy_CorrMito_3_00_256   | Cytoplasm | Texture     | DifferenceEntropy       | CorrMito | 3        | 00 | 0.3247935 |  0.0005011261 |  1.307950 |  1.307950 | H2O2_Disulfiram_1.0__100.000           | CorrMito | Mito | 0.0005011261 | 1.307950 | 1.307950 |\n",
       "| Cells_Texture_InverseDifferenceMoment_CorrMito_3_00_256 | Cells     | Texture     | InverseDifferenceMoment | CorrMito | 3        | 00 | 0.4846559 | -0.0002868892 | -1.295927 | -1.295927 | LPS_Nigericin_DMSO_0.025__100.000_10.0 | CorrMito | Mito | 0.0002868892 | 1.295927 | 1.295927 |\n",
       "| Nuclei_Intensity_MaxIntensityEdge_CorrMito              | Nuclei    | Intensity   | MaxIntensityEdge        | CorrMito | NA       | NA | 0.2796684 |  0.0001916182 |  1.278755 |  1.278755 | H2O2_Disulfiram_1.0__100.000           | CorrMito | Mito | 0.0001916182 | 1.278755 | 1.278755 |\n",
       "\n"
      ],
      "text/plain": [
       "  feature                                                 compartment\n",
       "1 Cytoplasm_Correlation_RWC_CorrPM_CorrMito               Cytoplasm  \n",
       "2 Cytoplasm_Texture_DifferenceEntropy_CorrMito_3_00_256   Cytoplasm  \n",
       "3 Nuclei_Correlation_Overlap_CorrMito_CorrPM              Nuclei     \n",
       "4 Cytoplasm_Texture_DifferenceEntropy_CorrMito_3_00_256   Cytoplasm  \n",
       "5 Cells_Texture_InverseDifferenceMoment_CorrMito_3_00_256 Cells      \n",
       "6 Nuclei_Intensity_MaxIntensityEdge_CorrMito              Nuclei     \n",
       "  feature_group measurement             channel  parameter1 parameter2\n",
       "1 Correlation   RWC                     CorrPM   CorrMito   NA        \n",
       "2 Texture       DifferenceEntropy       CorrMito 3          00        \n",
       "3 Correlation   Overlap                 CorrMito CorrPM     NA        \n",
       "4 Texture       DifferenceEntropy       CorrMito 3          00        \n",
       "5 Texture       InverseDifferenceMoment CorrMito 3          00        \n",
       "6 Intensity     MaxIntensityEdge        CorrMito NA         NA        \n",
       "  r2_score  Metadata_number_of_singlecells\n",
       "1 0.3742011 -0.0002044911                 \n",
       "2 0.4806035  0.0003742630                 \n",
       "3 0.3394022 -0.0002052585                 \n",
       "4 0.3247935  0.0005011261                 \n",
       "5 0.4846559 -0.0002868892                 \n",
       "6 0.2796684  0.0001916182                 \n",
       "  twob_Metadata_Treatment_Inhibitor_Dose Treatment_Dose\n",
       "1 -1.380149                              -1.380149     \n",
       "2  1.348076                               1.348076     \n",
       "3 -1.338728                              -1.338728     \n",
       "4  1.307950                               1.307950     \n",
       "5 -1.295927                              -1.295927     \n",
       "6  1.278755                               1.278755     \n",
       "  inducer1_inhibitor_inhibitor_dose__inducer1_dose channel_cleaned\n",
       "1 H2O2_Disulfiram_1.0__100.000                     CorrPM         \n",
       "2 LPS_Nigericin_DMSO_0.025__100.000_10.0           CorrMito       \n",
       "3 H2O2_Disulfiram_1.0__100.000                     CorrMito       \n",
       "4 H2O2_Disulfiram_1.0__100.000                     CorrMito       \n",
       "5 LPS_Nigericin_DMSO_0.025__100.000_10.0           CorrMito       \n",
       "6 H2O2_Disulfiram_1.0__100.000                     CorrMito       \n",
       "  channel_learned abs_Metadata_number_of_singlecells\n",
       "1 PM              0.0002044911                      \n",
       "2 Mito            0.0003742630                      \n",
       "3 Mito            0.0002052585                      \n",
       "4 Mito            0.0005011261                      \n",
       "5 Mito            0.0002868892                      \n",
       "6 Mito            0.0001916182                      \n",
       "  abs_twob_Metadata_Treatment_Inhibitor_Dose abs_Treatment_Dose\n",
       "1 1.380149                                   1.380149          \n",
       "2 1.348076                                   1.348076          \n",
       "3 1.338728                                   1.338728          \n",
       "4 1.307950                                   1.307950          \n",
       "5 1.295927                                   1.295927          \n",
       "6 1.278755                                   1.278755          "
      ]
     },
     "metadata": {},
     "output_type": "display_data"
    }
   ],
   "source": [
    "head(lm_df)"
   ]
  },
  {
   "cell_type": "code",
   "execution_count": null,
   "id": "4d7e39a3",
   "metadata": {
    "vscode": {
     "languageId": "r"
    }
   },
   "outputs": [],
   "source": []
  },
  {
   "cell_type": "code",
   "execution_count": 28,
   "id": "977904fc",
   "metadata": {
    "vscode": {
     "languageId": "r"
    }
   },
   "outputs": [
    {
     "name": "stderr",
     "output_type": "stream",
     "text": [
      "Warning message:\n",
      "“\u001b[1m\u001b[22mComputation failed in `stat_density2d()`\n",
      "Caused by error in `MASS::kde2d()`:\n",
      "\u001b[33m!\u001b[39m bandwidths must be strictly positive”\n",
      "Warning message in min(x, na.rm = na.rm):\n",
      "“no non-missing arguments to min; returning Inf”\n",
      "Warning message in max(x, na.rm = na.rm):\n",
      "“no non-missing arguments to max; returning -Inf”\n",
      "Warning message in max(f):\n",
      "“no non-missing arguments to max; returning -Inf”\n"
     ]
    },
    {
     "ename": "ERROR",
     "evalue": "\u001b[1m\u001b[33mError\u001b[39m in `geom_density2d()`:\u001b[22m\n\u001b[1m\u001b[22m\u001b[33m!\u001b[39m Problem while computing stat.\n\u001b[36mℹ\u001b[39m Error occurred in the 4th layer.\n\u001b[1mCaused by error in `seq_len()`:\u001b[22m\n\u001b[33m!\u001b[39m argument must be coercible to non-negative integer\n",
     "output_type": "error",
     "traceback": [
      "\u001b[1m\u001b[33mError\u001b[39m in `geom_density2d()`:\u001b[22m\n\u001b[1m\u001b[22m\u001b[33m!\u001b[39m Problem while computing stat.\n\u001b[36mℹ\u001b[39m Error occurred in the 4th layer.\n\u001b[1mCaused by error in `seq_len()`:\u001b[22m\n\u001b[33m!\u001b[39m argument must be coercible to non-negative integer\nTraceback:\n",
      "1. plot(lm_fig_gg)",
      "2. plot.ggplot(lm_fig_gg)",
      "3. ggplot_build(x)",
      "4. ggplot_build.ggplot(x)",
      "5. by_layer(function(l, d) l$compute_statistic(d, layout), layers, \n .     data, \"computing stat\")",
      "6. try_fetch(for (i in seq_along(data)) {\n .     out[[i]] <- f(l = layers[[i]], d = data[[i]])\n . }, error = function(cnd) {\n .     cli::cli_abort(c(\"Problem while {step}.\", i = \"Error occurred in the {ordinal(i)} layer.\"), \n .         call = layers[[i]]$constructor, parent = cnd)\n . })",
      "7. tryCatch(withCallingHandlers(expr, condition = function(cnd) {\n .     {\n .         .__handler_frame__. <- TRUE\n .         .__setup_frame__. <- frame\n .         if (inherits(cnd, \"message\")) {\n .             except <- c(\"warning\", \"error\")\n .         }\n .         else if (inherits(cnd, \"warning\")) {\n .             except <- \"error\"\n .         }\n .         else {\n .             except <- \"\"\n .         }\n .     }\n .     while (!is_null(cnd)) {\n .         if (inherits(cnd, \"error\")) {\n .             out <- handlers[[1L]](cnd)\n .             if (!inherits(out, \"rlang_zap\")) \n .                 throw(out)\n .         }\n .         inherit <- .subset2(.subset2(cnd, \"rlang\"), \"inherit\")\n .         if (is_false(inherit)) {\n .             return()\n .         }\n .         cnd <- .subset2(cnd, \"parent\")\n .     }\n . }), stackOverflowError = handlers[[1L]])",
      "8. tryCatchList(expr, classes, parentenv, handlers)",
      "9. tryCatchOne(expr, names, parentenv, handlers[[1L]])",
      "10. doTryCatch(return(expr), name, parentenv, handler)",
      "11. withCallingHandlers(expr, condition = function(cnd) {\n  .     {\n  .         .__handler_frame__. <- TRUE\n  .         .__setup_frame__. <- frame\n  .         if (inherits(cnd, \"message\")) {\n  .             except <- c(\"warning\", \"error\")\n  .         }\n  .         else if (inherits(cnd, \"warning\")) {\n  .             except <- \"error\"\n  .         }\n  .         else {\n  .             except <- \"\"\n  .         }\n  .     }\n  .     while (!is_null(cnd)) {\n  .         if (inherits(cnd, \"error\")) {\n  .             out <- handlers[[1L]](cnd)\n  .             if (!inherits(out, \"rlang_zap\")) \n  .                 throw(out)\n  .         }\n  .         inherit <- .subset2(.subset2(cnd, \"rlang\"), \"inherit\")\n  .         if (is_false(inherit)) {\n  .             return()\n  .         }\n  .         cnd <- .subset2(cnd, \"parent\")\n  .     }\n  . })",
      "12. f(l = layers[[i]], d = data[[i]])",
      "13. l$compute_statistic(d, layout)",
      "14. compute_statistic(..., self = self)",
      "15. self$stat$compute_layer(data, self$computed_stat_params, layout)",
      "16. compute_layer(..., self = self)",
      "17. dapply(data, \"PANEL\", function(data) {\n  .     scales <- layout$get_scales(data$PANEL[1])\n  .     try_fetch(inject(contour_stat$compute_panel(data = data, \n  .         scales = scales, !!!params)), error = function(cnd) {\n  .         cli::cli_warn(\"Computation failed in {.fn {snake_class(self)}}\", \n  .             parent = cnd)\n  .         data_frame0()\n  .     })\n  . })",
      "18. split_with_index(seq_len(nrow(df)), ids)",
      "19. .handleSimpleError(function (cnd) \n  . {\n  .     {\n  .         .__handler_frame__. <- TRUE\n  .         .__setup_frame__. <- frame\n  .         if (inherits(cnd, \"message\")) {\n  .             except <- c(\"warning\", \"error\")\n  .         }\n  .         else if (inherits(cnd, \"warning\")) {\n  .             except <- \"error\"\n  .         }\n  .         else {\n  .             except <- \"\"\n  .         }\n  .     }\n  .     while (!is_null(cnd)) {\n  .         if (inherits(cnd, \"error\")) {\n  .             out <- handlers[[1L]](cnd)\n  .             if (!inherits(out, \"rlang_zap\")) \n  .                 throw(out)\n  .         }\n  .         inherit <- .subset2(.subset2(cnd, \"rlang\"), \"inherit\")\n  .         if (is_false(inherit)) {\n  .             return()\n  .         }\n  .         cnd <- .subset2(cnd, \"parent\")\n  .     }\n  . }, \"argument must be coercible to non-negative integer\", base::quote(seq_len(n)))",
      "20. h(simpleError(msg, call))",
      "21. handlers[[1L]](cnd)",
      "22. cli::cli_abort(c(\"Problem while {step}.\", i = \"Error occurred in the {ordinal(i)} layer.\"), \n  .     call = layers[[i]]$constructor, parent = cnd)",
      "23. rlang::abort(message, ..., call = call, use_cli_format = TRUE, \n  .     .frame = .frame)",
      "24. signal_abort(cnd, .file)"
     ]
    }
   ],
   "source": [
    "pdf(file=lm_cp_fig )\n",
    "for (i in 1:length(loop_list)){\n",
    "    df <- lm_df[lm_df$inducer1_inhibitor_inhibitor_dose__inducer1_dose == loop_list[i],]\n",
    "    for (j in 1:length(x_list)){\n",
    "        lm_fig_gg <- (\n",
    "            ggplot(df, aes(x = .data[[x_list[j]]], y = Metadata_number_of_singlecells))\n",
    "            + geom_point(aes(size = r2_score, color = channel_learned), alpha = 0.7)\n",
    "            + theme_bw()\n",
    "            + guides(\n",
    "                color = guide_legend(title = \"Channel\\n(if applicable)\", order = 1),\n",
    "                size = guide_legend(title = \"Cell count contributution\")\n",
    "            )\n",
    "            + geom_vline(xintercept = 0, linetype = \"dashed\", color = \"red\")\n",
    "            + geom_hline(yintercept = 0, linetype = \"dashed\", color = \"red\")\n",
    "            + geom_density2d(color=\"black\", show.legend = FALSE)\n",
    "            + ylab(\"R2 score of LM feature\")\n",
    "            + xlab(paste0(x_list[j],\" contribution (LM beta coefficient)\"))\n",
    "            + ggtitle(paste0(\"How CellProfiler features contribute\\nto \",loop_list[i], \"\\ntreatments and cell density\"))\n",
    "        )\n",
    "    plot(lm_fig_gg)    \n",
    "    }\n",
    "}\n",
    "dev.off()"
   ]
  },
  {
   "cell_type": "code",
   "execution_count": null,
   "id": "8a00f015",
   "metadata": {
    "vscode": {
     "languageId": "r"
    }
   },
   "outputs": [],
   "source": [
    "pdf(file=lm_cp_fig)\n",
    "for (i in 1:length(loop_list)){\n",
    "    df <- lm_df[lm_df$dosage_treatments_list == loop_list[i],]\n",
    "    lm_fig_gg <- (\n",
    "        ggplot(df, aes(x = oneb_Metadata_Treatment_Dose_Inhibitor_Dose, y = Metadata_number_of_singlecells))\n",
    "\n",
    "        + geom_point(aes(size = r2_score, color = channel_learned,), alpha = 0.7)\n",
    "\n",
    "        + scale_size_continuous(range = c(2, 8), limits = c(0, 1))\n",
    "\n",
    "\n",
    "        + geom_vline(xintercept = 0, linetype = \"dashed\", color = \"red\")\n",
    "        + geom_hline(yintercept = 0, linetype = \"dashed\", color = \"red\")\n",
    "        + geom_density2d(color=\"black\", show.legend = FALSE)\n",
    "        + theme_bw()\n",
    "        + guides(\n",
    "            color = guide_legend(title = \"Channel\\n(if applicable)\", order = 1),\n",
    "            size = guide_legend(title = \"R2 score\")\n",
    "        )\n",
    "        # make legend dots bigger\n",
    "        + ylab(\"WT genotype contribution (LM beta coefficient)\")\n",
    "        + xlab(\"Cell count contribution (LM beta coefficient)\")\n",
    "        + ggtitle(paste0(\"How CellProfiler features contribute\\nto \",loop_list[i], \" treatments and cell density\"))\n",
    "    )\n",
    "    plot(lm_fig_gg)\n",
    "}\n",
    "dev.off()\n"
   ]
  },
  {
   "cell_type": "code",
   "execution_count": null,
   "id": "61545227",
   "metadata": {
    "vscode": {
     "languageId": "r"
    }
   },
   "outputs": [],
   "source": [
    "pdf(file=lm_cp_fig_abs)\n",
    "for (i in 1:length(loop_list)){\n",
    "\n",
    "    df <- lm_df[lm_df$dosage_treatments_list == loop_list[i],]\n",
    "    lm_fig_gg <- (\n",
    "        ggplot(df, aes(x = abs_oneb_Metadata_Treatment_Dose_Inhibitor_Dose, y = r2_score))\n",
    "        + geom_point(aes(size = abs_Metadata_number_of_singlecells, color = channel_learned), alpha = 0.7)\n",
    "\n",
    "        + theme_bw()\n",
    "        + guides(\n",
    "            color = guide_legend(title = \"Channel\\n(if applicable)\", order = 1),\n",
    "            size = guide_legend(title = \"Cell count contributution\")\n",
    "        )\n",
    "        + ylab(\"R2 score of LM feature\")\n",
    "        + xlab(\"Treatment and Dose contribution (LM beta coefficient)\")\n",
    "        + ggtitle(paste0(\"How CellProfiler features contribute\\nto \",loop_list[i], \" treatments and cell density\"))\n",
    "    )\n",
    "\n",
    "    plot(lm_fig_gg)\n",
    "}\n",
    "dev.off()"
   ]
  }
 ],
 "metadata": {
  "kernelspec": {
   "display_name": "R",
   "language": "R",
   "name": "ir"
  },
  "language_info": {
   "codemirror_mode": "r",
   "file_extension": ".r",
   "mimetype": "text/x-r-source",
   "name": "R",
   "pygments_lexer": "r",
   "version": "4.2.2"
  },
  "vscode": {
   "interpreter": {
    "hash": "72ae02083a9ca7d143c492d1aec380c7bf553ec51bd66e90e72bba65228121b6"
   }
  }
 },
 "nbformat": 4,
 "nbformat_minor": 5
}
