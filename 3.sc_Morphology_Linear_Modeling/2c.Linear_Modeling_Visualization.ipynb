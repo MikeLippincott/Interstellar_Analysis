{
 "cells": [
  {
   "cell_type": "code",
   "execution_count": 1,
   "id": "c4549d80",
   "metadata": {
    "vscode": {
     "languageId": "r"
    }
   },
   "outputs": [
    {
     "name": "stderr",
     "output_type": "stream",
     "text": [
      "Warning message:\n",
      "“package ‘ggplot2’ was built under R version 4.2.3”\n"
     ]
    }
   ],
   "source": [
    "suppressPackageStartupMessages(library(ggplot2))\n",
    "suppressPackageStartupMessages(library(dplyr))\n",
    "suppressPackageStartupMessages(library(argparse))"
   ]
  },
  {
   "attachments": {},
   "cell_type": "markdown",
   "id": "65fe30fa",
   "metadata": {},
   "source": [
    "## Three Beta Model Vizualization"
   ]
  },
  {
   "cell_type": "code",
   "execution_count": null,
   "id": "c2abc571",
   "metadata": {
    "vscode": {
     "languageId": "r"
    }
   },
   "outputs": [],
   "source": [
    "# define command line arguments\n",
    "parser <- ArgumentParser(description = \"Visualize linear modeling results\")\n",
    "# add arguments\n",
    "parser$add_argument('--celltype', type='character', help='Cell type to visualize')\n",
    "\n",
    "# parse arguments from command line\n",
    "args <- parser$parse_args()\n",
    "\n",
    "# define cell type\n",
    "celltype <- args$celltype\n"
   ]
  },
  {
   "cell_type": "code",
   "execution_count": 2,
   "id": "f86de8b4",
   "metadata": {
    "vscode": {
     "languageId": "r"
    }
   },
   "outputs": [
    {
     "data": {
      "text/html": [
       "<table class=\"dataframe\">\n",
       "<caption>A tibble: 6 × 7</caption>\n",
       "<thead>\n",
       "\t<tr><th scope=col>feature</th><th scope=col>r2_score</th><th scope=col>Metadata_number_of_singlecells</th><th scope=col>threeb_Treatment</th><th scope=col>threeb_Treatment_Dose</th><th scope=col>threeb_Inhibitor_and_Dose</th><th scope=col>inducer1__inducer1_dose__inhibitor_inhibitor_dose</th></tr>\n",
       "\t<tr><th scope=col>&lt;chr&gt;</th><th scope=col>&lt;dbl&gt;</th><th scope=col>&lt;dbl&gt;</th><th scope=col>&lt;dbl&gt;</th><th scope=col>&lt;dbl&gt;</th><th scope=col>&lt;dbl&gt;</th><th scope=col>&lt;chr&gt;</th></tr>\n",
       "</thead>\n",
       "<tbody>\n",
       "\t<tr><td>Cytoplasm_AreaShape_Area                </td><td>9.343787e-04</td><td> 1.695962e-05</td><td> 0.023208062</td><td>-0.023208062</td><td> 0.023208062</td><td>media ctr__0__Media ctr_0.0</td></tr>\n",
       "\t<tr><td>Cytoplasm_AreaShape_BoundingBoxArea     </td><td>1.740451e-03</td><td>-3.367326e-05</td><td> 0.023311221</td><td>-0.023311221</td><td> 0.023311221</td><td>media ctr__0__Media ctr_0.0</td></tr>\n",
       "\t<tr><td>Cytoplasm_AreaShape_BoundingBoxMaximum_X</td><td>1.077223e-04</td><td>-2.358903e-05</td><td>-0.008823020</td><td> 0.008823020</td><td>-0.008823020</td><td>media ctr__0__Media ctr_0.0</td></tr>\n",
       "\t<tr><td>Cytoplasm_AreaShape_BoundingBoxMaximum_Y</td><td>1.354607e-04</td><td>-2.231822e-05</td><td> 0.003278083</td><td>-0.003278083</td><td> 0.003278083</td><td>media ctr__0__Media ctr_0.0</td></tr>\n",
       "\t<tr><td>Cytoplasm_AreaShape_BoundingBoxMinimum_X</td><td>1.515569e-04</td><td>-2.184418e-05</td><td>-0.010414957</td><td> 0.010414957</td><td>-0.010414957</td><td>media ctr__0__Media ctr_0.0</td></tr>\n",
       "\t<tr><td>Cytoplasm_AreaShape_BoundingBoxMinimum_Y</td><td>8.637752e-05</td><td>-2.176965e-05</td><td> 0.001426285</td><td>-0.001426285</td><td> 0.001426285</td><td>media ctr__0__Media ctr_0.0</td></tr>\n",
       "</tbody>\n",
       "</table>\n"
      ],
      "text/latex": [
       "A tibble: 6 × 7\n",
       "\\begin{tabular}{lllllll}\n",
       " feature & r2\\_score & Metadata\\_number\\_of\\_singlecells & threeb\\_Treatment & threeb\\_Treatment\\_Dose & threeb\\_Inhibitor\\_and\\_Dose & inducer1\\_\\_inducer1\\_dose\\_\\_inhibitor\\_inhibitor\\_dose\\\\\n",
       " <chr> & <dbl> & <dbl> & <dbl> & <dbl> & <dbl> & <chr>\\\\\n",
       "\\hline\n",
       "\t Cytoplasm\\_AreaShape\\_Area                 & 9.343787e-04 &  1.695962e-05 &  0.023208062 & -0.023208062 &  0.023208062 & media ctr\\_\\_0\\_\\_Media ctr\\_0.0\\\\\n",
       "\t Cytoplasm\\_AreaShape\\_BoundingBoxArea      & 1.740451e-03 & -3.367326e-05 &  0.023311221 & -0.023311221 &  0.023311221 & media ctr\\_\\_0\\_\\_Media ctr\\_0.0\\\\\n",
       "\t Cytoplasm\\_AreaShape\\_BoundingBoxMaximum\\_X & 1.077223e-04 & -2.358903e-05 & -0.008823020 &  0.008823020 & -0.008823020 & media ctr\\_\\_0\\_\\_Media ctr\\_0.0\\\\\n",
       "\t Cytoplasm\\_AreaShape\\_BoundingBoxMaximum\\_Y & 1.354607e-04 & -2.231822e-05 &  0.003278083 & -0.003278083 &  0.003278083 & media ctr\\_\\_0\\_\\_Media ctr\\_0.0\\\\\n",
       "\t Cytoplasm\\_AreaShape\\_BoundingBoxMinimum\\_X & 1.515569e-04 & -2.184418e-05 & -0.010414957 &  0.010414957 & -0.010414957 & media ctr\\_\\_0\\_\\_Media ctr\\_0.0\\\\\n",
       "\t Cytoplasm\\_AreaShape\\_BoundingBoxMinimum\\_Y & 8.637752e-05 & -2.176965e-05 &  0.001426285 & -0.001426285 &  0.001426285 & media ctr\\_\\_0\\_\\_Media ctr\\_0.0\\\\\n",
       "\\end{tabular}\n"
      ],
      "text/markdown": [
       "\n",
       "A tibble: 6 × 7\n",
       "\n",
       "| feature &lt;chr&gt; | r2_score &lt;dbl&gt; | Metadata_number_of_singlecells &lt;dbl&gt; | threeb_Treatment &lt;dbl&gt; | threeb_Treatment_Dose &lt;dbl&gt; | threeb_Inhibitor_and_Dose &lt;dbl&gt; | inducer1__inducer1_dose__inhibitor_inhibitor_dose &lt;chr&gt; |\n",
       "|---|---|---|---|---|---|---|\n",
       "| Cytoplasm_AreaShape_Area                 | 9.343787e-04 |  1.695962e-05 |  0.023208062 | -0.023208062 |  0.023208062 | media ctr__0__Media ctr_0.0 |\n",
       "| Cytoplasm_AreaShape_BoundingBoxArea      | 1.740451e-03 | -3.367326e-05 |  0.023311221 | -0.023311221 |  0.023311221 | media ctr__0__Media ctr_0.0 |\n",
       "| Cytoplasm_AreaShape_BoundingBoxMaximum_X | 1.077223e-04 | -2.358903e-05 | -0.008823020 |  0.008823020 | -0.008823020 | media ctr__0__Media ctr_0.0 |\n",
       "| Cytoplasm_AreaShape_BoundingBoxMaximum_Y | 1.354607e-04 | -2.231822e-05 |  0.003278083 | -0.003278083 |  0.003278083 | media ctr__0__Media ctr_0.0 |\n",
       "| Cytoplasm_AreaShape_BoundingBoxMinimum_X | 1.515569e-04 | -2.184418e-05 | -0.010414957 |  0.010414957 | -0.010414957 | media ctr__0__Media ctr_0.0 |\n",
       "| Cytoplasm_AreaShape_BoundingBoxMinimum_Y | 8.637752e-05 | -2.176965e-05 |  0.001426285 | -0.001426285 |  0.001426285 | media ctr__0__Media ctr_0.0 |\n",
       "\n"
      ],
      "text/plain": [
       "  feature                                  r2_score    \n",
       "1 Cytoplasm_AreaShape_Area                 9.343787e-04\n",
       "2 Cytoplasm_AreaShape_BoundingBoxArea      1.740451e-03\n",
       "3 Cytoplasm_AreaShape_BoundingBoxMaximum_X 1.077223e-04\n",
       "4 Cytoplasm_AreaShape_BoundingBoxMaximum_Y 1.354607e-04\n",
       "5 Cytoplasm_AreaShape_BoundingBoxMinimum_X 1.515569e-04\n",
       "6 Cytoplasm_AreaShape_BoundingBoxMinimum_Y 8.637752e-05\n",
       "  Metadata_number_of_singlecells threeb_Treatment threeb_Treatment_Dose\n",
       "1  1.695962e-05                   0.023208062     -0.023208062         \n",
       "2 -3.367326e-05                   0.023311221     -0.023311221         \n",
       "3 -2.358903e-05                  -0.008823020      0.008823020         \n",
       "4 -2.231822e-05                   0.003278083     -0.003278083         \n",
       "5 -2.184418e-05                  -0.010414957      0.010414957         \n",
       "6 -2.176965e-05                   0.001426285     -0.001426285         \n",
       "  threeb_Inhibitor_and_Dose inducer1__inducer1_dose__inhibitor_inhibitor_dose\n",
       "1  0.023208062              media ctr__0__Media ctr_0.0                      \n",
       "2  0.023311221              media ctr__0__Media ctr_0.0                      \n",
       "3 -0.008823020              media ctr__0__Media ctr_0.0                      \n",
       "4  0.003278083              media ctr__0__Media ctr_0.0                      \n",
       "5 -0.010414957              media ctr__0__Media ctr_0.0                      \n",
       "6  0.001426285              media ctr__0__Media ctr_0.0                      "
      ]
     },
     "metadata": {},
     "output_type": "display_data"
    }
   ],
   "source": [
    "\n",
    "lm_file <- file.path(paste0(\"./results/\", celltype, \"/lm_three_beta.tsv\"))\n",
    "\n",
    "lm_cp_fig <- file.path(paste0(\"./figures/\", celltype, \"/lm_three_beta.pdf\"))\n",
    "\n",
    "# if path does not exist, create it\n",
    "if (!dir.exists(file.path(paste0(\"./figures/\", celltype)))) {\n",
    "    dir.create(file.path(paste0(\"./figures/\", celltype)))\n",
    "}\n",
    "lm_df <- readr::read_tsv(lm_file, col_types = readr::cols(.default = \"d\", feature =\"c\", inducer1__inducer1_dose__inhibitor_inhibitor_dose = \"c\"))\n",
    "head(lm_df)"
   ]
  },
  {
   "cell_type": "code",
   "execution_count": 3,
   "id": "05511ea0",
   "metadata": {
    "vscode": {
     "languageId": "r"
    }
   },
   "outputs": [
    {
     "data": {
      "text/html": [
       "<style>\n",
       ".list-inline {list-style: none; margin:0; padding: 0}\n",
       ".list-inline>li {display: inline-block}\n",
       ".list-inline>li:not(:last-child)::after {content: \"\\00b7\"; padding: 0 .5ex}\n",
       "</style>\n",
       "<ol class=list-inline><li>'media ctr__0__Media ctr_0.0'</li><li>'DMSO__0.100__DMSO_1.0'</li><li>'DMSO__0.100__Z-VAD-FMK_100.0'</li><li>'DMSO__0.100__Z-VAD-FMK_30.0'</li><li>'DMSO__0.100__DMSO_0.025'</li><li>'Thapsigargin__1.000__DMSO_0.025'</li><li>'Thapsigargin__10.000__DMSO_0.025'</li><li>'Topotecan__5.000__DMSO_0.025'</li><li>'Topotecan__10.000__DMSO_0.025'</li><li>'Topotecan__20.000__DMSO_0.025'</li><li>'LPS__0.010__DMSO_0.025'</li><li>'LPS__0.100__DMSO_0.025'</li><li>'LPS__1.000__DMSO_0.025'</li><li>'LPS__10.000__DMSO_0.025'</li><li>'LPS__10.000__Disulfiram_0.1'</li><li>'LPS__10.000__Disulfiram_1.0'</li><li>'LPS__10.000__Disulfiram_2.5'</li><li>'LPS_Nigericin__100.000_1.0__DMSO_0.025'</li><li>'LPS_Nigericin__100.000_3.0__DMSO_0.025'</li><li>'LPS_Nigericin__100.000_10.0__DMSO_0.025'</li><li>'Disulfiram__0.100__DMSO_0.025'</li><li>'Disulfiram__1.000__DMSO_0.025'</li><li>'Disulfiram__2.500__DMSO_0.025'</li><li>'H2O2__100.000__DMSO_0.025'</li><li>'LPS__10.000__Z-VAD-FMK_100.0'</li><li>'LPS__100.000__DMSO_0.025'</li><li>'LPS_Nigericin__1.000_1.0__DMSO_0.025'</li><li>'LPS_Nigericin__1.000_3.0__DMSO_0.025'</li><li>'LPS_Nigericin__1.000_10.0__DMSO_0.025'</li><li>'LPS_Nigericin__1.000_10.0__Disulfiram_1.0'</li><li>'LPS_Nigericin__1.000_10.0__Z-VAD-FMK_100.0'</li><li>'H2O2__100.000__Disulfiram_1.0'</li><li>'H2O2__100.000__Z-VAD-FMK_100.0'</li><li>'Flagellin__0.100__DMSO_0.025'</li><li>'Flagellin__1.000__DMSO_0.025'</li><li>'Flagellin__1.000__Disulfiram_1.0'</li></ol>\n"
      ],
      "text/latex": [
       "\\begin{enumerate*}\n",
       "\\item 'media ctr\\_\\_0\\_\\_Media ctr\\_0.0'\n",
       "\\item 'DMSO\\_\\_0.100\\_\\_DMSO\\_1.0'\n",
       "\\item 'DMSO\\_\\_0.100\\_\\_Z-VAD-FMK\\_100.0'\n",
       "\\item 'DMSO\\_\\_0.100\\_\\_Z-VAD-FMK\\_30.0'\n",
       "\\item 'DMSO\\_\\_0.100\\_\\_DMSO\\_0.025'\n",
       "\\item 'Thapsigargin\\_\\_1.000\\_\\_DMSO\\_0.025'\n",
       "\\item 'Thapsigargin\\_\\_10.000\\_\\_DMSO\\_0.025'\n",
       "\\item 'Topotecan\\_\\_5.000\\_\\_DMSO\\_0.025'\n",
       "\\item 'Topotecan\\_\\_10.000\\_\\_DMSO\\_0.025'\n",
       "\\item 'Topotecan\\_\\_20.000\\_\\_DMSO\\_0.025'\n",
       "\\item 'LPS\\_\\_0.010\\_\\_DMSO\\_0.025'\n",
       "\\item 'LPS\\_\\_0.100\\_\\_DMSO\\_0.025'\n",
       "\\item 'LPS\\_\\_1.000\\_\\_DMSO\\_0.025'\n",
       "\\item 'LPS\\_\\_10.000\\_\\_DMSO\\_0.025'\n",
       "\\item 'LPS\\_\\_10.000\\_\\_Disulfiram\\_0.1'\n",
       "\\item 'LPS\\_\\_10.000\\_\\_Disulfiram\\_1.0'\n",
       "\\item 'LPS\\_\\_10.000\\_\\_Disulfiram\\_2.5'\n",
       "\\item 'LPS\\_Nigericin\\_\\_100.000\\_1.0\\_\\_DMSO\\_0.025'\n",
       "\\item 'LPS\\_Nigericin\\_\\_100.000\\_3.0\\_\\_DMSO\\_0.025'\n",
       "\\item 'LPS\\_Nigericin\\_\\_100.000\\_10.0\\_\\_DMSO\\_0.025'\n",
       "\\item 'Disulfiram\\_\\_0.100\\_\\_DMSO\\_0.025'\n",
       "\\item 'Disulfiram\\_\\_1.000\\_\\_DMSO\\_0.025'\n",
       "\\item 'Disulfiram\\_\\_2.500\\_\\_DMSO\\_0.025'\n",
       "\\item 'H2O2\\_\\_100.000\\_\\_DMSO\\_0.025'\n",
       "\\item 'LPS\\_\\_10.000\\_\\_Z-VAD-FMK\\_100.0'\n",
       "\\item 'LPS\\_\\_100.000\\_\\_DMSO\\_0.025'\n",
       "\\item 'LPS\\_Nigericin\\_\\_1.000\\_1.0\\_\\_DMSO\\_0.025'\n",
       "\\item 'LPS\\_Nigericin\\_\\_1.000\\_3.0\\_\\_DMSO\\_0.025'\n",
       "\\item 'LPS\\_Nigericin\\_\\_1.000\\_10.0\\_\\_DMSO\\_0.025'\n",
       "\\item 'LPS\\_Nigericin\\_\\_1.000\\_10.0\\_\\_Disulfiram\\_1.0'\n",
       "\\item 'LPS\\_Nigericin\\_\\_1.000\\_10.0\\_\\_Z-VAD-FMK\\_100.0'\n",
       "\\item 'H2O2\\_\\_100.000\\_\\_Disulfiram\\_1.0'\n",
       "\\item 'H2O2\\_\\_100.000\\_\\_Z-VAD-FMK\\_100.0'\n",
       "\\item 'Flagellin\\_\\_0.100\\_\\_DMSO\\_0.025'\n",
       "\\item 'Flagellin\\_\\_1.000\\_\\_DMSO\\_0.025'\n",
       "\\item 'Flagellin\\_\\_1.000\\_\\_Disulfiram\\_1.0'\n",
       "\\end{enumerate*}\n"
      ],
      "text/markdown": [
       "1. 'media ctr__0__Media ctr_0.0'\n",
       "2. 'DMSO__0.100__DMSO_1.0'\n",
       "3. 'DMSO__0.100__Z-VAD-FMK_100.0'\n",
       "4. 'DMSO__0.100__Z-VAD-FMK_30.0'\n",
       "5. 'DMSO__0.100__DMSO_0.025'\n",
       "6. 'Thapsigargin__1.000__DMSO_0.025'\n",
       "7. 'Thapsigargin__10.000__DMSO_0.025'\n",
       "8. 'Topotecan__5.000__DMSO_0.025'\n",
       "9. 'Topotecan__10.000__DMSO_0.025'\n",
       "10. 'Topotecan__20.000__DMSO_0.025'\n",
       "11. 'LPS__0.010__DMSO_0.025'\n",
       "12. 'LPS__0.100__DMSO_0.025'\n",
       "13. 'LPS__1.000__DMSO_0.025'\n",
       "14. 'LPS__10.000__DMSO_0.025'\n",
       "15. 'LPS__10.000__Disulfiram_0.1'\n",
       "16. 'LPS__10.000__Disulfiram_1.0'\n",
       "17. 'LPS__10.000__Disulfiram_2.5'\n",
       "18. 'LPS_Nigericin__100.000_1.0__DMSO_0.025'\n",
       "19. 'LPS_Nigericin__100.000_3.0__DMSO_0.025'\n",
       "20. 'LPS_Nigericin__100.000_10.0__DMSO_0.025'\n",
       "21. 'Disulfiram__0.100__DMSO_0.025'\n",
       "22. 'Disulfiram__1.000__DMSO_0.025'\n",
       "23. 'Disulfiram__2.500__DMSO_0.025'\n",
       "24. 'H2O2__100.000__DMSO_0.025'\n",
       "25. 'LPS__10.000__Z-VAD-FMK_100.0'\n",
       "26. 'LPS__100.000__DMSO_0.025'\n",
       "27. 'LPS_Nigericin__1.000_1.0__DMSO_0.025'\n",
       "28. 'LPS_Nigericin__1.000_3.0__DMSO_0.025'\n",
       "29. 'LPS_Nigericin__1.000_10.0__DMSO_0.025'\n",
       "30. 'LPS_Nigericin__1.000_10.0__Disulfiram_1.0'\n",
       "31. 'LPS_Nigericin__1.000_10.0__Z-VAD-FMK_100.0'\n",
       "32. 'H2O2__100.000__Disulfiram_1.0'\n",
       "33. 'H2O2__100.000__Z-VAD-FMK_100.0'\n",
       "34. 'Flagellin__0.100__DMSO_0.025'\n",
       "35. 'Flagellin__1.000__DMSO_0.025'\n",
       "36. 'Flagellin__1.000__Disulfiram_1.0'\n",
       "\n",
       "\n"
      ],
      "text/plain": [
       " [1] \"media ctr__0__Media ctr_0.0\"               \n",
       " [2] \"DMSO__0.100__DMSO_1.0\"                     \n",
       " [3] \"DMSO__0.100__Z-VAD-FMK_100.0\"              \n",
       " [4] \"DMSO__0.100__Z-VAD-FMK_30.0\"               \n",
       " [5] \"DMSO__0.100__DMSO_0.025\"                   \n",
       " [6] \"Thapsigargin__1.000__DMSO_0.025\"           \n",
       " [7] \"Thapsigargin__10.000__DMSO_0.025\"          \n",
       " [8] \"Topotecan__5.000__DMSO_0.025\"              \n",
       " [9] \"Topotecan__10.000__DMSO_0.025\"             \n",
       "[10] \"Topotecan__20.000__DMSO_0.025\"             \n",
       "[11] \"LPS__0.010__DMSO_0.025\"                    \n",
       "[12] \"LPS__0.100__DMSO_0.025\"                    \n",
       "[13] \"LPS__1.000__DMSO_0.025\"                    \n",
       "[14] \"LPS__10.000__DMSO_0.025\"                   \n",
       "[15] \"LPS__10.000__Disulfiram_0.1\"               \n",
       "[16] \"LPS__10.000__Disulfiram_1.0\"               \n",
       "[17] \"LPS__10.000__Disulfiram_2.5\"               \n",
       "[18] \"LPS_Nigericin__100.000_1.0__DMSO_0.025\"    \n",
       "[19] \"LPS_Nigericin__100.000_3.0__DMSO_0.025\"    \n",
       "[20] \"LPS_Nigericin__100.000_10.0__DMSO_0.025\"   \n",
       "[21] \"Disulfiram__0.100__DMSO_0.025\"             \n",
       "[22] \"Disulfiram__1.000__DMSO_0.025\"             \n",
       "[23] \"Disulfiram__2.500__DMSO_0.025\"             \n",
       "[24] \"H2O2__100.000__DMSO_0.025\"                 \n",
       "[25] \"LPS__10.000__Z-VAD-FMK_100.0\"              \n",
       "[26] \"LPS__100.000__DMSO_0.025\"                  \n",
       "[27] \"LPS_Nigericin__1.000_1.0__DMSO_0.025\"      \n",
       "[28] \"LPS_Nigericin__1.000_3.0__DMSO_0.025\"      \n",
       "[29] \"LPS_Nigericin__1.000_10.0__DMSO_0.025\"     \n",
       "[30] \"LPS_Nigericin__1.000_10.0__Disulfiram_1.0\" \n",
       "[31] \"LPS_Nigericin__1.000_10.0__Z-VAD-FMK_100.0\"\n",
       "[32] \"H2O2__100.000__Disulfiram_1.0\"             \n",
       "[33] \"H2O2__100.000__Z-VAD-FMK_100.0\"            \n",
       "[34] \"Flagellin__0.100__DMSO_0.025\"              \n",
       "[35] \"Flagellin__1.000__DMSO_0.025\"              \n",
       "[36] \"Flagellin__1.000__Disulfiram_1.0\"          "
      ]
     },
     "metadata": {},
     "output_type": "display_data"
    }
   ],
   "source": [
    "unique(lm_df$inducer1__inducer1_dose__inhibitor_inhibitor_dose)"
   ]
  },
  {
   "cell_type": "code",
   "execution_count": 4,
   "id": "4085652a",
   "metadata": {
    "vscode": {
     "languageId": "r"
    }
   },
   "outputs": [
    {
     "name": "stderr",
     "output_type": "stream",
     "text": [
      "Warning message:\n",
      "“\u001b[1m\u001b[22mExpected 6 pieces. Additional pieces discarded in 28080 rows [3, 4, 5, 6, 7, 8, 9, 10, 12, 13, 15, 16, 18, 19, 20, 23, 24, 25, 26, 27, ...].”\n",
      "Warning message:\n",
      "“\u001b[1m\u001b[22mExpected 6 pieces. Missing pieces filled with `NA` in 42012 rows [1, 2, 11, 14, 17, 21, 22, 40, 42, 45, 49, 52, 55, 56, 57, 64, 66, 67, 70, 76,\n",
      "...].”\n"
     ]
    }
   ],
   "source": [
    "\n",
    "# Arrange by absolute value coefficient\n",
    "# Split out components of feature name for visualization\n",
    "lm_df <- lm_df %>%\n",
    "    dplyr::arrange(desc(abs(threeb_Treatment_Dose))) %>%\n",
    "    tidyr::separate(\n",
    "        feature,\n",
    "        into = c(\n",
    "            \"compartment\",\n",
    "            \"feature_group\",\n",
    "            \"measurement\",\n",
    "            \"channel\",\n",
    "            \"parameter1\",\n",
    "            \"parameter2\"\n",
    "        ),\n",
    "        sep = \"_\",\n",
    "        remove = FALSE\n",
    "    ) %>%\n",
    "    dplyr::mutate(channel_cleaned = channel)\n",
    "\n"
   ]
  },
  {
   "cell_type": "code",
   "execution_count": 5,
   "id": "9e039275",
   "metadata": {
    "vscode": {
     "languageId": "r"
    }
   },
   "outputs": [
    {
     "data": {
      "text/html": [
       "<style>\n",
       ".list-inline {list-style: none; margin:0; padding: 0}\n",
       ".list-inline>li {display: inline-block}\n",
       ".list-inline>li:not(:last-child)::after {content: \"\\00b7\"; padding: 0 .5ex}\n",
       "</style>\n",
       "<ol class=list-inline><li>'CorrMito'</li><li>'CorrPM'</li><li>'CorrDNA'</li><li>'CorrER'</li><li>'CorrGasdermin'</li><li>NA</li><li>'8'</li><li>'Adjacent'</li><li>'0'</li><li>'3'</li><li>'Number'</li><li>'7'</li><li>'9'</li><li>'2'</li><li>'5'</li><li>'4'</li><li>'6'</li><li>'1'</li><li>'X'</li><li>'Y'</li><li>'Z'</li><li>'Count'</li></ol>\n"
      ],
      "text/latex": [
       "\\begin{enumerate*}\n",
       "\\item 'CorrMito'\n",
       "\\item 'CorrPM'\n",
       "\\item 'CorrDNA'\n",
       "\\item 'CorrER'\n",
       "\\item 'CorrGasdermin'\n",
       "\\item NA\n",
       "\\item '8'\n",
       "\\item 'Adjacent'\n",
       "\\item '0'\n",
       "\\item '3'\n",
       "\\item 'Number'\n",
       "\\item '7'\n",
       "\\item '9'\n",
       "\\item '2'\n",
       "\\item '5'\n",
       "\\item '4'\n",
       "\\item '6'\n",
       "\\item '1'\n",
       "\\item 'X'\n",
       "\\item 'Y'\n",
       "\\item 'Z'\n",
       "\\item 'Count'\n",
       "\\end{enumerate*}\n"
      ],
      "text/markdown": [
       "1. 'CorrMito'\n",
       "2. 'CorrPM'\n",
       "3. 'CorrDNA'\n",
       "4. 'CorrER'\n",
       "5. 'CorrGasdermin'\n",
       "6. NA\n",
       "7. '8'\n",
       "8. 'Adjacent'\n",
       "9. '0'\n",
       "10. '3'\n",
       "11. 'Number'\n",
       "12. '7'\n",
       "13. '9'\n",
       "14. '2'\n",
       "15. '5'\n",
       "16. '4'\n",
       "17. '6'\n",
       "18. '1'\n",
       "19. 'X'\n",
       "20. 'Y'\n",
       "21. 'Z'\n",
       "22. 'Count'\n",
       "\n",
       "\n"
      ],
      "text/plain": [
       " [1] \"CorrMito\"      \"CorrPM\"        \"CorrDNA\"       \"CorrER\"       \n",
       " [5] \"CorrGasdermin\" NA              \"8\"             \"Adjacent\"     \n",
       " [9] \"0\"             \"3\"             \"Number\"        \"7\"            \n",
       "[13] \"9\"             \"2\"             \"5\"             \"4\"            \n",
       "[17] \"6\"             \"1\"             \"X\"             \"Y\"            \n",
       "[21] \"Z\"             \"Count\"        "
      ]
     },
     "metadata": {},
     "output_type": "display_data"
    }
   ],
   "source": [
    "unique(lm_df$channel)"
   ]
  },
  {
   "cell_type": "code",
   "execution_count": 6,
   "id": "f2cfd6bf",
   "metadata": {
    "vscode": {
     "languageId": "r"
    }
   },
   "outputs": [
    {
     "data": {
      "text/html": [
       "<style>\n",
       ".list-inline {list-style: none; margin:0; padding: 0}\n",
       ".list-inline>li {display: inline-block}\n",
       ".list-inline>li:not(:last-child)::after {content: \"\\00b7\"; padding: 0 .5ex}\n",
       "</style>\n",
       "<ol class=list-inline><li>'CorrMito'</li><li>'CorrPM'</li><li>'CorrDNA'</li><li>'CorrER'</li><li>'CorrGasdermin'</li><li>NA</li><li>'8'</li><li>'Adjacent'</li><li>'0'</li><li>'3'</li><li>'Number'</li><li>'7'</li><li>'9'</li><li>'2'</li><li>'5'</li><li>'4'</li><li>'6'</li><li>'1'</li><li>'X'</li><li>'Y'</li><li>'Z'</li><li>'Count'</li></ol>\n"
      ],
      "text/latex": [
       "\\begin{enumerate*}\n",
       "\\item 'CorrMito'\n",
       "\\item 'CorrPM'\n",
       "\\item 'CorrDNA'\n",
       "\\item 'CorrER'\n",
       "\\item 'CorrGasdermin'\n",
       "\\item NA\n",
       "\\item '8'\n",
       "\\item 'Adjacent'\n",
       "\\item '0'\n",
       "\\item '3'\n",
       "\\item 'Number'\n",
       "\\item '7'\n",
       "\\item '9'\n",
       "\\item '2'\n",
       "\\item '5'\n",
       "\\item '4'\n",
       "\\item '6'\n",
       "\\item '1'\n",
       "\\item 'X'\n",
       "\\item 'Y'\n",
       "\\item 'Z'\n",
       "\\item 'Count'\n",
       "\\end{enumerate*}\n"
      ],
      "text/markdown": [
       "1. 'CorrMito'\n",
       "2. 'CorrPM'\n",
       "3. 'CorrDNA'\n",
       "4. 'CorrER'\n",
       "5. 'CorrGasdermin'\n",
       "6. NA\n",
       "7. '8'\n",
       "8. 'Adjacent'\n",
       "9. '0'\n",
       "10. '3'\n",
       "11. 'Number'\n",
       "12. '7'\n",
       "13. '9'\n",
       "14. '2'\n",
       "15. '5'\n",
       "16. '4'\n",
       "17. '6'\n",
       "18. '1'\n",
       "19. 'X'\n",
       "20. 'Y'\n",
       "21. 'Z'\n",
       "22. 'Count'\n",
       "\n",
       "\n"
      ],
      "text/plain": [
       " [1] \"CorrMito\"      \"CorrPM\"        \"CorrDNA\"       \"CorrER\"       \n",
       " [5] \"CorrGasdermin\" NA              \"8\"             \"Adjacent\"     \n",
       " [9] \"0\"             \"3\"             \"Number\"        \"7\"            \n",
       "[13] \"9\"             \"2\"             \"5\"             \"4\"            \n",
       "[17] \"6\"             \"1\"             \"X\"             \"Y\"            \n",
       "[21] \"Z\"             \"Count\"        "
      ]
     },
     "metadata": {},
     "output_type": "display_data"
    }
   ],
   "source": [
    "unique(lm_df$channel_cleaned)"
   ]
  },
  {
   "cell_type": "code",
   "execution_count": 7,
   "id": "e599b3ec",
   "metadata": {
    "vscode": {
     "languageId": "r"
    }
   },
   "outputs": [
    {
     "name": "stdout",
     "output_type": "stream",
     "text": [
      "[1] 102492     15\n"
     ]
    },
    {
     "data": {
      "text/html": [
       "<table class=\"dataframe\">\n",
       "<caption>A tibble: 6 × 15</caption>\n",
       "<thead>\n",
       "\t<tr><th scope=col>feature</th><th scope=col>compartment</th><th scope=col>feature_group</th><th scope=col>measurement</th><th scope=col>channel</th><th scope=col>parameter1</th><th scope=col>parameter2</th><th scope=col>r2_score</th><th scope=col>Metadata_number_of_singlecells</th><th scope=col>threeb_Treatment</th><th scope=col>threeb_Treatment_Dose</th><th scope=col>threeb_Inhibitor_and_Dose</th><th scope=col>inducer1__inducer1_dose__inhibitor_inhibitor_dose</th><th scope=col>channel_cleaned</th><th scope=col>channel_learned</th></tr>\n",
       "\t<tr><th scope=col>&lt;chr&gt;</th><th scope=col>&lt;chr&gt;</th><th scope=col>&lt;chr&gt;</th><th scope=col>&lt;chr&gt;</th><th scope=col>&lt;chr&gt;</th><th scope=col>&lt;chr&gt;</th><th scope=col>&lt;chr&gt;</th><th scope=col>&lt;dbl&gt;</th><th scope=col>&lt;dbl&gt;</th><th scope=col>&lt;dbl&gt;</th><th scope=col>&lt;dbl&gt;</th><th scope=col>&lt;dbl&gt;</th><th scope=col>&lt;chr&gt;</th><th scope=col>&lt;chr&gt;</th><th scope=col>&lt;chr&gt;</th></tr>\n",
       "</thead>\n",
       "<tbody>\n",
       "\t<tr><td>Nuclei_Intensity_MeanIntensityEdge_CorrMito          </td><td>Nuclei   </td><td>Intensity</td><td>MeanIntensityEdge</td><td>CorrMito</td><td>NA</td><td>NA</td><td>0.4552401</td><td>-0.0002177032</td><td>1.237168</td><td>1.237168</td><td>0</td><td>LPS_Nigericin__100.000_10.0__DMSO_0.025</td><td>CorrMito</td><td>Mito</td></tr>\n",
       "\t<tr><td>Nuclei_Intensity_MaxIntensityEdge_CorrMito           </td><td>Nuclei   </td><td>Intensity</td><td>MaxIntensityEdge </td><td>CorrMito</td><td>NA</td><td>NA</td><td>0.4135021</td><td>-0.0002126844</td><td>1.168403</td><td>1.168403</td><td>0</td><td>LPS_Nigericin__100.000_10.0__DMSO_0.025</td><td>CorrMito</td><td>Mito</td></tr>\n",
       "\t<tr><td>Cells_Texture_DifferenceEntropy_CorrMito_3_00_256    </td><td>Cells    </td><td>Texture  </td><td>DifferenceEntropy</td><td>CorrMito</td><td>3 </td><td>00</td><td>0.5400279</td><td>-0.0002267092</td><td>1.164350</td><td>1.164350</td><td>0</td><td>LPS_Nigericin__100.000_10.0__DMSO_0.025</td><td>CorrMito</td><td>Mito</td></tr>\n",
       "\t<tr><td>Cells_Texture_DifferenceEntropy_CorrMito_3_02_256    </td><td>Cells    </td><td>Texture  </td><td>DifferenceEntropy</td><td>CorrMito</td><td>3 </td><td>02</td><td>0.5326017</td><td>-0.0002233205</td><td>1.145984</td><td>1.145984</td><td>0</td><td>LPS_Nigericin__100.000_10.0__DMSO_0.025</td><td>CorrMito</td><td>Mito</td></tr>\n",
       "\t<tr><td>Cytoplasm_Texture_DifferenceEntropy_CorrMito_3_00_256</td><td>Cytoplasm</td><td>Texture  </td><td>DifferenceEntropy</td><td>CorrMito</td><td>3 </td><td>00</td><td>0.5165080</td><td>-0.0002200560</td><td>1.121624</td><td>1.121624</td><td>0</td><td>LPS_Nigericin__100.000_10.0__DMSO_0.025</td><td>CorrMito</td><td>Mito</td></tr>\n",
       "\t<tr><td>Cytoplasm_Texture_DifferenceEntropy_CorrMito_3_02_256</td><td>Cytoplasm</td><td>Texture  </td><td>DifferenceEntropy</td><td>CorrMito</td><td>3 </td><td>02</td><td>0.5100435</td><td>-0.0002161120</td><td>1.105229</td><td>1.105229</td><td>0</td><td>LPS_Nigericin__100.000_10.0__DMSO_0.025</td><td>CorrMito</td><td>Mito</td></tr>\n",
       "</tbody>\n",
       "</table>\n"
      ],
      "text/latex": [
       "A tibble: 6 × 15\n",
       "\\begin{tabular}{lllllllllllllll}\n",
       " feature & compartment & feature\\_group & measurement & channel & parameter1 & parameter2 & r2\\_score & Metadata\\_number\\_of\\_singlecells & threeb\\_Treatment & threeb\\_Treatment\\_Dose & threeb\\_Inhibitor\\_and\\_Dose & inducer1\\_\\_inducer1\\_dose\\_\\_inhibitor\\_inhibitor\\_dose & channel\\_cleaned & channel\\_learned\\\\\n",
       " <chr> & <chr> & <chr> & <chr> & <chr> & <chr> & <chr> & <dbl> & <dbl> & <dbl> & <dbl> & <dbl> & <chr> & <chr> & <chr>\\\\\n",
       "\\hline\n",
       "\t Nuclei\\_Intensity\\_MeanIntensityEdge\\_CorrMito           & Nuclei    & Intensity & MeanIntensityEdge & CorrMito & NA & NA & 0.4552401 & -0.0002177032 & 1.237168 & 1.237168 & 0 & LPS\\_Nigericin\\_\\_100.000\\_10.0\\_\\_DMSO\\_0.025 & CorrMito & Mito\\\\\n",
       "\t Nuclei\\_Intensity\\_MaxIntensityEdge\\_CorrMito            & Nuclei    & Intensity & MaxIntensityEdge  & CorrMito & NA & NA & 0.4135021 & -0.0002126844 & 1.168403 & 1.168403 & 0 & LPS\\_Nigericin\\_\\_100.000\\_10.0\\_\\_DMSO\\_0.025 & CorrMito & Mito\\\\\n",
       "\t Cells\\_Texture\\_DifferenceEntropy\\_CorrMito\\_3\\_00\\_256     & Cells     & Texture   & DifferenceEntropy & CorrMito & 3  & 00 & 0.5400279 & -0.0002267092 & 1.164350 & 1.164350 & 0 & LPS\\_Nigericin\\_\\_100.000\\_10.0\\_\\_DMSO\\_0.025 & CorrMito & Mito\\\\\n",
       "\t Cells\\_Texture\\_DifferenceEntropy\\_CorrMito\\_3\\_02\\_256     & Cells     & Texture   & DifferenceEntropy & CorrMito & 3  & 02 & 0.5326017 & -0.0002233205 & 1.145984 & 1.145984 & 0 & LPS\\_Nigericin\\_\\_100.000\\_10.0\\_\\_DMSO\\_0.025 & CorrMito & Mito\\\\\n",
       "\t Cytoplasm\\_Texture\\_DifferenceEntropy\\_CorrMito\\_3\\_00\\_256 & Cytoplasm & Texture   & DifferenceEntropy & CorrMito & 3  & 00 & 0.5165080 & -0.0002200560 & 1.121624 & 1.121624 & 0 & LPS\\_Nigericin\\_\\_100.000\\_10.0\\_\\_DMSO\\_0.025 & CorrMito & Mito\\\\\n",
       "\t Cytoplasm\\_Texture\\_DifferenceEntropy\\_CorrMito\\_3\\_02\\_256 & Cytoplasm & Texture   & DifferenceEntropy & CorrMito & 3  & 02 & 0.5100435 & -0.0002161120 & 1.105229 & 1.105229 & 0 & LPS\\_Nigericin\\_\\_100.000\\_10.0\\_\\_DMSO\\_0.025 & CorrMito & Mito\\\\\n",
       "\\end{tabular}\n"
      ],
      "text/markdown": [
       "\n",
       "A tibble: 6 × 15\n",
       "\n",
       "| feature &lt;chr&gt; | compartment &lt;chr&gt; | feature_group &lt;chr&gt; | measurement &lt;chr&gt; | channel &lt;chr&gt; | parameter1 &lt;chr&gt; | parameter2 &lt;chr&gt; | r2_score &lt;dbl&gt; | Metadata_number_of_singlecells &lt;dbl&gt; | threeb_Treatment &lt;dbl&gt; | threeb_Treatment_Dose &lt;dbl&gt; | threeb_Inhibitor_and_Dose &lt;dbl&gt; | inducer1__inducer1_dose__inhibitor_inhibitor_dose &lt;chr&gt; | channel_cleaned &lt;chr&gt; | channel_learned &lt;chr&gt; |\n",
       "|---|---|---|---|---|---|---|---|---|---|---|---|---|---|---|\n",
       "| Nuclei_Intensity_MeanIntensityEdge_CorrMito           | Nuclei    | Intensity | MeanIntensityEdge | CorrMito | NA | NA | 0.4552401 | -0.0002177032 | 1.237168 | 1.237168 | 0 | LPS_Nigericin__100.000_10.0__DMSO_0.025 | CorrMito | Mito |\n",
       "| Nuclei_Intensity_MaxIntensityEdge_CorrMito            | Nuclei    | Intensity | MaxIntensityEdge  | CorrMito | NA | NA | 0.4135021 | -0.0002126844 | 1.168403 | 1.168403 | 0 | LPS_Nigericin__100.000_10.0__DMSO_0.025 | CorrMito | Mito |\n",
       "| Cells_Texture_DifferenceEntropy_CorrMito_3_00_256     | Cells     | Texture   | DifferenceEntropy | CorrMito | 3  | 00 | 0.5400279 | -0.0002267092 | 1.164350 | 1.164350 | 0 | LPS_Nigericin__100.000_10.0__DMSO_0.025 | CorrMito | Mito |\n",
       "| Cells_Texture_DifferenceEntropy_CorrMito_3_02_256     | Cells     | Texture   | DifferenceEntropy | CorrMito | 3  | 02 | 0.5326017 | -0.0002233205 | 1.145984 | 1.145984 | 0 | LPS_Nigericin__100.000_10.0__DMSO_0.025 | CorrMito | Mito |\n",
       "| Cytoplasm_Texture_DifferenceEntropy_CorrMito_3_00_256 | Cytoplasm | Texture   | DifferenceEntropy | CorrMito | 3  | 00 | 0.5165080 | -0.0002200560 | 1.121624 | 1.121624 | 0 | LPS_Nigericin__100.000_10.0__DMSO_0.025 | CorrMito | Mito |\n",
       "| Cytoplasm_Texture_DifferenceEntropy_CorrMito_3_02_256 | Cytoplasm | Texture   | DifferenceEntropy | CorrMito | 3  | 02 | 0.5100435 | -0.0002161120 | 1.105229 | 1.105229 | 0 | LPS_Nigericin__100.000_10.0__DMSO_0.025 | CorrMito | Mito |\n",
       "\n"
      ],
      "text/plain": [
       "  feature                                               compartment\n",
       "1 Nuclei_Intensity_MeanIntensityEdge_CorrMito           Nuclei     \n",
       "2 Nuclei_Intensity_MaxIntensityEdge_CorrMito            Nuclei     \n",
       "3 Cells_Texture_DifferenceEntropy_CorrMito_3_00_256     Cells      \n",
       "4 Cells_Texture_DifferenceEntropy_CorrMito_3_02_256     Cells      \n",
       "5 Cytoplasm_Texture_DifferenceEntropy_CorrMito_3_00_256 Cytoplasm  \n",
       "6 Cytoplasm_Texture_DifferenceEntropy_CorrMito_3_02_256 Cytoplasm  \n",
       "  feature_group measurement       channel  parameter1 parameter2 r2_score \n",
       "1 Intensity     MeanIntensityEdge CorrMito NA         NA         0.4552401\n",
       "2 Intensity     MaxIntensityEdge  CorrMito NA         NA         0.4135021\n",
       "3 Texture       DifferenceEntropy CorrMito 3          00         0.5400279\n",
       "4 Texture       DifferenceEntropy CorrMito 3          02         0.5326017\n",
       "5 Texture       DifferenceEntropy CorrMito 3          00         0.5165080\n",
       "6 Texture       DifferenceEntropy CorrMito 3          02         0.5100435\n",
       "  Metadata_number_of_singlecells threeb_Treatment threeb_Treatment_Dose\n",
       "1 -0.0002177032                  1.237168         1.237168             \n",
       "2 -0.0002126844                  1.168403         1.168403             \n",
       "3 -0.0002267092                  1.164350         1.164350             \n",
       "4 -0.0002233205                  1.145984         1.145984             \n",
       "5 -0.0002200560                  1.121624         1.121624             \n",
       "6 -0.0002161120                  1.105229         1.105229             \n",
       "  threeb_Inhibitor_and_Dose inducer1__inducer1_dose__inhibitor_inhibitor_dose\n",
       "1 0                         LPS_Nigericin__100.000_10.0__DMSO_0.025          \n",
       "2 0                         LPS_Nigericin__100.000_10.0__DMSO_0.025          \n",
       "3 0                         LPS_Nigericin__100.000_10.0__DMSO_0.025          \n",
       "4 0                         LPS_Nigericin__100.000_10.0__DMSO_0.025          \n",
       "5 0                         LPS_Nigericin__100.000_10.0__DMSO_0.025          \n",
       "6 0                         LPS_Nigericin__100.000_10.0__DMSO_0.025          \n",
       "  channel_cleaned channel_learned\n",
       "1 CorrMito        Mito           \n",
       "2 CorrMito        Mito           \n",
       "3 CorrMito        Mito           \n",
       "4 CorrMito        Mito           \n",
       "5 CorrMito        Mito           \n",
       "6 CorrMito        Mito           "
      ]
     },
     "metadata": {},
     "output_type": "display_data"
    },
    {
     "data": {
      "text/html": [
       "<style>\n",
       ".list-inline {list-style: none; margin:0; padding: 0}\n",
       ".list-inline>li {display: inline-block}\n",
       ".list-inline>li:not(:last-child)::after {content: \"\\00b7\"; padding: 0 .5ex}\n",
       "</style>\n",
       "<ol class=list-inline><li>'Mito'</li><li>'PM'</li><li>'nuclei'</li><li>'ER'</li><li>'gasdermin'</li><li>'other'</li></ol>\n"
      ],
      "text/latex": [
       "\\begin{enumerate*}\n",
       "\\item 'Mito'\n",
       "\\item 'PM'\n",
       "\\item 'nuclei'\n",
       "\\item 'ER'\n",
       "\\item 'gasdermin'\n",
       "\\item 'other'\n",
       "\\end{enumerate*}\n"
      ],
      "text/markdown": [
       "1. 'Mito'\n",
       "2. 'PM'\n",
       "3. 'nuclei'\n",
       "4. 'ER'\n",
       "5. 'gasdermin'\n",
       "6. 'other'\n",
       "\n",
       "\n"
      ],
      "text/plain": [
       "[1] \"Mito\"      \"PM\"        \"nuclei\"    \"ER\"        \"gasdermin\" \"other\"    "
      ]
     },
     "metadata": {},
     "output_type": "display_data"
    }
   ],
   "source": [
    "# Clean channel for visualization\n",
    "lm_df$channel_learned <- dplyr::recode(lm_df$channel_cleaned,\n",
    "        \"CorrDNA\" = \"nuclei\",\n",
    "        \"CorrMito\" = \"Mito\",\n",
    "        \"CorrER\" = \"ER\",\n",
    "        \"CorrGasdermin\" = \"gasdermin\",\n",
    "        \"CorrPM\" = \"PM\",\n",
    "        .default = \"other\",\n",
    "        .missing=\"other\"\n",
    "    )\n",
    "\n",
    "print(dim(lm_df))\n",
    "head(lm_df)\n",
    "unique(lm_df$channel_learned)\n",
    "lm_df$abs_Metadata_number_of_singlecells <- abs(lm_df$Metadata_number_of_singlecells)\n",
    "lm_df$abs_threeb_Treatment <- abs(lm_df$threeb_Treatment)\n",
    "lm_df$abs_threeb_Treatment_Dose <- abs(lm_df$threeb_Treatment_Dose)\n",
    "lm_df$abs_threeb_Inhibitor_and_Dose <- abs(lm_df$threeb_Inhibitor_and_Dose)"
   ]
  },
  {
   "cell_type": "code",
   "execution_count": 8,
   "id": "df55dd14",
   "metadata": {
    "vscode": {
     "languageId": "r"
    }
   },
   "outputs": [
    {
     "data": {
      "text/html": [
       "<table class=\"dataframe\">\n",
       "<caption>A tibble: 6 × 19</caption>\n",
       "<thead>\n",
       "\t<tr><th scope=col>feature</th><th scope=col>compartment</th><th scope=col>feature_group</th><th scope=col>measurement</th><th scope=col>channel</th><th scope=col>parameter1</th><th scope=col>parameter2</th><th scope=col>r2_score</th><th scope=col>Metadata_number_of_singlecells</th><th scope=col>threeb_Treatment</th><th scope=col>threeb_Treatment_Dose</th><th scope=col>threeb_Inhibitor_and_Dose</th><th scope=col>inducer1__inducer1_dose__inhibitor_inhibitor_dose</th><th scope=col>channel_cleaned</th><th scope=col>channel_learned</th><th scope=col>abs_Metadata_number_of_singlecells</th><th scope=col>abs_threeb_Treatment</th><th scope=col>abs_threeb_Treatment_Dose</th><th scope=col>abs_threeb_Inhibitor_and_Dose</th></tr>\n",
       "\t<tr><th scope=col>&lt;chr&gt;</th><th scope=col>&lt;chr&gt;</th><th scope=col>&lt;chr&gt;</th><th scope=col>&lt;chr&gt;</th><th scope=col>&lt;chr&gt;</th><th scope=col>&lt;chr&gt;</th><th scope=col>&lt;chr&gt;</th><th scope=col>&lt;dbl&gt;</th><th scope=col>&lt;dbl&gt;</th><th scope=col>&lt;dbl&gt;</th><th scope=col>&lt;dbl&gt;</th><th scope=col>&lt;dbl&gt;</th><th scope=col>&lt;chr&gt;</th><th scope=col>&lt;chr&gt;</th><th scope=col>&lt;chr&gt;</th><th scope=col>&lt;dbl&gt;</th><th scope=col>&lt;dbl&gt;</th><th scope=col>&lt;dbl&gt;</th><th scope=col>&lt;dbl&gt;</th></tr>\n",
       "</thead>\n",
       "<tbody>\n",
       "\t<tr><td>Nuclei_Intensity_MeanIntensityEdge_CorrMito          </td><td>Nuclei   </td><td>Intensity</td><td>MeanIntensityEdge</td><td>CorrMito</td><td>NA</td><td>NA</td><td>0.4552401</td><td>-0.0002177032</td><td>1.237168</td><td>1.237168</td><td>0</td><td>LPS_Nigericin__100.000_10.0__DMSO_0.025</td><td>CorrMito</td><td>Mito</td><td>0.0002177032</td><td>1.237168</td><td>1.237168</td><td>0</td></tr>\n",
       "\t<tr><td>Nuclei_Intensity_MaxIntensityEdge_CorrMito           </td><td>Nuclei   </td><td>Intensity</td><td>MaxIntensityEdge </td><td>CorrMito</td><td>NA</td><td>NA</td><td>0.4135021</td><td>-0.0002126844</td><td>1.168403</td><td>1.168403</td><td>0</td><td>LPS_Nigericin__100.000_10.0__DMSO_0.025</td><td>CorrMito</td><td>Mito</td><td>0.0002126844</td><td>1.168403</td><td>1.168403</td><td>0</td></tr>\n",
       "\t<tr><td>Cells_Texture_DifferenceEntropy_CorrMito_3_00_256    </td><td>Cells    </td><td>Texture  </td><td>DifferenceEntropy</td><td>CorrMito</td><td>3 </td><td>00</td><td>0.5400279</td><td>-0.0002267092</td><td>1.164350</td><td>1.164350</td><td>0</td><td>LPS_Nigericin__100.000_10.0__DMSO_0.025</td><td>CorrMito</td><td>Mito</td><td>0.0002267092</td><td>1.164350</td><td>1.164350</td><td>0</td></tr>\n",
       "\t<tr><td>Cells_Texture_DifferenceEntropy_CorrMito_3_02_256    </td><td>Cells    </td><td>Texture  </td><td>DifferenceEntropy</td><td>CorrMito</td><td>3 </td><td>02</td><td>0.5326017</td><td>-0.0002233205</td><td>1.145984</td><td>1.145984</td><td>0</td><td>LPS_Nigericin__100.000_10.0__DMSO_0.025</td><td>CorrMito</td><td>Mito</td><td>0.0002233205</td><td>1.145984</td><td>1.145984</td><td>0</td></tr>\n",
       "\t<tr><td>Cytoplasm_Texture_DifferenceEntropy_CorrMito_3_00_256</td><td>Cytoplasm</td><td>Texture  </td><td>DifferenceEntropy</td><td>CorrMito</td><td>3 </td><td>00</td><td>0.5165080</td><td>-0.0002200560</td><td>1.121624</td><td>1.121624</td><td>0</td><td>LPS_Nigericin__100.000_10.0__DMSO_0.025</td><td>CorrMito</td><td>Mito</td><td>0.0002200560</td><td>1.121624</td><td>1.121624</td><td>0</td></tr>\n",
       "\t<tr><td>Cytoplasm_Texture_DifferenceEntropy_CorrMito_3_02_256</td><td>Cytoplasm</td><td>Texture  </td><td>DifferenceEntropy</td><td>CorrMito</td><td>3 </td><td>02</td><td>0.5100435</td><td>-0.0002161120</td><td>1.105229</td><td>1.105229</td><td>0</td><td>LPS_Nigericin__100.000_10.0__DMSO_0.025</td><td>CorrMito</td><td>Mito</td><td>0.0002161120</td><td>1.105229</td><td>1.105229</td><td>0</td></tr>\n",
       "</tbody>\n",
       "</table>\n"
      ],
      "text/latex": [
       "A tibble: 6 × 19\n",
       "\\begin{tabular}{lllllllllllllllllll}\n",
       " feature & compartment & feature\\_group & measurement & channel & parameter1 & parameter2 & r2\\_score & Metadata\\_number\\_of\\_singlecells & threeb\\_Treatment & threeb\\_Treatment\\_Dose & threeb\\_Inhibitor\\_and\\_Dose & inducer1\\_\\_inducer1\\_dose\\_\\_inhibitor\\_inhibitor\\_dose & channel\\_cleaned & channel\\_learned & abs\\_Metadata\\_number\\_of\\_singlecells & abs\\_threeb\\_Treatment & abs\\_threeb\\_Treatment\\_Dose & abs\\_threeb\\_Inhibitor\\_and\\_Dose\\\\\n",
       " <chr> & <chr> & <chr> & <chr> & <chr> & <chr> & <chr> & <dbl> & <dbl> & <dbl> & <dbl> & <dbl> & <chr> & <chr> & <chr> & <dbl> & <dbl> & <dbl> & <dbl>\\\\\n",
       "\\hline\n",
       "\t Nuclei\\_Intensity\\_MeanIntensityEdge\\_CorrMito           & Nuclei    & Intensity & MeanIntensityEdge & CorrMito & NA & NA & 0.4552401 & -0.0002177032 & 1.237168 & 1.237168 & 0 & LPS\\_Nigericin\\_\\_100.000\\_10.0\\_\\_DMSO\\_0.025 & CorrMito & Mito & 0.0002177032 & 1.237168 & 1.237168 & 0\\\\\n",
       "\t Nuclei\\_Intensity\\_MaxIntensityEdge\\_CorrMito            & Nuclei    & Intensity & MaxIntensityEdge  & CorrMito & NA & NA & 0.4135021 & -0.0002126844 & 1.168403 & 1.168403 & 0 & LPS\\_Nigericin\\_\\_100.000\\_10.0\\_\\_DMSO\\_0.025 & CorrMito & Mito & 0.0002126844 & 1.168403 & 1.168403 & 0\\\\\n",
       "\t Cells\\_Texture\\_DifferenceEntropy\\_CorrMito\\_3\\_00\\_256     & Cells     & Texture   & DifferenceEntropy & CorrMito & 3  & 00 & 0.5400279 & -0.0002267092 & 1.164350 & 1.164350 & 0 & LPS\\_Nigericin\\_\\_100.000\\_10.0\\_\\_DMSO\\_0.025 & CorrMito & Mito & 0.0002267092 & 1.164350 & 1.164350 & 0\\\\\n",
       "\t Cells\\_Texture\\_DifferenceEntropy\\_CorrMito\\_3\\_02\\_256     & Cells     & Texture   & DifferenceEntropy & CorrMito & 3  & 02 & 0.5326017 & -0.0002233205 & 1.145984 & 1.145984 & 0 & LPS\\_Nigericin\\_\\_100.000\\_10.0\\_\\_DMSO\\_0.025 & CorrMito & Mito & 0.0002233205 & 1.145984 & 1.145984 & 0\\\\\n",
       "\t Cytoplasm\\_Texture\\_DifferenceEntropy\\_CorrMito\\_3\\_00\\_256 & Cytoplasm & Texture   & DifferenceEntropy & CorrMito & 3  & 00 & 0.5165080 & -0.0002200560 & 1.121624 & 1.121624 & 0 & LPS\\_Nigericin\\_\\_100.000\\_10.0\\_\\_DMSO\\_0.025 & CorrMito & Mito & 0.0002200560 & 1.121624 & 1.121624 & 0\\\\\n",
       "\t Cytoplasm\\_Texture\\_DifferenceEntropy\\_CorrMito\\_3\\_02\\_256 & Cytoplasm & Texture   & DifferenceEntropy & CorrMito & 3  & 02 & 0.5100435 & -0.0002161120 & 1.105229 & 1.105229 & 0 & LPS\\_Nigericin\\_\\_100.000\\_10.0\\_\\_DMSO\\_0.025 & CorrMito & Mito & 0.0002161120 & 1.105229 & 1.105229 & 0\\\\\n",
       "\\end{tabular}\n"
      ],
      "text/markdown": [
       "\n",
       "A tibble: 6 × 19\n",
       "\n",
       "| feature &lt;chr&gt; | compartment &lt;chr&gt; | feature_group &lt;chr&gt; | measurement &lt;chr&gt; | channel &lt;chr&gt; | parameter1 &lt;chr&gt; | parameter2 &lt;chr&gt; | r2_score &lt;dbl&gt; | Metadata_number_of_singlecells &lt;dbl&gt; | threeb_Treatment &lt;dbl&gt; | threeb_Treatment_Dose &lt;dbl&gt; | threeb_Inhibitor_and_Dose &lt;dbl&gt; | inducer1__inducer1_dose__inhibitor_inhibitor_dose &lt;chr&gt; | channel_cleaned &lt;chr&gt; | channel_learned &lt;chr&gt; | abs_Metadata_number_of_singlecells &lt;dbl&gt; | abs_threeb_Treatment &lt;dbl&gt; | abs_threeb_Treatment_Dose &lt;dbl&gt; | abs_threeb_Inhibitor_and_Dose &lt;dbl&gt; |\n",
       "|---|---|---|---|---|---|---|---|---|---|---|---|---|---|---|---|---|---|---|\n",
       "| Nuclei_Intensity_MeanIntensityEdge_CorrMito           | Nuclei    | Intensity | MeanIntensityEdge | CorrMito | NA | NA | 0.4552401 | -0.0002177032 | 1.237168 | 1.237168 | 0 | LPS_Nigericin__100.000_10.0__DMSO_0.025 | CorrMito | Mito | 0.0002177032 | 1.237168 | 1.237168 | 0 |\n",
       "| Nuclei_Intensity_MaxIntensityEdge_CorrMito            | Nuclei    | Intensity | MaxIntensityEdge  | CorrMito | NA | NA | 0.4135021 | -0.0002126844 | 1.168403 | 1.168403 | 0 | LPS_Nigericin__100.000_10.0__DMSO_0.025 | CorrMito | Mito | 0.0002126844 | 1.168403 | 1.168403 | 0 |\n",
       "| Cells_Texture_DifferenceEntropy_CorrMito_3_00_256     | Cells     | Texture   | DifferenceEntropy | CorrMito | 3  | 00 | 0.5400279 | -0.0002267092 | 1.164350 | 1.164350 | 0 | LPS_Nigericin__100.000_10.0__DMSO_0.025 | CorrMito | Mito | 0.0002267092 | 1.164350 | 1.164350 | 0 |\n",
       "| Cells_Texture_DifferenceEntropy_CorrMito_3_02_256     | Cells     | Texture   | DifferenceEntropy | CorrMito | 3  | 02 | 0.5326017 | -0.0002233205 | 1.145984 | 1.145984 | 0 | LPS_Nigericin__100.000_10.0__DMSO_0.025 | CorrMito | Mito | 0.0002233205 | 1.145984 | 1.145984 | 0 |\n",
       "| Cytoplasm_Texture_DifferenceEntropy_CorrMito_3_00_256 | Cytoplasm | Texture   | DifferenceEntropy | CorrMito | 3  | 00 | 0.5165080 | -0.0002200560 | 1.121624 | 1.121624 | 0 | LPS_Nigericin__100.000_10.0__DMSO_0.025 | CorrMito | Mito | 0.0002200560 | 1.121624 | 1.121624 | 0 |\n",
       "| Cytoplasm_Texture_DifferenceEntropy_CorrMito_3_02_256 | Cytoplasm | Texture   | DifferenceEntropy | CorrMito | 3  | 02 | 0.5100435 | -0.0002161120 | 1.105229 | 1.105229 | 0 | LPS_Nigericin__100.000_10.0__DMSO_0.025 | CorrMito | Mito | 0.0002161120 | 1.105229 | 1.105229 | 0 |\n",
       "\n"
      ],
      "text/plain": [
       "  feature                                               compartment\n",
       "1 Nuclei_Intensity_MeanIntensityEdge_CorrMito           Nuclei     \n",
       "2 Nuclei_Intensity_MaxIntensityEdge_CorrMito            Nuclei     \n",
       "3 Cells_Texture_DifferenceEntropy_CorrMito_3_00_256     Cells      \n",
       "4 Cells_Texture_DifferenceEntropy_CorrMito_3_02_256     Cells      \n",
       "5 Cytoplasm_Texture_DifferenceEntropy_CorrMito_3_00_256 Cytoplasm  \n",
       "6 Cytoplasm_Texture_DifferenceEntropy_CorrMito_3_02_256 Cytoplasm  \n",
       "  feature_group measurement       channel  parameter1 parameter2 r2_score \n",
       "1 Intensity     MeanIntensityEdge CorrMito NA         NA         0.4552401\n",
       "2 Intensity     MaxIntensityEdge  CorrMito NA         NA         0.4135021\n",
       "3 Texture       DifferenceEntropy CorrMito 3          00         0.5400279\n",
       "4 Texture       DifferenceEntropy CorrMito 3          02         0.5326017\n",
       "5 Texture       DifferenceEntropy CorrMito 3          00         0.5165080\n",
       "6 Texture       DifferenceEntropy CorrMito 3          02         0.5100435\n",
       "  Metadata_number_of_singlecells threeb_Treatment threeb_Treatment_Dose\n",
       "1 -0.0002177032                  1.237168         1.237168             \n",
       "2 -0.0002126844                  1.168403         1.168403             \n",
       "3 -0.0002267092                  1.164350         1.164350             \n",
       "4 -0.0002233205                  1.145984         1.145984             \n",
       "5 -0.0002200560                  1.121624         1.121624             \n",
       "6 -0.0002161120                  1.105229         1.105229             \n",
       "  threeb_Inhibitor_and_Dose inducer1__inducer1_dose__inhibitor_inhibitor_dose\n",
       "1 0                         LPS_Nigericin__100.000_10.0__DMSO_0.025          \n",
       "2 0                         LPS_Nigericin__100.000_10.0__DMSO_0.025          \n",
       "3 0                         LPS_Nigericin__100.000_10.0__DMSO_0.025          \n",
       "4 0                         LPS_Nigericin__100.000_10.0__DMSO_0.025          \n",
       "5 0                         LPS_Nigericin__100.000_10.0__DMSO_0.025          \n",
       "6 0                         LPS_Nigericin__100.000_10.0__DMSO_0.025          \n",
       "  channel_cleaned channel_learned abs_Metadata_number_of_singlecells\n",
       "1 CorrMito        Mito            0.0002177032                      \n",
       "2 CorrMito        Mito            0.0002126844                      \n",
       "3 CorrMito        Mito            0.0002267092                      \n",
       "4 CorrMito        Mito            0.0002233205                      \n",
       "5 CorrMito        Mito            0.0002200560                      \n",
       "6 CorrMito        Mito            0.0002161120                      \n",
       "  abs_threeb_Treatment abs_threeb_Treatment_Dose abs_threeb_Inhibitor_and_Dose\n",
       "1 1.237168             1.237168                  0                            \n",
       "2 1.168403             1.168403                  0                            \n",
       "3 1.164350             1.164350                  0                            \n",
       "4 1.145984             1.145984                  0                            \n",
       "5 1.121624             1.121624                  0                            \n",
       "6 1.105229             1.105229                  0                            "
      ]
     },
     "metadata": {},
     "output_type": "display_data"
    }
   ],
   "source": [
    "head(lm_df)"
   ]
  },
  {
   "cell_type": "code",
   "execution_count": 9,
   "id": "a429584c",
   "metadata": {
    "vscode": {
     "languageId": "r"
    }
   },
   "outputs": [],
   "source": [
    "loop_list <- unique(lm_df$inducer1__inducer1_dose__inhibitor_inhibitor_dose)\n",
    "x_list <- c('abs_threeb_Inhibitor_and_Dose','abs_threeb_Treatment','abs_threeb_Treatment_Dose')"
   ]
  },
  {
   "cell_type": "code",
   "execution_count": 10,
   "id": "732318a5",
   "metadata": {
    "vscode": {
     "languageId": "r"
    }
   },
   "outputs": [
    {
     "data": {
      "text/html": [
       "<strong>png:</strong> 2"
      ],
      "text/latex": [
       "\\textbf{png:} 2"
      ],
      "text/markdown": [
       "**png:** 2"
      ],
      "text/plain": [
       "png \n",
       "  2 "
      ]
     },
     "metadata": {},
     "output_type": "display_data"
    }
   ],
   "source": [
    "pdf(file=lm_cp_fig )\n",
    "for (i in 1:length(loop_list)){\n",
    "    df <- lm_df[lm_df$inducer1__inducer1_dose__inhibitor_inhibitor_dose == loop_list[i],]\n",
    "    for (j in 1:length(x_list)){\n",
    "        lm_fig_gg <- (\n",
    "            ggplot(df, aes(x = .data[[x_list[j]]], y = r2_score))\n",
    "            + geom_point(aes(size = abs_Metadata_number_of_singlecells, color = channel_learned), alpha = 0.7)\n",
    "            + theme_bw()\n",
    "            + guides(\n",
    "                color = guide_legend(title = \"Channel\\n(if applicable)\", order = 1),\n",
    "                size = guide_legend(title = \"Cell count contributution\")\n",
    "            )\n",
    "            + ylab(\"R2 score of LM feature\")\n",
    "            + xlab(paste0(x_list[j],\" contribution (LM beta coefficient)\"))\n",
    "            + ggtitle(paste0(\"How CellProfiler features contribute\\nto \",loop_list[i], \"\\ntreatments and cell density\"))\n",
    "        )\n",
    "    plot(lm_fig_gg)    \n",
    "    }\n",
    "}\n",
    "dev.off()"
   ]
  },
  {
   "cell_type": "code",
   "execution_count": null,
   "id": "03e837aa",
   "metadata": {
    "vscode": {
     "languageId": "r"
    }
   },
   "outputs": [],
   "source": []
  },
  {
   "cell_type": "code",
   "execution_count": null,
   "id": "d851186c",
   "metadata": {
    "vscode": {
     "languageId": "r"
    }
   },
   "outputs": [],
   "source": []
  }
 ],
 "metadata": {
  "kernelspec": {
   "display_name": "R [conda env:Interstellar] *",
   "language": "R",
   "name": "conda-env-Interstellar-r"
  },
  "language_info": {
   "codemirror_mode": "r",
   "file_extension": ".r",
   "mimetype": "text/x-r-source",
   "name": "R",
   "pygments_lexer": "r",
   "version": "4.2.2"
  },
  "vscode": {
   "interpreter": {
    "hash": "72ae02083a9ca7d143c492d1aec380c7bf553ec51bd66e90e72bba65228121b6"
   }
  }
 },
 "nbformat": 4,
 "nbformat_minor": 5
}
