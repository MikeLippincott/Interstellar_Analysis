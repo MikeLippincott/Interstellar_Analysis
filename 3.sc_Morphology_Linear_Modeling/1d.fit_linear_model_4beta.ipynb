{
 "cells": [
  {
   "cell_type": "code",
   "execution_count": 1,
   "id": "2b632292",
   "metadata": {
    "execution": {
     "iopub.execute_input": "2023-07-12T04:26:31.498964Z",
     "iopub.status.busy": "2023-07-12T04:26:31.498757Z",
     "iopub.status.idle": "2023-07-12T04:26:33.167687Z",
     "shell.execute_reply": "2023-07-12T04:26:33.167258Z"
    },
    "papermill": {
     "duration": 1.672878,
     "end_time": "2023-07-12T04:26:33.169219",
     "exception": false,
     "start_time": "2023-07-12T04:26:31.496341",
     "status": "completed"
    },
    "tags": []
   },
   "outputs": [],
   "source": [
    "import pathlib\n",
    "import sys\n",
    "from typing import Union\n",
    "\n",
    "import matplotlib.pyplot as plt\n",
    "import numpy as np\n",
    "import pandas as pd\n",
    "import plotly.express as px\n",
    "import pyarrow as pa\n",
    "import pyarrow.parquet as pq\n",
    "import seaborn as sns\n",
    "from matplotlib import pyplot as plt\n",
    "from pycytominer.cyto_utils import infer_cp_features\n",
    "from sklearn.linear_model import LinearRegression\n",
    "from sklearn.preprocessing import LabelEncoder\n",
    "\n",
    "pd.set_option(\"mode.chained_assignment\", None)"
   ]
  },
  {
   "cell_type": "code",
   "execution_count": 2,
   "id": "3c30fb5e",
   "metadata": {
    "execution": {
     "iopub.execute_input": "2023-07-12T04:26:33.179210Z",
     "iopub.status.busy": "2023-07-12T04:26:33.178957Z",
     "iopub.status.idle": "2023-07-12T04:26:33.180994Z",
     "shell.execute_reply": "2023-07-12T04:26:33.180678Z"
    },
    "papermill": {
     "duration": 0.005327,
     "end_time": "2023-07-12T04:26:33.181704",
     "exception": false,
     "start_time": "2023-07-12T04:26:33.176377",
     "status": "completed"
    },
    "tags": [
     "injected-parameters"
    ]
   },
   "outputs": [],
   "source": [
    "# Parameters\n",
    "celltype = \"PBMC\""
   ]
  },
  {
   "cell_type": "code",
   "execution_count": 3,
   "id": "be8fb895",
   "metadata": {
    "execution": {
     "iopub.execute_input": "2023-07-12T04:26:33.184957Z",
     "iopub.status.busy": "2023-07-12T04:26:33.184635Z",
     "iopub.status.idle": "2023-07-12T04:28:41.370967Z",
     "shell.execute_reply": "2023-07-12T04:28:41.370451Z"
    },
    "papermill": {
     "duration": 128.189549,
     "end_time": "2023-07-12T04:28:41.372406",
     "exception": false,
     "start_time": "2023-07-12T04:26:33.182857",
     "status": "completed"
    },
    "tags": []
   },
   "outputs": [],
   "source": [
    "# Define inputs\n",
    "feature_file = pathlib.Path(f\"../data/{celltype}_preprocessed_sc_norm.parquet\")\n",
    "feature_df = pq.read_table(feature_file).to_pandas()"
   ]
  },
  {
   "cell_type": "code",
   "execution_count": 4,
   "id": "c5d6b366",
   "metadata": {
    "execution": {
     "iopub.execute_input": "2023-07-12T04:28:41.394516Z",
     "iopub.status.busy": "2023-07-12T04:28:41.394250Z",
     "iopub.status.idle": "2023-07-12T04:28:41.397109Z",
     "shell.execute_reply": "2023-07-12T04:28:41.396797Z"
    },
    "papermill": {
     "duration": 0.005626,
     "end_time": "2023-07-12T04:28:41.397922",
     "exception": false,
     "start_time": "2023-07-12T04:28:41.392296",
     "status": "completed"
    },
    "tags": []
   },
   "outputs": [],
   "source": [
    "# if path does not exist, create one\n",
    "pathlib.Path(f\"./results/{celltype}\").mkdir(parents=True, exist_ok=True)\n",
    "\n",
    "# define output file path\n",
    "one_beta_output_file_path = pathlib.Path(f\"./results/{celltype}/lm_one_beta.tsv\")\n",
    "two_beta_output_file_path = pathlib.Path(f\"./results/{celltype}/lm_two_beta.tsv\")\n",
    "three_beta_output_file_path = pathlib.Path(f\"./results/{celltype}/lm_three_beta.tsv\")\n",
    "four_beta_output_file_path = pathlib.Path(f\"./results/{celltype}/lm_four_beta.tsv\")"
   ]
  },
  {
   "cell_type": "code",
   "execution_count": 5,
   "id": "bd3d36ec",
   "metadata": {
    "execution": {
     "iopub.execute_input": "2023-07-12T04:28:41.401532Z",
     "iopub.status.busy": "2023-07-12T04:28:41.401256Z",
     "iopub.status.idle": "2023-07-12T04:28:41.639746Z",
     "shell.execute_reply": "2023-07-12T04:28:41.639338Z"
    },
    "papermill": {
     "duration": 0.24099,
     "end_time": "2023-07-12T04:28:41.640591",
     "exception": false,
     "start_time": "2023-07-12T04:28:41.399601",
     "status": "completed"
    },
    "tags": []
   },
   "outputs": [
    {
     "name": "stdout",
     "output_type": "stream",
     "text": [
      "We are testing 1245 CellProfiler features\n",
      "The unique Treatment-Dosages are: LPS__0.010__DMSO__0.025, \n",
      "LPS__0.100__DMSO__0.025, \n",
      "LPS_Nigericin__100.000_1.0__DMSO__0.025, \n",
      "LPS_Nigericin__100.000_3.0__DMSO__0.025, \n",
      "DMSO__0.100__DMSO__0.025, \n",
      "media ctr__0__Media ctr__0.0, \n",
      "DMSO__0.100__DMSO__1.0, \n",
      "LPS__1.000__DMSO__0.025, \n",
      "LPS__10.000__DMSO__0.025, \n",
      "LPS_Nigericin__100.000_10.0__DMSO__0.025, \n",
      "Disulfiram__0.100__DMSO__0.025, \n",
      "Thapsigargin__1.000__DMSO__0.025, \n",
      "Thapsigargin__10.000__DMSO__0.025, \n",
      "DMSO__0.100__Z-VAD-FMK__100.0, \n",
      "DMSO__0.100__Z-VAD-FMK__30.0, \n",
      "LPS__10.000__Disulfiram__0.1, \n",
      "LPS__10.000__Disulfiram__1.0, \n",
      "Disulfiram__1.000__DMSO__0.025, \n",
      "Disulfiram__2.5__DMSO__0.025, \n",
      "Disulfiram__2.500__DMSO__0.025, \n",
      "Topotecan__5.000__DMSO__0.025, \n",
      "Topotecan__10.000__DMSO__0.025, \n",
      "LPS__10.000__Disulfiram__2.5, \n",
      "LPS__10.000__Z-VAD-FMK__100.0, \n",
      "H2O2__100.000__DMSO__0.025, \n",
      "Topotecan__20.000__DMSO__0.025, \n",
      "LPS__100.000__DMSO__0.025, \n",
      "LPS_Nigericin__1.000_1.0__DMSO__0.025, \n",
      "H2O2__100.000__Disulfiram__1.0, \n",
      "H2O2__100.000__Z-VAD-FMK__100.0, \n",
      "LPS_Nigericin__1.000_3.0__DMSO__0.025, \n",
      "LPS_Nigericin__1.000_10.0__DMSO__0.025, \n",
      "Flagellin__0.100__DMSO__0.00025, \n",
      "Flagellin__1.000__DMSO__0.00025, \n",
      "Flagellin__0.100__DMSO__0.025, \n",
      "Flagellin__1.000__DMSO__0.025, \n",
      "LPS_Nigericin__1.000_10.0__Disulfiram__1.0, \n",
      "LPS_Nigericin__1.000_10.0__Z-VAD-FMK__100.0, \n",
      "Flagellin__1.000__Disulfiram__1.0, \n",
      "media ctr__0__Media__0.0\n"
     ]
    }
   ],
   "source": [
    "cp_features = infer_cp_features(feature_df)\n",
    "print(f\"We are testing {len(cp_features)} CellProfiler features\")\n",
    "\n",
    "new_line = \"\\n\"\n",
    "print(\n",
    "    f\"The unique Treatment-Dosages are: {f', {new_line}'.join((feature_df['fourb_Metadata_Treatment_Dose_Inhibitor_Dose'].unique()))}\"\n",
    ")"
   ]
  },
  {
   "attachments": {},
   "cell_type": "markdown",
   "id": "60264414",
   "metadata": {
    "papermill": {
     "duration": 0.001214,
     "end_time": "2023-07-12T04:28:41.644411",
     "exception": false,
     "start_time": "2023-07-12T04:28:41.643197",
     "status": "completed"
    },
    "tags": []
   },
   "source": [
    "#### Complex Linear Modeling (cell count beta + 4 beta approach)\n",
    "Here I run the same analysis as above but with dosage of a treatment being a factor in the linear model. All features and treatments will be exported into 1 file.\n",
    "\n",
    "Linear Model:  \n",
    "$y = \\beta _{0}x+ \\beta _{1}x+ \\beta _{2}x+ \\beta _{3}x+ \\beta _{4}x+ \\epsilon$ where;  \n",
    "$y$ is each feature    \n",
    "$x$ is the inputed variables  \n",
    "$\\beta _{0}$ is the beta coefficient attributed to cell count.    \n",
    "$\\beta _{1}$ is the beta coefficient attributed to Inducer.   \n",
    "$\\beta _{2}$ is the beta coefficient attributed to Inducer dose.    \n",
    "$\\beta _{3}$ is the beta coefficient attributed to Inhibitor.    \n",
    "$\\beta _{4}$ is the beta coefficient attributed to Inhibitor Dose.   \n",
    "$\\epsilon$ is the residual variance not explained by factors in the model  "
   ]
  },
  {
   "cell_type": "code",
   "execution_count": 6,
   "id": "620723d4",
   "metadata": {
    "execution": {
     "iopub.execute_input": "2023-07-12T04:28:41.647617Z",
     "iopub.status.busy": "2023-07-12T04:28:41.647354Z",
     "iopub.status.idle": "2023-07-12T04:49:02.268798Z",
     "shell.execute_reply": "2023-07-12T04:49:02.268329Z"
    },
    "papermill": {
     "duration": 1220.62481,
     "end_time": "2023-07-12T04:49:02.270413",
     "exception": false,
     "start_time": "2023-07-12T04:28:41.645603",
     "status": "completed"
    },
    "tags": []
   },
   "outputs": [
    {
     "name": "stdout",
     "output_type": "stream",
     "text": [
      "['LPS__0.010__DMSO__0.025', 'DMSO__0.100__DMSO__0.025']\n"
     ]
    },
    {
     "name": "stdout",
     "output_type": "stream",
     "text": [
      "['LPS__0.100__DMSO__0.025', 'DMSO__0.100__DMSO__0.025']\n"
     ]
    },
    {
     "name": "stdout",
     "output_type": "stream",
     "text": [
      "['LPS_Nigericin__100.000_1.0__DMSO__0.025', 'DMSO__0.100__DMSO__0.025']\n"
     ]
    },
    {
     "name": "stdout",
     "output_type": "stream",
     "text": [
      "['LPS_Nigericin__100.000_3.0__DMSO__0.025', 'DMSO__0.100__DMSO__0.025']\n"
     ]
    },
    {
     "name": "stdout",
     "output_type": "stream",
     "text": [
      "['DMSO__0.100__DMSO__0.025', 'DMSO__0.100__DMSO__0.025']\n"
     ]
    },
    {
     "name": "stdout",
     "output_type": "stream",
     "text": [
      "['media ctr__0__Media ctr__0.0', 'DMSO__0.100__DMSO__0.025']\n"
     ]
    },
    {
     "name": "stdout",
     "output_type": "stream",
     "text": [
      "['DMSO__0.100__DMSO__1.0', 'DMSO__0.100__DMSO__0.025']\n"
     ]
    },
    {
     "name": "stdout",
     "output_type": "stream",
     "text": [
      "['LPS__1.000__DMSO__0.025', 'DMSO__0.100__DMSO__0.025']\n"
     ]
    },
    {
     "name": "stdout",
     "output_type": "stream",
     "text": [
      "['LPS__10.000__DMSO__0.025', 'DMSO__0.100__DMSO__0.025']\n"
     ]
    },
    {
     "name": "stdout",
     "output_type": "stream",
     "text": [
      "['LPS_Nigericin__100.000_10.0__DMSO__0.025', 'DMSO__0.100__DMSO__0.025']\n"
     ]
    },
    {
     "name": "stdout",
     "output_type": "stream",
     "text": [
      "['Disulfiram__0.100__DMSO__0.025', 'DMSO__0.100__DMSO__0.025']\n"
     ]
    },
    {
     "name": "stdout",
     "output_type": "stream",
     "text": [
      "['Thapsigargin__1.000__DMSO__0.025', 'DMSO__0.100__DMSO__0.025']\n"
     ]
    },
    {
     "name": "stdout",
     "output_type": "stream",
     "text": [
      "['Thapsigargin__10.000__DMSO__0.025', 'DMSO__0.100__DMSO__0.025']\n"
     ]
    },
    {
     "name": "stdout",
     "output_type": "stream",
     "text": [
      "['DMSO__0.100__Z-VAD-FMK__100.0', 'DMSO__0.100__DMSO__0.025']\n"
     ]
    },
    {
     "name": "stdout",
     "output_type": "stream",
     "text": [
      "['DMSO__0.100__Z-VAD-FMK__30.0', 'DMSO__0.100__DMSO__0.025']\n"
     ]
    },
    {
     "name": "stdout",
     "output_type": "stream",
     "text": [
      "['LPS__10.000__Disulfiram__0.1', 'DMSO__0.100__DMSO__0.025']\n"
     ]
    },
    {
     "name": "stdout",
     "output_type": "stream",
     "text": [
      "['LPS__10.000__Disulfiram__1.0', 'DMSO__0.100__DMSO__0.025']\n"
     ]
    },
    {
     "name": "stdout",
     "output_type": "stream",
     "text": [
      "['Disulfiram__1.000__DMSO__0.025', 'DMSO__0.100__DMSO__0.025']\n"
     ]
    },
    {
     "name": "stdout",
     "output_type": "stream",
     "text": [
      "['Disulfiram__2.5__DMSO__0.025', 'DMSO__0.100__DMSO__0.025']\n"
     ]
    },
    {
     "name": "stdout",
     "output_type": "stream",
     "text": [
      "['Disulfiram__2.500__DMSO__0.025', 'DMSO__0.100__DMSO__0.025']\n"
     ]
    },
    {
     "name": "stdout",
     "output_type": "stream",
     "text": [
      "['Topotecan__5.000__DMSO__0.025', 'DMSO__0.100__DMSO__0.025']\n"
     ]
    },
    {
     "name": "stdout",
     "output_type": "stream",
     "text": [
      "['Topotecan__10.000__DMSO__0.025', 'DMSO__0.100__DMSO__0.025']\n"
     ]
    },
    {
     "name": "stdout",
     "output_type": "stream",
     "text": [
      "['LPS__10.000__Disulfiram__2.5', 'DMSO__0.100__DMSO__0.025']\n"
     ]
    },
    {
     "name": "stdout",
     "output_type": "stream",
     "text": [
      "['LPS__10.000__Z-VAD-FMK__100.0', 'DMSO__0.100__DMSO__0.025']\n"
     ]
    },
    {
     "name": "stdout",
     "output_type": "stream",
     "text": [
      "['H2O2__100.000__DMSO__0.025', 'DMSO__0.100__DMSO__0.025']\n"
     ]
    },
    {
     "name": "stdout",
     "output_type": "stream",
     "text": [
      "['Topotecan__20.000__DMSO__0.025', 'DMSO__0.100__DMSO__0.025']\n"
     ]
    },
    {
     "name": "stdout",
     "output_type": "stream",
     "text": [
      "['LPS__100.000__DMSO__0.025', 'DMSO__0.100__DMSO__0.025']\n"
     ]
    },
    {
     "name": "stdout",
     "output_type": "stream",
     "text": [
      "['LPS_Nigericin__1.000_1.0__DMSO__0.025', 'DMSO__0.100__DMSO__0.025']\n"
     ]
    },
    {
     "name": "stdout",
     "output_type": "stream",
     "text": [
      "['H2O2__100.000__Disulfiram__1.0', 'DMSO__0.100__DMSO__0.025']\n"
     ]
    },
    {
     "name": "stdout",
     "output_type": "stream",
     "text": [
      "['H2O2__100.000__Z-VAD-FMK__100.0', 'DMSO__0.100__DMSO__0.025']\n"
     ]
    },
    {
     "name": "stdout",
     "output_type": "stream",
     "text": [
      "['LPS_Nigericin__1.000_3.0__DMSO__0.025', 'DMSO__0.100__DMSO__0.025']\n"
     ]
    },
    {
     "name": "stdout",
     "output_type": "stream",
     "text": [
      "['LPS_Nigericin__1.000_10.0__DMSO__0.025', 'DMSO__0.100__DMSO__0.025']\n"
     ]
    },
    {
     "name": "stdout",
     "output_type": "stream",
     "text": [
      "['Flagellin__0.100__DMSO__0.00025', 'DMSO__0.100__DMSO__0.025']\n"
     ]
    },
    {
     "name": "stdout",
     "output_type": "stream",
     "text": [
      "['Flagellin__1.000__DMSO__0.00025', 'DMSO__0.100__DMSO__0.025']\n"
     ]
    },
    {
     "name": "stdout",
     "output_type": "stream",
     "text": [
      "['Flagellin__0.100__DMSO__0.025', 'DMSO__0.100__DMSO__0.025']\n"
     ]
    },
    {
     "name": "stdout",
     "output_type": "stream",
     "text": [
      "['Flagellin__1.000__DMSO__0.025', 'DMSO__0.100__DMSO__0.025']\n"
     ]
    },
    {
     "name": "stdout",
     "output_type": "stream",
     "text": [
      "['LPS_Nigericin__1.000_10.0__Disulfiram__1.0', 'DMSO__0.100__DMSO__0.025']\n"
     ]
    },
    {
     "name": "stdout",
     "output_type": "stream",
     "text": [
      "['LPS_Nigericin__1.000_10.0__Z-VAD-FMK__100.0', 'DMSO__0.100__DMSO__0.025']\n"
     ]
    },
    {
     "name": "stdout",
     "output_type": "stream",
     "text": [
      "['Flagellin__1.000__Disulfiram__1.0', 'DMSO__0.100__DMSO__0.025']\n"
     ]
    },
    {
     "name": "stdout",
     "output_type": "stream",
     "text": [
      "['media ctr__0__Media__0.0', 'DMSO__0.100__DMSO__0.025']\n"
     ]
    }
   ],
   "source": [
    "# define the control and treatment\n",
    "# Setup linear modeling framework\n",
    "model_covariates = [\"Metadata_number_of_singlecells\"]\n",
    "control = \"DMSO__0.100__DMSO__0.025\"\n",
    "lm_results = []\n",
    "# Loop for each treatment then each feature\n",
    "for treatment in feature_df[\"fourb_Metadata_Treatment_Dose_Inhibitor_Dose\"].unique():\n",
    "    dosage_treatments_list = [treatment, control]\n",
    "    print(dosage_treatments_list)\n",
    "    df = feature_df.query(\n",
    "        \"fourb_Metadata_Treatment_Dose_Inhibitor_Dose in @dosage_treatments_list\"\n",
    "    )\n",
    "    # Add dummy matrix of categorical genotypes\n",
    "    df[\n",
    "        [\n",
    "            \"fourb_Treatment\",\n",
    "            \"fourb_Treatment_Dose\",\n",
    "            \"fourb_Inhibitor\",\n",
    "            \"fourb_Inhibitor_Dose\",\n",
    "        ]\n",
    "    ] = df[\"fourb_Metadata_Treatment_Dose_Inhibitor_Dose\"].str.split(\"__\", expand=True)\n",
    "    tmp_df = df.loc[\n",
    "        :,\n",
    "        (\n",
    "            \"fourb_Treatment\",\n",
    "            \"fourb_Treatment_Dose\",\n",
    "            \"fourb_Inhibitor\",\n",
    "            \"fourb_Inhibitor_Dose\",\n",
    "        ),\n",
    "    ]\n",
    "\n",
    "    tmp_df[\"fourb_Treatment\"] = LabelEncoder().fit_transform(tmp_df[\"fourb_Treatment\"])\n",
    "    tmp_df[\"fourb_Treatment_Dose\"] = LabelEncoder().fit_transform(\n",
    "        tmp_df[\"fourb_Treatment_Dose\"]\n",
    "    )\n",
    "    tmp_df[\"fourb_Inhibitor\"] = LabelEncoder().fit_transform(tmp_df[\"fourb_Inhibitor\"])\n",
    "    tmp_df[\"fourb_Inhibitor_Dose\"] = LabelEncoder().fit_transform(\n",
    "        tmp_df[\"fourb_Inhibitor_Dose\"]\n",
    "    )\n",
    "\n",
    "    X = pd.concat([df.loc[:, model_covariates], tmp_df], axis=1)\n",
    "    columns_list = (\n",
    "        [\"feature\", \"r2_score\"]\n",
    "        + X.columns.tolist()\n",
    "        + [\n",
    "            \"inducer1__inducer1_dose__inhibitor__inhibitor_dose\",\n",
    "        ]\n",
    "    )\n",
    "\n",
    "    # Fit linear model for each feature\n",
    "    for cp_feature in cp_features:\n",
    "        # Subset CP data to each individual feature (univariate test)\n",
    "        cp_subset_df = df.loc[:, cp_feature]\n",
    "\n",
    "        # Fit linear model\n",
    "        lm = LinearRegression(fit_intercept=True)\n",
    "        lm_result = lm.fit(X=X, y=cp_subset_df)\n",
    "\n",
    "        # Extract Beta coefficients\n",
    "        # (contribution of feature to X covariates)\n",
    "        coef = list(lm_result.coef_)\n",
    "        # Estimate fit (R^2)\n",
    "        r2_score = lm.score(X=X, y=cp_subset_df)\n",
    "\n",
    "        # Add results to a growing list\n",
    "        lm_results.append(\n",
    "            [cp_feature, r2_score]\n",
    "            + coef\n",
    "            + [\n",
    "                treatment,\n",
    "            ]\n",
    "        )\n",
    "\n",
    "# Convert results to a pandas DataFrame\n",
    "lm_results_df = pd.DataFrame(lm_results, columns=columns_list)\n",
    "\n",
    "# write output to file\n",
    "lm_results_df.to_csv(four_beta_output_file_path, sep=\"\\t\", index=False)"
   ]
  }
 ],
 "metadata": {
  "kernelspec": {
   "display_name": "Interstellar",
   "language": "python",
   "name": "python3"
  },
  "language_info": {
   "codemirror_mode": {
    "name": "ipython",
    "version": 3
   },
   "file_extension": ".py",
   "mimetype": "text/x-python",
   "name": "python",
   "nbconvert_exporter": "python",
   "pygments_lexer": "ipython3",
   "version": "3.10.12"
  },
  "papermill": {
   "default_parameters": {},
   "duration": 1353.193122,
   "end_time": "2023-07-12T04:49:02.846472",
   "environment_variables": {},
   "exception": null,
   "input_path": "1d.fit_linear_model_4beta.ipynb",
   "output_path": "1d.fit_linear_model_4beta.ipynb",
   "parameters": {
    "celltype": "PBMC"
   },
   "start_time": "2023-07-12T04:26:29.653350",
   "version": "2.4.0"
  },
  "vscode": {
   "interpreter": {
    "hash": "72ae02083a9ca7d143c492d1aec380c7bf553ec51bd66e90e72bba65228121b6"
   }
  }
 },
 "nbformat": 4,
 "nbformat_minor": 5
}
