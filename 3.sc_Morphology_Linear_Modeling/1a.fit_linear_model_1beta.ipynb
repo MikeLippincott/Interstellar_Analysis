{
 "cells": [
  {
   "cell_type": "code",
   "execution_count": 1,
   "id": "136af809",
   "metadata": {
    "execution": {
     "iopub.execute_input": "2023-10-30T13:32:20.703353Z",
     "iopub.status.busy": "2023-10-30T13:32:20.702808Z",
     "iopub.status.idle": "2023-10-30T13:32:22.496157Z",
     "shell.execute_reply": "2023-10-30T13:32:22.495649Z"
    },
    "papermill": {
     "duration": 1.797579,
     "end_time": "2023-10-30T13:32:22.497427",
     "exception": false,
     "start_time": "2023-10-30T13:32:20.699848",
     "status": "completed"
    },
    "tags": []
   },
   "outputs": [],
   "source": [
    "import pathlib\n",
    "import sys\n",
    "\n",
    "import matplotlib.pyplot as plt\n",
    "import numpy as np\n",
    "import pandas as pd\n",
    "import plotly.express as px\n",
    "import pyarrow as pa\n",
    "import pyarrow.parquet as pq\n",
    "import seaborn as sns\n",
    "from matplotlib import pyplot as plt\n",
    "from pycytominer.cyto_utils import infer_cp_features\n",
    "from sklearn.linear_model import LinearRegression\n",
    "from sklearn.preprocessing import LabelEncoder\n",
    "\n",
    "pd.set_option(\"mode.chained_assignment\", None)"
   ]
  },
  {
   "cell_type": "code",
   "execution_count": 2,
   "id": "ba5ae458",
   "metadata": {
    "execution": {
     "iopub.execute_input": "2023-10-30T13:32:22.502253Z",
     "iopub.status.busy": "2023-10-30T13:32:22.501639Z",
     "iopub.status.idle": "2023-10-30T13:32:22.504170Z",
     "shell.execute_reply": "2023-10-30T13:32:22.503793Z"
    },
    "papermill": {
     "duration": 0.005531,
     "end_time": "2023-10-30T13:32:22.505037",
     "exception": false,
     "start_time": "2023-10-30T13:32:22.499506",
     "status": "completed"
    },
    "tags": [
     "injected-parameters"
    ]
   },
   "outputs": [],
   "source": [
    "# Parameters\n",
    "celltype = \"PBMC\""
   ]
  },
  {
   "cell_type": "code",
   "execution_count": 3,
   "id": "b84c12de",
   "metadata": {
    "execution": {
     "iopub.execute_input": "2023-10-30T13:32:22.508867Z",
     "iopub.status.busy": "2023-10-30T13:32:22.508420Z",
     "iopub.status.idle": "2023-10-30T13:34:25.220759Z",
     "shell.execute_reply": "2023-10-30T13:34:25.220104Z"
    },
    "papermill": {
     "duration": 122.715737,
     "end_time": "2023-10-30T13:34:25.222230",
     "exception": false,
     "start_time": "2023-10-30T13:32:22.506493",
     "status": "completed"
    },
    "tags": []
   },
   "outputs": [],
   "source": [
    "# Define inputs\n",
    "feature_file = pathlib.Path(f\"../data/{celltype}_preprocessed_sc_norm.parquet\")\n",
    "feature_df = pq.read_table(feature_file).to_pandas()"
   ]
  },
  {
   "cell_type": "code",
   "execution_count": 4,
   "id": "cb2b5338",
   "metadata": {
    "execution": {
     "iopub.execute_input": "2023-10-30T13:34:25.228697Z",
     "iopub.status.busy": "2023-10-30T13:34:25.228452Z",
     "iopub.status.idle": "2023-10-30T13:34:25.232666Z",
     "shell.execute_reply": "2023-10-30T13:34:25.232211Z"
    },
    "papermill": {
     "duration": 0.007504,
     "end_time": "2023-10-30T13:34:25.233772",
     "exception": false,
     "start_time": "2023-10-30T13:34:25.226268",
     "status": "completed"
    },
    "tags": []
   },
   "outputs": [],
   "source": [
    "# if path does not exist, create one\n",
    "pathlib.Path(f\"./results/{celltype}\").mkdir(parents=True, exist_ok=True)\n",
    "\n",
    "# define output file path\n",
    "one_beta_output_file_path = pathlib.Path(f\"./results/{celltype}/lm_one_beta.tsv\")\n",
    "two_beta_output_file_path = pathlib.Path(f\"./results/{celltype}/lm_two_beta.tsv\")\n",
    "three_beta_output_file_path = pathlib.Path(f\"./results/{celltype}/lm_three_beta.tsv\")\n",
    "four_beta_output_file_path = pathlib.Path(f\"./results/{celltype}/lm_four_beta.tsv\")"
   ]
  },
  {
   "cell_type": "code",
   "execution_count": 5,
   "id": "b0352cf7",
   "metadata": {
    "execution": {
     "iopub.execute_input": "2023-10-30T13:34:25.237819Z",
     "iopub.status.busy": "2023-10-30T13:34:25.237393Z",
     "iopub.status.idle": "2023-10-30T13:34:25.579323Z",
     "shell.execute_reply": "2023-10-30T13:34:25.578842Z"
    },
    "papermill": {
     "duration": 0.34504,
     "end_time": "2023-10-30T13:34:25.580279",
     "exception": false,
     "start_time": "2023-10-30T13:34:25.235239",
     "status": "completed"
    },
    "tags": []
   },
   "outputs": [
    {
     "name": "stdout",
     "output_type": "stream",
     "text": [
      "We are testing 1245 CellProfiler features\n"
     ]
    },
    {
     "name": "stdout",
     "output_type": "stream",
     "text": [
      "The unique Treatment-Dosages are: LPS_0.010_ug_per_ml_DMSO_0.025_%, \n",
      "LPS_0.100_ug_per_ml_DMSO_0.025_%, \n",
      "LPS_Nigericin_100.000_ug_per_ml_1.000_uM_DMSO_0.025_%, \n",
      "LPS_Nigericin_100.000_ug_per_ml_3.000_uM_DMSO_0.025_%, \n",
      "DMSO_0.100_%_DMSO_0.025_%, \n",
      "media_ctr_0.0_0_Media_ctr_0.0_0, \n",
      "DMSO_0.100_%_DMSO_1.000_%, \n",
      "LPS_1.000_ug_per_ml_DMSO_0.025_%, \n",
      "LPS_10.000_ug_per_ml_DMSO_0.025_%, \n",
      "LPS_Nigericin_100.000_ug_per_ml_10.000_uM_DMSO_0.025_%, \n",
      "Disulfiram_0.100_uM_DMSO_0.025_%, \n",
      "Thapsigargin_1.000_uM_DMSO_0.025_%, \n",
      "Thapsigargin_10.000_uM_DMSO_0.025_%, \n",
      "DMSO_0.100_%_Z-VAD-FMK_100.000_uM, \n",
      "DMSO_0.100_%_Z-VAD-FMK_30.000_uM, \n",
      "LPS_10.000_ug_per_ml_Disulfiram_0.100_uM, \n",
      "LPS_10.000_ug_per_ml_Disulfiram_1.000_uM, \n",
      "Disulfiram_1.000_uM_DMSO_0.025_%, \n",
      "Disulfiram_2.500_uM_DMSO_0.025_%, \n",
      "Topotecan_5.000_nM_DMSO_0.025_%, \n",
      "Topotecan_10.000_nM_DMSO_0.025_%, \n",
      "LPS_10.000_ug_per_ml_Disulfiram_2.500_uM, \n",
      "LPS_10.000_ug_per_ml_Z-VAD-FMK_100.000_uM, \n",
      "H2O2_100.000_nM_DMSO_0.025_%, \n",
      "H2O2_100.000_uM_DMSO_0.025_%, \n",
      "Topotecan_20.000_nM_DMSO_0.025_%, \n",
      "LPS_100.000_ug_per_ml_DMSO_0.025_%, \n",
      "LPS_Nigericin_1.000_ug_per_ml_1.000_uM_DMSO_0.025_%, \n",
      "H2O2_100.000_uM_Disulfiram_1.000_uM, \n",
      "H2O2_100.000_uM_Z-VAD-FMK_100.000_uM, \n",
      "LPS_Nigericin_1.000_ug_per_ml_3.000_uM_DMSO_0.025_%, \n",
      "LPS_Nigericin_1.000_ug_per_ml_10.000_uM_DMSO_0.025_%, \n",
      "Flagellin_0.100_ug_per_ml_DMSO_0.000_%, \n",
      "Flagellin_1.000_ug_per_ml_DMSO_0.000_%, \n",
      "Flagellin_0.100_ug_per_ml_DMSO_0.025_%, \n",
      "Flagellin_1.000_0_DMSO_0.025_%, \n",
      "Flagellin_1.000_ug_per_ml_DMSO_0.025_%, \n",
      "LPS_Nigericin_1.000_ug_per_ml_10.000_uM_Disulfiram_1.000_uM, \n",
      "LPS_Nigericin_1.000_ug_per_ml_10.000_uM_Z-VAD-FMK_100.000_uM, \n",
      "Flagellin_1.000_ug_per_ml_Disulfiram_1.000_uM, \n",
      "Flagellin_1.000_0_Disulfiram_1.000_uM, \n",
      "media_ctr_0.0_0_Media_0_0\n"
     ]
    }
   ],
   "source": [
    "cp_features = infer_cp_features(feature_df)\n",
    "print(f\"We are testing {len(cp_features)} CellProfiler features\")\n",
    "\n",
    "new_line = \"\\n\"\n",
    "print(\n",
    "    f\"The unique Treatment-Dosages are: {f', {new_line}'.join((feature_df['oneb_Metadata_Treatment_Dose_Inhibitor_Dose'].unique()))}\"\n",
    ")"
   ]
  },
  {
   "attachments": {},
   "cell_type": "markdown",
   "id": "1baed88f",
   "metadata": {
    "papermill": {
     "duration": 0.001543,
     "end_time": "2023-10-30T13:34:25.583808",
     "exception": false,
     "start_time": "2023-10-30T13:34:25.582265",
     "status": "completed"
    },
    "tags": []
   },
   "source": [
    "##### Here I plot the beta coefficients for each treatment against the number of cells per well. Data points the drift heavily in the Y axis are features that are affected the most by the y-axis treatment while data points that drift more in the x-axis are features that are most affected by the number of cells in a well.  "
   ]
  },
  {
   "attachments": {},
   "cell_type": "markdown",
   "id": "18a0bbdd",
   "metadata": {
    "papermill": {
     "duration": 0.001495,
     "end_time": "2023-10-30T13:34:25.586837",
     "exception": false,
     "start_time": "2023-10-30T13:34:25.585342",
     "status": "completed"
    },
    "tags": []
   },
   "source": [
    "#### Simple Linear Modeling (cell count beta + 1 beta approach)\n",
    "Here I merged the treatment and dosage and used DMSO 0.1% as the control simply comparing one dosage/treatment at a time and outputting each graph for each treatment for all features. All features and treatments will be exported into 1 file.\n",
    "\n",
    "Linear Model:  \n",
    "$y = \\beta _{0}x+ \\beta _{1}x+ \\epsilon$ where;  \n",
    "$y$ is each feature    \n",
    "$x$ is the inputed variables  \n",
    "$\\beta _{0}$ is the beta coefficient attributed to cell count.  \n",
    "$\\beta _{1}$ is the beta coefficient attributed to Inducer, Inhibitor,Inhibitor Dose and, Inducer dose.  \n",
    "$\\epsilon$ is the residual variance not explained by factors in the model"
   ]
  },
  {
   "cell_type": "code",
   "execution_count": 6,
   "id": "b178a1c0",
   "metadata": {
    "execution": {
     "iopub.execute_input": "2023-10-30T13:34:25.590815Z",
     "iopub.status.busy": "2023-10-30T13:34:25.590541Z",
     "iopub.status.idle": "2023-10-30T13:40:27.731753Z",
     "shell.execute_reply": "2023-10-30T13:40:27.731127Z"
    },
    "papermill": {
     "duration": 362.144803,
     "end_time": "2023-10-30T13:40:27.733167",
     "exception": false,
     "start_time": "2023-10-30T13:34:25.588364",
     "status": "completed"
    },
    "tags": []
   },
   "outputs": [
    {
     "name": "stdout",
     "output_type": "stream",
     "text": [
      "['LPS_0.010_ug_per_ml_DMSO_0.025_%', 'DMSO_0.100_DMSO_0.025']\n"
     ]
    },
    {
     "name": "stdout",
     "output_type": "stream",
     "text": [
      "['LPS_0.100_ug_per_ml_DMSO_0.025_%', 'DMSO_0.100_DMSO_0.025']\n"
     ]
    },
    {
     "name": "stdout",
     "output_type": "stream",
     "text": [
      "['LPS_Nigericin_100.000_ug_per_ml_1.000_uM_DMSO_0.025_%', 'DMSO_0.100_DMSO_0.025']\n"
     ]
    },
    {
     "name": "stdout",
     "output_type": "stream",
     "text": [
      "['LPS_Nigericin_100.000_ug_per_ml_3.000_uM_DMSO_0.025_%', 'DMSO_0.100_DMSO_0.025']\n"
     ]
    },
    {
     "name": "stdout",
     "output_type": "stream",
     "text": [
      "['DMSO_0.100_%_DMSO_0.025_%', 'DMSO_0.100_DMSO_0.025']\n"
     ]
    },
    {
     "name": "stdout",
     "output_type": "stream",
     "text": [
      "['media_ctr_0.0_0_Media_ctr_0.0_0', 'DMSO_0.100_DMSO_0.025']\n"
     ]
    },
    {
     "name": "stdout",
     "output_type": "stream",
     "text": [
      "['DMSO_0.100_%_DMSO_1.000_%', 'DMSO_0.100_DMSO_0.025']\n"
     ]
    },
    {
     "name": "stdout",
     "output_type": "stream",
     "text": [
      "['LPS_1.000_ug_per_ml_DMSO_0.025_%', 'DMSO_0.100_DMSO_0.025']\n"
     ]
    },
    {
     "name": "stdout",
     "output_type": "stream",
     "text": [
      "['LPS_10.000_ug_per_ml_DMSO_0.025_%', 'DMSO_0.100_DMSO_0.025']\n"
     ]
    },
    {
     "name": "stdout",
     "output_type": "stream",
     "text": [
      "['LPS_Nigericin_100.000_ug_per_ml_10.000_uM_DMSO_0.025_%', 'DMSO_0.100_DMSO_0.025']\n"
     ]
    },
    {
     "name": "stdout",
     "output_type": "stream",
     "text": [
      "['Disulfiram_0.100_uM_DMSO_0.025_%', 'DMSO_0.100_DMSO_0.025']\n"
     ]
    },
    {
     "name": "stdout",
     "output_type": "stream",
     "text": [
      "['Thapsigargin_1.000_uM_DMSO_0.025_%', 'DMSO_0.100_DMSO_0.025']\n"
     ]
    },
    {
     "name": "stdout",
     "output_type": "stream",
     "text": [
      "['Thapsigargin_10.000_uM_DMSO_0.025_%', 'DMSO_0.100_DMSO_0.025']\n"
     ]
    },
    {
     "name": "stdout",
     "output_type": "stream",
     "text": [
      "['DMSO_0.100_%_Z-VAD-FMK_100.000_uM', 'DMSO_0.100_DMSO_0.025']\n"
     ]
    },
    {
     "name": "stdout",
     "output_type": "stream",
     "text": [
      "['DMSO_0.100_%_Z-VAD-FMK_30.000_uM', 'DMSO_0.100_DMSO_0.025']\n"
     ]
    },
    {
     "name": "stdout",
     "output_type": "stream",
     "text": [
      "['LPS_10.000_ug_per_ml_Disulfiram_0.100_uM', 'DMSO_0.100_DMSO_0.025']\n"
     ]
    },
    {
     "name": "stdout",
     "output_type": "stream",
     "text": [
      "['LPS_10.000_ug_per_ml_Disulfiram_1.000_uM', 'DMSO_0.100_DMSO_0.025']\n"
     ]
    },
    {
     "name": "stdout",
     "output_type": "stream",
     "text": [
      "['Disulfiram_1.000_uM_DMSO_0.025_%', 'DMSO_0.100_DMSO_0.025']\n"
     ]
    },
    {
     "name": "stdout",
     "output_type": "stream",
     "text": [
      "['Disulfiram_2.500_uM_DMSO_0.025_%', 'DMSO_0.100_DMSO_0.025']\n"
     ]
    },
    {
     "name": "stdout",
     "output_type": "stream",
     "text": [
      "['Topotecan_5.000_nM_DMSO_0.025_%', 'DMSO_0.100_DMSO_0.025']\n"
     ]
    },
    {
     "name": "stdout",
     "output_type": "stream",
     "text": [
      "['Topotecan_10.000_nM_DMSO_0.025_%', 'DMSO_0.100_DMSO_0.025']\n"
     ]
    },
    {
     "name": "stdout",
     "output_type": "stream",
     "text": [
      "['LPS_10.000_ug_per_ml_Disulfiram_2.500_uM', 'DMSO_0.100_DMSO_0.025']\n"
     ]
    },
    {
     "name": "stdout",
     "output_type": "stream",
     "text": [
      "['LPS_10.000_ug_per_ml_Z-VAD-FMK_100.000_uM', 'DMSO_0.100_DMSO_0.025']\n"
     ]
    },
    {
     "name": "stdout",
     "output_type": "stream",
     "text": [
      "['H2O2_100.000_nM_DMSO_0.025_%', 'DMSO_0.100_DMSO_0.025']\n"
     ]
    },
    {
     "name": "stdout",
     "output_type": "stream",
     "text": [
      "['H2O2_100.000_uM_DMSO_0.025_%', 'DMSO_0.100_DMSO_0.025']\n"
     ]
    },
    {
     "name": "stdout",
     "output_type": "stream",
     "text": [
      "['Topotecan_20.000_nM_DMSO_0.025_%', 'DMSO_0.100_DMSO_0.025']\n"
     ]
    },
    {
     "name": "stdout",
     "output_type": "stream",
     "text": [
      "['LPS_100.000_ug_per_ml_DMSO_0.025_%', 'DMSO_0.100_DMSO_0.025']\n"
     ]
    },
    {
     "name": "stdout",
     "output_type": "stream",
     "text": [
      "['LPS_Nigericin_1.000_ug_per_ml_1.000_uM_DMSO_0.025_%', 'DMSO_0.100_DMSO_0.025']\n"
     ]
    },
    {
     "name": "stdout",
     "output_type": "stream",
     "text": [
      "['H2O2_100.000_uM_Disulfiram_1.000_uM', 'DMSO_0.100_DMSO_0.025']\n"
     ]
    },
    {
     "name": "stdout",
     "output_type": "stream",
     "text": [
      "['H2O2_100.000_uM_Z-VAD-FMK_100.000_uM', 'DMSO_0.100_DMSO_0.025']\n"
     ]
    },
    {
     "name": "stdout",
     "output_type": "stream",
     "text": [
      "['LPS_Nigericin_1.000_ug_per_ml_3.000_uM_DMSO_0.025_%', 'DMSO_0.100_DMSO_0.025']\n"
     ]
    },
    {
     "name": "stdout",
     "output_type": "stream",
     "text": [
      "['LPS_Nigericin_1.000_ug_per_ml_10.000_uM_DMSO_0.025_%', 'DMSO_0.100_DMSO_0.025']\n"
     ]
    },
    {
     "name": "stdout",
     "output_type": "stream",
     "text": [
      "['Flagellin_0.100_ug_per_ml_DMSO_0.000_%', 'DMSO_0.100_DMSO_0.025']\n"
     ]
    },
    {
     "name": "stdout",
     "output_type": "stream",
     "text": [
      "['Flagellin_1.000_ug_per_ml_DMSO_0.000_%', 'DMSO_0.100_DMSO_0.025']\n"
     ]
    },
    {
     "name": "stdout",
     "output_type": "stream",
     "text": [
      "['Flagellin_0.100_ug_per_ml_DMSO_0.025_%', 'DMSO_0.100_DMSO_0.025']\n"
     ]
    },
    {
     "name": "stdout",
     "output_type": "stream",
     "text": [
      "['Flagellin_1.000_0_DMSO_0.025_%', 'DMSO_0.100_DMSO_0.025']\n"
     ]
    },
    {
     "name": "stdout",
     "output_type": "stream",
     "text": [
      "['Flagellin_1.000_ug_per_ml_DMSO_0.025_%', 'DMSO_0.100_DMSO_0.025']\n"
     ]
    },
    {
     "name": "stdout",
     "output_type": "stream",
     "text": [
      "['LPS_Nigericin_1.000_ug_per_ml_10.000_uM_Disulfiram_1.000_uM', 'DMSO_0.100_DMSO_0.025']\n"
     ]
    },
    {
     "name": "stdout",
     "output_type": "stream",
     "text": [
      "['LPS_Nigericin_1.000_ug_per_ml_10.000_uM_Z-VAD-FMK_100.000_uM', 'DMSO_0.100_DMSO_0.025']\n"
     ]
    },
    {
     "name": "stdout",
     "output_type": "stream",
     "text": [
      "['Flagellin_1.000_ug_per_ml_Disulfiram_1.000_uM', 'DMSO_0.100_DMSO_0.025']\n"
     ]
    },
    {
     "name": "stdout",
     "output_type": "stream",
     "text": [
      "['Flagellin_1.000_0_Disulfiram_1.000_uM', 'DMSO_0.100_DMSO_0.025']\n"
     ]
    },
    {
     "name": "stdout",
     "output_type": "stream",
     "text": [
      "['media_ctr_0.0_0_Media_0_0', 'DMSO_0.100_DMSO_0.025']\n"
     ]
    }
   ],
   "source": [
    "model_covariates = [\"Metadata_number_of_singlecells\"]\n",
    "control = \"DMSO_0.100_DMSO_0.025\"\n",
    "lm_results = []\n",
    "# Loop for each treatment then each feature\n",
    "for treatment in feature_df[\"oneb_Metadata_Treatment_Dose_Inhibitor_Dose\"].unique():\n",
    "    dosage_treatments_list = [treatment, control]\n",
    "    print(dosage_treatments_list)\n",
    "    # filter df for treatment and dose\n",
    "    df = feature_df.query(\n",
    "        \"oneb_Metadata_Treatment_Dose_Inhibitor_Dose in @dosage_treatments_list\"\n",
    "    )\n",
    "    # encode treatment and dose as integers\n",
    "\n",
    "    df[\"oneb_Metadata_Treatment_Dose_Inhibitor_Dose\"] = LabelEncoder().fit_transform(\n",
    "        df[\"oneb_Metadata_Treatment_Dose_Inhibitor_Dose\"]\n",
    "    )\n",
    "\n",
    "    # Setup linear modeling framework\n",
    "\n",
    "    X = df.loc[:, model_covariates]\n",
    "    X = pd.concat([X, df[\"oneb_Metadata_Treatment_Dose_Inhibitor_Dose\"]], axis=1)\n",
    "\n",
    "    columns_list = (\n",
    "        [\"feature\", \"r2_score\"] + X.columns.tolist() + [\"dosage_treatments_list\"]\n",
    "    )\n",
    "\n",
    "    # Fit linear model for each feature\n",
    "    for cp_feature in cp_features:\n",
    "        # Subset CP data to each individual feature (univariate test)\n",
    "        cp_subset_df = df.loc[:, cp_feature]\n",
    "\n",
    "        # Fit linear model\n",
    "        lm = LinearRegression(fit_intercept=True)\n",
    "        lm_result = lm.fit(X=X, y=cp_subset_df)\n",
    "\n",
    "        # Extract Beta coefficients(contribution of feature to X covariates)\n",
    "        coef = list(lm_result.coef_)\n",
    "        # Estimate fit (R^2)\n",
    "        r2_score = lm.score(X=X, y=cp_subset_df)\n",
    "\n",
    "        # Add results to a growing list\n",
    "        lm_results.append(\n",
    "            [cp_feature, r2_score] + coef + [f\"{'-'.join(dosage_treatments_list)}\"]\n",
    "        )\n",
    "lm_results\n",
    "# Convert results to a pandas DataFrame\n",
    "lm_results_df = pd.DataFrame(lm_results, columns=columns_list)\n",
    "\n",
    "# write output to file\n",
    "lm_results_df.to_csv(one_beta_output_file_path, sep=\"\\t\", index=False)"
   ]
  }
 ],
 "metadata": {
  "kernelspec": {
   "display_name": "Interstellar",
   "language": "python",
   "name": "python3"
  },
  "language_info": {
   "codemirror_mode": {
    "name": "ipython",
    "version": 3
   },
   "file_extension": ".py",
   "mimetype": "text/x-python",
   "name": "python",
   "nbconvert_exporter": "python",
   "pygments_lexer": "ipython3",
   "version": "3.10.12"
  },
  "papermill": {
   "default_parameters": {},
   "duration": 489.524433,
   "end_time": "2023-10-30T13:40:28.252697",
   "environment_variables": {},
   "exception": null,
   "input_path": "1a.fit_linear_model_1beta.ipynb",
   "output_path": "1a.fit_linear_model_1beta.ipynb",
   "parameters": {
    "celltype": "PBMC"
   },
   "start_time": "2023-10-30T13:32:18.728264",
   "version": "2.4.0"
  },
  "vscode": {
   "interpreter": {
    "hash": "72ae02083a9ca7d143c492d1aec380c7bf553ec51bd66e90e72bba65228121b6"
   }
  }
 },
 "nbformat": 4,
 "nbformat_minor": 5
}