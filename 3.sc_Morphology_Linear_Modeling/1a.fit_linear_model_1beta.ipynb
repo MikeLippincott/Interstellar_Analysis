{
 "cells": [
  {
   "cell_type": "code",
   "execution_count": 1,
   "id": "136af809",
   "metadata": {
    "execution": {
     "iopub.execute_input": "2023-07-12T03:39:40.387803Z",
     "iopub.status.busy": "2023-07-12T03:39:40.386754Z",
     "iopub.status.idle": "2023-07-12T03:39:42.099688Z",
     "shell.execute_reply": "2023-07-12T03:39:42.099131Z"
    },
    "papermill": {
     "duration": 1.720829,
     "end_time": "2023-07-12T03:39:42.100908",
     "exception": false,
     "start_time": "2023-07-12T03:39:40.380079",
     "status": "completed"
    },
    "tags": []
   },
   "outputs": [],
   "source": [
    "import pathlib\n",
    "import sys\n",
    "\n",
    "import matplotlib.pyplot as plt\n",
    "import numpy as np\n",
    "import pandas as pd\n",
    "import plotly.express as px\n",
    "import pyarrow as pa\n",
    "import pyarrow.parquet as pq\n",
    "import seaborn as sns\n",
    "from matplotlib import pyplot as plt\n",
    "from pycytominer.cyto_utils import infer_cp_features\n",
    "from sklearn.linear_model import LinearRegression\n",
    "from sklearn.preprocessing import LabelEncoder\n",
    "\n",
    "pd.set_option(\"mode.chained_assignment\", None)"
   ]
  },
  {
   "cell_type": "code",
   "execution_count": 2,
   "id": "0646454c",
   "metadata": {
    "execution": {
     "iopub.execute_input": "2023-07-12T03:39:42.109837Z",
     "iopub.status.busy": "2023-07-12T03:39:42.109403Z",
     "iopub.status.idle": "2023-07-12T03:39:42.112085Z",
     "shell.execute_reply": "2023-07-12T03:39:42.111663Z"
    },
    "papermill": {
     "duration": 0.005874,
     "end_time": "2023-07-12T03:39:42.112943",
     "exception": false,
     "start_time": "2023-07-12T03:39:42.107069",
     "status": "completed"
    },
    "tags": [
     "injected-parameters"
    ]
   },
   "outputs": [],
   "source": [
    "# Parameters\n",
    "celltype = \"PBMC\""
   ]
  },
  {
   "cell_type": "code",
   "execution_count": 3,
   "id": "b84c12de",
   "metadata": {
    "execution": {
     "iopub.execute_input": "2023-07-12T03:39:42.116267Z",
     "iopub.status.busy": "2023-07-12T03:39:42.115863Z",
     "iopub.status.idle": "2023-07-12T03:41:46.544753Z",
     "shell.execute_reply": "2023-07-12T03:41:46.544186Z"
    },
    "papermill": {
     "duration": 124.431778,
     "end_time": "2023-07-12T03:41:46.545987",
     "exception": false,
     "start_time": "2023-07-12T03:39:42.114209",
     "status": "completed"
    },
    "tags": []
   },
   "outputs": [],
   "source": [
    "# Define inputs\n",
    "feature_file = pathlib.Path(f\"../data/{celltype}_preprocessed_sc_norm.parquet\")\n",
    "feature_df = pq.read_table(feature_file).to_pandas()"
   ]
  },
  {
   "cell_type": "code",
   "execution_count": 4,
   "id": "cb2b5338",
   "metadata": {
    "execution": {
     "iopub.execute_input": "2023-07-12T03:41:46.554916Z",
     "iopub.status.busy": "2023-07-12T03:41:46.554462Z",
     "iopub.status.idle": "2023-07-12T03:41:46.557877Z",
     "shell.execute_reply": "2023-07-12T03:41:46.557560Z"
    },
    "papermill": {
     "duration": 0.00627,
     "end_time": "2023-07-12T03:41:46.558625",
     "exception": false,
     "start_time": "2023-07-12T03:41:46.552355",
     "status": "completed"
    },
    "tags": []
   },
   "outputs": [],
   "source": [
    "# if path does not exist, create one\n",
    "pathlib.Path(f\"./results/{celltype}\").mkdir(parents=True, exist_ok=True)\n",
    "\n",
    "# define output file path\n",
    "one_beta_output_file_path = pathlib.Path(f\"./results/{celltype}/lm_one_beta.tsv\")\n",
    "two_beta_output_file_path = pathlib.Path(f\"./results/{celltype}/lm_two_beta.tsv\")\n",
    "three_beta_output_file_path = pathlib.Path(f\"./results/{celltype}/lm_three_beta.tsv\")\n",
    "four_beta_output_file_path = pathlib.Path(f\"./results/{celltype}/lm_four_beta.tsv\")"
   ]
  },
  {
   "cell_type": "code",
   "execution_count": 5,
   "id": "b0352cf7",
   "metadata": {
    "execution": {
     "iopub.execute_input": "2023-07-12T03:41:46.562040Z",
     "iopub.status.busy": "2023-07-12T03:41:46.561774Z",
     "iopub.status.idle": "2023-07-12T03:41:46.788209Z",
     "shell.execute_reply": "2023-07-12T03:41:46.787777Z"
    },
    "papermill": {
     "duration": 0.22914,
     "end_time": "2023-07-12T03:41:46.789016",
     "exception": false,
     "start_time": "2023-07-12T03:41:46.559876",
     "status": "completed"
    },
    "tags": []
   },
   "outputs": [
    {
     "name": "stdout",
     "output_type": "stream",
     "text": [
      "We are testing 1245 CellProfiler features\n",
      "The unique Treatment-Dosages are: LPS_0.010_DMSO_0.025, \n",
      "LPS_0.100_DMSO_0.025, \n",
      "LPS_Nigericin_100.000_1.0_DMSO_0.025, \n",
      "LPS_Nigericin_100.000_3.0_DMSO_0.025, \n",
      "DMSO_0.100_DMSO_0.025, \n",
      "media ctr_0_Media ctr_0.0, \n",
      "DMSO_0.100_DMSO_1.0, \n",
      "LPS_1.000_DMSO_0.025, \n",
      "LPS_10.000_DMSO_0.025, \n",
      "LPS_Nigericin_100.000_10.0_DMSO_0.025, \n",
      "Disulfiram_0.100_DMSO_0.025, \n",
      "Thapsigargin_1.000_DMSO_0.025, \n",
      "Thapsigargin_10.000_DMSO_0.025, \n",
      "DMSO_0.100_Z-VAD-FMK_100.0, \n",
      "DMSO_0.100_Z-VAD-FMK_30.0, \n",
      "LPS_10.000_Disulfiram_0.1, \n",
      "LPS_10.000_Disulfiram_1.0, \n",
      "Disulfiram_1.000_DMSO_0.025, \n",
      "Disulfiram_2.5_DMSO_0.025, \n",
      "Disulfiram_2.500_DMSO_0.025, \n",
      "Topotecan_5.000_DMSO_0.025, \n",
      "Topotecan_10.000_DMSO_0.025, \n",
      "LPS_10.000_Disulfiram_2.5, \n",
      "LPS_10.000_Z-VAD-FMK_100.0, \n",
      "H2O2_100.000_DMSO_0.025, \n",
      "Topotecan_20.000_DMSO_0.025, \n",
      "LPS_100.000_DMSO_0.025, \n",
      "LPS_Nigericin_1.000_1.0_DMSO_0.025, \n",
      "H2O2_100.000_Disulfiram_1.0, \n",
      "H2O2_100.000_Z-VAD-FMK_100.0, \n",
      "LPS_Nigericin_1.000_3.0_DMSO_0.025, \n",
      "LPS_Nigericin_1.000_10.0_DMSO_0.025, \n",
      "Flagellin_0.100_DMSO_0.00025, \n",
      "Flagellin_1.000_DMSO_0.00025, \n",
      "Flagellin_0.100_DMSO_0.025, \n",
      "Flagellin_1.000_DMSO_0.025, \n",
      "LPS_Nigericin_1.000_10.0_Disulfiram_1.0, \n",
      "LPS_Nigericin_1.000_10.0_Z-VAD-FMK_100.0, \n",
      "Flagellin_1.000_Disulfiram_1.0, \n",
      "media ctr_0_Media_0.0\n"
     ]
    }
   ],
   "source": [
    "cp_features = infer_cp_features(feature_df)\n",
    "print(f\"We are testing {len(cp_features)} CellProfiler features\")\n",
    "\n",
    "new_line = \"\\n\"\n",
    "print(\n",
    "    f\"The unique Treatment-Dosages are: {f', {new_line}'.join((feature_df['oneb_Metadata_Treatment_Dose_Inhibitor_Dose'].unique()))}\"\n",
    ")"
   ]
  },
  {
   "attachments": {},
   "cell_type": "markdown",
   "id": "1baed88f",
   "metadata": {
    "papermill": {
     "duration": 0.001209,
     "end_time": "2023-07-12T03:41:46.791879",
     "exception": false,
     "start_time": "2023-07-12T03:41:46.790670",
     "status": "completed"
    },
    "tags": []
   },
   "source": [
    "##### Here I plot the beta coefficients for each treatment against the number of cells per well. Data points the drift heavily in the Y axis are features that are affected the most by the y-axis treatment while data points that drift more in the x-axis are features that are most affected by the number of cells in a well.  "
   ]
  },
  {
   "attachments": {},
   "cell_type": "markdown",
   "id": "18a0bbdd",
   "metadata": {
    "papermill": {
     "duration": 0.00121,
     "end_time": "2023-07-12T03:41:46.794287",
     "exception": false,
     "start_time": "2023-07-12T03:41:46.793077",
     "status": "completed"
    },
    "tags": []
   },
   "source": [
    "#### Simple Linear Modeling (cell count beta + 1 beta approach)\n",
    "Here I merged the treatment and dosage and used DMSO 0.1% as the control simply comparing one dosage/treatment at a time and outputting each graph for each treatment for all features. All features and treatments will be exported into 1 file.\n",
    "\n",
    "Linear Model:  \n",
    "$y = \\beta _{0}x+ \\beta _{1}x+ \\epsilon$ where;  \n",
    "$y$ is each feature    \n",
    "$x$ is the inputed variables  \n",
    "$\\beta _{0}$ is the beta coefficient attributed to cell count.  \n",
    "$\\beta _{1}$ is the beta coefficient attributed to Inducer, Inhibitor,Inhibitor Dose and, Inducer dose.  \n",
    "$\\epsilon$ is the residual variance not explained by factors in the model"
   ]
  },
  {
   "cell_type": "code",
   "execution_count": 6,
   "id": "b178a1c0",
   "metadata": {
    "execution": {
     "iopub.execute_input": "2023-07-12T03:41:46.797478Z",
     "iopub.status.busy": "2023-07-12T03:41:46.797284Z",
     "iopub.status.idle": "2023-07-12T03:51:57.233273Z",
     "shell.execute_reply": "2023-07-12T03:51:57.232815Z"
    },
    "papermill": {
     "duration": 610.438973,
     "end_time": "2023-07-12T03:51:57.234498",
     "exception": false,
     "start_time": "2023-07-12T03:41:46.795525",
     "status": "completed"
    },
    "tags": []
   },
   "outputs": [
    {
     "name": "stdout",
     "output_type": "stream",
     "text": [
      "['LPS_0.010_DMSO_0.025', 'DMSO_0.100_DMSO_0.025']\n"
     ]
    },
    {
     "name": "stdout",
     "output_type": "stream",
     "text": [
      "['LPS_0.100_DMSO_0.025', 'DMSO_0.100_DMSO_0.025']\n"
     ]
    },
    {
     "name": "stdout",
     "output_type": "stream",
     "text": [
      "['LPS_Nigericin_100.000_1.0_DMSO_0.025', 'DMSO_0.100_DMSO_0.025']\n"
     ]
    },
    {
     "name": "stdout",
     "output_type": "stream",
     "text": [
      "['LPS_Nigericin_100.000_3.0_DMSO_0.025', 'DMSO_0.100_DMSO_0.025']\n"
     ]
    },
    {
     "name": "stdout",
     "output_type": "stream",
     "text": [
      "['DMSO_0.100_DMSO_0.025', 'DMSO_0.100_DMSO_0.025']\n"
     ]
    },
    {
     "name": "stdout",
     "output_type": "stream",
     "text": [
      "['media ctr_0_Media ctr_0.0', 'DMSO_0.100_DMSO_0.025']\n"
     ]
    },
    {
     "name": "stdout",
     "output_type": "stream",
     "text": [
      "['DMSO_0.100_DMSO_1.0', 'DMSO_0.100_DMSO_0.025']\n"
     ]
    },
    {
     "name": "stdout",
     "output_type": "stream",
     "text": [
      "['LPS_1.000_DMSO_0.025', 'DMSO_0.100_DMSO_0.025']\n"
     ]
    },
    {
     "name": "stdout",
     "output_type": "stream",
     "text": [
      "['LPS_10.000_DMSO_0.025', 'DMSO_0.100_DMSO_0.025']\n"
     ]
    },
    {
     "name": "stdout",
     "output_type": "stream",
     "text": [
      "['LPS_Nigericin_100.000_10.0_DMSO_0.025', 'DMSO_0.100_DMSO_0.025']\n"
     ]
    },
    {
     "name": "stdout",
     "output_type": "stream",
     "text": [
      "['Disulfiram_0.100_DMSO_0.025', 'DMSO_0.100_DMSO_0.025']\n"
     ]
    },
    {
     "name": "stdout",
     "output_type": "stream",
     "text": [
      "['Thapsigargin_1.000_DMSO_0.025', 'DMSO_0.100_DMSO_0.025']\n"
     ]
    },
    {
     "name": "stdout",
     "output_type": "stream",
     "text": [
      "['Thapsigargin_10.000_DMSO_0.025', 'DMSO_0.100_DMSO_0.025']\n"
     ]
    },
    {
     "name": "stdout",
     "output_type": "stream",
     "text": [
      "['DMSO_0.100_Z-VAD-FMK_100.0', 'DMSO_0.100_DMSO_0.025']\n"
     ]
    },
    {
     "name": "stdout",
     "output_type": "stream",
     "text": [
      "['DMSO_0.100_Z-VAD-FMK_30.0', 'DMSO_0.100_DMSO_0.025']\n"
     ]
    },
    {
     "name": "stdout",
     "output_type": "stream",
     "text": [
      "['LPS_10.000_Disulfiram_0.1', 'DMSO_0.100_DMSO_0.025']\n"
     ]
    },
    {
     "name": "stdout",
     "output_type": "stream",
     "text": [
      "['LPS_10.000_Disulfiram_1.0', 'DMSO_0.100_DMSO_0.025']\n"
     ]
    },
    {
     "name": "stdout",
     "output_type": "stream",
     "text": [
      "['Disulfiram_1.000_DMSO_0.025', 'DMSO_0.100_DMSO_0.025']\n"
     ]
    },
    {
     "name": "stdout",
     "output_type": "stream",
     "text": [
      "['Disulfiram_2.5_DMSO_0.025', 'DMSO_0.100_DMSO_0.025']\n"
     ]
    },
    {
     "name": "stdout",
     "output_type": "stream",
     "text": [
      "['Disulfiram_2.500_DMSO_0.025', 'DMSO_0.100_DMSO_0.025']\n"
     ]
    },
    {
     "name": "stdout",
     "output_type": "stream",
     "text": [
      "['Topotecan_5.000_DMSO_0.025', 'DMSO_0.100_DMSO_0.025']\n"
     ]
    },
    {
     "name": "stdout",
     "output_type": "stream",
     "text": [
      "['Topotecan_10.000_DMSO_0.025', 'DMSO_0.100_DMSO_0.025']\n"
     ]
    },
    {
     "name": "stdout",
     "output_type": "stream",
     "text": [
      "['LPS_10.000_Disulfiram_2.5', 'DMSO_0.100_DMSO_0.025']\n"
     ]
    },
    {
     "name": "stdout",
     "output_type": "stream",
     "text": [
      "['LPS_10.000_Z-VAD-FMK_100.0', 'DMSO_0.100_DMSO_0.025']\n"
     ]
    },
    {
     "name": "stdout",
     "output_type": "stream",
     "text": [
      "['H2O2_100.000_DMSO_0.025', 'DMSO_0.100_DMSO_0.025']\n"
     ]
    },
    {
     "name": "stdout",
     "output_type": "stream",
     "text": [
      "['Topotecan_20.000_DMSO_0.025', 'DMSO_0.100_DMSO_0.025']\n"
     ]
    },
    {
     "name": "stdout",
     "output_type": "stream",
     "text": [
      "['LPS_100.000_DMSO_0.025', 'DMSO_0.100_DMSO_0.025']\n"
     ]
    },
    {
     "name": "stdout",
     "output_type": "stream",
     "text": [
      "['LPS_Nigericin_1.000_1.0_DMSO_0.025', 'DMSO_0.100_DMSO_0.025']\n"
     ]
    },
    {
     "name": "stdout",
     "output_type": "stream",
     "text": [
      "['H2O2_100.000_Disulfiram_1.0', 'DMSO_0.100_DMSO_0.025']\n"
     ]
    },
    {
     "name": "stdout",
     "output_type": "stream",
     "text": [
      "['H2O2_100.000_Z-VAD-FMK_100.0', 'DMSO_0.100_DMSO_0.025']\n"
     ]
    },
    {
     "name": "stdout",
     "output_type": "stream",
     "text": [
      "['LPS_Nigericin_1.000_3.0_DMSO_0.025', 'DMSO_0.100_DMSO_0.025']\n"
     ]
    },
    {
     "name": "stdout",
     "output_type": "stream",
     "text": [
      "['LPS_Nigericin_1.000_10.0_DMSO_0.025', 'DMSO_0.100_DMSO_0.025']\n"
     ]
    },
    {
     "name": "stdout",
     "output_type": "stream",
     "text": [
      "['Flagellin_0.100_DMSO_0.00025', 'DMSO_0.100_DMSO_0.025']\n"
     ]
    },
    {
     "name": "stdout",
     "output_type": "stream",
     "text": [
      "['Flagellin_1.000_DMSO_0.00025', 'DMSO_0.100_DMSO_0.025']\n"
     ]
    },
    {
     "name": "stdout",
     "output_type": "stream",
     "text": [
      "['Flagellin_0.100_DMSO_0.025', 'DMSO_0.100_DMSO_0.025']\n"
     ]
    },
    {
     "name": "stdout",
     "output_type": "stream",
     "text": [
      "['Flagellin_1.000_DMSO_0.025', 'DMSO_0.100_DMSO_0.025']\n"
     ]
    },
    {
     "name": "stdout",
     "output_type": "stream",
     "text": [
      "['LPS_Nigericin_1.000_10.0_Disulfiram_1.0', 'DMSO_0.100_DMSO_0.025']\n"
     ]
    },
    {
     "name": "stdout",
     "output_type": "stream",
     "text": [
      "['LPS_Nigericin_1.000_10.0_Z-VAD-FMK_100.0', 'DMSO_0.100_DMSO_0.025']\n"
     ]
    },
    {
     "name": "stdout",
     "output_type": "stream",
     "text": [
      "['Flagellin_1.000_Disulfiram_1.0', 'DMSO_0.100_DMSO_0.025']\n"
     ]
    },
    {
     "name": "stdout",
     "output_type": "stream",
     "text": [
      "['media ctr_0_Media_0.0', 'DMSO_0.100_DMSO_0.025']\n"
     ]
    }
   ],
   "source": [
    "model_covariates = [\"Metadata_number_of_singlecells\"]\n",
    "control = \"DMSO_0.100_DMSO_0.025\"\n",
    "lm_results = []\n",
    "# Loop for each treatment then each feature\n",
    "for treatment in feature_df[\"oneb_Metadata_Treatment_Dose_Inhibitor_Dose\"].unique():\n",
    "    dosage_treatments_list = [treatment, control]\n",
    "    print(dosage_treatments_list)\n",
    "    # filter df for treatment and dose\n",
    "    df = feature_df.query(\n",
    "        \"oneb_Metadata_Treatment_Dose_Inhibitor_Dose in @dosage_treatments_list\"\n",
    "    )\n",
    "    # encode treatment and dose as integers\n",
    "\n",
    "    df[\"oneb_Metadata_Treatment_Dose_Inhibitor_Dose\"] = LabelEncoder().fit_transform(\n",
    "        df[\"oneb_Metadata_Treatment_Dose_Inhibitor_Dose\"]\n",
    "    )\n",
    "\n",
    "    # Setup linear modeling framework\n",
    "\n",
    "    X = df.loc[:, model_covariates]\n",
    "    X = pd.concat([X, df[\"oneb_Metadata_Treatment_Dose_Inhibitor_Dose\"]], axis=1)\n",
    "\n",
    "    columns_list = (\n",
    "        [\"feature\", \"r2_score\"] + X.columns.tolist() + [\"dosage_treatments_list\"]\n",
    "    )\n",
    "\n",
    "    # Fit linear model for each feature\n",
    "    for cp_feature in cp_features:\n",
    "        # Subset CP data to each individual feature (univariate test)\n",
    "        cp_subset_df = df.loc[:, cp_feature]\n",
    "\n",
    "        # Fit linear model\n",
    "        lm = LinearRegression(fit_intercept=True)\n",
    "        lm_result = lm.fit(X=X, y=cp_subset_df)\n",
    "\n",
    "        # Extract Beta coefficients(contribution of feature to X covariates)\n",
    "        coef = list(lm_result.coef_)\n",
    "        # Estimate fit (R^2)\n",
    "        r2_score = lm.score(X=X, y=cp_subset_df)\n",
    "\n",
    "        # Add results to a growing list\n",
    "        lm_results.append(\n",
    "            [cp_feature, r2_score] + coef + [f\"{'-'.join(dosage_treatments_list)}\"]\n",
    "        )\n",
    "lm_results\n",
    "# Convert results to a pandas DataFrame\n",
    "lm_results_df = pd.DataFrame(lm_results, columns=columns_list)\n",
    "\n",
    "# write output to file\n",
    "lm_results_df.to_csv(one_beta_output_file_path, sep=\"\\t\", index=False)"
   ]
  }
 ],
 "metadata": {
  "kernelspec": {
   "display_name": "Interstellar",
   "language": "python",
   "name": "python3"
  },
  "language_info": {
   "codemirror_mode": {
    "name": "ipython",
    "version": 3
   },
   "file_extension": ".py",
   "mimetype": "text/x-python",
   "name": "python",
   "nbconvert_exporter": "python",
   "pygments_lexer": "ipython3",
   "version": "3.10.12"
  },
  "papermill": {
   "default_parameters": {},
   "duration": 738.967757,
   "end_time": "2023-07-12T03:51:57.655725",
   "environment_variables": {},
   "exception": null,
   "input_path": "1a.fit_linear_model_1beta.ipynb",
   "output_path": "1a.fit_linear_model_1beta.ipynb",
   "parameters": {
    "celltype": "PBMC"
   },
   "start_time": "2023-07-12T03:39:38.687968",
   "version": "2.4.0"
  },
  "vscode": {
   "interpreter": {
    "hash": "72ae02083a9ca7d143c492d1aec380c7bf553ec51bd66e90e72bba65228121b6"
   }
  }
 },
 "nbformat": 4,
 "nbformat_minor": 5
}
