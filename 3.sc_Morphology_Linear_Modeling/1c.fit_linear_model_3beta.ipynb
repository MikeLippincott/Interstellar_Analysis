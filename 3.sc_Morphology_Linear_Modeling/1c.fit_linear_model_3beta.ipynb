{
 "cells": [
  {
   "cell_type": "code",
   "execution_count": 1,
   "id": "25ff95dc",
   "metadata": {
    "execution": {
     "iopub.execute_input": "2023-07-11T23:44:49.522446Z",
     "iopub.status.busy": "2023-07-11T23:44:49.522001Z",
     "iopub.status.idle": "2023-07-11T23:44:50.697520Z",
     "shell.execute_reply": "2023-07-11T23:44:50.696820Z"
    },
    "papermill": {
     "duration": 1.182995,
     "end_time": "2023-07-11T23:44:50.699641",
     "exception": false,
     "start_time": "2023-07-11T23:44:49.516646",
     "status": "completed"
    },
    "tags": []
   },
   "outputs": [],
   "source": [
    "import sys\n",
    "import pathlib\n",
    "import pandas as pd\n",
    "import numpy as np\n",
    "\n",
    "from sklearn.linear_model import LinearRegression\n",
    "import plotly.express as px\n",
    "from pycytominer.cyto_utils import infer_cp_features\n",
    "from matplotlib import pyplot as plt\n",
    "import seaborn as sns\n",
    "from sklearn.preprocessing import LabelEncoder\n",
    "import pyarrow as pa\n",
    "import pyarrow.parquet as pq\n",
    "\n",
    "sys.path.append(\"..\")\n",
    "# from ..utils.utils import df_stats\n",
    "import matplotlib.pyplot as plt\n",
    "\n",
    "pd.set_option(\"mode.chained_assignment\", None)"
   ]
  },
  {
   "cell_type": "code",
   "execution_count": 2,
   "id": "df4dc284",
   "metadata": {
    "execution": {
     "iopub.execute_input": "2023-07-11T23:44:50.706877Z",
     "iopub.status.busy": "2023-07-11T23:44:50.706473Z",
     "iopub.status.idle": "2023-07-11T23:44:50.709677Z",
     "shell.execute_reply": "2023-07-11T23:44:50.709095Z"
    },
    "papermill": {
     "duration": 0.00859,
     "end_time": "2023-07-11T23:44:50.711352",
     "exception": false,
     "start_time": "2023-07-11T23:44:50.702762",
     "status": "completed"
    },
    "tags": [
     "injected-parameters"
    ]
   },
   "outputs": [],
   "source": [
    "# Parameters\n",
    "celltype = \"SHSY5Y\""
   ]
  },
  {
   "cell_type": "code",
   "execution_count": 3,
   "id": "5808796d",
   "metadata": {
    "execution": {
     "iopub.execute_input": "2023-07-11T23:44:50.717924Z",
     "iopub.status.busy": "2023-07-11T23:44:50.717642Z",
     "iopub.status.idle": "2023-07-11T23:44:52.847186Z",
     "shell.execute_reply": "2023-07-11T23:44:52.846463Z"
    },
    "papermill": {
     "duration": 2.134421,
     "end_time": "2023-07-11T23:44:52.848597",
     "exception": false,
     "start_time": "2023-07-11T23:44:50.714176",
     "status": "completed"
    },
    "tags": []
   },
   "outputs": [],
   "source": [
    "# Define inputs\n",
    "feature_file = pathlib.Path(f\"../data/{celltype}_preprocessed_sc_norm.parquet\")\n",
    "feature_df = pq.read_table(feature_file).to_pandas()"
   ]
  },
  {
   "cell_type": "code",
   "execution_count": 4,
   "id": "0c6538a6",
   "metadata": {
    "execution": {
     "iopub.execute_input": "2023-07-11T23:44:53.637698Z",
     "iopub.status.busy": "2023-07-11T23:44:53.637209Z",
     "iopub.status.idle": "2023-07-11T23:44:53.642772Z",
     "shell.execute_reply": "2023-07-11T23:44:53.641783Z"
    },
    "papermill": {
     "duration": 0.78984,
     "end_time": "2023-07-11T23:44:53.644986",
     "exception": false,
     "start_time": "2023-07-11T23:44:52.855146",
     "status": "completed"
    },
    "tags": []
   },
   "outputs": [],
   "source": [
    "# if path does not exist, create one\n",
    "pathlib.Path(f\"./results/{celltype}\").mkdir(parents=True, exist_ok=True)\n",
    "\n",
    "# define output file path\n",
    "one_beta_output_file_path = pathlib.Path(f\"./results/{celltype}/lm_one_beta.tsv\")\n",
    "two_beta_output_file_path = pathlib.Path(f\"./results/{celltype}/lm_two_beta.tsv\")\n",
    "three_beta_output_file_path = pathlib.Path(f\"./results/{celltype}/lm_three_beta.tsv\")\n",
    "four_beta_output_file_path = pathlib.Path(f\"./results/{celltype}/lm_four_beta.tsv\")"
   ]
  },
  {
   "cell_type": "code",
   "execution_count": 5,
   "id": "e2818b93",
   "metadata": {
    "execution": {
     "iopub.execute_input": "2023-07-11T23:44:54.034239Z",
     "iopub.status.busy": "2023-07-11T23:44:54.033866Z",
     "iopub.status.idle": "2023-07-11T23:44:54.101382Z",
     "shell.execute_reply": "2023-07-11T23:44:54.100360Z"
    },
    "papermill": {
     "duration": 0.076348,
     "end_time": "2023-07-11T23:44:54.103338",
     "exception": false,
     "start_time": "2023-07-11T23:44:54.026990",
     "status": "completed"
    },
    "tags": []
   },
   "outputs": [
    {
     "name": "stdout",
     "output_type": "stream",
     "text": [
      "We are testing 1251 CellProfiler features\n",
      "The unique Treatment-Dosages are: media ctr__0__Media ctr_0.0, \n",
      "DMSO__0.100__DMSO_1.0, \n",
      "DMSO__0.100__Z-VAD-FMK_100.0, \n",
      "DMSO__0.100__Z-VAD-FMK_30.0, \n",
      "DMSO__0.100__DMSO_0.025, \n",
      "Thapsigargin__1.000__DMSO_0.025, \n",
      "Thapsigargin__10.000__DMSO_0.025, \n",
      "Topotecan__5.000__DMSO_0.025, \n",
      "Topotecan__10.000__DMSO_0.025, \n",
      "Topotecan__20.000__DMSO_0.025, \n",
      "LPS__0.010__DMSO_0.025, \n",
      "LPS__0.100__DMSO_0.025, \n",
      "LPS__1.000__DMSO_0.025, \n",
      "LPS__10.000__DMSO_0.025, \n",
      "LPS__10.000__Disulfiram_0.1, \n",
      "LPS__10.000__Disulfiram_1.0, \n",
      "LPS__10.000__Disulfiram_2.5, \n",
      "LPS_Nigericin__100.000_1.0__DMSO_0.025, \n",
      "LPS_Nigericin__100.000_3.0__DMSO_0.025, \n",
      "LPS_Nigericin__100.000_10.0__DMSO_0.025, \n",
      "Disulfiram__0.100__DMSO_0.025, \n",
      "Disulfiram__1.000__DMSO_0.025, \n",
      "Disulfiram__2.500__DMSO_0.025, \n",
      "H2O2__100.000__DMSO_0.025, \n",
      "LPS__10.000__Z-VAD-FMK_100.0, \n",
      "LPS__100.000__DMSO_0.025, \n",
      "LPS_Nigericin__1.000_1.0__DMSO_0.025, \n",
      "LPS_Nigericin__1.000_3.0__DMSO_0.025, \n",
      "LPS_Nigericin__1.000_10.0__DMSO_0.025, \n",
      "LPS_Nigericin__1.000_10.0__Disulfiram_1.0, \n",
      "LPS_Nigericin__1.000_10.0__Z-VAD-FMK_100.0, \n",
      "H2O2__100.000__Disulfiram_1.0, \n",
      "H2O2__100.000__Z-VAD-FMK_100.0, \n",
      "Flagellin__0.100__DMSO_0.025, \n",
      "Flagellin__1.000__DMSO_0.025, \n",
      "Flagellin__1.000__Disulfiram_1.0\n"
     ]
    }
   ],
   "source": [
    "cp_features = infer_cp_features(feature_df)\n",
    "print(f\"We are testing {len(cp_features)} CellProfiler features\")\n",
    "\n",
    "new_line = \"\\n\"\n",
    "print(\n",
    "    f\"The unique Treatment-Dosages are: {f', {new_line}'.join((feature_df['threeb_Metadata_Treatment_Dose_Inhibitor_Dose'].unique()))}\"\n",
    ")"
   ]
  },
  {
   "attachments": {},
   "cell_type": "markdown",
   "id": "cac054c5",
   "metadata": {
    "papermill": {
     "duration": 0.002491,
     "end_time": "2023-07-11T23:44:54.108585",
     "exception": false,
     "start_time": "2023-07-11T23:44:54.106094",
     "status": "completed"
    },
    "tags": []
   },
   "source": [
    "#### Complex Linear Modeling (cell count beta + 3 beta approach)\n",
    "Here I run the same analysis as above but with dosage of a treatment being a factor in the linear model. All features and treatments will be exported into 1 file.\n",
    "\n",
    "Linear Model:  \n",
    "$y = \\beta _{0}x+ \\beta _{1}x+ \\beta _{2}x+ \\beta _{3}x+ \\epsilon$ where;  \n",
    "$y$ is each feature    \n",
    "$x$ is the inputed variables  \n",
    "$\\beta _{0}$ is the beta coefficient attributed to cell count.  \n",
    "$\\beta _{1}$ is the beta coefficient attributed to Inducer.   \n",
    "$\\beta _{2}$ is the beta coefficient attributed to Inducer dose.    \n",
    "$\\beta _{3}$ is the beta coefficient attributed to Inhibitor, and Inhibitor Dose.   \n",
    "$\\epsilon$ is the residual variance not explained by factors in the model"
   ]
  },
  {
   "cell_type": "code",
   "execution_count": 6,
   "id": "71cf530d",
   "metadata": {
    "execution": {
     "iopub.execute_input": "2023-07-11T23:44:54.115319Z",
     "iopub.status.busy": "2023-07-11T23:44:54.114783Z",
     "iopub.status.idle": "2023-07-11T23:49:01.317498Z",
     "shell.execute_reply": "2023-07-11T23:49:01.316946Z"
    },
    "papermill": {
     "duration": 247.208709,
     "end_time": "2023-07-11T23:49:01.319818",
     "exception": false,
     "start_time": "2023-07-11T23:44:54.111109",
     "status": "completed"
    },
    "tags": []
   },
   "outputs": [
    {
     "name": "stdout",
     "output_type": "stream",
     "text": [
      "['media ctr__0__Media ctr_0.0', 'DMSO__0.100__DMSO_0.025']\n"
     ]
    },
    {
     "name": "stdout",
     "output_type": "stream",
     "text": [
      "['DMSO__0.100__DMSO_1.0', 'DMSO__0.100__DMSO_0.025']\n"
     ]
    },
    {
     "name": "stdout",
     "output_type": "stream",
     "text": [
      "['DMSO__0.100__Z-VAD-FMK_100.0', 'DMSO__0.100__DMSO_0.025']\n"
     ]
    },
    {
     "name": "stdout",
     "output_type": "stream",
     "text": [
      "['DMSO__0.100__Z-VAD-FMK_30.0', 'DMSO__0.100__DMSO_0.025']\n"
     ]
    },
    {
     "name": "stdout",
     "output_type": "stream",
     "text": [
      "['DMSO__0.100__DMSO_0.025', 'DMSO__0.100__DMSO_0.025']\n"
     ]
    },
    {
     "name": "stdout",
     "output_type": "stream",
     "text": [
      "['Thapsigargin__1.000__DMSO_0.025', 'DMSO__0.100__DMSO_0.025']\n"
     ]
    },
    {
     "name": "stdout",
     "output_type": "stream",
     "text": [
      "['Thapsigargin__10.000__DMSO_0.025', 'DMSO__0.100__DMSO_0.025']\n"
     ]
    },
    {
     "name": "stdout",
     "output_type": "stream",
     "text": [
      "['Topotecan__5.000__DMSO_0.025', 'DMSO__0.100__DMSO_0.025']\n"
     ]
    },
    {
     "name": "stdout",
     "output_type": "stream",
     "text": [
      "['Topotecan__10.000__DMSO_0.025', 'DMSO__0.100__DMSO_0.025']\n"
     ]
    },
    {
     "name": "stdout",
     "output_type": "stream",
     "text": [
      "['Topotecan__20.000__DMSO_0.025', 'DMSO__0.100__DMSO_0.025']\n"
     ]
    },
    {
     "name": "stdout",
     "output_type": "stream",
     "text": [
      "['LPS__0.010__DMSO_0.025', 'DMSO__0.100__DMSO_0.025']\n"
     ]
    },
    {
     "name": "stdout",
     "output_type": "stream",
     "text": [
      "['LPS__0.100__DMSO_0.025', 'DMSO__0.100__DMSO_0.025']\n"
     ]
    },
    {
     "name": "stdout",
     "output_type": "stream",
     "text": [
      "['LPS__1.000__DMSO_0.025', 'DMSO__0.100__DMSO_0.025']\n"
     ]
    },
    {
     "name": "stdout",
     "output_type": "stream",
     "text": [
      "['LPS__10.000__DMSO_0.025', 'DMSO__0.100__DMSO_0.025']\n"
     ]
    },
    {
     "name": "stdout",
     "output_type": "stream",
     "text": [
      "['LPS__10.000__Disulfiram_0.1', 'DMSO__0.100__DMSO_0.025']\n"
     ]
    },
    {
     "name": "stdout",
     "output_type": "stream",
     "text": [
      "['LPS__10.000__Disulfiram_1.0', 'DMSO__0.100__DMSO_0.025']\n"
     ]
    },
    {
     "name": "stdout",
     "output_type": "stream",
     "text": [
      "['LPS__10.000__Disulfiram_2.5', 'DMSO__0.100__DMSO_0.025']\n"
     ]
    },
    {
     "name": "stdout",
     "output_type": "stream",
     "text": [
      "['LPS_Nigericin__100.000_1.0__DMSO_0.025', 'DMSO__0.100__DMSO_0.025']\n"
     ]
    },
    {
     "name": "stdout",
     "output_type": "stream",
     "text": [
      "['LPS_Nigericin__100.000_3.0__DMSO_0.025', 'DMSO__0.100__DMSO_0.025']\n"
     ]
    },
    {
     "name": "stdout",
     "output_type": "stream",
     "text": [
      "['LPS_Nigericin__100.000_10.0__DMSO_0.025', 'DMSO__0.100__DMSO_0.025']\n"
     ]
    },
    {
     "name": "stdout",
     "output_type": "stream",
     "text": [
      "['Disulfiram__0.100__DMSO_0.025', 'DMSO__0.100__DMSO_0.025']\n"
     ]
    },
    {
     "name": "stdout",
     "output_type": "stream",
     "text": [
      "['Disulfiram__1.000__DMSO_0.025', 'DMSO__0.100__DMSO_0.025']\n"
     ]
    },
    {
     "name": "stdout",
     "output_type": "stream",
     "text": [
      "['Disulfiram__2.500__DMSO_0.025', 'DMSO__0.100__DMSO_0.025']\n"
     ]
    },
    {
     "name": "stdout",
     "output_type": "stream",
     "text": [
      "['H2O2__100.000__DMSO_0.025', 'DMSO__0.100__DMSO_0.025']\n"
     ]
    },
    {
     "name": "stdout",
     "output_type": "stream",
     "text": [
      "['LPS__10.000__Z-VAD-FMK_100.0', 'DMSO__0.100__DMSO_0.025']\n"
     ]
    },
    {
     "name": "stdout",
     "output_type": "stream",
     "text": [
      "['LPS__100.000__DMSO_0.025', 'DMSO__0.100__DMSO_0.025']\n"
     ]
    },
    {
     "name": "stdout",
     "output_type": "stream",
     "text": [
      "['LPS_Nigericin__1.000_1.0__DMSO_0.025', 'DMSO__0.100__DMSO_0.025']\n"
     ]
    },
    {
     "name": "stdout",
     "output_type": "stream",
     "text": [
      "['LPS_Nigericin__1.000_3.0__DMSO_0.025', 'DMSO__0.100__DMSO_0.025']\n"
     ]
    },
    {
     "name": "stdout",
     "output_type": "stream",
     "text": [
      "['LPS_Nigericin__1.000_10.0__DMSO_0.025', 'DMSO__0.100__DMSO_0.025']\n"
     ]
    },
    {
     "name": "stdout",
     "output_type": "stream",
     "text": [
      "['LPS_Nigericin__1.000_10.0__Disulfiram_1.0', 'DMSO__0.100__DMSO_0.025']\n"
     ]
    },
    {
     "name": "stdout",
     "output_type": "stream",
     "text": [
      "['LPS_Nigericin__1.000_10.0__Z-VAD-FMK_100.0', 'DMSO__0.100__DMSO_0.025']\n"
     ]
    },
    {
     "name": "stdout",
     "output_type": "stream",
     "text": [
      "['H2O2__100.000__Disulfiram_1.0', 'DMSO__0.100__DMSO_0.025']\n"
     ]
    },
    {
     "name": "stdout",
     "output_type": "stream",
     "text": [
      "['H2O2__100.000__Z-VAD-FMK_100.0', 'DMSO__0.100__DMSO_0.025']\n"
     ]
    },
    {
     "name": "stdout",
     "output_type": "stream",
     "text": [
      "['Flagellin__0.100__DMSO_0.025', 'DMSO__0.100__DMSO_0.025']\n"
     ]
    },
    {
     "name": "stdout",
     "output_type": "stream",
     "text": [
      "['Flagellin__1.000__DMSO_0.025', 'DMSO__0.100__DMSO_0.025']\n"
     ]
    },
    {
     "name": "stdout",
     "output_type": "stream",
     "text": [
      "['Flagellin__1.000__Disulfiram_1.0', 'DMSO__0.100__DMSO_0.025']\n"
     ]
    }
   ],
   "source": [
    "# Loop for each treatment then each feature\n",
    "\n",
    "# define the control and treatment\n",
    "# Setup linear modeling framework\n",
    "model_covariates = [\"Metadata_number_of_singlecells\"]\n",
    "control = \"DMSO__0.100__DMSO_0.025\"\n",
    "lm_results = []\n",
    "for treatment in feature_df[\"threeb_Metadata_Treatment_Dose_Inhibitor_Dose\"].unique():\n",
    "    dosage_treatments_list = [treatment, control]\n",
    "    print(dosage_treatments_list)\n",
    "    df = feature_df.query(\n",
    "        \"threeb_Metadata_Treatment_Dose_Inhibitor_Dose in @dosage_treatments_list\"\n",
    "    )\n",
    "    # Add dummy matrix of categorical genotypes\n",
    "    df[\n",
    "        [\n",
    "            \"threeb_Treatment\",\n",
    "            \"threeb_Treatment_Dose\",\n",
    "            \"threeb_Inhibitor_and_Dose\",\n",
    "        ]\n",
    "    ] = df[\"threeb_Metadata_Treatment_Dose_Inhibitor_Dose\"].str.split(\"__\", expand=True)\n",
    "    tmp_df = df.loc[\n",
    "        :, (\"threeb_Treatment\", \"threeb_Treatment_Dose\", \"threeb_Inhibitor_and_Dose\")\n",
    "    ]\n",
    "\n",
    "    tmp_df[\"threeb_Treatment\"] = LabelEncoder().fit_transform(\n",
    "        tmp_df[\"threeb_Treatment\"]\n",
    "    )\n",
    "    tmp_df[\"threeb_Treatment_Dose\"] = LabelEncoder().fit_transform(\n",
    "        tmp_df[\"threeb_Treatment_Dose\"]\n",
    "    )\n",
    "    tmp_df[\"threeb_Inhibitor_and_Dose\"] = LabelEncoder().fit_transform(\n",
    "        tmp_df[\"threeb_Inhibitor_and_Dose\"]\n",
    "    )\n",
    "\n",
    "    X = pd.concat([df.loc[:, model_covariates], tmp_df], axis=1)\n",
    "    columns_list = (\n",
    "        [\"feature\", \"r2_score\"]\n",
    "        + X.columns.tolist()\n",
    "        + [\n",
    "            \"inducer1__inducer1_dose__inhibitor_inhibitor_dose\",\n",
    "        ]\n",
    "    )\n",
    "\n",
    "    # Fit linear model for each feature\n",
    "    for cp_feature in cp_features:\n",
    "        # Subset CP data to each individual feature (univariate test)\n",
    "        cp_subset_df = df.loc[:, cp_feature]\n",
    "\n",
    "        # Fit linear model\n",
    "        lm = LinearRegression(fit_intercept=True)\n",
    "        lm_result = lm.fit(X=X, y=cp_subset_df)\n",
    "\n",
    "        # Extract Beta coefficients\n",
    "        # (contribution of feature to X covariates)\n",
    "        coef = list(lm_result.coef_)\n",
    "        # Estimate fit (R^2)\n",
    "        r2_score = lm.score(X=X, y=cp_subset_df)\n",
    "\n",
    "        # Add results to a growing list\n",
    "        lm_results.append(\n",
    "            [cp_feature, r2_score]\n",
    "            + coef\n",
    "            + [\n",
    "                treatment,\n",
    "            ]\n",
    "        )\n",
    "\n",
    "# Convert results to a pandas DataFrame\n",
    "lm_results_df = pd.DataFrame(lm_results, columns=columns_list)\n",
    "\n",
    "# write output to file\n",
    "lm_results_df.to_csv(three_beta_output_file_path, sep=\"\\t\", index=False)"
   ]
  }
 ],
 "metadata": {
  "kernelspec": {
   "display_name": "Interstellar",
   "language": "python",
   "name": "python3"
  },
  "language_info": {
   "codemirror_mode": {
    "name": "ipython",
    "version": 3
   },
   "file_extension": ".py",
   "mimetype": "text/x-python",
   "name": "python",
   "nbconvert_exporter": "python",
   "pygments_lexer": "ipython3",
   "version": "3.10.12"
  },
  "papermill": {
   "default_parameters": {},
   "duration": 253.796765,
   "end_time": "2023-07-11T23:49:02.148145",
   "environment_variables": {},
   "exception": null,
   "input_path": "1c.fit_linear_model_3beta.ipynb",
   "output_path": "1c.fit_linear_model_3beta.ipynb",
   "parameters": {
    "celltype": "SHSY5Y"
   },
   "start_time": "2023-07-11T23:44:48.351380",
   "version": "2.4.0"
  },
  "vscode": {
   "interpreter": {
    "hash": "72ae02083a9ca7d143c492d1aec380c7bf553ec51bd66e90e72bba65228121b6"
   }
  }
 },
 "nbformat": 4,
 "nbformat_minor": 5
}