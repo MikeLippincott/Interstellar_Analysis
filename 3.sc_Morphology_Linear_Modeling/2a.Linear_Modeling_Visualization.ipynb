{
 "cells": [
  {
   "cell_type": "code",
   "execution_count": 1,
   "id": "c4549d80",
   "metadata": {
    "vscode": {
     "languageId": "r"
    }
   },
   "outputs": [
    {
     "name": "stderr",
     "output_type": "stream",
     "text": [
      "Warning message:\n",
      "“package ‘ggplot2’ was built under R version 4.2.3”\n"
     ]
    }
   ],
   "source": [
    "suppressPackageStartupMessages(library(ggplot2))\n",
    "suppressPackageStartupMessages(library(dplyr))\n",
    "suppressPackageStartupMessages(library(argparse))"
   ]
  },
  {
   "cell_type": "markdown",
   "id": "65fe30fa",
   "metadata": {},
   "source": [
    "## One Beta Model Vizualization"
   ]
  },
  {
   "cell_type": "code",
   "execution_count": 2,
   "id": "4be58284",
   "metadata": {
    "vscode": {
     "languageId": "r"
    }
   },
   "outputs": [],
   "source": [
    "# define command line arguments\n",
    "parser <- ArgumentParser(description = \"Visualize linear modeling results\")\n",
    "# add arguments\n",
    "parser$add_argument('--celltype', type='character', help='Cell type to visualize')\n",
    "\n",
    "# parse arguments from command line\n",
    "args <- parser$parse_args()\n",
    "\n",
    "# define cell type\n",
    "celltype <- args$celltype\n"
   ]
  },
  {
   "cell_type": "code",
   "execution_count": 4,
   "id": "f86de8b4",
   "metadata": {
    "vscode": {
     "languageId": "r"
    }
   },
   "outputs": [
    {
     "data": {
      "text/html": [
       "<table class=\"dataframe\">\n",
       "<caption>A tibble: 2 × 5</caption>\n",
       "<thead>\n",
       "\t<tr><th scope=col>feature</th><th scope=col>r2_score</th><th scope=col>Metadata_number_of_singlecells</th><th scope=col>oneb_Metadata_Treatment_Dose_Inhibitor_Dose</th><th scope=col>dosage_treatments_list</th></tr>\n",
       "\t<tr><th scope=col>&lt;chr&gt;</th><th scope=col>&lt;dbl&gt;</th><th scope=col>&lt;dbl&gt;</th><th scope=col>&lt;dbl&gt;</th><th scope=col>&lt;chr&gt;</th></tr>\n",
       "</thead>\n",
       "<tbody>\n",
       "\t<tr><td>Cytoplasm_AreaShape_Compactness </td><td>0.0010758123</td><td>-7.546792e-05</td><td>-0.0806838829</td><td>media ctr_0_Media ctr_0.0-DMSO_0.100_DMSO_0.025</td></tr>\n",
       "\t<tr><td>Cytoplasm_AreaShape_Eccentricity</td><td>0.0005340345</td><td>-6.444612e-05</td><td>-0.0009844432</td><td>media ctr_0_Media ctr_0.0-DMSO_0.100_DMSO_0.025</td></tr>\n",
       "</tbody>\n",
       "</table>\n"
      ],
      "text/latex": [
       "A tibble: 2 × 5\n",
       "\\begin{tabular}{lllll}\n",
       " feature & r2\\_score & Metadata\\_number\\_of\\_singlecells & oneb\\_Metadata\\_Treatment\\_Dose\\_Inhibitor\\_Dose & dosage\\_treatments\\_list\\\\\n",
       " <chr> & <dbl> & <dbl> & <dbl> & <chr>\\\\\n",
       "\\hline\n",
       "\t Cytoplasm\\_AreaShape\\_Compactness  & 0.0010758123 & -7.546792e-05 & -0.0806838829 & media ctr\\_0\\_Media ctr\\_0.0-DMSO\\_0.100\\_DMSO\\_0.025\\\\\n",
       "\t Cytoplasm\\_AreaShape\\_Eccentricity & 0.0005340345 & -6.444612e-05 & -0.0009844432 & media ctr\\_0\\_Media ctr\\_0.0-DMSO\\_0.100\\_DMSO\\_0.025\\\\\n",
       "\\end{tabular}\n"
      ],
      "text/markdown": [
       "\n",
       "A tibble: 2 × 5\n",
       "\n",
       "| feature &lt;chr&gt; | r2_score &lt;dbl&gt; | Metadata_number_of_singlecells &lt;dbl&gt; | oneb_Metadata_Treatment_Dose_Inhibitor_Dose &lt;dbl&gt; | dosage_treatments_list &lt;chr&gt; |\n",
       "|---|---|---|---|---|\n",
       "| Cytoplasm_AreaShape_Compactness  | 0.0010758123 | -7.546792e-05 | -0.0806838829 | media ctr_0_Media ctr_0.0-DMSO_0.100_DMSO_0.025 |\n",
       "| Cytoplasm_AreaShape_Eccentricity | 0.0005340345 | -6.444612e-05 | -0.0009844432 | media ctr_0_Media ctr_0.0-DMSO_0.100_DMSO_0.025 |\n",
       "\n"
      ],
      "text/plain": [
       "  feature                          r2_score     Metadata_number_of_singlecells\n",
       "1 Cytoplasm_AreaShape_Compactness  0.0010758123 -7.546792e-05                 \n",
       "2 Cytoplasm_AreaShape_Eccentricity 0.0005340345 -6.444612e-05                 \n",
       "  oneb_Metadata_Treatment_Dose_Inhibitor_Dose\n",
       "1 -0.0806838829                              \n",
       "2 -0.0009844432                              \n",
       "  dosage_treatments_list                         \n",
       "1 media ctr_0_Media ctr_0.0-DMSO_0.100_DMSO_0.025\n",
       "2 media ctr_0_Media ctr_0.0-DMSO_0.100_DMSO_0.025"
      ]
     },
     "metadata": {},
     "output_type": "display_data"
    }
   ],
   "source": [
    "# lm file path\n",
    "lm_file <- file.path(paste0(\"./results/\", celltype, \"/lm_one_beta.tsv\"))\n",
    "\n",
    "# figure paths\n",
    "# scatter plot of beta values\n",
    "lm_cp_fig <- file.path(paste0(\"./figures/\", celltype, \"/lm_one_beta_scatter.pdf\"))\n",
    "# scatter plot of absolute beta values\n",
    "lm_cp_fig_abs <- file.path(paste0(\"./figures/\", celltype, \"/lm_one_beta_scatter_abs.pdf\"))\n",
    "# scatter plot of beta values with facet and feature type coloring\n",
    "lm_facet_fig <- file.path(paste0(\"./figures/\", celltype, \"/lm_one_beta_facet_beta.pdf\"))\n",
    "# plot of beta values per cellular compartment and feature type\n",
    "lm_coef_fig <- file.path(paste0(\"./figures/\", celltype, \"/lm_one_beta_coef_per_compartment.pdf\"))\n",
    "\n",
    "# if path does not exist, create it\n",
    "if (!dir.exists(file.path(paste0(\"./figures/\", celltype)))) {\n",
    "    dir.create(file.path(paste0(\"./figures/\", celltype)))\n",
    "}\n",
    "\n",
    "# read in linear modeling results\n",
    "lm_df <- readr::read_tsv(lm_file, col_types = readr::cols(.default = \"d\", feature =\"c\", dosage_treatments_list = \"c\"))\n",
    "head(lm_df, 2)"
   ]
  },
  {
   "cell_type": "code",
   "execution_count": 5,
   "id": "8213038c",
   "metadata": {
    "vscode": {
     "languageId": "r"
    }
   },
   "outputs": [
    {
     "name": "stderr",
     "output_type": "stream",
     "text": [
      "Warning message:\n",
      "“\u001b[1m\u001b[22mExpected 6 pieces. Additional pieces discarded in 7956 rows [2, 4, 5, 8, 10,\n",
      "12, 13, 14, 17, 18, 19, 21, 23, 24, 25, 26, 27, 30, 32, 33, ...].”\n",
      "Warning message:\n",
      "“\u001b[1m\u001b[22mExpected 6 pieces. Missing pieces filled with `NA` in 15264 rows [1, 3, 6, 7,\n",
      "9, 11, 15, 16, 20, 22, 28, 29, 31, 34, 39, 40, 41, 43, 44, 45, ...].”\n"
     ]
    }
   ],
   "source": [
    "lm_df <- lm_df %>%\n",
    "    dplyr::arrange(desc(abs(oneb_Metadata_Treatment_Dose_Inhibitor_Dose))) %>%\n",
    "    tidyr::separate(\n",
    "        feature,\n",
    "        into = c(\n",
    "            \"compartment\",\n",
    "            \"feature_group\",\n",
    "            \"measurement\",\n",
    "            \"channel\", \n",
    "            \"parameter1\", \n",
    "            \"parameter2\"\n",
    "        ),\n",
    "        sep = \"_\",\n",
    "        remove = FALSE\n",
    "    ) %>%\n",
    "    dplyr::mutate(channel_cleaned = channel) %>%\n",
    "    dplyr::arrange(desc(abs(oneb_Metadata_Treatment_Dose_Inhibitor_Dose)))\n",
    "\n",
    "# Clean channel for visualization\n",
    "lm_df$channel_learned <- dplyr::recode(lm_df$channel_cleaned,\n",
    "        \"CorrDNA\" = \"nuclei\",\n",
    "        \"CorrMito\" = \"Mito\",\n",
    "        \"CorrER\" = \"ER\",\n",
    "        \"CorrGasdermin\" = \"gasdermin\",\n",
    "        \"CorrPM\" = \"PM\",\n",
    "        .default = \"other\",\n",
    "        .missing=\"other\"\n",
    "    )"
   ]
  },
  {
   "cell_type": "code",
   "execution_count": 9,
   "id": "7bc88313",
   "metadata": {
    "vscode": {
     "languageId": "r"
    }
   },
   "outputs": [
    {
     "data": {
      "text/html": [
       "<table class=\"dataframe\">\n",
       "<caption>A tibble: 2 × 13</caption>\n",
       "<thead>\n",
       "\t<tr><th scope=col>feature</th><th scope=col>compartment</th><th scope=col>feature_group</th><th scope=col>measurement</th><th scope=col>channel</th><th scope=col>parameter1</th><th scope=col>parameter2</th><th scope=col>r2_score</th><th scope=col>Metadata_number_of_singlecells</th><th scope=col>oneb_Metadata_Treatment_Dose_Inhibitor_Dose</th><th scope=col>dosage_treatments_list</th><th scope=col>channel_cleaned</th><th scope=col>channel_learned</th></tr>\n",
       "\t<tr><th scope=col>&lt;chr&gt;</th><th scope=col>&lt;chr&gt;</th><th scope=col>&lt;chr&gt;</th><th scope=col>&lt;chr&gt;</th><th scope=col>&lt;chr&gt;</th><th scope=col>&lt;chr&gt;</th><th scope=col>&lt;chr&gt;</th><th scope=col>&lt;dbl&gt;</th><th scope=col>&lt;dbl&gt;</th><th scope=col>&lt;dbl&gt;</th><th scope=col>&lt;chr&gt;</th><th scope=col>&lt;chr&gt;</th><th scope=col>&lt;chr&gt;</th></tr>\n",
       "</thead>\n",
       "<tbody>\n",
       "\t<tr><td>Cytoplasm_Correlation_RWC_CorrPM_CorrMito            </td><td>Cytoplasm</td><td>Correlation</td><td>RWC              </td><td>CorrPM  </td><td>CorrMito</td><td>NA</td><td>0.3742011</td><td>-0.0002044911</td><td>-2.760298</td><td>H2O2_100.000_Disulfiram_1.0-DMSO_0.100_DMSO_0.025          </td><td>CorrPM  </td><td>PM  </td></tr>\n",
       "\t<tr><td>Cytoplasm_Texture_DifferenceEntropy_CorrMito_3_00_256</td><td>Cytoplasm</td><td>Texture    </td><td>DifferenceEntropy</td><td>CorrMito</td><td>3       </td><td>00</td><td>0.4806035</td><td> 0.0003742630</td><td> 2.696151</td><td>LPS_Nigericin_100.000_10.0_DMSO_0.025-DMSO_0.100_DMSO_0.025</td><td>CorrMito</td><td>Mito</td></tr>\n",
       "</tbody>\n",
       "</table>\n"
      ],
      "text/latex": [
       "A tibble: 2 × 13\n",
       "\\begin{tabular}{lllllllllllll}\n",
       " feature & compartment & feature\\_group & measurement & channel & parameter1 & parameter2 & r2\\_score & Metadata\\_number\\_of\\_singlecells & oneb\\_Metadata\\_Treatment\\_Dose\\_Inhibitor\\_Dose & dosage\\_treatments\\_list & channel\\_cleaned & channel\\_learned\\\\\n",
       " <chr> & <chr> & <chr> & <chr> & <chr> & <chr> & <chr> & <dbl> & <dbl> & <dbl> & <chr> & <chr> & <chr>\\\\\n",
       "\\hline\n",
       "\t Cytoplasm\\_Correlation\\_RWC\\_CorrPM\\_CorrMito             & Cytoplasm & Correlation & RWC               & CorrPM   & CorrMito & NA & 0.3742011 & -0.0002044911 & -2.760298 & H2O2\\_100.000\\_Disulfiram\\_1.0-DMSO\\_0.100\\_DMSO\\_0.025           & CorrPM   & PM  \\\\\n",
       "\t Cytoplasm\\_Texture\\_DifferenceEntropy\\_CorrMito\\_3\\_00\\_256 & Cytoplasm & Texture     & DifferenceEntropy & CorrMito & 3        & 00 & 0.4806035 &  0.0003742630 &  2.696151 & LPS\\_Nigericin\\_100.000\\_10.0\\_DMSO\\_0.025-DMSO\\_0.100\\_DMSO\\_0.025 & CorrMito & Mito\\\\\n",
       "\\end{tabular}\n"
      ],
      "text/markdown": [
       "\n",
       "A tibble: 2 × 13\n",
       "\n",
       "| feature &lt;chr&gt; | compartment &lt;chr&gt; | feature_group &lt;chr&gt; | measurement &lt;chr&gt; | channel &lt;chr&gt; | parameter1 &lt;chr&gt; | parameter2 &lt;chr&gt; | r2_score &lt;dbl&gt; | Metadata_number_of_singlecells &lt;dbl&gt; | oneb_Metadata_Treatment_Dose_Inhibitor_Dose &lt;dbl&gt; | dosage_treatments_list &lt;chr&gt; | channel_cleaned &lt;chr&gt; | channel_learned &lt;chr&gt; |\n",
       "|---|---|---|---|---|---|---|---|---|---|---|---|---|\n",
       "| Cytoplasm_Correlation_RWC_CorrPM_CorrMito             | Cytoplasm | Correlation | RWC               | CorrPM   | CorrMito | NA | 0.3742011 | -0.0002044911 | -2.760298 | H2O2_100.000_Disulfiram_1.0-DMSO_0.100_DMSO_0.025           | CorrPM   | PM   |\n",
       "| Cytoplasm_Texture_DifferenceEntropy_CorrMito_3_00_256 | Cytoplasm | Texture     | DifferenceEntropy | CorrMito | 3        | 00 | 0.4806035 |  0.0003742630 |  2.696151 | LPS_Nigericin_100.000_10.0_DMSO_0.025-DMSO_0.100_DMSO_0.025 | CorrMito | Mito |\n",
       "\n"
      ],
      "text/plain": [
       "  feature                                               compartment\n",
       "1 Cytoplasm_Correlation_RWC_CorrPM_CorrMito             Cytoplasm  \n",
       "2 Cytoplasm_Texture_DifferenceEntropy_CorrMito_3_00_256 Cytoplasm  \n",
       "  feature_group measurement       channel  parameter1 parameter2 r2_score \n",
       "1 Correlation   RWC               CorrPM   CorrMito   NA         0.3742011\n",
       "2 Texture       DifferenceEntropy CorrMito 3          00         0.4806035\n",
       "  Metadata_number_of_singlecells oneb_Metadata_Treatment_Dose_Inhibitor_Dose\n",
       "1 -0.0002044911                  -2.760298                                  \n",
       "2  0.0003742630                   2.696151                                  \n",
       "  dosage_treatments_list                                      channel_cleaned\n",
       "1 H2O2_100.000_Disulfiram_1.0-DMSO_0.100_DMSO_0.025           CorrPM         \n",
       "2 LPS_Nigericin_100.000_10.0_DMSO_0.025-DMSO_0.100_DMSO_0.025 CorrMito       \n",
       "  channel_learned\n",
       "1 PM             \n",
       "2 Mito           "
      ]
     },
     "metadata": {},
     "output_type": "display_data"
    }
   ],
   "source": [
    "head(lm_df, 2)"
   ]
  },
  {
   "cell_type": "code",
   "execution_count": 10,
   "id": "e599b3ec",
   "metadata": {
    "vscode": {
     "languageId": "r"
    }
   },
   "outputs": [
    {
     "name": "stdout",
     "output_type": "stream",
     "text": [
      "[1] 45036    13\n"
     ]
    },
    {
     "data": {
      "text/html": [
       "<table class=\"dataframe\">\n",
       "<caption>A tibble: 2 × 13</caption>\n",
       "<thead>\n",
       "\t<tr><th scope=col>feature</th><th scope=col>compartment</th><th scope=col>feature_group</th><th scope=col>measurement</th><th scope=col>channel</th><th scope=col>parameter1</th><th scope=col>parameter2</th><th scope=col>r2_score</th><th scope=col>Metadata_number_of_singlecells</th><th scope=col>oneb_Metadata_Treatment_Dose_Inhibitor_Dose</th><th scope=col>dosage_treatments_list</th><th scope=col>channel_cleaned</th><th scope=col>channel_learned</th></tr>\n",
       "\t<tr><th scope=col>&lt;chr&gt;</th><th scope=col>&lt;chr&gt;</th><th scope=col>&lt;chr&gt;</th><th scope=col>&lt;chr&gt;</th><th scope=col>&lt;chr&gt;</th><th scope=col>&lt;chr&gt;</th><th scope=col>&lt;chr&gt;</th><th scope=col>&lt;dbl&gt;</th><th scope=col>&lt;dbl&gt;</th><th scope=col>&lt;dbl&gt;</th><th scope=col>&lt;chr&gt;</th><th scope=col>&lt;chr&gt;</th><th scope=col>&lt;chr&gt;</th></tr>\n",
       "</thead>\n",
       "<tbody>\n",
       "\t<tr><td>Cytoplasm_Correlation_RWC_CorrPM_CorrMito            </td><td>Cytoplasm</td><td>Correlation</td><td>RWC              </td><td>CorrPM  </td><td>CorrMito</td><td>NA</td><td>0.3742011</td><td>-0.0002044911</td><td>-2.760298</td><td>H2O2_100.000_Disulfiram_1.0-DMSO_0.100_DMSO_0.025          </td><td>CorrPM  </td><td>PM  </td></tr>\n",
       "\t<tr><td>Cytoplasm_Texture_DifferenceEntropy_CorrMito_3_00_256</td><td>Cytoplasm</td><td>Texture    </td><td>DifferenceEntropy</td><td>CorrMito</td><td>3       </td><td>00</td><td>0.4806035</td><td> 0.0003742630</td><td> 2.696151</td><td>LPS_Nigericin_100.000_10.0_DMSO_0.025-DMSO_0.100_DMSO_0.025</td><td>CorrMito</td><td>Mito</td></tr>\n",
       "</tbody>\n",
       "</table>\n"
      ],
      "text/latex": [
       "A tibble: 2 × 13\n",
       "\\begin{tabular}{lllllllllllll}\n",
       " feature & compartment & feature\\_group & measurement & channel & parameter1 & parameter2 & r2\\_score & Metadata\\_number\\_of\\_singlecells & oneb\\_Metadata\\_Treatment\\_Dose\\_Inhibitor\\_Dose & dosage\\_treatments\\_list & channel\\_cleaned & channel\\_learned\\\\\n",
       " <chr> & <chr> & <chr> & <chr> & <chr> & <chr> & <chr> & <dbl> & <dbl> & <dbl> & <chr> & <chr> & <chr>\\\\\n",
       "\\hline\n",
       "\t Cytoplasm\\_Correlation\\_RWC\\_CorrPM\\_CorrMito             & Cytoplasm & Correlation & RWC               & CorrPM   & CorrMito & NA & 0.3742011 & -0.0002044911 & -2.760298 & H2O2\\_100.000\\_Disulfiram\\_1.0-DMSO\\_0.100\\_DMSO\\_0.025           & CorrPM   & PM  \\\\\n",
       "\t Cytoplasm\\_Texture\\_DifferenceEntropy\\_CorrMito\\_3\\_00\\_256 & Cytoplasm & Texture     & DifferenceEntropy & CorrMito & 3        & 00 & 0.4806035 &  0.0003742630 &  2.696151 & LPS\\_Nigericin\\_100.000\\_10.0\\_DMSO\\_0.025-DMSO\\_0.100\\_DMSO\\_0.025 & CorrMito & Mito\\\\\n",
       "\\end{tabular}\n"
      ],
      "text/markdown": [
       "\n",
       "A tibble: 2 × 13\n",
       "\n",
       "| feature &lt;chr&gt; | compartment &lt;chr&gt; | feature_group &lt;chr&gt; | measurement &lt;chr&gt; | channel &lt;chr&gt; | parameter1 &lt;chr&gt; | parameter2 &lt;chr&gt; | r2_score &lt;dbl&gt; | Metadata_number_of_singlecells &lt;dbl&gt; | oneb_Metadata_Treatment_Dose_Inhibitor_Dose &lt;dbl&gt; | dosage_treatments_list &lt;chr&gt; | channel_cleaned &lt;chr&gt; | channel_learned &lt;chr&gt; |\n",
       "|---|---|---|---|---|---|---|---|---|---|---|---|---|\n",
       "| Cytoplasm_Correlation_RWC_CorrPM_CorrMito             | Cytoplasm | Correlation | RWC               | CorrPM   | CorrMito | NA | 0.3742011 | -0.0002044911 | -2.760298 | H2O2_100.000_Disulfiram_1.0-DMSO_0.100_DMSO_0.025           | CorrPM   | PM   |\n",
       "| Cytoplasm_Texture_DifferenceEntropy_CorrMito_3_00_256 | Cytoplasm | Texture     | DifferenceEntropy | CorrMito | 3        | 00 | 0.4806035 |  0.0003742630 |  2.696151 | LPS_Nigericin_100.000_10.0_DMSO_0.025-DMSO_0.100_DMSO_0.025 | CorrMito | Mito |\n",
       "\n"
      ],
      "text/plain": [
       "  feature                                               compartment\n",
       "1 Cytoplasm_Correlation_RWC_CorrPM_CorrMito             Cytoplasm  \n",
       "2 Cytoplasm_Texture_DifferenceEntropy_CorrMito_3_00_256 Cytoplasm  \n",
       "  feature_group measurement       channel  parameter1 parameter2 r2_score \n",
       "1 Correlation   RWC               CorrPM   CorrMito   NA         0.3742011\n",
       "2 Texture       DifferenceEntropy CorrMito 3          00         0.4806035\n",
       "  Metadata_number_of_singlecells oneb_Metadata_Treatment_Dose_Inhibitor_Dose\n",
       "1 -0.0002044911                  -2.760298                                  \n",
       "2  0.0003742630                   2.696151                                  \n",
       "  dosage_treatments_list                                      channel_cleaned\n",
       "1 H2O2_100.000_Disulfiram_1.0-DMSO_0.100_DMSO_0.025           CorrPM         \n",
       "2 LPS_Nigericin_100.000_10.0_DMSO_0.025-DMSO_0.100_DMSO_0.025 CorrMito       \n",
       "  channel_learned\n",
       "1 PM             \n",
       "2 Mito           "
      ]
     },
     "metadata": {},
     "output_type": "display_data"
    },
    {
     "data": {
      "text/html": [
       "<style>\n",
       ".list-inline {list-style: none; margin:0; padding: 0}\n",
       ".list-inline>li {display: inline-block}\n",
       ".list-inline>li:not(:last-child)::after {content: \"\\00b7\"; padding: 0 .5ex}\n",
       "</style>\n",
       "<ol class=list-inline><li>'PM'</li><li>'Mito'</li><li>'gasdermin'</li><li>'ER'</li><li>'nuclei'</li><li>'other'</li></ol>\n"
      ],
      "text/latex": [
       "\\begin{enumerate*}\n",
       "\\item 'PM'\n",
       "\\item 'Mito'\n",
       "\\item 'gasdermin'\n",
       "\\item 'ER'\n",
       "\\item 'nuclei'\n",
       "\\item 'other'\n",
       "\\end{enumerate*}\n"
      ],
      "text/markdown": [
       "1. 'PM'\n",
       "2. 'Mito'\n",
       "3. 'gasdermin'\n",
       "4. 'ER'\n",
       "5. 'nuclei'\n",
       "6. 'other'\n",
       "\n",
       "\n"
      ],
      "text/plain": [
       "[1] \"PM\"        \"Mito\"      \"gasdermin\" \"ER\"        \"nuclei\"    \"other\"    "
      ]
     },
     "metadata": {},
     "output_type": "display_data"
    }
   ],
   "source": [
    "print(dim(lm_df))\n",
    "head(lm_df, 2)\n",
    "unique(lm_df$channel_learned)\n",
    "lm_df$abs_Metadata_number_of_singlecells <- abs(lm_df$Metadata_number_of_singlecells)\n",
    "lm_df$abs_oneb_Metadata_Treatment_Dose_Inhibitor_Dose <- abs(lm_df$oneb_Metadata_Treatment_Dose_Inhibitor_Dose)"
   ]
  },
  {
   "cell_type": "code",
   "execution_count": 11,
   "id": "a429584c",
   "metadata": {
    "vscode": {
     "languageId": "r"
    }
   },
   "outputs": [],
   "source": [
    "loop_list <- unique(lm_df$dosage_treatments_list)\n",
    "# drop 'DMSO_0.100_DMSO_0.025-DMSO_0.100_DMSO_0.025' from loop_list to avoid error in plotting\n",
    "loop_list <- loop_list[!grepl('DMSO_0.100_DMSO_0.025-DMSO_0.100_DMSO_0.025', loop_list)]"
   ]
  },
  {
   "cell_type": "markdown",
   "id": "b624e682",
   "metadata": {},
   "source": [
    "### Scatter plot generation for Treatment vs. Control beta coefficients vs cell count beta coefficients"
   ]
  },
  {
   "cell_type": "code",
   "execution_count": 12,
   "id": "4873b1f4",
   "metadata": {
    "vscode": {
     "languageId": "r"
    }
   },
   "outputs": [
    {
     "data": {
      "text/html": [
       "<strong>png:</strong> 2"
      ],
      "text/latex": [
       "\\textbf{png:} 2"
      ],
      "text/markdown": [
       "**png:** 2"
      ],
      "text/plain": [
       "png \n",
       "  2 "
      ]
     },
     "metadata": {},
     "output_type": "display_data"
    }
   ],
   "source": [
    "pdf(file=lm_cp_fig)\n",
    "for (i in 1:length(loop_list)){\n",
    "    \n",
    "    df <- lm_df[lm_df$dosage_treatments_list == loop_list[i],]\n",
    "    # define the treatment without the control group (DMSO_0.025)\n",
    "    treatment = strsplit(loop_list[i], \"-D\")[[1]][1]\n",
    "\n",
    "    lm_fig_gg <- (\n",
    "        ggplot(df, aes(x = Metadata_number_of_singlecells,, y = oneb_Metadata_Treatment_Dose_Inhibitor_Dose))\n",
    "\n",
    "        + geom_point(aes(size = r2_score, color = channel_learned,), alpha = 0.7)\n",
    "\n",
    "        + scale_size_continuous(range = c(2, 8), limits = c(0, 1))\n",
    "\n",
    "\n",
    "        + geom_vline(xintercept = 0, linetype = \"dashed\", color = \"red\")\n",
    "        + geom_hline(yintercept = 0, linetype = \"dashed\", color = \"red\")\n",
    "        + geom_density2d(color=\"black\", show.legend = FALSE)\n",
    "        + theme_bw()\n",
    "        + guides(\n",
    "            color = guide_legend(title = \"Channel\\n(if applicable)\", order = 1),\n",
    "            size = guide_legend(title = \"R2 score\")\n",
    "        )\n",
    "        # make legend dots bigger\n",
    "        + ylab(\"Treatment contribution (LM beta coefficient)\")\n",
    "        + xlab(\"Cell count contribution (LM beta coefficient)\")\n",
    "        + ggtitle(paste0(\"How CellProfiler features contribute\\nto \",treatment, \" treatments and cell density\"))\n",
    "    )\n",
    "    plot(lm_fig_gg)\n",
    "}\n",
    "dev.off()\n"
   ]
  },
  {
   "cell_type": "markdown",
   "id": "ecfe971e",
   "metadata": {},
   "source": [
    "### Scatter plot generation for Absolute value Treatment vs. Control beta coefficients vs absolute value cell count beta coefficients"
   ]
  },
  {
   "cell_type": "code",
   "execution_count": 13,
   "id": "732318a5",
   "metadata": {
    "vscode": {
     "languageId": "r"
    }
   },
   "outputs": [
    {
     "data": {
      "text/html": [
       "<strong>png:</strong> 2"
      ],
      "text/latex": [
       "\\textbf{png:} 2"
      ],
      "text/markdown": [
       "**png:** 2"
      ],
      "text/plain": [
       "png \n",
       "  2 "
      ]
     },
     "metadata": {},
     "output_type": "display_data"
    }
   ],
   "source": [
    "pdf(file=lm_cp_fig_abs)\n",
    "for (i in 1:length(loop_list)){\n",
    "\n",
    "    df <- lm_df[lm_df$dosage_treatments_list == loop_list[i],]\n",
    "    # define the treatment without the control group (DMSO_0.025)\n",
    "    treatment = strsplit(loop_list[i], \"-D\")[[1]][1]\n",
    "    lm_fig_gg <- (\n",
    "        ggplot(df, aes(x = abs_oneb_Metadata_Treatment_Dose_Inhibitor_Dose, y = r2_score))\n",
    "        + geom_point(aes(size = abs_Metadata_number_of_singlecells, color = channel_learned), alpha = 0.7)\n",
    "        + scale_size_continuous(range = c(2, 8), limits = c(0, 1))\n",
    "\n",
    "\n",
    "        + theme_bw()\n",
    "        + guides(\n",
    "            color = guide_legend(title = \"Channel\\n(if applicable)\", order = 1),\n",
    "            size = guide_legend(title = \"Cell count contributution\")\n",
    "        )\n",
    "        + ylab(\"R2 score of LM feature\")\n",
    "        + xlab(\"Treatment and Dose contribution (LM beta coefficient)\")\n",
    "        + ggtitle(paste0(\"How CellProfiler features contribute\\nto \",treatment, \" treatments and cell density\"))\n",
    "    )\n",
    "\n",
    "    plot(lm_fig_gg)\n",
    "}\n",
    "dev.off()"
   ]
  },
  {
   "cell_type": "markdown",
   "id": "889017fa",
   "metadata": {},
   "source": [
    "### facet scatter plot that plots the feature type against the Treatment and dose beta coeffienct (y-axis) and the cell count beta coefficient (x-axis)\n",
    "feature types:\n",
    "* Location\n",
    "* AreaShape\n",
    "* Neighbors\n",
    "* Texture\n",
    "* Radial Distribution\n",
    "* Intensity\n",
    "* Granularity\n",
    "* Correlation"
   ]
  },
  {
   "cell_type": "code",
   "execution_count": 14,
   "id": "29c50c8b",
   "metadata": {
    "vscode": {
     "languageId": "r"
    }
   },
   "outputs": [
    {
     "data": {
      "text/html": [
       "<strong>png:</strong> 2"
      ],
      "text/latex": [
       "\\textbf{png:} 2"
      ],
      "text/markdown": [
       "**png:** 2"
      ],
      "text/plain": [
       "png \n",
       "  2 "
      ]
     },
     "metadata": {},
     "output_type": "display_data"
    }
   ],
   "source": [
    "pdf(file=lm_facet_fig)\n",
    "for (i in 1:length(loop_list)){\n",
    "    df <- lm_df[lm_df$dosage_treatments_list == loop_list[i],]\n",
    "    # define the treatment without the control group (DMSO_0.025)\n",
    "    treatment = strsplit(loop_list[i], \"-D\")[[1]][1]\n",
    "    lm_facet_fig_gg <- (\n",
    "        ggplot(df, aes(x = Metadata_number_of_singlecells, y = oneb_Metadata_Treatment_Dose_Inhibitor_Dose))\n",
    "        + geom_point(aes(size = r2_score, color = feature_group), alpha = 0.7)\n",
    "        + facet_wrap(\"~channel_learned\")\n",
    "        + geom_vline(xintercept = 0, linetype = \"dashed\", color = \"red\")\n",
    "        + geom_hline(yintercept = 0, linetype = \"dashed\", color = \"red\")\n",
    "        + scale_size_continuous(range = c(2, 8), limits = c(0, 1))\n",
    "\n",
    "        + theme_bw()\n",
    "        + guides(\n",
    "            color = guide_legend(title = \"Feature group\\n(if applicable)\", order = 1),\n",
    "            size = guide_legend(title = \"R2 score\")\n",
    "        )\n",
    "        # set x tick labels to scientific notation\n",
    "        + scale_x_continuous(labels = scales::scientific_format())\n",
    "        + ylab(\"Treatment dose contribution (LM beta coefficient)\")\n",
    "        + xlab(\"Cell count contribution (LM beta coefficient)\")\n",
    "        + ggtitle(\"How CellProfiler features (by group) contribute to treatment and cell density\")\n",
    "        + scale_color_brewer(palette=\"Dark2\")\n",
    "        + theme(\n",
    "            axis.text = element_text(size = 7),\n",
    "            axis.title = element_text(size = 10),\n",
    "            legend.text = element_text(size = 9),\n",
    "            legend.title = element_text(size = 10),\n",
    "            strip.text = element_text(size = 8),\n",
    "            strip.background = element_rect(\n",
    "                colour = \"black\",\n",
    "                fill = \"#fdfff4\"\n",
    "            )\n",
    "        )\n",
    "        + ggtitle(paste0(\"LM Coefficients for: \",treatment))\n",
    "    )\n",
    "    plot(lm_facet_fig_gg)\n",
    "}\n",
    "dev.off()\n"
   ]
  },
  {
   "cell_type": "markdown",
   "id": "0e79ff53",
   "metadata": {},
   "source": [
    "### Plot that visualizes the linear model across feature types and cellular compartments\n",
    "##### Where the cellular compartments are:\n",
    "* Nucleus\n",
    "* Cytoplasm\n",
    "* Cell  \n",
    "##### the feature types are:\n",
    "* Texture\n",
    "* Radial Distribution\n",
    "* Intensity\n",
    "* Granularity\n",
    "* Correlation"
   ]
  },
  {
   "cell_type": "code",
   "execution_count": 15,
   "id": "562d7f48",
   "metadata": {
    "vscode": {
     "languageId": "r"
    }
   },
   "outputs": [
    {
     "data": {
      "text/html": [
       "<table class=\"dataframe\">\n",
       "<caption>A tibble: 2 × 15</caption>\n",
       "<thead>\n",
       "\t<tr><th scope=col>feature</th><th scope=col>compartment</th><th scope=col>feature_group</th><th scope=col>measurement</th><th scope=col>channel</th><th scope=col>parameter1</th><th scope=col>parameter2</th><th scope=col>r2_score</th><th scope=col>Metadata_number_of_singlecells</th><th scope=col>oneb_Metadata_Treatment_Dose_Inhibitor_Dose</th><th scope=col>dosage_treatments_list</th><th scope=col>channel_cleaned</th><th scope=col>channel_learned</th><th scope=col>abs_Metadata_number_of_singlecells</th><th scope=col>abs_oneb_Metadata_Treatment_Dose_Inhibitor_Dose</th></tr>\n",
       "\t<tr><th scope=col>&lt;chr&gt;</th><th scope=col>&lt;chr&gt;</th><th scope=col>&lt;chr&gt;</th><th scope=col>&lt;chr&gt;</th><th scope=col>&lt;chr&gt;</th><th scope=col>&lt;chr&gt;</th><th scope=col>&lt;chr&gt;</th><th scope=col>&lt;dbl&gt;</th><th scope=col>&lt;dbl&gt;</th><th scope=col>&lt;dbl&gt;</th><th scope=col>&lt;chr&gt;</th><th scope=col>&lt;chr&gt;</th><th scope=col>&lt;chr&gt;</th><th scope=col>&lt;dbl&gt;</th><th scope=col>&lt;dbl&gt;</th></tr>\n",
       "</thead>\n",
       "<tbody>\n",
       "\t<tr><td>Cytoplasm_Correlation_RWC_CorrPM_CorrMito            </td><td>Cytoplasm</td><td>Correlation</td><td>RWC              </td><td>CorrPM  </td><td>CorrMito</td><td>NA</td><td>0.3742011</td><td>-0.0002044911</td><td>-2.760298</td><td>H2O2_100.000_Disulfiram_1.0-DMSO_0.100_DMSO_0.025          </td><td>CorrPM  </td><td>PM  </td><td>0.0002044911</td><td>2.760298</td></tr>\n",
       "\t<tr><td>Cytoplasm_Texture_DifferenceEntropy_CorrMito_3_00_256</td><td>Cytoplasm</td><td>Texture    </td><td>DifferenceEntropy</td><td>CorrMito</td><td>3       </td><td>00</td><td>0.4806035</td><td> 0.0003742630</td><td> 2.696151</td><td>LPS_Nigericin_100.000_10.0_DMSO_0.025-DMSO_0.100_DMSO_0.025</td><td>CorrMito</td><td>Mito</td><td>0.0003742630</td><td>2.696151</td></tr>\n",
       "</tbody>\n",
       "</table>\n"
      ],
      "text/latex": [
       "A tibble: 2 × 15\n",
       "\\begin{tabular}{lllllllllllllll}\n",
       " feature & compartment & feature\\_group & measurement & channel & parameter1 & parameter2 & r2\\_score & Metadata\\_number\\_of\\_singlecells & oneb\\_Metadata\\_Treatment\\_Dose\\_Inhibitor\\_Dose & dosage\\_treatments\\_list & channel\\_cleaned & channel\\_learned & abs\\_Metadata\\_number\\_of\\_singlecells & abs\\_oneb\\_Metadata\\_Treatment\\_Dose\\_Inhibitor\\_Dose\\\\\n",
       " <chr> & <chr> & <chr> & <chr> & <chr> & <chr> & <chr> & <dbl> & <dbl> & <dbl> & <chr> & <chr> & <chr> & <dbl> & <dbl>\\\\\n",
       "\\hline\n",
       "\t Cytoplasm\\_Correlation\\_RWC\\_CorrPM\\_CorrMito             & Cytoplasm & Correlation & RWC               & CorrPM   & CorrMito & NA & 0.3742011 & -0.0002044911 & -2.760298 & H2O2\\_100.000\\_Disulfiram\\_1.0-DMSO\\_0.100\\_DMSO\\_0.025           & CorrPM   & PM   & 0.0002044911 & 2.760298\\\\\n",
       "\t Cytoplasm\\_Texture\\_DifferenceEntropy\\_CorrMito\\_3\\_00\\_256 & Cytoplasm & Texture     & DifferenceEntropy & CorrMito & 3        & 00 & 0.4806035 &  0.0003742630 &  2.696151 & LPS\\_Nigericin\\_100.000\\_10.0\\_DMSO\\_0.025-DMSO\\_0.100\\_DMSO\\_0.025 & CorrMito & Mito & 0.0003742630 & 2.696151\\\\\n",
       "\\end{tabular}\n"
      ],
      "text/markdown": [
       "\n",
       "A tibble: 2 × 15\n",
       "\n",
       "| feature &lt;chr&gt; | compartment &lt;chr&gt; | feature_group &lt;chr&gt; | measurement &lt;chr&gt; | channel &lt;chr&gt; | parameter1 &lt;chr&gt; | parameter2 &lt;chr&gt; | r2_score &lt;dbl&gt; | Metadata_number_of_singlecells &lt;dbl&gt; | oneb_Metadata_Treatment_Dose_Inhibitor_Dose &lt;dbl&gt; | dosage_treatments_list &lt;chr&gt; | channel_cleaned &lt;chr&gt; | channel_learned &lt;chr&gt; | abs_Metadata_number_of_singlecells &lt;dbl&gt; | abs_oneb_Metadata_Treatment_Dose_Inhibitor_Dose &lt;dbl&gt; |\n",
       "|---|---|---|---|---|---|---|---|---|---|---|---|---|---|---|\n",
       "| Cytoplasm_Correlation_RWC_CorrPM_CorrMito             | Cytoplasm | Correlation | RWC               | CorrPM   | CorrMito | NA | 0.3742011 | -0.0002044911 | -2.760298 | H2O2_100.000_Disulfiram_1.0-DMSO_0.100_DMSO_0.025           | CorrPM   | PM   | 0.0002044911 | 2.760298 |\n",
       "| Cytoplasm_Texture_DifferenceEntropy_CorrMito_3_00_256 | Cytoplasm | Texture     | DifferenceEntropy | CorrMito | 3        | 00 | 0.4806035 |  0.0003742630 |  2.696151 | LPS_Nigericin_100.000_10.0_DMSO_0.025-DMSO_0.100_DMSO_0.025 | CorrMito | Mito | 0.0003742630 | 2.696151 |\n",
       "\n"
      ],
      "text/plain": [
       "  feature                                               compartment\n",
       "1 Cytoplasm_Correlation_RWC_CorrPM_CorrMito             Cytoplasm  \n",
       "2 Cytoplasm_Texture_DifferenceEntropy_CorrMito_3_00_256 Cytoplasm  \n",
       "  feature_group measurement       channel  parameter1 parameter2 r2_score \n",
       "1 Correlation   RWC               CorrPM   CorrMito   NA         0.3742011\n",
       "2 Texture       DifferenceEntropy CorrMito 3          00         0.4806035\n",
       "  Metadata_number_of_singlecells oneb_Metadata_Treatment_Dose_Inhibitor_Dose\n",
       "1 -0.0002044911                  -2.760298                                  \n",
       "2  0.0003742630                   2.696151                                  \n",
       "  dosage_treatments_list                                      channel_cleaned\n",
       "1 H2O2_100.000_Disulfiram_1.0-DMSO_0.100_DMSO_0.025           CorrPM         \n",
       "2 LPS_Nigericin_100.000_10.0_DMSO_0.025-DMSO_0.100_DMSO_0.025 CorrMito       \n",
       "  channel_learned abs_Metadata_number_of_singlecells\n",
       "1 PM              0.0002044911                      \n",
       "2 Mito            0.0003742630                      \n",
       "  abs_oneb_Metadata_Treatment_Dose_Inhibitor_Dose\n",
       "1 2.760298                                       \n",
       "2 2.696151                                       "
      ]
     },
     "metadata": {},
     "output_type": "display_data"
    }
   ],
   "source": [
    "head(lm_df,2)\n",
    "# drop rows in the feature_group column that are Location\n",
    "lm_df <- lm_df[lm_df$feature_group != \"Location\",]\n",
    "# drop rows in the feature_group column that are Neighbors or AreaShape\n",
    "lm_df <- lm_df[lm_df$feature_group != \"Neighbors\",]\n",
    "lm_df <- lm_df[lm_df$feature_group != \"AreaShape\",]"
   ]
  },
  {
   "cell_type": "code",
   "execution_count": 16,
   "id": "fce043a9",
   "metadata": {
    "vscode": {
     "languageId": "r"
    }
   },
   "outputs": [
    {
     "data": {
      "text/html": [
       "<style>\n",
       ".list-inline {list-style: none; margin:0; padding: 0}\n",
       ".list-inline>li {display: inline-block}\n",
       ".list-inline>li:not(:last-child)::after {content: \"\\00b7\"; padding: 0 .5ex}\n",
       "</style>\n",
       "<ol class=list-inline><li>'PM'</li><li>'Mito'</li><li>'gasdermin'</li><li>'ER'</li><li>'nuclei'</li></ol>\n"
      ],
      "text/latex": [
       "\\begin{enumerate*}\n",
       "\\item 'PM'\n",
       "\\item 'Mito'\n",
       "\\item 'gasdermin'\n",
       "\\item 'ER'\n",
       "\\item 'nuclei'\n",
       "\\end{enumerate*}\n"
      ],
      "text/markdown": [
       "1. 'PM'\n",
       "2. 'Mito'\n",
       "3. 'gasdermin'\n",
       "4. 'ER'\n",
       "5. 'nuclei'\n",
       "\n",
       "\n"
      ],
      "text/plain": [
       "[1] \"PM\"        \"Mito\"      \"gasdermin\" \"ER\"        \"nuclei\"   "
      ]
     },
     "metadata": {},
     "output_type": "display_data"
    }
   ],
   "source": [
    "unique(lm_df$channel_learned)"
   ]
  },
  {
   "cell_type": "code",
   "execution_count": 17,
   "id": "8aa3a804",
   "metadata": {
    "vscode": {
     "languageId": "r"
    }
   },
   "outputs": [
    {
     "data": {
      "text/html": [
       "<strong>png:</strong> 2"
      ],
      "text/latex": [
       "\\textbf{png:} 2"
      ],
      "text/markdown": [
       "**png:** 2"
      ],
      "text/plain": [
       "png \n",
       "  2 "
      ]
     },
     "metadata": {},
     "output_type": "display_data"
    }
   ],
   "source": [
    "pdf(file=lm_coef_fig)\n",
    "for (i in 1:length(loop_list)){\n",
    "    df <- lm_df[lm_df$dosage_treatments_list == loop_list[i],]\n",
    "    df <- df %>%\n",
    "    dplyr::group_by(feature_group, channel_learned, compartment) %>%\n",
    "    dplyr::slice_max(order_by = oneb_Metadata_Treatment_Dose_Inhibitor_Dose, n = 1)\n",
    "    # define the treatment without the control group (DMSO_0.025)\n",
    "    treatment = strsplit(loop_list[i], \"-D\")[[1]][1]\n",
    "    coef_gg <- (\n",
    "        ggplot(df, aes(x = channel_learned, y = feature_group))\n",
    "        + geom_point(aes(fill = abs(oneb_Metadata_Treatment_Dose_Inhibitor_Dose)), pch = 22, size = 5)\n",
    "        + facet_wrap(\"~compartment\", ncol = 1)\n",
    "        + theme_bw()\n",
    "        + scale_fill_continuous(\n",
    "            name=\"Top Abs. val\\ntreatment\\nlinear model\\ncoefficient\",\n",
    "            low = \"darkblue\",\n",
    "            high = \"yellow\",\n",
    "            limits = c(\n",
    "                min(abs(df$oneb_Metadata_Treatment_Dose_Inhibitor_Dose)), \n",
    "                max(abs(df$oneb_Metadata_Treatment_Dose_Inhibitor_Dose))),\n",
    "        )\n",
    "        + xlab(\"Channel\")\n",
    "        + ylab(\"Feature\")\n",
    "        + theme(\n",
    "            axis.text = element_text(size = 7),and \n",
    "}\n",
    "dev.off()"
   ]
  }
 ],
 "metadata": {
  "kernelspec": {
   "display_name": "R",
   "language": "R",
   "name": "ir"
  },
  "language_info": {
   "codemirror_mode": "r",
   "file_extension": ".r",
   "mimetype": "text/x-r-source",
   "name": "R",
   "pygments_lexer": "r",
   "version": "4.2.2"
  },
  "vscode": {
   "interpreter": {
    "hash": "72ae02083a9ca7d143c492d1aec380c7bf553ec51bd66e90e72bba65228121b6"
   }
  }
 },
 "nbformat": 4,
 "nbformat_minor": 5
}
