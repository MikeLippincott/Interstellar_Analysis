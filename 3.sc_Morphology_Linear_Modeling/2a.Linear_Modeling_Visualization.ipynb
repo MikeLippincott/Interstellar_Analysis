{
 "cells": [
  {
   "cell_type": "code",
   "execution_count": 2,
   "id": "c4549d80",
   "metadata": {
    "vscode": {
     "languageId": "r"
    }
   },
   "outputs": [
    {
     "name": "stderr",
     "output_type": "stream",
     "text": [
      "Warning message:\n",
      "“package ‘ggplot2’ was built under R version 4.2.3”\n"
     ]
    }
   ],
   "source": [
    "suppressPackageStartupMessages(library(ggplot2))\n",
    "suppressPackageStartupMessages(library(dplyr))\n",
    "suppressPackageStartupMessages(library(argparse))"
   ]
  },
  {
   "cell_type": "markdown",
   "id": "65fe30fa",
   "metadata": {},
   "source": [
    "## One Beta Model Vizualization"
   ]
  },
  {
   "cell_type": "code",
   "execution_count": 3,
   "id": "4be58284",
   "metadata": {
    "vscode": {
     "languageId": "r"
    }
   },
   "outputs": [
    {
     "ename": "ERROR",
     "evalue": "Error in \"argparse::parse_args_output(output)\": parse error:\nusage: PROGRAM [-h] [--celltype CELLTYPE]\nPROGRAM: error: unrecognized arguments: /home/lippincm/.local/share/jupyter/runtime/kernel-v2-562366qI74kefqDRYk.json\n",
     "output_type": "error",
     "traceback": [
      "Error in \"argparse::parse_args_output(output)\": parse error:\nusage: PROGRAM [-h] [--celltype CELLTYPE]\nPROGRAM: error: unrecognized arguments: /home/lippincm/.local/share/jupyter/runtime/kernel-v2-562366qI74kefqDRYk.json\nTraceback:\n",
      "1. parser$parse_args()",
      "2. parse_args_output(output)",
      "3. pa_stop(output, \"parse error:\")"
     ]
    }
   ],
   "source": [
    "# define command line arguments\n",
    "parser <- ArgumentParser(description = \"Visualize linear modeling results\")\n",
    "# add arguments\n",
    "parser$add_argument('--celltype', type='character', help='Cell type to visualize')\n",
    "\n",
    "# parse arguments from command line\n",
    "args <- parser$parse_args()\n",
    "\n",
    "# define cell type\n",
    "celltype <- args$celltype\n"
   ]
  },
  {
   "cell_type": "code",
   "execution_count": 9,
   "id": "60480362",
   "metadata": {
    "vscode": {
     "languageId": "r"
    }
   },
   "outputs": [],
   "source": [
    "celltype = \"SHSY5Y\""
   ]
  },
  {
   "cell_type": "code",
   "execution_count": 10,
   "id": "f86de8b4",
   "metadata": {
    "vscode": {
     "languageId": "r"
    }
   },
   "outputs": [
    {
     "data": {
      "text/html": [
       "<table class=\"dataframe\">\n",
       "<caption>A tibble: 6 × 5</caption>\n",
       "<thead>\n",
       "\t<tr><th scope=col>feature</th><th scope=col>r2_score</th><th scope=col>Metadata_number_of_singlecells</th><th scope=col>oneb_Metadata_Treatment_Dose_Inhibitor_Dose</th><th scope=col>dosage_treatments_list</th></tr>\n",
       "\t<tr><th scope=col>&lt;chr&gt;</th><th scope=col>&lt;dbl&gt;</th><th scope=col>&lt;dbl&gt;</th><th scope=col>&lt;dbl&gt;</th><th scope=col>&lt;chr&gt;</th></tr>\n",
       "</thead>\n",
       "<tbody>\n",
       "\t<tr><td>Cytoplasm_AreaShape_Compactness    </td><td>0.0010758123</td><td>-7.546792e-05</td><td>-0.0806838829</td><td>media ctr_0_Media ctr_0.0-DMSO_0.100_DMSO_0.025</td></tr>\n",
       "\t<tr><td>Cytoplasm_AreaShape_Eccentricity   </td><td>0.0005340345</td><td>-6.444612e-05</td><td>-0.0009844432</td><td>media ctr_0_Media ctr_0.0-DMSO_0.100_DMSO_0.025</td></tr>\n",
       "\t<tr><td>Cytoplasm_AreaShape_Extent         </td><td>0.0010686948</td><td> 9.424593e-05</td><td> 0.0782239535</td><td>media ctr_0_Media ctr_0.0-DMSO_0.100_DMSO_0.025</td></tr>\n",
       "\t<tr><td>Cytoplasm_AreaShape_FormFactor     </td><td>0.0006766865</td><td> 7.923037e-05</td><td> 0.0608552602</td><td>media ctr_0_Media ctr_0.0-DMSO_0.100_DMSO_0.025</td></tr>\n",
       "\t<tr><td>Cytoplasm_AreaShape_MajorAxisLength</td><td>0.0015522850</td><td>-7.570263e-05</td><td> 0.0336568321</td><td>media ctr_0_Media ctr_0.0-DMSO_0.100_DMSO_0.025</td></tr>\n",
       "\t<tr><td>Cytoplasm_AreaShape_MinorAxisLength</td><td>0.0004700079</td><td> 8.941444e-06</td><td> 0.0483550044</td><td>media ctr_0_Media ctr_0.0-DMSO_0.100_DMSO_0.025</td></tr>\n",
       "</tbody>\n",
       "</table>\n"
      ],
      "text/latex": [
       "A tibble: 6 × 5\n",
       "\\begin{tabular}{lllll}\n",
       " feature & r2\\_score & Metadata\\_number\\_of\\_singlecells & oneb\\_Metadata\\_Treatment\\_Dose\\_Inhibitor\\_Dose & dosage\\_treatments\\_list\\\\\n",
       " <chr> & <dbl> & <dbl> & <dbl> & <chr>\\\\\n",
       "\\hline\n",
       "\t Cytoplasm\\_AreaShape\\_Compactness     & 0.0010758123 & -7.546792e-05 & -0.0806838829 & media ctr\\_0\\_Media ctr\\_0.0-DMSO\\_0.100\\_DMSO\\_0.025\\\\\n",
       "\t Cytoplasm\\_AreaShape\\_Eccentricity    & 0.0005340345 & -6.444612e-05 & -0.0009844432 & media ctr\\_0\\_Media ctr\\_0.0-DMSO\\_0.100\\_DMSO\\_0.025\\\\\n",
       "\t Cytoplasm\\_AreaShape\\_Extent          & 0.0010686948 &  9.424593e-05 &  0.0782239535 & media ctr\\_0\\_Media ctr\\_0.0-DMSO\\_0.100\\_DMSO\\_0.025\\\\\n",
       "\t Cytoplasm\\_AreaShape\\_FormFactor      & 0.0006766865 &  7.923037e-05 &  0.0608552602 & media ctr\\_0\\_Media ctr\\_0.0-DMSO\\_0.100\\_DMSO\\_0.025\\\\\n",
       "\t Cytoplasm\\_AreaShape\\_MajorAxisLength & 0.0015522850 & -7.570263e-05 &  0.0336568321 & media ctr\\_0\\_Media ctr\\_0.0-DMSO\\_0.100\\_DMSO\\_0.025\\\\\n",
       "\t Cytoplasm\\_AreaShape\\_MinorAxisLength & 0.0004700079 &  8.941444e-06 &  0.0483550044 & media ctr\\_0\\_Media ctr\\_0.0-DMSO\\_0.100\\_DMSO\\_0.025\\\\\n",
       "\\end{tabular}\n"
      ],
      "text/markdown": [
       "\n",
       "A tibble: 6 × 5\n",
       "\n",
       "| feature &lt;chr&gt; | r2_score &lt;dbl&gt; | Metadata_number_of_singlecells &lt;dbl&gt; | oneb_Metadata_Treatment_Dose_Inhibitor_Dose &lt;dbl&gt; | dosage_treatments_list &lt;chr&gt; |\n",
       "|---|---|---|---|---|\n",
       "| Cytoplasm_AreaShape_Compactness     | 0.0010758123 | -7.546792e-05 | -0.0806838829 | media ctr_0_Media ctr_0.0-DMSO_0.100_DMSO_0.025 |\n",
       "| Cytoplasm_AreaShape_Eccentricity    | 0.0005340345 | -6.444612e-05 | -0.0009844432 | media ctr_0_Media ctr_0.0-DMSO_0.100_DMSO_0.025 |\n",
       "| Cytoplasm_AreaShape_Extent          | 0.0010686948 |  9.424593e-05 |  0.0782239535 | media ctr_0_Media ctr_0.0-DMSO_0.100_DMSO_0.025 |\n",
       "| Cytoplasm_AreaShape_FormFactor      | 0.0006766865 |  7.923037e-05 |  0.0608552602 | media ctr_0_Media ctr_0.0-DMSO_0.100_DMSO_0.025 |\n",
       "| Cytoplasm_AreaShape_MajorAxisLength | 0.0015522850 | -7.570263e-05 |  0.0336568321 | media ctr_0_Media ctr_0.0-DMSO_0.100_DMSO_0.025 |\n",
       "| Cytoplasm_AreaShape_MinorAxisLength | 0.0004700079 |  8.941444e-06 |  0.0483550044 | media ctr_0_Media ctr_0.0-DMSO_0.100_DMSO_0.025 |\n",
       "\n"
      ],
      "text/plain": [
       "  feature                             r2_score    \n",
       "1 Cytoplasm_AreaShape_Compactness     0.0010758123\n",
       "2 Cytoplasm_AreaShape_Eccentricity    0.0005340345\n",
       "3 Cytoplasm_AreaShape_Extent          0.0010686948\n",
       "4 Cytoplasm_AreaShape_FormFactor      0.0006766865\n",
       "5 Cytoplasm_AreaShape_MajorAxisLength 0.0015522850\n",
       "6 Cytoplasm_AreaShape_MinorAxisLength 0.0004700079\n",
       "  Metadata_number_of_singlecells oneb_Metadata_Treatment_Dose_Inhibitor_Dose\n",
       "1 -7.546792e-05                  -0.0806838829                              \n",
       "2 -6.444612e-05                  -0.0009844432                              \n",
       "3  9.424593e-05                   0.0782239535                              \n",
       "4  7.923037e-05                   0.0608552602                              \n",
       "5 -7.570263e-05                   0.0336568321                              \n",
       "6  8.941444e-06                   0.0483550044                              \n",
       "  dosage_treatments_list                         \n",
       "1 media ctr_0_Media ctr_0.0-DMSO_0.100_DMSO_0.025\n",
       "2 media ctr_0_Media ctr_0.0-DMSO_0.100_DMSO_0.025\n",
       "3 media ctr_0_Media ctr_0.0-DMSO_0.100_DMSO_0.025\n",
       "4 media ctr_0_Media ctr_0.0-DMSO_0.100_DMSO_0.025\n",
       "5 media ctr_0_Media ctr_0.0-DMSO_0.100_DMSO_0.025\n",
       "6 media ctr_0_Media ctr_0.0-DMSO_0.100_DMSO_0.025"
      ]
     },
     "metadata": {},
     "output_type": "display_data"
    }
   ],
   "source": [
    "\n",
    "lm_file <- file.path(paste0(\"./results/\", celltype, \"/lm_one_beta.tsv\"))\n",
    "\n",
    "lm_cp_fig <- file.path(paste0(\"./figures/\", celltype, \"/lm_one_beta.pdf\"))\n",
    "\n",
    "lm_cp_fig_abs <- file.path(paste0(\"./figures/\", celltype, \"/lm_one_beta_abs.pdf\"))\n",
    "\n",
    "# if path does not exist, create it\n",
    "if (!dir.exists(file.path(paste0(\"./figures/\", celltype)))) {\n",
    "    dir.create(file.path(paste0(\"./figures/\", celltype)))\n",
    "}\n",
    "\n",
    "# read in linear modeling results\n",
    "lm_df <- readr::read_tsv(lm_file, col_types = readr::cols(.default = \"d\", feature =\"c\", dosage_treatments_list = \"c\"))\n",
    "head(lm_df)"
   ]
  },
  {
   "cell_type": "code",
   "execution_count": 11,
   "id": "05511ea0",
   "metadata": {
    "vscode": {
     "languageId": "r"
    }
   },
   "outputs": [
    {
     "data": {
      "text/html": [
       "<style>\n",
       ".list-inline {list-style: none; margin:0; padding: 0}\n",
       ".list-inline>li {display: inline-block}\n",
       ".list-inline>li:not(:last-child)::after {content: \"\\00b7\"; padding: 0 .5ex}\n",
       "</style>\n",
       "<ol class=list-inline><li>'media ctr_0_Media ctr_0.0-DMSO_0.100_DMSO_0.025'</li><li>'DMSO_0.100_DMSO_1.0-DMSO_0.100_DMSO_0.025'</li><li>'DMSO_0.100_Z-VAD-FMK_100.0-DMSO_0.100_DMSO_0.025'</li><li>'DMSO_0.100_Z-VAD-FMK_30.0-DMSO_0.100_DMSO_0.025'</li><li>'DMSO_0.100_DMSO_0.025-DMSO_0.100_DMSO_0.025'</li><li>'Thapsigargin_1.000_DMSO_0.025-DMSO_0.100_DMSO_0.025'</li><li>'Thapsigargin_10.000_DMSO_0.025-DMSO_0.100_DMSO_0.025'</li><li>'Topotecan_5.000_DMSO_0.025-DMSO_0.100_DMSO_0.025'</li><li>'Topotecan_10.000_DMSO_0.025-DMSO_0.100_DMSO_0.025'</li><li>'Topotecan_20.000_DMSO_0.025-DMSO_0.100_DMSO_0.025'</li><li>'LPS_0.010_DMSO_0.025-DMSO_0.100_DMSO_0.025'</li><li>'LPS_0.100_DMSO_0.025-DMSO_0.100_DMSO_0.025'</li><li>'LPS_1.000_DMSO_0.025-DMSO_0.100_DMSO_0.025'</li><li>'LPS_10.000_DMSO_0.025-DMSO_0.100_DMSO_0.025'</li><li>'LPS_10.000_Disulfiram_0.1-DMSO_0.100_DMSO_0.025'</li><li>'LPS_10.000_Disulfiram_1.0-DMSO_0.100_DMSO_0.025'</li><li>'LPS_10.000_Disulfiram_2.5-DMSO_0.100_DMSO_0.025'</li><li>'LPS_Nigericin_100.000_1.0_DMSO_0.025-DMSO_0.100_DMSO_0.025'</li><li>'LPS_Nigericin_100.000_3.0_DMSO_0.025-DMSO_0.100_DMSO_0.025'</li><li>'LPS_Nigericin_100.000_10.0_DMSO_0.025-DMSO_0.100_DMSO_0.025'</li><li>'Disulfiram_0.100_DMSO_0.025-DMSO_0.100_DMSO_0.025'</li><li>'Disulfiram_1.000_DMSO_0.025-DMSO_0.100_DMSO_0.025'</li><li>'Disulfiram_2.500_DMSO_0.025-DMSO_0.100_DMSO_0.025'</li><li>'H2O2_100.000_DMSO_0.025-DMSO_0.100_DMSO_0.025'</li><li>'LPS_10.000_Z-VAD-FMK_100.0-DMSO_0.100_DMSO_0.025'</li><li>'LPS_100.000_DMSO_0.025-DMSO_0.100_DMSO_0.025'</li><li>'LPS_Nigericin_1.000_1.0_DMSO_0.025-DMSO_0.100_DMSO_0.025'</li><li>'LPS_Nigericin_1.000_3.0_DMSO_0.025-DMSO_0.100_DMSO_0.025'</li><li>'LPS_Nigericin_1.000_10.0_DMSO_0.025-DMSO_0.100_DMSO_0.025'</li><li>'LPS_Nigericin_1.000_10.0_Disulfiram_1.0-DMSO_0.100_DMSO_0.025'</li><li>'LPS_Nigericin_1.000_10.0_Z-VAD-FMK_100.0-DMSO_0.100_DMSO_0.025'</li><li>'H2O2_100.000_Disulfiram_1.0-DMSO_0.100_DMSO_0.025'</li><li>'H2O2_100.000_Z-VAD-FMK_100.0-DMSO_0.100_DMSO_0.025'</li><li>'Flagellin_0.100_DMSO_0.025-DMSO_0.100_DMSO_0.025'</li><li>'Flagellin_1.000_DMSO_0.025-DMSO_0.100_DMSO_0.025'</li><li>'Flagellin_1.000_Disulfiram_1.0-DMSO_0.100_DMSO_0.025'</li></ol>\n"
      ],
      "text/latex": [
       "\\begin{enumerate*}\n",
       "\\item 'media ctr\\_0\\_Media ctr\\_0.0-DMSO\\_0.100\\_DMSO\\_0.025'\n",
       "\\item 'DMSO\\_0.100\\_DMSO\\_1.0-DMSO\\_0.100\\_DMSO\\_0.025'\n",
       "\\item 'DMSO\\_0.100\\_Z-VAD-FMK\\_100.0-DMSO\\_0.100\\_DMSO\\_0.025'\n",
       "\\item 'DMSO\\_0.100\\_Z-VAD-FMK\\_30.0-DMSO\\_0.100\\_DMSO\\_0.025'\n",
       "\\item 'DMSO\\_0.100\\_DMSO\\_0.025-DMSO\\_0.100\\_DMSO\\_0.025'\n",
       "\\item 'Thapsigargin\\_1.000\\_DMSO\\_0.025-DMSO\\_0.100\\_DMSO\\_0.025'\n",
       "\\item 'Thapsigargin\\_10.000\\_DMSO\\_0.025-DMSO\\_0.100\\_DMSO\\_0.025'\n",
       "\\item 'Topotecan\\_5.000\\_DMSO\\_0.025-DMSO\\_0.100\\_DMSO\\_0.025'\n",
       "\\item 'Topotecan\\_10.000\\_DMSO\\_0.025-DMSO\\_0.100\\_DMSO\\_0.025'\n",
       "\\item 'Topotecan\\_20.000\\_DMSO\\_0.025-DMSO\\_0.100\\_DMSO\\_0.025'\n",
       "\\item 'LPS\\_0.010\\_DMSO\\_0.025-DMSO\\_0.100\\_DMSO\\_0.025'\n",
       "\\item 'LPS\\_0.100\\_DMSO\\_0.025-DMSO\\_0.100\\_DMSO\\_0.025'\n",
       "\\item 'LPS\\_1.000\\_DMSO\\_0.025-DMSO\\_0.100\\_DMSO\\_0.025'\n",
       "\\item 'LPS\\_10.000\\_DMSO\\_0.025-DMSO\\_0.100\\_DMSO\\_0.025'\n",
       "\\item 'LPS\\_10.000\\_Disulfiram\\_0.1-DMSO\\_0.100\\_DMSO\\_0.025'\n",
       "\\item 'LPS\\_10.000\\_Disulfiram\\_1.0-DMSO\\_0.100\\_DMSO\\_0.025'\n",
       "\\item 'LPS\\_10.000\\_Disulfiram\\_2.5-DMSO\\_0.100\\_DMSO\\_0.025'\n",
       "\\item 'LPS\\_Nigericin\\_100.000\\_1.0\\_DMSO\\_0.025-DMSO\\_0.100\\_DMSO\\_0.025'\n",
       "\\item 'LPS\\_Nigericin\\_100.000\\_3.0\\_DMSO\\_0.025-DMSO\\_0.100\\_DMSO\\_0.025'\n",
       "\\item 'LPS\\_Nigericin\\_100.000\\_10.0\\_DMSO\\_0.025-DMSO\\_0.100\\_DMSO\\_0.025'\n",
       "\\item 'Disulfiram\\_0.100\\_DMSO\\_0.025-DMSO\\_0.100\\_DMSO\\_0.025'\n",
       "\\item 'Disulfiram\\_1.000\\_DMSO\\_0.025-DMSO\\_0.100\\_DMSO\\_0.025'\n",
       "\\item 'Disulfiram\\_2.500\\_DMSO\\_0.025-DMSO\\_0.100\\_DMSO\\_0.025'\n",
       "\\item 'H2O2\\_100.000\\_DMSO\\_0.025-DMSO\\_0.100\\_DMSO\\_0.025'\n",
       "\\item 'LPS\\_10.000\\_Z-VAD-FMK\\_100.0-DMSO\\_0.100\\_DMSO\\_0.025'\n",
       "\\item 'LPS\\_100.000\\_DMSO\\_0.025-DMSO\\_0.100\\_DMSO\\_0.025'\n",
       "\\item 'LPS\\_Nigericin\\_1.000\\_1.0\\_DMSO\\_0.025-DMSO\\_0.100\\_DMSO\\_0.025'\n",
       "\\item 'LPS\\_Nigericin\\_1.000\\_3.0\\_DMSO\\_0.025-DMSO\\_0.100\\_DMSO\\_0.025'\n",
       "\\item 'LPS\\_Nigericin\\_1.000\\_10.0\\_DMSO\\_0.025-DMSO\\_0.100\\_DMSO\\_0.025'\n",
       "\\item 'LPS\\_Nigericin\\_1.000\\_10.0\\_Disulfiram\\_1.0-DMSO\\_0.100\\_DMSO\\_0.025'\n",
       "\\item 'LPS\\_Nigericin\\_1.000\\_10.0\\_Z-VAD-FMK\\_100.0-DMSO\\_0.100\\_DMSO\\_0.025'\n",
       "\\item 'H2O2\\_100.000\\_Disulfiram\\_1.0-DMSO\\_0.100\\_DMSO\\_0.025'\n",
       "\\item 'H2O2\\_100.000\\_Z-VAD-FMK\\_100.0-DMSO\\_0.100\\_DMSO\\_0.025'\n",
       "\\item 'Flagellin\\_0.100\\_DMSO\\_0.025-DMSO\\_0.100\\_DMSO\\_0.025'\n",
       "\\item 'Flagellin\\_1.000\\_DMSO\\_0.025-DMSO\\_0.100\\_DMSO\\_0.025'\n",
       "\\item 'Flagellin\\_1.000\\_Disulfiram\\_1.0-DMSO\\_0.100\\_DMSO\\_0.025'\n",
       "\\end{enumerate*}\n"
      ],
      "text/markdown": [
       "1. 'media ctr_0_Media ctr_0.0-DMSO_0.100_DMSO_0.025'\n",
       "2. 'DMSO_0.100_DMSO_1.0-DMSO_0.100_DMSO_0.025'\n",
       "3. 'DMSO_0.100_Z-VAD-FMK_100.0-DMSO_0.100_DMSO_0.025'\n",
       "4. 'DMSO_0.100_Z-VAD-FMK_30.0-DMSO_0.100_DMSO_0.025'\n",
       "5. 'DMSO_0.100_DMSO_0.025-DMSO_0.100_DMSO_0.025'\n",
       "6. 'Thapsigargin_1.000_DMSO_0.025-DMSO_0.100_DMSO_0.025'\n",
       "7. 'Thapsigargin_10.000_DMSO_0.025-DMSO_0.100_DMSO_0.025'\n",
       "8. 'Topotecan_5.000_DMSO_0.025-DMSO_0.100_DMSO_0.025'\n",
       "9. 'Topotecan_10.000_DMSO_0.025-DMSO_0.100_DMSO_0.025'\n",
       "10. 'Topotecan_20.000_DMSO_0.025-DMSO_0.100_DMSO_0.025'\n",
       "11. 'LPS_0.010_DMSO_0.025-DMSO_0.100_DMSO_0.025'\n",
       "12. 'LPS_0.100_DMSO_0.025-DMSO_0.100_DMSO_0.025'\n",
       "13. 'LPS_1.000_DMSO_0.025-DMSO_0.100_DMSO_0.025'\n",
       "14. 'LPS_10.000_DMSO_0.025-DMSO_0.100_DMSO_0.025'\n",
       "15. 'LPS_10.000_Disulfiram_0.1-DMSO_0.100_DMSO_0.025'\n",
       "16. 'LPS_10.000_Disulfiram_1.0-DMSO_0.100_DMSO_0.025'\n",
       "17. 'LPS_10.000_Disulfiram_2.5-DMSO_0.100_DMSO_0.025'\n",
       "18. 'LPS_Nigericin_100.000_1.0_DMSO_0.025-DMSO_0.100_DMSO_0.025'\n",
       "19. 'LPS_Nigericin_100.000_3.0_DMSO_0.025-DMSO_0.100_DMSO_0.025'\n",
       "20. 'LPS_Nigericin_100.000_10.0_DMSO_0.025-DMSO_0.100_DMSO_0.025'\n",
       "21. 'Disulfiram_0.100_DMSO_0.025-DMSO_0.100_DMSO_0.025'\n",
       "22. 'Disulfiram_1.000_DMSO_0.025-DMSO_0.100_DMSO_0.025'\n",
       "23. 'Disulfiram_2.500_DMSO_0.025-DMSO_0.100_DMSO_0.025'\n",
       "24. 'H2O2_100.000_DMSO_0.025-DMSO_0.100_DMSO_0.025'\n",
       "25. 'LPS_10.000_Z-VAD-FMK_100.0-DMSO_0.100_DMSO_0.025'\n",
       "26. 'LPS_100.000_DMSO_0.025-DMSO_0.100_DMSO_0.025'\n",
       "27. 'LPS_Nigericin_1.000_1.0_DMSO_0.025-DMSO_0.100_DMSO_0.025'\n",
       "28. 'LPS_Nigericin_1.000_3.0_DMSO_0.025-DMSO_0.100_DMSO_0.025'\n",
       "29. 'LPS_Nigericin_1.000_10.0_DMSO_0.025-DMSO_0.100_DMSO_0.025'\n",
       "30. 'LPS_Nigericin_1.000_10.0_Disulfiram_1.0-DMSO_0.100_DMSO_0.025'\n",
       "31. 'LPS_Nigericin_1.000_10.0_Z-VAD-FMK_100.0-DMSO_0.100_DMSO_0.025'\n",
       "32. 'H2O2_100.000_Disulfiram_1.0-DMSO_0.100_DMSO_0.025'\n",
       "33. 'H2O2_100.000_Z-VAD-FMK_100.0-DMSO_0.100_DMSO_0.025'\n",
       "34. 'Flagellin_0.100_DMSO_0.025-DMSO_0.100_DMSO_0.025'\n",
       "35. 'Flagellin_1.000_DMSO_0.025-DMSO_0.100_DMSO_0.025'\n",
       "36. 'Flagellin_1.000_Disulfiram_1.0-DMSO_0.100_DMSO_0.025'\n",
       "\n",
       "\n"
      ],
      "text/plain": [
       " [1] \"media ctr_0_Media ctr_0.0-DMSO_0.100_DMSO_0.025\"               \n",
       " [2] \"DMSO_0.100_DMSO_1.0-DMSO_0.100_DMSO_0.025\"                     \n",
       " [3] \"DMSO_0.100_Z-VAD-FMK_100.0-DMSO_0.100_DMSO_0.025\"              \n",
       " [4] \"DMSO_0.100_Z-VAD-FMK_30.0-DMSO_0.100_DMSO_0.025\"               \n",
       " [5] \"DMSO_0.100_DMSO_0.025-DMSO_0.100_DMSO_0.025\"                   \n",
       " [6] \"Thapsigargin_1.000_DMSO_0.025-DMSO_0.100_DMSO_0.025\"           \n",
       " [7] \"Thapsigargin_10.000_DMSO_0.025-DMSO_0.100_DMSO_0.025\"          \n",
       " [8] \"Topotecan_5.000_DMSO_0.025-DMSO_0.100_DMSO_0.025\"              \n",
       " [9] \"Topotecan_10.000_DMSO_0.025-DMSO_0.100_DMSO_0.025\"             \n",
       "[10] \"Topotecan_20.000_DMSO_0.025-DMSO_0.100_DMSO_0.025\"             \n",
       "[11] \"LPS_0.010_DMSO_0.025-DMSO_0.100_DMSO_0.025\"                    \n",
       "[12] \"LPS_0.100_DMSO_0.025-DMSO_0.100_DMSO_0.025\"                    \n",
       "[13] \"LPS_1.000_DMSO_0.025-DMSO_0.100_DMSO_0.025\"                    \n",
       "[14] \"LPS_10.000_DMSO_0.025-DMSO_0.100_DMSO_0.025\"                   \n",
       "[15] \"LPS_10.000_Disulfiram_0.1-DMSO_0.100_DMSO_0.025\"               \n",
       "[16] \"LPS_10.000_Disulfiram_1.0-DMSO_0.100_DMSO_0.025\"               \n",
       "[17] \"LPS_10.000_Disulfiram_2.5-DMSO_0.100_DMSO_0.025\"               \n",
       "[18] \"LPS_Nigericin_100.000_1.0_DMSO_0.025-DMSO_0.100_DMSO_0.025\"    \n",
       "[19] \"LPS_Nigericin_100.000_3.0_DMSO_0.025-DMSO_0.100_DMSO_0.025\"    \n",
       "[20] \"LPS_Nigericin_100.000_10.0_DMSO_0.025-DMSO_0.100_DMSO_0.025\"   \n",
       "[21] \"Disulfiram_0.100_DMSO_0.025-DMSO_0.100_DMSO_0.025\"             \n",
       "[22] \"Disulfiram_1.000_DMSO_0.025-DMSO_0.100_DMSO_0.025\"             \n",
       "[23] \"Disulfiram_2.500_DMSO_0.025-DMSO_0.100_DMSO_0.025\"             \n",
       "[24] \"H2O2_100.000_DMSO_0.025-DMSO_0.100_DMSO_0.025\"                 \n",
       "[25] \"LPS_10.000_Z-VAD-FMK_100.0-DMSO_0.100_DMSO_0.025\"              \n",
       "[26] \"LPS_100.000_DMSO_0.025-DMSO_0.100_DMSO_0.025\"                  \n",
       "[27] \"LPS_Nigericin_1.000_1.0_DMSO_0.025-DMSO_0.100_DMSO_0.025\"      \n",
       "[28] \"LPS_Nigericin_1.000_3.0_DMSO_0.025-DMSO_0.100_DMSO_0.025\"      \n",
       "[29] \"LPS_Nigericin_1.000_10.0_DMSO_0.025-DMSO_0.100_DMSO_0.025\"     \n",
       "[30] \"LPS_Nigericin_1.000_10.0_Disulfiram_1.0-DMSO_0.100_DMSO_0.025\" \n",
       "[31] \"LPS_Nigericin_1.000_10.0_Z-VAD-FMK_100.0-DMSO_0.100_DMSO_0.025\"\n",
       "[32] \"H2O2_100.000_Disulfiram_1.0-DMSO_0.100_DMSO_0.025\"             \n",
       "[33] \"H2O2_100.000_Z-VAD-FMK_100.0-DMSO_0.100_DMSO_0.025\"            \n",
       "[34] \"Flagellin_0.100_DMSO_0.025-DMSO_0.100_DMSO_0.025\"              \n",
       "[35] \"Flagellin_1.000_DMSO_0.025-DMSO_0.100_DMSO_0.025\"              \n",
       "[36] \"Flagellin_1.000_Disulfiram_1.0-DMSO_0.100_DMSO_0.025\"          "
      ]
     },
     "metadata": {},
     "output_type": "display_data"
    }
   ],
   "source": [
    "unique(lm_df$dosage_treatments_list)"
   ]
  },
  {
   "cell_type": "code",
   "execution_count": 12,
   "id": "4085652a",
   "metadata": {
    "vscode": {
     "languageId": "r"
    }
   },
   "outputs": [
    {
     "name": "stderr",
     "output_type": "stream",
     "text": [
      "Warning message:\n",
      "“\u001b[1m\u001b[22mExpected 6 pieces. Additional pieces discarded in 7956 rows [2, 4, 5, 8, 10,\n",
      "12, 13, 14, 17, 18, 19, 21, 23, 24, 25, 26, 27, 30, 32, 33, ...].”\n",
      "Warning message:\n",
      "“\u001b[1m\u001b[22mExpected 6 pieces. Missing pieces filled with `NA` in 15264 rows [1, 3, 6, 7,\n",
      "9, 11, 15, 16, 20, 22, 28, 29, 31, 34, 39, 40, 41, 43, 44, 45, ...].”\n"
     ]
    }
   ],
   "source": [
    "\n",
    "# Arrange by absolute value coefficient\n",
    "# Split out components of feature name for visualization\n",
    "lm_df <- lm_df %>%\n",
    "    dplyr::arrange(desc(abs(oneb_Metadata_Treatment_Dose_Inhibitor_Dose))) %>%\n",
    "    tidyr::separate(\n",
    "        feature,\n",
    "        into = c(\n",
    "            \"compartment\",\n",
    "            \"feature_group\",\n",
    "            \"measurement\",\n",
    "            \"channel\",\n",
    "            \"parameter1\",\n",
    "            \"parameter2\"\n",
    "        ),\n",
    "        sep = \"_\",\n",
    "        remove = FALSE\n",
    "    ) %>%\n",
    "    dplyr::mutate(channel_cleaned = channel)\n",
    "\n"
   ]
  },
  {
   "cell_type": "code",
   "execution_count": 13,
   "id": "9e039275",
   "metadata": {
    "vscode": {
     "languageId": "r"
    }
   },
   "outputs": [
    {
     "data": {
      "text/html": [
       "<style>\n",
       ".list-inline {list-style: none; margin:0; padding: 0}\n",
       ".list-inline>li {display: inline-block}\n",
       ".list-inline>li:not(:last-child)::after {content: \"\\00b7\"; padding: 0 .5ex}\n",
       "</style>\n",
       "<ol class=list-inline><li>'CorrPM'</li><li>'CorrMito'</li><li>'CorrGasdermin'</li><li>'CorrER'</li><li>'CorrDNA'</li><li>NA</li><li>'8'</li><li>'0'</li><li>'4'</li><li>'Adjacent'</li><li>'3'</li><li>'5'</li><li>'6'</li><li>'1'</li><li>'7'</li><li>'9'</li><li>'2'</li><li>'X'</li><li>'Y'</li></ol>\n"
      ],
      "text/latex": [
       "\\begin{enumerate*}\n",
       "\\item 'CorrPM'\n",
       "\\item 'CorrMito'\n",
       "\\item 'CorrGasdermin'\n",
       "\\item 'CorrER'\n",
       "\\item 'CorrDNA'\n",
       "\\item NA\n",
       "\\item '8'\n",
       "\\item '0'\n",
       "\\item '4'\n",
       "\\item 'Adjacent'\n",
       "\\item '3'\n",
       "\\item '5'\n",
       "\\item '6'\n",
       "\\item '1'\n",
       "\\item '7'\n",
       "\\item '9'\n",
       "\\item '2'\n",
       "\\item 'X'\n",
       "\\item 'Y'\n",
       "\\end{enumerate*}\n"
      ],
      "text/markdown": [
       "1. 'CorrPM'\n",
       "2. 'CorrMito'\n",
       "3. 'CorrGasdermin'\n",
       "4. 'CorrER'\n",
       "5. 'CorrDNA'\n",
       "6. NA\n",
       "7. '8'\n",
       "8. '0'\n",
       "9. '4'\n",
       "10. 'Adjacent'\n",
       "11. '3'\n",
       "12. '5'\n",
       "13. '6'\n",
       "14. '1'\n",
       "15. '7'\n",
       "16. '9'\n",
       "17. '2'\n",
       "18. 'X'\n",
       "19. 'Y'\n",
       "\n",
       "\n"
      ],
      "text/plain": [
       " [1] \"CorrPM\"        \"CorrMito\"      \"CorrGasdermin\" \"CorrER\"       \n",
       " [5] \"CorrDNA\"       NA              \"8\"             \"0\"            \n",
       " [9] \"4\"             \"Adjacent\"      \"3\"             \"5\"            \n",
       "[13] \"6\"             \"1\"             \"7\"             \"9\"            \n",
       "[17] \"2\"             \"X\"             \"Y\"            "
      ]
     },
     "metadata": {},
     "output_type": "display_data"
    }
   ],
   "source": [
    "unique(lm_df$channel)"
   ]
  },
  {
   "cell_type": "code",
   "execution_count": 14,
   "id": "f2cfd6bf",
   "metadata": {
    "vscode": {
     "languageId": "r"
    }
   },
   "outputs": [
    {
     "data": {
      "text/html": [
       "<style>\n",
       ".list-inline {list-style: none; margin:0; padding: 0}\n",
       ".list-inline>li {display: inline-block}\n",
       ".list-inline>li:not(:last-child)::after {content: \"\\00b7\"; padding: 0 .5ex}\n",
       "</style>\n",
       "<ol class=list-inline><li>'CorrPM'</li><li>'CorrMito'</li><li>'CorrGasdermin'</li><li>'CorrER'</li><li>'CorrDNA'</li><li>NA</li><li>'8'</li><li>'0'</li><li>'4'</li><li>'Adjacent'</li><li>'3'</li><li>'5'</li><li>'6'</li><li>'1'</li><li>'7'</li><li>'9'</li><li>'2'</li><li>'X'</li><li>'Y'</li></ol>\n"
      ],
      "text/latex": [
       "\\begin{enumerate*}\n",
       "\\item 'CorrPM'\n",
       "\\item 'CorrMito'\n",
       "\\item 'CorrGasdermin'\n",
       "\\item 'CorrER'\n",
       "\\item 'CorrDNA'\n",
       "\\item NA\n",
       "\\item '8'\n",
       "\\item '0'\n",
       "\\item '4'\n",
       "\\item 'Adjacent'\n",
       "\\item '3'\n",
       "\\item '5'\n",
       "\\item '6'\n",
       "\\item '1'\n",
       "\\item '7'\n",
       "\\item '9'\n",
       "\\item '2'\n",
       "\\item 'X'\n",
       "\\item 'Y'\n",
       "\\end{enumerate*}\n"
      ],
      "text/markdown": [
       "1. 'CorrPM'\n",
       "2. 'CorrMito'\n",
       "3. 'CorrGasdermin'\n",
       "4. 'CorrER'\n",
       "5. 'CorrDNA'\n",
       "6. NA\n",
       "7. '8'\n",
       "8. '0'\n",
       "9. '4'\n",
       "10. 'Adjacent'\n",
       "11. '3'\n",
       "12. '5'\n",
       "13. '6'\n",
       "14. '1'\n",
       "15. '7'\n",
       "16. '9'\n",
       "17. '2'\n",
       "18. 'X'\n",
       "19. 'Y'\n",
       "\n",
       "\n"
      ],
      "text/plain": [
       " [1] \"CorrPM\"        \"CorrMito\"      \"CorrGasdermin\" \"CorrER\"       \n",
       " [5] \"CorrDNA\"       NA              \"8\"             \"0\"            \n",
       " [9] \"4\"             \"Adjacent\"      \"3\"             \"5\"            \n",
       "[13] \"6\"             \"1\"             \"7\"             \"9\"            \n",
       "[17] \"2\"             \"X\"             \"Y\"            "
      ]
     },
     "metadata": {},
     "output_type": "display_data"
    }
   ],
   "source": [
    "unique(lm_df$channel_cleaned)"
   ]
  },
  {
   "cell_type": "code",
   "execution_count": 15,
   "id": "e599b3ec",
   "metadata": {
    "vscode": {
     "languageId": "r"
    }
   },
   "outputs": [
    {
     "name": "stdout",
     "output_type": "stream",
     "text": [
      "[1] 45036    13\n"
     ]
    },
    {
     "data": {
      "text/html": [
       "<table class=\"dataframe\">\n",
       "<caption>A tibble: 2 × 13</caption>\n",
       "<thead>\n",
       "\t<tr><th scope=col>feature</th><th scope=col>compartment</th><th scope=col>feature_group</th><th scope=col>measurement</th><th scope=col>channel</th><th scope=col>parameter1</th><th scope=col>parameter2</th><th scope=col>r2_score</th><th scope=col>Metadata_number_of_singlecells</th><th scope=col>oneb_Metadata_Treatment_Dose_Inhibitor_Dose</th><th scope=col>dosage_treatments_list</th><th scope=col>channel_cleaned</th><th scope=col>channel_learned</th></tr>\n",
       "\t<tr><th scope=col>&lt;chr&gt;</th><th scope=col>&lt;chr&gt;</th><th scope=col>&lt;chr&gt;</th><th scope=col>&lt;chr&gt;</th><th scope=col>&lt;chr&gt;</th><th scope=col>&lt;chr&gt;</th><th scope=col>&lt;chr&gt;</th><th scope=col>&lt;dbl&gt;</th><th scope=col>&lt;dbl&gt;</th><th scope=col>&lt;dbl&gt;</th><th scope=col>&lt;chr&gt;</th><th scope=col>&lt;chr&gt;</th><th scope=col>&lt;chr&gt;</th></tr>\n",
       "</thead>\n",
       "<tbody>\n",
       "\t<tr><td>Cytoplasm_Correlation_RWC_CorrPM_CorrMito            </td><td>Cytoplasm</td><td>Correlation</td><td>RWC              </td><td>CorrPM  </td><td>CorrMito</td><td>NA</td><td>0.3742011</td><td>-0.0002044911</td><td>-2.760298</td><td>H2O2_100.000_Disulfiram_1.0-DMSO_0.100_DMSO_0.025          </td><td>CorrPM  </td><td>PM  </td></tr>\n",
       "\t<tr><td>Cytoplasm_Texture_DifferenceEntropy_CorrMito_3_00_256</td><td>Cytoplasm</td><td>Texture    </td><td>DifferenceEntropy</td><td>CorrMito</td><td>3       </td><td>00</td><td>0.4806035</td><td> 0.0003742630</td><td> 2.696151</td><td>LPS_Nigericin_100.000_10.0_DMSO_0.025-DMSO_0.100_DMSO_0.025</td><td>CorrMito</td><td>Mito</td></tr>\n",
       "</tbody>\n",
       "</table>\n"
      ],
      "text/latex": [
       "A tibble: 2 × 13\n",
       "\\begin{tabular}{lllllllllllll}\n",
       " feature & compartment & feature\\_group & measurement & channel & parameter1 & parameter2 & r2\\_score & Metadata\\_number\\_of\\_singlecells & oneb\\_Metadata\\_Treatment\\_Dose\\_Inhibitor\\_Dose & dosage\\_treatments\\_list & channel\\_cleaned & channel\\_learned\\\\\n",
       " <chr> & <chr> & <chr> & <chr> & <chr> & <chr> & <chr> & <dbl> & <dbl> & <dbl> & <chr> & <chr> & <chr>\\\\\n",
       "\\hline\n",
       "\t Cytoplasm\\_Correlation\\_RWC\\_CorrPM\\_CorrMito             & Cytoplasm & Correlation & RWC               & CorrPM   & CorrMito & NA & 0.3742011 & -0.0002044911 & -2.760298 & H2O2\\_100.000\\_Disulfiram\\_1.0-DMSO\\_0.100\\_DMSO\\_0.025           & CorrPM   & PM  \\\\\n",
       "\t Cytoplasm\\_Texture\\_DifferenceEntropy\\_CorrMito\\_3\\_00\\_256 & Cytoplasm & Texture     & DifferenceEntropy & CorrMito & 3        & 00 & 0.4806035 &  0.0003742630 &  2.696151 & LPS\\_Nigericin\\_100.000\\_10.0\\_DMSO\\_0.025-DMSO\\_0.100\\_DMSO\\_0.025 & CorrMito & Mito\\\\\n",
       "\\end{tabular}\n"
      ],
      "text/markdown": [
       "\n",
       "A tibble: 2 × 13\n",
       "\n",
       "| feature &lt;chr&gt; | compartment &lt;chr&gt; | feature_group &lt;chr&gt; | measurement &lt;chr&gt; | channel &lt;chr&gt; | parameter1 &lt;chr&gt; | parameter2 &lt;chr&gt; | r2_score &lt;dbl&gt; | Metadata_number_of_singlecells &lt;dbl&gt; | oneb_Metadata_Treatment_Dose_Inhibitor_Dose &lt;dbl&gt; | dosage_treatments_list &lt;chr&gt; | channel_cleaned &lt;chr&gt; | channel_learned &lt;chr&gt; |\n",
       "|---|---|---|---|---|---|---|---|---|---|---|---|---|\n",
       "| Cytoplasm_Correlation_RWC_CorrPM_CorrMito             | Cytoplasm | Correlation | RWC               | CorrPM   | CorrMito | NA | 0.3742011 | -0.0002044911 | -2.760298 | H2O2_100.000_Disulfiram_1.0-DMSO_0.100_DMSO_0.025           | CorrPM   | PM   |\n",
       "| Cytoplasm_Texture_DifferenceEntropy_CorrMito_3_00_256 | Cytoplasm | Texture     | DifferenceEntropy | CorrMito | 3        | 00 | 0.4806035 |  0.0003742630 |  2.696151 | LPS_Nigericin_100.000_10.0_DMSO_0.025-DMSO_0.100_DMSO_0.025 | CorrMito | Mito |\n",
       "\n"
      ],
      "text/plain": [
       "  feature                                               compartment\n",
       "1 Cytoplasm_Correlation_RWC_CorrPM_CorrMito             Cytoplasm  \n",
       "2 Cytoplasm_Texture_DifferenceEntropy_CorrMito_3_00_256 Cytoplasm  \n",
       "  feature_group measurement       channel  parameter1 parameter2 r2_score \n",
       "1 Correlation   RWC               CorrPM   CorrMito   NA         0.3742011\n",
       "2 Texture       DifferenceEntropy CorrMito 3          00         0.4806035\n",
       "  Metadata_number_of_singlecells oneb_Metadata_Treatment_Dose_Inhibitor_Dose\n",
       "1 -0.0002044911                  -2.760298                                  \n",
       "2  0.0003742630                   2.696151                                  \n",
       "  dosage_treatments_list                                      channel_cleaned\n",
       "1 H2O2_100.000_Disulfiram_1.0-DMSO_0.100_DMSO_0.025           CorrPM         \n",
       "2 LPS_Nigericin_100.000_10.0_DMSO_0.025-DMSO_0.100_DMSO_0.025 CorrMito       \n",
       "  channel_learned\n",
       "1 PM             \n",
       "2 Mito           "
      ]
     },
     "metadata": {},
     "output_type": "display_data"
    },
    {
     "data": {
      "text/html": [
       "<style>\n",
       ".list-inline {list-style: none; margin:0; padding: 0}\n",
       ".list-inline>li {display: inline-block}\n",
       ".list-inline>li:not(:last-child)::after {content: \"\\00b7\"; padding: 0 .5ex}\n",
       "</style>\n",
       "<ol class=list-inline><li>'PM'</li><li>'Mito'</li><li>'gasdermin'</li><li>'ER'</li><li>'nuclei'</li><li>'other'</li></ol>\n"
      ],
      "text/latex": [
       "\\begin{enumerate*}\n",
       "\\item 'PM'\n",
       "\\item 'Mito'\n",
       "\\item 'gasdermin'\n",
       "\\item 'ER'\n",
       "\\item 'nuclei'\n",
       "\\item 'other'\n",
       "\\end{enumerate*}\n"
      ],
      "text/markdown": [
       "1. 'PM'\n",
       "2. 'Mito'\n",
       "3. 'gasdermin'\n",
       "4. 'ER'\n",
       "5. 'nuclei'\n",
       "6. 'other'\n",
       "\n",
       "\n"
      ],
      "text/plain": [
       "[1] \"PM\"        \"Mito\"      \"gasdermin\" \"ER\"        \"nuclei\"    \"other\"    "
      ]
     },
     "metadata": {},
     "output_type": "display_data"
    }
   ],
   "source": [
    "# Clean channel for visualization\n",
    "lm_df$channel_learned <- dplyr::recode(lm_df$channel_cleaned,\n",
    "        \"CorrDNA\" = \"nuclei\",\n",
    "        \"CorrMito\" = \"Mito\",\n",
    "        \"CorrER\" = \"ER\",\n",
    "        \"CorrGasdermin\" = \"gasdermin\",\n",
    "        \"CorrPM\" = \"PM\",\n",
    "        .default = \"other\",\n",
    "        .missing=\"other\"\n",
    "    )\n",
    "\n",
    "print(dim(lm_df))\n",
    "head(lm_df, 2)\n",
    "unique(lm_df$channel_learned)\n",
    "lm_df$abs_Metadata_number_of_singlecells <- abs(lm_df$Metadata_number_of_singlecells)\n",
    "lm_df$abs_oneb_Metadata_Treatment_Dose_Inhibitor_Dose <- abs(lm_df$oneb_Metadata_Treatment_Dose_Inhibitor_Dose)"
   ]
  },
  {
   "cell_type": "code",
   "execution_count": null,
   "id": "dc403c69",
   "metadata": {
    "vscode": {
     "languageId": "r"
    }
   },
   "outputs": [],
   "source": []
  },
  {
   "cell_type": "code",
   "execution_count": 30,
   "id": "11b0671d",
   "metadata": {
    "vscode": {
     "languageId": "r"
    }
   },
   "outputs": [],
   "source": [
    "df <- lm_df[lm_df$dosage_treatments_list == 'LPS_100.000_DMSO_0.025-DMSO_0.100_DMSO_0.025',]"
   ]
  },
  {
   "cell_type": "code",
   "execution_count": 31,
   "id": "a76982c2",
   "metadata": {
    "vscode": {
     "languageId": "r"
    }
   },
   "outputs": [
    {
     "data": {
      "text/html": [
       "<table class=\"dataframe\">\n",
       "<caption>A tibble: 2 × 15</caption>\n",
       "<thead>\n",
       "\t<tr><th scope=col>feature</th><th scope=col>compartment</th><th scope=col>feature_group</th><th scope=col>measurement</th><th scope=col>channel</th><th scope=col>parameter1</th><th scope=col>parameter2</th><th scope=col>r2_score</th><th scope=col>Metadata_number_of_singlecells</th><th scope=col>oneb_Metadata_Treatment_Dose_Inhibitor_Dose</th><th scope=col>dosage_treatments_list</th><th scope=col>channel_cleaned</th><th scope=col>channel_learned</th><th scope=col>abs_Metadata_number_of_singlecells</th><th scope=col>abs_oneb_Metadata_Treatment_Dose_Inhibitor_Dose</th></tr>\n",
       "\t<tr><th scope=col>&lt;chr&gt;</th><th scope=col>&lt;chr&gt;</th><th scope=col>&lt;chr&gt;</th><th scope=col>&lt;chr&gt;</th><th scope=col>&lt;chr&gt;</th><th scope=col>&lt;chr&gt;</th><th scope=col>&lt;chr&gt;</th><th scope=col>&lt;dbl&gt;</th><th scope=col>&lt;dbl&gt;</th><th scope=col>&lt;dbl&gt;</th><th scope=col>&lt;chr&gt;</th><th scope=col>&lt;chr&gt;</th><th scope=col>&lt;chr&gt;</th><th scope=col>&lt;dbl&gt;</th><th scope=col>&lt;dbl&gt;</th></tr>\n",
       "</thead>\n",
       "<tbody>\n",
       "\t<tr><td>Cells_Intensity_MinIntensityEdge_CorrMito </td><td>Cells </td><td>Intensity</td><td>MinIntensityEdge</td><td>CorrMito</td><td>NA</td><td>NA</td><td>0.3625977</td><td>0.0002094766</td><td>1.833204</td><td>LPS_100.000_DMSO_0.025-DMSO_0.100_DMSO_0.025</td><td>CorrMito</td><td>Mito</td><td>0.0002094766</td><td>1.833204</td></tr>\n",
       "\t<tr><td>Nuclei_Intensity_MinIntensityEdge_CorrMito</td><td>Nuclei</td><td>Intensity</td><td>MinIntensityEdge</td><td>CorrMito</td><td>NA</td><td>NA</td><td>0.2467320</td><td>0.0001475019</td><td>1.465545</td><td>LPS_100.000_DMSO_0.025-DMSO_0.100_DMSO_0.025</td><td>CorrMito</td><td>Mito</td><td>0.0001475019</td><td>1.465545</td></tr>\n",
       "</tbody>\n",
       "</table>\n"
      ],
      "text/latex": [
       "A tibble: 2 × 15\n",
       "\\begin{tabular}{lllllllllllllll}\n",
       " feature & compartment & feature\\_group & measurement & channel & parameter1 & parameter2 & r2\\_score & Metadata\\_number\\_of\\_singlecells & oneb\\_Metadata\\_Treatment\\_Dose\\_Inhibitor\\_Dose & dosage\\_treatments\\_list & channel\\_cleaned & channel\\_learned & abs\\_Metadata\\_number\\_of\\_singlecells & abs\\_oneb\\_Metadata\\_Treatment\\_Dose\\_Inhibitor\\_Dose\\\\\n",
       " <chr> & <chr> & <chr> & <chr> & <chr> & <chr> & <chr> & <dbl> & <dbl> & <dbl> & <chr> & <chr> & <chr> & <dbl> & <dbl>\\\\\n",
       "\\hline\n",
       "\t Cells\\_Intensity\\_MinIntensityEdge\\_CorrMito  & Cells  & Intensity & MinIntensityEdge & CorrMito & NA & NA & 0.3625977 & 0.0002094766 & 1.833204 & LPS\\_100.000\\_DMSO\\_0.025-DMSO\\_0.100\\_DMSO\\_0.025 & CorrMito & Mito & 0.0002094766 & 1.833204\\\\\n",
       "\t Nuclei\\_Intensity\\_MinIntensityEdge\\_CorrMito & Nuclei & Intensity & MinIntensityEdge & CorrMito & NA & NA & 0.2467320 & 0.0001475019 & 1.465545 & LPS\\_100.000\\_DMSO\\_0.025-DMSO\\_0.100\\_DMSO\\_0.025 & CorrMito & Mito & 0.0001475019 & 1.465545\\\\\n",
       "\\end{tabular}\n"
      ],
      "text/markdown": [
       "\n",
       "A tibble: 2 × 15\n",
       "\n",
       "| feature &lt;chr&gt; | compartment &lt;chr&gt; | feature_group &lt;chr&gt; | measurement &lt;chr&gt; | channel &lt;chr&gt; | parameter1 &lt;chr&gt; | parameter2 &lt;chr&gt; | r2_score &lt;dbl&gt; | Metadata_number_of_singlecells &lt;dbl&gt; | oneb_Metadata_Treatment_Dose_Inhibitor_Dose &lt;dbl&gt; | dosage_treatments_list &lt;chr&gt; | channel_cleaned &lt;chr&gt; | channel_learned &lt;chr&gt; | abs_Metadata_number_of_singlecells &lt;dbl&gt; | abs_oneb_Metadata_Treatment_Dose_Inhibitor_Dose &lt;dbl&gt; |\n",
       "|---|---|---|---|---|---|---|---|---|---|---|---|---|---|---|\n",
       "| Cells_Intensity_MinIntensityEdge_CorrMito  | Cells  | Intensity | MinIntensityEdge | CorrMito | NA | NA | 0.3625977 | 0.0002094766 | 1.833204 | LPS_100.000_DMSO_0.025-DMSO_0.100_DMSO_0.025 | CorrMito | Mito | 0.0002094766 | 1.833204 |\n",
       "| Nuclei_Intensity_MinIntensityEdge_CorrMito | Nuclei | Intensity | MinIntensityEdge | CorrMito | NA | NA | 0.2467320 | 0.0001475019 | 1.465545 | LPS_100.000_DMSO_0.025-DMSO_0.100_DMSO_0.025 | CorrMito | Mito | 0.0001475019 | 1.465545 |\n",
       "\n"
      ],
      "text/plain": [
       "  feature                                    compartment feature_group\n",
       "1 Cells_Intensity_MinIntensityEdge_CorrMito  Cells       Intensity    \n",
       "2 Nuclei_Intensity_MinIntensityEdge_CorrMito Nuclei      Intensity    \n",
       "  measurement      channel  parameter1 parameter2 r2_score \n",
       "1 MinIntensityEdge CorrMito NA         NA         0.3625977\n",
       "2 MinIntensityEdge CorrMito NA         NA         0.2467320\n",
       "  Metadata_number_of_singlecells oneb_Metadata_Treatment_Dose_Inhibitor_Dose\n",
       "1 0.0002094766                   1.833204                                   \n",
       "2 0.0001475019                   1.465545                                   \n",
       "  dosage_treatments_list                       channel_cleaned channel_learned\n",
       "1 LPS_100.000_DMSO_0.025-DMSO_0.100_DMSO_0.025 CorrMito        Mito           \n",
       "2 LPS_100.000_DMSO_0.025-DMSO_0.100_DMSO_0.025 CorrMito        Mito           \n",
       "  abs_Metadata_number_of_singlecells\n",
       "1 0.0002094766                      \n",
       "2 0.0001475019                      \n",
       "  abs_oneb_Metadata_Treatment_Dose_Inhibitor_Dose\n",
       "1 1.833204                                       \n",
       "2 1.465545                                       "
      ]
     },
     "metadata": {},
     "output_type": "display_data"
    },
    {
     "data": {
      "text/html": [
       "<table class=\"dataframe\">\n",
       "<caption>A tibble: 1 × 15</caption>\n",
       "<thead>\n",
       "\t<tr><th scope=col>feature</th><th scope=col>compartment</th><th scope=col>feature_group</th><th scope=col>measurement</th><th scope=col>channel</th><th scope=col>parameter1</th><th scope=col>parameter2</th><th scope=col>r2_score</th><th scope=col>Metadata_number_of_singlecells</th><th scope=col>oneb_Metadata_Treatment_Dose_Inhibitor_Dose</th><th scope=col>dosage_treatments_list</th><th scope=col>channel_cleaned</th><th scope=col>channel_learned</th><th scope=col>abs_Metadata_number_of_singlecells</th><th scope=col>abs_oneb_Metadata_Treatment_Dose_Inhibitor_Dose</th></tr>\n",
       "\t<tr><th scope=col>&lt;chr&gt;</th><th scope=col>&lt;chr&gt;</th><th scope=col>&lt;chr&gt;</th><th scope=col>&lt;chr&gt;</th><th scope=col>&lt;chr&gt;</th><th scope=col>&lt;chr&gt;</th><th scope=col>&lt;chr&gt;</th><th scope=col>&lt;dbl&gt;</th><th scope=col>&lt;dbl&gt;</th><th scope=col>&lt;dbl&gt;</th><th scope=col>&lt;chr&gt;</th><th scope=col>&lt;chr&gt;</th><th scope=col>&lt;chr&gt;</th><th scope=col>&lt;dbl&gt;</th><th scope=col>&lt;dbl&gt;</th></tr>\n",
       "</thead>\n",
       "<tbody>\n",
       "\t<tr><td>Cells_Texture_InverseDifferenceMoment_CorrMito_3_00_256</td><td>Cells</td><td>Texture</td><td>InverseDifferenceMoment</td><td>CorrMito</td><td>3</td><td>00</td><td>0.210258</td><td>-0.0002194226</td><td>-1.244634</td><td>LPS_100.000_DMSO_0.025-DMSO_0.100_DMSO_0.025</td><td>CorrMito</td><td>Mito</td><td>0.0002194226</td><td>1.244634</td></tr>\n",
       "</tbody>\n",
       "</table>\n"
      ],
      "text/latex": [
       "A tibble: 1 × 15\n",
       "\\begin{tabular}{lllllllllllllll}\n",
       " feature & compartment & feature\\_group & measurement & channel & parameter1 & parameter2 & r2\\_score & Metadata\\_number\\_of\\_singlecells & oneb\\_Metadata\\_Treatment\\_Dose\\_Inhibitor\\_Dose & dosage\\_treatments\\_list & channel\\_cleaned & channel\\_learned & abs\\_Metadata\\_number\\_of\\_singlecells & abs\\_oneb\\_Metadata\\_Treatment\\_Dose\\_Inhibitor\\_Dose\\\\\n",
       " <chr> & <chr> & <chr> & <chr> & <chr> & <chr> & <chr> & <dbl> & <dbl> & <dbl> & <chr> & <chr> & <chr> & <dbl> & <dbl>\\\\\n",
       "\\hline\n",
       "\t Cells\\_Texture\\_InverseDifferenceMoment\\_CorrMito\\_3\\_00\\_256 & Cells & Texture & InverseDifferenceMoment & CorrMito & 3 & 00 & 0.210258 & -0.0002194226 & -1.244634 & LPS\\_100.000\\_DMSO\\_0.025-DMSO\\_0.100\\_DMSO\\_0.025 & CorrMito & Mito & 0.0002194226 & 1.244634\\\\\n",
       "\\end{tabular}\n"
      ],
      "text/markdown": [
       "\n",
       "A tibble: 1 × 15\n",
       "\n",
       "| feature &lt;chr&gt; | compartment &lt;chr&gt; | feature_group &lt;chr&gt; | measurement &lt;chr&gt; | channel &lt;chr&gt; | parameter1 &lt;chr&gt; | parameter2 &lt;chr&gt; | r2_score &lt;dbl&gt; | Metadata_number_of_singlecells &lt;dbl&gt; | oneb_Metadata_Treatment_Dose_Inhibitor_Dose &lt;dbl&gt; | dosage_treatments_list &lt;chr&gt; | channel_cleaned &lt;chr&gt; | channel_learned &lt;chr&gt; | abs_Metadata_number_of_singlecells &lt;dbl&gt; | abs_oneb_Metadata_Treatment_Dose_Inhibitor_Dose &lt;dbl&gt; |\n",
       "|---|---|---|---|---|---|---|---|---|---|---|---|---|---|---|\n",
       "| Cells_Texture_InverseDifferenceMoment_CorrMito_3_00_256 | Cells | Texture | InverseDifferenceMoment | CorrMito | 3 | 00 | 0.210258 | -0.0002194226 | -1.244634 | LPS_100.000_DMSO_0.025-DMSO_0.100_DMSO_0.025 | CorrMito | Mito | 0.0002194226 | 1.244634 |\n",
       "\n"
      ],
      "text/plain": [
       "  feature                                                 compartment\n",
       "1 Cells_Texture_InverseDifferenceMoment_CorrMito_3_00_256 Cells      \n",
       "  feature_group measurement             channel  parameter1 parameter2 r2_score\n",
       "1 Texture       InverseDifferenceMoment CorrMito 3          00         0.210258\n",
       "  Metadata_number_of_singlecells oneb_Metadata_Treatment_Dose_Inhibitor_Dose\n",
       "1 -0.0002194226                  -1.244634                                  \n",
       "  dosage_treatments_list                       channel_cleaned channel_learned\n",
       "1 LPS_100.000_DMSO_0.025-DMSO_0.100_DMSO_0.025 CorrMito        Mito           \n",
       "  abs_Metadata_number_of_singlecells\n",
       "1 0.0002194226                      \n",
       "  abs_oneb_Metadata_Treatment_Dose_Inhibitor_Dose\n",
       "1 1.244634                                       "
      ]
     },
     "metadata": {},
     "output_type": "display_data"
    }
   ],
   "source": [
    "df <- df[df$channel_learned == 'Mito',]\n",
    "head(df,2)\n",
    "# get the max row of the oneb_Metadata_Treatment_Dose_Inhibitor_Dose channel\n",
    "df <- df[which.min(df$oneb_Metadata_Treatment_Dose_Inhibitor_Dose),]\n",
    "df"
   ]
  },
  {
   "cell_type": "code",
   "execution_count": 16,
   "id": "a429584c",
   "metadata": {
    "vscode": {
     "languageId": "r"
    }
   },
   "outputs": [],
   "source": [
    "loop_list <- unique(lm_df$dosage_treatments_list)\n",
    "# drop 'DMSO_0.100_DMSO_0.025-DMSO_0.100_DMSO_0.025' from loop_list to avoid error in plotting\n",
    "loop_list <- loop_list[!grepl('DMSO_0.100_DMSO_0.025-DMSO_0.100_DMSO_0.025', loop_list)]"
   ]
  },
  {
   "cell_type": "code",
   "execution_count": 17,
   "id": "4873b1f4",
   "metadata": {
    "vscode": {
     "languageId": "r"
    }
   },
   "outputs": [
    {
     "data": {
      "text/html": [
       "<strong>png:</strong> 2"
      ],
      "text/latex": [
       "\\textbf{png:} 2"
      ],
      "text/markdown": [
       "**png:** 2"
      ],
      "text/plain": [
       "png \n",
       "  2 "
      ]
     },
     "metadata": {},
     "output_type": "display_data"
    }
   ],
   "source": [
    "pdf(file=lm_cp_fig)\n",
    "for (i in 1:length(loop_list)){\n",
    "    df <- lm_df[lm_df$dosage_treatments_list == loop_list[i],]\n",
    "    lm_fig_gg <- (\n",
    "        ggplot(df, aes(x = Metadata_number_of_singlecells,, y = oneb_Metadata_Treatment_Dose_Inhibitor_Dose))\n",
    "\n",
    "        + geom_point(aes(size = r2_score, color = channel_learned,), alpha = 0.7)\n",
    "\n",
    "        + scale_size_continuous(range = c(2, 8), limits = c(0, 1))\n",
    "\n",
    "\n",
    "        + geom_vline(xintercept = 0, linetype = \"dashed\", color = \"red\")\n",
    "        + geom_hline(yintercept = 0, linetype = \"dashed\", color = \"red\")\n",
    "        + geom_density2d(color=\"black\", show.legend = FALSE)\n",
    "        + theme_bw()\n",
    "        + guides(\n",
    "            color = guide_legend(title = \"Channel\\n(if applicable)\", order = 1),\n",
    "            size = guide_legend(title = \"R2 score\")\n",
    "        )\n",
    "        # make legend dots bigger\n",
    "        + ylab(\"Treatment contribution (LM beta coefficient)\")\n",
    "        + xlab(\"Cell count contribution (LM beta coefficient)\")\n",
    "        + ggtitle(paste0(\"How CellProfiler features contribute\\nto \",loop_list[i], \" treatments and cell density\"))\n",
    "    )\n",
    "    plot(lm_fig_gg)\n",
    "}\n",
    "dev.off()\n"
   ]
  },
  {
   "cell_type": "code",
   "execution_count": 18,
   "id": "732318a5",
   "metadata": {
    "vscode": {
     "languageId": "r"
    }
   },
   "outputs": [
    {
     "data": {
      "text/html": [
       "<strong>png:</strong> 2"
      ],
      "text/latex": [
       "\\textbf{png:} 2"
      ],
      "text/markdown": [
       "**png:** 2"
      ],
      "text/plain": [
       "png \n",
       "  2 "
      ]
     },
     "metadata": {},
     "output_type": "display_data"
    }
   ],
   "source": [
    "pdf(file=lm_cp_fig_abs)\n",
    "for (i in 1:length(loop_list)){\n",
    "\n",
    "    df <- lm_df[lm_df$dosage_treatments_list == loop_list[i],]\n",
    "    lm_fig_gg <- (\n",
    "        ggplot(df, aes(x = abs_oneb_Metadata_Treatment_Dose_Inhibitor_Dose, y = r2_score))\n",
    "        + geom_point(aes(size = abs_Metadata_number_of_singlecells, color = channel_learned), alpha = 0.7)\n",
    "\n",
    "        + theme_bw()\n",
    "        + guides(\n",
    "            color = guide_legend(title = \"Channel\\n(if applicable)\", order = 1),\n",
    "            size = guide_legend(title = \"Cell count contributution\")\n",
    "        )\n",
    "        + ylab(\"R2 score of LM feature\")\n",
    "        + xlab(\"Treatment and Dose contribution (LM beta coefficient)\")\n",
    "        + ggtitle(paste0(\"How CellProfiler features contribute\\nto \",loop_list[i], \" treatments and cell density\"))\n",
    "    )\n",
    "\n",
    "    plot(lm_fig_gg)\n",
    "}\n",
    "dev.off()"
   ]
  }
 ],
 "metadata": {
  "kernelspec": {
   "display_name": "R",
   "language": "R",
   "name": "ir"
  },
  "language_info": {
   "codemirror_mode": "r",
   "file_extension": ".r",
   "mimetype": "text/x-r-source",
   "name": "R",
   "pygments_lexer": "r",
   "version": "4.2.2"
  },
  "vscode": {
   "interpreter": {
    "hash": "72ae02083a9ca7d143c492d1aec380c7bf553ec51bd66e90e72bba65228121b6"
   }
  }
 },
 "nbformat": 4,
 "nbformat_minor": 5
}
