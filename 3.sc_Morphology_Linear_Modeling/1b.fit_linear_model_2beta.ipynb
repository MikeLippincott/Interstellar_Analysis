{
 "cells": [
  {
   "cell_type": "code",
   "execution_count": 1,
   "id": "53f726cc",
   "metadata": {
    "execution": {
     "iopub.execute_input": "2023-07-12T03:52:00.802914Z",
     "iopub.status.busy": "2023-07-12T03:52:00.802518Z",
     "iopub.status.idle": "2023-07-12T03:52:02.443372Z",
     "shell.execute_reply": "2023-07-12T03:52:02.442945Z"
    },
    "papermill": {
     "duration": 1.64495,
     "end_time": "2023-07-12T03:52:02.444705",
     "exception": false,
     "start_time": "2023-07-12T03:52:00.799755",
     "status": "completed"
    },
    "tags": []
   },
   "outputs": [],
   "source": [
    "import pathlib\n",
    "import sys\n",
    "\n",
    "import matplotlib.pyplot as plt\n",
    "import numpy as np\n",
    "import pandas as pd\n",
    "import plotly.express as px\n",
    "import pyarrow as pa\n",
    "import pyarrow.parquet as pq\n",
    "import seaborn as sns\n",
    "from matplotlib import pyplot as plt\n",
    "from pycytominer.cyto_utils import infer_cp_features\n",
    "from sklearn.linear_model import LinearRegression\n",
    "from sklearn.preprocessing import LabelEncoder\n",
    "\n",
    "pd.set_option(\"mode.chained_assignment\", None)"
   ]
  },
  {
   "cell_type": "code",
   "execution_count": 2,
   "id": "b6737dfc",
   "metadata": {
    "execution": {
     "iopub.execute_input": "2023-07-12T03:52:02.451030Z",
     "iopub.status.busy": "2023-07-12T03:52:02.450780Z",
     "iopub.status.idle": "2023-07-12T03:52:02.452877Z",
     "shell.execute_reply": "2023-07-12T03:52:02.452561Z"
    },
    "papermill": {
     "duration": 0.004571,
     "end_time": "2023-07-12T03:52:02.453615",
     "exception": false,
     "start_time": "2023-07-12T03:52:02.449044",
     "status": "completed"
    },
    "tags": [
     "injected-parameters"
    ]
   },
   "outputs": [],
   "source": [
    "# Parameters\n",
    "celltype = \"PBMC\""
   ]
  },
  {
   "cell_type": "code",
   "execution_count": 3,
   "id": "ead61d82",
   "metadata": {
    "execution": {
     "iopub.execute_input": "2023-07-12T03:52:02.456629Z",
     "iopub.status.busy": "2023-07-12T03:52:02.456178Z",
     "iopub.status.idle": "2023-07-12T03:54:00.359125Z",
     "shell.execute_reply": "2023-07-12T03:54:00.358617Z"
    },
    "papermill": {
     "duration": 117.905993,
     "end_time": "2023-07-12T03:54:00.360732",
     "exception": false,
     "start_time": "2023-07-12T03:52:02.454739",
     "status": "completed"
    },
    "tags": []
   },
   "outputs": [],
   "source": [
    "# Define inputs\n",
    "feature_file = pathlib.Path(f\"../data/{celltype}_preprocessed_sc_norm.parquet\")\n",
    "feature_df = pq.read_table(feature_file).to_pandas()"
   ]
  },
  {
   "cell_type": "code",
   "execution_count": 4,
   "id": "3048a1f5",
   "metadata": {
    "execution": {
     "iopub.execute_input": "2023-07-12T03:54:00.572748Z",
     "iopub.status.busy": "2023-07-12T03:54:00.572560Z",
     "iopub.status.idle": "2023-07-12T03:54:00.575368Z",
     "shell.execute_reply": "2023-07-12T03:54:00.575049Z"
    },
    "papermill": {
     "duration": 0.00588,
     "end_time": "2023-07-12T03:54:00.576117",
     "exception": false,
     "start_time": "2023-07-12T03:54:00.570237",
     "status": "completed"
    },
    "tags": []
   },
   "outputs": [],
   "source": [
    "# if path does not exist, create one\n",
    "pathlib.Path(f\"./results/{celltype}\").mkdir(parents=True, exist_ok=True)\n",
    "\n",
    "# define output file path\n",
    "one_beta_output_file_path = pathlib.Path(f\"./results/{celltype}/lm_one_beta.tsv\")\n",
    "two_beta_output_file_path = pathlib.Path(f\"./results/{celltype}/lm_two_beta.tsv\")\n",
    "three_beta_output_file_path = pathlib.Path(f\"./results/{celltype}/lm_three_beta.tsv\")\n",
    "four_beta_output_file_path = pathlib.Path(f\"./results/{celltype}/lm_four_beta.tsv\")"
   ]
  },
  {
   "cell_type": "code",
   "execution_count": 5,
   "id": "d240176f",
   "metadata": {
    "execution": {
     "iopub.execute_input": "2023-07-12T03:54:00.579469Z",
     "iopub.status.busy": "2023-07-12T03:54:00.579046Z",
     "iopub.status.idle": "2023-07-12T03:54:00.810325Z",
     "shell.execute_reply": "2023-07-12T03:54:00.809893Z"
    },
    "papermill": {
     "duration": 0.233987,
     "end_time": "2023-07-12T03:54:00.811295",
     "exception": false,
     "start_time": "2023-07-12T03:54:00.577308",
     "status": "completed"
    },
    "tags": []
   },
   "outputs": [
    {
     "name": "stdout",
     "output_type": "stream",
     "text": [
      "We are testing 1245 features\n",
      "The unique Treatment-Dosages are: LPS_DMSO_0.025__0.010, \n",
      "LPS_DMSO_0.025__0.100, \n",
      "LPS_Nigericin_DMSO_0.025__100.000_1.0, \n",
      "LPS_Nigericin_DMSO_0.025__100.000_3.0, \n",
      "DMSO_DMSO_0.025__0.100, \n",
      "media ctr_Media ctr_0.0__0, \n",
      "DMSO_DMSO_1.0__0.100, \n",
      "LPS_DMSO_0.025__1.000, \n",
      "LPS_DMSO_0.025__10.000, \n",
      "LPS_Nigericin_DMSO_0.025__100.000_10.0, \n",
      "Disulfiram_DMSO_0.025__0.100, \n",
      "Thapsigargin_DMSO_0.025__1.000, \n",
      "Thapsigargin_DMSO_0.025__10.000, \n",
      "DMSO_Z-VAD-FMK_100.0__0.100, \n",
      "DMSO_Z-VAD-FMK_30.0__0.100, \n",
      "LPS_Disulfiram_0.1__10.000, \n",
      "LPS_Disulfiram_1.0__10.000, \n",
      "Disulfiram_DMSO_0.025__1.000, \n",
      "Disulfiram_DMSO_0.025__2.5, \n",
      "Disulfiram_DMSO_0.025__2.500, \n",
      "Topotecan_DMSO_0.025__5.000, \n",
      "Topotecan_DMSO_0.025__10.000, \n",
      "LPS_Disulfiram_2.5__10.000, \n",
      "LPS_Z-VAD-FMK_100.0__10.000, \n",
      "H2O2_DMSO_0.025__100.000, \n",
      "Topotecan_DMSO_0.025__20.000, \n",
      "LPS_DMSO_0.025__100.000, \n",
      "LPS_Nigericin_DMSO_0.025__1.000_1.0, \n",
      "H2O2_Disulfiram_1.0__100.000, \n",
      "H2O2_Z-VAD-FMK_100.0__100.000, \n",
      "LPS_Nigericin_DMSO_0.025__1.000_3.0, \n",
      "LPS_Nigericin_DMSO_0.025__1.000_10.0, \n",
      "Flagellin_DMSO_0.00025__0.100, \n",
      "Flagellin_DMSO_0.00025__1.000, \n",
      "Flagellin_DMSO_0.025__0.100, \n",
      "Flagellin_DMSO_0.025__1.000, \n",
      "LPS_Nigericin_Disulfiram_1.0__1.000_10.0, \n",
      "LPS_Nigericin_Z-VAD-FMK_100.0__1.000_10.0, \n",
      "Flagellin_Disulfiram_1.0__1.000, \n",
      "media ctr_Media_0.0__0\n"
     ]
    }
   ],
   "source": [
    "cp_features = infer_cp_features(feature_df)\n",
    "print(f\"We are testing {len(cp_features)} features\")\n",
    "\n",
    "new_line = \"\\n\"\n",
    "print(\n",
    "    f\"The unique Treatment-Dosages are: {f', {new_line}'.join((feature_df['twob_Metadata_Treatment_Dose_Inhibitor_Dose'].unique()))}\"\n",
    ")"
   ]
  },
  {
   "attachments": {},
   "cell_type": "markdown",
   "id": "08ed58ff",
   "metadata": {
    "papermill": {
     "duration": 0.001121,
     "end_time": "2023-07-12T03:54:00.813727",
     "exception": false,
     "start_time": "2023-07-12T03:54:00.812606",
     "status": "completed"
    },
    "tags": []
   },
   "source": [
    "#### Complex Linear Modeling (cell count btea + 2 beta approach)\n",
    "Here I run the same analysis as above but with dosage of a treatment being a factor in the linear model. All features and treatments will be exported into 1 file.\n",
    "\n",
    "Linear Model:  \n",
    "$y = \\beta _{0}x+ \\beta _{1}x+ \\beta _{2}x+ \\epsilon$ where;  \n",
    "$y$ is each feature    \n",
    "$x$ is the inputed variables  \n",
    "$\\beta _{0}$ is the beta coefficient attributed to cell count.  \n",
    "$\\beta _{1}$ is the beta coefficient attributed to Inducer, Inhibitor, and Inhibitor Dose.  \n",
    "$\\beta _{2}$ is the beta coefficient attributed to Inducer dose.  \n",
    "$\\epsilon$ is the residual variance not explained by factors in the model"
   ]
  },
  {
   "cell_type": "code",
   "execution_count": 6,
   "id": "1b4983e9",
   "metadata": {
    "execution": {
     "iopub.execute_input": "2023-07-12T03:54:00.817091Z",
     "iopub.status.busy": "2023-07-12T03:54:00.816806Z",
     "iopub.status.idle": "2023-07-12T04:07:30.199374Z",
     "shell.execute_reply": "2023-07-12T04:07:30.198916Z"
    },
    "papermill": {
     "duration": 809.385729,
     "end_time": "2023-07-12T04:07:30.200575",
     "exception": false,
     "start_time": "2023-07-12T03:54:00.814846",
     "status": "completed"
    },
    "tags": []
   },
   "outputs": [
    {
     "name": "stdout",
     "output_type": "stream",
     "text": [
      "['LPS_DMSO_0.025__0.010', 'DMSO_DMSO_0.025__0.100']\n"
     ]
    },
    {
     "name": "stdout",
     "output_type": "stream",
     "text": [
      "['LPS_DMSO_0.025__0.100', 'DMSO_DMSO_0.025__0.100']\n"
     ]
    },
    {
     "name": "stdout",
     "output_type": "stream",
     "text": [
      "['LPS_Nigericin_DMSO_0.025__100.000_1.0', 'DMSO_DMSO_0.025__0.100']\n"
     ]
    },
    {
     "name": "stdout",
     "output_type": "stream",
     "text": [
      "['LPS_Nigericin_DMSO_0.025__100.000_3.0', 'DMSO_DMSO_0.025__0.100']\n"
     ]
    },
    {
     "name": "stdout",
     "output_type": "stream",
     "text": [
      "['DMSO_DMSO_0.025__0.100', 'DMSO_DMSO_0.025__0.100']\n"
     ]
    },
    {
     "name": "stdout",
     "output_type": "stream",
     "text": [
      "['media ctr_Media ctr_0.0__0', 'DMSO_DMSO_0.025__0.100']\n"
     ]
    },
    {
     "name": "stdout",
     "output_type": "stream",
     "text": [
      "['DMSO_DMSO_1.0__0.100', 'DMSO_DMSO_0.025__0.100']\n"
     ]
    },
    {
     "name": "stdout",
     "output_type": "stream",
     "text": [
      "['LPS_DMSO_0.025__1.000', 'DMSO_DMSO_0.025__0.100']\n"
     ]
    },
    {
     "name": "stdout",
     "output_type": "stream",
     "text": [
      "['LPS_DMSO_0.025__10.000', 'DMSO_DMSO_0.025__0.100']\n"
     ]
    },
    {
     "name": "stdout",
     "output_type": "stream",
     "text": [
      "['LPS_Nigericin_DMSO_0.025__100.000_10.0', 'DMSO_DMSO_0.025__0.100']\n"
     ]
    },
    {
     "name": "stdout",
     "output_type": "stream",
     "text": [
      "['Disulfiram_DMSO_0.025__0.100', 'DMSO_DMSO_0.025__0.100']\n"
     ]
    },
    {
     "name": "stdout",
     "output_type": "stream",
     "text": [
      "['Thapsigargin_DMSO_0.025__1.000', 'DMSO_DMSO_0.025__0.100']\n"
     ]
    },
    {
     "name": "stdout",
     "output_type": "stream",
     "text": [
      "['Thapsigargin_DMSO_0.025__10.000', 'DMSO_DMSO_0.025__0.100']\n"
     ]
    },
    {
     "name": "stdout",
     "output_type": "stream",
     "text": [
      "['DMSO_Z-VAD-FMK_100.0__0.100', 'DMSO_DMSO_0.025__0.100']\n"
     ]
    },
    {
     "name": "stdout",
     "output_type": "stream",
     "text": [
      "['DMSO_Z-VAD-FMK_30.0__0.100', 'DMSO_DMSO_0.025__0.100']\n"
     ]
    },
    {
     "name": "stdout",
     "output_type": "stream",
     "text": [
      "['LPS_Disulfiram_0.1__10.000', 'DMSO_DMSO_0.025__0.100']\n"
     ]
    },
    {
     "name": "stdout",
     "output_type": "stream",
     "text": [
      "['LPS_Disulfiram_1.0__10.000', 'DMSO_DMSO_0.025__0.100']\n"
     ]
    },
    {
     "name": "stdout",
     "output_type": "stream",
     "text": [
      "['Disulfiram_DMSO_0.025__1.000', 'DMSO_DMSO_0.025__0.100']\n"
     ]
    },
    {
     "name": "stdout",
     "output_type": "stream",
     "text": [
      "['Disulfiram_DMSO_0.025__2.5', 'DMSO_DMSO_0.025__0.100']\n"
     ]
    },
    {
     "name": "stdout",
     "output_type": "stream",
     "text": [
      "['Disulfiram_DMSO_0.025__2.500', 'DMSO_DMSO_0.025__0.100']\n"
     ]
    },
    {
     "name": "stdout",
     "output_type": "stream",
     "text": [
      "['Topotecan_DMSO_0.025__5.000', 'DMSO_DMSO_0.025__0.100']\n"
     ]
    },
    {
     "name": "stdout",
     "output_type": "stream",
     "text": [
      "['Topotecan_DMSO_0.025__10.000', 'DMSO_DMSO_0.025__0.100']\n"
     ]
    },
    {
     "name": "stdout",
     "output_type": "stream",
     "text": [
      "['LPS_Disulfiram_2.5__10.000', 'DMSO_DMSO_0.025__0.100']\n"
     ]
    },
    {
     "name": "stdout",
     "output_type": "stream",
     "text": [
      "['LPS_Z-VAD-FMK_100.0__10.000', 'DMSO_DMSO_0.025__0.100']\n"
     ]
    },
    {
     "name": "stdout",
     "output_type": "stream",
     "text": [
      "['H2O2_DMSO_0.025__100.000', 'DMSO_DMSO_0.025__0.100']\n"
     ]
    },
    {
     "name": "stdout",
     "output_type": "stream",
     "text": [
      "['Topotecan_DMSO_0.025__20.000', 'DMSO_DMSO_0.025__0.100']\n"
     ]
    },
    {
     "name": "stdout",
     "output_type": "stream",
     "text": [
      "['LPS_DMSO_0.025__100.000', 'DMSO_DMSO_0.025__0.100']\n"
     ]
    },
    {
     "name": "stdout",
     "output_type": "stream",
     "text": [
      "['LPS_Nigericin_DMSO_0.025__1.000_1.0', 'DMSO_DMSO_0.025__0.100']\n"
     ]
    },
    {
     "name": "stdout",
     "output_type": "stream",
     "text": [
      "['H2O2_Disulfiram_1.0__100.000', 'DMSO_DMSO_0.025__0.100']\n"
     ]
    },
    {
     "name": "stdout",
     "output_type": "stream",
     "text": [
      "['H2O2_Z-VAD-FMK_100.0__100.000', 'DMSO_DMSO_0.025__0.100']\n"
     ]
    },
    {
     "name": "stdout",
     "output_type": "stream",
     "text": [
      "['LPS_Nigericin_DMSO_0.025__1.000_3.0', 'DMSO_DMSO_0.025__0.100']\n"
     ]
    },
    {
     "name": "stdout",
     "output_type": "stream",
     "text": [
      "['LPS_Nigericin_DMSO_0.025__1.000_10.0', 'DMSO_DMSO_0.025__0.100']\n"
     ]
    },
    {
     "name": "stdout",
     "output_type": "stream",
     "text": [
      "['Flagellin_DMSO_0.00025__0.100', 'DMSO_DMSO_0.025__0.100']\n"
     ]
    },
    {
     "name": "stdout",
     "output_type": "stream",
     "text": [
      "['Flagellin_DMSO_0.00025__1.000', 'DMSO_DMSO_0.025__0.100']\n"
     ]
    },
    {
     "name": "stdout",
     "output_type": "stream",
     "text": [
      "['Flagellin_DMSO_0.025__0.100', 'DMSO_DMSO_0.025__0.100']\n"
     ]
    },
    {
     "name": "stdout",
     "output_type": "stream",
     "text": [
      "['Flagellin_DMSO_0.025__1.000', 'DMSO_DMSO_0.025__0.100']\n"
     ]
    },
    {
     "name": "stdout",
     "output_type": "stream",
     "text": [
      "['LPS_Nigericin_Disulfiram_1.0__1.000_10.0', 'DMSO_DMSO_0.025__0.100']\n"
     ]
    },
    {
     "name": "stdout",
     "output_type": "stream",
     "text": [
      "['LPS_Nigericin_Z-VAD-FMK_100.0__1.000_10.0', 'DMSO_DMSO_0.025__0.100']\n"
     ]
    },
    {
     "name": "stdout",
     "output_type": "stream",
     "text": [
      "['Flagellin_Disulfiram_1.0__1.000', 'DMSO_DMSO_0.025__0.100']\n"
     ]
    },
    {
     "name": "stdout",
     "output_type": "stream",
     "text": [
      "['media ctr_Media_0.0__0', 'DMSO_DMSO_0.025__0.100']\n"
     ]
    }
   ],
   "source": [
    "# define the control and treatment\n",
    "# Setup linear modeling framework\n",
    "model_covariates = [\"Metadata_number_of_singlecells\"]\n",
    "control = \"DMSO_DMSO_0.025__0.100\"\n",
    "lm_results = []\n",
    "# Loop for each treatment then each feature\n",
    "for treatment in feature_df[\"twob_Metadata_Treatment_Dose_Inhibitor_Dose\"].unique():\n",
    "    dosage_treatments_list = [treatment, control]\n",
    "    print(dosage_treatments_list)\n",
    "    df = feature_df.query(\n",
    "        \"twob_Metadata_Treatment_Dose_Inhibitor_Dose in @dosage_treatments_list\"\n",
    "    )\n",
    "    # Add dummy matrix of categorical genotypes\n",
    "    df[[\"twob_Metadata_Treatment_Inhibitor_Dose\", \"Treatment_Dose\"]] = df[\n",
    "        \"twob_Metadata_Treatment_Dose_Inhibitor_Dose\"\n",
    "    ].str.split(\"__\", expand=True)\n",
    "    tmp_df = df.loc[\n",
    "        :,\n",
    "        (\n",
    "            \"twob_Metadata_Treatment_Inhibitor_Dose\",\n",
    "            \"Treatment_Dose\",\n",
    "        ),\n",
    "    ]\n",
    "\n",
    "    tmp_df[\"twob_Metadata_Treatment_Inhibitor_Dose\"] = LabelEncoder().fit_transform(\n",
    "        tmp_df[\"twob_Metadata_Treatment_Inhibitor_Dose\"]\n",
    "    )\n",
    "    tmp_df[\"Treatment_Dose\"] = LabelEncoder().fit_transform(tmp_df[\"Treatment_Dose\"])\n",
    "\n",
    "    X = pd.concat([df.loc[:, model_covariates], tmp_df], axis=1)\n",
    "    columns_list = (\n",
    "        [\"feature\", \"r2_score\"]\n",
    "        + X.columns.tolist()\n",
    "        + [\n",
    "            \"inducer1_inhibitor_inhibitor_dose__inducer1_dose\",\n",
    "        ]\n",
    "    )\n",
    "\n",
    "    # Fit linear model for each feature\n",
    "    for cp_feature in cp_features:\n",
    "        # Subset CP data to each individual feature (univariate test)\n",
    "        cp_subset_df = df.loc[:, cp_feature]\n",
    "\n",
    "        # Fit linear model\n",
    "        lm = LinearRegression(fit_intercept=True)\n",
    "        lm_result = lm.fit(X=X, y=cp_subset_df)\n",
    "\n",
    "        # Extract Beta coefficients\n",
    "        # (contribution of feature to X covariates)\n",
    "        coef = list(lm_result.coef_)\n",
    "        # Estimate fit (R^2)\n",
    "        r2_score = lm.score(X=X, y=cp_subset_df)\n",
    "\n",
    "        # Add results to a growing list\n",
    "        lm_results.append(\n",
    "            [cp_feature, r2_score]\n",
    "            + coef\n",
    "            + [\n",
    "                treatment,\n",
    "            ]\n",
    "        )\n",
    "\n",
    "# Convert results to a pandas DataFrame\n",
    "lm_results_df = pd.DataFrame(lm_results, columns=columns_list)\n",
    "\n",
    "# write output to file\n",
    "lm_results_df.to_csv(two_beta_output_file_path, sep=\"\\t\", index=False)"
   ]
  }
 ],
 "metadata": {
  "kernelspec": {
   "display_name": "Interstellar",
   "language": "python",
   "name": "python3"
  },
  "language_info": {
   "codemirror_mode": {
    "name": "ipython",
    "version": 3
   },
   "file_extension": ".py",
   "mimetype": "text/x-python",
   "name": "python",
   "nbconvert_exporter": "python",
   "pygments_lexer": "ipython3",
   "version": "3.10.12"
  },
  "papermill": {
   "default_parameters": {},
   "duration": 931.95503,
   "end_time": "2023-07-12T04:07:30.721286",
   "environment_variables": {},
   "exception": null,
   "input_path": "1b.fit_linear_model_2beta.ipynb",
   "output_path": "1b.fit_linear_model_2beta.ipynb",
   "parameters": {
    "celltype": "PBMC"
   },
   "start_time": "2023-07-12T03:51:58.766256",
   "version": "2.4.0"
  },
  "vscode": {
   "interpreter": {
    "hash": "72ae02083a9ca7d143c492d1aec380c7bf553ec51bd66e90e72bba65228121b6"
   }
  }
 },
 "nbformat": 4,
 "nbformat_minor": 5
}
