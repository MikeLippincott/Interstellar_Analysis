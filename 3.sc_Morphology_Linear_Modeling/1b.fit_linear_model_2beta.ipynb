{
 "cells": [
  {
   "cell_type": "code",
   "execution_count": 1,
   "id": "53f726cc",
   "metadata": {
    "execution": {
     "iopub.execute_input": "2023-10-30T13:40:31.591924Z",
     "iopub.status.busy": "2023-10-30T13:40:31.591652Z",
     "iopub.status.idle": "2023-10-30T13:40:33.460760Z",
     "shell.execute_reply": "2023-10-30T13:40:33.460267Z"
    },
    "papermill": {
     "duration": 1.873189,
     "end_time": "2023-10-30T13:40:33.462369",
     "exception": false,
     "start_time": "2023-10-30T13:40:31.589180",
     "status": "completed"
    },
    "tags": []
   },
   "outputs": [],
   "source": [
    "import pathlib\n",
    "import sys\n",
    "\n",
    "import matplotlib.pyplot as plt\n",
    "import numpy as np\n",
    "import pandas as pd\n",
    "import plotly.express as px\n",
    "import pyarrow as pa\n",
    "import pyarrow.parquet as pq\n",
    "import seaborn as sns\n",
    "from matplotlib import pyplot as plt\n",
    "from pycytominer.cyto_utils import infer_cp_features\n",
    "from sklearn.linear_model import LinearRegression\n",
    "from sklearn.preprocessing import LabelEncoder\n",
    "\n",
    "pd.set_option(\"mode.chained_assignment\", None)"
   ]
  },
  {
   "cell_type": "code",
   "execution_count": 2,
   "id": "d4706556",
   "metadata": {
    "execution": {
     "iopub.execute_input": "2023-10-30T13:40:33.466904Z",
     "iopub.status.busy": "2023-10-30T13:40:33.466589Z",
     "iopub.status.idle": "2023-10-30T13:40:33.468923Z",
     "shell.execute_reply": "2023-10-30T13:40:33.468555Z"
    },
    "papermill": {
     "duration": 0.005365,
     "end_time": "2023-10-30T13:40:33.469799",
     "exception": false,
     "start_time": "2023-10-30T13:40:33.464434",
     "status": "completed"
    },
    "tags": [
     "injected-parameters"
    ]
   },
   "outputs": [],
   "source": [
    "# Parameters\n",
    "celltype = \"PBMC\""
   ]
  },
  {
   "cell_type": "code",
   "execution_count": 3,
   "id": "ead61d82",
   "metadata": {
    "execution": {
     "iopub.execute_input": "2023-10-30T13:40:33.473263Z",
     "iopub.status.busy": "2023-10-30T13:40:33.472970Z",
     "iopub.status.idle": "2023-10-30T13:42:24.443257Z",
     "shell.execute_reply": "2023-10-30T13:42:24.442701Z"
    },
    "papermill": {
     "duration": 110.973439,
     "end_time": "2023-10-30T13:42:24.444627",
     "exception": false,
     "start_time": "2023-10-30T13:40:33.471188",
     "status": "completed"
    },
    "tags": []
   },
   "outputs": [],
   "source": [
    "# Define inputs\n",
    "feature_file = pathlib.Path(f\"../data/{celltype}_preprocessed_sc_norm.parquet\")\n",
    "feature_df = pq.read_table(feature_file).to_pandas()"
   ]
  },
  {
   "cell_type": "code",
   "execution_count": 4,
   "id": "3048a1f5",
   "metadata": {
    "execution": {
     "iopub.execute_input": "2023-10-30T13:42:24.451850Z",
     "iopub.status.busy": "2023-10-30T13:42:24.451621Z",
     "iopub.status.idle": "2023-10-30T13:42:24.454822Z",
     "shell.execute_reply": "2023-10-30T13:42:24.454445Z"
    },
    "papermill": {
     "duration": 0.006213,
     "end_time": "2023-10-30T13:42:24.455710",
     "exception": false,
     "start_time": "2023-10-30T13:42:24.449497",
     "status": "completed"
    },
    "tags": []
   },
   "outputs": [],
   "source": [
    "# if path does not exist, create one\n",
    "pathlib.Path(f\"./results/{celltype}\").mkdir(parents=True, exist_ok=True)\n",
    "\n",
    "# define output file path\n",
    "one_beta_output_file_path = pathlib.Path(f\"./results/{celltype}/lm_one_beta.tsv\")\n",
    "two_beta_output_file_path = pathlib.Path(f\"./results/{celltype}/lm_two_beta.tsv\")\n",
    "three_beta_output_file_path = pathlib.Path(f\"./results/{celltype}/lm_three_beta.tsv\")\n",
    "four_beta_output_file_path = pathlib.Path(f\"./results/{celltype}/lm_four_beta.tsv\")"
   ]
  },
  {
   "cell_type": "code",
   "execution_count": 5,
   "id": "d240176f",
   "metadata": {
    "execution": {
     "iopub.execute_input": "2023-10-30T13:42:24.459295Z",
     "iopub.status.busy": "2023-10-30T13:42:24.458991Z",
     "iopub.status.idle": "2023-10-30T13:42:24.801198Z",
     "shell.execute_reply": "2023-10-30T13:42:24.800717Z"
    },
    "papermill": {
     "duration": 0.34506,
     "end_time": "2023-10-30T13:42:24.802203",
     "exception": false,
     "start_time": "2023-10-30T13:42:24.457143",
     "status": "completed"
    },
    "tags": []
   },
   "outputs": [
    {
     "name": "stdout",
     "output_type": "stream",
     "text": [
      "We are testing 1245 features\n"
     ]
    },
    {
     "name": "stdout",
     "output_type": "stream",
     "text": [
      "The unique Treatment-Dosages are: LPS_DMSO_0.025__0.010_µg_per_ml, \n",
      "LPS_DMSO_0.025__0.100_µg_per_ml, \n",
      "LPS_Nigericin_DMSO_0.025__100.000_µg_per_ml_1.000_µM, \n",
      "LPS_Nigericin_DMSO_0.025__100.000_µg_per_ml_3.000_µM, \n",
      "DMSO_DMSO_0.025__0.100_%, \n",
      "media_ctr_Media_ctr_nan__0.0_None, \n",
      "DMSO_DMSO_1.000__0.100_%, \n",
      "LPS_DMSO_0.025__1.000_µg_per_ml, \n",
      "LPS_DMSO_0.025__10.000_µg_per_ml, \n",
      "LPS_Nigericin_DMSO_0.025__100.000_µg_per_ml_10.000_µM, \n",
      "Disulfiram_DMSO_0.025__0.100_µM, \n",
      "Thapsigargin_DMSO_0.025__1.000_µM, \n",
      "Thapsigargin_DMSO_0.025__10.000_µM, \n",
      "DMSO_Z-VAD-FMK_100.000__0.100_%, \n",
      "DMSO_Z-VAD-FMK_30.000__0.100_%, \n",
      "LPS_Disulfiram_0.100__10.000_µg_per_ml, \n",
      "LPS_Disulfiram_1.000__10.000_µg_per_ml, \n",
      "Disulfiram_DMSO_0.025__1.000_µM, \n",
      "Disulfiram_DMSO_0.025__2.500_µM, \n",
      "Topotecan_DMSO_0.025__5.000_nM, \n",
      "Topotecan_DMSO_0.025__10.000_nM, \n",
      "LPS_Disulfiram_2.500__10.000_µg_per_ml, \n",
      "LPS_Z-VAD-FMK_100.000__10.000_µg_per_ml, \n",
      "H2O2_DMSO_0.025__100.000_nM, \n",
      "H2O2_DMSO_0.025__100.000_µM, \n",
      "Topotecan_DMSO_0.025__20.000_nM, \n",
      "LPS_DMSO_0.025__100.000_µg_per_ml, \n",
      "LPS_Nigericin_DMSO_0.025__1.000_µg_per_ml_1.000_µM, \n",
      "H2O2_Disulfiram_1.000__100.000_µM, \n",
      "H2O2_Z-VAD-FMK_100.000__100.000_µM, \n",
      "LPS_Nigericin_DMSO_0.025__1.000_µg_per_ml_3.000_µM, \n",
      "LPS_Nigericin_DMSO_0.025__1.000_µg_per_ml_10.000_µM, \n",
      "Flagellin_DMSO_0.000__0.100_µg_per_ml, \n",
      "Flagellin_DMSO_0.000__1.000_µg_per_ml, \n",
      "Flagellin_DMSO_0.025__0.100_µg_per_ml, \n",
      "Flagellin_DMSO_0.025__1.000_None, \n",
      "Flagellin_DMSO_0.025__1.000_µg_per_ml, \n",
      "LPS_Nigericin_Disulfiram_1.000__1.000_µg_per_ml_10.000_µM, \n",
      "LPS_Nigericin_Z-VAD-FMK_100.000__1.000_µg_per_ml_10.000_µM, \n",
      "Flagellin_Disulfiram_1.000__1.000_µg_per_ml, \n",
      "Flagellin_Disulfiram_1.000__1.000_None, \n",
      "media_ctr_Media_nan__0.0_None\n"
     ]
    }
   ],
   "source": [
    "cp_features = infer_cp_features(feature_df)\n",
    "print(f\"We are testing {len(cp_features)} features\")\n",
    "\n",
    "new_line = \"\\n\"\n",
    "print(\n",
    "    f\"The unique Treatment-Dosages are: {f', {new_line}'.join((feature_df['twob_Metadata_Treatment_Dose_Inhibitor_Dose'].unique()))}\"\n",
    ")"
   ]
  },
  {
   "attachments": {},
   "cell_type": "markdown",
   "id": "08ed58ff",
   "metadata": {
    "papermill": {
     "duration": 0.001582,
     "end_time": "2023-10-30T13:42:24.805758",
     "exception": false,
     "start_time": "2023-10-30T13:42:24.804176",
     "status": "completed"
    },
    "tags": []
   },
   "source": [
    "#### Complex Linear Modeling (cell count btea + 2 beta approach)\n",
    "Here I run the same analysis as above but with dosage of a treatment being a factor in the linear model. All features and treatments will be exported into 1 file.\n",
    "\n",
    "Linear Model:  \n",
    "$y = \\beta _{0}x+ \\beta _{1}x+ \\beta _{2}x+ \\epsilon$ where;  \n",
    "$y$ is each feature    \n",
    "$x$ is the inputed variables  \n",
    "$\\beta _{0}$ is the beta coefficient attributed to cell count.  \n",
    "$\\beta _{1}$ is the beta coefficient attributed to Inducer, Inhibitor, and Inhibitor Dose.  \n",
    "$\\beta _{2}$ is the beta coefficient attributed to Inducer dose.  \n",
    "$\\epsilon$ is the residual variance not explained by factors in the model"
   ]
  },
  {
   "cell_type": "code",
   "execution_count": 6,
   "id": "1b4983e9",
   "metadata": {
    "execution": {
     "iopub.execute_input": "2023-10-30T13:42:24.809688Z",
     "iopub.status.busy": "2023-10-30T13:42:24.809395Z",
     "iopub.status.idle": "2023-10-30T13:49:51.662143Z",
     "shell.execute_reply": "2023-10-30T13:49:51.661614Z"
    },
    "papermill": {
     "duration": 446.856222,
     "end_time": "2023-10-30T13:49:51.663450",
     "exception": false,
     "start_time": "2023-10-30T13:42:24.807228",
     "status": "completed"
    },
    "tags": []
   },
   "outputs": [
    {
     "name": "stdout",
     "output_type": "stream",
     "text": [
      "['LPS_DMSO_0.025__0.010_µg_per_ml', 'DMSO_DMSO_0.025__0.100']\n"
     ]
    },
    {
     "name": "stdout",
     "output_type": "stream",
     "text": [
      "['LPS_DMSO_0.025__0.100_µg_per_ml', 'DMSO_DMSO_0.025__0.100']\n"
     ]
    },
    {
     "name": "stdout",
     "output_type": "stream",
     "text": [
      "['LPS_Nigericin_DMSO_0.025__100.000_µg_per_ml_1.000_µM', 'DMSO_DMSO_0.025__0.100']\n"
     ]
    },
    {
     "name": "stdout",
     "output_type": "stream",
     "text": [
      "['LPS_Nigericin_DMSO_0.025__100.000_µg_per_ml_3.000_µM', 'DMSO_DMSO_0.025__0.100']\n"
     ]
    },
    {
     "name": "stdout",
     "output_type": "stream",
     "text": [
      "['DMSO_DMSO_0.025__0.100_%', 'DMSO_DMSO_0.025__0.100']\n"
     ]
    },
    {
     "name": "stdout",
     "output_type": "stream",
     "text": [
      "['media_ctr_Media_ctr_nan__0.0_None', 'DMSO_DMSO_0.025__0.100']\n"
     ]
    },
    {
     "name": "stdout",
     "output_type": "stream",
     "text": [
      "['DMSO_DMSO_1.000__0.100_%', 'DMSO_DMSO_0.025__0.100']\n"
     ]
    },
    {
     "name": "stdout",
     "output_type": "stream",
     "text": [
      "['LPS_DMSO_0.025__1.000_µg_per_ml', 'DMSO_DMSO_0.025__0.100']\n"
     ]
    },
    {
     "name": "stdout",
     "output_type": "stream",
     "text": [
      "['LPS_DMSO_0.025__10.000_µg_per_ml', 'DMSO_DMSO_0.025__0.100']\n"
     ]
    },
    {
     "name": "stdout",
     "output_type": "stream",
     "text": [
      "['LPS_Nigericin_DMSO_0.025__100.000_µg_per_ml_10.000_µM', 'DMSO_DMSO_0.025__0.100']\n"
     ]
    },
    {
     "name": "stdout",
     "output_type": "stream",
     "text": [
      "['Disulfiram_DMSO_0.025__0.100_µM', 'DMSO_DMSO_0.025__0.100']\n"
     ]
    },
    {
     "name": "stdout",
     "output_type": "stream",
     "text": [
      "['Thapsigargin_DMSO_0.025__1.000_µM', 'DMSO_DMSO_0.025__0.100']\n"
     ]
    },
    {
     "name": "stdout",
     "output_type": "stream",
     "text": [
      "['Thapsigargin_DMSO_0.025__10.000_µM', 'DMSO_DMSO_0.025__0.100']\n"
     ]
    },
    {
     "name": "stdout",
     "output_type": "stream",
     "text": [
      "['DMSO_Z-VAD-FMK_100.000__0.100_%', 'DMSO_DMSO_0.025__0.100']\n"
     ]
    },
    {
     "name": "stdout",
     "output_type": "stream",
     "text": [
      "['DMSO_Z-VAD-FMK_30.000__0.100_%', 'DMSO_DMSO_0.025__0.100']\n"
     ]
    },
    {
     "name": "stdout",
     "output_type": "stream",
     "text": [
      "['LPS_Disulfiram_0.100__10.000_µg_per_ml', 'DMSO_DMSO_0.025__0.100']\n"
     ]
    },
    {
     "name": "stdout",
     "output_type": "stream",
     "text": [
      "['LPS_Disulfiram_1.000__10.000_µg_per_ml', 'DMSO_DMSO_0.025__0.100']\n"
     ]
    },
    {
     "name": "stdout",
     "output_type": "stream",
     "text": [
      "['Disulfiram_DMSO_0.025__1.000_µM', 'DMSO_DMSO_0.025__0.100']\n"
     ]
    },
    {
     "name": "stdout",
     "output_type": "stream",
     "text": [
      "['Disulfiram_DMSO_0.025__2.500_µM', 'DMSO_DMSO_0.025__0.100']\n"
     ]
    },
    {
     "name": "stdout",
     "output_type": "stream",
     "text": [
      "['Topotecan_DMSO_0.025__5.000_nM', 'DMSO_DMSO_0.025__0.100']\n"
     ]
    },
    {
     "name": "stdout",
     "output_type": "stream",
     "text": [
      "['Topotecan_DMSO_0.025__10.000_nM', 'DMSO_DMSO_0.025__0.100']\n"
     ]
    },
    {
     "name": "stdout",
     "output_type": "stream",
     "text": [
      "['LPS_Disulfiram_2.500__10.000_µg_per_ml', 'DMSO_DMSO_0.025__0.100']\n"
     ]
    },
    {
     "name": "stdout",
     "output_type": "stream",
     "text": [
      "['LPS_Z-VAD-FMK_100.000__10.000_µg_per_ml', 'DMSO_DMSO_0.025__0.100']\n"
     ]
    },
    {
     "name": "stdout",
     "output_type": "stream",
     "text": [
      "['H2O2_DMSO_0.025__100.000_nM', 'DMSO_DMSO_0.025__0.100']\n"
     ]
    },
    {
     "name": "stdout",
     "output_type": "stream",
     "text": [
      "['H2O2_DMSO_0.025__100.000_µM', 'DMSO_DMSO_0.025__0.100']\n"
     ]
    },
    {
     "name": "stdout",
     "output_type": "stream",
     "text": [
      "['Topotecan_DMSO_0.025__20.000_nM', 'DMSO_DMSO_0.025__0.100']\n"
     ]
    },
    {
     "name": "stdout",
     "output_type": "stream",
     "text": [
      "['LPS_DMSO_0.025__100.000_µg_per_ml', 'DMSO_DMSO_0.025__0.100']\n"
     ]
    },
    {
     "name": "stdout",
     "output_type": "stream",
     "text": [
      "['LPS_Nigericin_DMSO_0.025__1.000_µg_per_ml_1.000_µM', 'DMSO_DMSO_0.025__0.100']\n"
     ]
    },
    {
     "name": "stdout",
     "output_type": "stream",
     "text": [
      "['H2O2_Disulfiram_1.000__100.000_µM', 'DMSO_DMSO_0.025__0.100']\n"
     ]
    },
    {
     "name": "stdout",
     "output_type": "stream",
     "text": [
      "['H2O2_Z-VAD-FMK_100.000__100.000_µM', 'DMSO_DMSO_0.025__0.100']\n"
     ]
    },
    {
     "name": "stdout",
     "output_type": "stream",
     "text": [
      "['LPS_Nigericin_DMSO_0.025__1.000_µg_per_ml_3.000_µM', 'DMSO_DMSO_0.025__0.100']\n"
     ]
    },
    {
     "name": "stdout",
     "output_type": "stream",
     "text": [
      "['LPS_Nigericin_DMSO_0.025__1.000_µg_per_ml_10.000_µM', 'DMSO_DMSO_0.025__0.100']\n"
     ]
    },
    {
     "name": "stdout",
     "output_type": "stream",
     "text": [
      "['Flagellin_DMSO_0.000__0.100_µg_per_ml', 'DMSO_DMSO_0.025__0.100']\n"
     ]
    },
    {
     "name": "stdout",
     "output_type": "stream",
     "text": [
      "['Flagellin_DMSO_0.000__1.000_µg_per_ml', 'DMSO_DMSO_0.025__0.100']\n"
     ]
    },
    {
     "name": "stdout",
     "output_type": "stream",
     "text": [
      "['Flagellin_DMSO_0.025__0.100_µg_per_ml', 'DMSO_DMSO_0.025__0.100']\n"
     ]
    },
    {
     "name": "stdout",
     "output_type": "stream",
     "text": [
      "['Flagellin_DMSO_0.025__1.000_None', 'DMSO_DMSO_0.025__0.100']\n"
     ]
    },
    {
     "name": "stdout",
     "output_type": "stream",
     "text": [
      "['Flagellin_DMSO_0.025__1.000_µg_per_ml', 'DMSO_DMSO_0.025__0.100']\n"
     ]
    },
    {
     "name": "stdout",
     "output_type": "stream",
     "text": [
      "['LPS_Nigericin_Disulfiram_1.000__1.000_µg_per_ml_10.000_µM', 'DMSO_DMSO_0.025__0.100']\n"
     ]
    },
    {
     "name": "stdout",
     "output_type": "stream",
     "text": [
      "['LPS_Nigericin_Z-VAD-FMK_100.000__1.000_µg_per_ml_10.000_µM', 'DMSO_DMSO_0.025__0.100']\n"
     ]
    },
    {
     "name": "stdout",
     "output_type": "stream",
     "text": [
      "['Flagellin_Disulfiram_1.000__1.000_µg_per_ml', 'DMSO_DMSO_0.025__0.100']\n"
     ]
    },
    {
     "name": "stdout",
     "output_type": "stream",
     "text": [
      "['Flagellin_Disulfiram_1.000__1.000_None', 'DMSO_DMSO_0.025__0.100']\n"
     ]
    },
    {
     "name": "stdout",
     "output_type": "stream",
     "text": [
      "['media_ctr_Media_nan__0.0_None', 'DMSO_DMSO_0.025__0.100']\n"
     ]
    }
   ],
   "source": [
    "# define the control and treatment\n",
    "# Setup linear modeling framework\n",
    "model_covariates = [\"Metadata_number_of_singlecells\"]\n",
    "control = \"DMSO_DMSO_0.025__0.100\"\n",
    "lm_results = []\n",
    "# Loop for each treatment then each feature\n",
    "for treatment in feature_df[\"twob_Metadata_Treatment_Dose_Inhibitor_Dose\"].unique():\n",
    "    dosage_treatments_list = [treatment, control]\n",
    "    print(dosage_treatments_list)\n",
    "    df = feature_df.query(\n",
    "        \"twob_Metadata_Treatment_Dose_Inhibitor_Dose in @dosage_treatments_list\"\n",
    "    )\n",
    "    # Add dummy matrix of categorical genotypes\n",
    "    df[[\"twob_Metadata_Treatment_Inhibitor_Dose\", \"Treatment_Dose\"]] = df[\n",
    "        \"twob_Metadata_Treatment_Dose_Inhibitor_Dose\"\n",
    "    ].str.split(\"__\", expand=True)\n",
    "    tmp_df = df.loc[\n",
    "        :,\n",
    "        (\n",
    "            \"twob_Metadata_Treatment_Inhibitor_Dose\",\n",
    "            \"Treatment_Dose\",\n",
    "        ),\n",
    "    ]\n",
    "\n",
    "    tmp_df[\"twob_Metadata_Treatment_Inhibitor_Dose\"] = LabelEncoder().fit_transform(\n",
    "        tmp_df[\"twob_Metadata_Treatment_Inhibitor_Dose\"]\n",
    "    )\n",
    "    tmp_df[\"Treatment_Dose\"] = LabelEncoder().fit_transform(tmp_df[\"Treatment_Dose\"])\n",
    "\n",
    "    X = pd.concat([df.loc[:, model_covariates], tmp_df], axis=1)\n",
    "    columns_list = (\n",
    "        [\"feature\", \"r2_score\"]\n",
    "        + X.columns.tolist()\n",
    "        + [\n",
    "            \"inducer1_inhibitor_inhibitor_dose__inducer1_dose\",\n",
    "        ]\n",
    "    )\n",
    "\n",
    "    # Fit linear model for each feature\n",
    "    for cp_feature in cp_features:\n",
    "        # Subset CP data to each individual feature (univariate test)\n",
    "        cp_subset_df = df.loc[:, cp_feature]\n",
    "\n",
    "        # Fit linear model\n",
    "        lm = LinearRegression(fit_intercept=True)\n",
    "        lm_result = lm.fit(X=X, y=cp_subset_df)\n",
    "\n",
    "        # Extract Beta coefficients\n",
    "        # (contribution of feature to X covariates)\n",
    "        coef = list(lm_result.coef_)\n",
    "        # Estimate fit (R^2)\n",
    "        r2_score = lm.score(X=X, y=cp_subset_df)\n",
    "\n",
    "        # Add results to a growing list\n",
    "        lm_results.append(\n",
    "            [cp_feature, r2_score]\n",
    "            + coef\n",
    "            + [\n",
    "                treatment,\n",
    "            ]\n",
    "        )\n",
    "\n",
    "# Convert results to a pandas DataFrame\n",
    "lm_results_df = pd.DataFrame(lm_results, columns=columns_list)\n",
    "\n",
    "# write output to file\n",
    "lm_results_df.to_csv(two_beta_output_file_path, sep=\"\\t\", index=False)"
   ]
  }
 ],
 "metadata": {
  "kernelspec": {
   "display_name": "Interstellar",
   "language": "python",
   "name": "python3"
  },
  "language_info": {
   "codemirror_mode": {
    "name": "ipython",
    "version": 3
   },
   "file_extension": ".py",
   "mimetype": "text/x-python",
   "name": "python",
   "nbconvert_exporter": "python",
   "pygments_lexer": "ipython3",
   "version": "3.10.12"
  },
  "papermill": {
   "default_parameters": {},
   "duration": 562.746264,
   "end_time": "2023-10-30T13:49:52.185156",
   "environment_variables": {},
   "exception": null,
   "input_path": "1b.fit_linear_model_2beta.ipynb",
   "output_path": "1b.fit_linear_model_2beta.ipynb",
   "parameters": {
    "celltype": "PBMC"
   },
   "start_time": "2023-10-30T13:40:29.438892",
   "version": "2.4.0"
  },
  "vscode": {
   "interpreter": {
    "hash": "72ae02083a9ca7d143c492d1aec380c7bf553ec51bd66e90e72bba65228121b6"
   }
  }
 },
 "nbformat": 4,
 "nbformat_minor": 5
}