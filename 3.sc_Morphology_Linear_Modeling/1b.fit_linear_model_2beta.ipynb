{
 "cells": [
  {
   "cell_type": "code",
   "execution_count": 1,
   "id": "53f726cc",
   "metadata": {
    "execution": {
     "iopub.execute_input": "2023-07-11T23:56:19.518715Z",
     "iopub.status.busy": "2023-07-11T23:56:19.518176Z",
     "iopub.status.idle": "2023-07-11T23:56:20.619203Z",
     "shell.execute_reply": "2023-07-11T23:56:20.618504Z"
    },
    "papermill": {
     "duration": 1.107117,
     "end_time": "2023-07-11T23:56:20.620573",
     "exception": false,
     "start_time": "2023-07-11T23:56:19.513456",
     "status": "completed"
    },
    "tags": []
   },
   "outputs": [],
   "source": [
    "import sys\n",
    "import pathlib\n",
    "import pandas as pd\n",
    "import numpy as np\n",
    "\n",
    "from sklearn.linear_model import LinearRegression\n",
    "import plotly.express as px\n",
    "from pycytominer.cyto_utils import infer_cp_features\n",
    "from matplotlib import pyplot as plt\n",
    "import seaborn as sns\n",
    "from sklearn.preprocessing import LabelEncoder\n",
    "import pyarrow as pa\n",
    "import pyarrow.parquet as pq\n",
    "\n",
    "sys.path.append(\"..\")\n",
    "# from ..utils.utils import df_stats\n",
    "import matplotlib.pyplot as plt\n",
    "\n",
    "pd.set_option(\"mode.chained_assignment\", None)"
   ]
  },
  {
   "cell_type": "code",
   "execution_count": 2,
   "id": "6b534039",
   "metadata": {
    "execution": {
     "iopub.execute_input": "2023-07-11T23:56:20.624978Z",
     "iopub.status.busy": "2023-07-11T23:56:20.624670Z",
     "iopub.status.idle": "2023-07-11T23:56:20.627797Z",
     "shell.execute_reply": "2023-07-11T23:56:20.627255Z"
    },
    "papermill": {
     "duration": 0.007116,
     "end_time": "2023-07-11T23:56:20.629507",
     "exception": false,
     "start_time": "2023-07-11T23:56:20.622391",
     "status": "completed"
    },
    "tags": [
     "injected-parameters"
    ]
   },
   "outputs": [],
   "source": [
    "# Parameters\n",
    "celltype = \"SHSY5Y\""
   ]
  },
  {
   "cell_type": "code",
   "execution_count": 3,
   "id": "ead61d82",
   "metadata": {
    "execution": {
     "iopub.execute_input": "2023-07-11T23:56:20.637237Z",
     "iopub.status.busy": "2023-07-11T23:56:20.636956Z",
     "iopub.status.idle": "2023-07-11T23:56:22.764668Z",
     "shell.execute_reply": "2023-07-11T23:56:22.763813Z"
    },
    "papermill": {
     "duration": 2.133628,
     "end_time": "2023-07-11T23:56:22.766325",
     "exception": false,
     "start_time": "2023-07-11T23:56:20.632697",
     "status": "completed"
    },
    "tags": []
   },
   "outputs": [],
   "source": [
    "# Define inputs\n",
    "feature_file = pathlib.Path(f\"../data/{celltype}_preprocessed_sc_norm.parquet\")\n",
    "feature_df = pq.read_table(feature_file).to_pandas()"
   ]
  },
  {
   "cell_type": "code",
   "execution_count": 4,
   "id": "3048a1f5",
   "metadata": {
    "execution": {
     "iopub.execute_input": "2023-07-11T23:56:22.770762Z",
     "iopub.status.busy": "2023-07-11T23:56:22.770277Z",
     "iopub.status.idle": "2023-07-11T23:56:22.775995Z",
     "shell.execute_reply": "2023-07-11T23:56:22.775014Z"
    },
    "papermill": {
     "duration": 0.009583,
     "end_time": "2023-07-11T23:56:22.777677",
     "exception": false,
     "start_time": "2023-07-11T23:56:22.768094",
     "status": "completed"
    },
    "tags": []
   },
   "outputs": [],
   "source": [
    "# if path does not exist, create one\n",
    "pathlib.Path(f\"./results/{celltype}\").mkdir(parents=True, exist_ok=True)\n",
    "\n",
    "# define output file path\n",
    "one_beta_output_file_path = pathlib.Path(f\"./results/{celltype}/lm_one_beta.tsv\")\n",
    "two_beta_output_file_path = pathlib.Path(f\"./results/{celltype}/lm_two_beta.tsv\")\n",
    "three_beta_output_file_path = pathlib.Path(f\"./results/{celltype}/lm_three_beta.tsv\")\n",
    "four_beta_output_file_path = pathlib.Path(f\"./results/{celltype}/lm_four_beta.tsv\")"
   ]
  },
  {
   "cell_type": "code",
   "execution_count": 5,
   "id": "d240176f",
   "metadata": {
    "execution": {
     "iopub.execute_input": "2023-07-11T23:56:22.784114Z",
     "iopub.status.busy": "2023-07-11T23:56:22.783411Z",
     "iopub.status.idle": "2023-07-11T23:56:22.907813Z",
     "shell.execute_reply": "2023-07-11T23:56:22.906635Z"
    },
    "papermill": {
     "duration": 0.130395,
     "end_time": "2023-07-11T23:56:22.910113",
     "exception": false,
     "start_time": "2023-07-11T23:56:22.779718",
     "status": "completed"
    },
    "tags": []
   },
   "outputs": [
    {
     "name": "stdout",
     "output_type": "stream",
     "text": [
      "We are testing 1251 features\n",
      "The unique Treatment-Dosages are: media ctr_Media ctr_0.0__0, \n",
      "DMSO_DMSO_1.0__0.100, \n",
      "DMSO_Z-VAD-FMK_100.0__0.100, \n",
      "DMSO_Z-VAD-FMK_30.0__0.100, \n",
      "DMSO_DMSO_0.025__0.100, \n",
      "Thapsigargin_DMSO_0.025__1.000, \n",
      "Thapsigargin_DMSO_0.025__10.000, \n",
      "Topotecan_DMSO_0.025__5.000, \n",
      "Topotecan_DMSO_0.025__10.000, \n",
      "Topotecan_DMSO_0.025__20.000, \n",
      "LPS_DMSO_0.025__0.010, \n",
      "LPS_DMSO_0.025__0.100, \n",
      "LPS_DMSO_0.025__1.000, \n",
      "LPS_DMSO_0.025__10.000, \n",
      "LPS_Disulfiram_0.1__10.000, \n",
      "LPS_Disulfiram_1.0__10.000, \n",
      "LPS_Disulfiram_2.5__10.000, \n",
      "LPS_Nigericin_DMSO_0.025__100.000_1.0, \n",
      "LPS_Nigericin_DMSO_0.025__100.000_3.0, \n",
      "LPS_Nigericin_DMSO_0.025__100.000_10.0, \n",
      "Disulfiram_DMSO_0.025__0.100, \n",
      "Disulfiram_DMSO_0.025__1.000, \n",
      "Disulfiram_DMSO_0.025__2.500, \n",
      "H2O2_DMSO_0.025__100.000, \n",
      "LPS_Z-VAD-FMK_100.0__10.000, \n",
      "LPS_DMSO_0.025__100.000, \n",
      "LPS_Nigericin_DMSO_0.025__1.000_1.0, \n",
      "LPS_Nigericin_DMSO_0.025__1.000_3.0, \n",
      "LPS_Nigericin_DMSO_0.025__1.000_10.0, \n",
      "LPS_Nigericin_Disulfiram_1.0__1.000_10.0, \n",
      "LPS_Nigericin_Z-VAD-FMK_100.0__1.000_10.0, \n",
      "H2O2_Disulfiram_1.0__100.000, \n",
      "H2O2_Z-VAD-FMK_100.0__100.000, \n",
      "Flagellin_DMSO_0.025__0.100, \n",
      "Flagellin_DMSO_0.025__1.000, \n",
      "Flagellin_Disulfiram_1.0__1.000\n"
     ]
    }
   ],
   "source": [
    "cp_features = infer_cp_features(feature_df)\n",
    "print(f\"We are testing {len(cp_features)} features\")\n",
    "\n",
    "new_line = \"\\n\"\n",
    "print(\n",
    "    f\"The unique Treatment-Dosages are: {f', {new_line}'.join((feature_df['twob_Metadata_Treatment_Dose_Inhibitor_Dose'].unique()))}\"\n",
    ")"
   ]
  },
  {
   "attachments": {},
   "cell_type": "markdown",
   "id": "08ed58ff",
   "metadata": {
    "papermill": {
     "duration": 0.002515,
     "end_time": "2023-07-11T23:56:22.915795",
     "exception": false,
     "start_time": "2023-07-11T23:56:22.913280",
     "status": "completed"
    },
    "tags": []
   },
   "source": [
    "#### Complex Linear Modeling (cell count btea + 2 beta approach)\n",
    "Here I run the same analysis as above but with dosage of a treatment being a factor in the linear model. All features and treatments will be exported into 1 file.\n",
    "\n",
    "Linear Model:  \n",
    "$y = \\beta _{0}x+ \\beta _{1}x+ \\beta _{2}x+ \\epsilon$ where;  \n",
    "$y$ is each feature    \n",
    "$x$ is the inputed variables  \n",
    "$\\beta _{0}$ is the beta coefficient attributed to cell count.  \n",
    "$\\beta _{1}$ is the beta coefficient attributed to Inducer, Inhibitor, and Inhibitor Dose.  \n",
    "$\\beta _{2}$ is the beta coefficient attributed to Inducer dose.  \n",
    "$\\epsilon$ is the residual variance not explained by factors in the model"
   ]
  },
  {
   "cell_type": "code",
   "execution_count": 6,
   "id": "1b4983e9",
   "metadata": {
    "execution": {
     "iopub.execute_input": "2023-07-11T23:56:22.922586Z",
     "iopub.status.busy": "2023-07-11T23:56:22.922091Z",
     "iopub.status.idle": "2023-07-12T00:00:02.849779Z",
     "shell.execute_reply": "2023-07-12T00:00:02.849255Z"
    },
    "papermill": {
     "duration": 219.932901,
     "end_time": "2023-07-12T00:00:02.851182",
     "exception": false,
     "start_time": "2023-07-11T23:56:22.918281",
     "status": "completed"
    },
    "tags": []
   },
   "outputs": [
    {
     "name": "stdout",
     "output_type": "stream",
     "text": [
      "['media ctr_Media ctr_0.0__0', 'DMSO_DMSO_0.025__0.100']"
     ]
    },
    {
     "name": "stdout",
     "output_type": "stream",
     "text": [
      "\n"
     ]
    },
    {
     "name": "stdout",
     "output_type": "stream",
     "text": [
      "['DMSO_DMSO_1.0__0.100', 'DMSO_DMSO_0.025__0.100']\n"
     ]
    },
    {
     "name": "stdout",
     "output_type": "stream",
     "text": [
      "['DMSO_Z-VAD-FMK_100.0__0.100', 'DMSO_DMSO_0.025__0.100']\n"
     ]
    },
    {
     "name": "stdout",
     "output_type": "stream",
     "text": [
      "['DMSO_Z-VAD-FMK_30.0__0.100', 'DMSO_DMSO_0.025__0.100']\n"
     ]
    },
    {
     "name": "stdout",
     "output_type": "stream",
     "text": [
      "['DMSO_DMSO_0.025__0.100', 'DMSO_DMSO_0.025__0.100']\n"
     ]
    },
    {
     "name": "stdout",
     "output_type": "stream",
     "text": [
      "['Thapsigargin_DMSO_0.025__1.000', 'DMSO_DMSO_0.025__0.100']\n"
     ]
    },
    {
     "name": "stdout",
     "output_type": "stream",
     "text": [
      "['Thapsigargin_DMSO_0.025__10.000', 'DMSO_DMSO_0.025__0.100']\n"
     ]
    },
    {
     "name": "stdout",
     "output_type": "stream",
     "text": [
      "['Topotecan_DMSO_0.025__5.000', 'DMSO_DMSO_0.025__0.100']\n"
     ]
    },
    {
     "name": "stdout",
     "output_type": "stream",
     "text": [
      "['Topotecan_DMSO_0.025__10.000', 'DMSO_DMSO_0.025__0.100']\n"
     ]
    },
    {
     "name": "stdout",
     "output_type": "stream",
     "text": [
      "['Topotecan_DMSO_0.025__20.000', 'DMSO_DMSO_0.025__0.100']\n"
     ]
    },
    {
     "name": "stdout",
     "output_type": "stream",
     "text": [
      "['LPS_DMSO_0.025__0.010', 'DMSO_DMSO_0.025__0.100']\n"
     ]
    },
    {
     "name": "stdout",
     "output_type": "stream",
     "text": [
      "['LPS_DMSO_0.025__0.100', 'DMSO_DMSO_0.025__0.100']\n"
     ]
    },
    {
     "name": "stdout",
     "output_type": "stream",
     "text": [
      "['LPS_DMSO_0.025__1.000', 'DMSO_DMSO_0.025__0.100']\n"
     ]
    },
    {
     "name": "stdout",
     "output_type": "stream",
     "text": [
      "['LPS_DMSO_0.025__10.000', 'DMSO_DMSO_0.025__0.100']\n"
     ]
    },
    {
     "name": "stdout",
     "output_type": "stream",
     "text": [
      "['LPS_Disulfiram_0.1__10.000', 'DMSO_DMSO_0.025__0.100']\n"
     ]
    },
    {
     "name": "stdout",
     "output_type": "stream",
     "text": [
      "['LPS_Disulfiram_1.0__10.000', 'DMSO_DMSO_0.025__0.100']\n"
     ]
    },
    {
     "name": "stdout",
     "output_type": "stream",
     "text": [
      "['LPS_Disulfiram_2.5__10.000', 'DMSO_DMSO_0.025__0.100']\n"
     ]
    },
    {
     "name": "stdout",
     "output_type": "stream",
     "text": [
      "['LPS_Nigericin_DMSO_0.025__100.000_1.0', 'DMSO_DMSO_0.025__0.100']\n"
     ]
    },
    {
     "name": "stdout",
     "output_type": "stream",
     "text": [
      "['LPS_Nigericin_DMSO_0.025__100.000_3.0', 'DMSO_DMSO_0.025__0.100']\n"
     ]
    },
    {
     "name": "stdout",
     "output_type": "stream",
     "text": [
      "['LPS_Nigericin_DMSO_0.025__100.000_10.0', 'DMSO_DMSO_0.025__0.100']\n"
     ]
    },
    {
     "name": "stdout",
     "output_type": "stream",
     "text": [
      "['Disulfiram_DMSO_0.025__0.100', 'DMSO_DMSO_0.025__0.100']\n"
     ]
    },
    {
     "name": "stdout",
     "output_type": "stream",
     "text": [
      "['Disulfiram_DMSO_0.025__1.000', 'DMSO_DMSO_0.025__0.100']\n"
     ]
    },
    {
     "name": "stdout",
     "output_type": "stream",
     "text": [
      "['Disulfiram_DMSO_0.025__2.500', 'DMSO_DMSO_0.025__0.100']\n"
     ]
    },
    {
     "name": "stdout",
     "output_type": "stream",
     "text": [
      "['H2O2_DMSO_0.025__100.000', 'DMSO_DMSO_0.025__0.100']\n"
     ]
    },
    {
     "name": "stdout",
     "output_type": "stream",
     "text": [
      "['LPS_Z-VAD-FMK_100.0__10.000', 'DMSO_DMSO_0.025__0.100']\n"
     ]
    },
    {
     "name": "stdout",
     "output_type": "stream",
     "text": [
      "['LPS_DMSO_0.025__100.000', 'DMSO_DMSO_0.025__0.100']\n"
     ]
    },
    {
     "name": "stdout",
     "output_type": "stream",
     "text": [
      "['LPS_Nigericin_DMSO_0.025__1.000_1.0', 'DMSO_DMSO_0.025__0.100']\n"
     ]
    },
    {
     "name": "stdout",
     "output_type": "stream",
     "text": [
      "['LPS_Nigericin_DMSO_0.025__1.000_3.0', 'DMSO_DMSO_0.025__0.100']\n"
     ]
    },
    {
     "name": "stdout",
     "output_type": "stream",
     "text": [
      "['LPS_Nigericin_DMSO_0.025__1.000_10.0', 'DMSO_DMSO_0.025__0.100']\n"
     ]
    },
    {
     "name": "stdout",
     "output_type": "stream",
     "text": [
      "['LPS_Nigericin_Disulfiram_1.0__1.000_10.0', 'DMSO_DMSO_0.025__0.100']\n"
     ]
    },
    {
     "name": "stdout",
     "output_type": "stream",
     "text": [
      "['LPS_Nigericin_Z-VAD-FMK_100.0__1.000_10.0', 'DMSO_DMSO_0.025__0.100']\n"
     ]
    },
    {
     "name": "stdout",
     "output_type": "stream",
     "text": [
      "['H2O2_Disulfiram_1.0__100.000', 'DMSO_DMSO_0.025__0.100']\n"
     ]
    },
    {
     "name": "stdout",
     "output_type": "stream",
     "text": [
      "['H2O2_Z-VAD-FMK_100.0__100.000', 'DMSO_DMSO_0.025__0.100']\n"
     ]
    },
    {
     "name": "stdout",
     "output_type": "stream",
     "text": [
      "['Flagellin_DMSO_0.025__0.100', 'DMSO_DMSO_0.025__0.100']\n"
     ]
    },
    {
     "name": "stdout",
     "output_type": "stream",
     "text": [
      "['Flagellin_DMSO_0.025__1.000', 'DMSO_DMSO_0.025__0.100']\n"
     ]
    },
    {
     "name": "stdout",
     "output_type": "stream",
     "text": [
      "['Flagellin_Disulfiram_1.0__1.000', 'DMSO_DMSO_0.025__0.100']\n"
     ]
    }
   ],
   "source": [
    "# Loop for each treatment then each feature\n",
    "\n",
    "# define the control and treatment\n",
    "# Setup linear modeling framework\n",
    "model_covariates = [\"Metadata_number_of_singlecells\"]\n",
    "control = \"DMSO_DMSO_0.025__0.100\"\n",
    "lm_results = []\n",
    "for treatment in feature_df[\"twob_Metadata_Treatment_Dose_Inhibitor_Dose\"].unique():\n",
    "    dosage_treatments_list = [treatment, control]\n",
    "    print(dosage_treatments_list)\n",
    "    df = feature_df.query(\n",
    "        \"twob_Metadata_Treatment_Dose_Inhibitor_Dose in @dosage_treatments_list\"\n",
    "    )\n",
    "    # Add dummy matrix of categorical genotypes\n",
    "    df[[\"twob_Metadata_Treatment_Inhibitor_Dose\", \"Treatment_Dose\"]] = df[\n",
    "        \"twob_Metadata_Treatment_Dose_Inhibitor_Dose\"\n",
    "    ].str.split(\"__\", expand=True)\n",
    "    tmp_df = df.loc[\n",
    "        :,\n",
    "        (\n",
    "            \"twob_Metadata_Treatment_Inhibitor_Dose\",\n",
    "            \"Treatment_Dose\",\n",
    "        ),\n",
    "    ]\n",
    "\n",
    "    tmp_df[\"twob_Metadata_Treatment_Inhibitor_Dose\"] = LabelEncoder().fit_transform(\n",
    "        tmp_df[\"twob_Metadata_Treatment_Inhibitor_Dose\"]\n",
    "    )\n",
    "    tmp_df[\"Treatment_Dose\"] = LabelEncoder().fit_transform(tmp_df[\"Treatment_Dose\"])\n",
    "\n",
    "    X = pd.concat([df.loc[:, model_covariates], tmp_df], axis=1)\n",
    "    columns_list = (\n",
    "        [\"feature\", \"r2_score\"]\n",
    "        + X.columns.tolist()\n",
    "        + [\n",
    "            \"inducer1_inhibitor_inhibitor_dose__inducer1_dose\",\n",
    "        ]\n",
    "    )\n",
    "\n",
    "    # Fit linear model for each feature\n",
    "    for cp_feature in cp_features:\n",
    "        # Subset CP data to each individual feature (univariate test)\n",
    "        cp_subset_df = df.loc[:, cp_feature]\n",
    "\n",
    "        # Fit linear model\n",
    "        lm = LinearRegression(fit_intercept=True)\n",
    "        lm_result = lm.fit(X=X, y=cp_subset_df)\n",
    "\n",
    "        # Extract Beta coefficients\n",
    "        # (contribution of feature to X covariates)\n",
    "        coef = list(lm_result.coef_)\n",
    "        # Estimate fit (R^2)\n",
    "        r2_score = lm.score(X=X, y=cp_subset_df)\n",
    "\n",
    "        # Add results to a growing list\n",
    "        lm_results.append(\n",
    "            [cp_feature, r2_score]\n",
    "            + coef\n",
    "            + [\n",
    "                treatment,\n",
    "            ]\n",
    "        )\n",
    "\n",
    "# Convert results to a pandas DataFrame\n",
    "lm_results_df = pd.DataFrame(lm_results, columns=columns_list)\n",
    "\n",
    "# write output to file\n",
    "lm_results_df.to_csv(two_beta_output_file_path, sep=\"\\t\", index=False)"
   ]
  }
 ],
 "metadata": {
  "kernelspec": {
   "display_name": "Interstellar",
   "language": "python",
   "name": "python3"
  },
  "language_info": {
   "codemirror_mode": {
    "name": "ipython",
    "version": 3
   },
   "file_extension": ".py",
   "mimetype": "text/x-python",
   "name": "python",
   "nbconvert_exporter": "python",
   "pygments_lexer": "ipython3",
   "version": "3.10.12"
  },
  "papermill": {
   "default_parameters": {},
   "duration": 225.091327,
   "end_time": "2023-07-12T00:00:03.674500",
   "environment_variables": {},
   "exception": null,
   "input_path": "1b.fit_linear_model_2beta.ipynb",
   "output_path": "1b.fit_linear_model_2beta.ipynb",
   "parameters": {
    "celltype": "SHSY5Y"
   },
   "start_time": "2023-07-11T23:56:18.583173",
   "version": "2.4.0"
  },
  "vscode": {
   "interpreter": {
    "hash": "72ae02083a9ca7d143c492d1aec380c7bf553ec51bd66e90e72bba65228121b6"
   }
  }
 },
 "nbformat": 4,
 "nbformat_minor": 5
}