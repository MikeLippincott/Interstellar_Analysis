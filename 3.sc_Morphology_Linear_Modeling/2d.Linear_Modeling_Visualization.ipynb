{
 "cells": [
  {
   "cell_type": "code",
   "execution_count": 1,
   "id": "c4549d80",
   "metadata": {
    "vscode": {
     "languageId": "r"
    }
   },
   "outputs": [
    {
     "name": "stderr",
     "output_type": "stream",
     "text": [
      "Warning message:\n",
      "“package ‘ggplot2’ was built under R version 4.2.3”\n"
     ]
    }
   ],
   "source": [
    "suppressPackageStartupMessages(library(ggplot2))\n",
    "suppressPackageStartupMessages(library(dplyr))\n",
    "suppressPackageStartupMessages(library(argparse))"
   ]
  },
  {
   "attachments": {},
   "cell_type": "markdown",
   "id": "65fe30fa",
   "metadata": {},
   "source": [
    "## Four Beta Model Vizualization"
   ]
  },
  {
   "cell_type": "code",
   "execution_count": null,
   "id": "075f04c0",
   "metadata": {
    "vscode": {
     "languageId": "r"
    }
   },
   "outputs": [],
   "source": [
    "# define command line arguments\n",
    "parser <- ArgumentParser(description = \"Visualize linear modeling results\")\n",
    "# add arguments\n",
    "parser$add_argument('--celltype', type='character', help='Cell type to visualize')\n",
    "\n",
    "# parse arguments from command line\n",
    "args <- parser$parse_args()\n",
    "\n",
    "# define cell type\n",
    "celltype <- args$celltype\n"
   ]
  },
  {
   "cell_type": "code",
   "execution_count": 2,
   "id": "f86de8b4",
   "metadata": {
    "vscode": {
     "languageId": "r"
    }
   },
   "outputs": [
    {
     "data": {
      "text/html": [
       "<table class=\"dataframe\">\n",
       "<caption>A tibble: 6 × 8</caption>\n",
       "<thead>\n",
       "\t<tr><th scope=col>feature</th><th scope=col>r2_score</th><th scope=col>Metadata_number_of_singlecells</th><th scope=col>fourb_Treatment</th><th scope=col>fourb_Treatment_Dose</th><th scope=col>fourb_Inhibitor</th><th scope=col>fourb_Inhibitor_Dose</th><th scope=col>inducer1__inducer1_dose__inhibitor__inhibitor_dose</th></tr>\n",
       "\t<tr><th scope=col>&lt;chr&gt;</th><th scope=col>&lt;dbl&gt;</th><th scope=col>&lt;dbl&gt;</th><th scope=col>&lt;dbl&gt;</th><th scope=col>&lt;dbl&gt;</th><th scope=col>&lt;dbl&gt;</th><th scope=col>&lt;dbl&gt;</th><th scope=col>&lt;chr&gt;</th></tr>\n",
       "</thead>\n",
       "<tbody>\n",
       "\t<tr><td>Cytoplasm_AreaShape_Area                </td><td>9.343787e-04</td><td> 1.695962e-05</td><td> 0.017406046</td><td>-0.017406046</td><td> 0.017406046</td><td>-0.017406046</td><td>media ctr__0__Media ctr__0.0</td></tr>\n",
       "\t<tr><td>Cytoplasm_AreaShape_BoundingBoxArea     </td><td>1.740451e-03</td><td>-3.367326e-05</td><td> 0.017483416</td><td>-0.017483416</td><td> 0.017483416</td><td>-0.017483416</td><td>media ctr__0__Media ctr__0.0</td></tr>\n",
       "\t<tr><td>Cytoplasm_AreaShape_BoundingBoxMaximum_X</td><td>1.077223e-04</td><td>-2.358903e-05</td><td>-0.006617265</td><td> 0.006617265</td><td>-0.006617265</td><td> 0.006617265</td><td>media ctr__0__Media ctr__0.0</td></tr>\n",
       "\t<tr><td>Cytoplasm_AreaShape_BoundingBoxMaximum_Y</td><td>1.354607e-04</td><td>-2.231822e-05</td><td> 0.002458562</td><td>-0.002458562</td><td> 0.002458562</td><td>-0.002458562</td><td>media ctr__0__Media ctr__0.0</td></tr>\n",
       "\t<tr><td>Cytoplasm_AreaShape_BoundingBoxMinimum_X</td><td>1.515569e-04</td><td>-2.184418e-05</td><td>-0.007811218</td><td> 0.007811218</td><td>-0.007811218</td><td> 0.007811218</td><td>media ctr__0__Media ctr__0.0</td></tr>\n",
       "\t<tr><td>Cytoplasm_AreaShape_BoundingBoxMinimum_Y</td><td>8.637752e-05</td><td>-2.176965e-05</td><td> 0.001069714</td><td>-0.001069714</td><td> 0.001069714</td><td>-0.001069714</td><td>media ctr__0__Media ctr__0.0</td></tr>\n",
       "</tbody>\n",
       "</table>\n"
      ],
      "text/latex": [
       "A tibble: 6 × 8\n",
       "\\begin{tabular}{llllllll}\n",
       " feature & r2\\_score & Metadata\\_number\\_of\\_singlecells & fourb\\_Treatment & fourb\\_Treatment\\_Dose & fourb\\_Inhibitor & fourb\\_Inhibitor\\_Dose & inducer1\\_\\_inducer1\\_dose\\_\\_inhibitor\\_\\_inhibitor\\_dose\\\\\n",
       " <chr> & <dbl> & <dbl> & <dbl> & <dbl> & <dbl> & <dbl> & <chr>\\\\\n",
       "\\hline\n",
       "\t Cytoplasm\\_AreaShape\\_Area                 & 9.343787e-04 &  1.695962e-05 &  0.017406046 & -0.017406046 &  0.017406046 & -0.017406046 & media ctr\\_\\_0\\_\\_Media ctr\\_\\_0.0\\\\\n",
       "\t Cytoplasm\\_AreaShape\\_BoundingBoxArea      & 1.740451e-03 & -3.367326e-05 &  0.017483416 & -0.017483416 &  0.017483416 & -0.017483416 & media ctr\\_\\_0\\_\\_Media ctr\\_\\_0.0\\\\\n",
       "\t Cytoplasm\\_AreaShape\\_BoundingBoxMaximum\\_X & 1.077223e-04 & -2.358903e-05 & -0.006617265 &  0.006617265 & -0.006617265 &  0.006617265 & media ctr\\_\\_0\\_\\_Media ctr\\_\\_0.0\\\\\n",
       "\t Cytoplasm\\_AreaShape\\_BoundingBoxMaximum\\_Y & 1.354607e-04 & -2.231822e-05 &  0.002458562 & -0.002458562 &  0.002458562 & -0.002458562 & media ctr\\_\\_0\\_\\_Media ctr\\_\\_0.0\\\\\n",
       "\t Cytoplasm\\_AreaShape\\_BoundingBoxMinimum\\_X & 1.515569e-04 & -2.184418e-05 & -0.007811218 &  0.007811218 & -0.007811218 &  0.007811218 & media ctr\\_\\_0\\_\\_Media ctr\\_\\_0.0\\\\\n",
       "\t Cytoplasm\\_AreaShape\\_BoundingBoxMinimum\\_Y & 8.637752e-05 & -2.176965e-05 &  0.001069714 & -0.001069714 &  0.001069714 & -0.001069714 & media ctr\\_\\_0\\_\\_Media ctr\\_\\_0.0\\\\\n",
       "\\end{tabular}\n"
      ],
      "text/markdown": [
       "\n",
       "A tibble: 6 × 8\n",
       "\n",
       "| feature &lt;chr&gt; | r2_score &lt;dbl&gt; | Metadata_number_of_singlecells &lt;dbl&gt; | fourb_Treatment &lt;dbl&gt; | fourb_Treatment_Dose &lt;dbl&gt; | fourb_Inhibitor &lt;dbl&gt; | fourb_Inhibitor_Dose &lt;dbl&gt; | inducer1__inducer1_dose__inhibitor__inhibitor_dose &lt;chr&gt; |\n",
       "|---|---|---|---|---|---|---|---|\n",
       "| Cytoplasm_AreaShape_Area                 | 9.343787e-04 |  1.695962e-05 |  0.017406046 | -0.017406046 |  0.017406046 | -0.017406046 | media ctr__0__Media ctr__0.0 |\n",
       "| Cytoplasm_AreaShape_BoundingBoxArea      | 1.740451e-03 | -3.367326e-05 |  0.017483416 | -0.017483416 |  0.017483416 | -0.017483416 | media ctr__0__Media ctr__0.0 |\n",
       "| Cytoplasm_AreaShape_BoundingBoxMaximum_X | 1.077223e-04 | -2.358903e-05 | -0.006617265 |  0.006617265 | -0.006617265 |  0.006617265 | media ctr__0__Media ctr__0.0 |\n",
       "| Cytoplasm_AreaShape_BoundingBoxMaximum_Y | 1.354607e-04 | -2.231822e-05 |  0.002458562 | -0.002458562 |  0.002458562 | -0.002458562 | media ctr__0__Media ctr__0.0 |\n",
       "| Cytoplasm_AreaShape_BoundingBoxMinimum_X | 1.515569e-04 | -2.184418e-05 | -0.007811218 |  0.007811218 | -0.007811218 |  0.007811218 | media ctr__0__Media ctr__0.0 |\n",
       "| Cytoplasm_AreaShape_BoundingBoxMinimum_Y | 8.637752e-05 | -2.176965e-05 |  0.001069714 | -0.001069714 |  0.001069714 | -0.001069714 | media ctr__0__Media ctr__0.0 |\n",
       "\n"
      ],
      "text/plain": [
       "  feature                                  r2_score    \n",
       "1 Cytoplasm_AreaShape_Area                 9.343787e-04\n",
       "2 Cytoplasm_AreaShape_BoundingBoxArea      1.740451e-03\n",
       "3 Cytoplasm_AreaShape_BoundingBoxMaximum_X 1.077223e-04\n",
       "4 Cytoplasm_AreaShape_BoundingBoxMaximum_Y 1.354607e-04\n",
       "5 Cytoplasm_AreaShape_BoundingBoxMinimum_X 1.515569e-04\n",
       "6 Cytoplasm_AreaShape_BoundingBoxMinimum_Y 8.637752e-05\n",
       "  Metadata_number_of_singlecells fourb_Treatment fourb_Treatment_Dose\n",
       "1  1.695962e-05                   0.017406046    -0.017406046        \n",
       "2 -3.367326e-05                   0.017483416    -0.017483416        \n",
       "3 -2.358903e-05                  -0.006617265     0.006617265        \n",
       "4 -2.231822e-05                   0.002458562    -0.002458562        \n",
       "5 -2.184418e-05                  -0.007811218     0.007811218        \n",
       "6 -2.176965e-05                   0.001069714    -0.001069714        \n",
       "  fourb_Inhibitor fourb_Inhibitor_Dose\n",
       "1  0.017406046    -0.017406046        \n",
       "2  0.017483416    -0.017483416        \n",
       "3 -0.006617265     0.006617265        \n",
       "4  0.002458562    -0.002458562        \n",
       "5 -0.007811218     0.007811218        \n",
       "6  0.001069714    -0.001069714        \n",
       "  inducer1__inducer1_dose__inhibitor__inhibitor_dose\n",
       "1 media ctr__0__Media ctr__0.0                      \n",
       "2 media ctr__0__Media ctr__0.0                      \n",
       "3 media ctr__0__Media ctr__0.0                      \n",
       "4 media ctr__0__Media ctr__0.0                      \n",
       "5 media ctr__0__Media ctr__0.0                      \n",
       "6 media ctr__0__Media ctr__0.0                      "
      ]
     },
     "metadata": {},
     "output_type": "display_data"
    }
   ],
   "source": [
    "\n",
    "lm_file <- file.path(paste0(\"./results/\", celltype, \"/lm_four_beta.tsv\"))\n",
    "\n",
    "lm_cp_fig <- file.path(paste0(\"./figures/\", celltype, \"/lm_four_beta.pdf\"))\n",
    "\n",
    "# if path does not exist, create it\n",
    "if (!dir.exists(file.path(paste0(\"./figures/\", celltype)))) {\n",
    "    dir.create(file.path(paste0(\"./figures/\", celltype)))\n",
    "}\n",
    "     \n",
    "lm_df <- readr::read_tsv(lm_file, col_types = readr::cols(.default = \"d\", feature =\"c\", inducer1__inducer1_dose__inhibitor__inhibitor_dose = \"c\"))\n",
    "head(lm_df)"
   ]
  },
  {
   "cell_type": "code",
   "execution_count": 3,
   "id": "05511ea0",
   "metadata": {
    "vscode": {
     "languageId": "r"
    }
   },
   "outputs": [
    {
     "data": {
      "text/html": [
       "<style>\n",
       ".list-inline {list-style: none; margin:0; padding: 0}\n",
       ".list-inline>li {display: inline-block}\n",
       ".list-inline>li:not(:last-child)::after {content: \"\\00b7\"; padding: 0 .5ex}\n",
       "</style>\n",
       "<ol class=list-inline><li>'media ctr__0__Media ctr__0.0'</li><li>'DMSO__0.100__DMSO__1.0'</li><li>'DMSO__0.100__Z-VAD-FMK__100.0'</li><li>'DMSO__0.100__Z-VAD-FMK__30.0'</li><li>'DMSO__0.100__DMSO__0.025'</li><li>'Thapsigargin__1.000__DMSO__0.025'</li><li>'Thapsigargin__10.000__DMSO__0.025'</li><li>'Topotecan__5.000__DMSO__0.025'</li><li>'Topotecan__10.000__DMSO__0.025'</li><li>'Topotecan__20.000__DMSO__0.025'</li><li>'LPS__0.010__DMSO__0.025'</li><li>'LPS__0.100__DMSO__0.025'</li><li>'LPS__1.000__DMSO__0.025'</li><li>'LPS__10.000__DMSO__0.025'</li><li>'LPS__10.000__Disulfiram__0.1'</li><li>'LPS__10.000__Disulfiram__1.0'</li><li>'LPS__10.000__Disulfiram__2.5'</li><li>'LPS_Nigericin__100.000_1.0__DMSO__0.025'</li><li>'LPS_Nigericin__100.000_3.0__DMSO__0.025'</li><li>'LPS_Nigericin__100.000_10.0__DMSO__0.025'</li><li>'Disulfiram__0.100__DMSO__0.025'</li><li>'Disulfiram__1.000__DMSO__0.025'</li><li>'Disulfiram__2.500__DMSO__0.025'</li><li>'H2O2__100.000__DMSO__0.025'</li><li>'LPS__10.000__Z-VAD-FMK__100.0'</li><li>'LPS__100.000__DMSO__0.025'</li><li>'LPS_Nigericin__1.000_1.0__DMSO__0.025'</li><li>'LPS_Nigericin__1.000_3.0__DMSO__0.025'</li><li>'LPS_Nigericin__1.000_10.0__DMSO__0.025'</li><li>'LPS_Nigericin__1.000_10.0__Disulfiram__1.0'</li><li>'LPS_Nigericin__1.000_10.0__Z-VAD-FMK__100.0'</li><li>'H2O2__100.000__Disulfiram__1.0'</li><li>'H2O2__100.000__Z-VAD-FMK__100.0'</li><li>'Flagellin__0.100__DMSO__0.025'</li><li>'Flagellin__1.000__DMSO__0.025'</li><li>'Flagellin__1.000__Disulfiram__1.0'</li></ol>\n"
      ],
      "text/latex": [
       "\\begin{enumerate*}\n",
       "\\item 'media ctr\\_\\_0\\_\\_Media ctr\\_\\_0.0'\n",
       "\\item 'DMSO\\_\\_0.100\\_\\_DMSO\\_\\_1.0'\n",
       "\\item 'DMSO\\_\\_0.100\\_\\_Z-VAD-FMK\\_\\_100.0'\n",
       "\\item 'DMSO\\_\\_0.100\\_\\_Z-VAD-FMK\\_\\_30.0'\n",
       "\\item 'DMSO\\_\\_0.100\\_\\_DMSO\\_\\_0.025'\n",
       "\\item 'Thapsigargin\\_\\_1.000\\_\\_DMSO\\_\\_0.025'\n",
       "\\item 'Thapsigargin\\_\\_10.000\\_\\_DMSO\\_\\_0.025'\n",
       "\\item 'Topotecan\\_\\_5.000\\_\\_DMSO\\_\\_0.025'\n",
       "\\item 'Topotecan\\_\\_10.000\\_\\_DMSO\\_\\_0.025'\n",
       "\\item 'Topotecan\\_\\_20.000\\_\\_DMSO\\_\\_0.025'\n",
       "\\item 'LPS\\_\\_0.010\\_\\_DMSO\\_\\_0.025'\n",
       "\\item 'LPS\\_\\_0.100\\_\\_DMSO\\_\\_0.025'\n",
       "\\item 'LPS\\_\\_1.000\\_\\_DMSO\\_\\_0.025'\n",
       "\\item 'LPS\\_\\_10.000\\_\\_DMSO\\_\\_0.025'\n",
       "\\item 'LPS\\_\\_10.000\\_\\_Disulfiram\\_\\_0.1'\n",
       "\\item 'LPS\\_\\_10.000\\_\\_Disulfiram\\_\\_1.0'\n",
       "\\item 'LPS\\_\\_10.000\\_\\_Disulfiram\\_\\_2.5'\n",
       "\\item 'LPS\\_Nigericin\\_\\_100.000\\_1.0\\_\\_DMSO\\_\\_0.025'\n",
       "\\item 'LPS\\_Nigericin\\_\\_100.000\\_3.0\\_\\_DMSO\\_\\_0.025'\n",
       "\\item 'LPS\\_Nigericin\\_\\_100.000\\_10.0\\_\\_DMSO\\_\\_0.025'\n",
       "\\item 'Disulfiram\\_\\_0.100\\_\\_DMSO\\_\\_0.025'\n",
       "\\item 'Disulfiram\\_\\_1.000\\_\\_DMSO\\_\\_0.025'\n",
       "\\item 'Disulfiram\\_\\_2.500\\_\\_DMSO\\_\\_0.025'\n",
       "\\item 'H2O2\\_\\_100.000\\_\\_DMSO\\_\\_0.025'\n",
       "\\item 'LPS\\_\\_10.000\\_\\_Z-VAD-FMK\\_\\_100.0'\n",
       "\\item 'LPS\\_\\_100.000\\_\\_DMSO\\_\\_0.025'\n",
       "\\item 'LPS\\_Nigericin\\_\\_1.000\\_1.0\\_\\_DMSO\\_\\_0.025'\n",
       "\\item 'LPS\\_Nigericin\\_\\_1.000\\_3.0\\_\\_DMSO\\_\\_0.025'\n",
       "\\item 'LPS\\_Nigericin\\_\\_1.000\\_10.0\\_\\_DMSO\\_\\_0.025'\n",
       "\\item 'LPS\\_Nigericin\\_\\_1.000\\_10.0\\_\\_Disulfiram\\_\\_1.0'\n",
       "\\item 'LPS\\_Nigericin\\_\\_1.000\\_10.0\\_\\_Z-VAD-FMK\\_\\_100.0'\n",
       "\\item 'H2O2\\_\\_100.000\\_\\_Disulfiram\\_\\_1.0'\n",
       "\\item 'H2O2\\_\\_100.000\\_\\_Z-VAD-FMK\\_\\_100.0'\n",
       "\\item 'Flagellin\\_\\_0.100\\_\\_DMSO\\_\\_0.025'\n",
       "\\item 'Flagellin\\_\\_1.000\\_\\_DMSO\\_\\_0.025'\n",
       "\\item 'Flagellin\\_\\_1.000\\_\\_Disulfiram\\_\\_1.0'\n",
       "\\end{enumerate*}\n"
      ],
      "text/markdown": [
       "1. 'media ctr__0__Media ctr__0.0'\n",
       "2. 'DMSO__0.100__DMSO__1.0'\n",
       "3. 'DMSO__0.100__Z-VAD-FMK__100.0'\n",
       "4. 'DMSO__0.100__Z-VAD-FMK__30.0'\n",
       "5. 'DMSO__0.100__DMSO__0.025'\n",
       "6. 'Thapsigargin__1.000__DMSO__0.025'\n",
       "7. 'Thapsigargin__10.000__DMSO__0.025'\n",
       "8. 'Topotecan__5.000__DMSO__0.025'\n",
       "9. 'Topotecan__10.000__DMSO__0.025'\n",
       "10. 'Topotecan__20.000__DMSO__0.025'\n",
       "11. 'LPS__0.010__DMSO__0.025'\n",
       "12. 'LPS__0.100__DMSO__0.025'\n",
       "13. 'LPS__1.000__DMSO__0.025'\n",
       "14. 'LPS__10.000__DMSO__0.025'\n",
       "15. 'LPS__10.000__Disulfiram__0.1'\n",
       "16. 'LPS__10.000__Disulfiram__1.0'\n",
       "17. 'LPS__10.000__Disulfiram__2.5'\n",
       "18. 'LPS_Nigericin__100.000_1.0__DMSO__0.025'\n",
       "19. 'LPS_Nigericin__100.000_3.0__DMSO__0.025'\n",
       "20. 'LPS_Nigericin__100.000_10.0__DMSO__0.025'\n",
       "21. 'Disulfiram__0.100__DMSO__0.025'\n",
       "22. 'Disulfiram__1.000__DMSO__0.025'\n",
       "23. 'Disulfiram__2.500__DMSO__0.025'\n",
       "24. 'H2O2__100.000__DMSO__0.025'\n",
       "25. 'LPS__10.000__Z-VAD-FMK__100.0'\n",
       "26. 'LPS__100.000__DMSO__0.025'\n",
       "27. 'LPS_Nigericin__1.000_1.0__DMSO__0.025'\n",
       "28. 'LPS_Nigericin__1.000_3.0__DMSO__0.025'\n",
       "29. 'LPS_Nigericin__1.000_10.0__DMSO__0.025'\n",
       "30. 'LPS_Nigericin__1.000_10.0__Disulfiram__1.0'\n",
       "31. 'LPS_Nigericin__1.000_10.0__Z-VAD-FMK__100.0'\n",
       "32. 'H2O2__100.000__Disulfiram__1.0'\n",
       "33. 'H2O2__100.000__Z-VAD-FMK__100.0'\n",
       "34. 'Flagellin__0.100__DMSO__0.025'\n",
       "35. 'Flagellin__1.000__DMSO__0.025'\n",
       "36. 'Flagellin__1.000__Disulfiram__1.0'\n",
       "\n",
       "\n"
      ],
      "text/plain": [
       " [1] \"media ctr__0__Media ctr__0.0\"               \n",
       " [2] \"DMSO__0.100__DMSO__1.0\"                     \n",
       " [3] \"DMSO__0.100__Z-VAD-FMK__100.0\"              \n",
       " [4] \"DMSO__0.100__Z-VAD-FMK__30.0\"               \n",
       " [5] \"DMSO__0.100__DMSO__0.025\"                   \n",
       " [6] \"Thapsigargin__1.000__DMSO__0.025\"           \n",
       " [7] \"Thapsigargin__10.000__DMSO__0.025\"          \n",
       " [8] \"Topotecan__5.000__DMSO__0.025\"              \n",
       " [9] \"Topotecan__10.000__DMSO__0.025\"             \n",
       "[10] \"Topotecan__20.000__DMSO__0.025\"             \n",
       "[11] \"LPS__0.010__DMSO__0.025\"                    \n",
       "[12] \"LPS__0.100__DMSO__0.025\"                    \n",
       "[13] \"LPS__1.000__DMSO__0.025\"                    \n",
       "[14] \"LPS__10.000__DMSO__0.025\"                   \n",
       "[15] \"LPS__10.000__Disulfiram__0.1\"               \n",
       "[16] \"LPS__10.000__Disulfiram__1.0\"               \n",
       "[17] \"LPS__10.000__Disulfiram__2.5\"               \n",
       "[18] \"LPS_Nigericin__100.000_1.0__DMSO__0.025\"    \n",
       "[19] \"LPS_Nigericin__100.000_3.0__DMSO__0.025\"    \n",
       "[20] \"LPS_Nigericin__100.000_10.0__DMSO__0.025\"   \n",
       "[21] \"Disulfiram__0.100__DMSO__0.025\"             \n",
       "[22] \"Disulfiram__1.000__DMSO__0.025\"             \n",
       "[23] \"Disulfiram__2.500__DMSO__0.025\"             \n",
       "[24] \"H2O2__100.000__DMSO__0.025\"                 \n",
       "[25] \"LPS__10.000__Z-VAD-FMK__100.0\"              \n",
       "[26] \"LPS__100.000__DMSO__0.025\"                  \n",
       "[27] \"LPS_Nigericin__1.000_1.0__DMSO__0.025\"      \n",
       "[28] \"LPS_Nigericin__1.000_3.0__DMSO__0.025\"      \n",
       "[29] \"LPS_Nigericin__1.000_10.0__DMSO__0.025\"     \n",
       "[30] \"LPS_Nigericin__1.000_10.0__Disulfiram__1.0\" \n",
       "[31] \"LPS_Nigericin__1.000_10.0__Z-VAD-FMK__100.0\"\n",
       "[32] \"H2O2__100.000__Disulfiram__1.0\"             \n",
       "[33] \"H2O2__100.000__Z-VAD-FMK__100.0\"            \n",
       "[34] \"Flagellin__0.100__DMSO__0.025\"              \n",
       "[35] \"Flagellin__1.000__DMSO__0.025\"              \n",
       "[36] \"Flagellin__1.000__Disulfiram__1.0\"          "
      ]
     },
     "metadata": {},
     "output_type": "display_data"
    }
   ],
   "source": [
    "unique(lm_df$inducer1__inducer1_dose__inhibitor__inhibitor_dose)"
   ]
  },
  {
   "cell_type": "code",
   "execution_count": 4,
   "id": "4085652a",
   "metadata": {
    "vscode": {
     "languageId": "r"
    }
   },
   "outputs": [
    {
     "name": "stderr",
     "output_type": "stream",
     "text": [
      "Warning message:\n",
      "“\u001b[1m\u001b[22mExpected 6 pieces. Additional pieces discarded in 28080 rows [18, 21, 22, 24, 26, 27, 28, 29, 30, 31, 33, 37, 39, 42, 43, 44, 45, 46, 47, 48,\n",
      "...].”\n",
      "Warning message:\n",
      "“\u001b[1m\u001b[22mExpected 6 pieces. Missing pieces filled with `NA` in 42012 rows [1, 2, 3, 4, 5, 6, 7, 8, 9, 10, 11, 12, 13, 14, 15, 16, 17, 19, 20, 23, ...].”\n"
     ]
    }
   ],
   "source": [
    "\n",
    "# Arrange by absolute value coefficient\n",
    "# Split out components of feature name for visualization\n",
    "lm_df <- lm_df %>%\n",
    "    dplyr::arrange(desc(abs(fourb_Inhibitor_Dose))) %>%\n",
    "    tidyr::separate(\n",
    "        feature,\n",
    "        into = c(\n",
    "            \"compartment\",\n",
    "            \"feature_group\",\n",
    "            \"measurement\",\n",
    "            \"channel\",\n",
    "            \"parameter1\",\n",
    "            \"parameter2\"\n",
    "        ),\n",
    "        sep = \"_\",\n",
    "        remove = FALSE\n",
    "    ) %>%\n",
    "    dplyr::mutate(channel_cleaned = channel)\n",
    "\n"
   ]
  },
  {
   "cell_type": "code",
   "execution_count": 5,
   "id": "9e039275",
   "metadata": {
    "vscode": {
     "languageId": "r"
    }
   },
   "outputs": [
    {
     "data": {
      "text/html": [
       "<style>\n",
       ".list-inline {list-style: none; margin:0; padding: 0}\n",
       ".list-inline>li {display: inline-block}\n",
       ".list-inline>li:not(:last-child)::after {content: \"\\00b7\"; padding: 0 .5ex}\n",
       "</style>\n",
       "<ol class=list-inline><li>'CorrPM'</li><li>'CorrDNA'</li><li>'CorrER'</li><li>'CorrGasdermin'</li><li>'CorrMito'</li><li>NA</li><li>'Adjacent'</li><li>'Number'</li><li>'0'</li><li>'2'</li><li>'4'</li><li>'6'</li><li>'5'</li><li>'3'</li><li>'1'</li><li>'7'</li><li>'8'</li><li>'9'</li><li>'X'</li><li>'Y'</li><li>'Z'</li><li>'Count'</li></ol>\n"
      ],
      "text/latex": [
       "\\begin{enumerate*}\n",
       "\\item 'CorrPM'\n",
       "\\item 'CorrDNA'\n",
       "\\item 'CorrER'\n",
       "\\item 'CorrGasdermin'\n",
       "\\item 'CorrMito'\n",
       "\\item NA\n",
       "\\item 'Adjacent'\n",
       "\\item 'Number'\n",
       "\\item '0'\n",
       "\\item '2'\n",
       "\\item '4'\n",
       "\\item '6'\n",
       "\\item '5'\n",
       "\\item '3'\n",
       "\\item '1'\n",
       "\\item '7'\n",
       "\\item '8'\n",
       "\\item '9'\n",
       "\\item 'X'\n",
       "\\item 'Y'\n",
       "\\item 'Z'\n",
       "\\item 'Count'\n",
       "\\end{enumerate*}\n"
      ],
      "text/markdown": [
       "1. 'CorrPM'\n",
       "2. 'CorrDNA'\n",
       "3. 'CorrER'\n",
       "4. 'CorrGasdermin'\n",
       "5. 'CorrMito'\n",
       "6. NA\n",
       "7. 'Adjacent'\n",
       "8. 'Number'\n",
       "9. '0'\n",
       "10. '2'\n",
       "11. '4'\n",
       "12. '6'\n",
       "13. '5'\n",
       "14. '3'\n",
       "15. '1'\n",
       "16. '7'\n",
       "17. '8'\n",
       "18. '9'\n",
       "19. 'X'\n",
       "20. 'Y'\n",
       "21. 'Z'\n",
       "22. 'Count'\n",
       "\n",
       "\n"
      ],
      "text/plain": [
       " [1] \"CorrPM\"        \"CorrDNA\"       \"CorrER\"        \"CorrGasdermin\"\n",
       " [5] \"CorrMito\"      NA              \"Adjacent\"      \"Number\"       \n",
       " [9] \"0\"             \"2\"             \"4\"             \"6\"            \n",
       "[13] \"5\"             \"3\"             \"1\"             \"7\"            \n",
       "[17] \"8\"             \"9\"             \"X\"             \"Y\"            \n",
       "[21] \"Z\"             \"Count\"        "
      ]
     },
     "metadata": {},
     "output_type": "display_data"
    }
   ],
   "source": [
    "unique(lm_df$channel)"
   ]
  },
  {
   "cell_type": "code",
   "execution_count": 6,
   "id": "f2cfd6bf",
   "metadata": {
    "vscode": {
     "languageId": "r"
    }
   },
   "outputs": [
    {
     "data": {
      "text/html": [
       "<style>\n",
       ".list-inline {list-style: none; margin:0; padding: 0}\n",
       ".list-inline>li {display: inline-block}\n",
       ".list-inline>li:not(:last-child)::after {content: \"\\00b7\"; padding: 0 .5ex}\n",
       "</style>\n",
       "<ol class=list-inline><li>'CorrPM'</li><li>'CorrDNA'</li><li>'CorrER'</li><li>'CorrGasdermin'</li><li>'CorrMito'</li><li>NA</li><li>'Adjacent'</li><li>'Number'</li><li>'0'</li><li>'2'</li><li>'4'</li><li>'6'</li><li>'5'</li><li>'3'</li><li>'1'</li><li>'7'</li><li>'8'</li><li>'9'</li><li>'X'</li><li>'Y'</li><li>'Z'</li><li>'Count'</li></ol>\n"
      ],
      "text/latex": [
       "\\begin{enumerate*}\n",
       "\\item 'CorrPM'\n",
       "\\item 'CorrDNA'\n",
       "\\item 'CorrER'\n",
       "\\item 'CorrGasdermin'\n",
       "\\item 'CorrMito'\n",
       "\\item NA\n",
       "\\item 'Adjacent'\n",
       "\\item 'Number'\n",
       "\\item '0'\n",
       "\\item '2'\n",
       "\\item '4'\n",
       "\\item '6'\n",
       "\\item '5'\n",
       "\\item '3'\n",
       "\\item '1'\n",
       "\\item '7'\n",
       "\\item '8'\n",
       "\\item '9'\n",
       "\\item 'X'\n",
       "\\item 'Y'\n",
       "\\item 'Z'\n",
       "\\item 'Count'\n",
       "\\end{enumerate*}\n"
      ],
      "text/markdown": [
       "1. 'CorrPM'\n",
       "2. 'CorrDNA'\n",
       "3. 'CorrER'\n",
       "4. 'CorrGasdermin'\n",
       "5. 'CorrMito'\n",
       "6. NA\n",
       "7. 'Adjacent'\n",
       "8. 'Number'\n",
       "9. '0'\n",
       "10. '2'\n",
       "11. '4'\n",
       "12. '6'\n",
       "13. '5'\n",
       "14. '3'\n",
       "15. '1'\n",
       "16. '7'\n",
       "17. '8'\n",
       "18. '9'\n",
       "19. 'X'\n",
       "20. 'Y'\n",
       "21. 'Z'\n",
       "22. 'Count'\n",
       "\n",
       "\n"
      ],
      "text/plain": [
       " [1] \"CorrPM\"        \"CorrDNA\"       \"CorrER\"        \"CorrGasdermin\"\n",
       " [5] \"CorrMito\"      NA              \"Adjacent\"      \"Number\"       \n",
       " [9] \"0\"             \"2\"             \"4\"             \"6\"            \n",
       "[13] \"5\"             \"3\"             \"1\"             \"7\"            \n",
       "[17] \"8\"             \"9\"             \"X\"             \"Y\"            \n",
       "[21] \"Z\"             \"Count\"        "
      ]
     },
     "metadata": {},
     "output_type": "display_data"
    }
   ],
   "source": [
    "unique(lm_df$channel_cleaned)"
   ]
  },
  {
   "cell_type": "code",
   "execution_count": 7,
   "id": "e599b3ec",
   "metadata": {
    "vscode": {
     "languageId": "r"
    }
   },
   "outputs": [
    {
     "name": "stdout",
     "output_type": "stream",
     "text": [
      "[1] 102492     16\n"
     ]
    },
    {
     "data": {
      "text/html": [
       "<table class=\"dataframe\">\n",
       "<caption>A tibble: 6 × 16</caption>\n",
       "<thead>\n",
       "\t<tr><th scope=col>feature</th><th scope=col>compartment</th><th scope=col>feature_group</th><th scope=col>measurement</th><th scope=col>channel</th><th scope=col>parameter1</th><th scope=col>parameter2</th><th scope=col>r2_score</th><th scope=col>Metadata_number_of_singlecells</th><th scope=col>fourb_Treatment</th><th scope=col>fourb_Treatment_Dose</th><th scope=col>fourb_Inhibitor</th><th scope=col>fourb_Inhibitor_Dose</th><th scope=col>inducer1__inducer1_dose__inhibitor__inhibitor_dose</th><th scope=col>channel_cleaned</th><th scope=col>channel_learned</th></tr>\n",
       "\t<tr><th scope=col>&lt;chr&gt;</th><th scope=col>&lt;chr&gt;</th><th scope=col>&lt;chr&gt;</th><th scope=col>&lt;chr&gt;</th><th scope=col>&lt;chr&gt;</th><th scope=col>&lt;chr&gt;</th><th scope=col>&lt;chr&gt;</th><th scope=col>&lt;dbl&gt;</th><th scope=col>&lt;dbl&gt;</th><th scope=col>&lt;dbl&gt;</th><th scope=col>&lt;dbl&gt;</th><th scope=col>&lt;dbl&gt;</th><th scope=col>&lt;dbl&gt;</th><th scope=col>&lt;chr&gt;</th><th scope=col>&lt;chr&gt;</th><th scope=col>&lt;chr&gt;</th></tr>\n",
       "</thead>\n",
       "<tbody>\n",
       "\t<tr><td>Cytoplasm_Correlation_Manders_CorrPM_CorrMito </td><td>Cytoplasm</td><td>Correlation</td><td>Manders</td><td>CorrPM </td><td>CorrMito</td><td>NA</td><td>0.3974507</td><td>-1.330689e-05</td><td>-0.6931147</td><td>-0.6931147</td><td>-0.6931147</td><td>-0.6931147</td><td>H2O2__100.000__Disulfiram__1.0</td><td>CorrPM </td><td>PM    </td></tr>\n",
       "\t<tr><td>Cells_Correlation_Manders_CorrPM_CorrMito     </td><td>Cells    </td><td>Correlation</td><td>Manders</td><td>CorrPM </td><td>CorrMito</td><td>NA</td><td>0.3931833</td><td>-4.000428e-05</td><td>-0.6843945</td><td>-0.6843945</td><td>-0.6843945</td><td>-0.6843945</td><td>H2O2__100.000__Disulfiram__1.0</td><td>CorrPM </td><td>PM    </td></tr>\n",
       "\t<tr><td>Cells_Correlation_Manders_CorrDNA_CorrMito    </td><td>Cells    </td><td>Correlation</td><td>Manders</td><td>CorrDNA</td><td>CorrMito</td><td>NA</td><td>0.2683756</td><td>-6.649527e-05</td><td>-0.6723933</td><td>-0.6723933</td><td>-0.6723933</td><td>-0.6723933</td><td>H2O2__100.000__Disulfiram__1.0</td><td>CorrDNA</td><td>nuclei</td></tr>\n",
       "\t<tr><td>Nuclei_Correlation_Manders_CorrPM_CorrMito    </td><td>Nuclei   </td><td>Correlation</td><td>Manders</td><td>CorrPM </td><td>CorrMito</td><td>NA</td><td>0.1566935</td><td> 2.525405e-05</td><td>-0.6616455</td><td>-0.6616455</td><td>-0.6616455</td><td>-0.6616455</td><td>H2O2__100.000__Disulfiram__1.0</td><td>CorrPM </td><td>PM    </td></tr>\n",
       "\t<tr><td>Cytoplasm_Correlation_Manders_CorrDNA_CorrMito</td><td>Cytoplasm</td><td>Correlation</td><td>Manders</td><td>CorrDNA</td><td>CorrMito</td><td>NA</td><td>0.2701912</td><td> 5.697376e-06</td><td>-0.6335592</td><td>-0.6335592</td><td>-0.6335592</td><td>-0.6335592</td><td>H2O2__100.000__Disulfiram__1.0</td><td>CorrDNA</td><td>nuclei</td></tr>\n",
       "\t<tr><td>Nuclei_Correlation_Manders_CorrDNA_CorrMito   </td><td>Nuclei   </td><td>Correlation</td><td>Manders</td><td>CorrDNA</td><td>CorrMito</td><td>NA</td><td>0.1397890</td><td> 5.213628e-05</td><td>-0.6247187</td><td>-0.6247187</td><td>-0.6247187</td><td>-0.6247187</td><td>H2O2__100.000__Disulfiram__1.0</td><td>CorrDNA</td><td>nuclei</td></tr>\n",
       "</tbody>\n",
       "</table>\n"
      ],
      "text/latex": [
       "A tibble: 6 × 16\n",
       "\\begin{tabular}{llllllllllllllll}\n",
       " feature & compartment & feature\\_group & measurement & channel & parameter1 & parameter2 & r2\\_score & Metadata\\_number\\_of\\_singlecells & fourb\\_Treatment & fourb\\_Treatment\\_Dose & fourb\\_Inhibitor & fourb\\_Inhibitor\\_Dose & inducer1\\_\\_inducer1\\_dose\\_\\_inhibitor\\_\\_inhibitor\\_dose & channel\\_cleaned & channel\\_learned\\\\\n",
       " <chr> & <chr> & <chr> & <chr> & <chr> & <chr> & <chr> & <dbl> & <dbl> & <dbl> & <dbl> & <dbl> & <dbl> & <chr> & <chr> & <chr>\\\\\n",
       "\\hline\n",
       "\t Cytoplasm\\_Correlation\\_Manders\\_CorrPM\\_CorrMito  & Cytoplasm & Correlation & Manders & CorrPM  & CorrMito & NA & 0.3974507 & -1.330689e-05 & -0.6931147 & -0.6931147 & -0.6931147 & -0.6931147 & H2O2\\_\\_100.000\\_\\_Disulfiram\\_\\_1.0 & CorrPM  & PM    \\\\\n",
       "\t Cells\\_Correlation\\_Manders\\_CorrPM\\_CorrMito      & Cells     & Correlation & Manders & CorrPM  & CorrMito & NA & 0.3931833 & -4.000428e-05 & -0.6843945 & -0.6843945 & -0.6843945 & -0.6843945 & H2O2\\_\\_100.000\\_\\_Disulfiram\\_\\_1.0 & CorrPM  & PM    \\\\\n",
       "\t Cells\\_Correlation\\_Manders\\_CorrDNA\\_CorrMito     & Cells     & Correlation & Manders & CorrDNA & CorrMito & NA & 0.2683756 & -6.649527e-05 & -0.6723933 & -0.6723933 & -0.6723933 & -0.6723933 & H2O2\\_\\_100.000\\_\\_Disulfiram\\_\\_1.0 & CorrDNA & nuclei\\\\\n",
       "\t Nuclei\\_Correlation\\_Manders\\_CorrPM\\_CorrMito     & Nuclei    & Correlation & Manders & CorrPM  & CorrMito & NA & 0.1566935 &  2.525405e-05 & -0.6616455 & -0.6616455 & -0.6616455 & -0.6616455 & H2O2\\_\\_100.000\\_\\_Disulfiram\\_\\_1.0 & CorrPM  & PM    \\\\\n",
       "\t Cytoplasm\\_Correlation\\_Manders\\_CorrDNA\\_CorrMito & Cytoplasm & Correlation & Manders & CorrDNA & CorrMito & NA & 0.2701912 &  5.697376e-06 & -0.6335592 & -0.6335592 & -0.6335592 & -0.6335592 & H2O2\\_\\_100.000\\_\\_Disulfiram\\_\\_1.0 & CorrDNA & nuclei\\\\\n",
       "\t Nuclei\\_Correlation\\_Manders\\_CorrDNA\\_CorrMito    & Nuclei    & Correlation & Manders & CorrDNA & CorrMito & NA & 0.1397890 &  5.213628e-05 & -0.6247187 & -0.6247187 & -0.6247187 & -0.6247187 & H2O2\\_\\_100.000\\_\\_Disulfiram\\_\\_1.0 & CorrDNA & nuclei\\\\\n",
       "\\end{tabular}\n"
      ],
      "text/markdown": [
       "\n",
       "A tibble: 6 × 16\n",
       "\n",
       "| feature &lt;chr&gt; | compartment &lt;chr&gt; | feature_group &lt;chr&gt; | measurement &lt;chr&gt; | channel &lt;chr&gt; | parameter1 &lt;chr&gt; | parameter2 &lt;chr&gt; | r2_score &lt;dbl&gt; | Metadata_number_of_singlecells &lt;dbl&gt; | fourb_Treatment &lt;dbl&gt; | fourb_Treatment_Dose &lt;dbl&gt; | fourb_Inhibitor &lt;dbl&gt; | fourb_Inhibitor_Dose &lt;dbl&gt; | inducer1__inducer1_dose__inhibitor__inhibitor_dose &lt;chr&gt; | channel_cleaned &lt;chr&gt; | channel_learned &lt;chr&gt; |\n",
       "|---|---|---|---|---|---|---|---|---|---|---|---|---|---|---|---|\n",
       "| Cytoplasm_Correlation_Manders_CorrPM_CorrMito  | Cytoplasm | Correlation | Manders | CorrPM  | CorrMito | NA | 0.3974507 | -1.330689e-05 | -0.6931147 | -0.6931147 | -0.6931147 | -0.6931147 | H2O2__100.000__Disulfiram__1.0 | CorrPM  | PM     |\n",
       "| Cells_Correlation_Manders_CorrPM_CorrMito      | Cells     | Correlation | Manders | CorrPM  | CorrMito | NA | 0.3931833 | -4.000428e-05 | -0.6843945 | -0.6843945 | -0.6843945 | -0.6843945 | H2O2__100.000__Disulfiram__1.0 | CorrPM  | PM     |\n",
       "| Cells_Correlation_Manders_CorrDNA_CorrMito     | Cells     | Correlation | Manders | CorrDNA | CorrMito | NA | 0.2683756 | -6.649527e-05 | -0.6723933 | -0.6723933 | -0.6723933 | -0.6723933 | H2O2__100.000__Disulfiram__1.0 | CorrDNA | nuclei |\n",
       "| Nuclei_Correlation_Manders_CorrPM_CorrMito     | Nuclei    | Correlation | Manders | CorrPM  | CorrMito | NA | 0.1566935 |  2.525405e-05 | -0.6616455 | -0.6616455 | -0.6616455 | -0.6616455 | H2O2__100.000__Disulfiram__1.0 | CorrPM  | PM     |\n",
       "| Cytoplasm_Correlation_Manders_CorrDNA_CorrMito | Cytoplasm | Correlation | Manders | CorrDNA | CorrMito | NA | 0.2701912 |  5.697376e-06 | -0.6335592 | -0.6335592 | -0.6335592 | -0.6335592 | H2O2__100.000__Disulfiram__1.0 | CorrDNA | nuclei |\n",
       "| Nuclei_Correlation_Manders_CorrDNA_CorrMito    | Nuclei    | Correlation | Manders | CorrDNA | CorrMito | NA | 0.1397890 |  5.213628e-05 | -0.6247187 | -0.6247187 | -0.6247187 | -0.6247187 | H2O2__100.000__Disulfiram__1.0 | CorrDNA | nuclei |\n",
       "\n"
      ],
      "text/plain": [
       "  feature                                        compartment feature_group\n",
       "1 Cytoplasm_Correlation_Manders_CorrPM_CorrMito  Cytoplasm   Correlation  \n",
       "2 Cells_Correlation_Manders_CorrPM_CorrMito      Cells       Correlation  \n",
       "3 Cells_Correlation_Manders_CorrDNA_CorrMito     Cells       Correlation  \n",
       "4 Nuclei_Correlation_Manders_CorrPM_CorrMito     Nuclei      Correlation  \n",
       "5 Cytoplasm_Correlation_Manders_CorrDNA_CorrMito Cytoplasm   Correlation  \n",
       "6 Nuclei_Correlation_Manders_CorrDNA_CorrMito    Nuclei      Correlation  \n",
       "  measurement channel parameter1 parameter2 r2_score \n",
       "1 Manders     CorrPM  CorrMito   NA         0.3974507\n",
       "2 Manders     CorrPM  CorrMito   NA         0.3931833\n",
       "3 Manders     CorrDNA CorrMito   NA         0.2683756\n",
       "4 Manders     CorrPM  CorrMito   NA         0.1566935\n",
       "5 Manders     CorrDNA CorrMito   NA         0.2701912\n",
       "6 Manders     CorrDNA CorrMito   NA         0.1397890\n",
       "  Metadata_number_of_singlecells fourb_Treatment fourb_Treatment_Dose\n",
       "1 -1.330689e-05                  -0.6931147      -0.6931147          \n",
       "2 -4.000428e-05                  -0.6843945      -0.6843945          \n",
       "3 -6.649527e-05                  -0.6723933      -0.6723933          \n",
       "4  2.525405e-05                  -0.6616455      -0.6616455          \n",
       "5  5.697376e-06                  -0.6335592      -0.6335592          \n",
       "6  5.213628e-05                  -0.6247187      -0.6247187          \n",
       "  fourb_Inhibitor fourb_Inhibitor_Dose\n",
       "1 -0.6931147      -0.6931147          \n",
       "2 -0.6843945      -0.6843945          \n",
       "3 -0.6723933      -0.6723933          \n",
       "4 -0.6616455      -0.6616455          \n",
       "5 -0.6335592      -0.6335592          \n",
       "6 -0.6247187      -0.6247187          \n",
       "  inducer1__inducer1_dose__inhibitor__inhibitor_dose channel_cleaned\n",
       "1 H2O2__100.000__Disulfiram__1.0                     CorrPM         \n",
       "2 H2O2__100.000__Disulfiram__1.0                     CorrPM         \n",
       "3 H2O2__100.000__Disulfiram__1.0                     CorrDNA        \n",
       "4 H2O2__100.000__Disulfiram__1.0                     CorrPM         \n",
       "5 H2O2__100.000__Disulfiram__1.0                     CorrDNA        \n",
       "6 H2O2__100.000__Disulfiram__1.0                     CorrDNA        \n",
       "  channel_learned\n",
       "1 PM             \n",
       "2 PM             \n",
       "3 nuclei         \n",
       "4 PM             \n",
       "5 nuclei         \n",
       "6 nuclei         "
      ]
     },
     "metadata": {},
     "output_type": "display_data"
    },
    {
     "data": {
      "text/html": [
       "<style>\n",
       ".list-inline {list-style: none; margin:0; padding: 0}\n",
       ".list-inline>li {display: inline-block}\n",
       ".list-inline>li:not(:last-child)::after {content: \"\\00b7\"; padding: 0 .5ex}\n",
       "</style>\n",
       "<ol class=list-inline><li>'PM'</li><li>'nuclei'</li><li>'ER'</li><li>'gasdermin'</li><li>'Mito'</li><li>'other'</li></ol>\n"
      ],
      "text/latex": [
       "\\begin{enumerate*}\n",
       "\\item 'PM'\n",
       "\\item 'nuclei'\n",
       "\\item 'ER'\n",
       "\\item 'gasdermin'\n",
       "\\item 'Mito'\n",
       "\\item 'other'\n",
       "\\end{enumerate*}\n"
      ],
      "text/markdown": [
       "1. 'PM'\n",
       "2. 'nuclei'\n",
       "3. 'ER'\n",
       "4. 'gasdermin'\n",
       "5. 'Mito'\n",
       "6. 'other'\n",
       "\n",
       "\n"
      ],
      "text/plain": [
       "[1] \"PM\"        \"nuclei\"    \"ER\"        \"gasdermin\" \"Mito\"      \"other\"    "
      ]
     },
     "metadata": {},
     "output_type": "display_data"
    }
   ],
   "source": [
    "# Clean channel for visualization\n",
    "lm_df$channel_learned <- dplyr::recode(lm_df$channel_cleaned,\n",
    "        \"CorrDNA\" = \"nuclei\",\n",
    "        \"CorrMito\" = \"Mito\",\n",
    "        \"CorrER\" = \"ER\",\n",
    "        \"CorrGasdermin\" = \"gasdermin\",\n",
    "        \"CorrPM\" = \"PM\",\n",
    "        .default = \"other\",\n",
    "        .missing=\"other\"\n",
    "    )\n",
    "\n",
    "print(dim(lm_df))\n",
    "head(lm_df)\n",
    "unique(lm_df$channel_learned)\n",
    "lm_df$abs_Metadata_number_of_singlecells <- abs(lm_df$Metadata_number_of_singlecells)\n",
    "lm_df$abs_fourb_Treatment <- abs(lm_df$fourb_Treatment)\n",
    "lm_df$abs_fourb_Treatment_Dose <- abs(lm_df$fourb_Treatment_Dose)\n",
    "lm_df$abs_fourb_Inhibitor <- abs(lm_df$fourb_Inhibitor)\n",
    "lm_df$abs_fourb_Inhibitor_Dose <- abs(lm_df$fourb_Inhibitor_Dose)"
   ]
  },
  {
   "cell_type": "code",
   "execution_count": 8,
   "id": "c058d163",
   "metadata": {
    "vscode": {
     "languageId": "r"
    }
   },
   "outputs": [
    {
     "data": {
      "text/html": [
       "<table class=\"dataframe\">\n",
       "<caption>A tibble: 6 × 21</caption>\n",
       "<thead>\n",
       "\t<tr><th scope=col>feature</th><th scope=col>compartment</th><th scope=col>feature_group</th><th scope=col>measurement</th><th scope=col>channel</th><th scope=col>parameter1</th><th scope=col>parameter2</th><th scope=col>r2_score</th><th scope=col>Metadata_number_of_singlecells</th><th scope=col>fourb_Treatment</th><th scope=col>⋯</th><th scope=col>fourb_Inhibitor</th><th scope=col>fourb_Inhibitor_Dose</th><th scope=col>inducer1__inducer1_dose__inhibitor__inhibitor_dose</th><th scope=col>channel_cleaned</th><th scope=col>channel_learned</th><th scope=col>abs_Metadata_number_of_singlecells</th><th scope=col>abs_fourb_Treatment</th><th scope=col>abs_fourb_Treatment_Dose</th><th scope=col>abs_fourb_Inhibitor</th><th scope=col>abs_fourb_Inhibitor_Dose</th></tr>\n",
       "\t<tr><th scope=col>&lt;chr&gt;</th><th scope=col>&lt;chr&gt;</th><th scope=col>&lt;chr&gt;</th><th scope=col>&lt;chr&gt;</th><th scope=col>&lt;chr&gt;</th><th scope=col>&lt;chr&gt;</th><th scope=col>&lt;chr&gt;</th><th scope=col>&lt;dbl&gt;</th><th scope=col>&lt;dbl&gt;</th><th scope=col>&lt;dbl&gt;</th><th scope=col>⋯</th><th scope=col>&lt;dbl&gt;</th><th scope=col>&lt;dbl&gt;</th><th scope=col>&lt;chr&gt;</th><th scope=col>&lt;chr&gt;</th><th scope=col>&lt;chr&gt;</th><th scope=col>&lt;dbl&gt;</th><th scope=col>&lt;dbl&gt;</th><th scope=col>&lt;dbl&gt;</th><th scope=col>&lt;dbl&gt;</th><th scope=col>&lt;dbl&gt;</th></tr>\n",
       "</thead>\n",
       "<tbody>\n",
       "\t<tr><td>Cytoplasm_Correlation_Manders_CorrPM_CorrMito </td><td>Cytoplasm</td><td>Correlation</td><td>Manders</td><td>CorrPM </td><td>CorrMito</td><td>NA</td><td>0.3974507</td><td>-1.330689e-05</td><td>-0.6931147</td><td>⋯</td><td>-0.6931147</td><td>-0.6931147</td><td>H2O2__100.000__Disulfiram__1.0</td><td>CorrPM </td><td>PM    </td><td>1.330689e-05</td><td>0.6931147</td><td>0.6931147</td><td>0.6931147</td><td>0.6931147</td></tr>\n",
       "\t<tr><td>Cells_Correlation_Manders_CorrPM_CorrMito     </td><td>Cells    </td><td>Correlation</td><td>Manders</td><td>CorrPM </td><td>CorrMito</td><td>NA</td><td>0.3931833</td><td>-4.000428e-05</td><td>-0.6843945</td><td>⋯</td><td>-0.6843945</td><td>-0.6843945</td><td>H2O2__100.000__Disulfiram__1.0</td><td>CorrPM </td><td>PM    </td><td>4.000428e-05</td><td>0.6843945</td><td>0.6843945</td><td>0.6843945</td><td>0.6843945</td></tr>\n",
       "\t<tr><td>Cells_Correlation_Manders_CorrDNA_CorrMito    </td><td>Cells    </td><td>Correlation</td><td>Manders</td><td>CorrDNA</td><td>CorrMito</td><td>NA</td><td>0.2683756</td><td>-6.649527e-05</td><td>-0.6723933</td><td>⋯</td><td>-0.6723933</td><td>-0.6723933</td><td>H2O2__100.000__Disulfiram__1.0</td><td>CorrDNA</td><td>nuclei</td><td>6.649527e-05</td><td>0.6723933</td><td>0.6723933</td><td>0.6723933</td><td>0.6723933</td></tr>\n",
       "\t<tr><td>Nuclei_Correlation_Manders_CorrPM_CorrMito    </td><td>Nuclei   </td><td>Correlation</td><td>Manders</td><td>CorrPM </td><td>CorrMito</td><td>NA</td><td>0.1566935</td><td> 2.525405e-05</td><td>-0.6616455</td><td>⋯</td><td>-0.6616455</td><td>-0.6616455</td><td>H2O2__100.000__Disulfiram__1.0</td><td>CorrPM </td><td>PM    </td><td>2.525405e-05</td><td>0.6616455</td><td>0.6616455</td><td>0.6616455</td><td>0.6616455</td></tr>\n",
       "\t<tr><td>Cytoplasm_Correlation_Manders_CorrDNA_CorrMito</td><td>Cytoplasm</td><td>Correlation</td><td>Manders</td><td>CorrDNA</td><td>CorrMito</td><td>NA</td><td>0.2701912</td><td> 5.697376e-06</td><td>-0.6335592</td><td>⋯</td><td>-0.6335592</td><td>-0.6335592</td><td>H2O2__100.000__Disulfiram__1.0</td><td>CorrDNA</td><td>nuclei</td><td>5.697376e-06</td><td>0.6335592</td><td>0.6335592</td><td>0.6335592</td><td>0.6335592</td></tr>\n",
       "\t<tr><td>Nuclei_Correlation_Manders_CorrDNA_CorrMito   </td><td>Nuclei   </td><td>Correlation</td><td>Manders</td><td>CorrDNA</td><td>CorrMito</td><td>NA</td><td>0.1397890</td><td> 5.213628e-05</td><td>-0.6247187</td><td>⋯</td><td>-0.6247187</td><td>-0.6247187</td><td>H2O2__100.000__Disulfiram__1.0</td><td>CorrDNA</td><td>nuclei</td><td>5.213628e-05</td><td>0.6247187</td><td>0.6247187</td><td>0.6247187</td><td>0.6247187</td></tr>\n",
       "</tbody>\n",
       "</table>\n"
      ],
      "text/latex": [
       "A tibble: 6 × 21\n",
       "\\begin{tabular}{lllllllllllllllllllll}\n",
       " feature & compartment & feature\\_group & measurement & channel & parameter1 & parameter2 & r2\\_score & Metadata\\_number\\_of\\_singlecells & fourb\\_Treatment & ⋯ & fourb\\_Inhibitor & fourb\\_Inhibitor\\_Dose & inducer1\\_\\_inducer1\\_dose\\_\\_inhibitor\\_\\_inhibitor\\_dose & channel\\_cleaned & channel\\_learned & abs\\_Metadata\\_number\\_of\\_singlecells & abs\\_fourb\\_Treatment & abs\\_fourb\\_Treatment\\_Dose & abs\\_fourb\\_Inhibitor & abs\\_fourb\\_Inhibitor\\_Dose\\\\\n",
       " <chr> & <chr> & <chr> & <chr> & <chr> & <chr> & <chr> & <dbl> & <dbl> & <dbl> & ⋯ & <dbl> & <dbl> & <chr> & <chr> & <chr> & <dbl> & <dbl> & <dbl> & <dbl> & <dbl>\\\\\n",
       "\\hline\n",
       "\t Cytoplasm\\_Correlation\\_Manders\\_CorrPM\\_CorrMito  & Cytoplasm & Correlation & Manders & CorrPM  & CorrMito & NA & 0.3974507 & -1.330689e-05 & -0.6931147 & ⋯ & -0.6931147 & -0.6931147 & H2O2\\_\\_100.000\\_\\_Disulfiram\\_\\_1.0 & CorrPM  & PM     & 1.330689e-05 & 0.6931147 & 0.6931147 & 0.6931147 & 0.6931147\\\\\n",
       "\t Cells\\_Correlation\\_Manders\\_CorrPM\\_CorrMito      & Cells     & Correlation & Manders & CorrPM  & CorrMito & NA & 0.3931833 & -4.000428e-05 & -0.6843945 & ⋯ & -0.6843945 & -0.6843945 & H2O2\\_\\_100.000\\_\\_Disulfiram\\_\\_1.0 & CorrPM  & PM     & 4.000428e-05 & 0.6843945 & 0.6843945 & 0.6843945 & 0.6843945\\\\\n",
       "\t Cells\\_Correlation\\_Manders\\_CorrDNA\\_CorrMito     & Cells     & Correlation & Manders & CorrDNA & CorrMito & NA & 0.2683756 & -6.649527e-05 & -0.6723933 & ⋯ & -0.6723933 & -0.6723933 & H2O2\\_\\_100.000\\_\\_Disulfiram\\_\\_1.0 & CorrDNA & nuclei & 6.649527e-05 & 0.6723933 & 0.6723933 & 0.6723933 & 0.6723933\\\\\n",
       "\t Nuclei\\_Correlation\\_Manders\\_CorrPM\\_CorrMito     & Nuclei    & Correlation & Manders & CorrPM  & CorrMito & NA & 0.1566935 &  2.525405e-05 & -0.6616455 & ⋯ & -0.6616455 & -0.6616455 & H2O2\\_\\_100.000\\_\\_Disulfiram\\_\\_1.0 & CorrPM  & PM     & 2.525405e-05 & 0.6616455 & 0.6616455 & 0.6616455 & 0.6616455\\\\\n",
       "\t Cytoplasm\\_Correlation\\_Manders\\_CorrDNA\\_CorrMito & Cytoplasm & Correlation & Manders & CorrDNA & CorrMito & NA & 0.2701912 &  5.697376e-06 & -0.6335592 & ⋯ & -0.6335592 & -0.6335592 & H2O2\\_\\_100.000\\_\\_Disulfiram\\_\\_1.0 & CorrDNA & nuclei & 5.697376e-06 & 0.6335592 & 0.6335592 & 0.6335592 & 0.6335592\\\\\n",
       "\t Nuclei\\_Correlation\\_Manders\\_CorrDNA\\_CorrMito    & Nuclei    & Correlation & Manders & CorrDNA & CorrMito & NA & 0.1397890 &  5.213628e-05 & -0.6247187 & ⋯ & -0.6247187 & -0.6247187 & H2O2\\_\\_100.000\\_\\_Disulfiram\\_\\_1.0 & CorrDNA & nuclei & 5.213628e-05 & 0.6247187 & 0.6247187 & 0.6247187 & 0.6247187\\\\\n",
       "\\end{tabular}\n"
      ],
      "text/markdown": [
       "\n",
       "A tibble: 6 × 21\n",
       "\n",
       "| feature &lt;chr&gt; | compartment &lt;chr&gt; | feature_group &lt;chr&gt; | measurement &lt;chr&gt; | channel &lt;chr&gt; | parameter1 &lt;chr&gt; | parameter2 &lt;chr&gt; | r2_score &lt;dbl&gt; | Metadata_number_of_singlecells &lt;dbl&gt; | fourb_Treatment &lt;dbl&gt; | ⋯ ⋯ | fourb_Inhibitor &lt;dbl&gt; | fourb_Inhibitor_Dose &lt;dbl&gt; | inducer1__inducer1_dose__inhibitor__inhibitor_dose &lt;chr&gt; | channel_cleaned &lt;chr&gt; | channel_learned &lt;chr&gt; | abs_Metadata_number_of_singlecells &lt;dbl&gt; | abs_fourb_Treatment &lt;dbl&gt; | abs_fourb_Treatment_Dose &lt;dbl&gt; | abs_fourb_Inhibitor &lt;dbl&gt; | abs_fourb_Inhibitor_Dose &lt;dbl&gt; |\n",
       "|---|---|---|---|---|---|---|---|---|---|---|---|---|---|---|---|---|---|---|---|---|\n",
       "| Cytoplasm_Correlation_Manders_CorrPM_CorrMito  | Cytoplasm | Correlation | Manders | CorrPM  | CorrMito | NA | 0.3974507 | -1.330689e-05 | -0.6931147 | ⋯ | -0.6931147 | -0.6931147 | H2O2__100.000__Disulfiram__1.0 | CorrPM  | PM     | 1.330689e-05 | 0.6931147 | 0.6931147 | 0.6931147 | 0.6931147 |\n",
       "| Cells_Correlation_Manders_CorrPM_CorrMito      | Cells     | Correlation | Manders | CorrPM  | CorrMito | NA | 0.3931833 | -4.000428e-05 | -0.6843945 | ⋯ | -0.6843945 | -0.6843945 | H2O2__100.000__Disulfiram__1.0 | CorrPM  | PM     | 4.000428e-05 | 0.6843945 | 0.6843945 | 0.6843945 | 0.6843945 |\n",
       "| Cells_Correlation_Manders_CorrDNA_CorrMito     | Cells     | Correlation | Manders | CorrDNA | CorrMito | NA | 0.2683756 | -6.649527e-05 | -0.6723933 | ⋯ | -0.6723933 | -0.6723933 | H2O2__100.000__Disulfiram__1.0 | CorrDNA | nuclei | 6.649527e-05 | 0.6723933 | 0.6723933 | 0.6723933 | 0.6723933 |\n",
       "| Nuclei_Correlation_Manders_CorrPM_CorrMito     | Nuclei    | Correlation | Manders | CorrPM  | CorrMito | NA | 0.1566935 |  2.525405e-05 | -0.6616455 | ⋯ | -0.6616455 | -0.6616455 | H2O2__100.000__Disulfiram__1.0 | CorrPM  | PM     | 2.525405e-05 | 0.6616455 | 0.6616455 | 0.6616455 | 0.6616455 |\n",
       "| Cytoplasm_Correlation_Manders_CorrDNA_CorrMito | Cytoplasm | Correlation | Manders | CorrDNA | CorrMito | NA | 0.2701912 |  5.697376e-06 | -0.6335592 | ⋯ | -0.6335592 | -0.6335592 | H2O2__100.000__Disulfiram__1.0 | CorrDNA | nuclei | 5.697376e-06 | 0.6335592 | 0.6335592 | 0.6335592 | 0.6335592 |\n",
       "| Nuclei_Correlation_Manders_CorrDNA_CorrMito    | Nuclei    | Correlation | Manders | CorrDNA | CorrMito | NA | 0.1397890 |  5.213628e-05 | -0.6247187 | ⋯ | -0.6247187 | -0.6247187 | H2O2__100.000__Disulfiram__1.0 | CorrDNA | nuclei | 5.213628e-05 | 0.6247187 | 0.6247187 | 0.6247187 | 0.6247187 |\n",
       "\n"
      ],
      "text/plain": [
       "  feature                                        compartment feature_group\n",
       "1 Cytoplasm_Correlation_Manders_CorrPM_CorrMito  Cytoplasm   Correlation  \n",
       "2 Cells_Correlation_Manders_CorrPM_CorrMito      Cells       Correlation  \n",
       "3 Cells_Correlation_Manders_CorrDNA_CorrMito     Cells       Correlation  \n",
       "4 Nuclei_Correlation_Manders_CorrPM_CorrMito     Nuclei      Correlation  \n",
       "5 Cytoplasm_Correlation_Manders_CorrDNA_CorrMito Cytoplasm   Correlation  \n",
       "6 Nuclei_Correlation_Manders_CorrDNA_CorrMito    Nuclei      Correlation  \n",
       "  measurement channel parameter1 parameter2 r2_score \n",
       "1 Manders     CorrPM  CorrMito   NA         0.3974507\n",
       "2 Manders     CorrPM  CorrMito   NA         0.3931833\n",
       "3 Manders     CorrDNA CorrMito   NA         0.2683756\n",
       "4 Manders     CorrPM  CorrMito   NA         0.1566935\n",
       "5 Manders     CorrDNA CorrMito   NA         0.2701912\n",
       "6 Manders     CorrDNA CorrMito   NA         0.1397890\n",
       "  Metadata_number_of_singlecells fourb_Treatment ⋯ fourb_Inhibitor\n",
       "1 -1.330689e-05                  -0.6931147      ⋯ -0.6931147     \n",
       "2 -4.000428e-05                  -0.6843945      ⋯ -0.6843945     \n",
       "3 -6.649527e-05                  -0.6723933      ⋯ -0.6723933     \n",
       "4  2.525405e-05                  -0.6616455      ⋯ -0.6616455     \n",
       "5  5.697376e-06                  -0.6335592      ⋯ -0.6335592     \n",
       "6  5.213628e-05                  -0.6247187      ⋯ -0.6247187     \n",
       "  fourb_Inhibitor_Dose inducer1__inducer1_dose__inhibitor__inhibitor_dose\n",
       "1 -0.6931147           H2O2__100.000__Disulfiram__1.0                    \n",
       "2 -0.6843945           H2O2__100.000__Disulfiram__1.0                    \n",
       "3 -0.6723933           H2O2__100.000__Disulfiram__1.0                    \n",
       "4 -0.6616455           H2O2__100.000__Disulfiram__1.0                    \n",
       "5 -0.6335592           H2O2__100.000__Disulfiram__1.0                    \n",
       "6 -0.6247187           H2O2__100.000__Disulfiram__1.0                    \n",
       "  channel_cleaned channel_learned abs_Metadata_number_of_singlecells\n",
       "1 CorrPM          PM              1.330689e-05                      \n",
       "2 CorrPM          PM              4.000428e-05                      \n",
       "3 CorrDNA         nuclei          6.649527e-05                      \n",
       "4 CorrPM          PM              2.525405e-05                      \n",
       "5 CorrDNA         nuclei          5.697376e-06                      \n",
       "6 CorrDNA         nuclei          5.213628e-05                      \n",
       "  abs_fourb_Treatment abs_fourb_Treatment_Dose abs_fourb_Inhibitor\n",
       "1 0.6931147           0.6931147                0.6931147          \n",
       "2 0.6843945           0.6843945                0.6843945          \n",
       "3 0.6723933           0.6723933                0.6723933          \n",
       "4 0.6616455           0.6616455                0.6616455          \n",
       "5 0.6335592           0.6335592                0.6335592          \n",
       "6 0.6247187           0.6247187                0.6247187          \n",
       "  abs_fourb_Inhibitor_Dose\n",
       "1 0.6931147               \n",
       "2 0.6843945               \n",
       "3 0.6723933               \n",
       "4 0.6616455               \n",
       "5 0.6335592               \n",
       "6 0.6247187               "
      ]
     },
     "metadata": {},
     "output_type": "display_data"
    }
   ],
   "source": [
    "head(lm_df)"
   ]
  },
  {
   "cell_type": "code",
   "execution_count": 9,
   "id": "a429584c",
   "metadata": {
    "vscode": {
     "languageId": "r"
    }
   },
   "outputs": [],
   "source": [
    "loop_list <- unique(lm_df$inducer1__inducer1_dose__inhibitor__inhibitor_dose)\n",
    "x_list <- c('abs_fourb_Treatment','abs_fourb_Treatment_Dose','abs_fourb_Inhibitor','abs_fourb_Inhibitor_Dose')"
   ]
  },
  {
   "cell_type": "code",
   "execution_count": 10,
   "id": "c754310a",
   "metadata": {
    "vscode": {
     "languageId": "r"
    }
   },
   "outputs": [
    {
     "data": {
      "text/html": [
       "<strong>png:</strong> 2"
      ],
      "text/latex": [
       "\\textbf{png:} 2"
      ],
      "text/markdown": [
       "**png:** 2"
      ],
      "text/plain": [
       "png \n",
       "  2 "
      ]
     },
     "metadata": {},
     "output_type": "display_data"
    }
   ],
   "source": [
    "pdf(file=lm_cp_fig )\n",
    "for (i in 1:length(loop_list)){\n",
    "    df <- lm_df[lm_df$inducer1__inducer1_dose__inhibitor__inhibitor_dose == loop_list[i],]\n",
    "    for (j in 1:length(x_list)){\n",
    "        lm_fig_gg <- (\n",
    "            ggplot(df, aes(x = .data[[x_list[j]]], y = r2_score))\n",
    "            + geom_point(aes(size = abs_Metadata_number_of_singlecells, color = channel_learned), alpha = 0.7)\n",
    "            + theme_bw()\n",
    "            + guides(\n",
    "                color = guide_legend(title = \"Channel\\n(if applicable)\", order = 1),\n",
    "                size = guide_legend(title = \"Cell count contributution\")\n",
    "            )\n",
    "            + ylab(\"R2 score of LM feature\")\n",
    "            + xlab(paste0(x_list[j],\" contribution (LM beta coefficient)\"))\n",
    "            + ggtitle(paste0(\"How CellProfiler features contribute\\nto \",loop_list[i], \"\\ntreatments and cell density\"))\n",
    "        )\n",
    "    plot(lm_fig_gg)    \n",
    "    }\n",
    "}\n",
    "dev.off()"
   ]
  },
  {
   "cell_type": "code",
   "execution_count": null,
   "id": "732318a5",
   "metadata": {
    "vscode": {
     "languageId": "r"
    }
   },
   "outputs": [],
   "source": []
  },
  {
   "cell_type": "code",
   "execution_count": null,
   "id": "03e837aa",
   "metadata": {
    "vscode": {
     "languageId": "r"
    }
   },
   "outputs": [],
   "source": []
  }
 ],
 "metadata": {
  "kernelspec": {
   "display_name": "R [conda env:Interstellar] *",
   "language": "R",
   "name": "conda-env-Interstellar-r"
  },
  "language_info": {
   "codemirror_mode": "r",
   "file_extension": ".r",
   "mimetype": "text/x-r-source",
   "name": "R",
   "pygments_lexer": "r",
   "version": "4.2.2"
  },
  "vscode": {
   "interpreter": {
    "hash": "72ae02083a9ca7d143c492d1aec380c7bf553ec51bd66e90e72bba65228121b6"
   }
  }
 },
 "nbformat": 4,
 "nbformat_minor": 5
}
