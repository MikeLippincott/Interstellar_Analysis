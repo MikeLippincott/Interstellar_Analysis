{
 "cells": [
  {
   "cell_type": "code",
   "execution_count": 1,
   "id": "c4549d80",
   "metadata": {
    "vscode": {
     "languageId": "r"
    }
   },
   "outputs": [
    {
     "name": "stderr",
     "output_type": "stream",
     "text": [
      "Warning message:\n",
      "“package ‘ggplot2’ was built under R version 4.2.3”\n"
     ]
    }
   ],
   "source": [
    "suppressPackageStartupMessages(library(ggplot2))\n",
    "suppressPackageStartupMessages(library(dplyr))\n",
    "suppressPackageStartupMessages(library(argparse))"
   ]
  },
  {
   "attachments": {},
   "cell_type": "markdown",
   "id": "65fe30fa",
   "metadata": {},
   "source": [
    "## Four Beta Model Vizualization"
   ]
  },
  {
   "cell_type": "code",
   "execution_count": null,
   "id": "075f04c0",
   "metadata": {
    "vscode": {
     "languageId": "r"
    }
   },
   "outputs": [],
   "source": [
    "# define command line arguments\n",
    "parser <- ArgumentParser(description = \"Visualize linear modeling results\")\n",
    "# add arguments\n",
    "parser$add_argument('--celltype', type='character', help='Cell type to visualize')\n",
    "\n",
    "# parse arguments from command line\n",
    "args <- parser$parse_args()\n",
    "\n",
    "# define cell type\n",
    "celltype <- args$celltype\n"
   ]
  },
  {
   "cell_type": "code",
   "execution_count": 2,
   "id": "67233b3e",
   "metadata": {
    "vscode": {
     "languageId": "r"
    }
   },
   "outputs": [],
   "source": [
    "celltype = \"SHSY5Y\""
   ]
  },
  {
   "cell_type": "code",
   "execution_count": 3,
   "id": "f86de8b4",
   "metadata": {
    "vscode": {
     "languageId": "r"
    }
   },
   "outputs": [
    {
     "data": {
      "text/html": [
       "<table class=\"dataframe\">\n",
       "<caption>A tibble: 6 × 8</caption>\n",
       "<thead>\n",
       "\t<tr><th scope=col>feature</th><th scope=col>r2_score</th><th scope=col>Metadata_number_of_singlecells</th><th scope=col>fourb_Treatment</th><th scope=col>fourb_Treatment_Dose</th><th scope=col>fourb_Inhibitor</th><th scope=col>fourb_Inhibitor_Dose</th><th scope=col>inducer1__inducer1_dose__inhibitor__inhibitor_dose</th></tr>\n",
       "\t<tr><th scope=col>&lt;chr&gt;</th><th scope=col>&lt;dbl&gt;</th><th scope=col>&lt;dbl&gt;</th><th scope=col>&lt;dbl&gt;</th><th scope=col>&lt;dbl&gt;</th><th scope=col>&lt;dbl&gt;</th><th scope=col>&lt;dbl&gt;</th><th scope=col>&lt;chr&gt;</th></tr>\n",
       "</thead>\n",
       "<tbody>\n",
       "\t<tr><td>Cytoplasm_AreaShape_Compactness    </td><td>0.0010758123</td><td>-7.546792e-05</td><td>-0.0201709707</td><td> 0.0201709707</td><td>-0.0201709707</td><td> 0.0201709707</td><td>media ctr__0__Media ctr__0.0</td></tr>\n",
       "\t<tr><td>Cytoplasm_AreaShape_Eccentricity   </td><td>0.0005340345</td><td>-6.444612e-05</td><td>-0.0002461108</td><td> 0.0002461108</td><td>-0.0002461108</td><td> 0.0002461108</td><td>media ctr__0__Media ctr__0.0</td></tr>\n",
       "\t<tr><td>Cytoplasm_AreaShape_Extent         </td><td>0.0010686948</td><td> 9.424593e-05</td><td> 0.0195559884</td><td>-0.0195559884</td><td> 0.0195559884</td><td>-0.0195559884</td><td>media ctr__0__Media ctr__0.0</td></tr>\n",
       "\t<tr><td>Cytoplasm_AreaShape_FormFactor     </td><td>0.0006766865</td><td> 7.923037e-05</td><td> 0.0152138150</td><td>-0.0152138150</td><td> 0.0152138150</td><td>-0.0152138150</td><td>media ctr__0__Media ctr__0.0</td></tr>\n",
       "\t<tr><td>Cytoplasm_AreaShape_MajorAxisLength</td><td>0.0015522850</td><td>-7.570263e-05</td><td> 0.0084142080</td><td>-0.0084142080</td><td> 0.0084142080</td><td>-0.0084142080</td><td>media ctr__0__Media ctr__0.0</td></tr>\n",
       "\t<tr><td>Cytoplasm_AreaShape_MinorAxisLength</td><td>0.0004700079</td><td> 8.941444e-06</td><td> 0.0120887511</td><td>-0.0120887511</td><td> 0.0120887511</td><td>-0.0120887511</td><td>media ctr__0__Media ctr__0.0</td></tr>\n",
       "</tbody>\n",
       "</table>\n"
      ],
      "text/latex": [
       "A tibble: 6 × 8\n",
       "\\begin{tabular}{llllllll}\n",
       " feature & r2\\_score & Metadata\\_number\\_of\\_singlecells & fourb\\_Treatment & fourb\\_Treatment\\_Dose & fourb\\_Inhibitor & fourb\\_Inhibitor\\_Dose & inducer1\\_\\_inducer1\\_dose\\_\\_inhibitor\\_\\_inhibitor\\_dose\\\\\n",
       " <chr> & <dbl> & <dbl> & <dbl> & <dbl> & <dbl> & <dbl> & <chr>\\\\\n",
       "\\hline\n",
       "\t Cytoplasm\\_AreaShape\\_Compactness     & 0.0010758123 & -7.546792e-05 & -0.0201709707 &  0.0201709707 & -0.0201709707 &  0.0201709707 & media ctr\\_\\_0\\_\\_Media ctr\\_\\_0.0\\\\\n",
       "\t Cytoplasm\\_AreaShape\\_Eccentricity    & 0.0005340345 & -6.444612e-05 & -0.0002461108 &  0.0002461108 & -0.0002461108 &  0.0002461108 & media ctr\\_\\_0\\_\\_Media ctr\\_\\_0.0\\\\\n",
       "\t Cytoplasm\\_AreaShape\\_Extent          & 0.0010686948 &  9.424593e-05 &  0.0195559884 & -0.0195559884 &  0.0195559884 & -0.0195559884 & media ctr\\_\\_0\\_\\_Media ctr\\_\\_0.0\\\\\n",
       "\t Cytoplasm\\_AreaShape\\_FormFactor      & 0.0006766865 &  7.923037e-05 &  0.0152138150 & -0.0152138150 &  0.0152138150 & -0.0152138150 & media ctr\\_\\_0\\_\\_Media ctr\\_\\_0.0\\\\\n",
       "\t Cytoplasm\\_AreaShape\\_MajorAxisLength & 0.0015522850 & -7.570263e-05 &  0.0084142080 & -0.0084142080 &  0.0084142080 & -0.0084142080 & media ctr\\_\\_0\\_\\_Media ctr\\_\\_0.0\\\\\n",
       "\t Cytoplasm\\_AreaShape\\_MinorAxisLength & 0.0004700079 &  8.941444e-06 &  0.0120887511 & -0.0120887511 &  0.0120887511 & -0.0120887511 & media ctr\\_\\_0\\_\\_Media ctr\\_\\_0.0\\\\\n",
       "\\end{tabular}\n"
      ],
      "text/markdown": [
       "\n",
       "A tibble: 6 × 8\n",
       "\n",
       "| feature &lt;chr&gt; | r2_score &lt;dbl&gt; | Metadata_number_of_singlecells &lt;dbl&gt; | fourb_Treatment &lt;dbl&gt; | fourb_Treatment_Dose &lt;dbl&gt; | fourb_Inhibitor &lt;dbl&gt; | fourb_Inhibitor_Dose &lt;dbl&gt; | inducer1__inducer1_dose__inhibitor__inhibitor_dose &lt;chr&gt; |\n",
       "|---|---|---|---|---|---|---|---|\n",
       "| Cytoplasm_AreaShape_Compactness     | 0.0010758123 | -7.546792e-05 | -0.0201709707 |  0.0201709707 | -0.0201709707 |  0.0201709707 | media ctr__0__Media ctr__0.0 |\n",
       "| Cytoplasm_AreaShape_Eccentricity    | 0.0005340345 | -6.444612e-05 | -0.0002461108 |  0.0002461108 | -0.0002461108 |  0.0002461108 | media ctr__0__Media ctr__0.0 |\n",
       "| Cytoplasm_AreaShape_Extent          | 0.0010686948 |  9.424593e-05 |  0.0195559884 | -0.0195559884 |  0.0195559884 | -0.0195559884 | media ctr__0__Media ctr__0.0 |\n",
       "| Cytoplasm_AreaShape_FormFactor      | 0.0006766865 |  7.923037e-05 |  0.0152138150 | -0.0152138150 |  0.0152138150 | -0.0152138150 | media ctr__0__Media ctr__0.0 |\n",
       "| Cytoplasm_AreaShape_MajorAxisLength | 0.0015522850 | -7.570263e-05 |  0.0084142080 | -0.0084142080 |  0.0084142080 | -0.0084142080 | media ctr__0__Media ctr__0.0 |\n",
       "| Cytoplasm_AreaShape_MinorAxisLength | 0.0004700079 |  8.941444e-06 |  0.0120887511 | -0.0120887511 |  0.0120887511 | -0.0120887511 | media ctr__0__Media ctr__0.0 |\n",
       "\n"
      ],
      "text/plain": [
       "  feature                             r2_score    \n",
       "1 Cytoplasm_AreaShape_Compactness     0.0010758123\n",
       "2 Cytoplasm_AreaShape_Eccentricity    0.0005340345\n",
       "3 Cytoplasm_AreaShape_Extent          0.0010686948\n",
       "4 Cytoplasm_AreaShape_FormFactor      0.0006766865\n",
       "5 Cytoplasm_AreaShape_MajorAxisLength 0.0015522850\n",
       "6 Cytoplasm_AreaShape_MinorAxisLength 0.0004700079\n",
       "  Metadata_number_of_singlecells fourb_Treatment fourb_Treatment_Dose\n",
       "1 -7.546792e-05                  -0.0201709707    0.0201709707       \n",
       "2 -6.444612e-05                  -0.0002461108    0.0002461108       \n",
       "3  9.424593e-05                   0.0195559884   -0.0195559884       \n",
       "4  7.923037e-05                   0.0152138150   -0.0152138150       \n",
       "5 -7.570263e-05                   0.0084142080   -0.0084142080       \n",
       "6  8.941444e-06                   0.0120887511   -0.0120887511       \n",
       "  fourb_Inhibitor fourb_Inhibitor_Dose\n",
       "1 -0.0201709707    0.0201709707       \n",
       "2 -0.0002461108    0.0002461108       \n",
       "3  0.0195559884   -0.0195559884       \n",
       "4  0.0152138150   -0.0152138150       \n",
       "5  0.0084142080   -0.0084142080       \n",
       "6  0.0120887511   -0.0120887511       \n",
       "  inducer1__inducer1_dose__inhibitor__inhibitor_dose\n",
       "1 media ctr__0__Media ctr__0.0                      \n",
       "2 media ctr__0__Media ctr__0.0                      \n",
       "3 media ctr__0__Media ctr__0.0                      \n",
       "4 media ctr__0__Media ctr__0.0                      \n",
       "5 media ctr__0__Media ctr__0.0                      \n",
       "6 media ctr__0__Media ctr__0.0                      "
      ]
     },
     "metadata": {},
     "output_type": "display_data"
    }
   ],
   "source": [
    "\n",
    "lm_file <- file.path(paste0(\"./results/\", celltype, \"/lm_four_beta.tsv\"))\n",
    "\n",
    "lm_cp_fig <- file.path(paste0(\"./figures/\", celltype, \"/lm_four_beta.pdf\"))\n",
    "lm_cp_fig_abs <- file.path(paste0(\"./figures/\", celltype, \"/lm_four_beta_abs.pdf\"))\n",
    "\n",
    "# if path does not exist, create it\n",
    "if (!dir.exists(file.path(paste0(\"./figures/\", celltype)))) {\n",
    "    dir.create(file.path(paste0(\"./figures/\", celltype)))\n",
    "}\n",
    "     \n",
    "lm_df <- readr::read_tsv(lm_file, col_types = readr::cols(.default = \"d\", feature =\"c\", inducer1__inducer1_dose__inhibitor__inhibitor_dose = \"c\"))\n",
    "head(lm_df)"
   ]
  },
  {
   "cell_type": "code",
   "execution_count": 4,
   "id": "05511ea0",
   "metadata": {
    "vscode": {
     "languageId": "r"
    }
   },
   "outputs": [
    {
     "data": {
      "text/html": [
       "<style>\n",
       ".list-inline {list-style: none; margin:0; padding: 0}\n",
       ".list-inline>li {display: inline-block}\n",
       ".list-inline>li:not(:last-child)::after {content: \"\\00b7\"; padding: 0 .5ex}\n",
       "</style>\n",
       "<ol class=list-inline><li>'media ctr__0__Media ctr__0.0'</li><li>'DMSO__0.100__DMSO__1.0'</li><li>'DMSO__0.100__Z-VAD-FMK__100.0'</li><li>'DMSO__0.100__Z-VAD-FMK__30.0'</li><li>'DMSO__0.100__DMSO__0.025'</li><li>'Thapsigargin__1.000__DMSO__0.025'</li><li>'Thapsigargin__10.000__DMSO__0.025'</li><li>'Topotecan__5.000__DMSO__0.025'</li><li>'Topotecan__10.000__DMSO__0.025'</li><li>'Topotecan__20.000__DMSO__0.025'</li><li>'LPS__0.010__DMSO__0.025'</li><li>'LPS__0.100__DMSO__0.025'</li><li>'LPS__1.000__DMSO__0.025'</li><li>'LPS__10.000__DMSO__0.025'</li><li>'LPS__10.000__Disulfiram__0.1'</li><li>'LPS__10.000__Disulfiram__1.0'</li><li>'LPS__10.000__Disulfiram__2.5'</li><li>'LPS_Nigericin__100.000_1.0__DMSO__0.025'</li><li>'LPS_Nigericin__100.000_3.0__DMSO__0.025'</li><li>'LPS_Nigericin__100.000_10.0__DMSO__0.025'</li><li>'Disulfiram__0.100__DMSO__0.025'</li><li>'Disulfiram__1.000__DMSO__0.025'</li><li>'Disulfiram__2.500__DMSO__0.025'</li><li>'H2O2__100.000__DMSO__0.025'</li><li>'LPS__10.000__Z-VAD-FMK__100.0'</li><li>'LPS__100.000__DMSO__0.025'</li><li>'LPS_Nigericin__1.000_1.0__DMSO__0.025'</li><li>'LPS_Nigericin__1.000_3.0__DMSO__0.025'</li><li>'LPS_Nigericin__1.000_10.0__DMSO__0.025'</li><li>'LPS_Nigericin__1.000_10.0__Disulfiram__1.0'</li><li>'LPS_Nigericin__1.000_10.0__Z-VAD-FMK__100.0'</li><li>'H2O2__100.000__Disulfiram__1.0'</li><li>'H2O2__100.000__Z-VAD-FMK__100.0'</li><li>'Flagellin__0.100__DMSO__0.025'</li><li>'Flagellin__1.000__DMSO__0.025'</li><li>'Flagellin__1.000__Disulfiram__1.0'</li></ol>\n"
      ],
      "text/latex": [
       "\\begin{enumerate*}\n",
       "\\item 'media ctr\\_\\_0\\_\\_Media ctr\\_\\_0.0'\n",
       "\\item 'DMSO\\_\\_0.100\\_\\_DMSO\\_\\_1.0'\n",
       "\\item 'DMSO\\_\\_0.100\\_\\_Z-VAD-FMK\\_\\_100.0'\n",
       "\\item 'DMSO\\_\\_0.100\\_\\_Z-VAD-FMK\\_\\_30.0'\n",
       "\\item 'DMSO\\_\\_0.100\\_\\_DMSO\\_\\_0.025'\n",
       "\\item 'Thapsigargin\\_\\_1.000\\_\\_DMSO\\_\\_0.025'\n",
       "\\item 'Thapsigargin\\_\\_10.000\\_\\_DMSO\\_\\_0.025'\n",
       "\\item 'Topotecan\\_\\_5.000\\_\\_DMSO\\_\\_0.025'\n",
       "\\item 'Topotecan\\_\\_10.000\\_\\_DMSO\\_\\_0.025'\n",
       "\\item 'Topotecan\\_\\_20.000\\_\\_DMSO\\_\\_0.025'\n",
       "\\item 'LPS\\_\\_0.010\\_\\_DMSO\\_\\_0.025'\n",
       "\\item 'LPS\\_\\_0.100\\_\\_DMSO\\_\\_0.025'\n",
       "\\item 'LPS\\_\\_1.000\\_\\_DMSO\\_\\_0.025'\n",
       "\\item 'LPS\\_\\_10.000\\_\\_DMSO\\_\\_0.025'\n",
       "\\item 'LPS\\_\\_10.000\\_\\_Disulfiram\\_\\_0.1'\n",
       "\\item 'LPS\\_\\_10.000\\_\\_Disulfiram\\_\\_1.0'\n",
       "\\item 'LPS\\_\\_10.000\\_\\_Disulfiram\\_\\_2.5'\n",
       "\\item 'LPS\\_Nigericin\\_\\_100.000\\_1.0\\_\\_DMSO\\_\\_0.025'\n",
       "\\item 'LPS\\_Nigericin\\_\\_100.000\\_3.0\\_\\_DMSO\\_\\_0.025'\n",
       "\\item 'LPS\\_Nigericin\\_\\_100.000\\_10.0\\_\\_DMSO\\_\\_0.025'\n",
       "\\item 'Disulfiram\\_\\_0.100\\_\\_DMSO\\_\\_0.025'\n",
       "\\item 'Disulfiram\\_\\_1.000\\_\\_DMSO\\_\\_0.025'\n",
       "\\item 'Disulfiram\\_\\_2.500\\_\\_DMSO\\_\\_0.025'\n",
       "\\item 'H2O2\\_\\_100.000\\_\\_DMSO\\_\\_0.025'\n",
       "\\item 'LPS\\_\\_10.000\\_\\_Z-VAD-FMK\\_\\_100.0'\n",
       "\\item 'LPS\\_\\_100.000\\_\\_DMSO\\_\\_0.025'\n",
       "\\item 'LPS\\_Nigericin\\_\\_1.000\\_1.0\\_\\_DMSO\\_\\_0.025'\n",
       "\\item 'LPS\\_Nigericin\\_\\_1.000\\_3.0\\_\\_DMSO\\_\\_0.025'\n",
       "\\item 'LPS\\_Nigericin\\_\\_1.000\\_10.0\\_\\_DMSO\\_\\_0.025'\n",
       "\\item 'LPS\\_Nigericin\\_\\_1.000\\_10.0\\_\\_Disulfiram\\_\\_1.0'\n",
       "\\item 'LPS\\_Nigericin\\_\\_1.000\\_10.0\\_\\_Z-VAD-FMK\\_\\_100.0'\n",
       "\\item 'H2O2\\_\\_100.000\\_\\_Disulfiram\\_\\_1.0'\n",
       "\\item 'H2O2\\_\\_100.000\\_\\_Z-VAD-FMK\\_\\_100.0'\n",
       "\\item 'Flagellin\\_\\_0.100\\_\\_DMSO\\_\\_0.025'\n",
       "\\item 'Flagellin\\_\\_1.000\\_\\_DMSO\\_\\_0.025'\n",
       "\\item 'Flagellin\\_\\_1.000\\_\\_Disulfiram\\_\\_1.0'\n",
       "\\end{enumerate*}\n"
      ],
      "text/markdown": [
       "1. 'media ctr__0__Media ctr__0.0'\n",
       "2. 'DMSO__0.100__DMSO__1.0'\n",
       "3. 'DMSO__0.100__Z-VAD-FMK__100.0'\n",
       "4. 'DMSO__0.100__Z-VAD-FMK__30.0'\n",
       "5. 'DMSO__0.100__DMSO__0.025'\n",
       "6. 'Thapsigargin__1.000__DMSO__0.025'\n",
       "7. 'Thapsigargin__10.000__DMSO__0.025'\n",
       "8. 'Topotecan__5.000__DMSO__0.025'\n",
       "9. 'Topotecan__10.000__DMSO__0.025'\n",
       "10. 'Topotecan__20.000__DMSO__0.025'\n",
       "11. 'LPS__0.010__DMSO__0.025'\n",
       "12. 'LPS__0.100__DMSO__0.025'\n",
       "13. 'LPS__1.000__DMSO__0.025'\n",
       "14. 'LPS__10.000__DMSO__0.025'\n",
       "15. 'LPS__10.000__Disulfiram__0.1'\n",
       "16. 'LPS__10.000__Disulfiram__1.0'\n",
       "17. 'LPS__10.000__Disulfiram__2.5'\n",
       "18. 'LPS_Nigericin__100.000_1.0__DMSO__0.025'\n",
       "19. 'LPS_Nigericin__100.000_3.0__DMSO__0.025'\n",
       "20. 'LPS_Nigericin__100.000_10.0__DMSO__0.025'\n",
       "21. 'Disulfiram__0.100__DMSO__0.025'\n",
       "22. 'Disulfiram__1.000__DMSO__0.025'\n",
       "23. 'Disulfiram__2.500__DMSO__0.025'\n",
       "24. 'H2O2__100.000__DMSO__0.025'\n",
       "25. 'LPS__10.000__Z-VAD-FMK__100.0'\n",
       "26. 'LPS__100.000__DMSO__0.025'\n",
       "27. 'LPS_Nigericin__1.000_1.0__DMSO__0.025'\n",
       "28. 'LPS_Nigericin__1.000_3.0__DMSO__0.025'\n",
       "29. 'LPS_Nigericin__1.000_10.0__DMSO__0.025'\n",
       "30. 'LPS_Nigericin__1.000_10.0__Disulfiram__1.0'\n",
       "31. 'LPS_Nigericin__1.000_10.0__Z-VAD-FMK__100.0'\n",
       "32. 'H2O2__100.000__Disulfiram__1.0'\n",
       "33. 'H2O2__100.000__Z-VAD-FMK__100.0'\n",
       "34. 'Flagellin__0.100__DMSO__0.025'\n",
       "35. 'Flagellin__1.000__DMSO__0.025'\n",
       "36. 'Flagellin__1.000__Disulfiram__1.0'\n",
       "\n",
       "\n"
      ],
      "text/plain": [
       " [1] \"media ctr__0__Media ctr__0.0\"               \n",
       " [2] \"DMSO__0.100__DMSO__1.0\"                     \n",
       " [3] \"DMSO__0.100__Z-VAD-FMK__100.0\"              \n",
       " [4] \"DMSO__0.100__Z-VAD-FMK__30.0\"               \n",
       " [5] \"DMSO__0.100__DMSO__0.025\"                   \n",
       " [6] \"Thapsigargin__1.000__DMSO__0.025\"           \n",
       " [7] \"Thapsigargin__10.000__DMSO__0.025\"          \n",
       " [8] \"Topotecan__5.000__DMSO__0.025\"              \n",
       " [9] \"Topotecan__10.000__DMSO__0.025\"             \n",
       "[10] \"Topotecan__20.000__DMSO__0.025\"             \n",
       "[11] \"LPS__0.010__DMSO__0.025\"                    \n",
       "[12] \"LPS__0.100__DMSO__0.025\"                    \n",
       "[13] \"LPS__1.000__DMSO__0.025\"                    \n",
       "[14] \"LPS__10.000__DMSO__0.025\"                   \n",
       "[15] \"LPS__10.000__Disulfiram__0.1\"               \n",
       "[16] \"LPS__10.000__Disulfiram__1.0\"               \n",
       "[17] \"LPS__10.000__Disulfiram__2.5\"               \n",
       "[18] \"LPS_Nigericin__100.000_1.0__DMSO__0.025\"    \n",
       "[19] \"LPS_Nigericin__100.000_3.0__DMSO__0.025\"    \n",
       "[20] \"LPS_Nigericin__100.000_10.0__DMSO__0.025\"   \n",
       "[21] \"Disulfiram__0.100__DMSO__0.025\"             \n",
       "[22] \"Disulfiram__1.000__DMSO__0.025\"             \n",
       "[23] \"Disulfiram__2.500__DMSO__0.025\"             \n",
       "[24] \"H2O2__100.000__DMSO__0.025\"                 \n",
       "[25] \"LPS__10.000__Z-VAD-FMK__100.0\"              \n",
       "[26] \"LPS__100.000__DMSO__0.025\"                  \n",
       "[27] \"LPS_Nigericin__1.000_1.0__DMSO__0.025\"      \n",
       "[28] \"LPS_Nigericin__1.000_3.0__DMSO__0.025\"      \n",
       "[29] \"LPS_Nigericin__1.000_10.0__DMSO__0.025\"     \n",
       "[30] \"LPS_Nigericin__1.000_10.0__Disulfiram__1.0\" \n",
       "[31] \"LPS_Nigericin__1.000_10.0__Z-VAD-FMK__100.0\"\n",
       "[32] \"H2O2__100.000__Disulfiram__1.0\"             \n",
       "[33] \"H2O2__100.000__Z-VAD-FMK__100.0\"            \n",
       "[34] \"Flagellin__0.100__DMSO__0.025\"              \n",
       "[35] \"Flagellin__1.000__DMSO__0.025\"              \n",
       "[36] \"Flagellin__1.000__Disulfiram__1.0\"          "
      ]
     },
     "metadata": {},
     "output_type": "display_data"
    }
   ],
   "source": [
    "unique(lm_df$inducer1__inducer1_dose__inhibitor__inhibitor_dose)"
   ]
  },
  {
   "cell_type": "code",
   "execution_count": 5,
   "id": "4085652a",
   "metadata": {
    "vscode": {
     "languageId": "r"
    }
   },
   "outputs": [
    {
     "name": "stderr",
     "output_type": "stream",
     "text": [
      "Warning message:\n",
      "“\u001b[1m\u001b[22mExpected 6 pieces. Additional pieces discarded in 7956 rows [3, 7, 9, 10, 13,\n",
      "14, 16, 17, 18, 20, 23, 28, 35, 40, 52, 54, 56, 60, 66, 71, ...].”\n",
      "Warning message:\n",
      "“\u001b[1m\u001b[22mExpected 6 pieces. Missing pieces filled with `NA` in 15264 rows [1, 2, 4, 5,\n",
      "6, 8, 11, 12, 15, 19, 21, 22, 24, 25, 26, 27, 29, 30, 31, 32, ...].”\n"
     ]
    }
   ],
   "source": [
    "\n",
    "# Arrange by absolute value coefficient\n",
    "# Split out components of feature name for visualization\n",
    "lm_df <- lm_df %>%\n",
    "    dplyr::arrange(desc(abs(fourb_Inhibitor_Dose))) %>%\n",
    "    tidyr::separate(\n",
    "        feature,\n",
    "        into = c(\n",
    "            \"compartment\",\n",
    "            \"feature_group\",\n",
    "            \"measurement\",\n",
    "            \"channel\",\n",
    "            \"parameter1\",\n",
    "            \"parameter2\"\n",
    "        ),\n",
    "        sep = \"_\",\n",
    "        remove = FALSE\n",
    "    ) %>%\n",
    "    dplyr::mutate(channel_cleaned = channel)\n",
    "\n"
   ]
  },
  {
   "cell_type": "code",
   "execution_count": 6,
   "id": "9e039275",
   "metadata": {
    "vscode": {
     "languageId": "r"
    }
   },
   "outputs": [
    {
     "data": {
      "text/html": [
       "<style>\n",
       ".list-inline {list-style: none; margin:0; padding: 0}\n",
       ".list-inline>li {display: inline-block}\n",
       ".list-inline>li:not(:last-child)::after {content: \"\\00b7\"; padding: 0 .5ex}\n",
       "</style>\n",
       "<ol class=list-inline><li>'CorrPM'</li><li>'CorrMito'</li><li>'CorrGasdermin'</li><li>'CorrER'</li><li>'CorrDNA'</li><li>NA</li><li>'0'</li><li>'4'</li><li>'Adjacent'</li><li>'3'</li><li>'5'</li><li>'6'</li><li>'2'</li><li>'1'</li><li>'8'</li><li>'7'</li><li>'9'</li><li>'X'</li><li>'Y'</li></ol>\n"
      ],
      "text/latex": [
       "\\begin{enumerate*}\n",
       "\\item 'CorrPM'\n",
       "\\item 'CorrMito'\n",
       "\\item 'CorrGasdermin'\n",
       "\\item 'CorrER'\n",
       "\\item 'CorrDNA'\n",
       "\\item NA\n",
       "\\item '0'\n",
       "\\item '4'\n",
       "\\item 'Adjacent'\n",
       "\\item '3'\n",
       "\\item '5'\n",
       "\\item '6'\n",
       "\\item '2'\n",
       "\\item '1'\n",
       "\\item '8'\n",
       "\\item '7'\n",
       "\\item '9'\n",
       "\\item 'X'\n",
       "\\item 'Y'\n",
       "\\end{enumerate*}\n"
      ],
      "text/markdown": [
       "1. 'CorrPM'\n",
       "2. 'CorrMito'\n",
       "3. 'CorrGasdermin'\n",
       "4. 'CorrER'\n",
       "5. 'CorrDNA'\n",
       "6. NA\n",
       "7. '0'\n",
       "8. '4'\n",
       "9. 'Adjacent'\n",
       "10. '3'\n",
       "11. '5'\n",
       "12. '6'\n",
       "13. '2'\n",
       "14. '1'\n",
       "15. '8'\n",
       "16. '7'\n",
       "17. '9'\n",
       "18. 'X'\n",
       "19. 'Y'\n",
       "\n",
       "\n"
      ],
      "text/plain": [
       " [1] \"CorrPM\"        \"CorrMito\"      \"CorrGasdermin\" \"CorrER\"       \n",
       " [5] \"CorrDNA\"       NA              \"0\"             \"4\"            \n",
       " [9] \"Adjacent\"      \"3\"             \"5\"             \"6\"            \n",
       "[13] \"2\"             \"1\"             \"8\"             \"7\"            \n",
       "[17] \"9\"             \"X\"             \"Y\"            "
      ]
     },
     "metadata": {},
     "output_type": "display_data"
    }
   ],
   "source": [
    "unique(lm_df$channel)"
   ]
  },
  {
   "cell_type": "code",
   "execution_count": 7,
   "id": "f2cfd6bf",
   "metadata": {
    "vscode": {
     "languageId": "r"
    }
   },
   "outputs": [
    {
     "data": {
      "text/html": [
       "<style>\n",
       ".list-inline {list-style: none; margin:0; padding: 0}\n",
       ".list-inline>li {display: inline-block}\n",
       ".list-inline>li:not(:last-child)::after {content: \"\\00b7\"; padding: 0 .5ex}\n",
       "</style>\n",
       "<ol class=list-inline><li>'CorrPM'</li><li>'CorrMito'</li><li>'CorrGasdermin'</li><li>'CorrER'</li><li>'CorrDNA'</li><li>NA</li><li>'0'</li><li>'4'</li><li>'Adjacent'</li><li>'3'</li><li>'5'</li><li>'6'</li><li>'2'</li><li>'1'</li><li>'8'</li><li>'7'</li><li>'9'</li><li>'X'</li><li>'Y'</li></ol>\n"
      ],
      "text/latex": [
       "\\begin{enumerate*}\n",
       "\\item 'CorrPM'\n",
       "\\item 'CorrMito'\n",
       "\\item 'CorrGasdermin'\n",
       "\\item 'CorrER'\n",
       "\\item 'CorrDNA'\n",
       "\\item NA\n",
       "\\item '0'\n",
       "\\item '4'\n",
       "\\item 'Adjacent'\n",
       "\\item '3'\n",
       "\\item '5'\n",
       "\\item '6'\n",
       "\\item '2'\n",
       "\\item '1'\n",
       "\\item '8'\n",
       "\\item '7'\n",
       "\\item '9'\n",
       "\\item 'X'\n",
       "\\item 'Y'\n",
       "\\end{enumerate*}\n"
      ],
      "text/markdown": [
       "1. 'CorrPM'\n",
       "2. 'CorrMito'\n",
       "3. 'CorrGasdermin'\n",
       "4. 'CorrER'\n",
       "5. 'CorrDNA'\n",
       "6. NA\n",
       "7. '0'\n",
       "8. '4'\n",
       "9. 'Adjacent'\n",
       "10. '3'\n",
       "11. '5'\n",
       "12. '6'\n",
       "13. '2'\n",
       "14. '1'\n",
       "15. '8'\n",
       "16. '7'\n",
       "17. '9'\n",
       "18. 'X'\n",
       "19. 'Y'\n",
       "\n",
       "\n"
      ],
      "text/plain": [
       " [1] \"CorrPM\"        \"CorrMito\"      \"CorrGasdermin\" \"CorrER\"       \n",
       " [5] \"CorrDNA\"       NA              \"0\"             \"4\"            \n",
       " [9] \"Adjacent\"      \"3\"             \"5\"             \"6\"            \n",
       "[13] \"2\"             \"1\"             \"8\"             \"7\"            \n",
       "[17] \"9\"             \"X\"             \"Y\"            "
      ]
     },
     "metadata": {},
     "output_type": "display_data"
    }
   ],
   "source": [
    "unique(lm_df$channel_cleaned)"
   ]
  },
  {
   "cell_type": "code",
   "execution_count": 8,
   "id": "e599b3ec",
   "metadata": {
    "vscode": {
     "languageId": "r"
    }
   },
   "outputs": [
    {
     "name": "stdout",
     "output_type": "stream",
     "text": [
      "[1] 45036    16\n"
     ]
    },
    {
     "data": {
      "text/html": [
       "<table class=\"dataframe\">\n",
       "<caption>A tibble: 2 × 16</caption>\n",
       "<thead>\n",
       "\t<tr><th scope=col>feature</th><th scope=col>compartment</th><th scope=col>feature_group</th><th scope=col>measurement</th><th scope=col>channel</th><th scope=col>parameter1</th><th scope=col>parameter2</th><th scope=col>r2_score</th><th scope=col>Metadata_number_of_singlecells</th><th scope=col>fourb_Treatment</th><th scope=col>fourb_Treatment_Dose</th><th scope=col>fourb_Inhibitor</th><th scope=col>fourb_Inhibitor_Dose</th><th scope=col>inducer1__inducer1_dose__inhibitor__inhibitor_dose</th><th scope=col>channel_cleaned</th><th scope=col>channel_learned</th></tr>\n",
       "\t<tr><th scope=col>&lt;chr&gt;</th><th scope=col>&lt;chr&gt;</th><th scope=col>&lt;chr&gt;</th><th scope=col>&lt;chr&gt;</th><th scope=col>&lt;chr&gt;</th><th scope=col>&lt;chr&gt;</th><th scope=col>&lt;chr&gt;</th><th scope=col>&lt;dbl&gt;</th><th scope=col>&lt;dbl&gt;</th><th scope=col>&lt;dbl&gt;</th><th scope=col>&lt;dbl&gt;</th><th scope=col>&lt;dbl&gt;</th><th scope=col>&lt;dbl&gt;</th><th scope=col>&lt;chr&gt;</th><th scope=col>&lt;chr&gt;</th><th scope=col>&lt;chr&gt;</th></tr>\n",
       "</thead>\n",
       "<tbody>\n",
       "\t<tr><td>Cytoplasm_Correlation_RWC_CorrPM_CorrMito </td><td>Cytoplasm</td><td>Correlation</td><td>RWC    </td><td>CorrPM  </td><td>CorrMito</td><td>NA</td><td>0.3742011</td><td>-0.0002044911</td><td>-0.6900744</td><td>-0.6900744</td><td>-0.6900744</td><td>-0.6900744</td><td>H2O2__100.000__Disulfiram__1.0</td><td>CorrPM  </td><td>PM  </td></tr>\n",
       "\t<tr><td>Nuclei_Correlation_Overlap_CorrMito_CorrPM</td><td>Nuclei   </td><td>Correlation</td><td>Overlap</td><td>CorrMito</td><td>CorrPM  </td><td>NA</td><td>0.3394022</td><td>-0.0002052585</td><td>-0.6693642</td><td>-0.6693642</td><td>-0.6693642</td><td>-0.6693642</td><td>H2O2__100.000__Disulfiram__1.0</td><td>CorrMito</td><td>Mito</td></tr>\n",
       "</tbody>\n",
       "</table>\n"
      ],
      "text/latex": [
       "A tibble: 2 × 16\n",
       "\\begin{tabular}{llllllllllllllll}\n",
       " feature & compartment & feature\\_group & measurement & channel & parameter1 & parameter2 & r2\\_score & Metadata\\_number\\_of\\_singlecells & fourb\\_Treatment & fourb\\_Treatment\\_Dose & fourb\\_Inhibitor & fourb\\_Inhibitor\\_Dose & inducer1\\_\\_inducer1\\_dose\\_\\_inhibitor\\_\\_inhibitor\\_dose & channel\\_cleaned & channel\\_learned\\\\\n",
       " <chr> & <chr> & <chr> & <chr> & <chr> & <chr> & <chr> & <dbl> & <dbl> & <dbl> & <dbl> & <dbl> & <dbl> & <chr> & <chr> & <chr>\\\\\n",
       "\\hline\n",
       "\t Cytoplasm\\_Correlation\\_RWC\\_CorrPM\\_CorrMito  & Cytoplasm & Correlation & RWC     & CorrPM   & CorrMito & NA & 0.3742011 & -0.0002044911 & -0.6900744 & -0.6900744 & -0.6900744 & -0.6900744 & H2O2\\_\\_100.000\\_\\_Disulfiram\\_\\_1.0 & CorrPM   & PM  \\\\\n",
       "\t Nuclei\\_Correlation\\_Overlap\\_CorrMito\\_CorrPM & Nuclei    & Correlation & Overlap & CorrMito & CorrPM   & NA & 0.3394022 & -0.0002052585 & -0.6693642 & -0.6693642 & -0.6693642 & -0.6693642 & H2O2\\_\\_100.000\\_\\_Disulfiram\\_\\_1.0 & CorrMito & Mito\\\\\n",
       "\\end{tabular}\n"
      ],
      "text/markdown": [
       "\n",
       "A tibble: 2 × 16\n",
       "\n",
       "| feature &lt;chr&gt; | compartment &lt;chr&gt; | feature_group &lt;chr&gt; | measurement &lt;chr&gt; | channel &lt;chr&gt; | parameter1 &lt;chr&gt; | parameter2 &lt;chr&gt; | r2_score &lt;dbl&gt; | Metadata_number_of_singlecells &lt;dbl&gt; | fourb_Treatment &lt;dbl&gt; | fourb_Treatment_Dose &lt;dbl&gt; | fourb_Inhibitor &lt;dbl&gt; | fourb_Inhibitor_Dose &lt;dbl&gt; | inducer1__inducer1_dose__inhibitor__inhibitor_dose &lt;chr&gt; | channel_cleaned &lt;chr&gt; | channel_learned &lt;chr&gt; |\n",
       "|---|---|---|---|---|---|---|---|---|---|---|---|---|---|---|---|\n",
       "| Cytoplasm_Correlation_RWC_CorrPM_CorrMito  | Cytoplasm | Correlation | RWC     | CorrPM   | CorrMito | NA | 0.3742011 | -0.0002044911 | -0.6900744 | -0.6900744 | -0.6900744 | -0.6900744 | H2O2__100.000__Disulfiram__1.0 | CorrPM   | PM   |\n",
       "| Nuclei_Correlation_Overlap_CorrMito_CorrPM | Nuclei    | Correlation | Overlap | CorrMito | CorrPM   | NA | 0.3394022 | -0.0002052585 | -0.6693642 | -0.6693642 | -0.6693642 | -0.6693642 | H2O2__100.000__Disulfiram__1.0 | CorrMito | Mito |\n",
       "\n"
      ],
      "text/plain": [
       "  feature                                    compartment feature_group\n",
       "1 Cytoplasm_Correlation_RWC_CorrPM_CorrMito  Cytoplasm   Correlation  \n",
       "2 Nuclei_Correlation_Overlap_CorrMito_CorrPM Nuclei      Correlation  \n",
       "  measurement channel  parameter1 parameter2 r2_score \n",
       "1 RWC         CorrPM   CorrMito   NA         0.3742011\n",
       "2 Overlap     CorrMito CorrPM     NA         0.3394022\n",
       "  Metadata_number_of_singlecells fourb_Treatment fourb_Treatment_Dose\n",
       "1 -0.0002044911                  -0.6900744      -0.6900744          \n",
       "2 -0.0002052585                  -0.6693642      -0.6693642          \n",
       "  fourb_Inhibitor fourb_Inhibitor_Dose\n",
       "1 -0.6900744      -0.6900744          \n",
       "2 -0.6693642      -0.6693642          \n",
       "  inducer1__inducer1_dose__inhibitor__inhibitor_dose channel_cleaned\n",
       "1 H2O2__100.000__Disulfiram__1.0                     CorrPM         \n",
       "2 H2O2__100.000__Disulfiram__1.0                     CorrMito       \n",
       "  channel_learned\n",
       "1 PM             \n",
       "2 Mito           "
      ]
     },
     "metadata": {},
     "output_type": "display_data"
    },
    {
     "data": {
      "text/html": [
       "<style>\n",
       ".list-inline {list-style: none; margin:0; padding: 0}\n",
       ".list-inline>li {display: inline-block}\n",
       ".list-inline>li:not(:last-child)::after {content: \"\\00b7\"; padding: 0 .5ex}\n",
       "</style>\n",
       "<ol class=list-inline><li>'PM'</li><li>'Mito'</li><li>'gasdermin'</li><li>'ER'</li><li>'nuclei'</li><li>'other'</li></ol>\n"
      ],
      "text/latex": [
       "\\begin{enumerate*}\n",
       "\\item 'PM'\n",
       "\\item 'Mito'\n",
       "\\item 'gasdermin'\n",
       "\\item 'ER'\n",
       "\\item 'nuclei'\n",
       "\\item 'other'\n",
       "\\end{enumerate*}\n"
      ],
      "text/markdown": [
       "1. 'PM'\n",
       "2. 'Mito'\n",
       "3. 'gasdermin'\n",
       "4. 'ER'\n",
       "5. 'nuclei'\n",
       "6. 'other'\n",
       "\n",
       "\n"
      ],
      "text/plain": [
       "[1] \"PM\"        \"Mito\"      \"gasdermin\" \"ER\"        \"nuclei\"    \"other\"    "
      ]
     },
     "metadata": {},
     "output_type": "display_data"
    }
   ],
   "source": [
    "# Clean channel for visualization\n",
    "lm_df$channel_learned <- dplyr::recode(lm_df$channel_cleaned,\n",
    "        \"CorrDNA\" = \"nuclei\",\n",
    "        \"CorrMito\" = \"Mito\",\n",
    "        \"CorrER\" = \"ER\",\n",
    "        \"CorrGasdermin\" = \"gasdermin\",\n",
    "        \"CorrPM\" = \"PM\",\n",
    "        .default = \"other\",\n",
    "        .missing=\"other\"\n",
    "    )\n",
    "\n",
    "print(dim(lm_df))\n",
    "head(lm_df, 2)\n",
    "unique(lm_df$channel_learned)\n",
    "lm_df$abs_Metadata_number_of_singlecells <- abs(lm_df$Metadata_number_of_singlecells)\n",
    "lm_df$abs_fourb_Treatment <- abs(lm_df$fourb_Treatment)\n",
    "lm_df$abs_fourb_Treatment_Dose <- abs(lm_df$fourb_Treatment_Dose)\n",
    "lm_df$abs_fourb_Inhibitor <- abs(lm_df$fourb_Inhibitor)\n",
    "lm_df$abs_fourb_Inhibitor_Dose <- abs(lm_df$fourb_Inhibitor_Dose)"
   ]
  },
  {
   "cell_type": "code",
   "execution_count": 9,
   "id": "a429584c",
   "metadata": {
    "vscode": {
     "languageId": "r"
    }
   },
   "outputs": [],
   "source": [
    "loop_list <- unique(lm_df$inducer1__inducer1_dose__inhibitor__inhibitor_dose)\n",
    "x_list_abs <- c('abs_fourb_Treatment','abs_fourb_Treatment_Dose','abs_fourb_Inhibitor','abs_fourb_Inhibitor_Dose')\n",
    "x_list <- c('fourb_Treatment','fourb_Treatment_Dose','fourb_Inhibitor','fourb_Inhibitor_Dose')"
   ]
  },
  {
   "cell_type": "code",
   "execution_count": 10,
   "id": "c754310a",
   "metadata": {
    "vscode": {
     "languageId": "r"
    }
   },
   "outputs": [
    {
     "data": {
      "text/html": [
       "<strong>png:</strong> 2"
      ],
      "text/latex": [
       "\\textbf{png:} 2"
      ],
      "text/markdown": [
       "**png:** 2"
      ],
      "text/plain": [
       "png \n",
       "  2 "
      ]
     },
     "metadata": {},
     "output_type": "display_data"
    }
   ],
   "source": [
    "pdf(file=lm_cp_fig )\n",
    "for (i in 1:length(loop_list)){\n",
    "    df <- lm_df[lm_df$inducer1__inducer1_dose__inhibitor__inhibitor_dose == loop_list[i],]\n",
    "    for (j in 1:length(x_list)){\n",
    "        col = x_list[j]\n",
    "        # print(x_list[j])\n",
    "        # print(df[1,col])\n",
    "        if (df[1,col] == 0){\n",
    "            next\n",
    "        } else {\n",
    "            lm_fig_gg <- (\n",
    "                ggplot(df, aes(x = Metadata_number_of_singlecells, y = .data[[x_list[j]]]))\n",
    "                + geom_point(aes(size = r2_score, color = channel_learned), alpha = 0.7)\n",
    "                + theme_bw()\n",
    "                + guides(\n",
    "                    color = guide_legend(title = \"Channel\\n(if applicable)\", order = 1),\n",
    "                    size = guide_legend(title = \"R2 score of LM feature\")\n",
    "                )\n",
    "                + geom_vline(xintercept = 0, linetype = \"dashed\", color = \"red\")\n",
    "                + geom_hline(yintercept = 0, linetype = \"dashed\", color = \"red\")\n",
    "                + geom_density2d(color=\"black\", show.legend = FALSE)\n",
    "                + ylab(paste0(x_list[j],\" contribution (LM beta coefficient)\"))\n",
    "                + xlab(\"Cell count contribution (LM beta coefficient)\")\n",
    "                + ggtitle(paste0(\"How CellProfiler features contribute\\nto \",loop_list[i], \"\\ntreatments and cell density\"))\n",
    "            )\n",
    "            plot(lm_fig_gg)\n",
    "        }\n",
    "    }\n",
    "}\n",
    "dev.off()"
   ]
  },
  {
   "cell_type": "code",
   "execution_count": 11,
   "id": "a659dfc9",
   "metadata": {
    "vscode": {
     "languageId": "r"
    }
   },
   "outputs": [
    {
     "name": "stderr",
     "output_type": "stream",
     "text": [
      "Warning message:\n",
      "“\u001b[1m\u001b[22mComputation failed in `stat_density2d()`\n",
      "Caused by error in `MASS::kde2d()`:\n",
      "\u001b[33m!\u001b[39m bandwidths must be strictly positive”\n",
      "Warning message in min(x, na.rm = na.rm):\n",
      "“no non-missing arguments to min; returning Inf”\n",
      "Warning message in max(x, na.rm = na.rm):\n",
      "“no non-missing arguments to max; returning -Inf”\n",
      "Warning message in max(f):\n",
      "“no non-missing arguments to max; returning -Inf”\n"
     ]
    },
    {
     "ename": "ERROR",
     "evalue": "\u001b[1m\u001b[33mError\u001b[39m in `geom_density2d()`:\u001b[22m\n\u001b[1m\u001b[22m\u001b[33m!\u001b[39m Problem while computing stat.\n\u001b[36mℹ\u001b[39m Error occurred in the 4th layer.\n\u001b[1mCaused by error in `seq_len()`:\u001b[22m\n\u001b[33m!\u001b[39m argument must be coercible to non-negative integer\n",
     "output_type": "error",
     "traceback": [
      "\u001b[1m\u001b[33mError\u001b[39m in `geom_density2d()`:\u001b[22m\n\u001b[1m\u001b[22m\u001b[33m!\u001b[39m Problem while computing stat.\n\u001b[36mℹ\u001b[39m Error occurred in the 4th layer.\n\u001b[1mCaused by error in `seq_len()`:\u001b[22m\n\u001b[33m!\u001b[39m argument must be coercible to non-negative integer\nTraceback:\n",
      "1. plot(lm_fig_gg)",
      "2. plot.ggplot(lm_fig_gg)",
      "3. ggplot_build(x)",
      "4. ggplot_build.ggplot(x)",
      "5. by_layer(function(l, d) l$compute_statistic(d, layout), layers, \n .     data, \"computing stat\")",
      "6. try_fetch(for (i in seq_along(data)) {\n .     out[[i]] <- f(l = layers[[i]], d = data[[i]])\n . }, error = function(cnd) {\n .     cli::cli_abort(c(\"Problem while {step}.\", i = \"Error occurred in the {ordinal(i)} layer.\"), \n .         call = layers[[i]]$constructor, parent = cnd)\n . })",
      "7. tryCatch(withCallingHandlers(expr, condition = function(cnd) {\n .     {\n .         .__handler_frame__. <- TRUE\n .         .__setup_frame__. <- frame\n .         if (inherits(cnd, \"message\")) {\n .             except <- c(\"warning\", \"error\")\n .         }\n .         else if (inherits(cnd, \"warning\")) {\n .             except <- \"error\"\n .         }\n .         else {\n .             except <- \"\"\n .         }\n .     }\n .     while (!is_null(cnd)) {\n .         if (inherits(cnd, \"error\")) {\n .             out <- handlers[[1L]](cnd)\n .             if (!inherits(out, \"rlang_zap\")) \n .                 throw(out)\n .         }\n .         inherit <- .subset2(.subset2(cnd, \"rlang\"), \"inherit\")\n .         if (is_false(inherit)) {\n .             return()\n .         }\n .         cnd <- .subset2(cnd, \"parent\")\n .     }\n . }), stackOverflowError = handlers[[1L]])",
      "8. tryCatchList(expr, classes, parentenv, handlers)",
      "9. tryCatchOne(expr, names, parentenv, handlers[[1L]])",
      "10. doTryCatch(return(expr), name, parentenv, handler)",
      "11. withCallingHandlers(expr, condition = function(cnd) {\n  .     {\n  .         .__handler_frame__. <- TRUE\n  .         .__setup_frame__. <- frame\n  .         if (inherits(cnd, \"message\")) {\n  .             except <- c(\"warning\", \"error\")\n  .         }\n  .         else if (inherits(cnd, \"warning\")) {\n  .             except <- \"error\"\n  .         }\n  .         else {\n  .             except <- \"\"\n  .         }\n  .     }\n  .     while (!is_null(cnd)) {\n  .         if (inherits(cnd, \"error\")) {\n  .             out <- handlers[[1L]](cnd)\n  .             if (!inherits(out, \"rlang_zap\")) \n  .                 throw(out)\n  .         }\n  .         inherit <- .subset2(.subset2(cnd, \"rlang\"), \"inherit\")\n  .         if (is_false(inherit)) {\n  .             return()\n  .         }\n  .         cnd <- .subset2(cnd, \"parent\")\n  .     }\n  . })",
      "12. f(l = layers[[i]], d = data[[i]])",
      "13. l$compute_statistic(d, layout)",
      "14. compute_statistic(..., self = self)",
      "15. self$stat$compute_layer(data, self$computed_stat_params, layout)",
      "16. compute_layer(..., self = self)",
      "17. dapply(data, \"PANEL\", function(data) {\n  .     scales <- layout$get_scales(data$PANEL[1])\n  .     try_fetch(inject(contour_stat$compute_panel(data = data, \n  .         scales = scales, !!!params)), error = function(cnd) {\n  .         cli::cli_warn(\"Computation failed in {.fn {snake_class(self)}}\", \n  .             parent = cnd)\n  .         data_frame0()\n  .     })\n  . })",
      "18. split_with_index(seq_len(nrow(df)), ids)",
      "19. .handleSimpleError(function (cnd) \n  . {\n  .     {\n  .         .__handler_frame__. <- TRUE\n  .         .__setup_frame__. <- frame\n  .         if (inherits(cnd, \"message\")) {\n  .             except <- c(\"warning\", \"error\")\n  .         }\n  .         else if (inherits(cnd, \"warning\")) {\n  .             except <- \"error\"\n  .         }\n  .         else {\n  .             except <- \"\"\n  .         }\n  .     }\n  .     while (!is_null(cnd)) {\n  .         if (inherits(cnd, \"error\")) {\n  .             out <- handlers[[1L]](cnd)\n  .             if (!inherits(out, \"rlang_zap\")) \n  .                 throw(out)\n  .         }\n  .         inherit <- .subset2(.subset2(cnd, \"rlang\"), \"inherit\")\n  .         if (is_false(inherit)) {\n  .             return()\n  .         }\n  .         cnd <- .subset2(cnd, \"parent\")\n  .     }\n  . }, \"argument must be coercible to non-negative integer\", base::quote(seq_len(n)))",
      "20. h(simpleError(msg, call))",
      "21. handlers[[1L]](cnd)",
      "22. cli::cli_abort(c(\"Problem while {step}.\", i = \"Error occurred in the {ordinal(i)} layer.\"), \n  .     call = layers[[i]]$constructor, parent = cnd)",
      "23. rlang::abort(message, ..., call = call, use_cli_format = TRUE, \n  .     .frame = .frame)",
      "24. signal_abort(cnd, .file)"
     ]
    }
   ],
   "source": [
    "pdf(file=lm_cp_fig_abs )\n",
    "for (i in 1:length(loop_list)){\n",
    "    df <- lm_df[lm_df$inducer1__inducer1_dose__inhibitor__inhibitor_dose == loop_list[i],]\n",
    "    for (j in 1:length(x_list_abs)){\n",
    "        lm_fig_gg <- (\n",
    "                ggplot(df, aes(x = Metadata_number_of_singlecells, y = .data[[x_list[j]]]))\n",
    "                + geom_point(aes(size = r2_score, color = channel_learned), alpha = 0.7)\n",
    "                + theme_bw()\n",
    "                + guides(\n",
    "                    color = guide_legend(title = \"Channel\\n(if applicable)\", order = 1),\n",
    "                    size = guide_legend(title = \"R2 score of LM feature\")\n",
    "                )\n",
    "                + geom_vline(xintercept = 0, linetype = \"dashed\", color = \"red\")\n",
    "                + geom_hline(yintercept = 0, linetype = \"dashed\", color = \"red\")\n",
    "                + geom_density2d(color=\"black\", show.legend = FALSE)\n",
    "                + ylab(paste0(x_list[j],\" contribution (LM beta coefficient)\"))\n",
    "                + xlab(\"Cell count contribution (LM beta coefficient)\")\n",
    "                + ggtitle(paste0(\"How CellProfiler features contribute\\nto \",loop_list[i], \"\\ntreatments and cell density\"))\n",
    "            )\n",
    "        plot(lm_fig_gg)    \n",
    "    }\n",
    "}\n",
    "dev.off()"
   ]
  },
  {
   "cell_type": "code",
   "execution_count": null,
   "id": "89bf34a9",
   "metadata": {
    "vscode": {
     "languageId": "r"
    }
   },
   "outputs": [],
   "source": []
  }
 ],
 "metadata": {
  "kernelspec": {
   "display_name": "R",
   "language": "R",
   "name": "ir"
  },
  "language_info": {
   "codemirror_mode": "r",
   "file_extension": ".r",
   "mimetype": "text/x-r-source",
   "name": "R",
   "pygments_lexer": "r",
   "version": "4.2.2"
  },
  "vscode": {
   "interpreter": {
    "hash": "72ae02083a9ca7d143c492d1aec380c7bf553ec51bd66e90e72bba65228121b6"
   }
  }
 },
 "nbformat": 4,
 "nbformat_minor": 5
}
