{
 "cells": [
  {
   "cell_type": "code",
   "execution_count": 1,
   "metadata": {},
   "outputs": [],
   "source": [
    "import pathlib\n",
    "\n",
    "import cv2\n",
    "import matplotlib.pyplot as plt\n",
    "import numpy as np\n",
    "import pandas as pd\n",
    "\n",
    "# import pillow and open cv\n",
    "import PIL\n",
    "import seaborn as sns\n",
    "import tifffile as tf\n",
    "from cytocherrypick import cherrypick\n",
    "from PIL import Image, ImageEnhance"
   ]
  },
  {
   "cell_type": "code",
   "execution_count": 2,
   "metadata": {},
   "outputs": [],
   "source": [
    "# parameters\n",
    "cell_type = \"SHSY5Y\"\n",
    "feature = \"Nuclei_Texture_SumVariance_CorrGasdermin_3_01_256\""
   ]
  },
  {
   "cell_type": "code",
   "execution_count": 4,
   "metadata": {},
   "outputs": [],
   "source": [
    "# define directories\n",
    "# where the images are\n",
    "image_dir_path = pathlib.Path(\n",
    "    \"/media/lippincm/c58d4f19-ae4d-4b78-8370-2c2639886da0/interstellar_data/70117_20230210MM1_Gasdermin514_CP_BC430856__2023-03-22T15_42_38-Measurement1/2.IC/\"\n",
    ")\n",
    "# if path does not exist, create it\n",
    "image_dir_path.mkdir(parents=True, exist_ok=True)\n",
    "\n",
    "image_out_dir_path = pathlib.Path(\"../figures/\")\n",
    "# if path does not exist, create it\n",
    "image_out_dir_path.mkdir(parents=True, exist_ok=True)"
   ]
  },
  {
   "cell_type": "code",
   "execution_count": 6,
   "metadata": {},
   "outputs": [],
   "source": [
    "df_path = pathlib.Path(f\"../../data/{cell_type}_sc_norm_fs.parquet\")\n",
    "# read in the data\n",
    "df = pd.read_parquet(df_path)\n",
    "\n",
    "df_no_fs_path = pathlib.Path(f\"../../data/{cell_type}_sc.parquet\")\n",
    "# read in the data\n",
    "df_no_fs = pd.read_parquet(df_no_fs_path)"
   ]
  },
  {
   "cell_type": "code",
   "execution_count": 7,
   "metadata": {},
   "outputs": [],
   "source": [
    "df[\"Nuclei_Location_Center_X\"] = df_no_fs[\"Nuclei_Location_Center_X\"]\n",
    "df[\"Nuclei_Location_Center_Y\"] = df_no_fs[\"Nuclei_Location_Center_Y\"]\n",
    "df[\"Cytoplasm_AreaShape_BoundingBoxMaximum_X\"] = df_no_fs[\n",
    "    \"Cytoplasm_AreaShape_BoundingBoxMaximum_X\"\n",
    "]\n",
    "df[\"Cytoplasm_AreaShape_BoundingBoxMaximum_Y\"] = df_no_fs[\n",
    "    \"Cytoplasm_AreaShape_BoundingBoxMaximum_Y\"\n",
    "]\n",
    "df[\"Cytoplasm_AreaShape_BoundingBoxMinimum_X\"] = df_no_fs[\n",
    "    \"Cytoplasm_AreaShape_BoundingBoxMinimum_X\"\n",
    "]\n",
    "df[\"Cytoplasm_AreaShape_BoundingBoxMinimum_Y\"] = df_no_fs[\n",
    "    \"Cytoplasm_AreaShape_BoundingBoxMinimum_Y\"\n",
    "]"
   ]
  },
  {
   "cell_type": "code",
   "execution_count": 8,
   "metadata": {},
   "outputs": [
    {
     "name": "stdout",
     "output_type": "stream",
     "text": [
      "97665\n",
      "Median: -0.057858938804581164\n",
      "Image ID: 577\n",
      "Cell ID: 180\n",
      "Well ID: E16\n",
      "row_id: E\n",
      "fov_id: 1\n",
      "column id: 16\n",
      "Center X: 1289.9618696186963\n",
      "Center Y: 1482.1445264452645\n",
      "Max X: 1356.0\n",
      "Max Y: 1542.0\n",
      "Min X: 1210.0\n",
      "Min Y: 1442.0\n"
     ]
    }
   ],
   "source": [
    "median, median_index = cherrypick.find_median(df=df, feature_name=feature)\n",
    "# get the row of the median\n",
    "median_row = df.iloc[median_index]\n",
    "image_id = median_row[\"Metadata_ImageNumber\"]\n",
    "fov_id = median_row[\"Metadata_Site\"].astype(str)\n",
    "cell_id = median_row[\"Metadata_Cells_Number_Object_Number\"]\n",
    "well_id = median_row[\"Metadata_Well\"]\n",
    "row_id = well_id[0]\n",
    "column_id = well_id[1:]\n",
    "center_x = median_row[\"Nuclei_Location_Center_X\"]\n",
    "center_y = median_row[\"Nuclei_Location_Center_Y\"]\n",
    "# median_row['Cytoplasm_']\n",
    "# 'Cytoplasm_AreaShape_BoundingBoxMaximum_X', 'Cytoplasm_AreaShape_BoundingBoxMaximum_Y', 'Cytoplasm_AreaShape_BoundingBoxMinimum_X', 'Cytoplasm_AreaShape_BoundingBoxMinimum_Y'\n",
    "max_x_box = median_row[\"Cytoplasm_AreaShape_BoundingBoxMaximum_X\"]\n",
    "max_y_box = median_row[\"Cytoplasm_AreaShape_BoundingBoxMaximum_Y\"]\n",
    "min_x_box = median_row[\"Cytoplasm_AreaShape_BoundingBoxMinimum_X\"]\n",
    "min_y_box = median_row[\"Cytoplasm_AreaShape_BoundingBoxMinimum_Y\"]\n",
    "print(median_index)\n",
    "print(\n",
    "    f\"Median: {median}\",\n",
    "    f\"Image ID: {image_id}\",\n",
    "    f\"Cell ID: {cell_id}\",\n",
    "    f\"Well ID: {well_id}\",\n",
    "    f\"row_id: {row_id}\",\n",
    "    f\"fov_id: {fov_id}\",\n",
    "    f\"column id: {column_id}\",\n",
    "    f\"Center X: {center_x}\",\n",
    "    f\"Center Y: {center_y}\",\n",
    "    f\"Max X: {max_x_box}\",\n",
    "    f\"Max Y: {max_y_box}\",\n",
    "    f\"Min X: {min_x_box}\",\n",
    "    f\"Min Y: {min_y_box}\",\n",
    "    sep=\"\\n\",\n",
    ")"
   ]
  },
  {
   "cell_type": "code",
   "execution_count": 9,
   "metadata": {},
   "outputs": [],
   "source": [
    "well_dict = {\n",
    "    \"A\": \"01\",\n",
    "    \"B\": \"02\",\n",
    "    \"C\": \"03\",\n",
    "    \"D\": \"04\",\n",
    "    \"E\": \"05\",\n",
    "    \"F\": \"06\",\n",
    "    \"G\": \"07\",\n",
    "    \"H\": \"08\",\n",
    "    \"I\": \"09\",\n",
    "    \"J\": \"10\",\n",
    "    \"K\": \"11\",\n",
    "    \"L\": \"12\",\n",
    "    \"M\": \"13\",\n",
    "    \"N\": \"14\",\n",
    "    \"O\": \"15\",\n",
    "    \"P\": \"16\",\n",
    "}\n",
    "column_dict = {\n",
    "    \"1\": \"01\",\n",
    "    \"2\": \"02\",\n",
    "    \"3\": \"03\",\n",
    "    \"4\": \"04\",\n",
    "    \"5\": \"05\",\n",
    "    \"6\": \"06\",\n",
    "    \"7\": \"07\",\n",
    "    \"8\": \"08\",\n",
    "    \"9\": \"09\",\n",
    "    \"10\": \"10\",\n",
    "    \"11\": \"11\",\n",
    "    \"12\": \"12\",\n",
    "    \"13\": \"13\",\n",
    "    \"14\": \"14\",\n",
    "    \"15\": \"15\",\n",
    "    \"16\": \"16\",\n",
    "    \"17\": \"17\",\n",
    "    \"18\": \"18\",\n",
    "    \"19\": \"19\",\n",
    "    \"20\": \"20\",\n",
    "    \"21\": \"21\",\n",
    "    \"22\": \"22\",\n",
    "    \"23\": \"23\",\n",
    "    \"24\": \"24\",\n",
    "}\n",
    "fov_dict = {\n",
    "    \"1\": \"01\",\n",
    "    \"2\": \"02\",\n",
    "    \"3\": \"03\",\n",
    "    \"4\": \"04\",\n",
    "    \"5\": \"05\",\n",
    "    \"6\": \"06\",\n",
    "    \"7\": \"07\",\n",
    "    \"8\": \"08\",\n",
    "    \"9\": \"09\",\n",
    "    \"10\": \"10\",\n",
    "    \"11\": \"11\",\n",
    "    \"12\": \"12\",\n",
    "    \"13\": \"13\",\n",
    "    \"14\": \"14\",\n",
    "    \"15\": \"15\",\n",
    "    \"16\": \"16\",\n",
    "}"
   ]
  },
  {
   "cell_type": "code",
   "execution_count": 10,
   "metadata": {},
   "outputs": [],
   "source": [
    "image_basename_1 = \"p04-ch1sk1fk1fl1_IC.tiff\"\n",
    "image_basename_2 = \"p04-ch2sk1fk1fl1_IC.tiff\"\n",
    "image_basename_3 = \"p04-ch3sk1fk1fl1_IC.tiff\"\n",
    "image_basename_4 = \"p04-ch4sk1fk1fl1_IC.tiff\"\n",
    "image_basename_5 = \"p04-ch5sk1fk1fl1_IC.tiff\""
   ]
  },
  {
   "cell_type": "code",
   "execution_count": 11,
   "metadata": {},
   "outputs": [
    {
     "name": "stdout",
     "output_type": "stream",
     "text": [
      "E 16 577 1\n",
      "r05c16f01\n"
     ]
    }
   ],
   "source": [
    "print(row_id, column_id, image_id, fov_id)\n",
    "print(f\"r{well_dict[row_id]}c{column_dict[column_id]}f{fov_dict[fov_id]}\")"
   ]
  },
  {
   "cell_type": "code",
   "execution_count": 12,
   "metadata": {},
   "outputs": [
    {
     "name": "stdout",
     "output_type": "stream",
     "text": [
      "r05c16f01p04-ch1sk1fk1fl1_IC.tiff \n",
      " /media/lippincm/c58d4f19-ae4d-4b78-8370-2c2639886da0/interstellar_data/70117_20230210MM1_Gasdermin514_CP_BC430856__2023-03-22T15_42_38-Measurement1/2.IC/r05c16f01p04-ch1sk1fk1fl1_IC.tiff\n",
      "r05c16f01p04-ch2sk1fk1fl1_IC.tiff \n",
      " /media/lippincm/c58d4f19-ae4d-4b78-8370-2c2639886da0/interstellar_data/70117_20230210MM1_Gasdermin514_CP_BC430856__2023-03-22T15_42_38-Measurement1/2.IC/r05c16f01p04-ch2sk1fk1fl1_IC.tiff\n",
      "r05c16f01p04-ch3sk1fk1fl1_IC.tiff \n",
      " /media/lippincm/c58d4f19-ae4d-4b78-8370-2c2639886da0/interstellar_data/70117_20230210MM1_Gasdermin514_CP_BC430856__2023-03-22T15_42_38-Measurement1/2.IC/r05c16f01p04-ch3sk1fk1fl1_IC.tiff\n",
      "r05c16f01p04-ch4sk1fk1fl1_IC.tiff \n",
      " /media/lippincm/c58d4f19-ae4d-4b78-8370-2c2639886da0/interstellar_data/70117_20230210MM1_Gasdermin514_CP_BC430856__2023-03-22T15_42_38-Measurement1/2.IC/r05c16f01p04-ch4sk1fk1fl1_IC.tiff\n",
      "r05c16f01p04-ch5sk1fk1fl1_IC.tiff \n",
      " /media/lippincm/c58d4f19-ae4d-4b78-8370-2c2639886da0/interstellar_data/70117_20230210MM1_Gasdermin514_CP_BC430856__2023-03-22T15_42_38-Measurement1/2.IC/r05c16f01p04-ch5sk1fk1fl1_IC.tiff\n"
     ]
    }
   ],
   "source": [
    "image_name1 = f\"r{well_dict[row_id]}c{column_dict[column_id]}f{fov_dict[fov_id]}{image_basename_1}\"\n",
    "image_path1 = image_dir_path.joinpath(image_name1)\n",
    "print(image_name1, \"\\n\", image_path1)\n",
    "\n",
    "image_name2 = f\"r{well_dict[row_id]}c{column_dict[column_id]}f{fov_dict[fov_id]}{image_basename_2}\"\n",
    "image_path2 = image_dir_path.joinpath(image_name2)\n",
    "print(image_name2, \"\\n\", image_path2)\n",
    "\n",
    "image_name3 = f\"r{well_dict[row_id]}c{column_dict[column_id]}f{fov_dict[fov_id]}{image_basename_3}\"\n",
    "image_path3 = image_dir_path.joinpath(image_name3)\n",
    "print(image_name3, \"\\n\", image_path3)\n",
    "\n",
    "image_name4 = f\"r{well_dict[row_id]}c{column_dict[column_id]}f{fov_dict[fov_id]}{image_basename_4}\"\n",
    "image_path4 = image_dir_path.joinpath(image_name4)\n",
    "print(image_name4, \"\\n\", image_path4)\n",
    "\n",
    "image_name5 = f\"r{well_dict[row_id]}c{column_dict[column_id]}f{fov_dict[fov_id]}{image_basename_5}\"\n",
    "image_path5 = image_dir_path.joinpath(image_name5)\n",
    "print(image_name5, \"\\n\", image_path5)"
   ]
  },
  {
   "cell_type": "code",
   "execution_count": 13,
   "metadata": {},
   "outputs": [],
   "source": [
    "# define the radius of the circle to be drawn (actually a square) but a circle fits inside a square so it's all good\n",
    "# side of square - diameter of circle\n",
    "# radius = side / 2\n",
    "radius = 75"
   ]
  },
  {
   "cell_type": "code",
   "execution_count": 14,
   "metadata": {},
   "outputs": [
    {
     "name": "stdout",
     "output_type": "stream",
     "text": [
      "1289 1482 1214 1407 1364 1557\n"
     ]
    }
   ],
   "source": [
    "# make each coordinate an integer\n",
    "center_x = int(center_x)\n",
    "center_y = int(center_y)\n",
    "\n",
    "# calculate the bounding box coordinates\n",
    "min_x_box = center_x - radius\n",
    "min_y_box = center_y - radius\n",
    "max_x_box = center_x + radius\n",
    "max_y_box = center_y + radius\n",
    "\n",
    "print(center_x, center_y, min_x_box, min_y_box, max_x_box, max_y_box)"
   ]
  },
  {
   "cell_type": "code",
   "execution_count": 15,
   "metadata": {},
   "outputs": [],
   "source": [
    "# crop all 5 channels of the image\n",
    "im1 = cv2.imread(image_path1.as_posix(), cv2.IMREAD_GRAYSCALE)\n",
    "# im1 = cv2.convertScaleAbs(im1, alpha=alpha, beta=beta)\n",
    "im_crop1 = im1[min_y_box:max_y_box, min_x_box:max_x_box]\n",
    "\n",
    "im2 = cv2.imread(image_path2.as_posix(), cv2.IMREAD_GRAYSCALE)\n",
    "# im2 = cv2.convertScaleAbs(im2, alpha=alpha, beta=beta)\n",
    "im_crop2 = im2[min_y_box:max_y_box, min_x_box:max_x_box]\n",
    "\n",
    "im3 = cv2.imread(image_path3.as_posix(), cv2.IMREAD_GRAYSCALE)\n",
    "# im3 = cv2.convertScaleAbs(im3, alpha=alpha, beta=beta)\n",
    "im_crop3 = im3[min_y_box:max_y_box, min_x_box:max_x_box]\n",
    "\n",
    "im4 = cv2.imread(image_path4.as_posix(), cv2.IMREAD_GRAYSCALE)\n",
    "# im4 = cv2.convertScaleAbs(im4, alpha=alpha, beta=beta)\n",
    "im_crop4 = im4[min_y_box:max_y_box, min_x_box:max_x_box]\n",
    "\n",
    "im5 = cv2.imread(image_path5.as_posix(), cv2.IMREAD_GRAYSCALE)\n",
    "# im5 = cv2.convertScaleAbs(im5, alpha=alpha, beta=beta)\n",
    "im_crop5 = im5[min_y_box:max_y_box, min_x_box:max_x_box]"
   ]
  },
  {
   "cell_type": "code",
   "execution_count": 16,
   "metadata": {},
   "outputs": [],
   "source": [
    "# pick three channels to stack\n",
    "# nuclei = blue\n",
    "# Gasdermin = green\n",
    "# Actin = red\n",
    "\n",
    "blue_channel_stack = np.stack(im1, axis=-1)\n",
    "green_channel_stack = np.stack(im3, axis=-1)\n",
    "red_channel_stack = np.stack(im5, axis=-1)\n",
    "\n",
    "channel1 = \"im1\"\n",
    "channel2 = \"im3\"\n",
    "channel3 = \"im5\"\n",
    "\n",
    "# Scale the pixel values to fit within the 16-bit range (0-65535)\n",
    "blue_channel = (blue_channel_stack / np.max(blue_channel_stack) * 65535).astype(\n",
    "    np.uint16\n",
    ")\n",
    "green_channel = (green_channel_stack / np.max(green_channel_stack) * 65535).astype(\n",
    "    np.uint16\n",
    ")\n",
    "red_channel = (red_channel_stack / np.max(red_channel_stack) * 65535).astype(np.uint16)"
   ]
  },
  {
   "cell_type": "code",
   "execution_count": 17,
   "metadata": {},
   "outputs": [],
   "source": [
    "composite_image = cv2.merge((blue_channel, green_channel, red_channel)).astype(\n",
    "    np.uint16\n",
    ")\n",
    "composite_image.shape\n",
    "composite_image = cv2.cvtColor(composite_image, cv2.COLOR_BGR2RGB)"
   ]
  },
  {
   "cell_type": "code",
   "execution_count": 18,
   "metadata": {},
   "outputs": [],
   "source": [
    "# transformations of the image to fix the orientation post pixel scaling\n",
    "# flip the image vertically\n",
    "composite_image = cv2.flip(composite_image, 0)\n",
    "# rotate the image 90 degrees clockwise\n",
    "composite_image = cv2.rotate(composite_image, cv2.ROTATE_90_CLOCKWISE)"
   ]
  },
  {
   "cell_type": "code",
   "execution_count": 19,
   "metadata": {},
   "outputs": [],
   "source": [
    "# cv2.imshow(\"Composite\", composite_image)\n",
    "# cv2.waitKey(0)\n",
    "# cv2.destroyAllWindows()"
   ]
  },
  {
   "cell_type": "code",
   "execution_count": 20,
   "metadata": {},
   "outputs": [],
   "source": [
    "# crop the composite image\n",
    "im_crop = composite_image[min_y_box:max_y_box, min_x_box:max_x_box]\n",
    "# cv2.imshow(\"Composite\", im_crop)\n",
    "# cv2.waitKey(0)\n",
    "# cv2.destroyAllWindows()"
   ]
  },
  {
   "cell_type": "code",
   "execution_count": 21,
   "metadata": {},
   "outputs": [],
   "source": [
    "# image_out_dir_path updated to include the feature name\n",
    "image_out_dir_path = pathlib.Path(f\"{image_out_dir_path}/{feature}\")\n",
    "image_out_dir_path.mkdir(parents=True, exist_ok=True)\n",
    "# write images\n",
    "tf.imwrite(\n",
    "    pathlib.Path(\n",
    "        f\"{image_out_dir_path}/{channel1}_{channel2}_{channel3}_composite_image.tiff\"\n",
    "    ),\n",
    "    composite_image,\n",
    "    compression=None,\n",
    ")\n",
    "tf.imwrite(\n",
    "    pathlib.Path(\n",
    "        f\"{image_out_dir_path}/{channel1}_{channel2}_{channel3}_composite_image_crop.tiff\"\n",
    "    ),\n",
    "    im_crop,\n",
    "    compression=None,\n",
    ")"
   ]
  },
  {
   "cell_type": "code",
   "execution_count": null,
   "metadata": {},
   "outputs": [],
   "source": []
  }
 ],
 "metadata": {
  "kernelspec": {
   "display_name": "Interstellar",
   "language": "python",
   "name": "python3"
  },
  "language_info": {
   "codemirror_mode": {
    "name": "ipython",
    "version": 3
   },
   "file_extension": ".py",
   "mimetype": "text/x-python",
   "name": "python",
   "nbconvert_exporter": "python",
   "pygments_lexer": "ipython3",
   "version": "3.10.12"
  }
 },
 "nbformat": 4,
 "nbformat_minor": 2
}
