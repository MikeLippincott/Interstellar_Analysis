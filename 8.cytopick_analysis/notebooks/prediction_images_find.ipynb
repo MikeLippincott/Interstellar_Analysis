{
 "cells": [
  {
   "cell_type": "markdown",
   "metadata": {},
   "source": [
    "This notebook finds random cells from each prediction category and displays them. The purpose is to get representative images examples of each category."
   ]
  },
  {
   "cell_type": "code",
   "execution_count": 1,
   "metadata": {},
   "outputs": [],
   "source": [
    "import pathlib\n",
    "\n",
    "import cv2\n",
    "import matplotlib.pyplot as plt\n",
    "import numpy as np\n",
    "import pandas as pd\n",
    "\n",
    "# import pillow and open cv\n",
    "import PIL\n",
    "import seaborn as sns\n",
    "import tifffile as tf\n",
    "from cytocherrypick import cherrypick\n",
    "from PIL import Image, ImageEnhance\n",
    "from tqdm import tqdm"
   ]
  },
  {
   "cell_type": "code",
   "execution_count": 2,
   "metadata": {},
   "outputs": [],
   "source": [
    "# function that selects a random image from the dataframe\n",
    "def random_cell_select(\n",
    "    df: pd.DataFrame,\n",
    "    n: int = 1,\n",
    ") -> pd.DataFrame:\n",
    "    \"\"\"\n",
    "    Selects a random cell from the dataframe\n",
    "\n",
    "    Parameters\n",
    "    ----------\n",
    "    df : pd.DataFrame\n",
    "        Dataframe containing the cell features\n",
    "    n : int, optional\n",
    "        Number of random cells to select, by default 1\n",
    "\n",
    "    Returns\n",
    "    -------\n",
    "    pd.DataFrame\n",
    "        The return dataframe with the random cell selected\n",
    "    \"\"\"\n",
    "\n",
    "    # select a random cell\n",
    "    random_cell = df.sample(n=n, random_state=0)\n",
    "    return random_cell"
   ]
  },
  {
   "cell_type": "code",
   "execution_count": 3,
   "metadata": {},
   "outputs": [],
   "source": [
    "# parameters\n",
    "CELL_TYPE = \"PBMC\"\n",
    "feature = \"Nuclei_Texture_SumVariance_CorrGasdermin_3_01_256\""
   ]
  },
  {
   "cell_type": "code",
   "execution_count": 4,
   "metadata": {},
   "outputs": [],
   "source": [
    "# define directories\n",
    "# where the images are\n",
    "image_dir_path = pathlib.Path(\n",
    "    \"/media/lippincm/18T/interstellar_data/70117_20230210MM1_Gasdermin514_CP_BC430856__2023-03-22T15_42_38-Measurement1/2.IC/\"\n",
    ")\n",
    "# if path does not exist, create it\n",
    "image_dir_path.mkdir(parents=True, exist_ok=True)\n",
    "\n",
    "image_out_dir_path = pathlib.Path(\"../figures/\")\n",
    "# if path does not exist, create it\n",
    "image_out_dir_path.mkdir(parents=True, exist_ok=True)"
   ]
  },
  {
   "cell_type": "code",
   "execution_count": 5,
   "metadata": {},
   "outputs": [
    {
     "data": {
      "text/html": [
       "<div>\n",
       "<style scoped>\n",
       "    .dataframe tbody tr th:only-of-type {\n",
       "        vertical-align: middle;\n",
       "    }\n",
       "\n",
       "    .dataframe tbody tr th {\n",
       "        vertical-align: top;\n",
       "    }\n",
       "\n",
       "    .dataframe thead th {\n",
       "        text-align: right;\n",
       "    }\n",
       "</style>\n",
       "<table border=\"1\" class=\"dataframe\">\n",
       "  <thead>\n",
       "    <tr style=\"text-align: right;\">\n",
       "      <th></th>\n",
       "      <th>true_label</th>\n",
       "      <th>predicted_label</th>\n",
       "      <th>Metadata_cell_type</th>\n",
       "      <th>Metadata_Well</th>\n",
       "      <th>Metadata_number_of_singlecells</th>\n",
       "      <th>Metadata_Site</th>\n",
       "      <th>Metadata_incubation inducer (h)</th>\n",
       "      <th>Metadata_inhibitor</th>\n",
       "      <th>Metadata_inhibitor_concentration</th>\n",
       "      <th>Metadata_inhibitor_concentration_unit</th>\n",
       "      <th>...</th>\n",
       "      <th>Metadata_Dose</th>\n",
       "      <th>Metadata_Nuclei_Location_Center_X</th>\n",
       "      <th>Metadata_Nuclei_Location_Center_Y</th>\n",
       "      <th>Metadata_Cytoplasm_AreaShape_BoundingBoxMaximum_X</th>\n",
       "      <th>Metadata_Cytoplasm_AreaShape_BoundingBoxMaximum_Y</th>\n",
       "      <th>Metadata_Cytoplasm_AreaShape_BoundingBoxMinimum_X</th>\n",
       "      <th>Metadata_Cytoplasm_AreaShape_BoundingBoxMinimum_Y</th>\n",
       "      <th>labels</th>\n",
       "      <th>data_split</th>\n",
       "      <th>shuffle</th>\n",
       "    </tr>\n",
       "  </thead>\n",
       "  <tbody>\n",
       "    <tr>\n",
       "      <th>0</th>\n",
       "      <td>1</td>\n",
       "      <td>1</td>\n",
       "      <td>PBMC</td>\n",
       "      <td>I03</td>\n",
       "      <td>46663</td>\n",
       "      <td>5</td>\n",
       "      <td>6</td>\n",
       "      <td>Z-VAD-FMK</td>\n",
       "      <td>100.000</td>\n",
       "      <td>µM</td>\n",
       "      <td>...</td>\n",
       "      <td>10.000_µg_per_ml</td>\n",
       "      <td>95.866071</td>\n",
       "      <td>128.336310</td>\n",
       "      <td>111.0</td>\n",
       "      <td>143.0</td>\n",
       "      <td>87.0</td>\n",
       "      <td>117.0</td>\n",
       "      <td>healthy</td>\n",
       "      <td>train</td>\n",
       "      <td>True</td>\n",
       "    </tr>\n",
       "    <tr>\n",
       "      <th>1</th>\n",
       "      <td>1</td>\n",
       "      <td>1</td>\n",
       "      <td>PBMC</td>\n",
       "      <td>D05</td>\n",
       "      <td>46119</td>\n",
       "      <td>5</td>\n",
       "      <td>6</td>\n",
       "      <td>DMSO</td>\n",
       "      <td>0.025</td>\n",
       "      <td>%</td>\n",
       "      <td>...</td>\n",
       "      <td>100.000_µg_per_ml_10.000_µM</td>\n",
       "      <td>244.816143</td>\n",
       "      <td>477.495516</td>\n",
       "      <td>258.0</td>\n",
       "      <td>489.0</td>\n",
       "      <td>233.0</td>\n",
       "      <td>466.0</td>\n",
       "      <td>pyroptosis</td>\n",
       "      <td>train</td>\n",
       "      <td>True</td>\n",
       "    </tr>\n",
       "    <tr>\n",
       "      <th>2</th>\n",
       "      <td>1</td>\n",
       "      <td>1</td>\n",
       "      <td>PBMC</td>\n",
       "      <td>G09</td>\n",
       "      <td>43977</td>\n",
       "      <td>9</td>\n",
       "      <td>6</td>\n",
       "      <td>Disulfiram</td>\n",
       "      <td>1.000</td>\n",
       "      <td>µM</td>\n",
       "      <td>...</td>\n",
       "      <td>10.000_µg_per_ml</td>\n",
       "      <td>1728.680628</td>\n",
       "      <td>382.531414</td>\n",
       "      <td>1740.0</td>\n",
       "      <td>394.0</td>\n",
       "      <td>1717.0</td>\n",
       "      <td>365.0</td>\n",
       "      <td>pyroptosis</td>\n",
       "      <td>train</td>\n",
       "      <td>True</td>\n",
       "    </tr>\n",
       "    <tr>\n",
       "      <th>3</th>\n",
       "      <td>1</td>\n",
       "      <td>1</td>\n",
       "      <td>PBMC</td>\n",
       "      <td>N07</td>\n",
       "      <td>21434</td>\n",
       "      <td>7</td>\n",
       "      <td>6</td>\n",
       "      <td>DMSO</td>\n",
       "      <td>0.025</td>\n",
       "      <td>%</td>\n",
       "      <td>...</td>\n",
       "      <td>10.000_nM</td>\n",
       "      <td>1363.190736</td>\n",
       "      <td>282.046322</td>\n",
       "      <td>1376.0</td>\n",
       "      <td>292.0</td>\n",
       "      <td>1352.0</td>\n",
       "      <td>272.0</td>\n",
       "      <td>healthy</td>\n",
       "      <td>train</td>\n",
       "      <td>True</td>\n",
       "    </tr>\n",
       "    <tr>\n",
       "      <th>4</th>\n",
       "      <td>2</td>\n",
       "      <td>1</td>\n",
       "      <td>PBMC</td>\n",
       "      <td>B06</td>\n",
       "      <td>25314</td>\n",
       "      <td>4</td>\n",
       "      <td>6</td>\n",
       "      <td>DMSO</td>\n",
       "      <td>0.025</td>\n",
       "      <td>%</td>\n",
       "      <td>...</td>\n",
       "      <td>0.100_%</td>\n",
       "      <td>778.516760</td>\n",
       "      <td>1777.108939</td>\n",
       "      <td>801.0</td>\n",
       "      <td>1790.0</td>\n",
       "      <td>754.0</td>\n",
       "      <td>1757.0</td>\n",
       "      <td>healthy</td>\n",
       "      <td>train</td>\n",
       "      <td>True</td>\n",
       "    </tr>\n",
       "  </tbody>\n",
       "</table>\n",
       "<p>5 rows × 33 columns</p>\n",
       "</div>"
      ],
      "text/plain": [
       "   true_label  predicted_label Metadata_cell_type Metadata_Well  \\\n",
       "0           1                1               PBMC           I03   \n",
       "1           1                1               PBMC           D05   \n",
       "2           1                1               PBMC           G09   \n",
       "3           1                1               PBMC           N07   \n",
       "4           2                1               PBMC           B06   \n",
       "\n",
       "   Metadata_number_of_singlecells  Metadata_Site  \\\n",
       "0                           46663              5   \n",
       "1                           46119              5   \n",
       "2                           43977              9   \n",
       "3                           21434              7   \n",
       "4                           25314              4   \n",
       "\n",
       "   Metadata_incubation inducer (h) Metadata_inhibitor  \\\n",
       "0                                6          Z-VAD-FMK   \n",
       "1                                6               DMSO   \n",
       "2                                6         Disulfiram   \n",
       "3                                6               DMSO   \n",
       "4                                6               DMSO   \n",
       "\n",
       "  Metadata_inhibitor_concentration Metadata_inhibitor_concentration_unit  ...  \\\n",
       "0                          100.000                                    µM  ...   \n",
       "1                            0.025                                     %  ...   \n",
       "2                            1.000                                    µM  ...   \n",
       "3                            0.025                                     %  ...   \n",
       "4                            0.025                                     %  ...   \n",
       "\n",
       "                 Metadata_Dose Metadata_Nuclei_Location_Center_X  \\\n",
       "0             10.000_µg_per_ml                         95.866071   \n",
       "1  100.000_µg_per_ml_10.000_µM                        244.816143   \n",
       "2             10.000_µg_per_ml                       1728.680628   \n",
       "3                    10.000_nM                       1363.190736   \n",
       "4                      0.100_%                        778.516760   \n",
       "\n",
       "  Metadata_Nuclei_Location_Center_Y  \\\n",
       "0                        128.336310   \n",
       "1                        477.495516   \n",
       "2                        382.531414   \n",
       "3                        282.046322   \n",
       "4                       1777.108939   \n",
       "\n",
       "  Metadata_Cytoplasm_AreaShape_BoundingBoxMaximum_X  \\\n",
       "0                                             111.0   \n",
       "1                                             258.0   \n",
       "2                                            1740.0   \n",
       "3                                            1376.0   \n",
       "4                                             801.0   \n",
       "\n",
       "  Metadata_Cytoplasm_AreaShape_BoundingBoxMaximum_Y  \\\n",
       "0                                             143.0   \n",
       "1                                             489.0   \n",
       "2                                             394.0   \n",
       "3                                             292.0   \n",
       "4                                            1790.0   \n",
       "\n",
       "  Metadata_Cytoplasm_AreaShape_BoundingBoxMinimum_X  \\\n",
       "0                                              87.0   \n",
       "1                                             233.0   \n",
       "2                                            1717.0   \n",
       "3                                            1352.0   \n",
       "4                                             754.0   \n",
       "\n",
       "   Metadata_Cytoplasm_AreaShape_BoundingBoxMinimum_Y      labels  data_split  \\\n",
       "0                                              117.0     healthy       train   \n",
       "1                                              466.0  pyroptosis       train   \n",
       "2                                              365.0  pyroptosis       train   \n",
       "3                                              272.0     healthy       train   \n",
       "4                                             1757.0     healthy       train   \n",
       "\n",
       "   shuffle  \n",
       "0     True  \n",
       "1     True  \n",
       "2     True  \n",
       "3     True  \n",
       "4     True  \n",
       "\n",
       "[5 rows x 33 columns]"
      ]
     },
     "execution_count": 5,
     "metadata": {},
     "output_type": "execute_result"
    }
   ],
   "source": [
    "df_path = pathlib.Path(\n",
    "    f\"../../4.sc_Morphology_Neural_Network_MLP_Model/results/Multi_Class/MultiClass_MLP/{CELL_TYPE}/single_cell_predictions.parquet\"\n",
    ")\n",
    "# read in the data\n",
    "df = pd.read_parquet(df_path)\n",
    "\n",
    "# df_no_fs_path = pathlib.Path(f\"../../data/{cell_type}_sc.parquet\")\n",
    "# # read in the data\n",
    "# df_no_fs = pd.read_parquet(df_no_fs_path)\n",
    "\n",
    "df.head()"
   ]
  },
  {
   "cell_type": "code",
   "execution_count": 6,
   "metadata": {},
   "outputs": [],
   "source": [
    "# add column for if the prediction was correct\n",
    "df[\"correct\"] = df.apply(lambda x: x[\"true_label\"] == x[\"predicted_label\"], axis=1)\n",
    "# split the data into correct and incorrect\n",
    "df_correct = df[df[\"correct\"] == True]\n",
    "df_incorrect = df[df[\"correct\"] == False]\n",
    "assert len(df_correct) + len(df_incorrect) == len(df)"
   ]
  },
  {
   "cell_type": "code",
   "execution_count": 7,
   "metadata": {},
   "outputs": [
    {
     "name": "stdout",
     "output_type": "stream",
     "text": [
      "apoptosis_shuffled_test_df\n",
      "apoptosis_shuffled_validation_df\n",
      "apoptosis_shuffled_treatment_holdout_df\n",
      "apoptosis_unshuffled_treatment_holdout_df\n",
      "control_shuffled_treatment_holdout_df\n",
      "control_unshuffled_treatment_holdout_df\n"
     ]
    }
   ],
   "source": [
    "# split the data into the different classes\n",
    "pyroptosis_df = df_correct[df_correct[\"labels\"] == \"pyroptosis\"]\n",
    "apoptosis_df = df_correct[df_correct[\"labels\"] == \"apoptosis\"]\n",
    "control_df = df_correct[df_correct[\"labels\"] == \"healthy\"]\n",
    "\n",
    "# split the data classes by shuffled and unshuffled\n",
    "pyroptosis_shuffled_df = pyroptosis_df[pyroptosis_df[\"shuffle\"] == True]\n",
    "pyroptosis_unshuffled_df = pyroptosis_df[pyroptosis_df[\"shuffle\"] == False]\n",
    "apoptosis_shuffled_df = apoptosis_df[apoptosis_df[\"shuffle\"] == True]\n",
    "apoptosis_unshuffled_df = apoptosis_df[apoptosis_df[\"shuffle\"] == False]\n",
    "control_shuffled_df = control_df[control_df[\"shuffle\"] == True]\n",
    "control_unshuffled_df = control_df[control_df[\"shuffle\"] == False]\n",
    "\n",
    "# split the shuffled/unshuffled data by the data splits\n",
    "pyroptosis_shuffled_train_df = pyroptosis_shuffled_df[\n",
    "    pyroptosis_shuffled_df[\"data_split\"] == \"train\"\n",
    "]\n",
    "pyroptosis_shuffled_test_df = pyroptosis_shuffled_df[\n",
    "    pyroptosis_shuffled_df[\"data_split\"] == \"test\"\n",
    "]\n",
    "pyroptosis_shuffled_validation_df = pyroptosis_shuffled_df[\n",
    "    pyroptosis_shuffled_df[\"data_split\"] == \"validation\"\n",
    "]\n",
    "pyroptosis_shuffled_treatment_holdout_df = pyroptosis_shuffled_df[\n",
    "    pyroptosis_shuffled_df[\"data_split\"] == \"treatment_holdout\"\n",
    "]\n",
    "pyroptosis_shuffled_holdout_df = pyroptosis_shuffled_df[\n",
    "    pyroptosis_shuffled_df[\"data_split\"] == \"holdout\"\n",
    "]\n",
    "\n",
    "pyroptosis_unshuffled_train_df = pyroptosis_unshuffled_df[\n",
    "    pyroptosis_unshuffled_df[\"data_split\"] == \"train\"\n",
    "]\n",
    "pyroptosis_unshuffled_test_df = pyroptosis_unshuffled_df[\n",
    "    pyroptosis_unshuffled_df[\"data_split\"] == \"test\"\n",
    "]\n",
    "pyroptosis_unshuffled_validation_df = pyroptosis_unshuffled_df[\n",
    "    pyroptosis_unshuffled_df[\"data_split\"] == \"validation\"\n",
    "]\n",
    "pyroptosis_unshuffled_treatment_holdout_df = pyroptosis_unshuffled_df[\n",
    "    pyroptosis_unshuffled_df[\"data_split\"] == \"treatment_holdout\"\n",
    "]\n",
    "pyroptosis_unshuffled_holdout_df = pyroptosis_unshuffled_df[\n",
    "    pyroptosis_unshuffled_df[\"data_split\"] == \"holdout\"\n",
    "]\n",
    "\n",
    "apoptosis_shuffled_train_df = apoptosis_shuffled_df[\n",
    "    apoptosis_shuffled_df[\"data_split\"] == \"train\"\n",
    "]\n",
    "apoptosis_shuffled_test_df = apoptosis_shuffled_df[\n",
    "    apoptosis_shuffled_df[\"data_split\"] == \"test\"\n",
    "]\n",
    "apoptosis_shuffled_validation_df = apoptosis_shuffled_df[\n",
    "    apoptosis_shuffled_df[\"data_split\"] == \"validation\"\n",
    "]\n",
    "apoptosis_shuffled_treatment_holdout_df = apoptosis_shuffled_df[\n",
    "    apoptosis_shuffled_df[\"data_split\"] == \"treatment_holdout\"\n",
    "]\n",
    "apoptosis_shuffled_holdout_df = apoptosis_shuffled_df[\n",
    "    apoptosis_shuffled_df[\"data_split\"] == \"holdout\"\n",
    "]\n",
    "\n",
    "apoptosis_unshuffled_train_df = apoptosis_unshuffled_df[\n",
    "    apoptosis_unshuffled_df[\"data_split\"] == \"train\"\n",
    "]\n",
    "apoptosis_unshuffled_test_df = apoptosis_unshuffled_df[\n",
    "    apoptosis_unshuffled_df[\"data_split\"] == \"test\"\n",
    "]\n",
    "apoptosis_unshuffled_validation_df = apoptosis_unshuffled_df[\n",
    "    apoptosis_unshuffled_df[\"data_split\"] == \"validation\"\n",
    "]\n",
    "apoptosis_unshuffled_treatment_holdout_df = apoptosis_unshuffled_df[\n",
    "    apoptosis_unshuffled_df[\"data_split\"] == \"treatment_holdout\"\n",
    "]\n",
    "apoptosis_unshuffled_holdout_df = apoptosis_unshuffled_df[\n",
    "    apoptosis_unshuffled_df[\"data_split\"] == \"holdout\"\n",
    "]\n",
    "\n",
    "control_shuffled_train_df = control_shuffled_df[\n",
    "    control_shuffled_df[\"data_split\"] == \"train\"\n",
    "]\n",
    "control_shuffled_test_df = control_shuffled_df[\n",
    "    control_shuffled_df[\"data_split\"] == \"test\"\n",
    "]\n",
    "control_shuffled_validation_df = control_shuffled_df[\n",
    "    control_shuffled_df[\"data_split\"] == \"validation\"\n",
    "]\n",
    "control_shuffled_treatment_holdout_df = control_shuffled_df[\n",
    "    control_shuffled_df[\"data_split\"] == \"treatment_holdout\"\n",
    "]\n",
    "control_shuffled_holdout_df = control_shuffled_df[\n",
    "    control_shuffled_df[\"data_split\"] == \"holdout\"\n",
    "]\n",
    "\n",
    "control_unshuffled_train_df = control_unshuffled_df[\n",
    "    control_unshuffled_df[\"data_split\"] == \"train\"\n",
    "]\n",
    "control_unshuffled_test_df = control_unshuffled_df[\n",
    "    control_unshuffled_df[\"data_split\"] == \"test\"\n",
    "]\n",
    "control_unshuffled_validation_df = control_unshuffled_df[\n",
    "    control_unshuffled_df[\"data_split\"] == \"validation\"\n",
    "]\n",
    "control_unshuffled_treatment_holdout_df = control_unshuffled_df[\n",
    "    control_unshuffled_df[\"data_split\"] == \"treatment_holdout\"\n",
    "]\n",
    "control_unshuffled_holdout_df = control_unshuffled_df[\n",
    "    control_unshuffled_df[\"data_split\"] == \"holdout\"\n",
    "]\n",
    "\n",
    "# add each df to a dictionary\n",
    "dict_of_dfs = {}\n",
    "dict_of_dfs[\"pyroptosis_shuffled_train_df\"] = pyroptosis_shuffled_train_df\n",
    "dict_of_dfs[\"pyroptosis_shuffled_test_df\"] = pyroptosis_shuffled_test_df\n",
    "dict_of_dfs[\"pyroptosis_shuffled_validation_df\"] = pyroptosis_shuffled_validation_df\n",
    "dict_of_dfs[\n",
    "    \"pyroptosis_shuffled_treatment_holdout_df\"\n",
    "] = pyroptosis_shuffled_treatment_holdout_df\n",
    "dict_of_dfs[\"pyroptosis_shuffled_holdout_df\"] = pyroptosis_shuffled_holdout_df\n",
    "\n",
    "dict_of_dfs[\"pyroptosis_unshuffled_train_df\"] = pyroptosis_unshuffled_train_df\n",
    "dict_of_dfs[\"pyroptosis_unshuffled_test_df\"] = pyroptosis_unshuffled_test_df\n",
    "dict_of_dfs[\"pyroptosis_unshuffled_validation_df\"] = pyroptosis_unshuffled_validation_df\n",
    "dict_of_dfs[\n",
    "    \"pyroptosis_unshuffled_treatment_holdout_df\"\n",
    "] = pyroptosis_unshuffled_treatment_holdout_df\n",
    "dict_of_dfs[\"pyroptosis_unshuffled_holdout_df\"] = pyroptosis_unshuffled_holdout_df\n",
    "\n",
    "dict_of_dfs[\"apoptosis_shuffled_train_df\"] = apoptosis_shuffled_train_df\n",
    "dict_of_dfs[\"apoptosis_shuffled_test_df\"] = apoptosis_shuffled_test_df\n",
    "dict_of_dfs[\"apoptosis_shuffled_validation_df\"] = apoptosis_shuffled_validation_df\n",
    "dict_of_dfs[\n",
    "    \"apoptosis_shuffled_treatment_holdout_df\"\n",
    "] = apoptosis_shuffled_treatment_holdout_df\n",
    "dict_of_dfs[\"apoptosis_shuffled_holdout_df\"] = apoptosis_shuffled_holdout_df\n",
    "\n",
    "dict_of_dfs[\"apoptosis_unshuffled_train_df\"] = apoptosis_unshuffled_train_df\n",
    "dict_of_dfs[\"apoptosis_unshuffled_test_df\"] = apoptosis_unshuffled_test_df\n",
    "dict_of_dfs[\"apoptosis_unshuffled_validation_df\"] = apoptosis_unshuffled_validation_df\n",
    "dict_of_dfs[\n",
    "    \"apoptosis_unshuffled_treatment_holdout_df\"\n",
    "] = apoptosis_unshuffled_treatment_holdout_df\n",
    "dict_of_dfs[\"apoptosis_unshuffled_holdout_df\"] = apoptosis_unshuffled_holdout_df\n",
    "\n",
    "dict_of_dfs[\"control_shuffled_train_df\"] = control_shuffled_train_df\n",
    "dict_of_dfs[\"control_shuffled_test_df\"] = control_shuffled_test_df\n",
    "dict_of_dfs[\"control_shuffled_validation_df\"] = control_shuffled_validation_df\n",
    "dict_of_dfs[\n",
    "    \"control_shuffled_treatment_holdout_df\"\n",
    "] = control_shuffled_treatment_holdout_df\n",
    "dict_of_dfs[\"control_shuffled_holdout_df\"] = control_shuffled_holdout_df\n",
    "\n",
    "dict_of_dfs[\"control_unshuffled_train_df\"] = control_unshuffled_train_df\n",
    "dict_of_dfs[\"control_unshuffled_test_df\"] = control_unshuffled_test_df\n",
    "dict_of_dfs[\"control_unshuffled_validation_df\"] = control_unshuffled_validation_df\n",
    "dict_of_dfs[\n",
    "    \"control_unshuffled_treatment_holdout_df\"\n",
    "] = control_unshuffled_treatment_holdout_df\n",
    "dict_of_dfs[\"control_unshuffled_holdout_df\"] = control_unshuffled_holdout_df\n",
    "\n",
    "# check the length of each df\n",
    "for key, value in dict_of_dfs.items():\n",
    "    if not len(dict_of_dfs[key]) == 0:\n",
    "        pass\n",
    "    else:\n",
    "        print(key)"
   ]
  },
  {
   "cell_type": "code",
   "execution_count": 8,
   "metadata": {},
   "outputs": [],
   "source": [
    "# define a dictionary for coding the wells and FOVs correctly\n",
    "well_dict = {\n",
    "    \"A\": \"01\",\n",
    "    \"B\": \"02\",\n",
    "    \"C\": \"03\",\n",
    "    \"D\": \"04\",\n",
    "    \"E\": \"05\",\n",
    "    \"F\": \"06\",\n",
    "    \"G\": \"07\",\n",
    "    \"H\": \"08\",\n",
    "    \"I\": \"09\",\n",
    "    \"J\": \"10\",\n",
    "    \"K\": \"11\",\n",
    "    \"L\": \"12\",\n",
    "    \"M\": \"13\",\n",
    "    \"N\": \"14\",\n",
    "    \"O\": \"15\",\n",
    "    \"P\": \"16\",\n",
    "}\n",
    "column_dict = {\n",
    "    \"1\": \"01\",\n",
    "    \"2\": \"02\",\n",
    "    \"3\": \"03\",\n",
    "    \"4\": \"04\",\n",
    "    \"5\": \"05\",\n",
    "    \"6\": \"06\",\n",
    "    \"7\": \"07\",\n",
    "    \"8\": \"08\",\n",
    "    \"9\": \"09\",\n",
    "    \"10\": \"10\",\n",
    "    \"11\": \"11\",\n",
    "    \"12\": \"12\",\n",
    "    \"13\": \"13\",\n",
    "    \"14\": \"14\",\n",
    "    \"15\": \"15\",\n",
    "    \"16\": \"16\",\n",
    "    \"17\": \"17\",\n",
    "    \"18\": \"18\",\n",
    "    \"19\": \"19\",\n",
    "    \"20\": \"20\",\n",
    "    \"21\": \"21\",\n",
    "    \"22\": \"22\",\n",
    "    \"23\": \"23\",\n",
    "    \"24\": \"24\",\n",
    "}\n",
    "fov_dict = {\n",
    "    \"1\": \"01\",\n",
    "    \"2\": \"02\",\n",
    "    \"3\": \"03\",\n",
    "    \"4\": \"04\",\n",
    "    \"5\": \"05\",\n",
    "    \"6\": \"06\",\n",
    "    \"7\": \"07\",\n",
    "    \"8\": \"08\",\n",
    "    \"9\": \"09\",\n",
    "    \"10\": \"10\",\n",
    "    \"11\": \"11\",\n",
    "    \"12\": \"12\",\n",
    "    \"13\": \"13\",\n",
    "    \"14\": \"14\",\n",
    "    \"15\": \"15\",\n",
    "    \"16\": \"16\",\n",
    "}"
   ]
  },
  {
   "cell_type": "code",
   "execution_count": 9,
   "metadata": {},
   "outputs": [],
   "source": [
    "image_basename_1 = \"p04-ch1sk1fk1fl1_IC.tiff\"\n",
    "image_basename_2 = \"p04-ch2sk1fk1fl1_IC.tiff\"\n",
    "image_basename_3 = \"p04-ch3sk1fk1fl1_IC.tiff\"\n",
    "image_basename_4 = \"p04-ch4sk1fk1fl1_IC.tiff\"\n",
    "image_basename_5 = \"p04-ch5sk1fk1fl1_IC.tiff\""
   ]
  },
  {
   "cell_type": "code",
   "execution_count": 10,
   "metadata": {},
   "outputs": [],
   "source": [
    "image_out_dir_path = pathlib.Path(f\"../figures/{CELL_TYPE}/\")\n",
    "# if path does not exist, create it\n",
    "image_out_dir_path.mkdir(parents=True, exist_ok=True)"
   ]
  },
  {
   "cell_type": "code",
   "execution_count": 11,
   "metadata": {},
   "outputs": [],
   "source": [
    "# set constants for the loop\n",
    "radius = 50\n",
    "# define the number of cells to select\n",
    "n = 5"
   ]
  },
  {
   "cell_type": "code",
   "execution_count": 12,
   "metadata": {},
   "outputs": [
    {
     "name": "stderr",
     "output_type": "stream",
     "text": [
      "100%|██████████| 30/30 [00:00<00:00, 421.24it/s]\n"
     ]
    }
   ],
   "source": [
    "dict_of_subset_dfs = {}\n",
    "for key in tqdm(dict_of_dfs):\n",
    "    df = dict_of_dfs[key]\n",
    "    if len(df) == 0:\n",
    "        pass\n",
    "    else:\n",
    "        # select n random cells from the dataframe\n",
    "        df = random_cell_select(df, n)\n",
    "        # add the df to the dictionary\n",
    "        dict_of_subset_dfs[key] = df"
   ]
  },
  {
   "cell_type": "code",
   "execution_count": 13,
   "metadata": {},
   "outputs": [],
   "source": [
    "# create a blank df to append the data to\n",
    "main_df = dict_of_subset_dfs[\"pyroptosis_shuffled_train_df\"]\n",
    "# drop all rows from the df\n",
    "main_df = main_df.drop(main_df.index)"
   ]
  },
  {
   "cell_type": "code",
   "execution_count": 14,
   "metadata": {},
   "outputs": [
    {
     "name": "stderr",
     "output_type": "stream",
     "text": [
      "  0%|          | 0/24 [00:00<?, ?it/s]"
     ]
    },
    {
     "name": "stdout",
     "output_type": "stream",
     "text": [
      "1 pyroptosis_shuffled_train_df K 03 4 338 2045 264\n"
     ]
    },
    {
     "name": "stderr",
     "output_type": "stream",
     "text": [
      "/tmp/ipykernel_17949/240011517.py:109: FutureWarning: In a future version, object-dtype columns with all-bool values will not be included in reductions with bool_only=True. Explicitly cast to bool dtype instead.\n",
      "  main_df = pd.concat([main_df, df], ignore_index=True)\n"
     ]
    },
    {
     "name": "stdout",
     "output_type": "stream",
     "text": [
      "2 pyroptosis_shuffled_train_df F 09 2 1283 1738 754\n",
      "3 pyroptosis_shuffled_train_df K 03 14 2799 1768 1616\n",
      "4 pyroptosis_shuffled_train_df C 05 11 997 1653 782\n",
      "5 pyroptosis_shuffled_train_df C 02 8 1590 1716 1506\n"
     ]
    },
    {
     "name": "stderr",
     "output_type": "stream",
     "text": [
      "  4%|▍         | 1/24 [00:01<00:23,  1.02s/it]"
     ]
    },
    {
     "name": "stdout",
     "output_type": "stream",
     "text": [
      "1 pyroptosis_shuffled_test_df E 09 3 2733 1058 1658\n",
      "2 pyroptosis_shuffled_test_df C 11 9 1514 1685 959\n",
      "3 pyroptosis_shuffled_test_df D 10 5 1049 1090 933\n",
      "4 pyroptosis_shuffled_test_df J 09 15 2459 1657 1335\n"
     ]
    },
    {
     "name": "stderr",
     "output_type": "stream",
     "text": [
      "  8%|▊         | 2/24 [00:02<00:22,  1.03s/it]"
     ]
    },
    {
     "name": "stdout",
     "output_type": "stream",
     "text": [
      "5 pyroptosis_shuffled_test_df B 11 7 675 1041 701\n",
      "1 pyroptosis_shuffled_validation_df K 03 8 993 76 677\n",
      "2 pyroptosis_shuffled_validation_df G 09 9 2610 1135 1525\n",
      "3 pyroptosis_shuffled_validation_df D 10 1 179 465 192\n",
      "4 pyroptosis_shuffled_validation_df K 02 13 373 52 382\n",
      "5 pyroptosis_shuffled_validation_df D 05 16 3157 1239 1764\n"
     ]
    },
    {
     "name": "stderr",
     "output_type": "stream",
     "text": [
      " 12%|█▎        | 3/24 [00:03<00:23,  1.11s/it]"
     ]
    },
    {
     "name": "stdout",
     "output_type": "stream",
     "text": [
      "1 pyroptosis_shuffled_treatment_holdout_df L 09 15 269 1790 185\n",
      "2 pyroptosis_shuffled_treatment_holdout_df L 09 5 2735 756 2061\n",
      "3 pyroptosis_shuffled_treatment_holdout_df L 09 3 2275 1717 1302\n",
      "4 pyroptosis_shuffled_treatment_holdout_df L 09 13 1411 965 1095\n",
      "5 pyroptosis_shuffled_treatment_holdout_df L 10 2 1268 1947 733\n"
     ]
    },
    {
     "name": "stderr",
     "output_type": "stream",
     "text": [
      " 17%|█▋        | 4/24 [00:04<00:23,  1.17s/it]"
     ]
    },
    {
     "name": "stdout",
     "output_type": "stream",
     "text": [
      "1 pyroptosis_shuffled_holdout_df B 05 4 1012 1292 591\n",
      "2 pyroptosis_shuffled_holdout_df B 05 1 961 276 894\n",
      "3 pyroptosis_shuffled_holdout_df H 02 16 743 1546 416\n",
      "4 pyroptosis_shuffled_holdout_df L 03 12 2063 2142 1547\n",
      "5 pyroptosis_shuffled_holdout_df L 03 12 1624 739 1245\n"
     ]
    },
    {
     "name": "stderr",
     "output_type": "stream",
     "text": [
      " 21%|██        | 5/24 [00:05<00:22,  1.16s/it]"
     ]
    },
    {
     "name": "stdout",
     "output_type": "stream",
     "text": [
      "1 pyroptosis_unshuffled_train_df C 10 15 200 586 106\n",
      "2 pyroptosis_unshuffled_train_df H 08 10 715 2068 450\n",
      "3 pyroptosis_unshuffled_train_df D 04 6 23 1354 38\n"
     ]
    },
    {
     "name": "stderr",
     "output_type": "stream",
     "text": [
      "/home/lippincm/miniconda3/envs/Interstellar/lib/python3.10/site-packages/tifffile/tifffile.py:2181: UserWarning: <tifffile.TiffWriter 'pyroptosis_unsh…crop_cell_2.tiff'> writing zero-size array to nonconformant TIFF\n",
      "  warnings.warn(\n"
     ]
    },
    {
     "name": "stdout",
     "output_type": "stream",
     "text": [
      "4 pyroptosis_unshuffled_train_df F 08 2 2995 1598 1743\n",
      "5 pyroptosis_unshuffled_train_df C 10 13 1634 408 1007\n"
     ]
    },
    {
     "name": "stderr",
     "output_type": "stream",
     "text": [
      " 25%|██▌       | 6/24 [00:06<00:21,  1.18s/it]"
     ]
    },
    {
     "name": "stdout",
     "output_type": "stream",
     "text": [
      "1 pyroptosis_unshuffled_test_df G 02 14 2645 1948 1567\n",
      "2 pyroptosis_unshuffled_test_df K 03 9 2472 1751 1486\n",
      "3 pyroptosis_unshuffled_test_df B 11 6 2025 447 1385\n",
      "4 pyroptosis_unshuffled_test_df J 09 10 2666 657 1705\n",
      "5 pyroptosis_unshuffled_test_df D 05 7 733 2084 930\n"
     ]
    },
    {
     "name": "stderr",
     "output_type": "stream",
     "text": [
      " 29%|██▉       | 7/24 [00:07<00:19,  1.14s/it]"
     ]
    },
    {
     "name": "stdout",
     "output_type": "stream",
     "text": [
      "1 pyroptosis_unshuffled_validation_df C 02 13 3370 1269 1875\n",
      "2 pyroptosis_unshuffled_validation_df E 09 3 2137 449 1321\n",
      "3 pyroptosis_unshuffled_validation_df K 03 13 215 809 137\n",
      "4 pyroptosis_unshuffled_validation_df G 09 8 3140 2047 1813\n",
      "5 pyroptosis_unshuffled_validation_df B 10 11 908 1358 1123\n"
     ]
    },
    {
     "name": "stderr",
     "output_type": "stream",
     "text": [
      " 33%|███▎      | 8/24 [00:09<00:20,  1.29s/it]"
     ]
    },
    {
     "name": "stdout",
     "output_type": "stream",
     "text": [
      "1 pyroptosis_unshuffled_treatment_holdout_df N 04 4 2601 284 1613\n",
      "2 pyroptosis_unshuffled_treatment_holdout_df L 11 7 2038 233 1985\n",
      "3 pyroptosis_unshuffled_treatment_holdout_df D 09 4 1883 1341 1413\n",
      "4 pyroptosis_unshuffled_treatment_holdout_df M 10 1 326 976 273\n",
      "5 pyroptosis_unshuffled_treatment_holdout_df L 09 11 363 1670 599\n"
     ]
    },
    {
     "name": "stderr",
     "output_type": "stream",
     "text": [
      " 38%|███▊      | 9/24 [00:11<00:20,  1.36s/it]"
     ]
    },
    {
     "name": "stdout",
     "output_type": "stream",
     "text": [
      "1 pyroptosis_unshuffled_holdout_df B 05 8 2329 1443 1585\n",
      "2 pyroptosis_unshuffled_holdout_df C 04 13 468 420 296\n",
      "3 pyroptosis_unshuffled_holdout_df B 05 13 2547 1263 1389\n",
      "4 pyroptosis_unshuffled_holdout_df F 03 5 1123 216 765\n",
      "5 pyroptosis_unshuffled_holdout_df E 03 13 1189 2002 697\n"
     ]
    },
    {
     "name": "stderr",
     "output_type": "stream",
     "text": [
      " 42%|████▏     | 10/24 [00:13<00:22,  1.63s/it]"
     ]
    },
    {
     "name": "stdout",
     "output_type": "stream",
     "text": [
      "1 apoptosis_shuffled_train_df L 06 11 1962 1430 1117\n",
      "2 apoptosis_shuffled_train_df L 07 4 1979 1091 1898\n",
      "3 apoptosis_shuffled_train_df L 07 3 3541 62 2107\n",
      "4 apoptosis_shuffled_train_df D 07 6 335 637 379\n",
      "5 apoptosis_shuffled_train_df D 07 7 807 1561 925\n"
     ]
    },
    {
     "name": "stderr",
     "output_type": "stream",
     "text": [
      " 46%|████▌     | 11/24 [00:15<00:22,  1.75s/it]"
     ]
    },
    {
     "name": "stdout",
     "output_type": "stream",
     "text": [
      "1 apoptosis_shuffled_holdout_df E 06 7 672 189 1185\n",
      "2 apoptosis_shuffled_holdout_df D 06 14 1383 1504 760\n",
      "3 apoptosis_shuffled_holdout_df D 06 3 435 946 240\n",
      "4 apoptosis_shuffled_holdout_df D 06 15 2090 1498 1011\n",
      "5 apoptosis_shuffled_holdout_df E 06 13 641 1328 378\n"
     ]
    },
    {
     "name": "stderr",
     "output_type": "stream",
     "text": [
      " 50%|█████     | 12/24 [00:16<00:20,  1.70s/it]"
     ]
    },
    {
     "name": "stdout",
     "output_type": "stream",
     "text": [
      "1 apoptosis_unshuffled_train_df L 07 4 362 385 328\n",
      "2 apoptosis_unshuffled_train_df K 07 16 1321 1008 652\n",
      "3 apoptosis_unshuffled_train_df K 06 7 770 223 446\n",
      "4 apoptosis_unshuffled_train_df L 06 10 563 84 353\n",
      "5 apoptosis_unshuffled_train_df K 07 6 2632 711 2062\n"
     ]
    },
    {
     "name": "stderr",
     "output_type": "stream",
     "text": [
      " 54%|█████▍    | 13/24 [00:18<00:18,  1.71s/it]"
     ]
    },
    {
     "name": "stdout",
     "output_type": "stream",
     "text": [
      "1 apoptosis_unshuffled_test_df E 07 11 1340 554 879\n",
      "2 apoptosis_unshuffled_test_df L 06 5 2138 1437 2086\n",
      "3 apoptosis_unshuffled_test_df L 06 11 2822 1735 1610\n",
      "4 apoptosis_unshuffled_test_df K 06 14 508 228 249\n",
      "5 apoptosis_unshuffled_test_df K 07 9 1141 905 607\n"
     ]
    },
    {
     "name": "stderr",
     "output_type": "stream",
     "text": [
      " 58%|█████▊    | 14/24 [00:20<00:17,  1.80s/it]"
     ]
    },
    {
     "name": "stdout",
     "output_type": "stream",
     "text": [
      "1 apoptosis_unshuffled_validation_df L 06 12 2551 1356 1654\n",
      "2 apoptosis_unshuffled_validation_df L 07 12 2459 1171 1694\n",
      "3 apoptosis_unshuffled_validation_df K 07 16 982 1911 484\n",
      "4 apoptosis_unshuffled_validation_df L 07 11 999 1934 630\n",
      "5 apoptosis_unshuffled_validation_df E 07 2 830 1238 491\n"
     ]
    },
    {
     "name": "stderr",
     "output_type": "stream",
     "text": [
      " 62%|██████▎   | 15/24 [00:23<00:18,  2.01s/it]"
     ]
    },
    {
     "name": "stdout",
     "output_type": "stream",
     "text": [
      "1 apoptosis_unshuffled_holdout_df E 06 16 2681 1791 1550\n",
      "2 apoptosis_unshuffled_holdout_df E 06 15 2621 884 1705\n",
      "3 apoptosis_unshuffled_holdout_df E 06 6 1747 1369 1527\n",
      "4 apoptosis_unshuffled_holdout_df E 06 13 1412 2128 820\n",
      "5 apoptosis_unshuffled_holdout_df E 06 14 2431 624 1494\n"
     ]
    },
    {
     "name": "stderr",
     "output_type": "stream",
     "text": [
      " 67%|██████▋   | 16/24 [00:27<00:20,  2.56s/it]"
     ]
    },
    {
     "name": "stdout",
     "output_type": "stream",
     "text": [
      "1 control_shuffled_train_df K 04 2 344 1837 484\n",
      "2 control_shuffled_train_df M 12 12 1302 45 917\n"
     ]
    },
    {
     "name": "stderr",
     "output_type": "stream",
     "text": [
      "/home/lippincm/miniconda3/envs/Interstellar/lib/python3.10/site-packages/tifffile/tifffile.py:2181: UserWarning: <tifffile.TiffWriter 'control_shuffled…rop_cell_1.tiff'> writing zero-size array to nonconformant TIFF\n",
      "  warnings.warn(\n"
     ]
    },
    {
     "name": "stdout",
     "output_type": "stream",
     "text": [
      "3 control_shuffled_train_df O 03 14 3115 1520 1889\n",
      "4 control_shuffled_train_df K 10 11 1315 1212 1006\n",
      "5 control_shuffled_train_df K 10 12 1366 1290 1085\n"
     ]
    },
    {
     "name": "stderr",
     "output_type": "stream",
     "text": [
      " 71%|███████   | 17/24 [00:28<00:15,  2.21s/it]"
     ]
    },
    {
     "name": "stdout",
     "output_type": "stream",
     "text": [
      "1 control_shuffled_test_df E 04 4 1201 1517 1010\n",
      "2 control_shuffled_test_df C 12 9 3160 1717 1501\n",
      "3 control_shuffled_test_df O 03 7 2623 1942 1841\n",
      "4 control_shuffled_test_df C 06 1 45 1663 39\n"
     ]
    },
    {
     "name": "stderr",
     "output_type": "stream",
     "text": [
      "/home/lippincm/miniconda3/envs/Interstellar/lib/python3.10/site-packages/tifffile/tifffile.py:2181: UserWarning: <tifffile.TiffWriter 'control_shuffle…crop_cell_3.tiff'> writing zero-size array to nonconformant TIFF\n",
      "  warnings.warn(\n"
     ]
    },
    {
     "name": "stdout",
     "output_type": "stream",
     "text": [
      "5 control_shuffled_test_df O 02 7 2915 887 2088\n"
     ]
    },
    {
     "name": "stderr",
     "output_type": "stream",
     "text": [
      " 75%|███████▌  | 18/24 [00:32<00:15,  2.67s/it]"
     ]
    },
    {
     "name": "stdout",
     "output_type": "stream",
     "text": [
      "1 control_shuffled_validation_df G 12 10 1689 446 816\n",
      "2 control_shuffled_validation_df H 10 4 787 1877 547\n",
      "3 control_shuffled_validation_df J 12 8 41 1492 28\n"
     ]
    },
    {
     "name": "stderr",
     "output_type": "stream",
     "text": [
      "/home/lippincm/miniconda3/envs/Interstellar/lib/python3.10/site-packages/tifffile/tifffile.py:2181: UserWarning: <tifffile.TiffWriter 'control_shuffle…crop_cell_2.tiff'> writing zero-size array to nonconformant TIFF\n",
      "  warnings.warn(\n"
     ]
    },
    {
     "name": "stdout",
     "output_type": "stream",
     "text": [
      "4 control_shuffled_validation_df L 12 9 1793 1902 970\n",
      "5 control_shuffled_validation_df K 12 13 3486 1828 1932\n"
     ]
    },
    {
     "name": "stderr",
     "output_type": "stream",
     "text": [
      " 79%|███████▉  | 19/24 [00:33<00:11,  2.35s/it]"
     ]
    },
    {
     "name": "stdout",
     "output_type": "stream",
     "text": [
      "1 control_shuffled_holdout_df O 08 10 1680 86 970\n",
      "2 control_shuffled_holdout_df M 05 15 3937 844 2064\n",
      "3 control_shuffled_holdout_df M 05 11 1663 1071 1209\n",
      "4 control_shuffled_holdout_df N 12 1 188 1935 106\n",
      "5 control_shuffled_holdout_df O 05 3 1529 1719 766\n"
     ]
    },
    {
     "name": "stderr",
     "output_type": "stream",
     "text": [
      " 83%|████████▎ | 20/24 [00:36<00:09,  2.44s/it]"
     ]
    },
    {
     "name": "stdout",
     "output_type": "stream",
     "text": [
      "1 control_unshuffled_train_df I 12 2 3930 67 2133\n",
      "2 control_unshuffled_train_df O 09 9 2137 742 1312\n",
      "3 control_unshuffled_train_df G 06 7 156 1315 100\n",
      "4 control_unshuffled_train_df I 04 15 2791 61 1328\n",
      "5 control_unshuffled_train_df J 12 9 356 1617 188\n"
     ]
    },
    {
     "name": "stderr",
     "output_type": "stream",
     "text": [
      " 88%|████████▊ | 21/24 [00:39<00:07,  2.63s/it]"
     ]
    },
    {
     "name": "stdout",
     "output_type": "stream",
     "text": [
      "1 control_unshuffled_test_df H 10 8 11 858 19\n"
     ]
    },
    {
     "name": "stderr",
     "output_type": "stream",
     "text": [
      "/home/lippincm/miniconda3/envs/Interstellar/lib/python3.10/site-packages/tifffile/tifffile.py:2181: UserWarning: <tifffile.TiffWriter 'control_unshuff…crop_cell_0.tiff'> writing zero-size array to nonconformant TIFF\n",
      "  warnings.warn(\n"
     ]
    },
    {
     "name": "stdout",
     "output_type": "stream",
     "text": [
      "2 control_unshuffled_test_df K 10 13 61 1022 39\n"
     ]
    },
    {
     "name": "stderr",
     "output_type": "stream",
     "text": [
      "/home/lippincm/miniconda3/envs/Interstellar/lib/python3.10/site-packages/tifffile/tifffile.py:2181: UserWarning: <tifffile.TiffWriter 'control_unshuff…crop_cell_1.tiff'> writing zero-size array to nonconformant TIFF\n",
      "  warnings.warn(\n"
     ]
    },
    {
     "name": "stdout",
     "output_type": "stream",
     "text": [
      "3 control_unshuffled_test_df F 04 5 2057 124 976\n",
      "4 control_unshuffled_test_df F 12 12 1389 1527 880\n",
      "5 control_unshuffled_test_df H 10 11 8 962 11\n"
     ]
    },
    {
     "name": "stderr",
     "output_type": "stream",
     "text": [
      "/home/lippincm/miniconda3/envs/Interstellar/lib/python3.10/site-packages/tifffile/tifffile.py:2181: UserWarning: <tifffile.TiffWriter 'control_unshuff…crop_cell_4.tiff'> writing zero-size array to nonconformant TIFF\n",
      "  warnings.warn(\n",
      " 92%|█████████▏| 22/24 [00:46<00:07,  3.95s/it]"
     ]
    },
    {
     "name": "stdout",
     "output_type": "stream",
     "text": [
      "1 control_unshuffled_validation_df I 02 7 1704 44 1420\n"
     ]
    },
    {
     "name": "stderr",
     "output_type": "stream",
     "text": [
      "/home/lippincm/miniconda3/envs/Interstellar/lib/python3.10/site-packages/tifffile/tifffile.py:2181: UserWarning: <tifffile.TiffWriter 'control_unshuff…crop_cell_0.tiff'> writing zero-size array to nonconformant TIFF\n",
      "  warnings.warn(\n"
     ]
    },
    {
     "name": "stdout",
     "output_type": "stream",
     "text": [
      "2 control_unshuffled_validation_df B 06 12 2976 852 2027\n",
      "3 control_unshuffled_validation_df O 02 16 1942 1379 1120\n",
      "4 control_unshuffled_validation_df I 12 11 620 836 1097\n",
      "5 control_unshuffled_validation_df E 11 15 3297 733 1452\n"
     ]
    },
    {
     "name": "stderr",
     "output_type": "stream",
     "text": [
      " 96%|█████████▌| 23/24 [00:52<00:04,  4.69s/it]"
     ]
    },
    {
     "name": "stdout",
     "output_type": "stream",
     "text": [
      "1 control_unshuffled_holdout_df G 07 10 1097 1002 579\n",
      "2 control_unshuffled_holdout_df N 12 7 2282 419 1243\n",
      "3 control_unshuffled_holdout_df L 04 14 468 595 328\n",
      "4 control_unshuffled_holdout_df I 06 9 3270 1832 1611\n",
      "5 control_unshuffled_holdout_df I 10 3 2006 1787 1066\n"
     ]
    },
    {
     "name": "stderr",
     "output_type": "stream",
     "text": [
      "100%|██████████| 24/24 [01:03<00:00,  2.63s/it]\n"
     ]
    }
   ],
   "source": [
    "for key in tqdm(dict_of_subset_dfs):\n",
    "    if len(dict_of_subset_dfs[key]) >= 1:\n",
    "        # loop through the dataframe\n",
    "        for cell in range(len(dict_of_subset_dfs[key])):\n",
    "            # get the first row of the dataframe\n",
    "            df = dict_of_subset_dfs[key].iloc[cell]\n",
    "            image_id = df[\"Metadata_ImageNumber\"]\n",
    "            fov_id = df[\"Metadata_Site\"].astype(str)\n",
    "            cell_id = df[\"Metadata_Cells_Number_Object_Number\"]\n",
    "            well_id = df[\"Metadata_Well\"]\n",
    "            row_id = well_id[0]\n",
    "            column_id = well_id[1:]\n",
    "            center_x = df[\"Metadata_Nuclei_Location_Center_X\"].astype(int)\n",
    "            center_y = df[\"Metadata_Nuclei_Location_Center_Y\"].astype(int)\n",
    "            # create a custom and contstant bounding box for the images\n",
    "            # this is made from the extracted center_x and center_y of the cell (nucleus)\n",
    "            min_x_box = center_x - radius\n",
    "            max_x_box = center_x + radius\n",
    "            min_y_box = center_y - radius\n",
    "            max_y_box = center_y + radius\n",
    "            print(cell + 1, key, row_id, column_id, fov_id, cell_id, center_x, center_y)\n",
    "\n",
    "            # create the image paths for each channel of the image\n",
    "            image_name1 = (\n",
    "                f\"r{well_dict[row_id]}c{column_id}f{fov_dict[fov_id]}{image_basename_1}\"\n",
    "            )\n",
    "            image_path1 = image_dir_path.joinpath(image_name1)\n",
    "\n",
    "            image_name2 = (\n",
    "                f\"r{well_dict[row_id]}c{column_id}f{fov_dict[fov_id]}{image_basename_2}\"\n",
    "            )\n",
    "            image_path2 = image_dir_path.joinpath(image_name2)\n",
    "\n",
    "            image_name3 = (\n",
    "                f\"r{well_dict[row_id]}c{column_id}f{fov_dict[fov_id]}{image_basename_3}\"\n",
    "            )\n",
    "            image_path3 = image_dir_path.joinpath(image_name3)\n",
    "\n",
    "            image_name4 = (\n",
    "                f\"r{well_dict[row_id]}c{column_id}f{fov_dict[fov_id]}{image_basename_4}\"\n",
    "            )\n",
    "            image_path4 = image_dir_path.joinpath(image_name4)\n",
    "\n",
    "            image_name5 = (\n",
    "                f\"r{well_dict[row_id]}c{column_id}f{fov_dict[fov_id]}{image_basename_5}\"\n",
    "            )\n",
    "            image_path5 = image_dir_path.joinpath(image_name5)\n",
    "\n",
    "            # crop all 5 channels of the image\n",
    "            im1 = cv2.imread(image_path1.as_posix(), cv2.IMREAD_GRAYSCALE)\n",
    "            # im_crop1 = im1[min_y_box:max_y_box, min_x_box:max_x_box]\n",
    "\n",
    "            im2 = cv2.imread(image_path2.as_posix(), cv2.IMREAD_GRAYSCALE)\n",
    "            # im_crop2 = im2[min_y_box:max_y_box, min_x_box:max_x_box]\n",
    "\n",
    "            im3 = cv2.imread(image_path3.as_posix(), cv2.IMREAD_GRAYSCALE)\n",
    "            # im_crop3 = im3[min_y_box:max_y_box, min_x_box:max_x_box]\n",
    "\n",
    "            im4 = cv2.imread(image_path4.as_posix(), cv2.IMREAD_GRAYSCALE)\n",
    "            # im_crop4 = im4[min_y_box:max_y_box, min_x_box:max_x_box]\n",
    "\n",
    "            im5 = cv2.imread(image_path5.as_posix(), cv2.IMREAD_GRAYSCALE)\n",
    "            # im_crop5 = im5[min_y_box:max_y_box, min_x_box:max_x_box]\n",
    "\n",
    "            ### channels ###\n",
    "            # * Channel 1: DAPI\n",
    "            # * Channel 2: ER\n",
    "            # * Channel 3: GasderminD\n",
    "            # * Channel 4: AGP (Actin, Golgi, and Plasma membrane)\n",
    "            # * Channel 5: Mitochondria\n",
    "\n",
    "            blue_channel_stack = np.stack(im1, axis=-1)\n",
    "            green_channel_stack = np.stack(im3, axis=-1)\n",
    "            red_channel_stack = np.stack(im4, axis=-1)\n",
    "\n",
    "            channel1 = \"im1\"\n",
    "            channel2 = \"im3\"\n",
    "            channel3 = \"im4\"\n",
    "\n",
    "            # Scale the pixel values to fit within the 16-bit range (0-65535)\n",
    "            blue_channel = (\n",
    "                blue_channel_stack / np.max(blue_channel_stack) * 65535\n",
    "            ).astype(np.uint16)\n",
    "            green_channel = (\n",
    "                green_channel_stack / np.max(green_channel_stack) * 65535\n",
    "            ).astype(np.uint16)\n",
    "            red_channel = (\n",
    "                red_channel_stack / np.max(red_channel_stack) * 65535\n",
    "            ).astype(np.uint16)\n",
    "            composite_image = cv2.merge(\n",
    "                (blue_channel, green_channel, red_channel)\n",
    "            ).astype(np.uint16)\n",
    "            composite_image = cv2.cvtColor(composite_image, cv2.COLOR_BGR2RGB)\n",
    "\n",
    "            # transformations of the image to fix the orientation post pixel scaling\n",
    "            # flip the image vertically\n",
    "            composite_image = cv2.flip(composite_image, 0)\n",
    "            # rotate the image 90 degrees clockwise\n",
    "            composite_image = cv2.rotate(composite_image, cv2.ROTATE_90_CLOCKWISE)\n",
    "            im_crop = composite_image[min_y_box:max_y_box, min_x_box:max_x_box]\n",
    "\n",
    "            # image_out_dir_path updated to include the feature name\n",
    "            # write images\n",
    "            tf.imwrite(\n",
    "                pathlib.Path(\n",
    "                    f\"{image_out_dir_path}/{key}_{channel1}_{channel2}_{channel3}_composite_image_cell_{cell}.tiff\"\n",
    "                ),\n",
    "                composite_image,\n",
    "                compression=None,\n",
    "            )\n",
    "            tf.imwrite(\n",
    "                pathlib.Path(\n",
    "                    f\"{image_out_dir_path}/{key}_{channel1}_{channel2}_{channel3}_composite_image_crop_cell_{cell}.tiff\"\n",
    "                ),\n",
    "                im_crop,\n",
    "                compression=None,\n",
    "            )\n",
    "            df = df.to_frame().T\n",
    "            df[\n",
    "                \"image_path\"\n",
    "            ] = f\"{image_out_dir_path}/{key}_{channel1}_{channel2}_{channel3}_composite_image_crop_cell_{cell}.tiff\"\n",
    "            df[\n",
    "                \"image_crop_path\"\n",
    "            ] = f\"{image_out_dir_path}/{key}_{channel1}_{channel2}_{channel3}_composite_image_crop_cell_{cell}.tiff\"\n",
    "            main_df = pd.concat([main_df, df], ignore_index=True)"
   ]
  },
  {
   "cell_type": "code",
   "execution_count": 15,
   "metadata": {},
   "outputs": [],
   "source": [
    "# define main_df_path\n",
    "main_df_path = pathlib.Path(f\"../results/{CELL_TYPE}/\")\n",
    "# if path does not exist, create it\n",
    "main_df_path.mkdir(parents=True, exist_ok=True)\n",
    "# save the dataframe\n",
    "main_df.to_parquet(f\"{main_df_path}/single_cell_predictions.parquet\")"
   ]
  }
 ],
 "metadata": {
  "kernelspec": {
   "display_name": "Interstellar",
   "language": "python",
   "name": "python3"
  },
  "language_info": {
   "codemirror_mode": {
    "name": "ipython",
    "version": 3
   },
   "file_extension": ".py",
   "mimetype": "text/x-python",
   "name": "python",
   "nbconvert_exporter": "python",
   "pygments_lexer": "ipython3",
   "version": "3.10.12"
  }
 },
 "nbformat": 4,
 "nbformat_minor": 2
}
