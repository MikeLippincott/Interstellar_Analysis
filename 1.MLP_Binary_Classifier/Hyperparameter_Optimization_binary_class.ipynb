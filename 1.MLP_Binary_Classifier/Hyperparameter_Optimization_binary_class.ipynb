{
 "cells": [
  {
   "cell_type": "markdown",
   "id": "35633c12",
   "metadata": {},
   "source": [
    "## Hyperparameter tuning via Optuna for Binary MLP model"
   ]
  },
  {
   "cell_type": "markdown",
   "id": "171444ad",
   "metadata": {},
   "source": [
    "### Being a binary model this notebook will be limited to predicting one class 1 or 0, yes or no.\n",
    "### Here I will be predicting if a cell received a treatment or not"
   ]
  },
  {
   "cell_type": "code",
   "execution_count": 1,
   "id": "2aa0306d",
   "metadata": {
    "lines_to_next_cell": 2
   },
   "outputs": [],
   "source": [
    "import sys\n",
    "from pathlib import Path\n",
    "\n",
    "import matplotlib.pyplot as plt\n",
    "import numpy as np\n",
    "import optuna\n",
    "import pandas as pd\n",
    "import plotly\n",
    "import seaborn as sns\n",
    "import torch\n",
    "import torch.nn as nn\n",
    "import torch.optim as optim\n",
    "from sklearn import preprocessing\n",
    "\n",
    "from sklearn.model_selection import train_test_split\n",
    "\n",
    "sys.path.append(\"..\")\n",
    "from MLP_utils.parameters import Parameters\n",
    "\n",
    "\n",
    "from MLP_utils.utils import (\n",
    "    Dataset_formatter,\n",
    "    data_split,\n",
    "    extract_best_trial_params,\n",
    "    objective_model_optimizer,\n",
    "    optimized_model_create,\n",
    "    plot_metric_vs_epoch,\n",
    "    results_output,\n",
    "    test_optimized_model,\n",
    "    train_optimized_model,\n",
    "    un_nest,\n",
    ")\n",
    "\n",
    "from utils.utils import df_stats\n",
    "from MLP_utils.utils import parameter_set\n",
    "from configparser import ConfigParser"
   ]
  },
  {
   "cell_type": "code",
   "execution_count": 2,
   "id": "5549d52b",
   "metadata": {},
   "outputs": [],
   "source": [
    "# Import Data\n",
    "# set data file path under pathlib path for multi-system use\n",
    "file_path = Path(\n",
    "    \"../../Extracted_Features_(CSV_files)/interstellar_wave3_sc_norm_fs_cellprofiler.csv.gz\"\n",
    ")\n",
    "df = pd.read_csv(\n",
    "    file_path,\n",
    "    low_memory=False,\n",
    ")"
   ]
  },
  {
   "cell_type": "code",
   "execution_count": 3,
   "id": "9230d197",
   "metadata": {},
   "outputs": [
    {
     "data": {
      "text/plain": [
       "1500"
      ]
     },
     "execution_count": 3,
     "metadata": {},
     "output_type": "execute_result"
    }
   ],
   "source": [
    "config = ConfigParser()\n",
    "config.optionxform = str\n",
    "config.read(\"MLP_utils/config.ini\")\n",
    "\n",
    "\n",
    "params = Parameters()\n",
    "\n",
    "params = parameter_set(params, config)\n",
    "int(params.DATA_SUBSET_NUMBER)"
   ]
  },
  {
   "cell_type": "code",
   "execution_count": 4,
   "id": "b6682c96",
   "metadata": {},
   "outputs": [
    {
     "name": "stdout",
     "output_type": "stream",
     "text": [
      "['LPS_10µg/ml' 'Disulfiram_2.5µM' 'LPS_1µg/ml' 'Disulfiram_0.1µM'\n",
      " 'H2O2_500µM' 'Thapsi_10µM' 'H2O2_50µM' 'Thapsi_1µM' 'ATP_1mM'\n",
      " 'LPS + Nigericin_1µg/ml + 10µM' 'ATP_0.1mM'\n",
      " 'LPS + Nigericin_1µg/ml + 1µM' 'Flagellin_1µg/ml' 'DMSO 0.1%_0'\n",
      " 'Flagellin_0.1µg/ml' 'Media only_0']\n",
      "['LPS_10µg/ml' 'Media only_0']\n",
      "The dimensions of the data are: (36718, 569)\n",
      "Number of total missing values across all columns: 470\n",
      "The dimensions of the data are: (36589, 569)\n",
      "Number of total missing values across all columns: 0\n",
      "False\n",
      "1500\n"
     ]
    }
   ],
   "source": [
    "# Combine treatment with dosage to be able to discern treatments with different doses as a different condition\n",
    "# Combine treatment and dose\n",
    "df = df.assign(\n",
    "    Metadata_Treatment_and_Dose=lambda x: df[\"Metadata_treatment\"]\n",
    "    + \"_\"\n",
    "    + df[\"Metadata_dose\"]\n",
    ")\n",
    "\n",
    "# df[\"Metadata_treatment\"] = df[\"Metadata_treatment\"] + \"_\" + df[\"Metadata_dose\"]\n",
    "print(df[\"Metadata_Treatment_and_Dose\"].unique())\n",
    "\n",
    "# Generate df speceific to analysis and model\n",
    "df = df.query(\n",
    "    \"Metadata_Treatment_and_Dose == 'LPS_10µg/ml'| Metadata_Treatment_and_Dose == 'Media only_0'\"\n",
    ")\n",
    "print(df[\"Metadata_Treatment_and_Dose\"].unique())\n",
    "\n",
    "df_stats(df)\n",
    "# Drop na and reindex accordingly\n",
    "df = df.dropna()\n",
    "df = df.reset_index(drop=True)\n",
    "\n",
    "# Check for Nans again\n",
    "df_stats(df)\n",
    "# Understand categorical data such as treatment and dosing\n",
    "df[[\"Metadata_Treatment_and_Dose\"]].drop_duplicates()\n",
    "print(params.DATA_SUBSET_OPTION)\n",
    "print(params.DATA_SUBSET_NUMBER)\n",
    "if params.DATA_SUBSET_OPTION:\n",
    "    df = df.sample(n=params.DATA_SUBSET_NUMBER)\n",
    "else:\n",
    "    pass\n",
    "\n",
    "# Code snippet for metadata extraction by Jenna Tomkinson\n",
    "df_metadata = list(df.columns[df.columns.str.startswith(\"Metadata\")])\n",
    "\n",
    "# define which columns are data and which are descriptive\n",
    "df_descriptive = df[df_metadata]\n",
    "df_values = df.drop(columns=df_metadata)"
   ]
  },
  {
   "cell_type": "markdown",
   "id": "3c31370d",
   "metadata": {},
   "source": [
    " ### Setting up data for network training"
   ]
  },
  {
   "cell_type": "code",
   "execution_count": null,
   "id": "e9aaad6a",
   "metadata": {},
   "outputs": [],
   "source": []
  },
  {
   "cell_type": "code",
   "execution_count": 5,
   "id": "e4146d56",
   "metadata": {
    "lines_to_next_cell": 2
   },
   "outputs": [],
   "source": [
    "# Creating label encoder\n",
    "le = preprocessing.LabelEncoder()\n",
    "# Converting strings into numbers\n",
    "df_values[\"Metadata_Treatment_and_Dose\"] = le.fit_transform(\n",
    "    df_descriptive[\"Metadata_Treatment_and_Dose\"]\n",
    ")\n",
    "# split into X and Y where Y are the predictive column and x are the observable data\n",
    "df_values_X = df_values.drop(\"Metadata_Treatment_and_Dose\", axis=1)\n",
    "df_values_Y = df_values[\"Metadata_Treatment_and_Dose\"]\n",
    "\n",
    "df_values_X.head()\n",
    "\n",
    "X_train, X_test, X_val, Y_train, Y_test, Y_val = data_split(\n",
    "    X_vals=df_values_X,\n",
    "    y_vals=df_values_Y,\n",
    "    train=0.8,\n",
    "    val=0.1,\n",
    "    test=0.1,\n",
    "    seed=1,\n",
    ")"
   ]
  },
  {
   "cell_type": "code",
   "execution_count": 6,
   "id": "cdcfd00e",
   "metadata": {
    "lines_to_next_cell": 2
   },
   "outputs": [
    {
     "name": "stdout",
     "output_type": "stream",
     "text": [
      "Number of in features:  555\n",
      "Number of out features:  1\n"
     ]
    }
   ],
   "source": [
    "# produce data objects for train, val and test datasets\n",
    "train_data = Dataset_formatter(\n",
    "    torch.FloatTensor(X_train.values), torch.FloatTensor(Y_train.values)\n",
    ")\n",
    "val_data = Dataset_formatter(\n",
    "    torch.FloatTensor(X_val.values), torch.FloatTensor(Y_val.values)\n",
    ")\n",
    "test_data = Dataset_formatter(\n",
    "    torch.FloatTensor(X_test.values), torch.FloatTensor(Y_test.values)\n",
    ")\n",
    "\n",
    "IN_FEATURES = X_train.shape[1]\n",
    "print(\"Number of in features: \", IN_FEATURES)\n",
    "OUT_FEATURES = len(df_values[\"Metadata_Treatment_and_Dose\"].unique()) - 1\n",
    "print(\"Number of out features: \", OUT_FEATURES)"
   ]
  },
  {
   "cell_type": "code",
   "execution_count": 7,
   "id": "4d2cee70",
   "metadata": {
    "lines_to_next_cell": 2
   },
   "outputs": [],
   "source": [
    "# convert data class into a dataloader to be compatible with pytorch\n",
    "train_loader = torch.utils.data.DataLoader(\n",
    "    dataset=train_data, batch_size=params.BATCH_SIZE\n",
    ")\n",
    "valid_loader = torch.utils.data.DataLoader(\n",
    "    dataset=val_data, batch_size=params.BATCH_SIZE\n",
    ")\n",
    "test_loader = torch.utils.data.DataLoader(\n",
    "    dataset=test_data, batch_size=params.BATCH_SIZE\n",
    ")"
   ]
  },
  {
   "cell_type": "code",
   "execution_count": 8,
   "id": "5ceef247",
   "metadata": {
    "lines_to_next_cell": 2
   },
   "outputs": [
    {
     "name": "stderr",
     "output_type": "stream",
     "text": [
      "\u001b[32m[I 2023-03-21 21:24:17,757]\u001b[0m A new study created in memory with name: no-name-77bc4bf3-2fb9-44db-92e8-51f6b41ad53b\u001b[0m\n",
      "\u001b[32m[I 2023-03-21 21:24:20,435]\u001b[0m Trial 0 finished with value: 0.5232969743013381 and parameters: {'n_layers': 1, 'n_units_l0': 21, 'dropout_0': 0.4124982308708951, 'learning_rate': 0.06325639166765291, 'optimizer': 'SGD'}. Best is trial 0 with value: 0.5232969743013381.\u001b[0m\n",
      "\u001b[32m[I 2023-03-21 21:24:21,838]\u001b[0m Trial 1 finished with value: 0.8837523663043976 and parameters: {'n_layers': 6, 'n_units_l0': 36, 'dropout_0': 0.32798069982366884, 'n_units_l1': 34, 'dropout_1': 0.28759355688448507, 'n_units_l2': 15, 'dropout_2': 0.3411835542853495, 'n_units_l3': 50, 'dropout_3': 0.23540554818345966, 'n_units_l4': 41, 'dropout_4': 0.3423348302357019, 'n_units_l5': 14, 'dropout_5': 0.2057856800243669, 'learning_rate': 0.009070702288717519, 'optimizer': 'Adam'}. Best is trial 0 with value: 0.5232969743013381.\u001b[0m\n",
      "\u001b[32m[I 2023-03-21 21:24:23,287]\u001b[0m Trial 2 finished with value: 0.6932808071374893 and parameters: {'n_layers': 6, 'n_units_l0': 35, 'dropout_0': 0.16782371769531562, 'n_units_l1': 45, 'dropout_1': 0.15667143504724856, 'n_units_l2': 50, 'dropout_2': 0.21070798989753056, 'n_units_l3': 2, 'dropout_3': 0.4378759499764777, 'n_units_l4': 7, 'dropout_4': 0.37268520317857146, 'n_units_l5': 24, 'dropout_5': 0.12495039318604811, 'learning_rate': 0.011244427795986065, 'optimizer': 'RMSprop'}. Best is trial 0 with value: 0.5232969743013381.\u001b[0m\n",
      "\u001b[32m[I 2023-03-21 21:24:24,550]\u001b[0m Trial 3 finished with value: 40.210106093287465 and parameters: {'n_layers': 3, 'n_units_l0': 50, 'dropout_0': 0.4054942091966177, 'n_units_l1': 43, 'dropout_1': 0.4428257084032555, 'n_units_l2': 23, 'dropout_2': 0.48897252524031953, 'learning_rate': 0.04820415550016471, 'optimizer': 'RMSprop'}. Best is trial 0 with value: 0.5232969743013381.\u001b[0m\n",
      "\u001b[32m[I 2023-03-21 21:24:25,576]\u001b[0m Trial 4 finished with value: 0.5198828405141831 and parameters: {'n_layers': 1, 'n_units_l0': 41, 'dropout_0': 0.13176650363122364, 'learning_rate': 0.09585458092001035, 'optimizer': 'SGD'}. Best is trial 4 with value: 0.5198828405141831.\u001b[0m\n",
      "\u001b[32m[I 2023-03-21 21:24:25,646]\u001b[0m Trial 5 pruned. \u001b[0m\n",
      "\u001b[32m[I 2023-03-21 21:24:25,666]\u001b[0m Trial 6 pruned. \u001b[0m\n",
      "\u001b[32m[I 2023-03-21 21:24:25,684]\u001b[0m Trial 7 pruned. \u001b[0m\n",
      "\u001b[32m[I 2023-03-21 21:24:25,698]\u001b[0m Trial 8 pruned. \u001b[0m\n",
      "\u001b[32m[I 2023-03-21 21:24:25,718]\u001b[0m Trial 9 pruned. \u001b[0m\n",
      "\u001b[32m[I 2023-03-21 21:24:25,760]\u001b[0m Trial 10 pruned. \u001b[0m\n",
      "\u001b[32m[I 2023-03-21 21:24:25,838]\u001b[0m Trial 11 pruned. \u001b[0m\n",
      "\u001b[32m[I 2023-03-21 21:24:26,905]\u001b[0m Trial 12 finished with value: 0.520734215080738 and parameters: {'n_layers': 1, 'n_units_l0': 26, 'dropout_0': 0.2780605713116859, 'learning_rate': 0.0773579572253152, 'optimizer': 'SGD'}. Best is trial 4 with value: 0.5198828405141831.\u001b[0m\n",
      "\u001b[32m[I 2023-03-21 21:24:26,942]\u001b[0m Trial 13 pruned. \u001b[0m\n",
      "\u001b[32m[I 2023-03-21 21:24:28,026]\u001b[0m Trial 14 finished with value: 0.5130240088701248 and parameters: {'n_layers': 1, 'n_units_l0': 28, 'dropout_0': 0.2720601561060128, 'learning_rate': 0.09967061256526706, 'optimizer': 'SGD'}. Best is trial 14 with value: 0.5130240088701248.\u001b[0m\n",
      "\u001b[32m[I 2023-03-21 21:24:28,095]\u001b[0m Trial 15 pruned. \u001b[0m\n",
      "\u001b[32m[I 2023-03-21 21:24:28,134]\u001b[0m Trial 16 pruned. \u001b[0m\n",
      "\u001b[32m[I 2023-03-21 21:24:28,167]\u001b[0m Trial 17 pruned. \u001b[0m\n",
      "\u001b[32m[I 2023-03-21 21:24:28,212]\u001b[0m Trial 18 pruned. \u001b[0m\n",
      "\u001b[32m[I 2023-03-21 21:24:28,244]\u001b[0m Trial 19 pruned. \u001b[0m\n",
      "\u001b[32m[I 2023-03-21 21:24:28,313]\u001b[0m Trial 20 pruned. \u001b[0m\n",
      "\u001b[32m[I 2023-03-21 21:24:29,525]\u001b[0m Trial 21 finished with value: 0.4982123538851738 and parameters: {'n_layers': 1, 'n_units_l0': 24, 'dropout_0': 0.2659620635454287, 'learning_rate': 0.07731086825909483, 'optimizer': 'SGD'}. Best is trial 21 with value: 0.4982123538851738.\u001b[0m\n",
      "\u001b[32m[I 2023-03-21 21:24:29,552]\u001b[0m Trial 22 pruned. \u001b[0m\n",
      "\u001b[32m[I 2023-03-21 21:24:29,585]\u001b[0m Trial 23 pruned. \u001b[0m\n",
      "\u001b[32m[I 2023-03-21 21:24:29,633]\u001b[0m Trial 24 pruned. \u001b[0m\n",
      "\u001b[32m[I 2023-03-21 21:24:30,728]\u001b[0m Trial 25 finished with value: 0.5006456366181373 and parameters: {'n_layers': 1, 'n_units_l0': 30, 'dropout_0': 0.3027891981163409, 'learning_rate': 0.08903628573355815, 'optimizer': 'SGD'}. Best is trial 21 with value: 0.4982123538851738.\u001b[0m\n",
      "\u001b[32m[I 2023-03-21 21:24:30,762]\u001b[0m Trial 26 pruned. \u001b[0m\n",
      "\u001b[32m[I 2023-03-21 21:24:30,804]\u001b[0m Trial 27 pruned. \u001b[0m\n",
      "\u001b[32m[I 2023-03-21 21:24:30,889]\u001b[0m Trial 28 pruned. \u001b[0m\n",
      "\u001b[32m[I 2023-03-21 21:24:30,920]\u001b[0m Trial 29 pruned. \u001b[0m\n",
      "\u001b[32m[I 2023-03-21 21:24:30,946]\u001b[0m Trial 30 pruned. \u001b[0m\n",
      "\u001b[32m[I 2023-03-21 21:24:30,973]\u001b[0m Trial 31 pruned. \u001b[0m\n",
      "\u001b[32m[I 2023-03-21 21:24:31,008]\u001b[0m Trial 32 pruned. \u001b[0m\n",
      "\u001b[32m[I 2023-03-21 21:24:31,035]\u001b[0m Trial 33 pruned. \u001b[0m\n",
      "\u001b[32m[I 2023-03-21 21:24:31,076]\u001b[0m Trial 34 pruned. \u001b[0m\n",
      "\u001b[32m[I 2023-03-21 21:24:31,111]\u001b[0m Trial 35 pruned. \u001b[0m\n",
      "\u001b[32m[I 2023-03-21 21:24:31,166]\u001b[0m Trial 36 pruned. \u001b[0m\n",
      "\u001b[32m[I 2023-03-21 21:24:32,334]\u001b[0m Trial 37 finished with value: 0.5165071150660515 and parameters: {'n_layers': 1, 'n_units_l0': 28, 'dropout_0': 0.256662616902114, 'learning_rate': 0.09417815179510056, 'optimizer': 'SGD'}. Best is trial 21 with value: 0.4982123538851738.\u001b[0m\n",
      "\u001b[32m[I 2023-03-21 21:24:32,361]\u001b[0m Trial 38 pruned. \u001b[0m\n",
      "\u001b[32m[I 2023-03-21 21:24:32,397]\u001b[0m Trial 39 pruned. \u001b[0m\n",
      "\u001b[32m[I 2023-03-21 21:24:32,438]\u001b[0m Trial 40 pruned. \u001b[0m\n",
      "\u001b[32m[I 2023-03-21 21:24:33,602]\u001b[0m Trial 41 finished with value: 0.49530065834522247 and parameters: {'n_layers': 1, 'n_units_l0': 32, 'dropout_0': 0.21884691286053165, 'learning_rate': 0.08589959716493809, 'optimizer': 'SGD'}. Best is trial 41 with value: 0.49530065834522247.\u001b[0m\n",
      "\u001b[32m[I 2023-03-21 21:24:34,673]\u001b[0m Trial 42 finished with value: 0.5097502890229225 and parameters: {'n_layers': 1, 'n_units_l0': 31, 'dropout_0': 0.24606843794934105, 'learning_rate': 0.08638554327155519, 'optimizer': 'SGD'}. Best is trial 41 with value: 0.49530065834522247.\u001b[0m\n",
      "\u001b[32m[I 2023-03-21 21:24:34,701]\u001b[0m Trial 43 pruned. \u001b[0m\n",
      "\u001b[32m[I 2023-03-21 21:24:34,744]\u001b[0m Trial 44 pruned. \u001b[0m\n",
      "\u001b[32m[I 2023-03-21 21:24:34,793]\u001b[0m Trial 45 pruned. \u001b[0m\n",
      "\u001b[32m[I 2023-03-21 21:24:34,827]\u001b[0m Trial 46 pruned. \u001b[0m\n",
      "\u001b[32m[I 2023-03-21 21:24:35,066]\u001b[0m Trial 47 pruned. \u001b[0m\n",
      "\u001b[32m[I 2023-03-21 21:24:35,118]\u001b[0m Trial 48 pruned. \u001b[0m\n",
      "\u001b[32m[I 2023-03-21 21:24:35,161]\u001b[0m Trial 49 pruned. \u001b[0m\n"
     ]
    },
    {
     "name": "stdout",
     "output_type": "stream",
     "text": [
      "Validation Accuracy: 74.98666666666668\n",
      "Validation Loss: 0.5044769120216369\n",
      "Training Accuracy: 78.85666666666665\n",
      "Training Loss: 0.38016331862658265\n"
     ]
    }
   ],
   "source": [
    "# wrap the objective function inside of a lambda function to pass args...\n",
    "objective_lambda_func = lambda trial: objective_model_optimizer(\n",
    "    train_loader,\n",
    "    valid_loader,\n",
    "    trial=trial,\n",
    "    in_features=IN_FEATURES,\n",
    "    out_features=OUT_FEATURES,\n",
    "    params=params,\n",
    "    metric=\"loss\",\n",
    "    return_info=False,\n",
    ")\n",
    "# Study is the object for model optimization\n",
    "study = optuna.create_study(direction=\"minimize\")\n",
    "# Here I apply the optimize function of the study to the objective function\n",
    "# This optimizes each parameter specified to be optimized from the defined search space\n",
    "study.optimize(objective_lambda_func, n_trials=params.N_TRIALS)\n",
    "# Prints out the best trial's optimized parameters\n",
    "objective_model_optimizer(\n",
    "    train_loader,\n",
    "    valid_loader,\n",
    "    trial=study.best_trial,\n",
    "    in_features=IN_FEATURES,\n",
    "    out_features=OUT_FEATURES,\n",
    "    params=params,\n",
    "    metric=\"loss\",\n",
    "    return_info=True,\n",
    ")"
   ]
  },
  {
   "cell_type": "code",
   "execution_count": 9,
   "id": "30756fe3",
   "metadata": {
    "lines_to_next_cell": 2
   },
   "outputs": [
    {
     "data": {
      "application/vnd.plotly.v1+json": {
       "config": {
        "plotlyServerURL": "https://plot.ly"
       },
       "data": [
        {
         "mode": "markers",
         "name": "Objective Value",
         "type": "scatter",
         "x": [
          0,
          1,
          2,
          3,
          4,
          12,
          14,
          21,
          25,
          37,
          41,
          42
         ],
         "y": [
          0.5232969743013381,
          0.8837523663043976,
          0.6932808071374893,
          40.210106093287465,
          0.5198828405141831,
          0.520734215080738,
          0.5130240088701248,
          0.4982123538851738,
          0.5006456366181373,
          0.5165071150660515,
          0.49530065834522247,
          0.5097502890229225
         ]
        },
        {
         "name": "Best Value",
         "type": "scatter",
         "x": [
          0,
          1,
          2,
          3,
          4,
          12,
          14,
          21,
          25,
          37,
          41,
          42
         ],
         "y": [
          0.5232969743013381,
          0.5232969743013381,
          0.5232969743013381,
          0.5232969743013381,
          0.5198828405141831,
          0.5198828405141831,
          0.5130240088701248,
          0.4982123538851738,
          0.4982123538851738,
          0.4982123538851738,
          0.49530065834522247,
          0.49530065834522247
         ]
        }
       ],
       "layout": {
        "template": {
         "data": {
          "bar": [
           {
            "error_x": {
             "color": "#2a3f5f"
            },
            "error_y": {
             "color": "#2a3f5f"
            },
            "marker": {
             "line": {
              "color": "#E5ECF6",
              "width": 0.5
             },
             "pattern": {
              "fillmode": "overlay",
              "size": 10,
              "solidity": 0.2
             }
            },
            "type": "bar"
           }
          ],
          "barpolar": [
           {
            "marker": {
             "line": {
              "color": "#E5ECF6",
              "width": 0.5
             },
             "pattern": {
              "fillmode": "overlay",
              "size": 10,
              "solidity": 0.2
             }
            },
            "type": "barpolar"
           }
          ],
          "carpet": [
           {
            "aaxis": {
             "endlinecolor": "#2a3f5f",
             "gridcolor": "white",
             "linecolor": "white",
             "minorgridcolor": "white",
             "startlinecolor": "#2a3f5f"
            },
            "baxis": {
             "endlinecolor": "#2a3f5f",
             "gridcolor": "white",
             "linecolor": "white",
             "minorgridcolor": "white",
             "startlinecolor": "#2a3f5f"
            },
            "type": "carpet"
           }
          ],
          "choropleth": [
           {
            "colorbar": {
             "outlinewidth": 0,
             "ticks": ""
            },
            "type": "choropleth"
           }
          ],
          "contour": [
           {
            "colorbar": {
             "outlinewidth": 0,
             "ticks": ""
            },
            "colorscale": [
             [
              0,
              "#0d0887"
             ],
             [
              0.1111111111111111,
              "#46039f"
             ],
             [
              0.2222222222222222,
              "#7201a8"
             ],
             [
              0.3333333333333333,
              "#9c179e"
             ],
             [
              0.4444444444444444,
              "#bd3786"
             ],
             [
              0.5555555555555556,
              "#d8576b"
             ],
             [
              0.6666666666666666,
              "#ed7953"
             ],
             [
              0.7777777777777778,
              "#fb9f3a"
             ],
             [
              0.8888888888888888,
              "#fdca26"
             ],
             [
              1,
              "#f0f921"
             ]
            ],
            "type": "contour"
           }
          ],
          "contourcarpet": [
           {
            "colorbar": {
             "outlinewidth": 0,
             "ticks": ""
            },
            "type": "contourcarpet"
           }
          ],
          "heatmap": [
           {
            "colorbar": {
             "outlinewidth": 0,
             "ticks": ""
            },
            "colorscale": [
             [
              0,
              "#0d0887"
             ],
             [
              0.1111111111111111,
              "#46039f"
             ],
             [
              0.2222222222222222,
              "#7201a8"
             ],
             [
              0.3333333333333333,
              "#9c179e"
             ],
             [
              0.4444444444444444,
              "#bd3786"
             ],
             [
              0.5555555555555556,
              "#d8576b"
             ],
             [
              0.6666666666666666,
              "#ed7953"
             ],
             [
              0.7777777777777778,
              "#fb9f3a"
             ],
             [
              0.8888888888888888,
              "#fdca26"
             ],
             [
              1,
              "#f0f921"
             ]
            ],
            "type": "heatmap"
           }
          ],
          "heatmapgl": [
           {
            "colorbar": {
             "outlinewidth": 0,
             "ticks": ""
            },
            "colorscale": [
             [
              0,
              "#0d0887"
             ],
             [
              0.1111111111111111,
              "#46039f"
             ],
             [
              0.2222222222222222,
              "#7201a8"
             ],
             [
              0.3333333333333333,
              "#9c179e"
             ],
             [
              0.4444444444444444,
              "#bd3786"
             ],
             [
              0.5555555555555556,
              "#d8576b"
             ],
             [
              0.6666666666666666,
              "#ed7953"
             ],
             [
              0.7777777777777778,
              "#fb9f3a"
             ],
             [
              0.8888888888888888,
              "#fdca26"
             ],
             [
              1,
              "#f0f921"
             ]
            ],
            "type": "heatmapgl"
           }
          ],
          "histogram": [
           {
            "marker": {
             "pattern": {
              "fillmode": "overlay",
              "size": 10,
              "solidity": 0.2
             }
            },
            "type": "histogram"
           }
          ],
          "histogram2d": [
           {
            "colorbar": {
             "outlinewidth": 0,
             "ticks": ""
            },
            "colorscale": [
             [
              0,
              "#0d0887"
             ],
             [
              0.1111111111111111,
              "#46039f"
             ],
             [
              0.2222222222222222,
              "#7201a8"
             ],
             [
              0.3333333333333333,
              "#9c179e"
             ],
             [
              0.4444444444444444,
              "#bd3786"
             ],
             [
              0.5555555555555556,
              "#d8576b"
             ],
             [
              0.6666666666666666,
              "#ed7953"
             ],
             [
              0.7777777777777778,
              "#fb9f3a"
             ],
             [
              0.8888888888888888,
              "#fdca26"
             ],
             [
              1,
              "#f0f921"
             ]
            ],
            "type": "histogram2d"
           }
          ],
          "histogram2dcontour": [
           {
            "colorbar": {
             "outlinewidth": 0,
             "ticks": ""
            },
            "colorscale": [
             [
              0,
              "#0d0887"
             ],
             [
              0.1111111111111111,
              "#46039f"
             ],
             [
              0.2222222222222222,
              "#7201a8"
             ],
             [
              0.3333333333333333,
              "#9c179e"
             ],
             [
              0.4444444444444444,
              "#bd3786"
             ],
             [
              0.5555555555555556,
              "#d8576b"
             ],
             [
              0.6666666666666666,
              "#ed7953"
             ],
             [
              0.7777777777777778,
              "#fb9f3a"
             ],
             [
              0.8888888888888888,
              "#fdca26"
             ],
             [
              1,
              "#f0f921"
             ]
            ],
            "type": "histogram2dcontour"
           }
          ],
          "mesh3d": [
           {
            "colorbar": {
             "outlinewidth": 0,
             "ticks": ""
            },
            "type": "mesh3d"
           }
          ],
          "parcoords": [
           {
            "line": {
             "colorbar": {
              "outlinewidth": 0,
              "ticks": ""
             }
            },
            "type": "parcoords"
           }
          ],
          "pie": [
           {
            "automargin": true,
            "type": "pie"
           }
          ],
          "scatter": [
           {
            "fillpattern": {
             "fillmode": "overlay",
             "size": 10,
             "solidity": 0.2
            },
            "type": "scatter"
           }
          ],
          "scatter3d": [
           {
            "line": {
             "colorbar": {
              "outlinewidth": 0,
              "ticks": ""
             }
            },
            "marker": {
             "colorbar": {
              "outlinewidth": 0,
              "ticks": ""
             }
            },
            "type": "scatter3d"
           }
          ],
          "scattercarpet": [
           {
            "marker": {
             "colorbar": {
              "outlinewidth": 0,
              "ticks": ""
             }
            },
            "type": "scattercarpet"
           }
          ],
          "scattergeo": [
           {
            "marker": {
             "colorbar": {
              "outlinewidth": 0,
              "ticks": ""
             }
            },
            "type": "scattergeo"
           }
          ],
          "scattergl": [
           {
            "marker": {
             "colorbar": {
              "outlinewidth": 0,
              "ticks": ""
             }
            },
            "type": "scattergl"
           }
          ],
          "scattermapbox": [
           {
            "marker": {
             "colorbar": {
              "outlinewidth": 0,
              "ticks": ""
             }
            },
            "type": "scattermapbox"
           }
          ],
          "scatterpolar": [
           {
            "marker": {
             "colorbar": {
              "outlinewidth": 0,
              "ticks": ""
             }
            },
            "type": "scatterpolar"
           }
          ],
          "scatterpolargl": [
           {
            "marker": {
             "colorbar": {
              "outlinewidth": 0,
              "ticks": ""
             }
            },
            "type": "scatterpolargl"
           }
          ],
          "scatterternary": [
           {
            "marker": {
             "colorbar": {
              "outlinewidth": 0,
              "ticks": ""
             }
            },
            "type": "scatterternary"
           }
          ],
          "surface": [
           {
            "colorbar": {
             "outlinewidth": 0,
             "ticks": ""
            },
            "colorscale": [
             [
              0,
              "#0d0887"
             ],
             [
              0.1111111111111111,
              "#46039f"
             ],
             [
              0.2222222222222222,
              "#7201a8"
             ],
             [
              0.3333333333333333,
              "#9c179e"
             ],
             [
              0.4444444444444444,
              "#bd3786"
             ],
             [
              0.5555555555555556,
              "#d8576b"
             ],
             [
              0.6666666666666666,
              "#ed7953"
             ],
             [
              0.7777777777777778,
              "#fb9f3a"
             ],
             [
              0.8888888888888888,
              "#fdca26"
             ],
             [
              1,
              "#f0f921"
             ]
            ],
            "type": "surface"
           }
          ],
          "table": [
           {
            "cells": {
             "fill": {
              "color": "#EBF0F8"
             },
             "line": {
              "color": "white"
             }
            },
            "header": {
             "fill": {
              "color": "#C8D4E3"
             },
             "line": {
              "color": "white"
             }
            },
            "type": "table"
           }
          ]
         },
         "layout": {
          "annotationdefaults": {
           "arrowcolor": "#2a3f5f",
           "arrowhead": 0,
           "arrowwidth": 1
          },
          "autotypenumbers": "strict",
          "coloraxis": {
           "colorbar": {
            "outlinewidth": 0,
            "ticks": ""
           }
          },
          "colorscale": {
           "diverging": [
            [
             0,
             "#8e0152"
            ],
            [
             0.1,
             "#c51b7d"
            ],
            [
             0.2,
             "#de77ae"
            ],
            [
             0.3,
             "#f1b6da"
            ],
            [
             0.4,
             "#fde0ef"
            ],
            [
             0.5,
             "#f7f7f7"
            ],
            [
             0.6,
             "#e6f5d0"
            ],
            [
             0.7,
             "#b8e186"
            ],
            [
             0.8,
             "#7fbc41"
            ],
            [
             0.9,
             "#4d9221"
            ],
            [
             1,
             "#276419"
            ]
           ],
           "sequential": [
            [
             0,
             "#0d0887"
            ],
            [
             0.1111111111111111,
             "#46039f"
            ],
            [
             0.2222222222222222,
             "#7201a8"
            ],
            [
             0.3333333333333333,
             "#9c179e"
            ],
            [
             0.4444444444444444,
             "#bd3786"
            ],
            [
             0.5555555555555556,
             "#d8576b"
            ],
            [
             0.6666666666666666,
             "#ed7953"
            ],
            [
             0.7777777777777778,
             "#fb9f3a"
            ],
            [
             0.8888888888888888,
             "#fdca26"
            ],
            [
             1,
             "#f0f921"
            ]
           ],
           "sequentialminus": [
            [
             0,
             "#0d0887"
            ],
            [
             0.1111111111111111,
             "#46039f"
            ],
            [
             0.2222222222222222,
             "#7201a8"
            ],
            [
             0.3333333333333333,
             "#9c179e"
            ],
            [
             0.4444444444444444,
             "#bd3786"
            ],
            [
             0.5555555555555556,
             "#d8576b"
            ],
            [
             0.6666666666666666,
             "#ed7953"
            ],
            [
             0.7777777777777778,
             "#fb9f3a"
            ],
            [
             0.8888888888888888,
             "#fdca26"
            ],
            [
             1,
             "#f0f921"
            ]
           ]
          },
          "colorway": [
           "#636efa",
           "#EF553B",
           "#00cc96",
           "#ab63fa",
           "#FFA15A",
           "#19d3f3",
           "#FF6692",
           "#B6E880",
           "#FF97FF",
           "#FECB52"
          ],
          "font": {
           "color": "#2a3f5f"
          },
          "geo": {
           "bgcolor": "white",
           "lakecolor": "white",
           "landcolor": "#E5ECF6",
           "showlakes": true,
           "showland": true,
           "subunitcolor": "white"
          },
          "hoverlabel": {
           "align": "left"
          },
          "hovermode": "closest",
          "mapbox": {
           "style": "light"
          },
          "paper_bgcolor": "white",
          "plot_bgcolor": "#E5ECF6",
          "polar": {
           "angularaxis": {
            "gridcolor": "white",
            "linecolor": "white",
            "ticks": ""
           },
           "bgcolor": "#E5ECF6",
           "radialaxis": {
            "gridcolor": "white",
            "linecolor": "white",
            "ticks": ""
           }
          },
          "scene": {
           "xaxis": {
            "backgroundcolor": "#E5ECF6",
            "gridcolor": "white",
            "gridwidth": 2,
            "linecolor": "white",
            "showbackground": true,
            "ticks": "",
            "zerolinecolor": "white"
           },
           "yaxis": {
            "backgroundcolor": "#E5ECF6",
            "gridcolor": "white",
            "gridwidth": 2,
            "linecolor": "white",
            "showbackground": true,
            "ticks": "",
            "zerolinecolor": "white"
           },
           "zaxis": {
            "backgroundcolor": "#E5ECF6",
            "gridcolor": "white",
            "gridwidth": 2,
            "linecolor": "white",
            "showbackground": true,
            "ticks": "",
            "zerolinecolor": "white"
           }
          },
          "shapedefaults": {
           "line": {
            "color": "#2a3f5f"
           }
          },
          "ternary": {
           "aaxis": {
            "gridcolor": "white",
            "linecolor": "white",
            "ticks": ""
           },
           "baxis": {
            "gridcolor": "white",
            "linecolor": "white",
            "ticks": ""
           },
           "bgcolor": "#E5ECF6",
           "caxis": {
            "gridcolor": "white",
            "linecolor": "white",
            "ticks": ""
           }
          },
          "title": {
           "x": 0.05
          },
          "xaxis": {
           "automargin": true,
           "gridcolor": "white",
           "linecolor": "white",
           "ticks": "",
           "title": {
            "standoff": 15
           },
           "zerolinecolor": "white",
           "zerolinewidth": 2
          },
          "yaxis": {
           "automargin": true,
           "gridcolor": "white",
           "linecolor": "white",
           "ticks": "",
           "title": {
            "standoff": 15
           },
           "zerolinecolor": "white",
           "zerolinewidth": 2
          }
         }
        },
        "title": {
         "text": "Optimization History Plot"
        },
        "xaxis": {
         "title": {
          "text": "Trial"
         }
        },
        "yaxis": {
         "title": {
          "text": "Objective Value"
         }
        }
       }
      }
     },
     "metadata": {},
     "output_type": "display_data"
    }
   ],
   "source": [
    "optuna.visualization.plot_optimization_history(study)"
   ]
  },
  {
   "cell_type": "code",
   "execution_count": 10,
   "id": "9a7ddf13",
   "metadata": {
    "lines_to_next_cell": 2
   },
   "outputs": [
    {
     "data": {
      "application/vnd.plotly.v1+json": {
       "config": {
        "plotlyServerURL": "https://plot.ly"
       },
       "data": [
        {
         "marker": {
          "maxdisplayed": 10
         },
         "mode": "lines+markers",
         "name": "Trial0",
         "type": "scatter",
         "x": [
          0,
          1,
          2,
          3,
          4,
          5,
          6,
          7,
          8,
          9,
          10,
          11,
          12,
          13,
          14,
          15,
          16,
          17,
          18,
          19,
          20,
          21,
          22,
          23,
          24,
          25,
          26,
          27,
          28,
          29,
          30,
          31,
          32,
          33,
          34,
          35,
          36,
          37,
          38,
          39,
          40,
          41,
          42,
          43,
          44,
          45,
          46,
          47,
          48,
          49,
          50,
          51,
          52,
          53,
          54,
          55,
          56,
          57,
          58,
          59,
          60,
          61,
          62,
          63,
          64,
          65,
          66,
          67,
          68,
          69,
          70,
          71,
          72,
          73,
          74,
          75,
          76,
          77,
          78,
          79,
          80,
          81,
          82,
          83,
          84,
          85,
          86,
          87,
          88,
          89,
          90,
          91,
          92,
          93,
          94,
          95,
          96,
          97,
          98,
          99
         ],
         "y": [
          0.6841457486152649,
          0.6758715510368347,
          0.6686633427937826,
          0.6622269451618195,
          0.6561881899833679,
          0.6505440870920817,
          0.6455078721046448,
          0.6406639516353607,
          0.6359377370940315,
          0.6313716828823089,
          0.6269907734610818,
          0.6228178590536118,
          0.6188089618316064,
          0.615004301071167,
          0.6113420645395915,
          0.6077914535999298,
          0.604432200684267,
          0.6012253065903982,
          0.5981745625797071,
          0.5952053189277648,
          0.5923521575473604,
          0.5895899832248688,
          0.5869939223579739,
          0.5844958275556564,
          0.5821213912963867,
          0.579815149307251,
          0.5776497942430002,
          0.5755664088896343,
          0.5735741545414103,
          0.5716490467389425,
          0.5698176718527271,
          0.5680598206818104,
          0.5663852547154282,
          0.5647828351048862,
          0.5632387723241533,
          0.5617549137936698,
          0.5603292713294158,
          0.558949329351124,
          0.557649566577031,
          0.5564062044024467,
          0.5551973348710595,
          0.554025472629638,
          0.5529016381086305,
          0.5518424172293056,
          0.5508006387286716,
          0.549782959015473,
          0.5488038075731155,
          0.5478579265375932,
          0.5469504156891181,
          0.5461013960838318,
          0.5452713639128441,
          0.5444649755954742,
          0.5437071908195064,
          0.5429731905460358,
          0.5422617132013494,
          0.5415465725319726,
          0.5408370913120738,
          0.5401259357559269,
          0.5394768932108152,
          0.5388476883371671,
          0.5382477577592506,
          0.5376753369646687,
          0.5371066979945652,
          0.5365569391287863,
          0.536014872789383,
          0.535483792424202,
          0.5349671186795876,
          0.5344616152784404,
          0.5339661521324213,
          0.5334848382643291,
          0.5330195053362511,
          0.5325590872930156,
          0.5321079165968177,
          0.5316634464102823,
          0.5312342294057211,
          0.530829017883853,
          0.5304228853095662,
          0.5300282343075826,
          0.5296463789064673,
          0.529284630343318,
          0.5289134217633141,
          0.5285522530718547,
          0.5281971585319702,
          0.5278506055474281,
          0.5275253089035259,
          0.5272035914105039,
          0.5268764029974224,
          0.5265572460537608,
          0.5262442281406917,
          0.5259358800119824,
          0.5256457813493498,
          0.525361602721007,
          0.5250833736312005,
          0.5247997619370197,
          0.5245237005384344,
          0.5242591568579277,
          0.5240140323786392,
          0.5237744152545929,
          0.5235380205241117,
          0.5232969743013381
         ]
        },
        {
         "marker": {
          "maxdisplayed": 10
         },
         "mode": "lines+markers",
         "name": "Trial1",
         "type": "scatter",
         "x": [
          0,
          1,
          2,
          3,
          4,
          5,
          6,
          7,
          8,
          9,
          10,
          11,
          12,
          13,
          14,
          15,
          16,
          17,
          18,
          19,
          20,
          21,
          22,
          23,
          24,
          25,
          26,
          27,
          28,
          29,
          30,
          31,
          32,
          33,
          34,
          35,
          36,
          37,
          38,
          39,
          40,
          41,
          42,
          43,
          44,
          45,
          46,
          47,
          48,
          49,
          50,
          51,
          52,
          53,
          54,
          55,
          56,
          57,
          58,
          59,
          60,
          61,
          62,
          63,
          64,
          65,
          66,
          67,
          68,
          69,
          70,
          71,
          72,
          73,
          74,
          75,
          76,
          77,
          78,
          79,
          80,
          81,
          82,
          83,
          84,
          85,
          86,
          87,
          88,
          89,
          90,
          91,
          92,
          93,
          94,
          95,
          96,
          97,
          98,
          99
         ],
         "y": [
          0.6940295696258545,
          0.6857867538928986,
          0.6709139545758566,
          0.6612939834594727,
          0.6537746906280517,
          0.6508946716785431,
          0.6510629568781171,
          0.6508101746439934,
          0.6490156120724149,
          0.6464703381061554,
          0.6445593671365217,
          0.6426729361216227,
          0.6387764536417447,
          0.6352550387382507,
          0.6317989786465963,
          0.6289816685020924,
          0.6271753030664781,
          0.6241145961814456,
          0.6213421915706835,
          0.6200167059898376,
          0.6218053670156569,
          0.6245967203920538,
          0.6252294130947279,
          0.6243191833297411,
          0.6229717779159546,
          0.6223810911178589,
          0.6233361738699453,
          0.6245816243546349,
          0.6253784360556767,
          0.6262415210405986,
          0.6263835314781435,
          0.6260958276689053,
          0.6257696368477561,
          0.6258073484196383,
          0.6261655671255929,
          0.6282495127783881,
          0.6340147353507377,
          0.6403191983699799,
          0.6456783872384292,
          0.6514834135770797,
          0.6570772703100995,
          0.662384603704725,
          0.6662697528683862,
          0.6692078723148867,
          0.6717808882395426,
          0.6742777565251226,
          0.6775044253531922,
          0.6800704586009184,
          0.6821894694347771,
          0.6842667460441589,
          0.686660041996077,
          0.6872756148760135,
          0.6869653407132851,
          0.6870176405818375,
          0.6872547041286122,
          0.6887597739696503,
          0.6923881214961671,
          0.697937203892346,
          0.7032933750395047,
          0.708389475941658,
          0.7137260173187882,
          0.7192948643238314,
          0.7241213596056378,
          0.7268645158037543,
          0.7293795493932871,
          0.7316466009978092,
          0.7352933234243251,
          0.7380997854120591,
          0.7413573731546816,
          0.7447659202984401,
          0.7492673397064209,
          0.7555268125401603,
          0.760116212988553,
          0.7639963175799396,
          0.767597853342692,
          0.7711352972607863,
          0.7761424702483338,
          0.7812023896437424,
          0.7859578585322899,
          0.7905213579535484,
          0.7940745662759852,
          0.7970513526986285,
          0.8005079849656805,
          0.8044299568448748,
          0.809256264742683,
          0.8146652468415194,
          0.8201332475947237,
          0.8252667215737429,
          0.8302590364820501,
          0.836050628291236,
          0.8419808673334646,
          0.847546469906102,
          0.8527209246030418,
          0.8573097079358203,
          0.8618715135674727,
          0.8669918763140837,
          0.8717301752149444,
          0.8764324626144098,
          0.8805064288052645,
          0.8837523663043976
         ]
        },
        {
         "marker": {
          "maxdisplayed": 10
         },
         "mode": "lines+markers",
         "name": "Trial2",
         "type": "scatter",
         "x": [
          0,
          1,
          2,
          3,
          4,
          5,
          6,
          7,
          8,
          9,
          10,
          11,
          12,
          13,
          14,
          15,
          16,
          17,
          18,
          19,
          20,
          21,
          22,
          23,
          24,
          25,
          26,
          27,
          28,
          29,
          30,
          31,
          32,
          33,
          34,
          35,
          36,
          37,
          38,
          39,
          40,
          41,
          42,
          43,
          44,
          45,
          46,
          47,
          48,
          49,
          50,
          51,
          52,
          53,
          54,
          55,
          56,
          57,
          58,
          59,
          60,
          61,
          62,
          63,
          64,
          65,
          66,
          67,
          68,
          69,
          70,
          71,
          72,
          73,
          74,
          75,
          76,
          77,
          78,
          79,
          80,
          81,
          82,
          83,
          84,
          85,
          86,
          87,
          88,
          89,
          90,
          91,
          92,
          93,
          94,
          95,
          96,
          97,
          98,
          99
         ],
         "y": [
          0.6931672096252441,
          0.6931786239147186,
          0.6932384967803955,
          0.6932528167963028,
          0.6936410188674926,
          0.6935757497946421,
          0.6935303636959621,
          0.6935171335935593,
          0.693503181139628,
          0.6934676349163056,
          0.6934432875026356,
          0.6934202164411545,
          0.6933993376218356,
          0.6933898500033787,
          0.6933829625447591,
          0.6933784447610378,
          0.6933652898844551,
          0.693356066942215,
          0.6933495716044777,
          0.6933475255966186,
          0.693344479515439,
          0.6933376491069794,
          0.6933305859565735,
          0.693326731522878,
          0.6933286166191102,
          0.6933234265217414,
          0.6933194045667295,
          0.6933154676641736,
          0.6933103347646778,
          0.6933080911636352,
          0.6933030870652968,
          0.6933012753725052,
          0.693298359711965,
          0.6932958662509918,
          0.6932925990649632,
          0.6932900730106566,
          0.6932891510628365,
          0.6932905614376068,
          0.6932928669147003,
          0.6932961225509644,
          0.6932947781027817,
          0.6932933444068545,
          0.6932961746703746,
          0.6932960680939935,
          0.6932936668395996,
          0.6932907985604327,
          0.6932903274576715,
          0.6932891979813576,
          0.6932880975762192,
          0.6932880187034607,
          0.6932928772533641,
          0.6932959189781775,
          0.6932946466050058,
          0.6932923584072678,
          0.6932910940863869,
          0.6932905156697545,
          0.6932893259483471,
          0.6932880683191891,
          0.6932872341851056,
          0.6932883789141973,
          0.6932882363678979,
          0.6932868707564569,
          0.6932864539206974,
          0.6932857753708959,
          0.6932858815559975,
          0.6932862401008606,
          0.6932860274813069,
          0.6932848385151695,
          0.6932837660761847,
          0.6932835229805537,
          0.6932841178397058,
          0.6932841026120715,
          0.6932845425932375,
          0.693287319428212,
          0.6932866311073304,
          0.6932867192908337,
          0.6932858755062152,
          0.6932853941734021,
          0.6932859390596801,
          0.6932872474193573,
          0.6932865535771405,
          0.6932869880664639,
          0.6932874688182968,
          0.6932875329539889,
          0.6932872190194972,
          0.6932867772357408,
          0.6932862291390869,
          0.6932864155281674,
          0.6932858965370092,
          0.6932855208714803,
          0.6932848023844289,
          0.6932845530302628,
          0.6932842161065789,
          0.6932838647923572,
          0.6932828972214147,
          0.6932819467037916,
          0.6932810231582406,
          0.6932807218055336,
          0.6932811128972757,
          0.6932808071374893
         ]
        },
        {
         "marker": {
          "maxdisplayed": 10
         },
         "mode": "lines+markers",
         "name": "Trial3",
         "type": "scatter",
         "x": [
          0,
          1,
          2,
          3,
          4,
          5,
          6,
          7,
          8,
          9,
          10,
          11,
          12,
          13,
          14,
          15,
          16,
          17,
          18,
          19,
          20,
          21,
          22,
          23,
          24,
          25,
          26,
          27,
          28,
          29,
          30,
          31,
          32,
          33,
          34,
          35,
          36,
          37,
          38,
          39,
          40,
          41,
          42,
          43,
          44,
          45,
          46,
          47,
          48,
          49,
          50,
          51,
          52,
          53,
          54,
          55,
          56,
          57,
          58,
          59,
          60,
          61,
          62,
          63,
          64,
          65,
          66,
          67,
          68,
          69,
          70,
          71,
          72,
          73,
          74,
          75,
          76,
          77,
          78,
          79,
          80,
          81,
          82,
          83,
          84,
          85,
          86,
          87,
          88,
          89,
          90,
          91,
          92,
          93,
          94,
          95,
          96,
          97,
          98,
          99
         ],
         "y": [
          3948.002197265625,
          1975.6267937421799,
          1317.4882167180378,
          988.3333282023668,
          790.795794069767,
          659.1155594388644,
          565.0621569071498,
          494.51536648720503,
          439.6460030410025,
          395.7504541695118,
          359.8356207988479,
          329.9068243553241,
          304.5826335090857,
          282.87618620906557,
          264.06401853958766,
          247.60335380211473,
          233.0791985988617,
          220.16888842980066,
          208.61761386143533,
          198.22668620944023,
          188.82234974134536,
          180.2727687115019,
          172.46622155801109,
          165.3108410562078,
          158.72791361570359,
          152.65152349838843,
          147.0252114755136,
          141.80093699480807,
          136.93700570895754,
          132.3964678645134,
          128.1486054216662,
          124.16632047109306,
          120.42533522663695,
          116.90457214502727,
          113.58494943039757,
          110.44999787211418,
          107.4845309418601,
          104.67509449783124,
          102.00997029512357,
          99.47821639627219,
          97.0698534788155,
          94.7762316763401,
          92.58906849456388,
          90.5015200782906,
          88.50673449966642,
          86.59870497817579,
          84.77198057859502,
          83.02034106478095,
          81.34019700848326,
          79.72712137699128,
          78.1773571360345,
          76.68727602293858,
          75.25342458036711,
          73.87267881631851,
          72.5421427900141,
          71.25912627364907,
          70.0211270629314,
          68.8258173794582,
          67.67102643190805,
          66.55472845137119,
          65.47503096353812,
          64.43016236059127,
          63.418463706970215,
          62.43838083744049,
          61.48845427586482,
          60.567313237623736,
          59.67366896814375,
          58.80630858856089,
          57.964089204435766,
          57.14593335049493,
          56.350824654941825,
          55.57780169695616,
          54.825957994755,
          54.09443397376988,
          53.382417064507806,
          52.68913759761735,
          52.013865845544,
          51.35590748221446,
          50.714606909812254,
          50.0893388338387,
          49.47951102256775,
          48.88455674851813,
          48.30393810588193,
          47.73714342287609,
          47.183685124621675,
          46.64309742215068,
          46.11493713691317,
          45.59878057986498,
          45.0942232160086,
          44.60087820622656,
          44.11837580308809,
          43.64636195548203,
          43.18449904969943,
          42.732463295155384,
          42.28994447808517,
          41.85664448328316,
          41.43227867797478,
          41.01657336098807,
          40.60926632206849,
          40.210106093287465
         ]
        },
        {
         "marker": {
          "maxdisplayed": 10
         },
         "mode": "lines+markers",
         "name": "Trial4",
         "type": "scatter",
         "x": [
          0,
          1,
          2,
          3,
          4,
          5,
          6,
          7,
          8,
          9,
          10,
          11,
          12,
          13,
          14,
          15,
          16,
          17,
          18,
          19,
          20,
          21,
          22,
          23,
          24,
          25,
          26,
          27,
          28,
          29,
          30,
          31,
          32,
          33,
          34,
          35,
          36,
          37,
          38,
          39,
          40,
          41,
          42,
          43,
          44,
          45,
          46,
          47,
          48,
          49,
          50,
          51,
          52,
          53,
          54,
          55,
          56,
          57,
          58,
          59,
          60,
          61,
          62,
          63,
          64,
          65,
          66,
          67,
          68,
          69,
          70,
          71,
          72,
          73,
          74,
          75,
          76,
          77,
          78,
          79,
          80,
          81,
          82,
          83,
          84,
          85,
          86,
          87,
          88,
          89,
          90,
          91,
          92,
          93,
          94,
          95,
          96,
          97,
          98,
          99
         ],
         "y": [
          0.6690118312835693,
          0.659196674823761,
          0.6505852739016215,
          0.6426577717065811,
          0.6352225780487061,
          0.6280916531880697,
          0.6213166117668152,
          0.6148245334625244,
          0.608632955286238,
          0.6027583181858063,
          0.5972095402804288,
          0.5919826577107111,
          0.5870620424930866,
          0.5824318698474339,
          0.5781121055285136,
          0.5740853287279606,
          0.570353115306181,
          0.5668554173575507,
          0.5635702484532407,
          0.5605264484882355,
          0.5576973188491094,
          0.5550775798884305,
          0.5526446194752402,
          0.550359113762776,
          0.5482228565216064,
          0.5462048936348695,
          0.5443182918760512,
          0.5425734296441078,
          0.5409375161960207,
          0.5393856952587763,
          0.5379363961758152,
          0.5365954572334886,
          0.5353610786524686,
          0.5342346403528663,
          0.5331680016858237,
          0.5321569244066874,
          0.531203796734681,
          0.530321426297489,
          0.5295015527651861,
          0.5287014864385128,
          0.5279445611849064,
          0.5272535766874041,
          0.5266403444977694,
          0.5260739665139805,
          0.5255457984076606,
          0.5250637440577798,
          0.5246068137757322,
          0.5241610432664553,
          0.5237489549481139,
          0.5233614003658295,
          0.5229909233018464,
          0.5226437942339823,
          0.5223179133433216,
          0.5220261160974149,
          0.5217253511602228,
          0.5214537669505391,
          0.5211967072988811,
          0.5209567300204573,
          0.5206998445219913,
          0.5204763521750768,
          0.5202850113149549,
          0.5200923306326712,
          0.519928270862216,
          0.5197634380310774,
          0.5196219095816978,
          0.519485592842102,
          0.5193677188745186,
          0.5192538762793821,
          0.5191392803537673,
          0.5190503639834267,
          0.5189960817216148,
          0.5189269499646293,
          0.5188766701580727,
          0.5188152475936992,
          0.5187702894210815,
          0.5187333665396038,
          0.5186993077203825,
          0.5186801315882267,
          0.5186926760251009,
          0.5187015987932682,
          0.5187014017576053,
          0.5187129843525771,
          0.5187259941215975,
          0.5187437002147947,
          0.5187572261866401,
          0.5187860172848369,
          0.5188159901520302,
          0.5188353332606229,
          0.5188857049084781,
          0.5189420872264439,
          0.519011377633273,
          0.5190782138834829,
          0.5191700099616923,
          0.5192707396568136,
          0.5193496980165181,
          0.5194464220354954,
          0.5195481832494441,
          0.5196442853431312,
          0.5197682561296405,
          0.5198828405141831
         ]
        },
        {
         "marker": {
          "maxdisplayed": 10
         },
         "mode": "lines+markers",
         "name": "Trial5",
         "type": "scatter",
         "x": [
          0,
          1,
          2,
          3,
          4
         ],
         "y": [
          0.6791447997093201,
          0.669361799955368,
          0.6680765748023987,
          0.6606971472501755,
          0.6577654480934143
         ]
        },
        {
         "marker": {
          "maxdisplayed": 10
         },
         "mode": "lines+markers",
         "name": "Trial6",
         "type": "scatter",
         "x": [
          0
         ],
         "y": [
          2.944880962371826
         ]
        },
        {
         "marker": {
          "maxdisplayed": 10
         },
         "mode": "lines+markers",
         "name": "Trial7",
         "type": "scatter",
         "x": [
          0
         ],
         "y": [
          0.8041532635688782
         ]
        },
        {
         "marker": {
          "maxdisplayed": 10
         },
         "mode": "lines+markers",
         "name": "Trial8",
         "type": "scatter",
         "x": [
          0
         ],
         "y": [
          0.6942805051803589
         ]
        },
        {
         "marker": {
          "maxdisplayed": 10
         },
         "mode": "lines+markers",
         "name": "Trial9",
         "type": "scatter",
         "x": [
          0
         ],
         "y": [
          0.6952009201049805
         ]
        },
        {
         "marker": {
          "maxdisplayed": 10
         },
         "mode": "lines+markers",
         "name": "Trial10",
         "type": "scatter",
         "x": [
          0
         ],
         "y": [
          0.6941450834274292
         ]
        },
        {
         "marker": {
          "maxdisplayed": 10
         },
         "mode": "lines+markers",
         "name": "Trial11",
         "type": "scatter",
         "x": [
          0
         ],
         "y": [
          0.6935710310935974
         ]
        },
        {
         "marker": {
          "maxdisplayed": 10
         },
         "mode": "lines+markers",
         "name": "Trial12",
         "type": "scatter",
         "x": [
          0,
          1,
          2,
          3,
          4,
          5,
          6,
          7,
          8,
          9,
          10,
          11,
          12,
          13,
          14,
          15,
          16,
          17,
          18,
          19,
          20,
          21,
          22,
          23,
          24,
          25,
          26,
          27,
          28,
          29,
          30,
          31,
          32,
          33,
          34,
          35,
          36,
          37,
          38,
          39,
          40,
          41,
          42,
          43,
          44,
          45,
          46,
          47,
          48,
          49,
          50,
          51,
          52,
          53,
          54,
          55,
          56,
          57,
          58,
          59,
          60,
          61,
          62,
          63,
          64,
          65,
          66,
          67,
          68,
          69,
          70,
          71,
          72,
          73,
          74,
          75,
          76,
          77,
          78,
          79,
          80,
          81,
          82,
          83,
          84,
          85,
          86,
          87,
          88,
          89,
          90,
          91,
          92,
          93,
          94,
          95,
          96,
          97,
          98,
          99
         ],
         "y": [
          0.6710370779037476,
          0.6635966598987579,
          0.6574151317278544,
          0.6518505215644836,
          0.6467106461524963,
          0.6418364445368449,
          0.6372870632580349,
          0.6329034864902496,
          0.6287248267067803,
          0.6246750056743622,
          0.620719004761089,
          0.6168668766816457,
          0.6130640048247117,
          0.609396721635546,
          0.6058270096778869,
          0.6023592725396156,
          0.5989272734698128,
          0.5955836938487159,
          0.5923346688872889,
          0.5892314732074737,
          0.5862784754662287,
          0.5834670527414842,
          0.5807718090389086,
          0.5781973575552305,
          0.5757491397857666,
          0.5733940005302429,
          0.5711595901736507,
          0.5690019833190101,
          0.5669518195349594,
          0.5650185803572337,
          0.56317546098463,
          0.5613983329385519,
          0.5597117127794208,
          0.5581016715835122,
          0.5565628494535174,
          0.555072749654452,
          0.5536595083571769,
          0.5522864884451816,
          0.5509682236573635,
          0.5497214436531067,
          0.5485328755727629,
          0.5473708730368387,
          0.546237718920375,
          0.54515717652711,
          0.5441396276156107,
          0.5431603283985801,
          0.5422062664589984,
          0.5412963883330425,
          0.5404219645626691,
          0.5395966535806656,
          0.5388041062682283,
          0.5380481080367014,
          0.5373256560766472,
          0.5366156741424843,
          0.535942189801823,
          0.5352994512234416,
          0.5346802305756954,
          0.5340770981435118,
          0.5334857545666776,
          0.5329348807533582,
          0.532385024868074,
          0.5318627578596915,
          0.5313450050732446,
          0.5308456481434405,
          0.5303760331410629,
          0.5299290007714069,
          0.5294942949245225,
          0.5290774242842898,
          0.5286844437536986,
          0.5283251775162561,
          0.5279609959729961,
          0.5276095374590821,
          0.5272761685390995,
          0.5269572835516285,
          0.5266575602690379,
          0.5263463717542196,
          0.5260234726713849,
          0.5257227027263397,
          0.5254310607155667,
          0.5251465324312449,
          0.5248692179167712,
          0.5245949542377053,
          0.5243358558200928,
          0.5240874485600562,
          0.5238489610307356,
          0.5236024464978728,
          0.5233640619393053,
          0.5231359556994655,
          0.5229188220554524,
          0.5227009650733736,
          0.5224743161227677,
          0.5222511093901552,
          0.5220354305159661,
          0.5218326972520098,
          0.5216393574288017,
          0.5214565275236964,
          0.5212699220967048,
          0.52110099822891,
          0.5209263391567,
          0.520734215080738
         ]
        },
        {
         "marker": {
          "maxdisplayed": 10
         },
         "mode": "lines+markers",
         "name": "Trial13",
         "type": "scatter",
         "x": [
          0
         ],
         "y": [
          0.6917282938957214
         ]
        },
        {
         "marker": {
          "maxdisplayed": 10
         },
         "mode": "lines+markers",
         "name": "Trial14",
         "type": "scatter",
         "x": [
          0,
          1,
          2,
          3,
          4,
          5,
          6,
          7,
          8,
          9,
          10,
          11,
          12,
          13,
          14,
          15,
          16,
          17,
          18,
          19,
          20,
          21,
          22,
          23,
          24,
          25,
          26,
          27,
          28,
          29,
          30,
          31,
          32,
          33,
          34,
          35,
          36,
          37,
          38,
          39,
          40,
          41,
          42,
          43,
          44,
          45,
          46,
          47,
          48,
          49,
          50,
          51,
          52,
          53,
          54,
          55,
          56,
          57,
          58,
          59,
          60,
          61,
          62,
          63,
          64,
          65,
          66,
          67,
          68,
          69,
          70,
          71,
          72,
          73,
          74,
          75,
          76,
          77,
          78,
          79,
          80,
          81,
          82,
          83,
          84,
          85,
          86,
          87,
          88,
          89,
          90,
          91,
          92,
          93,
          94,
          95,
          96,
          97,
          98,
          99
         ],
         "y": [
          0.6725286841392517,
          0.6642765402793884,
          0.6570355296134949,
          0.6504887491464615,
          0.644472622871399,
          0.6387323041756948,
          0.6333783183779035,
          0.6282090619206429,
          0.6231397522820367,
          0.61821408867836,
          0.6134884465824474,
          0.6089041332403818,
          0.604528715977302,
          0.6002640213285174,
          0.5961965600649516,
          0.5923568978905678,
          0.5886907261960647,
          0.5851678550243378,
          0.581815873321734,
          0.5786229223012924,
          0.575580704779852,
          0.5726908445358276,
          0.5699504017829895,
          0.5673290466268858,
          0.5648780369758606,
          0.5625204077133765,
          0.5602514765880726,
          0.5581289253064564,
          0.5560732596907122,
          0.5540648798147837,
          0.5521833617841044,
          0.5504279928281903,
          0.5487543768955,
          0.5471804299775291,
          0.5456765515463693,
          0.5442251505123245,
          0.5428130570295695,
          0.5414997190237045,
          0.5402617309338007,
          0.5390917636454106,
          0.5379683157292808,
          0.5368893409059161,
          0.5358533831529839,
          0.5348469709808176,
          0.5338939713107215,
          0.5329773309438125,
          0.5320886348156219,
          0.5312299951910973,
          0.5304044752704854,
          0.5295884943008423,
          0.5288278331943587,
          0.5281269000126765,
          0.5274349243011115,
          0.5267982008280577,
          0.5261663539843126,
          0.5255718997546605,
          0.5249868307197303,
          0.524407798360134,
          0.5238465166698067,
          0.5233028178413709,
          0.5227734514924346,
          0.5222826186687716,
          0.5217923370618669,
          0.5213287803344429,
          0.52088607778916,
          0.5204547097285589,
          0.520049180112668,
          0.5196339251363978,
          0.5192517327225726,
          0.5188977999346597,
          0.5185476197323329,
          0.5182144952317079,
          0.5179143666404568,
          0.517621211908959,
          0.5173131120204926,
          0.5170232167369441,
          0.5167524922977794,
          0.516504915860983,
          0.5162726271001599,
          0.5160556975752115,
          0.5158513482706046,
          0.5156523407232471,
          0.5154462880398853,
          0.5152394218104226,
          0.5150387441410738,
          0.5148694834043813,
          0.5147129797387398,
          0.5145524984056299,
          0.514403272210882,
          0.5142691128783756,
          0.5141237869367494,
          0.5139682153644769,
          0.5138008588103837,
          0.5136470109858411,
          0.5135255412051553,
          0.5133872162550688,
          0.51328245511989,
          0.5132143114294324,
          0.5131174988216824,
          0.5130240088701248
         ]
        },
        {
         "marker": {
          "maxdisplayed": 10
         },
         "mode": "lines+markers",
         "name": "Trial15",
         "type": "scatter",
         "x": [
          0
         ],
         "y": [
          0.6958391666412354
         ]
        },
        {
         "marker": {
          "maxdisplayed": 10
         },
         "mode": "lines+markers",
         "name": "Trial16",
         "type": "scatter",
         "x": [
          0
         ],
         "y": [
          0.6952380537986755
         ]
        },
        {
         "marker": {
          "maxdisplayed": 10
         },
         "mode": "lines+markers",
         "name": "Trial17",
         "type": "scatter",
         "x": [
          0
         ],
         "y": [
          0.6935901045799255
         ]
        },
        {
         "marker": {
          "maxdisplayed": 10
         },
         "mode": "lines+markers",
         "name": "Trial18",
         "type": "scatter",
         "x": [
          0
         ],
         "y": [
          0.7009405493736267
         ]
        },
        {
         "marker": {
          "maxdisplayed": 10
         },
         "mode": "lines+markers",
         "name": "Trial19",
         "type": "scatter",
         "x": [
          0
         ],
         "y": [
          1654.2017822265625
         ]
        },
        {
         "marker": {
          "maxdisplayed": 10
         },
         "mode": "lines+markers",
         "name": "Trial20",
         "type": "scatter",
         "x": [
          0
         ],
         "y": [
          0.6938899159431458
         ]
        },
        {
         "marker": {
          "maxdisplayed": 10
         },
         "mode": "lines+markers",
         "name": "Trial21",
         "type": "scatter",
         "x": [
          0,
          1,
          2,
          3,
          4,
          5,
          6,
          7,
          8,
          9,
          10,
          11,
          12,
          13,
          14,
          15,
          16,
          17,
          18,
          19,
          20,
          21,
          22,
          23,
          24,
          25,
          26,
          27,
          28,
          29,
          30,
          31,
          32,
          33,
          34,
          35,
          36,
          37,
          38,
          39,
          40,
          41,
          42,
          43,
          44,
          45,
          46,
          47,
          48,
          49,
          50,
          51,
          52,
          53,
          54,
          55,
          56,
          57,
          58,
          59,
          60,
          61,
          62,
          63,
          64,
          65,
          66,
          67,
          68,
          69,
          70,
          71,
          72,
          73,
          74,
          75,
          76,
          77,
          78,
          79,
          80,
          81,
          82,
          83,
          84,
          85,
          86,
          87,
          88,
          89,
          90,
          91,
          92,
          93,
          94,
          95,
          96,
          97,
          98,
          99
         ],
         "y": [
          0.6657319068908691,
          0.6555990874767303,
          0.646766185760498,
          0.6387702524662018,
          0.6312715768814087,
          0.6242093046506246,
          0.6175199661936078,
          0.6112461015582085,
          0.6052864260143704,
          0.5997386276721954,
          0.5943994088606401,
          0.5893588910500208,
          0.5845650434494019,
          0.5800518095493317,
          0.5758341312408447,
          0.5718703866004944,
          0.568131124272066,
          0.5646060109138489,
          0.5612783494748568,
          0.558112895488739,
          0.555110494295756,
          0.5523041987960989,
          0.5496103426684504,
          0.5470409666498502,
          0.5446301865577697,
          0.5423621030954214,
          0.5401975424201401,
          0.5381138069289071,
          0.5361220548892843,
          0.5342340230941772,
          0.5324271859661225,
          0.5306865535676479,
          0.5290606816609701,
          0.5275011194102904,
          0.5260328548295158,
          0.5246163888110055,
          0.5232842008809786,
          0.5220099185642443,
          0.5207771979845487,
          0.5196187406778335,
          0.518536446298041,
          0.5174934161560876,
          0.5164637219074161,
          0.5154863480817188,
          0.5145576510164472,
          0.5136457364196363,
          0.5127757432612967,
          0.5119576919823885,
          0.5111605932517927,
          0.5104209995269775,
          0.5097102411821777,
          0.5090476624094523,
          0.5084007359900564,
          0.5077586659678707,
          0.507134511795911,
          0.5065475180745125,
          0.5059830044445238,
          0.5054455178564993,
          0.5049666393611391,
          0.5044982329010963,
          0.5040332445355712,
          0.5035807177905114,
          0.5031565900832887,
          0.5027423975989223,
          0.5023643791675567,
          0.5019954731970122,
          0.5016508823010459,
          0.5013289596228039,
          0.5010108800901882,
          0.5007251530885697,
          0.5004666909365587,
          0.5002084945638975,
          0.4999735281892019,
          0.49976635059794866,
          0.4995685585339864,
          0.49938527533882543,
          0.49920192709216826,
          0.4990413765876721,
          0.4988818338400201,
          0.4987420540302992,
          0.49860166215602264,
          0.4984797410121778,
          0.49837392389056195,
          0.4982718144144331,
          0.4981986165046692,
          0.4981317482022352,
          0.49808852186148195,
          0.4980557659132914,
          0.4980318087540316,
          0.4980014032787747,
          0.4980075722867316,
          0.49800417507472244,
          0.49800397792170126,
          0.4980233888676826,
          0.4980490201397946,
          0.4980698538323243,
          0.4980893543700582,
          0.49812142611766347,
          0.4981549716357029,
          0.4982123538851738
         ]
        },
        {
         "marker": {
          "maxdisplayed": 10
         },
         "mode": "lines+markers",
         "name": "Trial22",
         "type": "scatter",
         "x": [
          0
         ],
         "y": [
          0.6830301284790039
         ]
        },
        {
         "marker": {
          "maxdisplayed": 10
         },
         "mode": "lines+markers",
         "name": "Trial23",
         "type": "scatter",
         "x": [
          0
         ],
         "y": [
          0.6916928291320801
         ]
        },
        {
         "marker": {
          "maxdisplayed": 10
         },
         "mode": "lines+markers",
         "name": "Trial24",
         "type": "scatter",
         "x": [
          0
         ],
         "y": [
          0.6989087462425232
         ]
        },
        {
         "marker": {
          "maxdisplayed": 10
         },
         "mode": "lines+markers",
         "name": "Trial25",
         "type": "scatter",
         "x": [
          0,
          1,
          2,
          3,
          4,
          5,
          6,
          7,
          8,
          9,
          10,
          11,
          12,
          13,
          14,
          15,
          16,
          17,
          18,
          19,
          20,
          21,
          22,
          23,
          24,
          25,
          26,
          27,
          28,
          29,
          30,
          31,
          32,
          33,
          34,
          35,
          36,
          37,
          38,
          39,
          40,
          41,
          42,
          43,
          44,
          45,
          46,
          47,
          48,
          49,
          50,
          51,
          52,
          53,
          54,
          55,
          56,
          57,
          58,
          59,
          60,
          61,
          62,
          63,
          64,
          65,
          66,
          67,
          68,
          69,
          70,
          71,
          72,
          73,
          74,
          75,
          76,
          77,
          78,
          79,
          80,
          81,
          82,
          83,
          84,
          85,
          86,
          87,
          88,
          89,
          90,
          91,
          92,
          93,
          94,
          95,
          96,
          97,
          98,
          99
         ],
         "y": [
          0.6732635498046875,
          0.6627911329269409,
          0.65388023853302,
          0.6457443982362747,
          0.6383991360664367,
          0.6315709551175436,
          0.6251963887895856,
          0.6191345006227493,
          0.6133208870887756,
          0.6078704118728637,
          0.6027810844508085,
          0.5979706247647604,
          0.5933536291122437,
          0.5889495781489781,
          0.5848023970921834,
          0.5808997750282288,
          0.57722749078975,
          0.5737601849767897,
          0.5704569847960221,
          0.5674094080924987,
          0.5645082252366203,
          0.5617247142575004,
          0.5591323557107345,
          0.556675598025322,
          0.5543668651580811,
          0.5521443715462317,
          0.5500550082436314,
          0.5481102551732745,
          0.5462717660542192,
          0.5445278882980347,
          0.5428692650410437,
          0.5412356546148658,
          0.5396518264756058,
          0.5381609946489334,
          0.5367511664118085,
          0.5353710146413909,
          0.5341287086138854,
          0.5329130268410632,
          0.5317652829182453,
          0.5306740716099739,
          0.5296525395498043,
          0.5286462803681692,
          0.5276911695336186,
          0.5267551324584268,
          0.5258747061093648,
          0.5249744569477828,
          0.5241123456904229,
          0.5232531030972799,
          0.5224289778543978,
          0.5216441905498505,
          0.5208655157509972,
          0.5201221011005915,
          0.5193889343513632,
          0.5186706759311535,
          0.5179781312292272,
          0.5173449005399432,
          0.5166900936971631,
          0.5160464382377165,
          0.5154021882404716,
          0.5147786418596904,
          0.514169243515515,
          0.5135723145738724,
          0.5130425847712017,
          0.5124924606643617,
          0.511949295264024,
          0.5114011583906232,
          0.5108949448635329,
          0.5103756934404373,
          0.509889798319858,
          0.5094119212457112,
          0.5089560936034565,
          0.5085122912294335,
          0.5081145453126463,
          0.5077029144441759,
          0.5073093589146932,
          0.5068952288282546,
          0.506515883780145,
          0.5061362519478186,
          0.5057802562472187,
          0.5054675690829754,
          0.5051549411850211,
          0.5048545835221686,
          0.5045446254402758,
          0.5042461362623033,
          0.5039558659581577,
          0.5036572228337444,
          0.5033535111224514,
          0.5030703256753358,
          0.502813979815901,
          0.5025627613067627,
          0.502338055398438,
          0.5021243493842042,
          0.5019132770517821,
          0.5017167554890856,
          0.5015220262502369,
          0.5013035610318184,
          0.5011010068593565,
          0.5009366331660018,
          0.5008071817532934,
          0.5006456366181373
         ]
        },
        {
         "marker": {
          "maxdisplayed": 10
         },
         "mode": "lines+markers",
         "name": "Trial26",
         "type": "scatter",
         "x": [
          0
         ],
         "y": [
          0.6875900626182556
         ]
        },
        {
         "marker": {
          "maxdisplayed": 10
         },
         "mode": "lines+markers",
         "name": "Trial27",
         "type": "scatter",
         "x": [
          0
         ],
         "y": [
          1.2730276584625244
         ]
        },
        {
         "marker": {
          "maxdisplayed": 10
         },
         "mode": "lines+markers",
         "name": "Trial28",
         "type": "scatter",
         "x": [
          0
         ],
         "y": [
          0.7179746627807617
         ]
        },
        {
         "marker": {
          "maxdisplayed": 10
         },
         "mode": "lines+markers",
         "name": "Trial29",
         "type": "scatter",
         "x": [
          0
         ],
         "y": [
          0.6867449879646301
         ]
        },
        {
         "marker": {
          "maxdisplayed": 10
         },
         "mode": "lines+markers",
         "name": "Trial30",
         "type": "scatter",
         "x": [
          0
         ],
         "y": [
          0.6861047744750977
         ]
        },
        {
         "marker": {
          "maxdisplayed": 10
         },
         "mode": "lines+markers",
         "name": "Trial31",
         "type": "scatter",
         "x": [
          0
         ],
         "y": [
          0.6939617991447449
         ]
        },
        {
         "marker": {
          "maxdisplayed": 10
         },
         "mode": "lines+markers",
         "name": "Trial32",
         "type": "scatter",
         "x": [
          0
         ],
         "y": [
          0.6972934007644653
         ]
        },
        {
         "marker": {
          "maxdisplayed": 10
         },
         "mode": "lines+markers",
         "name": "Trial33",
         "type": "scatter",
         "x": [
          0
         ],
         "y": [
          0.6794309616088867
         ]
        },
        {
         "marker": {
          "maxdisplayed": 10
         },
         "mode": "lines+markers",
         "name": "Trial34",
         "type": "scatter",
         "x": [
          0
         ],
         "y": [
          0.6960205435752869
         ]
        },
        {
         "marker": {
          "maxdisplayed": 10
         },
         "mode": "lines+markers",
         "name": "Trial35",
         "type": "scatter",
         "x": [
          0
         ],
         "y": [
          2.090881586074829
         ]
        },
        {
         "marker": {
          "maxdisplayed": 10
         },
         "mode": "lines+markers",
         "name": "Trial36",
         "type": "scatter",
         "x": [
          0
         ],
         "y": [
          7.3194661140441895
         ]
        },
        {
         "marker": {
          "maxdisplayed": 10
         },
         "mode": "lines+markers",
         "name": "Trial37",
         "type": "scatter",
         "x": [
          0,
          1,
          2,
          3,
          4,
          5,
          6,
          7,
          8,
          9,
          10,
          11,
          12,
          13,
          14,
          15,
          16,
          17,
          18,
          19,
          20,
          21,
          22,
          23,
          24,
          25,
          26,
          27,
          28,
          29,
          30,
          31,
          32,
          33,
          34,
          35,
          36,
          37,
          38,
          39,
          40,
          41,
          42,
          43,
          44,
          45,
          46,
          47,
          48,
          49,
          50,
          51,
          52,
          53,
          54,
          55,
          56,
          57,
          58,
          59,
          60,
          61,
          62,
          63,
          64,
          65,
          66,
          67,
          68,
          69,
          70,
          71,
          72,
          73,
          74,
          75,
          76,
          77,
          78,
          79,
          80,
          81,
          82,
          83,
          84,
          85,
          86,
          87,
          88,
          89,
          90,
          91,
          92,
          93,
          94,
          95,
          96,
          97,
          98,
          99
         ],
         "y": [
          0.6714690327644348,
          0.6619601547718048,
          0.6527417699495951,
          0.6443111151456833,
          0.6363991379737854,
          0.6289495229721069,
          0.6220230800764901,
          0.6155664548277855,
          0.6095364888509115,
          0.6038952887058258,
          0.598620821129192,
          0.5937346865733465,
          0.589174733712123,
          0.5849275588989258,
          0.5809420426686605,
          0.5772200636565685,
          0.5737123524441439,
          0.5704476601547666,
          0.5673780880476299,
          0.564510041475296,
          0.561777671178182,
          0.5592299564318224,
          0.5568516539490741,
          0.5546550552050272,
          0.5525892615318299,
          0.5506550990618192,
          0.5488435471499408,
          0.5471479147672653,
          0.5455421969808382,
          0.544023072719574,
          0.5425882272181972,
          0.5412377789616585,
          0.5399924372181748,
          0.5388143886538113,
          0.53767044203622,
          0.5365710084637006,
          0.5355431075031692,
          0.5345521404554969,
          0.5336102124972221,
          0.5326994620263577,
          0.5318204426183933,
          0.530972441037496,
          0.5301610889822937,
          0.5293998846953566,
          0.5286762800481585,
          0.5279823872058288,
          0.527328798111449,
          0.5267217059930166,
          0.5261847559286623,
          0.5256391149759293,
          0.5250758867637784,
          0.5245384235794728,
          0.5240554927654986,
          0.5235776222414441,
          0.5231142445044084,
          0.5226819893079144,
          0.522294832426205,
          0.5219161741692444,
          0.5215622878680795,
          0.5212186589837075,
          0.520887916693922,
          0.5205537124026206,
          0.5202317469649844,
          0.5198978879489005,
          0.5196029878579653,
          0.5193262745936712,
          0.5190818607807159,
          0.5188334194176337,
          0.5186168581679247,
          0.5184250197240284,
          0.5182363831661116,
          0.5180430176357428,
          0.5178871885554431,
          0.5177219546324497,
          0.5175932705402374,
          0.5174854738931907,
          0.517384352235051,
          0.5172581668847647,
          0.5171354363990736,
          0.5170324739068747,
          0.5169669444914218,
          0.5168978001286344,
          0.5168179420821638,
          0.5167652655925069,
          0.5167359572999618,
          0.5166991848585217,
          0.5166439862771967,
          0.5166015337136659,
          0.516560304365801,
          0.5165141108963225,
          0.5164702426601242,
          0.5164359649238379,
          0.5164149791322729,
          0.5164273771199774,
          0.5164320861038408,
          0.5164423147216439,
          0.5164637255299952,
          0.516487831667978,
          0.5164949469494097,
          0.5165071150660515
         ]
        },
        {
         "marker": {
          "maxdisplayed": 10
         },
         "mode": "lines+markers",
         "name": "Trial38",
         "type": "scatter",
         "x": [
          0
         ],
         "y": [
          0.6779296398162842
         ]
        },
        {
         "marker": {
          "maxdisplayed": 10
         },
         "mode": "lines+markers",
         "name": "Trial39",
         "type": "scatter",
         "x": [
          0
         ],
         "y": [
          2.844128370285034
         ]
        },
        {
         "marker": {
          "maxdisplayed": 10
         },
         "mode": "lines+markers",
         "name": "Trial40",
         "type": "scatter",
         "x": [
          0
         ],
         "y": [
          3426.623046875
         ]
        },
        {
         "marker": {
          "maxdisplayed": 10
         },
         "mode": "lines+markers",
         "name": "Trial41",
         "type": "scatter",
         "x": [
          0,
          1,
          2,
          3,
          4,
          5,
          6,
          7,
          8,
          9,
          10,
          11,
          12,
          13,
          14,
          15,
          16,
          17,
          18,
          19,
          20,
          21,
          22,
          23,
          24,
          25,
          26,
          27,
          28,
          29,
          30,
          31,
          32,
          33,
          34,
          35,
          36,
          37,
          38,
          39,
          40,
          41,
          42,
          43,
          44,
          45,
          46,
          47,
          48,
          49,
          50,
          51,
          52,
          53,
          54,
          55,
          56,
          57,
          58,
          59,
          60,
          61,
          62,
          63,
          64,
          65,
          66,
          67,
          68,
          69,
          70,
          71,
          72,
          73,
          74,
          75,
          76,
          77,
          78,
          79,
          80,
          81,
          82,
          83,
          84,
          85,
          86,
          87,
          88,
          89,
          90,
          91,
          92,
          93,
          94,
          95,
          96,
          97,
          98,
          99
         ],
         "y": [
          0.661589503288269,
          0.6537319123744965,
          0.6467107733090719,
          0.6402319967746735,
          0.6340696215629578,
          0.6280652383963267,
          0.622374815600259,
          0.6169174686074257,
          0.6117307411299812,
          0.6068167984485626,
          0.6020783727819269,
          0.5975372443596522,
          0.5932385646379911,
          0.589146933385304,
          0.5851826786994934,
          0.5813921801745892,
          0.5777976898586049,
          0.5743598673078749,
          0.5710935122088382,
          0.5679550766944885,
          0.5649663124765668,
          0.5621455691077493,
          0.559428562288699,
          0.556868102401495,
          0.5544266390800476,
          0.552091400210674,
          0.5498333551265575,
          0.5476828355874334,
          0.5456503989367649,
          0.5437004745006562,
          0.541865550702618,
          0.5401182202622294,
          0.5384544730186462,
          0.5368311212343329,
          0.5352920438562121,
          0.533809132874012,
          0.5323904567473644,
          0.5310358899204355,
          0.5297223490018111,
          0.5284817978739739,
          0.5272848293548678,
          0.5261349450974238,
          0.5250218372012294,
          0.5239666524258527,
          0.5229474703470866,
          0.5219400836073834,
          0.5209616498744234,
          0.5200418730576833,
          0.5191576304484387,
          0.5182960903644562,
          0.5174680843072779,
          0.5166840793994757,
          0.515918141828393,
          0.5151766080547262,
          0.5144400098107078,
          0.5137327595480851,
          0.5130336227124197,
          0.5123507550050472,
          0.5116714582604877,
          0.5110179786880811,
          0.5103725468526121,
          0.5097502758426051,
          0.5091496937804751,
          0.5085782073438168,
          0.5079971588574923,
          0.5074516309030128,
          0.5069286987852695,
          0.5063903752495261,
          0.5058639308680659,
          0.5053546982152122,
          0.5048787404953594,
          0.5044109088679155,
          0.5039615704588694,
          0.5035298406272322,
          0.5030970013141632,
          0.5026820000065001,
          0.5022686398648596,
          0.5018687454553751,
          0.5014860969555529,
          0.5011114988476038,
          0.5007357115362897,
          0.50036958477846,
          0.5000195898205401,
          0.4996644929051399,
          0.4993253041716183,
          0.4989956215370533,
          0.4986742680100189,
          0.4983591210435737,
          0.4980487933989321,
          0.49775021771589917,
          0.4974659412771791,
          0.49720119684934616,
          0.4969409906095074,
          0.4966733588817272,
          0.4964200430794766,
          0.49619785137474537,
          0.4959718873820354,
          0.4957426692150077,
          0.4955249651513918,
          0.49530065834522247
         ]
        },
        {
         "marker": {
          "maxdisplayed": 10
         },
         "mode": "lines+markers",
         "name": "Trial42",
         "type": "scatter",
         "x": [
          0,
          1,
          2,
          3,
          4,
          5,
          6,
          7,
          8,
          9,
          10,
          11,
          12,
          13,
          14,
          15,
          16,
          17,
          18,
          19,
          20,
          21,
          22,
          23,
          24,
          25,
          26,
          27,
          28,
          29,
          30,
          31,
          32,
          33,
          34,
          35,
          36,
          37,
          38,
          39,
          40,
          41,
          42,
          43,
          44,
          45,
          46,
          47,
          48,
          49,
          50,
          51,
          52,
          53,
          54,
          55,
          56,
          57,
          58,
          59,
          60,
          61,
          62,
          63,
          64,
          65,
          66,
          67,
          68,
          69,
          70,
          71,
          72,
          73,
          74,
          75,
          76,
          77,
          78,
          79,
          80,
          81,
          82,
          83,
          84,
          85,
          86,
          87,
          88,
          89,
          90,
          91,
          92,
          93,
          94,
          95,
          96,
          97,
          98,
          99
         ],
         "y": [
          0.6700044870376587,
          0.6610859334468842,
          0.6531639099121094,
          0.6459010988473892,
          0.638946533203125,
          0.6321959594885508,
          0.625767571585519,
          0.6196251288056374,
          0.6138239635361565,
          0.6082462310791016,
          0.6029661297798157,
          0.5979449152946472,
          0.5931107172599206,
          0.5885895958968571,
          0.5843094031016032,
          0.5802440531551838,
          0.576359023066128,
          0.5726912319660187,
          0.5692071757818523,
          0.5659009099006653,
          0.5628169661476499,
          0.5598952309651808,
          0.5571667007778002,
          0.5546006175378958,
          0.5521434974670411,
          0.5498320162296295,
          0.5476990894035056,
          0.5456851848534175,
          0.5437897659581283,
          0.5420082688331604,
          0.540295721061768,
          0.5386489033699036,
          0.5370742118719852,
          0.5355847144828123,
          0.5341721764632634,
          0.532831244998508,
          0.5315531878858,
          0.5302900091597909,
          0.5291023124486972,
          0.5279883667826653,
          0.5269015307833509,
          0.5259094486633936,
          0.5249316428982934,
          0.5240229706872593,
          0.5231548051039377,
          0.5223267065442126,
          0.5215549811403802,
          0.5208322008450826,
          0.5201420595451277,
          0.5194955539703369,
          0.5189050231494156,
          0.5183761343359947,
          0.5178577680632753,
          0.5173578284404896,
          0.5168823859908364,
          0.5164300203323364,
          0.5160180858352728,
          0.5156194768075285,
          0.5152449345184584,
          0.5148970857262611,
          0.5145438254856672,
          0.5142169469787229,
          0.5139122132271056,
          0.5136417155154049,
          0.513364330621866,
          0.5131014332626805,
          0.5128200063064917,
          0.5125723805497674,
          0.5123229290264241,
          0.5120728675808225,
          0.5118436914094737,
          0.5116457177533044,
          0.5114540882306556,
          0.5112636898820465,
          0.5110984019438426,
          0.5109365504038962,
          0.5107938627918045,
          0.5106565222526208,
          0.5105048538763312,
          0.5103627681732178,
          0.5102238401218697,
          0.5101025188114585,
          0.5100124762000808,
          0.5099359094387009,
          0.5098584311849931,
          0.5098117531038994,
          0.5097730772933741,
          0.5097058242694898,
          0.5096718089634114,
          0.5096462921963798,
          0.5096344544992342,
          0.5096266266444455,
          0.509627051571364,
          0.5096294077786994,
          0.5096401832605663,
          0.509646044112742,
          0.509693655463838,
          0.5097213749374662,
          0.5097313243331332,
          0.5097502890229225
         ]
        },
        {
         "marker": {
          "maxdisplayed": 10
         },
         "mode": "lines+markers",
         "name": "Trial43",
         "type": "scatter",
         "x": [
          0
         ],
         "y": [
          0.6840288639068604
         ]
        },
        {
         "marker": {
          "maxdisplayed": 10
         },
         "mode": "lines+markers",
         "name": "Trial44",
         "type": "scatter",
         "x": [
          0
         ],
         "y": [
          0.6960230469703674
         ]
        },
        {
         "marker": {
          "maxdisplayed": 10
         },
         "mode": "lines+markers",
         "name": "Trial45",
         "type": "scatter",
         "x": [
          0
         ],
         "y": [
          0.6924725770950317
         ]
        },
        {
         "marker": {
          "maxdisplayed": 10
         },
         "mode": "lines+markers",
         "name": "Trial46",
         "type": "scatter",
         "x": [
          0
         ],
         "y": [
          0.6871045827865601
         ]
        },
        {
         "marker": {
          "maxdisplayed": 10
         },
         "mode": "lines+markers",
         "name": "Trial47",
         "type": "scatter",
         "x": [
          0,
          1,
          2,
          3,
          4,
          5,
          6,
          7,
          8,
          9,
          10,
          11,
          12
         ],
         "y": [
          0.6606032252311707,
          0.6533809900283813,
          0.646718422571818,
          0.6406345814466476,
          0.6349289894104004,
          0.6295805970827738,
          0.6245577931404114,
          0.6198026090860367,
          0.6153545313411288,
          0.611086767911911,
          0.6069991967894814,
          0.6030596146980921,
          0.5992911137067355
         ]
        },
        {
         "marker": {
          "maxdisplayed": 10
         },
         "mode": "lines+markers",
         "name": "Trial48",
         "type": "scatter",
         "x": [
          0
         ],
         "y": [
          3.1667749881744385
         ]
        },
        {
         "marker": {
          "maxdisplayed": 10
         },
         "mode": "lines+markers",
         "name": "Trial49",
         "type": "scatter",
         "x": [
          0
         ],
         "y": [
          0.6923602223396301
         ]
        }
       ],
       "layout": {
        "showlegend": false,
        "template": {
         "data": {
          "bar": [
           {
            "error_x": {
             "color": "#2a3f5f"
            },
            "error_y": {
             "color": "#2a3f5f"
            },
            "marker": {
             "line": {
              "color": "#E5ECF6",
              "width": 0.5
             },
             "pattern": {
              "fillmode": "overlay",
              "size": 10,
              "solidity": 0.2
             }
            },
            "type": "bar"
           }
          ],
          "barpolar": [
           {
            "marker": {
             "line": {
              "color": "#E5ECF6",
              "width": 0.5
             },
             "pattern": {
              "fillmode": "overlay",
              "size": 10,
              "solidity": 0.2
             }
            },
            "type": "barpolar"
           }
          ],
          "carpet": [
           {
            "aaxis": {
             "endlinecolor": "#2a3f5f",
             "gridcolor": "white",
             "linecolor": "white",
             "minorgridcolor": "white",
             "startlinecolor": "#2a3f5f"
            },
            "baxis": {
             "endlinecolor": "#2a3f5f",
             "gridcolor": "white",
             "linecolor": "white",
             "minorgridcolor": "white",
             "startlinecolor": "#2a3f5f"
            },
            "type": "carpet"
           }
          ],
          "choropleth": [
           {
            "colorbar": {
             "outlinewidth": 0,
             "ticks": ""
            },
            "type": "choropleth"
           }
          ],
          "contour": [
           {
            "colorbar": {
             "outlinewidth": 0,
             "ticks": ""
            },
            "colorscale": [
             [
              0,
              "#0d0887"
             ],
             [
              0.1111111111111111,
              "#46039f"
             ],
             [
              0.2222222222222222,
              "#7201a8"
             ],
             [
              0.3333333333333333,
              "#9c179e"
             ],
             [
              0.4444444444444444,
              "#bd3786"
             ],
             [
              0.5555555555555556,
              "#d8576b"
             ],
             [
              0.6666666666666666,
              "#ed7953"
             ],
             [
              0.7777777777777778,
              "#fb9f3a"
             ],
             [
              0.8888888888888888,
              "#fdca26"
             ],
             [
              1,
              "#f0f921"
             ]
            ],
            "type": "contour"
           }
          ],
          "contourcarpet": [
           {
            "colorbar": {
             "outlinewidth": 0,
             "ticks": ""
            },
            "type": "contourcarpet"
           }
          ],
          "heatmap": [
           {
            "colorbar": {
             "outlinewidth": 0,
             "ticks": ""
            },
            "colorscale": [
             [
              0,
              "#0d0887"
             ],
             [
              0.1111111111111111,
              "#46039f"
             ],
             [
              0.2222222222222222,
              "#7201a8"
             ],
             [
              0.3333333333333333,
              "#9c179e"
             ],
             [
              0.4444444444444444,
              "#bd3786"
             ],
             [
              0.5555555555555556,
              "#d8576b"
             ],
             [
              0.6666666666666666,
              "#ed7953"
             ],
             [
              0.7777777777777778,
              "#fb9f3a"
             ],
             [
              0.8888888888888888,
              "#fdca26"
             ],
             [
              1,
              "#f0f921"
             ]
            ],
            "type": "heatmap"
           }
          ],
          "heatmapgl": [
           {
            "colorbar": {
             "outlinewidth": 0,
             "ticks": ""
            },
            "colorscale": [
             [
              0,
              "#0d0887"
             ],
             [
              0.1111111111111111,
              "#46039f"
             ],
             [
              0.2222222222222222,
              "#7201a8"
             ],
             [
              0.3333333333333333,
              "#9c179e"
             ],
             [
              0.4444444444444444,
              "#bd3786"
             ],
             [
              0.5555555555555556,
              "#d8576b"
             ],
             [
              0.6666666666666666,
              "#ed7953"
             ],
             [
              0.7777777777777778,
              "#fb9f3a"
             ],
             [
              0.8888888888888888,
              "#fdca26"
             ],
             [
              1,
              "#f0f921"
             ]
            ],
            "type": "heatmapgl"
           }
          ],
          "histogram": [
           {
            "marker": {
             "pattern": {
              "fillmode": "overlay",
              "size": 10,
              "solidity": 0.2
             }
            },
            "type": "histogram"
           }
          ],
          "histogram2d": [
           {
            "colorbar": {
             "outlinewidth": 0,
             "ticks": ""
            },
            "colorscale": [
             [
              0,
              "#0d0887"
             ],
             [
              0.1111111111111111,
              "#46039f"
             ],
             [
              0.2222222222222222,
              "#7201a8"
             ],
             [
              0.3333333333333333,
              "#9c179e"
             ],
             [
              0.4444444444444444,
              "#bd3786"
             ],
             [
              0.5555555555555556,
              "#d8576b"
             ],
             [
              0.6666666666666666,
              "#ed7953"
             ],
             [
              0.7777777777777778,
              "#fb9f3a"
             ],
             [
              0.8888888888888888,
              "#fdca26"
             ],
             [
              1,
              "#f0f921"
             ]
            ],
            "type": "histogram2d"
           }
          ],
          "histogram2dcontour": [
           {
            "colorbar": {
             "outlinewidth": 0,
             "ticks": ""
            },
            "colorscale": [
             [
              0,
              "#0d0887"
             ],
             [
              0.1111111111111111,
              "#46039f"
             ],
             [
              0.2222222222222222,
              "#7201a8"
             ],
             [
              0.3333333333333333,
              "#9c179e"
             ],
             [
              0.4444444444444444,
              "#bd3786"
             ],
             [
              0.5555555555555556,
              "#d8576b"
             ],
             [
              0.6666666666666666,
              "#ed7953"
             ],
             [
              0.7777777777777778,
              "#fb9f3a"
             ],
             [
              0.8888888888888888,
              "#fdca26"
             ],
             [
              1,
              "#f0f921"
             ]
            ],
            "type": "histogram2dcontour"
           }
          ],
          "mesh3d": [
           {
            "colorbar": {
             "outlinewidth": 0,
             "ticks": ""
            },
            "type": "mesh3d"
           }
          ],
          "parcoords": [
           {
            "line": {
             "colorbar": {
              "outlinewidth": 0,
              "ticks": ""
             }
            },
            "type": "parcoords"
           }
          ],
          "pie": [
           {
            "automargin": true,
            "type": "pie"
           }
          ],
          "scatter": [
           {
            "fillpattern": {
             "fillmode": "overlay",
             "size": 10,
             "solidity": 0.2
            },
            "type": "scatter"
           }
          ],
          "scatter3d": [
           {
            "line": {
             "colorbar": {
              "outlinewidth": 0,
              "ticks": ""
             }
            },
            "marker": {
             "colorbar": {
              "outlinewidth": 0,
              "ticks": ""
             }
            },
            "type": "scatter3d"
           }
          ],
          "scattercarpet": [
           {
            "marker": {
             "colorbar": {
              "outlinewidth": 0,
              "ticks": ""
             }
            },
            "type": "scattercarpet"
           }
          ],
          "scattergeo": [
           {
            "marker": {
             "colorbar": {
              "outlinewidth": 0,
              "ticks": ""
             }
            },
            "type": "scattergeo"
           }
          ],
          "scattergl": [
           {
            "marker": {
             "colorbar": {
              "outlinewidth": 0,
              "ticks": ""
             }
            },
            "type": "scattergl"
           }
          ],
          "scattermapbox": [
           {
            "marker": {
             "colorbar": {
              "outlinewidth": 0,
              "ticks": ""
             }
            },
            "type": "scattermapbox"
           }
          ],
          "scatterpolar": [
           {
            "marker": {
             "colorbar": {
              "outlinewidth": 0,
              "ticks": ""
             }
            },
            "type": "scatterpolar"
           }
          ],
          "scatterpolargl": [
           {
            "marker": {
             "colorbar": {
              "outlinewidth": 0,
              "ticks": ""
             }
            },
            "type": "scatterpolargl"
           }
          ],
          "scatterternary": [
           {
            "marker": {
             "colorbar": {
              "outlinewidth": 0,
              "ticks": ""
             }
            },
            "type": "scatterternary"
           }
          ],
          "surface": [
           {
            "colorbar": {
             "outlinewidth": 0,
             "ticks": ""
            },
            "colorscale": [
             [
              0,
              "#0d0887"
             ],
             [
              0.1111111111111111,
              "#46039f"
             ],
             [
              0.2222222222222222,
              "#7201a8"
             ],
             [
              0.3333333333333333,
              "#9c179e"
             ],
             [
              0.4444444444444444,
              "#bd3786"
             ],
             [
              0.5555555555555556,
              "#d8576b"
             ],
             [
              0.6666666666666666,
              "#ed7953"
             ],
             [
              0.7777777777777778,
              "#fb9f3a"
             ],
             [
              0.8888888888888888,
              "#fdca26"
             ],
             [
              1,
              "#f0f921"
             ]
            ],
            "type": "surface"
           }
          ],
          "table": [
           {
            "cells": {
             "fill": {
              "color": "#EBF0F8"
             },
             "line": {
              "color": "white"
             }
            },
            "header": {
             "fill": {
              "color": "#C8D4E3"
             },
             "line": {
              "color": "white"
             }
            },
            "type": "table"
           }
          ]
         },
         "layout": {
          "annotationdefaults": {
           "arrowcolor": "#2a3f5f",
           "arrowhead": 0,
           "arrowwidth": 1
          },
          "autotypenumbers": "strict",
          "coloraxis": {
           "colorbar": {
            "outlinewidth": 0,
            "ticks": ""
           }
          },
          "colorscale": {
           "diverging": [
            [
             0,
             "#8e0152"
            ],
            [
             0.1,
             "#c51b7d"
            ],
            [
             0.2,
             "#de77ae"
            ],
            [
             0.3,
             "#f1b6da"
            ],
            [
             0.4,
             "#fde0ef"
            ],
            [
             0.5,
             "#f7f7f7"
            ],
            [
             0.6,
             "#e6f5d0"
            ],
            [
             0.7,
             "#b8e186"
            ],
            [
             0.8,
             "#7fbc41"
            ],
            [
             0.9,
             "#4d9221"
            ],
            [
             1,
             "#276419"
            ]
           ],
           "sequential": [
            [
             0,
             "#0d0887"
            ],
            [
             0.1111111111111111,
             "#46039f"
            ],
            [
             0.2222222222222222,
             "#7201a8"
            ],
            [
             0.3333333333333333,
             "#9c179e"
            ],
            [
             0.4444444444444444,
             "#bd3786"
            ],
            [
             0.5555555555555556,
             "#d8576b"
            ],
            [
             0.6666666666666666,
             "#ed7953"
            ],
            [
             0.7777777777777778,
             "#fb9f3a"
            ],
            [
             0.8888888888888888,
             "#fdca26"
            ],
            [
             1,
             "#f0f921"
            ]
           ],
           "sequentialminus": [
            [
             0,
             "#0d0887"
            ],
            [
             0.1111111111111111,
             "#46039f"
            ],
            [
             0.2222222222222222,
             "#7201a8"
            ],
            [
             0.3333333333333333,
             "#9c179e"
            ],
            [
             0.4444444444444444,
             "#bd3786"
            ],
            [
             0.5555555555555556,
             "#d8576b"
            ],
            [
             0.6666666666666666,
             "#ed7953"
            ],
            [
             0.7777777777777778,
             "#fb9f3a"
            ],
            [
             0.8888888888888888,
             "#fdca26"
            ],
            [
             1,
             "#f0f921"
            ]
           ]
          },
          "colorway": [
           "#636efa",
           "#EF553B",
           "#00cc96",
           "#ab63fa",
           "#FFA15A",
           "#19d3f3",
           "#FF6692",
           "#B6E880",
           "#FF97FF",
           "#FECB52"
          ],
          "font": {
           "color": "#2a3f5f"
          },
          "geo": {
           "bgcolor": "white",
           "lakecolor": "white",
           "landcolor": "#E5ECF6",
           "showlakes": true,
           "showland": true,
           "subunitcolor": "white"
          },
          "hoverlabel": {
           "align": "left"
          },
          "hovermode": "closest",
          "mapbox": {
           "style": "light"
          },
          "paper_bgcolor": "white",
          "plot_bgcolor": "#E5ECF6",
          "polar": {
           "angularaxis": {
            "gridcolor": "white",
            "linecolor": "white",
            "ticks": ""
           },
           "bgcolor": "#E5ECF6",
           "radialaxis": {
            "gridcolor": "white",
            "linecolor": "white",
            "ticks": ""
           }
          },
          "scene": {
           "xaxis": {
            "backgroundcolor": "#E5ECF6",
            "gridcolor": "white",
            "gridwidth": 2,
            "linecolor": "white",
            "showbackground": true,
            "ticks": "",
            "zerolinecolor": "white"
           },
           "yaxis": {
            "backgroundcolor": "#E5ECF6",
            "gridcolor": "white",
            "gridwidth": 2,
            "linecolor": "white",
            "showbackground": true,
            "ticks": "",
            "zerolinecolor": "white"
           },
           "zaxis": {
            "backgroundcolor": "#E5ECF6",
            "gridcolor": "white",
            "gridwidth": 2,
            "linecolor": "white",
            "showbackground": true,
            "ticks": "",
            "zerolinecolor": "white"
           }
          },
          "shapedefaults": {
           "line": {
            "color": "#2a3f5f"
           }
          },
          "ternary": {
           "aaxis": {
            "gridcolor": "white",
            "linecolor": "white",
            "ticks": ""
           },
           "baxis": {
            "gridcolor": "white",
            "linecolor": "white",
            "ticks": ""
           },
           "bgcolor": "#E5ECF6",
           "caxis": {
            "gridcolor": "white",
            "linecolor": "white",
            "ticks": ""
           }
          },
          "title": {
           "x": 0.05
          },
          "xaxis": {
           "automargin": true,
           "gridcolor": "white",
           "linecolor": "white",
           "ticks": "",
           "title": {
            "standoff": 15
           },
           "zerolinecolor": "white",
           "zerolinewidth": 2
          },
          "yaxis": {
           "automargin": true,
           "gridcolor": "white",
           "linecolor": "white",
           "ticks": "",
           "title": {
            "standoff": 15
           },
           "zerolinecolor": "white",
           "zerolinewidth": 2
          }
         }
        },
        "title": {
         "text": "Intermediate Values Plot"
        },
        "xaxis": {
         "title": {
          "text": "Step"
         }
        },
        "yaxis": {
         "title": {
          "text": "Intermediate Value"
         }
        }
       }
      }
     },
     "metadata": {},
     "output_type": "display_data"
    }
   ],
   "source": [
    "optuna.visualization.plot_intermediate_values(study)"
   ]
  },
  {
   "cell_type": "code",
   "execution_count": 11,
   "id": "36975487",
   "metadata": {
    "lines_to_next_cell": 2
   },
   "outputs": [],
   "source": [
    "# call function for best trial parameter extraction\n",
    "param_dict = extract_best_trial_params(study.best_params)"
   ]
  },
  {
   "cell_type": "code",
   "execution_count": 12,
   "id": "343e3219",
   "metadata": {
    "lines_to_next_cell": 2
   },
   "outputs": [
    {
     "name": "stdout",
     "output_type": "stream",
     "text": [
      "Epoch 0: Validation loss decreased (inf --> 0.682566).  Saving model ...\n",
      "\t Train_Loss: 0.7181 Train_Acc: 48.417 Val_Loss: 0.6826  BEST VAL Loss: 0.6826  Val_Acc: 55.333\n",
      "\n",
      "Epoch 1: Validation loss decreased (0.682566 --> 0.671562).  Saving model ...\n",
      "\t Train_Loss: 0.6934 Train_Acc: 57.667 Val_Loss: 0.6716  BEST VAL Loss: 0.6716  Val_Acc: 64.000\n",
      "\n",
      "Epoch 2: Validation loss decreased (0.671562 --> 0.662619).  Saving model ...\n",
      "\t Train_Loss: 0.6773 Train_Acc: 62.083 Val_Loss: 0.6626  BEST VAL Loss: 0.6626  Val_Acc: 66.667\n",
      "\n",
      "Epoch 3: Validation loss decreased (0.662619 --> 0.654679).  Saving model ...\n",
      "\t Train_Loss: 0.6632 Train_Acc: 66.750 Val_Loss: 0.6547  BEST VAL Loss: 0.6547  Val_Acc: 67.333\n",
      "\n",
      "Epoch 4: Validation loss decreased (0.654679 --> 0.647395).  Saving model ...\n",
      "\t Train_Loss: 0.6504 Train_Acc: 68.000 Val_Loss: 0.6474  BEST VAL Loss: 0.6474  Val_Acc: 69.333\n",
      "\n",
      "Epoch 5: Validation loss decreased (0.647395 --> 0.640803).  Saving model ...\n",
      "\t Train_Loss: 0.6395 Train_Acc: 67.500 Val_Loss: 0.6408  BEST VAL Loss: 0.6408  Val_Acc: 70.000\n",
      "\n",
      "Epoch 6: Validation loss decreased (0.640803 --> 0.634713).  Saving model ...\n",
      "\t Train_Loss: 0.6307 Train_Acc: 68.500 Val_Loss: 0.6347  BEST VAL Loss: 0.6347  Val_Acc: 71.333\n",
      "\n",
      "Epoch 7: Validation loss decreased (0.634713 --> 0.629100).  Saving model ...\n",
      "\t Train_Loss: 0.6221 Train_Acc: 69.750 Val_Loss: 0.6291  BEST VAL Loss: 0.6291  Val_Acc: 70.667\n",
      "\n",
      "Epoch 8: Validation loss decreased (0.629100 --> 0.623907).  Saving model ...\n",
      "\t Train_Loss: 0.6150 Train_Acc: 69.583 Val_Loss: 0.6239  BEST VAL Loss: 0.6239  Val_Acc: 70.000\n",
      "\n",
      "Epoch 9: Validation loss decreased (0.623907 --> 0.619017).  Saving model ...\n",
      "\t Train_Loss: 0.6082 Train_Acc: 70.083 Val_Loss: 0.6190  BEST VAL Loss: 0.6190  Val_Acc: 72.000\n",
      "\n",
      "Epoch 10: Validation loss decreased (0.619017 --> 0.614479).  Saving model ...\n",
      "\t Train_Loss: 0.6021 Train_Acc: 71.167 Val_Loss: 0.6145  BEST VAL Loss: 0.6145  Val_Acc: 72.667\n",
      "\n",
      "Epoch 11: Validation loss decreased (0.614479 --> 0.610185).  Saving model ...\n",
      "\t Train_Loss: 0.5957 Train_Acc: 71.667 Val_Loss: 0.6102  BEST VAL Loss: 0.6102  Val_Acc: 72.000\n",
      "\n",
      "Epoch 12: Validation loss decreased (0.610185 --> 0.606158).  Saving model ...\n",
      "\t Train_Loss: 0.5898 Train_Acc: 72.667 Val_Loss: 0.6062  BEST VAL Loss: 0.6062  Val_Acc: 72.667\n",
      "\n",
      "Epoch 13: Validation loss decreased (0.606158 --> 0.602366).  Saving model ...\n",
      "\t Train_Loss: 0.5839 Train_Acc: 73.083 Val_Loss: 0.6024  BEST VAL Loss: 0.6024  Val_Acc: 72.667\n",
      "\n",
      "Epoch 14: Validation loss decreased (0.602366 --> 0.598775).  Saving model ...\n",
      "\t Train_Loss: 0.5783 Train_Acc: 73.333 Val_Loss: 0.5988  BEST VAL Loss: 0.5988  Val_Acc: 72.667\n",
      "\n",
      "Epoch 15: Validation loss decreased (0.598775 --> 0.595401).  Saving model ...\n",
      "\t Train_Loss: 0.5728 Train_Acc: 73.500 Val_Loss: 0.5954  BEST VAL Loss: 0.5954  Val_Acc: 72.667\n",
      "\n",
      "Epoch 16: Validation loss decreased (0.595401 --> 0.592227).  Saving model ...\n",
      "\t Train_Loss: 0.5680 Train_Acc: 73.500 Val_Loss: 0.5922  BEST VAL Loss: 0.5922  Val_Acc: 72.000\n",
      "\n",
      "Epoch 17: Validation loss decreased (0.592227 --> 0.589229).  Saving model ...\n",
      "\t Train_Loss: 0.5636 Train_Acc: 73.417 Val_Loss: 0.5892  BEST VAL Loss: 0.5892  Val_Acc: 72.000\n",
      "\n",
      "Epoch 18: Validation loss decreased (0.589229 --> 0.586360).  Saving model ...\n",
      "\t Train_Loss: 0.5589 Train_Acc: 72.833 Val_Loss: 0.5864  BEST VAL Loss: 0.5864  Val_Acc: 72.667\n",
      "\n",
      "Epoch 19: Validation loss decreased (0.586360 --> 0.583684).  Saving model ...\n",
      "\t Train_Loss: 0.5544 Train_Acc: 75.250 Val_Loss: 0.5837  BEST VAL Loss: 0.5837  Val_Acc: 72.667\n",
      "\n",
      "Epoch 20: Validation loss decreased (0.583684 --> 0.581151).  Saving model ...\n",
      "\t Train_Loss: 0.5497 Train_Acc: 74.833 Val_Loss: 0.5812  BEST VAL Loss: 0.5812  Val_Acc: 73.333\n",
      "\n",
      "Epoch 21: Validation loss decreased (0.581151 --> 0.578719).  Saving model ...\n",
      "\t Train_Loss: 0.5456 Train_Acc: 74.417 Val_Loss: 0.5787  BEST VAL Loss: 0.5787  Val_Acc: 72.667\n",
      "\n",
      "Epoch 22: Validation loss decreased (0.578719 --> 0.576409).  Saving model ...\n",
      "\t Train_Loss: 0.5415 Train_Acc: 75.750 Val_Loss: 0.5764  BEST VAL Loss: 0.5764  Val_Acc: 72.667\n",
      "\n",
      "Epoch 23: Validation loss decreased (0.576409 --> 0.574218).  Saving model ...\n",
      "\t Train_Loss: 0.5373 Train_Acc: 75.583 Val_Loss: 0.5742  BEST VAL Loss: 0.5742  Val_Acc: 72.667\n",
      "\n",
      "Epoch 24: Validation loss decreased (0.574218 --> 0.572147).  Saving model ...\n",
      "\t Train_Loss: 0.5333 Train_Acc: 75.917 Val_Loss: 0.5721  BEST VAL Loss: 0.5721  Val_Acc: 72.667\n",
      "\n",
      "Epoch 25: Validation loss decreased (0.572147 --> 0.570171).  Saving model ...\n",
      "\t Train_Loss: 0.5294 Train_Acc: 76.583 Val_Loss: 0.5702  BEST VAL Loss: 0.5702  Val_Acc: 72.000\n",
      "\n",
      "Epoch 26: Validation loss decreased (0.570171 --> 0.568277).  Saving model ...\n",
      "\t Train_Loss: 0.5260 Train_Acc: 75.167 Val_Loss: 0.5683  BEST VAL Loss: 0.5683  Val_Acc: 72.667\n",
      "\n",
      "Epoch 27: Validation loss decreased (0.568277 --> 0.566466).  Saving model ...\n",
      "\t Train_Loss: 0.5226 Train_Acc: 76.250 Val_Loss: 0.5665  BEST VAL Loss: 0.5665  Val_Acc: 72.667\n",
      "\n",
      "Epoch 28: Validation loss decreased (0.566466 --> 0.564732).  Saving model ...\n",
      "\t Train_Loss: 0.5193 Train_Acc: 76.833 Val_Loss: 0.5647  BEST VAL Loss: 0.5647  Val_Acc: 72.667\n",
      "\n",
      "Epoch 29: Validation loss decreased (0.564732 --> 0.563082).  Saving model ...\n",
      "\t Train_Loss: 0.5157 Train_Acc: 76.417 Val_Loss: 0.5631  BEST VAL Loss: 0.5631  Val_Acc: 72.000\n",
      "\n",
      "Epoch 30: Validation loss decreased (0.563082 --> 0.561497).  Saving model ...\n",
      "\t Train_Loss: 0.5123 Train_Acc: 76.500 Val_Loss: 0.5615  BEST VAL Loss: 0.5615  Val_Acc: 72.000\n",
      "\n",
      "Epoch 31: Validation loss decreased (0.561497 --> 0.559960).  Saving model ...\n",
      "\t Train_Loss: 0.5090 Train_Acc: 76.750 Val_Loss: 0.5600  BEST VAL Loss: 0.5600  Val_Acc: 72.000\n",
      "\n",
      "Epoch 32: Validation loss decreased (0.559960 --> 0.558503).  Saving model ...\n",
      "\t Train_Loss: 0.5058 Train_Acc: 77.500 Val_Loss: 0.5585  BEST VAL Loss: 0.5585  Val_Acc: 72.000\n",
      "\n",
      "Epoch 33: Validation loss decreased (0.558503 --> 0.557109).  Saving model ...\n",
      "\t Train_Loss: 0.5030 Train_Acc: 76.583 Val_Loss: 0.5571  BEST VAL Loss: 0.5571  Val_Acc: 71.333\n",
      "\n",
      "Epoch 34: Validation loss decreased (0.557109 --> 0.555767).  Saving model ...\n",
      "\t Train_Loss: 0.4998 Train_Acc: 77.417 Val_Loss: 0.5558  BEST VAL Loss: 0.5558  Val_Acc: 71.333\n",
      "\n",
      "Epoch 35: Validation loss decreased (0.555767 --> 0.554496).  Saving model ...\n",
      "\t Train_Loss: 0.4967 Train_Acc: 78.667 Val_Loss: 0.5545  BEST VAL Loss: 0.5545  Val_Acc: 71.333\n",
      "\n",
      "Epoch 36: Validation loss decreased (0.554496 --> 0.553280).  Saving model ...\n",
      "\t Train_Loss: 0.4938 Train_Acc: 77.833 Val_Loss: 0.5533  BEST VAL Loss: 0.5533  Val_Acc: 71.333\n",
      "\n",
      "Epoch 37: Validation loss decreased (0.553280 --> 0.552098).  Saving model ...\n",
      "\t Train_Loss: 0.4910 Train_Acc: 78.833 Val_Loss: 0.5521  BEST VAL Loss: 0.5521  Val_Acc: 72.000\n",
      "\n",
      "Epoch 38: Validation loss decreased (0.552098 --> 0.550957).  Saving model ...\n",
      "\t Train_Loss: 0.4880 Train_Acc: 78.833 Val_Loss: 0.5510  BEST VAL Loss: 0.5510  Val_Acc: 72.000\n",
      "\n",
      "Epoch 39: Validation loss decreased (0.550957 --> 0.549838).  Saving model ...\n",
      "\t Train_Loss: 0.4851 Train_Acc: 78.917 Val_Loss: 0.5498  BEST VAL Loss: 0.5498  Val_Acc: 72.000\n",
      "\n",
      "Epoch 40: Validation loss decreased (0.549838 --> 0.548775).  Saving model ...\n",
      "\t Train_Loss: 0.4822 Train_Acc: 78.500 Val_Loss: 0.5488  BEST VAL Loss: 0.5488  Val_Acc: 72.000\n",
      "\n",
      "Epoch 41: Validation loss decreased (0.548775 --> 0.547759).  Saving model ...\n",
      "\t Train_Loss: 0.4795 Train_Acc: 79.250 Val_Loss: 0.5478  BEST VAL Loss: 0.5478  Val_Acc: 71.333\n",
      "\n",
      "Epoch 42: Validation loss decreased (0.547759 --> 0.546806).  Saving model ...\n",
      "\t Train_Loss: 0.4769 Train_Acc: 79.667 Val_Loss: 0.5468  BEST VAL Loss: 0.5468  Val_Acc: 72.000\n",
      "\n",
      "Epoch 43: Validation loss decreased (0.546806 --> 0.545864).  Saving model ...\n",
      "\t Train_Loss: 0.4744 Train_Acc: 79.250 Val_Loss: 0.5459  BEST VAL Loss: 0.5459  Val_Acc: 71.333\n",
      "\n",
      "Epoch 44: Validation loss decreased (0.545864 --> 0.544968).  Saving model ...\n",
      "\t Train_Loss: 0.4719 Train_Acc: 79.083 Val_Loss: 0.5450  BEST VAL Loss: 0.5450  Val_Acc: 72.000\n",
      "\n",
      "Epoch 45: Validation loss decreased (0.544968 --> 0.544104).  Saving model ...\n",
      "\t Train_Loss: 0.4693 Train_Acc: 79.917 Val_Loss: 0.5441  BEST VAL Loss: 0.5441  Val_Acc: 72.667\n",
      "\n",
      "Epoch 46: Validation loss decreased (0.544104 --> 0.543267).  Saving model ...\n",
      "\t Train_Loss: 0.4668 Train_Acc: 78.833 Val_Loss: 0.5433  BEST VAL Loss: 0.5433  Val_Acc: 71.333\n",
      "\n",
      "Epoch 47: Validation loss decreased (0.543267 --> 0.542448).  Saving model ...\n",
      "\t Train_Loss: 0.4643 Train_Acc: 81.250 Val_Loss: 0.5424  BEST VAL Loss: 0.5424  Val_Acc: 70.000\n",
      "\n",
      "Epoch 48: Validation loss decreased (0.542448 --> 0.541645).  Saving model ...\n",
      "\t Train_Loss: 0.4619 Train_Acc: 80.667 Val_Loss: 0.5416  BEST VAL Loss: 0.5416  Val_Acc: 70.667\n",
      "\n",
      "Epoch 49: Validation loss decreased (0.541645 --> 0.540849).  Saving model ...\n",
      "\t Train_Loss: 0.4595 Train_Acc: 79.083 Val_Loss: 0.5408  BEST VAL Loss: 0.5408  Val_Acc: 70.667\n",
      "\n",
      "Epoch 50: Validation loss decreased (0.540849 --> 0.540101).  Saving model ...\n",
      "\t Train_Loss: 0.4571 Train_Acc: 80.417 Val_Loss: 0.5401  BEST VAL Loss: 0.5401  Val_Acc: 70.000\n",
      "\n",
      "Epoch 51: Validation loss decreased (0.540101 --> 0.539346).  Saving model ...\n",
      "\t Train_Loss: 0.4547 Train_Acc: 81.083 Val_Loss: 0.5393  BEST VAL Loss: 0.5393  Val_Acc: 70.000\n",
      "\n",
      "Epoch 52: Validation loss decreased (0.539346 --> 0.538600).  Saving model ...\n",
      "\t Train_Loss: 0.4523 Train_Acc: 81.333 Val_Loss: 0.5386  BEST VAL Loss: 0.5386  Val_Acc: 72.000\n",
      "\n",
      "Epoch 53: Validation loss decreased (0.538600 --> 0.537900).  Saving model ...\n",
      "\t Train_Loss: 0.4501 Train_Acc: 82.083 Val_Loss: 0.5379  BEST VAL Loss: 0.5379  Val_Acc: 72.000\n",
      "\n",
      "Epoch 54: Validation loss decreased (0.537900 --> 0.537228).  Saving model ...\n",
      "\t Train_Loss: 0.4479 Train_Acc: 81.667 Val_Loss: 0.5372  BEST VAL Loss: 0.5372  Val_Acc: 72.667\n",
      "\n",
      "Epoch 55: Validation loss decreased (0.537228 --> 0.536556).  Saving model ...\n",
      "\t Train_Loss: 0.4458 Train_Acc: 81.250 Val_Loss: 0.5366  BEST VAL Loss: 0.5366  Val_Acc: 72.667\n",
      "\n",
      "Epoch 56: Validation loss decreased (0.536556 --> 0.535912).  Saving model ...\n",
      "\t Train_Loss: 0.4436 Train_Acc: 81.167 Val_Loss: 0.5359  BEST VAL Loss: 0.5359  Val_Acc: 72.667\n",
      "\n",
      "Epoch 57: Validation loss decreased (0.535912 --> 0.535283).  Saving model ...\n",
      "\t Train_Loss: 0.4414 Train_Acc: 81.500 Val_Loss: 0.5353  BEST VAL Loss: 0.5353  Val_Acc: 73.333\n",
      "\n",
      "Epoch 58: Validation loss decreased (0.535283 --> 0.534669).  Saving model ...\n",
      "\t Train_Loss: 0.4393 Train_Acc: 81.583 Val_Loss: 0.5347  BEST VAL Loss: 0.5347  Val_Acc: 72.667\n",
      "\n",
      "Epoch 59: Validation loss decreased (0.534669 --> 0.534072).  Saving model ...\n",
      "\t Train_Loss: 0.4372 Train_Acc: 81.417 Val_Loss: 0.5341  BEST VAL Loss: 0.5341  Val_Acc: 72.667\n",
      "\n",
      "Epoch 60: Validation loss decreased (0.534072 --> 0.533506).  Saving model ...\n",
      "\t Train_Loss: 0.4352 Train_Acc: 80.667 Val_Loss: 0.5335  BEST VAL Loss: 0.5335  Val_Acc: 73.333\n",
      "\n",
      "Epoch 61: Validation loss decreased (0.533506 --> 0.532983).  Saving model ...\n",
      "\t Train_Loss: 0.4332 Train_Acc: 81.083 Val_Loss: 0.5330  BEST VAL Loss: 0.5330  Val_Acc: 72.667\n",
      "\n",
      "Epoch 62: Validation loss decreased (0.532983 --> 0.532479).  Saving model ...\n",
      "\t Train_Loss: 0.4312 Train_Acc: 81.750 Val_Loss: 0.5325  BEST VAL Loss: 0.5325  Val_Acc: 72.667\n",
      "\n",
      "Epoch 63: Validation loss decreased (0.532479 --> 0.531984).  Saving model ...\n",
      "\t Train_Loss: 0.4293 Train_Acc: 82.583 Val_Loss: 0.5320  BEST VAL Loss: 0.5320  Val_Acc: 72.667\n",
      "\n",
      "Epoch 64: Validation loss decreased (0.531984 --> 0.531509).  Saving model ...\n",
      "\t Train_Loss: 0.4273 Train_Acc: 83.417 Val_Loss: 0.5315  BEST VAL Loss: 0.5315  Val_Acc: 72.667\n",
      "\n",
      "Epoch 65: Validation loss decreased (0.531509 --> 0.531048).  Saving model ...\n",
      "\t Train_Loss: 0.4254 Train_Acc: 82.500 Val_Loss: 0.5310  BEST VAL Loss: 0.5310  Val_Acc: 74.000\n",
      "\n",
      "Epoch 66: Validation loss decreased (0.531048 --> 0.530607).  Saving model ...\n",
      "\t Train_Loss: 0.4235 Train_Acc: 82.333 Val_Loss: 0.5306  BEST VAL Loss: 0.5306  Val_Acc: 74.000\n",
      "\n",
      "Epoch 67: Validation loss decreased (0.530607 --> 0.530179).  Saving model ...\n",
      "\t Train_Loss: 0.4217 Train_Acc: 82.917 Val_Loss: 0.5302  BEST VAL Loss: 0.5302  Val_Acc: 74.000\n",
      "\n",
      "Epoch 68: Validation loss decreased (0.530179 --> 0.529761).  Saving model ...\n",
      "\t Train_Loss: 0.4197 Train_Acc: 83.250 Val_Loss: 0.5298  BEST VAL Loss: 0.5298  Val_Acc: 73.333\n",
      "\n",
      "Epoch 69: Validation loss decreased (0.529761 --> 0.529368).  Saving model ...\n",
      "\t Train_Loss: 0.4178 Train_Acc: 83.083 Val_Loss: 0.5294  BEST VAL Loss: 0.5294  Val_Acc: 74.000\n",
      "\n",
      "Epoch 70: Validation loss decreased (0.529368 --> 0.528958).  Saving model ...\n",
      "\t Train_Loss: 0.4160 Train_Acc: 83.500 Val_Loss: 0.5290  BEST VAL Loss: 0.5290  Val_Acc: 74.667\n",
      "\n",
      "Epoch 71: Validation loss decreased (0.528958 --> 0.528541).  Saving model ...\n",
      "\t Train_Loss: 0.4142 Train_Acc: 83.167 Val_Loss: 0.5285  BEST VAL Loss: 0.5285  Val_Acc: 74.000\n",
      "\n",
      "Epoch 72: Validation loss decreased (0.528541 --> 0.528148).  Saving model ...\n",
      "\t Train_Loss: 0.4124 Train_Acc: 82.833 Val_Loss: 0.5281  BEST VAL Loss: 0.5281  Val_Acc: 74.000\n",
      "\n",
      "Epoch 73: Validation loss decreased (0.528148 --> 0.527767).  Saving model ...\n",
      "\t Train_Loss: 0.4106 Train_Acc: 84.000 Val_Loss: 0.5278  BEST VAL Loss: 0.5278  Val_Acc: 74.000\n",
      "\n",
      "Epoch 74: Validation loss decreased (0.527767 --> 0.527392).  Saving model ...\n",
      "\t Train_Loss: 0.4089 Train_Acc: 83.750 Val_Loss: 0.5274  BEST VAL Loss: 0.5274  Val_Acc: 73.333\n",
      "\n",
      "Epoch 75: Validation loss decreased (0.527392 --> 0.527036).  Saving model ...\n",
      "\t Train_Loss: 0.4072 Train_Acc: 84.083 Val_Loss: 0.5270  BEST VAL Loss: 0.5270  Val_Acc: 73.333\n",
      "\n",
      "Epoch 76: Validation loss decreased (0.527036 --> 0.526686).  Saving model ...\n",
      "\t Train_Loss: 0.4055 Train_Acc: 83.583 Val_Loss: 0.5267  BEST VAL Loss: 0.5267  Val_Acc: 74.000\n",
      "\n",
      "Epoch 77: Validation loss decreased (0.526686 --> 0.526352).  Saving model ...\n",
      "\t Train_Loss: 0.4039 Train_Acc: 83.917 Val_Loss: 0.5264  BEST VAL Loss: 0.5264  Val_Acc: 74.667\n",
      "\n",
      "Epoch 78: Validation loss decreased (0.526352 --> 0.526026).  Saving model ...\n",
      "\t Train_Loss: 0.4021 Train_Acc: 83.917 Val_Loss: 0.5260  BEST VAL Loss: 0.5260  Val_Acc: 74.000\n",
      "\n",
      "Epoch 79: Validation loss decreased (0.526026 --> 0.525721).  Saving model ...\n",
      "\t Train_Loss: 0.4005 Train_Acc: 84.583 Val_Loss: 0.5257  BEST VAL Loss: 0.5257  Val_Acc: 74.000\n",
      "\n",
      "Epoch 80: Validation loss decreased (0.525721 --> 0.525397).  Saving model ...\n",
      "\t Train_Loss: 0.3989 Train_Acc: 84.083 Val_Loss: 0.5254  BEST VAL Loss: 0.5254  Val_Acc: 74.000\n",
      "\n",
      "Epoch 81: Validation loss decreased (0.525397 --> 0.525063).  Saving model ...\n",
      "\t Train_Loss: 0.3974 Train_Acc: 85.167 Val_Loss: 0.5251  BEST VAL Loss: 0.5251  Val_Acc: 74.667\n",
      "\n",
      "Epoch 82: Validation loss decreased (0.525063 --> 0.524741).  Saving model ...\n",
      "\t Train_Loss: 0.3958 Train_Acc: 84.250 Val_Loss: 0.5247  BEST VAL Loss: 0.5247  Val_Acc: 74.000\n",
      "\n",
      "Epoch 83: Validation loss decreased (0.524741 --> 0.524436).  Saving model ...\n",
      "\t Train_Loss: 0.3942 Train_Acc: 84.750 Val_Loss: 0.5244  BEST VAL Loss: 0.5244  Val_Acc: 74.667\n",
      "\n",
      "Epoch 84: Validation loss decreased (0.524436 --> 0.524130).  Saving model ...\n",
      "\t Train_Loss: 0.3926 Train_Acc: 85.083 Val_Loss: 0.5241  BEST VAL Loss: 0.5241  Val_Acc: 74.667\n",
      "\n",
      "Epoch 85: Validation loss decreased (0.524130 --> 0.523832).  Saving model ...\n",
      "\t Train_Loss: 0.3911 Train_Acc: 83.750 Val_Loss: 0.5238  BEST VAL Loss: 0.5238  Val_Acc: 74.000\n",
      "\n",
      "Epoch 86: Validation loss decreased (0.523832 --> 0.523543).  Saving model ...\n",
      "\t Train_Loss: 0.3895 Train_Acc: 84.750 Val_Loss: 0.5235  BEST VAL Loss: 0.5235  Val_Acc: 73.333\n",
      "\n",
      "Epoch 87: Validation loss decreased (0.523543 --> 0.523257).  Saving model ...\n",
      "\t Train_Loss: 0.3880 Train_Acc: 85.583 Val_Loss: 0.5233  BEST VAL Loss: 0.5233  Val_Acc: 74.000\n",
      "\n",
      "Epoch 88: Validation loss decreased (0.523257 --> 0.522990).  Saving model ...\n",
      "\t Train_Loss: 0.3865 Train_Acc: 86.583 Val_Loss: 0.5230  BEST VAL Loss: 0.5230  Val_Acc: 73.333\n",
      "\n",
      "Epoch 89: Validation loss decreased (0.522990 --> 0.522725).  Saving model ...\n",
      "\t Train_Loss: 0.3850 Train_Acc: 84.917 Val_Loss: 0.5227  BEST VAL Loss: 0.5227  Val_Acc: 73.333\n",
      "\n",
      "Epoch 90: Validation loss decreased (0.522725 --> 0.522473).  Saving model ...\n",
      "\t Train_Loss: 0.3834 Train_Acc: 85.917 Val_Loss: 0.5225  BEST VAL Loss: 0.5225  Val_Acc: 73.333\n",
      "\n",
      "Epoch 91: Validation loss decreased (0.522473 --> 0.522217).  Saving model ...\n",
      "\t Train_Loss: 0.3819 Train_Acc: 85.167 Val_Loss: 0.5222  BEST VAL Loss: 0.5222  Val_Acc: 73.333\n",
      "\n",
      "Epoch 92: Validation loss decreased (0.522217 --> 0.521967).  Saving model ...\n",
      "\t Train_Loss: 0.3805 Train_Acc: 85.833 Val_Loss: 0.5220  BEST VAL Loss: 0.5220  Val_Acc: 73.333\n",
      "\n",
      "Epoch 93: Validation loss decreased (0.521967 --> 0.521749).  Saving model ...\n",
      "\t Train_Loss: 0.3791 Train_Acc: 86.000 Val_Loss: 0.5217  BEST VAL Loss: 0.5217  Val_Acc: 73.333\n",
      "\n",
      "Epoch 94: Validation loss decreased (0.521749 --> 0.521507).  Saving model ...\n",
      "\t Train_Loss: 0.3777 Train_Acc: 85.583 Val_Loss: 0.5215  BEST VAL Loss: 0.5215  Val_Acc: 74.667\n",
      "\n",
      "Epoch 95: Validation loss decreased (0.521507 --> 0.521252).  Saving model ...\n",
      "\t Train_Loss: 0.3763 Train_Acc: 86.333 Val_Loss: 0.5213  BEST VAL Loss: 0.5213  Val_Acc: 74.000\n",
      "\n",
      "Epoch 96: Validation loss decreased (0.521252 --> 0.521004).  Saving model ...\n",
      "\t Train_Loss: 0.3749 Train_Acc: 86.250 Val_Loss: 0.5210  BEST VAL Loss: 0.5210  Val_Acc: 74.667\n",
      "\n",
      "Epoch 97: Validation loss decreased (0.521004 --> 0.520755).  Saving model ...\n",
      "\t Train_Loss: 0.3735 Train_Acc: 85.417 Val_Loss: 0.5208  BEST VAL Loss: 0.5208  Val_Acc: 76.000\n",
      "\n",
      "Epoch 98: Validation loss decreased (0.520755 --> 0.520532).  Saving model ...\n",
      "\t Train_Loss: 0.3723 Train_Acc: 85.583 Val_Loss: 0.5205  BEST VAL Loss: 0.5205  Val_Acc: 74.667\n",
      "\n",
      "Epoch 99: Validation loss decreased (0.520532 --> 0.520302).  Saving model ...\n",
      "\t Train_Loss: 0.3709 Train_Acc: 86.833 Val_Loss: 0.5203  BEST VAL Loss: 0.5203  Val_Acc: 75.333\n",
      "\n",
      "Epoch 100: Validation loss decreased (0.520302 --> 0.520106).  Saving model ...\n",
      "\t Train_Loss: 0.3695 Train_Acc: 86.667 Val_Loss: 0.5201  BEST VAL Loss: 0.5201  Val_Acc: 74.667\n",
      "\n",
      "Epoch 101: Validation loss decreased (0.520106 --> 0.519890).  Saving model ...\n",
      "\t Train_Loss: 0.3681 Train_Acc: 86.333 Val_Loss: 0.5199  BEST VAL Loss: 0.5199  Val_Acc: 75.333\n",
      "\n",
      "Epoch 102: Validation loss decreased (0.519890 --> 0.519685).  Saving model ...\n",
      "\t Train_Loss: 0.3668 Train_Acc: 85.667 Val_Loss: 0.5197  BEST VAL Loss: 0.5197  Val_Acc: 76.000\n",
      "\n",
      "Epoch 103: Validation loss decreased (0.519685 --> 0.519484).  Saving model ...\n",
      "\t Train_Loss: 0.3654 Train_Acc: 87.333 Val_Loss: 0.5195  BEST VAL Loss: 0.5195  Val_Acc: 76.000\n",
      "\n",
      "Epoch 104: Validation loss decreased (0.519484 --> 0.519293).  Saving model ...\n",
      "\t Train_Loss: 0.3641 Train_Acc: 86.917 Val_Loss: 0.5193  BEST VAL Loss: 0.5193  Val_Acc: 74.667\n",
      "\n",
      "Epoch 105: Validation loss decreased (0.519293 --> 0.519093).  Saving model ...\n",
      "\t Train_Loss: 0.3629 Train_Acc: 87.333 Val_Loss: 0.5191  BEST VAL Loss: 0.5191  Val_Acc: 75.333\n",
      "\n",
      "Epoch 106: Validation loss decreased (0.519093 --> 0.518901).  Saving model ...\n",
      "\t Train_Loss: 0.3616 Train_Acc: 87.500 Val_Loss: 0.5189  BEST VAL Loss: 0.5189  Val_Acc: 75.333\n",
      "\n",
      "Epoch 107: Validation loss decreased (0.518901 --> 0.518740).  Saving model ...\n",
      "\t Train_Loss: 0.3603 Train_Acc: 87.583 Val_Loss: 0.5187  BEST VAL Loss: 0.5187  Val_Acc: 74.667\n",
      "\n",
      "Epoch 108: Validation loss decreased (0.518740 --> 0.518553).  Saving model ...\n",
      "\t Train_Loss: 0.3591 Train_Acc: 88.000 Val_Loss: 0.5186  BEST VAL Loss: 0.5186  Val_Acc: 74.667\n",
      "\n",
      "Epoch 109: Validation loss decreased (0.518553 --> 0.518381).  Saving model ...\n",
      "\t Train_Loss: 0.3578 Train_Acc: 88.667 Val_Loss: 0.5184  BEST VAL Loss: 0.5184  Val_Acc: 74.667\n",
      "\n",
      "Epoch 110: Validation loss decreased (0.518381 --> 0.518216).  Saving model ...\n",
      "\t Train_Loss: 0.3566 Train_Acc: 86.667 Val_Loss: 0.5182  BEST VAL Loss: 0.5182  Val_Acc: 74.667\n",
      "\n",
      "Epoch 111: Validation loss decreased (0.518216 --> 0.518033).  Saving model ...\n",
      "\t Train_Loss: 0.3553 Train_Acc: 87.667 Val_Loss: 0.5180  BEST VAL Loss: 0.5180  Val_Acc: 74.000\n",
      "\n",
      "Epoch 112: Validation loss decreased (0.518033 --> 0.517870).  Saving model ...\n",
      "\t Train_Loss: 0.3542 Train_Acc: 86.833 Val_Loss: 0.5179  BEST VAL Loss: 0.5179  Val_Acc: 74.000\n",
      "\n",
      "Epoch 113: Validation loss decreased (0.517870 --> 0.517714).  Saving model ...\n",
      "\t Train_Loss: 0.3530 Train_Acc: 87.917 Val_Loss: 0.5177  BEST VAL Loss: 0.5177  Val_Acc: 74.000\n",
      "\n",
      "Epoch 114: Validation loss decreased (0.517714 --> 0.517557).  Saving model ...\n",
      "\t Train_Loss: 0.3518 Train_Acc: 86.833 Val_Loss: 0.5176  BEST VAL Loss: 0.5176  Val_Acc: 74.667\n",
      "\n",
      "Epoch 115: Validation loss decreased (0.517557 --> 0.517403).  Saving model ...\n",
      "\t Train_Loss: 0.3506 Train_Acc: 87.917 Val_Loss: 0.5174  BEST VAL Loss: 0.5174  Val_Acc: 74.667\n",
      "\n",
      "Epoch 116: Validation loss decreased (0.517403 --> 0.517252).  Saving model ...\n",
      "\t Train_Loss: 0.3494 Train_Acc: 87.917 Val_Loss: 0.5173  BEST VAL Loss: 0.5173  Val_Acc: 74.000\n",
      "\n",
      "Epoch 117: Validation loss decreased (0.517252 --> 0.517073).  Saving model ...\n",
      "\t Train_Loss: 0.3483 Train_Acc: 87.000 Val_Loss: 0.5171  BEST VAL Loss: 0.5171  Val_Acc: 74.667\n",
      "\n",
      "Epoch 118: Validation loss decreased (0.517073 --> 0.516927).  Saving model ...\n",
      "\t Train_Loss: 0.3470 Train_Acc: 87.500 Val_Loss: 0.5169  BEST VAL Loss: 0.5169  Val_Acc: 74.000\n",
      "\n",
      "Epoch 119: Validation loss decreased (0.516927 --> 0.516789).  Saving model ...\n",
      "\t Train_Loss: 0.3459 Train_Acc: 88.833 Val_Loss: 0.5168  BEST VAL Loss: 0.5168  Val_Acc: 74.667\n",
      "\n",
      "Epoch 120: Validation loss decreased (0.516789 --> 0.516644).  Saving model ...\n",
      "\t Train_Loss: 0.3448 Train_Acc: 87.833 Val_Loss: 0.5166  BEST VAL Loss: 0.5166  Val_Acc: 74.667\n",
      "\n",
      "Epoch 121: Validation loss decreased (0.516644 --> 0.516497).  Saving model ...\n",
      "\t Train_Loss: 0.3437 Train_Acc: 88.500 Val_Loss: 0.5165  BEST VAL Loss: 0.5165  Val_Acc: 74.667\n",
      "\n",
      "Epoch 122: Validation loss decreased (0.516497 --> 0.516361).  Saving model ...\n",
      "\t Train_Loss: 0.3425 Train_Acc: 87.833 Val_Loss: 0.5164  BEST VAL Loss: 0.5164  Val_Acc: 74.667\n",
      "\n",
      "Epoch 123: Validation loss decreased (0.516361 --> 0.516240).  Saving model ...\n",
      "\t Train_Loss: 0.3414 Train_Acc: 87.833 Val_Loss: 0.5162  BEST VAL Loss: 0.5162  Val_Acc: 74.667\n",
      "\n",
      "Epoch 124: Validation loss decreased (0.516240 --> 0.516119).  Saving model ...\n",
      "\t Train_Loss: 0.3403 Train_Acc: 88.750 Val_Loss: 0.5161  BEST VAL Loss: 0.5161  Val_Acc: 74.667\n",
      "\n",
      "Epoch 125: Validation loss decreased (0.516119 --> 0.516000).  Saving model ...\n",
      "\t Train_Loss: 0.3393 Train_Acc: 87.917 Val_Loss: 0.5160  BEST VAL Loss: 0.5160  Val_Acc: 74.000\n",
      "\n",
      "Epoch 126: Validation loss decreased (0.516000 --> 0.515873).  Saving model ...\n",
      "\t Train_Loss: 0.3382 Train_Acc: 89.167 Val_Loss: 0.5159  BEST VAL Loss: 0.5159  Val_Acc: 74.000\n",
      "\n",
      "Epoch 127: Validation loss decreased (0.515873 --> 0.515757).  Saving model ...\n",
      "\t Train_Loss: 0.3371 Train_Acc: 88.750 Val_Loss: 0.5158  BEST VAL Loss: 0.5158  Val_Acc: 74.000\n",
      "\n",
      "Epoch 128: Validation loss decreased (0.515757 --> 0.515643).  Saving model ...\n",
      "\t Train_Loss: 0.3360 Train_Acc: 89.000 Val_Loss: 0.5156  BEST VAL Loss: 0.5156  Val_Acc: 74.000\n",
      "\n",
      "Epoch 129: Validation loss decreased (0.515643 --> 0.515539).  Saving model ...\n",
      "\t Train_Loss: 0.3349 Train_Acc: 89.417 Val_Loss: 0.5155  BEST VAL Loss: 0.5155  Val_Acc: 74.667\n",
      "\n",
      "Epoch 130: Validation loss decreased (0.515539 --> 0.515439).  Saving model ...\n",
      "\t Train_Loss: 0.3338 Train_Acc: 89.083 Val_Loss: 0.5154  BEST VAL Loss: 0.5154  Val_Acc: 74.000\n",
      "\n",
      "Epoch 131: Validation loss decreased (0.515439 --> 0.515329).  Saving model ...\n",
      "\t Train_Loss: 0.3328 Train_Acc: 88.667 Val_Loss: 0.5153  BEST VAL Loss: 0.5153  Val_Acc: 74.000\n",
      "\n",
      "Epoch 132: Validation loss decreased (0.515329 --> 0.515242).  Saving model ...\n",
      "\t Train_Loss: 0.3317 Train_Acc: 88.250 Val_Loss: 0.5152  BEST VAL Loss: 0.5152  Val_Acc: 74.667\n",
      "\n",
      "Epoch 133: Validation loss decreased (0.515242 --> 0.515157).  Saving model ...\n",
      "\t Train_Loss: 0.3307 Train_Acc: 89.667 Val_Loss: 0.5152  BEST VAL Loss: 0.5152  Val_Acc: 74.000\n",
      "\n",
      "Epoch 134: Validation loss decreased (0.515157 --> 0.515067).  Saving model ...\n",
      "\t Train_Loss: 0.3297 Train_Acc: 89.000 Val_Loss: 0.5151  BEST VAL Loss: 0.5151  Val_Acc: 74.667\n",
      "\n",
      "Epoch 135: Validation loss decreased (0.515067 --> 0.514984).  Saving model ...\n",
      "\t Train_Loss: 0.3287 Train_Acc: 89.083 Val_Loss: 0.5150  BEST VAL Loss: 0.5150  Val_Acc: 74.000\n",
      "\n",
      "Epoch 136: Validation loss decreased (0.514984 --> 0.514893).  Saving model ...\n",
      "\t Train_Loss: 0.3277 Train_Acc: 89.750 Val_Loss: 0.5149  BEST VAL Loss: 0.5149  Val_Acc: 74.667\n",
      "\n",
      "Epoch 137: Validation loss decreased (0.514893 --> 0.514821).  Saving model ...\n",
      "\t Train_Loss: 0.3266 Train_Acc: 90.750 Val_Loss: 0.5148  BEST VAL Loss: 0.5148  Val_Acc: 74.667\n",
      "\n",
      "Epoch 138: Validation loss decreased (0.514821 --> 0.514755).  Saving model ...\n",
      "\t Train_Loss: 0.3255 Train_Acc: 90.667 Val_Loss: 0.5148  BEST VAL Loss: 0.5148  Val_Acc: 74.000\n",
      "\n",
      "Epoch 139: Validation loss decreased (0.514755 --> 0.514688).  Saving model ...\n",
      "\t Train_Loss: 0.3245 Train_Acc: 89.667 Val_Loss: 0.5147  BEST VAL Loss: 0.5147  Val_Acc: 74.667\n",
      "\n",
      "Epoch 140: Validation loss decreased (0.514688 --> 0.514625).  Saving model ...\n",
      "\t Train_Loss: 0.3235 Train_Acc: 89.833 Val_Loss: 0.5146  BEST VAL Loss: 0.5146  Val_Acc: 74.667\n",
      "\n",
      "Epoch 141: Validation loss decreased (0.514625 --> 0.514578).  Saving model ...\n",
      "\t Train_Loss: 0.3225 Train_Acc: 90.083 Val_Loss: 0.5146  BEST VAL Loss: 0.5146  Val_Acc: 74.000\n",
      "\n",
      "Epoch 142: Validation loss decreased (0.514578 --> 0.514541).  Saving model ...\n",
      "\t Train_Loss: 0.3215 Train_Acc: 89.250 Val_Loss: 0.5145  BEST VAL Loss: 0.5145  Val_Acc: 74.000\n",
      "\n",
      "Epoch 143: Validation loss decreased (0.514541 --> 0.514475).  Saving model ...\n",
      "\t Train_Loss: 0.3205 Train_Acc: 90.583 Val_Loss: 0.5145  BEST VAL Loss: 0.5145  Val_Acc: 74.000\n",
      "\n",
      "Epoch 144: Validation loss decreased (0.514475 --> 0.514419).  Saving model ...\n",
      "\t Train_Loss: 0.3196 Train_Acc: 89.000 Val_Loss: 0.5144  BEST VAL Loss: 0.5144  Val_Acc: 74.000\n",
      "\n",
      "Epoch 145: Validation loss decreased (0.514419 --> 0.514367).  Saving model ...\n",
      "\t Train_Loss: 0.3187 Train_Acc: 90.417 Val_Loss: 0.5144  BEST VAL Loss: 0.5144  Val_Acc: 74.000\n",
      "\n",
      "Epoch 146: Validation loss decreased (0.514367 --> 0.514301).  Saving model ...\n",
      "\t Train_Loss: 0.3177 Train_Acc: 91.417 Val_Loss: 0.5143  BEST VAL Loss: 0.5143  Val_Acc: 75.333\n",
      "\n",
      "Epoch 147: Validation loss decreased (0.514301 --> 0.514249).  Saving model ...\n",
      "\t Train_Loss: 0.3167 Train_Acc: 90.500 Val_Loss: 0.5142  BEST VAL Loss: 0.5142  Val_Acc: 74.667\n",
      "\n",
      "Epoch 148: Validation loss decreased (0.514249 --> 0.514206).  Saving model ...\n",
      "\t Train_Loss: 0.3157 Train_Acc: 89.917 Val_Loss: 0.5142  BEST VAL Loss: 0.5142  Val_Acc: 74.000\n",
      "\n",
      "Epoch 149: Validation loss decreased (0.514206 --> 0.514165).  Saving model ...\n",
      "\t Train_Loss: 0.3148 Train_Acc: 90.500 Val_Loss: 0.5142  BEST VAL Loss: 0.5142  Val_Acc: 74.667\n",
      "\n",
      "Epoch 150: Validation loss decreased (0.514165 --> 0.514148).  Saving model ...\n",
      "\t Train_Loss: 0.3139 Train_Acc: 90.667 Val_Loss: 0.5141  BEST VAL Loss: 0.5141  Val_Acc: 74.667\n",
      "\n",
      "Epoch 151: Validation loss decreased (0.514148 --> 0.514111).  Saving model ...\n",
      "\t Train_Loss: 0.3129 Train_Acc: 90.750 Val_Loss: 0.5141  BEST VAL Loss: 0.5141  Val_Acc: 74.000\n",
      "\n",
      "Epoch 152: Validation loss decreased (0.514111 --> 0.514084).  Saving model ...\n",
      "\t Train_Loss: 0.3120 Train_Acc: 90.500 Val_Loss: 0.5141  BEST VAL Loss: 0.5141  Val_Acc: 74.000\n",
      "\n",
      "Epoch 153: Validation loss decreased (0.514084 --> 0.514056).  Saving model ...\n",
      "\t Train_Loss: 0.3110 Train_Acc: 91.083 Val_Loss: 0.5141  BEST VAL Loss: 0.5141  Val_Acc: 74.000\n",
      "\n",
      "Epoch 154: Validation loss decreased (0.514056 --> 0.514027).  Saving model ...\n",
      "\t Train_Loss: 0.3101 Train_Acc: 91.167 Val_Loss: 0.5140  BEST VAL Loss: 0.5140  Val_Acc: 74.000\n",
      "\n",
      "Epoch 155: Validation loss decreased (0.514027 --> 0.513991).  Saving model ...\n",
      "\t Train_Loss: 0.3092 Train_Acc: 90.917 Val_Loss: 0.5140  BEST VAL Loss: 0.5140  Val_Acc: 74.000\n",
      "\n",
      "Epoch 156: Validation loss decreased (0.513991 --> 0.513942).  Saving model ...\n",
      "\t Train_Loss: 0.3083 Train_Acc: 91.000 Val_Loss: 0.5139  BEST VAL Loss: 0.5139  Val_Acc: 74.667\n",
      "\n",
      "Epoch 157: Validation loss decreased (0.513942 --> 0.513894).  Saving model ...\n",
      "\t Train_Loss: 0.3075 Train_Acc: 90.333 Val_Loss: 0.5139  BEST VAL Loss: 0.5139  Val_Acc: 74.000\n",
      "\n",
      "Epoch 158: Validation loss decreased (0.513894 --> 0.513844).  Saving model ...\n",
      "\t Train_Loss: 0.3066 Train_Acc: 90.583 Val_Loss: 0.5138  BEST VAL Loss: 0.5138  Val_Acc: 74.000\n",
      "\n",
      "Epoch 159: Validation loss decreased (0.513844 --> 0.513807).  Saving model ...\n",
      "\t Train_Loss: 0.3057 Train_Acc: 91.083 Val_Loss: 0.5138  BEST VAL Loss: 0.5138  Val_Acc: 74.000\n",
      "\n",
      "Epoch 160: Validation loss decreased (0.513807 --> 0.513763).  Saving model ...\n",
      "\t Train_Loss: 0.3048 Train_Acc: 91.250 Val_Loss: 0.5138  BEST VAL Loss: 0.5138  Val_Acc: 74.000\n",
      "\n",
      "Epoch 161: Validation loss decreased (0.513763 --> 0.513725).  Saving model ...\n",
      "\t Train_Loss: 0.3039 Train_Acc: 91.333 Val_Loss: 0.5137  BEST VAL Loss: 0.5137  Val_Acc: 74.000\n",
      "\n",
      "Epoch 162: Validation loss decreased (0.513725 --> 0.513722).  Saving model ...\n",
      "\t Train_Loss: 0.3030 Train_Acc: 91.417 Val_Loss: 0.5137  BEST VAL Loss: 0.5137  Val_Acc: 74.000\n",
      "\n",
      "Epoch 163: Validation loss did not decrease\n",
      "\t Train_Loss: 0.3022 Train_Acc: 90.750 Val_Loss: 0.5137  BEST VAL Loss: 0.5137  Val_Acc: 74.000\n",
      "\n",
      "Epoch 164: Validation loss decreased (0.513722 --> 0.513715).  Saving model ...\n",
      "\t Train_Loss: 0.3014 Train_Acc: 90.583 Val_Loss: 0.5137  BEST VAL Loss: 0.5137  Val_Acc: 73.333\n",
      "\n",
      "Epoch 165: Validation loss decreased (0.513715 --> 0.513707).  Saving model ...\n",
      "\t Train_Loss: 0.3005 Train_Acc: 91.583 Val_Loss: 0.5137  BEST VAL Loss: 0.5137  Val_Acc: 73.333\n",
      "\n",
      "Epoch 166: Validation loss decreased (0.513707 --> 0.513688).  Saving model ...\n",
      "\t Train_Loss: 0.2997 Train_Acc: 91.417 Val_Loss: 0.5137  BEST VAL Loss: 0.5137  Val_Acc: 74.000\n",
      "\n",
      "Epoch 167: Validation loss decreased (0.513688 --> 0.513678).  Saving model ...\n",
      "\t Train_Loss: 0.2988 Train_Acc: 91.083 Val_Loss: 0.5137  BEST VAL Loss: 0.5137  Val_Acc: 74.000\n",
      "\n",
      "Epoch 168: Validation loss decreased (0.513678 --> 0.513675).  Saving model ...\n",
      "\t Train_Loss: 0.2980 Train_Acc: 91.250 Val_Loss: 0.5137  BEST VAL Loss: 0.5137  Val_Acc: 74.000\n",
      "\n",
      "Epoch 169: Validation loss decreased (0.513675 --> 0.513661).  Saving model ...\n",
      "\t Train_Loss: 0.2972 Train_Acc: 91.000 Val_Loss: 0.5137  BEST VAL Loss: 0.5137  Val_Acc: 74.000\n",
      "\n",
      "Epoch 170: Validation loss decreased (0.513661 --> 0.513651).  Saving model ...\n",
      "\t Train_Loss: 0.2964 Train_Acc: 91.667 Val_Loss: 0.5137  BEST VAL Loss: 0.5137  Val_Acc: 73.333\n",
      "\n",
      "Epoch 171: Validation loss decreased (0.513651 --> 0.513648).  Saving model ...\n",
      "\t Train_Loss: 0.2955 Train_Acc: 90.917 Val_Loss: 0.5136  BEST VAL Loss: 0.5136  Val_Acc: 74.667\n",
      "\n",
      "Epoch 172: Validation loss decreased (0.513648 --> 0.513645).  Saving model ...\n",
      "\t Train_Loss: 0.2947 Train_Acc: 91.417 Val_Loss: 0.5136  BEST VAL Loss: 0.5136  Val_Acc: 74.667\n",
      "\n",
      "Epoch 173: Validation loss decreased (0.513645 --> 0.513628).  Saving model ...\n",
      "\t Train_Loss: 0.2939 Train_Acc: 91.417 Val_Loss: 0.5136  BEST VAL Loss: 0.5136  Val_Acc: 75.333\n",
      "\n",
      "Epoch 174: Validation loss did not decrease\n",
      "\t Train_Loss: 0.2931 Train_Acc: 92.250 Val_Loss: 0.5136  BEST VAL Loss: 0.5136  Val_Acc: 74.667\n",
      "\n",
      "Epoch 175: Validation loss did not decrease\n",
      "\t Train_Loss: 0.2923 Train_Acc: 91.833 Val_Loss: 0.5137  BEST VAL Loss: 0.5136  Val_Acc: 74.000\n",
      "\n",
      "Epoch 176: Validation loss did not decrease\n",
      "\t Train_Loss: 0.2916 Train_Acc: 91.167 Val_Loss: 0.5137  BEST VAL Loss: 0.5136  Val_Acc: 74.667\n",
      "\n",
      "Epoch 177: Validation loss did not decrease\n",
      "\t Train_Loss: 0.2908 Train_Acc: 91.167 Val_Loss: 0.5137  BEST VAL Loss: 0.5136  Val_Acc: 74.667\n",
      "\n",
      "Epoch 178: Validation loss did not decrease\n",
      "\t Train_Loss: 0.2900 Train_Acc: 92.000 Val_Loss: 0.5137  BEST VAL Loss: 0.5136  Val_Acc: 74.667\n",
      "\n",
      "Epoch 179: Validation loss did not decrease\n",
      "\t Train_Loss: 0.2892 Train_Acc: 92.750 Val_Loss: 0.5137  BEST VAL Loss: 0.5136  Val_Acc: 74.000\n",
      "\n",
      "Epoch 180: Validation loss did not decrease\n",
      "\t Train_Loss: 0.2885 Train_Acc: 90.667 Val_Loss: 0.5137  BEST VAL Loss: 0.5136  Val_Acc: 74.000\n",
      "\n",
      "Epoch 181: Validation loss did not decrease\n",
      "\t Train_Loss: 0.2877 Train_Acc: 92.667 Val_Loss: 0.5137  BEST VAL Loss: 0.5136  Val_Acc: 74.667\n",
      "\n",
      "Epoch 182: Validation loss did not decrease\n",
      "\t Train_Loss: 0.2870 Train_Acc: 92.333 Val_Loss: 0.5137  BEST VAL Loss: 0.5136  Val_Acc: 74.667\n",
      "\n",
      "Epoch 183: Validation loss did not decrease\n",
      "\t Train_Loss: 0.2862 Train_Acc: 92.167 Val_Loss: 0.5138  BEST VAL Loss: 0.5136  Val_Acc: 74.667\n",
      "\n",
      "Epoch 184: Validation loss did not decrease\n",
      "\t Train_Loss: 0.2854 Train_Acc: 92.667 Val_Loss: 0.5138  BEST VAL Loss: 0.5136  Val_Acc: 74.667\n",
      "\n",
      "Epoch 185: Validation loss did not decrease\n",
      "\t Train_Loss: 0.2847 Train_Acc: 92.500 Val_Loss: 0.5138  BEST VAL Loss: 0.5136  Val_Acc: 74.667\n",
      "\n",
      "Epoch 186: Validation loss did not decrease\n",
      "\t Train_Loss: 0.2839 Train_Acc: 93.417 Val_Loss: 0.5138  BEST VAL Loss: 0.5136  Val_Acc: 74.667\n",
      "\n",
      "Epoch 187: Validation loss did not decrease\n",
      "\t Train_Loss: 0.2832 Train_Acc: 92.667 Val_Loss: 0.5138  BEST VAL Loss: 0.5136  Val_Acc: 74.667\n",
      "\n",
      "Epoch 188: Validation loss did not decrease\n",
      "\t Train_Loss: 0.2824 Train_Acc: 92.167 Val_Loss: 0.5139  BEST VAL Loss: 0.5136  Val_Acc: 74.667\n",
      "\n",
      "Epoch 189: Validation loss did not decrease\n",
      "Early stopped at epoch : 189\n"
     ]
    }
   ],
   "source": [
    "# call the optimized trainig model\n",
    "train_loss, train_acc, valid_loss, valid_acc, epochs_ran, model = train_optimized_model(\n",
    "    params.TRAIN_EPOCHS,\n",
    "    train_loader,\n",
    "    valid_loader,\n",
    "    IN_FEATURES,\n",
    "    OUT_FEATURES,\n",
    "    param_dict,\n",
    "    params,\n",
    ")\n",
    "# create a DataFrame of each stat\n",
    "training_stats = pd.DataFrame(\n",
    "    zip(train_loss, train_acc, valid_loss, valid_acc, epochs_ran),\n",
    "    columns=[\"train_loss\", \"train_acc\", \"valid_loss\", \"valid_acc\", \"epochs_ran\"],\n",
    ")"
   ]
  },
  {
   "cell_type": "code",
   "execution_count": 13,
   "id": "8d0f85a4",
   "metadata": {
    "lines_to_next_cell": 2
   },
   "outputs": [
    {
     "data": {
      "image/png": "[encoded data removed]",
      "text/plain": [
       "<Figure size 640x480 with 1 Axes>"
      ]
     },
     "metadata": {},
     "output_type": "display_data"
    }
   ],
   "source": [
    "plot_metric_vs_epoch(training_stats, \"epochs_ran\", \"train_acc\", \"valid_acc\")"
   ]
  },
  {
   "cell_type": "code",
   "execution_count": 14,
   "id": "15f1d90e",
   "metadata": {
    "lines_to_next_cell": 2
   },
   "outputs": [
    {
     "data": {
      "image/png": "[encoded data removed]",
      "text/plain": [
       "<Figure size 640x480 with 1 Axes>"
      ]
     },
     "metadata": {},
     "output_type": "display_data"
    }
   ],
   "source": [
    "plot_metric_vs_epoch(training_stats, \"epochs_ran\", \"train_loss\", \"valid_loss\")"
   ]
  },
  {
   "cell_type": "code",
   "execution_count": 15,
   "id": "103165b9",
   "metadata": {
    "lines_to_next_cell": 2
   },
   "outputs": [],
   "source": [
    "# calling the testing function and outputing list values of tested model\n",
    "y_pred_list, y_pred_prob_list = test_optimized_model(\n",
    "    model, test_loader, IN_FEATURES, OUT_FEATURES, param_dict, params\n",
    ")\n",
    "\n",
    "# un-nest list if nested i.e. length of input data does not match length of output data\n",
    "if len(y_pred_list) != len(Y_test):\n",
    "    y_pred_list = un_nest(y_pred_list)\n",
    "    y_pred_prob_list = un_nest(y_pred_prob_list)\n",
    "else:\n",
    "    pass"
   ]
  },
  {
   "cell_type": "code",
   "execution_count": 16,
   "id": "5d25467e",
   "metadata": {},
   "outputs": [
    {
     "name": "stdout",
     "output_type": "stream",
     "text": [
      "              precision    recall  f1-score   support\n",
      "\n",
      "           0       0.61      0.83      0.70        75\n",
      "           1       0.73      0.47      0.57        75\n",
      "\n",
      "    accuracy                           0.65       150\n",
      "   macro avg       0.67      0.65      0.63       150\n",
      "weighted avg       0.67      0.65      0.63       150\n",
      "\n"
     ]
    },
    {
     "data": {
      "image/png": "[encoded data removed]",
      "text/plain": [
       "<Figure size 550x400 with 1 Axes>"
      ]
     },
     "metadata": {},
     "output_type": "display_data"
    }
   ],
   "source": [
    "# Call visualization function\n",
    "results_output(y_pred_list, y_pred_prob_list, Y_test)"
   ]
  },
  {
   "cell_type": "code",
   "execution_count": null,
   "id": "4354e47b",
   "metadata": {},
   "outputs": [],
   "source": []
  }
 ],
 "metadata": {
  "jupytext": {
   "cell_metadata_filter": "-all",
   "encoding": "# coding: utf-8",
   "executable": "/usr/bin/env python",
   "formats": "ipynb,py",
   "main_language": "python"
  },
  "kernelspec": {
   "display_name": "Python 3 (ipykernel)",
   "language": "python",
   "name": "python3"
  },
  "language_info": {
   "codemirror_mode": {
    "name": "ipython",
    "version": 3
   },
   "file_extension": ".py",
   "mimetype": "text/x-python",
   "name": "python",
   "nbconvert_exporter": "python",
   "pygments_lexer": "ipython3",
   "version": "3.10.9"
  },
  "vscode": {
   "interpreter": {
    "hash": "72ae02083a9ca7d143c492d1aec380c7bf553ec51bd66e90e72bba65228121b6"
   }
  }
 },
 "nbformat": 4,
 "nbformat_minor": 5
}
