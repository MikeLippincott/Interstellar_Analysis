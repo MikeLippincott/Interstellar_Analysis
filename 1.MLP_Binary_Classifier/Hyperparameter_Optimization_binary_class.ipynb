{
 "cells": [
  {
   "cell_type": "markdown",
   "id": "35633c12",
   "metadata": {},
   "source": [
    "## Hyperparameter tuning via Optuna for Binary MLP model"
   ]
  },
  {
   "cell_type": "markdown",
   "id": "171444ad",
   "metadata": {},
   "source": [
    "### Being a binary model this notebook will be limited to predicting one class 1 or 0, yes or no.\n",
    "### Here I will be predicting if a cell received a treatment or not"
   ]
  },
  {
   "cell_type": "code",
   "execution_count": 1,
   "id": "2aa0306d",
   "metadata": {
    "lines_to_next_cell": 2
   },
   "outputs": [],
   "source": [
    "import sys\n",
    "from pathlib import Path\n",
    "\n",
    "import matplotlib.pyplot as plt\n",
    "import numpy as np\n",
    "import optuna\n",
    "import pandas as pd\n",
    "import plotly\n",
    "import seaborn as sns\n",
    "import torch\n",
    "import torch.nn as nn\n",
    "import torch.optim as optim\n",
    "from sklearn import preprocessing\n",
    "\n",
    "from sklearn.model_selection import train_test_split\n",
    "\n",
    "sys.path.append(\"..\")\n",
    "from MLP_utils.parameters import Parameters\n",
    "\n",
    "\n",
    "from MLP_utils.utils import (\n",
    "    Dataset_formatter,\n",
    "    data_split,\n",
    "    extract_best_trial_params,\n",
    "    objective_model_optimizer,\n",
    "    optimized_model_create,\n",
    "    plot_metric_vs_epoch,\n",
    "    results_output,\n",
    "    test_optimized_model,\n",
    "    train_optimized_model,\n",
    "    un_nest,\n",
    ")\n",
    "\n",
    "from utils.utils import df_stats\n",
    "from MLP_utils.utils import parameter_set\n",
    "from configparser import ConfigParser"
   ]
  },
  {
   "cell_type": "code",
   "execution_count": 2,
   "id": "5549d52b",
   "metadata": {},
   "outputs": [],
   "source": [
    "# Import Data\n",
    "# set data file path under pathlib path for multi-system use\n",
    "file_path = Path(\n",
    "    \"../../Extracted_Features_(CSV_files)/interstellar_wave3_sc_norm_fs_cellprofiler.csv.gz\"\n",
    ")\n",
    "df = pd.read_csv(\n",
    "    file_path,\n",
    "    low_memory=False,\n",
    ")"
   ]
  },
  {
   "cell_type": "code",
   "execution_count": 3,
   "id": "9230d197",
   "metadata": {},
   "outputs": [
    {
     "data": {
      "text/plain": [
       "1500"
      ]
     },
     "execution_count": 3,
     "metadata": {},
     "output_type": "execute_result"
    }
   ],
   "source": [
    "config = ConfigParser()\n",
    "config.optionxform = str\n",
    "config.read(\"MLP_utils/config.ini\")\n",
    "\n",
    "\n",
    "params = Parameters()\n",
    "\n",
    "params = parameter_set(params, config)\n",
    "int(params.DATA_SUBSET_NUMBER)"
   ]
  },
  {
   "cell_type": "code",
   "execution_count": 4,
   "id": "b6682c96",
   "metadata": {},
   "outputs": [
    {
     "name": "stdout",
     "output_type": "stream",
     "text": [
      "['LPS_10µg/ml' 'Disulfiram_2.5µM' 'LPS_1µg/ml' 'Disulfiram_0.1µM'\n",
      " 'H2O2_500µM' 'Thapsi_10µM' 'H2O2_50µM' 'Thapsi_1µM' 'ATP_1mM'\n",
      " 'LPS + Nigericin_1µg/ml + 10µM' 'ATP_0.1mM'\n",
      " 'LPS + Nigericin_1µg/ml + 1µM' 'Flagellin_1µg/ml' 'DMSO 0.1%_0'\n",
      " 'Flagellin_0.1µg/ml' 'Media only_0']\n",
      "['LPS_10µg/ml' 'Media only_0']\n",
      "The dimensions of the data are: (36718, 569)\n",
      "Number of total missing values across all columns: 470\n",
      "The dimensions of the data are: (36589, 569)\n",
      "Number of total missing values across all columns: 0\n",
      "False\n",
      "1500\n"
     ]
    }
   ],
   "source": [
    "# Combine treatment with dosage to be able to discern treatments with different doses as a different condition\n",
    "# Combine treatment and dose\n",
    "df = df.assign(\n",
    "    Metadata_Treatment_and_Dose=lambda x: df[\"Metadata_treatment\"]\n",
    "    + \"_\"\n",
    "    + df[\"Metadata_dose\"]\n",
    ")\n",
    "\n",
    "# df[\"Metadata_treatment\"] = df[\"Metadata_treatment\"] + \"_\" + df[\"Metadata_dose\"]\n",
    "print(df[\"Metadata_Treatment_and_Dose\"].unique())\n",
    "\n",
    "# Generate df speceific to analysis and model\n",
    "df = df.query(\n",
    "    \"Metadata_Treatment_and_Dose == 'LPS_10µg/ml'| Metadata_Treatment_and_Dose == 'Media only_0'\"\n",
    ")\n",
    "print(df[\"Metadata_Treatment_and_Dose\"].unique())\n",
    "\n",
    "df_stats(df)\n",
    "# Drop na and reindex accordingly\n",
    "df = df.dropna()\n",
    "df = df.reset_index(drop=True)\n",
    "\n",
    "# Check for Nans again\n",
    "df_stats(df)\n",
    "# Understand categorical data such as treatment and dosing\n",
    "df[[\"Metadata_Treatment_and_Dose\"]].drop_duplicates()\n",
    "print(params.DATA_SUBSET_OPTION)\n",
    "print(params.DATA_SUBSET_NUMBER)\n",
    "if params.DATA_SUBSET_OPTION:\n",
    "    df = df.sample(n=params.DATA_SUBSET_NUMBER)\n",
    "else:\n",
    "    pass\n",
    "\n",
    "# Code snippet for metadata extraction by Jenna Tomkinson\n",
    "df_metadata = list(df.columns[df.columns.str.startswith(\"Metadata\")])\n",
    "\n",
    "# define which columns are data and which are descriptive\n",
    "df_descriptive = df[df_metadata]\n",
    "df_values = df.drop(columns=df_metadata)"
   ]
  },
  {
   "cell_type": "markdown",
   "id": "3c31370d",
   "metadata": {},
   "source": [
    " ### Setting up data for network training"
   ]
  },
  {
   "cell_type": "code",
   "execution_count": 5,
   "id": "e4146d56",
   "metadata": {
    "lines_to_next_cell": 2
   },
   "outputs": [],
   "source": [
    "# Creating label encoder\n",
    "le = preprocessing.LabelEncoder()\n",
    "# Converting strings into numbers\n",
    "df_values[\"Metadata_Treatment_and_Dose\"] = le.fit_transform(\n",
    "    df_descriptive[\"Metadata_Treatment_and_Dose\"]\n",
    ")\n",
    "# split into X and Y where Y are the predictive column and x are the observable data\n",
    "df_values_X = df_values.drop(\"Metadata_Treatment_and_Dose\", axis=1)\n",
    "df_values_Y = df_values[\"Metadata_Treatment_and_Dose\"]\n",
    "\n",
    "df_values_X.head()\n",
    "\n",
    "X_train, X_test, X_val, Y_train, Y_test, Y_val = data_split(\n",
    "    X_vals=df_values_X,\n",
    "    y_vals=df_values_Y,\n",
    "    train=0.8,\n",
    "    val=0.1,\n",
    "    test=0.1,\n",
    "    seed=1,\n",
    ")"
   ]
  },
  {
   "cell_type": "code",
   "execution_count": 6,
   "id": "cdcfd00e",
   "metadata": {
    "lines_to_next_cell": 2
   },
   "outputs": [
    {
     "name": "stdout",
     "output_type": "stream",
     "text": [
      "Number of in features:  555\n",
      "Number of out features:  1\n"
     ]
    }
   ],
   "source": [
    "# produce data objects for train, val and test datasets\n",
    "train_data = Dataset_formatter(\n",
    "    torch.FloatTensor(X_train.values), torch.FloatTensor(Y_train.values)\n",
    ")\n",
    "val_data = Dataset_formatter(\n",
    "    torch.FloatTensor(X_val.values), torch.FloatTensor(Y_val.values)\n",
    ")\n",
    "test_data = Dataset_formatter(\n",
    "    torch.FloatTensor(X_test.values), torch.FloatTensor(Y_test.values)\n",
    ")\n",
    "\n",
    "IN_FEATURES = X_train.shape[1]\n",
    "print(\"Number of in features: \", IN_FEATURES)\n",
    "OUT_FEATURES = len(df_values[\"Metadata_Treatment_and_Dose\"].unique()) - 1\n",
    "print(\"Number of out features: \", OUT_FEATURES)"
   ]
  },
  {
   "cell_type": "code",
   "execution_count": 7,
   "id": "4d2cee70",
   "metadata": {
    "lines_to_next_cell": 2
   },
   "outputs": [],
   "source": [
    "# convert data class into a dataloader to be compatible with pytorch\n",
    "train_loader = torch.utils.data.DataLoader(\n",
    "    dataset=train_data, batch_size=params.BATCH_SIZE\n",
    ")\n",
    "valid_loader = torch.utils.data.DataLoader(\n",
    "    dataset=val_data, batch_size=params.BATCH_SIZE\n",
    ")\n",
    "test_loader = torch.utils.data.DataLoader(\n",
    "    dataset=test_data, batch_size=params.BATCH_SIZE\n",
    ")"
   ]
  },
  {
   "cell_type": "code",
   "execution_count": 8,
   "id": "5ceef247",
   "metadata": {
    "lines_to_next_cell": 2
   },
   "outputs": [
    {
     "name": "stderr",
     "output_type": "stream",
     "text": [
      "\u001b[32m[I 2023-03-23 10:13:08,307]\u001b[0m A new study created in memory with name: no-name-522df41c-17cc-4463-8200-a8c0d0f1ab65\u001b[0m\n",
      "\u001b[32m[I 2023-03-23 10:13:11,972]\u001b[0m Trial 0 finished with value: 0.6944071936607361 and parameters: {'n_layers': 7, 'n_units_l0': 3, 'dropout_0': 0.35897837563525503, 'n_units_l1': 3, 'dropout_1': 0.2296032503073197, 'n_units_l2': 9, 'dropout_2': 0.10809201710586229, 'n_units_l3': 8, 'dropout_3': 0.175927006333933, 'n_units_l4': 9, 'dropout_4': 0.34734771247201335, 'n_units_l5': 2, 'dropout_5': 0.2552190968137137, 'n_units_l6': 8, 'dropout_6': 0.10877074742035248, 'learning_rate': 0.8577059620785397, 'optimizer': 'Adam'}. Best is trial 0 with value: 0.6944071936607361.\u001b[0m\n",
      "\u001b[32m[I 2023-03-23 10:13:13,766]\u001b[0m Trial 1 finished with value: 0.8111789083480835 and parameters: {'n_layers': 7, 'n_units_l0': 6, 'dropout_0': 0.2916211818991783, 'n_units_l1': 8, 'dropout_1': 0.368033587415304, 'n_units_l2': 10, 'dropout_2': 0.21860869082010143, 'n_units_l3': 7, 'dropout_3': 0.38675607982089755, 'n_units_l4': 8, 'dropout_4': 0.34721501885928285, 'n_units_l5': 4, 'dropout_5': 0.1599103404918168, 'n_units_l6': 6, 'dropout_6': 0.16993495850035134, 'learning_rate': 0.47808421956255953, 'optimizer': 'RMSprop'}. Best is trial 1 with value: 0.8111789083480835.\u001b[0m\n",
      "\u001b[32m[I 2023-03-23 10:13:15,288]\u001b[0m Trial 2 finished with value: 0.7111438679695129 and parameters: {'n_layers': 5, 'n_units_l0': 9, 'dropout_0': 0.19980743037416449, 'n_units_l1': 5, 'dropout_1': 0.2980157914788498, 'n_units_l2': 2, 'dropout_2': 0.12004694828813749, 'n_units_l3': 9, 'dropout_3': 0.23965001982746412, 'n_units_l4': 7, 'dropout_4': 0.1473672740293011, 'learning_rate': 0.539900690105452, 'optimizer': 'RMSprop'}. Best is trial 1 with value: 0.8111789083480835.\u001b[0m\n",
      "\u001b[32m[I 2023-03-23 10:13:16,682]\u001b[0m Trial 3 finished with value: 0.6199298626184464 and parameters: {'n_layers': 3, 'n_units_l0': 3, 'dropout_0': 0.28643487639131376, 'n_units_l1': 4, 'dropout_1': 0.1234547511521503, 'n_units_l2': 3, 'dropout_2': 0.2924817672609393, 'learning_rate': 0.19997394181421885, 'optimizer': 'SGD'}. Best is trial 1 with value: 0.8111789083480835.\u001b[0m\n",
      "\u001b[32m[I 2023-03-23 10:13:18,523]\u001b[0m Trial 4 finished with value: 0.694082550406456 and parameters: {'n_layers': 7, 'n_units_l0': 10, 'dropout_0': 0.22847324918575973, 'n_units_l1': 5, 'dropout_1': 0.12640892418681757, 'n_units_l2': 4, 'dropout_2': 0.3598202874318761, 'n_units_l3': 4, 'dropout_3': 0.3230433761864816, 'n_units_l4': 8, 'dropout_4': 0.16118739762760873, 'n_units_l5': 7, 'dropout_5': 0.24671893569715744, 'n_units_l6': 3, 'dropout_6': 0.308942853038895, 'learning_rate': 0.9761589107145074, 'optimizer': 'Adam'}. Best is trial 1 with value: 0.8111789083480835.\u001b[0m\n",
      "\u001b[32m[I 2023-03-23 10:13:19,937]\u001b[0m Trial 5 finished with value: 0.8679829442501068 and parameters: {'n_layers': 2, 'n_units_l0': 9, 'dropout_0': 0.26119165186797133, 'n_units_l1': 4, 'dropout_1': 0.28039415614626095, 'learning_rate': 0.5311193844399628, 'optimizer': 'Adam'}. Best is trial 5 with value: 0.8679829442501068.\u001b[0m\n",
      "\u001b[32m[I 2023-03-23 10:13:19,951]\u001b[0m Trial 6 pruned. \u001b[0m\n",
      "\u001b[32m[I 2023-03-23 10:13:21,638]\u001b[0m Trial 7 finished with value: 0.7256773793697358 and parameters: {'n_layers': 7, 'n_units_l0': 6, 'dropout_0': 0.252956975290943, 'n_units_l1': 5, 'dropout_1': 0.26708036223859793, 'n_units_l2': 5, 'dropout_2': 0.3513229317263914, 'n_units_l3': 3, 'dropout_3': 0.1289276859279993, 'n_units_l4': 7, 'dropout_4': 0.35029725621252816, 'n_units_l5': 7, 'dropout_5': 0.27736849640822897, 'n_units_l6': 10, 'dropout_6': 0.22037590505321147, 'learning_rate': 0.11905047343338118, 'optimizer': 'RMSprop'}. Best is trial 5 with value: 0.8679829442501068.\u001b[0m\n",
      "\u001b[32m[I 2023-03-23 10:13:21,658]\u001b[0m Trial 8 pruned. \u001b[0m\n",
      "\u001b[32m[I 2023-03-23 10:13:23,008]\u001b[0m Trial 9 finished with value: 4.61254693031311 and parameters: {'n_layers': 1, 'n_units_l0': 7, 'dropout_0': 0.11718856446540366, 'learning_rate': 0.6409185930310639, 'optimizer': 'Adam'}. Best is trial 9 with value: 4.61254693031311.\u001b[0m\n"
     ]
    },
    {
     "name": "stdout",
     "output_type": "stream",
     "text": [
      "Validation Accuracy: 62.26666666666667\n",
      "Validation Loss: 6.248369040489197\n",
      "Training Accuracy: 72.3075\n",
      "Training Loss: 1.4642113569378852\n"
     ]
    }
   ],
   "source": [
    "# wrap the objective function inside of a lambda function to pass args...\n",
    "objective_lambda_func = lambda trial: objective_model_optimizer(\n",
    "    train_loader,\n",
    "    valid_loader,\n",
    "    trial=trial,\n",
    "    in_features=IN_FEATURES,\n",
    "    out_features=OUT_FEATURES,\n",
    "    params=params,\n",
    "    metric=\"loss\",\n",
    "    return_info=False,\n",
    ")\n",
    "# Study is the object for model optimization\n",
    "study = optuna.create_study(direction=f\"{params.DIRECTION}\")\n",
    "# Here I apply the optimize function of the study to the objective function\n",
    "# This optimizes each parameter specified to be optimized from the defined search space\n",
    "study.optimize(objective_lambda_func, n_trials=params.N_TRIALS)\n",
    "# Prints out the best trial's optimized parameters\n",
    "objective_model_optimizer(\n",
    "    train_loader,\n",
    "    valid_loader,\n",
    "    trial=study.best_trial,\n",
    "    in_features=IN_FEATURES,\n",
    "    out_features=OUT_FEATURES,\n",
    "    params=params,\n",
    "    metric=params.METRIC,\n",
    "    return_info=True,\n",
    ")"
   ]
  },
  {
   "cell_type": "code",
   "execution_count": 9,
   "id": "30756fe3",
   "metadata": {
    "lines_to_next_cell": 2
   },
   "outputs": [
    {
     "data": {
      "application/vnd.plotly.v1+json": {
       "config": {
        "plotlyServerURL": "https://plot.ly"
       },
       "data": [
        {
         "mode": "markers",
         "name": "Objective Value",
         "type": "scatter",
         "x": [
          0,
          1,
          2,
          3,
          4,
          5,
          7,
          9
         ],
         "y": [
          0.6944071936607361,
          0.8111789083480835,
          0.7111438679695129,
          0.6199298626184464,
          0.694082550406456,
          0.8679829442501068,
          0.7256773793697358,
          4.61254693031311
         ]
        },
        {
         "name": "Best Value",
         "type": "scatter",
         "x": [
          0,
          1,
          2,
          3,
          4,
          5,
          7,
          9
         ],
         "y": [
          0.6944071936607361,
          0.8111789083480835,
          0.8111789083480835,
          0.8111789083480835,
          0.8111789083480835,
          0.8679829442501068,
          0.8679829442501068,
          4.61254693031311
         ]
        }
       ],
       "layout": {
        "template": {
         "data": {
          "bar": [
           {
            "error_x": {
             "color": "#2a3f5f"
            },
            "error_y": {
             "color": "#2a3f5f"
            },
            "marker": {
             "line": {
              "color": "#E5ECF6",
              "width": 0.5
             },
             "pattern": {
              "fillmode": "overlay",
              "size": 10,
              "solidity": 0.2
             }
            },
            "type": "bar"
           }
          ],
          "barpolar": [
           {
            "marker": {
             "line": {
              "color": "#E5ECF6",
              "width": 0.5
             },
             "pattern": {
              "fillmode": "overlay",
              "size": 10,
              "solidity": 0.2
             }
            },
            "type": "barpolar"
           }
          ],
          "carpet": [
           {
            "aaxis": {
             "endlinecolor": "#2a3f5f",
             "gridcolor": "white",
             "linecolor": "white",
             "minorgridcolor": "white",
             "startlinecolor": "#2a3f5f"
            },
            "baxis": {
             "endlinecolor": "#2a3f5f",
             "gridcolor": "white",
             "linecolor": "white",
             "minorgridcolor": "white",
             "startlinecolor": "#2a3f5f"
            },
            "type": "carpet"
           }
          ],
          "choropleth": [
           {
            "colorbar": {
             "outlinewidth": 0,
             "ticks": ""
            },
            "type": "choropleth"
           }
          ],
          "contour": [
           {
            "colorbar": {
             "outlinewidth": 0,
             "ticks": ""
            },
            "colorscale": [
             [
              0,
              "#0d0887"
             ],
             [
              0.1111111111111111,
              "#46039f"
             ],
             [
              0.2222222222222222,
              "#7201a8"
             ],
             [
              0.3333333333333333,
              "#9c179e"
             ],
             [
              0.4444444444444444,
              "#bd3786"
             ],
             [
              0.5555555555555556,
              "#d8576b"
             ],
             [
              0.6666666666666666,
              "#ed7953"
             ],
             [
              0.7777777777777778,
              "#fb9f3a"
             ],
             [
              0.8888888888888888,
              "#fdca26"
             ],
             [
              1,
              "#f0f921"
             ]
            ],
            "type": "contour"
           }
          ],
          "contourcarpet": [
           {
            "colorbar": {
             "outlinewidth": 0,
             "ticks": ""
            },
            "type": "contourcarpet"
           }
          ],
          "heatmap": [
           {
            "colorbar": {
             "outlinewidth": 0,
             "ticks": ""
            },
            "colorscale": [
             [
              0,
              "#0d0887"
             ],
             [
              0.1111111111111111,
              "#46039f"
             ],
             [
              0.2222222222222222,
              "#7201a8"
             ],
             [
              0.3333333333333333,
              "#9c179e"
             ],
             [
              0.4444444444444444,
              "#bd3786"
             ],
             [
              0.5555555555555556,
              "#d8576b"
             ],
             [
              0.6666666666666666,
              "#ed7953"
             ],
             [
              0.7777777777777778,
              "#fb9f3a"
             ],
             [
              0.8888888888888888,
              "#fdca26"
             ],
             [
              1,
              "#f0f921"
             ]
            ],
            "type": "heatmap"
           }
          ],
          "heatmapgl": [
           {
            "colorbar": {
             "outlinewidth": 0,
             "ticks": ""
            },
            "colorscale": [
             [
              0,
              "#0d0887"
             ],
             [
              0.1111111111111111,
              "#46039f"
             ],
             [
              0.2222222222222222,
              "#7201a8"
             ],
             [
              0.3333333333333333,
              "#9c179e"
             ],
             [
              0.4444444444444444,
              "#bd3786"
             ],
             [
              0.5555555555555556,
              "#d8576b"
             ],
             [
              0.6666666666666666,
              "#ed7953"
             ],
             [
              0.7777777777777778,
              "#fb9f3a"
             ],
             [
              0.8888888888888888,
              "#fdca26"
             ],
             [
              1,
              "#f0f921"
             ]
            ],
            "type": "heatmapgl"
           }
          ],
          "histogram": [
           {
            "marker": {
             "pattern": {
              "fillmode": "overlay",
              "size": 10,
              "solidity": 0.2
             }
            },
            "type": "histogram"
           }
          ],
          "histogram2d": [
           {
            "colorbar": {
             "outlinewidth": 0,
             "ticks": ""
            },
            "colorscale": [
             [
              0,
              "#0d0887"
             ],
             [
              0.1111111111111111,
              "#46039f"
             ],
             [
              0.2222222222222222,
              "#7201a8"
             ],
             [
              0.3333333333333333,
              "#9c179e"
             ],
             [
              0.4444444444444444,
              "#bd3786"
             ],
             [
              0.5555555555555556,
              "#d8576b"
             ],
             [
              0.6666666666666666,
              "#ed7953"
             ],
             [
              0.7777777777777778,
              "#fb9f3a"
             ],
             [
              0.8888888888888888,
              "#fdca26"
             ],
             [
              1,
              "#f0f921"
             ]
            ],
            "type": "histogram2d"
           }
          ],
          "histogram2dcontour": [
           {
            "colorbar": {
             "outlinewidth": 0,
             "ticks": ""
            },
            "colorscale": [
             [
              0,
              "#0d0887"
             ],
             [
              0.1111111111111111,
              "#46039f"
             ],
             [
              0.2222222222222222,
              "#7201a8"
             ],
             [
              0.3333333333333333,
              "#9c179e"
             ],
             [
              0.4444444444444444,
              "#bd3786"
             ],
             [
              0.5555555555555556,
              "#d8576b"
             ],
             [
              0.6666666666666666,
              "#ed7953"
             ],
             [
              0.7777777777777778,
              "#fb9f3a"
             ],
             [
              0.8888888888888888,
              "#fdca26"
             ],
             [
              1,
              "#f0f921"
             ]
            ],
            "type": "histogram2dcontour"
           }
          ],
          "mesh3d": [
           {
            "colorbar": {
             "outlinewidth": 0,
             "ticks": ""
            },
            "type": "mesh3d"
           }
          ],
          "parcoords": [
           {
            "line": {
             "colorbar": {
              "outlinewidth": 0,
              "ticks": ""
             }
            },
            "type": "parcoords"
           }
          ],
          "pie": [
           {
            "automargin": true,
            "type": "pie"
           }
          ],
          "scatter": [
           {
            "fillpattern": {
             "fillmode": "overlay",
             "size": 10,
             "solidity": 0.2
            },
            "type": "scatter"
           }
          ],
          "scatter3d": [
           {
            "line": {
             "colorbar": {
              "outlinewidth": 0,
              "ticks": ""
             }
            },
            "marker": {
             "colorbar": {
              "outlinewidth": 0,
              "ticks": ""
             }
            },
            "type": "scatter3d"
           }
          ],
          "scattercarpet": [
           {
            "marker": {
             "colorbar": {
              "outlinewidth": 0,
              "ticks": ""
             }
            },
            "type": "scattercarpet"
           }
          ],
          "scattergeo": [
           {
            "marker": {
             "colorbar": {
              "outlinewidth": 0,
              "ticks": ""
             }
            },
            "type": "scattergeo"
           }
          ],
          "scattergl": [
           {
            "marker": {
             "colorbar": {
              "outlinewidth": 0,
              "ticks": ""
             }
            },
            "type": "scattergl"
           }
          ],
          "scattermapbox": [
           {
            "marker": {
             "colorbar": {
              "outlinewidth": 0,
              "ticks": ""
             }
            },
            "type": "scattermapbox"
           }
          ],
          "scatterpolar": [
           {
            "marker": {
             "colorbar": {
              "outlinewidth": 0,
              "ticks": ""
             }
            },
            "type": "scatterpolar"
           }
          ],
          "scatterpolargl": [
           {
            "marker": {
             "colorbar": {
              "outlinewidth": 0,
              "ticks": ""
             }
            },
            "type": "scatterpolargl"
           }
          ],
          "scatterternary": [
           {
            "marker": {
             "colorbar": {
              "outlinewidth": 0,
              "ticks": ""
             }
            },
            "type": "scatterternary"
           }
          ],
          "surface": [
           {
            "colorbar": {
             "outlinewidth": 0,
             "ticks": ""
            },
            "colorscale": [
             [
              0,
              "#0d0887"
             ],
             [
              0.1111111111111111,
              "#46039f"
             ],
             [
              0.2222222222222222,
              "#7201a8"
             ],
             [
              0.3333333333333333,
              "#9c179e"
             ],
             [
              0.4444444444444444,
              "#bd3786"
             ],
             [
              0.5555555555555556,
              "#d8576b"
             ],
             [
              0.6666666666666666,
              "#ed7953"
             ],
             [
              0.7777777777777778,
              "#fb9f3a"
             ],
             [
              0.8888888888888888,
              "#fdca26"
             ],
             [
              1,
              "#f0f921"
             ]
            ],
            "type": "surface"
           }
          ],
          "table": [
           {
            "cells": {
             "fill": {
              "color": "#EBF0F8"
             },
             "line": {
              "color": "white"
             }
            },
            "header": {
             "fill": {
              "color": "#C8D4E3"
             },
             "line": {
              "color": "white"
             }
            },
            "type": "table"
           }
          ]
         },
         "layout": {
          "annotationdefaults": {
           "arrowcolor": "#2a3f5f",
           "arrowhead": 0,
           "arrowwidth": 1
          },
          "autotypenumbers": "strict",
          "coloraxis": {
           "colorbar": {
            "outlinewidth": 0,
            "ticks": ""
           }
          },
          "colorscale": {
           "diverging": [
            [
             0,
             "#8e0152"
            ],
            [
             0.1,
             "#c51b7d"
            ],
            [
             0.2,
             "#de77ae"
            ],
            [
             0.3,
             "#f1b6da"
            ],
            [
             0.4,
             "#fde0ef"
            ],
            [
             0.5,
             "#f7f7f7"
            ],
            [
             0.6,
             "#e6f5d0"
            ],
            [
             0.7,
             "#b8e186"
            ],
            [
             0.8,
             "#7fbc41"
            ],
            [
             0.9,
             "#4d9221"
            ],
            [
             1,
             "#276419"
            ]
           ],
           "sequential": [
            [
             0,
             "#0d0887"
            ],
            [
             0.1111111111111111,
             "#46039f"
            ],
            [
             0.2222222222222222,
             "#7201a8"
            ],
            [
             0.3333333333333333,
             "#9c179e"
            ],
            [
             0.4444444444444444,
             "#bd3786"
            ],
            [
             0.5555555555555556,
             "#d8576b"
            ],
            [
             0.6666666666666666,
             "#ed7953"
            ],
            [
             0.7777777777777778,
             "#fb9f3a"
            ],
            [
             0.8888888888888888,
             "#fdca26"
            ],
            [
             1,
             "#f0f921"
            ]
           ],
           "sequentialminus": [
            [
             0,
             "#0d0887"
            ],
            [
             0.1111111111111111,
             "#46039f"
            ],
            [
             0.2222222222222222,
             "#7201a8"
            ],
            [
             0.3333333333333333,
             "#9c179e"
            ],
            [
             0.4444444444444444,
             "#bd3786"
            ],
            [
             0.5555555555555556,
             "#d8576b"
            ],
            [
             0.6666666666666666,
             "#ed7953"
            ],
            [
             0.7777777777777778,
             "#fb9f3a"
            ],
            [
             0.8888888888888888,
             "#fdca26"
            ],
            [
             1,
             "#f0f921"
            ]
           ]
          },
          "colorway": [
           "#636efa",
           "#EF553B",
           "#00cc96",
           "#ab63fa",
           "#FFA15A",
           "#19d3f3",
           "#FF6692",
           "#B6E880",
           "#FF97FF",
           "#FECB52"
          ],
          "font": {
           "color": "#2a3f5f"
          },
          "geo": {
           "bgcolor": "white",
           "lakecolor": "white",
           "landcolor": "#E5ECF6",
           "showlakes": true,
           "showland": true,
           "subunitcolor": "white"
          },
          "hoverlabel": {
           "align": "left"
          },
          "hovermode": "closest",
          "mapbox": {
           "style": "light"
          },
          "paper_bgcolor": "white",
          "plot_bgcolor": "#E5ECF6",
          "polar": {
           "angularaxis": {
            "gridcolor": "white",
            "linecolor": "white",
            "ticks": ""
           },
           "bgcolor": "#E5ECF6",
           "radialaxis": {
            "gridcolor": "white",
            "linecolor": "white",
            "ticks": ""
           }
          },
          "scene": {
           "xaxis": {
            "backgroundcolor": "#E5ECF6",
            "gridcolor": "white",
            "gridwidth": 2,
            "linecolor": "white",
            "showbackground": true,
            "ticks": "",
            "zerolinecolor": "white"
           },
           "yaxis": {
            "backgroundcolor": "#E5ECF6",
            "gridcolor": "white",
            "gridwidth": 2,
            "linecolor": "white",
            "showbackground": true,
            "ticks": "",
            "zerolinecolor": "white"
           },
           "zaxis": {
            "backgroundcolor": "#E5ECF6",
            "gridcolor": "white",
            "gridwidth": 2,
            "linecolor": "white",
            "showbackground": true,
            "ticks": "",
            "zerolinecolor": "white"
           }
          },
          "shapedefaults": {
           "line": {
            "color": "#2a3f5f"
           }
          },
          "ternary": {
           "aaxis": {
            "gridcolor": "white",
            "linecolor": "white",
            "ticks": ""
           },
           "baxis": {
            "gridcolor": "white",
            "linecolor": "white",
            "ticks": ""
           },
           "bgcolor": "#E5ECF6",
           "caxis": {
            "gridcolor": "white",
            "linecolor": "white",
            "ticks": ""
           }
          },
          "title": {
           "x": 0.05
          },
          "xaxis": {
           "automargin": true,
           "gridcolor": "white",
           "linecolor": "white",
           "ticks": "",
           "title": {
            "standoff": 15
           },
           "zerolinecolor": "white",
           "zerolinewidth": 2
          },
          "yaxis": {
           "automargin": true,
           "gridcolor": "white",
           "linecolor": "white",
           "ticks": "",
           "title": {
            "standoff": 15
           },
           "zerolinecolor": "white",
           "zerolinewidth": 2
          }
         }
        },
        "title": {
         "text": "Optimization History Plot"
        },
        "xaxis": {
         "title": {
          "text": "Trial"
         }
        },
        "yaxis": {
         "title": {
          "text": "Objective Value"
         }
        }
       }
      }
     },
     "metadata": {},
     "output_type": "display_data"
    }
   ],
   "source": [
    "optuna.visualization.plot_optimization_history(study)"
   ]
  },
  {
   "cell_type": "code",
   "execution_count": 10,
   "id": "9a7ddf13",
   "metadata": {
    "lines_to_next_cell": 2
   },
   "outputs": [
    {
     "data": {
      "application/vnd.plotly.v1+json": {
       "config": {
        "plotlyServerURL": "https://plot.ly"
       },
       "data": [
        {
         "marker": {
          "maxdisplayed": 10
         },
         "mode": "lines+markers",
         "name": "Trial0",
         "type": "scatter",
         "x": [
          0,
          1,
          2,
          3,
          4,
          5,
          6,
          7,
          8,
          9,
          10,
          11,
          12,
          13,
          14,
          15,
          16,
          17,
          18,
          19,
          20,
          21,
          22,
          23,
          24,
          25,
          26,
          27,
          28,
          29,
          30,
          31,
          32,
          33,
          34,
          35,
          36,
          37,
          38,
          39,
          40,
          41,
          42,
          43,
          44,
          45,
          46,
          47,
          48,
          49,
          50,
          51,
          52,
          53,
          54,
          55,
          56,
          57,
          58,
          59,
          60,
          61,
          62,
          63,
          64,
          65,
          66,
          67,
          68,
          69,
          70,
          71,
          72,
          73,
          74,
          75,
          76,
          77,
          78,
          79,
          80,
          81,
          82,
          83,
          84,
          85,
          86,
          87,
          88,
          89,
          90,
          91,
          92,
          93,
          94,
          95,
          96,
          97,
          98,
          99
         ],
         "y": [
          0.7106495499610901,
          0.735605001449585,
          0.7249476114908854,
          0.7172527313232422,
          0.7155935525894165,
          0.7143889466921488,
          0.7116857767105103,
          0.7094938978552818,
          0.7084380322032504,
          0.7073602497577667,
          0.7060480280355974,
          0.7051212191581726,
          0.7045115828514099,
          0.7037988603115082,
          0.7030663013458252,
          0.7025093920528889,
          0.7020102739334106,
          0.7014998396237692,
          0.7010762252305683,
          0.700722998380661,
          0.7003617797579084,
          0.7000196440653368,
          0.6997212974921517,
          0.6994374965627989,
          0.6991742181777955,
          0.6989439588326675,
          0.6987252963913811,
          0.698513497199331,
          0.6983184033426745,
          0.6981351951758067,
          0.6979636069267027,
          0.6978067550808191,
          0.6976579554153212,
          0.6975149722660289,
          0.6973802702767509,
          0.6972528166241116,
          0.6971330642700195,
          0.6970208161755612,
          0.6969133539077563,
          0.6968103632330894,
          0.6967123441579866,
          0.6966191530227661,
          0.6965309533961984,
          0.6964468359947205,
          0.6963659021589491,
          0.6962882539500361,
          0.6962139593793991,
          0.6961430534720421,
          0.6960752290122363,
          0.6960099041461945,
          0.6959469353451448,
          0.6958863815435996,
          0.6958282578666255,
          0.6957724138542458,
          0.6957185235890475,
          0.6956664313163076,
          0.6956161480200919,
          0.6955676777609463,
          0.6955209232993045,
          0.6954756915569306,
          0.6954318705152293,
          0.6953894505577702,
          0.6953484245709011,
          0.6953087197616696,
          0.6952702127970182,
          0.6952328329736536,
          0.6951965680762903,
          0.6951613995958777,
          0.6951272669045822,
          0.6950940915516445,
          0.695061830567642,
          0.6950304690334532,
          0.6949999846824227,
          0.6949703290655806,
          0.6949414523442586,
          0.6949133253411243,
          0.6948859366503629,
          0.6948592578753446,
          0.6948332545123522,
          0.694807892292738,
          0.694783154093189,
          0.6947590250794481,
          0.6947354803602379,
          0.6947124933912641,
          0.6946900423835306,
          0.6946681148784105,
          0.6946466955645331,
          0.6946257623759183,
          0.694605297586891,
          0.6945852855841319,
          0.6945657153705974,
          0.6945465725401173,
          0.6945278394606805,
          0.6945095030551262,
          0.6944915533065796,
          0.6944739787528912,
          0.6944567671756154,
          0.6944399050303868,
          0.6944233835345567,
          0.6944071936607361
         ]
        },
        {
         "marker": {
          "maxdisplayed": 10
         },
         "mode": "lines+markers",
         "name": "Trial1",
         "type": "scatter",
         "x": [
          0,
          1,
          2,
          3,
          4,
          5,
          6,
          7,
          8,
          9,
          10,
          11,
          12,
          13,
          14,
          15,
          16,
          17,
          18,
          19,
          20,
          21,
          22,
          23,
          24,
          25,
          26,
          27,
          28,
          29,
          30,
          31,
          32,
          33,
          34,
          35,
          36,
          37,
          38,
          39,
          40,
          41,
          42,
          43,
          44,
          45,
          46,
          47,
          48,
          49,
          50,
          51,
          52,
          53,
          54,
          55,
          56,
          57,
          58,
          59,
          60,
          61,
          62,
          63,
          64,
          65,
          66,
          67,
          68,
          69,
          70,
          71,
          72,
          73,
          74,
          75,
          76,
          77,
          78,
          79,
          80,
          81,
          82,
          83,
          84,
          85,
          86,
          87,
          88,
          89,
          90,
          91,
          92,
          93,
          94,
          95,
          96,
          97,
          98,
          99
         ],
         "y": [
          12.08326244354248,
          6.394213765859604,
          4.494168937206268,
          3.5438677966594696,
          2.973661410808563,
          2.593520333369573,
          2.3219901663916453,
          2.1183407232165337,
          1.959946380721198,
          1.8332309067249297,
          1.7295546260747043,
          1.6431577056646347,
          1.5700527200332055,
          1.5073914996215276,
          1.453085215886434,
          1.4055671691894531,
          1.36364044862635,
          1.3263721863428752,
          1.2930276142923456,
          1.2630174100399016,
          1.235825893424806,
          1.2111080153421923,
          1.188543817271357,
          1.1678600932161014,
          1.1488359785079956,
          1.1312817472677965,
          1.1150329753204629,
          1.0999510394675391,
          1.0859228372573853,
          1.072847024599711,
          1.0606262299322313,
          1.049198618158698,
          1.0385041056257305,
          1.0285166835083681,
          1.0191751939909799,
          1.0104179266426299,
          1.002178188916799,
          0.9943678990790719,
          0.9869339680060362,
          0.9798227459192276,
          0.9730197947199751,
          0.9665096629233587,
          0.9602846558703932,
          0.9543146910992536,
          0.9485953569412231,
          0.9431238252183666,
          0.9378794685323187,
          0.9328559041023254,
          0.9280317316249925,
          0.9233997213840485,
          0.9189515335887086,
          0.9146800637245178,
          0.9105829551534833,
          0.9066523479090797,
          0.9028721570968627,
          0.8992347493767738,
          0.8957328785929763,
          0.8923574007790664,
          0.8891022488222284,
          0.8859593758980433,
          0.8829197316873268,
          0.8799759514870182,
          0.8771273086941431,
          0.8743626745417714,
          0.8716724093143756,
          0.8690542768348347,
          0.8665080026014528,
          0.8640309922835406,
          0.8616256100544031,
          0.8592893021447318,
          0.8570183364438339,
          0.8548089671466086,
          0.852663614978529,
          0.8505777007824665,
          0.848550443649292,
          0.8465780686391028,
          0.8446604803011015,
          0.8427872130504022,
          0.8409649269490302,
          0.8391918130218983,
          0.8374648248707807,
          0.835782148489138,
          0.8341407524534019,
          0.832538760134152,
          0.8309749484062194,
          0.8294466408186181,
          0.8279558920312202,
          0.8265013830228285,
          0.82507607709156,
          0.8236781550778283,
          0.8223068642092275,
          0.820961863450382,
          0.819645599011452,
          0.8183564055473247,
          0.8170953574933504,
          0.8158626252164444,
          0.8146543373766634,
          0.8134729035046636,
          0.8123151376993969,
          0.8111789083480835
         ]
        },
        {
         "marker": {
          "maxdisplayed": 10
         },
         "mode": "lines+markers",
         "name": "Trial2",
         "type": "scatter",
         "x": [
          0,
          1,
          2,
          3,
          4,
          5,
          6,
          7,
          8,
          9,
          10,
          11,
          12,
          13,
          14,
          15,
          16,
          17,
          18,
          19,
          20,
          21,
          22,
          23,
          24,
          25,
          26,
          27,
          28,
          29,
          30,
          31,
          32,
          33,
          34,
          35,
          36,
          37,
          38,
          39,
          40,
          41,
          42,
          43,
          44,
          45,
          46,
          47,
          48,
          49,
          50,
          51,
          52,
          53,
          54,
          55,
          56,
          57,
          58,
          59,
          60,
          61,
          62,
          63,
          64,
          65,
          66,
          67,
          68,
          69,
          70,
          71,
          72,
          73,
          74,
          75,
          76,
          77,
          78,
          79,
          80,
          81,
          82,
          83,
          84,
          85,
          86,
          87,
          88,
          89,
          90,
          91,
          92,
          93,
          94,
          95,
          96,
          97,
          98,
          99
         ],
         "y": [
          0.7780970931053162,
          0.8131064772605896,
          0.8076503078142802,
          0.7975673377513885,
          0.7947184681892395,
          0.7944826682408651,
          0.7901886446135384,
          0.7875679284334183,
          0.7847569717301263,
          0.7830398321151734,
          0.7810242988846519,
          0.7802749127149582,
          0.7782127031913171,
          0.7760059492928642,
          0.7741995453834534,
          0.7720837630331516,
          0.7704510793966406,
          0.769366227918201,
          0.7677055942384821,
          0.7658859968185425,
          0.7646699547767639,
          0.7634104544466193,
          0.7628279017365497,
          0.7623728215694427,
          0.7618796420097351,
          0.762096432539133,
          0.761055730007313,
          0.7599074180637088,
          0.7584737621504685,
          0.7576857765515645,
          0.7563988893262802,
          0.7551215197890997,
          0.7538511554400126,
          0.7527429145925185,
          0.7515096119471959,
          0.7504605054855347,
          0.7494067936330229,
          0.7481838009859386,
          0.7469657170466888,
          0.745894068479538,
          0.7451056968875047,
          0.7442924224195027,
          0.7436916592509247,
          0.7429624633355574,
          0.7423227270444234,
          0.741705034090125,
          0.7407886221053752,
          0.7398494010170301,
          0.7389367648533413,
          0.7380623507499695,
          0.7372047644035489,
          0.7363975105377344,
          0.7354928626204437,
          0.734627186148255,
          0.7339231458577242,
          0.7333888890487807,
          0.7327263773533336,
          0.7321160589826519,
          0.7313185556460235,
          0.7305748750766118,
          0.7298428601905947,
          0.7292235455205364,
          0.7285849688545106,
          0.7278649695217609,
          0.7271612809254573,
          0.7266579189083793,
          0.7259962567642554,
          0.725439727306366,
          0.7248506312784941,
          0.7242952457496098,
          0.7237856539202409,
          0.7231500951780213,
          0.7225293198676959,
          0.7219107875952849,
          0.721309982140859,
          0.7207146984966177,
          0.7201451527607905,
          0.7198815192931738,
          0.7194660117354574,
          0.7191549189388752,
          0.7187060529803052,
          0.7182212399273384,
          0.7177290736910809,
          0.717250923315684,
          0.7168773398679845,
          0.7164185885773149,
          0.7159580636298519,
          0.7155604714697058,
          0.7152360751387778,
          0.7147936165332794,
          0.7144657032830375,
          0.7141153877196105,
          0.7137542681027484,
          0.7133762773047102,
          0.713034316740538,
          0.7126626564810673,
          0.7122705056495273,
          0.7119126173914695,
          0.7115228103868889,
          0.7111438679695129
         ]
        },
        {
         "marker": {
          "maxdisplayed": 10
         },
         "mode": "lines+markers",
         "name": "Trial3",
         "type": "scatter",
         "x": [
          0,
          1,
          2,
          3,
          4,
          5,
          6,
          7,
          8,
          9,
          10,
          11,
          12,
          13,
          14,
          15,
          16,
          17,
          18,
          19,
          20,
          21,
          22,
          23,
          24,
          25,
          26,
          27,
          28,
          29,
          30,
          31,
          32,
          33,
          34,
          35,
          36,
          37,
          38,
          39,
          40,
          41,
          42,
          43,
          44,
          45,
          46,
          47,
          48,
          49,
          50,
          51,
          52,
          53,
          54,
          55,
          56,
          57,
          58,
          59,
          60,
          61,
          62,
          63,
          64,
          65,
          66,
          67,
          68,
          69,
          70,
          71,
          72,
          73,
          74,
          75,
          76,
          77,
          78,
          79,
          80,
          81,
          82,
          83,
          84,
          85,
          86,
          87,
          88,
          89,
          90,
          91,
          92,
          93,
          94,
          95,
          96,
          97,
          98,
          99
         ],
         "y": [
          0.6976213455200195,
          0.6965326070785522,
          0.6955509583155314,
          0.6946807205677032,
          0.694327712059021,
          0.6937682926654816,
          0.6931000607354301,
          0.6922535449266434,
          0.6912849876615736,
          0.6902649223804473,
          0.6891576647758484,
          0.6879132936398188,
          0.6866019551570599,
          0.6852228598935264,
          0.6838211139043172,
          0.6823632828891277,
          0.6808718267609092,
          0.6793254084057279,
          0.6777445203379581,
          0.67619788646698,
          0.6746566409156436,
          0.6731941537423567,
          0.6716414741847826,
          0.6701056634386381,
          0.6686145949363709,
          0.6671515290553753,
          0.6656502286593119,
          0.6642036033528191,
          0.662787310008345,
          0.6614672044912974,
          0.6602289734348175,
          0.658922852948308,
          0.6577315041513154,
          0.6565488331458148,
          0.6553222162382943,
          0.6542055110136668,
          0.6531924154307391,
          0.6521837146658647,
          0.6512020153877063,
          0.6502623096108436,
          0.6493135719764523,
          0.6484576151484535,
          0.6475913857304773,
          0.6466574357314543,
          0.645628911919064,
          0.6446810870066934,
          0.6438329841228242,
          0.6430817941824595,
          0.6423097556951095,
          0.6415709626674652,
          0.6408542453073988,
          0.6401966145405402,
          0.6393909105714762,
          0.6387161689775961,
          0.6380430698394776,
          0.6373528838157654,
          0.6368374416702672,
          0.6362290957878376,
          0.6357315829244711,
          0.6352335790793101,
          0.6347682857122577,
          0.6342610918706463,
          0.6340267450090439,
          0.6333528375253081,
          0.6327190674268283,
          0.632017071499969,
          0.6311752200126648,
          0.6313217597849229,
          0.6309671557467916,
          0.6302836801324572,
          0.6297259372724614,
          0.6292278923922114,
          0.6287703963175212,
          0.6281499403554041,
          0.6278311824798584,
          0.6276336139754245,
          0.6271740701291468,
          0.6268486716808417,
          0.6265041088756127,
          0.6260246828198432,
          0.6256865454308781,
          0.625364602338977,
          0.6249340348933117,
          0.6245307674010595,
          0.6241902428514817,
          0.6236961386924567,
          0.623271200163611,
          0.6231085759672251,
          0.6227527093351557,
          0.6222947988245222,
          0.6220000137339582,
          0.6217980929042982,
          0.6212818949453293,
          0.6207661647745903,
          0.6204133410202829,
          0.6202421889950832,
          0.6205025511918608,
          0.6202037900078053,
          0.6201239511220142,
          0.6199298626184464
         ]
        },
        {
         "marker": {
          "maxdisplayed": 10
         },
         "mode": "lines+markers",
         "name": "Trial4",
         "type": "scatter",
         "x": [
          0,
          1,
          2,
          3,
          4,
          5,
          6,
          7,
          8,
          9,
          10,
          11,
          12,
          13,
          14,
          15,
          16,
          17,
          18,
          19,
          20,
          21,
          22,
          23,
          24,
          25,
          26,
          27,
          28,
          29,
          30,
          31,
          32,
          33,
          34,
          35,
          36,
          37,
          38,
          39,
          40,
          41,
          42,
          43,
          44,
          45,
          46,
          47,
          48,
          49,
          50,
          51,
          52,
          53,
          54,
          55,
          56,
          57,
          58,
          59,
          60,
          61,
          62,
          63,
          64,
          65,
          66,
          67,
          68,
          69,
          70,
          71,
          72,
          73,
          74,
          75,
          76,
          77,
          78,
          79,
          80,
          81,
          82,
          83,
          84,
          85,
          86,
          87,
          88,
          89,
          90,
          91,
          92,
          93,
          94,
          95,
          96,
          97,
          98,
          99
         ],
         "y": [
          0.6886848211288452,
          0.7100805640220642,
          0.7130045493443807,
          0.7079676985740662,
          0.7083792448043823,
          0.7079042196273804,
          0.7057454075132098,
          0.7052305862307549,
          0.7048666146066453,
          0.7036988854408264,
          0.7029987140135332,
          0.7025203357140223,
          0.701784243950477,
          0.7012988712106433,
          0.7009417374928792,
          0.7004455514252186,
          0.7000493898111231,
          0.6997101671165891,
          0.6993460686583268,
          0.6990705668926239,
          0.6988103361356826,
          0.6985367970033125,
          0.6983048812202786,
          0.6980791787306467,
          0.6978753733634949,
          0.6976979420735285,
          0.6975181522192778,
          0.6973521773304258,
          0.6971966685919926,
          0.6970516602198283,
          0.6969211774487649,
          0.6967935804277658,
          0.6966727177302042,
          0.69655881208532,
          0.6964522872652327,
          0.6963535166449017,
          0.6962578344989467,
          0.6961666643619537,
          0.69608013293682,
          0.6959989160299301,
          0.6959219662154593,
          0.6958476234050024,
          0.6957765554272851,
          0.695708921009844,
          0.6956449058320787,
          0.6955834005189978,
          0.6955240850752973,
          0.6954672435919443,
          0.6954130360058376,
          0.6953611254692078,
          0.695310957291547,
          0.6952626074735935,
          0.695216213757137,
          0.6951717061025126,
          0.6951287031173706,
          0.6950871082288879,
          0.6950470125466063,
          0.6950084217663469,
          0.694971114902173,
          0.6949349552392959,
          0.6948999830933867,
          0.6948662140677052,
          0.6948335236973233,
          0.6948017943650484,
          0.6947710303159861,
          0.6947412436658685,
          0.6947123586241879,
          0.694684286327923,
          0.6946570164915444,
          0.6946305547441755,
          0.6946048467931613,
          0.6945798289444711,
          0.6945554891677752,
          0.6945318257486498,
          0.6945087989171346,
          0.6944863639379802,
          0.6944645062669531,
          0.6944432212756231,
          0.6944224781627897,
          0.6944022424519062,
          0.6943825056523453,
          0.6943632575069986,
          0.6943444724542549,
          0.6943261289880389,
          0.6943082185352549,
          0.6942907287630924,
          0.694273639684436,
          0.6942569335753267,
          0.6942406055632602,
          0.6942246437072754,
          0.6942090300413278,
          0.6941937532113946,
          0.694178807479079,
          0.6941641797410681,
          0.694149859328019,
          0.6941358366360267,
          0.6941221036861852,
          0.6941086510006262,
          0.6940954688823584,
          0.694082550406456
         ]
        },
        {
         "marker": {
          "maxdisplayed": 10
         },
         "mode": "lines+markers",
         "name": "Trial5",
         "type": "scatter",
         "x": [
          0,
          1,
          2,
          3,
          4,
          5,
          6,
          7,
          8,
          9,
          10,
          11,
          12,
          13,
          14,
          15,
          16,
          17,
          18,
          19,
          20,
          21,
          22,
          23,
          24,
          25,
          26,
          27,
          28,
          29,
          30,
          31,
          32,
          33,
          34,
          35,
          36,
          37,
          38,
          39,
          40,
          41,
          42,
          43,
          44,
          45,
          46,
          47,
          48,
          49,
          50,
          51,
          52,
          53,
          54,
          55,
          56,
          57,
          58,
          59,
          60,
          61,
          62,
          63,
          64,
          65,
          66,
          67,
          68,
          69,
          70,
          71,
          72,
          73,
          74,
          75,
          76,
          77,
          78,
          79,
          80,
          81,
          82,
          83,
          84,
          85,
          86,
          87,
          88,
          89,
          90,
          91,
          92,
          93,
          94,
          95,
          96,
          97,
          98,
          99
         ],
         "y": [
          18.17645835876465,
          9.43773603439331,
          6.523443063100179,
          5.0673501789569855,
          4.192467510700226,
          3.609618971745173,
          3.1937195658683777,
          2.881459079682827,
          2.638279583719042,
          2.4438450038433075,
          2.2848601016131314,
          2.15225417415301,
          2.0399903930150547,
          1.9438378640583582,
          1.8605218648910522,
          1.78755833953619,
          1.7231631664668812,
          1.665942629178365,
          1.61473464338403,
          1.5686381340026856,
          1.5269470668974376,
          1.489048188382929,
          1.4544314431107563,
          1.422697238624096,
          1.3935039305686951,
          1.3665536298201635,
          1.3416018000355474,
          1.3184357242924827,
          1.2968645445231735,
          1.2767288406689963,
          1.2578924163695304,
          1.2402330245822668,
          1.2236447009173306,
          1.208033479311887,
          1.193313571384975,
          1.1794103450245328,
          1.1662584865415417,
          1.1537989032895941,
          1.1419788140517015,
          1.1307501375675202,
          1.1200687972510732,
          1.1098956721169608,
          1.1001956435137017,
          1.0909366824410178,
          1.0820895353953044,
          1.073627075423365,
          1.0655244817125036,
          1.0577593507866065,
          1.0503111931742455,
          1.0431611108779908,
          1.0362915209695405,
          1.0296860623818178,
          1.0233297539207171,
          1.0172088466308735,
          1.011310589313507,
          1.0056230532271522,
          1.0001350578508879,
          0.9948362389515186,
          0.9897170188063282,
          0.984768471121788,
          0.979982213895829,
          0.9753503472574295,
          0.9708654871062626,
          0.966520763002336,
          0.9623097401398879,
          0.9582263475114648,
          0.9542648454210652,
          0.9504198388141745,
          0.9466862713081249,
          0.9430593873773302,
          0.9395346817835956,
          0.9361078830228912,
          0.9327749593617165,
          0.9295321098856024,
          0.9263757435480754,
          0.9233024441882184,
          0.9203089692375876,
          0.917392243941625,
          0.9145493597923955,
          0.9117775514721871,
          0.9090741850711681,
          0.90643675225537,
          0.9038628684469017,
          0.9013502675862539,
          0.8988967902520124,
          0.8965003712232723,
          0.8941590388615926,
          0.8918709179217165,
          0.8896342160996427,
          0.8874472207493252,
          0.8853082905758868,
          0.8832158575887266,
          0.8811684225195198,
          0.8791645511667779,
          0.8772028659519396,
          0.8752820491790771,
          0.8734008362612773,
          0.8715580154438408,
          0.8697524239318539,
          0.8679829442501068
         ]
        },
        {
         "marker": {
          "maxdisplayed": 10
         },
         "mode": "lines+markers",
         "name": "Trial6",
         "type": "scatter",
         "x": [
          0
         ],
         "y": [
          0.7028340101242065
         ]
        },
        {
         "marker": {
          "maxdisplayed": 10
         },
         "mode": "lines+markers",
         "name": "Trial7",
         "type": "scatter",
         "x": [
          0,
          1,
          2,
          3,
          4,
          5,
          6,
          7,
          8,
          9,
          10,
          11,
          12,
          13,
          14,
          15,
          16,
          17,
          18,
          19,
          20,
          21,
          22,
          23,
          24,
          25,
          26,
          27,
          28,
          29,
          30,
          31,
          32,
          33,
          34,
          35,
          36,
          37,
          38,
          39,
          40,
          41,
          42,
          43,
          44,
          45,
          46,
          47,
          48,
          49,
          50,
          51,
          52,
          53,
          54,
          55,
          56,
          57,
          58,
          59,
          60,
          61,
          62,
          63,
          64,
          65,
          66,
          67,
          68,
          69,
          70,
          71,
          72,
          73,
          74,
          75,
          76,
          77,
          78,
          79,
          80,
          81,
          82,
          83,
          84,
          85,
          86,
          87,
          88,
          89,
          90,
          91,
          92,
          93,
          94,
          95,
          96,
          97,
          98,
          99
         ],
         "y": [
          3.9432997703552246,
          2.318161219358444,
          1.777401904265086,
          1.5068179070949554,
          1.3443084716796876,
          1.2357233266035716,
          1.1583029287202018,
          1.100454717874527,
          1.0555981463856168,
          1.019321823120117,
          0.9898268363692544,
          0.9656249235073725,
          0.9447076962544367,
          0.926718430859702,
          0.9111233115196228,
          0.8977849036455154,
          0.8858483258415671,
          0.8752306368615892,
          0.8656549987040068,
          0.8570231646299362,
          0.8492091468402317,
          0.8421011079441417,
          0.8356129708497421,
          0.8296635920802752,
          0.8241903972625733,
          0.8191383183002472,
          0.8144606086942885,
          0.8101166869912829,
          0.8060751331263575,
          0.802301534016927,
          0.7987723292842988,
          0.795461667701602,
          0.7923527269652395,
          0.7894264792694765,
          0.7866670097623553,
          0.7840602745612463,
          0.7815952317134754,
          0.7792591860419825,
          0.7770448877261236,
          0.7749395936727523,
          0.7729403652795931,
          0.7710334502515339,
          0.7692143334898838,
          0.7674785161560232,
          0.7658191084861755,
          0.7642337031986403,
          0.7627165216080686,
          0.7612626863022646,
          0.7598696594335594,
          0.7585286462306976,
          0.7572409148309746,
          0.7560025327480756,
          0.7548114331263416,
          0.7536635233296288,
          0.7525573004375804,
          0.7514901203768594,
          0.7504606257405197,
          0.7494663462556642,
          0.7485069571915319,
          0.7475790619850159,
          0.746682104517202,
          0.7458131957438684,
          0.744972584739564,
          0.744157861918211,
          0.7433676435397222,
          0.7426017161571619,
          0.7418582902025821,
          0.741137766662766,
          0.7404387981995292,
          0.739758780172893,
          0.7390973358087136,
          0.7384544801380899,
          0.7378290458901288,
          0.7372207142211296,
          0.7366284489631653,
          0.7360516504237526,
          0.7354903987475804,
          0.7349439454384339,
          0.7344105907633335,
          0.7338906489312649,
          0.7333850963616076,
          0.7328905165195465,
          0.732407759471112,
          0.7319362944080716,
          0.7314761729801402,
          0.7310268449228864,
          0.7305875317803745,
          0.730158044533296,
          0.7297382910599869,
          0.7293279323312971,
          0.728926773254688,
          0.7285340000753817,
          0.7281498973087598,
          0.7277737729092861,
          0.7274055932697497,
          0.7270454565684,
          0.7266931404772493,
          0.7263480935777936,
          0.7260095200153313,
          0.7256773793697358
         ]
        },
        {
         "marker": {
          "maxdisplayed": 10
         },
         "mode": "lines+markers",
         "name": "Trial8",
         "type": "scatter",
         "x": [
          0
         ],
         "y": [
          0.6657121181488037
         ]
        },
        {
         "marker": {
          "maxdisplayed": 10
         },
         "mode": "lines+markers",
         "name": "Trial9",
         "type": "scatter",
         "x": [
          0,
          1,
          2,
          3,
          4,
          5,
          6,
          7,
          8,
          9,
          10,
          11,
          12,
          13,
          14,
          15,
          16,
          17,
          18,
          19,
          20,
          21,
          22,
          23,
          24,
          25,
          26,
          27,
          28,
          29,
          30,
          31,
          32,
          33,
          34,
          35,
          36,
          37,
          38,
          39,
          40,
          41,
          42,
          43,
          44,
          45,
          46,
          47,
          48,
          49,
          50,
          51,
          52,
          53,
          54,
          55,
          56,
          57,
          58,
          59,
          60,
          61,
          62,
          63,
          64,
          65,
          66,
          67,
          68,
          69,
          70,
          71,
          72,
          73,
          74,
          75,
          76,
          77,
          78,
          79,
          80,
          81,
          82,
          83,
          84,
          85,
          86,
          87,
          88,
          89,
          90,
          91,
          92,
          93,
          94,
          95,
          96,
          97,
          98,
          99
         ],
         "y": [
          44.978816986083984,
          31.031895637512207,
          29.134400685628254,
          25.595523834228516,
          22.883534049987794,
          21.004706700642902,
          19.288487434387207,
          17.796290636062622,
          16.69154093000624,
          16.135694980621338,
          15.695043217052113,
          15.128784577051798,
          14.47813026721661,
          13.897506305149623,
          13.425366083780924,
          12.994340300559998,
          12.664760645698099,
          12.221569432152641,
          11.827286971242804,
          11.414597415924073,
          11.021358376457577,
          10.723048686981201,
          10.414639825406281,
          10.102876782417297,
          9.792054700851441,
          9.476380687493544,
          9.187915064670422,
          8.931766880410057,
          8.731420151118574,
          8.551794985930124,
          8.39318649615011,
          8.240059781819582,
          8.068091800718596,
          7.883438632768743,
          7.712000782149179,
          7.554820573992199,
          7.4075433531323,
          7.2581294775009155,
          7.118234869761345,
          6.989667069911957,
          6.864709697118619,
          6.743252047470638,
          6.625740400580472,
          6.538963854312897,
          6.455829069349501,
          6.377927660942078,
          6.3029367112098855,
          6.22733673453331,
          6.147960307646771,
          6.071521878242493,
          6.005859716265809,
          5.939141782430502,
          5.876575555441515,
          5.816370641743696,
          5.754353185133501,
          5.69486129283905,
          5.640025444198073,
          5.587084420796098,
          5.5312602964498225,
          5.479521346092224,
          5.428992685724477,
          5.378992180670461,
          5.330841753217909,
          5.287173628807068,
          5.245247151301458,
          5.210254553592566,
          5.179380004085711,
          5.143121985828175,
          5.106430637663689,
          5.077129193714687,
          5.051529212736748,
          5.026588363779916,
          5.004809918468946,
          4.984853332107131,
          4.961755297978719,
          4.936973283165379,
          4.914272525093772,
          4.892680333210872,
          4.870976876608933,
          4.848855593800545,
          4.827214126233701,
          4.807101156653427,
          4.78847823947309,
          4.771862918422336,
          4.757074998406803,
          4.742661326430564,
          4.728227974354536,
          4.713305887850848,
          4.696341889627864,
          4.678346859084235,
          4.660905059877333,
          4.646341287571451,
          4.635552519111223,
          4.629324694897266,
          4.627285194396973,
          4.627041533589363,
          4.624081916415815,
          4.619857067964515,
          4.616453252657496,
          4.61254693031311
         ]
        }
       ],
       "layout": {
        "showlegend": false,
        "template": {
         "data": {
          "bar": [
           {
            "error_x": {
             "color": "#2a3f5f"
            },
            "error_y": {
             "color": "#2a3f5f"
            },
            "marker": {
             "line": {
              "color": "#E5ECF6",
              "width": 0.5
             },
             "pattern": {
              "fillmode": "overlay",
              "size": 10,
              "solidity": 0.2
             }
            },
            "type": "bar"
           }
          ],
          "barpolar": [
           {
            "marker": {
             "line": {
              "color": "#E5ECF6",
              "width": 0.5
             },
             "pattern": {
              "fillmode": "overlay",
              "size": 10,
              "solidity": 0.2
             }
            },
            "type": "barpolar"
           }
          ],
          "carpet": [
           {
            "aaxis": {
             "endlinecolor": "#2a3f5f",
             "gridcolor": "white",
             "linecolor": "white",
             "minorgridcolor": "white",
             "startlinecolor": "#2a3f5f"
            },
            "baxis": {
             "endlinecolor": "#2a3f5f",
             "gridcolor": "white",
             "linecolor": "white",
             "minorgridcolor": "white",
             "startlinecolor": "#2a3f5f"
            },
            "type": "carpet"
           }
          ],
          "choropleth": [
           {
            "colorbar": {
             "outlinewidth": 0,
             "ticks": ""
            },
            "type": "choropleth"
           }
          ],
          "contour": [
           {
            "colorbar": {
             "outlinewidth": 0,
             "ticks": ""
            },
            "colorscale": [
             [
              0,
              "#0d0887"
             ],
             [
              0.1111111111111111,
              "#46039f"
             ],
             [
              0.2222222222222222,
              "#7201a8"
             ],
             [
              0.3333333333333333,
              "#9c179e"
             ],
             [
              0.4444444444444444,
              "#bd3786"
             ],
             [
              0.5555555555555556,
              "#d8576b"
             ],
             [
              0.6666666666666666,
              "#ed7953"
             ],
             [
              0.7777777777777778,
              "#fb9f3a"
             ],
             [
              0.8888888888888888,
              "#fdca26"
             ],
             [
              1,
              "#f0f921"
             ]
            ],
            "type": "contour"
           }
          ],
          "contourcarpet": [
           {
            "colorbar": {
             "outlinewidth": 0,
             "ticks": ""
            },
            "type": "contourcarpet"
           }
          ],
          "heatmap": [
           {
            "colorbar": {
             "outlinewidth": 0,
             "ticks": ""
            },
            "colorscale": [
             [
              0,
              "#0d0887"
             ],
             [
              0.1111111111111111,
              "#46039f"
             ],
             [
              0.2222222222222222,
              "#7201a8"
             ],
             [
              0.3333333333333333,
              "#9c179e"
             ],
             [
              0.4444444444444444,
              "#bd3786"
             ],
             [
              0.5555555555555556,
              "#d8576b"
             ],
             [
              0.6666666666666666,
              "#ed7953"
             ],
             [
              0.7777777777777778,
              "#fb9f3a"
             ],
             [
              0.8888888888888888,
              "#fdca26"
             ],
             [
              1,
              "#f0f921"
             ]
            ],
            "type": "heatmap"
           }
          ],
          "heatmapgl": [
           {
            "colorbar": {
             "outlinewidth": 0,
             "ticks": ""
            },
            "colorscale": [
             [
              0,
              "#0d0887"
             ],
             [
              0.1111111111111111,
              "#46039f"
             ],
             [
              0.2222222222222222,
              "#7201a8"
             ],
             [
              0.3333333333333333,
              "#9c179e"
             ],
             [
              0.4444444444444444,
              "#bd3786"
             ],
             [
              0.5555555555555556,
              "#d8576b"
             ],
             [
              0.6666666666666666,
              "#ed7953"
             ],
             [
              0.7777777777777778,
              "#fb9f3a"
             ],
             [
              0.8888888888888888,
              "#fdca26"
             ],
             [
              1,
              "#f0f921"
             ]
            ],
            "type": "heatmapgl"
           }
          ],
          "histogram": [
           {
            "marker": {
             "pattern": {
              "fillmode": "overlay",
              "size": 10,
              "solidity": 0.2
             }
            },
            "type": "histogram"
           }
          ],
          "histogram2d": [
           {
            "colorbar": {
             "outlinewidth": 0,
             "ticks": ""
            },
            "colorscale": [
             [
              0,
              "#0d0887"
             ],
             [
              0.1111111111111111,
              "#46039f"
             ],
             [
              0.2222222222222222,
              "#7201a8"
             ],
             [
              0.3333333333333333,
              "#9c179e"
             ],
             [
              0.4444444444444444,
              "#bd3786"
             ],
             [
              0.5555555555555556,
              "#d8576b"
             ],
             [
              0.6666666666666666,
              "#ed7953"
             ],
             [
              0.7777777777777778,
              "#fb9f3a"
             ],
             [
              0.8888888888888888,
              "#fdca26"
             ],
             [
              1,
              "#f0f921"
             ]
            ],
            "type": "histogram2d"
           }
          ],
          "histogram2dcontour": [
           {
            "colorbar": {
             "outlinewidth": 0,
             "ticks": ""
            },
            "colorscale": [
             [
              0,
              "#0d0887"
             ],
             [
              0.1111111111111111,
              "#46039f"
             ],
             [
              0.2222222222222222,
              "#7201a8"
             ],
             [
              0.3333333333333333,
              "#9c179e"
             ],
             [
              0.4444444444444444,
              "#bd3786"
             ],
             [
              0.5555555555555556,
              "#d8576b"
             ],
             [
              0.6666666666666666,
              "#ed7953"
             ],
             [
              0.7777777777777778,
              "#fb9f3a"
             ],
             [
              0.8888888888888888,
              "#fdca26"
             ],
             [
              1,
              "#f0f921"
             ]
            ],
            "type": "histogram2dcontour"
           }
          ],
          "mesh3d": [
           {
            "colorbar": {
             "outlinewidth": 0,
             "ticks": ""
            },
            "type": "mesh3d"
           }
          ],
          "parcoords": [
           {
            "line": {
             "colorbar": {
              "outlinewidth": 0,
              "ticks": ""
             }
            },
            "type": "parcoords"
           }
          ],
          "pie": [
           {
            "automargin": true,
            "type": "pie"
           }
          ],
          "scatter": [
           {
            "fillpattern": {
             "fillmode": "overlay",
             "size": 10,
             "solidity": 0.2
            },
            "type": "scatter"
           }
          ],
          "scatter3d": [
           {
            "line": {
             "colorbar": {
              "outlinewidth": 0,
              "ticks": ""
             }
            },
            "marker": {
             "colorbar": {
              "outlinewidth": 0,
              "ticks": ""
             }
            },
            "type": "scatter3d"
           }
          ],
          "scattercarpet": [
           {
            "marker": {
             "colorbar": {
              "outlinewidth": 0,
              "ticks": ""
             }
            },
            "type": "scattercarpet"
           }
          ],
          "scattergeo": [
           {
            "marker": {
             "colorbar": {
              "outlinewidth": 0,
              "ticks": ""
             }
            },
            "type": "scattergeo"
           }
          ],
          "scattergl": [
           {
            "marker": {
             "colorbar": {
              "outlinewidth": 0,
              "ticks": ""
             }
            },
            "type": "scattergl"
           }
          ],
          "scattermapbox": [
           {
            "marker": {
             "colorbar": {
              "outlinewidth": 0,
              "ticks": ""
             }
            },
            "type": "scattermapbox"
           }
          ],
          "scatterpolar": [
           {
            "marker": {
             "colorbar": {
              "outlinewidth": 0,
              "ticks": ""
             }
            },
            "type": "scatterpolar"
           }
          ],
          "scatterpolargl": [
           {
            "marker": {
             "colorbar": {
              "outlinewidth": 0,
              "ticks": ""
             }
            },
            "type": "scatterpolargl"
           }
          ],
          "scatterternary": [
           {
            "marker": {
             "colorbar": {
              "outlinewidth": 0,
              "ticks": ""
             }
            },
            "type": "scatterternary"
           }
          ],
          "surface": [
           {
            "colorbar": {
             "outlinewidth": 0,
             "ticks": ""
            },
            "colorscale": [
             [
              0,
              "#0d0887"
             ],
             [
              0.1111111111111111,
              "#46039f"
             ],
             [
              0.2222222222222222,
              "#7201a8"
             ],
             [
              0.3333333333333333,
              "#9c179e"
             ],
             [
              0.4444444444444444,
              "#bd3786"
             ],
             [
              0.5555555555555556,
              "#d8576b"
             ],
             [
              0.6666666666666666,
              "#ed7953"
             ],
             [
              0.7777777777777778,
              "#fb9f3a"
             ],
             [
              0.8888888888888888,
              "#fdca26"
             ],
             [
              1,
              "#f0f921"
             ]
            ],
            "type": "surface"
           }
          ],
          "table": [
           {
            "cells": {
             "fill": {
              "color": "#EBF0F8"
             },
             "line": {
              "color": "white"
             }
            },
            "header": {
             "fill": {
              "color": "#C8D4E3"
             },
             "line": {
              "color": "white"
             }
            },
            "type": "table"
           }
          ]
         },
         "layout": {
          "annotationdefaults": {
           "arrowcolor": "#2a3f5f",
           "arrowhead": 0,
           "arrowwidth": 1
          },
          "autotypenumbers": "strict",
          "coloraxis": {
           "colorbar": {
            "outlinewidth": 0,
            "ticks": ""
           }
          },
          "colorscale": {
           "diverging": [
            [
             0,
             "#8e0152"
            ],
            [
             0.1,
             "#c51b7d"
            ],
            [
             0.2,
             "#de77ae"
            ],
            [
             0.3,
             "#f1b6da"
            ],
            [
             0.4,
             "#fde0ef"
            ],
            [
             0.5,
             "#f7f7f7"
            ],
            [
             0.6,
             "#e6f5d0"
            ],
            [
             0.7,
             "#b8e186"
            ],
            [
             0.8,
             "#7fbc41"
            ],
            [
             0.9,
             "#4d9221"
            ],
            [
             1,
             "#276419"
            ]
           ],
           "sequential": [
            [
             0,
             "#0d0887"
            ],
            [
             0.1111111111111111,
             "#46039f"
            ],
            [
             0.2222222222222222,
             "#7201a8"
            ],
            [
             0.3333333333333333,
             "#9c179e"
            ],
            [
             0.4444444444444444,
             "#bd3786"
            ],
            [
             0.5555555555555556,
             "#d8576b"
            ],
            [
             0.6666666666666666,
             "#ed7953"
            ],
            [
             0.7777777777777778,
             "#fb9f3a"
            ],
            [
             0.8888888888888888,
             "#fdca26"
            ],
            [
             1,
             "#f0f921"
            ]
           ],
           "sequentialminus": [
            [
             0,
             "#0d0887"
            ],
            [
             0.1111111111111111,
             "#46039f"
            ],
            [
             0.2222222222222222,
             "#7201a8"
            ],
            [
             0.3333333333333333,
             "#9c179e"
            ],
            [
             0.4444444444444444,
             "#bd3786"
            ],
            [
             0.5555555555555556,
             "#d8576b"
            ],
            [
             0.6666666666666666,
             "#ed7953"
            ],
            [
             0.7777777777777778,
             "#fb9f3a"
            ],
            [
             0.8888888888888888,
             "#fdca26"
            ],
            [
             1,
             "#f0f921"
            ]
           ]
          },
          "colorway": [
           "#636efa",
           "#EF553B",
           "#00cc96",
           "#ab63fa",
           "#FFA15A",
           "#19d3f3",
           "#FF6692",
           "#B6E880",
           "#FF97FF",
           "#FECB52"
          ],
          "font": {
           "color": "#2a3f5f"
          },
          "geo": {
           "bgcolor": "white",
           "lakecolor": "white",
           "landcolor": "#E5ECF6",
           "showlakes": true,
           "showland": true,
           "subunitcolor": "white"
          },
          "hoverlabel": {
           "align": "left"
          },
          "hovermode": "closest",
          "mapbox": {
           "style": "light"
          },
          "paper_bgcolor": "white",
          "plot_bgcolor": "#E5ECF6",
          "polar": {
           "angularaxis": {
            "gridcolor": "white",
            "linecolor": "white",
            "ticks": ""
           },
           "bgcolor": "#E5ECF6",
           "radialaxis": {
            "gridcolor": "white",
            "linecolor": "white",
            "ticks": ""
           }
          },
          "scene": {
           "xaxis": {
            "backgroundcolor": "#E5ECF6",
            "gridcolor": "white",
            "gridwidth": 2,
            "linecolor": "white",
            "showbackground": true,
            "ticks": "",
            "zerolinecolor": "white"
           },
           "yaxis": {
            "backgroundcolor": "#E5ECF6",
            "gridcolor": "white",
            "gridwidth": 2,
            "linecolor": "white",
            "showbackground": true,
            "ticks": "",
            "zerolinecolor": "white"
           },
           "zaxis": {
            "backgroundcolor": "#E5ECF6",
            "gridcolor": "white",
            "gridwidth": 2,
            "linecolor": "white",
            "showbackground": true,
            "ticks": "",
            "zerolinecolor": "white"
           }
          },
          "shapedefaults": {
           "line": {
            "color": "#2a3f5f"
           }
          },
          "ternary": {
           "aaxis": {
            "gridcolor": "white",
            "linecolor": "white",
            "ticks": ""
           },
           "baxis": {
            "gridcolor": "white",
            "linecolor": "white",
            "ticks": ""
           },
           "bgcolor": "#E5ECF6",
           "caxis": {
            "gridcolor": "white",
            "linecolor": "white",
            "ticks": ""
           }
          },
          "title": {
           "x": 0.05
          },
          "xaxis": {
           "automargin": true,
           "gridcolor": "white",
           "linecolor": "white",
           "ticks": "",
           "title": {
            "standoff": 15
           },
           "zerolinecolor": "white",
           "zerolinewidth": 2
          },
          "yaxis": {
           "automargin": true,
           "gridcolor": "white",
           "linecolor": "white",
           "ticks": "",
           "title": {
            "standoff": 15
           },
           "zerolinecolor": "white",
           "zerolinewidth": 2
          }
         }
        },
        "title": {
         "text": "Intermediate Values Plot"
        },
        "xaxis": {
         "title": {
          "text": "Step"
         }
        },
        "yaxis": {
         "title": {
          "text": "Intermediate Value"
         }
        }
       }
      }
     },
     "metadata": {},
     "output_type": "display_data"
    }
   ],
   "source": [
    "optuna.visualization.plot_intermediate_values(study)"
   ]
  },
  {
   "cell_type": "code",
   "execution_count": 11,
   "id": "36975487",
   "metadata": {
    "lines_to_next_cell": 2
   },
   "outputs": [],
   "source": [
    "# call function for best trial parameter extraction\n",
    "param_dict = extract_best_trial_params(study.best_params)"
   ]
  },
  {
   "cell_type": "code",
   "execution_count": 12,
   "id": "343e3219",
   "metadata": {
    "lines_to_next_cell": 2
   },
   "outputs": [
    {
     "name": "stdout",
     "output_type": "stream",
     "text": [
      "Adam\n",
      "Adam (\n",
      "Parameter Group 0\n",
      "    amsgrad: False\n",
      "    betas: (0.9, 0.999)\n",
      "    capturable: False\n",
      "    differentiable: False\n",
      "    eps: 1e-08\n",
      "    foreach: None\n",
      "    fused: False\n",
      "    lr: 0.6409185930310639\n",
      "    maximize: False\n",
      "    weight_decay: 0\n",
      ")\n",
      "Epoch 0: Validation loss decreased (inf --> 23.155434).  Saving model ...\n",
      "\t Train_Loss: 22.1465 Train_Acc: 49.667 Val_Loss: 23.1554  BEST VAL Loss: 23.1554  Val_Acc: 53.333\n",
      "\n",
      "Epoch 1: Validation loss decreased (23.155434 --> 17.794433).  Saving model ...\n",
      "\t Train_Loss: 22.3361 Train_Acc: 61.417 Val_Loss: 17.7944  BEST VAL Loss: 17.7944  Val_Acc: 58.000\n",
      "\n",
      "Epoch 2: Validation loss decreased (17.794433 --> 15.721433).  Saving model ...\n",
      "\t Train_Loss: 17.6685 Train_Acc: 66.333 Val_Loss: 15.7214  BEST VAL Loss: 15.7214  Val_Acc: 52.000\n",
      "\n",
      "Epoch 3: Validation loss decreased (15.721433 --> 13.887897).  Saving model ...\n",
      "\t Train_Loss: 15.4451 Train_Acc: 60.167 Val_Loss: 13.8879  BEST VAL Loss: 13.8879  Val_Acc: 51.333\n",
      "\n",
      "Epoch 4: Validation loss decreased (13.887897 --> 12.420293).  Saving model ...\n",
      "\t Train_Loss: 13.4223 Train_Acc: 61.417 Val_Loss: 12.4203  BEST VAL Loss: 12.4203  Val_Acc: 62.667\n",
      "\n",
      "Epoch 5: Validation loss decreased (12.420293 --> 11.254400).  Saving model ...\n",
      "\t Train_Loss: 11.8779 Train_Acc: 66.750 Val_Loss: 11.2544  BEST VAL Loss: 11.2544  Val_Acc: 63.333\n",
      "\n",
      "Epoch 6: Validation loss decreased (11.254400 --> 10.786999).  Saving model ...\n",
      "\t Train_Loss: 10.6618 Train_Acc: 65.167 Val_Loss: 10.7870  BEST VAL Loss: 10.7870  Val_Acc: 62.667\n",
      "\n",
      "Epoch 7: Validation loss decreased (10.786999 --> 10.440735).  Saving model ...\n",
      "\t Train_Loss: 9.8774 Train_Acc: 67.417 Val_Loss: 10.4407  BEST VAL Loss: 10.4407  Val_Acc: 60.000\n",
      "\n",
      "Epoch 8: Validation loss decreased (10.440735 --> 10.280540).  Saving model ...\n",
      "\t Train_Loss: 9.1006 Train_Acc: 66.000 Val_Loss: 10.2805  BEST VAL Loss: 10.2805  Val_Acc: 62.667\n",
      "\n",
      "Epoch 9: Validation loss decreased (10.280540 --> 10.102479).  Saving model ...\n",
      "\t Train_Loss: 8.4635 Train_Acc: 71.250 Val_Loss: 10.1025  BEST VAL Loss: 10.1025  Val_Acc: 63.333\n",
      "\n",
      "Epoch 10: Validation loss decreased (10.102479 --> 9.570468).  Saving model ...\n",
      "\t Train_Loss: 7.9410 Train_Acc: 70.000 Val_Loss: 9.5705  BEST VAL Loss: 9.5705  Val_Acc: 58.667\n",
      "\n",
      "Epoch 11: Validation loss decreased (9.570468 --> 9.022892).  Saving model ...\n",
      "\t Train_Loss: 7.4425 Train_Acc: 67.667 Val_Loss: 9.0229  BEST VAL Loss: 9.0229  Val_Acc: 62.000\n",
      "\n",
      "Epoch 12: Validation loss decreased (9.022892 --> 8.628903).  Saving model ...\n",
      "\t Train_Loss: 6.9707 Train_Acc: 66.750 Val_Loss: 8.6289  BEST VAL Loss: 8.6289  Val_Acc: 62.667\n",
      "\n",
      "Epoch 13: Validation loss decreased (8.628903 --> 8.297885).  Saving model ...\n",
      "\t Train_Loss: 6.5676 Train_Acc: 70.250 Val_Loss: 8.2979  BEST VAL Loss: 8.2979  Val_Acc: 64.000\n",
      "\n",
      "Epoch 14: Validation loss decreased (8.297885 --> 7.952968).  Saving model ...\n",
      "\t Train_Loss: 6.2101 Train_Acc: 67.250 Val_Loss: 7.9530  BEST VAL Loss: 7.9530  Val_Acc: 67.333\n",
      "\n",
      "Epoch 15: Validation loss decreased (7.952968 --> 7.598757).  Saving model ...\n",
      "\t Train_Loss: 5.9072 Train_Acc: 66.167 Val_Loss: 7.5988  BEST VAL Loss: 7.5988  Val_Acc: 64.667\n",
      "\n",
      "Epoch 16: Validation loss decreased (7.598757 --> 7.335761).  Saving model ...\n",
      "\t Train_Loss: 5.6123 Train_Acc: 69.333 Val_Loss: 7.3358  BEST VAL Loss: 7.3358  Val_Acc: 62.000\n",
      "\n",
      "Epoch 17: Validation loss decreased (7.335761 --> 7.144772).  Saving model ...\n",
      "\t Train_Loss: 5.3600 Train_Acc: 69.583 Val_Loss: 7.1448  BEST VAL Loss: 7.1448  Val_Acc: 60.000\n",
      "\n",
      "Epoch 18: Validation loss decreased (7.144772 --> 7.044560).  Saving model ...\n",
      "\t Train_Loss: 5.1290 Train_Acc: 71.250 Val_Loss: 7.0446  BEST VAL Loss: 7.0446  Val_Acc: 62.000\n",
      "\n",
      "Epoch 19: Validation loss decreased (7.044560 --> 6.903625).  Saving model ...\n",
      "\t Train_Loss: 4.9322 Train_Acc: 72.917 Val_Loss: 6.9036  BEST VAL Loss: 6.9036  Val_Acc: 62.667\n",
      "\n",
      "Epoch 20: Validation loss decreased (6.903625 --> 6.736139).  Saving model ...\n",
      "\t Train_Loss: 4.7399 Train_Acc: 72.583 Val_Loss: 6.7361  BEST VAL Loss: 6.7361  Val_Acc: 64.667\n",
      "\n",
      "Epoch 21: Validation loss decreased (6.736139 --> 6.675091).  Saving model ...\n",
      "\t Train_Loss: 4.5644 Train_Acc: 71.333 Val_Loss: 6.6751  BEST VAL Loss: 6.6751  Val_Acc: 60.000\n",
      "\n",
      "Epoch 22: Validation loss decreased (6.675091 --> 6.554763).  Saving model ...\n",
      "\t Train_Loss: 4.4482 Train_Acc: 67.917 Val_Loss: 6.5548  BEST VAL Loss: 6.5548  Val_Acc: 61.333\n",
      "\n",
      "Epoch 23: Validation loss decreased (6.554763 --> 6.548285).  Saving model ...\n",
      "\t Train_Loss: 4.3080 Train_Acc: 68.417 Val_Loss: 6.5483  BEST VAL Loss: 6.5483  Val_Acc: 59.333\n",
      "\n",
      "Epoch 24: Validation loss decreased (6.548285 --> 6.537351).  Saving model ...\n",
      "\t Train_Loss: 4.2067 Train_Acc: 71.583 Val_Loss: 6.5374  BEST VAL Loss: 6.5374  Val_Acc: 63.333\n",
      "\n",
      "Epoch 25: Validation loss did not decrease\n",
      "\t Train_Loss: 4.0933 Train_Acc: 73.000 Val_Loss: 6.5404  BEST VAL Loss: 6.5374  Val_Acc: 60.000\n",
      "\n",
      "Epoch 26: Validation loss decreased (6.537351 --> 6.513642).  Saving model ...\n",
      "\t Train_Loss: 3.9949 Train_Acc: 71.083 Val_Loss: 6.5136  BEST VAL Loss: 6.5136  Val_Acc: 63.333\n",
      "\n",
      "Epoch 27: Validation loss decreased (6.513642 --> 6.502201).  Saving model ...\n",
      "\t Train_Loss: 3.8829 Train_Acc: 75.417 Val_Loss: 6.5022  BEST VAL Loss: 6.5022  Val_Acc: 62.667\n",
      "\n",
      "Epoch 28: Validation loss decreased (6.502201 --> 6.470154).  Saving model ...\n",
      "\t Train_Loss: 3.7841 Train_Acc: 75.250 Val_Loss: 6.4702  BEST VAL Loss: 6.4702  Val_Acc: 62.667\n",
      "\n",
      "Epoch 29: Validation loss decreased (6.470154 --> 6.401607).  Saving model ...\n",
      "\t Train_Loss: 3.6879 Train_Acc: 76.750 Val_Loss: 6.4016  BEST VAL Loss: 6.4016  Val_Acc: 66.000\n",
      "\n",
      "Epoch 30: Validation loss decreased (6.401607 --> 6.331285).  Saving model ...\n",
      "\t Train_Loss: 3.5964 Train_Acc: 73.417 Val_Loss: 6.3313  BEST VAL Loss: 6.3313  Val_Acc: 64.000\n",
      "\n",
      "Epoch 31: Validation loss decreased (6.331285 --> 6.277814).  Saving model ...\n",
      "\t Train_Loss: 3.5063 Train_Acc: 75.167 Val_Loss: 6.2778  BEST VAL Loss: 6.2778  Val_Acc: 62.000\n",
      "\n",
      "Epoch 32: Validation loss decreased (6.277814 --> 6.225256).  Saving model ...\n",
      "\t Train_Loss: 3.4206 Train_Acc: 76.417 Val_Loss: 6.2253  BEST VAL Loss: 6.2253  Val_Acc: 62.667\n",
      "\n",
      "Epoch 33: Validation loss decreased (6.225256 --> 6.166894).  Saving model ...\n",
      "\t Train_Loss: 3.3379 Train_Acc: 76.667 Val_Loss: 6.1669  BEST VAL Loss: 6.1669  Val_Acc: 64.000\n",
      "\n",
      "Epoch 34: Validation loss decreased (6.166894 --> 6.103022).  Saving model ...\n",
      "\t Train_Loss: 3.2584 Train_Acc: 76.083 Val_Loss: 6.1030  BEST VAL Loss: 6.1030  Val_Acc: 65.333\n",
      "\n",
      "Epoch 35: Validation loss decreased (6.103022 --> 6.026033).  Saving model ...\n",
      "\t Train_Loss: 3.1827 Train_Acc: 76.167 Val_Loss: 6.0260  BEST VAL Loss: 6.0260  Val_Acc: 64.667\n",
      "\n",
      "Epoch 36: Validation loss decreased (6.026033 --> 5.938300).  Saving model ...\n",
      "\t Train_Loss: 3.1087 Train_Acc: 78.833 Val_Loss: 5.9383  BEST VAL Loss: 5.9383  Val_Acc: 62.667\n",
      "\n",
      "Epoch 37: Validation loss decreased (5.938300 --> 5.846420).  Saving model ...\n",
      "\t Train_Loss: 3.0380 Train_Acc: 78.750 Val_Loss: 5.8464  BEST VAL Loss: 5.8464  Val_Acc: 62.667\n",
      "\n",
      "Epoch 38: Validation loss decreased (5.846420 --> 5.756187).  Saving model ...\n",
      "\t Train_Loss: 2.9722 Train_Acc: 75.500 Val_Loss: 5.7562  BEST VAL Loss: 5.7562  Val_Acc: 63.333\n",
      "\n",
      "Epoch 39: Validation loss decreased (5.756187 --> 5.671698).  Saving model ...\n",
      "\t Train_Loss: 2.9071 Train_Acc: 79.000 Val_Loss: 5.6717  BEST VAL Loss: 5.6717  Val_Acc: 64.000\n",
      "\n",
      "Epoch 40: Validation loss decreased (5.671698 --> 5.591913).  Saving model ...\n",
      "\t Train_Loss: 2.8452 Train_Acc: 79.250 Val_Loss: 5.5919  BEST VAL Loss: 5.5919  Val_Acc: 64.667\n",
      "\n",
      "Epoch 41: Validation loss decreased (5.591913 --> 5.511583).  Saving model ...\n",
      "\t Train_Loss: 2.7866 Train_Acc: 77.583 Val_Loss: 5.5116  BEST VAL Loss: 5.5116  Val_Acc: 64.000\n",
      "\n",
      "Epoch 42: Validation loss decreased (5.511583 --> 5.431337).  Saving model ...\n",
      "\t Train_Loss: 2.7297 Train_Acc: 79.833 Val_Loss: 5.4313  BEST VAL Loss: 5.4313  Val_Acc: 63.333\n",
      "\n",
      "Epoch 43: Validation loss decreased (5.431337 --> 5.354506).  Saving model ...\n",
      "\t Train_Loss: 2.6764 Train_Acc: 79.000 Val_Loss: 5.3545  BEST VAL Loss: 5.3545  Val_Acc: 64.667\n",
      "\n",
      "Epoch 44: Validation loss decreased (5.354506 --> 5.286011).  Saving model ...\n",
      "\t Train_Loss: 2.6248 Train_Acc: 80.750 Val_Loss: 5.2860  BEST VAL Loss: 5.2860  Val_Acc: 66.000\n",
      "\n",
      "Epoch 45: Validation loss decreased (5.286011 --> 5.222265).  Saving model ...\n",
      "\t Train_Loss: 2.5752 Train_Acc: 79.417 Val_Loss: 5.2223  BEST VAL Loss: 5.2223  Val_Acc: 62.000\n",
      "\n",
      "Epoch 46: Validation loss decreased (5.222265 --> 5.166880).  Saving model ...\n",
      "\t Train_Loss: 2.5282 Train_Acc: 78.917 Val_Loss: 5.1669  BEST VAL Loss: 5.1669  Val_Acc: 62.667\n",
      "\n",
      "Epoch 47: Validation loss decreased (5.166880 --> 5.121241).  Saving model ...\n",
      "\t Train_Loss: 2.4826 Train_Acc: 79.833 Val_Loss: 5.1212  BEST VAL Loss: 5.1212  Val_Acc: 66.000\n",
      "\n",
      "Epoch 48: Validation loss decreased (5.121241 --> 5.088612).  Saving model ...\n",
      "\t Train_Loss: 2.4384 Train_Acc: 81.000 Val_Loss: 5.0886  BEST VAL Loss: 5.0886  Val_Acc: 66.000\n",
      "\n",
      "Epoch 49: Validation loss decreased (5.088612 --> 5.055950).  Saving model ...\n",
      "\t Train_Loss: 2.3974 Train_Acc: 79.167 Val_Loss: 5.0560  BEST VAL Loss: 5.0560  Val_Acc: 64.000\n",
      "\n",
      "Epoch 50: Validation loss decreased (5.055950 --> 5.027119).  Saving model ...\n",
      "\t Train_Loss: 2.3563 Train_Acc: 81.583 Val_Loss: 5.0271  BEST VAL Loss: 5.0271  Val_Acc: 63.333\n",
      "\n",
      "Epoch 51: Validation loss decreased (5.027119 --> 5.000393).  Saving model ...\n",
      "\t Train_Loss: 2.3177 Train_Acc: 80.667 Val_Loss: 5.0004  BEST VAL Loss: 5.0004  Val_Acc: 63.333\n",
      "\n",
      "Epoch 52: Validation loss decreased (5.000393 --> 4.976080).  Saving model ...\n",
      "\t Train_Loss: 2.2803 Train_Acc: 81.000 Val_Loss: 4.9761  BEST VAL Loss: 4.9761  Val_Acc: 63.333\n",
      "\n",
      "Epoch 53: Validation loss decreased (4.976080 --> 4.955032).  Saving model ...\n",
      "\t Train_Loss: 2.2439 Train_Acc: 81.917 Val_Loss: 4.9550  BEST VAL Loss: 4.9550  Val_Acc: 64.667\n",
      "\n",
      "Epoch 54: Validation loss decreased (4.955032 --> 4.932521).  Saving model ...\n",
      "\t Train_Loss: 2.2088 Train_Acc: 81.583 Val_Loss: 4.9325  BEST VAL Loss: 4.9325  Val_Acc: 64.667\n",
      "\n",
      "Epoch 55: Validation loss decreased (4.932521 --> 4.909358).  Saving model ...\n",
      "\t Train_Loss: 2.1748 Train_Acc: 82.500 Val_Loss: 4.9094  BEST VAL Loss: 4.9094  Val_Acc: 63.333\n",
      "\n",
      "Epoch 56: Validation loss decreased (4.909358 --> 4.887971).  Saving model ...\n",
      "\t Train_Loss: 2.1420 Train_Acc: 82.833 Val_Loss: 4.8880  BEST VAL Loss: 4.8880  Val_Acc: 64.667\n",
      "\n",
      "Epoch 57: Validation loss decreased (4.887971 --> 4.868092).  Saving model ...\n",
      "\t Train_Loss: 2.1101 Train_Acc: 82.750 Val_Loss: 4.8681  BEST VAL Loss: 4.8681  Val_Acc: 62.667\n",
      "\n",
      "Epoch 58: Validation loss decreased (4.868092 --> 4.850312).  Saving model ...\n",
      "\t Train_Loss: 2.0792 Train_Acc: 83.167 Val_Loss: 4.8503  BEST VAL Loss: 4.8503  Val_Acc: 62.667\n",
      "\n",
      "Epoch 59: Validation loss decreased (4.850312 --> 4.834326).  Saving model ...\n",
      "\t Train_Loss: 2.0495 Train_Acc: 82.500 Val_Loss: 4.8343  BEST VAL Loss: 4.8343  Val_Acc: 62.667\n",
      "\n",
      "Epoch 60: Validation loss decreased (4.834326 --> 4.818774).  Saving model ...\n",
      "\t Train_Loss: 2.0208 Train_Acc: 82.750 Val_Loss: 4.8188  BEST VAL Loss: 4.8188  Val_Acc: 62.000\n",
      "\n",
      "Epoch 61: Validation loss decreased (4.818774 --> 4.802681).  Saving model ...\n",
      "\t Train_Loss: 1.9932 Train_Acc: 83.167 Val_Loss: 4.8027  BEST VAL Loss: 4.8027  Val_Acc: 64.000\n",
      "\n",
      "Epoch 62: Validation loss decreased (4.802681 --> 4.786640).  Saving model ...\n",
      "\t Train_Loss: 1.9664 Train_Acc: 82.250 Val_Loss: 4.7866  BEST VAL Loss: 4.7866  Val_Acc: 64.000\n",
      "\n",
      "Epoch 63: Validation loss decreased (4.786640 --> 4.771955).  Saving model ...\n",
      "\t Train_Loss: 1.9404 Train_Acc: 82.583 Val_Loss: 4.7720  BEST VAL Loss: 4.7720  Val_Acc: 65.333\n",
      "\n",
      "Epoch 64: Validation loss decreased (4.771955 --> 4.752494).  Saving model ...\n",
      "\t Train_Loss: 1.9171 Train_Acc: 83.500 Val_Loss: 4.7525  BEST VAL Loss: 4.7525  Val_Acc: 64.000\n",
      "\n",
      "Epoch 65: Validation loss decreased (4.752494 --> 4.730468).  Saving model ...\n",
      "\t Train_Loss: 1.8922 Train_Acc: 83.500 Val_Loss: 4.7305  BEST VAL Loss: 4.7305  Val_Acc: 64.000\n",
      "\n",
      "Epoch 66: Validation loss decreased (4.730468 --> 4.706821).  Saving model ...\n",
      "\t Train_Loss: 1.8682 Train_Acc: 83.250 Val_Loss: 4.7068  BEST VAL Loss: 4.7068  Val_Acc: 64.000\n",
      "\n",
      "Epoch 67: Validation loss decreased (4.706821 --> 4.683292).  Saving model ...\n",
      "\t Train_Loss: 1.8454 Train_Acc: 82.167 Val_Loss: 4.6833  BEST VAL Loss: 4.6833  Val_Acc: 64.000\n",
      "\n",
      "Epoch 68: Validation loss decreased (4.683292 --> 4.660567).  Saving model ...\n",
      "\t Train_Loss: 1.8230 Train_Acc: 82.083 Val_Loss: 4.6606  BEST VAL Loss: 4.6606  Val_Acc: 64.667\n",
      "\n",
      "Epoch 69: Validation loss decreased (4.660567 --> 4.636967).  Saving model ...\n",
      "\t Train_Loss: 1.8010 Train_Acc: 82.750 Val_Loss: 4.6370  BEST VAL Loss: 4.6370  Val_Acc: 62.667\n",
      "\n",
      "Epoch 70: Validation loss decreased (4.636967 --> 4.614486).  Saving model ...\n",
      "\t Train_Loss: 1.7795 Train_Acc: 83.750 Val_Loss: 4.6145  BEST VAL Loss: 4.6145  Val_Acc: 64.000\n",
      "\n",
      "Epoch 71: Validation loss decreased (4.614486 --> 4.592147).  Saving model ...\n",
      "\t Train_Loss: 1.7588 Train_Acc: 83.833 Val_Loss: 4.5921  BEST VAL Loss: 4.5921  Val_Acc: 64.000\n",
      "\n",
      "Epoch 72: Validation loss decreased (4.592147 --> 4.570437).  Saving model ...\n",
      "\t Train_Loss: 1.7385 Train_Acc: 83.000 Val_Loss: 4.5704  BEST VAL Loss: 4.5704  Val_Acc: 63.333\n",
      "\n",
      "Epoch 73: Validation loss decreased (4.570437 --> 4.550293).  Saving model ...\n",
      "\t Train_Loss: 1.7186 Train_Acc: 83.833 Val_Loss: 4.5503  BEST VAL Loss: 4.5503  Val_Acc: 64.000\n",
      "\n",
      "Epoch 74: Validation loss decreased (4.550293 --> 4.531054).  Saving model ...\n",
      "\t Train_Loss: 1.6995 Train_Acc: 83.500 Val_Loss: 4.5311  BEST VAL Loss: 4.5311  Val_Acc: 64.000\n",
      "\n",
      "Epoch 75: Validation loss decreased (4.531054 --> 4.513211).  Saving model ...\n",
      "\t Train_Loss: 1.6807 Train_Acc: 83.500 Val_Loss: 4.5132  BEST VAL Loss: 4.5132  Val_Acc: 64.000\n",
      "\n",
      "Epoch 76: Validation loss decreased (4.513211 --> 4.496841).  Saving model ...\n",
      "\t Train_Loss: 1.6623 Train_Acc: 84.583 Val_Loss: 4.4968  BEST VAL Loss: 4.4968  Val_Acc: 62.667\n",
      "\n",
      "Epoch 77: Validation loss decreased (4.496841 --> 4.480513).  Saving model ...\n",
      "\t Train_Loss: 1.6445 Train_Acc: 84.167 Val_Loss: 4.4805  BEST VAL Loss: 4.4805  Val_Acc: 63.333\n",
      "\n",
      "Epoch 78: Validation loss decreased (4.480513 --> 4.466198).  Saving model ...\n",
      "\t Train_Loss: 1.6272 Train_Acc: 84.083 Val_Loss: 4.4662  BEST VAL Loss: 4.4662  Val_Acc: 62.000\n",
      "\n",
      "Epoch 79: Validation loss decreased (4.466198 --> 4.454025).  Saving model ...\n",
      "\t Train_Loss: 1.6101 Train_Acc: 83.833 Val_Loss: 4.4540  BEST VAL Loss: 4.4540  Val_Acc: 62.667\n",
      "\n",
      "Epoch 80: Validation loss decreased (4.454025 --> 4.444339).  Saving model ...\n",
      "\t Train_Loss: 1.5935 Train_Acc: 83.917 Val_Loss: 4.4443  BEST VAL Loss: 4.4443  Val_Acc: 62.667\n",
      "\n",
      "Epoch 81: Validation loss decreased (4.444339 --> 4.437060).  Saving model ...\n",
      "\t Train_Loss: 1.5772 Train_Acc: 84.500 Val_Loss: 4.4371  BEST VAL Loss: 4.4371  Val_Acc: 62.667\n",
      "\n",
      "Epoch 82: Validation loss decreased (4.437060 --> 4.431090).  Saving model ...\n",
      "\t Train_Loss: 1.5613 Train_Acc: 84.083 Val_Loss: 4.4311  BEST VAL Loss: 4.4311  Val_Acc: 62.667\n",
      "\n",
      "Epoch 83: Validation loss decreased (4.431090 --> 4.427042).  Saving model ...\n",
      "\t Train_Loss: 1.5458 Train_Acc: 84.333 Val_Loss: 4.4270  BEST VAL Loss: 4.4270  Val_Acc: 62.667\n",
      "\n",
      "Epoch 84: Validation loss decreased (4.427042 --> 4.423882).  Saving model ...\n",
      "\t Train_Loss: 1.5306 Train_Acc: 84.917 Val_Loss: 4.4239  BEST VAL Loss: 4.4239  Val_Acc: 62.667\n",
      "\n",
      "Epoch 85: Validation loss decreased (4.423882 --> 4.422081).  Saving model ...\n",
      "\t Train_Loss: 1.5157 Train_Acc: 84.667 Val_Loss: 4.4221  BEST VAL Loss: 4.4221  Val_Acc: 62.667\n",
      "\n",
      "Epoch 86: Validation loss decreased (4.422081 --> 4.421788).  Saving model ...\n",
      "\t Train_Loss: 1.5010 Train_Acc: 84.667 Val_Loss: 4.4218  BEST VAL Loss: 4.4218  Val_Acc: 62.667\n",
      "\n",
      "Epoch 87: Validation loss did not decrease\n",
      "\t Train_Loss: 1.4871 Train_Acc: 82.917 Val_Loss: 4.4225  BEST VAL Loss: 4.4218  Val_Acc: 62.667\n",
      "\n",
      "Epoch 88: Validation loss did not decrease\n",
      "\t Train_Loss: 1.4733 Train_Acc: 83.917 Val_Loss: 4.4237  BEST VAL Loss: 4.4218  Val_Acc: 62.000\n",
      "\n",
      "Epoch 89: Validation loss did not decrease\n",
      "\t Train_Loss: 1.4600 Train_Acc: 83.167 Val_Loss: 4.4248  BEST VAL Loss: 4.4218  Val_Acc: 62.667\n",
      "\n",
      "Epoch 90: Validation loss did not decrease\n",
      "\t Train_Loss: 1.4469 Train_Acc: 84.417 Val_Loss: 4.4261  BEST VAL Loss: 4.4218  Val_Acc: 63.333\n",
      "\n",
      "Epoch 91: Validation loss did not decrease\n",
      "\t Train_Loss: 1.4337 Train_Acc: 85.333 Val_Loss: 4.4267  BEST VAL Loss: 4.4218  Val_Acc: 63.333\n",
      "\n",
      "Epoch 92: Validation loss did not decrease\n",
      "\t Train_Loss: 1.4210 Train_Acc: 84.333 Val_Loss: 4.4264  BEST VAL Loss: 4.4218  Val_Acc: 62.667\n",
      "\n",
      "Epoch 93: Validation loss did not decrease\n",
      "\t Train_Loss: 1.4088 Train_Acc: 83.500 Val_Loss: 4.4255  BEST VAL Loss: 4.4218  Val_Acc: 62.667\n",
      "\n",
      "Epoch 94: Validation loss did not decrease\n",
      "\t Train_Loss: 1.3971 Train_Acc: 84.917 Val_Loss: 4.4270  BEST VAL Loss: 4.4218  Val_Acc: 64.667\n",
      "\n",
      "Epoch 95: Validation loss did not decrease\n",
      "\t Train_Loss: 1.3852 Train_Acc: 84.417 Val_Loss: 4.4306  BEST VAL Loss: 4.4218  Val_Acc: 66.000\n",
      "\n",
      "Epoch 96: Validation loss did not decrease\n",
      "\t Train_Loss: 1.3738 Train_Acc: 83.500 Val_Loss: 4.4346  BEST VAL Loss: 4.4218  Val_Acc: 64.000\n",
      "\n",
      "Epoch 97: Validation loss did not decrease\n",
      "\t Train_Loss: 1.3624 Train_Acc: 84.417 Val_Loss: 4.4393  BEST VAL Loss: 4.4218  Val_Acc: 64.000\n",
      "\n",
      "Epoch 98: Validation loss did not decrease\n",
      "\t Train_Loss: 1.3511 Train_Acc: 84.250 Val_Loss: 4.4445  BEST VAL Loss: 4.4218  Val_Acc: 64.000\n",
      "\n",
      "Epoch 99: Validation loss did not decrease\n",
      "\t Train_Loss: 1.3401 Train_Acc: 84.750 Val_Loss: 4.4502  BEST VAL Loss: 4.4218  Val_Acc: 63.333\n",
      "\n",
      "Epoch 100: Validation loss did not decrease\n",
      "\t Train_Loss: 1.3294 Train_Acc: 84.917 Val_Loss: 4.4558  BEST VAL Loss: 4.4218  Val_Acc: 63.333\n",
      "\n",
      "Epoch 101: Validation loss did not decrease\n",
      "\t Train_Loss: 1.3189 Train_Acc: 85.167 Val_Loss: 4.4621  BEST VAL Loss: 4.4218  Val_Acc: 64.000\n",
      "\n",
      "Epoch 102: Validation loss did not decrease\n",
      "Early stopped at epoch : 102\n"
     ]
    }
   ],
   "source": [
    "# call the optimized training model\n",
    "train_loss, train_acc, valid_loss, valid_acc, epochs_ran, model = train_optimized_model(\n",
    "    params.TRAIN_EPOCHS,\n",
    "    train_loader,\n",
    "    valid_loader,\n",
    "    IN_FEATURES,\n",
    "    OUT_FEATURES,\n",
    "    param_dict,\n",
    "    params,\n",
    ")\n",
    "# create a DataFrame of each stat\n",
    "training_stats = pd.DataFrame(\n",
    "    zip(train_loss, train_acc, valid_loss, valid_acc, epochs_ran),\n",
    "    columns=[\"train_loss\", \"train_acc\", \"valid_loss\", \"valid_acc\", \"epochs_ran\"],\n",
    ")"
   ]
  },
  {
   "cell_type": "code",
   "execution_count": 13,
   "id": "8d0f85a4",
   "metadata": {
    "lines_to_next_cell": 2
   },
   "outputs": [
    {
     "data": {
      "image/png": "[encoded data removed]",
      "text/plain": [
       "<Figure size 640x480 with 1 Axes>"
      ]
     },
     "metadata": {},
     "output_type": "display_data"
    }
   ],
   "source": [
    "plot_metric_vs_epoch(training_stats, \"epochs_ran\", \"train_acc\", \"valid_acc\")"
   ]
  },
  {
   "cell_type": "code",
   "execution_count": 14,
   "id": "15f1d90e",
   "metadata": {
    "lines_to_next_cell": 2
   },
   "outputs": [
    {
     "data": {
      "image/png": "[encoded data removed]",
      "text/plain": [
       "<Figure size 640x480 with 1 Axes>"
      ]
     },
     "metadata": {},
     "output_type": "display_data"
    }
   ],
   "source": [
    "plot_metric_vs_epoch(training_stats, \"epochs_ran\", \"train_loss\", \"valid_loss\")"
   ]
  },
  {
   "cell_type": "code",
   "execution_count": 15,
   "id": "103165b9",
   "metadata": {
    "lines_to_next_cell": 2
   },
   "outputs": [],
   "source": [
    "# calling the testing function and outputing list values of tested model\n",
    "y_pred_list, y_pred_prob_list = test_optimized_model(\n",
    "    model, test_loader, IN_FEATURES, OUT_FEATURES, param_dict, params\n",
    ")\n",
    "\n",
    "# un-nest list if nested i.e. length of input data does not match length of output data\n",
    "if len(y_pred_list) != len(Y_test):\n",
    "    y_pred_list = un_nest(y_pred_list)\n",
    "    y_pred_prob_list = un_nest(y_pred_prob_list)\n",
    "else:\n",
    "    pass"
   ]
  },
  {
   "cell_type": "code",
   "execution_count": 16,
   "id": "5d25467e",
   "metadata": {},
   "outputs": [
    {
     "name": "stdout",
     "output_type": "stream",
     "text": [
      "              precision    recall  f1-score   support\n",
      "\n",
      "           0       0.49      1.00      0.65        73\n",
      "           1       0.00      0.00      0.00        77\n",
      "\n",
      "    accuracy                           0.49       150\n",
      "   macro avg       0.24      0.50      0.33       150\n",
      "weighted avg       0.24      0.49      0.32       150\n",
      "\n"
     ]
    },
    {
     "name": "stderr",
     "output_type": "stream",
     "text": [
      "/home/lippincm/miniconda3/envs/Interstellar/lib/python3.10/site-packages/sklearn/metrics/_classification.py:1344: UndefinedMetricWarning:\n",
      "\n",
      "Precision and F-score are ill-defined and being set to 0.0 in labels with no predicted samples. Use `zero_division` parameter to control this behavior.\n",
      "\n",
      "/home/lippincm/miniconda3/envs/Interstellar/lib/python3.10/site-packages/sklearn/metrics/_classification.py:1344: UndefinedMetricWarning:\n",
      "\n",
      "Precision and F-score are ill-defined and being set to 0.0 in labels with no predicted samples. Use `zero_division` parameter to control this behavior.\n",
      "\n",
      "/home/lippincm/miniconda3/envs/Interstellar/lib/python3.10/site-packages/sklearn/metrics/_classification.py:1344: UndefinedMetricWarning:\n",
      "\n",
      "Precision and F-score are ill-defined and being set to 0.0 in labels with no predicted samples. Use `zero_division` parameter to control this behavior.\n",
      "\n"
     ]
    },
    {
     "data": {
      "image/png": "[encoded data removed]",
      "text/plain": [
       "<Figure size 550x400 with 1 Axes>"
      ]
     },
     "metadata": {},
     "output_type": "display_data"
    }
   ],
   "source": [
    "# Call visualization function\n",
    "results_output(y_pred_list, y_pred_prob_list, Y_test)"
   ]
  },
  {
   "cell_type": "code",
   "execution_count": null,
   "id": "4354e47b",
   "metadata": {},
   "outputs": [],
   "source": []
  }
 ],
 "metadata": {
  "jupytext": {
   "cell_metadata_filter": "-all",
   "encoding": "# coding: utf-8",
   "executable": "/usr/bin/env python",
   "formats": "ipynb,py",
   "main_language": "python"
  },
  "kernelspec": {
   "display_name": "Python 3 (ipykernel)",
   "language": "python",
   "name": "python3"
  },
  "language_info": {
   "codemirror_mode": {
    "name": "ipython",
    "version": 3
   },
   "file_extension": ".py",
   "mimetype": "text/x-python",
   "name": "python",
   "nbconvert_exporter": "python",
   "pygments_lexer": "ipython3",
   "version": "3.10.9"
  },
  "vscode": {
   "interpreter": {
    "hash": "72ae02083a9ca7d143c492d1aec380c7bf553ec51bd66e90e72bba65228121b6"
   }
  }
 },
 "nbformat": 4,
 "nbformat_minor": 5
}
