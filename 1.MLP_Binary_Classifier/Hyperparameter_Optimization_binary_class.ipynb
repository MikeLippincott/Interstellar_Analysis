{
 "cells": [
  {
   "cell_type": "markdown",
   "id": "35633c12",
   "metadata": {},
   "source": [
    "## Hyperparameter tuning via Optuna for Binary MLP model"
   ]
  },
  {
   "cell_type": "markdown",
   "id": "171444ad",
   "metadata": {},
   "source": [
    "### Being a binary model this notebook will be limited to predicting one class 1 or 0, yes or no.\n",
    "### Here I will be predicting if a cell received a treatment or not"
   ]
  },
  {
   "cell_type": "code",
   "execution_count": 1,
   "id": "2aa0306d",
   "metadata": {
    "lines_to_next_cell": 2
   },
   "outputs": [],
   "source": [
    "import sys\n",
    "from pathlib import Path\n",
    "\n",
    "import matplotlib.pyplot as plt\n",
    "import numpy as np\n",
    "import optuna\n",
    "import pandas as pd\n",
    "import plotly\n",
    "import seaborn as sns\n",
    "import torch\n",
    "import torch.nn as nn\n",
    "import torch.optim as optim\n",
    "from sklearn import preprocessing\n",
    "\n",
    "from sklearn.model_selection import train_test_split\n",
    "\n",
    "sys.path.append(\"..\")\n",
    "from MLP_utils.parameters import Parameters\n",
    "\n",
    "\n",
    "from MLP_utils.utils import (\n",
    "    Dataset_formatter,\n",
    "    data_split,\n",
    "    extract_best_trial_params,\n",
    "    objective_model_optimizer,\n",
    "    optimized_model_create,\n",
    "    plot_metric_vs_epoch,\n",
    "    results_output,\n",
    "    test_optimized_model,\n",
    "    train_optimized_model,\n",
    "    un_nest,\n",
    ")\n",
    "\n",
    "from utils.utils import df_stats\n",
    "from MLP_utils.utils import parameter_set\n",
    "from configparser import ConfigParser"
   ]
  },
  {
   "cell_type": "code",
   "execution_count": 2,
   "id": "5549d52b",
   "metadata": {},
   "outputs": [],
   "source": [
    "# Import Data\n",
    "# set data file path under pathlib path for multi-system use\n",
    "file_path = Path(\n",
    "    \"../../Extracted_Features_(CSV_files)/interstellar_wave3_sc_norm_fs_cellprofiler.csv.gz\"\n",
    ")\n",
    "df = pd.read_csv(\n",
    "    file_path,\n",
    "    low_memory=False,\n",
    ")"
   ]
  },
  {
   "cell_type": "code",
   "execution_count": 3,
   "id": "9230d197",
   "metadata": {},
   "outputs": [],
   "source": [
    "config = ConfigParser()\n",
    "config.optionxform = str\n",
    "config.read(\"MLP_utils/config.ini\")\n",
    "\n",
    "\n",
    "params = Parameters()\n",
    "\n",
    "params = parameter_set(params, config)\n",
    "# int(params.DATA_SUBSET_NUMBER)"
   ]
  },
  {
   "cell_type": "code",
   "execution_count": 4,
   "id": "b6682c96",
   "metadata": {},
   "outputs": [
    {
     "name": "stdout",
     "output_type": "stream",
     "text": [
      "['LPS_10µg/ml' 'Disulfiram_2.5µM' 'LPS_1µg/ml' 'Disulfiram_0.1µM'\n",
      " 'H2O2_500µM' 'Thapsi_10µM' 'H2O2_50µM' 'Thapsi_1µM' 'ATP_1mM'\n",
      " 'LPS + Nigericin_1µg/ml + 10µM' 'ATP_0.1mM'\n",
      " 'LPS + Nigericin_1µg/ml + 1µM' 'Flagellin_1µg/ml' 'DMSO 0.1%_0'\n",
      " 'Flagellin_0.1µg/ml' 'Media only_0']\n",
      "['LPS_10µg/ml' 'Media only_0']\n",
      "The dimensions of the data are: (36718, 569)\n",
      "Number of total missing values across all columns: 470\n",
      "The dimensions of the data are: (36589, 569)\n",
      "Number of total missing values across all columns: 0\n",
      "False\n",
      "1500\n"
     ]
    }
   ],
   "source": [
    "# Combine treatment with dosage to be able to discern treatments with different doses as a different condition\n",
    "# Combine treatment and dose\n",
    "df = df.assign(\n",
    "    Metadata_Treatment_and_Dose=lambda x: df[\"Metadata_treatment\"]\n",
    "    + \"_\"\n",
    "    + df[\"Metadata_dose\"]\n",
    ")\n",
    "\n",
    "# df[\"Metadata_treatment\"] = df[\"Metadata_treatment\"] + \"_\" + df[\"Metadata_dose\"]\n",
    "print(df[\"Metadata_Treatment_and_Dose\"].unique())\n",
    "\n",
    "# Generate df speceific to analysis and model\n",
    "df = df.query(\n",
    "    \"Metadata_Treatment_and_Dose == 'LPS_10µg/ml'| Metadata_Treatment_and_Dose == 'Media only_0'\"\n",
    ")\n",
    "print(df[\"Metadata_Treatment_and_Dose\"].unique())\n",
    "\n",
    "df_stats(df)\n",
    "# Drop na and reindex accordingly\n",
    "df = df.dropna()\n",
    "df = df.reset_index(drop=True)\n",
    "\n",
    "# Check for Nans again\n",
    "df_stats(df)\n",
    "# Understand categorical data such as treatment and dosing\n",
    "df[[\"Metadata_Treatment_and_Dose\"]].drop_duplicates()\n",
    "print(params.DATA_SUBSET_OPTION)\n",
    "print(params.DATA_SUBSET_NUMBER)\n",
    "if params.DATA_SUBSET_OPTION:\n",
    "    df = df.sample(n=params.DATA_SUBSET_NUMBER)\n",
    "else:\n",
    "    pass\n",
    "\n",
    "# Code snippet for metadata extraction by Jenna Tomkinson\n",
    "df_metadata = list(df.columns[df.columns.str.startswith(\"Metadata\")])\n",
    "\n",
    "# define which columns are data and which are descriptive\n",
    "df_descriptive = df[df_metadata]\n",
    "df_values = df.drop(columns=df_metadata)"
   ]
  },
  {
   "cell_type": "markdown",
   "id": "3c31370d",
   "metadata": {},
   "source": [
    " ### Setting up data for network training"
   ]
  },
  {
   "cell_type": "code",
   "execution_count": 5,
   "id": "e4146d56",
   "metadata": {
    "lines_to_next_cell": 2
   },
   "outputs": [],
   "source": [
    "# Creating label encoder\n",
    "le = preprocessing.LabelEncoder()\n",
    "# Converting strings into numbers\n",
    "df_values[\"Metadata_Treatment_and_Dose\"] = le.fit_transform(\n",
    "    df_descriptive[\"Metadata_Treatment_and_Dose\"]\n",
    ")\n",
    "# split into X and Y where Y are the predictive column and x are the observable data\n",
    "df_values_X = df_values.drop(\"Metadata_Treatment_and_Dose\", axis=1)\n",
    "df_values_Y = df_values[\"Metadata_Treatment_and_Dose\"]\n",
    "\n",
    "df_values_X.head()\n",
    "\n",
    "X_train, X_test, X_val, Y_train, Y_test, Y_val = data_split(\n",
    "    X_vals=df_values_X,\n",
    "    y_vals=df_values_Y,\n",
    "    train_proportion=0.8,\n",
    "    val_proportion=0.1,\n",
    "    test_proportion=0.1,\n",
    "    seed=1,\n",
    ")"
   ]
  },
  {
   "cell_type": "code",
   "execution_count": 6,
   "id": "cdcfd00e",
   "metadata": {
    "lines_to_next_cell": 2
   },
   "outputs": [
    {
     "name": "stdout",
     "output_type": "stream",
     "text": [
      "Number of in features:  555\n",
      "Number of out features:  1\n"
     ]
    }
   ],
   "source": [
    "# produce data objects for train, val and test datasets\n",
    "train_data = Dataset_formatter(\n",
    "    torch.FloatTensor(X_train.values), torch.FloatTensor(Y_train.values)\n",
    ")\n",
    "val_data = Dataset_formatter(\n",
    "    torch.FloatTensor(X_val.values), torch.FloatTensor(Y_val.values)\n",
    ")\n",
    "test_data = Dataset_formatter(\n",
    "    torch.FloatTensor(X_test.values), torch.FloatTensor(Y_test.values)\n",
    ")\n",
    "\n",
    "IN_FEATURES = X_train.shape[1]\n",
    "print(\"Number of in features: \", IN_FEATURES)\n",
    "OUT_FEATURES = len(df_values[\"Metadata_Treatment_and_Dose\"].unique()) - 1\n",
    "print(\"Number of out features: \", OUT_FEATURES)"
   ]
  },
  {
   "cell_type": "code",
   "execution_count": 7,
   "id": "4d2cee70",
   "metadata": {
    "lines_to_next_cell": 2
   },
   "outputs": [],
   "source": [
    "# convert data class into a dataloader to be compatible with pytorch\n",
    "train_loader = torch.utils.data.DataLoader(\n",
    "    dataset=train_data, batch_size=params.BATCH_SIZE\n",
    ")\n",
    "valid_loader = torch.utils.data.DataLoader(\n",
    "    dataset=val_data, batch_size=params.BATCH_SIZE\n",
    ")\n",
    "test_loader = torch.utils.data.DataLoader(\n",
    "    dataset=test_data, batch_size=params.BATCH_SIZE\n",
    ")"
   ]
  },
  {
   "cell_type": "code",
   "execution_count": 8,
   "id": "5ceef247",
   "metadata": {
    "lines_to_next_cell": 2
   },
   "outputs": [
    {
     "name": "stderr",
     "output_type": "stream",
     "text": [
      "\u001b[32m[I 2023-03-29 20:46:40,578]\u001b[0m A new study created in memory with name: no-name-25c06434-613a-4802-a37e-8c4521054042\u001b[0m\n",
      "\u001b[32m[I 2023-03-29 20:46:42,829]\u001b[0m Trial 0 finished with value: 49.26666666666666 and parameters: {'n_layers': 2, 'n_units_l0': 9, 'dropout_0': 0.22936032762270334, 'n_units_l1': 7, 'dropout_1': 0.21887535290901847, 'learning_rate': 0.025830641792117526, 'optimizer': 'SGD'}. Best is trial 0 with value: 49.26666666666666.\u001b[0m\n",
      "\u001b[32m[I 2023-03-29 20:46:43,443]\u001b[0m Trial 1 finished with value: 69.37333333333332 and parameters: {'n_layers': 2, 'n_units_l0': 2, 'dropout_0': 0.34870511748156147, 'n_units_l1': 2, 'dropout_1': 0.286878745830918, 'learning_rate': 0.057369737908750544, 'optimizer': 'RMSprop'}. Best is trial 1 with value: 69.37333333333332.\u001b[0m\n",
      "\u001b[32m[I 2023-03-29 20:46:44,129]\u001b[0m Trial 2 finished with value: 74.50666666666667 and parameters: {'n_layers': 2, 'n_units_l0': 7, 'dropout_0': 0.17847900723180635, 'n_units_l1': 10, 'dropout_1': 0.2368617810624217, 'learning_rate': 0.0266805310982577, 'optimizer': 'Adam'}. Best is trial 2 with value: 74.50666666666667.\u001b[0m\n",
      "\u001b[32m[I 2023-03-29 20:46:44,710]\u001b[0m Trial 3 finished with value: 70.68 and parameters: {'n_layers': 1, 'n_units_l0': 2, 'dropout_0': 0.26582999316848377, 'learning_rate': 0.04706910344047894, 'optimizer': 'RMSprop'}. Best is trial 2 with value: 74.50666666666667.\u001b[0m\n",
      "\u001b[32m[I 2023-03-29 20:46:45,363]\u001b[0m Trial 4 finished with value: 72.94666666666666 and parameters: {'n_layers': 2, 'n_units_l0': 2, 'dropout_0': 0.12427982059723633, 'n_units_l1': 4, 'dropout_1': 0.15856939830949818, 'learning_rate': 0.05891304467556059, 'optimizer': 'Adam'}. Best is trial 2 with value: 74.50666666666667.\u001b[0m\n",
      "\u001b[32m[I 2023-03-29 20:46:45,379]\u001b[0m Trial 5 pruned. \u001b[0m\n",
      "\u001b[32m[I 2023-03-29 20:46:45,393]\u001b[0m Trial 6 pruned. \u001b[0m\n",
      "\u001b[32m[I 2023-03-29 20:46:45,405]\u001b[0m Trial 7 pruned. \u001b[0m\n",
      "\u001b[32m[I 2023-03-29 20:46:45,420]\u001b[0m Trial 8 pruned. \u001b[0m\n",
      "\u001b[32m[I 2023-03-29 20:46:46,084]\u001b[0m Trial 9 finished with value: 71.22666666666666 and parameters: {'n_layers': 2, 'n_units_l0': 5, 'dropout_0': 0.22176448888984435, 'n_units_l1': 10, 'dropout_1': 0.17837460476867897, 'learning_rate': 0.016557809046315295, 'optimizer': 'Adam'}. Best is trial 2 with value: 74.50666666666667.\u001b[0m\n",
      "\u001b[32m[I 2023-03-29 20:46:46,110]\u001b[0m Trial 10 pruned. \u001b[0m\n",
      "\u001b[32m[I 2023-03-29 20:46:46,157]\u001b[0m Trial 11 pruned. \u001b[0m\n",
      "\u001b[32m[I 2023-03-29 20:46:46,189]\u001b[0m Trial 12 pruned. \u001b[0m\n",
      "\u001b[32m[I 2023-03-29 20:46:46,769]\u001b[0m Trial 13 finished with value: 73.93333333333334 and parameters: {'n_layers': 2, 'n_units_l0': 7, 'dropout_0': 0.15539387815440667, 'n_units_l1': 4, 'dropout_1': 0.15244348028818475, 'learning_rate': 0.03543819397135341, 'optimizer': 'Adam'}. Best is trial 2 with value: 74.50666666666667.\u001b[0m\n",
      "\u001b[32m[I 2023-03-29 20:46:46,808]\u001b[0m Trial 14 pruned. \u001b[0m\n",
      "\u001b[32m[I 2023-03-29 20:46:47,361]\u001b[0m Trial 15 finished with value: 72.86666666666666 and parameters: {'n_layers': 1, 'n_units_l0': 8, 'dropout_0': 0.18140397003902403, 'learning_rate': 0.03788733814189437, 'optimizer': 'Adam'}. Best is trial 2 with value: 74.50666666666667.\u001b[0m\n",
      "\u001b[32m[I 2023-03-29 20:46:47,395]\u001b[0m Trial 16 pruned. \u001b[0m\n",
      "\u001b[32m[I 2023-03-29 20:46:48,061]\u001b[0m Trial 17 finished with value: 69.44 and parameters: {'n_layers': 3, 'n_units_l0': 6, 'dropout_0': 0.194666165702151, 'n_units_l1': 5, 'dropout_1': 0.29355700085893005, 'n_units_l2': 3, 'dropout_2': 0.2216212427535378, 'learning_rate': 0.03322664738506545, 'optimizer': 'Adam'}. Best is trial 2 with value: 74.50666666666667.\u001b[0m\n",
      "\u001b[32m[I 2023-03-29 20:46:48,087]\u001b[0m Trial 18 pruned. \u001b[0m\n",
      "\u001b[32m[I 2023-03-29 20:46:48,119]\u001b[0m Trial 19 pruned. \u001b[0m\n",
      "\u001b[32m[I 2023-03-29 20:46:48,154]\u001b[0m Trial 20 pruned. \u001b[0m\n",
      "\u001b[32m[I 2023-03-29 20:46:48,841]\u001b[0m Trial 21 finished with value: 69.93333333333334 and parameters: {'n_layers': 2, 'n_units_l0': 4, 'dropout_0': 0.12640851242325907, 'n_units_l1': 4, 'dropout_1': 0.16604747521036842, 'learning_rate': 0.06358821973499176, 'optimizer': 'Adam'}. Best is trial 2 with value: 74.50666666666667.\u001b[0m\n",
      "\u001b[32m[I 2023-03-29 20:46:49,447]\u001b[0m Trial 22 finished with value: 70.68 and parameters: {'n_layers': 2, 'n_units_l0': 7, 'dropout_0': 0.10019129918415207, 'n_units_l1': 3, 'dropout_1': 0.1367269729600456, 'learning_rate': 0.04377053437246459, 'optimizer': 'Adam'}. Best is trial 2 with value: 74.50666666666667.\u001b[0m\n",
      "\u001b[32m[I 2023-03-29 20:46:49,481]\u001b[0m Trial 23 pruned. \u001b[0m\n",
      "\u001b[32m[I 2023-03-29 20:46:49,516]\u001b[0m Trial 24 pruned. \u001b[0m\n",
      "\u001b[32m[I 2023-03-29 20:46:50,179]\u001b[0m Trial 25 finished with value: 73.34666666666666 and parameters: {'n_layers': 2, 'n_units_l0': 9, 'dropout_0': 0.11882639402576659, 'n_units_l1': 3, 'dropout_1': 0.1678787827249016, 'learning_rate': 0.051566865395046, 'optimizer': 'Adam'}. Best is trial 2 with value: 74.50666666666667.\u001b[0m\n",
      "\u001b[32m[I 2023-03-29 20:46:50,219]\u001b[0m Trial 26 pruned. \u001b[0m\n",
      "\u001b[32m[I 2023-03-29 20:46:50,245]\u001b[0m Trial 27 pruned. \u001b[0m\n",
      "\u001b[32m[I 2023-03-29 20:46:50,279]\u001b[0m Trial 28 pruned. \u001b[0m\n",
      "\u001b[32m[I 2023-03-29 20:46:50,885]\u001b[0m Trial 29 finished with value: 71.76 and parameters: {'n_layers': 2, 'n_units_l0': 9, 'dropout_0': 0.24087631715403568, 'n_units_l1': 6, 'dropout_1': 0.16381857052187604, 'learning_rate': 0.02359249656675305, 'optimizer': 'Adam'}. Best is trial 2 with value: 74.50666666666667.\u001b[0m\n",
      "\u001b[32m[I 2023-03-29 20:46:50,919]\u001b[0m Trial 30 pruned. \u001b[0m\n",
      "\u001b[32m[I 2023-03-29 20:46:50,954]\u001b[0m Trial 31 pruned. \u001b[0m\n",
      "\u001b[32m[I 2023-03-29 20:46:51,001]\u001b[0m Trial 32 pruned. \u001b[0m\n",
      "\u001b[32m[I 2023-03-29 20:46:51,048]\u001b[0m Trial 33 pruned. \u001b[0m\n",
      "\u001b[32m[I 2023-03-29 20:46:51,083]\u001b[0m Trial 34 pruned. \u001b[0m\n",
      "\u001b[32m[I 2023-03-29 20:46:51,119]\u001b[0m Trial 35 pruned. \u001b[0m\n",
      "\u001b[32m[I 2023-03-29 20:46:51,746]\u001b[0m Trial 36 finished with value: 73.22666666666666 and parameters: {'n_layers': 1, 'n_units_l0': 4, 'dropout_0': 0.26261004736344096, 'learning_rate': 0.05286051363318969, 'optimizer': 'Adam'}. Best is trial 2 with value: 74.50666666666667.\u001b[0m\n",
      "\u001b[32m[I 2023-03-29 20:46:51,774]\u001b[0m Trial 37 pruned. \u001b[0m\n",
      "\u001b[32m[I 2023-03-29 20:46:51,802]\u001b[0m Trial 38 pruned. \u001b[0m\n",
      "\u001b[32m[I 2023-03-29 20:46:52,425]\u001b[0m Trial 39 finished with value: 72.32 and parameters: {'n_layers': 1, 'n_units_l0': 6, 'dropout_0': 0.23158476344319492, 'learning_rate': 0.027601080862497723, 'optimizer': 'Adam'}. Best is trial 2 with value: 74.50666666666667.\u001b[0m\n",
      "\u001b[32m[I 2023-03-29 20:46:52,468]\u001b[0m Trial 40 pruned. \u001b[0m\n",
      "\u001b[32m[I 2023-03-29 20:46:52,496]\u001b[0m Trial 41 pruned. \u001b[0m\n",
      "\u001b[32m[I 2023-03-29 20:46:52,533]\u001b[0m Trial 42 pruned. \u001b[0m\n",
      "\u001b[32m[I 2023-03-29 20:46:52,577]\u001b[0m Trial 43 pruned. \u001b[0m\n",
      "\u001b[32m[I 2023-03-29 20:46:52,614]\u001b[0m Trial 44 pruned. \u001b[0m\n",
      "\u001b[32m[I 2023-03-29 20:46:52,643]\u001b[0m Trial 45 pruned. \u001b[0m\n",
      "\u001b[32m[I 2023-03-29 20:46:52,680]\u001b[0m Trial 46 pruned. \u001b[0m\n",
      "\u001b[32m[I 2023-03-29 20:46:52,725]\u001b[0m Trial 47 pruned. \u001b[0m\n",
      "\u001b[32m[I 2023-03-29 20:46:52,762]\u001b[0m Trial 48 pruned. \u001b[0m\n",
      "\u001b[32m[I 2023-03-29 20:46:52,798]\u001b[0m Trial 49 pruned. \u001b[0m\n",
      "\u001b[32m[I 2023-03-29 20:46:52,827]\u001b[0m Trial 50 pruned. \u001b[0m\n",
      "\u001b[32m[I 2023-03-29 20:46:52,877]\u001b[0m Trial 51 pruned. \u001b[0m\n",
      "\u001b[32m[I 2023-03-29 20:46:52,927]\u001b[0m Trial 52 pruned. \u001b[0m\n",
      "\u001b[32m[I 2023-03-29 20:46:53,103]\u001b[0m Trial 53 pruned. \u001b[0m\n",
      "\u001b[32m[I 2023-03-29 20:46:53,657]\u001b[0m Trial 54 finished with value: 73.14666666666668 and parameters: {'n_layers': 1, 'n_units_l0': 8, 'dropout_0': 0.1493914859829596, 'learning_rate': 0.02978760027332007, 'optimizer': 'Adam'}. Best is trial 2 with value: 74.50666666666667.\u001b[0m\n",
      "\u001b[32m[I 2023-03-29 20:46:53,686]\u001b[0m Trial 55 pruned. \u001b[0m\n",
      "\u001b[32m[I 2023-03-29 20:46:53,723]\u001b[0m Trial 56 pruned. \u001b[0m\n",
      "\u001b[32m[I 2023-03-29 20:46:53,761]\u001b[0m Trial 57 pruned. \u001b[0m\n",
      "\u001b[32m[I 2023-03-29 20:46:53,872]\u001b[0m Trial 58 pruned. \u001b[0m\n",
      "\u001b[32m[I 2023-03-29 20:46:54,406]\u001b[0m Trial 59 finished with value: 75.08 and parameters: {'n_layers': 1, 'n_units_l0': 7, 'dropout_0': 0.1730552413968699, 'learning_rate': 0.017695626795198725, 'optimizer': 'Adam'}. Best is trial 59 with value: 75.08.\u001b[0m\n",
      "\u001b[32m[I 2023-03-29 20:46:55,002]\u001b[0m Trial 60 finished with value: 73.98666666666666 and parameters: {'n_layers': 1, 'n_units_l0': 7, 'dropout_0': 0.15344123700413168, 'learning_rate': 0.017841696573285184, 'optimizer': 'Adam'}. Best is trial 59 with value: 75.08.\u001b[0m\n",
      "\u001b[32m[I 2023-03-29 20:46:55,031]\u001b[0m Trial 61 pruned. \u001b[0m\n",
      "\u001b[32m[I 2023-03-29 20:46:55,059]\u001b[0m Trial 62 pruned. \u001b[0m\n",
      "\u001b[32m[I 2023-03-29 20:46:55,118]\u001b[0m Trial 63 pruned. \u001b[0m\n",
      "\u001b[32m[I 2023-03-29 20:46:55,147]\u001b[0m Trial 64 pruned. \u001b[0m\n",
      "\u001b[32m[I 2023-03-29 20:46:55,176]\u001b[0m Trial 65 pruned. \u001b[0m\n",
      "\u001b[32m[I 2023-03-29 20:46:55,776]\u001b[0m Trial 66 finished with value: 72.44000000000001 and parameters: {'n_layers': 1, 'n_units_l0': 8, 'dropout_0': 0.12604420780092052, 'learning_rate': 0.01796143492791209, 'optimizer': 'Adam'}. Best is trial 59 with value: 75.08.\u001b[0m\n",
      "\u001b[32m[I 2023-03-29 20:46:55,804]\u001b[0m Trial 67 pruned. \u001b[0m\n",
      "\u001b[32m[I 2023-03-29 20:46:55,832]\u001b[0m Trial 68 pruned. \u001b[0m\n",
      "\u001b[32m[I 2023-03-29 20:46:55,871]\u001b[0m Trial 69 pruned. \u001b[0m\n",
      "\u001b[32m[I 2023-03-29 20:46:55,899]\u001b[0m Trial 70 pruned. \u001b[0m\n",
      "\u001b[32m[I 2023-03-29 20:46:56,553]\u001b[0m Trial 71 finished with value: 70.21333333333332 and parameters: {'n_layers': 2, 'n_units_l0': 9, 'dropout_0': 0.1304287749491537, 'n_units_l1': 6, 'dropout_1': 0.24519464818250833, 'learning_rate': 0.016049022967033567, 'optimizer': 'Adam'}. Best is trial 59 with value: 75.08.\u001b[0m\n",
      "\u001b[32m[I 2023-03-29 20:46:56,591]\u001b[0m Trial 72 pruned. \u001b[0m\n",
      "\u001b[32m[I 2023-03-29 20:46:56,629]\u001b[0m Trial 73 pruned. \u001b[0m\n",
      "\u001b[32m[I 2023-03-29 20:46:56,666]\u001b[0m Trial 74 pruned. \u001b[0m\n",
      "\u001b[32m[I 2023-03-29 20:46:56,725]\u001b[0m Trial 75 pruned. \u001b[0m\n",
      "\u001b[32m[I 2023-03-29 20:46:56,763]\u001b[0m Trial 76 pruned. \u001b[0m\n",
      "\u001b[32m[I 2023-03-29 20:46:56,801]\u001b[0m Trial 77 pruned. \u001b[0m\n",
      "\u001b[32m[I 2023-03-29 20:46:56,829]\u001b[0m Trial 78 pruned. \u001b[0m\n",
      "\u001b[32m[I 2023-03-29 20:46:56,866]\u001b[0m Trial 79 pruned. \u001b[0m\n",
      "\u001b[32m[I 2023-03-29 20:46:56,916]\u001b[0m Trial 80 pruned. \u001b[0m\n",
      "\u001b[32m[I 2023-03-29 20:46:57,538]\u001b[0m Trial 81 finished with value: 70.92000000000002 and parameters: {'n_layers': 1, 'n_units_l0': 8, 'dropout_0': 0.1844719126031047, 'learning_rate': 0.036824413628597286, 'optimizer': 'Adam'}. Best is trial 59 with value: 75.08.\u001b[0m\n",
      "\u001b[32m[I 2023-03-29 20:46:57,567]\u001b[0m Trial 82 pruned. \u001b[0m\n",
      "\u001b[32m[I 2023-03-29 20:46:57,597]\u001b[0m Trial 83 pruned. \u001b[0m\n",
      "\u001b[32m[I 2023-03-29 20:46:57,626]\u001b[0m Trial 84 pruned. \u001b[0m\n",
      "\u001b[32m[I 2023-03-29 20:46:57,671]\u001b[0m Trial 85 pruned. \u001b[0m\n",
      "\u001b[32m[I 2023-03-29 20:46:57,711]\u001b[0m Trial 86 pruned. \u001b[0m\n",
      "\u001b[32m[I 2023-03-29 20:46:57,751]\u001b[0m Trial 87 pruned. \u001b[0m\n",
      "\u001b[32m[I 2023-03-29 20:46:57,865]\u001b[0m Trial 88 pruned. \u001b[0m\n",
      "\u001b[32m[I 2023-03-29 20:46:57,894]\u001b[0m Trial 89 pruned. \u001b[0m\n",
      "\u001b[32m[I 2023-03-29 20:46:57,933]\u001b[0m Trial 90 pruned. \u001b[0m\n",
      "\u001b[32m[I 2023-03-29 20:46:58,003]\u001b[0m Trial 91 pruned. \u001b[0m\n",
      "\u001b[32m[I 2023-03-29 20:46:58,632]\u001b[0m Trial 92 finished with value: 73.32000000000001 and parameters: {'n_layers': 1, 'n_units_l0': 8, 'dropout_0': 0.11891998747021143, 'learning_rate': 0.016599922854242784, 'optimizer': 'Adam'}. Best is trial 59 with value: 75.08.\u001b[0m\n",
      "\u001b[32m[I 2023-03-29 20:46:58,662]\u001b[0m Trial 93 pruned. \u001b[0m\n",
      "\u001b[32m[I 2023-03-29 20:46:58,693]\u001b[0m Trial 94 pruned. \u001b[0m\n",
      "\u001b[32m[I 2023-03-29 20:46:58,722]\u001b[0m Trial 95 pruned. \u001b[0m\n",
      "\u001b[32m[I 2023-03-29 20:46:58,752]\u001b[0m Trial 96 pruned. \u001b[0m\n",
      "\u001b[32m[I 2023-03-29 20:46:58,782]\u001b[0m Trial 97 pruned. \u001b[0m\n",
      "\u001b[32m[I 2023-03-29 20:46:58,812]\u001b[0m Trial 98 pruned. \u001b[0m\n",
      "\u001b[32m[I 2023-03-29 20:46:58,851]\u001b[0m Trial 99 pruned. \u001b[0m\n"
     ]
    },
    {
     "name": "stdout",
     "output_type": "stream",
     "text": [
      "Validation Accuracy: 74.05333333333334\n",
      "Validation Loss: 0.8122829830646515\n",
      "Training Accuracy: 84.98666666666666\n",
      "Training Loss: 0.25865924708545207\n"
     ]
    }
   ],
   "source": [
    "# wrap the objective function inside of a lambda function to pass args...\n",
    "objective_lambda_func = lambda trial: objective_model_optimizer(\n",
    "    train_loader,\n",
    "    valid_loader,\n",
    "    trial=trial,\n",
    "    in_features=IN_FEATURES,\n",
    "    out_features=OUT_FEATURES,\n",
    "    params=params,\n",
    "    metric=params.METRIC,\n",
    "    return_info=False,\n",
    ")\n",
    "# Study is the object for model optimization\n",
    "study = optuna.create_study(direction=f\"{params.DIRECTION}\")\n",
    "# Here I apply the optimize function of the study to the objective function\n",
    "# This optimizes each parameter specified to be optimized from the defined search space\n",
    "study.optimize(objective_lambda_func, n_trials=params.N_TRIALS)\n",
    "# Prints out the best trial's optimized parameters\n",
    "objective_model_optimizer(\n",
    "    train_loader,\n",
    "    valid_loader,\n",
    "    trial=study.best_trial,\n",
    "    in_features=IN_FEATURES,\n",
    "    out_features=OUT_FEATURES,\n",
    "    params=params,\n",
    "    metric=params.METRIC,\n",
    "    return_info=True,\n",
    ")"
   ]
  },
  {
   "cell_type": "code",
   "execution_count": 9,
   "id": "30756fe3",
   "metadata": {
    "lines_to_next_cell": 2
   },
   "outputs": [
    {
     "data": {
      "application/vnd.plotly.v1+json": {
       "config": {
        "plotlyServerURL": "https://plot.ly"
       },
       "data": [
        {
         "mode": "markers",
         "name": "Objective Value",
         "type": "scatter",
         "x": [
          0,
          1,
          2,
          3,
          4,
          9,
          13,
          15,
          17,
          21,
          22,
          25,
          29,
          36,
          39,
          54,
          59,
          60,
          66,
          71,
          81,
          92
         ],
         "y": [
          49.26666666666666,
          69.37333333333332,
          74.50666666666667,
          70.68,
          72.94666666666666,
          71.22666666666666,
          73.93333333333334,
          72.86666666666666,
          69.44,
          69.93333333333334,
          70.68,
          73.34666666666666,
          71.76,
          73.22666666666666,
          72.32,
          73.14666666666668,
          75.08,
          73.98666666666666,
          72.44000000000001,
          70.21333333333332,
          70.92000000000002,
          73.32000000000001
         ]
        },
        {
         "name": "Best Value",
         "type": "scatter",
         "x": [
          0,
          1,
          2,
          3,
          4,
          9,
          13,
          15,
          17,
          21,
          22,
          25,
          29,
          36,
          39,
          54,
          59,
          60,
          66,
          71,
          81,
          92
         ],
         "y": [
          49.26666666666666,
          69.37333333333332,
          74.50666666666667,
          74.50666666666667,
          74.50666666666667,
          74.50666666666667,
          74.50666666666667,
          74.50666666666667,
          74.50666666666667,
          74.50666666666667,
          74.50666666666667,
          74.50666666666667,
          74.50666666666667,
          74.50666666666667,
          74.50666666666667,
          74.50666666666667,
          75.08,
          75.08,
          75.08,
          75.08,
          75.08,
          75.08
         ]
        }
       ],
       "layout": {
        "template": {
         "data": {
          "bar": [
           {
            "error_x": {
             "color": "#2a3f5f"
            },
            "error_y": {
             "color": "#2a3f5f"
            },
            "marker": {
             "line": {
              "color": "#E5ECF6",
              "width": 0.5
             },
             "pattern": {
              "fillmode": "overlay",
              "size": 10,
              "solidity": 0.2
             }
            },
            "type": "bar"
           }
          ],
          "barpolar": [
           {
            "marker": {
             "line": {
              "color": "#E5ECF6",
              "width": 0.5
             },
             "pattern": {
              "fillmode": "overlay",
              "size": 10,
              "solidity": 0.2
             }
            },
            "type": "barpolar"
           }
          ],
          "carpet": [
           {
            "aaxis": {
             "endlinecolor": "#2a3f5f",
             "gridcolor": "white",
             "linecolor": "white",
             "minorgridcolor": "white",
             "startlinecolor": "#2a3f5f"
            },
            "baxis": {
             "endlinecolor": "#2a3f5f",
             "gridcolor": "white",
             "linecolor": "white",
             "minorgridcolor": "white",
             "startlinecolor": "#2a3f5f"
            },
            "type": "carpet"
           }
          ],
          "choropleth": [
           {
            "colorbar": {
             "outlinewidth": 0,
             "ticks": ""
            },
            "type": "choropleth"
           }
          ],
          "contour": [
           {
            "colorbar": {
             "outlinewidth": 0,
             "ticks": ""
            },
            "colorscale": [
             [
              0,
              "#0d0887"
             ],
             [
              0.1111111111111111,
              "#46039f"
             ],
             [
              0.2222222222222222,
              "#7201a8"
             ],
             [
              0.3333333333333333,
              "#9c179e"
             ],
             [
              0.4444444444444444,
              "#bd3786"
             ],
             [
              0.5555555555555556,
              "#d8576b"
             ],
             [
              0.6666666666666666,
              "#ed7953"
             ],
             [
              0.7777777777777778,
              "#fb9f3a"
             ],
             [
              0.8888888888888888,
              "#fdca26"
             ],
             [
              1,
              "#f0f921"
             ]
            ],
            "type": "contour"
           }
          ],
          "contourcarpet": [
           {
            "colorbar": {
             "outlinewidth": 0,
             "ticks": ""
            },
            "type": "contourcarpet"
           }
          ],
          "heatmap": [
           {
            "colorbar": {
             "outlinewidth": 0,
             "ticks": ""
            },
            "colorscale": [
             [
              0,
              "#0d0887"
             ],
             [
              0.1111111111111111,
              "#46039f"
             ],
             [
              0.2222222222222222,
              "#7201a8"
             ],
             [
              0.3333333333333333,
              "#9c179e"
             ],
             [
              0.4444444444444444,
              "#bd3786"
             ],
             [
              0.5555555555555556,
              "#d8576b"
             ],
             [
              0.6666666666666666,
              "#ed7953"
             ],
             [
              0.7777777777777778,
              "#fb9f3a"
             ],
             [
              0.8888888888888888,
              "#fdca26"
             ],
             [
              1,
              "#f0f921"
             ]
            ],
            "type": "heatmap"
           }
          ],
          "heatmapgl": [
           {
            "colorbar": {
             "outlinewidth": 0,
             "ticks": ""
            },
            "colorscale": [
             [
              0,
              "#0d0887"
             ],
             [
              0.1111111111111111,
              "#46039f"
             ],
             [
              0.2222222222222222,
              "#7201a8"
             ],
             [
              0.3333333333333333,
              "#9c179e"
             ],
             [
              0.4444444444444444,
              "#bd3786"
             ],
             [
              0.5555555555555556,
              "#d8576b"
             ],
             [
              0.6666666666666666,
              "#ed7953"
             ],
             [
              0.7777777777777778,
              "#fb9f3a"
             ],
             [
              0.8888888888888888,
              "#fdca26"
             ],
             [
              1,
              "#f0f921"
             ]
            ],
            "type": "heatmapgl"
           }
          ],
          "histogram": [
           {
            "marker": {
             "pattern": {
              "fillmode": "overlay",
              "size": 10,
              "solidity": 0.2
             }
            },
            "type": "histogram"
           }
          ],
          "histogram2d": [
           {
            "colorbar": {
             "outlinewidth": 0,
             "ticks": ""
            },
            "colorscale": [
             [
              0,
              "#0d0887"
             ],
             [
              0.1111111111111111,
              "#46039f"
             ],
             [
              0.2222222222222222,
              "#7201a8"
             ],
             [
              0.3333333333333333,
              "#9c179e"
             ],
             [
              0.4444444444444444,
              "#bd3786"
             ],
             [
              0.5555555555555556,
              "#d8576b"
             ],
             [
              0.6666666666666666,
              "#ed7953"
             ],
             [
              0.7777777777777778,
              "#fb9f3a"
             ],
             [
              0.8888888888888888,
              "#fdca26"
             ],
             [
              1,
              "#f0f921"
             ]
            ],
            "type": "histogram2d"
           }
          ],
          "histogram2dcontour": [
           {
            "colorbar": {
             "outlinewidth": 0,
             "ticks": ""
            },
            "colorscale": [
             [
              0,
              "#0d0887"
             ],
             [
              0.1111111111111111,
              "#46039f"
             ],
             [
              0.2222222222222222,
              "#7201a8"
             ],
             [
              0.3333333333333333,
              "#9c179e"
             ],
             [
              0.4444444444444444,
              "#bd3786"
             ],
             [
              0.5555555555555556,
              "#d8576b"
             ],
             [
              0.6666666666666666,
              "#ed7953"
             ],
             [
              0.7777777777777778,
              "#fb9f3a"
             ],
             [
              0.8888888888888888,
              "#fdca26"
             ],
             [
              1,
              "#f0f921"
             ]
            ],
            "type": "histogram2dcontour"
           }
          ],
          "mesh3d": [
           {
            "colorbar": {
             "outlinewidth": 0,
             "ticks": ""
            },
            "type": "mesh3d"
           }
          ],
          "parcoords": [
           {
            "line": {
             "colorbar": {
              "outlinewidth": 0,
              "ticks": ""
             }
            },
            "type": "parcoords"
           }
          ],
          "pie": [
           {
            "automargin": true,
            "type": "pie"
           }
          ],
          "scatter": [
           {
            "fillpattern": {
             "fillmode": "overlay",
             "size": 10,
             "solidity": 0.2
            },
            "type": "scatter"
           }
          ],
          "scatter3d": [
           {
            "line": {
             "colorbar": {
              "outlinewidth": 0,
              "ticks": ""
             }
            },
            "marker": {
             "colorbar": {
              "outlinewidth": 0,
              "ticks": ""
             }
            },
            "type": "scatter3d"
           }
          ],
          "scattercarpet": [
           {
            "marker": {
             "colorbar": {
              "outlinewidth": 0,
              "ticks": ""
             }
            },
            "type": "scattercarpet"
           }
          ],
          "scattergeo": [
           {
            "marker": {
             "colorbar": {
              "outlinewidth": 0,
              "ticks": ""
             }
            },
            "type": "scattergeo"
           }
          ],
          "scattergl": [
           {
            "marker": {
             "colorbar": {
              "outlinewidth": 0,
              "ticks": ""
             }
            },
            "type": "scattergl"
           }
          ],
          "scattermapbox": [
           {
            "marker": {
             "colorbar": {
              "outlinewidth": 0,
              "ticks": ""
             }
            },
            "type": "scattermapbox"
           }
          ],
          "scatterpolar": [
           {
            "marker": {
             "colorbar": {
              "outlinewidth": 0,
              "ticks": ""
             }
            },
            "type": "scatterpolar"
           }
          ],
          "scatterpolargl": [
           {
            "marker": {
             "colorbar": {
              "outlinewidth": 0,
              "ticks": ""
             }
            },
            "type": "scatterpolargl"
           }
          ],
          "scatterternary": [
           {
            "marker": {
             "colorbar": {
              "outlinewidth": 0,
              "ticks": ""
             }
            },
            "type": "scatterternary"
           }
          ],
          "surface": [
           {
            "colorbar": {
             "outlinewidth": 0,
             "ticks": ""
            },
            "colorscale": [
             [
              0,
              "#0d0887"
             ],
             [
              0.1111111111111111,
              "#46039f"
             ],
             [
              0.2222222222222222,
              "#7201a8"
             ],
             [
              0.3333333333333333,
              "#9c179e"
             ],
             [
              0.4444444444444444,
              "#bd3786"
             ],
             [
              0.5555555555555556,
              "#d8576b"
             ],
             [
              0.6666666666666666,
              "#ed7953"
             ],
             [
              0.7777777777777778,
              "#fb9f3a"
             ],
             [
              0.8888888888888888,
              "#fdca26"
             ],
             [
              1,
              "#f0f921"
             ]
            ],
            "type": "surface"
           }
          ],
          "table": [
           {
            "cells": {
             "fill": {
              "color": "#EBF0F8"
             },
             "line": {
              "color": "white"
             }
            },
            "header": {
             "fill": {
              "color": "#C8D4E3"
             },
             "line": {
              "color": "white"
             }
            },
            "type": "table"
           }
          ]
         },
         "layout": {
          "annotationdefaults": {
           "arrowcolor": "#2a3f5f",
           "arrowhead": 0,
           "arrowwidth": 1
          },
          "autotypenumbers": "strict",
          "coloraxis": {
           "colorbar": {
            "outlinewidth": 0,
            "ticks": ""
           }
          },
          "colorscale": {
           "diverging": [
            [
             0,
             "#8e0152"
            ],
            [
             0.1,
             "#c51b7d"
            ],
            [
             0.2,
             "#de77ae"
            ],
            [
             0.3,
             "#f1b6da"
            ],
            [
             0.4,
             "#fde0ef"
            ],
            [
             0.5,
             "#f7f7f7"
            ],
            [
             0.6,
             "#e6f5d0"
            ],
            [
             0.7,
             "#b8e186"
            ],
            [
             0.8,
             "#7fbc41"
            ],
            [
             0.9,
             "#4d9221"
            ],
            [
             1,
             "#276419"
            ]
           ],
           "sequential": [
            [
             0,
             "#0d0887"
            ],
            [
             0.1111111111111111,
             "#46039f"
            ],
            [
             0.2222222222222222,
             "#7201a8"
            ],
            [
             0.3333333333333333,
             "#9c179e"
            ],
            [
             0.4444444444444444,
             "#bd3786"
            ],
            [
             0.5555555555555556,
             "#d8576b"
            ],
            [
             0.6666666666666666,
             "#ed7953"
            ],
            [
             0.7777777777777778,
             "#fb9f3a"
            ],
            [
             0.8888888888888888,
             "#fdca26"
            ],
            [
             1,
             "#f0f921"
            ]
           ],
           "sequentialminus": [
            [
             0,
             "#0d0887"
            ],
            [
             0.1111111111111111,
             "#46039f"
            ],
            [
             0.2222222222222222,
             "#7201a8"
            ],
            [
             0.3333333333333333,
             "#9c179e"
            ],
            [
             0.4444444444444444,
             "#bd3786"
            ],
            [
             0.5555555555555556,
             "#d8576b"
            ],
            [
             0.6666666666666666,
             "#ed7953"
            ],
            [
             0.7777777777777778,
             "#fb9f3a"
            ],
            [
             0.8888888888888888,
             "#fdca26"
            ],
            [
             1,
             "#f0f921"
            ]
           ]
          },
          "colorway": [
           "#636efa",
           "#EF553B",
           "#00cc96",
           "#ab63fa",
           "#FFA15A",
           "#19d3f3",
           "#FF6692",
           "#B6E880",
           "#FF97FF",
           "#FECB52"
          ],
          "font": {
           "color": "#2a3f5f"
          },
          "geo": {
           "bgcolor": "white",
           "lakecolor": "white",
           "landcolor": "#E5ECF6",
           "showlakes": true,
           "showland": true,
           "subunitcolor": "white"
          },
          "hoverlabel": {
           "align": "left"
          },
          "hovermode": "closest",
          "mapbox": {
           "style": "light"
          },
          "paper_bgcolor": "white",
          "plot_bgcolor": "#E5ECF6",
          "polar": {
           "angularaxis": {
            "gridcolor": "white",
            "linecolor": "white",
            "ticks": ""
           },
           "bgcolor": "#E5ECF6",
           "radialaxis": {
            "gridcolor": "white",
            "linecolor": "white",
            "ticks": ""
           }
          },
          "scene": {
           "xaxis": {
            "backgroundcolor": "#E5ECF6",
            "gridcolor": "white",
            "gridwidth": 2,
            "linecolor": "white",
            "showbackground": true,
            "ticks": "",
            "zerolinecolor": "white"
           },
           "yaxis": {
            "backgroundcolor": "#E5ECF6",
            "gridcolor": "white",
            "gridwidth": 2,
            "linecolor": "white",
            "showbackground": true,
            "ticks": "",
            "zerolinecolor": "white"
           },
           "zaxis": {
            "backgroundcolor": "#E5ECF6",
            "gridcolor": "white",
            "gridwidth": 2,
            "linecolor": "white",
            "showbackground": true,
            "ticks": "",
            "zerolinecolor": "white"
           }
          },
          "shapedefaults": {
           "line": {
            "color": "#2a3f5f"
           }
          },
          "ternary": {
           "aaxis": {
            "gridcolor": "white",
            "linecolor": "white",
            "ticks": ""
           },
           "baxis": {
            "gridcolor": "white",
            "linecolor": "white",
            "ticks": ""
           },
           "bgcolor": "#E5ECF6",
           "caxis": {
            "gridcolor": "white",
            "linecolor": "white",
            "ticks": ""
           }
          },
          "title": {
           "x": 0.05
          },
          "xaxis": {
           "automargin": true,
           "gridcolor": "white",
           "linecolor": "white",
           "ticks": "",
           "title": {
            "standoff": 15
           },
           "zerolinecolor": "white",
           "zerolinewidth": 2
          },
          "yaxis": {
           "automargin": true,
           "gridcolor": "white",
           "linecolor": "white",
           "ticks": "",
           "title": {
            "standoff": 15
           },
           "zerolinecolor": "white",
           "zerolinewidth": 2
          }
         }
        },
        "title": {
         "text": "Optimization History Plot"
        },
        "xaxis": {
         "title": {
          "text": "Trial"
         }
        },
        "yaxis": {
         "title": {
          "text": "Objective Value"
         }
        }
       }
      }
     },
     "metadata": {},
     "output_type": "display_data"
    }
   ],
   "source": [
    "optuna.visualization.plot_optimization_history(study)"
   ]
  },
  {
   "cell_type": "code",
   "execution_count": 10,
   "id": "9a7ddf13",
   "metadata": {
    "lines_to_next_cell": 2
   },
   "outputs": [
    {
     "data": {
      "application/vnd.plotly.v1+json": {
       "config": {
        "plotlyServerURL": "https://plot.ly"
       },
       "data": [
        {
         "marker": {
          "maxdisplayed": 10
         },
         "mode": "lines+markers",
         "name": "Trial0",
         "type": "scatter",
         "x": [
          0,
          1,
          2,
          3,
          4,
          5,
          6,
          7,
          8,
          9,
          10,
          11,
          12,
          13,
          14,
          15,
          16,
          17,
          18,
          19,
          20,
          21,
          22,
          23,
          24,
          25,
          26,
          27,
          28,
          29,
          30,
          31,
          32,
          33,
          34,
          35,
          36,
          37,
          38,
          39,
          40,
          41,
          42,
          43,
          44,
          45,
          46,
          47,
          48,
          49
         ],
         "y": [
          46.666666666666664,
          46.666666666666664,
          46.666666666666664,
          46.666666666666664,
          46.666666666666664,
          46.666666666666664,
          46.66666666666667,
          46.666666666666664,
          46.666666666666664,
          46.66666666666667,
          46.66666666666667,
          46.666666666666664,
          46.666666666666664,
          46.666666666666664,
          46.66666666666666,
          46.666666666666664,
          46.666666666666664,
          46.66666666666666,
          46.70175438596491,
          46.733333333333334,
          46.76190476190476,
          46.78787878787878,
          46.81159420289855,
          46.833333333333336,
          46.82666666666667,
          46.820512820512825,
          46.839506172839506,
          46.857142857142854,
          46.89655172413793,
          46.93333333333333,
          47.01075268817204,
          47.08333333333333,
          47.15151515151514,
          47.23529411764705,
          47.33333333333333,
          47.444444444444436,
          47.567567567567565,
          47.68421052631578,
          47.811965811965806,
          47.93333333333333,
          48.0650406504065,
          48.2063492063492,
          48.31007751937984,
          48.42424242424242,
          48.548148148148144,
          48.68115942028985,
          48.82269503546099,
          48.97222222222222,
          49.115646258503396,
          49.26666666666666
         ]
        },
        {
         "marker": {
          "maxdisplayed": 10
         },
         "mode": "lines+markers",
         "name": "Trial1",
         "type": "scatter",
         "x": [
          0,
          1,
          2,
          3,
          4,
          5,
          6,
          7,
          8,
          9,
          10,
          11,
          12,
          13,
          14,
          15,
          16,
          17,
          18,
          19,
          20,
          21,
          22,
          23,
          24,
          25,
          26,
          27,
          28,
          29,
          30,
          31,
          32,
          33,
          34,
          35,
          36,
          37,
          38,
          39,
          40,
          41,
          42,
          43,
          44,
          45,
          46,
          47,
          48,
          49
         ],
         "y": [
          59.333333333333336,
          62.66666666666667,
          61.111111111111114,
          60.5,
          60.13333333333334,
          60.111111111111114,
          59.90476190476191,
          60.666666666666664,
          61.03703703703703,
          60.86666666666666,
          61.030303030303024,
          61.388888888888886,
          61.48717948717948,
          61.71428571428571,
          62.08888888888888,
          62.66666666666667,
          63.019607843137265,
          63.18518518518519,
          63.543859649122815,
          64.00000000000001,
          64.31746031746033,
          64.66666666666669,
          65.04347826086958,
          65.58333333333333,
          65.89333333333333,
          66.15384615384616,
          66.54320987654322,
          66.90476190476191,
          67.28735632183908,
          67.51111111111112,
          67.78494623655915,
          68.02083333333334,
          68.16161616161617,
          68.31372549019609,
          68.43809523809524,
          68.53703703703704,
          68.68468468468468,
          68.6842105263158,
          68.76923076923077,
          68.81666666666666,
          68.89430894308943,
          68.96825396825396,
          68.9922480620155,
          68.98484848484848,
          69.06666666666666,
          69.14492753623188,
          69.19148936170212,
          69.2361111111111,
          69.30612244897958,
          69.37333333333332
         ]
        },
        {
         "marker": {
          "maxdisplayed": 10
         },
         "mode": "lines+markers",
         "name": "Trial2",
         "type": "scatter",
         "x": [
          0,
          1,
          2,
          3,
          4,
          5,
          6,
          7,
          8,
          9,
          10,
          11,
          12,
          13,
          14,
          15,
          16,
          17,
          18,
          19,
          20,
          21,
          22,
          23,
          24,
          25,
          26,
          27,
          28,
          29,
          30,
          31,
          32,
          33,
          34,
          35,
          36,
          37,
          38,
          39,
          40,
          41,
          42,
          43,
          44,
          45,
          46,
          47,
          48,
          49
         ],
         "y": [
          69.33333333333333,
          73.33333333333333,
          73.33333333333333,
          73.33333333333333,
          73.6,
          74.11111111111111,
          74.28571428571429,
          74.25,
          74.37037037037038,
          74.46666666666667,
          74.54545454545456,
          74.83333333333334,
          74.87179487179489,
          74.90476190476191,
          74.8888888888889,
          74.91666666666666,
          74.90196078431372,
          74.92592592592592,
          74.91228070175438,
          74.9,
          74.88888888888889,
          74.81818181818181,
          74.69565217391305,
          74.6111111111111,
          74.55999999999999,
          74.56410256410255,
          74.5432098765432,
          74.52380952380952,
          74.43678160919539,
          74.35555555555555,
          74.3010752688172,
          74.33333333333333,
          74.34343434343434,
          74.35294117647058,
          74.39999999999999,
          74.46296296296295,
          74.54054054054053,
          74.57894736842104,
          74.58119658119656,
          74.55,
          74.52032520325204,
          74.55555555555556,
          74.55813953488372,
          74.53030303030303,
          74.53333333333333,
          74.55072463768116,
          74.46808510638297,
          74.45833333333333,
          74.47619047619048,
          74.50666666666667
         ]
        },
        {
         "marker": {
          "maxdisplayed": 10
         },
         "mode": "lines+markers",
         "name": "Trial3",
         "type": "scatter",
         "x": [
          0,
          1,
          2,
          3,
          4,
          5,
          6,
          7,
          8,
          9,
          10,
          11,
          12,
          13,
          14,
          15,
          16,
          17,
          18,
          19,
          20,
          21,
          22,
          23,
          24,
          25,
          26,
          27,
          28,
          29,
          30,
          31,
          32,
          33,
          34,
          35,
          36,
          37,
          38,
          39,
          40,
          41,
          42,
          43,
          44,
          45,
          46,
          47,
          48,
          49
         ],
         "y": [
          60.666666666666664,
          63.66666666666667,
          63.77777777777778,
          64.5,
          65.06666666666666,
          65.33333333333333,
          65.9047619047619,
          66.08333333333333,
          66.37037037037037,
          66.66666666666666,
          66.96969696969697,
          67.44444444444444,
          67.69230769230768,
          67.95238095238095,
          68.13333333333333,
          68.33333333333334,
          68.50980392156863,
          68.70370370370371,
          68.87719298245615,
          69.06666666666668,
          69.17460317460318,
          69.36363636363636,
          69.44927536231884,
          69.58333333333333,
          69.70666666666666,
          69.82051282051283,
          69.92592592592594,
          70.02380952380953,
          70.09195402298852,
          70.24444444444445,
          70.3225806451613,
          70.375,
          70.42424242424242,
          70.4313725490196,
          70.53333333333333,
          70.5,
          70.52252252252252,
          70.57894736842105,
          70.63247863247862,
          70.71666666666667,
          70.69918699186992,
          70.53968253968254,
          70.52713178294574,
          70.60606060606061,
          70.57777777777778,
          70.60869565217392,
          70.66666666666669,
          70.625,
          70.63945578231292,
          70.68
         ]
        },
        {
         "marker": {
          "maxdisplayed": 10
         },
         "mode": "lines+markers",
         "name": "Trial4",
         "type": "scatter",
         "x": [
          0,
          1,
          2,
          3,
          4,
          5,
          6,
          7,
          8,
          9,
          10,
          11,
          12,
          13,
          14,
          15,
          16,
          17,
          18,
          19,
          20,
          21,
          22,
          23,
          24,
          25,
          26,
          27,
          28,
          29,
          30,
          31,
          32,
          33,
          34,
          35,
          36,
          37,
          38,
          39,
          40,
          41,
          42,
          43,
          44,
          45,
          46,
          47,
          48,
          49
         ],
         "y": [
          61.333333333333336,
          66.66666666666667,
          68.22222222222223,
          68.5,
          68.8,
          69.44444444444444,
          69.90476190476191,
          70,
          70.22222222222223,
          70.46666666666667,
          70.54545454545455,
          70.61111111111111,
          70.61538461538461,
          70.66666666666667,
          70.84444444444445,
          70.95833333333333,
          71.13725490196077,
          71.37037037037037,
          71.61403508771929,
          71.73333333333332,
          71.84126984126983,
          71.99999999999999,
          72.08695652173913,
          72.1388888888889,
          72.21333333333334,
          72.33333333333334,
          72.41975308641976,
          72.45238095238095,
          72.48275862068965,
          72.48888888888888,
          72.49462365591397,
          72.5,
          72.5050505050505,
          72.58823529411765,
          72.66666666666667,
          72.72222222222223,
          72.77477477477477,
          72.82456140350877,
          72.8205128205128,
          72.8,
          72.76422764227642,
          72.7936507936508,
          72.8062015503876,
          72.81818181818183,
          72.82962962962964,
          72.86956521739131,
          72.86524822695036,
          72.875,
          72.91156462585033,
          72.94666666666666
         ]
        },
        {
         "marker": {
          "maxdisplayed": 10
         },
         "mode": "lines+markers",
         "name": "Trial5",
         "type": "scatter",
         "x": [
          0
         ],
         "y": [
          53.333333333333336
         ]
        },
        {
         "marker": {
          "maxdisplayed": 10
         },
         "mode": "lines+markers",
         "name": "Trial6",
         "type": "scatter",
         "x": [
          0
         ],
         "y": [
          53.333333333333336
         ]
        },
        {
         "marker": {
          "maxdisplayed": 10
         },
         "mode": "lines+markers",
         "name": "Trial7",
         "type": "scatter",
         "x": [
          0
         ],
         "y": [
          58
         ]
        },
        {
         "marker": {
          "maxdisplayed": 10
         },
         "mode": "lines+markers",
         "name": "Trial8",
         "type": "scatter",
         "x": [
          0
         ],
         "y": [
          53.333333333333336
         ]
        },
        {
         "marker": {
          "maxdisplayed": 10
         },
         "mode": "lines+markers",
         "name": "Trial9",
         "type": "scatter",
         "x": [
          0,
          1,
          2,
          3,
          4,
          5,
          6,
          7,
          8,
          9,
          10,
          11,
          12,
          13,
          14,
          15,
          16,
          17,
          18,
          19,
          20,
          21,
          22,
          23,
          24,
          25,
          26,
          27,
          28,
          29,
          30,
          31,
          32,
          33,
          34,
          35,
          36,
          37,
          38,
          39,
          40,
          41,
          42,
          43,
          44,
          45,
          46,
          47,
          48,
          49
         ],
         "y": [
          68,
          71,
          71.1111111111111,
          72,
          72.66666666666666,
          72.77777777777777,
          72.95238095238095,
          73.58333333333333,
          74.07407407407408,
          74.53333333333333,
          74.48484848484848,
          74.38888888888889,
          74.46153846153847,
          74.38095238095238,
          74.13333333333334,
          73.79166666666667,
          73.52941176470588,
          73.4074074074074,
          73.33333333333333,
          73.23333333333332,
          73.11111111111111,
          72.96969696969697,
          72.95652173913044,
          72.8888888888889,
          72.72000000000001,
          72.58974358974359,
          72.54320987654322,
          72.52380952380953,
          72.48275862068965,
          72.42222222222222,
          72.3010752688172,
          72.27083333333334,
          72.16161616161617,
          72,
          71.80952380952381,
          71.70370370370371,
          71.56756756756756,
          71.49122807017544,
          71.47008547008546,
          71.4,
          71.3170731707317,
          71.26984126984128,
          71.25581395348837,
          71.27272727272727,
          71.25925925925925,
          71.26086956521739,
          71.27659574468085,
          71.27777777777777,
          71.25170068027211,
          71.22666666666666
         ]
        },
        {
         "marker": {
          "maxdisplayed": 10
         },
         "mode": "lines+markers",
         "name": "Trial10",
         "type": "scatter",
         "x": [
          0
         ],
         "y": [
          59.333333333333336
         ]
        },
        {
         "marker": {
          "maxdisplayed": 10
         },
         "mode": "lines+markers",
         "name": "Trial11",
         "type": "scatter",
         "x": [
          0
         ],
         "y": [
          55.333333333333336
         ]
        },
        {
         "marker": {
          "maxdisplayed": 10
         },
         "mode": "lines+markers",
         "name": "Trial12",
         "type": "scatter",
         "x": [
          0
         ],
         "y": [
          53.333333333333336
         ]
        },
        {
         "marker": {
          "maxdisplayed": 10
         },
         "mode": "lines+markers",
         "name": "Trial13",
         "type": "scatter",
         "x": [
          0,
          1,
          2,
          3,
          4,
          5,
          6,
          7,
          8,
          9,
          10,
          11,
          12,
          13,
          14,
          15,
          16,
          17,
          18,
          19,
          20,
          21,
          22,
          23,
          24,
          25,
          26,
          27,
          28,
          29,
          30,
          31,
          32,
          33,
          34,
          35,
          36,
          37,
          38,
          39,
          40,
          41,
          42,
          43,
          44,
          45,
          46,
          47,
          48,
          49
         ],
         "y": [
          71.33333333333333,
          72.33333333333333,
          72.88888888888889,
          73.5,
          73.73333333333333,
          73.55555555555556,
          73.52380952380953,
          73.91666666666667,
          74.22222222222223,
          74.33333333333334,
          74.30303030303031,
          73.83333333333333,
          73.43589743589743,
          73.47619047619047,
          73.55555555555556,
          73.70833333333334,
          73.76470588235296,
          73.70370370370372,
          73.6842105263158,
          73.63333333333335,
          73.61904761904763,
          73.63636363636364,
          73.62318840579711,
          73.6388888888889,
          73.76,
          73.82051282051283,
          73.85185185185186,
          73.80952380952382,
          73.74712643678161,
          73.6888888888889,
          73.63440860215054,
          73.625,
          73.63636363636364,
          73.68627450980392,
          73.67619047619048,
          73.72222222222223,
          73.74774774774775,
          73.78947368421053,
          73.82905982905984,
          73.85,
          73.83739837398375,
          73.84126984126985,
          73.8294573643411,
          73.83333333333334,
          73.88148148148149,
          73.94202898550725,
          73.95744680851064,
          73.97222222222223,
          73.97278911564626,
          73.93333333333334
         ]
        },
        {
         "marker": {
          "maxdisplayed": 10
         },
         "mode": "lines+markers",
         "name": "Trial14",
         "type": "scatter",
         "x": [
          0
         ],
         "y": [
          57.333333333333336
         ]
        },
        {
         "marker": {
          "maxdisplayed": 10
         },
         "mode": "lines+markers",
         "name": "Trial15",
         "type": "scatter",
         "x": [
          0,
          1,
          2,
          3,
          4,
          5,
          6,
          7,
          8,
          9,
          10,
          11,
          12,
          13,
          14,
          15,
          16,
          17,
          18,
          19,
          20,
          21,
          22,
          23,
          24,
          25,
          26,
          27,
          28,
          29,
          30,
          31,
          32,
          33,
          34,
          35,
          36,
          37,
          38,
          39,
          40,
          41,
          42,
          43,
          44,
          45,
          46,
          47,
          48,
          49
         ],
         "y": [
          74.66666666666667,
          71,
          70.66666666666667,
          71.66666666666667,
          72.26666666666668,
          72.55555555555556,
          72.95238095238095,
          73.33333333333334,
          73.55555555555557,
          73.80000000000001,
          73.87878787878789,
          73.8888888888889,
          73.74358974358975,
          73.76190476190477,
          73.77777777777779,
          73.79166666666667,
          73.80392156862746,
          73.85185185185186,
          73.96491228070177,
          74.00000000000001,
          74.00000000000001,
          73.96969696969698,
          73.85507246376812,
          73.77777777777777,
          73.86666666666666,
          73.76923076923076,
          73.62962962962962,
          73.5,
          73.47126436781609,
          73.35555555555555,
          73.31182795698925,
          73.3125,
          73.29292929292929,
          73.27450980392156,
          73.25714285714284,
          73.16666666666666,
          73.1171171171171,
          73.10526315789473,
          73.12820512820511,
          73.06666666666668,
          73.0569105691057,
          73.04761904761905,
          73.05426356589147,
          73.03030303030303,
          72.9925925925926,
          72.92753623188406,
          72.89361702127661,
          72.81944444444444,
          72.82993197278911,
          72.86666666666666
         ]
        },
        {
         "marker": {
          "maxdisplayed": 10
         },
         "mode": "lines+markers",
         "name": "Trial16",
         "type": "scatter",
         "x": [
          0
         ],
         "y": [
          46.666666666666664
         ]
        },
        {
         "marker": {
          "maxdisplayed": 10
         },
         "mode": "lines+markers",
         "name": "Trial17",
         "type": "scatter",
         "x": [
          0,
          1,
          2,
          3,
          4,
          5,
          6,
          7,
          8,
          9,
          10,
          11,
          12,
          13,
          14,
          15,
          16,
          17,
          18,
          19,
          20,
          21,
          22,
          23,
          24,
          25,
          26,
          27,
          28,
          29,
          30,
          31,
          32,
          33,
          34,
          35,
          36,
          37,
          38,
          39,
          40,
          41,
          42,
          43,
          44,
          45,
          46,
          47,
          48,
          49
         ],
         "y": [
          69.33333333333333,
          71,
          71.33333333333333,
          71.16666666666667,
          71.6,
          71.88888888888889,
          72.28571428571429,
          72.58333333333334,
          72.51851851851853,
          72.66666666666667,
          72.90909090909092,
          72.83333333333334,
          72.92307692307693,
          72.66666666666667,
          72.62222222222223,
          72.58333333333334,
          72.50980392156863,
          72.25925925925927,
          72.10526315789474,
          71.96666666666667,
          71.87301587301587,
          71.66666666666666,
          71.42028985507245,
          71.25,
          71.12,
          71.05128205128204,
          70.76543209876543,
          70.45238095238095,
          70.16091954022988,
          69.95555555555555,
          69.80645161290323,
          69.66666666666666,
          69.55555555555554,
          69.4705882352941,
          69.37142857142855,
          69.35185185185183,
          69.40540540540539,
          69.45614035087719,
          69.47008547008546,
          69.43333333333332,
          69.46341463414633,
          69.49206349206348,
          69.48837209302324,
          69.46969696969695,
          69.45185185185184,
          69.40579710144927,
          69.33333333333331,
          69.33333333333333,
          69.36054421768708,
          69.44
         ]
        },
        {
         "marker": {
          "maxdisplayed": 10
         },
         "mode": "lines+markers",
         "name": "Trial18",
         "type": "scatter",
         "x": [
          0
         ],
         "y": [
          52
         ]
        },
        {
         "marker": {
          "maxdisplayed": 10
         },
         "mode": "lines+markers",
         "name": "Trial19",
         "type": "scatter",
         "x": [
          0
         ],
         "y": [
          48
         ]
        },
        {
         "marker": {
          "maxdisplayed": 10
         },
         "mode": "lines+markers",
         "name": "Trial20",
         "type": "scatter",
         "x": [
          0
         ],
         "y": [
          62.666666666666664
         ]
        },
        {
         "marker": {
          "maxdisplayed": 10
         },
         "mode": "lines+markers",
         "name": "Trial21",
         "type": "scatter",
         "x": [
          0,
          1,
          2,
          3,
          4,
          5,
          6,
          7,
          8,
          9,
          10,
          11,
          12,
          13,
          14,
          15,
          16,
          17,
          18,
          19,
          20,
          21,
          22,
          23,
          24,
          25,
          26,
          27,
          28,
          29,
          30,
          31,
          32,
          33,
          34,
          35,
          36,
          37,
          38,
          39,
          40,
          41,
          42,
          43,
          44,
          45,
          46,
          47,
          48,
          49
         ],
         "y": [
          71.33333333333333,
          73.66666666666666,
          73.55555555555554,
          73.83333333333333,
          74,
          74,
          73.90476190476191,
          73.83333333333334,
          73.92592592592592,
          73.93333333333334,
          74.12121212121212,
          74,
          73.8974358974359,
          73.9047619047619,
          73.82222222222222,
          73.70833333333334,
          73.5294117647059,
          73.33333333333334,
          73.15789473684212,
          72.93333333333335,
          72.66666666666667,
          72.42424242424244,
          72.14492753623189,
          71.94444444444444,
          71.81333333333333,
          71.74358974358974,
          71.70370370370371,
          71.66666666666667,
          71.63218390804599,
          71.53333333333333,
          71.3763440860215,
          71.3125,
          71.29292929292929,
          71.31372549019608,
          71.31428571428572,
          71.25925925925927,
          71.15315315315316,
          71.05263157894738,
          70.92307692307693,
          70.76666666666667,
          70.6829268292683,
          70.60317460317461,
          70.51162790697674,
          70.43939393939394,
          70.35555555555555,
          70.26086956521739,
          70.1418439716312,
          70.06944444444444,
          69.98639455782313,
          69.93333333333334
         ]
        },
        {
         "marker": {
          "maxdisplayed": 10
         },
         "mode": "lines+markers",
         "name": "Trial22",
         "type": "scatter",
         "x": [
          0,
          1,
          2,
          3,
          4,
          5,
          6,
          7,
          8,
          9,
          10,
          11,
          12,
          13,
          14,
          15,
          16,
          17,
          18,
          19,
          20,
          21,
          22,
          23,
          24,
          25,
          26,
          27,
          28,
          29,
          30,
          31,
          32,
          33,
          34,
          35,
          36,
          37,
          38,
          39,
          40,
          41,
          42,
          43,
          44,
          45,
          46,
          47,
          48,
          49
         ],
         "y": [
          74,
          75.33333333333334,
          74,
          74.33333333333333,
          74,
          73.44444444444444,
          73.52380952380953,
          73.58333333333334,
          73.48148148148148,
          73.13333333333334,
          72.96969696969698,
          72.77777777777779,
          72.76923076923077,
          72.66666666666667,
          72.53333333333333,
          72.20833333333334,
          71.9607843137255,
          71.77777777777779,
          71.61403508771932,
          71.50000000000001,
          71.46031746031747,
          71.3939393939394,
          71.33333333333334,
          71.27777777777779,
          71.2,
          71.17948717948718,
          71.18518518518519,
          71.23809523809524,
          71.2183908045977,
          71.26666666666667,
          71.29032258064517,
          71.25,
          71.15151515151516,
          71.09803921568628,
          71.00952380952381,
          70.98148148148148,
          70.95495495495496,
          70.89473684210526,
          70.90598290598291,
          70.93333333333332,
          70.91056910569105,
          70.9047619047619,
          70.85271317829456,
          70.83333333333331,
          70.8148148148148,
          70.76811594202897,
          70.75177304964538,
          70.75,
          70.70748299319727,
          70.68
         ]
        },
        {
         "marker": {
          "maxdisplayed": 10
         },
         "mode": "lines+markers",
         "name": "Trial23",
         "type": "scatter",
         "x": [
          0
         ],
         "y": [
          53.333333333333336
         ]
        },
        {
         "marker": {
          "maxdisplayed": 10
         },
         "mode": "lines+markers",
         "name": "Trial24",
         "type": "scatter",
         "x": [
          0
         ],
         "y": [
          64.66666666666667
         ]
        },
        {
         "marker": {
          "maxdisplayed": 10
         },
         "mode": "lines+markers",
         "name": "Trial25",
         "type": "scatter",
         "x": [
          0,
          1,
          2,
          3,
          4,
          5,
          6,
          7,
          8,
          9,
          10,
          11,
          12,
          13,
          14,
          15,
          16,
          17,
          18,
          19,
          20,
          21,
          22,
          23,
          24,
          25,
          26,
          27,
          28,
          29,
          30,
          31,
          32,
          33,
          34,
          35,
          36,
          37,
          38,
          39,
          40,
          41,
          42,
          43,
          44,
          45,
          46,
          47,
          48,
          49
         ],
         "y": [
          72.66666666666667,
          74,
          73.77777777777777,
          73.5,
          73.06666666666666,
          72.77777777777777,
          72.66666666666666,
          72.75,
          72.66666666666667,
          72.6,
          72.78787878787878,
          72.94444444444444,
          73.07692307692307,
          73.14285714285714,
          73.15555555555555,
          72.95833333333334,
          72.90196078431373,
          72.96296296296298,
          73.01754385964914,
          72.9,
          72.85714285714286,
          72.81818181818183,
          72.78260869565219,
          72.77777777777777,
          72.8,
          72.89743589743588,
          73.06172839506172,
          73.1190476190476,
          73.12643678160919,
          73.13333333333334,
          73.16129032258064,
          73.1875,
          73.15151515151516,
          73.17647058823529,
          73.18095238095239,
          73.18518518518519,
          73.20720720720722,
          73.19298245614036,
          73.16239316239317,
          73.2,
          73.23577235772358,
          73.3015873015873,
          73.36434108527132,
          73.4090909090909,
          73.45185185185186,
          73.43478260869566,
          73.44680851063829,
          73.41666666666667,
          73.38775510204081,
          73.34666666666666
         ]
        },
        {
         "marker": {
          "maxdisplayed": 10
         },
         "mode": "lines+markers",
         "name": "Trial26",
         "type": "scatter",
         "x": [
          0
         ],
         "y": [
          62
         ]
        },
        {
         "marker": {
          "maxdisplayed": 10
         },
         "mode": "lines+markers",
         "name": "Trial27",
         "type": "scatter",
         "x": [
          0
         ],
         "y": [
          54.666666666666664
         ]
        },
        {
         "marker": {
          "maxdisplayed": 10
         },
         "mode": "lines+markers",
         "name": "Trial28",
         "type": "scatter",
         "x": [
          0
         ],
         "y": [
          64.66666666666667
         ]
        },
        {
         "marker": {
          "maxdisplayed": 10
         },
         "mode": "lines+markers",
         "name": "Trial29",
         "type": "scatter",
         "x": [
          0,
          1,
          2,
          3,
          4,
          5,
          6,
          7,
          8,
          9,
          10,
          11,
          12,
          13,
          14,
          15,
          16,
          17,
          18,
          19,
          20,
          21,
          22,
          23,
          24,
          25,
          26,
          27,
          28,
          29,
          30,
          31,
          32,
          33,
          34,
          35,
          36,
          37,
          38,
          39,
          40,
          41,
          42,
          43,
          44,
          45,
          46,
          47,
          48,
          49
         ],
         "y": [
          72.66666666666667,
          71.33333333333334,
          73.11111111111113,
          74.00000000000001,
          74.66666666666667,
          74.8888888888889,
          75.23809523809526,
          75.41666666666666,
          75.7037037037037,
          75.66666666666666,
          75.75757575757575,
          75.49999999999999,
          75.28205128205127,
          75.14285714285712,
          74.93333333333332,
          74.70833333333334,
          74.54901960784315,
          74.44444444444446,
          74.38596491228071,
          74.13333333333334,
          74,
          73.84848484848486,
          73.79710144927537,
          73.75,
          73.62666666666667,
          73.48717948717949,
          73.28395061728395,
          73.14285714285714,
          72.9425287356322,
          72.73333333333333,
          72.64516129032258,
          72.66666666666666,
          72.64646464646464,
          72.6078431372549,
          72.53333333333333,
          72.4074074074074,
          72.27027027027027,
          72.10526315789474,
          72.01709401709401,
          72.03333333333333,
          72.03252032520325,
          72.07936507936509,
          72.09302325581395,
          72.12121212121212,
          72.07407407407408,
          71.94202898550725,
          71.88652482269504,
          71.83333333333333,
          71.7687074829932,
          71.76
         ]
        },
        {
         "marker": {
          "maxdisplayed": 10
         },
         "mode": "lines+markers",
         "name": "Trial30",
         "type": "scatter",
         "x": [
          0
         ],
         "y": [
          45.333333333333336
         ]
        },
        {
         "marker": {
          "maxdisplayed": 10
         },
         "mode": "lines+markers",
         "name": "Trial31",
         "type": "scatter",
         "x": [
          0
         ],
         "y": [
          53.333333333333336
         ]
        },
        {
         "marker": {
          "maxdisplayed": 10
         },
         "mode": "lines+markers",
         "name": "Trial32",
         "type": "scatter",
         "x": [
          0,
          1
         ],
         "y": [
          69.33333333333333,
          63.33333333333333
         ]
        },
        {
         "marker": {
          "maxdisplayed": 10
         },
         "mode": "lines+markers",
         "name": "Trial33",
         "type": "scatter",
         "x": [
          0,
          1
         ],
         "y": [
          69.33333333333333,
          69.66666666666666
         ]
        },
        {
         "marker": {
          "maxdisplayed": 10
         },
         "mode": "lines+markers",
         "name": "Trial34",
         "type": "scatter",
         "x": [
          0
         ],
         "y": [
          53.333333333333336
         ]
        },
        {
         "marker": {
          "maxdisplayed": 10
         },
         "mode": "lines+markers",
         "name": "Trial35",
         "type": "scatter",
         "x": [
          0
         ],
         "y": [
          46.666666666666664
         ]
        },
        {
         "marker": {
          "maxdisplayed": 10
         },
         "mode": "lines+markers",
         "name": "Trial36",
         "type": "scatter",
         "x": [
          0,
          1,
          2,
          3,
          4,
          5,
          6,
          7,
          8,
          9,
          10,
          11,
          12,
          13,
          14,
          15,
          16,
          17,
          18,
          19,
          20,
          21,
          22,
          23,
          24,
          25,
          26,
          27,
          28,
          29,
          30,
          31,
          32,
          33,
          34,
          35,
          36,
          37,
          38,
          39,
          40,
          41,
          42,
          43,
          44,
          45,
          46,
          47,
          48,
          49
         ],
         "y": [
          75.33333333333333,
          76.66666666666666,
          76,
          76,
          75.6,
          75.66666666666667,
          75.80952380952381,
          76,
          75.77777777777777,
          75.6,
          75.33333333333333,
          75.16666666666667,
          74.92307692307692,
          74.90476190476191,
          74.84444444444445,
          74.54166666666667,
          74.3529411764706,
          74.25925925925927,
          74.17543859649123,
          74.16666666666667,
          74.22222222222223,
          74.27272727272727,
          74.14492753623188,
          73.97222222222221,
          73.89333333333333,
          73.84615384615384,
          73.72839506172839,
          73.71428571428571,
          73.72413793103448,
          73.73333333333333,
          73.72043010752688,
          73.64583333333333,
          73.63636363636364,
          73.6470588235294,
          73.6952380952381,
          73.62962962962963,
          73.62162162162163,
          73.5263157894737,
          73.52136752136754,
          73.5,
          73.41463414634147,
          73.38095238095238,
          73.34883720930233,
          73.34848484848486,
          73.36296296296297,
          73.36231884057972,
          73.34751773049646,
          73.29166666666667,
          73.27891156462584,
          73.22666666666666
         ]
        },
        {
         "marker": {
          "maxdisplayed": 10
         },
         "mode": "lines+markers",
         "name": "Trial37",
         "type": "scatter",
         "x": [
          0
         ],
         "y": [
          66
         ]
        },
        {
         "marker": {
          "maxdisplayed": 10
         },
         "mode": "lines+markers",
         "name": "Trial38",
         "type": "scatter",
         "x": [
          0
         ],
         "y": [
          60.666666666666664
         ]
        },
        {
         "marker": {
          "maxdisplayed": 10
         },
         "mode": "lines+markers",
         "name": "Trial39",
         "type": "scatter",
         "x": [
          0,
          1,
          2,
          3,
          4,
          5,
          6,
          7,
          8,
          9,
          10,
          11,
          12,
          13,
          14,
          15,
          16,
          17,
          18,
          19,
          20,
          21,
          22,
          23,
          24,
          25,
          26,
          27,
          28,
          29,
          30,
          31,
          32,
          33,
          34,
          35,
          36,
          37,
          38,
          39,
          40,
          41,
          42,
          43,
          44,
          45,
          46,
          47,
          48,
          49
         ],
         "y": [
          76,
          75.66666666666666,
          75.55555555555554,
          75.16666666666666,
          74.79999999999998,
          74.44444444444444,
          74.57142857142857,
          74.41666666666666,
          74.51851851851852,
          74.6,
          74.66666666666667,
          74.66666666666667,
          74.61538461538461,
          74.52380952380952,
          74.57777777777777,
          74.45833333333334,
          74.47058823529413,
          74.33333333333334,
          74.28070175438597,
          74.26666666666668,
          74.22222222222223,
          74.15151515151516,
          73.97101449275362,
          73.8611111111111,
          73.75999999999999,
          73.66666666666666,
          73.62962962962962,
          73.57142857142857,
          73.56321839080461,
          73.46666666666667,
          73.50537634408602,
          73.5,
          73.47474747474747,
          73.37254901960785,
          73.27619047619048,
          73.18518518518518,
          73.08108108108108,
          72.96491228070175,
          72.85470085470085,
          72.75,
          72.66666666666667,
          72.5873015873016,
          72.49612403100775,
          72.43939393939394,
          72.44444444444444,
          72.44927536231884,
          72.43971631205673,
          72.38888888888889,
          72.38095238095238,
          72.32
         ]
        },
        {
         "marker": {
          "maxdisplayed": 10
         },
         "mode": "lines+markers",
         "name": "Trial40",
         "type": "scatter",
         "x": [
          0
         ],
         "y": [
          56
         ]
        },
        {
         "marker": {
          "maxdisplayed": 10
         },
         "mode": "lines+markers",
         "name": "Trial41",
         "type": "scatter",
         "x": [
          0
         ],
         "y": [
          62.666666666666664
         ]
        },
        {
         "marker": {
          "maxdisplayed": 10
         },
         "mode": "lines+markers",
         "name": "Trial42",
         "type": "scatter",
         "x": [
          0
         ],
         "y": [
          70
         ]
        },
        {
         "marker": {
          "maxdisplayed": 10
         },
         "mode": "lines+markers",
         "name": "Trial43",
         "type": "scatter",
         "x": [
          0
         ],
         "y": [
          53.333333333333336
         ]
        },
        {
         "marker": {
          "maxdisplayed": 10
         },
         "mode": "lines+markers",
         "name": "Trial44",
         "type": "scatter",
         "x": [
          0
         ],
         "y": [
          64.66666666666667
         ]
        },
        {
         "marker": {
          "maxdisplayed": 10
         },
         "mode": "lines+markers",
         "name": "Trial45",
         "type": "scatter",
         "x": [
          0
         ],
         "y": [
          54.666666666666664
         ]
        },
        {
         "marker": {
          "maxdisplayed": 10
         },
         "mode": "lines+markers",
         "name": "Trial46",
         "type": "scatter",
         "x": [
          0
         ],
         "y": [
          61.333333333333336
         ]
        },
        {
         "marker": {
          "maxdisplayed": 10
         },
         "mode": "lines+markers",
         "name": "Trial47",
         "type": "scatter",
         "x": [
          0
         ],
         "y": [
          66
         ]
        },
        {
         "marker": {
          "maxdisplayed": 10
         },
         "mode": "lines+markers",
         "name": "Trial48",
         "type": "scatter",
         "x": [
          0
         ],
         "y": [
          52.666666666666664
         ]
        },
        {
         "marker": {
          "maxdisplayed": 10
         },
         "mode": "lines+markers",
         "name": "Trial49",
         "type": "scatter",
         "x": [
          0
         ],
         "y": [
          56
         ]
        },
        {
         "marker": {
          "maxdisplayed": 10
         },
         "mode": "lines+markers",
         "name": "Trial50",
         "type": "scatter",
         "x": [
          0
         ],
         "y": [
          61.333333333333336
         ]
        },
        {
         "marker": {
          "maxdisplayed": 10
         },
         "mode": "lines+markers",
         "name": "Trial51",
         "type": "scatter",
         "x": [
          0,
          1,
          2
         ],
         "y": [
          72,
          70.66666666666666,
          70.66666666666667
         ]
        },
        {
         "marker": {
          "maxdisplayed": 10
         },
         "mode": "lines+markers",
         "name": "Trial52",
         "type": "scatter",
         "x": [
          0,
          1,
          2
         ],
         "y": [
          72,
          69.66666666666666,
          70.88888888888887
         ]
        },
        {
         "marker": {
          "maxdisplayed": 10
         },
         "mode": "lines+markers",
         "name": "Trial53",
         "type": "scatter",
         "x": [
          0,
          1,
          2,
          3,
          4,
          5,
          6,
          7
         ],
         "y": [
          73.33333333333333,
          68.33333333333333,
          69.55555555555556,
          70.5,
          70.93333333333334,
          71.55555555555556,
          71.90476190476191,
          72.5
         ]
        },
        {
         "marker": {
          "maxdisplayed": 10
         },
         "mode": "lines+markers",
         "name": "Trial54",
         "type": "scatter",
         "x": [
          0,
          1,
          2,
          3,
          4,
          5,
          6,
          7,
          8,
          9,
          10,
          11,
          12,
          13,
          14,
          15,
          16,
          17,
          18,
          19,
          20,
          21,
          22,
          23,
          24,
          25,
          26,
          27,
          28,
          29,
          30,
          31,
          32,
          33,
          34,
          35,
          36,
          37,
          38,
          39,
          40,
          41,
          42,
          43,
          44,
          45,
          46,
          47,
          48,
          49
         ],
         "y": [
          74,
          71,
          70.8888888888889,
          71.5,
          72,
          72.22222222222221,
          72.57142857142857,
          73.16666666666666,
          73.62962962962962,
          73.86666666666666,
          74,
          74.05555555555556,
          74.05128205128204,
          74.14285714285714,
          74.04444444444445,
          73.95833333333333,
          73.88235294117646,
          73.96296296296296,
          73.96491228070175,
          73.86666666666666,
          73.80952380952381,
          73.81818181818181,
          73.85507246376812,
          73.91666666666667,
          74,
          74.07692307692308,
          74.04938271604938,
          74.02380952380952,
          74.04597701149424,
          74.04444444444444,
          74.06451612903224,
          74.0625,
          74,
          73.96078431372548,
          73.92380952380951,
          73.88888888888887,
          73.83783783783782,
          73.859649122807,
          73.79487179487178,
          73.7,
          73.60975609756098,
          73.53968253968253,
          73.48837209302326,
          73.42424242424242,
          73.34814814814814,
          73.28985507246377,
          73.2482269503546,
          73.20833333333333,
          73.17006802721089,
          73.14666666666668
         ]
        },
        {
         "marker": {
          "maxdisplayed": 10
         },
         "mode": "lines+markers",
         "name": "Trial55",
         "type": "scatter",
         "x": [
          0
         ],
         "y": [
          67.33333333333333
         ]
        },
        {
         "marker": {
          "maxdisplayed": 10
         },
         "mode": "lines+markers",
         "name": "Trial56",
         "type": "scatter",
         "x": [
          0
         ],
         "y": [
          64.66666666666667
         ]
        },
        {
         "marker": {
          "maxdisplayed": 10
         },
         "mode": "lines+markers",
         "name": "Trial57",
         "type": "scatter",
         "x": [
          0
         ],
         "y": [
          66
         ]
        },
        {
         "marker": {
          "maxdisplayed": 10
         },
         "mode": "lines+markers",
         "name": "Trial58",
         "type": "scatter",
         "x": [
          0
         ],
         "y": [
          69.33333333333333
         ]
        },
        {
         "marker": {
          "maxdisplayed": 10
         },
         "mode": "lines+markers",
         "name": "Trial59",
         "type": "scatter",
         "x": [
          0,
          1,
          2,
          3,
          4,
          5,
          6,
          7,
          8,
          9,
          10,
          11,
          12,
          13,
          14,
          15,
          16,
          17,
          18,
          19,
          20,
          21,
          22,
          23,
          24,
          25,
          26,
          27,
          28,
          29,
          30,
          31,
          32,
          33,
          34,
          35,
          36,
          37,
          38,
          39,
          40,
          41,
          42,
          43,
          44,
          45,
          46,
          47,
          48,
          49
         ],
         "y": [
          74,
          74.33333333333334,
          75.33333333333333,
          75.16666666666667,
          75.2,
          75.66666666666667,
          75.90476190476191,
          76.16666666666666,
          76.44444444444443,
          76.6,
          76.66666666666666,
          76.66666666666666,
          76.76923076923076,
          76.76190476190474,
          76.62222222222222,
          76.45833333333334,
          76.27450980392157,
          76.14814814814815,
          76.03508771929825,
          75.93333333333334,
          75.87301587301587,
          75.7878787878788,
          75.71014492753623,
          75.66666666666667,
          75.68,
          75.61538461538461,
          75.53086419753086,
          75.5,
          75.49425287356323,
          75.44444444444444,
          75.41935483870968,
          75.45833333333334,
          75.41414141414143,
          75.3921568627451,
          75.37142857142857,
          75.31481481481482,
          75.26126126126127,
          75.2280701754386,
          75.2820512820513,
          75.3,
          75.2520325203252,
          75.25396825396827,
          75.24031007751938,
          75.21212121212122,
          75.17037037037038,
          75.15942028985508,
          75.13475177304964,
          75.125,
          75.08843537414967,
          75.08
         ]
        },
        {
         "marker": {
          "maxdisplayed": 10
         },
         "mode": "lines+markers",
         "name": "Trial60",
         "type": "scatter",
         "x": [
          0,
          1,
          2,
          3,
          4,
          5,
          6,
          7,
          8,
          9,
          10,
          11,
          12,
          13,
          14,
          15,
          16,
          17,
          18,
          19,
          20,
          21,
          22,
          23,
          24,
          25,
          26,
          27,
          28,
          29,
          30,
          31,
          32,
          33,
          34,
          35,
          36,
          37,
          38,
          39,
          40,
          41,
          42,
          43,
          44,
          45,
          46,
          47,
          48,
          49
         ],
         "y": [
          72,
          73,
          74,
          74.33333333333333,
          74.8,
          74.66666666666667,
          74.57142857142857,
          74.33333333333334,
          74.22222222222223,
          74.06666666666668,
          73.87878787878789,
          73.77777777777779,
          73.6923076923077,
          73.66666666666666,
          73.64444444444443,
          73.66666666666666,
          73.68627450980391,
          73.59259259259258,
          73.4736842105263,
          73.39999999999999,
          73.42857142857142,
          73.42424242424241,
          73.42028985507245,
          73.3611111111111,
          73.30666666666666,
          73.30769230769229,
          73.28395061728395,
          73.26190476190474,
          73.33333333333333,
          73.37777777777777,
          73.48387096774192,
          73.47916666666666,
          73.49494949494948,
          73.50980392156862,
          73.5047619047619,
          73.59259259259258,
          73.65765765765765,
          73.66666666666666,
          73.67521367521367,
          73.71666666666667,
          73.7560975609756,
          73.77777777777777,
          73.7829457364341,
          73.83333333333333,
          73.86666666666666,
          73.89855072463769,
          73.9290780141844,
          73.95833333333333,
          73.95918367346938,
          73.98666666666666
         ]
        },
        {
         "marker": {
          "maxdisplayed": 10
         },
         "mode": "lines+markers",
         "name": "Trial61",
         "type": "scatter",
         "x": [
          0
         ],
         "y": [
          62.666666666666664
         ]
        },
        {
         "marker": {
          "maxdisplayed": 10
         },
         "mode": "lines+markers",
         "name": "Trial62",
         "type": "scatter",
         "x": [
          0
         ],
         "y": [
          70.66666666666667
         ]
        },
        {
         "marker": {
          "maxdisplayed": 10
         },
         "mode": "lines+markers",
         "name": "Trial63",
         "type": "scatter",
         "x": [
          0,
          1,
          2,
          3
         ],
         "y": [
          73.33333333333333,
          72,
          71.77777777777777,
          72.33333333333333
         ]
        },
        {
         "marker": {
          "maxdisplayed": 10
         },
         "mode": "lines+markers",
         "name": "Trial64",
         "type": "scatter",
         "x": [
          0
         ],
         "y": [
          69.33333333333333
         ]
        },
        {
         "marker": {
          "maxdisplayed": 10
         },
         "mode": "lines+markers",
         "name": "Trial65",
         "type": "scatter",
         "x": [
          0
         ],
         "y": [
          68
         ]
        },
        {
         "marker": {
          "maxdisplayed": 10
         },
         "mode": "lines+markers",
         "name": "Trial66",
         "type": "scatter",
         "x": [
          0,
          1,
          2,
          3,
          4,
          5,
          6,
          7,
          8,
          9,
          10,
          11,
          12,
          13,
          14,
          15,
          16,
          17,
          18,
          19,
          20,
          21,
          22,
          23,
          24,
          25,
          26,
          27,
          28,
          29,
          30,
          31,
          32,
          33,
          34,
          35,
          36,
          37,
          38,
          39,
          40,
          41,
          42,
          43,
          44,
          45,
          46,
          47,
          48,
          49
         ],
         "y": [
          73.33333333333333,
          73.66666666666666,
          74.22222222222221,
          74.66666666666666,
          74.53333333333333,
          74.33333333333333,
          73.9047619047619,
          73.83333333333333,
          73.92592592592592,
          73.86666666666666,
          73.81818181818181,
          73.77777777777779,
          73.84615384615384,
          73.80952380952381,
          73.82222222222222,
          73.79166666666666,
          73.72549019607843,
          73.59259259259258,
          73.43859649122807,
          73.3,
          73.17460317460318,
          73.12121212121212,
          73.04347826086956,
          73,
          72.98666666666666,
          72.97435897435898,
          73.01234567901236,
          73.02380952380953,
          72.91954022988507,
          72.73333333333335,
          72.62365591397851,
          72.5,
          72.52525252525253,
          72.54901960784315,
          72.55238095238096,
          72.5925925925926,
          72.66666666666667,
          72.66666666666667,
          72.63247863247864,
          72.58333333333333,
          72.53658536585365,
          72.53968253968253,
          72.5426356589147,
          72.49999999999999,
          72.39999999999998,
          72.42028985507245,
          72.41134751773048,
          72.43055555555556,
          72.421768707483,
          72.44000000000001
         ]
        },
        {
         "marker": {
          "maxdisplayed": 10
         },
         "mode": "lines+markers",
         "name": "Trial67",
         "type": "scatter",
         "x": [
          0
         ],
         "y": [
          49.333333333333336
         ]
        },
        {
         "marker": {
          "maxdisplayed": 10
         },
         "mode": "lines+markers",
         "name": "Trial68",
         "type": "scatter",
         "x": [
          0
         ],
         "y": [
          44
         ]
        },
        {
         "marker": {
          "maxdisplayed": 10
         },
         "mode": "lines+markers",
         "name": "Trial69",
         "type": "scatter",
         "x": [
          0,
          1
         ],
         "y": [
          72,
          71.33333333333334
         ]
        },
        {
         "marker": {
          "maxdisplayed": 10
         },
         "mode": "lines+markers",
         "name": "Trial70",
         "type": "scatter",
         "x": [
          0
         ],
         "y": [
          71.33333333333333
         ]
        },
        {
         "marker": {
          "maxdisplayed": 10
         },
         "mode": "lines+markers",
         "name": "Trial71",
         "type": "scatter",
         "x": [
          0,
          1,
          2,
          3,
          4,
          5,
          6,
          7,
          8,
          9,
          10,
          11,
          12,
          13,
          14,
          15,
          16,
          17,
          18,
          19,
          20,
          21,
          22,
          23,
          24,
          25,
          26,
          27,
          28,
          29,
          30,
          31,
          32,
          33,
          34,
          35,
          36,
          37,
          38,
          39,
          40,
          41,
          42,
          43,
          44,
          45,
          46,
          47,
          48,
          49
         ],
         "y": [
          74,
          74.33333333333334,
          74.22222222222223,
          74.5,
          74.93333333333334,
          75.11111111111111,
          75.14285714285714,
          75.25,
          75.18518518518518,
          75.06666666666666,
          74.9090909090909,
          74.77777777777779,
          74.61538461538461,
          74.57142857142857,
          74.53333333333333,
          74.29166666666667,
          73.92156862745098,
          73.66666666666667,
          73.50877192982456,
          73.3,
          73.01587301587301,
          72.84848484848484,
          72.7536231884058,
          72.52777777777779,
          72.26666666666667,
          72.05128205128206,
          72.00000000000001,
          71.90476190476191,
          71.79310344827586,
          71.68888888888888,
          71.54838709677419,
          71.41666666666667,
          71.39393939393939,
          71.41176470588235,
          71.31428571428572,
          71.24074074074073,
          71.1891891891892,
          71.05263157894737,
          70.94017094017093,
          70.88333333333334,
          70.8130081300813,
          70.6984126984127,
          70.65116279069767,
          70.60606060606061,
          70.60740740740741,
          70.55072463768116,
          70.45390070921985,
          70.38888888888889,
          70.29931972789116,
          70.21333333333332
         ]
        },
        {
         "marker": {
          "maxdisplayed": 10
         },
         "mode": "lines+markers",
         "name": "Trial72",
         "type": "scatter",
         "x": [
          0
         ],
         "y": [
          72
         ]
        },
        {
         "marker": {
          "maxdisplayed": 10
         },
         "mode": "lines+markers",
         "name": "Trial73",
         "type": "scatter",
         "x": [
          0
         ],
         "y": [
          68
         ]
        },
        {
         "marker": {
          "maxdisplayed": 10
         },
         "mode": "lines+markers",
         "name": "Trial74",
         "type": "scatter",
         "x": [
          0
         ],
         "y": [
          66.66666666666667
         ]
        },
        {
         "marker": {
          "maxdisplayed": 10
         },
         "mode": "lines+markers",
         "name": "Trial75",
         "type": "scatter",
         "x": [
          0,
          1,
          2,
          3
         ],
         "y": [
          73.33333333333333,
          70.33333333333333,
          70,
          71
         ]
        },
        {
         "marker": {
          "maxdisplayed": 10
         },
         "mode": "lines+markers",
         "name": "Trial76",
         "type": "scatter",
         "x": [
          0
         ],
         "y": [
          70
         ]
        },
        {
         "marker": {
          "maxdisplayed": 10
         },
         "mode": "lines+markers",
         "name": "Trial77",
         "type": "scatter",
         "x": [
          0
         ],
         "y": [
          46.666666666666664
         ]
        },
        {
         "marker": {
          "maxdisplayed": 10
         },
         "mode": "lines+markers",
         "name": "Trial78",
         "type": "scatter",
         "x": [
          0
         ],
         "y": [
          46.666666666666664
         ]
        },
        {
         "marker": {
          "maxdisplayed": 10
         },
         "mode": "lines+markers",
         "name": "Trial79",
         "type": "scatter",
         "x": [
          0
         ],
         "y": [
          46.666666666666664
         ]
        },
        {
         "marker": {
          "maxdisplayed": 10
         },
         "mode": "lines+markers",
         "name": "Trial80",
         "type": "scatter",
         "x": [
          0,
          1,
          2
         ],
         "y": [
          72.66666666666667,
          70.33333333333334,
          71.77777777777779
         ]
        },
        {
         "marker": {
          "maxdisplayed": 10
         },
         "mode": "lines+markers",
         "name": "Trial81",
         "type": "scatter",
         "x": [
          0,
          1,
          2,
          3,
          4,
          5,
          6,
          7,
          8,
          9,
          10,
          11,
          12,
          13,
          14,
          15,
          16,
          17,
          18,
          19,
          20,
          21,
          22,
          23,
          24,
          25,
          26,
          27,
          28,
          29,
          30,
          31,
          32,
          33,
          34,
          35,
          36,
          37,
          38,
          39,
          40,
          41,
          42,
          43,
          44,
          45,
          46,
          47,
          48,
          49
         ],
         "y": [
          73.33333333333333,
          75,
          74.8888888888889,
          75.16666666666667,
          75.06666666666668,
          74.55555555555556,
          74.3809523809524,
          73.58333333333334,
          73.18518518518519,
          73.20000000000002,
          73.09090909090911,
          73.11111111111113,
          73.07692307692308,
          73.00000000000001,
          72.97777777777779,
          72.79166666666666,
          72.62745098039215,
          72.48148148148147,
          72.3859649122807,
          72.33333333333333,
          72.22222222222221,
          72.2121212121212,
          72.17391304347825,
          72.05555555555556,
          71.92,
          71.87179487179488,
          71.70370370370371,
          71.66666666666667,
          71.60919540229887,
          71.51111111111112,
          71.3978494623656,
          71.3125,
          71.1919191919192,
          71.15686274509804,
          71.10476190476192,
          71.05555555555557,
          70.990990990991,
          70.98245614035088,
          70.92307692307692,
          70.86666666666667,
          70.82926829268294,
          70.79365079365081,
          70.79069767441861,
          70.86363636363637,
          70.8888888888889,
          70.92753623188406,
          70.93617021276597,
          70.93055555555556,
          70.91156462585035,
          70.92000000000002
         ]
        },
        {
         "marker": {
          "maxdisplayed": 10
         },
         "mode": "lines+markers",
         "name": "Trial82",
         "type": "scatter",
         "x": [
          0
         ],
         "y": [
          69.33333333333333
         ]
        },
        {
         "marker": {
          "maxdisplayed": 10
         },
         "mode": "lines+markers",
         "name": "Trial83",
         "type": "scatter",
         "x": [
          0
         ],
         "y": [
          71.33333333333333
         ]
        },
        {
         "marker": {
          "maxdisplayed": 10
         },
         "mode": "lines+markers",
         "name": "Trial84",
         "type": "scatter",
         "x": [
          0
         ],
         "y": [
          70.66666666666667
         ]
        },
        {
         "marker": {
          "maxdisplayed": 10
         },
         "mode": "lines+markers",
         "name": "Trial85",
         "type": "scatter",
         "x": [
          0
         ],
         "y": [
          53.333333333333336
         ]
        },
        {
         "marker": {
          "maxdisplayed": 10
         },
         "mode": "lines+markers",
         "name": "Trial86",
         "type": "scatter",
         "x": [
          0,
          1
         ],
         "y": [
          72.66666666666667,
          69
         ]
        },
        {
         "marker": {
          "maxdisplayed": 10
         },
         "mode": "lines+markers",
         "name": "Trial87",
         "type": "scatter",
         "x": [
          0
         ],
         "y": [
          70.66666666666667
         ]
        },
        {
         "marker": {
          "maxdisplayed": 10
         },
         "mode": "lines+markers",
         "name": "Trial88",
         "type": "scatter",
         "x": [
          0
         ],
         "y": [
          68.66666666666667
         ]
        },
        {
         "marker": {
          "maxdisplayed": 10
         },
         "mode": "lines+markers",
         "name": "Trial89",
         "type": "scatter",
         "x": [
          0
         ],
         "y": [
          68
         ]
        },
        {
         "marker": {
          "maxdisplayed": 10
         },
         "mode": "lines+markers",
         "name": "Trial90",
         "type": "scatter",
         "x": [
          0
         ],
         "y": [
          66.66666666666667
         ]
        },
        {
         "marker": {
          "maxdisplayed": 10
         },
         "mode": "lines+markers",
         "name": "Trial91",
         "type": "scatter",
         "x": [
          0,
          1,
          2,
          3,
          4
         ],
         "y": [
          72.66666666666667,
          73.66666666666667,
          72.8888888888889,
          73,
          72.66666666666666
         ]
        },
        {
         "marker": {
          "maxdisplayed": 10
         },
         "mode": "lines+markers",
         "name": "Trial92",
         "type": "scatter",
         "x": [
          0,
          1,
          2,
          3,
          4,
          5,
          6,
          7,
          8,
          9,
          10,
          11,
          12,
          13,
          14,
          15,
          16,
          17,
          18,
          19,
          20,
          21,
          22,
          23,
          24,
          25,
          26,
          27,
          28,
          29,
          30,
          31,
          32,
          33,
          34,
          35,
          36,
          37,
          38,
          39,
          40,
          41,
          42,
          43,
          44,
          45,
          46,
          47,
          48,
          49
         ],
         "y": [
          74,
          75,
          75.55555555555556,
          75.16666666666667,
          75.06666666666668,
          75.8888888888889,
          76.3809523809524,
          76.33333333333334,
          76.37037037037038,
          76.53333333333333,
          76.42424242424244,
          76.27777777777779,
          76.1025641025641,
          75.85714285714286,
          75.64444444444445,
          75.41666666666667,
          75.33333333333334,
          75.03703703703704,
          74.80701754385966,
          74.76666666666668,
          74.60317460317461,
          74.60606060606061,
          74.55072463768116,
          74.44444444444444,
          74.37333333333333,
          74.33333333333334,
          74.27160493827161,
          74.16666666666667,
          74.04597701149426,
          73.97777777777779,
          73.89247311827958,
          73.89583333333333,
          73.8989898989899,
          73.90196078431372,
          73.86666666666666,
          73.83333333333331,
          73.81981981981981,
          73.84210526315788,
          73.84615384615384,
          73.83333333333334,
          73.83739837398375,
          73.7936507936508,
          73.73643410852713,
          73.71212121212122,
          73.67407407407407,
          73.62318840579711,
          73.53191489361703,
          73.47222222222223,
          73.4013605442177,
          73.32000000000001
         ]
        },
        {
         "marker": {
          "maxdisplayed": 10
         },
         "mode": "lines+markers",
         "name": "Trial93",
         "type": "scatter",
         "x": [
          0
         ],
         "y": [
          71.33333333333333
         ]
        },
        {
         "marker": {
          "maxdisplayed": 10
         },
         "mode": "lines+markers",
         "name": "Trial94",
         "type": "scatter",
         "x": [
          0
         ],
         "y": [
          71.33333333333333
         ]
        },
        {
         "marker": {
          "maxdisplayed": 10
         },
         "mode": "lines+markers",
         "name": "Trial95",
         "type": "scatter",
         "x": [
          0
         ],
         "y": [
          71.33333333333333
         ]
        },
        {
         "marker": {
          "maxdisplayed": 10
         },
         "mode": "lines+markers",
         "name": "Trial96",
         "type": "scatter",
         "x": [
          0
         ],
         "y": [
          54.666666666666664
         ]
        },
        {
         "marker": {
          "maxdisplayed": 10
         },
         "mode": "lines+markers",
         "name": "Trial97",
         "type": "scatter",
         "x": [
          0
         ],
         "y": [
          61.333333333333336
         ]
        },
        {
         "marker": {
          "maxdisplayed": 10
         },
         "mode": "lines+markers",
         "name": "Trial98",
         "type": "scatter",
         "x": [
          0
         ],
         "y": [
          70
         ]
        },
        {
         "marker": {
          "maxdisplayed": 10
         },
         "mode": "lines+markers",
         "name": "Trial99",
         "type": "scatter",
         "x": [
          0
         ],
         "y": [
          46.666666666666664
         ]
        }
       ],
       "layout": {
        "showlegend": false,
        "template": {
         "data": {
          "bar": [
           {
            "error_x": {
             "color": "#2a3f5f"
            },
            "error_y": {
             "color": "#2a3f5f"
            },
            "marker": {
             "line": {
              "color": "#E5ECF6",
              "width": 0.5
             },
             "pattern": {
              "fillmode": "overlay",
              "size": 10,
              "solidity": 0.2
             }
            },
            "type": "bar"
           }
          ],
          "barpolar": [
           {
            "marker": {
             "line": {
              "color": "#E5ECF6",
              "width": 0.5
             },
             "pattern": {
              "fillmode": "overlay",
              "size": 10,
              "solidity": 0.2
             }
            },
            "type": "barpolar"
           }
          ],
          "carpet": [
           {
            "aaxis": {
             "endlinecolor": "#2a3f5f",
             "gridcolor": "white",
             "linecolor": "white",
             "minorgridcolor": "white",
             "startlinecolor": "#2a3f5f"
            },
            "baxis": {
             "endlinecolor": "#2a3f5f",
             "gridcolor": "white",
             "linecolor": "white",
             "minorgridcolor": "white",
             "startlinecolor": "#2a3f5f"
            },
            "type": "carpet"
           }
          ],
          "choropleth": [
           {
            "colorbar": {
             "outlinewidth": 0,
             "ticks": ""
            },
            "type": "choropleth"
           }
          ],
          "contour": [
           {
            "colorbar": {
             "outlinewidth": 0,
             "ticks": ""
            },
            "colorscale": [
             [
              0,
              "#0d0887"
             ],
             [
              0.1111111111111111,
              "#46039f"
             ],
             [
              0.2222222222222222,
              "#7201a8"
             ],
             [
              0.3333333333333333,
              "#9c179e"
             ],
             [
              0.4444444444444444,
              "#bd3786"
             ],
             [
              0.5555555555555556,
              "#d8576b"
             ],
             [
              0.6666666666666666,
              "#ed7953"
             ],
             [
              0.7777777777777778,
              "#fb9f3a"
             ],
             [
              0.8888888888888888,
              "#fdca26"
             ],
             [
              1,
              "#f0f921"
             ]
            ],
            "type": "contour"
           }
          ],
          "contourcarpet": [
           {
            "colorbar": {
             "outlinewidth": 0,
             "ticks": ""
            },
            "type": "contourcarpet"
           }
          ],
          "heatmap": [
           {
            "colorbar": {
             "outlinewidth": 0,
             "ticks": ""
            },
            "colorscale": [
             [
              0,
              "#0d0887"
             ],
             [
              0.1111111111111111,
              "#46039f"
             ],
             [
              0.2222222222222222,
              "#7201a8"
             ],
             [
              0.3333333333333333,
              "#9c179e"
             ],
             [
              0.4444444444444444,
              "#bd3786"
             ],
             [
              0.5555555555555556,
              "#d8576b"
             ],
             [
              0.6666666666666666,
              "#ed7953"
             ],
             [
              0.7777777777777778,
              "#fb9f3a"
             ],
             [
              0.8888888888888888,
              "#fdca26"
             ],
             [
              1,
              "#f0f921"
             ]
            ],
            "type": "heatmap"
           }
          ],
          "heatmapgl": [
           {
            "colorbar": {
             "outlinewidth": 0,
             "ticks": ""
            },
            "colorscale": [
             [
              0,
              "#0d0887"
             ],
             [
              0.1111111111111111,
              "#46039f"
             ],
             [
              0.2222222222222222,
              "#7201a8"
             ],
             [
              0.3333333333333333,
              "#9c179e"
             ],
             [
              0.4444444444444444,
              "#bd3786"
             ],
             [
              0.5555555555555556,
              "#d8576b"
             ],
             [
              0.6666666666666666,
              "#ed7953"
             ],
             [
              0.7777777777777778,
              "#fb9f3a"
             ],
             [
              0.8888888888888888,
              "#fdca26"
             ],
             [
              1,
              "#f0f921"
             ]
            ],
            "type": "heatmapgl"
           }
          ],
          "histogram": [
           {
            "marker": {
             "pattern": {
              "fillmode": "overlay",
              "size": 10,
              "solidity": 0.2
             }
            },
            "type": "histogram"
           }
          ],
          "histogram2d": [
           {
            "colorbar": {
             "outlinewidth": 0,
             "ticks": ""
            },
            "colorscale": [
             [
              0,
              "#0d0887"
             ],
             [
              0.1111111111111111,
              "#46039f"
             ],
             [
              0.2222222222222222,
              "#7201a8"
             ],
             [
              0.3333333333333333,
              "#9c179e"
             ],
             [
              0.4444444444444444,
              "#bd3786"
             ],
             [
              0.5555555555555556,
              "#d8576b"
             ],
             [
              0.6666666666666666,
              "#ed7953"
             ],
             [
              0.7777777777777778,
              "#fb9f3a"
             ],
             [
              0.8888888888888888,
              "#fdca26"
             ],
             [
              1,
              "#f0f921"
             ]
            ],
            "type": "histogram2d"
           }
          ],
          "histogram2dcontour": [
           {
            "colorbar": {
             "outlinewidth": 0,
             "ticks": ""
            },
            "colorscale": [
             [
              0,
              "#0d0887"
             ],
             [
              0.1111111111111111,
              "#46039f"
             ],
             [
              0.2222222222222222,
              "#7201a8"
             ],
             [
              0.3333333333333333,
              "#9c179e"
             ],
             [
              0.4444444444444444,
              "#bd3786"
             ],
             [
              0.5555555555555556,
              "#d8576b"
             ],
             [
              0.6666666666666666,
              "#ed7953"
             ],
             [
              0.7777777777777778,
              "#fb9f3a"
             ],
             [
              0.8888888888888888,
              "#fdca26"
             ],
             [
              1,
              "#f0f921"
             ]
            ],
            "type": "histogram2dcontour"
           }
          ],
          "mesh3d": [
           {
            "colorbar": {
             "outlinewidth": 0,
             "ticks": ""
            },
            "type": "mesh3d"
           }
          ],
          "parcoords": [
           {
            "line": {
             "colorbar": {
              "outlinewidth": 0,
              "ticks": ""
             }
            },
            "type": "parcoords"
           }
          ],
          "pie": [
           {
            "automargin": true,
            "type": "pie"
           }
          ],
          "scatter": [
           {
            "fillpattern": {
             "fillmode": "overlay",
             "size": 10,
             "solidity": 0.2
            },
            "type": "scatter"
           }
          ],
          "scatter3d": [
           {
            "line": {
             "colorbar": {
              "outlinewidth": 0,
              "ticks": ""
             }
            },
            "marker": {
             "colorbar": {
              "outlinewidth": 0,
              "ticks": ""
             }
            },
            "type": "scatter3d"
           }
          ],
          "scattercarpet": [
           {
            "marker": {
             "colorbar": {
              "outlinewidth": 0,
              "ticks": ""
             }
            },
            "type": "scattercarpet"
           }
          ],
          "scattergeo": [
           {
            "marker": {
             "colorbar": {
              "outlinewidth": 0,
              "ticks": ""
             }
            },
            "type": "scattergeo"
           }
          ],
          "scattergl": [
           {
            "marker": {
             "colorbar": {
              "outlinewidth": 0,
              "ticks": ""
             }
            },
            "type": "scattergl"
           }
          ],
          "scattermapbox": [
           {
            "marker": {
             "colorbar": {
              "outlinewidth": 0,
              "ticks": ""
             }
            },
            "type": "scattermapbox"
           }
          ],
          "scatterpolar": [
           {
            "marker": {
             "colorbar": {
              "outlinewidth": 0,
              "ticks": ""
             }
            },
            "type": "scatterpolar"
           }
          ],
          "scatterpolargl": [
           {
            "marker": {
             "colorbar": {
              "outlinewidth": 0,
              "ticks": ""
             }
            },
            "type": "scatterpolargl"
           }
          ],
          "scatterternary": [
           {
            "marker": {
             "colorbar": {
              "outlinewidth": 0,
              "ticks": ""
             }
            },
            "type": "scatterternary"
           }
          ],
          "surface": [
           {
            "colorbar": {
             "outlinewidth": 0,
             "ticks": ""
            },
            "colorscale": [
             [
              0,
              "#0d0887"
             ],
             [
              0.1111111111111111,
              "#46039f"
             ],
             [
              0.2222222222222222,
              "#7201a8"
             ],
             [
              0.3333333333333333,
              "#9c179e"
             ],
             [
              0.4444444444444444,
              "#bd3786"
             ],
             [
              0.5555555555555556,
              "#d8576b"
             ],
             [
              0.6666666666666666,
              "#ed7953"
             ],
             [
              0.7777777777777778,
              "#fb9f3a"
             ],
             [
              0.8888888888888888,
              "#fdca26"
             ],
             [
              1,
              "#f0f921"
             ]
            ],
            "type": "surface"
           }
          ],
          "table": [
           {
            "cells": {
             "fill": {
              "color": "#EBF0F8"
             },
             "line": {
              "color": "white"
             }
            },
            "header": {
             "fill": {
              "color": "#C8D4E3"
             },
             "line": {
              "color": "white"
             }
            },
            "type": "table"
           }
          ]
         },
         "layout": {
          "annotationdefaults": {
           "arrowcolor": "#2a3f5f",
           "arrowhead": 0,
           "arrowwidth": 1
          },
          "autotypenumbers": "strict",
          "coloraxis": {
           "colorbar": {
            "outlinewidth": 0,
            "ticks": ""
           }
          },
          "colorscale": {
           "diverging": [
            [
             0,
             "#8e0152"
            ],
            [
             0.1,
             "#c51b7d"
            ],
            [
             0.2,
             "#de77ae"
            ],
            [
             0.3,
             "#f1b6da"
            ],
            [
             0.4,
             "#fde0ef"
            ],
            [
             0.5,
             "#f7f7f7"
            ],
            [
             0.6,
             "#e6f5d0"
            ],
            [
             0.7,
             "#b8e186"
            ],
            [
             0.8,
             "#7fbc41"
            ],
            [
             0.9,
             "#4d9221"
            ],
            [
             1,
             "#276419"
            ]
           ],
           "sequential": [
            [
             0,
             "#0d0887"
            ],
            [
             0.1111111111111111,
             "#46039f"
            ],
            [
             0.2222222222222222,
             "#7201a8"
            ],
            [
             0.3333333333333333,
             "#9c179e"
            ],
            [
             0.4444444444444444,
             "#bd3786"
            ],
            [
             0.5555555555555556,
             "#d8576b"
            ],
            [
             0.6666666666666666,
             "#ed7953"
            ],
            [
             0.7777777777777778,
             "#fb9f3a"
            ],
            [
             0.8888888888888888,
             "#fdca26"
            ],
            [
             1,
             "#f0f921"
            ]
           ],
           "sequentialminus": [
            [
             0,
             "#0d0887"
            ],
            [
             0.1111111111111111,
             "#46039f"
            ],
            [
             0.2222222222222222,
             "#7201a8"
            ],
            [
             0.3333333333333333,
             "#9c179e"
            ],
            [
             0.4444444444444444,
             "#bd3786"
            ],
            [
             0.5555555555555556,
             "#d8576b"
            ],
            [
             0.6666666666666666,
             "#ed7953"
            ],
            [
             0.7777777777777778,
             "#fb9f3a"
            ],
            [
             0.8888888888888888,
             "#fdca26"
            ],
            [
             1,
             "#f0f921"
            ]
           ]
          },
          "colorway": [
           "#636efa",
           "#EF553B",
           "#00cc96",
           "#ab63fa",
           "#FFA15A",
           "#19d3f3",
           "#FF6692",
           "#B6E880",
           "#FF97FF",
           "#FECB52"
          ],
          "font": {
           "color": "#2a3f5f"
          },
          "geo": {
           "bgcolor": "white",
           "lakecolor": "white",
           "landcolor": "#E5ECF6",
           "showlakes": true,
           "showland": true,
           "subunitcolor": "white"
          },
          "hoverlabel": {
           "align": "left"
          },
          "hovermode": "closest",
          "mapbox": {
           "style": "light"
          },
          "paper_bgcolor": "white",
          "plot_bgcolor": "#E5ECF6",
          "polar": {
           "angularaxis": {
            "gridcolor": "white",
            "linecolor": "white",
            "ticks": ""
           },
           "bgcolor": "#E5ECF6",
           "radialaxis": {
            "gridcolor": "white",
            "linecolor": "white",
            "ticks": ""
           }
          },
          "scene": {
           "xaxis": {
            "backgroundcolor": "#E5ECF6",
            "gridcolor": "white",
            "gridwidth": 2,
            "linecolor": "white",
            "showbackground": true,
            "ticks": "",
            "zerolinecolor": "white"
           },
           "yaxis": {
            "backgroundcolor": "#E5ECF6",
            "gridcolor": "white",
            "gridwidth": 2,
            "linecolor": "white",
            "showbackground": true,
            "ticks": "",
            "zerolinecolor": "white"
           },
           "zaxis": {
            "backgroundcolor": "#E5ECF6",
            "gridcolor": "white",
            "gridwidth": 2,
            "linecolor": "white",
            "showbackground": true,
            "ticks": "",
            "zerolinecolor": "white"
           }
          },
          "shapedefaults": {
           "line": {
            "color": "#2a3f5f"
           }
          },
          "ternary": {
           "aaxis": {
            "gridcolor": "white",
            "linecolor": "white",
            "ticks": ""
           },
           "baxis": {
            "gridcolor": "white",
            "linecolor": "white",
            "ticks": ""
           },
           "bgcolor": "#E5ECF6",
           "caxis": {
            "gridcolor": "white",
            "linecolor": "white",
            "ticks": ""
           }
          },
          "title": {
           "x": 0.05
          },
          "xaxis": {
           "automargin": true,
           "gridcolor": "white",
           "linecolor": "white",
           "ticks": "",
           "title": {
            "standoff": 15
           },
           "zerolinecolor": "white",
           "zerolinewidth": 2
          },
          "yaxis": {
           "automargin": true,
           "gridcolor": "white",
           "linecolor": "white",
           "ticks": "",
           "title": {
            "standoff": 15
           },
           "zerolinecolor": "white",
           "zerolinewidth": 2
          }
         }
        },
        "title": {
         "text": "Intermediate Values Plot"
        },
        "xaxis": {
         "title": {
          "text": "Step"
         }
        },
        "yaxis": {
         "title": {
          "text": "Intermediate Value"
         }
        }
       }
      }
     },
     "metadata": {},
     "output_type": "display_data"
    }
   ],
   "source": [
    "optuna.visualization.plot_intermediate_values(study)"
   ]
  },
  {
   "cell_type": "code",
   "execution_count": 11,
   "id": "36975487",
   "metadata": {
    "lines_to_next_cell": 2
   },
   "outputs": [],
   "source": [
    "# call function for best trial parameter extraction\n",
    "param_dict = extract_best_trial_params(study.best_params)"
   ]
  },
  {
   "cell_type": "code",
   "execution_count": 12,
   "id": "343e3219",
   "metadata": {
    "lines_to_next_cell": 2
   },
   "outputs": [
    {
     "name": "stdout",
     "output_type": "stream",
     "text": [
      "Adam\n",
      "Adam (\n",
      "Parameter Group 0\n",
      "    amsgrad: False\n",
      "    betas: (0.9, 0.999)\n",
      "    capturable: False\n",
      "    eps: 1e-08\n",
      "    foreach: None\n",
      "    lr: 0.017695626795198725\n",
      "    maximize: False\n",
      "    weight_decay: 0\n",
      ")\n",
      "Epoch 0: Validation loss decreased (inf --> 0.560359).  Saving model ...\n",
      "\t Train_Loss: 0.7184 Train_Acc: 48.167 Val_Loss: 0.5604  BEST VAL Loss: 0.5604  Val_Acc: 70.667\n",
      "\n",
      "Epoch 1: Validation loss decreased (0.560359 --> 0.554253).  Saving model ...\n",
      "\t Train_Loss: 0.6716 Train_Acc: 62.167 Val_Loss: 0.5543  BEST VAL Loss: 0.5543  Val_Acc: 73.333\n",
      "\n",
      "Epoch 2: Validation loss decreased (0.554253 --> 0.547326).  Saving model ...\n",
      "\t Train_Loss: 0.6338 Train_Acc: 65.333 Val_Loss: 0.5473  BEST VAL Loss: 0.5473  Val_Acc: 72.667\n",
      "\n",
      "Epoch 3: Validation loss decreased (0.547326 --> 0.542268).  Saving model ...\n",
      "\t Train_Loss: 0.6083 Train_Acc: 68.250 Val_Loss: 0.5423  BEST VAL Loss: 0.5423  Val_Acc: 73.333\n",
      "\n",
      "Epoch 4: Validation loss decreased (0.542268 --> 0.539848).  Saving model ...\n",
      "\t Train_Loss: 0.5883 Train_Acc: 69.833 Val_Loss: 0.5398  BEST VAL Loss: 0.5398  Val_Acc: 74.000\n",
      "\n",
      "Epoch 5: Validation loss decreased (0.539848 --> 0.539316).  Saving model ...\n",
      "\t Train_Loss: 0.5708 Train_Acc: 70.167 Val_Loss: 0.5393  BEST VAL Loss: 0.5393  Val_Acc: 74.667\n",
      "\n",
      "Epoch 6: Validation loss did not decrease\n",
      "\t Train_Loss: 0.5562 Train_Acc: 71.750 Val_Loss: 0.5395  BEST VAL Loss: 0.5393  Val_Acc: 72.667\n",
      "\n",
      "Epoch 7: Validation loss did not decrease\n",
      "\t Train_Loss: 0.5414 Train_Acc: 72.583 Val_Loss: 0.5406  BEST VAL Loss: 0.5393  Val_Acc: 72.000\n",
      "\n",
      "Epoch 8: Validation loss did not decrease\n",
      "\t Train_Loss: 0.5289 Train_Acc: 73.333 Val_Loss: 0.5427  BEST VAL Loss: 0.5393  Val_Acc: 70.667\n",
      "\n",
      "Epoch 9: Validation loss did not decrease\n",
      "\t Train_Loss: 0.5167 Train_Acc: 75.250 Val_Loss: 0.5452  BEST VAL Loss: 0.5393  Val_Acc: 70.000\n",
      "\n",
      "Epoch 10: Validation loss did not decrease\n",
      "\t Train_Loss: 0.5064 Train_Acc: 74.917 Val_Loss: 0.5482  BEST VAL Loss: 0.5393  Val_Acc: 72.667\n",
      "\n",
      "Epoch 11: Validation loss did not decrease\n",
      "\t Train_Loss: 0.4974 Train_Acc: 74.833 Val_Loss: 0.5520  BEST VAL Loss: 0.5393  Val_Acc: 72.667\n",
      "\n",
      "Epoch 12: Validation loss did not decrease\n",
      "\t Train_Loss: 0.4875 Train_Acc: 77.083 Val_Loss: 0.5560  BEST VAL Loss: 0.5393  Val_Acc: 72.667\n",
      "\n",
      "Epoch 13: Validation loss did not decrease\n",
      "\t Train_Loss: 0.4788 Train_Acc: 79.333 Val_Loss: 0.5597  BEST VAL Loss: 0.5393  Val_Acc: 72.000\n",
      "\n",
      "Epoch 14: Validation loss did not decrease\n",
      "\t Train_Loss: 0.4702 Train_Acc: 79.250 Val_Loss: 0.5636  BEST VAL Loss: 0.5393  Val_Acc: 72.667\n",
      "\n",
      "Epoch 15: Validation loss did not decrease\n",
      "\t Train_Loss: 0.4606 Train_Acc: 80.417 Val_Loss: 0.5677  BEST VAL Loss: 0.5393  Val_Acc: 72.000\n",
      "\n",
      "Epoch 16: Validation loss did not decrease\n",
      "\t Train_Loss: 0.4525 Train_Acc: 80.417 Val_Loss: 0.5725  BEST VAL Loss: 0.5393  Val_Acc: 70.667\n",
      "\n",
      "Epoch 17: Validation loss did not decrease\n",
      "\t Train_Loss: 0.4451 Train_Acc: 81.167 Val_Loss: 0.5775  BEST VAL Loss: 0.5393  Val_Acc: 70.667\n",
      "\n",
      "Epoch 18: Validation loss did not decrease\n",
      "\t Train_Loss: 0.4374 Train_Acc: 81.417 Val_Loss: 0.5824  BEST VAL Loss: 0.5393  Val_Acc: 70.000\n",
      "\n",
      "Epoch 19: Validation loss did not decrease\n",
      "\t Train_Loss: 0.4307 Train_Acc: 81.583 Val_Loss: 0.5871  BEST VAL Loss: 0.5393  Val_Acc: 69.333\n",
      "\n",
      "Epoch 20: Validation loss did not decrease\n",
      "\t Train_Loss: 0.4237 Train_Acc: 82.500 Val_Loss: 0.5919  BEST VAL Loss: 0.5393  Val_Acc: 70.000\n",
      "\n",
      "Epoch 21: Validation loss did not decrease\n",
      "Early stopped at epoch : 21\n"
     ]
    }
   ],
   "source": [
    "# call the optimized training model\n",
    "train_loss, train_acc, valid_loss, valid_acc, epochs_ran, model = train_optimized_model(\n",
    "    params.TRAIN_EPOCHS,\n",
    "    train_loader,\n",
    "    valid_loader,\n",
    "    IN_FEATURES,\n",
    "    OUT_FEATURES,\n",
    "    param_dict,\n",
    "    params,\n",
    ")\n",
    "# create a DataFrame of each stat\n",
    "training_stats = pd.DataFrame(\n",
    "    zip(train_loss, train_acc, valid_loss, valid_acc, epochs_ran),\n",
    "    columns=[\"train_loss\", \"train_acc\", \"valid_loss\", \"valid_acc\", \"epochs_ran\"],\n",
    ")"
   ]
  },
  {
   "cell_type": "code",
   "execution_count": 13,
   "id": "8d0f85a4",
   "metadata": {
    "lines_to_next_cell": 2
   },
   "outputs": [
    {
     "data": {
      "image/png": "[encoded data removed]",
      "text/plain": [
       "<Figure size 640x480 with 1 Axes>"
      ]
     },
     "metadata": {},
     "output_type": "display_data"
    }
   ],
   "source": [
    "plot_metric_vs_epoch(training_stats, \"epochs_ran\", \"train_acc\", \"valid_acc\")"
   ]
  },
  {
   "cell_type": "code",
   "execution_count": 14,
   "id": "15f1d90e",
   "metadata": {
    "lines_to_next_cell": 2
   },
   "outputs": [
    {
     "data": {
      "image/png": "[encoded data removed]",
      "text/plain": [
       "<Figure size 640x480 with 1 Axes>"
      ]
     },
     "metadata": {},
     "output_type": "display_data"
    }
   ],
   "source": [
    "plot_metric_vs_epoch(training_stats, \"epochs_ran\", \"train_loss\", \"valid_loss\")"
   ]
  },
  {
   "cell_type": "code",
   "execution_count": 15,
   "id": "103165b9",
   "metadata": {
    "lines_to_next_cell": 2
   },
   "outputs": [],
   "source": [
    "# calling the testing function and outputing list values of tested model\n",
    "y_pred_list, y_pred_prob_list = test_optimized_model(\n",
    "    model, test_loader, IN_FEATURES, OUT_FEATURES, param_dict, params\n",
    ")\n",
    "\n",
    "# un-nest list if nested i.e. length of input data does not match length of output data\n",
    "if len(y_pred_list) != len(Y_test):\n",
    "    y_pred_list = un_nest(y_pred_list)\n",
    "    y_pred_prob_list = un_nest(y_pred_prob_list)\n",
    "else:\n",
    "    pass"
   ]
  },
  {
   "cell_type": "code",
   "execution_count": 16,
   "id": "5d25467e",
   "metadata": {},
   "outputs": [
    {
     "name": "stdout",
     "output_type": "stream",
     "text": [
      "              precision    recall  f1-score   support\n",
      "\n",
      "           0       0.60      0.74      0.67        70\n",
      "           1       0.72      0.57      0.64        80\n",
      "\n",
      "    accuracy                           0.65       150\n",
      "   macro avg       0.66      0.66      0.65       150\n",
      "weighted avg       0.67      0.65      0.65       150\n",
      "\n"
     ]
    },
    {
     "data": {
      "image/png": "[encoded data removed]",
      "text/plain": [
       "<Figure size 550x400 with 1 Axes>"
      ]
     },
     "metadata": {},
     "output_type": "display_data"
    }
   ],
   "source": [
    "# Call visualization function\n",
    "results_output(y_pred_list, y_pred_prob_list, Y_test)"
   ]
  }
 ],
 "metadata": {
  "jupytext": {
   "cell_metadata_filter": "-all",
   "encoding": "# coding: utf-8",
   "executable": "/usr/bin/env python",
   "formats": "ipynb,py",
   "main_language": "python"
  },
  "kernelspec": {
   "display_name": "Python 3 (ipykernel)",
   "language": "python",
   "name": "python3"
  },
  "language_info": {
   "codemirror_mode": {
    "name": "ipython",
    "version": 3
   },
   "file_extension": ".py",
   "mimetype": "text/x-python",
   "name": "python",
   "nbconvert_exporter": "python",
   "pygments_lexer": "ipython3",
   "version": "3.10.10 | packaged by conda-forge | (main, Mar 24 2023, 20:08:06) [GCC 11.3.0]"
  },
  "vscode": {
   "interpreter": {
    "hash": "72ae02083a9ca7d143c492d1aec380c7bf553ec51bd66e90e72bba65228121b6"
   }
  }
 },
 "nbformat": 4,
 "nbformat_minor": 5
}
