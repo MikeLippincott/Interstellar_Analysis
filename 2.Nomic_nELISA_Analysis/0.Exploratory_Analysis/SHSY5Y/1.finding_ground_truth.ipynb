{
    "cells": [
        {
            "attachments": {},
            "cell_type": "markdown",
            "metadata": {},
            "source": [
                "The goal of this notebook is to determine which cytokines and chemokines are found at high levels in pyroptotic inducing agents.\n",
                "Doing this will allow us to determine ground truth of pyroptosis occurance."
            ]
        },
        {
            "attachments": {},
            "cell_type": "markdown",
            "metadata": {},
            "source": [
                "### Imports"
            ]
        },
        {
            "cell_type": "code",
            "execution_count": null,
            "metadata": {},
            "outputs": [],
            "source": [
                "import pathlib\n",
                "\n",
                "# umap analysis of treatment groups\n",
                "import warnings\n",
                "\n",
                "import matplotlib.pyplot as plt\n",
                "import numpy as np\n",
                "import pandas as pd\n",
                "import scipy.stats as stats\n",
                "import seaborn as sns\n",
                "import toml\n",
                "from numba.core.errors import NumbaDeprecationWarning, NumbaPendingDeprecationWarning\n",
                "from scipy.cluster.hierarchy import linkage\n",
                "from scipy.stats import f_oneway\n",
                "\n",
                "# post hoc test for 'VEGF-C [NSU]' column using Tukey's HSD test\n",
                "from statsmodels.stats.multicomp import pairwise_tukeyhsd\n",
                "\n",
                "# anova test on each group\n",
                "\n",
                "\n",
                "warnings.filterwarnings(\"ignore\")\n",
                "warnings.simplefilter(\"ignore\", category=NumbaDeprecationWarning)\n",
                "warnings.simplefilter(\"ignore\", category=NumbaPendingDeprecationWarning)\n",
                "import umap"
            ]
        },
        {
            "cell_type": "code",
            "execution_count": null,
            "metadata": {},
            "outputs": [],
            "source": [
                "# set path\n",
                "\n",
                "df_path = pathlib.Path(\n",
                "    f\"../../Data/clean/Plate2/nELISA_plate_430420_SHSY5Y_clean.parquet\"\n",
                ")\n",
                "\n",
                "\n",
                "# read in the data\n",
                "df = pd.read_parquet(df_path)"
            ]
        },
        {
            "cell_type": "code",
            "execution_count": null,
            "metadata": {},
            "outputs": [],
            "source": [
                "# import selected treatmenets\n",
                "# set path\n",
                "toml_path = pathlib.Path(\"../../../1.Exploratory_Data_Analysis/utils/params.toml\")\n",
                "\n",
                "# read in toml file\n",
                "params = toml.load(toml_path)\n",
                "list_of_treatments = params[\"list_of_treatments\"][\"treatments\"]"
            ]
        },
        {
            "cell_type": "code",
            "execution_count": null,
            "metadata": {},
            "outputs": [],
            "source": [
                "# get the treatments in fourb_Metadata_Treatment_Dose_Inhibitor coulumn for each treatment in the list of treatments\n",
                "df = df.drop(\n",
                "    columns=[\n",
                "        \"Dose\",\n",
                "        \"Treatment\",\n",
                "        \"twob_Treatment_Dose_Inhibitor_Dose\",\n",
                "        \"threeb_Treatment_Dose_Inhibitor_Dose\",\n",
                "        \"fourb_Treatment_Dose_Inhibitor_Dose\",\n",
                "    ]\n",
                ")\n",
                "# if column name does not contain [NSU], add Metadata_ to the beginning of the column name\n",
                "df.columns = [\"Metadata_\" + col if \"[NSU]\" not in col else col for col in df.columns]\n",
                "\n",
                "df_metadata = df[df.columns[df.columns.str.contains(\"Metadata\")]]\n",
                "# non_metadata_cols\n",
                "df = df.drop(columns=df_metadata.columns)\n",
                "df[\"oneb_Treatment_Dose_Inhibitor_Dose\"] = df_metadata[\n",
                "    \"Metadata_oneb_Treatment_Dose_Inhibitor_Dose\"\n",
                "]\n",
                "df[\"Metadata_position_x\"] = df_metadata[\"Metadata_position_x\"]"
            ]
        },
        {
            "cell_type": "code",
            "execution_count": null,
            "metadata": {},
            "outputs": [],
            "source": [
                "# set output path\n",
                "all_cytokines_path = pathlib.Path(\n",
                "    f\"./results/SHSY5Y_all_cytokine_values_per_treatment_per_well.parquet\"\n",
                ")\n",
                "all_cytokines_path_melted = pathlib.Path(\n",
                "    f\"./results/SHSY5Y_all_cytokine_values_per_treatment_per_well_melted.parquet\"\n",
                ")\n",
                "df.to_parquet(all_cytokines_path)\n",
                "\n",
                "df_melted = df.melt(\n",
                "    id_vars=[\"Metadata_position_x\", \"oneb_Treatment_Dose_Inhibitor_Dose\"],\n",
                "    var_name=\"cytokine\",\n",
                "    value_name=\"cytokine_value\",\n",
                ")\n",
                "\n",
                "df_melted.to_parquet(all_cytokines_path_melted)"
            ]
        },
        {
            "attachments": {},
            "cell_type": "markdown",
            "metadata": {},
            "source": [
                "## Anova and Post-Hoc Analysis\n",
                "Anova of all treatments and post-hoc analysis of all treatments for each cytokine and chemokine. \n",
                "This will determine the cytokines and chemokines that are found at high levels in pyroptotic inducing agents."
            ]
        },
        {
            "cell_type": "code",
            "execution_count": null,
            "metadata": {},
            "outputs": [],
            "source": [
                "# define blank df\n",
                "final_df_tukey = pd.DataFrame(\n",
                "    {\n",
                "        \"group1\": [\"\"],\n",
                "        \"group2\": [\"\"],\n",
                "        \"meandiff\": [\"\"],\n",
                "        \"lower\": [\"\"],\n",
                "        \"upper\": [\"\"],\n",
                "        \"reject\": [\"\"],\n",
                "        \"p-adj\": [\"\"],\n",
                "        \"cytokine\": [\"\"],\n",
                "    }\n",
                ")"
            ]
        },
        {
            "cell_type": "code",
            "execution_count": null,
            "metadata": {},
            "outputs": [],
            "source": [
                "# perform anova on each column of the data frame with oneb_meta as the groupby\n",
                "num = 0\n",
                "alpha = 0.05\n",
                "alpha_adj = alpha / (len(df.columns) - 1)\n",
                "for i in df.columns:\n",
                "    for treatment in list_of_treatments:\n",
                "        if i == \"oneb_Treatment_Dose_Inhibitor_Dose\":\n",
                "            continue\n",
                "        one_way_anova = stats.f_oneway(\n",
                "            df[i][df[\"oneb_Treatment_Dose_Inhibitor_Dose\"] == treatment],\n",
                "            df[i][df[\"oneb_Treatment_Dose_Inhibitor_Dose\"] != treatment],\n",
                "        )\n",
                "        if one_way_anova.pvalue < alpha:\n",
                "            num += 1\n",
                "            tukey = pairwise_tukeyhsd(\n",
                "                endog=df[i],\n",
                "                groups=df[\"oneb_Treatment_Dose_Inhibitor_Dose\"],\n",
                "                alpha=alpha_adj,\n",
                "            )\n",
                "            # send the results to a dataframe\n",
                "            tukey_results = pd.DataFrame(\n",
                "                data=tukey._results_table.data[1:], columns=tukey._results_table.data[0]\n",
                "            )\n",
                "            tukey_results[\"cytokine\"] = f\"{i}\"\n",
                "            # concat the results to the blank df\n",
                "            final_df_tukey = pd.concat([final_df_tukey, tukey_results], axis=0)\n",
                "        else:\n",
                "            pass\n",
                "print(\n",
                "    f\"Out of the {len(df.columns ) - 1} cytokines tested, {num} were significantly different between groups (p < {alpha})\"\n",
                ")"
            ]
        },
        {
            "cell_type": "code",
            "execution_count": null,
            "metadata": {},
            "outputs": [],
            "source": [
                "# check for blank first row...\n",
                "final_df_tukey.head(3)"
            ]
        },
        {
            "cell_type": "code",
            "execution_count": null,
            "metadata": {},
            "outputs": [],
            "source": [
                "# remove first row as it is blank fro some reason\n",
                "final_df_tukey = final_df_tukey.iloc[1:]\n",
                "final_df_tukey.head(3)"
            ]
        },
        {
            "attachments": {},
            "cell_type": "markdown",
            "metadata": {},
            "source": [
                "Clean up the data and filter out tests that are not significant."
            ]
        },
        {
            "cell_type": "code",
            "execution_count": null,
            "metadata": {},
            "outputs": [],
            "source": [
                "# drop rows in pvalue column that are over 0.05\n",
                "final_df_tukey = final_df_tukey[final_df_tukey[\"p-adj\"] < 0.05]"
            ]
        },
        {
            "cell_type": "code",
            "execution_count": null,
            "metadata": {},
            "outputs": [],
            "source": [
                "# sort the df by p-adj\n",
                "final_df_tukey = final_df_tukey.sort_values(by=[\"p-adj\"], ascending=[True])"
            ]
        },
        {
            "cell_type": "markdown",
            "metadata": {},
            "source": [
                "# filter the data for significanct post hoc tests\n",
                "If we see two high dose groups of pyroptotic treatments in this p-adj value < 0.05 data then we can toss it. \n",
                "This implies a variable treatment. \n",
                "We are primarily interested in which cytokines best differentiate between control, apoptosis, and pyroptosis"
            ]
        },
        {
            "cell_type": "code",
            "execution_count": null,
            "metadata": {},
            "outputs": [],
            "source": [
                "final_df_tukey[\"cytokine\"].unique()\n",
                "# create output path for the df\n",
                "output_path = pathlib.Path(f\"./results/tukey_filtered_nomic_results.csv\")\n",
                "# save the df\n",
                "final_df_tukey.to_csv(output_path)"
            ]
        },
        {
            "cell_type": "code",
            "execution_count": null,
            "metadata": {},
            "outputs": [],
            "source": [
                "# graph each cytokine\n",
                "for col in final_df_tukey[\"cytokine\"].unique():\n",
                "    sns.barplot(\n",
                "        x=\"oneb_Treatment_Dose_Inhibitor_Dose\",\n",
                "        y=col,\n",
                "        data=df,\n",
                "        capsize=0.2,\n",
                "        order=list_of_treatments,\n",
                "    )\n",
                "    plt.title(col)\n",
                "    plt.xticks(rotation=90)\n",
                "    plt.show()\n",
                "# feature pick\n",
                "cytokines = [\n",
                "    \"Activin A [NSU]\",\n",
                "    \"IL-1 alpha [NSU]\",\n",
                "    \"IL-1 beta [NSU]\",\n",
                "    \"Oncostatin M (OSM) [NSU]\",\n",
                "    \"IFN gamma [NSU]\",\n",
                "    \"Osteopontin (OPN) [NSU]\",\n",
                "    \"TNF alpha [NSU]\",\n",
                "    \"EMMPRIN [NSU]\",\n",
                "    \"G-CSF [NSU]\",\n",
                "    \"MMP-9 [NSU]\",\n",
                "    \"IL-6 [NSU]\",\n",
                "    \"MIF [NSU]\",\n",
                "    \"IL-16 [NSU]\",\n",
                "    \"IL-22 [NSU]\",\n",
                "    \"IL-18 [NSU]\",\n",
                "    \"CCL24 [NSU]\",\n",
                "    \"CCL20 [NSU]\",\n",
                "    \"CXCL11 [NSU]\",\n",
                "    \"CXCL1 [NSU]\",\n",
                "]"
            ]
        },
        {
            "cell_type": "code",
            "execution_count": null,
            "metadata": {},
            "outputs": [],
            "source": [
                "# drop all columns that are not in cytokines list\n",
                "selected_cytokines = df[cytokines]\n",
                "\n",
                "# plot the results of the tukey test for each cytokine\n",
                "a = len(selected_cytokines.columns)\n",
                "b = 6\n",
                "plt.figure(figsize=(50, 100))\n",
                "plt.suptitle(\"Cytokine Levels Across Treatments\", fontsize=18)\n",
                "plt.subplots_adjust(top=0.975, bottom=0.01, hspace=1, wspace=0.3)\n",
                "for col in enumerate(selected_cytokines.columns):\n",
                "    plt.subplot(a, b, col[0] + 1)\n",
                "    sns.barplot(\n",
                "        x=\"oneb_Treatment_Dose_Inhibitor_Dose\",\n",
                "        y=col[1],\n",
                "        data=df,\n",
                "        capsize=0.2,\n",
                "        order=list_of_treatments,\n",
                "    )\n",
                "    # # title\n",
                "    plt.title(col[1])\n",
                "    # rotate xticks 90 degrees\n",
                "    plt.xticks(rotation=90)\n",
                "# set path for saving plot\n",
                "pathlib.Path(f\"./figures/\").mkdir(parents=True, exist_ok=True)\n",
                "# save plot\n",
                "plt.savefig(f\"./figures/selected_cytokines.png\", bbox_inches=\"tight\")\n",
                "# # show plot\n",
                "plt.show()"
            ]
        },
        {
            "cell_type": "code",
            "execution_count": null,
            "metadata": {},
            "outputs": [],
            "source": [
                "# save the final_df_tukey df to a csv file\n",
                "final_df_tukey.to_csv(\"results/tukey_test_results.csv\", index=False)\n",
                "\n",
                "# write the cytokines column to a csv file\n",
                "cytokines\n",
                "with open(\"results/cytokines.csv\", \"w\") as f:\n",
                "    f.write(\"cytokine\\n\")\n",
                "    for item in cytokines:\n",
                "        f.write(f\"{item}\\n\")\n",
                "    f.close()"
            ]
        },
        {
            "attachments": {},
            "cell_type": "markdown",
            "metadata": {},
            "source": [
                "## Heatmaps of cytokine levels in each treatment"
            ]
        },
        {
            "cell_type": "code",
            "execution_count": null,
            "metadata": {},
            "outputs": [],
            "source": [
                "df_cytokines = df[cytokines]\n",
                "df_cytokines = pd.concat(\n",
                "    [df[\"oneb_Treatment_Dose_Inhibitor_Dose\"], df_cytokines], axis=1\n",
                ")\n",
                "df_cytokines = df_cytokines.set_index(\"oneb_Treatment_Dose_Inhibitor_Dose\")"
            ]
        },
        {
            "cell_type": "code",
            "execution_count": null,
            "metadata": {},
            "outputs": [],
            "source": [
                "cytokines"
            ]
        },
        {
            "cell_type": "code",
            "execution_count": null,
            "metadata": {},
            "outputs": [],
            "source": [
                "# aggregate the data by treatment group via mean\n",
                "data_agg = df_cytokines.groupby(\"oneb_Treatment_Dose_Inhibitor_Dose\").mean()\n",
                "# heatmap of umap_clusters_with_cytokine_data_agg\n",
                "# subset the columns to plot\n",
                "column_list = [col for col in data_agg.columns if \"[NSU]\" in col]\n",
                "# subset the rows to plot and label the rows with treatment groups\n",
                "row_list = data_agg.index\n",
                "# subset the data to plot\n",
                "data = data_agg[column_list]"
            ]
        },
        {
            "cell_type": "code",
            "execution_count": null,
            "metadata": {},
            "outputs": [],
            "source": [
                "# order the rows by treatment group\n",
                "data_agg = data_agg.reindex(list_of_treatments, axis=0)"
            ]
        },
        {
            "cell_type": "code",
            "execution_count": null,
            "metadata": {},
            "outputs": [],
            "source": [
                "data_agg"
            ]
        },
        {
            "cell_type": "code",
            "execution_count": null,
            "metadata": {},
            "outputs": [],
            "source": [
                "# create the heatmap with dendrogram and cluster the rows and columns with the euclidean distance metric\n",
                "# order the rows and columns by the linkage matrix generated by the clustering algorithm\n",
                "# import linkage from scipy.cluster.hierarchy to cluster the rows and columns\n",
                "# define the linkage matrix\n",
                "linkage_df = linkage(\n",
                "    data_agg.T, metric=\"euclidean\", method=\"ward\", optimal_ordering=True\n",
                ")\n",
                "g = sns.clustermap(\n",
                "    data_agg.T,\n",
                "    cmap=\"viridis\",\n",
                "    metric=\"euclidean\",\n",
                "    method=\"ward\",\n",
                "    row_cluster=True,\n",
                "    col_cluster=False,\n",
                "    row_linkage=linkage_df,\n",
                "    col_linkage=linkage_df,\n",
                "    xticklabels=True,\n",
                "    yticklabels=True,\n",
                "    vmin=0,\n",
                "    vmax=1,\n",
                ")\n",
                "# save the heatmap\n",
                "plt.savefig(\"./figures/heatmap_SHSY5Y.png\", bbox_inches=\"tight\")\n",
                "# show the heatmap\n",
                "plt.show()"
            ]
        }
    ],
    "metadata": {
        "kernelspec": {
            "display_name": "Interstellar",
            "language": "python",
            "name": "python3"
        },
        "language_info": {
            "codemirror_mode": {
                "name": "ipython",
                "version": 3
            },
            "file_extension": ".py",
            "mimetype": "text/x-python",
            "name": "python",
            "nbconvert_exporter": "python",
            "pygments_lexer": "ipython3",
            "version": "3.10.12"
        },
        "orig_nbformat": 4,
        "vscode": {
            "interpreter": {
                "hash": "72ae02083a9ca7d143c492d1aec380c7bf553ec51bd66e90e72bba65228121b6"
            }
        }
    },
    "nbformat": 4,
    "nbformat_minor": 2
}
