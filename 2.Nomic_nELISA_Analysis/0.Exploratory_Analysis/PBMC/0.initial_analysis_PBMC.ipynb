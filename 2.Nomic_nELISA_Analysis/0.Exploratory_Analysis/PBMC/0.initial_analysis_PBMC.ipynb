{
    "cells": [
        {
            "cell_type": "code",
            "execution_count": 1,
            "metadata": {},
            "outputs": [],
            "source": [
                "import pathlib\n",
                "\n",
                "import matplotlib.pyplot as plt\n",
                "import numpy as np\n",
                "import pandas as pd\n",
                "import seaborn as sns\n",
                "from matplotlib.backends.backend_pdf import PdfPages\n",
                "from sklearn import preprocessing"
            ]
        },
        {
            "cell_type": "code",
            "execution_count": null,
            "metadata": {},
            "outputs": [],
            "source": [
                "# set path to data\n",
                "PBMC_path = pathlib.Path(\"../../Data/clean/Plate2/nELISA_plate_430420_PBMC.csv\")\n",
                "\n",
                "\n",
                "manual_cluster_1_path = pathlib.Path(\n",
                "    \"../../Data/clean/Plate2/Manual_Treatment_Clusters_1.csv\"\n",
                ")\n",
                "manual_cluster_2_path = pathlib.Path(\n",
                "    \"../../Data/clean/Plate2/Manual_Treatment_Clusters_2.csv\"\n",
                ")\n",
                "\n",
                "# read in data\n",
                "PBMC_df = pd.read_csv(PBMC_path)\n",
                "\n",
                "manual_clusters_1 = pd.read_csv(manual_cluster_1_path)\n",
                "manual_clusters_2 = pd.read_csv(manual_cluster_2_path)"
            ]
        },
        {
            "cell_type": "code",
            "execution_count": null,
            "metadata": {},
            "outputs": [],
            "source": [
                "# select data only columns and make floats\n",
                "nELISA_data_values = PBMC_df.filter(like=\"NSU\", axis=1)\n",
                "nELISA_data_values = nELISA_data_values.astype(\"float\")"
            ]
        },
        {
            "cell_type": "code",
            "execution_count": null,
            "metadata": {},
            "outputs": [],
            "source": [
                "# normalize data via max value in each column\n",
                "max_values = nELISA_data_values.max()  # find max value in each column\n",
                "nELISA_data_values_sensor_max_norm = nELISA_data_values.div(\n",
                "    max_values\n",
                ")  # divide each value in each column by max value in that column\n",
                "nELISA_data_values_sensor_max_norm.head()\n",
                "# min max normalization via sklearn\n",
                "\n",
                "# normalize data via min max normalization\n",
                "min_max_scaler = preprocessing.MinMaxScaler()\n",
                "nELISA_data_values_min_max_norm = min_max_scaler.fit_transform(nELISA_data_values)\n",
                "nELISA_data_values_min_max_norm = pd.DataFrame(\n",
                "    nELISA_data_values_min_max_norm, columns=nELISA_data_values.columns\n",
                ")"
            ]
        },
        {
            "cell_type": "code",
            "execution_count": null,
            "metadata": {},
            "outputs": [],
            "source": [
                "# drop columns that are named with NSU\n",
                "Metadata = PBMC_df.drop(PBMC_df.filter(like=\"NSU\", axis=1), axis=1)\n",
                "Metadata = Metadata.drop(PBMC_df.filter(like=\"pgML\", axis=1), axis=1)"
            ]
        },
        {
            "cell_type": "code",
            "execution_count": null,
            "metadata": {},
            "outputs": [],
            "source": [
                "# merge metadata and normalized data values\n",
                "analysis_df = pd.concat([Metadata, nELISA_data_values_min_max_norm], axis=1)"
            ]
        },
        {
            "cell_type": "code",
            "execution_count": null,
            "metadata": {},
            "outputs": [],
            "source": [
                "# add manual clusters columns to dataframe\n",
                "nELISA_plate_430420 = pd.merge(\n",
                "    analysis_df,\n",
                "    manual_clusters_2,\n",
                "    on=(\n",
                "        \"inducer1\",\n",
                "        \"inducer1_concentration_value\",\n",
                "        \"inhibitor\",\n",
                "        \"inhibitor_concentration_value\",\n",
                "        \"inducer2\",\n",
                "        \"inducer2_concentration_value\",\n",
                "    ),\n",
                "    how=\"inner\",\n",
                ")"
            ]
        },
        {
            "cell_type": "code",
            "execution_count": null,
            "metadata": {},
            "outputs": [],
            "source": [
                "# dose column merge\n",
                "conditions = [\n",
                "    (nELISA_plate_430420[\"inducer2\"].isnull()),\n",
                "    nELISA_plate_430420[\"inducer2\"].notnull(),\n",
                "]\n",
                "\n",
                "results = [\n",
                "    (\n",
                "        nELISA_plate_430420[\"inducer1\"]\n",
                "        + \"_\"\n",
                "        + nELISA_plate_430420[\"inducer1_concentration\"].astype(str)\n",
                "        + \"_\"\n",
                "        + nELISA_plate_430420[\"inhibitor\"].astype(str)\n",
                "        + \"_\"\n",
                "        + nELISA_plate_430420[\"inhibitor_concentration\"].astype(str)\n",
                "    ).astype(str),\n",
                "    (\n",
                "        nELISA_plate_430420[\"inducer1\"]\n",
                "        + \"_\"\n",
                "        + nELISA_plate_430420[\"inducer1_concentration\"].astype(str)\n",
                "        + \"_\"\n",
                "        + nELISA_plate_430420[\"inducer2\"]\n",
                "        + \"_\"\n",
                "        + nELISA_plate_430420[\"inducer2_concentration\"].astype(str)\n",
                "        + \"_\"\n",
                "        + nELISA_plate_430420[\"inhibitor\"].astype(str)\n",
                "        + \"_\"\n",
                "        + nELISA_plate_430420[\"inhibitor_concentration\"].astype(str)\n",
                "    ).astype(str),\n",
                "]\n",
                "nELISA_plate_430420[\"Treatment_and_Dose\"] = np.select(conditions, results)\n",
                "\n",
                "\n",
                "results = [\n",
                "    (nELISA_plate_430420[\"inducer1\"]).astype(str),\n",
                "    (nELISA_plate_430420[\"inducer1\"] + \"_\" + nELISA_plate_430420[\"inducer2\"]).astype(\n",
                "        str\n",
                "    ),\n",
                "]\n",
                "nELISA_plate_430420[\"Treatments\"] = np.select(conditions, results)"
            ]
        },
        {
            "cell_type": "code",
            "execution_count": null,
            "metadata": {},
            "outputs": [],
            "source": [
                "# inducer and dose column merge\n",
                "nELISA_plate_430420[\"Inducer1_and_dose\"] = (nELISA_plate_430420[\"inducer1\"]).astype(\n",
                "    str\n",
                ") + (\"_\" + nELISA_plate_430420[\"inducer1_concentration\"].astype(str))\n",
                "# select inhibitors that are 'DMSO'\n",
                "nELISA_plate_430420_no_inhibitors = nELISA_plate_430420[\n",
                "    nELISA_plate_430420[\"inhibitor\"] == \"DMSO\"\n",
                "]"
            ]
        },
        {
            "cell_type": "code",
            "execution_count": null,
            "metadata": {},
            "outputs": [],
            "source": [
                "# select rows that contain 'Thapsigargin_10 \u00b5M_DMSO_0.03%' from Treatments column\n",
                "nELISA_plate_430420_Thapsi_sub = nELISA_plate_430420[\n",
                "    nELISA_plate_430420[\"Treatments\"].isin(\n",
                "        [\n",
                "            \"Thapsigargin\",\n",
                "            \"LPS\",\n",
                "            \"DMSO\",\n",
                "        ]\n",
                "    )\n",
                "]\n",
                "\n",
                "# select rows that contain 'Thapsigargin_10 \u00b5M_DMSO_0.03%' from 'inhibitor' column\n",
                "nELISA_plate_430420_Thapsi_sub = nELISA_plate_430420_Thapsi_sub[\n",
                "    nELISA_plate_430420_Thapsi_sub[\"inhibitor\"].isin([\"DMSO\"])\n",
                "]"
            ]
        },
        {
            "cell_type": "code",
            "execution_count": null,
            "metadata": {},
            "outputs": [],
            "source": [
                "# reorder the treatment list\n",
                "# this for the purpose of plotting in a specific order on the x axis\n",
                "treatments = [\n",
                "    \"DMSO_0.10%\",\n",
                "    \"Topotecan_5 nM\",\n",
                "    \"Topotecan_10 nM\",\n",
                "    \"Topotecan_20 nM\",\n",
                "    \"Disulfiram_0.1 \u00b5M\",\n",
                "    \"Disulfiram_1 \u00b5M\",\n",
                "    \"Disulfiram_2.5 \u00b5M\",\n",
                "    \"Flagellin_0.1 \u00b5g/ml\",\n",
                "    \"Flagellin_1 \u00b5g/ml\",\n",
                "    \"LPS_0.01 \u00b5g/ml\",\n",
                "    \"LPS_0.1 \u00b5g/ml\",\n",
                "    \"LPS_1 \u00b5g/ml\",\n",
                "    \"LPS_10 \u00b5g/ml\",\n",
                "    \"LPS_100 \u00b5g/ml\",\n",
                "    \"Thapsigargin_1 \u00b5M\",\n",
                "    \"Thapsigargin_10 \u00b5M\",\n",
                "    \"H2O2_100 nM\",\n",
                "    \"H2O2_100 \u00b5M\",\n",
                "]"
            ]
        },
        {
            "cell_type": "code",
            "execution_count": null,
            "metadata": {},
            "outputs": [],
            "source": [
                "# drop rows in inducer2 that are 'nigericin'\n",
                "nELISA_plate_430420_no_inhibitors = nELISA_plate_430420_no_inhibitors[\n",
                "    nELISA_plate_430420_no_inhibitors[\"inducer2\"] != \"Nigericin\"\n",
                "]"
            ]
        },
        {
            "cell_type": "code",
            "execution_count": null,
            "metadata": {},
            "outputs": [],
            "source": [
                "# save nELISA_plate_430420_no_inhibitors dataframe to csv file\n",
                "nELISA_plate_430420_no_inhibitors.to_csv(\n",
                "    \"../../Data/filtered/nELISA_plate_430420_no_inhibitors.csv\", index=False\n",
                ")"
            ]
        },
        {
            "attachments": {},
            "cell_type": "markdown",
            "metadata": {},
            "source": [
                "## Graphing the data"
            ]
        },
        {
            "cell_type": "code",
            "execution_count": null,
            "metadata": {},
            "outputs": [],
            "source": [
                "# define cell type\n",
                "cell_type = nELISA_plate_430420[\"cell_type\"].unique()[0]\n",
                "# open pdf file\n",
                "with PdfPages(f\"figures/inducers_and_dose_{cell_type}.pdf\") as pdf:\n",
                "    # plot all cytokines and selected inducer and plot them in a pdf\n",
                "    # plot with x axis as inducer and dose order by list treatment\n",
                "    for i in nELISA_plate_430420.filter(like=\"NSU\", axis=1).columns:\n",
                "        plt.figure()\n",
                "        plt.tight_layout()\n",
                "        sns.set(rc={\"figure.figsize\": (8, 5)})\n",
                "        # plot a bar chart\n",
                "        # order by list treatment\n",
                "        sns.barplot(\n",
                "            x=\"Inducer1_and_dose\",\n",
                "            y=i,\n",
                "            data=nELISA_plate_430420,\n",
                "            hue=\"cell_type\",\n",
                "            estimator=np.mean,\n",
                "            # standard deviation errorbars\n",
                "            errorbar=(\"sd\"),\n",
                "            order=treatments,\n",
                "        )\n",
                "        plt.xticks(rotation=90)\n",
                "        pdf.savefig(bbox_inches=\"tight\")\n",
                "        plt.close()"
            ]
        },
        {
            "cell_type": "code",
            "execution_count": null,
            "metadata": {},
            "outputs": [],
            "source": [
                "# open pdf file\n",
                "with PdfPages(f\"figures/inducers_{cell_type}.pdf\") as pdf:\n",
                "    # plot all cytokines and selected inducer and plot them in a pdf\n",
                "    for i in nELISA_plate_430420.filter(like=\"NSU\", axis=1).columns:\n",
                "        plt.figure()\n",
                "        plt.tight_layout()\n",
                "        sns.set(rc={\"figure.figsize\": (8, 5)})\n",
                "        # plot a bar chart\n",
                "        sns.barplot(\n",
                "            y=nELISA_plate_430420[i],\n",
                "            x=\"inducer1\",\n",
                "            data=nELISA_plate_430420,\n",
                "            hue=\"cell_type\",\n",
                "            estimator=np.mean,\n",
                "            # standard deviation errorbars\n",
                "            errorbar=(\"sd\"),\n",
                "        )\n",
                "        plt.xticks(rotation=45)\n",
                "        pdf.savefig(bbox_inches=\"tight\")\n",
                "        plt.close()"
            ]
        },
        {
            "cell_type": "code",
            "execution_count": null,
            "metadata": {},
            "outputs": [],
            "source": [
                "# open pdf file\n",
                "with PdfPages(f\"figures/death_type_{cell_type}.pdf\") as pdf:\n",
                "    # plot all cytokines and selected inducer and plot them in a pdf\n",
                "    for i in nELISA_plate_430420.filter(like=\"NSU\", axis=1).columns:\n",
                "        plt.figure()\n",
                "        plt.tight_layout()\n",
                "        sns.set(rc={\"figure.figsize\": (8, 5)})\n",
                "        # plot a bar chart\n",
                "        sns.barplot(\n",
                "            y=nELISA_plate_430420[i],\n",
                "            x=\"Function\",\n",
                "            data=nELISA_plate_430420,\n",
                "            hue=\"cell_type\",\n",
                "            estimator=np.mean,\n",
                "            errorbar=(\"sd\"),\n",
                "        )\n",
                "        pdf.savefig(bbox_inches=\"tight\")\n",
                "        plt.close()"
            ]
        }
    ],
    "metadata": {
        "kernelspec": {
            "display_name": "Interstellar",
            "language": "python",
            "name": "python3"
        },
        "language_info": {
            "codemirror_mode": {
                "name": "ipython",
                "version": 3
            },
            "file_extension": ".py",
            "mimetype": "text/x-python",
            "name": "python",
            "nbconvert_exporter": "python",
            "pygments_lexer": "ipython3",
            "version": "3.10.12"
        },
        "orig_nbformat": 4,
        "vscode": {
            "interpreter": {
                "hash": "72ae02083a9ca7d143c492d1aec380c7bf553ec51bd66e90e72bba65228121b6"
            }
        }
    },
    "nbformat": 4,
    "nbformat_minor": 2
}
