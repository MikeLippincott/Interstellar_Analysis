{
    "cells": [
        {
            "cell_type": "code",
            "execution_count": null,
            "metadata": {},
            "outputs": [],
            "source": [
                "import pathlib\n",
                "\n",
                "import matplotlib.pyplot as plt\n",
                "import numpy as np\n",
                "import pandas as pd\n",
                "import seaborn as sns\n",
                "import toml\n",
                "from plotnine import (\n",
                "    aes,\n",
                "    element_blank,\n",
                "    element_line,\n",
                "    element_rect,\n",
                "    element_text,\n",
                "    facet_grid,\n",
                "    facet_wrap,\n",
                "    geom_bar,\n",
                "    geom_boxplot,\n",
                "    geom_col,\n",
                "    geom_point,\n",
                "    geom_text,\n",
                "    geom_tile,\n",
                "    geom_violin,\n",
                "    ggplot,\n",
                "    ggsave,\n",
                "    ggtitle,\n",
                "    labs,\n",
                "    scale_color_manual,\n",
                "    scale_fill_gradient,\n",
                "    scale_fill_manual,\n",
                "    scale_x_continuous,\n",
                "    scale_x_discrete,\n",
                "    scale_y_continuous,\n",
                "    scale_y_discrete,\n",
                "    theme,\n",
                "    theme_bw,\n",
                "    theme_classic,\n",
                "    xlim,\n",
                "    ylim,\n",
                ")"
            ]
        },
        {
            "cell_type": "code",
            "execution_count": null,
            "metadata": {},
            "outputs": [],
            "source": [
                "# set paths and load data\n",
                "path = pathlib.Path(\n",
                "    \"../../Data/clean/Plate2/nELISA_plate_430420_PBMC_cleanup4correlation.csv\"\n",
                ")\n",
                "toml_path = pathlib.Path(\"../../../1.Exploratory_Data_Analysis/utils/params.toml\")\n",
                "\n",
                "df = pd.read_csv(path)\n",
                "params = toml.load(toml_path)\n",
                "list_of_treatments = params[\"list_of_treatments\"][\"treatments\"]"
            ]
        },
        {
            "cell_type": "code",
            "execution_count": null,
            "metadata": {},
            "outputs": [],
            "source": [
                "print(df.columns.to_list())"
            ]
        },
        {
            "cell_type": "code",
            "execution_count": null,
            "metadata": {},
            "outputs": [],
            "source": [
                "# output path for the treatment df\n",
                "output_path = pathlib.Path(\n",
                "    f\"./results/PBMC_all_cytokine_values_per_treatment_per_well.csv\"\n",
                ")\n",
                "df.to_csv(output_path, index=False)"
            ]
        },
        {
            "cell_type": "code",
            "execution_count": null,
            "metadata": {},
            "outputs": [],
            "source": [
                "# plot scatter plot of all the treatment groups for IL-1 beta\n",
                "# plot scatter plot of all the treatment groups for IL-6\n",
                "\n",
                "p = (\n",
                "    ggplot(\n",
                "        df,\n",
                "        aes(\n",
                "            x=\"TNF alpha [NSU]\",\n",
                "            y=\"IL-1 beta [NSU]\",\n",
                "            color=\"oneb_Metadata_Treatment_Dose_Inhibitor_Dose\",\n",
                "        ),\n",
                "    )\n",
                "    + geom_point(size=3)\n",
                "    + theme_bw()\n",
                "    + ylim(0, 1)\n",
                "    + xlim(0, 1)\n",
                ")\n",
                "\n",
                "ggplot.save(\n",
                "    p,\n",
                "    filename=\"./figures/TNF_alpha_IL-1_beta_scatter_plot.png\",\n",
                "    width=6,\n",
                "    height=4,\n",
                "    units=\"in\",\n",
                "    dpi=300,\n",
                ")\n",
                "p"
            ]
        },
        {
            "cell_type": "code",
            "execution_count": null,
            "metadata": {},
            "outputs": [],
            "source": [
                "df_treatment = df.drop(\n",
                "    columns=[\"Metadata_position_x\", \"fourb_Metadata_Treatment_Dose_Inhibitor_Dose\"]\n",
                ")\n",
                "df_treatment = df_treatment.melt(\n",
                "    id_vars=[\"oneb_Metadata_Treatment_Dose_Inhibitor_Dose\"],\n",
                "    value_vars=df_treatment.columns.to_list()[1:],\n",
                "    var_name=\"Cytokine\",\n",
                "    value_name=\"Cytokine_Value\",\n",
                ")"
            ]
        },
        {
            "cell_type": "code",
            "execution_count": null,
            "metadata": {},
            "outputs": [],
            "source": [
                "# outpath for the melted df\n",
                "output_path = pathlib.Path(\n",
                "    f\"./results/PBMC_all_cytokine_values_per_treatment_per_well_melted.csv\"\n",
                ")\n",
                "df_treatment.to_csv(output_path, index=False)"
            ]
        },
        {
            "cell_type": "code",
            "execution_count": null,
            "metadata": {},
            "outputs": [],
            "source": [
                "# facet grid of treatment and dose with TNF alpha\n",
                "p = (\n",
                "    ggplot(\n",
                "        df_treatment,\n",
                "        aes(\n",
                "            x=\"oneb_Metadata_Treatment_Dose_Inhibitor_Dose\",\n",
                "            y=\"Cytokine_Value\",\n",
                "            fill=\"Cytokine\",\n",
                "        ),\n",
                "    )\n",
                "    + geom_bar(stat=\"identity\", position=\"dodge\")\n",
                "    + facet_grid(\". ~ Cytokine\")\n",
                "    + theme_bw()\n",
                "    + theme(axis_text_x=element_text(angle=90, hjust=1))\n",
                ")\n",
                "\n",
                "p = p + theme(figure_size=(16, 8))\n",
                "\n",
                "# ggplot.save(p, filename=\"PBMC_Treatment_Dose_TNF_alpha.png\", path=\"figures/\")"
            ]
        }
    ],
    "metadata": {
        "kernelspec": {
            "display_name": "Interstellar",
            "language": "python",
            "name": "python3"
        },
        "language_info": {
            "codemirror_mode": {
                "name": "ipython",
                "version": 3
            },
            "file_extension": ".py",
            "mimetype": "text/x-python",
            "name": "python",
            "nbconvert_exporter": "python",
            "pygments_lexer": "ipython3",
            "version": "3.10.12"
        },
        "orig_nbformat": 4,
        "vscode": {
            "interpreter": {
                "hash": "72ae02083a9ca7d143c492d1aec380c7bf553ec51bd66e90e72bba65228121b6"
            }
        }
    },
    "nbformat": 4,
    "nbformat_minor": 2
}
