{
    "cells": [
        {
            "cell_type": "code",
            "execution_count": 1,
            "metadata": {},
            "outputs": [],
            "source": [
                "import pathlib\n",
                "\n",
                "import pandas as pd"
            ]
        },
        {
            "cell_type": "code",
            "execution_count": 2,
            "metadata": {},
            "outputs": [
                {
                    "name": "stdout",
                    "output_type": "stream",
                    "text": [
                        "['xMAP_pgmL', 'nELISA_pgmL']\n"
                    ]
                }
            ],
            "source": [
                "# set path to data\n",
                "valid_data_file_path = pathlib.Path(\n",
                "    \"./raw/nELISA - Luminex comp in LPS stimulated PBMCs.xlsx\"\n",
                ").resolve()\n",
                "\n",
                "# get sheet names\n",
                "xls = pd.ExcelFile(valid_data_file_path)\n",
                "sheet_names = xls.sheet_names\n",
                "print(sheet_names)\n",
                "nELISA = pd.read_excel(valid_data_file_path, sheet_name=\"nELISA_pgmL\")\n",
                "Luminex = pd.read_excel(valid_data_file_path, sheet_name=\"xMAP_pgmL\")"
            ]
        },
        {
            "cell_type": "code",
            "execution_count": 3,
            "metadata": {},
            "outputs": [
                {
                    "name": "stdout",
                    "output_type": "stream",
                    "text": [
                        "Index(['LPS concentration', 'CCL2', 'GM-CSF', 'IFN gamma', 'IL-1 alpha',\n",
                        "       'IL-1 beta', 'IL-12 p40', 'TNF alpha'],\n",
                        "      dtype='object')\n",
                        "Index(['LPS concentration', 'CCL2', 'GM-CSF', 'IFNgamma', 'IL-1 alpha',\n",
                        "       'IL-1 beta', 'IL-12 p40', 'TNFalpha'],\n",
                        "      dtype='object')\n"
                    ]
                }
            ],
            "source": [
                "print(nELISA.columns)\n",
                "print(Luminex.columns)\n",
                "Luminex.rename(columns={\"IFNgamma\": \"IFN gamma\", \"TNFalpha\": \"TNF alpha\"}, inplace=True)"
            ]
        },
        {
            "cell_type": "code",
            "execution_count": 4,
            "metadata": {},
            "outputs": [
                {
                    "name": "stdout",
                    "output_type": "stream",
                    "text": [
                        "(46, 9)\n"
                    ]
                },
                {
                    "data": {
                        "text/html": [
                            "<div>\n",
                            "<style scoped>\n",
                            "    .dataframe tbody tr th:only-of-type {\n",
                            "        vertical-align: middle;\n",
                            "    }\n",
                            "\n",
                            "    .dataframe tbody tr th {\n",
                            "        vertical-align: top;\n",
                            "    }\n",
                            "\n",
                            "    .dataframe thead th {\n",
                            "        text-align: right;\n",
                            "    }\n",
                            "</style>\n",
                            "<table border=\"1\" class=\"dataframe\">\n",
                            "  <thead>\n",
                            "    <tr style=\"text-align: right;\">\n",
                            "      <th></th>\n",
                            "      <th>LPS_concentration</th>\n",
                            "      <th>CCL2</th>\n",
                            "      <th>GM-CSF</th>\n",
                            "      <th>IFN_gamma</th>\n",
                            "      <th>IL-1_alpha</th>\n",
                            "      <th>IL-1_beta</th>\n",
                            "      <th>IL-12_p40</th>\n",
                            "      <th>TNF_alpha</th>\n",
                            "      <th>data_type</th>\n",
                            "    </tr>\n",
                            "  </thead>\n",
                            "  <tbody>\n",
                            "    <tr>\n",
                            "      <th>0</th>\n",
                            "      <td>0ng/mL</td>\n",
                            "      <td>11060.8200</td>\n",
                            "      <td>71.65599</td>\n",
                            "      <td>0.0000</td>\n",
                            "      <td>103.83910</td>\n",
                            "      <td>814.2234</td>\n",
                            "      <td>410.1418</td>\n",
                            "      <td>1026.3970</td>\n",
                            "      <td>nELISA</td>\n",
                            "    </tr>\n",
                            "    <tr>\n",
                            "      <th>1</th>\n",
                            "      <td>0ng/mL</td>\n",
                            "      <td>903.1002</td>\n",
                            "      <td>68.41195</td>\n",
                            "      <td>0.0000</td>\n",
                            "      <td>72.09225</td>\n",
                            "      <td>512.2186</td>\n",
                            "      <td>354.4981</td>\n",
                            "      <td>745.6205</td>\n",
                            "      <td>nELISA</td>\n",
                            "    </tr>\n",
                            "    <tr>\n",
                            "      <th>2</th>\n",
                            "      <td>0ng/mL</td>\n",
                            "      <td>3832.7160</td>\n",
                            "      <td>76.71039</td>\n",
                            "      <td>127.9428</td>\n",
                            "      <td>77.38797</td>\n",
                            "      <td>477.0130</td>\n",
                            "      <td>350.3133</td>\n",
                            "      <td>825.1526</td>\n",
                            "      <td>nELISA</td>\n",
                            "    </tr>\n",
                            "    <tr>\n",
                            "      <th>3</th>\n",
                            "      <td>0ng/mL</td>\n",
                            "      <td>825.5349</td>\n",
                            "      <td>0.00000</td>\n",
                            "      <td>0.0000</td>\n",
                            "      <td>106.73500</td>\n",
                            "      <td>735.8158</td>\n",
                            "      <td>312.0023</td>\n",
                            "      <td>1541.8530</td>\n",
                            "      <td>nELISA</td>\n",
                            "    </tr>\n",
                            "    <tr>\n",
                            "      <th>4</th>\n",
                            "      <td>0ng/mL</td>\n",
                            "      <td>963.6282</td>\n",
                            "      <td>164.87550</td>\n",
                            "      <td>194.8401</td>\n",
                            "      <td>143.52110</td>\n",
                            "      <td>1105.5630</td>\n",
                            "      <td>748.3993</td>\n",
                            "      <td>1830.1450</td>\n",
                            "      <td>nELISA</td>\n",
                            "    </tr>\n",
                            "  </tbody>\n",
                            "</table>\n",
                            "</div>"
                        ],
                        "text/plain": [
                            "  LPS_concentration        CCL2     GM-CSF  IFN_gamma  IL-1_alpha  IL-1_beta  \\\n",
                            "0            0ng/mL  11060.8200   71.65599     0.0000   103.83910   814.2234   \n",
                            "1            0ng/mL    903.1002   68.41195     0.0000    72.09225   512.2186   \n",
                            "2            0ng/mL   3832.7160   76.71039   127.9428    77.38797   477.0130   \n",
                            "3            0ng/mL    825.5349    0.00000     0.0000   106.73500   735.8158   \n",
                            "4            0ng/mL    963.6282  164.87550   194.8401   143.52110  1105.5630   \n",
                            "\n",
                            "   IL-12_p40  TNF_alpha data_type  \n",
                            "0   410.1418  1026.3970    nELISA  \n",
                            "1   354.4981   745.6205    nELISA  \n",
                            "2   350.3133   825.1526    nELISA  \n",
                            "3   312.0023  1541.8530    nELISA  \n",
                            "4   748.3993  1830.1450    nELISA  "
                        ]
                    },
                    "execution_count": 4,
                    "metadata": {},
                    "output_type": "execute_result"
                }
            ],
            "source": [
                "# add a column to each dataframe to indicate the type of data\n",
                "nELISA[\"data_type\"] = \"nELISA\"\n",
                "Luminex[\"data_type\"] = \"Luminex\"\n",
                "\n",
                "# combine the two dataframes\n",
                "validation_data = pd.concat([nELISA, Luminex])\n",
                "print(validation_data.shape)\n",
                "# rename the columns to remove spaces\n",
                "validation_data.columns = [col.replace(\" \", \"_\") for col in validation_data.columns]\n",
                "# cas\n",
                "validation_data.head()"
            ]
        },
        {
            "cell_type": "code",
            "execution_count": 5,
            "metadata": {},
            "outputs": [],
            "source": [
                "# min - max scaling\n",
                "validation_data_min_max = validation_data.copy()\n",
                "\n",
                "for col in validation_data_min_max.columns:\n",
                "    if col not in [\"LPS_concentration\", \"data_type\"]:\n",
                "        validation_data_min_max[col] = (\n",
                "            validation_data_min_max[col] - validation_data_min_max[col].min()\n",
                "        ) / (validation_data_min_max[col].max() - validation_data_min_max[col].min())"
            ]
        },
        {
            "cell_type": "code",
            "execution_count": 6,
            "metadata": {},
            "outputs": [],
            "source": [
                "# convert both dataframes to long format\n",
                "validation_data_long = pd.melt(\n",
                "    validation_data,\n",
                "    id_vars=[\"LPS_concentration\", \"data_type\"],\n",
                "    var_name=\"cytokine\",\n",
                "    value_name=\"concentration\",\n",
                ")\n",
                "validation_data_min_max_long = pd.melt(\n",
                "    validation_data_min_max,\n",
                "    id_vars=[\"LPS_concentration\", \"data_type\"],\n",
                "    var_name=\"cytokine\",\n",
                "    value_name=\"concentration\",\n",
                ")"
            ]
        },
        {
            "cell_type": "code",
            "execution_count": 7,
            "metadata": {},
            "outputs": [],
            "source": [
                "# write the data to a new file\n",
                "output_file_path = pathlib.Path(\"./clean/validation/\").resolve()\n",
                "output_file_path.mkdir(parents=True, exist_ok=True)\n",
                "output_file_path = pathlib.Path(\n",
                "    \"./clean/validation/nELISA_luminex_validation_data.parquet\"\n",
                ").resolve()\n",
                "validation_data_long.to_parquet(output_file_path, index=False)\n",
                "\n",
                "output_file_path = pathlib.Path(\"./clean/validation/\").resolve()\n",
                "output_file_path.mkdir(parents=True, exist_ok=True)\n",
                "output_file_path = pathlib.Path(\n",
                "    \"./clean/validation/nELISA_luminex_validation_data_min_max.parquet\"\n",
                ").resolve()\n",
                "validation_data_min_max_long.to_parquet(output_file_path, index=False)"
            ]
        }
    ],
    "metadata": {
        "kernelspec": {
            "display_name": "Interstellar_python",
            "language": "python",
            "name": "python3"
        },
        "language_info": {
            "codemirror_mode": {
                "name": "ipython",
                "version": 3
            },
            "file_extension": ".py",
            "mimetype": "text/x-python",
            "name": "python",
            "nbconvert_exporter": "python",
            "pygments_lexer": "ipython3",
            "version": "3.10.14"
        }
    },
    "nbformat": 4,
    "nbformat_minor": 2
}
