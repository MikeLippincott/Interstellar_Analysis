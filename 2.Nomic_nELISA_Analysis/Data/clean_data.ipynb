{
 "cells": [
  {
   "cell_type": "code",
   "execution_count": 1,
   "metadata": {},
   "outputs": [],
   "source": [
    "import pandas as pd\n",
    "import pathlib"
   ]
  },
  {
   "attachments": {},
   "cell_type": "markdown",
   "metadata": {},
   "source": [
    "## Clean Data from Nomic"
   ]
  },
  {
   "cell_type": "code",
   "execution_count": 2,
   "metadata": {},
   "outputs": [],
   "source": [
    "nELISA_data_input_path = pathlib.Path(\"./raw/nELISA_Data_UCA1_2023.04.11.csv\")\n",
    "MetaData_input_path = pathlib.Path(\"./raw/Metadata_UCA1_2023.04.11.csv\")\n",
    "\n",
    "# import data\n",
    "nELISA_data_all = pd.read_csv(nELISA_data_input_path)\n",
    "MetaData = pd.read_csv(MetaData_input_path)"
   ]
  },
  {
   "cell_type": "code",
   "execution_count": 3,
   "metadata": {},
   "outputs": [
    {
     "data": {
      "text/html": [
       "<div>\n",
       "<style scoped>\n",
       "    .dataframe tbody tr th:only-of-type {\n",
       "        vertical-align: middle;\n",
       "    }\n",
       "\n",
       "    .dataframe tbody tr th {\n",
       "        vertical-align: top;\n",
       "    }\n",
       "\n",
       "    .dataframe thead th {\n",
       "        text-align: right;\n",
       "    }\n",
       "</style>\n",
       "<table border=\"1\" class=\"dataframe\">\n",
       "  <thead>\n",
       "    <tr style=\"text-align: right;\">\n",
       "      <th></th>\n",
       "      <th>plate_name</th>\n",
       "      <th>plate_barcode</th>\n",
       "      <th>position</th>\n",
       "      <th>cell_type</th>\n",
       "      <th>incubation inducer</th>\n",
       "      <th>inhibitor</th>\n",
       "      <th>inhibitor_concentration_value</th>\n",
       "      <th>inhibitor_concentration_unit</th>\n",
       "      <th>inhibitor_concentration</th>\n",
       "      <th>inducer1</th>\n",
       "      <th>inducer1_concentration_value</th>\n",
       "      <th>inducer1_concentration_unit</th>\n",
       "      <th>inducer1_concentration</th>\n",
       "      <th>inducer2</th>\n",
       "      <th>inducer2_concentration_value</th>\n",
       "      <th>inducer2_concentration_unit</th>\n",
       "      <th>inducer2_concentration</th>\n",
       "    </tr>\n",
       "  </thead>\n",
       "  <tbody>\n",
       "    <tr>\n",
       "      <th>0</th>\n",
       "      <td>70117_20230210MM1_P1</td>\n",
       "      <td>430420</td>\n",
       "      <td>B06</td>\n",
       "      <td>PBMC</td>\n",
       "      <td>6 h</td>\n",
       "      <td>DMSO</td>\n",
       "      <td>0.025</td>\n",
       "      <td>%</td>\n",
       "      <td>0.03%</td>\n",
       "      <td>DMSO</td>\n",
       "      <td>0.1</td>\n",
       "      <td>%</td>\n",
       "      <td>0.10%</td>\n",
       "      <td>NaN</td>\n",
       "      <td>NaN</td>\n",
       "      <td>NaN</td>\n",
       "      <td>NaN</td>\n",
       "    </tr>\n",
       "    <tr>\n",
       "      <th>1</th>\n",
       "      <td>70117_20230210MM1_P1</td>\n",
       "      <td>430420</td>\n",
       "      <td>C06</td>\n",
       "      <td>PBMC</td>\n",
       "      <td>6 h</td>\n",
       "      <td>DMSO</td>\n",
       "      <td>0.025</td>\n",
       "      <td>%</td>\n",
       "      <td>0.03%</td>\n",
       "      <td>DMSO</td>\n",
       "      <td>0.1</td>\n",
       "      <td>%</td>\n",
       "      <td>0.10%</td>\n",
       "      <td>NaN</td>\n",
       "      <td>NaN</td>\n",
       "      <td>NaN</td>\n",
       "      <td>NaN</td>\n",
       "    </tr>\n",
       "    <tr>\n",
       "      <th>2</th>\n",
       "      <td>70117_20230210MM1_P1</td>\n",
       "      <td>430420</td>\n",
       "      <td>I06</td>\n",
       "      <td>PBMC</td>\n",
       "      <td>6 h</td>\n",
       "      <td>DMSO</td>\n",
       "      <td>0.025</td>\n",
       "      <td>%</td>\n",
       "      <td>0.03%</td>\n",
       "      <td>DMSO</td>\n",
       "      <td>0.1</td>\n",
       "      <td>%</td>\n",
       "      <td>0.10%</td>\n",
       "      <td>NaN</td>\n",
       "      <td>NaN</td>\n",
       "      <td>NaN</td>\n",
       "      <td>NaN</td>\n",
       "    </tr>\n",
       "    <tr>\n",
       "      <th>3</th>\n",
       "      <td>70117_20230210MM1_P1</td>\n",
       "      <td>430420</td>\n",
       "      <td>J06</td>\n",
       "      <td>PBMC</td>\n",
       "      <td>6 h</td>\n",
       "      <td>DMSO</td>\n",
       "      <td>0.025</td>\n",
       "      <td>%</td>\n",
       "      <td>0.03%</td>\n",
       "      <td>DMSO</td>\n",
       "      <td>0.1</td>\n",
       "      <td>%</td>\n",
       "      <td>0.10%</td>\n",
       "      <td>NaN</td>\n",
       "      <td>NaN</td>\n",
       "      <td>NaN</td>\n",
       "      <td>NaN</td>\n",
       "    </tr>\n",
       "    <tr>\n",
       "      <th>4</th>\n",
       "      <td>70117_20230210MM1_P1</td>\n",
       "      <td>430420</td>\n",
       "      <td>B07</td>\n",
       "      <td>PBMC</td>\n",
       "      <td>6 h</td>\n",
       "      <td>DMSO</td>\n",
       "      <td>0.025</td>\n",
       "      <td>%</td>\n",
       "      <td>0.03%</td>\n",
       "      <td>DMSO</td>\n",
       "      <td>0.1</td>\n",
       "      <td>%</td>\n",
       "      <td>0.10%</td>\n",
       "      <td>NaN</td>\n",
       "      <td>NaN</td>\n",
       "      <td>NaN</td>\n",
       "      <td>NaN</td>\n",
       "    </tr>\n",
       "  </tbody>\n",
       "</table>\n",
       "</div>"
      ],
      "text/plain": [
       "             plate_name plate_barcode position cell_type incubation inducer  \\\n",
       "0  70117_20230210MM1_P1        430420      B06      PBMC                6 h   \n",
       "1  70117_20230210MM1_P1        430420      C06      PBMC                6 h   \n",
       "2  70117_20230210MM1_P1        430420      I06      PBMC                6 h   \n",
       "3  70117_20230210MM1_P1        430420      J06      PBMC                6 h   \n",
       "4  70117_20230210MM1_P1        430420      B07      PBMC                6 h   \n",
       "\n",
       "  inhibitor  inhibitor_concentration_value inhibitor_concentration_unit  \\\n",
       "0      DMSO                          0.025                            %   \n",
       "1      DMSO                          0.025                            %   \n",
       "2      DMSO                          0.025                            %   \n",
       "3      DMSO                          0.025                            %   \n",
       "4      DMSO                          0.025                            %   \n",
       "\n",
       "  inhibitor_concentration inducer1  inducer1_concentration_value  \\\n",
       "0                   0.03%     DMSO                           0.1   \n",
       "1                   0.03%     DMSO                           0.1   \n",
       "2                   0.03%     DMSO                           0.1   \n",
       "3                   0.03%     DMSO                           0.1   \n",
       "4                   0.03%     DMSO                           0.1   \n",
       "\n",
       "  inducer1_concentration_unit inducer1_concentration inducer2  \\\n",
       "0                           %                  0.10%      NaN   \n",
       "1                           %                  0.10%      NaN   \n",
       "2                           %                  0.10%      NaN   \n",
       "3                           %                  0.10%      NaN   \n",
       "4                           %                  0.10%      NaN   \n",
       "\n",
       "   inducer2_concentration_value inducer2_concentration_unit  \\\n",
       "0                           NaN                         NaN   \n",
       "1                           NaN                         NaN   \n",
       "2                           NaN                         NaN   \n",
       "3                           NaN                         NaN   \n",
       "4                           NaN                         NaN   \n",
       "\n",
       "  inducer2_concentration  \n",
       "0                    NaN  \n",
       "1                    NaN  \n",
       "2                    NaN  \n",
       "3                    NaN  \n",
       "4                    NaN  "
      ]
     },
     "execution_count": 3,
     "metadata": {},
     "output_type": "execute_result"
    }
   ],
   "source": [
    "# Change the 'A1' cell format to 'A01' format\n",
    "position = []\n",
    "for i in MetaData[\"position\"].astype(str):\n",
    "    if len(i) < 3:\n",
    "        position.append(i[:1] + f\"{0}\" + i[1:])\n",
    "    else:\n",
    "        position.append(i)\n",
    "MetaData[\"position\"] = position\n",
    "MetaData.head()"
   ]
  },
  {
   "cell_type": "code",
   "execution_count": 4,
   "metadata": {},
   "outputs": [],
   "source": [
    "# Change column names\n",
    "nELISA_data_all = nELISA_data_all.rename({\"user_well_loc\": \"position\"}, axis=1)\n",
    "nELISA_data_all.head()\n",
    "# nELISA_data\n",
    "\n",
    "MetaData[\"plate_position\"] = (\n",
    "    MetaData[\"plate_barcode\"].astype(str) + \"_\" + MetaData[\"position\"].astype(str)\n",
    ")\n",
    "MetaData[\"plate_position\"]\n",
    "\n",
    "nELISA_data_all[\"plate_position\"] = (\n",
    "    nELISA_data_all[\"user_plate_id\"].astype(str)\n",
    "    + \"_\"\n",
    "    + nELISA_data_all[\"position\"].astype(str)\n",
    ")\n",
    "\n",
    "# Fix plate naming\n",
    "nELISA_data_all.replace(regex=[\" and \"], value=\"_\", inplace=True)"
   ]
  },
  {
   "cell_type": "code",
   "execution_count": 5,
   "metadata": {},
   "outputs": [],
   "source": [
    "# Seperate df out by plate\n",
    "MetaData_plate_430418_430419 = MetaData.loc[\n",
    "    MetaData[\"plate_barcode\"] == \"430418_430419\"\n",
    "]\n",
    "\n",
    "MetaData_plate_430420 = MetaData.loc[MetaData[\"plate_barcode\"] == \"430420\"]"
   ]
  },
  {
   "cell_type": "code",
   "execution_count": 6,
   "metadata": {},
   "outputs": [],
   "source": [
    "# seperate out by plate\n",
    "nELISA_data_all_plate_430418_430419 = nELISA_data_all.loc[\n",
    "    nELISA_data_all[\"user_plate_id\"] == \"430418_430419\"\n",
    "]\n",
    "\n",
    "nELISA_data_all_plate_430420 = nELISA_data_all.loc[\n",
    "    nELISA_data_all[\"user_plate_id\"] == \"430420\"\n",
    "]"
   ]
  },
  {
   "cell_type": "code",
   "execution_count": 7,
   "metadata": {},
   "outputs": [
    {
     "data": {
      "text/plain": [
       "(308, 399)"
      ]
     },
     "execution_count": 7,
     "metadata": {},
     "output_type": "execute_result"
    }
   ],
   "source": [
    "# Merge the two dataframes for plate 430420 via concat because pandas is being a pain\n",
    "plate_430420 = pd.merge(\n",
    "    MetaData_plate_430420,\n",
    "    nELISA_data_all_plate_430420,\n",
    "    on=\"plate_position\",\n",
    "    how=\"inner\",\n",
    ")\n",
    "\n",
    "# remove empty wells and qc_fail\n",
    "plate_430420 = plate_430420[\n",
    "    ~plate_430420.nelisa_sample_comments.str.contains(\"empty_well\", na=False)\n",
    "]\n",
    "plate_430420 = plate_430420[\n",
    "    ~plate_430420.nelisa_sample_comments.str.contains(\"qc_fail\", na=False)\n",
    "]\n",
    "\n",
    "plate_430420.shape"
   ]
  },
  {
   "cell_type": "code",
   "execution_count": 8,
   "metadata": {},
   "outputs": [
    {
     "data": {
      "text/plain": [
       "(381, 399)"
      ]
     },
     "execution_count": 8,
     "metadata": {},
     "output_type": "execute_result"
    }
   ],
   "source": [
    "# Merge the two dataframes for plate 430418_430419\n",
    "plate_430418_430419 = pd.merge(\n",
    "    MetaData_plate_430418_430419,\n",
    "    nELISA_data_all_plate_430418_430419,\n",
    "    on=\"plate_position\",\n",
    "    how=\"inner\",\n",
    ")\n",
    "\n",
    "# remove empty wells and qc_fail\n",
    "plate_430418_430419 = plate_430418_430419[\n",
    "    ~plate_430418_430419.nelisa_sample_comments.str.contains(\"empty_well\", na=False)\n",
    "]\n",
    "plate_430418_430419 = plate_430418_430419[\n",
    "    ~plate_430418_430419.nelisa_sample_comments.str.contains(\"qc_fail\", na=False)\n",
    "]\n",
    "plate_430418_430419.shape"
   ]
  },
  {
   "cell_type": "code",
   "execution_count": 9,
   "metadata": {},
   "outputs": [
    {
     "data": {
      "text/plain": [
       "(154, 399)"
      ]
     },
     "execution_count": 9,
     "metadata": {},
     "output_type": "execute_result"
    }
   ],
   "source": [
    "# seperate out by cell type\n",
    "plate_430420_PBMC = plate_430420.loc[plate_430420[\"cell_type\"] == \"PBMC\"]\n",
    "plate_430420_PBMC.shape\n",
    "\n",
    "plate_430420_SH_SY5Y = plate_430420.loc[plate_430420[\"cell_type\"] == \"SH-SY5Y\"]\n",
    "plate_430420_SH_SY5Y.shape"
   ]
  },
  {
   "cell_type": "code",
   "execution_count": 10,
   "metadata": {},
   "outputs": [],
   "source": [
    "# define output paths\n",
    "nELISA_plate_430420_path = pathlib.Path(\"./clean/Plate2/nELISA_plate_430420.csv\")\n",
    "nELISA_plate_430420_PBMC_path = pathlib.Path(\n",
    "    \"./clean/Plate2/nELISA_plate_430420_PBMC.csv\"\n",
    ")\n",
    "nELISA_plate_430420_SH_SY5Y_path = pathlib.Path(\n",
    "    \"./clean/Plate2/nELISA_plate_430420_SHSY5Y.csv\"\n",
    ")\n",
    "nELISA_430418_430419_path = pathlib.Path(\n",
    "    \"./clean/Plate1/nELISA_plate_430418_430419.csv\"\n",
    ")\n",
    "# write to csv\n",
    "plate_430420.to_csv(nELISA_plate_430420_path, index=False)\n",
    "plate_430420_PBMC.to_csv(nELISA_plate_430420_PBMC_path, index=False)\n",
    "plate_430420_SH_SY5Y.to_csv(nELISA_plate_430420_SH_SY5Y_path, index=False)\n",
    "plate_430418_430419.to_csv(nELISA_430418_430419_path, index=False)"
   ]
  }
 ],
 "metadata": {
  "kernelspec": {
   "display_name": "Interstellar",
   "language": "python",
   "name": "python3"
  },
  "language_info": {
   "codemirror_mode": {
    "name": "ipython",
    "version": 3
   },
   "file_extension": ".py",
   "mimetype": "text/x-python",
   "name": "python",
   "nbconvert_exporter": "python",
   "pygments_lexer": "ipython3",
   "version": "3.10.12"
  },
  "orig_nbformat": 4,
  "vscode": {
   "interpreter": {
    "hash": "72ae02083a9ca7d143c492d1aec380c7bf553ec51bd66e90e72bba65228121b6"
   }
  }
 },
 "nbformat": 4,
 "nbformat_minor": 2
}
