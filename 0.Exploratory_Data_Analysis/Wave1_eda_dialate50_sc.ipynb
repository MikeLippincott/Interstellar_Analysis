{
 "cells": [
  {
   "attachments": {},
   "cell_type": "markdown",
   "metadata": {},
   "source": [
    "# Wave1 Exploratory Data Analysis on dilated 50 data"
   ]
  },
  {
   "attachments": {},
   "cell_type": "markdown",
   "metadata": {},
   "source": [
    "Here we understand more about the data and how it is distrubuted.\n",
    "Wave1 data are extracted features from raw images.\n",
    "These images were processed via Cellprofiler pipelines\n",
    "\n",
    "Specifically wave1 is looking at Gasdermin-D and Nuclei Staining from a cell painting experiment.\n",
    "\n",
    "Further, nuclei were dilated using multiple values of pixel dilation. Here we use data for the 50 pixel dialation"
   ]
  },
  {
   "cell_type": "code",
   "execution_count": null,
   "metadata": {},
   "outputs": [],
   "source": [
    "# Import Packages\n",
    "import sys\n",
    "import pandas as pd\n",
    "import matplotlib.pyplot as plt\n",
    "\n",
    "# import seaborn as sns\n",
    "# import pandas as pd\n",
    "import seaborn as sns\n",
    "\n",
    "# import seaborn as sns\n",
    "# import matplotlib.pyplot as plt\n",
    "%matplotlib inline\n",
    "# import plotly_express as px\n",
    "# import plotly.graph_objs as go\n",
    "# import chart_studio.plotly as py\n",
    "from sklearn.cluster import KMeans\n",
    "from sklearn.manifold import TSNE\n",
    "\n",
    "sys.path.append(\"..\")\n",
    "from utils.utils import *"
   ]
  },
  {
   "cell_type": "code",
   "execution_count": null,
   "metadata": {},
   "outputs": [],
   "source": [
    "# Import data with low memory arg as the data are large\n",
    "df = pd.read_csv(\n",
    "    \"../../Extracted Features (CSV files)/interstellar_wave1_dilate50_sc.csv.gz\",\n",
    "    low_memory=False,\n",
    ")"
   ]
  },
  {
   "cell_type": "code",
   "execution_count": null,
   "metadata": {},
   "outputs": [],
   "source": [
    "# Call function to display df shape and # of replicates present\n",
    "df_stats(df)"
   ]
  },
  {
   "cell_type": "code",
   "execution_count": null,
   "metadata": {},
   "outputs": [],
   "source": [
    "# Drop na and reindex accordingly\n",
    "df = df.dropna()\n",
    "df.reindex()\n",
    "# Check for Nans again\n",
    "df_stats(df)"
   ]
  },
  {
   "cell_type": "code",
   "execution_count": null,
   "metadata": {},
   "outputs": [],
   "source": [
    "# Understand categorical data such as treatment and dosing\n",
    "df[[\"Metadata_treatment\", \"Metadata_dose\"]].drop_duplicates()"
   ]
  },
  {
   "cell_type": "code",
   "execution_count": null,
   "metadata": {},
   "outputs": [],
   "source": [
    "# create a list with only columns from the data frame that start with \"Metadata\"\n",
    "# Code by Jenna Tomkinson\n",
    "df_subset = df.sample(n=1500)\n",
    "\n",
    "df_metadata = list(df_subset.columns[df_subset.columns.str.startswith(\"Metadata\")])\n",
    "\n",
    "# define which columns are data and which are descriptive\n",
    "df_descriptive = df_subset[df_metadata]\n",
    "df_values = df_subset.drop(columns=df_metadata)\n",
    "\n",
    "treatment_ids = df_descriptive[\"Metadata_treatment\"]"
   ]
  },
  {
   "cell_type": "code",
   "execution_count": null,
   "metadata": {},
   "outputs": [],
   "source": [
    "# Cluster data\n",
    "# clustering code adapted from https://www.kaggle.com/code/aussie84/clustering-with-kmeans-pca-tsne\n",
    "\n",
    "kmeans = KMeans(n_clusters=9)\n",
    "clustering_ori = kmeans.fit_predict(df_values)\n",
    "\n",
    "X = df_values\n",
    "Xtsne = TSNE(n_components=2).fit_transform(X)\n",
    "dftsneFull = pd.DataFrame(Xtsne)\n",
    "\n",
    "dftsneFull[\"cluster\"] = clustering_ori\n",
    "dftsneFull.columns = [\"x1\", \"x2\", \"cluster\"]\n",
    "dftsneFull[\"Treatment\"] = (\n",
    "    df_descriptive[\"Metadata_treatment\"].reset_index().drop(\"index\", axis=1)\n",
    ")"
   ]
  },
  {
   "cell_type": "code",
   "execution_count": null,
   "metadata": {},
   "outputs": [],
   "source": [
    "# Figure Showing tSNE of Clusters vs Treatment\n",
    "fig, ax = plt.subplots(1, 2, figsize=(12, 6))\n",
    "plot = sns.scatterplot(\n",
    "    data=dftsneFull, x=\"x1\", y=\"x2\", hue=\"cluster\", legend=\"full\", alpha=0.7, ax=ax[0]\n",
    ")\n",
    "ax[0].set_title(\"Visualized on TSNE\")\n",
    "plot = sns.scatterplot(\n",
    "    data=dftsneFull, x=\"x1\", y=\"x2\", hue=\"Treatment\", legend=\"full\", alpha=0.7, ax=ax[1]\n",
    ")\n",
    "ax[1].set_title(\"Visualized on TSNE\")\n",
    "fig.suptitle(\"Comparing Clusters vs Treatment tSNE\")\n",
    "df_values[\"cluster\"] = clustering_ori"
   ]
  },
  {
   "attachments": {},
   "cell_type": "markdown",
   "metadata": {},
   "source": [
    "Above tSNE shows that based on dimensionality reduction, there is no observable difference in treated cells. More sensitive methods such as machine learning models will need to be employed to achieve such."
   ]
  },
  {
   "cell_type": "code",
   "execution_count": null,
   "metadata": {},
   "outputs": [],
   "source": [
    "# callable function for graphing features that contribute most to each cluster's grouping\n",
    "plot_features_all_cluster(\n",
    "    df=df_values, label_col=\"cluster\", n_clusters=6, sensitivity=0.2\n",
    ")"
   ]
  },
  {
   "attachments": {},
   "cell_type": "markdown",
   "metadata": {},
   "source": [
    "Each Cluster has a similar distrubution in amount of features affecting its grouping"
   ]
  }
 ],
 "metadata": {
  "kernelspec": {
   "display_name": "Interstellar",
   "language": "python",
   "name": "python3"
  },
  "language_info": {
   "codemirror_mode": {
    "name": "ipython",
    "version": 3
   },
   "file_extension": ".py",
   "mimetype": "text/x-python",
   "name": "python",
   "nbconvert_exporter": "python",
   "pygments_lexer": "ipython3",
   "version": "3.10.9"
  },
  "orig_nbformat": 4,
  "vscode": {
   "interpreter": {
    "hash": "72ae02083a9ca7d143c492d1aec380c7bf553ec51bd66e90e72bba65228121b6"
   }
  }
 },
 "nbformat": 4,
 "nbformat_minor": 2
}
