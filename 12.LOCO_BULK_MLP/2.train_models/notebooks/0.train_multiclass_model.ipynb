{
    "cells": [
        {
            "cell_type": "code",
            "execution_count": 1,
            "id": "76db0f62",
            "metadata": {
                "execution": {
                    "iopub.execute_input": "2023-11-13T03:46:06.332907Z",
                    "iopub.status.busy": "2023-11-13T03:46:06.332549Z",
                    "iopub.status.idle": "2023-11-13T03:46:09.390164Z",
                    "shell.execute_reply": "2023-11-13T03:46:09.389559Z"
                },
                "papermill": {
                    "duration": 3.068881,
                    "end_time": "2023-11-13T03:46:09.391537",
                    "exception": false,
                    "start_time": "2023-11-13T03:46:06.322656",
                    "status": "completed"
                },
                "tags": []
            },
            "outputs": [],
            "source": [
                "import ast\n",
                "import gc\n",
                "import json\n",
                "import pathlib\n",
                "import sys\n",
                "\n",
                "import numpy as np\n",
                "import pandas as pd\n",
                "import toml\n",
                "import torch\n",
                "from sklearn import preprocessing\n",
                "\n",
                "MLP_parent_path = pathlib.Path(\"../../../utils/\")\n",
                "sys.path.append(str(MLP_parent_path.resolve()))\n",
                "MLP_path = pathlib.Path(\"../../../utils/MLP_utils\").resolve()\n",
                "\n",
                "import argparse\n",
                "\n",
                "import matplotlib.pyplot as plt\n",
                "import seaborn as sns\n",
                "from MLP_utils.parameters import Parameters\n",
                "from MLP_utils.utils import (\n",
                "    Dataset_formatter,\n",
                "    output_stats,\n",
                "    parameter_set,\n",
                "    plot_metric_vs_epoch,\n",
                "    results_output,\n",
                "    test_optimized_model,\n",
                "    train_optimized_model,\n",
                "    un_nest,\n",
                ")\n",
                "from sklearn.metrics import precision_recall_curve"
            ]
        },
        {
            "cell_type": "code",
            "execution_count": null,
            "id": "98446248",
            "metadata": {},
            "outputs": [],
            "source": [
                "# set up the parser\n",
                "parser = argparse.ArgumentParser(description=\"Train MLP model\")\n",
                "\n",
                "parser = argparse.ArgumentParser(description=\"Run hyperparameter optimization\")\n",
                "parser.add_argument(\n",
                "    \"--cell_type\",\n",
                "    type=str,\n",
                "    default=\"all\",\n",
                "    help=\"Cell type to run hyperparameter optimization for\",\n",
                ")\n",
                "parser.add_argument(\n",
                "    \"--model_name\",\n",
                "    type=str,\n",
                "    default=\"all\",\n",
                "    help=\"Model name to run hyperparameter optimization for\",\n",
                ")\n",
                "\n",
                "parser.add_argument(\n",
                "    \"--channel_combination_key\",\n",
                "    type=str,\n",
                "    default=\"all\",\n",
                "    help=\"key to a dictionary containing the feature types to split the data into\",\n",
                ")\n",
                "\n",
                "parser.add_argument(\n",
                "    \"--shuffle\",\n",
                "    type=str,\n",
                "    default=\"False\",\n",
                "    help=\"Shuffle data before training. Default is False\",\n",
                ")\n",
                "\n",
                "# parse the arguments\n",
                "args = parser.parse_args()\n",
                "\n",
                "CELL_TYPE = args.cell_type\n",
                "MODEL_NAME = args.model_name\n",
                "SHUFFLE = args.shuffle\n",
                "SHUFFLE = ast.literal_eval(SHUFFLE)\n",
                "channel_combination_key = args.channel_combination_key\n",
                "print(CELL_TYPE, MODEL_NAME, SHUFFLE, channel_combination_key)\n",
                "\n",
                "# CELL_TYPE = \"PBMC\"\n",
                "# MODEL_NAME = \"MLP\"\n",
                "# SHUFFLE = False\n",
                "# channel_combination_key = \"All_channels\""
            ]
        },
        {
            "cell_type": "code",
            "execution_count": 3,
            "id": "83fcb6db",
            "metadata": {},
            "outputs": [],
            "source": [
                "# load in the channel combinations file\n",
                "channel_combinations_file_path = pathlib.Path(\n",
                "    f\"../../0.data_splits/results/feature_combinations_{CELL_TYPE}.toml\"\n",
                ").resolve(strict=True)\n",
                "channel_combinations = toml.load(channel_combinations_file_path)\n",
                "channel_combinations = channel_combinations[channel_combination_key]"
            ]
        },
        {
            "cell_type": "code",
            "execution_count": 4,
            "id": "7fe861fc",
            "metadata": {
                "execution": {
                    "iopub.execute_input": "2023-11-13T03:46:09.446006Z",
                    "iopub.status.busy": "2023-11-13T03:46:09.445617Z",
                    "iopub.status.idle": "2023-11-13T03:46:09.451397Z",
                    "shell.execute_reply": "2023-11-13T03:46:09.450978Z"
                },
                "papermill": {
                    "duration": 0.015233,
                    "end_time": "2023-11-13T03:46:09.452351",
                    "exception": false,
                    "start_time": "2023-11-13T03:46:09.437118",
                    "status": "completed"
                },
                "tags": []
            },
            "outputs": [
                {
                    "data": {
                        "text/plain": [
                            "[0.948051948051948, 0.5194805194805194, 0.5324675324675325]"
                        ]
                    },
                    "execution_count": 4,
                    "metadata": {},
                    "output_type": "execute_result"
                }
            ],
            "source": [
                "ml_configs_file = pathlib.Path(MLP_path / \"multi_class_config.toml\").resolve(\n",
                "    strict=True\n",
                ")\n",
                "ml_configs = toml.load(ml_configs_file)\n",
                "params = Parameters()\n",
                "mlp_params = parameter_set(params, ml_configs)\n",
                "\n",
                "# overwrite params via command line arguments from papermill\n",
                "mlp_params.CELL_TYPE = CELL_TYPE\n",
                "mlp_params.MODEL_NAME = f\"{MODEL_NAME}_{channel_combination_key}\"\n",
                "mlp_params.SHUFFLE = SHUFFLE\n",
                "mlp_params.BATCH_SIZE = 2\n",
                "# load in the class weights\n",
                "# get weights\n",
                "class_weights_file = pathlib.Path(\n",
                "    f\"../../0.data_splits/class_weights/{CELL_TYPE}/multi_class/class_weights.json\"\n",
                ").resolve(strict=True)\n",
                "encoder_file = pathlib.Path(\n",
                "    f\"../../0.data_splits/class_weights/{CELL_TYPE}/multi_class/encoder.json\"\n",
                ").resolve(strict=True)\n",
                "# read in the class weights file json into a dict\n",
                "with open(class_weights_file, \"r\") as file:\n",
                "    class_weights = json.load(file)\n",
                "with open(encoder_file, \"r\") as file:\n",
                "    encoder = json.load(file)\n",
                "\n",
                "# replace the class weights key with the encoder key's matching value\n",
                "class_weights = {encoder[key]: value for key, value in class_weights.items()}\n",
                "class_weights = [f for f in class_weights.values()]\n",
                "class_weights"
            ]
        },
        {
            "cell_type": "code",
            "execution_count": 5,
            "id": "5f05b3f4",
            "metadata": {
                "execution": {
                    "iopub.execute_input": "2023-11-13T03:46:09.469050Z",
                    "iopub.status.busy": "2023-11-13T03:46:09.468681Z",
                    "iopub.status.idle": "2023-11-13T03:46:38.488828Z",
                    "shell.execute_reply": "2023-11-13T03:46:38.488256Z"
                },
                "papermill": {
                    "duration": 29.029959,
                    "end_time": "2023-11-13T03:46:38.490348",
                    "exception": false,
                    "start_time": "2023-11-13T03:46:09.460389",
                    "status": "completed"
                },
                "tags": []
            },
            "outputs": [
                {
                    "data": {
                        "text/plain": [
                            "(154, 1309)"
                        ]
                    },
                    "execution_count": 5,
                    "metadata": {},
                    "output_type": "execute_result"
                }
            ],
            "source": [
                "# Import Data\n",
                "# set data file path under pathlib path for multi-system use\n",
                "\n",
                "file_path = pathlib.Path(\n",
                "    f\"../../../data/{mlp_params.CELL_TYPE}_preprocessed_sc_norm_aggregated.parquet\"\n",
                ").resolve(strict=True)\n",
                "\n",
                "df1 = pd.read_parquet(file_path, columns=channel_combinations)\n",
                "df1.shape"
            ]
        },
        {
            "cell_type": "code",
            "execution_count": 6,
            "id": "6c372a03",
            "metadata": {
                "execution": {
                    "iopub.execute_input": "2023-11-13T03:46:38.510926Z",
                    "iopub.status.busy": "2023-11-13T03:46:38.510590Z",
                    "iopub.status.idle": "2023-11-13T03:46:38.515770Z",
                    "shell.execute_reply": "2023-11-13T03:46:38.515225Z"
                },
                "papermill": {
                    "duration": 0.014971,
                    "end_time": "2023-11-13T03:46:38.517006",
                    "exception": false,
                    "start_time": "2023-11-13T03:46:38.502035",
                    "status": "completed"
                },
                "tags": []
            },
            "outputs": [],
            "source": [
                "# get paths for toml files\n",
                "ground_truth_file_path = pathlib.Path(MLP_path / f\"ground_truth.toml\").resolve(\n",
                "    strict=True\n",
                ")\n",
                "\n",
                "# read toml files\n",
                "ground_truth = toml.load(ground_truth_file_path)"
            ]
        },
        {
            "cell_type": "code",
            "execution_count": 7,
            "id": "63523a09",
            "metadata": {
                "execution": {
                    "iopub.execute_input": "2023-11-13T03:46:38.533853Z",
                    "iopub.status.busy": "2023-11-13T03:46:38.533375Z",
                    "iopub.status.idle": "2023-11-13T03:46:38.536081Z",
                    "shell.execute_reply": "2023-11-13T03:46:38.535698Z"
                },
                "papermill": {
                    "duration": 0.012175,
                    "end_time": "2023-11-13T03:46:38.536982",
                    "exception": false,
                    "start_time": "2023-11-13T03:46:38.524807",
                    "status": "completed"
                },
                "tags": []
            },
            "outputs": [],
            "source": [
                "# get information from toml files\n",
                "apoptosis_groups_list = ground_truth[\"Apoptosis\"][\"apoptosis_groups_list\"]\n",
                "pyroptosis_groups_list = ground_truth[\"Pyroptosis\"][\"pyroptosis_groups_list\"]\n",
                "healthy_groups_list = ground_truth[\"Healthy\"][\"healthy_groups_list\"]"
            ]
        },
        {
            "cell_type": "markdown",
            "id": "7c5e28b5",
            "metadata": {
                "papermill": {
                    "duration": 0.007627,
                    "end_time": "2023-11-13T03:46:38.552274",
                    "exception": false,
                    "start_time": "2023-11-13T03:46:38.544647",
                    "status": "completed"
                },
                "tags": []
            },
            "source": [
                "#### Set up Data to be compatible with model"
            ]
        },
        {
            "cell_type": "markdown",
            "id": "5efd38f4",
            "metadata": {
                "papermill": {
                    "duration": 0.00759,
                    "end_time": "2023-11-13T03:46:38.567493",
                    "exception": false,
                    "start_time": "2023-11-13T03:46:38.559903",
                    "status": "completed"
                },
                "tags": []
            },
            "source": [
                "##### Classification Models:\n",
                "Comment out code if using regression"
            ]
        },
        {
            "cell_type": "code",
            "execution_count": 8,
            "id": "892c99cb",
            "metadata": {
                "execution": {
                    "iopub.execute_input": "2023-11-13T03:46:38.583852Z",
                    "iopub.status.busy": "2023-11-13T03:46:38.583443Z",
                    "iopub.status.idle": "2023-11-13T03:46:38.586992Z",
                    "shell.execute_reply": "2023-11-13T03:46:38.586604Z"
                },
                "papermill": {
                    "duration": 0.012778,
                    "end_time": "2023-11-13T03:46:38.587892",
                    "exception": false,
                    "start_time": "2023-11-13T03:46:38.575114",
                    "status": "completed"
                },
                "tags": []
            },
            "outputs": [
                {
                    "name": "stdout",
                    "output_type": "stream",
                    "text": [
                        "Data Subset Is Off\n"
                    ]
                }
            ],
            "source": [
                "np.random.seed(0)\n",
                "if ast.literal_eval(mlp_params.DATA_SUBSET_OPTION):\n",
                "    df1 = df1.groupby(\"oneb_Metadata_Treatment_Dose_Inhibitor_Dose\").apply(\n",
                "        lambda x: x.sample(n=mlp_params.DATA_SUBSET_NUMBER, random_state=0)\n",
                "    )\n",
                "    print(\"Data Subset Is On\")\n",
                "    print(f\"Data is subset to {mlp_params.DATA_SUBSET_NUMBER} per treatment group\")\n",
                "    print(df1.shape)\n",
                "    df1.reset_index(drop=True, inplace=True)\n",
                "else:\n",
                "    print(\"Data Subset Is Off\")"
            ]
        },
        {
            "cell_type": "code",
            "execution_count": 9,
            "id": "48b83d0d",
            "metadata": {
                "execution": {
                    "iopub.execute_input": "2023-11-13T03:22:33.025827Z",
                    "iopub.status.busy": "2023-11-13T03:22:33.025490Z",
                    "iopub.status.idle": "2023-11-13T03:36:58.170038Z",
                    "shell.execute_reply": "2023-11-13T03:36:58.169419Z"
                },
                "papermill": {
                    "duration": null,
                    "end_time": null,
                    "exception": false,
                    "start_time": "2023-11-13T03:46:38.595635",
                    "status": "running"
                },
                "tags": []
            },
            "outputs": [],
            "source": [
                "# add apoptosis, pyroptosis and healthy columns to dataframe\n",
                "df1[\"apoptosis\"] = df1[\"oneb_Metadata_Treatment_Dose_Inhibitor_Dose\"].isin(\n",
                "    apoptosis_groups_list\n",
                ")\n",
                "df1[\"pyroptosis\"] = df1[\"oneb_Metadata_Treatment_Dose_Inhibitor_Dose\"].isin(\n",
                "    pyroptosis_groups_list\n",
                ")\n",
                "df1[\"healthy\"] = df1[\"oneb_Metadata_Treatment_Dose_Inhibitor_Dose\"].isin(\n",
                "    healthy_groups_list\n",
                ")\n",
                "\n",
                "# merge apoptosis, pyroptosis, and healthy columns into one column\n",
                "conditions = [\n",
                "    (df1[\"apoptosis\"] == True),\n",
                "    (df1[\"pyroptosis\"] == True),\n",
                "    (df1[\"healthy\"] == True),\n",
                "]\n",
                "choices = [\"apoptosis\", \"pyroptosis\", \"healthy\"]\n",
                "df1[\"labels\"] = np.select(conditions, choices, default=\"healthy\")\n",
                "\n",
                "# drop apoptosis, pyroptosis, and healthy columns\n",
                "df1.drop(columns=[\"apoptosis\", \"pyroptosis\", \"healthy\"], inplace=True)"
            ]
        },
        {
            "cell_type": "code",
            "execution_count": 10,
            "id": "615a24e0",
            "metadata": {
                "execution": {
                    "iopub.execute_input": "2023-11-13T03:36:58.231714Z",
                    "iopub.status.busy": "2023-11-13T03:36:58.231431Z",
                    "iopub.status.idle": "2023-11-13T03:36:58.299402Z",
                    "shell.execute_reply": "2023-11-13T03:36:58.298842Z"
                },
                "papermill": {
                    "duration": null,
                    "end_time": null,
                    "exception": null,
                    "start_time": null,
                    "status": "pending"
                },
                "tags": []
            },
            "outputs": [],
            "source": [
                "index_path = pathlib.Path(f\"../../0.data_splits/indexes/{CELL_TYPE}/multi_class/\")\n",
                "# save indexes as tsv file\n",
                "index_data_path = pathlib.Path(\n",
                "    f\"{index_path}/{params.CELL_TYPE}_data_split_indexes.tsv\", sep=\"\\t\", index=False\n",
                ")\n",
                "indexes = pd.read_csv(index_data_path, sep=\"\\t\")\n",
                "# get the labeld_data_index column from the indexes dataframe for train label\n",
                "training_data_set_index = indexes.loc[\n",
                "    indexes[\"label\"] == \"train\", \"labeled_data_index\"\n",
                "].values\n",
                "val_data_set_index = indexes.loc[indexes[\"label\"] == \"val\", \"labeled_data_index\"].values\n",
                "testing_data_set_index = indexes.loc[\n",
                "    indexes[\"label\"] == \"test\", \"labeled_data_index\"\n",
                "].values"
            ]
        },
        {
            "cell_type": "code",
            "execution_count": 11,
            "id": "3d9db49e",
            "metadata": {
                "execution": {
                    "iopub.execute_input": "2023-11-13T03:36:58.457224Z",
                    "iopub.status.busy": "2023-11-13T03:36:58.456928Z",
                    "iopub.status.idle": "2023-11-13T03:37:05.029867Z",
                    "shell.execute_reply": "2023-11-13T03:37:05.029317Z"
                },
                "papermill": {
                    "duration": null,
                    "end_time": null,
                    "exception": null,
                    "start_time": null,
                    "status": "pending"
                },
                "tags": []
            },
            "outputs": [
                {
                    "name": "stderr",
                    "output_type": "stream",
                    "text": [
                        "/tmp/ipykernel_905128/767600900.py:6: SettingWithCopyWarning: \n",
                        "A value is trying to be set on a copy of a slice from a DataFrame.\n",
                        "Try using .loc[row_indexer,col_indexer] = value instead\n",
                        "\n",
                        "See the caveats in the documentation: https://pandas.pydata.org/pandas-docs/stable/user_guide/indexing.html#returning-a-view-versus-a-copy\n",
                        "  df_descriptive[\"labels\"] = df1[\"labels\"]\n"
                    ]
                },
                {
                    "data": {
                        "text/plain": [
                            "(154, 1309)"
                        ]
                    },
                    "execution_count": 11,
                    "metadata": {},
                    "output_type": "execute_result"
                }
            ],
            "source": [
                "# Code snippet for metadata extraction by Jenna Tomkinson\n",
                "df_metadata = list(df1.columns[df1.columns.str.startswith(\"Metadata\")])\n",
                "\n",
                "# define which columns are data and which are descriptive\n",
                "df_descriptive = df1[df_metadata]\n",
                "df_descriptive[\"labels\"] = df1[\"labels\"]\n",
                "df_values = df1.drop(columns=df_metadata)\n",
                "df_values.shape"
            ]
        },
        {
            "cell_type": "code",
            "execution_count": 12,
            "id": "8924c31e",
            "metadata": {
                "execution": {
                    "iopub.execute_input": "2023-11-13T03:37:05.052514Z",
                    "iopub.status.busy": "2023-11-13T03:37:05.052246Z",
                    "iopub.status.idle": "2023-11-13T03:37:12.172056Z",
                    "shell.execute_reply": "2023-11-13T03:37:12.171584Z"
                },
                "papermill": {
                    "duration": null,
                    "end_time": null,
                    "exception": null,
                    "start_time": null,
                    "status": "pending"
                },
                "tags": []
            },
            "outputs": [
                {
                    "data": {
                        "text/plain": [
                            "array([2, 1, 0])"
                        ]
                    },
                    "execution_count": 12,
                    "metadata": {},
                    "output_type": "execute_result"
                }
            ],
            "source": [
                "# Creating label encoder\n",
                "le = preprocessing.LabelEncoder()\n",
                "# Converting strings into numbers\n",
                "df_values[\"new_labels\"] = le.fit_transform(df_values[\"labels\"])\n",
                "# get mini dataframe that contains the decoder\n",
                "df_labels = df_values[[\"labels\", \"new_labels\"]]\n",
                "# split into X and Y where Y are the predictive column and x are the observable data\n",
                "df_values_X = df_values.drop(\n",
                "    columns=[\"new_labels\", \"labels\", \"oneb_Metadata_Treatment_Dose_Inhibitor_Dose\"]\n",
                ")\n",
                "df_values_Y = df_values[\"new_labels\"]\n",
                "df_values_Y.unique()"
            ]
        },
        {
            "cell_type": "code",
            "execution_count": 13,
            "id": "b18afc16",
            "metadata": {
                "execution": {
                    "iopub.execute_input": "2023-11-13T03:37:12.193904Z",
                    "iopub.status.busy": "2023-11-13T03:37:12.193605Z",
                    "iopub.status.idle": "2023-11-13T03:37:12.196539Z",
                    "shell.execute_reply": "2023-11-13T03:37:12.196160Z"
                },
                "papermill": {
                    "duration": null,
                    "end_time": null,
                    "exception": null,
                    "start_time": null,
                    "status": "pending"
                },
                "tags": []
            },
            "outputs": [
                {
                    "name": "stdout",
                    "output_type": "stream",
                    "text": [
                        "(93,) (24,) (37,) (154, 1310)\n"
                    ]
                }
            ],
            "source": [
                "print(\n",
                "    training_data_set_index.shape,\n",
                "    val_data_set_index.shape,\n",
                "    testing_data_set_index.shape,\n",
                "    df1.shape,\n",
                ")"
            ]
        },
        {
            "cell_type": "code",
            "execution_count": 14,
            "id": "57f9bc96",
            "metadata": {},
            "outputs": [],
            "source": [
                "# check that all of the indicies are correct\n",
                "assert (\n",
                "    training_data_set_index.shape[0]\n",
                "    + val_data_set_index.shape[0]\n",
                "    + testing_data_set_index.shape[0]\n",
                "    == df1.shape[0]\n",
                ")"
            ]
        },
        {
            "cell_type": "code",
            "execution_count": 15,
            "id": "84c24e0f",
            "metadata": {
                "execution": {
                    "iopub.execute_input": "2023-11-13T03:37:12.213904Z",
                    "iopub.status.busy": "2023-11-13T03:37:12.213628Z",
                    "iopub.status.idle": "2023-11-13T03:37:14.457835Z",
                    "shell.execute_reply": "2023-11-13T03:37:14.457329Z"
                },
                "papermill": {
                    "duration": null,
                    "end_time": null,
                    "exception": null,
                    "start_time": null,
                    "status": "pending"
                },
                "tags": []
            },
            "outputs": [],
            "source": [
                "# get the train, validation, test, and holdout dataframes from the indexes\n",
                "X_train = df_values_X.loc[training_data_set_index]\n",
                "X_val = df_values_X.loc[val_data_set_index]\n",
                "X_test = df_values_X.loc[testing_data_set_index]\n",
                "\n",
                "\n",
                "Y_train = df_values_Y.loc[training_data_set_index]\n",
                "Y_val = df_values_Y.loc[val_data_set_index]\n",
                "Y_test = df_values_Y.loc[testing_data_set_index]\n",
                "\n",
                "\n",
                "metadata_train = df_descriptive.loc[training_data_set_index]\n",
                "metadata_val = df_descriptive.loc[val_data_set_index]\n",
                "metadata_test = df_descriptive.loc[testing_data_set_index]"
            ]
        },
        {
            "cell_type": "code",
            "execution_count": 16,
            "id": "ea706992",
            "metadata": {
                "execution": {
                    "iopub.execute_input": "2023-11-13T03:37:14.478143Z",
                    "iopub.status.busy": "2023-11-13T03:37:14.477912Z",
                    "iopub.status.idle": "2023-11-13T03:37:14.487042Z",
                    "shell.execute_reply": "2023-11-13T03:37:14.486667Z"
                },
                "papermill": {
                    "duration": null,
                    "end_time": null,
                    "exception": null,
                    "start_time": null,
                    "status": "pending"
                },
                "tags": []
            },
            "outputs": [
                {
                    "name": "stdout",
                    "output_type": "stream",
                    "text": [
                        "(5,) (45,) (43,)\n",
                        "(1,) (12,) (11,)\n",
                        "(2,) (17,) (18,)\n"
                    ]
                }
            ],
            "source": [
                "print(\n",
                "    Y_train[Y_train == 0].shape,\n",
                "    Y_train[Y_train == 1].shape,\n",
                "    Y_train[Y_train == 2].shape,\n",
                ")\n",
                "print(Y_val[Y_val == 0].shape, Y_val[Y_val == 1].shape, Y_val[Y_val == 2].shape)\n",
                "print(Y_test[Y_test == 0].shape, Y_test[Y_test == 1].shape, Y_test[Y_test == 2].shape)"
            ]
        },
        {
            "cell_type": "code",
            "execution_count": 17,
            "id": "99dc42ca",
            "metadata": {
                "execution": {
                    "iopub.execute_input": "2023-11-13T03:37:14.504746Z",
                    "iopub.status.busy": "2023-11-13T03:37:14.504457Z",
                    "iopub.status.idle": "2023-11-13T03:37:14.507803Z",
                    "shell.execute_reply": "2023-11-13T03:37:14.507423Z"
                },
                "papermill": {
                    "duration": null,
                    "end_time": null,
                    "exception": null,
                    "start_time": null,
                    "status": "pending"
                },
                "tags": []
            },
            "outputs": [],
            "source": [
                "# reset indexes for all dataframes\n",
                "X_train.reset_index(drop=True, inplace=True)\n",
                "X_val.reset_index(drop=True, inplace=True)\n",
                "X_test.reset_index(drop=True, inplace=True)\n",
                "\n",
                "\n",
                "Y_train.reset_index(drop=True, inplace=True)\n",
                "Y_val.reset_index(drop=True, inplace=True)\n",
                "Y_test.reset_index(drop=True, inplace=True)"
            ]
        },
        {
            "cell_type": "code",
            "execution_count": 18,
            "id": "91c0f8c0",
            "metadata": {
                "execution": {
                    "iopub.execute_input": "2023-11-13T03:37:14.525385Z",
                    "iopub.status.busy": "2023-11-13T03:37:14.525116Z",
                    "iopub.status.idle": "2023-11-13T03:37:14.527731Z",
                    "shell.execute_reply": "2023-11-13T03:37:14.527355Z"
                },
                "papermill": {
                    "duration": null,
                    "end_time": null,
                    "exception": null,
                    "start_time": null,
                    "status": "pending"
                },
                "tags": []
            },
            "outputs": [
                {
                    "name": "stdout",
                    "output_type": "stream",
                    "text": [
                        "(93, 1307) (24, 1307) (37, 1307)\n",
                        "(93,) (24,) (37,)\n"
                    ]
                }
            ],
            "source": [
                "print(X_train.shape, X_val.shape, X_test.shape)\n",
                "print(Y_train.shape, Y_val.shape, Y_test.shape)"
            ]
        },
        {
            "cell_type": "markdown",
            "id": "fddc7c36",
            "metadata": {},
            "source": [
                "#### Shuffle Data\n"
            ]
        },
        {
            "cell_type": "code",
            "execution_count": 19,
            "id": "30dd3ed1",
            "metadata": {},
            "outputs": [],
            "source": [
                "np.random.seed(0)\n",
                "\n",
                "if SHUFFLE:\n",
                "    print(\"Shuffling Data\")\n",
                "    for column in X_train.columns:\n",
                "        X_train[column] = np.random.permutation(X_train[column].values)"
            ]
        },
        {
            "cell_type": "markdown",
            "id": "4dfa9d10",
            "metadata": {
                "papermill": {
                    "duration": null,
                    "end_time": null,
                    "exception": null,
                    "start_time": null,
                    "status": "pending"
                },
                "tags": []
            },
            "source": [
                "#### Split Data - All Models can proceed through this point"
            ]
        },
        {
            "cell_type": "code",
            "execution_count": 20,
            "id": "af3c3a87",
            "metadata": {},
            "outputs": [
                {
                    "name": "stdout",
                    "output_type": "stream",
                    "text": [
                        "3\n"
                    ]
                }
            ],
            "source": [
                "mlp_params.OUT_FEATURES = Y_train.unique().shape[0]\n",
                "print(mlp_params.OUT_FEATURES)"
            ]
        },
        {
            "cell_type": "code",
            "execution_count": 21,
            "id": "8a0e1806",
            "metadata": {},
            "outputs": [
                {
                    "name": "stdout",
                    "output_type": "stream",
                    "text": [
                        "torch.Size([93, 1307]) torch.Size([24, 1307]) torch.Size([37, 1307])\n"
                    ]
                }
            ],
            "source": [
                "Y_train = torch.tensor(Y_train.values)\n",
                "Y_train = torch.nn.functional.one_hot(\n",
                "    Y_train, num_classes=mlp_params.OUT_FEATURES\n",
                ").float()\n",
                "\n",
                "Y_val = torch.tensor(Y_val.values)\n",
                "Y_val = torch.nn.functional.one_hot(Y_val, num_classes=mlp_params.OUT_FEATURES).float()\n",
                "\n",
                "Y_test = torch.tensor(Y_test.values)\n",
                "Y_test = torch.nn.functional.one_hot(\n",
                "    Y_test, num_classes=mlp_params.OUT_FEATURES\n",
                ").float()\n",
                "\n",
                "\n",
                "# convert the X dataframes to tensors\n",
                "X_train = torch.tensor(X_train.values).float()\n",
                "X_val = torch.tensor(X_val.values).float()\n",
                "X_test = torch.tensor(X_test.values).float()\n",
                "\n",
                "print(X_train.shape, X_val.shape, X_test.shape)"
            ]
        },
        {
            "cell_type": "code",
            "execution_count": 22,
            "id": "1f189e2b",
            "metadata": {},
            "outputs": [
                {
                    "data": {
                        "text/plain": [
                            "tensor([[ 0.0119, -0.0056,  0.0202,  ..., -0.0078, -0.0107, -0.0091],\n",
                            "        [-0.0024, -0.0277,  0.0207,  ...,  0.0201,  0.0246,  0.0210],\n",
                            "        [-0.0133,  0.0743,  0.0095,  ..., -0.0243, -0.0288, -0.0205],\n",
                            "        ...,\n",
                            "        [ 0.1314,  0.3193,  0.1073,  ...,  0.0598,  0.0643,  0.0543],\n",
                            "        [-0.0319, -0.3155, -0.1231,  ..., -0.1124, -0.0696, -0.0907],\n",
                            "        [ 0.0765, -0.0977,  0.1021,  ..., -0.0007,  0.0119,  0.0008]])"
                        ]
                    },
                    "execution_count": 22,
                    "metadata": {},
                    "output_type": "execute_result"
                }
            ],
            "source": [
                "X_train"
            ]
        },
        {
            "cell_type": "code",
            "execution_count": 23,
            "id": "671d27c1",
            "metadata": {},
            "outputs": [],
            "source": [
                "# produce data objects for train, val and test datasets\n",
                "train_data = torch.utils.data.TensorDataset(X_train, Y_train)\n",
                "val_data = torch.utils.data.TensorDataset(X_val, Y_val)\n",
                "test_data = torch.utils.data.TensorDataset(X_test, Y_test)"
            ]
        },
        {
            "cell_type": "code",
            "execution_count": 24,
            "id": "7c628ee1",
            "metadata": {
                "execution": {
                    "iopub.execute_input": "2023-11-13T03:37:14.715138Z",
                    "iopub.status.busy": "2023-11-13T03:37:14.714939Z",
                    "iopub.status.idle": "2023-11-13T03:37:14.905206Z",
                    "shell.execute_reply": "2023-11-13T03:37:14.904707Z"
                },
                "papermill": {
                    "duration": null,
                    "end_time": null,
                    "exception": null,
                    "start_time": null,
                    "status": "pending"
                },
                "tags": []
            },
            "outputs": [
                {
                    "name": "stdout",
                    "output_type": "stream",
                    "text": [
                        "Number of in features:  1307\n",
                        "Number of out features:  3\n",
                        "Multi_Class\n"
                    ]
                }
            ],
            "source": [
                "mlp_params.IN_FEATURES = X_train.shape[1]\n",
                "print(\"Number of in features: \", mlp_params.IN_FEATURES)\n",
                "if mlp_params.MODEL_TYPE == \"Regression\":\n",
                "    mlp_params.OUT_FEATURES = 1\n",
                "else:\n",
                "    mlp_params.OUT_FEATURES = len(df_values[\"labels\"].unique())\n",
                "\n",
                "print(\"Number of out features: \", mlp_params.OUT_FEATURES)\n",
                "\n",
                "if mlp_params.OUT_FEATURES > 2:\n",
                "    mlp_params.MODEL_TYPE = \"Multi_Class\"\n",
                "elif mlp_params.OUT_FEATURES == 2:\n",
                "    mlp_params.OUT_FEATURES = mlp_params.OUT_FEATURES - 1\n",
                "    mlp_params.MODEL_TYPE = \"Binary_Classification\"\n",
                "elif mlp_params.OUT_FEATURES == 1:\n",
                "    mlp_params.MODEL_TYPE = \"Regression\"\n",
                "else:\n",
                "    pass\n",
                "print(mlp_params.MODEL_TYPE)"
            ]
        },
        {
            "cell_type": "code",
            "execution_count": 25,
            "id": "35e3c505",
            "metadata": {
                "execution": {
                    "iopub.execute_input": "2023-11-13T03:37:14.923652Z",
                    "iopub.status.busy": "2023-11-13T03:37:14.923418Z",
                    "iopub.status.idle": "2023-11-13T03:37:14.926694Z",
                    "shell.execute_reply": "2023-11-13T03:37:14.926322Z"
                },
                "papermill": {
                    "duration": null,
                    "end_time": null,
                    "exception": null,
                    "start_time": null,
                    "status": "pending"
                },
                "tags": []
            },
            "outputs": [],
            "source": [
                "# convert data class into a dataloader to be compatible with pytorch\n",
                "train_loader = torch.utils.data.DataLoader(\n",
                "    dataset=train_data, batch_size=mlp_params.BATCH_SIZE, shuffle=True\n",
                ")\n",
                "valid_loader = torch.utils.data.DataLoader(\n",
                "    dataset=val_data, batch_size=mlp_params.BATCH_SIZE, shuffle=False\n",
                ")\n",
                "test_loader = torch.utils.data.DataLoader(\n",
                "    dataset=test_data, batch_size=1, shuffle=False\n",
                ")"
            ]
        },
        {
            "cell_type": "code",
            "execution_count": 26,
            "id": "4ab763c4",
            "metadata": {
                "execution": {
                    "iopub.execute_input": "2023-11-13T03:37:14.945223Z",
                    "iopub.status.busy": "2023-11-13T03:37:14.944639Z",
                    "iopub.status.idle": "2023-11-13T03:45:26.118958Z",
                    "shell.execute_reply": "2023-11-13T03:45:26.118478Z"
                },
                "papermill": {
                    "duration": null,
                    "end_time": null,
                    "exception": null,
                    "start_time": null,
                    "status": "pending"
                },
                "tags": []
            },
            "outputs": [
                {
                    "name": "stdout",
                    "output_type": "stream",
                    "text": [
                        "Adam\n",
                        "Epoch 0: Validation loss decreased (inf --> 0.120178).  Saving model ...\n",
                        "\t Train_Loss: 0.3946 Train_Acc: 0.000 Val_Loss: 0.1202  BEST VAL Loss: 0.1202  Val_Acc: 0.000\n",
                        "\n",
                        "Epoch 1: Validation loss decreased (0.120178 --> 0.105356).  Saving model ...\n",
                        "\t Train_Loss: 0.2690 Train_Acc: 0.000 Val_Loss: 0.1054  BEST VAL Loss: 0.1054  Val_Acc: 0.000\n",
                        "\n",
                        "Epoch 2: Validation loss did not decrease\n",
                        "\t Train_Loss: 0.1910 Train_Acc: 0.000 Val_Loss: 0.1232  BEST VAL Loss: 0.1054  Val_Acc: 0.000\n",
                        "\n",
                        "Epoch 3: Validation loss did not decrease\n",
                        "\t Train_Loss: 0.1496 Train_Acc: 0.000 Val_Loss: 0.1576  BEST VAL Loss: 0.1054  Val_Acc: 0.000\n",
                        "\n",
                        "Epoch 4: Validation loss did not decrease\n",
                        "\t Train_Loss: 0.1621 Train_Acc: 1.075 Val_Loss: 0.2534  BEST VAL Loss: 0.1054  Val_Acc: 4.167\n",
                        "\n",
                        "Epoch 5: Validation loss did not decrease\n",
                        "\t Train_Loss: 0.1623 Train_Acc: 0.000 Val_Loss: 0.2507  BEST VAL Loss: 0.1054  Val_Acc: 0.000\n",
                        "\n",
                        "Epoch 6: Validation loss did not decrease\n",
                        "\t Train_Loss: 0.1531 Train_Acc: 0.000 Val_Loss: 0.2361  BEST VAL Loss: 0.1054  Val_Acc: 0.000\n",
                        "\n",
                        "Epoch 7: Validation loss did not decrease\n",
                        "\t Train_Loss: 0.1476 Train_Acc: 0.000 Val_Loss: 0.2123  BEST VAL Loss: 0.1054  Val_Acc: 0.000\n",
                        "\n",
                        "Epoch 8: Validation loss did not decrease\n",
                        "\t Train_Loss: 0.1343 Train_Acc: 0.000 Val_Loss: 0.1888  BEST VAL Loss: 0.1054  Val_Acc: 0.000\n",
                        "\n",
                        "Epoch 9: Validation loss did not decrease\n",
                        "\t Train_Loss: 0.1216 Train_Acc: 0.000 Val_Loss: 0.1705  BEST VAL Loss: 0.1054  Val_Acc: 0.000\n",
                        "\n",
                        "Epoch 10: Validation loss did not decrease\n",
                        "\t Train_Loss: 0.1107 Train_Acc: 0.000 Val_Loss: 0.1554  BEST VAL Loss: 0.1054  Val_Acc: 0.000\n",
                        "\n",
                        "Epoch 11: Validation loss did not decrease\n",
                        "\t Train_Loss: 0.1015 Train_Acc: 0.000 Val_Loss: 0.1426  BEST VAL Loss: 0.1054  Val_Acc: 0.000\n",
                        "\n",
                        "Epoch 12: Validation loss did not decrease\n",
                        "\t Train_Loss: 0.0937 Train_Acc: 0.000 Val_Loss: 0.1317  BEST VAL Loss: 0.1054  Val_Acc: 0.000\n",
                        "\n",
                        "Epoch 13: Validation loss did not decrease\n",
                        "\t Train_Loss: 0.0879 Train_Acc: 0.000 Val_Loss: 0.1223  BEST VAL Loss: 0.1054  Val_Acc: 0.000\n",
                        "\n",
                        "Epoch 14: Validation loss did not decrease\n",
                        "\t Train_Loss: 0.0821 Train_Acc: 0.000 Val_Loss: 0.1142  BEST VAL Loss: 0.1054  Val_Acc: 0.000\n",
                        "\n",
                        "Epoch 15: Validation loss did not decrease\n",
                        "\t Train_Loss: 0.0773 Train_Acc: 0.000 Val_Loss: 0.1071  BEST VAL Loss: 0.1054  Val_Acc: 0.000\n",
                        "\n",
                        "Epoch 16: Validation loss decreased (0.105356 --> 0.100801).  Saving model ...\n",
                        "\t Train_Loss: 0.0728 Train_Acc: 0.000 Val_Loss: 0.1008  BEST VAL Loss: 0.1008  Val_Acc: 0.000\n",
                        "\n",
                        "Epoch 17: Validation loss decreased (0.100801 --> 0.095215).  Saving model ...\n",
                        "\t Train_Loss: 0.0688 Train_Acc: 0.000 Val_Loss: 0.0952  BEST VAL Loss: 0.0952  Val_Acc: 0.000\n",
                        "\n",
                        "Epoch 18: Validation loss did not decrease\n",
                        "\t Train_Loss: 0.0671 Train_Acc: 0.000 Val_Loss: 0.0993  BEST VAL Loss: 0.0952  Val_Acc: 0.000\n",
                        "\n",
                        "Epoch 19: Validation loss did not decrease\n",
                        "\t Train_Loss: 0.0638 Train_Acc: 0.000 Val_Loss: 0.1031  BEST VAL Loss: 0.0952  Val_Acc: 0.000\n",
                        "\n"
                    ]
                },
                {
                    "name": "stdout",
                    "output_type": "stream",
                    "text": [
                        "Epoch 20: Validation loss did not decrease\n",
                        "\t Train_Loss: 0.0608 Train_Acc: 0.000 Val_Loss: 0.1063  BEST VAL Loss: 0.0952  Val_Acc: 0.000\n",
                        "\n",
                        "Epoch 21: Validation loss did not decrease\n",
                        "\t Train_Loss: 0.0581 Train_Acc: 0.000 Val_Loss: 0.1126  BEST VAL Loss: 0.0952  Val_Acc: 0.000\n",
                        "\n",
                        "Epoch 22: Validation loss did not decrease\n",
                        "\t Train_Loss: 0.0556 Train_Acc: 0.000 Val_Loss: 0.1171  BEST VAL Loss: 0.0952  Val_Acc: 0.000\n",
                        "\n",
                        "Epoch 23: Validation loss did not decrease\n",
                        "\t Train_Loss: 0.0533 Train_Acc: 0.000 Val_Loss: 0.1213  BEST VAL Loss: 0.0952  Val_Acc: 0.000\n",
                        "\n",
                        "Epoch 24: Validation loss did not decrease\n",
                        "\t Train_Loss: 0.0512 Train_Acc: 0.000 Val_Loss: 0.1255  BEST VAL Loss: 0.0952  Val_Acc: 0.000\n",
                        "\n",
                        "Epoch 25: Validation loss did not decrease\n",
                        "\t Train_Loss: 0.0492 Train_Acc: 0.000 Val_Loss: 0.1290  BEST VAL Loss: 0.0952  Val_Acc: 0.000\n",
                        "\n",
                        "Epoch 26: Validation loss did not decrease\n",
                        "\t Train_Loss: 0.0474 Train_Acc: 0.000 Val_Loss: 0.1321  BEST VAL Loss: 0.0952  Val_Acc: 0.000\n",
                        "\n",
                        "Epoch 27: Validation loss did not decrease\n",
                        "\t Train_Loss: 0.0457 Train_Acc: 0.000 Val_Loss: 0.1349  BEST VAL Loss: 0.0952  Val_Acc: 0.000\n",
                        "\n",
                        "Epoch 28: Validation loss did not decrease\n",
                        "\t Train_Loss: 0.0445 Train_Acc: 0.000 Val_Loss: 0.1325  BEST VAL Loss: 0.0952  Val_Acc: 0.000\n",
                        "\n",
                        "Epoch 29: Validation loss did not decrease\n",
                        "\t Train_Loss: 0.0521 Train_Acc: 0.000 Val_Loss: 0.1282  BEST VAL Loss: 0.0952  Val_Acc: 0.000\n",
                        "\n",
                        "Epoch 30: Validation loss did not decrease\n",
                        "\t Train_Loss: 0.0537 Train_Acc: 0.000 Val_Loss: 0.1276  BEST VAL Loss: 0.0952  Val_Acc: 0.000\n",
                        "\n",
                        "Epoch 31: Validation loss did not decrease\n",
                        "\t Train_Loss: 0.0556 Train_Acc: 0.000 Val_Loss: 0.1306  BEST VAL Loss: 0.0952  Val_Acc: 0.000\n",
                        "\n",
                        "Epoch 32: Validation loss did not decrease\n",
                        "\t Train_Loss: 0.0609 Train_Acc: 0.000 Val_Loss: 0.1424  BEST VAL Loss: 0.0952  Val_Acc: 0.000\n",
                        "\n",
                        "Epoch 33: Validation loss did not decrease\n",
                        "Early stopped at epoch : 33\n"
                    ]
                }
            ],
            "source": [
                "# call the optimized training model\n",
                "(\n",
                "    train_loss,\n",
                "    train_acc,\n",
                "    valid_loss,\n",
                "    valid_acc,\n",
                "    epochs_ran,\n",
                "    model,\n",
                ") = train_optimized_model(\n",
                "    mlp_params.TRAIN_EPOCHS,\n",
                "    train_loader,\n",
                "    valid_loader,\n",
                "    params,\n",
                "    mlp_params.MODEL_NAME,\n",
                "    mlp_params.SHUFFLE,\n",
                "    class_weights=class_weights,\n",
                ")\n",
                "# get training_metrics\n",
                "if mlp_params.MODEL_TYPE == \"Regression\":\n",
                "    training_stats = pd.DataFrame(\n",
                "        zip(train_loss, valid_loss, epochs_ran),\n",
                "        columns=[\"train_loss\", \"valid_loss\", \"epochs_ran\"],\n",
                "    )\n",
                "else:\n",
                "    training_stats = pd.DataFrame(\n",
                "        zip(train_loss, train_acc, valid_loss, valid_acc, epochs_ran),\n",
                "        columns=[\"train_loss\", \"train_acc\", \"valid_loss\", \"valid_acc\", \"epochs_ran\"],\n",
                "    )"
            ]
        },
        {
            "cell_type": "code",
            "execution_count": 27,
            "id": "3d5115e3",
            "metadata": {
                "execution": {
                    "iopub.execute_input": "2023-11-13T03:45:26.159482Z",
                    "iopub.status.busy": "2023-11-13T03:45:26.159314Z",
                    "iopub.status.idle": "2023-11-13T03:45:26.166918Z",
                    "shell.execute_reply": "2023-11-13T03:45:26.166470Z"
                },
                "papermill": {
                    "duration": null,
                    "end_time": null,
                    "exception": null,
                    "start_time": null,
                    "status": "pending"
                },
                "tags": []
            },
            "outputs": [
                {
                    "data": {
                        "text/html": [
                            "<div>\n",
                            "<style scoped>\n",
                            "    .dataframe tbody tr th:only-of-type {\n",
                            "        vertical-align: middle;\n",
                            "    }\n",
                            "\n",
                            "    .dataframe tbody tr th {\n",
                            "        vertical-align: top;\n",
                            "    }\n",
                            "\n",
                            "    .dataframe thead th {\n",
                            "        text-align: right;\n",
                            "    }\n",
                            "</style>\n",
                            "<table border=\"1\" class=\"dataframe\">\n",
                            "  <thead>\n",
                            "    <tr style=\"text-align: right;\">\n",
                            "      <th></th>\n",
                            "      <th>label</th>\n",
                            "      <th>metric</th>\n",
                            "      <th>value</th>\n",
                            "      <th>group</th>\n",
                            "      <th>shuffle</th>\n",
                            "    </tr>\n",
                            "  </thead>\n",
                            "  <tbody>\n",
                            "  </tbody>\n",
                            "</table>\n",
                            "</div>"
                        ],
                        "text/plain": [
                            "Empty DataFrame\n",
                            "Columns: [label, metric, value, group, shuffle]\n",
                            "Index: []"
                        ]
                    },
                    "execution_count": 27,
                    "metadata": {},
                    "output_type": "execute_result"
                }
            ],
            "source": [
                "# create a dataframe to store the model stats\n",
                "model_stats_df = pd.DataFrame(\n",
                "    columns=[\n",
                "        \"label\",\n",
                "        \"metric\",\n",
                "        \"value\",\n",
                "        \"group\",\n",
                "        \"shuffle\",\n",
                "    ]\n",
                ")\n",
                "# check empty dataframe\n",
                "model_stats_df"
            ]
        },
        {
            "cell_type": "code",
            "execution_count": 28,
            "id": "d4f283d4",
            "metadata": {
                "execution": {
                    "iopub.execute_input": "2023-11-13T03:45:26.191425Z",
                    "iopub.status.busy": "2023-11-13T03:45:26.191262Z",
                    "iopub.status.idle": "2023-11-13T03:45:26.833630Z",
                    "shell.execute_reply": "2023-11-13T03:45:26.833186Z"
                },
                "papermill": {
                    "duration": null,
                    "end_time": null,
                    "exception": null,
                    "start_time": null,
                    "status": "pending"
                },
                "tags": []
            },
            "outputs": [
                {
                    "name": "stderr",
                    "output_type": "stream",
                    "text": [
                        "/home/lippincm/Documents/Interstellar_Analysis/utils/MLP_utils/utils.py:1017: UserWarning: Ignoring `palette` because no `hue` variable has been assigned.\n",
                        "  sns.lineplot(x=df[x], y=df[y1], palette=\"blue\", label=\"Train\")\n",
                        "/home/lippincm/Documents/Interstellar_Analysis/utils/MLP_utils/utils.py:1018: UserWarning: Ignoring `palette` because no `hue` variable has been assigned.\n",
                        "  sns.lineplot(x=df[x], y=df[y2], palette=\"orange\", label=\"Validation\")\n"
                    ]
                },
                {
                    "data": {
                        "image/png": "[encoded data removed]",
                        "text/plain": [
                            "<Figure size 640x480 with 1 Axes>"
                        ]
                    },
                    "metadata": {},
                    "output_type": "display_data"
                }
            ],
            "source": [
                "if mlp_params.MODEL_TYPE == \"Regression\":\n",
                "    pass\n",
                "else:\n",
                "    plot_metric_vs_epoch(\n",
                "        training_stats,\n",
                "        x=\"epochs_ran\",\n",
                "        y1=\"train_acc\",\n",
                "        y2=\"valid_acc\",\n",
                "        title=\"Accuracy vs. Epochs\",\n",
                "        x_axis_label=\"Epochs\",\n",
                "        y_axis_label=\"Accuracy\",\n",
                "        params=params,\n",
                "        model_name=mlp_params.MODEL_NAME,\n",
                "        shuffle=mlp_params.SHUFFLE,\n",
                "    )"
            ]
        },
        {
            "cell_type": "code",
            "execution_count": 29,
            "id": "5e491e00",
            "metadata": {
                "execution": {
                    "iopub.execute_input": "2023-11-13T03:45:26.861418Z",
                    "iopub.status.busy": "2023-11-13T03:45:26.860827Z",
                    "iopub.status.idle": "2023-11-13T03:45:27.176560Z",
                    "shell.execute_reply": "2023-11-13T03:45:27.176174Z"
                },
                "papermill": {
                    "duration": null,
                    "end_time": null,
                    "exception": null,
                    "start_time": null,
                    "status": "pending"
                },
                "tags": []
            },
            "outputs": [
                {
                    "name": "stderr",
                    "output_type": "stream",
                    "text": [
                        "/home/lippincm/Documents/Interstellar_Analysis/utils/MLP_utils/utils.py:1017: UserWarning: Ignoring `palette` because no `hue` variable has been assigned.\n",
                        "  sns.lineplot(x=df[x], y=df[y1], palette=\"blue\", label=\"Train\")\n",
                        "/home/lippincm/Documents/Interstellar_Analysis/utils/MLP_utils/utils.py:1018: UserWarning: Ignoring `palette` because no `hue` variable has been assigned.\n",
                        "  sns.lineplot(x=df[x], y=df[y2], palette=\"orange\", label=\"Validation\")\n"
                    ]
                },
                {
                    "data": {
                        "image/png": "[encoded data removed]",
                        "text/plain": [
                            "<Figure size 640x480 with 1 Axes>"
                        ]
                    },
                    "metadata": {},
                    "output_type": "display_data"
                }
            ],
            "source": [
                "plot_metric_vs_epoch(\n",
                "    training_stats,\n",
                "    x=\"epochs_ran\",\n",
                "    y1=\"train_loss\",\n",
                "    y2=\"valid_loss\",\n",
                "    title=\"Loss vs. Epochs\",\n",
                "    x_axis_label=\"Epochs\",\n",
                "    y_axis_label=\"Loss\",\n",
                "    params=params,\n",
                "    model_name=mlp_params.MODEL_NAME,\n",
                "    shuffle=mlp_params.SHUFFLE,\n",
                ")"
            ]
        },
        {
            "cell_type": "markdown",
            "id": "1d6993ae",
            "metadata": {
                "papermill": {
                    "duration": null,
                    "end_time": null,
                    "exception": null,
                    "start_time": null,
                    "status": "pending"
                },
                "tags": []
            },
            "source": [
                "### Test Models on training data"
            ]
        },
        {
            "cell_type": "code",
            "execution_count": 30,
            "id": "9c595792",
            "metadata": {
                "execution": {
                    "iopub.execute_input": "2023-11-13T03:45:27.226417Z",
                    "iopub.status.busy": "2023-11-13T03:45:27.226011Z",
                    "iopub.status.idle": "2023-11-13T03:45:29.777801Z",
                    "shell.execute_reply": "2023-11-13T03:45:29.777257Z"
                },
                "papermill": {
                    "duration": null,
                    "end_time": null,
                    "exception": null,
                    "start_time": null,
                    "status": "pending"
                },
                "tags": []
            },
            "outputs": [
                {
                    "name": "stdout",
                    "output_type": "stream",
                    "text": [
                        "MLP_All_channels\n",
                        "47 93\n",
                        "93 93\n"
                    ]
                },
                {
                    "name": "stderr",
                    "output_type": "stream",
                    "text": [
                        "/home/lippincm/Documents/Interstellar_Analysis/utils/MLP_utils/utils.py:1081: FutureWarning: You are using `torch.load` with `weights_only=False` (the current default value), which uses the default pickle module implicitly. It is possible to construct malicious pickle data which will execute arbitrary code during unpickling (See https://github.com/pytorch/pytorch/blob/main/SECURITY.md#untrusted-models for more details). In a future release, the default value for `weights_only` will be flipped to `True`. This limits the functions that could be executed during unpickling. Arbitrary objects will no longer be allowed to be loaded via this mode unless they are explicitly allowlisted by the user via `torch.serialization.add_safe_globals`. We recommend you start setting `weights_only=True` for any use case where you don't have full control of the loaded file. Please open an issue on GitHub for any issues related to this experimental feature.\n",
                        "  torch.load(f\"{save_state_path}/Multi_Class_{model_name}.pt\")\n"
                    ]
                }
            ],
            "source": [
                "# test the model on training data\n",
                "# calling the testing function and outputting list values of tested model\n",
                "if any(\n",
                "    model_type == mlp_params.MODEL_TYPE for model_type in [\"Multi_Class\", \"Regression\"]\n",
                "):\n",
                "    (y_pred_list, y_pred_prob_list, Y_test_list,) = test_optimized_model(\n",
                "        model,\n",
                "        train_loader,\n",
                "        mlp_params,\n",
                "        model_name=mlp_params.MODEL_NAME,\n",
                "        shuffle=mlp_params.SHUFFLE,\n",
                "    )\n",
                "elif mlp_params.MODEL_TYPE == \"Binary_Classification\":\n",
                "    y_pred_list, y_pred_prob_list = test_optimized_model(\n",
                "        model,\n",
                "        train_loader,\n",
                "        mlp_params,\n",
                "        model_name=mlp_params.MODEL_NAME,\n",
                "        shuffle=mlp_params.SHUFFLE,\n",
                "    )\n",
                "else:\n",
                "    raise Exception(\"Model type must be specified for proper model testing\")\n",
                "print(len(y_pred_list), len(Y_train))\n",
                "# un-nest list if nested i.e. length of input data does not match length of output data\n",
                "if len(y_pred_list) != len(Y_train):\n",
                "    y_pred_list = un_nest(y_pred_list)\n",
                "    if mlp_params.MODEL_TYPE == \"Binary_Classification\":\n",
                "        y_pred_prob_list = un_nest(y_pred_prob_list)\n",
                "else:\n",
                "    pass\n",
                "\n",
                "print(len(y_pred_list), len(Y_train))"
            ]
        },
        {
            "cell_type": "code",
            "execution_count": 31,
            "id": "b9113015",
            "metadata": {},
            "outputs": [
                {
                    "name": "stdout",
                    "output_type": "stream",
                    "text": [
                        "(93, 3) (93, 3)\n"
                    ]
                }
            ],
            "source": [
                "# convert output tensors into arrays\n",
                "\n",
                "# list of tensors to list of lists\n",
                "y_pred_prob_list = [tensor.tolist() for tensor in y_pred_prob_list]\n",
                "Y_test_list = [tensor.tolist() for tensor in Y_test_list]\n",
                "# completly flatten list of lists\n",
                "new_prob_list = []\n",
                "for i in y_pred_prob_list:\n",
                "    for j in i:\n",
                "        new_prob_list.append(j)\n",
                "\n",
                "new_y_test_list = []\n",
                "for i in Y_test_list:\n",
                "    for j in i:\n",
                "        new_y_test_list.append(j)\n",
                "\n",
                "# list of lists to array\n",
                "y_pred_prob_list = np.array(new_prob_list)\n",
                "Y_test = np.array(new_y_test_list)\n",
                "print(y_pred_prob_list.shape, Y_test.shape)"
            ]
        },
        {
            "cell_type": "code",
            "execution_count": 32,
            "id": "5df5aa40",
            "metadata": {},
            "outputs": [],
            "source": [
                "# get the PR curve for each class\n",
                "pr_curve_0 = precision_recall_curve(Y_test[:, 0], y_pred_prob_list[:, 0])\n",
                "pr_curve_1 = precision_recall_curve(Y_test[:, 1], y_pred_prob_list[:, 1])\n",
                "pr_curve_2 = precision_recall_curve(Y_test[:, 2], y_pred_prob_list[:, 2])"
            ]
        },
        {
            "cell_type": "code",
            "execution_count": 33,
            "id": "4ef5d998",
            "metadata": {},
            "outputs": [
                {
                    "name": "stderr",
                    "output_type": "stream",
                    "text": [
                        "/tmp/ipykernel_905128/4273854277.py:28: SettingWithCopyWarning: \n",
                        "A value is trying to be set on a copy of a slice from a DataFrame\n",
                        "\n",
                        "See the caveats in the documentation: https://pandas.pydata.org/pandas-docs/stable/user_guide/indexing.html#returning-a-view-versus-a-copy\n",
                        "  tmp_df.drop_duplicates(inplace=True)\n"
                    ]
                }
            ],
            "source": [
                "# make a dataframe of the precision-recall curves for each class\n",
                "pr_curve_0 = pd.DataFrame(\n",
                "    zip(pr_curve_0[0], pr_curve_0[1]),\n",
                "    columns=[\"precision\", \"recall\"],\n",
                ")\n",
                "pr_curve_0[\"label\"] = 0\n",
                "\n",
                "pr_curve_1 = pd.DataFrame(\n",
                "    zip(pr_curve_1[0], pr_curve_1[1]),\n",
                "    columns=[\"precision\", \"recall\"],\n",
                ")\n",
                "pr_curve_1[\"label\"] = 1\n",
                "\n",
                "pr_curve_2 = pd.DataFrame(\n",
                "    zip(pr_curve_2[0], pr_curve_2[1]),\n",
                "    columns=[\"precision\", \"recall\"],\n",
                ")\n",
                "pr_curve_2[\"label\"] = 2\n",
                "\n",
                "# make the precision-recall curve dataframe\n",
                "pr_curve_df = pd.DataFrame(columns=[\"precision\", \"recall\", \"label\"])\n",
                "# concatenate the dataframes together\n",
                "pr_curve_df = pd.concat([pr_curve_df, pr_curve_0, pr_curve_1, pr_curve_2])\n",
                "\n",
                "# get the decoded labels\n",
                "tmp_df = df_values[[\"new_labels\", \"labels\"]]\n",
                "# get the unique rows\n",
                "tmp_df.drop_duplicates(inplace=True)\n",
                "# make a dict of the labels and new labels\n",
                "label_dict = dict(zip(tmp_df[\"new_labels\"], tmp_df[\"labels\"]))\n",
                "\n",
                "# change the label column to the actual labels from the label dict\n",
                "pr_curve_df[\"label\"] = pr_curve_df[\"label\"].map(label_dict)\n",
                "pr_curve_df[\"data_split\"] = \"train\"\n",
                "pr_curve_df[\"shuffle\"] = mlp_params.SHUFFLE"
            ]
        },
        {
            "cell_type": "code",
            "execution_count": 34,
            "id": "1d126ac9",
            "metadata": {},
            "outputs": [],
            "source": [
                "main_prob_df = pd.DataFrame(\n",
                "    columns=[\n",
                "        \"apoptosis_prob\",\n",
                "        \"control_prob\",\n",
                "        \"pyroptosis_prob\",\n",
                "        \"label_true\",\n",
                "        \"label_pred\",\n",
                "        \"data_split\",\n",
                "        \"shuffle\",\n",
                "        \"class_name\",\n",
                "    ]\n",
                ")"
            ]
        },
        {
            "cell_type": "code",
            "execution_count": 35,
            "id": "937bf214",
            "metadata": {},
            "outputs": [],
            "source": [
                "class_0_prob = []\n",
                "class_1_prob = []\n",
                "class_2_prob = []\n",
                "\n",
                "for i in y_pred_prob_list:\n",
                "    class_0_prob.append(i[0])\n",
                "    class_1_prob.append(i[1])\n",
                "    class_2_prob.append(i[2])\n",
                "\n",
                "\n",
                "prob_df = pd.DataFrame(\n",
                "    zip(class_0_prob, class_1_prob, class_2_prob),\n",
                "    columns=[\"apoptosis_prob\", \"control_prob\", \"pyroptosis_prob\"],\n",
                ")\n",
                "label_true = [np.argmax(i) for i in Y_test]\n",
                "\n",
                "prob_df[\"label_true\"] = label_true\n",
                "prob_df[\"label_pred\"] = y_pred_list\n",
                "prob_df[\"data_split\"] = \"train\"\n",
                "prob_df[\"shuffle\"] = mlp_params.SHUFFLE\n",
                "prob_df[\"class_name\"] = prob_df[\"label_true\"].map(label_dict)\n",
                "metadata_train.reset_index(inplace=True)\n",
                "\n",
                "prob_df = pd.concat([prob_df, metadata_train], axis=1)\n",
                "\n",
                "main_prob_df = pd.concat([main_prob_df, prob_df])"
            ]
        },
        {
            "cell_type": "code",
            "execution_count": 36,
            "id": "b8cf2229",
            "metadata": {},
            "outputs": [],
            "source": [
                "# create a master dataframe to store all the model stats\n",
                "# across all data splits and shuffled data\n",
                "pr_curve_df_all = pd.DataFrame(\n",
                "    columns=[\"precision\", \"recall\", \"label\", \"data_split\", \"shuffle\"]\n",
                ")\n",
                "pr_curve_df_all = pd.concat([pr_curve_df_all, pr_curve_df], axis=0)"
            ]
        },
        {
            "cell_type": "code",
            "execution_count": 37,
            "id": "0f4468bf",
            "metadata": {},
            "outputs": [
                {
                    "data": {
                        "text/plain": [
                            "array(['train'], dtype=object)"
                        ]
                    },
                    "execution_count": 37,
                    "metadata": {},
                    "output_type": "execute_result"
                }
            ],
            "source": [
                "pr_curve_df_all[\"data_split\"].unique()"
            ]
        },
        {
            "cell_type": "code",
            "execution_count": 38,
            "id": "db38c19f",
            "metadata": {},
            "outputs": [],
            "source": [
                "# prior to using the output_stats function, the y_pred_list and Y_test_list must be converted to a single list each\n",
                "# Y_test_list de code the one hot encoding\n",
                "Y_test_list = [np.argmax(i) for i in Y_test]"
            ]
        },
        {
            "cell_type": "code",
            "execution_count": 39,
            "id": "4b269c1d",
            "metadata": {
                "execution": {
                    "iopub.execute_input": "2023-11-13T03:45:29.806395Z",
                    "iopub.status.busy": "2023-11-13T03:45:29.806222Z",
                    "iopub.status.idle": "2023-11-13T03:45:30.151598Z",
                    "shell.execute_reply": "2023-11-13T03:45:30.151179Z"
                },
                "papermill": {
                    "duration": null,
                    "end_time": null,
                    "exception": null,
                    "start_time": null,
                    "status": "pending"
                },
                "tags": []
            },
            "outputs": [
                {
                    "name": "stdout",
                    "output_type": "stream",
                    "text": [
                        "              precision    recall  f1-score   support\n",
                        "\n",
                        "           0       1.00      1.00      1.00         5\n",
                        "           1       1.00      1.00      1.00        45\n",
                        "           2       1.00      1.00      1.00        43\n",
                        "\n",
                        "    accuracy                           1.00        93\n",
                        "   macro avg       1.00      1.00      1.00        93\n",
                        "weighted avg       1.00      1.00      1.00        93\n",
                        "\n"
                    ]
                },
                {
                    "name": "stderr",
                    "output_type": "stream",
                    "text": [
                        "/tmp/ipykernel_905128/3777910350.py:18: SettingWithCopyWarning: \n",
                        "A value is trying to be set on a copy of a slice from a DataFrame.\n",
                        "Try using .loc[row_indexer,col_indexer] = value instead\n",
                        "\n",
                        "See the caveats in the documentation: https://pandas.pydata.org/pandas-docs/stable/user_guide/indexing.html#returning-a-view-versus-a-copy\n",
                        "  df_labels[\"new_labels\"] = df_labels[\"new_labels\"].astype(str)\n"
                    ]
                }
            ],
            "source": [
                "stats_df = output_stats(\n",
                "    y_pred_list,\n",
                "    Y_test_list,\n",
                "    mlp_params,\n",
                "    test_name=f\"{mlp_params.MODEL_NAME}_train\",\n",
                "    model_name=mlp_params.MODEL_NAME,\n",
                "    title=mlp_params.MODEL_NAME,\n",
                "    shuffle=mlp_params.SHUFFLE,\n",
                ")\n",
                "# make into a dataframe\n",
                "stats_df = pd.DataFrame.from_dict(stats_df).transpose()\n",
                "stats_df.reset_index(inplace=True)\n",
                "stats_df.rename(columns={\"index\": \"label\"}, inplace=True)\n",
                "stats_df = stats_df.melt(id_vars=[\"label\"], var_name=\"metric\", value_name=\"value\")\n",
                "# if accuracy in row of column 1 then change value of column 2 to accuracy\n",
                "stats_df.loc[stats_df[\"label\"] == \"accuracy\", \"metric\"] = \"accuracy\"\n",
                "# create a decoder dictionary from df_labels\n",
                "df_labels[\"new_labels\"] = df_labels[\"new_labels\"].astype(str)\n",
                "decoder = df_labels.set_index(\"new_labels\").to_dict()[\"labels\"]\n",
                "decoder[\"accuracy\"] = \"accuracy\"\n",
                "decoder[\"macro avg\"] = \"macro avg\"\n",
                "decoder[\"weighted avg\"] = \"weighted avg\"\n",
                "stats_df[\"label\"] = stats_df[\"label\"].map(decoder)"
            ]
        },
        {
            "cell_type": "code",
            "execution_count": 40,
            "id": "fdde3d70",
            "metadata": {
                "execution": {
                    "iopub.execute_input": "2023-11-13T03:45:30.178667Z",
                    "iopub.status.busy": "2023-11-13T03:45:30.178280Z",
                    "iopub.status.idle": "2023-11-13T03:45:30.181886Z",
                    "shell.execute_reply": "2023-11-13T03:45:30.181494Z"
                },
                "papermill": {
                    "duration": null,
                    "end_time": null,
                    "exception": null,
                    "start_time": null,
                    "status": "pending"
                },
                "tags": []
            },
            "outputs": [],
            "source": [
                "stats_df[\"group\"] = \"train\"\n",
                "stats_df[\"shuffle\"] = mlp_params.SHUFFLE\n",
                "stats_df\n",
                "model_stats_df = pd.concat([model_stats_df, stats_df], axis=0)"
            ]
        },
        {
            "cell_type": "code",
            "execution_count": 41,
            "id": "bc29bd44",
            "metadata": {},
            "outputs": [],
            "source": [
                "# define a final dataframe to store the predictions\n",
                "final_predictions_df = pd.DataFrame()"
            ]
        },
        {
            "cell_type": "code",
            "execution_count": 42,
            "id": "f537c6d3",
            "metadata": {},
            "outputs": [],
            "source": [
                "# make a df of the predictions and the true labels\n",
                "y_pred_df = pd.DataFrame(y_pred_list, columns=[\"predicted_label\"])\n",
                "y_true_df = pd.DataFrame(Y_test_list, columns=[\"true_label\"])\n",
                "# concat the two dataframes\n",
                "# final_predictions_df = pd.concat([y_true_df, y_pred_df], axis=1)\n",
                "y_pred_df = pd.concat([y_true_df, y_pred_df], axis=1)"
            ]
        },
        {
            "cell_type": "code",
            "execution_count": 43,
            "id": "7cdf5bab",
            "metadata": {},
            "outputs": [],
            "source": [
                "# merge y_pred_df with metadata_holdout whiile keeping the index of metadata_holdout\n",
                "# metadata_train.reset_index(inplace=True)\n",
                "y_pred_df = pd.concat([y_pred_df, metadata_train], axis=1)\n",
                "# set the index to the index column\n",
                "y_pred_df.set_index(\"index\", inplace=True, drop=True)"
            ]
        },
        {
            "cell_type": "code",
            "execution_count": 44,
            "id": "94fbfda1",
            "metadata": {},
            "outputs": [],
            "source": [
                "y_pred_df[\"data_split\"] = \"train\"\n",
                "y_pred_df[\"shuffle\"] = mlp_params.SHUFFLE"
            ]
        },
        {
            "cell_type": "code",
            "execution_count": 45,
            "id": "e8c704f3",
            "metadata": {},
            "outputs": [],
            "source": [
                "# set path for the model confusion matrices\n",
                "y_pred_df_path = pathlib.Path(\n",
                "    f\"../../results/Multi_Class/{mlp_params.MODEL_NAME}/{mlp_params.CELL_TYPE}/training_single_cell_predictions.parquet\"\n",
                ")\n",
                "y_pred_df_path.parent.mkdir(parents=True, exist_ok=True)\n",
                "if y_pred_df_path.exists():\n",
                "    predictions_df_tmp = pd.read_parquet(y_pred_df_path)\n",
                "    if len(predictions_df_tmp[\"shuffle\"].unique()) > 1:\n",
                "        pass\n",
                "    elif predictions_df_tmp[\"shuffle\"].unique() == mlp_params.SHUFFLE:\n",
                "        pass\n",
                "    else:\n",
                "        metrics_df = pd.concat([predictions_df_tmp, y_pred_df], axis=0)\n",
                "        metrics_df.to_parquet(y_pred_df_path, index=False)\n",
                "else:\n",
                "    y_pred_df.to_parquet(y_pred_df_path, index=False)"
            ]
        },
        {
            "cell_type": "code",
            "execution_count": 46,
            "id": "67c01a0d",
            "metadata": {},
            "outputs": [],
            "source": [
                "final_predictions_df = pd.concat([final_predictions_df, y_pred_df], axis=0)"
            ]
        },
        {
            "cell_type": "markdown",
            "id": "dd00a92e",
            "metadata": {
                "papermill": {
                    "duration": null,
                    "end_time": null,
                    "exception": null,
                    "start_time": null,
                    "status": "pending"
                },
                "tags": []
            },
            "source": [
                "## Test models on Validation data"
            ]
        },
        {
            "cell_type": "code",
            "execution_count": 47,
            "id": "52b5399f",
            "metadata": {
                "execution": {
                    "iopub.execute_input": "2023-11-13T03:45:30.229982Z",
                    "iopub.status.busy": "2023-11-13T03:45:30.229718Z",
                    "iopub.status.idle": "2023-11-13T03:45:30.837000Z",
                    "shell.execute_reply": "2023-11-13T03:45:30.836480Z"
                },
                "papermill": {
                    "duration": null,
                    "end_time": null,
                    "exception": null,
                    "start_time": null,
                    "status": "pending"
                },
                "tags": []
            },
            "outputs": [
                {
                    "name": "stdout",
                    "output_type": "stream",
                    "text": [
                        "MLP_All_channels\n"
                    ]
                },
                {
                    "name": "stderr",
                    "output_type": "stream",
                    "text": [
                        "/home/lippincm/Documents/Interstellar_Analysis/utils/MLP_utils/utils.py:1081: FutureWarning: You are using `torch.load` with `weights_only=False` (the current default value), which uses the default pickle module implicitly. It is possible to construct malicious pickle data which will execute arbitrary code during unpickling (See https://github.com/pytorch/pytorch/blob/main/SECURITY.md#untrusted-models for more details). In a future release, the default value for `weights_only` will be flipped to `True`. This limits the functions that could be executed during unpickling. Arbitrary objects will no longer be allowed to be loaded via this mode unless they are explicitly allowlisted by the user via `torch.serialization.add_safe_globals`. We recommend you start setting `weights_only=True` for any use case where you don't have full control of the loaded file. Please open an issue on GitHub for any issues related to this experimental feature.\n",
                        "  torch.load(f\"{save_state_path}/Multi_Class_{model_name}.pt\")\n"
                    ]
                }
            ],
            "source": [
                "# test the model on training data\n",
                "# calling the testing function and outputting list values of tested model\n",
                "if any(\n",
                "    model_type == mlp_params.MODEL_TYPE for model_type in [\"Multi_Class\", \"Regression\"]\n",
                "):\n",
                "    (y_pred_list, y_pred_prob_list, Y_test_list) = test_optimized_model(\n",
                "        model,\n",
                "        valid_loader,\n",
                "        mlp_params,\n",
                "        model_name=mlp_params.MODEL_NAME,\n",
                "        shuffle=mlp_params.SHUFFLE,\n",
                "    )\n",
                "elif mlp_params.MODEL_TYPE == \"Binary_Classification\":\n",
                "    y_pred_list, y_pred_prob_list = test_optimized_model(\n",
                "        model,\n",
                "        valid_loader,\n",
                "        mlp_params,\n",
                "        model_name=mlp_params.MODEL_NAME,\n",
                "        shuffle=mlp_params.SHUFFLE,\n",
                "    )\n",
                "else:\n",
                "    raise Exception(\"Model type must be specified for proper model testing\")\n",
                "\n",
                "\n",
                "# un-nest list if nested i.e. length of input data does not match length of output data\n",
                "if len(y_pred_list) != len(Y_val):\n",
                "    y_pred_list = un_nest(y_pred_list)\n",
                "    if mlp_params.MODEL_TYPE == \"Binary_Classification\":\n",
                "        y_pred_prob_list = un_nest(y_pred_prob_list)\n",
                "else:\n",
                "    pass"
            ]
        },
        {
            "cell_type": "code",
            "execution_count": 48,
            "id": "88e9f528",
            "metadata": {},
            "outputs": [],
            "source": [
                "# convert output tensors into arrays\n",
                "\n",
                "# list of tensors to list of lists\n",
                "y_pred_prob_list = [tensor.tolist() for tensor in y_pred_prob_list]\n",
                "Y_test_list = [tensor.tolist() for tensor in Y_test_list]\n",
                "# completly flatten list of lists\n",
                "new_prob_list = []\n",
                "for i in y_pred_prob_list:\n",
                "    for j in i:\n",
                "        new_prob_list.append(j)\n",
                "\n",
                "new_y_test_list = []\n",
                "for i in Y_test_list:\n",
                "    for j in i:\n",
                "        new_y_test_list.append(j)\n",
                "\n",
                "# list of lists to array\n",
                "y_pred_prob_list = np.array(new_prob_list)\n",
                "Y_test = np.array(new_y_test_list)"
            ]
        },
        {
            "cell_type": "code",
            "execution_count": 49,
            "id": "75d2286a",
            "metadata": {},
            "outputs": [],
            "source": [
                "# get the PR curve for each class\n",
                "pr_curve_0 = precision_recall_curve(Y_test[:, 0], y_pred_prob_list[:, 0])\n",
                "pr_curve_1 = precision_recall_curve(Y_test[:, 1], y_pred_prob_list[:, 1])\n",
                "pr_curve_2 = precision_recall_curve(Y_test[:, 2], y_pred_prob_list[:, 2])"
            ]
        },
        {
            "cell_type": "code",
            "execution_count": 50,
            "id": "4ece253d",
            "metadata": {},
            "outputs": [
                {
                    "name": "stderr",
                    "output_type": "stream",
                    "text": [
                        "/tmp/ipykernel_905128/95662448.py:28: SettingWithCopyWarning: \n",
                        "A value is trying to be set on a copy of a slice from a DataFrame\n",
                        "\n",
                        "See the caveats in the documentation: https://pandas.pydata.org/pandas-docs/stable/user_guide/indexing.html#returning-a-view-versus-a-copy\n",
                        "  tmp_df.drop_duplicates(inplace=True)\n"
                    ]
                }
            ],
            "source": [
                "# make a dataframe of the precision-recall curves for each class\n",
                "pr_curve_0 = pd.DataFrame(\n",
                "    zip(pr_curve_0[0], pr_curve_0[1]),\n",
                "    columns=[\"precision\", \"recall\"],\n",
                ")\n",
                "pr_curve_0[\"label\"] = 0\n",
                "\n",
                "pr_curve_1 = pd.DataFrame(\n",
                "    zip(pr_curve_1[0], pr_curve_1[1]),\n",
                "    columns=[\"precision\", \"recall\"],\n",
                ")\n",
                "pr_curve_1[\"label\"] = 1\n",
                "\n",
                "pr_curve_2 = pd.DataFrame(\n",
                "    zip(pr_curve_2[0], pr_curve_2[1]),\n",
                "    columns=[\"precision\", \"recall\"],\n",
                ")\n",
                "pr_curve_2[\"label\"] = 2\n",
                "\n",
                "# make the precision-recall curve dataframe\n",
                "pr_curve_df = pd.DataFrame(columns=[\"precision\", \"recall\", \"label\"])\n",
                "pr_curve_df = pd.concat([pr_curve_df, pr_curve_0, pr_curve_1, pr_curve_2])\n",
                "\n",
                "\n",
                "# get the decoded labels\n",
                "tmp_df = df_values[[\"new_labels\", \"labels\"]]\n",
                "# get the unique rows\n",
                "tmp_df.drop_duplicates(inplace=True)\n",
                "# make a dict of the labels and new labels\n",
                "label_dict = dict(zip(tmp_df[\"new_labels\"], tmp_df[\"labels\"]))\n",
                "\n",
                "# change the label column to the actual labels from the label dict\n",
                "pr_curve_df[\"label\"] = pr_curve_df[\"label\"].map(label_dict)\n",
                "pr_curve_df[\"data_split\"] = \"validation\"\n",
                "pr_curve_df[\"shuffle\"] = mlp_params.SHUFFLE"
            ]
        },
        {
            "cell_type": "code",
            "execution_count": 51,
            "id": "dd75f380",
            "metadata": {},
            "outputs": [
                {
                    "name": "stderr",
                    "output_type": "stream",
                    "text": [
                        "/tmp/ipykernel_905128/2243255322.py:3: FutureWarning: In a future version, object-dtype columns with all-bool values will not be included in reductions with bool_only=True. Explicitly cast to bool dtype instead.\n",
                        "  pr_curve_df_all = pd.concat([pr_curve_df_all, pr_curve_df], axis=0)\n"
                    ]
                }
            ],
            "source": [
                "# create a master dataframe to store all the model stats\n",
                "# across all data splits and shuffled data\n",
                "pr_curve_df_all = pd.concat([pr_curve_df_all, pr_curve_df], axis=0)"
            ]
        },
        {
            "cell_type": "code",
            "execution_count": 52,
            "id": "f3e9b542",
            "metadata": {},
            "outputs": [
                {
                    "data": {
                        "text/plain": [
                            "array(['train', 'validation'], dtype=object)"
                        ]
                    },
                    "execution_count": 52,
                    "metadata": {},
                    "output_type": "execute_result"
                }
            ],
            "source": [
                "pr_curve_df_all[\"data_split\"].unique()"
            ]
        },
        {
            "cell_type": "code",
            "execution_count": 53,
            "id": "e6ce5ab0",
            "metadata": {},
            "outputs": [
                {
                    "name": "stderr",
                    "output_type": "stream",
                    "text": [
                        "/tmp/ipykernel_905128/2502681538.py:25: FutureWarning: In a future version, object-dtype columns with all-bool values will not be included in reductions with bool_only=True. Explicitly cast to bool dtype instead.\n",
                        "  main_prob_df = pd.concat([main_prob_df, prob_df])\n"
                    ]
                }
            ],
            "source": [
                "class_0_prob = []\n",
                "class_1_prob = []\n",
                "class_2_prob = []\n",
                "\n",
                "for i in y_pred_prob_list:\n",
                "    class_0_prob.append(i[0])\n",
                "    class_1_prob.append(i[1])\n",
                "    class_2_prob.append(i[2])\n",
                "\n",
                "\n",
                "prob_df = pd.DataFrame(\n",
                "    zip(class_0_prob, class_1_prob, class_2_prob),\n",
                "    columns=[\"apoptosis_prob\", \"control_prob\", \"pyroptosis_prob\"],\n",
                ")\n",
                "label_true = [np.argmax(i) for i in Y_test]\n",
                "\n",
                "prob_df[\"label_true\"] = label_true\n",
                "prob_df[\"label_pred\"] = y_pred_list\n",
                "prob_df[\"data_split\"] = \"validation\"\n",
                "prob_df[\"shuffle\"] = mlp_params.SHUFFLE\n",
                "prob_df[\"class_name\"] = prob_df[\"label_true\"].map(label_dict)\n",
                "metadata_val.reset_index(inplace=True)\n",
                "\n",
                "prob_df = pd.concat([prob_df, metadata_val], axis=1)\n",
                "main_prob_df = pd.concat([main_prob_df, prob_df])"
            ]
        },
        {
            "cell_type": "code",
            "execution_count": 54,
            "id": "72f18f53",
            "metadata": {},
            "outputs": [],
            "source": [
                "Y_test_list = [np.argmax(i) for i in Y_test]"
            ]
        },
        {
            "cell_type": "code",
            "execution_count": 55,
            "id": "444b8e3e",
            "metadata": {
                "execution": {
                    "iopub.execute_input": "2023-11-13T03:45:30.862100Z",
                    "iopub.status.busy": "2023-11-13T03:45:30.861930Z",
                    "iopub.status.idle": "2023-11-13T03:45:30.962171Z",
                    "shell.execute_reply": "2023-11-13T03:45:30.961719Z"
                },
                "papermill": {
                    "duration": null,
                    "end_time": null,
                    "exception": null,
                    "start_time": null,
                    "status": "pending"
                },
                "tags": []
            },
            "outputs": [
                {
                    "name": "stdout",
                    "output_type": "stream",
                    "text": [
                        "              precision    recall  f1-score   support\n",
                        "\n",
                        "           0       1.00      1.00      1.00         1\n",
                        "           1       1.00      1.00      1.00        12\n",
                        "           2       1.00      1.00      1.00        11\n",
                        "\n",
                        "    accuracy                           1.00        24\n",
                        "   macro avg       1.00      1.00      1.00        24\n",
                        "weighted avg       1.00      1.00      1.00        24\n",
                        "\n"
                    ]
                },
                {
                    "name": "stderr",
                    "output_type": "stream",
                    "text": [
                        "/tmp/ipykernel_905128/3777910350.py:18: SettingWithCopyWarning: \n",
                        "A value is trying to be set on a copy of a slice from a DataFrame.\n",
                        "Try using .loc[row_indexer,col_indexer] = value instead\n",
                        "\n",
                        "See the caveats in the documentation: https://pandas.pydata.org/pandas-docs/stable/user_guide/indexing.html#returning-a-view-versus-a-copy\n",
                        "  df_labels[\"new_labels\"] = df_labels[\"new_labels\"].astype(str)\n"
                    ]
                }
            ],
            "source": [
                "stats_df = output_stats(\n",
                "    y_pred_list,\n",
                "    Y_test_list,\n",
                "    mlp_params,\n",
                "    test_name=f\"{mlp_params.MODEL_NAME}_train\",\n",
                "    model_name=mlp_params.MODEL_NAME,\n",
                "    title=mlp_params.MODEL_NAME,\n",
                "    shuffle=mlp_params.SHUFFLE,\n",
                ")\n",
                "# make into a dataframe\n",
                "stats_df = pd.DataFrame.from_dict(stats_df).transpose()\n",
                "stats_df.reset_index(inplace=True)\n",
                "stats_df.rename(columns={\"index\": \"label\"}, inplace=True)\n",
                "stats_df = stats_df.melt(id_vars=[\"label\"], var_name=\"metric\", value_name=\"value\")\n",
                "# if accuracy in row of column 1 then change value of column 2 to accuracy\n",
                "stats_df.loc[stats_df[\"label\"] == \"accuracy\", \"metric\"] = \"accuracy\"\n",
                "# create a decoder dictionary from df_labels\n",
                "df_labels[\"new_labels\"] = df_labels[\"new_labels\"].astype(str)\n",
                "decoder = df_labels.set_index(\"new_labels\").to_dict()[\"labels\"]\n",
                "decoder[\"accuracy\"] = \"accuracy\"\n",
                "decoder[\"macro avg\"] = \"macro avg\"\n",
                "decoder[\"weighted avg\"] = \"weighted avg\"\n",
                "stats_df[\"label\"] = stats_df[\"label\"].map(decoder)"
            ]
        },
        {
            "cell_type": "code",
            "execution_count": 56,
            "id": "2573e7a6",
            "metadata": {
                "execution": {
                    "iopub.execute_input": "2023-11-13T03:45:30.989234Z",
                    "iopub.status.busy": "2023-11-13T03:45:30.989069Z",
                    "iopub.status.idle": "2023-11-13T03:45:30.992766Z",
                    "shell.execute_reply": "2023-11-13T03:45:30.992326Z"
                },
                "papermill": {
                    "duration": null,
                    "end_time": null,
                    "exception": null,
                    "start_time": null,
                    "status": "pending"
                },
                "tags": []
            },
            "outputs": [
                {
                    "name": "stderr",
                    "output_type": "stream",
                    "text": [
                        "/tmp/ipykernel_905128/4189047634.py:4: FutureWarning: In a future version, object-dtype columns with all-bool values will not be included in reductions with bool_only=True. Explicitly cast to bool dtype instead.\n",
                        "  model_stats_df = pd.concat([model_stats_df, stats_df], axis=0)\n"
                    ]
                }
            ],
            "source": [
                "stats_df[\"group\"] = \"validation\"\n",
                "stats_df[\"shuffle\"] = mlp_params.SHUFFLE\n",
                "\n",
                "model_stats_df = pd.concat([model_stats_df, stats_df], axis=0)"
            ]
        },
        {
            "cell_type": "code",
            "execution_count": 57,
            "id": "8c2595e2",
            "metadata": {},
            "outputs": [],
            "source": [
                "# make a df of the predictions and the true labels\n",
                "y_pred_df = pd.DataFrame(y_pred_list, columns=[\"predicted_label\"])\n",
                "y_true_df = pd.DataFrame(Y_test_list, columns=[\"true_label\"])\n",
                "# concat the two dataframes\n",
                "# final_predictions_df = pd.concat([y_true_df, y_pred_df], axis=1)\n",
                "y_pred_df = pd.concat([y_true_df, y_pred_df], axis=1)"
            ]
        },
        {
            "cell_type": "code",
            "execution_count": 58,
            "id": "554ce6e9",
            "metadata": {},
            "outputs": [],
            "source": [
                "# merge y_pred_df with metadata_holdout whiile keeping the index of metadata_holdout\n",
                "# metadata_val.reset_index(inplace=True)\n",
                "y_pred_df = pd.concat([y_pred_df, metadata_val], axis=1)\n",
                "# set the index to the index column\n",
                "y_pred_df.set_index(\"index\", inplace=True, drop=True)"
            ]
        },
        {
            "cell_type": "code",
            "execution_count": 59,
            "id": "69aa0994",
            "metadata": {},
            "outputs": [],
            "source": [
                "y_pred_df[\"data_split\"] = \"validation\"\n",
                "y_pred_df[\"shuffle\"] = mlp_params.SHUFFLE"
            ]
        },
        {
            "cell_type": "code",
            "execution_count": 60,
            "id": "2280e9bc",
            "metadata": {},
            "outputs": [],
            "source": [
                "# set path for the model confusion matrices\n",
                "y_pred_df_path = pathlib.Path(\n",
                "    f\"../../results/Multi_Class/{mlp_params.MODEL_NAME}/{mlp_params.CELL_TYPE}/validation_single_cell_predictions.parquet\"\n",
                ")\n",
                "y_pred_df_path.parent.mkdir(parents=True, exist_ok=True)\n",
                "if y_pred_df_path.exists():\n",
                "    predictions_df_tmp = pd.read_parquet(y_pred_df_path)\n",
                "    if len(predictions_df_tmp[\"shuffle\"].unique()) > 1:\n",
                "        pass\n",
                "    elif predictions_df_tmp[\"shuffle\"].unique() == mlp_params.SHUFFLE:\n",
                "        pass\n",
                "    else:\n",
                "        metrics_df = pd.concat([predictions_df_tmp, y_pred_df], axis=0)\n",
                "        metrics_df.to_parquet(y_pred_df_path, index=False)\n",
                "else:\n",
                "    y_pred_df.to_parquet(y_pred_df_path, index=False)"
            ]
        },
        {
            "cell_type": "code",
            "execution_count": 61,
            "id": "d3af248c",
            "metadata": {},
            "outputs": [],
            "source": [
                "final_predictions_df = pd.concat([final_predictions_df, y_pred_df], axis=0)"
            ]
        },
        {
            "cell_type": "markdown",
            "id": "b1a18529",
            "metadata": {
                "papermill": {
                    "duration": null,
                    "end_time": null,
                    "exception": null,
                    "start_time": null,
                    "status": "pending"
                },
                "tags": []
            },
            "source": [
                "## Testing on the test data"
            ]
        },
        {
            "cell_type": "code",
            "execution_count": 62,
            "id": "5b5e76f8",
            "metadata": {
                "execution": {
                    "iopub.execute_input": "2023-11-13T03:45:31.073811Z",
                    "iopub.status.busy": "2023-11-13T03:45:31.073498Z",
                    "iopub.status.idle": "2023-11-13T03:45:31.077443Z",
                    "shell.execute_reply": "2023-11-13T03:45:31.077009Z"
                },
                "papermill": {
                    "duration": null,
                    "end_time": null,
                    "exception": null,
                    "start_time": null,
                    "status": "pending"
                },
                "tags": []
            },
            "outputs": [],
            "source": [
                "# create a dataframe to store the model confusion matrix\n",
                "data_split_conf_mat_df_all = pd.DataFrame(\n",
                "    columns=[\"True_Label\", \"Predicted_Label\", \"Count\", \"data_split\", \"Recall\"]\n",
                ")"
            ]
        },
        {
            "cell_type": "code",
            "execution_count": 63,
            "id": "d30cef39",
            "metadata": {
                "execution": {
                    "iopub.execute_input": "2023-11-13T03:45:31.103198Z",
                    "iopub.status.busy": "2023-11-13T03:45:31.102764Z",
                    "iopub.status.idle": "2023-11-13T03:45:58.660822Z",
                    "shell.execute_reply": "2023-11-13T03:45:58.660292Z"
                },
                "papermill": {
                    "duration": null,
                    "end_time": null,
                    "exception": null,
                    "start_time": null,
                    "status": "pending"
                },
                "tags": []
            },
            "outputs": [
                {
                    "name": "stdout",
                    "output_type": "stream",
                    "text": [
                        "MLP_All_channels\n"
                    ]
                },
                {
                    "name": "stderr",
                    "output_type": "stream",
                    "text": [
                        "/home/lippincm/Documents/Interstellar_Analysis/utils/MLP_utils/utils.py:1081: FutureWarning: You are using `torch.load` with `weights_only=False` (the current default value), which uses the default pickle module implicitly. It is possible to construct malicious pickle data which will execute arbitrary code during unpickling (See https://github.com/pytorch/pytorch/blob/main/SECURITY.md#untrusted-models for more details). In a future release, the default value for `weights_only` will be flipped to `True`. This limits the functions that could be executed during unpickling. Arbitrary objects will no longer be allowed to be loaded via this mode unless they are explicitly allowlisted by the user via `torch.serialization.add_safe_globals`. We recommend you start setting `weights_only=True` for any use case where you don't have full control of the loaded file. Please open an issue on GitHub for any issues related to this experimental feature.\n",
                        "  torch.load(f\"{save_state_path}/Multi_Class_{model_name}.pt\")\n"
                    ]
                }
            ],
            "source": [
                "# calling the testing function and outputting list values of tested model\n",
                "if any(\n",
                "    model_type == mlp_params.MODEL_TYPE for model_type in [\"Multi_Class\", \"Regression\"]\n",
                "):\n",
                "    (y_pred_list, y_pred_prob_list, Y_test_list,) = test_optimized_model(\n",
                "        model,\n",
                "        test_loader,\n",
                "        params,\n",
                "        model_name=mlp_params.MODEL_NAME,\n",
                "        shuffle=mlp_params.SHUFFLE,\n",
                "    )\n",
                "elif mlp_params.MODEL_TYPE == \"Binary_Classification\":\n",
                "    y_pred_list, y_pred_prob_list = test_optimized_model(\n",
                "        model,\n",
                "        test_loader,\n",
                "        params,\n",
                "        model_name=mlp_params.MODEL_NAME,\n",
                "        shuffle=mlp_params.SHUFFLE,\n",
                "    )\n",
                "else:\n",
                "    raise Exception(\"Model type must be specified for proper model testing\")"
            ]
        },
        {
            "cell_type": "code",
            "execution_count": 64,
            "id": "9a7fe0ee",
            "metadata": {},
            "outputs": [],
            "source": [
                "# convert output tensors into arrays\n",
                "\n",
                "# list of tensors to list of lists\n",
                "y_pred_prob_list = [tensor.tolist() for tensor in y_pred_prob_list]\n",
                "Y_test_list = [tensor.tolist() for tensor in Y_test_list]\n",
                "# completly flatten list of lists\n",
                "new_prob_list = []\n",
                "for i in y_pred_prob_list:\n",
                "    for j in i:\n",
                "        new_prob_list.append(j)\n",
                "\n",
                "new_y_test_list = []\n",
                "for i in Y_test_list:\n",
                "    for j in i:\n",
                "        new_y_test_list.append(j)\n",
                "\n",
                "# list of lists to array\n",
                "y_pred_prob_list = np.array(new_prob_list)\n",
                "Y_test = np.array(new_y_test_list)"
            ]
        },
        {
            "cell_type": "code",
            "execution_count": 65,
            "id": "3f8027c3",
            "metadata": {},
            "outputs": [],
            "source": [
                "# get the PR curve for each class\n",
                "pr_curve_0 = precision_recall_curve(Y_test[:, 0], y_pred_prob_list[:, 0])\n",
                "pr_curve_1 = precision_recall_curve(Y_test[:, 1], y_pred_prob_list[:, 1])\n",
                "pr_curve_2 = precision_recall_curve(Y_test[:, 2], y_pred_prob_list[:, 2])"
            ]
        },
        {
            "cell_type": "code",
            "execution_count": 66,
            "id": "ca960ee9",
            "metadata": {},
            "outputs": [
                {
                    "name": "stderr",
                    "output_type": "stream",
                    "text": [
                        "/tmp/ipykernel_905128/1312179888.py:28: SettingWithCopyWarning: \n",
                        "A value is trying to be set on a copy of a slice from a DataFrame\n",
                        "\n",
                        "See the caveats in the documentation: https://pandas.pydata.org/pandas-docs/stable/user_guide/indexing.html#returning-a-view-versus-a-copy\n",
                        "  tmp_df.drop_duplicates(inplace=True)\n"
                    ]
                }
            ],
            "source": [
                "# make a dataframe of the precision-recall curves for each class\n",
                "pr_curve_0 = pd.DataFrame(\n",
                "    zip(pr_curve_0[0], pr_curve_0[1]),\n",
                "    columns=[\"precision\", \"recall\"],\n",
                ")\n",
                "pr_curve_0[\"label\"] = 0\n",
                "\n",
                "pr_curve_1 = pd.DataFrame(\n",
                "    zip(pr_curve_1[0], pr_curve_1[1]),\n",
                "    columns=[\"precision\", \"recall\"],\n",
                ")\n",
                "pr_curve_1[\"label\"] = 1\n",
                "\n",
                "pr_curve_2 = pd.DataFrame(\n",
                "    zip(pr_curve_2[0], pr_curve_2[1]),\n",
                "    columns=[\"precision\", \"recall\"],\n",
                ")\n",
                "pr_curve_2[\"label\"] = 2\n",
                "\n",
                "# make the precision-recall curve dataframe\n",
                "pr_curve_df = pd.DataFrame(columns=[\"precision\", \"recall\", \"label\"])\n",
                "pr_curve_df = pd.concat([pr_curve_df, pr_curve_0, pr_curve_1, pr_curve_2])\n",
                "\n",
                "\n",
                "# get the decoded labels\n",
                "tmp_df = df_values[[\"new_labels\", \"labels\"]]\n",
                "# get the unique rows\n",
                "tmp_df.drop_duplicates(inplace=True)\n",
                "# make a dict of the labels and new labels\n",
                "label_dict = dict(zip(tmp_df[\"new_labels\"], tmp_df[\"labels\"]))\n",
                "\n",
                "# change the label column to the actual labels from the label dict\n",
                "pr_curve_df[\"label\"] = pr_curve_df[\"label\"].map(label_dict)\n",
                "pr_curve_df[\"data_split\"] = \"testing\"\n",
                "pr_curve_df[\"shuffle\"] = mlp_params.SHUFFLE"
            ]
        },
        {
            "cell_type": "code",
            "execution_count": 67,
            "id": "b6abe280",
            "metadata": {},
            "outputs": [
                {
                    "name": "stderr",
                    "output_type": "stream",
                    "text": [
                        "/tmp/ipykernel_905128/2109324303.py:4: FutureWarning: In a future version, object-dtype columns with all-bool values will not be included in reductions with bool_only=True. Explicitly cast to bool dtype instead.\n",
                        "  pr_curve_df_all = pd.concat([pr_curve_df_all, pr_curve_df], axis=0)\n"
                    ]
                }
            ],
            "source": [
                "# create a master dataframe to store all the model stats\n",
                "# across all data splits and shuffled data\n",
                "\n",
                "pr_curve_df_all = pd.concat([pr_curve_df_all, pr_curve_df], axis=0)"
            ]
        },
        {
            "cell_type": "code",
            "execution_count": 68,
            "id": "bb61afb4",
            "metadata": {},
            "outputs": [
                {
                    "data": {
                        "text/plain": [
                            "array(['train', 'validation', 'testing'], dtype=object)"
                        ]
                    },
                    "execution_count": 68,
                    "metadata": {},
                    "output_type": "execute_result"
                }
            ],
            "source": [
                "pr_curve_df_all[\"data_split\"].unique()"
            ]
        },
        {
            "cell_type": "code",
            "execution_count": 69,
            "id": "4a540aeb",
            "metadata": {},
            "outputs": [
                {
                    "name": "stderr",
                    "output_type": "stream",
                    "text": [
                        "/tmp/ipykernel_905128/1664437899.py:25: FutureWarning: In a future version, object-dtype columns with all-bool values will not be included in reductions with bool_only=True. Explicitly cast to bool dtype instead.\n",
                        "  main_prob_df = pd.concat([main_prob_df, prob_df])\n"
                    ]
                }
            ],
            "source": [
                "class_0_prob = []\n",
                "class_1_prob = []\n",
                "class_2_prob = []\n",
                "\n",
                "for i in y_pred_prob_list:\n",
                "    class_0_prob.append(i[0])\n",
                "    class_1_prob.append(i[1])\n",
                "    class_2_prob.append(i[2])\n",
                "\n",
                "\n",
                "prob_df = pd.DataFrame(\n",
                "    zip(class_0_prob, class_1_prob, class_2_prob),\n",
                "    columns=[\"apoptosis_prob\", \"control_prob\", \"pyroptosis_prob\"],\n",
                ")\n",
                "label_true = [np.argmax(i) for i in Y_test]\n",
                "\n",
                "prob_df[\"label_true\"] = label_true\n",
                "prob_df[\"label_pred\"] = y_pred_list\n",
                "prob_df[\"data_split\"] = \"testing\"\n",
                "prob_df[\"shuffle\"] = mlp_params.SHUFFLE\n",
                "prob_df[\"class_name\"] = prob_df[\"label_true\"].map(label_dict)\n",
                "metadata_test.reset_index(inplace=True)\n",
                "\n",
                "prob_df = pd.concat([prob_df, metadata_test], axis=1)\n",
                "main_prob_df = pd.concat([main_prob_df, prob_df])"
            ]
        },
        {
            "cell_type": "code",
            "execution_count": 70,
            "id": "e87c851e",
            "metadata": {},
            "outputs": [],
            "source": [
                "Y_test_list = [np.argmax(i) for i in Y_test]"
            ]
        },
        {
            "cell_type": "code",
            "execution_count": 71,
            "id": "ba2c00bd",
            "metadata": {
                "execution": {
                    "iopub.execute_input": "2023-11-13T03:45:58.690648Z",
                    "iopub.status.busy": "2023-11-13T03:45:58.690243Z",
                    "iopub.status.idle": "2023-11-13T03:46:00.411883Z",
                    "shell.execute_reply": "2023-11-13T03:46:00.411387Z"
                },
                "papermill": {
                    "duration": null,
                    "end_time": null,
                    "exception": null,
                    "start_time": null,
                    "status": "pending"
                },
                "tags": []
            },
            "outputs": [
                {
                    "name": "stdout",
                    "output_type": "stream",
                    "text": [
                        "              precision    recall  f1-score   support\n",
                        "\n",
                        "           0       1.00      1.00      1.00         2\n",
                        "           1       1.00      1.00      1.00        17\n",
                        "           2       1.00      1.00      1.00        18\n",
                        "\n",
                        "    accuracy                           1.00        37\n",
                        "   macro avg       1.00      1.00      1.00        37\n",
                        "weighted avg       1.00      1.00      1.00        37\n",
                        "\n",
                        "Precision for class 0: 1.0\n",
                        "Recall for class 0: 1.0\n",
                        "Precision for class 1: 1.0\n",
                        "Recall for class 1: 1.0\n",
                        "Precision for class 2: 1.0\n",
                        "Recall for class 2: 1.0\n",
                        "3\n"
                    ]
                },
                {
                    "data": {
                        "image/png": "[encoded data removed]",
                        "text/plain": [
                            "<Figure size 640x480 with 2 Axes>"
                        ]
                    },
                    "metadata": {},
                    "output_type": "display_data"
                },
                {
                    "data": {
                        "image/png": "[encoded data removed]",
                        "text/plain": [
                            "<Figure size 640x480 with 1 Axes>"
                        ]
                    },
                    "metadata": {},
                    "output_type": "display_data"
                }
            ],
            "source": [
                "# Call visualization function\n",
                "# calling the testing function and outputing list values of tested model\n",
                "if any(\n",
                "    model_type == mlp_params.MODEL_TYPE for model_type in [\"Multi_Class\", \"Regression\"]\n",
                "):\n",
                "    confusion_matrix_df = results_output(\n",
                "        y_pred_list,\n",
                "        Y_test_list,\n",
                "        params,\n",
                "        test_name=f\"{mlp_params.MODEL_NAME}_testing\",\n",
                "        model_name=mlp_params.MODEL_NAME,\n",
                "        title=mlp_params.MODEL_NAME,\n",
                "        shuffle=mlp_params.SHUFFLE,\n",
                "    )\n",
                "elif mlp_params.MODEL_TYPE == \"Binary_Classification\":\n",
                "    results_output(\n",
                "        y_pred_list,\n",
                "        Y_test,\n",
                "        params,\n",
                "        y_pred_prob_list,\n",
                "        test_name=f\"{mlp_params.MODEL_NAME}_testing\",\n",
                "        model_name=mlp_params.MODEL_NAME,\n",
                "        title=mlp_params.MODEL_NAME,\n",
                "        shuffle=mlp_params.SHUFFLE,\n",
                "    )\n",
                "else:\n",
                "    raise Exception(\"Model type must be specified for proper model testing\")\n",
                "plt.close()"
            ]
        },
        {
            "cell_type": "code",
            "execution_count": 72,
            "id": "46ac0cf7",
            "metadata": {},
            "outputs": [],
            "source": [
                "# make a df of the predictions and the true labels\n",
                "y_pred_df = pd.DataFrame(y_pred_list, columns=[\"predicted_label\"])\n",
                "y_true_df = pd.DataFrame(Y_test_list, columns=[\"true_label\"])\n",
                "# concat the two dataframes\n",
                "# final_predictions_df = pd.concat([y_true_df, y_pred_df], axis=1)\n",
                "y_pred_df = pd.concat([y_true_df, y_pred_df], axis=1)"
            ]
        },
        {
            "cell_type": "code",
            "execution_count": 73,
            "id": "4f348692",
            "metadata": {},
            "outputs": [],
            "source": [
                "# merge y_pred_df with metadata_holdout while keeping the index of metadata_holdout\n",
                "# metadata_test.reset_index(inplace=True)\n",
                "y_pred_df = pd.concat([y_pred_df, metadata_test], axis=1)\n",
                "# set the index to the index column\n",
                "y_pred_df.set_index(\"index\", inplace=True, drop=True)"
            ]
        },
        {
            "cell_type": "code",
            "execution_count": 74,
            "id": "329bc0d0",
            "metadata": {},
            "outputs": [],
            "source": [
                "y_pred_df[\"data_split\"] = \"test\"\n",
                "y_pred_df[\"shuffle\"] = mlp_params.SHUFFLE"
            ]
        },
        {
            "cell_type": "code",
            "execution_count": 75,
            "id": "6db2f672",
            "metadata": {},
            "outputs": [],
            "source": [
                "# set path for the model confusion matrices\n",
                "y_pred_df_path = pathlib.Path(\n",
                "    f\"../../results/Multi_Class/{mlp_params.MODEL_NAME}/{mlp_params.CELL_TYPE}/testing_single_cell_predictions.parquet\"\n",
                ")\n",
                "y_pred_df_path.parent.mkdir(parents=True, exist_ok=True)\n",
                "if y_pred_df_path.exists():\n",
                "    predictions_df_tmp = pd.read_parquet(y_pred_df_path)\n",
                "    if len(predictions_df_tmp[\"shuffle\"].unique()) > 1:\n",
                "        pass\n",
                "    elif predictions_df_tmp[\"shuffle\"].unique() == mlp_params.SHUFFLE:\n",
                "        pass\n",
                "    else:\n",
                "        metrics_df = pd.concat([predictions_df_tmp, y_pred_df], axis=0)\n",
                "        metrics_df.to_parquet(y_pred_df_path, index=False)\n",
                "else:\n",
                "    y_pred_df.to_parquet(y_pred_df_path, index=False)"
            ]
        },
        {
            "cell_type": "code",
            "execution_count": 76,
            "id": "1de56eae",
            "metadata": {},
            "outputs": [],
            "source": [
                "final_predictions_df = pd.concat([final_predictions_df, y_pred_df], axis=0)"
            ]
        },
        {
            "cell_type": "code",
            "execution_count": 77,
            "id": "7d74124b",
            "metadata": {
                "execution": {
                    "iopub.execute_input": "2023-11-13T03:46:00.441418Z",
                    "iopub.status.busy": "2023-11-13T03:46:00.441055Z",
                    "iopub.status.idle": "2023-11-13T03:46:00.444604Z",
                    "shell.execute_reply": "2023-11-13T03:46:00.444216Z"
                },
                "papermill": {
                    "duration": null,
                    "end_time": null,
                    "exception": null,
                    "start_time": null,
                    "status": "pending"
                },
                "tags": []
            },
            "outputs": [],
            "source": [
                "# rename columns from the decoder dictionary\n",
                "confusion_matrix_df.rename(\n",
                "    columns={0: \"apoptosis\", 1: \"healthy\", 2: \"pyroptosis\"}, inplace=True\n",
                ")\n",
                "confusion_matrix_df.rename(\n",
                "    index={0: \"apoptosis\", 1: \"healthy\", 2: \"pyroptosis\"}, inplace=True\n",
                ")"
            ]
        },
        {
            "cell_type": "code",
            "execution_count": 78,
            "id": "a570c014",
            "metadata": {
                "execution": {
                    "iopub.execute_input": "2023-11-13T03:46:00.504227Z",
                    "iopub.status.busy": "2023-11-13T03:46:00.503933Z",
                    "iopub.status.idle": "2023-11-13T03:46:02.086994Z",
                    "shell.execute_reply": "2023-11-13T03:46:02.086381Z"
                },
                "papermill": {
                    "duration": null,
                    "end_time": null,
                    "exception": null,
                    "start_time": null,
                    "status": "pending"
                },
                "tags": []
            },
            "outputs": [],
            "source": [
                "confusion_matrices = confusion_matrix_df.reset_index()\n",
                "# melt the DataFrame to a long format\n",
                "confusion_matrices = pd.melt(\n",
                "    confusion_matrices,\n",
                "    id_vars=[\"index\"],\n",
                "    value_vars=[\"healthy\", \"apoptosis\", \"pyroptosis\"],\n",
                ")\n",
                "\n",
                "# rename the columns\n",
                "confusion_matrices.columns = [\"True_Label\", \"Predicted_Label\", \"Count\"]\n",
                "confusion_matrices[\"data_split\"] = \"testing\"\n",
                "# sum of the columns of the confusion matrix gives the total number of samples per class\n",
                "sum_of_columns = confusion_matrix_df.sum(axis=0)"
            ]
        },
        {
            "cell_type": "code",
            "execution_count": 79,
            "id": "09c57815",
            "metadata": {
                "execution": {
                    "iopub.execute_input": "2023-11-13T03:21:29.587463Z",
                    "iopub.status.busy": "2023-11-13T03:21:29.587136Z",
                    "iopub.status.idle": "2023-11-13T03:21:29.590692Z",
                    "shell.execute_reply": "2023-11-13T03:21:29.590308Z"
                },
                "papermill": {
                    "duration": null,
                    "end_time": null,
                    "exception": null,
                    "start_time": null,
                    "status": "pending"
                },
                "tags": []
            },
            "outputs": [],
            "source": [
                "# normalize confusion matrix\n",
                "# get the sum of each column to normalize the confusion matrix by the total number of samples per class\n",
                "\n",
                "# divide the apotosis column by the sum of the apotosis column\n",
                "confusion_matrix_df[\"apoptosis\"] = confusion_matrix_df[\"apoptosis\"] / sum_of_columns[0]\n",
                "# divide the healthy column by the sum of the healthy column\n",
                "confusion_matrix_df[\"healthy\"] = confusion_matrix_df[\"healthy\"] / sum_of_columns[1]\n",
                "# divide the pyroptosis column by the sum of the pyroptosis column\n",
                "confusion_matrix_df[\"pyroptosis\"] = (\n",
                "    confusion_matrix_df[\"pyroptosis\"] / sum_of_columns[2]\n",
                ")"
            ]
        },
        {
            "cell_type": "code",
            "execution_count": 80,
            "id": "b394f6ad",
            "metadata": {
                "execution": {
                    "iopub.execute_input": "2023-11-13T03:21:29.644888Z",
                    "iopub.status.busy": "2023-11-13T03:21:29.644610Z",
                    "iopub.status.idle": "2023-11-13T03:21:29.653537Z",
                    "shell.execute_reply": "2023-11-13T03:21:29.653154Z"
                },
                "papermill": {
                    "duration": null,
                    "end_time": null,
                    "exception": null,
                    "start_time": null,
                    "status": "pending"
                },
                "tags": []
            },
            "outputs": [],
            "source": [
                "confusion_matrices_recall = confusion_matrix_df.reset_index()\n",
                "# melt the DataFrame to a long format\n",
                "confusion_matrices_recall = pd.melt(\n",
                "    confusion_matrices_recall,\n",
                "    id_vars=[\"index\"],\n",
                "    value_vars=[\"healthy\", \"apoptosis\", \"pyroptosis\"],\n",
                ")\n",
                "\n",
                "# rename the columns\n",
                "confusion_matrices_recall.columns = [\"True_Label\", \"Predicted_Label\", \"Count\"]\n",
                "confusion_matrices_recall[\"data_split\"] = \"testing\"\n",
                "confusion_matrices_recall.rename(columns={\"Count\": \"Recall\"}, inplace=True)\n",
                "data_split_conf_mat_df = pd.merge(\n",
                "    confusion_matrices,\n",
                "    confusion_matrices_recall,\n",
                "    on=[\"True_Label\", \"Predicted_Label\", \"data_split\"],\n",
                ")\n",
                "data_split_conf_mat_df[\"shuffle\"] = mlp_params.SHUFFLE\n",
                "data_split_conf_mat_df_all = pd.concat(\n",
                "    [data_split_conf_mat_df_all, data_split_conf_mat_df], axis=0\n",
                ")"
            ]
        },
        {
            "cell_type": "code",
            "execution_count": 81,
            "id": "1ff8a8fd",
            "metadata": {
                "execution": {
                    "iopub.execute_input": "2023-11-13T03:21:29.709364Z",
                    "iopub.status.busy": "2023-11-13T03:21:29.709087Z",
                    "iopub.status.idle": "2023-11-13T03:21:29.875053Z",
                    "shell.execute_reply": "2023-11-13T03:21:29.874655Z"
                },
                "papermill": {
                    "duration": null,
                    "end_time": null,
                    "exception": null,
                    "start_time": null,
                    "status": "pending"
                },
                "tags": []
            },
            "outputs": [],
            "source": [
                "ax = sns.heatmap(confusion_matrix_df, annot=True)\n",
                "ax.invert_xaxis()\n",
                "ax.invert_yaxis()\n",
                "plt.xlabel(\"Actual Values\", size=15)\n",
                "plt.ylabel(\"Predicted Values\", size=15)\n",
                "\n",
                "plt.close()"
            ]
        },
        {
            "cell_type": "code",
            "execution_count": 82,
            "id": "6e9b9cc1",
            "metadata": {
                "execution": {
                    "iopub.execute_input": "2023-11-13T03:21:29.900899Z",
                    "iopub.status.busy": "2023-11-13T03:21:29.900540Z",
                    "iopub.status.idle": "2023-11-13T03:21:30.312654Z",
                    "shell.execute_reply": "2023-11-13T03:21:30.312226Z"
                },
                "papermill": {
                    "duration": null,
                    "end_time": null,
                    "exception": null,
                    "start_time": null,
                    "status": "pending"
                },
                "tags": []
            },
            "outputs": [
                {
                    "name": "stdout",
                    "output_type": "stream",
                    "text": [
                        "              precision    recall  f1-score   support\n",
                        "\n",
                        "           0       1.00      1.00      1.00         2\n",
                        "           1       1.00      1.00      1.00        17\n",
                        "           2       1.00      1.00      1.00        18\n",
                        "\n",
                        "    accuracy                           1.00        37\n",
                        "   macro avg       1.00      1.00      1.00        37\n",
                        "weighted avg       1.00      1.00      1.00        37\n",
                        "\n"
                    ]
                },
                {
                    "name": "stderr",
                    "output_type": "stream",
                    "text": [
                        "/tmp/ipykernel_905128/3777910350.py:18: SettingWithCopyWarning: \n",
                        "A value is trying to be set on a copy of a slice from a DataFrame.\n",
                        "Try using .loc[row_indexer,col_indexer] = value instead\n",
                        "\n",
                        "See the caveats in the documentation: https://pandas.pydata.org/pandas-docs/stable/user_guide/indexing.html#returning-a-view-versus-a-copy\n",
                        "  df_labels[\"new_labels\"] = df_labels[\"new_labels\"].astype(str)\n"
                    ]
                }
            ],
            "source": [
                "stats_df = output_stats(\n",
                "    y_pred_list,\n",
                "    Y_test_list,\n",
                "    mlp_params,\n",
                "    test_name=f\"{mlp_params.MODEL_NAME}_train\",\n",
                "    model_name=mlp_params.MODEL_NAME,\n",
                "    title=mlp_params.MODEL_NAME,\n",
                "    shuffle=mlp_params.SHUFFLE,\n",
                ")\n",
                "# make into a dataframe\n",
                "stats_df = pd.DataFrame.from_dict(stats_df).transpose()\n",
                "stats_df.reset_index(inplace=True)\n",
                "stats_df.rename(columns={\"index\": \"label\"}, inplace=True)\n",
                "stats_df = stats_df.melt(id_vars=[\"label\"], var_name=\"metric\", value_name=\"value\")\n",
                "# if accuracy in row of column 1 then change value of column 2 to accuracy\n",
                "stats_df.loc[stats_df[\"label\"] == \"accuracy\", \"metric\"] = \"accuracy\"\n",
                "# create a decoder dictionary from df_labels\n",
                "df_labels[\"new_labels\"] = df_labels[\"new_labels\"].astype(str)\n",
                "decoder = df_labels.set_index(\"new_labels\").to_dict()[\"labels\"]\n",
                "decoder[\"accuracy\"] = \"accuracy\"\n",
                "decoder[\"macro avg\"] = \"macro avg\"\n",
                "decoder[\"weighted avg\"] = \"weighted avg\"\n",
                "stats_df[\"label\"] = stats_df[\"label\"].map(decoder)"
            ]
        },
        {
            "cell_type": "code",
            "execution_count": 83,
            "id": "5e49a4d0",
            "metadata": {
                "execution": {
                    "iopub.execute_input": "2023-11-13T03:21:30.340165Z",
                    "iopub.status.busy": "2023-11-13T03:21:30.339794Z",
                    "iopub.status.idle": "2023-11-13T03:21:30.343391Z",
                    "shell.execute_reply": "2023-11-13T03:21:30.342990Z"
                },
                "papermill": {
                    "duration": null,
                    "end_time": null,
                    "exception": null,
                    "start_time": null,
                    "status": "pending"
                },
                "tags": []
            },
            "outputs": [
                {
                    "name": "stderr",
                    "output_type": "stream",
                    "text": [
                        "/tmp/ipykernel_905128/309341788.py:4: FutureWarning: In a future version, object-dtype columns with all-bool values will not be included in reductions with bool_only=True. Explicitly cast to bool dtype instead.\n",
                        "  model_stats_df = pd.concat([model_stats_df, stats_df], axis=0)\n"
                    ]
                }
            ],
            "source": [
                "stats_df[\"group\"] = \"test\"\n",
                "stats_df[\"shuffle\"] = mlp_params.SHUFFLE\n",
                "\n",
                "model_stats_df = pd.concat([model_stats_df, stats_df], axis=0)"
            ]
        },
        {
            "cell_type": "markdown",
            "id": "4806d13c",
            "metadata": {},
            "source": [
                "### Save Files"
            ]
        },
        {
            "cell_type": "code",
            "execution_count": 84,
            "id": "9931ea5e",
            "metadata": {},
            "outputs": [],
            "source": [
                "# set path for the model confusion matrices\n",
                "predictions_path = pathlib.Path(\n",
                "    f\"../../results/{mlp_params.MODEL_TYPE}/{mlp_params.MODEL_NAME}/{mlp_params.CELL_TYPE}\"\n",
                ")\n",
                "predictions_path.mkdir(parents=True, exist_ok=True)\n",
                "# check if the model training metrics file exists\n",
                "predictions_file = pathlib.Path(f\"{predictions_path}/single_cell_predictions.parquet\")\n",
                "if predictions_file.exists():\n",
                "    predictions_df_tmp = pd.read_parquet(predictions_file)\n",
                "    if len(predictions_df_tmp[\"shuffle\"].unique()) > 1:\n",
                "        pass\n",
                "    elif predictions_df_tmp[\"shuffle\"].unique() == mlp_params.SHUFFLE:\n",
                "        pass\n",
                "    else:\n",
                "        metrics_df = pd.concat([predictions_df_tmp, final_predictions_df], axis=0)\n",
                "        metrics_df.to_parquet(predictions_file, index=False)\n",
                "else:\n",
                "    final_predictions_df.to_parquet(predictions_file, index=False)"
            ]
        },
        {
            "cell_type": "code",
            "execution_count": 85,
            "id": "6320cb8d",
            "metadata": {
                "execution": {
                    "iopub.execute_input": "2023-11-13T03:21:53.887891Z",
                    "iopub.status.busy": "2023-11-13T03:21:53.887611Z",
                    "iopub.status.idle": "2023-11-13T03:21:53.892841Z",
                    "shell.execute_reply": "2023-11-13T03:21:53.892460Z"
                },
                "papermill": {
                    "duration": null,
                    "end_time": null,
                    "exception": null,
                    "start_time": null,
                    "status": "pending"
                },
                "tags": []
            },
            "outputs": [],
            "source": [
                "# set path for the model confusion matrices\n",
                "matrix_path = pathlib.Path(\n",
                "    f\"../../results/{mlp_params.MODEL_TYPE}/{mlp_params.MODEL_NAME}/{mlp_params.CELL_TYPE}\"\n",
                ")\n",
                "matrix_path.mkdir(parents=True, exist_ok=True)\n",
                "# check if the model training metrics file exists\n",
                "matrix_file = pathlib.Path(f\"{matrix_path}/confusion_matrices.parquet\")\n",
                "if matrix_file.exists():\n",
                "    metrics_df = pd.read_parquet(matrix_file)\n",
                "    if len(metrics_df[\"shuffle\"].unique()) > 1:\n",
                "        pass\n",
                "    elif metrics_df[\"shuffle\"].unique() == mlp_params.SHUFFLE:\n",
                "        pass\n",
                "    else:\n",
                "        metrics_df = pd.concat([metrics_df, data_split_conf_mat_df_all], axis=0)\n",
                "        metrics_df.to_parquet(matrix_file, index=False)\n",
                "else:\n",
                "    data_split_conf_mat_df_all.to_parquet(matrix_file, index=False)"
            ]
        },
        {
            "cell_type": "code",
            "execution_count": 86,
            "id": "e1e4b224",
            "metadata": {
                "execution": {
                    "iopub.execute_input": "2023-11-13T03:21:53.922948Z",
                    "iopub.status.busy": "2023-11-13T03:21:53.922663Z",
                    "iopub.status.idle": "2023-11-13T03:21:53.927617Z",
                    "shell.execute_reply": "2023-11-13T03:21:53.927236Z"
                },
                "papermill": {
                    "duration": null,
                    "end_time": null,
                    "exception": null,
                    "start_time": null,
                    "status": "pending"
                },
                "tags": []
            },
            "outputs": [],
            "source": [
                "# set path for the model training metrics\n",
                "metrics_path = pathlib.Path(\n",
                "    f\"../../results/{mlp_params.MODEL_TYPE}/{mlp_params.MODEL_NAME}/{mlp_params.CELL_TYPE}\"\n",
                ")\n",
                "metrics_path.mkdir(parents=True, exist_ok=True)\n",
                "# check if the model training metrics file exists\n",
                "metrics_file = pathlib.Path(f\"{metrics_path}/training_metrics.parquet\")\n",
                "if metrics_file.exists():\n",
                "    metrics_df = pd.read_parquet(metrics_file)\n",
                "    if len(metrics_df[\"shuffle\"].unique()) > 1:\n",
                "        pass\n",
                "    elif metrics_df[\"shuffle\"].unique() == mlp_params.SHUFFLE:\n",
                "        pass\n",
                "    else:\n",
                "        metrics_df = pd.concat([metrics_df, model_stats_df], axis=0)\n",
                "        metrics_df.to_parquet(metrics_file, index=False)\n",
                "else:\n",
                "    model_stats_df.to_parquet(metrics_file, index=False)"
            ]
        },
        {
            "cell_type": "code",
            "execution_count": 87,
            "id": "96b342f3",
            "metadata": {},
            "outputs": [],
            "source": [
                "# set path for the model training metrics\n",
                "pr_curve_file_path = pathlib.Path(\n",
                "    f\"../../results/{mlp_params.MODEL_TYPE}/{mlp_params.MODEL_NAME}/{mlp_params.CELL_TYPE}\"\n",
                ")\n",
                "pr_curve_file_path.mkdir(parents=True, exist_ok=True)\n",
                "# check if the model training metrics file exists\n",
                "pr_curve_file = pathlib.Path(f\"{pr_curve_file_path}/PR_curves.parquet\")\n",
                "if pr_curve_file.exists():\n",
                "    pr_curve_df_old = pd.read_parquet(pr_curve_file)\n",
                "    if len(pr_curve_df_old[\"shuffle\"].unique()) > 1:\n",
                "        pass\n",
                "    elif pr_curve_df_old[\"shuffle\"].unique() == mlp_params.SHUFFLE:\n",
                "        pass\n",
                "    else:\n",
                "        pr_curve_df_old = pd.concat([pr_curve_df_old, pr_curve_df_all], axis=0)\n",
                "        pr_curve_df_old.to_parquet(pr_curve_file, index=False)\n",
                "else:\n",
                "    pr_curve_df_all.to_parquet(pr_curve_file, index=False)"
            ]
        },
        {
            "cell_type": "code",
            "execution_count": 88,
            "id": "d81929db",
            "metadata": {},
            "outputs": [],
            "source": [
                "# set path for the model training metrics\n",
                "probabilties_df_path = pathlib.Path(\n",
                "    f\"../../results/{mlp_params.MODEL_TYPE}/{mlp_params.MODEL_NAME}/{mlp_params.CELL_TYPE}\"\n",
                ")\n",
                "probabilties_df_path.mkdir(parents=True, exist_ok=True)\n",
                "# check if the model training metrics file exists\n",
                "probabilties_df_file = pathlib.Path(f\"{probabilties_df_path}/probabilities.parquet\")\n",
                "if probabilties_df_file.exists():\n",
                "    probabilties_df_old = pd.read_parquet(probabilties_df_file)\n",
                "    if len(probabilties_df_old[\"shuffle\"].unique()) > 1:\n",
                "        pass\n",
                "    elif probabilties_df_old[\"shuffle\"].unique() == mlp_params.SHUFFLE:\n",
                "        pass\n",
                "    else:\n",
                "        probabilties_df_old = pd.concat([probabilties_df_old, main_prob_df], axis=0)\n",
                "        probabilties_df_old.to_parquet(probabilties_df_file, index=False)\n",
                "else:\n",
                "    main_prob_df.to_parquet(probabilties_df_file, index=False)"
            ]
        },
        {
            "cell_type": "code",
            "execution_count": 89,
            "id": "c43032c7",
            "metadata": {},
            "outputs": [
                {
                    "data": {
                        "text/plain": [
                            "array(['train', 'validation', 'testing'], dtype=object)"
                        ]
                    },
                    "execution_count": 89,
                    "metadata": {},
                    "output_type": "execute_result"
                }
            ],
            "source": [
                "main_prob_df[\"data_split\"].unique()"
            ]
        }
    ],
    "metadata": {
        "kernelspec": {
            "display_name": "Interstellar_python",
            "language": "python",
            "name": "python3"
        },
        "language_info": {
            "codemirror_mode": {
                "name": "ipython",
                "version": 3
            },
            "file_extension": ".py",
            "mimetype": "text/x-python",
            "name": "python",
            "nbconvert_exporter": "python",
            "pygments_lexer": "ipython3",
            "version": "3.10.15"
        },
        "papermill": {
            "default_parameters": {},
            "duration": null,
            "end_time": null,
            "environment_variables": {},
            "exception": null,
            "input_path": "train_multiclass_model.ipynb",
            "output_path": "train_multiclass_model.ipynb",
            "parameters": {
                "CELL_TYPE": "PBMC",
                "MODEL_NAME": "MultiClass_MLP",
                "SHUFFLE": true
            },
            "start_time": "2023-11-13T03:46:04.352506",
            "version": "2.4.0"
        }
    },
    "nbformat": 4,
    "nbformat_minor": 5
}
