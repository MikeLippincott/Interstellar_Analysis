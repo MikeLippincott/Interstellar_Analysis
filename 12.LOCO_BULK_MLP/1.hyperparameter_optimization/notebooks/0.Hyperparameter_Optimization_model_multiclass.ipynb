{
    "cells": [
        {
            "attachments": {},
            "cell_type": "markdown",
            "id": "8e60628c",
            "metadata": {
                "papermill": {
                    "duration": 0.002385,
                    "end_time": "2023-10-18T18:20:04.868387",
                    "exception": false,
                    "start_time": "2023-10-18T18:20:04.866002",
                    "status": "completed"
                },
                "tags": []
            },
            "source": [
                "## Hyperparameter tuning via Optuna"
            ]
        },
        {
            "cell_type": "markdown",
            "id": "8fac71a5",
            "metadata": {
                "papermill": {
                    "duration": 0.001919,
                    "end_time": "2023-10-18T18:20:04.873048",
                    "exception": false,
                    "start_time": "2023-10-18T18:20:04.871129",
                    "status": "completed"
                },
                "tags": []
            },
            "source": [
                "### Being a binary model this notebook will be limited to predicting one class 1 or 0, yes or no.\n",
                "### Here I will be predicting if a cell received a treatment or not"
            ]
        },
        {
            "cell_type": "code",
            "execution_count": 1,
            "id": "860a61dd",
            "metadata": {
                "execution": {
                    "iopub.execute_input": "2023-10-18T18:20:04.878009Z",
                    "iopub.status.busy": "2023-10-18T18:20:04.877582Z",
                    "iopub.status.idle": "2023-10-18T18:20:08.479452Z",
                    "shell.execute_reply": "2023-10-18T18:20:08.478953Z"
                },
                "papermill": {
                    "duration": 3.605361,
                    "end_time": "2023-10-18T18:20:08.480497",
                    "exception": false,
                    "start_time": "2023-10-18T18:20:04.875136",
                    "status": "completed"
                },
                "tags": []
            },
            "outputs": [],
            "source": [
                "import argparse\n",
                "import json\n",
                "import pathlib\n",
                "import sys\n",
                "\n",
                "import numpy as np\n",
                "import optuna\n",
                "import pandas as pd\n",
                "import pyarrow.parquet as pq\n",
                "import toml\n",
                "import torch\n",
                "from sklearn import preprocessing\n",
                "\n",
                "MLP_parent_path = pathlib.Path(\"../../../utils/\")\n",
                "sys.path.append(str(MLP_parent_path.resolve()))\n",
                "MLP_path = pathlib.Path(\"../../../utils/MLP_utils\").resolve()\n",
                "\n",
                "from MLP_utils.parameters import Parameters\n",
                "from MLP_utils.utils import (\n",
                "    Dataset_formatter,\n",
                "    data_split,\n",
                "    extract_best_trial_params,\n",
                "    objective_model_optimizer,\n",
                "    parameter_set,\n",
                "    plot_metric_vs_epoch,\n",
                "    results_output,\n",
                "    test_optimized_model,\n",
                "    train_optimized_model,\n",
                "    un_nest,\n",
                ")\n",
                "from sklearn.model_selection import train_test_split\n",
                "\n",
                "from utils import df_stats"
            ]
        },
        {
            "cell_type": "code",
            "execution_count": null,
            "id": "15fbe814",
            "metadata": {},
            "outputs": [],
            "source": [
                "# set up the parser\n",
                "parser = argparse.ArgumentParser(description=\"Run hyperparameter optimization\")\n",
                "parser.add_argument(\n",
                "    \"--cell_type\",\n",
                "    type=str,\n",
                "    default=\"all\",\n",
                "    help=\"Cell type to run hyperparameter optimization for\",\n",
                ")\n",
                "parser.add_argument(\n",
                "    \"--model_name\",\n",
                "    type=str,\n",
                "    default=\"all\",\n",
                "    help=\"Model name to run hyperparameter optimization for\",\n",
                ")\n",
                "\n",
                "parser.add_argument(\n",
                "    \"--channel_combination_key\",\n",
                "    type=str,\n",
                "    default=\"all\",\n",
                "    help=\"key to a dictionary containing the feature types to split the data into\",\n",
                ")\n",
                "\n",
                "# parse arguments\n",
                "args = parser.parse_args()\n",
                "\n",
                "CELL_TYPE = args.cell_type\n",
                "MODEL_NAME = args.model_name\n",
                "channel_combination_key = args.channel_combination_key\n",
                "\n",
                "# CELL_TYPE = \"SHSY5Y\"\n",
                "# MODEL_NAME = \"MLP\"\n",
                "# channel_combination_key = \"All_channels\""
            ]
        },
        {
            "cell_type": "code",
            "execution_count": 3,
            "id": "40186317",
            "metadata": {},
            "outputs": [
                {
                    "name": "stdout",
                    "output_type": "stream",
                    "text": [
                        "CELL_TYPE: SHSY5Y, MODEL_NAME: MLP, channel_combination_key: All_channels\n"
                    ]
                }
            ],
            "source": [
                "print(\n",
                "    f\"CELL_TYPE: {CELL_TYPE}, MODEL_NAME: {MODEL_NAME}, channel_combination_key: {channel_combination_key}\"\n",
                ")"
            ]
        },
        {
            "cell_type": "code",
            "execution_count": 4,
            "id": "c700d77e",
            "metadata": {},
            "outputs": [],
            "source": [
                "# load in the channel combinations file\n",
                "channel_combinations_file_path = pathlib.Path(\n",
                "    f\"../../0.data_splits/results/feature_combinations_{CELL_TYPE}.toml\"\n",
                ").resolve(strict=True)\n",
                "channel_combinations = toml.load(channel_combinations_file_path)\n",
                "channel_combinations = channel_combinations[channel_combination_key]"
            ]
        },
        {
            "cell_type": "code",
            "execution_count": 5,
            "id": "394294ce",
            "metadata": {
                "execution": {
                    "iopub.execute_input": "2023-10-18T18:20:08.498713Z",
                    "iopub.status.busy": "2023-10-18T18:20:08.498501Z",
                    "iopub.status.idle": "2023-10-18T18:20:08.502638Z",
                    "shell.execute_reply": "2023-10-18T18:20:08.502299Z"
                },
                "papermill": {
                    "duration": 0.007175,
                    "end_time": "2023-10-18T18:20:08.503377",
                    "exception": false,
                    "start_time": "2023-10-18T18:20:08.496202",
                    "status": "completed"
                },
                "tags": []
            },
            "outputs": [],
            "source": [
                "ml_configs_file = pathlib.Path(MLP_path / \"multi_class_config.toml\").resolve(\n",
                "    strict=True\n",
                ")\n",
                "ml_configs = toml.load(ml_configs_file)\n",
                "params = Parameters()\n",
                "mlp_params = parameter_set(params, ml_configs)\n",
                "\n",
                "# overwrite params via command line arguments from papermill\n",
                "mlp_params.CELL_TYPE = CELL_TYPE\n",
                "mlp_params.MODEL_NAME = f\"{MODEL_NAME}_{channel_combination_key}\"\n",
                "MODEL_TYPE = mlp_params.MODEL_TYPE\n",
                "HYPERPARAMETER_BATCH_SIZE = 2"
            ]
        },
        {
            "cell_type": "code",
            "execution_count": 6,
            "id": "44baa945",
            "metadata": {
                "execution": {
                    "iopub.execute_input": "2023-10-18T18:20:08.507805Z",
                    "iopub.status.busy": "2023-10-18T18:20:08.507608Z"
                },
                "papermill": {
                    "duration": 54.581971,
                    "end_time": "2023-10-18T18:21:03.087265",
                    "exception": false,
                    "start_time": "2023-10-18T18:20:08.505294",
                    "status": "completed"
                },
                "tags": []
            },
            "outputs": [
                {
                    "name": "stdout",
                    "output_type": "stream",
                    "text": [
                        "(154, 1369)\n"
                    ]
                }
            ],
            "source": [
                "# Import Data\n",
                "# set data file path under pathlib path for multi-system use\n",
                "\n",
                "file_path = pathlib.Path(\n",
                "    f\"../../../data/{mlp_params.CELL_TYPE}_preprocessed_sc_norm_aggregated.parquet\"\n",
                ").resolve(strict=True)\n",
                "\n",
                "df1 = pd.read_parquet(file_path, columns=channel_combinations)\n",
                "print(df1.shape)"
            ]
        },
        {
            "cell_type": "code",
            "execution_count": 7,
            "id": "e8ef96f3",
            "metadata": {},
            "outputs": [],
            "source": [
                "# get paths for toml files\n",
                "ground_truth_file_path = pathlib.Path(MLP_path / \"ground_truth.toml\").resolve(\n",
                "    strict=True\n",
                ")\n",
                "# read toml files\n",
                "ground_truth = toml.load(ground_truth_file_path)"
            ]
        },
        {
            "cell_type": "code",
            "execution_count": 8,
            "id": "29c1f3cb",
            "metadata": {},
            "outputs": [],
            "source": [
                "# get information from toml files\n",
                "apoptosis_groups_list = ground_truth[\"Apoptosis\"][\"apoptosis_groups_list\"]\n",
                "pyroptosis_groups_list = ground_truth[\"Pyroptosis\"][\"pyroptosis_groups_list\"]\n",
                "healthy_groups_list = ground_truth[\"Healthy\"][\"healthy_groups_list\"]"
            ]
        },
        {
            "cell_type": "code",
            "execution_count": 9,
            "id": "159e2281",
            "metadata": {},
            "outputs": [
                {
                    "name": "stdout",
                    "output_type": "stream",
                    "text": [
                        "Data Subset Is Off\n"
                    ]
                }
            ],
            "source": [
                "np.random.seed(0)\n",
                "if mlp_params.DATA_SUBSET_OPTION == \"True\":\n",
                "    df1 = df1.groupby(\"oneb_Metadata_Treatment_Dose_Inhibitor_Dose\").apply(\n",
                "        lambda x: x.sample(n=mlp_params.DATA_SUBSET_NUMBER, random_state=0)\n",
                "    )\n",
                "    print(\"Data Subset Is On\")\n",
                "    print(f\"Data is subset to {mlp_params.DATA_SUBSET_NUMBER} per treatment group\")\n",
                "    print(df1.shape)\n",
                "    df1.reset_index(drop=True, inplace=True)\n",
                "else:\n",
                "    print(\"Data Subset Is Off\")"
            ]
        },
        {
            "cell_type": "code",
            "execution_count": 10,
            "id": "6a6ec3fa",
            "metadata": {},
            "outputs": [],
            "source": [
                "# add apoptosis, pyroptosis and healthy columns to dataframe\n",
                "df1[\"apoptosis\"] = df1[\"oneb_Metadata_Treatment_Dose_Inhibitor_Dose\"].isin(\n",
                "    apoptosis_groups_list\n",
                ")\n",
                "df1[\"pyroptosis\"] = df1[\"oneb_Metadata_Treatment_Dose_Inhibitor_Dose\"].isin(\n",
                "    pyroptosis_groups_list\n",
                ")\n",
                "df1[\"healthy\"] = df1[\"oneb_Metadata_Treatment_Dose_Inhibitor_Dose\"].isin(\n",
                "    healthy_groups_list\n",
                ")\n",
                "\n",
                "# merge apoptosis, pyroptosis, and healthy columns into one column\n",
                "conditions = [\n",
                "    (df1[\"apoptosis\"] == True),\n",
                "    (df1[\"pyroptosis\"] == True),\n",
                "    (df1[\"healthy\"] == True),\n",
                "]\n",
                "choices = [\"apoptosis\", \"pyroptosis\", \"healthy\"]\n",
                "df1[\"labels\"] = np.select(conditions, choices, default=\"healthy\")\n",
                "\n",
                "# drop apoptosis, pyroptosis, and healthy columns\n",
                "df1.drop(columns=[\"apoptosis\", \"pyroptosis\", \"healthy\"], inplace=True)"
            ]
        },
        {
            "cell_type": "markdown",
            "id": "3cb179dd",
            "metadata": {},
            "source": [
                "### Split said data"
            ]
        },
        {
            "cell_type": "code",
            "execution_count": 11,
            "id": "686d1a5d",
            "metadata": {},
            "outputs": [],
            "source": [
                "index_path = pathlib.Path(\n",
                "    f\"../../0.data_splits/indexes/{params.CELL_TYPE}/multi_class/\"\n",
                ")\n",
                "\n",
                "\n",
                "# save indexes as tsv file\n",
                "index_data_path = pathlib.Path(\n",
                "    f\"{index_path}/{params.CELL_TYPE}_data_split_indexes.tsv\", sep=\"\\t\", index=False\n",
                ")\n",
                "indexes = pd.read_csv(index_data_path, sep=\"\\t\")\n",
                "\n",
                "# get the labeld_data_index column from the indexes dataframe for train label\n",
                "training_data_set_index = indexes.loc[\n",
                "    indexes[\"label\"] == \"train\", \"labeled_data_index\"\n",
                "].values\n",
                "validation_data_set_index = indexes.loc[\n",
                "    indexes[\"label\"] == \"val\", \"labeled_data_index\"\n",
                "].values\n",
                "testing_data_set_index = indexes.loc[\n",
                "    indexes[\"label\"] == \"test\", \"labeled_data_index\"\n",
                "].values"
            ]
        },
        {
            "attachments": {},
            "cell_type": "markdown",
            "id": "5c486e00",
            "metadata": {
                "papermill": {
                    "duration": null,
                    "end_time": null,
                    "exception": null,
                    "start_time": null,
                    "status": "completed"
                },
                "tags": []
            },
            "source": [
                "#### Set up Data to be compatible with model"
            ]
        },
        {
            "attachments": {},
            "cell_type": "markdown",
            "id": "95754baa",
            "metadata": {
                "papermill": {
                    "duration": null,
                    "end_time": null,
                    "exception": null,
                    "start_time": null,
                    "status": "completed"
                },
                "tags": []
            },
            "source": [
                "##### Classification Models:\n",
                "Comment out code if using regression"
            ]
        },
        {
            "cell_type": "code",
            "execution_count": 12,
            "id": "786e3a76",
            "metadata": {
                "execution": {
                    "iopub.execute_input": "2023-10-18T18:19:56.707754Z",
                    "iopub.status.busy": "2023-10-18T18:19:56.707475Z",
                    "iopub.status.idle": "2023-10-18T18:19:56.711213Z",
                    "shell.execute_reply": "2023-10-18T18:19:56.710882Z"
                },
                "papermill": {
                    "duration": null,
                    "end_time": null,
                    "exception": null,
                    "start_time": null,
                    "status": "completed"
                },
                "tags": []
            },
            "outputs": [],
            "source": [
                "# Code snippet for metadata extraction by Jenna Tomkinson\n",
                "df_metadata = list(df1.columns[df1.columns.str.contains(\"Metadata\")])\n",
                "\n",
                "# define which columns are data and which are descriptive\n",
                "df_descriptive = df1[df_metadata]\n",
                "df_values = df1.drop(columns=df_metadata)"
            ]
        },
        {
            "cell_type": "code",
            "execution_count": 13,
            "id": "5a354640",
            "metadata": {},
            "outputs": [
                {
                    "data": {
                        "text/plain": [
                            "{'apoptosis': 0.948051948051948,\n",
                            " 'healthy': 0.5194805194805194,\n",
                            " 'pyroptosis': 0.5324675324675325}"
                        ]
                    },
                    "execution_count": 13,
                    "metadata": {},
                    "output_type": "execute_result"
                }
            ],
            "source": [
                "# get weights\n",
                "class_weights_file = pathlib.Path(\n",
                "    f\"../../0.data_splits/class_weights/{CELL_TYPE}/multi_class/class_weights.json\"\n",
                ").resolve(strict=True)\n",
                "# read in the class weights file json into a dict\n",
                "with open(class_weights_file, \"r\") as file:\n",
                "    class_weights = json.load(file)\n",
                "\n",
                "class_weights"
            ]
        },
        {
            "cell_type": "code",
            "execution_count": 14,
            "id": "595afb65",
            "metadata": {
                "execution": {
                    "iopub.execute_input": "2023-10-18T18:19:56.717727Z",
                    "iopub.status.busy": "2023-10-18T18:19:56.717549Z",
                    "iopub.status.idle": "2023-10-18T18:19:56.720945Z",
                    "shell.execute_reply": "2023-10-18T18:19:56.720676Z"
                },
                "papermill": {
                    "duration": null,
                    "end_time": null,
                    "exception": null,
                    "start_time": null,
                    "status": "completed"
                },
                "tags": []
            },
            "outputs": [
                {
                    "data": {
                        "text/plain": [
                            "array([1, 2, 0])"
                        ]
                    },
                    "execution_count": 14,
                    "metadata": {},
                    "output_type": "execute_result"
                }
            ],
            "source": [
                "# Creating label encoder\n",
                "le = preprocessing.LabelEncoder()\n",
                "df_values[\"new_labels\"] = le.fit_transform(df_values[\"labels\"])\n",
                "# make a dict encoder for the labels\n",
                "encoder = dict(zip(le.classes_, le.transform(le.classes_)))\n",
                "# change the keys and valules to be strings\n",
                "encoder = {str(key): str(value) for key, value in encoder.items()}\n",
                "# save the encoder as a json\n",
                "encoder_file = pathlib.Path(\n",
                "    f\"../../0.data_splits/class_weights/{CELL_TYPE}/multi_class/encoder.json\"\n",
                ")\n",
                "with open(encoder_file, \"w\") as file:\n",
                "    json.dump(encoder, file)\n",
                "\n",
                "# get mini dataframe that contains the decoder\n",
                "decoder = df_values[[\"labels\", \"new_labels\"]].drop_duplicates()\n",
                "# split into X and Y where Y are the predictive column and x are the observable data\n",
                "df_values_X = df_values.drop(\n",
                "    [\"new_labels\", \"labels\"],\n",
                "    axis=1,\n",
                ")\n",
                "df_values_Y = df_values[\"new_labels\"]\n",
                "df_values_Y.head()\n",
                "df_values_Y.unique()"
            ]
        },
        {
            "cell_type": "code",
            "execution_count": 15,
            "id": "1747feea",
            "metadata": {},
            "outputs": [
                {
                    "data": {
                        "text/plain": [
                            "[0.948051948051948, 0.5194805194805194, 0.5324675324675325]"
                        ]
                    },
                    "execution_count": 15,
                    "metadata": {},
                    "output_type": "execute_result"
                }
            ],
            "source": [
                "# replace the class weights key with the encoder key's matching value\n",
                "class_weights = {encoder[key]: value for key, value in class_weights.items()}\n",
                "class_weights = [f for f in class_weights.values()]\n",
                "class_weights"
            ]
        },
        {
            "attachments": {},
            "cell_type": "markdown",
            "id": "260a048e",
            "metadata": {
                "papermill": {
                    "duration": null,
                    "end_time": null,
                    "exception": null,
                    "start_time": null,
                    "status": "completed"
                },
                "tags": []
            },
            "source": [
                "#### Split Data - All Models can proceed through this point"
            ]
        },
        {
            "cell_type": "code",
            "execution_count": 16,
            "id": "b5b6d4fa",
            "metadata": {},
            "outputs": [
                {
                    "name": "stdout",
                    "output_type": "stream",
                    "text": [
                        "(93, 1367) (24, 1367) (37, 1367) (93,) (24,) (37,)\n"
                    ]
                }
            ],
            "source": [
                "# split into train and test sets from indexes previously defined\n",
                "\n",
                "X_train = df_values_X.loc[training_data_set_index]\n",
                "X_val = df_values_X.loc[validation_data_set_index]\n",
                "X_test = df_values_X.loc[testing_data_set_index]\n",
                "\n",
                "Y_train = df_values_Y.loc[training_data_set_index]\n",
                "Y_val = df_values_Y.loc[validation_data_set_index]\n",
                "Y_test = df_values_Y.loc[testing_data_set_index]\n",
                "\n",
                "\n",
                "print(\n",
                "    X_train.shape, X_val.shape, X_test.shape, Y_train.shape, Y_val.shape, Y_test.shape\n",
                ")"
            ]
        },
        {
            "cell_type": "code",
            "execution_count": 17,
            "id": "ae525b7d",
            "metadata": {},
            "outputs": [
                {
                    "data": {
                        "text/plain": [
                            "3"
                        ]
                    },
                    "execution_count": 17,
                    "metadata": {},
                    "output_type": "execute_result"
                }
            ],
            "source": [
                "mlp_params.OUT_FEATURES = len(df_values_Y.unique())\n",
                "mlp_params.OUT_FEATURES"
            ]
        },
        {
            "cell_type": "code",
            "execution_count": 18,
            "id": "9ab7a090",
            "metadata": {},
            "outputs": [],
            "source": [
                "Y_train = torch.tensor(Y_train.values)\n",
                "Y_train = torch.nn.functional.one_hot(\n",
                "    Y_train, num_classes=mlp_params.OUT_FEATURES\n",
                ").float()\n",
                "\n",
                "\n",
                "Y_test = torch.tensor(Y_test.values)\n",
                "Y_test = torch.nn.functional.one_hot(\n",
                "    Y_test, num_classes=mlp_params.OUT_FEATURES\n",
                ").float()\n",
                "\n",
                "\n",
                "# convert the X dataframes to tensors\n",
                "X_train = torch.tensor(X_train.values)\n",
                "X_test = torch.tensor(X_test.values)\n",
                "\n",
                "X_val = torch.tensor(X_val.values)\n",
                "Y_val = torch.tensor(Y_val.values)\n",
                "Y_val = torch.nn.functional.one_hot(Y_val, num_classes=mlp_params.OUT_FEATURES).float()"
            ]
        },
        {
            "cell_type": "code",
            "execution_count": 19,
            "id": "3c4e1896",
            "metadata": {},
            "outputs": [],
            "source": [
                "# produce data objects for train, val and test datasets\n",
                "train_data = torch.utils.data.TensorDataset(X_train, Y_train)\n",
                "test_data = torch.utils.data.TensorDataset(X_test, Y_test)\n",
                "val_data = torch.utils.data.TensorDataset(X_val, Y_val)"
            ]
        },
        {
            "cell_type": "code",
            "execution_count": 20,
            "id": "4382d712",
            "metadata": {
                "execution": {
                    "iopub.execute_input": "2023-10-18T18:16:16.631025Z",
                    "iopub.status.busy": "2023-10-18T18:16:16.630857Z",
                    "iopub.status.idle": "2023-10-18T18:16:16.634504Z",
                    "shell.execute_reply": "2023-10-18T18:16:16.634156Z"
                },
                "papermill": {
                    "duration": null,
                    "end_time": null,
                    "exception": null,
                    "start_time": null,
                    "status": "completed"
                },
                "tags": []
            },
            "outputs": [
                {
                    "name": "stdout",
                    "output_type": "stream",
                    "text": [
                        "Number of in features:  1367\n",
                        "Number of out features:  3\n",
                        "Multi_Class\n"
                    ]
                }
            ],
            "source": [
                "mlp_params.IN_FEATURES = X_train.shape[1]\n",
                "print(\"Number of in features: \", mlp_params.IN_FEATURES)\n",
                "if mlp_params.MODEL_TYPE == \"Regression\":\n",
                "    mlp_params.OUT_FEATURES = 1\n",
                "else:\n",
                "    mlp_params.OUT_FEATURES = len(df_values[\"labels\"].unique())\n",
                "\n",
                "print(\"Number of out features: \", mlp_params.OUT_FEATURES)\n",
                "\n",
                "if mlp_params.OUT_FEATURES > 2:\n",
                "    mlp_params.MODEL_TYPE = \"Multi_Class\"\n",
                "elif mlp_params.OUT_FEATURES == 2:\n",
                "    mlp_params.OUT_FEATURES = mlp_params.OUT_FEATURES - 1\n",
                "    mlp_params.MODEL_TYPE = \"Binary_Classification\"\n",
                "elif mlp_params.OUT_FEATURES == 1:\n",
                "    mlp_params.MODEL_TYPE = \"Regression\"\n",
                "else:\n",
                "    pass\n",
                "print(mlp_params.MODEL_TYPE)"
            ]
        },
        {
            "cell_type": "code",
            "execution_count": 21,
            "id": "77effa5c",
            "metadata": {
                "execution": {
                    "iopub.execute_input": "2023-10-18T18:16:16.642779Z",
                    "iopub.status.busy": "2023-10-18T18:16:16.642487Z",
                    "iopub.status.idle": "2023-10-18T18:16:16.645220Z",
                    "shell.execute_reply": "2023-10-18T18:16:16.644897Z"
                },
                "papermill": {
                    "duration": null,
                    "end_time": null,
                    "exception": null,
                    "start_time": null,
                    "status": "completed"
                },
                "tags": []
            },
            "outputs": [],
            "source": [
                "# convert data class into a dataloader to be compatible with pytorch\n",
                "train_loader = torch.utils.data.DataLoader(\n",
                "    dataset=train_data, batch_size=mlp_params.HYPERPARAMETER_BATCH_SIZE, shuffle=True\n",
                ")\n",
                "valid_loader = torch.utils.data.DataLoader(\n",
                "    dataset=val_data, batch_size=mlp_params.HYPERPARAMETER_BATCH_SIZE, shuffle=True\n",
                ")"
            ]
        },
        {
            "cell_type": "code",
            "execution_count": 22,
            "id": "f471da39",
            "metadata": {},
            "outputs": [
                {
                    "data": {
                        "text/plain": [
                            "3"
                        ]
                    },
                    "execution_count": 22,
                    "metadata": {},
                    "output_type": "execute_result"
                }
            ],
            "source": [
                "mlp_params.OUT_FEATURES"
            ]
        },
        {
            "cell_type": "code",
            "execution_count": 23,
            "id": "cb7635c8",
            "metadata": {
                "execution": {
                    "iopub.execute_input": "2023-10-18T18:16:16.653709Z",
                    "iopub.status.busy": "2023-10-18T18:16:16.653361Z",
                    "iopub.status.idle": "2023-10-18T18:16:16.655989Z",
                    "shell.execute_reply": "2023-10-18T18:16:16.655583Z"
                },
                "papermill": {
                    "duration": null,
                    "end_time": null,
                    "exception": null,
                    "start_time": null,
                    "status": "completed"
                },
                "tags": []
            },
            "outputs": [
                {
                    "name": "stdout",
                    "output_type": "stream",
                    "text": [
                        "cuda\n"
                    ]
                }
            ],
            "source": [
                "# check device\n",
                "print(mlp_params.DEVICE)"
            ]
        },
        {
            "cell_type": "code",
            "execution_count": 24,
            "id": "a969042f",
            "metadata": {
                "execution": {
                    "iopub.execute_input": "2023-10-18T18:16:16.663986Z",
                    "iopub.status.busy": "2023-10-18T18:16:16.663699Z",
                    "iopub.status.idle": "2023-10-18T18:17:37.283791Z",
                    "shell.execute_reply": "2023-10-18T18:17:37.283496Z"
                },
                "papermill": {
                    "duration": null,
                    "end_time": null,
                    "exception": null,
                    "start_time": null,
                    "status": "completed"
                },
                "tags": []
            },
            "outputs": [
                {
                    "name": "stderr",
                    "output_type": "stream",
                    "text": [
                        "[I 2024-11-24 03:44:49,792] A new study created in memory with name: no-name-91902fd2-6144-4035-95c3-75b5f5a5b7a1\n",
                        "[I 2024-11-24 03:44:50,679] Trial 0 finished with value: 0.494475359916687 and parameters: {'n_layers': 13, 'n_units_l0': 2, 'dropout_0': 0.34201933801090634, 'n_units_l1': 7, 'dropout_1': 0.2050067585408512, 'n_units_l2': 2, 'dropout_2': 0.25696277179458454, 'n_units_l3': 48, 'dropout_3': 0.10373434144195653, 'n_units_l4': 43, 'dropout_4': 0.3820612526822197, 'n_units_l5': 2, 'dropout_5': 0.20044568376756045, 'n_units_l6': 12, 'dropout_6': 0.3444639129760341, 'n_units_l7': 36, 'dropout_7': 0.20839685811607458, 'n_units_l8': 42, 'dropout_8': 0.18832958641244113, 'n_units_l9': 48, 'dropout_9': 0.2979085132430066, 'n_units_l10': 39, 'dropout_10': 0.24911040044451796, 'n_units_l11': 26, 'dropout_11': 0.19563824312322803, 'n_units_l12': 45, 'dropout_12': 0.25384698775224046, 'learning_rate': 0.06945462108107753, 'optimizer': 'Adam'}. Best is trial 0 with value: 0.494475359916687.\n",
                        "[I 2024-11-24 03:44:50,879] Trial 1 finished with value: 0.4441684317588806 and parameters: {'n_layers': 11, 'n_units_l0': 40, 'dropout_0': 0.19376002784126814, 'n_units_l1': 5, 'dropout_1': 0.29463325191558576, 'n_units_l2': 17, 'dropout_2': 0.14191329403826514, 'n_units_l3': 8, 'dropout_3': 0.3214062151863615, 'n_units_l4': 24, 'dropout_4': 0.1487308278064398, 'n_units_l5': 48, 'dropout_5': 0.363056414866587, 'n_units_l6': 23, 'dropout_6': 0.283491118938233, 'n_units_l7': 35, 'dropout_7': 0.3312990631134608, 'n_units_l8': 42, 'dropout_8': 0.1927918097860352, 'n_units_l9': 36, 'dropout_9': 0.14154380142588985, 'n_units_l10': 38, 'dropout_10': 0.2640913338061389, 'learning_rate': 0.025974274690831484, 'optimizer': 'Adam'}. Best is trial 1 with value: 0.4441684317588806.\n",
                        "[I 2024-11-24 03:44:51,077] Trial 2 finished with value: 0.5800852155685425 and parameters: {'n_layers': 12, 'n_units_l0': 32, 'dropout_0': 0.29880172208963485, 'n_units_l1': 50, 'dropout_1': 0.30706303655373357, 'n_units_l2': 9, 'dropout_2': 0.2550205315820123, 'n_units_l3': 20, 'dropout_3': 0.2281502205469463, 'n_units_l4': 21, 'dropout_4': 0.1688286367946586, 'n_units_l5': 8, 'dropout_5': 0.1198961043898204, 'n_units_l6': 42, 'dropout_6': 0.2730066326637609, 'n_units_l7': 8, 'dropout_7': 0.3721243414003592, 'n_units_l8': 47, 'dropout_8': 0.3718070459351486, 'n_units_l9': 18, 'dropout_9': 0.3687117658413598, 'n_units_l10': 43, 'dropout_10': 0.3766831907827939, 'n_units_l11': 45, 'dropout_11': 0.2085439249364494, 'learning_rate': 0.0272844642868834, 'optimizer': 'SGD'}. Best is trial 1 with value: 0.4441684317588806.\n",
                        "[I 2024-11-24 03:44:51,257] Trial 3 finished with value: 377811.0839884883 and parameters: {'n_layers': 10, 'n_units_l0': 48, 'dropout_0': 0.3433252589780892, 'n_units_l1': 27, 'dropout_1': 0.34854148478141317, 'n_units_l2': 46, 'dropout_2': 0.38550248846061796, 'n_units_l3': 36, 'dropout_3': 0.15709352945938934, 'n_units_l4': 32, 'dropout_4': 0.1603810152985926, 'n_units_l5': 25, 'dropout_5': 0.15353789451134447, 'n_units_l6': 23, 'dropout_6': 0.3604616103766023, 'n_units_l7': 17, 'dropout_7': 0.1561053285726269, 'n_units_l8': 30, 'dropout_8': 0.23390462678068386, 'n_units_l9': 8, 'dropout_9': 0.10576805827649043, 'learning_rate': 0.06429955738397579, 'optimizer': 'RMSprop'}. Best is trial 1 with value: 0.4441684317588806.\n",
                        "[I 2024-11-24 03:44:51,373] Trial 4 finished with value: 1.8524742019176483 and parameters: {'n_layers': 4, 'n_units_l0': 16, 'dropout_0': 0.29609126196383284, 'n_units_l1': 20, 'dropout_1': 0.17124118749917866, 'n_units_l2': 46, 'dropout_2': 0.29708465025082126, 'n_units_l3': 34, 'dropout_3': 0.20420896250873363, 'learning_rate': 0.025043033145675197, 'optimizer': 'RMSprop'}. Best is trial 1 with value: 0.4441684317588806.\n",
                        "[I 2024-11-24 03:44:51,469] Trial 5 finished with value: 0.5722329819202423 and parameters: {'n_layers': 1, 'n_units_l0': 12, 'dropout_0': 0.1840802037749138, 'learning_rate': 0.008796897319771069, 'optimizer': 'SGD'}. Best is trial 1 with value: 0.4441684317588806.\n",
                        "[I 2024-11-24 03:44:51,480] Trial 6 pruned. \n",
                        "[I 2024-11-24 03:44:51,650] Trial 7 finished with value: 0.4877912503480911 and parameters: {'n_layers': 9, 'n_units_l0': 32, 'dropout_0': 0.14290656403177185, 'n_units_l1': 30, 'dropout_1': 0.35268618309934563, 'n_units_l2': 34, 'dropout_2': 0.17491333116203805, 'n_units_l3': 4, 'dropout_3': 0.15114393903584245, 'n_units_l4': 3, 'dropout_4': 0.32211792177638826, 'n_units_l5': 8, 'dropout_5': 0.3207739241533046, 'n_units_l6': 15, 'dropout_6': 0.22366290792698368, 'n_units_l7': 41, 'dropout_7': 0.31126937880539507, 'n_units_l8': 40, 'dropout_8': 0.16544810863451484, 'learning_rate': 0.007332060812910782, 'optimizer': 'RMSprop'}. Best is trial 1 with value: 0.4441684317588806.\n",
                        "[I 2024-11-24 03:44:51,840] Trial 8 finished with value: 5.92595230281353 and parameters: {'n_layers': 13, 'n_units_l0': 33, 'dropout_0': 0.22578069416863616, 'n_units_l1': 48, 'dropout_1': 0.241909159244542, 'n_units_l2': 7, 'dropout_2': 0.16661569843111473, 'n_units_l3': 17, 'dropout_3': 0.20420734704423213, 'n_units_l4': 49, 'dropout_4': 0.19535643405883313, 'n_units_l5': 42, 'dropout_5': 0.27776778767774446, 'n_units_l6': 48, 'dropout_6': 0.3526881525474743, 'n_units_l7': 9, 'dropout_7': 0.11390541387849629, 'n_units_l8': 39, 'dropout_8': 0.22511911558414358, 'n_units_l9': 3, 'dropout_9': 0.14323606465450306, 'n_units_l10': 34, 'dropout_10': 0.1976253419989974, 'n_units_l11': 23, 'dropout_11': 0.24848315333878543, 'n_units_l12': 17, 'dropout_12': 0.1735665082793153, 'learning_rate': 0.00974493424179023, 'optimizer': 'RMSprop'}. Best is trial 1 with value: 0.4441684317588806.\n",
                        "[I 2024-11-24 03:44:51,987] Trial 9 finished with value: 0.3686890697479248 and parameters: {'n_layers': 6, 'n_units_l0': 20, 'dropout_0': 0.36414629007293353, 'n_units_l1': 25, 'dropout_1': 0.31302901124557314, 'n_units_l2': 45, 'dropout_2': 0.25477976967136134, 'n_units_l3': 37, 'dropout_3': 0.10827266372713586, 'n_units_l4': 40, 'dropout_4': 0.38504634887987654, 'n_units_l5': 24, 'dropout_5': 0.28015091436615025, 'learning_rate': 0.0325072673797793, 'optimizer': 'Adam'}. Best is trial 9 with value: 0.3686890697479248.\n",
                        "[I 2024-11-24 03:44:52,023] Trial 10 pruned. \n",
                        "[I 2024-11-24 03:44:52,193] Trial 11 finished with value: 0.46039883434772494 and parameters: {'n_layers': 6, 'n_units_l0': 50, 'dropout_0': 0.22645248879371607, 'n_units_l1': 2, 'dropout_1': 0.3863616690744812, 'n_units_l2': 19, 'dropout_2': 0.10832817518642396, 'n_units_l3': 3, 'dropout_3': 0.32782239729728846, 'n_units_l4': 14, 'dropout_4': 0.10098217285694946, 'n_units_l5': 49, 'dropout_5': 0.3541746268541557, 'learning_rate': 0.03685661697661122, 'optimizer': 'Adam'}. Best is trial 9 with value: 0.3686890697479248.\n",
                        "[I 2024-11-24 03:44:52,387] Trial 12 finished with value: 0.4669283223152161 and parameters: {'n_layers': 7, 'n_units_l0': 40, 'dropout_0': 0.18305032781909844, 'n_units_l1': 13, 'dropout_1': 0.3001454484349495, 'n_units_l2': 18, 'dropout_2': 0.10375455490202762, 'n_units_l3': 36, 'dropout_3': 0.32416432022764446, 'n_units_l4': 33, 'dropout_4': 0.39906345728550363, 'n_units_l5': 19, 'dropout_5': 0.25146522907875957, 'n_units_l6': 31, 'dropout_6': 0.10013830324570447, 'learning_rate': 0.05885460650639464, 'optimizer': 'Adam'}. Best is trial 9 with value: 0.3686890697479248.\n",
                        "[I 2024-11-24 03:44:52,423] Trial 13 pruned. \n",
                        "[I 2024-11-24 03:44:52,719] Trial 14 finished with value: 0.49296462833881377 and parameters: {'n_layers': 15, 'n_units_l0': 24, 'dropout_0': 0.39416599581210837, 'n_units_l1': 20, 'dropout_1': 0.23054389193899527, 'n_units_l2': 34, 'dropout_2': 0.3107021055635746, 'n_units_l3': 28, 'dropout_3': 0.275735631044724, 'n_units_l4': 17, 'dropout_4': 0.10167882245794432, 'n_units_l5': 35, 'dropout_5': 0.3086580841911346, 'n_units_l6': 3, 'dropout_6': 0.1536893402178124, 'n_units_l7': 49, 'dropout_7': 0.3962998363307312, 'n_units_l8': 13, 'dropout_8': 0.10246783184530533, 'n_units_l9': 39, 'dropout_9': 0.2024300787216224, 'n_units_l10': 4, 'dropout_10': 0.35901837835089156, 'n_units_l11': 50, 'dropout_11': 0.3924078301185923, 'n_units_l12': 3, 'dropout_12': 0.39986980133656524, 'n_units_l13': 11, 'dropout_13': 0.3715339264165412, 'n_units_l14': 41, 'dropout_14': 0.11759231359566039, 'learning_rate': 0.041888310514083454, 'optimizer': 'Adam'}. Best is trial 9 with value: 0.3686890697479248.\n",
                        "[I 2024-11-24 03:44:52,774] Trial 15 pruned. \n",
                        "[I 2024-11-24 03:44:52,796] Trial 16 pruned. \n",
                        "[I 2024-11-24 03:44:52,846] Trial 17 pruned. \n",
                        "[I 2024-11-24 03:44:52,888] Trial 18 pruned. \n",
                        "[I 2024-11-24 03:44:52,963] Trial 19 pruned. \n",
                        "[I 2024-11-24 03:44:52,976] Trial 20 pruned. \n",
                        "[I 2024-11-24 03:44:53,014] Trial 21 pruned. \n",
                        "[I 2024-11-24 03:44:53,048] Trial 22 pruned. \n",
                        "[I 2024-11-24 03:44:53,234] Trial 23 finished with value: 0.406881667971611 and parameters: {'n_layers': 7, 'n_units_l0': 45, 'dropout_0': 0.15958228456751505, 'n_units_l1': 2, 'dropout_1': 0.32614023064943465, 'n_units_l2': 14, 'dropout_2': 0.17903631939552173, 'n_units_l3': 7, 'dropout_3': 0.3043787551999889, 'n_units_l4': 12, 'dropout_4': 0.14250902655163522, 'n_units_l5': 44, 'dropout_5': 0.3486242772583398, 'n_units_l6': 29, 'dropout_6': 0.18966179931911617, 'learning_rate': 0.052657643755232325, 'optimizer': 'Adam'}. Best is trial 9 with value: 0.3686890697479248.\n",
                        "[I 2024-11-24 03:44:53,387] Trial 24 pruned. \n",
                        "[I 2024-11-24 03:44:53,616] Trial 25 finished with value: 0.4110306125879288 and parameters: {'n_layers': 11, 'n_units_l0': 37, 'dropout_0': 0.15160001949543428, 'n_units_l1': 7, 'dropout_1': 0.26781592518090047, 'n_units_l2': 14, 'dropout_2': 0.18083036232235075, 'n_units_l3': 31, 'dropout_3': 0.24389995985936158, 'n_units_l4': 35, 'dropout_4': 0.21163661089770963, 'n_units_l5': 29, 'dropout_5': 0.36879159389750915, 'n_units_l6': 17, 'dropout_6': 0.13963136205523122, 'n_units_l7': 19, 'dropout_7': 0.2535287973289013, 'n_units_l8': 19, 'dropout_8': 0.16069227732930041, 'n_units_l9': 16, 'dropout_9': 0.27783793884526053, 'n_units_l10': 47, 'dropout_10': 0.28203735057535023, 'learning_rate': 0.07404343241748554, 'optimizer': 'Adam'}. Best is trial 9 with value: 0.3686890697479248.\n",
                        "[I 2024-11-24 03:44:53,665] Trial 26 pruned. \n",
                        "[I 2024-11-24 03:44:53,688] Trial 27 pruned. \n",
                        "[I 2024-11-24 03:44:53,741] Trial 28 pruned. \n",
                        "[I 2024-11-24 03:44:53,972] Trial 29 pruned. \n",
                        "[I 2024-11-24 03:44:54,016] Trial 30 pruned. \n",
                        "[I 2024-11-24 03:44:54,156] Trial 31 pruned. \n",
                        "[I 2024-11-24 03:44:54,333] Trial 32 pruned. \n",
                        "[I 2024-11-24 03:44:54,578] Trial 33 finished with value: 0.7847815024852752 and parameters: {'n_layers': 11, 'n_units_l0': 29, 'dropout_0': 0.15958108427282736, 'n_units_l1': 2, 'dropout_1': 0.2740530953549727, 'n_units_l2': 9, 'dropout_2': 0.2425362487831571, 'n_units_l3': 38, 'dropout_3': 0.2588278247782442, 'n_units_l4': 44, 'dropout_4': 0.1770726802728406, 'n_units_l5': 46, 'dropout_5': 0.37602143019868284, 'n_units_l6': 7, 'dropout_6': 0.13464611642126895, 'n_units_l7': 33, 'dropout_7': 0.3502502735923434, 'n_units_l8': 20, 'dropout_8': 0.21156683670739274, 'n_units_l9': 12, 'dropout_9': 0.32783123306035145, 'n_units_l10': 49, 'dropout_10': 0.3179363864789147, 'learning_rate': 0.05506635069976705, 'optimizer': 'Adam'}. Best is trial 9 with value: 0.3686890697479248.\n",
                        "[I 2024-11-24 03:44:54,739] Trial 34 pruned. \n",
                        "[I 2024-11-24 03:44:54,810] Trial 35 pruned. \n",
                        "[I 2024-11-24 03:44:54,890] Trial 36 pruned. \n",
                        "[I 2024-11-24 03:44:54,926] Trial 37 pruned. \n",
                        "[I 2024-11-24 03:44:54,977] Trial 38 pruned. \n",
                        "[I 2024-11-24 03:44:55,035] Trial 39 pruned. \n",
                        "[I 2024-11-24 03:44:55,109] Trial 40 pruned. \n",
                        "[I 2024-11-24 03:44:55,145] Trial 41 pruned. \n",
                        "[I 2024-11-24 03:44:55,186] Trial 42 pruned. \n",
                        "[I 2024-11-24 03:44:55,233] Trial 43 pruned. \n",
                        "[I 2024-11-24 03:44:55,263] Trial 44 pruned. \n",
                        "[I 2024-11-24 03:44:55,305] Trial 45 pruned. \n",
                        "[I 2024-11-24 03:44:55,384] Trial 46 pruned. \n",
                        "[I 2024-11-24 03:44:55,456] Trial 47 pruned. \n",
                        "[I 2024-11-24 03:44:55,508] Trial 48 pruned. \n",
                        "[I 2024-11-24 03:44:55,535] Trial 49 pruned. \n"
                    ]
                },
                {
                    "name": "stdout",
                    "output_type": "stream",
                    "text": [
                        "Validation Accuracy: 1.1666666666666667\n",
                        "Validation Loss: 0.6266665345430374\n",
                        "Training Accuracy: 0.06451612903225806\n",
                        "Training Loss: 0.28164561539888383\n"
                    ]
                },
                {
                    "data": {
                        "text/plain": [
                            "(1.1666666666666667,\n",
                            " 0.6266665345430374,\n",
                            " 0.06451612903225806,\n",
                            " 0.28164561539888383)"
                        ]
                    },
                    "execution_count": 24,
                    "metadata": {},
                    "output_type": "execute_result"
                }
            ],
            "source": [
                "# no accuracy function must be loss for regression\n",
                "if mlp_params.MODEL_TYPE == \"Regression\":\n",
                "    mlp_params.METRIC = \"loss\"\n",
                "    pass\n",
                "\n",
                "\n",
                "# wrap the objective function inside of a lambda function to pass args...\n",
                "objective_lambda_func = lambda trial: objective_model_optimizer(\n",
                "    train_loader,\n",
                "    valid_loader,\n",
                "    trial=trial,\n",
                "    params=params,\n",
                "    metric=mlp_params.METRIC,\n",
                "    return_info=False,\n",
                "    class_weights=class_weights,\n",
                ")\n",
                "\n",
                "\n",
                "# Study is the object for model optimization\n",
                "study = optuna.create_study(direction=f\"{mlp_params.DIRECTION}\")\n",
                "# Here I apply the optimize function of the study to the objective function\n",
                "# This optimizes each parameter specified to be optimized from the defined search space\n",
                "study.optimize(objective_lambda_func, n_trials=mlp_params.N_TRIALS)\n",
                "# Prints out the best trial's optimized parameters\n",
                "objective_model_optimizer(\n",
                "    train_loader,\n",
                "    valid_loader,\n",
                "    trial=study.best_trial,\n",
                "    params=params,\n",
                "    metric=mlp_params.METRIC,\n",
                "    return_info=True,\n",
                "    class_weights=class_weights,\n",
                ")"
            ]
        },
        {
            "cell_type": "code",
            "execution_count": 25,
            "id": "b2620589",
            "metadata": {
                "execution": {
                    "iopub.execute_input": "2023-10-18T18:17:37.298015Z",
                    "iopub.status.busy": "2023-10-18T18:17:37.297873Z",
                    "iopub.status.idle": "2023-10-18T18:17:37.750921Z",
                    "shell.execute_reply": "2023-10-18T18:17:37.750533Z"
                },
                "papermill": {
                    "duration": null,
                    "end_time": null,
                    "exception": null,
                    "start_time": null,
                    "status": "completed"
                },
                "tags": []
            },
            "outputs": [],
            "source": [
                "# create graph directory for this model\n",
                "graph_path = pathlib.Path(\n",
                "    f\"../../figures/{mlp_params.MODEL_TYPE}/{mlp_params.MODEL_NAME}/{mlp_params.CELL_TYPE}_{channel_combination_key}/hyperparameter_optimization\"\n",
                ")\n",
                "\n",
                "pathlib.Path(graph_path).mkdir(parents=True, exist_ok=True)\n",
                "fig = optuna.visualization.plot_optimization_history(study)\n",
                "\n",
                "\n",
                "graph_path = f\"{graph_path}/plot_optimization_history_graph\"\n",
                "\n",
                "fig.write_image(pathlib.Path(f\"{graph_path}.png\"))"
            ]
        },
        {
            "cell_type": "code",
            "execution_count": 26,
            "id": "92103de1",
            "metadata": {
                "execution": {
                    "iopub.execute_input": "2023-10-18T18:17:37.839841Z",
                    "iopub.status.busy": "2023-10-18T18:17:37.839637Z",
                    "iopub.status.idle": "2023-10-18T18:17:37.910906Z",
                    "shell.execute_reply": "2023-10-18T18:17:37.910591Z"
                },
                "papermill": {
                    "duration": null,
                    "end_time": null,
                    "exception": null,
                    "start_time": null,
                    "status": "completed"
                },
                "tags": []
            },
            "outputs": [],
            "source": [
                "# create graph directory for this model\n",
                "graph_path = pathlib.Path(\n",
                "    f\"../../figures/{mlp_params.MODEL_TYPE}/{mlp_params.MODEL_NAME}/{mlp_params.CELL_TYPE}_{channel_combination_key}/hyperparameter_optimization\"\n",
                ").resolve(strict=True)\n",
                "\n",
                "pathlib.Path(graph_path).mkdir(parents=True, exist_ok=True)\n",
                "fig = optuna.visualization.plot_intermediate_values(study)\n",
                "\n",
                "graph_path = f\"{graph_path}/plot_intermediate_values_graph\"\n",
                "\n",
                "fig.write_image(pathlib.Path(f\"{graph_path}.png\"))"
            ]
        },
        {
            "cell_type": "code",
            "execution_count": 27,
            "id": "325a1ec3",
            "metadata": {
                "execution": {
                    "iopub.execute_input": "2023-10-18T18:17:37.971533Z",
                    "iopub.status.busy": "2023-10-18T18:17:37.971249Z",
                    "iopub.status.idle": "2023-10-18T18:17:37.974028Z",
                    "shell.execute_reply": "2023-10-18T18:17:37.973638Z"
                },
                "papermill": {
                    "duration": null,
                    "end_time": null,
                    "exception": null,
                    "start_time": null,
                    "status": "completed"
                },
                "tags": []
            },
            "outputs": [],
            "source": [
                "param_dict = extract_best_trial_params(\n",
                "    study.best_params, params, model_name=mlp_params.MODEL_NAME\n",
                ")"
            ]
        }
    ],
    "metadata": {
        "jupytext": {
            "cell_metadata_filter": "-all",
            "encoding": "# coding: utf-8",
            "executable": "/usr/bin/env python",
            "formats": "ipynb,py",
            "main_language": "python"
        },
        "kernelspec": {
            "display_name": "Interstellar_python",
            "language": "python",
            "name": "python3"
        },
        "language_info": {
            "codemirror_mode": {
                "name": "ipython",
                "version": 3
            },
            "file_extension": ".py",
            "mimetype": "text/x-python",
            "name": "python",
            "nbconvert_exporter": "python",
            "pygments_lexer": "ipython3",
            "version": "3.10.15"
        },
        "papermill": {
            "default_parameters": {},
            "duration": 59.524284,
            "end_time": "2023-10-18T18:21:03.252265",
            "environment_variables": {},
            "exception": null,
            "input_path": "Hyperparameter_Optimization_model_binary.ipynb",
            "output_path": "Hyperparameter_Optimization_model_binary.ipynb",
            "parameters": {
                "CELL_TYPE": "PBMC",
                "CONTROL_NAME": "DMSO_0.100_%_DMSO_0.025_%",
                "MODEL_NAME": "DMSO_0.025_vs_Thapsigargin_10",
                "TREATMENT_NAME": "Thapsigargin_10.000_uM_DMSO_0.025_%"
            },
            "start_time": "2023-10-18T18:20:03.727981",
            "version": "2.4.0"
        }
    },
    "nbformat": 4,
    "nbformat_minor": 5
}
