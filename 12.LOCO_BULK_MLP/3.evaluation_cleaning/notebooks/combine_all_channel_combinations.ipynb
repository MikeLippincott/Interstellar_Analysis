{
    "cells": [
        {
            "cell_type": "markdown",
            "metadata": {},
            "source": [
                "This notebook combines all of the testing and training data for every channel combination from the MLP."
            ]
        },
        {
            "cell_type": "code",
            "execution_count": 1,
            "metadata": {},
            "outputs": [],
            "source": [
                "import pathlib\n",
                "\n",
                "import numpy as np\n",
                "import pandas as pd"
            ]
        },
        {
            "cell_type": "code",
            "execution_count": 2,
            "metadata": {},
            "outputs": [],
            "source": [
                "cell_type = \"PBMC\""
            ]
        },
        {
            "cell_type": "code",
            "execution_count": 3,
            "metadata": {},
            "outputs": [],
            "source": [
                "# set the input paths\n",
                "input_data_dir = pathlib.Path(\"../../results/Multi_Class\").resolve(strict=True)\n",
                "output_data_dir = pathlib.Path(\n",
                "    f\"../../results/Multi_Class/combined_channel_combinations/{cell_type}\"\n",
                ").resolve()\n",
                "# make output directory if it doesn't exist\n",
                "output_data_dir.mkdir(parents=True, exist_ok=True)"
            ]
        },
        {
            "cell_type": "code",
            "execution_count": 4,
            "metadata": {},
            "outputs": [],
            "source": [
                "# get the list of dirs in the input dir\n",
                "input_dirs = [x for x in input_data_dir.iterdir() if x.is_dir()]\n",
                "input_dirs = [pathlib.Path(x / cell_type) for x in input_dirs]\n",
                "# remove the output data from the input dirs\n",
                "input_dirs = [x for x in input_dirs if x != output_data_dir]"
            ]
        },
        {
            "cell_type": "code",
            "execution_count": 5,
            "metadata": {},
            "outputs": [],
            "source": [
                "dict_of_result_dfs = {\n",
                "    \"confusion_matrices\": [],\n",
                "    \"PR_curves\": [],\n",
                "    \"probabilities\": [],\n",
                "    \"single_cell_predictions\": [],\n",
                "    \"testing_single_cell_predictions\": [],\n",
                "    \"training_metrics\": [],\n",
                "    \"training_single_cell_predictions\": [],\n",
                "    \"validation_single_cell_predictions\": [],\n",
                "}\n",
                "\n",
                "for channel_combination_path in input_dirs:\n",
                "    channel_combination_name = (\n",
                "        str(channel_combination_path).split(\"/\")[-2].strip(\"MLP_\")\n",
                "    )\n",
                "    for result_type in dict_of_result_dfs.keys():\n",
                "        result_df = pd.read_parquet(\n",
                "            pathlib.Path(channel_combination_path / f\"{result_type}.parquet\")\n",
                "        )\n",
                "        result_df[\"channel_combination\"] = channel_combination_name\n",
                "        dict_of_result_dfs[result_type].append(result_df)"
            ]
        },
        {
            "cell_type": "code",
            "execution_count": 6,
            "metadata": {},
            "outputs": [],
            "source": [
                "for result_type, result_dfs in dict_of_result_dfs.items():\n",
                "    combined_df = pd.concat(result_dfs)\n",
                "    combined_df.to_parquet(output_data_dir / f\"{result_type}.parquet\")"
            ]
        }
    ],
    "metadata": {
        "kernelspec": {
            "display_name": "Interstellar_python",
            "language": "python",
            "name": "python3"
        },
        "language_info": {
            "codemirror_mode": {
                "name": "ipython",
                "version": 3
            },
            "file_extension": ".py",
            "mimetype": "text/x-python",
            "name": "python",
            "nbconvert_exporter": "python",
            "pygments_lexer": "ipython3",
            "version": "3.10.15"
        }
    },
    "nbformat": 4,
    "nbformat_minor": 2
}
