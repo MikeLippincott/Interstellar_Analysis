{
 "cells": [
  {
   "cell_type": "code",
   "execution_count": 1,
   "id": "2a0c7e4f",
   "metadata": {
    "execution": {
     "iopub.execute_input": "2023-07-21T15:34:32.915041Z",
     "iopub.status.busy": "2023-07-21T15:34:32.914666Z",
     "iopub.status.idle": "2023-07-21T15:34:33.622706Z",
     "shell.execute_reply": "2023-07-21T15:34:33.622071Z"
    },
    "papermill": {
     "duration": 0.717893,
     "end_time": "2023-07-21T15:34:33.625616",
     "exception": false,
     "start_time": "2023-07-21T15:34:32.907723",
     "status": "completed"
    },
    "tags": []
   },
   "outputs": [],
   "source": [
    "import pyarrow.parquet as pq\n",
    "import pandas as pd\n",
    "import numpy as np\n",
    "import pathlib\n",
    "import warnings\n",
    "\n",
    "from sklearn.utils import shuffle, parallel_backend\n",
    "from sklearn.exceptions import ConvergenceWarning\n",
    "from joblib import dump\n",
    "\n",
    "from sklearn.model_selection import train_test_split\n",
    "from sklearn.linear_model import LogisticRegression\n",
    "from sklearn.model_selection import (\n",
    "    StratifiedKFold,\n",
    "    GridSearchCV,\n",
    ")\n",
    "import itertools\n",
    "import sys\n",
    "import ast\n",
    "import toml"
   ]
  },
  {
   "cell_type": "code",
   "execution_count": 2,
   "id": "3241fed3",
   "metadata": {
    "execution": {
     "iopub.execute_input": "2023-07-21T15:34:33.638602Z",
     "iopub.status.busy": "2023-07-21T15:34:33.638018Z",
     "iopub.status.idle": "2023-07-21T15:34:33.643115Z",
     "shell.execute_reply": "2023-07-21T15:34:33.642366Z"
    },
    "papermill": {
     "duration": 0.014171,
     "end_time": "2023-07-21T15:34:33.645380",
     "exception": false,
     "start_time": "2023-07-21T15:34:33.631209",
     "status": "completed"
    },
    "tags": [
     "injected-parameters"
    ]
   },
   "outputs": [],
   "source": [
    "# Parameters\n",
    "cell_type = \"SHSY5Y\"\n",
    "aggregation = False\n",
    "nomic = False\n",
    "flag = True\n",
    "control = \"DMSO_0.100_DMSO_0.025\"\n",
    "treatment = \"Thapsigargin_1.000_DMSO_0.025\""
   ]
  },
  {
   "cell_type": "code",
   "execution_count": 3,
   "id": "a7f8e90c",
   "metadata": {
    "execution": {
     "iopub.execute_input": "2023-07-21T15:34:33.658554Z",
     "iopub.status.busy": "2023-07-21T15:34:33.658253Z",
     "iopub.status.idle": "2023-07-21T15:34:33.662344Z",
     "shell.execute_reply": "2023-07-21T15:34:33.661796Z"
    },
    "papermill": {
     "duration": 0.014542,
     "end_time": "2023-07-21T15:34:33.665994",
     "exception": false,
     "start_time": "2023-07-21T15:34:33.651452",
     "status": "completed"
    },
    "tags": []
   },
   "outputs": [
    {
     "name": "stdout",
     "output_type": "stream",
     "text": [
      "SHSY5Y False False True DMSO_0.100_DMSO_0.025 Thapsigargin_1.000_DMSO_0.025\n"
     ]
    }
   ],
   "source": [
    "print(cell_type, aggregation, nomic, flag, control, treatment)"
   ]
  },
  {
   "cell_type": "code",
   "execution_count": 4,
   "id": "dc112da1",
   "metadata": {
    "execution": {
     "iopub.execute_input": "2023-07-21T15:34:33.678199Z",
     "iopub.status.busy": "2023-07-21T15:34:33.677756Z",
     "iopub.status.idle": "2023-07-21T15:34:33.683817Z",
     "shell.execute_reply": "2023-07-21T15:34:33.682878Z"
    },
    "papermill": {
     "duration": 0.014484,
     "end_time": "2023-07-21T15:34:33.685879",
     "exception": false,
     "start_time": "2023-07-21T15:34:33.671395",
     "status": "completed"
    },
    "tags": []
   },
   "outputs": [],
   "source": [
    "if flag == False:\n",
    "    # read in toml file and get parameters\n",
    "    toml_path = pathlib.Path(\"../1.train_models/single_class_config.toml\")\n",
    "    with open(toml_path, \"r\") as f:\n",
    "        config = toml.load(f)\n",
    "    f.close()\n",
    "    control = config[\"logistic_regression_params\"][\"control\"]\n",
    "    treatment = config[\"logistic_regression_params\"][\"treatments\"]\n",
    "    aggregation = ast.literal_eval(config[\"logistic_regression_params\"][\"aggregation\"])\n",
    "    nomic = ast.literal_eval(config[\"logistic_regression_params\"][\"nomic\"])\n",
    "    cell_type = config[\"logistic_regression_params\"][\"cell_type\"]\n",
    "    print(aggregation, nomic, cell_type)"
   ]
  },
  {
   "cell_type": "code",
   "execution_count": 5,
   "id": "ae396783",
   "metadata": {
    "execution": {
     "iopub.execute_input": "2023-07-21T15:34:33.699213Z",
     "iopub.status.busy": "2023-07-21T15:34:33.698710Z",
     "iopub.status.idle": "2023-07-21T15:34:36.047946Z",
     "shell.execute_reply": "2023-07-21T15:34:36.046755Z"
    },
    "papermill": {
     "duration": 2.357925,
     "end_time": "2023-07-21T15:34:36.049650",
     "exception": false,
     "start_time": "2023-07-21T15:34:33.691725",
     "status": "completed"
    },
    "tags": []
   },
   "outputs": [],
   "source": [
    "path = pathlib.Path(f\"../../data/{cell_type}_preprocessed_sc_norm.parquet\")\n",
    "\n",
    "data_df = pq.read_table(path).to_pandas()"
   ]
  },
  {
   "cell_type": "code",
   "execution_count": 6,
   "id": "e0705edc",
   "metadata": {
    "execution": {
     "iopub.execute_input": "2023-07-21T15:34:36.058521Z",
     "iopub.status.busy": "2023-07-21T15:34:36.057820Z",
     "iopub.status.idle": "2023-07-21T15:34:36.063940Z",
     "shell.execute_reply": "2023-07-21T15:34:36.063267Z"
    },
    "papermill": {
     "duration": 0.012407,
     "end_time": "2023-07-21T15:34:36.065177",
     "exception": false,
     "start_time": "2023-07-21T15:34:36.052770",
     "status": "completed"
    },
    "tags": []
   },
   "outputs": [],
   "source": [
    "if nomic == True:\n",
    "    nomic_df_path = pathlib.Path(\n",
    "        f\"../../2.Nomic_nELISA_Analysis/Data/clean/Plate2/nELISA_plate_430420_{cell_type}.csv\"\n",
    "    )\n",
    "    df_nomic = pd.read_csv(nomic_df_path)\n",
    "    # drop columns that contain [pgML]\n",
    "    df_nomic = df_nomic.drop(\n",
    "        columns=[col for col in df_nomic.columns if \"[pgML]\" in col]\n",
    "    )\n",
    "    # drop first 25 columns\n",
    "    df_nomic = df_nomic.drop(columns=df_nomic.columns[3:25])\n",
    "    df_nomic = df_nomic.drop(columns=df_nomic.columns[0:2])\n",
    "else:\n",
    "    df_nomic = None"
   ]
  },
  {
   "cell_type": "code",
   "execution_count": 7,
   "id": "3c7f01ba",
   "metadata": {
    "execution": {
     "iopub.execute_input": "2023-07-21T15:34:36.072862Z",
     "iopub.status.busy": "2023-07-21T15:34:36.072441Z",
     "iopub.status.idle": "2023-07-21T15:34:38.728470Z",
     "shell.execute_reply": "2023-07-21T15:34:38.727938Z"
    },
    "papermill": {
     "duration": 2.662591,
     "end_time": "2023-07-21T15:34:38.730750",
     "exception": false,
     "start_time": "2023-07-21T15:34:36.068159",
     "status": "completed"
    },
    "tags": []
   },
   "outputs": [],
   "source": [
    "# subset each column that contains metadata\n",
    "metadata = data_df.filter(regex=\"Metadata\")\n",
    "\n",
    "# get all columns that are not metadata except for metadata_Well\n",
    "data = data_df.drop(metadata.columns, axis=1)\n",
    "\n",
    "# get the metadata_Well column\n",
    "metadata_well = metadata[\"Metadata_Well\"]\n",
    "\n",
    "data = pd.merge(data, metadata_well, left_index=True, right_index=True)"
   ]
  },
  {
   "cell_type": "code",
   "execution_count": 8,
   "id": "247dccb4",
   "metadata": {
    "execution": {
     "iopub.execute_input": "2023-07-21T15:34:38.743250Z",
     "iopub.status.busy": "2023-07-21T15:34:38.742943Z",
     "iopub.status.idle": "2023-07-21T15:34:38.749509Z",
     "shell.execute_reply": "2023-07-21T15:34:38.748954Z"
    },
    "papermill": {
     "duration": 0.015422,
     "end_time": "2023-07-21T15:34:38.751772",
     "exception": false,
     "start_time": "2023-07-21T15:34:38.736350",
     "status": "completed"
    },
    "tags": []
   },
   "outputs": [],
   "source": [
    "if (aggregation == True) and (nomic == True):\n",
    "\n",
    "    # subset each column that contains metadata\n",
    "    metadata = data_df.filter(regex=\"Metadata\")\n",
    "    data_df = data_df.drop(metadata.columns, axis=1)\n",
    "    data_df = pd.concat([data_df, metadata[\"Metadata_Well\"]], axis=1)\n",
    "    # groupby well and take mean of each well\n",
    "    data_df = data_df.groupby(\"Metadata_Well\").mean()\n",
    "    # drop duplicate rows in the metadata_well column\n",
    "    metadata = metadata.drop_duplicates(subset=[\"Metadata_Well\"])\n",
    "    # get the metadata for each well\n",
    "    data_df = pd.merge(\n",
    "        data_df, metadata, left_on=\"Metadata_Well\", right_on=\"Metadata_Well\"\n",
    "    )\n",
    "    data_df = pd.merge(\n",
    "        data_df, df_nomic, left_on=\"Metadata_Well\", right_on=\"position_x\"\n",
    "    )\n",
    "    data_df = data_df.drop(columns=[\"position_x\"])\n",
    "\n",
    "elif (aggregation == True) and (nomic == False):\n",
    "    # subset each column that contains metadata\n",
    "    metadata = data_df.filter(regex=\"Metadata\")\n",
    "    data_df = data_df.drop(metadata.columns, axis=1)\n",
    "    data_df = pd.concat([data_df, metadata[\"Metadata_Well\"]], axis=1)\n",
    "    # groupby well and take mean of each well\n",
    "    data_df = data_df.groupby(\"Metadata_Well\").mean()\n",
    "    # drop duplicate rows in the metadata_well column\n",
    "    metadata = metadata.drop_duplicates(subset=[\"Metadata_Well\"])\n",
    "    # get the metadata for each well\n",
    "    data_df = pd.merge(\n",
    "        data_df, metadata, left_on=\"Metadata_Well\", right_on=\"Metadata_Well\"\n",
    "    )\n",
    "elif (aggregation == False) and (nomic == True):\n",
    "    data_df = pd.merge(\n",
    "        data_df, df_nomic, left_on=\"Metadata_Well\", right_on=\"position_x\"\n",
    "    )\n",
    "    data_df = data_df.drop(columns=[\"position_x\"])\n",
    "elif aggregation == False and nomic == False:\n",
    "    pass\n",
    "else:\n",
    "    print(\"Error\")"
   ]
  },
  {
   "cell_type": "code",
   "execution_count": 9,
   "id": "4f41f7f3",
   "metadata": {
    "execution": {
     "iopub.execute_input": "2023-07-21T15:34:38.764767Z",
     "iopub.status.busy": "2023-07-21T15:34:38.764318Z",
     "iopub.status.idle": "2023-07-21T15:34:40.087665Z",
     "shell.execute_reply": "2023-07-21T15:34:40.086725Z"
    },
    "papermill": {
     "duration": 1.331811,
     "end_time": "2023-07-21T15:34:40.089234",
     "exception": false,
     "start_time": "2023-07-21T15:34:38.757423",
     "status": "completed"
    },
    "tags": []
   },
   "outputs": [],
   "source": [
    "# drop all metadata columns\n",
    "data_x = data_df.drop(metadata.columns, axis=1)\n",
    "labeled_data = data_df[\"oneb_Metadata_Treatment_Dose_Inhibitor_Dose\"]"
   ]
  },
  {
   "cell_type": "code",
   "execution_count": 10,
   "id": "8d2cc57e",
   "metadata": {
    "execution": {
     "iopub.execute_input": "2023-07-21T15:34:40.097844Z",
     "iopub.status.busy": "2023-07-21T15:34:40.097097Z",
     "iopub.status.idle": "2023-07-21T15:34:40.101244Z",
     "shell.execute_reply": "2023-07-21T15:34:40.100442Z"
    },
    "papermill": {
     "duration": 0.010137,
     "end_time": "2023-07-21T15:34:40.102689",
     "exception": false,
     "start_time": "2023-07-21T15:34:40.092552",
     "status": "completed"
    },
    "tags": []
   },
   "outputs": [],
   "source": [
    "# https://github.com/WayScience/phenotypic_profiling_model/blob/main/1.split_data/split_data.ipynb"
   ]
  },
  {
   "cell_type": "code",
   "execution_count": 11,
   "id": "d59ece5b",
   "metadata": {
    "execution": {
     "iopub.execute_input": "2023-07-21T15:34:40.112479Z",
     "iopub.status.busy": "2023-07-21T15:34:40.112084Z",
     "iopub.status.idle": "2023-07-21T15:34:40.271793Z",
     "shell.execute_reply": "2023-07-21T15:34:40.271103Z"
    },
    "papermill": {
     "duration": 0.16631,
     "end_time": "2023-07-21T15:34:40.273693",
     "exception": false,
     "start_time": "2023-07-21T15:34:40.107383",
     "status": "completed"
    },
    "tags": []
   },
   "outputs": [],
   "source": [
    "# get oneb_Metadata_Treatment_Dose_Inhibitor_Dose  =='DMSO_0.100_DMSO_0.025' and 'LPS_100.000_DMSO_0.025 and Thapsigargin_10.000_DMSO_0.025'\n",
    "data_df = data_df[\n",
    "    data_df[\"oneb_Metadata_Treatment_Dose_Inhibitor_Dose\"].isin([control, treatment])\n",
    "]"
   ]
  },
  {
   "cell_type": "code",
   "execution_count": 12,
   "id": "6c9b8fda",
   "metadata": {
    "execution": {
     "iopub.execute_input": "2023-07-21T15:34:40.285638Z",
     "iopub.status.busy": "2023-07-21T15:34:40.285342Z",
     "iopub.status.idle": "2023-07-21T15:34:40.840337Z",
     "shell.execute_reply": "2023-07-21T15:34:40.839742Z"
    },
    "papermill": {
     "duration": 0.564663,
     "end_time": "2023-07-21T15:34:40.843713",
     "exception": false,
     "start_time": "2023-07-21T15:34:40.279050",
     "status": "completed"
    },
    "tags": []
   },
   "outputs": [
    {
     "name": "stdout",
     "output_type": "stream",
     "text": [
      "Training data has shape: (37056, 1276)\n",
      "Testing data has shape: (12353, 1276)\n"
     ]
    }
   ],
   "source": [
    "# ratio of data to be used for testing (ex 0.15 = 15%)\n",
    "test_ratio = 0.25\n",
    "\n",
    "# get indexes of training and testing data\n",
    "training_data, testing_data = train_test_split(\n",
    "    data_df,\n",
    "    test_size=test_ratio,\n",
    "    stratify=data_df[[\"oneb_Metadata_Treatment_Dose_Inhibitor_Dose\"]],\n",
    "    random_state=1,\n",
    ")\n",
    "train_indexes = training_data.index.to_numpy()\n",
    "test_indexes = testing_data.index.to_numpy()\n",
    "\n",
    "print(f\"Training data has shape: {training_data.shape}\")\n",
    "print(f\"Testing data has shape: {testing_data.shape}\")"
   ]
  },
  {
   "cell_type": "code",
   "execution_count": 13,
   "id": "8656f69b",
   "metadata": {
    "execution": {
     "iopub.execute_input": "2023-07-21T15:34:40.863585Z",
     "iopub.status.busy": "2023-07-21T15:34:40.863306Z",
     "iopub.status.idle": "2023-07-21T15:34:41.039286Z",
     "shell.execute_reply": "2023-07-21T15:34:41.038643Z"
    },
    "papermill": {
     "duration": 0.187568,
     "end_time": "2023-07-21T15:34:41.040756",
     "exception": false,
     "start_time": "2023-07-21T15:34:40.853188",
     "status": "completed"
    },
    "tags": []
   },
   "outputs": [],
   "source": [
    "# create pandas dataframe with all indexes and their respective labels, stratified by phenotypic class\n",
    "index_data = []\n",
    "for index in train_indexes:\n",
    "    index_data.append({\"labeled_data_index\": index, \"label\": \"train\"})\n",
    "for index in test_indexes:\n",
    "    index_data.append({\"labeled_data_index\": index, \"label\": \"test\"})\n",
    "\n",
    "# make index data a dataframe and sort it by labeled data index\n",
    "index_data = pd.DataFrame(index_data).sort_values([\"labeled_data_index\"])"
   ]
  },
  {
   "cell_type": "code",
   "execution_count": 14,
   "id": "8cf8202b",
   "metadata": {
    "execution": {
     "iopub.execute_input": "2023-07-21T15:34:41.048358Z",
     "iopub.status.busy": "2023-07-21T15:34:41.048095Z",
     "iopub.status.idle": "2023-07-21T15:34:41.052356Z",
     "shell.execute_reply": "2023-07-21T15:34:41.051887Z"
    },
    "papermill": {
     "duration": 0.009738,
     "end_time": "2023-07-21T15:34:41.053649",
     "exception": false,
     "start_time": "2023-07-21T15:34:41.043911",
     "status": "completed"
    },
    "tags": []
   },
   "outputs": [
    {
     "name": "stdout",
     "output_type": "stream",
     "text": [
      "indexes/SHSY5Y/DMSO_0.100_DMSO_0.025_Thapsigargin_1.000_DMSO_0.025\n"
     ]
    }
   ],
   "source": [
    "# set save path\n",
    "if aggregation == True:\n",
    "    if nomic == True:\n",
    "        save_path = pathlib.Path(f\"./indexes/{cell_type}/{control}_{treatment}\")\n",
    "    elif nomic == False:\n",
    "        save_path = pathlib.Path(f\"./indexes/{cell_type}/{control}_{treatment}\")\n",
    "elif aggregation == False:\n",
    "    if nomic == True:\n",
    "        save_path = pathlib.Path(f\"./indexes/{cell_type}/{control}_{treatment}\")\n",
    "    elif nomic == False:\n",
    "        save_path = pathlib.Path(f\"./indexes/{cell_type}/{control}_{treatment}\")\n",
    "else:\n",
    "    print(\"Error\")\n",
    "\n",
    "print(save_path)\n",
    "# create save path if it doesn't exist\n",
    "save_path.mkdir(parents=True, exist_ok=True)"
   ]
  },
  {
   "cell_type": "code",
   "execution_count": 15,
   "id": "aeaadb77",
   "metadata": {
    "execution": {
     "iopub.execute_input": "2023-07-21T15:34:41.062101Z",
     "iopub.status.busy": "2023-07-21T15:34:41.061818Z",
     "iopub.status.idle": "2023-07-21T15:34:41.135226Z",
     "shell.execute_reply": "2023-07-21T15:34:41.134463Z"
    },
    "papermill": {
     "duration": 0.07907,
     "end_time": "2023-07-21T15:34:41.136694",
     "exception": false,
     "start_time": "2023-07-21T15:34:41.057624",
     "status": "completed"
    },
    "tags": []
   },
   "outputs": [],
   "source": [
    "# save indexes as tsv file\n",
    "if aggregation == True:\n",
    "    if nomic == True:\n",
    "        index_data.to_csv(\n",
    "            f\"{save_path}/aggregated_sc_and_nomic_data_split_indexes.tsv\", sep=\"\\t\"\n",
    "        )\n",
    "    elif nomic == False:\n",
    "        index_data.to_csv(f\"{save_path}/aggregated_sc_data_split_indexes.tsv\", sep=\"\\t\")\n",
    "elif aggregation == False:\n",
    "    if nomic == True:\n",
    "        index_data.to_csv(f\"{save_path}/sc_and_nomic_data_split_indexes.tsv\", sep=\"\\t\")\n",
    "    elif nomic == False:\n",
    "        index_data.to_csv(f\"{save_path}/sc_split_indexes.tsv\", sep=\"\\t\")\n",
    "else:\n",
    "    print(\"Error\")"
   ]
  }
 ],
 "metadata": {
  "kernelspec": {
   "display_name": "Interstellar",
   "language": "python",
   "name": "python3"
  },
  "language_info": {
   "codemirror_mode": {
    "name": "ipython",
    "version": 3
   },
   "file_extension": ".py",
   "mimetype": "text/x-python",
   "name": "python",
   "nbconvert_exporter": "python",
   "pygments_lexer": "ipython3",
   "version": "3.10.12"
  },
  "papermill": {
   "default_parameters": {},
   "duration": 10.341951,
   "end_time": "2023-07-21T15:34:42.064302",
   "environment_variables": {},
   "exception": null,
   "input_path": "split_data.ipynb",
   "output_path": "split_data.ipynb",
   "parameters": {
    "aggregation": false,
    "cell_type": "SHSY5Y",
    "control": "DMSO_0.100_DMSO_0.025",
    "flag": true,
    "nomic": false,
    "treatment": "Thapsigargin_1.000_DMSO_0.025"
   },
   "start_time": "2023-07-21T15:34:31.722351",
   "version": "2.4.0"
  },
  "vscode": {
   "interpreter": {
    "hash": "72ae02083a9ca7d143c492d1aec380c7bf553ec51bd66e90e72bba65228121b6"
   }
  }
 },
 "nbformat": 4,
 "nbformat_minor": 5
}