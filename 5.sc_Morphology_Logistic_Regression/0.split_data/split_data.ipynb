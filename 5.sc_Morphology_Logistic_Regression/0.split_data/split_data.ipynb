{
 "cells": [
  {
   "cell_type": "code",
   "execution_count": 1,
   "id": "2a0c7e4f",
   "metadata": {
    "execution": {
     "iopub.execute_input": "2023-07-23T19:03:52.056423Z",
     "iopub.status.busy": "2023-07-23T19:03:52.056132Z",
     "iopub.status.idle": "2023-07-23T19:03:53.070848Z",
     "shell.execute_reply": "2023-07-23T19:03:53.070431Z"
    },
    "papermill": {
     "duration": 1.020566,
     "end_time": "2023-07-23T19:03:53.072209",
     "exception": false,
     "start_time": "2023-07-23T19:03:52.051643",
     "status": "completed"
    },
    "tags": []
   },
   "outputs": [],
   "source": [
    "import ast\n",
    "import itertools\n",
    "import pathlib\n",
    "import sys\n",
    "import warnings\n",
    "\n",
    "import numpy as np\n",
    "import pandas as pd\n",
    "import pyarrow.parquet as pq\n",
    "import toml\n",
    "from joblib import dump\n",
    "from sklearn.exceptions import ConvergenceWarning\n",
    "from sklearn.linear_model import LogisticRegression\n",
    "from sklearn.model_selection import GridSearchCV, StratifiedKFold, train_test_split\n",
    "from sklearn.utils import parallel_backend, shuffle"
   ]
  },
  {
   "cell_type": "code",
   "execution_count": 2,
   "id": "f3d9b295",
   "metadata": {
    "execution": {
     "iopub.execute_input": "2023-07-23T19:03:53.078725Z",
     "iopub.status.busy": "2023-07-23T19:03:53.078422Z",
     "iopub.status.idle": "2023-07-23T19:03:53.080807Z",
     "shell.execute_reply": "2023-07-23T19:03:53.080466Z"
    },
    "papermill": {
     "duration": 0.005665,
     "end_time": "2023-07-23T19:03:53.081555",
     "exception": false,
     "start_time": "2023-07-23T19:03:53.075890",
     "status": "completed"
    },
    "tags": [
     "injected-parameters"
    ]
   },
   "outputs": [],
   "source": [
    "# Parameters\n",
    "cell_type = \"PBMC\"\n",
    "aggregation = False\n",
    "nomic = False\n",
    "flag = True\n",
    "control = \"DMSO_0.100_DMSO_0.025\"\n",
    "treatment = \"Thapsigargin_1.000_DMSO_0.025\""
   ]
  },
  {
   "cell_type": "code",
   "execution_count": 3,
   "id": "dc112da1",
   "metadata": {
    "execution": {
     "iopub.execute_input": "2023-07-23T19:03:53.085737Z",
     "iopub.status.busy": "2023-07-23T19:03:53.085445Z",
     "iopub.status.idle": "2023-07-23T19:03:53.088265Z",
     "shell.execute_reply": "2023-07-23T19:03:53.087948Z"
    },
    "papermill": {
     "duration": 0.005655,
     "end_time": "2023-07-23T19:03:53.088993",
     "exception": false,
     "start_time": "2023-07-23T19:03:53.083338",
     "status": "completed"
    },
    "tags": []
   },
   "outputs": [],
   "source": [
    "if flag == False:\n",
    "    # read in toml file and get parameters\n",
    "    toml_path = pathlib.Path(\"../1.train_models/single_class_config.toml\")\n",
    "    with open(toml_path, \"r\") as f:\n",
    "        config = toml.load(f)\n",
    "    f.close()\n",
    "    control = config[\"logistic_regression_params\"][\"control\"]\n",
    "    treatment = config[\"logistic_regression_params\"][\"treatments\"]\n",
    "    aggregation = ast.literal_eval(config[\"logistic_regression_params\"][\"aggregation\"])\n",
    "    nomic = ast.literal_eval(config[\"logistic_regression_params\"][\"nomic\"])\n",
    "    cell_type = config[\"logistic_regression_params\"][\"cell_type\"]\n",
    "    print(aggregation, nomic, cell_type)"
   ]
  },
  {
   "cell_type": "code",
   "execution_count": 4,
   "id": "ae396783",
   "metadata": {
    "execution": {
     "iopub.execute_input": "2023-07-23T19:03:53.093114Z",
     "iopub.status.busy": "2023-07-23T19:03:53.092838Z",
     "iopub.status.idle": "2023-07-23T19:05:15.307035Z",
     "shell.execute_reply": "2023-07-23T19:05:15.306565Z"
    },
    "papermill": {
     "duration": 82.220985,
     "end_time": "2023-07-23T19:05:15.311705",
     "exception": false,
     "start_time": "2023-07-23T19:03:53.090720",
     "status": "completed"
    },
    "tags": []
   },
   "outputs": [
    {
     "data": {
      "text/html": [
       "<div>\n",
       "<style scoped>\n",
       "    .dataframe tbody tr th:only-of-type {\n",
       "        vertical-align: middle;\n",
       "    }\n",
       "\n",
       "    .dataframe tbody tr th {\n",
       "        vertical-align: top;\n",
       "    }\n",
       "\n",
       "    .dataframe thead th {\n",
       "        text-align: right;\n",
       "    }\n",
       "</style>\n",
       "<table border=\"1\" class=\"dataframe\">\n",
       "  <thead>\n",
       "    <tr style=\"text-align: right;\">\n",
       "      <th></th>\n",
       "      <th>Metadata_cell_type</th>\n",
       "      <th>Metadata_Well</th>\n",
       "      <th>Metadata_number_of_singlecells</th>\n",
       "      <th>Metadata_incubation inducer (h)</th>\n",
       "      <th>Metadata_inhibitor</th>\n",
       "      <th>Metadata_inhibitor_concentration</th>\n",
       "      <th>Metadata_inhibitor_concentration_unit</th>\n",
       "      <th>Metadata_inducer1</th>\n",
       "      <th>Metadata_inducer1_concentration</th>\n",
       "      <th>Metadata_inducer1_concentration_unit</th>\n",
       "      <th>...</th>\n",
       "      <th>Nuclei_Texture_SumEntropy_CorrPM_3_01_256</th>\n",
       "      <th>Nuclei_Texture_SumVariance_CorrPM_3_01_256</th>\n",
       "      <th>Nuclei_Texture_Variance_CorrER_3_00_256</th>\n",
       "      <th>Nuclei_Texture_Variance_CorrGasdermin_3_00_256</th>\n",
       "      <th>Metadata_Treatment</th>\n",
       "      <th>Metadata_Dose</th>\n",
       "      <th>oneb_Metadata_Treatment_Dose_Inhibitor_Dose</th>\n",
       "      <th>twob_Metadata_Treatment_Dose_Inhibitor_Dose</th>\n",
       "      <th>threeb_Metadata_Treatment_Dose_Inhibitor_Dose</th>\n",
       "      <th>fourb_Metadata_Treatment_Dose_Inhibitor_Dose</th>\n",
       "    </tr>\n",
       "  </thead>\n",
       "  <tbody>\n",
       "    <tr>\n",
       "      <th>0</th>\n",
       "      <td>PBMC</td>\n",
       "      <td>B02</td>\n",
       "      <td>34618</td>\n",
       "      <td>6</td>\n",
       "      <td>DMSO</td>\n",
       "      <td>0.025</td>\n",
       "      <td>%</td>\n",
       "      <td>LPS</td>\n",
       "      <td>0.01</td>\n",
       "      <td>µg_per_ml</td>\n",
       "      <td>...</td>\n",
       "      <td>0.108250</td>\n",
       "      <td>-0.068544</td>\n",
       "      <td>-0.205295</td>\n",
       "      <td>-0.197257</td>\n",
       "      <td>LPS</td>\n",
       "      <td>0.010</td>\n",
       "      <td>LPS_0.010_DMSO_0.025</td>\n",
       "      <td>LPS_DMSO_0.025__0.010</td>\n",
       "      <td>LPS__0.010__DMSO_0.025</td>\n",
       "      <td>LPS__0.010__DMSO__0.025</td>\n",
       "    </tr>\n",
       "    <tr>\n",
       "      <th>1</th>\n",
       "      <td>PBMC</td>\n",
       "      <td>B02</td>\n",
       "      <td>34618</td>\n",
       "      <td>6</td>\n",
       "      <td>DMSO</td>\n",
       "      <td>0.025</td>\n",
       "      <td>%</td>\n",
       "      <td>LPS</td>\n",
       "      <td>0.01</td>\n",
       "      <td>µg_per_ml</td>\n",
       "      <td>...</td>\n",
       "      <td>-0.929131</td>\n",
       "      <td>-0.158906</td>\n",
       "      <td>-0.198572</td>\n",
       "      <td>-0.185623</td>\n",
       "      <td>LPS</td>\n",
       "      <td>0.010</td>\n",
       "      <td>LPS_0.010_DMSO_0.025</td>\n",
       "      <td>LPS_DMSO_0.025__0.010</td>\n",
       "      <td>LPS__0.010__DMSO_0.025</td>\n",
       "      <td>LPS__0.010__DMSO__0.025</td>\n",
       "    </tr>\n",
       "    <tr>\n",
       "      <th>2</th>\n",
       "      <td>PBMC</td>\n",
       "      <td>B02</td>\n",
       "      <td>34618</td>\n",
       "      <td>6</td>\n",
       "      <td>DMSO</td>\n",
       "      <td>0.025</td>\n",
       "      <td>%</td>\n",
       "      <td>LPS</td>\n",
       "      <td>0.01</td>\n",
       "      <td>µg_per_ml</td>\n",
       "      <td>...</td>\n",
       "      <td>-1.227278</td>\n",
       "      <td>-0.163521</td>\n",
       "      <td>-0.165140</td>\n",
       "      <td>-0.174762</td>\n",
       "      <td>LPS</td>\n",
       "      <td>0.010</td>\n",
       "      <td>LPS_0.010_DMSO_0.025</td>\n",
       "      <td>LPS_DMSO_0.025__0.010</td>\n",
       "      <td>LPS__0.010__DMSO_0.025</td>\n",
       "      <td>LPS__0.010__DMSO__0.025</td>\n",
       "    </tr>\n",
       "    <tr>\n",
       "      <th>3</th>\n",
       "      <td>PBMC</td>\n",
       "      <td>B02</td>\n",
       "      <td>34618</td>\n",
       "      <td>6</td>\n",
       "      <td>DMSO</td>\n",
       "      <td>0.025</td>\n",
       "      <td>%</td>\n",
       "      <td>LPS</td>\n",
       "      <td>0.01</td>\n",
       "      <td>µg_per_ml</td>\n",
       "      <td>...</td>\n",
       "      <td>2.153910</td>\n",
       "      <td>0.586555</td>\n",
       "      <td>0.258023</td>\n",
       "      <td>0.218118</td>\n",
       "      <td>LPS</td>\n",
       "      <td>0.010</td>\n",
       "      <td>LPS_0.010_DMSO_0.025</td>\n",
       "      <td>LPS_DMSO_0.025__0.010</td>\n",
       "      <td>LPS__0.010__DMSO_0.025</td>\n",
       "      <td>LPS__0.010__DMSO__0.025</td>\n",
       "    </tr>\n",
       "    <tr>\n",
       "      <th>4</th>\n",
       "      <td>PBMC</td>\n",
       "      <td>B02</td>\n",
       "      <td>34618</td>\n",
       "      <td>6</td>\n",
       "      <td>DMSO</td>\n",
       "      <td>0.025</td>\n",
       "      <td>%</td>\n",
       "      <td>LPS</td>\n",
       "      <td>0.01</td>\n",
       "      <td>µg_per_ml</td>\n",
       "      <td>...</td>\n",
       "      <td>-0.557309</td>\n",
       "      <td>-0.148980</td>\n",
       "      <td>-0.122860</td>\n",
       "      <td>-0.110851</td>\n",
       "      <td>LPS</td>\n",
       "      <td>0.010</td>\n",
       "      <td>LPS_0.010_DMSO_0.025</td>\n",
       "      <td>LPS_DMSO_0.025__0.010</td>\n",
       "      <td>LPS__0.010__DMSO_0.025</td>\n",
       "      <td>LPS__0.010__DMSO__0.025</td>\n",
       "    </tr>\n",
       "  </tbody>\n",
       "</table>\n",
       "<p>5 rows × 1270 columns</p>\n",
       "</div>"
      ],
      "text/plain": [
       "  Metadata_cell_type Metadata_Well  Metadata_number_of_singlecells  \\\n",
       "0               PBMC           B02                           34618   \n",
       "1               PBMC           B02                           34618   \n",
       "2               PBMC           B02                           34618   \n",
       "3               PBMC           B02                           34618   \n",
       "4               PBMC           B02                           34618   \n",
       "\n",
       "   Metadata_incubation inducer (h) Metadata_inhibitor  \\\n",
       "0                                6               DMSO   \n",
       "1                                6               DMSO   \n",
       "2                                6               DMSO   \n",
       "3                                6               DMSO   \n",
       "4                                6               DMSO   \n",
       "\n",
       "   Metadata_inhibitor_concentration Metadata_inhibitor_concentration_unit  \\\n",
       "0                             0.025                                     %   \n",
       "1                             0.025                                     %   \n",
       "2                             0.025                                     %   \n",
       "3                             0.025                                     %   \n",
       "4                             0.025                                     %   \n",
       "\n",
       "  Metadata_inducer1  Metadata_inducer1_concentration  \\\n",
       "0               LPS                             0.01   \n",
       "1               LPS                             0.01   \n",
       "2               LPS                             0.01   \n",
       "3               LPS                             0.01   \n",
       "4               LPS                             0.01   \n",
       "\n",
       "  Metadata_inducer1_concentration_unit  ...  \\\n",
       "0                            µg_per_ml  ...   \n",
       "1                            µg_per_ml  ...   \n",
       "2                            µg_per_ml  ...   \n",
       "3                            µg_per_ml  ...   \n",
       "4                            µg_per_ml  ...   \n",
       "\n",
       "  Nuclei_Texture_SumEntropy_CorrPM_3_01_256  \\\n",
       "0                                  0.108250   \n",
       "1                                 -0.929131   \n",
       "2                                 -1.227278   \n",
       "3                                  2.153910   \n",
       "4                                 -0.557309   \n",
       "\n",
       "   Nuclei_Texture_SumVariance_CorrPM_3_01_256  \\\n",
       "0                                   -0.068544   \n",
       "1                                   -0.158906   \n",
       "2                                   -0.163521   \n",
       "3                                    0.586555   \n",
       "4                                   -0.148980   \n",
       "\n",
       "  Nuclei_Texture_Variance_CorrER_3_00_256  \\\n",
       "0                               -0.205295   \n",
       "1                               -0.198572   \n",
       "2                               -0.165140   \n",
       "3                                0.258023   \n",
       "4                               -0.122860   \n",
       "\n",
       "   Nuclei_Texture_Variance_CorrGasdermin_3_00_256 Metadata_Treatment  \\\n",
       "0                                       -0.197257                LPS   \n",
       "1                                       -0.185623                LPS   \n",
       "2                                       -0.174762                LPS   \n",
       "3                                        0.218118                LPS   \n",
       "4                                       -0.110851                LPS   \n",
       "\n",
       "   Metadata_Dose  oneb_Metadata_Treatment_Dose_Inhibitor_Dose  \\\n",
       "0          0.010                         LPS_0.010_DMSO_0.025   \n",
       "1          0.010                         LPS_0.010_DMSO_0.025   \n",
       "2          0.010                         LPS_0.010_DMSO_0.025   \n",
       "3          0.010                         LPS_0.010_DMSO_0.025   \n",
       "4          0.010                         LPS_0.010_DMSO_0.025   \n",
       "\n",
       "   twob_Metadata_Treatment_Dose_Inhibitor_Dose  \\\n",
       "0                        LPS_DMSO_0.025__0.010   \n",
       "1                        LPS_DMSO_0.025__0.010   \n",
       "2                        LPS_DMSO_0.025__0.010   \n",
       "3                        LPS_DMSO_0.025__0.010   \n",
       "4                        LPS_DMSO_0.025__0.010   \n",
       "\n",
       "   threeb_Metadata_Treatment_Dose_Inhibitor_Dose  \\\n",
       "0                         LPS__0.010__DMSO_0.025   \n",
       "1                         LPS__0.010__DMSO_0.025   \n",
       "2                         LPS__0.010__DMSO_0.025   \n",
       "3                         LPS__0.010__DMSO_0.025   \n",
       "4                         LPS__0.010__DMSO_0.025   \n",
       "\n",
       "   fourb_Metadata_Treatment_Dose_Inhibitor_Dose  \n",
       "0                       LPS__0.010__DMSO__0.025  \n",
       "1                       LPS__0.010__DMSO__0.025  \n",
       "2                       LPS__0.010__DMSO__0.025  \n",
       "3                       LPS__0.010__DMSO__0.025  \n",
       "4                       LPS__0.010__DMSO__0.025  \n",
       "\n",
       "[5 rows x 1270 columns]"
      ]
     },
     "execution_count": 4,
     "metadata": {},
     "output_type": "execute_result"
    }
   ],
   "source": [
    "path = pathlib.Path(f\"../../data/{cell_type}_preprocessed_sc_norm.parquet\")\n",
    "\n",
    "data_df = pq.read_table(path).to_pandas()\n",
    "\n",
    "data_df.head()"
   ]
  },
  {
   "cell_type": "code",
   "execution_count": 5,
   "id": "e0705edc",
   "metadata": {
    "execution": {
     "iopub.execute_input": "2023-07-23T19:05:15.331057Z",
     "iopub.status.busy": "2023-07-23T19:05:15.330852Z",
     "iopub.status.idle": "2023-07-23T19:05:15.334287Z",
     "shell.execute_reply": "2023-07-23T19:05:15.333978Z"
    },
    "papermill": {
     "duration": 0.007743,
     "end_time": "2023-07-23T19:05:15.335255",
     "exception": false,
     "start_time": "2023-07-23T19:05:15.327512",
     "status": "completed"
    },
    "tags": []
   },
   "outputs": [],
   "source": [
    "if nomic == True:\n",
    "    nomic_df_path = pathlib.Path(\n",
    "        f\"../../2.Nomic_nELISA_Analysis/Data/clean/Plate2/nELISA_plate_430420_{cell_type}.csv\"\n",
    "    )\n",
    "    df_nomic = pd.read_csv(nomic_df_path)\n",
    "    # drop columns that contain [pgML]\n",
    "    df_nomic = df_nomic.drop(\n",
    "        columns=[col for col in df_nomic.columns if \"[pgML]\" in col]\n",
    "    )\n",
    "    # drop first 25 columns\n",
    "    df_nomic = df_nomic.drop(columns=df_nomic.columns[3:25])\n",
    "    df_nomic = df_nomic.drop(columns=df_nomic.columns[0:2])\n",
    "else:\n",
    "    df_nomic = None"
   ]
  },
  {
   "cell_type": "code",
   "execution_count": 6,
   "id": "3c7f01ba",
   "metadata": {
    "execution": {
     "iopub.execute_input": "2023-07-23T19:05:15.340210Z",
     "iopub.status.busy": "2023-07-23T19:05:15.339920Z",
     "iopub.status.idle": "2023-07-23T19:05:29.986996Z",
     "shell.execute_reply": "2023-07-23T19:05:29.986528Z"
    },
    "papermill": {
     "duration": 14.650757,
     "end_time": "2023-07-23T19:05:29.988218",
     "exception": false,
     "start_time": "2023-07-23T19:05:15.337461",
     "status": "completed"
    },
    "tags": []
   },
   "outputs": [],
   "source": [
    "# subset each column that contains metadata\n",
    "metadata = data_df.filter(regex=\"Metadata\")\n",
    "\n",
    "# get all columns that are not metadata except for metadata_Well\n",
    "data = data_df.drop(metadata.columns, axis=1)\n",
    "\n",
    "# get the metadata_Well column\n",
    "metadata_well = metadata[\"Metadata_Well\"]\n",
    "\n",
    "data = pd.merge(data, metadata_well, left_index=True, right_index=True)"
   ]
  },
  {
   "cell_type": "code",
   "execution_count": 7,
   "id": "247dccb4",
   "metadata": {
    "execution": {
     "iopub.execute_input": "2023-07-23T19:05:29.999156Z",
     "iopub.status.busy": "2023-07-23T19:05:29.998852Z",
     "iopub.status.idle": "2023-07-23T19:05:30.003429Z",
     "shell.execute_reply": "2023-07-23T19:05:30.003087Z"
    },
    "papermill": {
     "duration": 0.007782,
     "end_time": "2023-07-23T19:05:30.004155",
     "exception": false,
     "start_time": "2023-07-23T19:05:29.996373",
     "status": "completed"
    },
    "tags": []
   },
   "outputs": [],
   "source": [
    "if (aggregation == True) and (nomic == True):\n",
    "\n",
    "    # subset each column that contains metadata\n",
    "    metadata = data_df.filter(regex=\"Metadata\")\n",
    "    data_df = data_df.drop(metadata.columns, axis=1)\n",
    "    data_df = pd.concat([data_df, metadata[\"Metadata_Well\"]], axis=1)\n",
    "    # groupby well and take mean of each well\n",
    "    data_df = data_df.groupby(\"Metadata_Well\").mean()\n",
    "    # drop duplicate rows in the metadata_well column\n",
    "    metadata = metadata.drop_duplicates(subset=[\"Metadata_Well\"])\n",
    "    # get the metadata for each well\n",
    "    data_df = pd.merge(\n",
    "        data_df, metadata, left_on=\"Metadata_Well\", right_on=\"Metadata_Well\"\n",
    "    )\n",
    "    data_df = pd.merge(\n",
    "        data_df, df_nomic, left_on=\"Metadata_Well\", right_on=\"position_x\"\n",
    "    )\n",
    "    data_df = data_df.drop(columns=[\"position_x\"])\n",
    "\n",
    "elif (aggregation == True) and (nomic == False):\n",
    "    # subset each column that contains metadata\n",
    "    metadata = data_df.filter(regex=\"Metadata\")\n",
    "    data_df = data_df.drop(metadata.columns, axis=1)\n",
    "    data_df = pd.concat([data_df, metadata[\"Metadata_Well\"]], axis=1)\n",
    "    # groupby well and take mean of each well\n",
    "    data_df = data_df.groupby(\"Metadata_Well\").mean()\n",
    "    # drop duplicate rows in the metadata_well column\n",
    "    metadata = metadata.drop_duplicates(subset=[\"Metadata_Well\"])\n",
    "    # get the metadata for each well\n",
    "    data_df = pd.merge(\n",
    "        data_df, metadata, left_on=\"Metadata_Well\", right_on=\"Metadata_Well\"\n",
    "    )\n",
    "elif (aggregation == False) and (nomic == True):\n",
    "    data_df = pd.merge(\n",
    "        data_df, df_nomic, left_on=\"Metadata_Well\", right_on=\"position_x\"\n",
    "    )\n",
    "    data_df = data_df.drop(columns=[\"position_x\"])\n",
    "elif aggregation == False and nomic == False:\n",
    "    pass\n",
    "else:\n",
    "    print(\"Error\")"
   ]
  },
  {
   "cell_type": "code",
   "execution_count": 8,
   "id": "4f41f7f3",
   "metadata": {
    "execution": {
     "iopub.execute_input": "2023-07-23T19:05:30.008957Z",
     "iopub.status.busy": "2023-07-23T19:05:30.008724Z",
     "iopub.status.idle": "2023-07-23T19:05:37.268204Z",
     "shell.execute_reply": "2023-07-23T19:05:37.267603Z"
    },
    "papermill": {
     "duration": 7.262756,
     "end_time": "2023-07-23T19:05:37.269123",
     "exception": false,
     "start_time": "2023-07-23T19:05:30.006367",
     "status": "completed"
    },
    "tags": []
   },
   "outputs": [],
   "source": [
    "# drop all metadata columns\n",
    "data_x = data_df.drop(metadata.columns, axis=1)\n",
    "labeled_data = data_df[\"oneb_Metadata_Treatment_Dose_Inhibitor_Dose\"]"
   ]
  },
  {
   "cell_type": "code",
   "execution_count": 9,
   "id": "8d2cc57e",
   "metadata": {
    "execution": {
     "iopub.execute_input": "2023-07-23T19:05:37.280541Z",
     "iopub.status.busy": "2023-07-23T19:05:37.280345Z",
     "iopub.status.idle": "2023-07-23T19:05:37.282628Z",
     "shell.execute_reply": "2023-07-23T19:05:37.282294Z"
    },
    "papermill": {
     "duration": 0.006981,
     "end_time": "2023-07-23T19:05:37.283405",
     "exception": false,
     "start_time": "2023-07-23T19:05:37.276424",
     "status": "completed"
    },
    "tags": []
   },
   "outputs": [],
   "source": [
    "# https://github.com/WayScience/phenotypic_profiling_model/blob/main/1.split_data/split_data.ipynb"
   ]
  },
  {
   "cell_type": "code",
   "execution_count": 10,
   "id": "d59ece5b",
   "metadata": {
    "execution": {
     "iopub.execute_input": "2023-07-23T19:05:37.288469Z",
     "iopub.status.busy": "2023-07-23T19:05:37.288034Z",
     "iopub.status.idle": "2023-07-23T19:05:37.980805Z",
     "shell.execute_reply": "2023-07-23T19:05:37.980304Z"
    },
    "papermill": {
     "duration": 0.696472,
     "end_time": "2023-07-23T19:05:37.981908",
     "exception": false,
     "start_time": "2023-07-23T19:05:37.285436",
     "status": "completed"
    },
    "tags": []
   },
   "outputs": [],
   "source": [
    "# get oneb_Metadata_Treatment_Dose_Inhibitor_Dose  =='DMSO_0.100_DMSO_0.025' and 'LPS_100.000_DMSO_0.025 and Thapsigargin_10.000_DMSO_0.025'\n",
    "data_df = data_df[\n",
    "    data_df[\"oneb_Metadata_Treatment_Dose_Inhibitor_Dose\"].isin([control, treatment])\n",
    "]"
   ]
  },
  {
   "cell_type": "code",
   "execution_count": 11,
   "id": "6c9b8fda",
   "metadata": {
    "execution": {
     "iopub.execute_input": "2023-07-23T19:05:37.987019Z",
     "iopub.status.busy": "2023-07-23T19:05:37.986671Z",
     "iopub.status.idle": "2023-07-23T19:05:42.288248Z",
     "shell.execute_reply": "2023-07-23T19:05:42.287819Z"
    },
    "papermill": {
     "duration": 4.305535,
     "end_time": "2023-07-23T19:05:42.289632",
     "exception": false,
     "start_time": "2023-07-23T19:05:37.984097",
     "status": "completed"
    },
    "tags": []
   },
   "outputs": [
    {
     "name": "stdout",
     "output_type": "stream",
     "text": [
      "Training data has shape: (272689, 1270)\n",
      "Testing data has shape: (90897, 1270)\n"
     ]
    }
   ],
   "source": [
    "# ratio of data to be used for testing (ex 0.15 = 15%)\n",
    "test_ratio = 0.25\n",
    "\n",
    "# get indexes of training and testing data\n",
    "training_data, testing_data = train_test_split(\n",
    "    data_df,\n",
    "    test_size=test_ratio,\n",
    "    stratify=data_df[[\"oneb_Metadata_Treatment_Dose_Inhibitor_Dose\"]],\n",
    "    random_state=1,\n",
    ")\n",
    "train_indexes = training_data.index.to_numpy()\n",
    "test_indexes = testing_data.index.to_numpy()\n",
    "\n",
    "print(f\"Training data has shape: {training_data.shape}\")\n",
    "print(f\"Testing data has shape: {testing_data.shape}\")"
   ]
  },
  {
   "cell_type": "code",
   "execution_count": 12,
   "id": "8656f69b",
   "metadata": {
    "execution": {
     "iopub.execute_input": "2023-07-23T19:05:42.299267Z",
     "iopub.status.busy": "2023-07-23T19:05:42.298970Z",
     "iopub.status.idle": "2023-07-23T19:05:43.103090Z",
     "shell.execute_reply": "2023-07-23T19:05:43.102369Z"
    },
    "papermill": {
     "duration": 0.808538,
     "end_time": "2023-07-23T19:05:43.104343",
     "exception": false,
     "start_time": "2023-07-23T19:05:42.295805",
     "status": "completed"
    },
    "tags": []
   },
   "outputs": [],
   "source": [
    "# create pandas dataframe with all indexes and their respective labels, stratified by phenotypic class\n",
    "index_data = []\n",
    "for index in train_indexes:\n",
    "    index_data.append({\"labeled_data_index\": index, \"label\": \"train\"})\n",
    "for index in test_indexes:\n",
    "    index_data.append({\"labeled_data_index\": index, \"label\": \"test\"})\n",
    "\n",
    "# make index data a dataframe and sort it by labeled data index\n",
    "index_data = pd.DataFrame(index_data).sort_values([\"labeled_data_index\"])"
   ]
  },
  {
   "cell_type": "code",
   "execution_count": 13,
   "id": "8cf8202b",
   "metadata": {
    "execution": {
     "iopub.execute_input": "2023-07-23T19:05:43.111359Z",
     "iopub.status.busy": "2023-07-23T19:05:43.110772Z",
     "iopub.status.idle": "2023-07-23T19:05:43.115144Z",
     "shell.execute_reply": "2023-07-23T19:05:43.114700Z"
    },
    "papermill": {
     "duration": 0.008037,
     "end_time": "2023-07-23T19:05:43.115913",
     "exception": false,
     "start_time": "2023-07-23T19:05:43.107876",
     "status": "completed"
    },
    "tags": []
   },
   "outputs": [
    {
     "name": "stdout",
     "output_type": "stream",
     "text": [
      "indexes/PBMC/DMSO_0.100_DMSO_0.025_Thapsigargin_1.000_DMSO_0.025\n"
     ]
    }
   ],
   "source": [
    "# set save path\n",
    "if aggregation == True:\n",
    "    if nomic == True:\n",
    "        save_path = pathlib.Path(f\"./indexes/{cell_type}/{control}_{treatment}\")\n",
    "    elif nomic == False:\n",
    "        save_path = pathlib.Path(f\"./indexes/{cell_type}/{control}_{treatment}\")\n",
    "elif aggregation == False:\n",
    "    if nomic == True:\n",
    "        save_path = pathlib.Path(f\"./indexes/{cell_type}/{control}_{treatment}\")\n",
    "    elif nomic == False:\n",
    "        save_path = pathlib.Path(f\"./indexes/{cell_type}/{control}_{treatment}\")\n",
    "else:\n",
    "    print(\"Error\")\n",
    "\n",
    "print(save_path)\n",
    "# create save path if it doesn't exist\n",
    "save_path.mkdir(parents=True, exist_ok=True)"
   ]
  },
  {
   "cell_type": "code",
   "execution_count": 14,
   "id": "aeaadb77",
   "metadata": {
    "execution": {
     "iopub.execute_input": "2023-07-23T19:05:43.121412Z",
     "iopub.status.busy": "2023-07-23T19:05:43.121043Z",
     "iopub.status.idle": "2023-07-23T19:05:43.437750Z",
     "shell.execute_reply": "2023-07-23T19:05:43.437285Z"
    },
    "papermill": {
     "duration": 0.320546,
     "end_time": "2023-07-23T19:05:43.438785",
     "exception": false,
     "start_time": "2023-07-23T19:05:43.118239",
     "status": "completed"
    },
    "tags": []
   },
   "outputs": [],
   "source": [
    "# save indexes as tsv file\n",
    "if aggregation == True:\n",
    "    if nomic == True:\n",
    "        index_data.to_csv(\n",
    "            f\"{save_path}/aggregated_sc_and_nomic_data_split_indexes.tsv\", sep=\"\\t\"\n",
    "        )\n",
    "    elif nomic == False:\n",
    "        index_data.to_csv(f\"{save_path}/aggregated_sc_data_split_indexes.tsv\", sep=\"\\t\")\n",
    "elif aggregation == False:\n",
    "    if nomic == True:\n",
    "        index_data.to_csv(f\"{save_path}/sc_and_nomic_data_split_indexes.tsv\", sep=\"\\t\")\n",
    "    elif nomic == False:\n",
    "        index_data.to_csv(f\"{save_path}/sc_split_indexes.tsv\", sep=\"\\t\")\n",
    "else:\n",
    "    print(\"Error\")"
   ]
  }
 ],
 "metadata": {
  "kernelspec": {
   "display_name": "Interstellar",
   "language": "python",
   "name": "python3"
  },
  "language_info": {
   "codemirror_mode": {
    "name": "ipython",
    "version": 3
   },
   "file_extension": ".py",
   "mimetype": "text/x-python",
   "name": "python",
   "nbconvert_exporter": "python",
   "pygments_lexer": "ipython3",
   "version": "3.10.12"
  },
  "papermill": {
   "default_parameters": {},
   "duration": 113.631043,
   "end_time": "2023-07-23T19:05:44.056229",
   "environment_variables": {},
   "exception": null,
   "input_path": "split_data.ipynb",
   "output_path": "split_data.ipynb",
   "parameters": {
    "aggregation": false,
    "cell_type": "PBMC",
    "control": "DMSO_0.100_DMSO_0.025",
    "flag": true,
    "nomic": false,
    "treatment": "Thapsigargin_1.000_DMSO_0.025"
   },
   "start_time": "2023-07-23T19:03:50.425186",
   "version": "2.4.0"
  },
  "vscode": {
   "interpreter": {
    "hash": "72ae02083a9ca7d143c492d1aec380c7bf553ec51bd66e90e72bba65228121b6"
   }
  }
 },
 "nbformat": 4,
 "nbformat_minor": 5
}