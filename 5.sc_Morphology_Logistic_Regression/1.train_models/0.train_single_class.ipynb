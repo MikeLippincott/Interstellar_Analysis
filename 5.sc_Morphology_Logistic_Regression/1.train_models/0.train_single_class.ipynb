{
 "cells": [
  {
   "cell_type": "code",
   "execution_count": 1,
   "id": "215ce1c1",
   "metadata": {
    "execution": {
     "iopub.execute_input": "2023-07-22T05:40:46.596684Z",
     "iopub.status.busy": "2023-07-22T05:40:46.596359Z",
     "iopub.status.idle": "2023-07-22T05:40:47.783445Z",
     "shell.execute_reply": "2023-07-22T05:40:47.783025Z"
    },
    "papermill": {
     "duration": 1.193087,
     "end_time": "2023-07-22T05:40:47.784792",
     "exception": false,
     "start_time": "2023-07-22T05:40:46.591705",
     "status": "completed"
    },
    "tags": []
   },
   "outputs": [],
   "source": [
    "import ast\n",
    "import itertools\n",
    "import pathlib\n",
    "import sys\n",
    "import warnings\n",
    "\n",
    "import numpy as np\n",
    "import pandas as pd\n",
    "import pyarrow.parquet as pq\n",
    "import toml\n",
    "from joblib import dump\n",
    "from sklearn.exceptions import ConvergenceWarning\n",
    "from sklearn.linear_model import LogisticRegression\n",
    "from sklearn.model_selection import GridSearchCV, StratifiedKFold, train_test_split\n",
    "from sklearn.utils import parallel_backend, shuffle"
   ]
  },
  {
   "cell_type": "code",
   "execution_count": 2,
   "id": "ed0d80d4",
   "metadata": {
    "execution": {
     "iopub.execute_input": "2023-07-22T05:40:47.789946Z",
     "iopub.status.busy": "2023-07-22T05:40:47.789675Z",
     "iopub.status.idle": "2023-07-22T05:40:47.792006Z",
     "shell.execute_reply": "2023-07-22T05:40:47.791688Z"
    },
    "papermill": {
     "duration": 0.005605,
     "end_time": "2023-07-22T05:40:47.792730",
     "exception": false,
     "start_time": "2023-07-22T05:40:47.787125",
     "status": "completed"
    },
    "tags": [
     "injected-parameters"
    ]
   },
   "outputs": [],
   "source": [
    "# Parameters\n",
    "cell_type = \"SHSY5Y\"\n",
    "aggregation = True\n",
    "nomic = True\n",
    "flag = True\n",
    "control = \"DMSO_0.100_DMSO_0.025\"\n",
    "treatment = \"LPS_100.000_DMSO_0.025\""
   ]
  },
  {
   "cell_type": "code",
   "execution_count": 3,
   "id": "c9fbea76",
   "metadata": {
    "execution": {
     "iopub.execute_input": "2023-07-22T05:40:47.796788Z",
     "iopub.status.busy": "2023-07-22T05:40:47.796489Z",
     "iopub.status.idle": "2023-07-22T05:40:47.799099Z",
     "shell.execute_reply": "2023-07-22T05:40:47.798782Z"
    },
    "papermill": {
     "duration": 0.005391,
     "end_time": "2023-07-22T05:40:47.799818",
     "exception": false,
     "start_time": "2023-07-22T05:40:47.794427",
     "status": "completed"
    },
    "tags": []
   },
   "outputs": [],
   "source": [
    "MODEL_TYPE = \"binary_classification\"\n",
    "if flag == False:\n",
    "    # read in toml file and get parameters\n",
    "    toml_path = pathlib.Path(\"single_class_config.toml\")\n",
    "    with open(toml_path, \"r\") as f:\n",
    "        config = toml.load(f)\n",
    "    control = config[\"logistic_regression_params\"][\"control\"]\n",
    "    treatment = config[\"logistic_regression_params\"][\"treatments\"]\n",
    "    aggregation = ast.literal_eval(config[\"logistic_regression_params\"][\"aggregation\"])\n",
    "    nomic = ast.literal_eval(config[\"logistic_regression_params\"][\"nomic\"])\n",
    "    cell_type = config[\"logistic_regression_params\"][\"cell_type\"]"
   ]
  },
  {
   "cell_type": "code",
   "execution_count": 4,
   "id": "1261124d",
   "metadata": {
    "execution": {
     "iopub.execute_input": "2023-07-22T05:40:47.803594Z",
     "iopub.status.busy": "2023-07-22T05:40:47.803381Z",
     "iopub.status.idle": "2023-07-22T05:44:22.592036Z",
     "shell.execute_reply": "2023-07-22T05:44:22.591001Z"
    },
    "papermill": {
     "duration": 214.792447,
     "end_time": "2023-07-22T05:44:22.593856",
     "exception": false,
     "start_time": "2023-07-22T05:40:47.801409",
     "status": "completed"
    },
    "tags": []
   },
   "outputs": [],
   "source": [
    "# load training data from indexes and features dataframe\n",
    "# data_split_path = pathlib.Path(f\"../0.split_data/indexes/data_split_indexes.tsv\")\n",
    "data_path = pathlib.Path(f\"../../data/{cell_type}_preprocessed_sc_norm.parquet\")\n",
    "\n",
    "# dataframe with only the labeled data we want (exclude certain phenotypic classes)\n",
    "data_df = pq.read_table(data_path).to_pandas()\n",
    "\n",
    "# import nomic data\n",
    "nomic_df_path = pathlib.Path(\n",
    "    f\"../../2.Nomic_nELISA_Analysis/Data/clean/Plate2/nELISA_plate_430420_{cell_type}.csv\"\n",
    ")\n",
    "df_nomic = pd.read_csv(nomic_df_path)\n",
    "\n",
    "# clean up nomic data\n",
    "df_nomic = df_nomic.drop(columns=[col for col in df_nomic.columns if \"[pgML]\" in col])\n",
    "# drop first 25 columns (Metadata that is not needed)\n",
    "df_nomic = df_nomic.drop(columns=df_nomic.columns[3:25])\n",
    "df_nomic = df_nomic.drop(columns=df_nomic.columns[0:2])"
   ]
  },
  {
   "cell_type": "code",
   "execution_count": 5,
   "id": "bf794861",
   "metadata": {
    "execution": {
     "iopub.execute_input": "2023-07-22T05:44:22.654781Z",
     "iopub.status.busy": "2023-07-22T05:44:22.653962Z",
     "iopub.status.idle": "2023-07-22T05:44:22.810900Z",
     "shell.execute_reply": "2023-07-22T05:44:22.810222Z"
    },
    "papermill": {
     "duration": 0.162062,
     "end_time": "2023-07-22T05:44:22.812544",
     "exception": false,
     "start_time": "2023-07-22T05:44:22.650482",
     "status": "completed"
    },
    "tags": []
   },
   "outputs": [],
   "source": [
    "if (aggregation == True) and (nomic == True):\n",
    "    data_split_path = pathlib.Path(\n",
    "        f\"../0.split_data/indexes/{cell_type}/{MODEL_TYPE}/{control}_{treatment}/aggregated_sc_and_nomic_data_split_indexes.tsv\"\n",
    "    )\n",
    "    data_split_indexes = pd.read_csv(data_split_path, sep=\"\\t\", index_col=0)\n",
    "    # subset each column that contains metadata\n",
    "    metadata = data_df.filter(regex=\"Metadata\")\n",
    "    data_df = data_df.drop(metadata.columns, axis=1)\n",
    "    data_df = pd.concat([data_df, metadata[\"Metadata_Well\"]], axis=1)\n",
    "    # groupby well and take mean of each well\n",
    "    data_df = data_df.groupby(\"Metadata_Well\").mean()\n",
    "    # drop duplicate rows in the metadata_well column\n",
    "    metadata = metadata.drop_duplicates(subset=[\"Metadata_Well\"])\n",
    "    # get the metadata for each well\n",
    "    data_df = pd.merge(\n",
    "        data_df, metadata, left_on=\"Metadata_Well\", right_on=\"Metadata_Well\"\n",
    "    )\n",
    "    data_df = pd.merge(\n",
    "        data_df, df_nomic, left_on=\"Metadata_Well\", right_on=\"position_x\"\n",
    "    )\n",
    "    data_df = data_df.drop(columns=[\"position_x\"])\n",
    "elif (aggregation == True) and (nomic == False):\n",
    "    data_split_path = pathlib.Path(\n",
    "        f\"../0.split_data/indexes/{cell_type}/{MODEL_TYPE}/{control}_{treatment}/aggregated_sc_data_split_indexes.tsv\"\n",
    "    )\n",
    "    data_split_indexes = pd.read_csv(data_split_path, sep=\"\\t\", index_col=0)\n",
    "    # subset each column that contains metadata\n",
    "    metadata = data_df.filter(regex=\"Metadata\")\n",
    "    data_df = data_df.drop(metadata.columns, axis=1)\n",
    "    data_df = pd.concat([data_df, metadata[\"Metadata_Well\"]], axis=1)\n",
    "    # groupby well and take mean of each well\n",
    "    data_df = data_df.groupby(\"Metadata_Well\").mean()\n",
    "    # drop duplicate rows in the metadata_well column\n",
    "    metadata = metadata.drop_duplicates(subset=[\"Metadata_Well\"])\n",
    "    # get the metadata for each well\n",
    "    data_df = pd.merge(\n",
    "        data_df, metadata, left_on=\"Metadata_Well\", right_on=\"Metadata_Well\"\n",
    "    )\n",
    "elif (aggregation == False) and (nomic == True):\n",
    "    data_split_path = pathlib.Path(\n",
    "        f\"../0.split_data/indexes/{cell_type}/{MODEL_TYPE}/{control}_{treatment}/sc_and_nomic_data_split_indexes.tsv\"\n",
    "    )\n",
    "    data_split_indexes = pd.read_csv(data_split_path, sep=\"\\t\", index_col=0)\n",
    "    data_df = pd.merge(\n",
    "        data_df, df_nomic, left_on=\"Metadata_Well\", right_on=\"position_x\"\n",
    "    )\n",
    "    data_df = data_df.drop(columns=[\"position_x\"])\n",
    "elif aggregation == False and nomic == False:\n",
    "    data_split_path = pathlib.Path(\n",
    "        f\"../0.split_data/indexes/{cell_type}/{MODEL_TYPE}/{control}_{treatment}/sc_split_indexes.tsv\"\n",
    "    )\n",
    "    data_split_indexes = pd.read_csv(data_split_path, sep=\"\\t\", index_col=0)\n",
    "else:\n",
    "    print(\"Error\")"
   ]
  },
  {
   "cell_type": "code",
   "execution_count": 6,
   "id": "b2ec11da",
   "metadata": {
    "execution": {
     "iopub.execute_input": "2023-07-22T05:44:22.817688Z",
     "iopub.status.busy": "2023-07-22T05:44:22.816972Z",
     "iopub.status.idle": "2023-07-22T05:44:22.841932Z",
     "shell.execute_reply": "2023-07-22T05:44:22.841519Z"
    },
    "papermill": {
     "duration": 0.028408,
     "end_time": "2023-07-22T05:44:22.842747",
     "exception": false,
     "start_time": "2023-07-22T05:44:22.814339",
     "status": "completed"
    },
    "tags": []
   },
   "outputs": [],
   "source": [
    "# select tht indexes for the training and test set\n",
    "train_indexes = data_split_indexes.loc[data_split_indexes[\"label\"] == \"train\"]"
   ]
  },
  {
   "cell_type": "code",
   "execution_count": 7,
   "id": "10d08adb",
   "metadata": {
    "execution": {
     "iopub.execute_input": "2023-07-22T05:44:22.847339Z",
     "iopub.status.busy": "2023-07-22T05:44:22.846705Z",
     "iopub.status.idle": "2023-07-22T05:44:23.372437Z",
     "shell.execute_reply": "2023-07-22T05:44:23.371833Z"
    },
    "papermill": {
     "duration": 0.529615,
     "end_time": "2023-07-22T05:44:23.373993",
     "exception": false,
     "start_time": "2023-07-22T05:44:22.844378",
     "status": "completed"
    },
    "tags": []
   },
   "outputs": [],
   "source": [
    "# subset data_df by indexes in data_split_indexes\n",
    "training_data = data_df.loc[train_indexes[\"labeled_data_index\"]]"
   ]
  },
  {
   "cell_type": "code",
   "execution_count": 8,
   "id": "5219c9ba",
   "metadata": {
    "execution": {
     "iopub.execute_input": "2023-07-22T05:44:23.378812Z",
     "iopub.status.busy": "2023-07-22T05:44:23.378294Z",
     "iopub.status.idle": "2023-07-22T05:44:23.727187Z",
     "shell.execute_reply": "2023-07-22T05:44:23.726381Z"
    },
    "papermill": {
     "duration": 0.352839,
     "end_time": "2023-07-22T05:44:23.728560",
     "exception": false,
     "start_time": "2023-07-22T05:44:23.375721",
     "status": "completed"
    },
    "tags": []
   },
   "outputs": [],
   "source": [
    "# get oneb_Metadata_Treatment_Dose_Inhibitor_Dose  =='DMSO_0.100_DMSO_0.025' and 'LPS_100.000_DMSO_0.025 and Thapsigargin_10.000_DMSO_0.025'\n",
    "training_data = training_data[\n",
    "    training_data[\"oneb_Metadata_Treatment_Dose_Inhibitor_Dose\"].isin(\n",
    "        [control, treatment]\n",
    "    )\n",
    "]"
   ]
  },
  {
   "cell_type": "code",
   "execution_count": 9,
   "id": "fc7c0f87",
   "metadata": {
    "execution": {
     "iopub.execute_input": "2023-07-22T05:44:23.734194Z",
     "iopub.status.busy": "2023-07-22T05:44:23.733468Z",
     "iopub.status.idle": "2023-07-22T05:44:25.417043Z",
     "shell.execute_reply": "2023-07-22T05:44:25.416597Z"
    },
    "papermill": {
     "duration": 1.687722,
     "end_time": "2023-07-22T05:44:25.418506",
     "exception": false,
     "start_time": "2023-07-22T05:44:23.730784",
     "status": "completed"
    },
    "tags": []
   },
   "outputs": [],
   "source": [
    "# at random downsample the DMSO treatment to match the number of wells in the LPS treatment\n",
    "seed = 0\n",
    "# get the number of wells in the LPS treatment\n",
    "trt_wells = training_data[\n",
    "    training_data[\"oneb_Metadata_Treatment_Dose_Inhibitor_Dose\"] == treatment\n",
    "].shape[0]\n",
    "# get the number of wells in the DMSO treatment\n",
    "dmso_wells = training_data[\n",
    "    training_data[\"oneb_Metadata_Treatment_Dose_Inhibitor_Dose\"] == control\n",
    "].shape[0]\n",
    "# downsample the DMSO treatment to match the number of wells in the LPS treatment\n",
    "dmso_holdout = training_data[\n",
    "    training_data[\"oneb_Metadata_Treatment_Dose_Inhibitor_Dose\"] == control\n",
    "].sample(n=trt_wells, random_state=seed)\n",
    "# remove the downsampled DMSO wells from the data\n",
    "training_data = training_data.drop(dmso_holdout.index)"
   ]
  },
  {
   "cell_type": "code",
   "execution_count": 10,
   "id": "b292a431",
   "metadata": {
    "execution": {
     "iopub.execute_input": "2023-07-22T05:44:25.424681Z",
     "iopub.status.busy": "2023-07-22T05:44:25.424485Z",
     "iopub.status.idle": "2023-07-22T05:44:25.599914Z",
     "shell.execute_reply": "2023-07-22T05:44:25.599440Z"
    },
    "papermill": {
     "duration": 0.179094,
     "end_time": "2023-07-22T05:44:25.601137",
     "exception": false,
     "start_time": "2023-07-22T05:44:25.422043",
     "status": "completed"
    },
    "tags": []
   },
   "outputs": [],
   "source": [
    "# define metadata columns\n",
    "# subset each column that contains metadata\n",
    "metadata = training_data.filter(regex=\"Metadata\")\n",
    "# drop all metadata columns\n",
    "data_x = training_data.drop(metadata.columns, axis=1)\n",
    "labeled_data = training_data[\"oneb_Metadata_Treatment_Dose_Inhibitor_Dose\"]"
   ]
  },
  {
   "cell_type": "code",
   "execution_count": 11,
   "id": "3c5ebac7",
   "metadata": {
    "execution": {
     "iopub.execute_input": "2023-07-22T05:44:25.606376Z",
     "iopub.status.busy": "2023-07-22T05:44:25.606065Z",
     "iopub.status.idle": "2023-07-22T05:52:15.993249Z",
     "shell.execute_reply": "2023-07-22T05:52:15.992682Z"
    },
    "papermill": {
     "duration": 470.393691,
     "end_time": "2023-07-22T05:52:15.997312",
     "exception": false,
     "start_time": "2023-07-22T05:44:25.603621",
     "status": "completed"
    },
    "tags": []
   },
   "outputs": [
    {
     "name": "stdout",
     "output_type": "stream",
     "text": [
      "Parameters being tested during grid search: {'C': array([1.e-03, 1.e-02, 1.e-01, 1.e+00, 1.e+01, 1.e+02, 1.e+03]), 'l1_ratio': array([0. , 0.1, 0.2, 0.3, 0.4, 0.5, 0.6, 0.7, 0.8, 0.9, 1. ])}\n",
      "\n",
      "Training final model on CP features for LPS_100.000_DMSO_0.025 with 3 samples\n",
      "Best parameters: {'C': 0.001, 'l1_ratio': 0.0}\n",
      "Score of best estimator: 1.0\n",
      "\n",
      "Training shuffled_baseline model on CP features for LPS_100.000_DMSO_0.025 with 3 samples\n",
      "Best parameters: {'C': 0.001, 'l1_ratio': 0.0}\n",
      "Score of best estimator: 0.3333333333333333\n",
      "\n"
     ]
    }
   ],
   "source": [
    "# specify model types, feature types, and phenotypic classes\n",
    "model_types = [\"final\", \"shuffled_baseline\"]\n",
    "feature_types = [\"CP\"]\n",
    "phenotypic_classes = [f\"{treatment}\"]\n",
    "# create stratified data sets forLPS k-fold cross validation\n",
    "straified_k_folds = StratifiedKFold(n_splits=3, shuffle=False)\n",
    "\n",
    "# create logistic regression model with following parameters\n",
    "log_reg_model = LogisticRegression(\n",
    "    penalty=\"elasticnet\",\n",
    "    solver=\"saga\",\n",
    "    max_iter=10,\n",
    "    n_jobs=-1,\n",
    "    random_state=0,\n",
    "    class_weight=\"balanced\",\n",
    ")\n",
    "\n",
    "# specify parameters to tune for\n",
    "parameters = {\"C\": np.logspace(-3, 3, 7), \"l1_ratio\": np.linspace(0, 1, 11)}\n",
    "print(f\"Parameters being tested during grid search: {parameters}\\n\")\n",
    "\n",
    "# create grid search with cross validation with hypertuning params\n",
    "grid_search_cv = GridSearchCV(\n",
    "    log_reg_model, parameters, cv=straified_k_folds, n_jobs=-1, scoring=\"f1_weighted\"\n",
    ")\n",
    "\n",
    "# train model on training data on all combinations of model types, feature types, and phenotypic classes\n",
    "for model_type, feature_type, phenotypic_class in itertools.product(\n",
    "    model_types, feature_types, phenotypic_classes\n",
    "):\n",
    "    phenotypic_class_counts = training_data.loc[\n",
    "        training_data[\"oneb_Metadata_Treatment_Dose_Inhibitor_Dose\"] == phenotypic_class\n",
    "    ].shape[0]\n",
    "    print(\n",
    "        f\"Training {model_type} model on {feature_type} features for {phenotypic_class} with {phenotypic_class_counts} samples\"\n",
    "    )\n",
    "\n",
    "    if model_type == \"shuffled_baseline\":\n",
    "        for column in data_x:\n",
    "            np.random.shuffle(data_x[column].values)\n",
    "\n",
    "    with parallel_backend(\"multiprocessing\"):\n",
    "        with warnings.catch_warnings():\n",
    "            warnings.filterwarnings(\n",
    "                \"ignore\", category=ConvergenceWarning, module=\"sklearn\"\n",
    "            )\n",
    "            grid_search_cv = grid_search_cv.fit(data_x, labeled_data)\n",
    "\n",
    "    # print info for best estimator\n",
    "    print(f\"Best parameters: {grid_search_cv.best_params_}\")\n",
    "    print(f\"Score of best estimator: {grid_search_cv.best_score_}\\n\")\n",
    "\n",
    "    if (aggregation == True) and (nomic == True):\n",
    "        results_dir = f\"./models/single_class/{cell_type}/aggregated_with_nomic/{MODEL_TYPE}/{control}__{treatment}\"\n",
    "    elif (aggregation == True) and (nomic == False):\n",
    "        results_dir = f\"./models/single_class/{cell_type}/aggregated/{MODEL_TYPE}/{control}__{treatment}\"\n",
    "    elif (aggregation == False) and (nomic == True):\n",
    "        results_dir = f\"./models/single_class/{cell_type}/sc_with_nomic/{MODEL_TYPE}/{control}__{treatment}\"\n",
    "    elif (aggregation == False) and (nomic == False):\n",
    "        results_dir = (\n",
    "            f\"./models/single_class/{cell_type}/sc/{MODEL_TYPE}/{control}__{treatment}\"\n",
    "        )\n",
    "    else:\n",
    "        print(\"Error\")\n",
    "\n",
    "    # create results directory if it doesn't exist\n",
    "    pathlib.Path(results_dir).mkdir(parents=True, exist_ok=True)\n",
    "\n",
    "    # save final estimator\n",
    "    dump(\n",
    "        grid_search_cv.best_estimator_,\n",
    "        f\"{results_dir}/{model_type}__{feature_type}.joblib\",\n",
    "    )"
   ]
  },
  {
   "cell_type": "code",
   "execution_count": 12,
   "id": "fba3366e",
   "metadata": {
    "execution": {
     "iopub.execute_input": "2023-07-22T05:52:16.002076Z",
     "iopub.status.busy": "2023-07-22T05:52:16.001831Z",
     "iopub.status.idle": "2023-07-22T05:52:16.005238Z",
     "shell.execute_reply": "2023-07-22T05:52:16.004917Z"
    },
    "papermill": {
     "duration": 0.006735,
     "end_time": "2023-07-22T05:52:16.006004",
     "exception": false,
     "start_time": "2023-07-22T05:52:15.999269",
     "status": "completed"
    },
    "tags": []
   },
   "outputs": [],
   "source": [
    "# save condfig copy specific to this model to the folder with the results\n",
    "# use pathlib\n",
    "config_copy_path = pathlib.Path(f\"{results_dir}/{model_type}__{feature_type}.toml\")\n",
    "# write toml file with parameters used from injected parameters\n",
    "with open(config_copy_path, \"a\") as f:\n",
    "    f.write(f\"model_type='{model_type}'\\n\")\n",
    "    f.write(f\"control='{control}'\\n\")\n",
    "    f.write(f\"treatments='{treatment}'\\n\")\n",
    "    f.write(f\"aggregation={aggregation}\\n\")\n",
    "    f.write(f\"nomic={nomic}\\n\")\n",
    "    f.write(f\"cell_type='{cell_type}'\\n\")"
   ]
  }
 ],
 "metadata": {
  "kernelspec": {
   "display_name": "Interstellar",
   "language": "python",
   "name": "python3"
  },
  "language_info": {
   "codemirror_mode": {
    "name": "ipython",
    "version": 3
   },
   "file_extension": ".py",
   "mimetype": "text/x-python",
   "name": "python",
   "nbconvert_exporter": "python",
   "pygments_lexer": "ipython3",
   "version": "3.10.12"
  },
  "papermill": {
   "default_parameters": {},
   "duration": 694.133243,
   "end_time": "2023-07-22T05:52:18.725810",
   "environment_variables": {},
   "exception": null,
   "input_path": "train_single_class.ipynb",
   "output_path": "train_single_class.ipynb",
   "parameters": {
    "aggregation": false,
    "cell_type": "PBMC",
    "control": "DMSO_0.100_DMSO_0.025",
    "flag": true,
    "nomic": false,
    "treatment": "Thapsigargin_1.000_DMSO_0.025"
   },
   "start_time": "2023-07-22T05:40:44.592567",
   "version": "2.4.0"
  },
  "vscode": {
   "interpreter": {
    "hash": "72ae02083a9ca7d143c492d1aec380c7bf553ec51bd66e90e72bba65228121b6"
   }
  }
 },
 "nbformat": 4,
 "nbformat_minor": 5
}
