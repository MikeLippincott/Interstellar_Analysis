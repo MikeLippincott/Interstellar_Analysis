{
 "cells": [
  {
   "cell_type": "code",
   "execution_count": 1,
   "id": "215ce1c1",
   "metadata": {
    "execution": {
     "iopub.execute_input": "2023-07-21T16:19:11.376687Z",
     "iopub.status.busy": "2023-07-21T16:19:11.376062Z",
     "iopub.status.idle": "2023-07-21T16:19:12.028126Z",
     "shell.execute_reply": "2023-07-21T16:19:12.027632Z"
    },
    "papermill": {
     "duration": 0.657482,
     "end_time": "2023-07-21T16:19:12.029572",
     "exception": false,
     "start_time": "2023-07-21T16:19:11.372090",
     "status": "completed"
    },
    "tags": []
   },
   "outputs": [],
   "source": [
    "import pyarrow.parquet as pq\n",
    "import pandas as pd\n",
    "import numpy as np\n",
    "import pathlib\n",
    "import warnings\n",
    "\n",
    "from sklearn.utils import shuffle, parallel_backend\n",
    "from sklearn.exceptions import ConvergenceWarning\n",
    "from joblib import dump\n",
    "\n",
    "from sklearn.model_selection import train_test_split\n",
    "from sklearn.linear_model import LogisticRegression\n",
    "from sklearn.model_selection import (\n",
    "    StratifiedKFold,\n",
    "    GridSearchCV,\n",
    ")\n",
    "import toml\n",
    "import ast\n",
    "import itertools\n",
    "import sys"
   ]
  },
  {
   "cell_type": "code",
   "execution_count": 2,
   "id": "85dbc313",
   "metadata": {
    "execution": {
     "iopub.execute_input": "2023-07-21T16:19:12.035539Z",
     "iopub.status.busy": "2023-07-21T16:19:12.035235Z",
     "iopub.status.idle": "2023-07-21T16:19:12.039194Z",
     "shell.execute_reply": "2023-07-21T16:19:12.038507Z"
    },
    "papermill": {
     "duration": 0.008121,
     "end_time": "2023-07-21T16:19:12.040301",
     "exception": false,
     "start_time": "2023-07-21T16:19:12.032180",
     "status": "completed"
    },
    "tags": [
     "injected-parameters"
    ]
   },
   "outputs": [],
   "source": [
    "# Parameters\n",
    "cell_type = \"SHSY5Y\"\n",
    "aggregation = False\n",
    "nomic = False\n",
    "flag = True\n",
    "control = \"DMSO_0.100_DMSO_0.025\"\n",
    "treatment = \"Thapsigargin_1.000_DMSO_0.025\""
   ]
  },
  {
   "cell_type": "code",
   "execution_count": 3,
   "id": "c9fbea76",
   "metadata": {
    "execution": {
     "iopub.execute_input": "2023-07-21T16:19:12.046023Z",
     "iopub.status.busy": "2023-07-21T16:19:12.045803Z",
     "iopub.status.idle": "2023-07-21T16:19:12.050264Z",
     "shell.execute_reply": "2023-07-21T16:19:12.049596Z"
    },
    "papermill": {
     "duration": 0.008755,
     "end_time": "2023-07-21T16:19:12.051332",
     "exception": false,
     "start_time": "2023-07-21T16:19:12.042577",
     "status": "completed"
    },
    "tags": []
   },
   "outputs": [],
   "source": [
    "if flag == False:\n",
    "    # read in toml file and get parameters\n",
    "    toml_path = pathlib.Path(\"single_class_config.toml\")\n",
    "    with open(toml_path, \"r\") as f:\n",
    "        config = toml.load(f)\n",
    "    f.close()\n",
    "    control = config[\"logistic_regression_params\"][\"control\"]\n",
    "    treatment = config[\"logistic_regression_params\"][\"treatments\"]\n",
    "    aggregation = ast.literal_eval(config[\"logistic_regression_params\"][\"aggregation\"])\n",
    "    nomic = ast.literal_eval(config[\"logistic_regression_params\"][\"nomic\"])\n",
    "    cell_type = config[\"logistic_regression_params\"][\"cell_type\"]"
   ]
  },
  {
   "cell_type": "code",
   "execution_count": 4,
   "id": "1261124d",
   "metadata": {
    "execution": {
     "iopub.execute_input": "2023-07-21T16:19:12.056679Z",
     "iopub.status.busy": "2023-07-21T16:19:12.056482Z",
     "iopub.status.idle": "2023-07-21T16:19:14.285083Z",
     "shell.execute_reply": "2023-07-21T16:19:14.283733Z"
    },
    "papermill": {
     "duration": 2.233646,
     "end_time": "2023-07-21T16:19:14.287277",
     "exception": false,
     "start_time": "2023-07-21T16:19:12.053631",
     "status": "completed"
    },
    "tags": []
   },
   "outputs": [],
   "source": [
    "# load training data from indexes and features dataframe\n",
    "# data_split_path = pathlib.Path(f\"../0.split_data/indexes/data_split_indexes.tsv\")\n",
    "data_path = pathlib.Path(f\"../../data/{cell_type}_preprocessed_sc_norm.parquet\")\n",
    "\n",
    "# dataframe with only the labeled data we want (exclude certain phenotypic classes)\n",
    "data_df = pq.read_table(data_path).to_pandas()\n",
    "\n",
    "# import nomic data\n",
    "nomic_df_path = pathlib.Path(\n",
    "    f\"../../2.Nomic_nELISA_Analysis/Data/clean/Plate2/nELISA_plate_430420_{cell_type}.csv\"\n",
    ")\n",
    "df_nomic = pd.read_csv(nomic_df_path)\n",
    "\n",
    "# clean up nomic data\n",
    "df_nomic = df_nomic.drop(columns=[col for col in df_nomic.columns if \"[pgML]\" in col])\n",
    "# drop first 25 columns (Metadata that is not needed)\n",
    "df_nomic = df_nomic.drop(columns=df_nomic.columns[3:25])\n",
    "df_nomic = df_nomic.drop(columns=df_nomic.columns[0:2])"
   ]
  },
  {
   "cell_type": "code",
   "execution_count": 5,
   "id": "bf794861",
   "metadata": {
    "execution": {
     "iopub.execute_input": "2023-07-21T16:19:14.295491Z",
     "iopub.status.busy": "2023-07-21T16:19:14.295204Z",
     "iopub.status.idle": "2023-07-21T16:19:14.437886Z",
     "shell.execute_reply": "2023-07-21T16:19:14.437317Z"
    },
    "papermill": {
     "duration": 0.149189,
     "end_time": "2023-07-21T16:19:14.440152",
     "exception": false,
     "start_time": "2023-07-21T16:19:14.290963",
     "status": "completed"
    },
    "tags": []
   },
   "outputs": [],
   "source": [
    "if (aggregation == True) and (nomic == True):\n",
    "    data_split_path = pathlib.Path(\n",
    "        f\"../0.split_data/indexes/{cell_type}/{control}_{treatment}/aggregated_sc_and_nomic_data_split_indexes.tsv\"\n",
    "    )\n",
    "    data_split_indexes = pd.read_csv(data_split_path, sep=\"\\t\", index_col=0)\n",
    "    # subset each column that contains metadata\n",
    "    metadata = data_df.filter(regex=\"Metadata\")\n",
    "    data_df = data_df.drop(metadata.columns, axis=1)\n",
    "    data_df = pd.concat([data_df, metadata[\"Metadata_Well\"]], axis=1)\n",
    "    # groupby well and take mean of each well\n",
    "    data_df = data_df.groupby(\"Metadata_Well\").mean()\n",
    "    # drop duplicate rows in the metadata_well column\n",
    "    metadata = metadata.drop_duplicates(subset=[\"Metadata_Well\"])\n",
    "    # get the metadata for each well\n",
    "    data_df = pd.merge(\n",
    "        data_df, metadata, left_on=\"Metadata_Well\", right_on=\"Metadata_Well\"\n",
    "    )\n",
    "    data_df = pd.merge(\n",
    "        data_df, df_nomic, left_on=\"Metadata_Well\", right_on=\"position_x\"\n",
    "    )\n",
    "    data_df = data_df.drop(columns=[\"position_x\"])\n",
    "elif (aggregation == True) and (nomic == False):\n",
    "    data_split_path = pathlib.Path(\n",
    "        f\"../0.split_data/indexes/{cell_type}/{control}_{treatment}/aggregated_sc_data_split_indexes.tsv\"\n",
    "    )\n",
    "    data_split_indexes = pd.read_csv(data_split_path, sep=\"\\t\", index_col=0)\n",
    "    # subset each column that contains metadata\n",
    "    metadata = data_df.filter(regex=\"Metadata\")\n",
    "    data_df = data_df.drop(metadata.columns, axis=1)\n",
    "    data_df = pd.concat([data_df, metadata[\"Metadata_Well\"]], axis=1)\n",
    "    # groupby well and take mean of each well\n",
    "    data_df = data_df.groupby(\"Metadata_Well\").mean()\n",
    "    # drop duplicate rows in the metadata_well column\n",
    "    metadata = metadata.drop_duplicates(subset=[\"Metadata_Well\"])\n",
    "    # get the metadata for each well\n",
    "    data_df = pd.merge(\n",
    "        data_df, metadata, left_on=\"Metadata_Well\", right_on=\"Metadata_Well\"\n",
    "    )\n",
    "elif (aggregation == False) and (nomic == True):\n",
    "    data_split_path = pathlib.Path(\n",
    "        f\"../0.split_data/indexes/{cell_type}/{control}_{treatment}/sc_and_nomic_data_split_indexes.tsv\"\n",
    "    )\n",
    "    data_split_indexes = pd.read_csv(data_split_path, sep=\"\\t\", index_col=0)\n",
    "    data_df = pd.merge(\n",
    "        data_df, df_nomic, left_on=\"Metadata_Well\", right_on=\"position_x\"\n",
    "    )\n",
    "    data_df = data_df.drop(columns=[\"position_x\"])\n",
    "elif aggregation == False and nomic == False:\n",
    "    data_split_path = pathlib.Path(\n",
    "        f\"../0.split_data/indexes/{cell_type}/{control}_{treatment}/sc_split_indexes.tsv\"\n",
    "    )\n",
    "    data_split_indexes = pd.read_csv(data_split_path, sep=\"\\t\", index_col=0)\n",
    "else:\n",
    "    print(\"Error\")"
   ]
  },
  {
   "cell_type": "code",
   "execution_count": 6,
   "id": "b2ec11da",
   "metadata": {
    "execution": {
     "iopub.execute_input": "2023-07-21T16:19:14.451876Z",
     "iopub.status.busy": "2023-07-21T16:19:14.451348Z",
     "iopub.status.idle": "2023-07-21T16:19:14.463607Z",
     "shell.execute_reply": "2023-07-21T16:19:14.462512Z"
    },
    "papermill": {
     "duration": 0.020472,
     "end_time": "2023-07-21T16:19:14.465592",
     "exception": false,
     "start_time": "2023-07-21T16:19:14.445120",
     "status": "completed"
    },
    "tags": []
   },
   "outputs": [],
   "source": [
    "# select tht indexes for the training and test set\n",
    "train_indexes = data_split_indexes.loc[data_split_indexes[\"label\"] == \"train\"]"
   ]
  },
  {
   "cell_type": "code",
   "execution_count": 7,
   "id": "10d08adb",
   "metadata": {
    "execution": {
     "iopub.execute_input": "2023-07-21T16:19:14.473065Z",
     "iopub.status.busy": "2023-07-21T16:19:14.472325Z",
     "iopub.status.idle": "2023-07-21T16:19:14.599364Z",
     "shell.execute_reply": "2023-07-21T16:19:14.598758Z"
    },
    "papermill": {
     "duration": 0.133809,
     "end_time": "2023-07-21T16:19:14.602080",
     "exception": false,
     "start_time": "2023-07-21T16:19:14.468271",
     "status": "completed"
    },
    "tags": []
   },
   "outputs": [],
   "source": [
    "# subset data_df by indexes in data_split_indexes\n",
    "training_data = data_df.loc[train_indexes[\"labeled_data_index\"]]"
   ]
  },
  {
   "cell_type": "code",
   "execution_count": 8,
   "id": "5219c9ba",
   "metadata": {
    "execution": {
     "iopub.execute_input": "2023-07-21T16:19:14.616606Z",
     "iopub.status.busy": "2023-07-21T16:19:14.616235Z",
     "iopub.status.idle": "2023-07-21T16:19:14.767968Z",
     "shell.execute_reply": "2023-07-21T16:19:14.767066Z"
    },
    "papermill": {
     "duration": 0.161284,
     "end_time": "2023-07-21T16:19:14.769923",
     "exception": false,
     "start_time": "2023-07-21T16:19:14.608639",
     "status": "completed"
    },
    "tags": []
   },
   "outputs": [],
   "source": [
    "# get oneb_Metadata_Treatment_Dose_Inhibitor_Dose  =='DMSO_0.100_DMSO_0.025' and 'LPS_100.000_DMSO_0.025 and Thapsigargin_10.000_DMSO_0.025'\n",
    "training_data = training_data[\n",
    "    training_data[\"oneb_Metadata_Treatment_Dose_Inhibitor_Dose\"].isin(\n",
    "        [control, treatment]\n",
    "    )\n",
    "]"
   ]
  },
  {
   "cell_type": "code",
   "execution_count": 9,
   "id": "fc7c0f87",
   "metadata": {
    "execution": {
     "iopub.execute_input": "2023-07-21T16:19:14.778645Z",
     "iopub.status.busy": "2023-07-21T16:19:14.778327Z",
     "iopub.status.idle": "2023-07-21T16:19:15.261172Z",
     "shell.execute_reply": "2023-07-21T16:19:15.260308Z"
    },
    "papermill": {
     "duration": 0.489863,
     "end_time": "2023-07-21T16:19:15.263492",
     "exception": false,
     "start_time": "2023-07-21T16:19:14.773629",
     "status": "completed"
    },
    "tags": []
   },
   "outputs": [],
   "source": [
    "# at random downsample the DMSO treatment to match the number of wells in the LPS treatment\n",
    "seed = 0\n",
    "# get the number of wells in the LPS treatment\n",
    "trt_wells = training_data[\n",
    "    training_data[\"oneb_Metadata_Treatment_Dose_Inhibitor_Dose\"] == treatment\n",
    "].shape[0]\n",
    "# get the number of wells in the DMSO treatment\n",
    "dmso_wells = training_data[\n",
    "    training_data[\"oneb_Metadata_Treatment_Dose_Inhibitor_Dose\"] == control\n",
    "].shape[0]\n",
    "# downsample the DMSO treatment to match the number of wells in the LPS treatment\n",
    "dmso_holdout = training_data[\n",
    "    training_data[\"oneb_Metadata_Treatment_Dose_Inhibitor_Dose\"] == control\n",
    "].sample(n=trt_wells, random_state=seed)\n",
    "# remove the downsampled DMSO wells from the data\n",
    "training_data = training_data.drop(dmso_holdout.index)"
   ]
  },
  {
   "cell_type": "code",
   "execution_count": 10,
   "id": "b292a431",
   "metadata": {
    "execution": {
     "iopub.execute_input": "2023-07-21T16:19:15.273250Z",
     "iopub.status.busy": "2023-07-21T16:19:15.272952Z",
     "iopub.status.idle": "2023-07-21T16:19:15.335405Z",
     "shell.execute_reply": "2023-07-21T16:19:15.334638Z"
    },
    "papermill": {
     "duration": 0.06912,
     "end_time": "2023-07-21T16:19:15.337250",
     "exception": false,
     "start_time": "2023-07-21T16:19:15.268130",
     "status": "completed"
    },
    "tags": []
   },
   "outputs": [],
   "source": [
    "# define metadata columns\n",
    "# subset each column that contains metadata\n",
    "metadata = training_data.filter(regex=\"Metadata\")\n",
    "# drop all metadata columns\n",
    "data_x = training_data.drop(metadata.columns, axis=1)\n",
    "labeled_data = training_data[\"oneb_Metadata_Treatment_Dose_Inhibitor_Dose\"]"
   ]
  },
  {
   "cell_type": "code",
   "execution_count": 11,
   "id": "3c5ebac7",
   "metadata": {
    "execution": {
     "iopub.execute_input": "2023-07-21T16:19:15.347219Z",
     "iopub.status.busy": "2023-07-21T16:19:15.346924Z",
     "iopub.status.idle": "2023-07-21T16:22:40.047040Z",
     "shell.execute_reply": "2023-07-21T16:22:40.046108Z"
    },
    "papermill": {
     "duration": 204.709631,
     "end_time": "2023-07-21T16:22:40.051283",
     "exception": false,
     "start_time": "2023-07-21T16:19:15.341652",
     "status": "completed"
    },
    "tags": []
   },
   "outputs": [
    {
     "name": "stdout",
     "output_type": "stream",
     "text": [
      "Parameters being tested during grid search: {'C': array([1.e-03, 1.e-02, 1.e-01, 1.e+00, 1.e+01, 1.e+02, 1.e+03]), 'l1_ratio': array([0. , 0.1, 0.2, 0.3, 0.4, 0.5, 0.6, 0.7, 0.8, 0.9, 1. ])}\n",
      "\n",
      "Training final model on CP features for Thapsigargin_1.000_DMSO_0.025 with 10324 samples\n"
     ]
    },
    {
     "name": "stdout",
     "output_type": "stream",
     "text": [
      "Best parameters: {'C': 0.001, 'l1_ratio': 0.7000000000000001}\n",
      "Score of best estimator: 0.7490071144764875\n",
      "\n",
      "Training shuffled_baseline model on CP features for Thapsigargin_1.000_DMSO_0.025 with 10324 samples\n"
     ]
    },
    {
     "name": "stdout",
     "output_type": "stream",
     "text": [
      "Best parameters: {'C': 0.01, 'l1_ratio': 0.30000000000000004}\n",
      "Score of best estimator: 0.512871546508426\n",
      "\n"
     ]
    }
   ],
   "source": [
    "# specify model types, feature types, and phenotypic classes\n",
    "model_types = [\"final\", \"shuffled_baseline\"]\n",
    "feature_types = [\"CP\"]\n",
    "phenotypic_classes = [f\"{treatment}\"]\n",
    "# create stratified data sets forLPS k-fold cross validation\n",
    "straified_k_folds = StratifiedKFold(n_splits=3, shuffle=False)\n",
    "\n",
    "# create logistic regression model with following parameters\n",
    "log_reg_model = LogisticRegression(\n",
    "    penalty=\"elasticnet\",\n",
    "    solver=\"saga\",\n",
    "    max_iter=10,\n",
    "    n_jobs=-1,\n",
    "    random_state=0,\n",
    "    class_weight=\"balanced\",\n",
    ")\n",
    "\n",
    "# specify parameters to tune for\n",
    "parameters = {\"C\": np.logspace(-3, 3, 7), \"l1_ratio\": np.linspace(0, 1, 11)}\n",
    "print(f\"Parameters being tested during grid search: {parameters}\\n\")\n",
    "\n",
    "# create grid search with cross validation with hypertuning params\n",
    "grid_search_cv = GridSearchCV(\n",
    "    log_reg_model, parameters, cv=straified_k_folds, n_jobs=-1, scoring=\"f1_weighted\"\n",
    ")\n",
    "\n",
    "# train model on training data on all combinations of model types, feature types, and phenotypic classes\n",
    "for model_type, feature_type, phenotypic_class in itertools.product(\n",
    "    model_types, feature_types, phenotypic_classes\n",
    "):\n",
    "    phenotypic_class_counts = training_data.loc[\n",
    "        training_data[\"oneb_Metadata_Treatment_Dose_Inhibitor_Dose\"] == phenotypic_class\n",
    "    ].shape[0]\n",
    "    print(\n",
    "        f\"Training {model_type} model on {feature_type} features for {phenotypic_class} with {phenotypic_class_counts} samples\"\n",
    "    )\n",
    "\n",
    "    if model_type == \"shuffled_baseline\":\n",
    "        for column in data_x:\n",
    "            np.random.shuffle(data_x[column].values)\n",
    "\n",
    "    with parallel_backend(\"multiprocessing\"):\n",
    "        with warnings.catch_warnings():\n",
    "            warnings.filterwarnings(\n",
    "                \"ignore\", category=ConvergenceWarning, module=\"sklearn\"\n",
    "            )\n",
    "            grid_search_cv = grid_search_cv.fit(data_x, labeled_data)\n",
    "\n",
    "    # print info for best estimator\n",
    "    print(f\"Best parameters: {grid_search_cv.best_params_}\")\n",
    "    print(f\"Score of best estimator: {grid_search_cv.best_score_}\\n\")\n",
    "\n",
    "    if (aggregation == True) and (nomic == True):\n",
    "        results_dir = f\"./models/single_class/{cell_type}/aggregated_with_nomic/{control}__{treatment}\"\n",
    "    elif (aggregation == True) and (nomic == False):\n",
    "        results_dir = (\n",
    "            f\"./models/single_class/{cell_type}/aggregated/{control}__{treatment}\"\n",
    "        )\n",
    "    elif (aggregation == False) and (nomic == True):\n",
    "        results_dir = (\n",
    "            f\"./models/single_class/{cell_type}/sc_with_nomic/{control}__{treatment}\"\n",
    "        )\n",
    "    elif (aggregation == False) and (nomic == False):\n",
    "        results_dir = f\"./models/single_class/{cell_type}/sc/{control}__{treatment}\"\n",
    "    else:\n",
    "        print(\"Error\")\n",
    "\n",
    "    # create results directory if it doesn't exist\n",
    "    pathlib.Path(results_dir).mkdir(parents=True, exist_ok=True)\n",
    "\n",
    "    # save final estimator\n",
    "    dump(\n",
    "        grid_search_cv.best_estimator_,\n",
    "        f\"{results_dir}/{model_type}__{feature_type}.joblib\",\n",
    "    )"
   ]
  },
  {
   "cell_type": "code",
   "execution_count": 12,
   "id": "fba3366e",
   "metadata": {
    "execution": {
     "iopub.execute_input": "2023-07-21T16:22:40.061246Z",
     "iopub.status.busy": "2023-07-21T16:22:40.060670Z",
     "iopub.status.idle": "2023-07-21T16:22:40.067384Z",
     "shell.execute_reply": "2023-07-21T16:22:40.066588Z"
    },
    "papermill": {
     "duration": 0.013479,
     "end_time": "2023-07-21T16:22:40.068955",
     "exception": false,
     "start_time": "2023-07-21T16:22:40.055476",
     "status": "completed"
    },
    "tags": []
   },
   "outputs": [],
   "source": [
    "# save condfig copy specific to this model to the folder with the results\n",
    "# use pathlib\n",
    "config_copy_path = pathlib.Path(f\"{results_dir}/{model_type}__{feature_type}.toml\")\n",
    "# write toml file with parameters used from injected parameters\n",
    "with open(config_copy_path, \"a\") as f:\n",
    "    f.write(f\"model_type='{model_type}'\\n\")\n",
    "    f.write(f\"control='{control}'\\n\")\n",
    "    f.write(f\"treatments='{treatment}'\\n\")\n",
    "    f.write(f\"aggregation={aggregation}\\n\")\n",
    "    f.write(f\"nomic={nomic}\\n\")\n",
    "    f.write(f\"cell_type='{cell_type}'\\n\")\n",
    "f.close()"
   ]
  }
 ],
 "metadata": {
  "kernelspec": {
   "display_name": "Interstellar",
   "language": "python",
   "name": "python3"
  },
  "language_info": {
   "codemirror_mode": {
    "name": "ipython",
    "version": 3
   },
   "file_extension": ".py",
   "mimetype": "text/x-python",
   "name": "python",
   "nbconvert_exporter": "python",
   "pygments_lexer": "ipython3",
   "version": "3.10.12"
  },
  "papermill": {
   "default_parameters": {},
   "duration": 212.549807,
   "end_time": "2023-07-21T16:22:42.994120",
   "environment_variables": {},
   "exception": null,
   "input_path": "train_single_class.ipynb",
   "output_path": "train_single_class.ipynb",
   "parameters": {
    "aggregation": false,
    "cell_type": "SHSY5Y",
    "control": "DMSO_0.100_DMSO_0.025",
    "flag": true,
    "nomic": false,
    "treatment": "Thapsigargin_1.000_DMSO_0.025"
   },
   "start_time": "2023-07-21T16:19:10.444313",
   "version": "2.4.0"
  },
  "vscode": {
   "interpreter": {
    "hash": "72ae02083a9ca7d143c492d1aec380c7bf553ec51bd66e90e72bba65228121b6"
   }
  }
 },
 "nbformat": 4,
 "nbformat_minor": 5
}