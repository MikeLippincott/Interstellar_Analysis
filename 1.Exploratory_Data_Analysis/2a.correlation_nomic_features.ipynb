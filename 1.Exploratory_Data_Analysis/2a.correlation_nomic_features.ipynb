{
 "cells": [
  {
   "attachments": {},
   "cell_type": "markdown",
   "id": "935847dc",
   "metadata": {
    "papermill": {
     "duration": 0.003667,
     "end_time": "2023-07-27T14:32:52.860098",
     "exception": false,
     "start_time": "2023-07-27T14:32:52.856431",
     "status": "completed"
    },
    "tags": []
   },
   "source": [
    "# Correlation of Nomic Features\n",
    "Each nELISA features in used for the correlation of the wells.\n",
    "The correlation of the aggregated features is calculated per:\n",
    "* well\n",
    "* per treatment\n",
    "* per selected treatment"
   ]
  },
  {
   "cell_type": "code",
   "execution_count": 1,
   "id": "fa0d3c82",
   "metadata": {
    "execution": {
     "iopub.execute_input": "2023-07-27T14:32:52.868059Z",
     "iopub.status.busy": "2023-07-27T14:32:52.867485Z",
     "iopub.status.idle": "2023-07-27T14:32:53.959811Z",
     "shell.execute_reply": "2023-07-27T14:32:53.959101Z"
    },
    "papermill": {
     "duration": 1.098581,
     "end_time": "2023-07-27T14:32:53.961946",
     "exception": false,
     "start_time": "2023-07-27T14:32:52.863365",
     "status": "completed"
    },
    "tags": []
   },
   "outputs": [],
   "source": [
    "import pathlib\n",
    "\n",
    "import numpy as np\n",
    "import pandas as pd"
   ]
  },
  {
   "cell_type": "code",
   "execution_count": 2,
   "id": "e5e14a47",
   "metadata": {
    "execution": {
     "iopub.execute_input": "2023-07-27T14:32:53.972636Z",
     "iopub.status.busy": "2023-07-27T14:32:53.972220Z",
     "iopub.status.idle": "2023-07-27T14:32:53.975038Z",
     "shell.execute_reply": "2023-07-27T14:32:53.974446Z"
    },
    "papermill": {
     "duration": 0.009885,
     "end_time": "2023-07-27T14:32:53.976897",
     "exception": false,
     "start_time": "2023-07-27T14:32:53.967012",
     "status": "completed"
    },
    "tags": [
     "injected-parameters"
    ]
   },
   "outputs": [],
   "source": [
    "# Parameters\n",
    "cell_type = \"PBMC\""
   ]
  },
  {
   "cell_type": "code",
   "execution_count": 3,
   "id": "4fc48cc6",
   "metadata": {
    "execution": {
     "iopub.execute_input": "2023-07-27T14:32:53.988984Z",
     "iopub.status.busy": "2023-07-27T14:32:53.988566Z",
     "iopub.status.idle": "2023-07-27T14:32:54.017367Z",
     "shell.execute_reply": "2023-07-27T14:32:54.016864Z"
    },
    "papermill": {
     "duration": 0.035632,
     "end_time": "2023-07-27T14:32:54.018775",
     "exception": false,
     "start_time": "2023-07-27T14:32:53.983143",
     "status": "completed"
    },
    "tags": []
   },
   "outputs": [],
   "source": [
    "# set import data paths\n",
    "nomic_df_path = pathlib.Path(\n",
    "    f\"../2.Nomic_nELISA_Analysis/Data/clean/Plate2/nELISA_plate_430420_{cell_type}.csv\"\n",
    ")\n",
    "\n",
    "# read in data\n",
    "nomic_df_raw = pd.read_csv(nomic_df_path)"
   ]
  },
  {
   "cell_type": "code",
   "execution_count": 4,
   "id": "4923247c",
   "metadata": {
    "execution": {
     "iopub.execute_input": "2023-07-27T14:32:54.026302Z",
     "iopub.status.busy": "2023-07-27T14:32:54.025943Z",
     "iopub.status.idle": "2023-07-27T14:32:54.037857Z",
     "shell.execute_reply": "2023-07-27T14:32:54.036803Z"
    },
    "papermill": {
     "duration": 0.018287,
     "end_time": "2023-07-27T14:32:54.040335",
     "exception": false,
     "start_time": "2023-07-27T14:32:54.022048",
     "status": "completed"
    },
    "tags": []
   },
   "outputs": [],
   "source": [
    "# remove column if colname has pgml in it\n",
    "nomic_df = nomic_df_raw.loc[\n",
    "    :, ~nomic_df_raw.columns.str.contains(\"pgml\", case=False, na=False)\n",
    "]\n",
    "# if column does not contain [NSU] then prefix with Metadata_\n",
    "for col in nomic_df.columns:\n",
    "    if not any(x in col for x in [\"NSU\"]):\n",
    "        nomic_df = nomic_df.rename(columns={col: \"Metadata_\" + col})"
   ]
  },
  {
   "cell_type": "code",
   "execution_count": 5,
   "id": "b7bd9e1f",
   "metadata": {
    "execution": {
     "iopub.execute_input": "2023-07-27T14:32:54.053580Z",
     "iopub.status.busy": "2023-07-27T14:32:54.053100Z",
     "iopub.status.idle": "2023-07-27T14:32:54.073973Z",
     "shell.execute_reply": "2023-07-27T14:32:54.073203Z"
    },
    "papermill": {
     "duration": 0.028918,
     "end_time": "2023-07-27T14:32:54.075657",
     "exception": false,
     "start_time": "2023-07-27T14:32:54.046739",
     "status": "completed"
    },
    "tags": []
   },
   "outputs": [],
   "source": [
    "## Clean up df\n",
    "# remove uM in each row of the Metadata_inducer1_concentration column if it is present\n",
    "# if \"inducer1_concentration_value\" in nomic_df.columns:\n",
    "#     nomic_df[\"inducer1_concentration_value\"] = nomic_df[\n",
    "#         \"inducer1_concentration_value\"\n",
    "#     ].str.replace(\"µM\", \"\")\n",
    "# replace nan values with 0\n",
    "nomic_df[\"Metadata_inducer1_concentration_value\"] = nomic_df[\n",
    "    \"Metadata_inducer1_concentration_value\"\n",
    "].fillna(0)\n",
    "nomic_df[\"Metadata_inducer2_concentration_value\"] = nomic_df[\n",
    "    \"Metadata_inducer2_concentration_value\"\n",
    "].fillna(0)\n",
    "nomic_df[\"Metadata_inhibitor_concentration_value\"] = nomic_df[\n",
    "    \"Metadata_inhibitor_concentration_value\"\n",
    "].fillna(0)\n",
    "# treatment column merge\n",
    "conditions = [\n",
    "    (nomic_df[\"Metadata_inducer2\"].isnull()),\n",
    "    nomic_df[\"Metadata_inducer2\"].notnull(),\n",
    "]\n",
    "results = [\n",
    "    (nomic_df[\"Metadata_inducer1\"]).astype(str),\n",
    "    (nomic_df[\"Metadata_inducer1\"] + \"_\" + nomic_df[\"Metadata_inducer2\"]).astype(str),\n",
    "]\n",
    "nomic_df[\"Metadata_Treatment\"] = np.select(condlist=conditions, choicelist=results)\n",
    "\n",
    "# dose column merge\n",
    "conditions = [\n",
    "    (nomic_df[\"Metadata_inducer2\"].isnull()),\n",
    "    nomic_df[\"Metadata_inducer2\"].notnull(),\n",
    "]\n",
    "\n",
    "results = [\n",
    "    (nomic_df[\"Metadata_inducer1_concentration_value\"].astype(str)).astype(str),\n",
    "    (\n",
    "        nomic_df[\"Metadata_inducer1_concentration_value\"].astype(str)\n",
    "        + \"_\"\n",
    "        + nomic_df[\"Metadata_inducer2_concentration_value\"].astype(str)\n",
    "    ).astype(str),\n",
    "]\n",
    "nomic_df[\"Metadata_Dose\"] = np.select(condlist=conditions, choicelist=results)\n",
    "nomic_df[\"Metadata_inducer1_concentration_value\"] = pd.to_numeric(\n",
    "    nomic_df[\"Metadata_inducer1_concentration_value\"]\n",
    ")\n",
    "# one beta of inudcer1, inducer1 concentration, inhibitor, and inhibitor concentration all as 1 beta term\n",
    "nomic_df[\"oneb_Metadata_Treatment_Dose_Inhibitor_Dose\"] = (\n",
    "    nomic_df[\"Metadata_Treatment\"]\n",
    "    + \"_\"\n",
    "    + nomic_df[\"Metadata_Dose\"].astype(str)\n",
    "    + \"_\"\n",
    "    + nomic_df[\"Metadata_inhibitor\"].astype(str)\n",
    "    + \"_\"\n",
    "    + nomic_df[\"Metadata_inhibitor_concentration_value\"].astype(str)\n",
    ").astype(str)"
   ]
  },
  {
   "cell_type": "code",
   "execution_count": 6,
   "id": "f6cae934",
   "metadata": {
    "execution": {
     "iopub.execute_input": "2023-07-27T14:32:54.085277Z",
     "iopub.status.busy": "2023-07-27T14:32:54.084921Z",
     "iopub.status.idle": "2023-07-27T14:32:54.097080Z",
     "shell.execute_reply": "2023-07-27T14:32:54.096391Z"
    },
    "papermill": {
     "duration": 0.018068,
     "end_time": "2023-07-27T14:32:54.098625",
     "exception": false,
     "start_time": "2023-07-27T14:32:54.080557",
     "status": "completed"
    },
    "tags": []
   },
   "outputs": [],
   "source": [
    "nomic_cleaned = nomic_df.copy()\n",
    "# drop first column of metadata\n",
    "nomic_df.columns[3:25]\n",
    "nomic_df = nomic_df.drop(nomic_df.columns[3:25], axis=1)\n",
    "nomic_df = nomic_df.drop(nomic_df.columns[0:2], axis=1)\n",
    "nomic_df.drop(nomic_df.columns[0], axis=1, inplace=True)\n",
    "# drop Metadata_Dose column\n",
    "nomic_df = nomic_df.drop([\"Metadata_Dose\"], axis=1)\n",
    "nomic_df = nomic_df.drop([\"Metadata_Treatment\"], axis=1)\n",
    "nomic_df = nomic_df.drop([\"oneb_Metadata_Treatment_Dose_Inhibitor_Dose\"], axis=1)"
   ]
  },
  {
   "attachments": {},
   "cell_type": "markdown",
   "id": "cb13a299",
   "metadata": {
    "papermill": {
     "duration": 0.003252,
     "end_time": "2023-07-27T14:32:54.105312",
     "exception": false,
     "start_time": "2023-07-27T14:32:54.102060",
     "status": "completed"
    },
    "tags": []
   },
   "source": [
    "# Normalization of Values"
   ]
  },
  {
   "cell_type": "code",
   "execution_count": 7,
   "id": "5a106611",
   "metadata": {
    "execution": {
     "iopub.execute_input": "2023-07-27T14:32:54.113434Z",
     "iopub.status.busy": "2023-07-27T14:32:54.112946Z",
     "iopub.status.idle": "2023-07-27T14:32:54.153847Z",
     "shell.execute_reply": "2023-07-27T14:32:54.153154Z"
    },
    "papermill": {
     "duration": 0.046841,
     "end_time": "2023-07-27T14:32:54.155401",
     "exception": false,
     "start_time": "2023-07-27T14:32:54.108560",
     "status": "completed"
    },
    "tags": []
   },
   "outputs": [],
   "source": [
    "# min-max normalization of nomic data from scipy\n",
    "from sklearn.preprocessing import MinMaxScaler\n",
    "\n",
    "scaler = MinMaxScaler()\n",
    "nomic_df = pd.DataFrame(scaler.fit_transform(nomic_df), columns=nomic_df.columns)"
   ]
  },
  {
   "cell_type": "code",
   "execution_count": 8,
   "id": "b3ccaa21",
   "metadata": {
    "execution": {
     "iopub.execute_input": "2023-07-27T14:32:54.164248Z",
     "iopub.status.busy": "2023-07-27T14:32:54.163576Z",
     "iopub.status.idle": "2023-07-27T14:32:54.397884Z",
     "shell.execute_reply": "2023-07-27T14:32:54.397399Z"
    },
    "papermill": {
     "duration": 0.240789,
     "end_time": "2023-07-27T14:32:54.399469",
     "exception": false,
     "start_time": "2023-07-27T14:32:54.158680",
     "status": "completed"
    },
    "tags": []
   },
   "outputs": [
    {
     "data": {
      "text/html": [
       "<div>\n",
       "<style scoped>\n",
       "    .dataframe tbody tr th:only-of-type {\n",
       "        vertical-align: middle;\n",
       "    }\n",
       "\n",
       "    .dataframe tbody tr th {\n",
       "        vertical-align: top;\n",
       "    }\n",
       "\n",
       "    .dataframe thead th {\n",
       "        text-align: right;\n",
       "    }\n",
       "</style>\n",
       "<table border=\"1\" class=\"dataframe\">\n",
       "  <thead>\n",
       "    <tr style=\"text-align: right;\">\n",
       "      <th></th>\n",
       "      <th>Activin A [NSU]</th>\n",
       "      <th>AITRL (GITR Ligand) [NSU]</th>\n",
       "      <th>Amphiregulin [NSU]</th>\n",
       "      <th>Amyloid beta [NSU]</th>\n",
       "      <th>APRIL [NSU]</th>\n",
       "      <th>BAFF [NSU]</th>\n",
       "      <th>BCMA (TNFRSF17) [NSU]</th>\n",
       "      <th>BDNF [NSU]</th>\n",
       "      <th>BMP2 [NSU]</th>\n",
       "      <th>BMP3 [NSU]</th>\n",
       "      <th>...</th>\n",
       "      <th>TWEAK [NSU]</th>\n",
       "      <th>uPA [NSU]</th>\n",
       "      <th>VCAM-1 [NSU]</th>\n",
       "      <th>VEGF Receptor 2 (Flk-1) [NSU]</th>\n",
       "      <th>VEGF-A (165) [NSU]</th>\n",
       "      <th>VEGF-C [NSU]</th>\n",
       "      <th>VEGF-D [NSU]</th>\n",
       "      <th>VEGFR-1 [NSU]</th>\n",
       "      <th>WISP-1 (CCN4) [NSU]</th>\n",
       "      <th>XCL1 (Lymphotactin) [NSU]</th>\n",
       "    </tr>\n",
       "  </thead>\n",
       "  <tbody>\n",
       "    <tr>\n",
       "      <th>count</th>\n",
       "      <td>154.000000</td>\n",
       "      <td>154.000000</td>\n",
       "      <td>154.000000</td>\n",
       "      <td>154.000000</td>\n",
       "      <td>154.000000</td>\n",
       "      <td>154.000000</td>\n",
       "      <td>154.000000</td>\n",
       "      <td>154.000000</td>\n",
       "      <td>154.000000</td>\n",
       "      <td>154.000000</td>\n",
       "      <td>...</td>\n",
       "      <td>154.000000</td>\n",
       "      <td>154.000000</td>\n",
       "      <td>154.000000</td>\n",
       "      <td>154.000000</td>\n",
       "      <td>154.000000</td>\n",
       "      <td>154.000000</td>\n",
       "      <td>154.000000</td>\n",
       "      <td>154.000000</td>\n",
       "      <td>154.000000</td>\n",
       "      <td>154.000000</td>\n",
       "    </tr>\n",
       "    <tr>\n",
       "      <th>mean</th>\n",
       "      <td>0.210367</td>\n",
       "      <td>0.475921</td>\n",
       "      <td>0.419877</td>\n",
       "      <td>0.465889</td>\n",
       "      <td>0.455548</td>\n",
       "      <td>0.377734</td>\n",
       "      <td>0.570632</td>\n",
       "      <td>0.355978</td>\n",
       "      <td>0.452083</td>\n",
       "      <td>0.355345</td>\n",
       "      <td>...</td>\n",
       "      <td>0.473808</td>\n",
       "      <td>0.418869</td>\n",
       "      <td>0.402429</td>\n",
       "      <td>0.448119</td>\n",
       "      <td>0.462338</td>\n",
       "      <td>0.549010</td>\n",
       "      <td>0.420083</td>\n",
       "      <td>0.314011</td>\n",
       "      <td>0.447576</td>\n",
       "      <td>0.348847</td>\n",
       "    </tr>\n",
       "    <tr>\n",
       "      <th>std</th>\n",
       "      <td>0.272208</td>\n",
       "      <td>0.198562</td>\n",
       "      <td>0.258954</td>\n",
       "      <td>0.178171</td>\n",
       "      <td>0.182614</td>\n",
       "      <td>0.183630</td>\n",
       "      <td>0.175210</td>\n",
       "      <td>0.167947</td>\n",
       "      <td>0.165232</td>\n",
       "      <td>0.174296</td>\n",
       "      <td>...</td>\n",
       "      <td>0.194492</td>\n",
       "      <td>0.178115</td>\n",
       "      <td>0.168891</td>\n",
       "      <td>0.159872</td>\n",
       "      <td>0.220829</td>\n",
       "      <td>0.169934</td>\n",
       "      <td>0.203106</td>\n",
       "      <td>0.224093</td>\n",
       "      <td>0.185292</td>\n",
       "      <td>0.172050</td>\n",
       "    </tr>\n",
       "    <tr>\n",
       "      <th>min</th>\n",
       "      <td>0.000000</td>\n",
       "      <td>0.000000</td>\n",
       "      <td>0.000000</td>\n",
       "      <td>0.000000</td>\n",
       "      <td>0.000000</td>\n",
       "      <td>0.000000</td>\n",
       "      <td>0.000000</td>\n",
       "      <td>0.000000</td>\n",
       "      <td>0.000000</td>\n",
       "      <td>0.000000</td>\n",
       "      <td>...</td>\n",
       "      <td>0.000000</td>\n",
       "      <td>0.000000</td>\n",
       "      <td>0.000000</td>\n",
       "      <td>0.000000</td>\n",
       "      <td>0.000000</td>\n",
       "      <td>0.000000</td>\n",
       "      <td>0.000000</td>\n",
       "      <td>0.000000</td>\n",
       "      <td>0.000000</td>\n",
       "      <td>0.000000</td>\n",
       "    </tr>\n",
       "    <tr>\n",
       "      <th>25%</th>\n",
       "      <td>0.051578</td>\n",
       "      <td>0.318037</td>\n",
       "      <td>0.230291</td>\n",
       "      <td>0.343561</td>\n",
       "      <td>0.314063</td>\n",
       "      <td>0.252600</td>\n",
       "      <td>0.434223</td>\n",
       "      <td>0.251276</td>\n",
       "      <td>0.357886</td>\n",
       "      <td>0.239875</td>\n",
       "      <td>...</td>\n",
       "      <td>0.328619</td>\n",
       "      <td>0.302704</td>\n",
       "      <td>0.281719</td>\n",
       "      <td>0.365503</td>\n",
       "      <td>0.312435</td>\n",
       "      <td>0.423527</td>\n",
       "      <td>0.291350</td>\n",
       "      <td>0.166779</td>\n",
       "      <td>0.321669</td>\n",
       "      <td>0.228874</td>\n",
       "    </tr>\n",
       "    <tr>\n",
       "      <th>50%</th>\n",
       "      <td>0.072591</td>\n",
       "      <td>0.463071</td>\n",
       "      <td>0.359486</td>\n",
       "      <td>0.447928</td>\n",
       "      <td>0.439187</td>\n",
       "      <td>0.381498</td>\n",
       "      <td>0.586944</td>\n",
       "      <td>0.341592</td>\n",
       "      <td>0.428599</td>\n",
       "      <td>0.315487</td>\n",
       "      <td>...</td>\n",
       "      <td>0.466609</td>\n",
       "      <td>0.404098</td>\n",
       "      <td>0.404436</td>\n",
       "      <td>0.436647</td>\n",
       "      <td>0.446795</td>\n",
       "      <td>0.561156</td>\n",
       "      <td>0.397135</td>\n",
       "      <td>0.236412</td>\n",
       "      <td>0.453741</td>\n",
       "      <td>0.313567</td>\n",
       "    </tr>\n",
       "    <tr>\n",
       "      <th>75%</th>\n",
       "      <td>0.274888</td>\n",
       "      <td>0.597291</td>\n",
       "      <td>0.631269</td>\n",
       "      <td>0.570563</td>\n",
       "      <td>0.571771</td>\n",
       "      <td>0.490413</td>\n",
       "      <td>0.704031</td>\n",
       "      <td>0.438899</td>\n",
       "      <td>0.523628</td>\n",
       "      <td>0.442596</td>\n",
       "      <td>...</td>\n",
       "      <td>0.590691</td>\n",
       "      <td>0.541472</td>\n",
       "      <td>0.510351</td>\n",
       "      <td>0.543357</td>\n",
       "      <td>0.576491</td>\n",
       "      <td>0.669420</td>\n",
       "      <td>0.527872</td>\n",
       "      <td>0.409108</td>\n",
       "      <td>0.576348</td>\n",
       "      <td>0.457120</td>\n",
       "    </tr>\n",
       "    <tr>\n",
       "      <th>max</th>\n",
       "      <td>1.000000</td>\n",
       "      <td>1.000000</td>\n",
       "      <td>1.000000</td>\n",
       "      <td>1.000000</td>\n",
       "      <td>1.000000</td>\n",
       "      <td>1.000000</td>\n",
       "      <td>1.000000</td>\n",
       "      <td>1.000000</td>\n",
       "      <td>1.000000</td>\n",
       "      <td>1.000000</td>\n",
       "      <td>...</td>\n",
       "      <td>1.000000</td>\n",
       "      <td>1.000000</td>\n",
       "      <td>1.000000</td>\n",
       "      <td>1.000000</td>\n",
       "      <td>1.000000</td>\n",
       "      <td>1.000000</td>\n",
       "      <td>1.000000</td>\n",
       "      <td>1.000000</td>\n",
       "      <td>1.000000</td>\n",
       "      <td>1.000000</td>\n",
       "    </tr>\n",
       "  </tbody>\n",
       "</table>\n",
       "<p>8 rows × 187 columns</p>\n",
       "</div>"
      ],
      "text/plain": [
       "       Activin A [NSU]  AITRL (GITR Ligand) [NSU]  Amphiregulin [NSU]  \\\n",
       "count       154.000000                 154.000000          154.000000   \n",
       "mean          0.210367                   0.475921            0.419877   \n",
       "std           0.272208                   0.198562            0.258954   \n",
       "min           0.000000                   0.000000            0.000000   \n",
       "25%           0.051578                   0.318037            0.230291   \n",
       "50%           0.072591                   0.463071            0.359486   \n",
       "75%           0.274888                   0.597291            0.631269   \n",
       "max           1.000000                   1.000000            1.000000   \n",
       "\n",
       "       Amyloid beta [NSU]  APRIL [NSU]  BAFF [NSU]  BCMA (TNFRSF17) [NSU]  \\\n",
       "count          154.000000   154.000000  154.000000             154.000000   \n",
       "mean             0.465889     0.455548    0.377734               0.570632   \n",
       "std              0.178171     0.182614    0.183630               0.175210   \n",
       "min              0.000000     0.000000    0.000000               0.000000   \n",
       "25%              0.343561     0.314063    0.252600               0.434223   \n",
       "50%              0.447928     0.439187    0.381498               0.586944   \n",
       "75%              0.570563     0.571771    0.490413               0.704031   \n",
       "max              1.000000     1.000000    1.000000               1.000000   \n",
       "\n",
       "       BDNF [NSU]  BMP2 [NSU]  BMP3 [NSU]  ...  TWEAK [NSU]   uPA [NSU]  \\\n",
       "count  154.000000  154.000000  154.000000  ...   154.000000  154.000000   \n",
       "mean     0.355978    0.452083    0.355345  ...     0.473808    0.418869   \n",
       "std      0.167947    0.165232    0.174296  ...     0.194492    0.178115   \n",
       "min      0.000000    0.000000    0.000000  ...     0.000000    0.000000   \n",
       "25%      0.251276    0.357886    0.239875  ...     0.328619    0.302704   \n",
       "50%      0.341592    0.428599    0.315487  ...     0.466609    0.404098   \n",
       "75%      0.438899    0.523628    0.442596  ...     0.590691    0.541472   \n",
       "max      1.000000    1.000000    1.000000  ...     1.000000    1.000000   \n",
       "\n",
       "       VCAM-1 [NSU]  VEGF Receptor 2 (Flk-1) [NSU]  VEGF-A (165) [NSU]  \\\n",
       "count    154.000000                     154.000000          154.000000   \n",
       "mean       0.402429                       0.448119            0.462338   \n",
       "std        0.168891                       0.159872            0.220829   \n",
       "min        0.000000                       0.000000            0.000000   \n",
       "25%        0.281719                       0.365503            0.312435   \n",
       "50%        0.404436                       0.436647            0.446795   \n",
       "75%        0.510351                       0.543357            0.576491   \n",
       "max        1.000000                       1.000000            1.000000   \n",
       "\n",
       "       VEGF-C [NSU]  VEGF-D [NSU]  VEGFR-1 [NSU]  WISP-1 (CCN4) [NSU]  \\\n",
       "count    154.000000    154.000000     154.000000           154.000000   \n",
       "mean       0.549010      0.420083       0.314011             0.447576   \n",
       "std        0.169934      0.203106       0.224093             0.185292   \n",
       "min        0.000000      0.000000       0.000000             0.000000   \n",
       "25%        0.423527      0.291350       0.166779             0.321669   \n",
       "50%        0.561156      0.397135       0.236412             0.453741   \n",
       "75%        0.669420      0.527872       0.409108             0.576348   \n",
       "max        1.000000      1.000000       1.000000             1.000000   \n",
       "\n",
       "       XCL1 (Lymphotactin) [NSU]  \n",
       "count                 154.000000  \n",
       "mean                    0.348847  \n",
       "std                     0.172050  \n",
       "min                     0.000000  \n",
       "25%                     0.228874  \n",
       "50%                     0.313567  \n",
       "75%                     0.457120  \n",
       "max                     1.000000  \n",
       "\n",
       "[8 rows x 187 columns]"
      ]
     },
     "execution_count": 8,
     "metadata": {},
     "output_type": "execute_result"
    }
   ],
   "source": [
    "# summary statistics of df to check min-max normalization\n",
    "nomic_df.describe()"
   ]
  },
  {
   "cell_type": "code",
   "execution_count": 9,
   "id": "812d2721",
   "metadata": {
    "execution": {
     "iopub.execute_input": "2023-07-27T14:32:54.407529Z",
     "iopub.status.busy": "2023-07-27T14:32:54.407257Z",
     "iopub.status.idle": "2023-07-27T14:32:54.410947Z",
     "shell.execute_reply": "2023-07-27T14:32:54.410287Z"
    },
    "papermill": {
     "duration": 0.008743,
     "end_time": "2023-07-27T14:32:54.411977",
     "exception": false,
     "start_time": "2023-07-27T14:32:54.403234",
     "status": "completed"
    },
    "tags": []
   },
   "outputs": [],
   "source": [
    "# add position_x back to df\n",
    "nomic_df.loc[:, \"Metadata_position_x\"] = nomic_df_raw[\"position_x\"]"
   ]
  },
  {
   "attachments": {},
   "cell_type": "markdown",
   "id": "8fbdbf77",
   "metadata": {
    "papermill": {
     "duration": 0.003189,
     "end_time": "2023-07-27T14:32:54.418800",
     "exception": false,
     "start_time": "2023-07-27T14:32:54.415611",
     "status": "completed"
    },
    "tags": []
   },
   "source": [
    "# Correlation of Wells"
   ]
  },
  {
   "cell_type": "code",
   "execution_count": 10,
   "id": "bb0ea5cd",
   "metadata": {
    "execution": {
     "iopub.execute_input": "2023-07-27T14:32:54.426649Z",
     "iopub.status.busy": "2023-07-27T14:32:54.426344Z",
     "iopub.status.idle": "2023-07-27T14:32:54.430640Z",
     "shell.execute_reply": "2023-07-27T14:32:54.429921Z"
    },
    "papermill": {
     "duration": 0.009691,
     "end_time": "2023-07-27T14:32:54.431769",
     "exception": false,
     "start_time": "2023-07-27T14:32:54.422078",
     "status": "completed"
    },
    "tags": []
   },
   "outputs": [],
   "source": [
    "# set index to Metadata_Well\n",
    "nomic_df = nomic_df.set_index(\"Metadata_position_x\")"
   ]
  },
  {
   "cell_type": "code",
   "execution_count": 11,
   "id": "c1133874",
   "metadata": {
    "execution": {
     "iopub.execute_input": "2023-07-27T14:32:54.439859Z",
     "iopub.status.busy": "2023-07-27T14:32:54.439455Z",
     "iopub.status.idle": "2023-07-27T14:32:54.489967Z",
     "shell.execute_reply": "2023-07-27T14:32:54.489020Z"
    },
    "papermill": {
     "duration": 0.056889,
     "end_time": "2023-07-27T14:32:54.492230",
     "exception": false,
     "start_time": "2023-07-27T14:32:54.435341",
     "status": "completed"
    },
    "tags": []
   },
   "outputs": [],
   "source": [
    "well_corr_df = nomic_df.T.corr()\n",
    "save_path = pathlib.Path(f\"./results/correlation/{cell_type}/nomic/\")\n",
    "save_path.mkdir(parents=True, exist_ok=True)\n",
    "well_corr_df.to_csv(f\"{save_path}/wells_corr.csv\")"
   ]
  },
  {
   "attachments": {},
   "cell_type": "markdown",
   "id": "282ae443",
   "metadata": {
    "papermill": {
     "duration": 0.011199,
     "end_time": "2023-07-27T14:32:54.511545",
     "exception": false,
     "start_time": "2023-07-27T14:32:54.500346",
     "status": "completed"
    },
    "tags": []
   },
   "source": [
    "# All Treatment correlation"
   ]
  },
  {
   "cell_type": "code",
   "execution_count": 12,
   "id": "242e3323",
   "metadata": {
    "execution": {
     "iopub.execute_input": "2023-07-27T14:32:54.527553Z",
     "iopub.status.busy": "2023-07-27T14:32:54.527040Z",
     "iopub.status.idle": "2023-07-27T14:32:54.536954Z",
     "shell.execute_reply": "2023-07-27T14:32:54.536027Z"
    },
    "papermill": {
     "duration": 0.020282,
     "end_time": "2023-07-27T14:32:54.539069",
     "exception": false,
     "start_time": "2023-07-27T14:32:54.518787",
     "status": "completed"
    },
    "tags": []
   },
   "outputs": [],
   "source": [
    "nomic_df.reset_index(inplace=True)\n",
    "nomic_df.drop([\"Metadata_position_x\"], axis=1, inplace=True)\n",
    "nomic_df.loc[:, \"oneb_Metadata_Treatment_Dose_Inhibitor_Dose\"] = nomic_cleaned[\n",
    "    \"oneb_Metadata_Treatment_Dose_Inhibitor_Dose\"\n",
    "]\n",
    "# groupby Metadata_Treatment_Dose_Inhibitor_Dose\n",
    "nomic_df = nomic_df.groupby(\"oneb_Metadata_Treatment_Dose_Inhibitor_Dose\").mean()"
   ]
  },
  {
   "cell_type": "code",
   "execution_count": 13,
   "id": "ed003940",
   "metadata": {
    "execution": {
     "iopub.execute_input": "2023-07-27T14:32:54.554746Z",
     "iopub.status.busy": "2023-07-27T14:32:54.554376Z",
     "iopub.status.idle": "2023-07-27T14:32:54.567099Z",
     "shell.execute_reply": "2023-07-27T14:32:54.566399Z"
    },
    "papermill": {
     "duration": 0.023361,
     "end_time": "2023-07-27T14:32:54.569507",
     "exception": false,
     "start_time": "2023-07-27T14:32:54.546146",
     "status": "completed"
    },
    "tags": []
   },
   "outputs": [],
   "source": [
    "well_corr_df = nomic_df.T.corr()\n",
    "save_path = pathlib.Path(f\"./results/correlation/{cell_type}/nomic/\")\n",
    "save_path.mkdir(parents=True, exist_ok=True)\n",
    "well_corr_df.to_csv(f\"{save_path}/treatments_corr.csv\")"
   ]
  },
  {
   "attachments": {},
   "cell_type": "markdown",
   "id": "e17692c4",
   "metadata": {
    "papermill": {
     "duration": 0.00686,
     "end_time": "2023-07-27T14:32:54.583408",
     "exception": false,
     "start_time": "2023-07-27T14:32:54.576548",
     "status": "completed"
    },
    "tags": []
   },
   "source": [
    "# Treatment correlation for selected treatments"
   ]
  },
  {
   "cell_type": "code",
   "execution_count": 14,
   "id": "b7d0bfe8",
   "metadata": {
    "execution": {
     "iopub.execute_input": "2023-07-27T14:32:54.598390Z",
     "iopub.status.busy": "2023-07-27T14:32:54.598103Z",
     "iopub.status.idle": "2023-07-27T14:32:54.600884Z",
     "shell.execute_reply": "2023-07-27T14:32:54.600494Z"
    },
    "papermill": {
     "duration": 0.012506,
     "end_time": "2023-07-27T14:32:54.602789",
     "exception": false,
     "start_time": "2023-07-27T14:32:54.590283",
     "status": "completed"
    },
    "tags": []
   },
   "outputs": [],
   "source": [
    "list_of_treatments = [\n",
    "    \"LPS_0.01_DMSO_0.025\",\n",
    "    \"LPS_0.1_DMSO_0.025\",\n",
    "    \"LPS_1.0_DMSO_0.025\",\n",
    "    \"LPS_10.0_DMSO_0.025\",\n",
    "    \"LPS_100.0_DMSO_0.025\",\n",
    "    \"DMSO_0.1_DMSO_0.025\",\n",
    "    \"Thapsigargin_1.0_DMSO_0.025\",\n",
    "    \"Thapsigargin_10.0_DMSO_0.025\",\n",
    "]"
   ]
  },
  {
   "cell_type": "code",
   "execution_count": 15,
   "id": "f2d4c4af",
   "metadata": {
    "execution": {
     "iopub.execute_input": "2023-07-27T14:32:54.617162Z",
     "iopub.status.busy": "2023-07-27T14:32:54.616885Z",
     "iopub.status.idle": "2023-07-27T14:32:54.622208Z",
     "shell.execute_reply": "2023-07-27T14:32:54.621546Z"
    },
    "papermill": {
     "duration": 0.014321,
     "end_time": "2023-07-27T14:32:54.623919",
     "exception": false,
     "start_time": "2023-07-27T14:32:54.609598",
     "status": "completed"
    },
    "tags": []
   },
   "outputs": [],
   "source": [
    "nomic_df = nomic_df.reset_index()\n",
    "# subset the data to only include the treatments of interest from list_of_treatments\n",
    "nomic_df = nomic_df[\n",
    "    nomic_df[\"oneb_Metadata_Treatment_Dose_Inhibitor_Dose\"].isin(list_of_treatments)\n",
    "]\n",
    "# aggregate by treatment and dose\n",
    "nomic_df = nomic_df.groupby([\"oneb_Metadata_Treatment_Dose_Inhibitor_Dose\"]).mean()"
   ]
  },
  {
   "cell_type": "code",
   "execution_count": 16,
   "id": "365cf5ec",
   "metadata": {
    "execution": {
     "iopub.execute_input": "2023-07-27T14:32:54.638655Z",
     "iopub.status.busy": "2023-07-27T14:32:54.638318Z",
     "iopub.status.idle": "2023-07-27T14:32:54.642439Z",
     "shell.execute_reply": "2023-07-27T14:32:54.641989Z"
    },
    "papermill": {
     "duration": 0.012388,
     "end_time": "2023-07-27T14:32:54.643518",
     "exception": false,
     "start_time": "2023-07-27T14:32:54.631130",
     "status": "completed"
    },
    "tags": []
   },
   "outputs": [],
   "source": [
    "well_corr_df = nomic_df.T.corr()\n",
    "save_path = pathlib.Path(f\"./results/correlation/{cell_type}/nomic/\")\n",
    "save_path.mkdir(parents=True, exist_ok=True)\n",
    "well_corr_df.to_csv(f\"{save_path}/selected_treatments_corr.csv\")"
   ]
  }
 ],
 "metadata": {
  "kernelspec": {
   "display_name": "Interstellar",
   "language": "python",
   "name": "python3"
  },
  "language_info": {
   "codemirror_mode": {
    "name": "ipython",
    "version": 3
   },
   "file_extension": ".py",
   "mimetype": "text/x-python",
   "name": "python",
   "nbconvert_exporter": "python",
   "pygments_lexer": "ipython3",
   "version": "3.10.12"
  },
  "papermill": {
   "default_parameters": {},
   "duration": 3.440834,
   "end_time": "2023-07-27T14:32:55.165452",
   "environment_variables": {},
   "exception": null,
   "input_path": "2a.correlation_nomic_features.ipynb",
   "output_path": "2a.correlation_nomic_features.ipynb",
   "parameters": {
    "cell_type": "PBMC"
   },
   "start_time": "2023-07-27T14:32:51.724618",
   "version": "2.4.0"
  },
  "vscode": {
   "interpreter": {
    "hash": "72ae02083a9ca7d143c492d1aec380c7bf553ec51bd66e90e72bba65228121b6"
   }
  }
 },
 "nbformat": 4,
 "nbformat_minor": 5
}
