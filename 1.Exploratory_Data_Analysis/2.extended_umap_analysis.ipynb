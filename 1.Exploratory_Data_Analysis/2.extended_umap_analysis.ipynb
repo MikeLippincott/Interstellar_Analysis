{
 "cells": [
  {
   "cell_type": "code",
   "execution_count": null,
   "metadata": {},
   "outputs": [],
   "source": [
    "import pathlib\n",
    "\n",
    "# umap analysis of treatment groups\n",
    "# using warnings to ignore the deprecation warnings upon importing umap and numba\n",
    "# these are annoying and not useful for the analysis output\n",
    "import warnings\n",
    "\n",
    "import matplotlib.pyplot as plt\n",
    "import numpy as np\n",
    "import pandas as pd\n",
    "import seaborn as sns\n",
    "import umap\n",
    "from numba.core.errors import NumbaDeprecationWarning, NumbaPendingDeprecationWarning\n",
    "\n",
    "# post hoc test for 'VEGF-C [NSU]' column using Tukey's HSD test\n",
    "from statsmodels.stats.multicomp import pairwise_tukeyhsd\n",
    "\n",
    "warnings.simplefilter(\"ignore\", category=NumbaDeprecationWarning)\n",
    "warnings.simplefilter(\"ignore\", category=NumbaPendingDeprecationWarning)"
   ]
  },
  {
   "cell_type": "code",
   "execution_count": null,
   "id": "56f01e09",
   "metadata": {
    "execution": {
     "iopub.execute_input": "2023-07-12T03:24:41.054099Z",
     "iopub.status.busy": "2023-07-12T03:24:41.053744Z",
     "iopub.status.idle": "2023-07-12T03:24:41.056060Z",
     "shell.execute_reply": "2023-07-12T03:24:41.055664Z"
    },
    "papermill": {
     "duration": 0.005626,
     "end_time": "2023-07-12T03:24:41.057048",
     "exception": false,
     "start_time": "2023-07-12T03:24:41.051422",
     "status": "completed"
    },
    "tags": [
     "injected-parameters"
    ]
   },
   "outputs": [],
   "source": [
    "# Parameters\n",
    "cell_type = \"SHSY5Y\"\n",
    "control = \"DMSO_0.100_DMSO_0.025\"\n",
    "treatment = [\"LPS_100.000_DMSO_0.025\"]"
   ]
  },
  {
   "cell_type": "code",
   "execution_count": null,
   "metadata": {},
   "outputs": [],
   "source": [
    "# set the path to the data\n",
    "data_dir = pathlib.Path(f\"../data/{cell_type}_preprocessed_sc_norm.parquet\")\n",
    "\n",
    "# read in the data\n",
    "data = pd.read_parquet(data_dir)"
   ]
  },
  {
   "cell_type": "code",
   "execution_count": null,
   "metadata": {},
   "outputs": [],
   "source": [
    "# get the list of treatments to filter for\n",
    "treatments = [control] + treatment\n",
    "# subset data from oneb_Metadata_Treatment_Dose_Inhibitor_Dose column\n",
    "data = data[data.oneb_Metadata_Treatment_Dose_Inhibitor_Dose.isin(treatments)]"
   ]
  },
  {
   "cell_type": "code",
   "execution_count": null,
   "metadata": {},
   "outputs": [],
   "source": [
    "# subsample\n",
    "print(data.shape)\n",
    "\n",
    "\n",
    "if len(data) > 5000:\n",
    "    df = data.sample(n=500, random_state=42)\n",
    "    del data\n",
    "else:\n",
    "    pass\n",
    "\n",
    "print(df.shape)"
   ]
  },
  {
   "cell_type": "code",
   "execution_count": null,
   "id": "0bd3d695",
   "metadata": {
    "execution": {
     "iopub.execute_input": "2023-07-12T03:25:44.915767Z",
     "iopub.status.busy": "2023-07-12T03:25:44.915356Z",
     "iopub.status.idle": "2023-07-12T03:25:44.922519Z",
     "shell.execute_reply": "2023-07-12T03:25:44.922052Z"
    },
    "papermill": {
     "duration": 0.010673,
     "end_time": "2023-07-12T03:25:44.923605",
     "exception": false,
     "start_time": "2023-07-12T03:25:44.912932",
     "status": "completed"
    },
    "tags": []
   },
   "outputs": [],
   "source": [
    "# Code snippet for metadata extraction by Jenna Tomkinson\n",
    "df_metadata = list(df.columns[df.columns.str.contains(\"Metadata\")])\n",
    "\n",
    "# define which columns are data and which are descriptive\n",
    "df_descriptive = df[df_metadata]\n",
    "df_values = df.drop(columns=df_metadata)"
   ]
  },
  {
   "cell_type": "code",
   "execution_count": null,
   "metadata": {},
   "outputs": [],
   "source": [
    "df_values\n",
    "split_df = df_values.columns.str.split(\"_\", expand=True).to_list()\n",
    "split_df = pd.DataFrame(split_df)"
   ]
  },
  {
   "cell_type": "code",
   "execution_count": null,
   "metadata": {},
   "outputs": [],
   "source": [
    "# get each column name and split by the delimiter \"_\" to get the metadata category\n",
    "# and the metadata value\n",
    "split_df = df_values.columns.str.split(\"_\", expand=True).to_list()\n",
    "\n",
    "# make into a dataframe\n",
    "split_df = pd.DataFrame(split_df)\n",
    "split_df[\"feature\"] = df_values.columns\n",
    "\n",
    "# rename the columns\n",
    "split_df.columns = [\n",
    "    \"compartment\",\n",
    "    \"feature_group\",\n",
    "    \"measurement\",\n",
    "    \"channel\",\n",
    "    \"parameter1\",\n",
    "    \"parameter2\",\n",
    "    \"parameter3\",\n",
    "    \"features\",\n",
    "]"
   ]
  },
  {
   "cell_type": "code",
   "execution_count": null,
   "metadata": {},
   "outputs": [],
   "source": [
    "# Define the recoding dictionary\n",
    "recode_dict = {\n",
    "    \"CorrDNA\": \"nuclei\",\n",
    "    \"CorrMito\": \"Mito\",\n",
    "    \"CorrER\": \"ER\",\n",
    "    \"CorrGasdermin\": \"gasdermin\",\n",
    "    \"CorrPM\": \"PM\",\n",
    "}\n",
    "\n",
    "# Perform the recoding using replace() and fillna() methods\n",
    "split_df[\"channel_learned\"] = split_df[\"channel\"].replace(recode_dict)\n",
    "split_df[\"channel_learned\"] = split_df[\"channel_learned\"].fillna(\"other\")"
   ]
  },
  {
   "cell_type": "code",
   "execution_count": null,
   "metadata": {},
   "outputs": [],
   "source": [
    "# split the df into 5 dataframes based on the channel_learned column\n",
    "df_nuclei = split_df[split_df[\"channel_learned\"] == \"nuclei\"].set_index(\"features\")\n",
    "df_mito = split_df[split_df[\"channel_learned\"] == \"Mito\"].set_index(\"features\")\n",
    "df_ER = split_df[split_df[\"channel_learned\"] == \"ER\"].set_index(\"features\")\n",
    "df_gasdermin = split_df[split_df[\"channel_learned\"] == \"gasdermin\"].set_index(\n",
    "    \"features\"\n",
    ")\n",
    "df_PM = split_df[split_df[\"channel_learned\"] == \"PM\"].set_index(\"features\")"
   ]
  },
  {
   "cell_type": "code",
   "execution_count": null,
   "metadata": {},
   "outputs": [],
   "source": [
    "# based on indexes get the metadata nd values for each channel\n",
    "# df_nuclei_values\n",
    "df_nuclei_values = df_values[df_nuclei.index]\n",
    "# get values from a df via its index\n",
    "df_nuclei_descriptive = df_descriptive.loc[df_nuclei_values.index.to_list()]\n",
    "df_nuclei_descriptive.loc[:, \"Metadata_compartment\"] = \"nuclei\"\n",
    "\n",
    "# df_mito_values\n",
    "df_mito_values = df_values[df_mito.index]\n",
    "df_mito_descriptive = df_descriptive.loc[df_mito_values.index.to_list()]\n",
    "df_mito_descriptive.loc[:, \"Metadata_compartment\"] = \"Mito\"\n",
    "\n",
    "# df_ER_values\n",
    "df_ER_values = df_values[df_ER.index]\n",
    "df_ER_descriptive = df_descriptive.loc[df_ER_values.index.to_list()]\n",
    "df_ER_descriptive.loc[:, \"Metadata_compartment\"] = \"ER\"\n",
    "\n",
    "# df_gasdermin_values\n",
    "df_gasdermin_values = df_values[df_gasdermin.index]\n",
    "df_gasdermin_descriptive = df_descriptive.loc[df_gasdermin_values.index.to_list()]\n",
    "df_gasdermin_descriptive.loc[:, \"Metadata_compartment\"] = \"gasdermin\"\n",
    "\n",
    "# df_PM_values\n",
    "df_PM_values = df_values[df_PM.index]\n",
    "df_PM_descriptive = df_descriptive.loc[df_PM_values.index.to_list()]\n",
    "df_PM_descriptive.loc[:, \"Metadata_compartment\"] = \"PM\""
   ]
  },
  {
   "cell_type": "code",
   "execution_count": null,
   "metadata": {},
   "outputs": [],
   "source": [
    "# set umap parameters\n",
    "umap_params = umap.UMAP(\n",
    "    n_components=2,\n",
    "    spread=1.1,\n",
    "    init=\"random\",\n",
    "    random_state=0,\n",
    ")"
   ]
  },
  {
   "cell_type": "code",
   "execution_count": null,
   "metadata": {},
   "outputs": [],
   "source": [
    "lst_of_dfs_values = [\n",
    "    df_nuclei_values,\n",
    "    df_mito_values,\n",
    "    df_ER_values,\n",
    "    df_gasdermin_values,\n",
    "    df_PM_values,\n",
    "]\n",
    "lst_of_dfs_descriptive = [\n",
    "    df_nuclei_descriptive,\n",
    "    df_mito_descriptive,\n",
    "    df_ER_descriptive,\n",
    "    df_gasdermin_descriptive,\n",
    "    df_PM_descriptive,\n",
    "]\n",
    "for df_values, df_descriptive in zip(lst_of_dfs_values, lst_of_dfs_descriptive):\n",
    "    # umap analysis of treatment groups for nuclei channel\n",
    "    proj_2d = umap_params.fit_transform(df_values)\n",
    "    # add umap coordinates to dataframe of metadata and raw data\n",
    "    df_values.loc[:, \"umap_1\"] = proj_2d[:, 0]\n",
    "    df_values.loc[:, \"umap_2\"] = proj_2d[:, 1]\n",
    "    df_values.loc[:, \"Treatment\"] = df_descriptive[\n",
    "        \"oneb_Metadata_Treatment_Dose_Inhibitor_Dose\"\n",
    "    ]\n",
    "    channel = df_descriptive[\"Metadata_compartment\"].unique()[0]\n",
    "\n",
    "    # Figure Showing umap of Clusters vs Treatment\n",
    "    sns.scatterplot(\n",
    "        data=df_values,\n",
    "        x=\"umap_1\",\n",
    "        y=\"umap_2\",\n",
    "        hue=\"Treatment\",\n",
    "        legend=\"full\",\n",
    "        alpha=0.7,\n",
    "    )\n",
    "    plt.title(\"Visualized on umap\")\n",
    "    plt.legend(bbox_to_anchor=(1.02, 1), loc=\"upper left\", borderaxespad=0)\n",
    "    # plt.tight_layout()\n",
    "    plt.title(\n",
    "        f\"\"\"UMAP of {channel} channel\n",
    "              {cell_type} cells treated with\n",
    "               {treatment}\"\"\"\n",
    "    )\n",
    "    # set save path for figure\n",
    "    save_path = pathlib.Path(f\"./Figures/umap_plate2/{cell_type}\")\n",
    "    save_path.mkdir(exist_ok=True, parents=True)\n",
    "    plt.savefig(f\"{save_path}/{channel}_{control}_{treatment}.png\")\n",
    "    plt.show()"
   ]
  }
 ],
 "metadata": {
  "kernelspec": {
   "display_name": "Interstellar",
   "language": "python",
   "name": "python3"
  },
  "language_info": {
   "codemirror_mode": {
    "name": "ipython",
    "version": 3
   },
   "file_extension": ".py",
   "mimetype": "text/x-python",
   "name": "python",
   "nbconvert_exporter": "python",
   "pygments_lexer": "ipython3",
   "version": "3.10.12"
  },
  "orig_nbformat": 4,
  "vscode": {
   "interpreter": {
    "hash": "72ae02083a9ca7d143c492d1aec380c7bf553ec51bd66e90e72bba65228121b6"
   }
  }
 },
 "nbformat": 4,
 "nbformat_minor": 2
}
