{
 "cells": [
  {
   "attachments": {},
   "cell_type": "markdown",
   "id": "3bb3c494",
   "metadata": {
    "papermill": {
     "duration": 0.001969,
     "end_time": "2023-08-01T02:00:55.965666",
     "exception": false,
     "start_time": "2023-08-01T02:00:55.963697",
     "status": "completed"
    },
    "tags": []
   },
   "source": [
    "# Correlation of Aggregated Features\n",
    "Each well is median aggregated and normalized.  \n",
    "The correlation of the aggregated features is calculated per:\n",
    "* well\n",
    "* per treatment\n",
    "* per selected treatment"
   ]
  },
  {
   "cell_type": "code",
   "execution_count": 1,
   "id": "be8a998e",
   "metadata": {
    "execution": {
     "iopub.execute_input": "2023-08-01T02:00:55.969091Z",
     "iopub.status.busy": "2023-08-01T02:00:55.968956Z",
     "iopub.status.idle": "2023-08-01T02:00:56.143545Z",
     "shell.execute_reply": "2023-08-01T02:00:56.143255Z"
    },
    "papermill": {
     "duration": 0.177522,
     "end_time": "2023-08-01T02:00:56.144614",
     "exception": false,
     "start_time": "2023-08-01T02:00:55.967092",
     "status": "completed"
    },
    "tags": []
   },
   "outputs": [],
   "source": [
    "import pathlib\n",
    "\n",
    "import numpy as np\n",
    "import pandas as pd"
   ]
  },
  {
   "cell_type": "code",
   "execution_count": 2,
   "id": "cdad3caa",
   "metadata": {
    "execution": {
     "iopub.execute_input": "2023-08-01T02:00:56.150026Z",
     "iopub.status.busy": "2023-08-01T02:00:56.149654Z",
     "iopub.status.idle": "2023-08-01T02:00:56.151699Z",
     "shell.execute_reply": "2023-08-01T02:00:56.151455Z"
    },
    "papermill": {
     "duration": 0.005581,
     "end_time": "2023-08-01T02:00:56.152554",
     "exception": false,
     "start_time": "2023-08-01T02:00:56.146973",
     "status": "completed"
    },
    "tags": [
     "injected-parameters"
    ]
   },
   "outputs": [],
   "source": [
    "# Parameters\n",
    "cell_type = \"PBMC\""
   ]
  },
  {
   "cell_type": "code",
   "execution_count": 3,
   "id": "c9fbb334",
   "metadata": {
    "execution": {
     "iopub.execute_input": "2023-08-01T02:00:56.157842Z",
     "iopub.status.busy": "2023-08-01T02:00:56.157492Z",
     "iopub.status.idle": "2023-08-01T02:00:56.293818Z",
     "shell.execute_reply": "2023-08-01T02:00:56.293395Z"
    },
    "papermill": {
     "duration": 0.140425,
     "end_time": "2023-08-01T02:00:56.295164",
     "exception": false,
     "start_time": "2023-08-01T02:00:56.154739",
     "status": "completed"
    },
    "tags": []
   },
   "outputs": [],
   "source": [
    "# set import data paths\n",
    "feature_df_path = pathlib.Path(f\"../data/{cell_type}_sc_aggregate_norm.parquet\")\n",
    "\n",
    "# read in data\n",
    "feature_df = pd.read_parquet(feature_df_path)"
   ]
  },
  {
   "attachments": {},
   "cell_type": "markdown",
   "id": "66df7b4f",
   "metadata": {
    "papermill": {
     "duration": 0.002235,
     "end_time": "2023-08-01T02:00:56.299965",
     "exception": false,
     "start_time": "2023-08-01T02:00:56.297730",
     "status": "completed"
    },
    "tags": []
   },
   "source": [
    "## Clean up df"
   ]
  },
  {
   "cell_type": "code",
   "execution_count": 4,
   "id": "8aab137d",
   "metadata": {
    "execution": {
     "iopub.execute_input": "2023-08-01T02:00:56.308953Z",
     "iopub.status.busy": "2023-08-01T02:00:56.308812Z",
     "iopub.status.idle": "2023-08-01T02:00:56.316318Z",
     "shell.execute_reply": "2023-08-01T02:00:56.316031Z"
    },
    "papermill": {
     "duration": 0.011092,
     "end_time": "2023-08-01T02:00:56.317039",
     "exception": false,
     "start_time": "2023-08-01T02:00:56.305947",
     "status": "completed"
    },
    "tags": []
   },
   "outputs": [],
   "source": [
    "# remove uM in each row of the Metadata_inducer1_concentration column if it is present\n",
    "if \"Metadata_inducer1_concentration\" in feature_df.columns:\n",
    "    feature_df[\"Metadata_inducer1_concentration\"] = feature_df[\n",
    "        \"Metadata_inducer1_concentration\"\n",
    "    ].str.replace(\"µM\", \"\")\n",
    "# replace nan values with 0\n",
    "feature_df[\"Metadata_inducer1_concentration\"] = feature_df[\n",
    "    \"Metadata_inducer1_concentration\"\n",
    "].fillna(0)\n",
    "feature_df[\"Metadata_inducer2_concentration\"] = feature_df[\n",
    "    \"Metadata_inducer2_concentration\"\n",
    "].fillna(0)\n",
    "feature_df[\"Metadata_inhibitor_concentration\"] = feature_df[\n",
    "    \"Metadata_inhibitor_concentration\"\n",
    "].fillna(0)\n",
    "# treatment column merge\n",
    "conditions = [\n",
    "    (feature_df[\"Metadata_inducer2\"].isnull()),\n",
    "    feature_df[\"Metadata_inducer2\"].notnull(),\n",
    "]\n",
    "results = [\n",
    "    (feature_df[\"Metadata_inducer1\"]).astype(str),\n",
    "    (feature_df[\"Metadata_inducer1\"] + \"_\" + feature_df[\"Metadata_inducer2\"]).astype(\n",
    "        str\n",
    "    ),\n",
    "]\n",
    "feature_df[\"Metadata_Treatment\"] = np.select(condlist=conditions, choicelist=results)\n",
    "\n",
    "# dose column merge\n",
    "conditions = [\n",
    "    (feature_df[\"Metadata_inducer2\"].isnull()),\n",
    "    feature_df[\"Metadata_inducer2\"].notnull(),\n",
    "]\n",
    "\n",
    "results = [\n",
    "    (feature_df[\"Metadata_inducer1_concentration\"].astype(str)).astype(str),\n",
    "    (\n",
    "        feature_df[\"Metadata_inducer1_concentration\"].astype(str)\n",
    "        + \"_\"\n",
    "        + feature_df[\"Metadata_inducer2_concentration\"].astype(str)\n",
    "    ).astype(str),\n",
    "]\n",
    "feature_df[\"Metadata_Dose\"] = np.select(condlist=conditions, choicelist=results)\n",
    "feature_df[\"Metadata_inducer1_concentration\"] = pd.to_numeric(\n",
    "    feature_df[\"Metadata_inducer1_concentration\"]\n",
    ")\n",
    "# one beta of inudcer1, inducer1 concentration, inhibitor, and inhibitor concentration all as 1 beta term\n",
    "feature_df[\"oneb_Metadata_Treatment_Dose_Inhibitor_Dose\"] = (\n",
    "    feature_df[\"Metadata_Treatment\"]\n",
    "    + \"_\"\n",
    "    + feature_df[\"Metadata_Dose\"].astype(str)\n",
    "    + \"_\"\n",
    "    + feature_df[\"Metadata_inhibitor\"].astype(str)\n",
    "    + \"_\"\n",
    "    + feature_df[\"Metadata_inhibitor_concentration\"].astype(str)\n",
    ").astype(str)"
   ]
  },
  {
   "attachments": {},
   "cell_type": "markdown",
   "id": "d7624ab2",
   "metadata": {
    "papermill": {
     "duration": 0.002146,
     "end_time": "2023-08-01T02:00:56.320912",
     "exception": false,
     "start_time": "2023-08-01T02:00:56.318766",
     "status": "completed"
    },
    "tags": []
   },
   "source": [
    "## Correlation of Aggregated Features per Well"
   ]
  },
  {
   "cell_type": "code",
   "execution_count": 5,
   "id": "9d0b80a6",
   "metadata": {
    "execution": {
     "iopub.execute_input": "2023-08-01T02:00:56.326074Z",
     "iopub.status.busy": "2023-08-01T02:00:56.325726Z",
     "iopub.status.idle": "2023-08-01T02:00:56.330216Z",
     "shell.execute_reply": "2023-08-01T02:00:56.329967Z"
    },
    "papermill": {
     "duration": 0.00791,
     "end_time": "2023-08-01T02:00:56.331045",
     "exception": false,
     "start_time": "2023-08-01T02:00:56.323135",
     "status": "completed"
    },
    "tags": []
   },
   "outputs": [],
   "source": [
    "# drop metadata columns if the column contains 'Metadata'\n",
    "cell_df = feature_df\n",
    "feature_df = cell_df.loc[:, ~cell_df.columns.str.contains(\"Metadata\")]\n",
    "metadata_df = cell_df.loc[:, cell_df.columns.str.contains(\"Metadata\")]"
   ]
  },
  {
   "cell_type": "code",
   "execution_count": 6,
   "id": "fcf7bf0d",
   "metadata": {
    "execution": {
     "iopub.execute_input": "2023-08-01T02:00:56.336180Z",
     "iopub.status.busy": "2023-08-01T02:00:56.335840Z",
     "iopub.status.idle": "2023-08-01T02:00:56.339764Z",
     "shell.execute_reply": "2023-08-01T02:00:56.339514Z"
    },
    "papermill": {
     "duration": 0.007394,
     "end_time": "2023-08-01T02:00:56.340645",
     "exception": false,
     "start_time": "2023-08-01T02:00:56.333251",
     "status": "completed"
    },
    "tags": []
   },
   "outputs": [
    {
     "name": "stderr",
     "output_type": "stream",
     "text": [
      "/tmp/ipykernel_230651/639316540.py:1: SettingWithCopyWarning: \n",
      "A value is trying to be set on a copy of a slice from a DataFrame.\n",
      "Try using .loc[row_indexer,col_indexer] = value instead\n",
      "\n",
      "See the caveats in the documentation: https://pandas.pydata.org/pandas-docs/stable/user_guide/indexing.html#returning-a-view-versus-a-copy\n",
      "  feature_df.loc[:, \"Metadata_Well\"] = metadata_df[\"Metadata_Well\"]\n"
     ]
    }
   ],
   "source": [
    "feature_df.loc[:, \"Metadata_Well\"] = metadata_df[\"Metadata_Well\"]\n",
    "feature_df.index = feature_df[\"Metadata_Well\"]\n",
    "feature_df = feature_df.drop(columns=[\"Metadata_Well\"])"
   ]
  },
  {
   "cell_type": "code",
   "execution_count": 7,
   "id": "5b812105",
   "metadata": {
    "execution": {
     "iopub.execute_input": "2023-08-01T02:00:56.345981Z",
     "iopub.status.busy": "2023-08-01T02:00:56.345660Z",
     "iopub.status.idle": "2023-08-01T02:00:56.429489Z",
     "shell.execute_reply": "2023-08-01T02:00:56.429188Z"
    },
    "papermill": {
     "duration": 0.087475,
     "end_time": "2023-08-01T02:00:56.430458",
     "exception": false,
     "start_time": "2023-08-01T02:00:56.342983",
     "status": "completed"
    },
    "tags": []
   },
   "outputs": [],
   "source": [
    "feature_df = (\n",
    "    feature_df.T.corr()\n",
    "    .reset_index()\n",
    "    .rename(columns={\"Metadata_Well\": \"Wells\"})\n",
    "    .melt(\n",
    "        id_vars=\"Wells\",\n",
    "        var_name=\"Metadata_Well\",\n",
    "        value_name=\"correlation\",\n",
    "    )\n",
    ")"
   ]
  },
  {
   "cell_type": "code",
   "execution_count": 8,
   "id": "d9e02a58",
   "metadata": {
    "execution": {
     "iopub.execute_input": "2023-08-01T02:00:56.436052Z",
     "iopub.status.busy": "2023-08-01T02:00:56.435898Z",
     "iopub.status.idle": "2023-08-01T02:00:56.467707Z",
     "shell.execute_reply": "2023-08-01T02:00:56.467417Z"
    },
    "papermill": {
     "duration": 0.035644,
     "end_time": "2023-08-01T02:00:56.468733",
     "exception": false,
     "start_time": "2023-08-01T02:00:56.433089",
     "status": "completed"
    },
    "tags": []
   },
   "outputs": [],
   "source": [
    "save_path = pathlib.Path(f\"./results/correlation/{cell_type}/aggregated_morphology\")\n",
    "save_path.mkdir(parents=True, exist_ok=True)\n",
    "feature_df.to_csv(f\"{save_path}/wells.csv\")"
   ]
  },
  {
   "attachments": {},
   "cell_type": "markdown",
   "id": "a84a221d",
   "metadata": {
    "papermill": {
     "duration": 0.029093,
     "end_time": "2023-08-01T02:00:56.500093",
     "exception": false,
     "start_time": "2023-08-01T02:00:56.471000",
     "status": "completed"
    },
    "tags": []
   },
   "source": [
    "# Correlation of Aggregated Features per Treatment"
   ]
  },
  {
   "cell_type": "code",
   "execution_count": 9,
   "id": "8768c1d3",
   "metadata": {
    "execution": {
     "iopub.execute_input": "2023-08-01T02:00:56.505428Z",
     "iopub.status.busy": "2023-08-01T02:00:56.505108Z",
     "iopub.status.idle": "2023-08-01T02:00:56.513504Z",
     "shell.execute_reply": "2023-08-01T02:00:56.513240Z"
    },
    "papermill": {
     "duration": 0.012037,
     "end_time": "2023-08-01T02:00:56.514380",
     "exception": false,
     "start_time": "2023-08-01T02:00:56.502343",
     "status": "completed"
    },
    "tags": []
   },
   "outputs": [
    {
     "name": "stderr",
     "output_type": "stream",
     "text": [
      "/tmp/ipykernel_230651/3215738170.py:3: SettingWithCopyWarning: \n",
      "A value is trying to be set on a copy of a slice from a DataFrame.\n",
      "Try using .loc[row_indexer,col_indexer] = value instead\n",
      "\n",
      "See the caveats in the documentation: https://pandas.pydata.org/pandas-docs/stable/user_guide/indexing.html#returning-a-view-versus-a-copy\n",
      "  feature_df.loc[:, \"oneb_Metadata_Treatment_Dose_Inhibitor_Dose\"] = metadata_df[\n"
     ]
    }
   ],
   "source": [
    "feature_df = cell_df.loc[:, ~cell_df.columns.str.contains(\"Metadata\")]\n",
    "metadata_df = cell_df.loc[:, cell_df.columns.str.contains(\"Metadata\")]\n",
    "feature_df.loc[:, \"oneb_Metadata_Treatment_Dose_Inhibitor_Dose\"] = metadata_df[\n",
    "    \"oneb_Metadata_Treatment_Dose_Inhibitor_Dose\"\n",
    "]\n",
    "# groupby oneb_Metadata_Treatment_Dose_Inhibitor_Dose column\n",
    "feature_df = feature_df.groupby(\"oneb_Metadata_Treatment_Dose_Inhibitor_Dose\").median()"
   ]
  },
  {
   "cell_type": "code",
   "execution_count": 10,
   "id": "250f7c9c",
   "metadata": {
    "execution": {
     "iopub.execute_input": "2023-08-01T02:00:56.522224Z",
     "iopub.status.busy": "2023-08-01T02:00:56.521954Z",
     "iopub.status.idle": "2023-08-01T02:00:56.531799Z",
     "shell.execute_reply": "2023-08-01T02:00:56.531503Z"
    },
    "papermill": {
     "duration": 0.015771,
     "end_time": "2023-08-01T02:00:56.532505",
     "exception": false,
     "start_time": "2023-08-01T02:00:56.516734",
     "status": "completed"
    },
    "tags": []
   },
   "outputs": [],
   "source": [
    "feature_df = (\n",
    "    feature_df.T.corr()\n",
    "    .reset_index()\n",
    "    .rename(columns={\"oneb_Metadata_Treatment_Dose_Inhibitor_Dose\": \"Treatments\"})\n",
    "    .melt(\n",
    "        id_vars=\"Treatments\",\n",
    "        var_name=\"oneb_Metadata_Treatment_Dose_Inhibitor_Dose\",\n",
    "        value_name=\"correlation\",\n",
    "    )\n",
    ")"
   ]
  },
  {
   "cell_type": "code",
   "execution_count": 11,
   "id": "2c6a5c63",
   "metadata": {
    "execution": {
     "iopub.execute_input": "2023-08-01T02:00:56.537880Z",
     "iopub.status.busy": "2023-08-01T02:00:56.537505Z",
     "iopub.status.idle": "2023-08-01T02:00:56.542788Z",
     "shell.execute_reply": "2023-08-01T02:00:56.542556Z"
    },
    "papermill": {
     "duration": 0.008913,
     "end_time": "2023-08-01T02:00:56.543675",
     "exception": false,
     "start_time": "2023-08-01T02:00:56.534762",
     "status": "completed"
    },
    "tags": []
   },
   "outputs": [],
   "source": [
    "save_path = pathlib.Path(f\"./results/correlation/{cell_type}/aggregated_morphology\")\n",
    "save_path.mkdir(parents=True, exist_ok=True)\n",
    "feature_df.to_csv(f\"{save_path}/treatments.csv\")"
   ]
  }
 ],
 "metadata": {
  "kernelspec": {
   "display_name": "Interstellar",
   "language": "python",
   "name": "python3"
  },
  "language_info": {
   "codemirror_mode": {
    "name": "ipython",
    "version": 3
   },
   "file_extension": ".py",
   "mimetype": "text/x-python",
   "name": "python",
   "nbconvert_exporter": "python",
   "pygments_lexer": "ipython3",
   "version": "3.10.12"
  },
  "papermill": {
   "default_parameters": {},
   "duration": 1.38721,
   "end_time": "2023-08-01T02:00:56.660087",
   "environment_variables": {},
   "exception": null,
   "input_path": "2b.correlation_agg_morphology_features.ipynb",
   "output_path": "2b.correlation_agg_morphology_features.ipynb",
   "parameters": {
    "cell_type": "PBMC"
   },
   "start_time": "2023-08-01T02:00:55.272877",
   "version": "2.4.0"
  },
  "vscode": {
   "interpreter": {
    "hash": "72ae02083a9ca7d143c492d1aec380c7bf553ec51bd66e90e72bba65228121b6"
   }
  }
 },
 "nbformat": 4,
 "nbformat_minor": 5
}