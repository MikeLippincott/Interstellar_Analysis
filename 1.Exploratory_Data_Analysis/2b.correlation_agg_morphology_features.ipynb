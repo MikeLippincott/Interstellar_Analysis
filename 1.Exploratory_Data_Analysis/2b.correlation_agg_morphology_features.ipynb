{
 "cells": [
  {
   "attachments": {},
   "cell_type": "markdown",
   "id": "3bb3c494",
   "metadata": {
    "papermill": {
     "duration": 0.005333,
     "end_time": "2023-07-27T14:33:00.701142",
     "exception": false,
     "start_time": "2023-07-27T14:33:00.695809",
     "status": "completed"
    },
    "tags": []
   },
   "source": [
    "# Correlation of Aggregated Features\n",
    "Each well is median aggregated and normalized.  \n",
    "The correlation of the aggregated features is calculated per:\n",
    "* well\n",
    "* per treatment\n",
    "* per selected treatment"
   ]
  },
  {
   "cell_type": "code",
   "execution_count": 1,
   "id": "be8a998e",
   "metadata": {
    "execution": {
     "iopub.execute_input": "2023-07-27T14:33:00.711427Z",
     "iopub.status.busy": "2023-07-27T14:33:00.711077Z",
     "iopub.status.idle": "2023-07-27T14:33:01.777336Z",
     "shell.execute_reply": "2023-07-27T14:33:01.776320Z"
    },
    "papermill": {
     "duration": 1.073656,
     "end_time": "2023-07-27T14:33:01.779757",
     "exception": false,
     "start_time": "2023-07-27T14:33:00.706101",
     "status": "completed"
    },
    "tags": []
   },
   "outputs": [],
   "source": [
    "import pathlib\n",
    "\n",
    "import numpy as np\n",
    "import pandas as pd"
   ]
  },
  {
   "cell_type": "code",
   "execution_count": 2,
   "id": "15237ea9",
   "metadata": {
    "execution": {
     "iopub.execute_input": "2023-07-27T14:33:01.789107Z",
     "iopub.status.busy": "2023-07-27T14:33:01.788832Z",
     "iopub.status.idle": "2023-07-27T14:33:01.791871Z",
     "shell.execute_reply": "2023-07-27T14:33:01.791276Z"
    },
    "papermill": {
     "duration": 0.008782,
     "end_time": "2023-07-27T14:33:01.793056",
     "exception": false,
     "start_time": "2023-07-27T14:33:01.784274",
     "status": "completed"
    },
    "tags": [
     "injected-parameters"
    ]
   },
   "outputs": [],
   "source": [
    "# Parameters\n",
    "cell_type = \"PBMC\""
   ]
  },
  {
   "cell_type": "code",
   "execution_count": 3,
   "id": "c9fbb334",
   "metadata": {
    "execution": {
     "iopub.execute_input": "2023-07-27T14:33:01.799470Z",
     "iopub.status.busy": "2023-07-27T14:33:01.799311Z",
     "iopub.status.idle": "2023-07-27T14:33:02.078707Z",
     "shell.execute_reply": "2023-07-27T14:33:02.077872Z"
    },
    "papermill": {
     "duration": 0.284444,
     "end_time": "2023-07-27T14:33:02.080328",
     "exception": false,
     "start_time": "2023-07-27T14:33:01.795884",
     "status": "completed"
    },
    "tags": []
   },
   "outputs": [],
   "source": [
    "# set import data paths\n",
    "feature_df_path = pathlib.Path(f\"../data/{cell_type}_sc_aggregate_norm.parquet\")\n",
    "\n",
    "# read in data\n",
    "feature_df = pd.read_parquet(feature_df_path)"
   ]
  },
  {
   "attachments": {},
   "cell_type": "markdown",
   "id": "66df7b4f",
   "metadata": {
    "papermill": {
     "duration": 0.00269,
     "end_time": "2023-07-27T14:33:02.086101",
     "exception": false,
     "start_time": "2023-07-27T14:33:02.083411",
     "status": "completed"
    },
    "tags": []
   },
   "source": [
    "## Clean up df"
   ]
  },
  {
   "cell_type": "code",
   "execution_count": 4,
   "id": "8aab137d",
   "metadata": {
    "execution": {
     "iopub.execute_input": "2023-07-27T14:33:02.093271Z",
     "iopub.status.busy": "2023-07-27T14:33:02.092548Z",
     "iopub.status.idle": "2023-07-27T14:33:02.112574Z",
     "shell.execute_reply": "2023-07-27T14:33:02.111748Z"
    },
    "papermill": {
     "duration": 0.025248,
     "end_time": "2023-07-27T14:33:02.113987",
     "exception": false,
     "start_time": "2023-07-27T14:33:02.088739",
     "status": "completed"
    },
    "tags": []
   },
   "outputs": [],
   "source": [
    "# remove uM in each row of the Metadata_inducer1_concentration column if it is present\n",
    "if \"Metadata_inducer1_concentration\" in feature_df.columns:\n",
    "    feature_df[\"Metadata_inducer1_concentration\"] = feature_df[\n",
    "        \"Metadata_inducer1_concentration\"\n",
    "    ].str.replace(\"µM\", \"\")\n",
    "# replace nan values with 0\n",
    "feature_df[\"Metadata_inducer1_concentration\"] = feature_df[\n",
    "    \"Metadata_inducer1_concentration\"\n",
    "].fillna(0)\n",
    "feature_df[\"Metadata_inducer2_concentration\"] = feature_df[\n",
    "    \"Metadata_inducer2_concentration\"\n",
    "].fillna(0)\n",
    "feature_df[\"Metadata_inhibitor_concentration\"] = feature_df[\n",
    "    \"Metadata_inhibitor_concentration\"\n",
    "].fillna(0)\n",
    "# treatment column merge\n",
    "conditions = [\n",
    "    (feature_df[\"Metadata_inducer2\"].isnull()),\n",
    "    feature_df[\"Metadata_inducer2\"].notnull(),\n",
    "]\n",
    "results = [\n",
    "    (feature_df[\"Metadata_inducer1\"]).astype(str),\n",
    "    (feature_df[\"Metadata_inducer1\"] + \"_\" + feature_df[\"Metadata_inducer2\"]).astype(\n",
    "        str\n",
    "    ),\n",
    "]\n",
    "feature_df[\"Metadata_Treatment\"] = np.select(condlist=conditions, choicelist=results)\n",
    "\n",
    "# dose column merge\n",
    "conditions = [\n",
    "    (feature_df[\"Metadata_inducer2\"].isnull()),\n",
    "    feature_df[\"Metadata_inducer2\"].notnull(),\n",
    "]\n",
    "\n",
    "results = [\n",
    "    (feature_df[\"Metadata_inducer1_concentration\"].astype(str)).astype(str),\n",
    "    (\n",
    "        feature_df[\"Metadata_inducer1_concentration\"].astype(str)\n",
    "        + \"_\"\n",
    "        + feature_df[\"Metadata_inducer2_concentration\"].astype(str)\n",
    "    ).astype(str),\n",
    "]\n",
    "feature_df[\"Metadata_Dose\"] = np.select(condlist=conditions, choicelist=results)\n",
    "feature_df[\"Metadata_inducer1_concentration\"] = pd.to_numeric(\n",
    "    feature_df[\"Metadata_inducer1_concentration\"]\n",
    ")\n",
    "# one beta of inudcer1, inducer1 concentration, inhibitor, and inhibitor concentration all as 1 beta term\n",
    "feature_df[\"oneb_Metadata_Treatment_Dose_Inhibitor_Dose\"] = (\n",
    "    feature_df[\"Metadata_Treatment\"]\n",
    "    + \"_\"\n",
    "    + feature_df[\"Metadata_Dose\"].astype(str)\n",
    "    + \"_\"\n",
    "    + feature_df[\"Metadata_inhibitor\"].astype(str)\n",
    "    + \"_\"\n",
    "    + feature_df[\"Metadata_inhibitor_concentration\"].astype(str)\n",
    ").astype(str)"
   ]
  },
  {
   "attachments": {},
   "cell_type": "markdown",
   "id": "d7624ab2",
   "metadata": {
    "papermill": {
     "duration": 0.002559,
     "end_time": "2023-07-27T14:33:02.119452",
     "exception": false,
     "start_time": "2023-07-27T14:33:02.116893",
     "status": "completed"
    },
    "tags": []
   },
   "source": [
    "## Correlation of Aggregated Features per Well"
   ]
  },
  {
   "cell_type": "code",
   "execution_count": 5,
   "id": "9d0b80a6",
   "metadata": {
    "execution": {
     "iopub.execute_input": "2023-07-27T14:33:02.126291Z",
     "iopub.status.busy": "2023-07-27T14:33:02.125676Z",
     "iopub.status.idle": "2023-07-27T14:33:02.137808Z",
     "shell.execute_reply": "2023-07-27T14:33:02.137017Z"
    },
    "papermill": {
     "duration": 0.017261,
     "end_time": "2023-07-27T14:33:02.139317",
     "exception": false,
     "start_time": "2023-07-27T14:33:02.122056",
     "status": "completed"
    },
    "tags": []
   },
   "outputs": [],
   "source": [
    "# drop metadata columns if the column contains 'Metadata'\n",
    "cell_df = feature_df\n",
    "feature_df = cell_df.loc[:, ~cell_df.columns.str.contains(\"Metadata\")]\n",
    "metadata_df = cell_df.loc[:, cell_df.columns.str.contains(\"Metadata\")]"
   ]
  },
  {
   "cell_type": "code",
   "execution_count": 6,
   "id": "fcf7bf0d",
   "metadata": {
    "execution": {
     "iopub.execute_input": "2023-07-27T14:33:02.146922Z",
     "iopub.status.busy": "2023-07-27T14:33:02.146124Z",
     "iopub.status.idle": "2023-07-27T14:33:02.156337Z",
     "shell.execute_reply": "2023-07-27T14:33:02.155472Z"
    },
    "papermill": {
     "duration": 0.01535,
     "end_time": "2023-07-27T14:33:02.157616",
     "exception": false,
     "start_time": "2023-07-27T14:33:02.142266",
     "status": "completed"
    },
    "tags": []
   },
   "outputs": [
    {
     "name": "stderr",
     "output_type": "stream",
     "text": [
      "/tmp/ipykernel_838916/4190782583.py:1: SettingWithCopyWarning: \n",
      "A value is trying to be set on a copy of a slice from a DataFrame.\n",
      "Try using .loc[row_indexer,col_indexer] = value instead\n",
      "\n",
      "See the caveats in the documentation: https://pandas.pydata.org/pandas-docs/stable/user_guide/indexing.html#returning-a-view-versus-a-copy\n"
     ]
    }
   ],
   "source": [
    "feature_df.loc[:, \"Metadata_Well\"] = metadata_df[\"Metadata_Well\"]\n",
    "feature_df.index = feature_df[\"Metadata_Well\"]\n",
    "feature_df = feature_df.drop(columns=[\"Metadata_Well\"])"
   ]
  },
  {
   "cell_type": "code",
   "execution_count": 7,
   "id": "d9e02a58",
   "metadata": {
    "execution": {
     "iopub.execute_input": "2023-07-27T14:33:02.164946Z",
     "iopub.status.busy": "2023-07-27T14:33:02.164341Z",
     "iopub.status.idle": "2023-07-27T14:33:02.327025Z",
     "shell.execute_reply": "2023-07-27T14:33:02.326297Z"
    },
    "papermill": {
     "duration": 0.168285,
     "end_time": "2023-07-27T14:33:02.328960",
     "exception": false,
     "start_time": "2023-07-27T14:33:02.160675",
     "status": "completed"
    },
    "tags": []
   },
   "outputs": [],
   "source": [
    "well_corr_df = feature_df.T.corr()\n",
    "save_path = pathlib.Path(f\"./results/correlation/{cell_type}/aggregated_morphology\")\n",
    "save_path.mkdir(parents=True, exist_ok=True)\n",
    "well_corr_df.to_csv(f\"{save_path}/wells_corr.csv\")"
   ]
  },
  {
   "attachments": {},
   "cell_type": "markdown",
   "id": "a84a221d",
   "metadata": {
    "papermill": {
     "duration": 0.005486,
     "end_time": "2023-07-27T14:33:02.340432",
     "exception": false,
     "start_time": "2023-07-27T14:33:02.334946",
     "status": "completed"
    },
    "tags": []
   },
   "source": [
    "# Correlation of Aggregated Features per Treatment"
   ]
  },
  {
   "cell_type": "code",
   "execution_count": 8,
   "id": "8768c1d3",
   "metadata": {
    "execution": {
     "iopub.execute_input": "2023-07-27T14:33:02.350641Z",
     "iopub.status.busy": "2023-07-27T14:33:02.350336Z",
     "iopub.status.idle": "2023-07-27T14:33:02.364984Z",
     "shell.execute_reply": "2023-07-27T14:33:02.364327Z"
    },
    "papermill": {
     "duration": 0.020503,
     "end_time": "2023-07-27T14:33:02.366167",
     "exception": false,
     "start_time": "2023-07-27T14:33:02.345664",
     "status": "completed"
    },
    "tags": []
   },
   "outputs": [
    {
     "name": "stderr",
     "output_type": "stream",
     "text": [
      "/tmp/ipykernel_838916/2207516747.py:3: SettingWithCopyWarning: \n",
      "A value is trying to be set on a copy of a slice from a DataFrame.\n",
      "Try using .loc[row_indexer,col_indexer] = value instead\n",
      "\n",
      "See the caveats in the documentation: https://pandas.pydata.org/pandas-docs/stable/user_guide/indexing.html#returning-a-view-versus-a-copy\n"
     ]
    }
   ],
   "source": [
    "feature_df = cell_df.loc[:, ~cell_df.columns.str.contains(\"Metadata\")]\n",
    "metadata_df = cell_df.loc[:, cell_df.columns.str.contains(\"Metadata\")]\n",
    "feature_df.loc[:, \"oneb_Metadata_Treatment_Dose_Inhibitor_Dose\"] = metadata_df[\n",
    "    \"oneb_Metadata_Treatment_Dose_Inhibitor_Dose\"\n",
    "]\n",
    "# groupby oneb_Metadata_Treatment_Dose_Inhibitor_Dose column\n",
    "feature_df = feature_df.groupby(\"oneb_Metadata_Treatment_Dose_Inhibitor_Dose\").median()"
   ]
  },
  {
   "cell_type": "code",
   "execution_count": 9,
   "id": "2c6a5c63",
   "metadata": {
    "execution": {
     "iopub.execute_input": "2023-07-27T14:33:02.373273Z",
     "iopub.status.busy": "2023-07-27T14:33:02.373107Z",
     "iopub.status.idle": "2023-07-27T14:33:02.388873Z",
     "shell.execute_reply": "2023-07-27T14:33:02.387706Z"
    },
    "papermill": {
     "duration": 0.020996,
     "end_time": "2023-07-27T14:33:02.390663",
     "exception": false,
     "start_time": "2023-07-27T14:33:02.369667",
     "status": "completed"
    },
    "tags": []
   },
   "outputs": [],
   "source": [
    "well_corr_df = feature_df.T.corr()\n",
    "save_path = pathlib.Path(f\"./results/correlation/{cell_type}/aggregated_morphology\")\n",
    "save_path.mkdir(parents=True, exist_ok=True)\n",
    "well_corr_df.to_csv(f\"{save_path}/treatments_corr.csv\")"
   ]
  },
  {
   "attachments": {},
   "cell_type": "markdown",
   "id": "40faa096",
   "metadata": {
    "papermill": {
     "duration": 0.002916,
     "end_time": "2023-07-27T14:33:02.396948",
     "exception": false,
     "start_time": "2023-07-27T14:33:02.394032",
     "status": "completed"
    },
    "tags": []
   },
   "source": [
    "# Selected Treatment correlation"
   ]
  },
  {
   "cell_type": "code",
   "execution_count": 10,
   "id": "c4ed07c2",
   "metadata": {
    "execution": {
     "iopub.execute_input": "2023-07-27T14:33:02.404368Z",
     "iopub.status.busy": "2023-07-27T14:33:02.403976Z",
     "iopub.status.idle": "2023-07-27T14:33:02.408429Z",
     "shell.execute_reply": "2023-07-27T14:33:02.407679Z"
    },
    "papermill": {
     "duration": 0.009725,
     "end_time": "2023-07-27T14:33:02.409823",
     "exception": false,
     "start_time": "2023-07-27T14:33:02.400098",
     "status": "completed"
    },
    "tags": []
   },
   "outputs": [],
   "source": [
    "treatments_agg = feature_df\n",
    "treatments_agg = treatments_agg.reset_index()"
   ]
  },
  {
   "cell_type": "code",
   "execution_count": 11,
   "id": "143cbe31",
   "metadata": {
    "execution": {
     "iopub.execute_input": "2023-07-27T14:33:02.417462Z",
     "iopub.status.busy": "2023-07-27T14:33:02.417094Z",
     "iopub.status.idle": "2023-07-27T14:33:02.420659Z",
     "shell.execute_reply": "2023-07-27T14:33:02.420097Z"
    },
    "papermill": {
     "duration": 0.008606,
     "end_time": "2023-07-27T14:33:02.421731",
     "exception": false,
     "start_time": "2023-07-27T14:33:02.413125",
     "status": "completed"
    },
    "tags": []
   },
   "outputs": [],
   "source": [
    "list_of_treatments = [\n",
    "    \"LPS_0.010_DMSO_0.025\",\n",
    "    \"LPS_0.100_DMSO_0.025\",\n",
    "    \"LPS_1.000_DMSO_0.025\",\n",
    "    \"LPS_10.000_DMSO_0.025\",\n",
    "    \"LPS_100.000_DMSO_0.025\",\n",
    "    \"DMSO_0.100_DMSO_0.025\",\n",
    "    \"Thapsigargin_1.000_DMSO_0.025\",\n",
    "    \"Thapsigargin_10.000_DMSO_0.025\",\n",
    "]"
   ]
  },
  {
   "cell_type": "code",
   "execution_count": 12,
   "id": "706e6d89",
   "metadata": {
    "execution": {
     "iopub.execute_input": "2023-07-27T14:33:02.428586Z",
     "iopub.status.busy": "2023-07-27T14:33:02.428390Z",
     "iopub.status.idle": "2023-07-27T14:33:02.434003Z",
     "shell.execute_reply": "2023-07-27T14:33:02.433387Z"
    },
    "papermill": {
     "duration": 0.010469,
     "end_time": "2023-07-27T14:33:02.435189",
     "exception": false,
     "start_time": "2023-07-27T14:33:02.424720",
     "status": "completed"
    },
    "tags": []
   },
   "outputs": [],
   "source": [
    "# subset the data to only include the treatments of interest from list_of_treatments\n",
    "treatments_agg = treatments_agg[\n",
    "    treatments_agg[\"oneb_Metadata_Treatment_Dose_Inhibitor_Dose\"].isin(\n",
    "        list_of_treatments\n",
    "    )\n",
    "]\n",
    "# aggregate by treatment and dose\n",
    "treatments_agg = treatments_agg.groupby(\n",
    "    [\"oneb_Metadata_Treatment_Dose_Inhibitor_Dose\"]\n",
    ").mean()"
   ]
  },
  {
   "cell_type": "code",
   "execution_count": 13,
   "id": "cd8f9ddd",
   "metadata": {
    "execution": {
     "iopub.execute_input": "2023-07-27T14:33:02.442729Z",
     "iopub.status.busy": "2023-07-27T14:33:02.442491Z",
     "iopub.status.idle": "2023-07-27T14:33:02.448841Z",
     "shell.execute_reply": "2023-07-27T14:33:02.448111Z"
    },
    "papermill": {
     "duration": 0.011912,
     "end_time": "2023-07-27T14:33:02.450251",
     "exception": false,
     "start_time": "2023-07-27T14:33:02.438339",
     "status": "completed"
    },
    "tags": []
   },
   "outputs": [],
   "source": [
    "well_corr_df = treatments_agg.T.corr()\n",
    "save_path = pathlib.Path(f\"./results/correlation/{cell_type}/aggregated_morphology\")\n",
    "save_path.mkdir(parents=True, exist_ok=True)\n",
    "well_corr_df.to_csv(f\"{save_path}/selected_treatments_corr.csv\")"
   ]
  }
 ],
 "metadata": {
  "kernelspec": {
   "display_name": "Interstellar",
   "language": "python",
   "name": "python3"
  },
  "language_info": {
   "codemirror_mode": {
    "name": "ipython",
    "version": 3
   },
   "file_extension": ".py",
   "mimetype": "text/x-python",
   "name": "python",
   "nbconvert_exporter": "python",
   "pygments_lexer": "ipython3",
   "version": "3.10.12"
  },
  "papermill": {
   "default_parameters": {},
   "duration": 3.201161,
   "end_time": "2023-07-27T14:33:02.972040",
   "environment_variables": {},
   "exception": null,
   "input_path": "2b.correlation_agg_morphology_features.ipynb",
   "output_path": "2b.correlation_agg_morphology_features.ipynb",
   "parameters": {
    "cell_type": "PBMC"
   },
   "start_time": "2023-07-27T14:32:59.770879",
   "version": "2.4.0"
  },
  "vscode": {
   "interpreter": {
    "hash": "72ae02083a9ca7d143c492d1aec380c7bf553ec51bd66e90e72bba65228121b6"
   }
  }
 },
 "nbformat": 4,
 "nbformat_minor": 5
}
