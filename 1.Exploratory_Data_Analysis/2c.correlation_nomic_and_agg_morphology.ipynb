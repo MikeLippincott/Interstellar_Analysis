{
 "cells": [
  {
   "attachments": {},
   "cell_type": "markdown",
   "id": "9e9a304b",
   "metadata": {
    "papermill": {
     "duration": 0.003783,
     "end_time": "2023-07-27T14:33:08.506826",
     "exception": false,
     "start_time": "2023-07-27T14:33:08.503043",
     "status": "completed"
    },
    "tags": []
   },
   "source": [
    "# Correlation of single cell morhologies and nELISA Cytokine/Chemokine Panel\n",
    "Each well is median aggregated and normalized.  \n",
    "The correlation of the aggregate morphology features and nELISA features is calculated per:\n",
    "* well\n",
    "* per treatment\n",
    "* per selected treatment"
   ]
  },
  {
   "cell_type": "code",
   "execution_count": 1,
   "id": "ae3b115d",
   "metadata": {
    "execution": {
     "iopub.execute_input": "2023-07-27T14:33:08.519007Z",
     "iopub.status.busy": "2023-07-27T14:33:08.518538Z",
     "iopub.status.idle": "2023-07-27T14:33:09.606624Z",
     "shell.execute_reply": "2023-07-27T14:33:09.605929Z"
    },
    "papermill": {
     "duration": 1.096398,
     "end_time": "2023-07-27T14:33:09.608202",
     "exception": false,
     "start_time": "2023-07-27T14:33:08.511804",
     "status": "completed"
    },
    "tags": []
   },
   "outputs": [],
   "source": [
    "import pathlib\n",
    "\n",
    "import numpy as np\n",
    "import pandas as pd"
   ]
  },
  {
   "cell_type": "code",
   "execution_count": 2,
   "id": "dd861659",
   "metadata": {
    "execution": {
     "iopub.execute_input": "2023-07-27T14:33:09.618273Z",
     "iopub.status.busy": "2023-07-27T14:33:09.617969Z",
     "iopub.status.idle": "2023-07-27T14:33:09.621099Z",
     "shell.execute_reply": "2023-07-27T14:33:09.620539Z"
    },
    "papermill": {
     "duration": 0.010566,
     "end_time": "2023-07-27T14:33:09.622468",
     "exception": false,
     "start_time": "2023-07-27T14:33:09.611902",
     "status": "completed"
    },
    "tags": [
     "injected-parameters"
    ]
   },
   "outputs": [],
   "source": [
    "# Parameters\n",
    "cell_type = \"PBMC\""
   ]
  },
  {
   "cell_type": "code",
   "execution_count": 3,
   "id": "1b051226",
   "metadata": {
    "execution": {
     "iopub.execute_input": "2023-07-27T14:33:09.633781Z",
     "iopub.status.busy": "2023-07-27T14:33:09.633526Z",
     "iopub.status.idle": "2023-07-27T14:33:09.945738Z",
     "shell.execute_reply": "2023-07-27T14:33:09.945235Z"
    },
    "papermill": {
     "duration": 0.320348,
     "end_time": "2023-07-27T14:33:09.947726",
     "exception": false,
     "start_time": "2023-07-27T14:33:09.627378",
     "status": "completed"
    },
    "tags": []
   },
   "outputs": [],
   "source": [
    "# set import data paths\n",
    "PBMC_df_path = pathlib.Path(f\"../data/{cell_type}_sc_aggregate_norm.parquet\")\n",
    "nomic_df_path = pathlib.Path(\n",
    "    f\"../2.Nomic_nELISA_Analysis/Data/clean/Plate2/nELISA_plate_430420_{cell_type}.csv\"\n",
    ")\n",
    "\n",
    "# read in data\n",
    "feature_df = pd.read_parquet(PBMC_df_path)\n",
    "nomic_df = pd.read_csv(nomic_df_path)"
   ]
  },
  {
   "attachments": {},
   "cell_type": "markdown",
   "id": "41f924ca",
   "metadata": {
    "papermill": {
     "duration": 0.003144,
     "end_time": "2023-07-27T14:33:09.955851",
     "exception": false,
     "start_time": "2023-07-27T14:33:09.952707",
     "status": "completed"
    },
    "tags": []
   },
   "source": [
    "## Clean up morphology df"
   ]
  },
  {
   "cell_type": "code",
   "execution_count": 4,
   "id": "2ae59e17",
   "metadata": {
    "execution": {
     "iopub.execute_input": "2023-07-27T14:33:09.963289Z",
     "iopub.status.busy": "2023-07-27T14:33:09.963013Z",
     "iopub.status.idle": "2023-07-27T14:33:09.974967Z",
     "shell.execute_reply": "2023-07-27T14:33:09.974378Z"
    },
    "papermill": {
     "duration": 0.017368,
     "end_time": "2023-07-27T14:33:09.976389",
     "exception": false,
     "start_time": "2023-07-27T14:33:09.959021",
     "status": "completed"
    },
    "tags": []
   },
   "outputs": [],
   "source": [
    "# remove uM in each row of the Metadata_inducer1_concentration column if it is present\n",
    "if \"Metadata_inducer1_concentration\" in feature_df.columns:\n",
    "    feature_df[\"Metadata_inducer1_concentration\"] = feature_df[\n",
    "        \"Metadata_inducer1_concentration\"\n",
    "    ].str.replace(\"µM\", \"\")\n",
    "# replace nan values with 0\n",
    "feature_df[\"Metadata_inducer1_concentration\"] = feature_df[\n",
    "    \"Metadata_inducer1_concentration\"\n",
    "].fillna(0)\n",
    "feature_df[\"Metadata_inducer2_concentration\"] = feature_df[\n",
    "    \"Metadata_inducer2_concentration\"\n",
    "].fillna(0)\n",
    "feature_df[\"Metadata_inhibitor_concentration\"] = feature_df[\n",
    "    \"Metadata_inhibitor_concentration\"\n",
    "].fillna(0)\n",
    "# treatment column merge\n",
    "conditions = [\n",
    "    (feature_df[\"Metadata_inducer2\"].isnull()),\n",
    "    feature_df[\"Metadata_inducer2\"].notnull(),\n",
    "]\n",
    "results = [\n",
    "    (feature_df[\"Metadata_inducer1\"]).astype(str),\n",
    "    (feature_df[\"Metadata_inducer1\"] + \"_\" + feature_df[\"Metadata_inducer2\"]).astype(\n",
    "        str\n",
    "    ),\n",
    "]\n",
    "feature_df[\"Metadata_Treatment\"] = np.select(condlist=conditions, choicelist=results)\n",
    "\n",
    "# dose column merge\n",
    "conditions = [\n",
    "    (feature_df[\"Metadata_inducer2\"].isnull()),\n",
    "    feature_df[\"Metadata_inducer2\"].notnull(),\n",
    "]\n",
    "\n",
    "results = [\n",
    "    (feature_df[\"Metadata_inducer1_concentration\"].astype(str)).astype(str),\n",
    "    (\n",
    "        feature_df[\"Metadata_inducer1_concentration\"].astype(str)\n",
    "        + \"_\"\n",
    "        + feature_df[\"Metadata_inducer2_concentration\"].astype(str)\n",
    "    ).astype(str),\n",
    "]\n",
    "feature_df[\"Metadata_Dose\"] = np.select(condlist=conditions, choicelist=results)\n",
    "feature_df[\"Metadata_inducer1_concentration\"] = pd.to_numeric(\n",
    "    feature_df[\"Metadata_inducer1_concentration\"]\n",
    ")\n",
    "# one beta of inudcer1, inducer1 concentration, inhibitor, and inhibitor concentration all as 1 beta term\n",
    "feature_df[\"oneb_Metadata_Treatment_Dose_Inhibitor_Dose\"] = (\n",
    "    feature_df[\"Metadata_Treatment\"]\n",
    "    + \"_\"\n",
    "    + feature_df[\"Metadata_Dose\"].astype(str)\n",
    "    + \"_\"\n",
    "    + feature_df[\"Metadata_inhibitor\"].astype(str)\n",
    "    + \"_\"\n",
    "    + feature_df[\"Metadata_inhibitor_concentration\"].astype(str)\n",
    ").astype(str)"
   ]
  },
  {
   "cell_type": "markdown",
   "id": "23057112",
   "metadata": {
    "papermill": {
     "duration": 0.005497,
     "end_time": "2023-07-27T14:33:09.988367",
     "exception": false,
     "start_time": "2023-07-27T14:33:09.982870",
     "status": "completed"
    },
    "tags": []
   },
   "source": [
    "## Clean up Nomic df"
   ]
  },
  {
   "cell_type": "code",
   "execution_count": 5,
   "id": "6f6afec2",
   "metadata": {
    "execution": {
     "iopub.execute_input": "2023-07-27T14:33:09.997540Z",
     "iopub.status.busy": "2023-07-27T14:33:09.997283Z",
     "iopub.status.idle": "2023-07-27T14:33:10.008518Z",
     "shell.execute_reply": "2023-07-27T14:33:10.008009Z"
    },
    "papermill": {
     "duration": 0.016685,
     "end_time": "2023-07-27T14:33:10.009682",
     "exception": false,
     "start_time": "2023-07-27T14:33:09.992997",
     "status": "completed"
    },
    "tags": []
   },
   "outputs": [],
   "source": [
    "# remove column if colname has pgml in it\n",
    "nomic_df = nomic_df.loc[:, ~nomic_df.columns.str.contains(\"pgml\", case=False, na=False)]\n",
    "# if column does not contain [NSU] then prefix with Metadata_\n",
    "for col in nomic_df.columns:\n",
    "    if not any(x in col for x in [\"NSU\"]):\n",
    "        nomic_df = nomic_df.rename(columns={col: \"Metadata_\" + col})"
   ]
  },
  {
   "cell_type": "code",
   "execution_count": 6,
   "id": "b33e693f",
   "metadata": {
    "execution": {
     "iopub.execute_input": "2023-07-27T14:33:10.017374Z",
     "iopub.status.busy": "2023-07-27T14:33:10.017049Z",
     "iopub.status.idle": "2023-07-27T14:33:10.020883Z",
     "shell.execute_reply": "2023-07-27T14:33:10.020461Z"
    },
    "papermill": {
     "duration": 0.00969,
     "end_time": "2023-07-27T14:33:10.022867",
     "exception": false,
     "start_time": "2023-07-27T14:33:10.013177",
     "status": "completed"
    },
    "tags": []
   },
   "outputs": [],
   "source": [
    "# drop first column of metadata\n",
    "nomic_df.columns[3:25]\n",
    "nomic_df = nomic_df.drop(nomic_df.columns[3:25], axis=1)\n",
    "nomic_df = nomic_df.drop(nomic_df.columns[0:2], axis=1)"
   ]
  },
  {
   "cell_type": "markdown",
   "id": "70bfbcb3",
   "metadata": {
    "papermill": {
     "duration": 0.006202,
     "end_time": "2023-07-27T14:33:10.034352",
     "exception": false,
     "start_time": "2023-07-27T14:33:10.028150",
     "status": "completed"
    },
    "tags": []
   },
   "source": [
    "### Merge Nomic and Aggregated Morphology dfs"
   ]
  },
  {
   "cell_type": "code",
   "execution_count": 7,
   "id": "7f315012",
   "metadata": {
    "execution": {
     "iopub.execute_input": "2023-07-27T14:33:10.046315Z",
     "iopub.status.busy": "2023-07-27T14:33:10.045983Z",
     "iopub.status.idle": "2023-07-27T14:33:10.057043Z",
     "shell.execute_reply": "2023-07-27T14:33:10.056330Z"
    },
    "papermill": {
     "duration": 0.020265,
     "end_time": "2023-07-27T14:33:10.059323",
     "exception": false,
     "start_time": "2023-07-27T14:33:10.039058",
     "status": "completed"
    },
    "tags": []
   },
   "outputs": [],
   "source": [
    "# merge nomic and morphology data by metadata_well and position_x\n",
    "merged_df = pd.merge(\n",
    "    feature_df,\n",
    "    nomic_df,\n",
    "    left_on=[\"Metadata_Well\"],\n",
    "    right_on=[\"Metadata_position_x\"],\n",
    ")\n",
    "merged_df = merged_df.drop([\"Metadata_position_x\"], axis=1)"
   ]
  },
  {
   "attachments": {},
   "cell_type": "markdown",
   "id": "2fa2d9af",
   "metadata": {
    "papermill": {
     "duration": 0.006434,
     "end_time": "2023-07-27T14:33:10.072651",
     "exception": false,
     "start_time": "2023-07-27T14:33:10.066217",
     "status": "completed"
    },
    "tags": []
   },
   "source": [
    "## Correlation of Aggregated Features per Well + Nomic Data"
   ]
  },
  {
   "cell_type": "code",
   "execution_count": 8,
   "id": "8f27cea9",
   "metadata": {
    "execution": {
     "iopub.execute_input": "2023-07-27T14:33:10.086574Z",
     "iopub.status.busy": "2023-07-27T14:33:10.086217Z",
     "iopub.status.idle": "2023-07-27T14:33:10.097135Z",
     "shell.execute_reply": "2023-07-27T14:33:10.096467Z"
    },
    "papermill": {
     "duration": 0.020525,
     "end_time": "2023-07-27T14:33:10.099359",
     "exception": false,
     "start_time": "2023-07-27T14:33:10.078834",
     "status": "completed"
    },
    "tags": []
   },
   "outputs": [],
   "source": [
    "# drop metadata columns if the column contains 'Metadata'\n",
    "cell_df = merged_df\n",
    "feature_df = cell_df.loc[:, ~cell_df.columns.str.contains(\"Metadata\")]\n",
    "metadata_df = cell_df.loc[:, cell_df.columns.str.contains(\"Metadata\")]"
   ]
  },
  {
   "cell_type": "code",
   "execution_count": 9,
   "id": "e46dd556",
   "metadata": {
    "execution": {
     "iopub.execute_input": "2023-07-27T14:33:10.113861Z",
     "iopub.status.busy": "2023-07-27T14:33:10.113333Z",
     "iopub.status.idle": "2023-07-27T14:33:10.123399Z",
     "shell.execute_reply": "2023-07-27T14:33:10.122570Z"
    },
    "papermill": {
     "duration": 0.019317,
     "end_time": "2023-07-27T14:33:10.125302",
     "exception": false,
     "start_time": "2023-07-27T14:33:10.105985",
     "status": "completed"
    },
    "tags": []
   },
   "outputs": [
    {
     "name": "stderr",
     "output_type": "stream",
     "text": [
      "/tmp/ipykernel_839120/4190782583.py:1: SettingWithCopyWarning: \n",
      "A value is trying to be set on a copy of a slice from a DataFrame.\n",
      "Try using .loc[row_indexer,col_indexer] = value instead\n",
      "\n",
      "See the caveats in the documentation: https://pandas.pydata.org/pandas-docs/stable/user_guide/indexing.html#returning-a-view-versus-a-copy\n"
     ]
    }
   ],
   "source": [
    "feature_df.loc[:, \"Metadata_Well\"] = metadata_df[\"Metadata_Well\"]\n",
    "feature_df.index = feature_df[\"Metadata_Well\"]\n",
    "feature_df = feature_df.drop(columns=[\"Metadata_Well\"])"
   ]
  },
  {
   "cell_type": "code",
   "execution_count": 10,
   "id": "f1208ea6",
   "metadata": {
    "execution": {
     "iopub.execute_input": "2023-07-27T14:33:10.140009Z",
     "iopub.status.busy": "2023-07-27T14:33:10.139518Z",
     "iopub.status.idle": "2023-07-27T14:33:10.320089Z",
     "shell.execute_reply": "2023-07-27T14:33:10.319371Z"
    },
    "papermill": {
     "duration": 0.190155,
     "end_time": "2023-07-27T14:33:10.322257",
     "exception": false,
     "start_time": "2023-07-27T14:33:10.132102",
     "status": "completed"
    },
    "tags": []
   },
   "outputs": [],
   "source": [
    "well_corr_df = feature_df.T.corr()\n",
    "save_path = pathlib.Path(\n",
    "    f\"./results/correlation/{cell_type}/aggregated_morphology_and_nomic\"\n",
    ")\n",
    "save_path.mkdir(parents=True, exist_ok=True)\n",
    "well_corr_df.to_csv(f\"{save_path}/wells_corr.csv\")"
   ]
  },
  {
   "cell_type": "markdown",
   "id": "cf5f5b9c",
   "metadata": {
    "papermill": {
     "duration": 0.006241,
     "end_time": "2023-07-27T14:33:10.335389",
     "exception": false,
     "start_time": "2023-07-27T14:33:10.329148",
     "status": "completed"
    },
    "tags": []
   },
   "source": [
    "# All Treatment Correlation"
   ]
  },
  {
   "cell_type": "code",
   "execution_count": 11,
   "id": "8ffdc7a3",
   "metadata": {
    "execution": {
     "iopub.execute_input": "2023-07-27T14:33:10.349310Z",
     "iopub.status.busy": "2023-07-27T14:33:10.349016Z",
     "iopub.status.idle": "2023-07-27T14:33:10.360708Z",
     "shell.execute_reply": "2023-07-27T14:33:10.360038Z"
    },
    "papermill": {
     "duration": 0.021044,
     "end_time": "2023-07-27T14:33:10.362759",
     "exception": false,
     "start_time": "2023-07-27T14:33:10.341715",
     "status": "completed"
    },
    "tags": []
   },
   "outputs": [],
   "source": [
    "feature_df.reset_index(inplace=True)\n",
    "feature_df.drop(columns=[\"Metadata_Well\"], inplace=True)\n",
    "feature_df.loc[:, \"oneb_Metadata_Treatment_Dose_Inhibitor_Dose\"] = metadata_df[\n",
    "    \"oneb_Metadata_Treatment_Dose_Inhibitor_Dose\"\n",
    "]\n",
    "# group by oneb_Metadata_Treatment_Dose_Inhibitor_Dose\n",
    "feature_df = feature_df.groupby(\"oneb_Metadata_Treatment_Dose_Inhibitor_Dose\").mean()"
   ]
  },
  {
   "cell_type": "code",
   "execution_count": 12,
   "id": "68efa06f",
   "metadata": {
    "execution": {
     "iopub.execute_input": "2023-07-27T14:33:10.376861Z",
     "iopub.status.busy": "2023-07-27T14:33:10.376598Z",
     "iopub.status.idle": "2023-07-27T14:33:10.391475Z",
     "shell.execute_reply": "2023-07-27T14:33:10.390969Z"
    },
    "papermill": {
     "duration": 0.02521,
     "end_time": "2023-07-27T14:33:10.394602",
     "exception": false,
     "start_time": "2023-07-27T14:33:10.369392",
     "status": "completed"
    },
    "tags": []
   },
   "outputs": [],
   "source": [
    "well_corr_df = feature_df.T.corr()\n",
    "save_path = pathlib.Path(\n",
    "    f\"./results/correlation/{cell_type}/aggregated_morphology_and_nomic\"\n",
    ")\n",
    "save_path.mkdir(parents=True, exist_ok=True)\n",
    "well_corr_df.to_csv(f\"{save_path}/treatments_corr.csv\")"
   ]
  },
  {
   "attachments": {},
   "cell_type": "markdown",
   "id": "fdf5a689",
   "metadata": {
    "papermill": {
     "duration": 0.006325,
     "end_time": "2023-07-27T14:33:10.409392",
     "exception": false,
     "start_time": "2023-07-27T14:33:10.403067",
     "status": "completed"
    },
    "tags": []
   },
   "source": [
    "# Selected Treatment correlation"
   ]
  },
  {
   "cell_type": "code",
   "execution_count": 13,
   "id": "5cde9917",
   "metadata": {
    "execution": {
     "iopub.execute_input": "2023-07-27T14:33:10.423811Z",
     "iopub.status.busy": "2023-07-27T14:33:10.423253Z",
     "iopub.status.idle": "2023-07-27T14:33:10.428388Z",
     "shell.execute_reply": "2023-07-27T14:33:10.427556Z"
    },
    "papermill": {
     "duration": 0.014334,
     "end_time": "2023-07-27T14:33:10.430180",
     "exception": false,
     "start_time": "2023-07-27T14:33:10.415846",
     "status": "completed"
    },
    "tags": []
   },
   "outputs": [],
   "source": [
    "feature_df.reset_index(inplace=True)\n",
    "treatments_agg = feature_df"
   ]
  },
  {
   "cell_type": "code",
   "execution_count": 14,
   "id": "b0ceea8b",
   "metadata": {
    "execution": {
     "iopub.execute_input": "2023-07-27T14:33:10.444968Z",
     "iopub.status.busy": "2023-07-27T14:33:10.444522Z",
     "iopub.status.idle": "2023-07-27T14:33:10.448262Z",
     "shell.execute_reply": "2023-07-27T14:33:10.447658Z"
    },
    "papermill": {
     "duration": 0.012883,
     "end_time": "2023-07-27T14:33:10.450079",
     "exception": false,
     "start_time": "2023-07-27T14:33:10.437196",
     "status": "completed"
    },
    "tags": []
   },
   "outputs": [],
   "source": [
    "list_of_treatments = [\n",
    "    \"LPS_0.010_DMSO_0.025\",\n",
    "    \"LPS_0.100_DMSO_0.025\",\n",
    "    \"LPS_1.000_DMSO_0.025\",\n",
    "    \"LPS_10.000_DMSO_0.025\",\n",
    "    \"LPS_100.000_DMSO_0.025\",\n",
    "    \"DMSO_0.100_DMSO_0.025\",\n",
    "    \"Thapsigargin_1.000_DMSO_0.025\",\n",
    "    \"Thapsigargin_10.000_DMSO_0.025\",\n",
    "]"
   ]
  },
  {
   "cell_type": "code",
   "execution_count": 15,
   "id": "65ed996d",
   "metadata": {
    "execution": {
     "iopub.execute_input": "2023-07-27T14:33:10.464247Z",
     "iopub.status.busy": "2023-07-27T14:33:10.463960Z",
     "iopub.status.idle": "2023-07-27T14:33:10.468605Z",
     "shell.execute_reply": "2023-07-27T14:33:10.467940Z"
    },
    "papermill": {
     "duration": 0.013719,
     "end_time": "2023-07-27T14:33:10.470394",
     "exception": false,
     "start_time": "2023-07-27T14:33:10.456675",
     "status": "completed"
    },
    "tags": []
   },
   "outputs": [],
   "source": [
    "# subset the data to only include the treatments of interest from list_of_treatments\n",
    "treatments_agg = treatments_agg[\n",
    "    treatments_agg[\"oneb_Metadata_Treatment_Dose_Inhibitor_Dose\"].isin(\n",
    "        list_of_treatments\n",
    "    )\n",
    "]\n",
    "# set the index to the treatment column\n",
    "treatments_agg.set_index(\"oneb_Metadata_Treatment_Dose_Inhibitor_Dose\", inplace=True)"
   ]
  },
  {
   "cell_type": "code",
   "execution_count": 16,
   "id": "6fd5ecfe",
   "metadata": {
    "execution": {
     "iopub.execute_input": "2023-07-27T14:33:10.484727Z",
     "iopub.status.busy": "2023-07-27T14:33:10.484249Z",
     "iopub.status.idle": "2023-07-27T14:33:10.491170Z",
     "shell.execute_reply": "2023-07-27T14:33:10.490432Z"
    },
    "papermill": {
     "duration": 0.015677,
     "end_time": "2023-07-27T14:33:10.492699",
     "exception": false,
     "start_time": "2023-07-27T14:33:10.477022",
     "status": "completed"
    },
    "tags": []
   },
   "outputs": [],
   "source": [
    "well_corr_df = treatments_agg.T.corr()\n",
    "save_path = pathlib.Path(\n",
    "    f\"./results/correlation/{cell_type}/aggregated_morphology_and_nomic\"\n",
    ")\n",
    "save_path.mkdir(parents=True, exist_ok=True)\n",
    "well_corr_df.to_csv(f\"{save_path}/selected_treatments_corr.csv\")"
   ]
  }
 ],
 "metadata": {
  "kernelspec": {
   "display_name": "Interstellar",
   "language": "python",
   "name": "python3"
  },
  "language_info": {
   "codemirror_mode": {
    "name": "ipython",
    "version": 3
   },
   "file_extension": ".py",
   "mimetype": "text/x-python",
   "name": "python",
   "nbconvert_exporter": "python",
   "pygments_lexer": "ipython3",
   "version": "3.10.12"
  },
  "papermill": {
   "default_parameters": {},
   "duration": 3.448813,
   "end_time": "2023-07-27T14:33:11.014097",
   "environment_variables": {},
   "exception": null,
   "input_path": "2c.correlation_nomic_and_agg_morphology.ipynb",
   "output_path": "2c.correlation_nomic_and_agg_morphology.ipynb",
   "parameters": {
    "cell_type": "PBMC"
   },
   "start_time": "2023-07-27T14:33:07.565284",
   "version": "2.4.0"
  },
  "vscode": {
   "interpreter": {
    "hash": "72ae02083a9ca7d143c492d1aec380c7bf553ec51bd66e90e72bba65228121b6"
   }
  }
 },
 "nbformat": 4,
 "nbformat_minor": 5
}
