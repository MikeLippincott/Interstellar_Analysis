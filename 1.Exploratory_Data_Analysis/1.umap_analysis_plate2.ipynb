{
    "cells": [
        {
            "attachments": {},
            "cell_type": "markdown",
            "id": "1725c6c1",
            "metadata": {
                "papermill": {
                    "duration": 0.002578,
                    "end_time": "2023-07-12T03:24:34.801876",
                    "exception": false,
                    "start_time": "2023-07-12T03:24:34.799298",
                    "status": "completed"
                },
                "tags": []
            },
            "source": [
                "## Plate 2"
            ]
        },
        {
            "cell_type": "code",
            "execution_count": null,
            "id": "5c4f9771",
            "metadata": {
                "execution": {
                    "iopub.execute_input": "2023-07-12T03:24:34.806485Z",
                    "iopub.status.busy": "2023-07-12T03:24:34.806095Z",
                    "iopub.status.idle": "2023-07-12T03:24:40.831249Z",
                    "shell.execute_reply": "2023-07-12T03:24:40.830800Z"
                },
                "papermill": {
                    "duration": 6.028502,
                    "end_time": "2023-07-12T03:24:40.832295",
                    "exception": false,
                    "start_time": "2023-07-12T03:24:34.803793",
                    "status": "completed"
                },
                "tags": []
            },
            "outputs": [],
            "source": [
                "import itertools\n",
                "import pathlib\n",
                "import sys\n",
                "\n",
                "import matplotlib.pyplot as plt\n",
                "import numpy as np\n",
                "import pandas as pd\n",
                "import pyarrow.parquet as pq\n",
                "import seaborn as sns\n",
                "import toml\n",
                "import umap\n",
                "\n",
                "%matplotlib inline\n",
                "from sklearn.cluster import KMeans\n",
                "from sklearn.manifold import TSNE"
            ]
        },
        {
            "cell_type": "code",
            "execution_count": null,
            "id": "56f01e09",
            "metadata": {
                "execution": {
                    "iopub.execute_input": "2023-07-12T03:24:41.054099Z",
                    "iopub.status.busy": "2023-07-12T03:24:41.053744Z",
                    "iopub.status.idle": "2023-07-12T03:24:41.056060Z",
                    "shell.execute_reply": "2023-07-12T03:24:41.055664Z"
                },
                "papermill": {
                    "duration": 0.005626,
                    "end_time": "2023-07-12T03:24:41.057048",
                    "exception": false,
                    "start_time": "2023-07-12T03:24:41.051422",
                    "status": "completed"
                },
                "tags": [
                    "injected-parameters"
                ]
            },
            "outputs": [],
            "source": [
                "# Parameters\n",
                "celltype = \"PBMC\""
            ]
        },
        {
            "cell_type": "code",
            "execution_count": null,
            "id": "34e6bdf8",
            "metadata": {},
            "outputs": [],
            "source": [
                "# read in toml file\n",
                "\n",
                "# set up the path\n",
                "toml_path = pathlib.Path(\"./utils/params.toml\")\n",
                "# read in the toml file\n",
                "params = toml.load(toml_path)\n",
                "list_of_treatments = params[\"list_of_treatments\"][\"treatments\"]\n",
                "print(len(list_of_treatments))\n",
                "print(list_of_treatments)"
            ]
        },
        {
            "cell_type": "code",
            "execution_count": null,
            "id": "6be8e024",
            "metadata": {
                "execution": {
                    "iopub.execute_input": "2023-07-12T03:24:41.061550Z",
                    "iopub.status.busy": "2023-07-12T03:24:41.061157Z",
                    "iopub.status.idle": "2023-07-12T03:25:44.904154Z",
                    "shell.execute_reply": "2023-07-12T03:25:44.903530Z"
                },
                "papermill": {
                    "duration": 63.846898,
                    "end_time": "2023-07-12T03:25:44.905798",
                    "exception": false,
                    "start_time": "2023-07-12T03:24:41.058900",
                    "status": "completed"
                },
                "tags": []
            },
            "outputs": [],
            "source": [
                "# Set path to parquet file\n",
                "path = pathlib.Path(f\"../data/{celltype}_preprocessed_sc_norm.parquet\")\n",
                "# Read in parquet file\n",
                "df = pq.read_table(path).to_pandas()\n",
                "# subset data frame to 1000 samples too much data results in poor clustering"
            ]
        },
        {
            "cell_type": "code",
            "execution_count": null,
            "id": "339d1333",
            "metadata": {},
            "outputs": [],
            "source": [
                "# get rows that have values in column fourb_Metadata_Treatment_Dose_Inhibitor_Dose that match treatment list\n",
                "df = df[df[\"fourb_Metadata_Treatment_Dose_Inhibitor_Dose\"].isin(list_of_treatments)]\n",
                "\n",
                "# df = (\n",
                "#     df.groupby(\"fourb_Metadata_Treatment_Dose_Inhibitor_Dose\")\n",
                "#     .apply(lambda x: x.sample(n=100, random_state=0))\n",
                "#     .droplevel(0)\n",
                "# )"
            ]
        },
        {
            "cell_type": "code",
            "execution_count": null,
            "id": "0bd3d695",
            "metadata": {
                "execution": {
                    "iopub.execute_input": "2023-07-12T03:25:44.915767Z",
                    "iopub.status.busy": "2023-07-12T03:25:44.915356Z",
                    "iopub.status.idle": "2023-07-12T03:25:44.922519Z",
                    "shell.execute_reply": "2023-07-12T03:25:44.922052Z"
                },
                "papermill": {
                    "duration": 0.010673,
                    "end_time": "2023-07-12T03:25:44.923605",
                    "exception": false,
                    "start_time": "2023-07-12T03:25:44.912932",
                    "status": "completed"
                },
                "tags": []
            },
            "outputs": [],
            "source": [
                "# Code snippet for metadata extraction by Jenna Tomkinson\n",
                "df_metadata = list(df.columns[df.columns.str.contains(\"Metadata\")])\n",
                "\n",
                "# define which columns are data and which are descriptive\n",
                "df_descriptive = df[df_metadata]\n",
                "df_values = df.drop(columns=df_metadata)"
            ]
        },
        {
            "cell_type": "code",
            "execution_count": null,
            "id": "575ceaf7",
            "metadata": {
                "execution": {
                    "iopub.execute_input": "2023-07-12T03:25:44.938451Z",
                    "iopub.status.busy": "2023-07-12T03:25:44.938059Z",
                    "iopub.status.idle": "2023-07-12T03:25:44.940703Z",
                    "shell.execute_reply": "2023-07-12T03:25:44.940253Z"
                },
                "papermill": {
                    "duration": 0.00607,
                    "end_time": "2023-07-12T03:25:44.941702",
                    "exception": false,
                    "start_time": "2023-07-12T03:25:44.935632",
                    "status": "completed"
                },
                "tags": []
            },
            "outputs": [],
            "source": [
                "# set umap parameters\n",
                "umap_params = umap.UMAP(\n",
                "    n_components=2,\n",
                "    spread=1.1,\n",
                "    min_dist=0.8,\n",
                "    init=\"random\",\n",
                "    metric=\"cosine\",\n",
                "    random_state=0,\n",
                "    n_jobs=-1,\n",
                ")"
            ]
        },
        {
            "cell_type": "code",
            "execution_count": null,
            "id": "56199d6d",
            "metadata": {
                "execution": {
                    "iopub.execute_input": "2023-07-12T03:25:44.945986Z",
                    "iopub.status.busy": "2023-07-12T03:25:44.945634Z",
                    "iopub.status.idle": "2023-07-12T03:25:53.392051Z",
                    "shell.execute_reply": "2023-07-12T03:25:53.391536Z"
                },
                "papermill": {
                    "duration": 8.450073,
                    "end_time": "2023-07-12T03:25:53.393530",
                    "exception": false,
                    "start_time": "2023-07-12T03:25:44.943457",
                    "status": "completed"
                },
                "tags": []
            },
            "outputs": [],
            "source": [
                "# fit and transform data for umap\n",
                "proj_2d = umap_params.fit_transform(df_values)\n",
                "\n",
                "# add umap coordinates to dataframe of metadata and raw data\n",
                "df_values[\"umap_1\"] = proj_2d[:, 0]\n",
                "df_values[\"umap_2\"] = proj_2d[:, 1]"
            ]
        },
        {
            "cell_type": "code",
            "execution_count": null,
            "id": "0b3ad10c",
            "metadata": {},
            "outputs": [],
            "source": [
                "df_values[\"fourb_Metadata_Treatment_Dose_Inhibitor_Dose\"] = df_descriptive[\n",
                "    \"fourb_Metadata_Treatment_Dose_Inhibitor_Dose\"\n",
                "]"
            ]
        },
        {
            "cell_type": "code",
            "execution_count": null,
            "id": "973e5764",
            "metadata": {},
            "outputs": [],
            "source": [
                "# randomize the rows of the dataframe to plot the order of the data evenly\n",
                "df_values = df_values.sample(frac=1, random_state=0)\n",
                "\n",
                "df_values_path = pathlib.Path(\n",
                "    f\"./results/{celltype}_umap_values_morphology_all_cells.parquet\"\n",
                ")\n",
                "# if path does not exist create it\n",
                "df_values_path.parent.mkdir(parents=True, exist_ok=True)\n",
                "# save the dataframe as a parquet file\n",
                "df_values.to_parquet(df_values_path)"
            ]
        },
        {
            "cell_type": "code",
            "execution_count": null,
            "id": "4512ea20",
            "metadata": {
                "execution": {
                    "iopub.execute_input": "2023-07-12T03:25:53.402104Z",
                    "iopub.status.busy": "2023-07-12T03:25:53.401779Z",
                    "iopub.status.idle": "2023-07-12T03:25:54.119455Z",
                    "shell.execute_reply": "2023-07-12T03:25:54.118996Z"
                },
                "papermill": {
                    "duration": 0.721583,
                    "end_time": "2023-07-12T03:25:54.120769",
                    "exception": false,
                    "start_time": "2023-07-12T03:25:53.399186",
                    "status": "completed"
                },
                "tags": []
            },
            "outputs": [],
            "source": [
                "# Figure Showing UMAP of Clusters vs Treatment\n",
                "sns.scatterplot(\n",
                "    data=df_values,\n",
                "    x=\"umap_1\",\n",
                "    y=\"umap_2\",\n",
                "    hue=\"fourb_Metadata_Treatment_Dose_Inhibitor_Dose\",\n",
                "    legend=\"full\",\n",
                "    alpha=0.3,\n",
                ")\n",
                "plt.title(\"Visualized on umap\")\n",
                "plt.legend(bbox_to_anchor=(1.02, 1), loc=\"upper left\", borderaxespad=0)\n",
                "\n",
                "# if path does not exist create it\n",
                "plt.savefig(f\"Figures/umap_plate2/{celltype}_umap.png\", bbox_inches=\"tight\")"
            ]
        }
    ],
    "metadata": {
        "kernelspec": {
            "display_name": "Interstellar",
            "language": "python",
            "name": "python3"
        },
        "language_info": {
            "codemirror_mode": {
                "name": "ipython",
                "version": 3
            },
            "file_extension": ".py",
            "mimetype": "text/x-python",
            "name": "python",
            "nbconvert_exporter": "python",
            "pygments_lexer": "ipython3",
            "version": "3.10.12"
        },
        "papermill": {
            "default_parameters": {},
            "duration": 82.177031,
            "end_time": "2023-07-12T03:25:54.840138",
            "environment_variables": {},
            "exception": null,
            "input_path": "1.umap_analysis_plate2.ipynb",
            "output_path": "1.umap_analysis_plate2.ipynb",
            "parameters": {
                "celltype": "PBMC"
            },
            "start_time": "2023-07-12T03:24:32.663107",
            "version": "2.4.0"
        },
        "vscode": {
            "interpreter": {
                "hash": "72ae02083a9ca7d143c492d1aec380c7bf553ec51bd66e90e72bba65228121b6"
            }
        }
    },
    "nbformat": 4,
    "nbformat_minor": 5
}
