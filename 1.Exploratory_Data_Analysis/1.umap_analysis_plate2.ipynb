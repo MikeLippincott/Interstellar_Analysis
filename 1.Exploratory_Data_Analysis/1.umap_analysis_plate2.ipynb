{
 "cells": [
  {
   "attachments": {},
   "cell_type": "markdown",
   "id": "1725c6c1",
   "metadata": {
    "papermill": {
     "duration": 0.002412,
     "end_time": "2023-10-27T22:00:56.704936",
     "exception": false,
     "start_time": "2023-10-27T22:00:56.702524",
     "status": "completed"
    },
    "tags": []
   },
   "source": [
    "## Plate 2"
   ]
  },
  {
   "cell_type": "code",
   "execution_count": 1,
   "id": "5c4f9771",
   "metadata": {
    "execution": {
     "iopub.execute_input": "2023-10-27T22:00:56.709854Z",
     "iopub.status.busy": "2023-10-27T22:00:56.709576Z",
     "iopub.status.idle": "2023-10-27T22:01:02.385600Z",
     "shell.execute_reply": "2023-10-27T22:01:02.385148Z"
    },
    "papermill": {
     "duration": 5.67945,
     "end_time": "2023-10-27T22:01:02.386611",
     "exception": false,
     "start_time": "2023-10-27T22:00:56.707161",
     "status": "completed"
    },
    "tags": []
   },
   "outputs": [
    {
     "name": "stderr",
     "output_type": "stream",
     "text": [
      "/projects/mlippincott@xsede.org/software/anaconda/envs/Interstellar/lib/python3.10/site-packages/umap/distances.py:1063: NumbaDeprecationWarning: \u001b[1mThe 'nopython' keyword argument was not supplied to the 'numba.jit' decorator. The implicit default value for this argument is currently False, but it will be changed to True in Numba 0.59.0. See https://numba.readthedocs.io/en/stable/reference/deprecation.html#deprecation-of-object-mode-fall-back-behaviour-when-using-jit for details.\u001b[0m\n",
      "  @numba.jit()\n",
      "/projects/mlippincott@xsede.org/software/anaconda/envs/Interstellar/lib/python3.10/site-packages/umap/distances.py:1071: NumbaDeprecationWarning: \u001b[1mThe 'nopython' keyword argument was not supplied to the 'numba.jit' decorator. The implicit default value for this argument is currently False, but it will be changed to True in Numba 0.59.0. See https://numba.readthedocs.io/en/stable/reference/deprecation.html#deprecation-of-object-mode-fall-back-behaviour-when-using-jit for details.\u001b[0m\n",
      "  @numba.jit()\n",
      "/projects/mlippincott@xsede.org/software/anaconda/envs/Interstellar/lib/python3.10/site-packages/umap/distances.py:1086: NumbaDeprecationWarning: \u001b[1mThe 'nopython' keyword argument was not supplied to the 'numba.jit' decorator. The implicit default value for this argument is currently False, but it will be changed to True in Numba 0.59.0. See https://numba.readthedocs.io/en/stable/reference/deprecation.html#deprecation-of-object-mode-fall-back-behaviour-when-using-jit for details.\u001b[0m\n",
      "  @numba.jit()\n"
     ]
    },
    {
     "name": "stderr",
     "output_type": "stream",
     "text": [
      "/projects/mlippincott@xsede.org/software/anaconda/envs/Interstellar/lib/python3.10/site-packages/umap/umap_.py:660: NumbaDeprecationWarning: \u001b[1mThe 'nopython' keyword argument was not supplied to the 'numba.jit' decorator. The implicit default value for this argument is currently False, but it will be changed to True in Numba 0.59.0. See https://numba.readthedocs.io/en/stable/reference/deprecation.html#deprecation-of-object-mode-fall-back-behaviour-when-using-jit for details.\u001b[0m\n",
      "  @numba.jit()\n"
     ]
    }
   ],
   "source": [
    "import itertools\n",
    "import pathlib\n",
    "import sys\n",
    "\n",
    "import matplotlib.pyplot as plt\n",
    "import numpy as np\n",
    "import pandas as pd\n",
    "import pyarrow.parquet as pq\n",
    "import seaborn as sns\n",
    "import toml\n",
    "import umap\n",
    "\n",
    "%matplotlib inline\n",
    "from sklearn.cluster import KMeans\n",
    "from sklearn.manifold import TSNE"
   ]
  },
  {
   "cell_type": "code",
   "execution_count": 2,
   "id": "6aa61c15",
   "metadata": {
    "execution": {
     "iopub.execute_input": "2023-10-27T22:01:02.393939Z",
     "iopub.status.busy": "2023-10-27T22:01:02.393524Z",
     "iopub.status.idle": "2023-10-27T22:01:02.395916Z",
     "shell.execute_reply": "2023-10-27T22:01:02.395531Z"
    },
    "papermill": {
     "duration": 0.006021,
     "end_time": "2023-10-27T22:01:02.396797",
     "exception": false,
     "start_time": "2023-10-27T22:01:02.390776",
     "status": "completed"
    },
    "tags": [
     "injected-parameters"
    ]
   },
   "outputs": [],
   "source": [
    "# Parameters\n",
    "celltype = \"PBMC\""
   ]
  },
  {
   "cell_type": "code",
   "execution_count": 3,
   "id": "34e6bdf8",
   "metadata": {
    "execution": {
     "iopub.execute_input": "2023-10-27T22:01:02.401622Z",
     "iopub.status.busy": "2023-10-27T22:01:02.401219Z",
     "iopub.status.idle": "2023-10-27T22:01:02.404577Z",
     "shell.execute_reply": "2023-10-27T22:01:02.404183Z"
    },
    "papermill": {
     "duration": 0.006792,
     "end_time": "2023-10-27T22:01:02.405462",
     "exception": false,
     "start_time": "2023-10-27T22:01:02.398670",
     "status": "completed"
    },
    "tags": []
   },
   "outputs": [
    {
     "name": "stdout",
     "output_type": "stream",
     "text": [
      "14\n",
      "['DMSO_0.100_%_DMSO_0.025_%', 'Thapsigargin_1.000_uM_DMSO_0.025_%', 'Thapsigargin_10.000_uM_DMSO_0.025_%', 'H2O2_100.000_uM_DMSO_0.025_%', 'H2O2_100.000_nM_DMSO_0.025_%', 'Flagellin_0.100_ug_per_ml_DMSO_0.025_%', 'Flagellin_1.000_ug_per_ml_DMSO_0.025_%', 'LPS_0.010_ug_per_ml_DMSO_0.025_%', 'LPS_0.100_ug_per_ml_DMSO_0.025_%', 'LPS_1.000_ug_per_ml_DMSO_0.025_%', 'LPS_10.000_ug_per_ml_DMSO_0.025_%', 'LPS_Nigericin_1.000_ug_per_ml_1.000_uM_DMSO_0.025_%', 'LPS_Nigericin_1.000_ug_per_ml_3.000_uM_DMSO_0.025_%', 'LPS_Nigericin_1.000_ug_per_ml_10.000_uM_DMSO_0.025_%']\n"
     ]
    }
   ],
   "source": [
    "# read in toml file\n",
    "\n",
    "# set up the path\n",
    "toml_path = pathlib.Path(\"./utils/params.toml\")\n",
    "# read in the toml file\n",
    "params = toml.load(toml_path)\n",
    "list_of_treatments = params[\"list_of_treatments\"][\"treatments\"]\n",
    "print(len(list_of_treatments))\n",
    "print(list_of_treatments)"
   ]
  },
  {
   "cell_type": "code",
   "execution_count": 4,
   "id": "6be8e024",
   "metadata": {
    "execution": {
     "iopub.execute_input": "2023-10-27T22:01:02.410297Z",
     "iopub.status.busy": "2023-10-27T22:01:02.409889Z",
     "iopub.status.idle": "2023-10-27T22:03:21.074810Z",
     "shell.execute_reply": "2023-10-27T22:03:21.074259Z"
    },
    "papermill": {
     "duration": 138.66903,
     "end_time": "2023-10-27T22:03:21.076409",
     "exception": false,
     "start_time": "2023-10-27T22:01:02.407379",
     "status": "completed"
    },
    "tags": []
   },
   "outputs": [],
   "source": [
    "# Set path to parquet file\n",
    "path = pathlib.Path(f\"../data/{celltype}_preprocessed_sc_norm.parquet\").resolve(\n",
    "    strict=True\n",
    ")\n",
    "# Read in parquet file\n",
    "df = pq.read_table(path).to_pandas()"
   ]
  },
  {
   "cell_type": "code",
   "execution_count": 5,
   "id": "0bd3d695",
   "metadata": {
    "execution": {
     "iopub.execute_input": "2023-10-27T22:03:21.114101Z",
     "iopub.status.busy": "2023-10-27T22:03:21.113769Z",
     "iopub.status.idle": "2023-10-27T22:03:28.055306Z",
     "shell.execute_reply": "2023-10-27T22:03:28.054796Z"
    },
    "papermill": {
     "duration": 6.945946,
     "end_time": "2023-10-27T22:03:28.056770",
     "exception": false,
     "start_time": "2023-10-27T22:03:21.110824",
     "status": "completed"
    },
    "tags": []
   },
   "outputs": [],
   "source": [
    "# Code snippet for metadata extraction by Jenna Tomkinson\n",
    "df_metadata = list(df.columns[df.columns.str.contains(\"Metadata\")])\n",
    "# define which columns are data and which are descriptive\n",
    "df_descriptive = df[df_metadata]\n",
    "df_values = df.drop(columns=df_metadata)"
   ]
  },
  {
   "cell_type": "code",
   "execution_count": 6,
   "id": "575ceaf7",
   "metadata": {
    "execution": {
     "iopub.execute_input": "2023-10-27T22:03:28.063563Z",
     "iopub.status.busy": "2023-10-27T22:03:28.063254Z",
     "iopub.status.idle": "2023-10-27T22:03:28.065966Z",
     "shell.execute_reply": "2023-10-27T22:03:28.065578Z"
    },
    "papermill": {
     "duration": 0.006403,
     "end_time": "2023-10-27T22:03:28.066885",
     "exception": false,
     "start_time": "2023-10-27T22:03:28.060482",
     "status": "completed"
    },
    "tags": []
   },
   "outputs": [],
   "source": [
    "# set umap parameters\n",
    "umap_params = umap.UMAP(\n",
    "    n_components=2,\n",
    "    spread=1.1,\n",
    "    min_dist=0.8,\n",
    "    init=\"random\",\n",
    "    metric=\"cosine\",\n",
    "    random_state=0,\n",
    "    n_jobs=-1,\n",
    ")"
   ]
  },
  {
   "cell_type": "code",
   "execution_count": 7,
   "id": "56199d6d",
   "metadata": {
    "execution": {
     "iopub.execute_input": "2023-10-27T22:03:28.071840Z",
     "iopub.status.busy": "2023-10-27T22:03:28.071426Z"
    },
    "papermill": {
     "duration": 223.587651,
     "end_time": "2023-10-27T22:07:11.656441",
     "exception": false,
     "start_time": "2023-10-27T22:03:28.068790",
     "status": "completed"
    },
    "tags": []
   },
   "outputs": [],
   "source": [
    "# fit and transform data for umap\n",
    "proj_2d = umap_params.fit_transform(df_values)\n",
    "# add umap coordinates to dataframe of metadata and raw data\n",
    "df_values[\"umap_1\"] = proj_2d[:, 0]\n",
    "df_values[\"umap_2\"] = proj_2d[:, 1]"
   ]
  },
  {
   "cell_type": "code",
   "execution_count": null,
   "id": "0b3ad10c",
   "metadata": {
    "execution": {
     "iopub.execute_input": "2023-10-27T21:56:42.227922Z",
     "iopub.status.busy": "2023-10-27T21:56:42.227710Z",
     "iopub.status.idle": "2023-10-27T21:56:42.231446Z",
     "shell.execute_reply": "2023-10-27T21:56:42.231031Z"
    },
    "papermill": {
     "duration": null,
     "end_time": null,
     "exception": null,
     "start_time": null,
     "status": "completed"
    },
    "tags": []
   },
   "outputs": [],
   "source": [
    "df_values[\"oneb_Metadata_Treatment_Dose_Inhibitor_Dose\"] = df_descriptive[\n",
    "    \"oneb_Metadata_Treatment_Dose_Inhibitor_Dose\"\n",
    "]"
   ]
  },
  {
   "cell_type": "code",
   "execution_count": null,
   "id": "973e5764",
   "metadata": {
    "execution": {
     "iopub.execute_input": "2023-10-27T21:56:42.237746Z",
     "iopub.status.busy": "2023-10-27T21:56:42.237292Z",
     "iopub.status.idle": "2023-10-27T21:57:03.612856Z",
     "shell.execute_reply": "2023-10-27T21:57:03.612231Z"
    },
    "papermill": {
     "duration": null,
     "end_time": null,
     "exception": null,
     "start_time": null,
     "status": "completed"
    },
    "tags": []
   },
   "outputs": [],
   "source": [
    "# randomize the rows of the dataframe to plot the order of the data evenly\n",
    "df_values = df_values.sample(frac=1, random_state=0)\n",
    "\n",
    "df_values_path = pathlib.Path(\n",
    "    f\"./results/{celltype}_umap_values_morphology_all_cells.parquet\"\n",
    ")\n",
    "# if path does not exist create it\n",
    "df_values_path.parent.mkdir(parents=True, exist_ok=True)\n",
    "# save the dataframe as a parquet file\n",
    "df_values.to_parquet(df_values_path)"
   ]
  },
  {
   "cell_type": "code",
   "execution_count": null,
   "id": "4512ea20",
   "metadata": {
    "execution": {
     "iopub.execute_input": "2023-10-27T21:57:03.623401Z",
     "iopub.status.busy": "2023-10-27T21:57:03.623017Z",
     "iopub.status.idle": "2023-10-27T21:57:30.696401Z",
     "shell.execute_reply": "2023-10-27T21:57:30.695833Z"
    },
    "papermill": {
     "duration": null,
     "end_time": null,
     "exception": null,
     "start_time": null,
     "status": "completed"
    },
    "tags": []
   },
   "outputs": [],
   "source": [
    "# Figure Showing UMAP of Clusters vs Treatment\n",
    "# figure size set\n",
    "plt.figure(figsize=(10, 10))\n",
    "sns.scatterplot(\n",
    "    data=df_values,\n",
    "    x=\"umap_1\",\n",
    "    y=\"umap_2\",\n",
    "    hue=\"oneb_Metadata_Treatment_Dose_Inhibitor_Dose\",\n",
    "    legend=\"full\",\n",
    "    alpha=0.3,\n",
    ")\n",
    "plt.title(\"Visualized on umap\")\n",
    "plt.legend(bbox_to_anchor=(1.02, 1), loc=\"upper left\", borderaxespad=0)\n",
    "# if path does not exist create it\n",
    "plt.savefig(f\"Figures/umap_plate2/{celltype}_umap.png\", bbox_inches=\"tight\")"
   ]
  }
 ],
 "metadata": {
  "kernelspec": {
   "display_name": "Interstellar",
   "language": "python",
   "name": "python3"
  },
  "language_info": {
   "codemirror_mode": {
    "name": "ipython",
    "version": 3
   },
   "file_extension": ".py",
   "mimetype": "text/x-python",
   "name": "python",
   "nbconvert_exporter": "python",
   "pygments_lexer": "ipython3",
   "version": "3.10.12"
  },
  "papermill": {
   "default_parameters": {},
   "duration": 377.71177,
   "end_time": "2023-10-27T22:07:12.272070",
   "environment_variables": {},
   "exception": null,
   "input_path": "1.umap_analysis_plate2.ipynb",
   "output_path": "1.umap_analysis_plate2.ipynb",
   "parameters": {
    "celltype": "PBMC"
   },
   "start_time": "2023-10-27T22:00:54.560300",
   "version": "2.4.0"
  },
  "vscode": {
   "interpreter": {
    "hash": "72ae02083a9ca7d143c492d1aec380c7bf553ec51bd66e90e72bba65228121b6"
   }
  }
 },
 "nbformat": 4,
 "nbformat_minor": 5
}