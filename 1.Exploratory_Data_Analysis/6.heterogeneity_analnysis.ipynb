{
 "cells": [
  {
   "cell_type": "markdown",
   "id": "885884af",
   "metadata": {
    "papermill": {
     "duration": 0.002229,
     "end_time": "2023-08-22T18:47:52.814551",
     "exception": false,
     "start_time": "2023-08-22T18:47:52.812322",
     "status": "completed"
    },
    "tags": []
   },
   "source": [
    "# This notebook looks into the cell heterogeneity in the control treatments"
   ]
  },
  {
   "cell_type": "code",
   "execution_count": null,
   "id": "d4f1e10f",
   "metadata": {
    "execution": {
     "iopub.execute_input": "2023-08-22T18:47:52.818412Z",
     "iopub.status.busy": "2023-08-22T18:47:52.818201Z",
     "iopub.status.idle": "2023-08-22T18:47:58.219272Z",
     "shell.execute_reply": "2023-08-22T18:47:58.218775Z"
    },
    "papermill": {
     "duration": 5.404132,
     "end_time": "2023-08-22T18:47:58.220337",
     "exception": false,
     "start_time": "2023-08-22T18:47:52.816205",
     "status": "completed"
    },
    "tags": []
   },
   "outputs": [],
   "source": [
    "import itertools\n",
    "import pathlib\n",
    "import sys\n",
    "\n",
    "import matplotlib.pyplot as plt\n",
    "import numpy as np\n",
    "import pandas as pd\n",
    "import pyarrow.parquet as pq\n",
    "import seaborn as sns\n",
    "import toml\n",
    "import umap\n",
    "\n",
    "%matplotlib inline\n",
    "from sklearn.cluster import KMeans\n",
    "from sklearn.manifold import TSNE"
   ]
  },
  {
   "cell_type": "code",
   "execution_count": null,
   "id": "773786d1",
   "metadata": {
    "execution": {
     "iopub.execute_input": "2023-08-22T18:47:58.227841Z",
     "iopub.status.busy": "2023-08-22T18:47:58.227346Z",
     "iopub.status.idle": "2023-08-22T18:47:58.229734Z",
     "shell.execute_reply": "2023-08-22T18:47:58.229421Z"
    },
    "papermill": {
     "duration": 0.005365,
     "end_time": "2023-08-22T18:47:58.230474",
     "exception": false,
     "start_time": "2023-08-22T18:47:58.225109",
     "status": "completed"
    },
    "tags": [
     "injected-parameters"
    ]
   },
   "outputs": [],
   "source": [
    "# Parameters\n",
    "cell_type = \"SHSY5Y\""
   ]
  },
  {
   "cell_type": "code",
   "execution_count": null,
   "id": "b5871b71",
   "metadata": {
    "execution": {
     "iopub.execute_input": "2023-08-22T18:47:58.234246Z",
     "iopub.status.busy": "2023-08-22T18:47:58.233979Z",
     "iopub.status.idle": "2023-08-22T18:47:58.236788Z",
     "shell.execute_reply": "2023-08-22T18:47:58.236474Z"
    },
    "papermill": {
     "duration": 0.005442,
     "end_time": "2023-08-22T18:47:58.237537",
     "exception": false,
     "start_time": "2023-08-22T18:47:58.232095",
     "status": "completed"
    },
    "tags": []
   },
   "outputs": [],
   "source": [
    "# read in toml file\n",
    "\n",
    "# set up the path\n",
    "toml_path = pathlib.Path(\"./utils/params.toml\")\n",
    "# read in the toml file\n",
    "params = toml.load(toml_path)\n",
    "list_of_treatments = params[\"list_of_treatments\"][\"treatments\"]\n",
    "print(len(list_of_treatments))\n",
    "print(list_of_treatments)"
   ]
  },
  {
   "cell_type": "code",
   "execution_count": null,
   "id": "6ffb03d1",
   "metadata": {
    "execution": {
     "iopub.execute_input": "2023-08-22T18:47:58.241306Z",
     "iopub.status.busy": "2023-08-22T18:47:58.241045Z",
     "iopub.status.idle": "2023-08-22T18:50:11.580636Z",
     "shell.execute_reply": "2023-08-22T18:50:11.580025Z"
    },
    "papermill": {
     "duration": 133.346628,
     "end_time": "2023-08-22T18:50:11.585775",
     "exception": false,
     "start_time": "2023-08-22T18:47:58.239147",
     "status": "completed"
    },
    "tags": []
   },
   "outputs": [],
   "source": [
    "# Set path to parquet file\n",
    "path = pathlib.Path(f\"../data/{cell_type}_preprocessed_sc_norm.parquet\")\n",
    "# Read in parquet file\n",
    "df = pq.read_table(path).to_pandas()\n",
    "df"
   ]
  },
  {
   "cell_type": "code",
   "execution_count": null,
   "id": "f3ff9482",
   "metadata": {
    "execution": {
     "iopub.execute_input": "2023-08-22T18:50:11.592457Z",
     "iopub.status.busy": "2023-08-22T18:50:11.592155Z",
     "iopub.status.idle": "2023-08-22T18:50:12.254414Z",
     "shell.execute_reply": "2023-08-22T18:50:12.253865Z"
    },
    "papermill": {
     "duration": 0.666095,
     "end_time": "2023-08-22T18:50:12.255276",
     "exception": false,
     "start_time": "2023-08-22T18:50:11.589181",
     "status": "completed"
    },
    "tags": []
   },
   "outputs": [],
   "source": [
    "df[\"oneb_Metadata_Treatment_Dose_Inhibitor_Dose\"]\n",
    "# subset the df for the control\n",
    "df = df[df[\"oneb_Metadata_Treatment_Dose_Inhibitor_Dose\"] == \"DMSO_0.100_DMSO_0.025\"]\n",
    "df"
   ]
  },
  {
   "cell_type": "code",
   "execution_count": null,
   "id": "122ed699",
   "metadata": {
    "execution": {
     "iopub.execute_input": "2023-08-22T18:50:12.265637Z",
     "iopub.status.busy": "2023-08-22T18:50:12.265231Z",
     "iopub.status.idle": "2023-08-22T18:50:12.508224Z",
     "shell.execute_reply": "2023-08-22T18:50:12.507647Z"
    },
    "papermill": {
     "duration": 0.246873,
     "end_time": "2023-08-22T18:50:12.509408",
     "exception": false,
     "start_time": "2023-08-22T18:50:12.262535",
     "status": "completed"
    },
    "tags": []
   },
   "outputs": [],
   "source": [
    "# Code snippet for metadata extraction by Jenna Tomkinson\n",
    "df_metadata = list(df.columns[df.columns.str.contains(\"Metadata\")])\n",
    "\n",
    "# define which columns are data and which are descriptive\n",
    "df_descriptive = df[df_metadata]\n",
    "df_values = df.drop(columns=df_metadata)"
   ]
  },
  {
   "cell_type": "code",
   "execution_count": null,
   "id": "3e3835a8",
   "metadata": {
    "execution": {
     "iopub.execute_input": "2023-08-22T18:50:12.514889Z",
     "iopub.status.busy": "2023-08-22T18:50:12.514722Z",
     "iopub.status.idle": "2023-08-22T18:50:12.517270Z",
     "shell.execute_reply": "2023-08-22T18:50:12.516877Z"
    },
    "papermill": {
     "duration": 0.006052,
     "end_time": "2023-08-22T18:50:12.518084",
     "exception": false,
     "start_time": "2023-08-22T18:50:12.512032",
     "status": "completed"
    },
    "tags": []
   },
   "outputs": [],
   "source": [
    "# set umap parameters\n",
    "umap_params = umap.UMAP(\n",
    "    n_components=2,\n",
    "    spread=1.1,\n",
    "    random_state=0,\n",
    "    n_neighbors=6,\n",
    "    min_dist=0.8,\n",
    "    metric=\"cosine\",\n",
    ")"
   ]
  },
  {
   "cell_type": "code",
   "execution_count": null,
   "id": "820f2243",
   "metadata": {
    "execution": {
     "iopub.execute_input": "2023-08-22T18:50:12.523689Z",
     "iopub.status.busy": "2023-08-22T18:50:12.523316Z",
     "iopub.status.idle": "2023-08-22T18:52:28.231786Z",
     "shell.execute_reply": "2023-08-22T18:52:28.231062Z"
    },
    "papermill": {
     "duration": 135.712505,
     "end_time": "2023-08-22T18:52:28.233189",
     "exception": false,
     "start_time": "2023-08-22T18:50:12.520684",
     "status": "completed"
    },
    "tags": []
   },
   "outputs": [],
   "source": [
    "# fit and transform data for umap\n",
    "proj_2d = umap_params.fit_transform(df_values)\n",
    "\n",
    "# add umap coordinates to dataframe of metadata and raw data\n",
    "df_values[\"umap_1\"] = proj_2d[:, 0]\n",
    "df_values[\"umap_2\"] = proj_2d[:, 1]"
   ]
  },
  {
   "cell_type": "code",
   "execution_count": null,
   "id": "c7758a1d",
   "metadata": {
    "execution": {
     "iopub.execute_input": "2023-08-22T18:52:28.242849Z",
     "iopub.status.busy": "2023-08-22T18:52:28.242491Z",
     "iopub.status.idle": "2023-08-22T18:52:28.247127Z",
     "shell.execute_reply": "2023-08-22T18:52:28.246752Z"
    },
    "papermill": {
     "duration": 0.009354,
     "end_time": "2023-08-22T18:52:28.247907",
     "exception": false,
     "start_time": "2023-08-22T18:52:28.238553",
     "status": "completed"
    },
    "tags": []
   },
   "outputs": [],
   "source": [
    "df_values[\"fourb_Metadata_Treatment_Dose_Inhibitor_Dose\"] = df_descriptive[\n",
    "    \"fourb_Metadata_Treatment_Dose_Inhibitor_Dose\"\n",
    "]\n",
    "df_values[\"Metadata_Well\"] = df_descriptive[\"Metadata_Well\"]"
   ]
  },
  {
   "cell_type": "code",
   "execution_count": null,
   "id": "4993a2dc",
   "metadata": {
    "execution": {
     "iopub.execute_input": "2023-08-22T18:52:28.253518Z",
     "iopub.status.busy": "2023-08-22T18:52:28.252966Z",
     "iopub.status.idle": "2023-08-22T18:52:35.586635Z",
     "shell.execute_reply": "2023-08-22T18:52:35.586018Z"
    },
    "papermill": {
     "duration": 7.337917,
     "end_time": "2023-08-22T18:52:35.588001",
     "exception": false,
     "start_time": "2023-08-22T18:52:28.250084",
     "status": "completed"
    },
    "tags": []
   },
   "outputs": [],
   "source": [
    "# Figure Showing UMAP of Clusters vs Treatment\n",
    "sns.scatterplot(\n",
    "    data=df_values,\n",
    "    x=\"umap_1\",\n",
    "    y=\"umap_2\",\n",
    "    hue=\"Metadata_Well\",\n",
    "    legend=\"full\",\n",
    "    # make points smaller,\n",
    "    s=10,\n",
    "    alpha=0.3,\n",
    ")\n",
    "# add contour lines to the plot\n",
    "\n",
    "plt.title(f\"Visualized {cell_type} on umap\")\n",
    "plt.legend(bbox_to_anchor=(1.02, 1), loc=\"upper left\", borderaxespad=0)\n",
    "\n",
    "# if path does not exist create it\n",
    "plt.savefig(\n",
    "    f\"Figures/umap_plate2/cell_heterogeneity_{cell_type}_umap.png\", bbox_inches=\"tight\"\n",
    ")"
   ]
  }
 ],
 "metadata": {
  "kernelspec": {
   "display_name": "Interstellar",
   "language": "python",
   "name": "python3"
  },
  "language_info": {
   "codemirror_mode": {
    "name": "ipython",
    "version": 3
   },
   "file_extension": ".py",
   "mimetype": "text/x-python",
   "name": "python",
   "nbconvert_exporter": "python",
   "pygments_lexer": "ipython3",
   "version": "3.10.12"
  },
  "papermill": {
   "default_parameters": {},
   "duration": 286.472891,
   "end_time": "2023-08-22T18:52:36.912863",
   "environment_variables": {},
   "exception": null,
   "input_path": "6.heterogeneity_analnysis.ipynb",
   "output_path": "6.heterogeneity_analnysis.ipynb",
   "parameters": {
    "cell_type": "PBMC"
   },
   "start_time": "2023-08-22T18:47:50.439972",
   "version": "2.4.0"
  }
 },
 "nbformat": 4,
 "nbformat_minor": 5
}
