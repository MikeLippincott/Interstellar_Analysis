{
    "cells": [
        {
            "cell_type": "code",
            "execution_count": 1,
            "id": "ebfd6a53",
            "metadata": {
                "execution": {
                    "iopub.execute_input": "2023-11-19T22:44:28.158292Z",
                    "iopub.status.busy": "2023-11-19T22:44:28.157972Z",
                    "iopub.status.idle": "2023-11-19T22:44:31.855825Z",
                    "shell.execute_reply": "2023-11-19T22:44:31.855203Z"
                },
                "papermill": {
                    "duration": 3.702247,
                    "end_time": "2023-11-19T22:44:31.857286",
                    "exception": false,
                    "start_time": "2023-11-19T22:44:28.155039",
                    "status": "completed"
                },
                "tags": []
            },
            "outputs": [],
            "source": [
                "import pathlib\n",
                "import warnings\n",
                "\n",
                "import numpy as np\n",
                "import pandas as pd\n",
                "import statsmodels.api as sm\n",
                "import toml\n",
                "from matplotlib import rcParams\n",
                "from tqdm import tqdm\n",
                "\n",
                "rcParams.update({\"figure.autolayout\": True})\n",
                "\n",
                "# create a venn diagram of the features that are significant in all conditions\n",
                "from matplotlib_venn import venn2, venn3, venn3_unweighted\n",
                "\n",
                "warnings.filterwarnings(\"ignore\")\n",
                "from pycytominer.cyto_utils import infer_cp_features\n",
                "from statsmodels.formula.api import ols\n",
                "from statsmodels.stats.multicomp import pairwise_tukeyhsd"
            ]
        },
        {
            "cell_type": "code",
            "execution_count": 2,
            "id": "561bb36b",
            "metadata": {
                "execution": {
                    "iopub.execute_input": "2023-11-19T22:44:31.861895Z",
                    "iopub.status.busy": "2023-11-19T22:44:31.861564Z",
                    "iopub.status.idle": "2023-11-19T22:44:31.864282Z",
                    "shell.execute_reply": "2023-11-19T22:44:31.863782Z"
                },
                "papermill": {
                    "duration": 0.006001,
                    "end_time": "2023-11-19T22:44:31.865248",
                    "exception": false,
                    "start_time": "2023-11-19T22:44:31.859247",
                    "status": "completed"
                },
                "tags": []
            },
            "outputs": [],
            "source": [
                "cell_type = \"PBMC\""
            ]
        },
        {
            "cell_type": "code",
            "execution_count": 3,
            "id": "7ce7e298",
            "metadata": {
                "execution": {
                    "iopub.execute_input": "2023-11-19T22:44:31.868927Z",
                    "iopub.status.busy": "2023-11-19T22:44:31.868684Z",
                    "iopub.status.idle": "2023-11-19T22:45:11.529377Z",
                    "shell.execute_reply": "2023-11-19T22:45:11.528779Z"
                },
                "papermill": {
                    "duration": 39.664527,
                    "end_time": "2023-11-19T22:45:11.531178",
                    "exception": false,
                    "start_time": "2023-11-19T22:44:31.866651",
                    "status": "completed"
                },
                "tags": []
            },
            "outputs": [],
            "source": [
                "# Import Data\n",
                "# set data file path under pathlib path for multi-system use\n",
                "file_path = pathlib.Path(f\"../data/{cell_type}_preprocessed_sc_norm.parquet\")\n",
                "df = pd.read_parquet(file_path)"
            ]
        },
        {
            "cell_type": "code",
            "execution_count": 4,
            "id": "30652dab",
            "metadata": {
                "execution": {
                    "iopub.execute_input": "2023-11-19T22:45:11.540266Z",
                    "iopub.status.busy": "2023-11-19T22:45:11.539859Z",
                    "iopub.status.idle": "2023-11-19T23:00:13.485502Z",
                    "shell.execute_reply": "2023-11-19T23:00:13.484860Z"
                },
                "papermill": {
                    "duration": 901.949575,
                    "end_time": "2023-11-19T23:00:13.486923",
                    "exception": false,
                    "start_time": "2023-11-19T22:45:11.537348",
                    "status": "completed"
                },
                "tags": []
            },
            "outputs": [],
            "source": [
                "# toml file path\n",
                "ground_truth_file = pathlib.Path(\n",
                "    \"../4.sc_Morphology_Neural_Network_MLP_Model/MLP_utils/ground_truth.toml\"\n",
                ").resolve(strict=True)\n",
                "# read toml file\n",
                "ground_truth = toml.load(ground_truth_file)\n",
                "apopotosis_trts = ground_truth[\"Apoptosis\"][\"apoptosis_groups_list\"]\n",
                "pyroptosis_trts = ground_truth[\"Pyroptosis\"][\"pyroptosis_groups_list\"]\n",
                "healthy_trts = ground_truth[\"Healthy\"][\"healthy_groups_list\"]\n",
                "\n",
                "# make a column that has the class of each treatment\n",
                "\n",
                "\n",
                "df[\"apoptosis\"] = df.apply(\n",
                "    lambda row: row[\"oneb_Metadata_Treatment_Dose_Inhibitor_Dose\"] in apopotosis_trts,\n",
                "    axis=1,\n",
                ")\n",
                "df[\"pyroptosis\"] = df.apply(\n",
                "    lambda row: row[\"oneb_Metadata_Treatment_Dose_Inhibitor_Dose\"] in pyroptosis_trts,\n",
                "    axis=1,\n",
                ")\n",
                "df[\"healthy\"] = df.apply(\n",
                "    lambda row: row[\"oneb_Metadata_Treatment_Dose_Inhibitor_Dose\"] in healthy_trts,\n",
                "    axis=1,\n",
                ")\n",
                "\n",
                "# merge apoptosis, pyroptosis, and healthy columns into one column\n",
                "\n",
                "df[\"labels\"] = df.apply(\n",
                "    lambda row: \"apoptosis\"\n",
                "    if row[\"apoptosis\"]\n",
                "    else \"pyroptosis\"\n",
                "    if row[\"pyroptosis\"]\n",
                "    else \"healthy\",\n",
                "    axis=1,\n",
                ")\n",
                "# drop apoptosis, pyroptosis, and healthy columns\n",
                "df.drop(columns=[\"apoptosis\", \"pyroptosis\", \"healthy\"], inplace=True)"
            ]
        },
        {
            "cell_type": "code",
            "execution_count": 5,
            "id": "e30fc7a3",
            "metadata": {
                "execution": {
                    "iopub.execute_input": "2023-11-19T23:00:13.495763Z",
                    "iopub.status.busy": "2023-11-19T23:00:13.495390Z",
                    "iopub.status.idle": "2023-11-19T23:00:20.076093Z",
                    "shell.execute_reply": "2023-11-19T23:00:20.075497Z"
                },
                "papermill": {
                    "duration": 6.584406,
                    "end_time": "2023-11-19T23:00:20.077460",
                    "exception": false,
                    "start_time": "2023-11-19T23:00:13.493054",
                    "status": "completed"
                },
                "tags": []
            },
            "outputs": [],
            "source": [
                "df_metadata = df.filter(regex=\"Metadata\")\n",
                "df_data = df.drop(df_metadata.columns, axis=1)\n",
                "df_data[\"Metadata_number_of_singlecells\"] = df_metadata[\n",
                "    \"Metadata_number_of_singlecells\"\n",
                "]\n",
                "cp_features = infer_cp_features(df)"
            ]
        },
        {
            "cell_type": "code",
            "execution_count": 6,
            "id": "57d6917b",
            "metadata": {
                "execution": {
                    "iopub.execute_input": "2023-11-19T23:00:20.084195Z",
                    "iopub.status.busy": "2023-11-19T23:00:20.083848Z"
                },
                "papermill": {
                    "duration": null,
                    "end_time": null,
                    "exception": false,
                    "start_time": "2023-11-19T23:00:20.081204",
                    "status": "running"
                },
                "tags": []
            },
            "outputs": [
                {
                    "name": "stderr",
                    "output_type": "stream",
                    "text": [
                        "\r",
                        "  0%|          | 0/1245 [00:00<?, ?it/s]"
                    ]
                },
                {
                    "name": "stderr",
                    "output_type": "stream",
                    "text": [
                        "\r",
                        "  0%|          | 1/1245 [01:15<26:13:54, 75.91s/it]"
                    ]
                },
                {
                    "name": "stderr",
                    "output_type": "stream",
                    "text": [
                        "\r",
                        "  0%|          | 2/1245 [02:31<26:07:28, 75.66s/it]"
                    ]
                },
                {
                    "name": "stderr",
                    "output_type": "stream",
                    "text": [
                        "\r",
                        "  0%|          | 3/1245 [03:46<26:03:21, 75.52s/it]"
                    ]
                },
                {
                    "name": "stderr",
                    "output_type": "stream",
                    "text": [
                        "\r",
                        "  0%|          | 4/1245 [05:02<26:02:37, 75.55s/it]"
                    ]
                },
                {
                    "name": "stderr",
                    "output_type": "stream",
                    "text": [
                        "\r",
                        "  0%|          | 5/1245 [06:18<26:02:22, 75.60s/it]"
                    ]
                },
                {
                    "name": "stderr",
                    "output_type": "stream",
                    "text": [
                        "\r",
                        "  0%|          | 6/1245 [07:33<26:02:53, 75.69s/it]"
                    ]
                },
                {
                    "name": "stderr",
                    "output_type": "stream",
                    "text": [
                        "\r",
                        "  1%|          | 7/1245 [08:49<25:59:06, 75.56s/it]"
                    ]
                },
                {
                    "name": "stderr",
                    "output_type": "stream",
                    "text": [
                        "\r",
                        "  1%|          | 8/1245 [10:04<25:56:38, 75.50s/it]"
                    ]
                },
                {
                    "name": "stderr",
                    "output_type": "stream",
                    "text": [
                        "\r",
                        "  1%|          | 9/1245 [11:20<25:55:32, 75.51s/it]"
                    ]
                },
                {
                    "name": "stderr",
                    "output_type": "stream",
                    "text": [
                        "\r",
                        "  1%|          | 10/1245 [12:35<25:55:55, 75.59s/it]"
                    ]
                },
                {
                    "name": "stderr",
                    "output_type": "stream",
                    "text": [
                        "\r",
                        "  1%|          | 11/1245 [13:51<25:53:33, 75.54s/it]"
                    ]
                },
                {
                    "name": "stderr",
                    "output_type": "stream",
                    "text": [
                        "\r",
                        "  1%|          | 12/1245 [15:06<25:52:47, 75.56s/it]"
                    ]
                },
                {
                    "name": "stderr",
                    "output_type": "stream",
                    "text": [
                        "\r",
                        "  1%|          | 13/1245 [16:22<25:50:22, 75.51s/it]"
                    ]
                },
                {
                    "name": "stderr",
                    "output_type": "stream",
                    "text": [
                        "\r",
                        "  1%|          | 14/1245 [17:37<25:49:54, 75.54s/it]"
                    ]
                },
                {
                    "name": "stderr",
                    "output_type": "stream",
                    "text": [
                        "\r",
                        "  1%|          | 15/1245 [18:53<25:48:47, 75.55s/it]"
                    ]
                },
                {
                    "name": "stderr",
                    "output_type": "stream",
                    "text": [
                        "\r",
                        "  1%|\u258f         | 16/1245 [20:08<25:45:54, 75.47s/it]"
                    ]
                },
                {
                    "name": "stderr",
                    "output_type": "stream",
                    "text": [
                        "\r",
                        "  1%|\u258f         | 17/1245 [21:23<25:41:43, 75.33s/it]"
                    ]
                },
                {
                    "name": "stderr",
                    "output_type": "stream",
                    "text": [
                        "\r",
                        "  1%|\u258f         | 18/1245 [22:39<25:40:08, 75.31s/it]"
                    ]
                },
                {
                    "name": "stderr",
                    "output_type": "stream",
                    "text": [
                        "\r",
                        "  2%|\u258f         | 19/1245 [23:54<25:38:42, 75.30s/it]"
                    ]
                },
                {
                    "name": "stderr",
                    "output_type": "stream",
                    "text": [
                        "\r",
                        "  2%|\u258f         | 20/1245 [25:09<25:37:09, 75.29s/it]"
                    ]
                },
                {
                    "name": "stderr",
                    "output_type": "stream",
                    "text": [
                        "\r",
                        "  2%|\u258f         | 21/1245 [26:24<25:34:07, 75.20s/it]"
                    ]
                },
                {
                    "name": "stderr",
                    "output_type": "stream",
                    "text": [
                        "\r",
                        "  2%|\u258f         | 22/1245 [27:39<25:32:46, 75.20s/it]"
                    ]
                },
                {
                    "name": "stderr",
                    "output_type": "stream",
                    "text": [
                        "\r",
                        "  2%|\u258f         | 23/1245 [28:54<25:31:09, 75.18s/it]"
                    ]
                },
                {
                    "name": "stderr",
                    "output_type": "stream",
                    "text": [
                        "\r",
                        "  2%|\u258f         | 24/1245 [30:10<25:30:12, 75.19s/it]"
                    ]
                },
                {
                    "name": "stderr",
                    "output_type": "stream",
                    "text": [
                        "\r",
                        "  2%|\u258f         | 25/1245 [31:25<25:27:59, 75.15s/it]"
                    ]
                },
                {
                    "name": "stderr",
                    "output_type": "stream",
                    "text": [
                        "\r",
                        "  2%|\u258f         | 26/1245 [32:40<25:27:46, 75.20s/it]"
                    ]
                },
                {
                    "name": "stderr",
                    "output_type": "stream",
                    "text": [
                        "\r",
                        "  2%|\u258f         | 27/1245 [33:55<25:25:50, 75.16s/it]"
                    ]
                },
                {
                    "name": "stderr",
                    "output_type": "stream",
                    "text": [
                        "\r",
                        "  2%|\u258f         | 28/1245 [35:10<25:24:48, 75.18s/it]"
                    ]
                },
                {
                    "name": "stderr",
                    "output_type": "stream",
                    "text": [
                        "\r",
                        "  2%|\u258f         | 29/1245 [36:26<25:26:48, 75.34s/it]"
                    ]
                },
                {
                    "name": "stderr",
                    "output_type": "stream",
                    "text": [
                        "\r",
                        "  2%|\u258f         | 30/1245 [37:42<25:27:54, 75.45s/it]"
                    ]
                },
                {
                    "name": "stderr",
                    "output_type": "stream",
                    "text": [
                        "\r",
                        "  2%|\u258f         | 31/1245 [38:57<25:25:04, 75.37s/it]"
                    ]
                },
                {
                    "name": "stderr",
                    "output_type": "stream",
                    "text": [
                        "\r",
                        "  3%|\u258e         | 32/1245 [40:12<25:24:16, 75.40s/it]"
                    ]
                },
                {
                    "name": "stderr",
                    "output_type": "stream",
                    "text": [
                        "\r",
                        "  3%|\u258e         | 33/1245 [41:28<25:24:00, 75.45s/it]"
                    ]
                },
                {
                    "name": "stderr",
                    "output_type": "stream",
                    "text": [
                        "\r",
                        "  3%|\u258e         | 34/1245 [42:43<25:21:59, 75.41s/it]"
                    ]
                },
                {
                    "name": "stderr",
                    "output_type": "stream",
                    "text": [
                        "\r",
                        "  3%|\u258e         | 35/1245 [43:59<25:22:40, 75.50s/it]"
                    ]
                },
                {
                    "name": "stderr",
                    "output_type": "stream",
                    "text": [
                        "\r",
                        "  3%|\u258e         | 36/1245 [45:15<25:22:24, 75.55s/it]"
                    ]
                },
                {
                    "name": "stderr",
                    "output_type": "stream",
                    "text": [
                        "\r",
                        "  3%|\u258e         | 37/1245 [46:30<25:21:08, 75.55s/it]"
                    ]
                },
                {
                    "name": "stderr",
                    "output_type": "stream",
                    "text": [
                        "\r",
                        "  3%|\u258e         | 38/1245 [47:45<25:17:57, 75.46s/it]"
                    ]
                },
                {
                    "name": "stderr",
                    "output_type": "stream",
                    "text": [
                        "\r",
                        "  3%|\u258e         | 39/1245 [49:01<25:16:55, 75.47s/it]"
                    ]
                },
                {
                    "name": "stderr",
                    "output_type": "stream",
                    "text": [
                        "\r",
                        "  3%|\u258e         | 40/1245 [50:16<25:14:36, 75.42s/it]"
                    ]
                },
                {
                    "name": "stderr",
                    "output_type": "stream",
                    "text": [
                        "\r",
                        "  3%|\u258e         | 41/1245 [51:32<25:13:19, 75.41s/it]"
                    ]
                },
                {
                    "name": "stderr",
                    "output_type": "stream",
                    "text": [
                        "\r",
                        "  3%|\u258e         | 42/1245 [52:47<25:09:31, 75.29s/it]"
                    ]
                },
                {
                    "name": "stderr",
                    "output_type": "stream",
                    "text": [
                        "\r",
                        "  3%|\u258e         | 43/1245 [54:02<25:08:30, 75.30s/it]"
                    ]
                },
                {
                    "name": "stderr",
                    "output_type": "stream",
                    "text": [
                        "\r",
                        "  4%|\u258e         | 44/1245 [55:17<25:06:30, 75.26s/it]"
                    ]
                },
                {
                    "name": "stderr",
                    "output_type": "stream",
                    "text": [
                        "\r",
                        "  4%|\u258e         | 45/1245 [56:32<25:03:49, 75.19s/it]"
                    ]
                },
                {
                    "name": "stderr",
                    "output_type": "stream",
                    "text": [
                        "\r",
                        "  4%|\u258e         | 46/1245 [57:48<25:03:37, 75.24s/it]"
                    ]
                },
                {
                    "name": "stderr",
                    "output_type": "stream",
                    "text": [
                        "\r",
                        "  4%|\u258d         | 47/1245 [59:03<25:02:20, 75.24s/it]"
                    ]
                },
                {
                    "name": "stderr",
                    "output_type": "stream",
                    "text": [
                        "\r",
                        "  4%|\u258d         | 48/1245 [1:00:18<25:01:49, 75.28s/it]"
                    ]
                },
                {
                    "name": "stderr",
                    "output_type": "stream",
                    "text": [
                        "\r",
                        "  4%|\u258d         | 49/1245 [1:01:34<25:04:36, 75.48s/it]"
                    ]
                },
                {
                    "name": "stderr",
                    "output_type": "stream",
                    "text": [
                        "\r",
                        "  4%|\u258d         | 50/1245 [1:02:50<25:08:42, 75.75s/it]"
                    ]
                },
                {
                    "name": "stderr",
                    "output_type": "stream",
                    "text": [
                        "\r",
                        "  4%|\u258d         | 51/1245 [1:04:06<25:09:06, 75.83s/it]"
                    ]
                },
                {
                    "name": "stderr",
                    "output_type": "stream",
                    "text": [
                        "\r",
                        "  4%|\u258d         | 52/1245 [1:05:22<25:06:32, 75.77s/it]"
                    ]
                },
                {
                    "name": "stderr",
                    "output_type": "stream",
                    "text": [
                        "\r",
                        "  4%|\u258d         | 53/1245 [1:06:37<25:01:35, 75.58s/it]"
                    ]
                },
                {
                    "name": "stderr",
                    "output_type": "stream",
                    "text": [
                        "\r",
                        "  4%|\u258d         | 54/1245 [1:07:53<25:00:07, 75.57s/it]"
                    ]
                },
                {
                    "name": "stderr",
                    "output_type": "stream",
                    "text": [
                        "\r",
                        "  4%|\u258d         | 55/1245 [1:09:09<25:01:38, 75.71s/it]"
                    ]
                },
                {
                    "name": "stderr",
                    "output_type": "stream",
                    "text": [
                        "\r",
                        "  4%|\u258d         | 56/1245 [1:10:25<25:02:29, 75.82s/it]"
                    ]
                },
                {
                    "name": "stderr",
                    "output_type": "stream",
                    "text": [
                        "\r",
                        "  5%|\u258d         | 57/1245 [1:11:41<25:02:09, 75.87s/it]"
                    ]
                },
                {
                    "name": "stderr",
                    "output_type": "stream",
                    "text": [
                        "\r",
                        "  5%|\u258d         | 58/1245 [1:12:57<25:01:44, 75.91s/it]"
                    ]
                },
                {
                    "name": "stderr",
                    "output_type": "stream",
                    "text": [
                        "\r",
                        "  5%|\u258d         | 59/1245 [1:14:14<25:06:56, 76.24s/it]"
                    ]
                },
                {
                    "name": "stderr",
                    "output_type": "stream",
                    "text": [
                        "\r",
                        "  5%|\u258d         | 60/1245 [1:15:31<25:10:57, 76.50s/it]"
                    ]
                },
                {
                    "name": "stderr",
                    "output_type": "stream",
                    "text": [
                        "\r",
                        "  5%|\u258d         | 61/1245 [1:16:48<25:14:49, 76.76s/it]"
                    ]
                },
                {
                    "name": "stderr",
                    "output_type": "stream",
                    "text": [
                        "\r",
                        "  5%|\u258d         | 62/1245 [1:18:04<25:08:41, 76.52s/it]"
                    ]
                },
                {
                    "name": "stderr",
                    "output_type": "stream",
                    "text": [
                        "\r",
                        "  5%|\u258c         | 63/1245 [1:19:20<25:03:52, 76.34s/it]"
                    ]
                },
                {
                    "name": "stderr",
                    "output_type": "stream",
                    "text": [
                        "\r",
                        "  5%|\u258c         | 64/1245 [1:20:36<24:59:38, 76.19s/it]"
                    ]
                },
                {
                    "name": "stderr",
                    "output_type": "stream",
                    "text": [
                        "\r",
                        "  5%|\u258c         | 65/1245 [1:21:52<24:55:08, 76.02s/it]"
                    ]
                },
                {
                    "name": "stderr",
                    "output_type": "stream",
                    "text": [
                        "\r",
                        "  5%|\u258c         | 66/1245 [1:23:08<24:53:06, 75.99s/it]"
                    ]
                },
                {
                    "name": "stderr",
                    "output_type": "stream",
                    "text": [
                        "\r",
                        "  5%|\u258c         | 67/1245 [1:24:24<24:53:12, 76.05s/it]"
                    ]
                },
                {
                    "name": "stderr",
                    "output_type": "stream",
                    "text": [
                        "\r",
                        "  5%|\u258c         | 68/1245 [1:25:40<24:52:11, 76.07s/it]"
                    ]
                },
                {
                    "name": "stderr",
                    "output_type": "stream",
                    "text": [
                        "\r",
                        "  6%|\u258c         | 69/1245 [1:26:56<24:49:02, 75.97s/it]"
                    ]
                },
                {
                    "name": "stderr",
                    "output_type": "stream",
                    "text": [
                        "\r",
                        "  6%|\u258c         | 70/1245 [1:28:11<24:46:22, 75.90s/it]"
                    ]
                },
                {
                    "name": "stderr",
                    "output_type": "stream",
                    "text": [
                        "\r",
                        "  6%|\u258c         | 71/1245 [1:29:27<24:43:44, 75.83s/it]"
                    ]
                },
                {
                    "name": "stderr",
                    "output_type": "stream",
                    "text": [
                        "\r",
                        "  6%|\u258c         | 72/1245 [1:30:43<24:40:20, 75.72s/it]"
                    ]
                },
                {
                    "name": "stderr",
                    "output_type": "stream",
                    "text": [
                        "\r",
                        "  6%|\u258c         | 73/1245 [1:31:58<24:35:39, 75.55s/it]"
                    ]
                },
                {
                    "name": "stderr",
                    "output_type": "stream",
                    "text": [
                        "\r",
                        "  6%|\u258c         | 74/1245 [1:33:13<24:34:15, 75.54s/it]"
                    ]
                },
                {
                    "name": "stderr",
                    "output_type": "stream",
                    "text": [
                        "\r",
                        "  6%|\u258c         | 75/1245 [1:34:29<24:33:38, 75.57s/it]"
                    ]
                },
                {
                    "name": "stderr",
                    "output_type": "stream",
                    "text": [
                        "\r",
                        "  6%|\u258c         | 76/1245 [1:35:45<24:36:55, 75.80s/it]"
                    ]
                },
                {
                    "name": "stderr",
                    "output_type": "stream",
                    "text": [
                        "\r",
                        "  6%|\u258c         | 77/1245 [1:37:01<24:32:46, 75.66s/it]"
                    ]
                },
                {
                    "name": "stderr",
                    "output_type": "stream",
                    "text": [
                        "\r",
                        "  6%|\u258b         | 78/1245 [1:38:16<24:32:38, 75.71s/it]"
                    ]
                },
                {
                    "name": "stderr",
                    "output_type": "stream",
                    "text": [
                        "\r",
                        "  6%|\u258b         | 79/1245 [1:39:32<24:31:51, 75.74s/it]"
                    ]
                },
                {
                    "name": "stderr",
                    "output_type": "stream",
                    "text": [
                        "\r",
                        "  6%|\u258b         | 80/1245 [1:40:49<24:34:29, 75.94s/it]"
                    ]
                },
                {
                    "name": "stderr",
                    "output_type": "stream",
                    "text": [
                        "\r",
                        "  7%|\u258b         | 81/1245 [1:42:05<24:37:06, 76.14s/it]"
                    ]
                },
                {
                    "name": "stderr",
                    "output_type": "stream",
                    "text": [
                        "\r",
                        "  7%|\u258b         | 82/1245 [1:43:22<24:38:05, 76.26s/it]"
                    ]
                },
                {
                    "name": "stderr",
                    "output_type": "stream",
                    "text": [
                        "\r",
                        "  7%|\u258b         | 83/1245 [1:44:38<24:38:13, 76.33s/it]"
                    ]
                },
                {
                    "name": "stderr",
                    "output_type": "stream",
                    "text": [
                        "\r",
                        "  7%|\u258b         | 84/1245 [1:45:55<24:38:41, 76.42s/it]"
                    ]
                },
                {
                    "name": "stderr",
                    "output_type": "stream",
                    "text": [
                        "\r",
                        "  7%|\u258b         | 85/1245 [1:47:11<24:36:46, 76.39s/it]"
                    ]
                },
                {
                    "name": "stderr",
                    "output_type": "stream",
                    "text": [
                        "\r",
                        "  7%|\u258b         | 86/1245 [1:48:28<24:36:40, 76.45s/it]"
                    ]
                },
                {
                    "name": "stderr",
                    "output_type": "stream",
                    "text": [
                        "\r",
                        "  7%|\u258b         | 87/1245 [1:49:44<24:34:35, 76.40s/it]"
                    ]
                },
                {
                    "name": "stderr",
                    "output_type": "stream",
                    "text": [
                        "\r",
                        "  7%|\u258b         | 88/1245 [1:51:01<24:34:14, 76.45s/it]"
                    ]
                },
                {
                    "name": "stderr",
                    "output_type": "stream",
                    "text": [
                        "\r",
                        "  7%|\u258b         | 89/1245 [1:52:17<24:32:44, 76.44s/it]"
                    ]
                },
                {
                    "name": "stderr",
                    "output_type": "stream",
                    "text": [
                        "\r",
                        "  7%|\u258b         | 90/1245 [1:53:34<24:32:17, 76.48s/it]"
                    ]
                },
                {
                    "name": "stderr",
                    "output_type": "stream",
                    "text": [
                        "\r",
                        "  7%|\u258b         | 91/1245 [1:54:49<24:23:21, 76.08s/it]"
                    ]
                },
                {
                    "name": "stderr",
                    "output_type": "stream",
                    "text": [
                        "\r",
                        "  7%|\u258b         | 92/1245 [1:56:04<24:19:11, 75.93s/it]"
                    ]
                },
                {
                    "name": "stderr",
                    "output_type": "stream",
                    "text": [
                        "\r",
                        "  7%|\u258b         | 93/1245 [1:57:20<24:13:44, 75.72s/it]"
                    ]
                },
                {
                    "name": "stderr",
                    "output_type": "stream",
                    "text": [
                        "\r",
                        "  8%|\u258a         | 94/1245 [1:58:35<24:09:18, 75.55s/it]"
                    ]
                },
                {
                    "name": "stderr",
                    "output_type": "stream",
                    "text": [
                        "\r",
                        "  8%|\u258a         | 95/1245 [1:59:50<24:08:31, 75.58s/it]"
                    ]
                },
                {
                    "name": "stderr",
                    "output_type": "stream",
                    "text": [
                        "\r",
                        "  8%|\u258a         | 96/1245 [2:01:06<24:07:00, 75.56s/it]"
                    ]
                },
                {
                    "name": "stderr",
                    "output_type": "stream",
                    "text": [
                        "\r",
                        "  8%|\u258a         | 97/1245 [2:02:21<24:03:52, 75.46s/it]"
                    ]
                },
                {
                    "name": "stderr",
                    "output_type": "stream",
                    "text": [
                        "\r",
                        "  8%|\u258a         | 98/1245 [2:03:37<24:02:49, 75.47s/it]"
                    ]
                },
                {
                    "name": "stderr",
                    "output_type": "stream",
                    "text": [
                        "\r",
                        "  8%|\u258a         | 99/1245 [2:04:52<24:00:46, 75.43s/it]"
                    ]
                },
                {
                    "name": "stderr",
                    "output_type": "stream",
                    "text": [
                        "\r",
                        "  8%|\u258a         | 100/1245 [2:06:08<24:00:19, 75.48s/it]"
                    ]
                },
                {
                    "name": "stderr",
                    "output_type": "stream",
                    "text": [
                        "\r",
                        "  8%|\u258a         | 101/1245 [2:07:23<23:59:04, 75.48s/it]"
                    ]
                },
                {
                    "name": "stderr",
                    "output_type": "stream",
                    "text": [
                        "\r",
                        "  8%|\u258a         | 102/1245 [2:08:38<23:58:03, 75.49s/it]"
                    ]
                },
                {
                    "name": "stderr",
                    "output_type": "stream",
                    "text": [
                        "\r",
                        "  8%|\u258a         | 103/1245 [2:09:55<24:02:47, 75.80s/it]"
                    ]
                },
                {
                    "name": "stderr",
                    "output_type": "stream",
                    "text": [
                        "\r",
                        "  8%|\u258a         | 104/1245 [2:11:12<24:06:48, 76.08s/it]"
                    ]
                },
                {
                    "name": "stderr",
                    "output_type": "stream",
                    "text": [
                        "\r",
                        "  8%|\u258a         | 105/1245 [2:12:28<24:08:16, 76.23s/it]"
                    ]
                },
                {
                    "name": "stderr",
                    "output_type": "stream",
                    "text": [
                        "\r",
                        "  9%|\u258a         | 106/1245 [2:13:43<24:00:51, 75.90s/it]"
                    ]
                },
                {
                    "name": "stderr",
                    "output_type": "stream",
                    "text": [
                        "\r",
                        "  9%|\u258a         | 107/1245 [2:14:59<23:57:03, 75.77s/it]"
                    ]
                },
                {
                    "name": "stderr",
                    "output_type": "stream",
                    "text": [
                        "\r",
                        "  9%|\u258a         | 108/1245 [2:16:15<23:59:46, 75.98s/it]"
                    ]
                },
                {
                    "name": "stderr",
                    "output_type": "stream",
                    "text": [
                        "\r",
                        "  9%|\u2589         | 109/1245 [2:17:32<24:01:04, 76.11s/it]"
                    ]
                },
                {
                    "name": "stderr",
                    "output_type": "stream",
                    "text": [
                        "\r",
                        "  9%|\u2589         | 110/1245 [2:18:48<24:01:04, 76.18s/it]"
                    ]
                },
                {
                    "name": "stderr",
                    "output_type": "stream",
                    "text": [
                        "\r",
                        "  9%|\u2589         | 111/1245 [2:20:04<23:59:08, 76.15s/it]"
                    ]
                },
                {
                    "name": "stderr",
                    "output_type": "stream",
                    "text": [
                        "\r",
                        "  9%|\u2589         | 112/1245 [2:21:20<23:58:28, 76.18s/it]"
                    ]
                },
                {
                    "name": "stderr",
                    "output_type": "stream",
                    "text": [
                        "\r",
                        "  9%|\u2589         | 113/1245 [2:22:37<23:57:44, 76.21s/it]"
                    ]
                },
                {
                    "name": "stderr",
                    "output_type": "stream",
                    "text": [
                        "\r",
                        "  9%|\u2589         | 114/1245 [2:23:53<23:58:20, 76.30s/it]"
                    ]
                },
                {
                    "name": "stderr",
                    "output_type": "stream",
                    "text": [
                        "\r",
                        "  9%|\u2589         | 115/1245 [2:25:09<23:56:05, 76.25s/it]"
                    ]
                },
                {
                    "name": "stderr",
                    "output_type": "stream",
                    "text": [
                        "\r",
                        "  9%|\u2589         | 116/1245 [2:26:26<23:56:14, 76.33s/it]"
                    ]
                },
                {
                    "name": "stderr",
                    "output_type": "stream",
                    "text": [
                        "\r",
                        "  9%|\u2589         | 117/1245 [2:27:42<23:55:33, 76.36s/it]"
                    ]
                },
                {
                    "name": "stderr",
                    "output_type": "stream",
                    "text": [
                        "\r",
                        "  9%|\u2589         | 118/1245 [2:28:59<23:54:06, 76.35s/it]"
                    ]
                },
                {
                    "name": "stderr",
                    "output_type": "stream",
                    "text": [
                        "\r",
                        " 10%|\u2589         | 119/1245 [2:30:15<23:51:14, 76.27s/it]"
                    ]
                },
                {
                    "name": "stderr",
                    "output_type": "stream",
                    "text": [
                        "\r",
                        " 10%|\u2589         | 120/1245 [2:31:31<23:51:48, 76.36s/it]"
                    ]
                },
                {
                    "name": "stderr",
                    "output_type": "stream",
                    "text": [
                        "\r",
                        " 10%|\u2589         | 121/1245 [2:32:48<23:54:41, 76.59s/it]"
                    ]
                },
                {
                    "name": "stderr",
                    "output_type": "stream",
                    "text": [
                        "\r",
                        " 10%|\u2589         | 122/1245 [2:34:04<23:49:50, 76.39s/it]"
                    ]
                },
                {
                    "name": "stderr",
                    "output_type": "stream",
                    "text": [
                        "\r",
                        " 10%|\u2589         | 123/1245 [2:35:20<23:46:13, 76.27s/it]"
                    ]
                },
                {
                    "name": "stderr",
                    "output_type": "stream",
                    "text": [
                        "\r",
                        " 10%|\u2589         | 124/1245 [2:36:36<23:44:10, 76.23s/it]"
                    ]
                },
                {
                    "name": "stderr",
                    "output_type": "stream",
                    "text": [
                        "\r",
                        " 10%|\u2588         | 125/1245 [2:37:53<23:44:51, 76.33s/it]"
                    ]
                },
                {
                    "name": "stderr",
                    "output_type": "stream",
                    "text": [
                        "\r",
                        " 10%|\u2588         | 126/1245 [2:39:10<23:44:34, 76.38s/it]"
                    ]
                },
                {
                    "name": "stderr",
                    "output_type": "stream",
                    "text": [
                        "\r",
                        " 10%|\u2588         | 127/1245 [2:40:26<23:43:52, 76.42s/it]"
                    ]
                },
                {
                    "name": "stderr",
                    "output_type": "stream",
                    "text": [
                        "\r",
                        " 10%|\u2588         | 128/1245 [2:41:43<23:45:14, 76.56s/it]"
                    ]
                },
                {
                    "name": "stderr",
                    "output_type": "stream",
                    "text": [
                        "\r",
                        " 10%|\u2588         | 129/1245 [2:43:00<23:45:54, 76.66s/it]"
                    ]
                },
                {
                    "name": "stderr",
                    "output_type": "stream",
                    "text": [
                        "\r",
                        " 10%|\u2588         | 130/1245 [2:44:17<23:44:53, 76.68s/it]"
                    ]
                },
                {
                    "name": "stderr",
                    "output_type": "stream",
                    "text": [
                        "\r",
                        " 11%|\u2588         | 131/1245 [2:45:33<23:41:06, 76.54s/it]"
                    ]
                },
                {
                    "name": "stderr",
                    "output_type": "stream",
                    "text": [
                        "\r",
                        " 11%|\u2588         | 132/1245 [2:46:49<23:40:15, 76.56s/it]"
                    ]
                },
                {
                    "name": "stderr",
                    "output_type": "stream",
                    "text": [
                        "\r",
                        " 11%|\u2588         | 133/1245 [2:48:06<23:36:47, 76.45s/it]"
                    ]
                },
                {
                    "name": "stderr",
                    "output_type": "stream",
                    "text": [
                        "\r",
                        " 11%|\u2588         | 134/1245 [2:49:22<23:35:12, 76.43s/it]"
                    ]
                },
                {
                    "name": "stderr",
                    "output_type": "stream",
                    "text": [
                        "\r",
                        " 11%|\u2588         | 135/1245 [2:50:39<23:34:54, 76.48s/it]"
                    ]
                },
                {
                    "name": "stderr",
                    "output_type": "stream",
                    "text": [
                        "\r",
                        " 11%|\u2588         | 136/1245 [2:51:55<23:30:54, 76.33s/it]"
                    ]
                },
                {
                    "name": "stderr",
                    "output_type": "stream",
                    "text": [
                        "\r",
                        " 11%|\u2588         | 137/1245 [2:53:11<23:29:05, 76.31s/it]"
                    ]
                },
                {
                    "name": "stderr",
                    "output_type": "stream",
                    "text": [
                        "\r",
                        " 11%|\u2588         | 138/1245 [2:54:27<23:27:03, 76.26s/it]"
                    ]
                },
                {
                    "name": "stderr",
                    "output_type": "stream",
                    "text": [
                        "\r",
                        " 11%|\u2588         | 139/1245 [2:55:43<23:25:27, 76.25s/it]"
                    ]
                },
                {
                    "name": "stderr",
                    "output_type": "stream",
                    "text": [
                        "\r",
                        " 11%|\u2588         | 140/1245 [2:56:59<23:23:23, 76.20s/it]"
                    ]
                },
                {
                    "name": "stderr",
                    "output_type": "stream",
                    "text": [
                        "\r",
                        " 11%|\u2588\u258f        | 141/1245 [2:58:15<23:21:41, 76.18s/it]"
                    ]
                },
                {
                    "name": "stderr",
                    "output_type": "stream",
                    "text": [
                        "\r",
                        " 11%|\u2588\u258f        | 142/1245 [2:59:32<23:20:40, 76.19s/it]"
                    ]
                },
                {
                    "name": "stderr",
                    "output_type": "stream",
                    "text": [
                        "\r",
                        " 11%|\u2588\u258f        | 143/1245 [3:00:48<23:19:53, 76.22s/it]"
                    ]
                },
                {
                    "name": "stderr",
                    "output_type": "stream",
                    "text": [
                        "\r",
                        " 12%|\u2588\u258f        | 144/1245 [3:02:04<23:18:34, 76.22s/it]"
                    ]
                },
                {
                    "name": "stderr",
                    "output_type": "stream",
                    "text": [
                        "\r",
                        " 12%|\u2588\u258f        | 145/1245 [3:03:21<23:20:34, 76.39s/it]"
                    ]
                },
                {
                    "name": "stderr",
                    "output_type": "stream",
                    "text": [
                        "\r",
                        " 12%|\u2588\u258f        | 146/1245 [3:04:37<23:15:02, 76.16s/it]"
                    ]
                },
                {
                    "name": "stderr",
                    "output_type": "stream",
                    "text": [
                        "\r",
                        " 12%|\u2588\u258f        | 147/1245 [3:05:51<23:05:26, 75.71s/it]"
                    ]
                },
                {
                    "name": "stderr",
                    "output_type": "stream",
                    "text": [
                        "\r",
                        " 12%|\u2588\u258f        | 148/1245 [3:07:06<22:57:36, 75.35s/it]"
                    ]
                },
                {
                    "name": "stderr",
                    "output_type": "stream",
                    "text": [
                        "\r",
                        " 12%|\u2588\u258f        | 149/1245 [3:08:20<22:52:49, 75.15s/it]"
                    ]
                },
                {
                    "name": "stderr",
                    "output_type": "stream",
                    "text": [
                        "\r",
                        " 12%|\u2588\u258f        | 150/1245 [3:09:35<22:48:39, 74.99s/it]"
                    ]
                },
                {
                    "name": "stderr",
                    "output_type": "stream",
                    "text": [
                        "\r",
                        " 12%|\u2588\u258f        | 151/1245 [3:10:49<22:41:49, 74.69s/it]"
                    ]
                },
                {
                    "name": "stderr",
                    "output_type": "stream",
                    "text": [
                        "\r",
                        " 12%|\u2588\u258f        | 152/1245 [3:12:04<22:39:50, 74.65s/it]"
                    ]
                },
                {
                    "name": "stderr",
                    "output_type": "stream",
                    "text": [
                        "\r",
                        " 12%|\u2588\u258f        | 153/1245 [3:13:18<22:37:58, 74.61s/it]"
                    ]
                },
                {
                    "name": "stderr",
                    "output_type": "stream",
                    "text": [
                        "\r",
                        " 12%|\u2588\u258f        | 154/1245 [3:14:33<22:36:48, 74.62s/it]"
                    ]
                },
                {
                    "name": "stderr",
                    "output_type": "stream",
                    "text": [
                        "\r",
                        " 12%|\u2588\u258f        | 155/1245 [3:15:47<22:34:39, 74.57s/it]"
                    ]
                },
                {
                    "name": "stderr",
                    "output_type": "stream",
                    "text": [
                        "\r",
                        " 13%|\u2588\u258e        | 156/1245 [3:17:01<22:31:57, 74.49s/it]"
                    ]
                },
                {
                    "name": "stderr",
                    "output_type": "stream",
                    "text": [
                        "\r",
                        " 13%|\u2588\u258e        | 157/1245 [3:18:17<22:37:53, 74.88s/it]"
                    ]
                },
                {
                    "name": "stderr",
                    "output_type": "stream",
                    "text": [
                        "\r",
                        " 13%|\u2588\u258e        | 158/1245 [3:19:33<22:40:11, 75.08s/it]"
                    ]
                },
                {
                    "name": "stderr",
                    "output_type": "stream",
                    "text": [
                        "\r",
                        " 13%|\u2588\u258e        | 159/1245 [3:20:48<22:41:29, 75.22s/it]"
                    ]
                },
                {
                    "name": "stderr",
                    "output_type": "stream",
                    "text": [
                        "\r",
                        " 13%|\u2588\u258e        | 160/1245 [3:22:03<22:39:21, 75.17s/it]"
                    ]
                },
                {
                    "name": "stderr",
                    "output_type": "stream",
                    "text": [
                        "\r",
                        " 13%|\u2588\u258e        | 161/1245 [3:23:18<22:33:02, 74.89s/it]"
                    ]
                },
                {
                    "name": "stderr",
                    "output_type": "stream",
                    "text": [
                        "\r",
                        " 13%|\u2588\u258e        | 162/1245 [3:24:32<22:28:52, 74.73s/it]"
                    ]
                },
                {
                    "name": "stderr",
                    "output_type": "stream",
                    "text": [
                        "\r",
                        " 13%|\u2588\u258e        | 163/1245 [3:25:46<22:24:49, 74.57s/it]"
                    ]
                },
                {
                    "name": "stderr",
                    "output_type": "stream",
                    "text": [
                        "\r",
                        " 13%|\u2588\u258e        | 164/1245 [3:27:01<22:22:26, 74.51s/it]"
                    ]
                },
                {
                    "name": "stderr",
                    "output_type": "stream",
                    "text": [
                        "\r",
                        " 13%|\u2588\u258e        | 165/1245 [3:28:16<22:24:26, 74.69s/it]"
                    ]
                },
                {
                    "name": "stderr",
                    "output_type": "stream",
                    "text": [
                        "\r",
                        " 13%|\u2588\u258e        | 166/1245 [3:29:31<22:25:49, 74.84s/it]"
                    ]
                },
                {
                    "name": "stderr",
                    "output_type": "stream",
                    "text": [
                        "\r",
                        " 13%|\u2588\u258e        | 167/1245 [3:30:47<22:31:23, 75.22s/it]"
                    ]
                },
                {
                    "name": "stderr",
                    "output_type": "stream",
                    "text": [
                        "\r",
                        " 13%|\u2588\u258e        | 168/1245 [3:32:02<22:29:51, 75.20s/it]"
                    ]
                },
                {
                    "name": "stderr",
                    "output_type": "stream",
                    "text": [
                        "\r",
                        " 14%|\u2588\u258e        | 169/1245 [3:33:17<22:28:13, 75.18s/it]"
                    ]
                },
                {
                    "name": "stderr",
                    "output_type": "stream",
                    "text": [
                        "\r",
                        " 14%|\u2588\u258e        | 170/1245 [3:34:32<22:26:01, 75.13s/it]"
                    ]
                },
                {
                    "name": "stderr",
                    "output_type": "stream",
                    "text": [
                        "\r",
                        " 14%|\u2588\u258e        | 171/1245 [3:35:47<22:24:58, 75.14s/it]"
                    ]
                },
                {
                    "name": "stderr",
                    "output_type": "stream",
                    "text": [
                        "\r",
                        " 14%|\u2588\u258d        | 172/1245 [3:37:03<22:23:25, 75.12s/it]"
                    ]
                },
                {
                    "name": "stderr",
                    "output_type": "stream",
                    "text": [
                        "\r",
                        " 14%|\u2588\u258d        | 173/1245 [3:38:18<22:24:25, 75.25s/it]"
                    ]
                },
                {
                    "name": "stderr",
                    "output_type": "stream",
                    "text": [
                        "\r",
                        " 14%|\u2588\u258d        | 174/1245 [3:39:33<22:23:04, 75.24s/it]"
                    ]
                },
                {
                    "name": "stderr",
                    "output_type": "stream",
                    "text": [
                        "\r",
                        " 14%|\u2588\u258d        | 175/1245 [3:40:49<22:22:36, 75.29s/it]"
                    ]
                },
                {
                    "name": "stderr",
                    "output_type": "stream",
                    "text": [
                        "\r",
                        " 14%|\u2588\u258d        | 176/1245 [3:42:04<22:19:48, 75.20s/it]"
                    ]
                },
                {
                    "name": "stderr",
                    "output_type": "stream",
                    "text": [
                        "\r",
                        " 14%|\u2588\u258d        | 177/1245 [3:43:19<22:18:32, 75.20s/it]"
                    ]
                },
                {
                    "name": "stderr",
                    "output_type": "stream",
                    "text": [
                        "\r",
                        " 14%|\u2588\u258d        | 178/1245 [3:44:34<22:18:33, 75.27s/it]"
                    ]
                },
                {
                    "name": "stderr",
                    "output_type": "stream",
                    "text": [
                        "\r",
                        " 14%|\u2588\u258d        | 179/1245 [3:45:51<22:23:40, 75.63s/it]"
                    ]
                },
                {
                    "name": "stderr",
                    "output_type": "stream",
                    "text": [
                        "\r",
                        " 14%|\u2588\u258d        | 180/1245 [3:47:07<22:27:10, 75.90s/it]"
                    ]
                },
                {
                    "name": "stderr",
                    "output_type": "stream",
                    "text": [
                        "\r",
                        " 15%|\u2588\u258d        | 181/1245 [3:48:22<22:20:28, 75.59s/it]"
                    ]
                },
                {
                    "name": "stderr",
                    "output_type": "stream",
                    "text": [
                        "\r",
                        " 15%|\u2588\u258d        | 182/1245 [3:49:37<22:14:30, 75.32s/it]"
                    ]
                },
                {
                    "name": "stderr",
                    "output_type": "stream",
                    "text": [
                        "\r",
                        " 15%|\u2588\u258d        | 183/1245 [3:50:53<22:15:07, 75.43s/it]"
                    ]
                },
                {
                    "name": "stderr",
                    "output_type": "stream",
                    "text": [
                        "\r",
                        " 15%|\u2588\u258d        | 184/1245 [3:52:08<22:13:04, 75.39s/it]"
                    ]
                },
                {
                    "name": "stderr",
                    "output_type": "stream",
                    "text": [
                        "\r",
                        " 15%|\u2588\u258d        | 185/1245 [3:53:23<22:12:01, 75.40s/it]"
                    ]
                },
                {
                    "name": "stderr",
                    "output_type": "stream",
                    "text": [
                        "\r",
                        " 15%|\u2588\u258d        | 186/1245 [3:54:38<22:09:25, 75.32s/it]"
                    ]
                },
                {
                    "name": "stderr",
                    "output_type": "stream",
                    "text": [
                        "\r",
                        " 15%|\u2588\u258c        | 187/1245 [3:55:54<22:09:15, 75.38s/it]"
                    ]
                },
                {
                    "name": "stderr",
                    "output_type": "stream",
                    "text": [
                        "\r",
                        " 15%|\u2588\u258c        | 188/1245 [3:57:09<22:06:22, 75.29s/it]"
                    ]
                },
                {
                    "name": "stderr",
                    "output_type": "stream",
                    "text": [
                        "\r",
                        " 15%|\u2588\u258c        | 189/1245 [3:58:24<22:05:53, 75.34s/it]"
                    ]
                },
                {
                    "name": "stderr",
                    "output_type": "stream",
                    "text": [
                        "\r",
                        " 15%|\u2588\u258c        | 190/1245 [3:59:40<22:04:35, 75.33s/it]"
                    ]
                },
                {
                    "name": "stderr",
                    "output_type": "stream",
                    "text": [
                        "\r",
                        " 15%|\u2588\u258c        | 191/1245 [4:00:55<22:03:29, 75.34s/it]"
                    ]
                },
                {
                    "name": "stderr",
                    "output_type": "stream",
                    "text": [
                        "\r",
                        " 15%|\u2588\u258c        | 192/1245 [4:02:11<22:03:18, 75.40s/it]"
                    ]
                },
                {
                    "name": "stderr",
                    "output_type": "stream",
                    "text": [
                        "\r",
                        " 16%|\u2588\u258c        | 193/1245 [4:03:26<22:02:22, 75.42s/it]"
                    ]
                },
                {
                    "name": "stderr",
                    "output_type": "stream",
                    "text": [
                        "\r",
                        " 16%|\u2588\u258c        | 194/1245 [4:04:42<22:01:21, 75.43s/it]"
                    ]
                },
                {
                    "name": "stderr",
                    "output_type": "stream",
                    "text": [
                        "\r",
                        " 16%|\u2588\u258c        | 195/1245 [4:05:57<21:59:59, 75.43s/it]"
                    ]
                },
                {
                    "name": "stderr",
                    "output_type": "stream",
                    "text": [
                        "\r",
                        " 16%|\u2588\u258c        | 196/1245 [4:07:12<21:58:02, 75.39s/it]"
                    ]
                },
                {
                    "name": "stderr",
                    "output_type": "stream",
                    "text": [
                        "\r",
                        " 16%|\u2588\u258c        | 197/1245 [4:08:27<21:55:02, 75.29s/it]"
                    ]
                },
                {
                    "name": "stderr",
                    "output_type": "stream",
                    "text": [
                        "\r",
                        " 16%|\u2588\u258c        | 198/1245 [4:09:43<21:56:29, 75.44s/it]"
                    ]
                },
                {
                    "name": "stderr",
                    "output_type": "stream",
                    "text": [
                        "\r",
                        " 16%|\u2588\u258c        | 199/1245 [4:10:58<21:53:30, 75.34s/it]"
                    ]
                },
                {
                    "name": "stderr",
                    "output_type": "stream",
                    "text": [
                        "\r",
                        " 16%|\u2588\u258c        | 200/1245 [4:12:14<21:54:45, 75.49s/it]"
                    ]
                },
                {
                    "name": "stderr",
                    "output_type": "stream",
                    "text": [
                        "\r",
                        " 16%|\u2588\u258c        | 201/1245 [4:13:30<21:54:27, 75.54s/it]"
                    ]
                },
                {
                    "name": "stderr",
                    "output_type": "stream",
                    "text": [
                        "\r",
                        " 16%|\u2588\u258c        | 202/1245 [4:14:46<21:57:49, 75.81s/it]"
                    ]
                },
                {
                    "name": "stderr",
                    "output_type": "stream",
                    "text": [
                        "\r",
                        " 16%|\u2588\u258b        | 203/1245 [4:16:02<21:57:08, 75.84s/it]"
                    ]
                },
                {
                    "name": "stderr",
                    "output_type": "stream",
                    "text": [
                        "\r",
                        " 16%|\u2588\u258b        | 204/1245 [4:17:18<21:56:16, 75.87s/it]"
                    ]
                },
                {
                    "name": "stderr",
                    "output_type": "stream",
                    "text": [
                        "\r",
                        " 16%|\u2588\u258b        | 205/1245 [4:18:34<21:55:08, 75.87s/it]"
                    ]
                },
                {
                    "name": "stderr",
                    "output_type": "stream",
                    "text": [
                        "\r",
                        " 17%|\u2588\u258b        | 206/1245 [4:19:49<21:49:51, 75.64s/it]"
                    ]
                },
                {
                    "name": "stderr",
                    "output_type": "stream",
                    "text": [
                        "\r",
                        " 17%|\u2588\u258b        | 207/1245 [4:21:04<21:46:36, 75.53s/it]"
                    ]
                },
                {
                    "name": "stderr",
                    "output_type": "stream",
                    "text": [
                        "\r",
                        " 17%|\u2588\u258b        | 208/1245 [4:22:20<21:44:31, 75.48s/it]"
                    ]
                },
                {
                    "name": "stderr",
                    "output_type": "stream",
                    "text": [
                        "\r",
                        " 17%|\u2588\u258b        | 209/1245 [4:23:35<21:39:56, 75.29s/it]"
                    ]
                },
                {
                    "name": "stderr",
                    "output_type": "stream",
                    "text": [
                        "\r",
                        " 17%|\u2588\u258b        | 210/1245 [4:24:50<21:37:06, 75.19s/it]"
                    ]
                },
                {
                    "name": "stderr",
                    "output_type": "stream",
                    "text": [
                        "\r",
                        " 17%|\u2588\u258b        | 211/1245 [4:26:05<21:38:42, 75.36s/it]"
                    ]
                },
                {
                    "name": "stderr",
                    "output_type": "stream",
                    "text": [
                        "\r",
                        " 17%|\u2588\u258b        | 212/1245 [4:27:21<21:38:27, 75.42s/it]"
                    ]
                },
                {
                    "name": "stderr",
                    "output_type": "stream",
                    "text": [
                        "\r",
                        " 17%|\u2588\u258b        | 213/1245 [4:28:35<21:32:35, 75.15s/it]"
                    ]
                },
                {
                    "name": "stderr",
                    "output_type": "stream",
                    "text": [
                        "\r",
                        " 17%|\u2588\u258b        | 214/1245 [4:29:50<21:29:48, 75.06s/it]"
                    ]
                },
                {
                    "name": "stderr",
                    "output_type": "stream",
                    "text": [
                        "\r",
                        " 17%|\u2588\u258b        | 215/1245 [4:31:05<21:27:47, 75.02s/it]"
                    ]
                },
                {
                    "name": "stderr",
                    "output_type": "stream",
                    "text": [
                        "\r",
                        " 17%|\u2588\u258b        | 216/1245 [4:32:20<21:25:16, 74.94s/it]"
                    ]
                },
                {
                    "name": "stderr",
                    "output_type": "stream",
                    "text": [
                        "\r",
                        " 17%|\u2588\u258b        | 217/1245 [4:33:35<21:23:06, 74.89s/it]"
                    ]
                },
                {
                    "name": "stderr",
                    "output_type": "stream",
                    "text": [
                        "\r",
                        " 18%|\u2588\u258a        | 218/1245 [4:34:49<21:19:56, 74.78s/it]"
                    ]
                },
                {
                    "name": "stderr",
                    "output_type": "stream",
                    "text": [
                        "\r",
                        " 18%|\u2588\u258a        | 219/1245 [4:36:04<21:20:38, 74.89s/it]"
                    ]
                },
                {
                    "name": "stderr",
                    "output_type": "stream",
                    "text": [
                        "\r",
                        " 18%|\u2588\u258a        | 220/1245 [4:37:19<21:19:54, 74.92s/it]"
                    ]
                },
                {
                    "name": "stderr",
                    "output_type": "stream",
                    "text": [
                        "\r",
                        " 18%|\u2588\u258a        | 221/1245 [4:38:34<21:18:23, 74.91s/it]"
                    ]
                },
                {
                    "name": "stderr",
                    "output_type": "stream",
                    "text": [
                        "\r",
                        " 18%|\u2588\u258a        | 222/1245 [4:39:49<21:17:51, 74.95s/it]"
                    ]
                },
                {
                    "name": "stderr",
                    "output_type": "stream",
                    "text": [
                        "\r",
                        " 18%|\u2588\u258a        | 223/1245 [4:41:05<21:21:11, 75.22s/it]"
                    ]
                },
                {
                    "name": "stderr",
                    "output_type": "stream",
                    "text": [
                        "\r",
                        " 18%|\u2588\u258a        | 224/1245 [4:42:20<21:19:53, 75.21s/it]"
                    ]
                },
                {
                    "name": "stderr",
                    "output_type": "stream",
                    "text": [
                        "\r",
                        " 18%|\u2588\u258a        | 225/1245 [4:43:36<21:20:11, 75.31s/it]"
                    ]
                }
            ],
            "source": [
                "# anova for each feature in the dataframe with posthoc tukey test to determine which groups are different from each other\n",
                "lst = []\n",
                "# for i in cp_features:\n",
                "for i in tqdm(cp_features):\n",
                "    formula = f\"{i} ~ C(labels) + C(Metadata_number_of_singlecells)\"\n",
                "    model = ols(formula, df_data).fit()\n",
                "    aov_table = sm.stats.anova_lm(model, typ=2)\n",
                "    posthoc = pairwise_tukeyhsd(\n",
                "        df_data[i],\n",
                "        df_data[\"labels\"],\n",
                "        alpha=0.001,\n",
                "    )\n",
                "    # print(posthoc)\n",
                "    lst.append([posthoc, i])"
            ]
        },
        {
            "cell_type": "code",
            "execution_count": null,
            "id": "4b49e728",
            "metadata": {
                "papermill": {
                    "duration": null,
                    "end_time": null,
                    "exception": null,
                    "start_time": null,
                    "status": "pending"
                },
                "tags": []
            },
            "outputs": [],
            "source": [
                "tukey_df = pd.DataFrame()\n",
                "for i in lst:\n",
                "    j = pd.DataFrame(i[0]._results_table.data[1:])\n",
                "    j[\"features\"] = np.repeat(i[1], len(j))\n",
                "    tukey_df = pd.concat([tukey_df, j], axis=0)\n",
                "\n",
                "    np.repeat(i[1], len(j))\n",
                "\n",
                "tukey_df.columns = [\n",
                "    \"group1\",\n",
                "    \"group2\",\n",
                "    \"meandiff\",\n",
                "    \"lower\",\n",
                "    \"upper\",\n",
                "    \"p-adj\",\n",
                "    \"reject\",\n",
                "    \"features\",\n",
                "]\n",
                "# drop the other organelle\n",
                "# make new column with the absolute value of the p-adj\n",
                "tukey_df[\"p-adj_abs\"] = abs(tukey_df[\"p-adj\"])\n",
                "# make new column that states if the relationship is positive or negative\n",
                "tukey_df[\"pos_neg\"] = np.where(tukey_df[\"p-adj\"] > 0, \"positive\", \"negative\")\n",
                "# order the features by p-adj value"
            ]
        },
        {
            "cell_type": "code",
            "execution_count": null,
            "id": "e7a540fc",
            "metadata": {
                "papermill": {
                    "duration": null,
                    "end_time": null,
                    "exception": null,
                    "start_time": null,
                    "status": "pending"
                },
                "tags": []
            },
            "outputs": [],
            "source": [
                "tukey_df.head()"
            ]
        },
        {
            "cell_type": "code",
            "execution_count": null,
            "id": "572cafca",
            "metadata": {
                "papermill": {
                    "duration": null,
                    "end_time": null,
                    "exception": null,
                    "start_time": null,
                    "status": "pending"
                },
                "tags": []
            },
            "outputs": [],
            "source": [
                "# save the dataframe as a parquet file\n",
                "anova_results_path = pathlib.Path(\n",
                "    f\"./results/{cell_type}_anova_results_all_treatments.parquet\"\n",
                ")\n",
                "tukey_df.to_parquet(anova_results_path)"
            ]
        }
    ],
    "metadata": {
        "kernelspec": {
            "display_name": "Interstellar",
            "language": "python",
            "name": "python3"
        },
        "language_info": {
            "codemirror_mode": {
                "name": "ipython",
                "version": 3
            },
            "file_extension": ".py",
            "mimetype": "text/x-python",
            "name": "python",
            "nbconvert_exporter": "python",
            "pygments_lexer": "ipython3",
            "version": "3.10.12"
        },
        "papermill": {
            "default_parameters": {},
            "duration": null,
            "end_time": null,
            "environment_variables": {},
            "exception": null,
            "input_path": "8.anova_all_groupings.ipynb",
            "output_path": "8.anova_all_groupings.ipynb",
            "parameters": {},
            "start_time": "2023-11-19T22:44:26.384792",
            "version": "2.5.0"
        }
    },
    "nbformat": 4,
    "nbformat_minor": 5
}
