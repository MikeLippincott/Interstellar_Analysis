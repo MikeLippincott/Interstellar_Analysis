{
 "cells": [
  {
   "cell_type": "code",
   "execution_count": 1,
   "metadata": {
    "vscode": {
     "languageId": "r"
    }
   },
   "outputs": [],
   "source": [
    "suppressPackageStartupMessages(suppressWarnings(library(ggplot2)))\n",
    "suppressPackageStartupMessages(suppressWarnings(library(arrow)))\n",
    "suppressPackageStartupMessages(suppressWarnings(library(cowplot)))\n",
    "suppressPackageStartupMessages(suppressWarnings(library(dplyr)))\n",
    "suppressPackageStartupMessages(suppressWarnings(library(argparser)))"
   ]
  },
  {
   "cell_type": "code",
   "execution_count": null,
   "metadata": {
    "vscode": {
     "languageId": "r"
    }
   },
   "outputs": [],
   "source": [
    "# set the arg parser\n",
    "parser <- arg_parser(\"Plot the cell count data\")\n",
    "\n",
    "parser <- add_argument(parser, \"--cell_type\", help = \"Input file path\", required = TRUE)\n",
    "\n",
    "args <- parse_args(parser)\n",
    "\n",
    "cell_type <- args$cell_type"
   ]
  },
  {
   "cell_type": "code",
   "execution_count": 8,
   "metadata": {
    "vscode": {
     "languageId": "r"
    }
   },
   "outputs": [],
   "source": [
    "# import path \n",
    "cell_count_path <- file.path(paste0(\"./results/\",cell_type,\"_cell_counts.parquet\"))\n",
    "output_path <- file.path(paste0(\"./Figures/cell_counts_plate2/\",cell_type,\"/\",\"cell_counts.png\"))\n",
    "# read in the data\n",
    "cell_count_df <- read_parquet(cell_count_path)"
   ]
  },
  {
   "cell_type": "code",
   "execution_count": 9,
   "metadata": {
    "vscode": {
     "languageId": "r"
    }
   },
   "outputs": [],
   "source": [
    "# aggregate the data mean and sd\n",
    "cell_count_df <- cell_count_df %>% \n",
    "    group_by(oneb_Metadata_Treatment_Dose_Inhibitor_Dose) %>% \n",
    "    summarize(mean = mean(Metadata_number_of_singlecells), sd = sd(Metadata_number_of_singlecells))\n",
    "# set max cell count and min cell count\n",
    "max_cell_count <- max(cell_count_df$mean)\n",
    "median_cell_count <- median(cell_count_df$mean)\n",
    "min_cell_count <- min(cell_count_df$mean)"
   ]
  },
  {
   "cell_type": "code",
   "execution_count": 10,
   "metadata": {
    "vscode": {
     "languageId": "r"
    }
   },
   "outputs": [
    {
     "name": "stderr",
     "output_type": "stream",
     "text": [
      "Warning message:\n",
      "“\u001b[1m\u001b[22mThe `<scale>` argument of `guides()` cannot be `FALSE`. Use \"none\" instead as\n",
      "of ggplot2 3.3.4.”\n"
     ]
    }
   ],
   "source": [
    "options(repr.plot.width = 12, repr.plot.height = 10)\n",
    "# plot the data in a bar plot \n",
    "cell_count_bar <- (\n",
    "    ggplot(cell_count_df, aes(x = oneb_Metadata_Treatment_Dose_Inhibitor_Dose, y = mean, fill = oneb_Metadata_Treatment_Dose_Inhibitor_Dose))\n",
    "    + geom_bar(stat = \"identity\", position = \"dodge\")\n",
    "    + geom_errorbar(aes(ymin = mean - sd, ymax = mean + sd), width = 0.2, position = position_dodge(0.9))\n",
    "    + labs(x = \"Treatment\", y = \"Number of cells\", title = \"Number of cells per well\")\n",
    "    + theme_bw()\n",
    "    + theme(axis.text.x = element_text(angle = 90, hjust = 1))\n",
    "    + scale_fill_manual(values=viridis::viridis(36))\n",
    "    # horizontal line at 0\n",
    "    + geom_hline(yintercept = min_cell_count, linetype = \"dashed\", color = \"black\")\n",
    "    + geom_hline(yintercept = max_cell_count, linetype = \"dashed\", color = \"black\")\n",
    "    + ylim(0, max_cell_count)\n",
    "    # set the title of the plot to be centere\n",
    "    + theme(plot.title = element_text(hjust = 0.5))\n",
    "    + theme(axis.title.x = element_text(size = 16))\n",
    "    + theme(axis.title.y = element_text(size = 16))\n",
    "    + theme(axis.text.x = element_text(size = 14))\n",
    "    + theme(axis.text.y = element_text(size = 14))\n",
    ")\n",
    "# get the legend \n",
    "legend <- get_legend(cell_count_bar)\n",
    "# drop the legend \n",
    "cell_count_bar <- cell_count_bar + guides(fill = FALSE)\n",
    "# save the plot\n",
    "ggsave(output_path, plot = cell_count_bar, width = 12, height = 10, units = \"in\", dpi = 300)"
   ]
  },
  {
   "cell_type": "code",
   "execution_count": null,
   "metadata": {
    "vscode": {
     "languageId": "r"
    }
   },
   "outputs": [],
   "source": []
  },
  {
   "cell_type": "code",
   "execution_count": null,
   "metadata": {
    "vscode": {
     "languageId": "r"
    }
   },
   "outputs": [],
   "source": []
  }
 ],
 "metadata": {
  "kernelspec": {
   "display_name": "R",
   "language": "R",
   "name": "ir"
  },
  "language_info": {
   "codemirror_mode": "r",
   "file_extension": ".r",
   "mimetype": "text/x-r-source",
   "name": "R",
   "pygments_lexer": "r",
   "version": "4.2.2"
  },
  "orig_nbformat": 4
 },
 "nbformat": 4,
 "nbformat_minor": 2
}
