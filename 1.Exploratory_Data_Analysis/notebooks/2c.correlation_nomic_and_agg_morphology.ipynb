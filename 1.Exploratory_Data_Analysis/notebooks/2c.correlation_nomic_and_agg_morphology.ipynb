{
 "cells": [
  {
   "attachments": {},
   "cell_type": "markdown",
   "id": "9e9a304b",
   "metadata": {
    "papermill": {
     "duration": 0.003179,
     "end_time": "2023-08-01T02:00:59.666991",
     "exception": false,
     "start_time": "2023-08-01T02:00:59.663812",
     "status": "completed"
    },
    "tags": []
   },
   "source": [
    "# Correlation of single cell morhologies and nELISA Cytokine/Chemokine Panel\n",
    "Each well is median aggregated and normalized.  \n",
    "The correlation of the aggregate morphology features and nELISA features is calculated per:\n",
    "* well\n",
    "* per treatment\n",
    "* per selected treatment"
   ]
  },
  {
   "cell_type": "code",
   "execution_count": 1,
   "id": "ae3b115d",
   "metadata": {
    "execution": {
     "iopub.execute_input": "2023-08-01T02:00:59.671627Z",
     "iopub.status.busy": "2023-08-01T02:00:59.671503Z",
     "iopub.status.idle": "2023-08-01T02:00:59.851997Z",
     "shell.execute_reply": "2023-08-01T02:00:59.851691Z"
    },
    "papermill": {
     "duration": 0.183764,
     "end_time": "2023-08-01T02:00:59.853055",
     "exception": false,
     "start_time": "2023-08-01T02:00:59.669291",
     "status": "completed"
    },
    "tags": []
   },
   "outputs": [],
   "source": [
    "import pathlib\n",
    "\n",
    "import numpy as np\n",
    "import pandas as pd"
   ]
  },
  {
   "cell_type": "code",
   "execution_count": 2,
   "id": "7a492595",
   "metadata": {
    "execution": {
     "iopub.execute_input": "2023-08-01T02:00:59.859368Z",
     "iopub.status.busy": "2023-08-01T02:00:59.858935Z",
     "iopub.status.idle": "2023-08-01T02:00:59.860878Z",
     "shell.execute_reply": "2023-08-01T02:00:59.860605Z"
    },
    "papermill": {
     "duration": 0.005934,
     "end_time": "2023-08-01T02:00:59.861720",
     "exception": false,
     "start_time": "2023-08-01T02:00:59.855786",
     "status": "completed"
    },
    "tags": [
     "injected-parameters"
    ]
   },
   "outputs": [],
   "source": [
    "# Parameters\n",
    "cell_type = \"PBMC\""
   ]
  },
  {
   "cell_type": "code",
   "execution_count": 3,
   "id": "1b051226",
   "metadata": {
    "execution": {
     "iopub.execute_input": "2023-08-01T02:00:59.867695Z",
     "iopub.status.busy": "2023-08-01T02:00:59.867535Z",
     "iopub.status.idle": "2023-08-01T02:01:00.011404Z",
     "shell.execute_reply": "2023-08-01T02:01:00.011056Z"
    },
    "papermill": {
     "duration": 0.148251,
     "end_time": "2023-08-01T02:01:00.012763",
     "exception": false,
     "start_time": "2023-08-01T02:00:59.864512",
     "status": "completed"
    },
    "tags": []
   },
   "outputs": [],
   "source": [
    "# set import data paths\n",
    "PBMC_df_path = pathlib.Path(f\"../data/{cell_type}_sc_aggregate_norm.parquet\")\n",
    "nomic_df_path = pathlib.Path(\n",
    "    f\"../2.Nomic_nELISA_Analysis/Data/clean/Plate2/nELISA_plate_430420_{cell_type}_cleanup4correlation.csv\"\n",
    ")\n",
    "\n",
    "# read in data\n",
    "feature_df = pd.read_parquet(PBMC_df_path)\n",
    "nomic_df = pd.read_csv(nomic_df_path)"
   ]
  },
  {
   "attachments": {},
   "cell_type": "markdown",
   "id": "41f924ca",
   "metadata": {
    "papermill": {
     "duration": 0.002613,
     "end_time": "2023-08-01T02:01:00.018488",
     "exception": false,
     "start_time": "2023-08-01T02:01:00.015875",
     "status": "completed"
    },
    "tags": []
   },
   "source": [
    "## Clean up morphology df"
   ]
  },
  {
   "cell_type": "code",
   "execution_count": 4,
   "id": "2ae59e17",
   "metadata": {
    "execution": {
     "iopub.execute_input": "2023-08-01T02:01:00.024438Z",
     "iopub.status.busy": "2023-08-01T02:01:00.024259Z",
     "iopub.status.idle": "2023-08-01T02:01:00.031524Z",
     "shell.execute_reply": "2023-08-01T02:01:00.031241Z"
    },
    "papermill": {
     "duration": 0.011387,
     "end_time": "2023-08-01T02:01:00.032482",
     "exception": false,
     "start_time": "2023-08-01T02:01:00.021095",
     "status": "completed"
    },
    "tags": []
   },
   "outputs": [],
   "source": [
    "# remove uM in each row of the Metadata_inducer1_concentration column if it is present\n",
    "if \"Metadata_inducer1_concentration\" in feature_df.columns:\n",
    "    feature_df[\"Metadata_inducer1_concentration\"] = feature_df[\n",
    "        \"Metadata_inducer1_concentration\"\n",
    "    ].str.replace(\"µM\", \"\")\n",
    "# replace nan values with 0\n",
    "feature_df[\"Metadata_inducer1_concentration\"] = feature_df[\n",
    "    \"Metadata_inducer1_concentration\"\n",
    "].fillna(0)\n",
    "feature_df[\"Metadata_inducer2_concentration\"] = feature_df[\n",
    "    \"Metadata_inducer2_concentration\"\n",
    "].fillna(0)\n",
    "feature_df[\"Metadata_inhibitor_concentration\"] = feature_df[\n",
    "    \"Metadata_inhibitor_concentration\"\n",
    "].fillna(0)\n",
    "# treatment column merge\n",
    "conditions = [\n",
    "    (feature_df[\"Metadata_inducer2\"].isnull()),\n",
    "    feature_df[\"Metadata_inducer2\"].notnull(),\n",
    "]\n",
    "results = [\n",
    "    (feature_df[\"Metadata_inducer1\"]).astype(str),\n",
    "    (feature_df[\"Metadata_inducer1\"] + \"_\" + feature_df[\"Metadata_inducer2\"]).astype(\n",
    "        str\n",
    "    ),\n",
    "]\n",
    "feature_df[\"Metadata_Treatment\"] = np.select(condlist=conditions, choicelist=results)\n",
    "\n",
    "# dose column merge\n",
    "conditions = [\n",
    "    (feature_df[\"Metadata_inducer2\"].isnull()),\n",
    "    feature_df[\"Metadata_inducer2\"].notnull(),\n",
    "]\n",
    "\n",
    "results = [\n",
    "    (feature_df[\"Metadata_inducer1_concentration\"].astype(str)).astype(str),\n",
    "    (\n",
    "        feature_df[\"Metadata_inducer1_concentration\"].astype(str)\n",
    "        + \"_\"\n",
    "        + feature_df[\"Metadata_inducer2_concentration\"].astype(str)\n",
    "    ).astype(str),\n",
    "]\n",
    "feature_df[\"Metadata_Dose\"] = np.select(condlist=conditions, choicelist=results)\n",
    "feature_df[\"Metadata_inducer1_concentration\"] = pd.to_numeric(\n",
    "    feature_df[\"Metadata_inducer1_concentration\"]\n",
    ")\n",
    "# one beta of inudcer1, inducer1 concentration, inhibitor, and inhibitor concentration all as 1 beta term\n",
    "feature_df[\"oneb_Metadata_Treatment_Dose_Inhibitor_Dose\"] = (\n",
    "    feature_df[\"Metadata_Treatment\"]\n",
    "    + \"_\"\n",
    "    + feature_df[\"Metadata_Dose\"].astype(str)\n",
    "    + \"_\"\n",
    "    + feature_df[\"Metadata_inhibitor\"].astype(str)\n",
    "    + \"_\"\n",
    "    + feature_df[\"Metadata_inhibitor_concentration\"].astype(str)\n",
    ").astype(str)"
   ]
  },
  {
   "cell_type": "markdown",
   "id": "70bfbcb3",
   "metadata": {
    "papermill": {
     "duration": 0.002562,
     "end_time": "2023-08-01T02:01:00.037801",
     "exception": false,
     "start_time": "2023-08-01T02:01:00.035239",
     "status": "completed"
    },
    "tags": []
   },
   "source": [
    "### Merge Nomic and Aggregated Morphology dfs"
   ]
  },
  {
   "cell_type": "code",
   "execution_count": 5,
   "id": "7f315012",
   "metadata": {
    "execution": {
     "iopub.execute_input": "2023-08-01T02:01:00.043733Z",
     "iopub.status.busy": "2023-08-01T02:01:00.043422Z",
     "iopub.status.idle": "2023-08-01T02:01:00.051887Z",
     "shell.execute_reply": "2023-08-01T02:01:00.051605Z"
    },
    "papermill": {
     "duration": 0.01239,
     "end_time": "2023-08-01T02:01:00.052785",
     "exception": false,
     "start_time": "2023-08-01T02:01:00.040395",
     "status": "completed"
    },
    "tags": []
   },
   "outputs": [
    {
     "name": "stdout",
     "output_type": "stream",
     "text": [
      "(154, 2922)\n",
      "(154, 189)\n",
      "(154, 3110)\n"
     ]
    }
   ],
   "source": [
    "# merge nomic and morphology data by metadata_well and position_x\n",
    "merged_df = pd.merge(\n",
    "    feature_df,\n",
    "    nomic_df,\n",
    "    left_on=[\"Metadata_Well\"],\n",
    "    right_on=[\"Metadata_position_x\"],\n",
    ").drop([\"Metadata_position_x\"], axis=1)\n",
    "print(feature_df.shape)\n",
    "print(nomic_df.shape)\n",
    "print(merged_df.shape)"
   ]
  },
  {
   "attachments": {},
   "cell_type": "markdown",
   "id": "2fa2d9af",
   "metadata": {
    "papermill": {
     "duration": 0.002609,
     "end_time": "2023-08-01T02:01:00.058111",
     "exception": false,
     "start_time": "2023-08-01T02:01:00.055502",
     "status": "completed"
    },
    "tags": []
   },
   "source": [
    "## Correlation of Aggregated Features per Well + Nomic Data"
   ]
  },
  {
   "cell_type": "code",
   "execution_count": 6,
   "id": "8f27cea9",
   "metadata": {
    "execution": {
     "iopub.execute_input": "2023-08-01T02:01:00.064101Z",
     "iopub.status.busy": "2023-08-01T02:01:00.063795Z",
     "iopub.status.idle": "2023-08-01T02:01:00.067744Z",
     "shell.execute_reply": "2023-08-01T02:01:00.067471Z"
    },
    "papermill": {
     "duration": 0.007896,
     "end_time": "2023-08-01T02:01:00.068642",
     "exception": false,
     "start_time": "2023-08-01T02:01:00.060746",
     "status": "completed"
    },
    "tags": []
   },
   "outputs": [],
   "source": [
    "# drop metadata columns if the column contains 'Metadata'\n",
    "feature_df = merged_df.loc[:, ~merged_df.columns.str.contains(\"Metadata\")]\n",
    "metadata_df = merged_df.loc[:, merged_df.columns.str.contains(\"Metadata\")]"
   ]
  },
  {
   "cell_type": "code",
   "execution_count": 7,
   "id": "e46dd556",
   "metadata": {
    "execution": {
     "iopub.execute_input": "2023-08-01T02:01:00.074591Z",
     "iopub.status.busy": "2023-08-01T02:01:00.074437Z",
     "iopub.status.idle": "2023-08-01T02:01:00.078532Z",
     "shell.execute_reply": "2023-08-01T02:01:00.078268Z"
    },
    "papermill": {
     "duration": 0.008555,
     "end_time": "2023-08-01T02:01:00.079945",
     "exception": false,
     "start_time": "2023-08-01T02:01:00.071390",
     "status": "completed"
    },
    "tags": []
   },
   "outputs": [
    {
     "name": "stdout",
     "output_type": "stream",
     "text": [
      "(154, 3094)\n"
     ]
    },
    {
     "name": "stderr",
     "output_type": "stream",
     "text": [
      "/tmp/ipykernel_230870/1712761334.py:1: SettingWithCopyWarning: \n",
      "A value is trying to be set on a copy of a slice from a DataFrame.\n",
      "Try using .loc[row_indexer,col_indexer] = value instead\n",
      "\n",
      "See the caveats in the documentation: https://pandas.pydata.org/pandas-docs/stable/user_guide/indexing.html#returning-a-view-versus-a-copy\n",
      "  feature_df.loc[:, \"Metadata_Well\"] = metadata_df[\"Metadata_Well\"]\n"
     ]
    }
   ],
   "source": [
    "feature_df.loc[:, \"Metadata_Well\"] = metadata_df[\"Metadata_Well\"]\n",
    "feature_df.index = feature_df[\"Metadata_Well\"]\n",
    "feature_df = feature_df.drop(columns=[\"Metadata_Well\"])\n",
    "print(feature_df.shape)"
   ]
  },
  {
   "cell_type": "code",
   "execution_count": 8,
   "id": "31f087d6",
   "metadata": {
    "execution": {
     "iopub.execute_input": "2023-08-01T02:01:00.085845Z",
     "iopub.status.busy": "2023-08-01T02:01:00.085690Z",
     "iopub.status.idle": "2023-08-01T02:01:00.177624Z",
     "shell.execute_reply": "2023-08-01T02:01:00.177258Z"
    },
    "papermill": {
     "duration": 0.096272,
     "end_time": "2023-08-01T02:01:00.178685",
     "exception": false,
     "start_time": "2023-08-01T02:01:00.082413",
     "status": "completed"
    },
    "tags": []
   },
   "outputs": [],
   "source": [
    "feature_df = (\n",
    "    feature_df.T.corr()\n",
    "    .reset_index()\n",
    "    .rename(columns={\"Metadata_Well\": \"Wells\"})\n",
    "    .melt(\n",
    "        id_vars=\"Wells\",\n",
    "        var_name=\"Metadata_Well\",\n",
    "        value_name=\"correlation\",\n",
    "    )\n",
    ")"
   ]
  },
  {
   "cell_type": "code",
   "execution_count": 9,
   "id": "f1208ea6",
   "metadata": {
    "execution": {
     "iopub.execute_input": "2023-08-01T02:01:00.185245Z",
     "iopub.status.busy": "2023-08-01T02:01:00.185059Z",
     "iopub.status.idle": "2023-08-01T02:01:00.215626Z",
     "shell.execute_reply": "2023-08-01T02:01:00.215299Z"
    },
    "papermill": {
     "duration": 0.034449,
     "end_time": "2023-08-01T02:01:00.216583",
     "exception": false,
     "start_time": "2023-08-01T02:01:00.182134",
     "status": "completed"
    },
    "tags": []
   },
   "outputs": [],
   "source": [
    "save_path = pathlib.Path(\n",
    "    f\"./results/correlation/{cell_type}/aggregated_morphology_and_nomic\"\n",
    ")\n",
    "save_path.mkdir(parents=True, exist_ok=True)\n",
    "feature_df.to_csv(f\"{save_path}/wells.csv\")"
   ]
  },
  {
   "cell_type": "markdown",
   "id": "cf5f5b9c",
   "metadata": {
    "papermill": {
     "duration": 0.002697,
     "end_time": "2023-08-01T02:01:00.222031",
     "exception": false,
     "start_time": "2023-08-01T02:01:00.219334",
     "status": "completed"
    },
    "tags": []
   },
   "source": [
    "# All Treatment Correlation"
   ]
  },
  {
   "cell_type": "code",
   "execution_count": 10,
   "id": "8c8b087b",
   "metadata": {
    "execution": {
     "iopub.execute_input": "2023-08-01T02:01:00.228254Z",
     "iopub.status.busy": "2023-08-01T02:01:00.227932Z",
     "iopub.status.idle": "2023-08-01T02:01:00.232045Z",
     "shell.execute_reply": "2023-08-01T02:01:00.231754Z"
    },
    "papermill": {
     "duration": 0.008175,
     "end_time": "2023-08-01T02:01:00.232955",
     "exception": false,
     "start_time": "2023-08-01T02:01:00.224780",
     "status": "completed"
    },
    "tags": []
   },
   "outputs": [],
   "source": [
    "# drop metadata columns if the column contains 'Metadata'\n",
    "feature_df = merged_df.loc[:, ~merged_df.columns.str.contains(\"Metadata\")]\n",
    "metadata_df = merged_df.loc[:, merged_df.columns.str.contains(\"Metadata\")]"
   ]
  },
  {
   "cell_type": "code",
   "execution_count": 11,
   "id": "b82d5500",
   "metadata": {
    "execution": {
     "iopub.execute_input": "2023-08-01T02:01:00.239161Z",
     "iopub.status.busy": "2023-08-01T02:01:00.238982Z",
     "iopub.status.idle": "2023-08-01T02:01:00.241563Z",
     "shell.execute_reply": "2023-08-01T02:01:00.241287Z"
    },
    "papermill": {
     "duration": 0.00666,
     "end_time": "2023-08-01T02:01:00.242425",
     "exception": false,
     "start_time": "2023-08-01T02:01:00.235765",
     "status": "completed"
    },
    "tags": []
   },
   "outputs": [
    {
     "name": "stderr",
     "output_type": "stream",
     "text": [
      "/tmp/ipykernel_230870/3454682614.py:1: SettingWithCopyWarning: \n",
      "A value is trying to be set on a copy of a slice from a DataFrame.\n",
      "Try using .loc[row_indexer,col_indexer] = value instead\n",
      "\n",
      "See the caveats in the documentation: https://pandas.pydata.org/pandas-docs/stable/user_guide/indexing.html#returning-a-view-versus-a-copy\n",
      "  feature_df.loc[:, \"oneb_Metadata_Treatment_Dose_Inhibitor_Dose\"] = metadata_df[\n"
     ]
    }
   ],
   "source": [
    "feature_df.loc[:, \"oneb_Metadata_Treatment_Dose_Inhibitor_Dose\"] = metadata_df[\n",
    "    \"oneb_Metadata_Treatment_Dose_Inhibitor_Dose_x\"\n",
    "]"
   ]
  },
  {
   "cell_type": "code",
   "execution_count": 12,
   "id": "8ffdc7a3",
   "metadata": {
    "execution": {
     "iopub.execute_input": "2023-08-01T02:01:00.248319Z",
     "iopub.status.busy": "2023-08-01T02:01:00.248131Z",
     "iopub.status.idle": "2023-08-01T02:01:00.252732Z",
     "shell.execute_reply": "2023-08-01T02:01:00.252440Z"
    },
    "papermill": {
     "duration": 0.008404,
     "end_time": "2023-08-01T02:01:00.253613",
     "exception": false,
     "start_time": "2023-08-01T02:01:00.245209",
     "status": "completed"
    },
    "tags": []
   },
   "outputs": [],
   "source": [
    "# group by oneb_Metadata_Treatment_Dose_Inhibitor_Dose\n",
    "feature_df = feature_df.groupby(\"oneb_Metadata_Treatment_Dose_Inhibitor_Dose\").mean()"
   ]
  },
  {
   "cell_type": "code",
   "execution_count": 13,
   "id": "bb930c7a",
   "metadata": {
    "execution": {
     "iopub.execute_input": "2023-08-01T02:01:00.259703Z",
     "iopub.status.busy": "2023-08-01T02:01:00.259555Z",
     "iopub.status.idle": "2023-08-01T02:01:00.270566Z",
     "shell.execute_reply": "2023-08-01T02:01:00.270252Z"
    },
    "papermill": {
     "duration": 0.015187,
     "end_time": "2023-08-01T02:01:00.271572",
     "exception": false,
     "start_time": "2023-08-01T02:01:00.256385",
     "status": "completed"
    },
    "tags": []
   },
   "outputs": [],
   "source": [
    "feature_df = (\n",
    "    feature_df.T.corr()\n",
    "    .reset_index()\n",
    "    .rename(columns={\"oneb_Metadata_Treatment_Dose_Inhibitor_Dose\": \"Treatments\"})\n",
    "    .melt(\n",
    "        id_vars=\"Treatments\",\n",
    "        var_name=\"oneb_Metadata_Treatment_Dose_Inhibitor_Dose\",\n",
    "        value_name=\"correlation\",\n",
    "    )\n",
    ")"
   ]
  },
  {
   "cell_type": "code",
   "execution_count": 14,
   "id": "68efa06f",
   "metadata": {
    "execution": {
     "iopub.execute_input": "2023-08-01T02:01:00.277971Z",
     "iopub.status.busy": "2023-08-01T02:01:00.277800Z",
     "iopub.status.idle": "2023-08-01T02:01:00.283117Z",
     "shell.execute_reply": "2023-08-01T02:01:00.282825Z"
    },
    "papermill": {
     "duration": 0.009495,
     "end_time": "2023-08-01T02:01:00.284052",
     "exception": false,
     "start_time": "2023-08-01T02:01:00.274557",
     "status": "completed"
    },
    "tags": []
   },
   "outputs": [],
   "source": [
    "save_path = pathlib.Path(\n",
    "    f\"./results/correlation/{cell_type}/aggregated_morphology_and_nomic\"\n",
    ")\n",
    "save_path.mkdir(parents=True, exist_ok=True)\n",
    "feature_df.to_csv(f\"{save_path}/treatments.csv\")"
   ]
  }
 ],
 "metadata": {
  "kernelspec": {
   "display_name": "Interstellar",
   "language": "python",
   "name": "python3"
  },
  "language_info": {
   "codemirror_mode": {
    "name": "ipython",
    "version": 3
   },
   "file_extension": ".py",
   "mimetype": "text/x-python",
   "name": "python",
   "nbconvert_exporter": "python",
   "pygments_lexer": "ipython3",
   "version": "3.10.12"
  },
  "papermill": {
   "default_parameters": {},
   "duration": 1.533782,
   "end_time": "2023-08-01T02:01:00.502429",
   "environment_variables": {},
   "exception": null,
   "input_path": "2c.correlation_nomic_and_agg_morphology.ipynb",
   "output_path": "2c.correlation_nomic_and_agg_morphology.ipynb",
   "parameters": {
    "cell_type": "PBMC"
   },
   "start_time": "2023-08-01T02:00:58.968647",
   "version": "2.4.0"
  },
  "vscode": {
   "interpreter": {
    "hash": "72ae02083a9ca7d143c492d1aec380c7bf553ec51bd66e90e72bba65228121b6"
   }
  }
 },
 "nbformat": 4,
 "nbformat_minor": 5
}