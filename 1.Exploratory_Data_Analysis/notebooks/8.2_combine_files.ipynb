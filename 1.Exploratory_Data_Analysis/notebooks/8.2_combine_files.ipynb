{
    "cells": [
        {
            "cell_type": "code",
            "execution_count": 1,
            "metadata": {},
            "outputs": [],
            "source": [
                "import gc\n",
                "import pathlib\n",
                "\n",
                "import numpy as np\n",
                "import pandas as pd"
            ]
        },
        {
            "cell_type": "code",
            "execution_count": 2,
            "metadata": {},
            "outputs": [],
            "source": [
                "cell_type = \"PBMC\""
            ]
        },
        {
            "cell_type": "code",
            "execution_count": 3,
            "metadata": {},
            "outputs": [],
            "source": [
                "final_df = pd.DataFrame(\n",
                "    columns=[\n",
                "        \"group1\",\n",
                "        \"group2\",\n",
                "        \"meandiff\",\n",
                "        \"lower\",\n",
                "        \"upper\",\n",
                "        \"p-adj\",\n",
                "        \"reject\",\n",
                "        \"features\",\n",
                "    ]\n",
                ")"
            ]
        },
        {
            "cell_type": "code",
            "execution_count": 4,
            "metadata": {},
            "outputs": [
                {
                    "data": {
                        "text/plain": [
                            "(7224, 11)"
                        ]
                    },
                    "execution_count": 4,
                    "metadata": {},
                    "output_type": "execute_result"
                }
            ],
            "source": [
                "# directory to get files from\n",
                "data_dir = pathlib.Path(f\"../results/{cell_type}/\").resolve(strict=True)\n",
                "\n",
                "# save directory\n",
                "output_file_path = pathlib.Path(f\"../results/{cell_type}_combined.parquet\")\n",
                "\n",
                "# get list of files in directory\n",
                "file_list = [x for x in data_dir.iterdir() if x.is_file()]\n",
                "\n",
                "list_of_dfs = []\n",
                "# loop through files\n",
                "for file in file_list:\n",
                "    tmp_df = pd.read_parquet(file)\n",
                "    list_of_dfs.append(tmp_df)\n",
                "final_df = pd.concat(list_of_dfs, ignore_index=True)\n",
                "\n",
                "final_df.shape"
            ]
        },
        {
            "cell_type": "code",
            "execution_count": 5,
            "metadata": {},
            "outputs": [],
            "source": [
                "# save the final_df\n",
                "final_df.to_parquet(output_file_path)"
            ]
        }
    ],
    "metadata": {
        "kernelspec": {
            "display_name": "Interstellar_python",
            "language": "python",
            "name": "python3"
        },
        "language_info": {
            "codemirror_mode": {
                "name": "ipython",
                "version": 3
            },
            "file_extension": ".py",
            "mimetype": "text/x-python",
            "name": "python",
            "nbconvert_exporter": "python",
            "pygments_lexer": "ipython3",
            "version": "3.10.15"
        }
    },
    "nbformat": 4,
    "nbformat_minor": 2
}
