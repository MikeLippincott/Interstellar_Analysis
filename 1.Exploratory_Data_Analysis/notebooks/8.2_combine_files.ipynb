{
    "cells": [
        {
            "cell_type": "code",
            "execution_count": 1,
            "metadata": {},
            "outputs": [],
            "source": [
                "import gc\n",
                "import pathlib\n",
                "\n",
                "import numpy as np\n",
                "import pandas as pd\n",
                "from statsmodels.stats.multitest import multipletests"
            ]
        },
        {
            "cell_type": "code",
            "execution_count": 2,
            "metadata": {},
            "outputs": [],
            "source": [
                "cell_type = \"PBMC\""
            ]
        },
        {
            "cell_type": "code",
            "execution_count": 3,
            "metadata": {},
            "outputs": [],
            "source": [
                "final_df = pd.DataFrame(\n",
                "    columns=[\n",
                "        \"group1\",\n",
                "        \"group2\",\n",
                "        \"meandiff\",\n",
                "        \"lower\",\n",
                "        \"upper\",\n",
                "        \"p-adj\",\n",
                "        \"reject\",\n",
                "        \"features\",\n",
                "    ]\n",
                ")"
            ]
        },
        {
            "cell_type": "code",
            "execution_count": 4,
            "metadata": {},
            "outputs": [
                {
                    "data": {
                        "text/plain": [
                            "(7224, 11)"
                        ]
                    },
                    "execution_count": 4,
                    "metadata": {},
                    "output_type": "execute_result"
                }
            ],
            "source": [
                "# directory to get files from\n",
                "data_dir = pathlib.Path(f\"../results/{cell_type}/\").resolve(strict=True)\n",
                "\n",
                "# save directory\n",
                "output_file_path = pathlib.Path(f\"../results/{cell_type}_combined.parquet\")\n",
                "\n",
                "# get list of files in directory\n",
                "file_list = [x for x in data_dir.iterdir() if x.is_file()]\n",
                "\n",
                "list_of_dfs = []\n",
                "# loop through files\n",
                "for file in file_list:\n",
                "    tmp_df = pd.read_parquet(file)\n",
                "    list_of_dfs.append(tmp_df)\n",
                "final_df = pd.concat(list_of_dfs, ignore_index=True)\n",
                "\n",
                "final_df.shape"
            ]
        },
        {
            "cell_type": "code",
            "execution_count": 5,
            "metadata": {},
            "outputs": [
                {
                    "data": {
                        "text/html": [
                            "<div>\n",
                            "<style scoped>\n",
                            "    .dataframe tbody tr th:only-of-type {\n",
                            "        vertical-align: middle;\n",
                            "    }\n",
                            "\n",
                            "    .dataframe tbody tr th {\n",
                            "        vertical-align: top;\n",
                            "    }\n",
                            "\n",
                            "    .dataframe thead th {\n",
                            "        text-align: right;\n",
                            "    }\n",
                            "</style>\n",
                            "<table border=\"1\" class=\"dataframe\">\n",
                            "  <thead>\n",
                            "    <tr style=\"text-align: right;\">\n",
                            "      <th></th>\n",
                            "      <th>group1</th>\n",
                            "      <th>group2</th>\n",
                            "      <th>meandiff</th>\n",
                            "      <th>lower</th>\n",
                            "      <th>upper</th>\n",
                            "      <th>p-adj</th>\n",
                            "      <th>reject</th>\n",
                            "      <th>features</th>\n",
                            "      <th>p-adj_abs</th>\n",
                            "      <th>pos_neg</th>\n",
                            "      <th>shuffled</th>\n",
                            "      <th>p-adj_fdr_bh</th>\n",
                            "    </tr>\n",
                            "  </thead>\n",
                            "  <tbody>\n",
                            "    <tr>\n",
                            "      <th>0</th>\n",
                            "      <td>apoptosis</td>\n",
                            "      <td>healthy</td>\n",
                            "      <td>0.0114</td>\n",
                            "      <td>0.0997</td>\n",
                            "      <td>-0.0016</td>\n",
                            "      <td>0.0245</td>\n",
                            "      <td>False</td>\n",
                            "      <td>Cytoplasm_RadialDistribution_ZernikeMagnitude_...</td>\n",
                            "      <td>0.0245</td>\n",
                            "      <td>positive</td>\n",
                            "      <td>True</td>\n",
                            "      <td>0.031116</td>\n",
                            "    </tr>\n",
                            "    <tr>\n",
                            "      <th>1</th>\n",
                            "      <td>apoptosis</td>\n",
                            "      <td>pyroptosis</td>\n",
                            "      <td>0.0098</td>\n",
                            "      <td>0.1871</td>\n",
                            "      <td>-0.0033</td>\n",
                            "      <td>0.0230</td>\n",
                            "      <td>False</td>\n",
                            "      <td>Cytoplasm_RadialDistribution_ZernikeMagnitude_...</td>\n",
                            "      <td>0.0230</td>\n",
                            "      <td>positive</td>\n",
                            "      <td>True</td>\n",
                            "      <td>0.029533</td>\n",
                            "    </tr>\n",
                            "    <tr>\n",
                            "      <th>2</th>\n",
                            "      <td>healthy</td>\n",
                            "      <td>pyroptosis</td>\n",
                            "      <td>-0.0016</td>\n",
                            "      <td>0.7992</td>\n",
                            "      <td>-0.0075</td>\n",
                            "      <td>0.0043</td>\n",
                            "      <td>False</td>\n",
                            "      <td>Cytoplasm_RadialDistribution_ZernikeMagnitude_...</td>\n",
                            "      <td>0.0043</td>\n",
                            "      <td>positive</td>\n",
                            "      <td>True</td>\n",
                            "      <td>0.019270</td>\n",
                            "    </tr>\n",
                            "    <tr>\n",
                            "      <th>3</th>\n",
                            "      <td>apoptosis</td>\n",
                            "      <td>healthy</td>\n",
                            "      <td>0.0131</td>\n",
                            "      <td>0.0238</td>\n",
                            "      <td>0.0014</td>\n",
                            "      <td>0.0248</td>\n",
                            "      <td>False</td>\n",
                            "      <td>Cytoplasm_AreaShape_Zernike_5_3</td>\n",
                            "      <td>0.0248</td>\n",
                            "      <td>positive</td>\n",
                            "      <td>False</td>\n",
                            "      <td>0.031414</td>\n",
                            "    </tr>\n",
                            "    <tr>\n",
                            "      <th>4</th>\n",
                            "      <td>apoptosis</td>\n",
                            "      <td>pyroptosis</td>\n",
                            "      <td>0.0009</td>\n",
                            "      <td>0.9838</td>\n",
                            "      <td>-0.0109</td>\n",
                            "      <td>0.0127</td>\n",
                            "      <td>False</td>\n",
                            "      <td>Cytoplasm_AreaShape_Zernike_5_3</td>\n",
                            "      <td>0.0127</td>\n",
                            "      <td>positive</td>\n",
                            "      <td>False</td>\n",
                            "      <td>0.021959</td>\n",
                            "    </tr>\n",
                            "  </tbody>\n",
                            "</table>\n",
                            "</div>"
                        ],
                        "text/plain": [
                            "      group1      group2  meandiff   lower   upper   p-adj  reject  \\\n",
                            "0  apoptosis     healthy    0.0114  0.0997 -0.0016  0.0245   False   \n",
                            "1  apoptosis  pyroptosis    0.0098  0.1871 -0.0033  0.0230   False   \n",
                            "2    healthy  pyroptosis   -0.0016  0.7992 -0.0075  0.0043   False   \n",
                            "3  apoptosis     healthy    0.0131  0.0238  0.0014  0.0248   False   \n",
                            "4  apoptosis  pyroptosis    0.0009  0.9838 -0.0109  0.0127   False   \n",
                            "\n",
                            "                                            features  p-adj_abs   pos_neg  \\\n",
                            "0  Cytoplasm_RadialDistribution_ZernikeMagnitude_...     0.0245  positive   \n",
                            "1  Cytoplasm_RadialDistribution_ZernikeMagnitude_...     0.0230  positive   \n",
                            "2  Cytoplasm_RadialDistribution_ZernikeMagnitude_...     0.0043  positive   \n",
                            "3                    Cytoplasm_AreaShape_Zernike_5_3     0.0248  positive   \n",
                            "4                    Cytoplasm_AreaShape_Zernike_5_3     0.0127  positive   \n",
                            "\n",
                            "   shuffled  p-adj_fdr_bh  \n",
                            "0      True      0.031116  \n",
                            "1      True      0.029533  \n",
                            "2      True      0.019270  \n",
                            "3     False      0.031414  \n",
                            "4     False      0.021959  "
                        ]
                    },
                    "execution_count": 5,
                    "metadata": {},
                    "output_type": "execute_result"
                }
            ],
            "source": [
                "# correct for multiple testing\n",
                "final_df[\"reject\"], final_df[\"p-adj_fdr_bh\"], _, _ = multipletests(\n",
                "    final_df[\"p-adj\"], alpha=0.001, method=\"fdr_bh\"\n",
                ")\n",
                "final_df.head()"
            ]
        },
        {
            "cell_type": "code",
            "execution_count": 6,
            "metadata": {},
            "outputs": [],
            "source": [
                "# save the final_df\n",
                "final_df.to_parquet(output_file_path)"
            ]
        }
    ],
    "metadata": {
        "kernelspec": {
            "display_name": "Interstellar_python",
            "language": "python",
            "name": "python3"
        },
        "language_info": {
            "codemirror_mode": {
                "name": "ipython",
                "version": 3
            },
            "file_extension": ".py",
            "mimetype": "text/x-python",
            "name": "python",
            "nbconvert_exporter": "python",
            "pygments_lexer": "ipython3",
            "version": "3.10.15"
        }
    },
    "nbformat": 4,
    "nbformat_minor": 2
}
