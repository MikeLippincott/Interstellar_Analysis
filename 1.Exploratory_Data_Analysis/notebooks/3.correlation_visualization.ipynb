{
 "cells": [
  {
   "attachments": {},
   "cell_type": "markdown",
   "metadata": {},
   "source": [
    "# This notebook plots the correlation matrix of the features in the dataset.\n",
    "The notebook number will correlate with the correlation matrix notebook number. e.g. This is Notbook 3a. correlating with notebook 2a."
   ]
  },
  {
   "cell_type": "code",
   "execution_count": 1,
   "metadata": {
    "vscode": {
     "languageId": "r"
    }
   },
   "outputs": [],
   "source": [
    "suppressWarnings(suppressMessages(library(ggplot2)))\n",
    "suppressWarnings(suppressMessages(library(corrplot)))\n",
    "suppressWarnings(suppressMessages(library(dplyr)))\n",
    "suppressWarnings(suppressMessages(library(argparse)))\n",
    "suppressWarnings(suppressMessages(library(RcppTOML)))"
   ]
  },
  {
   "cell_type": "code",
   "execution_count": 2,
   "metadata": {
    "vscode": {
     "languageId": "r"
    }
   },
   "outputs": [],
   "source": [
    "filepath <- file.path(getwd(), \"utils\" )\n",
    "filename <- file.path(filepath, \"params.toml\")\n",
    "p <- parseTOML(filename)\n",
    "list_of_treatments <- c(p$list_of_treatments$treatments)\n"
   ]
  },
  {
   "cell_type": "code",
   "execution_count": 3,
   "metadata": {
    "vscode": {
     "languageId": "r"
    }
   },
   "outputs": [
    {
     "ename": "ERROR",
     "evalue": "Error in \"argparse::parse_args_output(output)\": parse error:\nusage: PROGRAM [-h] [--cell_type CELL_TYPE] [--level LEVEL] [--group GROUP]\nPROGRAM: error: unrecognized arguments: /home/lippincm/.local/share/jupyter/runtime/kernel-v2-140118s9vYdUKMIPfZ.json\n",
     "output_type": "error",
     "traceback": [
      "Error in \"argparse::parse_args_output(output)\": parse error:\nusage: PROGRAM [-h] [--cell_type CELL_TYPE] [--level LEVEL] [--group GROUP]\nPROGRAM: error: unrecognized arguments: /home/lippincm/.local/share/jupyter/runtime/kernel-v2-140118s9vYdUKMIPfZ.json\nTraceback:\n",
      "1. parser$parse_args()",
      "2. parse_args_output(output)",
      "3. pa_stop(output, \"parse error:\")"
     ]
    }
   ],
   "source": [
    "# set up parser\n",
    "parser <- ArgumentParser()\n",
    "\n",
    "# set up arguments\n",
    "parser$add_argument(\"--cell_type\", default=\"none\",\n",
    "    help=\"define the cell type\"\n",
    "    )\n",
    "    \n",
    "parser$add_argument(\"--level\", default=\"none\",\n",
    "    help=\"defines the data level of aggregation\"\n",
    "    )\n",
    "\n",
    "parser$add_argument(\"--group\", default=\"none\",\n",
    "    help=\"defines the group to be used for correlation analysis\"\n",
    "    )\n",
    "\n",
    "# parse arguments\n",
    "args <- parser$parse_args()\n",
    "\n",
    "# define vars from parsed args\n",
    "cell_type = args$cell_type\n",
    "level = args$level\n",
    "group = args$group"
   ]
  },
  {
   "cell_type": "code",
   "execution_count": 6,
   "metadata": {
    "vscode": {
     "languageId": "r"
    }
   },
   "outputs": [],
   "source": [
    "# temp code\n",
    "cell_type = \"SHSY5Y\"\n",
    "level = \"nomic\"\n",
    "group = \"wells\"\n",
    "\n",
    "\n",
    "if (group == \"selected_treatments\"){\n",
    "    group = \"treatments\"\n",
    "    filtered_option = TRUE\n",
    "} else {\n",
    "    filtered_option = FALSE\n",
    "}\n"
   ]
  },
  {
   "cell_type": "code",
   "execution_count": 7,
   "metadata": {
    "vscode": {
     "languageId": "r"
    }
   },
   "outputs": [],
   "source": [
    "project_path = getwd()\n",
    "filename = paste0(group,\".csv\")\n",
    "corr_file = file.path(project_path, \"results\",\"correlation\",cell_type,level,filename)\n",
    "# read in csv file\n",
    "df <- read.csv(corr_file)\n",
    "# drop the first column\n",
    "df <- df[,-1]"
   ]
  },
  {
   "cell_type": "code",
   "execution_count": 8,
   "metadata": {
    "vscode": {
     "languageId": "r"
    }
   },
   "outputs": [],
   "source": [
    "# set path of the plot\n",
    "mainDir = project_path\n",
    "figure_dir = file.path(mainDir, \"Figures\", \"corrplot\", cell_type, level)\n",
    "# set path of the plot\n",
    "if (file.exists(figure_dir, recursive = TRUE)){\n",
    "    setwd(figure_dir)\n",
    "} else {\n",
    "    dir.create(figure_dir, recursive = TRUE)\n",
    "    setwd(figure_dir)\n",
    "}"
   ]
  },
  {
   "cell_type": "code",
   "execution_count": 9,
   "metadata": {
    "vscode": {
     "languageId": "r"
    }
   },
   "outputs": [],
   "source": [
    "# make list of treatments into a list \n",
    "list_of_treatments <- c(p$list_of_treatments$treatments)"
   ]
  },
  {
   "cell_type": "code",
   "execution_count": 10,
   "metadata": {
    "vscode": {
     "languageId": "r"
    }
   },
   "outputs": [],
   "source": [
    "if (filtered_option == TRUE){\n",
    "    # drop values in first and second column that are not in list of treatments\n",
    "    df <- df %>% rowwise() %>%\n",
    "        filter(Treatments %in% list_of_treatments)\n",
    "    df <- df %>% rowwise() %>%\n",
    "        filter(oneb_Metadata_Treatment_Dose_Inhibitor_Dose %in% list_of_treatments)\n",
    "} else {\n",
    "    df <- df\n",
    "}"
   ]
  },
  {
   "cell_type": "code",
   "execution_count": 11,
   "metadata": {
    "vscode": {
     "languageId": "r"
    }
   },
   "outputs": [],
   "source": [
    "figure_dir <- file.path(mainDir, \"Figures\", \"corrplot\", cell_type, level)\n",
    "file <- paste0(group,\".png\")\n",
    "file_path <- file.path(figure_dir, file)\n",
    "\n",
    "title <- paste0(\"Correlation of \", group, \" for \", cell_type, \"\\n for each \", level)"
   ]
  },
  {
   "cell_type": "code",
   "execution_count": 12,
   "metadata": {
    "vscode": {
     "languageId": "r"
    }
   },
   "outputs": [],
   "source": [
    "if (group == \"wells\"){\n",
    "    X <- sym(\"Metadata_Well\")\n",
    "    Y <- sym(\"Wells\")\n",
    "} else {\n",
    "    X <- sym(\"Treatments\")\n",
    "    Y <- sym(\"oneb_Metadata_Treatment_Dose_Inhibitor_Dose\")\n",
    "}"
   ]
  },
  {
   "cell_type": "code",
   "execution_count": 14,
   "metadata": {
    "vscode": {
     "languageId": "r"
    }
   },
   "outputs": [
    {
     "name": "stderr",
     "output_type": "stream",
     "text": [
      "\u001b[1m\u001b[22mSaving 6.67 x 6.67 in image\n"
     ]
    },
    {
     "data": {
      "image/png": "[encoded data removed]",
      "text/plain": [
       "plot without title"
      ]
     },
     "metadata": {
      "image/png": {
       "height": 420,
       "width": 420
      }
     },
     "output_type": "display_data"
    }
   ],
   "source": [
    "p <- ggplot(df, aes(x = !!X, y = !!Y)) +\n",
    "    geom_tile(aes(fill = correlation)) +\n",
    "    scale_fill_gradient2(low = \"red\", mid = \"white\", high = \"blue\", midpoint = 0, limit = c(-1,1), space = \"Lab\", name=\"Pearson\\nCorrelation\") +\n",
    "    theme_minimal() +\n",
    "    theme(axis.text.x = element_text(angle = 90, vjust = 1, size = 10, hjust = 1)) +\n",
    "    coord_fixed()+\n",
    "    ggtitle(title)\n",
    "\n",
    "ggsave(file_path, p)\n",
    "p"
   ]
  }
 ],
 "metadata": {
  "kernelspec": {
   "display_name": "R",
   "language": "R",
   "name": "ir"
  },
  "language_info": {
   "codemirror_mode": "r",
   "file_extension": ".r",
   "mimetype": "text/x-r-source",
   "name": "R",
   "pygments_lexer": "r",
   "version": "4.2.2"
  },
  "orig_nbformat": 4,
  "vscode": {
   "interpreter": {
    "hash": "72ae02083a9ca7d143c492d1aec380c7bf553ec51bd66e90e72bba65228121b6"
   }
  }
 },
 "nbformat": 4,
 "nbformat_minor": 2
}
