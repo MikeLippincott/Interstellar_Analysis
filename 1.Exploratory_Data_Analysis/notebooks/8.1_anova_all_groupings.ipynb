{
 "cells": [
  {
   "cell_type": "code",
   "execution_count": 1,
   "id": "ebfd6a53",
   "metadata": {
    "execution": {
     "iopub.execute_input": "2023-11-19T22:44:28.158292Z",
     "iopub.status.busy": "2023-11-19T22:44:28.157972Z",
     "iopub.status.idle": "2023-11-19T22:44:31.855825Z",
     "shell.execute_reply": "2023-11-19T22:44:31.855203Z"
    },
    "papermill": {
     "duration": 3.702247,
     "end_time": "2023-11-19T22:44:31.857286",
     "exception": false,
     "start_time": "2023-11-19T22:44:28.155039",
     "status": "completed"
    },
    "tags": []
   },
   "outputs": [],
   "source": [
    "import pathlib\n",
    "import warnings\n",
    "\n",
    "import numpy as np\n",
    "import pandas as pd\n",
    "import statsmodels.api as sm\n",
    "import toml\n",
    "from matplotlib import rcParams\n",
    "from tqdm import tqdm\n",
    "\n",
    "rcParams.update({\"figure.autolayout\": True})\n",
    "\n",
    "# create a venn diagram of the features that are significant in all conditions\n",
    "\n",
    "warnings.filterwarnings(\"ignore\")\n",
    "import argparse\n",
    "\n",
    "from pycytominer.cyto_utils import infer_cp_features\n",
    "from statsmodels.formula.api import ols\n",
    "from statsmodels.stats.multicomp import pairwise_tukeyhsd"
   ]
  },
  {
   "cell_type": "code",
   "execution_count": null,
   "metadata": {},
   "outputs": [],
   "source": [
    "# set up command line argument parser\n",
    "parser = argparse.ArgumentParser(\n",
    "    description=\"Run ANOVA and Tukey's HSD on all groupings\"\n",
    ")\n",
    "parser.add_argument(\n",
    "    \"-c\",\n",
    "    \"--cell_type\",\n",
    "    type=str,\n",
    "    help=\"Path to the config.toml file with analysis parameters\",\n",
    ")\n",
    "\n",
    "parser.add_argument(\n",
    "    \"-f\",\n",
    "    \"--feature\",\n",
    "    type=str,\n",
    "    help=\"Path to the output directory for the results\",\n",
    ")\n",
    "\n",
    "# parse arguments from command line\n",
    "args = parser.parse_args()\n",
    "cell_type = args.cell_type\n",
    "feature = args.feature"
   ]
  },
  {
   "cell_type": "code",
   "execution_count": 2,
   "id": "561bb36b",
   "metadata": {
    "execution": {
     "iopub.execute_input": "2023-11-19T22:44:31.861895Z",
     "iopub.status.busy": "2023-11-19T22:44:31.861564Z",
     "iopub.status.idle": "2023-11-19T22:44:31.864282Z",
     "shell.execute_reply": "2023-11-19T22:44:31.863782Z"
    },
    "papermill": {
     "duration": 0.006001,
     "end_time": "2023-11-19T22:44:31.865248",
     "exception": false,
     "start_time": "2023-11-19T22:44:31.859247",
     "status": "completed"
    },
    "tags": []
   },
   "outputs": [],
   "source": [
    "# cell_type = \"SHSY5Y\"\n",
    "# feature = \"Nuclei_Texture_SumVariance_CorrMito_3_03_256\""
   ]
  },
  {
   "cell_type": "code",
   "execution_count": 3,
   "id": "7ce7e298",
   "metadata": {
    "execution": {
     "iopub.execute_input": "2023-11-19T22:44:31.868927Z",
     "iopub.status.busy": "2023-11-19T22:44:31.868684Z",
     "iopub.status.idle": "2023-11-19T22:45:11.529377Z",
     "shell.execute_reply": "2023-11-19T22:45:11.528779Z"
    },
    "papermill": {
     "duration": 39.664527,
     "end_time": "2023-11-19T22:45:11.531178",
     "exception": false,
     "start_time": "2023-11-19T22:44:31.866651",
     "status": "completed"
    },
    "tags": []
   },
   "outputs": [],
   "source": [
    "# Import Data\n",
    "# set data file path under pathlib path for multi-system use\n",
    "file_path = pathlib.Path(f\"../../data/{cell_type}_preprocessed_sc_norm.parquet\")\n",
    "df = pd.read_parquet(file_path)"
   ]
  },
  {
   "cell_type": "code",
   "execution_count": 4,
   "id": "30652dab",
   "metadata": {
    "execution": {
     "iopub.execute_input": "2023-11-19T22:45:11.540266Z",
     "iopub.status.busy": "2023-11-19T22:45:11.539859Z",
     "iopub.status.idle": "2023-11-19T23:00:13.485502Z",
     "shell.execute_reply": "2023-11-19T23:00:13.484860Z"
    },
    "papermill": {
     "duration": 901.949575,
     "end_time": "2023-11-19T23:00:13.486923",
     "exception": false,
     "start_time": "2023-11-19T22:45:11.537348",
     "status": "completed"
    },
    "tags": []
   },
   "outputs": [],
   "source": [
    "# toml file path\n",
    "ground_truth_file = pathlib.Path(\n",
    "    \"../../4.sc_Morphology_Neural_Network_MLP_Model/MLP_utils/ground_truth.toml\"\n",
    ").resolve(strict=True)\n",
    "# read toml file\n",
    "ground_truth = toml.load(ground_truth_file)\n",
    "apopotosis_trts = ground_truth[\"Apoptosis\"][\"apoptosis_groups_list\"]\n",
    "pyroptosis_trts = ground_truth[\"Pyroptosis\"][\"pyroptosis_groups_list\"]\n",
    "healthy_trts = ground_truth[\"Healthy\"][\"healthy_groups_list\"]\n",
    "\n",
    "# make a column that has the class of each treatment\n",
    "\n",
    "\n",
    "df[\"apoptosis\"] = df.apply(\n",
    "    lambda row: row[\"oneb_Metadata_Treatment_Dose_Inhibitor_Dose\"] in apopotosis_trts,\n",
    "    axis=1,\n",
    ")\n",
    "df[\"pyroptosis\"] = df.apply(\n",
    "    lambda row: row[\"oneb_Metadata_Treatment_Dose_Inhibitor_Dose\"] in pyroptosis_trts,\n",
    "    axis=1,\n",
    ")\n",
    "df[\"healthy\"] = df.apply(\n",
    "    lambda row: row[\"oneb_Metadata_Treatment_Dose_Inhibitor_Dose\"] in healthy_trts,\n",
    "    axis=1,\n",
    ")\n",
    "\n",
    "# merge apoptosis, pyroptosis, and healthy columns into one column\n",
    "\n",
    "df[\"labels\"] = df.apply(\n",
    "    lambda row: \"apoptosis\"\n",
    "    if row[\"apoptosis\"]\n",
    "    else \"pyroptosis\"\n",
    "    if row[\"pyroptosis\"]\n",
    "    else \"healthy\",\n",
    "    axis=1,\n",
    ")\n",
    "# drop apoptosis, pyroptosis, and healthy columns\n",
    "df.drop(columns=[\"apoptosis\", \"pyroptosis\", \"healthy\"], inplace=True)"
   ]
  },
  {
   "cell_type": "code",
   "execution_count": 5,
   "id": "e30fc7a3",
   "metadata": {
    "execution": {
     "iopub.execute_input": "2023-11-19T23:00:13.495763Z",
     "iopub.status.busy": "2023-11-19T23:00:13.495390Z",
     "iopub.status.idle": "2023-11-19T23:00:20.076093Z",
     "shell.execute_reply": "2023-11-19T23:00:20.075497Z"
    },
    "papermill": {
     "duration": 6.584406,
     "end_time": "2023-11-19T23:00:20.077460",
     "exception": false,
     "start_time": "2023-11-19T23:00:13.493054",
     "status": "completed"
    },
    "tags": []
   },
   "outputs": [],
   "source": [
    "df_metadata = df.filter(regex=\"Metadata\")\n",
    "df_data = df.drop(df_metadata.columns, axis=1)\n",
    "df_data[\"Metadata_number_of_singlecells\"] = df_metadata[\n",
    "    \"Metadata_number_of_singlecells\"\n",
    "]"
   ]
  },
  {
   "cell_type": "code",
   "execution_count": 6,
   "id": "57d6917b",
   "metadata": {
    "execution": {
     "iopub.execute_input": "2023-11-19T23:00:20.084195Z",
     "iopub.status.busy": "2023-11-19T23:00:20.083848Z"
    },
    "papermill": {
     "duration": null,
     "end_time": null,
     "exception": false,
     "start_time": "2023-11-19T23:00:20.081204",
     "status": "running"
    },
    "tags": []
   },
   "outputs": [],
   "source": [
    "# anova for each feature in the dataframe with posthoc tukey test to determine which groups are different from each other\n",
    "lst = []\n",
    "\n",
    "\n",
    "formula = f\"{feature} ~ C(labels) + C(Metadata_number_of_singlecells)\"\n",
    "model = ols(formula, df_data).fit()\n",
    "aov_table = sm.stats.anova_lm(model, typ=2)\n",
    "posthoc = pairwise_tukeyhsd(\n",
    "    df_data[feature],\n",
    "    df_data[\"labels\"],\n",
    "    alpha=0.001,\n",
    ")\n",
    "# print(posthoc)\n",
    "lst.append([posthoc, feature])"
   ]
  },
  {
   "cell_type": "code",
   "execution_count": 7,
   "id": "4b49e728",
   "metadata": {
    "papermill": {
     "duration": null,
     "end_time": null,
     "exception": null,
     "start_time": null,
     "status": "pending"
    },
    "tags": []
   },
   "outputs": [],
   "source": [
    "tukey_df = pd.DataFrame()\n",
    "for i in lst:\n",
    "    j = pd.DataFrame(i[0]._results_table.data[1:])\n",
    "    j[\"features\"] = np.repeat(i[1], len(j))\n",
    "    tukey_df = pd.concat([tukey_df, j], axis=0)\n",
    "\n",
    "    np.repeat(i[1], len(j))\n",
    "\n",
    "tukey_df.columns = [\n",
    "    \"group1\",\n",
    "    \"group2\",\n",
    "    \"meandiff\",\n",
    "    \"lower\",\n",
    "    \"upper\",\n",
    "    \"p-adj\",\n",
    "    \"reject\",\n",
    "    \"features\",\n",
    "]\n",
    "# drop the other organelle\n",
    "# make new column with the absolute value of the p-adj\n",
    "tukey_df[\"p-adj_abs\"] = abs(tukey_df[\"p-adj\"])\n",
    "# make new column that states if the relationship is positive or negative\n",
    "tukey_df[\"pos_neg\"] = np.where(tukey_df[\"p-adj\"] > 0, \"positive\", \"negative\")\n",
    "# order the features by p-adj value"
   ]
  },
  {
   "cell_type": "code",
   "execution_count": 8,
   "id": "e7a540fc",
   "metadata": {
    "papermill": {
     "duration": null,
     "end_time": null,
     "exception": null,
     "start_time": null,
     "status": "pending"
    },
    "tags": []
   },
   "outputs": [
    {
     "data": {
      "text/html": [
       "<div>\n",
       "<style scoped>\n",
       "    .dataframe tbody tr th:only-of-type {\n",
       "        vertical-align: middle;\n",
       "    }\n",
       "\n",
       "    .dataframe tbody tr th {\n",
       "        vertical-align: top;\n",
       "    }\n",
       "\n",
       "    .dataframe thead th {\n",
       "        text-align: right;\n",
       "    }\n",
       "</style>\n",
       "<table border=\"1\" class=\"dataframe\">\n",
       "  <thead>\n",
       "    <tr style=\"text-align: right;\">\n",
       "      <th></th>\n",
       "      <th>group1</th>\n",
       "      <th>group2</th>\n",
       "      <th>meandiff</th>\n",
       "      <th>lower</th>\n",
       "      <th>upper</th>\n",
       "      <th>p-adj</th>\n",
       "      <th>reject</th>\n",
       "      <th>features</th>\n",
       "      <th>p-adj_abs</th>\n",
       "      <th>pos_neg</th>\n",
       "    </tr>\n",
       "  </thead>\n",
       "  <tbody>\n",
       "    <tr>\n",
       "      <th>0</th>\n",
       "      <td>apoptosis</td>\n",
       "      <td>healthy</td>\n",
       "      <td>0.0637</td>\n",
       "      <td>0.0</td>\n",
       "      <td>0.0312</td>\n",
       "      <td>0.0962</td>\n",
       "      <td>True</td>\n",
       "      <td>Nuclei_Texture_SumVariance_CorrMito_3_03_256</td>\n",
       "      <td>0.0962</td>\n",
       "      <td>positive</td>\n",
       "    </tr>\n",
       "    <tr>\n",
       "      <th>1</th>\n",
       "      <td>apoptosis</td>\n",
       "      <td>pyroptosis</td>\n",
       "      <td>0.1450</td>\n",
       "      <td>-0.0</td>\n",
       "      <td>0.1122</td>\n",
       "      <td>0.1777</td>\n",
       "      <td>True</td>\n",
       "      <td>Nuclei_Texture_SumVariance_CorrMito_3_03_256</td>\n",
       "      <td>0.1777</td>\n",
       "      <td>positive</td>\n",
       "    </tr>\n",
       "    <tr>\n",
       "      <th>2</th>\n",
       "      <td>healthy</td>\n",
       "      <td>pyroptosis</td>\n",
       "      <td>0.0813</td>\n",
       "      <td>-0.0</td>\n",
       "      <td>0.0677</td>\n",
       "      <td>0.0949</td>\n",
       "      <td>True</td>\n",
       "      <td>Nuclei_Texture_SumVariance_CorrMito_3_03_256</td>\n",
       "      <td>0.0949</td>\n",
       "      <td>positive</td>\n",
       "    </tr>\n",
       "  </tbody>\n",
       "</table>\n",
       "</div>"
      ],
      "text/plain": [
       "      group1      group2  meandiff  lower   upper   p-adj  reject  \\\n",
       "0  apoptosis     healthy    0.0637    0.0  0.0312  0.0962    True   \n",
       "1  apoptosis  pyroptosis    0.1450   -0.0  0.1122  0.1777    True   \n",
       "2    healthy  pyroptosis    0.0813   -0.0  0.0677  0.0949    True   \n",
       "\n",
       "                                       features  p-adj_abs   pos_neg  \n",
       "0  Nuclei_Texture_SumVariance_CorrMito_3_03_256     0.0962  positive  \n",
       "1  Nuclei_Texture_SumVariance_CorrMito_3_03_256     0.1777  positive  \n",
       "2  Nuclei_Texture_SumVariance_CorrMito_3_03_256     0.0949  positive  "
      ]
     },
     "execution_count": 8,
     "metadata": {},
     "output_type": "execute_result"
    }
   ],
   "source": [
    "tukey_df.head()"
   ]
  },
  {
   "cell_type": "code",
   "execution_count": 9,
   "id": "572cafca",
   "metadata": {
    "papermill": {
     "duration": null,
     "end_time": null,
     "exception": null,
     "start_time": null,
     "status": "pending"
    },
    "tags": []
   },
   "outputs": [],
   "source": [
    "# save the dataframe as a parquet file\n",
    "anova_results_path = pathlib.Path(\n",
    "    f\"../results/{cell_type}/{feature}_anova_results_all_treatments.parquet\"\n",
    ")\n",
    "# if the directory does not exist, create it\n",
    "if not anova_results_path.parent.exists():\n",
    "    anova_results_path.parent.mkdir(parents=True)\n",
    "# save the dataframe as a parquet file\n",
    "tukey_df.to_parquet(anova_results_path)"
   ]
  },
  {
   "cell_type": "code",
   "execution_count": null,
   "metadata": {},
   "outputs": [],
   "source": []
  }
 ],
 "metadata": {
  "kernelspec": {
   "display_name": "Interstellar",
   "language": "python",
   "name": "python3"
  },
  "language_info": {
   "codemirror_mode": {
    "name": "ipython",
    "version": 3
   },
   "file_extension": ".py",
   "mimetype": "text/x-python",
   "name": "python",
   "nbconvert_exporter": "python",
   "pygments_lexer": "ipython3",
   "version": "3.10.12"
  },
  "papermill": {
   "default_parameters": {},
   "duration": null,
   "end_time": null,
   "environment_variables": {},
   "exception": null,
   "input_path": "8.anova_all_groupings.ipynb",
   "output_path": "8.anova_all_groupings.ipynb",
   "parameters": {},
   "start_time": "2023-11-19T22:44:26.384792",
   "version": "2.5.0"
  }
 },
 "nbformat": 4,
 "nbformat_minor": 5
}
