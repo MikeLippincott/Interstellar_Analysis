{
    "cells": [
        {
            "cell_type": "code",
            "execution_count": null,
            "metadata": {},
            "outputs": [],
            "source": [
                "import argparse\n",
                "import pathlib\n",
                "\n",
                "import pyarrow.parquet as pq"
            ]
        },
        {
            "cell_type": "code",
            "execution_count": null,
            "metadata": {},
            "outputs": [],
            "source": [
                "# parse command line arguments\n",
                "parser = argparse.ArgumentParser()\n",
                "parser.add_argument(\"--cell_type\", help=\"cell type to analyze\", type=str, default=\"all\")\n",
                "\n",
                "args = parser.parse_args()\n",
                "cell_type = args.cell_type"
            ]
        },
        {
            "cell_type": "code",
            "execution_count": 3,
            "metadata": {},
            "outputs": [],
            "source": [
                "# Import Data\n",
                "# set data file path under pathlib path for multi-system use\n",
                "file_path = pathlib.Path(f\"../../data/{cell_type}_preprocessed_sc_norm.parquet\")\n",
                "columns_list = pq.read_schema(file_path).names\n",
                "columns_list = [x for x in columns_list if \"Metadata\" not in x]\n",
                "columns_list = [x for x in columns_list if \"__index_level_0__\" not in x]"
            ]
        },
        {
            "cell_type": "code",
            "execution_count": 4,
            "metadata": {},
            "outputs": [],
            "source": [
                "# index output for features\n",
                "output_file = pathlib.Path(f\"../features/{cell_type}_feature_index.txt\")\n",
                "# create output directory if it doesn't exist\n",
                "output_file.parent.mkdir(parents=True, exist_ok=True)"
            ]
        },
        {
            "cell_type": "code",
            "execution_count": 5,
            "metadata": {},
            "outputs": [],
            "source": [
                "# write each feature to a file\n",
                "with open(output_file, \"w\") as f:\n",
                "    for item in columns_list:\n",
                "        f.write(\"%s\\n\" % item)"
            ]
        }
    ],
    "metadata": {
        "kernelspec": {
            "display_name": "Interstellar_python",
            "language": "python",
            "name": "python3"
        },
        "language_info": {
            "codemirror_mode": {
                "name": "ipython",
                "version": 3
            },
            "file_extension": ".py",
            "mimetype": "text/x-python",
            "name": "python",
            "nbconvert_exporter": "python",
            "pygments_lexer": "ipython3",
            "version": "3.10.15"
        }
    },
    "nbformat": 4,
    "nbformat_minor": 2
}
