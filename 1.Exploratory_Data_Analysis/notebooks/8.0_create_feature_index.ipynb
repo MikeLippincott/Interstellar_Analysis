{
 "cells": [
  {
   "cell_type": "code",
   "execution_count": 1,
   "metadata": {},
   "outputs": [],
   "source": [
    "import pathlib\n",
    "import warnings\n",
    "\n",
    "import numpy as np\n",
    "import pandas as pd\n",
    "import statsmodels.api as sm\n",
    "import toml\n",
    "from matplotlib import rcParams\n",
    "from tqdm import tqdm\n",
    "\n",
    "rcParams.update({\"figure.autolayout\": True})\n",
    "\n",
    "# create a venn diagram of the features that are significant in all conditions\n",
    "\n",
    "warnings.filterwarnings(\"ignore\")\n",
    "from pycytominer.cyto_utils import infer_cp_features\n",
    "from statsmodels.formula.api import ols\n",
    "from statsmodels.stats.multicomp import pairwise_tukeyhsd"
   ]
  },
  {
   "cell_type": "code",
   "execution_count": 3,
   "metadata": {},
   "outputs": [],
   "source": [
    "cell_type = \"SHSY5Y\""
   ]
  },
  {
   "cell_type": "code",
   "execution_count": 4,
   "metadata": {},
   "outputs": [],
   "source": [
    "# Import Data\n",
    "# set data file path under pathlib path for multi-system use\n",
    "file_path = pathlib.Path(f\"../../data/{cell_type}_preprocessed_sc_norm.parquet\")\n",
    "df = pd.read_parquet(file_path)\n",
    "\n",
    "# index output for features\n",
    "output_file = pathlib.Path(f\"../features/feature_index.txt\")\n",
    "# create output directory if it doesn't exist\n",
    "output_file.parent.mkdir(parents=True, exist_ok=True)"
   ]
  },
  {
   "cell_type": "code",
   "execution_count": 5,
   "metadata": {},
   "outputs": [],
   "source": [
    "df_metadata = df.filter(regex=\"Metadata\")\n",
    "df_data = df.drop(df_metadata.columns, axis=1)\n",
    "df_data[\"Metadata_number_of_singlecells\"] = df_metadata[\n",
    "    \"Metadata_number_of_singlecells\"\n",
    "]\n",
    "cp_features = infer_cp_features(df)\n",
    "\n",
    "# write each feature to a file\n",
    "with open(output_file, \"w\") as f:\n",
    "    for item in cp_features:\n",
    "        f.write(\"%s\\n\" % item)"
   ]
  }
 ],
 "metadata": {
  "kernelspec": {
   "display_name": "Interstellar",
   "language": "python",
   "name": "python3"
  },
  "language_info": {
   "codemirror_mode": {
    "name": "ipython",
    "version": 3
   },
   "file_extension": ".py",
   "mimetype": "text/x-python",
   "name": "python",
   "nbconvert_exporter": "python",
   "pygments_lexer": "ipython3",
   "version": "3.10.12"
  }
 },
 "nbformat": 4,
 "nbformat_minor": 2
}
