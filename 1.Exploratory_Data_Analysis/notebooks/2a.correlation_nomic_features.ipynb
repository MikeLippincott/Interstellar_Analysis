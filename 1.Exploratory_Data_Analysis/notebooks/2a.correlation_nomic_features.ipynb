{
 "cells": [
  {
   "attachments": {},
   "cell_type": "markdown",
   "id": "935847dc",
   "metadata": {
    "papermill": {
     "duration": 0.001807,
     "end_time": "2023-08-01T02:00:52.761254",
     "exception": false,
     "start_time": "2023-08-01T02:00:52.759447",
     "status": "completed"
    },
    "tags": []
   },
   "source": [
    "# Correlation of Nomic Features\n",
    "Each nELISA features in used for the correlation of the wells.\n",
    "The correlation of the aggregated features is calculated per:\n",
    "* well\n",
    "* per treatment\n",
    "* per selected treatment"
   ]
  },
  {
   "cell_type": "code",
   "execution_count": 1,
   "id": "fa0d3c82",
   "metadata": {
    "execution": {
     "iopub.execute_input": "2023-08-01T02:00:52.764714Z",
     "iopub.status.busy": "2023-08-01T02:00:52.764547Z",
     "iopub.status.idle": "2023-08-01T02:00:52.940024Z",
     "shell.execute_reply": "2023-08-01T02:00:52.939703Z"
    },
    "papermill": {
     "duration": 0.178423,
     "end_time": "2023-08-01T02:00:52.941063",
     "exception": false,
     "start_time": "2023-08-01T02:00:52.762640",
     "status": "completed"
    },
    "tags": []
   },
   "outputs": [],
   "source": [
    "import pathlib\n",
    "\n",
    "import numpy as np\n",
    "import pandas as pd"
   ]
  },
  {
   "cell_type": "code",
   "execution_count": 2,
   "id": "d5a90559",
   "metadata": {
    "execution": {
     "iopub.execute_input": "2023-08-01T02:00:52.945825Z",
     "iopub.status.busy": "2023-08-01T02:00:52.945448Z",
     "iopub.status.idle": "2023-08-01T02:00:52.947636Z",
     "shell.execute_reply": "2023-08-01T02:00:52.947400Z"
    },
    "papermill": {
     "duration": 0.005066,
     "end_time": "2023-08-01T02:00:52.948309",
     "exception": false,
     "start_time": "2023-08-01T02:00:52.943243",
     "status": "completed"
    },
    "tags": [
     "injected-parameters"
    ]
   },
   "outputs": [],
   "source": [
    "# Parameters\n",
    "cell_type = \"SHSY5Y\""
   ]
  },
  {
   "cell_type": "code",
   "execution_count": 3,
   "id": "4fc48cc6",
   "metadata": {
    "execution": {
     "iopub.execute_input": "2023-08-01T02:00:52.952511Z",
     "iopub.status.busy": "2023-08-01T02:00:52.952267Z",
     "iopub.status.idle": "2023-08-01T02:00:52.961269Z",
     "shell.execute_reply": "2023-08-01T02:00:52.961018Z"
    },
    "papermill": {
     "duration": 0.012045,
     "end_time": "2023-08-01T02:00:52.961957",
     "exception": false,
     "start_time": "2023-08-01T02:00:52.949912",
     "status": "completed"
    },
    "tags": []
   },
   "outputs": [],
   "source": [
    "# set import data paths\n",
    "nomic_df_path = pathlib.Path(\n",
    "    f\"../2.Nomic_nELISA_Analysis/Data/clean/Plate2/nELISA_plate_430420_{cell_type}_cleanup4correlation.csv\"\n",
    ")\n",
    "\n",
    "# read in data\n",
    "nomic_df_raw = pd.read_csv(nomic_df_path)"
   ]
  },
  {
   "attachments": {},
   "cell_type": "markdown",
   "id": "8fbdbf77",
   "metadata": {
    "papermill": {
     "duration": 0.001673,
     "end_time": "2023-08-01T02:00:52.965064",
     "exception": false,
     "start_time": "2023-08-01T02:00:52.963391",
     "status": "completed"
    },
    "tags": []
   },
   "source": [
    "# Correlation of Wells"
   ]
  },
  {
   "cell_type": "code",
   "execution_count": 4,
   "id": "bb0ea5cd",
   "metadata": {
    "execution": {
     "iopub.execute_input": "2023-08-01T02:00:52.969261Z",
     "iopub.status.busy": "2023-08-01T02:00:52.968988Z",
     "iopub.status.idle": "2023-08-01T02:00:52.971133Z",
     "shell.execute_reply": "2023-08-01T02:00:52.970883Z"
    },
    "papermill": {
     "duration": 0.005254,
     "end_time": "2023-08-01T02:00:52.971765",
     "exception": false,
     "start_time": "2023-08-01T02:00:52.966511",
     "status": "completed"
    },
    "tags": []
   },
   "outputs": [],
   "source": [
    "# set index to Metadata_Well\n",
    "nomic_df = nomic_df_raw.set_index(\"Metadata_position_x\")"
   ]
  },
  {
   "cell_type": "code",
   "execution_count": 5,
   "id": "da329e02",
   "metadata": {
    "execution": {
     "iopub.execute_input": "2023-08-01T02:00:52.975770Z",
     "iopub.status.busy": "2023-08-01T02:00:52.975457Z",
     "iopub.status.idle": "2023-08-01T02:00:52.977733Z",
     "shell.execute_reply": "2023-08-01T02:00:52.977488Z"
    },
    "papermill": {
     "duration": 0.005204,
     "end_time": "2023-08-01T02:00:52.978389",
     "exception": false,
     "start_time": "2023-08-01T02:00:52.973185",
     "status": "completed"
    },
    "tags": []
   },
   "outputs": [],
   "source": [
    "# drop oneb_Metadata_Treatment_Dose_Inhibitor_Dose\n",
    "nomic_df = nomic_df.drop(columns=[\"oneb_Metadata_Treatment_Dose_Inhibitor_Dose\"])"
   ]
  },
  {
   "cell_type": "code",
   "execution_count": 6,
   "id": "647910b9",
   "metadata": {
    "execution": {
     "iopub.execute_input": "2023-08-01T02:00:52.982489Z",
     "iopub.status.busy": "2023-08-01T02:00:52.982145Z",
     "iopub.status.idle": "2023-08-01T02:00:52.994689Z",
     "shell.execute_reply": "2023-08-01T02:00:52.994445Z"
    },
    "papermill": {
     "duration": 0.015352,
     "end_time": "2023-08-01T02:00:52.995357",
     "exception": false,
     "start_time": "2023-08-01T02:00:52.980005",
     "status": "completed"
    },
    "tags": []
   },
   "outputs": [
    {
     "name": "stderr",
     "output_type": "stream",
     "text": [
      "/tmp/ipykernel_209863/3683415052.py:2: FutureWarning: The default value of numeric_only in DataFrame.corr is deprecated. In a future version, it will default to False. Select only valid columns or specify the value of numeric_only to silence this warning.\n",
      "  nomic_df.T.corr()\n"
     ]
    }
   ],
   "source": [
    "nomic_df = (\n",
    "    nomic_df.T.corr()\n",
    "    .reset_index()\n",
    "    .rename(columns={\"Metadata_position_x\": \"Wells\"})\n",
    "    .melt(\n",
    "        id_vars=\"Wells\",\n",
    "        var_name=\"Metadata_position_x\",\n",
    "        value_name=\"correlation\",\n",
    "    )\n",
    "    .rename(columns={\"Metadata_position_x\": \"Metadata_Well\"})\n",
    ")"
   ]
  },
  {
   "cell_type": "code",
   "execution_count": 7,
   "id": "2f75a57a",
   "metadata": {
    "execution": {
     "iopub.execute_input": "2023-08-01T02:00:52.999363Z",
     "iopub.status.busy": "2023-08-01T02:00:52.999020Z",
     "iopub.status.idle": "2023-08-01T02:00:53.029565Z",
     "shell.execute_reply": "2023-08-01T02:00:53.029293Z"
    },
    "papermill": {
     "duration": 0.033347,
     "end_time": "2023-08-01T02:00:53.030364",
     "exception": false,
     "start_time": "2023-08-01T02:00:52.997017",
     "status": "completed"
    },
    "tags": []
   },
   "outputs": [],
   "source": [
    "save_path = pathlib.Path(f\"./results/correlation/{cell_type}/nomic/\")\n",
    "save_path.mkdir(parents=True, exist_ok=True)\n",
    "nomic_df.to_csv(f\"{save_path}/wells.csv\")"
   ]
  },
  {
   "attachments": {},
   "cell_type": "markdown",
   "id": "282ae443",
   "metadata": {
    "papermill": {
     "duration": 0.001902,
     "end_time": "2023-08-01T02:00:53.033875",
     "exception": false,
     "start_time": "2023-08-01T02:00:53.031973",
     "status": "completed"
    },
    "tags": []
   },
   "source": [
    "# All Treatment correlation"
   ]
  },
  {
   "cell_type": "code",
   "execution_count": 8,
   "id": "242e3323",
   "metadata": {
    "execution": {
     "iopub.execute_input": "2023-08-01T02:00:53.038325Z",
     "iopub.status.busy": "2023-08-01T02:00:53.038194Z",
     "iopub.status.idle": "2023-08-01T02:00:53.041872Z",
     "shell.execute_reply": "2023-08-01T02:00:53.041645Z"
    },
    "papermill": {
     "duration": 0.00673,
     "end_time": "2023-08-01T02:00:53.042529",
     "exception": false,
     "start_time": "2023-08-01T02:00:53.035799",
     "status": "completed"
    },
    "tags": []
   },
   "outputs": [
    {
     "name": "stderr",
     "output_type": "stream",
     "text": [
      "/tmp/ipykernel_209863/39872765.py:8: FutureWarning: The default value of numeric_only in DataFrameGroupBy.mean is deprecated. In a future version, numeric_only will default to False. Either specify numeric_only or select only columns which should be valid for the function.\n",
      "  nomic_df = nomic_df.groupby(\"oneb_Metadata_Treatment_Dose_Inhibitor_Dose\").mean()\n"
     ]
    }
   ],
   "source": [
    "nomic_df = nomic_df_raw.copy()\n",
    "nomic_df.reset_index(inplace=True)\n",
    "nomic_df.drop([\"Metadata_position_x\"], axis=1, inplace=True)\n",
    "nomic_df.loc[:, \"oneb_Metadata_Treatment_Dose_Inhibitor_Dose\"] = nomic_df_raw[\n",
    "    \"oneb_Metadata_Treatment_Dose_Inhibitor_Dose\"\n",
    "]\n",
    "# groupby Metadata_Treatment_Dose_Inhibitor_Dose\n",
    "nomic_df = nomic_df.groupby(\"oneb_Metadata_Treatment_Dose_Inhibitor_Dose\").mean()"
   ]
  },
  {
   "cell_type": "code",
   "execution_count": 9,
   "id": "211d748d",
   "metadata": {
    "execution": {
     "iopub.execute_input": "2023-08-01T02:00:53.046530Z",
     "iopub.status.busy": "2023-08-01T02:00:53.046400Z",
     "iopub.status.idle": "2023-08-01T02:00:53.051314Z",
     "shell.execute_reply": "2023-08-01T02:00:53.051054Z"
    },
    "papermill": {
     "duration": 0.007641,
     "end_time": "2023-08-01T02:00:53.051977",
     "exception": false,
     "start_time": "2023-08-01T02:00:53.044336",
     "status": "completed"
    },
    "tags": []
   },
   "outputs": [],
   "source": [
    "nomic_df = (\n",
    "    nomic_df.T.corr()\n",
    "    .reset_index()\n",
    "    .rename(columns={\"oneb_Metadata_Treatment_Dose_Inhibitor_Dose\": \"Treatments\"})\n",
    "    .melt(\n",
    "        id_vars=\"Treatments\",\n",
    "        var_name=\"oneb_Metadata_Treatment_Dose_Inhibitor_Dose\",\n",
    "        value_name=\"correlation\",\n",
    "    )\n",
    "    .rename(columns={\"Metadata_position_x\": \"Metadata_Well\"})\n",
    ")"
   ]
  },
  {
   "cell_type": "code",
   "execution_count": 10,
   "id": "adae98d2",
   "metadata": {
    "execution": {
     "iopub.execute_input": "2023-08-01T02:00:53.055887Z",
     "iopub.status.busy": "2023-08-01T02:00:53.055760Z",
     "iopub.status.idle": "2023-08-01T02:00:53.060473Z",
     "shell.execute_reply": "2023-08-01T02:00:53.060244Z"
    },
    "papermill": {
     "duration": 0.007704,
     "end_time": "2023-08-01T02:00:53.061127",
     "exception": false,
     "start_time": "2023-08-01T02:00:53.053423",
     "status": "completed"
    },
    "tags": []
   },
   "outputs": [],
   "source": [
    "save_path = pathlib.Path(f\"./results/correlation/{cell_type}/nomic/\")\n",
    "save_path.mkdir(parents=True, exist_ok=True)\n",
    "nomic_df.to_csv(f\"{save_path}/treatments.csv\")"
   ]
  }
 ],
 "metadata": {
  "kernelspec": {
   "display_name": "Interstellar",
   "language": "python",
   "name": "python3"
  },
  "language_info": {
   "codemirror_mode": {
    "name": "ipython",
    "version": 3
   },
   "file_extension": ".py",
   "mimetype": "text/x-python",
   "name": "python",
   "nbconvert_exporter": "python",
   "pygments_lexer": "ipython3",
   "version": "3.10.12"
  },
  "papermill": {
   "default_parameters": {},
   "duration": 1.105237,
   "end_time": "2023-08-01T02:00:53.176210",
   "environment_variables": {},
   "exception": null,
   "input_path": "2a.correlation_nomic_features.ipynb",
   "output_path": "2a.correlation_nomic_features.ipynb",
   "parameters": {
    "cell_type": "PBMC"
   },
   "start_time": "2023-08-01T02:00:52.070973",
   "version": "2.4.0"
  },
  "vscode": {
   "interpreter": {
    "hash": "72ae02083a9ca7d143c492d1aec380c7bf553ec51bd66e90e72bba65228121b6"
   }
  }
 },
 "nbformat": 4,
 "nbformat_minor": 5
}
