{
 "cells": [
  {
   "cell_type": "markdown",
   "id": "885884af",
   "metadata": {
    "papermill": {
     "duration": 0.002296,
     "end_time": "2023-10-29T22:02:12.620190",
     "exception": false,
     "start_time": "2023-10-29T22:02:12.617894",
     "status": "completed"
    },
    "tags": []
   },
   "source": [
    "# This notebook looks into the cell heterogeneity in the control treatments"
   ]
  },
  {
   "cell_type": "code",
   "execution_count": null,
   "id": "d4f1e10f",
   "metadata": {
    "execution": {
     "iopub.execute_input": "2023-10-29T22:02:12.624972Z",
     "iopub.status.busy": "2023-10-29T22:02:12.624509Z",
     "iopub.status.idle": "2023-10-29T22:02:18.123004Z",
     "shell.execute_reply": "2023-10-29T22:02:18.122389Z"
    },
    "papermill": {
     "duration": 5.501806,
     "end_time": "2023-10-29T22:02:18.124030",
     "exception": false,
     "start_time": "2023-10-29T22:02:12.622224",
     "status": "completed"
    },
    "tags": []
   },
   "outputs": [],
   "source": [
    "import itertools\n",
    "import pathlib\n",
    "import sys\n",
    "\n",
    "import matplotlib.pyplot as plt\n",
    "import numpy as np\n",
    "import pandas as pd\n",
    "import pyarrow.parquet as pq\n",
    "import seaborn as sns\n",
    "import toml\n",
    "import umap\n",
    "from sklearn.cluster import KMeans"
   ]
  },
  {
   "cell_type": "code",
   "execution_count": null,
   "id": "f2260ed4",
   "metadata": {
    "execution": {
     "iopub.execute_input": "2023-10-29T22:02:18.132208Z",
     "iopub.status.busy": "2023-10-29T22:02:18.131539Z",
     "iopub.status.idle": "2023-10-29T22:02:18.134445Z",
     "shell.execute_reply": "2023-10-29T22:02:18.133968Z"
    },
    "papermill": {
     "duration": 0.006685,
     "end_time": "2023-10-29T22:02:18.135387",
     "exception": false,
     "start_time": "2023-10-29T22:02:18.128702",
     "status": "completed"
    },
    "tags": [
     "injected-parameters"
    ]
   },
   "outputs": [],
   "source": [
    "# Parameters\n",
    "cell_type = \"PBMC\""
   ]
  },
  {
   "cell_type": "code",
   "execution_count": null,
   "id": "b5871b71",
   "metadata": {
    "execution": {
     "iopub.execute_input": "2023-10-29T22:02:18.139928Z",
     "iopub.status.busy": "2023-10-29T22:02:18.139710Z",
     "iopub.status.idle": "2023-10-29T22:02:18.143293Z",
     "shell.execute_reply": "2023-10-29T22:02:18.142804Z"
    },
    "papermill": {
     "duration": 0.007152,
     "end_time": "2023-10-29T22:02:18.144335",
     "exception": false,
     "start_time": "2023-10-29T22:02:18.137183",
     "status": "completed"
    },
    "tags": []
   },
   "outputs": [],
   "source": [
    "# read in toml file\n",
    "\n",
    "# set up the path\n",
    "toml_path = pathlib.Path(\"../utils/params.toml\")\n",
    "# read in the toml file\n",
    "params = toml.load(toml_path)\n",
    "list_of_treatments = params[\"list_of_treatments\"][\"treatments\"]\n",
    "print(len(list_of_treatments))\n",
    "print(list_of_treatments)"
   ]
  },
  {
   "cell_type": "code",
   "execution_count": null,
   "id": "6ffb03d1",
   "metadata": {
    "execution": {
     "iopub.execute_input": "2023-10-29T22:02:18.149442Z",
     "iopub.status.busy": "2023-10-29T22:02:18.149051Z",
     "iopub.status.idle": "2023-10-29T22:06:21.981553Z",
     "shell.execute_reply": "2023-10-29T22:06:21.980939Z"
    },
    "papermill": {
     "duration": 243.845192,
     "end_time": "2023-10-29T22:06:21.991786",
     "exception": false,
     "start_time": "2023-10-29T22:02:18.146594",
     "status": "completed"
    },
    "tags": []
   },
   "outputs": [],
   "source": [
    "# Set path to parquet file\n",
    "path = pathlib.Path(f\"../../data/{cell_type}_preprocessed_sc_norm.parquet\")\n",
    "# Read in parquet file\n",
    "df = pq.read_table(path).to_pandas()\n",
    "df"
   ]
  },
  {
   "cell_type": "code",
   "execution_count": null,
   "id": "f3ff9482",
   "metadata": {
    "execution": {
     "iopub.execute_input": "2023-10-29T22:06:21.997680Z",
     "iopub.status.busy": "2023-10-29T22:06:21.997378Z",
     "iopub.status.idle": "2023-10-29T22:06:22.710969Z",
     "shell.execute_reply": "2023-10-29T22:06:22.710422Z"
    },
    "papermill": {
     "duration": 0.717727,
     "end_time": "2023-10-29T22:06:22.711982",
     "exception": false,
     "start_time": "2023-10-29T22:06:21.994255",
     "status": "completed"
    },
    "tags": []
   },
   "outputs": [],
   "source": [
    "df[\"oneb_Metadata_Treatment_Dose_Inhibitor_Dose\"]\n",
    "# subset the df for the control\n",
    "df = df[\n",
    "    df[\"oneb_Metadata_Treatment_Dose_Inhibitor_Dose\"] == \"DMSO_0.100_%_DMSO_0.025_%\"\n",
    "]\n",
    "df"
   ]
  },
  {
   "cell_type": "code",
   "execution_count": null,
   "id": "122ed699",
   "metadata": {
    "execution": {
     "iopub.execute_input": "2023-10-29T22:06:22.719024Z",
     "iopub.status.busy": "2023-10-29T22:06:22.718582Z",
     "iopub.status.idle": "2023-10-29T22:06:22.963874Z",
     "shell.execute_reply": "2023-10-29T22:06:22.963274Z"
    },
    "papermill": {
     "duration": 0.250385,
     "end_time": "2023-10-29T22:06:22.965372",
     "exception": false,
     "start_time": "2023-10-29T22:06:22.714987",
     "status": "completed"
    },
    "tags": []
   },
   "outputs": [],
   "source": [
    "# Code snippet for metadata extraction by Jenna Tomkinson\n",
    "df_metadata = list(df.columns[df.columns.str.contains(\"Metadata\")])\n",
    "\n",
    "# define which columns are data and which are descriptive\n",
    "df_descriptive = df[df_metadata]\n",
    "df_values = df.drop(columns=df_metadata)"
   ]
  },
  {
   "cell_type": "code",
   "execution_count": null,
   "id": "3e3835a8",
   "metadata": {
    "execution": {
     "iopub.execute_input": "2023-10-29T22:06:22.972633Z",
     "iopub.status.busy": "2023-10-29T22:06:22.972275Z",
     "iopub.status.idle": "2023-10-29T22:06:22.975136Z",
     "shell.execute_reply": "2023-10-29T22:06:22.974674Z"
    },
    "papermill": {
     "duration": 0.007301,
     "end_time": "2023-10-29T22:06:22.976095",
     "exception": false,
     "start_time": "2023-10-29T22:06:22.968794",
     "status": "completed"
    },
    "tags": []
   },
   "outputs": [],
   "source": [
    "# set umap parameters\n",
    "umap_params = umap.UMAP(\n",
    "    n_components=2,\n",
    "    spread=1.1,\n",
    "    random_state=0,\n",
    "    n_neighbors=6,\n",
    "    min_dist=0.8,\n",
    "    metric=\"cosine\",\n",
    ")"
   ]
  },
  {
   "cell_type": "code",
   "execution_count": null,
   "id": "820f2243",
   "metadata": {
    "execution": {
     "iopub.execute_input": "2023-10-29T22:06:22.982327Z",
     "iopub.status.busy": "2023-10-29T22:06:22.981880Z",
     "iopub.status.idle": "2023-10-29T22:08:57.647066Z",
     "shell.execute_reply": "2023-10-29T22:08:57.646527Z"
    },
    "papermill": {
     "duration": 154.669944,
     "end_time": "2023-10-29T22:08:57.648610",
     "exception": false,
     "start_time": "2023-10-29T22:06:22.978666",
     "status": "completed"
    },
    "tags": []
   },
   "outputs": [],
   "source": [
    "# fit and transform data for umap\n",
    "proj_2d = umap_params.fit_transform(df_values)\n",
    "\n",
    "# add umap coordinates to dataframe of metadata and raw data\n",
    "df_values[\"umap_1\"] = proj_2d[:, 0]\n",
    "df_values[\"umap_2\"] = proj_2d[:, 1]"
   ]
  },
  {
   "cell_type": "code",
   "execution_count": null,
   "id": "c7758a1d",
   "metadata": {
    "execution": {
     "iopub.execute_input": "2023-10-29T22:08:57.657023Z",
     "iopub.status.busy": "2023-10-29T22:08:57.656688Z",
     "iopub.status.idle": "2023-10-29T22:08:57.660611Z",
     "shell.execute_reply": "2023-10-29T22:08:57.660219Z"
    },
    "papermill": {
     "duration": 0.008464,
     "end_time": "2023-10-29T22:08:57.661699",
     "exception": false,
     "start_time": "2023-10-29T22:08:57.653235",
     "status": "completed"
    },
    "tags": []
   },
   "outputs": [],
   "source": [
    "df_values[\"fourb_Metadata_Treatment_Dose_Inhibitor_Dose\"] = df_descriptive[\n",
    "    \"fourb_Metadata_Treatment_Dose_Inhibitor_Dose\"\n",
    "]\n",
    "df_values[\"Metadata_Well\"] = df_descriptive[\"Metadata_Well\"]"
   ]
  },
  {
   "cell_type": "code",
   "execution_count": null,
   "id": "4993a2dc",
   "metadata": {
    "execution": {
     "iopub.execute_input": "2023-10-29T22:08:57.667994Z",
     "iopub.status.busy": "2023-10-29T22:08:57.667567Z",
     "iopub.status.idle": "2023-10-29T22:09:04.321185Z",
     "shell.execute_reply": "2023-10-29T22:09:04.320712Z"
    },
    "papermill": {
     "duration": 6.659148,
     "end_time": "2023-10-29T22:09:04.323461",
     "exception": false,
     "start_time": "2023-10-29T22:08:57.664313",
     "status": "completed"
    },
    "tags": []
   },
   "outputs": [],
   "source": [
    "# Figure Showing UMAP of Clusters vs Treatment\n",
    "sns.scatterplot(\n",
    "    data=df_values,\n",
    "    x=\"umap_1\",\n",
    "    y=\"umap_2\",\n",
    "    hue=\"Metadata_Well\",\n",
    "    legend=\"full\",\n",
    "    # make points smaller,\n",
    "    s=10,\n",
    "    alpha=0.3,\n",
    ")\n",
    "# add contour lines to the plot\n",
    "\n",
    "plt.title(f\"Visualized {cell_type} on umap\")\n",
    "plt.legend(bbox_to_anchor=(1.02, 1), loc=\"upper left\", borderaxespad=0)\n",
    "\n",
    "# if path does not exist create it\n",
    "plt.savefig(\n",
    "    f\"../Figures/umap_plate2/cell_heterogeneity_{cell_type}_umap.png\",\n",
    "    bbox_inches=\"tight\",\n",
    ")"
   ]
  }
 ],
 "metadata": {
  "kernelspec": {
   "display_name": "Interstellar",
   "language": "python",
   "name": "python3"
  },
  "language_info": {
   "codemirror_mode": {
    "name": "ipython",
    "version": 3
   },
   "file_extension": ".py",
   "mimetype": "text/x-python",
   "name": "python",
   "nbconvert_exporter": "python",
   "pygments_lexer": "ipython3",
   "version": "3.10.14"
  },
  "papermill": {
   "default_parameters": {},
   "duration": 414.850233,
   "end_time": "2023-10-29T22:09:05.549777",
   "environment_variables": {},
   "exception": null,
   "input_path": "6.heterogeneity_analysis.ipynb",
   "output_path": "6.heterogeneity_analysis.ipynb",
   "parameters": {
    "cell_type": "PBMC"
   },
   "start_time": "2023-10-29T22:02:10.699544",
   "version": "2.4.0"
  }
 },
 "nbformat": 4,
 "nbformat_minor": 5
}
