{
 "cells": [
  {
   "cell_type": "markdown",
   "id": "a51930c0",
   "metadata": {},
   "source": [
    "Cleanup the Nomic data prior to use "
   ]
  },
  {
   "cell_type": "code",
   "execution_count": 1,
   "id": "ccc0ed61",
   "metadata": {
    "execution": {
     "iopub.execute_input": "2023-08-01T02:00:49.261676Z",
     "iopub.status.busy": "2023-08-01T02:00:49.261551Z",
     "iopub.status.idle": "2023-08-01T02:00:49.617306Z",
     "shell.execute_reply": "2023-08-01T02:00:49.616976Z"
    },
    "papermill": {
     "duration": 0.359243,
     "end_time": "2023-08-01T02:00:49.618416",
     "exception": false,
     "start_time": "2023-08-01T02:00:49.259173",
     "status": "completed"
    },
    "tags": []
   },
   "outputs": [],
   "source": [
    "import pathlib\n",
    "import sys\n",
    "\n",
    "import numpy as np\n",
    "import pandas as pd\n",
    "from sklearn.preprocessing import MinMaxScaler"
   ]
  },
  {
   "cell_type": "code",
   "execution_count": 2,
   "id": "890be0f8",
   "metadata": {
    "execution": {
     "iopub.execute_input": "2023-08-01T02:00:49.622083Z",
     "iopub.status.busy": "2023-08-01T02:00:49.621817Z",
     "iopub.status.idle": "2023-08-01T02:00:49.623855Z",
     "shell.execute_reply": "2023-08-01T02:00:49.623601Z"
    },
    "papermill": {
     "duration": 0.004323,
     "end_time": "2023-08-01T02:00:49.624436",
     "exception": false,
     "start_time": "2023-08-01T02:00:49.620113",
     "status": "completed"
    },
    "tags": [
     "injected-parameters"
    ]
   },
   "outputs": [],
   "source": [
    "# Parameters\n",
    "cell_type = \"SHSY5Y\""
   ]
  },
  {
   "cell_type": "code",
   "execution_count": 3,
   "id": "6e74315f",
   "metadata": {
    "execution": {
     "iopub.execute_input": "2023-08-01T02:00:49.627855Z",
     "iopub.status.busy": "2023-08-01T02:00:49.627524Z",
     "iopub.status.idle": "2023-08-01T02:00:49.629549Z",
     "shell.execute_reply": "2023-08-01T02:00:49.629296Z"
    },
    "papermill": {
     "duration": 0.004379,
     "end_time": "2023-08-01T02:00:49.630114",
     "exception": false,
     "start_time": "2023-08-01T02:00:49.625735",
     "status": "completed"
    },
    "tags": []
   },
   "outputs": [],
   "source": [
    "# set import data paths\n",
    "nomic_df_path = pathlib.Path(\n",
    "    f\"../2.Nomic_nELISA_Analysis/Data/clean/Plate2/nELISA_plate_430420_{cell_type}.csv\"\n",
    ")\n",
    "\n",
    "nomic_df_filtered_out_path = pathlib.Path(\n",
    "    f\"../2.Nomic_nELISA_Analysis/Data/clean/Plate2/nELISA_plate_430420_{cell_type}_cleanup4correlation.csv\"\n",
    ")"
   ]
  },
  {
   "cell_type": "code",
   "execution_count": 4,
   "id": "82dd7785",
   "metadata": {
    "execution": {
     "iopub.execute_input": "2023-08-01T02:00:49.633321Z",
     "iopub.status.busy": "2023-08-01T02:00:49.633043Z",
     "iopub.status.idle": "2023-08-01T02:00:49.650321Z",
     "shell.execute_reply": "2023-08-01T02:00:49.650053Z"
    },
    "papermill": {
     "duration": 0.019658,
     "end_time": "2023-08-01T02:00:49.651079",
     "exception": false,
     "start_time": "2023-08-01T02:00:49.631421",
     "status": "completed"
    },
    "tags": []
   },
   "outputs": [],
   "source": [
    "# read in data\n",
    "nomic_df_raw = pd.read_csv(nomic_df_path)"
   ]
  },
  {
   "cell_type": "code",
   "execution_count": 5,
   "id": "06dca553",
   "metadata": {
    "execution": {
     "iopub.execute_input": "2023-08-01T02:00:49.654177Z",
     "iopub.status.busy": "2023-08-01T02:00:49.654057Z",
     "iopub.status.idle": "2023-08-01T02:00:49.661798Z",
     "shell.execute_reply": "2023-08-01T02:00:49.661536Z"
    },
    "papermill": {
     "duration": 0.009954,
     "end_time": "2023-08-01T02:00:49.662406",
     "exception": false,
     "start_time": "2023-08-01T02:00:49.652452",
     "status": "completed"
    },
    "tags": []
   },
   "outputs": [
    {
     "name": "stdout",
     "output_type": "stream",
     "text": [
      "(154, 399)_before_filtering\n",
      "(154, 212)_after_filtering\n"
     ]
    }
   ],
   "source": [
    "# get the dimensions of the df\n",
    "print(f\"{nomic_df_raw.shape}_before_filtering\")\n",
    "# remove column if colname has pgml in it as we are using the Normalised values ('NSU') columns\n",
    "nomic_df = nomic_df_raw.loc[\n",
    "    :, ~nomic_df_raw.columns.str.contains(\"pgml\", case=False, na=False)\n",
    "]\n",
    "print(f\"{nomic_df.shape}_after_filtering\")  # should be 187 less\n",
    "# if column does not contain [NSU] then prefix with Metadata_\n",
    "nomic_df = nomic_df.rename(\n",
    "    columns={col: \"Metadata_\" + col for col in nomic_df.columns if \"NSU\" not in col}\n",
    ")"
   ]
  },
  {
   "cell_type": "code",
   "execution_count": 6,
   "id": "6be4906b",
   "metadata": {
    "execution": {
     "iopub.execute_input": "2023-08-01T02:00:49.665579Z",
     "iopub.status.busy": "2023-08-01T02:00:49.665455Z",
     "iopub.status.idle": "2023-08-01T02:00:49.668880Z",
     "shell.execute_reply": "2023-08-01T02:00:49.668617Z"
    },
    "papermill": {
     "duration": 0.005728,
     "end_time": "2023-08-01T02:00:49.669483",
     "exception": false,
     "start_time": "2023-08-01T02:00:49.663755",
     "status": "completed"
    },
    "tags": []
   },
   "outputs": [],
   "source": [
    "# functions to be used with the apply method\n",
    "# add trailing zeros to the concentration values to match the metadata and morphology data\n",
    "# this is crucial for the merge later on for data harmonization\n",
    "\n",
    "\n",
    "def add_trailing_zeros_3(x):\n",
    "    return \"{:.3f}\".format(x)\n",
    "\n",
    "\n",
    "def add_trailing_zeros_1(x):\n",
    "    return \"{:.1f}\".format(x)\n",
    "\n",
    "\n",
    "# Apply the function to the 'column_name' column\n",
    "nomic_df[\"Metadata_inducer1_concentration_value\"] = nomic_df[\n",
    "    \"Metadata_inducer1_concentration_value\"\n",
    "].apply(add_trailing_zeros_3)\n",
    "nomic_df[\"Metadata_inducer2_concentration_value\"] = nomic_df[\n",
    "    \"Metadata_inducer2_concentration_value\"\n",
    "].apply(add_trailing_zeros_1)\n",
    "nomic_df[\"Metadata_inhibitor_concentration_value\"] = nomic_df[\n",
    "    \"Metadata_inhibitor_concentration_value\"\n",
    "].apply(add_trailing_zeros_3)"
   ]
  },
  {
   "cell_type": "code",
   "execution_count": 7,
   "id": "5f008e89",
   "metadata": {},
   "outputs": [
    {
     "data": {
      "text/plain": [
       "array(['nan', '1.0', '10.0', '3.0'], dtype=object)"
      ]
     },
     "execution_count": 7,
     "metadata": {},
     "output_type": "execute_result"
    }
   ],
   "source": [
    "nomic_df[\"Metadata_inducer2_concentration_value\"].unique()"
   ]
  },
  {
   "cell_type": "code",
   "execution_count": 8,
   "id": "c52be2e5",
   "metadata": {},
   "outputs": [],
   "source": [
    "nomic_df.replace(\"nan\", np.nan, inplace=True)"
   ]
  },
  {
   "cell_type": "code",
   "execution_count": 9,
   "id": "66864075",
   "metadata": {
    "execution": {
     "iopub.execute_input": "2023-08-01T02:00:49.672622Z",
     "iopub.status.busy": "2023-08-01T02:00:49.672501Z",
     "iopub.status.idle": "2023-08-01T02:00:49.678487Z",
     "shell.execute_reply": "2023-08-01T02:00:49.678234Z"
    },
    "papermill": {
     "duration": 0.008263,
     "end_time": "2023-08-01T02:00:49.679081",
     "exception": false,
     "start_time": "2023-08-01T02:00:49.670818",
     "status": "completed"
    },
    "tags": []
   },
   "outputs": [],
   "source": [
    "## Clean up df\n",
    "nomic_df[\"Metadata_inducer1_concentration_value\"] = nomic_df[\n",
    "    \"Metadata_inducer1_concentration_value\"\n",
    "].fillna(0)\n",
    "nomic_df[\"Metadata_inducer2_concentration_value\"] = nomic_df[\n",
    "    \"Metadata_inducer2_concentration_value\"\n",
    "].fillna(0)\n",
    "nomic_df[\"Metadata_inhibitor_concentration_value\"] = nomic_df[\n",
    "    \"Metadata_inhibitor_concentration_value\"\n",
    "].fillna(0)\n",
    "# treatment column merge\n",
    "conditions = [\n",
    "    (nomic_df[\"Metadata_inducer2\"].isnull()),\n",
    "    nomic_df[\"Metadata_inducer2\"].notnull(),\n",
    "]\n",
    "results = [\n",
    "    (nomic_df[\"Metadata_inducer1\"]).astype(str),\n",
    "    (nomic_df[\"Metadata_inducer1\"] + \"_\" + nomic_df[\"Metadata_inducer2\"]).astype(str),\n",
    "]\n",
    "nomic_df[\"Metadata_Treatment\"] = np.select(condlist=conditions, choicelist=results)\n",
    "\n",
    "# dose column merge\n",
    "conditions = [\n",
    "    (nomic_df[\"Metadata_inducer2\"].isnull()),\n",
    "    nomic_df[\"Metadata_inducer2\"].notnull(),\n",
    "]\n",
    "\n",
    "results = [\n",
    "    (nomic_df[\"Metadata_inducer1_concentration_value\"].astype(str)).astype(str),\n",
    "    (\n",
    "        nomic_df[\"Metadata_inducer1_concentration_value\"].astype(str)\n",
    "        + \"_\"\n",
    "        + nomic_df[\"Metadata_inducer2_concentration_value\"].astype(str)\n",
    "    ).astype(str),\n",
    "]\n",
    "nomic_df[\"Metadata_Dose\"] = np.select(condlist=conditions, choicelist=results)\n",
    "\n",
    "# one beta of inudcer1, inducer1 concentration, inhibitor, and inhibitor concentration all as 1 beta term\n",
    "nomic_df[\"oneb_Metadata_Treatment_Dose_Inhibitor_Dose\"] = (\n",
    "    nomic_df[\"Metadata_Treatment\"]\n",
    "    + \"__\"\n",
    "    + nomic_df[\"Metadata_Dose\"].astype(str)\n",
    "    + \"__\"\n",
    "    + nomic_df[\"Metadata_inhibitor\"].astype(str)\n",
    "    + \"__\"\n",
    "    + nomic_df[\"Metadata_inhibitor_concentration_value\"].astype(str)\n",
    ").astype(str)\n",
    "\n",
    "# four beta of inudcer1, inducer1 concentration, inhibitor, and inhibitor concentration all as 1 beta term\n",
    "nomic_df[\"fourb_Metadata_Treatment_Dose_Inhibitor_Dose\"] = (\n",
    "    nomic_df[\"Metadata_Treatment\"]\n",
    "    + \"__\"\n",
    "    + nomic_df[\"Metadata_Dose\"].astype(str)\n",
    "    + \"__\"\n",
    "    + nomic_df[\"Metadata_inhibitor\"].astype(str)\n",
    "    + \"__\"\n",
    "    + nomic_df[\"Metadata_inhibitor_concentration_value\"].astype(str)\n",
    ").astype(str)"
   ]
  },
  {
   "cell_type": "code",
   "execution_count": 10,
   "id": "f45b6cbd",
   "metadata": {
    "execution": {
     "iopub.execute_input": "2023-08-01T02:00:49.682227Z",
     "iopub.status.busy": "2023-08-01T02:00:49.682105Z",
     "iopub.status.idle": "2023-08-01T02:00:49.686199Z",
     "shell.execute_reply": "2023-08-01T02:00:49.685950Z"
    },
    "papermill": {
     "duration": 0.006358,
     "end_time": "2023-08-01T02:00:49.686804",
     "exception": false,
     "start_time": "2023-08-01T02:00:49.680446",
     "status": "completed"
    },
    "tags": []
   },
   "outputs": [],
   "source": [
    "nomic_cleaned = nomic_df.copy()\n",
    "# drop first column of metadata\n",
    "nomic_df.columns[3:25]\n",
    "nomic_df = nomic_df.drop(nomic_df.columns[3:25], axis=1)\n",
    "nomic_df = nomic_df.drop(nomic_df.columns[0:2], axis=1)\n",
    "nomic_df.drop(nomic_df.columns[0], axis=1, inplace=True)\n",
    "# drop Metadata_Dose column\n",
    "nomic_df = nomic_df.drop([\"Metadata_Dose\"], axis=1)\n",
    "nomic_df = nomic_df.drop([\"Metadata_Treatment\"], axis=1)\n",
    "nomic_df = nomic_df.drop([\"oneb_Metadata_Treatment_Dose_Inhibitor_Dose\"], axis=1)\n",
    "nomic_df = nomic_df.drop([\"fourb_Metadata_Treatment_Dose_Inhibitor_Dose\"], axis=1)"
   ]
  },
  {
   "cell_type": "code",
   "execution_count": 11,
   "id": "0a8585af",
   "metadata": {
    "execution": {
     "iopub.execute_input": "2023-08-01T02:00:49.690965Z",
     "iopub.status.busy": "2023-08-01T02:00:49.690657Z",
     "iopub.status.idle": "2023-08-01T02:00:49.694672Z",
     "shell.execute_reply": "2023-08-01T02:00:49.694426Z"
    },
    "papermill": {
     "duration": 0.007123,
     "end_time": "2023-08-01T02:00:49.695333",
     "exception": false,
     "start_time": "2023-08-01T02:00:49.688210",
     "status": "completed"
    },
    "tags": []
   },
   "outputs": [],
   "source": [
    "scaler = MinMaxScaler()\n",
    "nomic_df = pd.DataFrame(scaler.fit_transform(nomic_df), columns=nomic_df.columns)"
   ]
  },
  {
   "cell_type": "code",
   "execution_count": 12,
   "id": "23db1b33",
   "metadata": {
    "execution": {
     "iopub.execute_input": "2023-08-01T02:00:49.698614Z",
     "iopub.status.busy": "2023-08-01T02:00:49.698293Z",
     "iopub.status.idle": "2023-08-01T02:00:49.885396Z",
     "shell.execute_reply": "2023-08-01T02:00:49.885061Z"
    },
    "papermill": {
     "duration": 0.189416,
     "end_time": "2023-08-01T02:00:49.886077",
     "exception": false,
     "start_time": "2023-08-01T02:00:49.696661",
     "status": "completed"
    },
    "tags": []
   },
   "outputs": [
    {
     "data": {
      "text/html": [
       "<div>\n",
       "<style scoped>\n",
       "    .dataframe tbody tr th:only-of-type {\n",
       "        vertical-align: middle;\n",
       "    }\n",
       "\n",
       "    .dataframe tbody tr th {\n",
       "        vertical-align: top;\n",
       "    }\n",
       "\n",
       "    .dataframe thead th {\n",
       "        text-align: right;\n",
       "    }\n",
       "</style>\n",
       "<table border=\"1\" class=\"dataframe\">\n",
       "  <thead>\n",
       "    <tr style=\"text-align: right;\">\n",
       "      <th></th>\n",
       "      <th>Activin A [NSU]</th>\n",
       "      <th>AITRL (GITR Ligand) [NSU]</th>\n",
       "      <th>Amphiregulin [NSU]</th>\n",
       "      <th>Amyloid beta [NSU]</th>\n",
       "      <th>APRIL [NSU]</th>\n",
       "      <th>BAFF [NSU]</th>\n",
       "      <th>BCMA (TNFRSF17) [NSU]</th>\n",
       "      <th>BDNF [NSU]</th>\n",
       "      <th>BMP2 [NSU]</th>\n",
       "      <th>BMP3 [NSU]</th>\n",
       "      <th>...</th>\n",
       "      <th>TWEAK [NSU]</th>\n",
       "      <th>uPA [NSU]</th>\n",
       "      <th>VCAM-1 [NSU]</th>\n",
       "      <th>VEGF Receptor 2 (Flk-1) [NSU]</th>\n",
       "      <th>VEGF-A (165) [NSU]</th>\n",
       "      <th>VEGF-C [NSU]</th>\n",
       "      <th>VEGF-D [NSU]</th>\n",
       "      <th>VEGFR-1 [NSU]</th>\n",
       "      <th>WISP-1 (CCN4) [NSU]</th>\n",
       "      <th>XCL1 (Lymphotactin) [NSU]</th>\n",
       "    </tr>\n",
       "  </thead>\n",
       "  <tbody>\n",
       "    <tr>\n",
       "      <th>count</th>\n",
       "      <td>154.000000</td>\n",
       "      <td>154.000000</td>\n",
       "      <td>154.000000</td>\n",
       "      <td>154.000000</td>\n",
       "      <td>154.000000</td>\n",
       "      <td>154.000000</td>\n",
       "      <td>154.000000</td>\n",
       "      <td>154.000000</td>\n",
       "      <td>154.000000</td>\n",
       "      <td>154.000000</td>\n",
       "      <td>...</td>\n",
       "      <td>154.000000</td>\n",
       "      <td>154.000000</td>\n",
       "      <td>154.000000</td>\n",
       "      <td>154.000000</td>\n",
       "      <td>154.000000</td>\n",
       "      <td>154.000000</td>\n",
       "      <td>154.000000</td>\n",
       "      <td>154.000000</td>\n",
       "      <td>154.000000</td>\n",
       "      <td>154.000000</td>\n",
       "    </tr>\n",
       "    <tr>\n",
       "      <th>mean</th>\n",
       "      <td>0.512790</td>\n",
       "      <td>0.550445</td>\n",
       "      <td>0.329366</td>\n",
       "      <td>0.490769</td>\n",
       "      <td>0.515044</td>\n",
       "      <td>0.437232</td>\n",
       "      <td>0.546341</td>\n",
       "      <td>0.538026</td>\n",
       "      <td>0.507619</td>\n",
       "      <td>0.442926</td>\n",
       "      <td>...</td>\n",
       "      <td>0.414544</td>\n",
       "      <td>0.267838</td>\n",
       "      <td>0.424662</td>\n",
       "      <td>0.461383</td>\n",
       "      <td>0.491265</td>\n",
       "      <td>0.274009</td>\n",
       "      <td>0.476551</td>\n",
       "      <td>0.507252</td>\n",
       "      <td>0.509625</td>\n",
       "      <td>0.545535</td>\n",
       "    </tr>\n",
       "    <tr>\n",
       "      <th>std</th>\n",
       "      <td>0.191118</td>\n",
       "      <td>0.204810</td>\n",
       "      <td>0.147678</td>\n",
       "      <td>0.200448</td>\n",
       "      <td>0.182091</td>\n",
       "      <td>0.163427</td>\n",
       "      <td>0.158799</td>\n",
       "      <td>0.151224</td>\n",
       "      <td>0.193710</td>\n",
       "      <td>0.168580</td>\n",
       "      <td>...</td>\n",
       "      <td>0.175782</td>\n",
       "      <td>0.181107</td>\n",
       "      <td>0.189241</td>\n",
       "      <td>0.184981</td>\n",
       "      <td>0.199057</td>\n",
       "      <td>0.135515</td>\n",
       "      <td>0.162974</td>\n",
       "      <td>0.197597</td>\n",
       "      <td>0.188871</td>\n",
       "      <td>0.205335</td>\n",
       "    </tr>\n",
       "    <tr>\n",
       "      <th>min</th>\n",
       "      <td>0.000000</td>\n",
       "      <td>0.000000</td>\n",
       "      <td>0.000000</td>\n",
       "      <td>0.000000</td>\n",
       "      <td>0.000000</td>\n",
       "      <td>0.000000</td>\n",
       "      <td>0.000000</td>\n",
       "      <td>0.000000</td>\n",
       "      <td>0.000000</td>\n",
       "      <td>0.000000</td>\n",
       "      <td>...</td>\n",
       "      <td>0.000000</td>\n",
       "      <td>0.000000</td>\n",
       "      <td>0.000000</td>\n",
       "      <td>0.000000</td>\n",
       "      <td>0.000000</td>\n",
       "      <td>0.000000</td>\n",
       "      <td>0.000000</td>\n",
       "      <td>0.000000</td>\n",
       "      <td>0.000000</td>\n",
       "      <td>0.000000</td>\n",
       "    </tr>\n",
       "    <tr>\n",
       "      <th>25%</th>\n",
       "      <td>0.372157</td>\n",
       "      <td>0.408766</td>\n",
       "      <td>0.222382</td>\n",
       "      <td>0.361363</td>\n",
       "      <td>0.393149</td>\n",
       "      <td>0.318969</td>\n",
       "      <td>0.456469</td>\n",
       "      <td>0.446488</td>\n",
       "      <td>0.383503</td>\n",
       "      <td>0.325860</td>\n",
       "      <td>...</td>\n",
       "      <td>0.286069</td>\n",
       "      <td>0.159057</td>\n",
       "      <td>0.284052</td>\n",
       "      <td>0.338056</td>\n",
       "      <td>0.359357</td>\n",
       "      <td>0.190012</td>\n",
       "      <td>0.376373</td>\n",
       "      <td>0.389866</td>\n",
       "      <td>0.389192</td>\n",
       "      <td>0.406919</td>\n",
       "    </tr>\n",
       "    <tr>\n",
       "      <th>50%</th>\n",
       "      <td>0.498080</td>\n",
       "      <td>0.544296</td>\n",
       "      <td>0.331455</td>\n",
       "      <td>0.510045</td>\n",
       "      <td>0.529867</td>\n",
       "      <td>0.429426</td>\n",
       "      <td>0.550774</td>\n",
       "      <td>0.548099</td>\n",
       "      <td>0.513718</td>\n",
       "      <td>0.454565</td>\n",
       "      <td>...</td>\n",
       "      <td>0.408542</td>\n",
       "      <td>0.218259</td>\n",
       "      <td>0.417805</td>\n",
       "      <td>0.454610</td>\n",
       "      <td>0.484085</td>\n",
       "      <td>0.269377</td>\n",
       "      <td>0.472216</td>\n",
       "      <td>0.514295</td>\n",
       "      <td>0.493869</td>\n",
       "      <td>0.539340</td>\n",
       "    </tr>\n",
       "    <tr>\n",
       "      <th>75%</th>\n",
       "      <td>0.635876</td>\n",
       "      <td>0.700128</td>\n",
       "      <td>0.418719</td>\n",
       "      <td>0.615260</td>\n",
       "      <td>0.651010</td>\n",
       "      <td>0.544394</td>\n",
       "      <td>0.636995</td>\n",
       "      <td>0.630755</td>\n",
       "      <td>0.640660</td>\n",
       "      <td>0.553468</td>\n",
       "      <td>...</td>\n",
       "      <td>0.521014</td>\n",
       "      <td>0.322400</td>\n",
       "      <td>0.546834</td>\n",
       "      <td>0.581042</td>\n",
       "      <td>0.630112</td>\n",
       "      <td>0.327102</td>\n",
       "      <td>0.577126</td>\n",
       "      <td>0.635389</td>\n",
       "      <td>0.666129</td>\n",
       "      <td>0.694694</td>\n",
       "    </tr>\n",
       "    <tr>\n",
       "      <th>max</th>\n",
       "      <td>1.000000</td>\n",
       "      <td>1.000000</td>\n",
       "      <td>1.000000</td>\n",
       "      <td>1.000000</td>\n",
       "      <td>1.000000</td>\n",
       "      <td>1.000000</td>\n",
       "      <td>1.000000</td>\n",
       "      <td>1.000000</td>\n",
       "      <td>1.000000</td>\n",
       "      <td>1.000000</td>\n",
       "      <td>...</td>\n",
       "      <td>1.000000</td>\n",
       "      <td>1.000000</td>\n",
       "      <td>1.000000</td>\n",
       "      <td>1.000000</td>\n",
       "      <td>1.000000</td>\n",
       "      <td>1.000000</td>\n",
       "      <td>1.000000</td>\n",
       "      <td>1.000000</td>\n",
       "      <td>1.000000</td>\n",
       "      <td>1.000000</td>\n",
       "    </tr>\n",
       "  </tbody>\n",
       "</table>\n",
       "<p>8 rows × 187 columns</p>\n",
       "</div>"
      ],
      "text/plain": [
       "       Activin A [NSU]  AITRL (GITR Ligand) [NSU]  Amphiregulin [NSU]  \\\n",
       "count       154.000000                 154.000000          154.000000   \n",
       "mean          0.512790                   0.550445            0.329366   \n",
       "std           0.191118                   0.204810            0.147678   \n",
       "min           0.000000                   0.000000            0.000000   \n",
       "25%           0.372157                   0.408766            0.222382   \n",
       "50%           0.498080                   0.544296            0.331455   \n",
       "75%           0.635876                   0.700128            0.418719   \n",
       "max           1.000000                   1.000000            1.000000   \n",
       "\n",
       "       Amyloid beta [NSU]  APRIL [NSU]  BAFF [NSU]  BCMA (TNFRSF17) [NSU]  \\\n",
       "count          154.000000   154.000000  154.000000             154.000000   \n",
       "mean             0.490769     0.515044    0.437232               0.546341   \n",
       "std              0.200448     0.182091    0.163427               0.158799   \n",
       "min              0.000000     0.000000    0.000000               0.000000   \n",
       "25%              0.361363     0.393149    0.318969               0.456469   \n",
       "50%              0.510045     0.529867    0.429426               0.550774   \n",
       "75%              0.615260     0.651010    0.544394               0.636995   \n",
       "max              1.000000     1.000000    1.000000               1.000000   \n",
       "\n",
       "       BDNF [NSU]  BMP2 [NSU]  BMP3 [NSU]  ...  TWEAK [NSU]   uPA [NSU]  \\\n",
       "count  154.000000  154.000000  154.000000  ...   154.000000  154.000000   \n",
       "mean     0.538026    0.507619    0.442926  ...     0.414544    0.267838   \n",
       "std      0.151224    0.193710    0.168580  ...     0.175782    0.181107   \n",
       "min      0.000000    0.000000    0.000000  ...     0.000000    0.000000   \n",
       "25%      0.446488    0.383503    0.325860  ...     0.286069    0.159057   \n",
       "50%      0.548099    0.513718    0.454565  ...     0.408542    0.218259   \n",
       "75%      0.630755    0.640660    0.553468  ...     0.521014    0.322400   \n",
       "max      1.000000    1.000000    1.000000  ...     1.000000    1.000000   \n",
       "\n",
       "       VCAM-1 [NSU]  VEGF Receptor 2 (Flk-1) [NSU]  VEGF-A (165) [NSU]  \\\n",
       "count    154.000000                     154.000000          154.000000   \n",
       "mean       0.424662                       0.461383            0.491265   \n",
       "std        0.189241                       0.184981            0.199057   \n",
       "min        0.000000                       0.000000            0.000000   \n",
       "25%        0.284052                       0.338056            0.359357   \n",
       "50%        0.417805                       0.454610            0.484085   \n",
       "75%        0.546834                       0.581042            0.630112   \n",
       "max        1.000000                       1.000000            1.000000   \n",
       "\n",
       "       VEGF-C [NSU]  VEGF-D [NSU]  VEGFR-1 [NSU]  WISP-1 (CCN4) [NSU]  \\\n",
       "count    154.000000    154.000000     154.000000           154.000000   \n",
       "mean       0.274009      0.476551       0.507252             0.509625   \n",
       "std        0.135515      0.162974       0.197597             0.188871   \n",
       "min        0.000000      0.000000       0.000000             0.000000   \n",
       "25%        0.190012      0.376373       0.389866             0.389192   \n",
       "50%        0.269377      0.472216       0.514295             0.493869   \n",
       "75%        0.327102      0.577126       0.635389             0.666129   \n",
       "max        1.000000      1.000000       1.000000             1.000000   \n",
       "\n",
       "       XCL1 (Lymphotactin) [NSU]  \n",
       "count                 154.000000  \n",
       "mean                    0.545535  \n",
       "std                     0.205335  \n",
       "min                     0.000000  \n",
       "25%                     0.406919  \n",
       "50%                     0.539340  \n",
       "75%                     0.694694  \n",
       "max                     1.000000  \n",
       "\n",
       "[8 rows x 187 columns]"
      ]
     },
     "execution_count": 12,
     "metadata": {},
     "output_type": "execute_result"
    }
   ],
   "source": [
    "# summary statistics of df to check min-max normalization\n",
    "nomic_df.describe()"
   ]
  },
  {
   "cell_type": "code",
   "execution_count": 13,
   "id": "ba9b3b75",
   "metadata": {
    "execution": {
     "iopub.execute_input": "2023-08-01T02:00:49.891394Z",
     "iopub.status.busy": "2023-08-01T02:00:49.891260Z",
     "iopub.status.idle": "2023-08-01T02:00:49.893638Z",
     "shell.execute_reply": "2023-08-01T02:00:49.893345Z"
    },
    "papermill": {
     "duration": 0.005616,
     "end_time": "2023-08-01T02:00:49.894285",
     "exception": false,
     "start_time": "2023-08-01T02:00:49.888669",
     "status": "completed"
    },
    "tags": []
   },
   "outputs": [],
   "source": [
    "# add position_x back to df\n",
    "nomic_df.loc[:, \"Metadata_position_x\"] = nomic_df_raw[\"position_x\"]"
   ]
  },
  {
   "cell_type": "code",
   "execution_count": 14,
   "id": "d1391ddc",
   "metadata": {
    "execution": {
     "iopub.execute_input": "2023-08-01T02:00:49.899050Z",
     "iopub.status.busy": "2023-08-01T02:00:49.898924Z",
     "iopub.status.idle": "2023-08-01T02:00:49.901028Z",
     "shell.execute_reply": "2023-08-01T02:00:49.900778Z"
    },
    "papermill": {
     "duration": 0.005259,
     "end_time": "2023-08-01T02:00:49.901661",
     "exception": false,
     "start_time": "2023-08-01T02:00:49.896402",
     "status": "completed"
    },
    "tags": []
   },
   "outputs": [],
   "source": [
    "nomic_df = nomic_df.assign(\n",
    "    oneb_Metadata_Treatment_Dose_Inhibitor_Dose=nomic_cleaned[\n",
    "        \"oneb_Metadata_Treatment_Dose_Inhibitor_Dose\"\n",
    "    ],\n",
    ")\n",
    "nomic_df = nomic_df.assign(\n",
    "    fourb_Metadata_Treatment_Dose_Inhibitor_Dose=nomic_cleaned[\n",
    "        \"fourb_Metadata_Treatment_Dose_Inhibitor_Dose\"\n",
    "    ],\n",
    ")"
   ]
  },
  {
   "cell_type": "code",
   "execution_count": 15,
   "id": "dbc25e78",
   "metadata": {
    "execution": {
     "iopub.execute_input": "2023-08-01T02:00:49.906423Z",
     "iopub.status.busy": "2023-08-01T02:00:49.906203Z",
     "iopub.status.idle": "2023-08-01T02:00:49.953038Z",
     "shell.execute_reply": "2023-08-01T02:00:49.952786Z"
    },
    "papermill": {
     "duration": 0.049935,
     "end_time": "2023-08-01T02:00:49.953689",
     "exception": false,
     "start_time": "2023-08-01T02:00:49.903754",
     "status": "completed"
    },
    "tags": []
   },
   "outputs": [],
   "source": [
    "nomic_df[\"inducer_dose_unit\"] = nomic_df_raw[\"inducer1_concentration_unit\"]"
   ]
  },
  {
   "cell_type": "code",
   "execution_count": 16,
   "id": "36f145e3",
   "metadata": {
    "execution": {
     "iopub.execute_input": "2023-08-01T02:00:49.959270Z",
     "iopub.status.busy": "2023-08-01T02:00:49.959150Z",
     "iopub.status.idle": "2023-08-01T02:00:49.980402Z",
     "shell.execute_reply": "2023-08-01T02:00:49.980121Z"
    },
    "papermill": {
     "duration": 0.02486,
     "end_time": "2023-08-01T02:00:49.981190",
     "exception": false,
     "start_time": "2023-08-01T02:00:49.956330",
     "status": "completed"
    },
    "tags": []
   },
   "outputs": [],
   "source": [
    "nomic_df.to_csv(nomic_df_filtered_out_path, index=False)"
   ]
  }
 ],
 "metadata": {
  "kernelspec": {
   "display_name": "Interstellar",
   "language": "python",
   "name": "python3"
  },
  "language_info": {
   "codemirror_mode": {
    "name": "ipython",
    "version": 3
   },
   "file_extension": ".py",
   "mimetype": "text/x-python",
   "name": "python",
   "nbconvert_exporter": "python",
   "pygments_lexer": "ipython3",
   "version": "3.10.12"
  },
  "papermill": {
   "default_parameters": {},
   "duration": 1.630586,
   "end_time": "2023-08-01T02:00:50.197941",
   "environment_variables": {},
   "exception": null,
   "input_path": "0.nomic_cleanup.ipynb",
   "output_path": "0.nomic_cleanup.ipynb",
   "parameters": {
    "cell_type": "PBMC"
   },
   "start_time": "2023-08-01T02:00:48.567355",
   "version": "2.4.0"
  },
  "vscode": {
   "interpreter": {
    "hash": "72ae02083a9ca7d143c492d1aec380c7bf553ec51bd66e90e72bba65228121b6"
   }
  }
 },
 "nbformat": 4,
 "nbformat_minor": 5
}
