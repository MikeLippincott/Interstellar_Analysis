{
    "cells": [
        {
            "attachments": {},
            "cell_type": "markdown",
            "id": "1725c6c1",
            "metadata": {
                "papermill": {
                    "duration": 0.003012,
                    "end_time": "2024-01-24T18:35:35.157244",
                    "exception": false,
                    "start_time": "2024-01-24T18:35:35.154232",
                    "status": "completed"
                },
                "tags": []
            },
            "source": [
                "## Plate 2"
            ]
        },
        {
            "cell_type": "code",
            "execution_count": null,
            "id": "5c4f9771",
            "metadata": {
                "execution": {
                    "iopub.execute_input": "2024-01-24T18:35:35.162138Z",
                    "iopub.status.busy": "2024-01-24T18:35:35.161924Z",
                    "iopub.status.idle": "2024-01-24T18:35:40.905041Z",
                    "shell.execute_reply": "2024-01-24T18:35:40.904410Z"
                },
                "papermill": {
                    "duration": 5.747477,
                    "end_time": "2024-01-24T18:35:40.906846",
                    "exception": false,
                    "start_time": "2024-01-24T18:35:35.159369",
                    "status": "completed"
                },
                "tags": []
            },
            "outputs": [],
            "source": [
                "import ast\n",
                "import itertools\n",
                "import pathlib\n",
                "import sys\n",
                "\n",
                "import matplotlib.pyplot as plt\n",
                "import numpy as np\n",
                "import pandas as pd\n",
                "import pyarrow.parquet as pq\n",
                "import seaborn as sns\n",
                "import toml\n",
                "import umap"
            ]
        },
        {
            "cell_type": "code",
            "execution_count": null,
            "id": "e5e5e96d",
            "metadata": {
                "execution": {
                    "iopub.execute_input": "2024-01-24T18:35:40.916878Z",
                    "iopub.status.busy": "2024-01-24T18:35:40.916383Z",
                    "iopub.status.idle": "2024-01-24T18:35:40.919497Z",
                    "shell.execute_reply": "2024-01-24T18:35:40.919013Z"
                },
                "papermill": {
                    "duration": 0.006883,
                    "end_time": "2024-01-24T18:35:40.920480",
                    "exception": false,
                    "start_time": "2024-01-24T18:35:40.913597",
                    "status": "completed"
                },
                "tags": [
                    "injected-parameters"
                ]
            },
            "outputs": [],
            "source": [
                "# Parameters\n",
                "cell_type = \"SHSY5Y\"\n",
                "sample = \"False\"\n",
                "sample = ast.literal_eval(sample)"
            ]
        },
        {
            "cell_type": "code",
            "execution_count": null,
            "id": "34e6bdf8",
            "metadata": {
                "execution": {
                    "iopub.execute_input": "2024-01-24T18:35:40.925480Z",
                    "iopub.status.busy": "2024-01-24T18:35:40.924968Z",
                    "iopub.status.idle": "2024-01-24T18:35:40.929259Z",
                    "shell.execute_reply": "2024-01-24T18:35:40.928780Z"
                },
                "papermill": {
                    "duration": 0.007792,
                    "end_time": "2024-01-24T18:35:40.930214",
                    "exception": false,
                    "start_time": "2024-01-24T18:35:40.922422",
                    "status": "completed"
                },
                "tags": []
            },
            "outputs": [],
            "source": [
                "# read in toml file\n",
                "\n",
                "# set up the path\n",
                "toml_path = pathlib.Path(\"../utils/params.toml\")\n",
                "# read in the toml file\n",
                "params = toml.load(toml_path)\n",
                "list_of_treatments = params[\"list_of_treatments\"][\"treatments\"]\n",
                "print(len(list_of_treatments))\n",
                "print(list_of_treatments)"
            ]
        },
        {
            "cell_type": "code",
            "execution_count": null,
            "id": "6be8e024",
            "metadata": {
                "execution": {
                    "iopub.execute_input": "2024-01-24T18:35:40.934998Z",
                    "iopub.status.busy": "2024-01-24T18:35:40.934724Z",
                    "iopub.status.idle": "2024-01-24T18:36:06.895665Z",
                    "shell.execute_reply": "2024-01-24T18:36:06.895115Z"
                },
                "papermill": {
                    "duration": 25.965105,
                    "end_time": "2024-01-24T18:36:06.897280",
                    "exception": false,
                    "start_time": "2024-01-24T18:35:40.932175",
                    "status": "completed"
                },
                "tags": []
            },
            "outputs": [],
            "source": [
                "# Set path to parquet file\n",
                "path = pathlib.Path(f\"../../data/{cell_type}_preprocessed_sc_norm.parquet\").resolve(\n",
                "    strict=True\n",
                ")\n",
                "# Read in parquet file\n",
                "df = pq.read_table(path).to_pandas()"
            ]
        },
        {
            "cell_type": "code",
            "execution_count": null,
            "id": "2fdd6c3d",
            "metadata": {
                "execution": {
                    "iopub.execute_input": "2024-01-24T18:36:06.910689Z",
                    "iopub.status.busy": "2024-01-24T18:36:06.910320Z",
                    "iopub.status.idle": "2024-01-24T18:36:17.546960Z",
                    "shell.execute_reply": "2024-01-24T18:36:17.546303Z"
                },
                "papermill": {
                    "duration": 10.641156,
                    "end_time": "2024-01-24T18:36:17.548751",
                    "exception": false,
                    "start_time": "2024-01-24T18:36:06.907595",
                    "status": "completed"
                },
                "tags": []
            },
            "outputs": [],
            "source": [
                "# subsample the data\n",
                "n = 100\n",
                "# Assuming df is your DataFrame and 'column_name' is the column you want to subsample by\n",
                "df = df.groupby(\"oneb_Metadata_Treatment_Dose_Inhibitor_Dose\").apply(\n",
                "    lambda x: x.sample(n)\n",
                ")"
            ]
        },
        {
            "cell_type": "code",
            "execution_count": null,
            "id": "0bd3d695",
            "metadata": {
                "execution": {
                    "iopub.execute_input": "2024-01-24T18:36:17.558986Z",
                    "iopub.status.busy": "2024-01-24T18:36:17.558544Z",
                    "iopub.status.idle": "2024-01-24T18:36:17.569607Z",
                    "shell.execute_reply": "2024-01-24T18:36:17.569052Z"
                },
                "papermill": {
                    "duration": 0.015299,
                    "end_time": "2024-01-24T18:36:17.570947",
                    "exception": false,
                    "start_time": "2024-01-24T18:36:17.555648",
                    "status": "completed"
                },
                "tags": []
            },
            "outputs": [],
            "source": [
                "# Code snippet for metadata extraction by Jenna Tomkinson\n",
                "df_metadata = list(df.columns[df.columns.str.contains(\"Metadata\")])\n",
                "# define which columns are data and which are descriptive\n",
                "df_descriptive = df[df_metadata]\n",
                "df_values = df.drop(columns=df_metadata)"
            ]
        },
        {
            "cell_type": "code",
            "execution_count": null,
            "id": "575ceaf7",
            "metadata": {
                "execution": {
                    "iopub.execute_input": "2024-01-24T18:36:17.576041Z",
                    "iopub.status.busy": "2024-01-24T18:36:17.575631Z",
                    "iopub.status.idle": "2024-01-24T18:36:17.578495Z",
                    "shell.execute_reply": "2024-01-24T18:36:17.578054Z"
                },
                "papermill": {
                    "duration": 0.006669,
                    "end_time": "2024-01-24T18:36:17.579536",
                    "exception": false,
                    "start_time": "2024-01-24T18:36:17.572867",
                    "status": "completed"
                },
                "tags": []
            },
            "outputs": [],
            "source": [
                "# set umap parameters\n",
                "umap_params = umap.UMAP(\n",
                "    n_components=2,\n",
                "    spread=1.1,\n",
                "    min_dist=0.8,\n",
                "    init=\"random\",\n",
                "    metric=\"cosine\",\n",
                "    random_state=0,\n",
                "    n_jobs=-1,\n",
                ")"
            ]
        },
        {
            "cell_type": "code",
            "execution_count": null,
            "id": "56199d6d",
            "metadata": {
                "execution": {
                    "iopub.execute_input": "2024-01-24T18:36:17.584896Z",
                    "iopub.status.busy": "2024-01-24T18:36:17.584443Z",
                    "iopub.status.idle": "2024-01-24T18:36:42.550766Z",
                    "shell.execute_reply": "2024-01-24T18:36:42.550083Z"
                },
                "papermill": {
                    "duration": 24.970685,
                    "end_time": "2024-01-24T18:36:42.552462",
                    "exception": false,
                    "start_time": "2024-01-24T18:36:17.581777",
                    "status": "completed"
                },
                "tags": []
            },
            "outputs": [],
            "source": [
                "# fit and transform data for umap\n",
                "proj_2d = umap_params.fit_transform(df_values)\n",
                "# add umap coordinates to dataframe of metadata and raw data\n",
                "df_values[\"umap_1\"] = proj_2d[:, 0]\n",
                "df_values[\"umap_2\"] = proj_2d[:, 1]"
            ]
        },
        {
            "cell_type": "code",
            "execution_count": null,
            "id": "0b3ad10c",
            "metadata": {
                "execution": {
                    "iopub.execute_input": "2024-01-24T18:36:42.561488Z",
                    "iopub.status.busy": "2024-01-24T18:36:42.560933Z",
                    "iopub.status.idle": "2024-01-24T18:36:42.564218Z",
                    "shell.execute_reply": "2024-01-24T18:36:42.563726Z"
                },
                "papermill": {
                    "duration": 0.007339,
                    "end_time": "2024-01-24T18:36:42.565168",
                    "exception": false,
                    "start_time": "2024-01-24T18:36:42.557829",
                    "status": "completed"
                },
                "tags": []
            },
            "outputs": [],
            "source": [
                "df_values[\"oneb_Metadata_Treatment_Dose_Inhibitor_Dose\"] = df_descriptive[\n",
                "    \"oneb_Metadata_Treatment_Dose_Inhibitor_Dose\"\n",
                "]"
            ]
        },
        {
            "cell_type": "code",
            "execution_count": null,
            "id": "973e5764",
            "metadata": {
                "execution": {
                    "iopub.execute_input": "2024-01-24T18:36:42.570303Z",
                    "iopub.status.busy": "2024-01-24T18:36:42.569885Z",
                    "iopub.status.idle": "2024-01-24T18:36:42.981491Z",
                    "shell.execute_reply": "2024-01-24T18:36:42.980786Z"
                },
                "papermill": {
                    "duration": 0.415737,
                    "end_time": "2024-01-24T18:36:42.982891",
                    "exception": false,
                    "start_time": "2024-01-24T18:36:42.567154",
                    "status": "completed"
                },
                "tags": []
            },
            "outputs": [],
            "source": [
                "# randomize the rows of the dataframe to plot the order of the data evenly\n",
                "df_values = df_values.sample(frac=1, random_state=0)\n",
                "\n",
                "if sample:\n",
                "    df_values_path = pathlib.Path(\n",
                "        f\"./results/{cell_type}_umap_values_morphology_sample_{n}.parquet\"\n",
                "    )\n",
                "else:\n",
                "    df_values_path = pathlib.Path(\n",
                "        f\"./results/{cell_type}_umap_values_morphology_all_cells.parquet\"\n",
                "    )\n",
                "# if path does not exist create it\n",
                "df_values_path.parent.mkdir(parents=True, exist_ok=True)\n",
                "# save the dataframe as a parquet file\n",
                "df_values.to_parquet(df_values_path)"
            ]
        },
        {
            "cell_type": "code",
            "execution_count": null,
            "id": "4512ea20",
            "metadata": {
                "execution": {
                    "iopub.execute_input": "2024-01-24T18:36:42.988601Z",
                    "iopub.status.busy": "2024-01-24T18:36:42.988087Z",
                    "iopub.status.idle": "2024-01-24T18:36:43.902374Z",
                    "shell.execute_reply": "2024-01-24T18:36:43.901758Z"
                },
                "papermill": {
                    "duration": 0.921947,
                    "end_time": "2024-01-24T18:36:43.906997",
                    "exception": false,
                    "start_time": "2024-01-24T18:36:42.985050",
                    "status": "completed"
                },
                "tags": []
            },
            "outputs": [],
            "source": [
                "# Figure Showing UMAP of Clusters vs Treatment\n",
                "# figure size set\n",
                "plt.figure(figsize=(10, 10))\n",
                "sns.scatterplot(\n",
                "    data=df_values,\n",
                "    x=\"umap_1\",\n",
                "    y=\"umap_2\",\n",
                "    hue=\"oneb_Metadata_Treatment_Dose_Inhibitor_Dose\",\n",
                "    legend=\"full\",\n",
                "    alpha=0.3,\n",
                ")\n",
                "plt.title(\"Visualized on umap\")\n",
                "plt.legend(bbox_to_anchor=(1.02, 1), loc=\"upper left\", borderaxespad=0)\n",
                "plt.show()"
            ]
        }
    ],
    "metadata": {
        "kernelspec": {
            "display_name": "Interstellar",
            "language": "python",
            "name": "python3"
        },
        "language_info": {
            "codemirror_mode": {
                "name": "ipython",
                "version": 3
            },
            "file_extension": ".py",
            "mimetype": "text/x-python",
            "name": "python",
            "nbconvert_exporter": "python",
            "pygments_lexer": "ipython3",
            "version": "3.10.13"
        },
        "papermill": {
            "default_parameters": {},
            "duration": 71.469044,
            "end_time": "2024-01-24T18:36:44.633077",
            "environment_variables": {},
            "exception": null,
            "input_path": "1.umap_analysis_plate2.ipynb",
            "output_path": "1.umap_analysis_plate2.ipynb",
            "parameters": {
                "cell_type": "PBMC",
                "sample": false
            },
            "start_time": "2024-01-24T18:35:33.164033",
            "version": "2.4.0"
        },
        "vscode": {
            "interpreter": {
                "hash": "72ae02083a9ca7d143c492d1aec380c7bf553ec51bd66e90e72bba65228121b6"
            }
        }
    },
    "nbformat": 4,
    "nbformat_minor": 5
}
