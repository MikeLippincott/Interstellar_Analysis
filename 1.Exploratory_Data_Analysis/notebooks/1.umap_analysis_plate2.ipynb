{
    "cells": [
        {
            "attachments": {},
            "cell_type": "markdown",
            "id": "1725c6c1",
            "metadata": {
                "papermill": {
                    "duration": 0.002295,
                    "end_time": "2024-03-30T15:20:07.119308",
                    "exception": false,
                    "start_time": "2024-03-30T15:20:07.117013",
                    "status": "completed"
                },
                "tags": []
            },
            "source": [
                "## Plate 2"
            ]
        },
        {
            "cell_type": "code",
            "execution_count": null,
            "id": "5c4f9771",
            "metadata": {
                "execution": {
                    "iopub.execute_input": "2024-03-30T15:20:07.123937Z",
                    "iopub.status.busy": "2024-03-30T15:20:07.123561Z",
                    "iopub.status.idle": "2024-03-30T15:20:12.474939Z",
                    "shell.execute_reply": "2024-03-30T15:20:12.474507Z"
                },
                "papermill": {
                    "duration": 5.355097,
                    "end_time": "2024-03-30T15:20:12.476156",
                    "exception": false,
                    "start_time": "2024-03-30T15:20:07.121059",
                    "status": "completed"
                },
                "tags": []
            },
            "outputs": [],
            "source": [
                "import ast\n",
                "import itertools\n",
                "import pathlib\n",
                "import sys\n",
                "\n",
                "import matplotlib.pyplot as plt\n",
                "import numpy as np\n",
                "import pandas as pd\n",
                "import pyarrow.parquet as pq\n",
                "import seaborn as sns\n",
                "import toml\n",
                "import umap"
            ]
        },
        {
            "cell_type": "code",
            "execution_count": null,
            "id": "4a5b76d7",
            "metadata": {
                "execution": {
                    "iopub.execute_input": "2024-03-30T15:20:12.481190Z",
                    "iopub.status.busy": "2024-03-30T15:20:12.480918Z",
                    "iopub.status.idle": "2024-03-30T15:20:12.483039Z",
                    "shell.execute_reply": "2024-03-30T15:20:12.482747Z"
                },
                "papermill": {
                    "duration": 0.005829,
                    "end_time": "2024-03-30T15:20:12.483806",
                    "exception": false,
                    "start_time": "2024-03-30T15:20:12.477977",
                    "status": "completed"
                },
                "tags": [
                    "injected-parameters"
                ]
            },
            "outputs": [],
            "source": [
                "# Parameters\n",
                "cell_type = \"PBMC\"\n",
                "sample = False"
            ]
        },
        {
            "cell_type": "code",
            "execution_count": null,
            "id": "34e6bdf8",
            "metadata": {
                "execution": {
                    "iopub.execute_input": "2024-03-30T15:20:12.487685Z",
                    "iopub.status.busy": "2024-03-30T15:20:12.487395Z",
                    "iopub.status.idle": "2024-03-30T15:20:12.490430Z",
                    "shell.execute_reply": "2024-03-30T15:20:12.490146Z"
                },
                "papermill": {
                    "duration": 0.005873,
                    "end_time": "2024-03-30T15:20:12.491198",
                    "exception": false,
                    "start_time": "2024-03-30T15:20:12.485325",
                    "status": "completed"
                },
                "tags": []
            },
            "outputs": [],
            "source": [
                "# read in toml file\n",
                "\n",
                "# set up the path\n",
                "toml_path = pathlib.Path(\"../utils/params.toml\")\n",
                "# read in the toml file\n",
                "params = toml.load(toml_path)\n",
                "list_of_treatments = params[\"list_of_treatments\"][\"treatments\"]\n",
                "print(len(list_of_treatments))\n",
                "print(list_of_treatments)"
            ]
        },
        {
            "cell_type": "code",
            "execution_count": null,
            "id": "6be8e024",
            "metadata": {
                "execution": {
                    "iopub.execute_input": "2024-03-30T15:20:12.495116Z",
                    "iopub.status.busy": "2024-03-30T15:20:12.494840Z",
                    "iopub.status.idle": "2024-03-30T15:22:38.962275Z",
                    "shell.execute_reply": "2024-03-30T15:22:38.923391Z"
                },
                "papermill": {
                    "duration": 146.517399,
                    "end_time": "2024-03-30T15:22:39.010208",
                    "exception": false,
                    "start_time": "2024-03-30T15:20:12.492809",
                    "status": "completed"
                },
                "tags": []
            },
            "outputs": [],
            "source": [
                "# Set path to parquet file\n",
                "path = pathlib.Path(f\"../../data/{cell_type}_preprocessed_sc_norm.parquet\").resolve(\n",
                "    strict=True\n",
                ")\n",
                "# Read in parquet file\n",
                "df = pq.read_table(path).to_pandas()"
            ]
        },
        {
            "cell_type": "code",
            "execution_count": null,
            "id": "2fdd6c3d",
            "metadata": {
                "execution": {
                    "iopub.execute_input": "2024-03-30T15:22:39.080267Z",
                    "iopub.status.busy": "2024-03-30T15:22:39.078990Z",
                    "iopub.status.idle": "2024-03-30T15:31:36.502629Z",
                    "shell.execute_reply": "2024-03-30T15:31:36.497369Z"
                },
                "papermill": {
                    "duration": 537.518332,
                    "end_time": "2024-03-30T15:31:36.569127",
                    "exception": false,
                    "start_time": "2024-03-30T15:22:39.050795",
                    "status": "completed"
                },
                "tags": []
            },
            "outputs": [],
            "source": [
                "if sample:\n",
                "    # subsample the data\n",
                "    n = 100\n",
                "    # Assuming df is your DataFrame and 'column_name' is the column you want to subsample by\n",
                "    df = df.groupby(\"oneb_Metadata_Treatment_Dose_Inhibitor_Dose\").apply(\n",
                "        lambda x: x.sample(n)\n",
                "    )\n",
                "else:\n",
                "    pass"
            ]
        },
        {
            "cell_type": "code",
            "execution_count": null,
            "id": "0bd3d695",
            "metadata": {
                "execution": {
                    "iopub.execute_input": "2024-03-30T15:31:36.593283Z",
                    "iopub.status.busy": "2024-03-30T15:31:36.592875Z",
                    "iopub.status.idle": "2024-03-30T15:31:43.550266Z",
                    "shell.execute_reply": "2024-03-30T15:31:43.549135Z"
                },
                "papermill": {
                    "duration": 6.979198,
                    "end_time": "2024-03-30T15:31:43.556799",
                    "exception": false,
                    "start_time": "2024-03-30T15:31:36.577601",
                    "status": "completed"
                },
                "tags": []
            },
            "outputs": [],
            "source": [
                "# Code snippet for metadata extraction by Jenna Tomkinson\n",
                "df_metadata = list(df.columns[df.columns.str.contains(\"Metadata\")])\n",
                "# define which columns are data and which are descriptive\n",
                "df_descriptive = df[df_metadata]\n",
                "df_values = df.drop(columns=df_metadata)"
            ]
        },
        {
            "cell_type": "code",
            "execution_count": null,
            "id": "575ceaf7",
            "metadata": {
                "execution": {
                    "iopub.execute_input": "2024-03-30T15:31:43.574619Z",
                    "iopub.status.busy": "2024-03-30T15:31:43.574359Z",
                    "iopub.status.idle": "2024-03-30T15:31:43.584699Z",
                    "shell.execute_reply": "2024-03-30T15:31:43.584184Z"
                },
                "papermill": {
                    "duration": 0.020521,
                    "end_time": "2024-03-30T15:31:43.586161",
                    "exception": false,
                    "start_time": "2024-03-30T15:31:43.565640",
                    "status": "completed"
                },
                "tags": []
            },
            "outputs": [],
            "source": [
                "# set umap parameters\n",
                "umap_params = umap.UMAP(\n",
                "    n_components=2,\n",
                "    spread=1.1,\n",
                "    min_dist=0.8,\n",
                "    init=\"random\",\n",
                "    metric=\"cosine\",\n",
                "    random_state=0,\n",
                ")"
            ]
        },
        {
            "cell_type": "code",
            "execution_count": null,
            "id": "56199d6d",
            "metadata": {
                "execution": {
                    "iopub.execute_input": "2024-03-30T15:31:43.592724Z",
                    "iopub.status.busy": "2024-03-30T15:31:43.592443Z",
                    "iopub.status.idle": "2024-03-30T15:32:17.143087Z",
                    "shell.execute_reply": "2024-03-30T15:32:17.142549Z"
                },
                "papermill": {
                    "duration": 33.55584,
                    "end_time": "2024-03-30T15:32:17.144470",
                    "exception": false,
                    "start_time": "2024-03-30T15:31:43.588630",
                    "status": "completed"
                },
                "tags": []
            },
            "outputs": [],
            "source": [
                "# fit and transform data for umap\n",
                "proj_2d = umap_params.fit_transform(df_values)\n",
                "# add umap coordinates to dataframe of metadata and raw data\n",
                "df_values[\"umap_1\"] = proj_2d[:, 0]\n",
                "df_values[\"umap_2\"] = proj_2d[:, 1]"
            ]
        },
        {
            "cell_type": "code",
            "execution_count": null,
            "id": "0b3ad10c",
            "metadata": {
                "execution": {
                    "iopub.execute_input": "2024-03-30T15:32:17.150172Z",
                    "iopub.status.busy": "2024-03-30T15:32:17.149704Z",
                    "iopub.status.idle": "2024-03-30T15:32:17.152692Z",
                    "shell.execute_reply": "2024-03-30T15:32:17.152248Z"
                },
                "papermill": {
                    "duration": 0.007012,
                    "end_time": "2024-03-30T15:32:17.153775",
                    "exception": false,
                    "start_time": "2024-03-30T15:32:17.146763",
                    "status": "completed"
                },
                "tags": []
            },
            "outputs": [],
            "source": [
                "df_values[\"oneb_Metadata_Treatment_Dose_Inhibitor_Dose\"] = df_descriptive[\n",
                "    \"oneb_Metadata_Treatment_Dose_Inhibitor_Dose\"\n",
                "]"
            ]
        },
        {
            "cell_type": "code",
            "execution_count": null,
            "id": "973e5764",
            "metadata": {
                "execution": {
                    "iopub.execute_input": "2024-03-30T15:32:17.158590Z",
                    "iopub.status.busy": "2024-03-30T15:32:17.158151Z",
                    "iopub.status.idle": "2024-03-30T15:32:17.758432Z",
                    "shell.execute_reply": "2024-03-30T15:32:17.757868Z"
                },
                "papermill": {
                    "duration": 0.60427,
                    "end_time": "2024-03-30T15:32:17.759771",
                    "exception": false,
                    "start_time": "2024-03-30T15:32:17.155501",
                    "status": "completed"
                },
                "tags": []
            },
            "outputs": [],
            "source": [
                "# randomize the rows of the dataframe to plot the order of the data evenly\n",
                "df_values = df_values.sample(frac=1, random_state=0)\n",
                "\n",
                "if sample:\n",
                "    df_values_path = pathlib.Path(\n",
                "        f\"../results/{cell_type}_umap_values_morphology_sample_{n}.parquet\"\n",
                "    )\n",
                "else:\n",
                "    df_values_path = pathlib.Path(\n",
                "        f\"../results/{cell_type}_umap_values_morphology_all_cells.parquet\"\n",
                "    )\n",
                "# if path does not exist create it\n",
                "df_values_path.parent.mkdir(parents=True, exist_ok=True)\n",
                "# save the dataframe as a parquet file\n",
                "df_values.to_parquet(df_values_path)"
            ]
        },
        {
            "cell_type": "code",
            "execution_count": null,
            "id": "4512ea20",
            "metadata": {
                "execution": {
                    "iopub.execute_input": "2024-03-30T15:32:17.764967Z",
                    "iopub.status.busy": "2024-03-30T15:32:17.764679Z",
                    "iopub.status.idle": "2024-03-30T15:32:18.316175Z",
                    "shell.execute_reply": "2024-03-30T15:32:18.315569Z"
                },
                "papermill": {
                    "duration": 0.564522,
                    "end_time": "2024-03-30T15:32:18.326496",
                    "exception": false,
                    "start_time": "2024-03-30T15:32:17.761974",
                    "status": "completed"
                },
                "tags": []
            },
            "outputs": [],
            "source": [
                "# Figure Showing UMAP of Clusters vs Treatment\n",
                "# figure size set\n",
                "plt.figure(figsize=(10, 10))\n",
                "sns.scatterplot(\n",
                "    data=df_values,\n",
                "    x=\"umap_1\",\n",
                "    y=\"umap_2\",\n",
                "    hue=\"oneb_Metadata_Treatment_Dose_Inhibitor_Dose\",\n",
                "    legend=\"full\",\n",
                "    alpha=0.3,\n",
                ")\n",
                "plt.title(\"Visualized on umap\")\n",
                "plt.legend(bbox_to_anchor=(1.02, 1), loc=\"upper left\", borderaxespad=0)\n",
                "plt.show()"
            ]
        }
    ],
    "metadata": {
        "kernelspec": {
            "display_name": "Interstellar",
            "language": "python",
            "name": "python3"
        },
        "language_info": {
            "codemirror_mode": {
                "name": "ipython",
                "version": 3
            },
            "file_extension": ".py",
            "mimetype": "text/x-python",
            "name": "python",
            "nbconvert_exporter": "python",
            "pygments_lexer": "ipython3",
            "version": "3.10.12"
        },
        "papermill": {
            "default_parameters": {},
            "duration": 734.997495,
            "end_time": "2024-03-30T15:32:20.788092",
            "environment_variables": {},
            "exception": null,
            "input_path": "1.umap_analysis_plate2.ipynb",
            "output_path": "1.umap_analysis_plate2.ipynb",
            "parameters": {
                "cell_type": "PBMC",
                "sample": false
            },
            "start_time": "2024-03-30T15:20:05.790597",
            "version": "2.4.0"
        },
        "vscode": {
            "interpreter": {
                "hash": "72ae02083a9ca7d143c492d1aec380c7bf553ec51bd66e90e72bba65228121b6"
            }
        }
    },
    "nbformat": 4,
    "nbformat_minor": 5
}
