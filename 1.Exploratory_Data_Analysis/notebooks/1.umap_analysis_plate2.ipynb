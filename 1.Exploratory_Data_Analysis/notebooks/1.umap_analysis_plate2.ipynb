{
 "cells": [
  {
   "attachments": {},
   "cell_type": "markdown",
   "id": "1725c6c1",
   "metadata": {
    "papermill": {
     "duration": 0.00415,
     "end_time": "2025-01-07T04:58:22.261596",
     "exception": false,
     "start_time": "2025-01-07T04:58:22.257446",
     "status": "completed"
    },
    "tags": []
   },
   "source": [
    "## Plate 2"
   ]
  },
  {
   "cell_type": "code",
   "execution_count": 1,
   "id": "5c4f9771",
   "metadata": {
    "execution": {
     "iopub.execute_input": "2025-01-07T04:58:22.265573Z",
     "iopub.status.busy": "2025-01-07T04:58:22.265270Z",
     "iopub.status.idle": "2025-01-07T04:58:29.859914Z",
     "shell.execute_reply": "2025-01-07T04:58:29.859229Z"
    },
    "papermill": {
     "duration": 7.597959,
     "end_time": "2025-01-07T04:58:29.861346",
     "exception": false,
     "start_time": "2025-01-07T04:58:22.263387",
     "status": "completed"
    },
    "tags": []
   },
   "outputs": [],
   "source": [
    "import ast\n",
    "import itertools\n",
    "import pathlib\n",
    "import sys\n",
    "\n",
    "import matplotlib.pyplot as plt\n",
    "import numpy as np\n",
    "import pandas as pd\n",
    "import pyarrow.parquet as pq\n",
    "import seaborn as sns\n",
    "import toml\n",
    "import umap"
   ]
  },
  {
   "cell_type": "code",
   "execution_count": 2,
   "id": "21986ff2",
   "metadata": {
    "execution": {
     "iopub.execute_input": "2025-01-07T04:58:29.870916Z",
     "iopub.status.busy": "2025-01-07T04:58:29.870497Z",
     "iopub.status.idle": "2025-01-07T04:58:29.873174Z",
     "shell.execute_reply": "2025-01-07T04:58:29.872766Z"
    },
    "papermill": {
     "duration": 0.005719,
     "end_time": "2025-01-07T04:58:29.873977",
     "exception": false,
     "start_time": "2025-01-07T04:58:29.868258",
     "status": "completed"
    },
    "tags": [
     "injected-parameters"
    ]
   },
   "outputs": [],
   "source": [
    "# Parameters\n",
    "cell_type = \"PBMC\"\n",
    "sample = False\n"
   ]
  },
  {
   "cell_type": "code",
   "execution_count": 3,
   "id": "34e6bdf8",
   "metadata": {
    "execution": {
     "iopub.execute_input": "2025-01-07T04:58:29.878003Z",
     "iopub.status.busy": "2025-01-07T04:58:29.877477Z",
     "iopub.status.idle": "2025-01-07T04:58:29.881171Z",
     "shell.execute_reply": "2025-01-07T04:58:29.880743Z"
    },
    "papermill": {
     "duration": 0.006574,
     "end_time": "2025-01-07T04:58:29.881968",
     "exception": false,
     "start_time": "2025-01-07T04:58:29.875394",
     "status": "completed"
    },
    "tags": []
   },
   "outputs": [
    {
     "name": "stdout",
     "output_type": "stream",
     "text": [
      "15\n",
      "['DMSO_0.100_%_DMSO_0.025_%', 'Thapsigargin_1.000_uM_DMSO_0.025_%', 'Thapsigargin_10.000_uM_DMSO_0.025_%', 'H2O2_100.000_uM_DMSO_0.025_%', 'H2O2_100.000_nM_DMSO_0.025_%', 'Flagellin_0.100_ug_per_ml_DMSO_0.025_%', 'Flagellin_1.000_ug_per_ml_DMSO_0.025_%', 'LPS_0.010_ug_per_ml_DMSO_0.025_%', 'LPS_0.100_ug_per_ml_DMSO_0.025_%', 'LPS_1.000_ug_per_ml_DMSO_0.025_%', 'LPS_10.000_ug_per_ml_DMSO_0.025_%', 'LPS_100.000_ug_per_ml_DMSO_0.025_%', 'LPS_Nigericin_1.000_ug_per_ml_1.000_uM_DMSO_0.025_%', 'LPS_Nigericin_1.000_ug_per_ml_3.000_uM_DMSO_0.025_%', 'LPS_Nigericin_1.000_ug_per_ml_10.000_uM_DMSO_0.025_%']\n"
     ]
    }
   ],
   "source": [
    "# read in toml file\n",
    "\n",
    "# set up the path\n",
    "toml_path = pathlib.Path(\"../utils/params.toml\")\n",
    "# read in the toml file\n",
    "params = toml.load(toml_path)\n",
    "list_of_treatments = params[\"list_of_treatments\"][\"treatments\"]\n",
    "print(len(list_of_treatments))\n",
    "print(list_of_treatments)"
   ]
  },
  {
   "cell_type": "code",
   "execution_count": 4,
   "id": "6be8e024",
   "metadata": {
    "execution": {
     "iopub.execute_input": "2025-01-07T04:58:29.885516Z",
     "iopub.status.busy": "2025-01-07T04:58:29.885230Z",
     "iopub.status.idle": "2025-01-07T05:00:03.635588Z",
     "shell.execute_reply": "2025-01-07T05:00:03.634749Z"
    },
    "papermill": {
     "duration": 93.753897,
     "end_time": "2025-01-07T05:00:03.637338",
     "exception": false,
     "start_time": "2025-01-07T04:58:29.883441",
     "status": "completed"
    },
    "tags": []
   },
   "outputs": [],
   "source": [
    "# Set path to parquet file\n",
    "path = pathlib.Path(f\"../../data/{cell_type}_preprocessed_sc_norm.parquet\").resolve(\n",
    "    strict=True\n",
    ")\n",
    "# Read in parquet file\n",
    "df = pq.read_table(path).to_pandas()"
   ]
  },
  {
   "cell_type": "code",
   "execution_count": 5,
   "id": "2fdd6c3d",
   "metadata": {
    "execution": {
     "iopub.execute_input": "2025-01-07T05:00:03.648994Z",
     "iopub.status.busy": "2025-01-07T05:00:03.648257Z",
     "iopub.status.idle": "2025-01-07T05:00:03.651569Z",
     "shell.execute_reply": "2025-01-07T05:00:03.651093Z"
    },
    "papermill": {
     "duration": 0.007011,
     "end_time": "2025-01-07T05:00:03.652452",
     "exception": false,
     "start_time": "2025-01-07T05:00:03.645441",
     "status": "completed"
    },
    "tags": []
   },
   "outputs": [],
   "source": [
    "if sample:\n",
    "    # subsample the data\n",
    "    n = 100\n",
    "    # Assuming df is your DataFrame and 'column_name' is the column you want to subsample by\n",
    "    df = df.groupby(\"oneb_Metadata_Treatment_Dose_Inhibitor_Dose\").apply(\n",
    "        lambda x: x.sample(n)\n",
    "    )\n",
    "else:\n",
    "    pass"
   ]
  },
  {
   "cell_type": "code",
   "execution_count": 6,
   "id": "0bd3d695",
   "metadata": {
    "execution": {
     "iopub.execute_input": "2025-01-07T05:00:03.656685Z",
     "iopub.status.busy": "2025-01-07T05:00:03.656336Z",
     "iopub.status.idle": "2025-01-07T05:00:14.231297Z",
     "shell.execute_reply": "2025-01-07T05:00:14.230740Z"
    },
    "papermill": {
     "duration": 10.578333,
     "end_time": "2025-01-07T05:00:14.232625",
     "exception": false,
     "start_time": "2025-01-07T05:00:03.654292",
     "status": "completed"
    },
    "tags": []
   },
   "outputs": [],
   "source": [
    "# Code snippet for metadata extraction by Jenna Tomkinson\n",
    "df_metadata = list(df.columns[df.columns.str.contains(\"Metadata\")])\n",
    "# define which columns are data and which are descriptive\n",
    "df_descriptive = df[df_metadata]\n",
    "df_values = df.drop(columns=df_metadata)"
   ]
  },
  {
   "cell_type": "code",
   "execution_count": 7,
   "id": "575ceaf7",
   "metadata": {
    "execution": {
     "iopub.execute_input": "2025-01-07T05:00:14.243013Z",
     "iopub.status.busy": "2025-01-07T05:00:14.242642Z",
     "iopub.status.idle": "2025-01-07T05:00:14.245369Z",
     "shell.execute_reply": "2025-01-07T05:00:14.244947Z"
    },
    "papermill": {
     "duration": 0.005846,
     "end_time": "2025-01-07T05:00:14.246180",
     "exception": false,
     "start_time": "2025-01-07T05:00:14.240334",
     "status": "completed"
    },
    "tags": []
   },
   "outputs": [],
   "source": [
    "# set umap parameters\n",
    "umap_params = umap.UMAP(\n",
    "    n_components=2,\n",
    "    spread=1.1,\n",
    "    min_dist=0.8,\n",
    "    init=\"random\",\n",
    "    metric=\"cosine\",\n",
    "    random_state=0,\n",
    ")"
   ]
  },
  {
   "cell_type": "code",
   "execution_count": 8,
   "id": "56199d6d",
   "metadata": {
    "execution": {
     "iopub.execute_input": "2025-01-07T05:00:14.249827Z",
     "iopub.status.busy": "2025-01-07T05:00:14.249592Z",
     "iopub.status.idle": "2025-01-07T07:56:53.101666Z",
     "shell.execute_reply": "2025-01-07T07:56:53.100910Z"
    },
    "papermill": {
     "duration": 10598.863103,
     "end_time": "2025-01-07T07:56:53.110748",
     "exception": false,
     "start_time": "2025-01-07T05:00:14.247645",
     "status": "completed"
    },
    "tags": []
   },
   "outputs": [
    {
     "name": "stderr",
     "output_type": "stream",
     "text": [
      "/projects/mlippincott@xsede.org/software/anaconda/envs/Interstellar_python/lib/python3.10/site-packages/umap/umap_.py:1943: UserWarning: n_jobs value -1 overridden to 1 by setting random_state. Use no seed for parallelism.\n",
      "  warn(f\"n_jobs value {self.n_jobs} overridden to 1 by setting random_state. Use no seed for parallelism.\")\n"
     ]
    },
    {
     "name": "stderr",
     "output_type": "stream",
     "text": [
      "/scratch/alpine/mlippincott@xsede.org/.tmp/ipykernel_1222564/3456001414.py:4: SettingWithCopyWarning: \n",
      "A value is trying to be set on a copy of a slice from a DataFrame.\n",
      "Try using .loc[row_indexer,col_indexer] = value instead\n",
      "\n",
      "See the caveats in the documentation: https://pandas.pydata.org/pandas-docs/stable/user_guide/indexing.html#returning-a-view-versus-a-copy\n",
      "  df_descriptive[\"umap_1\"] = proj_2d[:, 0]\n",
      "/scratch/alpine/mlippincott@xsede.org/.tmp/ipykernel_1222564/3456001414.py:5: SettingWithCopyWarning: \n",
      "A value is trying to be set on a copy of a slice from a DataFrame.\n",
      "Try using .loc[row_indexer,col_indexer] = value instead\n",
      "\n",
      "See the caveats in the documentation: https://pandas.pydata.org/pandas-docs/stable/user_guide/indexing.html#returning-a-view-versus-a-copy\n",
      "  df_descriptive[\"umap_2\"] = proj_2d[:, 1]\n"
     ]
    }
   ],
   "source": [
    "# fit and transform data for umap\n",
    "proj_2d = umap_params.fit_transform(df_values)\n",
    "# add umap coordinates to dataframe of metadata and raw data\n",
    "df_descriptive[\"umap_1\"] = proj_2d[:, 0]\n",
    "df_descriptive[\"umap_2\"] = proj_2d[:, 1]"
   ]
  },
  {
   "cell_type": "code",
   "execution_count": 9,
   "id": "973e5764",
   "metadata": {
    "execution": {
     "iopub.execute_input": "2025-01-07T07:56:53.134585Z",
     "iopub.status.busy": "2025-01-07T07:56:53.134087Z",
     "iopub.status.idle": "2025-01-07T07:57:01.582677Z",
     "shell.execute_reply": "2025-01-07T07:57:01.581633Z"
    },
    "papermill": {
     "duration": 8.453368,
     "end_time": "2025-01-07T07:57:01.584373",
     "exception": false,
     "start_time": "2025-01-07T07:56:53.131005",
     "status": "completed"
    },
    "tags": []
   },
   "outputs": [],
   "source": [
    "if sample:\n",
    "    df_values_path = pathlib.Path(\n",
    "        f\"../results/{cell_type}_umap_values_morphology_sample_{n}.parquet\"\n",
    "    )\n",
    "else:\n",
    "    df_values_path = pathlib.Path(\n",
    "        f\"../results/{cell_type}_umap_values_morphology_all_cells.parquet\"\n",
    "    )\n",
    "# if path does not exist create it\n",
    "df_values_path.parent.mkdir(parents=True, exist_ok=True)\n",
    "# save the dataframe as a parquet file\n",
    "df_descriptive.to_parquet(df_values_path)"
   ]
  }
 ],
 "metadata": {
  "kernelspec": {
   "display_name": "Interstellar",
   "language": "python",
   "name": "python3"
  },
  "language_info": {
   "codemirror_mode": {
    "name": "ipython",
    "version": 3
   },
   "file_extension": ".py",
   "mimetype": "text/x-python",
   "name": "python",
   "nbconvert_exporter": "python",
   "pygments_lexer": "ipython3",
   "version": "3.10.13"
  },
  "papermill": {
   "default_parameters": {},
   "duration": 10733.202703,
   "end_time": "2025-01-07T07:57:12.169292",
   "environment_variables": {},
   "exception": null,
   "input_path": "1.umap_analysis_plate2.ipynb",
   "output_path": "1.umap_analysis_plate2.ipynb",
   "parameters": {
    "cell_type": "PBMC",
    "sample": false
   },
   "start_time": "2025-01-07T04:58:18.966589",
   "version": "2.4.0"
  },
  "vscode": {
   "interpreter": {
    "hash": "72ae02083a9ca7d143c492d1aec380c7bf553ec51bd66e90e72bba65228121b6"
   }
  }
 },
 "nbformat": 4,
 "nbformat_minor": 5
}