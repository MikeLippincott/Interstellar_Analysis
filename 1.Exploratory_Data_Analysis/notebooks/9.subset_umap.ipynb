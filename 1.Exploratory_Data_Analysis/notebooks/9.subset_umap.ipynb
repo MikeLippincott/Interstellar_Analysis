{
 "cells": [
  {
   "cell_type": "code",
   "execution_count": 1,
   "metadata": {},
   "outputs": [],
   "source": [
    "import pathlib\n",
    "\n",
    "import numpy as np\n",
    "import pandas as pd\n",
    "import toml\n",
    "import umap\n",
    "from tqdm import tqdm"
   ]
  },
  {
   "cell_type": "code",
   "execution_count": null,
   "metadata": {
    "tags": [
     "injected-parameters"
    ]
   },
   "outputs": [],
   "source": [
    "# Parameters\n",
    "cell_type = \"SHSY5Y\""
   ]
  },
  {
   "cell_type": "code",
   "execution_count": null,
   "metadata": {},
   "outputs": [],
   "source": [
    "# read in toml file\n",
    "\n",
    "# set up the path\n",
    "toml_path = pathlib.Path(\"../utils/params.toml\")\n",
    "# read in the toml file\n",
    "params = toml.load(toml_path)\n",
    "list_of_treatments = params[\"list_of_treatments\"][\"treatments\"]\n",
    "print(len(list_of_treatments))\n",
    "print(list_of_treatments)"
   ]
  },
  {
   "cell_type": "code",
   "execution_count": null,
   "metadata": {},
   "outputs": [],
   "source": [
    "# Set path to parquet file\n",
    "path = pathlib.Path(f\"../../data/{cell_type}_preprocessed_sc_norm.parquet\").resolve(\n",
    "    strict=True\n",
    ")\n",
    "# Read in parquet file\n",
    "df = pd.read_parquet(path)"
   ]
  },
  {
   "cell_type": "code",
   "execution_count": null,
   "metadata": {},
   "outputs": [],
   "source": [
    "# Code snippet for metadata extraction by Jenna Tomkinson\n",
    "df_metadata = list(df.columns[df.columns.str.contains(\"Metadata\")])\n",
    "# define which columns are data and which are descriptive\n",
    "df_descriptive = df[df_metadata]\n",
    "df_values = df.drop(columns=df_metadata)"
   ]
  },
  {
   "cell_type": "code",
   "execution_count": null,
   "metadata": {},
   "outputs": [],
   "source": [
    "anova_path = pathlib.Path(f\"../results/{cell_type}_combined.parquet\")\n",
    "\n",
    "anova_results = pd.read_parquet(anova_path)\n",
    "anova_results.head()"
   ]
  },
  {
   "cell_type": "code",
   "execution_count": null,
   "metadata": {},
   "outputs": [],
   "source": [
    "# create a column that adds group1 and group2 together\n",
    "anova_results[\"group\"] = anova_results[\"group1\"] + \"_\" + anova_results[\"group2\"]\n",
    "print(anova_results.shape)\n",
    "\n",
    "# filter out rows that have p-adj_abs > 0.05\n",
    "anova_results = anova_results[anova_results[\"p-adj_abs\"] < 0.05]\n",
    "print(anova_results.shape)\n",
    "\n",
    "# change the group names to replace healthy with control\n",
    "anova_results[\"group\"] = anova_results[\"group\"].str.replace(\"healthy\", \"control\")\n",
    "\n",
    "# create the three df sets for a venn diagram\n",
    "a_h = anova_results[anova_results[\"group\"] == \"apoptosis_control\"][\"features\"]\n",
    "a_p = anova_results[anova_results[\"group\"] == \"apoptosis_pyroptosis\"][\"features\"]\n",
    "h_p = anova_results[anova_results[\"group\"] == \"control_pyroptosis\"][\"features\"]\n",
    "\n",
    "# create a list of the three df sets\n",
    "a_h_list = a_h.tolist()\n",
    "a_p_list = a_p.tolist()\n",
    "h_p_list = h_p.tolist()\n",
    "\n",
    "# add sets together\n",
    "a_h__a_p = np.union1d(a_h_list, a_p_list)\n",
    "a_h__h_p = np.union1d(a_h_list, h_p_list)\n",
    "a_p__h_p = np.union1d(a_p_list, h_p_list)"
   ]
  },
  {
   "cell_type": "code",
   "execution_count": null,
   "metadata": {},
   "outputs": [],
   "source": [
    "# get the unique features for each set\n",
    "a_h_unique = np.setdiff1d(a_h_list, a_p__h_p)\n",
    "print(len(a_h_unique))\n",
    "\n",
    "a_p_unique = np.setdiff1d(a_p_list, a_h__h_p)\n",
    "print(len(a_p_unique))\n",
    "\n",
    "h_p_unique = np.setdiff1d(h_p_list, a_h__a_p)\n",
    "print(len(h_p_unique))\n",
    "\n",
    "# get the common features for each set\n",
    "a_h__a_p_common = np.intersect1d(a_h_list, a_p_list)\n",
    "a_h__a_p_common = np.setdiff1d(a_h__a_p_common, h_p_list)\n",
    "print(len(a_h__a_p_common))\n",
    "\n",
    "a_h__h_p_common = np.intersect1d(a_h_list, h_p_list)\n",
    "a_h__h_p_common = np.setdiff1d(a_h__h_p_common, a_p_list)\n",
    "print(len(a_h__h_p_common))\n",
    "\n",
    "a_p__h_p_common = np.intersect1d(a_p_list, h_p_list)\n",
    "a_p__h_p_common = np.setdiff1d(a_p__h_p_common, a_h_list)\n",
    "print(len(a_p__h_p_common))\n",
    "\n",
    "# all three set intersection\n",
    "a_h__a_p__h_p_common = np.intersect1d(a_h_list, a_p_list)\n",
    "a_h__a_p__h_p_common = np.intersect1d(a_h__a_p__h_p_common, h_p_list)\n",
    "print(len(a_h__a_p__h_p_common))"
   ]
  },
  {
   "cell_type": "code",
   "execution_count": null,
   "metadata": {},
   "outputs": [],
   "source": [
    "# create a list of each list of features\n",
    "dict_of_feature_lists = {}\n",
    "dict_of_feature_lists[\"a_h_unique\"] = list(a_h_unique)\n",
    "dict_of_feature_lists[\"a_p_unique\"] = list(a_p_unique)\n",
    "dict_of_feature_lists[\"h_p_unique\"] = list(h_p_unique)\n",
    "dict_of_feature_lists[\"a_h__a_p_common\"] = list(a_h__a_p_common)\n",
    "dict_of_feature_lists[\"a_h__h_p_common\"] = list(a_h__h_p_common)\n",
    "dict_of_feature_lists[\"a_p__h_p_common\"] = list(a_p__h_p_common)\n",
    "dict_of_feature_lists[\"a_h__a_p__h_p_common\"] = list(a_h__a_p__h_p_common)"
   ]
  },
  {
   "cell_type": "code",
   "execution_count": null,
   "metadata": {},
   "outputs": [],
   "source": [
    "# set umap parameters\n",
    "umap_params = umap.UMAP(\n",
    "    n_components=2,\n",
    "    spread=1.1,\n",
    "    min_dist=0.8,\n",
    "    init=\"random\",\n",
    "    metric=\"cosine\",\n",
    "    # random_state=0,\n",
    "    n_jobs=-1,\n",
    ")"
   ]
  },
  {
   "cell_type": "code",
   "execution_count": 11,
   "metadata": {},
   "outputs": [],
   "source": [
    "final_df_dict = {}\n",
    "for key, value in tqdm(dict_of_feature_lists.items()):\n",
    "    print(key)\n",
    "    print(len(value))\n",
    "    df = df_values[df_values.columns[df_values.columns.isin(value)]]\n",
    "    umap_results = umap_params.fit_transform(df)\n",
    "    results_df = pd.DataFrame(umap_results, columns=[\"UMAP1\", \"UMAP2\"])\n",
    "    results_df.loc[:, \"Metadata_Treatment_Dose_Inhibitor_Dose\"] = df_descriptive[\n",
    "        \"oneb_Metadata_Treatment_Dose_Inhibitor_Dose\"\n",
    "    ]\n",
    "    results_df.loc[:, \"Dataset_comparison\"] = key\n",
    "    final_df_dict[key] = results_df\n",
    "final_df = pd.concat(final_df_dict.values(), ignore_index=True)"
   ]
  },
  {
   "cell_type": "code",
   "execution_count": null,
   "metadata": {},
   "outputs": [],
   "source": [
    "final_df"
   ]
  }
 ],
 "metadata": {
  "kernelspec": {
   "display_name": "Interstellar",
   "language": "python",
   "name": "python3"
  },
  "language_info": {
   "codemirror_mode": {
    "name": "ipython",
    "version": 3
   },
   "file_extension": ".py",
   "mimetype": "text/x-python",
   "name": "python",
   "nbconvert_exporter": "python",
   "pygments_lexer": "ipython3",
   "version": "3.10.12"
  }
 },
 "nbformat": 4,
 "nbformat_minor": 2
}
