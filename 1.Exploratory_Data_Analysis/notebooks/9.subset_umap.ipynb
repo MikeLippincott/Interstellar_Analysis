{
    "cells": [
        {
            "cell_type": "markdown",
            "id": "1129c518",
            "metadata": {
                "tags": [
                    "papermill-error-cell-tag"
                ]
            },
            "source": [
                "<span style=\"color:red; font-family:Helvetica Neue, Helvetica, Arial, sans-serif; font-size:2em;\">An Exception was encountered at '<a href=\"#papermill-error-cell\">In [6]</a>'.</span>"
            ]
        },
        {
            "cell_type": "code",
            "execution_count": 1,
            "id": "1ec7eeb7",
            "metadata": {
                "execution": {
                    "iopub.execute_input": "2024-03-30T14:52:34.602751Z",
                    "iopub.status.busy": "2024-03-30T14:52:34.602542Z",
                    "iopub.status.idle": "2024-03-30T14:52:54.253864Z",
                    "shell.execute_reply": "2024-03-30T14:52:54.253377Z"
                },
                "papermill": {
                    "duration": 19.65648,
                    "end_time": "2024-03-30T14:52:54.255427",
                    "exception": false,
                    "start_time": "2024-03-30T14:52:34.598947",
                    "status": "completed"
                },
                "tags": []
            },
            "outputs": [],
            "source": [
                "import pathlib\n",
                "\n",
                "import numpy as np\n",
                "import pandas as pd\n",
                "import toml\n",
                "import umap\n",
                "from tqdm import tqdm"
            ]
        },
        {
            "cell_type": "code",
            "execution_count": 2,
            "id": "98b04570",
            "metadata": {
                "execution": {
                    "iopub.execute_input": "2024-03-30T14:52:54.262006Z",
                    "iopub.status.busy": "2024-03-30T14:52:54.261319Z",
                    "iopub.status.idle": "2024-03-30T14:52:54.264504Z",
                    "shell.execute_reply": "2024-03-30T14:52:54.263920Z"
                },
                "papermill": {
                    "duration": 0.007519,
                    "end_time": "2024-03-30T14:52:54.265505",
                    "exception": false,
                    "start_time": "2024-03-30T14:52:54.257986",
                    "status": "completed"
                },
                "tags": [
                    "injected-parameters"
                ]
            },
            "outputs": [],
            "source": [
                "# Parameters\n",
                "cell_type = \"PBMC\""
            ]
        },
        {
            "cell_type": "code",
            "execution_count": 3,
            "id": "d7b1d307",
            "metadata": {
                "execution": {
                    "iopub.execute_input": "2024-03-30T14:52:54.275510Z",
                    "iopub.status.busy": "2024-03-30T14:52:54.275113Z",
                    "iopub.status.idle": "2024-03-30T14:52:54.279634Z",
                    "shell.execute_reply": "2024-03-30T14:52:54.279144Z"
                },
                "papermill": {
                    "duration": 0.026282,
                    "end_time": "2024-03-30T14:52:54.295126",
                    "exception": false,
                    "start_time": "2024-03-30T14:52:54.268844",
                    "status": "completed"
                },
                "tags": []
            },
            "outputs": [
                {
                    "name": "stdout",
                    "output_type": "stream",
                    "text": [
                        "15\n",
                        "['DMSO_0.100_%_DMSO_0.025_%', 'Thapsigargin_1.000_uM_DMSO_0.025_%', 'Thapsigargin_10.000_uM_DMSO_0.025_%', 'H2O2_100.000_uM_DMSO_0.025_%', 'H2O2_100.000_nM_DMSO_0.025_%', 'Flagellin_0.100_ug_per_ml_DMSO_0.025_%', 'Flagellin_1.000_ug_per_ml_DMSO_0.025_%', 'LPS_0.010_ug_per_ml_DMSO_0.025_%', 'LPS_0.100_ug_per_ml_DMSO_0.025_%', 'LPS_1.000_ug_per_ml_DMSO_0.025_%', 'LPS_10.000_ug_per_ml_DMSO_0.025_%', 'LPS_100.000_ug_per_ml_DMSO_0.025_%', 'LPS_Nigericin_1.000_ug_per_ml_1.000_uM_DMSO_0.025_%', 'LPS_Nigericin_1.000_ug_per_ml_3.000_uM_DMSO_0.025_%', 'LPS_Nigericin_1.000_ug_per_ml_10.000_uM_DMSO_0.025_%']\n"
                    ]
                }
            ],
            "source": [
                "# read in toml file\n",
                "\n",
                "# set up the path\n",
                "toml_path = pathlib.Path(\"../utils/params.toml\")\n",
                "# read in the toml file\n",
                "params = toml.load(toml_path)\n",
                "list_of_treatments = params[\"list_of_treatments\"][\"treatments\"]\n",
                "print(len(list_of_treatments))\n",
                "print(list_of_treatments)"
            ]
        },
        {
            "cell_type": "code",
            "execution_count": 4,
            "id": "758dc199",
            "metadata": {
                "execution": {
                    "iopub.execute_input": "2024-03-30T14:52:54.309012Z",
                    "iopub.status.busy": "2024-03-30T14:52:54.308776Z",
                    "iopub.status.idle": "2024-03-30T14:56:50.008249Z",
                    "shell.execute_reply": "2024-03-30T14:56:49.970410Z"
                },
                "papermill": {
                    "duration": 235.770536,
                    "end_time": "2024-03-30T14:56:50.076126",
                    "exception": false,
                    "start_time": "2024-03-30T14:52:54.305590",
                    "status": "completed"
                },
                "tags": []
            },
            "outputs": [],
            "source": [
                "# Set path to parquet file\n",
                "path = pathlib.Path(f\"../../data/{cell_type}_preprocessed_sc_norm.parquet\").resolve(\n",
                "    strict=True\n",
                ")\n",
                "# Read in parquet file\n",
                "df = pd.read_parquet(path)"
            ]
        },
        {
            "cell_type": "code",
            "execution_count": 5,
            "id": "5b0243dc",
            "metadata": {
                "execution": {
                    "iopub.execute_input": "2024-03-30T14:56:50.161944Z",
                    "iopub.status.busy": "2024-03-30T14:56:50.160445Z",
                    "iopub.status.idle": "2024-03-30T15:05:42.410089Z",
                    "shell.execute_reply": "2024-03-30T15:05:42.390588Z"
                },
                "papermill": {
                    "duration": 532.329711,
                    "end_time": "2024-03-30T15:05:42.445263",
                    "exception": false,
                    "start_time": "2024-03-30T14:56:50.115552",
                    "status": "completed"
                },
                "tags": []
            },
            "outputs": [],
            "source": [
                "# Code snippet for metadata extraction by Jenna Tomkinson\n",
                "df_metadata = list(df.columns[df.columns.str.contains(\"Metadata\")])\n",
                "# define which columns are data and which are descriptive\n",
                "df_descriptive = df[df_metadata]\n",
                "df_values = df.drop(columns=df_metadata)"
            ]
        },
        {
            "cell_type": "markdown",
            "id": "93e14ffd",
            "metadata": {
                "tags": [
                    "papermill-error-cell-tag"
                ]
            },
            "source": [
                "<span id=\"papermill-error-cell\" style=\"color:red; font-family:Helvetica Neue, Helvetica, Arial, sans-serif; font-size:2em;\">Execution using papermill encountered an exception here and stopped:</span>"
            ]
        },
        {
            "cell_type": "code",
            "execution_count": 6,
            "id": "2b99f2c2",
            "metadata": {
                "execution": {
                    "iopub.execute_input": "2024-03-30T15:05:42.490098Z",
                    "iopub.status.busy": "2024-03-30T15:05:42.489498Z",
                    "iopub.status.idle": "2024-03-30T15:05:45.713852Z",
                    "shell.execute_reply": "2024-03-30T15:05:45.713033Z"
                },
                "papermill": {
                    "duration": 3.268006,
                    "end_time": "2024-03-30T15:05:45.740548",
                    "exception": true,
                    "start_time": "2024-03-30T15:05:42.472542",
                    "status": "failed"
                },
                "tags": []
            },
            "outputs": [
                {
                    "ename": "FileNotFoundError",
                    "evalue": "[Errno 2] No such file or directory: '../results/PBMC_combined.parquet'",
                    "output_type": "error",
                    "traceback": [
                        "\u001b[0;31m---------------------------------------------------------------------------\u001b[0m",
                        "\u001b[0;31mFileNotFoundError\u001b[0m                         Traceback (most recent call last)",
                        "Cell \u001b[0;32mIn[6], line 3\u001b[0m\n\u001b[1;32m      1\u001b[0m anova_path \u001b[38;5;241m=\u001b[39m pathlib\u001b[38;5;241m.\u001b[39mPath(\u001b[38;5;124mf\u001b[39m\u001b[38;5;124m\"\u001b[39m\u001b[38;5;124m../results/\u001b[39m\u001b[38;5;132;01m{\u001b[39;00mcell_type\u001b[38;5;132;01m}\u001b[39;00m\u001b[38;5;124m_combined.parquet\u001b[39m\u001b[38;5;124m\"\u001b[39m)\n\u001b[0;32m----> 3\u001b[0m anova_results \u001b[38;5;241m=\u001b[39m \u001b[43mpd\u001b[49m\u001b[38;5;241;43m.\u001b[39;49m\u001b[43mread_parquet\u001b[49m\u001b[43m(\u001b[49m\u001b[43manova_path\u001b[49m\u001b[43m)\u001b[49m\n\u001b[1;32m      4\u001b[0m anova_results\u001b[38;5;241m.\u001b[39mhead()\n",
                        "File \u001b[0;32m~/miniconda3/envs/Interstellar_python/lib/python3.10/site-packages/pandas/io/parquet.py:667\u001b[0m, in \u001b[0;36mread_parquet\u001b[0;34m(path, engine, columns, storage_options, use_nullable_dtypes, dtype_backend, filesystem, filters, **kwargs)\u001b[0m\n\u001b[1;32m    664\u001b[0m     use_nullable_dtypes \u001b[38;5;241m=\u001b[39m \u001b[38;5;28;01mFalse\u001b[39;00m\n\u001b[1;32m    665\u001b[0m check_dtype_backend(dtype_backend)\n\u001b[0;32m--> 667\u001b[0m \u001b[38;5;28;01mreturn\u001b[39;00m \u001b[43mimpl\u001b[49m\u001b[38;5;241;43m.\u001b[39;49m\u001b[43mread\u001b[49m\u001b[43m(\u001b[49m\n\u001b[1;32m    668\u001b[0m \u001b[43m    \u001b[49m\u001b[43mpath\u001b[49m\u001b[43m,\u001b[49m\n\u001b[1;32m    669\u001b[0m \u001b[43m    \u001b[49m\u001b[43mcolumns\u001b[49m\u001b[38;5;241;43m=\u001b[39;49m\u001b[43mcolumns\u001b[49m\u001b[43m,\u001b[49m\n\u001b[1;32m    670\u001b[0m \u001b[43m    \u001b[49m\u001b[43mfilters\u001b[49m\u001b[38;5;241;43m=\u001b[39;49m\u001b[43mfilters\u001b[49m\u001b[43m,\u001b[49m\n\u001b[1;32m    671\u001b[0m \u001b[43m    \u001b[49m\u001b[43mstorage_options\u001b[49m\u001b[38;5;241;43m=\u001b[39;49m\u001b[43mstorage_options\u001b[49m\u001b[43m,\u001b[49m\n\u001b[1;32m    672\u001b[0m \u001b[43m    \u001b[49m\u001b[43muse_nullable_dtypes\u001b[49m\u001b[38;5;241;43m=\u001b[39;49m\u001b[43muse_nullable_dtypes\u001b[49m\u001b[43m,\u001b[49m\n\u001b[1;32m    673\u001b[0m \u001b[43m    \u001b[49m\u001b[43mdtype_backend\u001b[49m\u001b[38;5;241;43m=\u001b[39;49m\u001b[43mdtype_backend\u001b[49m\u001b[43m,\u001b[49m\n\u001b[1;32m    674\u001b[0m \u001b[43m    \u001b[49m\u001b[43mfilesystem\u001b[49m\u001b[38;5;241;43m=\u001b[39;49m\u001b[43mfilesystem\u001b[49m\u001b[43m,\u001b[49m\n\u001b[1;32m    675\u001b[0m \u001b[43m    \u001b[49m\u001b[38;5;241;43m*\u001b[39;49m\u001b[38;5;241;43m*\u001b[39;49m\u001b[43mkwargs\u001b[49m\u001b[43m,\u001b[49m\n\u001b[1;32m    676\u001b[0m \u001b[43m\u001b[49m\u001b[43m)\u001b[49m\n",
                        "File \u001b[0;32m~/miniconda3/envs/Interstellar_python/lib/python3.10/site-packages/pandas/io/parquet.py:267\u001b[0m, in \u001b[0;36mPyArrowImpl.read\u001b[0;34m(self, path, columns, filters, use_nullable_dtypes, dtype_backend, storage_options, filesystem, **kwargs)\u001b[0m\n\u001b[1;32m    264\u001b[0m \u001b[38;5;28;01mif\u001b[39;00m manager \u001b[38;5;241m==\u001b[39m \u001b[38;5;124m\"\u001b[39m\u001b[38;5;124marray\u001b[39m\u001b[38;5;124m\"\u001b[39m:\n\u001b[1;32m    265\u001b[0m     to_pandas_kwargs[\u001b[38;5;124m\"\u001b[39m\u001b[38;5;124msplit_blocks\u001b[39m\u001b[38;5;124m\"\u001b[39m] \u001b[38;5;241m=\u001b[39m \u001b[38;5;28;01mTrue\u001b[39;00m  \u001b[38;5;66;03m# type: ignore[assignment]\u001b[39;00m\n\u001b[0;32m--> 267\u001b[0m path_or_handle, handles, filesystem \u001b[38;5;241m=\u001b[39m \u001b[43m_get_path_or_handle\u001b[49m\u001b[43m(\u001b[49m\n\u001b[1;32m    268\u001b[0m \u001b[43m    \u001b[49m\u001b[43mpath\u001b[49m\u001b[43m,\u001b[49m\n\u001b[1;32m    269\u001b[0m \u001b[43m    \u001b[49m\u001b[43mfilesystem\u001b[49m\u001b[43m,\u001b[49m\n\u001b[1;32m    270\u001b[0m \u001b[43m    \u001b[49m\u001b[43mstorage_options\u001b[49m\u001b[38;5;241;43m=\u001b[39;49m\u001b[43mstorage_options\u001b[49m\u001b[43m,\u001b[49m\n\u001b[1;32m    271\u001b[0m \u001b[43m    \u001b[49m\u001b[43mmode\u001b[49m\u001b[38;5;241;43m=\u001b[39;49m\u001b[38;5;124;43m\"\u001b[39;49m\u001b[38;5;124;43mrb\u001b[39;49m\u001b[38;5;124;43m\"\u001b[39;49m\u001b[43m,\u001b[49m\n\u001b[1;32m    272\u001b[0m \u001b[43m\u001b[49m\u001b[43m)\u001b[49m\n\u001b[1;32m    273\u001b[0m \u001b[38;5;28;01mtry\u001b[39;00m:\n\u001b[1;32m    274\u001b[0m     pa_table \u001b[38;5;241m=\u001b[39m \u001b[38;5;28mself\u001b[39m\u001b[38;5;241m.\u001b[39mapi\u001b[38;5;241m.\u001b[39mparquet\u001b[38;5;241m.\u001b[39mread_table(\n\u001b[1;32m    275\u001b[0m         path_or_handle,\n\u001b[1;32m    276\u001b[0m         columns\u001b[38;5;241m=\u001b[39mcolumns,\n\u001b[0;32m   (...)\u001b[0m\n\u001b[1;32m    279\u001b[0m         \u001b[38;5;241m*\u001b[39m\u001b[38;5;241m*\u001b[39mkwargs,\n\u001b[1;32m    280\u001b[0m     )\n",
                        "File \u001b[0;32m~/miniconda3/envs/Interstellar_python/lib/python3.10/site-packages/pandas/io/parquet.py:140\u001b[0m, in \u001b[0;36m_get_path_or_handle\u001b[0;34m(path, fs, storage_options, mode, is_dir)\u001b[0m\n\u001b[1;32m    130\u001b[0m handles \u001b[38;5;241m=\u001b[39m \u001b[38;5;28;01mNone\u001b[39;00m\n\u001b[1;32m    131\u001b[0m \u001b[38;5;28;01mif\u001b[39;00m (\n\u001b[1;32m    132\u001b[0m     \u001b[38;5;129;01mnot\u001b[39;00m fs\n\u001b[1;32m    133\u001b[0m     \u001b[38;5;129;01mand\u001b[39;00m \u001b[38;5;129;01mnot\u001b[39;00m is_dir\n\u001b[0;32m   (...)\u001b[0m\n\u001b[1;32m    138\u001b[0m     \u001b[38;5;66;03m# fsspec resources can also point to directories\u001b[39;00m\n\u001b[1;32m    139\u001b[0m     \u001b[38;5;66;03m# this branch is used for example when reading from non-fsspec URLs\u001b[39;00m\n\u001b[0;32m--> 140\u001b[0m     handles \u001b[38;5;241m=\u001b[39m \u001b[43mget_handle\u001b[49m\u001b[43m(\u001b[49m\n\u001b[1;32m    141\u001b[0m \u001b[43m        \u001b[49m\u001b[43mpath_or_handle\u001b[49m\u001b[43m,\u001b[49m\u001b[43m \u001b[49m\u001b[43mmode\u001b[49m\u001b[43m,\u001b[49m\u001b[43m \u001b[49m\u001b[43mis_text\u001b[49m\u001b[38;5;241;43m=\u001b[39;49m\u001b[38;5;28;43;01mFalse\u001b[39;49;00m\u001b[43m,\u001b[49m\u001b[43m \u001b[49m\u001b[43mstorage_options\u001b[49m\u001b[38;5;241;43m=\u001b[39;49m\u001b[43mstorage_options\u001b[49m\n\u001b[1;32m    142\u001b[0m \u001b[43m    \u001b[49m\u001b[43m)\u001b[49m\n\u001b[1;32m    143\u001b[0m     fs \u001b[38;5;241m=\u001b[39m \u001b[38;5;28;01mNone\u001b[39;00m\n\u001b[1;32m    144\u001b[0m     path_or_handle \u001b[38;5;241m=\u001b[39m handles\u001b[38;5;241m.\u001b[39mhandle\n",
                        "File \u001b[0;32m~/miniconda3/envs/Interstellar_python/lib/python3.10/site-packages/pandas/io/common.py:882\u001b[0m, in \u001b[0;36mget_handle\u001b[0;34m(path_or_buf, mode, encoding, compression, memory_map, is_text, errors, storage_options)\u001b[0m\n\u001b[1;32m    873\u001b[0m         handle \u001b[38;5;241m=\u001b[39m \u001b[38;5;28mopen\u001b[39m(\n\u001b[1;32m    874\u001b[0m             handle,\n\u001b[1;32m    875\u001b[0m             ioargs\u001b[38;5;241m.\u001b[39mmode,\n\u001b[0;32m   (...)\u001b[0m\n\u001b[1;32m    878\u001b[0m             newline\u001b[38;5;241m=\u001b[39m\u001b[38;5;124m\"\u001b[39m\u001b[38;5;124m\"\u001b[39m,\n\u001b[1;32m    879\u001b[0m         )\n\u001b[1;32m    880\u001b[0m     \u001b[38;5;28;01melse\u001b[39;00m:\n\u001b[1;32m    881\u001b[0m         \u001b[38;5;66;03m# Binary mode\u001b[39;00m\n\u001b[0;32m--> 882\u001b[0m         handle \u001b[38;5;241m=\u001b[39m \u001b[38;5;28;43mopen\u001b[39;49m\u001b[43m(\u001b[49m\u001b[43mhandle\u001b[49m\u001b[43m,\u001b[49m\u001b[43m \u001b[49m\u001b[43mioargs\u001b[49m\u001b[38;5;241;43m.\u001b[39;49m\u001b[43mmode\u001b[49m\u001b[43m)\u001b[49m\n\u001b[1;32m    883\u001b[0m     handles\u001b[38;5;241m.\u001b[39mappend(handle)\n\u001b[1;32m    885\u001b[0m \u001b[38;5;66;03m# Convert BytesIO or file objects passed with an encoding\u001b[39;00m\n",
                        "\u001b[0;31mFileNotFoundError\u001b[0m: [Errno 2] No such file or directory: '../results/PBMC_combined.parquet'"
                    ]
                }
            ],
            "source": [
                "anova_path = pathlib.Path(f\"../results/{cell_type}_combined.parquet\")\n",
                "\n",
                "anova_results = pd.read_parquet(anova_path)\n",
                "anova_results.head()"
            ]
        },
        {
            "cell_type": "markdown",
            "id": "ab3e2ebf",
            "metadata": {
                "papermill": {
                    "duration": null,
                    "end_time": null,
                    "exception": null,
                    "start_time": null,
                    "status": "pending"
                },
                "tags": []
            },
            "source": [
                "Where  \n",
                "a_h = apoptosis vs healthy  \n",
                "a_p = apoptosis vs pyroptosis  \n",
                "h_p = healthy vs pyroptosis  \n"
            ]
        },
        {
            "cell_type": "code",
            "execution_count": null,
            "id": "f7fb1414",
            "metadata": {
                "execution": {
                    "iopub.execute_input": "2024-01-25T00:11:36.348005Z",
                    "iopub.status.busy": "2024-01-25T00:11:36.347822Z",
                    "iopub.status.idle": "2024-01-25T00:11:36.358915Z",
                    "shell.execute_reply": "2024-01-25T00:11:36.358365Z"
                },
                "papermill": {
                    "duration": null,
                    "end_time": null,
                    "exception": null,
                    "start_time": null,
                    "status": "pending"
                },
                "tags": []
            },
            "outputs": [],
            "source": [
                "# create a column that adds group1 and group2 together\n",
                "anova_results[\"group\"] = anova_results[\"group1\"] + \"_\" + anova_results[\"group2\"]\n",
                "print(anova_results.shape)\n",
                "\n",
                "# filter out rows that have p-adj_abs > 0.05\n",
                "anova_results = anova_results[anova_results[\"p-adj_abs\"] < 0.05]\n",
                "print(anova_results.shape)\n",
                "\n",
                "# change the group names to replace healthy with control\n",
                "anova_results[\"group\"] = anova_results[\"group\"].str.replace(\"healthy\", \"control\")\n",
                "\n",
                "# create the three df sets for a venn diagram\n",
                "a_h = anova_results[anova_results[\"group\"] == \"apoptosis_control\"][\"features\"]\n",
                "a_p = anova_results[anova_results[\"group\"] == \"apoptosis_pyroptosis\"][\"features\"]\n",
                "h_p = anova_results[anova_results[\"group\"] == \"control_pyroptosis\"][\"features\"]\n",
                "\n",
                "# create a list of the three df sets\n",
                "a_h_list = a_h.tolist()\n",
                "a_p_list = a_p.tolist()\n",
                "h_p_list = h_p.tolist()\n",
                "\n",
                "# add sets together\n",
                "a_h__a_p = np.union1d(a_h_list, a_p_list)\n",
                "a_h__h_p = np.union1d(a_h_list, h_p_list)\n",
                "a_p__h_p = np.union1d(a_p_list, h_p_list)"
            ]
        },
        {
            "cell_type": "code",
            "execution_count": null,
            "id": "00019306",
            "metadata": {
                "execution": {
                    "iopub.execute_input": "2024-01-25T00:11:36.364104Z",
                    "iopub.status.busy": "2024-01-25T00:11:36.363628Z",
                    "iopub.status.idle": "2024-01-25T00:11:36.393852Z",
                    "shell.execute_reply": "2024-01-25T00:11:36.393286Z"
                },
                "papermill": {
                    "duration": null,
                    "end_time": null,
                    "exception": null,
                    "start_time": null,
                    "status": "pending"
                },
                "tags": []
            },
            "outputs": [],
            "source": [
                "# get the unique features for each set\n",
                "a_h_unique = np.setdiff1d(a_h_list, a_p__h_p)\n",
                "print(len(a_h_unique))\n",
                "\n",
                "a_p_unique = np.setdiff1d(a_p_list, a_h__h_p)\n",
                "print(len(a_p_unique))\n",
                "\n",
                "h_p_unique = np.setdiff1d(h_p_list, a_h__a_p)\n",
                "print(len(h_p_unique))\n",
                "\n",
                "# get the common features for each set\n",
                "a_h__a_p_common = np.intersect1d(a_h_list, a_p_list)\n",
                "a_h__a_p_common = np.setdiff1d(a_h__a_p_common, h_p_list)\n",
                "print(len(a_h__a_p_common))\n",
                "\n",
                "a_h__h_p_common = np.intersect1d(a_h_list, h_p_list)\n",
                "a_h__h_p_common = np.setdiff1d(a_h__h_p_common, a_p_list)\n",
                "print(len(a_h__h_p_common))\n",
                "\n",
                "a_p__h_p_common = np.intersect1d(a_p_list, h_p_list)\n",
                "a_p__h_p_common = np.setdiff1d(a_p__h_p_common, a_h_list)\n",
                "print(len(a_p__h_p_common))\n",
                "\n",
                "# all three set intersection\n",
                "a_h__a_p__h_p_common = np.intersect1d(a_h_list, a_p_list)\n",
                "a_h__a_p__h_p_common = np.intersect1d(a_h__a_p__h_p_common, h_p_list)\n",
                "print(len(a_h__a_p__h_p_common))"
            ]
        },
        {
            "cell_type": "code",
            "execution_count": null,
            "id": "03dd8416",
            "metadata": {
                "execution": {
                    "iopub.execute_input": "2024-01-25T00:11:36.399052Z",
                    "iopub.status.busy": "2024-01-25T00:11:36.398525Z",
                    "iopub.status.idle": "2024-01-25T00:11:36.401969Z",
                    "shell.execute_reply": "2024-01-25T00:11:36.401445Z"
                },
                "papermill": {
                    "duration": null,
                    "end_time": null,
                    "exception": null,
                    "start_time": null,
                    "status": "pending"
                },
                "tags": []
            },
            "outputs": [],
            "source": [
                "# create a list of each list of features\n",
                "dict_of_feature_lists = {}\n",
                "dict_of_feature_lists[\"a_h_unique\"] = list(a_h_unique)\n",
                "dict_of_feature_lists[\"a_p_unique\"] = list(a_p_unique)\n",
                "dict_of_feature_lists[\"h_p_unique\"] = list(h_p_unique)\n",
                "dict_of_feature_lists[\"a_h__a_p_common\"] = list(a_h__a_p_common)\n",
                "dict_of_feature_lists[\"a_h__h_p_common\"] = list(a_h__h_p_common)\n",
                "dict_of_feature_lists[\"a_p__h_p_common\"] = list(a_p__h_p_common)\n",
                "dict_of_feature_lists[\"a_h__a_p__h_p_common\"] = list(a_h__a_p__h_p_common)"
            ]
        },
        {
            "cell_type": "code",
            "execution_count": null,
            "id": "de627225",
            "metadata": {
                "execution": {
                    "iopub.execute_input": "2024-01-25T00:11:36.407093Z",
                    "iopub.status.busy": "2024-01-25T00:11:36.406644Z",
                    "iopub.status.idle": "2024-01-25T00:11:36.409444Z",
                    "shell.execute_reply": "2024-01-25T00:11:36.408933Z"
                },
                "papermill": {
                    "duration": null,
                    "end_time": null,
                    "exception": null,
                    "start_time": null,
                    "status": "pending"
                },
                "tags": []
            },
            "outputs": [],
            "source": [
                "# set umap parameters\n",
                "umap_params = umap.UMAP(\n",
                "    n_components=2,\n",
                "    spread=1.1,\n",
                "    min_dist=0.8,\n",
                "    init=\"random\",\n",
                "    metric=\"cosine\",\n",
                "    # random_state=0,\n",
                "    n_jobs=-1,\n",
                ")"
            ]
        },
        {
            "cell_type": "code",
            "execution_count": null,
            "id": "aefea5b3",
            "metadata": {
                "execution": {
                    "iopub.execute_input": "2024-01-25T00:11:36.414660Z",
                    "iopub.status.busy": "2024-01-25T00:11:36.414191Z",
                    "iopub.status.idle": "2024-01-25T08:05:54.799334Z",
                    "shell.execute_reply": "2024-01-25T08:05:54.798611Z"
                },
                "papermill": {
                    "duration": null,
                    "end_time": null,
                    "exception": null,
                    "start_time": null,
                    "status": "pending"
                },
                "tags": []
            },
            "outputs": [],
            "source": [
                "final_df_dict = {}\n",
                "for key, value in tqdm(dict_of_feature_lists.items()):\n",
                "    print(key)\n",
                "    print(len(value))\n",
                "    df = df_values[df_values.columns[df_values.columns.isin(value)]]\n",
                "    umap_results = umap_params.fit_transform(df)\n",
                "    results_df = pd.DataFrame(umap_results, columns=[\"UMAP1\", \"UMAP2\"])\n",
                "    results_df.loc[:, \"Metadata_Treatment_Dose_Inhibitor_Dose\"] = df_descriptive[\n",
                "        \"oneb_Metadata_Treatment_Dose_Inhibitor_Dose\"\n",
                "    ]\n",
                "    results_df.loc[:, \"Dataset_comparison\"] = key\n",
                "    final_df_dict[key] = results_df\n",
                "final_df = pd.concat(final_df_dict.values(), ignore_index=True)"
            ]
        },
        {
            "cell_type": "code",
            "execution_count": null,
            "id": "eafb7cb3",
            "metadata": {
                "execution": {
                    "iopub.execute_input": "2024-01-25T08:05:54.824284Z",
                    "iopub.status.busy": "2024-01-25T08:05:54.823938Z",
                    "iopub.status.idle": "2024-01-25T08:06:00.033851Z",
                    "shell.execute_reply": "2024-01-25T08:06:00.033318Z"
                },
                "papermill": {
                    "duration": null,
                    "end_time": null,
                    "exception": null,
                    "start_time": null,
                    "status": "pending"
                },
                "tags": []
            },
            "outputs": [],
            "source": [
                "# write out the results\n",
                "out_path = pathlib.Path(f\"../results/{cell_type}_combined_sub_UMAP_results.parquet\")\n",
                "final_df.to_parquet(out_path)\n",
                "final_df.head()"
            ]
        }
    ],
    "metadata": {
        "kernelspec": {
            "display_name": "Interstellar",
            "language": "python",
            "name": "python3"
        },
        "language_info": {
            "codemirror_mode": {
                "name": "ipython",
                "version": 3
            },
            "file_extension": ".py",
            "mimetype": "text/x-python",
            "name": "python",
            "nbconvert_exporter": "python",
            "pygments_lexer": "ipython3",
            "version": "3.10.13"
        },
        "papermill": {
            "default_parameters": {},
            "duration": 804.161246,
            "end_time": "2024-03-30T15:05:56.628193",
            "environment_variables": {},
            "exception": true,
            "input_path": "9.subset_umap.ipynb",
            "output_path": "9.subset_umap.ipynb",
            "parameters": {
                "cell_type": "PBMC"
            },
            "start_time": "2024-03-30T14:52:32.466947",
            "version": "2.5.0"
        }
    },
    "nbformat": 4,
    "nbformat_minor": 5
}
