{
    "cells": [
        {
            "cell_type": "code",
            "execution_count": 1,
            "id": "1ec7eeb7",
            "metadata": {
                "execution": {
                    "iopub.execute_input": "2024-03-30T14:52:34.602751Z",
                    "iopub.status.busy": "2024-03-30T14:52:34.602542Z",
                    "iopub.status.idle": "2024-03-30T14:52:54.253864Z",
                    "shell.execute_reply": "2024-03-30T14:52:54.253377Z"
                },
                "papermill": {
                    "duration": 19.65648,
                    "end_time": "2024-03-30T14:52:54.255427",
                    "exception": false,
                    "start_time": "2024-03-30T14:52:34.598947",
                    "status": "completed"
                },
                "tags": []
            },
            "outputs": [],
            "source": [
                "import pathlib\n",
                "\n",
                "import numpy as np\n",
                "import pandas as pd\n",
                "import toml\n",
                "import umap\n",
                "from tqdm import tqdm"
            ]
        },
        {
            "cell_type": "code",
            "execution_count": 2,
            "id": "98b04570",
            "metadata": {
                "execution": {
                    "iopub.execute_input": "2024-03-30T14:52:54.262006Z",
                    "iopub.status.busy": "2024-03-30T14:52:54.261319Z",
                    "iopub.status.idle": "2024-03-30T14:52:54.264504Z",
                    "shell.execute_reply": "2024-03-30T14:52:54.263920Z"
                },
                "papermill": {
                    "duration": 0.007519,
                    "end_time": "2024-03-30T14:52:54.265505",
                    "exception": false,
                    "start_time": "2024-03-30T14:52:54.257986",
                    "status": "completed"
                },
                "tags": [
                    "injected-parameters"
                ]
            },
            "outputs": [],
            "source": [
                "# Parameters\n",
                "cell_type = \"SHSY5Y\""
            ]
        },
        {
            "cell_type": "code",
            "execution_count": 3,
            "id": "d7b1d307",
            "metadata": {
                "execution": {
                    "iopub.execute_input": "2024-03-30T14:52:54.275510Z",
                    "iopub.status.busy": "2024-03-30T14:52:54.275113Z",
                    "iopub.status.idle": "2024-03-30T14:52:54.279634Z",
                    "shell.execute_reply": "2024-03-30T14:52:54.279144Z"
                },
                "papermill": {
                    "duration": 0.026282,
                    "end_time": "2024-03-30T14:52:54.295126",
                    "exception": false,
                    "start_time": "2024-03-30T14:52:54.268844",
                    "status": "completed"
                },
                "tags": []
            },
            "outputs": [
                {
                    "name": "stdout",
                    "output_type": "stream",
                    "text": [
                        "15\n",
                        "['DMSO_0.100_%_DMSO_0.025_%', 'Thapsigargin_1.000_uM_DMSO_0.025_%', 'Thapsigargin_10.000_uM_DMSO_0.025_%', 'H2O2_100.000_uM_DMSO_0.025_%', 'H2O2_100.000_nM_DMSO_0.025_%', 'Flagellin_0.100_ug_per_ml_DMSO_0.025_%', 'Flagellin_1.000_ug_per_ml_DMSO_0.025_%', 'LPS_0.010_ug_per_ml_DMSO_0.025_%', 'LPS_0.100_ug_per_ml_DMSO_0.025_%', 'LPS_1.000_ug_per_ml_DMSO_0.025_%', 'LPS_10.000_ug_per_ml_DMSO_0.025_%', 'LPS_100.000_ug_per_ml_DMSO_0.025_%', 'LPS_Nigericin_1.000_ug_per_ml_1.000_uM_DMSO_0.025_%', 'LPS_Nigericin_1.000_ug_per_ml_3.000_uM_DMSO_0.025_%', 'LPS_Nigericin_1.000_ug_per_ml_10.000_uM_DMSO_0.025_%']\n"
                    ]
                }
            ],
            "source": [
                "# read in toml file\n",
                "\n",
                "# set up the path\n",
                "toml_path = pathlib.Path(\"../utils/params.toml\")\n",
                "# read in the toml file\n",
                "params = toml.load(toml_path)\n",
                "list_of_treatments = params[\"list_of_treatments\"][\"treatments\"]\n",
                "print(len(list_of_treatments))\n",
                "print(list_of_treatments)"
            ]
        },
        {
            "cell_type": "code",
            "execution_count": 4,
            "id": "758dc199",
            "metadata": {
                "execution": {
                    "iopub.execute_input": "2024-03-30T14:52:54.309012Z",
                    "iopub.status.busy": "2024-03-30T14:52:54.308776Z",
                    "iopub.status.idle": "2024-03-30T14:56:50.008249Z",
                    "shell.execute_reply": "2024-03-30T14:56:49.970410Z"
                },
                "papermill": {
                    "duration": 235.770536,
                    "end_time": "2024-03-30T14:56:50.076126",
                    "exception": false,
                    "start_time": "2024-03-30T14:52:54.305590",
                    "status": "completed"
                },
                "tags": []
            },
            "outputs": [],
            "source": [
                "# Set path to parquet file\n",
                "path = pathlib.Path(f\"../../data/{cell_type}_preprocessed_sc_norm.parquet\").resolve(\n",
                "    strict=True\n",
                ")\n",
                "# Read in parquet file\n",
                "df = pd.read_parquet(path)"
            ]
        },
        {
            "cell_type": "code",
            "execution_count": 5,
            "id": "5b0243dc",
            "metadata": {
                "execution": {
                    "iopub.execute_input": "2024-03-30T14:56:50.161944Z",
                    "iopub.status.busy": "2024-03-30T14:56:50.160445Z",
                    "iopub.status.idle": "2024-03-30T15:05:42.410089Z",
                    "shell.execute_reply": "2024-03-30T15:05:42.390588Z"
                },
                "papermill": {
                    "duration": 532.329711,
                    "end_time": "2024-03-30T15:05:42.445263",
                    "exception": false,
                    "start_time": "2024-03-30T14:56:50.115552",
                    "status": "completed"
                },
                "tags": []
            },
            "outputs": [],
            "source": [
                "# Code snippet for metadata extraction by Jenna Tomkinson\n",
                "df_metadata = list(df.columns[df.columns.str.contains(\"Metadata\")])\n",
                "# define which columns are data and which are descriptive\n",
                "df_descriptive = df[df_metadata]\n",
                "df_values = df.drop(columns=df_metadata)"
            ]
        },
        {
            "cell_type": "code",
            "execution_count": 6,
            "id": "2b99f2c2",
            "metadata": {
                "execution": {
                    "iopub.execute_input": "2024-03-30T15:05:42.490098Z",
                    "iopub.status.busy": "2024-03-30T15:05:42.489498Z",
                    "iopub.status.idle": "2024-03-30T15:05:45.713852Z",
                    "shell.execute_reply": "2024-03-30T15:05:45.713033Z"
                },
                "papermill": {
                    "duration": 3.268006,
                    "end_time": "2024-03-30T15:05:45.740548",
                    "exception": true,
                    "start_time": "2024-03-30T15:05:42.472542",
                    "status": "failed"
                },
                "tags": []
            },
            "outputs": [
                {
                    "data": {
                        "text/html": [
                            "<div>\n",
                            "<style scoped>\n",
                            "    .dataframe tbody tr th:only-of-type {\n",
                            "        vertical-align: middle;\n",
                            "    }\n",
                            "\n",
                            "    .dataframe tbody tr th {\n",
                            "        vertical-align: top;\n",
                            "    }\n",
                            "\n",
                            "    .dataframe thead th {\n",
                            "        text-align: right;\n",
                            "    }\n",
                            "</style>\n",
                            "<table border=\"1\" class=\"dataframe\">\n",
                            "  <thead>\n",
                            "    <tr style=\"text-align: right;\">\n",
                            "      <th></th>\n",
                            "      <th>group1</th>\n",
                            "      <th>group2</th>\n",
                            "      <th>meandiff</th>\n",
                            "      <th>lower</th>\n",
                            "      <th>upper</th>\n",
                            "      <th>p-adj</th>\n",
                            "      <th>reject</th>\n",
                            "      <th>features</th>\n",
                            "      <th>p-adj_abs</th>\n",
                            "      <th>pos_neg</th>\n",
                            "    </tr>\n",
                            "  </thead>\n",
                            "  <tbody>\n",
                            "    <tr>\n",
                            "      <th>0</th>\n",
                            "      <td>apoptosis</td>\n",
                            "      <td>healthy</td>\n",
                            "      <td>-0.2948</td>\n",
                            "      <td>-0.0000</td>\n",
                            "      <td>-0.3675</td>\n",
                            "      <td>-0.2220</td>\n",
                            "      <td>True</td>\n",
                            "      <td>Nuclei_RadialDistribution_ZernikeMagnitude_Cor...</td>\n",
                            "      <td>0.2220</td>\n",
                            "      <td>negative</td>\n",
                            "    </tr>\n",
                            "    <tr>\n",
                            "      <th>1</th>\n",
                            "      <td>apoptosis</td>\n",
                            "      <td>pyroptosis</td>\n",
                            "      <td>-0.2994</td>\n",
                            "      <td>-0.0000</td>\n",
                            "      <td>-0.3724</td>\n",
                            "      <td>-0.2264</td>\n",
                            "      <td>True</td>\n",
                            "      <td>Nuclei_RadialDistribution_ZernikeMagnitude_Cor...</td>\n",
                            "      <td>0.2264</td>\n",
                            "      <td>negative</td>\n",
                            "    </tr>\n",
                            "    <tr>\n",
                            "      <th>2</th>\n",
                            "      <td>healthy</td>\n",
                            "      <td>pyroptosis</td>\n",
                            "      <td>-0.0046</td>\n",
                            "      <td>0.8487</td>\n",
                            "      <td>-0.0349</td>\n",
                            "      <td>0.0257</td>\n",
                            "      <td>False</td>\n",
                            "      <td>Nuclei_RadialDistribution_ZernikeMagnitude_Cor...</td>\n",
                            "      <td>0.0257</td>\n",
                            "      <td>positive</td>\n",
                            "    </tr>\n",
                            "    <tr>\n",
                            "      <th>0</th>\n",
                            "      <td>apoptosis</td>\n",
                            "      <td>healthy</td>\n",
                            "      <td>0.0348</td>\n",
                            "      <td>0.2184</td>\n",
                            "      <td>-0.0399</td>\n",
                            "      <td>0.1094</td>\n",
                            "      <td>False</td>\n",
                            "      <td>Cytoplasm_Texture_InfoMeas1_CorrPM_3_03_256</td>\n",
                            "      <td>0.1094</td>\n",
                            "      <td>positive</td>\n",
                            "    </tr>\n",
                            "    <tr>\n",
                            "      <th>1</th>\n",
                            "      <td>apoptosis</td>\n",
                            "      <td>pyroptosis</td>\n",
                            "      <td>0.1547</td>\n",
                            "      <td>-0.0000</td>\n",
                            "      <td>0.0797</td>\n",
                            "      <td>0.2296</td>\n",
                            "      <td>True</td>\n",
                            "      <td>Cytoplasm_Texture_InfoMeas1_CorrPM_3_03_256</td>\n",
                            "      <td>0.2296</td>\n",
                            "      <td>positive</td>\n",
                            "    </tr>\n",
                            "  </tbody>\n",
                            "</table>\n",
                            "</div>"
                        ],
                        "text/plain": [
                            "      group1      group2  meandiff   lower   upper   p-adj  reject  \\\n",
                            "0  apoptosis     healthy   -0.2948 -0.0000 -0.3675 -0.2220    True   \n",
                            "1  apoptosis  pyroptosis   -0.2994 -0.0000 -0.3724 -0.2264    True   \n",
                            "2    healthy  pyroptosis   -0.0046  0.8487 -0.0349  0.0257   False   \n",
                            "0  apoptosis     healthy    0.0348  0.2184 -0.0399  0.1094   False   \n",
                            "1  apoptosis  pyroptosis    0.1547 -0.0000  0.0797  0.2296    True   \n",
                            "\n",
                            "                                            features  p-adj_abs   pos_neg  \n",
                            "0  Nuclei_RadialDistribution_ZernikeMagnitude_Cor...     0.2220  negative  \n",
                            "1  Nuclei_RadialDistribution_ZernikeMagnitude_Cor...     0.2264  negative  \n",
                            "2  Nuclei_RadialDistribution_ZernikeMagnitude_Cor...     0.0257  positive  \n",
                            "0        Cytoplasm_Texture_InfoMeas1_CorrPM_3_03_256     0.1094  positive  \n",
                            "1        Cytoplasm_Texture_InfoMeas1_CorrPM_3_03_256     0.2296  positive  "
                        ]
                    },
                    "execution_count": 6,
                    "metadata": {},
                    "output_type": "execute_result"
                }
            ],
            "source": [
                "anova_path = pathlib.Path(f\"../results/{cell_type}_combined.parquet\")\n",
                "\n",
                "anova_results = pd.read_parquet(anova_path)\n",
                "anova_results.head()"
            ]
        },
        {
            "cell_type": "markdown",
            "id": "ab3e2ebf",
            "metadata": {
                "papermill": {
                    "duration": null,
                    "end_time": null,
                    "exception": null,
                    "start_time": null,
                    "status": "pending"
                },
                "tags": []
            },
            "source": [
                "Where  \n",
                "a_h = apoptosis vs healthy  \n",
                "a_p = apoptosis vs pyroptosis  \n",
                "h_p = healthy vs pyroptosis  \n"
            ]
        },
        {
            "cell_type": "code",
            "execution_count": 7,
            "id": "f7fb1414",
            "metadata": {
                "execution": {
                    "iopub.execute_input": "2024-01-25T00:11:36.348005Z",
                    "iopub.status.busy": "2024-01-25T00:11:36.347822Z",
                    "iopub.status.idle": "2024-01-25T00:11:36.358915Z",
                    "shell.execute_reply": "2024-01-25T00:11:36.358365Z"
                },
                "papermill": {
                    "duration": null,
                    "end_time": null,
                    "exception": null,
                    "start_time": null,
                    "status": "pending"
                },
                "tags": []
            },
            "outputs": [
                {
                    "name": "stdout",
                    "output_type": "stream",
                    "text": [
                        "(3681, 11)\n",
                        "(1228, 11)\n"
                    ]
                }
            ],
            "source": [
                "# create a column that adds group1 and group2 together\n",
                "anova_results[\"group\"] = anova_results[\"group1\"] + \"_\" + anova_results[\"group2\"]\n",
                "print(anova_results.shape)\n",
                "\n",
                "# filter out rows that have p-adj_abs > 0.05\n",
                "anova_results = anova_results[anova_results[\"p-adj_abs\"] < 0.05]\n",
                "print(anova_results.shape)\n",
                "\n",
                "# change the group names to replace healthy with control\n",
                "anova_results[\"group\"] = anova_results[\"group\"].str.replace(\"healthy\", \"control\")\n",
                "\n",
                "# create the three df sets for a venn diagram\n",
                "a_h = anova_results[anova_results[\"group\"] == \"apoptosis_control\"][\"features\"]\n",
                "a_p = anova_results[anova_results[\"group\"] == \"apoptosis_pyroptosis\"][\"features\"]\n",
                "h_p = anova_results[anova_results[\"group\"] == \"control_pyroptosis\"][\"features\"]\n",
                "\n",
                "# create a list of the three df sets\n",
                "a_h_list = a_h.tolist()\n",
                "a_p_list = a_p.tolist()\n",
                "h_p_list = h_p.tolist()\n",
                "\n",
                "# add sets together\n",
                "a_h__a_p = np.union1d(a_h_list, a_p_list)\n",
                "a_h__h_p = np.union1d(a_h_list, h_p_list)\n",
                "a_p__h_p = np.union1d(a_p_list, h_p_list)"
            ]
        },
        {
            "cell_type": "code",
            "execution_count": 8,
            "id": "00019306",
            "metadata": {
                "execution": {
                    "iopub.execute_input": "2024-01-25T00:11:36.364104Z",
                    "iopub.status.busy": "2024-01-25T00:11:36.363628Z",
                    "iopub.status.idle": "2024-01-25T00:11:36.393852Z",
                    "shell.execute_reply": "2024-01-25T00:11:36.393286Z"
                },
                "papermill": {
                    "duration": null,
                    "end_time": null,
                    "exception": null,
                    "start_time": null,
                    "status": "pending"
                },
                "tags": []
            },
            "outputs": [
                {
                    "name": "stdout",
                    "output_type": "stream",
                    "text": [
                        "88\n",
                        "34\n",
                        "475\n",
                        "19\n",
                        "65\n",
                        "26\n",
                        "137\n"
                    ]
                }
            ],
            "source": [
                "# get the unique features for each set\n",
                "a_h_unique = np.setdiff1d(a_h_list, a_p__h_p)\n",
                "print(len(a_h_unique))\n",
                "\n",
                "a_p_unique = np.setdiff1d(a_p_list, a_h__h_p)\n",
                "print(len(a_p_unique))\n",
                "\n",
                "h_p_unique = np.setdiff1d(h_p_list, a_h__a_p)\n",
                "print(len(h_p_unique))\n",
                "\n",
                "# get the common features for each set\n",
                "a_h__a_p_common = np.intersect1d(a_h_list, a_p_list)\n",
                "a_h__a_p_common = np.setdiff1d(a_h__a_p_common, h_p_list)\n",
                "print(len(a_h__a_p_common))\n",
                "\n",
                "a_h__h_p_common = np.intersect1d(a_h_list, h_p_list)\n",
                "a_h__h_p_common = np.setdiff1d(a_h__h_p_common, a_p_list)\n",
                "print(len(a_h__h_p_common))\n",
                "\n",
                "a_p__h_p_common = np.intersect1d(a_p_list, h_p_list)\n",
                "a_p__h_p_common = np.setdiff1d(a_p__h_p_common, a_h_list)\n",
                "print(len(a_p__h_p_common))\n",
                "\n",
                "# all three set intersection\n",
                "a_h__a_p__h_p_common = np.intersect1d(a_h_list, a_p_list)\n",
                "a_h__a_p__h_p_common = np.intersect1d(a_h__a_p__h_p_common, h_p_list)\n",
                "print(len(a_h__a_p__h_p_common))"
            ]
        },
        {
            "cell_type": "code",
            "execution_count": 9,
            "id": "03dd8416",
            "metadata": {
                "execution": {
                    "iopub.execute_input": "2024-01-25T00:11:36.399052Z",
                    "iopub.status.busy": "2024-01-25T00:11:36.398525Z",
                    "iopub.status.idle": "2024-01-25T00:11:36.401969Z",
                    "shell.execute_reply": "2024-01-25T00:11:36.401445Z"
                },
                "papermill": {
                    "duration": null,
                    "end_time": null,
                    "exception": null,
                    "start_time": null,
                    "status": "pending"
                },
                "tags": []
            },
            "outputs": [],
            "source": [
                "# create a list of each list of features\n",
                "dict_of_feature_lists = {}\n",
                "dict_of_feature_lists[\"a_h_unique\"] = list(a_h_unique)\n",
                "dict_of_feature_lists[\"a_p_unique\"] = list(a_p_unique)\n",
                "dict_of_feature_lists[\"h_p_unique\"] = list(h_p_unique)\n",
                "dict_of_feature_lists[\"a_h__a_p_common\"] = list(a_h__a_p_common)\n",
                "dict_of_feature_lists[\"a_h__h_p_common\"] = list(a_h__h_p_common)\n",
                "dict_of_feature_lists[\"a_p__h_p_common\"] = list(a_p__h_p_common)\n",
                "dict_of_feature_lists[\"a_h__a_p__h_p_common\"] = list(a_h__a_p__h_p_common)"
            ]
        },
        {
            "cell_type": "code",
            "execution_count": 10,
            "id": "de627225",
            "metadata": {
                "execution": {
                    "iopub.execute_input": "2024-01-25T00:11:36.407093Z",
                    "iopub.status.busy": "2024-01-25T00:11:36.406644Z",
                    "iopub.status.idle": "2024-01-25T00:11:36.409444Z",
                    "shell.execute_reply": "2024-01-25T00:11:36.408933Z"
                },
                "papermill": {
                    "duration": null,
                    "end_time": null,
                    "exception": null,
                    "start_time": null,
                    "status": "pending"
                },
                "tags": []
            },
            "outputs": [],
            "source": [
                "# set umap parameters\n",
                "umap_params = umap.UMAP(\n",
                "    n_components=2,\n",
                "    spread=1.1,\n",
                "    min_dist=0.8,\n",
                "    init=\"random\",\n",
                "    metric=\"cosine\",\n",
                "    # random_state=0,\n",
                "    n_jobs=-1,\n",
                ")"
            ]
        },
        {
            "cell_type": "code",
            "execution_count": 11,
            "id": "aefea5b3",
            "metadata": {
                "execution": {
                    "iopub.execute_input": "2024-01-25T00:11:36.414660Z",
                    "iopub.status.busy": "2024-01-25T00:11:36.414191Z",
                    "iopub.status.idle": "2024-01-25T08:05:54.799334Z",
                    "shell.execute_reply": "2024-01-25T08:05:54.798611Z"
                },
                "papermill": {
                    "duration": null,
                    "end_time": null,
                    "exception": null,
                    "start_time": null,
                    "status": "pending"
                },
                "tags": []
            },
            "outputs": [
                {
                    "name": "stderr",
                    "output_type": "stream",
                    "text": [
                        "  0%|          | 0/7 [00:00<?, ?it/s]"
                    ]
                },
                {
                    "name": "stdout",
                    "output_type": "stream",
                    "text": [
                        "a_h_unique\n",
                        "88\n"
                    ]
                },
                {
                    "name": "stderr",
                    "output_type": "stream",
                    "text": [
                        " 14%|█▍        | 1/7 [02:55<17:35, 175.86s/it]"
                    ]
                },
                {
                    "name": "stdout",
                    "output_type": "stream",
                    "text": [
                        "a_p_unique\n",
                        "34\n"
                    ]
                },
                {
                    "name": "stderr",
                    "output_type": "stream",
                    "text": [
                        " 29%|██▊       | 2/7 [06:59<17:58, 215.60s/it]"
                    ]
                },
                {
                    "name": "stdout",
                    "output_type": "stream",
                    "text": [
                        "h_p_unique\n",
                        "475\n"
                    ]
                },
                {
                    "name": "stderr",
                    "output_type": "stream",
                    "text": [
                        " 43%|████▎     | 3/7 [12:12<17:20, 260.21s/it]"
                    ]
                },
                {
                    "name": "stdout",
                    "output_type": "stream",
                    "text": [
                        "a_h__a_p_common\n",
                        "19\n"
                    ]
                },
                {
                    "name": "stderr",
                    "output_type": "stream",
                    "text": [
                        " 57%|█████▋    | 4/7 [15:45<12:05, 241.67s/it]"
                    ]
                },
                {
                    "name": "stdout",
                    "output_type": "stream",
                    "text": [
                        "a_h__h_p_common\n",
                        "65\n"
                    ]
                },
                {
                    "name": "stderr",
                    "output_type": "stream",
                    "text": [
                        " 71%|███████▏  | 5/7 [17:57<06:44, 202.16s/it]"
                    ]
                },
                {
                    "name": "stdout",
                    "output_type": "stream",
                    "text": [
                        "a_p__h_p_common\n",
                        "26\n"
                    ]
                },
                {
                    "name": "stderr",
                    "output_type": "stream",
                    "text": [
                        " 86%|████████▌ | 6/7 [20:04<02:56, 176.30s/it]"
                    ]
                },
                {
                    "name": "stdout",
                    "output_type": "stream",
                    "text": [
                        "a_h__a_p__h_p_common\n",
                        "137\n"
                    ]
                },
                {
                    "name": "stderr",
                    "output_type": "stream",
                    "text": [
                        "100%|██████████| 7/7 [22:23<00:00, 191.88s/it]\n"
                    ]
                }
            ],
            "source": [
                "final_df_dict = {}\n",
                "for key, value in tqdm(dict_of_feature_lists.items()):\n",
                "    print(key)\n",
                "    print(len(value))\n",
                "    df = df_values[df_values.columns[df_values.columns.isin(value)]]\n",
                "    umap_results = umap_params.fit_transform(df)\n",
                "    results_df = pd.DataFrame(umap_results, columns=[\"UMAP1\", \"UMAP2\"])\n",
                "    results_df.loc[:, \"Metadata_Treatment_Dose_Inhibitor_Dose\"] = df_descriptive[\n",
                "        \"oneb_Metadata_Treatment_Dose_Inhibitor_Dose\"\n",
                "    ]\n",
                "    results_df.loc[:, \"Dataset_comparison\"] = key\n",
                "    final_df_dict[key] = results_df\n",
                "final_df = pd.concat(final_df_dict.values(), ignore_index=True)"
            ]
        },
        {
            "cell_type": "code",
            "execution_count": 12,
            "id": "eafb7cb3",
            "metadata": {
                "execution": {
                    "iopub.execute_input": "2024-01-25T08:05:54.824284Z",
                    "iopub.status.busy": "2024-01-25T08:05:54.823938Z",
                    "iopub.status.idle": "2024-01-25T08:06:00.033851Z",
                    "shell.execute_reply": "2024-01-25T08:06:00.033318Z"
                },
                "papermill": {
                    "duration": null,
                    "end_time": null,
                    "exception": null,
                    "start_time": null,
                    "status": "pending"
                },
                "tags": []
            },
            "outputs": [
                {
                    "data": {
                        "text/html": [
                            "<div>\n",
                            "<style scoped>\n",
                            "    .dataframe tbody tr th:only-of-type {\n",
                            "        vertical-align: middle;\n",
                            "    }\n",
                            "\n",
                            "    .dataframe tbody tr th {\n",
                            "        vertical-align: top;\n",
                            "    }\n",
                            "\n",
                            "    .dataframe thead th {\n",
                            "        text-align: right;\n",
                            "    }\n",
                            "</style>\n",
                            "<table border=\"1\" class=\"dataframe\">\n",
                            "  <thead>\n",
                            "    <tr style=\"text-align: right;\">\n",
                            "      <th></th>\n",
                            "      <th>UMAP1</th>\n",
                            "      <th>UMAP2</th>\n",
                            "      <th>Metadata_Treatment_Dose_Inhibitor_Dose</th>\n",
                            "      <th>Dataset_comparison</th>\n",
                            "    </tr>\n",
                            "  </thead>\n",
                            "  <tbody>\n",
                            "    <tr>\n",
                            "      <th>0</th>\n",
                            "      <td>1.477097</td>\n",
                            "      <td>1.999260</td>\n",
                            "      <td>Media</td>\n",
                            "      <td>a_h_unique</td>\n",
                            "    </tr>\n",
                            "    <tr>\n",
                            "      <th>1</th>\n",
                            "      <td>3.312010</td>\n",
                            "      <td>3.897958</td>\n",
                            "      <td>Media</td>\n",
                            "      <td>a_h_unique</td>\n",
                            "    </tr>\n",
                            "    <tr>\n",
                            "      <th>2</th>\n",
                            "      <td>5.238120</td>\n",
                            "      <td>4.342415</td>\n",
                            "      <td>Media</td>\n",
                            "      <td>a_h_unique</td>\n",
                            "    </tr>\n",
                            "    <tr>\n",
                            "      <th>3</th>\n",
                            "      <td>6.546602</td>\n",
                            "      <td>7.460024</td>\n",
                            "      <td>Media</td>\n",
                            "      <td>a_h_unique</td>\n",
                            "    </tr>\n",
                            "    <tr>\n",
                            "      <th>4</th>\n",
                            "      <td>5.536106</td>\n",
                            "      <td>6.258804</td>\n",
                            "      <td>Media</td>\n",
                            "      <td>a_h_unique</td>\n",
                            "    </tr>\n",
                            "  </tbody>\n",
                            "</table>\n",
                            "</div>"
                        ],
                        "text/plain": [
                            "      UMAP1     UMAP2 Metadata_Treatment_Dose_Inhibitor_Dose  \\\n",
                            "0  1.477097  1.999260                                  Media   \n",
                            "1  3.312010  3.897958                                  Media   \n",
                            "2  5.238120  4.342415                                  Media   \n",
                            "3  6.546602  7.460024                                  Media   \n",
                            "4  5.536106  6.258804                                  Media   \n",
                            "\n",
                            "  Dataset_comparison  \n",
                            "0         a_h_unique  \n",
                            "1         a_h_unique  \n",
                            "2         a_h_unique  \n",
                            "3         a_h_unique  \n",
                            "4         a_h_unique  "
                        ]
                    },
                    "execution_count": 12,
                    "metadata": {},
                    "output_type": "execute_result"
                }
            ],
            "source": [
                "# write out the results\n",
                "out_path = pathlib.Path(f\"../results/{cell_type}_combined_subset_UMAP_results.parquet\")\n",
                "final_df.to_parquet(out_path)\n",
                "final_df.head()"
            ]
        }
    ],
    "metadata": {
        "kernelspec": {
            "display_name": "Interstellar",
            "language": "python",
            "name": "python3"
        },
        "language_info": {
            "codemirror_mode": {
                "name": "ipython",
                "version": 3
            },
            "file_extension": ".py",
            "mimetype": "text/x-python",
            "name": "python",
            "nbconvert_exporter": "python",
            "pygments_lexer": "ipython3",
            "version": "3.10.14"
        },
        "papermill": {
            "default_parameters": {},
            "duration": 804.161246,
            "end_time": "2024-03-30T15:05:56.628193",
            "environment_variables": {},
            "exception": true,
            "input_path": "9.subset_umap.ipynb",
            "output_path": "9.subset_umap.ipynb",
            "parameters": {
                "cell_type": "PBMC"
            },
            "start_time": "2024-03-30T14:52:32.466947",
            "version": "2.5.0"
        }
    },
    "nbformat": 4,
    "nbformat_minor": 5
}
