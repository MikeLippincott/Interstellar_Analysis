{
    "cells": [
        {
            "cell_type": "code",
            "execution_count": 1,
            "id": "1ec7eeb7",
            "metadata": {
                "execution": {
                    "iopub.execute_input": "2024-01-25T00:10:20.087793Z",
                    "iopub.status.busy": "2024-01-25T00:10:20.087515Z",
                    "iopub.status.idle": "2024-01-25T00:10:36.939892Z",
                    "shell.execute_reply": "2024-01-25T00:10:36.938871Z"
                },
                "papermill": {
                    "duration": 16.859182,
                    "end_time": "2024-01-25T00:10:36.942191",
                    "exception": false,
                    "start_time": "2024-01-25T00:10:20.083009",
                    "status": "completed"
                },
                "tags": []
            },
            "outputs": [],
            "source": [
                "import pathlib\n",
                "\n",
                "import numpy as np\n",
                "import pandas as pd\n",
                "import toml\n",
                "import umap\n",
                "from tqdm import tqdm"
            ]
        },
        {
            "cell_type": "code",
            "execution_count": 2,
            "id": "035977df",
            "metadata": {
                "execution": {
                    "iopub.execute_input": "2024-01-25T00:10:36.950500Z",
                    "iopub.status.busy": "2024-01-25T00:10:36.950137Z",
                    "iopub.status.idle": "2024-01-25T00:10:36.953433Z",
                    "shell.execute_reply": "2024-01-25T00:10:36.952804Z"
                },
                "papermill": {
                    "duration": 0.008665,
                    "end_time": "2024-01-25T00:10:36.955579",
                    "exception": false,
                    "start_time": "2024-01-25T00:10:36.946914",
                    "status": "completed"
                },
                "tags": [
                    "injected-parameters"
                ]
            },
            "outputs": [],
            "source": [
                "# Parameters\n",
                "cell_type = \"PBMC\""
            ]
        },
        {
            "cell_type": "code",
            "execution_count": 3,
            "id": "d7b1d307",
            "metadata": {
                "execution": {
                    "iopub.execute_input": "2024-01-25T00:10:36.961549Z",
                    "iopub.status.busy": "2024-01-25T00:10:36.961003Z",
                    "iopub.status.idle": "2024-01-25T00:10:36.968644Z",
                    "shell.execute_reply": "2024-01-25T00:10:36.968279Z"
                },
                "papermill": {
                    "duration": 0.011213,
                    "end_time": "2024-01-25T00:10:36.969480",
                    "exception": false,
                    "start_time": "2024-01-25T00:10:36.958267",
                    "status": "completed"
                },
                "tags": []
            },
            "outputs": [
                {
                    "name": "stdout",
                    "output_type": "stream",
                    "text": [
                        "15\n",
                        "['DMSO_0.100_%_DMSO_0.025_%', 'Thapsigargin_1.000_uM_DMSO_0.025_%', 'Thapsigargin_10.000_uM_DMSO_0.025_%', 'H2O2_100.000_uM_DMSO_0.025_%', 'H2O2_100.000_nM_DMSO_0.025_%', 'Flagellin_0.100_ug_per_ml_DMSO_0.025_%', 'Flagellin_1.000_ug_per_ml_DMSO_0.025_%', 'LPS_0.010_ug_per_ml_DMSO_0.025_%', 'LPS_0.100_ug_per_ml_DMSO_0.025_%', 'LPS_1.000_ug_per_ml_DMSO_0.025_%', 'LPS_10.000_ug_per_ml_DMSO_0.025_%', 'LPS_100.000_ug_per_ml_DMSO_0.025_%', 'LPS_Nigericin_1.000_ug_per_ml_1.000_uM_DMSO_0.025_%', 'LPS_Nigericin_1.000_ug_per_ml_3.000_uM_DMSO_0.025_%', 'LPS_Nigericin_1.000_ug_per_ml_10.000_uM_DMSO_0.025_%']\n"
                    ]
                }
            ],
            "source": [
                "# read in toml file\n",
                "\n",
                "# set up the path\n",
                "toml_path = pathlib.Path(\"../utils/params.toml\")\n",
                "# read in the toml file\n",
                "params = toml.load(toml_path)\n",
                "list_of_treatments = params[\"list_of_treatments\"][\"treatments\"]\n",
                "print(len(list_of_treatments))\n",
                "print(list_of_treatments)"
            ]
        },
        {
            "cell_type": "code",
            "execution_count": 4,
            "id": "758dc199",
            "metadata": {
                "execution": {
                    "iopub.execute_input": "2024-01-25T00:10:36.974888Z",
                    "iopub.status.busy": "2024-01-25T00:10:36.974571Z",
                    "iopub.status.idle": "2024-01-25T00:11:27.742411Z",
                    "shell.execute_reply": "2024-01-25T00:11:27.515663Z"
                },
                "papermill": {
                    "duration": 50.83674,
                    "end_time": "2024-01-25T00:11:27.808345",
                    "exception": false,
                    "start_time": "2024-01-25T00:10:36.971605",
                    "status": "completed"
                },
                "tags": []
            },
            "outputs": [],
            "source": [
                "# Set path to parquet file\n",
                "path = pathlib.Path(f\"../../data/{cell_type}_preprocessed_sc_norm.parquet\").resolve(\n",
                "    strict=True\n",
                ")\n",
                "# Read in parquet file\n",
                "df = pd.read_parquet(path)"
            ]
        },
        {
            "cell_type": "code",
            "execution_count": 5,
            "id": "5b0243dc",
            "metadata": {
                "execution": {
                    "iopub.execute_input": "2024-01-25T00:11:27.911071Z",
                    "iopub.status.busy": "2024-01-25T00:11:27.892363Z",
                    "iopub.status.idle": "2024-01-25T00:11:36.198378Z",
                    "shell.execute_reply": "2024-01-25T00:11:36.197679Z"
                },
                "papermill": {
                    "duration": 8.386661,
                    "end_time": "2024-01-25T00:11:36.199804",
                    "exception": false,
                    "start_time": "2024-01-25T00:11:27.813143",
                    "status": "completed"
                },
                "tags": []
            },
            "outputs": [],
            "source": [
                "# Code snippet for metadata extraction by Jenna Tomkinson\n",
                "df_metadata = list(df.columns[df.columns.str.contains(\"Metadata\")])\n",
                "# define which columns are data and which are descriptive\n",
                "df_descriptive = df[df_metadata]\n",
                "df_values = df.drop(columns=df_metadata)"
            ]
        },
        {
            "cell_type": "code",
            "execution_count": 6,
            "id": "2b99f2c2",
            "metadata": {
                "execution": {
                    "iopub.execute_input": "2024-01-25T00:11:36.206105Z",
                    "iopub.status.busy": "2024-01-25T00:11:36.205923Z",
                    "iopub.status.idle": "2024-01-25T00:11:36.342744Z",
                    "shell.execute_reply": "2024-01-25T00:11:36.342236Z"
                },
                "papermill": {
                    "duration": 0.140057,
                    "end_time": "2024-01-25T00:11:36.343556",
                    "exception": false,
                    "start_time": "2024-01-25T00:11:36.203499",
                    "status": "completed"
                },
                "tags": []
            },
            "outputs": [
                {
                    "data": {
                        "text/html": [
                            "<div>\n",
                            "<style scoped>\n",
                            "    .dataframe tbody tr th:only-of-type {\n",
                            "        vertical-align: middle;\n",
                            "    }\n",
                            "\n",
                            "    .dataframe tbody tr th {\n",
                            "        vertical-align: top;\n",
                            "    }\n",
                            "\n",
                            "    .dataframe thead th {\n",
                            "        text-align: right;\n",
                            "    }\n",
                            "</style>\n",
                            "<table border=\"1\" class=\"dataframe\">\n",
                            "  <thead>\n",
                            "    <tr style=\"text-align: right;\">\n",
                            "      <th></th>\n",
                            "      <th>group1</th>\n",
                            "      <th>group2</th>\n",
                            "      <th>meandiff</th>\n",
                            "      <th>lower</th>\n",
                            "      <th>upper</th>\n",
                            "      <th>p-adj</th>\n",
                            "      <th>reject</th>\n",
                            "      <th>features</th>\n",
                            "      <th>p-adj_abs</th>\n",
                            "      <th>pos_neg</th>\n",
                            "    </tr>\n",
                            "  </thead>\n",
                            "  <tbody>\n",
                            "    <tr>\n",
                            "      <th>0</th>\n",
                            "      <td>apoptosis</td>\n",
                            "      <td>healthy</td>\n",
                            "      <td>-0.0071</td>\n",
                            "      <td>0.0005</td>\n",
                            "      <td>-0.0138</td>\n",
                            "      <td>-0.0003</td>\n",
                            "      <td>True</td>\n",
                            "      <td>Cytoplasm_RadialDistribution_ZernikePhase_Corr...</td>\n",
                            "      <td>0.0003</td>\n",
                            "      <td>negative</td>\n",
                            "    </tr>\n",
                            "    <tr>\n",
                            "      <th>1</th>\n",
                            "      <td>apoptosis</td>\n",
                            "      <td>pyroptosis</td>\n",
                            "      <td>-0.0071</td>\n",
                            "      <td>0.0004</td>\n",
                            "      <td>-0.0139</td>\n",
                            "      <td>-0.0004</td>\n",
                            "      <td>True</td>\n",
                            "      <td>Cytoplasm_RadialDistribution_ZernikePhase_Corr...</td>\n",
                            "      <td>0.0004</td>\n",
                            "      <td>negative</td>\n",
                            "    </tr>\n",
                            "    <tr>\n",
                            "      <th>2</th>\n",
                            "      <td>healthy</td>\n",
                            "      <td>pyroptosis</td>\n",
                            "      <td>-0.0001</td>\n",
                            "      <td>0.9950</td>\n",
                            "      <td>-0.0032</td>\n",
                            "      <td>0.0030</td>\n",
                            "      <td>False</td>\n",
                            "      <td>Cytoplasm_RadialDistribution_ZernikePhase_Corr...</td>\n",
                            "      <td>0.0030</td>\n",
                            "      <td>positive</td>\n",
                            "    </tr>\n",
                            "    <tr>\n",
                            "      <th>0</th>\n",
                            "      <td>apoptosis</td>\n",
                            "      <td>healthy</td>\n",
                            "      <td>-0.0329</td>\n",
                            "      <td>-0.0000</td>\n",
                            "      <td>-0.0398</td>\n",
                            "      <td>-0.0259</td>\n",
                            "      <td>True</td>\n",
                            "      <td>Cells_RadialDistribution_ZernikeMagnitude_Corr...</td>\n",
                            "      <td>0.0259</td>\n",
                            "      <td>negative</td>\n",
                            "    </tr>\n",
                            "    <tr>\n",
                            "      <th>1</th>\n",
                            "      <td>apoptosis</td>\n",
                            "      <td>pyroptosis</td>\n",
                            "      <td>0.0412</td>\n",
                            "      <td>-0.0000</td>\n",
                            "      <td>0.0342</td>\n",
                            "      <td>0.0482</td>\n",
                            "      <td>True</td>\n",
                            "      <td>Cells_RadialDistribution_ZernikeMagnitude_Corr...</td>\n",
                            "      <td>0.0482</td>\n",
                            "      <td>positive</td>\n",
                            "    </tr>\n",
                            "  </tbody>\n",
                            "</table>\n",
                            "</div>"
                        ],
                        "text/plain": [
                            "      group1      group2  meandiff   lower   upper   p-adj  reject  \\\n",
                            "0  apoptosis     healthy   -0.0071  0.0005 -0.0138 -0.0003    True   \n",
                            "1  apoptosis  pyroptosis   -0.0071  0.0004 -0.0139 -0.0004    True   \n",
                            "2    healthy  pyroptosis   -0.0001  0.9950 -0.0032  0.0030   False   \n",
                            "0  apoptosis     healthy   -0.0329 -0.0000 -0.0398 -0.0259    True   \n",
                            "1  apoptosis  pyroptosis    0.0412 -0.0000  0.0342  0.0482    True   \n",
                            "\n",
                            "                                            features  p-adj_abs   pos_neg  \n",
                            "0  Cytoplasm_RadialDistribution_ZernikePhase_Corr...     0.0003  negative  \n",
                            "1  Cytoplasm_RadialDistribution_ZernikePhase_Corr...     0.0004  negative  \n",
                            "2  Cytoplasm_RadialDistribution_ZernikePhase_Corr...     0.0030  positive  \n",
                            "0  Cells_RadialDistribution_ZernikeMagnitude_Corr...     0.0259  negative  \n",
                            "1  Cells_RadialDistribution_ZernikeMagnitude_Corr...     0.0482  positive  "
                        ]
                    },
                    "execution_count": 6,
                    "metadata": {},
                    "output_type": "execute_result"
                }
            ],
            "source": [
                "anova_path = pathlib.Path(f\"../results/{cell_type}_combined.parquet\")\n",
                "\n",
                "anova_results = pd.read_parquet(anova_path)\n",
                "anova_results.head()"
            ]
        },
        {
            "cell_type": "code",
            "execution_count": 7,
            "id": "f7fb1414",
            "metadata": {
                "execution": {
                    "iopub.execute_input": "2024-01-25T00:11:36.348005Z",
                    "iopub.status.busy": "2024-01-25T00:11:36.347822Z",
                    "iopub.status.idle": "2024-01-25T00:11:36.358915Z",
                    "shell.execute_reply": "2024-01-25T00:11:36.358365Z"
                },
                "papermill": {
                    "duration": 0.014172,
                    "end_time": "2024-01-25T00:11:36.359741",
                    "exception": false,
                    "start_time": "2024-01-25T00:11:36.345569",
                    "status": "completed"
                },
                "tags": []
            },
            "outputs": [
                {
                    "name": "stdout",
                    "output_type": "stream",
                    "text": [
                        "(3735, 11)\n",
                        "(2415, 11)\n"
                    ]
                }
            ],
            "source": [
                "# create a column that adds group1 and group2 together\n",
                "anova_results[\"group\"] = anova_results[\"group1\"] + \"_\" + anova_results[\"group2\"]\n",
                "print(anova_results.shape)\n",
                "\n",
                "# filter out rows that have p-adj_abs > 0.05\n",
                "anova_results = anova_results[anova_results[\"p-adj_abs\"] < 0.05]\n",
                "print(anova_results.shape)\n",
                "\n",
                "# change the group names to replace healthy with control\n",
                "anova_results[\"group\"] = anova_results[\"group\"].str.replace(\"healthy\", \"control\")\n",
                "\n",
                "# create the three df sets for a venn diagram\n",
                "a_h = anova_results[anova_results[\"group\"] == \"apoptosis_control\"][\"features\"]\n",
                "a_p = anova_results[anova_results[\"group\"] == \"apoptosis_pyroptosis\"][\"features\"]\n",
                "h_p = anova_results[anova_results[\"group\"] == \"control_pyroptosis\"][\"features\"]\n",
                "\n",
                "# create a list of the three df sets\n",
                "a_h_list = a_h.tolist()\n",
                "a_p_list = a_p.tolist()\n",
                "h_p_list = h_p.tolist()\n",
                "\n",
                "# add sets together\n",
                "a_h__a_p = np.union1d(a_h_list, a_p_list)\n",
                "a_h__h_p = np.union1d(a_h_list, h_p_list)\n",
                "a_p__h_p = np.union1d(a_p_list, h_p_list)"
            ]
        },
        {
            "cell_type": "code",
            "execution_count": 8,
            "id": "00019306",
            "metadata": {
                "execution": {
                    "iopub.execute_input": "2024-01-25T00:11:36.364104Z",
                    "iopub.status.busy": "2024-01-25T00:11:36.363628Z",
                    "iopub.status.idle": "2024-01-25T00:11:36.393852Z",
                    "shell.execute_reply": "2024-01-25T00:11:36.393286Z"
                },
                "papermill": {
                    "duration": 0.03317,
                    "end_time": "2024-01-25T00:11:36.394623",
                    "exception": false,
                    "start_time": "2024-01-25T00:11:36.361453",
                    "status": "completed"
                },
                "tags": []
            },
            "outputs": [
                {
                    "name": "stdout",
                    "output_type": "stream",
                    "text": [
                        "244\n",
                        "40\n",
                        "136\n",
                        "54\n",
                        "74\n",
                        "43\n",
                        "551\n"
                    ]
                }
            ],
            "source": [
                "# get the unique features for each set\n",
                "a_h_unique = np.setdiff1d(a_h_list, a_p__h_p)\n",
                "print(len(a_h_unique))\n",
                "\n",
                "a_p_unique = np.setdiff1d(a_p_list, a_h__h_p)\n",
                "print(len(a_p_unique))\n",
                "\n",
                "h_p_unique = np.setdiff1d(h_p_list, a_h__a_p)\n",
                "print(len(h_p_unique))\n",
                "\n",
                "# get the common features for each set\n",
                "a_h__a_p_common = np.intersect1d(a_h_list, a_p_list)\n",
                "a_h__a_p_common = np.setdiff1d(a_h__a_p_common, h_p_list)\n",
                "print(len(a_h__a_p_common))\n",
                "\n",
                "a_h__h_p_common = np.intersect1d(a_h_list, h_p_list)\n",
                "a_h__h_p_common = np.setdiff1d(a_h__h_p_common, a_p_list)\n",
                "print(len(a_h__h_p_common))\n",
                "\n",
                "a_p__h_p_common = np.intersect1d(a_p_list, h_p_list)\n",
                "a_p__h_p_common = np.setdiff1d(a_p__h_p_common, a_h_list)\n",
                "print(len(a_p__h_p_common))\n",
                "\n",
                "# all three set intersection\n",
                "a_h__a_p__h_p_common = np.intersect1d(a_h_list, a_p_list)\n",
                "a_h__a_p__h_p_common = np.intersect1d(a_h__a_p__h_p_common, h_p_list)\n",
                "print(len(a_h__a_p__h_p_common))"
            ]
        },
        {
            "cell_type": "code",
            "execution_count": 9,
            "id": "03dd8416",
            "metadata": {
                "execution": {
                    "iopub.execute_input": "2024-01-25T00:11:36.399052Z",
                    "iopub.status.busy": "2024-01-25T00:11:36.398525Z",
                    "iopub.status.idle": "2024-01-25T00:11:36.401969Z",
                    "shell.execute_reply": "2024-01-25T00:11:36.401445Z"
                },
                "papermill": {
                    "duration": 0.006514,
                    "end_time": "2024-01-25T00:11:36.402826",
                    "exception": false,
                    "start_time": "2024-01-25T00:11:36.396312",
                    "status": "completed"
                },
                "tags": []
            },
            "outputs": [],
            "source": [
                "# create a list of each list of features\n",
                "dict_of_feature_lists = {}\n",
                "dict_of_feature_lists[\"a_h_unique\"] = list(a_h_unique)\n",
                "dict_of_feature_lists[\"a_p_unique\"] = list(a_p_unique)\n",
                "dict_of_feature_lists[\"h_p_unique\"] = list(h_p_unique)\n",
                "dict_of_feature_lists[\"a_h__a_p_common\"] = list(a_h__a_p_common)\n",
                "dict_of_feature_lists[\"a_h__h_p_common\"] = list(a_h__h_p_common)\n",
                "dict_of_feature_lists[\"a_p__h_p_common\"] = list(a_p__h_p_common)\n",
                "dict_of_feature_lists[\"a_h__a_p__h_p_common\"] = list(a_h__a_p__h_p_common)"
            ]
        },
        {
            "cell_type": "code",
            "execution_count": 10,
            "id": "de627225",
            "metadata": {
                "execution": {
                    "iopub.execute_input": "2024-01-25T00:11:36.407093Z",
                    "iopub.status.busy": "2024-01-25T00:11:36.406644Z",
                    "iopub.status.idle": "2024-01-25T00:11:36.409444Z",
                    "shell.execute_reply": "2024-01-25T00:11:36.408933Z"
                },
                "papermill": {
                    "duration": 0.005778,
                    "end_time": "2024-01-25T00:11:36.410289",
                    "exception": false,
                    "start_time": "2024-01-25T00:11:36.404511",
                    "status": "completed"
                },
                "tags": []
            },
            "outputs": [],
            "source": [
                "# set umap parameters\n",
                "umap_params = umap.UMAP(\n",
                "    n_components=2,\n",
                "    spread=1.1,\n",
                "    min_dist=0.8,\n",
                "    init=\"random\",\n",
                "    metric=\"cosine\",\n",
                "    # random_state=0,\n",
                "    n_jobs=-1,\n",
                ")"
            ]
        },
        {
            "cell_type": "code",
            "execution_count": 11,
            "id": "aefea5b3",
            "metadata": {
                "execution": {
                    "iopub.execute_input": "2024-01-25T00:11:36.414660Z",
                    "iopub.status.busy": "2024-01-25T00:11:36.414191Z",
                    "iopub.status.idle": "2024-01-25T08:05:54.799334Z",
                    "shell.execute_reply": "2024-01-25T08:05:54.798611Z"
                },
                "papermill": {
                    "duration": 28458.388328,
                    "end_time": "2024-01-25T08:05:54.800346",
                    "exception": false,
                    "start_time": "2024-01-25T00:11:36.412018",
                    "status": "completed"
                },
                "tags": []
            },
            "outputs": [
                {
                    "name": "stderr",
                    "output_type": "stream",
                    "text": [
                        "\r\n",
                        "  0%|          | 0/7 [00:00<?, ?it/s]"
                    ]
                },
                {
                    "name": "stdout",
                    "output_type": "stream",
                    "text": [
                        "a_h_unique\n",
                        "244\n"
                    ]
                },
                {
                    "name": "stderr",
                    "output_type": "stream",
                    "text": [
                        "\r\n",
                        " 14%|█▍        | 1/7 [1:42:38<10:15:53, 6158.90s/it]"
                    ]
                },
                {
                    "name": "stdout",
                    "output_type": "stream",
                    "text": [
                        "a_p_unique\n",
                        "40\n"
                    ]
                },
                {
                    "name": "stderr",
                    "output_type": "stream",
                    "text": [
                        "\r\n",
                        " 29%|██▊       | 2/7 [2:24:22<5:34:04, 4008.98s/it] "
                    ]
                },
                {
                    "name": "stdout",
                    "output_type": "stream",
                    "text": [
                        "h_p_unique\n",
                        "136\n"
                    ]
                },
                {
                    "name": "stderr",
                    "output_type": "stream",
                    "text": [
                        "\r\n",
                        " 43%|████▎     | 3/7 [3:05:39<3:40:36, 3309.22s/it]"
                    ]
                },
                {
                    "name": "stdout",
                    "output_type": "stream",
                    "text": [
                        "a_h__a_p_common\n",
                        "54\n"
                    ]
                },
                {
                    "name": "stderr",
                    "output_type": "stream",
                    "text": [
                        "\r\n",
                        " 57%|█████▋    | 4/7 [4:45:14<3:38:04, 4361.66s/it]"
                    ]
                },
                {
                    "name": "stdout",
                    "output_type": "stream",
                    "text": [
                        "a_h__h_p_common\n",
                        "74\n"
                    ]
                },
                {
                    "name": "stderr",
                    "output_type": "stream",
                    "text": [
                        "\r\n",
                        " 71%|███████▏  | 5/7 [5:29:49<2:05:06, 3753.47s/it]"
                    ]
                },
                {
                    "name": "stdout",
                    "output_type": "stream",
                    "text": [
                        "a_p__h_p_common\n",
                        "43\n"
                    ]
                },
                {
                    "name": "stderr",
                    "output_type": "stream",
                    "text": [
                        "\r\n",
                        " 86%|████████▌ | 6/7 [6:12:28<55:47, 3347.44s/it]  "
                    ]
                },
                {
                    "name": "stdout",
                    "output_type": "stream",
                    "text": [
                        "a_h__a_p__h_p_common\n",
                        "551\n"
                    ]
                },
                {
                    "name": "stderr",
                    "output_type": "stream",
                    "text": [
                        "\r\n",
                        "100%|██████████| 7/7 [7:54:17<00:00, 4250.29s/it]"
                    ]
                },
                {
                    "name": "stderr",
                    "output_type": "stream",
                    "text": [
                        "\r\n",
                        "100%|██████████| 7/7 [7:54:17<00:00, 4065.42s/it]"
                    ]
                },
                {
                    "name": "stderr",
                    "output_type": "stream",
                    "text": [
                        "\n"
                    ]
                }
            ],
            "source": [
                "final_df_dict = {}\n",
                "for key, value in tqdm(dict_of_feature_lists.items()):\n",
                "    print(key)\n",
                "    print(len(value))\n",
                "    df = df_values[df_values.columns[df_values.columns.isin(value)]]\n",
                "    umap_results = umap_params.fit_transform(df)\n",
                "    results_df = pd.DataFrame(umap_results, columns=[\"UMAP1\", \"UMAP2\"])\n",
                "    results_df.loc[:, \"Metadata_Treatment_Dose_Inhibitor_Dose\"] = df_descriptive[\n",
                "        \"oneb_Metadata_Treatment_Dose_Inhibitor_Dose\"\n",
                "    ]\n",
                "    results_df.loc[:, \"Dataset_comparison\"] = key\n",
                "    final_df_dict[key] = results_df\n",
                "final_df = pd.concat(final_df_dict.values(), ignore_index=True)"
            ]
        },
        {
            "cell_type": "code",
            "execution_count": 12,
            "id": "eafb7cb3",
            "metadata": {
                "execution": {
                    "iopub.execute_input": "2024-01-25T08:05:54.824284Z",
                    "iopub.status.busy": "2024-01-25T08:05:54.823938Z",
                    "iopub.status.idle": "2024-01-25T08:06:00.033851Z",
                    "shell.execute_reply": "2024-01-25T08:06:00.033318Z"
                },
                "papermill": {
                    "duration": 5.214319,
                    "end_time": "2024-01-25T08:06:00.034792",
                    "exception": false,
                    "start_time": "2024-01-25T08:05:54.820473",
                    "status": "completed"
                },
                "tags": []
            },
            "outputs": [
                {
                    "data": {
                        "text/html": [
                            "<div>\n",
                            "<style scoped>\n",
                            "    .dataframe tbody tr th:only-of-type {\n",
                            "        vertical-align: middle;\n",
                            "    }\n",
                            "\n",
                            "    .dataframe tbody tr th {\n",
                            "        vertical-align: top;\n",
                            "    }\n",
                            "\n",
                            "    .dataframe thead th {\n",
                            "        text-align: right;\n",
                            "    }\n",
                            "</style>\n",
                            "<table border=\"1\" class=\"dataframe\">\n",
                            "  <thead>\n",
                            "    <tr style=\"text-align: right;\">\n",
                            "      <th></th>\n",
                            "      <th>UMAP1</th>\n",
                            "      <th>UMAP2</th>\n",
                            "      <th>Metadata_Treatment_Dose_Inhibitor_Dose</th>\n",
                            "      <th>Dataset_comparison</th>\n",
                            "    </tr>\n",
                            "  </thead>\n",
                            "  <tbody>\n",
                            "    <tr>\n",
                            "      <th>0</th>\n",
                            "      <td>4.494881</td>\n",
                            "      <td>-0.900186</td>\n",
                            "      <td>LPS_0.010_ug_per_ml_DMSO_0.025_%</td>\n",
                            "      <td>a_h_unique</td>\n",
                            "    </tr>\n",
                            "    <tr>\n",
                            "      <th>1</th>\n",
                            "      <td>9.627668</td>\n",
                            "      <td>-0.619628</td>\n",
                            "      <td>LPS_0.010_ug_per_ml_DMSO_0.025_%</td>\n",
                            "      <td>a_h_unique</td>\n",
                            "    </tr>\n",
                            "    <tr>\n",
                            "      <th>2</th>\n",
                            "      <td>9.250038</td>\n",
                            "      <td>-2.465389</td>\n",
                            "      <td>LPS_0.010_ug_per_ml_DMSO_0.025_%</td>\n",
                            "      <td>a_h_unique</td>\n",
                            "    </tr>\n",
                            "    <tr>\n",
                            "      <th>3</th>\n",
                            "      <td>12.445369</td>\n",
                            "      <td>0.717546</td>\n",
                            "      <td>LPS_0.010_ug_per_ml_DMSO_0.025_%</td>\n",
                            "      <td>a_h_unique</td>\n",
                            "    </tr>\n",
                            "    <tr>\n",
                            "      <th>4</th>\n",
                            "      <td>-0.726732</td>\n",
                            "      <td>7.469944</td>\n",
                            "      <td>LPS_0.010_ug_per_ml_DMSO_0.025_%</td>\n",
                            "      <td>a_h_unique</td>\n",
                            "    </tr>\n",
                            "  </tbody>\n",
                            "</table>\n",
                            "</div>"
                        ],
                        "text/plain": [
                            "       UMAP1     UMAP2 Metadata_Treatment_Dose_Inhibitor_Dose  \\\n",
                            "0   4.494881 -0.900186       LPS_0.010_ug_per_ml_DMSO_0.025_%   \n",
                            "1   9.627668 -0.619628       LPS_0.010_ug_per_ml_DMSO_0.025_%   \n",
                            "2   9.250038 -2.465389       LPS_0.010_ug_per_ml_DMSO_0.025_%   \n",
                            "3  12.445369  0.717546       LPS_0.010_ug_per_ml_DMSO_0.025_%   \n",
                            "4  -0.726732  7.469944       LPS_0.010_ug_per_ml_DMSO_0.025_%   \n",
                            "\n",
                            "  Dataset_comparison  \n",
                            "0         a_h_unique  \n",
                            "1         a_h_unique  \n",
                            "2         a_h_unique  \n",
                            "3         a_h_unique  \n",
                            "4         a_h_unique  "
                        ]
                    },
                    "execution_count": 12,
                    "metadata": {},
                    "output_type": "execute_result"
                }
            ],
            "source": [
                "# write out the results\n",
                "out_path = pathlib.Path(f\"../results/{cell_type}_combined_sub_UMAP_results.parquet\")\n",
                "final_df.to_parquet(out_path)\n",
                "final_df.head()"
            ]
        }
    ],
    "metadata": {
        "kernelspec": {
            "display_name": "Interstellar",
            "language": "python",
            "name": "python3"
        },
        "language_info": {
            "codemirror_mode": {
                "name": "ipython",
                "version": 3
            },
            "file_extension": ".py",
            "mimetype": "text/x-python",
            "name": "python",
            "nbconvert_exporter": "python",
            "pygments_lexer": "ipython3",
            "version": "3.10.12"
        },
        "papermill": {
            "default_parameters": {},
            "duration": 28553.160396,
            "end_time": "2024-01-25T08:06:08.858321",
            "environment_variables": {},
            "exception": null,
            "input_path": "9.subset_umap.ipynb",
            "output_path": "9.subset_umap.ipynb",
            "parameters": {
                "cell_type": "PBMC"
            },
            "start_time": "2024-01-25T00:10:15.697925",
            "version": "2.5.0"
        }
    },
    "nbformat": 4,
    "nbformat_minor": 5
}
