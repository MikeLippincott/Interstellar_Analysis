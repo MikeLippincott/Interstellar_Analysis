{
 "cells": [
  {
   "attachments": {},
   "cell_type": "markdown",
   "id": "255ebdfd",
   "metadata": {
    "papermill": {
     "duration": 0.001765,
     "end_time": "2023-08-05T20:40:53.818490",
     "exception": false,
     "start_time": "2023-08-05T20:40:53.816725",
     "status": "completed"
    },
    "tags": []
   },
   "source": [
    "## Imports"
   ]
  },
  {
   "cell_type": "code",
   "execution_count": null,
   "id": "d2f53817",
   "metadata": {
    "execution": {
     "iopub.execute_input": "2023-08-05T20:40:53.822397Z",
     "iopub.status.busy": "2023-08-05T20:40:53.822138Z",
     "iopub.status.idle": "2023-08-05T20:40:55.294438Z",
     "shell.execute_reply": "2023-08-05T20:40:55.294026Z"
    },
    "papermill": {
     "duration": 1.475469,
     "end_time": "2023-08-05T20:40:55.295569",
     "exception": false,
     "start_time": "2023-08-05T20:40:53.820100",
     "status": "completed"
    },
    "tags": []
   },
   "outputs": [],
   "source": [
    "import os\n",
    "import pathlib\n",
    "import sys\n",
    "import warnings\n",
    "\n",
    "import matplotlib.pyplot as plt\n",
    "import numpy as np\n",
    "import optuna\n",
    "import pandas as pd\n",
    "import plotly\n",
    "import pyarrow.parquet as pq\n",
    "import seaborn as sns\n",
    "import statsmodels.api as sm\n",
    "import toml\n",
    "\n",
    "# create a venn diagram of the features that are significant in all conditions\n",
    "from matplotlib_venn import venn2, venn3\n",
    "\n",
    "warnings.filterwarnings(\"ignore\")\n",
    "from pycytominer.cyto_utils import infer_cp_features\n",
    "from scipy.stats import f_oneway\n",
    "from statsmodels.formula.api import ols\n",
    "from statsmodels.stats.multicomp import MultiComparison, pairwise_tukeyhsd"
   ]
  },
  {
   "cell_type": "code",
   "execution_count": null,
   "id": "5a8a7725",
   "metadata": {
    "execution": {
     "iopub.execute_input": "2023-08-05T20:40:53.810897Z",
     "iopub.status.busy": "2023-08-05T20:40:53.810465Z",
     "iopub.status.idle": "2023-08-05T20:40:53.814244Z",
     "shell.execute_reply": "2023-08-05T20:40:53.813989Z"
    },
    "papermill": {
     "duration": 0.007624,
     "end_time": "2023-08-05T20:40:53.814928",
     "exception": false,
     "start_time": "2023-08-05T20:40:53.807304",
     "status": "completed"
    },
    "tags": [
     "injected-parameters"
    ]
   },
   "outputs": [],
   "source": [
    "# Parameters\n",
    "cell_type = \"SHSY5Y\"\n",
    "treatment1 = \"DMSO_0.100_DMSO_0.025\"\n",
    "treatment2 = \"LPS_100.000_DMSO_0.025\"\n",
    "treatment3 = \"Thapsigargin_10.000_DMSO_0.025\""
   ]
  },
  {
   "cell_type": "code",
   "execution_count": null,
   "id": "8dd01662",
   "metadata": {
    "execution": {
     "iopub.execute_input": "2023-08-05T20:40:55.309962Z",
     "iopub.status.busy": "2023-08-05T20:40:55.309611Z",
     "iopub.status.idle": "2023-08-05T20:40:59.142433Z",
     "shell.execute_reply": "2023-08-05T20:40:59.141783Z"
    },
    "papermill": {
     "duration": 3.836878,
     "end_time": "2023-08-05T20:40:59.143650",
     "exception": false,
     "start_time": "2023-08-05T20:40:55.306772",
     "status": "completed"
    },
    "tags": []
   },
   "outputs": [],
   "source": [
    "# Import Data\n",
    "# set data file path under pathlib path for multi-system use\n",
    "file_path = pathlib.Path(f\"../data/{cell_type}_preprocessed_sc_norm.parquet\")\n",
    "df = pq.read_table(file_path).to_pandas()\n",
    "df_metadata = df.filter(regex=\"Metadata\")\n",
    "df_data = df.drop(df_metadata.columns, axis=1)\n",
    "cp_features = infer_cp_features(df)"
   ]
  },
  {
   "cell_type": "code",
   "execution_count": null,
   "id": "867be082",
   "metadata": {
    "execution": {
     "iopub.execute_input": "2023-08-05T20:40:59.150907Z",
     "iopub.status.busy": "2023-08-05T20:40:59.150575Z",
     "iopub.status.idle": "2023-08-05T20:40:59.532542Z",
     "shell.execute_reply": "2023-08-05T20:40:59.531900Z"
    },
    "papermill": {
     "duration": 0.387309,
     "end_time": "2023-08-05T20:40:59.533767",
     "exception": false,
     "start_time": "2023-08-05T20:40:59.146458",
     "status": "completed"
    },
    "tags": []
   },
   "outputs": [],
   "source": [
    "trt1 = df[\n",
    "    df[\"oneb_Metadata_Treatment_Dose_Inhibitor_Dose\"].str.contains(f\"{treatment1}\")\n",
    "]\n",
    "trt2 = df[\n",
    "    df[\"oneb_Metadata_Treatment_Dose_Inhibitor_Dose\"].str.contains(f\"{treatment2}\")\n",
    "]\n",
    "trt3 = df[\n",
    "    df[\"oneb_Metadata_Treatment_Dose_Inhibitor_Dose\"].str.contains(f\"{treatment3}\")\n",
    "]"
   ]
  },
  {
   "attachments": {},
   "cell_type": "markdown",
   "id": "67a37e2f",
   "metadata": {
    "papermill": {
     "duration": 0.002891,
     "end_time": "2023-08-05T20:40:59.548744",
     "exception": false,
     "start_time": "2023-08-05T20:40:59.545853",
     "status": "completed"
    },
    "tags": []
   },
   "source": [
    "### Set up DF"
   ]
  },
  {
   "cell_type": "code",
   "execution_count": null,
   "id": "5208ed11",
   "metadata": {
    "execution": {
     "iopub.execute_input": "2023-08-05T20:40:59.554953Z",
     "iopub.status.busy": "2023-08-05T20:40:59.554833Z",
     "iopub.status.idle": "2023-08-05T20:40:59.732963Z",
     "shell.execute_reply": "2023-08-05T20:40:59.732619Z"
    },
    "papermill": {
     "duration": 0.182112,
     "end_time": "2023-08-05T20:40:59.733677",
     "exception": false,
     "start_time": "2023-08-05T20:40:59.551565",
     "status": "completed"
    },
    "tags": []
   },
   "outputs": [],
   "source": [
    "combined_df = pd.concat([trt1, trt2, trt3], axis=0)\n",
    "print(len(trt1), len(trt2), len(trt3), len(combined_df))\n",
    "combined_df.head(3)"
   ]
  },
  {
   "attachments": {},
   "cell_type": "markdown",
   "id": "3a822ba7",
   "metadata": {
    "papermill": {
     "duration": 0.003028,
     "end_time": "2023-08-05T20:40:59.739330",
     "exception": false,
     "start_time": "2023-08-05T20:40:59.736302",
     "status": "completed"
    },
    "tags": []
   },
   "source": [
    "## Anova + Post Hoc testing (tukeyHSD)"
   ]
  },
  {
   "cell_type": "code",
   "execution_count": null,
   "id": "f4941c45",
   "metadata": {
    "execution": {
     "iopub.execute_input": "2023-08-05T20:40:59.747123Z",
     "iopub.status.busy": "2023-08-05T20:40:59.746719Z",
     "iopub.status.idle": "2023-08-05T20:43:10.006708Z",
     "shell.execute_reply": "2023-08-05T20:43:10.005955Z"
    },
    "papermill": {
     "duration": 129.885585,
     "end_time": "2023-08-05T20:43:09.627828",
     "exception": false,
     "start_time": "2023-08-05T20:40:59.742243",
     "status": "completed"
    },
    "tags": []
   },
   "outputs": [],
   "source": [
    "# anova for each feature in the dataframe with posthoc tukey test to determine which groups are different from each other\n",
    "lst = []\n",
    "for i in cp_features:\n",
    "    formula = f\"{i} ~ C(oneb_Metadata_Treatment_Dose_Inhibitor_Dose) + C(Metadata_number_of_singlecells)\"\n",
    "    model = ols(formula, combined_df).fit()\n",
    "    aov_table = sm.stats.anova_lm(model, typ=2)\n",
    "    # posthoc = MultiComparison(df_DMSO_thapsi[i], df_DMSO_thapsi['oneb_Metadata_Treatment_Dose_Inhibitor_Dose'])\n",
    "    posthoc = pairwise_tukeyhsd(\n",
    "        combined_df[i],\n",
    "        combined_df[\"oneb_Metadata_Treatment_Dose_Inhibitor_Dose\"],\n",
    "        alpha=0.001,\n",
    "    )\n",
    "    # print(posthoc)\n",
    "    lst.append([posthoc, i])"
   ]
  },
  {
   "cell_type": "code",
   "execution_count": null,
   "id": "7d250f82",
   "metadata": {
    "papermill": {
     "duration": null,
     "end_time": null,
     "exception": null,
     "start_time": null,
     "status": "completed"
    },
    "tags": []
   },
   "outputs": [],
   "source": [
    "# drop the other organelle\n",
    "tukey_df_sig_td.DataFrame(i[0]._results_table.data[1:])\n",
    "    j[\"features\"] = np.repeat(i[1], len(j))\n",
    "    tukey_df = pd.concat([tukey_df, j], axis=0)\n",
    "\n",
    "    np.repeat(i[1], len(j))\n",
    "\n",
    "tukey_df.columns = [\n",
    "    \"group1\",\n",
    "    \"group2\",\n",
    "    \"meandiff\",\n",
    "    \"lower\",\n",
    "    \"upper\",\n",
    "    \"p-adj\",\n",
    "    \"reject\",\n",
    "    \"features\",\n",
    "]\n",
    "tukey_df.head(3)"
   ]
  },
  {
   "cell_type": "code",
   "execution_count": null,
   "id": "13d69728",
   "metadata": {
    "papermill": {
     "duration": null,
     "end_time": null,
     "exception": null,
     "start_time": null,
     "status": "completed"
    },
    "tags": []
   },
   "outputs": [],
   "source": [
    "# drop the other organelle\n",
    "tukey_df_sig_tsig = tukey_df[tukey_df[\"p-adj_abs\"] < 0.01]\n",
    "# make new column that states if the relationship is positive or negative\n",
    "tukey_df_sig[\"pos_neg\"] = np.where(tukey_df_sig[\"p-adj\"] > 0, \"positive\", \"negative\")\n",
    "# order the features by p-adj value\n",
    "tukey_df_sig.head(2)"
   ]
  },
  {
   "attachments": {},
   "cell_type": "markdown",
   "id": "a52da2af",
   "metadata": {
    "papermill": {
     "duration": null,
     "end_time": null,
     "exception": null,
     "start_time": null,
     "status": "completed"
    },
    "tags": []
   },
   "source": [
    "## Venn Diagrams"
   ]
  },
  {
   "cell_type": "markdown",
   "id": "24c4a945",
   "metadata": {
    "papermill": {
     "duration": null,
     "end_time": null,
     "exception": null,
     "start_time": null,
     "status": "completed"
    },
    "tags": []
   },
   "source": [
    "#### Venn diagram prep"
   ]
  },
  {
   "cell_type": "code",
   "execution_count": null,
   "id": "82cc1e22",
   "metadata": {
    "papermill": {
     "duration": null,
     "end_time": null,
     "exception": null,
     "start_time": null,
     "status": "completed"
    },
    "tags": []
   },
   "outputs": [],
   "source": [
    "# get all group1 rows that are DMSO and group2 rows that are LPS 100\n",
    "tukey_df_sig_trt_1v2 = tukey_df_sig[\n",
    "    (tukey_df_sig[\"group1\"] == f\"{treatment1}\")\n",
    "    & (tukey_df_sig[\"group2\"] == f\"{treatment2}\")\n",
    "]\n",
    "# get all group1 rows that are DMSO and group2 rows that are Thapsigargin 10\n",
    "tukey_df_sig_trt_1v3 = tukey_df_sig[\n",
    "    (tukey_df_sig[\"group1\"] == f\"{treatment1}\")\n",
    "    & (tukey_df_sig[\"group2\"] == f\"{treatment3}\")\n",
    "]\n",
    "# get all group1 rows that are LPS 100 and group2 rows that are Thapsigargin 10\n",
    "tukey_df_sig_trt_2v3 = tukey_df_sig[\n",
    "    (tukey_df_sig[\"group1\"] == f\"{treatment2}\")\n",
    "    & (tukey_df_sig[\"group2\"] == f\"{treatment3}\")\n",
    "]"
   ]
  },
  {
   "cell_type": "code",
   "execution_count": null,
   "id": "3b92729f",
   "metadata": {},
   "outputs": [],
   "source": [
    "from matplotlib import rcParams\n",
    "\n",
    "rcParams.update({\"figure.autolayout\": True})"
   ]
  },
  {
   "attachments": {},
   "cell_type": "markdown",
   "id": "3ab58f7f",
   "metadata": {
    "papermill": {
     "duration": null,
     "end_time": null,
     "exception": null,
     "start_time": null,
     "status": "completed"
    },
    "tags": []
   },
   "source": [
    "### Venn Diagram 2 groups"
   ]
  },
  {
   "cell_type": "code",
   "execution_count": null,
   "id": "930506ba",
   "metadata": {
    "papermill": {
     "duration": null,
     "end_time": null,
     "exception": null,
     "start_time": null,
     "status": "completed"
    },
    "tags": []
   },
   "outputs": [],
   "source": [
    "venn2(\n",
    "    [set(tukey_df_sig_trt_1v3[\"features\"]), set(tukey_df_sig_trt_2v3[\"features\"])],\n",
    "    set_labels=(f\"{treatment1} vs {treatment2}\", f\"{treatment1} vs {treatment3}\"),\n",
    ")\n",
    "plt.title(\"Number of Significant (p-adj < 0.01) Features \\n per Organelle\", size=24)\n",
    "save_path = pathlib.Path(\n",
    "    f\"./Figures/anova_of_features/{treatment1}_vs_{treatment2}_vs_{treatment3}\"\n",
    ")\n",
    "save_path.mkdir(parents=True, exist_ok=True)\n",
    "# plt.tight_layout()\n",
    "# plt.autoscale()\n",
    "plt.subplots_adjust(left=0.15)\n",
    "plt.savefig(\n",
    "    f\"{save_path}/{treatment1}_vs_{treatment2}_number_sig_overlaping_features_per_organelle.png\",\n",
    "    dpi=300,\n",
    "    bbox_inches=\"tight\",\n",
    ")\n",
    "plt.show()"
   ]
  },
  {
   "cell_type": "code",
   "execution_count": null,
   "id": "89093779",
   "metadata": {},
   "outputs": [],
   "source": []
  },
  {
   "cell_type": "code",
   "execution_count": null,
   "id": "b3c3b8bf",
   "metadata": {
    "papermill": {
     "duration": null,
     "end_time": null,
     "exception": null,
     "start_time": null,
     "status": "completed"
    },
    "tags": []
   },
   "outputs": [],
   "source": [
    "# create a venn diagram of the features that are significant in all conditions\n",
    "from matplotlib_venn import venn2, venn3_unweighted\n",
    "\n",
    "venn3_unweighted(\n",
    "    [\n",
    "        set(tukey_df_sig_trt_1v2[\"features\"]),\n",
    "        set(tukey_df_sig_trt_1v3[\"features\"]),\n",
    "        set(tukey_df_sig_trt_2v3[\"features\"]),\n",
    "    ],\n",
    "    set_labels=(\n",
    "        f\"{treatment1} vs {treatment2}\",\n",
    "        f\"{treatment1} vs {treatment3}\",\n",
    "        f\"{treatment2} vs {treatment3}\",\n",
    "    ),\n",
    ")\n",
    "plt.title(\"Number of Significant (p-adj < 0.01) Features \\n per Organelle\", size=24)\n",
    "save_path = pathlib.Path(\n",
    "    f\"./Figures/anova_of_features/{treatment1}_vs_{treatment2}_vs_{treatment3}\"\n",
    ")\n",
    "plt.tight_layout()\n",
    "save_path.mkdir(parents=True, exist_ok=True)\n",
    "plt.savefig(\n",
    "    f\"{save_path}/{treatment1}_vs_{treatment2}_{treatment3}_number_sig_overlaping_features_per_organelle.png\",\n",
    "    dpi=300,\n",
    "    bbox_inches=\"tight\",\n",
    ")\n",
    "plt.show()"
   ]
  },
  {
   "cell_type": "code",
   "execution_count": null,
   "id": "c9166781",
   "metadata": {
    "papermill": {
     "duration": null,
     "end_time": null,
     "exception": null,
     "start_time": null,
     "status": "completed"
    },
    "tags": []
   },
   "outputs": [],
   "source": [
    "# get the features that are only in the DMSO vs LPS 100 condition and not in the other two conditions\n",
    "tukey_df_sig_trt_1v2_unique = tukey_df_sig_trt_1v2[\n",
    "    ~tukey_df_sig_trt_1v2[\"features\"].isin(tukey_df_sig_trt_1v3[\"features\"])\n",
    "]\n",
    "tukey_df_sig_trt_1v2_unique = tukey_df_sig_trt_1v2_unique[\n",
    "    ~tukey_df_sig_trt_1v2_unique[\"features\"].isin(tukey_df_sig_trt_2v3[\"features\"])\n",
    "]\n",
    "# get the features that are only in the DMSO vs Thapsigargin 10 condition and not in the other two conditions\n",
    "tukey_df_sig_trt_1v3_unique = tukey_df_sig_trt_1v3[\n",
    "    ~tukey_df_sig_trt_1v3[\"features\"].isin(tukey_df_sig_trt_1v2[\"features\"])\n",
    "]\n",
    "tukey_df_sig_trt_1v3_unique = tukey_df_sig_trt_1v3_unique[\n",
    "    ~tukey_df_sig_trt_1v3_unique[\"features\"].isin(tukey_df_sig_trt_2v3[\"features\"])\n",
    "]\n",
    "# get the features that are only in the LPS 100 vs Thapsigargin 10 condition and not in the other two conditions\n",
    "tukey_df_sig_trt_2v3_unique = tukey_df_sig_trt_2v3[\n",
    "    ~tukey_df_sig_trt_2v3[\"features\"].isin(tukey_df_sig_trt_1v2[\"features\"])\n",
    "]\n",
    "tukey_df_sig_trt_2v3_unique = tukey_df_sig_trt_2v3_unique[\n",
    "    ~tukey_df_sig_trt_2v3_unique[\"features\"].isin(\n",
    "        tukey_df_sig_trt_1v3_unique[\"features\"]\n",
    "    )\n",
    "]\n",
    "# print the number of features that are only in each condition\n",
    "print(\n",
    "    len(tukey_df_sig_trt_1v2_unique),\n",
    "    len(tukey_df_sig_trt_1v3_unique),\n",
    "    len(tukey_df_sig_trt_2v3_unique),\n",
    ")"
   ]
  },
  {
   "attachments": {},
   "cell_type": "markdown",
   "id": "5df5d383",
   "metadata": {
    "papermill": {
     "duration": null,
     "end_time": null,
     "exception": null,
     "start_time": null,
     "status": "completed"
    },
    "tags": []
   },
   "source": [
    "## Get organelle names"
   ]
  },
  {
   "cell_type": "code",
   "execution_count": null,
   "id": "1fdc5aa1",
   "metadata": {
    "papermill": {
     "duration": null,
     "end_time": null,
     "exception": null,
     "start_time": null,
     "status": "completed"
    },
    "tags": []
   },
   "outputs": [],
   "source": [
    "# split each feature by \"_\" and get the organelle name\n",
    "tukey_df_sig_trt_1v2_unique[\"organelle\"] = tukey_df_sig_trt_1v2_unique[\n",
    "    \"features\"\n",
    "].str.split(\"_\", expand=True)[3]\n",
    "tukey_df_sig_trt_1v2_unique[\"organelle\"].unique()"
   ]
  },
  {
   "cell_type": "code",
   "execution_count": null,
   "id": "0eaf750e",
   "metadata": {
    "papermill": {
     "duration": null,
     "end_time": null,
     "exception": null,
     "start_time": null,
     "status": "completed"
    },
    "tags": []
   },
   "outputs": [],
   "source": [
    "tukey_df_sig_trt_1v2_unique[\"organelle\"] = tukey_df_sig_trt_1v2_unique[\n",
    "    \"organelle\"\n",
    "].replace(\n",
    "    [\n",
    "        None,\n",
    "        \"1\" \"0\",\n",
    "        \"CorrGasdermin\",\n",
    "        \"CorrER\",\n",
    "        \"CorrMito\",\n",
    "        \"CorrDNA\",\n",
    "        \"CorrPM\",\n",
    "        \"2\",\n",
    "        \"4\",\n",
    "        \"9\",\n",
    "        \"Adjacent\",\n",
    "        \"8\",\n",
    "        \"6\",\n",
    "        \"5\",\n",
    "        \"3\",\n",
    "        \"7\",\n",
    "    ],\n",
    "    [\n",
    "        \"Other\",\n",
    "        \"Other\" \"Other\",\n",
    "        \"GasderminD\",\n",
    "        \"ER\",\n",
    "        \"Mito\",\n",
    "        \"DNA\",\n",
    "        \"PM\",\n",
    "        \"Other\",\n",
    "        \"Other\",\n",
    "        \"Other\",\n",
    "        \"Other\",\n",
    "        \"Other\",\n",
    "        \"Other\",\n",
    "        \"Other\",\n",
    "        \"Other\",\n",
    "        \"Other\",\n",
    "    ],\n",
    ")\n",
    "print(tukey_df_sig_trt_1v2_unique[\"organelle\"].unique())"
   ]
  },
  {
   "attachments": {},
   "cell_type": "markdown",
   "id": "580a4c1c",
   "metadata": {
    "papermill": {
     "duration": null,
     "end_time": null,
     "exception": null,
     "start_time": null,
     "status": "completed"
    },
    "tags": []
   },
   "source": [
    "#### Plot number of significant features by organelle"
   ]
  },
  {
   "cell_type": "code",
   "execution_count": null,
   "id": "ee124cd3",
   "metadata": {
    "papermill": {
     "duration": null,
     "end_time": null,
     "exception": null,
     "start_time": null,
     "status": "completed"
    },
    "tags": []
   },
   "outputs": [],
   "source": [
    "# drop the other organelle\n",
    "tukey_df_sig_trt_1v2_unique = tukey_df_sig_trt_1v2_unique[\n",
    "    tukey_df_sig_trt_1v2_unique[\"organelle\"] != \"Other\"\n",
    "]\n",
    "# seaborn plot of each organelle and the counts of features that are significant\n",
    "# set the order of the organelles\n",
    "organelle_order = [\"Mito\", \"PM\", \"DNA\", \"ER\", \"GasderminD\"]\n",
    "plt.figure(figsize=(10, 5))\n",
    "sns.countplot(x=\"organelle\", data=tukey_df_sig_trt_1v2_unique, order=organelle_order)\n",
    "plt.title(\n",
    "    f\"Number of Significant Features per Organelle \\n LPS 100 ug/mL vs DMSO\", size=24\n",
    ")\n",
    "# add bar labels\n",
    "for p in plt.gca().patches:\n",
    "    plt.gca().text(\n",
    "        p.get_x() + p.get_width() / 2,\n",
    "        p.get_height(),\n",
    "        \"%d\" % int(p.get_height()),\n",
    "        fontsize=14,\n",
    "        color=\"black\",\n",
    "        ha=\"center\",\n",
    "        va=\"bottom\",\n",
    "    )\n",
    "plt.xlabel(\"Organelle\", size=20)\n",
    "plt.ylabel(\"Number of Significant Features \\n (p-adj. < 0.01)\", size=20)\n",
    "plt.ylim(0, 175)\n",
    "# rotate the x axis labels\n",
    "# plt.xticks(rotation=45, ha='right')\n",
    "# plt.tight_layout()\n",
    "save_path = pathlib.Path(\n",
    "    f\"./Figures/anova_of_features/{treatment1}_vs_{treatment2}_vs_{treatment3}\"\n",
    ")\n",
    "save_path.mkdir(parents=True, exist_ok=True)\n",
    "plt.savefig(\n",
    "    f\"{save_path}/{treatment1}_vs_{treatment2}_number_sig_features_per_organelle.png\",\n",
    "    dpi=300,\n",
    ")\n",
    "plt.show()"
   ]
  }
 ],
 "metadata": {
  "kernelspec": {
   "display_name": "Interstellar",
   "language": "python",
   "name": "python3"
  },
  "language_info": {
   "codemirror_mode": {
    "name": "ipython",
    "version": 3
   },
   "file_extension": ".py",
   "mimetype": "text/x-python",
   "name": "python",
   "nbconvert_exporter": "python",
   "pygments_lexer": "ipython3",
   "version": "3.10.12"
  },
  "papermill": {
   "default_parameters": {},
   "duration": 137.232844,
   "end_time": "2023-08-05T20:43:10.349451",
   "environment_variables": {},
   "exception": null,
   "input_path": "5.anova.ipynb",
   "output_path": "5.anova.ipynb",
   "parameters": {
    "cell_type": "SHSY5Y",
    "treatment1": "DMSO_0.100_DMSO_0.025",
    "treatment2": "LPS_100.000_DMSO_0.025",
    "treatment3": "Thapsigargin_10.000_DMSO_0.025"
   },
   "start_time": "2023-08-05T20:40:53.116607",
   "version": "2.4.0"
  }
 },
 "nbformat": 4,
 "nbformat_minor": 5
}
