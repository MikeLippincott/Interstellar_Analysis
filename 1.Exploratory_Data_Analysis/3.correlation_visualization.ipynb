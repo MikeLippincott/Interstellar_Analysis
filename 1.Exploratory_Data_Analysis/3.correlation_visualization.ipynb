{
 "cells": [
  {
   "attachments": {},
   "cell_type": "markdown",
   "metadata": {},
   "source": [
    "# This notebook plots the correlation matrix of the features in the dataset.\n",
    "The notebook number will correlate with the correlation matrix notebook number. e.g. This is Notbook 3a. correlating with notebook 2a."
   ]
  },
  {
   "cell_type": "code",
   "execution_count": null,
   "metadata": {
    "vscode": {
     "languageId": "r"
    }
   },
   "outputs": [],
   "source": [
    "suppressWarnings(suppressMessages(library(ggplot2)))\n",
    "suppressWarnings(suppressMessages(library(corrplot)))\n",
    "suppressWarnings(suppressMessages(library(dplyr)))\n",
    "suppressWarnings(suppressMessages(library(argparse)))"
   ]
  },
  {
   "cell_type": "code",
   "execution_count": null,
   "metadata": {
    "vscode": {
     "languageId": "r"
    }
   },
   "outputs": [],
   "source": [
    "# set up parser\n",
    "parser <- ArgumentParser()\n",
    "\n",
    "# set up arguments\n",
    "parser$add_argument(\"--cell_type\", default=\"none\",\n",
    "    help=\"define the cell type\"\n",
    "    )\n",
    "    \n",
    "parser$add_argument(\"--level\", default=\"none\",\n",
    "    help=\"defines the data level of aggregation\"\n",
    "    )\n",
    "\n",
    "parser$add_argument(\"--group\", default=\"none\",\n",
    "    help=\"defines the group to be used for correlation analysis\"\n",
    "    )\n",
    "\n",
    "# parse arguments\n",
    "args <- parser$parse_args()\n",
    "\n",
    "# define vars from parsed args\n",
    "cell_type = args$cell_type\n",
    "level = args$level\n",
    "group = args$group"
   ]
  },
  {
   "cell_type": "code",
   "execution_count": null,
   "metadata": {
    "vscode": {
     "languageId": "r"
    }
   },
   "outputs": [],
   "source": [
    "project_path = getwd()\n",
    "filename = paste0(group,\".csv\")\n",
    "corr_file = file.path(project_path, \"results\",\"correlation\",cell_type,level,filename)\n",
    "print(corr_file)\n",
    "# read in csv file\n",
    "df <- read.csv(corr_file)\n",
    "row.names(df) <- df$oneb_Metadata_Treatment_Dose_Inhibitor_Dose\n",
    "# drop first column\n",
    "df <- df[, -1]\n",
    "df <- as.matrix(df)"
   ]
  },
  {
   "cell_type": "code",
   "execution_count": null,
   "metadata": {
    "vscode": {
     "languageId": "r"
    }
   },
   "outputs": [],
   "source": [
    "# set path of the plot\n",
    "mainDir = project_path\n",
    "figure_dir = file.path(mainDir, \"Figures\", \"corrplot\", cell_type, level)\n",
    "print(figure_dir)\n",
    "# set path of the plot\n",
    "if (file.exists(figure_dir, recursive = TRUE)){\n",
    "    setwd(figure_dir)\n",
    "} else {\n",
    "    dir.create(figure_dir, recursive = TRUE)\n",
    "    setwd(figure_dir)\n",
    "}\n",
    "print(figure_dir)"
   ]
  },
  {
   "cell_type": "code",
   "execution_count": null,
   "metadata": {
    "vscode": {
     "languageId": "r"
    }
   },
   "outputs": [],
   "source": [
    "# plot corr plot for all wells\n",
    "# set the file name\n",
    "file = paste0(group,\".png\")\n",
    "print(file)\n",
    "png(height=1800, width=1800, file=(file.path(figure_dir,file)), type = \"cairo\")\n",
    "corrplot(df,\n",
    "        type = 'lower', \n",
    "        order = 'hclust',\n",
    "        tl.col = 'black',\n",
    "        cl.ratio = 0.2,\n",
    "        cl.cex=2, \n",
    "        tl.cex=2, \n",
    "        tl.srt = 45,\n",
    "        mar=c(0,0,4,0))\n",
    "dev.off()"
   ]
  }
 ],
 "metadata": {
  "kernelspec": {
   "display_name": "R",
   "language": "R",
   "name": "ir"
  },
  "language_info": {
   "codemirror_mode": "r",
   "file_extension": ".r",
   "mimetype": "text/x-r-source",
   "name": "R",
   "pygments_lexer": "r",
   "version": "4.2.2"
  },
  "orig_nbformat": 4
 },
 "nbformat": 4,
 "nbformat_minor": 2
}
