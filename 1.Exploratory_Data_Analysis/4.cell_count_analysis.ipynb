{
    "cells": [
        {
            "cell_type": "code",
            "execution_count": null,
            "id": "b99699f6",
            "metadata": {
                "execution": {
                    "iopub.execute_input": "2023-07-12T03:22:50.835393Z",
                    "iopub.status.busy": "2023-07-12T03:22:50.835087Z",
                    "iopub.status.idle": "2023-07-12T03:22:52.370659Z",
                    "shell.execute_reply": "2023-07-12T03:22:52.370051Z"
                },
                "papermill": {
                    "duration": 1.540034,
                    "end_time": "2023-07-12T03:22:52.372462",
                    "exception": false,
                    "start_time": "2023-07-12T03:22:50.832428",
                    "status": "completed"
                },
                "tags": []
            },
            "outputs": [],
            "source": [
                "import matplotlib.pyplot as plt\n",
                "\n",
                "%matplotlib inline\n",
                "import pathlib\n",
                "\n",
                "import numpy as np\n",
                "import pandas as pd\n",
                "import pyarrow.parquet as pq\n",
                "import seaborn as sns"
            ]
        },
        {
            "cell_type": "code",
            "execution_count": null,
            "id": "3643a514",
            "metadata": {
                "execution": {
                    "iopub.execute_input": "2023-07-12T03:22:52.385426Z",
                    "iopub.status.busy": "2023-07-12T03:22:52.384921Z",
                    "iopub.status.idle": "2023-07-12T03:22:52.387644Z",
                    "shell.execute_reply": "2023-07-12T03:22:52.387064Z"
                },
                "papermill": {
                    "duration": 0.006018,
                    "end_time": "2023-07-12T03:22:52.388853",
                    "exception": false,
                    "start_time": "2023-07-12T03:22:52.382835",
                    "status": "completed"
                },
                "tags": [
                    "injected-parameters"
                ]
            },
            "outputs": [],
            "source": [
                "# Parameters\n",
                "celltype = \"SHSY5Y\""
            ]
        },
        {
            "cell_type": "code",
            "execution_count": null,
            "id": "80fe4b0d",
            "metadata": {
                "execution": {
                    "iopub.execute_input": "2023-07-12T03:22:52.393642Z",
                    "iopub.status.busy": "2023-07-12T03:22:52.393225Z",
                    "iopub.status.idle": "2023-07-12T03:22:52.395872Z",
                    "shell.execute_reply": "2023-07-12T03:22:52.395292Z"
                },
                "papermill": {
                    "duration": 0.006723,
                    "end_time": "2023-07-12T03:22:52.396918",
                    "exception": false,
                    "start_time": "2023-07-12T03:22:52.390195",
                    "status": "completed"
                },
                "tags": []
            },
            "outputs": [],
            "source": [
                "# Set Path\n",
                "path = pathlib.Path(f\"../data/{celltype}_preprocessed_sc_norm.parquet\")"
            ]
        },
        {
            "cell_type": "code",
            "execution_count": null,
            "id": "255c7c35",
            "metadata": {
                "execution": {
                    "iopub.execute_input": "2023-07-12T03:22:52.400832Z",
                    "iopub.status.busy": "2023-07-12T03:22:52.400389Z",
                    "iopub.status.idle": "2023-07-12T03:24:11.547784Z",
                    "shell.execute_reply": "2023-07-12T03:24:11.547248Z"
                },
                "papermill": {
                    "duration": 79.151133,
                    "end_time": "2023-07-12T03:24:11.549387",
                    "exception": false,
                    "start_time": "2023-07-12T03:22:52.398254",
                    "status": "completed"
                },
                "tags": []
            },
            "outputs": [],
            "source": [
                "# import data\n",
                "df = pq.read_table(path).to_pandas()"
            ]
        },
        {
            "cell_type": "code",
            "execution_count": null,
            "id": "ed00ed1a",
            "metadata": {},
            "outputs": [],
            "source": [
                "subset_df = df[\n",
                "    [\n",
                "        \"oneb_Metadata_Treatment_Dose_Inhibitor_Dose\",\n",
                "        \"Metadata_number_of_singlecells\",\n",
                "        \"Metadata_Well\",\n",
                "        \"Metadata_Treatment\",\n",
                "    ]\n",
                "]\n",
                "\n",
                "subset_df_path = pathlib.Path(f\"./results/{celltype}_cell_counts.parquet\")\n",
                "# if path does not exist, create it\n",
                "subset_df_path.parent.mkdir(parents=True, exist_ok=True)\n",
                "subset_df.to_parquet(subset_df_path)"
            ]
        },
        {
            "cell_type": "code",
            "execution_count": null,
            "id": "1b64a5b7",
            "metadata": {
                "execution": {
                    "iopub.execute_input": "2023-07-12T03:24:11.557822Z",
                    "iopub.status.busy": "2023-07-12T03:24:11.557372Z",
                    "iopub.status.idle": "2023-07-12T03:24:13.359604Z",
                    "shell.execute_reply": "2023-07-12T03:24:13.359144Z"
                },
                "papermill": {
                    "duration": 1.805352,
                    "end_time": "2023-07-12T03:24:13.360700",
                    "exception": false,
                    "start_time": "2023-07-12T03:24:11.555348",
                    "status": "completed"
                },
                "tags": []
            },
            "outputs": [],
            "source": [
                "# barplot of number of single cells per treatment\n",
                "sns.barplot(\n",
                "    x=\"Metadata_Treatment\",\n",
                "    y=\"Metadata_number_of_singlecells\",\n",
                "    data=subset_df,\n",
                "    estimator=np.mean,\n",
                "    errorbar=(\"sd\"),\n",
                ")\n",
                "\n",
                "plt.ylabel(\"Number of single cells\")\n",
                "plt.xlabel(\"Treatment\")\n",
                "plt.xticks(rotation=45)\n",
                "plt.title(\"Number of single cells per treatment\")\n",
                "\n",
                "# if path does not exist, create it\n",
                "pathlib.Path(f\"Figures/cell_counts_plate2/{celltype}\").mkdir(\n",
                "    parents=True, exist_ok=True\n",
                ")\n",
                "# save figure\n",
                "plt.savefig(\n",
                "    f\"Figures/cell_counts_plate2/{celltype}/Number_of_single_cells_per_treatment.png\",\n",
                "    bbox_inches=\"tight\",\n",
                ")\n",
                "plt.show()\n",
                "plt.close()"
            ]
        },
        {
            "cell_type": "code",
            "execution_count": null,
            "id": "cef0ca66",
            "metadata": {
                "execution": {
                    "iopub.execute_input": "2023-07-12T03:24:13.367814Z",
                    "iopub.status.busy": "2023-07-12T03:24:13.367444Z",
                    "iopub.status.idle": "2023-07-12T03:24:30.601838Z",
                    "shell.execute_reply": "2023-07-12T03:24:30.601372Z"
                },
                "papermill": {
                    "duration": 17.23787,
                    "end_time": "2023-07-12T03:24:30.602830",
                    "exception": false,
                    "start_time": "2023-07-12T03:24:13.364960",
                    "status": "completed"
                },
                "tags": []
            },
            "outputs": [],
            "source": [
                "# if path does not exist, create it\n",
                "pathlib.Path(f\"Figures/cell_counts_plate2/{celltype}\").mkdir(\n",
                "    parents=True, exist_ok=True\n",
                ")\n",
                "\n",
                "# Number of single cells per treatment and dose level\n",
                "for i in df[\"Metadata_Treatment\"].unique():\n",
                "    tmp_df = df[df[\"Metadata_Treatment\"] == i]\n",
                "    sns.barplot(\n",
                "        x=\"Metadata_Dose\",\n",
                "        y=\"Metadata_number_of_singlecells\",\n",
                "        # hue=\"Metadata_Treatment\",\n",
                "        estimator=np.median,\n",
                "        data=tmp_df,\n",
                "        errorbar=(\"sd\"),\n",
                "    )\n",
                "    plt.xlabel(f\"{i}_doasage\")\n",
                "    plt.ylabel(\"Number of single cells\")\n",
                "    plt.xticks(rotation=45)\n",
                "    plt.title(f\"Number of single cells per {i}\")\n",
                "\n",
                "    plt.savefig(\n",
                "        f\"Figures/cell_counts_plate2/{celltype}/Number_of_single_cells_per_{i}.png\",\n",
                "        bbox_inches=\"tight\",\n",
                "    )\n",
                "    plt.show()\n",
                "    plt.close()"
            ]
        }
    ],
    "metadata": {
        "kernelspec": {
            "display_name": "Interstellar",
            "language": "python",
            "name": "python3"
        },
        "language_info": {
            "codemirror_mode": {
                "name": "ipython",
                "version": 3
            },
            "file_extension": ".py",
            "mimetype": "text/x-python",
            "name": "python",
            "nbconvert_exporter": "python",
            "pygments_lexer": "ipython3",
            "version": "3.10.12"
        },
        "papermill": {
            "default_parameters": {},
            "duration": 102.424934,
            "end_time": "2023-07-12T03:24:31.332551",
            "environment_variables": {},
            "exception": null,
            "input_path": "0.cell_count_analysis.ipynb",
            "output_path": "0.cell_count_analysis.ipynb",
            "parameters": {
                "celltype": "PBMC"
            },
            "start_time": "2023-07-12T03:22:48.907617",
            "version": "2.4.0"
        },
        "vscode": {
            "interpreter": {
                "hash": "72ae02083a9ca7d143c492d1aec380c7bf553ec51bd66e90e72bba65228121b6"
            }
        }
    },
    "nbformat": 4,
    "nbformat_minor": 5
}
