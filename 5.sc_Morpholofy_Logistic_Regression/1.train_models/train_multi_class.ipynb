{
 "cells": [
  {
   "cell_type": "code",
   "execution_count": 1,
   "id": "754944f5",
   "metadata": {
    "execution": {
     "iopub.execute_input": "2023-07-17T20:45:34.048926Z",
     "iopub.status.busy": "2023-07-17T20:45:34.048561Z",
     "iopub.status.idle": "2023-07-17T20:45:34.699915Z",
     "shell.execute_reply": "2023-07-17T20:45:34.699198Z"
    },
    "papermill": {
     "duration": 0.658581,
     "end_time": "2023-07-17T20:45:34.702226",
     "exception": false,
     "start_time": "2023-07-17T20:45:34.043645",
     "status": "completed"
    },
    "tags": []
   },
   "outputs": [],
   "source": [
    "import pathlib\n",
    "import warnings\n",
    "\n",
    "import pandas as pd\n",
    "import numpy as np\n",
    "\n",
    "from sklearn.linear_model import LogisticRegression\n",
    "from sklearn.model_selection import (\n",
    "    StratifiedKFold,\n",
    "    GridSearchCV,\n",
    ")\n",
    "from sklearn.utils import shuffle, parallel_backend\n",
    "from sklearn.exceptions import ConvergenceWarning\n",
    "from joblib import dump\n",
    "import itertools\n",
    "\n",
    "import pyarrow.parquet as pq"
   ]
  },
  {
   "cell_type": "code",
   "execution_count": 2,
   "id": "0a5d58ef",
   "metadata": {
    "execution": {
     "iopub.execute_input": "2023-07-17T20:45:34.710671Z",
     "iopub.status.busy": "2023-07-17T20:45:34.710355Z",
     "iopub.status.idle": "2023-07-17T20:45:36.869725Z",
     "shell.execute_reply": "2023-07-17T20:45:36.869009Z"
    },
    "papermill": {
     "duration": 2.165102,
     "end_time": "2023-07-17T20:45:36.871239",
     "exception": false,
     "start_time": "2023-07-17T20:45:34.706137",
     "status": "completed"
    },
    "tags": []
   },
   "outputs": [],
   "source": [
    "# load training data from indexes and features dataframe\n",
    "data_split_path = pathlib.Path(f\"../0.split_data/indexes/data_split_indexes.tsv\")\n",
    "data_path = pathlib.Path(\"../../data/SHSY5Y_preprocessed_sc_norm.parquet\")\n",
    "# dataframe with only the labeled data we want (exclude certain phenotypic classes)\n",
    "data_df = pq.read_table(data_path).to_pandas()\n",
    "data_split_indexes = pd.read_csv(data_split_path, sep=\"\\t\", index_col=0)\n",
    "\n",
    "# subset data_df by indexes in data_split_indexes\n",
    "training_data = data_df.loc[data_split_indexes[\"labeled_data_index\"]]"
   ]
  },
  {
   "cell_type": "code",
   "execution_count": 3,
   "id": "d24dc9e6",
   "metadata": {
    "execution": {
     "iopub.execute_input": "2023-07-17T20:45:36.877290Z",
     "iopub.status.busy": "2023-07-17T20:45:36.877114Z",
     "iopub.status.idle": "2023-07-17T20:45:36.882894Z",
     "shell.execute_reply": "2023-07-17T20:45:36.882096Z"
    },
    "papermill": {
     "duration": 0.011784,
     "end_time": "2023-07-17T20:45:36.885074",
     "exception": false,
     "start_time": "2023-07-17T20:45:36.873290",
     "status": "completed"
    },
    "tags": []
   },
   "outputs": [],
   "source": [
    "# read in toml file and get parameters\n",
    "import toml\n",
    "\n",
    "toml_path = pathlib.Path(\"multi_class_config.toml\")\n",
    "with open(toml_path, \"r\") as f:\n",
    "    config = toml.load(f)\n",
    "f.close()\n",
    "control = config[\"logistic_regression_params\"][\"control\"]\n",
    "treatments = config[\"logistic_regression_params\"][\"treatments\"]"
   ]
  },
  {
   "cell_type": "code",
   "execution_count": 4,
   "id": "7b776c83",
   "metadata": {
    "execution": {
     "iopub.execute_input": "2023-07-17T20:45:36.892660Z",
     "iopub.status.busy": "2023-07-17T20:45:36.892354Z",
     "iopub.status.idle": "2023-07-17T20:45:36.909600Z",
     "shell.execute_reply": "2023-07-17T20:45:36.908983Z"
    },
    "papermill": {
     "duration": 0.023468,
     "end_time": "2023-07-17T20:45:36.911956",
     "exception": false,
     "start_time": "2023-07-17T20:45:36.888488",
     "status": "completed"
    },
    "tags": []
   },
   "outputs": [],
   "source": [
    "# get oneb_Metadata_Treatment_Dose_Inhibitor_Dose  =='DMSO_0.100_DMSO_0.025' and 'LPS_100.000_DMSO_0.025 and Thapsigargin_10.000_DMSO_0.025'\n",
    "# set tmp_lst tp select on\n",
    "tmp_lst = [control] + treatments\n",
    "training_data = training_data[\n",
    "    training_data[\"oneb_Metadata_Treatment_Dose_Inhibitor_Dose\"].isin(tmp_lst)\n",
    "]"
   ]
  },
  {
   "cell_type": "code",
   "execution_count": 5,
   "id": "5b1ad5a4",
   "metadata": {
    "execution": {
     "iopub.execute_input": "2023-07-17T20:45:36.921076Z",
     "iopub.status.busy": "2023-07-17T20:45:36.920753Z",
     "iopub.status.idle": "2023-07-17T20:45:36.927737Z",
     "shell.execute_reply": "2023-07-17T20:45:36.926936Z"
    },
    "papermill": {
     "duration": 0.013477,
     "end_time": "2023-07-17T20:45:36.929520",
     "exception": false,
     "start_time": "2023-07-17T20:45:36.916043",
     "status": "completed"
    },
    "tags": []
   },
   "outputs": [],
   "source": [
    "# at random downsample the DMSO treatment to match the number of wells in the LPS treatment\n",
    "# get the number of wells in the LPS treatment\n",
    "trt_wells = training_data[\n",
    "    training_data[\"oneb_Metadata_Treatment_Dose_Inhibitor_Dose\"] == treatments[0]\n",
    "].shape[0]\n",
    "# get the number of wells in the DMSO treatment\n",
    "dmso_wells = training_data[\n",
    "    training_data[\"oneb_Metadata_Treatment_Dose_Inhibitor_Dose\"] == control\n",
    "].shape[0]\n",
    "# downsample the DMSO treatment to match the number of wells in the LPS treatment\n",
    "dmso_holdout = training_data[\n",
    "    training_data[\"oneb_Metadata_Treatment_Dose_Inhibitor_Dose\"] == control\n",
    "].sample(n=trt_wells)\n",
    "# remove the downsampled DMSO wells from the data\n",
    "training_data = training_data.drop(dmso_holdout.index)"
   ]
  },
  {
   "cell_type": "code",
   "execution_count": 6,
   "id": "6d9f329d",
   "metadata": {
    "execution": {
     "iopub.execute_input": "2023-07-17T20:45:36.937995Z",
     "iopub.status.busy": "2023-07-17T20:45:36.937679Z",
     "iopub.status.idle": "2023-07-17T20:45:36.944109Z",
     "shell.execute_reply": "2023-07-17T20:45:36.943264Z"
    },
    "papermill": {
     "duration": 0.012586,
     "end_time": "2023-07-17T20:45:36.945911",
     "exception": false,
     "start_time": "2023-07-17T20:45:36.933325",
     "status": "completed"
    },
    "tags": []
   },
   "outputs": [],
   "source": [
    "# define metadata columns\n",
    "# subset each column that contains metadata\n",
    "metadata = training_data.filter(regex=\"Metadata\")\n",
    "# drop all metadata columns\n",
    "data_x = training_data.drop(metadata.columns, axis=1)\n",
    "labeled_data = training_data[\"oneb_Metadata_Treatment_Dose_Inhibitor_Dose\"]"
   ]
  },
  {
   "cell_type": "code",
   "execution_count": 7,
   "id": "913e4b2c",
   "metadata": {
    "execution": {
     "iopub.execute_input": "2023-07-17T20:45:36.954399Z",
     "iopub.status.busy": "2023-07-17T20:45:36.954066Z",
     "iopub.status.idle": "2023-07-17T20:45:36.962278Z",
     "shell.execute_reply": "2023-07-17T20:45:36.961330Z"
    },
    "papermill": {
     "duration": 0.014567,
     "end_time": "2023-07-17T20:45:36.964234",
     "exception": false,
     "start_time": "2023-07-17T20:45:36.949667",
     "status": "completed"
    },
    "tags": []
   },
   "outputs": [
    {
     "data": {
      "text/plain": [
       "'DMSO_0.100_DMSO_0.025__LPS_1.000_DMSO_0.025__LPS_100.000_DMSO_0.025'"
      ]
     },
     "execution_count": 7,
     "metadata": {},
     "output_type": "execute_result"
    }
   ],
   "source": [
    "# define the model save name\n",
    "treatments_str = \"\"\n",
    "for i in tmp_lst:\n",
    "    # if not last in list\n",
    "    if i != tmp_lst[-1]:\n",
    "        treatments_str += i + \"__\"\n",
    "    else:\n",
    "        treatments_str += i\n",
    "treatments_str"
   ]
  },
  {
   "cell_type": "code",
   "execution_count": 8,
   "id": "c7658b0f",
   "metadata": {
    "execution": {
     "iopub.execute_input": "2023-07-17T20:45:36.973315Z",
     "iopub.status.busy": "2023-07-17T20:45:36.972806Z",
     "iopub.status.idle": "2023-07-17T20:45:44.001263Z",
     "shell.execute_reply": "2023-07-17T20:45:44.000375Z"
    },
    "papermill": {
     "duration": 7.034353,
     "end_time": "2023-07-17T20:45:44.002302",
     "exception": false,
     "start_time": "2023-07-17T20:45:36.967949",
     "status": "completed"
    },
    "tags": []
   },
   "outputs": [
    {
     "name": "stdout",
     "output_type": "stream",
     "text": [
      "Parameters being tested during grid search: {'C': array([1.e-03, 1.e-02, 1.e-01, 1.e+00, 1.e+01, 1.e+02, 1.e+03]), 'l1_ratio': array([0. , 0.1, 0.2, 0.3, 0.4, 0.5, 0.6, 0.7, 0.8, 0.9, 1. ])}\n",
      "\n"
     ]
    },
    {
     "name": "stdout",
     "output_type": "stream",
     "text": [
      "Best parameters: {'C': 0.1, 'l1_ratio': 0.6000000000000001}\n",
      "Score of best estimator: 0.41666666666666663\n",
      "\n"
     ]
    },
    {
     "name": "stdout",
     "output_type": "stream",
     "text": [
      "Best parameters: {'C': 1.0, 'l1_ratio': 0.30000000000000004}\n",
      "Score of best estimator: 0.373015873015873\n",
      "\n"
     ]
    }
   ],
   "source": [
    "# specify model types, feature types, and phenotypic classes\n",
    "model_types = [\"final\", \"shuffled_baseline\"]\n",
    "feature_types = [\"CP\"]\n",
    "# create stratified data sets for k-fold cross validation\n",
    "straified_k_folds = StratifiedKFold(n_splits=2, shuffle=False)\n",
    "\n",
    "# create logistic regression model with following parameters\n",
    "log_reg_model = LogisticRegression(\n",
    "    penalty=\"elasticnet\",\n",
    "    solver=\"saga\",\n",
    "    max_iter=10,\n",
    "    n_jobs=-1,\n",
    "    random_state=0,\n",
    "    class_weight=\"balanced\",\n",
    ")\n",
    "\n",
    "# specify parameters to tune for\n",
    "parameters = {\"C\": np.logspace(-3, 3, 7), \"l1_ratio\": np.linspace(0, 1, 11)}\n",
    "print(f\"Parameters being tested during grid search: {parameters}\\n\")\n",
    "\n",
    "# create grid search with cross validation with hypertuning params\n",
    "grid_search_cv = GridSearchCV(\n",
    "    log_reg_model, parameters, cv=straified_k_folds, n_jobs=-1, scoring=\"f1_weighted\"\n",
    ")\n",
    "\n",
    "# train model on training data on all combinations of model types, feature types, and phenotypic classes\n",
    "for model_type, feature_type in itertools.product(model_types, feature_types):\n",
    "\n",
    "    if model_type == \"shuffled_baseline\":\n",
    "        for column in data_x:\n",
    "            np.random.shuffle(data_x[column].values)\n",
    "\n",
    "    with parallel_backend(\"multiprocessing\"):\n",
    "        with warnings.catch_warnings():\n",
    "            warnings.filterwarnings(\n",
    "                \"ignore\", category=ConvergenceWarning, module=\"sklearn\"\n",
    "            )\n",
    "            grid_search_cv = grid_search_cv.fit(data_x, labeled_data)\n",
    "\n",
    "    # print info for best estimator\n",
    "    print(f\"Best parameters: {grid_search_cv.best_params_}\")\n",
    "    print(f\"Score of best estimator: {grid_search_cv.best_score_}\\n\")\n",
    "\n",
    "    results_dir = f\"./models/multi_class/{treatments_str}\"\n",
    "    # create results directory if it doesn't exist\n",
    "    pathlib.Path(results_dir).mkdir(parents=True, exist_ok=True)\n",
    "    # save final estimator\n",
    "    dump(\n",
    "        grid_search_cv.best_estimator_,\n",
    "        f\"{results_dir}/{model_type}__{feature_type}.joblib\",\n",
    "    )"
   ]
  },
  {
   "cell_type": "code",
   "execution_count": 9,
   "id": "1598a22e",
   "metadata": {
    "execution": {
     "iopub.execute_input": "2023-07-17T20:45:44.007721Z",
     "iopub.status.busy": "2023-07-17T20:45:44.007427Z",
     "iopub.status.idle": "2023-07-17T20:45:44.011253Z",
     "shell.execute_reply": "2023-07-17T20:45:44.010745Z"
    },
    "papermill": {
     "duration": 0.007706,
     "end_time": "2023-07-17T20:45:44.012249",
     "exception": false,
     "start_time": "2023-07-17T20:45:44.004543",
     "status": "completed"
    },
    "tags": []
   },
   "outputs": [],
   "source": [
    "# save condfig copy specific to this model to the folder with the results\n",
    "# use pathlib\n",
    "config_copy_path = pathlib.Path(f\"{results_dir}/{model_type}__{feature_type}.toml\")\n",
    "with open(config_copy_path, \"w\") as f:\n",
    "    toml.dump(config, f)\n",
    "f.close()"
   ]
  }
 ],
 "metadata": {
  "kernelspec": {
   "display_name": "Interstellar",
   "language": "python",
   "name": "python3"
  },
  "language_info": {
   "codemirror_mode": {
    "name": "ipython",
    "version": 3
   },
   "file_extension": ".py",
   "mimetype": "text/x-python",
   "name": "python",
   "nbconvert_exporter": "python",
   "pygments_lexer": "ipython3",
   "version": "3.10.9 (main, Mar  8 2023, 10:47:38) [GCC 11.2.0]"
  },
  "papermill": {
   "default_parameters": {},
   "duration": 13.718922,
   "end_time": "2023-07-17T20:45:46.833575",
   "environment_variables": {},
   "exception": null,
   "input_path": "train_multi_class.ipynb",
   "output_path": "train_multi_class.ipynb",
   "parameters": {},
   "start_time": "2023-07-17T20:45:33.114653",
   "version": "2.4.0"
  },
  "vscode": {
   "interpreter": {
    "hash": "72ae02083a9ca7d143c492d1aec380c7bf553ec51bd66e90e72bba65228121b6"
   }
  }
 },
 "nbformat": 4,
 "nbformat_minor": 5
}
