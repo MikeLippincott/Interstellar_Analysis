{
 "cells": [
  {
   "cell_type": "code",
   "execution_count": 1,
   "id": "215ce1c1",
   "metadata": {
    "execution": {
     "iopub.execute_input": "2023-07-17T20:45:19.843847Z",
     "iopub.status.busy": "2023-07-17T20:45:19.843314Z",
     "iopub.status.idle": "2023-07-17T20:45:20.485916Z",
     "shell.execute_reply": "2023-07-17T20:45:20.485261Z"
    },
    "papermill": {
     "duration": 0.6472,
     "end_time": "2023-07-17T20:45:20.487410",
     "exception": false,
     "start_time": "2023-07-17T20:45:19.840210",
     "status": "completed"
    },
    "tags": []
   },
   "outputs": [],
   "source": [
    "import pyarrow.parquet as pq\n",
    "import pandas as pd\n",
    "import numpy as np\n",
    "import pathlib\n",
    "import warnings\n",
    "\n",
    "from sklearn.utils import shuffle, parallel_backend\n",
    "from sklearn.exceptions import ConvergenceWarning\n",
    "from joblib import dump\n",
    "\n",
    "from sklearn.model_selection import train_test_split\n",
    "from sklearn.linear_model import LogisticRegression\n",
    "from sklearn.model_selection import (\n",
    "    StratifiedKFold,\n",
    "    GridSearchCV,\n",
    ")\n",
    "\n",
    "import itertools\n",
    "import sys"
   ]
  },
  {
   "cell_type": "code",
   "execution_count": 2,
   "id": "0144d818",
   "metadata": {
    "execution": {
     "iopub.execute_input": "2023-07-17T20:45:20.492419Z",
     "iopub.status.busy": "2023-07-17T20:45:20.492013Z",
     "iopub.status.idle": "2023-07-17T20:45:22.616520Z",
     "shell.execute_reply": "2023-07-17T20:45:22.615829Z"
    },
    "papermill": {
     "duration": 2.128595,
     "end_time": "2023-07-17T20:45:22.618141",
     "exception": false,
     "start_time": "2023-07-17T20:45:20.489546",
     "status": "completed"
    },
    "tags": []
   },
   "outputs": [],
   "source": [
    "# load training data from indexes and features dataframe\n",
    "data_split_path = pathlib.Path(f\"../0.split_data/indexes/data_split_indexes.tsv\")\n",
    "data_path = pathlib.Path(\"../../data/SHSY5Y_preprocessed_sc_norm.parquet\")\n",
    "# dataframe with only the labeled data we want (exclude certain phenotypic classes)\n",
    "data_df = pq.read_table(data_path).to_pandas()\n",
    "data_split_indexes = pd.read_csv(data_split_path, sep=\"\\t\", index_col=0)\n",
    "\n",
    "# subset data_df by indexes in data_split_indexes\n",
    "training_data = data_df.loc[data_split_indexes[\"labeled_data_index\"]]"
   ]
  },
  {
   "cell_type": "code",
   "execution_count": 3,
   "id": "d61a846c",
   "metadata": {
    "execution": {
     "iopub.execute_input": "2023-07-17T20:45:22.623487Z",
     "iopub.status.busy": "2023-07-17T20:45:22.622780Z",
     "iopub.status.idle": "2023-07-17T20:45:22.631511Z",
     "shell.execute_reply": "2023-07-17T20:45:22.630754Z"
    },
    "papermill": {
     "duration": 0.012879,
     "end_time": "2023-07-17T20:45:22.633026",
     "exception": false,
     "start_time": "2023-07-17T20:45:22.620147",
     "status": "completed"
    },
    "tags": []
   },
   "outputs": [],
   "source": [
    "# read in toml file and get parameters\n",
    "import toml\n",
    "\n",
    "toml_path = pathlib.Path(\"single_class_config.toml\")\n",
    "with open(toml_path, \"r\") as f:\n",
    "    config = toml.load(f)\n",
    "f.close()\n",
    "control = config[\"logistic_regression_params\"][\"control\"]\n",
    "treatment = config[\"logistic_regression_params\"][\"treatments\"]"
   ]
  },
  {
   "cell_type": "code",
   "execution_count": 4,
   "id": "5219c9ba",
   "metadata": {
    "execution": {
     "iopub.execute_input": "2023-07-17T20:45:22.638393Z",
     "iopub.status.busy": "2023-07-17T20:45:22.637878Z",
     "iopub.status.idle": "2023-07-17T20:45:22.657633Z",
     "shell.execute_reply": "2023-07-17T20:45:22.656677Z"
    },
    "papermill": {
     "duration": 0.024147,
     "end_time": "2023-07-17T20:45:22.658982",
     "exception": false,
     "start_time": "2023-07-17T20:45:22.634835",
     "status": "completed"
    },
    "tags": []
   },
   "outputs": [],
   "source": [
    "# get oneb_Metadata_Treatment_Dose_Inhibitor_Dose  =='DMSO_0.100_DMSO_0.025' and 'LPS_100.000_DMSO_0.025 and Thapsigargin_10.000_DMSO_0.025'\n",
    "training_data = training_data[\n",
    "    training_data[\"oneb_Metadata_Treatment_Dose_Inhibitor_Dose\"].isin(\n",
    "        [control, treatment]\n",
    "    )\n",
    "]"
   ]
  },
  {
   "cell_type": "code",
   "execution_count": 5,
   "id": "fc7c0f87",
   "metadata": {
    "execution": {
     "iopub.execute_input": "2023-07-17T20:45:22.664127Z",
     "iopub.status.busy": "2023-07-17T20:45:22.663620Z",
     "iopub.status.idle": "2023-07-17T20:45:22.672272Z",
     "shell.execute_reply": "2023-07-17T20:45:22.671462Z"
    },
    "papermill": {
     "duration": 0.012655,
     "end_time": "2023-07-17T20:45:22.673486",
     "exception": false,
     "start_time": "2023-07-17T20:45:22.660831",
     "status": "completed"
    },
    "tags": []
   },
   "outputs": [],
   "source": [
    "# at random downsample the DMSO treatment to match the number of wells in the LPS treatment\n",
    "# get the number of wells in the LPS treatment\n",
    "lps_wells = training_data[\n",
    "    training_data[\"oneb_Metadata_Treatment_Dose_Inhibitor_Dose\"] == treatment\n",
    "].shape[0]\n",
    "# get the number of wells in the DMSO treatment\n",
    "dmso_wells = training_data[\n",
    "    training_data[\"oneb_Metadata_Treatment_Dose_Inhibitor_Dose\"] == control\n",
    "].shape[0]\n",
    "# downsample the DMSO treatment to match the number of wells in the LPS treatment\n",
    "dmso_holdout = training_data[\n",
    "    training_data[\"oneb_Metadata_Treatment_Dose_Inhibitor_Dose\"] == control\n",
    "].sample(n=lps_wells)\n",
    "# remove the downsampled DMSO wells from the data\n",
    "training_data = training_data.drop(dmso_holdout.index)"
   ]
  },
  {
   "cell_type": "code",
   "execution_count": 6,
   "id": "b292a431",
   "metadata": {
    "execution": {
     "iopub.execute_input": "2023-07-17T20:45:22.678456Z",
     "iopub.status.busy": "2023-07-17T20:45:22.677957Z",
     "iopub.status.idle": "2023-07-17T20:45:22.685526Z",
     "shell.execute_reply": "2023-07-17T20:45:22.684712Z"
    },
    "papermill": {
     "duration": 0.011841,
     "end_time": "2023-07-17T20:45:22.687147",
     "exception": false,
     "start_time": "2023-07-17T20:45:22.675306",
     "status": "completed"
    },
    "tags": []
   },
   "outputs": [],
   "source": [
    "# define metadata columns\n",
    "# subset each column that contains metadata\n",
    "metadata = training_data.filter(regex=\"Metadata\")\n",
    "# drop all metadata columns\n",
    "data_x = training_data.drop(metadata.columns, axis=1)\n",
    "labeled_data = training_data[\"Metadata_Treatment\"]"
   ]
  },
  {
   "cell_type": "code",
   "execution_count": 7,
   "id": "3c5ebac7",
   "metadata": {
    "execution": {
     "iopub.execute_input": "2023-07-17T20:45:22.693405Z",
     "iopub.status.busy": "2023-07-17T20:45:22.693070Z",
     "iopub.status.idle": "2023-07-17T20:45:29.642232Z",
     "shell.execute_reply": "2023-07-17T20:45:29.641696Z"
    },
    "papermill": {
     "duration": 6.953695,
     "end_time": "2023-07-17T20:45:29.643337",
     "exception": false,
     "start_time": "2023-07-17T20:45:22.689642",
     "status": "completed"
    },
    "tags": []
   },
   "outputs": [
    {
     "name": "stdout",
     "output_type": "stream",
     "text": [
      "Parameters being tested during grid search: {'C': array([1.e-03, 1.e-02, 1.e-01, 1.e+00, 1.e+01, 1.e+02, 1.e+03]), 'l1_ratio': array([0. , 0.1, 0.2, 0.3, 0.4, 0.5, 0.6, 0.7, 0.8, 0.9, 1. ])}\n",
      "\n",
      "Training final model on CP features for LPS_10.000_DMSO_0.025 with 0 samples\n"
     ]
    },
    {
     "name": "stdout",
     "output_type": "stream",
     "text": [
      "Best parameters: {'C': 0.01, 'l1_ratio': 0.0}\n",
      "Score of best estimator: 0.35\n",
      "\n",
      "Training shuffled_baseline model on CP features for LPS_10.000_DMSO_0.025 with 0 samples\n"
     ]
    },
    {
     "name": "stdout",
     "output_type": "stream",
     "text": [
      "Best parameters: {'C': 0.01, 'l1_ratio': 0.30000000000000004}\n",
      "Score of best estimator: 0.5333333333333333\n",
      "\n"
     ]
    }
   ],
   "source": [
    "# specify model types, feature types, and phenotypic classes\n",
    "model_types = [\"final\", \"shuffled_baseline\"]\n",
    "feature_types = [\"CP\"]\n",
    "phenotypic_classes = [f\"{treatment}\"]\n",
    "# create stratified data sets forLPS k-fold cross validation\n",
    "straified_k_folds = StratifiedKFold(n_splits=2, shuffle=False)\n",
    "\n",
    "# create logistic regression model with following parameters\n",
    "log_reg_model = LogisticRegression(\n",
    "    penalty=\"elasticnet\",\n",
    "    solver=\"saga\",\n",
    "    max_iter=10,\n",
    "    n_jobs=-1,\n",
    "    random_state=0,\n",
    "    class_weight=\"balanced\",\n",
    ")\n",
    "\n",
    "# specify parameters to tune for\n",
    "parameters = {\"C\": np.logspace(-3, 3, 7), \"l1_ratio\": np.linspace(0, 1, 11)}\n",
    "print(f\"Parameters being tested during grid search: {parameters}\\n\")\n",
    "\n",
    "# create grid search with cross validation with hypertuning params\n",
    "grid_search_cv = GridSearchCV(\n",
    "    log_reg_model, parameters, cv=straified_k_folds, n_jobs=-1, scoring=\"f1_weighted\"\n",
    ")\n",
    "\n",
    "# train model on training data on all combinations of model types, feature types, and phenotypic classes\n",
    "for model_type, feature_type, phenotypic_class in itertools.product(\n",
    "    model_types, feature_types, phenotypic_classes\n",
    "):\n",
    "    phenotypic_class_counts = training_data.loc[\n",
    "        training_data[\"Metadata_Treatment\"] == phenotypic_class\n",
    "    ].shape[0]\n",
    "    print(\n",
    "        f\"Training {model_type} model on {feature_type} features for {phenotypic_class} with {phenotypic_class_counts} samples\"\n",
    "    )\n",
    "\n",
    "    if model_type == \"shuffled_baseline\":\n",
    "        for column in data_x:\n",
    "            np.random.shuffle(data_x[column].values)\n",
    "\n",
    "    with parallel_backend(\"multiprocessing\"):\n",
    "        with warnings.catch_warnings():\n",
    "            warnings.filterwarnings(\n",
    "                \"ignore\", category=ConvergenceWarning, module=\"sklearn\"\n",
    "            )\n",
    "            grid_search_cv = grid_search_cv.fit(data_x, labeled_data)\n",
    "\n",
    "    # print info for best estimator\n",
    "    print(f\"Best parameters: {grid_search_cv.best_params_}\")\n",
    "    print(f\"Score of best estimator: {grid_search_cv.best_score_}\\n\")\n",
    "\n",
    "    results_dir = f\"./models/single_class/{control}__{treatment}\"\n",
    "    # create results directory if it doesn't exist\n",
    "    pathlib.Path(results_dir).mkdir(parents=False, exist_ok=True)\n",
    "\n",
    "    # save final estimator\n",
    "    dump(\n",
    "        grid_search_cv.best_estimator_,\n",
    "        f\"{results_dir}/{model_type}__{feature_type}.joblib\",\n",
    "    )"
   ]
  },
  {
   "cell_type": "code",
   "execution_count": 8,
   "id": "c23219cb",
   "metadata": {
    "execution": {
     "iopub.execute_input": "2023-07-17T20:45:29.648298Z",
     "iopub.status.busy": "2023-07-17T20:45:29.648088Z",
     "iopub.status.idle": "2023-07-17T20:45:29.651473Z",
     "shell.execute_reply": "2023-07-17T20:45:29.651016Z"
    },
    "papermill": {
     "duration": 0.006971,
     "end_time": "2023-07-17T20:45:29.652446",
     "exception": false,
     "start_time": "2023-07-17T20:45:29.645475",
     "status": "completed"
    },
    "tags": []
   },
   "outputs": [],
   "source": [
    "# save condfig copy specific to this model to the folder with the results\n",
    "# use pathlib\n",
    "config_copy_path = pathlib.Path(f\"{results_dir}/{model_type}__{feature_type}.toml\")\n",
    "with open(config_copy_path, \"w\") as f:\n",
    "    toml.dump(config, f)\n",
    "f.close()"
   ]
  }
 ],
 "metadata": {
  "kernelspec": {
   "display_name": "Interstellar",
   "language": "python",
   "name": "python3"
  },
  "language_info": {
   "codemirror_mode": {
    "name": "ipython",
    "version": 3
   },
   "file_extension": ".py",
   "mimetype": "text/x-python",
   "name": "python",
   "nbconvert_exporter": "python",
   "pygments_lexer": "ipython3",
   "version": "3.10.12"
  },
  "papermill": {
   "default_parameters": {},
   "duration": 13.542447,
   "end_time": "2023-07-17T20:45:32.472389",
   "environment_variables": {},
   "exception": null,
   "input_path": "train_single_class.ipynb",
   "output_path": "train_single_class.ipynb",
   "parameters": {},
   "start_time": "2023-07-17T20:45:18.929942",
   "version": "2.4.0"
  },
  "vscode": {
   "interpreter": {
    "hash": "72ae02083a9ca7d143c492d1aec380c7bf553ec51bd66e90e72bba65228121b6"
   }
  }
 },
 "nbformat": 4,
 "nbformat_minor": 5
}