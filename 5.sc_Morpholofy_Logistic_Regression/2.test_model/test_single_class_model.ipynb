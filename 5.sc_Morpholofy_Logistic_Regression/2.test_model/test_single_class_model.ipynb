{
 "cells": [
  {
   "cell_type": "code",
   "execution_count": null,
   "id": "b551a2fa",
   "metadata": {
    "execution": {
     "iopub.execute_input": "2023-07-17T20:46:45.613506Z",
     "iopub.status.busy": "2023-07-17T20:46:45.613161Z",
     "iopub.status.idle": "2023-07-17T20:46:46.562840Z",
     "shell.execute_reply": "2023-07-17T20:46:46.562153Z"
    },
    "papermill": {
     "duration": 0.954571,
     "end_time": "2023-07-17T20:46:46.564375",
     "exception": false,
     "start_time": "2023-07-17T20:46:45.609804",
     "status": "completed"
    },
    "tags": []
   },
   "outputs": [],
   "source": [
    "import pyarrow.parquet as pq\n",
    "import pandas as pd\n",
    "import numpy as np\n",
    "import pathlib\n",
    "import warnings\n",
    "\n",
    "from sklearn.utils import shuffle, parallel_backend\n",
    "from sklearn.exceptions import ConvergenceWarning\n",
    "from joblib import dump\n",
    "\n",
    "from sklearn.model_selection import train_test_split\n",
    "from sklearn.linear_model import LogisticRegression\n",
    "from sklearn.model_selection import (\n",
    "    StratifiedKFold,\n",
    "    GridSearchCV,\n",
    ")\n",
    "from joblib import load\n",
    "from sklearn.metrics import (\n",
    "    accuracy_score,\n",
    "    f1_score,\n",
    "    confusion_matrix,\n",
    "    classification_report,\n",
    ")\n",
    "import toml\n",
    "import seaborn as sns\n",
    "import matplotlib.pyplot as plt\n",
    "import itertools\n",
    "import ast"
   ]
  },
  {
   "cell_type": "code",
   "execution_count": null,
   "id": "b0baac72",
   "metadata": {},
   "outputs": [],
   "source": [
    "# read in toml file and get parameters\n",
    "toml_path = pathlib.Path(\"../1.train_models/single_class_config.toml\")\n",
    "with open(toml_path, \"r\") as f:\n",
    "    config = toml.load(f)\n",
    "f.close()\n",
    "control = config[\"logistic_regression_params\"][\"control\"]\n",
    "treatment = config[\"logistic_regression_params\"][\"treatments\"]\n",
    "aggregation = ast.literal_eval(config[\"logistic_regression_params\"][\"aggregation\"])\n",
    "nomic = ast.literal_eval(config[\"logistic_regression_params\"][\"nomic\"])\n",
    "cell_type = config[\"logistic_regression_params\"][\"cell_type\"]\n",
    "print(aggregation, nomic, cell_type)"
   ]
  },
  {
   "cell_type": "code",
   "execution_count": null,
   "id": "6a142f73",
   "metadata": {},
   "outputs": [],
   "source": [
    "# if ((aggregation == True) and (nomic == True)):\n",
    "#     data_split_path = pathlib.Path(f\"../0.split_data/indexes/aggregated_sc_and_nomic_data_split_indexes.tsv\")\n",
    "# elif ((aggregation == True) and (nomic == False)):\n",
    "#     data_split_path = pathlib.Path(f\"../0.split_data/indexes/aggregated_sc_data_split_indexes.tsv\")\n",
    "# elif ((aggregation == False) and (nomic == True)):\n",
    "#     data_split_path = pathlib.Path(f\"../0.split_data/indexes/sc_and_nomic_data_split_indexes.tsv\")\n",
    "# elif (aggregation == False and nomic == False):\n",
    "#     data_split_path = pathlib.Path(f\"../0.split_data/indexes/sc_split_indexes.tsv\")\n",
    "# else:\n",
    "#     print('Error')"
   ]
  },
  {
   "cell_type": "code",
   "execution_count": null,
   "id": "1261124d",
   "metadata": {},
   "outputs": [],
   "source": [
    "# load training data from indexes and features dataframe\n",
    "# data_split_path = pathlib.Path(f\"../0.split_data/indexes/data_split_indexes.tsv\")\n",
    "data_path = pathlib.Path(\"../../data/SHSY5Y_preprocessed_sc_norm.parquet\")\n",
    "\n",
    "# dataframe with only the labeled data we want (exclude certain phenotypic classes)\n",
    "data_df = pq.read_table(data_path).to_pandas()\n",
    "\n",
    "# import nomic data\n",
    "nomic_df_path = pathlib.Path(\n",
    "    f\"../../2.Nomic_nELISA_Analysis/Data/clean/Plate2/nELISA_plate_430420_{cell_type}.csv\"\n",
    ")\n",
    "df_nomic = pd.read_csv(nomic_df_path)\n",
    "\n",
    "# clean up nomic data\n",
    "df_nomic = df_nomic.drop(columns=[col for col in df_nomic.columns if \"[pgML]\" in col])\n",
    "# drop first 25 columns (Metadata that is not needed)\n",
    "df_nomic = df_nomic.drop(columns=df_nomic.columns[3:25])\n",
    "df_nomic = df_nomic.drop(columns=df_nomic.columns[0:2])"
   ]
  },
  {
   "cell_type": "code",
   "execution_count": null,
   "id": "7f751cdd",
   "metadata": {},
   "outputs": [],
   "source": [
    "if (aggregation == True) and (nomic == True):\n",
    "    data_split_path = pathlib.Path(\n",
    "        f\"../0.split_data/indexes/aggregated_sc_and_nomic_data_split_indexes.tsv\"\n",
    "    )\n",
    "    data_split_indexes = pd.read_csv(data_split_path, sep=\"\\t\", index_col=0)\n",
    "    data_df = pd.merge(\n",
    "        data_df, df_nomic, left_on=\"Metadata_Well\", right_on=\"position_x\"\n",
    "    )\n",
    "    data_df = data_df.drop(columns=[\"position_x\"])\n",
    "elif (aggregation == True) and (nomic == False):\n",
    "    data_split_path = pathlib.Path(\n",
    "        f\"../0.split_data/indexes/aggregated_sc_data_split_indexes.tsv\"\n",
    "    )\n",
    "    data_split_indexes = pd.read_csv(data_split_path, sep=\"\\t\", index_col=0)\n",
    "elif (aggregation == False) and (nomic == True):\n",
    "    data_split_path = pathlib.Path(\n",
    "        f\"../0.split_data/indexes/sc_and_nomic_data_split_indexes.tsv\"\n",
    "    )\n",
    "    data_split_indexes = pd.read_csv(data_split_path, sep=\"\\t\", index_col=0)\n",
    "    data_df = pd.merge(\n",
    "        data_df, df_nomic, left_on=\"Metadata_Well\", right_on=\"position_x\"\n",
    "    )\n",
    "    data_df = data_df.drop(columns=[\"position_x\"])\n",
    "elif aggregation == False and nomic == False:\n",
    "    data_split_path = pathlib.Path(f\"../0.split_data/indexes/sc_split_indexes.tsv\")\n",
    "    data_split_indexes = pd.read_csv(data_split_path, sep=\"\\t\", index_col=0)\n",
    "else:\n",
    "    print(\"Error\")"
   ]
  },
  {
   "cell_type": "code",
   "execution_count": null,
   "id": "10d08adb",
   "metadata": {},
   "outputs": [],
   "source": [
    "# subset data_df by indexes in data_split_indexes\n",
    "training_data = data_df.loc[data_split_indexes[\"labeled_data_index\"]]"
   ]
  },
  {
   "cell_type": "code",
   "execution_count": null,
   "id": "b59ba8d2",
   "metadata": {
    "execution": {
     "iopub.execute_input": "2023-07-17T20:46:48.775697Z",
     "iopub.status.busy": "2023-07-17T20:46:48.775223Z",
     "iopub.status.idle": "2023-07-17T20:46:48.780897Z",
     "shell.execute_reply": "2023-07-17T20:46:48.780075Z"
    },
    "papermill": {
     "duration": 0.009809,
     "end_time": "2023-07-17T20:46:48.782147",
     "exception": false,
     "start_time": "2023-07-17T20:46:48.772338",
     "status": "completed"
    },
    "tags": []
   },
   "outputs": [],
   "source": [
    "# get oneb_Metadata_Treatment_Dose_Inhibitor_Dose  =='DMSO_0.100_DMSO_0.025' and 'LPS_100.000_DMSO_0.025 and Thapsigargin_10.000_DMSO_0.025'\n",
    "training_data = training_data[\n",
    "    training_data[\"oneb_Metadata_Treatment_Dose_Inhibitor_Dose\"].isin(\n",
    "        [control, treatment]\n",
    "    )\n",
    "]"
   ]
  },
  {
   "cell_type": "code",
   "execution_count": null,
   "id": "ac614a86",
   "metadata": {
    "execution": {
     "iopub.execute_input": "2023-07-17T20:46:48.787672Z",
     "iopub.status.busy": "2023-07-17T20:46:48.787085Z",
     "iopub.status.idle": "2023-07-17T20:46:48.795166Z",
     "shell.execute_reply": "2023-07-17T20:46:48.794466Z"
    },
    "papermill": {
     "duration": 0.012165,
     "end_time": "2023-07-17T20:46:48.796345",
     "exception": false,
     "start_time": "2023-07-17T20:46:48.784180",
     "status": "completed"
    },
    "tags": []
   },
   "outputs": [],
   "source": [
    "# at random downsample the DMSO treatment to match the number of wells in the LPS treatment\n",
    "# get the number of wells in the LPS treatment\n",
    "trt_wells = training_data[\n",
    "    training_data[\"oneb_Metadata_Treatment_Dose_Inhibitor_Dose\"] == treatment\n",
    "].shape[0]\n",
    "# get the number of wells in the DMSO treatment\n",
    "dmso_wells = training_data[\n",
    "    training_data[\"oneb_Metadata_Treatment_Dose_Inhibitor_Dose\"] == control\n",
    "].shape[0]\n",
    "if dmso_wells > trt_wells:\n",
    "    # downsample the DMSO treatment to match the number of wells in the LPS treatment\n",
    "    dmso_holdout = training_data[\n",
    "        training_data[\"oneb_Metadata_Treatment_Dose_Inhibitor_Dose\"] == control\n",
    "    ].sample(n=trt_wells)\n",
    "    # remove the downsampled DMSO wells from the data\n",
    "    training_data = training_data.drop(dmso_holdout.index)\n",
    "else:\n",
    "    pass"
   ]
  },
  {
   "cell_type": "code",
   "execution_count": null,
   "id": "4ccda2e6",
   "metadata": {
    "execution": {
     "iopub.execute_input": "2023-07-17T20:46:48.801877Z",
     "iopub.status.busy": "2023-07-17T20:46:48.801455Z",
     "iopub.status.idle": "2023-07-17T20:46:48.805758Z",
     "shell.execute_reply": "2023-07-17T20:46:48.805069Z"
    },
    "papermill": {
     "duration": 0.008487,
     "end_time": "2023-07-17T20:46:48.806939",
     "exception": false,
     "start_time": "2023-07-17T20:46:48.798452",
     "status": "completed"
    },
    "tags": []
   },
   "outputs": [],
   "source": [
    "# set model path from parameters\n",
    "if (aggregation == True) and (nomic == True):\n",
    "    model_path = pathlib.Path(\n",
    "        f\"models/single_class/{cell_type}/aggregated_with_nomic/{control}__{treatment}\"\n",
    "    )\n",
    "elif (aggregation == True) and (nomic == False):\n",
    "    model_path = pathlib.Path(\n",
    "        f\"models/single_class/{cell_type}/aggregated/{control}__{treatment}\"\n",
    "    )\n",
    "elif (aggregation == False) and (nomic == True):\n",
    "    model_path = pathlib.Path(\n",
    "        f\"models/single_class/{cell_type}/sc_with_nomic/{control}__{treatment}\"\n",
    "    )\n",
    "elif (aggregation == False) and (nomic == False):\n",
    "    model_path = pathlib.Path(\n",
    "        f\"models/single_class/{cell_type}/sc/{control}__{treatment}\"\n",
    "    )\n",
    "else:\n",
    "    print(\"Error\")"
   ]
  },
  {
   "cell_type": "code",
   "execution_count": null,
   "id": "f6c655cc",
   "metadata": {
    "execution": {
     "iopub.execute_input": "2023-07-17T20:46:48.812403Z",
     "iopub.status.busy": "2023-07-17T20:46:48.812030Z",
     "iopub.status.idle": "2023-07-17T20:46:48.817044Z",
     "shell.execute_reply": "2023-07-17T20:46:48.816344Z"
    },
    "papermill": {
     "duration": 0.009318,
     "end_time": "2023-07-17T20:46:48.818255",
     "exception": false,
     "start_time": "2023-07-17T20:46:48.808937",
     "status": "completed"
    },
    "tags": []
   },
   "outputs": [],
   "source": [
    "model_types = [\"final\", \"shuffled_baseline\"]\n",
    "feature_types = [\"CP\"]\n",
    "phenotypic_classes = [\n",
    "    training_data[\"oneb_Metadata_Treatment_Dose_Inhibitor_Dose\"].unique()[0]\n",
    "]"
   ]
  },
  {
   "cell_type": "code",
   "execution_count": null,
   "id": "8a5fc096",
   "metadata": {
    "execution": {
     "iopub.execute_input": "2023-07-17T20:46:48.823936Z",
     "iopub.status.busy": "2023-07-17T20:46:48.823205Z",
     "iopub.status.idle": "2023-07-17T20:46:48.832371Z",
     "shell.execute_reply": "2023-07-17T20:46:48.831430Z"
    },
    "papermill": {
     "duration": 0.013423,
     "end_time": "2023-07-17T20:46:48.833752",
     "exception": false,
     "start_time": "2023-07-17T20:46:48.820329",
     "status": "completed"
    },
    "tags": []
   },
   "outputs": [],
   "source": [
    "# define metadata columns\n",
    "# subset each column that contains metadata\n",
    "metadata = training_data.filter(regex=\"Metadata\")\n",
    "# drop all metadata columns\n",
    "data_x = training_data.drop(metadata.columns, axis=1)\n",
    "labeled_data = training_data[\"oneb_Metadata_Treatment_Dose_Inhibitor_Dose\"]"
   ]
  },
  {
   "cell_type": "code",
   "execution_count": null,
   "id": "c4731ad2",
   "metadata": {
    "execution": {
     "iopub.execute_input": "2023-07-17T20:46:48.839521Z",
     "iopub.status.busy": "2023-07-17T20:46:48.838740Z",
     "iopub.status.idle": "2023-07-17T20:46:48.843899Z",
     "shell.execute_reply": "2023-07-17T20:46:48.843038Z"
    },
    "papermill": {
     "duration": 0.009313,
     "end_time": "2023-07-17T20:46:48.845130",
     "exception": false,
     "start_time": "2023-07-17T20:46:48.835817",
     "status": "completed"
    },
    "tags": []
   },
   "outputs": [],
   "source": [
    "# set path for figures\n",
    "if (aggregation == True) and (nomic == True):\n",
    "    figure_path = pathlib.Path(\n",
    "        f\"./figures/single_class/{cell_type}/aggregated_with_nomic/{control}__{treatment}\"\n",
    "    )\n",
    "elif (aggregation == True) and (nomic == False):\n",
    "    figure_path = pathlib.Path(\n",
    "        f\"./figures/single_class/{cell_type}/aggregated/{control}__{treatment}\"\n",
    "    )\n",
    "elif (aggregation == False) and (nomic == True):\n",
    "    figure_path = pathlib.Path(\n",
    "        f\"./figures/single_class/{cell_type}/sc_with_nomic/{control}__{treatment}\"\n",
    "    )\n",
    "elif (aggregation == False) and (nomic == False):\n",
    "    figure_path = pathlib.Path(\n",
    "        f\"./figures/single_class/{cell_type}/sc/{control}__{treatment}\"\n",
    "    )\n",
    "else:\n",
    "    print(\"Error\")\n",
    "figure_path.mkdir(parents=True, exist_ok=True)"
   ]
  },
  {
   "cell_type": "code",
   "execution_count": null,
   "id": "6b821504",
   "metadata": {
    "execution": {
     "iopub.execute_input": "2023-07-17T20:46:48.850440Z",
     "iopub.status.busy": "2023-07-17T20:46:48.850075Z",
     "iopub.status.idle": "2023-07-17T20:46:49.499570Z",
     "shell.execute_reply": "2023-07-17T20:46:49.498537Z"
    },
    "papermill": {
     "duration": 0.657306,
     "end_time": "2023-07-17T20:46:49.504457",
     "exception": false,
     "start_time": "2023-07-17T20:46:48.847151",
     "status": "completed"
    },
    "tags": []
   },
   "outputs": [],
   "source": [
    "# test model on testing data\n",
    "for model_type, feature_type, phenotypic_class in itertools.product(\n",
    "    model_types, feature_types, phenotypic_classes\n",
    "):\n",
    "    print(model_type, feature_type, phenotypic_class)\n",
    "    # load model\n",
    "    model = load(f\"../1.train_models/{model_path}/{model_type}__{feature_type}.joblib\")\n",
    "\n",
    "    # get predictions\n",
    "    predictions = model.predict(data_x)\n",
    "\n",
    "    # get probabilities\n",
    "\n",
    "    probabilities = model.predict_proba(data_x)\n",
    "\n",
    "    # get accuracy\n",
    "    accuracy = accuracy_score(labeled_data, predictions)\n",
    "\n",
    "    # get f1 score\n",
    "    f1 = f1_score(labeled_data, predictions, average=\"weighted\")\n",
    "\n",
    "    # plot confusion matrix heatmap\n",
    "    sns.heatmap(confusion_matrix(labeled_data, predictions), annot=True, fmt=\"g\")\n",
    "    plt.xlabel(\"Predicted\")\n",
    "    plt.ylabel(\"True\")\n",
    "    plt.title(\n",
    "        f\"Confusion matrix of {model_type} model on {feature_type} features for {phenotypic_class}\"\n",
    "    )\n",
    "    plt.savefig(f\"{figure_path}/{model_type}__{feature_type}__{phenotypic_class}.png\")\n",
    "    plt.show()"
   ]
  },
  {
   "cell_type": "code",
   "execution_count": null,
   "id": "c7f0e824",
   "metadata": {},
   "outputs": [],
   "source": []
  }
 ],
 "metadata": {
  "kernelspec": {
   "display_name": "Interstellar",
   "language": "python",
   "name": "python3"
  },
  "language_info": {
   "codemirror_mode": {
    "name": "ipython",
    "version": 3
   },
   "file_extension": ".py",
   "mimetype": "text/x-python",
   "name": "python",
   "nbconvert_exporter": "python",
   "pygments_lexer": "ipython3",
   "version": "3.10.12"
  },
  "papermill": {
   "default_parameters": {},
   "duration": 5.752381,
   "end_time": "2023-07-17T20:46:50.449668",
   "environment_variables": {},
   "exception": null,
   "input_path": "test_single_class_model.ipynb",
   "output_path": "test_single_class_model.ipynb",
   "parameters": {},
   "start_time": "2023-07-17T20:46:44.697287",
   "version": "2.4.0"
  },
  "vscode": {
   "interpreter": {
    "hash": "72ae02083a9ca7d143c492d1aec380c7bf553ec51bd66e90e72bba65228121b6"
   }
  }
 },
 "nbformat": 4,
 "nbformat_minor": 5
}
