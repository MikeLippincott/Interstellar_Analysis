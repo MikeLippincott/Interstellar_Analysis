{
    "cells": [
        {
            "cell_type": "code",
            "execution_count": 1,
            "metadata": {},
            "outputs": [],
            "source": [
                "import argparse\n",
                "import pathlib\n",
                "\n",
                "import pandas as pd"
            ]
        },
        {
            "cell_type": "code",
            "execution_count": 2,
            "metadata": {},
            "outputs": [],
            "source": [
                "# argparser = argparse.ArgumentParser()\n",
                "# argparser.add_argument(\"--cell_type\", type=str, default=\"cell_type\")\n",
                "\n",
                "# args = argparser.parse_args()\n",
                "\n",
                "# cell_type = args.cell_type\n",
                "cell_type = \"PBMC\""
            ]
        },
        {
            "cell_type": "code",
            "execution_count": 3,
            "metadata": {},
            "outputs": [],
            "source": [
                "results_dir_path = pathlib.Path(\n",
                "    f\"../results/regression/{cell_type}_aggregated_with_nomic/\"\n",
                ").resolve(strict=True)\n",
                "\n",
                "model_stats_final_output_path = pathlib.Path(\n",
                "    results_dir_path / \"model_stats.csv\"\n",
                ").resolve()\n",
                "\n",
                "variance_r2_stats_final_output_path = pathlib.Path(\n",
                "    results_dir_path / \"variance_r2_stats.csv\"\n",
                ").resolve()\n",
                "\n",
                "# if the final output file already exists, delete it\n",
                "if model_stats_final_output_path.exists():\n",
                "    model_stats_final_output_path.unlink()\n",
                "if variance_r2_stats_final_output_path.exists():\n",
                "    variance_r2_stats_final_output_path.unlink()\n",
                "\n",
                "# get a list of all the files that contain \"model_stats\" in the name\n",
                "model_stats_files = list(results_dir_path.glob(\"*model_stats*\"))\n",
                "\n",
                "\n",
                "# get a list of all the files that contain \"variance_r2_stats\" in the name\n",
                "variance_r2_stats_files = list(results_dir_path.glob(\"*variance_r2_stats*\"))\n",
                "\n",
                "\n",
                "# concate all the model_stats files\n",
                "model_stats_df = pd.concat([pd.read_csv(f) for f in model_stats_files])\n",
                "\n",
                "# concate all the variance_r2_stats files\n",
                "variance_r2_stats_df = pd.concat([pd.read_csv(f) for f in variance_r2_stats_files])\n",
                "\n",
                "# save the final output to csv\n",
                "model_stats_df.to_csv(model_stats_final_output_path, index=False)\n",
                "variance_r2_stats_df.to_csv(variance_r2_stats_final_output_path, index=False)"
            ]
        },
        {
            "cell_type": "code",
            "execution_count": 4,
            "metadata": {},
            "outputs": [
                {
                    "name": "stdout",
                    "output_type": "stream",
                    "text": [
                        "Completed!\n"
                    ]
                }
            ],
            "source": [
                "print(\"Completed!\")"
            ]
        }
    ],
    "metadata": {
        "kernelspec": {
            "display_name": "Interstellar",
            "language": "python",
            "name": "python3"
        },
        "language_info": {
            "codemirror_mode": {
                "name": "ipython",
                "version": 3
            },
            "file_extension": ".py",
            "mimetype": "text/x-python",
            "name": "python",
            "nbconvert_exporter": "python",
            "pygments_lexer": "ipython3",
            "version": "3.10.15"
        },
        "orig_nbformat": 4
    },
    "nbformat": 4,
    "nbformat_minor": 2
}
