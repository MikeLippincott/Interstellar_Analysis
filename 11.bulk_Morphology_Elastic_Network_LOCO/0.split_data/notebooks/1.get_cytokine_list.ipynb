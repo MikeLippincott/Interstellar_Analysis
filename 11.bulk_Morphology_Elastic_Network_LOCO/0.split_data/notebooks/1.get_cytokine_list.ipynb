{
    "cells": [
        {
            "cell_type": "code",
            "execution_count": 1,
            "metadata": {},
            "outputs": [],
            "source": [
                "import pathlib\n",
                "\n",
                "import pandas as pd"
            ]
        },
        {
            "cell_type": "code",
            "execution_count": 2,
            "metadata": {},
            "outputs": [],
            "source": [
                "cell_type = \"PBMC\""
            ]
        },
        {
            "cell_type": "code",
            "execution_count": 3,
            "metadata": {},
            "outputs": [],
            "source": [
                "nomic_df_path = pathlib.Path(\n",
                "    f\"../../../2.Nomic_nELISA_Analysis/Data/clean/Plate2/nELISA_plate_430420_{cell_type}_cleanup4correlation.csv\"\n",
                ")\n",
                "df_nomic = pd.read_csv(nomic_df_path)\n",
                "\n",
                "# drop columns that contain [pgML]\n",
                "df_nomic = df_nomic.drop(columns=[col for col in df_nomic.columns if \"[pgML]\" in col])"
            ]
        },
        {
            "cell_type": "code",
            "execution_count": 4,
            "metadata": {},
            "outputs": [],
            "source": [
                "# drop columns that contain \"metadata\"\n",
                "df_nomic = df_nomic.drop(\n",
                "    columns=[col for col in df_nomic.columns if \"Metadata\" in col]\n",
                ").columns.to_list()"
            ]
        },
        {
            "cell_type": "code",
            "execution_count": 5,
            "metadata": {},
            "outputs": [],
            "source": [
                "# write the list to a file\n",
                "# set the path to save the file\n",
                "cytokine_list_path = pathlib.Path(f\"../cytokine_list/cytokine_list.txt\")\n",
                "# if the directory does not exist, create it\n",
                "cytokine_list_path.parent.mkdir(parents=True, exist_ok=True)\n",
                "\n",
                "# write the list to a file\n",
                "with open(cytokine_list_path, \"w\") as f:\n",
                "    for item in df_nomic:\n",
                "        f.write(f\"{item}\\n\")"
            ]
        }
    ],
    "metadata": {
        "kernelspec": {
            "display_name": "Interstellar",
            "language": "python",
            "name": "python3"
        },
        "language_info": {
            "codemirror_mode": {
                "name": "ipython",
                "version": 3
            },
            "file_extension": ".py",
            "mimetype": "text/x-python",
            "name": "python",
            "nbconvert_exporter": "python",
            "pygments_lexer": "ipython3",
            "version": "3.10.15"
        },
        "orig_nbformat": 4
    },
    "nbformat": 4,
    "nbformat_minor": 2
}
