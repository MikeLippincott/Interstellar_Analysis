{
    "cells": [
        {
            "cell_type": "code",
            "execution_count": 1,
            "id": "2a0c7e4f",
            "metadata": {
                "execution": {
                    "iopub.execute_input": "2023-09-11T21:57:19.917557Z",
                    "iopub.status.busy": "2023-09-11T21:57:19.917258Z",
                    "iopub.status.idle": "2023-09-11T21:57:21.143151Z",
                    "shell.execute_reply": "2023-09-11T21:57:21.142674Z"
                },
                "papermill": {
                    "duration": 1.231064,
                    "end_time": "2023-09-11T21:57:21.144519",
                    "exception": false,
                    "start_time": "2023-09-11T21:57:19.913455",
                    "status": "completed"
                },
                "tags": []
            },
            "outputs": [],
            "source": [
                "import argparse\n",
                "import itertools\n",
                "import pathlib\n",
                "\n",
                "import numpy as np\n",
                "import pandas as pd\n",
                "import pyarrow.parquet as pq\n",
                "import toml\n",
                "from joblib import dump\n",
                "from sklearn.exceptions import ConvergenceWarning\n",
                "from sklearn.linear_model import LogisticRegression\n",
                "from sklearn.model_selection import GridSearchCV, StratifiedKFold, train_test_split"
            ]
        },
        {
            "cell_type": "code",
            "execution_count": 2,
            "id": "8d82e593",
            "metadata": {},
            "outputs": [],
            "source": [
                "argparser = argparse.ArgumentParser()\n",
                "argparser.add_argument(\"--cell_type\", default=\"all\")\n",
                "\n",
                "args = argparser.parse_args()\n",
                "\n",
                "cell_type = args.cell_type"
            ]
        },
        {
            "cell_type": "code",
            "execution_count": 3,
            "id": "f9a6e539",
            "metadata": {
                "execution": {
                    "iopub.execute_input": "2023-09-11T21:57:21.151925Z",
                    "iopub.status.busy": "2023-09-11T21:57:21.151283Z",
                    "iopub.status.idle": "2023-09-11T21:57:21.154028Z",
                    "shell.execute_reply": "2023-09-11T21:57:21.153546Z"
                },
                "papermill": {
                    "duration": 0.00742,
                    "end_time": "2023-09-11T21:57:21.154977",
                    "exception": false,
                    "start_time": "2023-09-11T21:57:21.147557",
                    "status": "completed"
                },
                "tags": [
                    "injected-parameters"
                ]
            },
            "outputs": [],
            "source": [
                "# Parameters\n",
                "aggregation = True\n",
                "nomic = True"
            ]
        },
        {
            "cell_type": "code",
            "execution_count": 4,
            "id": "dc112da1",
            "metadata": {
                "execution": {
                    "iopub.execute_input": "2023-09-11T21:57:21.161187Z",
                    "iopub.status.busy": "2023-09-11T21:57:21.160825Z",
                    "iopub.status.idle": "2023-09-11T21:57:21.163154Z",
                    "shell.execute_reply": "2023-09-11T21:57:21.162785Z"
                },
                "papermill": {
                    "duration": 0.006274,
                    "end_time": "2023-09-11T21:57:21.164042",
                    "exception": false,
                    "start_time": "2023-09-11T21:57:21.157768",
                    "status": "completed"
                },
                "tags": []
            },
            "outputs": [],
            "source": [
                "MODEL_TYPE = \"regression\""
            ]
        },
        {
            "cell_type": "code",
            "execution_count": 5,
            "id": "21983dd6",
            "metadata": {
                "execution": {
                    "iopub.execute_input": "2023-09-11T21:57:21.169938Z",
                    "iopub.status.busy": "2023-09-11T21:57:21.169550Z",
                    "iopub.status.idle": "2023-09-11T21:57:21.172477Z",
                    "shell.execute_reply": "2023-09-11T21:57:21.172099Z"
                },
                "papermill": {
                    "duration": 0.006759,
                    "end_time": "2023-09-11T21:57:21.173359",
                    "exception": false,
                    "start_time": "2023-09-11T21:57:21.166600",
                    "status": "completed"
                },
                "tags": []
            },
            "outputs": [],
            "source": [
                "# toml file path\n",
                "TOML_PATH = pathlib.Path(\"../splits.toml\")\n",
                "# read toml file via toml\n",
                "data_splits_by_treatments = toml.load(TOML_PATH)\n",
                "\n",
                "# define the 100% test set data treatments\n",
                "test_100_percent = data_splits_by_treatments[\"splits\"][\"data_splits_100\"]\n",
                "test_75_percent = data_splits_by_treatments[\"splits\"][\"data_splits_75\"]"
            ]
        },
        {
            "cell_type": "code",
            "execution_count": 6,
            "id": "ae396783",
            "metadata": {
                "execution": {
                    "iopub.execute_input": "2023-09-11T21:57:21.179204Z",
                    "iopub.status.busy": "2023-09-11T21:57:21.178865Z",
                    "iopub.status.idle": "2023-09-11T21:58:31.338498Z",
                    "shell.execute_reply": "2023-09-11T21:58:31.338008Z"
                },
                "papermill": {
                    "duration": 70.166479,
                    "end_time": "2023-09-11T21:58:31.342435",
                    "exception": false,
                    "start_time": "2023-09-11T21:57:21.175956",
                    "status": "completed"
                },
                "tags": []
            },
            "outputs": [
                {
                    "data": {
                        "text/html": [
                            "<div>\n",
                            "<style scoped>\n",
                            "    .dataframe tbody tr th:only-of-type {\n",
                            "        vertical-align: middle;\n",
                            "    }\n",
                            "\n",
                            "    .dataframe tbody tr th {\n",
                            "        vertical-align: top;\n",
                            "    }\n",
                            "\n",
                            "    .dataframe thead th {\n",
                            "        text-align: right;\n",
                            "    }\n",
                            "</style>\n",
                            "<table border=\"1\" class=\"dataframe\">\n",
                            "  <thead>\n",
                            "    <tr style=\"text-align: right;\">\n",
                            "      <th></th>\n",
                            "      <th>Metadata_Well</th>\n",
                            "      <th>Cytoplasm_AreaShape_Compactness</th>\n",
                            "      <th>Cytoplasm_AreaShape_FormFactor</th>\n",
                            "      <th>Cytoplasm_AreaShape_MajorAxisLength</th>\n",
                            "      <th>Cytoplasm_AreaShape_MinorAxisLength</th>\n",
                            "      <th>Cytoplasm_AreaShape_Orientation</th>\n",
                            "      <th>Cytoplasm_AreaShape_Zernike_0_0</th>\n",
                            "      <th>Cytoplasm_AreaShape_Zernike_1_1</th>\n",
                            "      <th>Cytoplasm_AreaShape_Zernike_2_0</th>\n",
                            "      <th>Cytoplasm_AreaShape_Zernike_2_2</th>\n",
                            "      <th>...</th>\n",
                            "      <th>uPA [NSU]</th>\n",
                            "      <th>VCAM-1 [NSU]</th>\n",
                            "      <th>VEGF Receptor 2 (Flk-1) [NSU]</th>\n",
                            "      <th>VEGF-A (165) [NSU]</th>\n",
                            "      <th>VEGF-C [NSU]</th>\n",
                            "      <th>VEGF-D [NSU]</th>\n",
                            "      <th>VEGFR-1 [NSU]</th>\n",
                            "      <th>WISP-1 (CCN4) [NSU]</th>\n",
                            "      <th>XCL1 (Lymphotactin) [NSU]</th>\n",
                            "      <th>oneb_Treatment_Dose_Inhibitor_Dose</th>\n",
                            "    </tr>\n",
                            "  </thead>\n",
                            "  <tbody>\n",
                            "    <tr>\n",
                            "      <th>0</th>\n",
                            "      <td>B02</td>\n",
                            "      <td>0.100173</td>\n",
                            "      <td>-0.059734</td>\n",
                            "      <td>0.218567</td>\n",
                            "      <td>0.111938</td>\n",
                            "      <td>0.007420</td>\n",
                            "      <td>-0.100946</td>\n",
                            "      <td>-0.030356</td>\n",
                            "      <td>-0.070701</td>\n",
                            "      <td>0.013108</td>\n",
                            "      <td>...</td>\n",
                            "      <td>0.396902</td>\n",
                            "      <td>0.385081</td>\n",
                            "      <td>1.000000</td>\n",
                            "      <td>0.000000</td>\n",
                            "      <td>0.430111</td>\n",
                            "      <td>0.538503</td>\n",
                            "      <td>0.784695</td>\n",
                            "      <td>0.468448</td>\n",
                            "      <td>0.237545</td>\n",
                            "      <td>LPS_0.010_ug_per_ml_DMSO_0.025_%</td>\n",
                            "    </tr>\n",
                            "    <tr>\n",
                            "      <th>1</th>\n",
                            "      <td>B03</td>\n",
                            "      <td>0.137279</td>\n",
                            "      <td>-0.097646</td>\n",
                            "      <td>0.205644</td>\n",
                            "      <td>0.108021</td>\n",
                            "      <td>-0.002159</td>\n",
                            "      <td>-0.141895</td>\n",
                            "      <td>-0.059932</td>\n",
                            "      <td>-0.091195</td>\n",
                            "      <td>-0.011037</td>\n",
                            "      <td>...</td>\n",
                            "      <td>0.256691</td>\n",
                            "      <td>0.327491</td>\n",
                            "      <td>0.390866</td>\n",
                            "      <td>0.406489</td>\n",
                            "      <td>0.412096</td>\n",
                            "      <td>0.104830</td>\n",
                            "      <td>0.812933</td>\n",
                            "      <td>0.518536</td>\n",
                            "      <td>0.244397</td>\n",
                            "      <td>LPS_0.010_ug_per_ml_DMSO_0.025_%</td>\n",
                            "    </tr>\n",
                            "    <tr>\n",
                            "      <th>2</th>\n",
                            "      <td>B04</td>\n",
                            "      <td>0.071345</td>\n",
                            "      <td>-0.053566</td>\n",
                            "      <td>0.055404</td>\n",
                            "      <td>0.013373</td>\n",
                            "      <td>0.004443</td>\n",
                            "      <td>-0.111708</td>\n",
                            "      <td>-0.084402</td>\n",
                            "      <td>-0.043409</td>\n",
                            "      <td>-0.030164</td>\n",
                            "      <td>...</td>\n",
                            "      <td>0.555221</td>\n",
                            "      <td>0.357476</td>\n",
                            "      <td>0.346884</td>\n",
                            "      <td>0.477553</td>\n",
                            "      <td>0.427658</td>\n",
                            "      <td>0.642061</td>\n",
                            "      <td>0.249380</td>\n",
                            "      <td>0.627712</td>\n",
                            "      <td>0.318350</td>\n",
                            "      <td>LPS_Nigericin_100.000_ug_per_ml_1.000_uM_DMSO_...</td>\n",
                            "    </tr>\n",
                            "    <tr>\n",
                            "      <th>3</th>\n",
                            "      <td>B05</td>\n",
                            "      <td>0.110685</td>\n",
                            "      <td>-0.084346</td>\n",
                            "      <td>0.107954</td>\n",
                            "      <td>0.071923</td>\n",
                            "      <td>0.004150</td>\n",
                            "      <td>-0.121376</td>\n",
                            "      <td>-0.075382</td>\n",
                            "      <td>-0.052805</td>\n",
                            "      <td>-0.038156</td>\n",
                            "      <td>...</td>\n",
                            "      <td>0.308536</td>\n",
                            "      <td>0.588899</td>\n",
                            "      <td>0.828371</td>\n",
                            "      <td>0.484102</td>\n",
                            "      <td>0.294634</td>\n",
                            "      <td>0.673648</td>\n",
                            "      <td>0.236793</td>\n",
                            "      <td>0.557634</td>\n",
                            "      <td>0.350429</td>\n",
                            "      <td>LPS_Nigericin_100.000_ug_per_ml_1.000_uM_DMSO_...</td>\n",
                            "    </tr>\n",
                            "    <tr>\n",
                            "      <th>4</th>\n",
                            "      <td>B06</td>\n",
                            "      <td>-0.021771</td>\n",
                            "      <td>0.018442</td>\n",
                            "      <td>-0.048689</td>\n",
                            "      <td>-0.070490</td>\n",
                            "      <td>-0.005284</td>\n",
                            "      <td>-0.008255</td>\n",
                            "      <td>-0.012815</td>\n",
                            "      <td>-0.017174</td>\n",
                            "      <td>0.003785</td>\n",
                            "      <td>...</td>\n",
                            "      <td>0.469875</td>\n",
                            "      <td>0.395392</td>\n",
                            "      <td>0.560129</td>\n",
                            "      <td>0.504521</td>\n",
                            "      <td>0.490444</td>\n",
                            "      <td>0.258834</td>\n",
                            "      <td>0.238358</td>\n",
                            "      <td>0.524276</td>\n",
                            "      <td>0.250670</td>\n",
                            "      <td>DMSO_0.100_%_DMSO_0.025_%</td>\n",
                            "    </tr>\n",
                            "  </tbody>\n",
                            "</table>\n",
                            "<p>5 rows \u00d7 1389 columns</p>\n",
                            "</div>"
                        ],
                        "text/plain": [
                            "  Metadata_Well  Cytoplasm_AreaShape_Compactness  \\\n",
                            "0           B02                         0.100173   \n",
                            "1           B03                         0.137279   \n",
                            "2           B04                         0.071345   \n",
                            "3           B05                         0.110685   \n",
                            "4           B06                        -0.021771   \n",
                            "\n",
                            "   Cytoplasm_AreaShape_FormFactor  Cytoplasm_AreaShape_MajorAxisLength  \\\n",
                            "0                       -0.059734                             0.218567   \n",
                            "1                       -0.097646                             0.205644   \n",
                            "2                       -0.053566                             0.055404   \n",
                            "3                       -0.084346                             0.107954   \n",
                            "4                        0.018442                            -0.048689   \n",
                            "\n",
                            "   Cytoplasm_AreaShape_MinorAxisLength  Cytoplasm_AreaShape_Orientation  \\\n",
                            "0                             0.111938                         0.007420   \n",
                            "1                             0.108021                        -0.002159   \n",
                            "2                             0.013373                         0.004443   \n",
                            "3                             0.071923                         0.004150   \n",
                            "4                            -0.070490                        -0.005284   \n",
                            "\n",
                            "   Cytoplasm_AreaShape_Zernike_0_0  Cytoplasm_AreaShape_Zernike_1_1  \\\n",
                            "0                        -0.100946                        -0.030356   \n",
                            "1                        -0.141895                        -0.059932   \n",
                            "2                        -0.111708                        -0.084402   \n",
                            "3                        -0.121376                        -0.075382   \n",
                            "4                        -0.008255                        -0.012815   \n",
                            "\n",
                            "   Cytoplasm_AreaShape_Zernike_2_0  Cytoplasm_AreaShape_Zernike_2_2  ...  \\\n",
                            "0                        -0.070701                         0.013108  ...   \n",
                            "1                        -0.091195                        -0.011037  ...   \n",
                            "2                        -0.043409                        -0.030164  ...   \n",
                            "3                        -0.052805                        -0.038156  ...   \n",
                            "4                        -0.017174                         0.003785  ...   \n",
                            "\n",
                            "   uPA [NSU]  VCAM-1 [NSU]  VEGF Receptor 2 (Flk-1) [NSU]  VEGF-A (165) [NSU]  \\\n",
                            "0   0.396902      0.385081                       1.000000            0.000000   \n",
                            "1   0.256691      0.327491                       0.390866            0.406489   \n",
                            "2   0.555221      0.357476                       0.346884            0.477553   \n",
                            "3   0.308536      0.588899                       0.828371            0.484102   \n",
                            "4   0.469875      0.395392                       0.560129            0.504521   \n",
                            "\n",
                            "   VEGF-C [NSU]  VEGF-D [NSU]  VEGFR-1 [NSU]  WISP-1 (CCN4) [NSU]  \\\n",
                            "0      0.430111      0.538503       0.784695             0.468448   \n",
                            "1      0.412096      0.104830       0.812933             0.518536   \n",
                            "2      0.427658      0.642061       0.249380             0.627712   \n",
                            "3      0.294634      0.673648       0.236793             0.557634   \n",
                            "4      0.490444      0.258834       0.238358             0.524276   \n",
                            "\n",
                            "   XCL1 (Lymphotactin) [NSU]  \\\n",
                            "0                   0.237545   \n",
                            "1                   0.244397   \n",
                            "2                   0.318350   \n",
                            "3                   0.350429   \n",
                            "4                   0.250670   \n",
                            "\n",
                            "                  oneb_Treatment_Dose_Inhibitor_Dose  \n",
                            "0                   LPS_0.010_ug_per_ml_DMSO_0.025_%  \n",
                            "1                   LPS_0.010_ug_per_ml_DMSO_0.025_%  \n",
                            "2  LPS_Nigericin_100.000_ug_per_ml_1.000_uM_DMSO_...  \n",
                            "3  LPS_Nigericin_100.000_ug_per_ml_1.000_uM_DMSO_...  \n",
                            "4                          DMSO_0.100_%_DMSO_0.025_%  \n",
                            "\n",
                            "[5 rows x 1389 columns]"
                        ]
                    },
                    "execution_count": 6,
                    "metadata": {},
                    "output_type": "execute_result"
                }
            ],
            "source": [
                "path = pathlib.Path(\n",
                "    f\"../../../data/{cell_type}_preprocessed_sc_norm_aggregated_nomic.parquet\"\n",
                ")\n",
                "\n",
                "data_df = pd.read_parquet(path)\n",
                "\n",
                "data_df.head()"
            ]
        },
        {
            "cell_type": "code",
            "execution_count": 7,
            "id": "3c7f01ba",
            "metadata": {
                "execution": {
                    "iopub.execute_input": "2023-09-11T21:58:31.371631Z",
                    "iopub.status.busy": "2023-09-11T21:58:31.371229Z",
                    "iopub.status.idle": "2023-09-11T21:58:44.573624Z",
                    "shell.execute_reply": "2023-09-11T21:58:44.573120Z"
                },
                "papermill": {
                    "duration": 13.20729,
                    "end_time": "2023-09-11T21:58:44.575068",
                    "exception": false,
                    "start_time": "2023-09-11T21:58:31.367778",
                    "status": "completed"
                },
                "tags": []
            },
            "outputs": [],
            "source": [
                "# subset each column that contains metadata\n",
                "metadata = data_df.filter(regex=\"Metadata\")\n",
                "\n",
                "# get all columns that are not metadata except for metadata_Well\n",
                "data = data_df.drop(metadata.columns, axis=1)\n",
                "\n",
                "# get the metadata_Well column\n",
                "metadata_well = metadata[\n",
                "    [\"Metadata_Well\", \"oneb_Metadata_Treatment_Dose_Inhibitor_Dose\"]\n",
                "]\n",
                "\n",
                "data_df = pd.merge(data, metadata_well, left_index=True, right_index=True)"
            ]
        },
        {
            "cell_type": "markdown",
            "id": "8d2cc57e",
            "metadata": {
                "execution": {
                    "iopub.execute_input": "2023-07-23T19:05:37.280541Z",
                    "iopub.status.busy": "2023-07-23T19:05:37.280345Z",
                    "iopub.status.idle": "2023-07-23T19:05:37.282628Z",
                    "shell.execute_reply": "2023-07-23T19:05:37.282294Z"
                },
                "papermill": {
                    "duration": 0.002632,
                    "end_time": "2023-09-11T21:59:00.353507",
                    "exception": false,
                    "start_time": "2023-09-11T21:59:00.350875",
                    "status": "completed"
                },
                "tags": []
            },
            "source": [
                "This model and code is both inspired and reused from: https://github.com/WayScience/phenotypic_profiling_model/blob/main/1.split_data/split_data.ipynb\n",
                "The bulk of this work was done by **Roshan Kern** I have only made minor changes to the code to make it more modular and easier to use for my purposes."
            ]
        },
        {
            "cell_type": "code",
            "execution_count": 8,
            "id": "50808746",
            "metadata": {
                "execution": {
                    "iopub.execute_input": "2023-09-11T21:59:00.547529Z",
                    "iopub.status.busy": "2023-09-11T21:59:00.547030Z",
                    "iopub.status.idle": "2023-09-11T21:59:13.767306Z",
                    "shell.execute_reply": "2023-09-11T21:59:13.766852Z"
                },
                "papermill": {
                    "duration": 13.224733,
                    "end_time": "2023-09-11T21:59:13.768263",
                    "exception": false,
                    "start_time": "2023-09-11T21:59:00.543530",
                    "status": "completed"
                },
                "tags": []
            },
            "outputs": [
                {
                    "name": "stdout",
                    "output_type": "stream",
                    "text": [
                        "(8, 1389) (8, 1389) (138, 1389)\n"
                    ]
                }
            ],
            "source": [
                "# variable test and train set splits\n",
                "# 100% test set\n",
                "# subset the following treatments for test set\n",
                "test_set_all = data_df[\n",
                "    data_df[\"oneb_Metadata_Treatment_Dose_Inhibitor_Dose\"].isin(test_100_percent)\n",
                "]\n",
                "# 75% test set and 25% train set\n",
                "test_set_75 = data_df[\n",
                "    data_df[\"oneb_Metadata_Treatment_Dose_Inhibitor_Dose\"].isin(test_75_percent)\n",
                "]\n",
                "\n",
                "test_100_and_75 = test_100_percent + test_75_percent\n",
                "\n",
                "# 50% test set and 50% train set\n",
                "# get all treatments that are not in the_test_set_all and the test_set_75\n",
                "test_set_50 = data_df[\n",
                "    ~data_df[\"oneb_Metadata_Treatment_Dose_Inhibitor_Dose\"].isin(test_100_and_75)\n",
                "]\n",
                "\n",
                "print(test_set_all.shape, test_set_75.shape, test_set_50.shape)"
            ]
        },
        {
            "cell_type": "code",
            "execution_count": 9,
            "id": "852dffa4",
            "metadata": {
                "execution": {
                    "iopub.execute_input": "2023-09-11T21:59:13.775667Z",
                    "iopub.status.busy": "2023-09-11T21:59:13.775230Z",
                    "iopub.status.idle": "2023-09-11T21:59:43.333237Z",
                    "shell.execute_reply": "2023-09-11T21:59:43.332756Z"
                },
                "papermill": {
                    "duration": 29.562611,
                    "end_time": "2023-09-11T21:59:43.334201",
                    "exception": false,
                    "start_time": "2023-09-11T21:59:13.771590",
                    "status": "completed"
                },
                "tags": []
            },
            "outputs": [
                {
                    "name": "stdout",
                    "output_type": "stream",
                    "text": [
                        "Shape for the 100% test set: (8, 1389)\n",
                        "\n",
                        "Shape for the 75% test set: (2, 1389);\n",
                        "Shape for the 75% train set: (6, 1389)\n",
                        "\n",
                        "Shape for the 50% test set: (69, 1389);\n",
                        "Shape for the 50% train set: (69, 1389)\n"
                    ]
                }
            ],
            "source": [
                "# get the train test splits from each group\n",
                "\n",
                "# 75% test set and 25% train set\n",
                "test_ratio = 0.75\n",
                "training_data_set_75, testing_data_set_75 = train_test_split(\n",
                "    test_set_75,\n",
                "    test_size=test_ratio,\n",
                "    stratify=test_set_75[\"oneb_Metadata_Treatment_Dose_Inhibitor_Dose\"],\n",
                "    random_state=0,\n",
                ")\n",
                "\n",
                "# 50% test set and 50% train set\n",
                "test_ratio = 0.5\n",
                "training_data_set_50, testing_data_set_50 = train_test_split(\n",
                "    test_set_50,\n",
                "    test_size=test_ratio,\n",
                "    stratify=test_set_50[\"oneb_Metadata_Treatment_Dose_Inhibitor_Dose\"],\n",
                "    random_state=0,\n",
                ")\n",
                "\n",
                "# verify that the correct splits have been made\n",
                "# 100% test set\n",
                "print(f\"Shape for the 100% test set: {test_set_all.shape}\\n\")\n",
                "\n",
                "# 75% test set and 25% train set\n",
                "print(\n",
                "    f\"Shape for the 75% test set: {training_data_set_75.shape};\\nShape for the 75% train set: {testing_data_set_75.shape}\\n\"\n",
                ")\n",
                "\n",
                "# 50% test set and 50% train set\n",
                "print(\n",
                "    f\"Shape for the 50% test set: {training_data_set_50.shape};\\nShape for the 50% train set: {testing_data_set_50.shape}\"\n",
                ")"
            ]
        },
        {
            "cell_type": "code",
            "execution_count": 10,
            "id": "4994791d",
            "metadata": {
                "execution": {
                    "iopub.execute_input": "2023-09-11T21:59:43.341634Z",
                    "iopub.status.busy": "2023-09-11T21:59:43.341227Z",
                    "iopub.status.idle": "2023-09-11T22:00:07.325533Z",
                    "shell.execute_reply": "2023-09-11T22:00:07.325061Z"
                },
                "papermill": {
                    "duration": 23.989043,
                    "end_time": "2023-09-11T22:00:07.326533",
                    "exception": false,
                    "start_time": "2023-09-11T21:59:43.337490",
                    "status": "completed"
                },
                "tags": []
            },
            "outputs": [
                {
                    "name": "stdout",
                    "output_type": "stream",
                    "text": [
                        "Testing set length: 83\n",
                        "Training set length: 71\n"
                    ]
                }
            ],
            "source": [
                "# combine all testing sets together while preserving the index\n",
                "testing_data_set = pd.concat(\n",
                "    [test_set_all, testing_data_set_75, testing_data_set_50], axis=0\n",
                ")\n",
                "testing_data_set = testing_data_set.sort_index()\n",
                "\n",
                "# combine all training sets together while preserving the index\n",
                "training_data_set = pd.concat([training_data_set_75, training_data_set_50], axis=0)\n",
                "training_data_set = training_data_set.sort_index()\n",
                "\n",
                "print(\n",
                "    f\"Testing set length: {len(testing_data_set)}\\nTraining set length: {len(training_data_set)}\"\n",
                ")\n",
                "\n",
                "# get the indexes for the training and testing sets\n",
                "testing_data_set_index = testing_data_set.index\n",
                "training_data_set_index = training_data_set.index"
            ]
        },
        {
            "cell_type": "code",
            "execution_count": 11,
            "id": "8656f69b",
            "metadata": {
                "execution": {
                    "iopub.execute_input": "2023-09-11T22:00:07.333794Z",
                    "iopub.status.busy": "2023-09-11T22:00:07.333551Z",
                    "iopub.status.idle": "2023-09-11T22:00:09.782222Z",
                    "shell.execute_reply": "2023-09-11T22:00:09.781709Z"
                },
                "papermill": {
                    "duration": 2.453778,
                    "end_time": "2023-09-11T22:00:09.783670",
                    "exception": false,
                    "start_time": "2023-09-11T22:00:07.329892",
                    "status": "completed"
                },
                "tags": []
            },
            "outputs": [],
            "source": [
                "# create pandas dataframe with all indexes and their respective labels, stratified by phenotypic class\n",
                "index_data = []\n",
                "for index in training_data_set_index:\n",
                "    index_data.append({\"labeled_data_index\": index, \"label\": \"train\"})\n",
                "for index in testing_data_set_index:\n",
                "    index_data.append({\"labeled_data_index\": index, \"label\": \"test\"})\n",
                "\n",
                "# make index data a dataframe and sort it by labeled data index\n",
                "index_data = pd.DataFrame(index_data).sort_values([\"labeled_data_index\"])"
            ]
        },
        {
            "cell_type": "code",
            "execution_count": 12,
            "id": "8cf8202b",
            "metadata": {
                "execution": {
                    "iopub.execute_input": "2023-09-11T22:00:09.790998Z",
                    "iopub.status.busy": "2023-09-11T22:00:09.790548Z",
                    "iopub.status.idle": "2023-09-11T22:00:09.794729Z",
                    "shell.execute_reply": "2023-09-11T22:00:09.794344Z"
                },
                "papermill": {
                    "duration": 0.008771,
                    "end_time": "2023-09-11T22:00:09.795595",
                    "exception": false,
                    "start_time": "2023-09-11T22:00:09.786824",
                    "status": "completed"
                },
                "tags": []
            },
            "outputs": [
                {
                    "name": "stdout",
                    "output_type": "stream",
                    "text": [
                        "../indexes/PBMC/regression\n"
                    ]
                }
            ],
            "source": [
                "# set the save path\n",
                "save_path = pathlib.Path(f\"../indexes/{cell_type}/{MODEL_TYPE}\")\n",
                "print(save_path)\n",
                "# create save path if it doesn't exist\n",
                "save_path.mkdir(parents=True, exist_ok=True)"
            ]
        },
        {
            "cell_type": "code",
            "execution_count": 13,
            "id": "aeaadb77",
            "metadata": {
                "execution": {
                    "iopub.execute_input": "2023-09-11T22:00:09.802393Z",
                    "iopub.status.busy": "2023-09-11T22:00:09.802059Z",
                    "iopub.status.idle": "2023-09-11T22:00:13.292993Z",
                    "shell.execute_reply": "2023-09-11T22:00:13.292470Z"
                },
                "papermill": {
                    "duration": 3.49584,
                    "end_time": "2023-09-11T22:00:13.294337",
                    "exception": false,
                    "start_time": "2023-09-11T22:00:09.798497",
                    "status": "completed"
                },
                "tags": []
            },
            "outputs": [],
            "source": [
                "# save indexes as tsv file\n",
                "if aggregation == True:\n",
                "    if nomic == True:\n",
                "        index_data.to_csv(\n",
                "            f\"{save_path}/aggregated_sc_and_nomic_data_split_indexes.tsv\", sep=\"\\t\"\n",
                "        )\n",
                "    elif nomic == False:\n",
                "        index_data.to_csv(f\"{save_path}/aggregated_sc_data_split_indexes.tsv\", sep=\"\\t\")\n",
                "elif aggregation == False:\n",
                "    if nomic == True:\n",
                "        index_data.to_csv(f\"{save_path}/sc_and_nomic_data_split_indexes.tsv\", sep=\"\\t\")\n",
                "    elif nomic == False:\n",
                "        index_data.to_csv(f\"{save_path}/sc_split_indexes.tsv\", sep=\"\\t\")\n",
                "else:\n",
                "    print(\"Error: Check aggregation and nomic parameters as they are not set correctly\")"
            ]
        }
    ],
    "metadata": {
        "jupytext": {
            "formats": "ipynb,../scripts//py:percent"
        },
        "kernelspec": {
            "display_name": "Interstellar",
            "language": "python",
            "name": "python3"
        },
        "language_info": {
            "codemirror_mode": {
                "name": "ipython",
                "version": 3
            },
            "file_extension": ".py",
            "mimetype": "text/x-python",
            "name": "python",
            "nbconvert_exporter": "python",
            "pygments_lexer": "ipython3",
            "version": "3.10.15"
        },
        "papermill": {
            "default_parameters": {},
            "duration": 176.120404,
            "end_time": "2023-09-11T22:00:14.013385",
            "environment_variables": {},
            "exception": null,
            "input_path": "0.split_data_regression.ipynb",
            "output_path": "0.split_data_regression.ipynb",
            "parameters": {
                "aggregation": false,
                "cell_type": "PBMC",
                "nomic": true
            },
            "start_time": "2023-09-11T21:57:17.892981",
            "version": "2.4.0"
        },
        "vscode": {
            "interpreter": {
                "hash": "72ae02083a9ca7d143c492d1aec380c7bf553ec51bd66e90e72bba65228121b6"
            }
        }
    },
    "nbformat": 4,
    "nbformat_minor": 5
}
