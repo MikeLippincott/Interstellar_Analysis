{
    "cells": [
        {
            "cell_type": "code",
            "execution_count": 1,
            "id": "215ce1c1",
            "metadata": {
                "execution": {
                    "iopub.execute_input": "2023-07-22T05:40:46.596684Z",
                    "iopub.status.busy": "2023-07-22T05:40:46.596359Z",
                    "iopub.status.idle": "2023-07-22T05:40:47.783445Z",
                    "shell.execute_reply": "2023-07-22T05:40:47.783025Z"
                },
                "papermill": {
                    "duration": 1.193087,
                    "end_time": "2023-07-22T05:40:47.784792",
                    "exception": false,
                    "start_time": "2023-07-22T05:40:46.591705",
                    "status": "completed"
                },
                "tags": []
            },
            "outputs": [],
            "source": [
                "import argparse\n",
                "import ast\n",
                "import itertools\n",
                "import pathlib\n",
                "import warnings\n",
                "\n",
                "import numpy as np\n",
                "import pandas as pd\n",
                "import pyarrow.parquet as pq\n",
                "import toml\n",
                "import tqdm\n",
                "from joblib import dump\n",
                "from sklearn.exceptions import ConvergenceWarning\n",
                "from sklearn.linear_model import ElasticNetCV, LogisticRegression, MultiTaskElasticNetCV\n",
                "\n",
                "# import RepeatedKFold\n",
                "from sklearn.model_selection import (\n",
                "    GridSearchCV,\n",
                "    LeaveOneOut,\n",
                "    RepeatedKFold,\n",
                "    StratifiedKFold,\n",
                "    cross_val_score,\n",
                "    train_test_split,\n",
                ")\n",
                "from sklearn.utils import parallel_backend"
            ]
        },
        {
            "cell_type": "code",
            "execution_count": 2,
            "id": "1bb9ab07",
            "metadata": {},
            "outputs": [
                {
                    "name": "stdout",
                    "output_type": "stream",
                    "text": [
                        "PBMC False IL-1 beta [NSU]\n",
                        "shuffle: False\n"
                    ]
                }
            ],
            "source": [
                "# argparser = argparse.ArgumentParser()\n",
                "# argparser.add_argument(\"--cell_type\", type=str, default=\"all\")\n",
                "# argparser.add_argument(\"--shuffle\", type=str, default=False)\n",
                "# argparser.add_argument(\"--cytokine\", type=str, default=\"cytokine\")\n",
                "# argparser.add_argument(\"--feature_columns\", type=str, default=\"all\")\n",
                "\n",
                "# args = argparser.parse_args()\n",
                "\n",
                "# cell_type = args.cell_type\n",
                "# shuffle = args.shuffle\n",
                "# cytokine = args.cytokine\n",
                "# feature_columns = args.feature_columns\n",
                "\n",
                "\n",
                "cell_type = \"PBMC\"\n",
                "cytokine = \"IL-1 beta [NSU]\"\n",
                "shuffle = \"False\"\n",
                "feature_columns = []\n",
                "\n",
                "print(cell_type, shuffle, cytokine)\n",
                "if shuffle == \"True\":\n",
                "    shuffle = True\n",
                "elif shuffle == \"False\":\n",
                "    shuffle = False\n",
                "else:\n",
                "    raise ValueError(\"shuffle must be True or False\")\n",
                "print(f\"shuffle: {shuffle}\")"
            ]
        },
        {
            "cell_type": "code",
            "execution_count": 3,
            "id": "ed0d80d4",
            "metadata": {
                "execution": {
                    "iopub.execute_input": "2023-07-22T05:40:47.789946Z",
                    "iopub.status.busy": "2023-07-22T05:40:47.789675Z",
                    "iopub.status.idle": "2023-07-22T05:40:47.792006Z",
                    "shell.execute_reply": "2023-07-22T05:40:47.791688Z"
                },
                "papermill": {
                    "duration": 0.005605,
                    "end_time": "2023-07-22T05:40:47.792730",
                    "exception": false,
                    "start_time": "2023-07-22T05:40:47.787125",
                    "status": "completed"
                },
                "tags": [
                    "injected-parameters"
                ]
            },
            "outputs": [],
            "source": [
                "aggregation = True\n",
                "nomic = True"
            ]
        },
        {
            "cell_type": "code",
            "execution_count": 4,
            "id": "8f5aae8c",
            "metadata": {},
            "outputs": [],
            "source": [
                "# set shuffle value\n",
                "if shuffle:\n",
                "    shuffle = \"shuffled_baseline\"\n",
                "else:\n",
                "    shuffle = \"final\""
            ]
        },
        {
            "cell_type": "code",
            "execution_count": 5,
            "id": "c9fbea76",
            "metadata": {
                "execution": {
                    "iopub.execute_input": "2023-07-22T05:40:47.796788Z",
                    "iopub.status.busy": "2023-07-22T05:40:47.796489Z",
                    "iopub.status.idle": "2023-07-22T05:40:47.799099Z",
                    "shell.execute_reply": "2023-07-22T05:40:47.798782Z"
                },
                "papermill": {
                    "duration": 0.005391,
                    "end_time": "2023-07-22T05:40:47.799818",
                    "exception": false,
                    "start_time": "2023-07-22T05:40:47.794427",
                    "status": "completed"
                },
                "tags": []
            },
            "outputs": [],
            "source": [
                "MODEL_TYPE = \"regression\""
            ]
        },
        {
            "cell_type": "code",
            "execution_count": 6,
            "id": "1261124d",
            "metadata": {
                "execution": {
                    "iopub.execute_input": "2023-07-22T05:40:47.803594Z",
                    "iopub.status.busy": "2023-07-22T05:40:47.803381Z",
                    "iopub.status.idle": "2023-07-22T05:44:22.592036Z",
                    "shell.execute_reply": "2023-07-22T05:44:22.591001Z"
                },
                "papermill": {
                    "duration": 214.792447,
                    "end_time": "2023-07-22T05:44:22.593856",
                    "exception": false,
                    "start_time": "2023-07-22T05:40:47.801409",
                    "status": "completed"
                },
                "tags": []
            },
            "outputs": [
                {
                    "data": {
                        "text/plain": [
                            "(154, 405)"
                        ]
                    },
                    "execution_count": 6,
                    "metadata": {},
                    "output_type": "execute_result"
                }
            ],
            "source": [
                "# load training data from indexes and features dataframe\n",
                "data_split_path = pathlib.Path(\n",
                "    f\"../../0.split_data/indexes/{cell_type}/regression/aggregated_sc_and_nomic_data_split_indexes.tsv\"\n",
                ")\n",
                "feature_combinations_path = pathlib.Path(\n",
                "    f\"../../0.split_data/results/feature_combinations_{cell_type}.toml\"\n",
                ").resolve()\n",
                "data_path = pathlib.Path(\n",
                "    f\"../../../data/{cell_type}_preprocessed_sc_norm_aggregated_nomic.parquet\"\n",
                ")\n",
                "\n",
                "# dataframe with only the labeled data we want (exclude certain phenotypic classes)\n",
                "data_df = pd.read_parquet(data_path)\n",
                "data_df = data_df[columns]\n",
                "\n",
                "data_split_indexes = pd.read_csv(data_split_path, sep=\"\\t\")"
            ]
        },
        {
            "cell_type": "code",
            "execution_count": 7,
            "id": "44cb605b",
            "metadata": {},
            "outputs": [],
            "source": [
                "# select tht indexes for the training and test set\n",
                "train_indexes = data_split_indexes.loc[data_split_indexes[\"label\"] == \"train\"]\n",
                "# subset data_df by indexes in data_split_indexes\n",
                "training_data = data_df.loc[train_indexes[\"labeled_data_index\"]]\n",
                "# define metadata columns\n",
                "# subset each column that contains metadata\n",
                "metadata = training_data.filter(regex=\"Metadata\")\n",
                "# drop all metadata columns\n",
                "data_x = training_data.drop(metadata.columns, axis=1)\n",
                "labeled_data = training_data[\"oneb_Metadata_Treatment_Dose_Inhibitor_Dose\"]\n",
                "# get all columns that contain \"NSU\" in the column name\n",
                "data_y_cols = data_x.filter(regex=\"NSU\").columns\n",
                "train_y = training_data[data_y_cols]\n",
                "train_x = data_x.drop(data_y_cols, axis=1)\n",
                "train_x = train_x.drop(columns=\"oneb_Treatment_Dose_Inhibitor_Dose\")\n",
                "loo = LeaveOneOut()\n",
                "loo.get_n_splits(train_y)\n",
                "\n",
                "train_data_y = train_y[cytokine]\n",
                "model = ElasticNetCV(\n",
                "    random_state=0,\n",
                "    max_iter=10000,\n",
                "    cv=loo,\n",
                "    l1_ratio=[0.01, 0.1, 0.2, 0.3, 0.4, 0.5, 0.6, 0.7, 0.9, 0.99],\n",
                "    alphas=[0.001, 0.01, 0.1, 1, 10, 100, 1000, 10000],\n",
                "    fit_intercept=True,\n",
                "    selection=\"random\",\n",
                ")\n",
                "# train model on training data on all combinations of model types, feature types, and phenotypic classes"
            ]
        },
        {
            "cell_type": "code",
            "execution_count": 8,
            "id": "185ba70b",
            "metadata": {},
            "outputs": [
                {
                    "name": "stdout",
                    "output_type": "stream",
                    "text": [
                        "Not shuffling data\n",
                        "[-0.02609314 -0.00956301 -0.10737673 -0.26352596 -0.07130847 -0.20497906\n",
                        " -0.04740904 -0.13977031 -0.13269473 -0.02839714 -0.13077255 -0.08117413\n",
                        " -0.20453965 -0.01705748 -0.06921506 -0.03684608 -0.43450018 -0.09996979\n",
                        " -0.09671219 -0.18096532 -0.3797989  -0.02854044 -0.15257703 -0.0684652\n",
                        " -0.2072909  -0.01386964 -0.00554606 -0.02123841 -0.05075731 -0.08764562\n",
                        " -0.06916677 -0.02059786 -0.02413939 -0.20129069 -0.14158451 -0.1542889\n",
                        " -0.01212531 -0.22253498 -0.04319538 -0.27808273 -0.00496623 -0.04517764\n",
                        " -0.10009938 -0.26872233 -0.00126308 -0.07989805 -0.19277696 -0.34975074\n",
                        " -0.06442987 -0.06282666 -0.08991878 -0.20100688 -0.11528072 -0.12282024\n",
                        " -0.30326235 -0.03210391 -0.20333693 -0.0847217  -0.16908793 -0.25815482\n",
                        " -0.22093541 -0.43614344 -0.08744676 -0.02926864 -0.35056141 -0.25905717\n",
                        " -0.18415928 -0.17411629 -0.13463256 -0.07711892 -0.04870537]\n",
                        "Mean MAE: -0.13123037321680836\n",
                        "Std MAE: 0.1064962316491161\n",
                        "R2: 0.9070818525802957\n"
                    ]
                }
            ],
            "source": [
                "if shuffle == \"shuffled_baseline\":\n",
                "    print(\"Shuffling data\")\n",
                "    for column in train_x:\n",
                "        np.random.shuffle(train_x[column].values)\n",
                "else:\n",
                "    print(\"Not shuffling data\")\n",
                "# define parameters to search over\n",
                "with parallel_backend(\"multiprocessing\"):\n",
                "    with warnings.catch_warnings():\n",
                "        warnings.filterwarnings(\"ignore\", category=ConvergenceWarning, module=\"sklearn\")\n",
                "        # create a logistic regression model\n",
                "        model.fit(train_x, train_data_y)\n",
                "        scores = cross_val_score(\n",
                "            model,\n",
                "            train_x,\n",
                "            train_data_y,\n",
                "            scoring=\"neg_mean_absolute_error\",\n",
                "            cv=loo,\n",
                "            n_jobs=-1,\n",
                "        )\n",
                "        print(scores)\n",
                "        print(f\"Mean MAE: {scores.mean()}\")\n",
                "        print(f\"Std MAE: {scores.std()}\")\n",
                "        print(f\"R2: {model.score(train_x, train_data_y)}\")\n",
                "\n",
                "if (aggregation == True) and (nomic == True):\n",
                "    results_dir = f\"../models/regression/{cell_type}/aggregated_with_nomic/\"\n",
                "elif (aggregation == True) and (nomic == False):\n",
                "    results_dir = f\"../models/regression/{cell_type}/aggregated/\"\n",
                "elif (aggregation == False) and (nomic == True):\n",
                "    results_dir = f\"../models/regression/{cell_type}/sc_with_nomic/\"\n",
                "elif (aggregation == False) and (nomic == False):\n",
                "    results_dir = f\"../models/regression/{cell_type}/sc/\"\n",
                "else:\n",
                "    print(\"Error\")\n",
                "\n",
                "# create results directory if it doesn't exist\n",
                "pathlib.Path(results_dir).mkdir(parents=True, exist_ok=True)\n",
                "\n",
                "# save final estimator\n",
                "if shuffle == \"shuffled_baseline\":\n",
                "    dump(\n",
                "        model,\n",
                "        f\"{results_dir}/{cytokine}_shuffled_baseline__all_nomic.joblib\",\n",
                "    )\n",
                "elif shuffle == \"final\":\n",
                "    dump(\n",
                "        model,\n",
                "        f\"{results_dir}/{cytokine}_final__all_nomic.joblib\",\n",
                "    )\n",
                "else:\n",
                "    print(\"Error\")\n",
                "\n",
                "# save condfig copy specific to this model to the folder with the results\n",
                "# use pathlib\n",
                "if shuffle == \"shuffled_baseline\":\n",
                "    config_copy_path = pathlib.Path(\n",
                "        f\"{results_dir}/{cytokine}_shuffled_baseline__all_nomic.toml\"\n",
                "    )\n",
                "elif shuffle == \"final\":\n",
                "    config_copy_path = pathlib.Path(f\"{results_dir}/{cytokine}_final__all_nomic.toml\")\n",
                "else:\n",
                "    print(\"Error\")\n",
                "\n",
                "# write toml file with parameters used from injected parameters\n",
                "\n",
                "with open(config_copy_path, \"w\") as f:\n",
                "    f.write(f\"model_type='{shuffle}'\\n\")\n",
                "    f.write(f\"aggregation={aggregation}\\n\")\n",
                "    f.write(f\"nomic={nomic}\\n\")\n",
                "    f.write(f\"cell_type='{cell_type}'\\n\")\n",
                "    f.write(f\"feature=all\\n\")"
            ]
        }
    ],
    "metadata": {
        "kernelspec": {
            "display_name": "Interstellar",
            "language": "python",
            "name": "python3"
        },
        "language_info": {
            "codemirror_mode": {
                "name": "ipython",
                "version": 3
            },
            "file_extension": ".py",
            "mimetype": "text/x-python",
            "name": "python",
            "nbconvert_exporter": "python",
            "pygments_lexer": "ipython3",
            "version": "3.10.15"
        },
        "papermill": {
            "default_parameters": {},
            "duration": 694.133243,
            "end_time": "2023-07-22T05:52:18.725810",
            "environment_variables": {},
            "exception": null,
            "input_path": "train_single_class.ipynb",
            "output_path": "train_single_class.ipynb",
            "parameters": {
                "aggregation": false,
                "cell_type": "PBMC",
                "control": "DMSO_0.100_DMSO_0.025",
                "flag": true,
                "nomic": false,
                "treatment": "Thapsigargin_1.000_DMSO_0.025"
            },
            "start_time": "2023-07-22T05:40:44.592567",
            "version": "2.4.0"
        },
        "vscode": {
            "interpreter": {
                "hash": "72ae02083a9ca7d143c492d1aec380c7bf553ec51bd66e90e72bba65228121b6"
            }
        }
    },
    "nbformat": 4,
    "nbformat_minor": 5
}
