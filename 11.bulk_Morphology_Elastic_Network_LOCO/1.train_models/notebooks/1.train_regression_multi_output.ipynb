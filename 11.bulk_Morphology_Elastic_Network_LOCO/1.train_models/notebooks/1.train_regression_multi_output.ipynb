{
    "cells": [
        {
            "cell_type": "code",
            "execution_count": 1,
            "id": "215ce1c1",
            "metadata": {
                "execution": {
                    "iopub.execute_input": "2023-07-22T05:40:46.596684Z",
                    "iopub.status.busy": "2023-07-22T05:40:46.596359Z",
                    "iopub.status.idle": "2023-07-22T05:40:47.783445Z",
                    "shell.execute_reply": "2023-07-22T05:40:47.783025Z"
                },
                "papermill": {
                    "duration": 1.193087,
                    "end_time": "2023-07-22T05:40:47.784792",
                    "exception": false,
                    "start_time": "2023-07-22T05:40:46.591705",
                    "status": "completed"
                },
                "tags": []
            },
            "outputs": [],
            "source": [
                "import argparse\n",
                "import ast\n",
                "import itertools\n",
                "import pathlib\n",
                "import warnings\n",
                "\n",
                "import numpy as np\n",
                "import pandas as pd\n",
                "import pyarrow.parquet as pq\n",
                "import toml\n",
                "import tqdm\n",
                "from joblib import dump\n",
                "from sklearn.exceptions import ConvergenceWarning\n",
                "from sklearn.linear_model import ElasticNetCV, LogisticRegression, MultiTaskElasticNetCV\n",
                "\n",
                "# import RepeatedKFold\n",
                "from sklearn.model_selection import (\n",
                "    GridSearchCV,\n",
                "    LeaveOneOut,\n",
                "    RepeatedKFold,\n",
                "    StratifiedKFold,\n",
                "    cross_val_score,\n",
                "    train_test_split,\n",
                ")\n",
                "from sklearn.utils import parallel_backend"
            ]
        },
        {
            "cell_type": "code",
            "execution_count": 2,
            "id": "1bb9ab07",
            "metadata": {},
            "outputs": [
                {
                    "name": "stdout",
                    "output_type": "stream",
                    "text": [
                        "cell_type: PBMC\n",
                        "cytokine: IL-1 beta [NSU]\n",
                        "shuffle: False\n",
                        "feature_combinations_key: CorrDNA\n",
                        "feature_combinations_file: ../../0.split_data/results/feature_combinations_PBMC.toml\n"
                    ]
                }
            ],
            "source": [
                "argparser = argparse.ArgumentParser()\n",
                "argparser.add_argument(\"--cell_type\", type=str, default=\"all\")\n",
                "argparser.add_argument(\"--shuffle\", type=str, default=False)\n",
                "argparser.add_argument(\"--cytokine\", type=str, default=\"cytokine\")\n",
                "argparser.add_argument(\"--feature_combinations_key\", type=str, default=\"all\")\n",
                "\n",
                "args = argparser.parse_args()\n",
                "\n",
                "cell_type = args.cell_type\n",
                "shuffle = args.shuffle\n",
                "cytokine = args.cytokine\n",
                "feature_combinations_key = args.feature_combinations_key\n",
                "\n",
                "\n",
                "# cell_type = \"PBMC\"\n",
                "# cytokine = \"IL-1 beta [NSU]\"\n",
                "# shuffle = \"False\"\n",
                "# feature_combinations_key = \"CorrDNA\"\n",
                "\n",
                "\n",
                "if shuffle == \"True\":\n",
                "    shuffle = True\n",
                "elif shuffle == \"False\":\n",
                "    shuffle = False\n",
                "else:\n",
                "    raise ValueError(\"shuffle must be True or False\")\n",
                "\n",
                "print(f\"cell_type: {cell_type}\")\n",
                "print(f\"cytokine: {cytokine}\")\n",
                "print(f\"shuffle: {shuffle}\")\n",
                "print(f\"feature_combinations_key: {feature_combinations_key}\")"
            ]
        },
        {
            "cell_type": "code",
            "execution_count": 3,
            "id": "ed0d80d4",
            "metadata": {
                "execution": {
                    "iopub.execute_input": "2023-07-22T05:40:47.789946Z",
                    "iopub.status.busy": "2023-07-22T05:40:47.789675Z",
                    "iopub.status.idle": "2023-07-22T05:40:47.792006Z",
                    "shell.execute_reply": "2023-07-22T05:40:47.791688Z"
                },
                "papermill": {
                    "duration": 0.005605,
                    "end_time": "2023-07-22T05:40:47.792730",
                    "exception": false,
                    "start_time": "2023-07-22T05:40:47.787125",
                    "status": "completed"
                },
                "tags": [
                    "injected-parameters"
                ]
            },
            "outputs": [],
            "source": [
                "aggregation = True\n",
                "nomic = True"
            ]
        },
        {
            "cell_type": "code",
            "execution_count": 4,
            "id": "8f5aae8c",
            "metadata": {},
            "outputs": [],
            "source": [
                "# set shuffle value\n",
                "if shuffle:\n",
                "    shuffle = \"shuffled_baseline\"\n",
                "else:\n",
                "    shuffle = \"final\""
            ]
        },
        {
            "cell_type": "code",
            "execution_count": 5,
            "id": "c9fbea76",
            "metadata": {
                "execution": {
                    "iopub.execute_input": "2023-07-22T05:40:47.796788Z",
                    "iopub.status.busy": "2023-07-22T05:40:47.796489Z",
                    "iopub.status.idle": "2023-07-22T05:40:47.799099Z",
                    "shell.execute_reply": "2023-07-22T05:40:47.798782Z"
                },
                "papermill": {
                    "duration": 0.005391,
                    "end_time": "2023-07-22T05:40:47.799818",
                    "exception": false,
                    "start_time": "2023-07-22T05:40:47.794427",
                    "status": "completed"
                },
                "tags": []
            },
            "outputs": [],
            "source": [
                "MODEL_TYPE = \"regression\""
            ]
        },
        {
            "cell_type": "code",
            "execution_count": 6,
            "id": "1261124d",
            "metadata": {
                "execution": {
                    "iopub.execute_input": "2023-07-22T05:40:47.803594Z",
                    "iopub.status.busy": "2023-07-22T05:40:47.803381Z",
                    "iopub.status.idle": "2023-07-22T05:44:22.592036Z",
                    "shell.execute_reply": "2023-07-22T05:44:22.591001Z"
                },
                "papermill": {
                    "duration": 214.792447,
                    "end_time": "2023-07-22T05:44:22.593856",
                    "exception": false,
                    "start_time": "2023-07-22T05:40:47.801409",
                    "status": "completed"
                },
                "tags": []
            },
            "outputs": [],
            "source": [
                "# load training data from indexes and features dataframe\n",
                "data_split_path = pathlib.Path(\n",
                "    f\"../../0.split_data/indexes/{cell_type}/regression/aggregated_sc_and_nomic_data_split_indexes.tsv\"\n",
                ").resolve(strict=True)\n",
                "\n",
                "feature_combinations_file_path = pathlib.Path(\n",
                "    f\"../../0.split_data/results/feature_combinations_{cell_type}.toml\"\n",
                ").resolve(strict=True)\n",
                "\n",
                "data_path = pathlib.Path(\n",
                "    f\"../../../data/{cell_type}_preprocessed_sc_norm_aggregated_nomic.parquet\"\n",
                ").resolve(strict=True)\n",
                "\n",
                "feature_combination_key_file = pathlib.Path(\n",
                "    f\"../../0.split_data/results/feature_combinations_keys_{cell_type}.txt\"\n",
                ").resolve(strict=True)\n",
                "\n",
                "# load the feature combinations file\n",
                "feature_combinations = toml.load(feature_combinations_file_path)\n",
                "feature_combinations_columns = feature_combinations[feature_combinations_key]\n",
                "\n",
                "# dataframe with only the labeled data we want (exclude certain phenotypic classes)\n",
                "data_df = pd.read_parquet(data_path)\n",
                "data_df = data_df[feature_combinations_columns]\n",
                "\n",
                "data_split_indexes = pd.read_csv(data_split_path, sep=\"\\t\")"
            ]
        },
        {
            "cell_type": "code",
            "execution_count": 7,
            "id": "44cb605b",
            "metadata": {},
            "outputs": [],
            "source": [
                "# select tht indexes for the training and test set\n",
                "train_indexes = data_split_indexes.loc[data_split_indexes[\"label\"] == \"train\"]\n",
                "# subset data_df by indexes in data_split_indexes\n",
                "training_data = data_df.loc[train_indexes[\"labeled_data_index\"]]\n",
                "# define metadata columns\n",
                "# subset each column that contains metadata\n",
                "metadata = training_data.filter(regex=\"Metadata\")\n",
                "# drop all metadata columns\n",
                "data_x = training_data.drop(metadata.columns, axis=1)\n",
                "labeled_data = training_data[\"oneb_Metadata_Treatment_Dose_Inhibitor_Dose\"]\n",
                "# get all columns that contain \"NSU\" in the column name\n",
                "data_y_cols = data_x.filter(regex=\"NSU\").columns\n",
                "train_y = training_data[data_y_cols]\n",
                "train_x = data_x.drop(data_y_cols, axis=1)\n",
                "# drop the oneb_Treatment_Dose_Inhibitor_Dose column if it exists\n",
                "if \"oneb_Treatment_Dose_Inhibitor_Dose\" in train_x.columns:\n",
                "\n",
                "    train_x = train_x.drop(columns=\"oneb_Treatment_Dose_Inhibitor_Dose\")\n",
                "loo = LeaveOneOut()\n",
                "loo.get_n_splits(train_y)\n",
                "\n",
                "train_data_y = train_y[cytokine]\n",
                "model = ElasticNetCV(\n",
                "    random_state=0,\n",
                "    max_iter=10000,\n",
                "    cv=loo,\n",
                "    l1_ratio=[0.01, 0.1, 0.2, 0.3, 0.4, 0.5, 0.6, 0.7, 0.9, 0.99],\n",
                "    alphas=[0.001, 0.01, 0.1, 1, 10, 100, 1000, 10000],\n",
                "    fit_intercept=True,\n",
                "    selection=\"random\",\n",
                ")"
            ]
        },
        {
            "cell_type": "code",
            "execution_count": 8,
            "id": "185ba70b",
            "metadata": {},
            "outputs": [
                {
                    "name": "stdout",
                    "output_type": "stream",
                    "text": [
                        "Not shuffling data\n",
                        "[-0.05091671 -0.11746673 -0.06843288 -0.0578173  -0.10713752 -0.05334813\n",
                        " -0.08138217 -0.13560163 -0.14510858 -0.0174263  -0.11574704 -0.05078271\n",
                        " -0.09864833 -0.02436111 -0.02643161 -0.02512671 -0.22352939 -0.09461236\n",
                        " -0.1163712  -0.02447619 -0.12376564 -0.02773978 -0.06409602 -0.02964657\n",
                        " -0.53884663 -0.07256247 -0.06289394 -0.00278938 -0.00384057 -0.06341904\n",
                        " -0.02468681 -0.01782037 -0.06452344 -0.09189309 -0.08486109 -0.02331256\n",
                        " -0.01418436 -0.00624064 -0.00318938 -0.00259288 -0.1194516  -0.00268319\n",
                        " -0.03444464 -0.09789139 -0.02106965 -0.03478556 -0.20626748 -0.15330342\n",
                        " -0.00811324 -0.12207309 -0.12733372 -0.00458263 -0.05831547 -0.17214588\n",
                        " -0.10302904 -0.08260216 -0.03203544 -0.00245314 -0.01733699 -0.08169911\n",
                        " -0.0541195  -0.21049109 -0.0527998  -0.01692748 -0.09621274 -0.12266597\n",
                        " -0.08852057 -0.00541243 -0.00145549 -0.00809033 -0.06413162]\n",
                        "Mean MAE: -0.07267708621278912\n",
                        "Std MAE: 0.0774691790026509\n",
                        "R2: 0.9852894726085114\n"
                    ]
                }
            ],
            "source": [
                "# train model on training data on all combinations of model types, feature types, and phenotypic classes\n",
                "if shuffle == \"shuffled_baseline\":\n",
                "    print(\"Shuffling data\")\n",
                "    for column in train_x:\n",
                "        np.random.shuffle(train_x[column].values)\n",
                "else:\n",
                "    print(\"Not shuffling data\")\n",
                "# define parameters to search over\n",
                "with parallel_backend(\"multiprocessing\"):\n",
                "    with warnings.catch_warnings():\n",
                "        warnings.filterwarnings(\"ignore\", category=ConvergenceWarning, module=\"sklearn\")\n",
                "        # create a logistic regression model\n",
                "        model.fit(train_x, train_data_y)\n",
                "        scores = cross_val_score(\n",
                "            model,\n",
                "            train_x,\n",
                "            train_data_y,\n",
                "            scoring=\"neg_mean_absolute_error\",\n",
                "            cv=loo,\n",
                "            n_jobs=-1,\n",
                "        )\n",
                "        print(scores)\n",
                "        print(f\"Mean MAE: {scores.mean()}\")\n",
                "        print(f\"Std MAE: {scores.std()}\")\n",
                "        print(f\"R2: {model.score(train_x, train_data_y)}\")\n",
                "\n",
                "if (aggregation == True) and (nomic == True):\n",
                "    results_dir = f\"../models/regression/{cell_type}/aggregated_with_nomic/\"\n",
                "elif (aggregation == True) and (nomic == False):\n",
                "    results_dir = f\"../models/regression/{cell_type}/aggregated/\"\n",
                "elif (aggregation == False) and (nomic == True):\n",
                "    results_dir = f\"../models/regression/{cell_type}/sc_with_nomic/\"\n",
                "elif (aggregation == False) and (nomic == False):\n",
                "    results_dir = f\"../models/regression/{cell_type}/sc/\"\n",
                "else:\n",
                "    print(\"Error\")\n",
                "\n",
                "# create results directory if it doesn't exist\n",
                "pathlib.Path(results_dir).mkdir(parents=True, exist_ok=True)\n",
                "\n",
                "# save final estimator\n",
                "if shuffle == \"shuffled_baseline\":\n",
                "    dump(\n",
                "        model,\n",
                "        f\"{results_dir}/{cytokine}_{feature_combinations_key}_shuffled_baseline__all_nomic.joblib\",\n",
                "    )\n",
                "elif shuffle == \"final\":\n",
                "    dump(\n",
                "        model,\n",
                "        f\"{results_dir}/{cytokine}_{feature_combinations_key}_final__all_nomic.joblib\",\n",
                "    )\n",
                "else:\n",
                "    print(\"Error\")\n",
                "\n",
                "# save condfig copy specific to this model to the folder with the results\n",
                "# use pathlib\n",
                "if shuffle == \"shuffled_baseline\":\n",
                "    config_copy_path = pathlib.Path(\n",
                "        f\"{results_dir}/{cytokine}_{feature_combinations_key}_shuffled_baseline__all_nomic.toml\"\n",
                "    )\n",
                "elif shuffle == \"final\":\n",
                "    config_copy_path = pathlib.Path(\n",
                "        f\"{results_dir}/{cytokine}_{feature_combinations_key}_final__all_nomic.toml\"\n",
                "    )\n",
                "else:\n",
                "    print(\"Error\")\n",
                "\n",
                "# write toml file with parameters used from injected parameters\n",
                "\n",
                "with open(config_copy_path, \"w\") as f:\n",
                "    f.write(f\"model_type='{shuffle}'\\n\")\n",
                "    f.write(f\"aggregation={aggregation}\\n\")\n",
                "    f.write(f\"nomic={nomic}\\n\")\n",
                "    f.write(f\"cell_type='{cell_type}'\\n\")\n",
                "    f.write(f\"cytokine='{cytokine}'\\n\")\n",
                "    f.write(f\"feature_combinations_key='{feature_combinations_key}'\\n\")\n",
                "    f.write(f\"feature_combinations_file='{feature_combinations_file}'\\n\")"
            ]
        }
    ],
    "metadata": {
        "kernelspec": {
            "display_name": "Interstellar",
            "language": "python",
            "name": "python3"
        },
        "language_info": {
            "codemirror_mode": {
                "name": "ipython",
                "version": 3
            },
            "file_extension": ".py",
            "mimetype": "text/x-python",
            "name": "python",
            "nbconvert_exporter": "python",
            "pygments_lexer": "ipython3",
            "version": "3.10.15"
        },
        "papermill": {
            "default_parameters": {},
            "duration": 694.133243,
            "end_time": "2023-07-22T05:52:18.725810",
            "environment_variables": {},
            "exception": null,
            "input_path": "train_single_class.ipynb",
            "output_path": "train_single_class.ipynb",
            "parameters": {
                "aggregation": false,
                "cell_type": "PBMC",
                "control": "DMSO_0.100_DMSO_0.025",
                "flag": true,
                "nomic": false,
                "treatment": "Thapsigargin_1.000_DMSO_0.025"
            },
            "start_time": "2023-07-22T05:40:44.592567",
            "version": "2.4.0"
        },
        "vscode": {
            "interpreter": {
                "hash": "72ae02083a9ca7d143c492d1aec380c7bf553ec51bd66e90e72bba65228121b6"
            }
        }
    },
    "nbformat": 4,
    "nbformat_minor": 5
}
