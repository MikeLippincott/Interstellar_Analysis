{
 "cells": [
  {
   "cell_type": "markdown",
   "id": "8e60628c",
   "metadata": {},
   "source": [
    "## Hyperparameter tuning via Optuna for Binary MLP model"
   ]
  },
  {
   "cell_type": "markdown",
   "id": "8fac71a5",
   "metadata": {},
   "source": [
    "### Being a binary model this notebook will be limited to predicting one class 1 or 0, yes or no.\n",
    "### Here I will be predicting if a cell received a treatment or not"
   ]
  },
  {
   "cell_type": "code",
   "execution_count": 1,
   "id": "860a61dd",
   "metadata": {},
   "outputs": [],
   "source": [
    "import sys\n",
    "from pathlib import Path\n",
    "\n",
    "import matplotlib.pyplot as plt\n",
    "import numpy as np\n",
    "import optuna\n",
    "import pandas as pd\n",
    "import plotly\n",
    "import seaborn as sns\n",
    "import toml\n",
    "import torch\n",
    "import torch.nn as nn\n",
    "import torch.optim as optim\n",
    "from sklearn import preprocessing\n",
    "\n",
    "from sklearn.model_selection import train_test_split\n",
    "\n",
    "sys.path.append(\"..\")\n",
    "from MLP_utils.parameters import Parameters\n",
    "from sklearn.metrics import confusion_matrix\n",
    "from sklearn.metrics import precision_score, recall_score\n",
    "from sklearn.metrics import roc_auc_score\n",
    "\n",
    "from sklearn.metrics import roc_curve, auc\n",
    "\n",
    "from MLP_utils.utils import (\n",
    "    Dataset_formatter,\n",
    "    data_split,\n",
    "    extract_best_trial_params,\n",
    "    objective_model_optimizer,\n",
    "    optimized_model_create,\n",
    "    plot_metric_vs_epoch,\n",
    "    results_output,\n",
    "    test_optimized_model,\n",
    "    train_optimized_model,\n",
    "    un_nest,\n",
    ")\n",
    "\n",
    "from utils.utils import df_stats\n",
    "from MLP_utils.utils import parameter_set\n",
    "from configparser import ConfigParser"
   ]
  },
  {
   "cell_type": "code",
   "execution_count": 2,
   "id": "44baa945",
   "metadata": {},
   "outputs": [],
   "source": [
    "# Import Data\n",
    "# set data file path under pathlib path for multi-system use\n",
    "file_path = Path(\n",
    "    \"../../Extracted_Features_(CSV_files)/interstellar_wave3_sc_norm_fs_cellprofiler.csv.gz\"\n",
    ")\n",
    "df = pd.read_csv(\n",
    "    file_path,\n",
    "    low_memory=False,\n",
    ")"
   ]
  },
  {
   "cell_type": "code",
   "execution_count": 3,
   "id": "394294ce",
   "metadata": {},
   "outputs": [],
   "source": [
    "data = Path(\"MLP_utils/config.toml\")\n",
    "config = toml.load(data)\n",
    "params = Parameters()\n",
    "params = parameter_set(params, config)"
   ]
  },
  {
   "cell_type": "code",
   "execution_count": 4,
   "id": "786e3a76",
   "metadata": {},
   "outputs": [
    {
     "name": "stdout",
     "output_type": "stream",
     "text": [
      "['LPS_10µg/ml' 'Disulfiram_2.5µM' 'LPS_1µg/ml' 'Disulfiram_0.1µM'\n",
      " 'H2O2_500µM' 'Thapsi_10µM' 'H2O2_50µM' 'Thapsi_1µM' 'ATP_1mM'\n",
      " 'LPS + Nigericin_1µg/ml + 10µM' 'ATP_0.1mM'\n",
      " 'LPS + Nigericin_1µg/ml + 1µM' 'Flagellin_1µg/ml' 'DMSO 0.1%_0'\n",
      " 'Flagellin_0.1µg/ml' 'Media only_0']\n",
      "['LPS_10µg/ml' 'Disulfiram_2.5µM' 'Media only_0']\n",
      "The dimensions of the data are: (50250, 569)\n",
      "Number of total missing values across all columns: 754\n",
      "The dimensions of the data are: (50049, 569)\n",
      "Number of total missing values across all columns: 0\n",
      "True\n",
      "500\n",
      "50049\n"
     ]
    }
   ],
   "source": [
    "# Combine treatment with dosage to be able to discern treatments with different doses as a different condition\n",
    "# Combine treatment and dose\n",
    "df = df.assign(\n",
    "    Metadata_Treatment_and_Dose=lambda x: df[\"Metadata_treatment\"]\n",
    "    + \"_\"\n",
    "    + df[\"Metadata_dose\"]\n",
    ")\n",
    "\n",
    "# df[\"Metadata_treatment\"] = df[\"Metadata_treatment\"] + \"_\" + df[\"Metadata_dose\"]\n",
    "print(df[\"Metadata_Treatment_and_Dose\"].unique())\n",
    "\n",
    "# Generate df speceific to analysis and model\n",
    "df = df.query(\n",
    "    \"Metadata_Treatment_and_Dose == 'LPS_10µg/ml'| Metadata_Treatment_and_Dose == 'Media only_0' | Metadata_Treatment_and_Dose == 'Disulfiram_2.5µM'\"\n",
    ")\n",
    "print(df[\"Metadata_Treatment_and_Dose\"].unique())\n",
    "\n",
    "df_stats(df)\n",
    "# Drop na and reindex accordingly\n",
    "df = df.dropna()\n",
    "df = df.reset_index(drop=True)\n",
    "\n",
    "# Check for Nans again\n",
    "df_stats(df)\n",
    "# Understand categorical data such as treatment and dosing\n",
    "df[[\"Metadata_Treatment_and_Dose\"]].drop_duplicates()\n",
    "print(params.DATA_SUBSET_OPTION)\n",
    "print(params.DATA_SUBSET_NUMBER)\n",
    "if params.DATA_SUBSET_OPTION == True:\n",
    "    df = df.sample(n=params.DATA_SUBSET_NUMBER)\n",
    "    print(\"yes\")\n",
    "else:\n",
    "    pass\n",
    "\n",
    "# Code snippet for metadata extraction by Jenna Tomkinson\n",
    "df_metadata = list(df.columns[df.columns.str.startswith(\"Metadata\")])\n",
    "\n",
    "# define which columns are data and which are descriptive\n",
    "df_descriptive = df[df_metadata]\n",
    "df_values = df.drop(columns=df_metadata)\n",
    "print(len(df_values))"
   ]
  },
  {
   "cell_type": "markdown",
   "id": "ca90059d",
   "metadata": {},
   "source": [
    " ### Setting up data for network training"
   ]
  },
  {
   "cell_type": "code",
   "execution_count": 5,
   "id": "f4feb87f",
   "metadata": {},
   "outputs": [],
   "source": [
    "# Creating label encoder\n",
    "le = preprocessing.LabelEncoder()\n",
    "# Converting strings into numbers\n",
    "df_values[\"Metadata_Treatment_and_Dose\"] = le.fit_transform(\n",
    "    df_descriptive[\"Metadata_Treatment_and_Dose\"]\n",
    ")\n",
    "# split into X and Y where Y are the predictive column and x are the observable data\n",
    "df_values_X = df_values.drop(\"Metadata_Treatment_and_Dose\", axis=1)\n",
    "df_values_Y = df_values[\"Metadata_Treatment_and_Dose\"]\n",
    "\n",
    "df_values_X.head()\n",
    "\n",
    "X_train, X_test, X_val, Y_train, Y_test, Y_val = data_split(\n",
    "    X_vals=df_values_X,\n",
    "    y_vals=df_values_Y,\n",
    "    train_proportion=0.8,\n",
    "    val_proportion=0.1,\n",
    "    test_proportion=0.1,\n",
    "    seed=1,\n",
    ")"
   ]
  },
  {
   "cell_type": "code",
   "execution_count": 6,
   "id": "36894826",
   "metadata": {},
   "outputs": [
    {
     "name": "stdout",
     "output_type": "stream",
     "text": [
      "Number of in features:  555\n",
      "Number of out features:  3\n"
     ]
    }
   ],
   "source": [
    "# produce data objects for train, val and test datasets\n",
    "train_data = Dataset_formatter(\n",
    "    torch.FloatTensor(X_train.values), torch.FloatTensor(Y_train.values)\n",
    ")\n",
    "val_data = Dataset_formatter(\n",
    "    torch.FloatTensor(X_val.values), torch.FloatTensor(Y_val.values)\n",
    ")\n",
    "test_data = Dataset_formatter(\n",
    "    torch.FloatTensor(X_test.values), torch.FloatTensor(Y_test.values)\n",
    ")\n",
    "\n",
    "IN_FEATURES = X_train.shape[1]\n",
    "print(\"Number of in features: \", IN_FEATURES)\n",
    "OUT_FEATURES = len(df_values[\"Metadata_Treatment_and_Dose\"].unique())\n",
    "print(\"Number of out features: \", OUT_FEATURES)"
   ]
  },
  {
   "cell_type": "code",
   "execution_count": 7,
   "id": "77effa5c",
   "metadata": {},
   "outputs": [],
   "source": [
    "# convert data class into a dataloader to be compatible with pytorch\n",
    "train_loader = torch.utils.data.DataLoader(\n",
    "    dataset=train_data, batch_size=params.BATCH_SIZE\n",
    ")\n",
    "valid_loader = torch.utils.data.DataLoader(\n",
    "    dataset=val_data, batch_size=params.BATCH_SIZE\n",
    ")\n",
    "test_loader = torch.utils.data.DataLoader(dataset=test_data, batch_size=1)"
   ]
  },
  {
   "cell_type": "code",
   "execution_count": 8,
   "id": "a969042f",
   "metadata": {},
   "outputs": [
    {
     "name": "stderr",
     "output_type": "stream",
     "text": [
      "\u001b[32m[I 2023-04-03 18:59:02,644]\u001b[0m A new study created in memory with name: no-name-bbc8f3f0-7b65-49f6-8cd2-4a7e50f0d043\u001b[0m\n",
      "\u001b[32m[I 2023-04-03 18:59:28,726]\u001b[0m Trial 0 finished with value: 65.02217782217782 and parameters: {'n_layers': 1, 'n_units_l0': 3, 'dropout_0': 0.24693869786952238, 'learning_rate': 0.05962543460585308, 'optimizer': 'Adam'}. Best is trial 0 with value: 65.02217782217782.\u001b[0m\n"
     ]
    },
    {
     "name": "stdout",
     "output_type": "stream",
     "text": [
      "Validation Accuracy: 66.11908091908093\n",
      "Validation Loss: 0.7956547863142832\n",
      "Training Accuracy: 61.55927970229026\n",
      "Training Loss: 0.8597442492861184\n"
     ]
    },
    {
     "data": {
      "text/plain": [
       "(66.11908091908093, 0.7956547863142832, 61.55927970229026, 0.8597442492861184)"
      ]
     },
     "execution_count": 8,
     "metadata": {},
     "output_type": "execute_result"
    }
   ],
   "source": [
    "# wrap the objective function inside of a lambda function to pass args...\n",
    "objective_lambda_func = lambda trial: objective_model_optimizer(\n",
    "    train_loader,\n",
    "    valid_loader,\n",
    "    trial=trial,\n",
    "    in_features=IN_FEATURES,\n",
    "    out_features=OUT_FEATURES,\n",
    "    params=params,\n",
    "    metric=params.METRIC,\n",
    "    return_info=False,\n",
    ")\n",
    "# Study is the object for model optimization\n",
    "study = optuna.create_study(direction=f\"{params.DIRECTION}\")\n",
    "# Here I apply the optimize function of the study to the objective function\n",
    "# This optimizes each parameter specified to be optimized from the defined search space\n",
    "study.optimize(objective_lambda_func, n_trials=params.N_TRIALS)\n",
    "# Prints out the best trial's optimized parameters\n",
    "objective_model_optimizer(\n",
    "    train_loader,\n",
    "    valid_loader,\n",
    "    trial=study.best_trial,\n",
    "    in_features=IN_FEATURES,\n",
    "    out_features=OUT_FEATURES,\n",
    "    params=params,\n",
    "    metric=params.METRIC,\n",
    "    return_info=True,\n",
    ")"
   ]
  },
  {
   "cell_type": "code",
   "execution_count": 9,
   "id": "b2620589",
   "metadata": {},
   "outputs": [
    {
     "data": {
      "application/vnd.plotly.v1+json": {
       "config": {
        "plotlyServerURL": "https://plot.ly"
       },
       "data": [
        {
         "mode": "markers",
         "name": "Objective Value",
         "type": "scatter",
         "x": [
          0
         ],
         "y": [
          65.02217782217782
         ]
        },
        {
         "name": "Best Value",
         "type": "scatter",
         "x": [
          0
         ],
         "y": [
          65.02217782217782
         ]
        }
       ],
       "layout": {
        "template": {
         "data": {
          "bar": [
           {
            "error_x": {
             "color": "#2a3f5f"
            },
            "error_y": {
             "color": "#2a3f5f"
            },
            "marker": {
             "line": {
              "color": "#E5ECF6",
              "width": 0.5
             },
             "pattern": {
              "fillmode": "overlay",
              "size": 10,
              "solidity": 0.2
             }
            },
            "type": "bar"
           }
          ],
          "barpolar": [
           {
            "marker": {
             "line": {
              "color": "#E5ECF6",
              "width": 0.5
             },
             "pattern": {
              "fillmode": "overlay",
              "size": 10,
              "solidity": 0.2
             }
            },
            "type": "barpolar"
           }
          ],
          "carpet": [
           {
            "aaxis": {
             "endlinecolor": "#2a3f5f",
             "gridcolor": "white",
             "linecolor": "white",
             "minorgridcolor": "white",
             "startlinecolor": "#2a3f5f"
            },
            "baxis": {
             "endlinecolor": "#2a3f5f",
             "gridcolor": "white",
             "linecolor": "white",
             "minorgridcolor": "white",
             "startlinecolor": "#2a3f5f"
            },
            "type": "carpet"
           }
          ],
          "choropleth": [
           {
            "colorbar": {
             "outlinewidth": 0,
             "ticks": ""
            },
            "type": "choropleth"
           }
          ],
          "contour": [
           {
            "colorbar": {
             "outlinewidth": 0,
             "ticks": ""
            },
            "colorscale": [
             [
              0,
              "#0d0887"
             ],
             [
              0.1111111111111111,
              "#46039f"
             ],
             [
              0.2222222222222222,
              "#7201a8"
             ],
             [
              0.3333333333333333,
              "#9c179e"
             ],
             [
              0.4444444444444444,
              "#bd3786"
             ],
             [
              0.5555555555555556,
              "#d8576b"
             ],
             [
              0.6666666666666666,
              "#ed7953"
             ],
             [
              0.7777777777777778,
              "#fb9f3a"
             ],
             [
              0.8888888888888888,
              "#fdca26"
             ],
             [
              1,
              "#f0f921"
             ]
            ],
            "type": "contour"
           }
          ],
          "contourcarpet": [
           {
            "colorbar": {
             "outlinewidth": 0,
             "ticks": ""
            },
            "type": "contourcarpet"
           }
          ],
          "heatmap": [
           {
            "colorbar": {
             "outlinewidth": 0,
             "ticks": ""
            },
            "colorscale": [
             [
              0,
              "#0d0887"
             ],
             [
              0.1111111111111111,
              "#46039f"
             ],
             [
              0.2222222222222222,
              "#7201a8"
             ],
             [
              0.3333333333333333,
              "#9c179e"
             ],
             [
              0.4444444444444444,
              "#bd3786"
             ],
             [
              0.5555555555555556,
              "#d8576b"
             ],
             [
              0.6666666666666666,
              "#ed7953"
             ],
             [
              0.7777777777777778,
              "#fb9f3a"
             ],
             [
              0.8888888888888888,
              "#fdca26"
             ],
             [
              1,
              "#f0f921"
             ]
            ],
            "type": "heatmap"
           }
          ],
          "heatmapgl": [
           {
            "colorbar": {
             "outlinewidth": 0,
             "ticks": ""
            },
            "colorscale": [
             [
              0,
              "#0d0887"
             ],
             [
              0.1111111111111111,
              "#46039f"
             ],
             [
              0.2222222222222222,
              "#7201a8"
             ],
             [
              0.3333333333333333,
              "#9c179e"
             ],
             [
              0.4444444444444444,
              "#bd3786"
             ],
             [
              0.5555555555555556,
              "#d8576b"
             ],
             [
              0.6666666666666666,
              "#ed7953"
             ],
             [
              0.7777777777777778,
              "#fb9f3a"
             ],
             [
              0.8888888888888888,
              "#fdca26"
             ],
             [
              1,
              "#f0f921"
             ]
            ],
            "type": "heatmapgl"
           }
          ],
          "histogram": [
           {
            "marker": {
             "pattern": {
              "fillmode": "overlay",
              "size": 10,
              "solidity": 0.2
             }
            },
            "type": "histogram"
           }
          ],
          "histogram2d": [
           {
            "colorbar": {
             "outlinewidth": 0,
             "ticks": ""
            },
            "colorscale": [
             [
              0,
              "#0d0887"
             ],
             [
              0.1111111111111111,
              "#46039f"
             ],
             [
              0.2222222222222222,
              "#7201a8"
             ],
             [
              0.3333333333333333,
              "#9c179e"
             ],
             [
              0.4444444444444444,
              "#bd3786"
             ],
             [
              0.5555555555555556,
              "#d8576b"
             ],
             [
              0.6666666666666666,
              "#ed7953"
             ],
             [
              0.7777777777777778,
              "#fb9f3a"
             ],
             [
              0.8888888888888888,
              "#fdca26"
             ],
             [
              1,
              "#f0f921"
             ]
            ],
            "type": "histogram2d"
           }
          ],
          "histogram2dcontour": [
           {
            "colorbar": {
             "outlinewidth": 0,
             "ticks": ""
            },
            "colorscale": [
             [
              0,
              "#0d0887"
             ],
             [
              0.1111111111111111,
              "#46039f"
             ],
             [
              0.2222222222222222,
              "#7201a8"
             ],
             [
              0.3333333333333333,
              "#9c179e"
             ],
             [
              0.4444444444444444,
              "#bd3786"
             ],
             [
              0.5555555555555556,
              "#d8576b"
             ],
             [
              0.6666666666666666,
              "#ed7953"
             ],
             [
              0.7777777777777778,
              "#fb9f3a"
             ],
             [
              0.8888888888888888,
              "#fdca26"
             ],
             [
              1,
              "#f0f921"
             ]
            ],
            "type": "histogram2dcontour"
           }
          ],
          "mesh3d": [
           {
            "colorbar": {
             "outlinewidth": 0,
             "ticks": ""
            },
            "type": "mesh3d"
           }
          ],
          "parcoords": [
           {
            "line": {
             "colorbar": {
              "outlinewidth": 0,
              "ticks": ""
             }
            },
            "type": "parcoords"
           }
          ],
          "pie": [
           {
            "automargin": true,
            "type": "pie"
           }
          ],
          "scatter": [
           {
            "fillpattern": {
             "fillmode": "overlay",
             "size": 10,
             "solidity": 0.2
            },
            "type": "scatter"
           }
          ],
          "scatter3d": [
           {
            "line": {
             "colorbar": {
              "outlinewidth": 0,
              "ticks": ""
             }
            },
            "marker": {
             "colorbar": {
              "outlinewidth": 0,
              "ticks": ""
             }
            },
            "type": "scatter3d"
           }
          ],
          "scattercarpet": [
           {
            "marker": {
             "colorbar": {
              "outlinewidth": 0,
              "ticks": ""
             }
            },
            "type": "scattercarpet"
           }
          ],
          "scattergeo": [
           {
            "marker": {
             "colorbar": {
              "outlinewidth": 0,
              "ticks": ""
             }
            },
            "type": "scattergeo"
           }
          ],
          "scattergl": [
           {
            "marker": {
             "colorbar": {
              "outlinewidth": 0,
              "ticks": ""
             }
            },
            "type": "scattergl"
           }
          ],
          "scattermapbox": [
           {
            "marker": {
             "colorbar": {
              "outlinewidth": 0,
              "ticks": ""
             }
            },
            "type": "scattermapbox"
           }
          ],
          "scatterpolar": [
           {
            "marker": {
             "colorbar": {
              "outlinewidth": 0,
              "ticks": ""
             }
            },
            "type": "scatterpolar"
           }
          ],
          "scatterpolargl": [
           {
            "marker": {
             "colorbar": {
              "outlinewidth": 0,
              "ticks": ""
             }
            },
            "type": "scatterpolargl"
           }
          ],
          "scatterternary": [
           {
            "marker": {
             "colorbar": {
              "outlinewidth": 0,
              "ticks": ""
             }
            },
            "type": "scatterternary"
           }
          ],
          "surface": [
           {
            "colorbar": {
             "outlinewidth": 0,
             "ticks": ""
            },
            "colorscale": [
             [
              0,
              "#0d0887"
             ],
             [
              0.1111111111111111,
              "#46039f"
             ],
             [
              0.2222222222222222,
              "#7201a8"
             ],
             [
              0.3333333333333333,
              "#9c179e"
             ],
             [
              0.4444444444444444,
              "#bd3786"
             ],
             [
              0.5555555555555556,
              "#d8576b"
             ],
             [
              0.6666666666666666,
              "#ed7953"
             ],
             [
              0.7777777777777778,
              "#fb9f3a"
             ],
             [
              0.8888888888888888,
              "#fdca26"
             ],
             [
              1,
              "#f0f921"
             ]
            ],
            "type": "surface"
           }
          ],
          "table": [
           {
            "cells": {
             "fill": {
              "color": "#EBF0F8"
             },
             "line": {
              "color": "white"
             }
            },
            "header": {
             "fill": {
              "color": "#C8D4E3"
             },
             "line": {
              "color": "white"
             }
            },
            "type": "table"
           }
          ]
         },
         "layout": {
          "annotationdefaults": {
           "arrowcolor": "#2a3f5f",
           "arrowhead": 0,
           "arrowwidth": 1
          },
          "autotypenumbers": "strict",
          "coloraxis": {
           "colorbar": {
            "outlinewidth": 0,
            "ticks": ""
           }
          },
          "colorscale": {
           "diverging": [
            [
             0,
             "#8e0152"
            ],
            [
             0.1,
             "#c51b7d"
            ],
            [
             0.2,
             "#de77ae"
            ],
            [
             0.3,
             "#f1b6da"
            ],
            [
             0.4,
             "#fde0ef"
            ],
            [
             0.5,
             "#f7f7f7"
            ],
            [
             0.6,
             "#e6f5d0"
            ],
            [
             0.7,
             "#b8e186"
            ],
            [
             0.8,
             "#7fbc41"
            ],
            [
             0.9,
             "#4d9221"
            ],
            [
             1,
             "#276419"
            ]
           ],
           "sequential": [
            [
             0,
             "#0d0887"
            ],
            [
             0.1111111111111111,
             "#46039f"
            ],
            [
             0.2222222222222222,
             "#7201a8"
            ],
            [
             0.3333333333333333,
             "#9c179e"
            ],
            [
             0.4444444444444444,
             "#bd3786"
            ],
            [
             0.5555555555555556,
             "#d8576b"
            ],
            [
             0.6666666666666666,
             "#ed7953"
            ],
            [
             0.7777777777777778,
             "#fb9f3a"
            ],
            [
             0.8888888888888888,
             "#fdca26"
            ],
            [
             1,
             "#f0f921"
            ]
           ],
           "sequentialminus": [
            [
             0,
             "#0d0887"
            ],
            [
             0.1111111111111111,
             "#46039f"
            ],
            [
             0.2222222222222222,
             "#7201a8"
            ],
            [
             0.3333333333333333,
             "#9c179e"
            ],
            [
             0.4444444444444444,
             "#bd3786"
            ],
            [
             0.5555555555555556,
             "#d8576b"
            ],
            [
             0.6666666666666666,
             "#ed7953"
            ],
            [
             0.7777777777777778,
             "#fb9f3a"
            ],
            [
             0.8888888888888888,
             "#fdca26"
            ],
            [
             1,
             "#f0f921"
            ]
           ]
          },
          "colorway": [
           "#636efa",
           "#EF553B",
           "#00cc96",
           "#ab63fa",
           "#FFA15A",
           "#19d3f3",
           "#FF6692",
           "#B6E880",
           "#FF97FF",
           "#FECB52"
          ],
          "font": {
           "color": "#2a3f5f"
          },
          "geo": {
           "bgcolor": "white",
           "lakecolor": "white",
           "landcolor": "#E5ECF6",
           "showlakes": true,
           "showland": true,
           "subunitcolor": "white"
          },
          "hoverlabel": {
           "align": "left"
          },
          "hovermode": "closest",
          "mapbox": {
           "style": "light"
          },
          "paper_bgcolor": "white",
          "plot_bgcolor": "#E5ECF6",
          "polar": {
           "angularaxis": {
            "gridcolor": "white",
            "linecolor": "white",
            "ticks": ""
           },
           "bgcolor": "#E5ECF6",
           "radialaxis": {
            "gridcolor": "white",
            "linecolor": "white",
            "ticks": ""
           }
          },
          "scene": {
           "xaxis": {
            "backgroundcolor": "#E5ECF6",
            "gridcolor": "white",
            "gridwidth": 2,
            "linecolor": "white",
            "showbackground": true,
            "ticks": "",
            "zerolinecolor": "white"
           },
           "yaxis": {
            "backgroundcolor": "#E5ECF6",
            "gridcolor": "white",
            "gridwidth": 2,
            "linecolor": "white",
            "showbackground": true,
            "ticks": "",
            "zerolinecolor": "white"
           },
           "zaxis": {
            "backgroundcolor": "#E5ECF6",
            "gridcolor": "white",
            "gridwidth": 2,
            "linecolor": "white",
            "showbackground": true,
            "ticks": "",
            "zerolinecolor": "white"
           }
          },
          "shapedefaults": {
           "line": {
            "color": "#2a3f5f"
           }
          },
          "ternary": {
           "aaxis": {
            "gridcolor": "white",
            "linecolor": "white",
            "ticks": ""
           },
           "baxis": {
            "gridcolor": "white",
            "linecolor": "white",
            "ticks": ""
           },
           "bgcolor": "#E5ECF6",
           "caxis": {
            "gridcolor": "white",
            "linecolor": "white",
            "ticks": ""
           }
          },
          "title": {
           "x": 0.05
          },
          "xaxis": {
           "automargin": true,
           "gridcolor": "white",
           "linecolor": "white",
           "ticks": "",
           "title": {
            "standoff": 15
           },
           "zerolinecolor": "white",
           "zerolinewidth": 2
          },
          "yaxis": {
           "automargin": true,
           "gridcolor": "white",
           "linecolor": "white",
           "ticks": "",
           "title": {
            "standoff": 15
           },
           "zerolinecolor": "white",
           "zerolinewidth": 2
          }
         }
        },
        "title": {
         "text": "Optimization History Plot"
        },
        "xaxis": {
         "title": {
          "text": "Trial"
         }
        },
        "yaxis": {
         "title": {
          "text": "Objective Value"
         }
        }
       }
      }
     },
     "metadata": {},
     "output_type": "display_data"
    }
   ],
   "source": [
    "optuna.visualization.plot_optimization_history(study)"
   ]
  },
  {
   "cell_type": "code",
   "execution_count": 10,
   "id": "92103de1",
   "metadata": {},
   "outputs": [
    {
     "data": {
      "application/vnd.plotly.v1+json": {
       "config": {
        "plotlyServerURL": "https://plot.ly"
       },
       "data": [
        {
         "marker": {
          "maxdisplayed": 10
         },
         "mode": "lines+markers",
         "name": "Trial0",
         "type": "scatter",
         "x": [
          0,
          1,
          2,
          3,
          4,
          5,
          6,
          7,
          8,
          9,
          10,
          11,
          12,
          13,
          14,
          15,
          16,
          17,
          18,
          19,
          20,
          21,
          22,
          23,
          24,
          25,
          26,
          27,
          28,
          29,
          30,
          31,
          32,
          33,
          34,
          35,
          36,
          37,
          38,
          39,
          40,
          41,
          42,
          43,
          44,
          45,
          46,
          47,
          48,
          49
         ],
         "y": [
          62.01798201798202,
          63.70629370629371,
          63.84282384282384,
          63.976023976023974,
          64.015984015984,
          64.21911421911422,
          64.39845868417297,
          64.46053946053947,
          64.3933843933844,
          64.34165834165834,
          64.46825901371356,
          64.53213453213453,
          64.61384769077077,
          64.64678178963894,
          64.64868464868465,
          64.66658341658342,
          64.72938825880003,
          64.74192474192475,
          64.75945107524055,
          64.80119880119881,
          64.80757337900195,
          64.8051948051948,
          64.80302306389264,
          64.82850482850483,
          64.88711288711289,
          64.88588334742181,
          64.9047249047249,
          64.86870272584558,
          64.84687726067035,
          64.84382284382284,
          64.883503593181,
          64.86888111888112,
          64.90297581206671,
          64.91684785802433,
          64.92079349222206,
          64.94283494283495,
          64.97664497664498,
          64.97607655502392,
          64.98578344732191,
          64.98751248751249,
          65.02132014327137,
          65.0292564578279,
          64.9829240526915,
          64.9872854418309,
          64.982128982129,
          64.98327759197325,
          65.0009564903182,
          64.99583749583749,
          65.01009194886745,
          65.02217782217782
         ]
        }
       ],
       "layout": {
        "showlegend": false,
        "template": {
         "data": {
          "bar": [
           {
            "error_x": {
             "color": "#2a3f5f"
            },
            "error_y": {
             "color": "#2a3f5f"
            },
            "marker": {
             "line": {
              "color": "#E5ECF6",
              "width": 0.5
             },
             "pattern": {
              "fillmode": "overlay",
              "size": 10,
              "solidity": 0.2
             }
            },
            "type": "bar"
           }
          ],
          "barpolar": [
           {
            "marker": {
             "line": {
              "color": "#E5ECF6",
              "width": 0.5
             },
             "pattern": {
              "fillmode": "overlay",
              "size": 10,
              "solidity": 0.2
             }
            },
            "type": "barpolar"
           }
          ],
          "carpet": [
           {
            "aaxis": {
             "endlinecolor": "#2a3f5f",
             "gridcolor": "white",
             "linecolor": "white",
             "minorgridcolor": "white",
             "startlinecolor": "#2a3f5f"
            },
            "baxis": {
             "endlinecolor": "#2a3f5f",
             "gridcolor": "white",
             "linecolor": "white",
             "minorgridcolor": "white",
             "startlinecolor": "#2a3f5f"
            },
            "type": "carpet"
           }
          ],
          "choropleth": [
           {
            "colorbar": {
             "outlinewidth": 0,
             "ticks": ""
            },
            "type": "choropleth"
           }
          ],
          "contour": [
           {
            "colorbar": {
             "outlinewidth": 0,
             "ticks": ""
            },
            "colorscale": [
             [
              0,
              "#0d0887"
             ],
             [
              0.1111111111111111,
              "#46039f"
             ],
             [
              0.2222222222222222,
              "#7201a8"
             ],
             [
              0.3333333333333333,
              "#9c179e"
             ],
             [
              0.4444444444444444,
              "#bd3786"
             ],
             [
              0.5555555555555556,
              "#d8576b"
             ],
             [
              0.6666666666666666,
              "#ed7953"
             ],
             [
              0.7777777777777778,
              "#fb9f3a"
             ],
             [
              0.8888888888888888,
              "#fdca26"
             ],
             [
              1,
              "#f0f921"
             ]
            ],
            "type": "contour"
           }
          ],
          "contourcarpet": [
           {
            "colorbar": {
             "outlinewidth": 0,
             "ticks": ""
            },
            "type": "contourcarpet"
           }
          ],
          "heatmap": [
           {
            "colorbar": {
             "outlinewidth": 0,
             "ticks": ""
            },
            "colorscale": [
             [
              0,
              "#0d0887"
             ],
             [
              0.1111111111111111,
              "#46039f"
             ],
             [
              0.2222222222222222,
              "#7201a8"
             ],
             [
              0.3333333333333333,
              "#9c179e"
             ],
             [
              0.4444444444444444,
              "#bd3786"
             ],
             [
              0.5555555555555556,
              "#d8576b"
             ],
             [
              0.6666666666666666,
              "#ed7953"
             ],
             [
              0.7777777777777778,
              "#fb9f3a"
             ],
             [
              0.8888888888888888,
              "#fdca26"
             ],
             [
              1,
              "#f0f921"
             ]
            ],
            "type": "heatmap"
           }
          ],
          "heatmapgl": [
           {
            "colorbar": {
             "outlinewidth": 0,
             "ticks": ""
            },
            "colorscale": [
             [
              0,
              "#0d0887"
             ],
             [
              0.1111111111111111,
              "#46039f"
             ],
             [
              0.2222222222222222,
              "#7201a8"
             ],
             [
              0.3333333333333333,
              "#9c179e"
             ],
             [
              0.4444444444444444,
              "#bd3786"
             ],
             [
              0.5555555555555556,
              "#d8576b"
             ],
             [
              0.6666666666666666,
              "#ed7953"
             ],
             [
              0.7777777777777778,
              "#fb9f3a"
             ],
             [
              0.8888888888888888,
              "#fdca26"
             ],
             [
              1,
              "#f0f921"
             ]
            ],
            "type": "heatmapgl"
           }
          ],
          "histogram": [
           {
            "marker": {
             "pattern": {
              "fillmode": "overlay",
              "size": 10,
              "solidity": 0.2
             }
            },
            "type": "histogram"
           }
          ],
          "histogram2d": [
           {
            "colorbar": {
             "outlinewidth": 0,
             "ticks": ""
            },
            "colorscale": [
             [
              0,
              "#0d0887"
             ],
             [
              0.1111111111111111,
              "#46039f"
             ],
             [
              0.2222222222222222,
              "#7201a8"
             ],
             [
              0.3333333333333333,
              "#9c179e"
             ],
             [
              0.4444444444444444,
              "#bd3786"
             ],
             [
              0.5555555555555556,
              "#d8576b"
             ],
             [
              0.6666666666666666,
              "#ed7953"
             ],
             [
              0.7777777777777778,
              "#fb9f3a"
             ],
             [
              0.8888888888888888,
              "#fdca26"
             ],
             [
              1,
              "#f0f921"
             ]
            ],
            "type": "histogram2d"
           }
          ],
          "histogram2dcontour": [
           {
            "colorbar": {
             "outlinewidth": 0,
             "ticks": ""
            },
            "colorscale": [
             [
              0,
              "#0d0887"
             ],
             [
              0.1111111111111111,
              "#46039f"
             ],
             [
              0.2222222222222222,
              "#7201a8"
             ],
             [
              0.3333333333333333,
              "#9c179e"
             ],
             [
              0.4444444444444444,
              "#bd3786"
             ],
             [
              0.5555555555555556,
              "#d8576b"
             ],
             [
              0.6666666666666666,
              "#ed7953"
             ],
             [
              0.7777777777777778,
              "#fb9f3a"
             ],
             [
              0.8888888888888888,
              "#fdca26"
             ],
             [
              1,
              "#f0f921"
             ]
            ],
            "type": "histogram2dcontour"
           }
          ],
          "mesh3d": [
           {
            "colorbar": {
             "outlinewidth": 0,
             "ticks": ""
            },
            "type": "mesh3d"
           }
          ],
          "parcoords": [
           {
            "line": {
             "colorbar": {
              "outlinewidth": 0,
              "ticks": ""
             }
            },
            "type": "parcoords"
           }
          ],
          "pie": [
           {
            "automargin": true,
            "type": "pie"
           }
          ],
          "scatter": [
           {
            "fillpattern": {
             "fillmode": "overlay",
             "size": 10,
             "solidity": 0.2
            },
            "type": "scatter"
           }
          ],
          "scatter3d": [
           {
            "line": {
             "colorbar": {
              "outlinewidth": 0,
              "ticks": ""
             }
            },
            "marker": {
             "colorbar": {
              "outlinewidth": 0,
              "ticks": ""
             }
            },
            "type": "scatter3d"
           }
          ],
          "scattercarpet": [
           {
            "marker": {
             "colorbar": {
              "outlinewidth": 0,
              "ticks": ""
             }
            },
            "type": "scattercarpet"
           }
          ],
          "scattergeo": [
           {
            "marker": {
             "colorbar": {
              "outlinewidth": 0,
              "ticks": ""
             }
            },
            "type": "scattergeo"
           }
          ],
          "scattergl": [
           {
            "marker": {
             "colorbar": {
              "outlinewidth": 0,
              "ticks": ""
             }
            },
            "type": "scattergl"
           }
          ],
          "scattermapbox": [
           {
            "marker": {
             "colorbar": {
              "outlinewidth": 0,
              "ticks": ""
             }
            },
            "type": "scattermapbox"
           }
          ],
          "scatterpolar": [
           {
            "marker": {
             "colorbar": {
              "outlinewidth": 0,
              "ticks": ""
             }
            },
            "type": "scatterpolar"
           }
          ],
          "scatterpolargl": [
           {
            "marker": {
             "colorbar": {
              "outlinewidth": 0,
              "ticks": ""
             }
            },
            "type": "scatterpolargl"
           }
          ],
          "scatterternary": [
           {
            "marker": {
             "colorbar": {
              "outlinewidth": 0,
              "ticks": ""
             }
            },
            "type": "scatterternary"
           }
          ],
          "surface": [
           {
            "colorbar": {
             "outlinewidth": 0,
             "ticks": ""
            },
            "colorscale": [
             [
              0,
              "#0d0887"
             ],
             [
              0.1111111111111111,
              "#46039f"
             ],
             [
              0.2222222222222222,
              "#7201a8"
             ],
             [
              0.3333333333333333,
              "#9c179e"
             ],
             [
              0.4444444444444444,
              "#bd3786"
             ],
             [
              0.5555555555555556,
              "#d8576b"
             ],
             [
              0.6666666666666666,
              "#ed7953"
             ],
             [
              0.7777777777777778,
              "#fb9f3a"
             ],
             [
              0.8888888888888888,
              "#fdca26"
             ],
             [
              1,
              "#f0f921"
             ]
            ],
            "type": "surface"
           }
          ],
          "table": [
           {
            "cells": {
             "fill": {
              "color": "#EBF0F8"
             },
             "line": {
              "color": "white"
             }
            },
            "header": {
             "fill": {
              "color": "#C8D4E3"
             },
             "line": {
              "color": "white"
             }
            },
            "type": "table"
           }
          ]
         },
         "layout": {
          "annotationdefaults": {
           "arrowcolor": "#2a3f5f",
           "arrowhead": 0,
           "arrowwidth": 1
          },
          "autotypenumbers": "strict",
          "coloraxis": {
           "colorbar": {
            "outlinewidth": 0,
            "ticks": ""
           }
          },
          "colorscale": {
           "diverging": [
            [
             0,
             "#8e0152"
            ],
            [
             0.1,
             "#c51b7d"
            ],
            [
             0.2,
             "#de77ae"
            ],
            [
             0.3,
             "#f1b6da"
            ],
            [
             0.4,
             "#fde0ef"
            ],
            [
             0.5,
             "#f7f7f7"
            ],
            [
             0.6,
             "#e6f5d0"
            ],
            [
             0.7,
             "#b8e186"
            ],
            [
             0.8,
             "#7fbc41"
            ],
            [
             0.9,
             "#4d9221"
            ],
            [
             1,
             "#276419"
            ]
           ],
           "sequential": [
            [
             0,
             "#0d0887"
            ],
            [
             0.1111111111111111,
             "#46039f"
            ],
            [
             0.2222222222222222,
             "#7201a8"
            ],
            [
             0.3333333333333333,
             "#9c179e"
            ],
            [
             0.4444444444444444,
             "#bd3786"
            ],
            [
             0.5555555555555556,
             "#d8576b"
            ],
            [
             0.6666666666666666,
             "#ed7953"
            ],
            [
             0.7777777777777778,
             "#fb9f3a"
            ],
            [
             0.8888888888888888,
             "#fdca26"
            ],
            [
             1,
             "#f0f921"
            ]
           ],
           "sequentialminus": [
            [
             0,
             "#0d0887"
            ],
            [
             0.1111111111111111,
             "#46039f"
            ],
            [
             0.2222222222222222,
             "#7201a8"
            ],
            [
             0.3333333333333333,
             "#9c179e"
            ],
            [
             0.4444444444444444,
             "#bd3786"
            ],
            [
             0.5555555555555556,
             "#d8576b"
            ],
            [
             0.6666666666666666,
             "#ed7953"
            ],
            [
             0.7777777777777778,
             "#fb9f3a"
            ],
            [
             0.8888888888888888,
             "#fdca26"
            ],
            [
             1,
             "#f0f921"
            ]
           ]
          },
          "colorway": [
           "#636efa",
           "#EF553B",
           "#00cc96",
           "#ab63fa",
           "#FFA15A",
           "#19d3f3",
           "#FF6692",
           "#B6E880",
           "#FF97FF",
           "#FECB52"
          ],
          "font": {
           "color": "#2a3f5f"
          },
          "geo": {
           "bgcolor": "white",
           "lakecolor": "white",
           "landcolor": "#E5ECF6",
           "showlakes": true,
           "showland": true,
           "subunitcolor": "white"
          },
          "hoverlabel": {
           "align": "left"
          },
          "hovermode": "closest",
          "mapbox": {
           "style": "light"
          },
          "paper_bgcolor": "white",
          "plot_bgcolor": "#E5ECF6",
          "polar": {
           "angularaxis": {
            "gridcolor": "white",
            "linecolor": "white",
            "ticks": ""
           },
           "bgcolor": "#E5ECF6",
           "radialaxis": {
            "gridcolor": "white",
            "linecolor": "white",
            "ticks": ""
           }
          },
          "scene": {
           "xaxis": {
            "backgroundcolor": "#E5ECF6",
            "gridcolor": "white",
            "gridwidth": 2,
            "linecolor": "white",
            "showbackground": true,
            "ticks": "",
            "zerolinecolor": "white"
           },
           "yaxis": {
            "backgroundcolor": "#E5ECF6",
            "gridcolor": "white",
            "gridwidth": 2,
            "linecolor": "white",
            "showbackground": true,
            "ticks": "",
            "zerolinecolor": "white"
           },
           "zaxis": {
            "backgroundcolor": "#E5ECF6",
            "gridcolor": "white",
            "gridwidth": 2,
            "linecolor": "white",
            "showbackground": true,
            "ticks": "",
            "zerolinecolor": "white"
           }
          },
          "shapedefaults": {
           "line": {
            "color": "#2a3f5f"
           }
          },
          "ternary": {
           "aaxis": {
            "gridcolor": "white",
            "linecolor": "white",
            "ticks": ""
           },
           "baxis": {
            "gridcolor": "white",
            "linecolor": "white",
            "ticks": ""
           },
           "bgcolor": "#E5ECF6",
           "caxis": {
            "gridcolor": "white",
            "linecolor": "white",
            "ticks": ""
           }
          },
          "title": {
           "x": 0.05
          },
          "xaxis": {
           "automargin": true,
           "gridcolor": "white",
           "linecolor": "white",
           "ticks": "",
           "title": {
            "standoff": 15
           },
           "zerolinecolor": "white",
           "zerolinewidth": 2
          },
          "yaxis": {
           "automargin": true,
           "gridcolor": "white",
           "linecolor": "white",
           "ticks": "",
           "title": {
            "standoff": 15
           },
           "zerolinecolor": "white",
           "zerolinewidth": 2
          }
         }
        },
        "title": {
         "text": "Intermediate Values Plot"
        },
        "xaxis": {
         "title": {
          "text": "Step"
         }
        },
        "yaxis": {
         "title": {
          "text": "Intermediate Value"
         }
        }
       }
      }
     },
     "metadata": {},
     "output_type": "display_data"
    }
   ],
   "source": [
    "optuna.visualization.plot_intermediate_values(study)"
   ]
  },
  {
   "cell_type": "code",
   "execution_count": 11,
   "id": "325a1ec3",
   "metadata": {},
   "outputs": [],
   "source": [
    "# call function for best trial parameter extraction\n",
    "param_dict = extract_best_trial_params(study.best_params)"
   ]
  },
  {
   "cell_type": "code",
   "execution_count": 12,
   "id": "50e946e7",
   "metadata": {},
   "outputs": [
    {
     "name": "stdout",
     "output_type": "stream",
     "text": [
      "Adam\n",
      "Adam (\n",
      "Parameter Group 0\n",
      "    amsgrad: False\n",
      "    betas: (0.9, 0.999)\n",
      "    capturable: False\n",
      "    eps: 1e-08\n",
      "    foreach: None\n",
      "    lr: 0.05962543460585308\n",
      "    maximize: False\n",
      "    weight_decay: 0\n",
      ")\n",
      "Epoch 0: Validation loss decreased (inf --> 0.923151).  Saving model ...\n",
      "\t Train_Loss: 1.0227 Train_Acc: 49.307 Val_Loss: 0.9232  BEST VAL Loss: 0.9232  Val_Acc: 60.300\n",
      "\n",
      "Epoch 1: Validation loss decreased (0.923151 --> 0.907682).  Saving model ...\n",
      "\t Train_Loss: 0.9912 Train_Acc: 54.195 Val_Loss: 0.9077  BEST VAL Loss: 0.9077  Val_Acc: 60.360\n",
      "\n",
      "Epoch 2: Validation loss decreased (0.907682 --> 0.905623).  Saving model ...\n",
      "\t Train_Loss: 0.9757 Train_Acc: 55.556 Val_Loss: 0.9056  BEST VAL Loss: 0.9056  Val_Acc: 59.800\n",
      "\n",
      "Epoch 3: Validation loss decreased (0.905623 --> 0.899928).  Saving model ...\n",
      "\t Train_Loss: 0.9663 Train_Acc: 55.965 Val_Loss: 0.8999  BEST VAL Loss: 0.8999  Val_Acc: 62.298\n",
      "\n",
      "Epoch 4: Validation loss did not decrease\n",
      "\t Train_Loss: 0.9604 Train_Acc: 56.298 Val_Loss: 0.9056  BEST VAL Loss: 0.8999  Val_Acc: 57.962\n",
      "\n",
      "Epoch 5: Validation loss decreased (0.899928 --> 0.897379).  Saving model ...\n",
      "\t Train_Loss: 0.9550 Train_Acc: 56.215 Val_Loss: 0.8974  BEST VAL Loss: 0.8974  Val_Acc: 63.197\n",
      "\n",
      "Epoch 6: Validation loss decreased (0.897379 --> 0.896588).  Saving model ...\n",
      "\t Train_Loss: 0.9500 Train_Acc: 57.039 Val_Loss: 0.8966  BEST VAL Loss: 0.8966  Val_Acc: 60.020\n",
      "\n",
      "Epoch 7: Validation loss decreased (0.896588 --> 0.892261).  Saving model ...\n",
      "\t Train_Loss: 0.9462 Train_Acc: 56.707 Val_Loss: 0.8923  BEST VAL Loss: 0.8923  Val_Acc: 63.477\n",
      "\n",
      "Epoch 8: Validation loss decreased (0.892261 --> 0.888231).  Saving model ...\n",
      "\t Train_Loss: 0.9439 Train_Acc: 56.577 Val_Loss: 0.8882  BEST VAL Loss: 0.8882  Val_Acc: 61.778\n",
      "\n",
      "Epoch 9: Validation loss did not decrease\n",
      "\t Train_Loss: 0.9417 Train_Acc: 56.607 Val_Loss: 0.8943  BEST VAL Loss: 0.8882  Val_Acc: 56.883\n",
      "\n",
      "Epoch 10: Validation loss did not decrease\n",
      "\t Train_Loss: 0.9402 Train_Acc: 56.075 Val_Loss: 0.8916  BEST VAL Loss: 0.8882  Val_Acc: 63.057\n",
      "\n",
      "Epoch 11: Validation loss decreased (0.888231 --> 0.888184).  Saving model ...\n",
      "\t Train_Loss: 0.9396 Train_Acc: 55.940 Val_Loss: 0.8882  BEST VAL Loss: 0.8882  Val_Acc: 64.515\n",
      "\n",
      "Epoch 12: Validation loss decreased (0.888184 --> 0.885200).  Saving model ...\n",
      "\t Train_Loss: 0.9381 Train_Acc: 56.665 Val_Loss: 0.8852  BEST VAL Loss: 0.8852  Val_Acc: 63.776\n",
      "\n",
      "Epoch 13: Validation loss decreased (0.885200 --> 0.882869).  Saving model ...\n",
      "\t Train_Loss: 0.9364 Train_Acc: 56.627 Val_Loss: 0.8829  BEST VAL Loss: 0.8829  Val_Acc: 64.675\n",
      "\n",
      "Epoch 14: Validation loss decreased (0.882869 --> 0.881431).  Saving model ...\n",
      "\t Train_Loss: 0.9349 Train_Acc: 56.577 Val_Loss: 0.8814  BEST VAL Loss: 0.8814  Val_Acc: 61.598\n",
      "\n",
      "Epoch 15: Validation loss decreased (0.881431 --> 0.879875).  Saving model ...\n",
      "\t Train_Loss: 0.9333 Train_Acc: 57.134 Val_Loss: 0.8799  BEST VAL Loss: 0.8799  Val_Acc: 63.237\n",
      "\n",
      "Epoch 16: Validation loss decreased (0.879875 --> 0.879506).  Saving model ...\n",
      "\t Train_Loss: 0.9326 Train_Acc: 56.328 Val_Loss: 0.8795  BEST VAL Loss: 0.8795  Val_Acc: 61.199\n",
      "\n",
      "Epoch 17: Validation loss decreased (0.879506 --> 0.878043).  Saving model ...\n",
      "\t Train_Loss: 0.9316 Train_Acc: 56.622 Val_Loss: 0.8780  BEST VAL Loss: 0.8780  Val_Acc: 60.500\n",
      "\n",
      "Epoch 18: Validation loss decreased (0.878043 --> 0.876397).  Saving model ...\n",
      "\t Train_Loss: 0.9306 Train_Acc: 56.485 Val_Loss: 0.8764  BEST VAL Loss: 0.8764  Val_Acc: 63.197\n",
      "\n",
      "Epoch 19: Validation loss decreased (0.876397 --> 0.875872).  Saving model ...\n",
      "\t Train_Loss: 0.9293 Train_Acc: 57.002 Val_Loss: 0.8759  BEST VAL Loss: 0.8759  Val_Acc: 59.840\n",
      "\n",
      "Epoch 20: Validation loss decreased (0.875872 --> 0.875704).  Saving model ...\n",
      "\t Train_Loss: 0.9289 Train_Acc: 56.298 Val_Loss: 0.8757  BEST VAL Loss: 0.8757  Val_Acc: 59.620\n",
      "\n",
      "Epoch 21: Validation loss decreased (0.875704 --> 0.874813).  Saving model ...\n",
      "\t Train_Loss: 0.9282 Train_Acc: 56.358 Val_Loss: 0.8748  BEST VAL Loss: 0.8748  Val_Acc: 64.376\n",
      "\n",
      "Epoch 22: Validation loss did not decrease\n",
      "\t Train_Loss: 0.9276 Train_Acc: 56.243 Val_Loss: 0.8749  BEST VAL Loss: 0.8748  Val_Acc: 62.238\n",
      "\n",
      "Epoch 23: Validation loss decreased (0.874813 --> 0.873594).  Saving model ...\n",
      "\t Train_Loss: 0.9271 Train_Acc: 56.200 Val_Loss: 0.8736  BEST VAL Loss: 0.8736  Val_Acc: 62.218\n",
      "\n",
      "Epoch 24: Validation loss decreased (0.873594 --> 0.873162).  Saving model ...\n",
      "\t Train_Loss: 0.9263 Train_Acc: 56.912 Val_Loss: 0.8732  BEST VAL Loss: 0.8732  Val_Acc: 63.277\n",
      "\n",
      "Epoch 25: Validation loss decreased (0.873162 --> 0.872269).  Saving model ...\n",
      "\t Train_Loss: 0.9258 Train_Acc: 56.340 Val_Loss: 0.8723  BEST VAL Loss: 0.8723  Val_Acc: 64.196\n",
      "\n",
      "Epoch 26: Validation loss decreased (0.872269 --> 0.870791).  Saving model ...\n",
      "\t Train_Loss: 0.9252 Train_Acc: 56.527 Val_Loss: 0.8708  BEST VAL Loss: 0.8708  Val_Acc: 64.076\n",
      "\n",
      "Epoch 27: Validation loss decreased (0.870791 --> 0.869865).  Saving model ...\n",
      "\t Train_Loss: 0.9248 Train_Acc: 56.405 Val_Loss: 0.8699  BEST VAL Loss: 0.8699  Val_Acc: 63.077\n",
      "\n",
      "Epoch 28: Validation loss did not decrease\n",
      "\t Train_Loss: 0.9246 Train_Acc: 55.836 Val_Loss: 0.8699  BEST VAL Loss: 0.8699  Val_Acc: 60.939\n",
      "\n",
      "Epoch 29: Validation loss decreased (0.869865 --> 0.869378).  Saving model ...\n",
      "\t Train_Loss: 0.9241 Train_Acc: 56.343 Val_Loss: 0.8694  BEST VAL Loss: 0.8694  Val_Acc: 63.017\n",
      "\n",
      "Epoch 30: Validation loss decreased (0.869378 --> 0.868526).  Saving model ...\n",
      "\t Train_Loss: 0.9238 Train_Acc: 56.260 Val_Loss: 0.8685  BEST VAL Loss: 0.8685  Val_Acc: 61.239\n",
      "\n",
      "Epoch 31: Validation loss did not decrease\n",
      "\t Train_Loss: 0.9232 Train_Acc: 56.757 Val_Loss: 0.8686  BEST VAL Loss: 0.8685  Val_Acc: 57.123\n",
      "\n",
      "Epoch 32: Validation loss decreased (0.868526 --> 0.867865).  Saving model ...\n",
      "\t Train_Loss: 0.9227 Train_Acc: 56.785 Val_Loss: 0.8679  BEST VAL Loss: 0.8679  Val_Acc: 63.417\n",
      "\n",
      "Epoch 33: Validation loss decreased (0.867865 --> 0.866884).  Saving model ...\n",
      "\t Train_Loss: 0.9222 Train_Acc: 56.917 Val_Loss: 0.8669  BEST VAL Loss: 0.8669  Val_Acc: 62.218\n",
      "\n",
      "Epoch 34: Validation loss decreased (0.866884 --> 0.866707).  Saving model ...\n",
      "\t Train_Loss: 0.9216 Train_Acc: 57.007 Val_Loss: 0.8667  BEST VAL Loss: 0.8667  Val_Acc: 63.556\n",
      "\n",
      "Epoch 35: Validation loss did not decrease\n",
      "\t Train_Loss: 0.9211 Train_Acc: 56.902 Val_Loss: 0.8668  BEST VAL Loss: 0.8667  Val_Acc: 62.158\n",
      "\n",
      "Epoch 36: Validation loss decreased (0.866707 --> 0.866569).  Saving model ...\n",
      "\t Train_Loss: 0.9207 Train_Acc: 56.642 Val_Loss: 0.8666  BEST VAL Loss: 0.8666  Val_Acc: 62.777\n",
      "\n",
      "Epoch 37: Validation loss decreased (0.866569 --> 0.865720).  Saving model ...\n",
      "\t Train_Loss: 0.9204 Train_Acc: 56.395 Val_Loss: 0.8657  BEST VAL Loss: 0.8657  Val_Acc: 64.196\n",
      "\n",
      "Epoch 38: Validation loss decreased (0.865720 --> 0.864747).  Saving model ...\n",
      "\t Train_Loss: 0.9202 Train_Acc: 56.045 Val_Loss: 0.8647  BEST VAL Loss: 0.8647  Val_Acc: 62.098\n",
      "\n",
      "Epoch 39: Validation loss decreased (0.864747 --> 0.864242).  Saving model ...\n",
      "\t Train_Loss: 0.9197 Train_Acc: 56.837 Val_Loss: 0.8642  BEST VAL Loss: 0.8642  Val_Acc: 60.519\n",
      "\n",
      "Epoch 40: Validation loss decreased (0.864242 --> 0.863520).  Saving model ...\n",
      "\t Train_Loss: 0.9193 Train_Acc: 56.895 Val_Loss: 0.8635  BEST VAL Loss: 0.8635  Val_Acc: 63.536\n",
      "\n",
      "Epoch 41: Validation loss decreased (0.863520 --> 0.862838).  Saving model ...\n",
      "\t Train_Loss: 0.9189 Train_Acc: 56.470 Val_Loss: 0.8628  BEST VAL Loss: 0.8628  Val_Acc: 62.378\n",
      "\n",
      "Epoch 42: Validation loss decreased (0.862838 --> 0.862022).  Saving model ...\n",
      "\t Train_Loss: 0.9185 Train_Acc: 56.905 Val_Loss: 0.8620  BEST VAL Loss: 0.8620  Val_Acc: 64.216\n",
      "\n",
      "Epoch 43: Validation loss decreased (0.862022 --> 0.861365).  Saving model ...\n",
      "\t Train_Loss: 0.9180 Train_Acc: 57.012 Val_Loss: 0.8614  BEST VAL Loss: 0.8614  Val_Acc: 62.997\n",
      "\n",
      "Epoch 44: Validation loss decreased (0.861365 --> 0.860602).  Saving model ...\n",
      "\t Train_Loss: 0.9175 Train_Acc: 57.059 Val_Loss: 0.8606  BEST VAL Loss: 0.8606  Val_Acc: 63.497\n",
      "\n",
      "Epoch 45: Validation loss did not decrease\n",
      "\t Train_Loss: 0.9172 Train_Acc: 56.989 Val_Loss: 0.8611  BEST VAL Loss: 0.8606  Val_Acc: 60.699\n",
      "\n",
      "Epoch 46: Validation loss did not decrease\n",
      "\t Train_Loss: 0.9172 Train_Acc: 55.723 Val_Loss: 0.8609  BEST VAL Loss: 0.8606  Val_Acc: 60.799\n",
      "\n",
      "Epoch 47: Validation loss did not decrease\n",
      "\t Train_Loss: 0.9172 Train_Acc: 55.364 Val_Loss: 0.8608  BEST VAL Loss: 0.8606  Val_Acc: 62.717\n",
      "\n",
      "Epoch 48: Validation loss decreased (0.860602 --> 0.860548).  Saving model ...\n",
      "\t Train_Loss: 0.9171 Train_Acc: 55.583 Val_Loss: 0.8605  BEST VAL Loss: 0.8605  Val_Acc: 61.838\n",
      "\n",
      "Epoch 49: Validation loss did not decrease\n",
      "\t Train_Loss: 0.9171 Train_Acc: 55.731 Val_Loss: 0.8609  BEST VAL Loss: 0.8605  Val_Acc: 61.199\n",
      "\n",
      "Epoch 50: Validation loss decreased (0.860548 --> 0.860369).  Saving model ...\n",
      "\t Train_Loss: 0.9170 Train_Acc: 56.005 Val_Loss: 0.8604  BEST VAL Loss: 0.8604  Val_Acc: 62.318\n",
      "\n",
      "Epoch 51: Validation loss decreased (0.860369 --> 0.859806).  Saving model ...\n",
      "\t Train_Loss: 0.9168 Train_Acc: 56.567 Val_Loss: 0.8598  BEST VAL Loss: 0.8598  Val_Acc: 62.857\n",
      "\n",
      "Epoch 52: Validation loss did not decrease\n",
      "\t Train_Loss: 0.9164 Train_Acc: 56.520 Val_Loss: 0.8598  BEST VAL Loss: 0.8598  Val_Acc: 61.818\n",
      "\n",
      "Epoch 53: Validation loss decreased (0.859806 --> 0.859293).  Saving model ...\n",
      "\t Train_Loss: 0.9162 Train_Acc: 56.098 Val_Loss: 0.8593  BEST VAL Loss: 0.8593  Val_Acc: 63.217\n",
      "\n",
      "Epoch 54: Validation loss decreased (0.859293 --> 0.859210).  Saving model ...\n",
      "\t Train_Loss: 0.9160 Train_Acc: 56.375 Val_Loss: 0.8592  BEST VAL Loss: 0.8592  Val_Acc: 61.798\n",
      "\n",
      "Epoch 55: Validation loss decreased (0.859210 --> 0.858966).  Saving model ...\n",
      "\t Train_Loss: 0.9158 Train_Acc: 56.238 Val_Loss: 0.8590  BEST VAL Loss: 0.8590  Val_Acc: 62.158\n",
      "\n",
      "Epoch 56: Validation loss decreased (0.858966 --> 0.858258).  Saving model ...\n",
      "\t Train_Loss: 0.9153 Train_Acc: 57.287 Val_Loss: 0.8583  BEST VAL Loss: 0.8583  Val_Acc: 62.917\n",
      "\n",
      "Epoch 57: Validation loss did not decrease\n",
      "\t Train_Loss: 0.9152 Train_Acc: 56.905 Val_Loss: 0.8583  BEST VAL Loss: 0.8583  Val_Acc: 61.379\n",
      "\n",
      "Epoch 58: Validation loss did not decrease\n",
      "\t Train_Loss: 0.9152 Train_Acc: 55.096 Val_Loss: 0.8584  BEST VAL Loss: 0.8583  Val_Acc: 62.198\n",
      "\n",
      "Epoch 59: Validation loss decreased (0.858258 --> 0.858050).  Saving model ...\n",
      "\t Train_Loss: 0.9151 Train_Acc: 55.786 Val_Loss: 0.8581  BEST VAL Loss: 0.8581  Val_Acc: 62.458\n",
      "\n",
      "Epoch 60: Validation loss decreased (0.858050 --> 0.857633).  Saving model ...\n",
      "\t Train_Loss: 0.9149 Train_Acc: 56.053 Val_Loss: 0.8576  BEST VAL Loss: 0.8576  Val_Acc: 62.757\n",
      "\n",
      "Epoch 61: Validation loss decreased (0.857633 --> 0.857454).  Saving model ...\n",
      "\t Train_Loss: 0.9146 Train_Acc: 56.607 Val_Loss: 0.8575  BEST VAL Loss: 0.8575  Val_Acc: 63.197\n",
      "\n",
      "Epoch 62: Validation loss decreased (0.857454 --> 0.857117).  Saving model ...\n",
      "\t Train_Loss: 0.9143 Train_Acc: 56.345 Val_Loss: 0.8571  BEST VAL Loss: 0.8571  Val_Acc: 62.058\n",
      "\n",
      "Epoch 63: Validation loss decreased (0.857117 --> 0.856795).  Saving model ...\n",
      "\t Train_Loss: 0.9144 Train_Acc: 55.621 Val_Loss: 0.8568  BEST VAL Loss: 0.8568  Val_Acc: 61.499\n",
      "\n",
      "Epoch 64: Validation loss decreased (0.856795 --> 0.856218).  Saving model ...\n",
      "\t Train_Loss: 0.9145 Train_Acc: 54.687 Val_Loss: 0.8562  BEST VAL Loss: 0.8562  Val_Acc: 62.358\n",
      "\n",
      "Epoch 65: Validation loss decreased (0.856218 --> 0.855987).  Saving model ...\n",
      "\t Train_Loss: 0.9144 Train_Acc: 55.676 Val_Loss: 0.8560  BEST VAL Loss: 0.8560  Val_Acc: 62.338\n",
      "\n",
      "Epoch 66: Validation loss decreased (0.855987 --> 0.855624).  Saving model ...\n",
      "\t Train_Loss: 0.9143 Train_Acc: 55.144 Val_Loss: 0.8556  BEST VAL Loss: 0.8556  Val_Acc: 61.359\n",
      "\n",
      "Epoch 67: Validation loss decreased (0.855624 --> 0.855177).  Saving model ...\n",
      "\t Train_Loss: 0.9143 Train_Acc: 55.281 Val_Loss: 0.8552  BEST VAL Loss: 0.8552  Val_Acc: 62.697\n",
      "\n",
      "Epoch 68: Validation loss decreased (0.855177 --> 0.854750).  Saving model ...\n",
      "\t Train_Loss: 0.9142 Train_Acc: 55.668 Val_Loss: 0.8547  BEST VAL Loss: 0.8547  Val_Acc: 61.499\n",
      "\n",
      "Epoch 69: Validation loss decreased (0.854750 --> 0.854370).  Saving model ...\n",
      "\t Train_Loss: 0.9140 Train_Acc: 55.960 Val_Loss: 0.8544  BEST VAL Loss: 0.8544  Val_Acc: 63.157\n",
      "\n",
      "Epoch 70: Validation loss decreased (0.854370 --> 0.853991).  Saving model ...\n",
      "\t Train_Loss: 0.9140 Train_Acc: 54.949 Val_Loss: 0.8540  BEST VAL Loss: 0.8540  Val_Acc: 61.918\n",
      "\n",
      "Epoch 71: Validation loss did not decrease\n",
      "\t Train_Loss: 0.9140 Train_Acc: 54.991 Val_Loss: 0.8541  BEST VAL Loss: 0.8540  Val_Acc: 61.239\n",
      "\n",
      "Epoch 72: Validation loss decreased (0.853991 --> 0.853922).  Saving model ...\n",
      "\t Train_Loss: 0.9139 Train_Acc: 54.382 Val_Loss: 0.8539  BEST VAL Loss: 0.8539  Val_Acc: 62.238\n",
      "\n",
      "Epoch 73: Validation loss decreased (0.853922 --> 0.853478).  Saving model ...\n",
      "\t Train_Loss: 0.9140 Train_Acc: 54.320 Val_Loss: 0.8535  BEST VAL Loss: 0.8535  Val_Acc: 62.078\n",
      "\n",
      "Epoch 74: Validation loss decreased (0.853478 --> 0.853095).  Saving model ...\n",
      "\t Train_Loss: 0.9141 Train_Acc: 53.775 Val_Loss: 0.8531  BEST VAL Loss: 0.8531  Val_Acc: 62.198\n",
      "\n",
      "Epoch 75: Validation loss decreased (0.853095 --> 0.852859).  Saving model ...\n",
      "\t Train_Loss: 0.9141 Train_Acc: 54.227 Val_Loss: 0.8529  BEST VAL Loss: 0.8529  Val_Acc: 60.440\n",
      "\n",
      "Epoch 76: Validation loss decreased (0.852859 --> 0.852668).  Saving model ...\n",
      "\t Train_Loss: 0.9141 Train_Acc: 55.016 Val_Loss: 0.8527  BEST VAL Loss: 0.8527  Val_Acc: 62.238\n",
      "\n",
      "Epoch 77: Validation loss decreased (0.852668 --> 0.852636).  Saving model ...\n",
      "\t Train_Loss: 0.9140 Train_Acc: 55.101 Val_Loss: 0.8526  BEST VAL Loss: 0.8526  Val_Acc: 59.560\n",
      "\n",
      "Epoch 78: Validation loss did not decrease\n",
      "\t Train_Loss: 0.9139 Train_Acc: 54.624 Val_Loss: 0.8527  BEST VAL Loss: 0.8526  Val_Acc: 60.559\n",
      "\n",
      "Epoch 79: Validation loss decreased (0.852636 --> 0.852315).  Saving model ...\n",
      "\t Train_Loss: 0.9139 Train_Acc: 54.242 Val_Loss: 0.8523  BEST VAL Loss: 0.8523  Val_Acc: 61.878\n",
      "\n",
      "Epoch 80: Validation loss decreased (0.852315 --> 0.852294).  Saving model ...\n",
      "\t Train_Loss: 0.9139 Train_Acc: 54.042 Val_Loss: 0.8523  BEST VAL Loss: 0.8523  Val_Acc: 59.421\n",
      "\n",
      "Epoch 81: Validation loss decreased (0.852294 --> 0.851957).  Saving model ...\n",
      "\t Train_Loss: 0.9138 Train_Acc: 54.734 Val_Loss: 0.8520  BEST VAL Loss: 0.8520  Val_Acc: 62.318\n",
      "\n",
      "Epoch 82: Validation loss decreased (0.851957 --> 0.851774).  Saving model ...\n",
      "\t Train_Loss: 0.9138 Train_Acc: 54.687 Val_Loss: 0.8518  BEST VAL Loss: 0.8518  Val_Acc: 61.379\n",
      "\n",
      "Epoch 83: Validation loss did not decrease\n",
      "\t Train_Loss: 0.9138 Train_Acc: 54.295 Val_Loss: 0.8520  BEST VAL Loss: 0.8518  Val_Acc: 61.079\n",
      "\n",
      "Epoch 84: Validation loss did not decrease\n",
      "\t Train_Loss: 0.9138 Train_Acc: 54.345 Val_Loss: 0.8520  BEST VAL Loss: 0.8518  Val_Acc: 61.638\n",
      "\n",
      "Epoch 85: Validation loss decreased (0.851774 --> 0.851620).  Saving model ...\n",
      "\t Train_Loss: 0.9136 Train_Acc: 55.204 Val_Loss: 0.8516  BEST VAL Loss: 0.8516  Val_Acc: 62.398\n",
      "\n",
      "Epoch 86: Validation loss decreased (0.851620 --> 0.851304).  Saving model ...\n",
      "\t Train_Loss: 0.9135 Train_Acc: 55.159 Val_Loss: 0.8513  BEST VAL Loss: 0.8513  Val_Acc: 62.438\n",
      "\n",
      "Epoch 87: Validation loss did not decrease\n",
      "\t Train_Loss: 0.9134 Train_Acc: 55.109 Val_Loss: 0.8515  BEST VAL Loss: 0.8513  Val_Acc: 61.499\n",
      "\n",
      "Epoch 88: Validation loss did not decrease\n",
      "\t Train_Loss: 0.9133 Train_Acc: 54.527 Val_Loss: 0.8514  BEST VAL Loss: 0.8513  Val_Acc: 61.778\n",
      "\n",
      "Epoch 89: Validation loss decreased (0.851304 --> 0.851214).  Saving model ...\n",
      "\t Train_Loss: 0.9132 Train_Acc: 54.677 Val_Loss: 0.8512  BEST VAL Loss: 0.8512  Val_Acc: 60.979\n",
      "\n",
      "Epoch 90: Validation loss decreased (0.851214 --> 0.851202).  Saving model ...\n",
      "\t Train_Loss: 0.9131 Train_Acc: 53.965 Val_Loss: 0.8512  BEST VAL Loss: 0.8512  Val_Acc: 60.480\n",
      "\n",
      "Epoch 91: Validation loss decreased (0.851202 --> 0.851154).  Saving model ...\n",
      "\t Train_Loss: 0.9132 Train_Acc: 52.766 Val_Loss: 0.8512  BEST VAL Loss: 0.8512  Val_Acc: 59.500\n",
      "\n",
      "Epoch 92: Validation loss did not decrease\n",
      "\t Train_Loss: 0.9132 Train_Acc: 54.280 Val_Loss: 0.8512  BEST VAL Loss: 0.8512  Val_Acc: 58.941\n",
      "\n",
      "Epoch 93: Validation loss did not decrease\n",
      "\t Train_Loss: 0.9133 Train_Acc: 53.355 Val_Loss: 0.8515  BEST VAL Loss: 0.8512  Val_Acc: 59.780\n",
      "\n",
      "Epoch 94: Validation loss did not decrease\n",
      "\t Train_Loss: 0.9134 Train_Acc: 52.866 Val_Loss: 0.8516  BEST VAL Loss: 0.8512  Val_Acc: 54.406\n",
      "\n",
      "Epoch 95: Validation loss did not decrease\n",
      "\t Train_Loss: 0.9134 Train_Acc: 53.603 Val_Loss: 0.8518  BEST VAL Loss: 0.8512  Val_Acc: 58.601\n",
      "\n",
      "Epoch 96: Validation loss did not decrease\n",
      "\t Train_Loss: 0.9134 Train_Acc: 54.177 Val_Loss: 0.8518  BEST VAL Loss: 0.8512  Val_Acc: 59.321\n",
      "\n",
      "Epoch 97: Validation loss did not decrease\n",
      "\t Train_Loss: 0.9133 Train_Acc: 54.200 Val_Loss: 0.8518  BEST VAL Loss: 0.8512  Val_Acc: 60.260\n",
      "\n",
      "Epoch 98: Validation loss did not decrease\n",
      "\t Train_Loss: 0.9132 Train_Acc: 54.909 Val_Loss: 0.8519  BEST VAL Loss: 0.8512  Val_Acc: 61.059\n",
      "\n",
      "Epoch 99: Validation loss did not decrease\n",
      "\t Train_Loss: 0.9130 Train_Acc: 55.026 Val_Loss: 0.8518  BEST VAL Loss: 0.8512  Val_Acc: 62.038\n",
      "\n",
      "Epoch 100: Validation loss did not decrease\n",
      "\t Train_Loss: 0.9129 Train_Acc: 55.246 Val_Loss: 0.8517  BEST VAL Loss: 0.8512  Val_Acc: 60.939\n",
      "\n",
      "Epoch 101: Validation loss did not decrease\n",
      "\t Train_Loss: 0.9127 Train_Acc: 54.889 Val_Loss: 0.8516  BEST VAL Loss: 0.8512  Val_Acc: 61.319\n",
      "\n",
      "Epoch 102: Validation loss did not decrease\n",
      "\t Train_Loss: 0.9130 Train_Acc: 51.974 Val_Loss: 0.8519  BEST VAL Loss: 0.8512  Val_Acc: 51.688\n",
      "\n",
      "Epoch 103: Validation loss did not decrease\n",
      "\t Train_Loss: 0.9131 Train_Acc: 52.366 Val_Loss: 0.8521  BEST VAL Loss: 0.8512  Val_Acc: 53.247\n",
      "\n",
      "Epoch 104: Validation loss did not decrease\n",
      "\t Train_Loss: 0.9131 Train_Acc: 53.603 Val_Loss: 0.8522  BEST VAL Loss: 0.8512  Val_Acc: 54.346\n",
      "\n",
      "Epoch 105: Validation loss did not decrease\n",
      "\t Train_Loss: 0.9131 Train_Acc: 53.643 Val_Loss: 0.8522  BEST VAL Loss: 0.8512  Val_Acc: 60.659\n",
      "\n",
      "Epoch 106: Validation loss did not decrease\n",
      "\t Train_Loss: 0.9130 Train_Acc: 54.115 Val_Loss: 0.8521  BEST VAL Loss: 0.8512  Val_Acc: 61.299\n",
      "\n",
      "Epoch 107: Validation loss did not decrease\n",
      "Early stopped at epoch : 107\n"
     ]
    }
   ],
   "source": [
    "# call the optimized training model\n",
    "train_loss, train_acc, valid_loss, valid_acc, epochs_ran, model = train_optimized_model(\n",
    "    params.TRAIN_EPOCHS,\n",
    "    train_loader,\n",
    "    valid_loader,\n",
    "    IN_FEATURES,\n",
    "    OUT_FEATURES,\n",
    "    param_dict,\n",
    "    params,\n",
    ")\n",
    "# create a DataFrame of each stat\n",
    "training_stats = pd.DataFrame(\n",
    "    zip(train_loss, train_acc, valid_loss, valid_acc, epochs_ran),\n",
    "    columns=[\"train_loss\", \"train_acc\", \"valid_loss\", \"valid_acc\", \"epochs_ran\"],\n",
    ")"
   ]
  },
  {
   "cell_type": "code",
   "execution_count": 13,
   "id": "1340d8aa",
   "metadata": {},
   "outputs": [
    {
     "name": "stderr",
     "output_type": "stream",
     "text": [
      "/home/lippincm/Documents/ML/Interstellar_Analysis/2.MLP_Multi_Classifier/MLP_utils/utils.py:788: UserWarning:\n",
      "\n",
      "Ignoring `palette` because no `hue` variable has been assigned.\n",
      "\n",
      "/home/lippincm/Documents/ML/Interstellar_Analysis/2.MLP_Multi_Classifier/MLP_utils/utils.py:789: UserWarning:\n",
      "\n",
      "Ignoring `palette` because no `hue` variable has been assigned.\n",
      "\n"
     ]
    },
    {
     "data": {
      "image/png": "[encoded data removed]",
      "text/plain": [
       "<Figure size 640x480 with 1 Axes>"
      ]
     },
     "metadata": {},
     "output_type": "display_data"
    }
   ],
   "source": [
    "plot_metric_vs_epoch(\n",
    "    training_stats,\n",
    "    x=\"epochs_ran\",\n",
    "    y1=\"train_acc\",\n",
    "    y2=\"valid_acc\",\n",
    "    title=\"Accuracy vs. Epochs\",\n",
    "    x_axis_label=\"Epochs\",\n",
    "    y_axis_label=\"Accuracy\",\n",
    ")"
   ]
  },
  {
   "cell_type": "code",
   "execution_count": 14,
   "id": "41991221",
   "metadata": {},
   "outputs": [
    {
     "name": "stderr",
     "output_type": "stream",
     "text": [
      "/home/lippincm/Documents/ML/Interstellar_Analysis/2.MLP_Multi_Classifier/MLP_utils/utils.py:788: UserWarning:\n",
      "\n",
      "Ignoring `palette` because no `hue` variable has been assigned.\n",
      "\n",
      "/home/lippincm/Documents/ML/Interstellar_Analysis/2.MLP_Multi_Classifier/MLP_utils/utils.py:789: UserWarning:\n",
      "\n",
      "Ignoring `palette` because no `hue` variable has been assigned.\n",
      "\n"
     ]
    },
    {
     "data": {
      "image/png": "[encoded data removed]",
      "text/plain": [
       "<Figure size 640x480 with 1 Axes>"
      ]
     },
     "metadata": {},
     "output_type": "display_data"
    }
   ],
   "source": [
    "plot_metric_vs_epoch(\n",
    "    training_stats,\n",
    "    x=\"epochs_ran\",\n",
    "    y1=\"train_loss\",\n",
    "    y2=\"valid_loss\",\n",
    "    title=\"Loss vs. Epochs\",\n",
    "    x_axis_label=\"Epochs\",\n",
    "    y_axis_label=\"Loss\",\n",
    ")"
   ]
  },
  {
   "cell_type": "code",
   "execution_count": 15,
   "id": "3e2c848c",
   "metadata": {},
   "outputs": [],
   "source": [
    "# calling the testing function and outputing list values of tested model\n",
    "y_pred_list = test_optimized_model(\n",
    "    model, test_loader, IN_FEATURES, OUT_FEATURES, param_dict, params\n",
    ")\n",
    "# un-nest list if nested i.e. length of input data does not match length of output data\n",
    "if len(y_pred_list) != len(Y_test):\n",
    "    y_pred_list = un_nest(y_pred_list)\n",
    "    y_pred_prob_list = un_nest(y_pred_prob_list)\n",
    "else:\n",
    "    pass"
   ]
  },
  {
   "cell_type": "code",
   "execution_count": 16,
   "id": "3c53f7e4",
   "metadata": {},
   "outputs": [
    {
     "name": "stdout",
     "output_type": "stream",
     "text": [
      "              precision    recall  f1-score   support\n",
      "\n",
      "           0       0.45      0.81      0.57      1346\n",
      "           1       0.60      0.38      0.46      1768\n",
      "           2       0.81      0.62      0.70      1891\n",
      "\n",
      "    accuracy                           0.58      5005\n",
      "   macro avg       0.62      0.60      0.58      5005\n",
      "weighted avg       0.64      0.58      0.58      5005\n",
      "\n",
      "Precision for class 0: 0.44571896763621466\n",
      "Recall for class 0: 0.8083209509658247\n",
      "Precision for class 1: 0.5966162065894924\n",
      "Recall for class 1: 0.37895927601809953\n",
      "Precision for class 2: 0.8105482303955587\n",
      "Recall for class 2: 0.6176626123744051\n"
     ]
    },
    {
     "data": {
      "image/png": "[encoded data removed]",
      "text/plain": [
       "<Figure size 640x480 with 2 Axes>"
      ]
     },
     "metadata": {},
     "output_type": "display_data"
    },
    {
     "data": {
      "image/png": "[encoded data removed]",
      "text/plain": [
       "<Figure size 640x480 with 1 Axes>"
      ]
     },
     "metadata": {},
     "output_type": "display_data"
    }
   ],
   "source": [
    "# Call visualization function\n",
    "results_output(y_pred_list, Y_test, OUT_FEATURES)"
   ]
  },
  {
   "cell_type": "code",
   "execution_count": null,
   "id": "04345ac0",
   "metadata": {},
   "outputs": [],
   "source": []
  }
 ],
 "metadata": {
  "jupytext": {
   "cell_metadata_filter": "-all",
   "encoding": "# coding: utf-8",
   "executable": "/usr/bin/env python",
   "formats": "ipynb,py",
   "main_language": "python"
  },
  "kernelspec": {
   "display_name": "Python 3 (ipykernel)",
   "language": "python",
   "name": "python3"
  },
  "language_info": {
   "codemirror_mode": {
    "name": "ipython",
    "version": 3
   },
   "file_extension": ".py",
   "mimetype": "text/x-python",
   "name": "python",
   "nbconvert_exporter": "python",
   "pygments_lexer": "ipython3",
   "version": "3.10.10"
  },
  "vscode": {
   "interpreter": {
    "hash": "72ae02083a9ca7d143c492d1aec380c7bf553ec51bd66e90e72bba65228121b6"
   }
  }
 },
 "nbformat": 4,
 "nbformat_minor": 5
}
