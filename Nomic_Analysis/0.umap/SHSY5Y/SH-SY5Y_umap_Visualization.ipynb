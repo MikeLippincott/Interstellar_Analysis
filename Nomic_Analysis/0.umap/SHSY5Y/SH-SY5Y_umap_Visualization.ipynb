{
 "cells": [
  {
   "cell_type": "code",
   "execution_count": 1,
   "metadata": {},
   "outputs": [],
   "source": [
    "import pathlib\n",
    "\n",
    "import matplotlib.pyplot as plt\n",
    "import numpy as np\n",
    "import pandas as pd\n",
    "import plotly.graph_objs as go\n",
    "import plotly_express as px\n",
    "import seaborn as sns"
   ]
  },
  {
   "cell_type": "code",
   "execution_count": 2,
   "metadata": {},
   "outputs": [],
   "source": [
    "def umap_graph(df: pd.DataFrame, color: str, save_name: pathlib.Path, title: str):\n",
    "    \"\"\"plot umap graph\n",
    "\n",
    "    Parameters\n",
    "    ----------\n",
    "    df : pd.DataFrame\n",
    "        pandas dataframe with umap coordinates\n",
    "    color : str\n",
    "        column to color points by\n",
    "    save_name : pathlib.Path\n",
    "        name of file to be saved\n",
    "    title : str\n",
    "        title of plot\n",
    "    \"\"\"\n",
    "\n",
    "    # plot UMAP\n",
    "    fig_2d = px.scatter(\n",
    "        df,\n",
    "        x=\"umap_1\",\n",
    "        y=\"umap_2\",\n",
    "        color=color,\n",
    "        labels={\"color\": \"Cell Type\"},\n",
    "        title=f\"{title}\",\n",
    "    ).update_layout(xaxis_title=\"UMAP_1\", yaxis_title=\"UMAP_2\")\n",
    "\n",
    "    fig_2d.update_traces(marker={\"size\": 12})\n",
    "    fig_2d.show()\n",
    "\n",
    "    # save UMAP\n",
    "    # fig_2d.write_html(f\"{save_name}.html\")\n",
    "    fig_2d.write_image(f\"{save_name}.png\")"
   ]
  },
  {
   "cell_type": "code",
   "execution_count": 3,
   "metadata": {},
   "outputs": [],
   "source": [
    "# import nELISA umap data\n",
    "nELISA_plate_430420_path = pathlib.Path(\n",
    "    \"./results/nELISA_plate_430420_umap_SH-SY5Y.csv\"\n",
    ")\n",
    "\n",
    "nELISA_plate_430420 = pd.read_csv(nELISA_plate_430420_path)"
   ]
  },
  {
   "cell_type": "code",
   "execution_count": 4,
   "metadata": {},
   "outputs": [
    {
     "data": {
      "application/vnd.plotly.v1+json": {
       "config": {
        "plotlyServerURL": "https://plot.ly"
       },
       "data": [
        {
         "hovertemplate": "cell_type=SH-SY5Y<br>umap_1=%{x}<br>umap_2=%{y}<extra></extra>",
         "legendgroup": "SH-SY5Y",
         "marker": {
          "color": "#636efa",
          "size": 12,
          "symbol": "circle"
         },
         "mode": "markers",
         "name": "SH-SY5Y",
         "orientation": "v",
         "showlegend": true,
         "type": "scatter",
         "x": [
          -0.8755083,
          1.5838473,
          1.0786864,
          -0.78794926,
          5.1319456,
          1.0562513,
          4.4814754,
          0.08978081,
          -0.85659796,
          5.3472223,
          -0.56476396,
          1.7782717,
          5.8573446,
          5.4184422,
          4.7761836,
          2.1831462,
          3.6735873,
          3.7675874,
          2.5135894,
          5.7879667,
          -0.30763254,
          0.13812338,
          2.7438068,
          -0.7146663,
          2.77185,
          5.51405,
          -2.263829,
          3.6216087,
          0.46250457,
          1.0159168,
          2.5721278,
          2.017739,
          -1.6205006,
          3.4757261,
          3.3003976,
          2.759796,
          3.8057098,
          4.5600123,
          1.0926384,
          6.35705,
          2.5894647,
          3.98992,
          -0.20132582,
          -0.111835025,
          2.8012028,
          3.8883772,
          -1.5635864,
          0.096096486,
          -0.062347487,
          -0.72429395,
          -1.1959302,
          1.7450166,
          0.39395136,
          -0.13855955,
          2.163698,
          3.1174016,
          0.6942509,
          -0.0034257357,
          1.7916985,
          1.554746,
          1.8952091,
          0.43702486,
          -1.2815189,
          0.82547367,
          -1.908886,
          2.8066797,
          -1.335882,
          -1.3755981,
          3.306102,
          0.06579472,
          -2.0993752,
          4.038719,
          -1.0240033,
          5.262348,
          0.24769938,
          1.5518482,
          2.33868,
          3.04885,
          1.9244809,
          0.70065,
          0.8717699,
          1.2521867,
          4.4268875,
          1.8586261,
          2.1290054,
          1.2956772,
          0.6042867,
          1.840358,
          1.8015786,
          2.2277389,
          -0.40609017,
          4.4027667,
          3.484418,
          1.0134791,
          -0.5007507,
          1.6587365,
          4.824284,
          5.5842085,
          6.2321153,
          4.3421497,
          -0.06715707,
          3.4154425,
          2.1869645,
          0.60935277,
          0.95214844,
          3.8028088,
          -1.4173982,
          1.7919037,
          1.4726647,
          1.5219876,
          4.944673,
          0.99162424,
          3.1962097,
          -0.7754246,
          -1.4185185,
          1.5260901,
          3.4651597,
          1.3919349,
          1.6784534,
          -0.86554074,
          0.014157203,
          -0.29921147,
          0.8955691,
          -1.7783887,
          0.15666766,
          1.1295868,
          1.0003396,
          4.2776604,
          2.7102191,
          1.7271571,
          4.5013294,
          -0.9509096,
          4.795643,
          2.041314,
          2.90896,
          2.2849002,
          0.7924433,
          0.53153694,
          -0.78907835,
          0.7618294,
          2.3465796,
          0.19613889,
          4.901178,
          0.034825135,
          2.5110965,
          2.6940186,
          5.2089562,
          3.1067216
         ],
         "xaxis": "x",
         "y": [
          -4.1885633,
          -2.499391,
          -3.1033926,
          -4.534813,
          3.0045607,
          -5.245238,
          -3.2154033,
          -4.0766397,
          1.1121509,
          -2.1845114,
          -5.235062,
          -2.2485714,
          -0.4960135,
          1.3351856,
          3.158692,
          -1.1814513,
          -1.6844152,
          0.69756657,
          -4.326105,
          -1.3481507,
          -3.5372932,
          -2.9093044,
          -2.6058297,
          -2.6608713,
          -1.8741945,
          -1.9311751,
          -4.1420074,
          -0.19181824,
          -0.0035098777,
          -1.9692736,
          1.002692,
          0.6858446,
          -4.621443,
          -2.7089777,
          -0.5895061,
          2.8824668,
          3.0150144,
          -1.9816705,
          -0.45651326,
          0.088830896,
          -3.9878926,
          1.6995785,
          0.07365309,
          -0.7406483,
          -1.6206529,
          -3.5680456,
          -0.44336987,
          0.99032015,
          -1.9978427,
          -2.6549594,
          -2.4351385,
          3.2586997,
          -1.122043,
          -4.844752,
          1.9382529,
          -0.46387872,
          -3.838279,
          -5.741167,
          0.9994211,
          -1.5075758,
          -3.2061868,
          -1.0819412,
          -4.0814033,
          0.49949732,
          -0.9939553,
          -3.0524502,
          -1.5605315,
          -2.8894062,
          -0.8790393,
          -3.1558402,
          -1.0988141,
          -0.02745574,
          -3.2855794,
          -0.64698064,
          1.7140702,
          1.4085345,
          -5.193192,
          0.2213751,
          -4.237294,
          -4.8241005,
          -1.1920989,
          -5.8472867,
          2.6464136,
          -2.4039338,
          0.0010334076,
          -0.07899789,
          -0.47947875,
          0.48707315,
          -5.3593554,
          -3.2106664,
          0.4820288,
          -2.8904371,
          -1.0566962,
          -4.092858,
          1.680379,
          1.8170186,
          0.8023376,
          0.8115232,
          -0.6602986,
          -0.5574173,
          2.3687627,
          -4.2170997,
          -3.8866527,
          -3.2989886,
          2.4151082,
          -2.8685038,
          0.045974623,
          2.563652,
          -2.406135,
          -3.9686995,
          -1.1645284,
          -0.94816345,
          0.45415738,
          -5.460584,
          -3.4174383,
          -2.8948302,
          -2.259443,
          -3.6712573,
          -5.5609674,
          -1.4523237,
          -4.102752,
          -6.0543923,
          -3.373828,
          -3.7084346,
          -5.0847716,
          -4.4502864,
          0.59380955,
          1.3658203,
          -0.9208084,
          -1.0371133,
          -0.75372505,
          -0.88099104,
          -1.6148884,
          -1.5324372,
          0.7054848,
          -0.47865927,
          -1.4014714,
          -1.9429599,
          -0.7694029,
          2.0206733,
          -2.1107337,
          -2.0816624,
          0.28612754,
          -3.6267388,
          -0.7501291,
          -2.0406394,
          1.9864867,
          -3.3888292
         ],
         "yaxis": "y"
        }
       ],
       "layout": {
        "legend": {
         "title": {
          "text": "cell_type"
         },
         "tracegroupgap": 0
        },
        "template": {
         "data": {
          "bar": [
           {
            "error_x": {
             "color": "#2a3f5f"
            },
            "error_y": {
             "color": "#2a3f5f"
            },
            "marker": {
             "line": {
              "color": "#E5ECF6",
              "width": 0.5
             },
             "pattern": {
              "fillmode": "overlay",
              "size": 10,
              "solidity": 0.2
             }
            },
            "type": "bar"
           }
          ],
          "barpolar": [
           {
            "marker": {
             "line": {
              "color": "#E5ECF6",
              "width": 0.5
             },
             "pattern": {
              "fillmode": "overlay",
              "size": 10,
              "solidity": 0.2
             }
            },
            "type": "barpolar"
           }
          ],
          "carpet": [
           {
            "aaxis": {
             "endlinecolor": "#2a3f5f",
             "gridcolor": "white",
             "linecolor": "white",
             "minorgridcolor": "white",
             "startlinecolor": "#2a3f5f"
            },
            "baxis": {
             "endlinecolor": "#2a3f5f",
             "gridcolor": "white",
             "linecolor": "white",
             "minorgridcolor": "white",
             "startlinecolor": "#2a3f5f"
            },
            "type": "carpet"
           }
          ],
          "choropleth": [
           {
            "colorbar": {
             "outlinewidth": 0,
             "ticks": ""
            },
            "type": "choropleth"
           }
          ],
          "contour": [
           {
            "colorbar": {
             "outlinewidth": 0,
             "ticks": ""
            },
            "colorscale": [
             [
              0,
              "#0d0887"
             ],
             [
              0.1111111111111111,
              "#46039f"
             ],
             [
              0.2222222222222222,
              "#7201a8"
             ],
             [
              0.3333333333333333,
              "#9c179e"
             ],
             [
              0.4444444444444444,
              "#bd3786"
             ],
             [
              0.5555555555555556,
              "#d8576b"
             ],
             [
              0.6666666666666666,
              "#ed7953"
             ],
             [
              0.7777777777777778,
              "#fb9f3a"
             ],
             [
              0.8888888888888888,
              "#fdca26"
             ],
             [
              1,
              "#f0f921"
             ]
            ],
            "type": "contour"
           }
          ],
          "contourcarpet": [
           {
            "colorbar": {
             "outlinewidth": 0,
             "ticks": ""
            },
            "type": "contourcarpet"
           }
          ],
          "heatmap": [
           {
            "colorbar": {
             "outlinewidth": 0,
             "ticks": ""
            },
            "colorscale": [
             [
              0,
              "#0d0887"
             ],
             [
              0.1111111111111111,
              "#46039f"
             ],
             [
              0.2222222222222222,
              "#7201a8"
             ],
             [
              0.3333333333333333,
              "#9c179e"
             ],
             [
              0.4444444444444444,
              "#bd3786"
             ],
             [
              0.5555555555555556,
              "#d8576b"
             ],
             [
              0.6666666666666666,
              "#ed7953"
             ],
             [
              0.7777777777777778,
              "#fb9f3a"
             ],
             [
              0.8888888888888888,
              "#fdca26"
             ],
             [
              1,
              "#f0f921"
             ]
            ],
            "type": "heatmap"
           }
          ],
          "heatmapgl": [
           {
            "colorbar": {
             "outlinewidth": 0,
             "ticks": ""
            },
            "colorscale": [
             [
              0,
              "#0d0887"
             ],
             [
              0.1111111111111111,
              "#46039f"
             ],
             [
              0.2222222222222222,
              "#7201a8"
             ],
             [
              0.3333333333333333,
              "#9c179e"
             ],
             [
              0.4444444444444444,
              "#bd3786"
             ],
             [
              0.5555555555555556,
              "#d8576b"
             ],
             [
              0.6666666666666666,
              "#ed7953"
             ],
             [
              0.7777777777777778,
              "#fb9f3a"
             ],
             [
              0.8888888888888888,
              "#fdca26"
             ],
             [
              1,
              "#f0f921"
             ]
            ],
            "type": "heatmapgl"
           }
          ],
          "histogram": [
           {
            "marker": {
             "pattern": {
              "fillmode": "overlay",
              "size": 10,
              "solidity": 0.2
             }
            },
            "type": "histogram"
           }
          ],
          "histogram2d": [
           {
            "colorbar": {
             "outlinewidth": 0,
             "ticks": ""
            },
            "colorscale": [
             [
              0,
              "#0d0887"
             ],
             [
              0.1111111111111111,
              "#46039f"
             ],
             [
              0.2222222222222222,
              "#7201a8"
             ],
             [
              0.3333333333333333,
              "#9c179e"
             ],
             [
              0.4444444444444444,
              "#bd3786"
             ],
             [
              0.5555555555555556,
              "#d8576b"
             ],
             [
              0.6666666666666666,
              "#ed7953"
             ],
             [
              0.7777777777777778,
              "#fb9f3a"
             ],
             [
              0.8888888888888888,
              "#fdca26"
             ],
             [
              1,
              "#f0f921"
             ]
            ],
            "type": "histogram2d"
           }
          ],
          "histogram2dcontour": [
           {
            "colorbar": {
             "outlinewidth": 0,
             "ticks": ""
            },
            "colorscale": [
             [
              0,
              "#0d0887"
             ],
             [
              0.1111111111111111,
              "#46039f"
             ],
             [
              0.2222222222222222,
              "#7201a8"
             ],
             [
              0.3333333333333333,
              "#9c179e"
             ],
             [
              0.4444444444444444,
              "#bd3786"
             ],
             [
              0.5555555555555556,
              "#d8576b"
             ],
             [
              0.6666666666666666,
              "#ed7953"
             ],
             [
              0.7777777777777778,
              "#fb9f3a"
             ],
             [
              0.8888888888888888,
              "#fdca26"
             ],
             [
              1,
              "#f0f921"
             ]
            ],
            "type": "histogram2dcontour"
           }
          ],
          "mesh3d": [
           {
            "colorbar": {
             "outlinewidth": 0,
             "ticks": ""
            },
            "type": "mesh3d"
           }
          ],
          "parcoords": [
           {
            "line": {
             "colorbar": {
              "outlinewidth": 0,
              "ticks": ""
             }
            },
            "type": "parcoords"
           }
          ],
          "pie": [
           {
            "automargin": true,
            "type": "pie"
           }
          ],
          "scatter": [
           {
            "fillpattern": {
             "fillmode": "overlay",
             "size": 10,
             "solidity": 0.2
            },
            "type": "scatter"
           }
          ],
          "scatter3d": [
           {
            "line": {
             "colorbar": {
              "outlinewidth": 0,
              "ticks": ""
             }
            },
            "marker": {
             "colorbar": {
              "outlinewidth": 0,
              "ticks": ""
             }
            },
            "type": "scatter3d"
           }
          ],
          "scattercarpet": [
           {
            "marker": {
             "colorbar": {
              "outlinewidth": 0,
              "ticks": ""
             }
            },
            "type": "scattercarpet"
           }
          ],
          "scattergeo": [
           {
            "marker": {
             "colorbar": {
              "outlinewidth": 0,
              "ticks": ""
             }
            },
            "type": "scattergeo"
           }
          ],
          "scattergl": [
           {
            "marker": {
             "colorbar": {
              "outlinewidth": 0,
              "ticks": ""
             }
            },
            "type": "scattergl"
           }
          ],
          "scattermapbox": [
           {
            "marker": {
             "colorbar": {
              "outlinewidth": 0,
              "ticks": ""
             }
            },
            "type": "scattermapbox"
           }
          ],
          "scatterpolar": [
           {
            "marker": {
             "colorbar": {
              "outlinewidth": 0,
              "ticks": ""
             }
            },
            "type": "scatterpolar"
           }
          ],
          "scatterpolargl": [
           {
            "marker": {
             "colorbar": {
              "outlinewidth": 0,
              "ticks": ""
             }
            },
            "type": "scatterpolargl"
           }
          ],
          "scatterternary": [
           {
            "marker": {
             "colorbar": {
              "outlinewidth": 0,
              "ticks": ""
             }
            },
            "type": "scatterternary"
           }
          ],
          "surface": [
           {
            "colorbar": {
             "outlinewidth": 0,
             "ticks": ""
            },
            "colorscale": [
             [
              0,
              "#0d0887"
             ],
             [
              0.1111111111111111,
              "#46039f"
             ],
             [
              0.2222222222222222,
              "#7201a8"
             ],
             [
              0.3333333333333333,
              "#9c179e"
             ],
             [
              0.4444444444444444,
              "#bd3786"
             ],
             [
              0.5555555555555556,
              "#d8576b"
             ],
             [
              0.6666666666666666,
              "#ed7953"
             ],
             [
              0.7777777777777778,
              "#fb9f3a"
             ],
             [
              0.8888888888888888,
              "#fdca26"
             ],
             [
              1,
              "#f0f921"
             ]
            ],
            "type": "surface"
           }
          ],
          "table": [
           {
            "cells": {
             "fill": {
              "color": "#EBF0F8"
             },
             "line": {
              "color": "white"
             }
            },
            "header": {
             "fill": {
              "color": "#C8D4E3"
             },
             "line": {
              "color": "white"
             }
            },
            "type": "table"
           }
          ]
         },
         "layout": {
          "annotationdefaults": {
           "arrowcolor": "#2a3f5f",
           "arrowhead": 0,
           "arrowwidth": 1
          },
          "autotypenumbers": "strict",
          "coloraxis": {
           "colorbar": {
            "outlinewidth": 0,
            "ticks": ""
           }
          },
          "colorscale": {
           "diverging": [
            [
             0,
             "#8e0152"
            ],
            [
             0.1,
             "#c51b7d"
            ],
            [
             0.2,
             "#de77ae"
            ],
            [
             0.3,
             "#f1b6da"
            ],
            [
             0.4,
             "#fde0ef"
            ],
            [
             0.5,
             "#f7f7f7"
            ],
            [
             0.6,
             "#e6f5d0"
            ],
            [
             0.7,
             "#b8e186"
            ],
            [
             0.8,
             "#7fbc41"
            ],
            [
             0.9,
             "#4d9221"
            ],
            [
             1,
             "#276419"
            ]
           ],
           "sequential": [
            [
             0,
             "#0d0887"
            ],
            [
             0.1111111111111111,
             "#46039f"
            ],
            [
             0.2222222222222222,
             "#7201a8"
            ],
            [
             0.3333333333333333,
             "#9c179e"
            ],
            [
             0.4444444444444444,
             "#bd3786"
            ],
            [
             0.5555555555555556,
             "#d8576b"
            ],
            [
             0.6666666666666666,
             "#ed7953"
            ],
            [
             0.7777777777777778,
             "#fb9f3a"
            ],
            [
             0.8888888888888888,
             "#fdca26"
            ],
            [
             1,
             "#f0f921"
            ]
           ],
           "sequentialminus": [
            [
             0,
             "#0d0887"
            ],
            [
             0.1111111111111111,
             "#46039f"
            ],
            [
             0.2222222222222222,
             "#7201a8"
            ],
            [
             0.3333333333333333,
             "#9c179e"
            ],
            [
             0.4444444444444444,
             "#bd3786"
            ],
            [
             0.5555555555555556,
             "#d8576b"
            ],
            [
             0.6666666666666666,
             "#ed7953"
            ],
            [
             0.7777777777777778,
             "#fb9f3a"
            ],
            [
             0.8888888888888888,
             "#fdca26"
            ],
            [
             1,
             "#f0f921"
            ]
           ]
          },
          "colorway": [
           "#636efa",
           "#EF553B",
           "#00cc96",
           "#ab63fa",
           "#FFA15A",
           "#19d3f3",
           "#FF6692",
           "#B6E880",
           "#FF97FF",
           "#FECB52"
          ],
          "font": {
           "color": "#2a3f5f"
          },
          "geo": {
           "bgcolor": "white",
           "lakecolor": "white",
           "landcolor": "#E5ECF6",
           "showlakes": true,
           "showland": true,
           "subunitcolor": "white"
          },
          "hoverlabel": {
           "align": "left"
          },
          "hovermode": "closest",
          "mapbox": {
           "style": "light"
          },
          "paper_bgcolor": "white",
          "plot_bgcolor": "#E5ECF6",
          "polar": {
           "angularaxis": {
            "gridcolor": "white",
            "linecolor": "white",
            "ticks": ""
           },
           "bgcolor": "#E5ECF6",
           "radialaxis": {
            "gridcolor": "white",
            "linecolor": "white",
            "ticks": ""
           }
          },
          "scene": {
           "xaxis": {
            "backgroundcolor": "#E5ECF6",
            "gridcolor": "white",
            "gridwidth": 2,
            "linecolor": "white",
            "showbackground": true,
            "ticks": "",
            "zerolinecolor": "white"
           },
           "yaxis": {
            "backgroundcolor": "#E5ECF6",
            "gridcolor": "white",
            "gridwidth": 2,
            "linecolor": "white",
            "showbackground": true,
            "ticks": "",
            "zerolinecolor": "white"
           },
           "zaxis": {
            "backgroundcolor": "#E5ECF6",
            "gridcolor": "white",
            "gridwidth": 2,
            "linecolor": "white",
            "showbackground": true,
            "ticks": "",
            "zerolinecolor": "white"
           }
          },
          "shapedefaults": {
           "line": {
            "color": "#2a3f5f"
           }
          },
          "ternary": {
           "aaxis": {
            "gridcolor": "white",
            "linecolor": "white",
            "ticks": ""
           },
           "baxis": {
            "gridcolor": "white",
            "linecolor": "white",
            "ticks": ""
           },
           "bgcolor": "#E5ECF6",
           "caxis": {
            "gridcolor": "white",
            "linecolor": "white",
            "ticks": ""
           }
          },
          "title": {
           "x": 0.05
          },
          "xaxis": {
           "automargin": true,
           "gridcolor": "white",
           "linecolor": "white",
           "ticks": "",
           "title": {
            "standoff": 15
           },
           "zerolinecolor": "white",
           "zerolinewidth": 2
          },
          "yaxis": {
           "automargin": true,
           "gridcolor": "white",
           "linecolor": "white",
           "ticks": "",
           "title": {
            "standoff": 15
           },
           "zerolinecolor": "white",
           "zerolinewidth": 2
          }
         }
        },
        "title": {
         "text": "Umap projection of nELISA data colored by cell type"
        },
        "xaxis": {
         "anchor": "y",
         "domain": [
          0,
          1
         ],
         "title": {
          "text": "UMAP_1"
         }
        },
        "yaxis": {
         "anchor": "x",
         "domain": [
          0,
          1
         ],
         "title": {
          "text": "UMAP_2"
         }
        }
       }
      }
     },
     "metadata": {},
     "output_type": "display_data"
    },
    {
     "data": {
      "application/vnd.plotly.v1+json": {
       "config": {
        "plotlyServerURL": "https://plot.ly"
       },
       "data": [
        {
         "hovertemplate": "inducer1=DMSO<br>umap_1=%{x}<br>umap_2=%{y}<extra></extra>",
         "legendgroup": "DMSO",
         "marker": {
          "color": "#636efa",
          "size": 12,
          "symbol": "circle"
         },
         "mode": "markers",
         "name": "DMSO",
         "orientation": "v",
         "showlegend": true,
         "type": "scatter",
         "x": [
          -0.8755083,
          1.5838473,
          1.0786864,
          -0.78794926,
          5.1319456,
          1.0562513,
          4.4814754,
          0.08978081,
          -0.85659796,
          5.3472223,
          -0.56476396,
          1.7782717,
          5.8573446,
          5.4184422,
          4.7761836,
          2.1831462,
          3.6735873,
          3.7675874,
          2.5135894,
          5.7879667
         ],
         "xaxis": "x",
         "y": [
          -4.1885633,
          -2.499391,
          -3.1033926,
          -4.534813,
          3.0045607,
          -5.245238,
          -3.2154033,
          -4.0766397,
          1.1121509,
          -2.1845114,
          -5.235062,
          -2.2485714,
          -0.4960135,
          1.3351856,
          3.158692,
          -1.1814513,
          -1.6844152,
          0.69756657,
          -4.326105,
          -1.3481507
         ],
         "yaxis": "y"
        },
        {
         "hovertemplate": "inducer1=LPS<br>umap_1=%{x}<br>umap_2=%{y}<extra></extra>",
         "legendgroup": "LPS",
         "marker": {
          "color": "#EF553B",
          "size": 12,
          "symbol": "circle"
         },
         "mode": "markers",
         "name": "LPS",
         "orientation": "v",
         "showlegend": true,
         "type": "scatter",
         "x": [
          -0.30763254,
          0.13812338,
          2.7438068,
          -0.7146663,
          2.77185,
          5.51405,
          -2.263829,
          3.6216087,
          3.8057098,
          4.5600123,
          1.0926384,
          6.35705,
          2.5894647,
          3.98992,
          -0.20132582,
          -0.111835025,
          2.8012028,
          3.8883772,
          -1.5635864,
          0.096096486,
          -0.062347487,
          -0.72429395,
          -1.1959302,
          1.7450166,
          0.39395136,
          -0.13855955,
          2.163698,
          3.1174016,
          0.6942509,
          -0.0034257357,
          1.7916985,
          1.554746,
          0.8717699,
          1.2521867,
          4.4268875,
          1.8586261,
          2.1290054,
          1.2956772,
          0.6042867,
          1.840358,
          1.8015786,
          2.2277389,
          -0.40609017,
          4.4027667,
          3.484418,
          1.0134791,
          -0.5007507,
          1.6587365,
          4.824284,
          5.5842085,
          6.2321153,
          4.3421497,
          3.1962097,
          -0.7754246,
          -1.4185185,
          1.5260901,
          3.4651597,
          1.3919349,
          1.6784534,
          -0.86554074,
          0.014157203,
          -0.29921147,
          0.8955691,
          -1.7783887,
          0.15666766,
          1.1295868,
          1.0003396,
          4.2776604
         ],
         "xaxis": "x",
         "y": [
          -3.5372932,
          -2.9093044,
          -2.6058297,
          -2.6608713,
          -1.8741945,
          -1.9311751,
          -4.1420074,
          -0.19181824,
          3.0150144,
          -1.9816705,
          -0.45651326,
          0.088830896,
          -3.9878926,
          1.6995785,
          0.07365309,
          -0.7406483,
          -1.6206529,
          -3.5680456,
          -0.44336987,
          0.99032015,
          -1.9978427,
          -2.6549594,
          -2.4351385,
          3.2586997,
          -1.122043,
          -4.844752,
          1.9382529,
          -0.46387872,
          -3.838279,
          -5.741167,
          0.9994211,
          -1.5075758,
          -1.1920989,
          -5.8472867,
          2.6464136,
          -2.4039338,
          0.0010334076,
          -0.07899789,
          -0.47947875,
          0.48707315,
          -5.3593554,
          -3.2106664,
          0.4820288,
          -2.8904371,
          -1.0566962,
          -4.092858,
          1.680379,
          1.8170186,
          0.8023376,
          0.8115232,
          -0.6602986,
          -0.5574173,
          0.45415738,
          -5.460584,
          -3.4174383,
          -2.8948302,
          -2.259443,
          -3.6712573,
          -5.5609674,
          -1.4523237,
          -4.102752,
          -6.0543923,
          -3.373828,
          -3.7084346,
          -5.0847716,
          -4.4502864,
          0.59380955,
          1.3658203
         ],
         "yaxis": "y"
        },
        {
         "hovertemplate": "inducer1=Flagellin<br>umap_1=%{x}<br>umap_2=%{y}<extra></extra>",
         "legendgroup": "Flagellin",
         "marker": {
          "color": "#00cc96",
          "size": 12,
          "symbol": "circle"
         },
         "mode": "markers",
         "name": "Flagellin",
         "orientation": "v",
         "showlegend": true,
         "type": "scatter",
         "x": [
          0.46250457,
          1.0159168,
          2.5721278,
          2.017739,
          1.8952091,
          0.43702486,
          -1.2815189,
          0.82547367,
          -1.908886,
          2.8066797,
          -1.335882,
          -1.3755981
         ],
         "xaxis": "x",
         "y": [
          -0.0035098777,
          -1.9692736,
          1.002692,
          0.6858446,
          -3.2061868,
          -1.0819412,
          -4.0814033,
          0.49949732,
          -0.9939553,
          -3.0524502,
          -1.5605315,
          -2.8894062
         ],
         "yaxis": "y"
        },
        {
         "hovertemplate": "inducer1=Disulfiram<br>umap_1=%{x}<br>umap_2=%{y}<extra></extra>",
         "legendgroup": "Disulfiram",
         "marker": {
          "color": "#ab63fa",
          "size": 12,
          "symbol": "circle"
         },
         "mode": "markers",
         "name": "Disulfiram",
         "orientation": "v",
         "showlegend": true,
         "type": "scatter",
         "x": [
          -1.6205006,
          3.4757261,
          3.3003976,
          2.759796,
          -1.0240033,
          5.262348,
          0.24769938,
          1.5518482,
          0.7924433,
          0.53153694,
          -0.78907835,
          0.7618294
         ],
         "xaxis": "x",
         "y": [
          -4.621443,
          -2.7089777,
          -0.5895061,
          2.8824668,
          -3.2855794,
          -0.64698064,
          1.7140702,
          1.4085345,
          -1.4014714,
          -1.9429599,
          -0.7694029,
          2.0206733
         ],
         "yaxis": "y"
        },
        {
         "hovertemplate": "inducer1=Thapsigargin<br>umap_1=%{x}<br>umap_2=%{y}<extra></extra>",
         "legendgroup": "Thapsigargin",
         "marker": {
          "color": "#FFA15A",
          "size": 12,
          "symbol": "circle"
         },
         "mode": "markers",
         "name": "Thapsigargin",
         "orientation": "v",
         "showlegend": true,
         "type": "scatter",
         "x": [
          3.306102,
          0.06579472,
          -2.0993752,
          4.038719,
          -0.06715707,
          3.4154425,
          2.1869645,
          0.60935277
         ],
         "xaxis": "x",
         "y": [
          -0.8790393,
          -3.1558402,
          -1.0988141,
          -0.02745574,
          2.3687627,
          -4.2170997,
          -3.8866527,
          -3.2989886
         ],
         "yaxis": "y"
        },
        {
         "hovertemplate": "inducer1=Topotecan<br>umap_1=%{x}<br>umap_2=%{y}<extra></extra>",
         "legendgroup": "Topotecan",
         "marker": {
          "color": "#19d3f3",
          "size": 12,
          "symbol": "circle"
         },
         "mode": "markers",
         "name": "Topotecan",
         "orientation": "v",
         "showlegend": true,
         "type": "scatter",
         "x": [
          2.33868,
          3.04885,
          1.9244809,
          0.70065,
          2.3465796,
          0.19613889,
          4.901178,
          0.034825135,
          2.5110965,
          2.6940186,
          5.2089562,
          3.1067216
         ],
         "xaxis": "x",
         "y": [
          -5.193192,
          0.2213751,
          -4.237294,
          -4.8241005,
          -2.1107337,
          -2.0816624,
          0.28612754,
          -3.6267388,
          -0.7501291,
          -2.0406394,
          1.9864867,
          -3.3888292
         ],
         "yaxis": "y"
        },
        {
         "hovertemplate": "inducer1=H2O2<br>umap_1=%{x}<br>umap_2=%{y}<extra></extra>",
         "legendgroup": "H2O2",
         "marker": {
          "color": "#FF6692",
          "size": 12,
          "symbol": "circle"
         },
         "mode": "markers",
         "name": "H2O2",
         "orientation": "v",
         "showlegend": true,
         "type": "scatter",
         "x": [
          0.95214844,
          3.8028088,
          -1.4173982,
          1.7919037,
          1.4726647,
          1.5219876,
          4.944673,
          0.99162424,
          2.7102191,
          1.7271571,
          4.5013294,
          -0.9509096,
          4.795643,
          2.041314,
          2.90896,
          2.2849002
         ],
         "xaxis": "x",
         "y": [
          2.4151082,
          -2.8685038,
          0.045974623,
          2.563652,
          -2.406135,
          -3.9686995,
          -1.1645284,
          -0.94816345,
          -0.9208084,
          -1.0371133,
          -0.75372505,
          -0.88099104,
          -1.6148884,
          -1.5324372,
          0.7054848,
          -0.47865927
         ],
         "yaxis": "y"
        }
       ],
       "layout": {
        "legend": {
         "title": {
          "text": "inducer1"
         },
         "tracegroupgap": 0
        },
        "template": {
         "data": {
          "bar": [
           {
            "error_x": {
             "color": "#2a3f5f"
            },
            "error_y": {
             "color": "#2a3f5f"
            },
            "marker": {
             "line": {
              "color": "#E5ECF6",
              "width": 0.5
             },
             "pattern": {
              "fillmode": "overlay",
              "size": 10,
              "solidity": 0.2
             }
            },
            "type": "bar"
           }
          ],
          "barpolar": [
           {
            "marker": {
             "line": {
              "color": "#E5ECF6",
              "width": 0.5
             },
             "pattern": {
              "fillmode": "overlay",
              "size": 10,
              "solidity": 0.2
             }
            },
            "type": "barpolar"
           }
          ],
          "carpet": [
           {
            "aaxis": {
             "endlinecolor": "#2a3f5f",
             "gridcolor": "white",
             "linecolor": "white",
             "minorgridcolor": "white",
             "startlinecolor": "#2a3f5f"
            },
            "baxis": {
             "endlinecolor": "#2a3f5f",
             "gridcolor": "white",
             "linecolor": "white",
             "minorgridcolor": "white",
             "startlinecolor": "#2a3f5f"
            },
            "type": "carpet"
           }
          ],
          "choropleth": [
           {
            "colorbar": {
             "outlinewidth": 0,
             "ticks": ""
            },
            "type": "choropleth"
           }
          ],
          "contour": [
           {
            "colorbar": {
             "outlinewidth": 0,
             "ticks": ""
            },
            "colorscale": [
             [
              0,
              "#0d0887"
             ],
             [
              0.1111111111111111,
              "#46039f"
             ],
             [
              0.2222222222222222,
              "#7201a8"
             ],
             [
              0.3333333333333333,
              "#9c179e"
             ],
             [
              0.4444444444444444,
              "#bd3786"
             ],
             [
              0.5555555555555556,
              "#d8576b"
             ],
             [
              0.6666666666666666,
              "#ed7953"
             ],
             [
              0.7777777777777778,
              "#fb9f3a"
             ],
             [
              0.8888888888888888,
              "#fdca26"
             ],
             [
              1,
              "#f0f921"
             ]
            ],
            "type": "contour"
           }
          ],
          "contourcarpet": [
           {
            "colorbar": {
             "outlinewidth": 0,
             "ticks": ""
            },
            "type": "contourcarpet"
           }
          ],
          "heatmap": [
           {
            "colorbar": {
             "outlinewidth": 0,
             "ticks": ""
            },
            "colorscale": [
             [
              0,
              "#0d0887"
             ],
             [
              0.1111111111111111,
              "#46039f"
             ],
             [
              0.2222222222222222,
              "#7201a8"
             ],
             [
              0.3333333333333333,
              "#9c179e"
             ],
             [
              0.4444444444444444,
              "#bd3786"
             ],
             [
              0.5555555555555556,
              "#d8576b"
             ],
             [
              0.6666666666666666,
              "#ed7953"
             ],
             [
              0.7777777777777778,
              "#fb9f3a"
             ],
             [
              0.8888888888888888,
              "#fdca26"
             ],
             [
              1,
              "#f0f921"
             ]
            ],
            "type": "heatmap"
           }
          ],
          "heatmapgl": [
           {
            "colorbar": {
             "outlinewidth": 0,
             "ticks": ""
            },
            "colorscale": [
             [
              0,
              "#0d0887"
             ],
             [
              0.1111111111111111,
              "#46039f"
             ],
             [
              0.2222222222222222,
              "#7201a8"
             ],
             [
              0.3333333333333333,
              "#9c179e"
             ],
             [
              0.4444444444444444,
              "#bd3786"
             ],
             [
              0.5555555555555556,
              "#d8576b"
             ],
             [
              0.6666666666666666,
              "#ed7953"
             ],
             [
              0.7777777777777778,
              "#fb9f3a"
             ],
             [
              0.8888888888888888,
              "#fdca26"
             ],
             [
              1,
              "#f0f921"
             ]
            ],
            "type": "heatmapgl"
           }
          ],
          "histogram": [
           {
            "marker": {
             "pattern": {
              "fillmode": "overlay",
              "size": 10,
              "solidity": 0.2
             }
            },
            "type": "histogram"
           }
          ],
          "histogram2d": [
           {
            "colorbar": {
             "outlinewidth": 0,
             "ticks": ""
            },
            "colorscale": [
             [
              0,
              "#0d0887"
             ],
             [
              0.1111111111111111,
              "#46039f"
             ],
             [
              0.2222222222222222,
              "#7201a8"
             ],
             [
              0.3333333333333333,
              "#9c179e"
             ],
             [
              0.4444444444444444,
              "#bd3786"
             ],
             [
              0.5555555555555556,
              "#d8576b"
             ],
             [
              0.6666666666666666,
              "#ed7953"
             ],
             [
              0.7777777777777778,
              "#fb9f3a"
             ],
             [
              0.8888888888888888,
              "#fdca26"
             ],
             [
              1,
              "#f0f921"
             ]
            ],
            "type": "histogram2d"
           }
          ],
          "histogram2dcontour": [
           {
            "colorbar": {
             "outlinewidth": 0,
             "ticks": ""
            },
            "colorscale": [
             [
              0,
              "#0d0887"
             ],
             [
              0.1111111111111111,
              "#46039f"
             ],
             [
              0.2222222222222222,
              "#7201a8"
             ],
             [
              0.3333333333333333,
              "#9c179e"
             ],
             [
              0.4444444444444444,
              "#bd3786"
             ],
             [
              0.5555555555555556,
              "#d8576b"
             ],
             [
              0.6666666666666666,
              "#ed7953"
             ],
             [
              0.7777777777777778,
              "#fb9f3a"
             ],
             [
              0.8888888888888888,
              "#fdca26"
             ],
             [
              1,
              "#f0f921"
             ]
            ],
            "type": "histogram2dcontour"
           }
          ],
          "mesh3d": [
           {
            "colorbar": {
             "outlinewidth": 0,
             "ticks": ""
            },
            "type": "mesh3d"
           }
          ],
          "parcoords": [
           {
            "line": {
             "colorbar": {
              "outlinewidth": 0,
              "ticks": ""
             }
            },
            "type": "parcoords"
           }
          ],
          "pie": [
           {
            "automargin": true,
            "type": "pie"
           }
          ],
          "scatter": [
           {
            "fillpattern": {
             "fillmode": "overlay",
             "size": 10,
             "solidity": 0.2
            },
            "type": "scatter"
           }
          ],
          "scatter3d": [
           {
            "line": {
             "colorbar": {
              "outlinewidth": 0,
              "ticks": ""
             }
            },
            "marker": {
             "colorbar": {
              "outlinewidth": 0,
              "ticks": ""
             }
            },
            "type": "scatter3d"
           }
          ],
          "scattercarpet": [
           {
            "marker": {
             "colorbar": {
              "outlinewidth": 0,
              "ticks": ""
             }
            },
            "type": "scattercarpet"
           }
          ],
          "scattergeo": [
           {
            "marker": {
             "colorbar": {
              "outlinewidth": 0,
              "ticks": ""
             }
            },
            "type": "scattergeo"
           }
          ],
          "scattergl": [
           {
            "marker": {
             "colorbar": {
              "outlinewidth": 0,
              "ticks": ""
             }
            },
            "type": "scattergl"
           }
          ],
          "scattermapbox": [
           {
            "marker": {
             "colorbar": {
              "outlinewidth": 0,
              "ticks": ""
             }
            },
            "type": "scattermapbox"
           }
          ],
          "scatterpolar": [
           {
            "marker": {
             "colorbar": {
              "outlinewidth": 0,
              "ticks": ""
             }
            },
            "type": "scatterpolar"
           }
          ],
          "scatterpolargl": [
           {
            "marker": {
             "colorbar": {
              "outlinewidth": 0,
              "ticks": ""
             }
            },
            "type": "scatterpolargl"
           }
          ],
          "scatterternary": [
           {
            "marker": {
             "colorbar": {
              "outlinewidth": 0,
              "ticks": ""
             }
            },
            "type": "scatterternary"
           }
          ],
          "surface": [
           {
            "colorbar": {
             "outlinewidth": 0,
             "ticks": ""
            },
            "colorscale": [
             [
              0,
              "#0d0887"
             ],
             [
              0.1111111111111111,
              "#46039f"
             ],
             [
              0.2222222222222222,
              "#7201a8"
             ],
             [
              0.3333333333333333,
              "#9c179e"
             ],
             [
              0.4444444444444444,
              "#bd3786"
             ],
             [
              0.5555555555555556,
              "#d8576b"
             ],
             [
              0.6666666666666666,
              "#ed7953"
             ],
             [
              0.7777777777777778,
              "#fb9f3a"
             ],
             [
              0.8888888888888888,
              "#fdca26"
             ],
             [
              1,
              "#f0f921"
             ]
            ],
            "type": "surface"
           }
          ],
          "table": [
           {
            "cells": {
             "fill": {
              "color": "#EBF0F8"
             },
             "line": {
              "color": "white"
             }
            },
            "header": {
             "fill": {
              "color": "#C8D4E3"
             },
             "line": {
              "color": "white"
             }
            },
            "type": "table"
           }
          ]
         },
         "layout": {
          "annotationdefaults": {
           "arrowcolor": "#2a3f5f",
           "arrowhead": 0,
           "arrowwidth": 1
          },
          "autotypenumbers": "strict",
          "coloraxis": {
           "colorbar": {
            "outlinewidth": 0,
            "ticks": ""
           }
          },
          "colorscale": {
           "diverging": [
            [
             0,
             "#8e0152"
            ],
            [
             0.1,
             "#c51b7d"
            ],
            [
             0.2,
             "#de77ae"
            ],
            [
             0.3,
             "#f1b6da"
            ],
            [
             0.4,
             "#fde0ef"
            ],
            [
             0.5,
             "#f7f7f7"
            ],
            [
             0.6,
             "#e6f5d0"
            ],
            [
             0.7,
             "#b8e186"
            ],
            [
             0.8,
             "#7fbc41"
            ],
            [
             0.9,
             "#4d9221"
            ],
            [
             1,
             "#276419"
            ]
           ],
           "sequential": [
            [
             0,
             "#0d0887"
            ],
            [
             0.1111111111111111,
             "#46039f"
            ],
            [
             0.2222222222222222,
             "#7201a8"
            ],
            [
             0.3333333333333333,
             "#9c179e"
            ],
            [
             0.4444444444444444,
             "#bd3786"
            ],
            [
             0.5555555555555556,
             "#d8576b"
            ],
            [
             0.6666666666666666,
             "#ed7953"
            ],
            [
             0.7777777777777778,
             "#fb9f3a"
            ],
            [
             0.8888888888888888,
             "#fdca26"
            ],
            [
             1,
             "#f0f921"
            ]
           ],
           "sequentialminus": [
            [
             0,
             "#0d0887"
            ],
            [
             0.1111111111111111,
             "#46039f"
            ],
            [
             0.2222222222222222,
             "#7201a8"
            ],
            [
             0.3333333333333333,
             "#9c179e"
            ],
            [
             0.4444444444444444,
             "#bd3786"
            ],
            [
             0.5555555555555556,
             "#d8576b"
            ],
            [
             0.6666666666666666,
             "#ed7953"
            ],
            [
             0.7777777777777778,
             "#fb9f3a"
            ],
            [
             0.8888888888888888,
             "#fdca26"
            ],
            [
             1,
             "#f0f921"
            ]
           ]
          },
          "colorway": [
           "#636efa",
           "#EF553B",
           "#00cc96",
           "#ab63fa",
           "#FFA15A",
           "#19d3f3",
           "#FF6692",
           "#B6E880",
           "#FF97FF",
           "#FECB52"
          ],
          "font": {
           "color": "#2a3f5f"
          },
          "geo": {
           "bgcolor": "white",
           "lakecolor": "white",
           "landcolor": "#E5ECF6",
           "showlakes": true,
           "showland": true,
           "subunitcolor": "white"
          },
          "hoverlabel": {
           "align": "left"
          },
          "hovermode": "closest",
          "mapbox": {
           "style": "light"
          },
          "paper_bgcolor": "white",
          "plot_bgcolor": "#E5ECF6",
          "polar": {
           "angularaxis": {
            "gridcolor": "white",
            "linecolor": "white",
            "ticks": ""
           },
           "bgcolor": "#E5ECF6",
           "radialaxis": {
            "gridcolor": "white",
            "linecolor": "white",
            "ticks": ""
           }
          },
          "scene": {
           "xaxis": {
            "backgroundcolor": "#E5ECF6",
            "gridcolor": "white",
            "gridwidth": 2,
            "linecolor": "white",
            "showbackground": true,
            "ticks": "",
            "zerolinecolor": "white"
           },
           "yaxis": {
            "backgroundcolor": "#E5ECF6",
            "gridcolor": "white",
            "gridwidth": 2,
            "linecolor": "white",
            "showbackground": true,
            "ticks": "",
            "zerolinecolor": "white"
           },
           "zaxis": {
            "backgroundcolor": "#E5ECF6",
            "gridcolor": "white",
            "gridwidth": 2,
            "linecolor": "white",
            "showbackground": true,
            "ticks": "",
            "zerolinecolor": "white"
           }
          },
          "shapedefaults": {
           "line": {
            "color": "#2a3f5f"
           }
          },
          "ternary": {
           "aaxis": {
            "gridcolor": "white",
            "linecolor": "white",
            "ticks": ""
           },
           "baxis": {
            "gridcolor": "white",
            "linecolor": "white",
            "ticks": ""
           },
           "bgcolor": "#E5ECF6",
           "caxis": {
            "gridcolor": "white",
            "linecolor": "white",
            "ticks": ""
           }
          },
          "title": {
           "x": 0.05
          },
          "xaxis": {
           "automargin": true,
           "gridcolor": "white",
           "linecolor": "white",
           "ticks": "",
           "title": {
            "standoff": 15
           },
           "zerolinecolor": "white",
           "zerolinewidth": 2
          },
          "yaxis": {
           "automargin": true,
           "gridcolor": "white",
           "linecolor": "white",
           "ticks": "",
           "title": {
            "standoff": 15
           },
           "zerolinecolor": "white",
           "zerolinewidth": 2
          }
         }
        },
        "title": {
         "text": "Umap projection of nELISA data colored by inducer1"
        },
        "xaxis": {
         "anchor": "y",
         "domain": [
          0,
          1
         ],
         "title": {
          "text": "UMAP_1"
         }
        },
        "yaxis": {
         "anchor": "x",
         "domain": [
          0,
          1
         ],
         "title": {
          "text": "UMAP_2"
         }
        }
       }
      }
     },
     "metadata": {},
     "output_type": "display_data"
    },
    {
     "data": {
      "application/vnd.plotly.v1+json": {
       "config": {
        "plotlyServerURL": "https://plot.ly"
       },
       "data": [
        {
         "hovertemplate": "inhibitor=DMSO<br>umap_1=%{x}<br>umap_2=%{y}<extra></extra>",
         "legendgroup": "DMSO",
         "marker": {
          "color": "#636efa",
          "size": 12,
          "symbol": "circle"
         },
         "mode": "markers",
         "name": "DMSO",
         "orientation": "v",
         "showlegend": true,
         "type": "scatter",
         "x": [
          -0.8755083,
          1.5838473,
          1.0786864,
          -0.78794926,
          5.8573446,
          5.4184422,
          4.7761836,
          2.1831462,
          3.6735873,
          3.7675874,
          2.5135894,
          5.7879667,
          -0.30763254,
          0.13812338,
          2.7438068,
          -0.7146663,
          2.77185,
          5.51405,
          -2.263829,
          3.6216087,
          0.46250457,
          1.0159168,
          2.5721278,
          2.017739,
          -1.6205006,
          3.4757261,
          3.3003976,
          2.759796,
          3.8057098,
          4.5600123,
          1.0926384,
          6.35705,
          2.5894647,
          3.98992,
          -0.20132582,
          -0.111835025,
          0.39395136,
          -0.13855955,
          2.163698,
          3.1174016,
          0.6942509,
          -0.0034257357,
          1.7916985,
          1.554746,
          1.8952091,
          0.43702486,
          -1.2815189,
          0.82547367,
          3.306102,
          0.06579472,
          -2.0993752,
          4.038719,
          -1.0240033,
          5.262348,
          0.24769938,
          1.5518482,
          2.33868,
          3.04885,
          1.9244809,
          0.70065,
          0.8717699,
          1.2521867,
          4.4268875,
          1.8586261,
          -0.06715707,
          3.4154425,
          2.1869645,
          0.60935277,
          0.95214844,
          3.8028088,
          -1.4173982,
          1.7919037,
          1.4726647,
          1.5219876,
          4.944673,
          0.99162424,
          3.1962097,
          -0.7754246,
          -1.4185185,
          1.5260901,
          3.4651597,
          1.3919349,
          1.6784534,
          -0.86554074,
          0.014157203,
          -0.29921147,
          0.8955691,
          -1.7783887,
          0.15666766,
          1.1295868,
          1.0003396,
          4.2776604,
          0.7924433,
          0.53153694,
          -0.78907835,
          0.7618294,
          2.3465796,
          0.19613889,
          4.901178,
          0.034825135,
          2.5110965,
          2.6940186,
          5.2089562,
          3.1067216
         ],
         "xaxis": "x",
         "y": [
          -4.1885633,
          -2.499391,
          -3.1033926,
          -4.534813,
          -0.4960135,
          1.3351856,
          3.158692,
          -1.1814513,
          -1.6844152,
          0.69756657,
          -4.326105,
          -1.3481507,
          -3.5372932,
          -2.9093044,
          -2.6058297,
          -2.6608713,
          -1.8741945,
          -1.9311751,
          -4.1420074,
          -0.19181824,
          -0.0035098777,
          -1.9692736,
          1.002692,
          0.6858446,
          -4.621443,
          -2.7089777,
          -0.5895061,
          2.8824668,
          3.0150144,
          -1.9816705,
          -0.45651326,
          0.088830896,
          -3.9878926,
          1.6995785,
          0.07365309,
          -0.7406483,
          -1.122043,
          -4.844752,
          1.9382529,
          -0.46387872,
          -3.838279,
          -5.741167,
          0.9994211,
          -1.5075758,
          -3.2061868,
          -1.0819412,
          -4.0814033,
          0.49949732,
          -0.8790393,
          -3.1558402,
          -1.0988141,
          -0.02745574,
          -3.2855794,
          -0.64698064,
          1.7140702,
          1.4085345,
          -5.193192,
          0.2213751,
          -4.237294,
          -4.8241005,
          -1.1920989,
          -5.8472867,
          2.6464136,
          -2.4039338,
          2.3687627,
          -4.2170997,
          -3.8866527,
          -3.2989886,
          2.4151082,
          -2.8685038,
          0.045974623,
          2.563652,
          -2.406135,
          -3.9686995,
          -1.1645284,
          -0.94816345,
          0.45415738,
          -5.460584,
          -3.4174383,
          -2.8948302,
          -2.259443,
          -3.6712573,
          -5.5609674,
          -1.4523237,
          -4.102752,
          -6.0543923,
          -3.373828,
          -3.7084346,
          -5.0847716,
          -4.4502864,
          0.59380955,
          1.3658203,
          -1.4014714,
          -1.9429599,
          -0.7694029,
          2.0206733,
          -2.1107337,
          -2.0816624,
          0.28612754,
          -3.6267388,
          -0.7501291,
          -2.0406394,
          1.9864867,
          -3.3888292
         ],
         "yaxis": "y"
        },
        {
         "hovertemplate": "inhibitor=Z-VAD-FMK<br>umap_1=%{x}<br>umap_2=%{y}<extra></extra>",
         "legendgroup": "Z-VAD-FMK",
         "marker": {
          "color": "#EF553B",
          "size": 12,
          "symbol": "circle"
         },
         "mode": "markers",
         "name": "Z-VAD-FMK",
         "orientation": "v",
         "showlegend": true,
         "type": "scatter",
         "x": [
          5.1319456,
          1.0562513,
          4.4814754,
          0.08978081,
          -0.85659796,
          5.3472223,
          -0.56476396,
          1.7782717,
          -0.062347487,
          -0.72429395,
          -1.1959302,
          1.7450166,
          4.824284,
          5.5842085,
          6.2321153,
          4.3421497,
          4.795643,
          2.041314,
          2.90896,
          2.2849002
         ],
         "xaxis": "x",
         "y": [
          3.0045607,
          -5.245238,
          -3.2154033,
          -4.0766397,
          1.1121509,
          -2.1845114,
          -5.235062,
          -2.2485714,
          -1.9978427,
          -2.6549594,
          -2.4351385,
          3.2586997,
          0.8023376,
          0.8115232,
          -0.6602986,
          -0.5574173,
          -1.6148884,
          -1.5324372,
          0.7054848,
          -0.47865927
         ],
         "yaxis": "y"
        },
        {
         "hovertemplate": "inhibitor=Disulfiram<br>umap_1=%{x}<br>umap_2=%{y}<extra></extra>",
         "legendgroup": "Disulfiram",
         "marker": {
          "color": "#00cc96",
          "size": 12,
          "symbol": "circle"
         },
         "mode": "markers",
         "name": "Disulfiram",
         "orientation": "v",
         "showlegend": true,
         "type": "scatter",
         "x": [
          2.8012028,
          3.8883772,
          -1.5635864,
          0.096096486,
          -1.908886,
          2.8066797,
          -1.335882,
          -1.3755981,
          2.1290054,
          1.2956772,
          0.6042867,
          1.840358,
          1.8015786,
          2.2277389,
          -0.40609017,
          4.4027667,
          3.484418,
          1.0134791,
          -0.5007507,
          1.6587365,
          2.7102191,
          1.7271571,
          4.5013294,
          -0.9509096
         ],
         "xaxis": "x",
         "y": [
          -1.6206529,
          -3.5680456,
          -0.44336987,
          0.99032015,
          -0.9939553,
          -3.0524502,
          -1.5605315,
          -2.8894062,
          0.0010334076,
          -0.07899789,
          -0.47947875,
          0.48707315,
          -5.3593554,
          -3.2106664,
          0.4820288,
          -2.8904371,
          -1.0566962,
          -4.092858,
          1.680379,
          1.8170186,
          -0.9208084,
          -1.0371133,
          -0.75372505,
          -0.88099104
         ],
         "yaxis": "y"
        }
       ],
       "layout": {
        "legend": {
         "title": {
          "text": "inhibitor"
         },
         "tracegroupgap": 0
        },
        "template": {
         "data": {
          "bar": [
           {
            "error_x": {
             "color": "#2a3f5f"
            },
            "error_y": {
             "color": "#2a3f5f"
            },
            "marker": {
             "line": {
              "color": "#E5ECF6",
              "width": 0.5
             },
             "pattern": {
              "fillmode": "overlay",
              "size": 10,
              "solidity": 0.2
             }
            },
            "type": "bar"
           }
          ],
          "barpolar": [
           {
            "marker": {
             "line": {
              "color": "#E5ECF6",
              "width": 0.5
             },
             "pattern": {
              "fillmode": "overlay",
              "size": 10,
              "solidity": 0.2
             }
            },
            "type": "barpolar"
           }
          ],
          "carpet": [
           {
            "aaxis": {
             "endlinecolor": "#2a3f5f",
             "gridcolor": "white",
             "linecolor": "white",
             "minorgridcolor": "white",
             "startlinecolor": "#2a3f5f"
            },
            "baxis": {
             "endlinecolor": "#2a3f5f",
             "gridcolor": "white",
             "linecolor": "white",
             "minorgridcolor": "white",
             "startlinecolor": "#2a3f5f"
            },
            "type": "carpet"
           }
          ],
          "choropleth": [
           {
            "colorbar": {
             "outlinewidth": 0,
             "ticks": ""
            },
            "type": "choropleth"
           }
          ],
          "contour": [
           {
            "colorbar": {
             "outlinewidth": 0,
             "ticks": ""
            },
            "colorscale": [
             [
              0,
              "#0d0887"
             ],
             [
              0.1111111111111111,
              "#46039f"
             ],
             [
              0.2222222222222222,
              "#7201a8"
             ],
             [
              0.3333333333333333,
              "#9c179e"
             ],
             [
              0.4444444444444444,
              "#bd3786"
             ],
             [
              0.5555555555555556,
              "#d8576b"
             ],
             [
              0.6666666666666666,
              "#ed7953"
             ],
             [
              0.7777777777777778,
              "#fb9f3a"
             ],
             [
              0.8888888888888888,
              "#fdca26"
             ],
             [
              1,
              "#f0f921"
             ]
            ],
            "type": "contour"
           }
          ],
          "contourcarpet": [
           {
            "colorbar": {
             "outlinewidth": 0,
             "ticks": ""
            },
            "type": "contourcarpet"
           }
          ],
          "heatmap": [
           {
            "colorbar": {
             "outlinewidth": 0,
             "ticks": ""
            },
            "colorscale": [
             [
              0,
              "#0d0887"
             ],
             [
              0.1111111111111111,
              "#46039f"
             ],
             [
              0.2222222222222222,
              "#7201a8"
             ],
             [
              0.3333333333333333,
              "#9c179e"
             ],
             [
              0.4444444444444444,
              "#bd3786"
             ],
             [
              0.5555555555555556,
              "#d8576b"
             ],
             [
              0.6666666666666666,
              "#ed7953"
             ],
             [
              0.7777777777777778,
              "#fb9f3a"
             ],
             [
              0.8888888888888888,
              "#fdca26"
             ],
             [
              1,
              "#f0f921"
             ]
            ],
            "type": "heatmap"
           }
          ],
          "heatmapgl": [
           {
            "colorbar": {
             "outlinewidth": 0,
             "ticks": ""
            },
            "colorscale": [
             [
              0,
              "#0d0887"
             ],
             [
              0.1111111111111111,
              "#46039f"
             ],
             [
              0.2222222222222222,
              "#7201a8"
             ],
             [
              0.3333333333333333,
              "#9c179e"
             ],
             [
              0.4444444444444444,
              "#bd3786"
             ],
             [
              0.5555555555555556,
              "#d8576b"
             ],
             [
              0.6666666666666666,
              "#ed7953"
             ],
             [
              0.7777777777777778,
              "#fb9f3a"
             ],
             [
              0.8888888888888888,
              "#fdca26"
             ],
             [
              1,
              "#f0f921"
             ]
            ],
            "type": "heatmapgl"
           }
          ],
          "histogram": [
           {
            "marker": {
             "pattern": {
              "fillmode": "overlay",
              "size": 10,
              "solidity": 0.2
             }
            },
            "type": "histogram"
           }
          ],
          "histogram2d": [
           {
            "colorbar": {
             "outlinewidth": 0,
             "ticks": ""
            },
            "colorscale": [
             [
              0,
              "#0d0887"
             ],
             [
              0.1111111111111111,
              "#46039f"
             ],
             [
              0.2222222222222222,
              "#7201a8"
             ],
             [
              0.3333333333333333,
              "#9c179e"
             ],
             [
              0.4444444444444444,
              "#bd3786"
             ],
             [
              0.5555555555555556,
              "#d8576b"
             ],
             [
              0.6666666666666666,
              "#ed7953"
             ],
             [
              0.7777777777777778,
              "#fb9f3a"
             ],
             [
              0.8888888888888888,
              "#fdca26"
             ],
             [
              1,
              "#f0f921"
             ]
            ],
            "type": "histogram2d"
           }
          ],
          "histogram2dcontour": [
           {
            "colorbar": {
             "outlinewidth": 0,
             "ticks": ""
            },
            "colorscale": [
             [
              0,
              "#0d0887"
             ],
             [
              0.1111111111111111,
              "#46039f"
             ],
             [
              0.2222222222222222,
              "#7201a8"
             ],
             [
              0.3333333333333333,
              "#9c179e"
             ],
             [
              0.4444444444444444,
              "#bd3786"
             ],
             [
              0.5555555555555556,
              "#d8576b"
             ],
             [
              0.6666666666666666,
              "#ed7953"
             ],
             [
              0.7777777777777778,
              "#fb9f3a"
             ],
             [
              0.8888888888888888,
              "#fdca26"
             ],
             [
              1,
              "#f0f921"
             ]
            ],
            "type": "histogram2dcontour"
           }
          ],
          "mesh3d": [
           {
            "colorbar": {
             "outlinewidth": 0,
             "ticks": ""
            },
            "type": "mesh3d"
           }
          ],
          "parcoords": [
           {
            "line": {
             "colorbar": {
              "outlinewidth": 0,
              "ticks": ""
             }
            },
            "type": "parcoords"
           }
          ],
          "pie": [
           {
            "automargin": true,
            "type": "pie"
           }
          ],
          "scatter": [
           {
            "fillpattern": {
             "fillmode": "overlay",
             "size": 10,
             "solidity": 0.2
            },
            "type": "scatter"
           }
          ],
          "scatter3d": [
           {
            "line": {
             "colorbar": {
              "outlinewidth": 0,
              "ticks": ""
             }
            },
            "marker": {
             "colorbar": {
              "outlinewidth": 0,
              "ticks": ""
             }
            },
            "type": "scatter3d"
           }
          ],
          "scattercarpet": [
           {
            "marker": {
             "colorbar": {
              "outlinewidth": 0,
              "ticks": ""
             }
            },
            "type": "scattercarpet"
           }
          ],
          "scattergeo": [
           {
            "marker": {
             "colorbar": {
              "outlinewidth": 0,
              "ticks": ""
             }
            },
            "type": "scattergeo"
           }
          ],
          "scattergl": [
           {
            "marker": {
             "colorbar": {
              "outlinewidth": 0,
              "ticks": ""
             }
            },
            "type": "scattergl"
           }
          ],
          "scattermapbox": [
           {
            "marker": {
             "colorbar": {
              "outlinewidth": 0,
              "ticks": ""
             }
            },
            "type": "scattermapbox"
           }
          ],
          "scatterpolar": [
           {
            "marker": {
             "colorbar": {
              "outlinewidth": 0,
              "ticks": ""
             }
            },
            "type": "scatterpolar"
           }
          ],
          "scatterpolargl": [
           {
            "marker": {
             "colorbar": {
              "outlinewidth": 0,
              "ticks": ""
             }
            },
            "type": "scatterpolargl"
           }
          ],
          "scatterternary": [
           {
            "marker": {
             "colorbar": {
              "outlinewidth": 0,
              "ticks": ""
             }
            },
            "type": "scatterternary"
           }
          ],
          "surface": [
           {
            "colorbar": {
             "outlinewidth": 0,
             "ticks": ""
            },
            "colorscale": [
             [
              0,
              "#0d0887"
             ],
             [
              0.1111111111111111,
              "#46039f"
             ],
             [
              0.2222222222222222,
              "#7201a8"
             ],
             [
              0.3333333333333333,
              "#9c179e"
             ],
             [
              0.4444444444444444,
              "#bd3786"
             ],
             [
              0.5555555555555556,
              "#d8576b"
             ],
             [
              0.6666666666666666,
              "#ed7953"
             ],
             [
              0.7777777777777778,
              "#fb9f3a"
             ],
             [
              0.8888888888888888,
              "#fdca26"
             ],
             [
              1,
              "#f0f921"
             ]
            ],
            "type": "surface"
           }
          ],
          "table": [
           {
            "cells": {
             "fill": {
              "color": "#EBF0F8"
             },
             "line": {
              "color": "white"
             }
            },
            "header": {
             "fill": {
              "color": "#C8D4E3"
             },
             "line": {
              "color": "white"
             }
            },
            "type": "table"
           }
          ]
         },
         "layout": {
          "annotationdefaults": {
           "arrowcolor": "#2a3f5f",
           "arrowhead": 0,
           "arrowwidth": 1
          },
          "autotypenumbers": "strict",
          "coloraxis": {
           "colorbar": {
            "outlinewidth": 0,
            "ticks": ""
           }
          },
          "colorscale": {
           "diverging": [
            [
             0,
             "#8e0152"
            ],
            [
             0.1,
             "#c51b7d"
            ],
            [
             0.2,
             "#de77ae"
            ],
            [
             0.3,
             "#f1b6da"
            ],
            [
             0.4,
             "#fde0ef"
            ],
            [
             0.5,
             "#f7f7f7"
            ],
            [
             0.6,
             "#e6f5d0"
            ],
            [
             0.7,
             "#b8e186"
            ],
            [
             0.8,
             "#7fbc41"
            ],
            [
             0.9,
             "#4d9221"
            ],
            [
             1,
             "#276419"
            ]
           ],
           "sequential": [
            [
             0,
             "#0d0887"
            ],
            [
             0.1111111111111111,
             "#46039f"
            ],
            [
             0.2222222222222222,
             "#7201a8"
            ],
            [
             0.3333333333333333,
             "#9c179e"
            ],
            [
             0.4444444444444444,
             "#bd3786"
            ],
            [
             0.5555555555555556,
             "#d8576b"
            ],
            [
             0.6666666666666666,
             "#ed7953"
            ],
            [
             0.7777777777777778,
             "#fb9f3a"
            ],
            [
             0.8888888888888888,
             "#fdca26"
            ],
            [
             1,
             "#f0f921"
            ]
           ],
           "sequentialminus": [
            [
             0,
             "#0d0887"
            ],
            [
             0.1111111111111111,
             "#46039f"
            ],
            [
             0.2222222222222222,
             "#7201a8"
            ],
            [
             0.3333333333333333,
             "#9c179e"
            ],
            [
             0.4444444444444444,
             "#bd3786"
            ],
            [
             0.5555555555555556,
             "#d8576b"
            ],
            [
             0.6666666666666666,
             "#ed7953"
            ],
            [
             0.7777777777777778,
             "#fb9f3a"
            ],
            [
             0.8888888888888888,
             "#fdca26"
            ],
            [
             1,
             "#f0f921"
            ]
           ]
          },
          "colorway": [
           "#636efa",
           "#EF553B",
           "#00cc96",
           "#ab63fa",
           "#FFA15A",
           "#19d3f3",
           "#FF6692",
           "#B6E880",
           "#FF97FF",
           "#FECB52"
          ],
          "font": {
           "color": "#2a3f5f"
          },
          "geo": {
           "bgcolor": "white",
           "lakecolor": "white",
           "landcolor": "#E5ECF6",
           "showlakes": true,
           "showland": true,
           "subunitcolor": "white"
          },
          "hoverlabel": {
           "align": "left"
          },
          "hovermode": "closest",
          "mapbox": {
           "style": "light"
          },
          "paper_bgcolor": "white",
          "plot_bgcolor": "#E5ECF6",
          "polar": {
           "angularaxis": {
            "gridcolor": "white",
            "linecolor": "white",
            "ticks": ""
           },
           "bgcolor": "#E5ECF6",
           "radialaxis": {
            "gridcolor": "white",
            "linecolor": "white",
            "ticks": ""
           }
          },
          "scene": {
           "xaxis": {
            "backgroundcolor": "#E5ECF6",
            "gridcolor": "white",
            "gridwidth": 2,
            "linecolor": "white",
            "showbackground": true,
            "ticks": "",
            "zerolinecolor": "white"
           },
           "yaxis": {
            "backgroundcolor": "#E5ECF6",
            "gridcolor": "white",
            "gridwidth": 2,
            "linecolor": "white",
            "showbackground": true,
            "ticks": "",
            "zerolinecolor": "white"
           },
           "zaxis": {
            "backgroundcolor": "#E5ECF6",
            "gridcolor": "white",
            "gridwidth": 2,
            "linecolor": "white",
            "showbackground": true,
            "ticks": "",
            "zerolinecolor": "white"
           }
          },
          "shapedefaults": {
           "line": {
            "color": "#2a3f5f"
           }
          },
          "ternary": {
           "aaxis": {
            "gridcolor": "white",
            "linecolor": "white",
            "ticks": ""
           },
           "baxis": {
            "gridcolor": "white",
            "linecolor": "white",
            "ticks": ""
           },
           "bgcolor": "#E5ECF6",
           "caxis": {
            "gridcolor": "white",
            "linecolor": "white",
            "ticks": ""
           }
          },
          "title": {
           "x": 0.05
          },
          "xaxis": {
           "automargin": true,
           "gridcolor": "white",
           "linecolor": "white",
           "ticks": "",
           "title": {
            "standoff": 15
           },
           "zerolinecolor": "white",
           "zerolinewidth": 2
          },
          "yaxis": {
           "automargin": true,
           "gridcolor": "white",
           "linecolor": "white",
           "ticks": "",
           "title": {
            "standoff": 15
           },
           "zerolinecolor": "white",
           "zerolinewidth": 2
          }
         }
        },
        "title": {
         "text": "Umap projection of nELISA data colored by inhibitor"
        },
        "xaxis": {
         "anchor": "y",
         "domain": [
          0,
          1
         ],
         "title": {
          "text": "UMAP_1"
         }
        },
        "yaxis": {
         "anchor": "x",
         "domain": [
          0,
          1
         ],
         "title": {
          "text": "UMAP_2"
         }
        }
       }
      }
     },
     "metadata": {},
     "output_type": "display_data"
    },
    {
     "data": {
      "application/vnd.plotly.v1+json": {
       "config": {
        "plotlyServerURL": "https://plot.ly"
       },
       "data": [
        {
         "hovertemplate": "Function=Null<br>umap_1=%{x}<br>umap_2=%{y}<extra></extra>",
         "legendgroup": "Null",
         "marker": {
          "color": "#636efa",
          "size": 12,
          "symbol": "circle"
         },
         "mode": "markers",
         "name": "Null",
         "orientation": "v",
         "showlegend": true,
         "type": "scatter",
         "x": [
          -0.8755083,
          1.5838473,
          1.0786864,
          -0.78794926,
          5.1319456,
          1.0562513,
          4.4814754,
          0.08978081,
          -0.85659796,
          5.3472223,
          -0.56476396,
          1.7782717,
          5.8573446,
          5.4184422,
          4.7761836,
          2.1831462,
          3.6735873,
          3.7675874,
          2.5135894,
          5.7879667,
          -0.30763254,
          0.13812338,
          2.7438068,
          -0.7146663,
          2.77185,
          5.51405,
          -2.263829,
          3.6216087,
          -1.6205006,
          3.4757261,
          3.3003976,
          2.759796,
          3.8057098,
          4.5600123,
          1.0926384,
          6.35705,
          2.8012028,
          3.8883772,
          -1.5635864,
          0.096096486,
          -0.062347487,
          -0.72429395,
          -1.1959302,
          1.7450166,
          0.6942509,
          -0.0034257357,
          1.7916985,
          1.554746,
          -1.908886,
          2.8066797,
          -1.335882,
          -1.3755981,
          -1.0240033,
          5.262348,
          0.24769938,
          1.5518482,
          2.1290054,
          1.2956772,
          0.6042867,
          1.840358,
          1.8015786,
          2.2277389,
          -0.40609017,
          4.4027667,
          3.484418,
          1.0134791,
          -0.5007507,
          1.6587365,
          4.824284,
          5.5842085,
          6.2321153,
          4.3421497,
          0.7924433,
          0.53153694,
          -0.78907835,
          0.7618294,
          2.5110965,
          2.6940186,
          5.2089562,
          3.1067216
         ],
         "xaxis": "x",
         "y": [
          -4.1885633,
          -2.499391,
          -3.1033926,
          -4.534813,
          3.0045607,
          -5.245238,
          -3.2154033,
          -4.0766397,
          1.1121509,
          -2.1845114,
          -5.235062,
          -2.2485714,
          -0.4960135,
          1.3351856,
          3.158692,
          -1.1814513,
          -1.6844152,
          0.69756657,
          -4.326105,
          -1.3481507,
          -3.5372932,
          -2.9093044,
          -2.6058297,
          -2.6608713,
          -1.8741945,
          -1.9311751,
          -4.1420074,
          -0.19181824,
          -4.621443,
          -2.7089777,
          -0.5895061,
          2.8824668,
          3.0150144,
          -1.9816705,
          -0.45651326,
          0.088830896,
          -1.6206529,
          -3.5680456,
          -0.44336987,
          0.99032015,
          -1.9978427,
          -2.6549594,
          -2.4351385,
          3.2586997,
          -3.838279,
          -5.741167,
          0.9994211,
          -1.5075758,
          -0.9939553,
          -3.0524502,
          -1.5605315,
          -2.8894062,
          -3.2855794,
          -0.64698064,
          1.7140702,
          1.4085345,
          0.0010334076,
          -0.07899789,
          -0.47947875,
          0.48707315,
          -5.3593554,
          -3.2106664,
          0.4820288,
          -2.8904371,
          -1.0566962,
          -4.092858,
          1.680379,
          1.8170186,
          0.8023376,
          0.8115232,
          -0.6602986,
          -0.5574173,
          -1.4014714,
          -1.9429599,
          -0.7694029,
          2.0206733,
          -0.7501291,
          -2.0406394,
          1.9864867,
          -3.3888292
         ],
         "yaxis": "y"
        },
        {
         "hovertemplate": "Function=Pyroptosis<br>umap_1=%{x}<br>umap_2=%{y}<extra></extra>",
         "legendgroup": "Pyroptosis",
         "marker": {
          "color": "#EF553B",
          "size": 12,
          "symbol": "circle"
         },
         "mode": "markers",
         "name": "Pyroptosis",
         "orientation": "v",
         "showlegend": true,
         "type": "scatter",
         "x": [
          0.46250457,
          1.0159168,
          2.5721278,
          2.017739,
          2.5894647,
          3.98992,
          -0.20132582,
          -0.111835025,
          0.39395136,
          -0.13855955,
          2.163698,
          3.1174016,
          1.8952091,
          0.43702486,
          -1.2815189,
          0.82547367,
          0.8717699,
          1.2521867,
          4.4268875,
          1.8586261,
          3.1962097,
          -0.7754246,
          -1.4185185,
          1.5260901,
          3.4651597,
          1.3919349,
          1.6784534,
          -0.86554074,
          0.014157203,
          -0.29921147,
          0.8955691,
          -1.7783887,
          0.15666766,
          1.1295868,
          1.0003396,
          4.2776604
         ],
         "xaxis": "x",
         "y": [
          -0.0035098777,
          -1.9692736,
          1.002692,
          0.6858446,
          -3.9878926,
          1.6995785,
          0.07365309,
          -0.7406483,
          -1.122043,
          -4.844752,
          1.9382529,
          -0.46387872,
          -3.2061868,
          -1.0819412,
          -4.0814033,
          0.49949732,
          -1.1920989,
          -5.8472867,
          2.6464136,
          -2.4039338,
          0.45415738,
          -5.460584,
          -3.4174383,
          -2.8948302,
          -2.259443,
          -3.6712573,
          -5.5609674,
          -1.4523237,
          -4.102752,
          -6.0543923,
          -3.373828,
          -3.7084346,
          -5.0847716,
          -4.4502864,
          0.59380955,
          1.3658203
         ],
         "yaxis": "y"
        },
        {
         "hovertemplate": "Function=Apoptosis<br>umap_1=%{x}<br>umap_2=%{y}<extra></extra>",
         "legendgroup": "Apoptosis",
         "marker": {
          "color": "#00cc96",
          "size": 12,
          "symbol": "circle"
         },
         "mode": "markers",
         "name": "Apoptosis",
         "orientation": "v",
         "showlegend": true,
         "type": "scatter",
         "x": [
          3.306102,
          0.06579472,
          -2.0993752,
          4.038719,
          -0.06715707,
          3.4154425,
          2.1869645,
          0.60935277,
          0.95214844,
          3.8028088,
          -1.4173982,
          1.7919037,
          1.4726647,
          1.5219876,
          4.944673,
          0.99162424,
          2.7102191,
          1.7271571,
          4.5013294,
          -0.9509096,
          4.795643,
          2.041314,
          2.90896,
          2.2849002
         ],
         "xaxis": "x",
         "y": [
          -0.8790393,
          -3.1558402,
          -1.0988141,
          -0.02745574,
          2.3687627,
          -4.2170997,
          -3.8866527,
          -3.2989886,
          2.4151082,
          -2.8685038,
          0.045974623,
          2.563652,
          -2.406135,
          -3.9686995,
          -1.1645284,
          -0.94816345,
          -0.9208084,
          -1.0371133,
          -0.75372505,
          -0.88099104,
          -1.6148884,
          -1.5324372,
          0.7054848,
          -0.47865927
         ],
         "yaxis": "y"
        },
        {
         "hovertemplate": "Function=Death<br>umap_1=%{x}<br>umap_2=%{y}<extra></extra>",
         "legendgroup": "Death",
         "marker": {
          "color": "#ab63fa",
          "size": 12,
          "symbol": "circle"
         },
         "mode": "markers",
         "name": "Death",
         "orientation": "v",
         "showlegend": true,
         "type": "scatter",
         "x": [
          2.33868,
          3.04885,
          1.9244809,
          0.70065,
          2.3465796,
          0.19613889,
          4.901178,
          0.034825135
         ],
         "xaxis": "x",
         "y": [
          -5.193192,
          0.2213751,
          -4.237294,
          -4.8241005,
          -2.1107337,
          -2.0816624,
          0.28612754,
          -3.6267388
         ],
         "yaxis": "y"
        }
       ],
       "layout": {
        "legend": {
         "title": {
          "text": "Function"
         },
         "tracegroupgap": 0
        },
        "template": {
         "data": {
          "bar": [
           {
            "error_x": {
             "color": "#2a3f5f"
            },
            "error_y": {
             "color": "#2a3f5f"
            },
            "marker": {
             "line": {
              "color": "#E5ECF6",
              "width": 0.5
             },
             "pattern": {
              "fillmode": "overlay",
              "size": 10,
              "solidity": 0.2
             }
            },
            "type": "bar"
           }
          ],
          "barpolar": [
           {
            "marker": {
             "line": {
              "color": "#E5ECF6",
              "width": 0.5
             },
             "pattern": {
              "fillmode": "overlay",
              "size": 10,
              "solidity": 0.2
             }
            },
            "type": "barpolar"
           }
          ],
          "carpet": [
           {
            "aaxis": {
             "endlinecolor": "#2a3f5f",
             "gridcolor": "white",
             "linecolor": "white",
             "minorgridcolor": "white",
             "startlinecolor": "#2a3f5f"
            },
            "baxis": {
             "endlinecolor": "#2a3f5f",
             "gridcolor": "white",
             "linecolor": "white",
             "minorgridcolor": "white",
             "startlinecolor": "#2a3f5f"
            },
            "type": "carpet"
           }
          ],
          "choropleth": [
           {
            "colorbar": {
             "outlinewidth": 0,
             "ticks": ""
            },
            "type": "choropleth"
           }
          ],
          "contour": [
           {
            "colorbar": {
             "outlinewidth": 0,
             "ticks": ""
            },
            "colorscale": [
             [
              0,
              "#0d0887"
             ],
             [
              0.1111111111111111,
              "#46039f"
             ],
             [
              0.2222222222222222,
              "#7201a8"
             ],
             [
              0.3333333333333333,
              "#9c179e"
             ],
             [
              0.4444444444444444,
              "#bd3786"
             ],
             [
              0.5555555555555556,
              "#d8576b"
             ],
             [
              0.6666666666666666,
              "#ed7953"
             ],
             [
              0.7777777777777778,
              "#fb9f3a"
             ],
             [
              0.8888888888888888,
              "#fdca26"
             ],
             [
              1,
              "#f0f921"
             ]
            ],
            "type": "contour"
           }
          ],
          "contourcarpet": [
           {
            "colorbar": {
             "outlinewidth": 0,
             "ticks": ""
            },
            "type": "contourcarpet"
           }
          ],
          "heatmap": [
           {
            "colorbar": {
             "outlinewidth": 0,
             "ticks": ""
            },
            "colorscale": [
             [
              0,
              "#0d0887"
             ],
             [
              0.1111111111111111,
              "#46039f"
             ],
             [
              0.2222222222222222,
              "#7201a8"
             ],
             [
              0.3333333333333333,
              "#9c179e"
             ],
             [
              0.4444444444444444,
              "#bd3786"
             ],
             [
              0.5555555555555556,
              "#d8576b"
             ],
             [
              0.6666666666666666,
              "#ed7953"
             ],
             [
              0.7777777777777778,
              "#fb9f3a"
             ],
             [
              0.8888888888888888,
              "#fdca26"
             ],
             [
              1,
              "#f0f921"
             ]
            ],
            "type": "heatmap"
           }
          ],
          "heatmapgl": [
           {
            "colorbar": {
             "outlinewidth": 0,
             "ticks": ""
            },
            "colorscale": [
             [
              0,
              "#0d0887"
             ],
             [
              0.1111111111111111,
              "#46039f"
             ],
             [
              0.2222222222222222,
              "#7201a8"
             ],
             [
              0.3333333333333333,
              "#9c179e"
             ],
             [
              0.4444444444444444,
              "#bd3786"
             ],
             [
              0.5555555555555556,
              "#d8576b"
             ],
             [
              0.6666666666666666,
              "#ed7953"
             ],
             [
              0.7777777777777778,
              "#fb9f3a"
             ],
             [
              0.8888888888888888,
              "#fdca26"
             ],
             [
              1,
              "#f0f921"
             ]
            ],
            "type": "heatmapgl"
           }
          ],
          "histogram": [
           {
            "marker": {
             "pattern": {
              "fillmode": "overlay",
              "size": 10,
              "solidity": 0.2
             }
            },
            "type": "histogram"
           }
          ],
          "histogram2d": [
           {
            "colorbar": {
             "outlinewidth": 0,
             "ticks": ""
            },
            "colorscale": [
             [
              0,
              "#0d0887"
             ],
             [
              0.1111111111111111,
              "#46039f"
             ],
             [
              0.2222222222222222,
              "#7201a8"
             ],
             [
              0.3333333333333333,
              "#9c179e"
             ],
             [
              0.4444444444444444,
              "#bd3786"
             ],
             [
              0.5555555555555556,
              "#d8576b"
             ],
             [
              0.6666666666666666,
              "#ed7953"
             ],
             [
              0.7777777777777778,
              "#fb9f3a"
             ],
             [
              0.8888888888888888,
              "#fdca26"
             ],
             [
              1,
              "#f0f921"
             ]
            ],
            "type": "histogram2d"
           }
          ],
          "histogram2dcontour": [
           {
            "colorbar": {
             "outlinewidth": 0,
             "ticks": ""
            },
            "colorscale": [
             [
              0,
              "#0d0887"
             ],
             [
              0.1111111111111111,
              "#46039f"
             ],
             [
              0.2222222222222222,
              "#7201a8"
             ],
             [
              0.3333333333333333,
              "#9c179e"
             ],
             [
              0.4444444444444444,
              "#bd3786"
             ],
             [
              0.5555555555555556,
              "#d8576b"
             ],
             [
              0.6666666666666666,
              "#ed7953"
             ],
             [
              0.7777777777777778,
              "#fb9f3a"
             ],
             [
              0.8888888888888888,
              "#fdca26"
             ],
             [
              1,
              "#f0f921"
             ]
            ],
            "type": "histogram2dcontour"
           }
          ],
          "mesh3d": [
           {
            "colorbar": {
             "outlinewidth": 0,
             "ticks": ""
            },
            "type": "mesh3d"
           }
          ],
          "parcoords": [
           {
            "line": {
             "colorbar": {
              "outlinewidth": 0,
              "ticks": ""
             }
            },
            "type": "parcoords"
           }
          ],
          "pie": [
           {
            "automargin": true,
            "type": "pie"
           }
          ],
          "scatter": [
           {
            "fillpattern": {
             "fillmode": "overlay",
             "size": 10,
             "solidity": 0.2
            },
            "type": "scatter"
           }
          ],
          "scatter3d": [
           {
            "line": {
             "colorbar": {
              "outlinewidth": 0,
              "ticks": ""
             }
            },
            "marker": {
             "colorbar": {
              "outlinewidth": 0,
              "ticks": ""
             }
            },
            "type": "scatter3d"
           }
          ],
          "scattercarpet": [
           {
            "marker": {
             "colorbar": {
              "outlinewidth": 0,
              "ticks": ""
             }
            },
            "type": "scattercarpet"
           }
          ],
          "scattergeo": [
           {
            "marker": {
             "colorbar": {
              "outlinewidth": 0,
              "ticks": ""
             }
            },
            "type": "scattergeo"
           }
          ],
          "scattergl": [
           {
            "marker": {
             "colorbar": {
              "outlinewidth": 0,
              "ticks": ""
             }
            },
            "type": "scattergl"
           }
          ],
          "scattermapbox": [
           {
            "marker": {
             "colorbar": {
              "outlinewidth": 0,
              "ticks": ""
             }
            },
            "type": "scattermapbox"
           }
          ],
          "scatterpolar": [
           {
            "marker": {
             "colorbar": {
              "outlinewidth": 0,
              "ticks": ""
             }
            },
            "type": "scatterpolar"
           }
          ],
          "scatterpolargl": [
           {
            "marker": {
             "colorbar": {
              "outlinewidth": 0,
              "ticks": ""
             }
            },
            "type": "scatterpolargl"
           }
          ],
          "scatterternary": [
           {
            "marker": {
             "colorbar": {
              "outlinewidth": 0,
              "ticks": ""
             }
            },
            "type": "scatterternary"
           }
          ],
          "surface": [
           {
            "colorbar": {
             "outlinewidth": 0,
             "ticks": ""
            },
            "colorscale": [
             [
              0,
              "#0d0887"
             ],
             [
              0.1111111111111111,
              "#46039f"
             ],
             [
              0.2222222222222222,
              "#7201a8"
             ],
             [
              0.3333333333333333,
              "#9c179e"
             ],
             [
              0.4444444444444444,
              "#bd3786"
             ],
             [
              0.5555555555555556,
              "#d8576b"
             ],
             [
              0.6666666666666666,
              "#ed7953"
             ],
             [
              0.7777777777777778,
              "#fb9f3a"
             ],
             [
              0.8888888888888888,
              "#fdca26"
             ],
             [
              1,
              "#f0f921"
             ]
            ],
            "type": "surface"
           }
          ],
          "table": [
           {
            "cells": {
             "fill": {
              "color": "#EBF0F8"
             },
             "line": {
              "color": "white"
             }
            },
            "header": {
             "fill": {
              "color": "#C8D4E3"
             },
             "line": {
              "color": "white"
             }
            },
            "type": "table"
           }
          ]
         },
         "layout": {
          "annotationdefaults": {
           "arrowcolor": "#2a3f5f",
           "arrowhead": 0,
           "arrowwidth": 1
          },
          "autotypenumbers": "strict",
          "coloraxis": {
           "colorbar": {
            "outlinewidth": 0,
            "ticks": ""
           }
          },
          "colorscale": {
           "diverging": [
            [
             0,
             "#8e0152"
            ],
            [
             0.1,
             "#c51b7d"
            ],
            [
             0.2,
             "#de77ae"
            ],
            [
             0.3,
             "#f1b6da"
            ],
            [
             0.4,
             "#fde0ef"
            ],
            [
             0.5,
             "#f7f7f7"
            ],
            [
             0.6,
             "#e6f5d0"
            ],
            [
             0.7,
             "#b8e186"
            ],
            [
             0.8,
             "#7fbc41"
            ],
            [
             0.9,
             "#4d9221"
            ],
            [
             1,
             "#276419"
            ]
           ],
           "sequential": [
            [
             0,
             "#0d0887"
            ],
            [
             0.1111111111111111,
             "#46039f"
            ],
            [
             0.2222222222222222,
             "#7201a8"
            ],
            [
             0.3333333333333333,
             "#9c179e"
            ],
            [
             0.4444444444444444,
             "#bd3786"
            ],
            [
             0.5555555555555556,
             "#d8576b"
            ],
            [
             0.6666666666666666,
             "#ed7953"
            ],
            [
             0.7777777777777778,
             "#fb9f3a"
            ],
            [
             0.8888888888888888,
             "#fdca26"
            ],
            [
             1,
             "#f0f921"
            ]
           ],
           "sequentialminus": [
            [
             0,
             "#0d0887"
            ],
            [
             0.1111111111111111,
             "#46039f"
            ],
            [
             0.2222222222222222,
             "#7201a8"
            ],
            [
             0.3333333333333333,
             "#9c179e"
            ],
            [
             0.4444444444444444,
             "#bd3786"
            ],
            [
             0.5555555555555556,
             "#d8576b"
            ],
            [
             0.6666666666666666,
             "#ed7953"
            ],
            [
             0.7777777777777778,
             "#fb9f3a"
            ],
            [
             0.8888888888888888,
             "#fdca26"
            ],
            [
             1,
             "#f0f921"
            ]
           ]
          },
          "colorway": [
           "#636efa",
           "#EF553B",
           "#00cc96",
           "#ab63fa",
           "#FFA15A",
           "#19d3f3",
           "#FF6692",
           "#B6E880",
           "#FF97FF",
           "#FECB52"
          ],
          "font": {
           "color": "#2a3f5f"
          },
          "geo": {
           "bgcolor": "white",
           "lakecolor": "white",
           "landcolor": "#E5ECF6",
           "showlakes": true,
           "showland": true,
           "subunitcolor": "white"
          },
          "hoverlabel": {
           "align": "left"
          },
          "hovermode": "closest",
          "mapbox": {
           "style": "light"
          },
          "paper_bgcolor": "white",
          "plot_bgcolor": "#E5ECF6",
          "polar": {
           "angularaxis": {
            "gridcolor": "white",
            "linecolor": "white",
            "ticks": ""
           },
           "bgcolor": "#E5ECF6",
           "radialaxis": {
            "gridcolor": "white",
            "linecolor": "white",
            "ticks": ""
           }
          },
          "scene": {
           "xaxis": {
            "backgroundcolor": "#E5ECF6",
            "gridcolor": "white",
            "gridwidth": 2,
            "linecolor": "white",
            "showbackground": true,
            "ticks": "",
            "zerolinecolor": "white"
           },
           "yaxis": {
            "backgroundcolor": "#E5ECF6",
            "gridcolor": "white",
            "gridwidth": 2,
            "linecolor": "white",
            "showbackground": true,
            "ticks": "",
            "zerolinecolor": "white"
           },
           "zaxis": {
            "backgroundcolor": "#E5ECF6",
            "gridcolor": "white",
            "gridwidth": 2,
            "linecolor": "white",
            "showbackground": true,
            "ticks": "",
            "zerolinecolor": "white"
           }
          },
          "shapedefaults": {
           "line": {
            "color": "#2a3f5f"
           }
          },
          "ternary": {
           "aaxis": {
            "gridcolor": "white",
            "linecolor": "white",
            "ticks": ""
           },
           "baxis": {
            "gridcolor": "white",
            "linecolor": "white",
            "ticks": ""
           },
           "bgcolor": "#E5ECF6",
           "caxis": {
            "gridcolor": "white",
            "linecolor": "white",
            "ticks": ""
           }
          },
          "title": {
           "x": 0.05
          },
          "xaxis": {
           "automargin": true,
           "gridcolor": "white",
           "linecolor": "white",
           "ticks": "",
           "title": {
            "standoff": 15
           },
           "zerolinecolor": "white",
           "zerolinewidth": 2
          },
          "yaxis": {
           "automargin": true,
           "gridcolor": "white",
           "linecolor": "white",
           "ticks": "",
           "title": {
            "standoff": 15
           },
           "zerolinecolor": "white",
           "zerolinewidth": 2
          }
         }
        },
        "title": {
         "text": "Umap projection of nELISA data colored by Function"
        },
        "xaxis": {
         "anchor": "y",
         "domain": [
          0,
          1
         ],
         "title": {
          "text": "UMAP_1"
         }
        },
        "yaxis": {
         "anchor": "x",
         "domain": [
          0,
          1
         ],
         "title": {
          "text": "UMAP_2"
         }
        }
       }
      }
     },
     "metadata": {},
     "output_type": "display_data"
    },
    {
     "data": {
      "application/vnd.plotly.v1+json": {
       "config": {
        "plotlyServerURL": "https://plot.ly"
       },
       "data": [
        {
         "hovertemplate": "inducer1_plus_concentration=DMSO_0.10%<br>umap_1=%{x}<br>umap_2=%{y}<extra></extra>",
         "legendgroup": "DMSO_0.10%",
         "marker": {
          "color": "#636efa",
          "size": 12,
          "symbol": "circle"
         },
         "mode": "markers",
         "name": "DMSO_0.10%",
         "orientation": "v",
         "showlegend": true,
         "type": "scatter",
         "x": [
          -0.8755083,
          1.5838473,
          1.0786864,
          -0.78794926,
          5.1319456,
          1.0562513,
          4.4814754,
          0.08978081,
          -0.85659796,
          5.3472223,
          -0.56476396,
          1.7782717,
          5.8573446,
          5.4184422,
          4.7761836,
          2.1831462,
          3.6735873,
          3.7675874,
          2.5135894,
          5.7879667
         ],
         "xaxis": "x",
         "y": [
          -4.1885633,
          -2.499391,
          -3.1033926,
          -4.534813,
          3.0045607,
          -5.245238,
          -3.2154033,
          -4.0766397,
          1.1121509,
          -2.1845114,
          -5.235062,
          -2.2485714,
          -0.4960135,
          1.3351856,
          3.158692,
          -1.1814513,
          -1.6844152,
          0.69756657,
          -4.326105,
          -1.3481507
         ],
         "yaxis": "y"
        },
        {
         "hovertemplate": "inducer1_plus_concentration=LPS_0.01 µg/ml<br>umap_1=%{x}<br>umap_2=%{y}<extra></extra>",
         "legendgroup": "LPS_0.01 µg/ml",
         "marker": {
          "color": "#EF553B",
          "size": 12,
          "symbol": "circle"
         },
         "mode": "markers",
         "name": "LPS_0.01 µg/ml",
         "orientation": "v",
         "showlegend": true,
         "type": "scatter",
         "x": [
          -0.30763254,
          0.13812338,
          2.7438068,
          -0.7146663
         ],
         "xaxis": "x",
         "y": [
          -3.5372932,
          -2.9093044,
          -2.6058297,
          -2.6608713
         ],
         "yaxis": "y"
        },
        {
         "hovertemplate": "inducer1_plus_concentration=LPS_0.1 µg/ml<br>umap_1=%{x}<br>umap_2=%{y}<extra></extra>",
         "legendgroup": "LPS_0.1 µg/ml",
         "marker": {
          "color": "#00cc96",
          "size": 12,
          "symbol": "circle"
         },
         "mode": "markers",
         "name": "LPS_0.1 µg/ml",
         "orientation": "v",
         "showlegend": true,
         "type": "scatter",
         "x": [
          2.77185,
          5.51405,
          -2.263829,
          3.6216087
         ],
         "xaxis": "x",
         "y": [
          -1.8741945,
          -1.9311751,
          -4.1420074,
          -0.19181824
         ],
         "yaxis": "y"
        },
        {
         "hovertemplate": "inducer1_plus_concentration=Flagellin_0.1 µg/ml<br>umap_1=%{x}<br>umap_2=%{y}<extra></extra>",
         "legendgroup": "Flagellin_0.1 µg/ml",
         "marker": {
          "color": "#ab63fa",
          "size": 12,
          "symbol": "circle"
         },
         "mode": "markers",
         "name": "Flagellin_0.1 µg/ml",
         "orientation": "v",
         "showlegend": true,
         "type": "scatter",
         "x": [
          0.46250457,
          1.0159168,
          2.5721278,
          2.017739
         ],
         "xaxis": "x",
         "y": [
          -0.0035098777,
          -1.9692736,
          1.002692,
          0.6858446
         ],
         "yaxis": "y"
        },
        {
         "hovertemplate": "inducer1_plus_concentration=Disulfiram_0.1 µM<br>umap_1=%{x}<br>umap_2=%{y}<extra></extra>",
         "legendgroup": "Disulfiram_0.1 µM",
         "marker": {
          "color": "#FFA15A",
          "size": 12,
          "symbol": "circle"
         },
         "mode": "markers",
         "name": "Disulfiram_0.1 µM",
         "orientation": "v",
         "showlegend": true,
         "type": "scatter",
         "x": [
          -1.6205006,
          3.4757261,
          3.3003976,
          2.759796
         ],
         "xaxis": "x",
         "y": [
          -4.621443,
          -2.7089777,
          -0.5895061,
          2.8824668
         ],
         "yaxis": "y"
        },
        {
         "hovertemplate": "inducer1_plus_concentration=LPS_1 µg/ml<br>umap_1=%{x}<br>umap_2=%{y}<extra></extra>",
         "legendgroup": "LPS_1 µg/ml",
         "marker": {
          "color": "#19d3f3",
          "size": 12,
          "symbol": "circle"
         },
         "mode": "markers",
         "name": "LPS_1 µg/ml",
         "orientation": "v",
         "showlegend": true,
         "type": "scatter",
         "x": [
          3.8057098,
          4.5600123,
          1.0926384,
          6.35705,
          2.5894647,
          3.98992,
          -0.20132582,
          -0.111835025,
          2.8012028,
          3.8883772,
          -1.5635864,
          0.096096486,
          -0.062347487,
          -0.72429395,
          -1.1959302,
          1.7450166,
          0.39395136,
          -0.13855955,
          2.163698,
          3.1174016,
          0.6942509,
          -0.0034257357,
          1.7916985,
          1.554746
         ],
         "xaxis": "x",
         "y": [
          3.0150144,
          -1.9816705,
          -0.45651326,
          0.088830896,
          -3.9878926,
          1.6995785,
          0.07365309,
          -0.7406483,
          -1.6206529,
          -3.5680456,
          -0.44336987,
          0.99032015,
          -1.9978427,
          -2.6549594,
          -2.4351385,
          3.2586997,
          -1.122043,
          -4.844752,
          1.9382529,
          -0.46387872,
          -3.838279,
          -5.741167,
          0.9994211,
          -1.5075758
         ],
         "yaxis": "y"
        },
        {
         "hovertemplate": "inducer1_plus_concentration=Flagellin_1 µg/ml<br>umap_1=%{x}<br>umap_2=%{y}<extra></extra>",
         "legendgroup": "Flagellin_1 µg/ml",
         "marker": {
          "color": "#FF6692",
          "size": 12,
          "symbol": "circle"
         },
         "mode": "markers",
         "name": "Flagellin_1 µg/ml",
         "orientation": "v",
         "showlegend": true,
         "type": "scatter",
         "x": [
          1.8952091,
          0.43702486,
          -1.2815189,
          0.82547367,
          -1.908886,
          2.8066797,
          -1.335882,
          -1.3755981
         ],
         "xaxis": "x",
         "y": [
          -3.2061868,
          -1.0819412,
          -4.0814033,
          0.49949732,
          -0.9939553,
          -3.0524502,
          -1.5605315,
          -2.8894062
         ],
         "yaxis": "y"
        },
        {
         "hovertemplate": "inducer1_plus_concentration=Thapsigargin_1 µM<br>umap_1=%{x}<br>umap_2=%{y}<extra></extra>",
         "legendgroup": "Thapsigargin_1 µM",
         "marker": {
          "color": "#B6E880",
          "size": 12,
          "symbol": "circle"
         },
         "mode": "markers",
         "name": "Thapsigargin_1 µM",
         "orientation": "v",
         "showlegend": true,
         "type": "scatter",
         "x": [
          3.306102,
          0.06579472,
          -2.0993752,
          4.038719
         ],
         "xaxis": "x",
         "y": [
          -0.8790393,
          -3.1558402,
          -1.0988141,
          -0.02745574
         ],
         "yaxis": "y"
        },
        {
         "hovertemplate": "inducer1_plus_concentration=Disulfiram_1 µM<br>umap_1=%{x}<br>umap_2=%{y}<extra></extra>",
         "legendgroup": "Disulfiram_1 µM",
         "marker": {
          "color": "#FF97FF",
          "size": 12,
          "symbol": "circle"
         },
         "mode": "markers",
         "name": "Disulfiram_1 µM",
         "orientation": "v",
         "showlegend": true,
         "type": "scatter",
         "x": [
          -1.0240033,
          5.262348,
          0.24769938,
          1.5518482
         ],
         "xaxis": "x",
         "y": [
          -3.2855794,
          -0.64698064,
          1.7140702,
          1.4085345
         ],
         "yaxis": "y"
        },
        {
         "hovertemplate": "inducer1_plus_concentration=Topotecan_10 nM<br>umap_1=%{x}<br>umap_2=%{y}<extra></extra>",
         "legendgroup": "Topotecan_10 nM",
         "marker": {
          "color": "#FECB52",
          "size": 12,
          "symbol": "circle"
         },
         "mode": "markers",
         "name": "Topotecan_10 nM",
         "orientation": "v",
         "showlegend": true,
         "type": "scatter",
         "x": [
          2.33868,
          3.04885,
          1.9244809,
          0.70065
         ],
         "xaxis": "x",
         "y": [
          -5.193192,
          0.2213751,
          -4.237294,
          -4.8241005
         ],
         "yaxis": "y"
        },
        {
         "hovertemplate": "inducer1_plus_concentration=LPS_10 µg/ml<br>umap_1=%{x}<br>umap_2=%{y}<extra></extra>",
         "legendgroup": "LPS_10 µg/ml",
         "marker": {
          "color": "#636efa",
          "size": 12,
          "symbol": "circle"
         },
         "mode": "markers",
         "name": "LPS_10 µg/ml",
         "orientation": "v",
         "showlegend": true,
         "type": "scatter",
         "x": [
          0.8717699,
          1.2521867,
          4.4268875,
          1.8586261,
          2.1290054,
          1.2956772,
          0.6042867,
          1.840358,
          1.8015786,
          2.2277389,
          -0.40609017,
          4.4027667,
          3.484418,
          1.0134791,
          -0.5007507,
          1.6587365,
          4.824284,
          5.5842085,
          6.2321153,
          4.3421497
         ],
         "xaxis": "x",
         "y": [
          -1.1920989,
          -5.8472867,
          2.6464136,
          -2.4039338,
          0.0010334076,
          -0.07899789,
          -0.47947875,
          0.48707315,
          -5.3593554,
          -3.2106664,
          0.4820288,
          -2.8904371,
          -1.0566962,
          -4.092858,
          1.680379,
          1.8170186,
          0.8023376,
          0.8115232,
          -0.6602986,
          -0.5574173
         ],
         "yaxis": "y"
        },
        {
         "hovertemplate": "inducer1_plus_concentration=Thapsigargin_10 µM<br>umap_1=%{x}<br>umap_2=%{y}<extra></extra>",
         "legendgroup": "Thapsigargin_10 µM",
         "marker": {
          "color": "#EF553B",
          "size": 12,
          "symbol": "circle"
         },
         "mode": "markers",
         "name": "Thapsigargin_10 µM",
         "orientation": "v",
         "showlegend": true,
         "type": "scatter",
         "x": [
          -0.06715707,
          3.4154425,
          2.1869645,
          0.60935277
         ],
         "xaxis": "x",
         "y": [
          2.3687627,
          -4.2170997,
          -3.8866527,
          -3.2989886
         ],
         "yaxis": "y"
        },
        {
         "hovertemplate": "inducer1_plus_concentration=H2O2_100 nM<br>umap_1=%{x}<br>umap_2=%{y}<extra></extra>",
         "legendgroup": "H2O2_100 nM",
         "marker": {
          "color": "#00cc96",
          "size": 12,
          "symbol": "circle"
         },
         "mode": "markers",
         "name": "H2O2_100 nM",
         "orientation": "v",
         "showlegend": true,
         "type": "scatter",
         "x": [
          0.95214844,
          3.8028088,
          -1.4173982,
          1.7919037
         ],
         "xaxis": "x",
         "y": [
          2.4151082,
          -2.8685038,
          0.045974623,
          2.563652
         ],
         "yaxis": "y"
        },
        {
         "hovertemplate": "inducer1_plus_concentration=H2O2_100 µM<br>umap_1=%{x}<br>umap_2=%{y}<extra></extra>",
         "legendgroup": "H2O2_100 µM",
         "marker": {
          "color": "#ab63fa",
          "size": 12,
          "symbol": "circle"
         },
         "mode": "markers",
         "name": "H2O2_100 µM",
         "orientation": "v",
         "showlegend": true,
         "type": "scatter",
         "x": [
          1.4726647,
          1.5219876,
          4.944673,
          0.99162424,
          2.7102191,
          1.7271571,
          4.5013294,
          -0.9509096,
          4.795643,
          2.041314,
          2.90896,
          2.2849002
         ],
         "xaxis": "x",
         "y": [
          -2.406135,
          -3.9686995,
          -1.1645284,
          -0.94816345,
          -0.9208084,
          -1.0371133,
          -0.75372505,
          -0.88099104,
          -1.6148884,
          -1.5324372,
          0.7054848,
          -0.47865927
         ],
         "yaxis": "y"
        },
        {
         "hovertemplate": "inducer1_plus_concentration=LPS_100 µg/ml<br>umap_1=%{x}<br>umap_2=%{y}<extra></extra>",
         "legendgroup": "LPS_100 µg/ml",
         "marker": {
          "color": "#FFA15A",
          "size": 12,
          "symbol": "circle"
         },
         "mode": "markers",
         "name": "LPS_100 µg/ml",
         "orientation": "v",
         "showlegend": true,
         "type": "scatter",
         "x": [
          3.1962097,
          -0.7754246,
          -1.4185185,
          1.5260901,
          3.4651597,
          1.3919349,
          1.6784534,
          -0.86554074,
          0.014157203,
          -0.29921147,
          0.8955691,
          -1.7783887,
          0.15666766,
          1.1295868,
          1.0003396,
          4.2776604
         ],
         "xaxis": "x",
         "y": [
          0.45415738,
          -5.460584,
          -3.4174383,
          -2.8948302,
          -2.259443,
          -3.6712573,
          -5.5609674,
          -1.4523237,
          -4.102752,
          -6.0543923,
          -3.373828,
          -3.7084346,
          -5.0847716,
          -4.4502864,
          0.59380955,
          1.3658203
         ],
         "yaxis": "y"
        },
        {
         "hovertemplate": "inducer1_plus_concentration=Disulfiram_2.5 µM<br>umap_1=%{x}<br>umap_2=%{y}<extra></extra>",
         "legendgroup": "Disulfiram_2.5 µM",
         "marker": {
          "color": "#19d3f3",
          "size": 12,
          "symbol": "circle"
         },
         "mode": "markers",
         "name": "Disulfiram_2.5 µM",
         "orientation": "v",
         "showlegend": true,
         "type": "scatter",
         "x": [
          0.7924433,
          0.53153694,
          -0.78907835,
          0.7618294
         ],
         "xaxis": "x",
         "y": [
          -1.4014714,
          -1.9429599,
          -0.7694029,
          2.0206733
         ],
         "yaxis": "y"
        },
        {
         "hovertemplate": "inducer1_plus_concentration=Topotecan_20 nM<br>umap_1=%{x}<br>umap_2=%{y}<extra></extra>",
         "legendgroup": "Topotecan_20 nM",
         "marker": {
          "color": "#FF6692",
          "size": 12,
          "symbol": "circle"
         },
         "mode": "markers",
         "name": "Topotecan_20 nM",
         "orientation": "v",
         "showlegend": true,
         "type": "scatter",
         "x": [
          2.3465796,
          0.19613889,
          4.901178,
          0.034825135
         ],
         "xaxis": "x",
         "y": [
          -2.1107337,
          -2.0816624,
          0.28612754,
          -3.6267388
         ],
         "yaxis": "y"
        },
        {
         "hovertemplate": "inducer1_plus_concentration=Topotecan_5 nM<br>umap_1=%{x}<br>umap_2=%{y}<extra></extra>",
         "legendgroup": "Topotecan_5 nM",
         "marker": {
          "color": "#B6E880",
          "size": 12,
          "symbol": "circle"
         },
         "mode": "markers",
         "name": "Topotecan_5 nM",
         "orientation": "v",
         "showlegend": true,
         "type": "scatter",
         "x": [
          2.5110965,
          2.6940186,
          5.2089562,
          3.1067216
         ],
         "xaxis": "x",
         "y": [
          -0.7501291,
          -2.0406394,
          1.9864867,
          -3.3888292
         ],
         "yaxis": "y"
        }
       ],
       "layout": {
        "legend": {
         "title": {
          "text": "inducer1_plus_concentration"
         },
         "tracegroupgap": 0
        },
        "template": {
         "data": {
          "bar": [
           {
            "error_x": {
             "color": "#2a3f5f"
            },
            "error_y": {
             "color": "#2a3f5f"
            },
            "marker": {
             "line": {
              "color": "#E5ECF6",
              "width": 0.5
             },
             "pattern": {
              "fillmode": "overlay",
              "size": 10,
              "solidity": 0.2
             }
            },
            "type": "bar"
           }
          ],
          "barpolar": [
           {
            "marker": {
             "line": {
              "color": "#E5ECF6",
              "width": 0.5
             },
             "pattern": {
              "fillmode": "overlay",
              "size": 10,
              "solidity": 0.2
             }
            },
            "type": "barpolar"
           }
          ],
          "carpet": [
           {
            "aaxis": {
             "endlinecolor": "#2a3f5f",
             "gridcolor": "white",
             "linecolor": "white",
             "minorgridcolor": "white",
             "startlinecolor": "#2a3f5f"
            },
            "baxis": {
             "endlinecolor": "#2a3f5f",
             "gridcolor": "white",
             "linecolor": "white",
             "minorgridcolor": "white",
             "startlinecolor": "#2a3f5f"
            },
            "type": "carpet"
           }
          ],
          "choropleth": [
           {
            "colorbar": {
             "outlinewidth": 0,
             "ticks": ""
            },
            "type": "choropleth"
           }
          ],
          "contour": [
           {
            "colorbar": {
             "outlinewidth": 0,
             "ticks": ""
            },
            "colorscale": [
             [
              0,
              "#0d0887"
             ],
             [
              0.1111111111111111,
              "#46039f"
             ],
             [
              0.2222222222222222,
              "#7201a8"
             ],
             [
              0.3333333333333333,
              "#9c179e"
             ],
             [
              0.4444444444444444,
              "#bd3786"
             ],
             [
              0.5555555555555556,
              "#d8576b"
             ],
             [
              0.6666666666666666,
              "#ed7953"
             ],
             [
              0.7777777777777778,
              "#fb9f3a"
             ],
             [
              0.8888888888888888,
              "#fdca26"
             ],
             [
              1,
              "#f0f921"
             ]
            ],
            "type": "contour"
           }
          ],
          "contourcarpet": [
           {
            "colorbar": {
             "outlinewidth": 0,
             "ticks": ""
            },
            "type": "contourcarpet"
           }
          ],
          "heatmap": [
           {
            "colorbar": {
             "outlinewidth": 0,
             "ticks": ""
            },
            "colorscale": [
             [
              0,
              "#0d0887"
             ],
             [
              0.1111111111111111,
              "#46039f"
             ],
             [
              0.2222222222222222,
              "#7201a8"
             ],
             [
              0.3333333333333333,
              "#9c179e"
             ],
             [
              0.4444444444444444,
              "#bd3786"
             ],
             [
              0.5555555555555556,
              "#d8576b"
             ],
             [
              0.6666666666666666,
              "#ed7953"
             ],
             [
              0.7777777777777778,
              "#fb9f3a"
             ],
             [
              0.8888888888888888,
              "#fdca26"
             ],
             [
              1,
              "#f0f921"
             ]
            ],
            "type": "heatmap"
           }
          ],
          "heatmapgl": [
           {
            "colorbar": {
             "outlinewidth": 0,
             "ticks": ""
            },
            "colorscale": [
             [
              0,
              "#0d0887"
             ],
             [
              0.1111111111111111,
              "#46039f"
             ],
             [
              0.2222222222222222,
              "#7201a8"
             ],
             [
              0.3333333333333333,
              "#9c179e"
             ],
             [
              0.4444444444444444,
              "#bd3786"
             ],
             [
              0.5555555555555556,
              "#d8576b"
             ],
             [
              0.6666666666666666,
              "#ed7953"
             ],
             [
              0.7777777777777778,
              "#fb9f3a"
             ],
             [
              0.8888888888888888,
              "#fdca26"
             ],
             [
              1,
              "#f0f921"
             ]
            ],
            "type": "heatmapgl"
           }
          ],
          "histogram": [
           {
            "marker": {
             "pattern": {
              "fillmode": "overlay",
              "size": 10,
              "solidity": 0.2
             }
            },
            "type": "histogram"
           }
          ],
          "histogram2d": [
           {
            "colorbar": {
             "outlinewidth": 0,
             "ticks": ""
            },
            "colorscale": [
             [
              0,
              "#0d0887"
             ],
             [
              0.1111111111111111,
              "#46039f"
             ],
             [
              0.2222222222222222,
              "#7201a8"
             ],
             [
              0.3333333333333333,
              "#9c179e"
             ],
             [
              0.4444444444444444,
              "#bd3786"
             ],
             [
              0.5555555555555556,
              "#d8576b"
             ],
             [
              0.6666666666666666,
              "#ed7953"
             ],
             [
              0.7777777777777778,
              "#fb9f3a"
             ],
             [
              0.8888888888888888,
              "#fdca26"
             ],
             [
              1,
              "#f0f921"
             ]
            ],
            "type": "histogram2d"
           }
          ],
          "histogram2dcontour": [
           {
            "colorbar": {
             "outlinewidth": 0,
             "ticks": ""
            },
            "colorscale": [
             [
              0,
              "#0d0887"
             ],
             [
              0.1111111111111111,
              "#46039f"
             ],
             [
              0.2222222222222222,
              "#7201a8"
             ],
             [
              0.3333333333333333,
              "#9c179e"
             ],
             [
              0.4444444444444444,
              "#bd3786"
             ],
             [
              0.5555555555555556,
              "#d8576b"
             ],
             [
              0.6666666666666666,
              "#ed7953"
             ],
             [
              0.7777777777777778,
              "#fb9f3a"
             ],
             [
              0.8888888888888888,
              "#fdca26"
             ],
             [
              1,
              "#f0f921"
             ]
            ],
            "type": "histogram2dcontour"
           }
          ],
          "mesh3d": [
           {
            "colorbar": {
             "outlinewidth": 0,
             "ticks": ""
            },
            "type": "mesh3d"
           }
          ],
          "parcoords": [
           {
            "line": {
             "colorbar": {
              "outlinewidth": 0,
              "ticks": ""
             }
            },
            "type": "parcoords"
           }
          ],
          "pie": [
           {
            "automargin": true,
            "type": "pie"
           }
          ],
          "scatter": [
           {
            "fillpattern": {
             "fillmode": "overlay",
             "size": 10,
             "solidity": 0.2
            },
            "type": "scatter"
           }
          ],
          "scatter3d": [
           {
            "line": {
             "colorbar": {
              "outlinewidth": 0,
              "ticks": ""
             }
            },
            "marker": {
             "colorbar": {
              "outlinewidth": 0,
              "ticks": ""
             }
            },
            "type": "scatter3d"
           }
          ],
          "scattercarpet": [
           {
            "marker": {
             "colorbar": {
              "outlinewidth": 0,
              "ticks": ""
             }
            },
            "type": "scattercarpet"
           }
          ],
          "scattergeo": [
           {
            "marker": {
             "colorbar": {
              "outlinewidth": 0,
              "ticks": ""
             }
            },
            "type": "scattergeo"
           }
          ],
          "scattergl": [
           {
            "marker": {
             "colorbar": {
              "outlinewidth": 0,
              "ticks": ""
             }
            },
            "type": "scattergl"
           }
          ],
          "scattermapbox": [
           {
            "marker": {
             "colorbar": {
              "outlinewidth": 0,
              "ticks": ""
             }
            },
            "type": "scattermapbox"
           }
          ],
          "scatterpolar": [
           {
            "marker": {
             "colorbar": {
              "outlinewidth": 0,
              "ticks": ""
             }
            },
            "type": "scatterpolar"
           }
          ],
          "scatterpolargl": [
           {
            "marker": {
             "colorbar": {
              "outlinewidth": 0,
              "ticks": ""
             }
            },
            "type": "scatterpolargl"
           }
          ],
          "scatterternary": [
           {
            "marker": {
             "colorbar": {
              "outlinewidth": 0,
              "ticks": ""
             }
            },
            "type": "scatterternary"
           }
          ],
          "surface": [
           {
            "colorbar": {
             "outlinewidth": 0,
             "ticks": ""
            },
            "colorscale": [
             [
              0,
              "#0d0887"
             ],
             [
              0.1111111111111111,
              "#46039f"
             ],
             [
              0.2222222222222222,
              "#7201a8"
             ],
             [
              0.3333333333333333,
              "#9c179e"
             ],
             [
              0.4444444444444444,
              "#bd3786"
             ],
             [
              0.5555555555555556,
              "#d8576b"
             ],
             [
              0.6666666666666666,
              "#ed7953"
             ],
             [
              0.7777777777777778,
              "#fb9f3a"
             ],
             [
              0.8888888888888888,
              "#fdca26"
             ],
             [
              1,
              "#f0f921"
             ]
            ],
            "type": "surface"
           }
          ],
          "table": [
           {
            "cells": {
             "fill": {
              "color": "#EBF0F8"
             },
             "line": {
              "color": "white"
             }
            },
            "header": {
             "fill": {
              "color": "#C8D4E3"
             },
             "line": {
              "color": "white"
             }
            },
            "type": "table"
           }
          ]
         },
         "layout": {
          "annotationdefaults": {
           "arrowcolor": "#2a3f5f",
           "arrowhead": 0,
           "arrowwidth": 1
          },
          "autotypenumbers": "strict",
          "coloraxis": {
           "colorbar": {
            "outlinewidth": 0,
            "ticks": ""
           }
          },
          "colorscale": {
           "diverging": [
            [
             0,
             "#8e0152"
            ],
            [
             0.1,
             "#c51b7d"
            ],
            [
             0.2,
             "#de77ae"
            ],
            [
             0.3,
             "#f1b6da"
            ],
            [
             0.4,
             "#fde0ef"
            ],
            [
             0.5,
             "#f7f7f7"
            ],
            [
             0.6,
             "#e6f5d0"
            ],
            [
             0.7,
             "#b8e186"
            ],
            [
             0.8,
             "#7fbc41"
            ],
            [
             0.9,
             "#4d9221"
            ],
            [
             1,
             "#276419"
            ]
           ],
           "sequential": [
            [
             0,
             "#0d0887"
            ],
            [
             0.1111111111111111,
             "#46039f"
            ],
            [
             0.2222222222222222,
             "#7201a8"
            ],
            [
             0.3333333333333333,
             "#9c179e"
            ],
            [
             0.4444444444444444,
             "#bd3786"
            ],
            [
             0.5555555555555556,
             "#d8576b"
            ],
            [
             0.6666666666666666,
             "#ed7953"
            ],
            [
             0.7777777777777778,
             "#fb9f3a"
            ],
            [
             0.8888888888888888,
             "#fdca26"
            ],
            [
             1,
             "#f0f921"
            ]
           ],
           "sequentialminus": [
            [
             0,
             "#0d0887"
            ],
            [
             0.1111111111111111,
             "#46039f"
            ],
            [
             0.2222222222222222,
             "#7201a8"
            ],
            [
             0.3333333333333333,
             "#9c179e"
            ],
            [
             0.4444444444444444,
             "#bd3786"
            ],
            [
             0.5555555555555556,
             "#d8576b"
            ],
            [
             0.6666666666666666,
             "#ed7953"
            ],
            [
             0.7777777777777778,
             "#fb9f3a"
            ],
            [
             0.8888888888888888,
             "#fdca26"
            ],
            [
             1,
             "#f0f921"
            ]
           ]
          },
          "colorway": [
           "#636efa",
           "#EF553B",
           "#00cc96",
           "#ab63fa",
           "#FFA15A",
           "#19d3f3",
           "#FF6692",
           "#B6E880",
           "#FF97FF",
           "#FECB52"
          ],
          "font": {
           "color": "#2a3f5f"
          },
          "geo": {
           "bgcolor": "white",
           "lakecolor": "white",
           "landcolor": "#E5ECF6",
           "showlakes": true,
           "showland": true,
           "subunitcolor": "white"
          },
          "hoverlabel": {
           "align": "left"
          },
          "hovermode": "closest",
          "mapbox": {
           "style": "light"
          },
          "paper_bgcolor": "white",
          "plot_bgcolor": "#E5ECF6",
          "polar": {
           "angularaxis": {
            "gridcolor": "white",
            "linecolor": "white",
            "ticks": ""
           },
           "bgcolor": "#E5ECF6",
           "radialaxis": {
            "gridcolor": "white",
            "linecolor": "white",
            "ticks": ""
           }
          },
          "scene": {
           "xaxis": {
            "backgroundcolor": "#E5ECF6",
            "gridcolor": "white",
            "gridwidth": 2,
            "linecolor": "white",
            "showbackground": true,
            "ticks": "",
            "zerolinecolor": "white"
           },
           "yaxis": {
            "backgroundcolor": "#E5ECF6",
            "gridcolor": "white",
            "gridwidth": 2,
            "linecolor": "white",
            "showbackground": true,
            "ticks": "",
            "zerolinecolor": "white"
           },
           "zaxis": {
            "backgroundcolor": "#E5ECF6",
            "gridcolor": "white",
            "gridwidth": 2,
            "linecolor": "white",
            "showbackground": true,
            "ticks": "",
            "zerolinecolor": "white"
           }
          },
          "shapedefaults": {
           "line": {
            "color": "#2a3f5f"
           }
          },
          "ternary": {
           "aaxis": {
            "gridcolor": "white",
            "linecolor": "white",
            "ticks": ""
           },
           "baxis": {
            "gridcolor": "white",
            "linecolor": "white",
            "ticks": ""
           },
           "bgcolor": "#E5ECF6",
           "caxis": {
            "gridcolor": "white",
            "linecolor": "white",
            "ticks": ""
           }
          },
          "title": {
           "x": 0.05
          },
          "xaxis": {
           "automargin": true,
           "gridcolor": "white",
           "linecolor": "white",
           "ticks": "",
           "title": {
            "standoff": 15
           },
           "zerolinecolor": "white",
           "zerolinewidth": 2
          },
          "yaxis": {
           "automargin": true,
           "gridcolor": "white",
           "linecolor": "white",
           "ticks": "",
           "title": {
            "standoff": 15
           },
           "zerolinecolor": "white",
           "zerolinewidth": 2
          }
         }
        },
        "title": {
         "text": "Umap projection of nELISA data colored by inducer1 plus concentration"
        },
        "xaxis": {
         "anchor": "y",
         "domain": [
          0,
          1
         ],
         "title": {
          "text": "UMAP_1"
         }
        },
        "yaxis": {
         "anchor": "x",
         "domain": [
          0,
          1
         ],
         "title": {
          "text": "UMAP_2"
         }
        }
       }
      }
     },
     "metadata": {},
     "output_type": "display_data"
    },
    {
     "data": {
      "application/vnd.plotly.v1+json": {
       "config": {
        "plotlyServerURL": "https://plot.ly"
       },
       "data": [
        {
         "hovertemplate": "inducer1_plus_inhibitor=DMSO_DMSO<br>umap_1=%{x}<br>umap_2=%{y}<extra></extra>",
         "legendgroup": "DMSO_DMSO",
         "marker": {
          "color": "#636efa",
          "size": 12,
          "symbol": "circle"
         },
         "mode": "markers",
         "name": "DMSO_DMSO",
         "orientation": "v",
         "showlegend": true,
         "type": "scatter",
         "x": [
          -0.8755083,
          1.5838473,
          1.0786864,
          -0.78794926,
          5.8573446,
          5.4184422,
          4.7761836,
          2.1831462,
          3.6735873,
          3.7675874,
          2.5135894,
          5.7879667
         ],
         "xaxis": "x",
         "y": [
          -4.1885633,
          -2.499391,
          -3.1033926,
          -4.534813,
          -0.4960135,
          1.3351856,
          3.158692,
          -1.1814513,
          -1.6844152,
          0.69756657,
          -4.326105,
          -1.3481507
         ],
         "yaxis": "y"
        },
        {
         "hovertemplate": "inducer1_plus_inhibitor=DMSO_Z-VAD-FMK<br>umap_1=%{x}<br>umap_2=%{y}<extra></extra>",
         "legendgroup": "DMSO_Z-VAD-FMK",
         "marker": {
          "color": "#EF553B",
          "size": 12,
          "symbol": "circle"
         },
         "mode": "markers",
         "name": "DMSO_Z-VAD-FMK",
         "orientation": "v",
         "showlegend": true,
         "type": "scatter",
         "x": [
          5.1319456,
          1.0562513,
          4.4814754,
          0.08978081,
          -0.85659796,
          5.3472223,
          -0.56476396,
          1.7782717
         ],
         "xaxis": "x",
         "y": [
          3.0045607,
          -5.245238,
          -3.2154033,
          -4.0766397,
          1.1121509,
          -2.1845114,
          -5.235062,
          -2.2485714
         ],
         "yaxis": "y"
        },
        {
         "hovertemplate": "inducer1_plus_inhibitor=LPS_DMSO<br>umap_1=%{x}<br>umap_2=%{y}<extra></extra>",
         "legendgroup": "LPS_DMSO",
         "marker": {
          "color": "#00cc96",
          "size": 12,
          "symbol": "circle"
         },
         "mode": "markers",
         "name": "LPS_DMSO",
         "orientation": "v",
         "showlegend": true,
         "type": "scatter",
         "x": [
          -0.30763254,
          0.13812338,
          2.7438068,
          -0.7146663,
          2.77185,
          5.51405,
          -2.263829,
          3.6216087,
          3.8057098,
          4.5600123,
          1.0926384,
          6.35705,
          2.5894647,
          3.98992,
          -0.20132582,
          -0.111835025,
          0.39395136,
          -0.13855955,
          2.163698,
          3.1174016,
          0.6942509,
          -0.0034257357,
          1.7916985,
          1.554746,
          0.8717699,
          1.2521867,
          4.4268875,
          1.8586261,
          3.1962097,
          -0.7754246,
          -1.4185185,
          1.5260901,
          3.4651597,
          1.3919349,
          1.6784534,
          -0.86554074,
          0.014157203,
          -0.29921147,
          0.8955691,
          -1.7783887,
          0.15666766,
          1.1295868,
          1.0003396,
          4.2776604
         ],
         "xaxis": "x",
         "y": [
          -3.5372932,
          -2.9093044,
          -2.6058297,
          -2.6608713,
          -1.8741945,
          -1.9311751,
          -4.1420074,
          -0.19181824,
          3.0150144,
          -1.9816705,
          -0.45651326,
          0.088830896,
          -3.9878926,
          1.6995785,
          0.07365309,
          -0.7406483,
          -1.122043,
          -4.844752,
          1.9382529,
          -0.46387872,
          -3.838279,
          -5.741167,
          0.9994211,
          -1.5075758,
          -1.1920989,
          -5.8472867,
          2.6464136,
          -2.4039338,
          0.45415738,
          -5.460584,
          -3.4174383,
          -2.8948302,
          -2.259443,
          -3.6712573,
          -5.5609674,
          -1.4523237,
          -4.102752,
          -6.0543923,
          -3.373828,
          -3.7084346,
          -5.0847716,
          -4.4502864,
          0.59380955,
          1.3658203
         ],
         "yaxis": "y"
        },
        {
         "hovertemplate": "inducer1_plus_inhibitor=Flagellin_DMSO<br>umap_1=%{x}<br>umap_2=%{y}<extra></extra>",
         "legendgroup": "Flagellin_DMSO",
         "marker": {
          "color": "#ab63fa",
          "size": 12,
          "symbol": "circle"
         },
         "mode": "markers",
         "name": "Flagellin_DMSO",
         "orientation": "v",
         "showlegend": true,
         "type": "scatter",
         "x": [
          0.46250457,
          1.0159168,
          2.5721278,
          2.017739,
          1.8952091,
          0.43702486,
          -1.2815189,
          0.82547367
         ],
         "xaxis": "x",
         "y": [
          -0.0035098777,
          -1.9692736,
          1.002692,
          0.6858446,
          -3.2061868,
          -1.0819412,
          -4.0814033,
          0.49949732
         ],
         "yaxis": "y"
        },
        {
         "hovertemplate": "inducer1_plus_inhibitor=Disulfiram_DMSO<br>umap_1=%{x}<br>umap_2=%{y}<extra></extra>",
         "legendgroup": "Disulfiram_DMSO",
         "marker": {
          "color": "#FFA15A",
          "size": 12,
          "symbol": "circle"
         },
         "mode": "markers",
         "name": "Disulfiram_DMSO",
         "orientation": "v",
         "showlegend": true,
         "type": "scatter",
         "x": [
          -1.6205006,
          3.4757261,
          3.3003976,
          2.759796,
          -1.0240033,
          5.262348,
          0.24769938,
          1.5518482,
          0.7924433,
          0.53153694,
          -0.78907835,
          0.7618294
         ],
         "xaxis": "x",
         "y": [
          -4.621443,
          -2.7089777,
          -0.5895061,
          2.8824668,
          -3.2855794,
          -0.64698064,
          1.7140702,
          1.4085345,
          -1.4014714,
          -1.9429599,
          -0.7694029,
          2.0206733
         ],
         "yaxis": "y"
        },
        {
         "hovertemplate": "inducer1_plus_inhibitor=LPS_Disulfiram<br>umap_1=%{x}<br>umap_2=%{y}<extra></extra>",
         "legendgroup": "LPS_Disulfiram",
         "marker": {
          "color": "#19d3f3",
          "size": 12,
          "symbol": "circle"
         },
         "mode": "markers",
         "name": "LPS_Disulfiram",
         "orientation": "v",
         "showlegend": true,
         "type": "scatter",
         "x": [
          2.8012028,
          3.8883772,
          -1.5635864,
          0.096096486,
          2.1290054,
          1.2956772,
          0.6042867,
          1.840358,
          1.8015786,
          2.2277389,
          -0.40609017,
          4.4027667,
          3.484418,
          1.0134791,
          -0.5007507,
          1.6587365
         ],
         "xaxis": "x",
         "y": [
          -1.6206529,
          -3.5680456,
          -0.44336987,
          0.99032015,
          0.0010334076,
          -0.07899789,
          -0.47947875,
          0.48707315,
          -5.3593554,
          -3.2106664,
          0.4820288,
          -2.8904371,
          -1.0566962,
          -4.092858,
          1.680379,
          1.8170186
         ],
         "yaxis": "y"
        },
        {
         "hovertemplate": "inducer1_plus_inhibitor=LPS_Z-VAD-FMK<br>umap_1=%{x}<br>umap_2=%{y}<extra></extra>",
         "legendgroup": "LPS_Z-VAD-FMK",
         "marker": {
          "color": "#FF6692",
          "size": 12,
          "symbol": "circle"
         },
         "mode": "markers",
         "name": "LPS_Z-VAD-FMK",
         "orientation": "v",
         "showlegend": true,
         "type": "scatter",
         "x": [
          -0.062347487,
          -0.72429395,
          -1.1959302,
          1.7450166,
          4.824284,
          5.5842085,
          6.2321153,
          4.3421497
         ],
         "xaxis": "x",
         "y": [
          -1.9978427,
          -2.6549594,
          -2.4351385,
          3.2586997,
          0.8023376,
          0.8115232,
          -0.6602986,
          -0.5574173
         ],
         "yaxis": "y"
        },
        {
         "hovertemplate": "inducer1_plus_inhibitor=Flagellin_Disulfiram<br>umap_1=%{x}<br>umap_2=%{y}<extra></extra>",
         "legendgroup": "Flagellin_Disulfiram",
         "marker": {
          "color": "#B6E880",
          "size": 12,
          "symbol": "circle"
         },
         "mode": "markers",
         "name": "Flagellin_Disulfiram",
         "orientation": "v",
         "showlegend": true,
         "type": "scatter",
         "x": [
          -1.908886,
          2.8066797,
          -1.335882,
          -1.3755981
         ],
         "xaxis": "x",
         "y": [
          -0.9939553,
          -3.0524502,
          -1.5605315,
          -2.8894062
         ],
         "yaxis": "y"
        },
        {
         "hovertemplate": "inducer1_plus_inhibitor=Thapsigargin_DMSO<br>umap_1=%{x}<br>umap_2=%{y}<extra></extra>",
         "legendgroup": "Thapsigargin_DMSO",
         "marker": {
          "color": "#FF97FF",
          "size": 12,
          "symbol": "circle"
         },
         "mode": "markers",
         "name": "Thapsigargin_DMSO",
         "orientation": "v",
         "showlegend": true,
         "type": "scatter",
         "x": [
          3.306102,
          0.06579472,
          -2.0993752,
          4.038719,
          -0.06715707,
          3.4154425,
          2.1869645,
          0.60935277
         ],
         "xaxis": "x",
         "y": [
          -0.8790393,
          -3.1558402,
          -1.0988141,
          -0.02745574,
          2.3687627,
          -4.2170997,
          -3.8866527,
          -3.2989886
         ],
         "yaxis": "y"
        },
        {
         "hovertemplate": "inducer1_plus_inhibitor=Topotecan_DMSO<br>umap_1=%{x}<br>umap_2=%{y}<extra></extra>",
         "legendgroup": "Topotecan_DMSO",
         "marker": {
          "color": "#FECB52",
          "size": 12,
          "symbol": "circle"
         },
         "mode": "markers",
         "name": "Topotecan_DMSO",
         "orientation": "v",
         "showlegend": true,
         "type": "scatter",
         "x": [
          2.33868,
          3.04885,
          1.9244809,
          0.70065,
          2.3465796,
          0.19613889,
          4.901178,
          0.034825135,
          2.5110965,
          2.6940186,
          5.2089562,
          3.1067216
         ],
         "xaxis": "x",
         "y": [
          -5.193192,
          0.2213751,
          -4.237294,
          -4.8241005,
          -2.1107337,
          -2.0816624,
          0.28612754,
          -3.6267388,
          -0.7501291,
          -2.0406394,
          1.9864867,
          -3.3888292
         ],
         "yaxis": "y"
        },
        {
         "hovertemplate": "inducer1_plus_inhibitor=H2O2_DMSO<br>umap_1=%{x}<br>umap_2=%{y}<extra></extra>",
         "legendgroup": "H2O2_DMSO",
         "marker": {
          "color": "#636efa",
          "size": 12,
          "symbol": "circle"
         },
         "mode": "markers",
         "name": "H2O2_DMSO",
         "orientation": "v",
         "showlegend": true,
         "type": "scatter",
         "x": [
          0.95214844,
          3.8028088,
          -1.4173982,
          1.7919037,
          1.4726647,
          1.5219876,
          4.944673,
          0.99162424
         ],
         "xaxis": "x",
         "y": [
          2.4151082,
          -2.8685038,
          0.045974623,
          2.563652,
          -2.406135,
          -3.9686995,
          -1.1645284,
          -0.94816345
         ],
         "yaxis": "y"
        },
        {
         "hovertemplate": "inducer1_plus_inhibitor=H2O2_Disulfiram<br>umap_1=%{x}<br>umap_2=%{y}<extra></extra>",
         "legendgroup": "H2O2_Disulfiram",
         "marker": {
          "color": "#EF553B",
          "size": 12,
          "symbol": "circle"
         },
         "mode": "markers",
         "name": "H2O2_Disulfiram",
         "orientation": "v",
         "showlegend": true,
         "type": "scatter",
         "x": [
          2.7102191,
          1.7271571,
          4.5013294,
          -0.9509096
         ],
         "xaxis": "x",
         "y": [
          -0.9208084,
          -1.0371133,
          -0.75372505,
          -0.88099104
         ],
         "yaxis": "y"
        },
        {
         "hovertemplate": "inducer1_plus_inhibitor=H2O2_Z-VAD-FMK<br>umap_1=%{x}<br>umap_2=%{y}<extra></extra>",
         "legendgroup": "H2O2_Z-VAD-FMK",
         "marker": {
          "color": "#00cc96",
          "size": 12,
          "symbol": "circle"
         },
         "mode": "markers",
         "name": "H2O2_Z-VAD-FMK",
         "orientation": "v",
         "showlegend": true,
         "type": "scatter",
         "x": [
          4.795643,
          2.041314,
          2.90896,
          2.2849002
         ],
         "xaxis": "x",
         "y": [
          -1.6148884,
          -1.5324372,
          0.7054848,
          -0.47865927
         ],
         "yaxis": "y"
        }
       ],
       "layout": {
        "legend": {
         "title": {
          "text": "inducer1_plus_inhibitor"
         },
         "tracegroupgap": 0
        },
        "template": {
         "data": {
          "bar": [
           {
            "error_x": {
             "color": "#2a3f5f"
            },
            "error_y": {
             "color": "#2a3f5f"
            },
            "marker": {
             "line": {
              "color": "#E5ECF6",
              "width": 0.5
             },
             "pattern": {
              "fillmode": "overlay",
              "size": 10,
              "solidity": 0.2
             }
            },
            "type": "bar"
           }
          ],
          "barpolar": [
           {
            "marker": {
             "line": {
              "color": "#E5ECF6",
              "width": 0.5
             },
             "pattern": {
              "fillmode": "overlay",
              "size": 10,
              "solidity": 0.2
             }
            },
            "type": "barpolar"
           }
          ],
          "carpet": [
           {
            "aaxis": {
             "endlinecolor": "#2a3f5f",
             "gridcolor": "white",
             "linecolor": "white",
             "minorgridcolor": "white",
             "startlinecolor": "#2a3f5f"
            },
            "baxis": {
             "endlinecolor": "#2a3f5f",
             "gridcolor": "white",
             "linecolor": "white",
             "minorgridcolor": "white",
             "startlinecolor": "#2a3f5f"
            },
            "type": "carpet"
           }
          ],
          "choropleth": [
           {
            "colorbar": {
             "outlinewidth": 0,
             "ticks": ""
            },
            "type": "choropleth"
           }
          ],
          "contour": [
           {
            "colorbar": {
             "outlinewidth": 0,
             "ticks": ""
            },
            "colorscale": [
             [
              0,
              "#0d0887"
             ],
             [
              0.1111111111111111,
              "#46039f"
             ],
             [
              0.2222222222222222,
              "#7201a8"
             ],
             [
              0.3333333333333333,
              "#9c179e"
             ],
             [
              0.4444444444444444,
              "#bd3786"
             ],
             [
              0.5555555555555556,
              "#d8576b"
             ],
             [
              0.6666666666666666,
              "#ed7953"
             ],
             [
              0.7777777777777778,
              "#fb9f3a"
             ],
             [
              0.8888888888888888,
              "#fdca26"
             ],
             [
              1,
              "#f0f921"
             ]
            ],
            "type": "contour"
           }
          ],
          "contourcarpet": [
           {
            "colorbar": {
             "outlinewidth": 0,
             "ticks": ""
            },
            "type": "contourcarpet"
           }
          ],
          "heatmap": [
           {
            "colorbar": {
             "outlinewidth": 0,
             "ticks": ""
            },
            "colorscale": [
             [
              0,
              "#0d0887"
             ],
             [
              0.1111111111111111,
              "#46039f"
             ],
             [
              0.2222222222222222,
              "#7201a8"
             ],
             [
              0.3333333333333333,
              "#9c179e"
             ],
             [
              0.4444444444444444,
              "#bd3786"
             ],
             [
              0.5555555555555556,
              "#d8576b"
             ],
             [
              0.6666666666666666,
              "#ed7953"
             ],
             [
              0.7777777777777778,
              "#fb9f3a"
             ],
             [
              0.8888888888888888,
              "#fdca26"
             ],
             [
              1,
              "#f0f921"
             ]
            ],
            "type": "heatmap"
           }
          ],
          "heatmapgl": [
           {
            "colorbar": {
             "outlinewidth": 0,
             "ticks": ""
            },
            "colorscale": [
             [
              0,
              "#0d0887"
             ],
             [
              0.1111111111111111,
              "#46039f"
             ],
             [
              0.2222222222222222,
              "#7201a8"
             ],
             [
              0.3333333333333333,
              "#9c179e"
             ],
             [
              0.4444444444444444,
              "#bd3786"
             ],
             [
              0.5555555555555556,
              "#d8576b"
             ],
             [
              0.6666666666666666,
              "#ed7953"
             ],
             [
              0.7777777777777778,
              "#fb9f3a"
             ],
             [
              0.8888888888888888,
              "#fdca26"
             ],
             [
              1,
              "#f0f921"
             ]
            ],
            "type": "heatmapgl"
           }
          ],
          "histogram": [
           {
            "marker": {
             "pattern": {
              "fillmode": "overlay",
              "size": 10,
              "solidity": 0.2
             }
            },
            "type": "histogram"
           }
          ],
          "histogram2d": [
           {
            "colorbar": {
             "outlinewidth": 0,
             "ticks": ""
            },
            "colorscale": [
             [
              0,
              "#0d0887"
             ],
             [
              0.1111111111111111,
              "#46039f"
             ],
             [
              0.2222222222222222,
              "#7201a8"
             ],
             [
              0.3333333333333333,
              "#9c179e"
             ],
             [
              0.4444444444444444,
              "#bd3786"
             ],
             [
              0.5555555555555556,
              "#d8576b"
             ],
             [
              0.6666666666666666,
              "#ed7953"
             ],
             [
              0.7777777777777778,
              "#fb9f3a"
             ],
             [
              0.8888888888888888,
              "#fdca26"
             ],
             [
              1,
              "#f0f921"
             ]
            ],
            "type": "histogram2d"
           }
          ],
          "histogram2dcontour": [
           {
            "colorbar": {
             "outlinewidth": 0,
             "ticks": ""
            },
            "colorscale": [
             [
              0,
              "#0d0887"
             ],
             [
              0.1111111111111111,
              "#46039f"
             ],
             [
              0.2222222222222222,
              "#7201a8"
             ],
             [
              0.3333333333333333,
              "#9c179e"
             ],
             [
              0.4444444444444444,
              "#bd3786"
             ],
             [
              0.5555555555555556,
              "#d8576b"
             ],
             [
              0.6666666666666666,
              "#ed7953"
             ],
             [
              0.7777777777777778,
              "#fb9f3a"
             ],
             [
              0.8888888888888888,
              "#fdca26"
             ],
             [
              1,
              "#f0f921"
             ]
            ],
            "type": "histogram2dcontour"
           }
          ],
          "mesh3d": [
           {
            "colorbar": {
             "outlinewidth": 0,
             "ticks": ""
            },
            "type": "mesh3d"
           }
          ],
          "parcoords": [
           {
            "line": {
             "colorbar": {
              "outlinewidth": 0,
              "ticks": ""
             }
            },
            "type": "parcoords"
           }
          ],
          "pie": [
           {
            "automargin": true,
            "type": "pie"
           }
          ],
          "scatter": [
           {
            "fillpattern": {
             "fillmode": "overlay",
             "size": 10,
             "solidity": 0.2
            },
            "type": "scatter"
           }
          ],
          "scatter3d": [
           {
            "line": {
             "colorbar": {
              "outlinewidth": 0,
              "ticks": ""
             }
            },
            "marker": {
             "colorbar": {
              "outlinewidth": 0,
              "ticks": ""
             }
            },
            "type": "scatter3d"
           }
          ],
          "scattercarpet": [
           {
            "marker": {
             "colorbar": {
              "outlinewidth": 0,
              "ticks": ""
             }
            },
            "type": "scattercarpet"
           }
          ],
          "scattergeo": [
           {
            "marker": {
             "colorbar": {
              "outlinewidth": 0,
              "ticks": ""
             }
            },
            "type": "scattergeo"
           }
          ],
          "scattergl": [
           {
            "marker": {
             "colorbar": {
              "outlinewidth": 0,
              "ticks": ""
             }
            },
            "type": "scattergl"
           }
          ],
          "scattermapbox": [
           {
            "marker": {
             "colorbar": {
              "outlinewidth": 0,
              "ticks": ""
             }
            },
            "type": "scattermapbox"
           }
          ],
          "scatterpolar": [
           {
            "marker": {
             "colorbar": {
              "outlinewidth": 0,
              "ticks": ""
             }
            },
            "type": "scatterpolar"
           }
          ],
          "scatterpolargl": [
           {
            "marker": {
             "colorbar": {
              "outlinewidth": 0,
              "ticks": ""
             }
            },
            "type": "scatterpolargl"
           }
          ],
          "scatterternary": [
           {
            "marker": {
             "colorbar": {
              "outlinewidth": 0,
              "ticks": ""
             }
            },
            "type": "scatterternary"
           }
          ],
          "surface": [
           {
            "colorbar": {
             "outlinewidth": 0,
             "ticks": ""
            },
            "colorscale": [
             [
              0,
              "#0d0887"
             ],
             [
              0.1111111111111111,
              "#46039f"
             ],
             [
              0.2222222222222222,
              "#7201a8"
             ],
             [
              0.3333333333333333,
              "#9c179e"
             ],
             [
              0.4444444444444444,
              "#bd3786"
             ],
             [
              0.5555555555555556,
              "#d8576b"
             ],
             [
              0.6666666666666666,
              "#ed7953"
             ],
             [
              0.7777777777777778,
              "#fb9f3a"
             ],
             [
              0.8888888888888888,
              "#fdca26"
             ],
             [
              1,
              "#f0f921"
             ]
            ],
            "type": "surface"
           }
          ],
          "table": [
           {
            "cells": {
             "fill": {
              "color": "#EBF0F8"
             },
             "line": {
              "color": "white"
             }
            },
            "header": {
             "fill": {
              "color": "#C8D4E3"
             },
             "line": {
              "color": "white"
             }
            },
            "type": "table"
           }
          ]
         },
         "layout": {
          "annotationdefaults": {
           "arrowcolor": "#2a3f5f",
           "arrowhead": 0,
           "arrowwidth": 1
          },
          "autotypenumbers": "strict",
          "coloraxis": {
           "colorbar": {
            "outlinewidth": 0,
            "ticks": ""
           }
          },
          "colorscale": {
           "diverging": [
            [
             0,
             "#8e0152"
            ],
            [
             0.1,
             "#c51b7d"
            ],
            [
             0.2,
             "#de77ae"
            ],
            [
             0.3,
             "#f1b6da"
            ],
            [
             0.4,
             "#fde0ef"
            ],
            [
             0.5,
             "#f7f7f7"
            ],
            [
             0.6,
             "#e6f5d0"
            ],
            [
             0.7,
             "#b8e186"
            ],
            [
             0.8,
             "#7fbc41"
            ],
            [
             0.9,
             "#4d9221"
            ],
            [
             1,
             "#276419"
            ]
           ],
           "sequential": [
            [
             0,
             "#0d0887"
            ],
            [
             0.1111111111111111,
             "#46039f"
            ],
            [
             0.2222222222222222,
             "#7201a8"
            ],
            [
             0.3333333333333333,
             "#9c179e"
            ],
            [
             0.4444444444444444,
             "#bd3786"
            ],
            [
             0.5555555555555556,
             "#d8576b"
            ],
            [
             0.6666666666666666,
             "#ed7953"
            ],
            [
             0.7777777777777778,
             "#fb9f3a"
            ],
            [
             0.8888888888888888,
             "#fdca26"
            ],
            [
             1,
             "#f0f921"
            ]
           ],
           "sequentialminus": [
            [
             0,
             "#0d0887"
            ],
            [
             0.1111111111111111,
             "#46039f"
            ],
            [
             0.2222222222222222,
             "#7201a8"
            ],
            [
             0.3333333333333333,
             "#9c179e"
            ],
            [
             0.4444444444444444,
             "#bd3786"
            ],
            [
             0.5555555555555556,
             "#d8576b"
            ],
            [
             0.6666666666666666,
             "#ed7953"
            ],
            [
             0.7777777777777778,
             "#fb9f3a"
            ],
            [
             0.8888888888888888,
             "#fdca26"
            ],
            [
             1,
             "#f0f921"
            ]
           ]
          },
          "colorway": [
           "#636efa",
           "#EF553B",
           "#00cc96",
           "#ab63fa",
           "#FFA15A",
           "#19d3f3",
           "#FF6692",
           "#B6E880",
           "#FF97FF",
           "#FECB52"
          ],
          "font": {
           "color": "#2a3f5f"
          },
          "geo": {
           "bgcolor": "white",
           "lakecolor": "white",
           "landcolor": "#E5ECF6",
           "showlakes": true,
           "showland": true,
           "subunitcolor": "white"
          },
          "hoverlabel": {
           "align": "left"
          },
          "hovermode": "closest",
          "mapbox": {
           "style": "light"
          },
          "paper_bgcolor": "white",
          "plot_bgcolor": "#E5ECF6",
          "polar": {
           "angularaxis": {
            "gridcolor": "white",
            "linecolor": "white",
            "ticks": ""
           },
           "bgcolor": "#E5ECF6",
           "radialaxis": {
            "gridcolor": "white",
            "linecolor": "white",
            "ticks": ""
           }
          },
          "scene": {
           "xaxis": {
            "backgroundcolor": "#E5ECF6",
            "gridcolor": "white",
            "gridwidth": 2,
            "linecolor": "white",
            "showbackground": true,
            "ticks": "",
            "zerolinecolor": "white"
           },
           "yaxis": {
            "backgroundcolor": "#E5ECF6",
            "gridcolor": "white",
            "gridwidth": 2,
            "linecolor": "white",
            "showbackground": true,
            "ticks": "",
            "zerolinecolor": "white"
           },
           "zaxis": {
            "backgroundcolor": "#E5ECF6",
            "gridcolor": "white",
            "gridwidth": 2,
            "linecolor": "white",
            "showbackground": true,
            "ticks": "",
            "zerolinecolor": "white"
           }
          },
          "shapedefaults": {
           "line": {
            "color": "#2a3f5f"
           }
          },
          "ternary": {
           "aaxis": {
            "gridcolor": "white",
            "linecolor": "white",
            "ticks": ""
           },
           "baxis": {
            "gridcolor": "white",
            "linecolor": "white",
            "ticks": ""
           },
           "bgcolor": "#E5ECF6",
           "caxis": {
            "gridcolor": "white",
            "linecolor": "white",
            "ticks": ""
           }
          },
          "title": {
           "x": 0.05
          },
          "xaxis": {
           "automargin": true,
           "gridcolor": "white",
           "linecolor": "white",
           "ticks": "",
           "title": {
            "standoff": 15
           },
           "zerolinecolor": "white",
           "zerolinewidth": 2
          },
          "yaxis": {
           "automargin": true,
           "gridcolor": "white",
           "linecolor": "white",
           "ticks": "",
           "title": {
            "standoff": 15
           },
           "zerolinecolor": "white",
           "zerolinewidth": 2
          }
         }
        },
        "title": {
         "text": "Umap projection of nELISA data colored by inducer1 plus inhibitor"
        },
        "xaxis": {
         "anchor": "y",
         "domain": [
          0,
          1
         ],
         "title": {
          "text": "UMAP_1"
         }
        },
        "yaxis": {
         "anchor": "x",
         "domain": [
          0,
          1
         ],
         "title": {
          "text": "UMAP_2"
         }
        }
       }
      }
     },
     "metadata": {},
     "output_type": "display_data"
    },
    {
     "data": {
      "application/vnd.plotly.v1+json": {
       "config": {
        "plotlyServerURL": "https://plot.ly"
       },
       "data": [
        {
         "hovertemplate": "inducer1_plus_concentration_plus_inhibitor=DMSO_0.10%_DMSO<br>umap_1=%{x}<br>umap_2=%{y}<extra></extra>",
         "legendgroup": "DMSO_0.10%_DMSO",
         "marker": {
          "color": "#636efa",
          "size": 12,
          "symbol": "circle"
         },
         "mode": "markers",
         "name": "DMSO_0.10%_DMSO",
         "orientation": "v",
         "showlegend": true,
         "type": "scatter",
         "x": [
          -0.8755083,
          1.5838473,
          1.0786864,
          -0.78794926,
          5.8573446,
          5.4184422,
          4.7761836,
          2.1831462,
          3.6735873,
          3.7675874,
          2.5135894,
          5.7879667
         ],
         "xaxis": "x",
         "y": [
          -4.1885633,
          -2.499391,
          -3.1033926,
          -4.534813,
          -0.4960135,
          1.3351856,
          3.158692,
          -1.1814513,
          -1.6844152,
          0.69756657,
          -4.326105,
          -1.3481507
         ],
         "yaxis": "y"
        },
        {
         "hovertemplate": "inducer1_plus_concentration_plus_inhibitor=DMSO_0.10%_Z-VAD-FMK<br>umap_1=%{x}<br>umap_2=%{y}<extra></extra>",
         "legendgroup": "DMSO_0.10%_Z-VAD-FMK",
         "marker": {
          "color": "#EF553B",
          "size": 12,
          "symbol": "circle"
         },
         "mode": "markers",
         "name": "DMSO_0.10%_Z-VAD-FMK",
         "orientation": "v",
         "showlegend": true,
         "type": "scatter",
         "x": [
          5.1319456,
          1.0562513,
          4.4814754,
          0.08978081,
          -0.85659796,
          5.3472223,
          -0.56476396,
          1.7782717
         ],
         "xaxis": "x",
         "y": [
          3.0045607,
          -5.245238,
          -3.2154033,
          -4.0766397,
          1.1121509,
          -2.1845114,
          -5.235062,
          -2.2485714
         ],
         "yaxis": "y"
        },
        {
         "hovertemplate": "inducer1_plus_concentration_plus_inhibitor=LPS_0.01 µg/ml_DMSO<br>umap_1=%{x}<br>umap_2=%{y}<extra></extra>",
         "legendgroup": "LPS_0.01 µg/ml_DMSO",
         "marker": {
          "color": "#00cc96",
          "size": 12,
          "symbol": "circle"
         },
         "mode": "markers",
         "name": "LPS_0.01 µg/ml_DMSO",
         "orientation": "v",
         "showlegend": true,
         "type": "scatter",
         "x": [
          -0.30763254,
          0.13812338,
          2.7438068,
          -0.7146663
         ],
         "xaxis": "x",
         "y": [
          -3.5372932,
          -2.9093044,
          -2.6058297,
          -2.6608713
         ],
         "yaxis": "y"
        },
        {
         "hovertemplate": "inducer1_plus_concentration_plus_inhibitor=LPS_0.1 µg/ml_DMSO<br>umap_1=%{x}<br>umap_2=%{y}<extra></extra>",
         "legendgroup": "LPS_0.1 µg/ml_DMSO",
         "marker": {
          "color": "#ab63fa",
          "size": 12,
          "symbol": "circle"
         },
         "mode": "markers",
         "name": "LPS_0.1 µg/ml_DMSO",
         "orientation": "v",
         "showlegend": true,
         "type": "scatter",
         "x": [
          2.77185,
          5.51405,
          -2.263829,
          3.6216087
         ],
         "xaxis": "x",
         "y": [
          -1.8741945,
          -1.9311751,
          -4.1420074,
          -0.19181824
         ],
         "yaxis": "y"
        },
        {
         "hovertemplate": "inducer1_plus_concentration_plus_inhibitor=Flagellin_0.1 µg/ml_DMSO<br>umap_1=%{x}<br>umap_2=%{y}<extra></extra>",
         "legendgroup": "Flagellin_0.1 µg/ml_DMSO",
         "marker": {
          "color": "#FFA15A",
          "size": 12,
          "symbol": "circle"
         },
         "mode": "markers",
         "name": "Flagellin_0.1 µg/ml_DMSO",
         "orientation": "v",
         "showlegend": true,
         "type": "scatter",
         "x": [
          0.46250457,
          1.0159168,
          2.5721278,
          2.017739
         ],
         "xaxis": "x",
         "y": [
          -0.0035098777,
          -1.9692736,
          1.002692,
          0.6858446
         ],
         "yaxis": "y"
        },
        {
         "hovertemplate": "inducer1_plus_concentration_plus_inhibitor=Disulfiram_0.1 µM_DMSO<br>umap_1=%{x}<br>umap_2=%{y}<extra></extra>",
         "legendgroup": "Disulfiram_0.1 µM_DMSO",
         "marker": {
          "color": "#19d3f3",
          "size": 12,
          "symbol": "circle"
         },
         "mode": "markers",
         "name": "Disulfiram_0.1 µM_DMSO",
         "orientation": "v",
         "showlegend": true,
         "type": "scatter",
         "x": [
          -1.6205006,
          3.4757261,
          3.3003976,
          2.759796
         ],
         "xaxis": "x",
         "y": [
          -4.621443,
          -2.7089777,
          -0.5895061,
          2.8824668
         ],
         "yaxis": "y"
        },
        {
         "hovertemplate": "inducer1_plus_concentration_plus_inhibitor=LPS_1 µg/ml_DMSO<br>umap_1=%{x}<br>umap_2=%{y}<extra></extra>",
         "legendgroup": "LPS_1 µg/ml_DMSO",
         "marker": {
          "color": "#FF6692",
          "size": 12,
          "symbol": "circle"
         },
         "mode": "markers",
         "name": "LPS_1 µg/ml_DMSO",
         "orientation": "v",
         "showlegend": true,
         "type": "scatter",
         "x": [
          3.8057098,
          4.5600123,
          1.0926384,
          6.35705,
          2.5894647,
          3.98992,
          -0.20132582,
          -0.111835025,
          0.39395136,
          -0.13855955,
          2.163698,
          3.1174016,
          0.6942509,
          -0.0034257357,
          1.7916985,
          1.554746
         ],
         "xaxis": "x",
         "y": [
          3.0150144,
          -1.9816705,
          -0.45651326,
          0.088830896,
          -3.9878926,
          1.6995785,
          0.07365309,
          -0.7406483,
          -1.122043,
          -4.844752,
          1.9382529,
          -0.46387872,
          -3.838279,
          -5.741167,
          0.9994211,
          -1.5075758
         ],
         "yaxis": "y"
        },
        {
         "hovertemplate": "inducer1_plus_concentration_plus_inhibitor=LPS_1 µg/ml_Disulfiram<br>umap_1=%{x}<br>umap_2=%{y}<extra></extra>",
         "legendgroup": "LPS_1 µg/ml_Disulfiram",
         "marker": {
          "color": "#B6E880",
          "size": 12,
          "symbol": "circle"
         },
         "mode": "markers",
         "name": "LPS_1 µg/ml_Disulfiram",
         "orientation": "v",
         "showlegend": true,
         "type": "scatter",
         "x": [
          2.8012028,
          3.8883772,
          -1.5635864,
          0.096096486
         ],
         "xaxis": "x",
         "y": [
          -1.6206529,
          -3.5680456,
          -0.44336987,
          0.99032015
         ],
         "yaxis": "y"
        },
        {
         "hovertemplate": "inducer1_plus_concentration_plus_inhibitor=LPS_1 µg/ml_Z-VAD-FMK<br>umap_1=%{x}<br>umap_2=%{y}<extra></extra>",
         "legendgroup": "LPS_1 µg/ml_Z-VAD-FMK",
         "marker": {
          "color": "#FF97FF",
          "size": 12,
          "symbol": "circle"
         },
         "mode": "markers",
         "name": "LPS_1 µg/ml_Z-VAD-FMK",
         "orientation": "v",
         "showlegend": true,
         "type": "scatter",
         "x": [
          -0.062347487,
          -0.72429395,
          -1.1959302,
          1.7450166
         ],
         "xaxis": "x",
         "y": [
          -1.9978427,
          -2.6549594,
          -2.4351385,
          3.2586997
         ],
         "yaxis": "y"
        },
        {
         "hovertemplate": "inducer1_plus_concentration_plus_inhibitor=Flagellin_1 µg/ml_DMSO<br>umap_1=%{x}<br>umap_2=%{y}<extra></extra>",
         "legendgroup": "Flagellin_1 µg/ml_DMSO",
         "marker": {
          "color": "#FECB52",
          "size": 12,
          "symbol": "circle"
         },
         "mode": "markers",
         "name": "Flagellin_1 µg/ml_DMSO",
         "orientation": "v",
         "showlegend": true,
         "type": "scatter",
         "x": [
          1.8952091,
          0.43702486,
          -1.2815189,
          0.82547367
         ],
         "xaxis": "x",
         "y": [
          -3.2061868,
          -1.0819412,
          -4.0814033,
          0.49949732
         ],
         "yaxis": "y"
        },
        {
         "hovertemplate": "inducer1_plus_concentration_plus_inhibitor=Flagellin_1 µg/ml_Disulfiram<br>umap_1=%{x}<br>umap_2=%{y}<extra></extra>",
         "legendgroup": "Flagellin_1 µg/ml_Disulfiram",
         "marker": {
          "color": "#636efa",
          "size": 12,
          "symbol": "circle"
         },
         "mode": "markers",
         "name": "Flagellin_1 µg/ml_Disulfiram",
         "orientation": "v",
         "showlegend": true,
         "type": "scatter",
         "x": [
          -1.908886,
          2.8066797,
          -1.335882,
          -1.3755981
         ],
         "xaxis": "x",
         "y": [
          -0.9939553,
          -3.0524502,
          -1.5605315,
          -2.8894062
         ],
         "yaxis": "y"
        },
        {
         "hovertemplate": "inducer1_plus_concentration_plus_inhibitor=Thapsigargin_1 µM_DMSO<br>umap_1=%{x}<br>umap_2=%{y}<extra></extra>",
         "legendgroup": "Thapsigargin_1 µM_DMSO",
         "marker": {
          "color": "#EF553B",
          "size": 12,
          "symbol": "circle"
         },
         "mode": "markers",
         "name": "Thapsigargin_1 µM_DMSO",
         "orientation": "v",
         "showlegend": true,
         "type": "scatter",
         "x": [
          3.306102,
          0.06579472,
          -2.0993752,
          4.038719
         ],
         "xaxis": "x",
         "y": [
          -0.8790393,
          -3.1558402,
          -1.0988141,
          -0.02745574
         ],
         "yaxis": "y"
        },
        {
         "hovertemplate": "inducer1_plus_concentration_plus_inhibitor=Disulfiram_1 µM_DMSO<br>umap_1=%{x}<br>umap_2=%{y}<extra></extra>",
         "legendgroup": "Disulfiram_1 µM_DMSO",
         "marker": {
          "color": "#00cc96",
          "size": 12,
          "symbol": "circle"
         },
         "mode": "markers",
         "name": "Disulfiram_1 µM_DMSO",
         "orientation": "v",
         "showlegend": true,
         "type": "scatter",
         "x": [
          -1.0240033,
          5.262348,
          0.24769938,
          1.5518482
         ],
         "xaxis": "x",
         "y": [
          -3.2855794,
          -0.64698064,
          1.7140702,
          1.4085345
         ],
         "yaxis": "y"
        },
        {
         "hovertemplate": "inducer1_plus_concentration_plus_inhibitor=Topotecan_10 nM_DMSO<br>umap_1=%{x}<br>umap_2=%{y}<extra></extra>",
         "legendgroup": "Topotecan_10 nM_DMSO",
         "marker": {
          "color": "#ab63fa",
          "size": 12,
          "symbol": "circle"
         },
         "mode": "markers",
         "name": "Topotecan_10 nM_DMSO",
         "orientation": "v",
         "showlegend": true,
         "type": "scatter",
         "x": [
          2.33868,
          3.04885,
          1.9244809,
          0.70065
         ],
         "xaxis": "x",
         "y": [
          -5.193192,
          0.2213751,
          -4.237294,
          -4.8241005
         ],
         "yaxis": "y"
        },
        {
         "hovertemplate": "inducer1_plus_concentration_plus_inhibitor=LPS_10 µg/ml_DMSO<br>umap_1=%{x}<br>umap_2=%{y}<extra></extra>",
         "legendgroup": "LPS_10 µg/ml_DMSO",
         "marker": {
          "color": "#FFA15A",
          "size": 12,
          "symbol": "circle"
         },
         "mode": "markers",
         "name": "LPS_10 µg/ml_DMSO",
         "orientation": "v",
         "showlegend": true,
         "type": "scatter",
         "x": [
          0.8717699,
          1.2521867,
          4.4268875,
          1.8586261
         ],
         "xaxis": "x",
         "y": [
          -1.1920989,
          -5.8472867,
          2.6464136,
          -2.4039338
         ],
         "yaxis": "y"
        },
        {
         "hovertemplate": "inducer1_plus_concentration_plus_inhibitor=LPS_10 µg/ml_Disulfiram<br>umap_1=%{x}<br>umap_2=%{y}<extra></extra>",
         "legendgroup": "LPS_10 µg/ml_Disulfiram",
         "marker": {
          "color": "#19d3f3",
          "size": 12,
          "symbol": "circle"
         },
         "mode": "markers",
         "name": "LPS_10 µg/ml_Disulfiram",
         "orientation": "v",
         "showlegend": true,
         "type": "scatter",
         "x": [
          2.1290054,
          1.2956772,
          0.6042867,
          1.840358,
          1.8015786,
          2.2277389,
          -0.40609017,
          4.4027667,
          3.484418,
          1.0134791,
          -0.5007507,
          1.6587365
         ],
         "xaxis": "x",
         "y": [
          0.0010334076,
          -0.07899789,
          -0.47947875,
          0.48707315,
          -5.3593554,
          -3.2106664,
          0.4820288,
          -2.8904371,
          -1.0566962,
          -4.092858,
          1.680379,
          1.8170186
         ],
         "yaxis": "y"
        },
        {
         "hovertemplate": "inducer1_plus_concentration_plus_inhibitor=LPS_10 µg/ml_Z-VAD-FMK<br>umap_1=%{x}<br>umap_2=%{y}<extra></extra>",
         "legendgroup": "LPS_10 µg/ml_Z-VAD-FMK",
         "marker": {
          "color": "#FF6692",
          "size": 12,
          "symbol": "circle"
         },
         "mode": "markers",
         "name": "LPS_10 µg/ml_Z-VAD-FMK",
         "orientation": "v",
         "showlegend": true,
         "type": "scatter",
         "x": [
          4.824284,
          5.5842085,
          6.2321153,
          4.3421497
         ],
         "xaxis": "x",
         "y": [
          0.8023376,
          0.8115232,
          -0.6602986,
          -0.5574173
         ],
         "yaxis": "y"
        },
        {
         "hovertemplate": "inducer1_plus_concentration_plus_inhibitor=Thapsigargin_10 µM_DMSO<br>umap_1=%{x}<br>umap_2=%{y}<extra></extra>",
         "legendgroup": "Thapsigargin_10 µM_DMSO",
         "marker": {
          "color": "#B6E880",
          "size": 12,
          "symbol": "circle"
         },
         "mode": "markers",
         "name": "Thapsigargin_10 µM_DMSO",
         "orientation": "v",
         "showlegend": true,
         "type": "scatter",
         "x": [
          -0.06715707,
          3.4154425,
          2.1869645,
          0.60935277
         ],
         "xaxis": "x",
         "y": [
          2.3687627,
          -4.2170997,
          -3.8866527,
          -3.2989886
         ],
         "yaxis": "y"
        },
        {
         "hovertemplate": "inducer1_plus_concentration_plus_inhibitor=H2O2_100 nM_DMSO<br>umap_1=%{x}<br>umap_2=%{y}<extra></extra>",
         "legendgroup": "H2O2_100 nM_DMSO",
         "marker": {
          "color": "#FF97FF",
          "size": 12,
          "symbol": "circle"
         },
         "mode": "markers",
         "name": "H2O2_100 nM_DMSO",
         "orientation": "v",
         "showlegend": true,
         "type": "scatter",
         "x": [
          0.95214844,
          3.8028088,
          -1.4173982,
          1.7919037
         ],
         "xaxis": "x",
         "y": [
          2.4151082,
          -2.8685038,
          0.045974623,
          2.563652
         ],
         "yaxis": "y"
        },
        {
         "hovertemplate": "inducer1_plus_concentration_plus_inhibitor=H2O2_100 µM_DMSO<br>umap_1=%{x}<br>umap_2=%{y}<extra></extra>",
         "legendgroup": "H2O2_100 µM_DMSO",
         "marker": {
          "color": "#FECB52",
          "size": 12,
          "symbol": "circle"
         },
         "mode": "markers",
         "name": "H2O2_100 µM_DMSO",
         "orientation": "v",
         "showlegend": true,
         "type": "scatter",
         "x": [
          1.4726647,
          1.5219876,
          4.944673,
          0.99162424
         ],
         "xaxis": "x",
         "y": [
          -2.406135,
          -3.9686995,
          -1.1645284,
          -0.94816345
         ],
         "yaxis": "y"
        },
        {
         "hovertemplate": "inducer1_plus_concentration_plus_inhibitor=LPS_100 µg/ml_DMSO<br>umap_1=%{x}<br>umap_2=%{y}<extra></extra>",
         "legendgroup": "LPS_100 µg/ml_DMSO",
         "marker": {
          "color": "#636efa",
          "size": 12,
          "symbol": "circle"
         },
         "mode": "markers",
         "name": "LPS_100 µg/ml_DMSO",
         "orientation": "v",
         "showlegend": true,
         "type": "scatter",
         "x": [
          3.1962097,
          -0.7754246,
          -1.4185185,
          1.5260901,
          3.4651597,
          1.3919349,
          1.6784534,
          -0.86554074,
          0.014157203,
          -0.29921147,
          0.8955691,
          -1.7783887,
          0.15666766,
          1.1295868,
          1.0003396,
          4.2776604
         ],
         "xaxis": "x",
         "y": [
          0.45415738,
          -5.460584,
          -3.4174383,
          -2.8948302,
          -2.259443,
          -3.6712573,
          -5.5609674,
          -1.4523237,
          -4.102752,
          -6.0543923,
          -3.373828,
          -3.7084346,
          -5.0847716,
          -4.4502864,
          0.59380955,
          1.3658203
         ],
         "yaxis": "y"
        },
        {
         "hovertemplate": "inducer1_plus_concentration_plus_inhibitor=H2O2_100 µM_Disulfiram<br>umap_1=%{x}<br>umap_2=%{y}<extra></extra>",
         "legendgroup": "H2O2_100 µM_Disulfiram",
         "marker": {
          "color": "#EF553B",
          "size": 12,
          "symbol": "circle"
         },
         "mode": "markers",
         "name": "H2O2_100 µM_Disulfiram",
         "orientation": "v",
         "showlegend": true,
         "type": "scatter",
         "x": [
          2.7102191,
          1.7271571,
          4.5013294,
          -0.9509096
         ],
         "xaxis": "x",
         "y": [
          -0.9208084,
          -1.0371133,
          -0.75372505,
          -0.88099104
         ],
         "yaxis": "y"
        },
        {
         "hovertemplate": "inducer1_plus_concentration_plus_inhibitor=H2O2_100 µM_Z-VAD-FMK<br>umap_1=%{x}<br>umap_2=%{y}<extra></extra>",
         "legendgroup": "H2O2_100 µM_Z-VAD-FMK",
         "marker": {
          "color": "#00cc96",
          "size": 12,
          "symbol": "circle"
         },
         "mode": "markers",
         "name": "H2O2_100 µM_Z-VAD-FMK",
         "orientation": "v",
         "showlegend": true,
         "type": "scatter",
         "x": [
          4.795643,
          2.041314,
          2.90896,
          2.2849002
         ],
         "xaxis": "x",
         "y": [
          -1.6148884,
          -1.5324372,
          0.7054848,
          -0.47865927
         ],
         "yaxis": "y"
        },
        {
         "hovertemplate": "inducer1_plus_concentration_plus_inhibitor=Disulfiram_2.5 µM_DMSO<br>umap_1=%{x}<br>umap_2=%{y}<extra></extra>",
         "legendgroup": "Disulfiram_2.5 µM_DMSO",
         "marker": {
          "color": "#ab63fa",
          "size": 12,
          "symbol": "circle"
         },
         "mode": "markers",
         "name": "Disulfiram_2.5 µM_DMSO",
         "orientation": "v",
         "showlegend": true,
         "type": "scatter",
         "x": [
          0.7924433,
          0.53153694,
          -0.78907835,
          0.7618294
         ],
         "xaxis": "x",
         "y": [
          -1.4014714,
          -1.9429599,
          -0.7694029,
          2.0206733
         ],
         "yaxis": "y"
        },
        {
         "hovertemplate": "inducer1_plus_concentration_plus_inhibitor=Topotecan_20 nM_DMSO<br>umap_1=%{x}<br>umap_2=%{y}<extra></extra>",
         "legendgroup": "Topotecan_20 nM_DMSO",
         "marker": {
          "color": "#FFA15A",
          "size": 12,
          "symbol": "circle"
         },
         "mode": "markers",
         "name": "Topotecan_20 nM_DMSO",
         "orientation": "v",
         "showlegend": true,
         "type": "scatter",
         "x": [
          2.3465796,
          0.19613889,
          4.901178,
          0.034825135
         ],
         "xaxis": "x",
         "y": [
          -2.1107337,
          -2.0816624,
          0.28612754,
          -3.6267388
         ],
         "yaxis": "y"
        },
        {
         "hovertemplate": "inducer1_plus_concentration_plus_inhibitor=Topotecan_5 nM_DMSO<br>umap_1=%{x}<br>umap_2=%{y}<extra></extra>",
         "legendgroup": "Topotecan_5 nM_DMSO",
         "marker": {
          "color": "#19d3f3",
          "size": 12,
          "symbol": "circle"
         },
         "mode": "markers",
         "name": "Topotecan_5 nM_DMSO",
         "orientation": "v",
         "showlegend": true,
         "type": "scatter",
         "x": [
          2.5110965,
          2.6940186,
          5.2089562,
          3.1067216
         ],
         "xaxis": "x",
         "y": [
          -0.7501291,
          -2.0406394,
          1.9864867,
          -3.3888292
         ],
         "yaxis": "y"
        }
       ],
       "layout": {
        "legend": {
         "title": {
          "text": "inducer1_plus_concentration_plus_inhibitor"
         },
         "tracegroupgap": 0
        },
        "template": {
         "data": {
          "bar": [
           {
            "error_x": {
             "color": "#2a3f5f"
            },
            "error_y": {
             "color": "#2a3f5f"
            },
            "marker": {
             "line": {
              "color": "#E5ECF6",
              "width": 0.5
             },
             "pattern": {
              "fillmode": "overlay",
              "size": 10,
              "solidity": 0.2
             }
            },
            "type": "bar"
           }
          ],
          "barpolar": [
           {
            "marker": {
             "line": {
              "color": "#E5ECF6",
              "width": 0.5
             },
             "pattern": {
              "fillmode": "overlay",
              "size": 10,
              "solidity": 0.2
             }
            },
            "type": "barpolar"
           }
          ],
          "carpet": [
           {
            "aaxis": {
             "endlinecolor": "#2a3f5f",
             "gridcolor": "white",
             "linecolor": "white",
             "minorgridcolor": "white",
             "startlinecolor": "#2a3f5f"
            },
            "baxis": {
             "endlinecolor": "#2a3f5f",
             "gridcolor": "white",
             "linecolor": "white",
             "minorgridcolor": "white",
             "startlinecolor": "#2a3f5f"
            },
            "type": "carpet"
           }
          ],
          "choropleth": [
           {
            "colorbar": {
             "outlinewidth": 0,
             "ticks": ""
            },
            "type": "choropleth"
           }
          ],
          "contour": [
           {
            "colorbar": {
             "outlinewidth": 0,
             "ticks": ""
            },
            "colorscale": [
             [
              0,
              "#0d0887"
             ],
             [
              0.1111111111111111,
              "#46039f"
             ],
             [
              0.2222222222222222,
              "#7201a8"
             ],
             [
              0.3333333333333333,
              "#9c179e"
             ],
             [
              0.4444444444444444,
              "#bd3786"
             ],
             [
              0.5555555555555556,
              "#d8576b"
             ],
             [
              0.6666666666666666,
              "#ed7953"
             ],
             [
              0.7777777777777778,
              "#fb9f3a"
             ],
             [
              0.8888888888888888,
              "#fdca26"
             ],
             [
              1,
              "#f0f921"
             ]
            ],
            "type": "contour"
           }
          ],
          "contourcarpet": [
           {
            "colorbar": {
             "outlinewidth": 0,
             "ticks": ""
            },
            "type": "contourcarpet"
           }
          ],
          "heatmap": [
           {
            "colorbar": {
             "outlinewidth": 0,
             "ticks": ""
            },
            "colorscale": [
             [
              0,
              "#0d0887"
             ],
             [
              0.1111111111111111,
              "#46039f"
             ],
             [
              0.2222222222222222,
              "#7201a8"
             ],
             [
              0.3333333333333333,
              "#9c179e"
             ],
             [
              0.4444444444444444,
              "#bd3786"
             ],
             [
              0.5555555555555556,
              "#d8576b"
             ],
             [
              0.6666666666666666,
              "#ed7953"
             ],
             [
              0.7777777777777778,
              "#fb9f3a"
             ],
             [
              0.8888888888888888,
              "#fdca26"
             ],
             [
              1,
              "#f0f921"
             ]
            ],
            "type": "heatmap"
           }
          ],
          "heatmapgl": [
           {
            "colorbar": {
             "outlinewidth": 0,
             "ticks": ""
            },
            "colorscale": [
             [
              0,
              "#0d0887"
             ],
             [
              0.1111111111111111,
              "#46039f"
             ],
             [
              0.2222222222222222,
              "#7201a8"
             ],
             [
              0.3333333333333333,
              "#9c179e"
             ],
             [
              0.4444444444444444,
              "#bd3786"
             ],
             [
              0.5555555555555556,
              "#d8576b"
             ],
             [
              0.6666666666666666,
              "#ed7953"
             ],
             [
              0.7777777777777778,
              "#fb9f3a"
             ],
             [
              0.8888888888888888,
              "#fdca26"
             ],
             [
              1,
              "#f0f921"
             ]
            ],
            "type": "heatmapgl"
           }
          ],
          "histogram": [
           {
            "marker": {
             "pattern": {
              "fillmode": "overlay",
              "size": 10,
              "solidity": 0.2
             }
            },
            "type": "histogram"
           }
          ],
          "histogram2d": [
           {
            "colorbar": {
             "outlinewidth": 0,
             "ticks": ""
            },
            "colorscale": [
             [
              0,
              "#0d0887"
             ],
             [
              0.1111111111111111,
              "#46039f"
             ],
             [
              0.2222222222222222,
              "#7201a8"
             ],
             [
              0.3333333333333333,
              "#9c179e"
             ],
             [
              0.4444444444444444,
              "#bd3786"
             ],
             [
              0.5555555555555556,
              "#d8576b"
             ],
             [
              0.6666666666666666,
              "#ed7953"
             ],
             [
              0.7777777777777778,
              "#fb9f3a"
             ],
             [
              0.8888888888888888,
              "#fdca26"
             ],
             [
              1,
              "#f0f921"
             ]
            ],
            "type": "histogram2d"
           }
          ],
          "histogram2dcontour": [
           {
            "colorbar": {
             "outlinewidth": 0,
             "ticks": ""
            },
            "colorscale": [
             [
              0,
              "#0d0887"
             ],
             [
              0.1111111111111111,
              "#46039f"
             ],
             [
              0.2222222222222222,
              "#7201a8"
             ],
             [
              0.3333333333333333,
              "#9c179e"
             ],
             [
              0.4444444444444444,
              "#bd3786"
             ],
             [
              0.5555555555555556,
              "#d8576b"
             ],
             [
              0.6666666666666666,
              "#ed7953"
             ],
             [
              0.7777777777777778,
              "#fb9f3a"
             ],
             [
              0.8888888888888888,
              "#fdca26"
             ],
             [
              1,
              "#f0f921"
             ]
            ],
            "type": "histogram2dcontour"
           }
          ],
          "mesh3d": [
           {
            "colorbar": {
             "outlinewidth": 0,
             "ticks": ""
            },
            "type": "mesh3d"
           }
          ],
          "parcoords": [
           {
            "line": {
             "colorbar": {
              "outlinewidth": 0,
              "ticks": ""
             }
            },
            "type": "parcoords"
           }
          ],
          "pie": [
           {
            "automargin": true,
            "type": "pie"
           }
          ],
          "scatter": [
           {
            "fillpattern": {
             "fillmode": "overlay",
             "size": 10,
             "solidity": 0.2
            },
            "type": "scatter"
           }
          ],
          "scatter3d": [
           {
            "line": {
             "colorbar": {
              "outlinewidth": 0,
              "ticks": ""
             }
            },
            "marker": {
             "colorbar": {
              "outlinewidth": 0,
              "ticks": ""
             }
            },
            "type": "scatter3d"
           }
          ],
          "scattercarpet": [
           {
            "marker": {
             "colorbar": {
              "outlinewidth": 0,
              "ticks": ""
             }
            },
            "type": "scattercarpet"
           }
          ],
          "scattergeo": [
           {
            "marker": {
             "colorbar": {
              "outlinewidth": 0,
              "ticks": ""
             }
            },
            "type": "scattergeo"
           }
          ],
          "scattergl": [
           {
            "marker": {
             "colorbar": {
              "outlinewidth": 0,
              "ticks": ""
             }
            },
            "type": "scattergl"
           }
          ],
          "scattermapbox": [
           {
            "marker": {
             "colorbar": {
              "outlinewidth": 0,
              "ticks": ""
             }
            },
            "type": "scattermapbox"
           }
          ],
          "scatterpolar": [
           {
            "marker": {
             "colorbar": {
              "outlinewidth": 0,
              "ticks": ""
             }
            },
            "type": "scatterpolar"
           }
          ],
          "scatterpolargl": [
           {
            "marker": {
             "colorbar": {
              "outlinewidth": 0,
              "ticks": ""
             }
            },
            "type": "scatterpolargl"
           }
          ],
          "scatterternary": [
           {
            "marker": {
             "colorbar": {
              "outlinewidth": 0,
              "ticks": ""
             }
            },
            "type": "scatterternary"
           }
          ],
          "surface": [
           {
            "colorbar": {
             "outlinewidth": 0,
             "ticks": ""
            },
            "colorscale": [
             [
              0,
              "#0d0887"
             ],
             [
              0.1111111111111111,
              "#46039f"
             ],
             [
              0.2222222222222222,
              "#7201a8"
             ],
             [
              0.3333333333333333,
              "#9c179e"
             ],
             [
              0.4444444444444444,
              "#bd3786"
             ],
             [
              0.5555555555555556,
              "#d8576b"
             ],
             [
              0.6666666666666666,
              "#ed7953"
             ],
             [
              0.7777777777777778,
              "#fb9f3a"
             ],
             [
              0.8888888888888888,
              "#fdca26"
             ],
             [
              1,
              "#f0f921"
             ]
            ],
            "type": "surface"
           }
          ],
          "table": [
           {
            "cells": {
             "fill": {
              "color": "#EBF0F8"
             },
             "line": {
              "color": "white"
             }
            },
            "header": {
             "fill": {
              "color": "#C8D4E3"
             },
             "line": {
              "color": "white"
             }
            },
            "type": "table"
           }
          ]
         },
         "layout": {
          "annotationdefaults": {
           "arrowcolor": "#2a3f5f",
           "arrowhead": 0,
           "arrowwidth": 1
          },
          "autotypenumbers": "strict",
          "coloraxis": {
           "colorbar": {
            "outlinewidth": 0,
            "ticks": ""
           }
          },
          "colorscale": {
           "diverging": [
            [
             0,
             "#8e0152"
            ],
            [
             0.1,
             "#c51b7d"
            ],
            [
             0.2,
             "#de77ae"
            ],
            [
             0.3,
             "#f1b6da"
            ],
            [
             0.4,
             "#fde0ef"
            ],
            [
             0.5,
             "#f7f7f7"
            ],
            [
             0.6,
             "#e6f5d0"
            ],
            [
             0.7,
             "#b8e186"
            ],
            [
             0.8,
             "#7fbc41"
            ],
            [
             0.9,
             "#4d9221"
            ],
            [
             1,
             "#276419"
            ]
           ],
           "sequential": [
            [
             0,
             "#0d0887"
            ],
            [
             0.1111111111111111,
             "#46039f"
            ],
            [
             0.2222222222222222,
             "#7201a8"
            ],
            [
             0.3333333333333333,
             "#9c179e"
            ],
            [
             0.4444444444444444,
             "#bd3786"
            ],
            [
             0.5555555555555556,
             "#d8576b"
            ],
            [
             0.6666666666666666,
             "#ed7953"
            ],
            [
             0.7777777777777778,
             "#fb9f3a"
            ],
            [
             0.8888888888888888,
             "#fdca26"
            ],
            [
             1,
             "#f0f921"
            ]
           ],
           "sequentialminus": [
            [
             0,
             "#0d0887"
            ],
            [
             0.1111111111111111,
             "#46039f"
            ],
            [
             0.2222222222222222,
             "#7201a8"
            ],
            [
             0.3333333333333333,
             "#9c179e"
            ],
            [
             0.4444444444444444,
             "#bd3786"
            ],
            [
             0.5555555555555556,
             "#d8576b"
            ],
            [
             0.6666666666666666,
             "#ed7953"
            ],
            [
             0.7777777777777778,
             "#fb9f3a"
            ],
            [
             0.8888888888888888,
             "#fdca26"
            ],
            [
             1,
             "#f0f921"
            ]
           ]
          },
          "colorway": [
           "#636efa",
           "#EF553B",
           "#00cc96",
           "#ab63fa",
           "#FFA15A",
           "#19d3f3",
           "#FF6692",
           "#B6E880",
           "#FF97FF",
           "#FECB52"
          ],
          "font": {
           "color": "#2a3f5f"
          },
          "geo": {
           "bgcolor": "white",
           "lakecolor": "white",
           "landcolor": "#E5ECF6",
           "showlakes": true,
           "showland": true,
           "subunitcolor": "white"
          },
          "hoverlabel": {
           "align": "left"
          },
          "hovermode": "closest",
          "mapbox": {
           "style": "light"
          },
          "paper_bgcolor": "white",
          "plot_bgcolor": "#E5ECF6",
          "polar": {
           "angularaxis": {
            "gridcolor": "white",
            "linecolor": "white",
            "ticks": ""
           },
           "bgcolor": "#E5ECF6",
           "radialaxis": {
            "gridcolor": "white",
            "linecolor": "white",
            "ticks": ""
           }
          },
          "scene": {
           "xaxis": {
            "backgroundcolor": "#E5ECF6",
            "gridcolor": "white",
            "gridwidth": 2,
            "linecolor": "white",
            "showbackground": true,
            "ticks": "",
            "zerolinecolor": "white"
           },
           "yaxis": {
            "backgroundcolor": "#E5ECF6",
            "gridcolor": "white",
            "gridwidth": 2,
            "linecolor": "white",
            "showbackground": true,
            "ticks": "",
            "zerolinecolor": "white"
           },
           "zaxis": {
            "backgroundcolor": "#E5ECF6",
            "gridcolor": "white",
            "gridwidth": 2,
            "linecolor": "white",
            "showbackground": true,
            "ticks": "",
            "zerolinecolor": "white"
           }
          },
          "shapedefaults": {
           "line": {
            "color": "#2a3f5f"
           }
          },
          "ternary": {
           "aaxis": {
            "gridcolor": "white",
            "linecolor": "white",
            "ticks": ""
           },
           "baxis": {
            "gridcolor": "white",
            "linecolor": "white",
            "ticks": ""
           },
           "bgcolor": "#E5ECF6",
           "caxis": {
            "gridcolor": "white",
            "linecolor": "white",
            "ticks": ""
           }
          },
          "title": {
           "x": 0.05
          },
          "xaxis": {
           "automargin": true,
           "gridcolor": "white",
           "linecolor": "white",
           "ticks": "",
           "title": {
            "standoff": 15
           },
           "zerolinecolor": "white",
           "zerolinewidth": 2
          },
          "yaxis": {
           "automargin": true,
           "gridcolor": "white",
           "linecolor": "white",
           "ticks": "",
           "title": {
            "standoff": 15
           },
           "zerolinecolor": "white",
           "zerolinewidth": 2
          }
         }
        },
        "title": {
         "text": "Umap projection of nELISA data colored by inducer1 plus concentration plus inhibitor"
        },
        "xaxis": {
         "anchor": "y",
         "domain": [
          0,
          1
         ],
         "title": {
          "text": "UMAP_1"
         }
        },
        "yaxis": {
         "anchor": "x",
         "domain": [
          0,
          1
         ],
         "title": {
          "text": "UMAP_2"
         }
        }
       }
      }
     },
     "metadata": {},
     "output_type": "display_data"
    }
   ],
   "source": [
    "nELISA_plate_430420 = nELISA_plate_430420[\n",
    "    nELISA_plate_430420.columns.drop(list(nELISA_plate_430420.filter(regex=\"pgML\")))\n",
    "]\n",
    "\n",
    "col_list = [\n",
    "    \"cell_type\",\n",
    "    \"inducer1\",\n",
    "    \"inhibitor\",\n",
    "    \"Function\",\n",
    "    \"inducer1_plus_concentration\",\n",
    "    \"inducer1_plus_inhibitor\",\n",
    "    \"inducer1_plus_concentration_plus_inhibitor\",\n",
    "]\n",
    "\n",
    "for col in col_list:\n",
    "    umap_graph(\n",
    "        df=nELISA_plate_430420,\n",
    "        color=f\"{col}\",\n",
    "        save_name=f\"./figures/nELISA_Normalized_UMAP_{col}\",\n",
    "        title=f\"Umap projection of nELISA data colored by {col.replace('_', ' ')}\",\n",
    "    )"
   ]
  }
 ],
 "metadata": {
  "kernelspec": {
   "display_name": "Interstellar",
   "language": "python",
   "name": "python3"
  },
  "language_info": {
   "codemirror_mode": {
    "name": "ipython",
    "version": 3
   },
   "file_extension": ".py",
   "mimetype": "text/x-python",
   "name": "python",
   "nbconvert_exporter": "python",
   "pygments_lexer": "ipython3",
   "version": "3.10.10"
  },
  "orig_nbformat": 4,
  "vscode": {
   "interpreter": {
    "hash": "72ae02083a9ca7d143c492d1aec380c7bf553ec51bd66e90e72bba65228121b6"
   }
  }
 },
 "nbformat": 4,
 "nbformat_minor": 2
}
