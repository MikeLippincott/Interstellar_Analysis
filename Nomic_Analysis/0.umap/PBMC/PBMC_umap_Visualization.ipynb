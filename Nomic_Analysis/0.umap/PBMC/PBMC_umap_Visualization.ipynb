{
 "cells": [
  {
   "cell_type": "code",
   "execution_count": 1,
   "metadata": {},
   "outputs": [],
   "source": [
    "import pandas as pd\n",
    "import numpy as np\n",
    "import matplotlib.pyplot as plt\n",
    "import seaborn as sns\n",
    "import pathlib\n",
    "import plotly_express as px\n",
    "import plotly.graph_objs as go"
   ]
  },
  {
   "cell_type": "code",
   "execution_count": 2,
   "metadata": {},
   "outputs": [],
   "source": [
    "def umap_graph(df: pd.DataFrame, color: str, save_name: pathlib.Path, title: str):\n",
    "    \"\"\"plot umap graph\n",
    "\n",
    "    Parameters\n",
    "    ----------\n",
    "    df : pd.DataFrame\n",
    "        pandas dataframe with umap coordinates\n",
    "    color : str\n",
    "        column to color points by\n",
    "    save_name : pathlib.Path\n",
    "        name of file to be saved\n",
    "    title : str\n",
    "        title of plot\n",
    "    \"\"\"\n",
    "\n",
    "    # plot UMAP\n",
    "    fig_2d = px.scatter(\n",
    "        df,\n",
    "        x=\"umap_1\",\n",
    "        y=\"umap_2\",\n",
    "        color=color,\n",
    "        labels={\"color\": \"Cell Type\"},\n",
    "        title=f\"{title}\",\n",
    "    ).update_layout(xaxis_title=\"UMAP_1\", yaxis_title=\"UMAP_2\")\n",
    "\n",
    "    fig_2d.update_traces(marker={\"size\": 12})\n",
    "    fig_2d.show()\n",
    "\n",
    "    # save UMAP\n",
    "    # fig_2d.write_html(f\"{save_name}.html\")\n",
    "    fig_2d.write_image(f\"{save_name}.png\")"
   ]
  },
  {
   "cell_type": "code",
   "execution_count": 3,
   "metadata": {},
   "outputs": [],
   "source": [
    "# import nELISA umap data\n",
    "nELISA_plate_430420_PBMC_path = pathlib.Path(\n",
    "    \"./results/nELISA_plate_430420_umap_PBMC.csv\"\n",
    ")\n",
    "\n",
    "nELISA_plate_430420 = pd.read_csv(nELISA_plate_430420_PBMC_path)"
   ]
  },
  {
   "cell_type": "code",
   "execution_count": 4,
   "metadata": {},
   "outputs": [
    {
     "data": {
      "application/vnd.plotly.v1+json": {
       "config": {
        "plotlyServerURL": "https://plot.ly"
       },
       "data": [
        {
         "hovertemplate": "cell_type=PBMC<br>umap_1=%{x}<br>umap_2=%{y}<extra></extra>",
         "legendgroup": "PBMC",
         "marker": {
          "color": "#636efa",
          "size": 12,
          "symbol": "circle"
         },
         "mode": "markers",
         "name": "PBMC",
         "orientation": "v",
         "showlegend": true,
         "type": "scatter",
         "x": [
          6.1848674,
          7.1271505,
          8.877183,
          8.804817,
          6.2066817,
          7.9031615,
          10.171222,
          9.852255,
          6.714764,
          8.353386,
          8.083594,
          9.682855,
          9.582959,
          9.10267,
          9.421256,
          8.86,
          11.237681,
          7.4885693,
          8.965515,
          9.584494,
          5.274304,
          3.1239562,
          3.2364836,
          3.8736057,
          4.8116193,
          4.0466285,
          5.4029613,
          4.57975,
          5.7924848,
          3.7772734,
          5.6864843,
          6.291163,
          3.1101022,
          3.6833098,
          4.6193337,
          5.0859337,
          4.278674,
          4.9312177,
          4.405179,
          3.6757646,
          9.029404,
          10.231108,
          10.060092,
          10.984471,
          12.360881,
          12.90634,
          11.678063,
          11.298551,
          12.640573,
          11.856802,
          10.8012085,
          11.740505,
          4.652176,
          2.6694932,
          2.6828263,
          4.2783628,
          3.3147511,
          5.2455435,
          3.3687558,
          4.7268047,
          3.3828895,
          6.3974442,
          6.0971575,
          6.6261897,
          12.912779,
          11.094106,
          12.610306,
          11.623852,
          9.63995,
          10.150959,
          9.9584875,
          10.608692,
          3.7397826,
          4.784717,
          3.0263674,
          4.8483853,
          6.481578,
          8.279896,
          9.378238,
          8.597874,
          5.4903407,
          6.9723296,
          6.6349874,
          6.3792195,
          7.8534017,
          9.188535,
          9.35528,
          7.4408073,
          8.862622,
          9.598662,
          7.866392,
          8.605867,
          4.370918,
          4.7524576,
          4.6002946,
          5.541343,
          4.8483477,
          4.048826,
          6.239959,
          5.1830683,
          4.973897,
          5.6771584,
          5.6127443,
          5.327235,
          10.800692,
          10.509076,
          11.268544,
          11.191013,
          10.491386,
          10.349841,
          11.139314,
          10.835458,
          8.254289,
          8.501779,
          5.3462496,
          9.836522,
          6.804516,
          6.1715865,
          5.650725,
          6.3395214,
          5.9582033,
          7.658917,
          9.4227085,
          5.643482,
          6.0456724,
          5.4753976,
          6.9016867,
          10.027936,
          8.40905,
          6.7830315,
          7.8901477,
          8.696026,
          5.198267,
          8.090131,
          7.4724503,
          6.7871222,
          7.6164093,
          8.029554,
          6.133283,
          8.538965,
          7.093384,
          7.331786,
          9.229974,
          7.2391133,
          9.857485,
          10.556327,
          9.416812,
          10.136884,
          6.932302,
          7.5909243,
          8.908558,
          6.334013,
          9.86149,
          8.945065
         ],
         "xaxis": "x",
         "y": [
          4.836307,
          5.8550215,
          4.4285216,
          7.2143993,
          7.007176,
          4.8797264,
          5.230283,
          7.7440705,
          7.462769,
          4.747781,
          5.1077833,
          6.132669,
          0.3572608,
          2.3121152,
          1.1295334,
          1.2908931,
          1.4746945,
          0.86714435,
          0.5707853,
          1.9980118,
          1.0809575,
          -0.6448977,
          1.3882996,
          2.0622594,
          1.7570891,
          1.3597423,
          1.2151561,
          1.429621,
          -3.309146,
          0.77231,
          0.18635096,
          0.47329235,
          -0.7885775,
          0.8407486,
          -1.1885407,
          0.116166696,
          -0.36097977,
          0.7782948,
          0.4367303,
          -0.11668639,
          -3.268839,
          -4.0297346,
          -3.2435343,
          -4.810435,
          -4.1334686,
          -3.659268,
          -3.023429,
          -4.016538,
          -4.5365853,
          -3.8945615,
          -3.6525364,
          -3.707474,
          -1.7325637,
          -0.4390842,
          -0.2915536,
          -0.6824182,
          0.2584662,
          -0.637612,
          -1.1091094,
          0.3810285,
          -1.4155718,
          -1.2561415,
          -2.0310843,
          -2.6757178,
          -4.260448,
          -5.289259,
          -3.4268248,
          -4.6888876,
          -4.209861,
          -5.2467237,
          -4.7454443,
          -4.496364,
          -1.257229,
          -0.27453947,
          0.3105847,
          -1.357959,
          3.7328444,
          6.3928423,
          7.438801,
          5.7771006,
          3.799603,
          5.338152,
          5.623904,
          4.3587904,
          4.949119,
          4.2207885,
          5.778209,
          4.0322647,
          -4.2525935,
          -3.192434,
          -3.0502522,
          -3.3203738,
          0.4679684,
          -2.4865482,
          -0.75440526,
          -0.9273446,
          -3.2262268,
          -1.5909488,
          -0.64815164,
          -3.936502,
          -3.5638916,
          -0.63657475,
          -3.0614626,
          -3.2142794,
          -1.3471427,
          -1.7903415,
          -2.2320423,
          -1.9342276,
          -0.6335099,
          2.173302,
          1.0733249,
          1.7847017,
          2.2095194,
          3.09606,
          5.8435035,
          4.8433604,
          2.8159926,
          2.6167958,
          2.2158628,
          2.182606,
          6.295394,
          1.7489454,
          6.9537773,
          4.413434,
          5.3959394,
          5.042902,
          4.854067,
          6.797659,
          3.292791,
          6.234093,
          4.0909505,
          6.994813,
          4.6485023,
          6.80865,
          7.4661136,
          4.4841146,
          3.1530485,
          5.8206277,
          6.6476426,
          5.795464,
          3.5015206,
          6.5724044,
          3.5755537,
          5.1845765,
          -1.1734124,
          0.6931075,
          -2.3853514,
          0.9037002,
          7.4096727,
          6.6128607,
          4.9578056,
          6.0715046,
          6.22895,
          6.273999
         ],
         "yaxis": "y"
        }
       ],
       "layout": {
        "legend": {
         "title": {
          "text": "cell_type"
         },
         "tracegroupgap": 0
        },
        "template": {
         "data": {
          "bar": [
           {
            "error_x": {
             "color": "#2a3f5f"
            },
            "error_y": {
             "color": "#2a3f5f"
            },
            "marker": {
             "line": {
              "color": "#E5ECF6",
              "width": 0.5
             },
             "pattern": {
              "fillmode": "overlay",
              "size": 10,
              "solidity": 0.2
             }
            },
            "type": "bar"
           }
          ],
          "barpolar": [
           {
            "marker": {
             "line": {
              "color": "#E5ECF6",
              "width": 0.5
             },
             "pattern": {
              "fillmode": "overlay",
              "size": 10,
              "solidity": 0.2
             }
            },
            "type": "barpolar"
           }
          ],
          "carpet": [
           {
            "aaxis": {
             "endlinecolor": "#2a3f5f",
             "gridcolor": "white",
             "linecolor": "white",
             "minorgridcolor": "white",
             "startlinecolor": "#2a3f5f"
            },
            "baxis": {
             "endlinecolor": "#2a3f5f",
             "gridcolor": "white",
             "linecolor": "white",
             "minorgridcolor": "white",
             "startlinecolor": "#2a3f5f"
            },
            "type": "carpet"
           }
          ],
          "choropleth": [
           {
            "colorbar": {
             "outlinewidth": 0,
             "ticks": ""
            },
            "type": "choropleth"
           }
          ],
          "contour": [
           {
            "colorbar": {
             "outlinewidth": 0,
             "ticks": ""
            },
            "colorscale": [
             [
              0,
              "#0d0887"
             ],
             [
              0.1111111111111111,
              "#46039f"
             ],
             [
              0.2222222222222222,
              "#7201a8"
             ],
             [
              0.3333333333333333,
              "#9c179e"
             ],
             [
              0.4444444444444444,
              "#bd3786"
             ],
             [
              0.5555555555555556,
              "#d8576b"
             ],
             [
              0.6666666666666666,
              "#ed7953"
             ],
             [
              0.7777777777777778,
              "#fb9f3a"
             ],
             [
              0.8888888888888888,
              "#fdca26"
             ],
             [
              1,
              "#f0f921"
             ]
            ],
            "type": "contour"
           }
          ],
          "contourcarpet": [
           {
            "colorbar": {
             "outlinewidth": 0,
             "ticks": ""
            },
            "type": "contourcarpet"
           }
          ],
          "heatmap": [
           {
            "colorbar": {
             "outlinewidth": 0,
             "ticks": ""
            },
            "colorscale": [
             [
              0,
              "#0d0887"
             ],
             [
              0.1111111111111111,
              "#46039f"
             ],
             [
              0.2222222222222222,
              "#7201a8"
             ],
             [
              0.3333333333333333,
              "#9c179e"
             ],
             [
              0.4444444444444444,
              "#bd3786"
             ],
             [
              0.5555555555555556,
              "#d8576b"
             ],
             [
              0.6666666666666666,
              "#ed7953"
             ],
             [
              0.7777777777777778,
              "#fb9f3a"
             ],
             [
              0.8888888888888888,
              "#fdca26"
             ],
             [
              1,
              "#f0f921"
             ]
            ],
            "type": "heatmap"
           }
          ],
          "heatmapgl": [
           {
            "colorbar": {
             "outlinewidth": 0,
             "ticks": ""
            },
            "colorscale": [
             [
              0,
              "#0d0887"
             ],
             [
              0.1111111111111111,
              "#46039f"
             ],
             [
              0.2222222222222222,
              "#7201a8"
             ],
             [
              0.3333333333333333,
              "#9c179e"
             ],
             [
              0.4444444444444444,
              "#bd3786"
             ],
             [
              0.5555555555555556,
              "#d8576b"
             ],
             [
              0.6666666666666666,
              "#ed7953"
             ],
             [
              0.7777777777777778,
              "#fb9f3a"
             ],
             [
              0.8888888888888888,
              "#fdca26"
             ],
             [
              1,
              "#f0f921"
             ]
            ],
            "type": "heatmapgl"
           }
          ],
          "histogram": [
           {
            "marker": {
             "pattern": {
              "fillmode": "overlay",
              "size": 10,
              "solidity": 0.2
             }
            },
            "type": "histogram"
           }
          ],
          "histogram2d": [
           {
            "colorbar": {
             "outlinewidth": 0,
             "ticks": ""
            },
            "colorscale": [
             [
              0,
              "#0d0887"
             ],
             [
              0.1111111111111111,
              "#46039f"
             ],
             [
              0.2222222222222222,
              "#7201a8"
             ],
             [
              0.3333333333333333,
              "#9c179e"
             ],
             [
              0.4444444444444444,
              "#bd3786"
             ],
             [
              0.5555555555555556,
              "#d8576b"
             ],
             [
              0.6666666666666666,
              "#ed7953"
             ],
             [
              0.7777777777777778,
              "#fb9f3a"
             ],
             [
              0.8888888888888888,
              "#fdca26"
             ],
             [
              1,
              "#f0f921"
             ]
            ],
            "type": "histogram2d"
           }
          ],
          "histogram2dcontour": [
           {
            "colorbar": {
             "outlinewidth": 0,
             "ticks": ""
            },
            "colorscale": [
             [
              0,
              "#0d0887"
             ],
             [
              0.1111111111111111,
              "#46039f"
             ],
             [
              0.2222222222222222,
              "#7201a8"
             ],
             [
              0.3333333333333333,
              "#9c179e"
             ],
             [
              0.4444444444444444,
              "#bd3786"
             ],
             [
              0.5555555555555556,
              "#d8576b"
             ],
             [
              0.6666666666666666,
              "#ed7953"
             ],
             [
              0.7777777777777778,
              "#fb9f3a"
             ],
             [
              0.8888888888888888,
              "#fdca26"
             ],
             [
              1,
              "#f0f921"
             ]
            ],
            "type": "histogram2dcontour"
           }
          ],
          "mesh3d": [
           {
            "colorbar": {
             "outlinewidth": 0,
             "ticks": ""
            },
            "type": "mesh3d"
           }
          ],
          "parcoords": [
           {
            "line": {
             "colorbar": {
              "outlinewidth": 0,
              "ticks": ""
             }
            },
            "type": "parcoords"
           }
          ],
          "pie": [
           {
            "automargin": true,
            "type": "pie"
           }
          ],
          "scatter": [
           {
            "fillpattern": {
             "fillmode": "overlay",
             "size": 10,
             "solidity": 0.2
            },
            "type": "scatter"
           }
          ],
          "scatter3d": [
           {
            "line": {
             "colorbar": {
              "outlinewidth": 0,
              "ticks": ""
             }
            },
            "marker": {
             "colorbar": {
              "outlinewidth": 0,
              "ticks": ""
             }
            },
            "type": "scatter3d"
           }
          ],
          "scattercarpet": [
           {
            "marker": {
             "colorbar": {
              "outlinewidth": 0,
              "ticks": ""
             }
            },
            "type": "scattercarpet"
           }
          ],
          "scattergeo": [
           {
            "marker": {
             "colorbar": {
              "outlinewidth": 0,
              "ticks": ""
             }
            },
            "type": "scattergeo"
           }
          ],
          "scattergl": [
           {
            "marker": {
             "colorbar": {
              "outlinewidth": 0,
              "ticks": ""
             }
            },
            "type": "scattergl"
           }
          ],
          "scattermapbox": [
           {
            "marker": {
             "colorbar": {
              "outlinewidth": 0,
              "ticks": ""
             }
            },
            "type": "scattermapbox"
           }
          ],
          "scatterpolar": [
           {
            "marker": {
             "colorbar": {
              "outlinewidth": 0,
              "ticks": ""
             }
            },
            "type": "scatterpolar"
           }
          ],
          "scatterpolargl": [
           {
            "marker": {
             "colorbar": {
              "outlinewidth": 0,
              "ticks": ""
             }
            },
            "type": "scatterpolargl"
           }
          ],
          "scatterternary": [
           {
            "marker": {
             "colorbar": {
              "outlinewidth": 0,
              "ticks": ""
             }
            },
            "type": "scatterternary"
           }
          ],
          "surface": [
           {
            "colorbar": {
             "outlinewidth": 0,
             "ticks": ""
            },
            "colorscale": [
             [
              0,
              "#0d0887"
             ],
             [
              0.1111111111111111,
              "#46039f"
             ],
             [
              0.2222222222222222,
              "#7201a8"
             ],
             [
              0.3333333333333333,
              "#9c179e"
             ],
             [
              0.4444444444444444,
              "#bd3786"
             ],
             [
              0.5555555555555556,
              "#d8576b"
             ],
             [
              0.6666666666666666,
              "#ed7953"
             ],
             [
              0.7777777777777778,
              "#fb9f3a"
             ],
             [
              0.8888888888888888,
              "#fdca26"
             ],
             [
              1,
              "#f0f921"
             ]
            ],
            "type": "surface"
           }
          ],
          "table": [
           {
            "cells": {
             "fill": {
              "color": "#EBF0F8"
             },
             "line": {
              "color": "white"
             }
            },
            "header": {
             "fill": {
              "color": "#C8D4E3"
             },
             "line": {
              "color": "white"
             }
            },
            "type": "table"
           }
          ]
         },
         "layout": {
          "annotationdefaults": {
           "arrowcolor": "#2a3f5f",
           "arrowhead": 0,
           "arrowwidth": 1
          },
          "autotypenumbers": "strict",
          "coloraxis": {
           "colorbar": {
            "outlinewidth": 0,
            "ticks": ""
           }
          },
          "colorscale": {
           "diverging": [
            [
             0,
             "#8e0152"
            ],
            [
             0.1,
             "#c51b7d"
            ],
            [
             0.2,
             "#de77ae"
            ],
            [
             0.3,
             "#f1b6da"
            ],
            [
             0.4,
             "#fde0ef"
            ],
            [
             0.5,
             "#f7f7f7"
            ],
            [
             0.6,
             "#e6f5d0"
            ],
            [
             0.7,
             "#b8e186"
            ],
            [
             0.8,
             "#7fbc41"
            ],
            [
             0.9,
             "#4d9221"
            ],
            [
             1,
             "#276419"
            ]
           ],
           "sequential": [
            [
             0,
             "#0d0887"
            ],
            [
             0.1111111111111111,
             "#46039f"
            ],
            [
             0.2222222222222222,
             "#7201a8"
            ],
            [
             0.3333333333333333,
             "#9c179e"
            ],
            [
             0.4444444444444444,
             "#bd3786"
            ],
            [
             0.5555555555555556,
             "#d8576b"
            ],
            [
             0.6666666666666666,
             "#ed7953"
            ],
            [
             0.7777777777777778,
             "#fb9f3a"
            ],
            [
             0.8888888888888888,
             "#fdca26"
            ],
            [
             1,
             "#f0f921"
            ]
           ],
           "sequentialminus": [
            [
             0,
             "#0d0887"
            ],
            [
             0.1111111111111111,
             "#46039f"
            ],
            [
             0.2222222222222222,
             "#7201a8"
            ],
            [
             0.3333333333333333,
             "#9c179e"
            ],
            [
             0.4444444444444444,
             "#bd3786"
            ],
            [
             0.5555555555555556,
             "#d8576b"
            ],
            [
             0.6666666666666666,
             "#ed7953"
            ],
            [
             0.7777777777777778,
             "#fb9f3a"
            ],
            [
             0.8888888888888888,
             "#fdca26"
            ],
            [
             1,
             "#f0f921"
            ]
           ]
          },
          "colorway": [
           "#636efa",
           "#EF553B",
           "#00cc96",
           "#ab63fa",
           "#FFA15A",
           "#19d3f3",
           "#FF6692",
           "#B6E880",
           "#FF97FF",
           "#FECB52"
          ],
          "font": {
           "color": "#2a3f5f"
          },
          "geo": {
           "bgcolor": "white",
           "lakecolor": "white",
           "landcolor": "#E5ECF6",
           "showlakes": true,
           "showland": true,
           "subunitcolor": "white"
          },
          "hoverlabel": {
           "align": "left"
          },
          "hovermode": "closest",
          "mapbox": {
           "style": "light"
          },
          "paper_bgcolor": "white",
          "plot_bgcolor": "#E5ECF6",
          "polar": {
           "angularaxis": {
            "gridcolor": "white",
            "linecolor": "white",
            "ticks": ""
           },
           "bgcolor": "#E5ECF6",
           "radialaxis": {
            "gridcolor": "white",
            "linecolor": "white",
            "ticks": ""
           }
          },
          "scene": {
           "xaxis": {
            "backgroundcolor": "#E5ECF6",
            "gridcolor": "white",
            "gridwidth": 2,
            "linecolor": "white",
            "showbackground": true,
            "ticks": "",
            "zerolinecolor": "white"
           },
           "yaxis": {
            "backgroundcolor": "#E5ECF6",
            "gridcolor": "white",
            "gridwidth": 2,
            "linecolor": "white",
            "showbackground": true,
            "ticks": "",
            "zerolinecolor": "white"
           },
           "zaxis": {
            "backgroundcolor": "#E5ECF6",
            "gridcolor": "white",
            "gridwidth": 2,
            "linecolor": "white",
            "showbackground": true,
            "ticks": "",
            "zerolinecolor": "white"
           }
          },
          "shapedefaults": {
           "line": {
            "color": "#2a3f5f"
           }
          },
          "ternary": {
           "aaxis": {
            "gridcolor": "white",
            "linecolor": "white",
            "ticks": ""
           },
           "baxis": {
            "gridcolor": "white",
            "linecolor": "white",
            "ticks": ""
           },
           "bgcolor": "#E5ECF6",
           "caxis": {
            "gridcolor": "white",
            "linecolor": "white",
            "ticks": ""
           }
          },
          "title": {
           "x": 0.05
          },
          "xaxis": {
           "automargin": true,
           "gridcolor": "white",
           "linecolor": "white",
           "ticks": "",
           "title": {
            "standoff": 15
           },
           "zerolinecolor": "white",
           "zerolinewidth": 2
          },
          "yaxis": {
           "automargin": true,
           "gridcolor": "white",
           "linecolor": "white",
           "ticks": "",
           "title": {
            "standoff": 15
           },
           "zerolinecolor": "white",
           "zerolinewidth": 2
          }
         }
        },
        "title": {
         "text": "Umap projection of nELISA data colored by cell type"
        },
        "xaxis": {
         "anchor": "y",
         "domain": [
          0,
          1
         ],
         "title": {
          "text": "UMAP_1"
         }
        },
        "yaxis": {
         "anchor": "x",
         "domain": [
          0,
          1
         ],
         "title": {
          "text": "UMAP_2"
         }
        }
       }
      }
     },
     "metadata": {},
     "output_type": "display_data"
    },
    {
     "data": {
      "application/vnd.plotly.v1+json": {
       "config": {
        "plotlyServerURL": "https://plot.ly"
       },
       "data": [
        {
         "hovertemplate": "inducer1=DMSO<br>umap_1=%{x}<br>umap_2=%{y}<extra></extra>",
         "legendgroup": "DMSO",
         "marker": {
          "color": "#636efa",
          "size": 12,
          "symbol": "circle"
         },
         "mode": "markers",
         "name": "DMSO",
         "orientation": "v",
         "showlegend": true,
         "type": "scatter",
         "x": [
          6.1848674,
          7.1271505,
          8.877183,
          8.804817,
          6.2066817,
          7.9031615,
          10.171222,
          9.852255,
          6.714764,
          8.353386,
          8.083594,
          9.682855,
          9.582959,
          9.10267,
          9.421256,
          8.86,
          11.237681,
          7.4885693,
          8.965515,
          9.584494
         ],
         "xaxis": "x",
         "y": [
          4.836307,
          5.8550215,
          4.4285216,
          7.2143993,
          7.007176,
          4.8797264,
          5.230283,
          7.7440705,
          7.462769,
          4.747781,
          5.1077833,
          6.132669,
          0.3572608,
          2.3121152,
          1.1295334,
          1.2908931,
          1.4746945,
          0.86714435,
          0.5707853,
          1.9980118
         ],
         "yaxis": "y"
        },
        {
         "hovertemplate": "inducer1=Flagellin<br>umap_1=%{x}<br>umap_2=%{y}<extra></extra>",
         "legendgroup": "Flagellin",
         "marker": {
          "color": "#EF553B",
          "size": 12,
          "symbol": "circle"
         },
         "mode": "markers",
         "name": "Flagellin",
         "orientation": "v",
         "showlegend": true,
         "type": "scatter",
         "x": [
          5.274304,
          3.1239562,
          3.2364836,
          3.8736057,
          4.8116193,
          4.0466285,
          5.4029613,
          4.57975,
          5.7924848,
          3.7772734,
          5.6864843,
          6.291163
         ],
         "xaxis": "x",
         "y": [
          1.0809575,
          -0.6448977,
          1.3882996,
          2.0622594,
          1.7570891,
          1.3597423,
          1.2151561,
          1.429621,
          -3.309146,
          0.77231,
          0.18635096,
          0.47329235
         ],
         "yaxis": "y"
        },
        {
         "hovertemplate": "inducer1=LPS<br>umap_1=%{x}<br>umap_2=%{y}<extra></extra>",
         "legendgroup": "LPS",
         "marker": {
          "color": "#00cc96",
          "size": 12,
          "symbol": "circle"
         },
         "mode": "markers",
         "name": "LPS",
         "orientation": "v",
         "showlegend": true,
         "type": "scatter",
         "x": [
          3.1101022,
          3.6833098,
          4.6193337,
          5.0859337,
          4.278674,
          4.9312177,
          4.405179,
          3.6757646,
          9.029404,
          10.231108,
          10.060092,
          10.984471,
          12.360881,
          12.90634,
          11.678063,
          11.298551,
          12.640573,
          11.856802,
          10.8012085,
          11.740505,
          4.652176,
          2.6694932,
          2.6828263,
          4.2783628,
          3.3147511,
          5.2455435,
          3.3687558,
          4.7268047,
          3.3828895,
          6.3974442,
          6.0971575,
          6.6261897,
          12.912779,
          11.094106,
          12.610306,
          11.623852,
          9.63995,
          10.150959,
          9.9584875,
          10.608692,
          3.7397826,
          4.784717,
          3.0263674,
          4.8483853,
          8.862622,
          9.598662,
          7.866392,
          8.605867,
          4.370918,
          4.7524576,
          4.6002946,
          5.541343,
          4.8483477,
          4.048826,
          6.239959,
          5.1830683,
          4.973897,
          5.6771584,
          5.6127443,
          5.327235,
          10.800692,
          10.509076,
          11.268544,
          11.191013,
          10.491386,
          10.349841,
          11.139314,
          10.835458
         ],
         "xaxis": "x",
         "y": [
          -0.7885775,
          0.8407486,
          -1.1885407,
          0.116166696,
          -0.36097977,
          0.7782948,
          0.4367303,
          -0.11668639,
          -3.268839,
          -4.0297346,
          -3.2435343,
          -4.810435,
          -4.1334686,
          -3.659268,
          -3.023429,
          -4.016538,
          -4.5365853,
          -3.8945615,
          -3.6525364,
          -3.707474,
          -1.7325637,
          -0.4390842,
          -0.2915536,
          -0.6824182,
          0.2584662,
          -0.637612,
          -1.1091094,
          0.3810285,
          -1.4155718,
          -1.2561415,
          -2.0310843,
          -2.6757178,
          -4.260448,
          -5.289259,
          -3.4268248,
          -4.6888876,
          -4.209861,
          -5.2467237,
          -4.7454443,
          -4.496364,
          -1.257229,
          -0.27453947,
          0.3105847,
          -1.357959,
          -4.2525935,
          -3.192434,
          -3.0502522,
          -3.3203738,
          0.4679684,
          -2.4865482,
          -0.75440526,
          -0.9273446,
          -3.2262268,
          -1.5909488,
          -0.64815164,
          -3.936502,
          -3.5638916,
          -0.63657475,
          -3.0614626,
          -3.2142794,
          -1.3471427,
          -1.7903415,
          -2.2320423,
          -1.9342276,
          -0.6335099,
          2.173302,
          1.0733249,
          1.7847017
         ],
         "yaxis": "y"
        },
        {
         "hovertemplate": "inducer1=Disulfiram<br>umap_1=%{x}<br>umap_2=%{y}<extra></extra>",
         "legendgroup": "Disulfiram",
         "marker": {
          "color": "#ab63fa",
          "size": 12,
          "symbol": "circle"
         },
         "mode": "markers",
         "name": "Disulfiram",
         "orientation": "v",
         "showlegend": true,
         "type": "scatter",
         "x": [
          6.481578,
          8.279896,
          9.378238,
          8.597874,
          5.4903407,
          6.9723296,
          6.6349874,
          6.3792195,
          7.8534017,
          9.188535,
          9.35528,
          7.4408073
         ],
         "xaxis": "x",
         "y": [
          3.7328444,
          6.3928423,
          7.438801,
          5.7771006,
          3.799603,
          5.338152,
          5.623904,
          4.3587904,
          4.949119,
          4.2207885,
          5.778209,
          4.0322647
         ],
         "yaxis": "y"
        },
        {
         "hovertemplate": "inducer1=Thapsigargin<br>umap_1=%{x}<br>umap_2=%{y}<extra></extra>",
         "legendgroup": "Thapsigargin",
         "marker": {
          "color": "#FFA15A",
          "size": 12,
          "symbol": "circle"
         },
         "mode": "markers",
         "name": "Thapsigargin",
         "orientation": "v",
         "showlegend": true,
         "type": "scatter",
         "x": [
          8.254289,
          8.501779,
          5.3462496,
          9.836522,
          6.804516,
          6.1715865,
          5.650725,
          6.3395214
         ],
         "xaxis": "x",
         "y": [
          2.2095194,
          3.09606,
          5.8435035,
          4.8433604,
          2.8159926,
          2.6167958,
          2.2158628,
          2.182606
         ],
         "yaxis": "y"
        },
        {
         "hovertemplate": "inducer1=Topotecan<br>umap_1=%{x}<br>umap_2=%{y}<extra></extra>",
         "legendgroup": "Topotecan",
         "marker": {
          "color": "#19d3f3",
          "size": 12,
          "symbol": "circle"
         },
         "mode": "markers",
         "name": "Topotecan",
         "orientation": "v",
         "showlegend": true,
         "type": "scatter",
         "x": [
          5.9582033,
          7.658917,
          9.4227085,
          5.643482,
          6.0456724,
          5.4753976,
          6.9016867,
          10.027936,
          8.40905,
          6.7830315,
          7.8901477,
          8.696026
         ],
         "xaxis": "x",
         "y": [
          6.295394,
          1.7489454,
          6.9537773,
          4.413434,
          5.3959394,
          5.042902,
          4.854067,
          6.797659,
          3.292791,
          6.234093,
          4.0909505,
          6.994813
         ],
         "yaxis": "y"
        },
        {
         "hovertemplate": "inducer1=H2O2<br>umap_1=%{x}<br>umap_2=%{y}<extra></extra>",
         "legendgroup": "H2O2",
         "marker": {
          "color": "#FF6692",
          "size": 12,
          "symbol": "circle"
         },
         "mode": "markers",
         "name": "H2O2",
         "orientation": "v",
         "showlegend": true,
         "type": "scatter",
         "x": [
          5.198267,
          8.090131,
          7.4724503,
          6.7871222,
          7.6164093,
          8.029554,
          6.133283,
          8.538965,
          7.093384,
          7.331786,
          9.229974,
          7.2391133,
          9.857485,
          10.556327,
          9.416812,
          10.136884
         ],
         "xaxis": "x",
         "y": [
          4.6485023,
          6.80865,
          7.4661136,
          4.4841146,
          3.1530485,
          5.8206277,
          6.6476426,
          5.795464,
          3.5015206,
          6.5724044,
          3.5755537,
          5.1845765,
          -1.1734124,
          0.6931075,
          -2.3853514,
          0.9037002
         ],
         "yaxis": "y"
        },
        {
         "hovertemplate": "inducer1=media ctr<br>umap_1=%{x}<br>umap_2=%{y}<extra></extra>",
         "legendgroup": "media ctr",
         "marker": {
          "color": "#B6E880",
          "size": 12,
          "symbol": "circle"
         },
         "mode": "markers",
         "name": "media ctr",
         "orientation": "v",
         "showlegend": true,
         "type": "scatter",
         "x": [
          6.932302,
          7.5909243,
          8.908558,
          6.334013,
          9.86149,
          8.945065
         ],
         "xaxis": "x",
         "y": [
          7.4096727,
          6.6128607,
          4.9578056,
          6.0715046,
          6.22895,
          6.273999
         ],
         "yaxis": "y"
        }
       ],
       "layout": {
        "legend": {
         "title": {
          "text": "inducer1"
         },
         "tracegroupgap": 0
        },
        "template": {
         "data": {
          "bar": [
           {
            "error_x": {
             "color": "#2a3f5f"
            },
            "error_y": {
             "color": "#2a3f5f"
            },
            "marker": {
             "line": {
              "color": "#E5ECF6",
              "width": 0.5
             },
             "pattern": {
              "fillmode": "overlay",
              "size": 10,
              "solidity": 0.2
             }
            },
            "type": "bar"
           }
          ],
          "barpolar": [
           {
            "marker": {
             "line": {
              "color": "#E5ECF6",
              "width": 0.5
             },
             "pattern": {
              "fillmode": "overlay",
              "size": 10,
              "solidity": 0.2
             }
            },
            "type": "barpolar"
           }
          ],
          "carpet": [
           {
            "aaxis": {
             "endlinecolor": "#2a3f5f",
             "gridcolor": "white",
             "linecolor": "white",
             "minorgridcolor": "white",
             "startlinecolor": "#2a3f5f"
            },
            "baxis": {
             "endlinecolor": "#2a3f5f",
             "gridcolor": "white",
             "linecolor": "white",
             "minorgridcolor": "white",
             "startlinecolor": "#2a3f5f"
            },
            "type": "carpet"
           }
          ],
          "choropleth": [
           {
            "colorbar": {
             "outlinewidth": 0,
             "ticks": ""
            },
            "type": "choropleth"
           }
          ],
          "contour": [
           {
            "colorbar": {
             "outlinewidth": 0,
             "ticks": ""
            },
            "colorscale": [
             [
              0,
              "#0d0887"
             ],
             [
              0.1111111111111111,
              "#46039f"
             ],
             [
              0.2222222222222222,
              "#7201a8"
             ],
             [
              0.3333333333333333,
              "#9c179e"
             ],
             [
              0.4444444444444444,
              "#bd3786"
             ],
             [
              0.5555555555555556,
              "#d8576b"
             ],
             [
              0.6666666666666666,
              "#ed7953"
             ],
             [
              0.7777777777777778,
              "#fb9f3a"
             ],
             [
              0.8888888888888888,
              "#fdca26"
             ],
             [
              1,
              "#f0f921"
             ]
            ],
            "type": "contour"
           }
          ],
          "contourcarpet": [
           {
            "colorbar": {
             "outlinewidth": 0,
             "ticks": ""
            },
            "type": "contourcarpet"
           }
          ],
          "heatmap": [
           {
            "colorbar": {
             "outlinewidth": 0,
             "ticks": ""
            },
            "colorscale": [
             [
              0,
              "#0d0887"
             ],
             [
              0.1111111111111111,
              "#46039f"
             ],
             [
              0.2222222222222222,
              "#7201a8"
             ],
             [
              0.3333333333333333,
              "#9c179e"
             ],
             [
              0.4444444444444444,
              "#bd3786"
             ],
             [
              0.5555555555555556,
              "#d8576b"
             ],
             [
              0.6666666666666666,
              "#ed7953"
             ],
             [
              0.7777777777777778,
              "#fb9f3a"
             ],
             [
              0.8888888888888888,
              "#fdca26"
             ],
             [
              1,
              "#f0f921"
             ]
            ],
            "type": "heatmap"
           }
          ],
          "heatmapgl": [
           {
            "colorbar": {
             "outlinewidth": 0,
             "ticks": ""
            },
            "colorscale": [
             [
              0,
              "#0d0887"
             ],
             [
              0.1111111111111111,
              "#46039f"
             ],
             [
              0.2222222222222222,
              "#7201a8"
             ],
             [
              0.3333333333333333,
              "#9c179e"
             ],
             [
              0.4444444444444444,
              "#bd3786"
             ],
             [
              0.5555555555555556,
              "#d8576b"
             ],
             [
              0.6666666666666666,
              "#ed7953"
             ],
             [
              0.7777777777777778,
              "#fb9f3a"
             ],
             [
              0.8888888888888888,
              "#fdca26"
             ],
             [
              1,
              "#f0f921"
             ]
            ],
            "type": "heatmapgl"
           }
          ],
          "histogram": [
           {
            "marker": {
             "pattern": {
              "fillmode": "overlay",
              "size": 10,
              "solidity": 0.2
             }
            },
            "type": "histogram"
           }
          ],
          "histogram2d": [
           {
            "colorbar": {
             "outlinewidth": 0,
             "ticks": ""
            },
            "colorscale": [
             [
              0,
              "#0d0887"
             ],
             [
              0.1111111111111111,
              "#46039f"
             ],
             [
              0.2222222222222222,
              "#7201a8"
             ],
             [
              0.3333333333333333,
              "#9c179e"
             ],
             [
              0.4444444444444444,
              "#bd3786"
             ],
             [
              0.5555555555555556,
              "#d8576b"
             ],
             [
              0.6666666666666666,
              "#ed7953"
             ],
             [
              0.7777777777777778,
              "#fb9f3a"
             ],
             [
              0.8888888888888888,
              "#fdca26"
             ],
             [
              1,
              "#f0f921"
             ]
            ],
            "type": "histogram2d"
           }
          ],
          "histogram2dcontour": [
           {
            "colorbar": {
             "outlinewidth": 0,
             "ticks": ""
            },
            "colorscale": [
             [
              0,
              "#0d0887"
             ],
             [
              0.1111111111111111,
              "#46039f"
             ],
             [
              0.2222222222222222,
              "#7201a8"
             ],
             [
              0.3333333333333333,
              "#9c179e"
             ],
             [
              0.4444444444444444,
              "#bd3786"
             ],
             [
              0.5555555555555556,
              "#d8576b"
             ],
             [
              0.6666666666666666,
              "#ed7953"
             ],
             [
              0.7777777777777778,
              "#fb9f3a"
             ],
             [
              0.8888888888888888,
              "#fdca26"
             ],
             [
              1,
              "#f0f921"
             ]
            ],
            "type": "histogram2dcontour"
           }
          ],
          "mesh3d": [
           {
            "colorbar": {
             "outlinewidth": 0,
             "ticks": ""
            },
            "type": "mesh3d"
           }
          ],
          "parcoords": [
           {
            "line": {
             "colorbar": {
              "outlinewidth": 0,
              "ticks": ""
             }
            },
            "type": "parcoords"
           }
          ],
          "pie": [
           {
            "automargin": true,
            "type": "pie"
           }
          ],
          "scatter": [
           {
            "fillpattern": {
             "fillmode": "overlay",
             "size": 10,
             "solidity": 0.2
            },
            "type": "scatter"
           }
          ],
          "scatter3d": [
           {
            "line": {
             "colorbar": {
              "outlinewidth": 0,
              "ticks": ""
             }
            },
            "marker": {
             "colorbar": {
              "outlinewidth": 0,
              "ticks": ""
             }
            },
            "type": "scatter3d"
           }
          ],
          "scattercarpet": [
           {
            "marker": {
             "colorbar": {
              "outlinewidth": 0,
              "ticks": ""
             }
            },
            "type": "scattercarpet"
           }
          ],
          "scattergeo": [
           {
            "marker": {
             "colorbar": {
              "outlinewidth": 0,
              "ticks": ""
             }
            },
            "type": "scattergeo"
           }
          ],
          "scattergl": [
           {
            "marker": {
             "colorbar": {
              "outlinewidth": 0,
              "ticks": ""
             }
            },
            "type": "scattergl"
           }
          ],
          "scattermapbox": [
           {
            "marker": {
             "colorbar": {
              "outlinewidth": 0,
              "ticks": ""
             }
            },
            "type": "scattermapbox"
           }
          ],
          "scatterpolar": [
           {
            "marker": {
             "colorbar": {
              "outlinewidth": 0,
              "ticks": ""
             }
            },
            "type": "scatterpolar"
           }
          ],
          "scatterpolargl": [
           {
            "marker": {
             "colorbar": {
              "outlinewidth": 0,
              "ticks": ""
             }
            },
            "type": "scatterpolargl"
           }
          ],
          "scatterternary": [
           {
            "marker": {
             "colorbar": {
              "outlinewidth": 0,
              "ticks": ""
             }
            },
            "type": "scatterternary"
           }
          ],
          "surface": [
           {
            "colorbar": {
             "outlinewidth": 0,
             "ticks": ""
            },
            "colorscale": [
             [
              0,
              "#0d0887"
             ],
             [
              0.1111111111111111,
              "#46039f"
             ],
             [
              0.2222222222222222,
              "#7201a8"
             ],
             [
              0.3333333333333333,
              "#9c179e"
             ],
             [
              0.4444444444444444,
              "#bd3786"
             ],
             [
              0.5555555555555556,
              "#d8576b"
             ],
             [
              0.6666666666666666,
              "#ed7953"
             ],
             [
              0.7777777777777778,
              "#fb9f3a"
             ],
             [
              0.8888888888888888,
              "#fdca26"
             ],
             [
              1,
              "#f0f921"
             ]
            ],
            "type": "surface"
           }
          ],
          "table": [
           {
            "cells": {
             "fill": {
              "color": "#EBF0F8"
             },
             "line": {
              "color": "white"
             }
            },
            "header": {
             "fill": {
              "color": "#C8D4E3"
             },
             "line": {
              "color": "white"
             }
            },
            "type": "table"
           }
          ]
         },
         "layout": {
          "annotationdefaults": {
           "arrowcolor": "#2a3f5f",
           "arrowhead": 0,
           "arrowwidth": 1
          },
          "autotypenumbers": "strict",
          "coloraxis": {
           "colorbar": {
            "outlinewidth": 0,
            "ticks": ""
           }
          },
          "colorscale": {
           "diverging": [
            [
             0,
             "#8e0152"
            ],
            [
             0.1,
             "#c51b7d"
            ],
            [
             0.2,
             "#de77ae"
            ],
            [
             0.3,
             "#f1b6da"
            ],
            [
             0.4,
             "#fde0ef"
            ],
            [
             0.5,
             "#f7f7f7"
            ],
            [
             0.6,
             "#e6f5d0"
            ],
            [
             0.7,
             "#b8e186"
            ],
            [
             0.8,
             "#7fbc41"
            ],
            [
             0.9,
             "#4d9221"
            ],
            [
             1,
             "#276419"
            ]
           ],
           "sequential": [
            [
             0,
             "#0d0887"
            ],
            [
             0.1111111111111111,
             "#46039f"
            ],
            [
             0.2222222222222222,
             "#7201a8"
            ],
            [
             0.3333333333333333,
             "#9c179e"
            ],
            [
             0.4444444444444444,
             "#bd3786"
            ],
            [
             0.5555555555555556,
             "#d8576b"
            ],
            [
             0.6666666666666666,
             "#ed7953"
            ],
            [
             0.7777777777777778,
             "#fb9f3a"
            ],
            [
             0.8888888888888888,
             "#fdca26"
            ],
            [
             1,
             "#f0f921"
            ]
           ],
           "sequentialminus": [
            [
             0,
             "#0d0887"
            ],
            [
             0.1111111111111111,
             "#46039f"
            ],
            [
             0.2222222222222222,
             "#7201a8"
            ],
            [
             0.3333333333333333,
             "#9c179e"
            ],
            [
             0.4444444444444444,
             "#bd3786"
            ],
            [
             0.5555555555555556,
             "#d8576b"
            ],
            [
             0.6666666666666666,
             "#ed7953"
            ],
            [
             0.7777777777777778,
             "#fb9f3a"
            ],
            [
             0.8888888888888888,
             "#fdca26"
            ],
            [
             1,
             "#f0f921"
            ]
           ]
          },
          "colorway": [
           "#636efa",
           "#EF553B",
           "#00cc96",
           "#ab63fa",
           "#FFA15A",
           "#19d3f3",
           "#FF6692",
           "#B6E880",
           "#FF97FF",
           "#FECB52"
          ],
          "font": {
           "color": "#2a3f5f"
          },
          "geo": {
           "bgcolor": "white",
           "lakecolor": "white",
           "landcolor": "#E5ECF6",
           "showlakes": true,
           "showland": true,
           "subunitcolor": "white"
          },
          "hoverlabel": {
           "align": "left"
          },
          "hovermode": "closest",
          "mapbox": {
           "style": "light"
          },
          "paper_bgcolor": "white",
          "plot_bgcolor": "#E5ECF6",
          "polar": {
           "angularaxis": {
            "gridcolor": "white",
            "linecolor": "white",
            "ticks": ""
           },
           "bgcolor": "#E5ECF6",
           "radialaxis": {
            "gridcolor": "white",
            "linecolor": "white",
            "ticks": ""
           }
          },
          "scene": {
           "xaxis": {
            "backgroundcolor": "#E5ECF6",
            "gridcolor": "white",
            "gridwidth": 2,
            "linecolor": "white",
            "showbackground": true,
            "ticks": "",
            "zerolinecolor": "white"
           },
           "yaxis": {
            "backgroundcolor": "#E5ECF6",
            "gridcolor": "white",
            "gridwidth": 2,
            "linecolor": "white",
            "showbackground": true,
            "ticks": "",
            "zerolinecolor": "white"
           },
           "zaxis": {
            "backgroundcolor": "#E5ECF6",
            "gridcolor": "white",
            "gridwidth": 2,
            "linecolor": "white",
            "showbackground": true,
            "ticks": "",
            "zerolinecolor": "white"
           }
          },
          "shapedefaults": {
           "line": {
            "color": "#2a3f5f"
           }
          },
          "ternary": {
           "aaxis": {
            "gridcolor": "white",
            "linecolor": "white",
            "ticks": ""
           },
           "baxis": {
            "gridcolor": "white",
            "linecolor": "white",
            "ticks": ""
           },
           "bgcolor": "#E5ECF6",
           "caxis": {
            "gridcolor": "white",
            "linecolor": "white",
            "ticks": ""
           }
          },
          "title": {
           "x": 0.05
          },
          "xaxis": {
           "automargin": true,
           "gridcolor": "white",
           "linecolor": "white",
           "ticks": "",
           "title": {
            "standoff": 15
           },
           "zerolinecolor": "white",
           "zerolinewidth": 2
          },
          "yaxis": {
           "automargin": true,
           "gridcolor": "white",
           "linecolor": "white",
           "ticks": "",
           "title": {
            "standoff": 15
           },
           "zerolinecolor": "white",
           "zerolinewidth": 2
          }
         }
        },
        "title": {
         "text": "Umap projection of nELISA data colored by inducer1"
        },
        "xaxis": {
         "anchor": "y",
         "domain": [
          0,
          1
         ],
         "title": {
          "text": "UMAP_1"
         }
        },
        "yaxis": {
         "anchor": "x",
         "domain": [
          0,
          1
         ],
         "title": {
          "text": "UMAP_2"
         }
        }
       }
      }
     },
     "metadata": {},
     "output_type": "display_data"
    },
    {
     "data": {
      "application/vnd.plotly.v1+json": {
       "config": {
        "plotlyServerURL": "https://plot.ly"
       },
       "data": [
        {
         "hovertemplate": "inhibitor=DMSO<br>umap_1=%{x}<br>umap_2=%{y}<extra></extra>",
         "legendgroup": "DMSO",
         "marker": {
          "color": "#636efa",
          "size": 12,
          "symbol": "circle"
         },
         "mode": "markers",
         "name": "DMSO",
         "orientation": "v",
         "showlegend": true,
         "type": "scatter",
         "x": [
          6.1848674,
          7.1271505,
          8.877183,
          8.804817,
          6.2066817,
          7.9031615,
          10.171222,
          9.852255,
          6.714764,
          8.353386,
          8.083594,
          9.682855,
          5.274304,
          3.1239562,
          3.2364836,
          3.8736057,
          4.8116193,
          4.0466285,
          5.4029613,
          4.57975,
          3.1101022,
          3.6833098,
          4.6193337,
          5.0859337,
          4.278674,
          4.9312177,
          4.405179,
          3.6757646,
          9.029404,
          10.231108,
          10.060092,
          10.984471,
          12.360881,
          12.90634,
          11.678063,
          11.298551,
          12.640573,
          11.856802,
          10.8012085,
          11.740505,
          4.652176,
          2.6694932,
          2.6828263,
          4.2783628,
          3.3147511,
          5.2455435,
          3.3687558,
          4.7268047,
          3.3828895,
          6.3974442,
          6.0971575,
          6.6261897,
          12.912779,
          11.094106,
          12.610306,
          11.623852,
          9.63995,
          10.150959,
          9.9584875,
          10.608692,
          3.7397826,
          4.784717,
          3.0263674,
          4.8483853,
          6.481578,
          8.279896,
          9.378238,
          8.597874,
          5.4903407,
          6.9723296,
          6.6349874,
          6.3792195,
          7.8534017,
          9.188535,
          9.35528,
          7.4408073,
          8.254289,
          8.501779,
          5.3462496,
          9.836522,
          6.804516,
          6.1715865,
          5.650725,
          6.3395214,
          5.9582033,
          7.658917,
          9.4227085,
          5.643482,
          6.0456724,
          5.4753976,
          6.9016867,
          10.027936,
          8.40905,
          6.7830315,
          7.8901477,
          8.696026,
          5.198267,
          8.090131,
          7.4724503,
          6.7871222,
          7.6164093,
          8.029554,
          6.133283,
          8.538965
         ],
         "xaxis": "x",
         "y": [
          4.836307,
          5.8550215,
          4.4285216,
          7.2143993,
          7.007176,
          4.8797264,
          5.230283,
          7.7440705,
          7.462769,
          4.747781,
          5.1077833,
          6.132669,
          1.0809575,
          -0.6448977,
          1.3882996,
          2.0622594,
          1.7570891,
          1.3597423,
          1.2151561,
          1.429621,
          -0.7885775,
          0.8407486,
          -1.1885407,
          0.116166696,
          -0.36097977,
          0.7782948,
          0.4367303,
          -0.11668639,
          -3.268839,
          -4.0297346,
          -3.2435343,
          -4.810435,
          -4.1334686,
          -3.659268,
          -3.023429,
          -4.016538,
          -4.5365853,
          -3.8945615,
          -3.6525364,
          -3.707474,
          -1.7325637,
          -0.4390842,
          -0.2915536,
          -0.6824182,
          0.2584662,
          -0.637612,
          -1.1091094,
          0.3810285,
          -1.4155718,
          -1.2561415,
          -2.0310843,
          -2.6757178,
          -4.260448,
          -5.289259,
          -3.4268248,
          -4.6888876,
          -4.209861,
          -5.2467237,
          -4.7454443,
          -4.496364,
          -1.257229,
          -0.27453947,
          0.3105847,
          -1.357959,
          3.7328444,
          6.3928423,
          7.438801,
          5.7771006,
          3.799603,
          5.338152,
          5.623904,
          4.3587904,
          4.949119,
          4.2207885,
          5.778209,
          4.0322647,
          2.2095194,
          3.09606,
          5.8435035,
          4.8433604,
          2.8159926,
          2.6167958,
          2.2158628,
          2.182606,
          6.295394,
          1.7489454,
          6.9537773,
          4.413434,
          5.3959394,
          5.042902,
          4.854067,
          6.797659,
          3.292791,
          6.234093,
          4.0909505,
          6.994813,
          4.6485023,
          6.80865,
          7.4661136,
          4.4841146,
          3.1530485,
          5.8206277,
          6.6476426,
          5.795464
         ],
         "yaxis": "y"
        },
        {
         "hovertemplate": "inhibitor=Z-VAD-FMK<br>umap_1=%{x}<br>umap_2=%{y}<extra></extra>",
         "legendgroup": "Z-VAD-FMK",
         "marker": {
          "color": "#EF553B",
          "size": 12,
          "symbol": "circle"
         },
         "mode": "markers",
         "name": "Z-VAD-FMK",
         "orientation": "v",
         "showlegend": true,
         "type": "scatter",
         "x": [
          9.582959,
          9.10267,
          9.421256,
          8.86,
          11.237681,
          7.4885693,
          8.965515,
          9.584494,
          10.800692,
          10.509076,
          11.268544,
          11.191013,
          10.491386,
          10.349841,
          11.139314,
          10.835458,
          9.857485,
          10.556327,
          9.416812,
          10.136884
         ],
         "xaxis": "x",
         "y": [
          0.3572608,
          2.3121152,
          1.1295334,
          1.2908931,
          1.4746945,
          0.86714435,
          0.5707853,
          1.9980118,
          -1.3471427,
          -1.7903415,
          -2.2320423,
          -1.9342276,
          -0.6335099,
          2.173302,
          1.0733249,
          1.7847017,
          -1.1734124,
          0.6931075,
          -2.3853514,
          0.9037002
         ],
         "yaxis": "y"
        },
        {
         "hovertemplate": "inhibitor=Disulfiram<br>umap_1=%{x}<br>umap_2=%{y}<extra></extra>",
         "legendgroup": "Disulfiram",
         "marker": {
          "color": "#00cc96",
          "size": 12,
          "symbol": "circle"
         },
         "mode": "markers",
         "name": "Disulfiram",
         "orientation": "v",
         "showlegend": true,
         "type": "scatter",
         "x": [
          5.7924848,
          3.7772734,
          5.6864843,
          6.291163,
          8.862622,
          9.598662,
          7.866392,
          8.605867,
          4.370918,
          4.7524576,
          4.6002946,
          5.541343,
          4.8483477,
          4.048826,
          6.239959,
          5.1830683,
          4.973897,
          5.6771584,
          5.6127443,
          5.327235,
          7.093384,
          7.331786,
          9.229974,
          7.2391133
         ],
         "xaxis": "x",
         "y": [
          -3.309146,
          0.77231,
          0.18635096,
          0.47329235,
          -4.2525935,
          -3.192434,
          -3.0502522,
          -3.3203738,
          0.4679684,
          -2.4865482,
          -0.75440526,
          -0.9273446,
          -3.2262268,
          -1.5909488,
          -0.64815164,
          -3.936502,
          -3.5638916,
          -0.63657475,
          -3.0614626,
          -3.2142794,
          3.5015206,
          6.5724044,
          3.5755537,
          5.1845765
         ],
         "yaxis": "y"
        },
        {
         "hovertemplate": "inhibitor=Media ctr<br>umap_1=%{x}<br>umap_2=%{y}<extra></extra>",
         "legendgroup": "Media ctr",
         "marker": {
          "color": "#ab63fa",
          "size": 12,
          "symbol": "circle"
         },
         "mode": "markers",
         "name": "Media ctr",
         "orientation": "v",
         "showlegend": true,
         "type": "scatter",
         "x": [
          6.932302,
          7.5909243,
          8.908558,
          6.334013,
          9.86149
         ],
         "xaxis": "x",
         "y": [
          7.4096727,
          6.6128607,
          4.9578056,
          6.0715046,
          6.22895
         ],
         "yaxis": "y"
        },
        {
         "hovertemplate": "inhibitor=Media<br>umap_1=%{x}<br>umap_2=%{y}<extra></extra>",
         "legendgroup": "Media",
         "marker": {
          "color": "#FFA15A",
          "size": 12,
          "symbol": "circle"
         },
         "mode": "markers",
         "name": "Media",
         "orientation": "v",
         "showlegend": true,
         "type": "scatter",
         "x": [
          8.945065
         ],
         "xaxis": "x",
         "y": [
          6.273999
         ],
         "yaxis": "y"
        }
       ],
       "layout": {
        "legend": {
         "title": {
          "text": "inhibitor"
         },
         "tracegroupgap": 0
        },
        "template": {
         "data": {
          "bar": [
           {
            "error_x": {
             "color": "#2a3f5f"
            },
            "error_y": {
             "color": "#2a3f5f"
            },
            "marker": {
             "line": {
              "color": "#E5ECF6",
              "width": 0.5
             },
             "pattern": {
              "fillmode": "overlay",
              "size": 10,
              "solidity": 0.2
             }
            },
            "type": "bar"
           }
          ],
          "barpolar": [
           {
            "marker": {
             "line": {
              "color": "#E5ECF6",
              "width": 0.5
             },
             "pattern": {
              "fillmode": "overlay",
              "size": 10,
              "solidity": 0.2
             }
            },
            "type": "barpolar"
           }
          ],
          "carpet": [
           {
            "aaxis": {
             "endlinecolor": "#2a3f5f",
             "gridcolor": "white",
             "linecolor": "white",
             "minorgridcolor": "white",
             "startlinecolor": "#2a3f5f"
            },
            "baxis": {
             "endlinecolor": "#2a3f5f",
             "gridcolor": "white",
             "linecolor": "white",
             "minorgridcolor": "white",
             "startlinecolor": "#2a3f5f"
            },
            "type": "carpet"
           }
          ],
          "choropleth": [
           {
            "colorbar": {
             "outlinewidth": 0,
             "ticks": ""
            },
            "type": "choropleth"
           }
          ],
          "contour": [
           {
            "colorbar": {
             "outlinewidth": 0,
             "ticks": ""
            },
            "colorscale": [
             [
              0,
              "#0d0887"
             ],
             [
              0.1111111111111111,
              "#46039f"
             ],
             [
              0.2222222222222222,
              "#7201a8"
             ],
             [
              0.3333333333333333,
              "#9c179e"
             ],
             [
              0.4444444444444444,
              "#bd3786"
             ],
             [
              0.5555555555555556,
              "#d8576b"
             ],
             [
              0.6666666666666666,
              "#ed7953"
             ],
             [
              0.7777777777777778,
              "#fb9f3a"
             ],
             [
              0.8888888888888888,
              "#fdca26"
             ],
             [
              1,
              "#f0f921"
             ]
            ],
            "type": "contour"
           }
          ],
          "contourcarpet": [
           {
            "colorbar": {
             "outlinewidth": 0,
             "ticks": ""
            },
            "type": "contourcarpet"
           }
          ],
          "heatmap": [
           {
            "colorbar": {
             "outlinewidth": 0,
             "ticks": ""
            },
            "colorscale": [
             [
              0,
              "#0d0887"
             ],
             [
              0.1111111111111111,
              "#46039f"
             ],
             [
              0.2222222222222222,
              "#7201a8"
             ],
             [
              0.3333333333333333,
              "#9c179e"
             ],
             [
              0.4444444444444444,
              "#bd3786"
             ],
             [
              0.5555555555555556,
              "#d8576b"
             ],
             [
              0.6666666666666666,
              "#ed7953"
             ],
             [
              0.7777777777777778,
              "#fb9f3a"
             ],
             [
              0.8888888888888888,
              "#fdca26"
             ],
             [
              1,
              "#f0f921"
             ]
            ],
            "type": "heatmap"
           }
          ],
          "heatmapgl": [
           {
            "colorbar": {
             "outlinewidth": 0,
             "ticks": ""
            },
            "colorscale": [
             [
              0,
              "#0d0887"
             ],
             [
              0.1111111111111111,
              "#46039f"
             ],
             [
              0.2222222222222222,
              "#7201a8"
             ],
             [
              0.3333333333333333,
              "#9c179e"
             ],
             [
              0.4444444444444444,
              "#bd3786"
             ],
             [
              0.5555555555555556,
              "#d8576b"
             ],
             [
              0.6666666666666666,
              "#ed7953"
             ],
             [
              0.7777777777777778,
              "#fb9f3a"
             ],
             [
              0.8888888888888888,
              "#fdca26"
             ],
             [
              1,
              "#f0f921"
             ]
            ],
            "type": "heatmapgl"
           }
          ],
          "histogram": [
           {
            "marker": {
             "pattern": {
              "fillmode": "overlay",
              "size": 10,
              "solidity": 0.2
             }
            },
            "type": "histogram"
           }
          ],
          "histogram2d": [
           {
            "colorbar": {
             "outlinewidth": 0,
             "ticks": ""
            },
            "colorscale": [
             [
              0,
              "#0d0887"
             ],
             [
              0.1111111111111111,
              "#46039f"
             ],
             [
              0.2222222222222222,
              "#7201a8"
             ],
             [
              0.3333333333333333,
              "#9c179e"
             ],
             [
              0.4444444444444444,
              "#bd3786"
             ],
             [
              0.5555555555555556,
              "#d8576b"
             ],
             [
              0.6666666666666666,
              "#ed7953"
             ],
             [
              0.7777777777777778,
              "#fb9f3a"
             ],
             [
              0.8888888888888888,
              "#fdca26"
             ],
             [
              1,
              "#f0f921"
             ]
            ],
            "type": "histogram2d"
           }
          ],
          "histogram2dcontour": [
           {
            "colorbar": {
             "outlinewidth": 0,
             "ticks": ""
            },
            "colorscale": [
             [
              0,
              "#0d0887"
             ],
             [
              0.1111111111111111,
              "#46039f"
             ],
             [
              0.2222222222222222,
              "#7201a8"
             ],
             [
              0.3333333333333333,
              "#9c179e"
             ],
             [
              0.4444444444444444,
              "#bd3786"
             ],
             [
              0.5555555555555556,
              "#d8576b"
             ],
             [
              0.6666666666666666,
              "#ed7953"
             ],
             [
              0.7777777777777778,
              "#fb9f3a"
             ],
             [
              0.8888888888888888,
              "#fdca26"
             ],
             [
              1,
              "#f0f921"
             ]
            ],
            "type": "histogram2dcontour"
           }
          ],
          "mesh3d": [
           {
            "colorbar": {
             "outlinewidth": 0,
             "ticks": ""
            },
            "type": "mesh3d"
           }
          ],
          "parcoords": [
           {
            "line": {
             "colorbar": {
              "outlinewidth": 0,
              "ticks": ""
             }
            },
            "type": "parcoords"
           }
          ],
          "pie": [
           {
            "automargin": true,
            "type": "pie"
           }
          ],
          "scatter": [
           {
            "fillpattern": {
             "fillmode": "overlay",
             "size": 10,
             "solidity": 0.2
            },
            "type": "scatter"
           }
          ],
          "scatter3d": [
           {
            "line": {
             "colorbar": {
              "outlinewidth": 0,
              "ticks": ""
             }
            },
            "marker": {
             "colorbar": {
              "outlinewidth": 0,
              "ticks": ""
             }
            },
            "type": "scatter3d"
           }
          ],
          "scattercarpet": [
           {
            "marker": {
             "colorbar": {
              "outlinewidth": 0,
              "ticks": ""
             }
            },
            "type": "scattercarpet"
           }
          ],
          "scattergeo": [
           {
            "marker": {
             "colorbar": {
              "outlinewidth": 0,
              "ticks": ""
             }
            },
            "type": "scattergeo"
           }
          ],
          "scattergl": [
           {
            "marker": {
             "colorbar": {
              "outlinewidth": 0,
              "ticks": ""
             }
            },
            "type": "scattergl"
           }
          ],
          "scattermapbox": [
           {
            "marker": {
             "colorbar": {
              "outlinewidth": 0,
              "ticks": ""
             }
            },
            "type": "scattermapbox"
           }
          ],
          "scatterpolar": [
           {
            "marker": {
             "colorbar": {
              "outlinewidth": 0,
              "ticks": ""
             }
            },
            "type": "scatterpolar"
           }
          ],
          "scatterpolargl": [
           {
            "marker": {
             "colorbar": {
              "outlinewidth": 0,
              "ticks": ""
             }
            },
            "type": "scatterpolargl"
           }
          ],
          "scatterternary": [
           {
            "marker": {
             "colorbar": {
              "outlinewidth": 0,
              "ticks": ""
             }
            },
            "type": "scatterternary"
           }
          ],
          "surface": [
           {
            "colorbar": {
             "outlinewidth": 0,
             "ticks": ""
            },
            "colorscale": [
             [
              0,
              "#0d0887"
             ],
             [
              0.1111111111111111,
              "#46039f"
             ],
             [
              0.2222222222222222,
              "#7201a8"
             ],
             [
              0.3333333333333333,
              "#9c179e"
             ],
             [
              0.4444444444444444,
              "#bd3786"
             ],
             [
              0.5555555555555556,
              "#d8576b"
             ],
             [
              0.6666666666666666,
              "#ed7953"
             ],
             [
              0.7777777777777778,
              "#fb9f3a"
             ],
             [
              0.8888888888888888,
              "#fdca26"
             ],
             [
              1,
              "#f0f921"
             ]
            ],
            "type": "surface"
           }
          ],
          "table": [
           {
            "cells": {
             "fill": {
              "color": "#EBF0F8"
             },
             "line": {
              "color": "white"
             }
            },
            "header": {
             "fill": {
              "color": "#C8D4E3"
             },
             "line": {
              "color": "white"
             }
            },
            "type": "table"
           }
          ]
         },
         "layout": {
          "annotationdefaults": {
           "arrowcolor": "#2a3f5f",
           "arrowhead": 0,
           "arrowwidth": 1
          },
          "autotypenumbers": "strict",
          "coloraxis": {
           "colorbar": {
            "outlinewidth": 0,
            "ticks": ""
           }
          },
          "colorscale": {
           "diverging": [
            [
             0,
             "#8e0152"
            ],
            [
             0.1,
             "#c51b7d"
            ],
            [
             0.2,
             "#de77ae"
            ],
            [
             0.3,
             "#f1b6da"
            ],
            [
             0.4,
             "#fde0ef"
            ],
            [
             0.5,
             "#f7f7f7"
            ],
            [
             0.6,
             "#e6f5d0"
            ],
            [
             0.7,
             "#b8e186"
            ],
            [
             0.8,
             "#7fbc41"
            ],
            [
             0.9,
             "#4d9221"
            ],
            [
             1,
             "#276419"
            ]
           ],
           "sequential": [
            [
             0,
             "#0d0887"
            ],
            [
             0.1111111111111111,
             "#46039f"
            ],
            [
             0.2222222222222222,
             "#7201a8"
            ],
            [
             0.3333333333333333,
             "#9c179e"
            ],
            [
             0.4444444444444444,
             "#bd3786"
            ],
            [
             0.5555555555555556,
             "#d8576b"
            ],
            [
             0.6666666666666666,
             "#ed7953"
            ],
            [
             0.7777777777777778,
             "#fb9f3a"
            ],
            [
             0.8888888888888888,
             "#fdca26"
            ],
            [
             1,
             "#f0f921"
            ]
           ],
           "sequentialminus": [
            [
             0,
             "#0d0887"
            ],
            [
             0.1111111111111111,
             "#46039f"
            ],
            [
             0.2222222222222222,
             "#7201a8"
            ],
            [
             0.3333333333333333,
             "#9c179e"
            ],
            [
             0.4444444444444444,
             "#bd3786"
            ],
            [
             0.5555555555555556,
             "#d8576b"
            ],
            [
             0.6666666666666666,
             "#ed7953"
            ],
            [
             0.7777777777777778,
             "#fb9f3a"
            ],
            [
             0.8888888888888888,
             "#fdca26"
            ],
            [
             1,
             "#f0f921"
            ]
           ]
          },
          "colorway": [
           "#636efa",
           "#EF553B",
           "#00cc96",
           "#ab63fa",
           "#FFA15A",
           "#19d3f3",
           "#FF6692",
           "#B6E880",
           "#FF97FF",
           "#FECB52"
          ],
          "font": {
           "color": "#2a3f5f"
          },
          "geo": {
           "bgcolor": "white",
           "lakecolor": "white",
           "landcolor": "#E5ECF6",
           "showlakes": true,
           "showland": true,
           "subunitcolor": "white"
          },
          "hoverlabel": {
           "align": "left"
          },
          "hovermode": "closest",
          "mapbox": {
           "style": "light"
          },
          "paper_bgcolor": "white",
          "plot_bgcolor": "#E5ECF6",
          "polar": {
           "angularaxis": {
            "gridcolor": "white",
            "linecolor": "white",
            "ticks": ""
           },
           "bgcolor": "#E5ECF6",
           "radialaxis": {
            "gridcolor": "white",
            "linecolor": "white",
            "ticks": ""
           }
          },
          "scene": {
           "xaxis": {
            "backgroundcolor": "#E5ECF6",
            "gridcolor": "white",
            "gridwidth": 2,
            "linecolor": "white",
            "showbackground": true,
            "ticks": "",
            "zerolinecolor": "white"
           },
           "yaxis": {
            "backgroundcolor": "#E5ECF6",
            "gridcolor": "white",
            "gridwidth": 2,
            "linecolor": "white",
            "showbackground": true,
            "ticks": "",
            "zerolinecolor": "white"
           },
           "zaxis": {
            "backgroundcolor": "#E5ECF6",
            "gridcolor": "white",
            "gridwidth": 2,
            "linecolor": "white",
            "showbackground": true,
            "ticks": "",
            "zerolinecolor": "white"
           }
          },
          "shapedefaults": {
           "line": {
            "color": "#2a3f5f"
           }
          },
          "ternary": {
           "aaxis": {
            "gridcolor": "white",
            "linecolor": "white",
            "ticks": ""
           },
           "baxis": {
            "gridcolor": "white",
            "linecolor": "white",
            "ticks": ""
           },
           "bgcolor": "#E5ECF6",
           "caxis": {
            "gridcolor": "white",
            "linecolor": "white",
            "ticks": ""
           }
          },
          "title": {
           "x": 0.05
          },
          "xaxis": {
           "automargin": true,
           "gridcolor": "white",
           "linecolor": "white",
           "ticks": "",
           "title": {
            "standoff": 15
           },
           "zerolinecolor": "white",
           "zerolinewidth": 2
          },
          "yaxis": {
           "automargin": true,
           "gridcolor": "white",
           "linecolor": "white",
           "ticks": "",
           "title": {
            "standoff": 15
           },
           "zerolinecolor": "white",
           "zerolinewidth": 2
          }
         }
        },
        "title": {
         "text": "Umap projection of nELISA data colored by inhibitor"
        },
        "xaxis": {
         "anchor": "y",
         "domain": [
          0,
          1
         ],
         "title": {
          "text": "UMAP_1"
         }
        },
        "yaxis": {
         "anchor": "x",
         "domain": [
          0,
          1
         ],
         "title": {
          "text": "UMAP_2"
         }
        }
       }
      }
     },
     "metadata": {},
     "output_type": "display_data"
    },
    {
     "data": {
      "application/vnd.plotly.v1+json": {
       "config": {
        "plotlyServerURL": "https://plot.ly"
       },
       "data": [
        {
         "hovertemplate": "umap_1=%{x}<br>umap_2=%{y}<br>Manual_Cluster=%{marker.color}<extra></extra>",
         "legendgroup": "",
         "marker": {
          "color": [
           0,
           0,
           0,
           0,
           0,
           0,
           0,
           0,
           0,
           0,
           0,
           0,
           0,
           0,
           0,
           0,
           0,
           0,
           0,
           0,
           1,
           1,
           1,
           1,
           1,
           1,
           1,
           1,
           0,
           0,
           0,
           0,
           1,
           1,
           1,
           1,
           1,
           1,
           1,
           1,
           1,
           1,
           1,
           1,
           1,
           1,
           1,
           1,
           1,
           1,
           1,
           1,
           1,
           1,
           1,
           1,
           1,
           1,
           1,
           1,
           1,
           1,
           1,
           1,
           1,
           1,
           1,
           1,
           1,
           1,
           1,
           1,
           1,
           1,
           1,
           1,
           0,
           0,
           0,
           0,
           0,
           0,
           0,
           0,
           0,
           0,
           0,
           0,
           0,
           0,
           0,
           0,
           0,
           0,
           0,
           0,
           0,
           0,
           0,
           0,
           0,
           0,
           0,
           0,
           0,
           0,
           0,
           0,
           0,
           0,
           0,
           0,
           2,
           2,
           2,
           2,
           2,
           2,
           2,
           2,
           3,
           3,
           3,
           3,
           3,
           3,
           3,
           3,
           3,
           3,
           3,
           3,
           2,
           2,
           2,
           2,
           2,
           2,
           2,
           2,
           2,
           2,
           2,
           2,
           2,
           2,
           2,
           2,
           0,
           0,
           0,
           0,
           0,
           0
          ],
          "coloraxis": "coloraxis",
          "size": 12,
          "symbol": "circle"
         },
         "mode": "markers",
         "name": "",
         "orientation": "v",
         "showlegend": false,
         "type": "scatter",
         "x": [
          6.1848674,
          7.1271505,
          8.877183,
          8.804817,
          6.2066817,
          7.9031615,
          10.171222,
          9.852255,
          6.714764,
          8.353386,
          8.083594,
          9.682855,
          9.582959,
          9.10267,
          9.421256,
          8.86,
          11.237681,
          7.4885693,
          8.965515,
          9.584494,
          5.274304,
          3.1239562,
          3.2364836,
          3.8736057,
          4.8116193,
          4.0466285,
          5.4029613,
          4.57975,
          5.7924848,
          3.7772734,
          5.6864843,
          6.291163,
          3.1101022,
          3.6833098,
          4.6193337,
          5.0859337,
          4.278674,
          4.9312177,
          4.405179,
          3.6757646,
          9.029404,
          10.231108,
          10.060092,
          10.984471,
          12.360881,
          12.90634,
          11.678063,
          11.298551,
          12.640573,
          11.856802,
          10.8012085,
          11.740505,
          4.652176,
          2.6694932,
          2.6828263,
          4.2783628,
          3.3147511,
          5.2455435,
          3.3687558,
          4.7268047,
          3.3828895,
          6.3974442,
          6.0971575,
          6.6261897,
          12.912779,
          11.094106,
          12.610306,
          11.623852,
          9.63995,
          10.150959,
          9.9584875,
          10.608692,
          3.7397826,
          4.784717,
          3.0263674,
          4.8483853,
          6.481578,
          8.279896,
          9.378238,
          8.597874,
          5.4903407,
          6.9723296,
          6.6349874,
          6.3792195,
          7.8534017,
          9.188535,
          9.35528,
          7.4408073,
          8.862622,
          9.598662,
          7.866392,
          8.605867,
          4.370918,
          4.7524576,
          4.6002946,
          5.541343,
          4.8483477,
          4.048826,
          6.239959,
          5.1830683,
          4.973897,
          5.6771584,
          5.6127443,
          5.327235,
          10.800692,
          10.509076,
          11.268544,
          11.191013,
          10.491386,
          10.349841,
          11.139314,
          10.835458,
          8.254289,
          8.501779,
          5.3462496,
          9.836522,
          6.804516,
          6.1715865,
          5.650725,
          6.3395214,
          5.9582033,
          7.658917,
          9.4227085,
          5.643482,
          6.0456724,
          5.4753976,
          6.9016867,
          10.027936,
          8.40905,
          6.7830315,
          7.8901477,
          8.696026,
          5.198267,
          8.090131,
          7.4724503,
          6.7871222,
          7.6164093,
          8.029554,
          6.133283,
          8.538965,
          7.093384,
          7.331786,
          9.229974,
          7.2391133,
          9.857485,
          10.556327,
          9.416812,
          10.136884,
          6.932302,
          7.5909243,
          8.908558,
          6.334013,
          9.86149,
          8.945065
         ],
         "xaxis": "x",
         "y": [
          4.836307,
          5.8550215,
          4.4285216,
          7.2143993,
          7.007176,
          4.8797264,
          5.230283,
          7.7440705,
          7.462769,
          4.747781,
          5.1077833,
          6.132669,
          0.3572608,
          2.3121152,
          1.1295334,
          1.2908931,
          1.4746945,
          0.86714435,
          0.5707853,
          1.9980118,
          1.0809575,
          -0.6448977,
          1.3882996,
          2.0622594,
          1.7570891,
          1.3597423,
          1.2151561,
          1.429621,
          -3.309146,
          0.77231,
          0.18635096,
          0.47329235,
          -0.7885775,
          0.8407486,
          -1.1885407,
          0.116166696,
          -0.36097977,
          0.7782948,
          0.4367303,
          -0.11668639,
          -3.268839,
          -4.0297346,
          -3.2435343,
          -4.810435,
          -4.1334686,
          -3.659268,
          -3.023429,
          -4.016538,
          -4.5365853,
          -3.8945615,
          -3.6525364,
          -3.707474,
          -1.7325637,
          -0.4390842,
          -0.2915536,
          -0.6824182,
          0.2584662,
          -0.637612,
          -1.1091094,
          0.3810285,
          -1.4155718,
          -1.2561415,
          -2.0310843,
          -2.6757178,
          -4.260448,
          -5.289259,
          -3.4268248,
          -4.6888876,
          -4.209861,
          -5.2467237,
          -4.7454443,
          -4.496364,
          -1.257229,
          -0.27453947,
          0.3105847,
          -1.357959,
          3.7328444,
          6.3928423,
          7.438801,
          5.7771006,
          3.799603,
          5.338152,
          5.623904,
          4.3587904,
          4.949119,
          4.2207885,
          5.778209,
          4.0322647,
          -4.2525935,
          -3.192434,
          -3.0502522,
          -3.3203738,
          0.4679684,
          -2.4865482,
          -0.75440526,
          -0.9273446,
          -3.2262268,
          -1.5909488,
          -0.64815164,
          -3.936502,
          -3.5638916,
          -0.63657475,
          -3.0614626,
          -3.2142794,
          -1.3471427,
          -1.7903415,
          -2.2320423,
          -1.9342276,
          -0.6335099,
          2.173302,
          1.0733249,
          1.7847017,
          2.2095194,
          3.09606,
          5.8435035,
          4.8433604,
          2.8159926,
          2.6167958,
          2.2158628,
          2.182606,
          6.295394,
          1.7489454,
          6.9537773,
          4.413434,
          5.3959394,
          5.042902,
          4.854067,
          6.797659,
          3.292791,
          6.234093,
          4.0909505,
          6.994813,
          4.6485023,
          6.80865,
          7.4661136,
          4.4841146,
          3.1530485,
          5.8206277,
          6.6476426,
          5.795464,
          3.5015206,
          6.5724044,
          3.5755537,
          5.1845765,
          -1.1734124,
          0.6931075,
          -2.3853514,
          0.9037002,
          7.4096727,
          6.6128607,
          4.9578056,
          6.0715046,
          6.22895,
          6.273999
         ],
         "yaxis": "y"
        }
       ],
       "layout": {
        "coloraxis": {
         "colorbar": {
          "title": {
           "text": "Manual_Cluster"
          }
         },
         "colorscale": [
          [
           0,
           "#0d0887"
          ],
          [
           0.1111111111111111,
           "#46039f"
          ],
          [
           0.2222222222222222,
           "#7201a8"
          ],
          [
           0.3333333333333333,
           "#9c179e"
          ],
          [
           0.4444444444444444,
           "#bd3786"
          ],
          [
           0.5555555555555556,
           "#d8576b"
          ],
          [
           0.6666666666666666,
           "#ed7953"
          ],
          [
           0.7777777777777778,
           "#fb9f3a"
          ],
          [
           0.8888888888888888,
           "#fdca26"
          ],
          [
           1,
           "#f0f921"
          ]
         ]
        },
        "legend": {
         "tracegroupgap": 0
        },
        "template": {
         "data": {
          "bar": [
           {
            "error_x": {
             "color": "#2a3f5f"
            },
            "error_y": {
             "color": "#2a3f5f"
            },
            "marker": {
             "line": {
              "color": "#E5ECF6",
              "width": 0.5
             },
             "pattern": {
              "fillmode": "overlay",
              "size": 10,
              "solidity": 0.2
             }
            },
            "type": "bar"
           }
          ],
          "barpolar": [
           {
            "marker": {
             "line": {
              "color": "#E5ECF6",
              "width": 0.5
             },
             "pattern": {
              "fillmode": "overlay",
              "size": 10,
              "solidity": 0.2
             }
            },
            "type": "barpolar"
           }
          ],
          "carpet": [
           {
            "aaxis": {
             "endlinecolor": "#2a3f5f",
             "gridcolor": "white",
             "linecolor": "white",
             "minorgridcolor": "white",
             "startlinecolor": "#2a3f5f"
            },
            "baxis": {
             "endlinecolor": "#2a3f5f",
             "gridcolor": "white",
             "linecolor": "white",
             "minorgridcolor": "white",
             "startlinecolor": "#2a3f5f"
            },
            "type": "carpet"
           }
          ],
          "choropleth": [
           {
            "colorbar": {
             "outlinewidth": 0,
             "ticks": ""
            },
            "type": "choropleth"
           }
          ],
          "contour": [
           {
            "colorbar": {
             "outlinewidth": 0,
             "ticks": ""
            },
            "colorscale": [
             [
              0,
              "#0d0887"
             ],
             [
              0.1111111111111111,
              "#46039f"
             ],
             [
              0.2222222222222222,
              "#7201a8"
             ],
             [
              0.3333333333333333,
              "#9c179e"
             ],
             [
              0.4444444444444444,
              "#bd3786"
             ],
             [
              0.5555555555555556,
              "#d8576b"
             ],
             [
              0.6666666666666666,
              "#ed7953"
             ],
             [
              0.7777777777777778,
              "#fb9f3a"
             ],
             [
              0.8888888888888888,
              "#fdca26"
             ],
             [
              1,
              "#f0f921"
             ]
            ],
            "type": "contour"
           }
          ],
          "contourcarpet": [
           {
            "colorbar": {
             "outlinewidth": 0,
             "ticks": ""
            },
            "type": "contourcarpet"
           }
          ],
          "heatmap": [
           {
            "colorbar": {
             "outlinewidth": 0,
             "ticks": ""
            },
            "colorscale": [
             [
              0,
              "#0d0887"
             ],
             [
              0.1111111111111111,
              "#46039f"
             ],
             [
              0.2222222222222222,
              "#7201a8"
             ],
             [
              0.3333333333333333,
              "#9c179e"
             ],
             [
              0.4444444444444444,
              "#bd3786"
             ],
             [
              0.5555555555555556,
              "#d8576b"
             ],
             [
              0.6666666666666666,
              "#ed7953"
             ],
             [
              0.7777777777777778,
              "#fb9f3a"
             ],
             [
              0.8888888888888888,
              "#fdca26"
             ],
             [
              1,
              "#f0f921"
             ]
            ],
            "type": "heatmap"
           }
          ],
          "heatmapgl": [
           {
            "colorbar": {
             "outlinewidth": 0,
             "ticks": ""
            },
            "colorscale": [
             [
              0,
              "#0d0887"
             ],
             [
              0.1111111111111111,
              "#46039f"
             ],
             [
              0.2222222222222222,
              "#7201a8"
             ],
             [
              0.3333333333333333,
              "#9c179e"
             ],
             [
              0.4444444444444444,
              "#bd3786"
             ],
             [
              0.5555555555555556,
              "#d8576b"
             ],
             [
              0.6666666666666666,
              "#ed7953"
             ],
             [
              0.7777777777777778,
              "#fb9f3a"
             ],
             [
              0.8888888888888888,
              "#fdca26"
             ],
             [
              1,
              "#f0f921"
             ]
            ],
            "type": "heatmapgl"
           }
          ],
          "histogram": [
           {
            "marker": {
             "pattern": {
              "fillmode": "overlay",
              "size": 10,
              "solidity": 0.2
             }
            },
            "type": "histogram"
           }
          ],
          "histogram2d": [
           {
            "colorbar": {
             "outlinewidth": 0,
             "ticks": ""
            },
            "colorscale": [
             [
              0,
              "#0d0887"
             ],
             [
              0.1111111111111111,
              "#46039f"
             ],
             [
              0.2222222222222222,
              "#7201a8"
             ],
             [
              0.3333333333333333,
              "#9c179e"
             ],
             [
              0.4444444444444444,
              "#bd3786"
             ],
             [
              0.5555555555555556,
              "#d8576b"
             ],
             [
              0.6666666666666666,
              "#ed7953"
             ],
             [
              0.7777777777777778,
              "#fb9f3a"
             ],
             [
              0.8888888888888888,
              "#fdca26"
             ],
             [
              1,
              "#f0f921"
             ]
            ],
            "type": "histogram2d"
           }
          ],
          "histogram2dcontour": [
           {
            "colorbar": {
             "outlinewidth": 0,
             "ticks": ""
            },
            "colorscale": [
             [
              0,
              "#0d0887"
             ],
             [
              0.1111111111111111,
              "#46039f"
             ],
             [
              0.2222222222222222,
              "#7201a8"
             ],
             [
              0.3333333333333333,
              "#9c179e"
             ],
             [
              0.4444444444444444,
              "#bd3786"
             ],
             [
              0.5555555555555556,
              "#d8576b"
             ],
             [
              0.6666666666666666,
              "#ed7953"
             ],
             [
              0.7777777777777778,
              "#fb9f3a"
             ],
             [
              0.8888888888888888,
              "#fdca26"
             ],
             [
              1,
              "#f0f921"
             ]
            ],
            "type": "histogram2dcontour"
           }
          ],
          "mesh3d": [
           {
            "colorbar": {
             "outlinewidth": 0,
             "ticks": ""
            },
            "type": "mesh3d"
           }
          ],
          "parcoords": [
           {
            "line": {
             "colorbar": {
              "outlinewidth": 0,
              "ticks": ""
             }
            },
            "type": "parcoords"
           }
          ],
          "pie": [
           {
            "automargin": true,
            "type": "pie"
           }
          ],
          "scatter": [
           {
            "fillpattern": {
             "fillmode": "overlay",
             "size": 10,
             "solidity": 0.2
            },
            "type": "scatter"
           }
          ],
          "scatter3d": [
           {
            "line": {
             "colorbar": {
              "outlinewidth": 0,
              "ticks": ""
             }
            },
            "marker": {
             "colorbar": {
              "outlinewidth": 0,
              "ticks": ""
             }
            },
            "type": "scatter3d"
           }
          ],
          "scattercarpet": [
           {
            "marker": {
             "colorbar": {
              "outlinewidth": 0,
              "ticks": ""
             }
            },
            "type": "scattercarpet"
           }
          ],
          "scattergeo": [
           {
            "marker": {
             "colorbar": {
              "outlinewidth": 0,
              "ticks": ""
             }
            },
            "type": "scattergeo"
           }
          ],
          "scattergl": [
           {
            "marker": {
             "colorbar": {
              "outlinewidth": 0,
              "ticks": ""
             }
            },
            "type": "scattergl"
           }
          ],
          "scattermapbox": [
           {
            "marker": {
             "colorbar": {
              "outlinewidth": 0,
              "ticks": ""
             }
            },
            "type": "scattermapbox"
           }
          ],
          "scatterpolar": [
           {
            "marker": {
             "colorbar": {
              "outlinewidth": 0,
              "ticks": ""
             }
            },
            "type": "scatterpolar"
           }
          ],
          "scatterpolargl": [
           {
            "marker": {
             "colorbar": {
              "outlinewidth": 0,
              "ticks": ""
             }
            },
            "type": "scatterpolargl"
           }
          ],
          "scatterternary": [
           {
            "marker": {
             "colorbar": {
              "outlinewidth": 0,
              "ticks": ""
             }
            },
            "type": "scatterternary"
           }
          ],
          "surface": [
           {
            "colorbar": {
             "outlinewidth": 0,
             "ticks": ""
            },
            "colorscale": [
             [
              0,
              "#0d0887"
             ],
             [
              0.1111111111111111,
              "#46039f"
             ],
             [
              0.2222222222222222,
              "#7201a8"
             ],
             [
              0.3333333333333333,
              "#9c179e"
             ],
             [
              0.4444444444444444,
              "#bd3786"
             ],
             [
              0.5555555555555556,
              "#d8576b"
             ],
             [
              0.6666666666666666,
              "#ed7953"
             ],
             [
              0.7777777777777778,
              "#fb9f3a"
             ],
             [
              0.8888888888888888,
              "#fdca26"
             ],
             [
              1,
              "#f0f921"
             ]
            ],
            "type": "surface"
           }
          ],
          "table": [
           {
            "cells": {
             "fill": {
              "color": "#EBF0F8"
             },
             "line": {
              "color": "white"
             }
            },
            "header": {
             "fill": {
              "color": "#C8D4E3"
             },
             "line": {
              "color": "white"
             }
            },
            "type": "table"
           }
          ]
         },
         "layout": {
          "annotationdefaults": {
           "arrowcolor": "#2a3f5f",
           "arrowhead": 0,
           "arrowwidth": 1
          },
          "autotypenumbers": "strict",
          "coloraxis": {
           "colorbar": {
            "outlinewidth": 0,
            "ticks": ""
           }
          },
          "colorscale": {
           "diverging": [
            [
             0,
             "#8e0152"
            ],
            [
             0.1,
             "#c51b7d"
            ],
            [
             0.2,
             "#de77ae"
            ],
            [
             0.3,
             "#f1b6da"
            ],
            [
             0.4,
             "#fde0ef"
            ],
            [
             0.5,
             "#f7f7f7"
            ],
            [
             0.6,
             "#e6f5d0"
            ],
            [
             0.7,
             "#b8e186"
            ],
            [
             0.8,
             "#7fbc41"
            ],
            [
             0.9,
             "#4d9221"
            ],
            [
             1,
             "#276419"
            ]
           ],
           "sequential": [
            [
             0,
             "#0d0887"
            ],
            [
             0.1111111111111111,
             "#46039f"
            ],
            [
             0.2222222222222222,
             "#7201a8"
            ],
            [
             0.3333333333333333,
             "#9c179e"
            ],
            [
             0.4444444444444444,
             "#bd3786"
            ],
            [
             0.5555555555555556,
             "#d8576b"
            ],
            [
             0.6666666666666666,
             "#ed7953"
            ],
            [
             0.7777777777777778,
             "#fb9f3a"
            ],
            [
             0.8888888888888888,
             "#fdca26"
            ],
            [
             1,
             "#f0f921"
            ]
           ],
           "sequentialminus": [
            [
             0,
             "#0d0887"
            ],
            [
             0.1111111111111111,
             "#46039f"
            ],
            [
             0.2222222222222222,
             "#7201a8"
            ],
            [
             0.3333333333333333,
             "#9c179e"
            ],
            [
             0.4444444444444444,
             "#bd3786"
            ],
            [
             0.5555555555555556,
             "#d8576b"
            ],
            [
             0.6666666666666666,
             "#ed7953"
            ],
            [
             0.7777777777777778,
             "#fb9f3a"
            ],
            [
             0.8888888888888888,
             "#fdca26"
            ],
            [
             1,
             "#f0f921"
            ]
           ]
          },
          "colorway": [
           "#636efa",
           "#EF553B",
           "#00cc96",
           "#ab63fa",
           "#FFA15A",
           "#19d3f3",
           "#FF6692",
           "#B6E880",
           "#FF97FF",
           "#FECB52"
          ],
          "font": {
           "color": "#2a3f5f"
          },
          "geo": {
           "bgcolor": "white",
           "lakecolor": "white",
           "landcolor": "#E5ECF6",
           "showlakes": true,
           "showland": true,
           "subunitcolor": "white"
          },
          "hoverlabel": {
           "align": "left"
          },
          "hovermode": "closest",
          "mapbox": {
           "style": "light"
          },
          "paper_bgcolor": "white",
          "plot_bgcolor": "#E5ECF6",
          "polar": {
           "angularaxis": {
            "gridcolor": "white",
            "linecolor": "white",
            "ticks": ""
           },
           "bgcolor": "#E5ECF6",
           "radialaxis": {
            "gridcolor": "white",
            "linecolor": "white",
            "ticks": ""
           }
          },
          "scene": {
           "xaxis": {
            "backgroundcolor": "#E5ECF6",
            "gridcolor": "white",
            "gridwidth": 2,
            "linecolor": "white",
            "showbackground": true,
            "ticks": "",
            "zerolinecolor": "white"
           },
           "yaxis": {
            "backgroundcolor": "#E5ECF6",
            "gridcolor": "white",
            "gridwidth": 2,
            "linecolor": "white",
            "showbackground": true,
            "ticks": "",
            "zerolinecolor": "white"
           },
           "zaxis": {
            "backgroundcolor": "#E5ECF6",
            "gridcolor": "white",
            "gridwidth": 2,
            "linecolor": "white",
            "showbackground": true,
            "ticks": "",
            "zerolinecolor": "white"
           }
          },
          "shapedefaults": {
           "line": {
            "color": "#2a3f5f"
           }
          },
          "ternary": {
           "aaxis": {
            "gridcolor": "white",
            "linecolor": "white",
            "ticks": ""
           },
           "baxis": {
            "gridcolor": "white",
            "linecolor": "white",
            "ticks": ""
           },
           "bgcolor": "#E5ECF6",
           "caxis": {
            "gridcolor": "white",
            "linecolor": "white",
            "ticks": ""
           }
          },
          "title": {
           "x": 0.05
          },
          "xaxis": {
           "automargin": true,
           "gridcolor": "white",
           "linecolor": "white",
           "ticks": "",
           "title": {
            "standoff": 15
           },
           "zerolinecolor": "white",
           "zerolinewidth": 2
          },
          "yaxis": {
           "automargin": true,
           "gridcolor": "white",
           "linecolor": "white",
           "ticks": "",
           "title": {
            "standoff": 15
           },
           "zerolinecolor": "white",
           "zerolinewidth": 2
          }
         }
        },
        "title": {
         "text": "Umap projection of nELISA data colored by Manual Cluster"
        },
        "xaxis": {
         "anchor": "y",
         "domain": [
          0,
          1
         ],
         "title": {
          "text": "UMAP_1"
         }
        },
        "yaxis": {
         "anchor": "x",
         "domain": [
          0,
          1
         ],
         "title": {
          "text": "UMAP_2"
         }
        }
       }
      }
     },
     "metadata": {},
     "output_type": "display_data"
    },
    {
     "data": {
      "application/vnd.plotly.v1+json": {
       "config": {
        "plotlyServerURL": "https://plot.ly"
       },
       "data": [
        {
         "hovertemplate": "Function=Null<br>umap_1=%{x}<br>umap_2=%{y}<extra></extra>",
         "legendgroup": "Null",
         "marker": {
          "color": "#636efa",
          "size": 12,
          "symbol": "circle"
         },
         "mode": "markers",
         "name": "Null",
         "orientation": "v",
         "showlegend": true,
         "type": "scatter",
         "x": [
          6.1848674,
          7.1271505,
          8.877183,
          8.804817,
          6.2066817,
          7.9031615,
          10.171222,
          9.852255,
          6.714764,
          8.353386,
          8.083594,
          9.682855,
          9.582959,
          9.10267,
          9.421256,
          8.86,
          11.237681,
          7.4885693,
          8.965515,
          9.584494,
          5.7924848,
          3.7772734,
          5.6864843,
          6.291163,
          6.481578,
          8.279896,
          9.378238,
          8.597874,
          5.4903407,
          6.9723296,
          6.6349874,
          6.3792195,
          7.8534017,
          9.188535,
          9.35528,
          7.4408073,
          8.862622,
          9.598662,
          7.866392,
          8.605867,
          4.370918,
          4.7524576,
          4.6002946,
          5.541343,
          4.8483477,
          4.048826,
          6.239959,
          5.1830683,
          4.973897,
          5.6771584,
          5.6127443,
          5.327235,
          10.800692,
          10.509076,
          11.268544,
          11.191013,
          10.491386,
          10.349841,
          11.139314,
          10.835458,
          6.932302,
          7.5909243,
          8.908558,
          6.334013,
          9.86149,
          8.945065
         ],
         "xaxis": "x",
         "y": [
          4.836307,
          5.8550215,
          4.4285216,
          7.2143993,
          7.007176,
          4.8797264,
          5.230283,
          7.7440705,
          7.462769,
          4.747781,
          5.1077833,
          6.132669,
          0.3572608,
          2.3121152,
          1.1295334,
          1.2908931,
          1.4746945,
          0.86714435,
          0.5707853,
          1.9980118,
          -3.309146,
          0.77231,
          0.18635096,
          0.47329235,
          3.7328444,
          6.3928423,
          7.438801,
          5.7771006,
          3.799603,
          5.338152,
          5.623904,
          4.3587904,
          4.949119,
          4.2207885,
          5.778209,
          4.0322647,
          -4.2525935,
          -3.192434,
          -3.0502522,
          -3.3203738,
          0.4679684,
          -2.4865482,
          -0.75440526,
          -0.9273446,
          -3.2262268,
          -1.5909488,
          -0.64815164,
          -3.936502,
          -3.5638916,
          -0.63657475,
          -3.0614626,
          -3.2142794,
          -1.3471427,
          -1.7903415,
          -2.2320423,
          -1.9342276,
          -0.6335099,
          2.173302,
          1.0733249,
          1.7847017,
          7.4096727,
          6.6128607,
          4.9578056,
          6.0715046,
          6.22895,
          6.273999
         ],
         "yaxis": "y"
        },
        {
         "hovertemplate": "Function=Pyroptosis<br>umap_1=%{x}<br>umap_2=%{y}<extra></extra>",
         "legendgroup": "Pyroptosis",
         "marker": {
          "color": "#EF553B",
          "size": 12,
          "symbol": "circle"
         },
         "mode": "markers",
         "name": "Pyroptosis",
         "orientation": "v",
         "showlegend": true,
         "type": "scatter",
         "x": [
          5.274304,
          3.1239562,
          3.2364836,
          3.8736057,
          4.8116193,
          4.0466285,
          5.4029613,
          4.57975,
          3.1101022,
          3.6833098,
          4.6193337,
          5.0859337,
          4.278674,
          4.9312177,
          4.405179,
          3.6757646,
          9.029404,
          10.231108,
          10.060092,
          10.984471,
          12.360881,
          12.90634,
          11.678063,
          11.298551,
          12.640573,
          11.856802,
          10.8012085,
          11.740505,
          4.652176,
          2.6694932,
          2.6828263,
          4.2783628,
          3.3147511,
          5.2455435,
          3.3687558,
          4.7268047,
          3.3828895,
          6.3974442,
          6.0971575,
          6.6261897,
          12.912779,
          11.094106,
          12.610306,
          11.623852,
          9.63995,
          10.150959,
          9.9584875,
          10.608692,
          3.7397826,
          4.784717,
          3.0263674,
          4.8483853
         ],
         "xaxis": "x",
         "y": [
          1.0809575,
          -0.6448977,
          1.3882996,
          2.0622594,
          1.7570891,
          1.3597423,
          1.2151561,
          1.429621,
          -0.7885775,
          0.8407486,
          -1.1885407,
          0.116166696,
          -0.36097977,
          0.7782948,
          0.4367303,
          -0.11668639,
          -3.268839,
          -4.0297346,
          -3.2435343,
          -4.810435,
          -4.1334686,
          -3.659268,
          -3.023429,
          -4.016538,
          -4.5365853,
          -3.8945615,
          -3.6525364,
          -3.707474,
          -1.7325637,
          -0.4390842,
          -0.2915536,
          -0.6824182,
          0.2584662,
          -0.637612,
          -1.1091094,
          0.3810285,
          -1.4155718,
          -1.2561415,
          -2.0310843,
          -2.6757178,
          -4.260448,
          -5.289259,
          -3.4268248,
          -4.6888876,
          -4.209861,
          -5.2467237,
          -4.7454443,
          -4.496364,
          -1.257229,
          -0.27453947,
          0.3105847,
          -1.357959
         ],
         "yaxis": "y"
        },
        {
         "hovertemplate": "Function=Apoptosis<br>umap_1=%{x}<br>umap_2=%{y}<extra></extra>",
         "legendgroup": "Apoptosis",
         "marker": {
          "color": "#00cc96",
          "size": 12,
          "symbol": "circle"
         },
         "mode": "markers",
         "name": "Apoptosis",
         "orientation": "v",
         "showlegend": true,
         "type": "scatter",
         "x": [
          8.254289,
          8.501779,
          5.3462496,
          9.836522,
          6.804516,
          6.1715865,
          5.650725,
          6.3395214,
          5.198267,
          8.090131,
          7.4724503,
          6.7871222,
          7.6164093,
          8.029554,
          6.133283,
          8.538965,
          7.093384,
          7.331786,
          9.229974,
          7.2391133,
          9.857485,
          10.556327,
          9.416812,
          10.136884
         ],
         "xaxis": "x",
         "y": [
          2.2095194,
          3.09606,
          5.8435035,
          4.8433604,
          2.8159926,
          2.6167958,
          2.2158628,
          2.182606,
          4.6485023,
          6.80865,
          7.4661136,
          4.4841146,
          3.1530485,
          5.8206277,
          6.6476426,
          5.795464,
          3.5015206,
          6.5724044,
          3.5755537,
          5.1845765,
          -1.1734124,
          0.6931075,
          -2.3853514,
          0.9037002
         ],
         "yaxis": "y"
        },
        {
         "hovertemplate": "Function=Death<br>umap_1=%{x}<br>umap_2=%{y}<extra></extra>",
         "legendgroup": "Death",
         "marker": {
          "color": "#ab63fa",
          "size": 12,
          "symbol": "circle"
         },
         "mode": "markers",
         "name": "Death",
         "orientation": "v",
         "showlegend": true,
         "type": "scatter",
         "x": [
          5.9582033,
          7.658917,
          9.4227085,
          5.643482,
          6.0456724,
          5.4753976,
          6.9016867,
          10.027936,
          8.40905,
          6.7830315,
          7.8901477,
          8.696026
         ],
         "xaxis": "x",
         "y": [
          6.295394,
          1.7489454,
          6.9537773,
          4.413434,
          5.3959394,
          5.042902,
          4.854067,
          6.797659,
          3.292791,
          6.234093,
          4.0909505,
          6.994813
         ],
         "yaxis": "y"
        }
       ],
       "layout": {
        "legend": {
         "title": {
          "text": "Function"
         },
         "tracegroupgap": 0
        },
        "template": {
         "data": {
          "bar": [
           {
            "error_x": {
             "color": "#2a3f5f"
            },
            "error_y": {
             "color": "#2a3f5f"
            },
            "marker": {
             "line": {
              "color": "#E5ECF6",
              "width": 0.5
             },
             "pattern": {
              "fillmode": "overlay",
              "size": 10,
              "solidity": 0.2
             }
            },
            "type": "bar"
           }
          ],
          "barpolar": [
           {
            "marker": {
             "line": {
              "color": "#E5ECF6",
              "width": 0.5
             },
             "pattern": {
              "fillmode": "overlay",
              "size": 10,
              "solidity": 0.2
             }
            },
            "type": "barpolar"
           }
          ],
          "carpet": [
           {
            "aaxis": {
             "endlinecolor": "#2a3f5f",
             "gridcolor": "white",
             "linecolor": "white",
             "minorgridcolor": "white",
             "startlinecolor": "#2a3f5f"
            },
            "baxis": {
             "endlinecolor": "#2a3f5f",
             "gridcolor": "white",
             "linecolor": "white",
             "minorgridcolor": "white",
             "startlinecolor": "#2a3f5f"
            },
            "type": "carpet"
           }
          ],
          "choropleth": [
           {
            "colorbar": {
             "outlinewidth": 0,
             "ticks": ""
            },
            "type": "choropleth"
           }
          ],
          "contour": [
           {
            "colorbar": {
             "outlinewidth": 0,
             "ticks": ""
            },
            "colorscale": [
             [
              0,
              "#0d0887"
             ],
             [
              0.1111111111111111,
              "#46039f"
             ],
             [
              0.2222222222222222,
              "#7201a8"
             ],
             [
              0.3333333333333333,
              "#9c179e"
             ],
             [
              0.4444444444444444,
              "#bd3786"
             ],
             [
              0.5555555555555556,
              "#d8576b"
             ],
             [
              0.6666666666666666,
              "#ed7953"
             ],
             [
              0.7777777777777778,
              "#fb9f3a"
             ],
             [
              0.8888888888888888,
              "#fdca26"
             ],
             [
              1,
              "#f0f921"
             ]
            ],
            "type": "contour"
           }
          ],
          "contourcarpet": [
           {
            "colorbar": {
             "outlinewidth": 0,
             "ticks": ""
            },
            "type": "contourcarpet"
           }
          ],
          "heatmap": [
           {
            "colorbar": {
             "outlinewidth": 0,
             "ticks": ""
            },
            "colorscale": [
             [
              0,
              "#0d0887"
             ],
             [
              0.1111111111111111,
              "#46039f"
             ],
             [
              0.2222222222222222,
              "#7201a8"
             ],
             [
              0.3333333333333333,
              "#9c179e"
             ],
             [
              0.4444444444444444,
              "#bd3786"
             ],
             [
              0.5555555555555556,
              "#d8576b"
             ],
             [
              0.6666666666666666,
              "#ed7953"
             ],
             [
              0.7777777777777778,
              "#fb9f3a"
             ],
             [
              0.8888888888888888,
              "#fdca26"
             ],
             [
              1,
              "#f0f921"
             ]
            ],
            "type": "heatmap"
           }
          ],
          "heatmapgl": [
           {
            "colorbar": {
             "outlinewidth": 0,
             "ticks": ""
            },
            "colorscale": [
             [
              0,
              "#0d0887"
             ],
             [
              0.1111111111111111,
              "#46039f"
             ],
             [
              0.2222222222222222,
              "#7201a8"
             ],
             [
              0.3333333333333333,
              "#9c179e"
             ],
             [
              0.4444444444444444,
              "#bd3786"
             ],
             [
              0.5555555555555556,
              "#d8576b"
             ],
             [
              0.6666666666666666,
              "#ed7953"
             ],
             [
              0.7777777777777778,
              "#fb9f3a"
             ],
             [
              0.8888888888888888,
              "#fdca26"
             ],
             [
              1,
              "#f0f921"
             ]
            ],
            "type": "heatmapgl"
           }
          ],
          "histogram": [
           {
            "marker": {
             "pattern": {
              "fillmode": "overlay",
              "size": 10,
              "solidity": 0.2
             }
            },
            "type": "histogram"
           }
          ],
          "histogram2d": [
           {
            "colorbar": {
             "outlinewidth": 0,
             "ticks": ""
            },
            "colorscale": [
             [
              0,
              "#0d0887"
             ],
             [
              0.1111111111111111,
              "#46039f"
             ],
             [
              0.2222222222222222,
              "#7201a8"
             ],
             [
              0.3333333333333333,
              "#9c179e"
             ],
             [
              0.4444444444444444,
              "#bd3786"
             ],
             [
              0.5555555555555556,
              "#d8576b"
             ],
             [
              0.6666666666666666,
              "#ed7953"
             ],
             [
              0.7777777777777778,
              "#fb9f3a"
             ],
             [
              0.8888888888888888,
              "#fdca26"
             ],
             [
              1,
              "#f0f921"
             ]
            ],
            "type": "histogram2d"
           }
          ],
          "histogram2dcontour": [
           {
            "colorbar": {
             "outlinewidth": 0,
             "ticks": ""
            },
            "colorscale": [
             [
              0,
              "#0d0887"
             ],
             [
              0.1111111111111111,
              "#46039f"
             ],
             [
              0.2222222222222222,
              "#7201a8"
             ],
             [
              0.3333333333333333,
              "#9c179e"
             ],
             [
              0.4444444444444444,
              "#bd3786"
             ],
             [
              0.5555555555555556,
              "#d8576b"
             ],
             [
              0.6666666666666666,
              "#ed7953"
             ],
             [
              0.7777777777777778,
              "#fb9f3a"
             ],
             [
              0.8888888888888888,
              "#fdca26"
             ],
             [
              1,
              "#f0f921"
             ]
            ],
            "type": "histogram2dcontour"
           }
          ],
          "mesh3d": [
           {
            "colorbar": {
             "outlinewidth": 0,
             "ticks": ""
            },
            "type": "mesh3d"
           }
          ],
          "parcoords": [
           {
            "line": {
             "colorbar": {
              "outlinewidth": 0,
              "ticks": ""
             }
            },
            "type": "parcoords"
           }
          ],
          "pie": [
           {
            "automargin": true,
            "type": "pie"
           }
          ],
          "scatter": [
           {
            "fillpattern": {
             "fillmode": "overlay",
             "size": 10,
             "solidity": 0.2
            },
            "type": "scatter"
           }
          ],
          "scatter3d": [
           {
            "line": {
             "colorbar": {
              "outlinewidth": 0,
              "ticks": ""
             }
            },
            "marker": {
             "colorbar": {
              "outlinewidth": 0,
              "ticks": ""
             }
            },
            "type": "scatter3d"
           }
          ],
          "scattercarpet": [
           {
            "marker": {
             "colorbar": {
              "outlinewidth": 0,
              "ticks": ""
             }
            },
            "type": "scattercarpet"
           }
          ],
          "scattergeo": [
           {
            "marker": {
             "colorbar": {
              "outlinewidth": 0,
              "ticks": ""
             }
            },
            "type": "scattergeo"
           }
          ],
          "scattergl": [
           {
            "marker": {
             "colorbar": {
              "outlinewidth": 0,
              "ticks": ""
             }
            },
            "type": "scattergl"
           }
          ],
          "scattermapbox": [
           {
            "marker": {
             "colorbar": {
              "outlinewidth": 0,
              "ticks": ""
             }
            },
            "type": "scattermapbox"
           }
          ],
          "scatterpolar": [
           {
            "marker": {
             "colorbar": {
              "outlinewidth": 0,
              "ticks": ""
             }
            },
            "type": "scatterpolar"
           }
          ],
          "scatterpolargl": [
           {
            "marker": {
             "colorbar": {
              "outlinewidth": 0,
              "ticks": ""
             }
            },
            "type": "scatterpolargl"
           }
          ],
          "scatterternary": [
           {
            "marker": {
             "colorbar": {
              "outlinewidth": 0,
              "ticks": ""
             }
            },
            "type": "scatterternary"
           }
          ],
          "surface": [
           {
            "colorbar": {
             "outlinewidth": 0,
             "ticks": ""
            },
            "colorscale": [
             [
              0,
              "#0d0887"
             ],
             [
              0.1111111111111111,
              "#46039f"
             ],
             [
              0.2222222222222222,
              "#7201a8"
             ],
             [
              0.3333333333333333,
              "#9c179e"
             ],
             [
              0.4444444444444444,
              "#bd3786"
             ],
             [
              0.5555555555555556,
              "#d8576b"
             ],
             [
              0.6666666666666666,
              "#ed7953"
             ],
             [
              0.7777777777777778,
              "#fb9f3a"
             ],
             [
              0.8888888888888888,
              "#fdca26"
             ],
             [
              1,
              "#f0f921"
             ]
            ],
            "type": "surface"
           }
          ],
          "table": [
           {
            "cells": {
             "fill": {
              "color": "#EBF0F8"
             },
             "line": {
              "color": "white"
             }
            },
            "header": {
             "fill": {
              "color": "#C8D4E3"
             },
             "line": {
              "color": "white"
             }
            },
            "type": "table"
           }
          ]
         },
         "layout": {
          "annotationdefaults": {
           "arrowcolor": "#2a3f5f",
           "arrowhead": 0,
           "arrowwidth": 1
          },
          "autotypenumbers": "strict",
          "coloraxis": {
           "colorbar": {
            "outlinewidth": 0,
            "ticks": ""
           }
          },
          "colorscale": {
           "diverging": [
            [
             0,
             "#8e0152"
            ],
            [
             0.1,
             "#c51b7d"
            ],
            [
             0.2,
             "#de77ae"
            ],
            [
             0.3,
             "#f1b6da"
            ],
            [
             0.4,
             "#fde0ef"
            ],
            [
             0.5,
             "#f7f7f7"
            ],
            [
             0.6,
             "#e6f5d0"
            ],
            [
             0.7,
             "#b8e186"
            ],
            [
             0.8,
             "#7fbc41"
            ],
            [
             0.9,
             "#4d9221"
            ],
            [
             1,
             "#276419"
            ]
           ],
           "sequential": [
            [
             0,
             "#0d0887"
            ],
            [
             0.1111111111111111,
             "#46039f"
            ],
            [
             0.2222222222222222,
             "#7201a8"
            ],
            [
             0.3333333333333333,
             "#9c179e"
            ],
            [
             0.4444444444444444,
             "#bd3786"
            ],
            [
             0.5555555555555556,
             "#d8576b"
            ],
            [
             0.6666666666666666,
             "#ed7953"
            ],
            [
             0.7777777777777778,
             "#fb9f3a"
            ],
            [
             0.8888888888888888,
             "#fdca26"
            ],
            [
             1,
             "#f0f921"
            ]
           ],
           "sequentialminus": [
            [
             0,
             "#0d0887"
            ],
            [
             0.1111111111111111,
             "#46039f"
            ],
            [
             0.2222222222222222,
             "#7201a8"
            ],
            [
             0.3333333333333333,
             "#9c179e"
            ],
            [
             0.4444444444444444,
             "#bd3786"
            ],
            [
             0.5555555555555556,
             "#d8576b"
            ],
            [
             0.6666666666666666,
             "#ed7953"
            ],
            [
             0.7777777777777778,
             "#fb9f3a"
            ],
            [
             0.8888888888888888,
             "#fdca26"
            ],
            [
             1,
             "#f0f921"
            ]
           ]
          },
          "colorway": [
           "#636efa",
           "#EF553B",
           "#00cc96",
           "#ab63fa",
           "#FFA15A",
           "#19d3f3",
           "#FF6692",
           "#B6E880",
           "#FF97FF",
           "#FECB52"
          ],
          "font": {
           "color": "#2a3f5f"
          },
          "geo": {
           "bgcolor": "white",
           "lakecolor": "white",
           "landcolor": "#E5ECF6",
           "showlakes": true,
           "showland": true,
           "subunitcolor": "white"
          },
          "hoverlabel": {
           "align": "left"
          },
          "hovermode": "closest",
          "mapbox": {
           "style": "light"
          },
          "paper_bgcolor": "white",
          "plot_bgcolor": "#E5ECF6",
          "polar": {
           "angularaxis": {
            "gridcolor": "white",
            "linecolor": "white",
            "ticks": ""
           },
           "bgcolor": "#E5ECF6",
           "radialaxis": {
            "gridcolor": "white",
            "linecolor": "white",
            "ticks": ""
           }
          },
          "scene": {
           "xaxis": {
            "backgroundcolor": "#E5ECF6",
            "gridcolor": "white",
            "gridwidth": 2,
            "linecolor": "white",
            "showbackground": true,
            "ticks": "",
            "zerolinecolor": "white"
           },
           "yaxis": {
            "backgroundcolor": "#E5ECF6",
            "gridcolor": "white",
            "gridwidth": 2,
            "linecolor": "white",
            "showbackground": true,
            "ticks": "",
            "zerolinecolor": "white"
           },
           "zaxis": {
            "backgroundcolor": "#E5ECF6",
            "gridcolor": "white",
            "gridwidth": 2,
            "linecolor": "white",
            "showbackground": true,
            "ticks": "",
            "zerolinecolor": "white"
           }
          },
          "shapedefaults": {
           "line": {
            "color": "#2a3f5f"
           }
          },
          "ternary": {
           "aaxis": {
            "gridcolor": "white",
            "linecolor": "white",
            "ticks": ""
           },
           "baxis": {
            "gridcolor": "white",
            "linecolor": "white",
            "ticks": ""
           },
           "bgcolor": "#E5ECF6",
           "caxis": {
            "gridcolor": "white",
            "linecolor": "white",
            "ticks": ""
           }
          },
          "title": {
           "x": 0.05
          },
          "xaxis": {
           "automargin": true,
           "gridcolor": "white",
           "linecolor": "white",
           "ticks": "",
           "title": {
            "standoff": 15
           },
           "zerolinecolor": "white",
           "zerolinewidth": 2
          },
          "yaxis": {
           "automargin": true,
           "gridcolor": "white",
           "linecolor": "white",
           "ticks": "",
           "title": {
            "standoff": 15
           },
           "zerolinecolor": "white",
           "zerolinewidth": 2
          }
         }
        },
        "title": {
         "text": "Umap projection of nELISA data colored by Function"
        },
        "xaxis": {
         "anchor": "y",
         "domain": [
          0,
          1
         ],
         "title": {
          "text": "UMAP_1"
         }
        },
        "yaxis": {
         "anchor": "x",
         "domain": [
          0,
          1
         ],
         "title": {
          "text": "UMAP_2"
         }
        }
       }
      }
     },
     "metadata": {},
     "output_type": "display_data"
    },
    {
     "data": {
      "application/vnd.plotly.v1+json": {
       "config": {
        "plotlyServerURL": "https://plot.ly"
       },
       "data": [
        {
         "hovertemplate": "inducer1_plus_concentration=DMSO_0.10%<br>umap_1=%{x}<br>umap_2=%{y}<extra></extra>",
         "legendgroup": "DMSO_0.10%",
         "marker": {
          "color": "#636efa",
          "size": 12,
          "symbol": "circle"
         },
         "mode": "markers",
         "name": "DMSO_0.10%",
         "orientation": "v",
         "showlegend": true,
         "type": "scatter",
         "x": [
          6.1848674,
          7.1271505,
          8.877183,
          8.804817,
          6.2066817,
          7.9031615,
          10.171222,
          9.852255,
          6.714764,
          8.353386,
          8.083594,
          9.682855,
          9.582959,
          9.10267,
          9.421256,
          8.86,
          11.237681,
          7.4885693,
          8.965515,
          9.584494
         ],
         "xaxis": "x",
         "y": [
          4.836307,
          5.8550215,
          4.4285216,
          7.2143993,
          7.007176,
          4.8797264,
          5.230283,
          7.7440705,
          7.462769,
          4.747781,
          5.1077833,
          6.132669,
          0.3572608,
          2.3121152,
          1.1295334,
          1.2908931,
          1.4746945,
          0.86714435,
          0.5707853,
          1.9980118
         ],
         "yaxis": "y"
        },
        {
         "hovertemplate": "inducer1_plus_concentration=Flagellin_1 µg/ml<br>umap_1=%{x}<br>umap_2=%{y}<extra></extra>",
         "legendgroup": "Flagellin_1 µg/ml",
         "marker": {
          "color": "#EF553B",
          "size": 12,
          "symbol": "circle"
         },
         "mode": "markers",
         "name": "Flagellin_1 µg/ml",
         "orientation": "v",
         "showlegend": true,
         "type": "scatter",
         "x": [
          5.274304,
          4.0466285,
          5.4029613,
          4.57975,
          5.7924848,
          3.7772734,
          5.6864843,
          6.291163
         ],
         "xaxis": "x",
         "y": [
          1.0809575,
          1.3597423,
          1.2151561,
          1.429621,
          -3.309146,
          0.77231,
          0.18635096,
          0.47329235
         ],
         "yaxis": "y"
        },
        {
         "hovertemplate": "inducer1_plus_concentration=Flagellin_0.1 µg/ml<br>umap_1=%{x}<br>umap_2=%{y}<extra></extra>",
         "legendgroup": "Flagellin_0.1 µg/ml",
         "marker": {
          "color": "#00cc96",
          "size": 12,
          "symbol": "circle"
         },
         "mode": "markers",
         "name": "Flagellin_0.1 µg/ml",
         "orientation": "v",
         "showlegend": true,
         "type": "scatter",
         "x": [
          3.1239562,
          3.2364836,
          3.8736057,
          4.8116193
         ],
         "xaxis": "x",
         "y": [
          -0.6448977,
          1.3882996,
          2.0622594,
          1.7570891
         ],
         "yaxis": "y"
        },
        {
         "hovertemplate": "inducer1_plus_concentration=LPS_0.01 µg/ml<br>umap_1=%{x}<br>umap_2=%{y}<extra></extra>",
         "legendgroup": "LPS_0.01 µg/ml",
         "marker": {
          "color": "#ab63fa",
          "size": 12,
          "symbol": "circle"
         },
         "mode": "markers",
         "name": "LPS_0.01 µg/ml",
         "orientation": "v",
         "showlegend": true,
         "type": "scatter",
         "x": [
          3.1101022,
          3.6833098,
          4.6193337,
          5.0859337
         ],
         "xaxis": "x",
         "y": [
          -0.7885775,
          0.8407486,
          -1.1885407,
          0.116166696
         ],
         "yaxis": "y"
        },
        {
         "hovertemplate": "inducer1_plus_concentration=LPS_0.1 µg/ml<br>umap_1=%{x}<br>umap_2=%{y}<extra></extra>",
         "legendgroup": "LPS_0.1 µg/ml",
         "marker": {
          "color": "#FFA15A",
          "size": 12,
          "symbol": "circle"
         },
         "mode": "markers",
         "name": "LPS_0.1 µg/ml",
         "orientation": "v",
         "showlegend": true,
         "type": "scatter",
         "x": [
          4.278674,
          4.9312177,
          4.405179,
          3.6757646
         ],
         "xaxis": "x",
         "y": [
          -0.36097977,
          0.7782948,
          0.4367303,
          -0.11668639
         ],
         "yaxis": "y"
        },
        {
         "hovertemplate": "inducer1_plus_concentration=LPS_1 µg/ml<br>umap_1=%{x}<br>umap_2=%{y}<extra></extra>",
         "legendgroup": "LPS_1 µg/ml",
         "marker": {
          "color": "#19d3f3",
          "size": 12,
          "symbol": "circle"
         },
         "mode": "markers",
         "name": "LPS_1 µg/ml",
         "orientation": "v",
         "showlegend": true,
         "type": "scatter",
         "x": [
          9.029404,
          10.231108,
          10.060092,
          10.984471,
          12.360881,
          12.90634,
          11.678063,
          11.298551,
          12.640573,
          11.856802,
          10.8012085,
          11.740505,
          4.652176,
          2.6694932,
          2.6828263,
          4.2783628,
          8.862622,
          9.598662,
          7.866392,
          8.605867,
          10.800692,
          10.509076,
          11.268544,
          11.191013
         ],
         "xaxis": "x",
         "y": [
          -3.268839,
          -4.0297346,
          -3.2435343,
          -4.810435,
          -4.1334686,
          -3.659268,
          -3.023429,
          -4.016538,
          -4.5365853,
          -3.8945615,
          -3.6525364,
          -3.707474,
          -1.7325637,
          -0.4390842,
          -0.2915536,
          -0.6824182,
          -4.2525935,
          -3.192434,
          -3.0502522,
          -3.3203738,
          -1.3471427,
          -1.7903415,
          -2.2320423,
          -1.9342276
         ],
         "yaxis": "y"
        },
        {
         "hovertemplate": "inducer1_plus_concentration=LPS_10 µg/ml<br>umap_1=%{x}<br>umap_2=%{y}<extra></extra>",
         "legendgroup": "LPS_10 µg/ml",
         "marker": {
          "color": "#FF6692",
          "size": 12,
          "symbol": "circle"
         },
         "mode": "markers",
         "name": "LPS_10 µg/ml",
         "orientation": "v",
         "showlegend": true,
         "type": "scatter",
         "x": [
          3.3147511,
          5.2455435,
          3.3687558,
          4.7268047,
          4.370918,
          4.7524576,
          4.6002946,
          5.541343,
          4.8483477,
          4.048826,
          6.239959,
          5.1830683,
          4.973897,
          5.6771584,
          5.6127443,
          5.327235,
          10.491386,
          10.349841,
          11.139314,
          10.835458
         ],
         "xaxis": "x",
         "y": [
          0.2584662,
          -0.637612,
          -1.1091094,
          0.3810285,
          0.4679684,
          -2.4865482,
          -0.75440526,
          -0.9273446,
          -3.2262268,
          -1.5909488,
          -0.64815164,
          -3.936502,
          -3.5638916,
          -0.63657475,
          -3.0614626,
          -3.2142794,
          -0.6335099,
          2.173302,
          1.0733249,
          1.7847017
         ],
         "yaxis": "y"
        },
        {
         "hovertemplate": "inducer1_plus_concentration=LPS_100 µg/ml<br>umap_1=%{x}<br>umap_2=%{y}<extra></extra>",
         "legendgroup": "LPS_100 µg/ml",
         "marker": {
          "color": "#B6E880",
          "size": 12,
          "symbol": "circle"
         },
         "mode": "markers",
         "name": "LPS_100 µg/ml",
         "orientation": "v",
         "showlegend": true,
         "type": "scatter",
         "x": [
          3.3828895,
          6.3974442,
          6.0971575,
          6.6261897,
          12.912779,
          11.094106,
          12.610306,
          11.623852,
          9.63995,
          10.150959,
          9.9584875,
          10.608692,
          3.7397826,
          4.784717,
          3.0263674,
          4.8483853
         ],
         "xaxis": "x",
         "y": [
          -1.4155718,
          -1.2561415,
          -2.0310843,
          -2.6757178,
          -4.260448,
          -5.289259,
          -3.4268248,
          -4.6888876,
          -4.209861,
          -5.2467237,
          -4.7454443,
          -4.496364,
          -1.257229,
          -0.27453947,
          0.3105847,
          -1.357959
         ],
         "yaxis": "y"
        },
        {
         "hovertemplate": "inducer1_plus_concentration=Disulfiram_0.1 µM<br>umap_1=%{x}<br>umap_2=%{y}<extra></extra>",
         "legendgroup": "Disulfiram_0.1 µM",
         "marker": {
          "color": "#FF97FF",
          "size": 12,
          "symbol": "circle"
         },
         "mode": "markers",
         "name": "Disulfiram_0.1 µM",
         "orientation": "v",
         "showlegend": true,
         "type": "scatter",
         "x": [
          6.481578,
          8.279896,
          9.378238,
          8.597874
         ],
         "xaxis": "x",
         "y": [
          3.7328444,
          6.3928423,
          7.438801,
          5.7771006
         ],
         "yaxis": "y"
        },
        {
         "hovertemplate": "inducer1_plus_concentration=Disulfiram_1 µM<br>umap_1=%{x}<br>umap_2=%{y}<extra></extra>",
         "legendgroup": "Disulfiram_1 µM",
         "marker": {
          "color": "#FECB52",
          "size": 12,
          "symbol": "circle"
         },
         "mode": "markers",
         "name": "Disulfiram_1 µM",
         "orientation": "v",
         "showlegend": true,
         "type": "scatter",
         "x": [
          5.4903407,
          6.9723296,
          6.6349874,
          6.3792195
         ],
         "xaxis": "x",
         "y": [
          3.799603,
          5.338152,
          5.623904,
          4.3587904
         ],
         "yaxis": "y"
        },
        {
         "hovertemplate": "inducer1_plus_concentration=Disulfiram_2.5 µM<br>umap_1=%{x}<br>umap_2=%{y}<extra></extra>",
         "legendgroup": "Disulfiram_2.5 µM",
         "marker": {
          "color": "#636efa",
          "size": 12,
          "symbol": "circle"
         },
         "mode": "markers",
         "name": "Disulfiram_2.5 µM",
         "orientation": "v",
         "showlegend": true,
         "type": "scatter",
         "x": [
          7.8534017,
          9.188535,
          9.35528,
          7.4408073
         ],
         "xaxis": "x",
         "y": [
          4.949119,
          4.2207885,
          5.778209,
          4.0322647
         ],
         "yaxis": "y"
        },
        {
         "hovertemplate": "inducer1_plus_concentration=Thapsigargin_1 µM<br>umap_1=%{x}<br>umap_2=%{y}<extra></extra>",
         "legendgroup": "Thapsigargin_1 µM",
         "marker": {
          "color": "#EF553B",
          "size": 12,
          "symbol": "circle"
         },
         "mode": "markers",
         "name": "Thapsigargin_1 µM",
         "orientation": "v",
         "showlegend": true,
         "type": "scatter",
         "x": [
          8.254289,
          8.501779,
          5.3462496,
          9.836522
         ],
         "xaxis": "x",
         "y": [
          2.2095194,
          3.09606,
          5.8435035,
          4.8433604
         ],
         "yaxis": "y"
        },
        {
         "hovertemplate": "inducer1_plus_concentration=Thapsigargin_10 µM<br>umap_1=%{x}<br>umap_2=%{y}<extra></extra>",
         "legendgroup": "Thapsigargin_10 µM",
         "marker": {
          "color": "#00cc96",
          "size": 12,
          "symbol": "circle"
         },
         "mode": "markers",
         "name": "Thapsigargin_10 µM",
         "orientation": "v",
         "showlegend": true,
         "type": "scatter",
         "x": [
          6.804516,
          6.1715865,
          5.650725,
          6.3395214
         ],
         "xaxis": "x",
         "y": [
          2.8159926,
          2.6167958,
          2.2158628,
          2.182606
         ],
         "yaxis": "y"
        },
        {
         "hovertemplate": "inducer1_plus_concentration=Topotecan_10 nM<br>umap_1=%{x}<br>umap_2=%{y}<extra></extra>",
         "legendgroup": "Topotecan_10 nM",
         "marker": {
          "color": "#ab63fa",
          "size": 12,
          "symbol": "circle"
         },
         "mode": "markers",
         "name": "Topotecan_10 nM",
         "orientation": "v",
         "showlegend": true,
         "type": "scatter",
         "x": [
          5.9582033,
          7.658917,
          9.4227085,
          5.643482
         ],
         "xaxis": "x",
         "y": [
          6.295394,
          1.7489454,
          6.9537773,
          4.413434
         ],
         "yaxis": "y"
        },
        {
         "hovertemplate": "inducer1_plus_concentration=Topotecan_20 nM<br>umap_1=%{x}<br>umap_2=%{y}<extra></extra>",
         "legendgroup": "Topotecan_20 nM",
         "marker": {
          "color": "#FFA15A",
          "size": 12,
          "symbol": "circle"
         },
         "mode": "markers",
         "name": "Topotecan_20 nM",
         "orientation": "v",
         "showlegend": true,
         "type": "scatter",
         "x": [
          6.0456724,
          5.4753976,
          6.9016867,
          10.027936
         ],
         "xaxis": "x",
         "y": [
          5.3959394,
          5.042902,
          4.854067,
          6.797659
         ],
         "yaxis": "y"
        },
        {
         "hovertemplate": "inducer1_plus_concentration=Topotecan_5 nM<br>umap_1=%{x}<br>umap_2=%{y}<extra></extra>",
         "legendgroup": "Topotecan_5 nM",
         "marker": {
          "color": "#19d3f3",
          "size": 12,
          "symbol": "circle"
         },
         "mode": "markers",
         "name": "Topotecan_5 nM",
         "orientation": "v",
         "showlegend": true,
         "type": "scatter",
         "x": [
          8.40905,
          6.7830315,
          7.8901477,
          8.696026
         ],
         "xaxis": "x",
         "y": [
          3.292791,
          6.234093,
          4.0909505,
          6.994813
         ],
         "yaxis": "y"
        },
        {
         "hovertemplate": "inducer1_plus_concentration=H2O2_100 nM<br>umap_1=%{x}<br>umap_2=%{y}<extra></extra>",
         "legendgroup": "H2O2_100 nM",
         "marker": {
          "color": "#FF6692",
          "size": 12,
          "symbol": "circle"
         },
         "mode": "markers",
         "name": "H2O2_100 nM",
         "orientation": "v",
         "showlegend": true,
         "type": "scatter",
         "x": [
          5.198267,
          8.090131,
          7.4724503,
          6.7871222
         ],
         "xaxis": "x",
         "y": [
          4.6485023,
          6.80865,
          7.4661136,
          4.4841146
         ],
         "yaxis": "y"
        },
        {
         "hovertemplate": "inducer1_plus_concentration=H2O2_100 µM<br>umap_1=%{x}<br>umap_2=%{y}<extra></extra>",
         "legendgroup": "H2O2_100 µM",
         "marker": {
          "color": "#B6E880",
          "size": 12,
          "symbol": "circle"
         },
         "mode": "markers",
         "name": "H2O2_100 µM",
         "orientation": "v",
         "showlegend": true,
         "type": "scatter",
         "x": [
          7.6164093,
          8.029554,
          6.133283,
          8.538965,
          7.093384,
          7.331786,
          9.229974,
          7.2391133,
          9.857485,
          10.556327,
          9.416812,
          10.136884
         ],
         "xaxis": "x",
         "y": [
          3.1530485,
          5.8206277,
          6.6476426,
          5.795464,
          3.5015206,
          6.5724044,
          3.5755537,
          5.1845765,
          -1.1734124,
          0.6931075,
          -2.3853514,
          0.9037002
         ],
         "yaxis": "y"
        }
       ],
       "layout": {
        "legend": {
         "title": {
          "text": "inducer1_plus_concentration"
         },
         "tracegroupgap": 0
        },
        "template": {
         "data": {
          "bar": [
           {
            "error_x": {
             "color": "#2a3f5f"
            },
            "error_y": {
             "color": "#2a3f5f"
            },
            "marker": {
             "line": {
              "color": "#E5ECF6",
              "width": 0.5
             },
             "pattern": {
              "fillmode": "overlay",
              "size": 10,
              "solidity": 0.2
             }
            },
            "type": "bar"
           }
          ],
          "barpolar": [
           {
            "marker": {
             "line": {
              "color": "#E5ECF6",
              "width": 0.5
             },
             "pattern": {
              "fillmode": "overlay",
              "size": 10,
              "solidity": 0.2
             }
            },
            "type": "barpolar"
           }
          ],
          "carpet": [
           {
            "aaxis": {
             "endlinecolor": "#2a3f5f",
             "gridcolor": "white",
             "linecolor": "white",
             "minorgridcolor": "white",
             "startlinecolor": "#2a3f5f"
            },
            "baxis": {
             "endlinecolor": "#2a3f5f",
             "gridcolor": "white",
             "linecolor": "white",
             "minorgridcolor": "white",
             "startlinecolor": "#2a3f5f"
            },
            "type": "carpet"
           }
          ],
          "choropleth": [
           {
            "colorbar": {
             "outlinewidth": 0,
             "ticks": ""
            },
            "type": "choropleth"
           }
          ],
          "contour": [
           {
            "colorbar": {
             "outlinewidth": 0,
             "ticks": ""
            },
            "colorscale": [
             [
              0,
              "#0d0887"
             ],
             [
              0.1111111111111111,
              "#46039f"
             ],
             [
              0.2222222222222222,
              "#7201a8"
             ],
             [
              0.3333333333333333,
              "#9c179e"
             ],
             [
              0.4444444444444444,
              "#bd3786"
             ],
             [
              0.5555555555555556,
              "#d8576b"
             ],
             [
              0.6666666666666666,
              "#ed7953"
             ],
             [
              0.7777777777777778,
              "#fb9f3a"
             ],
             [
              0.8888888888888888,
              "#fdca26"
             ],
             [
              1,
              "#f0f921"
             ]
            ],
            "type": "contour"
           }
          ],
          "contourcarpet": [
           {
            "colorbar": {
             "outlinewidth": 0,
             "ticks": ""
            },
            "type": "contourcarpet"
           }
          ],
          "heatmap": [
           {
            "colorbar": {
             "outlinewidth": 0,
             "ticks": ""
            },
            "colorscale": [
             [
              0,
              "#0d0887"
             ],
             [
              0.1111111111111111,
              "#46039f"
             ],
             [
              0.2222222222222222,
              "#7201a8"
             ],
             [
              0.3333333333333333,
              "#9c179e"
             ],
             [
              0.4444444444444444,
              "#bd3786"
             ],
             [
              0.5555555555555556,
              "#d8576b"
             ],
             [
              0.6666666666666666,
              "#ed7953"
             ],
             [
              0.7777777777777778,
              "#fb9f3a"
             ],
             [
              0.8888888888888888,
              "#fdca26"
             ],
             [
              1,
              "#f0f921"
             ]
            ],
            "type": "heatmap"
           }
          ],
          "heatmapgl": [
           {
            "colorbar": {
             "outlinewidth": 0,
             "ticks": ""
            },
            "colorscale": [
             [
              0,
              "#0d0887"
             ],
             [
              0.1111111111111111,
              "#46039f"
             ],
             [
              0.2222222222222222,
              "#7201a8"
             ],
             [
              0.3333333333333333,
              "#9c179e"
             ],
             [
              0.4444444444444444,
              "#bd3786"
             ],
             [
              0.5555555555555556,
              "#d8576b"
             ],
             [
              0.6666666666666666,
              "#ed7953"
             ],
             [
              0.7777777777777778,
              "#fb9f3a"
             ],
             [
              0.8888888888888888,
              "#fdca26"
             ],
             [
              1,
              "#f0f921"
             ]
            ],
            "type": "heatmapgl"
           }
          ],
          "histogram": [
           {
            "marker": {
             "pattern": {
              "fillmode": "overlay",
              "size": 10,
              "solidity": 0.2
             }
            },
            "type": "histogram"
           }
          ],
          "histogram2d": [
           {
            "colorbar": {
             "outlinewidth": 0,
             "ticks": ""
            },
            "colorscale": [
             [
              0,
              "#0d0887"
             ],
             [
              0.1111111111111111,
              "#46039f"
             ],
             [
              0.2222222222222222,
              "#7201a8"
             ],
             [
              0.3333333333333333,
              "#9c179e"
             ],
             [
              0.4444444444444444,
              "#bd3786"
             ],
             [
              0.5555555555555556,
              "#d8576b"
             ],
             [
              0.6666666666666666,
              "#ed7953"
             ],
             [
              0.7777777777777778,
              "#fb9f3a"
             ],
             [
              0.8888888888888888,
              "#fdca26"
             ],
             [
              1,
              "#f0f921"
             ]
            ],
            "type": "histogram2d"
           }
          ],
          "histogram2dcontour": [
           {
            "colorbar": {
             "outlinewidth": 0,
             "ticks": ""
            },
            "colorscale": [
             [
              0,
              "#0d0887"
             ],
             [
              0.1111111111111111,
              "#46039f"
             ],
             [
              0.2222222222222222,
              "#7201a8"
             ],
             [
              0.3333333333333333,
              "#9c179e"
             ],
             [
              0.4444444444444444,
              "#bd3786"
             ],
             [
              0.5555555555555556,
              "#d8576b"
             ],
             [
              0.6666666666666666,
              "#ed7953"
             ],
             [
              0.7777777777777778,
              "#fb9f3a"
             ],
             [
              0.8888888888888888,
              "#fdca26"
             ],
             [
              1,
              "#f0f921"
             ]
            ],
            "type": "histogram2dcontour"
           }
          ],
          "mesh3d": [
           {
            "colorbar": {
             "outlinewidth": 0,
             "ticks": ""
            },
            "type": "mesh3d"
           }
          ],
          "parcoords": [
           {
            "line": {
             "colorbar": {
              "outlinewidth": 0,
              "ticks": ""
             }
            },
            "type": "parcoords"
           }
          ],
          "pie": [
           {
            "automargin": true,
            "type": "pie"
           }
          ],
          "scatter": [
           {
            "fillpattern": {
             "fillmode": "overlay",
             "size": 10,
             "solidity": 0.2
            },
            "type": "scatter"
           }
          ],
          "scatter3d": [
           {
            "line": {
             "colorbar": {
              "outlinewidth": 0,
              "ticks": ""
             }
            },
            "marker": {
             "colorbar": {
              "outlinewidth": 0,
              "ticks": ""
             }
            },
            "type": "scatter3d"
           }
          ],
          "scattercarpet": [
           {
            "marker": {
             "colorbar": {
              "outlinewidth": 0,
              "ticks": ""
             }
            },
            "type": "scattercarpet"
           }
          ],
          "scattergeo": [
           {
            "marker": {
             "colorbar": {
              "outlinewidth": 0,
              "ticks": ""
             }
            },
            "type": "scattergeo"
           }
          ],
          "scattergl": [
           {
            "marker": {
             "colorbar": {
              "outlinewidth": 0,
              "ticks": ""
             }
            },
            "type": "scattergl"
           }
          ],
          "scattermapbox": [
           {
            "marker": {
             "colorbar": {
              "outlinewidth": 0,
              "ticks": ""
             }
            },
            "type": "scattermapbox"
           }
          ],
          "scatterpolar": [
           {
            "marker": {
             "colorbar": {
              "outlinewidth": 0,
              "ticks": ""
             }
            },
            "type": "scatterpolar"
           }
          ],
          "scatterpolargl": [
           {
            "marker": {
             "colorbar": {
              "outlinewidth": 0,
              "ticks": ""
             }
            },
            "type": "scatterpolargl"
           }
          ],
          "scatterternary": [
           {
            "marker": {
             "colorbar": {
              "outlinewidth": 0,
              "ticks": ""
             }
            },
            "type": "scatterternary"
           }
          ],
          "surface": [
           {
            "colorbar": {
             "outlinewidth": 0,
             "ticks": ""
            },
            "colorscale": [
             [
              0,
              "#0d0887"
             ],
             [
              0.1111111111111111,
              "#46039f"
             ],
             [
              0.2222222222222222,
              "#7201a8"
             ],
             [
              0.3333333333333333,
              "#9c179e"
             ],
             [
              0.4444444444444444,
              "#bd3786"
             ],
             [
              0.5555555555555556,
              "#d8576b"
             ],
             [
              0.6666666666666666,
              "#ed7953"
             ],
             [
              0.7777777777777778,
              "#fb9f3a"
             ],
             [
              0.8888888888888888,
              "#fdca26"
             ],
             [
              1,
              "#f0f921"
             ]
            ],
            "type": "surface"
           }
          ],
          "table": [
           {
            "cells": {
             "fill": {
              "color": "#EBF0F8"
             },
             "line": {
              "color": "white"
             }
            },
            "header": {
             "fill": {
              "color": "#C8D4E3"
             },
             "line": {
              "color": "white"
             }
            },
            "type": "table"
           }
          ]
         },
         "layout": {
          "annotationdefaults": {
           "arrowcolor": "#2a3f5f",
           "arrowhead": 0,
           "arrowwidth": 1
          },
          "autotypenumbers": "strict",
          "coloraxis": {
           "colorbar": {
            "outlinewidth": 0,
            "ticks": ""
           }
          },
          "colorscale": {
           "diverging": [
            [
             0,
             "#8e0152"
            ],
            [
             0.1,
             "#c51b7d"
            ],
            [
             0.2,
             "#de77ae"
            ],
            [
             0.3,
             "#f1b6da"
            ],
            [
             0.4,
             "#fde0ef"
            ],
            [
             0.5,
             "#f7f7f7"
            ],
            [
             0.6,
             "#e6f5d0"
            ],
            [
             0.7,
             "#b8e186"
            ],
            [
             0.8,
             "#7fbc41"
            ],
            [
             0.9,
             "#4d9221"
            ],
            [
             1,
             "#276419"
            ]
           ],
           "sequential": [
            [
             0,
             "#0d0887"
            ],
            [
             0.1111111111111111,
             "#46039f"
            ],
            [
             0.2222222222222222,
             "#7201a8"
            ],
            [
             0.3333333333333333,
             "#9c179e"
            ],
            [
             0.4444444444444444,
             "#bd3786"
            ],
            [
             0.5555555555555556,
             "#d8576b"
            ],
            [
             0.6666666666666666,
             "#ed7953"
            ],
            [
             0.7777777777777778,
             "#fb9f3a"
            ],
            [
             0.8888888888888888,
             "#fdca26"
            ],
            [
             1,
             "#f0f921"
            ]
           ],
           "sequentialminus": [
            [
             0,
             "#0d0887"
            ],
            [
             0.1111111111111111,
             "#46039f"
            ],
            [
             0.2222222222222222,
             "#7201a8"
            ],
            [
             0.3333333333333333,
             "#9c179e"
            ],
            [
             0.4444444444444444,
             "#bd3786"
            ],
            [
             0.5555555555555556,
             "#d8576b"
            ],
            [
             0.6666666666666666,
             "#ed7953"
            ],
            [
             0.7777777777777778,
             "#fb9f3a"
            ],
            [
             0.8888888888888888,
             "#fdca26"
            ],
            [
             1,
             "#f0f921"
            ]
           ]
          },
          "colorway": [
           "#636efa",
           "#EF553B",
           "#00cc96",
           "#ab63fa",
           "#FFA15A",
           "#19d3f3",
           "#FF6692",
           "#B6E880",
           "#FF97FF",
           "#FECB52"
          ],
          "font": {
           "color": "#2a3f5f"
          },
          "geo": {
           "bgcolor": "white",
           "lakecolor": "white",
           "landcolor": "#E5ECF6",
           "showlakes": true,
           "showland": true,
           "subunitcolor": "white"
          },
          "hoverlabel": {
           "align": "left"
          },
          "hovermode": "closest",
          "mapbox": {
           "style": "light"
          },
          "paper_bgcolor": "white",
          "plot_bgcolor": "#E5ECF6",
          "polar": {
           "angularaxis": {
            "gridcolor": "white",
            "linecolor": "white",
            "ticks": ""
           },
           "bgcolor": "#E5ECF6",
           "radialaxis": {
            "gridcolor": "white",
            "linecolor": "white",
            "ticks": ""
           }
          },
          "scene": {
           "xaxis": {
            "backgroundcolor": "#E5ECF6",
            "gridcolor": "white",
            "gridwidth": 2,
            "linecolor": "white",
            "showbackground": true,
            "ticks": "",
            "zerolinecolor": "white"
           },
           "yaxis": {
            "backgroundcolor": "#E5ECF6",
            "gridcolor": "white",
            "gridwidth": 2,
            "linecolor": "white",
            "showbackground": true,
            "ticks": "",
            "zerolinecolor": "white"
           },
           "zaxis": {
            "backgroundcolor": "#E5ECF6",
            "gridcolor": "white",
            "gridwidth": 2,
            "linecolor": "white",
            "showbackground": true,
            "ticks": "",
            "zerolinecolor": "white"
           }
          },
          "shapedefaults": {
           "line": {
            "color": "#2a3f5f"
           }
          },
          "ternary": {
           "aaxis": {
            "gridcolor": "white",
            "linecolor": "white",
            "ticks": ""
           },
           "baxis": {
            "gridcolor": "white",
            "linecolor": "white",
            "ticks": ""
           },
           "bgcolor": "#E5ECF6",
           "caxis": {
            "gridcolor": "white",
            "linecolor": "white",
            "ticks": ""
           }
          },
          "title": {
           "x": 0.05
          },
          "xaxis": {
           "automargin": true,
           "gridcolor": "white",
           "linecolor": "white",
           "ticks": "",
           "title": {
            "standoff": 15
           },
           "zerolinecolor": "white",
           "zerolinewidth": 2
          },
          "yaxis": {
           "automargin": true,
           "gridcolor": "white",
           "linecolor": "white",
           "ticks": "",
           "title": {
            "standoff": 15
           },
           "zerolinecolor": "white",
           "zerolinewidth": 2
          }
         }
        },
        "title": {
         "text": "Umap projection of nELISA data colored by inducer1 plus concentration"
        },
        "xaxis": {
         "anchor": "y",
         "domain": [
          0,
          1
         ],
         "title": {
          "text": "UMAP_1"
         }
        },
        "yaxis": {
         "anchor": "x",
         "domain": [
          0,
          1
         ],
         "title": {
          "text": "UMAP_2"
         }
        }
       }
      }
     },
     "metadata": {},
     "output_type": "display_data"
    },
    {
     "data": {
      "application/vnd.plotly.v1+json": {
       "config": {
        "plotlyServerURL": "https://plot.ly"
       },
       "data": [
        {
         "hovertemplate": "inducer1_plus_inhibitor=DMSO_DMSO<br>umap_1=%{x}<br>umap_2=%{y}<extra></extra>",
         "legendgroup": "DMSO_DMSO",
         "marker": {
          "color": "#636efa",
          "size": 12,
          "symbol": "circle"
         },
         "mode": "markers",
         "name": "DMSO_DMSO",
         "orientation": "v",
         "showlegend": true,
         "type": "scatter",
         "x": [
          6.1848674,
          7.1271505,
          8.877183,
          8.804817,
          6.2066817,
          7.9031615,
          10.171222,
          9.852255,
          6.714764,
          8.353386,
          8.083594,
          9.682855
         ],
         "xaxis": "x",
         "y": [
          4.836307,
          5.8550215,
          4.4285216,
          7.2143993,
          7.007176,
          4.8797264,
          5.230283,
          7.7440705,
          7.462769,
          4.747781,
          5.1077833,
          6.132669
         ],
         "yaxis": "y"
        },
        {
         "hovertemplate": "inducer1_plus_inhibitor=DMSO_Z-VAD-FMK<br>umap_1=%{x}<br>umap_2=%{y}<extra></extra>",
         "legendgroup": "DMSO_Z-VAD-FMK",
         "marker": {
          "color": "#EF553B",
          "size": 12,
          "symbol": "circle"
         },
         "mode": "markers",
         "name": "DMSO_Z-VAD-FMK",
         "orientation": "v",
         "showlegend": true,
         "type": "scatter",
         "x": [
          9.582959,
          9.10267,
          9.421256,
          8.86,
          11.237681,
          7.4885693,
          8.965515,
          9.584494
         ],
         "xaxis": "x",
         "y": [
          0.3572608,
          2.3121152,
          1.1295334,
          1.2908931,
          1.4746945,
          0.86714435,
          0.5707853,
          1.9980118
         ],
         "yaxis": "y"
        },
        {
         "hovertemplate": "inducer1_plus_inhibitor=Flagellin_DMSO<br>umap_1=%{x}<br>umap_2=%{y}<extra></extra>",
         "legendgroup": "Flagellin_DMSO",
         "marker": {
          "color": "#00cc96",
          "size": 12,
          "symbol": "circle"
         },
         "mode": "markers",
         "name": "Flagellin_DMSO",
         "orientation": "v",
         "showlegend": true,
         "type": "scatter",
         "x": [
          5.274304,
          3.1239562,
          3.2364836,
          3.8736057,
          4.8116193,
          4.0466285,
          5.4029613,
          4.57975
         ],
         "xaxis": "x",
         "y": [
          1.0809575,
          -0.6448977,
          1.3882996,
          2.0622594,
          1.7570891,
          1.3597423,
          1.2151561,
          1.429621
         ],
         "yaxis": "y"
        },
        {
         "hovertemplate": "inducer1_plus_inhibitor=Flagellin_Disulfiram<br>umap_1=%{x}<br>umap_2=%{y}<extra></extra>",
         "legendgroup": "Flagellin_Disulfiram",
         "marker": {
          "color": "#ab63fa",
          "size": 12,
          "symbol": "circle"
         },
         "mode": "markers",
         "name": "Flagellin_Disulfiram",
         "orientation": "v",
         "showlegend": true,
         "type": "scatter",
         "x": [
          5.7924848,
          3.7772734,
          5.6864843,
          6.291163
         ],
         "xaxis": "x",
         "y": [
          -3.309146,
          0.77231,
          0.18635096,
          0.47329235
         ],
         "yaxis": "y"
        },
        {
         "hovertemplate": "inducer1_plus_inhibitor=LPS_DMSO<br>umap_1=%{x}<br>umap_2=%{y}<extra></extra>",
         "legendgroup": "LPS_DMSO",
         "marker": {
          "color": "#FFA15A",
          "size": 12,
          "symbol": "circle"
         },
         "mode": "markers",
         "name": "LPS_DMSO",
         "orientation": "v",
         "showlegend": true,
         "type": "scatter",
         "x": [
          3.1101022,
          3.6833098,
          4.6193337,
          5.0859337,
          4.278674,
          4.9312177,
          4.405179,
          3.6757646,
          9.029404,
          10.231108,
          10.060092,
          10.984471,
          12.360881,
          12.90634,
          11.678063,
          11.298551,
          12.640573,
          11.856802,
          10.8012085,
          11.740505,
          4.652176,
          2.6694932,
          2.6828263,
          4.2783628,
          3.3147511,
          5.2455435,
          3.3687558,
          4.7268047,
          3.3828895,
          6.3974442,
          6.0971575,
          6.6261897,
          12.912779,
          11.094106,
          12.610306,
          11.623852,
          9.63995,
          10.150959,
          9.9584875,
          10.608692,
          3.7397826,
          4.784717,
          3.0263674,
          4.8483853
         ],
         "xaxis": "x",
         "y": [
          -0.7885775,
          0.8407486,
          -1.1885407,
          0.116166696,
          -0.36097977,
          0.7782948,
          0.4367303,
          -0.11668639,
          -3.268839,
          -4.0297346,
          -3.2435343,
          -4.810435,
          -4.1334686,
          -3.659268,
          -3.023429,
          -4.016538,
          -4.5365853,
          -3.8945615,
          -3.6525364,
          -3.707474,
          -1.7325637,
          -0.4390842,
          -0.2915536,
          -0.6824182,
          0.2584662,
          -0.637612,
          -1.1091094,
          0.3810285,
          -1.4155718,
          -1.2561415,
          -2.0310843,
          -2.6757178,
          -4.260448,
          -5.289259,
          -3.4268248,
          -4.6888876,
          -4.209861,
          -5.2467237,
          -4.7454443,
          -4.496364,
          -1.257229,
          -0.27453947,
          0.3105847,
          -1.357959
         ],
         "yaxis": "y"
        },
        {
         "hovertemplate": "inducer1_plus_inhibitor=Disulfiram_DMSO<br>umap_1=%{x}<br>umap_2=%{y}<extra></extra>",
         "legendgroup": "Disulfiram_DMSO",
         "marker": {
          "color": "#19d3f3",
          "size": 12,
          "symbol": "circle"
         },
         "mode": "markers",
         "name": "Disulfiram_DMSO",
         "orientation": "v",
         "showlegend": true,
         "type": "scatter",
         "x": [
          6.481578,
          8.279896,
          9.378238,
          8.597874,
          5.4903407,
          6.9723296,
          6.6349874,
          6.3792195,
          7.8534017,
          9.188535,
          9.35528,
          7.4408073
         ],
         "xaxis": "x",
         "y": [
          3.7328444,
          6.3928423,
          7.438801,
          5.7771006,
          3.799603,
          5.338152,
          5.623904,
          4.3587904,
          4.949119,
          4.2207885,
          5.778209,
          4.0322647
         ],
         "yaxis": "y"
        },
        {
         "hovertemplate": "inducer1_plus_inhibitor=LPS_Disulfiram<br>umap_1=%{x}<br>umap_2=%{y}<extra></extra>",
         "legendgroup": "LPS_Disulfiram",
         "marker": {
          "color": "#FF6692",
          "size": 12,
          "symbol": "circle"
         },
         "mode": "markers",
         "name": "LPS_Disulfiram",
         "orientation": "v",
         "showlegend": true,
         "type": "scatter",
         "x": [
          8.862622,
          9.598662,
          7.866392,
          8.605867,
          4.370918,
          4.7524576,
          4.6002946,
          5.541343,
          4.8483477,
          4.048826,
          6.239959,
          5.1830683,
          4.973897,
          5.6771584,
          5.6127443,
          5.327235
         ],
         "xaxis": "x",
         "y": [
          -4.2525935,
          -3.192434,
          -3.0502522,
          -3.3203738,
          0.4679684,
          -2.4865482,
          -0.75440526,
          -0.9273446,
          -3.2262268,
          -1.5909488,
          -0.64815164,
          -3.936502,
          -3.5638916,
          -0.63657475,
          -3.0614626,
          -3.2142794
         ],
         "yaxis": "y"
        },
        {
         "hovertemplate": "inducer1_plus_inhibitor=LPS_Z-VAD-FMK<br>umap_1=%{x}<br>umap_2=%{y}<extra></extra>",
         "legendgroup": "LPS_Z-VAD-FMK",
         "marker": {
          "color": "#B6E880",
          "size": 12,
          "symbol": "circle"
         },
         "mode": "markers",
         "name": "LPS_Z-VAD-FMK",
         "orientation": "v",
         "showlegend": true,
         "type": "scatter",
         "x": [
          10.800692,
          10.509076,
          11.268544,
          11.191013,
          10.491386,
          10.349841,
          11.139314,
          10.835458
         ],
         "xaxis": "x",
         "y": [
          -1.3471427,
          -1.7903415,
          -2.2320423,
          -1.9342276,
          -0.6335099,
          2.173302,
          1.0733249,
          1.7847017
         ],
         "yaxis": "y"
        },
        {
         "hovertemplate": "inducer1_plus_inhibitor=Thapsigargin_DMSO<br>umap_1=%{x}<br>umap_2=%{y}<extra></extra>",
         "legendgroup": "Thapsigargin_DMSO",
         "marker": {
          "color": "#FF97FF",
          "size": 12,
          "symbol": "circle"
         },
         "mode": "markers",
         "name": "Thapsigargin_DMSO",
         "orientation": "v",
         "showlegend": true,
         "type": "scatter",
         "x": [
          8.254289,
          8.501779,
          5.3462496,
          9.836522,
          6.804516,
          6.1715865,
          5.650725,
          6.3395214
         ],
         "xaxis": "x",
         "y": [
          2.2095194,
          3.09606,
          5.8435035,
          4.8433604,
          2.8159926,
          2.6167958,
          2.2158628,
          2.182606
         ],
         "yaxis": "y"
        },
        {
         "hovertemplate": "inducer1_plus_inhibitor=Topotecan_DMSO<br>umap_1=%{x}<br>umap_2=%{y}<extra></extra>",
         "legendgroup": "Topotecan_DMSO",
         "marker": {
          "color": "#FECB52",
          "size": 12,
          "symbol": "circle"
         },
         "mode": "markers",
         "name": "Topotecan_DMSO",
         "orientation": "v",
         "showlegend": true,
         "type": "scatter",
         "x": [
          5.9582033,
          7.658917,
          9.4227085,
          5.643482,
          6.0456724,
          5.4753976,
          6.9016867,
          10.027936,
          8.40905,
          6.7830315,
          7.8901477,
          8.696026
         ],
         "xaxis": "x",
         "y": [
          6.295394,
          1.7489454,
          6.9537773,
          4.413434,
          5.3959394,
          5.042902,
          4.854067,
          6.797659,
          3.292791,
          6.234093,
          4.0909505,
          6.994813
         ],
         "yaxis": "y"
        },
        {
         "hovertemplate": "inducer1_plus_inhibitor=H2O2_DMSO<br>umap_1=%{x}<br>umap_2=%{y}<extra></extra>",
         "legendgroup": "H2O2_DMSO",
         "marker": {
          "color": "#636efa",
          "size": 12,
          "symbol": "circle"
         },
         "mode": "markers",
         "name": "H2O2_DMSO",
         "orientation": "v",
         "showlegend": true,
         "type": "scatter",
         "x": [
          5.198267,
          8.090131,
          7.4724503,
          6.7871222,
          7.6164093,
          8.029554,
          6.133283,
          8.538965
         ],
         "xaxis": "x",
         "y": [
          4.6485023,
          6.80865,
          7.4661136,
          4.4841146,
          3.1530485,
          5.8206277,
          6.6476426,
          5.795464
         ],
         "yaxis": "y"
        },
        {
         "hovertemplate": "inducer1_plus_inhibitor=H2O2_Disulfiram<br>umap_1=%{x}<br>umap_2=%{y}<extra></extra>",
         "legendgroup": "H2O2_Disulfiram",
         "marker": {
          "color": "#EF553B",
          "size": 12,
          "symbol": "circle"
         },
         "mode": "markers",
         "name": "H2O2_Disulfiram",
         "orientation": "v",
         "showlegend": true,
         "type": "scatter",
         "x": [
          7.093384,
          7.331786,
          9.229974,
          7.2391133
         ],
         "xaxis": "x",
         "y": [
          3.5015206,
          6.5724044,
          3.5755537,
          5.1845765
         ],
         "yaxis": "y"
        },
        {
         "hovertemplate": "inducer1_plus_inhibitor=H2O2_Z-VAD-FMK<br>umap_1=%{x}<br>umap_2=%{y}<extra></extra>",
         "legendgroup": "H2O2_Z-VAD-FMK",
         "marker": {
          "color": "#00cc96",
          "size": 12,
          "symbol": "circle"
         },
         "mode": "markers",
         "name": "H2O2_Z-VAD-FMK",
         "orientation": "v",
         "showlegend": true,
         "type": "scatter",
         "x": [
          9.857485,
          10.556327,
          9.416812,
          10.136884
         ],
         "xaxis": "x",
         "y": [
          -1.1734124,
          0.6931075,
          -2.3853514,
          0.9037002
         ],
         "yaxis": "y"
        },
        {
         "hovertemplate": "inducer1_plus_inhibitor=media ctr_Media ctr<br>umap_1=%{x}<br>umap_2=%{y}<extra></extra>",
         "legendgroup": "media ctr_Media ctr",
         "marker": {
          "color": "#ab63fa",
          "size": 12,
          "symbol": "circle"
         },
         "mode": "markers",
         "name": "media ctr_Media ctr",
         "orientation": "v",
         "showlegend": true,
         "type": "scatter",
         "x": [
          6.932302,
          7.5909243,
          8.908558,
          6.334013,
          9.86149
         ],
         "xaxis": "x",
         "y": [
          7.4096727,
          6.6128607,
          4.9578056,
          6.0715046,
          6.22895
         ],
         "yaxis": "y"
        },
        {
         "hovertemplate": "inducer1_plus_inhibitor=media ctr_Media<br>umap_1=%{x}<br>umap_2=%{y}<extra></extra>",
         "legendgroup": "media ctr_Media",
         "marker": {
          "color": "#FFA15A",
          "size": 12,
          "symbol": "circle"
         },
         "mode": "markers",
         "name": "media ctr_Media",
         "orientation": "v",
         "showlegend": true,
         "type": "scatter",
         "x": [
          8.945065
         ],
         "xaxis": "x",
         "y": [
          6.273999
         ],
         "yaxis": "y"
        }
       ],
       "layout": {
        "legend": {
         "title": {
          "text": "inducer1_plus_inhibitor"
         },
         "tracegroupgap": 0
        },
        "template": {
         "data": {
          "bar": [
           {
            "error_x": {
             "color": "#2a3f5f"
            },
            "error_y": {
             "color": "#2a3f5f"
            },
            "marker": {
             "line": {
              "color": "#E5ECF6",
              "width": 0.5
             },
             "pattern": {
              "fillmode": "overlay",
              "size": 10,
              "solidity": 0.2
             }
            },
            "type": "bar"
           }
          ],
          "barpolar": [
           {
            "marker": {
             "line": {
              "color": "#E5ECF6",
              "width": 0.5
             },
             "pattern": {
              "fillmode": "overlay",
              "size": 10,
              "solidity": 0.2
             }
            },
            "type": "barpolar"
           }
          ],
          "carpet": [
           {
            "aaxis": {
             "endlinecolor": "#2a3f5f",
             "gridcolor": "white",
             "linecolor": "white",
             "minorgridcolor": "white",
             "startlinecolor": "#2a3f5f"
            },
            "baxis": {
             "endlinecolor": "#2a3f5f",
             "gridcolor": "white",
             "linecolor": "white",
             "minorgridcolor": "white",
             "startlinecolor": "#2a3f5f"
            },
            "type": "carpet"
           }
          ],
          "choropleth": [
           {
            "colorbar": {
             "outlinewidth": 0,
             "ticks": ""
            },
            "type": "choropleth"
           }
          ],
          "contour": [
           {
            "colorbar": {
             "outlinewidth": 0,
             "ticks": ""
            },
            "colorscale": [
             [
              0,
              "#0d0887"
             ],
             [
              0.1111111111111111,
              "#46039f"
             ],
             [
              0.2222222222222222,
              "#7201a8"
             ],
             [
              0.3333333333333333,
              "#9c179e"
             ],
             [
              0.4444444444444444,
              "#bd3786"
             ],
             [
              0.5555555555555556,
              "#d8576b"
             ],
             [
              0.6666666666666666,
              "#ed7953"
             ],
             [
              0.7777777777777778,
              "#fb9f3a"
             ],
             [
              0.8888888888888888,
              "#fdca26"
             ],
             [
              1,
              "#f0f921"
             ]
            ],
            "type": "contour"
           }
          ],
          "contourcarpet": [
           {
            "colorbar": {
             "outlinewidth": 0,
             "ticks": ""
            },
            "type": "contourcarpet"
           }
          ],
          "heatmap": [
           {
            "colorbar": {
             "outlinewidth": 0,
             "ticks": ""
            },
            "colorscale": [
             [
              0,
              "#0d0887"
             ],
             [
              0.1111111111111111,
              "#46039f"
             ],
             [
              0.2222222222222222,
              "#7201a8"
             ],
             [
              0.3333333333333333,
              "#9c179e"
             ],
             [
              0.4444444444444444,
              "#bd3786"
             ],
             [
              0.5555555555555556,
              "#d8576b"
             ],
             [
              0.6666666666666666,
              "#ed7953"
             ],
             [
              0.7777777777777778,
              "#fb9f3a"
             ],
             [
              0.8888888888888888,
              "#fdca26"
             ],
             [
              1,
              "#f0f921"
             ]
            ],
            "type": "heatmap"
           }
          ],
          "heatmapgl": [
           {
            "colorbar": {
             "outlinewidth": 0,
             "ticks": ""
            },
            "colorscale": [
             [
              0,
              "#0d0887"
             ],
             [
              0.1111111111111111,
              "#46039f"
             ],
             [
              0.2222222222222222,
              "#7201a8"
             ],
             [
              0.3333333333333333,
              "#9c179e"
             ],
             [
              0.4444444444444444,
              "#bd3786"
             ],
             [
              0.5555555555555556,
              "#d8576b"
             ],
             [
              0.6666666666666666,
              "#ed7953"
             ],
             [
              0.7777777777777778,
              "#fb9f3a"
             ],
             [
              0.8888888888888888,
              "#fdca26"
             ],
             [
              1,
              "#f0f921"
             ]
            ],
            "type": "heatmapgl"
           }
          ],
          "histogram": [
           {
            "marker": {
             "pattern": {
              "fillmode": "overlay",
              "size": 10,
              "solidity": 0.2
             }
            },
            "type": "histogram"
           }
          ],
          "histogram2d": [
           {
            "colorbar": {
             "outlinewidth": 0,
             "ticks": ""
            },
            "colorscale": [
             [
              0,
              "#0d0887"
             ],
             [
              0.1111111111111111,
              "#46039f"
             ],
             [
              0.2222222222222222,
              "#7201a8"
             ],
             [
              0.3333333333333333,
              "#9c179e"
             ],
             [
              0.4444444444444444,
              "#bd3786"
             ],
             [
              0.5555555555555556,
              "#d8576b"
             ],
             [
              0.6666666666666666,
              "#ed7953"
             ],
             [
              0.7777777777777778,
              "#fb9f3a"
             ],
             [
              0.8888888888888888,
              "#fdca26"
             ],
             [
              1,
              "#f0f921"
             ]
            ],
            "type": "histogram2d"
           }
          ],
          "histogram2dcontour": [
           {
            "colorbar": {
             "outlinewidth": 0,
             "ticks": ""
            },
            "colorscale": [
             [
              0,
              "#0d0887"
             ],
             [
              0.1111111111111111,
              "#46039f"
             ],
             [
              0.2222222222222222,
              "#7201a8"
             ],
             [
              0.3333333333333333,
              "#9c179e"
             ],
             [
              0.4444444444444444,
              "#bd3786"
             ],
             [
              0.5555555555555556,
              "#d8576b"
             ],
             [
              0.6666666666666666,
              "#ed7953"
             ],
             [
              0.7777777777777778,
              "#fb9f3a"
             ],
             [
              0.8888888888888888,
              "#fdca26"
             ],
             [
              1,
              "#f0f921"
             ]
            ],
            "type": "histogram2dcontour"
           }
          ],
          "mesh3d": [
           {
            "colorbar": {
             "outlinewidth": 0,
             "ticks": ""
            },
            "type": "mesh3d"
           }
          ],
          "parcoords": [
           {
            "line": {
             "colorbar": {
              "outlinewidth": 0,
              "ticks": ""
             }
            },
            "type": "parcoords"
           }
          ],
          "pie": [
           {
            "automargin": true,
            "type": "pie"
           }
          ],
          "scatter": [
           {
            "fillpattern": {
             "fillmode": "overlay",
             "size": 10,
             "solidity": 0.2
            },
            "type": "scatter"
           }
          ],
          "scatter3d": [
           {
            "line": {
             "colorbar": {
              "outlinewidth": 0,
              "ticks": ""
             }
            },
            "marker": {
             "colorbar": {
              "outlinewidth": 0,
              "ticks": ""
             }
            },
            "type": "scatter3d"
           }
          ],
          "scattercarpet": [
           {
            "marker": {
             "colorbar": {
              "outlinewidth": 0,
              "ticks": ""
             }
            },
            "type": "scattercarpet"
           }
          ],
          "scattergeo": [
           {
            "marker": {
             "colorbar": {
              "outlinewidth": 0,
              "ticks": ""
             }
            },
            "type": "scattergeo"
           }
          ],
          "scattergl": [
           {
            "marker": {
             "colorbar": {
              "outlinewidth": 0,
              "ticks": ""
             }
            },
            "type": "scattergl"
           }
          ],
          "scattermapbox": [
           {
            "marker": {
             "colorbar": {
              "outlinewidth": 0,
              "ticks": ""
             }
            },
            "type": "scattermapbox"
           }
          ],
          "scatterpolar": [
           {
            "marker": {
             "colorbar": {
              "outlinewidth": 0,
              "ticks": ""
             }
            },
            "type": "scatterpolar"
           }
          ],
          "scatterpolargl": [
           {
            "marker": {
             "colorbar": {
              "outlinewidth": 0,
              "ticks": ""
             }
            },
            "type": "scatterpolargl"
           }
          ],
          "scatterternary": [
           {
            "marker": {
             "colorbar": {
              "outlinewidth": 0,
              "ticks": ""
             }
            },
            "type": "scatterternary"
           }
          ],
          "surface": [
           {
            "colorbar": {
             "outlinewidth": 0,
             "ticks": ""
            },
            "colorscale": [
             [
              0,
              "#0d0887"
             ],
             [
              0.1111111111111111,
              "#46039f"
             ],
             [
              0.2222222222222222,
              "#7201a8"
             ],
             [
              0.3333333333333333,
              "#9c179e"
             ],
             [
              0.4444444444444444,
              "#bd3786"
             ],
             [
              0.5555555555555556,
              "#d8576b"
             ],
             [
              0.6666666666666666,
              "#ed7953"
             ],
             [
              0.7777777777777778,
              "#fb9f3a"
             ],
             [
              0.8888888888888888,
              "#fdca26"
             ],
             [
              1,
              "#f0f921"
             ]
            ],
            "type": "surface"
           }
          ],
          "table": [
           {
            "cells": {
             "fill": {
              "color": "#EBF0F8"
             },
             "line": {
              "color": "white"
             }
            },
            "header": {
             "fill": {
              "color": "#C8D4E3"
             },
             "line": {
              "color": "white"
             }
            },
            "type": "table"
           }
          ]
         },
         "layout": {
          "annotationdefaults": {
           "arrowcolor": "#2a3f5f",
           "arrowhead": 0,
           "arrowwidth": 1
          },
          "autotypenumbers": "strict",
          "coloraxis": {
           "colorbar": {
            "outlinewidth": 0,
            "ticks": ""
           }
          },
          "colorscale": {
           "diverging": [
            [
             0,
             "#8e0152"
            ],
            [
             0.1,
             "#c51b7d"
            ],
            [
             0.2,
             "#de77ae"
            ],
            [
             0.3,
             "#f1b6da"
            ],
            [
             0.4,
             "#fde0ef"
            ],
            [
             0.5,
             "#f7f7f7"
            ],
            [
             0.6,
             "#e6f5d0"
            ],
            [
             0.7,
             "#b8e186"
            ],
            [
             0.8,
             "#7fbc41"
            ],
            [
             0.9,
             "#4d9221"
            ],
            [
             1,
             "#276419"
            ]
           ],
           "sequential": [
            [
             0,
             "#0d0887"
            ],
            [
             0.1111111111111111,
             "#46039f"
            ],
            [
             0.2222222222222222,
             "#7201a8"
            ],
            [
             0.3333333333333333,
             "#9c179e"
            ],
            [
             0.4444444444444444,
             "#bd3786"
            ],
            [
             0.5555555555555556,
             "#d8576b"
            ],
            [
             0.6666666666666666,
             "#ed7953"
            ],
            [
             0.7777777777777778,
             "#fb9f3a"
            ],
            [
             0.8888888888888888,
             "#fdca26"
            ],
            [
             1,
             "#f0f921"
            ]
           ],
           "sequentialminus": [
            [
             0,
             "#0d0887"
            ],
            [
             0.1111111111111111,
             "#46039f"
            ],
            [
             0.2222222222222222,
             "#7201a8"
            ],
            [
             0.3333333333333333,
             "#9c179e"
            ],
            [
             0.4444444444444444,
             "#bd3786"
            ],
            [
             0.5555555555555556,
             "#d8576b"
            ],
            [
             0.6666666666666666,
             "#ed7953"
            ],
            [
             0.7777777777777778,
             "#fb9f3a"
            ],
            [
             0.8888888888888888,
             "#fdca26"
            ],
            [
             1,
             "#f0f921"
            ]
           ]
          },
          "colorway": [
           "#636efa",
           "#EF553B",
           "#00cc96",
           "#ab63fa",
           "#FFA15A",
           "#19d3f3",
           "#FF6692",
           "#B6E880",
           "#FF97FF",
           "#FECB52"
          ],
          "font": {
           "color": "#2a3f5f"
          },
          "geo": {
           "bgcolor": "white",
           "lakecolor": "white",
           "landcolor": "#E5ECF6",
           "showlakes": true,
           "showland": true,
           "subunitcolor": "white"
          },
          "hoverlabel": {
           "align": "left"
          },
          "hovermode": "closest",
          "mapbox": {
           "style": "light"
          },
          "paper_bgcolor": "white",
          "plot_bgcolor": "#E5ECF6",
          "polar": {
           "angularaxis": {
            "gridcolor": "white",
            "linecolor": "white",
            "ticks": ""
           },
           "bgcolor": "#E5ECF6",
           "radialaxis": {
            "gridcolor": "white",
            "linecolor": "white",
            "ticks": ""
           }
          },
          "scene": {
           "xaxis": {
            "backgroundcolor": "#E5ECF6",
            "gridcolor": "white",
            "gridwidth": 2,
            "linecolor": "white",
            "showbackground": true,
            "ticks": "",
            "zerolinecolor": "white"
           },
           "yaxis": {
            "backgroundcolor": "#E5ECF6",
            "gridcolor": "white",
            "gridwidth": 2,
            "linecolor": "white",
            "showbackground": true,
            "ticks": "",
            "zerolinecolor": "white"
           },
           "zaxis": {
            "backgroundcolor": "#E5ECF6",
            "gridcolor": "white",
            "gridwidth": 2,
            "linecolor": "white",
            "showbackground": true,
            "ticks": "",
            "zerolinecolor": "white"
           }
          },
          "shapedefaults": {
           "line": {
            "color": "#2a3f5f"
           }
          },
          "ternary": {
           "aaxis": {
            "gridcolor": "white",
            "linecolor": "white",
            "ticks": ""
           },
           "baxis": {
            "gridcolor": "white",
            "linecolor": "white",
            "ticks": ""
           },
           "bgcolor": "#E5ECF6",
           "caxis": {
            "gridcolor": "white",
            "linecolor": "white",
            "ticks": ""
           }
          },
          "title": {
           "x": 0.05
          },
          "xaxis": {
           "automargin": true,
           "gridcolor": "white",
           "linecolor": "white",
           "ticks": "",
           "title": {
            "standoff": 15
           },
           "zerolinecolor": "white",
           "zerolinewidth": 2
          },
          "yaxis": {
           "automargin": true,
           "gridcolor": "white",
           "linecolor": "white",
           "ticks": "",
           "title": {
            "standoff": 15
           },
           "zerolinecolor": "white",
           "zerolinewidth": 2
          }
         }
        },
        "title": {
         "text": "Umap projection of nELISA data colored by inducer1 plus inhibitor"
        },
        "xaxis": {
         "anchor": "y",
         "domain": [
          0,
          1
         ],
         "title": {
          "text": "UMAP_1"
         }
        },
        "yaxis": {
         "anchor": "x",
         "domain": [
          0,
          1
         ],
         "title": {
          "text": "UMAP_2"
         }
        }
       }
      }
     },
     "metadata": {},
     "output_type": "display_data"
    },
    {
     "data": {
      "application/vnd.plotly.v1+json": {
       "config": {
        "plotlyServerURL": "https://plot.ly"
       },
       "data": [
        {
         "hovertemplate": "inducer1_plus_concentration_plus_inhibitor=DMSO_0.10%_DMSO<br>umap_1=%{x}<br>umap_2=%{y}<extra></extra>",
         "legendgroup": "DMSO_0.10%_DMSO",
         "marker": {
          "color": "#636efa",
          "size": 12,
          "symbol": "circle"
         },
         "mode": "markers",
         "name": "DMSO_0.10%_DMSO",
         "orientation": "v",
         "showlegend": true,
         "type": "scatter",
         "x": [
          6.1848674,
          7.1271505,
          8.877183,
          8.804817,
          6.2066817,
          7.9031615,
          10.171222,
          9.852255,
          6.714764,
          8.353386,
          8.083594,
          9.682855
         ],
         "xaxis": "x",
         "y": [
          4.836307,
          5.8550215,
          4.4285216,
          7.2143993,
          7.007176,
          4.8797264,
          5.230283,
          7.7440705,
          7.462769,
          4.747781,
          5.1077833,
          6.132669
         ],
         "yaxis": "y"
        },
        {
         "hovertemplate": "inducer1_plus_concentration_plus_inhibitor=DMSO_0.10%_Z-VAD-FMK<br>umap_1=%{x}<br>umap_2=%{y}<extra></extra>",
         "legendgroup": "DMSO_0.10%_Z-VAD-FMK",
         "marker": {
          "color": "#EF553B",
          "size": 12,
          "symbol": "circle"
         },
         "mode": "markers",
         "name": "DMSO_0.10%_Z-VAD-FMK",
         "orientation": "v",
         "showlegend": true,
         "type": "scatter",
         "x": [
          9.582959,
          9.10267,
          9.421256,
          8.86,
          11.237681,
          7.4885693,
          8.965515,
          9.584494
         ],
         "xaxis": "x",
         "y": [
          0.3572608,
          2.3121152,
          1.1295334,
          1.2908931,
          1.4746945,
          0.86714435,
          0.5707853,
          1.9980118
         ],
         "yaxis": "y"
        },
        {
         "hovertemplate": "inducer1_plus_concentration_plus_inhibitor=Flagellin_1 µg/ml_DMSO<br>umap_1=%{x}<br>umap_2=%{y}<extra></extra>",
         "legendgroup": "Flagellin_1 µg/ml_DMSO",
         "marker": {
          "color": "#00cc96",
          "size": 12,
          "symbol": "circle"
         },
         "mode": "markers",
         "name": "Flagellin_1 µg/ml_DMSO",
         "orientation": "v",
         "showlegend": true,
         "type": "scatter",
         "x": [
          5.274304,
          4.0466285,
          5.4029613,
          4.57975
         ],
         "xaxis": "x",
         "y": [
          1.0809575,
          1.3597423,
          1.2151561,
          1.429621
         ],
         "yaxis": "y"
        },
        {
         "hovertemplate": "inducer1_plus_concentration_plus_inhibitor=Flagellin_0.1 µg/ml_DMSO<br>umap_1=%{x}<br>umap_2=%{y}<extra></extra>",
         "legendgroup": "Flagellin_0.1 µg/ml_DMSO",
         "marker": {
          "color": "#ab63fa",
          "size": 12,
          "symbol": "circle"
         },
         "mode": "markers",
         "name": "Flagellin_0.1 µg/ml_DMSO",
         "orientation": "v",
         "showlegend": true,
         "type": "scatter",
         "x": [
          3.1239562,
          3.2364836,
          3.8736057,
          4.8116193
         ],
         "xaxis": "x",
         "y": [
          -0.6448977,
          1.3882996,
          2.0622594,
          1.7570891
         ],
         "yaxis": "y"
        },
        {
         "hovertemplate": "inducer1_plus_concentration_plus_inhibitor=Flagellin_1 µg/ml_Disulfiram<br>umap_1=%{x}<br>umap_2=%{y}<extra></extra>",
         "legendgroup": "Flagellin_1 µg/ml_Disulfiram",
         "marker": {
          "color": "#FFA15A",
          "size": 12,
          "symbol": "circle"
         },
         "mode": "markers",
         "name": "Flagellin_1 µg/ml_Disulfiram",
         "orientation": "v",
         "showlegend": true,
         "type": "scatter",
         "x": [
          5.7924848,
          3.7772734,
          5.6864843,
          6.291163
         ],
         "xaxis": "x",
         "y": [
          -3.309146,
          0.77231,
          0.18635096,
          0.47329235
         ],
         "yaxis": "y"
        },
        {
         "hovertemplate": "inducer1_plus_concentration_plus_inhibitor=LPS_0.01 µg/ml_DMSO<br>umap_1=%{x}<br>umap_2=%{y}<extra></extra>",
         "legendgroup": "LPS_0.01 µg/ml_DMSO",
         "marker": {
          "color": "#19d3f3",
          "size": 12,
          "symbol": "circle"
         },
         "mode": "markers",
         "name": "LPS_0.01 µg/ml_DMSO",
         "orientation": "v",
         "showlegend": true,
         "type": "scatter",
         "x": [
          3.1101022,
          3.6833098,
          4.6193337,
          5.0859337
         ],
         "xaxis": "x",
         "y": [
          -0.7885775,
          0.8407486,
          -1.1885407,
          0.116166696
         ],
         "yaxis": "y"
        },
        {
         "hovertemplate": "inducer1_plus_concentration_plus_inhibitor=LPS_0.1 µg/ml_DMSO<br>umap_1=%{x}<br>umap_2=%{y}<extra></extra>",
         "legendgroup": "LPS_0.1 µg/ml_DMSO",
         "marker": {
          "color": "#FF6692",
          "size": 12,
          "symbol": "circle"
         },
         "mode": "markers",
         "name": "LPS_0.1 µg/ml_DMSO",
         "orientation": "v",
         "showlegend": true,
         "type": "scatter",
         "x": [
          4.278674,
          4.9312177,
          4.405179,
          3.6757646
         ],
         "xaxis": "x",
         "y": [
          -0.36097977,
          0.7782948,
          0.4367303,
          -0.11668639
         ],
         "yaxis": "y"
        },
        {
         "hovertemplate": "inducer1_plus_concentration_plus_inhibitor=LPS_1 µg/ml_DMSO<br>umap_1=%{x}<br>umap_2=%{y}<extra></extra>",
         "legendgroup": "LPS_1 µg/ml_DMSO",
         "marker": {
          "color": "#B6E880",
          "size": 12,
          "symbol": "circle"
         },
         "mode": "markers",
         "name": "LPS_1 µg/ml_DMSO",
         "orientation": "v",
         "showlegend": true,
         "type": "scatter",
         "x": [
          9.029404,
          10.231108,
          10.060092,
          10.984471,
          12.360881,
          12.90634,
          11.678063,
          11.298551,
          12.640573,
          11.856802,
          10.8012085,
          11.740505,
          4.652176,
          2.6694932,
          2.6828263,
          4.2783628
         ],
         "xaxis": "x",
         "y": [
          -3.268839,
          -4.0297346,
          -3.2435343,
          -4.810435,
          -4.1334686,
          -3.659268,
          -3.023429,
          -4.016538,
          -4.5365853,
          -3.8945615,
          -3.6525364,
          -3.707474,
          -1.7325637,
          -0.4390842,
          -0.2915536,
          -0.6824182
         ],
         "yaxis": "y"
        },
        {
         "hovertemplate": "inducer1_plus_concentration_plus_inhibitor=LPS_10 µg/ml_DMSO<br>umap_1=%{x}<br>umap_2=%{y}<extra></extra>",
         "legendgroup": "LPS_10 µg/ml_DMSO",
         "marker": {
          "color": "#FF97FF",
          "size": 12,
          "symbol": "circle"
         },
         "mode": "markers",
         "name": "LPS_10 µg/ml_DMSO",
         "orientation": "v",
         "showlegend": true,
         "type": "scatter",
         "x": [
          3.3147511,
          5.2455435,
          3.3687558,
          4.7268047
         ],
         "xaxis": "x",
         "y": [
          0.2584662,
          -0.637612,
          -1.1091094,
          0.3810285
         ],
         "yaxis": "y"
        },
        {
         "hovertemplate": "inducer1_plus_concentration_plus_inhibitor=LPS_100 µg/ml_DMSO<br>umap_1=%{x}<br>umap_2=%{y}<extra></extra>",
         "legendgroup": "LPS_100 µg/ml_DMSO",
         "marker": {
          "color": "#FECB52",
          "size": 12,
          "symbol": "circle"
         },
         "mode": "markers",
         "name": "LPS_100 µg/ml_DMSO",
         "orientation": "v",
         "showlegend": true,
         "type": "scatter",
         "x": [
          3.3828895,
          6.3974442,
          6.0971575,
          6.6261897,
          12.912779,
          11.094106,
          12.610306,
          11.623852,
          9.63995,
          10.150959,
          9.9584875,
          10.608692,
          3.7397826,
          4.784717,
          3.0263674,
          4.8483853
         ],
         "xaxis": "x",
         "y": [
          -1.4155718,
          -1.2561415,
          -2.0310843,
          -2.6757178,
          -4.260448,
          -5.289259,
          -3.4268248,
          -4.6888876,
          -4.209861,
          -5.2467237,
          -4.7454443,
          -4.496364,
          -1.257229,
          -0.27453947,
          0.3105847,
          -1.357959
         ],
         "yaxis": "y"
        },
        {
         "hovertemplate": "inducer1_plus_concentration_plus_inhibitor=Disulfiram_0.1 µM_DMSO<br>umap_1=%{x}<br>umap_2=%{y}<extra></extra>",
         "legendgroup": "Disulfiram_0.1 µM_DMSO",
         "marker": {
          "color": "#636efa",
          "size": 12,
          "symbol": "circle"
         },
         "mode": "markers",
         "name": "Disulfiram_0.1 µM_DMSO",
         "orientation": "v",
         "showlegend": true,
         "type": "scatter",
         "x": [
          6.481578,
          8.279896,
          9.378238,
          8.597874
         ],
         "xaxis": "x",
         "y": [
          3.7328444,
          6.3928423,
          7.438801,
          5.7771006
         ],
         "yaxis": "y"
        },
        {
         "hovertemplate": "inducer1_plus_concentration_plus_inhibitor=Disulfiram_1 µM_DMSO<br>umap_1=%{x}<br>umap_2=%{y}<extra></extra>",
         "legendgroup": "Disulfiram_1 µM_DMSO",
         "marker": {
          "color": "#EF553B",
          "size": 12,
          "symbol": "circle"
         },
         "mode": "markers",
         "name": "Disulfiram_1 µM_DMSO",
         "orientation": "v",
         "showlegend": true,
         "type": "scatter",
         "x": [
          5.4903407,
          6.9723296,
          6.6349874,
          6.3792195
         ],
         "xaxis": "x",
         "y": [
          3.799603,
          5.338152,
          5.623904,
          4.3587904
         ],
         "yaxis": "y"
        },
        {
         "hovertemplate": "inducer1_plus_concentration_plus_inhibitor=Disulfiram_2.5 µM_DMSO<br>umap_1=%{x}<br>umap_2=%{y}<extra></extra>",
         "legendgroup": "Disulfiram_2.5 µM_DMSO",
         "marker": {
          "color": "#00cc96",
          "size": 12,
          "symbol": "circle"
         },
         "mode": "markers",
         "name": "Disulfiram_2.5 µM_DMSO",
         "orientation": "v",
         "showlegend": true,
         "type": "scatter",
         "x": [
          7.8534017,
          9.188535,
          9.35528,
          7.4408073
         ],
         "xaxis": "x",
         "y": [
          4.949119,
          4.2207885,
          5.778209,
          4.0322647
         ],
         "yaxis": "y"
        },
        {
         "hovertemplate": "inducer1_plus_concentration_plus_inhibitor=LPS_1 µg/ml_Disulfiram<br>umap_1=%{x}<br>umap_2=%{y}<extra></extra>",
         "legendgroup": "LPS_1 µg/ml_Disulfiram",
         "marker": {
          "color": "#ab63fa",
          "size": 12,
          "symbol": "circle"
         },
         "mode": "markers",
         "name": "LPS_1 µg/ml_Disulfiram",
         "orientation": "v",
         "showlegend": true,
         "type": "scatter",
         "x": [
          8.862622,
          9.598662,
          7.866392,
          8.605867
         ],
         "xaxis": "x",
         "y": [
          -4.2525935,
          -3.192434,
          -3.0502522,
          -3.3203738
         ],
         "yaxis": "y"
        },
        {
         "hovertemplate": "inducer1_plus_concentration_plus_inhibitor=LPS_10 µg/ml_Disulfiram<br>umap_1=%{x}<br>umap_2=%{y}<extra></extra>",
         "legendgroup": "LPS_10 µg/ml_Disulfiram",
         "marker": {
          "color": "#FFA15A",
          "size": 12,
          "symbol": "circle"
         },
         "mode": "markers",
         "name": "LPS_10 µg/ml_Disulfiram",
         "orientation": "v",
         "showlegend": true,
         "type": "scatter",
         "x": [
          4.370918,
          4.7524576,
          4.6002946,
          5.541343,
          4.8483477,
          4.048826,
          6.239959,
          5.1830683,
          4.973897,
          5.6771584,
          5.6127443,
          5.327235
         ],
         "xaxis": "x",
         "y": [
          0.4679684,
          -2.4865482,
          -0.75440526,
          -0.9273446,
          -3.2262268,
          -1.5909488,
          -0.64815164,
          -3.936502,
          -3.5638916,
          -0.63657475,
          -3.0614626,
          -3.2142794
         ],
         "yaxis": "y"
        },
        {
         "hovertemplate": "inducer1_plus_concentration_plus_inhibitor=LPS_1 µg/ml_Z-VAD-FMK<br>umap_1=%{x}<br>umap_2=%{y}<extra></extra>",
         "legendgroup": "LPS_1 µg/ml_Z-VAD-FMK",
         "marker": {
          "color": "#19d3f3",
          "size": 12,
          "symbol": "circle"
         },
         "mode": "markers",
         "name": "LPS_1 µg/ml_Z-VAD-FMK",
         "orientation": "v",
         "showlegend": true,
         "type": "scatter",
         "x": [
          10.800692,
          10.509076,
          11.268544,
          11.191013
         ],
         "xaxis": "x",
         "y": [
          -1.3471427,
          -1.7903415,
          -2.2320423,
          -1.9342276
         ],
         "yaxis": "y"
        },
        {
         "hovertemplate": "inducer1_plus_concentration_plus_inhibitor=LPS_10 µg/ml_Z-VAD-FMK<br>umap_1=%{x}<br>umap_2=%{y}<extra></extra>",
         "legendgroup": "LPS_10 µg/ml_Z-VAD-FMK",
         "marker": {
          "color": "#FF6692",
          "size": 12,
          "symbol": "circle"
         },
         "mode": "markers",
         "name": "LPS_10 µg/ml_Z-VAD-FMK",
         "orientation": "v",
         "showlegend": true,
         "type": "scatter",
         "x": [
          10.491386,
          10.349841,
          11.139314,
          10.835458
         ],
         "xaxis": "x",
         "y": [
          -0.6335099,
          2.173302,
          1.0733249,
          1.7847017
         ],
         "yaxis": "y"
        },
        {
         "hovertemplate": "inducer1_plus_concentration_plus_inhibitor=Thapsigargin_1 µM_DMSO<br>umap_1=%{x}<br>umap_2=%{y}<extra></extra>",
         "legendgroup": "Thapsigargin_1 µM_DMSO",
         "marker": {
          "color": "#B6E880",
          "size": 12,
          "symbol": "circle"
         },
         "mode": "markers",
         "name": "Thapsigargin_1 µM_DMSO",
         "orientation": "v",
         "showlegend": true,
         "type": "scatter",
         "x": [
          8.254289,
          8.501779,
          5.3462496,
          9.836522
         ],
         "xaxis": "x",
         "y": [
          2.2095194,
          3.09606,
          5.8435035,
          4.8433604
         ],
         "yaxis": "y"
        },
        {
         "hovertemplate": "inducer1_plus_concentration_plus_inhibitor=Thapsigargin_10 µM_DMSO<br>umap_1=%{x}<br>umap_2=%{y}<extra></extra>",
         "legendgroup": "Thapsigargin_10 µM_DMSO",
         "marker": {
          "color": "#FF97FF",
          "size": 12,
          "symbol": "circle"
         },
         "mode": "markers",
         "name": "Thapsigargin_10 µM_DMSO",
         "orientation": "v",
         "showlegend": true,
         "type": "scatter",
         "x": [
          6.804516,
          6.1715865,
          5.650725,
          6.3395214
         ],
         "xaxis": "x",
         "y": [
          2.8159926,
          2.6167958,
          2.2158628,
          2.182606
         ],
         "yaxis": "y"
        },
        {
         "hovertemplate": "inducer1_plus_concentration_plus_inhibitor=Topotecan_10 nM_DMSO<br>umap_1=%{x}<br>umap_2=%{y}<extra></extra>",
         "legendgroup": "Topotecan_10 nM_DMSO",
         "marker": {
          "color": "#FECB52",
          "size": 12,
          "symbol": "circle"
         },
         "mode": "markers",
         "name": "Topotecan_10 nM_DMSO",
         "orientation": "v",
         "showlegend": true,
         "type": "scatter",
         "x": [
          5.9582033,
          7.658917,
          9.4227085,
          5.643482
         ],
         "xaxis": "x",
         "y": [
          6.295394,
          1.7489454,
          6.9537773,
          4.413434
         ],
         "yaxis": "y"
        },
        {
         "hovertemplate": "inducer1_plus_concentration_plus_inhibitor=Topotecan_20 nM_DMSO<br>umap_1=%{x}<br>umap_2=%{y}<extra></extra>",
         "legendgroup": "Topotecan_20 nM_DMSO",
         "marker": {
          "color": "#636efa",
          "size": 12,
          "symbol": "circle"
         },
         "mode": "markers",
         "name": "Topotecan_20 nM_DMSO",
         "orientation": "v",
         "showlegend": true,
         "type": "scatter",
         "x": [
          6.0456724,
          5.4753976,
          6.9016867,
          10.027936
         ],
         "xaxis": "x",
         "y": [
          5.3959394,
          5.042902,
          4.854067,
          6.797659
         ],
         "yaxis": "y"
        },
        {
         "hovertemplate": "inducer1_plus_concentration_plus_inhibitor=Topotecan_5 nM_DMSO<br>umap_1=%{x}<br>umap_2=%{y}<extra></extra>",
         "legendgroup": "Topotecan_5 nM_DMSO",
         "marker": {
          "color": "#EF553B",
          "size": 12,
          "symbol": "circle"
         },
         "mode": "markers",
         "name": "Topotecan_5 nM_DMSO",
         "orientation": "v",
         "showlegend": true,
         "type": "scatter",
         "x": [
          8.40905,
          6.7830315,
          7.8901477,
          8.696026
         ],
         "xaxis": "x",
         "y": [
          3.292791,
          6.234093,
          4.0909505,
          6.994813
         ],
         "yaxis": "y"
        },
        {
         "hovertemplate": "inducer1_plus_concentration_plus_inhibitor=H2O2_100 nM_DMSO<br>umap_1=%{x}<br>umap_2=%{y}<extra></extra>",
         "legendgroup": "H2O2_100 nM_DMSO",
         "marker": {
          "color": "#00cc96",
          "size": 12,
          "symbol": "circle"
         },
         "mode": "markers",
         "name": "H2O2_100 nM_DMSO",
         "orientation": "v",
         "showlegend": true,
         "type": "scatter",
         "x": [
          5.198267,
          8.090131,
          7.4724503,
          6.7871222
         ],
         "xaxis": "x",
         "y": [
          4.6485023,
          6.80865,
          7.4661136,
          4.4841146
         ],
         "yaxis": "y"
        },
        {
         "hovertemplate": "inducer1_plus_concentration_plus_inhibitor=H2O2_100 µM_DMSO<br>umap_1=%{x}<br>umap_2=%{y}<extra></extra>",
         "legendgroup": "H2O2_100 µM_DMSO",
         "marker": {
          "color": "#ab63fa",
          "size": 12,
          "symbol": "circle"
         },
         "mode": "markers",
         "name": "H2O2_100 µM_DMSO",
         "orientation": "v",
         "showlegend": true,
         "type": "scatter",
         "x": [
          7.6164093,
          8.029554,
          6.133283,
          8.538965
         ],
         "xaxis": "x",
         "y": [
          3.1530485,
          5.8206277,
          6.6476426,
          5.795464
         ],
         "yaxis": "y"
        },
        {
         "hovertemplate": "inducer1_plus_concentration_plus_inhibitor=H2O2_100 µM_Disulfiram<br>umap_1=%{x}<br>umap_2=%{y}<extra></extra>",
         "legendgroup": "H2O2_100 µM_Disulfiram",
         "marker": {
          "color": "#FFA15A",
          "size": 12,
          "symbol": "circle"
         },
         "mode": "markers",
         "name": "H2O2_100 µM_Disulfiram",
         "orientation": "v",
         "showlegend": true,
         "type": "scatter",
         "x": [
          7.093384,
          7.331786,
          9.229974,
          7.2391133
         ],
         "xaxis": "x",
         "y": [
          3.5015206,
          6.5724044,
          3.5755537,
          5.1845765
         ],
         "yaxis": "y"
        },
        {
         "hovertemplate": "inducer1_plus_concentration_plus_inhibitor=H2O2_100 µM_Z-VAD-FMK<br>umap_1=%{x}<br>umap_2=%{y}<extra></extra>",
         "legendgroup": "H2O2_100 µM_Z-VAD-FMK",
         "marker": {
          "color": "#19d3f3",
          "size": 12,
          "symbol": "circle"
         },
         "mode": "markers",
         "name": "H2O2_100 µM_Z-VAD-FMK",
         "orientation": "v",
         "showlegend": true,
         "type": "scatter",
         "x": [
          9.857485,
          10.556327,
          9.416812,
          10.136884
         ],
         "xaxis": "x",
         "y": [
          -1.1734124,
          0.6931075,
          -2.3853514,
          0.9037002
         ],
         "yaxis": "y"
        }
       ],
       "layout": {
        "legend": {
         "title": {
          "text": "inducer1_plus_concentration_plus_inhibitor"
         },
         "tracegroupgap": 0
        },
        "template": {
         "data": {
          "bar": [
           {
            "error_x": {
             "color": "#2a3f5f"
            },
            "error_y": {
             "color": "#2a3f5f"
            },
            "marker": {
             "line": {
              "color": "#E5ECF6",
              "width": 0.5
             },
             "pattern": {
              "fillmode": "overlay",
              "size": 10,
              "solidity": 0.2
             }
            },
            "type": "bar"
           }
          ],
          "barpolar": [
           {
            "marker": {
             "line": {
              "color": "#E5ECF6",
              "width": 0.5
             },
             "pattern": {
              "fillmode": "overlay",
              "size": 10,
              "solidity": 0.2
             }
            },
            "type": "barpolar"
           }
          ],
          "carpet": [
           {
            "aaxis": {
             "endlinecolor": "#2a3f5f",
             "gridcolor": "white",
             "linecolor": "white",
             "minorgridcolor": "white",
             "startlinecolor": "#2a3f5f"
            },
            "baxis": {
             "endlinecolor": "#2a3f5f",
             "gridcolor": "white",
             "linecolor": "white",
             "minorgridcolor": "white",
             "startlinecolor": "#2a3f5f"
            },
            "type": "carpet"
           }
          ],
          "choropleth": [
           {
            "colorbar": {
             "outlinewidth": 0,
             "ticks": ""
            },
            "type": "choropleth"
           }
          ],
          "contour": [
           {
            "colorbar": {
             "outlinewidth": 0,
             "ticks": ""
            },
            "colorscale": [
             [
              0,
              "#0d0887"
             ],
             [
              0.1111111111111111,
              "#46039f"
             ],
             [
              0.2222222222222222,
              "#7201a8"
             ],
             [
              0.3333333333333333,
              "#9c179e"
             ],
             [
              0.4444444444444444,
              "#bd3786"
             ],
             [
              0.5555555555555556,
              "#d8576b"
             ],
             [
              0.6666666666666666,
              "#ed7953"
             ],
             [
              0.7777777777777778,
              "#fb9f3a"
             ],
             [
              0.8888888888888888,
              "#fdca26"
             ],
             [
              1,
              "#f0f921"
             ]
            ],
            "type": "contour"
           }
          ],
          "contourcarpet": [
           {
            "colorbar": {
             "outlinewidth": 0,
             "ticks": ""
            },
            "type": "contourcarpet"
           }
          ],
          "heatmap": [
           {
            "colorbar": {
             "outlinewidth": 0,
             "ticks": ""
            },
            "colorscale": [
             [
              0,
              "#0d0887"
             ],
             [
              0.1111111111111111,
              "#46039f"
             ],
             [
              0.2222222222222222,
              "#7201a8"
             ],
             [
              0.3333333333333333,
              "#9c179e"
             ],
             [
              0.4444444444444444,
              "#bd3786"
             ],
             [
              0.5555555555555556,
              "#d8576b"
             ],
             [
              0.6666666666666666,
              "#ed7953"
             ],
             [
              0.7777777777777778,
              "#fb9f3a"
             ],
             [
              0.8888888888888888,
              "#fdca26"
             ],
             [
              1,
              "#f0f921"
             ]
            ],
            "type": "heatmap"
           }
          ],
          "heatmapgl": [
           {
            "colorbar": {
             "outlinewidth": 0,
             "ticks": ""
            },
            "colorscale": [
             [
              0,
              "#0d0887"
             ],
             [
              0.1111111111111111,
              "#46039f"
             ],
             [
              0.2222222222222222,
              "#7201a8"
             ],
             [
              0.3333333333333333,
              "#9c179e"
             ],
             [
              0.4444444444444444,
              "#bd3786"
             ],
             [
              0.5555555555555556,
              "#d8576b"
             ],
             [
              0.6666666666666666,
              "#ed7953"
             ],
             [
              0.7777777777777778,
              "#fb9f3a"
             ],
             [
              0.8888888888888888,
              "#fdca26"
             ],
             [
              1,
              "#f0f921"
             ]
            ],
            "type": "heatmapgl"
           }
          ],
          "histogram": [
           {
            "marker": {
             "pattern": {
              "fillmode": "overlay",
              "size": 10,
              "solidity": 0.2
             }
            },
            "type": "histogram"
           }
          ],
          "histogram2d": [
           {
            "colorbar": {
             "outlinewidth": 0,
             "ticks": ""
            },
            "colorscale": [
             [
              0,
              "#0d0887"
             ],
             [
              0.1111111111111111,
              "#46039f"
             ],
             [
              0.2222222222222222,
              "#7201a8"
             ],
             [
              0.3333333333333333,
              "#9c179e"
             ],
             [
              0.4444444444444444,
              "#bd3786"
             ],
             [
              0.5555555555555556,
              "#d8576b"
             ],
             [
              0.6666666666666666,
              "#ed7953"
             ],
             [
              0.7777777777777778,
              "#fb9f3a"
             ],
             [
              0.8888888888888888,
              "#fdca26"
             ],
             [
              1,
              "#f0f921"
             ]
            ],
            "type": "histogram2d"
           }
          ],
          "histogram2dcontour": [
           {
            "colorbar": {
             "outlinewidth": 0,
             "ticks": ""
            },
            "colorscale": [
             [
              0,
              "#0d0887"
             ],
             [
              0.1111111111111111,
              "#46039f"
             ],
             [
              0.2222222222222222,
              "#7201a8"
             ],
             [
              0.3333333333333333,
              "#9c179e"
             ],
             [
              0.4444444444444444,
              "#bd3786"
             ],
             [
              0.5555555555555556,
              "#d8576b"
             ],
             [
              0.6666666666666666,
              "#ed7953"
             ],
             [
              0.7777777777777778,
              "#fb9f3a"
             ],
             [
              0.8888888888888888,
              "#fdca26"
             ],
             [
              1,
              "#f0f921"
             ]
            ],
            "type": "histogram2dcontour"
           }
          ],
          "mesh3d": [
           {
            "colorbar": {
             "outlinewidth": 0,
             "ticks": ""
            },
            "type": "mesh3d"
           }
          ],
          "parcoords": [
           {
            "line": {
             "colorbar": {
              "outlinewidth": 0,
              "ticks": ""
             }
            },
            "type": "parcoords"
           }
          ],
          "pie": [
           {
            "automargin": true,
            "type": "pie"
           }
          ],
          "scatter": [
           {
            "fillpattern": {
             "fillmode": "overlay",
             "size": 10,
             "solidity": 0.2
            },
            "type": "scatter"
           }
          ],
          "scatter3d": [
           {
            "line": {
             "colorbar": {
              "outlinewidth": 0,
              "ticks": ""
             }
            },
            "marker": {
             "colorbar": {
              "outlinewidth": 0,
              "ticks": ""
             }
            },
            "type": "scatter3d"
           }
          ],
          "scattercarpet": [
           {
            "marker": {
             "colorbar": {
              "outlinewidth": 0,
              "ticks": ""
             }
            },
            "type": "scattercarpet"
           }
          ],
          "scattergeo": [
           {
            "marker": {
             "colorbar": {
              "outlinewidth": 0,
              "ticks": ""
             }
            },
            "type": "scattergeo"
           }
          ],
          "scattergl": [
           {
            "marker": {
             "colorbar": {
              "outlinewidth": 0,
              "ticks": ""
             }
            },
            "type": "scattergl"
           }
          ],
          "scattermapbox": [
           {
            "marker": {
             "colorbar": {
              "outlinewidth": 0,
              "ticks": ""
             }
            },
            "type": "scattermapbox"
           }
          ],
          "scatterpolar": [
           {
            "marker": {
             "colorbar": {
              "outlinewidth": 0,
              "ticks": ""
             }
            },
            "type": "scatterpolar"
           }
          ],
          "scatterpolargl": [
           {
            "marker": {
             "colorbar": {
              "outlinewidth": 0,
              "ticks": ""
             }
            },
            "type": "scatterpolargl"
           }
          ],
          "scatterternary": [
           {
            "marker": {
             "colorbar": {
              "outlinewidth": 0,
              "ticks": ""
             }
            },
            "type": "scatterternary"
           }
          ],
          "surface": [
           {
            "colorbar": {
             "outlinewidth": 0,
             "ticks": ""
            },
            "colorscale": [
             [
              0,
              "#0d0887"
             ],
             [
              0.1111111111111111,
              "#46039f"
             ],
             [
              0.2222222222222222,
              "#7201a8"
             ],
             [
              0.3333333333333333,
              "#9c179e"
             ],
             [
              0.4444444444444444,
              "#bd3786"
             ],
             [
              0.5555555555555556,
              "#d8576b"
             ],
             [
              0.6666666666666666,
              "#ed7953"
             ],
             [
              0.7777777777777778,
              "#fb9f3a"
             ],
             [
              0.8888888888888888,
              "#fdca26"
             ],
             [
              1,
              "#f0f921"
             ]
            ],
            "type": "surface"
           }
          ],
          "table": [
           {
            "cells": {
             "fill": {
              "color": "#EBF0F8"
             },
             "line": {
              "color": "white"
             }
            },
            "header": {
             "fill": {
              "color": "#C8D4E3"
             },
             "line": {
              "color": "white"
             }
            },
            "type": "table"
           }
          ]
         },
         "layout": {
          "annotationdefaults": {
           "arrowcolor": "#2a3f5f",
           "arrowhead": 0,
           "arrowwidth": 1
          },
          "autotypenumbers": "strict",
          "coloraxis": {
           "colorbar": {
            "outlinewidth": 0,
            "ticks": ""
           }
          },
          "colorscale": {
           "diverging": [
            [
             0,
             "#8e0152"
            ],
            [
             0.1,
             "#c51b7d"
            ],
            [
             0.2,
             "#de77ae"
            ],
            [
             0.3,
             "#f1b6da"
            ],
            [
             0.4,
             "#fde0ef"
            ],
            [
             0.5,
             "#f7f7f7"
            ],
            [
             0.6,
             "#e6f5d0"
            ],
            [
             0.7,
             "#b8e186"
            ],
            [
             0.8,
             "#7fbc41"
            ],
            [
             0.9,
             "#4d9221"
            ],
            [
             1,
             "#276419"
            ]
           ],
           "sequential": [
            [
             0,
             "#0d0887"
            ],
            [
             0.1111111111111111,
             "#46039f"
            ],
            [
             0.2222222222222222,
             "#7201a8"
            ],
            [
             0.3333333333333333,
             "#9c179e"
            ],
            [
             0.4444444444444444,
             "#bd3786"
            ],
            [
             0.5555555555555556,
             "#d8576b"
            ],
            [
             0.6666666666666666,
             "#ed7953"
            ],
            [
             0.7777777777777778,
             "#fb9f3a"
            ],
            [
             0.8888888888888888,
             "#fdca26"
            ],
            [
             1,
             "#f0f921"
            ]
           ],
           "sequentialminus": [
            [
             0,
             "#0d0887"
            ],
            [
             0.1111111111111111,
             "#46039f"
            ],
            [
             0.2222222222222222,
             "#7201a8"
            ],
            [
             0.3333333333333333,
             "#9c179e"
            ],
            [
             0.4444444444444444,
             "#bd3786"
            ],
            [
             0.5555555555555556,
             "#d8576b"
            ],
            [
             0.6666666666666666,
             "#ed7953"
            ],
            [
             0.7777777777777778,
             "#fb9f3a"
            ],
            [
             0.8888888888888888,
             "#fdca26"
            ],
            [
             1,
             "#f0f921"
            ]
           ]
          },
          "colorway": [
           "#636efa",
           "#EF553B",
           "#00cc96",
           "#ab63fa",
           "#FFA15A",
           "#19d3f3",
           "#FF6692",
           "#B6E880",
           "#FF97FF",
           "#FECB52"
          ],
          "font": {
           "color": "#2a3f5f"
          },
          "geo": {
           "bgcolor": "white",
           "lakecolor": "white",
           "landcolor": "#E5ECF6",
           "showlakes": true,
           "showland": true,
           "subunitcolor": "white"
          },
          "hoverlabel": {
           "align": "left"
          },
          "hovermode": "closest",
          "mapbox": {
           "style": "light"
          },
          "paper_bgcolor": "white",
          "plot_bgcolor": "#E5ECF6",
          "polar": {
           "angularaxis": {
            "gridcolor": "white",
            "linecolor": "white",
            "ticks": ""
           },
           "bgcolor": "#E5ECF6",
           "radialaxis": {
            "gridcolor": "white",
            "linecolor": "white",
            "ticks": ""
           }
          },
          "scene": {
           "xaxis": {
            "backgroundcolor": "#E5ECF6",
            "gridcolor": "white",
            "gridwidth": 2,
            "linecolor": "white",
            "showbackground": true,
            "ticks": "",
            "zerolinecolor": "white"
           },
           "yaxis": {
            "backgroundcolor": "#E5ECF6",
            "gridcolor": "white",
            "gridwidth": 2,
            "linecolor": "white",
            "showbackground": true,
            "ticks": "",
            "zerolinecolor": "white"
           },
           "zaxis": {
            "backgroundcolor": "#E5ECF6",
            "gridcolor": "white",
            "gridwidth": 2,
            "linecolor": "white",
            "showbackground": true,
            "ticks": "",
            "zerolinecolor": "white"
           }
          },
          "shapedefaults": {
           "line": {
            "color": "#2a3f5f"
           }
          },
          "ternary": {
           "aaxis": {
            "gridcolor": "white",
            "linecolor": "white",
            "ticks": ""
           },
           "baxis": {
            "gridcolor": "white",
            "linecolor": "white",
            "ticks": ""
           },
           "bgcolor": "#E5ECF6",
           "caxis": {
            "gridcolor": "white",
            "linecolor": "white",
            "ticks": ""
           }
          },
          "title": {
           "x": 0.05
          },
          "xaxis": {
           "automargin": true,
           "gridcolor": "white",
           "linecolor": "white",
           "ticks": "",
           "title": {
            "standoff": 15
           },
           "zerolinecolor": "white",
           "zerolinewidth": 2
          },
          "yaxis": {
           "automargin": true,
           "gridcolor": "white",
           "linecolor": "white",
           "ticks": "",
           "title": {
            "standoff": 15
           },
           "zerolinecolor": "white",
           "zerolinewidth": 2
          }
         }
        },
        "title": {
         "text": "Umap projection of nELISA data colored by inducer1 plus concentration plus inhibitor"
        },
        "xaxis": {
         "anchor": "y",
         "domain": [
          0,
          1
         ],
         "title": {
          "text": "UMAP_1"
         }
        },
        "yaxis": {
         "anchor": "x",
         "domain": [
          0,
          1
         ],
         "title": {
          "text": "UMAP_2"
         }
        }
       }
      }
     },
     "metadata": {},
     "output_type": "display_data"
    }
   ],
   "source": [
    "nELISA_plate_430420 = nELISA_plate_430420[\n",
    "    nELISA_plate_430420.columns.drop(list(nELISA_plate_430420.filter(regex=\"pgML\")))\n",
    "]\n",
    "\n",
    "col_list = [\n",
    "    \"cell_type\",\n",
    "    \"inducer1\",\n",
    "    \"inhibitor\",\n",
    "    \"Manual_Cluster\",\n",
    "    \"Function\",\n",
    "    \"inducer1_plus_concentration\",\n",
    "    \"inducer1_plus_inhibitor\",\n",
    "    \"inducer1_plus_concentration_plus_inhibitor\",\n",
    "]\n",
    "\n",
    "for col in col_list:\n",
    "    umap_graph(\n",
    "        df=nELISA_plate_430420,\n",
    "        color=f\"{col}\",\n",
    "        save_name=f\"./figures/nELISA_Normalized_UMAP_{col}\",\n",
    "        title=f\"Umap projection of nELISA data colored by {col.replace('_', ' ')}\",\n",
    "    )"
   ]
  }
 ],
 "metadata": {
  "kernelspec": {
   "display_name": "Interstellar",
   "language": "python",
   "name": "python3"
  },
  "language_info": {
   "codemirror_mode": {
    "name": "ipython",
    "version": 3
   },
   "file_extension": ".py",
   "mimetype": "text/x-python",
   "name": "python",
   "nbconvert_exporter": "python",
   "pygments_lexer": "ipython3",
   "version": "3.10.10"
  },
  "orig_nbformat": 4,
  "vscode": {
   "interpreter": {
    "hash": "72ae02083a9ca7d143c492d1aec380c7bf553ec51bd66e90e72bba65228121b6"
   }
  }
 },
 "nbformat": 4,
 "nbformat_minor": 2
}
