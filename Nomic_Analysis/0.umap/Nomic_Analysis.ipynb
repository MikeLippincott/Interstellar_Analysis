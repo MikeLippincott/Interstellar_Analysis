{
 "cells": [
  {
   "cell_type": "code",
   "execution_count": 1,
   "metadata": {},
   "outputs": [],
   "source": [
    "import pandas as pd\n",
    "import numpy as np\n",
    "import matplotlib.pyplot as plt\n",
    "import seaborn as sns\n",
    "import pathlib\n",
    "import plotly\n",
    "import plotly_express as px\n",
    "import plotly.graph_objs as go\n",
    "import iplot\n",
    "from plotly.offline import download_plotlyjs, init_notebook_mode, plot, iplot\n",
    "import umap\n",
    "from sklearn import preprocessing"
   ]
  },
  {
   "cell_type": "code",
   "execution_count": 2,
   "metadata": {},
   "outputs": [],
   "source": [
    "nELISA_data_input_path = pathlib.Path(\"../Data/clean/nELISA_Data_UCA1_2023.04.11.csv\")\n",
    "MetaData_input_path = pathlib.Path(\"../Data/clean/Metadata_UCA1_2023.04.11.csv\")\n",
    "\n",
    "nELISA_data_all = pd.read_csv(nELISA_data_input_path)\n",
    "MetaData = pd.read_csv(MetaData_input_path)"
   ]
  },
  {
   "cell_type": "code",
   "execution_count": 3,
   "metadata": {},
   "outputs": [
    {
     "name": "stdout",
     "output_type": "stream",
     "text": [
      "(689, 187)\n"
     ]
    },
    {
     "data": {
      "text/html": [
       "<div>\n",
       "<style scoped>\n",
       "    .dataframe tbody tr th:only-of-type {\n",
       "        vertical-align: middle;\n",
       "    }\n",
       "\n",
       "    .dataframe tbody tr th {\n",
       "        vertical-align: top;\n",
       "    }\n",
       "\n",
       "    .dataframe thead th {\n",
       "        text-align: right;\n",
       "    }\n",
       "</style>\n",
       "<table border=\"1\" class=\"dataframe\">\n",
       "  <thead>\n",
       "    <tr style=\"text-align: right;\">\n",
       "      <th></th>\n",
       "      <th>Activin A [NSU]</th>\n",
       "      <th>AITRL (GITR Ligand) [NSU]</th>\n",
       "      <th>Amphiregulin [NSU]</th>\n",
       "      <th>Amyloid beta [NSU]</th>\n",
       "      <th>APRIL [NSU]</th>\n",
       "      <th>BAFF [NSU]</th>\n",
       "      <th>BCMA (TNFRSF17) [NSU]</th>\n",
       "      <th>BDNF [NSU]</th>\n",
       "      <th>BMP2 [NSU]</th>\n",
       "      <th>BMP3 [NSU]</th>\n",
       "      <th>...</th>\n",
       "      <th>TWEAK [NSU]</th>\n",
       "      <th>uPA [NSU]</th>\n",
       "      <th>VCAM-1 [NSU]</th>\n",
       "      <th>VEGF Receptor 2 (Flk-1) [NSU]</th>\n",
       "      <th>VEGF-A (165) [NSU]</th>\n",
       "      <th>VEGF-C [NSU]</th>\n",
       "      <th>VEGF-D [NSU]</th>\n",
       "      <th>VEGFR-1 [NSU]</th>\n",
       "      <th>WISP-1 (CCN4) [NSU]</th>\n",
       "      <th>XCL1 (Lymphotactin) [NSU]</th>\n",
       "    </tr>\n",
       "  </thead>\n",
       "  <tbody>\n",
       "    <tr>\n",
       "      <th>0</th>\n",
       "      <td>26.491764</td>\n",
       "      <td>-1.073383</td>\n",
       "      <td>25.817862</td>\n",
       "      <td>-2.435479</td>\n",
       "      <td>-2.556473</td>\n",
       "      <td>-1.259130</td>\n",
       "      <td>-0.043782</td>\n",
       "      <td>-0.661045</td>\n",
       "      <td>-1.508780</td>\n",
       "      <td>-2.046371</td>\n",
       "      <td>...</td>\n",
       "      <td>-0.728423</td>\n",
       "      <td>-0.681505</td>\n",
       "      <td>0.124148</td>\n",
       "      <td>2.617804</td>\n",
       "      <td>-2.210675</td>\n",
       "      <td>-1.433347</td>\n",
       "      <td>1.077095</td>\n",
       "      <td>5.713861</td>\n",
       "      <td>0.055628</td>\n",
       "      <td>-0.889479</td>\n",
       "    </tr>\n",
       "    <tr>\n",
       "      <th>1</th>\n",
       "      <td>24.943616</td>\n",
       "      <td>0.718127</td>\n",
       "      <td>26.598410</td>\n",
       "      <td>0.926190</td>\n",
       "      <td>-3.238686</td>\n",
       "      <td>-0.387113</td>\n",
       "      <td>3.650604</td>\n",
       "      <td>-0.227975</td>\n",
       "      <td>0.450686</td>\n",
       "      <td>0.104226</td>\n",
       "      <td>...</td>\n",
       "      <td>-1.296642</td>\n",
       "      <td>-1.387073</td>\n",
       "      <td>-0.140898</td>\n",
       "      <td>-1.198079</td>\n",
       "      <td>-0.128332</td>\n",
       "      <td>-1.550067</td>\n",
       "      <td>-2.169066</td>\n",
       "      <td>6.024132</td>\n",
       "      <td>0.340468</td>\n",
       "      <td>-0.844918</td>\n",
       "    </tr>\n",
       "    <tr>\n",
       "      <th>2</th>\n",
       "      <td>1.555501</td>\n",
       "      <td>0.268977</td>\n",
       "      <td>27.596171</td>\n",
       "      <td>-2.300495</td>\n",
       "      <td>-3.045141</td>\n",
       "      <td>-1.129626</td>\n",
       "      <td>2.458642</td>\n",
       "      <td>0.278998</td>\n",
       "      <td>0.062647</td>\n",
       "      <td>-1.156700</td>\n",
       "      <td>...</td>\n",
       "      <td>-0.746483</td>\n",
       "      <td>0.115185</td>\n",
       "      <td>-0.002896</td>\n",
       "      <td>-1.473596</td>\n",
       "      <td>0.235711</td>\n",
       "      <td>-1.449242</td>\n",
       "      <td>1.852248</td>\n",
       "      <td>-0.168032</td>\n",
       "      <td>0.961319</td>\n",
       "      <td>-0.363984</td>\n",
       "    </tr>\n",
       "    <tr>\n",
       "      <th>3</th>\n",
       "      <td>-0.929140</td>\n",
       "      <td>0.076314</td>\n",
       "      <td>26.313207</td>\n",
       "      <td>0.253148</td>\n",
       "      <td>-6.751763</td>\n",
       "      <td>-0.539164</td>\n",
       "      <td>-1.718383</td>\n",
       "      <td>1.443255</td>\n",
       "      <td>-0.341732</td>\n",
       "      <td>-0.719875</td>\n",
       "      <td>...</td>\n",
       "      <td>-2.232221</td>\n",
       "      <td>-1.126181</td>\n",
       "      <td>1.062176</td>\n",
       "      <td>1.542644</td>\n",
       "      <td>0.269262</td>\n",
       "      <td>-2.311105</td>\n",
       "      <td>2.088687</td>\n",
       "      <td>-0.306334</td>\n",
       "      <td>0.562805</td>\n",
       "      <td>-0.155359</td>\n",
       "    </tr>\n",
       "    <tr>\n",
       "      <th>4</th>\n",
       "      <td>0.398325</td>\n",
       "      <td>-0.130139</td>\n",
       "      <td>8.797693</td>\n",
       "      <td>-0.445542</td>\n",
       "      <td>0.371358</td>\n",
       "      <td>-0.462473</td>\n",
       "      <td>1.422635</td>\n",
       "      <td>-1.915471</td>\n",
       "      <td>-0.748352</td>\n",
       "      <td>-1.583011</td>\n",
       "      <td>...</td>\n",
       "      <td>-1.065390</td>\n",
       "      <td>-0.314291</td>\n",
       "      <td>0.171604</td>\n",
       "      <td>-0.137741</td>\n",
       "      <td>0.373863</td>\n",
       "      <td>-1.042447</td>\n",
       "      <td>-1.016304</td>\n",
       "      <td>-0.289143</td>\n",
       "      <td>0.373108</td>\n",
       "      <td>-0.804121</td>\n",
       "    </tr>\n",
       "  </tbody>\n",
       "</table>\n",
       "<p>5 rows × 187 columns</p>\n",
       "</div>"
      ],
      "text/plain": [
       "   Activin A [NSU]  AITRL (GITR Ligand) [NSU]  Amphiregulin [NSU]   \n",
       "0        26.491764                  -1.073383           25.817862  \\\n",
       "1        24.943616                   0.718127           26.598410   \n",
       "2         1.555501                   0.268977           27.596171   \n",
       "3        -0.929140                   0.076314           26.313207   \n",
       "4         0.398325                  -0.130139            8.797693   \n",
       "\n",
       "   Amyloid beta [NSU]  APRIL [NSU]  BAFF [NSU]  BCMA (TNFRSF17) [NSU]   \n",
       "0           -2.435479    -2.556473   -1.259130              -0.043782  \\\n",
       "1            0.926190    -3.238686   -0.387113               3.650604   \n",
       "2           -2.300495    -3.045141   -1.129626               2.458642   \n",
       "3            0.253148    -6.751763   -0.539164              -1.718383   \n",
       "4           -0.445542     0.371358   -0.462473               1.422635   \n",
       "\n",
       "   BDNF [NSU]  BMP2 [NSU]  BMP3 [NSU]  ...  TWEAK [NSU]  uPA [NSU]   \n",
       "0   -0.661045   -1.508780   -2.046371  ...    -0.728423  -0.681505  \\\n",
       "1   -0.227975    0.450686    0.104226  ...    -1.296642  -1.387073   \n",
       "2    0.278998    0.062647   -1.156700  ...    -0.746483   0.115185   \n",
       "3    1.443255   -0.341732   -0.719875  ...    -2.232221  -1.126181   \n",
       "4   -1.915471   -0.748352   -1.583011  ...    -1.065390  -0.314291   \n",
       "\n",
       "   VCAM-1 [NSU]  VEGF Receptor 2 (Flk-1) [NSU]  VEGF-A (165) [NSU]   \n",
       "0      0.124148                       2.617804           -2.210675  \\\n",
       "1     -0.140898                      -1.198079           -0.128332   \n",
       "2     -0.002896                      -1.473596            0.235711   \n",
       "3      1.062176                       1.542644            0.269262   \n",
       "4      0.171604                      -0.137741            0.373863   \n",
       "\n",
       "   VEGF-C [NSU]  VEGF-D [NSU]  VEGFR-1 [NSU]  WISP-1 (CCN4) [NSU]   \n",
       "0     -1.433347      1.077095       5.713861             0.055628  \\\n",
       "1     -1.550067     -2.169066       6.024132             0.340468   \n",
       "2     -1.449242      1.852248      -0.168032             0.961319   \n",
       "3     -2.311105      2.088687      -0.306334             0.562805   \n",
       "4     -1.042447     -1.016304      -0.289143             0.373108   \n",
       "\n",
       "   XCL1 (Lymphotactin) [NSU]  \n",
       "0                  -0.889479  \n",
       "1                  -0.844918  \n",
       "2                  -0.363984  \n",
       "3                  -0.155359  \n",
       "4                  -0.804121  \n",
       "\n",
       "[5 rows x 187 columns]"
      ]
     },
     "execution_count": 3,
     "metadata": {},
     "output_type": "execute_result"
    }
   ],
   "source": [
    "# nELISA_data = pd.merge(MetaData, nELISA_data_all, left_on='plate_position',right_on='plate_position', how='inner')\n",
    "nELISA_data = pd.merge(MetaData, nELISA_data_all, on=\"plate_position\", how=\"right\")\n",
    "nELISA_data_values = nELISA_data.filter(like=\"NSU\", axis=1)\n",
    "nELISA_data_values = nELISA_data_values.astype(\"float\")\n",
    "print(nELISA_data_values.shape)\n",
    "# pd.merge(MetaData, nELISA_data_all, on='plate_position',how='left').shape\n",
    "nELISA_data_values.head()"
   ]
  },
  {
   "cell_type": "code",
   "execution_count": 4,
   "metadata": {},
   "outputs": [
    {
     "data": {
      "text/html": [
       "<div>\n",
       "<style scoped>\n",
       "    .dataframe tbody tr th:only-of-type {\n",
       "        vertical-align: middle;\n",
       "    }\n",
       "\n",
       "    .dataframe tbody tr th {\n",
       "        vertical-align: top;\n",
       "    }\n",
       "\n",
       "    .dataframe thead th {\n",
       "        text-align: right;\n",
       "    }\n",
       "</style>\n",
       "<table border=\"1\" class=\"dataframe\">\n",
       "  <thead>\n",
       "    <tr style=\"text-align: right;\">\n",
       "      <th></th>\n",
       "      <th>Activin A [NSU]</th>\n",
       "      <th>AITRL (GITR Ligand) [NSU]</th>\n",
       "      <th>Amphiregulin [NSU]</th>\n",
       "      <th>Amyloid beta [NSU]</th>\n",
       "      <th>APRIL [NSU]</th>\n",
       "      <th>BAFF [NSU]</th>\n",
       "      <th>BCMA (TNFRSF17) [NSU]</th>\n",
       "      <th>BDNF [NSU]</th>\n",
       "      <th>BMP2 [NSU]</th>\n",
       "      <th>BMP3 [NSU]</th>\n",
       "      <th>...</th>\n",
       "      <th>TWEAK [NSU]</th>\n",
       "      <th>uPA [NSU]</th>\n",
       "      <th>VCAM-1 [NSU]</th>\n",
       "      <th>VEGF Receptor 2 (Flk-1) [NSU]</th>\n",
       "      <th>VEGF-A (165) [NSU]</th>\n",
       "      <th>VEGF-C [NSU]</th>\n",
       "      <th>VEGF-D [NSU]</th>\n",
       "      <th>VEGFR-1 [NSU]</th>\n",
       "      <th>WISP-1 (CCN4) [NSU]</th>\n",
       "      <th>XCL1 (Lymphotactin) [NSU]</th>\n",
       "    </tr>\n",
       "  </thead>\n",
       "  <tbody>\n",
       "    <tr>\n",
       "      <th>0</th>\n",
       "      <td>0.780796</td>\n",
       "      <td>-0.402891</td>\n",
       "      <td>0.768750</td>\n",
       "      <td>-0.643275</td>\n",
       "      <td>-0.238687</td>\n",
       "      <td>-0.492554</td>\n",
       "      <td>-0.009443</td>\n",
       "      <td>-0.106441</td>\n",
       "      <td>-0.570024</td>\n",
       "      <td>-0.270803</td>\n",
       "      <td>...</td>\n",
       "      <td>-0.335835</td>\n",
       "      <td>-0.030973</td>\n",
       "      <td>0.041286</td>\n",
       "      <td>1.000000</td>\n",
       "      <td>-0.043905</td>\n",
       "      <td>-0.222372</td>\n",
       "      <td>0.237690</td>\n",
       "      <td>0.707199</td>\n",
       "      <td>0.016986</td>\n",
       "      <td>-0.218599</td>\n",
       "    </tr>\n",
       "    <tr>\n",
       "      <th>1</th>\n",
       "      <td>0.735167</td>\n",
       "      <td>0.269547</td>\n",
       "      <td>0.791992</td>\n",
       "      <td>0.244632</td>\n",
       "      <td>-0.302382</td>\n",
       "      <td>-0.151433</td>\n",
       "      <td>0.787377</td>\n",
       "      <td>-0.036708</td>\n",
       "      <td>0.170271</td>\n",
       "      <td>0.013793</td>\n",
       "      <td>...</td>\n",
       "      <td>-0.597809</td>\n",
       "      <td>-0.063039</td>\n",
       "      <td>-0.046856</td>\n",
       "      <td>-0.457665</td>\n",
       "      <td>-0.002549</td>\n",
       "      <td>-0.240480</td>\n",
       "      <td>-0.478662</td>\n",
       "      <td>0.745601</td>\n",
       "      <td>0.103959</td>\n",
       "      <td>-0.207648</td>\n",
       "    </tr>\n",
       "    <tr>\n",
       "      <th>2</th>\n",
       "      <td>0.045846</td>\n",
       "      <td>0.100960</td>\n",
       "      <td>0.821701</td>\n",
       "      <td>-0.607623</td>\n",
       "      <td>-0.284311</td>\n",
       "      <td>-0.441894</td>\n",
       "      <td>0.530290</td>\n",
       "      <td>0.044924</td>\n",
       "      <td>0.023668</td>\n",
       "      <td>-0.153070</td>\n",
       "      <td>...</td>\n",
       "      <td>-0.344162</td>\n",
       "      <td>0.005235</td>\n",
       "      <td>-0.000963</td>\n",
       "      <td>-0.562913</td>\n",
       "      <td>0.004681</td>\n",
       "      <td>-0.224838</td>\n",
       "      <td>0.408748</td>\n",
       "      <td>-0.020797</td>\n",
       "      <td>0.293530</td>\n",
       "      <td>-0.089453</td>\n",
       "    </tr>\n",
       "    <tr>\n",
       "      <th>3</th>\n",
       "      <td>-0.027385</td>\n",
       "      <td>0.028644</td>\n",
       "      <td>0.783499</td>\n",
       "      <td>0.066863</td>\n",
       "      <td>-0.630382</td>\n",
       "      <td>-0.210913</td>\n",
       "      <td>-0.370628</td>\n",
       "      <td>0.232392</td>\n",
       "      <td>-0.129108</td>\n",
       "      <td>-0.095263</td>\n",
       "      <td>...</td>\n",
       "      <td>-1.029153</td>\n",
       "      <td>-0.051182</td>\n",
       "      <td>0.353230</td>\n",
       "      <td>0.589289</td>\n",
       "      <td>0.005348</td>\n",
       "      <td>-0.358549</td>\n",
       "      <td>0.460924</td>\n",
       "      <td>-0.037915</td>\n",
       "      <td>0.171848</td>\n",
       "      <td>-0.038181</td>\n",
       "    </tr>\n",
       "    <tr>\n",
       "      <th>4</th>\n",
       "      <td>0.011740</td>\n",
       "      <td>-0.048847</td>\n",
       "      <td>0.261959</td>\n",
       "      <td>-0.117680</td>\n",
       "      <td>0.034672</td>\n",
       "      <td>-0.180913</td>\n",
       "      <td>0.306840</td>\n",
       "      <td>-0.308428</td>\n",
       "      <td>-0.282731</td>\n",
       "      <td>-0.209485</td>\n",
       "      <td>...</td>\n",
       "      <td>-0.491192</td>\n",
       "      <td>-0.014284</td>\n",
       "      <td>0.057068</td>\n",
       "      <td>-0.052617</td>\n",
       "      <td>0.007425</td>\n",
       "      <td>-0.161727</td>\n",
       "      <td>-0.224275</td>\n",
       "      <td>-0.035787</td>\n",
       "      <td>0.113925</td>\n",
       "      <td>-0.197622</td>\n",
       "    </tr>\n",
       "  </tbody>\n",
       "</table>\n",
       "<p>5 rows × 187 columns</p>\n",
       "</div>"
      ],
      "text/plain": [
       "   Activin A [NSU]  AITRL (GITR Ligand) [NSU]  Amphiregulin [NSU]   \n",
       "0         0.780796                  -0.402891            0.768750  \\\n",
       "1         0.735167                   0.269547            0.791992   \n",
       "2         0.045846                   0.100960            0.821701   \n",
       "3        -0.027385                   0.028644            0.783499   \n",
       "4         0.011740                  -0.048847            0.261959   \n",
       "\n",
       "   Amyloid beta [NSU]  APRIL [NSU]  BAFF [NSU]  BCMA (TNFRSF17) [NSU]   \n",
       "0           -0.643275    -0.238687   -0.492554              -0.009443  \\\n",
       "1            0.244632    -0.302382   -0.151433               0.787377   \n",
       "2           -0.607623    -0.284311   -0.441894               0.530290   \n",
       "3            0.066863    -0.630382   -0.210913              -0.370628   \n",
       "4           -0.117680     0.034672   -0.180913               0.306840   \n",
       "\n",
       "   BDNF [NSU]  BMP2 [NSU]  BMP3 [NSU]  ...  TWEAK [NSU]  uPA [NSU]   \n",
       "0   -0.106441   -0.570024   -0.270803  ...    -0.335835  -0.030973  \\\n",
       "1   -0.036708    0.170271    0.013793  ...    -0.597809  -0.063039   \n",
       "2    0.044924    0.023668   -0.153070  ...    -0.344162   0.005235   \n",
       "3    0.232392   -0.129108   -0.095263  ...    -1.029153  -0.051182   \n",
       "4   -0.308428   -0.282731   -0.209485  ...    -0.491192  -0.014284   \n",
       "\n",
       "   VCAM-1 [NSU]  VEGF Receptor 2 (Flk-1) [NSU]  VEGF-A (165) [NSU]   \n",
       "0      0.041286                       1.000000           -0.043905  \\\n",
       "1     -0.046856                      -0.457665           -0.002549   \n",
       "2     -0.000963                      -0.562913            0.004681   \n",
       "3      0.353230                       0.589289            0.005348   \n",
       "4      0.057068                      -0.052617            0.007425   \n",
       "\n",
       "   VEGF-C [NSU]  VEGF-D [NSU]  VEGFR-1 [NSU]  WISP-1 (CCN4) [NSU]   \n",
       "0     -0.222372      0.237690       0.707199             0.016986  \\\n",
       "1     -0.240480     -0.478662       0.745601             0.103959   \n",
       "2     -0.224838      0.408748      -0.020797             0.293530   \n",
       "3     -0.358549      0.460924      -0.037915             0.171848   \n",
       "4     -0.161727     -0.224275      -0.035787             0.113925   \n",
       "\n",
       "   XCL1 (Lymphotactin) [NSU]  \n",
       "0                  -0.218599  \n",
       "1                  -0.207648  \n",
       "2                  -0.089453  \n",
       "3                  -0.038181  \n",
       "4                  -0.197622  \n",
       "\n",
       "[5 rows x 187 columns]"
      ]
     },
     "execution_count": 4,
     "metadata": {},
     "output_type": "execute_result"
    }
   ],
   "source": [
    "max_values = nELISA_data_values.max()\n",
    "nELISA_data_values_sensor_max_norm = nELISA_data_values.div(max_values)\n",
    "nELISA_data_values_sensor_max_norm.head()"
   ]
  },
  {
   "cell_type": "code",
   "execution_count": 5,
   "metadata": {},
   "outputs": [
    {
     "name": "stdout",
     "output_type": "stream",
     "text": [
      "NSU nELISA mean of Activin A: 0.5217247377399898\n",
      "NSU nELISA STDEV of Activin A: 5.293904102061589\n",
      "NSU sensor normalized nELISA mean of Activin A: 0.01537686961452774\n",
      "NSU sensor normalized nELISA STDEV of Activin A: 0.15602801101944963\n",
      "NSU Min Max normalized nELISA mean of Activin A: 0.12751334233458655\n",
      "NSU Min Max normalized nELISA STDEV of Activin A: 0.13825833827735404\n",
      "NSU Standard Scalar normalized nELISA mean of Activin A: 2.0625333403776493e-17\n",
      "NSU Standard Scalar normalized nELISA STDEV of Activin A: 1.000726480299234\n"
     ]
    }
   ],
   "source": [
    "print(f\"NSU nELISA mean of Activin A: {nELISA_data_values['Activin A [NSU]'].mean()}\")\n",
    "print(f\"NSU nELISA STDEV of Activin A: {nELISA_data_values['Activin A [NSU]'].std()}\")\n",
    "\n",
    "print(\n",
    "    f\"NSU sensor normalized nELISA mean of Activin A: {nELISA_data_values_sensor_max_norm['Activin A [NSU]'].mean()}\"\n",
    ")\n",
    "print(\n",
    "    f\"NSU sensor normalized nELISA STDEV of Activin A: {nELISA_data_values_sensor_max_norm['Activin A [NSU]'].std()}\"\n",
    ")\n",
    "\n",
    "# normalize the data min max\n",
    "scaler = preprocessing.MinMaxScaler().fit(nELISA_data_values)\n",
    "nELISA_data_min_max = scaler.transform(nELISA_data_values)\n",
    "\n",
    "nELISA_data_min_max = pd.DataFrame(\n",
    "    nELISA_data_min_max, columns=nELISA_data_values.columns\n",
    ")\n",
    "print(\n",
    "    f\"NSU Min Max normalized nELISA mean of Activin A: {nELISA_data_min_max['Activin A [NSU]'].mean()}\"\n",
    ")\n",
    "print(\n",
    "    f\"NSU Min Max normalized nELISA STDEV of Activin A: {nELISA_data_min_max['Activin A [NSU]'].std()}\"\n",
    ")\n",
    "\n",
    "# normalize the data standard scaler\n",
    "scaler = preprocessing.StandardScaler().fit(nELISA_data_values)\n",
    "nELISA_data_standard = scaler.transform(nELISA_data_values)\n",
    "nELISA_data_standard = pd.DataFrame(\n",
    "    nELISA_data_standard, columns=nELISA_data_values.columns\n",
    ")\n",
    "\n",
    "print(\n",
    "    f\"NSU Standard Scalar normalized nELISA mean of Activin A: {nELISA_data_standard['Activin A [NSU]'].mean()}\"\n",
    ")\n",
    "print(\n",
    "    f\"NSU Standard Scalar normalized nELISA STDEV of Activin A: {nELISA_data_standard['Activin A [NSU]'].std()}\"\n",
    ")"
   ]
  },
  {
   "cell_type": "code",
   "execution_count": 6,
   "metadata": {},
   "outputs": [
    {
     "data": {
      "text/html": [
       "<div>\n",
       "<style scoped>\n",
       "    .dataframe tbody tr th:only-of-type {\n",
       "        vertical-align: middle;\n",
       "    }\n",
       "\n",
       "    .dataframe tbody tr th {\n",
       "        vertical-align: top;\n",
       "    }\n",
       "\n",
       "    .dataframe thead th {\n",
       "        text-align: right;\n",
       "    }\n",
       "</style>\n",
       "<table border=\"1\" class=\"dataframe\">\n",
       "  <thead>\n",
       "    <tr style=\"text-align: right;\">\n",
       "      <th></th>\n",
       "      <th>Activin A [NSU]</th>\n",
       "      <th>AITRL (GITR Ligand) [NSU]</th>\n",
       "      <th>Amphiregulin [NSU]</th>\n",
       "      <th>Amyloid beta [NSU]</th>\n",
       "      <th>APRIL [NSU]</th>\n",
       "      <th>BAFF [NSU]</th>\n",
       "      <th>BCMA (TNFRSF17) [NSU]</th>\n",
       "      <th>BDNF [NSU]</th>\n",
       "      <th>BMP2 [NSU]</th>\n",
       "      <th>BMP3 [NSU]</th>\n",
       "      <th>...</th>\n",
       "      <th>TWEAK [NSU]</th>\n",
       "      <th>uPA [NSU]</th>\n",
       "      <th>VCAM-1 [NSU]</th>\n",
       "      <th>VEGF Receptor 2 (Flk-1) [NSU]</th>\n",
       "      <th>VEGF-A (165) [NSU]</th>\n",
       "      <th>VEGF-C [NSU]</th>\n",
       "      <th>VEGF-D [NSU]</th>\n",
       "      <th>VEGFR-1 [NSU]</th>\n",
       "      <th>WISP-1 (CCN4) [NSU]</th>\n",
       "      <th>XCL1 (Lymphotactin) [NSU]</th>\n",
       "    </tr>\n",
       "  </thead>\n",
       "  <tbody>\n",
       "    <tr>\n",
       "      <th>0</th>\n",
       "      <td>26.491764</td>\n",
       "      <td>-1.073383</td>\n",
       "      <td>25.817862</td>\n",
       "      <td>-2.435479</td>\n",
       "      <td>-2.556473</td>\n",
       "      <td>-1.259130</td>\n",
       "      <td>-0.043782</td>\n",
       "      <td>-0.661045</td>\n",
       "      <td>-1.508780</td>\n",
       "      <td>-2.046371</td>\n",
       "      <td>...</td>\n",
       "      <td>-0.728423</td>\n",
       "      <td>-0.681505</td>\n",
       "      <td>0.124148</td>\n",
       "      <td>2.617804</td>\n",
       "      <td>-2.210675</td>\n",
       "      <td>-1.433347</td>\n",
       "      <td>1.077095</td>\n",
       "      <td>5.713861</td>\n",
       "      <td>0.055628</td>\n",
       "      <td>-0.889479</td>\n",
       "    </tr>\n",
       "    <tr>\n",
       "      <th>1</th>\n",
       "      <td>24.943616</td>\n",
       "      <td>0.718127</td>\n",
       "      <td>26.598410</td>\n",
       "      <td>0.926190</td>\n",
       "      <td>-3.238686</td>\n",
       "      <td>-0.387113</td>\n",
       "      <td>3.650604</td>\n",
       "      <td>-0.227975</td>\n",
       "      <td>0.450686</td>\n",
       "      <td>0.104226</td>\n",
       "      <td>...</td>\n",
       "      <td>-1.296642</td>\n",
       "      <td>-1.387073</td>\n",
       "      <td>-0.140898</td>\n",
       "      <td>-1.198079</td>\n",
       "      <td>-0.128332</td>\n",
       "      <td>-1.550067</td>\n",
       "      <td>-2.169066</td>\n",
       "      <td>6.024132</td>\n",
       "      <td>0.340468</td>\n",
       "      <td>-0.844918</td>\n",
       "    </tr>\n",
       "    <tr>\n",
       "      <th>2</th>\n",
       "      <td>1.555501</td>\n",
       "      <td>0.268977</td>\n",
       "      <td>27.596171</td>\n",
       "      <td>-2.300495</td>\n",
       "      <td>-3.045141</td>\n",
       "      <td>-1.129626</td>\n",
       "      <td>2.458642</td>\n",
       "      <td>0.278998</td>\n",
       "      <td>0.062647</td>\n",
       "      <td>-1.156700</td>\n",
       "      <td>...</td>\n",
       "      <td>-0.746483</td>\n",
       "      <td>0.115185</td>\n",
       "      <td>-0.002896</td>\n",
       "      <td>-1.473596</td>\n",
       "      <td>0.235711</td>\n",
       "      <td>-1.449242</td>\n",
       "      <td>1.852248</td>\n",
       "      <td>-0.168032</td>\n",
       "      <td>0.961319</td>\n",
       "      <td>-0.363984</td>\n",
       "    </tr>\n",
       "    <tr>\n",
       "      <th>3</th>\n",
       "      <td>-0.929140</td>\n",
       "      <td>0.076314</td>\n",
       "      <td>26.313207</td>\n",
       "      <td>0.253148</td>\n",
       "      <td>-6.751763</td>\n",
       "      <td>-0.539164</td>\n",
       "      <td>-1.718383</td>\n",
       "      <td>1.443255</td>\n",
       "      <td>-0.341732</td>\n",
       "      <td>-0.719875</td>\n",
       "      <td>...</td>\n",
       "      <td>-2.232221</td>\n",
       "      <td>-1.126181</td>\n",
       "      <td>1.062176</td>\n",
       "      <td>1.542644</td>\n",
       "      <td>0.269262</td>\n",
       "      <td>-2.311105</td>\n",
       "      <td>2.088687</td>\n",
       "      <td>-0.306334</td>\n",
       "      <td>0.562805</td>\n",
       "      <td>-0.155359</td>\n",
       "    </tr>\n",
       "    <tr>\n",
       "      <th>4</th>\n",
       "      <td>0.398325</td>\n",
       "      <td>-0.130139</td>\n",
       "      <td>8.797693</td>\n",
       "      <td>-0.445542</td>\n",
       "      <td>0.371358</td>\n",
       "      <td>-0.462473</td>\n",
       "      <td>1.422635</td>\n",
       "      <td>-1.915471</td>\n",
       "      <td>-0.748352</td>\n",
       "      <td>-1.583011</td>\n",
       "      <td>...</td>\n",
       "      <td>-1.065390</td>\n",
       "      <td>-0.314291</td>\n",
       "      <td>0.171604</td>\n",
       "      <td>-0.137741</td>\n",
       "      <td>0.373863</td>\n",
       "      <td>-1.042447</td>\n",
       "      <td>-1.016304</td>\n",
       "      <td>-0.289143</td>\n",
       "      <td>0.373108</td>\n",
       "      <td>-0.804121</td>\n",
       "    </tr>\n",
       "  </tbody>\n",
       "</table>\n",
       "<p>5 rows × 187 columns</p>\n",
       "</div>"
      ],
      "text/plain": [
       "   Activin A [NSU]  AITRL (GITR Ligand) [NSU]  Amphiregulin [NSU]   \n",
       "0        26.491764                  -1.073383           25.817862  \\\n",
       "1        24.943616                   0.718127           26.598410   \n",
       "2         1.555501                   0.268977           27.596171   \n",
       "3        -0.929140                   0.076314           26.313207   \n",
       "4         0.398325                  -0.130139            8.797693   \n",
       "\n",
       "   Amyloid beta [NSU]  APRIL [NSU]  BAFF [NSU]  BCMA (TNFRSF17) [NSU]   \n",
       "0           -2.435479    -2.556473   -1.259130              -0.043782  \\\n",
       "1            0.926190    -3.238686   -0.387113               3.650604   \n",
       "2           -2.300495    -3.045141   -1.129626               2.458642   \n",
       "3            0.253148    -6.751763   -0.539164              -1.718383   \n",
       "4           -0.445542     0.371358   -0.462473               1.422635   \n",
       "\n",
       "   BDNF [NSU]  BMP2 [NSU]  BMP3 [NSU]  ...  TWEAK [NSU]  uPA [NSU]   \n",
       "0   -0.661045   -1.508780   -2.046371  ...    -0.728423  -0.681505  \\\n",
       "1   -0.227975    0.450686    0.104226  ...    -1.296642  -1.387073   \n",
       "2    0.278998    0.062647   -1.156700  ...    -0.746483   0.115185   \n",
       "3    1.443255   -0.341732   -0.719875  ...    -2.232221  -1.126181   \n",
       "4   -1.915471   -0.748352   -1.583011  ...    -1.065390  -0.314291   \n",
       "\n",
       "   VCAM-1 [NSU]  VEGF Receptor 2 (Flk-1) [NSU]  VEGF-A (165) [NSU]   \n",
       "0      0.124148                       2.617804           -2.210675  \\\n",
       "1     -0.140898                      -1.198079           -0.128332   \n",
       "2     -0.002896                      -1.473596            0.235711   \n",
       "3      1.062176                       1.542644            0.269262   \n",
       "4      0.171604                      -0.137741            0.373863   \n",
       "\n",
       "   VEGF-C [NSU]  VEGF-D [NSU]  VEGFR-1 [NSU]  WISP-1 (CCN4) [NSU]   \n",
       "0     -1.433347      1.077095       5.713861             0.055628  \\\n",
       "1     -1.550067     -2.169066       6.024132             0.340468   \n",
       "2     -1.449242      1.852248      -0.168032             0.961319   \n",
       "3     -2.311105      2.088687      -0.306334             0.562805   \n",
       "4     -1.042447     -1.016304      -0.289143             0.373108   \n",
       "\n",
       "   XCL1 (Lymphotactin) [NSU]  \n",
       "0                  -0.889479  \n",
       "1                  -0.844918  \n",
       "2                  -0.363984  \n",
       "3                  -0.155359  \n",
       "4                  -0.804121  \n",
       "\n",
       "[5 rows x 187 columns]"
      ]
     },
     "execution_count": 6,
     "metadata": {},
     "output_type": "execute_result"
    }
   ],
   "source": [
    "nELISA_data_values.head()"
   ]
  },
  {
   "cell_type": "code",
   "execution_count": 7,
   "metadata": {},
   "outputs": [
    {
     "data": {
      "text/html": [
       "<div>\n",
       "<style scoped>\n",
       "    .dataframe tbody tr th:only-of-type {\n",
       "        vertical-align: middle;\n",
       "    }\n",
       "\n",
       "    .dataframe tbody tr th {\n",
       "        vertical-align: top;\n",
       "    }\n",
       "\n",
       "    .dataframe thead th {\n",
       "        text-align: right;\n",
       "    }\n",
       "</style>\n",
       "<table border=\"1\" class=\"dataframe\">\n",
       "  <thead>\n",
       "    <tr style=\"text-align: right;\">\n",
       "      <th></th>\n",
       "      <th>Activin A [NSU]</th>\n",
       "      <th>AITRL (GITR Ligand) [NSU]</th>\n",
       "      <th>Amphiregulin [NSU]</th>\n",
       "      <th>Amyloid beta [NSU]</th>\n",
       "      <th>APRIL [NSU]</th>\n",
       "      <th>BAFF [NSU]</th>\n",
       "      <th>BCMA (TNFRSF17) [NSU]</th>\n",
       "      <th>BDNF [NSU]</th>\n",
       "      <th>BMP2 [NSU]</th>\n",
       "      <th>BMP3 [NSU]</th>\n",
       "      <th>...</th>\n",
       "      <th>TWEAK [NSU]</th>\n",
       "      <th>uPA [NSU]</th>\n",
       "      <th>VCAM-1 [NSU]</th>\n",
       "      <th>VEGF Receptor 2 (Flk-1) [NSU]</th>\n",
       "      <th>VEGF-A (165) [NSU]</th>\n",
       "      <th>VEGF-C [NSU]</th>\n",
       "      <th>VEGF-D [NSU]</th>\n",
       "      <th>VEGFR-1 [NSU]</th>\n",
       "      <th>WISP-1 (CCN4) [NSU]</th>\n",
       "      <th>XCL1 (Lymphotactin) [NSU]</th>\n",
       "    </tr>\n",
       "  </thead>\n",
       "  <tbody>\n",
       "    <tr>\n",
       "      <th>0</th>\n",
       "      <td>0.780796</td>\n",
       "      <td>-0.402891</td>\n",
       "      <td>0.768750</td>\n",
       "      <td>-0.643275</td>\n",
       "      <td>-0.238687</td>\n",
       "      <td>-0.492554</td>\n",
       "      <td>-0.009443</td>\n",
       "      <td>-0.106441</td>\n",
       "      <td>-0.570024</td>\n",
       "      <td>-0.270803</td>\n",
       "      <td>...</td>\n",
       "      <td>-0.335835</td>\n",
       "      <td>-0.030973</td>\n",
       "      <td>0.041286</td>\n",
       "      <td>1.000000</td>\n",
       "      <td>-0.043905</td>\n",
       "      <td>-0.222372</td>\n",
       "      <td>0.237690</td>\n",
       "      <td>0.707199</td>\n",
       "      <td>0.016986</td>\n",
       "      <td>-0.218599</td>\n",
       "    </tr>\n",
       "    <tr>\n",
       "      <th>1</th>\n",
       "      <td>0.735167</td>\n",
       "      <td>0.269547</td>\n",
       "      <td>0.791992</td>\n",
       "      <td>0.244632</td>\n",
       "      <td>-0.302382</td>\n",
       "      <td>-0.151433</td>\n",
       "      <td>0.787377</td>\n",
       "      <td>-0.036708</td>\n",
       "      <td>0.170271</td>\n",
       "      <td>0.013793</td>\n",
       "      <td>...</td>\n",
       "      <td>-0.597809</td>\n",
       "      <td>-0.063039</td>\n",
       "      <td>-0.046856</td>\n",
       "      <td>-0.457665</td>\n",
       "      <td>-0.002549</td>\n",
       "      <td>-0.240480</td>\n",
       "      <td>-0.478662</td>\n",
       "      <td>0.745601</td>\n",
       "      <td>0.103959</td>\n",
       "      <td>-0.207648</td>\n",
       "    </tr>\n",
       "    <tr>\n",
       "      <th>2</th>\n",
       "      <td>0.045846</td>\n",
       "      <td>0.100960</td>\n",
       "      <td>0.821701</td>\n",
       "      <td>-0.607623</td>\n",
       "      <td>-0.284311</td>\n",
       "      <td>-0.441894</td>\n",
       "      <td>0.530290</td>\n",
       "      <td>0.044924</td>\n",
       "      <td>0.023668</td>\n",
       "      <td>-0.153070</td>\n",
       "      <td>...</td>\n",
       "      <td>-0.344162</td>\n",
       "      <td>0.005235</td>\n",
       "      <td>-0.000963</td>\n",
       "      <td>-0.562913</td>\n",
       "      <td>0.004681</td>\n",
       "      <td>-0.224838</td>\n",
       "      <td>0.408748</td>\n",
       "      <td>-0.020797</td>\n",
       "      <td>0.293530</td>\n",
       "      <td>-0.089453</td>\n",
       "    </tr>\n",
       "    <tr>\n",
       "      <th>3</th>\n",
       "      <td>-0.027385</td>\n",
       "      <td>0.028644</td>\n",
       "      <td>0.783499</td>\n",
       "      <td>0.066863</td>\n",
       "      <td>-0.630382</td>\n",
       "      <td>-0.210913</td>\n",
       "      <td>-0.370628</td>\n",
       "      <td>0.232392</td>\n",
       "      <td>-0.129108</td>\n",
       "      <td>-0.095263</td>\n",
       "      <td>...</td>\n",
       "      <td>-1.029153</td>\n",
       "      <td>-0.051182</td>\n",
       "      <td>0.353230</td>\n",
       "      <td>0.589289</td>\n",
       "      <td>0.005348</td>\n",
       "      <td>-0.358549</td>\n",
       "      <td>0.460924</td>\n",
       "      <td>-0.037915</td>\n",
       "      <td>0.171848</td>\n",
       "      <td>-0.038181</td>\n",
       "    </tr>\n",
       "    <tr>\n",
       "      <th>4</th>\n",
       "      <td>0.011740</td>\n",
       "      <td>-0.048847</td>\n",
       "      <td>0.261959</td>\n",
       "      <td>-0.117680</td>\n",
       "      <td>0.034672</td>\n",
       "      <td>-0.180913</td>\n",
       "      <td>0.306840</td>\n",
       "      <td>-0.308428</td>\n",
       "      <td>-0.282731</td>\n",
       "      <td>-0.209485</td>\n",
       "      <td>...</td>\n",
       "      <td>-0.491192</td>\n",
       "      <td>-0.014284</td>\n",
       "      <td>0.057068</td>\n",
       "      <td>-0.052617</td>\n",
       "      <td>0.007425</td>\n",
       "      <td>-0.161727</td>\n",
       "      <td>-0.224275</td>\n",
       "      <td>-0.035787</td>\n",
       "      <td>0.113925</td>\n",
       "      <td>-0.197622</td>\n",
       "    </tr>\n",
       "  </tbody>\n",
       "</table>\n",
       "<p>5 rows × 187 columns</p>\n",
       "</div>"
      ],
      "text/plain": [
       "   Activin A [NSU]  AITRL (GITR Ligand) [NSU]  Amphiregulin [NSU]   \n",
       "0         0.780796                  -0.402891            0.768750  \\\n",
       "1         0.735167                   0.269547            0.791992   \n",
       "2         0.045846                   0.100960            0.821701   \n",
       "3        -0.027385                   0.028644            0.783499   \n",
       "4         0.011740                  -0.048847            0.261959   \n",
       "\n",
       "   Amyloid beta [NSU]  APRIL [NSU]  BAFF [NSU]  BCMA (TNFRSF17) [NSU]   \n",
       "0           -0.643275    -0.238687   -0.492554              -0.009443  \\\n",
       "1            0.244632    -0.302382   -0.151433               0.787377   \n",
       "2           -0.607623    -0.284311   -0.441894               0.530290   \n",
       "3            0.066863    -0.630382   -0.210913              -0.370628   \n",
       "4           -0.117680     0.034672   -0.180913               0.306840   \n",
       "\n",
       "   BDNF [NSU]  BMP2 [NSU]  BMP3 [NSU]  ...  TWEAK [NSU]  uPA [NSU]   \n",
       "0   -0.106441   -0.570024   -0.270803  ...    -0.335835  -0.030973  \\\n",
       "1   -0.036708    0.170271    0.013793  ...    -0.597809  -0.063039   \n",
       "2    0.044924    0.023668   -0.153070  ...    -0.344162   0.005235   \n",
       "3    0.232392   -0.129108   -0.095263  ...    -1.029153  -0.051182   \n",
       "4   -0.308428   -0.282731   -0.209485  ...    -0.491192  -0.014284   \n",
       "\n",
       "   VCAM-1 [NSU]  VEGF Receptor 2 (Flk-1) [NSU]  VEGF-A (165) [NSU]   \n",
       "0      0.041286                       1.000000           -0.043905  \\\n",
       "1     -0.046856                      -0.457665           -0.002549   \n",
       "2     -0.000963                      -0.562913            0.004681   \n",
       "3      0.353230                       0.589289            0.005348   \n",
       "4      0.057068                      -0.052617            0.007425   \n",
       "\n",
       "   VEGF-C [NSU]  VEGF-D [NSU]  VEGFR-1 [NSU]  WISP-1 (CCN4) [NSU]   \n",
       "0     -0.222372      0.237690       0.707199             0.016986  \\\n",
       "1     -0.240480     -0.478662       0.745601             0.103959   \n",
       "2     -0.224838      0.408748      -0.020797             0.293530   \n",
       "3     -0.358549      0.460924      -0.037915             0.171848   \n",
       "4     -0.161727     -0.224275      -0.035787             0.113925   \n",
       "\n",
       "   XCL1 (Lymphotactin) [NSU]  \n",
       "0                  -0.218599  \n",
       "1                  -0.207648  \n",
       "2                  -0.089453  \n",
       "3                  -0.038181  \n",
       "4                  -0.197622  \n",
       "\n",
       "[5 rows x 187 columns]"
      ]
     },
     "execution_count": 7,
     "metadata": {},
     "output_type": "execute_result"
    }
   ],
   "source": [
    "nELISA_data_values_sensor_max_norm.head()"
   ]
  },
  {
   "cell_type": "code",
   "execution_count": 8,
   "metadata": {},
   "outputs": [
    {
     "data": {
      "text/html": [
       "<div>\n",
       "<style scoped>\n",
       "    .dataframe tbody tr th:only-of-type {\n",
       "        vertical-align: middle;\n",
       "    }\n",
       "\n",
       "    .dataframe tbody tr th {\n",
       "        vertical-align: top;\n",
       "    }\n",
       "\n",
       "    .dataframe thead th {\n",
       "        text-align: right;\n",
       "    }\n",
       "</style>\n",
       "<table border=\"1\" class=\"dataframe\">\n",
       "  <thead>\n",
       "    <tr style=\"text-align: right;\">\n",
       "      <th></th>\n",
       "      <th>Activin A [NSU]</th>\n",
       "      <th>AITRL (GITR Ligand) [NSU]</th>\n",
       "      <th>Amphiregulin [NSU]</th>\n",
       "      <th>Amyloid beta [NSU]</th>\n",
       "      <th>APRIL [NSU]</th>\n",
       "      <th>BAFF [NSU]</th>\n",
       "      <th>BCMA (TNFRSF17) [NSU]</th>\n",
       "      <th>BDNF [NSU]</th>\n",
       "      <th>BMP2 [NSU]</th>\n",
       "      <th>BMP3 [NSU]</th>\n",
       "      <th>...</th>\n",
       "      <th>TWEAK [NSU]</th>\n",
       "      <th>uPA [NSU]</th>\n",
       "      <th>VCAM-1 [NSU]</th>\n",
       "      <th>VEGF Receptor 2 (Flk-1) [NSU]</th>\n",
       "      <th>VEGF-A (165) [NSU]</th>\n",
       "      <th>VEGF-C [NSU]</th>\n",
       "      <th>VEGF-D [NSU]</th>\n",
       "      <th>VEGFR-1 [NSU]</th>\n",
       "      <th>WISP-1 (CCN4) [NSU]</th>\n",
       "      <th>XCL1 (Lymphotactin) [NSU]</th>\n",
       "    </tr>\n",
       "  </thead>\n",
       "  <tbody>\n",
       "    <tr>\n",
       "      <th>0</th>\n",
       "      <td>0.805760</td>\n",
       "      <td>0.252327</td>\n",
       "      <td>0.791864</td>\n",
       "      <td>0.201684</td>\n",
       "      <td>0.279975</td>\n",
       "      <td>0.170082</td>\n",
       "      <td>0.458191</td>\n",
       "      <td>0.366062</td>\n",
       "      <td>0.205627</td>\n",
       "      <td>0.267478</td>\n",
       "      <td>...</td>\n",
       "      <td>0.450302</td>\n",
       "      <td>0.080920</td>\n",
       "      <td>0.514189</td>\n",
       "      <td>1.000000</td>\n",
       "      <td>0.000000</td>\n",
       "      <td>0.261275</td>\n",
       "      <td>0.622935</td>\n",
       "      <td>0.784695</td>\n",
       "      <td>0.557588</td>\n",
       "      <td>0.238457</td>\n",
       "    </tr>\n",
       "    <tr>\n",
       "      <th>1</th>\n",
       "      <td>0.765328</td>\n",
       "      <td>0.610704</td>\n",
       "      <td>0.812782</td>\n",
       "      <td>0.633036</td>\n",
       "      <td>0.242950</td>\n",
       "      <td>0.359759</td>\n",
       "      <td>0.885877</td>\n",
       "      <td>0.406015</td>\n",
       "      <td>0.580188</td>\n",
       "      <td>0.431526</td>\n",
       "      <td>...</td>\n",
       "      <td>0.342499</td>\n",
       "      <td>0.052334</td>\n",
       "      <td>0.469524</td>\n",
       "      <td>0.390866</td>\n",
       "      <td>0.039617</td>\n",
       "      <td>0.250331</td>\n",
       "      <td>0.268604</td>\n",
       "      <td>0.812933</td>\n",
       "      <td>0.596731</td>\n",
       "      <td>0.245301</td>\n",
       "    </tr>\n",
       "    <tr>\n",
       "      <th>2</th>\n",
       "      <td>0.154512</td>\n",
       "      <td>0.520855</td>\n",
       "      <td>0.839522</td>\n",
       "      <td>0.219004</td>\n",
       "      <td>0.253454</td>\n",
       "      <td>0.198251</td>\n",
       "      <td>0.747887</td>\n",
       "      <td>0.452787</td>\n",
       "      <td>0.506013</td>\n",
       "      <td>0.335342</td>\n",
       "      <td>...</td>\n",
       "      <td>0.446875</td>\n",
       "      <td>0.113198</td>\n",
       "      <td>0.492780</td>\n",
       "      <td>0.346884</td>\n",
       "      <td>0.046543</td>\n",
       "      <td>0.259784</td>\n",
       "      <td>0.707547</td>\n",
       "      <td>0.249380</td>\n",
       "      <td>0.682049</td>\n",
       "      <td>0.319165</td>\n",
       "    </tr>\n",
       "    <tr>\n",
       "      <th>3</th>\n",
       "      <td>0.089622</td>\n",
       "      <td>0.482315</td>\n",
       "      <td>0.805139</td>\n",
       "      <td>0.546675</td>\n",
       "      <td>0.052290</td>\n",
       "      <td>0.326686</td>\n",
       "      <td>0.264329</td>\n",
       "      <td>0.560197</td>\n",
       "      <td>0.428714</td>\n",
       "      <td>0.368663</td>\n",
       "      <td>...</td>\n",
       "      <td>0.165000</td>\n",
       "      <td>0.062904</td>\n",
       "      <td>0.672261</td>\n",
       "      <td>0.828371</td>\n",
       "      <td>0.047181</td>\n",
       "      <td>0.178978</td>\n",
       "      <td>0.733355</td>\n",
       "      <td>0.236793</td>\n",
       "      <td>0.627285</td>\n",
       "      <td>0.351206</td>\n",
       "    </tr>\n",
       "    <tr>\n",
       "      <th>4</th>\n",
       "      <td>0.124291</td>\n",
       "      <td>0.441015</td>\n",
       "      <td>0.335727</td>\n",
       "      <td>0.457023</td>\n",
       "      <td>0.438873</td>\n",
       "      <td>0.343367</td>\n",
       "      <td>0.627953</td>\n",
       "      <td>0.250333</td>\n",
       "      <td>0.350986</td>\n",
       "      <td>0.302823</td>\n",
       "      <td>...</td>\n",
       "      <td>0.386372</td>\n",
       "      <td>0.095798</td>\n",
       "      <td>0.522186</td>\n",
       "      <td>0.560129</td>\n",
       "      <td>0.049171</td>\n",
       "      <td>0.297925</td>\n",
       "      <td>0.394432</td>\n",
       "      <td>0.238358</td>\n",
       "      <td>0.601216</td>\n",
       "      <td>0.251567</td>\n",
       "    </tr>\n",
       "  </tbody>\n",
       "</table>\n",
       "<p>5 rows × 187 columns</p>\n",
       "</div>"
      ],
      "text/plain": [
       "   Activin A [NSU]  AITRL (GITR Ligand) [NSU]  Amphiregulin [NSU]   \n",
       "0         0.805760                   0.252327            0.791864  \\\n",
       "1         0.765328                   0.610704            0.812782   \n",
       "2         0.154512                   0.520855            0.839522   \n",
       "3         0.089622                   0.482315            0.805139   \n",
       "4         0.124291                   0.441015            0.335727   \n",
       "\n",
       "   Amyloid beta [NSU]  APRIL [NSU]  BAFF [NSU]  BCMA (TNFRSF17) [NSU]   \n",
       "0            0.201684     0.279975    0.170082               0.458191  \\\n",
       "1            0.633036     0.242950    0.359759               0.885877   \n",
       "2            0.219004     0.253454    0.198251               0.747887   \n",
       "3            0.546675     0.052290    0.326686               0.264329   \n",
       "4            0.457023     0.438873    0.343367               0.627953   \n",
       "\n",
       "   BDNF [NSU]  BMP2 [NSU]  BMP3 [NSU]  ...  TWEAK [NSU]  uPA [NSU]   \n",
       "0    0.366062    0.205627    0.267478  ...     0.450302   0.080920  \\\n",
       "1    0.406015    0.580188    0.431526  ...     0.342499   0.052334   \n",
       "2    0.452787    0.506013    0.335342  ...     0.446875   0.113198   \n",
       "3    0.560197    0.428714    0.368663  ...     0.165000   0.062904   \n",
       "4    0.250333    0.350986    0.302823  ...     0.386372   0.095798   \n",
       "\n",
       "   VCAM-1 [NSU]  VEGF Receptor 2 (Flk-1) [NSU]  VEGF-A (165) [NSU]   \n",
       "0      0.514189                       1.000000            0.000000  \\\n",
       "1      0.469524                       0.390866            0.039617   \n",
       "2      0.492780                       0.346884            0.046543   \n",
       "3      0.672261                       0.828371            0.047181   \n",
       "4      0.522186                       0.560129            0.049171   \n",
       "\n",
       "   VEGF-C [NSU]  VEGF-D [NSU]  VEGFR-1 [NSU]  WISP-1 (CCN4) [NSU]   \n",
       "0      0.261275      0.622935       0.784695             0.557588  \\\n",
       "1      0.250331      0.268604       0.812933             0.596731   \n",
       "2      0.259784      0.707547       0.249380             0.682049   \n",
       "3      0.178978      0.733355       0.236793             0.627285   \n",
       "4      0.297925      0.394432       0.238358             0.601216   \n",
       "\n",
       "   XCL1 (Lymphotactin) [NSU]  \n",
       "0                   0.238457  \n",
       "1                   0.245301  \n",
       "2                   0.319165  \n",
       "3                   0.351206  \n",
       "4                   0.251567  \n",
       "\n",
       "[5 rows x 187 columns]"
      ]
     },
     "execution_count": 8,
     "metadata": {},
     "output_type": "execute_result"
    }
   ],
   "source": [
    "nELISA_data_min_max.head()"
   ]
  },
  {
   "cell_type": "code",
   "execution_count": 9,
   "metadata": {},
   "outputs": [
    {
     "data": {
      "text/html": [
       "<div>\n",
       "<style scoped>\n",
       "    .dataframe tbody tr th:only-of-type {\n",
       "        vertical-align: middle;\n",
       "    }\n",
       "\n",
       "    .dataframe tbody tr th {\n",
       "        vertical-align: top;\n",
       "    }\n",
       "\n",
       "    .dataframe thead th {\n",
       "        text-align: right;\n",
       "    }\n",
       "</style>\n",
       "<table border=\"1\" class=\"dataframe\">\n",
       "  <thead>\n",
       "    <tr style=\"text-align: right;\">\n",
       "      <th></th>\n",
       "      <th>Activin A [NSU]</th>\n",
       "      <th>AITRL (GITR Ligand) [NSU]</th>\n",
       "      <th>Amphiregulin [NSU]</th>\n",
       "      <th>Amyloid beta [NSU]</th>\n",
       "      <th>APRIL [NSU]</th>\n",
       "      <th>BAFF [NSU]</th>\n",
       "      <th>BCMA (TNFRSF17) [NSU]</th>\n",
       "      <th>BDNF [NSU]</th>\n",
       "      <th>BMP2 [NSU]</th>\n",
       "      <th>BMP3 [NSU]</th>\n",
       "      <th>...</th>\n",
       "      <th>TWEAK [NSU]</th>\n",
       "      <th>uPA [NSU]</th>\n",
       "      <th>VCAM-1 [NSU]</th>\n",
       "      <th>VEGF Receptor 2 (Flk-1) [NSU]</th>\n",
       "      <th>VEGF-A (165) [NSU]</th>\n",
       "      <th>VEGF-C [NSU]</th>\n",
       "      <th>VEGF-D [NSU]</th>\n",
       "      <th>VEGFR-1 [NSU]</th>\n",
       "      <th>WISP-1 (CCN4) [NSU]</th>\n",
       "      <th>XCL1 (Lymphotactin) [NSU]</th>\n",
       "    </tr>\n",
       "  </thead>\n",
       "  <tbody>\n",
       "    <tr>\n",
       "      <th>0</th>\n",
       "      <td>4.909214</td>\n",
       "      <td>-1.338097</td>\n",
       "      <td>3.151477</td>\n",
       "      <td>-1.585962</td>\n",
       "      <td>-1.076774</td>\n",
       "      <td>-1.793466</td>\n",
       "      <td>-0.303762</td>\n",
       "      <td>-0.335031</td>\n",
       "      <td>-1.738678</td>\n",
       "      <td>-1.360830</td>\n",
       "      <td>...</td>\n",
       "      <td>-0.169257</td>\n",
       "      <td>-0.822029</td>\n",
       "      <td>0.094377</td>\n",
       "      <td>3.463227</td>\n",
       "      <td>-1.838779</td>\n",
       "      <td>-0.690573</td>\n",
       "      <td>0.929507</td>\n",
       "      <td>4.044421</td>\n",
       "      <td>-0.091531</td>\n",
       "      <td>-0.495617</td>\n",
       "    </tr>\n",
       "    <tr>\n",
       "      <th>1</th>\n",
       "      <td>4.616561</td>\n",
       "      <td>0.969283</td>\n",
       "      <td>3.258619</td>\n",
       "      <td>1.522504</td>\n",
       "      <td>-1.337382</td>\n",
       "      <td>-0.566890</td>\n",
       "      <td>2.756890</td>\n",
       "      <td>-0.007488</td>\n",
       "      <td>0.931190</td>\n",
       "      <td>0.016577</td>\n",
       "      <td>...</td>\n",
       "      <td>-0.868352</td>\n",
       "      <td>-0.983196</td>\n",
       "      <td>-0.200601</td>\n",
       "      <td>-0.521682</td>\n",
       "      <td>-1.699131</td>\n",
       "      <td>-0.799740</td>\n",
       "      <td>-1.517003</td>\n",
       "      <td>4.263257</td>\n",
       "      <td>0.170798</td>\n",
       "      <td>-0.442033</td>\n",
       "    </tr>\n",
       "    <tr>\n",
       "      <th>2</th>\n",
       "      <td>0.195419</td>\n",
       "      <td>0.390799</td>\n",
       "      <td>3.395577</td>\n",
       "      <td>-1.461146</td>\n",
       "      <td>-1.263447</td>\n",
       "      <td>-1.611306</td>\n",
       "      <td>1.769397</td>\n",
       "      <td>0.375950</td>\n",
       "      <td>0.402468</td>\n",
       "      <td>-0.791016</td>\n",
       "      <td>...</td>\n",
       "      <td>-0.191477</td>\n",
       "      <td>-0.640046</td>\n",
       "      <td>-0.047015</td>\n",
       "      <td>-0.809404</td>\n",
       "      <td>-1.674717</td>\n",
       "      <td>-0.705439</td>\n",
       "      <td>1.513710</td>\n",
       "      <td>-0.104126</td>\n",
       "      <td>0.742583</td>\n",
       "      <td>0.136279</td>\n",
       "    </tr>\n",
       "    <tr>\n",
       "      <th>3</th>\n",
       "      <td>-0.274262</td>\n",
       "      <td>0.142658</td>\n",
       "      <td>3.219471</td>\n",
       "      <td>0.900156</td>\n",
       "      <td>-2.679391</td>\n",
       "      <td>-0.780763</td>\n",
       "      <td>-1.691102</td>\n",
       "      <td>1.256510</td>\n",
       "      <td>-0.148518</td>\n",
       "      <td>-0.511240</td>\n",
       "      <td>...</td>\n",
       "      <td>-2.019419</td>\n",
       "      <td>-0.923603</td>\n",
       "      <td>1.138334</td>\n",
       "      <td>2.340442</td>\n",
       "      <td>-1.672467</td>\n",
       "      <td>-1.511534</td>\n",
       "      <td>1.691905</td>\n",
       "      <td>-0.201671</td>\n",
       "      <td>0.375564</td>\n",
       "      <td>0.387145</td>\n",
       "    </tr>\n",
       "    <tr>\n",
       "      <th>4</th>\n",
       "      <td>-0.023327</td>\n",
       "      <td>-0.123244</td>\n",
       "      <td>0.815197</td>\n",
       "      <td>0.254092</td>\n",
       "      <td>0.041670</td>\n",
       "      <td>-0.672891</td>\n",
       "      <td>0.911106</td>\n",
       "      <td>-1.283789</td>\n",
       "      <td>-0.702557</td>\n",
       "      <td>-1.064058</td>\n",
       "      <td>...</td>\n",
       "      <td>-0.583837</td>\n",
       "      <td>-0.738148</td>\n",
       "      <td>0.147191</td>\n",
       "      <td>0.585624</td>\n",
       "      <td>-1.665452</td>\n",
       "      <td>-0.324967</td>\n",
       "      <td>-0.648210</td>\n",
       "      <td>-0.189546</td>\n",
       "      <td>0.200858</td>\n",
       "      <td>-0.392976</td>\n",
       "    </tr>\n",
       "  </tbody>\n",
       "</table>\n",
       "<p>5 rows × 187 columns</p>\n",
       "</div>"
      ],
      "text/plain": [
       "   Activin A [NSU]  AITRL (GITR Ligand) [NSU]  Amphiregulin [NSU]   \n",
       "0         4.909214                  -1.338097            3.151477  \\\n",
       "1         4.616561                   0.969283            3.258619   \n",
       "2         0.195419                   0.390799            3.395577   \n",
       "3        -0.274262                   0.142658            3.219471   \n",
       "4        -0.023327                  -0.123244            0.815197   \n",
       "\n",
       "   Amyloid beta [NSU]  APRIL [NSU]  BAFF [NSU]  BCMA (TNFRSF17) [NSU]   \n",
       "0           -1.585962    -1.076774   -1.793466              -0.303762  \\\n",
       "1            1.522504    -1.337382   -0.566890               2.756890   \n",
       "2           -1.461146    -1.263447   -1.611306               1.769397   \n",
       "3            0.900156    -2.679391   -0.780763              -1.691102   \n",
       "4            0.254092     0.041670   -0.672891               0.911106   \n",
       "\n",
       "   BDNF [NSU]  BMP2 [NSU]  BMP3 [NSU]  ...  TWEAK [NSU]  uPA [NSU]   \n",
       "0   -0.335031   -1.738678   -1.360830  ...    -0.169257  -0.822029  \\\n",
       "1   -0.007488    0.931190    0.016577  ...    -0.868352  -0.983196   \n",
       "2    0.375950    0.402468   -0.791016  ...    -0.191477  -0.640046   \n",
       "3    1.256510   -0.148518   -0.511240  ...    -2.019419  -0.923603   \n",
       "4   -1.283789   -0.702557   -1.064058  ...    -0.583837  -0.738148   \n",
       "\n",
       "   VCAM-1 [NSU]  VEGF Receptor 2 (Flk-1) [NSU]  VEGF-A (165) [NSU]   \n",
       "0      0.094377                       3.463227           -1.838779  \\\n",
       "1     -0.200601                      -0.521682           -1.699131   \n",
       "2     -0.047015                      -0.809404           -1.674717   \n",
       "3      1.138334                       2.340442           -1.672467   \n",
       "4      0.147191                       0.585624           -1.665452   \n",
       "\n",
       "   VEGF-C [NSU]  VEGF-D [NSU]  VEGFR-1 [NSU]  WISP-1 (CCN4) [NSU]   \n",
       "0     -0.690573      0.929507       4.044421            -0.091531  \\\n",
       "1     -0.799740     -1.517003       4.263257             0.170798   \n",
       "2     -0.705439      1.513710      -0.104126             0.742583   \n",
       "3     -1.511534      1.691905      -0.201671             0.375564   \n",
       "4     -0.324967     -0.648210      -0.189546             0.200858   \n",
       "\n",
       "   XCL1 (Lymphotactin) [NSU]  \n",
       "0                  -0.495617  \n",
       "1                  -0.442033  \n",
       "2                   0.136279  \n",
       "3                   0.387145  \n",
       "4                  -0.392976  \n",
       "\n",
       "[5 rows x 187 columns]"
      ]
     },
     "execution_count": 9,
     "metadata": {},
     "output_type": "execute_result"
    }
   ],
   "source": [
    "nELISA_data_standard.head()"
   ]
  },
  {
   "cell_type": "code",
   "execution_count": 10,
   "metadata": {},
   "outputs": [
    {
     "data": {
      "application/vnd.plotly.v1+json": {
       "config": {
        "plotlyServerURL": "https://plot.ly"
       },
       "data": [
        {
         "hovertemplate": "Cell Type=PBMC<br>0=%{x}<br>1=%{y}<extra></extra>",
         "legendgroup": "PBMC",
         "marker": {
          "color": "#636efa",
          "size": 15,
          "symbol": "circle"
         },
         "mode": "markers",
         "name": "PBMC",
         "orientation": "v",
         "showlegend": true,
         "type": "scatter",
         "x": [
          1.8973209857940674,
          1.3374764919281006,
          -0.7174681425094604,
          -1.1493709087371826,
          0.5424899458885193,
          0.5881549715995789,
          1.7968595027923584,
          1.5964878797531128,
          1.5729060173034668,
          1.955810308456421,
          -1.7805641889572144,
          -2.0485193729400635,
          0.8639294505119324,
          0.7796651124954224,
          2.0170788764953613,
          1.709564208984375,
          2.7420787811279297,
          2.6008095741271973,
          -5.283179759979248,
          -5.424838542938232,
          14.412656784057617,
          14.159380912780762,
          2.8776535987854004,
          2.6404194831848145,
          2.06925892829895,
          2.6290276050567627,
          1.3896645307540894,
          0.8817776441574097,
          14.816056251525879,
          14.6866455078125,
          2.3841850757598877,
          2.6838009357452393,
          10.751431465148926,
          11.048812866210938,
          -1.1894816160202026,
          -1.1935206651687622,
          1.4738357067108154,
          0.7049742937088013,
          10.992148399353027,
          10.82899284362793,
          10.51859188079834,
          10.404117584228516,
          -1.9005206823349,
          -1.660599946975708,
          0.5807142853736877,
          0.7791039943695068,
          10.535237312316895,
          10.797420501708984,
          9.317116737365723,
          9.040806770324707,
          -1.3744755983352661,
          -1.1389338970184326,
          0.8273414373397827,
          1.8501081466674805,
          9.098028182983398,
          8.883941650390625,
          1.7306406497955322,
          1.6606029272079468,
          -0.6168367862701416,
          -1.0617507696151733,
          1.0595109462738037,
          1.6513993740081787,
          1.4351485967636108,
          1.5225952863693237,
          2.0873775482177734,
          2.184738874435425,
          -0.5702329874038696,
          0.6270690560340881,
          0.465494304895401,
          0.8496768474578857,
          2.17984938621521,
          2.3750553131103516,
          -2.815823554992676,
          -2.6411476135253906,
          -15.838146209716797,
          -15.927919387817383,
          14.171001434326172,
          14.091790199279785,
          -2.7563250064849854,
          -2.170360565185547,
          -3.985902786254883,
          -4.306534290313721,
          2.384479284286499,
          2.1849098205566406,
          15.070051193237305,
          14.962488174438477,
          -4.136595249176025,
          -4.249800205230713,
          -4.510622024536133,
          -4.622580528259277,
          2.654055118560791,
          2.809899091720581,
          1.3975478410720825,
          1.3233509063720703,
          -4.31728982925415,
          -4.817266941070557,
          -9.933320045471191,
          -9.715055465698242,
          17.216064453125,
          16.988065719604492,
          1.4515864849090576,
          0.7796300053596497,
          -9.73322868347168,
          -9.678519248962402,
          -2.7944841384887695,
          -3.0666189193725586,
          -0.3275814354419708,
          -0.9498803019523621,
          1.0379602909088135,
          0.8334568738937378,
          -3.015517473220825,
          -3.2142093181610107
         ],
         "xaxis": "x",
         "y": [
          4.889978408813477,
          4.643620014190674,
          -2.574315309524536,
          -2.9361205101013184,
          15.742459297180176,
          14.523882865905762,
          4.230982303619385,
          4.334125518798828,
          4.471660614013672,
          4.696850776672363,
          -2.8424079418182373,
          -3.284836530685425,
          16.26531410217285,
          16.22466468811035,
          3.8821256160736084,
          4.9846343994140625,
          2.5777292251586914,
          3.116215229034424,
          -3.908221960067749,
          -4.243639945983887,
          11.961045265197754,
          12.373980522155762,
          2.8481876850128174,
          3.0512139797210693,
          2.225712537765503,
          1.9105746746063232,
          16.45461654663086,
          14.82139778137207,
          11.430354118347168,
          11.560286521911621,
          2.4733474254608154,
          2.2964017391204834,
          22.65631866455078,
          22.668901443481445,
          16.269046783447266,
          15.78102970123291,
          18.00684928894043,
          17.26641082763672,
          23.038503646850586,
          22.897567749023438,
          22.55753517150879,
          22.350543975830078,
          16.27370834350586,
          16.340641021728516,
          17.08871841430664,
          16.5535945892334,
          22.233196258544922,
          22.50796890258789,
          22.095012664794922,
          22.121370315551758,
          12.931445121765137,
          12.528388977050781,
          18.24965476989746,
          18.169998168945312,
          22.10724449157715,
          21.828908920288086,
          -0.36360231041908264,
          -0.41979244351387024,
          12.595282554626465,
          12.582710266113281,
          18.323808670043945,
          17.84441375732422,
          -0.6402219533920288,
          -0.5625036358833313,
          1.6994261741638184,
          1.8359427452087402,
          15.839378356933594,
          14.828726768493652,
          17.711082458496094,
          17.971025466918945,
          1.6314051151275635,
          1.7190417051315308,
          -2.319323778152466,
          -2.7511234283447266,
          -12.349624633789062,
          -12.439358711242676,
          11.963356971740723,
          12.11666488647461,
          -2.4672892093658447,
          -2.536996841430664,
          -4.3699140548706055,
          -4.69064998626709,
          13.108457565307617,
          13.141026496887207,
          11.330775260925293,
          11.257665634155273,
          -3.8394734859466553,
          -4.509947299957275,
          -4.013850212097168,
          -4.442268371582031,
          11.613635063171387,
          12.085746765136719,
          18.077810287475586,
          17.651199340820312,
          -4.104902267456055,
          -4.316503524780273,
          3.6500587463378906,
          3.434530258178711,
          15.723316192626953,
          16.07862663269043,
          18.3791561126709,
          18.321613311767578,
          3.43650221824646,
          3.3800315856933594,
          -12.091529846191406,
          -11.818974494934082,
          13.250187873840332,
          12.874505996704102,
          16.855058670043945,
          17.160308837890625,
          -11.870983123779297,
          -11.670877456665039
         ],
         "yaxis": "y"
        },
        {
         "hovertemplate": "Cell Type=SH-SY5Y<br>0=%{x}<br>1=%{y}<extra></extra>",
         "legendgroup": "SH-SY5Y",
         "marker": {
          "color": "#00cc96",
          "size": 15,
          "symbol": "circle"
         },
         "mode": "markers",
         "name": "SH-SY5Y",
         "orientation": "v",
         "showlegend": true,
         "type": "scatter",
         "x": [
          -7.784322738647461,
          -6.960461139678955,
          -7.321864604949951,
          -7.438816070556641,
          -7.94175386428833,
          -7.362118244171143,
          13.909027099609375,
          14.098493576049805,
          14.056172370910645,
          -6.202198505401611,
          -4.871293544769287,
          -5.665566444396973,
          -4.906569957733154,
          -6.106722831726074,
          -2.129765272140503,
          17.522146224975586,
          17.344579696655273,
          19.64478874206543,
          -1.5632224082946777,
          -1.1325756311416626,
          -0.8027124404907227,
          -0.6898699998855591,
          -1.3310884237289429,
          -0.38775160908699036,
          2.171170711517334,
          2.97542142868042,
          2.929147243499756,
          20.02427864074707,
          19.654991149902344,
          18.51605224609375,
          18.125272750854492,
          19.344890594482422,
          20.076080322265625,
          16.591705322265625,
          17.128721237182617,
          17.622976303100586,
          19.589202880859375,
          15.870238304138184,
          18.832082748413086,
          19.895305633544922,
          16.3665828704834,
          20.34520149230957,
          -7.840427875518799,
          -7.137142181396484,
          -8.75550651550293,
          20.119489669799805,
          20.5869197845459,
          20.37224578857422,
          20.660526275634766,
          19.557830810546875,
          16.57874298095703,
          10.457825660705566,
          10.498295783996582,
          10.292811393737793,
          -5.25775671005249,
          -3.288261890411377,
          -4.419244289398193,
          -5.0520920753479,
          -5.734160423278809,
          -5.611941814422607,
          17.259443283081055,
          18.24090003967285,
          -5.339500427246094,
          -3.4364733695983887,
          -4.899776935577393,
          -3.5846660137176514,
          -5.319070339202881,
          -5.2692108154296875,
          19.426151275634766,
          17.156017303466797,
          18.694883346557617,
          -7.215539932250977,
          -5.982285022735596,
          -5.974052429199219,
          -4.827853202819824,
          -4.879953861236572,
          -5.106241226196289,
          15.877903938293457,
          16.150362014770508,
          16.015186309814453,
          9.14745044708252,
          -2.6115214824676514,
          -5.385017395019531,
          -4.57718563079834,
          -4.766129016876221,
          -5.474457740783691,
          16.690372467041016,
          21.383024215698242,
          20.51900863647461,
          -1.772907018661499,
          -1.4558899402618408,
          -1.1152387857437134,
          -0.20347504317760468,
          -1.0880532264709473,
          -0.9731062650680542,
          2.2059035301208496,
          2.3828911781311035,
          2.3721675872802734,
          17.59534454345703,
          19.195816040039062,
          18.136825561523438,
          20.409286499023438,
          18.96761131286621,
          17.870410919189453,
          17.095630645751953,
          16.000534057617188,
          18.55830192565918,
          20.41590118408203,
          20.389646530151367,
          17.422317504882812,
          16.12138557434082,
          16.48042106628418,
          17.681711196899414,
          -7.126116752624512,
          -7.235706806182861,
          -7.508620738983154,
          19.69999885559082,
          19.661102294921875,
          19.84145164489746,
          20.366331100463867,
          18.947132110595703,
          9.621673583984375,
          9.77152156829834,
          9.713372230529785,
          -3.8633663654327393,
          -4.204440593719482,
          -3.5785820484161377,
          -3.763054370880127,
          -4.065757751464844,
          -3.997802734375,
          20.0002384185791,
          16.455711364746094,
          15.968006134033203,
          -2.9317054748535156,
          -3.6123461723327637,
          -3.4210615158081055,
          -3.1658735275268555,
          -4.232634544372559,
          -3.185716152191162,
          16.178667068481445,
          19.63260841369629,
          17.554792404174805
         ],
         "xaxis": "x",
         "y": [
          1.8284072875976562,
          1.283384084701538,
          1.9424234628677368,
          1.90632164478302,
          2.1887784004211426,
          1.5899407863616943,
          2.674680709838867,
          3.0563812255859375,
          3.333657741546631,
          2.5400564670562744,
          2.2121522426605225,
          2.3457040786743164,
          2.453496217727661,
          3.873886823654175,
          3.8446271419525146,
          4.5284953117370605,
          5.686643600463867,
          5.70753288269043,
          22.874265670776367,
          23.21541404724121,
          22.407651901245117,
          22.741878509521484,
          22.702356338500977,
          22.980714797973633,
          -13.984847068786621,
          -12.88945198059082,
          -13.920807838439941,
          5.231556415557861,
          4.51824951171875,
          6.337130546569824,
          6.755762100219727,
          6.713564395904541,
          5.410114288330078,
          3.519282579421997,
          5.757286548614502,
          6.561394691467285,
          5.28125,
          5.0228776931762695,
          5.3517351150512695,
          4.415188312530518,
          5.759132385253906,
          6.808916091918945,
          -6.857072830200195,
          -7.022735118865967,
          -7.179117202758789,
          5.392905235290527,
          3.8567755222320557,
          3.927391767501831,
          5.52787446975708,
          7.09084939956665,
          6.2300214767456055,
          16.154499053955078,
          15.8781156539917,
          15.940299034118652,
          5.2819695472717285,
          4.932379245758057,
          4.344788074493408,
          3.714308500289917,
          3.973245620727539,
          4.522808074951172,
          5.949557304382324,
          7.210484981536865,
          5.288767337799072,
          3.243492364883423,
          3.74330472946167,
          2.8962457180023193,
          3.183593511581421,
          3.5574848651885986,
          6.526639461517334,
          5.846189498901367,
          7.095736503601074,
          1.8625094890594482,
          1.8204834461212158,
          1.390080213546753,
          1.9049276113510132,
          0.6109719276428223,
          0.7724866271018982,
          1.5948866605758667,
          2.2109243869781494,
          1.2149267196655273,
          16.976789474487305,
          3.499091386795044,
          2.4680538177490234,
          2.1497602462768555,
          1.8285802602767944,
          2.07784366607666,
          5.180581569671631,
          5.693274021148682,
          6.184184551239014,
          22.92238426208496,
          23.361616134643555,
          22.907983779907227,
          22.524621963500977,
          22.214181900024414,
          22.56885528564453,
          -13.291694641113281,
          -13.209456443786621,
          -12.631948471069336,
          3.407841444015503,
          3.224301338195801,
          3.6870853900909424,
          4.361424446105957,
          5.53301477432251,
          3.9057998657226562,
          3.863584280014038,
          3.831334352493286,
          4.832337856292725,
          4.649118900299072,
          3.23573637008667,
          5.032353401184082,
          5.885819435119629,
          4.479530334472656,
          5.244233131408691,
          -6.61208963394165,
          -6.5960469245910645,
          -7.728048324584961,
          2.8816685676574707,
          3.1404778957366943,
          4.053635120391846,
          3.4597527980804443,
          4.4367218017578125,
          15.408329963684082,
          14.837956428527832,
          15.08413314819336,
          4.712691307067871,
          4.955479145050049,
          5.212252140045166,
          4.90780782699585,
          4.127943515777588,
          4.45297384262085,
          3.577904224395752,
          5.246370792388916,
          4.014857769012451,
          3.8831021785736084,
          3.728065013885498,
          4.500064373016357,
          4.00836181640625,
          2.906100273132324,
          3.6944541931152344,
          5.237951755523682,
          3.484666109085083,
          4.568906784057617
         ],
         "yaxis": "y"
        }
       ],
       "layout": {
        "legend": {
         "title": {
          "text": "Cell Type"
         },
         "tracegroupgap": 0
        },
        "template": {
         "data": {
          "bar": [
           {
            "error_x": {
             "color": "#2a3f5f"
            },
            "error_y": {
             "color": "#2a3f5f"
            },
            "marker": {
             "line": {
              "color": "#E5ECF6",
              "width": 0.5
             },
             "pattern": {
              "fillmode": "overlay",
              "size": 10,
              "solidity": 0.2
             }
            },
            "type": "bar"
           }
          ],
          "barpolar": [
           {
            "marker": {
             "line": {
              "color": "#E5ECF6",
              "width": 0.5
             },
             "pattern": {
              "fillmode": "overlay",
              "size": 10,
              "solidity": 0.2
             }
            },
            "type": "barpolar"
           }
          ],
          "carpet": [
           {
            "aaxis": {
             "endlinecolor": "#2a3f5f",
             "gridcolor": "white",
             "linecolor": "white",
             "minorgridcolor": "white",
             "startlinecolor": "#2a3f5f"
            },
            "baxis": {
             "endlinecolor": "#2a3f5f",
             "gridcolor": "white",
             "linecolor": "white",
             "minorgridcolor": "white",
             "startlinecolor": "#2a3f5f"
            },
            "type": "carpet"
           }
          ],
          "choropleth": [
           {
            "colorbar": {
             "outlinewidth": 0,
             "ticks": ""
            },
            "type": "choropleth"
           }
          ],
          "contour": [
           {
            "colorbar": {
             "outlinewidth": 0,
             "ticks": ""
            },
            "colorscale": [
             [
              0,
              "#0d0887"
             ],
             [
              0.1111111111111111,
              "#46039f"
             ],
             [
              0.2222222222222222,
              "#7201a8"
             ],
             [
              0.3333333333333333,
              "#9c179e"
             ],
             [
              0.4444444444444444,
              "#bd3786"
             ],
             [
              0.5555555555555556,
              "#d8576b"
             ],
             [
              0.6666666666666666,
              "#ed7953"
             ],
             [
              0.7777777777777778,
              "#fb9f3a"
             ],
             [
              0.8888888888888888,
              "#fdca26"
             ],
             [
              1,
              "#f0f921"
             ]
            ],
            "type": "contour"
           }
          ],
          "contourcarpet": [
           {
            "colorbar": {
             "outlinewidth": 0,
             "ticks": ""
            },
            "type": "contourcarpet"
           }
          ],
          "heatmap": [
           {
            "colorbar": {
             "outlinewidth": 0,
             "ticks": ""
            },
            "colorscale": [
             [
              0,
              "#0d0887"
             ],
             [
              0.1111111111111111,
              "#46039f"
             ],
             [
              0.2222222222222222,
              "#7201a8"
             ],
             [
              0.3333333333333333,
              "#9c179e"
             ],
             [
              0.4444444444444444,
              "#bd3786"
             ],
             [
              0.5555555555555556,
              "#d8576b"
             ],
             [
              0.6666666666666666,
              "#ed7953"
             ],
             [
              0.7777777777777778,
              "#fb9f3a"
             ],
             [
              0.8888888888888888,
              "#fdca26"
             ],
             [
              1,
              "#f0f921"
             ]
            ],
            "type": "heatmap"
           }
          ],
          "heatmapgl": [
           {
            "colorbar": {
             "outlinewidth": 0,
             "ticks": ""
            },
            "colorscale": [
             [
              0,
              "#0d0887"
             ],
             [
              0.1111111111111111,
              "#46039f"
             ],
             [
              0.2222222222222222,
              "#7201a8"
             ],
             [
              0.3333333333333333,
              "#9c179e"
             ],
             [
              0.4444444444444444,
              "#bd3786"
             ],
             [
              0.5555555555555556,
              "#d8576b"
             ],
             [
              0.6666666666666666,
              "#ed7953"
             ],
             [
              0.7777777777777778,
              "#fb9f3a"
             ],
             [
              0.8888888888888888,
              "#fdca26"
             ],
             [
              1,
              "#f0f921"
             ]
            ],
            "type": "heatmapgl"
           }
          ],
          "histogram": [
           {
            "marker": {
             "pattern": {
              "fillmode": "overlay",
              "size": 10,
              "solidity": 0.2
             }
            },
            "type": "histogram"
           }
          ],
          "histogram2d": [
           {
            "colorbar": {
             "outlinewidth": 0,
             "ticks": ""
            },
            "colorscale": [
             [
              0,
              "#0d0887"
             ],
             [
              0.1111111111111111,
              "#46039f"
             ],
             [
              0.2222222222222222,
              "#7201a8"
             ],
             [
              0.3333333333333333,
              "#9c179e"
             ],
             [
              0.4444444444444444,
              "#bd3786"
             ],
             [
              0.5555555555555556,
              "#d8576b"
             ],
             [
              0.6666666666666666,
              "#ed7953"
             ],
             [
              0.7777777777777778,
              "#fb9f3a"
             ],
             [
              0.8888888888888888,
              "#fdca26"
             ],
             [
              1,
              "#f0f921"
             ]
            ],
            "type": "histogram2d"
           }
          ],
          "histogram2dcontour": [
           {
            "colorbar": {
             "outlinewidth": 0,
             "ticks": ""
            },
            "colorscale": [
             [
              0,
              "#0d0887"
             ],
             [
              0.1111111111111111,
              "#46039f"
             ],
             [
              0.2222222222222222,
              "#7201a8"
             ],
             [
              0.3333333333333333,
              "#9c179e"
             ],
             [
              0.4444444444444444,
              "#bd3786"
             ],
             [
              0.5555555555555556,
              "#d8576b"
             ],
             [
              0.6666666666666666,
              "#ed7953"
             ],
             [
              0.7777777777777778,
              "#fb9f3a"
             ],
             [
              0.8888888888888888,
              "#fdca26"
             ],
             [
              1,
              "#f0f921"
             ]
            ],
            "type": "histogram2dcontour"
           }
          ],
          "mesh3d": [
           {
            "colorbar": {
             "outlinewidth": 0,
             "ticks": ""
            },
            "type": "mesh3d"
           }
          ],
          "parcoords": [
           {
            "line": {
             "colorbar": {
              "outlinewidth": 0,
              "ticks": ""
             }
            },
            "type": "parcoords"
           }
          ],
          "pie": [
           {
            "automargin": true,
            "type": "pie"
           }
          ],
          "scatter": [
           {
            "fillpattern": {
             "fillmode": "overlay",
             "size": 10,
             "solidity": 0.2
            },
            "type": "scatter"
           }
          ],
          "scatter3d": [
           {
            "line": {
             "colorbar": {
              "outlinewidth": 0,
              "ticks": ""
             }
            },
            "marker": {
             "colorbar": {
              "outlinewidth": 0,
              "ticks": ""
             }
            },
            "type": "scatter3d"
           }
          ],
          "scattercarpet": [
           {
            "marker": {
             "colorbar": {
              "outlinewidth": 0,
              "ticks": ""
             }
            },
            "type": "scattercarpet"
           }
          ],
          "scattergeo": [
           {
            "marker": {
             "colorbar": {
              "outlinewidth": 0,
              "ticks": ""
             }
            },
            "type": "scattergeo"
           }
          ],
          "scattergl": [
           {
            "marker": {
             "colorbar": {
              "outlinewidth": 0,
              "ticks": ""
             }
            },
            "type": "scattergl"
           }
          ],
          "scattermapbox": [
           {
            "marker": {
             "colorbar": {
              "outlinewidth": 0,
              "ticks": ""
             }
            },
            "type": "scattermapbox"
           }
          ],
          "scatterpolar": [
           {
            "marker": {
             "colorbar": {
              "outlinewidth": 0,
              "ticks": ""
             }
            },
            "type": "scatterpolar"
           }
          ],
          "scatterpolargl": [
           {
            "marker": {
             "colorbar": {
              "outlinewidth": 0,
              "ticks": ""
             }
            },
            "type": "scatterpolargl"
           }
          ],
          "scatterternary": [
           {
            "marker": {
             "colorbar": {
              "outlinewidth": 0,
              "ticks": ""
             }
            },
            "type": "scatterternary"
           }
          ],
          "surface": [
           {
            "colorbar": {
             "outlinewidth": 0,
             "ticks": ""
            },
            "colorscale": [
             [
              0,
              "#0d0887"
             ],
             [
              0.1111111111111111,
              "#46039f"
             ],
             [
              0.2222222222222222,
              "#7201a8"
             ],
             [
              0.3333333333333333,
              "#9c179e"
             ],
             [
              0.4444444444444444,
              "#bd3786"
             ],
             [
              0.5555555555555556,
              "#d8576b"
             ],
             [
              0.6666666666666666,
              "#ed7953"
             ],
             [
              0.7777777777777778,
              "#fb9f3a"
             ],
             [
              0.8888888888888888,
              "#fdca26"
             ],
             [
              1,
              "#f0f921"
             ]
            ],
            "type": "surface"
           }
          ],
          "table": [
           {
            "cells": {
             "fill": {
              "color": "#EBF0F8"
             },
             "line": {
              "color": "white"
             }
            },
            "header": {
             "fill": {
              "color": "#C8D4E3"
             },
             "line": {
              "color": "white"
             }
            },
            "type": "table"
           }
          ]
         },
         "layout": {
          "annotationdefaults": {
           "arrowcolor": "#2a3f5f",
           "arrowhead": 0,
           "arrowwidth": 1
          },
          "autotypenumbers": "strict",
          "coloraxis": {
           "colorbar": {
            "outlinewidth": 0,
            "ticks": ""
           }
          },
          "colorscale": {
           "diverging": [
            [
             0,
             "#8e0152"
            ],
            [
             0.1,
             "#c51b7d"
            ],
            [
             0.2,
             "#de77ae"
            ],
            [
             0.3,
             "#f1b6da"
            ],
            [
             0.4,
             "#fde0ef"
            ],
            [
             0.5,
             "#f7f7f7"
            ],
            [
             0.6,
             "#e6f5d0"
            ],
            [
             0.7,
             "#b8e186"
            ],
            [
             0.8,
             "#7fbc41"
            ],
            [
             0.9,
             "#4d9221"
            ],
            [
             1,
             "#276419"
            ]
           ],
           "sequential": [
            [
             0,
             "#0d0887"
            ],
            [
             0.1111111111111111,
             "#46039f"
            ],
            [
             0.2222222222222222,
             "#7201a8"
            ],
            [
             0.3333333333333333,
             "#9c179e"
            ],
            [
             0.4444444444444444,
             "#bd3786"
            ],
            [
             0.5555555555555556,
             "#d8576b"
            ],
            [
             0.6666666666666666,
             "#ed7953"
            ],
            [
             0.7777777777777778,
             "#fb9f3a"
            ],
            [
             0.8888888888888888,
             "#fdca26"
            ],
            [
             1,
             "#f0f921"
            ]
           ],
           "sequentialminus": [
            [
             0,
             "#0d0887"
            ],
            [
             0.1111111111111111,
             "#46039f"
            ],
            [
             0.2222222222222222,
             "#7201a8"
            ],
            [
             0.3333333333333333,
             "#9c179e"
            ],
            [
             0.4444444444444444,
             "#bd3786"
            ],
            [
             0.5555555555555556,
             "#d8576b"
            ],
            [
             0.6666666666666666,
             "#ed7953"
            ],
            [
             0.7777777777777778,
             "#fb9f3a"
            ],
            [
             0.8888888888888888,
             "#fdca26"
            ],
            [
             1,
             "#f0f921"
            ]
           ]
          },
          "colorway": [
           "#636efa",
           "#EF553B",
           "#00cc96",
           "#ab63fa",
           "#FFA15A",
           "#19d3f3",
           "#FF6692",
           "#B6E880",
           "#FF97FF",
           "#FECB52"
          ],
          "font": {
           "color": "#2a3f5f"
          },
          "geo": {
           "bgcolor": "white",
           "lakecolor": "white",
           "landcolor": "#E5ECF6",
           "showlakes": true,
           "showland": true,
           "subunitcolor": "white"
          },
          "hoverlabel": {
           "align": "left"
          },
          "hovermode": "closest",
          "mapbox": {
           "style": "light"
          },
          "paper_bgcolor": "white",
          "plot_bgcolor": "#E5ECF6",
          "polar": {
           "angularaxis": {
            "gridcolor": "white",
            "linecolor": "white",
            "ticks": ""
           },
           "bgcolor": "#E5ECF6",
           "radialaxis": {
            "gridcolor": "white",
            "linecolor": "white",
            "ticks": ""
           }
          },
          "scene": {
           "xaxis": {
            "backgroundcolor": "#E5ECF6",
            "gridcolor": "white",
            "gridwidth": 2,
            "linecolor": "white",
            "showbackground": true,
            "ticks": "",
            "zerolinecolor": "white"
           },
           "yaxis": {
            "backgroundcolor": "#E5ECF6",
            "gridcolor": "white",
            "gridwidth": 2,
            "linecolor": "white",
            "showbackground": true,
            "ticks": "",
            "zerolinecolor": "white"
           },
           "zaxis": {
            "backgroundcolor": "#E5ECF6",
            "gridcolor": "white",
            "gridwidth": 2,
            "linecolor": "white",
            "showbackground": true,
            "ticks": "",
            "zerolinecolor": "white"
           }
          },
          "shapedefaults": {
           "line": {
            "color": "#2a3f5f"
           }
          },
          "ternary": {
           "aaxis": {
            "gridcolor": "white",
            "linecolor": "white",
            "ticks": ""
           },
           "baxis": {
            "gridcolor": "white",
            "linecolor": "white",
            "ticks": ""
           },
           "bgcolor": "#E5ECF6",
           "caxis": {
            "gridcolor": "white",
            "linecolor": "white",
            "ticks": ""
           }
          },
          "title": {
           "x": 0.05
          },
          "xaxis": {
           "automargin": true,
           "gridcolor": "white",
           "linecolor": "white",
           "ticks": "",
           "title": {
            "standoff": 15
           },
           "zerolinecolor": "white",
           "zerolinewidth": 2
          },
          "yaxis": {
           "automargin": true,
           "gridcolor": "white",
           "linecolor": "white",
           "ticks": "",
           "title": {
            "standoff": 15
           },
           "zerolinecolor": "white",
           "zerolinewidth": 2
          }
         }
        },
        "title": {
         "text": "UMAP projection of the nELISA data"
        },
        "xaxis": {
         "anchor": "y",
         "domain": [
          0,
          1
         ],
         "title": {
          "text": "UMAP_1"
         }
        },
        "yaxis": {
         "anchor": "x",
         "domain": [
          0,
          1
         ],
         "title": {
          "text": "UMAP_2"
         }
        }
       }
      }
     },
     "metadata": {},
     "output_type": "display_data"
    },
    {
     "data": {
      "application/vnd.plotly.v1+json": {
       "config": {
        "plotlyServerURL": "https://plot.ly"
       },
       "data": [
        {
         "hovertemplate": "Cell Type=PBMC<br>0=%{x}<br>1=%{y}<extra></extra>",
         "legendgroup": "PBMC",
         "marker": {
          "color": "#636efa",
          "size": 15,
          "symbol": "circle"
         },
         "mode": "markers",
         "name": "PBMC",
         "orientation": "v",
         "showlegend": true,
         "type": "scatter",
         "x": [
          5.178432464599609,
          5.78778600692749,
          3.8587818145751953,
          4.972655296325684,
          13.28013801574707,
          14.733217239379883,
          6.168676376342773,
          5.340950965881348,
          6.635894298553467,
          6.082559108734131,
          1.337630033493042,
          1.162044644355774,
          13.92477798461914,
          13.078880310058594,
          5.350914001464844,
          6.302491664886475,
          5.355874538421631,
          5.519052028656006,
          -0.2877293825149536,
          0.7869503498077393,
          12.295166015625,
          14.716033935546875,
          6.0285325050354,
          5.963877201080322,
          6.269191265106201,
          5.235032081604004,
          13.858031272888184,
          14.574316024780273,
          13.497248649597168,
          14.032682418823242,
          5.712722301483154,
          5.476480484008789,
          5.834451198577881,
          5.017350673675537,
          13.857535362243652,
          14.490784645080566,
          13.67221736907959,
          14.728155136108398,
          4.462831974029541,
          4.804155349731445,
          4.321329593658447,
          3.90590238571167,
          14.744322776794434,
          14.656401634216309,
          15.110462188720703,
          14.930455207824707,
          4.147035121917725,
          4.606348991394043,
          4.051806449890137,
          5.011167526245117,
          14.531458854675293,
          14.157478332519531,
          13.736515045166016,
          14.892935752868652,
          3.8482742309570312,
          4.613621234893799,
          -1.3993282318115234,
          -1.1650419235229492,
          13.017638206481934,
          15.292515754699707,
          15.193841934204102,
          14.445250511169434,
          -1.5817315578460693,
          -0.9117415547370911,
          4.906522274017334,
          5.859308242797852,
          14.170555114746094,
          14.673245429992676,
          14.178643226623535,
          13.623001098632812,
          5.5111541748046875,
          5.680554389953613,
          1.31801438331604,
          0.858924925327301,
          -0.4168427884578705,
          -0.6345650553703308,
          12.835152626037598,
          13.471353530883789,
          0.9825786352157593,
          1.0019824504852295,
          -0.18626715242862701,
          -0.2744528353214264,
          5.658835411071777,
          6.6542887687683105,
          13.919398307800293,
          13.563555717468262,
          0.777840793132782,
          -0.03339839726686478,
          -0.33666250109672546,
          -0.791159451007843,
          5.081691741943359,
          6.529353141784668,
          14.184846878051758,
          13.37595272064209,
          -0.028473595157265663,
          0.11275330930948257,
          1.9874070882797241,
          1.1778630018234253,
          4.796323299407959,
          3.9954946041107178,
          12.536201477050781,
          13.474363327026367,
          2.0809106826782227,
          2.37385892868042,
          -0.9298456907272339,
          -0.5043526887893677,
          15.263570785522461,
          14.139495849609375,
          13.05530071258545,
          14.228463172912598,
          -0.3445267379283905,
          -0.7376179099082947
         ],
         "xaxis": "x",
         "y": [
          13.042343139648438,
          13.251595497131348,
          13.738269805908203,
          12.389975547790527,
          -2.140821695327759,
          -2.0628247261047363,
          12.597899436950684,
          12.801139831542969,
          12.695982933044434,
          13.854053497314453,
          13.562198638916016,
          14.224104881286621,
          -1.6295469999313354,
          -2.994313955307007,
          13.082200050354004,
          13.061626434326172,
          12.589028358459473,
          13.367740631103516,
          14.347357749938965,
          14.4651460647583,
          -2.8203039169311523,
          -1.5595405101776123,
          12.428690910339355,
          12.371296882629395,
          12.85532283782959,
          12.311519622802734,
          -1.3936187028884888,
          -2.283609390258789,
          -4.949350357055664,
          -5.204165935516357,
          13.48323917388916,
          12.63784122467041,
          13.203723907470703,
          12.3206148147583,
          -2.175180435180664,
          -2.4918153285980225,
          -2.7539849281311035,
          -3.063033103942871,
          13.713337898254395,
          12.940667152404785,
          12.599427223205566,
          12.999128341674805,
          -1.6879817247390747,
          -2.219622850418091,
          -2.0710582733154297,
          -2.8977737426757812,
          12.76416015625,
          13.254714965820312,
          13.186359405517578,
          12.829476356506348,
          -2.0147974491119385,
          -2.537349224090576,
          -2.0555219650268555,
          -2.760366916656494,
          13.302958488464355,
          12.83359432220459,
          12.05655288696289,
          11.733891487121582,
          -2.5756232738494873,
          -2.861748456954956,
          -2.507967710494995,
          -4.097141265869141,
          11.498091697692871,
          11.866045951843262,
          13.636314392089844,
          12.29356575012207,
          -1.6372040510177612,
          -3.427978754043579,
          -3.1205406188964844,
          -3.198641777038574,
          13.58788013458252,
          13.429903984069824,
          12.931602478027344,
          13.490423202514648,
          11.658784866333008,
          11.131176948547363,
          -3.147582769393921,
          -4.124110221862793,
          13.390069961547852,
          14.594862937927246,
          14.376677513122559,
          13.760581970214844,
          14.248187065124512,
          13.72760009765625,
          -5.3983025550842285,
          -5.019888877868652,
          13.277518272399902,
          13.734519004821777,
          13.704835891723633,
          14.066558837890625,
          14.029959678649902,
          13.636104583740234,
          -2.8398337364196777,
          -3.674025297164917,
          13.525771141052246,
          14.265496253967285,
          13.442980766296387,
          12.721899032592773,
          14.321051597595215,
          13.524618148803711,
          -2.687120199203491,
          -1.9564934968948364,
          12.956029891967773,
          13.33984088897705,
          12.816095352172852,
          12.48304271697998,
          -1.9230188131332397,
          -2.6845149993896484,
          -1.8747063875198364,
          -4.061503887176514,
          12.762773513793945,
          12.89251708984375
         ],
         "yaxis": "y"
        },
        {
         "hovertemplate": "Cell Type=SH-SY5Y<br>0=%{x}<br>1=%{y}<extra></extra>",
         "legendgroup": "SH-SY5Y",
         "marker": {
          "color": "#00cc96",
          "size": 15,
          "symbol": "circle"
         },
         "mode": "markers",
         "name": "SH-SY5Y",
         "orientation": "v",
         "showlegend": true,
         "type": "scatter",
         "x": [
          4.118884563446045,
          3.4547290802001953,
          3.3519766330718994,
          3.4009969234466553,
          3.754901885986328,
          3.0482892990112305,
          4.62598991394043,
          5.216233253479004,
          7.089298248291016,
          3.4693753719329834,
          4.18101692199707,
          4.161086559295654,
          4.009875297546387,
          4.047359943389893,
          3.7413156032562256,
          6.045710563659668,
          5.256179332733154,
          4.322861671447754,
          1.3694950342178345,
          2.059857130050659,
          2.1974639892578125,
          1.7041940689086914,
          4.989581108093262,
          2.1880831718444824,
          5.69069242477417,
          2.4604523181915283,
          6.295948028564453,
          4.473779678344727,
          6.042350769042969,
          7.081482410430908,
          5.245408058166504,
          5.113260746002197,
          5.236159324645996,
          5.606760025024414,
          7.201939105987549,
          5.697070121765137,
          7.231531620025635,
          2.1712255477905273,
          4.851408004760742,
          4.705880165100098,
          6.459499835968018,
          7.755346298217773,
          2.3194503784179688,
          3.7230732440948486,
          2.829908609390259,
          5.577056884765625,
          5.0456624031066895,
          6.826081275939941,
          5.780840873718262,
          5.505258560180664,
          6.552215576171875,
          3.7184042930603027,
          4.54463529586792,
          2.689059019088745,
          4.070130825042725,
          4.371342182159424,
          3.443948268890381,
          3.6653478145599365,
          4.78861141204834,
          4.352869033813477,
          6.831653118133545,
          7.1496171951293945,
          3.7980124950408936,
          5.854020118713379,
          3.2574851512908936,
          3.6599106788635254,
          4.470486640930176,
          3.3005125522613525,
          7.71061897277832,
          5.332775115966797,
          6.024979591369629,
          3.3164124488830566,
          3.8203022480010986,
          4.251100540161133,
          2.6241085529327393,
          4.394444465637207,
          3.645034074783325,
          5.518867492675781,
          6.560288429260254,
          4.684103965759277,
          3.942580461502075,
          4.397090911865234,
          3.9611546993255615,
          3.502819776535034,
          2.841472625732422,
          3.9436864852905273,
          5.855898380279541,
          6.307662487030029,
          4.621530055999756,
          1.553289771080017,
          1.9619783163070679,
          1.5687175989151,
          2.1244006156921387,
          0.9807203412055969,
          0.9481314420700073,
          3.8014533519744873,
          5.0511860847473145,
          4.977510929107666,
          5.637923717498779,
          5.51869535446167,
          2.7644498348236084,
          6.100868225097656,
          4.106997013092041,
          5.085329532623291,
          6.529448509216309,
          5.301510810852051,
          4.41412353515625,
          6.056644439697266,
          7.408699989318848,
          6.290194511413574,
          3.94085693359375,
          7.213130950927734,
          6.525747776031494,
          3.157118797302246,
          3.0900933742523193,
          2.5491983890533447,
          4.801488399505615,
          3.7432706356048584,
          5.380615711212158,
          5.620096206665039,
          5.078521251678467,
          4.215176582336426,
          1.7683650255203247,
          2.4661521911621094,
          3.925649404525757,
          3.139789342880249,
          2.8630473613739014,
          2.7354183197021484,
          3.2920963764190674,
          3.399407386779785,
          4.726408004760742,
          6.95133638381958,
          3.7887892723083496,
          4.498450756072998,
          4.091604709625244,
          4.245882987976074,
          3.9020028114318848,
          3.8834283351898193,
          3.567495107650757,
          7.690204620361328,
          4.517323017120361,
          5.272881031036377
         ],
         "xaxis": "x",
         "y": [
          -2.9178929328918457,
          -0.41660618782043457,
          0.33911630511283875,
          1.0482631921768188,
          -0.6652722358703613,
          -0.8680559396743774,
          -2.0459706783294678,
          -1.2505460977554321,
          -1.2260663509368896,
          -0.4251015782356262,
          1.2634820938110352,
          -0.6121034622192383,
          1.1723767518997192,
          -3.2458508014678955,
          2.608527183532715,
          1.3236124515533447,
          2.053394317626953,
          -1.9231295585632324,
          7.300317764282227,
          6.312817573547363,
          7.608172416687012,
          7.634951591491699,
          -3.306260585784912,
          7.186367511749268,
          -1.2175369262695312,
          -0.20352531969547272,
          -0.20672936737537384,
          2.277155876159668,
          2.222008228302002,
          1.9508999586105347,
          3.6849570274353027,
          2.499882698059082,
          0.9499120712280273,
          1.5971531867980957,
          2.6797637939453125,
          -0.3477596938610077,
          -0.33108657598495483,
          1.9411325454711914,
          -0.37329331040382385,
          -1.8359055519104004,
          -1.6271843910217285,
          -0.5539248585700989,
          -1.474215030670166,
          -2.1283347606658936,
          -2.3114266395568848,
          2.645564317703247,
          2.351203680038452,
          3.641348361968994,
          1.1011486053466797,
          -1.009153962135315,
          3.350027322769165,
          -0.1376621276140213,
          -0.18787281215190887,
          -0.48704230785369873,
          0.13583076000213623,
          3.4650676250457764,
          2.306793689727783,
          0.41912996768951416,
          -2.556774377822876,
          -2.975740432739258,
          -1.7402539253234863,
          -2.1903491020202637,
          0.8392906188964844,
          5.55292272567749,
          2.8643462657928467,
          3.6372017860412598,
          -0.7371014952659607,
          0.1935461312532425,
          0.8853079080581665,
          2.7573654651641846,
          0.5617145895957947,
          -0.12175498157739639,
          2.585761547088623,
          0.050493571907281876,
          2.3769044876098633,
          -1.3155999183654785,
          -1.2477823495864868,
          -1.1505250930786133,
          -0.7334405183792114,
          -1.555378794670105,
          3.151550054550171,
          4.25941801071167,
          3.6125240325927734,
          1.964691162109375,
          -1.8340332508087158,
          1.483569860458374,
          -2.1778781414031982,
          2.927412986755371,
          1.271294355392456,
          7.931972026824951,
          6.912166595458984,
          5.738075256347656,
          6.540797710418701,
          7.376138687133789,
          7.456766605377197,
          -2.867946147918701,
          -1.9810429811477661,
          -1.0926997661590576,
          3.5273077487945557,
          3.1493430137634277,
          4.793947696685791,
          3.9615132808685303,
          -1.7969191074371338,
          1.873728632926941,
          -1.971683382987976,
          -0.03658599779009819,
          1.4621212482452393,
          -2.607895851135254,
          1.7855324745178223,
          1.576698899269104,
          2.476792812347412,
          -1.544846773147583,
          -0.772262692451477,
          -2.6328184604644775,
          -0.6359320878982544,
          -2.4361047744750977,
          3.9546639919281006,
          3.703497886657715,
          4.352041721343994,
          1.1422783136367798,
          2.9636197090148926,
          1.6095731258392334,
          3.2030649185180664,
          -0.019189123064279556,
          1.2766785621643066,
          2.6083950996398926,
          1.853974461555481,
          3.1346020698547363,
          2.5161688327789307,
          1.8462514877319336,
          2.1609761714935303,
          3.4979512691497803,
          1.491872787475586,
          4.461455345153809,
          3.0877692699432373,
          3.3895201683044434,
          4.551064968109131,
          0.881632387638092,
          4.3070549964904785,
          2.1245036125183105,
          4.020152568817139,
          1.3544743061065674
         ],
         "yaxis": "y"
        }
       ],
       "layout": {
        "legend": {
         "title": {
          "text": "Cell Type"
         },
         "tracegroupgap": 0
        },
        "template": {
         "data": {
          "bar": [
           {
            "error_x": {
             "color": "#2a3f5f"
            },
            "error_y": {
             "color": "#2a3f5f"
            },
            "marker": {
             "line": {
              "color": "#E5ECF6",
              "width": 0.5
             },
             "pattern": {
              "fillmode": "overlay",
              "size": 10,
              "solidity": 0.2
             }
            },
            "type": "bar"
           }
          ],
          "barpolar": [
           {
            "marker": {
             "line": {
              "color": "#E5ECF6",
              "width": 0.5
             },
             "pattern": {
              "fillmode": "overlay",
              "size": 10,
              "solidity": 0.2
             }
            },
            "type": "barpolar"
           }
          ],
          "carpet": [
           {
            "aaxis": {
             "endlinecolor": "#2a3f5f",
             "gridcolor": "white",
             "linecolor": "white",
             "minorgridcolor": "white",
             "startlinecolor": "#2a3f5f"
            },
            "baxis": {
             "endlinecolor": "#2a3f5f",
             "gridcolor": "white",
             "linecolor": "white",
             "minorgridcolor": "white",
             "startlinecolor": "#2a3f5f"
            },
            "type": "carpet"
           }
          ],
          "choropleth": [
           {
            "colorbar": {
             "outlinewidth": 0,
             "ticks": ""
            },
            "type": "choropleth"
           }
          ],
          "contour": [
           {
            "colorbar": {
             "outlinewidth": 0,
             "ticks": ""
            },
            "colorscale": [
             [
              0,
              "#0d0887"
             ],
             [
              0.1111111111111111,
              "#46039f"
             ],
             [
              0.2222222222222222,
              "#7201a8"
             ],
             [
              0.3333333333333333,
              "#9c179e"
             ],
             [
              0.4444444444444444,
              "#bd3786"
             ],
             [
              0.5555555555555556,
              "#d8576b"
             ],
             [
              0.6666666666666666,
              "#ed7953"
             ],
             [
              0.7777777777777778,
              "#fb9f3a"
             ],
             [
              0.8888888888888888,
              "#fdca26"
             ],
             [
              1,
              "#f0f921"
             ]
            ],
            "type": "contour"
           }
          ],
          "contourcarpet": [
           {
            "colorbar": {
             "outlinewidth": 0,
             "ticks": ""
            },
            "type": "contourcarpet"
           }
          ],
          "heatmap": [
           {
            "colorbar": {
             "outlinewidth": 0,
             "ticks": ""
            },
            "colorscale": [
             [
              0,
              "#0d0887"
             ],
             [
              0.1111111111111111,
              "#46039f"
             ],
             [
              0.2222222222222222,
              "#7201a8"
             ],
             [
              0.3333333333333333,
              "#9c179e"
             ],
             [
              0.4444444444444444,
              "#bd3786"
             ],
             [
              0.5555555555555556,
              "#d8576b"
             ],
             [
              0.6666666666666666,
              "#ed7953"
             ],
             [
              0.7777777777777778,
              "#fb9f3a"
             ],
             [
              0.8888888888888888,
              "#fdca26"
             ],
             [
              1,
              "#f0f921"
             ]
            ],
            "type": "heatmap"
           }
          ],
          "heatmapgl": [
           {
            "colorbar": {
             "outlinewidth": 0,
             "ticks": ""
            },
            "colorscale": [
             [
              0,
              "#0d0887"
             ],
             [
              0.1111111111111111,
              "#46039f"
             ],
             [
              0.2222222222222222,
              "#7201a8"
             ],
             [
              0.3333333333333333,
              "#9c179e"
             ],
             [
              0.4444444444444444,
              "#bd3786"
             ],
             [
              0.5555555555555556,
              "#d8576b"
             ],
             [
              0.6666666666666666,
              "#ed7953"
             ],
             [
              0.7777777777777778,
              "#fb9f3a"
             ],
             [
              0.8888888888888888,
              "#fdca26"
             ],
             [
              1,
              "#f0f921"
             ]
            ],
            "type": "heatmapgl"
           }
          ],
          "histogram": [
           {
            "marker": {
             "pattern": {
              "fillmode": "overlay",
              "size": 10,
              "solidity": 0.2
             }
            },
            "type": "histogram"
           }
          ],
          "histogram2d": [
           {
            "colorbar": {
             "outlinewidth": 0,
             "ticks": ""
            },
            "colorscale": [
             [
              0,
              "#0d0887"
             ],
             [
              0.1111111111111111,
              "#46039f"
             ],
             [
              0.2222222222222222,
              "#7201a8"
             ],
             [
              0.3333333333333333,
              "#9c179e"
             ],
             [
              0.4444444444444444,
              "#bd3786"
             ],
             [
              0.5555555555555556,
              "#d8576b"
             ],
             [
              0.6666666666666666,
              "#ed7953"
             ],
             [
              0.7777777777777778,
              "#fb9f3a"
             ],
             [
              0.8888888888888888,
              "#fdca26"
             ],
             [
              1,
              "#f0f921"
             ]
            ],
            "type": "histogram2d"
           }
          ],
          "histogram2dcontour": [
           {
            "colorbar": {
             "outlinewidth": 0,
             "ticks": ""
            },
            "colorscale": [
             [
              0,
              "#0d0887"
             ],
             [
              0.1111111111111111,
              "#46039f"
             ],
             [
              0.2222222222222222,
              "#7201a8"
             ],
             [
              0.3333333333333333,
              "#9c179e"
             ],
             [
              0.4444444444444444,
              "#bd3786"
             ],
             [
              0.5555555555555556,
              "#d8576b"
             ],
             [
              0.6666666666666666,
              "#ed7953"
             ],
             [
              0.7777777777777778,
              "#fb9f3a"
             ],
             [
              0.8888888888888888,
              "#fdca26"
             ],
             [
              1,
              "#f0f921"
             ]
            ],
            "type": "histogram2dcontour"
           }
          ],
          "mesh3d": [
           {
            "colorbar": {
             "outlinewidth": 0,
             "ticks": ""
            },
            "type": "mesh3d"
           }
          ],
          "parcoords": [
           {
            "line": {
             "colorbar": {
              "outlinewidth": 0,
              "ticks": ""
             }
            },
            "type": "parcoords"
           }
          ],
          "pie": [
           {
            "automargin": true,
            "type": "pie"
           }
          ],
          "scatter": [
           {
            "fillpattern": {
             "fillmode": "overlay",
             "size": 10,
             "solidity": 0.2
            },
            "type": "scatter"
           }
          ],
          "scatter3d": [
           {
            "line": {
             "colorbar": {
              "outlinewidth": 0,
              "ticks": ""
             }
            },
            "marker": {
             "colorbar": {
              "outlinewidth": 0,
              "ticks": ""
             }
            },
            "type": "scatter3d"
           }
          ],
          "scattercarpet": [
           {
            "marker": {
             "colorbar": {
              "outlinewidth": 0,
              "ticks": ""
             }
            },
            "type": "scattercarpet"
           }
          ],
          "scattergeo": [
           {
            "marker": {
             "colorbar": {
              "outlinewidth": 0,
              "ticks": ""
             }
            },
            "type": "scattergeo"
           }
          ],
          "scattergl": [
           {
            "marker": {
             "colorbar": {
              "outlinewidth": 0,
              "ticks": ""
             }
            },
            "type": "scattergl"
           }
          ],
          "scattermapbox": [
           {
            "marker": {
             "colorbar": {
              "outlinewidth": 0,
              "ticks": ""
             }
            },
            "type": "scattermapbox"
           }
          ],
          "scatterpolar": [
           {
            "marker": {
             "colorbar": {
              "outlinewidth": 0,
              "ticks": ""
             }
            },
            "type": "scatterpolar"
           }
          ],
          "scatterpolargl": [
           {
            "marker": {
             "colorbar": {
              "outlinewidth": 0,
              "ticks": ""
             }
            },
            "type": "scatterpolargl"
           }
          ],
          "scatterternary": [
           {
            "marker": {
             "colorbar": {
              "outlinewidth": 0,
              "ticks": ""
             }
            },
            "type": "scatterternary"
           }
          ],
          "surface": [
           {
            "colorbar": {
             "outlinewidth": 0,
             "ticks": ""
            },
            "colorscale": [
             [
              0,
              "#0d0887"
             ],
             [
              0.1111111111111111,
              "#46039f"
             ],
             [
              0.2222222222222222,
              "#7201a8"
             ],
             [
              0.3333333333333333,
              "#9c179e"
             ],
             [
              0.4444444444444444,
              "#bd3786"
             ],
             [
              0.5555555555555556,
              "#d8576b"
             ],
             [
              0.6666666666666666,
              "#ed7953"
             ],
             [
              0.7777777777777778,
              "#fb9f3a"
             ],
             [
              0.8888888888888888,
              "#fdca26"
             ],
             [
              1,
              "#f0f921"
             ]
            ],
            "type": "surface"
           }
          ],
          "table": [
           {
            "cells": {
             "fill": {
              "color": "#EBF0F8"
             },
             "line": {
              "color": "white"
             }
            },
            "header": {
             "fill": {
              "color": "#C8D4E3"
             },
             "line": {
              "color": "white"
             }
            },
            "type": "table"
           }
          ]
         },
         "layout": {
          "annotationdefaults": {
           "arrowcolor": "#2a3f5f",
           "arrowhead": 0,
           "arrowwidth": 1
          },
          "autotypenumbers": "strict",
          "coloraxis": {
           "colorbar": {
            "outlinewidth": 0,
            "ticks": ""
           }
          },
          "colorscale": {
           "diverging": [
            [
             0,
             "#8e0152"
            ],
            [
             0.1,
             "#c51b7d"
            ],
            [
             0.2,
             "#de77ae"
            ],
            [
             0.3,
             "#f1b6da"
            ],
            [
             0.4,
             "#fde0ef"
            ],
            [
             0.5,
             "#f7f7f7"
            ],
            [
             0.6,
             "#e6f5d0"
            ],
            [
             0.7,
             "#b8e186"
            ],
            [
             0.8,
             "#7fbc41"
            ],
            [
             0.9,
             "#4d9221"
            ],
            [
             1,
             "#276419"
            ]
           ],
           "sequential": [
            [
             0,
             "#0d0887"
            ],
            [
             0.1111111111111111,
             "#46039f"
            ],
            [
             0.2222222222222222,
             "#7201a8"
            ],
            [
             0.3333333333333333,
             "#9c179e"
            ],
            [
             0.4444444444444444,
             "#bd3786"
            ],
            [
             0.5555555555555556,
             "#d8576b"
            ],
            [
             0.6666666666666666,
             "#ed7953"
            ],
            [
             0.7777777777777778,
             "#fb9f3a"
            ],
            [
             0.8888888888888888,
             "#fdca26"
            ],
            [
             1,
             "#f0f921"
            ]
           ],
           "sequentialminus": [
            [
             0,
             "#0d0887"
            ],
            [
             0.1111111111111111,
             "#46039f"
            ],
            [
             0.2222222222222222,
             "#7201a8"
            ],
            [
             0.3333333333333333,
             "#9c179e"
            ],
            [
             0.4444444444444444,
             "#bd3786"
            ],
            [
             0.5555555555555556,
             "#d8576b"
            ],
            [
             0.6666666666666666,
             "#ed7953"
            ],
            [
             0.7777777777777778,
             "#fb9f3a"
            ],
            [
             0.8888888888888888,
             "#fdca26"
            ],
            [
             1,
             "#f0f921"
            ]
           ]
          },
          "colorway": [
           "#636efa",
           "#EF553B",
           "#00cc96",
           "#ab63fa",
           "#FFA15A",
           "#19d3f3",
           "#FF6692",
           "#B6E880",
           "#FF97FF",
           "#FECB52"
          ],
          "font": {
           "color": "#2a3f5f"
          },
          "geo": {
           "bgcolor": "white",
           "lakecolor": "white",
           "landcolor": "#E5ECF6",
           "showlakes": true,
           "showland": true,
           "subunitcolor": "white"
          },
          "hoverlabel": {
           "align": "left"
          },
          "hovermode": "closest",
          "mapbox": {
           "style": "light"
          },
          "paper_bgcolor": "white",
          "plot_bgcolor": "#E5ECF6",
          "polar": {
           "angularaxis": {
            "gridcolor": "white",
            "linecolor": "white",
            "ticks": ""
           },
           "bgcolor": "#E5ECF6",
           "radialaxis": {
            "gridcolor": "white",
            "linecolor": "white",
            "ticks": ""
           }
          },
          "scene": {
           "xaxis": {
            "backgroundcolor": "#E5ECF6",
            "gridcolor": "white",
            "gridwidth": 2,
            "linecolor": "white",
            "showbackground": true,
            "ticks": "",
            "zerolinecolor": "white"
           },
           "yaxis": {
            "backgroundcolor": "#E5ECF6",
            "gridcolor": "white",
            "gridwidth": 2,
            "linecolor": "white",
            "showbackground": true,
            "ticks": "",
            "zerolinecolor": "white"
           },
           "zaxis": {
            "backgroundcolor": "#E5ECF6",
            "gridcolor": "white",
            "gridwidth": 2,
            "linecolor": "white",
            "showbackground": true,
            "ticks": "",
            "zerolinecolor": "white"
           }
          },
          "shapedefaults": {
           "line": {
            "color": "#2a3f5f"
           }
          },
          "ternary": {
           "aaxis": {
            "gridcolor": "white",
            "linecolor": "white",
            "ticks": ""
           },
           "baxis": {
            "gridcolor": "white",
            "linecolor": "white",
            "ticks": ""
           },
           "bgcolor": "#E5ECF6",
           "caxis": {
            "gridcolor": "white",
            "linecolor": "white",
            "ticks": ""
           }
          },
          "title": {
           "x": 0.05
          },
          "xaxis": {
           "automargin": true,
           "gridcolor": "white",
           "linecolor": "white",
           "ticks": "",
           "title": {
            "standoff": 15
           },
           "zerolinecolor": "white",
           "zerolinewidth": 2
          },
          "yaxis": {
           "automargin": true,
           "gridcolor": "white",
           "linecolor": "white",
           "ticks": "",
           "title": {
            "standoff": 15
           },
           "zerolinecolor": "white",
           "zerolinewidth": 2
          }
         }
        },
        "title": {
         "text": "UMAP projection of the nELISA data"
        },
        "xaxis": {
         "anchor": "y",
         "domain": [
          0,
          1
         ],
         "title": {
          "text": "UMAP_1"
         }
        },
        "yaxis": {
         "anchor": "x",
         "domain": [
          0,
          1
         ],
         "title": {
          "text": "UMAP_2"
         }
        }
       }
      }
     },
     "metadata": {},
     "output_type": "display_data"
    },
    {
     "data": {
      "application/vnd.plotly.v1+json": {
       "config": {
        "plotlyServerURL": "https://plot.ly"
       },
       "data": [
        {
         "hovertemplate": "Cell Type=PBMC<br>0=%{x}<br>1=%{y}<extra></extra>",
         "legendgroup": "PBMC",
         "marker": {
          "color": "#636efa",
          "size": 15,
          "symbol": "circle"
         },
         "mode": "markers",
         "name": "PBMC",
         "orientation": "v",
         "showlegend": true,
         "type": "scatter",
         "x": [
          -3.687962532043457,
          -4.882904529571533,
          -5.3873701095581055,
          -5.598845481872559,
          17.20330810546875,
          16.272239685058594,
          -3.756937026977539,
          -4.331448554992676,
          -3.937516212463379,
          -5.103899955749512,
          -6.447621822357178,
          -6.080341815948486,
          16.807052612304688,
          16.86621856689453,
          -4.233984470367432,
          -4.532296657562256,
          -4.097911834716797,
          -4.857167720794678,
          -5.033701419830322,
          -5.7296671867370605,
          15.515277862548828,
          15.285822868347168,
          -3.972601890563965,
          -4.211724281311035,
          -4.967307090759277,
          -4.465197563171387,
          18.051668167114258,
          17.017921447753906,
          14.307055473327637,
          14.305522918701172,
          -4.551270008087158,
          -4.219892501831055,
          -3.888209581375122,
          -4.113386154174805,
          17.395708084106445,
          16.009737014770508,
          16.907493591308594,
          16.429054260253906,
          -3.254992961883545,
          -3.644406318664551,
          -3.0161266326904297,
          -3.5137481689453125,
          16.175203323364258,
          16.029251098632812,
          17.356369018554688,
          17.298566818237305,
          -3.91483211517334,
          -3.4234158992767334,
          -3.750929117202759,
          -4.0643205642700195,
          16.7868595123291,
          16.351680755615234,
          17.64978790283203,
          16.648988723754883,
          -3.7458102703094482,
          -3.9789748191833496,
          -5.0452470779418945,
          -5.454463005065918,
          16.866191864013672,
          17.239870071411133,
          16.3061580657959,
          17.158363342285156,
          -5.261898994445801,
          -5.376332759857178,
          -4.7175612449646,
          -4.064737796783447,
          16.23674774169922,
          16.659854888916016,
          17.457704544067383,
          17.570934295654297,
          -4.92073917388916,
          -4.537225246429443,
          -6.186468601226807,
          -5.52493143081665,
          -5.331125259399414,
          -4.953912734985352,
          15.045461654663086,
          15.248623847961426,
          -5.931275844573975,
          -5.802470684051514,
          -5.119765281677246,
          -4.548060417175293,
          -6.747621059417725,
          -6.5059309005737305,
          14.1547212600708,
          13.946745872497559,
          -5.722560405731201,
          -4.567363262176514,
          -4.452260971069336,
          -4.725615501403809,
          -5.722698211669922,
          -6.278070449829102,
          17.770166397094727,
          16.848186492919922,
          -4.998210430145264,
          -5.139200687408447,
          -6.687413215637207,
          -6.202672481536865,
          -2.679844379425049,
          -3.2476038932800293,
          16.58091163635254,
          17.84727668762207,
          -6.410126209259033,
          -6.516445636749268,
          -4.955810546875,
          -4.7831034660339355,
          16.69024658203125,
          17.868112564086914,
          17.81902503967285,
          17.012283325195312,
          -4.640305995941162,
          -4.881181716918945
         ],
         "xaxis": "x",
         "y": [
          13.231569290161133,
          12.26820182800293,
          6.390606880187988,
          6.329418659210205,
          11.056147575378418,
          12.228073120117188,
          12.830180168151855,
          12.348172187805176,
          12.71658706665039,
          12.741615295410156,
          4.615516662597656,
          3.938924551010132,
          10.722800254821777,
          11.677078247070312,
          13.346113204956055,
          12.426502227783203,
          13.19828987121582,
          13.238152503967285,
          3.4810662269592285,
          4.462406158447266,
          12.95932674407959,
          12.36234188079834,
          12.64861011505127,
          13.00307559967041,
          12.372682571411133,
          13.57050609588623,
          11.052007675170898,
          11.495033264160156,
          13.259284973144531,
          13.254496574401855,
          13.003616333007812,
          12.259261131286621,
          11.667879104614258,
          11.253169059753418,
          11.144070625305176,
          11.909796714782715,
          12.617799758911133,
          12.968807220458984,
          10.824650764465332,
          10.627299308776855,
          10.662142753601074,
          10.254265785217285,
          12.022636413574219,
          11.897344589233398,
          11.671113967895508,
          13.187104225158691,
          10.7059907913208,
          10.574342727661133,
          10.187195777893066,
          10.75770092010498,
          11.38830852508545,
          12.892738342285156,
          11.229100227355957,
          12.341209411621094,
          10.076994895935059,
          10.615694046020508,
          -9.24062442779541,
          -9.008039474487305,
          11.709946632385254,
          12.109837532043457,
          12.563314437866211,
          12.810680389404297,
          -9.203835487365723,
          -9.39113712310791,
          13.506817817687988,
          12.991507530212402,
          11.313159942626953,
          11.54820442199707,
          12.563886642456055,
          12.864481925964355,
          12.734880447387695,
          13.135115623474121,
          5.491493225097656,
          4.457849025726318,
          -8.393449783325195,
          -7.9164934158325195,
          12.484012603759766,
          12.923215866088867,
          4.925473690032959,
          4.669235706329346,
          4.542070388793945,
          4.046201705932617,
          12.818466186523438,
          12.702954292297363,
          13.357666015625,
          13.02416706085205,
          4.921872615814209,
          3.8422014713287354,
          4.133285045623779,
          3.607537269592285,
          13.027793884277344,
          13.515942573547363,
          12.07866382598877,
          13.089990615844727,
          4.23348331451416,
          3.638793468475342,
          5.118295669555664,
          5.40506649017334,
          10.235198020935059,
          10.13668155670166,
          12.700875282287598,
          11.723188400268555,
          5.75669002532959,
          5.270377159118652,
          -9.538455963134766,
          -9.761812210083008,
          11.440716743469238,
          11.88837718963623,
          11.048150062561035,
          12.71885871887207,
          -9.923761367797852,
          -9.494626998901367
         ],
         "yaxis": "y"
        },
        {
         "hovertemplate": "Cell Type=SH-SY5Y<br>0=%{x}<br>1=%{y}<extra></extra>",
         "legendgroup": "SH-SY5Y",
         "marker": {
          "color": "#00cc96",
          "size": 15,
          "symbol": "circle"
         },
         "mode": "markers",
         "name": "SH-SY5Y",
         "orientation": "v",
         "showlegend": true,
         "type": "scatter",
         "x": [
          7.967257499694824,
          8.667098999023438,
          9.217321395874023,
          10.606971740722656,
          9.475442886352539,
          8.292841911315918,
          6.086216926574707,
          7.452291488647461,
          6.577023983001709,
          9.295368194580078,
          9.820427894592285,
          8.702296257019043,
          9.384355545043945,
          8.178496360778809,
          10.500235557556152,
          6.493353843688965,
          4.387480735778809,
          5.541252613067627,
          2.907637357711792,
          2.1742398738861084,
          2.847186803817749,
          2.5785419940948486,
          7.730819225311279,
          2.132681131362915,
          6.955603122711182,
          6.5437421798706055,
          7.438661575317383,
          4.876553058624268,
          6.634587287902832,
          5.728804588317871,
          6.944120407104492,
          4.825890064239502,
          5.597534656524658,
          5.446646213531494,
          5.586246490478516,
          6.3034515380859375,
          4.277698516845703,
          6.552910804748535,
          6.08273458480835,
          3.4019315242767334,
          6.194753170013428,
          3.9334633350372314,
          9.09818172454834,
          9.566535949707031,
          8.750504493713379,
          6.786032676696777,
          5.572516441345215,
          6.694706439971924,
          5.017228126525879,
          5.572880744934082,
          7.315222263336182,
          9.79049301147461,
          9.905901908874512,
          10.203622817993164,
          9.551513671875,
          11.21202278137207,
          11.347879409790039,
          9.850028038024902,
          9.095404624938965,
          10.103742599487305,
          4.648273944854736,
          5.562990665435791,
          9.760149955749512,
          12.18005657196045,
          11.318140029907227,
          10.777153968811035,
          9.146050453186035,
          10.025927543640137,
          6.475969314575195,
          4.9882025718688965,
          4.549920082092285,
          8.678062438964844,
          10.38248348236084,
          8.38416862487793,
          10.107681274414062,
          8.331348419189453,
          9.060296058654785,
          7.274162292480469,
          6.990810871124268,
          7.55849552154541,
          11.29859447479248,
          11.91047477722168,
          10.840147018432617,
          10.313243865966797,
          8.71844482421875,
          10.678403854370117,
          5.962642192840576,
          6.365667819976807,
          5.221455097198486,
          2.5352485179901123,
          2.037674903869629,
          1.8702622652053833,
          1.930349588394165,
          2.713317394256592,
          2.6479573249816895,
          8.57917594909668,
          8.018762588500977,
          7.985170364379883,
          6.947664260864258,
          5.6161627769470215,
          6.058019638061523,
          7.1037516593933105,
          3.7287371158599854,
          5.272268295288086,
          4.372406005859375,
          6.885627269744873,
          4.825464248657227,
          4.675320625305176,
          3.917107343673706,
          4.799153804779053,
          5.899075984954834,
          5.427769184112549,
          6.224707126617432,
          8.965951919555664,
          9.937507629394531,
          9.449623107910156,
          6.409708499908447,
          6.311463356018066,
          6.886203765869141,
          4.64872407913208,
          5.265883445739746,
          10.22561264038086,
          11.809409141540527,
          10.510457992553711,
          10.422066688537598,
          10.751153945922852,
          10.907453536987305,
          10.52650260925293,
          10.906706809997559,
          10.845563888549805,
          3.3649301528930664,
          7.002905368804932,
          3.647770404815674,
          11.891490936279297,
          11.999553680419922,
          11.60719108581543,
          11.542624473571777,
          9.84051513671875,
          12.169614791870117,
          4.086435794830322,
          6.46942663192749,
          5.489704608917236
         ],
         "xaxis": "x",
         "y": [
          -4.137353420257568,
          -4.6205058097839355,
          -5.423543453216553,
          -4.821702480316162,
          -3.673625946044922,
          -3.648200511932373,
          10.166540145874023,
          9.338455200195312,
          10.082904815673828,
          -5.464734077453613,
          -4.997711181640625,
          -5.153698921203613,
          -5.521886348724365,
          -2.9392507076263428,
          -3.844423770904541,
          9.180733680725098,
          6.51234769821167,
          8.572320938110352,
          16.190549850463867,
          16.062305450439453,
          16.19134521484375,
          16.816303253173828,
          9.527454376220703,
          16.62334632873535,
          8.955863952636719,
          8.571720123291016,
          8.580066680908203,
          7.849174976348877,
          6.002909183502197,
          6.231263637542725,
          6.351091384887695,
          8.505019187927246,
          6.8062214851379395,
          7.840301036834717,
          6.017199993133545,
          8.641451835632324,
          8.690866470336914,
          6.796563148498535,
          6.869816780090332,
          8.46020221710205,
          9.205411911010742,
          9.156193733215332,
          0.496383398771286,
          -0.0974351093173027,
          0.011704315431416035,
          7.221719264984131,
          5.870121955871582,
          5.754433631896973,
          6.459050178527832,
          8.66660213470459,
          6.254349708557129,
          -3.491608142852783,
          -2.9015066623687744,
          -2.035979986190796,
          -4.090927600860596,
          -5.115167140960693,
          -4.031737327575684,
          -4.422896385192871,
          -2.3354594707489014,
          -2.0498015880584717,
          10.488364219665527,
          8.976296424865723,
          -5.390261650085449,
          -4.365828514099121,
          -5.081453800201416,
          -5.19942569732666,
          -3.3914732933044434,
          -5.318063735961914,
          7.886003017425537,
          7.587412357330322,
          7.535746097564697,
          -4.221093654632568,
          -4.957446098327637,
          -3.5334227085113525,
          -4.311213970184326,
          -4.097111225128174,
          -3.8150711059570312,
          10.129014015197754,
          9.243193626403809,
          10.085003852844238,
          -3.0518696308135986,
          -4.122028350830078,
          -5.67325496673584,
          -4.625550270080566,
          -3.288860321044922,
          -5.676302433013916,
          9.716776847839355,
          6.5803751945495605,
          8.649577140808105,
          15.942286491394043,
          15.700716018676758,
          15.749996185302734,
          16.960451126098633,
          16.457233428955078,
          16.051149368286133,
          9.231188774108887,
          8.303853034973145,
          9.196075439453125,
          6.179510116577148,
          6.323294162750244,
          5.426693916320801,
          5.37288236618042,
          9.762635231018066,
          7.557502269744873,
          8.920708656311035,
          8.52426528930664,
          6.9392499923706055,
          7.850134372711182,
          6.924496173858643,
          6.73998498916626,
          6.162003517150879,
          10.396842956542969,
          9.56854248046875,
          -0.3069263696670532,
          -0.8970322012901306,
          0.14624452590942383,
          5.69746208190918,
          6.298270225524902,
          5.037044525146484,
          5.512519359588623,
          6.524051189422607,
          -2.7854578495025635,
          -2.5278730392456055,
          -2.4656074047088623,
          -3.969740629196167,
          -3.4691758155822754,
          -3.216315269470215,
          -3.8463492393493652,
          -3.3248276710510254,
          -3.993149518966675,
          7.759503364562988,
          5.958212852478027,
          7.221266746520996,
          -5.0246195793151855,
          -5.37493896484375,
          -5.494024753570557,
          -5.249539375305176,
          -4.2970194816589355,
          -4.852758407592773,
          7.397472858428955,
          4.9849748611450195,
          7.6077117919921875
         ],
         "yaxis": "y"
        }
       ],
       "layout": {
        "legend": {
         "title": {
          "text": "Cell Type"
         },
         "tracegroupgap": 0
        },
        "template": {
         "data": {
          "bar": [
           {
            "error_x": {
             "color": "#2a3f5f"
            },
            "error_y": {
             "color": "#2a3f5f"
            },
            "marker": {
             "line": {
              "color": "#E5ECF6",
              "width": 0.5
             },
             "pattern": {
              "fillmode": "overlay",
              "size": 10,
              "solidity": 0.2
             }
            },
            "type": "bar"
           }
          ],
          "barpolar": [
           {
            "marker": {
             "line": {
              "color": "#E5ECF6",
              "width": 0.5
             },
             "pattern": {
              "fillmode": "overlay",
              "size": 10,
              "solidity": 0.2
             }
            },
            "type": "barpolar"
           }
          ],
          "carpet": [
           {
            "aaxis": {
             "endlinecolor": "#2a3f5f",
             "gridcolor": "white",
             "linecolor": "white",
             "minorgridcolor": "white",
             "startlinecolor": "#2a3f5f"
            },
            "baxis": {
             "endlinecolor": "#2a3f5f",
             "gridcolor": "white",
             "linecolor": "white",
             "minorgridcolor": "white",
             "startlinecolor": "#2a3f5f"
            },
            "type": "carpet"
           }
          ],
          "choropleth": [
           {
            "colorbar": {
             "outlinewidth": 0,
             "ticks": ""
            },
            "type": "choropleth"
           }
          ],
          "contour": [
           {
            "colorbar": {
             "outlinewidth": 0,
             "ticks": ""
            },
            "colorscale": [
             [
              0,
              "#0d0887"
             ],
             [
              0.1111111111111111,
              "#46039f"
             ],
             [
              0.2222222222222222,
              "#7201a8"
             ],
             [
              0.3333333333333333,
              "#9c179e"
             ],
             [
              0.4444444444444444,
              "#bd3786"
             ],
             [
              0.5555555555555556,
              "#d8576b"
             ],
             [
              0.6666666666666666,
              "#ed7953"
             ],
             [
              0.7777777777777778,
              "#fb9f3a"
             ],
             [
              0.8888888888888888,
              "#fdca26"
             ],
             [
              1,
              "#f0f921"
             ]
            ],
            "type": "contour"
           }
          ],
          "contourcarpet": [
           {
            "colorbar": {
             "outlinewidth": 0,
             "ticks": ""
            },
            "type": "contourcarpet"
           }
          ],
          "heatmap": [
           {
            "colorbar": {
             "outlinewidth": 0,
             "ticks": ""
            },
            "colorscale": [
             [
              0,
              "#0d0887"
             ],
             [
              0.1111111111111111,
              "#46039f"
             ],
             [
              0.2222222222222222,
              "#7201a8"
             ],
             [
              0.3333333333333333,
              "#9c179e"
             ],
             [
              0.4444444444444444,
              "#bd3786"
             ],
             [
              0.5555555555555556,
              "#d8576b"
             ],
             [
              0.6666666666666666,
              "#ed7953"
             ],
             [
              0.7777777777777778,
              "#fb9f3a"
             ],
             [
              0.8888888888888888,
              "#fdca26"
             ],
             [
              1,
              "#f0f921"
             ]
            ],
            "type": "heatmap"
           }
          ],
          "heatmapgl": [
           {
            "colorbar": {
             "outlinewidth": 0,
             "ticks": ""
            },
            "colorscale": [
             [
              0,
              "#0d0887"
             ],
             [
              0.1111111111111111,
              "#46039f"
             ],
             [
              0.2222222222222222,
              "#7201a8"
             ],
             [
              0.3333333333333333,
              "#9c179e"
             ],
             [
              0.4444444444444444,
              "#bd3786"
             ],
             [
              0.5555555555555556,
              "#d8576b"
             ],
             [
              0.6666666666666666,
              "#ed7953"
             ],
             [
              0.7777777777777778,
              "#fb9f3a"
             ],
             [
              0.8888888888888888,
              "#fdca26"
             ],
             [
              1,
              "#f0f921"
             ]
            ],
            "type": "heatmapgl"
           }
          ],
          "histogram": [
           {
            "marker": {
             "pattern": {
              "fillmode": "overlay",
              "size": 10,
              "solidity": 0.2
             }
            },
            "type": "histogram"
           }
          ],
          "histogram2d": [
           {
            "colorbar": {
             "outlinewidth": 0,
             "ticks": ""
            },
            "colorscale": [
             [
              0,
              "#0d0887"
             ],
             [
              0.1111111111111111,
              "#46039f"
             ],
             [
              0.2222222222222222,
              "#7201a8"
             ],
             [
              0.3333333333333333,
              "#9c179e"
             ],
             [
              0.4444444444444444,
              "#bd3786"
             ],
             [
              0.5555555555555556,
              "#d8576b"
             ],
             [
              0.6666666666666666,
              "#ed7953"
             ],
             [
              0.7777777777777778,
              "#fb9f3a"
             ],
             [
              0.8888888888888888,
              "#fdca26"
             ],
             [
              1,
              "#f0f921"
             ]
            ],
            "type": "histogram2d"
           }
          ],
          "histogram2dcontour": [
           {
            "colorbar": {
             "outlinewidth": 0,
             "ticks": ""
            },
            "colorscale": [
             [
              0,
              "#0d0887"
             ],
             [
              0.1111111111111111,
              "#46039f"
             ],
             [
              0.2222222222222222,
              "#7201a8"
             ],
             [
              0.3333333333333333,
              "#9c179e"
             ],
             [
              0.4444444444444444,
              "#bd3786"
             ],
             [
              0.5555555555555556,
              "#d8576b"
             ],
             [
              0.6666666666666666,
              "#ed7953"
             ],
             [
              0.7777777777777778,
              "#fb9f3a"
             ],
             [
              0.8888888888888888,
              "#fdca26"
             ],
             [
              1,
              "#f0f921"
             ]
            ],
            "type": "histogram2dcontour"
           }
          ],
          "mesh3d": [
           {
            "colorbar": {
             "outlinewidth": 0,
             "ticks": ""
            },
            "type": "mesh3d"
           }
          ],
          "parcoords": [
           {
            "line": {
             "colorbar": {
              "outlinewidth": 0,
              "ticks": ""
             }
            },
            "type": "parcoords"
           }
          ],
          "pie": [
           {
            "automargin": true,
            "type": "pie"
           }
          ],
          "scatter": [
           {
            "fillpattern": {
             "fillmode": "overlay",
             "size": 10,
             "solidity": 0.2
            },
            "type": "scatter"
           }
          ],
          "scatter3d": [
           {
            "line": {
             "colorbar": {
              "outlinewidth": 0,
              "ticks": ""
             }
            },
            "marker": {
             "colorbar": {
              "outlinewidth": 0,
              "ticks": ""
             }
            },
            "type": "scatter3d"
           }
          ],
          "scattercarpet": [
           {
            "marker": {
             "colorbar": {
              "outlinewidth": 0,
              "ticks": ""
             }
            },
            "type": "scattercarpet"
           }
          ],
          "scattergeo": [
           {
            "marker": {
             "colorbar": {
              "outlinewidth": 0,
              "ticks": ""
             }
            },
            "type": "scattergeo"
           }
          ],
          "scattergl": [
           {
            "marker": {
             "colorbar": {
              "outlinewidth": 0,
              "ticks": ""
             }
            },
            "type": "scattergl"
           }
          ],
          "scattermapbox": [
           {
            "marker": {
             "colorbar": {
              "outlinewidth": 0,
              "ticks": ""
             }
            },
            "type": "scattermapbox"
           }
          ],
          "scatterpolar": [
           {
            "marker": {
             "colorbar": {
              "outlinewidth": 0,
              "ticks": ""
             }
            },
            "type": "scatterpolar"
           }
          ],
          "scatterpolargl": [
           {
            "marker": {
             "colorbar": {
              "outlinewidth": 0,
              "ticks": ""
             }
            },
            "type": "scatterpolargl"
           }
          ],
          "scatterternary": [
           {
            "marker": {
             "colorbar": {
              "outlinewidth": 0,
              "ticks": ""
             }
            },
            "type": "scatterternary"
           }
          ],
          "surface": [
           {
            "colorbar": {
             "outlinewidth": 0,
             "ticks": ""
            },
            "colorscale": [
             [
              0,
              "#0d0887"
             ],
             [
              0.1111111111111111,
              "#46039f"
             ],
             [
              0.2222222222222222,
              "#7201a8"
             ],
             [
              0.3333333333333333,
              "#9c179e"
             ],
             [
              0.4444444444444444,
              "#bd3786"
             ],
             [
              0.5555555555555556,
              "#d8576b"
             ],
             [
              0.6666666666666666,
              "#ed7953"
             ],
             [
              0.7777777777777778,
              "#fb9f3a"
             ],
             [
              0.8888888888888888,
              "#fdca26"
             ],
             [
              1,
              "#f0f921"
             ]
            ],
            "type": "surface"
           }
          ],
          "table": [
           {
            "cells": {
             "fill": {
              "color": "#EBF0F8"
             },
             "line": {
              "color": "white"
             }
            },
            "header": {
             "fill": {
              "color": "#C8D4E3"
             },
             "line": {
              "color": "white"
             }
            },
            "type": "table"
           }
          ]
         },
         "layout": {
          "annotationdefaults": {
           "arrowcolor": "#2a3f5f",
           "arrowhead": 0,
           "arrowwidth": 1
          },
          "autotypenumbers": "strict",
          "coloraxis": {
           "colorbar": {
            "outlinewidth": 0,
            "ticks": ""
           }
          },
          "colorscale": {
           "diverging": [
            [
             0,
             "#8e0152"
            ],
            [
             0.1,
             "#c51b7d"
            ],
            [
             0.2,
             "#de77ae"
            ],
            [
             0.3,
             "#f1b6da"
            ],
            [
             0.4,
             "#fde0ef"
            ],
            [
             0.5,
             "#f7f7f7"
            ],
            [
             0.6,
             "#e6f5d0"
            ],
            [
             0.7,
             "#b8e186"
            ],
            [
             0.8,
             "#7fbc41"
            ],
            [
             0.9,
             "#4d9221"
            ],
            [
             1,
             "#276419"
            ]
           ],
           "sequential": [
            [
             0,
             "#0d0887"
            ],
            [
             0.1111111111111111,
             "#46039f"
            ],
            [
             0.2222222222222222,
             "#7201a8"
            ],
            [
             0.3333333333333333,
             "#9c179e"
            ],
            [
             0.4444444444444444,
             "#bd3786"
            ],
            [
             0.5555555555555556,
             "#d8576b"
            ],
            [
             0.6666666666666666,
             "#ed7953"
            ],
            [
             0.7777777777777778,
             "#fb9f3a"
            ],
            [
             0.8888888888888888,
             "#fdca26"
            ],
            [
             1,
             "#f0f921"
            ]
           ],
           "sequentialminus": [
            [
             0,
             "#0d0887"
            ],
            [
             0.1111111111111111,
             "#46039f"
            ],
            [
             0.2222222222222222,
             "#7201a8"
            ],
            [
             0.3333333333333333,
             "#9c179e"
            ],
            [
             0.4444444444444444,
             "#bd3786"
            ],
            [
             0.5555555555555556,
             "#d8576b"
            ],
            [
             0.6666666666666666,
             "#ed7953"
            ],
            [
             0.7777777777777778,
             "#fb9f3a"
            ],
            [
             0.8888888888888888,
             "#fdca26"
            ],
            [
             1,
             "#f0f921"
            ]
           ]
          },
          "colorway": [
           "#636efa",
           "#EF553B",
           "#00cc96",
           "#ab63fa",
           "#FFA15A",
           "#19d3f3",
           "#FF6692",
           "#B6E880",
           "#FF97FF",
           "#FECB52"
          ],
          "font": {
           "color": "#2a3f5f"
          },
          "geo": {
           "bgcolor": "white",
           "lakecolor": "white",
           "landcolor": "#E5ECF6",
           "showlakes": true,
           "showland": true,
           "subunitcolor": "white"
          },
          "hoverlabel": {
           "align": "left"
          },
          "hovermode": "closest",
          "mapbox": {
           "style": "light"
          },
          "paper_bgcolor": "white",
          "plot_bgcolor": "#E5ECF6",
          "polar": {
           "angularaxis": {
            "gridcolor": "white",
            "linecolor": "white",
            "ticks": ""
           },
           "bgcolor": "#E5ECF6",
           "radialaxis": {
            "gridcolor": "white",
            "linecolor": "white",
            "ticks": ""
           }
          },
          "scene": {
           "xaxis": {
            "backgroundcolor": "#E5ECF6",
            "gridcolor": "white",
            "gridwidth": 2,
            "linecolor": "white",
            "showbackground": true,
            "ticks": "",
            "zerolinecolor": "white"
           },
           "yaxis": {
            "backgroundcolor": "#E5ECF6",
            "gridcolor": "white",
            "gridwidth": 2,
            "linecolor": "white",
            "showbackground": true,
            "ticks": "",
            "zerolinecolor": "white"
           },
           "zaxis": {
            "backgroundcolor": "#E5ECF6",
            "gridcolor": "white",
            "gridwidth": 2,
            "linecolor": "white",
            "showbackground": true,
            "ticks": "",
            "zerolinecolor": "white"
           }
          },
          "shapedefaults": {
           "line": {
            "color": "#2a3f5f"
           }
          },
          "ternary": {
           "aaxis": {
            "gridcolor": "white",
            "linecolor": "white",
            "ticks": ""
           },
           "baxis": {
            "gridcolor": "white",
            "linecolor": "white",
            "ticks": ""
           },
           "bgcolor": "#E5ECF6",
           "caxis": {
            "gridcolor": "white",
            "linecolor": "white",
            "ticks": ""
           }
          },
          "title": {
           "x": 0.05
          },
          "xaxis": {
           "automargin": true,
           "gridcolor": "white",
           "linecolor": "white",
           "ticks": "",
           "title": {
            "standoff": 15
           },
           "zerolinecolor": "white",
           "zerolinewidth": 2
          },
          "yaxis": {
           "automargin": true,
           "gridcolor": "white",
           "linecolor": "white",
           "ticks": "",
           "title": {
            "standoff": 15
           },
           "zerolinecolor": "white",
           "zerolinewidth": 2
          }
         }
        },
        "title": {
         "text": "UMAP projection of the nELISA data"
        },
        "xaxis": {
         "anchor": "y",
         "domain": [
          0,
          1
         ],
         "title": {
          "text": "UMAP_1"
         }
        },
        "yaxis": {
         "anchor": "x",
         "domain": [
          0,
          1
         ],
         "title": {
          "text": "UMAP_2"
         }
        }
       }
      }
     },
     "metadata": {},
     "output_type": "display_data"
    },
    {
     "data": {
      "application/vnd.plotly.v1+json": {
       "config": {
        "plotlyServerURL": "https://plot.ly"
       },
       "data": [
        {
         "hovertemplate": "Cell Type=PBMC<br>0=%{x}<br>1=%{y}<extra></extra>",
         "legendgroup": "PBMC",
         "marker": {
          "color": "#636efa",
          "size": 15,
          "symbol": "circle"
         },
         "mode": "markers",
         "name": "PBMC",
         "orientation": "v",
         "showlegend": true,
         "type": "scatter",
         "x": [
          14.156134605407715,
          14.416885375976562,
          -7.144021034240723,
          -7.212542533874512,
          -7.850261688232422,
          -6.745863914489746,
          13.817695617675781,
          13.913931846618652,
          14.017043113708496,
          13.672472953796387,
          -8.658946990966797,
          -9.234274864196777,
          -6.754822731018066,
          -7.085513591766357,
          13.374293327331543,
          14.361124992370605,
          13.3985013961792,
          13.192282676696777,
          -9.644217491149902,
          -9.486466407775879,
          -5.0608601570129395,
          -5.6198859214782715,
          14.563239097595215,
          14.0499267578125,
          13.343308448791504,
          13.953819274902344,
          -6.577444076538086,
          -7.025887489318848,
          -4.401461124420166,
          -4.135735034942627,
          13.571812629699707,
          14.073436737060547,
          12.83216381072998,
          12.557951927185059,
          -6.585131645202637,
          -7.414933204650879,
          -8.04576301574707,
          -8.709846496582031,
          11.839781761169434,
          11.952275276184082,
          10.848711013793945,
          10.997982025146484,
          -8.12759017944336,
          -7.669743061065674,
          -7.663320541381836,
          -8.972335815429688,
          11.660561561584473,
          11.28161334991455,
          11.418930053710938,
          11.406444549560547,
          -6.351322650909424,
          -7.656346321105957,
          -7.0355143547058105,
          -8.161434173583984,
          11.347794532775879,
          11.051896095275879,
          -9.649840354919434,
          -9.776894569396973,
          -7.312699794769287,
          -8.478334426879883,
          -8.944706916809082,
          -8.891070365905762,
          -9.471441268920898,
          -9.794123649597168,
          13.046228408813477,
          13.417725563049316,
          -8.846436500549316,
          -7.719358444213867,
          -7.754746913909912,
          -8.19862174987793,
          13.059597969055176,
          13.566513061523438,
          -8.190303802490234,
          -9.414022445678711,
          -9.017982482910156,
          -8.783560752868652,
          -5.3497138023376465,
          -5.168230056762695,
          -9.052996635437012,
          -9.061667442321777,
          -10.032614707946777,
          -10.252042770385742,
          13.199197769165039,
          13.166468620300293,
          -4.238272190093994,
          -3.993145227432251,
          -9.37542724609375,
          -9.941315650939941,
          -10.0233793258667,
          -10.324490547180176,
          13.321650505065918,
          13.680578231811523,
          -8.409856796264648,
          -8.46739673614502,
          -9.75385856628418,
          -9.839612007141113,
          -7.96946907043457,
          -8.555765151977539,
          11.691643714904785,
          11.610234260559082,
          -7.913135051727295,
          -6.74049186706543,
          -7.976089954376221,
          -8.351517677307129,
          -10.351954460144043,
          -10.075496673583984,
          -6.999101638793945,
          -8.368528366088867,
          -6.313923358917236,
          -8.07872486114502,
          -10.300389289855957,
          -9.889850616455078
         ],
         "xaxis": "x",
         "y": [
          14.729131698608398,
          15.512099266052246,
          1.1652922630310059,
          0.8347232937812805,
          12.205138206481934,
          11.647909164428711,
          15.26995849609375,
          15.625152587890625,
          16.009702682495117,
          15.971776008605957,
          0.3198508024215698,
          0.7860763669013977,
          11.618513107299805,
          11.233838081359863,
          15.83260726928711,
          15.70372200012207,
          14.944247245788574,
          15.344481468200684,
          0.36819812655448914,
          0.9684139490127563,
          12.571039199829102,
          12.359782218933105,
          15.364458084106445,
          15.289347648620605,
          15.45063304901123,
          14.890283584594727,
          10.849286079406738,
          10.702607154846191,
          12.627092361450195,
          12.845956802368164,
          15.066636085510254,
          15.800311088562012,
          14.809250831604004,
          15.032116889953613,
          12.295930862426758,
          11.100431442260742,
          10.633687019348145,
          11.427213668823242,
          14.422332763671875,
          14.554299354553223,
          14.520625114440918,
          14.792830467224121,
          10.58491039276123,
          10.726014137268066,
          11.43337631225586,
          11.263226509094238,
          14.685690879821777,
          15.089316368103027,
          14.029354095458984,
          14.572590827941895,
          12.239665985107422,
          11.664167404174805,
          11.846205711364746,
          11.181831359863281,
          14.629864692687988,
          14.691378593444824,
          -2.5736660957336426,
          -3.2466812133789062,
          11.87168025970459,
          11.293598175048828,
          11.20106029510498,
          11.781525611877441,
          -2.892045736312866,
          -3.1734914779663086,
          15.078749656677246,
          15.278675079345703,
          10.40369987487793,
          11.401106834411621,
          11.97508430480957,
          11.365431785583496,
          15.87818431854248,
          15.401117324829102,
          -0.22845244407653809,
          0.21374616026878357,
          -2.611619472503662,
          -3.455610752105713,
          12.866598129272461,
          12.815951347351074,
          -0.5796637535095215,
          0.9469337463378906,
          -0.3137091398239136,
          -0.23758670687675476,
          17.243932723999023,
          17.60318946838379,
          12.835082054138184,
          12.701729774475098,
          -0.13937926292419434,
          0.11976652592420578,
          0.0554414726793766,
          0.10611917823553085,
          16.63355255126953,
          16.66953468322754,
          12.181005477905273,
          11.53071403503418,
          -0.47599950432777405,
          0.38307905197143555,
          0.22258511185646057,
          -0.6626836657524109,
          15.593246459960938,
          15.251016616821289,
          11.751739501953125,
          11.522232055664062,
          -0.3524046242237091,
          -0.5656196475028992,
          -2.3946616649627686,
          -2.4537734985351562,
          11.413236618041992,
          11.482770919799805,
          11.089131355285645,
          11.02049446105957,
          -2.0631556510925293,
          -2.042586326599121
         ],
         "yaxis": "y"
        },
        {
         "hovertemplate": "Cell Type=SH-SY5Y<br>0=%{x}<br>1=%{y}<extra></extra>",
         "legendgroup": "SH-SY5Y",
         "marker": {
          "color": "#00cc96",
          "size": 15,
          "symbol": "circle"
         },
         "mode": "markers",
         "name": "SH-SY5Y",
         "orientation": "v",
         "showlegend": true,
         "type": "scatter",
         "x": [
          1.6164295673370361,
          2.065156936645508,
          2.990612506866455,
          2.9878296852111816,
          2.9686191082000732,
          3.1431705951690674,
          1.242494821548462,
          3.0588738918304443,
          2.199517250061035,
          2.278707265853882,
          4.421726703643799,
          2.8877196311950684,
          2.662040948867798,
          2.9275195598602295,
          2.6684324741363525,
          1.2910897731781006,
          2.3275833129882812,
          1.3283473253250122,
          6.995685577392578,
          6.951780796051025,
          7.448603630065918,
          6.972288608551025,
          3.513606548309326,
          7.076125144958496,
          1.44346284866333,
          0.7287148833274841,
          2.634161949157715,
          1.4707316160202026,
          1.3006982803344727,
          0.6132108569145203,
          2.772064447402954,
          1.76728093624115,
          1.4927204847335815,
          -0.3479475677013397,
          0.7687733173370361,
          0.9363641738891602,
          0.5939508080482483,
          1.1567414999008179,
          2.317248582839966,
          2.44779372215271,
          1.4421015977859497,
          1.8624255657196045,
          4.469472885131836,
          4.230578422546387,
          4.055319786071777,
          1.2669461965560913,
          1.7010623216629028,
          1.478968858718872,
          2.502316474914551,
          1.1407543420791626,
          1.2680455446243286,
          2.271928548812866,
          3.360260009765625,
          0.727303683757782,
          2.5946171283721924,
          4.683226585388184,
          2.4615437984466553,
          2.5906732082366943,
          0.9114360213279724,
          0.8393809795379639,
          0.7456846833229065,
          1.543251395225525,
          2.2433292865753174,
          4.206379413604736,
          4.207518577575684,
          4.365529537200928,
          2.945284366607666,
          1.7274209260940552,
          0.010055377148091793,
          0.43793290853500366,
          1.2340295314788818,
          2.3355894088745117,
          2.651893377304077,
          1.845482349395752,
          3.279283285140991,
          1.7244514226913452,
          1.4542053937911987,
          3.867110252380371,
          3.216120481491089,
          3.656423568725586,
          3.7971584796905518,
          4.219394207000732,
          4.7804856300354,
          3.7803945541381836,
          2.234593629837036,
          2.57030987739563,
          1.7369537353515625,
          -0.1799887716770172,
          -0.18747688829898834,
          7.531796455383301,
          6.810715198516846,
          6.6716203689575195,
          6.364851951599121,
          7.215627670288086,
          7.182643890380859,
          3.1999166011810303,
          2.3552772998809814,
          2.887194871902466,
          3.806429147720337,
          2.446453332901001,
          1.346085548400879,
          2.3652195930480957,
          0.022683575749397278,
          1.9306567907333374,
          1.8708394765853882,
          1.8707927465438843,
          2.099174976348877,
          -0.11756691336631775,
          1.2450257539749146,
          1.884886622428894,
          2.9523847103118896,
          1.4359911680221558,
          1.5423696041107178,
          4.252010345458984,
          5.237555503845215,
          3.758882999420166,
          3.892911195755005,
          3.0937325954437256,
          4.243129253387451,
          2.070139169692993,
          2.196545362472534,
          1.3227800130844116,
          3.9026143550872803,
          2.7986414432525635,
          3.7277305126190186,
          4.020013809204102,
          4.09406852722168,
          3.673442840576172,
          2.2535459995269775,
          2.3421902656555176,
          1.7166402339935303,
          1.2812950611114502,
          2.9711995124816895,
          4.1782331466674805,
          5.126068115234375,
          4.727924823760986,
          5.007360935211182,
          3.187633991241455,
          4.505458354949951,
          1.4632689952850342,
          4.727498531341553,
          3.3720624446868896
         ],
         "xaxis": "x",
         "y": [
          10.186968803405762,
          10.107833862304688,
          9.596884727478027,
          9.130186080932617,
          10.846086502075195,
          10.07131576538086,
          0.3880242109298706,
          0.37172359228134155,
          0.0661582425236702,
          9.827589988708496,
          8.997040748596191,
          8.589576721191406,
          8.111635208129883,
          -0.45170915126800537,
          6.882933616638184,
          -0.14854800701141357,
          2.3883700370788574,
          0.2376287579536438,
          6.31786584854126,
          7.312009334564209,
          6.510253429412842,
          6.887304306030273,
          -1.109920859336853,
          6.775088310241699,
          -0.3806345462799072,
          1.5025136470794678,
          -0.7529433965682983,
          3.54655122756958,
          3.386029005050659,
          3.5160481929779053,
          3.7956483364105225,
          -0.23315782845020294,
          2.737165689468384,
          2.443807363510132,
          3.7351179122924805,
          0.9760568141937256,
          -0.8256414532661438,
          3.474483013153076,
          2.666487216949463,
          0.7949257493019104,
          0.5860079526901245,
          0.07256121188402176,
          -0.553129255771637,
          -1.7001360654830933,
          -1.2393300533294678,
          3.052950143814087,
          2.5969724655151367,
          3.057736396789551,
          4.144139289855957,
          -0.6142409443855286,
          3.592148780822754,
          9.931921005249023,
          10.98406982421875,
          9.758073806762695,
          10.038186073303223,
          7.925614833831787,
          8.315032005310059,
          8.964011192321777,
          9.904241561889648,
          9.094740867614746,
          -0.29686790704727173,
          0.06476251035928726,
          8.982096672058105,
          3.533250093460083,
          9.141214370727539,
          9.84251594543457,
          11.264324188232422,
          9.435406684875488,
          1.6376805305480957,
          1.6376891136169434,
          0.9637247323989868,
          9.88769817352295,
          7.90308952331543,
          8.191651344299316,
          8.366086959838867,
          10.484749794006348,
          9.635801315307617,
          0.5826437473297119,
          0.6632245182991028,
          0.4817034900188446,
          7.7472968101501465,
          8.046167373657227,
          9.365961074829102,
          6.966831207275391,
          11.168190002441406,
          9.71253776550293,
          0.18259605765342712,
          2.2365572452545166,
          1.3381223678588867,
          6.641551494598389,
          5.988006114959717,
          7.411367416381836,
          7.325864791870117,
          7.067153453826904,
          7.1254472732543945,
          -1.0880588293075562,
          -1.464172124862671,
          -1.4424259662628174,
          4.1635637283325195,
          2.7950170040130615,
          4.041295528411865,
          4.677547931671143,
          -0.803242027759552,
          1.586445689201355,
          -0.7561741471290588,
          -0.6161331534385681,
          1.7069109678268433,
          0.07129231095314026,
          4.89935827255249,
          2.1056129932403564,
          3.8337581157684326,
          -0.51795494556427,
          0.5098327994346619,
          -2.1193385124206543,
          -1.2716684341430664,
          -1.5665006637573242,
          5.28975248336792,
          5.924980163574219,
          4.974607467651367,
          4.5200066566467285,
          3.979689359664917,
          8.68233871459961,
          7.5341620445251465,
          10.755722045898438,
          8.344955444335938,
          7.465600490570068,
          7.217602252960205,
          8.03393840789795,
          9.340920448303223,
          8.661067008972168,
          0.6794344782829285,
          4.342021942138672,
          1.766038417816162,
          8.430562973022461,
          8.356245040893555,
          8.619190216064453,
          7.431455612182617,
          9.26663589477539,
          7.266633987426758,
          5.1036505699157715,
          5.95358419418335,
          3.0816285610198975
         ],
         "yaxis": "y"
        }
       ],
       "layout": {
        "legend": {
         "title": {
          "text": "Cell Type"
         },
         "tracegroupgap": 0
        },
        "template": {
         "data": {
          "bar": [
           {
            "error_x": {
             "color": "#2a3f5f"
            },
            "error_y": {
             "color": "#2a3f5f"
            },
            "marker": {
             "line": {
              "color": "#E5ECF6",
              "width": 0.5
             },
             "pattern": {
              "fillmode": "overlay",
              "size": 10,
              "solidity": 0.2
             }
            },
            "type": "bar"
           }
          ],
          "barpolar": [
           {
            "marker": {
             "line": {
              "color": "#E5ECF6",
              "width": 0.5
             },
             "pattern": {
              "fillmode": "overlay",
              "size": 10,
              "solidity": 0.2
             }
            },
            "type": "barpolar"
           }
          ],
          "carpet": [
           {
            "aaxis": {
             "endlinecolor": "#2a3f5f",
             "gridcolor": "white",
             "linecolor": "white",
             "minorgridcolor": "white",
             "startlinecolor": "#2a3f5f"
            },
            "baxis": {
             "endlinecolor": "#2a3f5f",
             "gridcolor": "white",
             "linecolor": "white",
             "minorgridcolor": "white",
             "startlinecolor": "#2a3f5f"
            },
            "type": "carpet"
           }
          ],
          "choropleth": [
           {
            "colorbar": {
             "outlinewidth": 0,
             "ticks": ""
            },
            "type": "choropleth"
           }
          ],
          "contour": [
           {
            "colorbar": {
             "outlinewidth": 0,
             "ticks": ""
            },
            "colorscale": [
             [
              0,
              "#0d0887"
             ],
             [
              0.1111111111111111,
              "#46039f"
             ],
             [
              0.2222222222222222,
              "#7201a8"
             ],
             [
              0.3333333333333333,
              "#9c179e"
             ],
             [
              0.4444444444444444,
              "#bd3786"
             ],
             [
              0.5555555555555556,
              "#d8576b"
             ],
             [
              0.6666666666666666,
              "#ed7953"
             ],
             [
              0.7777777777777778,
              "#fb9f3a"
             ],
             [
              0.8888888888888888,
              "#fdca26"
             ],
             [
              1,
              "#f0f921"
             ]
            ],
            "type": "contour"
           }
          ],
          "contourcarpet": [
           {
            "colorbar": {
             "outlinewidth": 0,
             "ticks": ""
            },
            "type": "contourcarpet"
           }
          ],
          "heatmap": [
           {
            "colorbar": {
             "outlinewidth": 0,
             "ticks": ""
            },
            "colorscale": [
             [
              0,
              "#0d0887"
             ],
             [
              0.1111111111111111,
              "#46039f"
             ],
             [
              0.2222222222222222,
              "#7201a8"
             ],
             [
              0.3333333333333333,
              "#9c179e"
             ],
             [
              0.4444444444444444,
              "#bd3786"
             ],
             [
              0.5555555555555556,
              "#d8576b"
             ],
             [
              0.6666666666666666,
              "#ed7953"
             ],
             [
              0.7777777777777778,
              "#fb9f3a"
             ],
             [
              0.8888888888888888,
              "#fdca26"
             ],
             [
              1,
              "#f0f921"
             ]
            ],
            "type": "heatmap"
           }
          ],
          "heatmapgl": [
           {
            "colorbar": {
             "outlinewidth": 0,
             "ticks": ""
            },
            "colorscale": [
             [
              0,
              "#0d0887"
             ],
             [
              0.1111111111111111,
              "#46039f"
             ],
             [
              0.2222222222222222,
              "#7201a8"
             ],
             [
              0.3333333333333333,
              "#9c179e"
             ],
             [
              0.4444444444444444,
              "#bd3786"
             ],
             [
              0.5555555555555556,
              "#d8576b"
             ],
             [
              0.6666666666666666,
              "#ed7953"
             ],
             [
              0.7777777777777778,
              "#fb9f3a"
             ],
             [
              0.8888888888888888,
              "#fdca26"
             ],
             [
              1,
              "#f0f921"
             ]
            ],
            "type": "heatmapgl"
           }
          ],
          "histogram": [
           {
            "marker": {
             "pattern": {
              "fillmode": "overlay",
              "size": 10,
              "solidity": 0.2
             }
            },
            "type": "histogram"
           }
          ],
          "histogram2d": [
           {
            "colorbar": {
             "outlinewidth": 0,
             "ticks": ""
            },
            "colorscale": [
             [
              0,
              "#0d0887"
             ],
             [
              0.1111111111111111,
              "#46039f"
             ],
             [
              0.2222222222222222,
              "#7201a8"
             ],
             [
              0.3333333333333333,
              "#9c179e"
             ],
             [
              0.4444444444444444,
              "#bd3786"
             ],
             [
              0.5555555555555556,
              "#d8576b"
             ],
             [
              0.6666666666666666,
              "#ed7953"
             ],
             [
              0.7777777777777778,
              "#fb9f3a"
             ],
             [
              0.8888888888888888,
              "#fdca26"
             ],
             [
              1,
              "#f0f921"
             ]
            ],
            "type": "histogram2d"
           }
          ],
          "histogram2dcontour": [
           {
            "colorbar": {
             "outlinewidth": 0,
             "ticks": ""
            },
            "colorscale": [
             [
              0,
              "#0d0887"
             ],
             [
              0.1111111111111111,
              "#46039f"
             ],
             [
              0.2222222222222222,
              "#7201a8"
             ],
             [
              0.3333333333333333,
              "#9c179e"
             ],
             [
              0.4444444444444444,
              "#bd3786"
             ],
             [
              0.5555555555555556,
              "#d8576b"
             ],
             [
              0.6666666666666666,
              "#ed7953"
             ],
             [
              0.7777777777777778,
              "#fb9f3a"
             ],
             [
              0.8888888888888888,
              "#fdca26"
             ],
             [
              1,
              "#f0f921"
             ]
            ],
            "type": "histogram2dcontour"
           }
          ],
          "mesh3d": [
           {
            "colorbar": {
             "outlinewidth": 0,
             "ticks": ""
            },
            "type": "mesh3d"
           }
          ],
          "parcoords": [
           {
            "line": {
             "colorbar": {
              "outlinewidth": 0,
              "ticks": ""
             }
            },
            "type": "parcoords"
           }
          ],
          "pie": [
           {
            "automargin": true,
            "type": "pie"
           }
          ],
          "scatter": [
           {
            "fillpattern": {
             "fillmode": "overlay",
             "size": 10,
             "solidity": 0.2
            },
            "type": "scatter"
           }
          ],
          "scatter3d": [
           {
            "line": {
             "colorbar": {
              "outlinewidth": 0,
              "ticks": ""
             }
            },
            "marker": {
             "colorbar": {
              "outlinewidth": 0,
              "ticks": ""
             }
            },
            "type": "scatter3d"
           }
          ],
          "scattercarpet": [
           {
            "marker": {
             "colorbar": {
              "outlinewidth": 0,
              "ticks": ""
             }
            },
            "type": "scattercarpet"
           }
          ],
          "scattergeo": [
           {
            "marker": {
             "colorbar": {
              "outlinewidth": 0,
              "ticks": ""
             }
            },
            "type": "scattergeo"
           }
          ],
          "scattergl": [
           {
            "marker": {
             "colorbar": {
              "outlinewidth": 0,
              "ticks": ""
             }
            },
            "type": "scattergl"
           }
          ],
          "scattermapbox": [
           {
            "marker": {
             "colorbar": {
              "outlinewidth": 0,
              "ticks": ""
             }
            },
            "type": "scattermapbox"
           }
          ],
          "scatterpolar": [
           {
            "marker": {
             "colorbar": {
              "outlinewidth": 0,
              "ticks": ""
             }
            },
            "type": "scatterpolar"
           }
          ],
          "scatterpolargl": [
           {
            "marker": {
             "colorbar": {
              "outlinewidth": 0,
              "ticks": ""
             }
            },
            "type": "scatterpolargl"
           }
          ],
          "scatterternary": [
           {
            "marker": {
             "colorbar": {
              "outlinewidth": 0,
              "ticks": ""
             }
            },
            "type": "scatterternary"
           }
          ],
          "surface": [
           {
            "colorbar": {
             "outlinewidth": 0,
             "ticks": ""
            },
            "colorscale": [
             [
              0,
              "#0d0887"
             ],
             [
              0.1111111111111111,
              "#46039f"
             ],
             [
              0.2222222222222222,
              "#7201a8"
             ],
             [
              0.3333333333333333,
              "#9c179e"
             ],
             [
              0.4444444444444444,
              "#bd3786"
             ],
             [
              0.5555555555555556,
              "#d8576b"
             ],
             [
              0.6666666666666666,
              "#ed7953"
             ],
             [
              0.7777777777777778,
              "#fb9f3a"
             ],
             [
              0.8888888888888888,
              "#fdca26"
             ],
             [
              1,
              "#f0f921"
             ]
            ],
            "type": "surface"
           }
          ],
          "table": [
           {
            "cells": {
             "fill": {
              "color": "#EBF0F8"
             },
             "line": {
              "color": "white"
             }
            },
            "header": {
             "fill": {
              "color": "#C8D4E3"
             },
             "line": {
              "color": "white"
             }
            },
            "type": "table"
           }
          ]
         },
         "layout": {
          "annotationdefaults": {
           "arrowcolor": "#2a3f5f",
           "arrowhead": 0,
           "arrowwidth": 1
          },
          "autotypenumbers": "strict",
          "coloraxis": {
           "colorbar": {
            "outlinewidth": 0,
            "ticks": ""
           }
          },
          "colorscale": {
           "diverging": [
            [
             0,
             "#8e0152"
            ],
            [
             0.1,
             "#c51b7d"
            ],
            [
             0.2,
             "#de77ae"
            ],
            [
             0.3,
             "#f1b6da"
            ],
            [
             0.4,
             "#fde0ef"
            ],
            [
             0.5,
             "#f7f7f7"
            ],
            [
             0.6,
             "#e6f5d0"
            ],
            [
             0.7,
             "#b8e186"
            ],
            [
             0.8,
             "#7fbc41"
            ],
            [
             0.9,
             "#4d9221"
            ],
            [
             1,
             "#276419"
            ]
           ],
           "sequential": [
            [
             0,
             "#0d0887"
            ],
            [
             0.1111111111111111,
             "#46039f"
            ],
            [
             0.2222222222222222,
             "#7201a8"
            ],
            [
             0.3333333333333333,
             "#9c179e"
            ],
            [
             0.4444444444444444,
             "#bd3786"
            ],
            [
             0.5555555555555556,
             "#d8576b"
            ],
            [
             0.6666666666666666,
             "#ed7953"
            ],
            [
             0.7777777777777778,
             "#fb9f3a"
            ],
            [
             0.8888888888888888,
             "#fdca26"
            ],
            [
             1,
             "#f0f921"
            ]
           ],
           "sequentialminus": [
            [
             0,
             "#0d0887"
            ],
            [
             0.1111111111111111,
             "#46039f"
            ],
            [
             0.2222222222222222,
             "#7201a8"
            ],
            [
             0.3333333333333333,
             "#9c179e"
            ],
            [
             0.4444444444444444,
             "#bd3786"
            ],
            [
             0.5555555555555556,
             "#d8576b"
            ],
            [
             0.6666666666666666,
             "#ed7953"
            ],
            [
             0.7777777777777778,
             "#fb9f3a"
            ],
            [
             0.8888888888888888,
             "#fdca26"
            ],
            [
             1,
             "#f0f921"
            ]
           ]
          },
          "colorway": [
           "#636efa",
           "#EF553B",
           "#00cc96",
           "#ab63fa",
           "#FFA15A",
           "#19d3f3",
           "#FF6692",
           "#B6E880",
           "#FF97FF",
           "#FECB52"
          ],
          "font": {
           "color": "#2a3f5f"
          },
          "geo": {
           "bgcolor": "white",
           "lakecolor": "white",
           "landcolor": "#E5ECF6",
           "showlakes": true,
           "showland": true,
           "subunitcolor": "white"
          },
          "hoverlabel": {
           "align": "left"
          },
          "hovermode": "closest",
          "mapbox": {
           "style": "light"
          },
          "paper_bgcolor": "white",
          "plot_bgcolor": "#E5ECF6",
          "polar": {
           "angularaxis": {
            "gridcolor": "white",
            "linecolor": "white",
            "ticks": ""
           },
           "bgcolor": "#E5ECF6",
           "radialaxis": {
            "gridcolor": "white",
            "linecolor": "white",
            "ticks": ""
           }
          },
          "scene": {
           "xaxis": {
            "backgroundcolor": "#E5ECF6",
            "gridcolor": "white",
            "gridwidth": 2,
            "linecolor": "white",
            "showbackground": true,
            "ticks": "",
            "zerolinecolor": "white"
           },
           "yaxis": {
            "backgroundcolor": "#E5ECF6",
            "gridcolor": "white",
            "gridwidth": 2,
            "linecolor": "white",
            "showbackground": true,
            "ticks": "",
            "zerolinecolor": "white"
           },
           "zaxis": {
            "backgroundcolor": "#E5ECF6",
            "gridcolor": "white",
            "gridwidth": 2,
            "linecolor": "white",
            "showbackground": true,
            "ticks": "",
            "zerolinecolor": "white"
           }
          },
          "shapedefaults": {
           "line": {
            "color": "#2a3f5f"
           }
          },
          "ternary": {
           "aaxis": {
            "gridcolor": "white",
            "linecolor": "white",
            "ticks": ""
           },
           "baxis": {
            "gridcolor": "white",
            "linecolor": "white",
            "ticks": ""
           },
           "bgcolor": "#E5ECF6",
           "caxis": {
            "gridcolor": "white",
            "linecolor": "white",
            "ticks": ""
           }
          },
          "title": {
           "x": 0.05
          },
          "xaxis": {
           "automargin": true,
           "gridcolor": "white",
           "linecolor": "white",
           "ticks": "",
           "title": {
            "standoff": 15
           },
           "zerolinecolor": "white",
           "zerolinewidth": 2
          },
          "yaxis": {
           "automargin": true,
           "gridcolor": "white",
           "linecolor": "white",
           "ticks": "",
           "title": {
            "standoff": 15
           },
           "zerolinecolor": "white",
           "zerolinewidth": 2
          }
         }
        },
        "title": {
         "text": "UMAP projection of the nELISA data"
        },
        "xaxis": {
         "anchor": "y",
         "domain": [
          0,
          1
         ],
         "title": {
          "text": "UMAP_1"
         }
        },
        "yaxis": {
         "anchor": "x",
         "domain": [
          0,
          1
         ],
         "title": {
          "text": "UMAP_2"
         }
        }
       }
      }
     },
     "metadata": {},
     "output_type": "display_data"
    }
   ],
   "source": [
    "def umap_graph(df, df1, save_name):\n",
    "    # UMAP parameters\n",
    "    umap_df = umap.UMAP(\n",
    "        n_neighbors=6,\n",
    "        min_dist=0.8,\n",
    "        n_components=2,\n",
    "        metric=\"cosine\",\n",
    "        spread=1.1,\n",
    "        init=\"random\",\n",
    "        random_state=0,\n",
    "    )\n",
    "\n",
    "    # fit and transform data\n",
    "    proj_2d = umap_df.fit_transform(df)\n",
    "\n",
    "    # plot UMAP\n",
    "    fig_2d = px.scatter(\n",
    "        proj_2d,\n",
    "        x=0,\n",
    "        y=1,\n",
    "        color=df1.cell_type,\n",
    "        labels={\"color\": \"Cell Type\"},\n",
    "        title=\"UMAP projection of the nELISA data\",\n",
    "    ).update_layout(xaxis_title=\"UMAP_1\", yaxis_title=\"UMAP_2\")\n",
    "\n",
    "    fig_2d.update_traces(marker={\"size\": 15})\n",
    "    fig_2d.show()\n",
    "\n",
    "    # save UMAP\n",
    "    fig_2d.write_html(f\"{save_name}.html\")\n",
    "    fig_2d.write_image(f\"{save_name}.png\")\n",
    "\n",
    "\n",
    "umap_graph(nELISA_data_values, nELISA_data, \"./figures/nELISA_data_values_raw\")\n",
    "umap_graph(\n",
    "    nELISA_data_values_sensor_max_norm,\n",
    "    nELISA_data,\n",
    "    \"./figures/nELISA_data_values_max_sensor_noramalized\",\n",
    ")\n",
    "umap_graph(nELISA_data_min_max, nELISA_data, \"./figures/nELISA_data_min_max_normalized\")\n",
    "umap_graph(\n",
    "    nELISA_data_standard, nELISA_data, \"./figures/nELISA_data_standard_normalized\"\n",
    ")"
   ]
  },
  {
   "cell_type": "code",
   "execution_count": null,
   "metadata": {},
   "outputs": [],
   "source": []
  }
 ],
 "metadata": {
  "kernelspec": {
   "display_name": "Interstellar",
   "language": "python",
   "name": "python3"
  },
  "language_info": {
   "codemirror_mode": {
    "name": "ipython",
    "version": 3
   },
   "file_extension": ".py",
   "mimetype": "text/x-python",
   "name": "python",
   "nbconvert_exporter": "python",
   "pygments_lexer": "ipython3",
   "version": "3.10.10"
  },
  "orig_nbformat": 4,
  "vscode": {
   "interpreter": {
    "hash": "72ae02083a9ca7d143c492d1aec380c7bf553ec51bd66e90e72bba65228121b6"
   }
  }
 },
 "nbformat": 4,
 "nbformat_minor": 2
}
