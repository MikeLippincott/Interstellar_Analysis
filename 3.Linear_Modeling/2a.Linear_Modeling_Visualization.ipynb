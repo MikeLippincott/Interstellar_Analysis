{
 "cells": [
  {
   "cell_type": "code",
   "execution_count": 1,
   "id": "c4549d80",
   "metadata": {},
   "outputs": [
    {
     "name": "stderr",
     "output_type": "stream",
     "text": [
      "Warning message:\n",
      "“package ‘ggplot2’ was built under R version 4.2.3”\n"
     ]
    }
   ],
   "source": [
    "suppressPackageStartupMessages(library(ggplot2))\n",
    "suppressPackageStartupMessages(library(dplyr))"
   ]
  },
  {
   "cell_type": "markdown",
   "id": "65fe30fa",
   "metadata": {},
   "source": [
    "## One Beta Model Vizualization"
   ]
  },
  {
   "cell_type": "code",
   "execution_count": 2,
   "id": "f86de8b4",
   "metadata": {},
   "outputs": [
    {
     "data": {
      "text/html": [
       "<table class=\"dataframe\">\n",
       "<caption>A tibble: 6 × 5</caption>\n",
       "<thead>\n",
       "\t<tr><th scope=col>feature</th><th scope=col>r2_score</th><th scope=col>Metadata_number_of_singlecells</th><th scope=col>oneb_Metadata_Treatment_Dose_Inhibitor_Dose</th><th scope=col>dosage_treatments_list</th></tr>\n",
       "\t<tr><th scope=col>&lt;chr&gt;</th><th scope=col>&lt;dbl&gt;</th><th scope=col>&lt;dbl&gt;</th><th scope=col>&lt;dbl&gt;</th><th scope=col>&lt;chr&gt;</th></tr>\n",
       "</thead>\n",
       "<tbody>\n",
       "\t<tr><td>Cytoplasm_AreaShape_Area                </td><td>9.343787e-04</td><td> 1.695962e-05</td><td> 0.069624186</td><td>media ctr_0_Media ctr_0.0-DMSO_0.100_DMSO_0.025</td></tr>\n",
       "\t<tr><td>Cytoplasm_AreaShape_BoundingBoxArea     </td><td>1.740451e-03</td><td>-3.367326e-05</td><td> 0.069933662</td><td>media ctr_0_Media ctr_0.0-DMSO_0.100_DMSO_0.025</td></tr>\n",
       "\t<tr><td>Cytoplasm_AreaShape_BoundingBoxMaximum_X</td><td>1.077223e-04</td><td>-2.358903e-05</td><td>-0.026469060</td><td>media ctr_0_Media ctr_0.0-DMSO_0.100_DMSO_0.025</td></tr>\n",
       "\t<tr><td>Cytoplasm_AreaShape_BoundingBoxMaximum_Y</td><td>1.354607e-04</td><td>-2.231822e-05</td><td> 0.009834249</td><td>media ctr_0_Media ctr_0.0-DMSO_0.100_DMSO_0.025</td></tr>\n",
       "\t<tr><td>Cytoplasm_AreaShape_BoundingBoxMinimum_X</td><td>1.515569e-04</td><td>-2.184418e-05</td><td>-0.031244872</td><td>media ctr_0_Media ctr_0.0-DMSO_0.100_DMSO_0.025</td></tr>\n",
       "\t<tr><td>Cytoplasm_AreaShape_BoundingBoxMinimum_Y</td><td>8.637752e-05</td><td>-2.176965e-05</td><td> 0.004278855</td><td>media ctr_0_Media ctr_0.0-DMSO_0.100_DMSO_0.025</td></tr>\n",
       "</tbody>\n",
       "</table>\n"
      ],
      "text/latex": [
       "A tibble: 6 × 5\n",
       "\\begin{tabular}{lllll}\n",
       " feature & r2\\_score & Metadata\\_number\\_of\\_singlecells & oneb\\_Metadata\\_Treatment\\_Dose\\_Inhibitor\\_Dose & dosage\\_treatments\\_list\\\\\n",
       " <chr> & <dbl> & <dbl> & <dbl> & <chr>\\\\\n",
       "\\hline\n",
       "\t Cytoplasm\\_AreaShape\\_Area                 & 9.343787e-04 &  1.695962e-05 &  0.069624186 & media ctr\\_0\\_Media ctr\\_0.0-DMSO\\_0.100\\_DMSO\\_0.025\\\\\n",
       "\t Cytoplasm\\_AreaShape\\_BoundingBoxArea      & 1.740451e-03 & -3.367326e-05 &  0.069933662 & media ctr\\_0\\_Media ctr\\_0.0-DMSO\\_0.100\\_DMSO\\_0.025\\\\\n",
       "\t Cytoplasm\\_AreaShape\\_BoundingBoxMaximum\\_X & 1.077223e-04 & -2.358903e-05 & -0.026469060 & media ctr\\_0\\_Media ctr\\_0.0-DMSO\\_0.100\\_DMSO\\_0.025\\\\\n",
       "\t Cytoplasm\\_AreaShape\\_BoundingBoxMaximum\\_Y & 1.354607e-04 & -2.231822e-05 &  0.009834249 & media ctr\\_0\\_Media ctr\\_0.0-DMSO\\_0.100\\_DMSO\\_0.025\\\\\n",
       "\t Cytoplasm\\_AreaShape\\_BoundingBoxMinimum\\_X & 1.515569e-04 & -2.184418e-05 & -0.031244872 & media ctr\\_0\\_Media ctr\\_0.0-DMSO\\_0.100\\_DMSO\\_0.025\\\\\n",
       "\t Cytoplasm\\_AreaShape\\_BoundingBoxMinimum\\_Y & 8.637752e-05 & -2.176965e-05 &  0.004278855 & media ctr\\_0\\_Media ctr\\_0.0-DMSO\\_0.100\\_DMSO\\_0.025\\\\\n",
       "\\end{tabular}\n"
      ],
      "text/markdown": [
       "\n",
       "A tibble: 6 × 5\n",
       "\n",
       "| feature &lt;chr&gt; | r2_score &lt;dbl&gt; | Metadata_number_of_singlecells &lt;dbl&gt; | oneb_Metadata_Treatment_Dose_Inhibitor_Dose &lt;dbl&gt; | dosage_treatments_list &lt;chr&gt; |\n",
       "|---|---|---|---|---|\n",
       "| Cytoplasm_AreaShape_Area                 | 9.343787e-04 |  1.695962e-05 |  0.069624186 | media ctr_0_Media ctr_0.0-DMSO_0.100_DMSO_0.025 |\n",
       "| Cytoplasm_AreaShape_BoundingBoxArea      | 1.740451e-03 | -3.367326e-05 |  0.069933662 | media ctr_0_Media ctr_0.0-DMSO_0.100_DMSO_0.025 |\n",
       "| Cytoplasm_AreaShape_BoundingBoxMaximum_X | 1.077223e-04 | -2.358903e-05 | -0.026469060 | media ctr_0_Media ctr_0.0-DMSO_0.100_DMSO_0.025 |\n",
       "| Cytoplasm_AreaShape_BoundingBoxMaximum_Y | 1.354607e-04 | -2.231822e-05 |  0.009834249 | media ctr_0_Media ctr_0.0-DMSO_0.100_DMSO_0.025 |\n",
       "| Cytoplasm_AreaShape_BoundingBoxMinimum_X | 1.515569e-04 | -2.184418e-05 | -0.031244872 | media ctr_0_Media ctr_0.0-DMSO_0.100_DMSO_0.025 |\n",
       "| Cytoplasm_AreaShape_BoundingBoxMinimum_Y | 8.637752e-05 | -2.176965e-05 |  0.004278855 | media ctr_0_Media ctr_0.0-DMSO_0.100_DMSO_0.025 |\n",
       "\n"
      ],
      "text/plain": [
       "  feature                                  r2_score    \n",
       "1 Cytoplasm_AreaShape_Area                 9.343787e-04\n",
       "2 Cytoplasm_AreaShape_BoundingBoxArea      1.740451e-03\n",
       "3 Cytoplasm_AreaShape_BoundingBoxMaximum_X 1.077223e-04\n",
       "4 Cytoplasm_AreaShape_BoundingBoxMaximum_Y 1.354607e-04\n",
       "5 Cytoplasm_AreaShape_BoundingBoxMinimum_X 1.515569e-04\n",
       "6 Cytoplasm_AreaShape_BoundingBoxMinimum_Y 8.637752e-05\n",
       "  Metadata_number_of_singlecells oneb_Metadata_Treatment_Dose_Inhibitor_Dose\n",
       "1  1.695962e-05                   0.069624186                               \n",
       "2 -3.367326e-05                   0.069933662                               \n",
       "3 -2.358903e-05                  -0.026469060                               \n",
       "4 -2.231822e-05                   0.009834249                               \n",
       "5 -2.184418e-05                  -0.031244872                               \n",
       "6 -2.176965e-05                   0.004278855                               \n",
       "  dosage_treatments_list                         \n",
       "1 media ctr_0_Media ctr_0.0-DMSO_0.100_DMSO_0.025\n",
       "2 media ctr_0_Media ctr_0.0-DMSO_0.100_DMSO_0.025\n",
       "3 media ctr_0_Media ctr_0.0-DMSO_0.100_DMSO_0.025\n",
       "4 media ctr_0_Media ctr_0.0-DMSO_0.100_DMSO_0.025\n",
       "5 media ctr_0_Media ctr_0.0-DMSO_0.100_DMSO_0.025\n",
       "6 media ctr_0_Media ctr_0.0-DMSO_0.100_DMSO_0.025"
      ]
     },
     "metadata": {},
     "output_type": "display_data"
    }
   ],
   "source": [
    "lm_file <- file.path(\"./results/lm_one_beta.tsv\")\n",
    "\n",
    "lm_cp_fig <- file.path(\"./figures/one_beta_results.pdf\" )\n",
    "     \n",
    "lm_df <- readr::read_tsv(lm_file, col_types = readr::cols(.default = \"d\", feature =\"c\", dosage_treatments_list = \"c\"))\n",
    "head(lm_df)"
   ]
  },
  {
   "cell_type": "code",
   "execution_count": 3,
   "id": "05511ea0",
   "metadata": {},
   "outputs": [
    {
     "data": {
      "text/html": [
       "<style>\n",
       ".list-inline {list-style: none; margin:0; padding: 0}\n",
       ".list-inline>li {display: inline-block}\n",
       ".list-inline>li:not(:last-child)::after {content: \"\\00b7\"; padding: 0 .5ex}\n",
       "</style>\n",
       "<ol class=list-inline><li>'media ctr_0_Media ctr_0.0-DMSO_0.100_DMSO_0.025'</li><li>'DMSO_0.100_DMSO_1.0-DMSO_0.100_DMSO_0.025'</li><li>'DMSO_0.100_Z-VAD-FMK_100.0-DMSO_0.100_DMSO_0.025'</li><li>'DMSO_0.100_Z-VAD-FMK_30.0-DMSO_0.100_DMSO_0.025'</li><li>'DMSO_0.100_DMSO_0.025-DMSO_0.100_DMSO_0.025'</li><li>'Thapsigargin_1.000_DMSO_0.025-DMSO_0.100_DMSO_0.025'</li><li>'Thapsigargin_10.000_DMSO_0.025-DMSO_0.100_DMSO_0.025'</li><li>'Topotecan_5.000_DMSO_0.025-DMSO_0.100_DMSO_0.025'</li><li>'Topotecan_10.000_DMSO_0.025-DMSO_0.100_DMSO_0.025'</li><li>'Topotecan_20.000_DMSO_0.025-DMSO_0.100_DMSO_0.025'</li><li>'LPS_0.010_DMSO_0.025-DMSO_0.100_DMSO_0.025'</li><li>'LPS_0.100_DMSO_0.025-DMSO_0.100_DMSO_0.025'</li><li>'LPS_1.000_DMSO_0.025-DMSO_0.100_DMSO_0.025'</li><li>'LPS_10.000_DMSO_0.025-DMSO_0.100_DMSO_0.025'</li><li>'LPS_10.000_Disulfiram_0.1-DMSO_0.100_DMSO_0.025'</li><li>'LPS_10.000_Disulfiram_1.0-DMSO_0.100_DMSO_0.025'</li><li>'LPS_10.000_Disulfiram_2.5-DMSO_0.100_DMSO_0.025'</li><li>'LPS_Nigericin_100.000_1.0_DMSO_0.025-DMSO_0.100_DMSO_0.025'</li><li>'LPS_Nigericin_100.000_3.0_DMSO_0.025-DMSO_0.100_DMSO_0.025'</li><li>'LPS_Nigericin_100.000_10.0_DMSO_0.025-DMSO_0.100_DMSO_0.025'</li><li>'Disulfiram_0.100_DMSO_0.025-DMSO_0.100_DMSO_0.025'</li><li>'Disulfiram_1.000_DMSO_0.025-DMSO_0.100_DMSO_0.025'</li><li>'Disulfiram_2.500_DMSO_0.025-DMSO_0.100_DMSO_0.025'</li><li>'H2O2_100.000_DMSO_0.025-DMSO_0.100_DMSO_0.025'</li><li>'LPS_10.000_Z-VAD-FMK_100.0-DMSO_0.100_DMSO_0.025'</li><li>'LPS_100.000_DMSO_0.025-DMSO_0.100_DMSO_0.025'</li><li>'LPS_Nigericin_1.000_1.0_DMSO_0.025-DMSO_0.100_DMSO_0.025'</li><li>'LPS_Nigericin_1.000_3.0_DMSO_0.025-DMSO_0.100_DMSO_0.025'</li><li>'LPS_Nigericin_1.000_10.0_DMSO_0.025-DMSO_0.100_DMSO_0.025'</li><li>'LPS_Nigericin_1.000_10.0_Disulfiram_1.0-DMSO_0.100_DMSO_0.025'</li><li>'LPS_Nigericin_1.000_10.0_Z-VAD-FMK_100.0-DMSO_0.100_DMSO_0.025'</li><li>'H2O2_100.000_Disulfiram_1.0-DMSO_0.100_DMSO_0.025'</li><li>'H2O2_100.000_Z-VAD-FMK_100.0-DMSO_0.100_DMSO_0.025'</li><li>'Flagellin_0.100_DMSO_0.025-DMSO_0.100_DMSO_0.025'</li><li>'Flagellin_1.000_DMSO_0.025-DMSO_0.100_DMSO_0.025'</li><li>'Flagellin_1.000_Disulfiram_1.0-DMSO_0.100_DMSO_0.025'</li></ol>\n"
      ],
      "text/latex": [
       "\\begin{enumerate*}\n",
       "\\item 'media ctr\\_0\\_Media ctr\\_0.0-DMSO\\_0.100\\_DMSO\\_0.025'\n",
       "\\item 'DMSO\\_0.100\\_DMSO\\_1.0-DMSO\\_0.100\\_DMSO\\_0.025'\n",
       "\\item 'DMSO\\_0.100\\_Z-VAD-FMK\\_100.0-DMSO\\_0.100\\_DMSO\\_0.025'\n",
       "\\item 'DMSO\\_0.100\\_Z-VAD-FMK\\_30.0-DMSO\\_0.100\\_DMSO\\_0.025'\n",
       "\\item 'DMSO\\_0.100\\_DMSO\\_0.025-DMSO\\_0.100\\_DMSO\\_0.025'\n",
       "\\item 'Thapsigargin\\_1.000\\_DMSO\\_0.025-DMSO\\_0.100\\_DMSO\\_0.025'\n",
       "\\item 'Thapsigargin\\_10.000\\_DMSO\\_0.025-DMSO\\_0.100\\_DMSO\\_0.025'\n",
       "\\item 'Topotecan\\_5.000\\_DMSO\\_0.025-DMSO\\_0.100\\_DMSO\\_0.025'\n",
       "\\item 'Topotecan\\_10.000\\_DMSO\\_0.025-DMSO\\_0.100\\_DMSO\\_0.025'\n",
       "\\item 'Topotecan\\_20.000\\_DMSO\\_0.025-DMSO\\_0.100\\_DMSO\\_0.025'\n",
       "\\item 'LPS\\_0.010\\_DMSO\\_0.025-DMSO\\_0.100\\_DMSO\\_0.025'\n",
       "\\item 'LPS\\_0.100\\_DMSO\\_0.025-DMSO\\_0.100\\_DMSO\\_0.025'\n",
       "\\item 'LPS\\_1.000\\_DMSO\\_0.025-DMSO\\_0.100\\_DMSO\\_0.025'\n",
       "\\item 'LPS\\_10.000\\_DMSO\\_0.025-DMSO\\_0.100\\_DMSO\\_0.025'\n",
       "\\item 'LPS\\_10.000\\_Disulfiram\\_0.1-DMSO\\_0.100\\_DMSO\\_0.025'\n",
       "\\item 'LPS\\_10.000\\_Disulfiram\\_1.0-DMSO\\_0.100\\_DMSO\\_0.025'\n",
       "\\item 'LPS\\_10.000\\_Disulfiram\\_2.5-DMSO\\_0.100\\_DMSO\\_0.025'\n",
       "\\item 'LPS\\_Nigericin\\_100.000\\_1.0\\_DMSO\\_0.025-DMSO\\_0.100\\_DMSO\\_0.025'\n",
       "\\item 'LPS\\_Nigericin\\_100.000\\_3.0\\_DMSO\\_0.025-DMSO\\_0.100\\_DMSO\\_0.025'\n",
       "\\item 'LPS\\_Nigericin\\_100.000\\_10.0\\_DMSO\\_0.025-DMSO\\_0.100\\_DMSO\\_0.025'\n",
       "\\item 'Disulfiram\\_0.100\\_DMSO\\_0.025-DMSO\\_0.100\\_DMSO\\_0.025'\n",
       "\\item 'Disulfiram\\_1.000\\_DMSO\\_0.025-DMSO\\_0.100\\_DMSO\\_0.025'\n",
       "\\item 'Disulfiram\\_2.500\\_DMSO\\_0.025-DMSO\\_0.100\\_DMSO\\_0.025'\n",
       "\\item 'H2O2\\_100.000\\_DMSO\\_0.025-DMSO\\_0.100\\_DMSO\\_0.025'\n",
       "\\item 'LPS\\_10.000\\_Z-VAD-FMK\\_100.0-DMSO\\_0.100\\_DMSO\\_0.025'\n",
       "\\item 'LPS\\_100.000\\_DMSO\\_0.025-DMSO\\_0.100\\_DMSO\\_0.025'\n",
       "\\item 'LPS\\_Nigericin\\_1.000\\_1.0\\_DMSO\\_0.025-DMSO\\_0.100\\_DMSO\\_0.025'\n",
       "\\item 'LPS\\_Nigericin\\_1.000\\_3.0\\_DMSO\\_0.025-DMSO\\_0.100\\_DMSO\\_0.025'\n",
       "\\item 'LPS\\_Nigericin\\_1.000\\_10.0\\_DMSO\\_0.025-DMSO\\_0.100\\_DMSO\\_0.025'\n",
       "\\item 'LPS\\_Nigericin\\_1.000\\_10.0\\_Disulfiram\\_1.0-DMSO\\_0.100\\_DMSO\\_0.025'\n",
       "\\item 'LPS\\_Nigericin\\_1.000\\_10.0\\_Z-VAD-FMK\\_100.0-DMSO\\_0.100\\_DMSO\\_0.025'\n",
       "\\item 'H2O2\\_100.000\\_Disulfiram\\_1.0-DMSO\\_0.100\\_DMSO\\_0.025'\n",
       "\\item 'H2O2\\_100.000\\_Z-VAD-FMK\\_100.0-DMSO\\_0.100\\_DMSO\\_0.025'\n",
       "\\item 'Flagellin\\_0.100\\_DMSO\\_0.025-DMSO\\_0.100\\_DMSO\\_0.025'\n",
       "\\item 'Flagellin\\_1.000\\_DMSO\\_0.025-DMSO\\_0.100\\_DMSO\\_0.025'\n",
       "\\item 'Flagellin\\_1.000\\_Disulfiram\\_1.0-DMSO\\_0.100\\_DMSO\\_0.025'\n",
       "\\end{enumerate*}\n"
      ],
      "text/markdown": [
       "1. 'media ctr_0_Media ctr_0.0-DMSO_0.100_DMSO_0.025'\n",
       "2. 'DMSO_0.100_DMSO_1.0-DMSO_0.100_DMSO_0.025'\n",
       "3. 'DMSO_0.100_Z-VAD-FMK_100.0-DMSO_0.100_DMSO_0.025'\n",
       "4. 'DMSO_0.100_Z-VAD-FMK_30.0-DMSO_0.100_DMSO_0.025'\n",
       "5. 'DMSO_0.100_DMSO_0.025-DMSO_0.100_DMSO_0.025'\n",
       "6. 'Thapsigargin_1.000_DMSO_0.025-DMSO_0.100_DMSO_0.025'\n",
       "7. 'Thapsigargin_10.000_DMSO_0.025-DMSO_0.100_DMSO_0.025'\n",
       "8. 'Topotecan_5.000_DMSO_0.025-DMSO_0.100_DMSO_0.025'\n",
       "9. 'Topotecan_10.000_DMSO_0.025-DMSO_0.100_DMSO_0.025'\n",
       "10. 'Topotecan_20.000_DMSO_0.025-DMSO_0.100_DMSO_0.025'\n",
       "11. 'LPS_0.010_DMSO_0.025-DMSO_0.100_DMSO_0.025'\n",
       "12. 'LPS_0.100_DMSO_0.025-DMSO_0.100_DMSO_0.025'\n",
       "13. 'LPS_1.000_DMSO_0.025-DMSO_0.100_DMSO_0.025'\n",
       "14. 'LPS_10.000_DMSO_0.025-DMSO_0.100_DMSO_0.025'\n",
       "15. 'LPS_10.000_Disulfiram_0.1-DMSO_0.100_DMSO_0.025'\n",
       "16. 'LPS_10.000_Disulfiram_1.0-DMSO_0.100_DMSO_0.025'\n",
       "17. 'LPS_10.000_Disulfiram_2.5-DMSO_0.100_DMSO_0.025'\n",
       "18. 'LPS_Nigericin_100.000_1.0_DMSO_0.025-DMSO_0.100_DMSO_0.025'\n",
       "19. 'LPS_Nigericin_100.000_3.0_DMSO_0.025-DMSO_0.100_DMSO_0.025'\n",
       "20. 'LPS_Nigericin_100.000_10.0_DMSO_0.025-DMSO_0.100_DMSO_0.025'\n",
       "21. 'Disulfiram_0.100_DMSO_0.025-DMSO_0.100_DMSO_0.025'\n",
       "22. 'Disulfiram_1.000_DMSO_0.025-DMSO_0.100_DMSO_0.025'\n",
       "23. 'Disulfiram_2.500_DMSO_0.025-DMSO_0.100_DMSO_0.025'\n",
       "24. 'H2O2_100.000_DMSO_0.025-DMSO_0.100_DMSO_0.025'\n",
       "25. 'LPS_10.000_Z-VAD-FMK_100.0-DMSO_0.100_DMSO_0.025'\n",
       "26. 'LPS_100.000_DMSO_0.025-DMSO_0.100_DMSO_0.025'\n",
       "27. 'LPS_Nigericin_1.000_1.0_DMSO_0.025-DMSO_0.100_DMSO_0.025'\n",
       "28. 'LPS_Nigericin_1.000_3.0_DMSO_0.025-DMSO_0.100_DMSO_0.025'\n",
       "29. 'LPS_Nigericin_1.000_10.0_DMSO_0.025-DMSO_0.100_DMSO_0.025'\n",
       "30. 'LPS_Nigericin_1.000_10.0_Disulfiram_1.0-DMSO_0.100_DMSO_0.025'\n",
       "31. 'LPS_Nigericin_1.000_10.0_Z-VAD-FMK_100.0-DMSO_0.100_DMSO_0.025'\n",
       "32. 'H2O2_100.000_Disulfiram_1.0-DMSO_0.100_DMSO_0.025'\n",
       "33. 'H2O2_100.000_Z-VAD-FMK_100.0-DMSO_0.100_DMSO_0.025'\n",
       "34. 'Flagellin_0.100_DMSO_0.025-DMSO_0.100_DMSO_0.025'\n",
       "35. 'Flagellin_1.000_DMSO_0.025-DMSO_0.100_DMSO_0.025'\n",
       "36. 'Flagellin_1.000_Disulfiram_1.0-DMSO_0.100_DMSO_0.025'\n",
       "\n",
       "\n"
      ],
      "text/plain": [
       " [1] \"media ctr_0_Media ctr_0.0-DMSO_0.100_DMSO_0.025\"               \n",
       " [2] \"DMSO_0.100_DMSO_1.0-DMSO_0.100_DMSO_0.025\"                     \n",
       " [3] \"DMSO_0.100_Z-VAD-FMK_100.0-DMSO_0.100_DMSO_0.025\"              \n",
       " [4] \"DMSO_0.100_Z-VAD-FMK_30.0-DMSO_0.100_DMSO_0.025\"               \n",
       " [5] \"DMSO_0.100_DMSO_0.025-DMSO_0.100_DMSO_0.025\"                   \n",
       " [6] \"Thapsigargin_1.000_DMSO_0.025-DMSO_0.100_DMSO_0.025\"           \n",
       " [7] \"Thapsigargin_10.000_DMSO_0.025-DMSO_0.100_DMSO_0.025\"          \n",
       " [8] \"Topotecan_5.000_DMSO_0.025-DMSO_0.100_DMSO_0.025\"              \n",
       " [9] \"Topotecan_10.000_DMSO_0.025-DMSO_0.100_DMSO_0.025\"             \n",
       "[10] \"Topotecan_20.000_DMSO_0.025-DMSO_0.100_DMSO_0.025\"             \n",
       "[11] \"LPS_0.010_DMSO_0.025-DMSO_0.100_DMSO_0.025\"                    \n",
       "[12] \"LPS_0.100_DMSO_0.025-DMSO_0.100_DMSO_0.025\"                    \n",
       "[13] \"LPS_1.000_DMSO_0.025-DMSO_0.100_DMSO_0.025\"                    \n",
       "[14] \"LPS_10.000_DMSO_0.025-DMSO_0.100_DMSO_0.025\"                   \n",
       "[15] \"LPS_10.000_Disulfiram_0.1-DMSO_0.100_DMSO_0.025\"               \n",
       "[16] \"LPS_10.000_Disulfiram_1.0-DMSO_0.100_DMSO_0.025\"               \n",
       "[17] \"LPS_10.000_Disulfiram_2.5-DMSO_0.100_DMSO_0.025\"               \n",
       "[18] \"LPS_Nigericin_100.000_1.0_DMSO_0.025-DMSO_0.100_DMSO_0.025\"    \n",
       "[19] \"LPS_Nigericin_100.000_3.0_DMSO_0.025-DMSO_0.100_DMSO_0.025\"    \n",
       "[20] \"LPS_Nigericin_100.000_10.0_DMSO_0.025-DMSO_0.100_DMSO_0.025\"   \n",
       "[21] \"Disulfiram_0.100_DMSO_0.025-DMSO_0.100_DMSO_0.025\"             \n",
       "[22] \"Disulfiram_1.000_DMSO_0.025-DMSO_0.100_DMSO_0.025\"             \n",
       "[23] \"Disulfiram_2.500_DMSO_0.025-DMSO_0.100_DMSO_0.025\"             \n",
       "[24] \"H2O2_100.000_DMSO_0.025-DMSO_0.100_DMSO_0.025\"                 \n",
       "[25] \"LPS_10.000_Z-VAD-FMK_100.0-DMSO_0.100_DMSO_0.025\"              \n",
       "[26] \"LPS_100.000_DMSO_0.025-DMSO_0.100_DMSO_0.025\"                  \n",
       "[27] \"LPS_Nigericin_1.000_1.0_DMSO_0.025-DMSO_0.100_DMSO_0.025\"      \n",
       "[28] \"LPS_Nigericin_1.000_3.0_DMSO_0.025-DMSO_0.100_DMSO_0.025\"      \n",
       "[29] \"LPS_Nigericin_1.000_10.0_DMSO_0.025-DMSO_0.100_DMSO_0.025\"     \n",
       "[30] \"LPS_Nigericin_1.000_10.0_Disulfiram_1.0-DMSO_0.100_DMSO_0.025\" \n",
       "[31] \"LPS_Nigericin_1.000_10.0_Z-VAD-FMK_100.0-DMSO_0.100_DMSO_0.025\"\n",
       "[32] \"H2O2_100.000_Disulfiram_1.0-DMSO_0.100_DMSO_0.025\"             \n",
       "[33] \"H2O2_100.000_Z-VAD-FMK_100.0-DMSO_0.100_DMSO_0.025\"            \n",
       "[34] \"Flagellin_0.100_DMSO_0.025-DMSO_0.100_DMSO_0.025\"              \n",
       "[35] \"Flagellin_1.000_DMSO_0.025-DMSO_0.100_DMSO_0.025\"              \n",
       "[36] \"Flagellin_1.000_Disulfiram_1.0-DMSO_0.100_DMSO_0.025\"          "
      ]
     },
     "metadata": {},
     "output_type": "display_data"
    }
   ],
   "source": [
    "unique(lm_df$dosage_treatments_list)"
   ]
  },
  {
   "cell_type": "code",
   "execution_count": 4,
   "id": "4085652a",
   "metadata": {},
   "outputs": [
    {
     "name": "stderr",
     "output_type": "stream",
     "text": [
      "Warning message:\n",
      "“\u001b[1m\u001b[22mExpected 6 pieces. Additional pieces discarded in 28080 rows [14, 15, 19, 21, 22, 23, 24, 25, 27, 29, 31, 32, 34, 35, 36, 40, 41, 42, 43, 44,\n",
      "...].”\n",
      "Warning message:\n",
      "“\u001b[1m\u001b[22mExpected 6 pieces. Missing pieces filled with `NA` in 42012 rows [1, 2, 3, 4, 5, 6, 7, 8, 9, 10, 11, 12, 13, 16, 17, 18, 20, 26, 28, 30, ...].”\n"
     ]
    }
   ],
   "source": [
    "\n",
    "# Arrange by absolute value coefficient\n",
    "# Split out components of feature name for visualization\n",
    "lm_df <- lm_df %>%\n",
    "    dplyr::arrange(desc(abs(oneb_Metadata_Treatment_Dose_Inhibitor_Dose))) %>%\n",
    "    tidyr::separate(\n",
    "        feature,\n",
    "        into = c(\n",
    "            \"compartment\",\n",
    "            \"feature_group\",\n",
    "            \"measurement\",\n",
    "            \"channel\",\n",
    "            \"parameter1\",\n",
    "            \"parameter2\"\n",
    "        ),\n",
    "        sep = \"_\",\n",
    "        remove = FALSE\n",
    "    ) %>%\n",
    "    dplyr::mutate(channel_cleaned = channel)\n",
    "\n"
   ]
  },
  {
   "cell_type": "code",
   "execution_count": 5,
   "id": "9e039275",
   "metadata": {},
   "outputs": [
    {
     "data": {
      "text/html": [
       "<style>\n",
       ".list-inline {list-style: none; margin:0; padding: 0}\n",
       ".list-inline>li {display: inline-block}\n",
       ".list-inline>li:not(:last-child)::after {content: \"\\00b7\"; padding: 0 .5ex}\n",
       "</style>\n",
       "<ol class=list-inline><li>'CorrPM'</li><li>'CorrDNA'</li><li>'CorrER'</li><li>'CorrMito'</li><li>'CorrGasdermin'</li><li>NA</li><li>'Adjacent'</li><li>'Number'</li><li>'8'</li><li>'0'</li><li>'4'</li><li>'6'</li><li>'5'</li><li>'3'</li><li>'1'</li><li>'7'</li><li>'2'</li><li>'9'</li><li>'X'</li><li>'Y'</li><li>'Z'</li><li>'Count'</li></ol>\n"
      ],
      "text/latex": [
       "\\begin{enumerate*}\n",
       "\\item 'CorrPM'\n",
       "\\item 'CorrDNA'\n",
       "\\item 'CorrER'\n",
       "\\item 'CorrMito'\n",
       "\\item 'CorrGasdermin'\n",
       "\\item NA\n",
       "\\item 'Adjacent'\n",
       "\\item 'Number'\n",
       "\\item '8'\n",
       "\\item '0'\n",
       "\\item '4'\n",
       "\\item '6'\n",
       "\\item '5'\n",
       "\\item '3'\n",
       "\\item '1'\n",
       "\\item '7'\n",
       "\\item '2'\n",
       "\\item '9'\n",
       "\\item 'X'\n",
       "\\item 'Y'\n",
       "\\item 'Z'\n",
       "\\item 'Count'\n",
       "\\end{enumerate*}\n"
      ],
      "text/markdown": [
       "1. 'CorrPM'\n",
       "2. 'CorrDNA'\n",
       "3. 'CorrER'\n",
       "4. 'CorrMito'\n",
       "5. 'CorrGasdermin'\n",
       "6. NA\n",
       "7. 'Adjacent'\n",
       "8. 'Number'\n",
       "9. '8'\n",
       "10. '0'\n",
       "11. '4'\n",
       "12. '6'\n",
       "13. '5'\n",
       "14. '3'\n",
       "15. '1'\n",
       "16. '7'\n",
       "17. '2'\n",
       "18. '9'\n",
       "19. 'X'\n",
       "20. 'Y'\n",
       "21. 'Z'\n",
       "22. 'Count'\n",
       "\n",
       "\n"
      ],
      "text/plain": [
       " [1] \"CorrPM\"        \"CorrDNA\"       \"CorrER\"        \"CorrMito\"     \n",
       " [5] \"CorrGasdermin\" NA              \"Adjacent\"      \"Number\"       \n",
       " [9] \"8\"             \"0\"             \"4\"             \"6\"            \n",
       "[13] \"5\"             \"3\"             \"1\"             \"7\"            \n",
       "[17] \"2\"             \"9\"             \"X\"             \"Y\"            \n",
       "[21] \"Z\"             \"Count\"        "
      ]
     },
     "metadata": {},
     "output_type": "display_data"
    }
   ],
   "source": [
    "unique(lm_df$channel)"
   ]
  },
  {
   "cell_type": "code",
   "execution_count": 6,
   "id": "f2cfd6bf",
   "metadata": {},
   "outputs": [
    {
     "data": {
      "text/html": [
       "<style>\n",
       ".list-inline {list-style: none; margin:0; padding: 0}\n",
       ".list-inline>li {display: inline-block}\n",
       ".list-inline>li:not(:last-child)::after {content: \"\\00b7\"; padding: 0 .5ex}\n",
       "</style>\n",
       "<ol class=list-inline><li>'CorrPM'</li><li>'CorrDNA'</li><li>'CorrER'</li><li>'CorrMito'</li><li>'CorrGasdermin'</li><li>NA</li><li>'Adjacent'</li><li>'Number'</li><li>'8'</li><li>'0'</li><li>'4'</li><li>'6'</li><li>'5'</li><li>'3'</li><li>'1'</li><li>'7'</li><li>'2'</li><li>'9'</li><li>'X'</li><li>'Y'</li><li>'Z'</li><li>'Count'</li></ol>\n"
      ],
      "text/latex": [
       "\\begin{enumerate*}\n",
       "\\item 'CorrPM'\n",
       "\\item 'CorrDNA'\n",
       "\\item 'CorrER'\n",
       "\\item 'CorrMito'\n",
       "\\item 'CorrGasdermin'\n",
       "\\item NA\n",
       "\\item 'Adjacent'\n",
       "\\item 'Number'\n",
       "\\item '8'\n",
       "\\item '0'\n",
       "\\item '4'\n",
       "\\item '6'\n",
       "\\item '5'\n",
       "\\item '3'\n",
       "\\item '1'\n",
       "\\item '7'\n",
       "\\item '2'\n",
       "\\item '9'\n",
       "\\item 'X'\n",
       "\\item 'Y'\n",
       "\\item 'Z'\n",
       "\\item 'Count'\n",
       "\\end{enumerate*}\n"
      ],
      "text/markdown": [
       "1. 'CorrPM'\n",
       "2. 'CorrDNA'\n",
       "3. 'CorrER'\n",
       "4. 'CorrMito'\n",
       "5. 'CorrGasdermin'\n",
       "6. NA\n",
       "7. 'Adjacent'\n",
       "8. 'Number'\n",
       "9. '8'\n",
       "10. '0'\n",
       "11. '4'\n",
       "12. '6'\n",
       "13. '5'\n",
       "14. '3'\n",
       "15. '1'\n",
       "16. '7'\n",
       "17. '2'\n",
       "18. '9'\n",
       "19. 'X'\n",
       "20. 'Y'\n",
       "21. 'Z'\n",
       "22. 'Count'\n",
       "\n",
       "\n"
      ],
      "text/plain": [
       " [1] \"CorrPM\"        \"CorrDNA\"       \"CorrER\"        \"CorrMito\"     \n",
       " [5] \"CorrGasdermin\" NA              \"Adjacent\"      \"Number\"       \n",
       " [9] \"8\"             \"0\"             \"4\"             \"6\"            \n",
       "[13] \"5\"             \"3\"             \"1\"             \"7\"            \n",
       "[17] \"2\"             \"9\"             \"X\"             \"Y\"            \n",
       "[21] \"Z\"             \"Count\"        "
      ]
     },
     "metadata": {},
     "output_type": "display_data"
    }
   ],
   "source": [
    "unique(lm_df$channel_cleaned)"
   ]
  },
  {
   "cell_type": "code",
   "execution_count": 7,
   "id": "e599b3ec",
   "metadata": {},
   "outputs": [
    {
     "name": "stdout",
     "output_type": "stream",
     "text": [
      "[1] 102492     13\n"
     ]
    },
    {
     "data": {
      "text/html": [
       "<table class=\"dataframe\">\n",
       "<caption>A tibble: 6 × 13</caption>\n",
       "<thead>\n",
       "\t<tr><th scope=col>feature</th><th scope=col>compartment</th><th scope=col>feature_group</th><th scope=col>measurement</th><th scope=col>channel</th><th scope=col>parameter1</th><th scope=col>parameter2</th><th scope=col>r2_score</th><th scope=col>Metadata_number_of_singlecells</th><th scope=col>oneb_Metadata_Treatment_Dose_Inhibitor_Dose</th><th scope=col>dosage_treatments_list</th><th scope=col>channel_cleaned</th><th scope=col>channel_learned</th></tr>\n",
       "\t<tr><th scope=col>&lt;chr&gt;</th><th scope=col>&lt;chr&gt;</th><th scope=col>&lt;chr&gt;</th><th scope=col>&lt;chr&gt;</th><th scope=col>&lt;chr&gt;</th><th scope=col>&lt;chr&gt;</th><th scope=col>&lt;chr&gt;</th><th scope=col>&lt;dbl&gt;</th><th scope=col>&lt;dbl&gt;</th><th scope=col>&lt;dbl&gt;</th><th scope=col>&lt;chr&gt;</th><th scope=col>&lt;chr&gt;</th><th scope=col>&lt;chr&gt;</th></tr>\n",
       "</thead>\n",
       "<tbody>\n",
       "\t<tr><td>Cytoplasm_Correlation_Manders_CorrPM_CorrMito </td><td>Cytoplasm</td><td>Correlation</td><td>Manders</td><td>CorrPM </td><td>CorrMito</td><td>NA</td><td>0.3974507</td><td>-1.330689e-05</td><td>-2.772459</td><td>H2O2_100.000_Disulfiram_1.0-DMSO_0.100_DMSO_0.025</td><td>CorrPM </td><td>PM    </td></tr>\n",
       "\t<tr><td>Cells_Correlation_Manders_CorrPM_CorrMito     </td><td>Cells    </td><td>Correlation</td><td>Manders</td><td>CorrPM </td><td>CorrMito</td><td>NA</td><td>0.3931833</td><td>-4.000428e-05</td><td>-2.737578</td><td>H2O2_100.000_Disulfiram_1.0-DMSO_0.100_DMSO_0.025</td><td>CorrPM </td><td>PM    </td></tr>\n",
       "\t<tr><td>Cells_Correlation_Manders_CorrDNA_CorrMito    </td><td>Cells    </td><td>Correlation</td><td>Manders</td><td>CorrDNA</td><td>CorrMito</td><td>NA</td><td>0.2683756</td><td>-6.649527e-05</td><td>-2.689573</td><td>H2O2_100.000_Disulfiram_1.0-DMSO_0.100_DMSO_0.025</td><td>CorrDNA</td><td>nuclei</td></tr>\n",
       "\t<tr><td>Nuclei_Correlation_Manders_CorrPM_CorrMito    </td><td>Nuclei   </td><td>Correlation</td><td>Manders</td><td>CorrPM </td><td>CorrMito</td><td>NA</td><td>0.1566935</td><td> 2.525405e-05</td><td>-2.646582</td><td>H2O2_100.000_Disulfiram_1.0-DMSO_0.100_DMSO_0.025</td><td>CorrPM </td><td>PM    </td></tr>\n",
       "\t<tr><td>Cytoplasm_Correlation_Manders_CorrDNA_CorrMito</td><td>Cytoplasm</td><td>Correlation</td><td>Manders</td><td>CorrDNA</td><td>CorrMito</td><td>NA</td><td>0.2701912</td><td> 5.697376e-06</td><td>-2.534237</td><td>H2O2_100.000_Disulfiram_1.0-DMSO_0.100_DMSO_0.025</td><td>CorrDNA</td><td>nuclei</td></tr>\n",
       "\t<tr><td>Nuclei_Correlation_Manders_CorrDNA_CorrMito   </td><td>Nuclei   </td><td>Correlation</td><td>Manders</td><td>CorrDNA</td><td>CorrMito</td><td>NA</td><td>0.1397890</td><td> 5.213628e-05</td><td>-2.498875</td><td>H2O2_100.000_Disulfiram_1.0-DMSO_0.100_DMSO_0.025</td><td>CorrDNA</td><td>nuclei</td></tr>\n",
       "</tbody>\n",
       "</table>\n"
      ],
      "text/latex": [
       "A tibble: 6 × 13\n",
       "\\begin{tabular}{lllllllllllll}\n",
       " feature & compartment & feature\\_group & measurement & channel & parameter1 & parameter2 & r2\\_score & Metadata\\_number\\_of\\_singlecells & oneb\\_Metadata\\_Treatment\\_Dose\\_Inhibitor\\_Dose & dosage\\_treatments\\_list & channel\\_cleaned & channel\\_learned\\\\\n",
       " <chr> & <chr> & <chr> & <chr> & <chr> & <chr> & <chr> & <dbl> & <dbl> & <dbl> & <chr> & <chr> & <chr>\\\\\n",
       "\\hline\n",
       "\t Cytoplasm\\_Correlation\\_Manders\\_CorrPM\\_CorrMito  & Cytoplasm & Correlation & Manders & CorrPM  & CorrMito & NA & 0.3974507 & -1.330689e-05 & -2.772459 & H2O2\\_100.000\\_Disulfiram\\_1.0-DMSO\\_0.100\\_DMSO\\_0.025 & CorrPM  & PM    \\\\\n",
       "\t Cells\\_Correlation\\_Manders\\_CorrPM\\_CorrMito      & Cells     & Correlation & Manders & CorrPM  & CorrMito & NA & 0.3931833 & -4.000428e-05 & -2.737578 & H2O2\\_100.000\\_Disulfiram\\_1.0-DMSO\\_0.100\\_DMSO\\_0.025 & CorrPM  & PM    \\\\\n",
       "\t Cells\\_Correlation\\_Manders\\_CorrDNA\\_CorrMito     & Cells     & Correlation & Manders & CorrDNA & CorrMito & NA & 0.2683756 & -6.649527e-05 & -2.689573 & H2O2\\_100.000\\_Disulfiram\\_1.0-DMSO\\_0.100\\_DMSO\\_0.025 & CorrDNA & nuclei\\\\\n",
       "\t Nuclei\\_Correlation\\_Manders\\_CorrPM\\_CorrMito     & Nuclei    & Correlation & Manders & CorrPM  & CorrMito & NA & 0.1566935 &  2.525405e-05 & -2.646582 & H2O2\\_100.000\\_Disulfiram\\_1.0-DMSO\\_0.100\\_DMSO\\_0.025 & CorrPM  & PM    \\\\\n",
       "\t Cytoplasm\\_Correlation\\_Manders\\_CorrDNA\\_CorrMito & Cytoplasm & Correlation & Manders & CorrDNA & CorrMito & NA & 0.2701912 &  5.697376e-06 & -2.534237 & H2O2\\_100.000\\_Disulfiram\\_1.0-DMSO\\_0.100\\_DMSO\\_0.025 & CorrDNA & nuclei\\\\\n",
       "\t Nuclei\\_Correlation\\_Manders\\_CorrDNA\\_CorrMito    & Nuclei    & Correlation & Manders & CorrDNA & CorrMito & NA & 0.1397890 &  5.213628e-05 & -2.498875 & H2O2\\_100.000\\_Disulfiram\\_1.0-DMSO\\_0.100\\_DMSO\\_0.025 & CorrDNA & nuclei\\\\\n",
       "\\end{tabular}\n"
      ],
      "text/markdown": [
       "\n",
       "A tibble: 6 × 13\n",
       "\n",
       "| feature &lt;chr&gt; | compartment &lt;chr&gt; | feature_group &lt;chr&gt; | measurement &lt;chr&gt; | channel &lt;chr&gt; | parameter1 &lt;chr&gt; | parameter2 &lt;chr&gt; | r2_score &lt;dbl&gt; | Metadata_number_of_singlecells &lt;dbl&gt; | oneb_Metadata_Treatment_Dose_Inhibitor_Dose &lt;dbl&gt; | dosage_treatments_list &lt;chr&gt; | channel_cleaned &lt;chr&gt; | channel_learned &lt;chr&gt; |\n",
       "|---|---|---|---|---|---|---|---|---|---|---|---|---|\n",
       "| Cytoplasm_Correlation_Manders_CorrPM_CorrMito  | Cytoplasm | Correlation | Manders | CorrPM  | CorrMito | NA | 0.3974507 | -1.330689e-05 | -2.772459 | H2O2_100.000_Disulfiram_1.0-DMSO_0.100_DMSO_0.025 | CorrPM  | PM     |\n",
       "| Cells_Correlation_Manders_CorrPM_CorrMito      | Cells     | Correlation | Manders | CorrPM  | CorrMito | NA | 0.3931833 | -4.000428e-05 | -2.737578 | H2O2_100.000_Disulfiram_1.0-DMSO_0.100_DMSO_0.025 | CorrPM  | PM     |\n",
       "| Cells_Correlation_Manders_CorrDNA_CorrMito     | Cells     | Correlation | Manders | CorrDNA | CorrMito | NA | 0.2683756 | -6.649527e-05 | -2.689573 | H2O2_100.000_Disulfiram_1.0-DMSO_0.100_DMSO_0.025 | CorrDNA | nuclei |\n",
       "| Nuclei_Correlation_Manders_CorrPM_CorrMito     | Nuclei    | Correlation | Manders | CorrPM  | CorrMito | NA | 0.1566935 |  2.525405e-05 | -2.646582 | H2O2_100.000_Disulfiram_1.0-DMSO_0.100_DMSO_0.025 | CorrPM  | PM     |\n",
       "| Cytoplasm_Correlation_Manders_CorrDNA_CorrMito | Cytoplasm | Correlation | Manders | CorrDNA | CorrMito | NA | 0.2701912 |  5.697376e-06 | -2.534237 | H2O2_100.000_Disulfiram_1.0-DMSO_0.100_DMSO_0.025 | CorrDNA | nuclei |\n",
       "| Nuclei_Correlation_Manders_CorrDNA_CorrMito    | Nuclei    | Correlation | Manders | CorrDNA | CorrMito | NA | 0.1397890 |  5.213628e-05 | -2.498875 | H2O2_100.000_Disulfiram_1.0-DMSO_0.100_DMSO_0.025 | CorrDNA | nuclei |\n",
       "\n"
      ],
      "text/plain": [
       "  feature                                        compartment feature_group\n",
       "1 Cytoplasm_Correlation_Manders_CorrPM_CorrMito  Cytoplasm   Correlation  \n",
       "2 Cells_Correlation_Manders_CorrPM_CorrMito      Cells       Correlation  \n",
       "3 Cells_Correlation_Manders_CorrDNA_CorrMito     Cells       Correlation  \n",
       "4 Nuclei_Correlation_Manders_CorrPM_CorrMito     Nuclei      Correlation  \n",
       "5 Cytoplasm_Correlation_Manders_CorrDNA_CorrMito Cytoplasm   Correlation  \n",
       "6 Nuclei_Correlation_Manders_CorrDNA_CorrMito    Nuclei      Correlation  \n",
       "  measurement channel parameter1 parameter2 r2_score \n",
       "1 Manders     CorrPM  CorrMito   NA         0.3974507\n",
       "2 Manders     CorrPM  CorrMito   NA         0.3931833\n",
       "3 Manders     CorrDNA CorrMito   NA         0.2683756\n",
       "4 Manders     CorrPM  CorrMito   NA         0.1566935\n",
       "5 Manders     CorrDNA CorrMito   NA         0.2701912\n",
       "6 Manders     CorrDNA CorrMito   NA         0.1397890\n",
       "  Metadata_number_of_singlecells oneb_Metadata_Treatment_Dose_Inhibitor_Dose\n",
       "1 -1.330689e-05                  -2.772459                                  \n",
       "2 -4.000428e-05                  -2.737578                                  \n",
       "3 -6.649527e-05                  -2.689573                                  \n",
       "4  2.525405e-05                  -2.646582                                  \n",
       "5  5.697376e-06                  -2.534237                                  \n",
       "6  5.213628e-05                  -2.498875                                  \n",
       "  dosage_treatments_list                            channel_cleaned\n",
       "1 H2O2_100.000_Disulfiram_1.0-DMSO_0.100_DMSO_0.025 CorrPM         \n",
       "2 H2O2_100.000_Disulfiram_1.0-DMSO_0.100_DMSO_0.025 CorrPM         \n",
       "3 H2O2_100.000_Disulfiram_1.0-DMSO_0.100_DMSO_0.025 CorrDNA        \n",
       "4 H2O2_100.000_Disulfiram_1.0-DMSO_0.100_DMSO_0.025 CorrPM         \n",
       "5 H2O2_100.000_Disulfiram_1.0-DMSO_0.100_DMSO_0.025 CorrDNA        \n",
       "6 H2O2_100.000_Disulfiram_1.0-DMSO_0.100_DMSO_0.025 CorrDNA        \n",
       "  channel_learned\n",
       "1 PM             \n",
       "2 PM             \n",
       "3 nuclei         \n",
       "4 PM             \n",
       "5 nuclei         \n",
       "6 nuclei         "
      ]
     },
     "metadata": {},
     "output_type": "display_data"
    },
    {
     "data": {
      "text/html": [
       "<style>\n",
       ".list-inline {list-style: none; margin:0; padding: 0}\n",
       ".list-inline>li {display: inline-block}\n",
       ".list-inline>li:not(:last-child)::after {content: \"\\00b7\"; padding: 0 .5ex}\n",
       "</style>\n",
       "<ol class=list-inline><li>'PM'</li><li>'nuclei'</li><li>'ER'</li><li>'Mito'</li><li>'gasdermin'</li><li>'other'</li></ol>\n"
      ],
      "text/latex": [
       "\\begin{enumerate*}\n",
       "\\item 'PM'\n",
       "\\item 'nuclei'\n",
       "\\item 'ER'\n",
       "\\item 'Mito'\n",
       "\\item 'gasdermin'\n",
       "\\item 'other'\n",
       "\\end{enumerate*}\n"
      ],
      "text/markdown": [
       "1. 'PM'\n",
       "2. 'nuclei'\n",
       "3. 'ER'\n",
       "4. 'Mito'\n",
       "5. 'gasdermin'\n",
       "6. 'other'\n",
       "\n",
       "\n"
      ],
      "text/plain": [
       "[1] \"PM\"        \"nuclei\"    \"ER\"        \"Mito\"      \"gasdermin\" \"other\"    "
      ]
     },
     "metadata": {},
     "output_type": "display_data"
    }
   ],
   "source": [
    "# Clean channel for visualization\n",
    "lm_df$channel_learned <- dplyr::recode(lm_df$channel_cleaned,\n",
    "        \"CorrDNA\" = \"nuclei\",\n",
    "        \"CorrMito\" = \"Mito\",\n",
    "        \"CorrER\" = \"ER\",\n",
    "        \"CorrGasdermin\" = \"gasdermin\",\n",
    "        \"CorrPM\" = \"PM\",\n",
    "        .default = \"other\",\n",
    "        .missing=\"other\"\n",
    "    )\n",
    "\n",
    "print(dim(lm_df))\n",
    "head(lm_df)\n",
    "unique(lm_df$channel_learned)\n",
    "lm_df$abs_Metadata_number_of_singlecells <- abs(lm_df$Metadata_number_of_singlecells)\n",
    "lm_df$abs_oneb_Metadata_Treatment_Dose_Inhibitor_Dose <- abs(lm_df$oneb_Metadata_Treatment_Dose_Inhibitor_Dose)"
   ]
  },
  {
   "cell_type": "code",
   "execution_count": 8,
   "id": "a429584c",
   "metadata": {},
   "outputs": [],
   "source": [
    "loop_list <- unique(lm_df$dosage_treatments_list)"
   ]
  },
  {
   "cell_type": "code",
   "execution_count": 9,
   "id": "732318a5",
   "metadata": {},
   "outputs": [
    {
     "data": {
      "text/html": [
       "<strong>png:</strong> 2"
      ],
      "text/latex": [
       "\\textbf{png:} 2"
      ],
      "text/markdown": [
       "**png:** 2"
      ],
      "text/plain": [
       "png \n",
       "  2 "
      ]
     },
     "metadata": {},
     "output_type": "display_data"
    }
   ],
   "source": [
    "pdf(file=lm_cp_fig)\n",
    "for (i in 1:length(loop_list)){\n",
    "\n",
    "    df <- lm_df[lm_df$dosage_treatments_list == loop_list[i],]\n",
    "    lm_fig_gg <- (\n",
    "        ggplot(df, aes(x = abs_oneb_Metadata_Treatment_Dose_Inhibitor_Dose, y = r2_score))\n",
    "        + geom_point(aes(size = abs_Metadata_number_of_singlecells, color = channel_learned), alpha = 0.7)\n",
    "\n",
    "        + theme_bw()\n",
    "        + guides(\n",
    "            color = guide_legend(title = \"Channel\\n(if applicable)\", order = 1),\n",
    "            size = guide_legend(title = \"Cell count contributution\")\n",
    "        )\n",
    "        + ylab(\"R2 score of LM feature\")\n",
    "        + xlab(\"Treatment and Dose contribution (LM beta coefficient)\")\n",
    "        + ggtitle(paste0(\"How CellProfiler features contribute\\nto \",loop_list[i], \" treatments and cell density\"))\n",
    "    )\n",
    "\n",
    "    plot(lm_fig_gg)\n",
    "}\n",
    "dev.off()"
   ]
  },
  {
   "cell_type": "code",
   "execution_count": null,
   "id": "03e837aa",
   "metadata": {},
   "outputs": [],
   "source": []
  },
  {
   "cell_type": "code",
   "execution_count": null,
   "id": "cbf6a657",
   "metadata": {},
   "outputs": [],
   "source": []
  }
 ],
 "metadata": {
  "kernelspec": {
   "display_name": "R [conda env:Interstellar] *",
   "language": "R",
   "name": "conda-env-Interstellar-r"
  },
  "language_info": {
   "codemirror_mode": "r",
   "file_extension": ".r",
   "mimetype": "text/x-r-source",
   "name": "R",
   "pygments_lexer": "r",
   "version": "4.2.2"
  },
  "vscode": {
   "interpreter": {
    "hash": "72ae02083a9ca7d143c492d1aec380c7bf553ec51bd66e90e72bba65228121b6"
   }
  }
 },
 "nbformat": 4,
 "nbformat_minor": 5
}
