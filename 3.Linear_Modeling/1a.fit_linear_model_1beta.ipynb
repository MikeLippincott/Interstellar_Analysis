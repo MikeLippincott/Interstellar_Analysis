{
 "cells": [
  {
   "cell_type": "code",
   "execution_count": 1,
   "metadata": {},
   "outputs": [],
   "source": [
    "import sys\n",
    "import pathlib\n",
    "import pandas as pd\n",
    "import numpy as np\n",
    "\n",
    "from sklearn.linear_model import LinearRegression\n",
    "import plotly.express as px\n",
    "from pycytominer.cyto_utils import infer_cp_features\n",
    "from matplotlib import pyplot as plt\n",
    "import seaborn as sns\n",
    "from sklearn.preprocessing import LabelEncoder\n",
    "import pdfkit\n",
    "import pyarrow as pa\n",
    "import pyarrow.parquet as pq\n",
    "\n",
    "# import Union\n",
    "from typing import Union\n",
    "\n",
    "sys.path.append(\"..\")\n",
    "# from ..utils.utils import df_stats\n",
    "import matplotlib.pyplot as plt\n",
    "\n",
    "pd.set_option(\"mode.chained_assignment\", None)"
   ]
  },
  {
   "cell_type": "code",
   "execution_count": 2,
   "metadata": {},
   "outputs": [],
   "source": [
    "# Define inputs\n",
    "feature_file = pathlib.Path(\n",
    "    \"../../Extracted_Features_(CSV_files)/feature_df_sc_norm.parquet\"\n",
    ")\n",
    "feature_df = pq.read_table(feature_file).to_pandas()"
   ]
  },
  {
   "cell_type": "code",
   "execution_count": 3,
   "metadata": {},
   "outputs": [],
   "source": [
    "# define output file path\n",
    "one_beta_output_file_path = pathlib.Path(\"./results/lm_one_beta.tsv\")\n",
    "two_beta_output_file_path = pathlib.Path(\"./results/lm_two_beta.tsv\")\n",
    "three_beta_output_file_path = pathlib.Path(\"./results/lm_three_beta.tsv\")\n",
    "four_beta_output_file_path = pathlib.Path(\"./results/lm_four_beta.tsv\")"
   ]
  },
  {
   "cell_type": "code",
   "execution_count": 4,
   "metadata": {},
   "outputs": [
    {
     "name": "stdout",
     "output_type": "stream",
     "text": [
      "We are testing 2847 CellProfiler features\n",
      "The unique Treatment-Dosages are: media ctr_0_Media ctr_0.0, \n",
      "DMSO_0.100_DMSO_1.0, \n",
      "DMSO_0.100_Z-VAD-FMK_100.0, \n",
      "DMSO_0.100_Z-VAD-FMK_30.0, \n",
      "DMSO_0.100_DMSO_0.025, \n",
      "Thapsigargin_1.000_DMSO_0.025, \n",
      "Thapsigargin_10.000_DMSO_0.025, \n",
      "Topotecan_5.000_DMSO_0.025, \n",
      "Topotecan_10.000_DMSO_0.025, \n",
      "Topotecan_20.000_DMSO_0.025, \n",
      "LPS_0.010_DMSO_0.025, \n",
      "LPS_0.100_DMSO_0.025, \n",
      "LPS_1.000_DMSO_0.025, \n",
      "LPS_10.000_DMSO_0.025, \n",
      "LPS_10.000_Disulfiram_0.1, \n",
      "LPS_10.000_Disulfiram_1.0, \n",
      "LPS_10.000_Disulfiram_2.5, \n",
      "LPS_Nigericin_100.000_1.0_DMSO_0.025, \n",
      "LPS_Nigericin_100.000_3.0_DMSO_0.025, \n",
      "LPS_Nigericin_100.000_10.0_DMSO_0.025, \n",
      "Disulfiram_0.100_DMSO_0.025, \n",
      "Disulfiram_1.000_DMSO_0.025, \n",
      "Disulfiram_2.500_DMSO_0.025, \n",
      "H2O2_100.000_DMSO_0.025, \n",
      "LPS_10.000_Z-VAD-FMK_100.0, \n",
      "LPS_100.000_DMSO_0.025, \n",
      "LPS_Nigericin_1.000_1.0_DMSO_0.025, \n",
      "LPS_Nigericin_1.000_3.0_DMSO_0.025, \n",
      "LPS_Nigericin_1.000_10.0_DMSO_0.025, \n",
      "LPS_Nigericin_1.000_10.0_Disulfiram_1.0, \n",
      "LPS_Nigericin_1.000_10.0_Z-VAD-FMK_100.0, \n",
      "H2O2_100.000_Disulfiram_1.0, \n",
      "H2O2_100.000_Z-VAD-FMK_100.0, \n",
      "Flagellin_0.100_DMSO_0.025, \n",
      "Flagellin_1.000_DMSO_0.025, \n",
      "Flagellin_1.000_Disulfiram_1.0\n"
     ]
    }
   ],
   "source": [
    "cp_features = infer_cp_features(feature_df)\n",
    "print(f\"We are testing {len(cp_features)} CellProfiler features\")\n",
    "\n",
    "new_line = \"\\n\"\n",
    "print(\n",
    "    f\"The unique Treatment-Dosages are: {f', {new_line}'.join((feature_df['oneb_Metadata_Treatment_Dose_Inhibitor_Dose'].unique()))}\"\n",
    ")"
   ]
  },
  {
   "attachments": {},
   "cell_type": "markdown",
   "metadata": {},
   "source": [
    "##### Here I plot the beta coefficients for each treatment against the number of cells per well. Data points the drift heavily in the Y axis are features that are affected the most by the y-axis treatment while data points that drift more in the x-axis are features that are most affected by the number of cells in a well.  "
   ]
  },
  {
   "attachments": {},
   "cell_type": "markdown",
   "metadata": {},
   "source": [
    "#### Simple Linear Modeling (cell count beta + 1 beta approach)\n",
    "Here I merged the treatment and dosage and used DMSO 0.1% as the control simply comparing one dosage/treatment at a time and outputting each graph for each treatment for all features. All features and treatments will be exported into 1 file.\n",
    "\n",
    "Linear Model:  \n",
    "$y = \\beta _{0}x+ \\beta _{1}x+ \\epsilon$ where;  \n",
    "$y$ is each feature    \n",
    "$x$ is the inputed variables  \n",
    "$\\beta _{0}$ is the beta coefficient attributed to cell count.  \n",
    "$\\beta _{1}$ is the beta coefficient attributed to Inducer, Inhibitor,Inhibitor Dose and, Inducer dose.  \n",
    "$\\epsilon$ is the residual variance not explained by factors in the model"
   ]
  },
  {
   "cell_type": "code",
   "execution_count": 5,
   "metadata": {},
   "outputs": [
    {
     "name": "stdout",
     "output_type": "stream",
     "text": [
      "['media ctr_0_Media ctr_0.0', 'DMSO_0.100_DMSO_0.025']\n",
      "['DMSO_0.100_DMSO_1.0', 'DMSO_0.100_DMSO_0.025']\n",
      "['DMSO_0.100_Z-VAD-FMK_100.0', 'DMSO_0.100_DMSO_0.025']\n",
      "['DMSO_0.100_Z-VAD-FMK_30.0', 'DMSO_0.100_DMSO_0.025']\n",
      "['DMSO_0.100_DMSO_0.025', 'DMSO_0.100_DMSO_0.025']\n",
      "['Thapsigargin_1.000_DMSO_0.025', 'DMSO_0.100_DMSO_0.025']\n",
      "['Thapsigargin_10.000_DMSO_0.025', 'DMSO_0.100_DMSO_0.025']\n",
      "['Topotecan_5.000_DMSO_0.025', 'DMSO_0.100_DMSO_0.025']\n",
      "['Topotecan_10.000_DMSO_0.025', 'DMSO_0.100_DMSO_0.025']\n",
      "['Topotecan_20.000_DMSO_0.025', 'DMSO_0.100_DMSO_0.025']\n",
      "['LPS_0.010_DMSO_0.025', 'DMSO_0.100_DMSO_0.025']\n",
      "['LPS_0.100_DMSO_0.025', 'DMSO_0.100_DMSO_0.025']\n",
      "['LPS_1.000_DMSO_0.025', 'DMSO_0.100_DMSO_0.025']\n",
      "['LPS_10.000_DMSO_0.025', 'DMSO_0.100_DMSO_0.025']\n",
      "['LPS_10.000_Disulfiram_0.1', 'DMSO_0.100_DMSO_0.025']\n",
      "['LPS_10.000_Disulfiram_1.0', 'DMSO_0.100_DMSO_0.025']\n",
      "['LPS_10.000_Disulfiram_2.5', 'DMSO_0.100_DMSO_0.025']\n",
      "['LPS_Nigericin_100.000_1.0_DMSO_0.025', 'DMSO_0.100_DMSO_0.025']\n",
      "['LPS_Nigericin_100.000_3.0_DMSO_0.025', 'DMSO_0.100_DMSO_0.025']\n",
      "['LPS_Nigericin_100.000_10.0_DMSO_0.025', 'DMSO_0.100_DMSO_0.025']\n",
      "['Disulfiram_0.100_DMSO_0.025', 'DMSO_0.100_DMSO_0.025']\n",
      "['Disulfiram_1.000_DMSO_0.025', 'DMSO_0.100_DMSO_0.025']\n",
      "['Disulfiram_2.500_DMSO_0.025', 'DMSO_0.100_DMSO_0.025']\n",
      "['H2O2_100.000_DMSO_0.025', 'DMSO_0.100_DMSO_0.025']\n",
      "['LPS_10.000_Z-VAD-FMK_100.0', 'DMSO_0.100_DMSO_0.025']\n",
      "['LPS_100.000_DMSO_0.025', 'DMSO_0.100_DMSO_0.025']\n",
      "['LPS_Nigericin_1.000_1.0_DMSO_0.025', 'DMSO_0.100_DMSO_0.025']\n",
      "['LPS_Nigericin_1.000_3.0_DMSO_0.025', 'DMSO_0.100_DMSO_0.025']\n",
      "['LPS_Nigericin_1.000_10.0_DMSO_0.025', 'DMSO_0.100_DMSO_0.025']\n",
      "['LPS_Nigericin_1.000_10.0_Disulfiram_1.0', 'DMSO_0.100_DMSO_0.025']\n",
      "['LPS_Nigericin_1.000_10.0_Z-VAD-FMK_100.0', 'DMSO_0.100_DMSO_0.025']\n",
      "['H2O2_100.000_Disulfiram_1.0', 'DMSO_0.100_DMSO_0.025']\n",
      "['H2O2_100.000_Z-VAD-FMK_100.0', 'DMSO_0.100_DMSO_0.025']\n",
      "['Flagellin_0.100_DMSO_0.025', 'DMSO_0.100_DMSO_0.025']\n",
      "['Flagellin_1.000_DMSO_0.025', 'DMSO_0.100_DMSO_0.025']\n",
      "['Flagellin_1.000_Disulfiram_1.0', 'DMSO_0.100_DMSO_0.025']\n"
     ]
    }
   ],
   "source": [
    "model_covariates = [\"Metadata_number_of_singlecells\"]\n",
    "control = \"DMSO_0.100_DMSO_0.025\"\n",
    "lm_results = []\n",
    "for treatment in feature_df[\"oneb_Metadata_Treatment_Dose_Inhibitor_Dose\"].unique():\n",
    "    dosage_treatments_list = [treatment, control]\n",
    "    print(dosage_treatments_list)\n",
    "    # filter df for treatment and dose\n",
    "    df = feature_df.query(\n",
    "        \"oneb_Metadata_Treatment_Dose_Inhibitor_Dose in @dosage_treatments_list\"\n",
    "    )\n",
    "    # encode treatment and dose as integers\n",
    "\n",
    "    df[\"oneb_Metadata_Treatment_Dose_Inhibitor_Dose\"] = LabelEncoder().fit_transform(\n",
    "        df[\"oneb_Metadata_Treatment_Dose_Inhibitor_Dose\"]\n",
    "    )\n",
    "\n",
    "    # Setup linear modeling framework\n",
    "\n",
    "    X = df.loc[:, model_covariates]\n",
    "    X = pd.concat([X, df[\"oneb_Metadata_Treatment_Dose_Inhibitor_Dose\"]], axis=1)\n",
    "\n",
    "    columns_list = (\n",
    "        [\"feature\", \"r2_score\"] + X.columns.tolist() + [\"dosage_treatments_list\"]\n",
    "    )\n",
    "\n",
    "    # Fit linear model for each feature\n",
    "    for cp_feature in cp_features:\n",
    "        # Subset CP data to each individual feature (univariate test)\n",
    "        cp_subset_df = df.loc[:, cp_feature]\n",
    "\n",
    "        # Fit linear model\n",
    "        lm = LinearRegression(fit_intercept=True)\n",
    "        lm_result = lm.fit(X=X, y=cp_subset_df)\n",
    "\n",
    "        # Extract Beta coefficients(contribution of feature to X covariates)\n",
    "        coef = list(lm_result.coef_)\n",
    "        # Estimate fit (R^2)\n",
    "        r2_score = lm.score(X=X, y=cp_subset_df)\n",
    "\n",
    "        # Add results to a growing list\n",
    "        lm_results.append(\n",
    "            [cp_feature, r2_score] + coef + [f\"{'-'.join(dosage_treatments_list)}\"]\n",
    "        )\n",
    "lm_results\n",
    "# Convert results to a pandas DataFrame\n",
    "lm_results_df = pd.DataFrame(lm_results, columns=columns_list)\n",
    "\n",
    "# write output to file\n",
    "lm_results_df.to_csv(one_beta_output_file_path, sep=\"\\t\", index=False)"
   ]
  }
 ],
 "metadata": {
  "kernelspec": {
   "display_name": "Interstellar",
   "language": "python",
   "name": "python3"
  },
  "language_info": {
   "codemirror_mode": {
    "name": "ipython",
    "version": 3
   },
   "file_extension": ".py",
   "mimetype": "text/x-python",
   "name": "python",
   "nbconvert_exporter": "python",
   "pygments_lexer": "ipython3",
   "version": "3.10.10 | packaged by conda-forge | (main, Mar 24 2023, 20:08:06) [GCC 11.3.0]"
  },
  "orig_nbformat": 4,
  "vscode": {
   "interpreter": {
    "hash": "72ae02083a9ca7d143c492d1aec380c7bf553ec51bd66e90e72bba65228121b6"
   }
  }
 },
 "nbformat": 4,
 "nbformat_minor": 2
}
