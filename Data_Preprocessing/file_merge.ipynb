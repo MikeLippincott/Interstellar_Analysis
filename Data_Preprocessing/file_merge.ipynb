{
 "cells": [
  {
   "cell_type": "code",
   "execution_count": 1,
   "metadata": {},
   "outputs": [],
   "source": [
    "import pyarrow.parquet as pq\n",
    "import numpy as np\n",
    "import pandas as pd\n",
    "import pyarrow as pa\n",
    "from pathlib import Path"
   ]
  },
  {
   "attachments": {},
   "cell_type": "markdown",
   "metadata": {},
   "source": [
    "Merge first and second run of the SH-SY5Y cell line Cell profiler analysis  \n",
    "_sc_ = single cell resolved features\n",
    "_fs_ = feature selection performed on the singled cell resolved feature space\n",
    "\n",
    "Each run need to be merged to return one continuous run "
   ]
  },
  {
   "cell_type": "code",
   "execution_count": 2,
   "metadata": {},
   "outputs": [],
   "source": [
    "# define input paths\n",
    "first_run_sc_fs_path = Path(\n",
    "    \"/media/lippincm/c58d4f19-ae4d-4b78-8370-2c2639886da0/Interstellar_Plate2/SHSY5Y_first_run_sc_norm_fs.parquet\"\n",
    ")\n",
    "first_run_sc_path = Path(\n",
    "    \"/media/lippincm/c58d4f19-ae4d-4b78-8370-2c2639886da0/Interstellar_Plate2/SHSY5Y_first_run_sc_norm.parquet\"\n",
    ")\n",
    "\n",
    "second_run_sc_fs_path = Path(\n",
    "    \"/media/lippincm/c58d4f19-ae4d-4b78-8370-2c2639886da0/Interstellar_Plate2/SHSY5Y_second_run_sc_norm_fs.parquet\"\n",
    ")\n",
    "second_run_sc_path = Path(\n",
    "    \"/media/lippincm/c58d4f19-ae4d-4b78-8370-2c2639886da0/Interstellar_Plate2/SHSY5Y_second_run_sc_norm.parquet\"\n",
    ")\n",
    "\n",
    "# define output paths\n",
    "SHSY5Y_sc_norm_fs_path = Path(\n",
    "    \"../../Extracted_Features_(CSV_files)/SHSY5Y_run_sc_norm_fs.parquet\"\n",
    ")\n",
    "SHSY5Y_sc_norm_path = Path(\n",
    "    \"../../Extracted_Features_(CSV_files)/SHSY5Y_run_sc_norm.parquet\"\n",
    ")"
   ]
  },
  {
   "cell_type": "code",
   "execution_count": 3,
   "metadata": {},
   "outputs": [],
   "source": [
    "# read parquet files into pandas dataframes\n",
    "first_run_sc_fs = pq.read_table(first_run_sc_fs_path).to_pandas()\n",
    "first_run_sc = pq.read_table(first_run_sc_path).to_pandas()\n",
    "second_run_sc_fs = pq.read_table(second_run_sc_fs_path).to_pandas()\n",
    "second_run_sc = pq.read_table(second_run_sc_fs_path).to_pandas()"
   ]
  },
  {
   "cell_type": "code",
   "execution_count": null,
   "metadata": {},
   "outputs": [],
   "source": [
    "# concatenate dataframes (append second run to first run)\n",
    "SHSY5Y_sc_norm_fs = pd.concat([first_run_sc_fs, second_run_sc_fs], ignore_index=True)\n",
    "SHSY5Y_sc_norm = pd.concat([first_run_sc, second_run_sc], ignore_index=True)"
   ]
  },
  {
   "cell_type": "code",
   "execution_count": null,
   "metadata": {},
   "outputs": [],
   "source": [
    "# convert dataframes to pyarrow tables\n",
    "SHSY5Y_sc_norm_fs = pa.Table.from_pandas(SHSY5Y_sc_norm_fs)\n",
    "SHSY5Y_sc_norm = pa.Table.from_pandas(SHSY5Y_sc_norm)"
   ]
  },
  {
   "cell_type": "code",
   "execution_count": null,
   "metadata": {},
   "outputs": [],
   "source": [
    "# write pyarrow tables to parquet files\n",
    "pq.write_table(SHSY5Y_sc_norm_fs, SHSY5Y_sc_norm_fs_path)\n",
    "pq.write_table(SHSY5Y_sc_norm, SHSY5Y_sc_norm_path)"
   ]
  }
 ],
 "metadata": {
  "kernelspec": {
   "display_name": "Interstellar",
   "language": "python",
   "name": "python3"
  },
  "language_info": {
   "codemirror_mode": {
    "name": "ipython",
    "version": 3
   },
   "file_extension": ".py",
   "mimetype": "text/x-python",
   "name": "python",
   "nbconvert_exporter": "python",
   "pygments_lexer": "ipython3",
   "version": "3.10.10"
  },
  "orig_nbformat": 4,
  "vscode": {
   "interpreter": {
    "hash": "72ae02083a9ca7d143c492d1aec380c7bf553ec51bd66e90e72bba65228121b6"
   }
  }
 },
 "nbformat": 4,
 "nbformat_minor": 2
}
