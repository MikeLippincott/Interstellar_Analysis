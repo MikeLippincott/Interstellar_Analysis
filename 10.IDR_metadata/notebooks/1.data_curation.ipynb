{
    "cells": [
        {
            "cell_type": "markdown",
            "id": "67de461b",
            "metadata": {
                "papermill": {
                    "duration": 0.001571,
                    "end_time": "2024-04-16T22:49:30.677573",
                    "exception": false,
                    "start_time": "2024-04-16T22:49:30.676002",
                    "status": "completed"
                },
                "tags": []
            },
            "source": [
                "This noteboook aggregates the data from the previous notebooks and creates the final aggregated dataset.\n",
                "Here we curate the data for IDR"
            ]
        },
        {
            "cell_type": "code",
            "execution_count": 1,
            "id": "a32e58a2",
            "metadata": {
                "execution": {
                    "iopub.execute_input": "2024-04-16T22:49:30.680735Z",
                    "iopub.status.busy": "2024-04-16T22:49:30.680394Z",
                    "iopub.status.idle": "2024-04-16T22:49:30.688093Z",
                    "shell.execute_reply": "2024-04-16T22:49:30.687691Z"
                },
                "papermill": {
                    "duration": 0.010324,
                    "end_time": "2024-04-16T22:49:30.689014",
                    "exception": false,
                    "start_time": "2024-04-16T22:49:30.678690",
                    "status": "completed"
                },
                "tags": [
                    "injected-parameters"
                ]
            },
            "outputs": [],
            "source": [
                "# Parameters\n",
                "cell_type = \"PBMC\"\n",
                "aggregation = True\n",
                "nomic = True"
            ]
        },
        {
            "cell_type": "code",
            "execution_count": 2,
            "id": "3ebfd6b0",
            "metadata": {
                "execution": {
                    "iopub.execute_input": "2024-04-16T22:49:30.691752Z",
                    "iopub.status.busy": "2024-04-16T22:49:30.691442Z",
                    "iopub.status.idle": "2024-04-16T22:49:31.314987Z",
                    "shell.execute_reply": "2024-04-16T22:49:31.314543Z"
                },
                "papermill": {
                    "duration": 0.626078,
                    "end_time": "2024-04-16T22:49:31.316135",
                    "exception": false,
                    "start_time": "2024-04-16T22:49:30.690057",
                    "status": "completed"
                },
                "tags": []
            },
            "outputs": [],
            "source": [
                "import pathlib\n",
                "\n",
                "import numpy as np\n",
                "import pandas as pd"
            ]
        },
        {
            "cell_type": "code",
            "execution_count": 3,
            "id": "41eb9cfd",
            "metadata": {
                "execution": {
                    "iopub.execute_input": "2024-04-16T22:49:31.319881Z",
                    "iopub.status.busy": "2024-04-16T22:49:31.319568Z",
                    "iopub.status.idle": "2024-04-16T22:49:31.322198Z",
                    "shell.execute_reply": "2024-04-16T22:49:31.321866Z"
                },
                "papermill": {
                    "duration": 0.004714,
                    "end_time": "2024-04-16T22:49:31.322804",
                    "exception": false,
                    "start_time": "2024-04-16T22:49:31.318090",
                    "status": "completed"
                },
                "tags": []
            },
            "outputs": [],
            "source": [
                "if aggregation and nomic:\n",
                "    aggregated_data_path = pathlib.Path(\n",
                "        f\"../../data/{cell_type}_preprocess_sc_norm_no_fs_aggregated_nomic.parquet\"\n",
                "    )\n",
                "elif not aggregation and nomic:\n",
                "    aggregated_data_path = pathlib.Path(\n",
                "        f\"../../data/{cell_type}_preprocess_sc_norm_no_fs_nomic.parquet\"\n",
                "    )\n",
                "elif aggregation and not nomic:\n",
                "    aggregated_data_path = pathlib.Path(\n",
                "        f\"../../data/{cell_type}_preprocess_sc_norm_no_fs_aggregated.parquet\"\n",
                "    )\n",
                "elif not aggregation and not nomic:\n",
                "    pass\n",
                "else:\n",
                "    raise ValueError(\"Wrong parameters\")"
            ]
        },
        {
            "cell_type": "code",
            "execution_count": 4,
            "id": "ba5278c5",
            "metadata": {
                "execution": {
                    "iopub.execute_input": "2024-04-16T22:49:31.325523Z",
                    "iopub.status.busy": "2024-04-16T22:49:31.325245Z",
                    "iopub.status.idle": "2024-04-16T22:58:02.212335Z",
                    "shell.execute_reply": "2024-04-16T22:58:02.197033Z"
                },
                "papermill": {
                    "duration": 510.907434,
                    "end_time": "2024-04-16T22:58:02.231285",
                    "exception": false,
                    "start_time": "2024-04-16T22:49:31.323851",
                    "status": "completed"
                },
                "tags": []
            },
            "outputs": [],
            "source": [
                "path = pathlib.Path(f\"../../data/{cell_type}_preprocess_sc_norm_no_fs.parquet\")\n",
                "\n",
                "data_df = pd.read_parquet(path)\n",
                "\n",
                "data_df.head()\n",
                "\n",
                "if nomic:\n",
                "    # import nomic data\n",
                "    nomic_df_path = pathlib.Path(\n",
                "        f\"../../2.Nomic_nELISA_Analysis/Data/clean/Plate2/nELISA_plate_430420_{cell_type}_clean.parquet\"\n",
                "    )\n",
                "    df_nomic = pd.read_parquet(nomic_df_path)\n",
                "\n",
                "    # drop columns that contain [pgML]\n",
                "    df_nomic = df_nomic.drop(\n",
                "        columns=[col for col in df_nomic.columns if \"[pgML]\" in col]\n",
                "    )\n",
                "    # drop first 25 columns (metadata that does not contain metadata in the title)\n",
                "    df_nomic = df_nomic.drop(columns=df_nomic.columns[3:25])\n",
                "    df_nomic = df_nomic.drop(columns=df_nomic.columns[0:2])\n",
                "elif not nomic:\n",
                "    pass\n",
                "else:\n",
                "    raise ValueError(\"Nomic data not imported\")"
            ]
        },
        {
            "cell_type": "code",
            "execution_count": 5,
            "id": "073ab83f",
            "metadata": {
                "execution": {
                    "iopub.execute_input": "2024-04-16T22:58:02.254534Z",
                    "iopub.status.busy": "2024-04-16T22:58:02.254088Z",
                    "iopub.status.idle": "2024-04-17T00:12:31.011400Z",
                    "shell.execute_reply": "2024-04-17T00:12:30.981245Z"
                },
                "papermill": {
                    "duration": 4468.814112,
                    "end_time": "2024-04-17T00:12:31.060288",
                    "exception": false,
                    "start_time": "2024-04-16T22:58:02.246176",
                    "status": "completed"
                },
                "tags": []
            },
            "outputs": [],
            "source": [
                "# subset each column that contains metadata\n",
                "metadata = data_df.filter(regex=\"Metadata\")\n",
                "\n",
                "# get all columns that are not metadata except for metadata_Well\n",
                "data = data_df.drop(metadata.columns, axis=1)\n",
                "\n",
                "# get the metadata_Well column\n",
                "metadata_well = metadata[[\"Metadata_Well\"]]\n",
                "\n",
                "data_df = pd.merge(data, metadata_well, left_index=True, right_index=True)"
            ]
        },
        {
            "cell_type": "code",
            "execution_count": 6,
            "id": "d3712b16",
            "metadata": {
                "execution": {
                    "iopub.execute_input": "2024-04-17T00:12:31.129125Z",
                    "iopub.status.busy": "2024-04-17T00:12:31.128101Z",
                    "iopub.status.idle": "2024-04-17T00:12:31.354667Z",
                    "shell.execute_reply": "2024-04-17T00:12:31.354171Z"
                },
                "papermill": {
                    "duration": 0.264077,
                    "end_time": "2024-04-17T00:12:31.356330",
                    "exception": false,
                    "start_time": "2024-04-17T00:12:31.092253",
                    "status": "completed"
                },
                "tags": []
            },
            "outputs": [],
            "source": [
                "if nomic:\n",
                "    df_nomic.drop(\n",
                "        columns=[\n",
                "            \"Treatment\",\n",
                "            \"Dose\",\n",
                "        ],\n",
                "        inplace=True,\n",
                "    )"
            ]
        },
        {
            "cell_type": "code",
            "execution_count": 7,
            "id": "510c7356",
            "metadata": {
                "execution": {
                    "iopub.execute_input": "2024-04-17T00:12:31.360868Z",
                    "iopub.status.busy": "2024-04-17T00:12:31.360654Z",
                    "iopub.status.idle": "2024-04-17T01:58:59.296511Z",
                    "shell.execute_reply": "2024-04-17T01:58:59.271977Z"
                },
                "papermill": {
                    "duration": 6387.982188,
                    "end_time": "2024-04-17T01:58:59.340147",
                    "exception": false,
                    "start_time": "2024-04-17T00:12:31.357959",
                    "status": "completed"
                },
                "tags": []
            },
            "outputs": [],
            "source": [
                "if aggregation and nomic:\n",
                "\n",
                "    # subset each column that contains metadata\n",
                "    metadata = data_df.filter(regex=\"Metadata\")\n",
                "    data_df = data_df.drop(metadata.columns, axis=1)\n",
                "    data_df = pd.concat([data_df, metadata[\"Metadata_Well\"]], axis=1)\n",
                "    # groupby well and take mean of each well\n",
                "    data_df = data_df.groupby(\"Metadata_Well\").mean()\n",
                "    # drop duplicate rows in the metadata_well column\n",
                "    metadata = metadata.drop_duplicates(subset=[\"Metadata_Well\"])\n",
                "    # get the metadata for each well\n",
                "    data_df = pd.merge(\n",
                "        data_df, metadata, left_on=\"Metadata_Well\", right_on=\"Metadata_Well\"\n",
                "    )\n",
                "    data_df_merge = pd.merge(\n",
                "        data_df,\n",
                "        df_nomic,\n",
                "        left_on=[\"Metadata_Well\"],\n",
                "        right_on=[\"position_x\"],\n",
                "    )\n",
                "\n",
                "    data_df_merge = data_df_merge.drop(columns=[\"position_x\"])\n",
                "    # drop all metadata columns\n",
                "    data_x = data_df_merge.drop(metadata.columns, axis=1)\n",
                "\n",
                "\n",
                "elif aggregation and not nomic:\n",
                "    # get metadata columns\n",
                "    metadata = data_df.filter(regex=\"Metadata\")\n",
                "    data_df = data_df.drop(metadata.columns, axis=1)\n",
                "    metadata\n",
                "    data_df = pd.concat([data_df, metadata], axis=1)\n",
                "    # groupby well and take mean of each well\n",
                "    data_df = data_df.groupby(\n",
                "        [\n",
                "            \"Metadata_Well\",\n",
                "        ]\n",
                "    ).mean()\n",
                "    # # drop duplicate rows in the metadata_well column\n",
                "    metadata = metadata.drop_duplicates(subset=[\"Metadata_Well\"])\n",
                "    # # get the metadata for each well\n",
                "    # # set path to save the data\n",
                "    # reset the index\n",
                "    data_df = data_df.reset_index()\n",
                "\n",
                "elif not aggregation and nomic:\n",
                "    data_df = pd.merge(\n",
                "        data_df,\n",
                "        df_nomic,\n",
                "        left_on=[\n",
                "            \"Metadata_Well\",\n",
                "        ],\n",
                "        right_on=[\n",
                "            \"position_x\",\n",
                "        ],\n",
                "    )\n",
                "    data_df = data_df.drop(columns=[\"position_x\"])\n",
                "elif aggregation == False and nomic == False:\n",
                "    pass\n",
                "else:\n",
                "    raise ValueError(\"Wrong parameters nomic and/or aggregation not defined\")"
            ]
        },
        {
            "cell_type": "code",
            "execution_count": 8,
            "id": "9201ca9f",
            "metadata": {
                "execution": {
                    "iopub.execute_input": "2024-04-17T01:58:59.394747Z",
                    "iopub.status.busy": "2024-04-17T01:58:59.392732Z",
                    "iopub.status.idle": "2024-04-17T01:58:59.435470Z",
                    "shell.execute_reply": "2024-04-17T01:58:59.435107Z"
                },
                "papermill": {
                    "duration": 0.100861,
                    "end_time": "2024-04-17T01:58:59.475633",
                    "exception": false,
                    "start_time": "2024-04-17T01:58:59.374772",
                    "status": "completed"
                },
                "tags": []
            },
            "outputs": [
                {
                    "data": {
                        "text/plain": [
                            "154"
                        ]
                    },
                    "execution_count": 8,
                    "metadata": {},
                    "output_type": "execute_result"
                }
            ],
            "source": [
                "# Check if the number of wells is the correct (154)\n",
                "assert 154 == len(data_df[\"Metadata_Well\"].unique())"
            ]
        },
        {
            "cell_type": "code",
            "execution_count": 9,
            "id": "8977efc6",
            "metadata": {
                "execution": {
                    "iopub.execute_input": "2024-04-17T01:58:59.482276Z",
                    "iopub.status.busy": "2024-04-17T01:58:59.481916Z",
                    "iopub.status.idle": "2024-04-17T01:59:00.234105Z",
                    "shell.execute_reply": "2024-04-17T01:59:00.233668Z"
                },
                "papermill": {
                    "duration": 0.756529,
                    "end_time": "2024-04-17T01:59:00.235448",
                    "exception": false,
                    "start_time": "2024-04-17T01:58:59.478919",
                    "status": "completed"
                },
                "tags": []
            },
            "outputs": [],
            "source": [
                "# save the data\n",
                "data_df.to_parquet(aggregated_data_path)"
            ]
        }
    ],
    "metadata": {
        "kernelspec": {
            "display_name": "Interstellar",
            "language": "python",
            "name": "python3"
        },
        "language_info": {
            "codemirror_mode": {
                "name": "ipython",
                "version": 3
            },
            "file_extension": ".py",
            "mimetype": "text/x-python",
            "name": "python",
            "nbconvert_exporter": "python",
            "pygments_lexer": "ipython3",
            "version": "3.10.14"
        },
        "papermill": {
            "default_parameters": {},
            "duration": 11378.945019,
            "end_time": "2024-04-17T01:59:08.567275",
            "environment_variables": {},
            "exception": null,
            "input_path": "1.data_curation.ipynb",
            "output_path": "1.data_curation.ipynb",
            "parameters": {
                "aggregation": true,
                "cell_type": "PBMC",
                "nomic": true
            },
            "start_time": "2024-04-16T22:49:29.622256",
            "version": "2.4.0"
        }
    },
    "nbformat": 4,
    "nbformat_minor": 5
}
