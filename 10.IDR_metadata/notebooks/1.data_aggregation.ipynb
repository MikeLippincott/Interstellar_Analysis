{
 "cells": [
  {
   "cell_type": "markdown",
   "id": "67de461b",
   "metadata": {
    "papermill": {
     "duration": 0.002332,
     "end_time": "2024-03-04T20:10:38.785305",
     "exception": false,
     "start_time": "2024-03-04T20:10:38.782973",
     "status": "completed"
    },
    "tags": []
   },
   "source": [
    "This noteboook aggregates the data from the previous notebooks and creates the final dataset for the analysis barring the data are aggregated in the analysis."
   ]
  },
  {
   "cell_type": "code",
   "execution_count": 1,
   "id": "3ebfd6b0",
   "metadata": {
    "execution": {
     "iopub.execute_input": "2024-03-04T20:10:38.789798Z",
     "iopub.status.busy": "2024-03-04T20:10:38.789421Z",
     "iopub.status.idle": "2024-03-04T20:10:40.403017Z",
     "shell.execute_reply": "2024-03-04T20:10:40.402449Z"
    },
    "papermill": {
     "duration": 1.617558,
     "end_time": "2024-03-04T20:10:40.404727",
     "exception": false,
     "start_time": "2024-03-04T20:10:38.787169",
     "status": "completed"
    },
    "tags": []
   },
   "outputs": [],
   "source": [
    "import pathlib\n",
    "\n",
    "import numpy as np\n",
    "import pandas as pd"
   ]
  },
  {
   "cell_type": "code",
   "execution_count": 2,
   "id": "c07a0459",
   "metadata": {
    "execution": {
     "iopub.execute_input": "2024-03-04T20:10:40.411877Z",
     "iopub.status.busy": "2024-03-04T20:10:40.411319Z",
     "iopub.status.idle": "2024-03-04T20:10:40.414437Z",
     "shell.execute_reply": "2024-03-04T20:10:40.413948Z"
    },
    "papermill": {
     "duration": 0.006271,
     "end_time": "2024-03-04T20:10:40.415387",
     "exception": false,
     "start_time": "2024-03-04T20:10:40.409116",
     "status": "completed"
    },
    "tags": [
     "injected-parameters"
    ]
   },
   "outputs": [],
   "source": [
    "# Parameters\n",
    "cell_type = \"PBMC\"\n",
    "aggregation = True\n",
    "nomic = True\n"
   ]
  },
  {
   "cell_type": "code",
   "execution_count": 3,
   "id": "41eb9cfd",
   "metadata": {
    "execution": {
     "iopub.execute_input": "2024-03-04T20:10:40.419662Z",
     "iopub.status.busy": "2024-03-04T20:10:40.419212Z",
     "iopub.status.idle": "2024-03-04T20:10:40.422689Z",
     "shell.execute_reply": "2024-03-04T20:10:40.422212Z"
    },
    "papermill": {
     "duration": 0.006755,
     "end_time": "2024-03-04T20:10:40.423640",
     "exception": false,
     "start_time": "2024-03-04T20:10:40.416885",
     "status": "completed"
    },
    "tags": []
   },
   "outputs": [],
   "source": [
    "if aggregation and nomic:\n",
    "    aggregated_data_path = pathlib.Path(\n",
    "        f\"../../data/{cell_type}_preprocess_sc_norm_no_fs_aggregated_nomic.parquet\"\n",
    "    )\n",
    "elif not aggregation and nomic:\n",
    "    aggregated_data_path = pathlib.Path(\n",
    "        f\"../../data/{cell_type}_preprocess_sc_norm_no_fs_nomic.parquet\"\n",
    "    )\n",
    "elif aggregation and not nomic:\n",
    "    aggregated_data_path = pathlib.Path(\n",
    "        f\"../../data/{cell_type}_preprocess_sc_norm_no_fs_aggregated.parquet\"\n",
    "    )\n",
    "elif not aggregation and not nomic:\n",
    "    pass\n",
    "else:\n",
    "    raise ValueError(\"Wrong parameters\")"
   ]
  },
  {
   "cell_type": "code",
   "execution_count": 4,
   "id": "ba5278c5",
   "metadata": {
    "execution": {
     "iopub.execute_input": "2024-03-04T20:10:40.427841Z",
     "iopub.status.busy": "2024-03-04T20:10:40.427409Z",
     "iopub.status.idle": "2024-03-04T20:11:52.979548Z",
     "shell.execute_reply": "2024-03-04T20:11:52.979056Z"
    },
    "papermill": {
     "duration": 72.556087,
     "end_time": "2024-03-04T20:11:52.981290",
     "exception": false,
     "start_time": "2024-03-04T20:10:40.425203",
     "status": "completed"
    },
    "tags": []
   },
   "outputs": [],
   "source": [
    "path = pathlib.Path(f\"../../data/{cell_type}_preprocess_sc_norm_no_fs.parquet\")\n",
    "\n",
    "data_df = pd.read_parquet(path)\n",
    "\n",
    "data_df.head()\n",
    "\n",
    "if nomic:\n",
    "    # import nomic data\n",
    "    nomic_df_path = pathlib.Path(\n",
    "        f\"../../2.Nomic_nELISA_Analysis/Data/clean/Plate2/nELISA_plate_430420_{cell_type}_clean.parquet\"\n",
    "    )\n",
    "    df_nomic = pd.read_parquet(nomic_df_path)\n",
    "\n",
    "    # drop columns that contain [pgML]\n",
    "    df_nomic = df_nomic.drop(\n",
    "        columns=[col for col in df_nomic.columns if \"[pgML]\" in col]\n",
    "    )\n",
    "    # drop first 25 columns (metadata that does not contain metadata in the title)\n",
    "    df_nomic = df_nomic.drop(columns=df_nomic.columns[3:25])\n",
    "    df_nomic = df_nomic.drop(columns=df_nomic.columns[0:2])\n",
    "elif not nomic:\n",
    "    pass\n",
    "else:\n",
    "    raise ValueError(\"Nomic data not imported\")"
   ]
  },
  {
   "cell_type": "code",
   "execution_count": 5,
   "id": "073ab83f",
   "metadata": {
    "execution": {
     "iopub.execute_input": "2024-03-04T20:11:52.988465Z",
     "iopub.status.busy": "2024-03-04T20:11:52.988161Z",
     "iopub.status.idle": "2024-03-04T20:12:22.947976Z",
     "shell.execute_reply": "2024-03-04T20:12:22.947365Z"
    },
    "papermill": {
     "duration": 29.963849,
     "end_time": "2024-03-04T20:12:22.949593",
     "exception": false,
     "start_time": "2024-03-04T20:11:52.985744",
     "status": "completed"
    },
    "tags": []
   },
   "outputs": [],
   "source": [
    "# subset each column that contains metadata\n",
    "metadata = data_df.filter(regex=\"Metadata\")\n",
    "\n",
    "# get all columns that are not metadata except for metadata_Well\n",
    "data = data_df.drop(metadata.columns, axis=1)\n",
    "\n",
    "# get the metadata_Well column\n",
    "metadata_well = metadata[\n",
    "    [\"Metadata_Well\", \"oneb_Metadata_Treatment_Dose_Inhibitor_Dose\"]\n",
    "]\n",
    "\n",
    "data_df = pd.merge(data, metadata_well, left_index=True, right_index=True)"
   ]
  },
  {
   "cell_type": "code",
   "execution_count": 6,
   "id": "d3712b16",
   "metadata": {
    "execution": {
     "iopub.execute_input": "2024-03-04T20:12:22.957024Z",
     "iopub.status.busy": "2024-03-04T20:12:22.956592Z",
     "iopub.status.idle": "2024-03-04T20:12:22.960540Z",
     "shell.execute_reply": "2024-03-04T20:12:22.960029Z"
    },
    "papermill": {
     "duration": 0.007396,
     "end_time": "2024-03-04T20:12:22.961665",
     "exception": false,
     "start_time": "2024-03-04T20:12:22.954269",
     "status": "completed"
    },
    "tags": []
   },
   "outputs": [],
   "source": [
    "if nomic:\n",
    "    df_nomic.drop(\n",
    "        columns=[\n",
    "            \"Treatment\",\n",
    "            \"Dose\",\n",
    "            \"twob_Treatment_Dose_Inhibitor_Dose\",\n",
    "            \"threeb_Treatment_Dose_Inhibitor_Dose\",\n",
    "            \"fourb_Treatment_Dose_Inhibitor_Dose\",\n",
    "        ],\n",
    "        inplace=True,\n",
    "    )"
   ]
  },
  {
   "cell_type": "code",
   "execution_count": 7,
   "id": "510c7356",
   "metadata": {
    "execution": {
     "iopub.execute_input": "2024-03-04T20:12:22.965780Z",
     "iopub.status.busy": "2024-03-04T20:12:22.965367Z",
     "iopub.status.idle": "2024-03-04T20:15:02.473557Z",
     "shell.execute_reply": "2024-03-04T20:15:02.472923Z"
    },
    "papermill": {
     "duration": 159.511866,
     "end_time": "2024-03-04T20:15:02.475088",
     "exception": false,
     "start_time": "2024-03-04T20:12:22.963222",
     "status": "completed"
    },
    "tags": []
   },
   "outputs": [],
   "source": [
    "if aggregation and nomic:\n",
    "\n",
    "    # subset each column that contains metadata\n",
    "    metadata = data_df.filter(regex=\"Metadata\")\n",
    "    data_df = data_df.drop(metadata.columns, axis=1)\n",
    "    data_df = pd.concat([data_df, metadata[\"Metadata_Well\"]], axis=1)\n",
    "    # groupby well and take mean of each well\n",
    "    data_df = data_df.groupby(\"Metadata_Well\").mean()\n",
    "    # drop duplicate rows in the metadata_well column\n",
    "    metadata = metadata.drop_duplicates(subset=[\"Metadata_Well\"])\n",
    "    # get the metadata for each well\n",
    "    data_df = pd.merge(\n",
    "        data_df, metadata, left_on=\"Metadata_Well\", right_on=\"Metadata_Well\"\n",
    "    )\n",
    "    data_df = pd.merge(\n",
    "        data_df,\n",
    "        df_nomic,\n",
    "        left_on=[\"Metadata_Well\", \"oneb_Metadata_Treatment_Dose_Inhibitor_Dose\"],\n",
    "        right_on=[\"position_x\", \"oneb_Treatment_Dose_Inhibitor_Dose\"],\n",
    "    )\n",
    "    data_df = data_df.drop(columns=[\"position_x\"])\n",
    "    # drop all metadata columns\n",
    "    labeled_data = data_df[\"oneb_Metadata_Treatment_Dose_Inhibitor_Dose\"]\n",
    "    data_x = data_df.drop(metadata.columns, axis=1)\n",
    "\n",
    "\n",
    "elif aggregation and not nomic:\n",
    "    # get metadata columns\n",
    "    metadata = data_df.filter(regex=\"Metadata\")\n",
    "    data_df = data_df.drop(metadata.columns, axis=1)\n",
    "    metadata\n",
    "    data_df = pd.concat([data_df, metadata], axis=1)\n",
    "    # groupby well and take mean of each well\n",
    "    data_df = data_df.groupby(\n",
    "        [\"Metadata_Well\", \"oneb_Metadata_Treatment_Dose_Inhibitor_Dose\"]\n",
    "    ).mean()\n",
    "    # # drop duplicate rows in the metadata_well column\n",
    "    metadata = metadata.drop_duplicates(subset=[\"Metadata_Well\"])\n",
    "    # # get the metadata for each well\n",
    "    # # set path to save the data\n",
    "    # reset the index\n",
    "    data_df = data_df.reset_index()\n",
    "\n",
    "elif not aggregation and nomic:\n",
    "    data_df = pd.merge(\n",
    "        data_df,\n",
    "        df_nomic,\n",
    "        left_on=[\"Metadata_Well\", \"oneb_Metadata_Treatment_Dose_Inhibitor_Dose\"],\n",
    "        right_on=[\"position_x\", \"oneb_Treatment_Dose_Inhibitor_Dose\"],\n",
    "    )\n",
    "    data_df = data_df.drop(columns=[\"position_x\"])\n",
    "elif aggregation == False and nomic == False:\n",
    "    pass\n",
    "else:\n",
    "    raise ValueError(\"Wrong parameters nomic and/or aggregation not defined\")"
   ]
  },
  {
   "cell_type": "code",
   "execution_count": 8,
   "id": "8977efc6",
   "metadata": {
    "execution": {
     "iopub.execute_input": "2024-03-04T20:15:02.481875Z",
     "iopub.status.busy": "2024-03-04T20:15:02.481563Z",
     "iopub.status.idle": "2024-03-04T20:15:02.770798Z",
     "shell.execute_reply": "2024-03-04T20:15:02.770165Z"
    },
    "papermill": {
     "duration": 0.292984,
     "end_time": "2024-03-04T20:15:02.772236",
     "exception": false,
     "start_time": "2024-03-04T20:15:02.479252",
     "status": "completed"
    },
    "tags": []
   },
   "outputs": [],
   "source": [
    "# save the data\n",
    "data_df.to_parquet(aggregated_data_path)"
   ]
  }
 ],
 "metadata": {
  "kernelspec": {
   "display_name": "Interstellar",
   "language": "python",
   "name": "python3"
  },
  "language_info": {
   "codemirror_mode": {
    "name": "ipython",
    "version": 3
   },
   "file_extension": ".py",
   "mimetype": "text/x-python",
   "name": "python",
   "nbconvert_exporter": "python",
   "pygments_lexer": "ipython3",
   "version": "3.10.13"
  },
  "papermill": {
   "default_parameters": {},
   "duration": 266.560679,
   "end_time": "2024-03-04T20:15:03.190186",
   "environment_variables": {},
   "exception": null,
   "input_path": "1.data_aggregation.ipynb",
   "output_path": "1.data_aggregation.ipynb",
   "parameters": {
    "aggregation": true,
    "cell_type": "PBMC",
    "nomic": true
   },
   "start_time": "2024-03-04T20:10:36.629507",
   "version": "2.4.0"
  }
 },
 "nbformat": 4,
 "nbformat_minor": 5
}