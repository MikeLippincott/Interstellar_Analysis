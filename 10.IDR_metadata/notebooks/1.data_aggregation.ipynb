{
 "cells": [
  {
   "cell_type": "markdown",
   "id": "67de461b",
   "metadata": {
    "papermill": {
     "duration": 0.003139,
     "end_time": "2024-03-04T19:36:31.818271",
     "exception": false,
     "start_time": "2024-03-04T19:36:31.815132",
     "status": "completed"
    },
    "tags": []
   },
   "source": [
    "This noteboook aggregates the data from the previous notebooks and creates the final dataset for the analysis barring the data are aggregated in the analysis."
   ]
  },
  {
   "cell_type": "code",
   "execution_count": 1,
   "id": "3ebfd6b0",
   "metadata": {
    "execution": {
     "iopub.execute_input": "2024-03-04T19:36:31.823118Z",
     "iopub.status.busy": "2024-03-04T19:36:31.822727Z",
     "iopub.status.idle": "2024-03-04T19:36:32.971324Z",
     "shell.execute_reply": "2024-03-04T19:36:32.970764Z"
    },
    "papermill": {
     "duration": 1.152143,
     "end_time": "2024-03-04T19:36:32.972678",
     "exception": false,
     "start_time": "2024-03-04T19:36:31.820535",
     "status": "completed"
    },
    "tags": []
   },
   "outputs": [],
   "source": [
    "import pathlib\n",
    "\n",
    "import numpy as np\n",
    "import pandas as pd"
   ]
  },
  {
   "cell_type": "code",
   "execution_count": 2,
   "id": "1b0906ec",
   "metadata": {
    "execution": {
     "iopub.execute_input": "2024-03-04T19:36:32.977666Z",
     "iopub.status.busy": "2024-03-04T19:36:32.977276Z",
     "iopub.status.idle": "2024-03-04T19:36:32.979878Z",
     "shell.execute_reply": "2024-03-04T19:36:32.979489Z"
    },
    "papermill": {
     "duration": 0.005618,
     "end_time": "2024-03-04T19:36:32.980794",
     "exception": false,
     "start_time": "2024-03-04T19:36:32.975176",
     "status": "completed"
    },
    "tags": [
     "injected-parameters"
    ]
   },
   "outputs": [],
   "source": [
    "# Parameters\n",
    "cell_type = \"PBMC\"\n",
    "aggregation = True\n",
    "nomic = True"
   ]
  },
  {
   "cell_type": "code",
   "execution_count": 3,
   "id": "41eb9cfd",
   "metadata": {
    "execution": {
     "iopub.execute_input": "2024-03-04T19:36:32.984915Z",
     "iopub.status.busy": "2024-03-04T19:36:32.984490Z",
     "iopub.status.idle": "2024-03-04T19:36:32.987890Z",
     "shell.execute_reply": "2024-03-04T19:36:32.987508Z"
    },
    "papermill": {
     "duration": 0.006506,
     "end_time": "2024-03-04T19:36:32.988811",
     "exception": false,
     "start_time": "2024-03-04T19:36:32.982305",
     "status": "completed"
    },
    "tags": []
   },
   "outputs": [],
   "source": [
    "if aggregation and nomic:\n",
    "    aggregated_data_path = pathlib.Path(\n",
    "        f\"../../data/{cell_type}_preprocess_sc_norm_no_fs_aggregated_nomic.parquet\"\n",
    "    )\n",
    "elif not aggregation and nomic:\n",
    "    aggregated_data_path = pathlib.Path(\n",
    "        f\"../../data/{cell_type}_preprocess_sc_norm_no_fs_nomic.parquet\"\n",
    "    )\n",
    "elif aggregation and not nomic:\n",
    "    aggregated_data_path = pathlib.Path(\n",
    "        f\"../../data/{cell_type}_preprocess_sc_norm_no_fs_aggregated.parquet\"\n",
    "    )\n",
    "elif not aggregation and not nomic:\n",
    "    pass\n",
    "else:\n",
    "    raise ValueError(\"Wrong parameters\")"
   ]
  },
  {
   "cell_type": "code",
   "execution_count": 4,
   "id": "ba5278c5",
   "metadata": {
    "execution": {
     "iopub.execute_input": "2024-03-04T19:36:32.992849Z",
     "iopub.status.busy": "2024-03-04T19:36:32.992363Z",
     "iopub.status.idle": "2024-03-04T19:37:44.546794Z",
     "shell.execute_reply": "2024-03-04T19:37:44.546238Z"
    },
    "papermill": {
     "duration": 71.557995,
     "end_time": "2024-03-04T19:37:44.548394",
     "exception": false,
     "start_time": "2024-03-04T19:36:32.990399",
     "status": "completed"
    },
    "tags": []
   },
   "outputs": [],
   "source": [
    "path = pathlib.Path(f\"../../data/{cell_type}_preprocess_sc_norm_no_fs.parquet\")\n",
    "\n",
    "data_df = pd.read_parquet(path)\n",
    "\n",
    "data_df.head()\n",
    "\n",
    "if nomic:\n",
    "    # import nomic data\n",
    "    nomic_df_path = pathlib.Path(\n",
    "        f\"../../2.Nomic_nELISA_Analysis/Data/clean/Plate2/nELISA_plate_430420_{cell_type}_clean.parquet\"\n",
    "    )\n",
    "    df_nomic = pd.read_parquet(nomic_df_path)\n",
    "\n",
    "    # drop columns that contain [pgML]\n",
    "    df_nomic = df_nomic.drop(\n",
    "        columns=[col for col in df_nomic.columns if \"[pgML]\" in col]\n",
    "    )\n",
    "    # drop first 25 columns (metadata that does not contain metadata in the title)\n",
    "    df_nomic = df_nomic.drop(columns=df_nomic.columns[3:25])\n",
    "    df_nomic = df_nomic.drop(columns=df_nomic.columns[0:2])\n",
    "elif not nomic:\n",
    "    pass\n",
    "else:\n",
    "    raise ValueError(\"Nomic data not imported\")"
   ]
  },
  {
   "cell_type": "code",
   "execution_count": 5,
   "id": "073ab83f",
   "metadata": {
    "execution": {
     "iopub.execute_input": "2024-03-04T19:37:44.555617Z",
     "iopub.status.busy": "2024-03-04T19:37:44.555264Z",
     "iopub.status.idle": "2024-03-04T19:38:26.413464Z",
     "shell.execute_reply": "2024-03-04T19:38:26.412914Z"
    },
    "papermill": {
     "duration": 41.86259,
     "end_time": "2024-03-04T19:38:26.415268",
     "exception": false,
     "start_time": "2024-03-04T19:37:44.552678",
     "status": "completed"
    },
    "tags": []
   },
   "outputs": [],
   "source": [
    "# subset each column that contains metadata\n",
    "metadata = data_df.filter(regex=\"Metadata\")\n",
    "\n",
    "# get all columns that are not metadata except for metadata_Well\n",
    "data = data_df.drop(metadata.columns, axis=1)\n",
    "\n",
    "# get the metadata_Well column\n",
    "metadata_well = metadata[\n",
    "    [\"Metadata_Well\", \"oneb_Metadata_Treatment_Dose_Inhibitor_Dose\"]\n",
    "]\n",
    "\n",
    "data_df = pd.merge(data, metadata_well, left_index=True, right_index=True)"
   ]
  },
  {
   "cell_type": "code",
   "execution_count": 6,
   "id": "d3712b16",
   "metadata": {
    "execution": {
     "iopub.execute_input": "2024-03-04T19:38:26.432226Z",
     "iopub.status.busy": "2024-03-04T19:38:26.431982Z",
     "iopub.status.idle": "2024-03-04T19:38:26.435549Z",
     "shell.execute_reply": "2024-03-04T19:38:26.435146Z"
    },
    "papermill": {
     "duration": 0.007149,
     "end_time": "2024-03-04T19:38:26.436610",
     "exception": false,
     "start_time": "2024-03-04T19:38:26.429461",
     "status": "completed"
    },
    "tags": []
   },
   "outputs": [],
   "source": [
    "if nomic:\n",
    "    df_nomic.drop(\n",
    "        columns=[\n",
    "            \"Treatment\",\n",
    "            \"Dose\",\n",
    "            \"twob_Treatment_Dose_Inhibitor_Dose\",\n",
    "            \"threeb_Treatment_Dose_Inhibitor_Dose\",\n",
    "            \"fourb_Treatment_Dose_Inhibitor_Dose\",\n",
    "        ],\n",
    "        inplace=True,\n",
    "    )"
   ]
  },
  {
   "cell_type": "code",
   "execution_count": 7,
   "id": "510c7356",
   "metadata": {
    "execution": {
     "iopub.execute_input": "2024-03-04T19:38:26.441202Z",
     "iopub.status.busy": "2024-03-04T19:38:26.441041Z",
     "iopub.status.idle": "2024-03-04T19:41:09.417426Z",
     "shell.execute_reply": "2024-03-04T19:41:09.416923Z"
    },
    "papermill": {
     "duration": 162.980416,
     "end_time": "2024-03-04T19:41:09.418920",
     "exception": false,
     "start_time": "2024-03-04T19:38:26.438504",
     "status": "completed"
    },
    "tags": []
   },
   "outputs": [],
   "source": [
    "if aggregation and nomic:\n",
    "\n",
    "    # subset each column that contains metadata\n",
    "    metadata = data_df.filter(regex=\"Metadata\")\n",
    "    data_df = data_df.drop(metadata.columns, axis=1)\n",
    "    data_df = pd.concat([data_df, metadata[\"Metadata_Well\"]], axis=1)\n",
    "    # groupby well and take mean of each well\n",
    "    data_df = data_df.groupby(\"Metadata_Well\").mean()\n",
    "    # drop duplicate rows in the metadata_well column\n",
    "    metadata = metadata.drop_duplicates(subset=[\"Metadata_Well\"])\n",
    "    # get the metadata for each well\n",
    "    data_df = pd.merge(\n",
    "        data_df, metadata, left_on=\"Metadata_Well\", right_on=\"Metadata_Well\"\n",
    "    )\n",
    "    data_df = pd.merge(\n",
    "        data_df,\n",
    "        df_nomic,\n",
    "        left_on=[\"Metadata_Well\", \"oneb_Metadata_Treatment_Dose_Inhibitor_Dose\"],\n",
    "        right_on=[\"position_x\", \"oneb_Treatment_Dose_Inhibitor_Dose\"],\n",
    "    )\n",
    "    data_df = data_df.drop(columns=[\"position_x\"])\n",
    "    # drop all metadata columns\n",
    "    labeled_data = data_df[\"oneb_Metadata_Treatment_Dose_Inhibitor_Dose\"]\n",
    "    data_x = data_df.drop(metadata.columns, axis=1)\n",
    "\n",
    "\n",
    "elif aggregation and not nomic:\n",
    "    # get metadata columns\n",
    "    metadata = data_df.filter(regex=\"Metadata\")\n",
    "    data_df = data_df.drop(metadata.columns, axis=1)\n",
    "    metadata\n",
    "    data_df = pd.concat([data_df, metadata], axis=1)\n",
    "    # groupby well and take mean of each well\n",
    "    data_df = data_df.groupby(\n",
    "        [\"Metadata_Well\", \"oneb_Metadata_Treatment_Dose_Inhibitor_Dose\"]\n",
    "    ).mean()\n",
    "    # # drop duplicate rows in the metadata_well column\n",
    "    metadata = metadata.drop_duplicates(subset=[\"Metadata_Well\"])\n",
    "    # # get the metadata for each well\n",
    "    # # set path to save the data\n",
    "    # reset the index\n",
    "    data_df = data_df.reset_index()\n",
    "\n",
    "elif not aggregation and nomic:\n",
    "    data_df = pd.merge(\n",
    "        data_df,\n",
    "        df_nomic,\n",
    "        left_on=[\"Metadata_Well\", \"oneb_Metadata_Treatment_Dose_Inhibitor_Dose\"],\n",
    "        right_on=[\"position_x\", \"oneb_Treatment_Dose_Inhibitor_Dose\"],\n",
    "    )\n",
    "    data_df = data_df.drop(columns=[\"position_x\"])\n",
    "elif aggregation == False and nomic == False:\n",
    "    pass\n",
    "else:\n",
    "    raise ValueError(\"Wrong parameters nomic and/or aggregation not defined\")"
   ]
  },
  {
   "cell_type": "code",
   "execution_count": 8,
   "id": "8977efc6",
   "metadata": {
    "execution": {
     "iopub.execute_input": "2024-03-04T19:41:09.426290Z",
     "iopub.status.busy": "2024-03-04T19:41:09.425947Z",
     "iopub.status.idle": "2024-03-04T19:41:09.707829Z",
     "shell.execute_reply": "2024-03-04T19:41:09.707294Z"
    },
    "papermill": {
     "duration": 0.285408,
     "end_time": "2024-03-04T19:41:09.709135",
     "exception": false,
     "start_time": "2024-03-04T19:41:09.423727",
     "status": "completed"
    },
    "tags": []
   },
   "outputs": [],
   "source": [
    "# save the data\n",
    "data_df.to_parquet(aggregated_data_path)"
   ]
  }
 ],
 "metadata": {
  "kernelspec": {
   "display_name": "Interstellar",
   "language": "python",
   "name": "python3"
  },
  "language_info": {
   "codemirror_mode": {
    "name": "ipython",
    "version": 3
   },
   "file_extension": ".py",
   "mimetype": "text/x-python",
   "name": "python",
   "nbconvert_exporter": "python",
   "pygments_lexer": "ipython3",
   "version": "3.10.13"
  },
  "papermill": {
   "default_parameters": {},
   "duration": 280.397692,
   "end_time": "2024-03-04T19:41:10.126422",
   "environment_variables": {},
   "exception": null,
   "input_path": "1.data_aggregation.ipynb",
   "output_path": "1.data_aggregation.ipynb",
   "parameters": {
    "aggregation": true,
    "cell_type": "PBMC",
    "nomic": true
   },
   "start_time": "2024-03-04T19:36:29.728730",
   "version": "2.4.0"
  }
 },
 "nbformat": 4,
 "nbformat_minor": 5
}
