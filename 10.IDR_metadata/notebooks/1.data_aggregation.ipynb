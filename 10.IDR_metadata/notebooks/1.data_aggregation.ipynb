{
 "cells": [
  {
   "cell_type": "markdown",
   "id": "67de461b",
   "metadata": {
    "papermill": {
     "duration": 0.003815,
     "end_time": "2024-03-04T22:54:02.164628",
     "exception": false,
     "start_time": "2024-03-04T22:54:02.160813",
     "status": "completed"
    },
    "tags": []
   },
   "source": [
    "This noteboook aggregates the data from the previous notebooks and creates the final dataset for the analysis barring the data are aggregated in the analysis."
   ]
  },
  {
   "cell_type": "code",
   "execution_count": null,
   "id": "3ebfd6b0",
   "metadata": {
    "execution": {
     "iopub.execute_input": "2024-03-04T22:54:02.169792Z",
     "iopub.status.busy": "2024-03-04T22:54:02.169371Z",
     "iopub.status.idle": "2024-03-04T22:54:02.709633Z",
     "shell.execute_reply": "2024-03-04T22:54:02.709155Z"
    },
    "papermill": {
     "duration": 0.543885,
     "end_time": "2024-03-04T22:54:02.711131",
     "exception": false,
     "start_time": "2024-03-04T22:54:02.167246",
     "status": "completed"
    },
    "tags": []
   },
   "outputs": [],
   "source": [
    "import pathlib\n",
    "\n",
    "import numpy as np\n",
    "import pandas as pd"
   ]
  },
  {
   "cell_type": "code",
   "execution_count": null,
   "id": "aa473bf1",
   "metadata": {
    "execution": {
     "iopub.execute_input": "2024-03-04T22:54:02.716378Z",
     "iopub.status.busy": "2024-03-04T22:54:02.716029Z",
     "iopub.status.idle": "2024-03-04T22:54:02.718416Z",
     "shell.execute_reply": "2024-03-04T22:54:02.718050Z"
    },
    "papermill": {
     "duration": 0.006246,
     "end_time": "2024-03-04T22:54:02.719358",
     "exception": false,
     "start_time": "2024-03-04T22:54:02.713112",
     "status": "completed"
    },
    "tags": [
     "injected-parameters"
    ]
   },
   "outputs": [],
   "source": [
    "# Parameters\n",
    "cell_type = \"SHSY5Y\"\n",
    "aggregation = True\n",
    "nomic = True"
   ]
  },
  {
   "cell_type": "code",
   "execution_count": null,
   "id": "41eb9cfd",
   "metadata": {
    "execution": {
     "iopub.execute_input": "2024-03-04T22:54:02.723318Z",
     "iopub.status.busy": "2024-03-04T22:54:02.723020Z",
     "iopub.status.idle": "2024-03-04T22:54:02.726173Z",
     "shell.execute_reply": "2024-03-04T22:54:02.725797Z"
    },
    "papermill": {
     "duration": 0.006287,
     "end_time": "2024-03-04T22:54:02.727156",
     "exception": false,
     "start_time": "2024-03-04T22:54:02.720869",
     "status": "completed"
    },
    "tags": []
   },
   "outputs": [],
   "source": [
    "if aggregation and nomic:\n",
    "    aggregated_data_path = pathlib.Path(\n",
    "        f\"../../data/{cell_type}_preprocess_sc_norm_no_fs_aggregated_nomic.parquet\"\n",
    "    )\n",
    "elif not aggregation and nomic:\n",
    "    aggregated_data_path = pathlib.Path(\n",
    "        f\"../../data/{cell_type}_preprocess_sc_norm_no_fs_nomic.parquet\"\n",
    "    )\n",
    "elif aggregation and not nomic:\n",
    "    aggregated_data_path = pathlib.Path(\n",
    "        f\"../../data/{cell_type}_preprocess_sc_norm_no_fs_aggregated.parquet\"\n",
    "    )\n",
    "elif not aggregation and not nomic:\n",
    "    pass\n",
    "else:\n",
    "    raise ValueError(\"Wrong parameters\")"
   ]
  },
  {
   "cell_type": "code",
   "execution_count": null,
   "id": "ba5278c5",
   "metadata": {
    "execution": {
     "iopub.execute_input": "2024-03-04T22:54:02.731474Z",
     "iopub.status.busy": "2024-03-04T22:54:02.731187Z",
     "iopub.status.idle": "2024-03-04T22:54:10.615477Z",
     "shell.execute_reply": "2024-03-04T22:54:10.614945Z"
    },
    "papermill": {
     "duration": 7.887959,
     "end_time": "2024-03-04T22:54:10.617015",
     "exception": false,
     "start_time": "2024-03-04T22:54:02.729056",
     "status": "completed"
    },
    "tags": []
   },
   "outputs": [],
   "source": [
    "path = pathlib.Path(f\"../../data/{cell_type}_preprocess_sc_norm_no_fs.parquet\")\n",
    "\n",
    "data_df = pd.read_parquet(path)\n",
    "\n",
    "data_df.head()\n",
    "\n",
    "if nomic:\n",
    "    # import nomic data\n",
    "    nomic_df_path = pathlib.Path(\n",
    "        f\"../../2.Nomic_nELISA_Analysis/Data/clean/Plate2/nELISA_plate_430420_{cell_type}_clean.parquet\"\n",
    "    )\n",
    "    df_nomic = pd.read_parquet(nomic_df_path)\n",
    "\n",
    "    # drop columns that contain [pgML]\n",
    "    df_nomic = df_nomic.drop(\n",
    "        columns=[col for col in df_nomic.columns if \"[pgML]\" in col]\n",
    "    )\n",
    "    # drop first 25 columns (metadata that does not contain metadata in the title)\n",
    "    df_nomic = df_nomic.drop(columns=df_nomic.columns[3:25])\n",
    "    df_nomic = df_nomic.drop(columns=df_nomic.columns[0:2])\n",
    "elif not nomic:\n",
    "    pass\n",
    "else:\n",
    "    raise ValueError(\"Nomic data not imported\")"
   ]
  },
  {
   "cell_type": "code",
   "execution_count": null,
   "id": "073ab83f",
   "metadata": {
    "execution": {
     "iopub.execute_input": "2024-03-04T22:54:10.623934Z",
     "iopub.status.busy": "2024-03-04T22:54:10.623702Z",
     "iopub.status.idle": "2024-03-04T22:54:13.737769Z",
     "shell.execute_reply": "2024-03-04T22:54:13.737254Z"
    },
    "papermill": {
     "duration": 3.11769,
     "end_time": "2024-03-04T22:54:13.739102",
     "exception": false,
     "start_time": "2024-03-04T22:54:10.621412",
     "status": "completed"
    },
    "tags": []
   },
   "outputs": [],
   "source": [
    "# subset each column that contains metadata\n",
    "metadata = data_df.filter(regex=\"Metadata\")\n",
    "\n",
    "# get all columns that are not metadata except for metadata_Well\n",
    "data = data_df.drop(metadata.columns, axis=1)\n",
    "\n",
    "# get the metadata_Well column\n",
    "metadata_well = metadata[\n",
    "    [\"Metadata_Well\", \"oneb_Metadata_Treatment_Dose_Inhibitor_Dose\"]\n",
    "]\n",
    "\n",
    "data_df = pd.merge(data, metadata_well, left_index=True, right_index=True)"
   ]
  },
  {
   "cell_type": "code",
   "execution_count": null,
   "id": "d3712b16",
   "metadata": {
    "execution": {
     "iopub.execute_input": "2024-03-04T22:54:13.745917Z",
     "iopub.status.busy": "2024-03-04T22:54:13.745551Z",
     "iopub.status.idle": "2024-03-04T22:54:13.748395Z",
     "shell.execute_reply": "2024-03-04T22:54:13.747982Z"
    },
    "papermill": {
     "duration": 0.006408,
     "end_time": "2024-03-04T22:54:13.749325",
     "exception": false,
     "start_time": "2024-03-04T22:54:13.742917",
     "status": "completed"
    },
    "tags": []
   },
   "outputs": [],
   "source": [
    "if nomic:\n",
    "    df_nomic.drop(\n",
    "        columns=[\n",
    "            \"Treatment\",\n",
    "            \"Dose\",\n",
    "            \"twob_Treatment_Dose_Inhibitor_Dose\",\n",
    "            \"threeb_Treatment_Dose_Inhibitor_Dose\",\n",
    "            \"fourb_Treatment_Dose_Inhibitor_Dose\",\n",
    "        ],\n",
    "        inplace=True,\n",
    "    )"
   ]
  },
  {
   "cell_type": "code",
   "execution_count": null,
   "id": "510c7356",
   "metadata": {
    "execution": {
     "iopub.execute_input": "2024-03-04T22:54:13.753348Z",
     "iopub.status.busy": "2024-03-04T22:54:13.753048Z",
     "iopub.status.idle": "2024-03-04T22:54:13.758680Z",
     "shell.execute_reply": "2024-03-04T22:54:13.758291Z"
    },
    "papermill": {
     "duration": 0.008629,
     "end_time": "2024-03-04T22:54:13.759572",
     "exception": false,
     "start_time": "2024-03-04T22:54:13.750943",
     "status": "completed"
    },
    "tags": []
   },
   "outputs": [],
   "source": [
    "if aggregation and nomic:\n",
    "\n",
    "    # subset each column that contains metadata\n",
    "    metadata = data_df.filter(regex=\"Metadata\")\n",
    "    data_df = data_df.drop(metadata.columns, axis=1)\n",
    "    data_df = pd.concat([data_df, metadata[\"Metadata_Well\"]], axis=1)\n",
    "    # groupby well and take mean of each well\n",
    "    data_df = data_df.groupby(\"Metadata_Well\").mean()\n",
    "    # drop duplicate rows in the metadata_well column\n",
    "    metadata = metadata.drop_duplicates(subset=[\"Metadata_Well\"])\n",
    "    # get the metadata for each well\n",
    "    data_df = pd.merge(\n",
    "        data_df, metadata, left_on=\"Metadata_Well\", right_on=\"Metadata_Well\"\n",
    "    )\n",
    "    data_df_merge = pd.merge(\n",
    "        data_df,\n",
    "        df_nomic,\n",
    "        left_on=[\"Metadata_Well\"],\n",
    "        right_on=[\"position_x\"],\n",
    "    )\n",
    "    data_df_merge[\"oneb_Metadata_Treatment_Dose_Inhibitor_Dose\"] = data_df[\n",
    "        \"oneb_Metadata_Treatment_Dose_Inhibitor_Dose\"\n",
    "    ]\n",
    "    data_df_merge = data_df_merge.drop(columns=[\"position_x\"])\n",
    "    # drop all metadata columns\n",
    "    labeled_data = data_df_merge[\"oneb_Metadata_Treatment_Dose_Inhibitor_Dose\"]\n",
    "    data_x = data_df_merge.drop(metadata.columns, axis=1)\n",
    "\n",
    "\n",
    "elif aggregation and not nomic:\n",
    "    # get metadata columns\n",
    "    metadata = data_df.filter(regex=\"Metadata\")\n",
    "    data_df = data_df.drop(metadata.columns, axis=1)\n",
    "    metadata\n",
    "    data_df = pd.concat([data_df, metadata], axis=1)\n",
    "    # groupby well and take mean of each well\n",
    "    data_df = data_df.groupby(\n",
    "        [\"Metadata_Well\", \"oneb_Metadata_Treatment_Dose_Inhibitor_Dose\"]\n",
    "    ).mean()\n",
    "    # # drop duplicate rows in the metadata_well column\n",
    "    metadata = metadata.drop_duplicates(subset=[\"Metadata_Well\"])\n",
    "    # # get the metadata for each well\n",
    "    # # set path to save the data\n",
    "    # reset the index\n",
    "    data_df = data_df.reset_index()\n",
    "\n",
    "elif not aggregation and nomic:\n",
    "    data_df = pd.merge(\n",
    "        data_df,\n",
    "        df_nomic,\n",
    "        left_on=[\n",
    "            \"Metadata_Well\",\n",
    "        ],\n",
    "        right_on=[\n",
    "            \"position_x\",\n",
    "        ],\n",
    "    )\n",
    "    data_df = data_df.drop(columns=[\"position_x\"])\n",
    "elif aggregation == False and nomic == False:\n",
    "    pass\n",
    "else:\n",
    "    raise ValueError(\"Wrong parameters nomic and/or aggregation not defined\")"
   ]
  },
  {
   "cell_type": "code",
   "execution_count": null,
   "id": "9201ca9f",
   "metadata": {},
   "outputs": [],
   "source": [
    "len(data_df[\"Metadata_Well\"].unique())"
   ]
  },
  {
   "cell_type": "code",
   "execution_count": null,
   "id": "8977efc6",
   "metadata": {
    "execution": {
     "iopub.execute_input": "2024-03-04T22:54:13.763468Z",
     "iopub.status.busy": "2024-03-04T22:54:13.763173Z",
     "iopub.status.idle": "2024-03-04T22:54:13.938001Z",
     "shell.execute_reply": "2024-03-04T22:54:13.937458Z"
    },
    "papermill": {
     "duration": 0.177664,
     "end_time": "2024-03-04T22:54:13.938798",
     "exception": true,
     "start_time": "2024-03-04T22:54:13.761134",
     "status": "failed"
    },
    "tags": []
   },
   "outputs": [],
   "source": [
    "# save the data\n",
    "data_df.to_parquet(aggregated_data_path)"
   ]
  }
 ],
 "metadata": {
  "kernelspec": {
   "display_name": "Interstellar",
   "language": "python",
   "name": "python3"
  },
  "language_info": {
   "codemirror_mode": {
    "name": "ipython",
    "version": 3
   },
   "file_extension": ".py",
   "mimetype": "text/x-python",
   "name": "python",
   "nbconvert_exporter": "python",
   "pygments_lexer": "ipython3",
   "version": "3.10.12"
  },
  "papermill": {
   "default_parameters": {},
   "duration": 13.702082,
   "end_time": "2024-03-04T22:54:14.256095",
   "environment_variables": {},
   "exception": true,
   "input_path": "1.data_aggregation.ipynb",
   "output_path": "1.data_aggregation.ipynb",
   "parameters": {
    "aggregation": false,
    "cell_type": "SHSY5Y",
    "nomic": false
   },
   "start_time": "2024-03-04T22:54:00.554013",
   "version": "2.4.0"
  }
 },
 "nbformat": 4,
 "nbformat_minor": 5
}
