{
    "cells": [
        {
            "cell_type": "code",
            "execution_count": 1,
            "id": "95617f3a",
            "metadata": {
                "execution": {
                    "iopub.execute_input": "2024-03-12T14:36:44.287306Z",
                    "iopub.status.busy": "2024-03-12T14:36:44.286939Z",
                    "iopub.status.idle": "2024-03-12T14:36:44.290766Z",
                    "shell.execute_reply": "2024-03-12T14:36:44.290455Z"
                },
                "papermill": {
                    "duration": 0.00672,
                    "end_time": "2024-03-12T14:36:44.291408",
                    "exception": false,
                    "start_time": "2024-03-12T14:36:44.284688",
                    "status": "completed"
                },
                "tags": [
                    "injected-parameters"
                ]
            },
            "outputs": [],
            "source": [
                "# Parameters\n",
                "cell_type = \"SHSY5Y\"\n",
                "aggregation = True\n",
                "nomic = True"
            ]
        },
        {
            "cell_type": "markdown",
            "id": "67de461b",
            "metadata": {
                "papermill": {
                    "duration": 0.00101,
                    "end_time": "2024-03-12T14:36:44.293617",
                    "exception": false,
                    "start_time": "2024-03-12T14:36:44.292607",
                    "status": "completed"
                },
                "tags": []
            },
            "source": [
                "This noteboook aggregates the data from the previous notebooks and creates the final dataset for the analysis barring the data are aggregated in the analysis."
            ]
        },
        {
            "cell_type": "code",
            "execution_count": 2,
            "id": "3ebfd6b0",
            "metadata": {
                "execution": {
                    "iopub.execute_input": "2024-03-12T14:36:44.296308Z",
                    "iopub.status.busy": "2024-03-12T14:36:44.296098Z",
                    "iopub.status.idle": "2024-03-12T14:36:44.488812Z",
                    "shell.execute_reply": "2024-03-12T14:36:44.488478Z"
                },
                "papermill": {
                    "duration": 0.195222,
                    "end_time": "2024-03-12T14:36:44.489918",
                    "exception": false,
                    "start_time": "2024-03-12T14:36:44.294696",
                    "status": "completed"
                },
                "tags": []
            },
            "outputs": [],
            "source": [
                "import pathlib\n",
                "\n",
                "import numpy as np\n",
                "import pandas as pd"
            ]
        },
        {
            "cell_type": "code",
            "execution_count": 4,
            "id": "41eb9cfd",
            "metadata": {
                "execution": {
                    "iopub.execute_input": "2024-03-12T14:36:44.501366Z",
                    "iopub.status.busy": "2024-03-12T14:36:44.501132Z",
                    "iopub.status.idle": "2024-03-12T14:36:44.503563Z",
                    "shell.execute_reply": "2024-03-12T14:36:44.503267Z"
                },
                "papermill": {
                    "duration": 0.005185,
                    "end_time": "2024-03-12T14:36:44.504382",
                    "exception": false,
                    "start_time": "2024-03-12T14:36:44.499197",
                    "status": "completed"
                },
                "tags": []
            },
            "outputs": [],
            "source": [
                "if aggregation and nomic:\n",
                "    aggregated_data_path = pathlib.Path(\n",
                "        f\"../../data/{cell_type}_preprocess_sc_norm_no_fs_aggregated_nomic.parquet\"\n",
                "    )\n",
                "elif not aggregation and nomic:\n",
                "    aggregated_data_path = pathlib.Path(\n",
                "        f\"../../data/{cell_type}_preprocess_sc_norm_no_fs_nomic.parquet\"\n",
                "    )\n",
                "elif aggregation and not nomic:\n",
                "    aggregated_data_path = pathlib.Path(\n",
                "        f\"../../data/{cell_type}_preprocess_sc_norm_no_fs_aggregated.parquet\"\n",
                "    )\n",
                "elif not aggregation and not nomic:\n",
                "    pass\n",
                "else:\n",
                "    raise ValueError(\"Wrong parameters\")"
            ]
        },
        {
            "cell_type": "code",
            "execution_count": 5,
            "id": "ba5278c5",
            "metadata": {
                "execution": {
                    "iopub.execute_input": "2024-03-12T14:36:44.507937Z",
                    "iopub.status.busy": "2024-03-12T14:36:44.507719Z",
                    "iopub.status.idle": "2024-03-12T14:36:51.387823Z",
                    "shell.execute_reply": "2024-03-12T14:36:51.387364Z"
                },
                "papermill": {
                    "duration": 6.883568,
                    "end_time": "2024-03-12T14:36:51.389258",
                    "exception": false,
                    "start_time": "2024-03-12T14:36:44.505690",
                    "status": "completed"
                },
                "tags": []
            },
            "outputs": [],
            "source": [
                "path = pathlib.Path(f\"../../data/{cell_type}_preprocess_sc_norm_no_fs.parquet\")\n",
                "\n",
                "data_df = pd.read_parquet(path)\n",
                "\n",
                "data_df.head()\n",
                "\n",
                "if nomic:\n",
                "    # import nomic data\n",
                "    nomic_df_path = pathlib.Path(\n",
                "        f\"../../2.Nomic_nELISA_Analysis/Data/clean/Plate2/nELISA_plate_430420_{cell_type}_clean.parquet\"\n",
                "    )\n",
                "    df_nomic = pd.read_parquet(nomic_df_path)\n",
                "\n",
                "    # drop columns that contain [pgML]\n",
                "    df_nomic = df_nomic.drop(\n",
                "        columns=[col for col in df_nomic.columns if \"[pgML]\" in col]\n",
                "    )\n",
                "    # drop first 25 columns (metadata that does not contain metadata in the title)\n",
                "    df_nomic = df_nomic.drop(columns=df_nomic.columns[3:25])\n",
                "    df_nomic = df_nomic.drop(columns=df_nomic.columns[0:2])\n",
                "elif not nomic:\n",
                "    pass\n",
                "else:\n",
                "    raise ValueError(\"Nomic data not imported\")"
            ]
        },
        {
            "cell_type": "code",
            "execution_count": 6,
            "id": "073ab83f",
            "metadata": {
                "execution": {
                    "iopub.execute_input": "2024-03-12T14:36:51.394109Z",
                    "iopub.status.busy": "2024-03-12T14:36:51.393751Z",
                    "iopub.status.idle": "2024-03-12T14:36:54.600761Z",
                    "shell.execute_reply": "2024-03-12T14:36:54.600202Z"
                },
                "papermill": {
                    "duration": 3.210769,
                    "end_time": "2024-03-12T14:36:54.602156",
                    "exception": false,
                    "start_time": "2024-03-12T14:36:51.391387",
                    "status": "completed"
                },
                "tags": []
            },
            "outputs": [],
            "source": [
                "# subset each column that contains metadata\n",
                "metadata = data_df.filter(regex=\"Metadata\")\n",
                "\n",
                "# get all columns that are not metadata except for metadata_Well\n",
                "data = data_df.drop(metadata.columns, axis=1)\n",
                "\n",
                "# get the metadata_Well column\n",
                "metadata_well = metadata[\n",
                "    [\"Metadata_Well\", \"oneb_Metadata_Treatment_Dose_Inhibitor_Dose\"]\n",
                "]\n",
                "\n",
                "data_df = pd.merge(data, metadata_well, left_index=True, right_index=True)"
            ]
        },
        {
            "cell_type": "code",
            "execution_count": 7,
            "id": "d3712b16",
            "metadata": {
                "execution": {
                    "iopub.execute_input": "2024-03-12T14:36:54.606637Z",
                    "iopub.status.busy": "2024-03-12T14:36:54.606493Z",
                    "iopub.status.idle": "2024-03-12T14:36:54.609322Z",
                    "shell.execute_reply": "2024-03-12T14:36:54.608986Z"
                },
                "papermill": {
                    "duration": 0.006142,
                    "end_time": "2024-03-12T14:36:54.610313",
                    "exception": false,
                    "start_time": "2024-03-12T14:36:54.604171",
                    "status": "completed"
                },
                "tags": []
            },
            "outputs": [],
            "source": [
                "if nomic:\n",
                "    df_nomic.drop(\n",
                "        columns=[\n",
                "            \"Treatment\",\n",
                "            \"Dose\",\n",
                "            \"twob_Treatment_Dose_Inhibitor_Dose\",\n",
                "            \"threeb_Treatment_Dose_Inhibitor_Dose\",\n",
                "            \"fourb_Treatment_Dose_Inhibitor_Dose\",\n",
                "        ],\n",
                "        inplace=True,\n",
                "    )"
            ]
        },
        {
            "cell_type": "code",
            "execution_count": 8,
            "id": "510c7356",
            "metadata": {
                "execution": {
                    "iopub.execute_input": "2024-03-12T14:36:54.614195Z",
                    "iopub.status.busy": "2024-03-12T14:36:54.613891Z"
                },
                "papermill": {
                    "duration": 6.870474,
                    "end_time": "2024-03-12T14:37:01.482458",
                    "exception": false,
                    "start_time": "2024-03-12T14:36:54.611984",
                    "status": "completed"
                },
                "tags": []
            },
            "outputs": [],
            "source": [
                "if aggregation and nomic:\n",
                "\n",
                "    # subset each column that contains metadata\n",
                "    metadata = data_df.filter(regex=\"Metadata\")\n",
                "    data_df = data_df.drop(metadata.columns, axis=1)\n",
                "    data_df = pd.concat([data_df, metadata[\"Metadata_Well\"]], axis=1)\n",
                "    # groupby well and take mean of each well\n",
                "    data_df = data_df.groupby(\"Metadata_Well\").mean()\n",
                "    # drop duplicate rows in the metadata_well column\n",
                "    metadata = metadata.drop_duplicates(subset=[\"Metadata_Well\"])\n",
                "    # get the metadata for each well\n",
                "    data_df = pd.merge(\n",
                "        data_df, metadata, left_on=\"Metadata_Well\", right_on=\"Metadata_Well\"\n",
                "    )\n",
                "    data_df_merge = pd.merge(\n",
                "        data_df,\n",
                "        df_nomic,\n",
                "        left_on=[\"Metadata_Well\"],\n",
                "        right_on=[\"position_x\"],\n",
                "    )\n",
                "    data_df_merge[\"oneb_Metadata_Treatment_Dose_Inhibitor_Dose\"] = data_df[\n",
                "        \"oneb_Metadata_Treatment_Dose_Inhibitor_Dose\"\n",
                "    ]\n",
                "    data_df_merge = data_df_merge.drop(columns=[\"position_x\"])\n",
                "    # drop all metadata columns\n",
                "    labeled_data = data_df_merge[\"oneb_Metadata_Treatment_Dose_Inhibitor_Dose\"]\n",
                "    data_x = data_df_merge.drop(metadata.columns, axis=1)\n",
                "\n",
                "\n",
                "elif aggregation and not nomic:\n",
                "    # get metadata columns\n",
                "    metadata = data_df.filter(regex=\"Metadata\")\n",
                "    data_df = data_df.drop(metadata.columns, axis=1)\n",
                "    metadata\n",
                "    data_df = pd.concat([data_df, metadata], axis=1)\n",
                "    # groupby well and take mean of each well\n",
                "    data_df = data_df.groupby(\n",
                "        [\"Metadata_Well\", \"oneb_Metadata_Treatment_Dose_Inhibitor_Dose\"]\n",
                "    ).mean()\n",
                "    # # drop duplicate rows in the metadata_well column\n",
                "    metadata = metadata.drop_duplicates(subset=[\"Metadata_Well\"])\n",
                "    # # get the metadata for each well\n",
                "    # # set path to save the data\n",
                "    # reset the index\n",
                "    data_df = data_df.reset_index()\n",
                "\n",
                "elif not aggregation and nomic:\n",
                "    data_df = pd.merge(\n",
                "        data_df,\n",
                "        df_nomic,\n",
                "        left_on=[\n",
                "            \"Metadata_Well\",\n",
                "        ],\n",
                "        right_on=[\n",
                "            \"position_x\",\n",
                "        ],\n",
                "    )\n",
                "    data_df = data_df.drop(columns=[\"position_x\"])\n",
                "elif aggregation == False and nomic == False:\n",
                "    pass\n",
                "else:\n",
                "    raise ValueError(\"Wrong parameters nomic and/or aggregation not defined\")"
            ]
        },
        {
            "cell_type": "code",
            "execution_count": null,
            "id": "9201ca9f",
            "metadata": {
                "papermill": {
                    "duration": null,
                    "end_time": null,
                    "exception": null,
                    "start_time": null,
                    "status": "completed"
                },
                "tags": []
            },
            "outputs": [],
            "source": [
                "len(data_df[\"Metadata_Well\"].unique())"
            ]
        },
        {
            "cell_type": "code",
            "execution_count": null,
            "id": "8977efc6",
            "metadata": {
                "execution": {
                    "iopub.execute_input": "2024-03-04T22:54:13.763468Z",
                    "iopub.status.busy": "2024-03-04T22:54:13.763173Z",
                    "iopub.status.idle": "2024-03-04T22:54:13.938001Z",
                    "shell.execute_reply": "2024-03-04T22:54:13.937458Z"
                },
                "papermill": {
                    "duration": null,
                    "end_time": null,
                    "exception": null,
                    "start_time": null,
                    "status": "completed"
                },
                "tags": []
            },
            "outputs": [],
            "source": [
                "# save the data\n",
                "data_df.to_parquet(aggregated_data_path)"
            ]
        }
    ],
    "metadata": {
        "kernelspec": {
            "display_name": "Interstellar",
            "language": "python",
            "name": "python3"
        },
        "language_info": {
            "codemirror_mode": {
                "name": "ipython",
                "version": 3
            },
            "file_extension": ".py",
            "mimetype": "text/x-python",
            "name": "python",
            "nbconvert_exporter": "python",
            "pygments_lexer": "ipython3",
            "version": "3.10.12"
        },
        "papermill": {
            "default_parameters": {},
            "duration": 18.385154,
            "end_time": "2024-03-12T14:37:02.044670",
            "environment_variables": {},
            "exception": null,
            "input_path": "1.data_aggregation.ipynb",
            "output_path": "1.data_aggregation.ipynb",
            "parameters": {
                "aggregation": true,
                "cell_type": "SHSY5Y",
                "nomic": true
            },
            "start_time": "2024-03-12T14:36:43.659516",
            "version": "2.4.0"
        }
    },
    "nbformat": 4,
    "nbformat_minor": 5
}
