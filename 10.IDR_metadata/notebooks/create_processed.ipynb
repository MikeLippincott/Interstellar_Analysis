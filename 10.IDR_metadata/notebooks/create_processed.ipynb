{
 "cells": [
  {
   "cell_type": "code",
   "execution_count": null,
   "metadata": {},
   "outputs": [],
   "source": [
    "import pathlib\n",
    "\n",
    "import pandas as pd\n",
    "import toml"
   ]
  },
  {
   "cell_type": "code",
   "execution_count": null,
   "metadata": {},
   "outputs": [],
   "source": [
    "output_path = pathlib.Path(\"../screenA/idr0000-screenA-processed.txt\")"
   ]
  },
  {
   "cell_type": "code",
   "execution_count": null,
   "metadata": {},
   "outputs": [],
   "source": [
    "ground_truth_path = pathlib.Path(\n",
    "    \"../../4.sc_Morphology_Neural_Network_MLP_Model/MLP_utils/ground_truth.toml\"\n",
    ")\n",
    "\n",
    "# read the ground truth\n",
    "ground_truth = toml.load(ground_truth_path)\n",
    "apoptosis = ground_truth[\"Apoptosis\"][\"apoptosis_groups_list\"]\n",
    "pyroptosis = ground_truth[\"Pyroptosis\"][\"pyroptosis_groups_list\"]\n",
    "control = ground_truth[\"Healthy\"][\"healthy_groups_list\"]"
   ]
  },
  {
   "cell_type": "code",
   "execution_count": null,
   "metadata": {},
   "outputs": [],
   "source": [
    "# path to the data (processed)\n",
    "PBMC_path = pathlib.Path(\n",
    "    \"../../data/PBMC_preprocess_sc_norm_no_fs_aggregated_nomic.parquet\"\n",
    ")\n",
    "SHSY5Y_path = pathlib.Path(\n",
    "    \"../../data/SHSY5Y_preprocess_sc_norm_no_fs_aggregated_nomic.parquet\"\n",
    ")\n",
    "# read the data\n",
    "PBMC = pd.read_parquet(PBMC_path)\n",
    "SHSY5Y = pd.read_parquet(SHSY5Y_path)"
   ]
  },
  {
   "cell_type": "code",
   "execution_count": null,
   "metadata": {},
   "outputs": [],
   "source": [
    "print(SHSY5Y.shape, PBMC.shape)\n",
    "SHSY5Y[\"Metadata_Well\"].unique()"
   ]
  },
  {
   "cell_type": "code",
   "execution_count": null,
   "metadata": {},
   "outputs": [],
   "source": [
    "PBMC[\"ground_truth\"] = \"other\"\n",
    "PBMC[\"apoptosis\"] = PBMC[\"oneb_Metadata_Treatment_Dose_Inhibitor_Dose\"].isin(apoptosis)\n",
    "PBMC[\"pyroptosis\"] = PBMC[\"oneb_Metadata_Treatment_Dose_Inhibitor_Dose\"].isin(\n",
    "    pyroptosis\n",
    ")\n",
    "PBMC[\"control\"] = PBMC[\"oneb_Metadata_Treatment_Dose_Inhibitor_Dose\"].isin(control)\n",
    "\n",
    "# merge the apoptosis, pyroptosis and control columns into the ground_truth column\n",
    "PBMC.loc[PBMC[\"apoptosis\"], \"ground_truth\"] = \"apoptosis\"\n",
    "PBMC.loc[PBMC[\"pyroptosis\"], \"ground_truth\"] = \"pyroptosis\"\n",
    "PBMC.loc[PBMC[\"control\"], \"ground_truth\"] = \"control\"\n",
    "\n",
    "# drop the apoptosis, pyroptosis and control columns\n",
    "PBMC = PBMC.drop(\n",
    "    columns=[\n",
    "        \"apoptosis\",\n",
    "        \"pyroptosis\",\n",
    "        \"control\",\n",
    "        \"oneb_Metadata_Treatment_Dose_Inhibitor_Dose\",\n",
    "    ]\n",
    ")\n",
    "\n",
    "\n",
    "SHSY5Y = pd.read_parquet(SHSY5Y_path)\n",
    "# read the ground truth\n",
    "ground_truth = toml.load(ground_truth_path)\n",
    "\n",
    "apoptosis = ground_truth[\"Apoptosis\"][\"apoptosis_groups_list\"]\n",
    "pyroptosis = ground_truth[\"Pyroptosis\"][\"pyroptosis_groups_list\"]\n",
    "control = ground_truth[\"Healthy\"][\"healthy_groups_list\"]\n",
    "# make a column for the ground truth\n",
    "SHSY5Y[\"ground_truth\"] = \"other\"\n",
    "SHSY5Y[\"apoptosis\"] = SHSY5Y[\"oneb_Metadata_Treatment_Dose_Inhibitor_Dose\"].isin(\n",
    "    apoptosis\n",
    ")\n",
    "SHSY5Y[\"pyroptosis\"] = SHSY5Y[\"oneb_Metadata_Treatment_Dose_Inhibitor_Dose\"].isin(\n",
    "    pyroptosis\n",
    ")\n",
    "SHSY5Y[\"control\"] = SHSY5Y[\"oneb_Metadata_Treatment_Dose_Inhibitor_Dose\"].isin(control)\n",
    "\n",
    "# merge the apoptosis, pyroptosis and control columns into the ground_truth column\n",
    "SHSY5Y.loc[SHSY5Y[\"apoptosis\"], \"ground_truth\"] = \"apoptosis\"\n",
    "SHSY5Y.loc[SHSY5Y[\"pyroptosis\"], \"ground_truth\"] = \"pyroptosis\"\n",
    "SHSY5Y.loc[SHSY5Y[\"control\"], \"ground_truth\"] = \"control\"\n",
    "\n",
    "# drop the apoptosis, pyroptosis and control columns\n",
    "SHSY5Y = SHSY5Y.drop(\n",
    "    columns=[\n",
    "        \"apoptosis\",\n",
    "        \"pyroptosis\",\n",
    "        \"control\",\n",
    "        \"oneb_Metadata_Treatment_Dose_Inhibitor_Dose\",\n",
    "    ]\n",
    ")\n",
    "\n",
    "# concat the two dataframes\n",
    "data = pd.concat([PBMC, SHSY5Y], axis=0)\n",
    "data.head()\n",
    "data.reset_index(drop=True, inplace=True)\n",
    "data"
   ]
  },
  {
   "cell_type": "code",
   "execution_count": null,
   "metadata": {},
   "outputs": [],
   "source": []
  },
  {
   "cell_type": "code",
   "execution_count": null,
   "metadata": {},
   "outputs": [],
   "source": [
    "# read in the nELISA data\n",
    "nELISA_PBMC_path = pathlib.Path(\n",
    "    \"/home/lippincm/Documents/ML/Interstellar_Analysis/2.Nomic_nELISA_Analysis/Data/clean/Plate2/nELISA_plate_430420_PBMC_clean.parquet\"\n",
    ")\n",
    "nELISA_SHSY5Y_path = pathlib.Path(\n",
    "    \"/home/lippincm/Documents/ML/Interstellar_Analysis/2.Nomic_nELISA_Analysis/Data/clean/Plate2/nELISA_plate_430420_SHSY5Y_clean.parquet\"\n",
    ")\n",
    "nELISA_PBMC = pd.read_parquet(nELISA_PBMC_path)\n",
    "nELISA_SHSY5Y = pd.read_parquet(nELISA_SHSY5Y_path)\n",
    "nELISA_PBMC\n",
    "# drop all all columns that are not position x or do not conatin [NSU]\n",
    "# nELISA_PBMC = nELISA_PBMC[\n",
    "#     nELISA_PBMC.columns[nELISA_PBMC.columns.str.contains(\"position|NSU\")]\n",
    "# ]\n",
    "# nELISA_SHSY5Y = nELISA_SHSY5Y[\n",
    "#     nELISA_SHSY5Y.columns[nELISA_SHSY5Y.columns.str.contains(\"position|NSU\")]\n",
    "# ]\n",
    "# nELISA_PBMC.drop(columns=[\"plate_position\", \"position_y\"], inplace=True)\n",
    "# nELISA_SHSY5Y.drop(columns=[\"plate_position\", \"position_y\"], inplace=True)\n",
    "# merge the two dataframes\n",
    "nELISA = pd.concat([nELISA_PBMC, nELISA_SHSY5Y], axis=0)\n",
    "nELISA\n",
    "# order the data by the position_x column\n",
    "nELISA.sort_values(by=\"position_x\", inplace=True)\n",
    "nELISA"
   ]
  },
  {
   "cell_type": "code",
   "execution_count": null,
   "metadata": {},
   "outputs": [],
   "source": [
    "# add the nELISA data to the data dataframe merge on the position_x column\n",
    "data = pd.merge(\n",
    "    data, nELISA, left_on=\"Metadata_Well\", right_on=\"position_x\", how=\"left\"\n",
    ")"
   ]
  },
  {
   "cell_type": "code",
   "execution_count": null,
   "metadata": {},
   "outputs": [],
   "source": [
    "print(PBMC.shape, SHSY5Y.shape)"
   ]
  },
  {
   "cell_type": "code",
   "execution_count": null,
   "metadata": {},
   "outputs": [],
   "source": [
    "path = pathlib.Path(\"../screenA/idr0000-screenA-library.txt\")\n",
    "df = pd.read_csv(path, sep=\"\\t\")\n",
    "df.head()\n",
    "print(df.columns.to_list())\n",
    "# keep only the columns we need\n",
    "df = df[\n",
    "    [\n",
    "        \"Well\",\n",
    "        \"Characteristics[cell type]\",\n",
    "        \"inhibitor\",\n",
    "        \"inhibitor_concentration\",\n",
    "        \"inhibitor_concentration_unit\",\n",
    "        \"inducer1\",\n",
    "        \"inducer1_concentration\",\n",
    "        \"inducer1_concentration_unit\",\n",
    "        \"inducer2\",\n",
    "        \"inducer2_concentration\",\n",
    "        \"inducer2_concentration_unit\",\n",
    "        \"Plate\",\n",
    "    ]\n",
    "]"
   ]
  },
  {
   "cell_type": "code",
   "execution_count": null,
   "metadata": {},
   "outputs": [],
   "source": [
    "# add df and data\n",
    "data = data.merge(df, left_on=\"Metadata_Well\", right_on=\"Well\")\n",
    "# replace NA with \"\"\n",
    "data.fillna(\"\", inplace=True)\n",
    "data"
   ]
  },
  {
   "cell_type": "code",
   "execution_count": null,
   "metadata": {},
   "outputs": [],
   "source": [
    "# write the data to a txt file\n",
    "data.to_csv(output_path, sep=\"\\t\", index=False)"
   ]
  }
 ],
 "metadata": {
  "kernelspec": {
   "display_name": "Interstellar",
   "language": "python",
   "name": "python3"
  },
  "language_info": {
   "codemirror_mode": {
    "name": "ipython",
    "version": 3
   },
   "file_extension": ".py",
   "mimetype": "text/x-python",
   "name": "python",
   "nbconvert_exporter": "python",
   "pygments_lexer": "ipython3",
   "version": "3.10.12"
  }
 },
 "nbformat": 4,
 "nbformat_minor": 2
}
