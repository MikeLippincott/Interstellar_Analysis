{
    "cells": [
        {
            "cell_type": "markdown",
            "metadata": {},
            "source": [
                "This notebook creates the `processed` metadata file for IDR. \n",
                "This file will include the aggregated Image-based profiles, the nELISA profiles, and the metadata for the samples."
            ]
        },
        {
            "cell_type": "code",
            "execution_count": 1,
            "metadata": {},
            "outputs": [],
            "source": [
                "import pathlib\n",
                "\n",
                "import pandas as pd\n",
                "import toml"
            ]
        },
        {
            "cell_type": "code",
            "execution_count": 2,
            "metadata": {},
            "outputs": [],
            "source": [
                "output_path = pathlib.Path(\"../IDR_metadata/screenA/\")\n",
                "output_path.mkdir(exist_ok=True, parents=True)\n",
                "output_path = output_path / \"idr0000-screenA-processed.txt\""
            ]
        },
        {
            "cell_type": "code",
            "execution_count": 3,
            "metadata": {},
            "outputs": [],
            "source": [
                "ground_truth_path = pathlib.Path(\n",
                "    \"../../4.sc_Morphology_Neural_Network_MLP_Model/MLP_utils/ground_truth.toml\"\n",
                ")\n",
                "\n",
                "# read the ground truth\n",
                "ground_truth = toml.load(ground_truth_path)\n",
                "apoptosis = ground_truth[\"Apoptosis\"][\"apoptosis_groups_list\"]\n",
                "pyroptosis = ground_truth[\"Pyroptosis\"][\"pyroptosis_groups_list\"]\n",
                "control = ground_truth[\"Healthy\"][\"healthy_groups_list\"]"
            ]
        },
        {
            "cell_type": "code",
            "execution_count": 4,
            "metadata": {},
            "outputs": [
                {
                    "ename": "FileNotFoundError",
                    "evalue": "[Errno 2] No such file or directory: '../../data/PBMC_preprocess_sc_norm_no_fs_aggregated_nomic.parquet'",
                    "output_type": "error",
                    "traceback": [
                        "\u001b[0;31m---------------------------------------------------------------------------\u001b[0m",
                        "\u001b[0;31mFileNotFoundError\u001b[0m                         Traceback (most recent call last)",
                        "Cell \u001b[0;32mIn[4], line 9\u001b[0m\n\u001b[1;32m      5\u001b[0m SHSY5Y_path \u001b[38;5;241m=\u001b[39m pathlib\u001b[38;5;241m.\u001b[39mPath(\n\u001b[1;32m      6\u001b[0m     \u001b[38;5;124m\"\u001b[39m\u001b[38;5;124m../../data/SHSY5Y_preprocess_sc_norm_no_fs_aggregated_nomic.parquet\u001b[39m\u001b[38;5;124m\"\u001b[39m\n\u001b[1;32m      7\u001b[0m )\n\u001b[1;32m      8\u001b[0m \u001b[38;5;66;03m# read the data\u001b[39;00m\n\u001b[0;32m----> 9\u001b[0m PBMC \u001b[38;5;241m=\u001b[39m \u001b[43mpd\u001b[49m\u001b[38;5;241;43m.\u001b[39;49m\u001b[43mread_parquet\u001b[49m\u001b[43m(\u001b[49m\u001b[43mPBMC_path\u001b[49m\u001b[43m)\u001b[49m\n\u001b[1;32m     10\u001b[0m SHSY5Y \u001b[38;5;241m=\u001b[39m pd\u001b[38;5;241m.\u001b[39mread_parquet(SHSY5Y_path)\n",
                        "File \u001b[0;32m~/miniconda3/envs/Interstellar_python/lib/python3.10/site-packages/pandas/io/parquet.py:667\u001b[0m, in \u001b[0;36mread_parquet\u001b[0;34m(path, engine, columns, storage_options, use_nullable_dtypes, dtype_backend, filesystem, filters, **kwargs)\u001b[0m\n\u001b[1;32m    664\u001b[0m     use_nullable_dtypes \u001b[38;5;241m=\u001b[39m \u001b[38;5;28;01mFalse\u001b[39;00m\n\u001b[1;32m    665\u001b[0m check_dtype_backend(dtype_backend)\n\u001b[0;32m--> 667\u001b[0m \u001b[38;5;28;01mreturn\u001b[39;00m \u001b[43mimpl\u001b[49m\u001b[38;5;241;43m.\u001b[39;49m\u001b[43mread\u001b[49m\u001b[43m(\u001b[49m\n\u001b[1;32m    668\u001b[0m \u001b[43m    \u001b[49m\u001b[43mpath\u001b[49m\u001b[43m,\u001b[49m\n\u001b[1;32m    669\u001b[0m \u001b[43m    \u001b[49m\u001b[43mcolumns\u001b[49m\u001b[38;5;241;43m=\u001b[39;49m\u001b[43mcolumns\u001b[49m\u001b[43m,\u001b[49m\n\u001b[1;32m    670\u001b[0m \u001b[43m    \u001b[49m\u001b[43mfilters\u001b[49m\u001b[38;5;241;43m=\u001b[39;49m\u001b[43mfilters\u001b[49m\u001b[43m,\u001b[49m\n\u001b[1;32m    671\u001b[0m \u001b[43m    \u001b[49m\u001b[43mstorage_options\u001b[49m\u001b[38;5;241;43m=\u001b[39;49m\u001b[43mstorage_options\u001b[49m\u001b[43m,\u001b[49m\n\u001b[1;32m    672\u001b[0m \u001b[43m    \u001b[49m\u001b[43muse_nullable_dtypes\u001b[49m\u001b[38;5;241;43m=\u001b[39;49m\u001b[43muse_nullable_dtypes\u001b[49m\u001b[43m,\u001b[49m\n\u001b[1;32m    673\u001b[0m \u001b[43m    \u001b[49m\u001b[43mdtype_backend\u001b[49m\u001b[38;5;241;43m=\u001b[39;49m\u001b[43mdtype_backend\u001b[49m\u001b[43m,\u001b[49m\n\u001b[1;32m    674\u001b[0m \u001b[43m    \u001b[49m\u001b[43mfilesystem\u001b[49m\u001b[38;5;241;43m=\u001b[39;49m\u001b[43mfilesystem\u001b[49m\u001b[43m,\u001b[49m\n\u001b[1;32m    675\u001b[0m \u001b[43m    \u001b[49m\u001b[38;5;241;43m*\u001b[39;49m\u001b[38;5;241;43m*\u001b[39;49m\u001b[43mkwargs\u001b[49m\u001b[43m,\u001b[49m\n\u001b[1;32m    676\u001b[0m \u001b[43m\u001b[49m\u001b[43m)\u001b[49m\n",
                        "File \u001b[0;32m~/miniconda3/envs/Interstellar_python/lib/python3.10/site-packages/pandas/io/parquet.py:267\u001b[0m, in \u001b[0;36mPyArrowImpl.read\u001b[0;34m(self, path, columns, filters, use_nullable_dtypes, dtype_backend, storage_options, filesystem, **kwargs)\u001b[0m\n\u001b[1;32m    264\u001b[0m \u001b[38;5;28;01mif\u001b[39;00m manager \u001b[38;5;241m==\u001b[39m \u001b[38;5;124m\"\u001b[39m\u001b[38;5;124marray\u001b[39m\u001b[38;5;124m\"\u001b[39m:\n\u001b[1;32m    265\u001b[0m     to_pandas_kwargs[\u001b[38;5;124m\"\u001b[39m\u001b[38;5;124msplit_blocks\u001b[39m\u001b[38;5;124m\"\u001b[39m] \u001b[38;5;241m=\u001b[39m \u001b[38;5;28;01mTrue\u001b[39;00m  \u001b[38;5;66;03m# type: ignore[assignment]\u001b[39;00m\n\u001b[0;32m--> 267\u001b[0m path_or_handle, handles, filesystem \u001b[38;5;241m=\u001b[39m \u001b[43m_get_path_or_handle\u001b[49m\u001b[43m(\u001b[49m\n\u001b[1;32m    268\u001b[0m \u001b[43m    \u001b[49m\u001b[43mpath\u001b[49m\u001b[43m,\u001b[49m\n\u001b[1;32m    269\u001b[0m \u001b[43m    \u001b[49m\u001b[43mfilesystem\u001b[49m\u001b[43m,\u001b[49m\n\u001b[1;32m    270\u001b[0m \u001b[43m    \u001b[49m\u001b[43mstorage_options\u001b[49m\u001b[38;5;241;43m=\u001b[39;49m\u001b[43mstorage_options\u001b[49m\u001b[43m,\u001b[49m\n\u001b[1;32m    271\u001b[0m \u001b[43m    \u001b[49m\u001b[43mmode\u001b[49m\u001b[38;5;241;43m=\u001b[39;49m\u001b[38;5;124;43m\"\u001b[39;49m\u001b[38;5;124;43mrb\u001b[39;49m\u001b[38;5;124;43m\"\u001b[39;49m\u001b[43m,\u001b[49m\n\u001b[1;32m    272\u001b[0m \u001b[43m\u001b[49m\u001b[43m)\u001b[49m\n\u001b[1;32m    273\u001b[0m \u001b[38;5;28;01mtry\u001b[39;00m:\n\u001b[1;32m    274\u001b[0m     pa_table \u001b[38;5;241m=\u001b[39m \u001b[38;5;28mself\u001b[39m\u001b[38;5;241m.\u001b[39mapi\u001b[38;5;241m.\u001b[39mparquet\u001b[38;5;241m.\u001b[39mread_table(\n\u001b[1;32m    275\u001b[0m         path_or_handle,\n\u001b[1;32m    276\u001b[0m         columns\u001b[38;5;241m=\u001b[39mcolumns,\n\u001b[0;32m   (...)\u001b[0m\n\u001b[1;32m    279\u001b[0m         \u001b[38;5;241m*\u001b[39m\u001b[38;5;241m*\u001b[39mkwargs,\n\u001b[1;32m    280\u001b[0m     )\n",
                        "File \u001b[0;32m~/miniconda3/envs/Interstellar_python/lib/python3.10/site-packages/pandas/io/parquet.py:140\u001b[0m, in \u001b[0;36m_get_path_or_handle\u001b[0;34m(path, fs, storage_options, mode, is_dir)\u001b[0m\n\u001b[1;32m    130\u001b[0m handles \u001b[38;5;241m=\u001b[39m \u001b[38;5;28;01mNone\u001b[39;00m\n\u001b[1;32m    131\u001b[0m \u001b[38;5;28;01mif\u001b[39;00m (\n\u001b[1;32m    132\u001b[0m     \u001b[38;5;129;01mnot\u001b[39;00m fs\n\u001b[1;32m    133\u001b[0m     \u001b[38;5;129;01mand\u001b[39;00m \u001b[38;5;129;01mnot\u001b[39;00m is_dir\n\u001b[0;32m   (...)\u001b[0m\n\u001b[1;32m    138\u001b[0m     \u001b[38;5;66;03m# fsspec resources can also point to directories\u001b[39;00m\n\u001b[1;32m    139\u001b[0m     \u001b[38;5;66;03m# this branch is used for example when reading from non-fsspec URLs\u001b[39;00m\n\u001b[0;32m--> 140\u001b[0m     handles \u001b[38;5;241m=\u001b[39m \u001b[43mget_handle\u001b[49m\u001b[43m(\u001b[49m\n\u001b[1;32m    141\u001b[0m \u001b[43m        \u001b[49m\u001b[43mpath_or_handle\u001b[49m\u001b[43m,\u001b[49m\u001b[43m \u001b[49m\u001b[43mmode\u001b[49m\u001b[43m,\u001b[49m\u001b[43m \u001b[49m\u001b[43mis_text\u001b[49m\u001b[38;5;241;43m=\u001b[39;49m\u001b[38;5;28;43;01mFalse\u001b[39;49;00m\u001b[43m,\u001b[49m\u001b[43m \u001b[49m\u001b[43mstorage_options\u001b[49m\u001b[38;5;241;43m=\u001b[39;49m\u001b[43mstorage_options\u001b[49m\n\u001b[1;32m    142\u001b[0m \u001b[43m    \u001b[49m\u001b[43m)\u001b[49m\n\u001b[1;32m    143\u001b[0m     fs \u001b[38;5;241m=\u001b[39m \u001b[38;5;28;01mNone\u001b[39;00m\n\u001b[1;32m    144\u001b[0m     path_or_handle \u001b[38;5;241m=\u001b[39m handles\u001b[38;5;241m.\u001b[39mhandle\n",
                        "File \u001b[0;32m~/miniconda3/envs/Interstellar_python/lib/python3.10/site-packages/pandas/io/common.py:882\u001b[0m, in \u001b[0;36mget_handle\u001b[0;34m(path_or_buf, mode, encoding, compression, memory_map, is_text, errors, storage_options)\u001b[0m\n\u001b[1;32m    873\u001b[0m         handle \u001b[38;5;241m=\u001b[39m \u001b[38;5;28mopen\u001b[39m(\n\u001b[1;32m    874\u001b[0m             handle,\n\u001b[1;32m    875\u001b[0m             ioargs\u001b[38;5;241m.\u001b[39mmode,\n\u001b[0;32m   (...)\u001b[0m\n\u001b[1;32m    878\u001b[0m             newline\u001b[38;5;241m=\u001b[39m\u001b[38;5;124m\"\u001b[39m\u001b[38;5;124m\"\u001b[39m,\n\u001b[1;32m    879\u001b[0m         )\n\u001b[1;32m    880\u001b[0m     \u001b[38;5;28;01melse\u001b[39;00m:\n\u001b[1;32m    881\u001b[0m         \u001b[38;5;66;03m# Binary mode\u001b[39;00m\n\u001b[0;32m--> 882\u001b[0m         handle \u001b[38;5;241m=\u001b[39m \u001b[38;5;28;43mopen\u001b[39;49m\u001b[43m(\u001b[49m\u001b[43mhandle\u001b[49m\u001b[43m,\u001b[49m\u001b[43m \u001b[49m\u001b[43mioargs\u001b[49m\u001b[38;5;241;43m.\u001b[39;49m\u001b[43mmode\u001b[49m\u001b[43m)\u001b[49m\n\u001b[1;32m    883\u001b[0m     handles\u001b[38;5;241m.\u001b[39mappend(handle)\n\u001b[1;32m    885\u001b[0m \u001b[38;5;66;03m# Convert BytesIO or file objects passed with an encoding\u001b[39;00m\n",
                        "\u001b[0;31mFileNotFoundError\u001b[0m: [Errno 2] No such file or directory: '../../data/PBMC_preprocess_sc_norm_no_fs_aggregated_nomic.parquet'"
                    ]
                }
            ],
            "source": [
                "# path to the data (processed)\n",
                "PBMC_path = pathlib.Path(\n",
                "    \"../../data/PBMC_preprocess_sc_norm_no_fs_aggregated_nomic.parquet\"\n",
                ")\n",
                "SHSY5Y_path = pathlib.Path(\n",
                "    \"../../data/SHSY5Y_preprocess_sc_norm_no_fs_aggregated_nomic.parquet\"\n",
                ")\n",
                "# read the data\n",
                "PBMC = pd.read_parquet(PBMC_path)\n",
                "SHSY5Y = pd.read_parquet(SHSY5Y_path)"
            ]
        },
        {
            "cell_type": "code",
            "execution_count": null,
            "metadata": {},
            "outputs": [],
            "source": [
                "print(SHSY5Y.shape, PBMC.shape)\n",
                "SHSY5Y[\"Metadata_Well\"].unique()"
            ]
        },
        {
            "cell_type": "code",
            "execution_count": null,
            "metadata": {},
            "outputs": [],
            "source": [
                "PBMC[\"ground_truth\"] = \"other\"\n",
                "PBMC[\"apoptosis\"] = PBMC[\"oneb_Metadata_Treatment_Dose_Inhibitor_Dose\"].isin(apoptosis)\n",
                "PBMC[\"pyroptosis\"] = PBMC[\"oneb_Metadata_Treatment_Dose_Inhibitor_Dose\"].isin(\n",
                "    pyroptosis\n",
                ")\n",
                "PBMC[\"control\"] = PBMC[\"oneb_Metadata_Treatment_Dose_Inhibitor_Dose\"].isin(control)\n",
                "\n",
                "# merge the apoptosis, pyroptosis and control columns into the ground_truth column\n",
                "PBMC.loc[PBMC[\"apoptosis\"], \"ground_truth\"] = \"apoptosis\"\n",
                "PBMC.loc[PBMC[\"pyroptosis\"], \"ground_truth\"] = \"pyroptosis\"\n",
                "PBMC.loc[PBMC[\"control\"], \"ground_truth\"] = \"control\"\n",
                "\n",
                "# drop the apoptosis, pyroptosis and control columns\n",
                "PBMC = PBMC.drop(\n",
                "    columns=[\n",
                "        \"apoptosis\",\n",
                "        \"pyroptosis\",\n",
                "        \"control\",\n",
                "        \"oneb_Metadata_Treatment_Dose_Inhibitor_Dose\",\n",
                "    ]\n",
                ")\n",
                "\n",
                "\n",
                "SHSY5Y = pd.read_parquet(SHSY5Y_path)\n",
                "# read the ground truth\n",
                "ground_truth = toml.load(ground_truth_path)\n",
                "\n",
                "apoptosis = ground_truth[\"Apoptosis\"][\"apoptosis_groups_list\"]\n",
                "pyroptosis = ground_truth[\"Pyroptosis\"][\"pyroptosis_groups_list\"]\n",
                "control = ground_truth[\"Healthy\"][\"healthy_groups_list\"]\n",
                "# make a column for the ground truth\n",
                "SHSY5Y[\"ground_truth\"] = \"other\"\n",
                "SHSY5Y[\"apoptosis\"] = SHSY5Y[\"oneb_Metadata_Treatment_Dose_Inhibitor_Dose\"].isin(\n",
                "    apoptosis\n",
                ")\n",
                "SHSY5Y[\"pyroptosis\"] = SHSY5Y[\"oneb_Metadata_Treatment_Dose_Inhibitor_Dose\"].isin(\n",
                "    pyroptosis\n",
                ")\n",
                "SHSY5Y[\"control\"] = SHSY5Y[\"oneb_Metadata_Treatment_Dose_Inhibitor_Dose\"].isin(control)\n",
                "\n",
                "# merge the apoptosis, pyroptosis and control columns into the ground_truth column\n",
                "SHSY5Y.loc[SHSY5Y[\"apoptosis\"], \"ground_truth\"] = \"apoptosis\"\n",
                "SHSY5Y.loc[SHSY5Y[\"pyroptosis\"], \"ground_truth\"] = \"pyroptosis\"\n",
                "SHSY5Y.loc[SHSY5Y[\"control\"], \"ground_truth\"] = \"control\"\n",
                "\n",
                "# drop the apoptosis, pyroptosis and control columns\n",
                "SHSY5Y = SHSY5Y.drop(\n",
                "    columns=[\n",
                "        \"apoptosis\",\n",
                "        \"pyroptosis\",\n",
                "        \"control\",\n",
                "        \"oneb_Metadata_Treatment_Dose_Inhibitor_Dose\",\n",
                "    ]\n",
                ")\n",
                "\n",
                "# concat the two dataframes\n",
                "data = pd.concat([PBMC, SHSY5Y], axis=0)\n",
                "data.head()\n",
                "data.reset_index(drop=True, inplace=True)\n",
                "data"
            ]
        },
        {
            "cell_type": "code",
            "execution_count": null,
            "metadata": {},
            "outputs": [],
            "source": [
                "# write the data to a txt file\n",
                "data.to_csv(output_path, sep=\"\\t\", index=False)"
            ]
        }
    ],
    "metadata": {
        "kernelspec": {
            "display_name": "Interstellar",
            "language": "python",
            "name": "python3"
        },
        "language_info": {
            "codemirror_mode": {
                "name": "ipython",
                "version": 3
            },
            "file_extension": ".py",
            "mimetype": "text/x-python",
            "name": "python",
            "nbconvert_exporter": "python",
            "pygments_lexer": "ipython3",
            "version": "3.10.14"
        }
    },
    "nbformat": 4,
    "nbformat_minor": 2
}
