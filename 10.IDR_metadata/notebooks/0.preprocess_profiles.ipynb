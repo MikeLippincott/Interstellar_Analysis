{
 "cells": [
  {
   "cell_type": "code",
   "execution_count": 1,
   "id": "dc8f44d1",
   "metadata": {
    "execution": {
     "iopub.execute_input": "2024-03-04T22:50:56.312367Z",
     "iopub.status.busy": "2024-03-04T22:50:56.312094Z",
     "iopub.status.idle": "2024-03-04T22:50:56.317695Z",
     "shell.execute_reply": "2024-03-04T22:50:56.317316Z"
    },
    "papermill": {
     "duration": 0.010801,
     "end_time": "2024-03-04T22:50:56.319001",
     "exception": false,
     "start_time": "2024-03-04T22:50:56.308200",
     "status": "completed"
    },
    "tags": [
     "injected-parameters"
    ]
   },
   "outputs": [],
   "source": [
    "# Parameters\n",
    "cell_type = \"SHSY5Y\""
   ]
  },
  {
   "cell_type": "code",
   "execution_count": 2,
   "id": "39ca7e73",
   "metadata": {
    "execution": {
     "iopub.execute_input": "2024-03-04T22:50:56.325710Z",
     "iopub.status.busy": "2024-03-04T22:50:56.325415Z",
     "iopub.status.idle": "2024-03-04T22:50:57.112787Z",
     "shell.execute_reply": "2024-03-04T22:50:57.112192Z"
    },
    "papermill": {
     "duration": 0.791981,
     "end_time": "2024-03-04T22:50:57.114003",
     "exception": false,
     "start_time": "2024-03-04T22:50:56.322022",
     "status": "completed"
    },
    "tags": []
   },
   "outputs": [],
   "source": [
    "import pathlib\n",
    "\n",
    "import numpy as np\n",
    "import pandas as pd\n",
    "import papermill as pm\n",
    "import pyarrow as pa\n",
    "import pyarrow.parquet as pq"
   ]
  },
  {
   "cell_type": "code",
   "execution_count": 3,
   "id": "238b1c8a",
   "metadata": {
    "execution": {
     "iopub.execute_input": "2024-03-04T22:50:57.120940Z",
     "iopub.status.busy": "2024-03-04T22:50:57.120482Z",
     "iopub.status.idle": "2024-03-04T22:51:07.208559Z",
     "shell.execute_reply": "2024-03-04T22:51:07.207950Z"
    },
    "papermill": {
     "duration": 10.093173,
     "end_time": "2024-03-04T22:51:07.210171",
     "exception": false,
     "start_time": "2024-03-04T22:50:57.116998",
     "status": "completed"
    },
    "tags": []
   },
   "outputs": [],
   "source": [
    "# Define inputs\n",
    "feature_file = pathlib.Path(f\"../../data/{cell_type}_sc_norm.parquet\")\n",
    "feature_df = pd.read_parquet(feature_file)"
   ]
  },
  {
   "cell_type": "code",
   "execution_count": 4,
   "id": "151e967f",
   "metadata": {},
   "outputs": [
    {
     "data": {
      "text/plain": [
       "154"
      ]
     },
     "execution_count": 4,
     "metadata": {},
     "output_type": "execute_result"
    }
   ],
   "source": [
    "len(feature_df[\"Metadata_Well\"].unique())"
   ]
  },
  {
   "cell_type": "code",
   "execution_count": 5,
   "id": "a1a68c93",
   "metadata": {
    "execution": {
     "iopub.execute_input": "2024-03-04T22:51:07.222019Z",
     "iopub.status.busy": "2024-03-04T22:51:07.221534Z",
     "iopub.status.idle": "2024-03-04T22:51:10.365627Z",
     "shell.execute_reply": "2024-03-04T22:51:10.365006Z"
    },
    "papermill": {
     "duration": 3.149186,
     "end_time": "2024-03-04T22:51:10.367041",
     "exception": false,
     "start_time": "2024-03-04T22:51:07.217855",
     "status": "completed"
    },
    "tags": []
   },
   "outputs": [],
   "source": [
    "# replace all \" \" with \"_\" in all values of the dataframe\n",
    "feature_df = feature_df.replace(to_replace=\" \", value=\"_\", regex=True)"
   ]
  },
  {
   "cell_type": "code",
   "execution_count": 6,
   "id": "f8bc8c15",
   "metadata": {
    "execution": {
     "iopub.execute_input": "2024-03-04T22:51:10.375834Z",
     "iopub.status.busy": "2024-03-04T22:51:10.375161Z",
     "iopub.status.idle": "2024-03-04T22:51:10.469112Z",
     "shell.execute_reply": "2024-03-04T22:51:10.468538Z"
    },
    "papermill": {
     "duration": 0.098797,
     "end_time": "2024-03-04T22:51:10.470201",
     "exception": false,
     "start_time": "2024-03-04T22:51:10.371404",
     "status": "completed"
    },
    "tags": []
   },
   "outputs": [],
   "source": [
    "# remove uM in each row of the Metadata_inducer1_concentration column\n",
    "feature_df[\"Metadata_inducer1_concentration\"] = feature_df[\n",
    "    \"Metadata_inducer1_concentration\"\n",
    "].str.replace(\"µM\", \"\")"
   ]
  },
  {
   "cell_type": "code",
   "execution_count": 7,
   "id": "6cb52834",
   "metadata": {
    "execution": {
     "iopub.execute_input": "2024-03-04T22:51:10.476719Z",
     "iopub.status.busy": "2024-03-04T22:51:10.476521Z",
     "iopub.status.idle": "2024-03-04T22:51:10.491989Z",
     "shell.execute_reply": "2024-03-04T22:51:10.491535Z"
    },
    "papermill": {
     "duration": 0.019915,
     "end_time": "2024-03-04T22:51:10.492956",
     "exception": false,
     "start_time": "2024-03-04T22:51:10.473041",
     "status": "completed"
    },
    "tags": []
   },
   "outputs": [
    {
     "data": {
      "text/plain": [
       "array([None, '0.100', '1.000', '10.000', '5.000', '20.000', '0.010',\n",
       "       '100.000', '2.500'], dtype=object)"
      ]
     },
     "execution_count": 7,
     "metadata": {},
     "output_type": "execute_result"
    }
   ],
   "source": [
    "feature_df[\"Metadata_inducer1_concentration\"].unique()"
   ]
  },
  {
   "cell_type": "code",
   "execution_count": 8,
   "id": "1c335051",
   "metadata": {
    "execution": {
     "iopub.execute_input": "2024-03-04T22:51:10.499773Z",
     "iopub.status.busy": "2024-03-04T22:51:10.499232Z",
     "iopub.status.idle": "2024-03-04T22:51:10.501976Z",
     "shell.execute_reply": "2024-03-04T22:51:10.501522Z"
    },
    "papermill": {
     "duration": 0.007201,
     "end_time": "2024-03-04T22:51:10.502946",
     "exception": false,
     "start_time": "2024-03-04T22:51:10.495745",
     "status": "completed"
    },
    "tags": []
   },
   "outputs": [],
   "source": [
    "# define output file path\n",
    "feature_df_out_path = pathlib.Path(\n",
    "    f\"../../data/{cell_type}_preprocess_sc_norm_no_fs.parquet\"\n",
    ")"
   ]
  },
  {
   "cell_type": "code",
   "execution_count": 9,
   "id": "ae9f7dcc",
   "metadata": {
    "execution": {
     "iopub.execute_input": "2024-03-04T22:51:10.509499Z",
     "iopub.status.busy": "2024-03-04T22:51:10.509102Z",
     "iopub.status.idle": "2024-03-04T22:51:10.526776Z",
     "shell.execute_reply": "2024-03-04T22:51:10.526312Z"
    },
    "papermill": {
     "duration": 0.022054,
     "end_time": "2024-03-04T22:51:10.527730",
     "exception": false,
     "start_time": "2024-03-04T22:51:10.505676",
     "status": "completed"
    },
    "tags": []
   },
   "outputs": [
    {
     "name": "stdout",
     "output_type": "stream",
     "text": [
      "(597902, 2927)\n"
     ]
    },
    {
     "data": {
      "text/html": [
       "<div>\n",
       "<style scoped>\n",
       "    .dataframe tbody tr th:only-of-type {\n",
       "        vertical-align: middle;\n",
       "    }\n",
       "\n",
       "    .dataframe tbody tr th {\n",
       "        vertical-align: top;\n",
       "    }\n",
       "\n",
       "    .dataframe thead th {\n",
       "        text-align: right;\n",
       "    }\n",
       "</style>\n",
       "<table border=\"1\" class=\"dataframe\">\n",
       "  <thead>\n",
       "    <tr style=\"text-align: right;\">\n",
       "      <th></th>\n",
       "      <th>Metadata_cell_type</th>\n",
       "      <th>Metadata_Well</th>\n",
       "      <th>Metadata_number_of_singlecells</th>\n",
       "      <th>Metadata_Site</th>\n",
       "      <th>Metadata_incubation inducer (h)</th>\n",
       "      <th>Metadata_inhibitor</th>\n",
       "      <th>Metadata_inhibitor_concentration</th>\n",
       "      <th>Metadata_inhibitor_concentration_unit</th>\n",
       "      <th>Metadata_inducer1</th>\n",
       "      <th>Metadata_inducer1_concentration</th>\n",
       "      <th>...</th>\n",
       "      <th>Nuclei_Texture_Variance_CorrGasdermin_3_02_256</th>\n",
       "      <th>Nuclei_Texture_Variance_CorrGasdermin_3_03_256</th>\n",
       "      <th>Nuclei_Texture_Variance_CorrMito_3_00_256</th>\n",
       "      <th>Nuclei_Texture_Variance_CorrMito_3_01_256</th>\n",
       "      <th>Nuclei_Texture_Variance_CorrMito_3_02_256</th>\n",
       "      <th>Nuclei_Texture_Variance_CorrMito_3_03_256</th>\n",
       "      <th>Nuclei_Texture_Variance_CorrPM_3_00_256</th>\n",
       "      <th>Nuclei_Texture_Variance_CorrPM_3_01_256</th>\n",
       "      <th>Nuclei_Texture_Variance_CorrPM_3_02_256</th>\n",
       "      <th>Nuclei_Texture_Variance_CorrPM_3_03_256</th>\n",
       "    </tr>\n",
       "  </thead>\n",
       "  <tbody>\n",
       "    <tr>\n",
       "      <th>0</th>\n",
       "      <td>SH-SY5Y</td>\n",
       "      <td>B13</td>\n",
       "      <td>3765</td>\n",
       "      <td>1</td>\n",
       "      <td>6</td>\n",
       "      <td>Media_ctr</td>\n",
       "      <td>NaN</td>\n",
       "      <td>None</td>\n",
       "      <td>media_ctr</td>\n",
       "      <td>None</td>\n",
       "      <td>...</td>\n",
       "      <td>0.025742</td>\n",
       "      <td>0.016018</td>\n",
       "      <td>0.294581</td>\n",
       "      <td>0.313403</td>\n",
       "      <td>0.340904</td>\n",
       "      <td>0.304771</td>\n",
       "      <td>0.077819</td>\n",
       "      <td>0.076181</td>\n",
       "      <td>0.088000</td>\n",
       "      <td>0.085886</td>\n",
       "    </tr>\n",
       "    <tr>\n",
       "      <th>1</th>\n",
       "      <td>SH-SY5Y</td>\n",
       "      <td>B13</td>\n",
       "      <td>3765</td>\n",
       "      <td>1</td>\n",
       "      <td>6</td>\n",
       "      <td>Media_ctr</td>\n",
       "      <td>NaN</td>\n",
       "      <td>None</td>\n",
       "      <td>media_ctr</td>\n",
       "      <td>None</td>\n",
       "      <td>...</td>\n",
       "      <td>-0.040428</td>\n",
       "      <td>-0.038309</td>\n",
       "      <td>1.540182</td>\n",
       "      <td>1.422456</td>\n",
       "      <td>1.459884</td>\n",
       "      <td>1.458574</td>\n",
       "      <td>0.014013</td>\n",
       "      <td>0.010482</td>\n",
       "      <td>0.008044</td>\n",
       "      <td>0.008553</td>\n",
       "    </tr>\n",
       "    <tr>\n",
       "      <th>2</th>\n",
       "      <td>SH-SY5Y</td>\n",
       "      <td>B13</td>\n",
       "      <td>3765</td>\n",
       "      <td>1</td>\n",
       "      <td>6</td>\n",
       "      <td>Media_ctr</td>\n",
       "      <td>NaN</td>\n",
       "      <td>None</td>\n",
       "      <td>media_ctr</td>\n",
       "      <td>None</td>\n",
       "      <td>...</td>\n",
       "      <td>-0.049183</td>\n",
       "      <td>-0.052954</td>\n",
       "      <td>0.002619</td>\n",
       "      <td>0.022670</td>\n",
       "      <td>0.014160</td>\n",
       "      <td>-0.006548</td>\n",
       "      <td>0.019567</td>\n",
       "      <td>0.035026</td>\n",
       "      <td>0.028281</td>\n",
       "      <td>0.011552</td>\n",
       "    </tr>\n",
       "    <tr>\n",
       "      <th>3</th>\n",
       "      <td>SH-SY5Y</td>\n",
       "      <td>B13</td>\n",
       "      <td>3765</td>\n",
       "      <td>1</td>\n",
       "      <td>6</td>\n",
       "      <td>Media_ctr</td>\n",
       "      <td>NaN</td>\n",
       "      <td>None</td>\n",
       "      <td>media_ctr</td>\n",
       "      <td>None</td>\n",
       "      <td>...</td>\n",
       "      <td>-0.059278</td>\n",
       "      <td>-0.059597</td>\n",
       "      <td>-0.075569</td>\n",
       "      <td>-0.078642</td>\n",
       "      <td>-0.071954</td>\n",
       "      <td>-0.071172</td>\n",
       "      <td>-0.031126</td>\n",
       "      <td>-0.030896</td>\n",
       "      <td>-0.028813</td>\n",
       "      <td>-0.029932</td>\n",
       "    </tr>\n",
       "    <tr>\n",
       "      <th>4</th>\n",
       "      <td>SH-SY5Y</td>\n",
       "      <td>B13</td>\n",
       "      <td>3765</td>\n",
       "      <td>1</td>\n",
       "      <td>6</td>\n",
       "      <td>Media_ctr</td>\n",
       "      <td>NaN</td>\n",
       "      <td>None</td>\n",
       "      <td>media_ctr</td>\n",
       "      <td>None</td>\n",
       "      <td>...</td>\n",
       "      <td>-0.055393</td>\n",
       "      <td>-0.056898</td>\n",
       "      <td>0.021789</td>\n",
       "      <td>0.020225</td>\n",
       "      <td>0.017540</td>\n",
       "      <td>0.007435</td>\n",
       "      <td>-0.059386</td>\n",
       "      <td>-0.056699</td>\n",
       "      <td>-0.060032</td>\n",
       "      <td>-0.059263</td>\n",
       "    </tr>\n",
       "  </tbody>\n",
       "</table>\n",
       "<p>5 rows × 2927 columns</p>\n",
       "</div>"
      ],
      "text/plain": [
       "  Metadata_cell_type Metadata_Well  Metadata_number_of_singlecells  \\\n",
       "0            SH-SY5Y           B13                            3765   \n",
       "1            SH-SY5Y           B13                            3765   \n",
       "2            SH-SY5Y           B13                            3765   \n",
       "3            SH-SY5Y           B13                            3765   \n",
       "4            SH-SY5Y           B13                            3765   \n",
       "\n",
       "   Metadata_Site  Metadata_incubation inducer (h) Metadata_inhibitor  \\\n",
       "0              1                                6          Media_ctr   \n",
       "1              1                                6          Media_ctr   \n",
       "2              1                                6          Media_ctr   \n",
       "3              1                                6          Media_ctr   \n",
       "4              1                                6          Media_ctr   \n",
       "\n",
       "   Metadata_inhibitor_concentration Metadata_inhibitor_concentration_unit  \\\n",
       "0                               NaN                                  None   \n",
       "1                               NaN                                  None   \n",
       "2                               NaN                                  None   \n",
       "3                               NaN                                  None   \n",
       "4                               NaN                                  None   \n",
       "\n",
       "  Metadata_inducer1 Metadata_inducer1_concentration  ...  \\\n",
       "0         media_ctr                            None  ...   \n",
       "1         media_ctr                            None  ...   \n",
       "2         media_ctr                            None  ...   \n",
       "3         media_ctr                            None  ...   \n",
       "4         media_ctr                            None  ...   \n",
       "\n",
       "  Nuclei_Texture_Variance_CorrGasdermin_3_02_256  \\\n",
       "0                                       0.025742   \n",
       "1                                      -0.040428   \n",
       "2                                      -0.049183   \n",
       "3                                      -0.059278   \n",
       "4                                      -0.055393   \n",
       "\n",
       "  Nuclei_Texture_Variance_CorrGasdermin_3_03_256  \\\n",
       "0                                       0.016018   \n",
       "1                                      -0.038309   \n",
       "2                                      -0.052954   \n",
       "3                                      -0.059597   \n",
       "4                                      -0.056898   \n",
       "\n",
       "   Nuclei_Texture_Variance_CorrMito_3_00_256  \\\n",
       "0                                   0.294581   \n",
       "1                                   1.540182   \n",
       "2                                   0.002619   \n",
       "3                                  -0.075569   \n",
       "4                                   0.021789   \n",
       "\n",
       "  Nuclei_Texture_Variance_CorrMito_3_01_256  \\\n",
       "0                                  0.313403   \n",
       "1                                  1.422456   \n",
       "2                                  0.022670   \n",
       "3                                 -0.078642   \n",
       "4                                  0.020225   \n",
       "\n",
       "   Nuclei_Texture_Variance_CorrMito_3_02_256  \\\n",
       "0                                   0.340904   \n",
       "1                                   1.459884   \n",
       "2                                   0.014160   \n",
       "3                                  -0.071954   \n",
       "4                                   0.017540   \n",
       "\n",
       "  Nuclei_Texture_Variance_CorrMito_3_03_256  \\\n",
       "0                                  0.304771   \n",
       "1                                  1.458574   \n",
       "2                                 -0.006548   \n",
       "3                                 -0.071172   \n",
       "4                                  0.007435   \n",
       "\n",
       "   Nuclei_Texture_Variance_CorrPM_3_00_256  \\\n",
       "0                                 0.077819   \n",
       "1                                 0.014013   \n",
       "2                                 0.019567   \n",
       "3                                -0.031126   \n",
       "4                                -0.059386   \n",
       "\n",
       "   Nuclei_Texture_Variance_CorrPM_3_01_256  \\\n",
       "0                                 0.076181   \n",
       "1                                 0.010482   \n",
       "2                                 0.035026   \n",
       "3                                -0.030896   \n",
       "4                                -0.056699   \n",
       "\n",
       "   Nuclei_Texture_Variance_CorrPM_3_02_256  \\\n",
       "0                                 0.088000   \n",
       "1                                 0.008044   \n",
       "2                                 0.028281   \n",
       "3                                -0.028813   \n",
       "4                                -0.060032   \n",
       "\n",
       "   Nuclei_Texture_Variance_CorrPM_3_03_256  \n",
       "0                                 0.085886  \n",
       "1                                 0.008553  \n",
       "2                                 0.011552  \n",
       "3                                -0.029932  \n",
       "4                                -0.059263  \n",
       "\n",
       "[5 rows x 2927 columns]"
      ]
     },
     "execution_count": 9,
     "metadata": {},
     "output_type": "execute_result"
    }
   ],
   "source": [
    "print(feature_df.shape)\n",
    "feature_df.head()"
   ]
  },
  {
   "cell_type": "code",
   "execution_count": 10,
   "id": "23c3932e",
   "metadata": {
    "execution": {
     "iopub.execute_input": "2024-03-04T22:51:10.534753Z",
     "iopub.status.busy": "2024-03-04T22:51:10.534394Z",
     "iopub.status.idle": "2024-03-04T22:51:12.064062Z",
     "shell.execute_reply": "2024-03-04T22:51:12.063494Z"
    },
    "papermill": {
     "duration": 1.534245,
     "end_time": "2024-03-04T22:51:12.065103",
     "exception": false,
     "start_time": "2024-03-04T22:51:10.530858",
     "status": "completed"
    },
    "tags": []
   },
   "outputs": [
    {
     "name": "stdout",
     "output_type": "stream",
     "text": [
      "(597902, 2867)\n"
     ]
    },
    {
     "data": {
      "text/html": [
       "<div>\n",
       "<style scoped>\n",
       "    .dataframe tbody tr th:only-of-type {\n",
       "        vertical-align: middle;\n",
       "    }\n",
       "\n",
       "    .dataframe tbody tr th {\n",
       "        vertical-align: top;\n",
       "    }\n",
       "\n",
       "    .dataframe thead th {\n",
       "        text-align: right;\n",
       "    }\n",
       "</style>\n",
       "<table border=\"1\" class=\"dataframe\">\n",
       "  <thead>\n",
       "    <tr style=\"text-align: right;\">\n",
       "      <th></th>\n",
       "      <th>Metadata_cell_type</th>\n",
       "      <th>Metadata_Well</th>\n",
       "      <th>Metadata_number_of_singlecells</th>\n",
       "      <th>Metadata_Site</th>\n",
       "      <th>Metadata_incubation inducer (h)</th>\n",
       "      <th>Metadata_inhibitor</th>\n",
       "      <th>Metadata_inhibitor_concentration</th>\n",
       "      <th>Metadata_inhibitor_concentration_unit</th>\n",
       "      <th>Metadata_inducer1</th>\n",
       "      <th>Metadata_inducer1_concentration</th>\n",
       "      <th>...</th>\n",
       "      <th>Nuclei_Texture_Variance_CorrGasdermin_3_02_256</th>\n",
       "      <th>Nuclei_Texture_Variance_CorrGasdermin_3_03_256</th>\n",
       "      <th>Nuclei_Texture_Variance_CorrMito_3_00_256</th>\n",
       "      <th>Nuclei_Texture_Variance_CorrMito_3_01_256</th>\n",
       "      <th>Nuclei_Texture_Variance_CorrMito_3_02_256</th>\n",
       "      <th>Nuclei_Texture_Variance_CorrMito_3_03_256</th>\n",
       "      <th>Nuclei_Texture_Variance_CorrPM_3_00_256</th>\n",
       "      <th>Nuclei_Texture_Variance_CorrPM_3_01_256</th>\n",
       "      <th>Nuclei_Texture_Variance_CorrPM_3_02_256</th>\n",
       "      <th>Nuclei_Texture_Variance_CorrPM_3_03_256</th>\n",
       "    </tr>\n",
       "  </thead>\n",
       "  <tbody>\n",
       "    <tr>\n",
       "      <th>0</th>\n",
       "      <td>SH-SY5Y</td>\n",
       "      <td>B13</td>\n",
       "      <td>3765</td>\n",
       "      <td>1</td>\n",
       "      <td>6</td>\n",
       "      <td>Media_ctr</td>\n",
       "      <td>NaN</td>\n",
       "      <td>None</td>\n",
       "      <td>media_ctr</td>\n",
       "      <td>None</td>\n",
       "      <td>...</td>\n",
       "      <td>0.025742</td>\n",
       "      <td>0.016018</td>\n",
       "      <td>0.294581</td>\n",
       "      <td>0.313403</td>\n",
       "      <td>0.340904</td>\n",
       "      <td>0.304771</td>\n",
       "      <td>0.077819</td>\n",
       "      <td>0.076181</td>\n",
       "      <td>0.088000</td>\n",
       "      <td>0.085886</td>\n",
       "    </tr>\n",
       "    <tr>\n",
       "      <th>1</th>\n",
       "      <td>SH-SY5Y</td>\n",
       "      <td>B13</td>\n",
       "      <td>3765</td>\n",
       "      <td>1</td>\n",
       "      <td>6</td>\n",
       "      <td>Media_ctr</td>\n",
       "      <td>NaN</td>\n",
       "      <td>None</td>\n",
       "      <td>media_ctr</td>\n",
       "      <td>None</td>\n",
       "      <td>...</td>\n",
       "      <td>-0.040428</td>\n",
       "      <td>-0.038309</td>\n",
       "      <td>1.540182</td>\n",
       "      <td>1.422456</td>\n",
       "      <td>1.459884</td>\n",
       "      <td>1.458574</td>\n",
       "      <td>0.014013</td>\n",
       "      <td>0.010482</td>\n",
       "      <td>0.008044</td>\n",
       "      <td>0.008553</td>\n",
       "    </tr>\n",
       "    <tr>\n",
       "      <th>2</th>\n",
       "      <td>SH-SY5Y</td>\n",
       "      <td>B13</td>\n",
       "      <td>3765</td>\n",
       "      <td>1</td>\n",
       "      <td>6</td>\n",
       "      <td>Media_ctr</td>\n",
       "      <td>NaN</td>\n",
       "      <td>None</td>\n",
       "      <td>media_ctr</td>\n",
       "      <td>None</td>\n",
       "      <td>...</td>\n",
       "      <td>-0.049183</td>\n",
       "      <td>-0.052954</td>\n",
       "      <td>0.002619</td>\n",
       "      <td>0.022670</td>\n",
       "      <td>0.014160</td>\n",
       "      <td>-0.006548</td>\n",
       "      <td>0.019567</td>\n",
       "      <td>0.035026</td>\n",
       "      <td>0.028281</td>\n",
       "      <td>0.011552</td>\n",
       "    </tr>\n",
       "    <tr>\n",
       "      <th>3</th>\n",
       "      <td>SH-SY5Y</td>\n",
       "      <td>B13</td>\n",
       "      <td>3765</td>\n",
       "      <td>1</td>\n",
       "      <td>6</td>\n",
       "      <td>Media_ctr</td>\n",
       "      <td>NaN</td>\n",
       "      <td>None</td>\n",
       "      <td>media_ctr</td>\n",
       "      <td>None</td>\n",
       "      <td>...</td>\n",
       "      <td>-0.059278</td>\n",
       "      <td>-0.059597</td>\n",
       "      <td>-0.075569</td>\n",
       "      <td>-0.078642</td>\n",
       "      <td>-0.071954</td>\n",
       "      <td>-0.071172</td>\n",
       "      <td>-0.031126</td>\n",
       "      <td>-0.030896</td>\n",
       "      <td>-0.028813</td>\n",
       "      <td>-0.029932</td>\n",
       "    </tr>\n",
       "    <tr>\n",
       "      <th>4</th>\n",
       "      <td>SH-SY5Y</td>\n",
       "      <td>B13</td>\n",
       "      <td>3765</td>\n",
       "      <td>1</td>\n",
       "      <td>6</td>\n",
       "      <td>Media_ctr</td>\n",
       "      <td>NaN</td>\n",
       "      <td>None</td>\n",
       "      <td>media_ctr</td>\n",
       "      <td>None</td>\n",
       "      <td>...</td>\n",
       "      <td>-0.055393</td>\n",
       "      <td>-0.056898</td>\n",
       "      <td>0.021789</td>\n",
       "      <td>0.020225</td>\n",
       "      <td>0.017540</td>\n",
       "      <td>0.007435</td>\n",
       "      <td>-0.059386</td>\n",
       "      <td>-0.056699</td>\n",
       "      <td>-0.060032</td>\n",
       "      <td>-0.059263</td>\n",
       "    </tr>\n",
       "  </tbody>\n",
       "</table>\n",
       "<p>5 rows × 2867 columns</p>\n",
       "</div>"
      ],
      "text/plain": [
       "  Metadata_cell_type Metadata_Well  Metadata_number_of_singlecells  \\\n",
       "0            SH-SY5Y           B13                            3765   \n",
       "1            SH-SY5Y           B13                            3765   \n",
       "2            SH-SY5Y           B13                            3765   \n",
       "3            SH-SY5Y           B13                            3765   \n",
       "4            SH-SY5Y           B13                            3765   \n",
       "\n",
       "   Metadata_Site  Metadata_incubation inducer (h) Metadata_inhibitor  \\\n",
       "0              1                                6          Media_ctr   \n",
       "1              1                                6          Media_ctr   \n",
       "2              1                                6          Media_ctr   \n",
       "3              1                                6          Media_ctr   \n",
       "4              1                                6          Media_ctr   \n",
       "\n",
       "   Metadata_inhibitor_concentration Metadata_inhibitor_concentration_unit  \\\n",
       "0                               NaN                                  None   \n",
       "1                               NaN                                  None   \n",
       "2                               NaN                                  None   \n",
       "3                               NaN                                  None   \n",
       "4                               NaN                                  None   \n",
       "\n",
       "  Metadata_inducer1 Metadata_inducer1_concentration  ...  \\\n",
       "0         media_ctr                            None  ...   \n",
       "1         media_ctr                            None  ...   \n",
       "2         media_ctr                            None  ...   \n",
       "3         media_ctr                            None  ...   \n",
       "4         media_ctr                            None  ...   \n",
       "\n",
       "  Nuclei_Texture_Variance_CorrGasdermin_3_02_256  \\\n",
       "0                                       0.025742   \n",
       "1                                      -0.040428   \n",
       "2                                      -0.049183   \n",
       "3                                      -0.059278   \n",
       "4                                      -0.055393   \n",
       "\n",
       "  Nuclei_Texture_Variance_CorrGasdermin_3_03_256  \\\n",
       "0                                       0.016018   \n",
       "1                                      -0.038309   \n",
       "2                                      -0.052954   \n",
       "3                                      -0.059597   \n",
       "4                                      -0.056898   \n",
       "\n",
       "   Nuclei_Texture_Variance_CorrMito_3_00_256  \\\n",
       "0                                   0.294581   \n",
       "1                                   1.540182   \n",
       "2                                   0.002619   \n",
       "3                                  -0.075569   \n",
       "4                                   0.021789   \n",
       "\n",
       "  Nuclei_Texture_Variance_CorrMito_3_01_256  \\\n",
       "0                                  0.313403   \n",
       "1                                  1.422456   \n",
       "2                                  0.022670   \n",
       "3                                 -0.078642   \n",
       "4                                  0.020225   \n",
       "\n",
       "   Nuclei_Texture_Variance_CorrMito_3_02_256  \\\n",
       "0                                   0.340904   \n",
       "1                                   1.459884   \n",
       "2                                   0.014160   \n",
       "3                                  -0.071954   \n",
       "4                                   0.017540   \n",
       "\n",
       "  Nuclei_Texture_Variance_CorrMito_3_03_256  \\\n",
       "0                                  0.304771   \n",
       "1                                  1.458574   \n",
       "2                                 -0.006548   \n",
       "3                                 -0.071172   \n",
       "4                                  0.007435   \n",
       "\n",
       "   Nuclei_Texture_Variance_CorrPM_3_00_256  \\\n",
       "0                                 0.077819   \n",
       "1                                 0.014013   \n",
       "2                                 0.019567   \n",
       "3                                -0.031126   \n",
       "4                                -0.059386   \n",
       "\n",
       "   Nuclei_Texture_Variance_CorrPM_3_01_256  \\\n",
       "0                                 0.076181   \n",
       "1                                 0.010482   \n",
       "2                                 0.035026   \n",
       "3                                -0.030896   \n",
       "4                                -0.056699   \n",
       "\n",
       "   Nuclei_Texture_Variance_CorrPM_3_02_256  \\\n",
       "0                                 0.088000   \n",
       "1                                 0.008044   \n",
       "2                                 0.028281   \n",
       "3                                -0.028813   \n",
       "4                                -0.060032   \n",
       "\n",
       "   Nuclei_Texture_Variance_CorrPM_3_03_256  \n",
       "0                                 0.085886  \n",
       "1                                 0.008553  \n",
       "2                                 0.011552  \n",
       "3                                -0.029932  \n",
       "4                                -0.059263  \n",
       "\n",
       "[5 rows x 2867 columns]"
      ]
     },
     "execution_count": 10,
     "metadata": {},
     "output_type": "execute_result"
    }
   ],
   "source": [
    "# removing costes features as they behave with great variance across all data\n",
    "feature_df = feature_df.drop(feature_df.filter(regex=\"Costes\").columns, axis=1)\n",
    "print(feature_df.shape)\n",
    "feature_df.head()"
   ]
  },
  {
   "cell_type": "code",
   "execution_count": 11,
   "id": "4d30a3a8",
   "metadata": {
    "execution": {
     "iopub.execute_input": "2024-03-04T22:51:12.074432Z",
     "iopub.status.busy": "2024-03-04T22:51:12.074066Z",
     "iopub.status.idle": "2024-03-04T22:51:15.168078Z",
     "shell.execute_reply": "2024-03-04T22:51:15.167463Z"
    },
    "papermill": {
     "duration": 3.099357,
     "end_time": "2024-03-04T22:51:15.169263",
     "exception": false,
     "start_time": "2024-03-04T22:51:12.069906",
     "status": "completed"
    },
    "tags": []
   },
   "outputs": [],
   "source": [
    "# replacing '/' in treatment dosage column to avoid errors in file interpolation including such strings\n",
    "feature_df = feature_df.replace(to_replace=\"/\", value=\"_per_\", regex=True)"
   ]
  },
  {
   "cell_type": "code",
   "execution_count": 12,
   "id": "597e9dc0",
   "metadata": {
    "execution": {
     "iopub.execute_input": "2024-03-04T22:51:15.594234Z",
     "iopub.status.busy": "2024-03-04T22:51:15.593723Z",
     "iopub.status.idle": "2024-03-04T22:51:15.633963Z",
     "shell.execute_reply": "2024-03-04T22:51:15.633481Z"
    },
    "papermill": {
     "duration": 0.045661,
     "end_time": "2024-03-04T22:51:15.634985",
     "exception": false,
     "start_time": "2024-03-04T22:51:15.589324",
     "status": "completed"
    },
    "tags": []
   },
   "outputs": [
    {
     "name": "stderr",
     "output_type": "stream",
     "text": [
      "/tmp/ipykernel_100325/2784960678.py:8: SettingWithCopyWarning: \n",
      "A value is trying to be set on a copy of a slice from a DataFrame\n",
      "\n",
      "See the caveats in the documentation: https://pandas.pydata.org/pandas-docs/stable/user_guide/indexing.html#returning-a-view-versus-a-copy\n",
      "  feature_df[columns_to_fill].fillna(0, inplace=True)\n"
     ]
    }
   ],
   "source": [
    "# replace nan values with 0\n",
    "\n",
    "columns_to_fill = [\n",
    "    \"Metadata_inducer1_concentration\",\n",
    "    \"Metadata_inducer2_concentration\",\n",
    "    \"Metadata_inhibitor_concentration\",\n",
    "]\n",
    "feature_df[columns_to_fill].fillna(0, inplace=True)"
   ]
  },
  {
   "cell_type": "code",
   "execution_count": 13,
   "id": "62affc07",
   "metadata": {
    "execution": {
     "iopub.execute_input": "2024-03-04T22:51:15.643044Z",
     "iopub.status.busy": "2024-03-04T22:51:15.642761Z",
     "iopub.status.idle": "2024-03-04T22:51:15.663741Z",
     "shell.execute_reply": "2024-03-04T22:51:15.663310Z"
    },
    "papermill": {
     "duration": 0.026353,
     "end_time": "2024-03-04T22:51:15.665119",
     "exception": false,
     "start_time": "2024-03-04T22:51:15.638766",
     "status": "completed"
    },
    "tags": []
   },
   "outputs": [],
   "source": [
    "# replace all None values with 0\n",
    "feature_df[\"Metadata_inducer1_concentration\"].fillna(0, inplace=True)"
   ]
  },
  {
   "cell_type": "code",
   "execution_count": 14,
   "id": "77cd4c8b",
   "metadata": {
    "execution": {
     "iopub.execute_input": "2024-03-04T22:51:15.673384Z",
     "iopub.status.busy": "2024-03-04T22:51:15.673019Z",
     "iopub.status.idle": "2024-03-04T22:51:16.409688Z",
     "shell.execute_reply": "2024-03-04T22:51:16.409164Z"
    },
    "papermill": {
     "duration": 0.742284,
     "end_time": "2024-03-04T22:51:16.411253",
     "exception": false,
     "start_time": "2024-03-04T22:51:15.668969",
     "status": "completed"
    },
    "tags": []
   },
   "outputs": [],
   "source": [
    "# create a list of columns to be converted to float\n",
    "col_list = [\n",
    "    \"Metadata_inducer1_concentration\",\n",
    "    \"Metadata_inducer2_concentration\",\n",
    "    \"Metadata_inhibitor_concentration\",\n",
    "]\n",
    "# loop through the list and convert each column to float\n",
    "for i in col_list:\n",
    "    feature_df[i] = feature_df[i].apply(\n",
    "        lambda x: f\"{float(x):.3f}\" if float(x) != 0 else float(x)\n",
    "    )"
   ]
  },
  {
   "cell_type": "code",
   "execution_count": 15,
   "id": "2cbdb670",
   "metadata": {},
   "outputs": [
    {
     "data": {
      "text/plain": [
       "154"
      ]
     },
     "execution_count": 15,
     "metadata": {},
     "output_type": "execute_result"
    }
   ],
   "source": [
    "len(feature_df[\"Metadata_Well\"].unique())"
   ]
  },
  {
   "cell_type": "markdown",
   "id": "de0c1cd8",
   "metadata": {
    "papermill": {
     "duration": 0.00354,
     "end_time": "2024-03-04T22:51:16.418408",
     "exception": false,
     "start_time": "2024-03-04T22:51:16.414868",
     "status": "completed"
    },
    "tags": []
   },
   "source": [
    "#### Combine Inducer1 and Inducer2 into one column"
   ]
  },
  {
   "cell_type": "code",
   "execution_count": 16,
   "id": "4145d893",
   "metadata": {
    "execution": {
     "iopub.execute_input": "2024-03-04T22:51:16.426454Z",
     "iopub.status.busy": "2024-03-04T22:51:16.425946Z",
     "iopub.status.idle": "2024-03-04T22:51:16.999775Z",
     "shell.execute_reply": "2024-03-04T22:51:16.999251Z"
    },
    "papermill": {
     "duration": 0.579562,
     "end_time": "2024-03-04T22:51:17.001346",
     "exception": false,
     "start_time": "2024-03-04T22:51:16.421784",
     "status": "completed"
    },
    "tags": []
   },
   "outputs": [],
   "source": [
    "# treatment column merge\n",
    "conditions = [\n",
    "    (feature_df[\"Metadata_inducer2\"].isnull()),\n",
    "    feature_df[\"Metadata_inducer2\"].notnull(),\n",
    "]\n",
    "\n",
    "results = [\n",
    "    (feature_df[\"Metadata_inducer1\"]).astype(str),\n",
    "    (\n",
    "        feature_df[\"Metadata_inducer1\"]\n",
    "        + \"_\"\n",
    "        + feature_df[\"Metadata_inducer2\"].astype(str)\n",
    "    ),\n",
    "]\n",
    "feature_df[\"Metadata_Treatment\"] = np.select(condlist=conditions, choicelist=results)\n",
    "\n",
    "\n",
    "# dose column merge\n",
    "results = [\n",
    "    (\n",
    "        feature_df[\"Metadata_inducer1_concentration\"].astype(str)\n",
    "        + \"_\"\n",
    "        + feature_df[\"Metadata_inducer1_concentration_unit\"].astype(str)\n",
    "    ),\n",
    "    (\n",
    "        feature_df[\"Metadata_inducer1_concentration\"].astype(str)\n",
    "        + \"_\"\n",
    "        + feature_df[\"Metadata_inducer1_concentration_unit\"].astype(str)\n",
    "        + \"_\"\n",
    "        + feature_df[\"Metadata_inducer2_concentration\"].astype(str)\n",
    "        + \"_\"\n",
    "        + feature_df[\"Metadata_inducer2_concentration_unit\"].astype(str)\n",
    "    ),\n",
    "]\n",
    "feature_df[\"Metadata_Dose\"] = np.select(condlist=conditions, choicelist=results)"
   ]
  },
  {
   "cell_type": "markdown",
   "id": "7151c8f0",
   "metadata": {
    "papermill": {
     "duration": 0.003293,
     "end_time": "2024-03-04T22:51:17.008148",
     "exception": false,
     "start_time": "2024-03-04T22:51:17.004855",
     "status": "completed"
    },
    "tags": []
   },
   "source": [
    "## N Beta Column condition generation\n",
    "columns generated to used for linear modeling where terms separated by '__' will be a beta coefficient "
   ]
  },
  {
   "cell_type": "code",
   "execution_count": 17,
   "id": "c9e7095e",
   "metadata": {
    "execution": {
     "iopub.execute_input": "2024-03-04T22:51:17.016249Z",
     "iopub.status.busy": "2024-03-04T22:51:17.015722Z",
     "iopub.status.idle": "2024-03-04T22:51:18.245476Z",
     "shell.execute_reply": "2024-03-04T22:51:18.244944Z"
    },
    "papermill": {
     "duration": 1.235363,
     "end_time": "2024-03-04T22:51:18.246897",
     "exception": false,
     "start_time": "2024-03-04T22:51:17.011534",
     "status": "completed"
    },
    "tags": []
   },
   "outputs": [],
   "source": [
    "# one beta of inudcer1, inducer1 concentration, inhibitor, and inhibitor concentration all as 1 beta term\n",
    "feature_df[\"oneb_Metadata_Treatment_Dose_Inhibitor_Dose\"] = (\n",
    "    feature_df[\"Metadata_Treatment\"]\n",
    "    + \"_\"\n",
    "    + feature_df[\"Metadata_Dose\"].astype(str)\n",
    "    # + \"_\"\n",
    "    # + feature_df['Metadata_inducer1_concentration_unit'].astype(str)\n",
    "    + \"_\"\n",
    "    + feature_df[\"Metadata_inhibitor\"].astype(str)\n",
    "    + \"_\"\n",
    "    + feature_df[\"Metadata_inhibitor_concentration\"].astype(str)\n",
    "    + \"_\"\n",
    "    + feature_df[\"Metadata_inhibitor_concentration_unit\"].astype(str)\n",
    ").astype(str)\n",
    "\n",
    "\n",
    "# two beta of inducer1, inhibitor, and inhibitor concentration all as 1 beta term + inducer1 concentration as 2nd beta term\n",
    "feature_df[\"twob_Metadata_Treatment_Dose_Inhibitor_Dose\"] = (\n",
    "    feature_df[\"Metadata_Treatment\"]\n",
    "    + \"_\"\n",
    "    + feature_df[\"Metadata_inhibitor\"].astype(str)\n",
    "    + \"_\"\n",
    "    + feature_df[\"Metadata_inhibitor_concentration\"].astype(str)\n",
    "    + \"__\"\n",
    "    + feature_df[\"Metadata_Dose\"].astype(str)\n",
    ").astype(str)\n",
    "\n",
    "# three beta of inducer 1 as 1 beta term, inducer1 concentration as 2nd beta term, inhibitor and inhibitor concentration as 3rd beta term\n",
    "feature_df[\"threeb_Metadata_Treatment_Dose_Inhibitor_Dose\"] = (\n",
    "    feature_df[\"Metadata_Treatment\"]\n",
    "    + \"__\"\n",
    "    + feature_df[\"Metadata_Dose\"].astype(str)\n",
    "    + \"__\"\n",
    "    + feature_df[\"Metadata_inducer1_concentration_unit\"].astype(str)\n",
    "    + \"_\"\n",
    "    + feature_df[\"Metadata_inhibitor\"].astype(str)\n",
    "    + \"_\"\n",
    "    + feature_df[\"Metadata_inhibitor_concentration\"].astype(str)\n",
    ").astype(str)\n",
    "\n",
    "# four beta of inducer 1 as 1 beta term, inducer1 concentration as 2nd beta term, inhibitor as 3rd beta term, and inhibitor concentration as 4th beta term\n",
    "feature_df[\"fourb_Metadata_Treatment_Dose_Inhibitor_Dose\"] = (\n",
    "    feature_df[\"Metadata_Treatment\"]\n",
    "    + \"__\"\n",
    "    + feature_df[\"Metadata_Dose\"].astype(str)\n",
    "    + \"__\"\n",
    "    + feature_df[\"Metadata_inducer1_concentration_unit\"].astype(str)\n",
    "    + \"_\"\n",
    "    + feature_df[\"Metadata_inhibitor\"].astype(str)\n",
    "    + \"__\"\n",
    "    + feature_df[\"Metadata_inhibitor_concentration\"].astype(str)\n",
    ").astype(str)"
   ]
  },
  {
   "cell_type": "code",
   "execution_count": 18,
   "id": "99708fcd",
   "metadata": {
    "execution": {
     "iopub.execute_input": "2024-03-04T22:51:18.256660Z",
     "iopub.status.busy": "2024-03-04T22:51:18.256151Z",
     "iopub.status.idle": "2024-03-04T22:51:18.911709Z",
     "shell.execute_reply": "2024-03-04T22:51:18.911218Z"
    },
    "papermill": {
     "duration": 0.660836,
     "end_time": "2024-03-04T22:51:18.912659",
     "exception": false,
     "start_time": "2024-03-04T22:51:18.251823",
     "status": "completed"
    },
    "tags": []
   },
   "outputs": [
    {
     "name": "stdout",
     "output_type": "stream",
     "text": [
      "None 0\n",
      "µ u\n",
      "nan 0\n"
     ]
    }
   ],
   "source": [
    "replacement_dict = {\n",
    "    \"None\": \"0\",\n",
    "    \"µ\": \"u\",\n",
    "    \"nan\": \"0\",\n",
    "}\n",
    "for pattern, replacement in replacement_dict.items():\n",
    "    print(pattern, replacement)\n",
    "    feature_df[\"oneb_Metadata_Treatment_Dose_Inhibitor_Dose\"] = feature_df[\n",
    "        \"oneb_Metadata_Treatment_Dose_Inhibitor_Dose\"\n",
    "    ].replace(to_replace=str(pattern), value=str(replacement), regex=True)"
   ]
  },
  {
   "cell_type": "code",
   "execution_count": 19,
   "id": "b04c1d48",
   "metadata": {
    "execution": {
     "iopub.execute_input": "2024-03-04T22:51:18.920997Z",
     "iopub.status.busy": "2024-03-04T22:51:18.920611Z",
     "iopub.status.idle": "2024-03-04T22:51:19.036601Z",
     "shell.execute_reply": "2024-03-04T22:51:19.036079Z"
    },
    "papermill": {
     "duration": 0.121832,
     "end_time": "2024-03-04T22:51:19.038111",
     "exception": false,
     "start_time": "2024-03-04T22:51:18.916279",
     "status": "completed"
    },
    "tags": []
   },
   "outputs": [
    {
     "name": "stderr",
     "output_type": "stream",
     "text": [
      "/tmp/ipykernel_100325/1031947954.py:3: FutureWarning: The default value of regex will change from True to False in a future version.\n",
      "  ].str.replace(\"media_ctr_0.0_0_Media_ctr_0_0\", \"media_ctr_0.0_0_Media_ctr_0.0_0\")\n"
     ]
    }
   ],
   "source": [
    "feature_df[\"oneb_Metadata_Treatment_Dose_Inhibitor_Dose\"] = feature_df[\n",
    "    \"oneb_Metadata_Treatment_Dose_Inhibitor_Dose\"\n",
    "].str.replace(\"media_ctr_0.0_0_Media_ctr_0_0\", \"media_ctr_0.0_0_Media_ctr_0.0_0\")"
   ]
  },
  {
   "cell_type": "code",
   "execution_count": 20,
   "id": "6d96e544",
   "metadata": {
    "execution": {
     "iopub.execute_input": "2024-03-04T22:51:19.046278Z",
     "iopub.status.busy": "2024-03-04T22:51:19.045824Z",
     "iopub.status.idle": "2024-03-04T22:51:19.460511Z",
     "shell.execute_reply": "2024-03-04T22:51:19.459958Z"
    },
    "papermill": {
     "duration": 0.420081,
     "end_time": "2024-03-04T22:51:19.461738",
     "exception": false,
     "start_time": "2024-03-04T22:51:19.041657",
     "status": "completed"
    },
    "tags": []
   },
   "outputs": [],
   "source": [
    "# need to convert to strings to save as parquet\n",
    "# if the column is an object then convert it to a string\n",
    "for column in feature_df.columns:\n",
    "    if feature_df[column].dtype == \"object\":\n",
    "        feature_df[column] = feature_df[column].astype(str)"
   ]
  },
  {
   "cell_type": "code",
   "execution_count": 21,
   "id": "864734f1",
   "metadata": {},
   "outputs": [
    {
     "name": "stdout",
     "output_type": "stream",
     "text": [
      "SHSY5Y 154\n"
     ]
    }
   ],
   "source": [
    "print(cell_type, len(feature_df[\"Metadata_Well\"].unique()))"
   ]
  },
  {
   "cell_type": "code",
   "execution_count": 23,
   "id": "163924da",
   "metadata": {
    "execution": {
     "iopub.execute_input": "2024-03-04T22:51:19.470428Z",
     "iopub.status.busy": "2024-03-04T22:51:19.470086Z",
     "iopub.status.idle": "2024-03-04T22:52:00.337553Z",
     "shell.execute_reply": "2024-03-04T22:52:00.336933Z"
    },
    "papermill": {
     "duration": 40.8732,
     "end_time": "2024-03-04T22:52:00.339060",
     "exception": false,
     "start_time": "2024-03-04T22:51:19.465860",
     "status": "completed"
    },
    "tags": []
   },
   "outputs": [],
   "source": [
    "# write to parquet file\n",
    "feature_df.to_parquet(feature_df_out_path)"
   ]
  }
 ],
 "metadata": {
  "kernelspec": {
   "display_name": "Interstellar",
   "language": "python",
   "name": "python3"
  },
  "language_info": {
   "codemirror_mode": {
    "name": "ipython",
    "version": 3
   },
   "file_extension": ".py",
   "mimetype": "text/x-python",
   "name": "python",
   "nbconvert_exporter": "python",
   "pygments_lexer": "ipython3",
   "version": "3.10.12"
  },
  "papermill": {
   "default_parameters": {},
   "duration": 65.925932,
   "end_time": "2024-03-04T22:52:00.762210",
   "environment_variables": {},
   "exception": null,
   "input_path": "0.preprocess_profiles.ipynb",
   "output_path": "0.preprocess_profiles.ipynb",
   "parameters": {
    "cell_type": "SHSY5Y"
   },
   "start_time": "2024-03-04T22:50:54.836278",
   "version": "2.5.0"
  }
 },
 "nbformat": 4,
 "nbformat_minor": 5
}
