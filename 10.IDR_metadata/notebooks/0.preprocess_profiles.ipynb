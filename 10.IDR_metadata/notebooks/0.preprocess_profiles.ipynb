{
    "cells": [
        {
            "cell_type": "code",
            "execution_count": 1,
            "id": "97a058b6",
            "metadata": {
                "execution": {
                    "iopub.execute_input": "2024-03-12T14:38:13.267632Z",
                    "iopub.status.busy": "2024-03-12T14:38:13.267492Z",
                    "iopub.status.idle": "2024-03-12T14:38:13.271300Z",
                    "shell.execute_reply": "2024-03-12T14:38:13.271052Z"
                },
                "papermill": {
                    "duration": 0.007403,
                    "end_time": "2024-03-12T14:38:13.271945",
                    "exception": false,
                    "start_time": "2024-03-12T14:38:13.264542",
                    "status": "completed"
                },
                "tags": [
                    "injected-parameters"
                ]
            },
            "outputs": [],
            "source": [
                "# Parameters\n",
                "cell_type = \"SHSY5Y\""
            ]
        },
        {
            "cell_type": "code",
            "execution_count": 2,
            "id": "39ca7e73",
            "metadata": {
                "execution": {
                    "iopub.execute_input": "2024-03-12T14:38:13.315274Z",
                    "iopub.status.busy": "2024-03-12T14:38:13.314847Z",
                    "iopub.status.idle": "2024-03-12T14:38:13.600544Z",
                    "shell.execute_reply": "2024-03-12T14:38:13.600183Z"
                },
                "papermill": {
                    "duration": 0.293453,
                    "end_time": "2024-03-12T14:38:13.601639",
                    "exception": false,
                    "start_time": "2024-03-12T14:38:13.308186",
                    "status": "completed"
                },
                "tags": []
            },
            "outputs": [],
            "source": [
                "import pathlib\n",
                "\n",
                "import numpy as np\n",
                "import pandas as pd\n",
                "import papermill as pm\n",
                "import pyarrow as pa\n",
                "import pyarrow.parquet as pq"
            ]
        },
        {
            "cell_type": "code",
            "execution_count": 3,
            "id": "dc8f44d1",
            "metadata": {
                "execution": {
                    "iopub.execute_input": "2024-03-12T14:38:13.634177Z",
                    "iopub.status.busy": "2024-03-12T14:38:13.633766Z",
                    "iopub.status.idle": "2024-03-12T14:38:13.635834Z",
                    "shell.execute_reply": "2024-03-12T14:38:13.635549Z"
                },
                "papermill": {
                    "duration": 0.031183,
                    "end_time": "2024-03-12T14:38:13.636652",
                    "exception": false,
                    "start_time": "2024-03-12T14:38:13.605469",
                    "status": "completed"
                },
                "tags": []
            },
            "outputs": [],
            "source": [
                "# Parameters\n",
                "cell_type = \"SHSY5Y\""
            ]
        },
        {
            "cell_type": "code",
            "execution_count": 4,
            "id": "238b1c8a",
            "metadata": {
                "execution": {
                    "iopub.execute_input": "2024-03-12T14:38:14.186927Z",
                    "iopub.status.busy": "2024-03-12T14:38:14.186626Z",
                    "iopub.status.idle": "2024-03-12T14:38:41.293442Z",
                    "shell.execute_reply": "2024-03-12T14:38:41.293019Z"
                },
                "papermill": {
                    "duration": 26.466541,
                    "end_time": "2024-03-12T14:38:40.367101",
                    "exception": false,
                    "start_time": "2024-03-12T14:38:13.900560",
                    "status": "completed"
                },
                "tags": []
            },
            "outputs": [
                {
                    "ename": "KeyboardInterrupt",
                    "evalue": "",
                    "output_type": "error",
                    "traceback": [
                        "\u001b[0;31m---------------------------------------------------------------------------\u001b[0m",
                        "\u001b[0;31mKeyboardInterrupt\u001b[0m                         Traceback (most recent call last)",
                        "Cell \u001b[0;32mIn[4], line 3\u001b[0m\n\u001b[1;32m      1\u001b[0m \u001b[38;5;66;03m# Define inputs\u001b[39;00m\n\u001b[1;32m      2\u001b[0m feature_file \u001b[38;5;241m=\u001b[39m pathlib\u001b[38;5;241m.\u001b[39mPath(\u001b[38;5;124mf\u001b[39m\u001b[38;5;124m\"\u001b[39m\u001b[38;5;124m../../data/\u001b[39m\u001b[38;5;132;01m{\u001b[39;00mcell_type\u001b[38;5;132;01m}\u001b[39;00m\u001b[38;5;124m_sc_norm.parquet\u001b[39m\u001b[38;5;124m\"\u001b[39m)\n\u001b[0;32m----> 3\u001b[0m feature_df \u001b[38;5;241m=\u001b[39m \u001b[43mpd\u001b[49m\u001b[38;5;241;43m.\u001b[39;49m\u001b[43mread_parquet\u001b[49m\u001b[43m(\u001b[49m\u001b[43mfeature_file\u001b[49m\u001b[43m)\u001b[49m\n",
                        "File \u001b[0;32m~/miniconda3/envs/Interstellar_python/lib/python3.10/site-packages/pandas/io/parquet.py:667\u001b[0m, in \u001b[0;36mread_parquet\u001b[0;34m(path, engine, columns, storage_options, use_nullable_dtypes, dtype_backend, filesystem, filters, **kwargs)\u001b[0m\n\u001b[1;32m    664\u001b[0m     use_nullable_dtypes \u001b[38;5;241m=\u001b[39m \u001b[38;5;28;01mFalse\u001b[39;00m\n\u001b[1;32m    665\u001b[0m check_dtype_backend(dtype_backend)\n\u001b[0;32m--> 667\u001b[0m \u001b[38;5;28;01mreturn\u001b[39;00m \u001b[43mimpl\u001b[49m\u001b[38;5;241;43m.\u001b[39;49m\u001b[43mread\u001b[49m\u001b[43m(\u001b[49m\n\u001b[1;32m    668\u001b[0m \u001b[43m    \u001b[49m\u001b[43mpath\u001b[49m\u001b[43m,\u001b[49m\n\u001b[1;32m    669\u001b[0m \u001b[43m    \u001b[49m\u001b[43mcolumns\u001b[49m\u001b[38;5;241;43m=\u001b[39;49m\u001b[43mcolumns\u001b[49m\u001b[43m,\u001b[49m\n\u001b[1;32m    670\u001b[0m \u001b[43m    \u001b[49m\u001b[43mfilters\u001b[49m\u001b[38;5;241;43m=\u001b[39;49m\u001b[43mfilters\u001b[49m\u001b[43m,\u001b[49m\n\u001b[1;32m    671\u001b[0m \u001b[43m    \u001b[49m\u001b[43mstorage_options\u001b[49m\u001b[38;5;241;43m=\u001b[39;49m\u001b[43mstorage_options\u001b[49m\u001b[43m,\u001b[49m\n\u001b[1;32m    672\u001b[0m \u001b[43m    \u001b[49m\u001b[43muse_nullable_dtypes\u001b[49m\u001b[38;5;241;43m=\u001b[39;49m\u001b[43muse_nullable_dtypes\u001b[49m\u001b[43m,\u001b[49m\n\u001b[1;32m    673\u001b[0m \u001b[43m    \u001b[49m\u001b[43mdtype_backend\u001b[49m\u001b[38;5;241;43m=\u001b[39;49m\u001b[43mdtype_backend\u001b[49m\u001b[43m,\u001b[49m\n\u001b[1;32m    674\u001b[0m \u001b[43m    \u001b[49m\u001b[43mfilesystem\u001b[49m\u001b[38;5;241;43m=\u001b[39;49m\u001b[43mfilesystem\u001b[49m\u001b[43m,\u001b[49m\n\u001b[1;32m    675\u001b[0m \u001b[43m    \u001b[49m\u001b[38;5;241;43m*\u001b[39;49m\u001b[38;5;241;43m*\u001b[39;49m\u001b[43mkwargs\u001b[49m\u001b[43m,\u001b[49m\n\u001b[1;32m    676\u001b[0m \u001b[43m\u001b[49m\u001b[43m)\u001b[49m\n",
                        "File \u001b[0;32m~/miniconda3/envs/Interstellar_python/lib/python3.10/site-packages/pandas/io/parquet.py:281\u001b[0m, in \u001b[0;36mPyArrowImpl.read\u001b[0;34m(self, path, columns, filters, use_nullable_dtypes, dtype_backend, storage_options, filesystem, **kwargs)\u001b[0m\n\u001b[1;32m    273\u001b[0m \u001b[38;5;28;01mtry\u001b[39;00m:\n\u001b[1;32m    274\u001b[0m     pa_table \u001b[38;5;241m=\u001b[39m \u001b[38;5;28mself\u001b[39m\u001b[38;5;241m.\u001b[39mapi\u001b[38;5;241m.\u001b[39mparquet\u001b[38;5;241m.\u001b[39mread_table(\n\u001b[1;32m    275\u001b[0m         path_or_handle,\n\u001b[1;32m    276\u001b[0m         columns\u001b[38;5;241m=\u001b[39mcolumns,\n\u001b[0;32m   (...)\u001b[0m\n\u001b[1;32m    279\u001b[0m         \u001b[38;5;241m*\u001b[39m\u001b[38;5;241m*\u001b[39mkwargs,\n\u001b[1;32m    280\u001b[0m     )\n\u001b[0;32m--> 281\u001b[0m     result \u001b[38;5;241m=\u001b[39m \u001b[43mpa_table\u001b[49m\u001b[38;5;241;43m.\u001b[39;49m\u001b[43mto_pandas\u001b[49m\u001b[43m(\u001b[49m\u001b[38;5;241;43m*\u001b[39;49m\u001b[38;5;241;43m*\u001b[39;49m\u001b[43mto_pandas_kwargs\u001b[49m\u001b[43m)\u001b[49m\n\u001b[1;32m    283\u001b[0m     \u001b[38;5;28;01mif\u001b[39;00m manager \u001b[38;5;241m==\u001b[39m \u001b[38;5;124m\"\u001b[39m\u001b[38;5;124marray\u001b[39m\u001b[38;5;124m\"\u001b[39m:\n\u001b[1;32m    284\u001b[0m         result \u001b[38;5;241m=\u001b[39m result\u001b[38;5;241m.\u001b[39m_as_manager(\u001b[38;5;124m\"\u001b[39m\u001b[38;5;124marray\u001b[39m\u001b[38;5;124m\"\u001b[39m, copy\u001b[38;5;241m=\u001b[39m\u001b[38;5;28;01mFalse\u001b[39;00m)\n",
                        "File \u001b[0;32m~/miniconda3/envs/Interstellar_python/lib/python3.10/site-packages/pyarrow/array.pxi:884\u001b[0m, in \u001b[0;36mpyarrow.lib._PandasConvertible.to_pandas\u001b[0;34m()\u001b[0m\n",
                        "File \u001b[0;32m~/miniconda3/envs/Interstellar_python/lib/python3.10/site-packages/pyarrow/table.pxi:4251\u001b[0m, in \u001b[0;36mpyarrow.lib.Table._to_pandas\u001b[0;34m()\u001b[0m\n",
                        "File \u001b[0;32m~/miniconda3/envs/Interstellar_python/lib/python3.10/site-packages/pyarrow/pandas_compat.py:777\u001b[0m, in \u001b[0;36mtable_to_dataframe\u001b[0;34m(options, table, categories, ignore_metadata, types_mapper)\u001b[0m\n\u001b[1;32m    775\u001b[0m _check_data_column_metadata_consistency(all_columns)\n\u001b[1;32m    776\u001b[0m columns \u001b[38;5;241m=\u001b[39m _deserialize_column_index(table, all_columns, column_indexes)\n\u001b[0;32m--> 777\u001b[0m blocks \u001b[38;5;241m=\u001b[39m \u001b[43m_table_to_blocks\u001b[49m\u001b[43m(\u001b[49m\u001b[43moptions\u001b[49m\u001b[43m,\u001b[49m\u001b[43m \u001b[49m\u001b[43mtable\u001b[49m\u001b[43m,\u001b[49m\u001b[43m \u001b[49m\u001b[43mcategories\u001b[49m\u001b[43m,\u001b[49m\u001b[43m \u001b[49m\u001b[43mext_columns_dtypes\u001b[49m\u001b[43m)\u001b[49m\n\u001b[1;32m    779\u001b[0m axes \u001b[38;5;241m=\u001b[39m [columns, index]\n\u001b[1;32m    780\u001b[0m mgr \u001b[38;5;241m=\u001b[39m BlockManager(blocks, axes)\n",
                        "File \u001b[0;32m~/miniconda3/envs/Interstellar_python/lib/python3.10/site-packages/pyarrow/pandas_compat.py:1131\u001b[0m, in \u001b[0;36m_table_to_blocks\u001b[0;34m(options, block_table, categories, extension_columns)\u001b[0m\n\u001b[1;32m   1126\u001b[0m \u001b[38;5;28;01mdef\u001b[39;00m \u001b[38;5;21m_table_to_blocks\u001b[39m(options, block_table, categories, extension_columns):\n\u001b[1;32m   1127\u001b[0m     \u001b[38;5;66;03m# Part of table_to_blockmanager\u001b[39;00m\n\u001b[1;32m   1128\u001b[0m \n\u001b[1;32m   1129\u001b[0m     \u001b[38;5;66;03m# Convert an arrow table to Block from the internal pandas API\u001b[39;00m\n\u001b[1;32m   1130\u001b[0m     columns \u001b[38;5;241m=\u001b[39m block_table\u001b[38;5;241m.\u001b[39mcolumn_names\n\u001b[0;32m-> 1131\u001b[0m     result \u001b[38;5;241m=\u001b[39m \u001b[43mpa\u001b[49m\u001b[38;5;241;43m.\u001b[39;49m\u001b[43mlib\u001b[49m\u001b[38;5;241;43m.\u001b[39;49m\u001b[43mtable_to_blocks\u001b[49m\u001b[43m(\u001b[49m\u001b[43moptions\u001b[49m\u001b[43m,\u001b[49m\u001b[43m \u001b[49m\u001b[43mblock_table\u001b[49m\u001b[43m,\u001b[49m\u001b[43m \u001b[49m\u001b[43mcategories\u001b[49m\u001b[43m,\u001b[49m\n\u001b[1;32m   1132\u001b[0m \u001b[43m                                    \u001b[49m\u001b[38;5;28;43mlist\u001b[39;49m\u001b[43m(\u001b[49m\u001b[43mextension_columns\u001b[49m\u001b[38;5;241;43m.\u001b[39;49m\u001b[43mkeys\u001b[49m\u001b[43m(\u001b[49m\u001b[43m)\u001b[49m\u001b[43m)\u001b[49m\u001b[43m)\u001b[49m\n\u001b[1;32m   1133\u001b[0m     \u001b[38;5;28;01mreturn\u001b[39;00m [_reconstruct_block(item, columns, extension_columns)\n\u001b[1;32m   1134\u001b[0m             \u001b[38;5;28;01mfor\u001b[39;00m item \u001b[38;5;129;01min\u001b[39;00m result]\n",
                        "\u001b[0;31mKeyboardInterrupt\u001b[0m: "
                    ]
                }
            ],
            "source": [
                "# Define inputs\n",
                "feature_file = pathlib.Path(f\"../../data/{cell_type}_sc_norm.parquet\")\n",
                "feature_df = pd.read_parquet(feature_file)"
            ]
        },
        {
            "cell_type": "code",
            "execution_count": null,
            "id": "151e967f",
            "metadata": {
                "execution": {
                    "iopub.execute_input": "2024-03-12T14:37:43.524620Z",
                    "iopub.status.busy": "2024-03-12T14:37:43.524270Z",
                    "iopub.status.idle": "2024-03-12T14:37:43.539852Z",
                    "shell.execute_reply": "2024-03-12T14:37:43.539397Z"
                },
                "papermill": {
                    "duration": null,
                    "end_time": null,
                    "exception": null,
                    "start_time": null,
                    "status": "completed"
                },
                "tags": []
            },
            "outputs": [],
            "source": [
                "len(feature_df[\"Metadata_Well\"].unique())"
            ]
        },
        {
            "cell_type": "code",
            "execution_count": null,
            "id": "a1a68c93",
            "metadata": {
                "execution": {
                    "iopub.execute_input": "2024-03-12T14:37:43.740082Z",
                    "iopub.status.busy": "2024-03-12T14:37:43.739639Z",
                    "iopub.status.idle": "2024-03-12T14:37:48.496975Z",
                    "shell.execute_reply": "2024-03-12T14:37:48.496534Z"
                },
                "papermill": {
                    "duration": null,
                    "end_time": null,
                    "exception": null,
                    "start_time": null,
                    "status": "completed"
                },
                "tags": []
            },
            "outputs": [],
            "source": [
                "# replace all \" \" with \"_\" in all values of the dataframe\n",
                "feature_df = feature_df.replace(to_replace=\" \", value=\"_\", regex=True)"
            ]
        },
        {
            "cell_type": "code",
            "execution_count": null,
            "id": "f8bc8c15",
            "metadata": {
                "execution": {
                    "iopub.execute_input": "2024-03-12T14:37:48.589089Z",
                    "iopub.status.busy": "2024-03-12T14:37:48.588735Z",
                    "iopub.status.idle": "2024-03-12T14:37:48.637483Z",
                    "shell.execute_reply": "2024-03-12T14:37:48.637189Z"
                },
                "papermill": {
                    "duration": null,
                    "end_time": null,
                    "exception": null,
                    "start_time": null,
                    "status": "completed"
                },
                "tags": []
            },
            "outputs": [],
            "source": [
                "# remove uM in each row of the Metadata_inducer1_concentration column\n",
                "feature_df[\"Metadata_inducer1_concentration\"] = feature_df[\n",
                "    \"Metadata_inducer1_concentration\"\n",
                "].str.replace(\"\u00b5M\", \"\")"
            ]
        },
        {
            "cell_type": "code",
            "execution_count": null,
            "id": "6cb52834",
            "metadata": {
                "execution": {
                    "iopub.execute_input": "2024-03-12T14:37:48.689771Z",
                    "iopub.status.busy": "2024-03-12T14:37:48.689469Z",
                    "iopub.status.idle": "2024-03-12T14:37:48.698730Z",
                    "shell.execute_reply": "2024-03-12T14:37:48.698464Z"
                },
                "papermill": {
                    "duration": null,
                    "end_time": null,
                    "exception": null,
                    "start_time": null,
                    "status": "completed"
                },
                "tags": []
            },
            "outputs": [],
            "source": [
                "feature_df[\"Metadata_inducer1_concentration\"].unique()"
            ]
        },
        {
            "cell_type": "code",
            "execution_count": null,
            "id": "1c335051",
            "metadata": {
                "execution": {
                    "iopub.execute_input": "2024-03-12T14:37:48.799000Z",
                    "iopub.status.busy": "2024-03-12T14:37:48.798678Z",
                    "iopub.status.idle": "2024-03-12T14:37:48.801080Z",
                    "shell.execute_reply": "2024-03-12T14:37:48.800734Z"
                },
                "papermill": {
                    "duration": null,
                    "end_time": null,
                    "exception": null,
                    "start_time": null,
                    "status": "completed"
                },
                "tags": []
            },
            "outputs": [],
            "source": [
                "# define output file path\n",
                "feature_df_out_path = pathlib.Path(\n",
                "    f\"../../data/{cell_type}_preprocess_sc_norm_no_fs.parquet\"\n",
                ")"
            ]
        },
        {
            "cell_type": "code",
            "execution_count": null,
            "id": "ae9f7dcc",
            "metadata": {
                "execution": {
                    "iopub.execute_input": "2024-03-12T14:37:48.858102Z",
                    "iopub.status.busy": "2024-03-12T14:37:48.857737Z",
                    "iopub.status.idle": "2024-03-12T14:37:48.872163Z",
                    "shell.execute_reply": "2024-03-12T14:37:48.871886Z"
                },
                "papermill": {
                    "duration": null,
                    "end_time": null,
                    "exception": null,
                    "start_time": null,
                    "status": "completed"
                },
                "tags": []
            },
            "outputs": [],
            "source": [
                "print(feature_df.shape)\n",
                "feature_df.head()"
            ]
        },
        {
            "cell_type": "code",
            "execution_count": null,
            "id": "23c3932e",
            "metadata": {
                "execution": {
                    "iopub.execute_input": "2024-03-12T14:37:48.931834Z",
                    "iopub.status.busy": "2024-03-12T14:37:48.931477Z"
                },
                "papermill": {
                    "duration": null,
                    "end_time": null,
                    "exception": null,
                    "start_time": null,
                    "status": "completed"
                },
                "tags": []
            },
            "outputs": [],
            "source": [
                "# removing costes features as they behave with great variance across all data\n",
                "feature_df = feature_df.drop(feature_df.filter(regex=\"Costes\").columns, axis=1)\n",
                "print(feature_df.shape)\n",
                "feature_df.head()"
            ]
        },
        {
            "cell_type": "code",
            "execution_count": null,
            "id": "4d30a3a8",
            "metadata": {
                "execution": {
                    "iopub.execute_input": "2024-03-12T14:37:18.055315Z",
                    "iopub.status.busy": "2024-03-12T14:37:18.055185Z",
                    "iopub.status.idle": "2024-03-12T14:37:20.757975Z",
                    "shell.execute_reply": "2024-03-12T14:37:20.757556Z"
                },
                "papermill": {
                    "duration": null,
                    "end_time": null,
                    "exception": null,
                    "start_time": null,
                    "status": "completed"
                },
                "tags": []
            },
            "outputs": [],
            "source": [
                "# replacing '/' in treatment dosage column to avoid errors in file interpolation including such strings\n",
                "feature_df = feature_df.replace(to_replace=\"/\", value=\"_per_\", regex=True)"
            ]
        },
        {
            "cell_type": "code",
            "execution_count": null,
            "id": "597e9dc0",
            "metadata": {
                "execution": {
                    "iopub.execute_input": "2024-03-12T14:37:20.765505Z",
                    "iopub.status.busy": "2024-03-12T14:37:20.765234Z",
                    "iopub.status.idle": "2024-03-12T14:37:20.794183Z",
                    "shell.execute_reply": "2024-03-12T14:37:20.793821Z"
                },
                "papermill": {
                    "duration": null,
                    "end_time": null,
                    "exception": null,
                    "start_time": null,
                    "status": "completed"
                },
                "tags": []
            },
            "outputs": [],
            "source": [
                "# replace nan values with 0\n",
                "\n",
                "columns_to_fill = [\n",
                "    \"Metadata_inducer1_concentration\",\n",
                "    \"Metadata_inducer2_concentration\",\n",
                "    \"Metadata_inhibitor_concentration\",\n",
                "]\n",
                "feature_df[columns_to_fill].fillna(0, inplace=True)"
            ]
        },
        {
            "cell_type": "code",
            "execution_count": null,
            "id": "62affc07",
            "metadata": {
                "execution": {
                    "iopub.execute_input": "2024-03-12T14:37:20.801476Z",
                    "iopub.status.busy": "2024-03-12T14:37:20.801213Z",
                    "iopub.status.idle": "2024-03-12T14:37:20.817262Z",
                    "shell.execute_reply": "2024-03-12T14:37:20.816986Z"
                },
                "papermill": {
                    "duration": null,
                    "end_time": null,
                    "exception": null,
                    "start_time": null,
                    "status": "completed"
                },
                "tags": []
            },
            "outputs": [],
            "source": [
                "# replace all None values with 0\n",
                "feature_df[\"Metadata_inducer1_concentration\"].fillna(0, inplace=True)"
            ]
        },
        {
            "cell_type": "code",
            "execution_count": null,
            "id": "77cd4c8b",
            "metadata": {
                "execution": {
                    "iopub.execute_input": "2024-03-12T14:37:20.823446Z",
                    "iopub.status.busy": "2024-03-12T14:37:20.823165Z",
                    "iopub.status.idle": "2024-03-12T14:37:21.332193Z",
                    "shell.execute_reply": "2024-03-12T14:37:21.331787Z"
                },
                "papermill": {
                    "duration": null,
                    "end_time": null,
                    "exception": null,
                    "start_time": null,
                    "status": "completed"
                },
                "tags": []
            },
            "outputs": [],
            "source": [
                "# create a list of columns to be converted to float\n",
                "col_list = [\n",
                "    \"Metadata_inducer1_concentration\",\n",
                "    \"Metadata_inducer2_concentration\",\n",
                "    \"Metadata_inhibitor_concentration\",\n",
                "]\n",
                "# loop through the list and convert each column to float\n",
                "for i in col_list:\n",
                "    feature_df[i] = feature_df[i].apply(\n",
                "        lambda x: f\"{float(x):.3f}\" if float(x) != 0 else float(x)\n",
                "    )"
            ]
        },
        {
            "cell_type": "code",
            "execution_count": null,
            "id": "2cbdb670",
            "metadata": {
                "execution": {
                    "iopub.execute_input": "2024-03-12T14:37:21.339952Z",
                    "iopub.status.busy": "2024-03-12T14:37:21.339621Z",
                    "iopub.status.idle": "2024-03-12T14:37:21.353902Z",
                    "shell.execute_reply": "2024-03-12T14:37:21.353627Z"
                },
                "papermill": {
                    "duration": null,
                    "end_time": null,
                    "exception": null,
                    "start_time": null,
                    "status": "completed"
                },
                "tags": []
            },
            "outputs": [],
            "source": [
                "len(feature_df[\"Metadata_Well\"].unique())"
            ]
        },
        {
            "cell_type": "markdown",
            "id": "de0c1cd8",
            "metadata": {
                "papermill": {
                    "duration": null,
                    "end_time": null,
                    "exception": null,
                    "start_time": null,
                    "status": "completed"
                },
                "tags": []
            },
            "source": [
                "#### Combine Inducer1 and Inducer2 into one column"
            ]
        },
        {
            "cell_type": "code",
            "execution_count": null,
            "id": "4145d893",
            "metadata": {
                "execution": {
                    "iopub.execute_input": "2024-03-12T14:37:21.366401Z",
                    "iopub.status.busy": "2024-03-12T14:37:21.366165Z",
                    "iopub.status.idle": "2024-03-12T14:37:21.865219Z",
                    "shell.execute_reply": "2024-03-12T14:37:21.864763Z"
                },
                "papermill": {
                    "duration": null,
                    "end_time": null,
                    "exception": null,
                    "start_time": null,
                    "status": "completed"
                },
                "tags": []
            },
            "outputs": [],
            "source": [
                "# treatment column merge\n",
                "conditions = [\n",
                "    (feature_df[\"Metadata_inducer2\"].isnull()),\n",
                "    feature_df[\"Metadata_inducer2\"].notnull(),\n",
                "]\n",
                "\n",
                "results = [\n",
                "    (feature_df[\"Metadata_inducer1\"]).astype(str),\n",
                "    (\n",
                "        feature_df[\"Metadata_inducer1\"]\n",
                "        + \"_\"\n",
                "        + feature_df[\"Metadata_inducer2\"].astype(str)\n",
                "    ),\n",
                "]\n",
                "feature_df[\"Metadata_Treatment\"] = np.select(condlist=conditions, choicelist=results)\n",
                "\n",
                "\n",
                "# dose column merge\n",
                "results = [\n",
                "    (\n",
                "        feature_df[\"Metadata_inducer1_concentration\"].astype(str)\n",
                "        + \"_\"\n",
                "        + feature_df[\"Metadata_inducer1_concentration_unit\"].astype(str)\n",
                "    ),\n",
                "    (\n",
                "        feature_df[\"Metadata_inducer1_concentration\"].astype(str)\n",
                "        + \"_\"\n",
                "        + feature_df[\"Metadata_inducer1_concentration_unit\"].astype(str)\n",
                "        + \"_\"\n",
                "        + feature_df[\"Metadata_inducer2_concentration\"].astype(str)\n",
                "        + \"_\"\n",
                "        + feature_df[\"Metadata_inducer2_concentration_unit\"].astype(str)\n",
                "    ),\n",
                "]\n",
                "feature_df[\"Metadata_Dose\"] = np.select(condlist=conditions, choicelist=results)"
            ]
        },
        {
            "cell_type": "markdown",
            "id": "7151c8f0",
            "metadata": {
                "papermill": {
                    "duration": null,
                    "end_time": null,
                    "exception": null,
                    "start_time": null,
                    "status": "completed"
                },
                "tags": []
            },
            "source": [
                "## N Beta Column condition generation\n",
                "columns generated to used for linear modeling where terms separated by '__' will be a beta coefficient "
            ]
        },
        {
            "cell_type": "code",
            "execution_count": null,
            "id": "c9e7095e",
            "metadata": {
                "execution": {
                    "iopub.execute_input": "2024-03-12T14:37:21.879241Z",
                    "iopub.status.busy": "2024-03-12T14:37:21.878843Z",
                    "iopub.status.idle": "2024-03-12T14:37:22.857571Z",
                    "shell.execute_reply": "2024-03-12T14:37:22.857086Z"
                },
                "papermill": {
                    "duration": null,
                    "end_time": null,
                    "exception": null,
                    "start_time": null,
                    "status": "completed"
                },
                "tags": []
            },
            "outputs": [],
            "source": [
                "# one beta of inudcer1, inducer1 concentration, inhibitor, and inhibitor concentration all as 1 beta term\n",
                "feature_df[\"oneb_Metadata_Treatment_Dose_Inhibitor_Dose\"] = (\n",
                "    feature_df[\"Metadata_Treatment\"]\n",
                "    + \"_\"\n",
                "    + feature_df[\"Metadata_Dose\"].astype(str)\n",
                "    # + \"_\"\n",
                "    # + feature_df['Metadata_inducer1_concentration_unit'].astype(str)\n",
                "    + \"_\"\n",
                "    + feature_df[\"Metadata_inhibitor\"].astype(str)\n",
                "    + \"_\"\n",
                "    + feature_df[\"Metadata_inhibitor_concentration\"].astype(str)\n",
                "    + \"_\"\n",
                "    + feature_df[\"Metadata_inhibitor_concentration_unit\"].astype(str)\n",
                ").astype(str)\n",
                "\n",
                "\n",
                "# two beta of inducer1, inhibitor, and inhibitor concentration all as 1 beta term + inducer1 concentration as 2nd beta term\n",
                "feature_df[\"twob_Metadata_Treatment_Dose_Inhibitor_Dose\"] = (\n",
                "    feature_df[\"Metadata_Treatment\"]\n",
                "    + \"_\"\n",
                "    + feature_df[\"Metadata_inhibitor\"].astype(str)\n",
                "    + \"_\"\n",
                "    + feature_df[\"Metadata_inhibitor_concentration\"].astype(str)\n",
                "    + \"__\"\n",
                "    + feature_df[\"Metadata_Dose\"].astype(str)\n",
                ").astype(str)\n",
                "\n",
                "# three beta of inducer 1 as 1 beta term, inducer1 concentration as 2nd beta term, inhibitor and inhibitor concentration as 3rd beta term\n",
                "feature_df[\"threeb_Metadata_Treatment_Dose_Inhibitor_Dose\"] = (\n",
                "    feature_df[\"Metadata_Treatment\"]\n",
                "    + \"__\"\n",
                "    + feature_df[\"Metadata_Dose\"].astype(str)\n",
                "    + \"__\"\n",
                "    + feature_df[\"Metadata_inducer1_concentration_unit\"].astype(str)\n",
                "    + \"_\"\n",
                "    + feature_df[\"Metadata_inhibitor\"].astype(str)\n",
                "    + \"_\"\n",
                "    + feature_df[\"Metadata_inhibitor_concentration\"].astype(str)\n",
                ").astype(str)\n",
                "\n",
                "# four beta of inducer 1 as 1 beta term, inducer1 concentration as 2nd beta term, inhibitor as 3rd beta term, and inhibitor concentration as 4th beta term\n",
                "feature_df[\"fourb_Metadata_Treatment_Dose_Inhibitor_Dose\"] = (\n",
                "    feature_df[\"Metadata_Treatment\"]\n",
                "    + \"__\"\n",
                "    + feature_df[\"Metadata_Dose\"].astype(str)\n",
                "    + \"__\"\n",
                "    + feature_df[\"Metadata_inducer1_concentration_unit\"].astype(str)\n",
                "    + \"_\"\n",
                "    + feature_df[\"Metadata_inhibitor\"].astype(str)\n",
                "    + \"__\"\n",
                "    + feature_df[\"Metadata_inhibitor_concentration\"].astype(str)\n",
                ").astype(str)"
            ]
        },
        {
            "cell_type": "code",
            "execution_count": null,
            "id": "99708fcd",
            "metadata": {
                "execution": {
                    "iopub.execute_input": "2024-03-12T14:37:22.868093Z",
                    "iopub.status.busy": "2024-03-12T14:37:22.867769Z",
                    "iopub.status.idle": "2024-03-12T14:37:23.352080Z",
                    "shell.execute_reply": "2024-03-12T14:37:23.351622Z"
                },
                "papermill": {
                    "duration": null,
                    "end_time": null,
                    "exception": null,
                    "start_time": null,
                    "status": "completed"
                },
                "tags": []
            },
            "outputs": [],
            "source": [
                "replacement_dict = {\n",
                "    \"None\": \"0\",\n",
                "    \"\u00b5\": \"u\",\n",
                "    \"nan\": \"0\",\n",
                "}\n",
                "for pattern, replacement in replacement_dict.items():\n",
                "    print(pattern, replacement)\n",
                "    feature_df[\"oneb_Metadata_Treatment_Dose_Inhibitor_Dose\"] = feature_df[\n",
                "        \"oneb_Metadata_Treatment_Dose_Inhibitor_Dose\"\n",
                "    ].replace(to_replace=str(pattern), value=str(replacement), regex=True)"
            ]
        },
        {
            "cell_type": "code",
            "execution_count": null,
            "id": "b04c1d48",
            "metadata": {
                "execution": {
                    "iopub.execute_input": "2024-03-12T14:37:23.358951Z",
                    "iopub.status.busy": "2024-03-12T14:37:23.358610Z",
                    "iopub.status.idle": "2024-03-12T14:37:23.426011Z",
                    "shell.execute_reply": "2024-03-12T14:37:23.425530Z"
                },
                "papermill": {
                    "duration": null,
                    "end_time": null,
                    "exception": null,
                    "start_time": null,
                    "status": "completed"
                },
                "tags": []
            },
            "outputs": [],
            "source": [
                "feature_df[\"oneb_Metadata_Treatment_Dose_Inhibitor_Dose\"] = feature_df[\n",
                "    \"oneb_Metadata_Treatment_Dose_Inhibitor_Dose\"\n",
                "].str.replace(\"media_ctr_0.0_0_Media_ctr_0_0\", \"media_ctr_0.0_0_Media_ctr_0.0_0\")"
            ]
        },
        {
            "cell_type": "code",
            "execution_count": null,
            "id": "6d96e544",
            "metadata": {
                "execution": {
                    "iopub.execute_input": "2024-03-12T14:37:23.435736Z",
                    "iopub.status.busy": "2024-03-12T14:37:23.435276Z",
                    "iopub.status.idle": "2024-03-12T14:37:23.795272Z",
                    "shell.execute_reply": "2024-03-12T14:37:23.794751Z"
                },
                "papermill": {
                    "duration": null,
                    "end_time": null,
                    "exception": null,
                    "start_time": null,
                    "status": "completed"
                },
                "tags": []
            },
            "outputs": [],
            "source": [
                "# need to convert to strings to save as parquet\n",
                "# if the column is an object then convert it to a string\n",
                "for column in feature_df.columns:\n",
                "    if feature_df[column].dtype == \"object\":\n",
                "        feature_df[column] = feature_df[column].astype(str)"
            ]
        },
        {
            "cell_type": "code",
            "execution_count": null,
            "id": "864734f1",
            "metadata": {
                "execution": {
                    "iopub.execute_input": "2024-03-12T14:37:23.805495Z",
                    "iopub.status.busy": "2024-03-12T14:37:23.805253Z",
                    "iopub.status.idle": "2024-03-12T14:37:23.818353Z",
                    "shell.execute_reply": "2024-03-12T14:37:23.817957Z"
                },
                "papermill": {
                    "duration": null,
                    "end_time": null,
                    "exception": null,
                    "start_time": null,
                    "status": "completed"
                },
                "tags": []
            },
            "outputs": [],
            "source": [
                "print(cell_type, len(feature_df[\"Metadata_Well\"].unique()))"
            ]
        },
        {
            "cell_type": "code",
            "execution_count": null,
            "id": "163924da",
            "metadata": {
                "execution": {
                    "iopub.execute_input": "2024-03-12T14:37:23.828384Z",
                    "iopub.status.busy": "2024-03-12T14:37:23.828040Z"
                },
                "papermill": {
                    "duration": null,
                    "end_time": null,
                    "exception": null,
                    "start_time": null,
                    "status": "completed"
                },
                "tags": []
            },
            "outputs": [],
            "source": [
                "# write to parquet file\n",
                "feature_df.to_parquet(feature_df_out_path)"
            ]
        }
    ],
    "metadata": {
        "kernelspec": {
            "display_name": "Interstellar",
            "language": "python",
            "name": "python3"
        },
        "language_info": {
            "codemirror_mode": {
                "name": "ipython",
                "version": 3
            },
            "file_extension": ".py",
            "mimetype": "text/x-python",
            "name": "python",
            "nbconvert_exporter": "python",
            "pygments_lexer": "ipython3",
            "version": "3.10.12"
        },
        "papermill": {
            "default_parameters": {},
            "duration": 29.486644,
            "end_time": "2024-03-12T14:38:42.120263",
            "environment_variables": {},
            "exception": null,
            "input_path": "0.preprocess_profiles.ipynb",
            "output_path": "0.preprocess_profiles.ipynb",
            "parameters": {
                "cell_type": "SHSY5Y"
            },
            "start_time": "2024-03-12T14:38:12.633619",
            "version": "2.5.0"
        }
    },
    "nbformat": 4,
    "nbformat_minor": 5
}
