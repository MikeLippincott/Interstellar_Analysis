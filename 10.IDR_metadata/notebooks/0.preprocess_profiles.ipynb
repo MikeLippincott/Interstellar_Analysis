{
    "cells": [
        {
            "cell_type": "markdown",
            "id": "fbfb775f",
            "metadata": {
                "papermill": {
                    "duration": 0.003131,
                    "end_time": "2024-04-16T20:15:58.282748",
                    "exception": false,
                    "start_time": "2024-04-16T20:15:58.279617",
                    "status": "completed"
                },
                "tags": []
            },
            "source": [
                "This notebooks curates and preprocesses the data for IDR.\n",
                "Specifically, it preprocesses the normalized, non-feature selected data."
            ]
        },
        {
            "cell_type": "code",
            "execution_count": 1,
            "id": "aef8c270",
            "metadata": {
                "execution": {
                    "iopub.execute_input": "2024-04-16T20:15:58.287566Z",
                    "iopub.status.busy": "2024-04-16T20:15:58.287403Z",
                    "iopub.status.idle": "2024-04-16T20:15:58.290998Z",
                    "shell.execute_reply": "2024-04-16T20:15:58.290703Z"
                },
                "papermill": {
                    "duration": 0.006763,
                    "end_time": "2024-04-16T20:15:58.291664",
                    "exception": false,
                    "start_time": "2024-04-16T20:15:58.284901",
                    "status": "completed"
                },
                "tags": [
                    "injected-parameters"
                ]
            },
            "outputs": [],
            "source": [
                "# Parameters\n",
                "cell_type = \"PBMC\""
            ]
        },
        {
            "cell_type": "code",
            "execution_count": 2,
            "id": "39ca7e73",
            "metadata": {
                "execution": {
                    "iopub.execute_input": "2024-04-16T20:15:58.296691Z",
                    "iopub.status.busy": "2024-04-16T20:15:58.296345Z",
                    "iopub.status.idle": "2024-04-16T20:15:58.580421Z",
                    "shell.execute_reply": "2024-04-16T20:15:58.580066Z"
                },
                "papermill": {
                    "duration": 0.288034,
                    "end_time": "2024-04-16T20:15:58.581729",
                    "exception": false,
                    "start_time": "2024-04-16T20:15:58.293695",
                    "status": "completed"
                },
                "tags": []
            },
            "outputs": [],
            "source": [
                "import pathlib\n",
                "\n",
                "import numpy as np\n",
                "import pandas as pd\n",
                "import papermill as pm\n",
                "import pyarrow as pa\n",
                "import pyarrow.parquet as pq"
            ]
        },
        {
            "cell_type": "code",
            "execution_count": 3,
            "id": "238b1c8a",
            "metadata": {
                "execution": {
                    "iopub.execute_input": "2024-04-16T20:15:58.589218Z",
                    "iopub.status.busy": "2024-04-16T20:15:58.588916Z",
                    "iopub.status.idle": "2024-04-16T20:24:40.216576Z",
                    "shell.execute_reply": "2024-04-16T20:24:40.185783Z"
                },
                "papermill": {
                    "duration": 521.659533,
                    "end_time": "2024-04-16T20:24:40.244681",
                    "exception": false,
                    "start_time": "2024-04-16T20:15:58.585148",
                    "status": "completed"
                },
                "tags": []
            },
            "outputs": [],
            "source": [
                "# Define inputs\n",
                "feature_file = pathlib.Path(f\"../../data/{cell_type}_sc_norm.parquet\")\n",
                "feature_df = pd.read_parquet(feature_file)"
            ]
        },
        {
            "cell_type": "code",
            "execution_count": 4,
            "id": "151e967f",
            "metadata": {
                "execution": {
                    "iopub.execute_input": "2024-04-16T20:24:40.295663Z",
                    "iopub.status.busy": "2024-04-16T20:24:40.281130Z",
                    "iopub.status.idle": "2024-04-16T20:24:41.540452Z",
                    "shell.execute_reply": "2024-04-16T20:24:41.540068Z"
                },
                "papermill": {
                    "duration": 1.287821,
                    "end_time": "2024-04-16T20:24:41.549753",
                    "exception": false,
                    "start_time": "2024-04-16T20:24:40.261932",
                    "status": "completed"
                },
                "tags": []
            },
            "outputs": [
                {
                    "data": {
                        "text/plain": [
                            "154"
                        ]
                    },
                    "execution_count": 4,
                    "metadata": {},
                    "output_type": "execute_result"
                }
            ],
            "source": [
                "len(feature_df[\"Metadata_Well\"].unique())"
            ]
        },
        {
            "cell_type": "code",
            "execution_count": 5,
            "id": "a1a68c93",
            "metadata": {
                "execution": {
                    "iopub.execute_input": "2024-04-16T20:24:41.555523Z",
                    "iopub.status.busy": "2024-04-16T20:24:41.555284Z",
                    "iopub.status.idle": "2024-04-16T21:09:00.020597Z",
                    "shell.execute_reply": "2024-04-16T21:08:59.992314Z"
                },
                "papermill": {
                    "duration": 2658.508002,
                    "end_time": "2024-04-16T21:09:00.060508",
                    "exception": false,
                    "start_time": "2024-04-16T20:24:41.552506",
                    "status": "completed"
                },
                "tags": []
            },
            "outputs": [],
            "source": [
                "# replace all \" \" with \"_\" in all values of the dataframe\n",
                "feature_df = feature_df.replace(to_replace=\" \", value=\"_\", regex=True)"
            ]
        },
        {
            "cell_type": "code",
            "execution_count": 6,
            "id": "f8bc8c15",
            "metadata": {
                "execution": {
                    "iopub.execute_input": "2024-04-16T21:09:00.115769Z",
                    "iopub.status.busy": "2024-04-16T21:09:00.114490Z",
                    "iopub.status.idle": "2024-04-16T21:09:03.485457Z",
                    "shell.execute_reply": "2024-04-16T21:09:03.484791Z"
                },
                "papermill": {
                    "duration": 3.393866,
                    "end_time": "2024-04-16T21:09:03.488044",
                    "exception": false,
                    "start_time": "2024-04-16T21:09:00.094178",
                    "status": "completed"
                },
                "tags": []
            },
            "outputs": [],
            "source": [
                "# remove uM in each row of the Metadata_inducer1_concentration column\n",
                "feature_df[\"Metadata_inducer1_concentration\"] = feature_df[\n",
                "    \"Metadata_inducer1_concentration\"\n",
                "].str.replace(\"\u00b5M\", \"\")"
            ]
        },
        {
            "cell_type": "code",
            "execution_count": 7,
            "id": "6cb52834",
            "metadata": {
                "execution": {
                    "iopub.execute_input": "2024-04-16T21:09:03.494527Z",
                    "iopub.status.busy": "2024-04-16T21:09:03.494191Z",
                    "iopub.status.idle": "2024-04-16T21:09:03.608361Z",
                    "shell.execute_reply": "2024-04-16T21:09:03.607958Z"
                },
                "papermill": {
                    "duration": 0.138629,
                    "end_time": "2024-04-16T21:09:03.629395",
                    "exception": false,
                    "start_time": "2024-04-16T21:09:03.490766",
                    "status": "completed"
                },
                "tags": []
            },
            "outputs": [
                {
                    "data": {
                        "text/plain": [
                            "array(['0.010', '0.100', '100.000', None, '1.000', '10.000', '2.5',\n",
                            "       '2.500', '5.000', '20.000'], dtype=object)"
                        ]
                    },
                    "execution_count": 7,
                    "metadata": {},
                    "output_type": "execute_result"
                }
            ],
            "source": [
                "feature_df[\"Metadata_inducer1_concentration\"].unique()"
            ]
        },
        {
            "cell_type": "code",
            "execution_count": 8,
            "id": "1c335051",
            "metadata": {
                "execution": {
                    "iopub.execute_input": "2024-04-16T21:09:03.636396Z",
                    "iopub.status.busy": "2024-04-16T21:09:03.636008Z",
                    "iopub.status.idle": "2024-04-16T21:09:03.640982Z",
                    "shell.execute_reply": "2024-04-16T21:09:03.640714Z"
                },
                "papermill": {
                    "duration": 0.009799,
                    "end_time": "2024-04-16T21:09:03.642010",
                    "exception": false,
                    "start_time": "2024-04-16T21:09:03.632211",
                    "status": "completed"
                },
                "tags": []
            },
            "outputs": [],
            "source": [
                "# define output file path\n",
                "feature_df_out_path = pathlib.Path(\n",
                "    f\"../../data/{cell_type}_preprocess_sc_norm_no_fs.parquet\"\n",
                ")"
            ]
        },
        {
            "cell_type": "code",
            "execution_count": 9,
            "id": "ae9f7dcc",
            "metadata": {
                "execution": {
                    "iopub.execute_input": "2024-04-16T21:09:03.647982Z",
                    "iopub.status.busy": "2024-04-16T21:09:03.647741Z",
                    "iopub.status.idle": "2024-04-16T21:09:03.766597Z",
                    "shell.execute_reply": "2024-04-16T21:09:03.766232Z"
                },
                "papermill": {
                    "duration": 0.122925,
                    "end_time": "2024-04-16T21:09:03.767341",
                    "exception": false,
                    "start_time": "2024-04-16T21:09:03.644416",
                    "status": "completed"
                },
                "tags": []
            },
            "outputs": [
                {
                    "name": "stdout",
                    "output_type": "stream",
                    "text": [
                        "(8318751, 2926)\n"
                    ]
                },
                {
                    "data": {
                        "text/html": [
                            "<div>\n",
                            "<style scoped>\n",
                            "    .dataframe tbody tr th:only-of-type {\n",
                            "        vertical-align: middle;\n",
                            "    }\n",
                            "\n",
                            "    .dataframe tbody tr th {\n",
                            "        vertical-align: top;\n",
                            "    }\n",
                            "\n",
                            "    .dataframe thead th {\n",
                            "        text-align: right;\n",
                            "    }\n",
                            "</style>\n",
                            "<table border=\"1\" class=\"dataframe\">\n",
                            "  <thead>\n",
                            "    <tr style=\"text-align: right;\">\n",
                            "      <th></th>\n",
                            "      <th>Metadata_cell_type</th>\n",
                            "      <th>Metadata_Well</th>\n",
                            "      <th>Metadata_number_of_singlecells</th>\n",
                            "      <th>Metadata_incubation inducer (h)</th>\n",
                            "      <th>Metadata_inhibitor</th>\n",
                            "      <th>Metadata_inhibitor_concentration</th>\n",
                            "      <th>Metadata_inhibitor_concentration_unit</th>\n",
                            "      <th>Metadata_inducer1</th>\n",
                            "      <th>Metadata_inducer1_concentration</th>\n",
                            "      <th>Metadata_inducer1_concentration_unit</th>\n",
                            "      <th>...</th>\n",
                            "      <th>Nuclei_Texture_Variance_CorrGasdermin_3_02_256</th>\n",
                            "      <th>Nuclei_Texture_Variance_CorrGasdermin_3_03_256</th>\n",
                            "      <th>Nuclei_Texture_Variance_CorrMito_3_00_256</th>\n",
                            "      <th>Nuclei_Texture_Variance_CorrMito_3_01_256</th>\n",
                            "      <th>Nuclei_Texture_Variance_CorrMito_3_02_256</th>\n",
                            "      <th>Nuclei_Texture_Variance_CorrMito_3_03_256</th>\n",
                            "      <th>Nuclei_Texture_Variance_CorrPM_3_00_256</th>\n",
                            "      <th>Nuclei_Texture_Variance_CorrPM_3_01_256</th>\n",
                            "      <th>Nuclei_Texture_Variance_CorrPM_3_02_256</th>\n",
                            "      <th>Nuclei_Texture_Variance_CorrPM_3_03_256</th>\n",
                            "    </tr>\n",
                            "  </thead>\n",
                            "  <tbody>\n",
                            "    <tr>\n",
                            "      <th>0</th>\n",
                            "      <td>PBMC</td>\n",
                            "      <td>B02</td>\n",
                            "      <td>47666</td>\n",
                            "      <td>6</td>\n",
                            "      <td>DMSO</td>\n",
                            "      <td>0.025</td>\n",
                            "      <td>%</td>\n",
                            "      <td>LPS</td>\n",
                            "      <td>0.010</td>\n",
                            "      <td>\u00b5g/ml</td>\n",
                            "      <td>...</td>\n",
                            "      <td>-0.173012</td>\n",
                            "      <td>-0.174316</td>\n",
                            "      <td>-0.021663</td>\n",
                            "      <td>-0.022294</td>\n",
                            "      <td>-0.022153</td>\n",
                            "      <td>-0.020761</td>\n",
                            "      <td>-0.033854</td>\n",
                            "      <td>-0.051572</td>\n",
                            "      <td>-0.018127</td>\n",
                            "      <td>-0.032755</td>\n",
                            "    </tr>\n",
                            "    <tr>\n",
                            "      <th>1</th>\n",
                            "      <td>PBMC</td>\n",
                            "      <td>B02</td>\n",
                            "      <td>47666</td>\n",
                            "      <td>6</td>\n",
                            "      <td>DMSO</td>\n",
                            "      <td>0.025</td>\n",
                            "      <td>%</td>\n",
                            "      <td>LPS</td>\n",
                            "      <td>0.010</td>\n",
                            "      <td>\u00b5g/ml</td>\n",
                            "      <td>...</td>\n",
                            "      <td>-0.162169</td>\n",
                            "      <td>-0.161173</td>\n",
                            "      <td>-0.016040</td>\n",
                            "      <td>-0.018070</td>\n",
                            "      <td>-0.016719</td>\n",
                            "      <td>-0.015716</td>\n",
                            "      <td>-0.146685</td>\n",
                            "      <td>-0.149468</td>\n",
                            "      <td>-0.150065</td>\n",
                            "      <td>-0.148966</td>\n",
                            "    </tr>\n",
                            "    <tr>\n",
                            "      <th>2</th>\n",
                            "      <td>PBMC</td>\n",
                            "      <td>B02</td>\n",
                            "      <td>47666</td>\n",
                            "      <td>6</td>\n",
                            "      <td>DMSO</td>\n",
                            "      <td>0.025</td>\n",
                            "      <td>%</td>\n",
                            "      <td>LPS</td>\n",
                            "      <td>0.010</td>\n",
                            "      <td>\u00b5g/ml</td>\n",
                            "      <td>...</td>\n",
                            "      <td>-0.149200</td>\n",
                            "      <td>-0.154024</td>\n",
                            "      <td>-0.027522</td>\n",
                            "      <td>-0.027874</td>\n",
                            "      <td>-0.027834</td>\n",
                            "      <td>-0.028740</td>\n",
                            "      <td>-0.154309</td>\n",
                            "      <td>-0.154594</td>\n",
                            "      <td>-0.154187</td>\n",
                            "      <td>-0.154065</td>\n",
                            "    </tr>\n",
                            "    <tr>\n",
                            "      <th>3</th>\n",
                            "      <td>PBMC</td>\n",
                            "      <td>B02</td>\n",
                            "      <td>47666</td>\n",
                            "      <td>6</td>\n",
                            "      <td>DMSO</td>\n",
                            "      <td>0.025</td>\n",
                            "      <td>%</td>\n",
                            "      <td>LPS</td>\n",
                            "      <td>0.010</td>\n",
                            "      <td>\u00b5g/ml</td>\n",
                            "      <td>...</td>\n",
                            "      <td>0.239264</td>\n",
                            "      <td>0.327299</td>\n",
                            "      <td>-0.014348</td>\n",
                            "      <td>-0.013663</td>\n",
                            "      <td>-0.015669</td>\n",
                            "      <td>-0.014959</td>\n",
                            "      <td>0.637816</td>\n",
                            "      <td>0.688413</td>\n",
                            "      <td>0.623980</td>\n",
                            "      <td>0.595073</td>\n",
                            "    </tr>\n",
                            "    <tr>\n",
                            "      <th>4</th>\n",
                            "      <td>PBMC</td>\n",
                            "      <td>B02</td>\n",
                            "      <td>47666</td>\n",
                            "      <td>6</td>\n",
                            "      <td>DMSO</td>\n",
                            "      <td>0.025</td>\n",
                            "      <td>%</td>\n",
                            "      <td>LPS</td>\n",
                            "      <td>0.010</td>\n",
                            "      <td>\u00b5g/ml</td>\n",
                            "      <td>...</td>\n",
                            "      <td>-0.063431</td>\n",
                            "      <td>-0.065020</td>\n",
                            "      <td>-0.004869</td>\n",
                            "      <td>-0.004127</td>\n",
                            "      <td>-0.002573</td>\n",
                            "      <td>-0.002836</td>\n",
                            "      <td>-0.128303</td>\n",
                            "      <td>-0.132365</td>\n",
                            "      <td>-0.131525</td>\n",
                            "      <td>-0.129061</td>\n",
                            "    </tr>\n",
                            "  </tbody>\n",
                            "</table>\n",
                            "<p>5 rows \u00d7 2926 columns</p>\n",
                            "</div>"
                        ],
                        "text/plain": [
                            "  Metadata_cell_type Metadata_Well  Metadata_number_of_singlecells  \\\n",
                            "0               PBMC           B02                           47666   \n",
                            "1               PBMC           B02                           47666   \n",
                            "2               PBMC           B02                           47666   \n",
                            "3               PBMC           B02                           47666   \n",
                            "4               PBMC           B02                           47666   \n",
                            "\n",
                            "   Metadata_incubation inducer (h) Metadata_inhibitor  \\\n",
                            "0                                6               DMSO   \n",
                            "1                                6               DMSO   \n",
                            "2                                6               DMSO   \n",
                            "3                                6               DMSO   \n",
                            "4                                6               DMSO   \n",
                            "\n",
                            "   Metadata_inhibitor_concentration Metadata_inhibitor_concentration_unit  \\\n",
                            "0                             0.025                                     %   \n",
                            "1                             0.025                                     %   \n",
                            "2                             0.025                                     %   \n",
                            "3                             0.025                                     %   \n",
                            "4                             0.025                                     %   \n",
                            "\n",
                            "  Metadata_inducer1 Metadata_inducer1_concentration  \\\n",
                            "0               LPS                           0.010   \n",
                            "1               LPS                           0.010   \n",
                            "2               LPS                           0.010   \n",
                            "3               LPS                           0.010   \n",
                            "4               LPS                           0.010   \n",
                            "\n",
                            "  Metadata_inducer1_concentration_unit  ...  \\\n",
                            "0                                \u00b5g/ml  ...   \n",
                            "1                                \u00b5g/ml  ...   \n",
                            "2                                \u00b5g/ml  ...   \n",
                            "3                                \u00b5g/ml  ...   \n",
                            "4                                \u00b5g/ml  ...   \n",
                            "\n",
                            "  Nuclei_Texture_Variance_CorrGasdermin_3_02_256  \\\n",
                            "0                                      -0.173012   \n",
                            "1                                      -0.162169   \n",
                            "2                                      -0.149200   \n",
                            "3                                       0.239264   \n",
                            "4                                      -0.063431   \n",
                            "\n",
                            "   Nuclei_Texture_Variance_CorrGasdermin_3_03_256  \\\n",
                            "0                                       -0.174316   \n",
                            "1                                       -0.161173   \n",
                            "2                                       -0.154024   \n",
                            "3                                        0.327299   \n",
                            "4                                       -0.065020   \n",
                            "\n",
                            "  Nuclei_Texture_Variance_CorrMito_3_00_256  \\\n",
                            "0                                 -0.021663   \n",
                            "1                                 -0.016040   \n",
                            "2                                 -0.027522   \n",
                            "3                                 -0.014348   \n",
                            "4                                 -0.004869   \n",
                            "\n",
                            "   Nuclei_Texture_Variance_CorrMito_3_01_256  \\\n",
                            "0                                  -0.022294   \n",
                            "1                                  -0.018070   \n",
                            "2                                  -0.027874   \n",
                            "3                                  -0.013663   \n",
                            "4                                  -0.004127   \n",
                            "\n",
                            "  Nuclei_Texture_Variance_CorrMito_3_02_256  \\\n",
                            "0                                 -0.022153   \n",
                            "1                                 -0.016719   \n",
                            "2                                 -0.027834   \n",
                            "3                                 -0.015669   \n",
                            "4                                 -0.002573   \n",
                            "\n",
                            "   Nuclei_Texture_Variance_CorrMito_3_03_256  \\\n",
                            "0                                  -0.020761   \n",
                            "1                                  -0.015716   \n",
                            "2                                  -0.028740   \n",
                            "3                                  -0.014959   \n",
                            "4                                  -0.002836   \n",
                            "\n",
                            "   Nuclei_Texture_Variance_CorrPM_3_00_256  \\\n",
                            "0                                -0.033854   \n",
                            "1                                -0.146685   \n",
                            "2                                -0.154309   \n",
                            "3                                 0.637816   \n",
                            "4                                -0.128303   \n",
                            "\n",
                            "   Nuclei_Texture_Variance_CorrPM_3_01_256  \\\n",
                            "0                                -0.051572   \n",
                            "1                                -0.149468   \n",
                            "2                                -0.154594   \n",
                            "3                                 0.688413   \n",
                            "4                                -0.132365   \n",
                            "\n",
                            "   Nuclei_Texture_Variance_CorrPM_3_02_256  \\\n",
                            "0                                -0.018127   \n",
                            "1                                -0.150065   \n",
                            "2                                -0.154187   \n",
                            "3                                 0.623980   \n",
                            "4                                -0.131525   \n",
                            "\n",
                            "   Nuclei_Texture_Variance_CorrPM_3_03_256  \n",
                            "0                                -0.032755  \n",
                            "1                                -0.148966  \n",
                            "2                                -0.154065  \n",
                            "3                                 0.595073  \n",
                            "4                                -0.129061  \n",
                            "\n",
                            "[5 rows x 2926 columns]"
                        ]
                    },
                    "execution_count": 9,
                    "metadata": {},
                    "output_type": "execute_result"
                }
            ],
            "source": [
                "print(feature_df.shape)\n",
                "feature_df.head()"
            ]
        },
        {
            "cell_type": "code",
            "execution_count": 10,
            "id": "23c3932e",
            "metadata": {
                "execution": {
                    "iopub.execute_input": "2024-04-16T21:09:03.776674Z",
                    "iopub.status.busy": "2024-04-16T21:09:03.776534Z",
                    "iopub.status.idle": "2024-04-16T21:38:54.192451Z",
                    "shell.execute_reply": "2024-04-16T21:38:54.182701Z"
                },
                "papermill": {
                    "duration": 1790.500759,
                    "end_time": "2024-04-16T21:38:54.273985",
                    "exception": false,
                    "start_time": "2024-04-16T21:09:03.773226",
                    "status": "completed"
                },
                "tags": []
            },
            "outputs": [
                {
                    "name": "stdout",
                    "output_type": "stream",
                    "text": [
                        "(8318751, 2866)\n"
                    ]
                },
                {
                    "data": {
                        "text/html": [
                            "<div>\n",
                            "<style scoped>\n",
                            "    .dataframe tbody tr th:only-of-type {\n",
                            "        vertical-align: middle;\n",
                            "    }\n",
                            "\n",
                            "    .dataframe tbody tr th {\n",
                            "        vertical-align: top;\n",
                            "    }\n",
                            "\n",
                            "    .dataframe thead th {\n",
                            "        text-align: right;\n",
                            "    }\n",
                            "</style>\n",
                            "<table border=\"1\" class=\"dataframe\">\n",
                            "  <thead>\n",
                            "    <tr style=\"text-align: right;\">\n",
                            "      <th></th>\n",
                            "      <th>Metadata_cell_type</th>\n",
                            "      <th>Metadata_Well</th>\n",
                            "      <th>Metadata_number_of_singlecells</th>\n",
                            "      <th>Metadata_incubation inducer (h)</th>\n",
                            "      <th>Metadata_inhibitor</th>\n",
                            "      <th>Metadata_inhibitor_concentration</th>\n",
                            "      <th>Metadata_inhibitor_concentration_unit</th>\n",
                            "      <th>Metadata_inducer1</th>\n",
                            "      <th>Metadata_inducer1_concentration</th>\n",
                            "      <th>Metadata_inducer1_concentration_unit</th>\n",
                            "      <th>...</th>\n",
                            "      <th>Nuclei_Texture_Variance_CorrGasdermin_3_02_256</th>\n",
                            "      <th>Nuclei_Texture_Variance_CorrGasdermin_3_03_256</th>\n",
                            "      <th>Nuclei_Texture_Variance_CorrMito_3_00_256</th>\n",
                            "      <th>Nuclei_Texture_Variance_CorrMito_3_01_256</th>\n",
                            "      <th>Nuclei_Texture_Variance_CorrMito_3_02_256</th>\n",
                            "      <th>Nuclei_Texture_Variance_CorrMito_3_03_256</th>\n",
                            "      <th>Nuclei_Texture_Variance_CorrPM_3_00_256</th>\n",
                            "      <th>Nuclei_Texture_Variance_CorrPM_3_01_256</th>\n",
                            "      <th>Nuclei_Texture_Variance_CorrPM_3_02_256</th>\n",
                            "      <th>Nuclei_Texture_Variance_CorrPM_3_03_256</th>\n",
                            "    </tr>\n",
                            "  </thead>\n",
                            "  <tbody>\n",
                            "    <tr>\n",
                            "      <th>0</th>\n",
                            "      <td>PBMC</td>\n",
                            "      <td>B02</td>\n",
                            "      <td>47666</td>\n",
                            "      <td>6</td>\n",
                            "      <td>DMSO</td>\n",
                            "      <td>0.025</td>\n",
                            "      <td>%</td>\n",
                            "      <td>LPS</td>\n",
                            "      <td>0.010</td>\n",
                            "      <td>\u00b5g/ml</td>\n",
                            "      <td>...</td>\n",
                            "      <td>-0.173012</td>\n",
                            "      <td>-0.174316</td>\n",
                            "      <td>-0.021663</td>\n",
                            "      <td>-0.022294</td>\n",
                            "      <td>-0.022153</td>\n",
                            "      <td>-0.020761</td>\n",
                            "      <td>-0.033854</td>\n",
                            "      <td>-0.051572</td>\n",
                            "      <td>-0.018127</td>\n",
                            "      <td>-0.032755</td>\n",
                            "    </tr>\n",
                            "    <tr>\n",
                            "      <th>1</th>\n",
                            "      <td>PBMC</td>\n",
                            "      <td>B02</td>\n",
                            "      <td>47666</td>\n",
                            "      <td>6</td>\n",
                            "      <td>DMSO</td>\n",
                            "      <td>0.025</td>\n",
                            "      <td>%</td>\n",
                            "      <td>LPS</td>\n",
                            "      <td>0.010</td>\n",
                            "      <td>\u00b5g/ml</td>\n",
                            "      <td>...</td>\n",
                            "      <td>-0.162169</td>\n",
                            "      <td>-0.161173</td>\n",
                            "      <td>-0.016040</td>\n",
                            "      <td>-0.018070</td>\n",
                            "      <td>-0.016719</td>\n",
                            "      <td>-0.015716</td>\n",
                            "      <td>-0.146685</td>\n",
                            "      <td>-0.149468</td>\n",
                            "      <td>-0.150065</td>\n",
                            "      <td>-0.148966</td>\n",
                            "    </tr>\n",
                            "    <tr>\n",
                            "      <th>2</th>\n",
                            "      <td>PBMC</td>\n",
                            "      <td>B02</td>\n",
                            "      <td>47666</td>\n",
                            "      <td>6</td>\n",
                            "      <td>DMSO</td>\n",
                            "      <td>0.025</td>\n",
                            "      <td>%</td>\n",
                            "      <td>LPS</td>\n",
                            "      <td>0.010</td>\n",
                            "      <td>\u00b5g/ml</td>\n",
                            "      <td>...</td>\n",
                            "      <td>-0.149200</td>\n",
                            "      <td>-0.154024</td>\n",
                            "      <td>-0.027522</td>\n",
                            "      <td>-0.027874</td>\n",
                            "      <td>-0.027834</td>\n",
                            "      <td>-0.028740</td>\n",
                            "      <td>-0.154309</td>\n",
                            "      <td>-0.154594</td>\n",
                            "      <td>-0.154187</td>\n",
                            "      <td>-0.154065</td>\n",
                            "    </tr>\n",
                            "    <tr>\n",
                            "      <th>3</th>\n",
                            "      <td>PBMC</td>\n",
                            "      <td>B02</td>\n",
                            "      <td>47666</td>\n",
                            "      <td>6</td>\n",
                            "      <td>DMSO</td>\n",
                            "      <td>0.025</td>\n",
                            "      <td>%</td>\n",
                            "      <td>LPS</td>\n",
                            "      <td>0.010</td>\n",
                            "      <td>\u00b5g/ml</td>\n",
                            "      <td>...</td>\n",
                            "      <td>0.239264</td>\n",
                            "      <td>0.327299</td>\n",
                            "      <td>-0.014348</td>\n",
                            "      <td>-0.013663</td>\n",
                            "      <td>-0.015669</td>\n",
                            "      <td>-0.014959</td>\n",
                            "      <td>0.637816</td>\n",
                            "      <td>0.688413</td>\n",
                            "      <td>0.623980</td>\n",
                            "      <td>0.595073</td>\n",
                            "    </tr>\n",
                            "    <tr>\n",
                            "      <th>4</th>\n",
                            "      <td>PBMC</td>\n",
                            "      <td>B02</td>\n",
                            "      <td>47666</td>\n",
                            "      <td>6</td>\n",
                            "      <td>DMSO</td>\n",
                            "      <td>0.025</td>\n",
                            "      <td>%</td>\n",
                            "      <td>LPS</td>\n",
                            "      <td>0.010</td>\n",
                            "      <td>\u00b5g/ml</td>\n",
                            "      <td>...</td>\n",
                            "      <td>-0.063431</td>\n",
                            "      <td>-0.065020</td>\n",
                            "      <td>-0.004869</td>\n",
                            "      <td>-0.004127</td>\n",
                            "      <td>-0.002573</td>\n",
                            "      <td>-0.002836</td>\n",
                            "      <td>-0.128303</td>\n",
                            "      <td>-0.132365</td>\n",
                            "      <td>-0.131525</td>\n",
                            "      <td>-0.129061</td>\n",
                            "    </tr>\n",
                            "  </tbody>\n",
                            "</table>\n",
                            "<p>5 rows \u00d7 2866 columns</p>\n",
                            "</div>"
                        ],
                        "text/plain": [
                            "  Metadata_cell_type Metadata_Well  Metadata_number_of_singlecells  \\\n",
                            "0               PBMC           B02                           47666   \n",
                            "1               PBMC           B02                           47666   \n",
                            "2               PBMC           B02                           47666   \n",
                            "3               PBMC           B02                           47666   \n",
                            "4               PBMC           B02                           47666   \n",
                            "\n",
                            "   Metadata_incubation inducer (h) Metadata_inhibitor  \\\n",
                            "0                                6               DMSO   \n",
                            "1                                6               DMSO   \n",
                            "2                                6               DMSO   \n",
                            "3                                6               DMSO   \n",
                            "4                                6               DMSO   \n",
                            "\n",
                            "   Metadata_inhibitor_concentration Metadata_inhibitor_concentration_unit  \\\n",
                            "0                             0.025                                     %   \n",
                            "1                             0.025                                     %   \n",
                            "2                             0.025                                     %   \n",
                            "3                             0.025                                     %   \n",
                            "4                             0.025                                     %   \n",
                            "\n",
                            "  Metadata_inducer1 Metadata_inducer1_concentration  \\\n",
                            "0               LPS                           0.010   \n",
                            "1               LPS                           0.010   \n",
                            "2               LPS                           0.010   \n",
                            "3               LPS                           0.010   \n",
                            "4               LPS                           0.010   \n",
                            "\n",
                            "  Metadata_inducer1_concentration_unit  ...  \\\n",
                            "0                                \u00b5g/ml  ...   \n",
                            "1                                \u00b5g/ml  ...   \n",
                            "2                                \u00b5g/ml  ...   \n",
                            "3                                \u00b5g/ml  ...   \n",
                            "4                                \u00b5g/ml  ...   \n",
                            "\n",
                            "  Nuclei_Texture_Variance_CorrGasdermin_3_02_256  \\\n",
                            "0                                      -0.173012   \n",
                            "1                                      -0.162169   \n",
                            "2                                      -0.149200   \n",
                            "3                                       0.239264   \n",
                            "4                                      -0.063431   \n",
                            "\n",
                            "   Nuclei_Texture_Variance_CorrGasdermin_3_03_256  \\\n",
                            "0                                       -0.174316   \n",
                            "1                                       -0.161173   \n",
                            "2                                       -0.154024   \n",
                            "3                                        0.327299   \n",
                            "4                                       -0.065020   \n",
                            "\n",
                            "  Nuclei_Texture_Variance_CorrMito_3_00_256  \\\n",
                            "0                                 -0.021663   \n",
                            "1                                 -0.016040   \n",
                            "2                                 -0.027522   \n",
                            "3                                 -0.014348   \n",
                            "4                                 -0.004869   \n",
                            "\n",
                            "   Nuclei_Texture_Variance_CorrMito_3_01_256  \\\n",
                            "0                                  -0.022294   \n",
                            "1                                  -0.018070   \n",
                            "2                                  -0.027874   \n",
                            "3                                  -0.013663   \n",
                            "4                                  -0.004127   \n",
                            "\n",
                            "  Nuclei_Texture_Variance_CorrMito_3_02_256  \\\n",
                            "0                                 -0.022153   \n",
                            "1                                 -0.016719   \n",
                            "2                                 -0.027834   \n",
                            "3                                 -0.015669   \n",
                            "4                                 -0.002573   \n",
                            "\n",
                            "   Nuclei_Texture_Variance_CorrMito_3_03_256  \\\n",
                            "0                                  -0.020761   \n",
                            "1                                  -0.015716   \n",
                            "2                                  -0.028740   \n",
                            "3                                  -0.014959   \n",
                            "4                                  -0.002836   \n",
                            "\n",
                            "   Nuclei_Texture_Variance_CorrPM_3_00_256  \\\n",
                            "0                                -0.033854   \n",
                            "1                                -0.146685   \n",
                            "2                                -0.154309   \n",
                            "3                                 0.637816   \n",
                            "4                                -0.128303   \n",
                            "\n",
                            "   Nuclei_Texture_Variance_CorrPM_3_01_256  \\\n",
                            "0                                -0.051572   \n",
                            "1                                -0.149468   \n",
                            "2                                -0.154594   \n",
                            "3                                 0.688413   \n",
                            "4                                -0.132365   \n",
                            "\n",
                            "   Nuclei_Texture_Variance_CorrPM_3_02_256  \\\n",
                            "0                                -0.018127   \n",
                            "1                                -0.150065   \n",
                            "2                                -0.154187   \n",
                            "3                                 0.623980   \n",
                            "4                                -0.131525   \n",
                            "\n",
                            "   Nuclei_Texture_Variance_CorrPM_3_03_256  \n",
                            "0                                -0.032755  \n",
                            "1                                -0.148966  \n",
                            "2                                -0.154065  \n",
                            "3                                 0.595073  \n",
                            "4                                -0.129061  \n",
                            "\n",
                            "[5 rows x 2866 columns]"
                        ]
                    },
                    "execution_count": 10,
                    "metadata": {},
                    "output_type": "execute_result"
                }
            ],
            "source": [
                "# removing costes features as they behave with great variance across all data\n",
                "feature_df = feature_df.drop(feature_df.filter(regex=\"Costes\").columns, axis=1)\n",
                "print(feature_df.shape)\n",
                "feature_df.head()"
            ]
        },
        {
            "cell_type": "code",
            "execution_count": 11,
            "id": "4d30a3a8",
            "metadata": {
                "execution": {
                    "iopub.execute_input": "2024-04-16T21:38:54.328558Z",
                    "iopub.status.busy": "2024-04-16T21:38:54.327444Z",
                    "iopub.status.idle": "2024-04-16T22:07:55.309271Z",
                    "shell.execute_reply": "2024-04-16T22:07:55.283633Z"
                },
                "papermill": {
                    "duration": 1741.068063,
                    "end_time": "2024-04-16T22:07:55.351160",
                    "exception": false,
                    "start_time": "2024-04-16T21:38:54.283097",
                    "status": "completed"
                },
                "tags": []
            },
            "outputs": [],
            "source": [
                "# replacing '/' in treatment dosage column to avoid errors in file interpolation including such strings\n",
                "feature_df = feature_df.replace(to_replace=\"/\", value=\"_per_\", regex=True)"
            ]
        },
        {
            "cell_type": "code",
            "execution_count": 12,
            "id": "597e9dc0",
            "metadata": {
                "execution": {
                    "iopub.execute_input": "2024-04-16T22:07:55.420021Z",
                    "iopub.status.busy": "2024-04-16T22:07:55.418464Z",
                    "iopub.status.idle": "2024-04-16T22:07:56.743949Z",
                    "shell.execute_reply": "2024-04-16T22:07:56.743450Z"
                },
                "papermill": {
                    "duration": 1.376876,
                    "end_time": "2024-04-16T22:07:56.764454",
                    "exception": false,
                    "start_time": "2024-04-16T22:07:55.387578",
                    "status": "completed"
                },
                "tags": []
            },
            "outputs": [
                {
                    "name": "stderr",
                    "output_type": "stream",
                    "text": [
                        "/tmp/ipykernel_3429132/2784960678.py:8: SettingWithCopyWarning: \n",
                        "A value is trying to be set on a copy of a slice from a DataFrame\n",
                        "\n",
                        "See the caveats in the documentation: https://pandas.pydata.org/pandas-docs/stable/user_guide/indexing.html#returning-a-view-versus-a-copy\n",
                        "  feature_df[columns_to_fill].fillna(0, inplace=True)\n"
                    ]
                }
            ],
            "source": [
                "# replace nan values with 0\n",
                "\n",
                "columns_to_fill = [\n",
                "    \"Metadata_inducer1_concentration\",\n",
                "    \"Metadata_inducer2_concentration\",\n",
                "    \"Metadata_inhibitor_concentration\",\n",
                "]\n",
                "feature_df[columns_to_fill].fillna(0, inplace=True)"
            ]
        },
        {
            "cell_type": "code",
            "execution_count": 13,
            "id": "62affc07",
            "metadata": {
                "execution": {
                    "iopub.execute_input": "2024-04-16T22:07:56.772143Z",
                    "iopub.status.busy": "2024-04-16T22:07:56.771762Z",
                    "iopub.status.idle": "2024-04-16T22:07:56.971695Z",
                    "shell.execute_reply": "2024-04-16T22:07:56.971114Z"
                },
                "papermill": {
                    "duration": 0.206101,
                    "end_time": "2024-04-16T22:07:56.973638",
                    "exception": false,
                    "start_time": "2024-04-16T22:07:56.767537",
                    "status": "completed"
                },
                "tags": []
            },
            "outputs": [
                {
                    "name": "stderr",
                    "output_type": "stream",
                    "text": [
                        "/tmp/ipykernel_3429132/4108990571.py:2: FutureWarning: A value is trying to be set on a copy of a DataFrame or Series through chained assignment using an inplace method.\n",
                        "The behavior will change in pandas 3.0. This inplace method will never work because the intermediate object on which we are setting values always behaves as a copy.\n",
                        "\n",
                        "For example, when doing 'df[col].method(value, inplace=True)', try using 'df.method({col: value}, inplace=True)' or df[col] = df[col].method(value) instead, to perform the operation inplace on the original object.\n",
                        "\n",
                        "\n",
                        "  feature_df[\"Metadata_inducer1_concentration\"].fillna(0, inplace=True)\n"
                    ]
                }
            ],
            "source": [
                "# replace all None values with 0\n",
                "feature_df[\"Metadata_inducer1_concentration\"].fillna(0, inplace=True)"
            ]
        },
        {
            "cell_type": "code",
            "execution_count": 14,
            "id": "77cd4c8b",
            "metadata": {
                "execution": {
                    "iopub.execute_input": "2024-04-16T22:07:56.980295Z",
                    "iopub.status.busy": "2024-04-16T22:07:56.979919Z",
                    "iopub.status.idle": "2024-04-16T22:08:03.628588Z",
                    "shell.execute_reply": "2024-04-16T22:08:03.623711Z"
                },
                "papermill": {
                    "duration": 6.653702,
                    "end_time": "2024-04-16T22:08:03.630400",
                    "exception": false,
                    "start_time": "2024-04-16T22:07:56.976698",
                    "status": "completed"
                },
                "tags": []
            },
            "outputs": [],
            "source": [
                "# create a list of columns to be converted to float\n",
                "col_list = [\n",
                "    \"Metadata_inducer1_concentration\",\n",
                "    \"Metadata_inducer2_concentration\",\n",
                "    \"Metadata_inhibitor_concentration\",\n",
                "]\n",
                "# loop through the list and convert each column to float\n",
                "for i in col_list:\n",
                "    feature_df[i] = feature_df[i].apply(\n",
                "        lambda x: f\"{float(x):.3f}\" if float(x) != 0 else float(x)\n",
                "    )"
            ]
        },
        {
            "cell_type": "code",
            "execution_count": 15,
            "id": "2cbdb670",
            "metadata": {
                "execution": {
                    "iopub.execute_input": "2024-04-16T22:08:03.638599Z",
                    "iopub.status.busy": "2024-04-16T22:08:03.638078Z",
                    "iopub.status.idle": "2024-04-16T22:08:04.169958Z",
                    "shell.execute_reply": "2024-04-16T22:08:04.169541Z"
                },
                "papermill": {
                    "duration": 0.537873,
                    "end_time": "2024-04-16T22:08:04.172508",
                    "exception": false,
                    "start_time": "2024-04-16T22:08:03.634635",
                    "status": "completed"
                },
                "tags": []
            },
            "outputs": [
                {
                    "data": {
                        "text/plain": [
                            "154"
                        ]
                    },
                    "execution_count": 15,
                    "metadata": {},
                    "output_type": "execute_result"
                }
            ],
            "source": [
                "len(feature_df[\"Metadata_Well\"].unique())"
            ]
        },
        {
            "cell_type": "markdown",
            "id": "de0c1cd8",
            "metadata": {
                "papermill": {
                    "duration": 0.002664,
                    "end_time": "2024-04-16T22:08:04.178271",
                    "exception": false,
                    "start_time": "2024-04-16T22:08:04.175607",
                    "status": "completed"
                },
                "tags": []
            },
            "source": [
                "#### Combine Inducer1 and Inducer2 into one column"
            ]
        },
        {
            "cell_type": "code",
            "execution_count": 16,
            "id": "4145d893",
            "metadata": {
                "execution": {
                    "iopub.execute_input": "2024-04-16T22:08:04.185114Z",
                    "iopub.status.busy": "2024-04-16T22:08:04.184996Z",
                    "iopub.status.idle": "2024-04-16T22:08:11.827158Z",
                    "shell.execute_reply": "2024-04-16T22:08:11.826741Z"
                },
                "papermill": {
                    "duration": 7.647626,
                    "end_time": "2024-04-16T22:08:11.828614",
                    "exception": false,
                    "start_time": "2024-04-16T22:08:04.180988",
                    "status": "completed"
                },
                "tags": []
            },
            "outputs": [],
            "source": [
                "# treatment column merge\n",
                "conditions = [\n",
                "    (feature_df[\"Metadata_inducer2\"].isnull()),\n",
                "    feature_df[\"Metadata_inducer2\"].notnull(),\n",
                "]\n",
                "\n",
                "results = [\n",
                "    (feature_df[\"Metadata_inducer1\"]).astype(str),\n",
                "    (\n",
                "        feature_df[\"Metadata_inducer1\"]\n",
                "        + \"_\"\n",
                "        + feature_df[\"Metadata_inducer2\"].astype(str)\n",
                "    ),\n",
                "]\n",
                "feature_df[\"Metadata_Treatment\"] = np.select(condlist=conditions, choicelist=results)\n",
                "\n",
                "\n",
                "# dose column merge\n",
                "results = [\n",
                "    (\n",
                "        feature_df[\"Metadata_inducer1_concentration\"].astype(str)\n",
                "        + \"_\"\n",
                "        + feature_df[\"Metadata_inducer1_concentration_unit\"].astype(str)\n",
                "    ),\n",
                "    (\n",
                "        feature_df[\"Metadata_inducer1_concentration\"].astype(str)\n",
                "        + \"_\"\n",
                "        + feature_df[\"Metadata_inducer1_concentration_unit\"].astype(str)\n",
                "        + \"_\"\n",
                "        + feature_df[\"Metadata_inducer2_concentration\"].astype(str)\n",
                "        + \"_\"\n",
                "        + feature_df[\"Metadata_inducer2_concentration_unit\"].astype(str)\n",
                "    ),\n",
                "]\n",
                "feature_df[\"Metadata_Dose\"] = np.select(condlist=conditions, choicelist=results)"
            ]
        },
        {
            "cell_type": "markdown",
            "id": "7151c8f0",
            "metadata": {
                "papermill": {
                    "duration": 0.004068,
                    "end_time": "2024-04-16T22:08:11.837203",
                    "exception": false,
                    "start_time": "2024-04-16T22:08:11.833135",
                    "status": "completed"
                },
                "tags": []
            },
            "source": [
                "## Create a unique treatment column\n",
                "This columnd will be used later to annotate data into cell death groups"
            ]
        },
        {
            "cell_type": "code",
            "execution_count": 17,
            "id": "c9e7095e",
            "metadata": {
                "execution": {
                    "iopub.execute_input": "2024-04-16T22:08:11.847502Z",
                    "iopub.status.busy": "2024-04-16T22:08:11.847354Z",
                    "iopub.status.idle": "2024-04-16T22:08:17.028733Z",
                    "shell.execute_reply": "2024-04-16T22:08:17.028124Z"
                },
                "papermill": {
                    "duration": 5.188483,
                    "end_time": "2024-04-16T22:08:17.029976",
                    "exception": false,
                    "start_time": "2024-04-16T22:08:11.841493",
                    "status": "completed"
                },
                "tags": []
            },
            "outputs": [],
            "source": [
                "# one beta of inudcer1, inducer1 concentration, inhibitor, and inhibitor concentration all as 1 beta term\n",
                "feature_df[\"oneb_Metadata_Treatment_Dose_Inhibitor_Dose\"] = (\n",
                "    feature_df[\"Metadata_Treatment\"]\n",
                "    + \"_\"\n",
                "    + feature_df[\"Metadata_Dose\"].astype(str)\n",
                "    # + \"_\"\n",
                "    # + feature_df['Metadata_inducer1_concentration_unit'].astype(str)\n",
                "    + \"_\"\n",
                "    + feature_df[\"Metadata_inhibitor\"].astype(str)\n",
                "    + \"_\"\n",
                "    + feature_df[\"Metadata_inhibitor_concentration\"].astype(str)\n",
                "    + \"_\"\n",
                "    + feature_df[\"Metadata_inhibitor_concentration_unit\"].astype(str)\n",
                ").astype(str)"
            ]
        },
        {
            "cell_type": "code",
            "execution_count": 18,
            "id": "99708fcd",
            "metadata": {
                "execution": {
                    "iopub.execute_input": "2024-04-16T22:08:17.037779Z",
                    "iopub.status.busy": "2024-04-16T22:08:17.037632Z",
                    "iopub.status.idle": "2024-04-16T22:08:23.619100Z",
                    "shell.execute_reply": "2024-04-16T22:08:23.618345Z"
                },
                "papermill": {
                    "duration": 6.59574,
                    "end_time": "2024-04-16T22:08:23.629281",
                    "exception": false,
                    "start_time": "2024-04-16T22:08:17.033541",
                    "status": "completed"
                },
                "tags": []
            },
            "outputs": [
                {
                    "name": "stdout",
                    "output_type": "stream",
                    "text": [
                        "None 0\n"
                    ]
                },
                {
                    "name": "stdout",
                    "output_type": "stream",
                    "text": [
                        "\u00b5 u\n"
                    ]
                },
                {
                    "name": "stdout",
                    "output_type": "stream",
                    "text": [
                        "nan 0\n"
                    ]
                }
            ],
            "source": [
                "replacement_dict = {\n",
                "    \"None\": \"0\",\n",
                "    \"\u00b5\": \"u\",\n",
                "    \"nan\": \"0\",\n",
                "}\n",
                "for pattern, replacement in replacement_dict.items():\n",
                "    print(pattern, replacement)\n",
                "    feature_df[\"oneb_Metadata_Treatment_Dose_Inhibitor_Dose\"] = feature_df[\n",
                "        \"oneb_Metadata_Treatment_Dose_Inhibitor_Dose\"\n",
                "    ].replace(to_replace=str(pattern), value=str(replacement), regex=True)"
            ]
        },
        {
            "cell_type": "code",
            "execution_count": 19,
            "id": "b04c1d48",
            "metadata": {
                "execution": {
                    "iopub.execute_input": "2024-04-16T22:08:23.638985Z",
                    "iopub.status.busy": "2024-04-16T22:08:23.638813Z",
                    "iopub.status.idle": "2024-04-16T22:08:24.544977Z",
                    "shell.execute_reply": "2024-04-16T22:08:24.544518Z"
                },
                "papermill": {
                    "duration": 0.912225,
                    "end_time": "2024-04-16T22:08:24.546171",
                    "exception": false,
                    "start_time": "2024-04-16T22:08:23.633946",
                    "status": "completed"
                },
                "tags": []
            },
            "outputs": [],
            "source": [
                "feature_df[\"oneb_Metadata_Treatment_Dose_Inhibitor_Dose\"] = feature_df[\n",
                "    \"oneb_Metadata_Treatment_Dose_Inhibitor_Dose\"\n",
                "].str.replace(\"media_ctr_0.0_0_Media_ctr_0_0\", \"media_ctr_0.0_0_Media_ctr_0.0_0\")"
            ]
        },
        {
            "cell_type": "code",
            "execution_count": 20,
            "id": "6d96e544",
            "metadata": {
                "execution": {
                    "iopub.execute_input": "2024-04-16T22:08:24.560370Z",
                    "iopub.status.busy": "2024-04-16T22:08:24.560194Z",
                    "iopub.status.idle": "2024-04-16T22:08:29.259907Z",
                    "shell.execute_reply": "2024-04-16T22:08:29.259198Z"
                },
                "papermill": {
                    "duration": 4.707781,
                    "end_time": "2024-04-16T22:08:29.261009",
                    "exception": false,
                    "start_time": "2024-04-16T22:08:24.553228",
                    "status": "completed"
                },
                "tags": []
            },
            "outputs": [],
            "source": [
                "# need to convert to strings to save as parquet\n",
                "# if the column is an object then convert it to a string\n",
                "for column in feature_df.columns:\n",
                "    if feature_df[column].dtype == \"object\":\n",
                "        feature_df[column] = feature_df[column].astype(str)"
            ]
        },
        {
            "cell_type": "code",
            "execution_count": 21,
            "id": "864734f1",
            "metadata": {
                "execution": {
                    "iopub.execute_input": "2024-04-16T22:08:29.272296Z",
                    "iopub.status.busy": "2024-04-16T22:08:29.271832Z",
                    "iopub.status.idle": "2024-04-16T22:08:29.428885Z",
                    "shell.execute_reply": "2024-04-16T22:08:29.428397Z"
                },
                "papermill": {
                    "duration": 0.164043,
                    "end_time": "2024-04-16T22:08:29.430015",
                    "exception": false,
                    "start_time": "2024-04-16T22:08:29.265972",
                    "status": "completed"
                },
                "tags": []
            },
            "outputs": [
                {
                    "name": "stdout",
                    "output_type": "stream",
                    "text": [
                        "PBMC 154\n"
                    ]
                }
            ],
            "source": [
                "print(cell_type, len(feature_df[\"Metadata_Well\"].unique()))"
            ]
        },
        {
            "cell_type": "code",
            "execution_count": 22,
            "id": "163924da",
            "metadata": {
                "execution": {
                    "iopub.execute_input": "2024-04-16T22:08:29.440103Z",
                    "iopub.status.busy": "2024-04-16T22:08:29.439764Z",
                    "iopub.status.idle": "2024-04-16T22:49:16.949902Z",
                    "shell.execute_reply": "2024-04-16T22:49:16.922774Z"
                },
                "papermill": {
                    "duration": 2447.555244,
                    "end_time": "2024-04-16T22:49:16.990248",
                    "exception": false,
                    "start_time": "2024-04-16T22:08:29.435004",
                    "status": "completed"
                },
                "tags": []
            },
            "outputs": [],
            "source": [
                "# write to parquet file\n",
                "feature_df.to_parquet(feature_df_out_path)"
            ]
        }
    ],
    "metadata": {
        "kernelspec": {
            "display_name": "Interstellar",
            "language": "python",
            "name": "python3"
        },
        "language_info": {
            "codemirror_mode": {
                "name": "ipython",
                "version": 3
            },
            "file_extension": ".py",
            "mimetype": "text/x-python",
            "name": "python",
            "nbconvert_exporter": "python",
            "pygments_lexer": "ipython3",
            "version": "3.10.14"
        },
        "papermill": {
            "default_parameters": {},
            "duration": 9209.610862,
            "end_time": "2024-04-16T22:49:27.260925",
            "environment_variables": {},
            "exception": null,
            "input_path": "0.preprocess_profiles.ipynb",
            "output_path": "0.preprocess_profiles.ipynb",
            "parameters": {
                "cell_type": "PBMC"
            },
            "start_time": "2024-04-16T20:15:57.650063",
            "version": "2.5.0"
        }
    },
    "nbformat": 4,
    "nbformat_minor": 5
}
