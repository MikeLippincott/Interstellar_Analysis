{
 "cells": [
  {
   "cell_type": "code",
   "execution_count": 1,
   "id": "4ae1827a",
   "metadata": {
    "execution": {
     "iopub.execute_input": "2024-03-04T20:00:52.500505Z",
     "iopub.status.busy": "2024-03-04T20:00:52.500096Z",
     "iopub.status.idle": "2024-03-04T20:00:52.505328Z",
     "shell.execute_reply": "2024-03-04T20:00:52.504949Z"
    },
    "papermill": {
     "duration": 0.01601,
     "end_time": "2024-03-04T20:00:52.506365",
     "exception": false,
     "start_time": "2024-03-04T20:00:52.490355",
     "status": "completed"
    },
    "tags": [
     "injected-parameters"
    ]
   },
   "outputs": [],
   "source": [
    "# Parameters\n",
    "cell_type = \"PBMC\"\n"
   ]
  },
  {
   "cell_type": "code",
   "execution_count": 2,
   "id": "39ca7e73",
   "metadata": {
    "execution": {
     "iopub.execute_input": "2024-03-04T20:00:52.513580Z",
     "iopub.status.busy": "2024-03-04T20:00:52.513308Z",
     "iopub.status.idle": "2024-03-04T20:00:53.341179Z",
     "shell.execute_reply": "2024-03-04T20:00:53.340570Z"
    },
    "papermill": {
     "duration": 0.832862,
     "end_time": "2024-03-04T20:00:53.342625",
     "exception": false,
     "start_time": "2024-03-04T20:00:52.509763",
     "status": "completed"
    },
    "tags": []
   },
   "outputs": [],
   "source": [
    "import pathlib\n",
    "\n",
    "import numpy as np\n",
    "import pandas as pd\n",
    "import papermill as pm\n",
    "import pyarrow as pa\n",
    "import pyarrow.parquet as pq"
   ]
  },
  {
   "cell_type": "code",
   "execution_count": 3,
   "id": "238b1c8a",
   "metadata": {
    "execution": {
     "iopub.execute_input": "2024-03-04T20:00:53.349847Z",
     "iopub.status.busy": "2024-03-04T20:00:53.349338Z",
     "iopub.status.idle": "2024-03-04T20:02:21.654528Z",
     "shell.execute_reply": "2024-03-04T20:02:21.653966Z"
    },
    "papermill": {
     "duration": 88.310667,
     "end_time": "2024-03-04T20:02:21.656374",
     "exception": false,
     "start_time": "2024-03-04T20:00:53.345707",
     "status": "completed"
    },
    "tags": []
   },
   "outputs": [],
   "source": [
    "# Define inputs\n",
    "feature_file = pathlib.Path(f\"../../data/{cell_type}_sc_norm.parquet\")\n",
    "feature_df = pd.read_parquet(feature_file)"
   ]
  },
  {
   "cell_type": "code",
   "execution_count": 4,
   "id": "a1a68c93",
   "metadata": {
    "execution": {
     "iopub.execute_input": "2024-03-04T20:02:21.666030Z",
     "iopub.status.busy": "2024-03-04T20:02:21.665482Z",
     "iopub.status.idle": "2024-03-04T20:02:51.044556Z",
     "shell.execute_reply": "2024-03-04T20:02:51.043942Z"
    },
    "papermill": {
     "duration": 29.384189,
     "end_time": "2024-03-04T20:02:51.046079",
     "exception": false,
     "start_time": "2024-03-04T20:02:21.661890",
     "status": "completed"
    },
    "tags": []
   },
   "outputs": [],
   "source": [
    "# replace all \" \" with \"_\" in all values of the dataframe\n",
    "feature_df = feature_df.replace(to_replace=\" \", value=\"_\", regex=True)"
   ]
  },
  {
   "cell_type": "code",
   "execution_count": 5,
   "id": "f8bc8c15",
   "metadata": {
    "execution": {
     "iopub.execute_input": "2024-03-04T20:02:51.054982Z",
     "iopub.status.busy": "2024-03-04T20:02:51.054518Z",
     "iopub.status.idle": "2024-03-04T20:02:51.921973Z",
     "shell.execute_reply": "2024-03-04T20:02:51.921388Z"
    },
    "papermill": {
     "duration": 0.872513,
     "end_time": "2024-03-04T20:02:51.923446",
     "exception": false,
     "start_time": "2024-03-04T20:02:51.050933",
     "status": "completed"
    },
    "tags": []
   },
   "outputs": [],
   "source": [
    "# remove uM in each row of the Metadata_inducer1_concentration column\n",
    "feature_df[\"Metadata_inducer1_concentration\"] = feature_df[\n",
    "    \"Metadata_inducer1_concentration\"\n",
    "].str.replace(\"µM\", \"\")"
   ]
  },
  {
   "cell_type": "code",
   "execution_count": 6,
   "id": "6cb52834",
   "metadata": {
    "execution": {
     "iopub.execute_input": "2024-03-04T20:02:51.931547Z",
     "iopub.status.busy": "2024-03-04T20:02:51.930971Z",
     "iopub.status.idle": "2024-03-04T20:02:52.031513Z",
     "shell.execute_reply": "2024-03-04T20:02:52.031051Z"
    },
    "papermill": {
     "duration": 0.105148,
     "end_time": "2024-03-04T20:02:52.032477",
     "exception": false,
     "start_time": "2024-03-04T20:02:51.927329",
     "status": "completed"
    },
    "tags": []
   },
   "outputs": [
    {
     "data": {
      "text/plain": [
       "array(['0.010', '0.100', '100.000', None, '1.000', '10.000', '2.5',\n",
       "       '2.500', '5.000', '20.000'], dtype=object)"
      ]
     },
     "execution_count": 6,
     "metadata": {},
     "output_type": "execute_result"
    }
   ],
   "source": [
    "feature_df[\"Metadata_inducer1_concentration\"].unique()"
   ]
  },
  {
   "cell_type": "code",
   "execution_count": 7,
   "id": "1c335051",
   "metadata": {
    "execution": {
     "iopub.execute_input": "2024-03-04T20:02:52.039485Z",
     "iopub.status.busy": "2024-03-04T20:02:52.038923Z",
     "iopub.status.idle": "2024-03-04T20:02:52.041579Z",
     "shell.execute_reply": "2024-03-04T20:02:52.041141Z"
    },
    "papermill": {
     "duration": 0.007111,
     "end_time": "2024-03-04T20:02:52.042509",
     "exception": false,
     "start_time": "2024-03-04T20:02:52.035398",
     "status": "completed"
    },
    "tags": []
   },
   "outputs": [],
   "source": [
    "# define output file path\n",
    "feature_df_out_path = pathlib.Path(\n",
    "    f\"../../data/{cell_type}_preprocess_sc_norm_no_fs.parquet\"\n",
    ")"
   ]
  },
  {
   "cell_type": "code",
   "execution_count": 8,
   "id": "ae9f7dcc",
   "metadata": {
    "execution": {
     "iopub.execute_input": "2024-03-04T20:02:52.049253Z",
     "iopub.status.busy": "2024-03-04T20:02:52.048717Z",
     "iopub.status.idle": "2024-03-04T20:02:52.069366Z",
     "shell.execute_reply": "2024-03-04T20:02:52.068919Z"
    },
    "papermill": {
     "duration": 0.025016,
     "end_time": "2024-03-04T20:02:52.070313",
     "exception": false,
     "start_time": "2024-03-04T20:02:52.045297",
     "status": "completed"
    },
    "tags": []
   },
   "outputs": [
    {
     "name": "stdout",
     "output_type": "stream",
     "text": [
      "(5598682, 2927)\n"
     ]
    },
    {
     "data": {
      "text/html": [
       "<div>\n",
       "<style scoped>\n",
       "    .dataframe tbody tr th:only-of-type {\n",
       "        vertical-align: middle;\n",
       "    }\n",
       "\n",
       "    .dataframe tbody tr th {\n",
       "        vertical-align: top;\n",
       "    }\n",
       "\n",
       "    .dataframe thead th {\n",
       "        text-align: right;\n",
       "    }\n",
       "</style>\n",
       "<table border=\"1\" class=\"dataframe\">\n",
       "  <thead>\n",
       "    <tr style=\"text-align: right;\">\n",
       "      <th></th>\n",
       "      <th>Metadata_cell_type</th>\n",
       "      <th>Metadata_Well</th>\n",
       "      <th>Metadata_number_of_singlecells</th>\n",
       "      <th>Metadata_Site</th>\n",
       "      <th>Metadata_incubation inducer (h)</th>\n",
       "      <th>Metadata_inhibitor</th>\n",
       "      <th>Metadata_inhibitor_concentration</th>\n",
       "      <th>Metadata_inhibitor_concentration_unit</th>\n",
       "      <th>Metadata_inducer1</th>\n",
       "      <th>Metadata_inducer1_concentration</th>\n",
       "      <th>...</th>\n",
       "      <th>Nuclei_Texture_Variance_CorrGasdermin_3_02_256</th>\n",
       "      <th>Nuclei_Texture_Variance_CorrGasdermin_3_03_256</th>\n",
       "      <th>Nuclei_Texture_Variance_CorrMito_3_00_256</th>\n",
       "      <th>Nuclei_Texture_Variance_CorrMito_3_01_256</th>\n",
       "      <th>Nuclei_Texture_Variance_CorrMito_3_02_256</th>\n",
       "      <th>Nuclei_Texture_Variance_CorrMito_3_03_256</th>\n",
       "      <th>Nuclei_Texture_Variance_CorrPM_3_00_256</th>\n",
       "      <th>Nuclei_Texture_Variance_CorrPM_3_01_256</th>\n",
       "      <th>Nuclei_Texture_Variance_CorrPM_3_02_256</th>\n",
       "      <th>Nuclei_Texture_Variance_CorrPM_3_03_256</th>\n",
       "    </tr>\n",
       "  </thead>\n",
       "  <tbody>\n",
       "    <tr>\n",
       "      <th>0</th>\n",
       "      <td>PBMC</td>\n",
       "      <td>B02</td>\n",
       "      <td>34618</td>\n",
       "      <td>1</td>\n",
       "      <td>6</td>\n",
       "      <td>DMSO</td>\n",
       "      <td>0.025</td>\n",
       "      <td>%</td>\n",
       "      <td>LPS</td>\n",
       "      <td>0.010</td>\n",
       "      <td>...</td>\n",
       "      <td>-0.183691</td>\n",
       "      <td>-0.183635</td>\n",
       "      <td>-0.032771</td>\n",
       "      <td>-0.033138</td>\n",
       "      <td>-0.032215</td>\n",
       "      <td>-0.031572</td>\n",
       "      <td>-0.165876</td>\n",
       "      <td>-0.166522</td>\n",
       "      <td>-0.165537</td>\n",
       "      <td>-0.165107</td>\n",
       "    </tr>\n",
       "    <tr>\n",
       "      <th>1</th>\n",
       "      <td>PBMC</td>\n",
       "      <td>B02</td>\n",
       "      <td>34618</td>\n",
       "      <td>1</td>\n",
       "      <td>6</td>\n",
       "      <td>DMSO</td>\n",
       "      <td>0.025</td>\n",
       "      <td>%</td>\n",
       "      <td>LPS</td>\n",
       "      <td>0.010</td>\n",
       "      <td>...</td>\n",
       "      <td>-0.196242</td>\n",
       "      <td>-0.198022</td>\n",
       "      <td>-0.030765</td>\n",
       "      <td>-0.031280</td>\n",
       "      <td>-0.031527</td>\n",
       "      <td>-0.029489</td>\n",
       "      <td>-0.075136</td>\n",
       "      <td>-0.089538</td>\n",
       "      <td>-0.062720</td>\n",
       "      <td>-0.074299</td>\n",
       "    </tr>\n",
       "    <tr>\n",
       "      <th>2</th>\n",
       "      <td>PBMC</td>\n",
       "      <td>B02</td>\n",
       "      <td>34618</td>\n",
       "      <td>1</td>\n",
       "      <td>6</td>\n",
       "      <td>DMSO</td>\n",
       "      <td>0.025</td>\n",
       "      <td>%</td>\n",
       "      <td>LPS</td>\n",
       "      <td>0.010</td>\n",
       "      <td>...</td>\n",
       "      <td>-0.187292</td>\n",
       "      <td>-0.187129</td>\n",
       "      <td>-0.025523</td>\n",
       "      <td>-0.027383</td>\n",
       "      <td>-0.026390</td>\n",
       "      <td>-0.024845</td>\n",
       "      <td>-0.165191</td>\n",
       "      <td>-0.167676</td>\n",
       "      <td>-0.168295</td>\n",
       "      <td>-0.167082</td>\n",
       "    </tr>\n",
       "    <tr>\n",
       "      <th>3</th>\n",
       "      <td>PBMC</td>\n",
       "      <td>B02</td>\n",
       "      <td>34618</td>\n",
       "      <td>1</td>\n",
       "      <td>6</td>\n",
       "      <td>DMSO</td>\n",
       "      <td>0.025</td>\n",
       "      <td>%</td>\n",
       "      <td>LPS</td>\n",
       "      <td>0.010</td>\n",
       "      <td>...</td>\n",
       "      <td>-0.176586</td>\n",
       "      <td>-0.181205</td>\n",
       "      <td>-0.036228</td>\n",
       "      <td>-0.036428</td>\n",
       "      <td>-0.036898</td>\n",
       "      <td>-0.036834</td>\n",
       "      <td>-0.171277</td>\n",
       "      <td>-0.171767</td>\n",
       "      <td>-0.171593</td>\n",
       "      <td>-0.171153</td>\n",
       "    </tr>\n",
       "    <tr>\n",
       "      <th>4</th>\n",
       "      <td>PBMC</td>\n",
       "      <td>B02</td>\n",
       "      <td>34618</td>\n",
       "      <td>1</td>\n",
       "      <td>6</td>\n",
       "      <td>DMSO</td>\n",
       "      <td>0.025</td>\n",
       "      <td>%</td>\n",
       "      <td>LPS</td>\n",
       "      <td>0.010</td>\n",
       "      <td>...</td>\n",
       "      <td>0.144089</td>\n",
       "      <td>0.217688</td>\n",
       "      <td>-0.023946</td>\n",
       "      <td>-0.023318</td>\n",
       "      <td>-0.025397</td>\n",
       "      <td>-0.024148</td>\n",
       "      <td>0.460951</td>\n",
       "      <td>0.501094</td>\n",
       "      <td>0.451083</td>\n",
       "      <td>0.426962</td>\n",
       "    </tr>\n",
       "  </tbody>\n",
       "</table>\n",
       "<p>5 rows × 2927 columns</p>\n",
       "</div>"
      ],
      "text/plain": [
       "  Metadata_cell_type Metadata_Well  Metadata_number_of_singlecells  \\\n",
       "0               PBMC           B02                           34618   \n",
       "1               PBMC           B02                           34618   \n",
       "2               PBMC           B02                           34618   \n",
       "3               PBMC           B02                           34618   \n",
       "4               PBMC           B02                           34618   \n",
       "\n",
       "   Metadata_Site  Metadata_incubation inducer (h) Metadata_inhibitor  \\\n",
       "0              1                                6               DMSO   \n",
       "1              1                                6               DMSO   \n",
       "2              1                                6               DMSO   \n",
       "3              1                                6               DMSO   \n",
       "4              1                                6               DMSO   \n",
       "\n",
       "   Metadata_inhibitor_concentration Metadata_inhibitor_concentration_unit  \\\n",
       "0                             0.025                                     %   \n",
       "1                             0.025                                     %   \n",
       "2                             0.025                                     %   \n",
       "3                             0.025                                     %   \n",
       "4                             0.025                                     %   \n",
       "\n",
       "  Metadata_inducer1 Metadata_inducer1_concentration  ...  \\\n",
       "0               LPS                           0.010  ...   \n",
       "1               LPS                           0.010  ...   \n",
       "2               LPS                           0.010  ...   \n",
       "3               LPS                           0.010  ...   \n",
       "4               LPS                           0.010  ...   \n",
       "\n",
       "  Nuclei_Texture_Variance_CorrGasdermin_3_02_256  \\\n",
       "0                                      -0.183691   \n",
       "1                                      -0.196242   \n",
       "2                                      -0.187292   \n",
       "3                                      -0.176586   \n",
       "4                                       0.144089   \n",
       "\n",
       "  Nuclei_Texture_Variance_CorrGasdermin_3_03_256  \\\n",
       "0                                      -0.183635   \n",
       "1                                      -0.198022   \n",
       "2                                      -0.187129   \n",
       "3                                      -0.181205   \n",
       "4                                       0.217688   \n",
       "\n",
       "   Nuclei_Texture_Variance_CorrMito_3_00_256  \\\n",
       "0                                  -0.032771   \n",
       "1                                  -0.030765   \n",
       "2                                  -0.025523   \n",
       "3                                  -0.036228   \n",
       "4                                  -0.023946   \n",
       "\n",
       "  Nuclei_Texture_Variance_CorrMito_3_01_256  \\\n",
       "0                                 -0.033138   \n",
       "1                                 -0.031280   \n",
       "2                                 -0.027383   \n",
       "3                                 -0.036428   \n",
       "4                                 -0.023318   \n",
       "\n",
       "   Nuclei_Texture_Variance_CorrMito_3_02_256  \\\n",
       "0                                  -0.032215   \n",
       "1                                  -0.031527   \n",
       "2                                  -0.026390   \n",
       "3                                  -0.036898   \n",
       "4                                  -0.025397   \n",
       "\n",
       "  Nuclei_Texture_Variance_CorrMito_3_03_256  \\\n",
       "0                                 -0.031572   \n",
       "1                                 -0.029489   \n",
       "2                                 -0.024845   \n",
       "3                                 -0.036834   \n",
       "4                                 -0.024148   \n",
       "\n",
       "   Nuclei_Texture_Variance_CorrPM_3_00_256  \\\n",
       "0                                -0.165876   \n",
       "1                                -0.075136   \n",
       "2                                -0.165191   \n",
       "3                                -0.171277   \n",
       "4                                 0.460951   \n",
       "\n",
       "   Nuclei_Texture_Variance_CorrPM_3_01_256  \\\n",
       "0                                -0.166522   \n",
       "1                                -0.089538   \n",
       "2                                -0.167676   \n",
       "3                                -0.171767   \n",
       "4                                 0.501094   \n",
       "\n",
       "   Nuclei_Texture_Variance_CorrPM_3_02_256  \\\n",
       "0                                -0.165537   \n",
       "1                                -0.062720   \n",
       "2                                -0.168295   \n",
       "3                                -0.171593   \n",
       "4                                 0.451083   \n",
       "\n",
       "   Nuclei_Texture_Variance_CorrPM_3_03_256  \n",
       "0                                -0.165107  \n",
       "1                                -0.074299  \n",
       "2                                -0.167082  \n",
       "3                                -0.171153  \n",
       "4                                 0.426962  \n",
       "\n",
       "[5 rows x 2927 columns]"
      ]
     },
     "execution_count": 8,
     "metadata": {},
     "output_type": "execute_result"
    }
   ],
   "source": [
    "print(feature_df.shape)\n",
    "feature_df.head()"
   ]
  },
  {
   "cell_type": "code",
   "execution_count": 9,
   "id": "23c3932e",
   "metadata": {
    "execution": {
     "iopub.execute_input": "2024-03-04T20:02:52.077653Z",
     "iopub.status.busy": "2024-03-04T20:02:52.077144Z",
     "iopub.status.idle": "2024-03-04T20:03:07.254595Z",
     "shell.execute_reply": "2024-03-04T20:03:07.254075Z"
    },
    "papermill": {
     "duration": 15.182266,
     "end_time": "2024-03-04T20:03:07.255638",
     "exception": false,
     "start_time": "2024-03-04T20:02:52.073372",
     "status": "completed"
    },
    "tags": []
   },
   "outputs": [
    {
     "name": "stdout",
     "output_type": "stream",
     "text": [
      "(5598682, 2867)\n"
     ]
    },
    {
     "data": {
      "text/html": [
       "<div>\n",
       "<style scoped>\n",
       "    .dataframe tbody tr th:only-of-type {\n",
       "        vertical-align: middle;\n",
       "    }\n",
       "\n",
       "    .dataframe tbody tr th {\n",
       "        vertical-align: top;\n",
       "    }\n",
       "\n",
       "    .dataframe thead th {\n",
       "        text-align: right;\n",
       "    }\n",
       "</style>\n",
       "<table border=\"1\" class=\"dataframe\">\n",
       "  <thead>\n",
       "    <tr style=\"text-align: right;\">\n",
       "      <th></th>\n",
       "      <th>Metadata_cell_type</th>\n",
       "      <th>Metadata_Well</th>\n",
       "      <th>Metadata_number_of_singlecells</th>\n",
       "      <th>Metadata_Site</th>\n",
       "      <th>Metadata_incubation inducer (h)</th>\n",
       "      <th>Metadata_inhibitor</th>\n",
       "      <th>Metadata_inhibitor_concentration</th>\n",
       "      <th>Metadata_inhibitor_concentration_unit</th>\n",
       "      <th>Metadata_inducer1</th>\n",
       "      <th>Metadata_inducer1_concentration</th>\n",
       "      <th>...</th>\n",
       "      <th>Nuclei_Texture_Variance_CorrGasdermin_3_02_256</th>\n",
       "      <th>Nuclei_Texture_Variance_CorrGasdermin_3_03_256</th>\n",
       "      <th>Nuclei_Texture_Variance_CorrMito_3_00_256</th>\n",
       "      <th>Nuclei_Texture_Variance_CorrMito_3_01_256</th>\n",
       "      <th>Nuclei_Texture_Variance_CorrMito_3_02_256</th>\n",
       "      <th>Nuclei_Texture_Variance_CorrMito_3_03_256</th>\n",
       "      <th>Nuclei_Texture_Variance_CorrPM_3_00_256</th>\n",
       "      <th>Nuclei_Texture_Variance_CorrPM_3_01_256</th>\n",
       "      <th>Nuclei_Texture_Variance_CorrPM_3_02_256</th>\n",
       "      <th>Nuclei_Texture_Variance_CorrPM_3_03_256</th>\n",
       "    </tr>\n",
       "  </thead>\n",
       "  <tbody>\n",
       "    <tr>\n",
       "      <th>0</th>\n",
       "      <td>PBMC</td>\n",
       "      <td>B02</td>\n",
       "      <td>34618</td>\n",
       "      <td>1</td>\n",
       "      <td>6</td>\n",
       "      <td>DMSO</td>\n",
       "      <td>0.025</td>\n",
       "      <td>%</td>\n",
       "      <td>LPS</td>\n",
       "      <td>0.010</td>\n",
       "      <td>...</td>\n",
       "      <td>-0.183691</td>\n",
       "      <td>-0.183635</td>\n",
       "      <td>-0.032771</td>\n",
       "      <td>-0.033138</td>\n",
       "      <td>-0.032215</td>\n",
       "      <td>-0.031572</td>\n",
       "      <td>-0.165876</td>\n",
       "      <td>-0.166522</td>\n",
       "      <td>-0.165537</td>\n",
       "      <td>-0.165107</td>\n",
       "    </tr>\n",
       "    <tr>\n",
       "      <th>1</th>\n",
       "      <td>PBMC</td>\n",
       "      <td>B02</td>\n",
       "      <td>34618</td>\n",
       "      <td>1</td>\n",
       "      <td>6</td>\n",
       "      <td>DMSO</td>\n",
       "      <td>0.025</td>\n",
       "      <td>%</td>\n",
       "      <td>LPS</td>\n",
       "      <td>0.010</td>\n",
       "      <td>...</td>\n",
       "      <td>-0.196242</td>\n",
       "      <td>-0.198022</td>\n",
       "      <td>-0.030765</td>\n",
       "      <td>-0.031280</td>\n",
       "      <td>-0.031527</td>\n",
       "      <td>-0.029489</td>\n",
       "      <td>-0.075136</td>\n",
       "      <td>-0.089538</td>\n",
       "      <td>-0.062720</td>\n",
       "      <td>-0.074299</td>\n",
       "    </tr>\n",
       "    <tr>\n",
       "      <th>2</th>\n",
       "      <td>PBMC</td>\n",
       "      <td>B02</td>\n",
       "      <td>34618</td>\n",
       "      <td>1</td>\n",
       "      <td>6</td>\n",
       "      <td>DMSO</td>\n",
       "      <td>0.025</td>\n",
       "      <td>%</td>\n",
       "      <td>LPS</td>\n",
       "      <td>0.010</td>\n",
       "      <td>...</td>\n",
       "      <td>-0.187292</td>\n",
       "      <td>-0.187129</td>\n",
       "      <td>-0.025523</td>\n",
       "      <td>-0.027383</td>\n",
       "      <td>-0.026390</td>\n",
       "      <td>-0.024845</td>\n",
       "      <td>-0.165191</td>\n",
       "      <td>-0.167676</td>\n",
       "      <td>-0.168295</td>\n",
       "      <td>-0.167082</td>\n",
       "    </tr>\n",
       "    <tr>\n",
       "      <th>3</th>\n",
       "      <td>PBMC</td>\n",
       "      <td>B02</td>\n",
       "      <td>34618</td>\n",
       "      <td>1</td>\n",
       "      <td>6</td>\n",
       "      <td>DMSO</td>\n",
       "      <td>0.025</td>\n",
       "      <td>%</td>\n",
       "      <td>LPS</td>\n",
       "      <td>0.010</td>\n",
       "      <td>...</td>\n",
       "      <td>-0.176586</td>\n",
       "      <td>-0.181205</td>\n",
       "      <td>-0.036228</td>\n",
       "      <td>-0.036428</td>\n",
       "      <td>-0.036898</td>\n",
       "      <td>-0.036834</td>\n",
       "      <td>-0.171277</td>\n",
       "      <td>-0.171767</td>\n",
       "      <td>-0.171593</td>\n",
       "      <td>-0.171153</td>\n",
       "    </tr>\n",
       "    <tr>\n",
       "      <th>4</th>\n",
       "      <td>PBMC</td>\n",
       "      <td>B02</td>\n",
       "      <td>34618</td>\n",
       "      <td>1</td>\n",
       "      <td>6</td>\n",
       "      <td>DMSO</td>\n",
       "      <td>0.025</td>\n",
       "      <td>%</td>\n",
       "      <td>LPS</td>\n",
       "      <td>0.010</td>\n",
       "      <td>...</td>\n",
       "      <td>0.144089</td>\n",
       "      <td>0.217688</td>\n",
       "      <td>-0.023946</td>\n",
       "      <td>-0.023318</td>\n",
       "      <td>-0.025397</td>\n",
       "      <td>-0.024148</td>\n",
       "      <td>0.460951</td>\n",
       "      <td>0.501094</td>\n",
       "      <td>0.451083</td>\n",
       "      <td>0.426962</td>\n",
       "    </tr>\n",
       "  </tbody>\n",
       "</table>\n",
       "<p>5 rows × 2867 columns</p>\n",
       "</div>"
      ],
      "text/plain": [
       "  Metadata_cell_type Metadata_Well  Metadata_number_of_singlecells  \\\n",
       "0               PBMC           B02                           34618   \n",
       "1               PBMC           B02                           34618   \n",
       "2               PBMC           B02                           34618   \n",
       "3               PBMC           B02                           34618   \n",
       "4               PBMC           B02                           34618   \n",
       "\n",
       "   Metadata_Site  Metadata_incubation inducer (h) Metadata_inhibitor  \\\n",
       "0              1                                6               DMSO   \n",
       "1              1                                6               DMSO   \n",
       "2              1                                6               DMSO   \n",
       "3              1                                6               DMSO   \n",
       "4              1                                6               DMSO   \n",
       "\n",
       "   Metadata_inhibitor_concentration Metadata_inhibitor_concentration_unit  \\\n",
       "0                             0.025                                     %   \n",
       "1                             0.025                                     %   \n",
       "2                             0.025                                     %   \n",
       "3                             0.025                                     %   \n",
       "4                             0.025                                     %   \n",
       "\n",
       "  Metadata_inducer1 Metadata_inducer1_concentration  ...  \\\n",
       "0               LPS                           0.010  ...   \n",
       "1               LPS                           0.010  ...   \n",
       "2               LPS                           0.010  ...   \n",
       "3               LPS                           0.010  ...   \n",
       "4               LPS                           0.010  ...   \n",
       "\n",
       "  Nuclei_Texture_Variance_CorrGasdermin_3_02_256  \\\n",
       "0                                      -0.183691   \n",
       "1                                      -0.196242   \n",
       "2                                      -0.187292   \n",
       "3                                      -0.176586   \n",
       "4                                       0.144089   \n",
       "\n",
       "  Nuclei_Texture_Variance_CorrGasdermin_3_03_256  \\\n",
       "0                                      -0.183635   \n",
       "1                                      -0.198022   \n",
       "2                                      -0.187129   \n",
       "3                                      -0.181205   \n",
       "4                                       0.217688   \n",
       "\n",
       "   Nuclei_Texture_Variance_CorrMito_3_00_256  \\\n",
       "0                                  -0.032771   \n",
       "1                                  -0.030765   \n",
       "2                                  -0.025523   \n",
       "3                                  -0.036228   \n",
       "4                                  -0.023946   \n",
       "\n",
       "  Nuclei_Texture_Variance_CorrMito_3_01_256  \\\n",
       "0                                 -0.033138   \n",
       "1                                 -0.031280   \n",
       "2                                 -0.027383   \n",
       "3                                 -0.036428   \n",
       "4                                 -0.023318   \n",
       "\n",
       "   Nuclei_Texture_Variance_CorrMito_3_02_256  \\\n",
       "0                                  -0.032215   \n",
       "1                                  -0.031527   \n",
       "2                                  -0.026390   \n",
       "3                                  -0.036898   \n",
       "4                                  -0.025397   \n",
       "\n",
       "  Nuclei_Texture_Variance_CorrMito_3_03_256  \\\n",
       "0                                 -0.031572   \n",
       "1                                 -0.029489   \n",
       "2                                 -0.024845   \n",
       "3                                 -0.036834   \n",
       "4                                 -0.024148   \n",
       "\n",
       "   Nuclei_Texture_Variance_CorrPM_3_00_256  \\\n",
       "0                                -0.165876   \n",
       "1                                -0.075136   \n",
       "2                                -0.165191   \n",
       "3                                -0.171277   \n",
       "4                                 0.460951   \n",
       "\n",
       "   Nuclei_Texture_Variance_CorrPM_3_01_256  \\\n",
       "0                                -0.166522   \n",
       "1                                -0.089538   \n",
       "2                                -0.167676   \n",
       "3                                -0.171767   \n",
       "4                                 0.501094   \n",
       "\n",
       "   Nuclei_Texture_Variance_CorrPM_3_02_256  \\\n",
       "0                                -0.165537   \n",
       "1                                -0.062720   \n",
       "2                                -0.168295   \n",
       "3                                -0.171593   \n",
       "4                                 0.451083   \n",
       "\n",
       "   Nuclei_Texture_Variance_CorrPM_3_03_256  \n",
       "0                                -0.165107  \n",
       "1                                -0.074299  \n",
       "2                                -0.167082  \n",
       "3                                -0.171153  \n",
       "4                                 0.426962  \n",
       "\n",
       "[5 rows x 2867 columns]"
      ]
     },
     "execution_count": 9,
     "metadata": {},
     "output_type": "execute_result"
    }
   ],
   "source": [
    "# removing costes features as they behave with great variance across all data\n",
    "feature_df = feature_df.drop(feature_df.filter(regex=\"Costes\").columns, axis=1)\n",
    "print(feature_df.shape)\n",
    "feature_df.head()"
   ]
  },
  {
   "cell_type": "code",
   "execution_count": 10,
   "id": "4d30a3a8",
   "metadata": {
    "execution": {
     "iopub.execute_input": "2024-03-04T20:03:07.267584Z",
     "iopub.status.busy": "2024-03-04T20:03:07.266994Z",
     "iopub.status.idle": "2024-03-04T20:03:51.814030Z",
     "shell.execute_reply": "2024-03-04T20:03:51.813527Z"
    },
    "papermill": {
     "duration": 44.553075,
     "end_time": "2024-03-04T20:03:51.815770",
     "exception": false,
     "start_time": "2024-03-04T20:03:07.262695",
     "status": "completed"
    },
    "tags": []
   },
   "outputs": [],
   "source": [
    "# replacing '/' in treatment dosage column to avoid errors in file interpolation including such strings\n",
    "feature_df = feature_df.replace(to_replace=\"/\", value=\"_per_\", regex=True)"
   ]
  },
  {
   "cell_type": "code",
   "execution_count": 11,
   "id": "597e9dc0",
   "metadata": {
    "execution": {
     "iopub.execute_input": "2024-03-04T20:03:51.827993Z",
     "iopub.status.busy": "2024-03-04T20:03:51.827601Z",
     "iopub.status.idle": "2024-03-04T20:03:52.167389Z",
     "shell.execute_reply": "2024-03-04T20:03:52.166894Z"
    },
    "papermill": {
     "duration": 0.345096,
     "end_time": "2024-03-04T20:03:52.168357",
     "exception": false,
     "start_time": "2024-03-04T20:03:51.823261",
     "status": "completed"
    },
    "tags": []
   },
   "outputs": [
    {
     "name": "stderr",
     "output_type": "stream",
     "text": [
      "/scratch/alpine/mlippincott@xsede.org/.tmp/ipykernel_53278/2784960678.py:8: SettingWithCopyWarning: \n",
      "A value is trying to be set on a copy of a slice from a DataFrame\n",
      "\n",
      "See the caveats in the documentation: https://pandas.pydata.org/pandas-docs/stable/user_guide/indexing.html#returning-a-view-versus-a-copy\n",
      "  feature_df[columns_to_fill].fillna(0, inplace=True)\n"
     ]
    }
   ],
   "source": [
    "# replace nan values with 0\n",
    "\n",
    "columns_to_fill = [\n",
    "    \"Metadata_inducer1_concentration\",\n",
    "    \"Metadata_inducer2_concentration\",\n",
    "    \"Metadata_inhibitor_concentration\",\n",
    "]\n",
    "feature_df[columns_to_fill].fillna(0, inplace=True)"
   ]
  },
  {
   "cell_type": "code",
   "execution_count": 12,
   "id": "62affc07",
   "metadata": {
    "execution": {
     "iopub.execute_input": "2024-03-04T20:03:52.176381Z",
     "iopub.status.busy": "2024-03-04T20:03:52.176021Z",
     "iopub.status.idle": "2024-03-04T20:03:52.353150Z",
     "shell.execute_reply": "2024-03-04T20:03:52.352649Z"
    },
    "papermill": {
     "duration": 0.182729,
     "end_time": "2024-03-04T20:03:52.354614",
     "exception": false,
     "start_time": "2024-03-04T20:03:52.171885",
     "status": "completed"
    },
    "tags": []
   },
   "outputs": [],
   "source": [
    "# replace all None values with 0\n",
    "feature_df[\"Metadata_inducer1_concentration\"].fillna(0, inplace=True)"
   ]
  },
  {
   "cell_type": "code",
   "execution_count": 13,
   "id": "77cd4c8b",
   "metadata": {
    "execution": {
     "iopub.execute_input": "2024-03-04T20:03:52.362659Z",
     "iopub.status.busy": "2024-03-04T20:03:52.362269Z",
     "iopub.status.idle": "2024-03-04T20:03:59.239257Z",
     "shell.execute_reply": "2024-03-04T20:03:59.238744Z"
    },
    "papermill": {
     "duration": 6.882716,
     "end_time": "2024-03-04T20:03:59.240806",
     "exception": false,
     "start_time": "2024-03-04T20:03:52.358090",
     "status": "completed"
    },
    "tags": []
   },
   "outputs": [],
   "source": [
    "# create a list of columns to be converted to float\n",
    "col_list = [\n",
    "    \"Metadata_inducer1_concentration\",\n",
    "    \"Metadata_inducer2_concentration\",\n",
    "    \"Metadata_inhibitor_concentration\",\n",
    "]\n",
    "# loop through the list and convert each column to float\n",
    "for i in col_list:\n",
    "    feature_df[i] = feature_df[i].apply(\n",
    "        lambda x: f\"{float(x):.3f}\" if float(x) != 0 else float(x)\n",
    "    )"
   ]
  },
  {
   "cell_type": "markdown",
   "id": "de0c1cd8",
   "metadata": {
    "papermill": {
     "duration": 0.003646,
     "end_time": "2024-03-04T20:03:59.252045",
     "exception": false,
     "start_time": "2024-03-04T20:03:59.248399",
     "status": "completed"
    },
    "tags": []
   },
   "source": [
    "#### Combine Inducer1 and Inducer2 into one column"
   ]
  },
  {
   "cell_type": "code",
   "execution_count": 14,
   "id": "4145d893",
   "metadata": {
    "execution": {
     "iopub.execute_input": "2024-03-04T20:03:59.259840Z",
     "iopub.status.busy": "2024-03-04T20:03:59.259593Z",
     "iopub.status.idle": "2024-03-04T20:04:04.523705Z",
     "shell.execute_reply": "2024-03-04T20:04:04.523196Z"
    },
    "papermill": {
     "duration": 5.269686,
     "end_time": "2024-03-04T20:04:04.525096",
     "exception": false,
     "start_time": "2024-03-04T20:03:59.255410",
     "status": "completed"
    },
    "tags": []
   },
   "outputs": [],
   "source": [
    "# treatment column merge\n",
    "conditions = [\n",
    "    (feature_df[\"Metadata_inducer2\"].isnull()),\n",
    "    feature_df[\"Metadata_inducer2\"].notnull(),\n",
    "]\n",
    "\n",
    "results = [\n",
    "    (feature_df[\"Metadata_inducer1\"]).astype(str),\n",
    "    (\n",
    "        feature_df[\"Metadata_inducer1\"]\n",
    "        + \"_\"\n",
    "        + feature_df[\"Metadata_inducer2\"].astype(str)\n",
    "    ),\n",
    "]\n",
    "feature_df[\"Metadata_Treatment\"] = np.select(condlist=conditions, choicelist=results)\n",
    "\n",
    "\n",
    "# dose column merge\n",
    "results = [\n",
    "    (\n",
    "        feature_df[\"Metadata_inducer1_concentration\"].astype(str)\n",
    "        + \"_\"\n",
    "        + feature_df[\"Metadata_inducer1_concentration_unit\"].astype(str)\n",
    "    ),\n",
    "    (\n",
    "        feature_df[\"Metadata_inducer1_concentration\"].astype(str)\n",
    "        + \"_\"\n",
    "        + feature_df[\"Metadata_inducer1_concentration_unit\"].astype(str)\n",
    "        + \"_\"\n",
    "        + feature_df[\"Metadata_inducer2_concentration\"].astype(str)\n",
    "        + \"_\"\n",
    "        + feature_df[\"Metadata_inducer2_concentration_unit\"].astype(str)\n",
    "    ),\n",
    "]\n",
    "feature_df[\"Metadata_Dose\"] = np.select(condlist=conditions, choicelist=results)"
   ]
  },
  {
   "cell_type": "markdown",
   "id": "7151c8f0",
   "metadata": {
    "papermill": {
     "duration": 0.003511,
     "end_time": "2024-03-04T20:04:04.536319",
     "exception": false,
     "start_time": "2024-03-04T20:04:04.532808",
     "status": "completed"
    },
    "tags": []
   },
   "source": [
    "## N Beta Column condition generation\n",
    "columns generated to used for linear modeling where terms separated by '__' will be a beta coefficient "
   ]
  },
  {
   "cell_type": "code",
   "execution_count": 15,
   "id": "c9e7095e",
   "metadata": {
    "execution": {
     "iopub.execute_input": "2024-03-04T20:04:04.543980Z",
     "iopub.status.busy": "2024-03-04T20:04:04.543775Z",
     "iopub.status.idle": "2024-03-04T20:04:18.432446Z",
     "shell.execute_reply": "2024-03-04T20:04:18.431826Z"
    },
    "papermill": {
     "duration": 13.89445,
     "end_time": "2024-03-04T20:04:18.434125",
     "exception": false,
     "start_time": "2024-03-04T20:04:04.539675",
     "status": "completed"
    },
    "tags": []
   },
   "outputs": [],
   "source": [
    "# one beta of inudcer1, inducer1 concentration, inhibitor, and inhibitor concentration all as 1 beta term\n",
    "feature_df[\"oneb_Metadata_Treatment_Dose_Inhibitor_Dose\"] = (\n",
    "    feature_df[\"Metadata_Treatment\"]\n",
    "    + \"_\"\n",
    "    + feature_df[\"Metadata_Dose\"].astype(str)\n",
    "    # + \"_\"\n",
    "    # + feature_df['Metadata_inducer1_concentration_unit'].astype(str)\n",
    "    + \"_\"\n",
    "    + feature_df[\"Metadata_inhibitor\"].astype(str)\n",
    "    + \"_\"\n",
    "    + feature_df[\"Metadata_inhibitor_concentration\"].astype(str)\n",
    "    + \"_\"\n",
    "    + feature_df[\"Metadata_inhibitor_concentration_unit\"].astype(str)\n",
    ").astype(str)\n",
    "\n",
    "\n",
    "# two beta of inducer1, inhibitor, and inhibitor concentration all as 1 beta term + inducer1 concentration as 2nd beta term\n",
    "feature_df[\"twob_Metadata_Treatment_Dose_Inhibitor_Dose\"] = (\n",
    "    feature_df[\"Metadata_Treatment\"]\n",
    "    + \"_\"\n",
    "    + feature_df[\"Metadata_inhibitor\"].astype(str)\n",
    "    + \"_\"\n",
    "    + feature_df[\"Metadata_inhibitor_concentration\"].astype(str)\n",
    "    + \"__\"\n",
    "    + feature_df[\"Metadata_Dose\"].astype(str)\n",
    ").astype(str)\n",
    "\n",
    "# three beta of inducer 1 as 1 beta term, inducer1 concentration as 2nd beta term, inhibitor and inhibitor concentration as 3rd beta term\n",
    "feature_df[\"threeb_Metadata_Treatment_Dose_Inhibitor_Dose\"] = (\n",
    "    feature_df[\"Metadata_Treatment\"]\n",
    "    + \"__\"\n",
    "    + feature_df[\"Metadata_Dose\"].astype(str)\n",
    "    + \"__\"\n",
    "    + feature_df[\"Metadata_inducer1_concentration_unit\"].astype(str)\n",
    "    + \"_\"\n",
    "    + feature_df[\"Metadata_inhibitor\"].astype(str)\n",
    "    + \"_\"\n",
    "    + feature_df[\"Metadata_inhibitor_concentration\"].astype(str)\n",
    ").astype(str)\n",
    "\n",
    "# four beta of inducer 1 as 1 beta term, inducer1 concentration as 2nd beta term, inhibitor as 3rd beta term, and inhibitor concentration as 4th beta term\n",
    "feature_df[\"fourb_Metadata_Treatment_Dose_Inhibitor_Dose\"] = (\n",
    "    feature_df[\"Metadata_Treatment\"]\n",
    "    + \"__\"\n",
    "    + feature_df[\"Metadata_Dose\"].astype(str)\n",
    "    + \"__\"\n",
    "    + feature_df[\"Metadata_inducer1_concentration_unit\"].astype(str)\n",
    "    + \"_\"\n",
    "    + feature_df[\"Metadata_inhibitor\"].astype(str)\n",
    "    + \"__\"\n",
    "    + feature_df[\"Metadata_inhibitor_concentration\"].astype(str)\n",
    ").astype(str)"
   ]
  },
  {
   "cell_type": "code",
   "execution_count": 16,
   "id": "99708fcd",
   "metadata": {
    "execution": {
     "iopub.execute_input": "2024-03-04T20:04:18.444988Z",
     "iopub.status.busy": "2024-03-04T20:04:18.444418Z",
     "iopub.status.idle": "2024-03-04T20:04:24.877729Z",
     "shell.execute_reply": "2024-03-04T20:04:24.877129Z"
    },
    "papermill": {
     "duration": 6.4392,
     "end_time": "2024-03-04T20:04:24.879288",
     "exception": false,
     "start_time": "2024-03-04T20:04:18.440088",
     "status": "completed"
    },
    "tags": []
   },
   "outputs": [
    {
     "name": "stdout",
     "output_type": "stream",
     "text": [
      "None 0\n"
     ]
    },
    {
     "name": "stdout",
     "output_type": "stream",
     "text": [
      "µ u\n"
     ]
    },
    {
     "name": "stdout",
     "output_type": "stream",
     "text": [
      "nan 0\n"
     ]
    }
   ],
   "source": [
    "replacement_dict = {\n",
    "    \"None\": \"0\",\n",
    "    \"µ\": \"u\",\n",
    "    \"nan\": \"0\",\n",
    "}\n",
    "for pattern, replacement in replacement_dict.items():\n",
    "    print(pattern, replacement)\n",
    "    feature_df[\"oneb_Metadata_Treatment_Dose_Inhibitor_Dose\"] = feature_df[\n",
    "        \"oneb_Metadata_Treatment_Dose_Inhibitor_Dose\"\n",
    "    ].replace(to_replace=str(pattern), value=str(replacement), regex=True)"
   ]
  },
  {
   "cell_type": "code",
   "execution_count": 17,
   "id": "b04c1d48",
   "metadata": {
    "execution": {
     "iopub.execute_input": "2024-03-04T20:04:24.890140Z",
     "iopub.status.busy": "2024-03-04T20:04:24.889594Z",
     "iopub.status.idle": "2024-03-04T20:04:25.966132Z",
     "shell.execute_reply": "2024-03-04T20:04:25.965511Z"
    },
    "papermill": {
     "duration": 1.082245,
     "end_time": "2024-03-04T20:04:25.967473",
     "exception": false,
     "start_time": "2024-03-04T20:04:24.885228",
     "status": "completed"
    },
    "tags": []
   },
   "outputs": [],
   "source": [
    "feature_df[\"oneb_Metadata_Treatment_Dose_Inhibitor_Dose\"] = feature_df[\n",
    "    \"oneb_Metadata_Treatment_Dose_Inhibitor_Dose\"\n",
    "].str.replace(\"media_ctr_0.0_0_Media_ctr_0_0\", \"media_ctr_0.0_0_Media_ctr_0.0_0\")"
   ]
  },
  {
   "cell_type": "code",
   "execution_count": 18,
   "id": "6d96e544",
   "metadata": {
    "execution": {
     "iopub.execute_input": "2024-03-04T20:04:25.978560Z",
     "iopub.status.busy": "2024-03-04T20:04:25.978227Z",
     "iopub.status.idle": "2024-03-04T20:04:29.351326Z",
     "shell.execute_reply": "2024-03-04T20:04:29.350701Z"
    },
    "papermill": {
     "duration": 3.379072,
     "end_time": "2024-03-04T20:04:29.352837",
     "exception": false,
     "start_time": "2024-03-04T20:04:25.973765",
     "status": "completed"
    },
    "tags": []
   },
   "outputs": [],
   "source": [
    "# need to convert to strings to save as parquet\n",
    "# if the column is an object then convert it to a string\n",
    "for column in feature_df.columns:\n",
    "    if feature_df[column].dtype == \"object\":\n",
    "        feature_df[column] = feature_df[column].astype(str)"
   ]
  },
  {
   "cell_type": "code",
   "execution_count": 19,
   "id": "163924da",
   "metadata": {
    "execution": {
     "iopub.execute_input": "2024-03-04T20:04:29.362631Z",
     "iopub.status.busy": "2024-03-04T20:04:29.362134Z",
     "iopub.status.idle": "2024-03-04T20:10:31.518942Z",
     "shell.execute_reply": "2024-03-04T20:10:31.518333Z"
    },
    "papermill": {
     "duration": 362.162796,
     "end_time": "2024-03-04T20:10:31.520518",
     "exception": false,
     "start_time": "2024-03-04T20:04:29.357722",
     "status": "completed"
    },
    "tags": []
   },
   "outputs": [],
   "source": [
    "# write to parquet file\n",
    "feature_df.to_parquet(feature_df_out_path)"
   ]
  }
 ],
 "metadata": {
  "kernelspec": {
   "display_name": "Interstellar",
   "language": "python",
   "name": "python3"
  },
  "language_info": {
   "codemirror_mode": {
    "name": "ipython",
    "version": 3
   },
   "file_extension": ".py",
   "mimetype": "text/x-python",
   "name": "python",
   "nbconvert_exporter": "python",
   "pygments_lexer": "ipython3",
   "version": "3.10.13"
  },
  "papermill": {
   "default_parameters": {},
   "duration": 582.789989,
   "end_time": "2024-03-04T20:10:33.445147",
   "environment_variables": {},
   "exception": null,
   "input_path": "0.preprocess_profiles.ipynb",
   "output_path": "0.preprocess_profiles.ipynb",
   "parameters": {
    "cell_type": "PBMC"
   },
   "start_time": "2024-03-04T20:00:50.655158",
   "version": "2.5.0"
  }
 },
 "nbformat": 4,
 "nbformat_minor": 5
}