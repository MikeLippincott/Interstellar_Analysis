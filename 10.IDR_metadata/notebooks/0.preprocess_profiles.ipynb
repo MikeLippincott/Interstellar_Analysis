{
    "cells": [
        {
            "cell_type": "code",
            "execution_count": 1,
            "id": "bdf4cdcf",
            "metadata": {
                "execution": {
                    "iopub.execute_input": "2024-03-04T19:13:40.388743Z",
                    "iopub.status.busy": "2024-03-04T19:13:40.388456Z",
                    "iopub.status.idle": "2024-03-04T19:13:40.393697Z",
                    "shell.execute_reply": "2024-03-04T19:13:40.393321Z"
                },
                "papermill": {
                    "duration": 0.011093,
                    "end_time": "2024-03-04T19:13:40.394722",
                    "exception": false,
                    "start_time": "2024-03-04T19:13:40.383629",
                    "status": "completed"
                },
                "tags": [
                    "injected-parameters"
                ]
            },
            "outputs": [],
            "source": [
                "# Parameters\n",
                "cell_type = \"PBMC\""
            ]
        },
        {
            "cell_type": "code",
            "execution_count": 2,
            "id": "39ca7e73",
            "metadata": {
                "execution": {
                    "iopub.execute_input": "2024-03-04T19:13:40.400858Z",
                    "iopub.status.busy": "2024-03-04T19:13:40.400660Z",
                    "iopub.status.idle": "2024-03-04T19:13:53.542656Z",
                    "shell.execute_reply": "2024-03-04T19:13:53.542132Z"
                },
                "papermill": {
                    "duration": 13.146246,
                    "end_time": "2024-03-04T19:13:53.543988",
                    "exception": false,
                    "start_time": "2024-03-04T19:13:40.397742",
                    "status": "completed"
                },
                "tags": []
            },
            "outputs": [],
            "source": [
                "import pathlib\n",
                "\n",
                "import numpy as np\n",
                "import pandas as pd\n",
                "import papermill as pm\n",
                "import pyarrow as pa\n",
                "import pyarrow.parquet as pq"
            ]
        },
        {
            "cell_type": "code",
            "execution_count": 4,
            "id": "238b1c8a",
            "metadata": {
                "execution": {
                    "iopub.execute_input": "2024-03-04T19:13:53.564063Z",
                    "iopub.status.busy": "2024-03-04T19:13:53.563662Z",
                    "iopub.status.idle": "2024-03-04T19:14:03.935963Z",
                    "shell.execute_reply": "2024-03-04T19:14:03.935356Z"
                },
                "papermill": {
                    "duration": 10.376968,
                    "end_time": "2024-03-04T19:14:03.937675",
                    "exception": false,
                    "start_time": "2024-03-04T19:13:53.560707",
                    "status": "completed"
                },
                "tags": []
            },
            "outputs": [],
            "source": [
                "# Define inputs\n",
                "feature_file = pathlib.Path(f\"../../data/{cell_type}_sc_norm.parquet\")\n",
                "feature_df = pd.read_parquet(feature_file)"
            ]
        },
        {
            "cell_type": "code",
            "execution_count": 5,
            "id": "a1a68c93",
            "metadata": {
                "execution": {
                    "iopub.execute_input": "2024-03-04T19:14:03.950314Z",
                    "iopub.status.busy": "2024-03-04T19:14:03.949853Z",
                    "iopub.status.idle": "2024-03-04T19:14:07.207504Z",
                    "shell.execute_reply": "2024-03-04T19:14:07.206985Z"
                },
                "papermill": {
                    "duration": 3.26264,
                    "end_time": "2024-03-04T19:14:07.209017",
                    "exception": false,
                    "start_time": "2024-03-04T19:14:03.946377",
                    "status": "completed"
                },
                "tags": []
            },
            "outputs": [],
            "source": [
                "# replace all \" \" with \"_\" in all values of the dataframe\n",
                "feature_df = feature_df.replace(to_replace=\" \", value=\"_\", regex=True)"
            ]
        },
        {
            "cell_type": "code",
            "execution_count": 6,
            "id": "f8bc8c15",
            "metadata": {
                "execution": {
                    "iopub.execute_input": "2024-03-04T19:14:07.221639Z",
                    "iopub.status.busy": "2024-03-04T19:14:07.220938Z",
                    "iopub.status.idle": "2024-03-04T19:14:07.314758Z",
                    "shell.execute_reply": "2024-03-04T19:14:07.314292Z"
                },
                "papermill": {
                    "duration": 0.098794,
                    "end_time": "2024-03-04T19:14:07.316024",
                    "exception": false,
                    "start_time": "2024-03-04T19:14:07.217230",
                    "status": "completed"
                },
                "tags": []
            },
            "outputs": [],
            "source": [
                "# remove uM in each row of the Metadata_inducer1_concentration column\n",
                "feature_df[\"Metadata_inducer1_concentration\"] = feature_df[\n",
                "    \"Metadata_inducer1_concentration\"\n",
                "].str.replace(\"µM\", \"\")"
            ]
        },
        {
            "cell_type": "code",
            "execution_count": 7,
            "id": "6cb52834",
            "metadata": {
                "execution": {
                    "iopub.execute_input": "2024-03-04T19:14:07.322527Z",
                    "iopub.status.busy": "2024-03-04T19:14:07.322065Z",
                    "iopub.status.idle": "2024-03-04T19:14:07.338255Z",
                    "shell.execute_reply": "2024-03-04T19:14:07.337876Z"
                },
                "papermill": {
                    "duration": 0.020466,
                    "end_time": "2024-03-04T19:14:07.339195",
                    "exception": false,
                    "start_time": "2024-03-04T19:14:07.318729",
                    "status": "completed"
                },
                "tags": []
            },
            "outputs": [
                {
                    "data": {
                        "text/plain": [
                            "array([None, '0.100', '1.000', '10.000', '5.000', '20.000', '0.010',\n",
                            "       '100.000', '2.500'], dtype=object)"
                        ]
                    },
                    "execution_count": 7,
                    "metadata": {},
                    "output_type": "execute_result"
                }
            ],
            "source": [
                "feature_df[\"Metadata_inducer1_concentration\"].unique()"
            ]
        },
        {
            "cell_type": "code",
            "execution_count": 8,
            "id": "1c335051",
            "metadata": {
                "execution": {
                    "iopub.execute_input": "2024-03-04T19:14:07.345539Z",
                    "iopub.status.busy": "2024-03-04T19:14:07.345087Z",
                    "iopub.status.idle": "2024-03-04T19:14:07.347660Z",
                    "shell.execute_reply": "2024-03-04T19:14:07.347293Z"
                },
                "papermill": {
                    "duration": 0.006738,
                    "end_time": "2024-03-04T19:14:07.348566",
                    "exception": false,
                    "start_time": "2024-03-04T19:14:07.341828",
                    "status": "completed"
                },
                "tags": []
            },
            "outputs": [],
            "source": [
                "# define output file path\n",
                "feature_df_out_path = pathlib.Path(\n",
                "    f\"../../data/{cell_type}_preprocess_sc_norm_no_fs.parquet\"\n",
                ")"
            ]
        },
        {
            "cell_type": "code",
            "execution_count": 9,
            "id": "ae9f7dcc",
            "metadata": {
                "execution": {
                    "iopub.execute_input": "2024-03-04T19:14:07.354899Z",
                    "iopub.status.busy": "2024-03-04T19:14:07.354496Z",
                    "iopub.status.idle": "2024-03-04T19:14:07.476890Z",
                    "shell.execute_reply": "2024-03-04T19:14:07.476522Z"
                },
                "papermill": {
                    "duration": 0.12656,
                    "end_time": "2024-03-04T19:14:07.477807",
                    "exception": false,
                    "start_time": "2024-03-04T19:14:07.351247",
                    "status": "completed"
                },
                "tags": []
            },
            "outputs": [
                {
                    "name": "stdout",
                    "output_type": "stream",
                    "text": [
                        "(597902, 2927)\n"
                    ]
                },
                {
                    "data": {
                        "text/html": [
                            "<div>\n",
                            "<style scoped>\n",
                            "    .dataframe tbody tr th:only-of-type {\n",
                            "        vertical-align: middle;\n",
                            "    }\n",
                            "\n",
                            "    .dataframe tbody tr th {\n",
                            "        vertical-align: top;\n",
                            "    }\n",
                            "\n",
                            "    .dataframe thead th {\n",
                            "        text-align: right;\n",
                            "    }\n",
                            "</style>\n",
                            "<table border=\"1\" class=\"dataframe\">\n",
                            "  <thead>\n",
                            "    <tr style=\"text-align: right;\">\n",
                            "      <th></th>\n",
                            "      <th>Metadata_cell_type</th>\n",
                            "      <th>Metadata_Well</th>\n",
                            "      <th>Metadata_number_of_singlecells</th>\n",
                            "      <th>Metadata_Site</th>\n",
                            "      <th>Metadata_incubation inducer (h)</th>\n",
                            "      <th>Metadata_inhibitor</th>\n",
                            "      <th>Metadata_inhibitor_concentration</th>\n",
                            "      <th>Metadata_inhibitor_concentration_unit</th>\n",
                            "      <th>Metadata_inducer1</th>\n",
                            "      <th>Metadata_inducer1_concentration</th>\n",
                            "      <th>...</th>\n",
                            "      <th>Nuclei_Texture_Variance_CorrGasdermin_3_02_256</th>\n",
                            "      <th>Nuclei_Texture_Variance_CorrGasdermin_3_03_256</th>\n",
                            "      <th>Nuclei_Texture_Variance_CorrMito_3_00_256</th>\n",
                            "      <th>Nuclei_Texture_Variance_CorrMito_3_01_256</th>\n",
                            "      <th>Nuclei_Texture_Variance_CorrMito_3_02_256</th>\n",
                            "      <th>Nuclei_Texture_Variance_CorrMito_3_03_256</th>\n",
                            "      <th>Nuclei_Texture_Variance_CorrPM_3_00_256</th>\n",
                            "      <th>Nuclei_Texture_Variance_CorrPM_3_01_256</th>\n",
                            "      <th>Nuclei_Texture_Variance_CorrPM_3_02_256</th>\n",
                            "      <th>Nuclei_Texture_Variance_CorrPM_3_03_256</th>\n",
                            "    </tr>\n",
                            "  </thead>\n",
                            "  <tbody>\n",
                            "    <tr>\n",
                            "      <th>0</th>\n",
                            "      <td>SH-SY5Y</td>\n",
                            "      <td>B13</td>\n",
                            "      <td>3765</td>\n",
                            "      <td>1</td>\n",
                            "      <td>6</td>\n",
                            "      <td>Media_ctr</td>\n",
                            "      <td>NaN</td>\n",
                            "      <td>None</td>\n",
                            "      <td>media_ctr</td>\n",
                            "      <td>None</td>\n",
                            "      <td>...</td>\n",
                            "      <td>0.025742</td>\n",
                            "      <td>0.016018</td>\n",
                            "      <td>0.294581</td>\n",
                            "      <td>0.313403</td>\n",
                            "      <td>0.340904</td>\n",
                            "      <td>0.304771</td>\n",
                            "      <td>0.077819</td>\n",
                            "      <td>0.076181</td>\n",
                            "      <td>0.088000</td>\n",
                            "      <td>0.085886</td>\n",
                            "    </tr>\n",
                            "    <tr>\n",
                            "      <th>1</th>\n",
                            "      <td>SH-SY5Y</td>\n",
                            "      <td>B13</td>\n",
                            "      <td>3765</td>\n",
                            "      <td>1</td>\n",
                            "      <td>6</td>\n",
                            "      <td>Media_ctr</td>\n",
                            "      <td>NaN</td>\n",
                            "      <td>None</td>\n",
                            "      <td>media_ctr</td>\n",
                            "      <td>None</td>\n",
                            "      <td>...</td>\n",
                            "      <td>-0.040428</td>\n",
                            "      <td>-0.038309</td>\n",
                            "      <td>1.540182</td>\n",
                            "      <td>1.422456</td>\n",
                            "      <td>1.459884</td>\n",
                            "      <td>1.458574</td>\n",
                            "      <td>0.014013</td>\n",
                            "      <td>0.010482</td>\n",
                            "      <td>0.008044</td>\n",
                            "      <td>0.008553</td>\n",
                            "    </tr>\n",
                            "    <tr>\n",
                            "      <th>2</th>\n",
                            "      <td>SH-SY5Y</td>\n",
                            "      <td>B13</td>\n",
                            "      <td>3765</td>\n",
                            "      <td>1</td>\n",
                            "      <td>6</td>\n",
                            "      <td>Media_ctr</td>\n",
                            "      <td>NaN</td>\n",
                            "      <td>None</td>\n",
                            "      <td>media_ctr</td>\n",
                            "      <td>None</td>\n",
                            "      <td>...</td>\n",
                            "      <td>-0.049183</td>\n",
                            "      <td>-0.052954</td>\n",
                            "      <td>0.002619</td>\n",
                            "      <td>0.022670</td>\n",
                            "      <td>0.014160</td>\n",
                            "      <td>-0.006548</td>\n",
                            "      <td>0.019567</td>\n",
                            "      <td>0.035026</td>\n",
                            "      <td>0.028281</td>\n",
                            "      <td>0.011552</td>\n",
                            "    </tr>\n",
                            "    <tr>\n",
                            "      <th>3</th>\n",
                            "      <td>SH-SY5Y</td>\n",
                            "      <td>B13</td>\n",
                            "      <td>3765</td>\n",
                            "      <td>1</td>\n",
                            "      <td>6</td>\n",
                            "      <td>Media_ctr</td>\n",
                            "      <td>NaN</td>\n",
                            "      <td>None</td>\n",
                            "      <td>media_ctr</td>\n",
                            "      <td>None</td>\n",
                            "      <td>...</td>\n",
                            "      <td>-0.059278</td>\n",
                            "      <td>-0.059597</td>\n",
                            "      <td>-0.075569</td>\n",
                            "      <td>-0.078642</td>\n",
                            "      <td>-0.071954</td>\n",
                            "      <td>-0.071172</td>\n",
                            "      <td>-0.031126</td>\n",
                            "      <td>-0.030896</td>\n",
                            "      <td>-0.028813</td>\n",
                            "      <td>-0.029932</td>\n",
                            "    </tr>\n",
                            "    <tr>\n",
                            "      <th>4</th>\n",
                            "      <td>SH-SY5Y</td>\n",
                            "      <td>B13</td>\n",
                            "      <td>3765</td>\n",
                            "      <td>1</td>\n",
                            "      <td>6</td>\n",
                            "      <td>Media_ctr</td>\n",
                            "      <td>NaN</td>\n",
                            "      <td>None</td>\n",
                            "      <td>media_ctr</td>\n",
                            "      <td>None</td>\n",
                            "      <td>...</td>\n",
                            "      <td>-0.055393</td>\n",
                            "      <td>-0.056898</td>\n",
                            "      <td>0.021789</td>\n",
                            "      <td>0.020225</td>\n",
                            "      <td>0.017540</td>\n",
                            "      <td>0.007435</td>\n",
                            "      <td>-0.059386</td>\n",
                            "      <td>-0.056699</td>\n",
                            "      <td>-0.060032</td>\n",
                            "      <td>-0.059263</td>\n",
                            "    </tr>\n",
                            "  </tbody>\n",
                            "</table>\n",
                            "<p>5 rows × 2927 columns</p>\n",
                            "</div>"
                        ],
                        "text/plain": [
                            "  Metadata_cell_type Metadata_Well  Metadata_number_of_singlecells  \\\n",
                            "0            SH-SY5Y           B13                            3765   \n",
                            "1            SH-SY5Y           B13                            3765   \n",
                            "2            SH-SY5Y           B13                            3765   \n",
                            "3            SH-SY5Y           B13                            3765   \n",
                            "4            SH-SY5Y           B13                            3765   \n",
                            "\n",
                            "   Metadata_Site  Metadata_incubation inducer (h) Metadata_inhibitor  \\\n",
                            "0              1                                6          Media_ctr   \n",
                            "1              1                                6          Media_ctr   \n",
                            "2              1                                6          Media_ctr   \n",
                            "3              1                                6          Media_ctr   \n",
                            "4              1                                6          Media_ctr   \n",
                            "\n",
                            "   Metadata_inhibitor_concentration Metadata_inhibitor_concentration_unit  \\\n",
                            "0                               NaN                                  None   \n",
                            "1                               NaN                                  None   \n",
                            "2                               NaN                                  None   \n",
                            "3                               NaN                                  None   \n",
                            "4                               NaN                                  None   \n",
                            "\n",
                            "  Metadata_inducer1 Metadata_inducer1_concentration  ...  \\\n",
                            "0         media_ctr                            None  ...   \n",
                            "1         media_ctr                            None  ...   \n",
                            "2         media_ctr                            None  ...   \n",
                            "3         media_ctr                            None  ...   \n",
                            "4         media_ctr                            None  ...   \n",
                            "\n",
                            "  Nuclei_Texture_Variance_CorrGasdermin_3_02_256  \\\n",
                            "0                                       0.025742   \n",
                            "1                                      -0.040428   \n",
                            "2                                      -0.049183   \n",
                            "3                                      -0.059278   \n",
                            "4                                      -0.055393   \n",
                            "\n",
                            "  Nuclei_Texture_Variance_CorrGasdermin_3_03_256  \\\n",
                            "0                                       0.016018   \n",
                            "1                                      -0.038309   \n",
                            "2                                      -0.052954   \n",
                            "3                                      -0.059597   \n",
                            "4                                      -0.056898   \n",
                            "\n",
                            "   Nuclei_Texture_Variance_CorrMito_3_00_256  \\\n",
                            "0                                   0.294581   \n",
                            "1                                   1.540182   \n",
                            "2                                   0.002619   \n",
                            "3                                  -0.075569   \n",
                            "4                                   0.021789   \n",
                            "\n",
                            "  Nuclei_Texture_Variance_CorrMito_3_01_256  \\\n",
                            "0                                  0.313403   \n",
                            "1                                  1.422456   \n",
                            "2                                  0.022670   \n",
                            "3                                 -0.078642   \n",
                            "4                                  0.020225   \n",
                            "\n",
                            "   Nuclei_Texture_Variance_CorrMito_3_02_256  \\\n",
                            "0                                   0.340904   \n",
                            "1                                   1.459884   \n",
                            "2                                   0.014160   \n",
                            "3                                  -0.071954   \n",
                            "4                                   0.017540   \n",
                            "\n",
                            "  Nuclei_Texture_Variance_CorrMito_3_03_256  \\\n",
                            "0                                  0.304771   \n",
                            "1                                  1.458574   \n",
                            "2                                 -0.006548   \n",
                            "3                                 -0.071172   \n",
                            "4                                  0.007435   \n",
                            "\n",
                            "   Nuclei_Texture_Variance_CorrPM_3_00_256  \\\n",
                            "0                                 0.077819   \n",
                            "1                                 0.014013   \n",
                            "2                                 0.019567   \n",
                            "3                                -0.031126   \n",
                            "4                                -0.059386   \n",
                            "\n",
                            "   Nuclei_Texture_Variance_CorrPM_3_01_256  \\\n",
                            "0                                 0.076181   \n",
                            "1                                 0.010482   \n",
                            "2                                 0.035026   \n",
                            "3                                -0.030896   \n",
                            "4                                -0.056699   \n",
                            "\n",
                            "   Nuclei_Texture_Variance_CorrPM_3_02_256  \\\n",
                            "0                                 0.088000   \n",
                            "1                                 0.008044   \n",
                            "2                                 0.028281   \n",
                            "3                                -0.028813   \n",
                            "4                                -0.060032   \n",
                            "\n",
                            "   Nuclei_Texture_Variance_CorrPM_3_03_256  \n",
                            "0                                 0.085886  \n",
                            "1                                 0.008553  \n",
                            "2                                 0.011552  \n",
                            "3                                -0.029932  \n",
                            "4                                -0.059263  \n",
                            "\n",
                            "[5 rows x 2927 columns]"
                        ]
                    },
                    "execution_count": 9,
                    "metadata": {},
                    "output_type": "execute_result"
                }
            ],
            "source": [
                "print(feature_df.shape)\n",
                "feature_df.head()"
            ]
        },
        {
            "cell_type": "code",
            "execution_count": 10,
            "id": "23c3932e",
            "metadata": {
                "execution": {
                    "iopub.execute_input": "2024-03-04T19:14:07.484966Z",
                    "iopub.status.busy": "2024-03-04T19:14:07.484422Z",
                    "iopub.status.idle": "2024-03-04T19:14:09.039955Z",
                    "shell.execute_reply": "2024-03-04T19:14:09.039502Z"
                },
                "papermill": {
                    "duration": 1.560082,
                    "end_time": "2024-03-04T19:14:09.040903",
                    "exception": false,
                    "start_time": "2024-03-04T19:14:07.480821",
                    "status": "completed"
                },
                "tags": []
            },
            "outputs": [
                {
                    "name": "stdout",
                    "output_type": "stream",
                    "text": [
                        "(597902, 2867)\n"
                    ]
                },
                {
                    "data": {
                        "text/html": [
                            "<div>\n",
                            "<style scoped>\n",
                            "    .dataframe tbody tr th:only-of-type {\n",
                            "        vertical-align: middle;\n",
                            "    }\n",
                            "\n",
                            "    .dataframe tbody tr th {\n",
                            "        vertical-align: top;\n",
                            "    }\n",
                            "\n",
                            "    .dataframe thead th {\n",
                            "        text-align: right;\n",
                            "    }\n",
                            "</style>\n",
                            "<table border=\"1\" class=\"dataframe\">\n",
                            "  <thead>\n",
                            "    <tr style=\"text-align: right;\">\n",
                            "      <th></th>\n",
                            "      <th>Metadata_cell_type</th>\n",
                            "      <th>Metadata_Well</th>\n",
                            "      <th>Metadata_number_of_singlecells</th>\n",
                            "      <th>Metadata_Site</th>\n",
                            "      <th>Metadata_incubation inducer (h)</th>\n",
                            "      <th>Metadata_inhibitor</th>\n",
                            "      <th>Metadata_inhibitor_concentration</th>\n",
                            "      <th>Metadata_inhibitor_concentration_unit</th>\n",
                            "      <th>Metadata_inducer1</th>\n",
                            "      <th>Metadata_inducer1_concentration</th>\n",
                            "      <th>...</th>\n",
                            "      <th>Nuclei_Texture_Variance_CorrGasdermin_3_02_256</th>\n",
                            "      <th>Nuclei_Texture_Variance_CorrGasdermin_3_03_256</th>\n",
                            "      <th>Nuclei_Texture_Variance_CorrMito_3_00_256</th>\n",
                            "      <th>Nuclei_Texture_Variance_CorrMito_3_01_256</th>\n",
                            "      <th>Nuclei_Texture_Variance_CorrMito_3_02_256</th>\n",
                            "      <th>Nuclei_Texture_Variance_CorrMito_3_03_256</th>\n",
                            "      <th>Nuclei_Texture_Variance_CorrPM_3_00_256</th>\n",
                            "      <th>Nuclei_Texture_Variance_CorrPM_3_01_256</th>\n",
                            "      <th>Nuclei_Texture_Variance_CorrPM_3_02_256</th>\n",
                            "      <th>Nuclei_Texture_Variance_CorrPM_3_03_256</th>\n",
                            "    </tr>\n",
                            "  </thead>\n",
                            "  <tbody>\n",
                            "    <tr>\n",
                            "      <th>0</th>\n",
                            "      <td>SH-SY5Y</td>\n",
                            "      <td>B13</td>\n",
                            "      <td>3765</td>\n",
                            "      <td>1</td>\n",
                            "      <td>6</td>\n",
                            "      <td>Media_ctr</td>\n",
                            "      <td>NaN</td>\n",
                            "      <td>None</td>\n",
                            "      <td>media_ctr</td>\n",
                            "      <td>None</td>\n",
                            "      <td>...</td>\n",
                            "      <td>0.025742</td>\n",
                            "      <td>0.016018</td>\n",
                            "      <td>0.294581</td>\n",
                            "      <td>0.313403</td>\n",
                            "      <td>0.340904</td>\n",
                            "      <td>0.304771</td>\n",
                            "      <td>0.077819</td>\n",
                            "      <td>0.076181</td>\n",
                            "      <td>0.088000</td>\n",
                            "      <td>0.085886</td>\n",
                            "    </tr>\n",
                            "    <tr>\n",
                            "      <th>1</th>\n",
                            "      <td>SH-SY5Y</td>\n",
                            "      <td>B13</td>\n",
                            "      <td>3765</td>\n",
                            "      <td>1</td>\n",
                            "      <td>6</td>\n",
                            "      <td>Media_ctr</td>\n",
                            "      <td>NaN</td>\n",
                            "      <td>None</td>\n",
                            "      <td>media_ctr</td>\n",
                            "      <td>None</td>\n",
                            "      <td>...</td>\n",
                            "      <td>-0.040428</td>\n",
                            "      <td>-0.038309</td>\n",
                            "      <td>1.540182</td>\n",
                            "      <td>1.422456</td>\n",
                            "      <td>1.459884</td>\n",
                            "      <td>1.458574</td>\n",
                            "      <td>0.014013</td>\n",
                            "      <td>0.010482</td>\n",
                            "      <td>0.008044</td>\n",
                            "      <td>0.008553</td>\n",
                            "    </tr>\n",
                            "    <tr>\n",
                            "      <th>2</th>\n",
                            "      <td>SH-SY5Y</td>\n",
                            "      <td>B13</td>\n",
                            "      <td>3765</td>\n",
                            "      <td>1</td>\n",
                            "      <td>6</td>\n",
                            "      <td>Media_ctr</td>\n",
                            "      <td>NaN</td>\n",
                            "      <td>None</td>\n",
                            "      <td>media_ctr</td>\n",
                            "      <td>None</td>\n",
                            "      <td>...</td>\n",
                            "      <td>-0.049183</td>\n",
                            "      <td>-0.052954</td>\n",
                            "      <td>0.002619</td>\n",
                            "      <td>0.022670</td>\n",
                            "      <td>0.014160</td>\n",
                            "      <td>-0.006548</td>\n",
                            "      <td>0.019567</td>\n",
                            "      <td>0.035026</td>\n",
                            "      <td>0.028281</td>\n",
                            "      <td>0.011552</td>\n",
                            "    </tr>\n",
                            "    <tr>\n",
                            "      <th>3</th>\n",
                            "      <td>SH-SY5Y</td>\n",
                            "      <td>B13</td>\n",
                            "      <td>3765</td>\n",
                            "      <td>1</td>\n",
                            "      <td>6</td>\n",
                            "      <td>Media_ctr</td>\n",
                            "      <td>NaN</td>\n",
                            "      <td>None</td>\n",
                            "      <td>media_ctr</td>\n",
                            "      <td>None</td>\n",
                            "      <td>...</td>\n",
                            "      <td>-0.059278</td>\n",
                            "      <td>-0.059597</td>\n",
                            "      <td>-0.075569</td>\n",
                            "      <td>-0.078642</td>\n",
                            "      <td>-0.071954</td>\n",
                            "      <td>-0.071172</td>\n",
                            "      <td>-0.031126</td>\n",
                            "      <td>-0.030896</td>\n",
                            "      <td>-0.028813</td>\n",
                            "      <td>-0.029932</td>\n",
                            "    </tr>\n",
                            "    <tr>\n",
                            "      <th>4</th>\n",
                            "      <td>SH-SY5Y</td>\n",
                            "      <td>B13</td>\n",
                            "      <td>3765</td>\n",
                            "      <td>1</td>\n",
                            "      <td>6</td>\n",
                            "      <td>Media_ctr</td>\n",
                            "      <td>NaN</td>\n",
                            "      <td>None</td>\n",
                            "      <td>media_ctr</td>\n",
                            "      <td>None</td>\n",
                            "      <td>...</td>\n",
                            "      <td>-0.055393</td>\n",
                            "      <td>-0.056898</td>\n",
                            "      <td>0.021789</td>\n",
                            "      <td>0.020225</td>\n",
                            "      <td>0.017540</td>\n",
                            "      <td>0.007435</td>\n",
                            "      <td>-0.059386</td>\n",
                            "      <td>-0.056699</td>\n",
                            "      <td>-0.060032</td>\n",
                            "      <td>-0.059263</td>\n",
                            "    </tr>\n",
                            "  </tbody>\n",
                            "</table>\n",
                            "<p>5 rows × 2867 columns</p>\n",
                            "</div>"
                        ],
                        "text/plain": [
                            "  Metadata_cell_type Metadata_Well  Metadata_number_of_singlecells  \\\n",
                            "0            SH-SY5Y           B13                            3765   \n",
                            "1            SH-SY5Y           B13                            3765   \n",
                            "2            SH-SY5Y           B13                            3765   \n",
                            "3            SH-SY5Y           B13                            3765   \n",
                            "4            SH-SY5Y           B13                            3765   \n",
                            "\n",
                            "   Metadata_Site  Metadata_incubation inducer (h) Metadata_inhibitor  \\\n",
                            "0              1                                6          Media_ctr   \n",
                            "1              1                                6          Media_ctr   \n",
                            "2              1                                6          Media_ctr   \n",
                            "3              1                                6          Media_ctr   \n",
                            "4              1                                6          Media_ctr   \n",
                            "\n",
                            "   Metadata_inhibitor_concentration Metadata_inhibitor_concentration_unit  \\\n",
                            "0                               NaN                                  None   \n",
                            "1                               NaN                                  None   \n",
                            "2                               NaN                                  None   \n",
                            "3                               NaN                                  None   \n",
                            "4                               NaN                                  None   \n",
                            "\n",
                            "  Metadata_inducer1 Metadata_inducer1_concentration  ...  \\\n",
                            "0         media_ctr                            None  ...   \n",
                            "1         media_ctr                            None  ...   \n",
                            "2         media_ctr                            None  ...   \n",
                            "3         media_ctr                            None  ...   \n",
                            "4         media_ctr                            None  ...   \n",
                            "\n",
                            "  Nuclei_Texture_Variance_CorrGasdermin_3_02_256  \\\n",
                            "0                                       0.025742   \n",
                            "1                                      -0.040428   \n",
                            "2                                      -0.049183   \n",
                            "3                                      -0.059278   \n",
                            "4                                      -0.055393   \n",
                            "\n",
                            "  Nuclei_Texture_Variance_CorrGasdermin_3_03_256  \\\n",
                            "0                                       0.016018   \n",
                            "1                                      -0.038309   \n",
                            "2                                      -0.052954   \n",
                            "3                                      -0.059597   \n",
                            "4                                      -0.056898   \n",
                            "\n",
                            "   Nuclei_Texture_Variance_CorrMito_3_00_256  \\\n",
                            "0                                   0.294581   \n",
                            "1                                   1.540182   \n",
                            "2                                   0.002619   \n",
                            "3                                  -0.075569   \n",
                            "4                                   0.021789   \n",
                            "\n",
                            "  Nuclei_Texture_Variance_CorrMito_3_01_256  \\\n",
                            "0                                  0.313403   \n",
                            "1                                  1.422456   \n",
                            "2                                  0.022670   \n",
                            "3                                 -0.078642   \n",
                            "4                                  0.020225   \n",
                            "\n",
                            "   Nuclei_Texture_Variance_CorrMito_3_02_256  \\\n",
                            "0                                   0.340904   \n",
                            "1                                   1.459884   \n",
                            "2                                   0.014160   \n",
                            "3                                  -0.071954   \n",
                            "4                                   0.017540   \n",
                            "\n",
                            "  Nuclei_Texture_Variance_CorrMito_3_03_256  \\\n",
                            "0                                  0.304771   \n",
                            "1                                  1.458574   \n",
                            "2                                 -0.006548   \n",
                            "3                                 -0.071172   \n",
                            "4                                  0.007435   \n",
                            "\n",
                            "   Nuclei_Texture_Variance_CorrPM_3_00_256  \\\n",
                            "0                                 0.077819   \n",
                            "1                                 0.014013   \n",
                            "2                                 0.019567   \n",
                            "3                                -0.031126   \n",
                            "4                                -0.059386   \n",
                            "\n",
                            "   Nuclei_Texture_Variance_CorrPM_3_01_256  \\\n",
                            "0                                 0.076181   \n",
                            "1                                 0.010482   \n",
                            "2                                 0.035026   \n",
                            "3                                -0.030896   \n",
                            "4                                -0.056699   \n",
                            "\n",
                            "   Nuclei_Texture_Variance_CorrPM_3_02_256  \\\n",
                            "0                                 0.088000   \n",
                            "1                                 0.008044   \n",
                            "2                                 0.028281   \n",
                            "3                                -0.028813   \n",
                            "4                                -0.060032   \n",
                            "\n",
                            "   Nuclei_Texture_Variance_CorrPM_3_03_256  \n",
                            "0                                 0.085886  \n",
                            "1                                 0.008553  \n",
                            "2                                 0.011552  \n",
                            "3                                -0.029932  \n",
                            "4                                -0.059263  \n",
                            "\n",
                            "[5 rows x 2867 columns]"
                        ]
                    },
                    "execution_count": 10,
                    "metadata": {},
                    "output_type": "execute_result"
                }
            ],
            "source": [
                "# removing costes features as they behave with great variance across all data\n",
                "feature_df = feature_df.drop(feature_df.filter(regex=\"Costes\").columns, axis=1)\n",
                "print(feature_df.shape)\n",
                "feature_df.head()"
            ]
        },
        {
            "cell_type": "code",
            "execution_count": 11,
            "id": "4d30a3a8",
            "metadata": {
                "execution": {
                    "iopub.execute_input": "2024-03-04T19:14:09.048458Z",
                    "iopub.status.busy": "2024-03-04T19:14:09.048110Z",
                    "iopub.status.idle": "2024-03-04T19:14:12.257331Z",
                    "shell.execute_reply": "2024-03-04T19:14:12.256816Z"
                },
                "papermill": {
                    "duration": 3.214446,
                    "end_time": "2024-03-04T19:14:12.258632",
                    "exception": false,
                    "start_time": "2024-03-04T19:14:09.044186",
                    "status": "completed"
                },
                "tags": []
            },
            "outputs": [],
            "source": [
                "# replacing '/' in treatment dosage column to avoid errors in file interpolation including such strings\n",
                "feature_df = feature_df.replace(to_replace=\"/\", value=\"_per_\", regex=True)"
            ]
        },
        {
            "cell_type": "code",
            "execution_count": 12,
            "id": "597e9dc0",
            "metadata": {
                "execution": {
                    "iopub.execute_input": "2024-03-04T19:14:12.270101Z",
                    "iopub.status.busy": "2024-03-04T19:14:12.269573Z",
                    "iopub.status.idle": "2024-03-04T19:14:12.307432Z",
                    "shell.execute_reply": "2024-03-04T19:14:12.306980Z"
                },
                "papermill": {
                    "duration": 0.042866,
                    "end_time": "2024-03-04T19:14:12.308358",
                    "exception": false,
                    "start_time": "2024-03-04T19:14:12.265492",
                    "status": "completed"
                },
                "tags": []
            },
            "outputs": [
                {
                    "name": "stderr",
                    "output_type": "stream",
                    "text": [
                        "/scratch/alpine/mlippincott@xsede.org/.tmp/ipykernel_43079/2784960678.py:8: SettingWithCopyWarning: \n",
                        "A value is trying to be set on a copy of a slice from a DataFrame\n",
                        "\n",
                        "See the caveats in the documentation: https://pandas.pydata.org/pandas-docs/stable/user_guide/indexing.html#returning-a-view-versus-a-copy\n",
                        "  feature_df[columns_to_fill].fillna(0, inplace=True)\n"
                    ]
                }
            ],
            "source": [
                "# replace nan values with 0\n",
                "\n",
                "columns_to_fill = [\n",
                "    \"Metadata_inducer1_concentration\",\n",
                "    \"Metadata_inducer2_concentration\",\n",
                "    \"Metadata_inhibitor_concentration\",\n",
                "]\n",
                "feature_df[columns_to_fill].fillna(0, inplace=True)"
            ]
        },
        {
            "cell_type": "code",
            "execution_count": 13,
            "id": "62affc07",
            "metadata": {
                "execution": {
                    "iopub.execute_input": "2024-03-04T19:14:12.316236Z",
                    "iopub.status.busy": "2024-03-04T19:14:12.315786Z",
                    "iopub.status.idle": "2024-03-04T19:14:12.336876Z",
                    "shell.execute_reply": "2024-03-04T19:14:12.336484Z"
                },
                "papermill": {
                    "duration": 0.026598,
                    "end_time": "2024-03-04T19:14:12.338276",
                    "exception": false,
                    "start_time": "2024-03-04T19:14:12.311678",
                    "status": "completed"
                },
                "tags": []
            },
            "outputs": [],
            "source": [
                "# replace all None values with 0\n",
                "feature_df[\"Metadata_inducer1_concentration\"].fillna(0, inplace=True)"
            ]
        },
        {
            "cell_type": "code",
            "execution_count": 14,
            "id": "77cd4c8b",
            "metadata": {
                "execution": {
                    "iopub.execute_input": "2024-03-04T19:14:12.346055Z",
                    "iopub.status.busy": "2024-03-04T19:14:12.345600Z",
                    "iopub.status.idle": "2024-03-04T19:14:12.999382Z",
                    "shell.execute_reply": "2024-03-04T19:14:12.998864Z"
                },
                "papermill": {
                    "duration": 0.659183,
                    "end_time": "2024-03-04T19:14:13.000757",
                    "exception": false,
                    "start_time": "2024-03-04T19:14:12.341574",
                    "status": "completed"
                },
                "tags": []
            },
            "outputs": [],
            "source": [
                "# create a list of columns to be converted to float\n",
                "col_list = [\n",
                "    \"Metadata_inducer1_concentration\",\n",
                "    \"Metadata_inducer2_concentration\",\n",
                "    \"Metadata_inhibitor_concentration\",\n",
                "]\n",
                "# loop through the list and convert each column to float\n",
                "for i in col_list:\n",
                "    feature_df[i] = feature_df[i].apply(\n",
                "        lambda x: f\"{float(x):.3f}\" if float(x) != 0 else float(x)\n",
                "    )"
            ]
        },
        {
            "cell_type": "markdown",
            "id": "de0c1cd8",
            "metadata": {
                "papermill": {
                    "duration": 0.003283,
                    "end_time": "2024-03-04T19:14:13.007469",
                    "exception": false,
                    "start_time": "2024-03-04T19:14:13.004186",
                    "status": "completed"
                },
                "tags": []
            },
            "source": [
                "#### Combine Inducer1 and Inducer2 into one column"
            ]
        },
        {
            "cell_type": "code",
            "execution_count": 15,
            "id": "4145d893",
            "metadata": {
                "execution": {
                    "iopub.execute_input": "2024-03-04T19:14:13.015166Z",
                    "iopub.status.busy": "2024-03-04T19:14:13.014779Z",
                    "iopub.status.idle": "2024-03-04T19:14:13.535373Z",
                    "shell.execute_reply": "2024-03-04T19:14:13.534855Z"
                },
                "papermill": {
                    "duration": 0.525919,
                    "end_time": "2024-03-04T19:14:13.536728",
                    "exception": false,
                    "start_time": "2024-03-04T19:14:13.010809",
                    "status": "completed"
                },
                "tags": []
            },
            "outputs": [],
            "source": [
                "# treatment column merge\n",
                "conditions = [\n",
                "    (feature_df[\"Metadata_inducer2\"].isnull()),\n",
                "    feature_df[\"Metadata_inducer2\"].notnull(),\n",
                "]\n",
                "\n",
                "results = [\n",
                "    (feature_df[\"Metadata_inducer1\"]).astype(str),\n",
                "    (\n",
                "        feature_df[\"Metadata_inducer1\"]\n",
                "        + \"_\"\n",
                "        + feature_df[\"Metadata_inducer2\"].astype(str)\n",
                "    ),\n",
                "]\n",
                "feature_df[\"Metadata_Treatment\"] = np.select(condlist=conditions, choicelist=results)\n",
                "\n",
                "\n",
                "# dose column merge\n",
                "results = [\n",
                "    (\n",
                "        feature_df[\"Metadata_inducer1_concentration\"].astype(str)\n",
                "        + \"_\"\n",
                "        + feature_df[\"Metadata_inducer1_concentration_unit\"].astype(str)\n",
                "    ),\n",
                "    (\n",
                "        feature_df[\"Metadata_inducer1_concentration\"].astype(str)\n",
                "        + \"_\"\n",
                "        + feature_df[\"Metadata_inducer1_concentration_unit\"].astype(str)\n",
                "        + \"_\"\n",
                "        + feature_df[\"Metadata_inducer2_concentration\"].astype(str)\n",
                "        + \"_\"\n",
                "        + feature_df[\"Metadata_inducer2_concentration_unit\"].astype(str)\n",
                "    ),\n",
                "]\n",
                "feature_df[\"Metadata_Dose\"] = np.select(condlist=conditions, choicelist=results)"
            ]
        },
        {
            "cell_type": "markdown",
            "id": "7151c8f0",
            "metadata": {
                "papermill": {
                    "duration": 0.003314,
                    "end_time": "2024-03-04T19:14:13.543476",
                    "exception": false,
                    "start_time": "2024-03-04T19:14:13.540162",
                    "status": "completed"
                },
                "tags": []
            },
            "source": [
                "## N Beta Column condition generation\n",
                "columns generated to used for linear modeling where terms separated by '__' will be a beta coefficient "
            ]
        },
        {
            "cell_type": "code",
            "execution_count": 16,
            "id": "c9e7095e",
            "metadata": {
                "execution": {
                    "iopub.execute_input": "2024-03-04T19:14:13.551507Z",
                    "iopub.status.busy": "2024-03-04T19:14:13.551030Z",
                    "iopub.status.idle": "2024-03-04T19:14:14.681522Z",
                    "shell.execute_reply": "2024-03-04T19:14:14.680991Z"
                },
                "papermill": {
                    "duration": 1.136179,
                    "end_time": "2024-03-04T19:14:14.682972",
                    "exception": false,
                    "start_time": "2024-03-04T19:14:13.546793",
                    "status": "completed"
                },
                "tags": []
            },
            "outputs": [],
            "source": [
                "# one beta of inudcer1, inducer1 concentration, inhibitor, and inhibitor concentration all as 1 beta term\n",
                "feature_df[\"oneb_Metadata_Treatment_Dose_Inhibitor_Dose\"] = (\n",
                "    feature_df[\"Metadata_Treatment\"]\n",
                "    + \"_\"\n",
                "    + feature_df[\"Metadata_Dose\"].astype(str)\n",
                "    # + \"_\"\n",
                "    # + feature_df['Metadata_inducer1_concentration_unit'].astype(str)\n",
                "    + \"_\"\n",
                "    + feature_df[\"Metadata_inhibitor\"].astype(str)\n",
                "    + \"_\"\n",
                "    + feature_df[\"Metadata_inhibitor_concentration\"].astype(str)\n",
                "    + \"_\"\n",
                "    + feature_df[\"Metadata_inhibitor_concentration_unit\"].astype(str)\n",
                ").astype(str)\n",
                "\n",
                "\n",
                "# two beta of inducer1, inhibitor, and inhibitor concentration all as 1 beta term + inducer1 concentration as 2nd beta term\n",
                "feature_df[\"twob_Metadata_Treatment_Dose_Inhibitor_Dose\"] = (\n",
                "    feature_df[\"Metadata_Treatment\"]\n",
                "    + \"_\"\n",
                "    + feature_df[\"Metadata_inhibitor\"].astype(str)\n",
                "    + \"_\"\n",
                "    + feature_df[\"Metadata_inhibitor_concentration\"].astype(str)\n",
                "    + \"__\"\n",
                "    + feature_df[\"Metadata_Dose\"].astype(str)\n",
                ").astype(str)\n",
                "\n",
                "# three beta of inducer 1 as 1 beta term, inducer1 concentration as 2nd beta term, inhibitor and inhibitor concentration as 3rd beta term\n",
                "feature_df[\"threeb_Metadata_Treatment_Dose_Inhibitor_Dose\"] = (\n",
                "    feature_df[\"Metadata_Treatment\"]\n",
                "    + \"__\"\n",
                "    + feature_df[\"Metadata_Dose\"].astype(str)\n",
                "    + \"__\"\n",
                "    + feature_df[\"Metadata_inducer1_concentration_unit\"].astype(str)\n",
                "    + \"_\"\n",
                "    + feature_df[\"Metadata_inhibitor\"].astype(str)\n",
                "    + \"_\"\n",
                "    + feature_df[\"Metadata_inhibitor_concentration\"].astype(str)\n",
                ").astype(str)\n",
                "\n",
                "# four beta of inducer 1 as 1 beta term, inducer1 concentration as 2nd beta term, inhibitor as 3rd beta term, and inhibitor concentration as 4th beta term\n",
                "feature_df[\"fourb_Metadata_Treatment_Dose_Inhibitor_Dose\"] = (\n",
                "    feature_df[\"Metadata_Treatment\"]\n",
                "    + \"__\"\n",
                "    + feature_df[\"Metadata_Dose\"].astype(str)\n",
                "    + \"__\"\n",
                "    + feature_df[\"Metadata_inducer1_concentration_unit\"].astype(str)\n",
                "    + \"_\"\n",
                "    + feature_df[\"Metadata_inhibitor\"].astype(str)\n",
                "    + \"__\"\n",
                "    + feature_df[\"Metadata_inhibitor_concentration\"].astype(str)\n",
                ").astype(str)"
            ]
        },
        {
            "cell_type": "code",
            "execution_count": 17,
            "id": "99708fcd",
            "metadata": {
                "execution": {
                    "iopub.execute_input": "2024-03-04T19:14:14.694149Z",
                    "iopub.status.busy": "2024-03-04T19:14:14.693618Z",
                    "iopub.status.idle": "2024-03-04T19:14:15.393336Z",
                    "shell.execute_reply": "2024-03-04T19:14:15.392697Z"
                },
                "papermill": {
                    "duration": 0.704982,
                    "end_time": "2024-03-04T19:14:15.394312",
                    "exception": false,
                    "start_time": "2024-03-04T19:14:14.689330",
                    "status": "completed"
                },
                "tags": []
            },
            "outputs": [
                {
                    "name": "stdout",
                    "output_type": "stream",
                    "text": [
                        "None 0\n"
                    ]
                },
                {
                    "name": "stdout",
                    "output_type": "stream",
                    "text": [
                        "µ u\n"
                    ]
                },
                {
                    "name": "stdout",
                    "output_type": "stream",
                    "text": [
                        "nan 0\n"
                    ]
                }
            ],
            "source": [
                "replacement_dict = {\n",
                "    \"None\": \"0\",\n",
                "    \"µ\": \"u\",\n",
                "    \"nan\": \"0\",\n",
                "}\n",
                "for pattern, replacement in replacement_dict.items():\n",
                "    print(pattern, replacement)\n",
                "    feature_df[\"oneb_Metadata_Treatment_Dose_Inhibitor_Dose\"] = feature_df[\n",
                "        \"oneb_Metadata_Treatment_Dose_Inhibitor_Dose\"\n",
                "    ].replace(to_replace=str(pattern), value=str(replacement), regex=True)"
            ]
        },
        {
            "cell_type": "code",
            "execution_count": 18,
            "id": "b04c1d48",
            "metadata": {
                "execution": {
                    "iopub.execute_input": "2024-03-04T19:14:15.408161Z",
                    "iopub.status.busy": "2024-03-04T19:14:15.407692Z",
                    "iopub.status.idle": "2024-03-04T19:14:15.523481Z",
                    "shell.execute_reply": "2024-03-04T19:14:15.522846Z"
                },
                "papermill": {
                    "duration": 0.121532,
                    "end_time": "2024-03-04T19:14:15.524565",
                    "exception": false,
                    "start_time": "2024-03-04T19:14:15.403033",
                    "status": "completed"
                },
                "tags": []
            },
            "outputs": [],
            "source": [
                "feature_df[\"oneb_Metadata_Treatment_Dose_Inhibitor_Dose\"] = feature_df[\n",
                "    \"oneb_Metadata_Treatment_Dose_Inhibitor_Dose\"\n",
                "].str.replace(\"media_ctr_0.0_0_Media_ctr_0_0\", \"media_ctr_0.0_0_Media_ctr_0.0_0\")"
            ]
        },
        {
            "cell_type": "code",
            "execution_count": 19,
            "id": "6d96e544",
            "metadata": {
                "execution": {
                    "iopub.execute_input": "2024-03-04T19:14:15.532907Z",
                    "iopub.status.busy": "2024-03-04T19:14:15.532515Z",
                    "iopub.status.idle": "2024-03-04T19:14:15.941320Z",
                    "shell.execute_reply": "2024-03-04T19:14:15.940678Z"
                },
                "papermill": {
                    "duration": 0.414168,
                    "end_time": "2024-03-04T19:14:15.942435",
                    "exception": false,
                    "start_time": "2024-03-04T19:14:15.528267",
                    "status": "completed"
                },
                "tags": []
            },
            "outputs": [],
            "source": [
                "# need to convert to strings to save as parquet\n",
                "# if the column is an object then convert it to a string\n",
                "for column in feature_df.columns:\n",
                "    if feature_df[column].dtype == \"object\":\n",
                "        feature_df[column] = feature_df[column].astype(str)"
            ]
        },
        {
            "cell_type": "code",
            "execution_count": 20,
            "id": "163924da",
            "metadata": {
                "execution": {
                    "iopub.execute_input": "2024-03-04T19:14:15.950782Z",
                    "iopub.status.busy": "2024-03-04T19:14:15.950356Z",
                    "iopub.status.idle": "2024-03-04T19:14:53.900715Z",
                    "shell.execute_reply": "2024-03-04T19:14:53.900184Z"
                },
                "papermill": {
                    "duration": 37.956383,
                    "end_time": "2024-03-04T19:14:53.902453",
                    "exception": false,
                    "start_time": "2024-03-04T19:14:15.946070",
                    "status": "completed"
                },
                "tags": []
            },
            "outputs": [],
            "source": [
                "# write to parquet file\n",
                "feature_df.to_parquet(feature_df_out_path)"
            ]
        }
    ],
    "metadata": {
        "kernelspec": {
            "display_name": "Interstellar",
            "language": "python",
            "name": "python3"
        },
        "language_info": {
            "codemirror_mode": {
                "name": "ipython",
                "version": 3
            },
            "file_extension": ".py",
            "mimetype": "text/x-python",
            "name": "python",
            "nbconvert_exporter": "python",
            "pygments_lexer": "ipython3",
            "version": "3.10.12"
        },
        "papermill": {
            "default_parameters": {},
            "duration": 96.821316,
            "end_time": "2024-03-04T19:14:54.326090",
            "environment_variables": {},
            "exception": null,
            "input_path": "0.preprocess_profiles.ipynb",
            "output_path": "10.preprocess_profiles.ipynb",
            "parameters": {
                "cell_type": "PBMC"
            },
            "start_time": "2024-03-04T19:13:17.504774",
            "version": "2.5.0"
        }
    },
    "nbformat": 4,
    "nbformat_minor": 5
}
