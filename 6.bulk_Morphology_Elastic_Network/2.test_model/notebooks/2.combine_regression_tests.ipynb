{
    "cells": [
        {
            "cell_type": "code",
            "execution_count": 5,
            "metadata": {},
            "outputs": [],
            "source": [
                "import argparse\n",
                "import pathlib\n",
                "\n",
                "import pandas as pd"
            ]
        },
        {
            "cell_type": "code",
            "execution_count": null,
            "metadata": {},
            "outputs": [],
            "source": [
                "argparser = argparse.ArgumentParser()\n",
                "argparser.add_argument(\"--cell_type\", type=str, default=\"cell_type\")\n",
                "\n",
                "args = argparser.parse_args()\n",
                "\n",
                "cell_type = args.cell_type"
            ]
        },
        {
            "cell_type": "code",
            "execution_count": 3,
            "metadata": {},
            "outputs": [],
            "source": [
                "results_dir_path = pathlib.Path(\n",
                "    f\"../results/regression/{cell_type}/aggregated_with_nomic/\"\n",
                ").resolve(strict=True)\n",
                "\n",
                "model_stats_final_output_path = pathlib.Path(\n",
                "    f\"../results/regression/{cell_type}/aggregated_with_nomic/model_stats.csv\"\n",
                ")\n",
                "\n",
                "variance_r2_stats_final_output_path = pathlib.Path(\n",
                "    f\"../results/regression/{cell_type}/aggregated_with_nomic/variance_r2_stats.csv\"\n",
                ")\n",
                "\n",
                "# get a list of all the files that contain \"model_stats\" in the name\n",
                "model_stats_files = list(results_dir_path.glob(\"*model_stats*\"))\n",
                "\n",
                "\n",
                "# get a list of all the files that contain \"variance_r2_stats\" in the name\n",
                "variance_r2_stats_files = list(results_dir_path.glob(\"*variance_r2_stats*\"))\n",
                "\n",
                "\n",
                "# concate all the model_stats files\n",
                "model_stats_df = pd.concat([pd.read_csv(f) for f in model_stats_files])\n",
                "\n",
                "# concate all the variance_r2_stats files\n",
                "variance_r2_stats_df = pd.concat([pd.read_csv(f) for f in variance_r2_stats_files])\n",
                "\n",
                "# save the final output to csv\n",
                "model_stats_df.to_csv(model_stats_final_output_path, index=False)\n",
                "variance_r2_stats_df.to_csv(variance_r2_stats_final_output_path, index=False)"
            ]
        },
        {
            "cell_type": "code",
            "execution_count": null,
            "metadata": {},
            "outputs": [],
            "source": [
                "print(\"Completed!\")"
            ]
        }
    ],
    "metadata": {
        "kernelspec": {
            "display_name": "Interstellar",
            "language": "python",
            "name": "python3"
        },
        "language_info": {
            "codemirror_mode": {
                "name": "ipython",
                "version": 3
            },
            "file_extension": ".py",
            "mimetype": "text/x-python",
            "name": "python",
            "nbconvert_exporter": "python",
            "pygments_lexer": "ipython3",
            "version": "3.10.12"
        },
        "orig_nbformat": 4
    },
    "nbformat": 4,
    "nbformat_minor": 2
}
