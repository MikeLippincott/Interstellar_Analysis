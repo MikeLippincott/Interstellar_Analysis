{
 "cells": [
  {
   "cell_type": "code",
   "execution_count": 1,
   "metadata": {},
   "outputs": [],
   "source": [
    "import argparse\n",
    "import pathlib\n",
    "\n",
    "import pandas as pd"
   ]
  },
  {
   "cell_type": "code",
   "execution_count": 2,
   "metadata": {},
   "outputs": [],
   "source": [
    "cell_type = \"PBMC\""
   ]
  },
  {
   "cell_type": "code",
   "execution_count": 3,
   "metadata": {},
   "outputs": [],
   "source": [
    "# define paths to the results\n",
    "results_dir_path = pathlib.Path(\n",
    "    f\"../results/regression/{cell_type}/aggregated_with_nomic/\"\n",
    ").resolve(strict=True)\n",
    "\n",
    "model_stats_final_output_path = pathlib.Path(\n",
    "    f\"../results/regression/{cell_type}/combined/model_stats.csv\"\n",
    ")\n",
    "# make the directory if it does not exist\n",
    "model_stats_final_output_path.parent.mkdir(parents=True, exist_ok=True)\n",
    "\n",
    "variance_r2_stats_final_output_path = pathlib.Path(\n",
    "    f\"../results/regression/{cell_type}/combined/variance_r2_stats.csv\"\n",
    ")\n",
    "\n",
    "# get a list of all the files that contain \"model_stats\" in the name\n",
    "model_stats_files = list(results_dir_path.glob(\"*model_stats*\"))\n",
    "\n",
    "\n",
    "# get a list of all the files that contain \"variance_r2_stats\" in the name\n",
    "variance_r2_stats_files = list(results_dir_path.glob(\"*variance_r2_stats*\"))"
   ]
  },
  {
   "cell_type": "code",
   "execution_count": 4,
   "metadata": {},
   "outputs": [],
   "source": [
    "# # concate all the model_stats files\n",
    "# model_stats_df = pd.concat([pd.read_csv(f) for f in model_stats_files])\n",
    "\n",
    "# # concate all the variance_r2_stats files\n",
    "# variance_r2_stats_df = pd.concat([pd.read_csv(f) for f in variance_r2_stats_files])"
   ]
  },
  {
   "cell_type": "code",
   "execution_count": 5,
   "metadata": {},
   "outputs": [],
   "source": [
    "# # save the final output to csv\n",
    "# model_stats_df.to_csv(model_stats_final_output_path, index=False)\n",
    "# variance_r2_stats_df.to_csv(variance_r2_stats_final_output_path, index=False)"
   ]
  },
  {
   "cell_type": "code",
   "execution_count": 6,
   "metadata": {},
   "outputs": [
    {
     "name": "stdout",
     "output_type": "stream",
     "text": [
      "(278630, 15)\n"
     ]
    }
   ],
   "source": [
    "list_of_dfs = []\n",
    "for f in model_stats_files:\n",
    "    df = pd.read_csv(f)\n",
    "    f = str(f.stem)\n",
    "    f = (\n",
    "        f.split(\"[NSU]_\")[1]\n",
    "        .split(\"_model_stats\")[0]\n",
    "        .strip(\"final_\")\n",
    "        .strip(\"shuffled_baseline_\")\n",
    "    )\n",
    "    df[\"dataset\"] = f\n",
    "    list_of_dfs.append(df)\n",
    "\n",
    "model_stats_df = pd.concat(list_of_dfs)\n",
    "print(model_stats_df.shape)\n",
    "# save the final output to csv\n",
    "model_stats_df.to_csv(model_stats_final_output_path, index=False)"
   ]
  },
  {
   "cell_type": "code",
   "execution_count": 7,
   "metadata": {},
   "outputs": [
    {
     "name": "stdout",
     "output_type": "stream",
     "text": [
      "(3740, 7)\n"
     ]
    },
    {
     "data": {
      "text/html": [
       "<div>\n",
       "<style scoped>\n",
       "    .dataframe tbody tr th:only-of-type {\n",
       "        vertical-align: middle;\n",
       "    }\n",
       "\n",
       "    .dataframe tbody tr th {\n",
       "        vertical-align: top;\n",
       "    }\n",
       "\n",
       "    .dataframe thead th {\n",
       "        text-align: right;\n",
       "    }\n",
       "</style>\n",
       "<table border=\"1\" class=\"dataframe\">\n",
       "  <thead>\n",
       "    <tr style=\"text-align: right;\">\n",
       "      <th></th>\n",
       "      <th>cytokine</th>\n",
       "      <th>data_split</th>\n",
       "      <th>shuffle</th>\n",
       "      <th>predicted_value</th>\n",
       "      <th>actual_value</th>\n",
       "      <th>r2</th>\n",
       "      <th>dataset</th>\n",
       "    </tr>\n",
       "  </thead>\n",
       "  <tbody>\n",
       "    <tr>\n",
       "      <th>0</th>\n",
       "      <td>IL-12p40</td>\n",
       "      <td>test_data</td>\n",
       "      <td>final</td>\n",
       "      <td>0.000352</td>\n",
       "      <td>0.087733</td>\n",
       "      <td>[-0.02241172]</td>\n",
       "      <td>DNA_Gasdermin_ER_Mito</td>\n",
       "    </tr>\n",
       "    <tr>\n",
       "      <th>1</th>\n",
       "      <td>IL-12p40</td>\n",
       "      <td>train_data</td>\n",
       "      <td>final</td>\n",
       "      <td>0.000310</td>\n",
       "      <td>0.049314</td>\n",
       "      <td>[0.03210217]</td>\n",
       "      <td>DNA_Gasdermin_ER_Mito</td>\n",
       "    </tr>\n",
       "    <tr>\n",
       "      <th>0</th>\n",
       "      <td>IL-17A</td>\n",
       "      <td>test_data</td>\n",
       "      <td>final</td>\n",
       "      <td>0.000000</td>\n",
       "      <td>0.016221</td>\n",
       "      <td>[-0.01486992]</td>\n",
       "      <td>DNA_Gasdermin_ER_Mito</td>\n",
       "    </tr>\n",
       "    <tr>\n",
       "      <th>1</th>\n",
       "      <td>IL-17A</td>\n",
       "      <td>train_data</td>\n",
       "      <td>final</td>\n",
       "      <td>0.000000</td>\n",
       "      <td>0.020557</td>\n",
       "      <td>[0.]</td>\n",
       "      <td>DNA_Gasdermin_ER_Mito</td>\n",
       "    </tr>\n",
       "    <tr>\n",
       "      <th>0</th>\n",
       "      <td>WIP-1(CC4)</td>\n",
       "      <td>test_data</td>\n",
       "      <td>final</td>\n",
       "      <td>0.000000</td>\n",
       "      <td>0.032943</td>\n",
       "      <td>[-0.00217149]</td>\n",
       "      <td>Gasdermin_ER_Mito_PM</td>\n",
       "    </tr>\n",
       "  </tbody>\n",
       "</table>\n",
       "</div>"
      ],
      "text/plain": [
       "     cytokine  data_split shuffle  predicted_value  actual_value  \\\n",
       "0    IL-12p40   test_data   final         0.000352      0.087733   \n",
       "1    IL-12p40  train_data   final         0.000310      0.049314   \n",
       "0      IL-17A   test_data   final         0.000000      0.016221   \n",
       "1      IL-17A  train_data   final         0.000000      0.020557   \n",
       "0  WIP-1(CC4)   test_data   final         0.000000      0.032943   \n",
       "\n",
       "              r2                dataset  \n",
       "0  [-0.02241172]  DNA_Gasdermin_ER_Mito  \n",
       "1   [0.03210217]  DNA_Gasdermin_ER_Mito  \n",
       "0  [-0.01486992]  DNA_Gasdermin_ER_Mito  \n",
       "1           [0.]  DNA_Gasdermin_ER_Mito  \n",
       "0  [-0.00217149]   Gasdermin_ER_Mito_PM  "
      ]
     },
     "execution_count": 7,
     "metadata": {},
     "output_type": "execute_result"
    }
   ],
   "source": [
    "list_of_dfs = []\n",
    "for f in variance_r2_stats_files:\n",
    "    df = pd.read_csv(f)\n",
    "    f = str(f.stem)\n",
    "    f = (\n",
    "        f.split(\"[NSU]_\")[1]\n",
    "        .split(\"_variance_r2_stats\")[0]\n",
    "        .strip(\"final_\")\n",
    "        .strip(\"shuffled_baseline_\")\n",
    "    )\n",
    "    df[\"dataset\"] = f\n",
    "    list_of_dfs.append(df)\n",
    "\n",
    "variance_r2_stats_df = pd.concat(list_of_dfs)\n",
    "print(variance_r2_stats_df.shape)\n",
    "# save the final output to csv\n",
    "variance_r2_stats_df.to_csv(variance_r2_stats_final_output_path, index=False)\n",
    "\n",
    "variance_r2_stats_df.head()"
   ]
  }
 ],
 "metadata": {
  "kernelspec": {
   "display_name": "Interstellar",
   "language": "python",
   "name": "python3"
  },
  "language_info": {
   "codemirror_mode": {
    "name": "ipython",
    "version": 3
   },
   "file_extension": ".py",
   "mimetype": "text/x-python",
   "name": "python",
   "nbconvert_exporter": "python",
   "pygments_lexer": "ipython3",
   "version": "3.10.12"
  },
  "orig_nbformat": 4
 },
 "nbformat": 4,
 "nbformat_minor": 2
}
