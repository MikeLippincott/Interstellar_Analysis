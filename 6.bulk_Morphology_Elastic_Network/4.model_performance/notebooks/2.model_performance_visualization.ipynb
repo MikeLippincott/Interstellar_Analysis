{
    "cells": [
        {
            "cell_type": "markdown",
            "metadata": {},
            "source": [
                "## This notebook visualizes the ElasticNet model performances via heatmap.\n",
                "We visualize the model input feature coefficients and the model R2 scores."
            ]
        },
        {
            "cell_type": "code",
            "execution_count": null,
            "metadata": {
                "vscode": {
                    "languageId": "r"
                }
            },
            "outputs": [],
            "source": [
                "suppressPackageStartupMessages(suppressWarnings(library(ggplot2)))\n",
                "suppressPackageStartupMessages(suppressWarnings(library(dplyr)))\n",
                "suppressPackageStartupMessages(suppressWarnings(library(ComplexHeatmap)))\n",
                "suppressPackageStartupMessages(suppressWarnings(library(reshape2)))\n",
                "suppressPackageStartupMessages(suppressWarnings(library(ggplotify)))\n",
                "suppressPackageStartupMessages(suppressWarnings(library(RColorBrewer)))\n",
                "suppressPackageStartupMessages(suppressWarnings(library(circlize)))\n"
            ]
        },
        {
            "cell_type": "code",
            "execution_count": null,
            "metadata": {
                "vscode": {
                    "languageId": "r"
                }
            },
            "outputs": [],
            "source": [
                "# set cell type\n",
                "cell_type <- \"PBMC\"\n"
            ]
        },
        {
            "cell_type": "code",
            "execution_count": null,
            "metadata": {
                "vscode": {
                    "languageId": "r"
                }
            },
            "outputs": [],
            "source": [
                "# set path for data of all models\n",
                "data_path <- file.path(paste0(\"../results/regression/\", cell_type, \"/\", \"all_model_performance.csv\"))\n",
                "df <- read.csv(data_path)\n",
                "# setfigure path\n",
                "figure_path <- file.path(paste0(\"../figures/regression/\", cell_type, \"/\"))\n",
                "# make the directory if it doesn't exist\n",
                "dir.create(figure_path, recursive = TRUE, showWarnings = FALSE)\n"
            ]
        },
        {
            "cell_type": "code",
            "execution_count": null,
            "metadata": {
                "vscode": {
                    "languageId": "r"
                }
            },
            "outputs": [],
            "source": [
                "# select MMP-1 secreted protein as the target\n",
                "df <- df %>% filter(shuffle == \"final\")\n"
            ]
        },
        {
            "cell_type": "code",
            "execution_count": null,
            "metadata": {
                "vscode": {
                    "languageId": "r"
                }
            },
            "outputs": [],
            "source": [
                "head(df,2)\n"
            ]
        },
        {
            "cell_type": "code",
            "execution_count": null,
            "metadata": {
                "vscode": {
                    "languageId": "r"
                }
            },
            "outputs": [],
            "source": [
                "# get the feature names for color bar visualization \n",
                "features <- df %>% select(feature_names)\n",
                "# drop duplicate features from the feature names\n",
                "features <- unique(features)\n",
                "features <- features %>%\n",
                "        tidyr::separate(\n",
                "            feature_names,\n",
                "            into = c(\n",
                "                \"compartment\",\n",
                "                \"feature_group\",\n",
                "                \"measurement\",\n",
                "                \"channel\", \n",
                "                \"parameter1\", \n",
                "                \"parameter2\"\n",
                "            ),\n",
                "            sep = \"_\",\n",
                "            remove = FALSE\n",
                "        ) %>%\n",
                "        dplyr::mutate(channel_cleaned = channel)\n",
                "\n",
                "    # Clean channel for visualization\n",
                "    features$channel_learned <- dplyr::recode(features$channel,\n",
                "            \"CorrDNA\" = \"nuclei\",\n",
                "            \"CorrMito\" = \"Mito\",\n",
                "            \"CorrER\" = \"ER\",\n",
                "            \"CorrGasdermin\" = \"gasdermin\",\n",
                "            \"CorrPM\" = \"PM\",\n",
                "            .default = \"other\",\n",
                "            .missing=\"other\"\n",
                "    )\n"
            ]
        },
        {
            "cell_type": "code",
            "execution_count": null,
            "metadata": {
                "vscode": {
                    "languageId": "r"
                }
            },
            "outputs": [],
            "source": [
                "r2_df <- df %>% select(r2)\n",
                "r2_df <- unique(r2_df)\n",
                "row_ha <- rowAnnotation(df = r2_df)\n",
                "column_ha <- HeatmapAnnotation(Compartment = features$compartment, \n",
                "                               Feature_Type = features$feature_group, \n",
                "\n",
                "                               Channel = features$channel_learned, \n",
                "                               show_legend = TRUE)\n"
            ]
        },
        {
            "cell_type": "code",
            "execution_count": null,
            "metadata": {
                "vscode": {
                    "languageId": "r"
                }
            },
            "outputs": [],
            "source": [
                "# make the df into a matrix for heatmap\n",
                "mat <- dcast(df, feature_names ~ secreted_proteins, value.var = \"coefficients\")\n",
                "row.names(mat) <- mat$feature_names\n",
                "mat <- mat %>% select(-feature_names)\n",
                "mat <- as.matrix(mat)\n"
            ]
        },
        {
            "cell_type": "code",
            "execution_count": null,
            "metadata": {
                "vscode": {
                    "languageId": "r"
                }
            },
            "outputs": [],
            "source": [
                "# plot size\n",
                "options(repr.plot.width=150, repr.plot.height=30)\n",
                "model_heatmap <- (\n",
                "        Heatmap(\n",
                "        t(mat), \n",
                "        cluster_rows = TRUE,    # Cluster rows\n",
                "        cluster_columns = TRUE, # Cluster columns\n",
                "        show_row_names = TRUE,  # Show row names\n",
                "        show_column_names = TRUE, # Show column names\n",
                "        column_names_gp = gpar(fontsize = 12), # Column name label formatting\n",
                "        row_names_gp = gpar(fontsize = 12),    # Row name label formatting\n",
                "        right_annotation = row_ha,\n",
                "        bottom_annotation = column_ha\n",
                "        ) \n",
                ")\n",
                "# ggplotify model_heatmap\n",
                "model_heatmap <- as.ggplot(model_heatmap)\n",
                "ggsave(file = paste0(figure_path, \"all_features_heatmap.png\"), plot = model_heatmap, width = 30, height = 30, units = \"in\", dpi = 500)\n",
                "model_heatmap\n"
            ]
        },
        {
            "cell_type": "markdown",
            "metadata": {
                "vscode": {
                    "languageId": "r"
                }
            },
            "source": [
                "## Plot the same heatmap above but on filterd data"
            ]
        },
        {
            "cell_type": "code",
            "execution_count": null,
            "metadata": {
                "vscode": {
                    "languageId": "r"
                }
            },
            "outputs": [],
            "source": [
                "# set path for data of all models\n",
                "data_path <- file.path(paste0(\"../results/regression/\", cell_type, \"/\", \"all_model_performance.csv\"))\n",
                "df <- read.csv(data_path)\n",
                "head(df)\n",
                "# select MMP-1 secreted protein as the target\n",
                "df <- df %>% filter(shuffle == \"final\")\n"
            ]
        },
        {
            "cell_type": "code",
            "execution_count": null,
            "metadata": {
                "vscode": {
                    "languageId": "r"
                }
            },
            "outputs": [],
            "source": [
                "# select rows that have r2 > 0.5\n",
                "df <- df %>% filter(r2 > 0.5)\n",
                "# filter rows that have coeff = 0\n",
                "df <- df %>% filter(coefficients != 0)\n"
            ]
        },
        {
            "cell_type": "code",
            "execution_count": null,
            "metadata": {
                "vscode": {
                    "languageId": "r"
                }
            },
            "outputs": [],
            "source": [
                "# get the feature names for color bar visualization \n",
                "features <- df %>% select(feature_names)\n",
                "# drop duplicate features from the feature names\n",
                "features <- unique(features)\n",
                "features <- features %>%\n",
                "        tidyr::separate(\n",
                "            feature_names,\n",
                "            into = c(\n",
                "                \"compartment\",\n",
                "                \"feature_group\",\n",
                "                \"measurement\",\n",
                "                \"channel\", \n",
                "                \"parameter1\", \n",
                "                \"parameter2\"\n",
                "            ),\n",
                "            sep = \"_\",\n",
                "            remove = FALSE\n",
                "        ) %>%\n",
                "        dplyr::mutate(channel_cleaned = channel)\n",
                "\n",
                "    # Clean channel for visualization\n",
                "    features$channel_learned <- dplyr::recode(features$channel,\n",
                "            \"CorrDNA\" = \"nuclei\",\n",
                "            \"CorrMito\" = \"Mito\",\n",
                "            \"CorrER\" = \"ER\",\n",
                "            \"CorrGasdermin\" = \"gasdermin\",\n",
                "            \"CorrPM\" = \"PM\",\n",
                "            .default = \"other\",\n",
                "            .missing=\"other\"\n",
                "    )\n"
            ]
        },
        {
            "cell_type": "code",
            "execution_count": null,
            "metadata": {
                "vscode": {
                    "languageId": "r"
                }
            },
            "outputs": [],
            "source": [
                "r2_df <- df %>% select(r2)\n",
                "r2_df <- unique(r2_df)\n",
                "row_ha <- rowAnnotation(\n",
                "    df = r2_df,\n",
                "    show_legend = TRUE,\n",
                "    annotation_name_side = \"top\",\n",
                "    # rotate the title\n",
                "    annotation_legend_param = list(\n",
                "        title_gp = gpar(fontsize = 16, angle = 0),\n",
                "        labels_gp = gpar(fontsize = 16, angle = 0)\n",
                "    ),\n",
                "    # set color bar for r2 continuous value with brewer palette\n",
                "    col = list(r2 = colorRamp2(c(0, 1), c(brewer.pal(9,\"YlGn\")[1], brewer.pal(9,\"YlGn\")[7])))\n",
                ")                   \n"
            ]
        },
        {
            "cell_type": "code",
            "execution_count": null,
            "metadata": {
                "vscode": {
                    "languageId": "r"
                }
            },
            "outputs": [],
            "source": [
                "# make the df into a matrix for heatmap\n",
                "mat <- dcast(df, feature_names ~ secreted_proteins, value.var = \"coefficients\")\n",
                "row.names(mat) <- mat$feature_names\n",
                "mat <- mat %>% select(-feature_names)\n",
                "mat <- as.matrix(mat)\n",
                "# na to 0\n",
                "mat[is.na(mat)] <- 0\n",
                "# drop rows that have 0 in 50% of the columns\n",
                "mat <- mat[rowSums(mat != 0) > ncol(mat)/2, ]\n",
                "mat <- as.data.frame(mat)\n",
                "# get the feature names from the index\n",
                "mat$feature_names <- row.names(mat)\n",
                "# get the feature names for color bar visualization\n",
                "features <- mat %>% select(feature_names)\n",
                "# drop duplicate features from the feature names\n",
                "features <- unique(features)\n",
                "features <- features %>%\n",
                "        tidyr::separate(\n",
                "            feature_names,\n",
                "            into = c(\n",
                "                \"compartment\",\n",
                "                \"feature_group\",\n",
                "                \"measurement\",\n",
                "                \"channel\", \n",
                "                \"parameter1\", \n",
                "                \"parameter2\"\n",
                "            ),\n",
                "            sep = \"_\",\n",
                "            remove = FALSE\n",
                "        ) %>%\n",
                "        dplyr::mutate(channel_cleaned = channel)\n",
                "\n",
                "    # Clean channel for visualization\n",
                "    features$channel_learned <- dplyr::recode(features$channel,\n",
                "            \"CorrDNA\" = \"nuclei\",\n",
                "            \"CorrMito\" = \"Mito\",\n",
                "            \"CorrER\" = \"ER\",\n",
                "            \"CorrGasdermin\" = \"gasdermin\",\n",
                "            \"CorrPM\" = \"PM\",\n",
                "            .default = \"other\",\n",
                "            .missing=\"other\"\n",
                "    )\n",
                "\n",
                "# set annotations\n",
                "column_ha <- HeatmapAnnotation(\n",
                "    Compartment = features$compartment, \n",
                "    Feature_Type = features$feature_group, \n",
                "    Channel = features$channel_learned, \n",
                "    show_legend = TRUE,\n",
                "    annotation_legend_param = list(title_position = \"topcenter\", title_gp = gpar(fontsize = 16, angle = 0), labels_gp = gpar(fontsize = 16, title = gpar(fontsize = 16))),\n",
                "    annotation_name_side = \"right\",\n",
                "    \n",
                "    # color\n",
                "    col = list(\n",
                "        Compartment = c(\n",
                "            \"Cells\" = brewer.pal(12, \"Accent\")[7], \n",
                "            \"Cytoplasm\" = brewer.pal(12, \"Accent\")[6], \n",
                "            \"Nuclei\" = brewer.pal(12, \"Accent\")[5]\n",
                "        ),\n",
                "        Feature_Type = c(\n",
                "            \"AreaShape\" = brewer.pal(12, \"Paired\")[1], \n",
                "            \"Correlation\" = brewer.pal(12, \"Paired\")[2], \n",
                "            \"Granularity\" = brewer.pal(12, \"Paired\")[5], \n",
                "            \"Neighbors\" = brewer.pal(12, \"Paired\")[8], \n",
                "            \"RadialDistribution\" = brewer.pal(12, \"Paired\")[10], \n",
                "            \"Texture\" = brewer.pal(12, \"Paired\")[11]\n",
                "        ),\n",
                "        # manually define the color for each channel to match the wavelegnth-ish\n",
                "        Channel = c(\n",
                "            \"nuclei\" = \"#0000AB\",\n",
                "            \"Mito\" = \"#B000B0\",\n",
                "            \"ER\" = \"#00D55B\",\n",
                "            \"gasdermin\" = \"#FFFF00\",\n",
                "            \"PM\" = \"#C90000\",\n",
                "            \"other\" = \"#B09FB0\")\n",
                "    )\n",
                ")\n",
                "                \n",
                "# drop the feature names column\n",
                "mat <- mat %>% select(-feature_names)\n",
                "mat <- as.matrix(mat)\n"
            ]
        },
        {
            "cell_type": "code",
            "execution_count": null,
            "metadata": {
                "vscode": {
                    "languageId": "r"
                }
            },
            "outputs": [],
            "source": [
                "# plot size\n",
                "options(repr.plot.width=15, repr.plot.height=20)\n",
                "# change margins\n",
                "par(mar = c(1, 1, 1, 1))\n",
                "\n",
                "model_heatmap <- (\n",
                "        Heatmap(\n",
                "        t(mat), \n",
                "        cluster_rows = TRUE,    # Cluster rows\n",
                "        cluster_columns = TRUE, # Cluster columns\n",
                "        show_row_names = TRUE,  # Show row names\n",
                "        show_column_names = TRUE, # Show column names\n",
                "        column_names_gp = gpar(fontsize = 16), # Column name label formatting\n",
                "        row_names_gp = gpar(fontsize = 14),    # Row name label formatting\n",
                "        right_annotation = row_ha,\n",
                "        bottom_annotation = column_ha,\n",
                "        # rename fill legend\n",
                "        heatmap_legend_param = list(title = \"Coef\", title_position = \"topcenter\", title_gp = gpar(fontsize = 16)),\n",
                "        column_names_max_height = unit(7, \"in\"),\n",
                "        row_names_max_width = unit(5.5, \"in\"),\n",
                "        # color bar text size bigger\n",
                "        )     \n",
                ")\n",
                "\n",
                "# ggplotify model_heatmap\n",
                "model_heatmap <- as.ggplot(model_heatmap)\n",
                "model_heatmap <- model_heatmap +   theme(plot.margin = unit(c(1, 1, 1, 1), \"cm\"))\n",
                "\n",
                "# save the figure\n",
                "ggsave(file = paste0(figure_path, \"filtered_features.png\"), plot = model_heatmap, width = 15, height = 20, units = \"in\", dpi = 500)\n",
                "\n",
                "model_heatmap\n"
            ]
        }
    ],
    "metadata": {
        "kernelspec": {
            "display_name": "R",
            "language": "R",
            "name": "ir"
        },
        "language_info": {
            "codemirror_mode": "r",
            "file_extension": ".r",
            "mimetype": "text/x-r-source",
            "name": "R",
            "pygments_lexer": "r",
            "version": "4.2.2"
        },
        "orig_nbformat": 4
    },
    "nbformat": 4,
    "nbformat_minor": 2
}
