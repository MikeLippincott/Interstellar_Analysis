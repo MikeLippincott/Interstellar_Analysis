{
    "cells": [
        {
            "cell_type": "markdown",
            "metadata": {},
            "source": [
                "## This notebook pre-processes the results of the model performance evaluation to be used in the model performance visualization notebook."
            ]
        },
        {
            "cell_type": "code",
            "execution_count": 1,
            "metadata": {},
            "outputs": [],
            "source": [
                "import pathlib\n",
                "\n",
                "import numpy as np\n",
                "import pandas as pd"
            ]
        },
        {
            "cell_type": "code",
            "execution_count": 2,
            "metadata": {},
            "outputs": [],
            "source": [
                "cell_type = \"PBMC\""
            ]
        },
        {
            "cell_type": "code",
            "execution_count": 3,
            "metadata": {},
            "outputs": [],
            "source": [
                "# set path of models\n",
                "model_path = pathlib.Path(f\"../../3.model_coefficients/results/regression/{cell_type}/\")\n",
                "# output all models path\n",
                "output_path = pathlib.Path(f\"../results/regression/{cell_type}/\")\n",
                "output_path.mkdir(parents=True, exist_ok=True)"
            ]
        },
        {
            "cell_type": "code",
            "execution_count": 4,
            "metadata": {},
            "outputs": [],
            "source": [
                "# declare a blank dataframe to store all the model performance\n",
                "all_model_performance = pd.DataFrame()"
            ]
        },
        {
            "cell_type": "code",
            "execution_count": 5,
            "metadata": {},
            "outputs": [],
            "source": [
                "for model_file in model_path.glob(\"*.csv\"):\n",
                "    all_model_performance = pd.concat(\n",
                "        # concat the model performance\n",
                "        [all_model_performance, pd.read_csv(model_file)]\n",
                "    )"
            ]
        },
        {
            "cell_type": "code",
            "execution_count": 6,
            "metadata": {},
            "outputs": [],
            "source": [
                "# all_model_performance write to csv\n",
                "all_model_performance.to_csv(\n",
                "    output_path / f\"all_model_performance.csv\",\n",
                "    index=False,\n",
                ")"
            ]
        }
    ],
    "metadata": {
        "kernelspec": {
            "display_name": "Interstellar",
            "language": "python",
            "name": "python3"
        },
        "language_info": {
            "codemirror_mode": {
                "name": "ipython",
                "version": 3
            },
            "file_extension": ".py",
            "mimetype": "text/x-python",
            "name": "python",
            "nbconvert_exporter": "python",
            "pygments_lexer": "ipython3",
            "version": "3.10.14"
        },
        "orig_nbformat": 4
    },
    "nbformat": 4,
    "nbformat_minor": 2
}
