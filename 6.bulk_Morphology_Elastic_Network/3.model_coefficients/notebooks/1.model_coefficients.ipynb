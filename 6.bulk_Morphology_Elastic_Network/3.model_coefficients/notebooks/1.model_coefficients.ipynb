{
    "cells": [
        {
            "cell_type": "code",
            "execution_count": 1,
            "metadata": {},
            "outputs": [],
            "source": [
                "import pathlib\n",
                "\n",
                "import joblib\n",
                "import matplotlib.pyplot as plt\n",
                "import numpy as np\n",
                "import pandas as pd\n",
                "import seaborn as sns"
            ]
        },
        {
            "cell_type": "code",
            "execution_count": 2,
            "metadata": {},
            "outputs": [],
            "source": [
                "cell_type = \"SHSY5Y\""
            ]
        },
        {
            "cell_type": "code",
            "execution_count": 3,
            "metadata": {},
            "outputs": [],
            "source": [
                "# set import paths\n",
                "model_path = pathlib.Path(\n",
                "    f\"../../1.train_models/models/regression/{cell_type}/aggregated_with_nomic/IL-1 beta [NSU]_final__all_nomic.joblib\"\n",
                ")\n",
                "\n",
                "# set and create output paths\n",
                "output_path = pathlib.Path(f\"../results/regression/{cell_type}/\")\n",
                "output_path.mkdir(parents=True, exist_ok=True)"
            ]
        },
        {
            "cell_type": "code",
            "execution_count": 4,
            "metadata": {},
            "outputs": [
                {
                    "data": {
                        "text/plain": [
                            "PosixPath('../../1.train_models/models/regression/SHSY5Y/aggregated_with_nomic/Mesothelin [NSU]_final__all_nomic.joblib')"
                        ]
                    },
                    "execution_count": 4,
                    "metadata": {},
                    "output_type": "execute_result"
                }
            ],
            "source": [
                "# set path of models\n",
                "model_path = pathlib.Path(\n",
                "    f\"../../1.train_models/models/regression/{cell_type}/aggregated_with_nomic/\"\n",
                ")\n",
                "# get the list of files in the directory\n",
                "model_files = list(model_path.glob(\"*.joblib\"))\n",
                "for model_file in model_files:\n",
                "    pass\n",
                "model_file"
            ]
        },
        {
            "cell_type": "code",
            "execution_count": 5,
            "metadata": {},
            "outputs": [],
            "source": [
                "for model_file in model_files:\n",
                "    # import model\n",
                "    model = joblib.load(model_file)\n",
                "    # create a df with the coefficients\n",
                "    df_coefficients = pd.DataFrame(\n",
                "        model.coef_, index=model.feature_names_in_, columns=[\"coefficients\"]\n",
                "    )\n",
                "    # sort by absolute value of coefficients\n",
                "    df_coefficients = df_coefficients.reindex(\n",
                "        df_coefficients[\"coefficients\"].abs().sort_values(ascending=False).index\n",
                "    )\n",
                "\n",
                "    df_coefficients.head(10)\n",
                "    df_coefficients[\"secreted_proteins\"] = \"IL-1 beta [NSU]\"\n",
                "    df_coefficients[\"shuffle\"] = \"final\"\n",
                "    df_coefficients[\"cell_type\"] = cell_type\n",
                "    df_coefficients[\"alpha\"] = model.alpha_\n",
                "    df_coefficients[\"l1_ratio\"] = model.l1_ratio_\n",
                "    df_coefficients.reset_index(inplace=True)\n",
                "    df_coefficients.rename(columns={\"index\": \"feature_names\"}, inplace=True)\n",
                "\n",
                "    # get the file name of the model\n",
                "    # replace the joblib ending with csv\n",
                "    file_name = pathlib.Path(model_file).name.replace(\".joblib\", \".csv\")\n",
                "    # create the output path\n",
                "    df_coefficients.to_csv(output_path / file_name, index=False)"
            ]
        }
    ],
    "metadata": {
        "kernelspec": {
            "display_name": "Interstellar",
            "language": "python",
            "name": "python3"
        },
        "language_info": {
            "codemirror_mode": {
                "name": "ipython",
                "version": 3
            },
            "file_extension": ".py",
            "mimetype": "text/x-python",
            "name": "python",
            "nbconvert_exporter": "python",
            "pygments_lexer": "ipython3",
            "version": "3.10.12"
        },
        "orig_nbformat": 4
    },
    "nbformat": 4,
    "nbformat_minor": 2
}
