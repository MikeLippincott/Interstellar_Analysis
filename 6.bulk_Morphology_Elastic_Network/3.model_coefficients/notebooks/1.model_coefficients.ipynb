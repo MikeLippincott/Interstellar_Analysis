{
    "cells": [
        {
            "cell_type": "code",
            "execution_count": 1,
            "metadata": {},
            "outputs": [],
            "source": [
                "import pathlib\n",
                "\n",
                "import joblib\n",
                "import numpy as np\n",
                "import pandas as pd"
            ]
        },
        {
            "cell_type": "code",
            "execution_count": 2,
            "metadata": {},
            "outputs": [],
            "source": [
                "cell_type = \"PBMC\""
            ]
        },
        {
            "cell_type": "code",
            "execution_count": 3,
            "metadata": {},
            "outputs": [],
            "source": [
                "# set and create output paths\n",
                "output_path = pathlib.Path(f\"../results/regression/{cell_type}/\")\n",
                "output_path.mkdir(parents=True, exist_ok=True)"
            ]
        },
        {
            "cell_type": "code",
            "execution_count": 4,
            "metadata": {},
            "outputs": [],
            "source": [
                "# set path of models\n",
                "model_path = pathlib.Path(\n",
                "    f\"../../1.train_models/models/regression/{cell_type}/aggregated_with_nomic/\"\n",
                ")\n",
                "model_stats_path = pathlib.Path(\n",
                "    f\"../../2.test_model/results/regression/{cell_type}/aggregated_with_nomic/\"\n",
                ")"
            ]
        },
        {
            "cell_type": "code",
            "execution_count": 15,
            "metadata": {},
            "outputs": [],
            "source": [
                "for model_file in list(model_path.glob(\"*.joblib\")):\n",
                "    # get the basename of the model to load the test results too\n",
                "    basename = pathlib.Path(model_file).name\n",
                "    basename = basename.split(\"__\")[0] + \"_variance_r2_stats.csv\"\n",
                "    test_results_file = pathlib.Path(model_stats_path / basename)\n",
                "    # load the test results\n",
                "    df_test_results = pd.read_csv(test_results_file)\n",
                "    # get the r2 score\n",
                "    r2 = df_test_results.loc[(df_test_results[\"data_split\"] == \"test_data\")][\n",
                "        \"r2\"\n",
                "    ].unique()[0]\n",
                "    r2 = np.float64(r2.strip(\"[]\"))\n",
                "    assert r2.dtype == np.float64\n",
                "    # import model\n",
                "    model = joblib.load(model_file)\n",
                "    # create a df with the coefficients\n",
                "    df_coefficients = pd.DataFrame(\n",
                "        model.coef_, index=model.feature_names_in_, columns=[\"coefficients\"]\n",
                "    )\n",
                "\n",
                "    # print(basename.split(\"_\")[0], \"__\",basename.split(\"_\")[1])\n",
                "\n",
                "    # sort by absolute value of coefficients\n",
                "    df_coefficients = df_coefficients.reindex(\n",
                "        df_coefficients[\"coefficients\"].abs().sort_values(ascending=False).index\n",
                "    )\n",
                "    df_coefficients[\"secreted_proteins\"] = basename.split(\"_\")[0]\n",
                "    if basename.split(\"_\")[1] != \"shuffled\" and basename.split(\"_\")[1] != \"final\":\n",
                "        df_coefficients[\"shuffle\"] = basename.split(\"_\")[2]\n",
                "    else:\n",
                "        df_coefficients[\"shuffle\"] = basename.split(\"_\")[1]\n",
                "    df_coefficients[\"cell_type\"] = cell_type\n",
                "    df_coefficients[\"alpha\"] = model.alpha_\n",
                "    df_coefficients[\"l1_ratio\"] = model.l1_ratio_\n",
                "    df_coefficients = df_coefficients.reset_index()\n",
                "    df_coefficients = df_coefficients.rename(\n",
                "        columns={\"index\": \"feature_names\"},\n",
                "    )\n",
                "    df_coefficients[\"r2\"] = r2\n",
                "    # get the file name of the model\n",
                "    # replace the joblib ending with csv\n",
                "    file_name = pathlib.Path(model_file).name.replace(\".joblib\", \".csv\")\n",
                "    # write the output path\n",
                "    df_coefficients.to_csv(output_path / file_name, index=False)"
            ]
        }
    ],
    "metadata": {
        "kernelspec": {
            "display_name": "Interstellar",
            "language": "python",
            "name": "python3"
        },
        "language_info": {
            "codemirror_mode": {
                "name": "ipython",
                "version": 3
            },
            "file_extension": ".py",
            "mimetype": "text/x-python",
            "name": "python",
            "nbconvert_exporter": "python",
            "pygments_lexer": "ipython3",
            "version": "3.10.12"
        },
        "orig_nbformat": 4
    },
    "nbformat": 4,
    "nbformat_minor": 2
}
