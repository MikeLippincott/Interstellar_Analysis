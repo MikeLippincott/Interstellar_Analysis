{
 "cells": [
  {
   "cell_type": "code",
   "execution_count": 18,
   "id": "2a0c7e4f",
   "metadata": {
    "execution": {
     "iopub.execute_input": "2023-09-11T21:57:19.917557Z",
     "iopub.status.busy": "2023-09-11T21:57:19.917258Z",
     "iopub.status.idle": "2023-09-11T21:57:21.143151Z",
     "shell.execute_reply": "2023-09-11T21:57:21.142674Z"
    },
    "papermill": {
     "duration": 1.231064,
     "end_time": "2023-09-11T21:57:21.144519",
     "exception": false,
     "start_time": "2023-09-11T21:57:19.913455",
     "status": "completed"
    },
    "tags": []
   },
   "outputs": [],
   "source": [
    "import argparse\n",
    "import itertools\n",
    "import pathlib\n",
    "\n",
    "import numpy as np\n",
    "import pandas as pd\n",
    "import pyarrow.parquet as pq\n",
    "import toml\n",
    "from joblib import dump\n",
    "from sklearn.exceptions import ConvergenceWarning\n",
    "from sklearn.linear_model import LogisticRegression\n",
    "from sklearn.model_selection import GridSearchCV, StratifiedKFold, train_test_split"
   ]
  },
  {
   "cell_type": "code",
   "execution_count": null,
   "id": "8d82e593",
   "metadata": {},
   "outputs": [],
   "source": [
    "argparser = argparse.ArgumentParser()\n",
    "argparser.add_argument(\"--cell_type\", default=\"all\")\n",
    "\n",
    "args = argparser.parse_args()\n",
    "\n",
    "cell_type = args.cell_type"
   ]
  },
  {
   "cell_type": "code",
   "execution_count": 20,
   "id": "f9a6e539",
   "metadata": {
    "execution": {
     "iopub.execute_input": "2023-09-11T21:57:21.151925Z",
     "iopub.status.busy": "2023-09-11T21:57:21.151283Z",
     "iopub.status.idle": "2023-09-11T21:57:21.154028Z",
     "shell.execute_reply": "2023-09-11T21:57:21.153546Z"
    },
    "papermill": {
     "duration": 0.00742,
     "end_time": "2023-09-11T21:57:21.154977",
     "exception": false,
     "start_time": "2023-09-11T21:57:21.147557",
     "status": "completed"
    },
    "tags": [
     "injected-parameters"
    ]
   },
   "outputs": [],
   "source": [
    "# Parameters\n",
    "aggregation = True\n",
    "nomic = True"
   ]
  },
  {
   "cell_type": "code",
   "execution_count": 21,
   "id": "dc112da1",
   "metadata": {
    "execution": {
     "iopub.execute_input": "2023-09-11T21:57:21.161187Z",
     "iopub.status.busy": "2023-09-11T21:57:21.160825Z",
     "iopub.status.idle": "2023-09-11T21:57:21.163154Z",
     "shell.execute_reply": "2023-09-11T21:57:21.162785Z"
    },
    "papermill": {
     "duration": 0.006274,
     "end_time": "2023-09-11T21:57:21.164042",
     "exception": false,
     "start_time": "2023-09-11T21:57:21.157768",
     "status": "completed"
    },
    "tags": []
   },
   "outputs": [],
   "source": [
    "MODEL_TYPE = \"regression\""
   ]
  },
  {
   "cell_type": "code",
   "execution_count": 22,
   "id": "21983dd6",
   "metadata": {
    "execution": {
     "iopub.execute_input": "2023-09-11T21:57:21.169938Z",
     "iopub.status.busy": "2023-09-11T21:57:21.169550Z",
     "iopub.status.idle": "2023-09-11T21:57:21.172477Z",
     "shell.execute_reply": "2023-09-11T21:57:21.172099Z"
    },
    "papermill": {
     "duration": 0.006759,
     "end_time": "2023-09-11T21:57:21.173359",
     "exception": false,
     "start_time": "2023-09-11T21:57:21.166600",
     "status": "completed"
    },
    "tags": []
   },
   "outputs": [],
   "source": [
    "# toml file path\n",
    "TOML_PATH = pathlib.Path(\"../splits.toml\")\n",
    "# read toml file via toml\n",
    "data_splits_by_treatments = toml.load(TOML_PATH)\n",
    "\n",
    "# define the 100% test set data treatments\n",
    "test_100_percent = data_splits_by_treatments[\"splits\"][\"data_splits_100\"]\n",
    "test_75_percent = data_splits_by_treatments[\"splits\"][\"data_splits_75\"]"
   ]
  },
  {
   "cell_type": "code",
   "execution_count": 23,
   "id": "ae396783",
   "metadata": {
    "execution": {
     "iopub.execute_input": "2023-09-11T21:57:21.179204Z",
     "iopub.status.busy": "2023-09-11T21:57:21.178865Z",
     "iopub.status.idle": "2023-09-11T21:58:31.338498Z",
     "shell.execute_reply": "2023-09-11T21:58:31.338008Z"
    },
    "papermill": {
     "duration": 70.166479,
     "end_time": "2023-09-11T21:58:31.342435",
     "exception": false,
     "start_time": "2023-09-11T21:57:21.175956",
     "status": "completed"
    },
    "tags": []
   },
   "outputs": [
    {
     "data": {
      "text/html": [
       "<div>\n",
       "<style scoped>\n",
       "    .dataframe tbody tr th:only-of-type {\n",
       "        vertical-align: middle;\n",
       "    }\n",
       "\n",
       "    .dataframe tbody tr th {\n",
       "        vertical-align: top;\n",
       "    }\n",
       "\n",
       "    .dataframe thead th {\n",
       "        text-align: right;\n",
       "    }\n",
       "</style>\n",
       "<table border=\"1\" class=\"dataframe\">\n",
       "  <thead>\n",
       "    <tr style=\"text-align: right;\">\n",
       "      <th></th>\n",
       "      <th>Metadata_Well</th>\n",
       "      <th>Cytoplasm_AreaShape_Compactness</th>\n",
       "      <th>Cytoplasm_AreaShape_Eccentricity</th>\n",
       "      <th>Cytoplasm_AreaShape_Extent</th>\n",
       "      <th>Cytoplasm_AreaShape_FormFactor</th>\n",
       "      <th>Cytoplasm_AreaShape_MajorAxisLength</th>\n",
       "      <th>Cytoplasm_AreaShape_MinorAxisLength</th>\n",
       "      <th>Cytoplasm_AreaShape_Orientation</th>\n",
       "      <th>Cytoplasm_AreaShape_Zernike_0_0</th>\n",
       "      <th>Cytoplasm_AreaShape_Zernike_1_1</th>\n",
       "      <th>...</th>\n",
       "      <th>uPA [NSU]</th>\n",
       "      <th>VCAM-1 [NSU]</th>\n",
       "      <th>VEGF Receptor 2 (Flk-1) [NSU]</th>\n",
       "      <th>VEGF-A (165) [NSU]</th>\n",
       "      <th>VEGF-C [NSU]</th>\n",
       "      <th>VEGF-D [NSU]</th>\n",
       "      <th>VEGFR-1 [NSU]</th>\n",
       "      <th>WISP-1 (CCN4) [NSU]</th>\n",
       "      <th>XCL1 (Lymphotactin) [NSU]</th>\n",
       "      <th>fourb_Metadata_Treatment_Dose_Inhibitor_Dose</th>\n",
       "    </tr>\n",
       "  </thead>\n",
       "  <tbody>\n",
       "    <tr>\n",
       "      <th>0</th>\n",
       "      <td>B14</td>\n",
       "      <td>-0.063223</td>\n",
       "      <td>-0.001418</td>\n",
       "      <td>0.035864</td>\n",
       "      <td>0.036794</td>\n",
       "      <td>0.037936</td>\n",
       "      <td>0.031201</td>\n",
       "      <td>-0.012884</td>\n",
       "      <td>0.028338</td>\n",
       "      <td>0.019985</td>\n",
       "      <td>...</td>\n",
       "      <td>0.114937</td>\n",
       "      <td>0.222551</td>\n",
       "      <td>0.534935</td>\n",
       "      <td>0.403588</td>\n",
       "      <td>0.213858</td>\n",
       "      <td>0.201769</td>\n",
       "      <td>0.577968</td>\n",
       "      <td>0.733987</td>\n",
       "      <td>0.763760</td>\n",
       "      <td>DMSO__0.100__DMSO__0.025</td>\n",
       "    </tr>\n",
       "    <tr>\n",
       "      <th>1</th>\n",
       "      <td>B15</td>\n",
       "      <td>-0.062009</td>\n",
       "      <td>0.001236</td>\n",
       "      <td>0.044042</td>\n",
       "      <td>0.030464</td>\n",
       "      <td>-0.002026</td>\n",
       "      <td>0.006311</td>\n",
       "      <td>0.010789</td>\n",
       "      <td>0.030538</td>\n",
       "      <td>0.022751</td>\n",
       "      <td>...</td>\n",
       "      <td>0.214721</td>\n",
       "      <td>0.723799</td>\n",
       "      <td>0.592903</td>\n",
       "      <td>0.287432</td>\n",
       "      <td>0.375582</td>\n",
       "      <td>0.577606</td>\n",
       "      <td>0.554267</td>\n",
       "      <td>0.457302</td>\n",
       "      <td>0.298807</td>\n",
       "      <td>DMSO__0.100__DMSO__0.025</td>\n",
       "    </tr>\n",
       "    <tr>\n",
       "      <th>2</th>\n",
       "      <td>B16</td>\n",
       "      <td>-0.031699</td>\n",
       "      <td>0.047344</td>\n",
       "      <td>-0.003990</td>\n",
       "      <td>0.002975</td>\n",
       "      <td>0.115183</td>\n",
       "      <td>0.070404</td>\n",
       "      <td>-0.007908</td>\n",
       "      <td>-0.010212</td>\n",
       "      <td>-0.004997</td>\n",
       "      <td>...</td>\n",
       "      <td>0.104669</td>\n",
       "      <td>0.483786</td>\n",
       "      <td>0.324065</td>\n",
       "      <td>0.174874</td>\n",
       "      <td>0.188023</td>\n",
       "      <td>0.427482</td>\n",
       "      <td>0.702465</td>\n",
       "      <td>0.502791</td>\n",
       "      <td>0.336315</td>\n",
       "      <td>LPS__0.010__DMSO__0.025</td>\n",
       "    </tr>\n",
       "    <tr>\n",
       "      <th>3</th>\n",
       "      <td>B17</td>\n",
       "      <td>-0.045468</td>\n",
       "      <td>0.038261</td>\n",
       "      <td>0.034279</td>\n",
       "      <td>0.023820</td>\n",
       "      <td>0.163262</td>\n",
       "      <td>0.120615</td>\n",
       "      <td>-0.000391</td>\n",
       "      <td>0.018250</td>\n",
       "      <td>-0.015776</td>\n",
       "      <td>...</td>\n",
       "      <td>0.105744</td>\n",
       "      <td>0.266150</td>\n",
       "      <td>0.396018</td>\n",
       "      <td>0.000000</td>\n",
       "      <td>0.203170</td>\n",
       "      <td>0.652367</td>\n",
       "      <td>0.510090</td>\n",
       "      <td>0.703775</td>\n",
       "      <td>0.283843</td>\n",
       "      <td>LPS__0.010__DMSO__0.025</td>\n",
       "    </tr>\n",
       "    <tr>\n",
       "      <th>4</th>\n",
       "      <td>B18</td>\n",
       "      <td>-0.050341</td>\n",
       "      <td>0.055021</td>\n",
       "      <td>0.077588</td>\n",
       "      <td>0.038459</td>\n",
       "      <td>0.425906</td>\n",
       "      <td>0.355382</td>\n",
       "      <td>0.015133</td>\n",
       "      <td>0.035574</td>\n",
       "      <td>-0.010523</td>\n",
       "      <td>...</td>\n",
       "      <td>0.345951</td>\n",
       "      <td>0.274663</td>\n",
       "      <td>0.756694</td>\n",
       "      <td>0.372978</td>\n",
       "      <td>0.242493</td>\n",
       "      <td>0.428503</td>\n",
       "      <td>0.503385</td>\n",
       "      <td>0.550132</td>\n",
       "      <td>0.358411</td>\n",
       "      <td>LPS_Nigericin__100.000_1.0__DMSO__0.025</td>\n",
       "    </tr>\n",
       "  </tbody>\n",
       "</table>\n",
       "<p>5 rows × 1441 columns</p>\n",
       "</div>"
      ],
      "text/plain": [
       "  Metadata_Well  Cytoplasm_AreaShape_Compactness  \\\n",
       "0           B14                        -0.063223   \n",
       "1           B15                        -0.062009   \n",
       "2           B16                        -0.031699   \n",
       "3           B17                        -0.045468   \n",
       "4           B18                        -0.050341   \n",
       "\n",
       "   Cytoplasm_AreaShape_Eccentricity  Cytoplasm_AreaShape_Extent  \\\n",
       "0                         -0.001418                    0.035864   \n",
       "1                          0.001236                    0.044042   \n",
       "2                          0.047344                   -0.003990   \n",
       "3                          0.038261                    0.034279   \n",
       "4                          0.055021                    0.077588   \n",
       "\n",
       "   Cytoplasm_AreaShape_FormFactor  Cytoplasm_AreaShape_MajorAxisLength  \\\n",
       "0                        0.036794                             0.037936   \n",
       "1                        0.030464                            -0.002026   \n",
       "2                        0.002975                             0.115183   \n",
       "3                        0.023820                             0.163262   \n",
       "4                        0.038459                             0.425906   \n",
       "\n",
       "   Cytoplasm_AreaShape_MinorAxisLength  Cytoplasm_AreaShape_Orientation  \\\n",
       "0                             0.031201                        -0.012884   \n",
       "1                             0.006311                         0.010789   \n",
       "2                             0.070404                        -0.007908   \n",
       "3                             0.120615                        -0.000391   \n",
       "4                             0.355382                         0.015133   \n",
       "\n",
       "   Cytoplasm_AreaShape_Zernike_0_0  Cytoplasm_AreaShape_Zernike_1_1  ...  \\\n",
       "0                         0.028338                         0.019985  ...   \n",
       "1                         0.030538                         0.022751  ...   \n",
       "2                        -0.010212                        -0.004997  ...   \n",
       "3                         0.018250                        -0.015776  ...   \n",
       "4                         0.035574                        -0.010523  ...   \n",
       "\n",
       "   uPA [NSU]  VCAM-1 [NSU]  VEGF Receptor 2 (Flk-1) [NSU]  VEGF-A (165) [NSU]  \\\n",
       "0   0.114937      0.222551                       0.534935            0.403588   \n",
       "1   0.214721      0.723799                       0.592903            0.287432   \n",
       "2   0.104669      0.483786                       0.324065            0.174874   \n",
       "3   0.105744      0.266150                       0.396018            0.000000   \n",
       "4   0.345951      0.274663                       0.756694            0.372978   \n",
       "\n",
       "   VEGF-C [NSU]  VEGF-D [NSU]  VEGFR-1 [NSU]  WISP-1 (CCN4) [NSU]  \\\n",
       "0      0.213858      0.201769       0.577968             0.733987   \n",
       "1      0.375582      0.577606       0.554267             0.457302   \n",
       "2      0.188023      0.427482       0.702465             0.502791   \n",
       "3      0.203170      0.652367       0.510090             0.703775   \n",
       "4      0.242493      0.428503       0.503385             0.550132   \n",
       "\n",
       "   XCL1 (Lymphotactin) [NSU]  fourb_Metadata_Treatment_Dose_Inhibitor_Dose  \n",
       "0                   0.763760                      DMSO__0.100__DMSO__0.025  \n",
       "1                   0.298807                      DMSO__0.100__DMSO__0.025  \n",
       "2                   0.336315                       LPS__0.010__DMSO__0.025  \n",
       "3                   0.283843                       LPS__0.010__DMSO__0.025  \n",
       "4                   0.358411       LPS_Nigericin__100.000_1.0__DMSO__0.025  \n",
       "\n",
       "[5 rows x 1441 columns]"
      ]
     },
     "execution_count": 23,
     "metadata": {},
     "output_type": "execute_result"
    }
   ],
   "source": [
    "path = pathlib.Path(\n",
    "    f\"../../../data/{cell_type}_preprocessed_sc_norm_aggregated.parquet\"\n",
    ")\n",
    "\n",
    "data_df = pq.read_table(path).to_pandas()\n",
    "\n",
    "data_df.head()"
   ]
  },
  {
   "cell_type": "code",
   "execution_count": 24,
   "id": "3c7f01ba",
   "metadata": {
    "execution": {
     "iopub.execute_input": "2023-09-11T21:58:31.371631Z",
     "iopub.status.busy": "2023-09-11T21:58:31.371229Z",
     "iopub.status.idle": "2023-09-11T21:58:44.573624Z",
     "shell.execute_reply": "2023-09-11T21:58:44.573120Z"
    },
    "papermill": {
     "duration": 13.20729,
     "end_time": "2023-09-11T21:58:44.575068",
     "exception": false,
     "start_time": "2023-09-11T21:58:31.367778",
     "status": "completed"
    },
    "tags": []
   },
   "outputs": [],
   "source": [
    "# subset each column that contains metadata\n",
    "metadata = data_df.filter(regex=\"Metadata\")\n",
    "\n",
    "# get all columns that are not metadata except for metadata_Well\n",
    "data = data_df.drop(metadata.columns, axis=1)\n",
    "\n",
    "# get the metadata_Well column\n",
    "metadata_well = metadata[\n",
    "    [\"Metadata_Well\", \"oneb_Metadata_Treatment_Dose_Inhibitor_Dose\"]\n",
    "]\n",
    "\n",
    "data_df = pd.merge(data, metadata_well, left_index=True, right_index=True)"
   ]
  },
  {
   "cell_type": "markdown",
   "id": "8d2cc57e",
   "metadata": {
    "execution": {
     "iopub.execute_input": "2023-07-23T19:05:37.280541Z",
     "iopub.status.busy": "2023-07-23T19:05:37.280345Z",
     "iopub.status.idle": "2023-07-23T19:05:37.282628Z",
     "shell.execute_reply": "2023-07-23T19:05:37.282294Z"
    },
    "papermill": {
     "duration": 0.002632,
     "end_time": "2023-09-11T21:59:00.353507",
     "exception": false,
     "start_time": "2023-09-11T21:59:00.350875",
     "status": "completed"
    },
    "tags": []
   },
   "source": [
    "This model and code is both inspired and reused from: https://github.com/WayScience/phenotypic_profiling_model/blob/main/1.split_data/split_data.ipynb\n",
    "The bulk of this work was done by **Roshan Kern** I have only made minor changes to the code to make it more modular and easier to use for my purposes."
   ]
  },
  {
   "cell_type": "code",
   "execution_count": 25,
   "id": "4eee6f0a",
   "metadata": {
    "execution": {
     "iopub.execute_input": "2023-09-11T21:59:00.368914Z",
     "iopub.status.busy": "2023-09-11T21:59:00.368646Z",
     "iopub.status.idle": "2023-09-11T21:59:00.539747Z",
     "shell.execute_reply": "2023-09-11T21:59:00.539326Z"
    },
    "papermill": {
     "duration": 0.175134,
     "end_time": "2023-09-11T21:59:00.540663",
     "exception": false,
     "start_time": "2023-09-11T21:59:00.365529",
     "status": "completed"
    },
    "tags": []
   },
   "outputs": [
    {
     "data": {
      "text/plain": [
       "array(['DMSO_0.100_DMSO_0.025', 'LPS_0.010_DMSO_0.025',\n",
       "       'LPS_Nigericin_100.000_1.0_DMSO_0.025', 'LPS_0.100_DMSO_0.025',\n",
       "       'LPS_Nigericin_100.000_3.0_DMSO_0.025',\n",
       "       'Thapsigargin_1.000_DMSO_0.025', 'LPS_1.000_DMSO_0.025',\n",
       "       'LPS_Nigericin_100.000_10.0_DMSO_0.025',\n",
       "       'Thapsigargin_10.000_DMSO_0.025', 'LPS_10.000_DMSO_0.025',\n",
       "       'Disulfiram_0.100_DMSO_0.025', 'Topotecan_5.000_DMSO_0.025',\n",
       "       'Disulfiram_1.000_DMSO_0.025', 'Topotecan_10.000_DMSO_0.025',\n",
       "       'Disulfiram_2.500_DMSO_0.025', 'Topotecan_20.000_DMSO_0.025',\n",
       "       'H2O2_100.000_DMSO_0.025', 'LPS_100.000_DMSO_0.025',\n",
       "       'LPS_Nigericin_1.000_1.0_DMSO_0.025',\n",
       "       'LPS_Nigericin_1.000_3.0_DMSO_0.025', 'Flagellin_0.100_DMSO_0.025',\n",
       "       'LPS_Nigericin_1.000_10.0_DMSO_0.025',\n",
       "       'Flagellin_1.000_DMSO_0.025'], dtype=object)"
      ]
     },
     "execution_count": 25,
     "metadata": {},
     "output_type": "execute_result"
    }
   ],
   "source": [
    "data_df[\"oneb_Metadata_Treatment_Dose_Inhibitor_Dose\"].unique()"
   ]
  },
  {
   "cell_type": "code",
   "execution_count": 26,
   "id": "50808746",
   "metadata": {
    "execution": {
     "iopub.execute_input": "2023-09-11T21:59:00.547529Z",
     "iopub.status.busy": "2023-09-11T21:59:00.547030Z",
     "iopub.status.idle": "2023-09-11T21:59:13.767306Z",
     "shell.execute_reply": "2023-09-11T21:59:13.766852Z"
    },
    "papermill": {
     "duration": 13.224733,
     "end_time": "2023-09-11T21:59:13.768263",
     "exception": false,
     "start_time": "2023-09-11T21:59:00.543530",
     "status": "completed"
    },
    "tags": []
   },
   "outputs": [
    {
     "name": "stdout",
     "output_type": "stream",
     "text": [
      "(8, 1440) (8, 1440) (84, 1440)\n"
     ]
    }
   ],
   "source": [
    "# variable test and train set splits\n",
    "# 100% test set\n",
    "# subset the following treatments for test set\n",
    "test_set_all = data_df[\n",
    "    data_df[\"oneb_Metadata_Treatment_Dose_Inhibitor_Dose\"].isin(test_100_percent)\n",
    "]\n",
    "# 75% test set and 25% train set\n",
    "test_set_75 = data_df[\n",
    "    data_df[\"oneb_Metadata_Treatment_Dose_Inhibitor_Dose\"].isin(test_75_percent)\n",
    "]\n",
    "\n",
    "# 50% test set and 50% train set\n",
    "# get all treatments that are not in the_test_set_all and the test_set_75\n",
    "test_set_50 = data_df[\n",
    "    ~data_df[\"oneb_Metadata_Treatment_Dose_Inhibitor_Dose\"].isin(\n",
    "        test_set_all[\"oneb_Metadata_Treatment_Dose_Inhibitor_Dose\"]\n",
    "    )\n",
    "]\n",
    "test_set_50 = test_set_50[\n",
    "    ~test_set_50[\"oneb_Metadata_Treatment_Dose_Inhibitor_Dose\"].isin(\n",
    "        test_set_75[\"oneb_Metadata_Treatment_Dose_Inhibitor_Dose\"]\n",
    "    )\n",
    "]\n",
    "\n",
    "print(test_set_all.shape, test_set_75.shape, test_set_50.shape)"
   ]
  },
  {
   "cell_type": "code",
   "execution_count": 27,
   "id": "852dffa4",
   "metadata": {
    "execution": {
     "iopub.execute_input": "2023-09-11T21:59:13.775667Z",
     "iopub.status.busy": "2023-09-11T21:59:13.775230Z",
     "iopub.status.idle": "2023-09-11T21:59:43.333237Z",
     "shell.execute_reply": "2023-09-11T21:59:43.332756Z"
    },
    "papermill": {
     "duration": 29.562611,
     "end_time": "2023-09-11T21:59:43.334201",
     "exception": false,
     "start_time": "2023-09-11T21:59:13.771590",
     "status": "completed"
    },
    "tags": []
   },
   "outputs": [
    {
     "name": "stdout",
     "output_type": "stream",
     "text": [
      "Shape for the 100% test set: (8, 1440)\n",
      "\n",
      "Shape for the 75% test set: (2, 1440);\n",
      "Shape for the 75% train set: (6, 1440)\n",
      "\n",
      "Shape for the 50% test set: (42, 1440);\n",
      "Shape for the 50% train set: (42, 1440)\n"
     ]
    }
   ],
   "source": [
    "# get the train test splits from each group\n",
    "# 100% test set\n",
    "test_set_all\n",
    "\n",
    "# 75% test set and 25% train set\n",
    "test_ratio = 0.75\n",
    "training_data_set_75, testing_data_set_75 = train_test_split(\n",
    "    test_set_75,\n",
    "    test_size=test_ratio,\n",
    "    stratify=test_set_75[\"oneb_Metadata_Treatment_Dose_Inhibitor_Dose\"],\n",
    "    random_state=0,\n",
    ")\n",
    "\n",
    "# 50% test set and 50% train set\n",
    "test_ratio = 0.5\n",
    "training_data_set_50, testing_data_set_50 = train_test_split(\n",
    "    test_set_50,\n",
    "    test_size=test_ratio,\n",
    "    stratify=test_set_50[\"oneb_Metadata_Treatment_Dose_Inhibitor_Dose\"],\n",
    "    random_state=0,\n",
    ")\n",
    "\n",
    "# verify that the correct splits have been made\n",
    "# 100% test set\n",
    "print(f\"Shape for the 100% test set: {test_set_all.shape}\\n\")\n",
    "\n",
    "# 75% test set and 25% train set\n",
    "print(\n",
    "    f\"Shape for the 75% test set: {training_data_set_75.shape};\\nShape for the 75% train set: {testing_data_set_75.shape}\\n\"\n",
    ")\n",
    "\n",
    "# 50% test set and 50% train set\n",
    "print(\n",
    "    f\"Shape for the 50% test set: {training_data_set_50.shape};\\nShape for the 50% train set: {testing_data_set_50.shape}\"\n",
    ")"
   ]
  },
  {
   "cell_type": "code",
   "execution_count": 28,
   "id": "4994791d",
   "metadata": {
    "execution": {
     "iopub.execute_input": "2023-09-11T21:59:43.341634Z",
     "iopub.status.busy": "2023-09-11T21:59:43.341227Z",
     "iopub.status.idle": "2023-09-11T22:00:07.325533Z",
     "shell.execute_reply": "2023-09-11T22:00:07.325061Z"
    },
    "papermill": {
     "duration": 23.989043,
     "end_time": "2023-09-11T22:00:07.326533",
     "exception": false,
     "start_time": "2023-09-11T21:59:43.337490",
     "status": "completed"
    },
    "tags": []
   },
   "outputs": [
    {
     "name": "stdout",
     "output_type": "stream",
     "text": [
      "Testing set length: 56\n",
      "Training set length: 44\n"
     ]
    }
   ],
   "source": [
    "# combine all testing sets together while preserving the index\n",
    "testing_data_set = pd.concat(\n",
    "    [test_set_all, testing_data_set_75, testing_data_set_50], axis=0\n",
    ")\n",
    "testing_data_set = testing_data_set.sort_index()\n",
    "testing_data_set\n",
    "\n",
    "# combine all training sets together while preserving the index\n",
    "training_data_set = pd.concat([training_data_set_75, training_data_set_50], axis=0)\n",
    "training_data_set = training_data_set.sort_index()\n",
    "training_data_set\n",
    "\n",
    "print(\n",
    "    f\"Testing set length: {len(testing_data_set)}\\nTraining set length: {len(training_data_set)}\"\n",
    ")\n",
    "\n",
    "# get the indexes for the training and testing sets\n",
    "testing_data_set_index = testing_data_set.index\n",
    "training_data_set_index = training_data_set.index"
   ]
  },
  {
   "cell_type": "code",
   "execution_count": 29,
   "id": "8656f69b",
   "metadata": {
    "execution": {
     "iopub.execute_input": "2023-09-11T22:00:07.333794Z",
     "iopub.status.busy": "2023-09-11T22:00:07.333551Z",
     "iopub.status.idle": "2023-09-11T22:00:09.782222Z",
     "shell.execute_reply": "2023-09-11T22:00:09.781709Z"
    },
    "papermill": {
     "duration": 2.453778,
     "end_time": "2023-09-11T22:00:09.783670",
     "exception": false,
     "start_time": "2023-09-11T22:00:07.329892",
     "status": "completed"
    },
    "tags": []
   },
   "outputs": [],
   "source": [
    "# create pandas dataframe with all indexes and their respective labels, stratified by phenotypic class\n",
    "index_data = []\n",
    "for index in training_data_set_index:\n",
    "    index_data.append({\"labeled_data_index\": index, \"label\": \"train\"})\n",
    "for index in testing_data_set_index:\n",
    "    index_data.append({\"labeled_data_index\": index, \"label\": \"test\"})\n",
    "\n",
    "# make index data a dataframe and sort it by labeled data index\n",
    "index_data = pd.DataFrame(index_data).sort_values([\"labeled_data_index\"])"
   ]
  },
  {
   "cell_type": "code",
   "execution_count": 30,
   "id": "8cf8202b",
   "metadata": {
    "execution": {
     "iopub.execute_input": "2023-09-11T22:00:09.790998Z",
     "iopub.status.busy": "2023-09-11T22:00:09.790548Z",
     "iopub.status.idle": "2023-09-11T22:00:09.794729Z",
     "shell.execute_reply": "2023-09-11T22:00:09.794344Z"
    },
    "papermill": {
     "duration": 0.008771,
     "end_time": "2023-09-11T22:00:09.795595",
     "exception": false,
     "start_time": "2023-09-11T22:00:09.786824",
     "status": "completed"
    },
    "tags": []
   },
   "outputs": [
    {
     "name": "stdout",
     "output_type": "stream",
     "text": [
      "../indexes/SHSY5Y/regression\n"
     ]
    }
   ],
   "source": [
    "# set save path\n",
    "if aggregation == True:\n",
    "    if nomic == True:\n",
    "        save_path = pathlib.Path(f\"../indexes/{cell_type}/{MODEL_TYPE}\")\n",
    "    elif nomic == False:\n",
    "        save_path = pathlib.Path(f\"../indexes/{cell_type}/{MODEL_TYPE}\")\n",
    "elif aggregation == False:\n",
    "    if nomic == True:\n",
    "        save_path = pathlib.Path(f\"../indexes/{cell_type}/{MODEL_TYPE}\")\n",
    "    elif nomic == False:\n",
    "        save_path = pathlib.Path(f\"../indexes/{cell_type}/{MODEL_TYPE}\")\n",
    "else:\n",
    "    print(\"Error\")\n",
    "\n",
    "print(save_path)\n",
    "# create save path if it doesn't exist\n",
    "save_path.mkdir(parents=True, exist_ok=True)"
   ]
  },
  {
   "cell_type": "code",
   "execution_count": 31,
   "id": "aeaadb77",
   "metadata": {
    "execution": {
     "iopub.execute_input": "2023-09-11T22:00:09.802393Z",
     "iopub.status.busy": "2023-09-11T22:00:09.802059Z",
     "iopub.status.idle": "2023-09-11T22:00:13.292993Z",
     "shell.execute_reply": "2023-09-11T22:00:13.292470Z"
    },
    "papermill": {
     "duration": 3.49584,
     "end_time": "2023-09-11T22:00:13.294337",
     "exception": false,
     "start_time": "2023-09-11T22:00:09.798497",
     "status": "completed"
    },
    "tags": []
   },
   "outputs": [],
   "source": [
    "# save indexes as tsv file\n",
    "if aggregation == True:\n",
    "    if nomic == True:\n",
    "        index_data.to_csv(\n",
    "            f\"{save_path}/aggregated_sc_and_nomic_data_split_indexes.tsv\", sep=\"\\t\"\n",
    "        )\n",
    "    elif nomic == False:\n",
    "        index_data.to_csv(f\"{save_path}/aggregated_sc_data_split_indexes.tsv\", sep=\"\\t\")\n",
    "elif aggregation == False:\n",
    "    if nomic == True:\n",
    "        index_data.to_csv(f\"{save_path}/sc_and_nomic_data_split_indexes.tsv\", sep=\"\\t\")\n",
    "    elif nomic == False:\n",
    "        index_data.to_csv(f\"{save_path}/sc_split_indexes.tsv\", sep=\"\\t\")\n",
    "else:\n",
    "    print(\"Error\")"
   ]
  },
  {
   "cell_type": "code",
   "execution_count": null,
   "id": "0aad2be1",
   "metadata": {},
   "outputs": [],
   "source": []
  }
 ],
 "metadata": {
  "jupytext": {
   "formats": "ipynb,../scripts//py:percent"
  },
  "kernelspec": {
   "display_name": "Interstellar",
   "language": "python",
   "name": "python3"
  },
  "language_info": {
   "codemirror_mode": {
    "name": "ipython",
    "version": 3
   },
   "file_extension": ".py",
   "mimetype": "text/x-python",
   "name": "python",
   "nbconvert_exporter": "python",
   "pygments_lexer": "ipython3",
   "version": "3.10.12"
  },
  "papermill": {
   "default_parameters": {},
   "duration": 176.120404,
   "end_time": "2023-09-11T22:00:14.013385",
   "environment_variables": {},
   "exception": null,
   "input_path": "0.split_data_regression.ipynb",
   "output_path": "0.split_data_regression.ipynb",
   "parameters": {
    "aggregation": false,
    "cell_type": "PBMC",
    "nomic": true
   },
   "start_time": "2023-09-11T21:57:17.892981",
   "version": "2.4.0"
  },
  "vscode": {
   "interpreter": {
    "hash": "72ae02083a9ca7d143c492d1aec380c7bf553ec51bd66e90e72bba65228121b6"
   }
  }
 },
 "nbformat": 4,
 "nbformat_minor": 5
}
