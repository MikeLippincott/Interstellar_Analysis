{
 "cells": [
  {
   "cell_type": "code",
   "execution_count": 1,
   "id": "2a0c7e4f",
   "metadata": {
    "execution": {
     "iopub.execute_input": "2023-09-11T21:42:30.706507Z",
     "iopub.status.busy": "2023-09-11T21:42:30.706163Z",
     "iopub.status.idle": "2023-09-11T21:42:31.860284Z",
     "shell.execute_reply": "2023-09-11T21:42:31.859688Z"
    },
    "papermill": {
     "duration": 1.159629,
     "end_time": "2023-09-11T21:42:31.861735",
     "exception": false,
     "start_time": "2023-09-11T21:42:30.702106",
     "status": "completed"
    },
    "tags": []
   },
   "outputs": [],
   "source": [
    "import itertools\n",
    "import pathlib\n",
    "\n",
    "import numpy as np\n",
    "import pandas as pd\n",
    "import pyarrow.parquet as pq\n",
    "import toml\n",
    "from joblib import dump\n",
    "from sklearn.exceptions import ConvergenceWarning\n",
    "from sklearn.linear_model import LogisticRegression\n",
    "from sklearn.model_selection import GridSearchCV, StratifiedKFold, train_test_split"
   ]
  },
  {
   "cell_type": "code",
   "execution_count": 2,
   "id": "53d9a2bd",
   "metadata": {
    "execution": {
     "iopub.execute_input": "2023-09-11T21:42:31.869262Z",
     "iopub.status.busy": "2023-09-11T21:42:31.868989Z",
     "iopub.status.idle": "2023-09-11T21:42:31.871772Z",
     "shell.execute_reply": "2023-09-11T21:42:31.871332Z"
    },
    "papermill": {
     "duration": 0.007455,
     "end_time": "2023-09-11T21:42:31.872721",
     "exception": false,
     "start_time": "2023-09-11T21:42:31.865266",
     "status": "completed"
    },
    "tags": [
     "injected-parameters"
    ]
   },
   "outputs": [],
   "source": [
    "# Parameters\n",
    "cell_type = \"PBMC\"\n",
    "aggregation = True\n",
    "nomic = True"
   ]
  },
  {
   "cell_type": "code",
   "execution_count": 3,
   "id": "dc112da1",
   "metadata": {
    "execution": {
     "iopub.execute_input": "2023-09-11T21:42:31.878726Z",
     "iopub.status.busy": "2023-09-11T21:42:31.878294Z",
     "iopub.status.idle": "2023-09-11T21:42:31.880732Z",
     "shell.execute_reply": "2023-09-11T21:42:31.880304Z"
    },
    "papermill": {
     "duration": 0.006333,
     "end_time": "2023-09-11T21:42:31.881667",
     "exception": false,
     "start_time": "2023-09-11T21:42:31.875334",
     "status": "completed"
    },
    "tags": []
   },
   "outputs": [],
   "source": [
    "MODEL_TYPE = \"regression\""
   ]
  },
  {
   "cell_type": "code",
   "execution_count": 4,
   "id": "21983dd6",
   "metadata": {
    "execution": {
     "iopub.execute_input": "2023-09-11T21:42:31.887710Z",
     "iopub.status.busy": "2023-09-11T21:42:31.887425Z",
     "iopub.status.idle": "2023-09-11T21:42:31.890526Z",
     "shell.execute_reply": "2023-09-11T21:42:31.890148Z"
    },
    "papermill": {
     "duration": 0.007194,
     "end_time": "2023-09-11T21:42:31.891402",
     "exception": false,
     "start_time": "2023-09-11T21:42:31.884208",
     "status": "completed"
    },
    "tags": []
   },
   "outputs": [],
   "source": [
    "# toml file path\n",
    "TOML_PATH = pathlib.Path(\"../splits.toml\")\n",
    "# read toml file via toml\n",
    "data_splits_by_treatments = toml.load(TOML_PATH)\n",
    "\n",
    "# define the 100% test set data treatments\n",
    "test_100_percent = data_splits_by_treatments[\"splits\"][\"data_splits_100\"]\n",
    "test_75_percent = data_splits_by_treatments[\"splits\"][\"data_splits_75\"]"
   ]
  },
  {
   "cell_type": "code",
   "execution_count": 5,
   "id": "ae396783",
   "metadata": {
    "execution": {
     "iopub.execute_input": "2023-09-11T21:42:31.897635Z",
     "iopub.status.busy": "2023-09-11T21:42:31.897144Z",
     "iopub.status.idle": "2023-09-11T21:44:05.279702Z",
     "shell.execute_reply": "2023-09-11T21:44:05.279235Z"
    },
    "papermill": {
     "duration": 93.391308,
     "end_time": "2023-09-11T21:44:05.285287",
     "exception": false,
     "start_time": "2023-09-11T21:42:31.893979",
     "status": "completed"
    },
    "tags": []
   },
   "outputs": [
    {
     "data": {
      "text/html": [
       "<div>\n",
       "<style scoped>\n",
       "    .dataframe tbody tr th:only-of-type {\n",
       "        vertical-align: middle;\n",
       "    }\n",
       "\n",
       "    .dataframe tbody tr th {\n",
       "        vertical-align: top;\n",
       "    }\n",
       "\n",
       "    .dataframe thead th {\n",
       "        text-align: right;\n",
       "    }\n",
       "</style>\n",
       "<table border=\"1\" class=\"dataframe\">\n",
       "  <thead>\n",
       "    <tr style=\"text-align: right;\">\n",
       "      <th></th>\n",
       "      <th>Metadata_cell_type</th>\n",
       "      <th>Metadata_Well</th>\n",
       "      <th>Metadata_number_of_singlecells</th>\n",
       "      <th>Metadata_incubation inducer (h)</th>\n",
       "      <th>Metadata_inhibitor</th>\n",
       "      <th>Metadata_inhibitor_concentration</th>\n",
       "      <th>Metadata_inhibitor_concentration_unit</th>\n",
       "      <th>Metadata_inducer1</th>\n",
       "      <th>Metadata_inducer1_concentration</th>\n",
       "      <th>Metadata_inducer1_concentration_unit</th>\n",
       "      <th>...</th>\n",
       "      <th>Nuclei_Texture_SumEntropy_CorrPM_3_01_256</th>\n",
       "      <th>Nuclei_Texture_SumVariance_CorrPM_3_01_256</th>\n",
       "      <th>Nuclei_Texture_Variance_CorrER_3_00_256</th>\n",
       "      <th>Nuclei_Texture_Variance_CorrGasdermin_3_00_256</th>\n",
       "      <th>Metadata_Treatment</th>\n",
       "      <th>Metadata_Dose</th>\n",
       "      <th>oneb_Metadata_Treatment_Dose_Inhibitor_Dose</th>\n",
       "      <th>twob_Metadata_Treatment_Dose_Inhibitor_Dose</th>\n",
       "      <th>threeb_Metadata_Treatment_Dose_Inhibitor_Dose</th>\n",
       "      <th>fourb_Metadata_Treatment_Dose_Inhibitor_Dose</th>\n",
       "    </tr>\n",
       "  </thead>\n",
       "  <tbody>\n",
       "    <tr>\n",
       "      <th>0</th>\n",
       "      <td>PBMC</td>\n",
       "      <td>B02</td>\n",
       "      <td>34618</td>\n",
       "      <td>6</td>\n",
       "      <td>DMSO</td>\n",
       "      <td>0.025</td>\n",
       "      <td>%</td>\n",
       "      <td>LPS</td>\n",
       "      <td>0.01</td>\n",
       "      <td>µg_per_ml</td>\n",
       "      <td>...</td>\n",
       "      <td>0.108250</td>\n",
       "      <td>-0.068544</td>\n",
       "      <td>-0.205295</td>\n",
       "      <td>-0.197257</td>\n",
       "      <td>LPS</td>\n",
       "      <td>0.010</td>\n",
       "      <td>LPS_0.010_DMSO_0.025</td>\n",
       "      <td>LPS_DMSO_0.025__0.010</td>\n",
       "      <td>LPS__0.010__DMSO_0.025</td>\n",
       "      <td>LPS__0.010__DMSO__0.025</td>\n",
       "    </tr>\n",
       "    <tr>\n",
       "      <th>1</th>\n",
       "      <td>PBMC</td>\n",
       "      <td>B02</td>\n",
       "      <td>34618</td>\n",
       "      <td>6</td>\n",
       "      <td>DMSO</td>\n",
       "      <td>0.025</td>\n",
       "      <td>%</td>\n",
       "      <td>LPS</td>\n",
       "      <td>0.01</td>\n",
       "      <td>µg_per_ml</td>\n",
       "      <td>...</td>\n",
       "      <td>-0.929131</td>\n",
       "      <td>-0.158906</td>\n",
       "      <td>-0.198572</td>\n",
       "      <td>-0.185623</td>\n",
       "      <td>LPS</td>\n",
       "      <td>0.010</td>\n",
       "      <td>LPS_0.010_DMSO_0.025</td>\n",
       "      <td>LPS_DMSO_0.025__0.010</td>\n",
       "      <td>LPS__0.010__DMSO_0.025</td>\n",
       "      <td>LPS__0.010__DMSO__0.025</td>\n",
       "    </tr>\n",
       "    <tr>\n",
       "      <th>2</th>\n",
       "      <td>PBMC</td>\n",
       "      <td>B02</td>\n",
       "      <td>34618</td>\n",
       "      <td>6</td>\n",
       "      <td>DMSO</td>\n",
       "      <td>0.025</td>\n",
       "      <td>%</td>\n",
       "      <td>LPS</td>\n",
       "      <td>0.01</td>\n",
       "      <td>µg_per_ml</td>\n",
       "      <td>...</td>\n",
       "      <td>-1.227278</td>\n",
       "      <td>-0.163521</td>\n",
       "      <td>-0.165140</td>\n",
       "      <td>-0.174762</td>\n",
       "      <td>LPS</td>\n",
       "      <td>0.010</td>\n",
       "      <td>LPS_0.010_DMSO_0.025</td>\n",
       "      <td>LPS_DMSO_0.025__0.010</td>\n",
       "      <td>LPS__0.010__DMSO_0.025</td>\n",
       "      <td>LPS__0.010__DMSO__0.025</td>\n",
       "    </tr>\n",
       "    <tr>\n",
       "      <th>3</th>\n",
       "      <td>PBMC</td>\n",
       "      <td>B02</td>\n",
       "      <td>34618</td>\n",
       "      <td>6</td>\n",
       "      <td>DMSO</td>\n",
       "      <td>0.025</td>\n",
       "      <td>%</td>\n",
       "      <td>LPS</td>\n",
       "      <td>0.01</td>\n",
       "      <td>µg_per_ml</td>\n",
       "      <td>...</td>\n",
       "      <td>2.153910</td>\n",
       "      <td>0.586555</td>\n",
       "      <td>0.258023</td>\n",
       "      <td>0.218118</td>\n",
       "      <td>LPS</td>\n",
       "      <td>0.010</td>\n",
       "      <td>LPS_0.010_DMSO_0.025</td>\n",
       "      <td>LPS_DMSO_0.025__0.010</td>\n",
       "      <td>LPS__0.010__DMSO_0.025</td>\n",
       "      <td>LPS__0.010__DMSO__0.025</td>\n",
       "    </tr>\n",
       "    <tr>\n",
       "      <th>4</th>\n",
       "      <td>PBMC</td>\n",
       "      <td>B02</td>\n",
       "      <td>34618</td>\n",
       "      <td>6</td>\n",
       "      <td>DMSO</td>\n",
       "      <td>0.025</td>\n",
       "      <td>%</td>\n",
       "      <td>LPS</td>\n",
       "      <td>0.01</td>\n",
       "      <td>µg_per_ml</td>\n",
       "      <td>...</td>\n",
       "      <td>-0.557309</td>\n",
       "      <td>-0.148980</td>\n",
       "      <td>-0.122860</td>\n",
       "      <td>-0.110851</td>\n",
       "      <td>LPS</td>\n",
       "      <td>0.010</td>\n",
       "      <td>LPS_0.010_DMSO_0.025</td>\n",
       "      <td>LPS_DMSO_0.025__0.010</td>\n",
       "      <td>LPS__0.010__DMSO_0.025</td>\n",
       "      <td>LPS__0.010__DMSO__0.025</td>\n",
       "    </tr>\n",
       "  </tbody>\n",
       "</table>\n",
       "<p>5 rows × 1270 columns</p>\n",
       "</div>"
      ],
      "text/plain": [
       "  Metadata_cell_type Metadata_Well  Metadata_number_of_singlecells  \\\n",
       "0               PBMC           B02                           34618   \n",
       "1               PBMC           B02                           34618   \n",
       "2               PBMC           B02                           34618   \n",
       "3               PBMC           B02                           34618   \n",
       "4               PBMC           B02                           34618   \n",
       "\n",
       "   Metadata_incubation inducer (h) Metadata_inhibitor  \\\n",
       "0                                6               DMSO   \n",
       "1                                6               DMSO   \n",
       "2                                6               DMSO   \n",
       "3                                6               DMSO   \n",
       "4                                6               DMSO   \n",
       "\n",
       "   Metadata_inhibitor_concentration Metadata_inhibitor_concentration_unit  \\\n",
       "0                             0.025                                     %   \n",
       "1                             0.025                                     %   \n",
       "2                             0.025                                     %   \n",
       "3                             0.025                                     %   \n",
       "4                             0.025                                     %   \n",
       "\n",
       "  Metadata_inducer1  Metadata_inducer1_concentration  \\\n",
       "0               LPS                             0.01   \n",
       "1               LPS                             0.01   \n",
       "2               LPS                             0.01   \n",
       "3               LPS                             0.01   \n",
       "4               LPS                             0.01   \n",
       "\n",
       "  Metadata_inducer1_concentration_unit  ...  \\\n",
       "0                            µg_per_ml  ...   \n",
       "1                            µg_per_ml  ...   \n",
       "2                            µg_per_ml  ...   \n",
       "3                            µg_per_ml  ...   \n",
       "4                            µg_per_ml  ...   \n",
       "\n",
       "  Nuclei_Texture_SumEntropy_CorrPM_3_01_256  \\\n",
       "0                                  0.108250   \n",
       "1                                 -0.929131   \n",
       "2                                 -1.227278   \n",
       "3                                  2.153910   \n",
       "4                                 -0.557309   \n",
       "\n",
       "   Nuclei_Texture_SumVariance_CorrPM_3_01_256  \\\n",
       "0                                   -0.068544   \n",
       "1                                   -0.158906   \n",
       "2                                   -0.163521   \n",
       "3                                    0.586555   \n",
       "4                                   -0.148980   \n",
       "\n",
       "  Nuclei_Texture_Variance_CorrER_3_00_256  \\\n",
       "0                               -0.205295   \n",
       "1                               -0.198572   \n",
       "2                               -0.165140   \n",
       "3                                0.258023   \n",
       "4                               -0.122860   \n",
       "\n",
       "   Nuclei_Texture_Variance_CorrGasdermin_3_00_256 Metadata_Treatment  \\\n",
       "0                                       -0.197257                LPS   \n",
       "1                                       -0.185623                LPS   \n",
       "2                                       -0.174762                LPS   \n",
       "3                                        0.218118                LPS   \n",
       "4                                       -0.110851                LPS   \n",
       "\n",
       "   Metadata_Dose  oneb_Metadata_Treatment_Dose_Inhibitor_Dose  \\\n",
       "0          0.010                         LPS_0.010_DMSO_0.025   \n",
       "1          0.010                         LPS_0.010_DMSO_0.025   \n",
       "2          0.010                         LPS_0.010_DMSO_0.025   \n",
       "3          0.010                         LPS_0.010_DMSO_0.025   \n",
       "4          0.010                         LPS_0.010_DMSO_0.025   \n",
       "\n",
       "   twob_Metadata_Treatment_Dose_Inhibitor_Dose  \\\n",
       "0                        LPS_DMSO_0.025__0.010   \n",
       "1                        LPS_DMSO_0.025__0.010   \n",
       "2                        LPS_DMSO_0.025__0.010   \n",
       "3                        LPS_DMSO_0.025__0.010   \n",
       "4                        LPS_DMSO_0.025__0.010   \n",
       "\n",
       "   threeb_Metadata_Treatment_Dose_Inhibitor_Dose  \\\n",
       "0                         LPS__0.010__DMSO_0.025   \n",
       "1                         LPS__0.010__DMSO_0.025   \n",
       "2                         LPS__0.010__DMSO_0.025   \n",
       "3                         LPS__0.010__DMSO_0.025   \n",
       "4                         LPS__0.010__DMSO_0.025   \n",
       "\n",
       "   fourb_Metadata_Treatment_Dose_Inhibitor_Dose  \n",
       "0                       LPS__0.010__DMSO__0.025  \n",
       "1                       LPS__0.010__DMSO__0.025  \n",
       "2                       LPS__0.010__DMSO__0.025  \n",
       "3                       LPS__0.010__DMSO__0.025  \n",
       "4                       LPS__0.010__DMSO__0.025  \n",
       "\n",
       "[5 rows x 1270 columns]"
      ]
     },
     "execution_count": 5,
     "metadata": {},
     "output_type": "execute_result"
    }
   ],
   "source": [
    "path = pathlib.Path(f\"../../../data/{cell_type}_preprocessed_sc_norm.parquet\")\n",
    "\n",
    "data_df = pq.read_table(path).to_pandas()\n",
    "\n",
    "data_df.head()"
   ]
  },
  {
   "cell_type": "code",
   "execution_count": 6,
   "id": "e0705edc",
   "metadata": {
    "execution": {
     "iopub.execute_input": "2023-09-11T21:44:05.292650Z",
     "iopub.status.busy": "2023-09-11T21:44:05.292081Z",
     "iopub.status.idle": "2023-09-11T21:44:05.307011Z",
     "shell.execute_reply": "2023-09-11T21:44:05.306527Z"
    },
    "papermill": {
     "duration": 0.019635,
     "end_time": "2023-09-11T21:44:05.307936",
     "exception": false,
     "start_time": "2023-09-11T21:44:05.288301",
     "status": "completed"
    },
    "tags": []
   },
   "outputs": [],
   "source": [
    "if nomic == True:\n",
    "    # import nomic data\n",
    "    nomic_df_path = pathlib.Path(\n",
    "        f\"../../../2.Nomic_nELISA_Analysis/Data/clean/Plate2/nELISA_plate_430420_{cell_type}_cleanup4correlation.csv\"\n",
    "    )\n",
    "    df_nomic = pd.read_csv(nomic_df_path)\n",
    "\n",
    "    # drop columns that contain [pgML]\n",
    "    df_nomic = df_nomic.drop(\n",
    "        columns=[col for col in df_nomic.columns if \"[pgML]\" in col]\n",
    "    )\n",
    "    # drop first 25 columns\n",
    "    # df_nomic = df_nomic.drop(columns=df_nomic.columns[3:25])\n",
    "    # df_nomic = df_nomic.drop(columns=df_nomic.columns[0:2])\n",
    "else:\n",
    "    df_nomic = None"
   ]
  },
  {
   "cell_type": "code",
   "execution_count": 7,
   "id": "3c7f01ba",
   "metadata": {
    "execution": {
     "iopub.execute_input": "2023-09-11T21:44:05.314988Z",
     "iopub.status.busy": "2023-09-11T21:44:05.314381Z",
     "iopub.status.idle": "2023-09-11T21:44:18.573897Z",
     "shell.execute_reply": "2023-09-11T21:44:18.573369Z"
    },
    "papermill": {
     "duration": 13.264639,
     "end_time": "2023-09-11T21:44:18.575502",
     "exception": false,
     "start_time": "2023-09-11T21:44:05.310863",
     "status": "completed"
    },
    "tags": []
   },
   "outputs": [],
   "source": [
    "# subset each column that contains metadata\n",
    "metadata = data_df.filter(regex=\"Metadata\")\n",
    "\n",
    "# get all columns that are not metadata except for metadata_Well\n",
    "data = data_df.drop(metadata.columns, axis=1)\n",
    "\n",
    "# get the metadata_Well column\n",
    "metadata_well = metadata[\n",
    "    [\"Metadata_Well\", \"oneb_Metadata_Treatment_Dose_Inhibitor_Dose\"]\n",
    "]\n",
    "\n",
    "data_df = pd.merge(data, metadata_well, left_index=True, right_index=True)"
   ]
  },
  {
   "cell_type": "code",
   "execution_count": 8,
   "id": "247dccb4",
   "metadata": {
    "execution": {
     "iopub.execute_input": "2023-09-11T21:44:18.583165Z",
     "iopub.status.busy": "2023-09-11T21:44:18.582895Z",
     "iopub.status.idle": "2023-09-11T21:44:59.227987Z",
     "shell.execute_reply": "2023-09-11T21:44:59.227493Z"
    },
    "papermill": {
     "duration": 40.650377,
     "end_time": "2023-09-11T21:44:59.229312",
     "exception": false,
     "start_time": "2023-09-11T21:44:18.578935",
     "status": "completed"
    },
    "tags": []
   },
   "outputs": [],
   "source": [
    "if (aggregation == True) and (nomic == True):\n",
    "\n",
    "    # subset each column that contains metadata\n",
    "    metadata = data_df.filter(regex=\"Metadata\")\n",
    "    data_df = data_df.drop(metadata.columns, axis=1)\n",
    "    data_df = pd.concat([data_df, metadata[\"Metadata_Well\"]], axis=1)\n",
    "    # groupby well and take mean of each well\n",
    "    data_df = data_df.groupby(\"Metadata_Well\").mean()\n",
    "    # drop duplicate rows in the metadata_well column\n",
    "    metadata = metadata.drop_duplicates(subset=[\"Metadata_Well\"])\n",
    "    # get the metadata for each well\n",
    "    data_df = pd.merge(\n",
    "        data_df, metadata, left_on=\"Metadata_Well\", right_on=\"Metadata_Well\"\n",
    "    )\n",
    "    data_df = pd.merge(\n",
    "        data_df,\n",
    "        df_nomic,\n",
    "        left_on=[\"Metadata_Well\", \"oneb_Metadata_Treatment_Dose_Inhibitor_Dose\"],\n",
    "        right_on=[\"Metadata_position_x\", \"oneb_Metadata_Treatment_Dose_Inhibitor_Dose\"],\n",
    "    )\n",
    "    data_df = data_df.drop(columns=[\"Metadata_position_x\"])\n",
    "    # drop all metadata columns\n",
    "    labeled_data = data_df[\"oneb_Metadata_Treatment_Dose_Inhibitor_Dose\"]\n",
    "    data_x = data_df.drop(metadata.columns, axis=1)\n",
    "\n",
    "elif (aggregation == True) and (nomic == False):\n",
    "    # subset each column that contains metadata\n",
    "    metadata = data.filter(regex=\"Metadata\")\n",
    "    data_df = data_df.drop(metadata.columns, axis=1)\n",
    "    data_df = pd.concat([data_df, metadata[\"Metadata_Well\"]], axis=1)\n",
    "    # groupby well and take mean of each well\n",
    "    data_df = data_df.groupby(\"Metadata_Well\").mean()\n",
    "    # drop duplicate rows in the metadata_well column\n",
    "    metadata = metadata.drop_duplicates(subset=[\"Metadata_Well\"])\n",
    "    # get the metadata for each well\n",
    "    data_df = pd.merge(\n",
    "        data_df,\n",
    "        df_nomic,\n",
    "        left_on=[\"Metadata_Well\", \"oneb_Metadata_Treatment_Dose_Inhibitor_Dose\"],\n",
    "        right_on=[\"Metadata_position_x\", \"oneb_Metadata_Treatment_Dose_Inhibitor_Dose\"],\n",
    "    )\n",
    "elif (aggregation == False) and (nomic == True):\n",
    "    data_df = pd.merge(\n",
    "        data_df,\n",
    "        df_nomic,\n",
    "        left_on=[\"Metadata_Well\", \"oneb_Metadata_Treatment_Dose_Inhibitor_Dose\"],\n",
    "        right_on=[\"Metadata_position_x\", \"oneb_Metadata_Treatment_Dose_Inhibitor_Dose\"],\n",
    "    )\n",
    "    data_df = data_df.drop(columns=[\"Metadata_position_x\"])\n",
    "elif aggregation == False and nomic == False:\n",
    "    pass\n",
    "else:\n",
    "    print(\"Error\")"
   ]
  },
  {
   "cell_type": "markdown",
   "id": "8d2cc57e",
   "metadata": {
    "execution": {
     "iopub.execute_input": "2023-07-23T19:05:37.280541Z",
     "iopub.status.busy": "2023-07-23T19:05:37.280345Z",
     "iopub.status.idle": "2023-07-23T19:05:37.282628Z",
     "shell.execute_reply": "2023-07-23T19:05:37.282294Z"
    },
    "papermill": {
     "duration": 0.002872,
     "end_time": "2023-09-11T21:44:59.235546",
     "exception": false,
     "start_time": "2023-09-11T21:44:59.232674",
     "status": "completed"
    },
    "tags": []
   },
   "source": [
    "This model and code is both inspired and reused from: https://github.com/WayScience/phenotypic_profiling_model/blob/main/1.split_data/split_data.ipynb\n",
    "The bulk of this work was done by **Roshan Kern** I have only made minor changes to the code to make it more modular and easier to use for my purposes."
   ]
  },
  {
   "cell_type": "code",
   "execution_count": 9,
   "id": "d59ece5b",
   "metadata": {
    "execution": {
     "iopub.execute_input": "2023-09-11T21:44:59.242082Z",
     "iopub.status.busy": "2023-09-11T21:44:59.241871Z",
     "iopub.status.idle": "2023-09-11T21:44:59.244077Z",
     "shell.execute_reply": "2023-09-11T21:44:59.243698Z"
    },
    "papermill": {
     "duration": 0.006641,
     "end_time": "2023-09-11T21:44:59.244969",
     "exception": false,
     "start_time": "2023-09-11T21:44:59.238328",
     "status": "completed"
    },
    "tags": []
   },
   "outputs": [],
   "source": [
    "# get oneb_Metadata_Treatment_Dose_Inhibitor_Dose  =='DMSO_0.100_DMSO_0.025' and 'LPS_100.000_DMSO_0.025 and Thapsigargin_10.000_DMSO_0.025'\n",
    "# data_df = data_df[\n",
    "#     data_df[\"oneb_Metadata_Treatment_Dose_Inhibitor_Dose\"].isin([control, treatment])\n",
    "# ]"
   ]
  },
  {
   "cell_type": "code",
   "execution_count": 10,
   "id": "4eee6f0a",
   "metadata": {
    "execution": {
     "iopub.execute_input": "2023-09-11T21:44:59.251746Z",
     "iopub.status.busy": "2023-09-11T21:44:59.251253Z",
     "iopub.status.idle": "2023-09-11T21:44:59.254685Z",
     "shell.execute_reply": "2023-09-11T21:44:59.254323Z"
    },
    "papermill": {
     "duration": 0.007929,
     "end_time": "2023-09-11T21:44:59.255680",
     "exception": false,
     "start_time": "2023-09-11T21:44:59.247751",
     "status": "completed"
    },
    "tags": []
   },
   "outputs": [
    {
     "data": {
      "text/plain": [
       "array(['LPS_0.010_DMSO_0.025', 'LPS_Nigericin_100.000_1.0_DMSO_0.025',\n",
       "       'DMSO_0.100_DMSO_0.025', 'LPS_0.100_DMSO_0.025',\n",
       "       'LPS_Nigericin_100.000_3.0_DMSO_0.025', 'LPS_1.000_DMSO_0.025',\n",
       "       'LPS_Nigericin_100.000_10.0_DMSO_0.025',\n",
       "       'Thapsigargin_1.000_DMSO_0.025', 'LPS_10.000_DMSO_0.025',\n",
       "       'Disulfiram_0.100_DMSO_0.025', 'Thapsigargin_10.000_DMSO_0.025',\n",
       "       'Disulfiram_1.000_DMSO_0.025', 'Topotecan_5.000_DMSO_0.025',\n",
       "       'Disulfiram_2.500_DMSO_0.025', 'Topotecan_10.000_DMSO_0.025',\n",
       "       'H2O2_100.000_DMSO_0.025', 'Topotecan_20.000_DMSO_0.025',\n",
       "       'LPS_100.000_DMSO_0.025', 'LPS_Nigericin_1.000_1.0_DMSO_0.025',\n",
       "       'LPS_Nigericin_1.000_3.0_DMSO_0.025', 'Flagellin_0.100_DMSO_0.025',\n",
       "       'LPS_Nigericin_1.000_10.0_DMSO_0.025',\n",
       "       'Flagellin_1.000_DMSO_0.025'], dtype=object)"
      ]
     },
     "execution_count": 10,
     "metadata": {},
     "output_type": "execute_result"
    }
   ],
   "source": [
    "data_df[\"oneb_Metadata_Treatment_Dose_Inhibitor_Dose\"].unique()"
   ]
  },
  {
   "cell_type": "code",
   "execution_count": 11,
   "id": "50808746",
   "metadata": {
    "execution": {
     "iopub.execute_input": "2023-09-11T21:44:59.262780Z",
     "iopub.status.busy": "2023-09-11T21:44:59.262498Z",
     "iopub.status.idle": "2023-09-11T21:44:59.267659Z",
     "shell.execute_reply": "2023-09-11T21:44:59.267271Z"
    },
    "papermill": {
     "duration": 0.009588,
     "end_time": "2023-09-11T21:44:59.268585",
     "exception": false,
     "start_time": "2023-09-11T21:44:59.258997",
     "status": "completed"
    },
    "tags": []
   },
   "outputs": [
    {
     "name": "stdout",
     "output_type": "stream",
     "text": [
      "(8, 1435) (8, 1435) (81, 1435)\n"
     ]
    }
   ],
   "source": [
    "# variable test and train set splits\n",
    "# 100% test set\n",
    "# subset the following treatments for test set\n",
    "test_set_all = data_df[\n",
    "    data_df[\"oneb_Metadata_Treatment_Dose_Inhibitor_Dose\"].isin(test_100_percent)\n",
    "]\n",
    "# 75% test set and 25% train set\n",
    "test_set_75 = data_df[\n",
    "    data_df[\"oneb_Metadata_Treatment_Dose_Inhibitor_Dose\"].isin(test_75_percent)\n",
    "]\n",
    "\n",
    "# 50% test set and 50% train set\n",
    "# get all treatments that are not in the_test_set_all and the test_set_75\n",
    "test_set_50 = data_df[\n",
    "    ~data_df[\"oneb_Metadata_Treatment_Dose_Inhibitor_Dose\"].isin(\n",
    "        test_set_all[\"oneb_Metadata_Treatment_Dose_Inhibitor_Dose\"]\n",
    "    )\n",
    "]\n",
    "test_set_50 = test_set_50[\n",
    "    ~test_set_50[\"oneb_Metadata_Treatment_Dose_Inhibitor_Dose\"].isin(\n",
    "        test_set_75[\"oneb_Metadata_Treatment_Dose_Inhibitor_Dose\"]\n",
    "    )\n",
    "]\n",
    "\n",
    "print(test_set_all.shape, test_set_75.shape, test_set_50.shape)"
   ]
  },
  {
   "cell_type": "code",
   "execution_count": 12,
   "id": "852dffa4",
   "metadata": {
    "execution": {
     "iopub.execute_input": "2023-09-11T21:44:59.275378Z",
     "iopub.status.busy": "2023-09-11T21:44:59.275089Z",
     "iopub.status.idle": "2023-09-11T21:44:59.281566Z",
     "shell.execute_reply": "2023-09-11T21:44:59.281179Z"
    },
    "papermill": {
     "duration": 0.010936,
     "end_time": "2023-09-11T21:44:59.282473",
     "exception": false,
     "start_time": "2023-09-11T21:44:59.271537",
     "status": "completed"
    },
    "tags": []
   },
   "outputs": [
    {
     "name": "stdout",
     "output_type": "stream",
     "text": [
      "Shape for the 100% test set: (8, 1435)\n",
      "\n",
      "Shape for the 75% test set: (2, 1435);\n",
      "Shape for the 75% train set: (6, 1435)\n",
      "\n",
      "Shape for the 50% test set: (40, 1435);\n",
      "Shape for the 50% train set: (41, 1435)\n"
     ]
    }
   ],
   "source": [
    "# get the train test splits from each group\n",
    "# 100% test set\n",
    "test_set_all\n",
    "\n",
    "# 75% test set and 25% train set\n",
    "test_ratio = 0.75\n",
    "training_data_set_75, testing_data_set_75 = train_test_split(\n",
    "    test_set_75,\n",
    "    test_size=test_ratio,\n",
    "    stratify=test_set_75[\"oneb_Metadata_Treatment_Dose_Inhibitor_Dose\"],\n",
    "    random_state=0,\n",
    ")\n",
    "\n",
    "# 50% test set and 50% train set\n",
    "test_ratio = 0.5\n",
    "training_data_set_50, testing_data_set_50 = train_test_split(\n",
    "    test_set_50,\n",
    "    test_size=test_ratio,\n",
    "    stratify=test_set_50[\"oneb_Metadata_Treatment_Dose_Inhibitor_Dose\"],\n",
    "    random_state=0,\n",
    ")\n",
    "\n",
    "# verify that the correct splits have been made\n",
    "# 100% test set\n",
    "print(f\"Shape for the 100% test set: {test_set_all.shape}\\n\")\n",
    "\n",
    "# 75% test set and 25% train set\n",
    "print(\n",
    "    f\"Shape for the 75% test set: {training_data_set_75.shape};\\nShape for the 75% train set: {testing_data_set_75.shape}\\n\"\n",
    ")\n",
    "\n",
    "# 50% test set and 50% train set\n",
    "print(\n",
    "    f\"Shape for the 50% test set: {training_data_set_50.shape};\\nShape for the 50% train set: {testing_data_set_50.shape}\"\n",
    ")"
   ]
  },
  {
   "cell_type": "code",
   "execution_count": 13,
   "id": "4994791d",
   "metadata": {
    "execution": {
     "iopub.execute_input": "2023-09-11T21:44:59.289353Z",
     "iopub.status.busy": "2023-09-11T21:44:59.289069Z",
     "iopub.status.idle": "2023-09-11T21:44:59.294329Z",
     "shell.execute_reply": "2023-09-11T21:44:59.293951Z"
    },
    "papermill": {
     "duration": 0.009701,
     "end_time": "2023-09-11T21:44:59.295237",
     "exception": false,
     "start_time": "2023-09-11T21:44:59.285536",
     "status": "completed"
    },
    "tags": []
   },
   "outputs": [
    {
     "name": "stdout",
     "output_type": "stream",
     "text": [
      "Testing set length: 55\n",
      "Training set length: 42\n"
     ]
    }
   ],
   "source": [
    "# combine all testing sets together while preserving the index\n",
    "testing_data_set = pd.concat(\n",
    "    [test_set_all, testing_data_set_75, testing_data_set_50], axis=0\n",
    ")\n",
    "testing_data_set = testing_data_set.sort_index()\n",
    "testing_data_set\n",
    "\n",
    "# combine all training sets together while preserving the index\n",
    "training_data_set = pd.concat([training_data_set_75, training_data_set_50], axis=0)\n",
    "training_data_set = training_data_set.sort_index()\n",
    "training_data_set\n",
    "\n",
    "print(\n",
    "    f\"Testing set length: {len(testing_data_set)}\\nTraining set length: {len(training_data_set)}\"\n",
    ")\n",
    "\n",
    "# get the indexes for the training and testing sets\n",
    "testing_data_set_index = testing_data_set.index\n",
    "training_data_set_index = training_data_set.index"
   ]
  },
  {
   "cell_type": "code",
   "execution_count": 15,
   "id": "8656f69b",
   "metadata": {
    "execution": {
     "iopub.execute_input": "2023-09-11T21:44:59.311772Z",
     "iopub.status.busy": "2023-09-11T21:44:59.311497Z",
     "iopub.status.idle": "2023-09-11T21:44:59.314923Z",
     "shell.execute_reply": "2023-09-11T21:44:59.314546Z"
    },
    "papermill": {
     "duration": 0.007829,
     "end_time": "2023-09-11T21:44:59.315776",
     "exception": false,
     "start_time": "2023-09-11T21:44:59.307947",
     "status": "completed"
    },
    "tags": []
   },
   "outputs": [],
   "source": [
    "# create pandas dataframe with all indexes and their respective labels, stratified by phenotypic class\n",
    "index_data = []\n",
    "for index in training_data_set_index:\n",
    "    index_data.append({\"labeled_data_index\": index, \"label\": \"train\"})\n",
    "for index in testing_data_set_index:\n",
    "    index_data.append({\"labeled_data_index\": index, \"label\": \"test\"})\n",
    "\n",
    "# make index data a dataframe and sort it by labeled data index\n",
    "index_data = pd.DataFrame(index_data).sort_values([\"labeled_data_index\"])"
   ]
  },
  {
   "cell_type": "code",
   "execution_count": 16,
   "id": "8cf8202b",
   "metadata": {
    "execution": {
     "iopub.execute_input": "2023-09-11T21:44:59.322646Z",
     "iopub.status.busy": "2023-09-11T21:44:59.322372Z",
     "iopub.status.idle": "2023-09-11T21:44:59.325962Z",
     "shell.execute_reply": "2023-09-11T21:44:59.325583Z"
    },
    "papermill": {
     "duration": 0.00807,
     "end_time": "2023-09-11T21:44:59.326889",
     "exception": false,
     "start_time": "2023-09-11T21:44:59.318819",
     "status": "completed"
    },
    "tags": []
   },
   "outputs": [
    {
     "name": "stdout",
     "output_type": "stream",
     "text": [
      "../indexes/PBMC/regression\n"
     ]
    }
   ],
   "source": [
    "# set save path\n",
    "if aggregation == True:\n",
    "    if nomic == True:\n",
    "        save_path = pathlib.Path(f\"../indexes/{cell_type}/{MODEL_TYPE}\")\n",
    "    elif nomic == False:\n",
    "        save_path = pathlib.Path(f\"../indexes/{cell_type}/{MODEL_TYPE}\")\n",
    "elif aggregation == False:\n",
    "    if nomic == True:\n",
    "        save_path = pathlib.Path(f\"../indexes/{cell_type}/{MODEL_TYPE}\")\n",
    "    elif nomic == False:\n",
    "        save_path = pathlib.Path(f\"../indexes/{cell_type}/{MODEL_TYPE}\")\n",
    "else:\n",
    "    print(\"Error\")\n",
    "\n",
    "print(save_path)\n",
    "# create save path if it doesn't exist\n",
    "save_path.mkdir(parents=True, exist_ok=True)"
   ]
  },
  {
   "cell_type": "code",
   "execution_count": 17,
   "id": "aeaadb77",
   "metadata": {
    "execution": {
     "iopub.execute_input": "2023-09-11T21:44:59.333957Z",
     "iopub.status.busy": "2023-09-11T21:44:59.333680Z",
     "iopub.status.idle": "2023-09-11T21:44:59.338922Z",
     "shell.execute_reply": "2023-09-11T21:44:59.338356Z"
    },
    "papermill": {
     "duration": 0.009981,
     "end_time": "2023-09-11T21:44:59.339973",
     "exception": false,
     "start_time": "2023-09-11T21:44:59.329992",
     "status": "completed"
    },
    "tags": []
   },
   "outputs": [],
   "source": [
    "# save indexes as tsv file\n",
    "if aggregation == True:\n",
    "    if nomic == True:\n",
    "        index_data.to_csv(\n",
    "            f\"{save_path}/aggregated_sc_and_nomic_data_split_indexes.tsv\", sep=\"\\t\"\n",
    "        )\n",
    "    elif nomic == False:\n",
    "        index_data.to_csv(f\"{save_path}/aggregated_sc_data_split_indexes.tsv\", sep=\"\\t\")\n",
    "elif aggregation == False:\n",
    "    if nomic == True:\n",
    "        index_data.to_csv(f\"{save_path}/sc_and_nomic_data_split_indexes.tsv\", sep=\"\\t\")\n",
    "    elif nomic == False:\n",
    "        index_data.to_csv(f\"{save_path}/sc_split_indexes.tsv\", sep=\"\\t\")\n",
    "else:\n",
    "    print(\"Error\")"
   ]
  }
 ],
 "metadata": {
  "jupytext": {
   "formats": "ipynb,../scripts//py:percent"
  },
  "kernelspec": {
   "display_name": "Interstellar",
   "language": "python",
   "name": "python3"
  },
  "language_info": {
   "codemirror_mode": {
    "name": "ipython",
    "version": 3
   },
   "file_extension": ".py",
   "mimetype": "text/x-python",
   "name": "python",
   "nbconvert_exporter": "python",
   "pygments_lexer": "ipython3",
   "version": "3.10.12"
  },
  "papermill": {
   "default_parameters": {},
   "duration": 151.117417,
   "end_time": "2023-09-11T21:44:59.758248",
   "environment_variables": {},
   "exception": null,
   "input_path": "0.split_data_regression.ipynb",
   "output_path": "0.split_data_regression.ipynb",
   "parameters": {
    "aggregation": true,
    "cell_type": "PBMC",
    "flag": true,
    "nomic": true,
    "shuffle": false
   },
   "start_time": "2023-09-11T21:42:28.640831",
   "version": "2.4.0"
  },
  "vscode": {
   "interpreter": {
    "hash": "72ae02083a9ca7d143c492d1aec380c7bf553ec51bd66e90e72bba65228121b6"
   }
  }
 },
 "nbformat": 4,
 "nbformat_minor": 5
}
