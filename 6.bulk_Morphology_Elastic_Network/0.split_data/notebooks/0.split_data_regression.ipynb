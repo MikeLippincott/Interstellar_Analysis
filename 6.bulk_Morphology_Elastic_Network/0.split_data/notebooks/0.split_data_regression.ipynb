{
 "cells": [
  {
   "cell_type": "code",
   "execution_count": 1,
   "id": "2a0c7e4f",
   "metadata": {
    "execution": {
     "iopub.execute_input": "2023-09-11T21:57:19.917557Z",
     "iopub.status.busy": "2023-09-11T21:57:19.917258Z",
     "iopub.status.idle": "2023-09-11T21:57:21.143151Z",
     "shell.execute_reply": "2023-09-11T21:57:21.142674Z"
    },
    "papermill": {
     "duration": 1.231064,
     "end_time": "2023-09-11T21:57:21.144519",
     "exception": false,
     "start_time": "2023-09-11T21:57:19.913455",
     "status": "completed"
    },
    "tags": []
   },
   "outputs": [],
   "source": [
    "import argparse\n",
    "import itertools\n",
    "import pathlib\n",
    "\n",
    "import numpy as np\n",
    "import pandas as pd\n",
    "import pyarrow.parquet as pq\n",
    "import toml\n",
    "from joblib import dump\n",
    "from sklearn.exceptions import ConvergenceWarning\n",
    "from sklearn.linear_model import LogisticRegression\n",
    "from sklearn.model_selection import GridSearchCV, StratifiedKFold, train_test_split"
   ]
  },
  {
   "cell_type": "code",
   "execution_count": null,
   "id": "8d82e593",
   "metadata": {},
   "outputs": [],
   "source": [
    "argparser = argparse.ArgumentParser()\n",
    "argparser.add_argument(\"--cell_type\", default=\"all\")\n",
    "\n",
    "args = argparser.parse_args()\n",
    "\n",
    "cell_type = args.cell_type"
   ]
  },
  {
   "cell_type": "code",
   "execution_count": 2,
   "id": "f9a6e539",
   "metadata": {
    "execution": {
     "iopub.execute_input": "2023-09-11T21:57:21.151925Z",
     "iopub.status.busy": "2023-09-11T21:57:21.151283Z",
     "iopub.status.idle": "2023-09-11T21:57:21.154028Z",
     "shell.execute_reply": "2023-09-11T21:57:21.153546Z"
    },
    "papermill": {
     "duration": 0.00742,
     "end_time": "2023-09-11T21:57:21.154977",
     "exception": false,
     "start_time": "2023-09-11T21:57:21.147557",
     "status": "completed"
    },
    "tags": [
     "injected-parameters"
    ]
   },
   "outputs": [],
   "source": [
    "# Parameters\n",
    "aggregation = False\n",
    "nomic = True"
   ]
  },
  {
   "cell_type": "code",
   "execution_count": 3,
   "id": "dc112da1",
   "metadata": {
    "execution": {
     "iopub.execute_input": "2023-09-11T21:57:21.161187Z",
     "iopub.status.busy": "2023-09-11T21:57:21.160825Z",
     "iopub.status.idle": "2023-09-11T21:57:21.163154Z",
     "shell.execute_reply": "2023-09-11T21:57:21.162785Z"
    },
    "papermill": {
     "duration": 0.006274,
     "end_time": "2023-09-11T21:57:21.164042",
     "exception": false,
     "start_time": "2023-09-11T21:57:21.157768",
     "status": "completed"
    },
    "tags": []
   },
   "outputs": [],
   "source": [
    "MODEL_TYPE = \"regression\""
   ]
  },
  {
   "cell_type": "code",
   "execution_count": 4,
   "id": "21983dd6",
   "metadata": {
    "execution": {
     "iopub.execute_input": "2023-09-11T21:57:21.169938Z",
     "iopub.status.busy": "2023-09-11T21:57:21.169550Z",
     "iopub.status.idle": "2023-09-11T21:57:21.172477Z",
     "shell.execute_reply": "2023-09-11T21:57:21.172099Z"
    },
    "papermill": {
     "duration": 0.006759,
     "end_time": "2023-09-11T21:57:21.173359",
     "exception": false,
     "start_time": "2023-09-11T21:57:21.166600",
     "status": "completed"
    },
    "tags": []
   },
   "outputs": [],
   "source": [
    "# toml file path\n",
    "TOML_PATH = pathlib.Path(\"../splits.toml\")\n",
    "# read toml file via toml\n",
    "data_splits_by_treatments = toml.load(TOML_PATH)\n",
    "\n",
    "# define the 100% test set data treatments\n",
    "test_100_percent = data_splits_by_treatments[\"splits\"][\"data_splits_100\"]\n",
    "test_75_percent = data_splits_by_treatments[\"splits\"][\"data_splits_75\"]"
   ]
  },
  {
   "cell_type": "code",
   "execution_count": 5,
   "id": "ae396783",
   "metadata": {
    "execution": {
     "iopub.execute_input": "2023-09-11T21:57:21.179204Z",
     "iopub.status.busy": "2023-09-11T21:57:21.178865Z",
     "iopub.status.idle": "2023-09-11T21:58:31.338498Z",
     "shell.execute_reply": "2023-09-11T21:58:31.338008Z"
    },
    "papermill": {
     "duration": 70.166479,
     "end_time": "2023-09-11T21:58:31.342435",
     "exception": false,
     "start_time": "2023-09-11T21:57:21.175956",
     "status": "completed"
    },
    "tags": []
   },
   "outputs": [
    {
     "data": {
      "text/html": [
       "<div>\n",
       "<style scoped>\n",
       "    .dataframe tbody tr th:only-of-type {\n",
       "        vertical-align: middle;\n",
       "    }\n",
       "\n",
       "    .dataframe tbody tr th {\n",
       "        vertical-align: top;\n",
       "    }\n",
       "\n",
       "    .dataframe thead th {\n",
       "        text-align: right;\n",
       "    }\n",
       "</style>\n",
       "<table border=\"1\" class=\"dataframe\">\n",
       "  <thead>\n",
       "    <tr style=\"text-align: right;\">\n",
       "      <th></th>\n",
       "      <th>Metadata_cell_type</th>\n",
       "      <th>Metadata_Well</th>\n",
       "      <th>Metadata_number_of_singlecells</th>\n",
       "      <th>Metadata_incubation inducer (h)</th>\n",
       "      <th>Metadata_inhibitor</th>\n",
       "      <th>Metadata_inhibitor_concentration</th>\n",
       "      <th>Metadata_inhibitor_concentration_unit</th>\n",
       "      <th>Metadata_inducer1</th>\n",
       "      <th>Metadata_inducer1_concentration</th>\n",
       "      <th>Metadata_inducer1_concentration_unit</th>\n",
       "      <th>...</th>\n",
       "      <th>Nuclei_Texture_SumEntropy_CorrPM_3_01_256</th>\n",
       "      <th>Nuclei_Texture_SumVariance_CorrPM_3_01_256</th>\n",
       "      <th>Nuclei_Texture_Variance_CorrER_3_00_256</th>\n",
       "      <th>Nuclei_Texture_Variance_CorrGasdermin_3_00_256</th>\n",
       "      <th>Metadata_Treatment</th>\n",
       "      <th>Metadata_Dose</th>\n",
       "      <th>oneb_Metadata_Treatment_Dose_Inhibitor_Dose</th>\n",
       "      <th>twob_Metadata_Treatment_Dose_Inhibitor_Dose</th>\n",
       "      <th>threeb_Metadata_Treatment_Dose_Inhibitor_Dose</th>\n",
       "      <th>fourb_Metadata_Treatment_Dose_Inhibitor_Dose</th>\n",
       "    </tr>\n",
       "  </thead>\n",
       "  <tbody>\n",
       "    <tr>\n",
       "      <th>0</th>\n",
       "      <td>PBMC</td>\n",
       "      <td>B02</td>\n",
       "      <td>34618</td>\n",
       "      <td>6</td>\n",
       "      <td>DMSO</td>\n",
       "      <td>0.025</td>\n",
       "      <td>%</td>\n",
       "      <td>LPS</td>\n",
       "      <td>0.01</td>\n",
       "      <td>µg_per_ml</td>\n",
       "      <td>...</td>\n",
       "      <td>0.108250</td>\n",
       "      <td>-0.068544</td>\n",
       "      <td>-0.205295</td>\n",
       "      <td>-0.197257</td>\n",
       "      <td>LPS</td>\n",
       "      <td>0.010</td>\n",
       "      <td>LPS_0.010_DMSO_0.025</td>\n",
       "      <td>LPS_DMSO_0.025__0.010</td>\n",
       "      <td>LPS__0.010__DMSO_0.025</td>\n",
       "      <td>LPS__0.010__DMSO__0.025</td>\n",
       "    </tr>\n",
       "    <tr>\n",
       "      <th>1</th>\n",
       "      <td>PBMC</td>\n",
       "      <td>B02</td>\n",
       "      <td>34618</td>\n",
       "      <td>6</td>\n",
       "      <td>DMSO</td>\n",
       "      <td>0.025</td>\n",
       "      <td>%</td>\n",
       "      <td>LPS</td>\n",
       "      <td>0.01</td>\n",
       "      <td>µg_per_ml</td>\n",
       "      <td>...</td>\n",
       "      <td>-0.929131</td>\n",
       "      <td>-0.158906</td>\n",
       "      <td>-0.198572</td>\n",
       "      <td>-0.185623</td>\n",
       "      <td>LPS</td>\n",
       "      <td>0.010</td>\n",
       "      <td>LPS_0.010_DMSO_0.025</td>\n",
       "      <td>LPS_DMSO_0.025__0.010</td>\n",
       "      <td>LPS__0.010__DMSO_0.025</td>\n",
       "      <td>LPS__0.010__DMSO__0.025</td>\n",
       "    </tr>\n",
       "    <tr>\n",
       "      <th>2</th>\n",
       "      <td>PBMC</td>\n",
       "      <td>B02</td>\n",
       "      <td>34618</td>\n",
       "      <td>6</td>\n",
       "      <td>DMSO</td>\n",
       "      <td>0.025</td>\n",
       "      <td>%</td>\n",
       "      <td>LPS</td>\n",
       "      <td>0.01</td>\n",
       "      <td>µg_per_ml</td>\n",
       "      <td>...</td>\n",
       "      <td>-1.227278</td>\n",
       "      <td>-0.163521</td>\n",
       "      <td>-0.165140</td>\n",
       "      <td>-0.174762</td>\n",
       "      <td>LPS</td>\n",
       "      <td>0.010</td>\n",
       "      <td>LPS_0.010_DMSO_0.025</td>\n",
       "      <td>LPS_DMSO_0.025__0.010</td>\n",
       "      <td>LPS__0.010__DMSO_0.025</td>\n",
       "      <td>LPS__0.010__DMSO__0.025</td>\n",
       "    </tr>\n",
       "    <tr>\n",
       "      <th>3</th>\n",
       "      <td>PBMC</td>\n",
       "      <td>B02</td>\n",
       "      <td>34618</td>\n",
       "      <td>6</td>\n",
       "      <td>DMSO</td>\n",
       "      <td>0.025</td>\n",
       "      <td>%</td>\n",
       "      <td>LPS</td>\n",
       "      <td>0.01</td>\n",
       "      <td>µg_per_ml</td>\n",
       "      <td>...</td>\n",
       "      <td>2.153910</td>\n",
       "      <td>0.586555</td>\n",
       "      <td>0.258023</td>\n",
       "      <td>0.218118</td>\n",
       "      <td>LPS</td>\n",
       "      <td>0.010</td>\n",
       "      <td>LPS_0.010_DMSO_0.025</td>\n",
       "      <td>LPS_DMSO_0.025__0.010</td>\n",
       "      <td>LPS__0.010__DMSO_0.025</td>\n",
       "      <td>LPS__0.010__DMSO__0.025</td>\n",
       "    </tr>\n",
       "    <tr>\n",
       "      <th>4</th>\n",
       "      <td>PBMC</td>\n",
       "      <td>B02</td>\n",
       "      <td>34618</td>\n",
       "      <td>6</td>\n",
       "      <td>DMSO</td>\n",
       "      <td>0.025</td>\n",
       "      <td>%</td>\n",
       "      <td>LPS</td>\n",
       "      <td>0.01</td>\n",
       "      <td>µg_per_ml</td>\n",
       "      <td>...</td>\n",
       "      <td>-0.557309</td>\n",
       "      <td>-0.148980</td>\n",
       "      <td>-0.122860</td>\n",
       "      <td>-0.110851</td>\n",
       "      <td>LPS</td>\n",
       "      <td>0.010</td>\n",
       "      <td>LPS_0.010_DMSO_0.025</td>\n",
       "      <td>LPS_DMSO_0.025__0.010</td>\n",
       "      <td>LPS__0.010__DMSO_0.025</td>\n",
       "      <td>LPS__0.010__DMSO__0.025</td>\n",
       "    </tr>\n",
       "  </tbody>\n",
       "</table>\n",
       "<p>5 rows × 1270 columns</p>\n",
       "</div>"
      ],
      "text/plain": [
       "  Metadata_cell_type Metadata_Well  Metadata_number_of_singlecells  \\\n",
       "0               PBMC           B02                           34618   \n",
       "1               PBMC           B02                           34618   \n",
       "2               PBMC           B02                           34618   \n",
       "3               PBMC           B02                           34618   \n",
       "4               PBMC           B02                           34618   \n",
       "\n",
       "   Metadata_incubation inducer (h) Metadata_inhibitor  \\\n",
       "0                                6               DMSO   \n",
       "1                                6               DMSO   \n",
       "2                                6               DMSO   \n",
       "3                                6               DMSO   \n",
       "4                                6               DMSO   \n",
       "\n",
       "   Metadata_inhibitor_concentration Metadata_inhibitor_concentration_unit  \\\n",
       "0                             0.025                                     %   \n",
       "1                             0.025                                     %   \n",
       "2                             0.025                                     %   \n",
       "3                             0.025                                     %   \n",
       "4                             0.025                                     %   \n",
       "\n",
       "  Metadata_inducer1  Metadata_inducer1_concentration  \\\n",
       "0               LPS                             0.01   \n",
       "1               LPS                             0.01   \n",
       "2               LPS                             0.01   \n",
       "3               LPS                             0.01   \n",
       "4               LPS                             0.01   \n",
       "\n",
       "  Metadata_inducer1_concentration_unit  ...  \\\n",
       "0                            µg_per_ml  ...   \n",
       "1                            µg_per_ml  ...   \n",
       "2                            µg_per_ml  ...   \n",
       "3                            µg_per_ml  ...   \n",
       "4                            µg_per_ml  ...   \n",
       "\n",
       "  Nuclei_Texture_SumEntropy_CorrPM_3_01_256  \\\n",
       "0                                  0.108250   \n",
       "1                                 -0.929131   \n",
       "2                                 -1.227278   \n",
       "3                                  2.153910   \n",
       "4                                 -0.557309   \n",
       "\n",
       "   Nuclei_Texture_SumVariance_CorrPM_3_01_256  \\\n",
       "0                                   -0.068544   \n",
       "1                                   -0.158906   \n",
       "2                                   -0.163521   \n",
       "3                                    0.586555   \n",
       "4                                   -0.148980   \n",
       "\n",
       "  Nuclei_Texture_Variance_CorrER_3_00_256  \\\n",
       "0                               -0.205295   \n",
       "1                               -0.198572   \n",
       "2                               -0.165140   \n",
       "3                                0.258023   \n",
       "4                               -0.122860   \n",
       "\n",
       "   Nuclei_Texture_Variance_CorrGasdermin_3_00_256 Metadata_Treatment  \\\n",
       "0                                       -0.197257                LPS   \n",
       "1                                       -0.185623                LPS   \n",
       "2                                       -0.174762                LPS   \n",
       "3                                        0.218118                LPS   \n",
       "4                                       -0.110851                LPS   \n",
       "\n",
       "   Metadata_Dose  oneb_Metadata_Treatment_Dose_Inhibitor_Dose  \\\n",
       "0          0.010                         LPS_0.010_DMSO_0.025   \n",
       "1          0.010                         LPS_0.010_DMSO_0.025   \n",
       "2          0.010                         LPS_0.010_DMSO_0.025   \n",
       "3          0.010                         LPS_0.010_DMSO_0.025   \n",
       "4          0.010                         LPS_0.010_DMSO_0.025   \n",
       "\n",
       "   twob_Metadata_Treatment_Dose_Inhibitor_Dose  \\\n",
       "0                        LPS_DMSO_0.025__0.010   \n",
       "1                        LPS_DMSO_0.025__0.010   \n",
       "2                        LPS_DMSO_0.025__0.010   \n",
       "3                        LPS_DMSO_0.025__0.010   \n",
       "4                        LPS_DMSO_0.025__0.010   \n",
       "\n",
       "   threeb_Metadata_Treatment_Dose_Inhibitor_Dose  \\\n",
       "0                         LPS__0.010__DMSO_0.025   \n",
       "1                         LPS__0.010__DMSO_0.025   \n",
       "2                         LPS__0.010__DMSO_0.025   \n",
       "3                         LPS__0.010__DMSO_0.025   \n",
       "4                         LPS__0.010__DMSO_0.025   \n",
       "\n",
       "   fourb_Metadata_Treatment_Dose_Inhibitor_Dose  \n",
       "0                       LPS__0.010__DMSO__0.025  \n",
       "1                       LPS__0.010__DMSO__0.025  \n",
       "2                       LPS__0.010__DMSO__0.025  \n",
       "3                       LPS__0.010__DMSO__0.025  \n",
       "4                       LPS__0.010__DMSO__0.025  \n",
       "\n",
       "[5 rows x 1270 columns]"
      ]
     },
     "execution_count": 5,
     "metadata": {},
     "output_type": "execute_result"
    }
   ],
   "source": [
    "path = pathlib.Path(f\"../../../data/{cell_type}_preprocessed_sc_norm.parquet\")\n",
    "\n",
    "data_df = pq.read_table(path).to_pandas()\n",
    "\n",
    "data_df.head()"
   ]
  },
  {
   "cell_type": "code",
   "execution_count": 6,
   "id": "e0705edc",
   "metadata": {
    "execution": {
     "iopub.execute_input": "2023-09-11T21:58:31.349106Z",
     "iopub.status.busy": "2023-09-11T21:58:31.348686Z",
     "iopub.status.idle": "2023-09-11T21:58:31.364172Z",
     "shell.execute_reply": "2023-09-11T21:58:31.363740Z"
    },
    "papermill": {
     "duration": 0.019758,
     "end_time": "2023-09-11T21:58:31.365121",
     "exception": false,
     "start_time": "2023-09-11T21:58:31.345363",
     "status": "completed"
    },
    "tags": []
   },
   "outputs": [],
   "source": [
    "if nomic == True:\n",
    "    # import nomic data\n",
    "    nomic_df_path = pathlib.Path(\n",
    "        f\"../../../2.Nomic_nELISA_Analysis/Data/clean/Plate2/nELISA_plate_430420_{cell_type}_cleanup4correlation.csv\"\n",
    "    )\n",
    "    df_nomic = pd.read_csv(nomic_df_path)\n",
    "\n",
    "    # drop columns that contain [pgML]\n",
    "    df_nomic = df_nomic.drop(\n",
    "        columns=[col for col in df_nomic.columns if \"[pgML]\" in col]\n",
    "    )\n",
    "    # drop first 25 columns\n",
    "    # df_nomic = df_nomic.drop(columns=df_nomic.columns[3:25])\n",
    "    # df_nomic = df_nomic.drop(columns=df_nomic.columns[0:2])\n",
    "else:\n",
    "    df_nomic = None"
   ]
  },
  {
   "cell_type": "code",
   "execution_count": 7,
   "id": "3c7f01ba",
   "metadata": {
    "execution": {
     "iopub.execute_input": "2023-09-11T21:58:31.371631Z",
     "iopub.status.busy": "2023-09-11T21:58:31.371229Z",
     "iopub.status.idle": "2023-09-11T21:58:44.573624Z",
     "shell.execute_reply": "2023-09-11T21:58:44.573120Z"
    },
    "papermill": {
     "duration": 13.20729,
     "end_time": "2023-09-11T21:58:44.575068",
     "exception": false,
     "start_time": "2023-09-11T21:58:31.367778",
     "status": "completed"
    },
    "tags": []
   },
   "outputs": [],
   "source": [
    "# subset each column that contains metadata\n",
    "metadata = data_df.filter(regex=\"Metadata\")\n",
    "\n",
    "# get all columns that are not metadata except for metadata_Well\n",
    "data = data_df.drop(metadata.columns, axis=1)\n",
    "\n",
    "# get the metadata_Well column\n",
    "metadata_well = metadata[\n",
    "    [\"Metadata_Well\", \"oneb_Metadata_Treatment_Dose_Inhibitor_Dose\"]\n",
    "]\n",
    "\n",
    "data_df = pd.merge(data, metadata_well, left_index=True, right_index=True)"
   ]
  },
  {
   "cell_type": "code",
   "execution_count": 8,
   "id": "247dccb4",
   "metadata": {
    "execution": {
     "iopub.execute_input": "2023-09-11T21:58:44.582240Z",
     "iopub.status.busy": "2023-09-11T21:58:44.581875Z",
     "iopub.status.idle": "2023-09-11T21:59:00.346236Z",
     "shell.execute_reply": "2023-09-11T21:59:00.345734Z"
    },
    "papermill": {
     "duration": 15.769329,
     "end_time": "2023-09-11T21:59:00.347688",
     "exception": false,
     "start_time": "2023-09-11T21:58:44.578359",
     "status": "completed"
    },
    "tags": []
   },
   "outputs": [],
   "source": [
    "if (aggregation == True) and (nomic == True):\n",
    "\n",
    "    # subset each column that contains metadata\n",
    "    metadata = data_df.filter(regex=\"Metadata\")\n",
    "    data_df = data_df.drop(metadata.columns, axis=1)\n",
    "    data_df = pd.concat([data_df, metadata[\"Metadata_Well\"]], axis=1)\n",
    "    # groupby well and take mean of each well\n",
    "    data_df = data_df.groupby(\"Metadata_Well\").mean()\n",
    "    # drop duplicate rows in the metadata_well column\n",
    "    metadata = metadata.drop_duplicates(subset=[\"Metadata_Well\"])\n",
    "    # get the metadata for each well\n",
    "    data_df = pd.merge(\n",
    "        data_df, metadata, left_on=\"Metadata_Well\", right_on=\"Metadata_Well\"\n",
    "    )\n",
    "    data_df = pd.merge(\n",
    "        data_df,\n",
    "        df_nomic,\n",
    "        left_on=[\"Metadata_Well\", \"oneb_Metadata_Treatment_Dose_Inhibitor_Dose\"],\n",
    "        right_on=[\"Metadata_position_x\", \"oneb_Metadata_Treatment_Dose_Inhibitor_Dose\"],\n",
    "    )\n",
    "    data_df = data_df.drop(columns=[\"Metadata_position_x\"])\n",
    "    # drop all metadata columns\n",
    "    labeled_data = data_df[\"oneb_Metadata_Treatment_Dose_Inhibitor_Dose\"]\n",
    "    data_x = data_df.drop(metadata.columns, axis=1)\n",
    "\n",
    "elif (aggregation == True) and (nomic == False):\n",
    "    # subset each column that contains metadata\n",
    "    metadata = data.filter(regex=\"Metadata\")\n",
    "    data_df = data_df.drop(metadata.columns, axis=1)\n",
    "    data_df = pd.concat([data_df, metadata[\"Metadata_Well\"]], axis=1)\n",
    "    # groupby well and take mean of each well\n",
    "    data_df = data_df.groupby(\"Metadata_Well\").mean()\n",
    "    # drop duplicate rows in the metadata_well column\n",
    "    metadata = metadata.drop_duplicates(subset=[\"Metadata_Well\"])\n",
    "    # get the metadata for each well\n",
    "    data_df = pd.merge(\n",
    "        data_df,\n",
    "        df_nomic,\n",
    "        left_on=[\"Metadata_Well\", \"oneb_Metadata_Treatment_Dose_Inhibitor_Dose\"],\n",
    "        right_on=[\"Metadata_position_x\", \"oneb_Metadata_Treatment_Dose_Inhibitor_Dose\"],\n",
    "    )\n",
    "elif (aggregation == False) and (nomic == True):\n",
    "    data_df = pd.merge(\n",
    "        data_df,\n",
    "        df_nomic,\n",
    "        left_on=[\"Metadata_Well\", \"oneb_Metadata_Treatment_Dose_Inhibitor_Dose\"],\n",
    "        right_on=[\"Metadata_position_x\", \"oneb_Metadata_Treatment_Dose_Inhibitor_Dose\"],\n",
    "    )\n",
    "    data_df = data_df.drop(columns=[\"Metadata_position_x\"])\n",
    "elif aggregation == False and nomic == False:\n",
    "    pass\n",
    "else:\n",
    "    print(\"Error\")"
   ]
  },
  {
   "cell_type": "markdown",
   "id": "8d2cc57e",
   "metadata": {
    "execution": {
     "iopub.execute_input": "2023-07-23T19:05:37.280541Z",
     "iopub.status.busy": "2023-07-23T19:05:37.280345Z",
     "iopub.status.idle": "2023-07-23T19:05:37.282628Z",
     "shell.execute_reply": "2023-07-23T19:05:37.282294Z"
    },
    "papermill": {
     "duration": 0.002632,
     "end_time": "2023-09-11T21:59:00.353507",
     "exception": false,
     "start_time": "2023-09-11T21:59:00.350875",
     "status": "completed"
    },
    "tags": []
   },
   "source": [
    "This model and code is both inspired and reused from: https://github.com/WayScience/phenotypic_profiling_model/blob/main/1.split_data/split_data.ipynb\n",
    "The bulk of this work was done by **Roshan Kern** I have only made minor changes to the code to make it more modular and easier to use for my purposes."
   ]
  },
  {
   "cell_type": "code",
   "execution_count": 9,
   "id": "d59ece5b",
   "metadata": {
    "execution": {
     "iopub.execute_input": "2023-09-11T21:59:00.359867Z",
     "iopub.status.busy": "2023-09-11T21:59:00.359545Z",
     "iopub.status.idle": "2023-09-11T21:59:00.361942Z",
     "shell.execute_reply": "2023-09-11T21:59:00.361577Z"
    },
    "papermill": {
     "duration": 0.006709,
     "end_time": "2023-09-11T21:59:00.362834",
     "exception": false,
     "start_time": "2023-09-11T21:59:00.356125",
     "status": "completed"
    },
    "tags": []
   },
   "outputs": [],
   "source": [
    "# get oneb_Metadata_Treatment_Dose_Inhibitor_Dose  =='DMSO_0.100_DMSO_0.025' and 'LPS_100.000_DMSO_0.025 and Thapsigargin_10.000_DMSO_0.025'\n",
    "# data_df = data_df[\n",
    "#     data_df[\"oneb_Metadata_Treatment_Dose_Inhibitor_Dose\"].isin([control, treatment])\n",
    "# ]"
   ]
  },
  {
   "cell_type": "code",
   "execution_count": 10,
   "id": "4eee6f0a",
   "metadata": {
    "execution": {
     "iopub.execute_input": "2023-09-11T21:59:00.368914Z",
     "iopub.status.busy": "2023-09-11T21:59:00.368646Z",
     "iopub.status.idle": "2023-09-11T21:59:00.539747Z",
     "shell.execute_reply": "2023-09-11T21:59:00.539326Z"
    },
    "papermill": {
     "duration": 0.175134,
     "end_time": "2023-09-11T21:59:00.540663",
     "exception": false,
     "start_time": "2023-09-11T21:59:00.365529",
     "status": "completed"
    },
    "tags": []
   },
   "outputs": [
    {
     "data": {
      "text/plain": [
       "array(['LPS_0.010_DMSO_0.025', 'LPS_0.100_DMSO_0.025',\n",
       "       'LPS_Nigericin_100.000_1.0_DMSO_0.025',\n",
       "       'LPS_Nigericin_100.000_3.0_DMSO_0.025', 'DMSO_0.100_DMSO_0.025',\n",
       "       'LPS_1.000_DMSO_0.025', 'LPS_10.000_DMSO_0.025',\n",
       "       'LPS_Nigericin_100.000_10.0_DMSO_0.025',\n",
       "       'Disulfiram_0.100_DMSO_0.025', 'Thapsigargin_1.000_DMSO_0.025',\n",
       "       'Thapsigargin_10.000_DMSO_0.025', 'Disulfiram_1.000_DMSO_0.025',\n",
       "       'Disulfiram_2.500_DMSO_0.025', 'Topotecan_5.000_DMSO_0.025',\n",
       "       'Topotecan_10.000_DMSO_0.025', 'H2O2_100.000_DMSO_0.025',\n",
       "       'Topotecan_20.000_DMSO_0.025', 'LPS_100.000_DMSO_0.025',\n",
       "       'LPS_Nigericin_1.000_1.0_DMSO_0.025',\n",
       "       'LPS_Nigericin_1.000_3.0_DMSO_0.025',\n",
       "       'LPS_Nigericin_1.000_10.0_DMSO_0.025',\n",
       "       'Flagellin_0.100_DMSO_0.025', 'Flagellin_1.000_DMSO_0.025'],\n",
       "      dtype=object)"
      ]
     },
     "execution_count": 10,
     "metadata": {},
     "output_type": "execute_result"
    }
   ],
   "source": [
    "data_df[\"oneb_Metadata_Treatment_Dose_Inhibitor_Dose\"].unique()"
   ]
  },
  {
   "cell_type": "code",
   "execution_count": 11,
   "id": "50808746",
   "metadata": {
    "execution": {
     "iopub.execute_input": "2023-09-11T21:59:00.547529Z",
     "iopub.status.busy": "2023-09-11T21:59:00.547030Z",
     "iopub.status.idle": "2023-09-11T21:59:13.767306Z",
     "shell.execute_reply": "2023-09-11T21:59:13.766852Z"
    },
    "papermill": {
     "duration": 13.224733,
     "end_time": "2023-09-11T21:59:13.768263",
     "exception": false,
     "start_time": "2023-09-11T21:59:00.543530",
     "status": "completed"
    },
    "tags": []
   },
   "outputs": [
    {
     "name": "stdout",
     "output_type": "stream",
     "text": [
      "(313694, 1435) (302515, 1435) (2812567, 1435)\n"
     ]
    }
   ],
   "source": [
    "# variable test and train set splits\n",
    "# 100% test set\n",
    "# subset the following treatments for test set\n",
    "test_set_all = data_df[\n",
    "    data_df[\"oneb_Metadata_Treatment_Dose_Inhibitor_Dose\"].isin(test_100_percent)\n",
    "]\n",
    "# 75% test set and 25% train set\n",
    "test_set_75 = data_df[\n",
    "    data_df[\"oneb_Metadata_Treatment_Dose_Inhibitor_Dose\"].isin(test_75_percent)\n",
    "]\n",
    "\n",
    "# 50% test set and 50% train set\n",
    "# get all treatments that are not in the_test_set_all and the test_set_75\n",
    "test_set_50 = data_df[\n",
    "    ~data_df[\"oneb_Metadata_Treatment_Dose_Inhibitor_Dose\"].isin(\n",
    "        test_set_all[\"oneb_Metadata_Treatment_Dose_Inhibitor_Dose\"]\n",
    "    )\n",
    "]\n",
    "test_set_50 = test_set_50[\n",
    "    ~test_set_50[\"oneb_Metadata_Treatment_Dose_Inhibitor_Dose\"].isin(\n",
    "        test_set_75[\"oneb_Metadata_Treatment_Dose_Inhibitor_Dose\"]\n",
    "    )\n",
    "]\n",
    "\n",
    "print(test_set_all.shape, test_set_75.shape, test_set_50.shape)"
   ]
  },
  {
   "cell_type": "code",
   "execution_count": 12,
   "id": "852dffa4",
   "metadata": {
    "execution": {
     "iopub.execute_input": "2023-09-11T21:59:13.775667Z",
     "iopub.status.busy": "2023-09-11T21:59:13.775230Z",
     "iopub.status.idle": "2023-09-11T21:59:43.333237Z",
     "shell.execute_reply": "2023-09-11T21:59:43.332756Z"
    },
    "papermill": {
     "duration": 29.562611,
     "end_time": "2023-09-11T21:59:43.334201",
     "exception": false,
     "start_time": "2023-09-11T21:59:13.771590",
     "status": "completed"
    },
    "tags": []
   },
   "outputs": [
    {
     "name": "stdout",
     "output_type": "stream",
     "text": [
      "Shape for the 100% test set: (313694, 1435)\n",
      "\n",
      "Shape for the 75% test set: (75628, 1435);\n",
      "Shape for the 75% train set: (226887, 1435)\n",
      "\n",
      "Shape for the 50% test set: (1406283, 1435);\n",
      "Shape for the 50% train set: (1406284, 1435)\n"
     ]
    }
   ],
   "source": [
    "# get the train test splits from each group\n",
    "# 100% test set\n",
    "test_set_all\n",
    "\n",
    "# 75% test set and 25% train set\n",
    "test_ratio = 0.75\n",
    "training_data_set_75, testing_data_set_75 = train_test_split(\n",
    "    test_set_75,\n",
    "    test_size=test_ratio,\n",
    "    stratify=test_set_75[\"oneb_Metadata_Treatment_Dose_Inhibitor_Dose\"],\n",
    "    random_state=0,\n",
    ")\n",
    "\n",
    "# 50% test set and 50% train set\n",
    "test_ratio = 0.5\n",
    "training_data_set_50, testing_data_set_50 = train_test_split(\n",
    "    test_set_50,\n",
    "    test_size=test_ratio,\n",
    "    stratify=test_set_50[\"oneb_Metadata_Treatment_Dose_Inhibitor_Dose\"],\n",
    "    random_state=0,\n",
    ")\n",
    "\n",
    "# verify that the correct splits have been made\n",
    "# 100% test set\n",
    "print(f\"Shape for the 100% test set: {test_set_all.shape}\\n\")\n",
    "\n",
    "# 75% test set and 25% train set\n",
    "print(\n",
    "    f\"Shape for the 75% test set: {training_data_set_75.shape};\\nShape for the 75% train set: {testing_data_set_75.shape}\\n\"\n",
    ")\n",
    "\n",
    "# 50% test set and 50% train set\n",
    "print(\n",
    "    f\"Shape for the 50% test set: {training_data_set_50.shape};\\nShape for the 50% train set: {testing_data_set_50.shape}\"\n",
    ")"
   ]
  },
  {
   "cell_type": "code",
   "execution_count": 13,
   "id": "4994791d",
   "metadata": {
    "execution": {
     "iopub.execute_input": "2023-09-11T21:59:43.341634Z",
     "iopub.status.busy": "2023-09-11T21:59:43.341227Z",
     "iopub.status.idle": "2023-09-11T22:00:07.325533Z",
     "shell.execute_reply": "2023-09-11T22:00:07.325061Z"
    },
    "papermill": {
     "duration": 23.989043,
     "end_time": "2023-09-11T22:00:07.326533",
     "exception": false,
     "start_time": "2023-09-11T21:59:43.337490",
     "status": "completed"
    },
    "tags": []
   },
   "outputs": [
    {
     "name": "stdout",
     "output_type": "stream",
     "text": [
      "Testing set length: 1946865\n",
      "Training set length: 1481911\n"
     ]
    }
   ],
   "source": [
    "# combine all testing sets together while preserving the index\n",
    "testing_data_set = pd.concat(\n",
    "    [test_set_all, testing_data_set_75, testing_data_set_50], axis=0\n",
    ")\n",
    "testing_data_set = testing_data_set.sort_index()\n",
    "testing_data_set\n",
    "\n",
    "# combine all training sets together while preserving the index\n",
    "training_data_set = pd.concat([training_data_set_75, training_data_set_50], axis=0)\n",
    "training_data_set = training_data_set.sort_index()\n",
    "training_data_set\n",
    "\n",
    "print(\n",
    "    f\"Testing set length: {len(testing_data_set)}\\nTraining set length: {len(training_data_set)}\"\n",
    ")\n",
    "\n",
    "# get the indexes for the training and testing sets\n",
    "testing_data_set_index = testing_data_set.index\n",
    "training_data_set_index = training_data_set.index"
   ]
  },
  {
   "cell_type": "code",
   "execution_count": 14,
   "id": "8656f69b",
   "metadata": {
    "execution": {
     "iopub.execute_input": "2023-09-11T22:00:07.333794Z",
     "iopub.status.busy": "2023-09-11T22:00:07.333551Z",
     "iopub.status.idle": "2023-09-11T22:00:09.782222Z",
     "shell.execute_reply": "2023-09-11T22:00:09.781709Z"
    },
    "papermill": {
     "duration": 2.453778,
     "end_time": "2023-09-11T22:00:09.783670",
     "exception": false,
     "start_time": "2023-09-11T22:00:07.329892",
     "status": "completed"
    },
    "tags": []
   },
   "outputs": [],
   "source": [
    "# create pandas dataframe with all indexes and their respective labels, stratified by phenotypic class\n",
    "index_data = []\n",
    "for index in training_data_set_index:\n",
    "    index_data.append({\"labeled_data_index\": index, \"label\": \"train\"})\n",
    "for index in testing_data_set_index:\n",
    "    index_data.append({\"labeled_data_index\": index, \"label\": \"test\"})\n",
    "\n",
    "# make index data a dataframe and sort it by labeled data index\n",
    "index_data = pd.DataFrame(index_data).sort_values([\"labeled_data_index\"])"
   ]
  },
  {
   "cell_type": "code",
   "execution_count": 15,
   "id": "8cf8202b",
   "metadata": {
    "execution": {
     "iopub.execute_input": "2023-09-11T22:00:09.790998Z",
     "iopub.status.busy": "2023-09-11T22:00:09.790548Z",
     "iopub.status.idle": "2023-09-11T22:00:09.794729Z",
     "shell.execute_reply": "2023-09-11T22:00:09.794344Z"
    },
    "papermill": {
     "duration": 0.008771,
     "end_time": "2023-09-11T22:00:09.795595",
     "exception": false,
     "start_time": "2023-09-11T22:00:09.786824",
     "status": "completed"
    },
    "tags": []
   },
   "outputs": [
    {
     "name": "stdout",
     "output_type": "stream",
     "text": [
      "../indexes/PBMC/regression\n"
     ]
    }
   ],
   "source": [
    "# set save path\n",
    "if aggregation == True:\n",
    "    if nomic == True:\n",
    "        save_path = pathlib.Path(f\"../indexes/{cell_type}/{MODEL_TYPE}\")\n",
    "    elif nomic == False:\n",
    "        save_path = pathlib.Path(f\"../indexes/{cell_type}/{MODEL_TYPE}\")\n",
    "elif aggregation == False:\n",
    "    if nomic == True:\n",
    "        save_path = pathlib.Path(f\"../indexes/{cell_type}/{MODEL_TYPE}\")\n",
    "    elif nomic == False:\n",
    "        save_path = pathlib.Path(f\"../indexes/{cell_type}/{MODEL_TYPE}\")\n",
    "else:\n",
    "    print(\"Error\")\n",
    "\n",
    "print(save_path)\n",
    "# create save path if it doesn't exist\n",
    "save_path.mkdir(parents=True, exist_ok=True)"
   ]
  },
  {
   "cell_type": "code",
   "execution_count": 16,
   "id": "aeaadb77",
   "metadata": {
    "execution": {
     "iopub.execute_input": "2023-09-11T22:00:09.802393Z",
     "iopub.status.busy": "2023-09-11T22:00:09.802059Z",
     "iopub.status.idle": "2023-09-11T22:00:13.292993Z",
     "shell.execute_reply": "2023-09-11T22:00:13.292470Z"
    },
    "papermill": {
     "duration": 3.49584,
     "end_time": "2023-09-11T22:00:13.294337",
     "exception": false,
     "start_time": "2023-09-11T22:00:09.798497",
     "status": "completed"
    },
    "tags": []
   },
   "outputs": [],
   "source": [
    "# save indexes as tsv file\n",
    "if aggregation == True:\n",
    "    if nomic == True:\n",
    "        index_data.to_csv(\n",
    "            f\"{save_path}/aggregated_sc_and_nomic_data_split_indexes.tsv\", sep=\"\\t\"\n",
    "        )\n",
    "    elif nomic == False:\n",
    "        index_data.to_csv(f\"{save_path}/aggregated_sc_data_split_indexes.tsv\", sep=\"\\t\")\n",
    "elif aggregation == False:\n",
    "    if nomic == True:\n",
    "        index_data.to_csv(f\"{save_path}/sc_and_nomic_data_split_indexes.tsv\", sep=\"\\t\")\n",
    "    elif nomic == False:\n",
    "        index_data.to_csv(f\"{save_path}/sc_split_indexes.tsv\", sep=\"\\t\")\n",
    "else:\n",
    "    print(\"Error\")"
   ]
  }
 ],
 "metadata": {
  "jupytext": {
   "formats": "ipynb,../scripts//py:percent"
  },
  "kernelspec": {
   "display_name": "Interstellar",
   "language": "python",
   "name": "python3"
  },
  "language_info": {
   "codemirror_mode": {
    "name": "ipython",
    "version": 3
   },
   "file_extension": ".py",
   "mimetype": "text/x-python",
   "name": "python",
   "nbconvert_exporter": "python",
   "pygments_lexer": "ipython3",
   "version": "3.10.12"
  },
  "papermill": {
   "default_parameters": {},
   "duration": 176.120404,
   "end_time": "2023-09-11T22:00:14.013385",
   "environment_variables": {},
   "exception": null,
   "input_path": "0.split_data_regression.ipynb",
   "output_path": "0.split_data_regression.ipynb",
   "parameters": {
    "aggregation": false,
    "cell_type": "PBMC",
    "nomic": true
   },
   "start_time": "2023-09-11T21:57:17.892981",
   "version": "2.4.0"
  },
  "vscode": {
   "interpreter": {
    "hash": "72ae02083a9ca7d143c492d1aec380c7bf553ec51bd66e90e72bba65228121b6"
   }
  }
 },
 "nbformat": 4,
 "nbformat_minor": 5
}
