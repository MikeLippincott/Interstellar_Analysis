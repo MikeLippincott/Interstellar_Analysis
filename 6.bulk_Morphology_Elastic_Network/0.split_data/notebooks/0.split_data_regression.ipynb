{
 "cells": [
  {
   "cell_type": "code",
   "execution_count": 1,
   "id": "2a0c7e4f",
   "metadata": {
    "execution": {
     "iopub.execute_input": "2023-07-23T19:03:52.056423Z",
     "iopub.status.busy": "2023-07-23T19:03:52.056132Z",
     "iopub.status.idle": "2023-07-23T19:03:53.070848Z",
     "shell.execute_reply": "2023-07-23T19:03:53.070431Z"
    },
    "papermill": {
     "duration": 1.020566,
     "end_time": "2023-07-23T19:03:53.072209",
     "exception": false,
     "start_time": "2023-07-23T19:03:52.051643",
     "status": "completed"
    },
    "tags": []
   },
   "outputs": [],
   "source": [
    "import itertools\n",
    "import pathlib\n",
    "\n",
    "import numpy as np\n",
    "import pandas as pd\n",
    "import pyarrow.parquet as pq\n",
    "import toml\n",
    "from joblib import dump\n",
    "from sklearn.exceptions import ConvergenceWarning\n",
    "from sklearn.linear_model import LogisticRegression\n",
    "from sklearn.model_selection import GridSearchCV, StratifiedKFold, train_test_split\n",
    "from sklearn.utils import parallel_backend, shuffle"
   ]
  },
  {
   "cell_type": "code",
   "execution_count": 2,
   "id": "f3d9b295",
   "metadata": {
    "execution": {
     "iopub.execute_input": "2023-07-23T19:03:53.078725Z",
     "iopub.status.busy": "2023-07-23T19:03:53.078422Z",
     "iopub.status.idle": "2023-07-23T19:03:53.080807Z",
     "shell.execute_reply": "2023-07-23T19:03:53.080466Z"
    },
    "papermill": {
     "duration": 0.005665,
     "end_time": "2023-07-23T19:03:53.081555",
     "exception": false,
     "start_time": "2023-07-23T19:03:53.075890",
     "status": "completed"
    },
    "tags": [
     "injected-parameters"
    ]
   },
   "outputs": [],
   "source": [
    "# Parameters\n",
    "cell_type = \"SHSY5Y\"\n",
    "aggregation = True\n",
    "nomic = True\n",
    "flag = True"
   ]
  },
  {
   "cell_type": "code",
   "execution_count": 3,
   "id": "dc112da1",
   "metadata": {
    "execution": {
     "iopub.execute_input": "2023-07-23T19:03:53.085737Z",
     "iopub.status.busy": "2023-07-23T19:03:53.085445Z",
     "iopub.status.idle": "2023-07-23T19:03:53.088265Z",
     "shell.execute_reply": "2023-07-23T19:03:53.087948Z"
    },
    "papermill": {
     "duration": 0.005655,
     "end_time": "2023-07-23T19:03:53.088993",
     "exception": false,
     "start_time": "2023-07-23T19:03:53.083338",
     "status": "completed"
    },
    "tags": []
   },
   "outputs": [],
   "source": [
    "MODEL_TYPE = \"regression\""
   ]
  },
  {
   "cell_type": "code",
   "execution_count": 4,
   "id": "21983dd6",
   "metadata": {},
   "outputs": [],
   "source": [
    "# toml file path\n",
    "TOML_PATH = pathlib.Path(\"../splits.toml\")\n",
    "# read toml file via toml\n",
    "data_splits_by_treatments = toml.load(TOML_PATH)\n",
    "\n",
    "# define the 100% test set data treatments\n",
    "test_100_percent = data_splits_by_treatments[\"splits\"][\"data_splits_100\"]\n",
    "test_75_percent = data_splits_by_treatments[\"splits\"][\"data_splits_75\"]"
   ]
  },
  {
   "cell_type": "code",
   "execution_count": 5,
   "id": "ae396783",
   "metadata": {
    "execution": {
     "iopub.execute_input": "2023-07-23T19:03:53.093114Z",
     "iopub.status.busy": "2023-07-23T19:03:53.092838Z",
     "iopub.status.idle": "2023-07-23T19:05:15.307035Z",
     "shell.execute_reply": "2023-07-23T19:05:15.306565Z"
    },
    "papermill": {
     "duration": 82.220985,
     "end_time": "2023-07-23T19:05:15.311705",
     "exception": false,
     "start_time": "2023-07-23T19:03:53.090720",
     "status": "completed"
    },
    "tags": []
   },
   "outputs": [
    {
     "data": {
      "text/html": [
       "<div>\n",
       "<style scoped>\n",
       "    .dataframe tbody tr th:only-of-type {\n",
       "        vertical-align: middle;\n",
       "    }\n",
       "\n",
       "    .dataframe tbody tr th {\n",
       "        vertical-align: top;\n",
       "    }\n",
       "\n",
       "    .dataframe thead th {\n",
       "        text-align: right;\n",
       "    }\n",
       "</style>\n",
       "<table border=\"1\" class=\"dataframe\">\n",
       "  <thead>\n",
       "    <tr style=\"text-align: right;\">\n",
       "      <th></th>\n",
       "      <th>Metadata_cell_type</th>\n",
       "      <th>Metadata_Well</th>\n",
       "      <th>Metadata_number_of_singlecells</th>\n",
       "      <th>Metadata_incubation inducer (h)</th>\n",
       "      <th>Metadata_inhibitor</th>\n",
       "      <th>Metadata_inhibitor_concentration</th>\n",
       "      <th>Metadata_inhibitor_concentration_unit</th>\n",
       "      <th>Metadata_inducer1</th>\n",
       "      <th>Metadata_inducer1_concentration</th>\n",
       "      <th>Metadata_inducer1_concentration_unit</th>\n",
       "      <th>...</th>\n",
       "      <th>Nuclei_Texture_SumEntropy_CorrPM_3_01_256</th>\n",
       "      <th>Nuclei_Texture_SumVariance_CorrGasdermin_3_01_256</th>\n",
       "      <th>Nuclei_Texture_SumVariance_CorrMito_3_03_256</th>\n",
       "      <th>Nuclei_Texture_SumVariance_CorrPM_3_03_256</th>\n",
       "      <th>Metadata_Treatment</th>\n",
       "      <th>Metadata_Dose</th>\n",
       "      <th>oneb_Metadata_Treatment_Dose_Inhibitor_Dose</th>\n",
       "      <th>twob_Metadata_Treatment_Dose_Inhibitor_Dose</th>\n",
       "      <th>threeb_Metadata_Treatment_Dose_Inhibitor_Dose</th>\n",
       "      <th>fourb_Metadata_Treatment_Dose_Inhibitor_Dose</th>\n",
       "    </tr>\n",
       "  </thead>\n",
       "  <tbody>\n",
       "    <tr>\n",
       "      <th>0</th>\n",
       "      <td>SH-SY5Y</td>\n",
       "      <td>B13</td>\n",
       "      <td>3765</td>\n",
       "      <td>6</td>\n",
       "      <td>Media_ctr</td>\n",
       "      <td>0.0</td>\n",
       "      <td>None</td>\n",
       "      <td>media_ctr</td>\n",
       "      <td>0.0</td>\n",
       "      <td>None</td>\n",
       "      <td>...</td>\n",
       "      <td>1.851482</td>\n",
       "      <td>0.024721</td>\n",
       "      <td>0.307472</td>\n",
       "      <td>0.092086</td>\n",
       "      <td>media_ctr</td>\n",
       "      <td>0</td>\n",
       "      <td>media_ctr_0_Media_ctr_0.0</td>\n",
       "      <td>media_ctr_Media_ctr_0.0__0</td>\n",
       "      <td>media_ctr__0__Media_ctr_0.0</td>\n",
       "      <td>media_ctr__0__Media_ctr__0.0</td>\n",
       "    </tr>\n",
       "    <tr>\n",
       "      <th>1</th>\n",
       "      <td>SH-SY5Y</td>\n",
       "      <td>B13</td>\n",
       "      <td>3765</td>\n",
       "      <td>6</td>\n",
       "      <td>Media_ctr</td>\n",
       "      <td>0.0</td>\n",
       "      <td>None</td>\n",
       "      <td>media_ctr</td>\n",
       "      <td>0.0</td>\n",
       "      <td>None</td>\n",
       "      <td>...</td>\n",
       "      <td>0.897731</td>\n",
       "      <td>-0.041156</td>\n",
       "      <td>1.443262</td>\n",
       "      <td>0.009843</td>\n",
       "      <td>media_ctr</td>\n",
       "      <td>0</td>\n",
       "      <td>media_ctr_0_Media_ctr_0.0</td>\n",
       "      <td>media_ctr_Media_ctr_0.0__0</td>\n",
       "      <td>media_ctr__0__Media_ctr_0.0</td>\n",
       "      <td>media_ctr__0__Media_ctr__0.0</td>\n",
       "    </tr>\n",
       "    <tr>\n",
       "      <th>2</th>\n",
       "      <td>SH-SY5Y</td>\n",
       "      <td>B13</td>\n",
       "      <td>3765</td>\n",
       "      <td>6</td>\n",
       "      <td>Media_ctr</td>\n",
       "      <td>0.0</td>\n",
       "      <td>None</td>\n",
       "      <td>media_ctr</td>\n",
       "      <td>0.0</td>\n",
       "      <td>None</td>\n",
       "      <td>...</td>\n",
       "      <td>0.825970</td>\n",
       "      <td>-0.044386</td>\n",
       "      <td>-0.020445</td>\n",
       "      <td>0.000848</td>\n",
       "      <td>media_ctr</td>\n",
       "      <td>0</td>\n",
       "      <td>media_ctr_0_Media_ctr_0.0</td>\n",
       "      <td>media_ctr_Media_ctr_0.0__0</td>\n",
       "      <td>media_ctr__0__Media_ctr_0.0</td>\n",
       "      <td>media_ctr__0__Media_ctr__0.0</td>\n",
       "    </tr>\n",
       "    <tr>\n",
       "      <th>3</th>\n",
       "      <td>SH-SY5Y</td>\n",
       "      <td>B13</td>\n",
       "      <td>3765</td>\n",
       "      <td>6</td>\n",
       "      <td>Media_ctr</td>\n",
       "      <td>0.0</td>\n",
       "      <td>None</td>\n",
       "      <td>media_ctr</td>\n",
       "      <td>0.0</td>\n",
       "      <td>None</td>\n",
       "      <td>...</td>\n",
       "      <td>0.546308</td>\n",
       "      <td>-0.058328</td>\n",
       "      <td>-0.009632</td>\n",
       "      <td>-0.005811</td>\n",
       "      <td>media_ctr</td>\n",
       "      <td>0</td>\n",
       "      <td>media_ctr_0_Media_ctr_0.0</td>\n",
       "      <td>media_ctr_Media_ctr_0.0__0</td>\n",
       "      <td>media_ctr__0__Media_ctr_0.0</td>\n",
       "      <td>media_ctr__0__Media_ctr__0.0</td>\n",
       "    </tr>\n",
       "    <tr>\n",
       "      <th>4</th>\n",
       "      <td>SH-SY5Y</td>\n",
       "      <td>B13</td>\n",
       "      <td>3765</td>\n",
       "      <td>6</td>\n",
       "      <td>Media_ctr</td>\n",
       "      <td>0.0</td>\n",
       "      <td>None</td>\n",
       "      <td>media_ctr</td>\n",
       "      <td>0.0</td>\n",
       "      <td>None</td>\n",
       "      <td>...</td>\n",
       "      <td>1.034724</td>\n",
       "      <td>-0.035518</td>\n",
       "      <td>-0.038205</td>\n",
       "      <td>0.017690</td>\n",
       "      <td>media_ctr</td>\n",
       "      <td>0</td>\n",
       "      <td>media_ctr_0_Media_ctr_0.0</td>\n",
       "      <td>media_ctr_Media_ctr_0.0__0</td>\n",
       "      <td>media_ctr__0__Media_ctr_0.0</td>\n",
       "      <td>media_ctr__0__Media_ctr__0.0</td>\n",
       "    </tr>\n",
       "  </tbody>\n",
       "</table>\n",
       "<p>5 rows × 1276 columns</p>\n",
       "</div>"
      ],
      "text/plain": [
       "  Metadata_cell_type Metadata_Well  Metadata_number_of_singlecells  \\\n",
       "0            SH-SY5Y           B13                            3765   \n",
       "1            SH-SY5Y           B13                            3765   \n",
       "2            SH-SY5Y           B13                            3765   \n",
       "3            SH-SY5Y           B13                            3765   \n",
       "4            SH-SY5Y           B13                            3765   \n",
       "\n",
       "   Metadata_incubation inducer (h) Metadata_inhibitor  \\\n",
       "0                                6          Media_ctr   \n",
       "1                                6          Media_ctr   \n",
       "2                                6          Media_ctr   \n",
       "3                                6          Media_ctr   \n",
       "4                                6          Media_ctr   \n",
       "\n",
       "   Metadata_inhibitor_concentration Metadata_inhibitor_concentration_unit  \\\n",
       "0                               0.0                                  None   \n",
       "1                               0.0                                  None   \n",
       "2                               0.0                                  None   \n",
       "3                               0.0                                  None   \n",
       "4                               0.0                                  None   \n",
       "\n",
       "  Metadata_inducer1  Metadata_inducer1_concentration  \\\n",
       "0         media_ctr                              0.0   \n",
       "1         media_ctr                              0.0   \n",
       "2         media_ctr                              0.0   \n",
       "3         media_ctr                              0.0   \n",
       "4         media_ctr                              0.0   \n",
       "\n",
       "  Metadata_inducer1_concentration_unit  ...  \\\n",
       "0                                 None  ...   \n",
       "1                                 None  ...   \n",
       "2                                 None  ...   \n",
       "3                                 None  ...   \n",
       "4                                 None  ...   \n",
       "\n",
       "  Nuclei_Texture_SumEntropy_CorrPM_3_01_256  \\\n",
       "0                                  1.851482   \n",
       "1                                  0.897731   \n",
       "2                                  0.825970   \n",
       "3                                  0.546308   \n",
       "4                                  1.034724   \n",
       "\n",
       "   Nuclei_Texture_SumVariance_CorrGasdermin_3_01_256  \\\n",
       "0                                           0.024721   \n",
       "1                                          -0.041156   \n",
       "2                                          -0.044386   \n",
       "3                                          -0.058328   \n",
       "4                                          -0.035518   \n",
       "\n",
       "  Nuclei_Texture_SumVariance_CorrMito_3_03_256  \\\n",
       "0                                     0.307472   \n",
       "1                                     1.443262   \n",
       "2                                    -0.020445   \n",
       "3                                    -0.009632   \n",
       "4                                    -0.038205   \n",
       "\n",
       "   Nuclei_Texture_SumVariance_CorrPM_3_03_256 Metadata_Treatment  \\\n",
       "0                                    0.092086          media_ctr   \n",
       "1                                    0.009843          media_ctr   \n",
       "2                                    0.000848          media_ctr   \n",
       "3                                   -0.005811          media_ctr   \n",
       "4                                    0.017690          media_ctr   \n",
       "\n",
       "   Metadata_Dose  oneb_Metadata_Treatment_Dose_Inhibitor_Dose  \\\n",
       "0              0                    media_ctr_0_Media_ctr_0.0   \n",
       "1              0                    media_ctr_0_Media_ctr_0.0   \n",
       "2              0                    media_ctr_0_Media_ctr_0.0   \n",
       "3              0                    media_ctr_0_Media_ctr_0.0   \n",
       "4              0                    media_ctr_0_Media_ctr_0.0   \n",
       "\n",
       "   twob_Metadata_Treatment_Dose_Inhibitor_Dose  \\\n",
       "0                   media_ctr_Media_ctr_0.0__0   \n",
       "1                   media_ctr_Media_ctr_0.0__0   \n",
       "2                   media_ctr_Media_ctr_0.0__0   \n",
       "3                   media_ctr_Media_ctr_0.0__0   \n",
       "4                   media_ctr_Media_ctr_0.0__0   \n",
       "\n",
       "   threeb_Metadata_Treatment_Dose_Inhibitor_Dose  \\\n",
       "0                    media_ctr__0__Media_ctr_0.0   \n",
       "1                    media_ctr__0__Media_ctr_0.0   \n",
       "2                    media_ctr__0__Media_ctr_0.0   \n",
       "3                    media_ctr__0__Media_ctr_0.0   \n",
       "4                    media_ctr__0__Media_ctr_0.0   \n",
       "\n",
       "   fourb_Metadata_Treatment_Dose_Inhibitor_Dose  \n",
       "0                  media_ctr__0__Media_ctr__0.0  \n",
       "1                  media_ctr__0__Media_ctr__0.0  \n",
       "2                  media_ctr__0__Media_ctr__0.0  \n",
       "3                  media_ctr__0__Media_ctr__0.0  \n",
       "4                  media_ctr__0__Media_ctr__0.0  \n",
       "\n",
       "[5 rows x 1276 columns]"
      ]
     },
     "execution_count": 5,
     "metadata": {},
     "output_type": "execute_result"
    }
   ],
   "source": [
    "path = pathlib.Path(f\"../../data/{cell_type}_preprocessed_sc_norm.parquet\")\n",
    "\n",
    "data_df = pq.read_table(path).to_pandas()\n",
    "\n",
    "data_df.head()"
   ]
  },
  {
   "cell_type": "code",
   "execution_count": 6,
   "id": "e0705edc",
   "metadata": {
    "execution": {
     "iopub.execute_input": "2023-07-23T19:05:15.331057Z",
     "iopub.status.busy": "2023-07-23T19:05:15.330852Z",
     "iopub.status.idle": "2023-07-23T19:05:15.334287Z",
     "shell.execute_reply": "2023-07-23T19:05:15.333978Z"
    },
    "papermill": {
     "duration": 0.007743,
     "end_time": "2023-07-23T19:05:15.335255",
     "exception": false,
     "start_time": "2023-07-23T19:05:15.327512",
     "status": "completed"
    },
    "tags": []
   },
   "outputs": [],
   "source": [
    "if nomic == True:\n",
    "    # import nomic data\n",
    "    nomic_df_path = pathlib.Path(\n",
    "        f\"../../2.Nomic_nELISA_Analysis/Data/clean/Plate2/nELISA_plate_430420_{cell_type}_cleanup4correlation.csv\"\n",
    "    )\n",
    "    df_nomic = pd.read_csv(nomic_df_path)\n",
    "\n",
    "    # drop columns that contain [pgML]\n",
    "    df_nomic = df_nomic.drop(\n",
    "        columns=[col for col in df_nomic.columns if \"[pgML]\" in col]\n",
    "    )\n",
    "    # drop first 25 columns\n",
    "    # df_nomic = df_nomic.drop(columns=df_nomic.columns[3:25])\n",
    "    # df_nomic = df_nomic.drop(columns=df_nomic.columns[0:2])\n",
    "else:\n",
    "    df_nomic = None"
   ]
  },
  {
   "cell_type": "code",
   "execution_count": 7,
   "id": "3c7f01ba",
   "metadata": {
    "execution": {
     "iopub.execute_input": "2023-07-23T19:05:15.340210Z",
     "iopub.status.busy": "2023-07-23T19:05:15.339920Z",
     "iopub.status.idle": "2023-07-23T19:05:29.986996Z",
     "shell.execute_reply": "2023-07-23T19:05:29.986528Z"
    },
    "papermill": {
     "duration": 14.650757,
     "end_time": "2023-07-23T19:05:29.988218",
     "exception": false,
     "start_time": "2023-07-23T19:05:15.337461",
     "status": "completed"
    },
    "tags": []
   },
   "outputs": [],
   "source": [
    "# subset each column that contains metadata\n",
    "metadata = data_df.filter(regex=\"Metadata\")\n",
    "\n",
    "# get all columns that are not metadata except for metadata_Well\n",
    "data = data_df.drop(metadata.columns, axis=1)\n",
    "\n",
    "# get the metadata_Well column\n",
    "metadata_well = metadata[\n",
    "    [\"Metadata_Well\", \"oneb_Metadata_Treatment_Dose_Inhibitor_Dose\"]\n",
    "]\n",
    "\n",
    "data_df = pd.merge(data, metadata_well, left_index=True, right_index=True)"
   ]
  },
  {
   "cell_type": "code",
   "execution_count": 8,
   "id": "247dccb4",
   "metadata": {
    "execution": {
     "iopub.execute_input": "2023-07-23T19:05:29.999156Z",
     "iopub.status.busy": "2023-07-23T19:05:29.998852Z",
     "iopub.status.idle": "2023-07-23T19:05:30.003429Z",
     "shell.execute_reply": "2023-07-23T19:05:30.003087Z"
    },
    "papermill": {
     "duration": 0.007782,
     "end_time": "2023-07-23T19:05:30.004155",
     "exception": false,
     "start_time": "2023-07-23T19:05:29.996373",
     "status": "completed"
    },
    "tags": []
   },
   "outputs": [],
   "source": [
    "if (aggregation == True) and (nomic == True):\n",
    "\n",
    "    # subset each column that contains metadata\n",
    "    metadata = data_df.filter(regex=\"Metadata\")\n",
    "    data_df = data_df.drop(metadata.columns, axis=1)\n",
    "    data_df = pd.concat([data_df, metadata[\"Metadata_Well\"]], axis=1)\n",
    "    # groupby well and take mean of each well\n",
    "    data_df = data_df.groupby(\"Metadata_Well\").mean()\n",
    "    # drop duplicate rows in the metadata_well column\n",
    "    metadata = metadata.drop_duplicates(subset=[\"Metadata_Well\"])\n",
    "    # get the metadata for each well\n",
    "    data_df = pd.merge(\n",
    "        data_df, metadata, left_on=\"Metadata_Well\", right_on=\"Metadata_Well\"\n",
    "    )\n",
    "    data_df = pd.merge(\n",
    "        data_df,\n",
    "        df_nomic,\n",
    "        left_on=[\"Metadata_Well\", \"oneb_Metadata_Treatment_Dose_Inhibitor_Dose\"],\n",
    "        right_on=[\"Metadata_position_x\", \"oneb_Metadata_Treatment_Dose_Inhibitor_Dose\"],\n",
    "    )\n",
    "    data_df = data_df.drop(columns=[\"Metadata_position_x\"])\n",
    "    # drop all metadata columns\n",
    "    labeled_data = data_df[\"oneb_Metadata_Treatment_Dose_Inhibitor_Dose\"]\n",
    "    data_x = data_df.drop(metadata.columns, axis=1)\n",
    "\n",
    "elif (aggregation == True) and (nomic == False):\n",
    "    # subset each column that contains metadata\n",
    "    metadata = data.filter(regex=\"Metadata\")\n",
    "    data_df = data_df.drop(metadata.columns, axis=1)\n",
    "    data_df = pd.concat([data_df, metadata[\"Metadata_Well\"]], axis=1)\n",
    "    # groupby well and take mean of each well\n",
    "    data_df = data_df.groupby(\"Metadata_Well\").mean()\n",
    "    # drop duplicate rows in the metadata_well column\n",
    "    metadata = metadata.drop_duplicates(subset=[\"Metadata_Well\"])\n",
    "    # get the metadata for each well\n",
    "    data_df = pd.merge(\n",
    "        data_df,\n",
    "        df_nomic,\n",
    "        left_on=[\"Metadata_Well\", \"oneb_Metadata_Treatment_Dose_Inhibitor_Dose\"],\n",
    "        right_on=[\"Metadata_position_x\", \"oneb_Metadata_Treatment_Dose_Inhibitor_Dose\"],\n",
    "    )\n",
    "elif (aggregation == False) and (nomic == True):\n",
    "    data_df = pd.merge(\n",
    "        data_df,\n",
    "        df_nomic,\n",
    "        left_on=[\"Metadata_Well\", \"oneb_Metadata_Treatment_Dose_Inhibitor_Dose\"],\n",
    "        right_on=[\"Metadata_position_x\", \"oneb_Metadata_Treatment_Dose_Inhibitor_Dose\"],\n",
    "    )\n",
    "    data_df = data_df.drop(columns=[\"Metadata_position_x\"])\n",
    "elif aggregation == False and nomic == False:\n",
    "    pass\n",
    "else:\n",
    "    print(\"Error\")"
   ]
  },
  {
   "cell_type": "markdown",
   "id": "8d2cc57e",
   "metadata": {
    "execution": {
     "iopub.execute_input": "2023-07-23T19:05:37.280541Z",
     "iopub.status.busy": "2023-07-23T19:05:37.280345Z",
     "iopub.status.idle": "2023-07-23T19:05:37.282628Z",
     "shell.execute_reply": "2023-07-23T19:05:37.282294Z"
    },
    "papermill": {
     "duration": 0.006981,
     "end_time": "2023-07-23T19:05:37.283405",
     "exception": false,
     "start_time": "2023-07-23T19:05:37.276424",
     "status": "completed"
    },
    "tags": []
   },
   "source": [
    "This model and code is both inspired and reused from: https://github.com/WayScience/phenotypic_profiling_model/blob/main/1.split_data/split_data.ipynb\n",
    "The bulk of this work was done by **Roshan Kern** I have only made minor changes to the code to make it more modular and easier to use for my purposes."
   ]
  },
  {
   "cell_type": "code",
   "execution_count": 9,
   "id": "d59ece5b",
   "metadata": {
    "execution": {
     "iopub.execute_input": "2023-07-23T19:05:37.288469Z",
     "iopub.status.busy": "2023-07-23T19:05:37.288034Z",
     "iopub.status.idle": "2023-07-23T19:05:37.980805Z",
     "shell.execute_reply": "2023-07-23T19:05:37.980304Z"
    },
    "papermill": {
     "duration": 0.696472,
     "end_time": "2023-07-23T19:05:37.981908",
     "exception": false,
     "start_time": "2023-07-23T19:05:37.285436",
     "status": "completed"
    },
    "tags": []
   },
   "outputs": [],
   "source": [
    "# get oneb_Metadata_Treatment_Dose_Inhibitor_Dose  =='DMSO_0.100_DMSO_0.025' and 'LPS_100.000_DMSO_0.025 and Thapsigargin_10.000_DMSO_0.025'\n",
    "# data_df = data_df[\n",
    "#     data_df[\"oneb_Metadata_Treatment_Dose_Inhibitor_Dose\"].isin([control, treatment])\n",
    "# ]"
   ]
  },
  {
   "cell_type": "code",
   "execution_count": 10,
   "id": "4eee6f0a",
   "metadata": {},
   "outputs": [
    {
     "data": {
      "text/plain": [
       "array(['DMSO_0.100_DMSO_0.025', 'LPS_0.010_DMSO_0.025',\n",
       "       'LPS_Nigericin_100.000_1.0_DMSO_0.025', 'LPS_0.100_DMSO_0.025',\n",
       "       'LPS_Nigericin_100.000_3.0_DMSO_0.025',\n",
       "       'Thapsigargin_1.000_DMSO_0.025', 'LPS_1.000_DMSO_0.025',\n",
       "       'LPS_Nigericin_100.000_10.0_DMSO_0.025',\n",
       "       'Thapsigargin_10.000_DMSO_0.025', 'LPS_10.000_DMSO_0.025',\n",
       "       'Disulfiram_0.100_DMSO_0.025', 'Topotecan_5.000_DMSO_0.025',\n",
       "       'Disulfiram_1.000_DMSO_0.025', 'Topotecan_10.000_DMSO_0.025',\n",
       "       'Disulfiram_2.500_DMSO_0.025', 'Topotecan_20.000_DMSO_0.025',\n",
       "       'H2O2_100.000_DMSO_0.025', 'LPS_100.000_DMSO_0.025',\n",
       "       'LPS_Nigericin_1.000_1.0_DMSO_0.025',\n",
       "       'LPS_Nigericin_1.000_3.0_DMSO_0.025', 'Flagellin_0.100_DMSO_0.025',\n",
       "       'LPS_Nigericin_1.000_10.0_DMSO_0.025',\n",
       "       'Flagellin_1.000_DMSO_0.025'], dtype=object)"
      ]
     },
     "execution_count": 10,
     "metadata": {},
     "output_type": "execute_result"
    }
   ],
   "source": [
    "data_df[\"oneb_Metadata_Treatment_Dose_Inhibitor_Dose\"].unique()"
   ]
  },
  {
   "cell_type": "code",
   "execution_count": 11,
   "id": "50808746",
   "metadata": {},
   "outputs": [
    {
     "name": "stdout",
     "output_type": "stream",
     "text": [
      "(8, 1441) (8, 1441) (84, 1441)\n"
     ]
    }
   ],
   "source": [
    "# variable test and train set splits\n",
    "# 100% test set\n",
    "# subset the following treatments for test set\n",
    "test_set_all = data_df[\n",
    "    data_df[\"oneb_Metadata_Treatment_Dose_Inhibitor_Dose\"].isin(test_100_percent)\n",
    "]\n",
    "# 75% test set and 25% train set\n",
    "test_set_75 = data_df[\n",
    "    data_df[\"oneb_Metadata_Treatment_Dose_Inhibitor_Dose\"].isin(test_75_percent)\n",
    "]\n",
    "\n",
    "# 50% test set and 50% train set\n",
    "# get all treatments that are not in the_test_set_all and the test_set_75\n",
    "test_set_50 = data_df[\n",
    "    ~data_df[\"oneb_Metadata_Treatment_Dose_Inhibitor_Dose\"].isin(\n",
    "        test_set_all[\"oneb_Metadata_Treatment_Dose_Inhibitor_Dose\"]\n",
    "    )\n",
    "]\n",
    "test_set_50 = test_set_50[\n",
    "    ~test_set_50[\"oneb_Metadata_Treatment_Dose_Inhibitor_Dose\"].isin(\n",
    "        test_set_75[\"oneb_Metadata_Treatment_Dose_Inhibitor_Dose\"]\n",
    "    )\n",
    "]\n",
    "\n",
    "print(test_set_all.shape, test_set_75.shape, test_set_50.shape)"
   ]
  },
  {
   "cell_type": "code",
   "execution_count": 12,
   "id": "852dffa4",
   "metadata": {},
   "outputs": [
    {
     "name": "stdout",
     "output_type": "stream",
     "text": [
      "Shape for the 100% test set: (8, 1441)\n",
      "\n",
      "Shape for the 75% test set: (2, 1441);\n",
      "Shape for the 75% train set: (6, 1441)\n",
      "\n",
      "Shape for the 50% test set: (42, 1441);\n",
      "Shape for the 50% train set: (42, 1441)\n"
     ]
    }
   ],
   "source": [
    "# get the train test splits from each group\n",
    "# 100% test set\n",
    "test_set_all\n",
    "\n",
    "# 75% test set and 25% train set\n",
    "test_ratio = 0.75\n",
    "training_data_set_75, testing_data_set_75 = train_test_split(\n",
    "    test_set_75,\n",
    "    test_size=test_ratio,\n",
    "    stratify=test_set_75[\"oneb_Metadata_Treatment_Dose_Inhibitor_Dose\"],\n",
    "    random_state=0,\n",
    ")\n",
    "\n",
    "# 50% test set and 50% train set\n",
    "test_ratio = 0.5\n",
    "training_data_set_50, testing_data_set_50 = train_test_split(\n",
    "    test_set_50,\n",
    "    test_size=test_ratio,\n",
    "    stratify=test_set_50[\"oneb_Metadata_Treatment_Dose_Inhibitor_Dose\"],\n",
    "    random_state=0,\n",
    ")\n",
    "\n",
    "# verify that the correct splits have been made\n",
    "# 100% test set\n",
    "print(f\"Shape for the 100% test set: {test_set_all.shape}\\n\")\n",
    "\n",
    "# 75% test set and 25% train set\n",
    "print(\n",
    "    f\"Shape for the 75% test set: {training_data_set_75.shape};\\nShape for the 75% train set: {testing_data_set_75.shape}\\n\"\n",
    ")\n",
    "\n",
    "# 50% test set and 50% train set\n",
    "print(\n",
    "    f\"Shape for the 50% test set: {training_data_set_50.shape};\\nShape for the 50% train set: {testing_data_set_50.shape}\"\n",
    ")"
   ]
  },
  {
   "cell_type": "code",
   "execution_count": 13,
   "id": "4994791d",
   "metadata": {},
   "outputs": [
    {
     "name": "stdout",
     "output_type": "stream",
     "text": [
      "Testing set length: 56\n",
      "Training set length: 44\n"
     ]
    }
   ],
   "source": [
    "# combine all testing sets together while preserving the index\n",
    "testing_data_set = pd.concat(\n",
    "    [test_set_all, testing_data_set_75, testing_data_set_50], axis=0\n",
    ")\n",
    "testing_data_set = testing_data_set.sort_index()\n",
    "testing_data_set\n",
    "\n",
    "# combine all training sets together while preserving the index\n",
    "training_data_set = pd.concat([training_data_set_75, training_data_set_50], axis=0)\n",
    "training_data_set = training_data_set.sort_index()\n",
    "training_data_set\n",
    "\n",
    "print(\n",
    "    f\"Testing set length: {len(testing_data_set)}\\nTraining set length: {len(training_data_set)}\"\n",
    ")\n",
    "\n",
    "# get the indexes for the training and testing sets\n",
    "testing_data_set_index = testing_data_set.index\n",
    "training_data_set_index = training_data_set.index"
   ]
  },
  {
   "cell_type": "code",
   "execution_count": 14,
   "id": "6c9b8fda",
   "metadata": {
    "execution": {
     "iopub.execute_input": "2023-07-23T19:05:37.987019Z",
     "iopub.status.busy": "2023-07-23T19:05:37.986671Z",
     "iopub.status.idle": "2023-07-23T19:05:42.288248Z",
     "shell.execute_reply": "2023-07-23T19:05:42.287819Z"
    },
    "papermill": {
     "duration": 4.305535,
     "end_time": "2023-07-23T19:05:42.289632",
     "exception": false,
     "start_time": "2023-07-23T19:05:37.984097",
     "status": "completed"
    },
    "tags": []
   },
   "outputs": [],
   "source": [
    "# # ratio of data to be used for testing (ex 0.15 = 15%)\n",
    "# test_ratio = 0.5\n",
    "\n",
    "# # get indexes of training and testing data\n",
    "# training_data, testing_data = train_test_split(\n",
    "#     data_df,\n",
    "#     test_size=test_ratio,\n",
    "#     stratify=data_df[[\"oneb_Metadata_Treatment_Dose_Inhibitor_Dose\"]],\n",
    "#     random_state=0,\n",
    "# )\n",
    "# train_indexes = training_data.index.to_numpy()\n",
    "# test_indexes = testing_data.index.to_numpy()\n",
    "\n",
    "# print(f\"Training data has shape: {training_data.shape}\")\n",
    "# print(f\"Testing data has shape: {testing_data.shape}\")"
   ]
  },
  {
   "cell_type": "code",
   "execution_count": 15,
   "id": "8656f69b",
   "metadata": {
    "execution": {
     "iopub.execute_input": "2023-07-23T19:05:42.299267Z",
     "iopub.status.busy": "2023-07-23T19:05:42.298970Z",
     "iopub.status.idle": "2023-07-23T19:05:43.103090Z",
     "shell.execute_reply": "2023-07-23T19:05:43.102369Z"
    },
    "papermill": {
     "duration": 0.808538,
     "end_time": "2023-07-23T19:05:43.104343",
     "exception": false,
     "start_time": "2023-07-23T19:05:42.295805",
     "status": "completed"
    },
    "tags": []
   },
   "outputs": [],
   "source": [
    "# create pandas dataframe with all indexes and their respective labels, stratified by phenotypic class\n",
    "index_data = []\n",
    "for index in training_data_set_index:\n",
    "    index_data.append({\"labeled_data_index\": index, \"label\": \"train\"})\n",
    "for index in testing_data_set_index:\n",
    "    index_data.append({\"labeled_data_index\": index, \"label\": \"test\"})\n",
    "\n",
    "# make index data a dataframe and sort it by labeled data index\n",
    "index_data = pd.DataFrame(index_data).sort_values([\"labeled_data_index\"])"
   ]
  },
  {
   "cell_type": "code",
   "execution_count": 16,
   "id": "8cf8202b",
   "metadata": {
    "execution": {
     "iopub.execute_input": "2023-07-23T19:05:43.111359Z",
     "iopub.status.busy": "2023-07-23T19:05:43.110772Z",
     "iopub.status.idle": "2023-07-23T19:05:43.115144Z",
     "shell.execute_reply": "2023-07-23T19:05:43.114700Z"
    },
    "papermill": {
     "duration": 0.008037,
     "end_time": "2023-07-23T19:05:43.115913",
     "exception": false,
     "start_time": "2023-07-23T19:05:43.107876",
     "status": "completed"
    },
    "tags": []
   },
   "outputs": [
    {
     "name": "stdout",
     "output_type": "stream",
     "text": [
      "indexes/SHSY5Y/regression\n"
     ]
    }
   ],
   "source": [
    "# set save path\n",
    "if aggregation == True:\n",
    "    if nomic == True:\n",
    "        save_path = pathlib.Path(f\"./indexes/{cell_type}/{MODEL_TYPE}\")\n",
    "    elif nomic == False:\n",
    "        save_path = pathlib.Path(f\"./indexes/{cell_type}/{MODEL_TYPE}\")\n",
    "elif aggregation == False:\n",
    "    if nomic == True:\n",
    "        save_path = pathlib.Path(f\"./indexes/{cell_type}/{MODEL_TYPE}\")\n",
    "    elif nomic == False:\n",
    "        save_path = pathlib.Path(f\"./indexes/{cell_type}/{MODEL_TYPE}\")\n",
    "else:\n",
    "    print(\"Error\")\n",
    "\n",
    "print(save_path)\n",
    "# create save path if it doesn't exist\n",
    "save_path.mkdir(parents=True, exist_ok=True)"
   ]
  },
  {
   "cell_type": "code",
   "execution_count": 17,
   "id": "aeaadb77",
   "metadata": {
    "execution": {
     "iopub.execute_input": "2023-07-23T19:05:43.121412Z",
     "iopub.status.busy": "2023-07-23T19:05:43.121043Z",
     "iopub.status.idle": "2023-07-23T19:05:43.437750Z",
     "shell.execute_reply": "2023-07-23T19:05:43.437285Z"
    },
    "papermill": {
     "duration": 0.320546,
     "end_time": "2023-07-23T19:05:43.438785",
     "exception": false,
     "start_time": "2023-07-23T19:05:43.118239",
     "status": "completed"
    },
    "tags": []
   },
   "outputs": [],
   "source": [
    "# save indexes as tsv file\n",
    "if aggregation == True:\n",
    "    if nomic == True:\n",
    "        index_data.to_csv(\n",
    "            f\"{save_path}/aggregated_sc_and_nomic_data_split_indexes.tsv\", sep=\"\\t\"\n",
    "        )\n",
    "    elif nomic == False:\n",
    "        index_data.to_csv(f\"{save_path}/aggregated_sc_data_split_indexes.tsv\", sep=\"\\t\")\n",
    "elif aggregation == False:\n",
    "    if nomic == True:\n",
    "        index_data.to_csv(f\"{save_path}/sc_and_nomic_data_split_indexes.tsv\", sep=\"\\t\")\n",
    "    elif nomic == False:\n",
    "        index_data.to_csv(f\"{save_path}/sc_split_indexes.tsv\", sep=\"\\t\")\n",
    "else:\n",
    "    print(\"Error\")"
   ]
  }
 ],
 "metadata": {
  "jupytext": {
   "formats": "ipynb,../scripts//py:percent"
  },
  "kernelspec": {
   "display_name": "Interstellar",
   "language": "python",
   "name": "python3"
  },
  "language_info": {
   "codemirror_mode": {
    "name": "ipython",
    "version": 3
   },
   "file_extension": ".py",
   "mimetype": "text/x-python",
   "name": "python",
   "nbconvert_exporter": "python",
   "pygments_lexer": "ipython3",
   "version": "3.10.12"
  },
  "papermill": {
   "default_parameters": {},
   "duration": 113.631043,
   "end_time": "2023-07-23T19:05:44.056229",
   "environment_variables": {},
   "exception": null,
   "input_path": "split_data.ipynb",
   "output_path": "split_data.ipynb",
   "parameters": {
    "aggregation": false,
    "cell_type": "PBMC",
    "control": "DMSO_0.100_DMSO_0.025",
    "flag": true,
    "nomic": false,
    "treatment": "Thapsigargin_1.000_DMSO_0.025"
   },
   "start_time": "2023-07-23T19:03:50.425186",
   "version": "2.4.0"
  },
  "vscode": {
   "interpreter": {
    "hash": "72ae02083a9ca7d143c492d1aec380c7bf553ec51bd66e90e72bba65228121b6"
   }
  }
 },
 "nbformat": 4,
 "nbformat_minor": 5
}
