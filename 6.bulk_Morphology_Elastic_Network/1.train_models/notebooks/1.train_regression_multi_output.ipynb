{
 "cells": [
  {
   "cell_type": "code",
   "execution_count": 1,
   "id": "215ce1c1",
   "metadata": {
    "execution": {
     "iopub.execute_input": "2023-07-22T05:40:46.596684Z",
     "iopub.status.busy": "2023-07-22T05:40:46.596359Z",
     "iopub.status.idle": "2023-07-22T05:40:47.783445Z",
     "shell.execute_reply": "2023-07-22T05:40:47.783025Z"
    },
    "papermill": {
     "duration": 1.193087,
     "end_time": "2023-07-22T05:40:47.784792",
     "exception": false,
     "start_time": "2023-07-22T05:40:46.591705",
     "status": "completed"
    },
    "tags": []
   },
   "outputs": [],
   "source": [
    "import ast\n",
    "import itertools\n",
    "import math\n",
    "import pathlib\n",
    "import sys\n",
    "import warnings\n",
    "\n",
    "import numpy as np\n",
    "import pandas as pd\n",
    "import pyarrow.parquet as pq\n",
    "import toml\n",
    "from joblib import dump\n",
    "from sklearn.exceptions import ConvergenceWarning\n",
    "from sklearn.linear_model import ElasticNetCV, LogisticRegression, MultiTaskElasticNetCV\n",
    "\n",
    "# import mse\n",
    "from sklearn.metrics import mean_squared_error, r2_score\n",
    "\n",
    "# import RepeatedKFold\n",
    "from sklearn.model_selection import (\n",
    "    GridSearchCV,\n",
    "    RepeatedKFold,\n",
    "    StratifiedKFold,\n",
    "    cross_val_score,\n",
    "    train_test_split,\n",
    ")\n",
    "from sklearn.utils import parallel_backend, shuffle"
   ]
  },
  {
   "cell_type": "code",
   "execution_count": 2,
   "id": "ed0d80d4",
   "metadata": {
    "execution": {
     "iopub.execute_input": "2023-07-22T05:40:47.789946Z",
     "iopub.status.busy": "2023-07-22T05:40:47.789675Z",
     "iopub.status.idle": "2023-07-22T05:40:47.792006Z",
     "shell.execute_reply": "2023-07-22T05:40:47.791688Z"
    },
    "papermill": {
     "duration": 0.005605,
     "end_time": "2023-07-22T05:40:47.792730",
     "exception": false,
     "start_time": "2023-07-22T05:40:47.787125",
     "status": "completed"
    },
    "tags": [
     "injected-parameters"
    ]
   },
   "outputs": [],
   "source": [
    "# Parameters\n",
    "cell_type = \"SHSY5Y\"\n",
    "aggregation = True\n",
    "nomic = True\n",
    "flag = True\n",
    "shuffle = True"
   ]
  },
  {
   "cell_type": "code",
   "execution_count": 3,
   "id": "8f5aae8c",
   "metadata": {},
   "outputs": [],
   "source": [
    "# set shuffle value\n",
    "if shuffle:\n",
    "    shuffle = \"shuffled_baseline\"\n",
    "else:\n",
    "    shuffle = \"final\""
   ]
  },
  {
   "cell_type": "code",
   "execution_count": 4,
   "id": "c9fbea76",
   "metadata": {
    "execution": {
     "iopub.execute_input": "2023-07-22T05:40:47.796788Z",
     "iopub.status.busy": "2023-07-22T05:40:47.796489Z",
     "iopub.status.idle": "2023-07-22T05:40:47.799099Z",
     "shell.execute_reply": "2023-07-22T05:40:47.798782Z"
    },
    "papermill": {
     "duration": 0.005391,
     "end_time": "2023-07-22T05:40:47.799818",
     "exception": false,
     "start_time": "2023-07-22T05:40:47.794427",
     "status": "completed"
    },
    "tags": []
   },
   "outputs": [],
   "source": [
    "MODEL_TYPE = \"regression\""
   ]
  },
  {
   "cell_type": "code",
   "execution_count": 6,
   "id": "1261124d",
   "metadata": {
    "execution": {
     "iopub.execute_input": "2023-07-22T05:40:47.803594Z",
     "iopub.status.busy": "2023-07-22T05:40:47.803381Z",
     "iopub.status.idle": "2023-07-22T05:44:22.592036Z",
     "shell.execute_reply": "2023-07-22T05:44:22.591001Z"
    },
    "papermill": {
     "duration": 214.792447,
     "end_time": "2023-07-22T05:44:22.593856",
     "exception": false,
     "start_time": "2023-07-22T05:40:47.801409",
     "status": "completed"
    },
    "tags": []
   },
   "outputs": [],
   "source": [
    "# load training data from indexes and features dataframe\n",
    "# data_split_path = pathlib.Path(f\"../0.split_data/indexes/data_split_indexes.tsv\")\n",
    "data_path = pathlib.Path(f\"../../../data/{cell_type}_preprocessed_sc_norm.parquet\")\n",
    "\n",
    "# dataframe with only the labeled data we want (exclude certain phenotypic classes)\n",
    "data_df = pq.read_table(data_path).to_pandas()\n",
    "\n",
    "# import nomic data\n",
    "nomic_df_path = pathlib.Path(\n",
    "    f\"../../../2.Nomic_nELISA_Analysis/Data/clean/Plate2/nELISA_plate_430420_{cell_type}_cleanup4correlation.csv\"\n",
    ")\n",
    "df_nomic = pd.read_csv(nomic_df_path)\n",
    "\n",
    "# clean up nomic data\n",
    "df_nomic = df_nomic.drop(columns=[col for col in df_nomic.columns if \"[pgML]\" in col])\n",
    "# drop first 25 columns (Metadata that is not needed)\n",
    "# df_nomic = df_nomic.drop(columns=df_nomic.columns[3:25])\n",
    "# df_nomic = df_nomic.drop(columns=df_nomic.columns[0:2])"
   ]
  },
  {
   "cell_type": "code",
   "execution_count": 7,
   "id": "bb57cb92",
   "metadata": {},
   "outputs": [
    {
     "name": "stdout",
     "output_type": "stream",
     "text": [
      "count    154.000000\n",
      "mean       0.512790\n",
      "std        0.191118\n",
      "min        0.000000\n",
      "25%        0.372157\n",
      "50%        0.498080\n",
      "75%        0.635876\n",
      "max        1.000000\n",
      "Name: Activin A [NSU], dtype: float64\n"
     ]
    }
   ],
   "source": [
    "print(df_nomic[\"Activin A [NSU]\"].describe())"
   ]
  },
  {
   "cell_type": "code",
   "execution_count": 8,
   "id": "bf794861",
   "metadata": {
    "execution": {
     "iopub.execute_input": "2023-07-22T05:44:22.654781Z",
     "iopub.status.busy": "2023-07-22T05:44:22.653962Z",
     "iopub.status.idle": "2023-07-22T05:44:22.810900Z",
     "shell.execute_reply": "2023-07-22T05:44:22.810222Z"
    },
    "papermill": {
     "duration": 0.162062,
     "end_time": "2023-07-22T05:44:22.812544",
     "exception": false,
     "start_time": "2023-07-22T05:44:22.650482",
     "status": "completed"
    },
    "tags": []
   },
   "outputs": [],
   "source": [
    "if (aggregation == True) and (nomic == True):\n",
    "    data_split_path = pathlib.Path(\n",
    "        f\"../../0.split_data/indexes/{cell_type}/{MODEL_TYPE}/aggregated_sc_and_nomic_data_split_indexes.tsv\"\n",
    "    )\n",
    "    data_split_indexes = pd.read_csv(data_split_path, sep=\"\\t\", index_col=0)\n",
    "    # subset each column that contains metadata\n",
    "    metadata = data_df.filter(regex=\"Metadata\")\n",
    "    data_df = data_df.drop(metadata.columns, axis=1)\n",
    "    data_df = pd.concat([data_df, metadata[\"Metadata_Well\"]], axis=1)\n",
    "    # groupby well and take mean of each well\n",
    "    data_df = data_df.groupby(\"Metadata_Well\").mean()\n",
    "    # drop duplicate rows in the metadata_well column\n",
    "    metadata = metadata.drop_duplicates(subset=[\"Metadata_Well\"])\n",
    "    # get the metadata for each well\n",
    "    data_df = pd.merge(\n",
    "        data_df, metadata, left_on=\"Metadata_Well\", right_on=\"Metadata_Well\"\n",
    "    )\n",
    "    data_df = pd.merge(\n",
    "        data_df,\n",
    "        df_nomic,\n",
    "        left_on=[\"Metadata_Well\", \"oneb_Metadata_Treatment_Dose_Inhibitor_Dose\"],\n",
    "        right_on=[\"Metadata_position_x\", \"oneb_Metadata_Treatment_Dose_Inhibitor_Dose\"],\n",
    "    )\n",
    "    data_df = data_df.drop(columns=[\"Metadata_position_x\"])\n",
    "elif (aggregation == True) and (nomic == False):\n",
    "    data_split_path = pathlib.Path(\n",
    "        f\"../../0.split_data/indexes/{cell_type}/{MODEL_TYPE}/aggregated_sc_data_split_indexes.tsv\"\n",
    "    )\n",
    "    data_split_indexes = pd.read_csv(data_split_path, sep=\"\\t\", index_col=0)\n",
    "    # subset each column that contains metadata\n",
    "    metadata = data_df.filter(regex=\"Metadata\")\n",
    "    data_df = data_df.drop(metadata.columns, axis=1)\n",
    "    data_df = pd.concat([data_df, metadata[\"Metadata_Well\"]], axis=1)\n",
    "    # groupby well and take mean of each well\n",
    "    data_df = data_df.groupby(\"Metadata_Well\").mean()\n",
    "    # drop duplicate rows in the metadata_well column\n",
    "    metadata = metadata.drop_duplicates(subset=[\"Metadata_Well\"])\n",
    "    # get the metadata for each well\n",
    "    data_df = pd.merge(\n",
    "        data_df, metadata, left_on=\"Metadata_Well\", right_on=\"Metadata_Well\"\n",
    "    )\n",
    "elif (aggregation == False) and (nomic == True):\n",
    "    data_split_path = pathlib.Path(\n",
    "        f\"../../0.split_data/indexes/{cell_type}/{MODEL_TYPE}/sc_and_nomic_data_split_indexes.tsv\"\n",
    "    )\n",
    "    data_split_indexes = pd.read_csv(data_split_path, sep=\"\\t\", index_col=0)\n",
    "    data_df = pd.merge(\n",
    "        data_df,\n",
    "        df_nomic,\n",
    "        left_on=[\"Metadata_Well\", \"oneb_Metadata_Treatment_Dose_Inhibitor_Dose\"],\n",
    "        right_on=[\"Metadata_position_x\", \"oneb_Metadata_Treatment_Dose_Inhibitor_Dose\"],\n",
    "    )\n",
    "    data_df = data_df.drop(columns=[\"Metadata_position_x\"])\n",
    "elif aggregation == False and nomic == False:\n",
    "    data_split_path = pathlib.Path(\n",
    "        f\"../../0.split_data/indexes/{cell_type}/{MODEL_TYPE}/sc_split_indexes.tsv\"\n",
    "    )\n",
    "    data_split_indexes = pd.read_csv(data_split_path, sep=\"\\t\", index_col=0)\n",
    "else:\n",
    "    print(\"Error\")"
   ]
  },
  {
   "cell_type": "code",
   "execution_count": 9,
   "id": "b2ec11da",
   "metadata": {
    "execution": {
     "iopub.execute_input": "2023-07-22T05:44:22.817688Z",
     "iopub.status.busy": "2023-07-22T05:44:22.816972Z",
     "iopub.status.idle": "2023-07-22T05:44:22.841932Z",
     "shell.execute_reply": "2023-07-22T05:44:22.841519Z"
    },
    "papermill": {
     "duration": 0.028408,
     "end_time": "2023-07-22T05:44:22.842747",
     "exception": false,
     "start_time": "2023-07-22T05:44:22.814339",
     "status": "completed"
    },
    "tags": []
   },
   "outputs": [],
   "source": [
    "# select tht indexes for the training and test set\n",
    "train_indexes = data_split_indexes.loc[data_split_indexes[\"label\"] == \"train\"]"
   ]
  },
  {
   "cell_type": "code",
   "execution_count": 10,
   "id": "10d08adb",
   "metadata": {
    "execution": {
     "iopub.execute_input": "2023-07-22T05:44:22.847339Z",
     "iopub.status.busy": "2023-07-22T05:44:22.846705Z",
     "iopub.status.idle": "2023-07-22T05:44:23.372437Z",
     "shell.execute_reply": "2023-07-22T05:44:23.371833Z"
    },
    "papermill": {
     "duration": 0.529615,
     "end_time": "2023-07-22T05:44:23.373993",
     "exception": false,
     "start_time": "2023-07-22T05:44:22.844378",
     "status": "completed"
    },
    "tags": []
   },
   "outputs": [],
   "source": [
    "# subset data_df by indexes in data_split_indexes\n",
    "training_data = data_df.loc[train_indexes[\"labeled_data_index\"]]"
   ]
  },
  {
   "cell_type": "code",
   "execution_count": 11,
   "id": "2a280d55",
   "metadata": {},
   "outputs": [
    {
     "data": {
      "text/html": [
       "<div>\n",
       "<style scoped>\n",
       "    .dataframe tbody tr th:only-of-type {\n",
       "        vertical-align: middle;\n",
       "    }\n",
       "\n",
       "    .dataframe tbody tr th {\n",
       "        vertical-align: top;\n",
       "    }\n",
       "\n",
       "    .dataframe thead th {\n",
       "        text-align: right;\n",
       "    }\n",
       "</style>\n",
       "<table border=\"1\" class=\"dataframe\">\n",
       "  <thead>\n",
       "    <tr style=\"text-align: right;\">\n",
       "      <th></th>\n",
       "      <th>Metadata_Well</th>\n",
       "      <th>Cytoplasm_AreaShape_Compactness</th>\n",
       "      <th>Cytoplasm_AreaShape_Eccentricity</th>\n",
       "      <th>Cytoplasm_AreaShape_Extent</th>\n",
       "      <th>Cytoplasm_AreaShape_FormFactor</th>\n",
       "      <th>Cytoplasm_AreaShape_MajorAxisLength</th>\n",
       "      <th>Cytoplasm_AreaShape_MinorAxisLength</th>\n",
       "      <th>Cytoplasm_AreaShape_Orientation</th>\n",
       "      <th>Cytoplasm_AreaShape_Zernike_0_0</th>\n",
       "      <th>Cytoplasm_AreaShape_Zernike_1_1</th>\n",
       "      <th>...</th>\n",
       "      <th>uPA [NSU]</th>\n",
       "      <th>VCAM-1 [NSU]</th>\n",
       "      <th>VEGF Receptor 2 (Flk-1) [NSU]</th>\n",
       "      <th>VEGF-A (165) [NSU]</th>\n",
       "      <th>VEGF-C [NSU]</th>\n",
       "      <th>VEGF-D [NSU]</th>\n",
       "      <th>VEGFR-1 [NSU]</th>\n",
       "      <th>WISP-1 (CCN4) [NSU]</th>\n",
       "      <th>XCL1 (Lymphotactin) [NSU]</th>\n",
       "      <th>fourb_Metadata_Treatment_Dose_Inhibitor_Dose_y</th>\n",
       "    </tr>\n",
       "  </thead>\n",
       "  <tbody>\n",
       "    <tr>\n",
       "      <th>1</th>\n",
       "      <td>B15</td>\n",
       "      <td>-0.062009</td>\n",
       "      <td>0.001236</td>\n",
       "      <td>0.044042</td>\n",
       "      <td>0.030464</td>\n",
       "      <td>-0.002026</td>\n",
       "      <td>0.006311</td>\n",
       "      <td>0.010789</td>\n",
       "      <td>0.030538</td>\n",
       "      <td>0.022751</td>\n",
       "      <td>...</td>\n",
       "      <td>0.214721</td>\n",
       "      <td>0.723799</td>\n",
       "      <td>0.592903</td>\n",
       "      <td>0.287432</td>\n",
       "      <td>0.375582</td>\n",
       "      <td>0.577606</td>\n",
       "      <td>0.554267</td>\n",
       "      <td>0.457302</td>\n",
       "      <td>0.298807</td>\n",
       "      <td>DMSO__0.100__DMSO__0.025</td>\n",
       "    </tr>\n",
       "    <tr>\n",
       "      <th>4</th>\n",
       "      <td>B18</td>\n",
       "      <td>-0.050341</td>\n",
       "      <td>0.055021</td>\n",
       "      <td>0.077588</td>\n",
       "      <td>0.038459</td>\n",
       "      <td>0.425906</td>\n",
       "      <td>0.355382</td>\n",
       "      <td>0.015133</td>\n",
       "      <td>0.035574</td>\n",
       "      <td>-0.010523</td>\n",
       "      <td>...</td>\n",
       "      <td>0.345951</td>\n",
       "      <td>0.274663</td>\n",
       "      <td>0.756694</td>\n",
       "      <td>0.372978</td>\n",
       "      <td>0.242493</td>\n",
       "      <td>0.428503</td>\n",
       "      <td>0.503385</td>\n",
       "      <td>0.550132</td>\n",
       "      <td>0.358411</td>\n",
       "      <td>LPS_Nigericin__100.000_1.0__DMSO__0.025</td>\n",
       "    </tr>\n",
       "    <tr>\n",
       "      <th>5</th>\n",
       "      <td>B19</td>\n",
       "      <td>-0.062131</td>\n",
       "      <td>0.044846</td>\n",
       "      <td>0.080372</td>\n",
       "      <td>0.043515</td>\n",
       "      <td>0.339065</td>\n",
       "      <td>0.290019</td>\n",
       "      <td>-0.008782</td>\n",
       "      <td>0.062351</td>\n",
       "      <td>-0.025408</td>\n",
       "      <td>...</td>\n",
       "      <td>0.245971</td>\n",
       "      <td>0.256898</td>\n",
       "      <td>0.416341</td>\n",
       "      <td>0.391095</td>\n",
       "      <td>0.159457</td>\n",
       "      <td>0.484938</td>\n",
       "      <td>0.696098</td>\n",
       "      <td>0.470620</td>\n",
       "      <td>0.589472</td>\n",
       "      <td>LPS_Nigericin__100.000_1.0__DMSO__0.025</td>\n",
       "    </tr>\n",
       "    <tr>\n",
       "      <th>6</th>\n",
       "      <td>B20</td>\n",
       "      <td>-0.019812</td>\n",
       "      <td>0.073886</td>\n",
       "      <td>0.005299</td>\n",
       "      <td>0.001903</td>\n",
       "      <td>0.233947</td>\n",
       "      <td>0.140215</td>\n",
       "      <td>0.016051</td>\n",
       "      <td>-0.021427</td>\n",
       "      <td>0.014053</td>\n",
       "      <td>...</td>\n",
       "      <td>0.226773</td>\n",
       "      <td>0.617068</td>\n",
       "      <td>0.419034</td>\n",
       "      <td>0.156464</td>\n",
       "      <td>0.318660</td>\n",
       "      <td>0.773322</td>\n",
       "      <td>0.298497</td>\n",
       "      <td>0.740774</td>\n",
       "      <td>0.485919</td>\n",
       "      <td>LPS__0.010__DMSO__0.025</td>\n",
       "    </tr>\n",
       "    <tr>\n",
       "      <th>10</th>\n",
       "      <td>C14</td>\n",
       "      <td>-0.041941</td>\n",
       "      <td>0.009593</td>\n",
       "      <td>0.016816</td>\n",
       "      <td>0.024724</td>\n",
       "      <td>-0.004871</td>\n",
       "      <td>-0.008984</td>\n",
       "      <td>-0.005426</td>\n",
       "      <td>0.025566</td>\n",
       "      <td>0.021008</td>\n",
       "      <td>...</td>\n",
       "      <td>0.070474</td>\n",
       "      <td>0.354318</td>\n",
       "      <td>0.257079</td>\n",
       "      <td>0.337151</td>\n",
       "      <td>0.231814</td>\n",
       "      <td>0.566430</td>\n",
       "      <td>0.653679</td>\n",
       "      <td>0.688560</td>\n",
       "      <td>0.509965</td>\n",
       "      <td>DMSO__0.100__DMSO__0.025</td>\n",
       "    </tr>\n",
       "  </tbody>\n",
       "</table>\n",
       "<p>5 rows × 1464 columns</p>\n",
       "</div>"
      ],
      "text/plain": [
       "   Metadata_Well  Cytoplasm_AreaShape_Compactness  \\\n",
       "1            B15                        -0.062009   \n",
       "4            B18                        -0.050341   \n",
       "5            B19                        -0.062131   \n",
       "6            B20                        -0.019812   \n",
       "10           C14                        -0.041941   \n",
       "\n",
       "    Cytoplasm_AreaShape_Eccentricity  Cytoplasm_AreaShape_Extent  \\\n",
       "1                           0.001236                    0.044042   \n",
       "4                           0.055021                    0.077588   \n",
       "5                           0.044846                    0.080372   \n",
       "6                           0.073886                    0.005299   \n",
       "10                          0.009593                    0.016816   \n",
       "\n",
       "    Cytoplasm_AreaShape_FormFactor  Cytoplasm_AreaShape_MajorAxisLength  \\\n",
       "1                         0.030464                            -0.002026   \n",
       "4                         0.038459                             0.425906   \n",
       "5                         0.043515                             0.339065   \n",
       "6                         0.001903                             0.233947   \n",
       "10                        0.024724                            -0.004871   \n",
       "\n",
       "    Cytoplasm_AreaShape_MinorAxisLength  Cytoplasm_AreaShape_Orientation  \\\n",
       "1                              0.006311                         0.010789   \n",
       "4                              0.355382                         0.015133   \n",
       "5                              0.290019                        -0.008782   \n",
       "6                              0.140215                         0.016051   \n",
       "10                            -0.008984                        -0.005426   \n",
       "\n",
       "    Cytoplasm_AreaShape_Zernike_0_0  Cytoplasm_AreaShape_Zernike_1_1  ...  \\\n",
       "1                          0.030538                         0.022751  ...   \n",
       "4                          0.035574                        -0.010523  ...   \n",
       "5                          0.062351                        -0.025408  ...   \n",
       "6                         -0.021427                         0.014053  ...   \n",
       "10                         0.025566                         0.021008  ...   \n",
       "\n",
       "    uPA [NSU]  VCAM-1 [NSU]  VEGF Receptor 2 (Flk-1) [NSU]  \\\n",
       "1    0.214721      0.723799                       0.592903   \n",
       "4    0.345951      0.274663                       0.756694   \n",
       "5    0.245971      0.256898                       0.416341   \n",
       "6    0.226773      0.617068                       0.419034   \n",
       "10   0.070474      0.354318                       0.257079   \n",
       "\n",
       "    VEGF-A (165) [NSU]  VEGF-C [NSU]  VEGF-D [NSU]  VEGFR-1 [NSU]  \\\n",
       "1             0.287432      0.375582      0.577606       0.554267   \n",
       "4             0.372978      0.242493      0.428503       0.503385   \n",
       "5             0.391095      0.159457      0.484938       0.696098   \n",
       "6             0.156464      0.318660      0.773322       0.298497   \n",
       "10            0.337151      0.231814      0.566430       0.653679   \n",
       "\n",
       "    WISP-1 (CCN4) [NSU]  XCL1 (Lymphotactin) [NSU]  \\\n",
       "1              0.457302                   0.298807   \n",
       "4              0.550132                   0.358411   \n",
       "5              0.470620                   0.589472   \n",
       "6              0.740774                   0.485919   \n",
       "10             0.688560                   0.509965   \n",
       "\n",
       "    fourb_Metadata_Treatment_Dose_Inhibitor_Dose_y  \n",
       "1                         DMSO__0.100__DMSO__0.025  \n",
       "4          LPS_Nigericin__100.000_1.0__DMSO__0.025  \n",
       "5          LPS_Nigericin__100.000_1.0__DMSO__0.025  \n",
       "6                          LPS__0.010__DMSO__0.025  \n",
       "10                        DMSO__0.100__DMSO__0.025  \n",
       "\n",
       "[5 rows x 1464 columns]"
      ]
     },
     "execution_count": 11,
     "metadata": {},
     "output_type": "execute_result"
    }
   ],
   "source": [
    "training_data.head()"
   ]
  },
  {
   "cell_type": "code",
   "execution_count": 12,
   "id": "5219c9ba",
   "metadata": {
    "execution": {
     "iopub.execute_input": "2023-07-22T05:44:23.378812Z",
     "iopub.status.busy": "2023-07-22T05:44:23.378294Z",
     "iopub.status.idle": "2023-07-22T05:44:23.727187Z",
     "shell.execute_reply": "2023-07-22T05:44:23.726381Z"
    },
    "papermill": {
     "duration": 0.352839,
     "end_time": "2023-07-22T05:44:23.728560",
     "exception": false,
     "start_time": "2023-07-22T05:44:23.375721",
     "status": "completed"
    },
    "tags": []
   },
   "outputs": [],
   "source": [
    "# # get oneb_Metadata_Treatment_Dose_Inhibitor_Dose  =='DMSO_0.100_DMSO_0.025' and 'LPS_100.000_DMSO_0.025 and Thapsigargin_10.000_DMSO_0.025'\n",
    "# training_data = training_data[\n",
    "#     training_data[\"oneb_Metadata_Treatment_Dose_Inhibitor_Dose\"].isin(\n",
    "#         [control, treatment]\n",
    "#     )\n",
    "# ]"
   ]
  },
  {
   "cell_type": "code",
   "execution_count": 13,
   "id": "d281f773",
   "metadata": {},
   "outputs": [],
   "source": [
    "# TODO holdout certain treatments and different percentages of hold out for each treatment\n",
    "# where holdout is the test set"
   ]
  },
  {
   "cell_type": "code",
   "execution_count": 14,
   "id": "fc7c0f87",
   "metadata": {
    "execution": {
     "iopub.execute_input": "2023-07-22T05:44:23.734194Z",
     "iopub.status.busy": "2023-07-22T05:44:23.733468Z",
     "iopub.status.idle": "2023-07-22T05:44:25.417043Z",
     "shell.execute_reply": "2023-07-22T05:44:25.416597Z"
    },
    "papermill": {
     "duration": 1.687722,
     "end_time": "2023-07-22T05:44:25.418506",
     "exception": false,
     "start_time": "2023-07-22T05:44:23.730784",
     "status": "completed"
    },
    "tags": []
   },
   "outputs": [],
   "source": [
    "# # at random downsample the DMSO treatment to match the number of wells in the LPS treatment\n",
    "# seed = 0\n",
    "# # get the number of wells in the LPS treatment\n",
    "# trt_wells = training_data[\n",
    "#     training_data[\"oneb_Metadata_Treatment_Dose_Inhibitor_Dose\"] == treatment\n",
    "# ].shape[0]\n",
    "# # get the number of wells in the DMSO treatment\n",
    "# dmso_wells = training_data[\n",
    "#     training_data[\"oneb_Metadata_Treatment_Dose_Inhibitor_Dose\"] == control\n",
    "# ].shape[0]\n",
    "# # downsample the DMSO treatment to match the number of wells in the LPS treatment\n",
    "# dmso_holdout = training_data[\n",
    "#     training_data[\"oneb_Metadata_Treatment_Dose_Inhibitor_Dose\"] == control\n",
    "# ].sample(n=trt_wells, random_state=seed)\n",
    "# # remove the downsampled DMSO wells from the data\n",
    "# training_data = training_data.drop(dmso_holdout.index)"
   ]
  },
  {
   "cell_type": "code",
   "execution_count": 15,
   "id": "b292a431",
   "metadata": {
    "execution": {
     "iopub.execute_input": "2023-07-22T05:44:25.424681Z",
     "iopub.status.busy": "2023-07-22T05:44:25.424485Z",
     "iopub.status.idle": "2023-07-22T05:44:25.599914Z",
     "shell.execute_reply": "2023-07-22T05:44:25.599440Z"
    },
    "papermill": {
     "duration": 0.179094,
     "end_time": "2023-07-22T05:44:25.601137",
     "exception": false,
     "start_time": "2023-07-22T05:44:25.422043",
     "status": "completed"
    },
    "tags": []
   },
   "outputs": [],
   "source": [
    "# define metadata columns\n",
    "# subset each column that contains metadata\n",
    "metadata = training_data.filter(regex=\"Metadata\")\n",
    "# drop all metadata columns\n",
    "data_x = training_data.drop(metadata.columns, axis=1)\n",
    "labeled_data = training_data[\"oneb_Metadata_Treatment_Dose_Inhibitor_Dose\"]\n",
    "# get all columns that contain \"NSU\" in the column name\n",
    "data_y_cols = data_x.filter(regex=\"NSU\").columns\n",
    "train_y = training_data[data_y_cols]\n",
    "train_x = data_x.drop(data_y_cols, axis=1)"
   ]
  },
  {
   "cell_type": "code",
   "execution_count": 16,
   "id": "91442db2",
   "metadata": {},
   "outputs": [
    {
     "data": {
      "text/plain": [
       "44"
      ]
     },
     "execution_count": 16,
     "metadata": {},
     "output_type": "execute_result"
    }
   ],
   "source": [
    "from sklearn.model_selection import LeaveOneOut\n",
    "\n",
    "loo = LeaveOneOut()\n",
    "loo.get_n_splits(train_x)\n",
    "loo.get_n_splits(train_y)"
   ]
  },
  {
   "cell_type": "code",
   "execution_count": 17,
   "id": "7240dd70",
   "metadata": {},
   "outputs": [
    {
     "name": "stdout",
     "output_type": "stream",
     "text": [
      "Shuffling data\n"
     ]
    },
    {
     "ename": "KeyboardInterrupt",
     "evalue": "",
     "output_type": "error",
     "traceback": [
      "\u001b[0;31m---------------------------------------------------------------------------\u001b[0m",
      "\u001b[0;31mKeyboardInterrupt\u001b[0m                         Traceback (most recent call last)",
      "Cell \u001b[0;32mIn[17], line 28\u001b[0m\n\u001b[1;32m     26\u001b[0m \u001b[39m# create a logistic regression model\u001b[39;00m\n\u001b[1;32m     27\u001b[0m model\u001b[39m.\u001b[39mfit(train_x, train_data_y)\n\u001b[0;32m---> 28\u001b[0m scores \u001b[39m=\u001b[39m cross_val_score(\n\u001b[1;32m     29\u001b[0m     model,\n\u001b[1;32m     30\u001b[0m     train_x,\n\u001b[1;32m     31\u001b[0m     train_data_y,\n\u001b[1;32m     32\u001b[0m     scoring\u001b[39m=\u001b[39;49m\u001b[39m\"\u001b[39;49m\u001b[39mneg_mean_absolute_error\u001b[39;49m\u001b[39m\"\u001b[39;49m,\n\u001b[1;32m     33\u001b[0m     cv\u001b[39m=\u001b[39;49mloo,\n\u001b[1;32m     34\u001b[0m     n_jobs\u001b[39m=\u001b[39;49m\u001b[39m-\u001b[39;49m\u001b[39m1\u001b[39;49m,\n\u001b[1;32m     35\u001b[0m )\n\u001b[1;32m     36\u001b[0m \u001b[39mprint\u001b[39m(scores)\n\u001b[1;32m     37\u001b[0m \u001b[39mprint\u001b[39m(\u001b[39mf\u001b[39m\u001b[39m\"\u001b[39m\u001b[39mMean MAE: \u001b[39m\u001b[39m{\u001b[39;00mscores\u001b[39m.\u001b[39mmean()\u001b[39m}\u001b[39;00m\u001b[39m\"\u001b[39m)\n",
      "File \u001b[0;32m~/miniconda3/envs/Interstellar/lib/python3.10/site-packages/sklearn/model_selection/_validation.py:562\u001b[0m, in \u001b[0;36mcross_val_score\u001b[0;34m(estimator, X, y, groups, scoring, cv, n_jobs, verbose, fit_params, pre_dispatch, error_score)\u001b[0m\n\u001b[1;32m    559\u001b[0m \u001b[39m# To ensure multimetric format is not supported\u001b[39;00m\n\u001b[1;32m    560\u001b[0m scorer \u001b[39m=\u001b[39m check_scoring(estimator, scoring\u001b[39m=\u001b[39mscoring)\n\u001b[0;32m--> 562\u001b[0m cv_results \u001b[39m=\u001b[39m cross_validate(\n\u001b[1;32m    563\u001b[0m     estimator\u001b[39m=\u001b[39;49mestimator,\n\u001b[1;32m    564\u001b[0m     X\u001b[39m=\u001b[39;49mX,\n\u001b[1;32m    565\u001b[0m     y\u001b[39m=\u001b[39;49my,\n\u001b[1;32m    566\u001b[0m     groups\u001b[39m=\u001b[39;49mgroups,\n\u001b[1;32m    567\u001b[0m     scoring\u001b[39m=\u001b[39;49m{\u001b[39m\"\u001b[39;49m\u001b[39mscore\u001b[39;49m\u001b[39m\"\u001b[39;49m: scorer},\n\u001b[1;32m    568\u001b[0m     cv\u001b[39m=\u001b[39;49mcv,\n\u001b[1;32m    569\u001b[0m     n_jobs\u001b[39m=\u001b[39;49mn_jobs,\n\u001b[1;32m    570\u001b[0m     verbose\u001b[39m=\u001b[39;49mverbose,\n\u001b[1;32m    571\u001b[0m     fit_params\u001b[39m=\u001b[39;49mfit_params,\n\u001b[1;32m    572\u001b[0m     pre_dispatch\u001b[39m=\u001b[39;49mpre_dispatch,\n\u001b[1;32m    573\u001b[0m     error_score\u001b[39m=\u001b[39;49merror_score,\n\u001b[1;32m    574\u001b[0m )\n\u001b[1;32m    575\u001b[0m \u001b[39mreturn\u001b[39;00m cv_results[\u001b[39m\"\u001b[39m\u001b[39mtest_score\u001b[39m\u001b[39m\"\u001b[39m]\n",
      "File \u001b[0;32m~/miniconda3/envs/Interstellar/lib/python3.10/site-packages/sklearn/utils/_param_validation.py:211\u001b[0m, in \u001b[0;36mvalidate_params.<locals>.decorator.<locals>.wrapper\u001b[0;34m(*args, **kwargs)\u001b[0m\n\u001b[1;32m    205\u001b[0m \u001b[39mtry\u001b[39;00m:\n\u001b[1;32m    206\u001b[0m     \u001b[39mwith\u001b[39;00m config_context(\n\u001b[1;32m    207\u001b[0m         skip_parameter_validation\u001b[39m=\u001b[39m(\n\u001b[1;32m    208\u001b[0m             prefer_skip_nested_validation \u001b[39mor\u001b[39;00m global_skip_validation\n\u001b[1;32m    209\u001b[0m         )\n\u001b[1;32m    210\u001b[0m     ):\n\u001b[0;32m--> 211\u001b[0m         \u001b[39mreturn\u001b[39;00m func(\u001b[39m*\u001b[39;49margs, \u001b[39m*\u001b[39;49m\u001b[39m*\u001b[39;49mkwargs)\n\u001b[1;32m    212\u001b[0m \u001b[39mexcept\u001b[39;00m InvalidParameterError \u001b[39mas\u001b[39;00m e:\n\u001b[1;32m    213\u001b[0m     \u001b[39m# When the function is just a wrapper around an estimator, we allow\u001b[39;00m\n\u001b[1;32m    214\u001b[0m     \u001b[39m# the function to delegate validation to the estimator, but we replace\u001b[39;00m\n\u001b[1;32m    215\u001b[0m     \u001b[39m# the name of the estimator by the name of the function in the error\u001b[39;00m\n\u001b[1;32m    216\u001b[0m     \u001b[39m# message to avoid confusion.\u001b[39;00m\n\u001b[1;32m    217\u001b[0m     msg \u001b[39m=\u001b[39m re\u001b[39m.\u001b[39msub(\n\u001b[1;32m    218\u001b[0m         \u001b[39mr\u001b[39m\u001b[39m\"\u001b[39m\u001b[39mparameter of \u001b[39m\u001b[39m\\\u001b[39m\u001b[39mw+ must be\u001b[39m\u001b[39m\"\u001b[39m,\n\u001b[1;32m    219\u001b[0m         \u001b[39mf\u001b[39m\u001b[39m\"\u001b[39m\u001b[39mparameter of \u001b[39m\u001b[39m{\u001b[39;00mfunc\u001b[39m.\u001b[39m\u001b[39m__qualname__\u001b[39m\u001b[39m}\u001b[39;00m\u001b[39m must be\u001b[39m\u001b[39m\"\u001b[39m,\n\u001b[1;32m    220\u001b[0m         \u001b[39mstr\u001b[39m(e),\n\u001b[1;32m    221\u001b[0m     )\n",
      "File \u001b[0;32m~/miniconda3/envs/Interstellar/lib/python3.10/site-packages/sklearn/model_selection/_validation.py:309\u001b[0m, in \u001b[0;36mcross_validate\u001b[0;34m(estimator, X, y, groups, scoring, cv, n_jobs, verbose, fit_params, pre_dispatch, return_train_score, return_estimator, return_indices, error_score)\u001b[0m\n\u001b[1;32m    306\u001b[0m \u001b[39m# We clone the estimator to make sure that all the folds are\u001b[39;00m\n\u001b[1;32m    307\u001b[0m \u001b[39m# independent, and that it is pickle-able.\u001b[39;00m\n\u001b[1;32m    308\u001b[0m parallel \u001b[39m=\u001b[39m Parallel(n_jobs\u001b[39m=\u001b[39mn_jobs, verbose\u001b[39m=\u001b[39mverbose, pre_dispatch\u001b[39m=\u001b[39mpre_dispatch)\n\u001b[0;32m--> 309\u001b[0m results \u001b[39m=\u001b[39m parallel(\n\u001b[1;32m    310\u001b[0m     delayed(_fit_and_score)(\n\u001b[1;32m    311\u001b[0m         clone(estimator),\n\u001b[1;32m    312\u001b[0m         X,\n\u001b[1;32m    313\u001b[0m         y,\n\u001b[1;32m    314\u001b[0m         scorers,\n\u001b[1;32m    315\u001b[0m         train,\n\u001b[1;32m    316\u001b[0m         test,\n\u001b[1;32m    317\u001b[0m         verbose,\n\u001b[1;32m    318\u001b[0m         \u001b[39mNone\u001b[39;49;00m,\n\u001b[1;32m    319\u001b[0m         fit_params,\n\u001b[1;32m    320\u001b[0m         return_train_score\u001b[39m=\u001b[39;49mreturn_train_score,\n\u001b[1;32m    321\u001b[0m         return_times\u001b[39m=\u001b[39;49m\u001b[39mTrue\u001b[39;49;00m,\n\u001b[1;32m    322\u001b[0m         return_estimator\u001b[39m=\u001b[39;49mreturn_estimator,\n\u001b[1;32m    323\u001b[0m         error_score\u001b[39m=\u001b[39;49merror_score,\n\u001b[1;32m    324\u001b[0m     )\n\u001b[1;32m    325\u001b[0m     \u001b[39mfor\u001b[39;49;00m train, test \u001b[39min\u001b[39;49;00m indices\n\u001b[1;32m    326\u001b[0m )\n\u001b[1;32m    328\u001b[0m _warn_or_raise_about_fit_failures(results, error_score)\n\u001b[1;32m    330\u001b[0m \u001b[39m# For callable scoring, the return type is only know after calling. If the\u001b[39;00m\n\u001b[1;32m    331\u001b[0m \u001b[39m# return type is a dictionary, the error scores can now be inserted with\u001b[39;00m\n\u001b[1;32m    332\u001b[0m \u001b[39m# the correct key.\u001b[39;00m\n",
      "File \u001b[0;32m~/miniconda3/envs/Interstellar/lib/python3.10/site-packages/sklearn/utils/parallel.py:65\u001b[0m, in \u001b[0;36mParallel.__call__\u001b[0;34m(self, iterable)\u001b[0m\n\u001b[1;32m     60\u001b[0m config \u001b[39m=\u001b[39m get_config()\n\u001b[1;32m     61\u001b[0m iterable_with_config \u001b[39m=\u001b[39m (\n\u001b[1;32m     62\u001b[0m     (_with_config(delayed_func, config), args, kwargs)\n\u001b[1;32m     63\u001b[0m     \u001b[39mfor\u001b[39;00m delayed_func, args, kwargs \u001b[39min\u001b[39;00m iterable\n\u001b[1;32m     64\u001b[0m )\n\u001b[0;32m---> 65\u001b[0m \u001b[39mreturn\u001b[39;00m \u001b[39msuper\u001b[39;49m()\u001b[39m.\u001b[39;49m\u001b[39m__call__\u001b[39;49m(iterable_with_config)\n",
      "File \u001b[0;32m~/miniconda3/envs/Interstellar/lib/python3.10/site-packages/joblib/parallel.py:1944\u001b[0m, in \u001b[0;36mParallel.__call__\u001b[0;34m(self, iterable)\u001b[0m\n\u001b[1;32m   1938\u001b[0m \u001b[39m# The first item from the output is blank, but it makes the interpreter\u001b[39;00m\n\u001b[1;32m   1939\u001b[0m \u001b[39m# progress until it enters the Try/Except block of the generator and\u001b[39;00m\n\u001b[1;32m   1940\u001b[0m \u001b[39m# reach the first `yield` statement. This starts the aynchronous\u001b[39;00m\n\u001b[1;32m   1941\u001b[0m \u001b[39m# dispatch of the tasks to the workers.\u001b[39;00m\n\u001b[1;32m   1942\u001b[0m \u001b[39mnext\u001b[39m(output)\n\u001b[0;32m-> 1944\u001b[0m \u001b[39mreturn\u001b[39;00m output \u001b[39mif\u001b[39;00m \u001b[39mself\u001b[39m\u001b[39m.\u001b[39mreturn_generator \u001b[39melse\u001b[39;00m \u001b[39mlist\u001b[39;49m(output)\n",
      "File \u001b[0;32m~/miniconda3/envs/Interstellar/lib/python3.10/site-packages/joblib/parallel.py:1587\u001b[0m, in \u001b[0;36mParallel._get_outputs\u001b[0;34m(self, iterator, pre_dispatch)\u001b[0m\n\u001b[1;32m   1584\u001b[0m     \u001b[39myield\u001b[39;00m\n\u001b[1;32m   1586\u001b[0m     \u001b[39mwith\u001b[39;00m \u001b[39mself\u001b[39m\u001b[39m.\u001b[39m_backend\u001b[39m.\u001b[39mretrieval_context():\n\u001b[0;32m-> 1587\u001b[0m         \u001b[39myield from\u001b[39;00m \u001b[39mself\u001b[39m\u001b[39m.\u001b[39m_retrieve()\n\u001b[1;32m   1589\u001b[0m \u001b[39mexcept\u001b[39;00m \u001b[39mGeneratorExit\u001b[39;00m:\n\u001b[1;32m   1590\u001b[0m     \u001b[39m# The generator has been garbage collected before being fully\u001b[39;00m\n\u001b[1;32m   1591\u001b[0m     \u001b[39m# consumed. This aborts the remaining tasks if possible and warn\u001b[39;00m\n\u001b[1;32m   1592\u001b[0m     \u001b[39m# the user if necessary.\u001b[39;00m\n\u001b[1;32m   1593\u001b[0m     \u001b[39mself\u001b[39m\u001b[39m.\u001b[39m_exception \u001b[39m=\u001b[39m \u001b[39mTrue\u001b[39;00m\n",
      "File \u001b[0;32m~/miniconda3/envs/Interstellar/lib/python3.10/site-packages/joblib/parallel.py:1699\u001b[0m, in \u001b[0;36mParallel._retrieve\u001b[0;34m(self)\u001b[0m\n\u001b[1;32m   1694\u001b[0m \u001b[39m# If the next job is not ready for retrieval yet, we just wait for\u001b[39;00m\n\u001b[1;32m   1695\u001b[0m \u001b[39m# async callbacks to progress.\u001b[39;00m\n\u001b[1;32m   1696\u001b[0m \u001b[39mif\u001b[39;00m ((\u001b[39mlen\u001b[39m(\u001b[39mself\u001b[39m\u001b[39m.\u001b[39m_jobs) \u001b[39m==\u001b[39m \u001b[39m0\u001b[39m) \u001b[39mor\u001b[39;00m\n\u001b[1;32m   1697\u001b[0m     (\u001b[39mself\u001b[39m\u001b[39m.\u001b[39m_jobs[\u001b[39m0\u001b[39m]\u001b[39m.\u001b[39mget_status(\n\u001b[1;32m   1698\u001b[0m         timeout\u001b[39m=\u001b[39m\u001b[39mself\u001b[39m\u001b[39m.\u001b[39mtimeout) \u001b[39m==\u001b[39m TASK_PENDING)):\n\u001b[0;32m-> 1699\u001b[0m     time\u001b[39m.\u001b[39;49msleep(\u001b[39m0.01\u001b[39;49m)\n\u001b[1;32m   1700\u001b[0m     \u001b[39mcontinue\u001b[39;00m\n\u001b[1;32m   1702\u001b[0m \u001b[39m# We need to be careful: the job list can be filling up as\u001b[39;00m\n\u001b[1;32m   1703\u001b[0m \u001b[39m# we empty it and Python list are not thread-safe by\u001b[39;00m\n\u001b[1;32m   1704\u001b[0m \u001b[39m# default hence the use of the lock\u001b[39;00m\n",
      "\u001b[0;31mKeyboardInterrupt\u001b[0m: "
     ]
    }
   ],
   "source": [
    "for cytokine in train_y.columns:\n",
    "    train_data_y = train_y[cytokine]\n",
    "    model = ElasticNetCV(\n",
    "        random_state=0,\n",
    "        max_iter=100000,\n",
    "        cv=loo,\n",
    "        l1_ratio=[0.01, 0.1, 0.2, 0.3, 0.4, 0.5, 0.6, 0.7, 0.9, 0.99],\n",
    "        alphas=[0.001, 0.01, 0.1, 1, 10, 100, 1000, 10000],\n",
    "        fit_intercept=True,\n",
    "        selection=\"random\",\n",
    "    )\n",
    "    # train model on training data on all combinations of model types, feature types, and phenotypic classes\n",
    "\n",
    "    if shuffle == \"shuffled_baseline\":\n",
    "        print(\"Shuffling data\")\n",
    "        for column in train_x:\n",
    "            np.random.shuffle(train_x[column].values)\n",
    "    else:\n",
    "        print(\"Not shuffling data\")\n",
    "    # define parameters to search over\n",
    "    with parallel_backend(\"multiprocessing\"):\n",
    "        with warnings.catch_warnings():\n",
    "            warnings.filterwarnings(\n",
    "                \"ignore\", category=ConvergenceWarning, module=\"sklearn\"\n",
    "            )\n",
    "            # create a logistic regression model\n",
    "            model.fit(train_x, train_data_y)\n",
    "            scores = cross_val_score(\n",
    "                model,\n",
    "                train_x,\n",
    "                train_data_y,\n",
    "                scoring=\"neg_mean_absolute_error\",\n",
    "                cv=loo,\n",
    "                n_jobs=-1,\n",
    "            )\n",
    "            print(scores)\n",
    "            print(f\"Mean MAE: {scores.mean()}\")\n",
    "            print(f\"Std MAE: {scores.std()}\")\n",
    "            print(f\"R2: {model.score(train_x, train_data_y)}\")\n",
    "\n",
    "    if (aggregation == True) and (nomic == True):\n",
    "        results_dir = f\"../models/regression/{cell_type}/aggregated_with_nomic/\"\n",
    "    elif (aggregation == True) and (nomic == False):\n",
    "        results_dir = f\"../models/regression/{cell_type}/aggregated/\"\n",
    "    elif (aggregation == False) and (nomic == True):\n",
    "        results_dir = f\"../models/regression/{cell_type}/sc_with_nomic/\"\n",
    "    elif (aggregation == False) and (nomic == False):\n",
    "        results_dir = f\"../models/regression/{cell_type}/sc/\"\n",
    "    else:\n",
    "        print(\"Error\")\n",
    "\n",
    "    # create results directory if it doesn't exist\n",
    "    pathlib.Path(results_dir).mkdir(parents=True, exist_ok=True)\n",
    "\n",
    "    # save final estimator\n",
    "    if shuffle == \"shuffled_baseline\":\n",
    "        dump(\n",
    "            model,\n",
    "            f\"{results_dir}/{cytokine}_shuffled_baseline__all_nomic.joblib\",\n",
    "        )\n",
    "    elif shuffle == \"final\":\n",
    "        dump(\n",
    "            model,\n",
    "            f\"{results_dir}/{cytokine}_final__all_nomic.joblib\",\n",
    "        )\n",
    "    else:\n",
    "        print(\"Error\")\n",
    "\n",
    "    # save condfig copy specific to this model to the folder with the results\n",
    "    # use pathlib\n",
    "    if shuffle == \"shuffled_baseline\":\n",
    "        config_copy_path = pathlib.Path(\n",
    "            f\"{results_dir}/{cytokine}_shuffled_baseline__all_nomic.toml\"\n",
    "        )\n",
    "    elif shuffle == \"final\":\n",
    "        config_copy_path = pathlib.Path(\n",
    "            f\"{results_dir}/{cytokine}_final__all_nomic.toml\"\n",
    "        )\n",
    "    else:\n",
    "        print(\"Error\")\n",
    "\n",
    "    # write toml file with parameters used from injected parameters\n",
    "\n",
    "    with open(config_copy_path, \"w\") as f:\n",
    "        f.write(f\"model_type='{shuffle}'\\n\")\n",
    "        f.write(f\"aggregation={aggregation}\\n\")\n",
    "        f.write(f\"nomic={nomic}\\n\")\n",
    "        f.write(f\"cell_type='{cell_type}'\\n\")\n",
    "        f.write(f\"feature=all\\n\")"
   ]
  }
 ],
 "metadata": {
  "kernelspec": {
   "display_name": "Interstellar",
   "language": "python",
   "name": "python3"
  },
  "language_info": {
   "codemirror_mode": {
    "name": "ipython",
    "version": 3
   },
   "file_extension": ".py",
   "mimetype": "text/x-python",
   "name": "python",
   "nbconvert_exporter": "python",
   "pygments_lexer": "ipython3",
   "version": "3.10.12"
  },
  "papermill": {
   "default_parameters": {},
   "duration": 694.133243,
   "end_time": "2023-07-22T05:52:18.725810",
   "environment_variables": {},
   "exception": null,
   "input_path": "train_single_class.ipynb",
   "output_path": "train_single_class.ipynb",
   "parameters": {
    "aggregation": false,
    "cell_type": "PBMC",
    "control": "DMSO_0.100_DMSO_0.025",
    "flag": true,
    "nomic": false,
    "treatment": "Thapsigargin_1.000_DMSO_0.025"
   },
   "start_time": "2023-07-22T05:40:44.592567",
   "version": "2.4.0"
  },
  "vscode": {
   "interpreter": {
    "hash": "72ae02083a9ca7d143c492d1aec380c7bf553ec51bd66e90e72bba65228121b6"
   }
  }
 },
 "nbformat": 4,
 "nbformat_minor": 5
}
