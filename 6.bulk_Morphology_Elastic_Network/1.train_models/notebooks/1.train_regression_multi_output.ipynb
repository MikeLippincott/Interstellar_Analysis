{
    "cells": [
        {
            "cell_type": "code",
            "execution_count": null,
            "id": "215ce1c1",
            "metadata": {
                "execution": {
                    "iopub.execute_input": "2023-07-22T05:40:46.596684Z",
                    "iopub.status.busy": "2023-07-22T05:40:46.596359Z",
                    "iopub.status.idle": "2023-07-22T05:40:47.783445Z",
                    "shell.execute_reply": "2023-07-22T05:40:47.783025Z"
                },
                "papermill": {
                    "duration": 1.193087,
                    "end_time": "2023-07-22T05:40:47.784792",
                    "exception": false,
                    "start_time": "2023-07-22T05:40:46.591705",
                    "status": "completed"
                },
                "tags": []
            },
            "outputs": [],
            "source": [
                "import argparse\n",
                "import ast\n",
                "import itertools\n",
                "import pathlib\n",
                "import warnings\n",
                "\n",
                "import numpy as np\n",
                "import pandas as pd\n",
                "import pyarrow.parquet as pq\n",
                "import toml\n",
                "from joblib import dump\n",
                "from sklearn.exceptions import ConvergenceWarning\n",
                "from sklearn.linear_model import ElasticNetCV, LogisticRegression, MultiTaskElasticNetCV\n",
                "\n",
                "# import RepeatedKFold\n",
                "from sklearn.model_selection import (\n",
                "    GridSearchCV,\n",
                "    LeaveOneOut,\n",
                "    RepeatedKFold,\n",
                "    StratifiedKFold,\n",
                "    cross_val_score,\n",
                "    train_test_split,\n",
                ")\n",
                "from sklearn.utils import parallel_backend"
            ]
        },
        {
            "cell_type": "code",
            "execution_count": null,
            "id": "1bb9ab07",
            "metadata": {},
            "outputs": [],
            "source": [
                "argparser = argparse.ArgumentParser()\n",
                "argparser.add_argument(\"--cell_type\", type=str, default=\"all\")\n",
                "argparser.add_argument(\"--shuffle\", type=str, default=False)\n",
                "argparser.add_argument(\"--cytokine\", type=str, default=\"cytokine\")\n",
                "\n",
                "args = argparser.parse_args()\n",
                "\n",
                "cell_type = args.cell_type\n",
                "cytokine = args.cytokine\n",
                "shuffle = args.shuffle\n",
                "\n",
                "print(cell_type, shuffle, cytokine)\n",
                "if shuffle == \"True\":\n",
                "    shuffle = True\n",
                "elif shuffle == \"False\":\n",
                "    shuffle = False\n",
                "else:\n",
                "    raise ValueError(\"shuffle must be True or False\")\n",
                "print(f\"shuffle: {shuffle}\")"
            ]
        },
        {
            "cell_type": "code",
            "execution_count": null,
            "id": "ed0d80d4",
            "metadata": {
                "execution": {
                    "iopub.execute_input": "2023-07-22T05:40:47.789946Z",
                    "iopub.status.busy": "2023-07-22T05:40:47.789675Z",
                    "iopub.status.idle": "2023-07-22T05:40:47.792006Z",
                    "shell.execute_reply": "2023-07-22T05:40:47.791688Z"
                },
                "papermill": {
                    "duration": 0.005605,
                    "end_time": "2023-07-22T05:40:47.792730",
                    "exception": false,
                    "start_time": "2023-07-22T05:40:47.787125",
                    "status": "completed"
                },
                "tags": [
                    "injected-parameters"
                ]
            },
            "outputs": [],
            "source": [
                "aggregation = True\n",
                "nomic = True"
            ]
        },
        {
            "cell_type": "code",
            "execution_count": null,
            "id": "8f5aae8c",
            "metadata": {},
            "outputs": [],
            "source": [
                "# set shuffle value\n",
                "if shuffle:\n",
                "    shuffle = \"shuffled_baseline\"\n",
                "else:\n",
                "    shuffle = \"final\""
            ]
        },
        {
            "cell_type": "code",
            "execution_count": null,
            "id": "c9fbea76",
            "metadata": {
                "execution": {
                    "iopub.execute_input": "2023-07-22T05:40:47.796788Z",
                    "iopub.status.busy": "2023-07-22T05:40:47.796489Z",
                    "iopub.status.idle": "2023-07-22T05:40:47.799099Z",
                    "shell.execute_reply": "2023-07-22T05:40:47.798782Z"
                },
                "papermill": {
                    "duration": 0.005391,
                    "end_time": "2023-07-22T05:40:47.799818",
                    "exception": false,
                    "start_time": "2023-07-22T05:40:47.794427",
                    "status": "completed"
                },
                "tags": []
            },
            "outputs": [],
            "source": [
                "MODEL_TYPE = \"regression\""
            ]
        },
        {
            "cell_type": "code",
            "execution_count": null,
            "id": "1261124d",
            "metadata": {
                "execution": {
                    "iopub.execute_input": "2023-07-22T05:40:47.803594Z",
                    "iopub.status.busy": "2023-07-22T05:40:47.803381Z",
                    "iopub.status.idle": "2023-07-22T05:44:22.592036Z",
                    "shell.execute_reply": "2023-07-22T05:44:22.591001Z"
                },
                "papermill": {
                    "duration": 214.792447,
                    "end_time": "2023-07-22T05:44:22.593856",
                    "exception": false,
                    "start_time": "2023-07-22T05:40:47.801409",
                    "status": "completed"
                },
                "tags": []
            },
            "outputs": [],
            "source": [
                "# load training data from indexes and features dataframe\n",
                "data_split_path = pathlib.Path(\n",
                "    f\"../../0.split_data/indexes/{cell_type}/regression/aggregated_sc_and_nomic_data_split_indexes.tsv\"\n",
                ")\n",
                "data_path = pathlib.Path(\n",
                "    f\"../../../data/{cell_type}_preprocessed_sc_norm_aggregated_nomic.parquet\"\n",
                ")\n",
                "\n",
                "# dataframe with only the labeled data we want (exclude certain phenotypic classes)\n",
                "data_df = pd.read_parquet(data_path)\n",
                "\n",
                "data_split_indexes = pd.read_csv(data_split_path, sep=\"\\t\")"
            ]
        },
        {
            "cell_type": "code",
            "execution_count": null,
            "id": "b2ec11da",
            "metadata": {
                "execution": {
                    "iopub.execute_input": "2023-07-22T05:44:22.817688Z",
                    "iopub.status.busy": "2023-07-22T05:44:22.816972Z",
                    "iopub.status.idle": "2023-07-22T05:44:22.841932Z",
                    "shell.execute_reply": "2023-07-22T05:44:22.841519Z"
                },
                "papermill": {
                    "duration": 0.028408,
                    "end_time": "2023-07-22T05:44:22.842747",
                    "exception": false,
                    "start_time": "2023-07-22T05:44:22.814339",
                    "status": "completed"
                },
                "tags": []
            },
            "outputs": [],
            "source": [
                "# select tht indexes for the training and test set\n",
                "train_indexes = data_split_indexes.loc[data_split_indexes[\"label\"] == \"train\"]"
            ]
        },
        {
            "cell_type": "code",
            "execution_count": null,
            "id": "10d08adb",
            "metadata": {
                "execution": {
                    "iopub.execute_input": "2023-07-22T05:44:22.847339Z",
                    "iopub.status.busy": "2023-07-22T05:44:22.846705Z",
                    "iopub.status.idle": "2023-07-22T05:44:23.372437Z",
                    "shell.execute_reply": "2023-07-22T05:44:23.371833Z"
                },
                "papermill": {
                    "duration": 0.529615,
                    "end_time": "2023-07-22T05:44:23.373993",
                    "exception": false,
                    "start_time": "2023-07-22T05:44:22.844378",
                    "status": "completed"
                },
                "tags": []
            },
            "outputs": [],
            "source": [
                "# subset data_df by indexes in data_split_indexes\n",
                "training_data = data_df.loc[train_indexes[\"labeled_data_index\"]]"
            ]
        },
        {
            "cell_type": "code",
            "execution_count": null,
            "id": "b292a431",
            "metadata": {
                "execution": {
                    "iopub.execute_input": "2023-07-22T05:44:25.424681Z",
                    "iopub.status.busy": "2023-07-22T05:44:25.424485Z",
                    "iopub.status.idle": "2023-07-22T05:44:25.599914Z",
                    "shell.execute_reply": "2023-07-22T05:44:25.599440Z"
                },
                "papermill": {
                    "duration": 0.179094,
                    "end_time": "2023-07-22T05:44:25.601137",
                    "exception": false,
                    "start_time": "2023-07-22T05:44:25.422043",
                    "status": "completed"
                },
                "tags": []
            },
            "outputs": [],
            "source": [
                "# define metadata columns\n",
                "# subset each column that contains metadata\n",
                "metadata = training_data.filter(regex=\"Metadata\")\n",
                "# drop all metadata columns\n",
                "data_x = training_data.drop(metadata.columns, axis=1)\n",
                "labeled_data = training_data[\"oneb_Metadata_Treatment_Dose_Inhibitor_Dose\"]\n",
                "# get all columns that contain \"NSU\" in the column name\n",
                "data_y_cols = data_x.filter(regex=\"NSU\").columns\n",
                "train_y = training_data[data_y_cols]\n",
                "train_x = data_x.drop(data_y_cols, axis=1)\n",
                "train_x = train_x.drop(columns=\"oneb_Treatment_Dose_Inhibitor_Dose\")"
            ]
        },
        {
            "cell_type": "code",
            "execution_count": null,
            "id": "91442db2",
            "metadata": {},
            "outputs": [],
            "source": [
                "loo = LeaveOneOut()\n",
                "loo.get_n_splits(train_y)"
            ]
        },
        {
            "cell_type": "code",
            "execution_count": null,
            "id": "7240dd70",
            "metadata": {},
            "outputs": [],
            "source": [
                "train_data_y = train_y[cytokine]\n",
                "model = ElasticNetCV(\n",
                "    random_state=0,\n",
                "    max_iter=100000,\n",
                "    cv=loo,\n",
                "    l1_ratio=[0.01, 0.1, 0.2, 0.3, 0.4, 0.5, 0.6, 0.7, 0.9, 0.99],\n",
                "    alphas=[0.001, 0.01, 0.1, 1, 10, 100, 1000, 10000],\n",
                "    fit_intercept=True,\n",
                "    selection=\"random\",\n",
                ")\n",
                "# train model on training data on all combinations of model types, feature types, and phenotypic classes\n",
                "\n",
                "if shuffle == \"shuffled_baseline\":\n",
                "    print(\"Shuffling data\")\n",
                "    for column in train_x:\n",
                "        np.random.shuffle(train_x[column].values)\n",
                "else:\n",
                "    print(\"Not shuffling data\")\n",
                "# define parameters to search over\n",
                "with parallel_backend(\"multiprocessing\"):\n",
                "    with warnings.catch_warnings():\n",
                "        warnings.filterwarnings(\"ignore\", category=ConvergenceWarning, module=\"sklearn\")\n",
                "        # create a logistic regression model\n",
                "        model.fit(train_x, train_data_y)\n",
                "        scores = cross_val_score(\n",
                "            model,\n",
                "            train_x,\n",
                "            train_data_y,\n",
                "            scoring=\"neg_mean_absolute_error\",\n",
                "            cv=loo,\n",
                "            n_jobs=-1,\n",
                "        )\n",
                "        print(scores)\n",
                "        print(f\"Mean MAE: {scores.mean()}\")\n",
                "        print(f\"Std MAE: {scores.std()}\")\n",
                "        print(f\"R2: {model.score(train_x, train_data_y)}\")\n",
                "\n",
                "if (aggregation == True) and (nomic == True):\n",
                "    results_dir = f\"../models/regression/{cell_type}/aggregated_with_nomic/\"\n",
                "elif (aggregation == True) and (nomic == False):\n",
                "    results_dir = f\"../models/regression/{cell_type}/aggregated/\"\n",
                "elif (aggregation == False) and (nomic == True):\n",
                "    results_dir = f\"../models/regression/{cell_type}/sc_with_nomic/\"\n",
                "elif (aggregation == False) and (nomic == False):\n",
                "    results_dir = f\"../models/regression/{cell_type}/sc/\"\n",
                "else:\n",
                "    print(\"Error\")\n",
                "\n",
                "# create results directory if it doesn't exist\n",
                "pathlib.Path(results_dir).mkdir(parents=True, exist_ok=True)\n",
                "\n",
                "# save final estimator\n",
                "if shuffle == \"shuffled_baseline\":\n",
                "    dump(\n",
                "        model,\n",
                "        f\"{results_dir}/{cytokine}_shuffled_baseline__all_nomic.joblib\",\n",
                "    )\n",
                "elif shuffle == \"final\":\n",
                "    dump(\n",
                "        model,\n",
                "        f\"{results_dir}/{cytokine}_final__all_nomic.joblib\",\n",
                "    )\n",
                "else:\n",
                "    print(\"Error\")\n",
                "\n",
                "# save condfig copy specific to this model to the folder with the results\n",
                "# use pathlib\n",
                "if shuffle == \"shuffled_baseline\":\n",
                "    config_copy_path = pathlib.Path(\n",
                "        f\"{results_dir}/{cytokine}_shuffled_baseline__all_nomic.toml\"\n",
                "    )\n",
                "elif shuffle == \"final\":\n",
                "    config_copy_path = pathlib.Path(f\"{results_dir}/{cytokine}_final__all_nomic.toml\")\n",
                "else:\n",
                "    print(\"Error\")\n",
                "\n",
                "# write toml file with parameters used from injected parameters\n",
                "\n",
                "with open(config_copy_path, \"w\") as f:\n",
                "    f.write(f\"model_type='{shuffle}'\\n\")\n",
                "    f.write(f\"aggregation={aggregation}\\n\")\n",
                "    f.write(f\"nomic={nomic}\\n\")\n",
                "    f.write(f\"cell_type='{cell_type}'\\n\")\n",
                "    f.write(f\"feature=all\\n\")"
            ]
        }
    ],
    "metadata": {
        "kernelspec": {
            "display_name": "Interstellar",
            "language": "python",
            "name": "python3"
        },
        "language_info": {
            "codemirror_mode": {
                "name": "ipython",
                "version": 3
            },
            "file_extension": ".py",
            "mimetype": "text/x-python",
            "name": "python",
            "nbconvert_exporter": "python",
            "pygments_lexer": "ipython3",
            "version": "3.10.12"
        },
        "papermill": {
            "default_parameters": {},
            "duration": 694.133243,
            "end_time": "2023-07-22T05:52:18.725810",
            "environment_variables": {},
            "exception": null,
            "input_path": "train_single_class.ipynb",
            "output_path": "train_single_class.ipynb",
            "parameters": {
                "aggregation": false,
                "cell_type": "PBMC",
                "control": "DMSO_0.100_DMSO_0.025",
                "flag": true,
                "nomic": false,
                "treatment": "Thapsigargin_1.000_DMSO_0.025"
            },
            "start_time": "2023-07-22T05:40:44.592567",
            "version": "2.4.0"
        },
        "vscode": {
            "interpreter": {
                "hash": "72ae02083a9ca7d143c492d1aec380c7bf553ec51bd66e90e72bba65228121b6"
            }
        }
    },
    "nbformat": 4,
    "nbformat_minor": 5
}
