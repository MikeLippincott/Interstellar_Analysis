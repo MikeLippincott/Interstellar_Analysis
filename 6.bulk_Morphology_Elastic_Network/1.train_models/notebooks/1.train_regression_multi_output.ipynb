{
 "cells": [
  {
   "cell_type": "code",
   "execution_count": null,
   "id": "215ce1c1",
   "metadata": {
    "execution": {
     "iopub.execute_input": "2023-07-22T05:40:46.596684Z",
     "iopub.status.busy": "2023-07-22T05:40:46.596359Z",
     "iopub.status.idle": "2023-07-22T05:40:47.783445Z",
     "shell.execute_reply": "2023-07-22T05:40:47.783025Z"
    },
    "papermill": {
     "duration": 1.193087,
     "end_time": "2023-07-22T05:40:47.784792",
     "exception": false,
     "start_time": "2023-07-22T05:40:46.591705",
     "status": "completed"
    },
    "tags": []
   },
   "outputs": [],
   "source": [
    "import itertools\n",
    "import pathlib\n",
    "import warnings\n",
    "\n",
    "import numpy as np\n",
    "import pandas as pd\n",
    "import pyarrow.parquet as pq\n",
    "import toml\n",
    "from joblib import dump\n",
    "from sklearn.exceptions import ConvergenceWarning\n",
    "from sklearn.linear_model import ElasticNetCV, LogisticRegression, MultiTaskElasticNetCV\n",
    "\n",
    "# import RepeatedKFold\n",
    "from sklearn.model_selection import (\n",
    "    GridSearchCV,\n",
    "    RepeatedKFold,\n",
    "    StratifiedKFold,\n",
    "    cross_val_score,\n",
    "    train_test_split,\n",
    ")\n",
    "from sklearn.utils import parallel_backend, shuffle\n",
    "\n",
    "# import mse"
   ]
  },
  {
   "cell_type": "code",
   "execution_count": null,
   "id": "ed0d80d4",
   "metadata": {
    "execution": {
     "iopub.execute_input": "2023-07-22T05:40:47.789946Z",
     "iopub.status.busy": "2023-07-22T05:40:47.789675Z",
     "iopub.status.idle": "2023-07-22T05:40:47.792006Z",
     "shell.execute_reply": "2023-07-22T05:40:47.791688Z"
    },
    "papermill": {
     "duration": 0.005605,
     "end_time": "2023-07-22T05:40:47.792730",
     "exception": false,
     "start_time": "2023-07-22T05:40:47.787125",
     "status": "completed"
    },
    "tags": [
     "injected-parameters"
    ]
   },
   "outputs": [],
   "source": [
    "# Parameters\n",
    "cell_type = \"SHSY5Y\"\n",
    "aggregation = True\n",
    "nomic = True\n",
    "shuffle = True"
   ]
  },
  {
   "cell_type": "code",
   "execution_count": null,
   "id": "8f5aae8c",
   "metadata": {},
   "outputs": [],
   "source": [
    "# set shuffle value\n",
    "if shuffle:\n",
    "    shuffle = \"shuffled_baseline\"\n",
    "else:\n",
    "    shuffle = \"final\""
   ]
  },
  {
   "cell_type": "code",
   "execution_count": null,
   "id": "c9fbea76",
   "metadata": {
    "execution": {
     "iopub.execute_input": "2023-07-22T05:40:47.796788Z",
     "iopub.status.busy": "2023-07-22T05:40:47.796489Z",
     "iopub.status.idle": "2023-07-22T05:40:47.799099Z",
     "shell.execute_reply": "2023-07-22T05:40:47.798782Z"
    },
    "papermill": {
     "duration": 0.005391,
     "end_time": "2023-07-22T05:40:47.799818",
     "exception": false,
     "start_time": "2023-07-22T05:40:47.794427",
     "status": "completed"
    },
    "tags": []
   },
   "outputs": [],
   "source": [
    "MODEL_TYPE = \"regression\""
   ]
  },
  {
   "cell_type": "code",
   "execution_count": null,
   "id": "1261124d",
   "metadata": {
    "execution": {
     "iopub.execute_input": "2023-07-22T05:40:47.803594Z",
     "iopub.status.busy": "2023-07-22T05:40:47.803381Z",
     "iopub.status.idle": "2023-07-22T05:44:22.592036Z",
     "shell.execute_reply": "2023-07-22T05:44:22.591001Z"
    },
    "papermill": {
     "duration": 214.792447,
     "end_time": "2023-07-22T05:44:22.593856",
     "exception": false,
     "start_time": "2023-07-22T05:40:47.801409",
     "status": "completed"
    },
    "tags": []
   },
   "outputs": [],
   "source": [
    "# load training data from indexes and features dataframe\n",
    "# data_split_path = pathlib.Path(f\"../0.split_data/indexes/data_split_indexes.tsv\")\n",
    "data_path = pathlib.Path(f\"../../../data/{cell_type}_preprocessed_sc_norm.parquet\")\n",
    "\n",
    "# dataframe with only the labeled data we want (exclude certain phenotypic classes)\n",
    "data_df = pq.read_table(data_path).to_pandas()\n",
    "\n",
    "# import nomic data\n",
    "nomic_df_path = pathlib.Path(\n",
    "    f\"../../../2.Nomic_nELISA_Analysis/Data/clean/Plate2/nELISA_plate_430420_{cell_type}_cleanup4correlation.csv\"\n",
    ")\n",
    "df_nomic = pd.read_csv(nomic_df_path)\n",
    "\n",
    "# clean up nomic data\n",
    "df_nomic = df_nomic.drop(columns=[col for col in df_nomic.columns if \"[pgML]\" in col])\n",
    "# drop first 25 columns (Metadata that is not needed)\n",
    "# df_nomic = df_nomic.drop(columns=df_nomic.columns[3:25])\n",
    "# df_nomic = df_nomic.drop(columns=df_nomic.columns[0:2])"
   ]
  },
  {
   "cell_type": "code",
   "execution_count": null,
   "id": "bb57cb92",
   "metadata": {},
   "outputs": [],
   "source": [
    "# verify that the data are min max scaled\n",
    "rint(df_nomic[\"Activin A [NSU]\"].describe())"
   ]
  },
  {
   "cell_type": "code",
   "execution_count": null,
   "id": "bf794861",
   "metadata": {
    "execution": {
     "iopub.execute_input": "2023-07-22T05:44:22.654781Z",
     "iopub.status.busy": "2023-07-22T05:44:22.653962Z",
     "iopub.status.idle": "2023-07-22T05:44:22.810900Z",
     "shell.execute_reply": "2023-07-22T05:44:22.810222Z"
    },
    "papermill": {
     "duration": 0.162062,
     "end_time": "2023-07-22T05:44:22.812544",
     "exception": false,
     "start_time": "2023-07-22T05:44:22.650482",
     "status": "completed"
    },
    "tags": []
   },
   "outputs": [],
   "source": [
    "if (aggregation == True) and (nomic == True):\n",
    "    data_split_path = pathlib.Path(\n",
    "        f\"../../0.split_data/indexes/{cell_type}/{MODEL_TYPE}/aggregated_sc_and_nomic_data_split_indexes.tsv\"\n",
    "    )\n",
    "    data_split_indexes = pd.read_csv(data_split_path, sep=\"\\t\", index_col=0)\n",
    "    # subset each column that contains metadata\n",
    "    metadata = data_df.filter(regex=\"Metadata\")\n",
    "    data_df = data_df.drop(metadata.columns, axis=1)\n",
    "    data_df = pd.concat([data_df, metadata[\"Metadata_Well\"]], axis=1)\n",
    "    # groupby well and take mean of each well\n",
    "    data_df = data_df.groupby(\"Metadata_Well\").mean()\n",
    "    # drop duplicate rows in the metadata_well column\n",
    "    metadata = metadata.drop_duplicates(subset=[\"Metadata_Well\"])\n",
    "    # get the metadata for each well\n",
    "    data_df = pd.merge(\n",
    "        data_df, metadata, left_on=\"Metadata_Well\", right_on=\"Metadata_Well\"\n",
    "    )\n",
    "    data_df = pd.merge(\n",
    "        data_df,\n",
    "        df_nomic,\n",
    "        left_on=[\"Metadata_Well\", \"oneb_Metadata_Treatment_Dose_Inhibitor_Dose\"],\n",
    "        right_on=[\"Metadata_position_x\", \"oneb_Metadata_Treatment_Dose_Inhibitor_Dose\"],\n",
    "    )\n",
    "    data_df = data_df.drop(columns=[\"Metadata_position_x\"])\n",
    "elif (aggregation == True) and (nomic == False):\n",
    "    data_split_path = pathlib.Path(\n",
    "        f\"../../0.split_data/indexes/{cell_type}/{MODEL_TYPE}/aggregated_sc_data_split_indexes.tsv\"\n",
    "    )\n",
    "    data_split_indexes = pd.read_csv(data_split_path, sep=\"\\t\", index_col=0)\n",
    "    # subset each column that contains metadata\n",
    "    metadata = data_df.filter(regex=\"Metadata\")\n",
    "    data_df = data_df.drop(metadata.columns, axis=1)\n",
    "    data_df = pd.concat([data_df, metadata[\"Metadata_Well\"]], axis=1)\n",
    "    # groupby well and take mean of each well\n",
    "    data_df = data_df.groupby(\"Metadata_Well\").mean()\n",
    "    # drop duplicate rows in the metadata_well column\n",
    "    metadata = metadata.drop_duplicates(subset=[\"Metadata_Well\"])\n",
    "    # get the metadata for each well\n",
    "    data_df = pd.merge(\n",
    "        data_df, metadata, left_on=\"Metadata_Well\", right_on=\"Metadata_Well\"\n",
    "    )\n",
    "elif (aggregation == False) and (nomic == True):\n",
    "    data_split_path = pathlib.Path(\n",
    "        f\"../../0.split_data/indexes/{cell_type}/{MODEL_TYPE}/sc_and_nomic_data_split_indexes.tsv\"\n",
    "    )\n",
    "    data_split_indexes = pd.read_csv(data_split_path, sep=\"\\t\", index_col=0)\n",
    "    data_df = pd.merge(\n",
    "        data_df,\n",
    "        df_nomic,\n",
    "        left_on=[\"Metadata_Well\", \"oneb_Metadata_Treatment_Dose_Inhibitor_Dose\"],\n",
    "        right_on=[\"Metadata_position_x\", \"oneb_Metadata_Treatment_Dose_Inhibitor_Dose\"],\n",
    "    )\n",
    "    data_df = data_df.drop(columns=[\"Metadata_position_x\"])\n",
    "elif aggregation == False and nomic == False:\n",
    "    data_split_path = pathlib.Path(\n",
    "        f\"../../0.split_data/indexes/{cell_type}/{MODEL_TYPE}/sc_split_indexes.tsv\"\n",
    "    )\n",
    "    data_split_indexes = pd.read_csv(data_split_path, sep=\"\\t\", index_col=0)\n",
    "else:\n",
    "    print(\"Error\")"
   ]
  },
  {
   "cell_type": "code",
   "execution_count": null,
   "id": "b2ec11da",
   "metadata": {
    "execution": {
     "iopub.execute_input": "2023-07-22T05:44:22.817688Z",
     "iopub.status.busy": "2023-07-22T05:44:22.816972Z",
     "iopub.status.idle": "2023-07-22T05:44:22.841932Z",
     "shell.execute_reply": "2023-07-22T05:44:22.841519Z"
    },
    "papermill": {
     "duration": 0.028408,
     "end_time": "2023-07-22T05:44:22.842747",
     "exception": false,
     "start_time": "2023-07-22T05:44:22.814339",
     "status": "completed"
    },
    "tags": []
   },
   "outputs": [],
   "source": [
    "# select tht indexes for the training and test set\n",
    "train_indexes = data_split_indexes.loc[data_split_indexes[\"label\"] == \"train\"]"
   ]
  },
  {
   "cell_type": "code",
   "execution_count": null,
   "id": "10d08adb",
   "metadata": {
    "execution": {
     "iopub.execute_input": "2023-07-22T05:44:22.847339Z",
     "iopub.status.busy": "2023-07-22T05:44:22.846705Z",
     "iopub.status.idle": "2023-07-22T05:44:23.372437Z",
     "shell.execute_reply": "2023-07-22T05:44:23.371833Z"
    },
    "papermill": {
     "duration": 0.529615,
     "end_time": "2023-07-22T05:44:23.373993",
     "exception": false,
     "start_time": "2023-07-22T05:44:22.844378",
     "status": "completed"
    },
    "tags": []
   },
   "outputs": [],
   "source": [
    "# subset data_df by indexes in data_split_indexes\n",
    "training_data = data_df.loc[train_indexes[\"labeled_data_index\"]]"
   ]
  },
  {
   "cell_type": "code",
   "execution_count": null,
   "id": "2a280d55",
   "metadata": {},
   "outputs": [],
   "source": [
    "training_data.head()"
   ]
  },
  {
   "cell_type": "code",
   "execution_count": null,
   "id": "5219c9ba",
   "metadata": {
    "execution": {
     "iopub.execute_input": "2023-07-22T05:44:23.378812Z",
     "iopub.status.busy": "2023-07-22T05:44:23.378294Z",
     "iopub.status.idle": "2023-07-22T05:44:23.727187Z",
     "shell.execute_reply": "2023-07-22T05:44:23.726381Z"
    },
    "papermill": {
     "duration": 0.352839,
     "end_time": "2023-07-22T05:44:23.728560",
     "exception": false,
     "start_time": "2023-07-22T05:44:23.375721",
     "status": "completed"
    },
    "tags": []
   },
   "outputs": [],
   "source": [
    "# # get oneb_Metadata_Treatment_Dose_Inhibitor_Dose  =='DMSO_0.100_DMSO_0.025' and 'LPS_100.000_DMSO_0.025 and Thapsigargin_10.000_DMSO_0.025'\n",
    "# training_data = training_data[\n",
    "#     training_data[\"oneb_Metadata_Treatment_Dose_Inhibitor_Dose\"].isin(\n",
    "#         [control, treatment]\n",
    "#     )\n",
    "# ]"
   ]
  },
  {
   "cell_type": "code",
   "execution_count": null,
   "id": "d281f773",
   "metadata": {},
   "outputs": [],
   "source": [
    "# TODO holdout certain treatments and different percentages of hold out for each treatment\n",
    "# where holdout is the test set"
   ]
  },
  {
   "cell_type": "code",
   "execution_count": null,
   "id": "fc7c0f87",
   "metadata": {
    "execution": {
     "iopub.execute_input": "2023-07-22T05:44:23.734194Z",
     "iopub.status.busy": "2023-07-22T05:44:23.733468Z",
     "iopub.status.idle": "2023-07-22T05:44:25.417043Z",
     "shell.execute_reply": "2023-07-22T05:44:25.416597Z"
    },
    "papermill": {
     "duration": 1.687722,
     "end_time": "2023-07-22T05:44:25.418506",
     "exception": false,
     "start_time": "2023-07-22T05:44:23.730784",
     "status": "completed"
    },
    "tags": []
   },
   "outputs": [],
   "source": [
    "# # at random downsample the DMSO treatment to match the number of wells in the LPS treatment\n",
    "# seed = 0\n",
    "# # get the number of wells in the LPS treatment\n",
    "# trt_wells = training_data[\n",
    "#     training_data[\"oneb_Metadata_Treatment_Dose_Inhibitor_Dose\"] == treatment\n",
    "# ].shape[0]\n",
    "# # get the number of wells in the DMSO treatment\n",
    "# dmso_wells = training_data[\n",
    "#     training_data[\"oneb_Metadata_Treatment_Dose_Inhibitor_Dose\"] == control\n",
    "# ].shape[0]\n",
    "# # downsample the DMSO treatment to match the number of wells in the LPS treatment\n",
    "# dmso_holdout = training_data[\n",
    "#     training_data[\"oneb_Metadata_Treatment_Dose_Inhibitor_Dose\"] == control\n",
    "# ].sample(n=trt_wells, random_state=seed)\n",
    "# # remove the downsampled DMSO wells from the data\n",
    "# training_data = training_data.drop(dmso_holdout.index)"
   ]
  },
  {
   "cell_type": "code",
   "execution_count": null,
   "id": "b292a431",
   "metadata": {
    "execution": {
     "iopub.execute_input": "2023-07-22T05:44:25.424681Z",
     "iopub.status.busy": "2023-07-22T05:44:25.424485Z",
     "iopub.status.idle": "2023-07-22T05:44:25.599914Z",
     "shell.execute_reply": "2023-07-22T05:44:25.599440Z"
    },
    "papermill": {
     "duration": 0.179094,
     "end_time": "2023-07-22T05:44:25.601137",
     "exception": false,
     "start_time": "2023-07-22T05:44:25.422043",
     "status": "completed"
    },
    "tags": []
   },
   "outputs": [],
   "source": [
    "# define metadata columns\n",
    "# subset each column that contains metadata\n",
    "metadata = training_data.filter(regex=\"Metadata\")\n",
    "# drop all metadata columns\n",
    "data_x = training_data.drop(metadata.columns, axis=1)\n",
    "labeled_data = training_data[\"oneb_Metadata_Treatment_Dose_Inhibitor_Dose\"]\n",
    "# get all columns that contain \"NSU\" in the column name\n",
    "data_y_cols = data_x.filter(regex=\"NSU\").columns\n",
    "train_y = training_data[data_y_cols]\n",
    "train_x = data_x.drop(data_y_cols, axis=1)"
   ]
  },
  {
   "cell_type": "code",
   "execution_count": null,
   "id": "91442db2",
   "metadata": {},
   "outputs": [],
   "source": [
    "from sklearn.model_selection import LeaveOneOut\n",
    "\n",
    "loo = LeaveOneOut()\n",
    "loo.get_n_splits(train_x)\n",
    "loo.get_n_splits(train_y)"
   ]
  },
  {
   "cell_type": "code",
   "execution_count": null,
   "id": "7240dd70",
   "metadata": {},
   "outputs": [],
   "source": [
    "for cytokine in train_y.columns:\n",
    "    train_data_y = train_y[cytokine]\n",
    "    model = ElasticNetCV(\n",
    "        random_state=0,\n",
    "        max_iter=100000,\n",
    "        cv=loo,\n",
    "        l1_ratio=[0.01, 0.1, 0.2, 0.3, 0.4, 0.5, 0.6, 0.7, 0.9, 0.99],\n",
    "        alphas=[0.001, 0.01, 0.1, 1, 10, 100, 1000, 10000],\n",
    "        fit_intercept=True,\n",
    "        selection=\"random\",\n",
    "    )\n",
    "    # train model on training data on all combinations of model types, feature types, and phenotypic classes\n",
    "\n",
    "    if shuffle == \"shuffled_baseline\":\n",
    "        print(\"Shuffling data\")\n",
    "        for column in train_x:\n",
    "            np.random.shuffle(train_x[column].values)\n",
    "    else:\n",
    "        print(\"Not shuffling data\")\n",
    "    # define parameters to search over\n",
    "    with parallel_backend(\"multiprocessing\"):\n",
    "        with warnings.catch_warnings():\n",
    "            warnings.filterwarnings(\n",
    "                \"ignore\", category=ConvergenceWarning, module=\"sklearn\"\n",
    "            )\n",
    "            # create a logistic regression model\n",
    "            model.fit(train_x, train_data_y)\n",
    "            scores = cross_val_score(\n",
    "                model,\n",
    "                train_x,\n",
    "                train_data_y,\n",
    "                scoring=\"neg_mean_absolute_error\",\n",
    "                cv=loo,\n",
    "                n_jobs=-1,\n",
    "            )\n",
    "            print(scores)\n",
    "            print(f\"Mean MAE: {scores.mean()}\")\n",
    "            print(f\"Std MAE: {scores.std()}\")\n",
    "            print(f\"R2: {model.score(train_x, train_data_y)}\")\n",
    "\n",
    "    if (aggregation == True) and (nomic == True):\n",
    "        results_dir = f\"../models/regression/{cell_type}/aggregated_with_nomic/\"\n",
    "    elif (aggregation == True) and (nomic == False):\n",
    "        results_dir = f\"../models/regression/{cell_type}/aggregated/\"\n",
    "    elif (aggregation == False) and (nomic == True):\n",
    "        results_dir = f\"../models/regression/{cell_type}/sc_with_nomic/\"\n",
    "    elif (aggregation == False) and (nomic == False):\n",
    "        results_dir = f\"../models/regression/{cell_type}/sc/\"\n",
    "    else:\n",
    "        print(\"Error\")\n",
    "\n",
    "    # create results directory if it doesn't exist\n",
    "    pathlib.Path(results_dir).mkdir(parents=True, exist_ok=True)\n",
    "\n",
    "    # save final estimator\n",
    "    if shuffle == \"shuffled_baseline\":\n",
    "        dump(\n",
    "            model,\n",
    "            f\"{results_dir}/{cytokine}_shuffled_baseline__all_nomic.joblib\",\n",
    "        )\n",
    "    elif shuffle == \"final\":\n",
    "        dump(\n",
    "            model,\n",
    "            f\"{results_dir}/{cytokine}_final__all_nomic.joblib\",\n",
    "        )\n",
    "    else:\n",
    "        print(\"Error\")\n",
    "\n",
    "    # save condfig copy specific to this model to the folder with the results\n",
    "    # use pathlib\n",
    "    if shuffle == \"shuffled_baseline\":\n",
    "        config_copy_path = pathlib.Path(\n",
    "            f\"{results_dir}/{cytokine}_shuffled_baseline__all_nomic.toml\"\n",
    "        )\n",
    "    elif shuffle == \"final\":\n",
    "        config_copy_path = pathlib.Path(\n",
    "            f\"{results_dir}/{cytokine}_final__all_nomic.toml\"\n",
    "        )\n",
    "    else:\n",
    "        print(\"Error\")\n",
    "\n",
    "    # write toml file with parameters used from injected parameters\n",
    "\n",
    "    with open(config_copy_path, \"w\") as f:\n",
    "        f.write(f\"model_type='{shuffle}'\\n\")\n",
    "        f.write(f\"aggregation={aggregation}\\n\")\n",
    "        f.write(f\"nomic={nomic}\\n\")\n",
    "        f.write(f\"cell_type='{cell_type}'\\n\")\n",
    "        f.write(f\"feature=all\\n\")"
   ]
  }
 ],
 "metadata": {
  "kernelspec": {
   "display_name": "Interstellar",
   "language": "python",
   "name": "python3"
  },
  "language_info": {
   "codemirror_mode": {
    "name": "ipython",
    "version": 3
   },
   "file_extension": ".py",
   "mimetype": "text/x-python",
   "name": "python",
   "nbconvert_exporter": "python",
   "pygments_lexer": "ipython3",
   "version": "3.10.12"
  },
  "papermill": {
   "default_parameters": {},
   "duration": 694.133243,
   "end_time": "2023-07-22T05:52:18.725810",
   "environment_variables": {},
   "exception": null,
   "input_path": "train_single_class.ipynb",
   "output_path": "train_single_class.ipynb",
   "parameters": {
    "aggregation": false,
    "cell_type": "PBMC",
    "control": "DMSO_0.100_DMSO_0.025",
    "flag": true,
    "nomic": false,
    "treatment": "Thapsigargin_1.000_DMSO_0.025"
   },
   "start_time": "2023-07-22T05:40:44.592567",
   "version": "2.4.0"
  },
  "vscode": {
   "interpreter": {
    "hash": "72ae02083a9ca7d143c492d1aec380c7bf553ec51bd66e90e72bba65228121b6"
   }
  }
 },
 "nbformat": 4,
 "nbformat_minor": 5
}
