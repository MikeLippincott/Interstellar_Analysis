{
 "cells": [
  {
   "cell_type": "code",
   "execution_count": 1,
   "id": "76db0f62",
   "metadata": {
    "execution": {
     "iopub.execute_input": "2023-10-30T18:21:23.987558Z",
     "iopub.status.busy": "2023-10-30T18:21:23.987406Z",
     "iopub.status.idle": "2023-10-30T18:21:28.157724Z",
     "shell.execute_reply": "2023-10-30T18:21:28.157113Z"
    },
    "papermill": {
     "duration": 4.183251,
     "end_time": "2023-10-30T18:21:28.159202",
     "exception": false,
     "start_time": "2023-10-30T18:21:23.975951",
     "status": "completed"
    },
    "tags": []
   },
   "outputs": [],
   "source": [
    "import pathlib\n",
    "import sys\n",
    "\n",
    "import numpy as np\n",
    "import optuna\n",
    "import pandas as pd\n",
    "import pyarrow.parquet as pq\n",
    "import toml\n",
    "import torch\n",
    "from sklearn import preprocessing\n",
    "\n",
    "sys.path.append(\"../..\")\n",
    "\n",
    "import json\n",
    "\n",
    "from MLP_utils.parameters import Parameters\n",
    "from MLP_utils.utils import (\n",
    "    Dataset_formatter,\n",
    "    data_split,\n",
    "    extract_best_trial_params,\n",
    "    objective_model_optimizer,\n",
    "    optimized_model_create,\n",
    "    output_stats,\n",
    "    parameter_set,\n",
    "    plot_metric_vs_epoch,\n",
    "    results_output,\n",
    "    test_optimized_model,\n",
    "    train_optimized_model,\n",
    "    un_nest,\n",
    ")\n",
    "\n",
    "sys.path.append(\"../../..\")\n",
    "from utils.utils import df_stats"
   ]
  },
  {
   "cell_type": "markdown",
   "id": "7773f676",
   "metadata": {
    "papermill": {
     "duration": 0.004734,
     "end_time": "2023-10-30T18:21:28.169480",
     "exception": false,
     "start_time": "2023-10-30T18:21:28.164746",
     "status": "completed"
    },
    "tags": []
   },
   "source": [
    "## Papermill is used for executing notebooks in the CLI with multiple parameters\n",
    "Here the `injected-parameters` cell is used to inject parameters into the notebook via papermill.\n",
    "This enables multiple notebooks to be executed with different parameters, preventing to manually update parameters or have multiple copies of the notebook."
   ]
  },
  {
   "cell_type": "code",
   "execution_count": 2,
   "id": "617dd462",
   "metadata": {
    "execution": {
     "iopub.execute_input": "2023-10-30T18:21:28.180049Z",
     "iopub.status.busy": "2023-10-30T18:21:28.179539Z",
     "iopub.status.idle": "2023-10-30T18:21:28.182605Z",
     "shell.execute_reply": "2023-10-30T18:21:28.182051Z"
    },
    "papermill": {
     "duration": 0.009513,
     "end_time": "2023-10-30T18:21:28.183676",
     "exception": false,
     "start_time": "2023-10-30T18:21:28.174163",
     "status": "completed"
    },
    "tags": [
     "injected-parameters"
    ]
   },
   "outputs": [],
   "source": [
    "# Parameters\n",
    "CELL_TYPE = \"PBMC\"\n",
    "CONTROL_NAME = \"DMSO_0.100_%_DMSO_0.025_%\"\n",
    "TREATMENT_NAME = \"Thapsigargin_1.000_uM_DMSO_0.025_%\"\n",
    "MODEL_NAME = \"DMSO_0.025_vs_Thapsigargin_1\"\n",
    "SHUFFLE = False"
   ]
  },
  {
   "cell_type": "code",
   "execution_count": 3,
   "id": "7fe861fc",
   "metadata": {
    "execution": {
     "iopub.execute_input": "2023-10-30T18:21:28.194311Z",
     "iopub.status.busy": "2023-10-30T18:21:28.193828Z",
     "iopub.status.idle": "2023-10-30T18:21:28.198074Z",
     "shell.execute_reply": "2023-10-30T18:21:28.197678Z"
    },
    "papermill": {
     "duration": 0.010716,
     "end_time": "2023-10-30T18:21:28.199175",
     "exception": false,
     "start_time": "2023-10-30T18:21:28.188459",
     "status": "completed"
    },
    "tags": []
   },
   "outputs": [],
   "source": [
    "ml_configs_file = pathlib.Path(\"../../MLP_utils/binary_config.toml\").resolve(\n",
    "    strict=True\n",
    ")\n",
    "ml_configs = toml.load(ml_configs_file)\n",
    "params = Parameters()\n",
    "mlp_params = parameter_set(params, ml_configs)\n",
    "\n",
    "# overwrite params via command line arguments from papermill\n",
    "mlp_params.CELL_TYPE = CELL_TYPE\n",
    "mlp_params.MODEL_NAME = MODEL_NAME\n",
    "mlp_params.CONTROL_NAME = CONTROL_NAME\n",
    "mlp_params.TREATMENT_NAME = TREATMENT_NAME\n",
    "mlp_params.MODEL_NAME = MODEL_NAME\n",
    "mlp_params.SHUFFLE = SHUFFLE"
   ]
  },
  {
   "cell_type": "code",
   "execution_count": 4,
   "id": "5f05b3f4",
   "metadata": {
    "execution": {
     "iopub.execute_input": "2023-10-30T18:21:28.209541Z",
     "iopub.status.busy": "2023-10-30T18:21:28.209120Z",
     "iopub.status.idle": "2023-10-30T18:24:58.732450Z",
     "shell.execute_reply": "2023-10-30T18:24:58.731844Z"
    },
    "papermill": {
     "duration": 210.53004,
     "end_time": "2023-10-30T18:24:58.733990",
     "exception": false,
     "start_time": "2023-10-30T18:21:28.203950",
     "status": "completed"
    },
    "tags": []
   },
   "outputs": [],
   "source": [
    "# Import Data\n",
    "# set data file path under pathlib path for multi-system use\n",
    "\n",
    "file_path = pathlib.Path(\n",
    "    f\"../../../data/{mlp_params.CELL_TYPE}_preprocessed_sc_norm.parquet\"\n",
    ").resolve(strict=True)\n",
    "\n",
    "df = pq.read_table(file_path).to_pandas()"
   ]
  },
  {
   "cell_type": "markdown",
   "id": "7c5e28b5",
   "metadata": {
    "papermill": {
     "duration": 0.004862,
     "end_time": "2023-10-30T18:24:58.766016",
     "exception": false,
     "start_time": "2023-10-30T18:24:58.761154",
     "status": "completed"
    },
    "tags": []
   },
   "source": [
    "#### Set up Data to be compatible with model"
   ]
  },
  {
   "cell_type": "markdown",
   "id": "5efd38f4",
   "metadata": {
    "papermill": {
     "duration": 0.004733,
     "end_time": "2023-10-30T18:24:58.775484",
     "exception": false,
     "start_time": "2023-10-30T18:24:58.770751",
     "status": "completed"
    },
    "tags": []
   },
   "source": [
    "##### Classification Models:\n",
    "Comment out code if using regression"
   ]
  },
  {
   "cell_type": "code",
   "execution_count": 5,
   "id": "892c99cb",
   "metadata": {
    "execution": {
     "iopub.execute_input": "2023-10-30T18:24:58.788558Z",
     "iopub.status.busy": "2023-10-30T18:24:58.788092Z",
     "iopub.status.idle": "2023-10-30T18:25:00.222675Z",
     "shell.execute_reply": "2023-10-30T18:25:00.222193Z"
    },
    "papermill": {
     "duration": 1.444235,
     "end_time": "2023-10-30T18:25:00.224404",
     "exception": false,
     "start_time": "2023-10-30T18:24:58.780169",
     "status": "completed"
    },
    "tags": []
   },
   "outputs": [
    {
     "name": "stdout",
     "output_type": "stream",
     "text": [
      "Selected Catagories are:\n",
      "['DMSO_0.100_%_DMSO_0.025_%' 'Thapsigargin_1.000_uM_DMSO_0.025_%']\n",
      "The dimensions of the data are: (363586, 1270)\n"
     ]
    },
    {
     "name": "stdout",
     "output_type": "stream",
     "text": [
      "Number of total missing values across all columns: 0\n",
      "Data Subset Is Off\n"
     ]
    }
   ],
   "source": [
    "# filter the oneb_Metadata_Treatment_Dose_Inhibitor_Dose column to only include the treatment and control via loc\n",
    "df = df.loc[\n",
    "    df[\"oneb_Metadata_Treatment_Dose_Inhibitor_Dose\"].isin(\n",
    "        [mlp_params.TREATMENT_NAME, mlp_params.CONTROL_NAME]\n",
    "    )\n",
    "]\n",
    "\n",
    "\n",
    "print(\"Selected Catagories are:\")\n",
    "print(df[\"oneb_Metadata_Treatment_Dose_Inhibitor_Dose\"].unique())\n",
    "df_stats(df)\n",
    "\n",
    "if mlp_params.DATA_SUBSET_OPTION == \"True\":\n",
    "    df = df.sample(n=mlp_params.DATA_SUBSET_NUMBER)\n",
    "    print(\"Data Subset Is On\")\n",
    "    print(f\"Data is subset to {mlp_params.DATA_SUBSET_NUMBER}\")\n",
    "else:\n",
    "    print(\"Data Subset Is Off\")"
   ]
  },
  {
   "cell_type": "code",
   "execution_count": 6,
   "id": "4717fd07",
   "metadata": {
    "execution": {
     "iopub.execute_input": "2023-10-30T18:25:00.236438Z",
     "iopub.status.busy": "2023-10-30T18:25:00.236045Z",
     "iopub.status.idle": "2023-10-30T18:25:03.599809Z",
     "shell.execute_reply": "2023-10-30T18:25:03.599320Z"
    },
    "papermill": {
     "duration": 3.371006,
     "end_time": "2023-10-30T18:25:03.600828",
     "exception": false,
     "start_time": "2023-10-30T18:25:00.229822",
     "status": "completed"
    },
    "tags": []
   },
   "outputs": [
    {
     "name": "stdout",
     "output_type": "stream",
     "text": [
      "Wells held out for testing: ['J06' 'K07']\n",
      "Wells to use for training, validation, and testing ['B06' 'C06' 'B07' 'C07' 'D06' 'D07' 'I06' 'I07' 'K06' 'J07']\n"
     ]
    }
   ],
   "source": [
    "np.random.seed(seed=0)\n",
    "wells_to_hold = (\n",
    "    df.groupby(\"oneb_Metadata_Treatment_Dose_Inhibitor_Dose\")\n",
    "    .agg(np.random.choice)[\"Metadata_Well\"]\n",
    "    .to_list()\n",
    ")\n",
    "df_holdout = df[df[\"Metadata_Well\"].isin(wells_to_hold)]\n",
    "df = df[~df[\"Metadata_Well\"].isin(wells_to_hold)]\n",
    "\n",
    "\n",
    "print(\"Wells held out for testing:\", df_holdout[\"Metadata_Well\"].unique())\n",
    "print(\n",
    "    \"Wells to use for training, validation, and testing\", df[\"Metadata_Well\"].unique()\n",
    ")"
   ]
  },
  {
   "cell_type": "code",
   "execution_count": 7,
   "id": "3d9db49e",
   "metadata": {
    "execution": {
     "iopub.execute_input": "2023-10-30T18:25:03.612471Z",
     "iopub.status.busy": "2023-10-30T18:25:03.612178Z",
     "iopub.status.idle": "2023-10-30T18:25:03.921724Z",
     "shell.execute_reply": "2023-10-30T18:25:03.921102Z"
    },
    "papermill": {
     "duration": 0.316347,
     "end_time": "2023-10-30T18:25:03.922727",
     "exception": false,
     "start_time": "2023-10-30T18:25:03.606380",
     "status": "completed"
    },
    "tags": []
   },
   "outputs": [],
   "source": [
    "# Code snippet for metadata extraction by Jenna Tomkinson\n",
    "df_metadata = list(df.columns[df.columns.str.startswith(\"Metadata\")])\n",
    "\n",
    "# define which columns are data and which are descriptive\n",
    "df_descriptive = df[df_metadata]\n",
    "df_values = df.drop(columns=df_metadata)"
   ]
  },
  {
   "cell_type": "code",
   "execution_count": 8,
   "id": "8924c31e",
   "metadata": {
    "execution": {
     "iopub.execute_input": "2023-10-30T18:25:03.937478Z",
     "iopub.status.busy": "2023-10-30T18:25:03.936923Z",
     "iopub.status.idle": "2023-10-30T18:25:04.288403Z",
     "shell.execute_reply": "2023-10-30T18:25:04.287753Z"
    },
    "papermill": {
     "duration": 0.358712,
     "end_time": "2023-10-30T18:25:04.289533",
     "exception": false,
     "start_time": "2023-10-30T18:25:03.930821",
     "status": "completed"
    },
    "tags": []
   },
   "outputs": [],
   "source": [
    "# Creating label encoder\n",
    "le = preprocessing.LabelEncoder()\n",
    "# Converting strings into numbers\n",
    "df_values[\"oneb_Metadata_Treatment_Dose_Inhibitor_Dose\"] = le.fit_transform(\n",
    "    df_values[\"oneb_Metadata_Treatment_Dose_Inhibitor_Dose\"]\n",
    ")\n",
    "# split into X and Y where Y are the predictive column and x are the observable data\n",
    "df_values_X = df_values.drop(\n",
    "    [\n",
    "        \"oneb_Metadata_Treatment_Dose_Inhibitor_Dose\",\n",
    "        \"twob_Metadata_Treatment_Dose_Inhibitor_Dose\",\n",
    "        \"threeb_Metadata_Treatment_Dose_Inhibitor_Dose\",\n",
    "        \"fourb_Metadata_Treatment_Dose_Inhibitor_Dose\",\n",
    "    ],\n",
    "    axis=1,\n",
    ")\n",
    "df_values_Y = df_values[\"oneb_Metadata_Treatment_Dose_Inhibitor_Dose\"]"
   ]
  },
  {
   "cell_type": "markdown",
   "id": "4dfa9d10",
   "metadata": {
    "papermill": {
     "duration": 0.004806,
     "end_time": "2023-10-30T18:25:04.299446",
     "exception": false,
     "start_time": "2023-10-30T18:25:04.294640",
     "status": "completed"
    },
    "tags": []
   },
   "source": [
    "#### Split Data - All Models can proceed through this point"
   ]
  },
  {
   "cell_type": "code",
   "execution_count": 9,
   "id": "499f4ae5",
   "metadata": {
    "execution": {
     "iopub.execute_input": "2023-10-30T18:25:04.310383Z",
     "iopub.status.busy": "2023-10-30T18:25:04.309857Z",
     "iopub.status.idle": "2023-10-30T18:25:07.715196Z",
     "shell.execute_reply": "2023-10-30T18:25:07.714566Z"
    },
    "papermill": {
     "duration": 3.412293,
     "end_time": "2023-10-30T18:25:07.716539",
     "exception": false,
     "start_time": "2023-10-30T18:25:04.304246",
     "status": "completed"
    },
    "tags": []
   },
   "outputs": [],
   "source": [
    "X_train, X_test, X_val, Y_train, Y_test, Y_val = data_split(\n",
    "    X_vals=df_values_X,\n",
    "    y_vals=df_values_Y,\n",
    "    train_proportion=mlp_params.TRAIN_PROPORTION_SPLIT,\n",
    "    val_proportion=mlp_params.VALIDATION_PROPORTION_SPLIT,\n",
    "    test_proportion=mlp_params.TEST_PROPORTION_SPLIT,\n",
    "    # train_proportion=0.8,\n",
    "    # val_proportion=0.1,\n",
    "    # test_proportion=0.1,\n",
    "    seed=0,\n",
    "    params=mlp_params,\n",
    ")"
   ]
  },
  {
   "cell_type": "code",
   "execution_count": 10,
   "id": "aa28922f",
   "metadata": {
    "execution": {
     "iopub.execute_input": "2023-10-30T18:25:07.728201Z",
     "iopub.status.busy": "2023-10-30T18:25:07.727738Z",
     "iopub.status.idle": "2023-10-30T18:25:07.846575Z",
     "shell.execute_reply": "2023-10-30T18:25:07.846047Z"
    },
    "papermill": {
     "duration": 0.125789,
     "end_time": "2023-10-30T18:25:07.847813",
     "exception": false,
     "start_time": "2023-10-30T18:25:07.722024",
     "status": "completed"
    },
    "tags": []
   },
   "outputs": [],
   "source": [
    "# produce data objects for train, val and test datasets\n",
    "train_data = Dataset_formatter(\n",
    "    torch.FloatTensor(X_train.values), torch.FloatTensor(Y_train.values)\n",
    ")\n",
    "val_data = Dataset_formatter(\n",
    "    torch.FloatTensor(X_val.values), torch.FloatTensor(Y_val.values)\n",
    ")\n",
    "test_data = Dataset_formatter(\n",
    "    torch.FloatTensor(X_test.values), torch.FloatTensor(Y_test.values)\n",
    ")"
   ]
  },
  {
   "cell_type": "code",
   "execution_count": 11,
   "id": "7c628ee1",
   "metadata": {
    "execution": {
     "iopub.execute_input": "2023-10-30T18:25:07.859451Z",
     "iopub.status.busy": "2023-10-30T18:25:07.858695Z",
     "iopub.status.idle": "2023-10-30T18:25:07.864612Z",
     "shell.execute_reply": "2023-10-30T18:25:07.864185Z"
    },
    "papermill": {
     "duration": 0.012328,
     "end_time": "2023-10-30T18:25:07.865544",
     "exception": false,
     "start_time": "2023-10-30T18:25:07.853216",
     "status": "completed"
    },
    "tags": []
   },
   "outputs": [
    {
     "name": "stdout",
     "output_type": "stream",
     "text": [
      "Number of in features:  1245\n",
      "Number of out features:  2\n",
      "Binary_Classification\n"
     ]
    }
   ],
   "source": [
    "mlp_params.IN_FEATURES = X_train.shape[1]\n",
    "print(\"Number of in features: \", mlp_params.IN_FEATURES)\n",
    "if mlp_params.MODEL_TYPE == \"Regression\":\n",
    "    mlp_params.OUT_FEATURES = 1\n",
    "else:\n",
    "    mlp_params.OUT_FEATURES = len(\n",
    "        df_values[\"oneb_Metadata_Treatment_Dose_Inhibitor_Dose\"].unique()\n",
    "    )\n",
    "\n",
    "print(\"Number of out features: \", mlp_params.OUT_FEATURES)\n",
    "\n",
    "if mlp_params.OUT_FEATURES > 2:\n",
    "    mlp_params.MODEL_TYPE = \"Multi_Class\"\n",
    "elif mlp_params.OUT_FEATURES == 2:\n",
    "    mlp_params.OUT_FEATURES = mlp_params.OUT_FEATURES - 1\n",
    "    mlp_params.MODEL_TYPE = \"Binary_Classification\"\n",
    "elif mlp_params.OUT_FEATURES == 1:\n",
    "    mlp_params.MODEL_TYPE = \"Regression\"\n",
    "else:\n",
    "    pass\n",
    "print(mlp_params.MODEL_TYPE)"
   ]
  },
  {
   "cell_type": "code",
   "execution_count": 12,
   "id": "35e3c505",
   "metadata": {
    "execution": {
     "iopub.execute_input": "2023-10-30T18:25:07.876219Z",
     "iopub.status.busy": "2023-10-30T18:25:07.876062Z",
     "iopub.status.idle": "2023-10-30T18:25:07.879817Z",
     "shell.execute_reply": "2023-10-30T18:25:07.879378Z"
    },
    "papermill": {
     "duration": 0.010586,
     "end_time": "2023-10-30T18:25:07.881057",
     "exception": false,
     "start_time": "2023-10-30T18:25:07.870471",
     "status": "completed"
    },
    "tags": []
   },
   "outputs": [],
   "source": [
    "# convert data class into a dataloader to be compatible with pytorch\n",
    "train_loader = torch.utils.data.DataLoader(\n",
    "    dataset=train_data, batch_size=mlp_params.BATCH_SIZE, shuffle=mlp_params.SHUFFLE\n",
    ")\n",
    "valid_loader = torch.utils.data.DataLoader(\n",
    "    dataset=val_data, batch_size=mlp_params.BATCH_SIZE, shuffle=mlp_params.SHUFFLE\n",
    ")\n",
    "test_loader = torch.utils.data.DataLoader(\n",
    "    dataset=test_data, batch_size=1, shuffle=mlp_params.SHUFFLE\n",
    ")"
   ]
  },
  {
   "cell_type": "code",
   "execution_count": 13,
   "id": "4ab763c4",
   "metadata": {
    "execution": {
     "iopub.execute_input": "2023-10-30T18:25:07.892436Z",
     "iopub.status.busy": "2023-10-30T18:25:07.892277Z",
     "iopub.status.idle": "2023-10-30T18:29:28.390179Z",
     "shell.execute_reply": "2023-10-30T18:29:28.389693Z"
    },
    "papermill": {
     "duration": 260.504574,
     "end_time": "2023-10-30T18:29:28.391182",
     "exception": false,
     "start_time": "2023-10-30T18:25:07.886608",
     "status": "completed"
    },
    "tags": []
   },
   "outputs": [
    {
     "name": "stdout",
     "output_type": "stream",
     "text": [
      "Adam\n"
     ]
    },
    {
     "name": "stdout",
     "output_type": "stream",
     "text": [
      "Epoch 0: Validation loss decreased (inf --> 0.507846).  Saving model ...\n",
      "\t Train_Loss: 0.5872 Train_Acc: 68.516 Val_Loss: 0.5078  BEST VAL Loss: 0.5078  Val_Acc: 74.532\n",
      "\n"
     ]
    },
    {
     "name": "stdout",
     "output_type": "stream",
     "text": [
      "Epoch 1: Validation loss decreased (0.507846 --> 0.484653).  Saving model ...\n",
      "\t Train_Loss: 0.5455 Train_Acc: 74.282 Val_Loss: 0.4847  BEST VAL Loss: 0.4847  Val_Acc: 77.232\n",
      "\n"
     ]
    },
    {
     "name": "stdout",
     "output_type": "stream",
     "text": [
      "Epoch 2: Validation loss decreased (0.484653 --> 0.471349).  Saving model ...\n",
      "\t Train_Loss: 0.5216 Train_Acc: 76.268 Val_Loss: 0.4713  BEST VAL Loss: 0.4713  Val_Acc: 78.248\n",
      "\n"
     ]
    },
    {
     "name": "stdout",
     "output_type": "stream",
     "text": [
      "Epoch 3: Validation loss decreased (0.471349 --> 0.460127).  Saving model ...\n",
      "\t Train_Loss: 0.5053 Train_Acc: 77.358 Val_Loss: 0.4601  BEST VAL Loss: 0.4601  Val_Acc: 79.506\n",
      "\n"
     ]
    },
    {
     "name": "stdout",
     "output_type": "stream",
     "text": [
      "Epoch 4: Validation loss decreased (0.460127 --> 0.449687).  Saving model ...\n",
      "\t Train_Loss: 0.4923 Train_Acc: 78.275 Val_Loss: 0.4497  BEST VAL Loss: 0.4497  Val_Acc: 80.646\n",
      "\n"
     ]
    },
    {
     "name": "stdout",
     "output_type": "stream",
     "text": [
      "Epoch 5: Validation loss decreased (0.449687 --> 0.441168).  Saving model ...\n",
      "\t Train_Loss: 0.4811 Train_Acc: 79.114 Val_Loss: 0.4412  BEST VAL Loss: 0.4412  Val_Acc: 81.298\n",
      "\n"
     ]
    },
    {
     "name": "stdout",
     "output_type": "stream",
     "text": [
      "Epoch 6: Validation loss decreased (0.441168 --> 0.434127).  Saving model ...\n",
      "\t Train_Loss: 0.4719 Train_Acc: 79.716 Val_Loss: 0.4341  BEST VAL Loss: 0.4341  Val_Acc: 81.688\n",
      "\n"
     ]
    },
    {
     "name": "stdout",
     "output_type": "stream",
     "text": [
      "Epoch 7: Validation loss decreased (0.434127 --> 0.427243).  Saving model ...\n",
      "\t Train_Loss: 0.4637 Train_Acc: 80.124 Val_Loss: 0.4272  BEST VAL Loss: 0.4272  Val_Acc: 82.542\n",
      "\n"
     ]
    },
    {
     "name": "stdout",
     "output_type": "stream",
     "text": [
      "Epoch 8: Validation loss decreased (0.427243 --> 0.420976).  Saving model ...\n",
      "\t Train_Loss: 0.4564 Train_Acc: 80.745 Val_Loss: 0.4210  BEST VAL Loss: 0.4210  Val_Acc: 82.919\n",
      "\n"
     ]
    },
    {
     "name": "stdout",
     "output_type": "stream",
     "text": [
      "Epoch 9: Validation loss decreased (0.420976 --> 0.415152).  Saving model ...\n",
      "\t Train_Loss: 0.4499 Train_Acc: 81.065 Val_Loss: 0.4152  BEST VAL Loss: 0.4152  Val_Acc: 83.181\n",
      "\n"
     ]
    },
    {
     "name": "stdout",
     "output_type": "stream",
     "text": [
      "Epoch 10: Validation loss decreased (0.415152 --> 0.410439).  Saving model ...\n",
      "\t Train_Loss: 0.4441 Train_Acc: 81.263 Val_Loss: 0.4104  BEST VAL Loss: 0.4104  Val_Acc: 83.346\n",
      "\n"
     ]
    },
    {
     "name": "stdout",
     "output_type": "stream",
     "text": [
      "Epoch 11: Validation loss decreased (0.410439 --> 0.405582).  Saving model ...\n",
      "\t Train_Loss: 0.4389 Train_Acc: 81.522 Val_Loss: 0.4056  BEST VAL Loss: 0.4056  Val_Acc: 83.851\n",
      "\n"
     ]
    },
    {
     "name": "stdout",
     "output_type": "stream",
     "text": [
      "Epoch 12: Validation loss decreased (0.405582 --> 0.401130).  Saving model ...\n",
      "\t Train_Loss: 0.4342 Train_Acc: 81.736 Val_Loss: 0.4011  BEST VAL Loss: 0.4011  Val_Acc: 84.160\n",
      "\n"
     ]
    },
    {
     "name": "stdout",
     "output_type": "stream",
     "text": [
      "Epoch 13: Validation loss decreased (0.401130 --> 0.397087).  Saving model ...\n",
      "\t Train_Loss: 0.4300 Train_Acc: 81.897 Val_Loss: 0.3971  BEST VAL Loss: 0.3971  Val_Acc: 84.063\n",
      "\n"
     ]
    },
    {
     "name": "stdout",
     "output_type": "stream",
     "text": [
      "Epoch 14: Validation loss decreased (0.397087 --> 0.393784).  Saving model ...\n",
      "\t Train_Loss: 0.4262 Train_Acc: 82.111 Val_Loss: 0.3938  BEST VAL Loss: 0.3938  Val_Acc: 84.392\n",
      "\n"
     ]
    },
    {
     "name": "stdout",
     "output_type": "stream",
     "text": [
      "Epoch 15: Validation loss decreased (0.393784 --> 0.390541).  Saving model ...\n",
      "\t Train_Loss: 0.4227 Train_Acc: 82.174 Val_Loss: 0.3905  BEST VAL Loss: 0.3905  Val_Acc: 84.466\n",
      "\n"
     ]
    },
    {
     "name": "stdout",
     "output_type": "stream",
     "text": [
      "Epoch 16: Validation loss decreased (0.390541 --> 0.387643).  Saving model ...\n",
      "\t Train_Loss: 0.4195 Train_Acc: 82.337 Val_Loss: 0.3876  BEST VAL Loss: 0.3876  Val_Acc: 84.422\n",
      "\n"
     ]
    },
    {
     "name": "stdout",
     "output_type": "stream",
     "text": [
      "Epoch 17: Validation loss decreased (0.387643 --> 0.384974).  Saving model ...\n",
      "\t Train_Loss: 0.4166 Train_Acc: 82.425 Val_Loss: 0.3850  BEST VAL Loss: 0.3850  Val_Acc: 84.436\n",
      "\n"
     ]
    },
    {
     "name": "stdout",
     "output_type": "stream",
     "text": [
      "Epoch 18: Validation loss decreased (0.384974 --> 0.382694).  Saving model ...\n",
      "\t Train_Loss: 0.4139 Train_Acc: 82.423 Val_Loss: 0.3827  BEST VAL Loss: 0.3827  Val_Acc: 84.432\n",
      "\n"
     ]
    },
    {
     "name": "stdout",
     "output_type": "stream",
     "text": [
      "Epoch 19: Validation loss decreased (0.382694 --> 0.380531).  Saving model ...\n",
      "\t Train_Loss: 0.4115 Train_Acc: 82.504 Val_Loss: 0.3805  BEST VAL Loss: 0.3805  Val_Acc: 84.436\n",
      "\n"
     ]
    },
    {
     "name": "stdout",
     "output_type": "stream",
     "text": [
      "Epoch 20: Validation loss decreased (0.380531 --> 0.378572).  Saving model ...\n",
      "\t Train_Loss: 0.4092 Train_Acc: 82.580 Val_Loss: 0.3786  BEST VAL Loss: 0.3786  Val_Acc: 84.389\n",
      "\n"
     ]
    },
    {
     "name": "stdout",
     "output_type": "stream",
     "text": [
      "Epoch 21: Validation loss decreased (0.378572 --> 0.376728).  Saving model ...\n",
      "\t Train_Loss: 0.4070 Train_Acc: 82.621 Val_Loss: 0.3767  BEST VAL Loss: 0.3767  Val_Acc: 84.614\n",
      "\n"
     ]
    },
    {
     "name": "stdout",
     "output_type": "stream",
     "text": [
      "Epoch 22: Validation loss decreased (0.376728 --> 0.375134).  Saving model ...\n",
      "\t Train_Loss: 0.4050 Train_Acc: 82.747 Val_Loss: 0.3751  BEST VAL Loss: 0.3751  Val_Acc: 84.543\n",
      "\n"
     ]
    },
    {
     "name": "stdout",
     "output_type": "stream",
     "text": [
      "Epoch 23: Validation loss decreased (0.375134 --> 0.373485).  Saving model ...\n",
      "\t Train_Loss: 0.4031 Train_Acc: 82.783 Val_Loss: 0.3735  BEST VAL Loss: 0.3735  Val_Acc: 84.597\n",
      "\n"
     ]
    },
    {
     "name": "stdout",
     "output_type": "stream",
     "text": [
      "Epoch 24: Validation loss decreased (0.373485 --> 0.371951).  Saving model ...\n",
      "\t Train_Loss: 0.4013 Train_Acc: 82.859 Val_Loss: 0.3720  BEST VAL Loss: 0.3720  Val_Acc: 84.772\n",
      "\n"
     ]
    },
    {
     "name": "stdout",
     "output_type": "stream",
     "text": [
      "Epoch 25: Validation loss decreased (0.371951 --> 0.370464).  Saving model ...\n",
      "\t Train_Loss: 0.3996 Train_Acc: 82.972 Val_Loss: 0.3705  BEST VAL Loss: 0.3705  Val_Acc: 84.870\n",
      "\n"
     ]
    },
    {
     "name": "stdout",
     "output_type": "stream",
     "text": [
      "Epoch 26: Validation loss decreased (0.370464 --> 0.369111).  Saving model ...\n",
      "\t Train_Loss: 0.3980 Train_Acc: 82.991 Val_Loss: 0.3691  BEST VAL Loss: 0.3691  Val_Acc: 84.981\n",
      "\n"
     ]
    },
    {
     "name": "stdout",
     "output_type": "stream",
     "text": [
      "Epoch 27: Validation loss decreased (0.369111 --> 0.367717).  Saving model ...\n",
      "\t Train_Loss: 0.3964 Train_Acc: 83.077 Val_Loss: 0.3677  BEST VAL Loss: 0.3677  Val_Acc: 84.954\n",
      "\n"
     ]
    },
    {
     "name": "stdout",
     "output_type": "stream",
     "text": [
      "Epoch 28: Validation loss decreased (0.367717 --> 0.366692).  Saving model ...\n",
      "\t Train_Loss: 0.3949 Train_Acc: 83.100 Val_Loss: 0.3667  BEST VAL Loss: 0.3667  Val_Acc: 84.718\n",
      "\n"
     ]
    },
    {
     "name": "stdout",
     "output_type": "stream",
     "text": [
      "Epoch 29: Validation loss decreased (0.366692 --> 0.365640).  Saving model ...\n",
      "\t Train_Loss: 0.3935 Train_Acc: 83.178 Val_Loss: 0.3656  BEST VAL Loss: 0.3656  Val_Acc: 84.702\n",
      "\n"
     ]
    },
    {
     "name": "stdout",
     "output_type": "stream",
     "text": [
      "Epoch 30: Validation loss decreased (0.365640 --> 0.364596).  Saving model ...\n",
      "\t Train_Loss: 0.3922 Train_Acc: 83.152 Val_Loss: 0.3646  BEST VAL Loss: 0.3646  Val_Acc: 84.796\n",
      "\n"
     ]
    },
    {
     "name": "stdout",
     "output_type": "stream",
     "text": [
      "Epoch 31: Validation loss decreased (0.364596 --> 0.363608).  Saving model ...\n",
      "\t Train_Loss: 0.3910 Train_Acc: 83.192 Val_Loss: 0.3636  BEST VAL Loss: 0.3636  Val_Acc: 84.917\n",
      "\n"
     ]
    },
    {
     "name": "stdout",
     "output_type": "stream",
     "text": [
      "Epoch 32: Validation loss decreased (0.363608 --> 0.362815).  Saving model ...\n",
      "\t Train_Loss: 0.3898 Train_Acc: 83.211 Val_Loss: 0.3628  BEST VAL Loss: 0.3628  Val_Acc: 84.850\n",
      "\n"
     ]
    },
    {
     "name": "stdout",
     "output_type": "stream",
     "text": [
      "Epoch 33: Validation loss decreased (0.362815 --> 0.361956).  Saving model ...\n",
      "\t Train_Loss: 0.3886 Train_Acc: 83.312 Val_Loss: 0.3620  BEST VAL Loss: 0.3620  Val_Acc: 85.018\n",
      "\n"
     ]
    },
    {
     "name": "stdout",
     "output_type": "stream",
     "text": [
      "Epoch 34: Validation loss decreased (0.361956 --> 0.361109).  Saving model ...\n",
      "\t Train_Loss: 0.3875 Train_Acc: 83.290 Val_Loss: 0.3611  BEST VAL Loss: 0.3611  Val_Acc: 84.964\n",
      "\n"
     ]
    },
    {
     "name": "stdout",
     "output_type": "stream",
     "text": [
      "Epoch 35: Validation loss decreased (0.361109 --> 0.360271).  Saving model ...\n",
      "\t Train_Loss: 0.3865 Train_Acc: 83.270 Val_Loss: 0.3603  BEST VAL Loss: 0.3603  Val_Acc: 84.799\n",
      "\n"
     ]
    },
    {
     "name": "stdout",
     "output_type": "stream",
     "text": [
      "Epoch 36: Validation loss decreased (0.360271 --> 0.359371).  Saving model ...\n",
      "\t Train_Loss: 0.3855 Train_Acc: 83.393 Val_Loss: 0.3594  BEST VAL Loss: 0.3594  Val_Acc: 85.034\n",
      "\n"
     ]
    },
    {
     "name": "stdout",
     "output_type": "stream",
     "text": [
      "Epoch 37: Validation loss decreased (0.359371 --> 0.358606).  Saving model ...\n",
      "\t Train_Loss: 0.3845 Train_Acc: 83.407 Val_Loss: 0.3586  BEST VAL Loss: 0.3586  Val_Acc: 85.357\n",
      "\n"
     ]
    },
    {
     "name": "stdout",
     "output_type": "stream",
     "text": [
      "Epoch 38: Validation loss decreased (0.358606 --> 0.357936).  Saving model ...\n",
      "\t Train_Loss: 0.3836 Train_Acc: 83.347 Val_Loss: 0.3579  BEST VAL Loss: 0.3579  Val_Acc: 85.199\n",
      "\n"
     ]
    },
    {
     "name": "stdout",
     "output_type": "stream",
     "text": [
      "Epoch 39: Validation loss decreased (0.357936 --> 0.357279).  Saving model ...\n",
      "\t Train_Loss: 0.3827 Train_Acc: 83.457 Val_Loss: 0.3573  BEST VAL Loss: 0.3573  Val_Acc: 84.923\n",
      "\n"
     ]
    },
    {
     "name": "stdout",
     "output_type": "stream",
     "text": [
      "Epoch 40: Validation loss decreased (0.357279 --> 0.356564).  Saving model ...\n",
      "\t Train_Loss: 0.3818 Train_Acc: 83.442 Val_Loss: 0.3566  BEST VAL Loss: 0.3566  Val_Acc: 85.327\n",
      "\n"
     ]
    },
    {
     "name": "stdout",
     "output_type": "stream",
     "text": [
      "Epoch 41: Validation loss decreased (0.356564 --> 0.355963).  Saving model ...\n",
      "\t Train_Loss: 0.3810 Train_Acc: 83.518 Val_Loss: 0.3560  BEST VAL Loss: 0.3560  Val_Acc: 85.196\n",
      "\n"
     ]
    },
    {
     "name": "stdout",
     "output_type": "stream",
     "text": [
      "Epoch 42: Validation loss decreased (0.355963 --> 0.355306).  Saving model ...\n",
      "\t Train_Loss: 0.3802 Train_Acc: 83.567 Val_Loss: 0.3553  BEST VAL Loss: 0.3553  Val_Acc: 85.391\n",
      "\n"
     ]
    },
    {
     "name": "stdout",
     "output_type": "stream",
     "text": [
      "Epoch 43: Validation loss decreased (0.355306 --> 0.354655).  Saving model ...\n",
      "\t Train_Loss: 0.3794 Train_Acc: 83.537 Val_Loss: 0.3547  BEST VAL Loss: 0.3547  Val_Acc: 85.344\n",
      "\n"
     ]
    },
    {
     "name": "stdout",
     "output_type": "stream",
     "text": [
      "Epoch 44: Validation loss decreased (0.354655 --> 0.354073).  Saving model ...\n",
      "\t Train_Loss: 0.3786 Train_Acc: 83.615 Val_Loss: 0.3541  BEST VAL Loss: 0.3541  Val_Acc: 85.364\n",
      "\n"
     ]
    },
    {
     "name": "stdout",
     "output_type": "stream",
     "text": [
      "Epoch 45: Validation loss decreased (0.354073 --> 0.353532).  Saving model ...\n",
      "\t Train_Loss: 0.3778 Train_Acc: 83.687 Val_Loss: 0.3535  BEST VAL Loss: 0.3535  Val_Acc: 85.307\n",
      "\n"
     ]
    },
    {
     "name": "stdout",
     "output_type": "stream",
     "text": [
      "Epoch 46: Validation loss decreased (0.353532 --> 0.352998).  Saving model ...\n",
      "\t Train_Loss: 0.3771 Train_Acc: 83.612 Val_Loss: 0.3530  BEST VAL Loss: 0.3530  Val_Acc: 85.361\n",
      "\n"
     ]
    },
    {
     "name": "stdout",
     "output_type": "stream",
     "text": [
      "Epoch 47: Validation loss decreased (0.352998 --> 0.352494).  Saving model ...\n",
      "\t Train_Loss: 0.3764 Train_Acc: 83.619 Val_Loss: 0.3525  BEST VAL Loss: 0.3525  Val_Acc: 85.317\n",
      "\n"
     ]
    },
    {
     "name": "stdout",
     "output_type": "stream",
     "text": [
      "Epoch 48: Validation loss decreased (0.352494 --> 0.351967).  Saving model ...\n",
      "\t Train_Loss: 0.3757 Train_Acc: 83.684 Val_Loss: 0.3520  BEST VAL Loss: 0.3520  Val_Acc: 85.364\n",
      "\n"
     ]
    },
    {
     "name": "stdout",
     "output_type": "stream",
     "text": [
      "Epoch 49: Validation loss decreased (0.351967 --> 0.351448).  Saving model ...\n",
      "\t Train_Loss: 0.3751 Train_Acc: 83.776 Val_Loss: 0.3514  BEST VAL Loss: 0.3514  Val_Acc: 85.626\n",
      "\n"
     ]
    },
    {
     "name": "stdout",
     "output_type": "stream",
     "text": [
      "Epoch 50: Validation loss decreased (0.351448 --> 0.350999).  Saving model ...\n",
      "\t Train_Loss: 0.3744 Train_Acc: 83.816 Val_Loss: 0.3510  BEST VAL Loss: 0.3510  Val_Acc: 85.001\n",
      "\n"
     ]
    },
    {
     "name": "stdout",
     "output_type": "stream",
     "text": [
      "Epoch 51: Validation loss decreased (0.350999 --> 0.350485).  Saving model ...\n",
      "\t Train_Loss: 0.3738 Train_Acc: 83.690 Val_Loss: 0.3505  BEST VAL Loss: 0.3505  Val_Acc: 85.381\n",
      "\n"
     ]
    },
    {
     "name": "stdout",
     "output_type": "stream",
     "text": [
      "Epoch 52: Validation loss decreased (0.350485 --> 0.350030).  Saving model ...\n",
      "\t Train_Loss: 0.3732 Train_Acc: 83.710 Val_Loss: 0.3500  BEST VAL Loss: 0.3500  Val_Acc: 85.317\n",
      "\n"
     ]
    },
    {
     "name": "stdout",
     "output_type": "stream",
     "text": [
      "Epoch 53: Validation loss decreased (0.350030 --> 0.349591).  Saving model ...\n",
      "\t Train_Loss: 0.3726 Train_Acc: 83.812 Val_Loss: 0.3496  BEST VAL Loss: 0.3496  Val_Acc: 85.361\n",
      "\n"
     ]
    },
    {
     "name": "stdout",
     "output_type": "stream",
     "text": [
      "Epoch 54: Validation loss decreased (0.349591 --> 0.349167).  Saving model ...\n",
      "\t Train_Loss: 0.3720 Train_Acc: 83.813 Val_Loss: 0.3492  BEST VAL Loss: 0.3492  Val_Acc: 85.421\n",
      "\n"
     ]
    },
    {
     "name": "stdout",
     "output_type": "stream",
     "text": [
      "Epoch 55: Validation loss decreased (0.349167 --> 0.348681).  Saving model ...\n",
      "\t Train_Loss: 0.3715 Train_Acc: 83.863 Val_Loss: 0.3487  BEST VAL Loss: 0.3487  Val_Acc: 85.650\n",
      "\n"
     ]
    },
    {
     "name": "stdout",
     "output_type": "stream",
     "text": [
      "Epoch 56: Validation loss decreased (0.348681 --> 0.348311).  Saving model ...\n",
      "\t Train_Loss: 0.3709 Train_Acc: 83.918 Val_Loss: 0.3483  BEST VAL Loss: 0.3483  Val_Acc: 85.324\n",
      "\n"
     ]
    },
    {
     "name": "stdout",
     "output_type": "stream",
     "text": [
      "Epoch 57: Validation loss decreased (0.348311 --> 0.347949).  Saving model ...\n",
      "\t Train_Loss: 0.3704 Train_Acc: 83.856 Val_Loss: 0.3479  BEST VAL Loss: 0.3479  Val_Acc: 85.418\n",
      "\n"
     ]
    },
    {
     "name": "stdout",
     "output_type": "stream",
     "text": [
      "Epoch 58: Validation loss decreased (0.347949 --> 0.347542).  Saving model ...\n",
      "\t Train_Loss: 0.3699 Train_Acc: 83.865 Val_Loss: 0.3475  BEST VAL Loss: 0.3475  Val_Acc: 85.589\n",
      "\n"
     ]
    },
    {
     "name": "stdout",
     "output_type": "stream",
     "text": [
      "Epoch 59: Validation loss decreased (0.347542 --> 0.347155).  Saving model ...\n",
      "\t Train_Loss: 0.3694 Train_Acc: 83.893 Val_Loss: 0.3472  BEST VAL Loss: 0.3472  Val_Acc: 85.428\n",
      "\n"
     ]
    },
    {
     "name": "stdout",
     "output_type": "stream",
     "text": [
      "Epoch 60: Validation loss decreased (0.347155 --> 0.346809).  Saving model ...\n",
      "\t Train_Loss: 0.3689 Train_Acc: 83.801 Val_Loss: 0.3468  BEST VAL Loss: 0.3468  Val_Acc: 85.475\n",
      "\n"
     ]
    },
    {
     "name": "stdout",
     "output_type": "stream",
     "text": [
      "Epoch 61: Validation loss decreased (0.346809 --> 0.346516).  Saving model ...\n",
      "\t Train_Loss: 0.3684 Train_Acc: 83.909 Val_Loss: 0.3465  BEST VAL Loss: 0.3465  Val_Acc: 85.330\n",
      "\n"
     ]
    },
    {
     "name": "stdout",
     "output_type": "stream",
     "text": [
      "Epoch 62: Validation loss decreased (0.346516 --> 0.346157).  Saving model ...\n",
      "\t Train_Loss: 0.3680 Train_Acc: 83.905 Val_Loss: 0.3462  BEST VAL Loss: 0.3462  Val_Acc: 85.603\n",
      "\n"
     ]
    },
    {
     "name": "stdout",
     "output_type": "stream",
     "text": [
      "Epoch 63: Validation loss decreased (0.346157 --> 0.345808).  Saving model ...\n",
      "\t Train_Loss: 0.3675 Train_Acc: 83.961 Val_Loss: 0.3458  BEST VAL Loss: 0.3458  Val_Acc: 85.546\n",
      "\n"
     ]
    },
    {
     "name": "stdout",
     "output_type": "stream",
     "text": [
      "Epoch 64: Validation loss decreased (0.345808 --> 0.345489).  Saving model ...\n",
      "\t Train_Loss: 0.3670 Train_Acc: 83.962 Val_Loss: 0.3455  BEST VAL Loss: 0.3455  Val_Acc: 85.478\n",
      "\n"
     ]
    },
    {
     "name": "stdout",
     "output_type": "stream",
     "text": [
      "Epoch 65: Validation loss decreased (0.345489 --> 0.345177).  Saving model ...\n",
      "\t Train_Loss: 0.3666 Train_Acc: 83.947 Val_Loss: 0.3452  BEST VAL Loss: 0.3452  Val_Acc: 85.445\n",
      "\n"
     ]
    },
    {
     "name": "stdout",
     "output_type": "stream",
     "text": [
      "Epoch 66: Validation loss decreased (0.345177 --> 0.344890).  Saving model ...\n",
      "\t Train_Loss: 0.3662 Train_Acc: 83.981 Val_Loss: 0.3449  BEST VAL Loss: 0.3449  Val_Acc: 85.640\n",
      "\n"
     ]
    },
    {
     "name": "stdout",
     "output_type": "stream",
     "text": [
      "Epoch 67: Validation loss decreased (0.344890 --> 0.344573).  Saving model ...\n",
      "\t Train_Loss: 0.3657 Train_Acc: 84.048 Val_Loss: 0.3446  BEST VAL Loss: 0.3446  Val_Acc: 85.576\n",
      "\n"
     ]
    },
    {
     "name": "stdout",
     "output_type": "stream",
     "text": [
      "Epoch 68: Validation loss decreased (0.344573 --> 0.344319).  Saving model ...\n",
      "\t Train_Loss: 0.3653 Train_Acc: 84.042 Val_Loss: 0.3443  BEST VAL Loss: 0.3443  Val_Acc: 85.337\n",
      "\n"
     ]
    },
    {
     "name": "stdout",
     "output_type": "stream",
     "text": [
      "Epoch 69: Validation loss decreased (0.344319 --> 0.344039).  Saving model ...\n",
      "\t Train_Loss: 0.3649 Train_Acc: 84.067 Val_Loss: 0.3440  BEST VAL Loss: 0.3440  Val_Acc: 85.657\n",
      "\n"
     ]
    },
    {
     "name": "stdout",
     "output_type": "stream",
     "text": [
      "Epoch 70: Validation loss decreased (0.344039 --> 0.343729).  Saving model ...\n",
      "\t Train_Loss: 0.3645 Train_Acc: 84.088 Val_Loss: 0.3437  BEST VAL Loss: 0.3437  Val_Acc: 85.657\n",
      "\n"
     ]
    },
    {
     "name": "stdout",
     "output_type": "stream",
     "text": [
      "Epoch 71: Validation loss decreased (0.343729 --> 0.343438).  Saving model ...\n",
      "\t Train_Loss: 0.3641 Train_Acc: 84.095 Val_Loss: 0.3434  BEST VAL Loss: 0.3434  Val_Acc: 85.721\n",
      "\n"
     ]
    },
    {
     "name": "stdout",
     "output_type": "stream",
     "text": [
      "Epoch 72: Validation loss decreased (0.343438 --> 0.343193).  Saving model ...\n",
      "\t Train_Loss: 0.3637 Train_Acc: 84.044 Val_Loss: 0.3432  BEST VAL Loss: 0.3432  Val_Acc: 85.401\n",
      "\n"
     ]
    },
    {
     "name": "stdout",
     "output_type": "stream",
     "text": [
      "Epoch 73: Validation loss decreased (0.343193 --> 0.342913).  Saving model ...\n",
      "\t Train_Loss: 0.3633 Train_Acc: 84.146 Val_Loss: 0.3429  BEST VAL Loss: 0.3429  Val_Acc: 85.626\n",
      "\n"
     ]
    },
    {
     "name": "stdout",
     "output_type": "stream",
     "text": [
      "Epoch 74: Validation loss decreased (0.342913 --> 0.342644).  Saving model ...\n",
      "\t Train_Loss: 0.3630 Train_Acc: 84.154 Val_Loss: 0.3426  BEST VAL Loss: 0.3426  Val_Acc: 85.680\n",
      "\n"
     ]
    },
    {
     "name": "stdout",
     "output_type": "stream",
     "text": [
      "Epoch 75: Validation loss decreased (0.342644 --> 0.342426).  Saving model ...\n",
      "\t Train_Loss: 0.3626 Train_Acc: 84.207 Val_Loss: 0.3424  BEST VAL Loss: 0.3424  Val_Acc: 85.593\n",
      "\n"
     ]
    },
    {
     "name": "stdout",
     "output_type": "stream",
     "text": [
      "Epoch 76: Validation loss decreased (0.342426 --> 0.342162).  Saving model ...\n",
      "\t Train_Loss: 0.3622 Train_Acc: 84.196 Val_Loss: 0.3422  BEST VAL Loss: 0.3422  Val_Acc: 85.643\n",
      "\n"
     ]
    },
    {
     "name": "stdout",
     "output_type": "stream",
     "text": [
      "Epoch 77: Validation loss decreased (0.342162 --> 0.341887).  Saving model ...\n",
      "\t Train_Loss: 0.3619 Train_Acc: 84.220 Val_Loss: 0.3419  BEST VAL Loss: 0.3419  Val_Acc: 85.667\n",
      "\n"
     ]
    },
    {
     "name": "stdout",
     "output_type": "stream",
     "text": [
      "Epoch 78: Validation loss decreased (0.341887 --> 0.341675).  Saving model ...\n",
      "\t Train_Loss: 0.3615 Train_Acc: 84.151 Val_Loss: 0.3417  BEST VAL Loss: 0.3417  Val_Acc: 85.623\n",
      "\n"
     ]
    },
    {
     "name": "stdout",
     "output_type": "stream",
     "text": [
      "Epoch 79: Validation loss decreased (0.341675 --> 0.341423).  Saving model ...\n",
      "\t Train_Loss: 0.3612 Train_Acc: 84.176 Val_Loss: 0.3414  BEST VAL Loss: 0.3414  Val_Acc: 85.633\n",
      "\n"
     ]
    },
    {
     "name": "stdout",
     "output_type": "stream",
     "text": [
      "Epoch 80: Validation loss decreased (0.341423 --> 0.341218).  Saving model ...\n",
      "\t Train_Loss: 0.3609 Train_Acc: 84.229 Val_Loss: 0.3412  BEST VAL Loss: 0.3412  Val_Acc: 85.593\n",
      "\n"
     ]
    },
    {
     "name": "stdout",
     "output_type": "stream",
     "text": [
      "Epoch 81: Validation loss decreased (0.341218 --> 0.340966).  Saving model ...\n",
      "\t Train_Loss: 0.3605 Train_Acc: 84.244 Val_Loss: 0.3410  BEST VAL Loss: 0.3410  Val_Acc: 85.680\n",
      "\n"
     ]
    },
    {
     "name": "stdout",
     "output_type": "stream",
     "text": [
      "Epoch 82: Validation loss decreased (0.340966 --> 0.340721).  Saving model ...\n",
      "\t Train_Loss: 0.3602 Train_Acc: 84.176 Val_Loss: 0.3407  BEST VAL Loss: 0.3407  Val_Acc: 85.872\n",
      "\n"
     ]
    },
    {
     "name": "stdout",
     "output_type": "stream",
     "text": [
      "Epoch 83: Validation loss decreased (0.340721 --> 0.340502).  Saving model ...\n",
      "\t Train_Loss: 0.3599 Train_Acc: 84.273 Val_Loss: 0.3405  BEST VAL Loss: 0.3405  Val_Acc: 85.573\n",
      "\n"
     ]
    },
    {
     "name": "stdout",
     "output_type": "stream",
     "text": [
      "Epoch 84: Validation loss decreased (0.340502 --> 0.340309).  Saving model ...\n",
      "\t Train_Loss: 0.3596 Train_Acc: 84.174 Val_Loss: 0.3403  BEST VAL Loss: 0.3403  Val_Acc: 85.808\n",
      "\n"
     ]
    },
    {
     "name": "stdout",
     "output_type": "stream",
     "text": [
      "Epoch 85: Validation loss decreased (0.340309 --> 0.340136).  Saving model ...\n",
      "\t Train_Loss: 0.3593 Train_Acc: 84.291 Val_Loss: 0.3401  BEST VAL Loss: 0.3401  Val_Acc: 85.751\n",
      "\n"
     ]
    },
    {
     "name": "stdout",
     "output_type": "stream",
     "text": [
      "Epoch 86: Validation loss decreased (0.340136 --> 0.339921).  Saving model ...\n",
      "\t Train_Loss: 0.3590 Train_Acc: 84.283 Val_Loss: 0.3399  BEST VAL Loss: 0.3399  Val_Acc: 85.690\n",
      "\n"
     ]
    },
    {
     "name": "stdout",
     "output_type": "stream",
     "text": [
      "Epoch 87: Validation loss decreased (0.339921 --> 0.339715).  Saving model ...\n",
      "\t Train_Loss: 0.3587 Train_Acc: 84.211 Val_Loss: 0.3397  BEST VAL Loss: 0.3397  Val_Acc: 85.667\n",
      "\n"
     ]
    },
    {
     "name": "stdout",
     "output_type": "stream",
     "text": [
      "Epoch 88: Validation loss decreased (0.339715 --> 0.339516).  Saving model ...\n",
      "\t Train_Loss: 0.3584 Train_Acc: 84.254 Val_Loss: 0.3395  BEST VAL Loss: 0.3395  Val_Acc: 85.673\n",
      "\n"
     ]
    },
    {
     "name": "stdout",
     "output_type": "stream",
     "text": [
      "Epoch 89: Validation loss decreased (0.339516 --> 0.339347).  Saving model ...\n",
      "\t Train_Loss: 0.3581 Train_Acc: 84.272 Val_Loss: 0.3393  BEST VAL Loss: 0.3393  Val_Acc: 85.778\n",
      "\n"
     ]
    },
    {
     "name": "stdout",
     "output_type": "stream",
     "text": [
      "Epoch 90: Validation loss decreased (0.339347 --> 0.339104).  Saving model ...\n",
      "\t Train_Loss: 0.3578 Train_Acc: 84.332 Val_Loss: 0.3391  BEST VAL Loss: 0.3391  Val_Acc: 85.680\n",
      "\n"
     ]
    },
    {
     "name": "stdout",
     "output_type": "stream",
     "text": [
      "Epoch 91: Validation loss decreased (0.339104 --> 0.338909).  Saving model ...\n",
      "\t Train_Loss: 0.3575 Train_Acc: 84.267 Val_Loss: 0.3389  BEST VAL Loss: 0.3389  Val_Acc: 85.643\n",
      "\n"
     ]
    },
    {
     "name": "stdout",
     "output_type": "stream",
     "text": [
      "Epoch 92: Validation loss decreased (0.338909 --> 0.338751).  Saving model ...\n",
      "\t Train_Loss: 0.3572 Train_Acc: 84.379 Val_Loss: 0.3388  BEST VAL Loss: 0.3388  Val_Acc: 85.670\n",
      "\n"
     ]
    },
    {
     "name": "stdout",
     "output_type": "stream",
     "text": [
      "Epoch 93: Validation loss decreased (0.338751 --> 0.338614).  Saving model ...\n",
      "\t Train_Loss: 0.3570 Train_Acc: 84.310 Val_Loss: 0.3386  BEST VAL Loss: 0.3386  Val_Acc: 85.509\n",
      "\n"
     ]
    },
    {
     "name": "stdout",
     "output_type": "stream",
     "text": [
      "Epoch 94: Validation loss decreased (0.338614 --> 0.338459).  Saving model ...\n",
      "\t Train_Loss: 0.3567 Train_Acc: 84.305 Val_Loss: 0.3385  BEST VAL Loss: 0.3385  Val_Acc: 85.593\n",
      "\n"
     ]
    },
    {
     "name": "stdout",
     "output_type": "stream",
     "text": [
      "Epoch 95: Validation loss decreased (0.338459 --> 0.338308).  Saving model ...\n",
      "\t Train_Loss: 0.3565 Train_Acc: 84.373 Val_Loss: 0.3383  BEST VAL Loss: 0.3383  Val_Acc: 85.663\n",
      "\n"
     ]
    },
    {
     "name": "stdout",
     "output_type": "stream",
     "text": [
      "Epoch 96: Validation loss decreased (0.338308 --> 0.338209).  Saving model ...\n",
      "\t Train_Loss: 0.3562 Train_Acc: 84.415 Val_Loss: 0.3382  BEST VAL Loss: 0.3382  Val_Acc: 85.721\n",
      "\n"
     ]
    },
    {
     "name": "stdout",
     "output_type": "stream",
     "text": [
      "Epoch 97: Validation loss decreased (0.338209 --> 0.338057).  Saving model ...\n",
      "\t Train_Loss: 0.3559 Train_Acc: 84.377 Val_Loss: 0.3381  BEST VAL Loss: 0.3381  Val_Acc: 85.653\n",
      "\n"
     ]
    },
    {
     "name": "stdout",
     "output_type": "stream",
     "text": [
      "Epoch 98: Validation loss decreased (0.338057 --> 0.337894).  Saving model ...\n",
      "\t Train_Loss: 0.3557 Train_Acc: 84.298 Val_Loss: 0.3379  BEST VAL Loss: 0.3379  Val_Acc: 85.717\n",
      "\n"
     ]
    },
    {
     "name": "stdout",
     "output_type": "stream",
     "text": [
      "Epoch 99: Validation loss decreased (0.337894 --> 0.337747).  Saving model ...\n",
      "\t Train_Loss: 0.3554 Train_Acc: 84.394 Val_Loss: 0.3377  BEST VAL Loss: 0.3377  Val_Acc: 85.653\n",
      "\n"
     ]
    }
   ],
   "source": [
    "# call the optimized training model\n",
    "train_loss, train_acc, valid_loss, valid_acc, epochs_ran, model = train_optimized_model(\n",
    "    mlp_params.TRAIN_EPOCHS,\n",
    "    train_loader,\n",
    "    valid_loader,\n",
    "    params,\n",
    "    mlp_params.MODEL_NAME,\n",
    "    mlp_params.SHUFFLE,\n",
    ")\n",
    "# get training_metrics\n",
    "if mlp_params.MODEL_TYPE == \"Regression\":\n",
    "    training_stats = pd.DataFrame(\n",
    "        zip(train_loss, valid_loss, epochs_ran),\n",
    "        columns=[\"train_loss\", \"valid_loss\", \"epochs_ran\"],\n",
    "    )\n",
    "else:\n",
    "    training_stats = pd.DataFrame(\n",
    "        zip(train_loss, train_acc, valid_loss, valid_acc, epochs_ran),\n",
    "        columns=[\"train_loss\", \"train_acc\", \"valid_loss\", \"valid_acc\", \"epochs_ran\"],\n",
    "    )"
   ]
  },
  {
   "cell_type": "code",
   "execution_count": 14,
   "id": "3d5115e3",
   "metadata": {
    "execution": {
     "iopub.execute_input": "2023-10-30T18:29:28.412466Z",
     "iopub.status.busy": "2023-10-30T18:29:28.412265Z",
     "iopub.status.idle": "2023-10-30T18:29:28.428306Z",
     "shell.execute_reply": "2023-10-30T18:29:28.427896Z"
    },
    "papermill": {
     "duration": 0.026376,
     "end_time": "2023-10-30T18:29:28.429531",
     "exception": false,
     "start_time": "2023-10-30T18:29:28.403155",
     "status": "completed"
    },
    "tags": []
   },
   "outputs": [
    {
     "data": {
      "text/html": [
       "<div>\n",
       "<style scoped>\n",
       "    .dataframe tbody tr th:only-of-type {\n",
       "        vertical-align: middle;\n",
       "    }\n",
       "\n",
       "    .dataframe tbody tr th {\n",
       "        vertical-align: top;\n",
       "    }\n",
       "\n",
       "    .dataframe thead th {\n",
       "        text-align: right;\n",
       "    }\n",
       "</style>\n",
       "<table border=\"1\" class=\"dataframe\">\n",
       "  <thead>\n",
       "    <tr style=\"text-align: right;\">\n",
       "      <th></th>\n",
       "      <th>treatments_tested</th>\n",
       "      <th>model</th>\n",
       "      <th>group</th>\n",
       "      <th>shuffled_data</th>\n",
       "      <th>PR_Threshold</th>\n",
       "      <th>Precision</th>\n",
       "      <th>Recall</th>\n",
       "    </tr>\n",
       "  </thead>\n",
       "  <tbody>\n",
       "  </tbody>\n",
       "</table>\n",
       "</div>"
      ],
      "text/plain": [
       "Empty DataFrame\n",
       "Columns: [treatments_tested, model, group, shuffled_data, PR_Threshold, Precision, Recall]\n",
       "Index: []"
      ]
     },
     "execution_count": 14,
     "metadata": {},
     "output_type": "execute_result"
    }
   ],
   "source": [
    "# create a dataframe to store the model stats\n",
    "model_stats_df = pd.DataFrame(\n",
    "    columns=[\n",
    "        \"treatments_tested\",\n",
    "        \"model\",\n",
    "        \"group\",\n",
    "        \"shuffled_data\",\n",
    "        \"PR_Threshold\",\n",
    "        \"Precision\",\n",
    "        \"Recall\",\n",
    "    ]\n",
    ")\n",
    "model_stats_df"
   ]
  },
  {
   "cell_type": "code",
   "execution_count": 15,
   "id": "d4f283d4",
   "metadata": {
    "execution": {
     "iopub.execute_input": "2023-10-30T18:29:28.448195Z",
     "iopub.status.busy": "2023-10-30T18:29:28.448029Z",
     "iopub.status.idle": "2023-10-30T18:29:28.844460Z",
     "shell.execute_reply": "2023-10-30T18:29:28.843995Z"
    },
    "papermill": {
     "duration": 0.406665,
     "end_time": "2023-10-30T18:29:28.845499",
     "exception": false,
     "start_time": "2023-10-30T18:29:28.438834",
     "status": "completed"
    },
    "tags": []
   },
   "outputs": [
    {
     "name": "stderr",
     "output_type": "stream",
     "text": [
      "/gpfs/alpine1/scratch/mlippincott@xsede.org/Interstellar_Analysis/4.sc_Morphology_Neural_Network_MLP_Model/1.model_training/notebooks/../../MLP_utils/utils.py:1001: UserWarning: Ignoring `palette` because no `hue` variable has been assigned.\n",
      "  sns.lineplot(x=df[x], y=df[y1], palette=\"blue\", label=\"Train\")\n",
      "/gpfs/alpine1/scratch/mlippincott@xsede.org/Interstellar_Analysis/4.sc_Morphology_Neural_Network_MLP_Model/1.model_training/notebooks/../../MLP_utils/utils.py:1002: UserWarning: Ignoring `palette` because no `hue` variable has been assigned.\n",
      "  sns.lineplot(x=df[x], y=df[y2], palette=\"orange\", label=\"Validation\")\n"
     ]
    },
    {
     "data": {
      "image/png": "[encoded data removed]",
      "text/plain": [
       "<Figure size 640x480 with 1 Axes>"
      ]
     },
     "metadata": {},
     "output_type": "display_data"
    }
   ],
   "source": [
    "if mlp_params.MODEL_TYPE == \"Regression\":\n",
    "    pass\n",
    "else:\n",
    "    plot_metric_vs_epoch(\n",
    "        training_stats,\n",
    "        x=\"epochs_ran\",\n",
    "        y1=\"train_acc\",\n",
    "        y2=\"valid_acc\",\n",
    "        title=\"Accuracy vs. Epochs\",\n",
    "        x_axis_label=\"Epochs\",\n",
    "        y_axis_label=\"Accuracy\",\n",
    "        params=params,\n",
    "        model_name=mlp_params.MODEL_NAME,\n",
    "        shuffle=mlp_params.SHUFFLE,\n",
    "    )"
   ]
  },
  {
   "cell_type": "code",
   "execution_count": 16,
   "id": "5e491e00",
   "metadata": {
    "execution": {
     "iopub.execute_input": "2023-10-30T18:29:28.864616Z",
     "iopub.status.busy": "2023-10-30T18:29:28.864278Z",
     "iopub.status.idle": "2023-10-30T18:29:29.653260Z",
     "shell.execute_reply": "2023-10-30T18:29:29.652834Z"
    },
    "papermill": {
     "duration": 0.79981,
     "end_time": "2023-10-30T18:29:29.654634",
     "exception": false,
     "start_time": "2023-10-30T18:29:28.854824",
     "status": "completed"
    },
    "tags": []
   },
   "outputs": [
    {
     "name": "stderr",
     "output_type": "stream",
     "text": [
      "/gpfs/alpine1/scratch/mlippincott@xsede.org/Interstellar_Analysis/4.sc_Morphology_Neural_Network_MLP_Model/1.model_training/notebooks/../../MLP_utils/utils.py:1001: UserWarning: Ignoring `palette` because no `hue` variable has been assigned.\n",
      "  sns.lineplot(x=df[x], y=df[y1], palette=\"blue\", label=\"Train\")\n",
      "/gpfs/alpine1/scratch/mlippincott@xsede.org/Interstellar_Analysis/4.sc_Morphology_Neural_Network_MLP_Model/1.model_training/notebooks/../../MLP_utils/utils.py:1002: UserWarning: Ignoring `palette` because no `hue` variable has been assigned.\n",
      "  sns.lineplot(x=df[x], y=df[y2], palette=\"orange\", label=\"Validation\")\n"
     ]
    },
    {
     "data": {
      "image/png": "[encoded data removed]",
      "text/plain": [
       "<Figure size 640x480 with 1 Axes>"
      ]
     },
     "metadata": {},
     "output_type": "display_data"
    }
   ],
   "source": [
    "plot_metric_vs_epoch(\n",
    "    training_stats,\n",
    "    x=\"epochs_ran\",\n",
    "    y1=\"train_loss\",\n",
    "    y2=\"valid_loss\",\n",
    "    title=\"Loss vs. Epochs\",\n",
    "    x_axis_label=\"Epochs\",\n",
    "    y_axis_label=\"Loss\",\n",
    "    params=params,\n",
    "    model_name=mlp_params.MODEL_NAME,\n",
    "    shuffle=mlp_params.SHUFFLE,\n",
    ")"
   ]
  },
  {
   "cell_type": "code",
   "execution_count": 17,
   "id": "9c595792",
   "metadata": {
    "execution": {
     "iopub.execute_input": "2023-10-30T18:29:29.677088Z",
     "iopub.status.busy": "2023-10-30T18:29:29.676716Z",
     "iopub.status.idle": "2023-10-30T18:29:31.795848Z",
     "shell.execute_reply": "2023-10-30T18:29:31.795331Z"
    },
    "papermill": {
     "duration": 2.130265,
     "end_time": "2023-10-30T18:29:31.796933",
     "exception": false,
     "start_time": "2023-10-30T18:29:29.666668",
     "status": "completed"
    },
    "tags": []
   },
   "outputs": [
    {
     "name": "stdout",
     "output_type": "stream",
     "text": [
      "DMSO_0.025_vs_Thapsigargin_1\n"
     ]
    }
   ],
   "source": [
    "# test the model on training data\n",
    "# calling the testing function and outputting list values of tested model\n",
    "if any(\n",
    "    model_type == mlp_params.MODEL_TYPE for model_type in [\"Multi_Class\", \"Regression\"]\n",
    "):\n",
    "    y_pred_list = test_optimized_model(\n",
    "        model,\n",
    "        valid_loader,\n",
    "        mlp_params,\n",
    "        model_name=mlp_params.MODEL_NAME,\n",
    "        shuffle=mlp_params.SHUFFLE,\n",
    "    )\n",
    "elif mlp_params.MODEL_TYPE == \"Binary_Classification\":\n",
    "    y_pred_list, y_pred_prob_list = test_optimized_model(\n",
    "        model,\n",
    "        train_loader,\n",
    "        mlp_params,\n",
    "        model_name=mlp_params.MODEL_NAME,\n",
    "        shuffle=mlp_params.SHUFFLE,\n",
    "    )\n",
    "else:\n",
    "    raise Exception(\"Model type must be specified for proper model testing\")\n",
    "\n",
    "# un-nest list if nested i.e. length of input data does not match length of output data\n",
    "if len(y_pred_list) != len(Y_test):\n",
    "    y_pred_list = un_nest(y_pred_list)\n",
    "    y_pred_prob_list = un_nest(y_pred_prob_list)\n",
    "else:\n",
    "    pass"
   ]
  },
  {
   "cell_type": "code",
   "execution_count": 18,
   "id": "4b269c1d",
   "metadata": {
    "execution": {
     "iopub.execute_input": "2023-10-30T18:29:31.817818Z",
     "iopub.status.busy": "2023-10-30T18:29:31.817529Z",
     "iopub.status.idle": "2023-10-30T18:29:33.082122Z",
     "shell.execute_reply": "2023-10-30T18:29:33.081604Z"
    },
    "papermill": {
     "duration": 1.276731,
     "end_time": "2023-10-30T18:29:33.083426",
     "exception": false,
     "start_time": "2023-10-30T18:29:31.806695",
     "status": "completed"
    },
    "tags": []
   },
   "outputs": [
    {
     "name": "stdout",
     "output_type": "stream",
     "text": [
      "              precision    recall  f1-score   support\n",
      "\n",
      "           0       0.88      0.92      0.90    149884\n",
      "           1       0.85      0.80      0.82     87993\n",
      "\n",
      "    accuracy                           0.87    237877\n",
      "   macro avg       0.87      0.86      0.86    237877\n",
      "weighted avg       0.87      0.87      0.87    237877\n",
      "\n"
     ]
    }
   ],
   "source": [
    "stats, recall, precision, f1, precision_, recall_, threshold_ = output_stats(\n",
    "    y_pred_list,\n",
    "    Y_train,\n",
    "    mlp_params,\n",
    "    y_pred_prob_list,\n",
    "    test_name=f\"{mlp_params.MODEL_NAME}_train\",\n",
    "    model_name=mlp_params.MODEL_NAME,\n",
    "    title=mlp_params.MODEL_NAME,\n",
    "    shuffle=mlp_params.SHUFFLE,\n",
    ")"
   ]
  },
  {
   "cell_type": "code",
   "execution_count": 19,
   "id": "fdde3d70",
   "metadata": {
    "execution": {
     "iopub.execute_input": "2023-10-30T18:29:33.103680Z",
     "iopub.status.busy": "2023-10-30T18:29:33.103377Z",
     "iopub.status.idle": "2023-10-30T18:29:33.119574Z",
     "shell.execute_reply": "2023-10-30T18:29:33.119096Z"
    },
    "papermill": {
     "duration": 0.027205,
     "end_time": "2023-10-30T18:29:33.120695",
     "exception": false,
     "start_time": "2023-10-30T18:29:33.093490",
     "status": "completed"
    },
    "tags": []
   },
   "outputs": [],
   "source": [
    "threshold_ = np.append(threshold_, None)\n",
    "stats_df = pd.DataFrame(\n",
    "    {\n",
    "        \"PR_Threshold\": threshold_,\n",
    "        \"Precision\": precision_,\n",
    "        \"Recall\": recall_,\n",
    "    }\n",
    ")\n",
    "\n",
    "stats_df[\"treatments_tested\"] = (\n",
    "    mlp_params.CONTROL_NAME + \" vs. \" + mlp_params.TREATMENT_NAME\n",
    ")\n",
    "stats_df[\"model\"] = mlp_params.MODEL_NAME\n",
    "stats_df[\"group\"] = \"train\"\n",
    "stats_df[\"shuffled_data\"] = mlp_params.SHUFFLE\n",
    "\n",
    "model_stats_df = pd.concat([model_stats_df, stats_df], axis=0)"
   ]
  },
  {
   "cell_type": "code",
   "execution_count": 20,
   "id": "52b5399f",
   "metadata": {
    "execution": {
     "iopub.execute_input": "2023-10-30T18:29:33.140309Z",
     "iopub.status.busy": "2023-10-30T18:29:33.139924Z",
     "iopub.status.idle": "2023-10-30T18:29:33.480302Z",
     "shell.execute_reply": "2023-10-30T18:29:33.479788Z"
    },
    "papermill": {
     "duration": 0.351273,
     "end_time": "2023-10-30T18:29:33.481408",
     "exception": false,
     "start_time": "2023-10-30T18:29:33.130135",
     "status": "completed"
    },
    "tags": []
   },
   "outputs": [
    {
     "name": "stdout",
     "output_type": "stream",
     "text": [
      "DMSO_0.025_vs_Thapsigargin_1\n"
     ]
    }
   ],
   "source": [
    "# test the model on training data\n",
    "# calling the testing function and outputting list values of tested model\n",
    "if any(\n",
    "    model_type == mlp_params.MODEL_TYPE for model_type in [\"Multi_Class\", \"Regression\"]\n",
    "):\n",
    "    y_pred_list = test_optimized_model(\n",
    "        model,\n",
    "        valid_loader,\n",
    "        mlp_params,\n",
    "        model_name=mlp_params.MODEL_NAME,\n",
    "        shuffle=mlp_params.SHUFFLE,\n",
    "    )\n",
    "elif mlp_params.MODEL_TYPE == \"Binary_Classification\":\n",
    "    y_pred_list, y_pred_prob_list = test_optimized_model(\n",
    "        model,\n",
    "        valid_loader,\n",
    "        mlp_params,\n",
    "        model_name=mlp_params.MODEL_NAME,\n",
    "        shuffle=mlp_params.SHUFFLE,\n",
    "    )\n",
    "else:\n",
    "    raise Exception(\"Model type must be specified for proper model testing\")\n",
    "\n",
    "# un-nest list if nested i.e. length of input data does not match length of output data\n",
    "if len(y_pred_list) != len(Y_test):\n",
    "    y_pred_list = un_nest(y_pred_list)\n",
    "    y_pred_prob_list = un_nest(y_pred_prob_list)\n",
    "else:\n",
    "    pass"
   ]
  },
  {
   "cell_type": "code",
   "execution_count": 21,
   "id": "19cbbee4",
   "metadata": {
    "execution": {
     "iopub.execute_input": "2023-10-30T18:29:33.501931Z",
     "iopub.status.busy": "2023-10-30T18:29:33.501727Z",
     "iopub.status.idle": "2023-10-30T18:29:33.505975Z",
     "shell.execute_reply": "2023-10-30T18:29:33.505506Z"
    },
    "papermill": {
     "duration": 0.015656,
     "end_time": "2023-10-30T18:29:33.507123",
     "exception": false,
     "start_time": "2023-10-30T18:29:33.491467",
     "status": "completed"
    },
    "tags": []
   },
   "outputs": [
    {
     "data": {
      "text/plain": [
       "False"
      ]
     },
     "execution_count": 21,
     "metadata": {},
     "output_type": "execute_result"
    }
   ],
   "source": [
    "mlp_params.SHUFFLE"
   ]
  },
  {
   "cell_type": "code",
   "execution_count": 22,
   "id": "444b8e3e",
   "metadata": {
    "execution": {
     "iopub.execute_input": "2023-10-30T18:29:33.526508Z",
     "iopub.status.busy": "2023-10-30T18:29:33.526348Z",
     "iopub.status.idle": "2023-10-30T18:29:33.691927Z",
     "shell.execute_reply": "2023-10-30T18:29:33.691465Z"
    },
    "papermill": {
     "duration": 0.176436,
     "end_time": "2023-10-30T18:29:33.692922",
     "exception": false,
     "start_time": "2023-10-30T18:29:33.516486",
     "status": "completed"
    },
    "tags": []
   },
   "outputs": [
    {
     "name": "stdout",
     "output_type": "stream",
     "text": [
      "              precision    recall  f1-score   support\n",
      "\n",
      "           0       0.87      0.90      0.89     18736\n",
      "           1       0.83      0.78      0.80     10999\n",
      "\n",
      "    accuracy                           0.86     29735\n",
      "   macro avg       0.85      0.84      0.84     29735\n",
      "weighted avg       0.86      0.86      0.86     29735\n",
      "\n"
     ]
    }
   ],
   "source": [
    "stats, recall, precision, f1, precision_, recall_, threshold_ = output_stats(\n",
    "    y_pred_list,\n",
    "    Y_val,\n",
    "    mlp_params,\n",
    "    y_pred_prob_list,\n",
    "    test_name=f\"{mlp_params.MODEL_NAME}_validation\",\n",
    "    model_name=mlp_params.MODEL_NAME,\n",
    "    title=mlp_params.MODEL_NAME,\n",
    "    shuffle=mlp_params.SHUFFLE,\n",
    ")"
   ]
  },
  {
   "cell_type": "code",
   "execution_count": 23,
   "id": "2573e7a6",
   "metadata": {
    "execution": {
     "iopub.execute_input": "2023-10-30T18:29:33.712712Z",
     "iopub.status.busy": "2023-10-30T18:29:33.712420Z",
     "iopub.status.idle": "2023-10-30T18:29:33.722762Z",
     "shell.execute_reply": "2023-10-30T18:29:33.722259Z"
    },
    "papermill": {
     "duration": 0.021498,
     "end_time": "2023-10-30T18:29:33.724009",
     "exception": false,
     "start_time": "2023-10-30T18:29:33.702511",
     "status": "completed"
    },
    "tags": []
   },
   "outputs": [],
   "source": [
    "threshold_ = np.append(threshold_, None)\n",
    "stats_df = pd.DataFrame(\n",
    "    {\n",
    "        \"PR_Threshold\": threshold_,\n",
    "        \"Precision\": precision_,\n",
    "        \"Recall\": recall_,\n",
    "    }\n",
    ")\n",
    "\n",
    "stats_df[\"treatments_tested\"] = (\n",
    "    mlp_params.CONTROL_NAME + \" vs. \" + mlp_params.TREATMENT_NAME\n",
    ")\n",
    "stats_df[\"model\"] = mlp_params.MODEL_NAME\n",
    "stats_df[\"group\"] = \"validation\"\n",
    "stats_df[\"shuffled_data\"] = mlp_params.SHUFFLE\n",
    "\n",
    "model_stats_df = pd.concat([model_stats_df, stats_df], axis=0)"
   ]
  },
  {
   "cell_type": "code",
   "execution_count": 24,
   "id": "f179b14f",
   "metadata": {
    "execution": {
     "iopub.execute_input": "2023-10-30T18:29:33.744218Z",
     "iopub.status.busy": "2023-10-30T18:29:33.743826Z",
     "iopub.status.idle": "2023-10-30T18:29:33.746999Z",
     "shell.execute_reply": "2023-10-30T18:29:33.746617Z"
    },
    "papermill": {
     "duration": 0.014041,
     "end_time": "2023-10-30T18:29:33.747929",
     "exception": false,
     "start_time": "2023-10-30T18:29:33.733888",
     "status": "completed"
    },
    "tags": []
   },
   "outputs": [
    {
     "data": {
      "text/plain": [
       "'DMSO_0.025_vs_Thapsigargin_1'"
      ]
     },
     "execution_count": 24,
     "metadata": {},
     "output_type": "execute_result"
    }
   ],
   "source": [
    "mlp_params.MODEL_NAME"
   ]
  },
  {
   "cell_type": "code",
   "execution_count": 25,
   "id": "d30cef39",
   "metadata": {
    "execution": {
     "iopub.execute_input": "2023-10-30T18:29:33.767514Z",
     "iopub.status.busy": "2023-10-30T18:29:33.767151Z",
     "iopub.status.idle": "2023-10-30T18:29:36.802891Z",
     "shell.execute_reply": "2023-10-30T18:29:36.802347Z"
    },
    "papermill": {
     "duration": 3.047123,
     "end_time": "2023-10-30T18:29:36.804447",
     "exception": false,
     "start_time": "2023-10-30T18:29:33.757324",
     "status": "completed"
    },
    "tags": []
   },
   "outputs": [
    {
     "name": "stdout",
     "output_type": "stream",
     "text": [
      "DMSO_0.025_vs_Thapsigargin_1\n"
     ]
    }
   ],
   "source": [
    "# calling the testing function and outputting list values of tested model\n",
    "if any(\n",
    "    model_type == mlp_params.MODEL_TYPE for model_type in [\"Multi_Class\", \"Regression\"]\n",
    "):\n",
    "    y_pred_list = test_optimized_model(\n",
    "        model,\n",
    "        test_loader,\n",
    "        params,\n",
    "        model_name=mlp_params.MODEL_NAME,\n",
    "        shuffle=mlp_params.SHUFFLE,\n",
    "    )\n",
    "elif mlp_params.MODEL_TYPE == \"Binary_Classification\":\n",
    "    y_pred_list, y_pred_prob_list = test_optimized_model(\n",
    "        model,\n",
    "        test_loader,\n",
    "        params,\n",
    "        model_name=mlp_params.MODEL_NAME,\n",
    "        shuffle=mlp_params.SHUFFLE,\n",
    "    )\n",
    "else:\n",
    "    raise Exception(\"Model type must be specified for proper model testing\")\n",
    "\n",
    "\n",
    "# un-nest list if nested i.e. length of input data does not match length of output data\n",
    "if len(y_pred_list) != len(Y_test):\n",
    "    y_pred_list = un_nest(y_pred_list)\n",
    "    y_pred_prob_list = un_nest(y_pred_prob_list)\n",
    "else:\n",
    "    pass"
   ]
  },
  {
   "cell_type": "code",
   "execution_count": 26,
   "id": "ba2c00bd",
   "metadata": {
    "execution": {
     "iopub.execute_input": "2023-10-30T18:29:36.826636Z",
     "iopub.status.busy": "2023-10-30T18:29:36.826329Z",
     "iopub.status.idle": "2023-10-30T18:29:37.434129Z",
     "shell.execute_reply": "2023-10-30T18:29:37.433687Z"
    },
    "papermill": {
     "duration": 0.619018,
     "end_time": "2023-10-30T18:29:37.435116",
     "exception": false,
     "start_time": "2023-10-30T18:29:36.816098",
     "status": "completed"
    },
    "tags": []
   },
   "outputs": [
    {
     "name": "stdout",
     "output_type": "stream",
     "text": [
      "              precision    recall  f1-score   support\n",
      "\n",
      "           0       0.87      0.91      0.89     18736\n",
      "           1       0.83      0.77      0.80     10999\n",
      "\n",
      "    accuracy                           0.86     29735\n",
      "   macro avg       0.85      0.84      0.84     29735\n",
      "weighted avg       0.85      0.86      0.85     29735\n",
      "\n"
     ]
    },
    {
     "data": {
      "image/png": "[encoded data removed]",
      "text/plain": [
       "<Figure size 640x480 with 2 Axes>"
      ]
     },
     "metadata": {},
     "output_type": "display_data"
    },
    {
     "data": {
      "image/png": "[encoded data removed]",
      "text/plain": [
       "<Figure size 550x400 with 1 Axes>"
      ]
     },
     "metadata": {},
     "output_type": "display_data"
    }
   ],
   "source": [
    "# Call visualization function\n",
    "# calling the testing function and outputing list values of tested model\n",
    "if any(\n",
    "    model_type == mlp_params.MODEL_TYPE for model_type in [\"Multi_Class\", \"Regression\"]\n",
    "):\n",
    "    confusion_matrix_df = results_output(\n",
    "        y_pred_list,\n",
    "        Y_test,\n",
    "        params,\n",
    "        test_name=f\"{mlp_params.MODEL_NAME}_testing\",\n",
    "        model_name=mlp_params.MODEL_NAME,\n",
    "        title=mlp_params.MODEL_NAME,\n",
    "        shuffle=mlp_params.SHUFFLE,\n",
    "    )\n",
    "elif mlp_params.MODEL_TYPE == \"Binary_Classification\":\n",
    "    results_output(\n",
    "        y_pred_list,\n",
    "        Y_test,\n",
    "        params,\n",
    "        y_pred_prob_list,\n",
    "        test_name=f\"{mlp_params.MODEL_NAME}_testing\",\n",
    "        model_name=mlp_params.MODEL_NAME,\n",
    "        title=mlp_params.MODEL_NAME,\n",
    "        shuffle=mlp_params.SHUFFLE,\n",
    "    )\n",
    "else:\n",
    "    raise Exception(\"Model type must be specified for proper model testing\")"
   ]
  },
  {
   "cell_type": "code",
   "execution_count": 27,
   "id": "6e9b9cc1",
   "metadata": {
    "execution": {
     "iopub.execute_input": "2023-10-30T18:29:37.458063Z",
     "iopub.status.busy": "2023-10-30T18:29:37.457717Z",
     "iopub.status.idle": "2023-10-30T18:29:37.618595Z",
     "shell.execute_reply": "2023-10-30T18:29:37.618196Z"
    },
    "papermill": {
     "duration": 0.17302,
     "end_time": "2023-10-30T18:29:37.619518",
     "exception": false,
     "start_time": "2023-10-30T18:29:37.446498",
     "status": "completed"
    },
    "tags": []
   },
   "outputs": [
    {
     "name": "stdout",
     "output_type": "stream",
     "text": [
      "              precision    recall  f1-score   support\n",
      "\n",
      "           0       0.87      0.91      0.89     18736\n",
      "           1       0.83      0.77      0.80     10999\n",
      "\n",
      "    accuracy                           0.86     29735\n",
      "   macro avg       0.85      0.84      0.84     29735\n",
      "weighted avg       0.85      0.86      0.85     29735\n",
      "\n"
     ]
    }
   ],
   "source": [
    "stats, recall, precision, f1, precision_, recall_, threshold_ = output_stats(\n",
    "    y_pred_list,\n",
    "    Y_test,\n",
    "    mlp_params,\n",
    "    y_pred_prob_list,\n",
    "    test_name=f\"{mlp_params.MODEL_NAME}_test\",\n",
    "    model_name=mlp_params.MODEL_NAME,\n",
    "    title=mlp_params.MODEL_NAME,\n",
    "    shuffle=mlp_params.SHUFFLE,\n",
    ")"
   ]
  },
  {
   "cell_type": "code",
   "execution_count": 28,
   "id": "5e49a4d0",
   "metadata": {
    "execution": {
     "iopub.execute_input": "2023-10-30T18:29:37.641266Z",
     "iopub.status.busy": "2023-10-30T18:29:37.641016Z",
     "iopub.status.idle": "2023-10-30T18:29:37.650686Z",
     "shell.execute_reply": "2023-10-30T18:29:37.650189Z"
    },
    "papermill": {
     "duration": 0.021669,
     "end_time": "2023-10-30T18:29:37.651659",
     "exception": false,
     "start_time": "2023-10-30T18:29:37.629990",
     "status": "completed"
    },
    "tags": []
   },
   "outputs": [],
   "source": [
    "threshold_ = np.append(threshold_, None)\n",
    "stats_df = pd.DataFrame(\n",
    "    {\n",
    "        \"PR_Threshold\": threshold_,\n",
    "        \"Precision\": precision_,\n",
    "        \"Recall\": recall_,\n",
    "    }\n",
    ")\n",
    "\n",
    "stats_df[\"treatments_tested\"] = (\n",
    "    mlp_params.CONTROL_NAME + \" vs. \" + mlp_params.TREATMENT_NAME\n",
    ")\n",
    "stats_df[\"model\"] = mlp_params.MODEL_NAME\n",
    "stats_df[\"group\"] = \"test\"\n",
    "stats_df[\"shuffled_data\"] = mlp_params.SHUFFLE\n",
    "\n",
    "model_stats_df = pd.concat([model_stats_df, stats_df], axis=0)"
   ]
  },
  {
   "cell_type": "markdown",
   "id": "bd07fbb7",
   "metadata": {
    "papermill": {
     "duration": 0.010204,
     "end_time": "2023-10-30T18:29:37.672183",
     "exception": false,
     "start_time": "2023-10-30T18:29:37.661979",
     "status": "completed"
    },
    "tags": []
   },
   "source": [
    "## Test the hold out wells"
   ]
  },
  {
   "cell_type": "code",
   "execution_count": 29,
   "id": "139582e1",
   "metadata": {
    "execution": {
     "iopub.execute_input": "2023-10-30T18:29:37.693860Z",
     "iopub.status.busy": "2023-10-30T18:29:37.693447Z",
     "iopub.status.idle": "2023-10-30T18:29:37.781445Z",
     "shell.execute_reply": "2023-10-30T18:29:37.780939Z"
    },
    "papermill": {
     "duration": 0.100164,
     "end_time": "2023-10-30T18:29:37.782631",
     "exception": false,
     "start_time": "2023-10-30T18:29:37.682467",
     "status": "completed"
    },
    "tags": []
   },
   "outputs": [],
   "source": [
    "# Code snippet for metadata extraction by Jenna Tomkinson\n",
    "df_metadata = list(df_holdout.columns[df_holdout.columns.str.startswith(\"Metadata\")])\n",
    "\n",
    "# define which columns are data and which are descriptive\n",
    "df_descriptive = df_holdout[df_metadata]\n",
    "df_values = df_holdout.drop(columns=df_metadata)"
   ]
  },
  {
   "cell_type": "code",
   "execution_count": 30,
   "id": "b6b929e3",
   "metadata": {
    "execution": {
     "iopub.execute_input": "2023-10-30T18:29:37.804598Z",
     "iopub.status.busy": "2023-10-30T18:29:37.804329Z",
     "iopub.status.idle": "2023-10-30T18:29:37.889762Z",
     "shell.execute_reply": "2023-10-30T18:29:37.889256Z"
    },
    "papermill": {
     "duration": 0.097694,
     "end_time": "2023-10-30T18:29:37.890915",
     "exception": false,
     "start_time": "2023-10-30T18:29:37.793221",
     "status": "completed"
    },
    "tags": []
   },
   "outputs": [],
   "source": [
    "# Creating label encoder\n",
    "le = preprocessing.LabelEncoder()\n",
    "# Converting strings into numbers\n",
    "df_values[\"oneb_Metadata_Treatment_Dose_Inhibitor_Dose\"] = le.fit_transform(\n",
    "    df_values[\"oneb_Metadata_Treatment_Dose_Inhibitor_Dose\"]\n",
    ")\n",
    "# split into X and Y where Y are the predictive column and x are the observable data\n",
    "df_values_X = df_values.drop(\n",
    "    [\n",
    "        \"oneb_Metadata_Treatment_Dose_Inhibitor_Dose\",\n",
    "        \"twob_Metadata_Treatment_Dose_Inhibitor_Dose\",\n",
    "        \"threeb_Metadata_Treatment_Dose_Inhibitor_Dose\",\n",
    "        \"fourb_Metadata_Treatment_Dose_Inhibitor_Dose\",\n",
    "    ],\n",
    "    axis=1,\n",
    ")\n",
    "df_values_Y = df_values[\"oneb_Metadata_Treatment_Dose_Inhibitor_Dose\"]"
   ]
  },
  {
   "cell_type": "code",
   "execution_count": 31,
   "id": "3c45de2b",
   "metadata": {
    "execution": {
     "iopub.execute_input": "2023-10-30T18:29:37.912772Z",
     "iopub.status.busy": "2023-10-30T18:29:37.912492Z",
     "iopub.status.idle": "2023-10-30T18:29:45.608505Z",
     "shell.execute_reply": "2023-10-30T18:29:45.607946Z"
    },
    "papermill": {
     "duration": 7.708109,
     "end_time": "2023-10-30T18:29:45.609530",
     "exception": false,
     "start_time": "2023-10-30T18:29:37.901421",
     "status": "completed"
    },
    "tags": []
   },
   "outputs": [
    {
     "name": "stdout",
     "output_type": "stream",
     "text": [
      "DMSO_0.025_vs_Thapsigargin_1\n"
     ]
    },
    {
     "name": "stdout",
     "output_type": "stream",
     "text": [
      "              precision    recall  f1-score   support\n",
      "\n",
      "           0       0.74      0.81      0.78     27774\n",
      "           1       0.85      0.80      0.83     38465\n",
      "\n",
      "    accuracy                           0.80     66239\n",
      "   macro avg       0.80      0.81      0.80     66239\n",
      "weighted avg       0.81      0.80      0.80     66239\n",
      "\n"
     ]
    },
    {
     "data": {
      "image/png": "[encoded data removed]",
      "text/plain": [
       "<Figure size 640x480 with 2 Axes>"
      ]
     },
     "metadata": {},
     "output_type": "display_data"
    },
    {
     "data": {
      "image/png": "[encoded data removed]",
      "text/plain": [
       "<Figure size 550x400 with 1 Axes>"
      ]
     },
     "metadata": {},
     "output_type": "display_data"
    }
   ],
   "source": [
    "test_data = Dataset_formatter(\n",
    "    torch.FloatTensor(df_values_X.values), torch.FloatTensor(df_values_Y.values)\n",
    ")\n",
    "\n",
    "# convert data class into a dataloader to be compatible with pytorch\n",
    "test_loader = torch.utils.data.DataLoader(\n",
    "    dataset=test_data, batch_size=1, shuffle=mlp_params.SHUFFLE\n",
    ")\n",
    "\n",
    "# calling the testing function and outputting list values of tested model\n",
    "if any(\n",
    "    model_type == mlp_params.MODEL_TYPE for model_type in [\"Multi_Class\", \"Regression\"]\n",
    "):\n",
    "    y_pred_list = test_optimized_model(\n",
    "        model,\n",
    "        test_loader,\n",
    "        params,\n",
    "        model_name=mlp_params.MODEL_NAME,\n",
    "        shuffle=mlp_params.SHUFFLE,\n",
    "    )\n",
    "elif mlp_params.MODEL_TYPE == \"Binary_Classification\":\n",
    "    y_pred_list, y_pred_prob_list = test_optimized_model(\n",
    "        model,\n",
    "        test_loader,\n",
    "        params,\n",
    "        model_name=mlp_params.MODEL_NAME,\n",
    "        shuffle=mlp_params.SHUFFLE,\n",
    "    )\n",
    "else:\n",
    "    raise Exception(\"Model type must be specified for proper model testing\")\n",
    "\n",
    "# un-nest list if nested i.e. length of input data does not match length of output data\n",
    "if len(y_pred_list) != len(df_values_Y):\n",
    "    y_pred_list = un_nest(y_pred_list)\n",
    "    y_pred_prob_list = un_nest(y_pred_prob_list)\n",
    "else:\n",
    "    pass\n",
    "\n",
    "# Call visualization function\n",
    "# calling the testing function and outputing list values of tested model\n",
    "if any(\n",
    "    model_type == mlp_params.MODEL_TYPE for model_type in [\"Multi_Class\", \"Regression\"]\n",
    "):\n",
    "    confusion_matrix_df = results_output(\n",
    "        y_pred_list,\n",
    "        df_values_Y,\n",
    "        params,\n",
    "        test_name=f\"{mlp_params.MODEL_NAME}_hold_out\",\n",
    "        model_name=mlp_params.MODEL_NAME,\n",
    "        title=mlp_params.MODEL_NAME,\n",
    "        shuffle=mlp_params.SHUFFLE,\n",
    "    )\n",
    "elif mlp_params.MODEL_TYPE == \"Binary_Classification\":\n",
    "    results_output(\n",
    "        y_pred_list,\n",
    "        df_values_Y,\n",
    "        params,\n",
    "        y_pred_prob_list,\n",
    "        test_name=f\"{mlp_params.MODEL_NAME}_hold_out\",\n",
    "        model_name=mlp_params.MODEL_NAME,\n",
    "        title=mlp_params.MODEL_NAME,\n",
    "        shuffle=mlp_params.SHUFFLE,\n",
    "    )\n",
    "else:\n",
    "    raise Exception(\"Model type must be specified for proper model testing\")"
   ]
  },
  {
   "cell_type": "code",
   "execution_count": 32,
   "id": "d9c38144",
   "metadata": {
    "execution": {
     "iopub.execute_input": "2023-10-30T18:29:45.639548Z",
     "iopub.status.busy": "2023-10-30T18:29:45.638905Z",
     "iopub.status.idle": "2023-10-30T18:29:45.944300Z",
     "shell.execute_reply": "2023-10-30T18:29:45.943832Z"
    },
    "papermill": {
     "duration": 0.318452,
     "end_time": "2023-10-30T18:29:45.945299",
     "exception": false,
     "start_time": "2023-10-30T18:29:45.626847",
     "status": "completed"
    },
    "tags": []
   },
   "outputs": [
    {
     "name": "stdout",
     "output_type": "stream",
     "text": [
      "              precision    recall  f1-score   support\n",
      "\n",
      "           0       0.74      0.81      0.78     27774\n",
      "           1       0.85      0.80      0.83     38465\n",
      "\n",
      "    accuracy                           0.80     66239\n",
      "   macro avg       0.80      0.81      0.80     66239\n",
      "weighted avg       0.81      0.80      0.80     66239\n",
      "\n"
     ]
    }
   ],
   "source": [
    "stats, recall, precision, f1, precision_, recall_, threshold_ = output_stats(\n",
    "    y_pred_list,\n",
    "    df_values_Y,\n",
    "    mlp_params,\n",
    "    y_pred_prob_list,\n",
    "    test_name=f\"{mlp_params.MODEL_NAME}_hold_out\",\n",
    "    model_name=mlp_params.MODEL_NAME,\n",
    "    title=mlp_params.MODEL_NAME,\n",
    "    shuffle=mlp_params.SHUFFLE,\n",
    ")"
   ]
  },
  {
   "cell_type": "code",
   "execution_count": 33,
   "id": "61319294",
   "metadata": {
    "execution": {
     "iopub.execute_input": "2023-10-30T18:29:45.969248Z",
     "iopub.status.busy": "2023-10-30T18:29:45.968863Z",
     "iopub.status.idle": "2023-10-30T18:29:45.980738Z",
     "shell.execute_reply": "2023-10-30T18:29:45.980196Z"
    },
    "papermill": {
     "duration": 0.025226,
     "end_time": "2023-10-30T18:29:45.982057",
     "exception": false,
     "start_time": "2023-10-30T18:29:45.956831",
     "status": "completed"
    },
    "tags": []
   },
   "outputs": [],
   "source": [
    "threshold_ = np.append(threshold_, None)\n",
    "stats_df = pd.DataFrame(\n",
    "    {\n",
    "        \"PR_Threshold\": threshold_,\n",
    "        \"Precision\": precision_,\n",
    "        \"Recall\": recall_,\n",
    "    }\n",
    ")\n",
    "\n",
    "stats_df[\"treatments_tested\"] = (\n",
    "    mlp_params.CONTROL_NAME + \" vs. \" + mlp_params.TREATMENT_NAME\n",
    ")\n",
    "stats_df[\"model\"] = mlp_params.MODEL_NAME\n",
    "stats_df[\"group\"] = \"holdout\"\n",
    "stats_df[\"shuffled_data\"] = mlp_params.SHUFFLE\n",
    "\n",
    "model_stats_df = pd.concat([model_stats_df, stats_df], axis=0)"
   ]
  },
  {
   "cell_type": "code",
   "execution_count": 34,
   "id": "c9468255",
   "metadata": {
    "execution": {
     "iopub.execute_input": "2023-10-30T18:29:46.006916Z",
     "iopub.status.busy": "2023-10-30T18:29:46.006577Z",
     "iopub.status.idle": "2023-10-30T18:29:46.015651Z",
     "shell.execute_reply": "2023-10-30T18:29:46.015257Z"
    },
    "papermill": {
     "duration": 0.022019,
     "end_time": "2023-10-30T18:29:46.016609",
     "exception": false,
     "start_time": "2023-10-30T18:29:45.994590",
     "status": "completed"
    },
    "tags": []
   },
   "outputs": [
    {
     "data": {
      "text/html": [
       "<div>\n",
       "<style scoped>\n",
       "    .dataframe tbody tr th:only-of-type {\n",
       "        vertical-align: middle;\n",
       "    }\n",
       "\n",
       "    .dataframe tbody tr th {\n",
       "        vertical-align: top;\n",
       "    }\n",
       "\n",
       "    .dataframe thead th {\n",
       "        text-align: right;\n",
       "    }\n",
       "</style>\n",
       "<table border=\"1\" class=\"dataframe\">\n",
       "  <thead>\n",
       "    <tr style=\"text-align: right;\">\n",
       "      <th></th>\n",
       "      <th>treatments_tested</th>\n",
       "      <th>model</th>\n",
       "      <th>group</th>\n",
       "      <th>shuffled_data</th>\n",
       "      <th>PR_Threshold</th>\n",
       "      <th>Precision</th>\n",
       "      <th>Recall</th>\n",
       "    </tr>\n",
       "  </thead>\n",
       "  <tbody>\n",
       "    <tr>\n",
       "      <th>0</th>\n",
       "      <td>DMSO_0.100_%_DMSO_0.025_% vs. Thapsigargin_1.0...</td>\n",
       "      <td>DMSO_0.025_vs_Thapsigargin_1</td>\n",
       "      <td>train</td>\n",
       "      <td>False</td>\n",
       "      <td>0.0</td>\n",
       "      <td>0.369910</td>\n",
       "      <td>1.000000</td>\n",
       "    </tr>\n",
       "    <tr>\n",
       "      <th>1</th>\n",
       "      <td>DMSO_0.100_%_DMSO_0.025_% vs. Thapsigargin_1.0...</td>\n",
       "      <td>DMSO_0.025_vs_Thapsigargin_1</td>\n",
       "      <td>train</td>\n",
       "      <td>False</td>\n",
       "      <td>0.0</td>\n",
       "      <td>0.369939</td>\n",
       "      <td>1.000000</td>\n",
       "    </tr>\n",
       "    <tr>\n",
       "      <th>2</th>\n",
       "      <td>DMSO_0.100_%_DMSO_0.025_% vs. Thapsigargin_1.0...</td>\n",
       "      <td>DMSO_0.025_vs_Thapsigargin_1</td>\n",
       "      <td>train</td>\n",
       "      <td>False</td>\n",
       "      <td>0.0</td>\n",
       "      <td>0.369941</td>\n",
       "      <td>1.000000</td>\n",
       "    </tr>\n",
       "    <tr>\n",
       "      <th>3</th>\n",
       "      <td>DMSO_0.100_%_DMSO_0.025_% vs. Thapsigargin_1.0...</td>\n",
       "      <td>DMSO_0.025_vs_Thapsigargin_1</td>\n",
       "      <td>train</td>\n",
       "      <td>False</td>\n",
       "      <td>0.0</td>\n",
       "      <td>0.369942</td>\n",
       "      <td>1.000000</td>\n",
       "    </tr>\n",
       "    <tr>\n",
       "      <th>4</th>\n",
       "      <td>DMSO_0.100_%_DMSO_0.025_% vs. Thapsigargin_1.0...</td>\n",
       "      <td>DMSO_0.025_vs_Thapsigargin_1</td>\n",
       "      <td>train</td>\n",
       "      <td>False</td>\n",
       "      <td>0.0</td>\n",
       "      <td>0.369944</td>\n",
       "      <td>1.000000</td>\n",
       "    </tr>\n",
       "    <tr>\n",
       "      <th>...</th>\n",
       "      <td>...</td>\n",
       "      <td>...</td>\n",
       "      <td>...</td>\n",
       "      <td>...</td>\n",
       "      <td>...</td>\n",
       "      <td>...</td>\n",
       "      <td>...</td>\n",
       "    </tr>\n",
       "    <tr>\n",
       "      <th>62802</th>\n",
       "      <td>DMSO_0.100_%_DMSO_0.025_% vs. Thapsigargin_1.0...</td>\n",
       "      <td>DMSO_0.025_vs_Thapsigargin_1</td>\n",
       "      <td>holdout</td>\n",
       "      <td>False</td>\n",
       "      <td>0.999983</td>\n",
       "      <td>0.714286</td>\n",
       "      <td>0.000130</td>\n",
       "    </tr>\n",
       "    <tr>\n",
       "      <th>62803</th>\n",
       "      <td>DMSO_0.100_%_DMSO_0.025_% vs. Thapsigargin_1.0...</td>\n",
       "      <td>DMSO_0.025_vs_Thapsigargin_1</td>\n",
       "      <td>holdout</td>\n",
       "      <td>False</td>\n",
       "      <td>0.999986</td>\n",
       "      <td>0.666667</td>\n",
       "      <td>0.000104</td>\n",
       "    </tr>\n",
       "    <tr>\n",
       "      <th>62804</th>\n",
       "      <td>DMSO_0.100_%_DMSO_0.025_% vs. Thapsigargin_1.0...</td>\n",
       "      <td>DMSO_0.025_vs_Thapsigargin_1</td>\n",
       "      <td>holdout</td>\n",
       "      <td>False</td>\n",
       "      <td>0.999997</td>\n",
       "      <td>0.600000</td>\n",
       "      <td>0.000078</td>\n",
       "    </tr>\n",
       "    <tr>\n",
       "      <th>62805</th>\n",
       "      <td>DMSO_0.100_%_DMSO_0.025_% vs. Thapsigargin_1.0...</td>\n",
       "      <td>DMSO_0.025_vs_Thapsigargin_1</td>\n",
       "      <td>holdout</td>\n",
       "      <td>False</td>\n",
       "      <td>1.0</td>\n",
       "      <td>0.500000</td>\n",
       "      <td>0.000052</td>\n",
       "    </tr>\n",
       "    <tr>\n",
       "      <th>62806</th>\n",
       "      <td>DMSO_0.100_%_DMSO_0.025_% vs. Thapsigargin_1.0...</td>\n",
       "      <td>DMSO_0.025_vs_Thapsigargin_1</td>\n",
       "      <td>holdout</td>\n",
       "      <td>False</td>\n",
       "      <td>None</td>\n",
       "      <td>1.000000</td>\n",
       "      <td>0.000000</td>\n",
       "    </tr>\n",
       "  </tbody>\n",
       "</table>\n",
       "<p>338648 rows × 7 columns</p>\n",
       "</div>"
      ],
      "text/plain": [
       "                                       treatments_tested  \\\n",
       "0      DMSO_0.100_%_DMSO_0.025_% vs. Thapsigargin_1.0...   \n",
       "1      DMSO_0.100_%_DMSO_0.025_% vs. Thapsigargin_1.0...   \n",
       "2      DMSO_0.100_%_DMSO_0.025_% vs. Thapsigargin_1.0...   \n",
       "3      DMSO_0.100_%_DMSO_0.025_% vs. Thapsigargin_1.0...   \n",
       "4      DMSO_0.100_%_DMSO_0.025_% vs. Thapsigargin_1.0...   \n",
       "...                                                  ...   \n",
       "62802  DMSO_0.100_%_DMSO_0.025_% vs. Thapsigargin_1.0...   \n",
       "62803  DMSO_0.100_%_DMSO_0.025_% vs. Thapsigargin_1.0...   \n",
       "62804  DMSO_0.100_%_DMSO_0.025_% vs. Thapsigargin_1.0...   \n",
       "62805  DMSO_0.100_%_DMSO_0.025_% vs. Thapsigargin_1.0...   \n",
       "62806  DMSO_0.100_%_DMSO_0.025_% vs. Thapsigargin_1.0...   \n",
       "\n",
       "                              model    group shuffled_data PR_Threshold  \\\n",
       "0      DMSO_0.025_vs_Thapsigargin_1    train         False          0.0   \n",
       "1      DMSO_0.025_vs_Thapsigargin_1    train         False          0.0   \n",
       "2      DMSO_0.025_vs_Thapsigargin_1    train         False          0.0   \n",
       "3      DMSO_0.025_vs_Thapsigargin_1    train         False          0.0   \n",
       "4      DMSO_0.025_vs_Thapsigargin_1    train         False          0.0   \n",
       "...                             ...      ...           ...          ...   \n",
       "62802  DMSO_0.025_vs_Thapsigargin_1  holdout         False     0.999983   \n",
       "62803  DMSO_0.025_vs_Thapsigargin_1  holdout         False     0.999986   \n",
       "62804  DMSO_0.025_vs_Thapsigargin_1  holdout         False     0.999997   \n",
       "62805  DMSO_0.025_vs_Thapsigargin_1  holdout         False          1.0   \n",
       "62806  DMSO_0.025_vs_Thapsigargin_1  holdout         False         None   \n",
       "\n",
       "       Precision    Recall  \n",
       "0       0.369910  1.000000  \n",
       "1       0.369939  1.000000  \n",
       "2       0.369941  1.000000  \n",
       "3       0.369942  1.000000  \n",
       "4       0.369944  1.000000  \n",
       "...          ...       ...  \n",
       "62802   0.714286  0.000130  \n",
       "62803   0.666667  0.000104  \n",
       "62804   0.600000  0.000078  \n",
       "62805   0.500000  0.000052  \n",
       "62806   1.000000  0.000000  \n",
       "\n",
       "[338648 rows x 7 columns]"
      ]
     },
     "execution_count": 34,
     "metadata": {},
     "output_type": "execute_result"
    }
   ],
   "source": [
    "model_stats_df"
   ]
  },
  {
   "cell_type": "code",
   "execution_count": 35,
   "id": "e1e4b224",
   "metadata": {
    "execution": {
     "iopub.execute_input": "2023-10-30T18:29:46.040841Z",
     "iopub.status.busy": "2023-10-30T18:29:46.040544Z",
     "iopub.status.idle": "2023-10-30T18:29:50.121398Z",
     "shell.execute_reply": "2023-10-30T18:29:50.120890Z"
    },
    "papermill": {
     "duration": 4.094214,
     "end_time": "2023-10-30T18:29:50.122691",
     "exception": false,
     "start_time": "2023-10-30T18:29:46.028477",
     "status": "completed"
    },
    "tags": []
   },
   "outputs": [],
   "source": [
    "# set path for the model training metrics\n",
    "metrics_path = pathlib.Path(\n",
    "    f\"../../results/{mlp_params.MODEL_TYPE}/{mlp_params.MODEL_NAME}/{mlp_params.CELL_TYPE}\"\n",
    ")\n",
    "metrics_path.mkdir(parents=True, exist_ok=True)\n",
    "# check if the model training metrics file exists\n",
    "metrics_file = pathlib.Path(f\"{metrics_path}/training_metrics.csv\")\n",
    "if metrics_file.exists():\n",
    "    metrics_df = pd.read_csv(metrics_file)\n",
    "    if len(metrics_df[\"shuffled_data\"].unique()) > 1:\n",
    "        pass\n",
    "    elif metrics_df[\"shuffled_data\"].unique() == mlp_params.SHUFFLE:\n",
    "        pass\n",
    "    else:\n",
    "        metrics_df = pd.concat([metrics_df, model_stats_df], axis=0)\n",
    "        metrics_df.to_csv(metrics_file, index=False)\n",
    "else:\n",
    "    model_stats_df.to_csv(metrics_file, index=False)"
   ]
  }
 ],
 "metadata": {
  "kernelspec": {
   "display_name": "Interstellar",
   "language": "python",
   "name": "python3"
  },
  "language_info": {
   "codemirror_mode": {
    "name": "ipython",
    "version": 3
   },
   "file_extension": ".py",
   "mimetype": "text/x-python",
   "name": "python",
   "nbconvert_exporter": "python",
   "pygments_lexer": "ipython3",
   "version": "3.10.12"
  },
  "papermill": {
   "default_parameters": {},
   "duration": 509.073726,
   "end_time": "2023-10-30T18:29:50.857616",
   "environment_variables": {},
   "exception": null,
   "input_path": "train_binary_model.ipynb",
   "output_path": "train_binary_model.ipynb",
   "parameters": {
    "CELL_TYPE": "PBMC",
    "CONTROL_NAME": "DMSO_0.100_%_DMSO_0.025_%",
    "MODEL_NAME": "DMSO_0.025_vs_Thapsigargin_1",
    "SHUFFLE": false,
    "TREATMENT_NAME": "Thapsigargin_1.000_uM_DMSO_0.025_%"
   },
   "start_time": "2023-10-30T18:21:21.783890",
   "version": "2.4.0"
  }
 },
 "nbformat": 4,
 "nbformat_minor": 5
}