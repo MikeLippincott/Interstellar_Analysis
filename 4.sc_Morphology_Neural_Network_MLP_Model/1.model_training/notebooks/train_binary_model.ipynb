{
 "cells": [
  {
   "cell_type": "code",
   "execution_count": 1,
   "id": "76db0f62",
   "metadata": {
    "execution": {
     "iopub.execute_input": "2023-08-18T18:00:52.919308Z",
     "iopub.status.busy": "2023-08-18T18:00:52.918885Z",
     "iopub.status.idle": "2023-08-18T18:00:56.664384Z",
     "shell.execute_reply": "2023-08-18T18:00:56.663824Z"
    },
    "papermill": {
     "duration": 3.754764,
     "end_time": "2023-08-18T18:00:56.666290",
     "exception": false,
     "start_time": "2023-08-18T18:00:52.911526",
     "status": "completed"
    },
    "tags": []
   },
   "outputs": [],
   "source": [
    "import pathlib\n",
    "import sys\n",
    "\n",
    "import numpy as np\n",
    "import optuna\n",
    "import pandas as pd\n",
    "import pyarrow.parquet as pq\n",
    "import toml\n",
    "import torch\n",
    "from sklearn import preprocessing\n",
    "\n",
    "sys.path.append(\"../..\")\n",
    "\n",
    "import json\n",
    "\n",
    "from MLP_utils.parameters import Parameters\n",
    "from MLP_utils.utils import (\n",
    "    Dataset_formatter,\n",
    "    data_split,\n",
    "    extract_best_trial_params,\n",
    "    objective_model_optimizer,\n",
    "    optimized_model_create,\n",
    "    output_stats,\n",
    "    parameter_set,\n",
    "    plot_metric_vs_epoch,\n",
    "    results_output,\n",
    "    test_optimized_model,\n",
    "    train_optimized_model,\n",
    "    un_nest,\n",
    ")\n",
    "\n",
    "sys.path.append(\"../../..\")\n",
    "from utils.utils import df_stats"
   ]
  },
  {
   "cell_type": "code",
   "execution_count": null,
   "id": "a166ad32",
   "metadata": {
    "papermill": {
     "duration": 0.004941,
     "end_time": "2023-08-18T18:00:56.679405",
     "exception": false,
     "start_time": "2023-08-18T18:00:56.674464",
     "status": "completed"
    },
    "tags": []
   },
   "outputs": [],
   "source": []
  },
  {
   "cell_type": "markdown",
   "id": "7773f676",
   "metadata": {
    "papermill": {
     "duration": 0.004869,
     "end_time": "2023-08-18T18:00:56.689190",
     "exception": false,
     "start_time": "2023-08-18T18:00:56.684321",
     "status": "completed"
    },
    "tags": []
   },
   "source": [
    "## Papermill is used for executing notebooks in the CLI with multiple parameters\n",
    "Here the `injected-parameters` cell is used to inject parameters into the notebook via papermill.\n",
    "This enables multiple notebooks to be executed with different parameters, preventing to manually update parameters or have multiple copies of the notebook."
   ]
  },
  {
   "cell_type": "code",
   "execution_count": 2,
   "id": "12041446",
   "metadata": {
    "execution": {
     "iopub.execute_input": "2023-08-18T18:00:56.700058Z",
     "iopub.status.busy": "2023-08-18T18:00:56.699710Z",
     "iopub.status.idle": "2023-08-18T18:00:56.702683Z",
     "shell.execute_reply": "2023-08-18T18:00:56.702230Z"
    },
    "papermill": {
     "duration": 0.009461,
     "end_time": "2023-08-18T18:00:56.703583",
     "exception": false,
     "start_time": "2023-08-18T18:00:56.694122",
     "status": "completed"
    },
    "tags": [
     "injected-parameters"
    ]
   },
   "outputs": [],
   "source": [
    "# Parameters\n",
    "CELL_TYPE = \"PBMC\"\n",
    "CONTROL_NAME = \"DMSO_0.100_DMSO_0.025\"\n",
    "TREATMENT_NAME = \"Thapsigargin_1.000_DMSO_0.025\"\n",
    "MODEL_NAME = \"DMSO_0.025_vs_Thapsigargin_1\"\n",
    "SHUFFLE = False"
   ]
  },
  {
   "cell_type": "code",
   "execution_count": 3,
   "id": "7fe861fc",
   "metadata": {
    "execution": {
     "iopub.execute_input": "2023-08-18T18:00:56.714771Z",
     "iopub.status.busy": "2023-08-18T18:00:56.714251Z",
     "iopub.status.idle": "2023-08-18T18:00:56.718773Z",
     "shell.execute_reply": "2023-08-18T18:00:56.718327Z"
    },
    "papermill": {
     "duration": 0.011761,
     "end_time": "2023-08-18T18:00:56.720411",
     "exception": false,
     "start_time": "2023-08-18T18:00:56.708650",
     "status": "completed"
    },
    "tags": []
   },
   "outputs": [],
   "source": [
    "ml_configs_file = pathlib.Path(\"../../MLP_utils/binary_config.toml\").resolve(\n",
    "    strict=True\n",
    ")\n",
    "ml_configs = toml.load(ml_configs_file)\n",
    "params = Parameters()\n",
    "mlp_params = parameter_set(params, ml_configs)\n",
    "\n",
    "# overwrite params via command line arguments from papermill\n",
    "mlp_params.CELL_TYPE = CELL_TYPE\n",
    "mlp_params.MODEL_NAME = MODEL_NAME\n",
    "mlp_params.CONTROL_NAME = CONTROL_NAME\n",
    "mlp_params.TREATMENT_NAME = TREATMENT_NAME\n",
    "mlp_params.MODEL_NAME = MODEL_NAME\n",
    "mlp_params.SHUFFLE = SHUFFLE"
   ]
  },
  {
   "cell_type": "code",
   "execution_count": 4,
   "id": "5f05b3f4",
   "metadata": {
    "execution": {
     "iopub.execute_input": "2023-08-18T18:00:56.732863Z",
     "iopub.status.busy": "2023-08-18T18:00:56.732403Z",
     "iopub.status.idle": "2023-08-18T18:02:17.289940Z",
     "shell.execute_reply": "2023-08-18T18:02:17.289395Z"
    },
    "papermill": {
     "duration": 80.565044,
     "end_time": "2023-08-18T18:02:17.291724",
     "exception": false,
     "start_time": "2023-08-18T18:00:56.726680",
     "status": "completed"
    },
    "tags": []
   },
   "outputs": [],
   "source": [
    "# Import Data\n",
    "# set data file path under pathlib path for multi-system use\n",
    "\n",
    "file_path = pathlib.Path(\n",
    "    f\"../../../data/{mlp_params.CELL_TYPE}_preprocessed_sc_norm.parquet\"\n",
    ").resolve(strict=True)\n",
    "\n",
    "df = pq.read_table(file_path).to_pandas()"
   ]
  },
  {
   "cell_type": "code",
   "execution_count": 5,
   "id": "0e93ecae",
   "metadata": {
    "execution": {
     "iopub.execute_input": "2023-08-18T18:02:17.334058Z",
     "iopub.status.busy": "2023-08-18T18:02:17.333713Z",
     "iopub.status.idle": "2023-08-18T18:02:17.336206Z",
     "shell.execute_reply": "2023-08-18T18:02:17.335835Z"
    },
    "papermill": {
     "duration": 0.009341,
     "end_time": "2023-08-18T18:02:17.337078",
     "exception": false,
     "start_time": "2023-08-18T18:02:17.327737",
     "status": "completed"
    },
    "tags": []
   },
   "outputs": [],
   "source": [
    "# # change model name to match shuffle\n",
    "# if mlp_params.SHUFFLE:\n",
    "#     mlp_params.MODEL_NAME = f'{mlp_params.MODEL_NAME}_shuffle'\n",
    "# elif mlp_params.SHUFFLE != True:\n",
    "#     pass\n",
    "# else:\n",
    "#     raise ValueError('SHUFFLE must be True or False')"
   ]
  },
  {
   "cell_type": "markdown",
   "id": "7c5e28b5",
   "metadata": {
    "papermill": {
     "duration": 0.004845,
     "end_time": "2023-08-18T18:02:17.346967",
     "exception": false,
     "start_time": "2023-08-18T18:02:17.342122",
     "status": "completed"
    },
    "tags": []
   },
   "source": [
    "#### Set up Data to be compatible with model"
   ]
  },
  {
   "cell_type": "markdown",
   "id": "5efd38f4",
   "metadata": {
    "papermill": {
     "duration": 0.004824,
     "end_time": "2023-08-18T18:02:17.356767",
     "exception": false,
     "start_time": "2023-08-18T18:02:17.351943",
     "status": "completed"
    },
    "tags": []
   },
   "source": [
    "##### Classification Models:\n",
    "Comment out code if using regression"
   ]
  },
  {
   "cell_type": "code",
   "execution_count": 6,
   "id": "892c99cb",
   "metadata": {
    "execution": {
     "iopub.execute_input": "2023-08-18T18:02:17.367529Z",
     "iopub.status.busy": "2023-08-18T18:02:17.367201Z",
     "iopub.status.idle": "2023-08-18T18:02:18.678324Z",
     "shell.execute_reply": "2023-08-18T18:02:18.677713Z"
    },
    "papermill": {
     "duration": 1.317665,
     "end_time": "2023-08-18T18:02:18.679369",
     "exception": false,
     "start_time": "2023-08-18T18:02:17.361704",
     "status": "completed"
    },
    "tags": []
   },
   "outputs": [
    {
     "name": "stdout",
     "output_type": "stream",
     "text": [
      "Selected Catagories are:\n",
      "['DMSO_0.100_DMSO_0.025' 'Thapsigargin_1.000_DMSO_0.025']\n",
      "The dimensions of the data are: (363586, 1270)\n"
     ]
    },
    {
     "name": "stdout",
     "output_type": "stream",
     "text": [
      "Number of total missing values across all columns: 727172\n",
      "Data Subset Is Off\n"
     ]
    }
   ],
   "source": [
    "# filter the oneb_Metadata_Treatment_Dose_Inhibitor_Dose column to only include the treatment and control via loc\n",
    "df = df.loc[\n",
    "    df[\"oneb_Metadata_Treatment_Dose_Inhibitor_Dose\"].isin(\n",
    "        [mlp_params.TREATMENT_NAME, mlp_params.CONTROL_NAME]\n",
    "    )\n",
    "]\n",
    "\n",
    "\n",
    "print(\"Selected Catagories are:\")\n",
    "print(df[\"oneb_Metadata_Treatment_Dose_Inhibitor_Dose\"].unique())\n",
    "df_stats(df)\n",
    "\n",
    "if mlp_params.DATA_SUBSET_OPTION == \"True\":\n",
    "    df = df.sample(n=mlp_params.DATA_SUBSET_NUMBER)\n",
    "    print(\"Data Subset Is On\")\n",
    "    print(f\"Data is subset to {mlp_params.DATA_SUBSET_NUMBER}\")\n",
    "else:\n",
    "    print(\"Data Subset Is Off\")"
   ]
  },
  {
   "cell_type": "code",
   "execution_count": 7,
   "id": "4717fd07",
   "metadata": {
    "execution": {
     "iopub.execute_input": "2023-08-18T18:02:18.691273Z",
     "iopub.status.busy": "2023-08-18T18:02:18.690817Z",
     "iopub.status.idle": "2023-08-18T18:02:22.031593Z",
     "shell.execute_reply": "2023-08-18T18:02:22.030921Z"
    },
    "papermill": {
     "duration": 3.347598,
     "end_time": "2023-08-18T18:02:22.032670",
     "exception": false,
     "start_time": "2023-08-18T18:02:18.685072",
     "status": "completed"
    },
    "tags": []
   },
   "outputs": [
    {
     "name": "stdout",
     "output_type": "stream",
     "text": [
      "Wells held out for testing: ['J06' 'K07']\n",
      "Wells to use for training, validation, and testing ['B06' 'C06' 'B07' 'C07' 'D06' 'D07' 'I06' 'I07' 'K06' 'J07']\n"
     ]
    }
   ],
   "source": [
    "np.random.seed(seed=0)\n",
    "wells_to_hold = (\n",
    "    df.groupby(\"oneb_Metadata_Treatment_Dose_Inhibitor_Dose\")\n",
    "    .agg(np.random.choice)[\"Metadata_Well\"]\n",
    "    .to_list()\n",
    ")\n",
    "df_holdout = df[df[\"Metadata_Well\"].isin(wells_to_hold)]\n",
    "df = df[~df[\"Metadata_Well\"].isin(wells_to_hold)]\n",
    "\n",
    "\n",
    "print(\"Wells held out for testing:\", df_holdout[\"Metadata_Well\"].unique())\n",
    "print(\n",
    "    \"Wells to use for training, validation, and testing\", df[\"Metadata_Well\"].unique()\n",
    ")"
   ]
  },
  {
   "cell_type": "code",
   "execution_count": 8,
   "id": "3d9db49e",
   "metadata": {
    "execution": {
     "iopub.execute_input": "2023-08-18T18:02:22.044888Z",
     "iopub.status.busy": "2023-08-18T18:02:22.044473Z",
     "iopub.status.idle": "2023-08-18T18:02:22.349293Z",
     "shell.execute_reply": "2023-08-18T18:02:22.348707Z"
    },
    "papermill": {
     "duration": 0.311803,
     "end_time": "2023-08-18T18:02:22.350528",
     "exception": false,
     "start_time": "2023-08-18T18:02:22.038725",
     "status": "completed"
    },
    "tags": []
   },
   "outputs": [],
   "source": [
    "# Code snippet for metadata extraction by Jenna Tomkinson\n",
    "df_metadata = list(df.columns[df.columns.str.startswith(\"Metadata\")])\n",
    "\n",
    "# define which columns are data and which are descriptive\n",
    "df_descriptive = df[df_metadata]\n",
    "df_values = df.drop(columns=df_metadata)"
   ]
  },
  {
   "cell_type": "code",
   "execution_count": 9,
   "id": "8924c31e",
   "metadata": {
    "execution": {
     "iopub.execute_input": "2023-08-18T18:02:22.363098Z",
     "iopub.status.busy": "2023-08-18T18:02:22.362689Z",
     "iopub.status.idle": "2023-08-18T18:02:22.714639Z",
     "shell.execute_reply": "2023-08-18T18:02:22.714027Z"
    },
    "papermill": {
     "duration": 0.359073,
     "end_time": "2023-08-18T18:02:22.715969",
     "exception": false,
     "start_time": "2023-08-18T18:02:22.356896",
     "status": "completed"
    },
    "tags": []
   },
   "outputs": [],
   "source": [
    "# Creating label encoder\n",
    "le = preprocessing.LabelEncoder()\n",
    "# Converting strings into numbers\n",
    "df_values[\"oneb_Metadata_Treatment_Dose_Inhibitor_Dose\"] = le.fit_transform(\n",
    "    df_values[\"oneb_Metadata_Treatment_Dose_Inhibitor_Dose\"]\n",
    ")\n",
    "# split into X and Y where Y are the predictive column and x are the observable data\n",
    "df_values_X = df_values.drop(\n",
    "    [\n",
    "        \"oneb_Metadata_Treatment_Dose_Inhibitor_Dose\",\n",
    "        \"twob_Metadata_Treatment_Dose_Inhibitor_Dose\",\n",
    "        \"threeb_Metadata_Treatment_Dose_Inhibitor_Dose\",\n",
    "        \"fourb_Metadata_Treatment_Dose_Inhibitor_Dose\",\n",
    "    ],\n",
    "    axis=1,\n",
    ")\n",
    "df_values_Y = df_values[\"oneb_Metadata_Treatment_Dose_Inhibitor_Dose\"]"
   ]
  },
  {
   "cell_type": "markdown",
   "id": "4dfa9d10",
   "metadata": {
    "papermill": {
     "duration": 0.005004,
     "end_time": "2023-08-18T18:02:22.726777",
     "exception": false,
     "start_time": "2023-08-18T18:02:22.721773",
     "status": "completed"
    },
    "tags": []
   },
   "source": [
    "#### Split Data - All Models can proceed through this point"
   ]
  },
  {
   "cell_type": "code",
   "execution_count": 10,
   "id": "499f4ae5",
   "metadata": {
    "execution": {
     "iopub.execute_input": "2023-08-18T18:02:22.737633Z",
     "iopub.status.busy": "2023-08-18T18:02:22.737438Z",
     "iopub.status.idle": "2023-08-18T18:02:26.196694Z",
     "shell.execute_reply": "2023-08-18T18:02:26.196049Z"
    },
    "papermill": {
     "duration": 3.466271,
     "end_time": "2023-08-18T18:02:26.198088",
     "exception": false,
     "start_time": "2023-08-18T18:02:22.731817",
     "status": "completed"
    },
    "tags": []
   },
   "outputs": [],
   "source": [
    "X_train, X_test, X_val, Y_train, Y_test, Y_val = data_split(\n",
    "    X_vals=df_values_X,\n",
    "    y_vals=df_values_Y,\n",
    "    train_proportion=mlp_params.TRAIN_PROPORTION_SPLIT,\n",
    "    val_proportion=mlp_params.VALIDATION_PROPORTION_SPLIT,\n",
    "    test_proportion=mlp_params.TEST_PROPORTION_SPLIT,\n",
    "    # train_proportion=0.8,\n",
    "    # val_proportion=0.1,\n",
    "    # test_proportion=0.1,\n",
    "    seed=0,\n",
    "    params=mlp_params,\n",
    ")"
   ]
  },
  {
   "cell_type": "code",
   "execution_count": 11,
   "id": "aa28922f",
   "metadata": {
    "execution": {
     "iopub.execute_input": "2023-08-18T18:02:26.214603Z",
     "iopub.status.busy": "2023-08-18T18:02:26.214181Z",
     "iopub.status.idle": "2023-08-18T18:02:26.355468Z",
     "shell.execute_reply": "2023-08-18T18:02:26.354945Z"
    },
    "papermill": {
     "duration": 0.148469,
     "end_time": "2023-08-18T18:02:26.356888",
     "exception": false,
     "start_time": "2023-08-18T18:02:26.208419",
     "status": "completed"
    },
    "tags": []
   },
   "outputs": [],
   "source": [
    "# produce data objects for train, val and test datasets\n",
    "train_data = Dataset_formatter(\n",
    "    torch.FloatTensor(X_train.values), torch.FloatTensor(Y_train.values)\n",
    ")\n",
    "val_data = Dataset_formatter(\n",
    "    torch.FloatTensor(X_val.values), torch.FloatTensor(Y_val.values)\n",
    ")\n",
    "test_data = Dataset_formatter(\n",
    "    torch.FloatTensor(X_test.values), torch.FloatTensor(Y_test.values)\n",
    ")"
   ]
  },
  {
   "cell_type": "code",
   "execution_count": 12,
   "id": "7c628ee1",
   "metadata": {
    "execution": {
     "iopub.execute_input": "2023-08-18T18:02:26.368928Z",
     "iopub.status.busy": "2023-08-18T18:02:26.368608Z",
     "iopub.status.idle": "2023-08-18T18:02:26.374145Z",
     "shell.execute_reply": "2023-08-18T18:02:26.373695Z"
    },
    "papermill": {
     "duration": 0.012338,
     "end_time": "2023-08-18T18:02:26.375065",
     "exception": false,
     "start_time": "2023-08-18T18:02:26.362727",
     "status": "completed"
    },
    "tags": []
   },
   "outputs": [
    {
     "name": "stdout",
     "output_type": "stream",
     "text": [
      "Number of in features:  1245\n",
      "Number of out features:  2\n",
      "Binary_Classification\n"
     ]
    }
   ],
   "source": [
    "mlp_params.IN_FEATURES = X_train.shape[1]\n",
    "print(\"Number of in features: \", mlp_params.IN_FEATURES)\n",
    "if mlp_params.MODEL_TYPE == \"Regression\":\n",
    "    mlp_params.OUT_FEATURES = 1\n",
    "else:\n",
    "    mlp_params.OUT_FEATURES = len(\n",
    "        df_values[\"oneb_Metadata_Treatment_Dose_Inhibitor_Dose\"].unique()\n",
    "    )\n",
    "\n",
    "print(\"Number of out features: \", mlp_params.OUT_FEATURES)\n",
    "\n",
    "if mlp_params.OUT_FEATURES > 2:\n",
    "    mlp_params.MODEL_TYPE = \"Multi_Class\"\n",
    "elif mlp_params.OUT_FEATURES == 2:\n",
    "    mlp_params.OUT_FEATURES = mlp_params.OUT_FEATURES - 1\n",
    "    mlp_params.MODEL_TYPE = \"Binary_Classification\"\n",
    "elif mlp_params.OUT_FEATURES == 1:\n",
    "    mlp_params.MODEL_TYPE = \"Regression\"\n",
    "else:\n",
    "    pass\n",
    "print(mlp_params.MODEL_TYPE)"
   ]
  },
  {
   "cell_type": "code",
   "execution_count": 13,
   "id": "35e3c505",
   "metadata": {
    "execution": {
     "iopub.execute_input": "2023-08-18T18:02:26.386004Z",
     "iopub.status.busy": "2023-08-18T18:02:26.385649Z",
     "iopub.status.idle": "2023-08-18T18:02:26.388855Z",
     "shell.execute_reply": "2023-08-18T18:02:26.388450Z"
    },
    "papermill": {
     "duration": 0.00962,
     "end_time": "2023-08-18T18:02:26.389763",
     "exception": false,
     "start_time": "2023-08-18T18:02:26.380143",
     "status": "completed"
    },
    "tags": []
   },
   "outputs": [],
   "source": [
    "# convert data class into a dataloader to be compatible with pytorch\n",
    "train_loader = torch.utils.data.DataLoader(\n",
    "    dataset=train_data, batch_size=mlp_params.BATCH_SIZE, shuffle=mlp_params.SHUFFLE\n",
    ")\n",
    "valid_loader = torch.utils.data.DataLoader(\n",
    "    dataset=val_data, batch_size=mlp_params.BATCH_SIZE, shuffle=mlp_params.SHUFFLE\n",
    ")\n",
    "test_loader = torch.utils.data.DataLoader(\n",
    "    dataset=test_data, batch_size=1, shuffle=mlp_params.SHUFFLE\n",
    ")"
   ]
  },
  {
   "cell_type": "code",
   "execution_count": 14,
   "id": "4ab763c4",
   "metadata": {
    "execution": {
     "iopub.execute_input": "2023-08-18T18:02:26.400664Z",
     "iopub.status.busy": "2023-08-18T18:02:26.400329Z",
     "iopub.status.idle": "2023-08-18T18:07:21.469351Z",
     "shell.execute_reply": "2023-08-18T18:07:21.468771Z"
    },
    "papermill": {
     "duration": 295.076118,
     "end_time": "2023-08-18T18:07:21.470947",
     "exception": false,
     "start_time": "2023-08-18T18:02:26.394829",
     "status": "completed"
    },
    "tags": []
   },
   "outputs": [
    {
     "name": "stdout",
     "output_type": "stream",
     "text": [
      "Adam\n"
     ]
    },
    {
     "name": "stdout",
     "output_type": "stream",
     "text": [
      "Epoch 0: Validation loss decreased (inf --> 0.537551).  Saving model ...\n",
      "\t Train_Loss: 0.6063 Train_Acc: 66.639 Val_Loss: 0.5376  BEST VAL Loss: 0.5376  Val_Acc: 72.850\n",
      "\n"
     ]
    },
    {
     "name": "stdout",
     "output_type": "stream",
     "text": [
      "Epoch 1: Validation loss decreased (0.537551 --> 0.517355).  Saving model ...\n",
      "\t Train_Loss: 0.5713 Train_Acc: 71.907 Val_Loss: 0.5174  BEST VAL Loss: 0.5174  Val_Acc: 77.057\n",
      "\n"
     ]
    },
    {
     "name": "stdout",
     "output_type": "stream",
     "text": [
      "Epoch 2: Validation loss decreased (0.517355 --> 0.496339).  Saving model ...\n",
      "\t Train_Loss: 0.5491 Train_Acc: 74.114 Val_Loss: 0.4963  BEST VAL Loss: 0.4963  Val_Acc: 78.446\n",
      "\n"
     ]
    },
    {
     "name": "stdout",
     "output_type": "stream",
     "text": [
      "Epoch 3: Validation loss decreased (0.496339 --> 0.482212).  Saving model ...\n",
      "\t Train_Loss: 0.5328 Train_Acc: 75.904 Val_Loss: 0.4822  BEST VAL Loss: 0.4822  Val_Acc: 80.259\n",
      "\n"
     ]
    },
    {
     "name": "stdout",
     "output_type": "stream",
     "text": [
      "Epoch 4: Validation loss decreased (0.482212 --> 0.469090).  Saving model ...\n",
      "\t Train_Loss: 0.5196 Train_Acc: 77.060 Val_Loss: 0.4691  BEST VAL Loss: 0.4691  Val_Acc: 80.730\n",
      "\n"
     ]
    },
    {
     "name": "stdout",
     "output_type": "stream",
     "text": [
      "Epoch 5: Validation loss decreased (0.469090 --> 0.458745).  Saving model ...\n",
      "\t Train_Loss: 0.5088 Train_Acc: 77.999 Val_Loss: 0.4587  BEST VAL Loss: 0.4587  Val_Acc: 81.443\n",
      "\n"
     ]
    },
    {
     "name": "stdout",
     "output_type": "stream",
     "text": [
      "Epoch 6: Validation loss decreased (0.458745 --> 0.450053).  Saving model ...\n",
      "\t Train_Loss: 0.4997 Train_Acc: 78.623 Val_Loss: 0.4501  BEST VAL Loss: 0.4501  Val_Acc: 82.526\n",
      "\n"
     ]
    },
    {
     "name": "stdout",
     "output_type": "stream",
     "text": [
      "Epoch 7: Validation loss decreased (0.450053 --> 0.442957).  Saving model ...\n",
      "\t Train_Loss: 0.4916 Train_Acc: 79.448 Val_Loss: 0.4430  BEST VAL Loss: 0.4430  Val_Acc: 82.717\n",
      "\n"
     ]
    },
    {
     "name": "stdout",
     "output_type": "stream",
     "text": [
      "Epoch 8: Validation loss decreased (0.442957 --> 0.435997).  Saving model ...\n",
      "\t Train_Loss: 0.4845 Train_Acc: 79.838 Val_Loss: 0.4360  BEST VAL Loss: 0.4360  Val_Acc: 83.057\n",
      "\n"
     ]
    },
    {
     "name": "stdout",
     "output_type": "stream",
     "text": [
      "Epoch 9: Validation loss decreased (0.435997 --> 0.430781).  Saving model ...\n",
      "\t Train_Loss: 0.4786 Train_Acc: 79.940 Val_Loss: 0.4308  BEST VAL Loss: 0.4308  Val_Acc: 82.956\n",
      "\n"
     ]
    },
    {
     "name": "stdout",
     "output_type": "stream",
     "text": [
      "Epoch 10: Validation loss decreased (0.430781 --> 0.425800).  Saving model ...\n",
      "\t Train_Loss: 0.4733 Train_Acc: 80.344 Val_Loss: 0.4258  BEST VAL Loss: 0.4258  Val_Acc: 83.612\n",
      "\n"
     ]
    },
    {
     "name": "stdout",
     "output_type": "stream",
     "text": [
      "Epoch 11: Validation loss decreased (0.425800 --> 0.420850).  Saving model ...\n",
      "\t Train_Loss: 0.4686 Train_Acc: 80.543 Val_Loss: 0.4209  BEST VAL Loss: 0.4209  Val_Acc: 83.427\n",
      "\n"
     ]
    },
    {
     "name": "stdout",
     "output_type": "stream",
     "text": [
      "Epoch 12: Validation loss decreased (0.420850 --> 0.416920).  Saving model ...\n",
      "\t Train_Loss: 0.4642 Train_Acc: 80.740 Val_Loss: 0.4169  BEST VAL Loss: 0.4169  Val_Acc: 83.138\n",
      "\n"
     ]
    },
    {
     "name": "stdout",
     "output_type": "stream",
     "text": [
      "Epoch 13: Validation loss decreased (0.416920 --> 0.413436).  Saving model ...\n",
      "\t Train_Loss: 0.4604 Train_Acc: 80.998 Val_Loss: 0.4134  BEST VAL Loss: 0.4134  Val_Acc: 83.487\n",
      "\n"
     ]
    },
    {
     "name": "stdout",
     "output_type": "stream",
     "text": [
      "Epoch 14: Validation loss decreased (0.413436 --> 0.409805).  Saving model ...\n",
      "\t Train_Loss: 0.4569 Train_Acc: 81.207 Val_Loss: 0.4098  BEST VAL Loss: 0.4098  Val_Acc: 83.605\n",
      "\n"
     ]
    },
    {
     "name": "stdout",
     "output_type": "stream",
     "text": [
      "Epoch 15: Validation loss decreased (0.409805 --> 0.406569).  Saving model ...\n",
      "\t Train_Loss: 0.4536 Train_Acc: 81.322 Val_Loss: 0.4066  BEST VAL Loss: 0.4066  Val_Acc: 83.757\n",
      "\n"
     ]
    },
    {
     "name": "stdout",
     "output_type": "stream",
     "text": [
      "Epoch 16: Validation loss decreased (0.406569 --> 0.403995).  Saving model ...\n",
      "\t Train_Loss: 0.4507 Train_Acc: 81.390 Val_Loss: 0.4040  BEST VAL Loss: 0.4040  Val_Acc: 83.683\n",
      "\n"
     ]
    },
    {
     "name": "stdout",
     "output_type": "stream",
     "text": [
      "Epoch 17: Validation loss decreased (0.403995 --> 0.401615).  Saving model ...\n",
      "\t Train_Loss: 0.4479 Train_Acc: 81.499 Val_Loss: 0.4016  BEST VAL Loss: 0.4016  Val_Acc: 84.288\n",
      "\n"
     ]
    },
    {
     "name": "stdout",
     "output_type": "stream",
     "text": [
      "Epoch 18: Validation loss decreased (0.401615 --> 0.399551).  Saving model ...\n",
      "\t Train_Loss: 0.4454 Train_Acc: 81.543 Val_Loss: 0.3996  BEST VAL Loss: 0.3996  Val_Acc: 83.447\n",
      "\n"
     ]
    },
    {
     "name": "stdout",
     "output_type": "stream",
     "text": [
      "Epoch 19: Validation loss decreased (0.399551 --> 0.398091).  Saving model ...\n",
      "\t Train_Loss: 0.4430 Train_Acc: 81.624 Val_Loss: 0.3981  BEST VAL Loss: 0.3981  Val_Acc: 83.857\n",
      "\n"
     ]
    },
    {
     "name": "stdout",
     "output_type": "stream",
     "text": [
      "Epoch 20: Validation loss decreased (0.398091 --> 0.396582).  Saving model ...\n",
      "\t Train_Loss: 0.4408 Train_Acc: 81.721 Val_Loss: 0.3966  BEST VAL Loss: 0.3966  Val_Acc: 84.194\n",
      "\n"
     ]
    },
    {
     "name": "stdout",
     "output_type": "stream",
     "text": [
      "Epoch 21: Validation loss decreased (0.396582 --> 0.395292).  Saving model ...\n",
      "\t Train_Loss: 0.4387 Train_Acc: 81.836 Val_Loss: 0.3953  BEST VAL Loss: 0.3953  Val_Acc: 83.464\n",
      "\n"
     ]
    },
    {
     "name": "stdout",
     "output_type": "stream",
     "text": [
      "Epoch 22: Validation loss decreased (0.395292 --> 0.393636).  Saving model ...\n",
      "\t Train_Loss: 0.4367 Train_Acc: 81.815 Val_Loss: 0.3936  BEST VAL Loss: 0.3936  Val_Acc: 83.911\n",
      "\n"
     ]
    },
    {
     "name": "stdout",
     "output_type": "stream",
     "text": [
      "Epoch 23: Validation loss decreased (0.393636 --> 0.391792).  Saving model ...\n",
      "\t Train_Loss: 0.4349 Train_Acc: 81.945 Val_Loss: 0.3918  BEST VAL Loss: 0.3918  Val_Acc: 84.046\n",
      "\n"
     ]
    },
    {
     "name": "stdout",
     "output_type": "stream",
     "text": [
      "Epoch 24: Validation loss decreased (0.391792 --> 0.390258).  Saving model ...\n",
      "\t Train_Loss: 0.4332 Train_Acc: 82.000 Val_Loss: 0.3903  BEST VAL Loss: 0.3903  Val_Acc: 83.894\n",
      "\n"
     ]
    },
    {
     "name": "stdout",
     "output_type": "stream",
     "text": [
      "Epoch 25: Validation loss decreased (0.390258 --> 0.389057).  Saving model ...\n",
      "\t Train_Loss: 0.4317 Train_Acc: 82.038 Val_Loss: 0.3891  BEST VAL Loss: 0.3891  Val_Acc: 83.810\n",
      "\n"
     ]
    },
    {
     "name": "stdout",
     "output_type": "stream",
     "text": [
      "Epoch 26: Validation loss decreased (0.389057 --> 0.387617).  Saving model ...\n",
      "\t Train_Loss: 0.4302 Train_Acc: 81.976 Val_Loss: 0.3876  BEST VAL Loss: 0.3876  Val_Acc: 83.894\n",
      "\n"
     ]
    },
    {
     "name": "stdout",
     "output_type": "stream",
     "text": [
      "Epoch 27: Validation loss decreased (0.387617 --> 0.386392).  Saving model ...\n",
      "\t Train_Loss: 0.4288 Train_Acc: 82.059 Val_Loss: 0.3864  BEST VAL Loss: 0.3864  Val_Acc: 83.619\n",
      "\n"
     ]
    },
    {
     "name": "stdout",
     "output_type": "stream",
     "text": [
      "Epoch 28: Validation loss decreased (0.386392 --> 0.385017).  Saving model ...\n",
      "\t Train_Loss: 0.4274 Train_Acc: 82.160 Val_Loss: 0.3850  BEST VAL Loss: 0.3850  Val_Acc: 84.436\n",
      "\n"
     ]
    },
    {
     "name": "stdout",
     "output_type": "stream",
     "text": [
      "Epoch 29: Validation loss decreased (0.385017 --> 0.384031).  Saving model ...\n",
      "\t Train_Loss: 0.4262 Train_Acc: 82.014 Val_Loss: 0.3840  BEST VAL Loss: 0.3840  Val_Acc: 83.659\n",
      "\n"
     ]
    },
    {
     "name": "stdout",
     "output_type": "stream",
     "text": [
      "Epoch 30: Validation loss decreased (0.384031 --> 0.382917).  Saving model ...\n",
      "\t Train_Loss: 0.4250 Train_Acc: 82.218 Val_Loss: 0.3829  BEST VAL Loss: 0.3829  Val_Acc: 84.086\n",
      "\n"
     ]
    },
    {
     "name": "stdout",
     "output_type": "stream",
     "text": [
      "Epoch 31: Validation loss decreased (0.382917 --> 0.381972).  Saving model ...\n",
      "\t Train_Loss: 0.4239 Train_Acc: 82.173 Val_Loss: 0.3820  BEST VAL Loss: 0.3820  Val_Acc: 84.079\n",
      "\n"
     ]
    },
    {
     "name": "stdout",
     "output_type": "stream",
     "text": [
      "Epoch 32: Validation loss decreased (0.381972 --> 0.381026).  Saving model ...\n",
      "\t Train_Loss: 0.4228 Train_Acc: 82.230 Val_Loss: 0.3810  BEST VAL Loss: 0.3810  Val_Acc: 84.197\n",
      "\n"
     ]
    },
    {
     "name": "stdout",
     "output_type": "stream",
     "text": [
      "Epoch 33: Validation loss decreased (0.381026 --> 0.380369).  Saving model ...\n",
      "\t Train_Loss: 0.4217 Train_Acc: 82.368 Val_Loss: 0.3804  BEST VAL Loss: 0.3804  Val_Acc: 83.699\n",
      "\n"
     ]
    },
    {
     "name": "stdout",
     "output_type": "stream",
     "text": [
      "Epoch 34: Validation loss decreased (0.380369 --> 0.379728).  Saving model ...\n",
      "\t Train_Loss: 0.4208 Train_Acc: 82.141 Val_Loss: 0.3797  BEST VAL Loss: 0.3797  Val_Acc: 84.200\n",
      "\n"
     ]
    },
    {
     "name": "stdout",
     "output_type": "stream",
     "text": [
      "Epoch 35: Validation loss decreased (0.379728 --> 0.379031).  Saving model ...\n",
      "\t Train_Loss: 0.4199 Train_Acc: 82.168 Val_Loss: 0.3790  BEST VAL Loss: 0.3790  Val_Acc: 83.955\n",
      "\n"
     ]
    },
    {
     "name": "stdout",
     "output_type": "stream",
     "text": [
      "Epoch 36: Validation loss decreased (0.379031 --> 0.378282).  Saving model ...\n",
      "\t Train_Loss: 0.4190 Train_Acc: 82.228 Val_Loss: 0.3783  BEST VAL Loss: 0.3783  Val_Acc: 83.814\n",
      "\n"
     ]
    },
    {
     "name": "stdout",
     "output_type": "stream",
     "text": [
      "Epoch 37: Validation loss decreased (0.378282 --> 0.377679).  Saving model ...\n",
      "\t Train_Loss: 0.4182 Train_Acc: 82.148 Val_Loss: 0.3777  BEST VAL Loss: 0.3777  Val_Acc: 83.814\n",
      "\n"
     ]
    },
    {
     "name": "stdout",
     "output_type": "stream",
     "text": [
      "Epoch 38: Validation loss decreased (0.377679 --> 0.377258).  Saving model ...\n",
      "\t Train_Loss: 0.4173 Train_Acc: 82.288 Val_Loss: 0.3773  BEST VAL Loss: 0.3773  Val_Acc: 83.760\n",
      "\n"
     ]
    },
    {
     "name": "stdout",
     "output_type": "stream",
     "text": [
      "Epoch 39: Validation loss decreased (0.377258 --> 0.376763).  Saving model ...\n",
      "\t Train_Loss: 0.4165 Train_Acc: 82.276 Val_Loss: 0.3768  BEST VAL Loss: 0.3768  Val_Acc: 83.612\n",
      "\n"
     ]
    },
    {
     "name": "stdout",
     "output_type": "stream",
     "text": [
      "Epoch 40: Validation loss decreased (0.376763 --> 0.376226).  Saving model ...\n",
      "\t Train_Loss: 0.4158 Train_Acc: 82.379 Val_Loss: 0.3762  BEST VAL Loss: 0.3762  Val_Acc: 83.323\n",
      "\n"
     ]
    },
    {
     "name": "stdout",
     "output_type": "stream",
     "text": [
      "Epoch 41: Validation loss decreased (0.376226 --> 0.375567).  Saving model ...\n",
      "\t Train_Loss: 0.4150 Train_Acc: 82.434 Val_Loss: 0.3756  BEST VAL Loss: 0.3756  Val_Acc: 84.359\n",
      "\n"
     ]
    },
    {
     "name": "stdout",
     "output_type": "stream",
     "text": [
      "Epoch 42: Validation loss decreased (0.375567 --> 0.374944).  Saving model ...\n",
      "\t Train_Loss: 0.4143 Train_Acc: 82.339 Val_Loss: 0.3749  BEST VAL Loss: 0.3749  Val_Acc: 83.588\n",
      "\n"
     ]
    },
    {
     "name": "stdout",
     "output_type": "stream",
     "text": [
      "Epoch 43: Validation loss decreased (0.374944 --> 0.374364).  Saving model ...\n",
      "\t Train_Loss: 0.4136 Train_Acc: 82.540 Val_Loss: 0.3744  BEST VAL Loss: 0.3744  Val_Acc: 84.426\n",
      "\n"
     ]
    },
    {
     "name": "stdout",
     "output_type": "stream",
     "text": [
      "Epoch 44: Validation loss decreased (0.374364 --> 0.373895).  Saving model ...\n",
      "\t Train_Loss: 0.4129 Train_Acc: 82.540 Val_Loss: 0.3739  BEST VAL Loss: 0.3739  Val_Acc: 84.184\n",
      "\n"
     ]
    },
    {
     "name": "stdout",
     "output_type": "stream",
     "text": [
      "Epoch 45: Validation loss decreased (0.373895 --> 0.373292).  Saving model ...\n",
      "\t Train_Loss: 0.4122 Train_Acc: 82.461 Val_Loss: 0.3733  BEST VAL Loss: 0.3733  Val_Acc: 84.372\n",
      "\n"
     ]
    },
    {
     "name": "stdout",
     "output_type": "stream",
     "text": [
      "Epoch 46: Validation loss decreased (0.373292 --> 0.372750).  Saving model ...\n",
      "\t Train_Loss: 0.4116 Train_Acc: 82.590 Val_Loss: 0.3728  BEST VAL Loss: 0.3728  Val_Acc: 84.359\n",
      "\n"
     ]
    },
    {
     "name": "stdout",
     "output_type": "stream",
     "text": [
      "Epoch 47: Validation loss decreased (0.372750 --> 0.372491).  Saving model ...\n",
      "\t Train_Loss: 0.4109 Train_Acc: 82.616 Val_Loss: 0.3725  BEST VAL Loss: 0.3725  Val_Acc: 83.632\n",
      "\n"
     ]
    },
    {
     "name": "stdout",
     "output_type": "stream",
     "text": [
      "Epoch 48: Validation loss decreased (0.372491 --> 0.372074).  Saving model ...\n",
      "\t Train_Loss: 0.4103 Train_Acc: 82.607 Val_Loss: 0.3721  BEST VAL Loss: 0.3721  Val_Acc: 84.264\n",
      "\n"
     ]
    },
    {
     "name": "stdout",
     "output_type": "stream",
     "text": [
      "Epoch 49: Validation loss decreased (0.372074 --> 0.371636).  Saving model ...\n",
      "\t Train_Loss: 0.4097 Train_Acc: 82.617 Val_Loss: 0.3716  BEST VAL Loss: 0.3716  Val_Acc: 84.604\n",
      "\n"
     ]
    },
    {
     "name": "stdout",
     "output_type": "stream",
     "text": [
      "Epoch 50: Validation loss decreased (0.371636 --> 0.371014).  Saving model ...\n",
      "\t Train_Loss: 0.4091 Train_Acc: 82.638 Val_Loss: 0.3710  BEST VAL Loss: 0.3710  Val_Acc: 84.567\n",
      "\n"
     ]
    },
    {
     "name": "stdout",
     "output_type": "stream",
     "text": [
      "Epoch 51: Validation loss decreased (0.371014 --> 0.370600).  Saving model ...\n",
      "\t Train_Loss: 0.4086 Train_Acc: 82.309 Val_Loss: 0.3706  BEST VAL Loss: 0.3706  Val_Acc: 84.422\n",
      "\n"
     ]
    },
    {
     "name": "stdout",
     "output_type": "stream",
     "text": [
      "Epoch 52: Validation loss decreased (0.370600 --> 0.370379).  Saving model ...\n",
      "\t Train_Loss: 0.4081 Train_Acc: 82.596 Val_Loss: 0.3704  BEST VAL Loss: 0.3704  Val_Acc: 84.308\n",
      "\n"
     ]
    },
    {
     "name": "stdout",
     "output_type": "stream",
     "text": [
      "Epoch 53: Validation loss decreased (0.370379 --> 0.369968).  Saving model ...\n",
      "\t Train_Loss: 0.4076 Train_Acc: 82.490 Val_Loss: 0.3700  BEST VAL Loss: 0.3700  Val_Acc: 84.382\n",
      "\n"
     ]
    },
    {
     "name": "stdout",
     "output_type": "stream",
     "text": [
      "Epoch 54: Validation loss decreased (0.369968 --> 0.369371).  Saving model ...\n",
      "\t Train_Loss: 0.4071 Train_Acc: 82.556 Val_Loss: 0.3694  BEST VAL Loss: 0.3694  Val_Acc: 84.782\n",
      "\n"
     ]
    },
    {
     "name": "stdout",
     "output_type": "stream",
     "text": [
      "Epoch 55: Validation loss decreased (0.369371 --> 0.369007).  Saving model ...\n",
      "\t Train_Loss: 0.4067 Train_Acc: 82.541 Val_Loss: 0.3690  BEST VAL Loss: 0.3690  Val_Acc: 84.042\n",
      "\n"
     ]
    },
    {
     "name": "stdout",
     "output_type": "stream",
     "text": [
      "Epoch 56: Validation loss decreased (0.369007 --> 0.368643).  Saving model ...\n",
      "\t Train_Loss: 0.4062 Train_Acc: 82.539 Val_Loss: 0.3686  BEST VAL Loss: 0.3686  Val_Acc: 84.547\n",
      "\n"
     ]
    },
    {
     "name": "stdout",
     "output_type": "stream",
     "text": [
      "Epoch 57: Validation loss decreased (0.368643 --> 0.368283).  Saving model ...\n",
      "\t Train_Loss: 0.4058 Train_Acc: 82.652 Val_Loss: 0.3683  BEST VAL Loss: 0.3683  Val_Acc: 84.143\n",
      "\n"
     ]
    },
    {
     "name": "stdout",
     "output_type": "stream",
     "text": [
      "Epoch 58: Validation loss decreased (0.368283 --> 0.367911).  Saving model ...\n",
      "\t Train_Loss: 0.4053 Train_Acc: 82.565 Val_Loss: 0.3679  BEST VAL Loss: 0.3679  Val_Acc: 84.422\n",
      "\n"
     ]
    },
    {
     "name": "stdout",
     "output_type": "stream",
     "text": [
      "Epoch 59: Validation loss decreased (0.367911 --> 0.367553).  Saving model ...\n",
      "\t Train_Loss: 0.4048 Train_Acc: 82.834 Val_Loss: 0.3676  BEST VAL Loss: 0.3676  Val_Acc: 84.624\n",
      "\n"
     ]
    },
    {
     "name": "stdout",
     "output_type": "stream",
     "text": [
      "Epoch 60: Validation loss decreased (0.367553 --> 0.367410).  Saving model ...\n",
      "\t Train_Loss: 0.4044 Train_Acc: 82.560 Val_Loss: 0.3674  BEST VAL Loss: 0.3674  Val_Acc: 84.570\n",
      "\n"
     ]
    },
    {
     "name": "stdout",
     "output_type": "stream",
     "text": [
      "Epoch 61: Validation loss decreased (0.367410 --> 0.367027).  Saving model ...\n",
      "\t Train_Loss: 0.4040 Train_Acc: 82.805 Val_Loss: 0.3670  BEST VAL Loss: 0.3670  Val_Acc: 84.395\n",
      "\n"
     ]
    },
    {
     "name": "stdout",
     "output_type": "stream",
     "text": [
      "Epoch 62: Validation loss decreased (0.367027 --> 0.366670).  Saving model ...\n",
      "\t Train_Loss: 0.4036 Train_Acc: 82.860 Val_Loss: 0.3667  BEST VAL Loss: 0.3667  Val_Acc: 84.338\n",
      "\n"
     ]
    },
    {
     "name": "stdout",
     "output_type": "stream",
     "text": [
      "Epoch 63: Validation loss decreased (0.366670 --> 0.366442).  Saving model ...\n",
      "\t Train_Loss: 0.4031 Train_Acc: 82.746 Val_Loss: 0.3664  BEST VAL Loss: 0.3664  Val_Acc: 84.170\n",
      "\n"
     ]
    },
    {
     "name": "stdout",
     "output_type": "stream",
     "text": [
      "Epoch 64: Validation loss decreased (0.366442 --> 0.366282).  Saving model ...\n",
      "\t Train_Loss: 0.4027 Train_Acc: 82.786 Val_Loss: 0.3663  BEST VAL Loss: 0.3663  Val_Acc: 84.570\n",
      "\n"
     ]
    },
    {
     "name": "stdout",
     "output_type": "stream",
     "text": [
      "Epoch 65: Validation loss decreased (0.366282 --> 0.365925).  Saving model ...\n",
      "\t Train_Loss: 0.4024 Train_Acc: 82.637 Val_Loss: 0.3659  BEST VAL Loss: 0.3659  Val_Acc: 84.490\n",
      "\n"
     ]
    },
    {
     "name": "stdout",
     "output_type": "stream",
     "text": [
      "Epoch 66: Validation loss decreased (0.365925 --> 0.365838).  Saving model ...\n",
      "\t Train_Loss: 0.4020 Train_Acc: 82.730 Val_Loss: 0.3658  BEST VAL Loss: 0.3658  Val_Acc: 84.089\n",
      "\n"
     ]
    },
    {
     "name": "stdout",
     "output_type": "stream",
     "text": [
      "Epoch 67: Validation loss decreased (0.365838 --> 0.365532).  Saving model ...\n",
      "\t Train_Loss: 0.4017 Train_Acc: 82.419 Val_Loss: 0.3655  BEST VAL Loss: 0.3655  Val_Acc: 84.254\n",
      "\n"
     ]
    },
    {
     "name": "stdout",
     "output_type": "stream",
     "text": [
      "Epoch 68: Validation loss decreased (0.365532 --> 0.365506).  Saving model ...\n",
      "\t Train_Loss: 0.4014 Train_Acc: 82.555 Val_Loss: 0.3655  BEST VAL Loss: 0.3655  Val_Acc: 83.978\n",
      "\n"
     ]
    },
    {
     "name": "stdout",
     "output_type": "stream",
     "text": [
      "Epoch 69: Validation loss decreased (0.365506 --> 0.365232).  Saving model ...\n",
      "\t Train_Loss: 0.4011 Train_Acc: 82.472 Val_Loss: 0.3652  BEST VAL Loss: 0.3652  Val_Acc: 84.184\n",
      "\n"
     ]
    },
    {
     "name": "stdout",
     "output_type": "stream",
     "text": [
      "Epoch 70: Validation loss decreased (0.365232 --> 0.364951).  Saving model ...\n",
      "\t Train_Loss: 0.4008 Train_Acc: 82.676 Val_Loss: 0.3650  BEST VAL Loss: 0.3650  Val_Acc: 84.574\n",
      "\n"
     ]
    },
    {
     "name": "stdout",
     "output_type": "stream",
     "text": [
      "Epoch 71: Validation loss decreased (0.364951 --> 0.364556).  Saving model ...\n",
      "\t Train_Loss: 0.4004 Train_Acc: 82.891 Val_Loss: 0.3646  BEST VAL Loss: 0.3646  Val_Acc: 84.698\n",
      "\n"
     ]
    },
    {
     "name": "stdout",
     "output_type": "stream",
     "text": [
      "Epoch 72: Validation loss decreased (0.364556 --> 0.364229).  Saving model ...\n",
      "\t Train_Loss: 0.4001 Train_Acc: 82.857 Val_Loss: 0.3642  BEST VAL Loss: 0.3642  Val_Acc: 84.883\n",
      "\n"
     ]
    },
    {
     "name": "stdout",
     "output_type": "stream",
     "text": [
      "Epoch 73: Validation loss decreased (0.364229 --> 0.364015).  Saving model ...\n",
      "\t Train_Loss: 0.3998 Train_Acc: 82.614 Val_Loss: 0.3640  BEST VAL Loss: 0.3640  Val_Acc: 84.765\n",
      "\n"
     ]
    },
    {
     "name": "stdout",
     "output_type": "stream",
     "text": [
      "Epoch 74: Validation loss decreased (0.364015 --> 0.363746).  Saving model ...\n",
      "\t Train_Loss: 0.3995 Train_Acc: 82.877 Val_Loss: 0.3637  BEST VAL Loss: 0.3637  Val_Acc: 84.725\n",
      "\n"
     ]
    },
    {
     "name": "stdout",
     "output_type": "stream",
     "text": [
      "Epoch 75: Validation loss decreased (0.363746 --> 0.363522).  Saving model ...\n",
      "\t Train_Loss: 0.3991 Train_Acc: 82.787 Val_Loss: 0.3635  BEST VAL Loss: 0.3635  Val_Acc: 84.705\n",
      "\n"
     ]
    },
    {
     "name": "stdout",
     "output_type": "stream",
     "text": [
      "Epoch 76: Validation loss decreased (0.363522 --> 0.363414).  Saving model ...\n",
      "\t Train_Loss: 0.3989 Train_Acc: 82.699 Val_Loss: 0.3634  BEST VAL Loss: 0.3634  Val_Acc: 84.523\n",
      "\n"
     ]
    },
    {
     "name": "stdout",
     "output_type": "stream",
     "text": [
      "Epoch 77: Validation loss decreased (0.363414 --> 0.363124).  Saving model ...\n",
      "\t Train_Loss: 0.3986 Train_Acc: 82.768 Val_Loss: 0.3631  BEST VAL Loss: 0.3631  Val_Acc: 84.927\n",
      "\n"
     ]
    },
    {
     "name": "stdout",
     "output_type": "stream",
     "text": [
      "Epoch 78: Validation loss decreased (0.363124 --> 0.362940).  Saving model ...\n",
      "\t Train_Loss: 0.3982 Train_Acc: 82.971 Val_Loss: 0.3629  BEST VAL Loss: 0.3629  Val_Acc: 84.611\n",
      "\n"
     ]
    },
    {
     "name": "stdout",
     "output_type": "stream",
     "text": [
      "Epoch 79: Validation loss decreased (0.362940 --> 0.362697).  Saving model ...\n",
      "\t Train_Loss: 0.3979 Train_Acc: 82.762 Val_Loss: 0.3627  BEST VAL Loss: 0.3627  Val_Acc: 84.856\n",
      "\n"
     ]
    },
    {
     "name": "stdout",
     "output_type": "stream",
     "text": [
      "Epoch 80: Validation loss decreased (0.362697 --> 0.362572).  Saving model ...\n",
      "\t Train_Loss: 0.3977 Train_Acc: 82.866 Val_Loss: 0.3626  BEST VAL Loss: 0.3626  Val_Acc: 84.846\n",
      "\n"
     ]
    },
    {
     "name": "stdout",
     "output_type": "stream",
     "text": [
      "Epoch 81: Validation loss decreased (0.362572 --> 0.362331).  Saving model ...\n",
      "\t Train_Loss: 0.3974 Train_Acc: 82.847 Val_Loss: 0.3623  BEST VAL Loss: 0.3623  Val_Acc: 84.695\n",
      "\n"
     ]
    },
    {
     "name": "stdout",
     "output_type": "stream",
     "text": [
      "Epoch 82: Validation loss decreased (0.362331 --> 0.362114).  Saving model ...\n",
      "\t Train_Loss: 0.3971 Train_Acc: 83.043 Val_Loss: 0.3621  BEST VAL Loss: 0.3621  Val_Acc: 84.752\n",
      "\n"
     ]
    },
    {
     "name": "stdout",
     "output_type": "stream",
     "text": [
      "Epoch 83: Validation loss decreased (0.362114 --> 0.361970).  Saving model ...\n",
      "\t Train_Loss: 0.3968 Train_Acc: 82.983 Val_Loss: 0.3620  BEST VAL Loss: 0.3620  Val_Acc: 84.833\n",
      "\n"
     ]
    },
    {
     "name": "stdout",
     "output_type": "stream",
     "text": [
      "Epoch 84: Validation loss decreased (0.361970 --> 0.361801).  Saving model ...\n",
      "\t Train_Loss: 0.3965 Train_Acc: 82.951 Val_Loss: 0.3618  BEST VAL Loss: 0.3618  Val_Acc: 84.406\n",
      "\n"
     ]
    },
    {
     "name": "stdout",
     "output_type": "stream",
     "text": [
      "Epoch 85: Validation loss decreased (0.361801 --> 0.361592).  Saving model ...\n",
      "\t Train_Loss: 0.3962 Train_Acc: 82.915 Val_Loss: 0.3616  BEST VAL Loss: 0.3616  Val_Acc: 84.813\n",
      "\n"
     ]
    },
    {
     "name": "stdout",
     "output_type": "stream",
     "text": [
      "Epoch 86: Validation loss decreased (0.361592 --> 0.361437).  Saving model ...\n",
      "\t Train_Loss: 0.3960 Train_Acc: 82.927 Val_Loss: 0.3614  BEST VAL Loss: 0.3614  Val_Acc: 84.453\n",
      "\n"
     ]
    },
    {
     "name": "stdout",
     "output_type": "stream",
     "text": [
      "Epoch 87: Validation loss decreased (0.361437 --> 0.361129).  Saving model ...\n",
      "\t Train_Loss: 0.3958 Train_Acc: 82.858 Val_Loss: 0.3611  BEST VAL Loss: 0.3611  Val_Acc: 85.068\n",
      "\n"
     ]
    },
    {
     "name": "stdout",
     "output_type": "stream",
     "text": [
      "Epoch 88: Validation loss decreased (0.361129 --> 0.360907).  Saving model ...\n",
      "\t Train_Loss: 0.3955 Train_Acc: 82.914 Val_Loss: 0.3609  BEST VAL Loss: 0.3609  Val_Acc: 84.772\n",
      "\n"
     ]
    },
    {
     "name": "stdout",
     "output_type": "stream",
     "text": [
      "Epoch 89: Validation loss decreased (0.360907 --> 0.360639).  Saving model ...\n",
      "\t Train_Loss: 0.3953 Train_Acc: 82.939 Val_Loss: 0.3606  BEST VAL Loss: 0.3606  Val_Acc: 85.145\n",
      "\n"
     ]
    },
    {
     "name": "stdout",
     "output_type": "stream",
     "text": [
      "Epoch 90: Validation loss decreased (0.360639 --> 0.360495).  Saving model ...\n",
      "\t Train_Loss: 0.3950 Train_Acc: 82.880 Val_Loss: 0.3605  BEST VAL Loss: 0.3605  Val_Acc: 84.153\n",
      "\n"
     ]
    },
    {
     "name": "stdout",
     "output_type": "stream",
     "text": [
      "Epoch 91: Validation loss decreased (0.360495 --> 0.360452).  Saving model ...\n",
      "\t Train_Loss: 0.3948 Train_Acc: 82.851 Val_Loss: 0.3605  BEST VAL Loss: 0.3605  Val_Acc: 84.624\n",
      "\n"
     ]
    },
    {
     "name": "stdout",
     "output_type": "stream",
     "text": [
      "Epoch 92: Validation loss decreased (0.360452 --> 0.360251).  Saving model ...\n",
      "\t Train_Loss: 0.3946 Train_Acc: 82.697 Val_Loss: 0.3603  BEST VAL Loss: 0.3603  Val_Acc: 84.574\n",
      "\n"
     ]
    },
    {
     "name": "stdout",
     "output_type": "stream",
     "text": [
      "Epoch 93: Validation loss decreased (0.360251 --> 0.360048).  Saving model ...\n",
      "\t Train_Loss: 0.3943 Train_Acc: 82.912 Val_Loss: 0.3600  BEST VAL Loss: 0.3600  Val_Acc: 84.631\n",
      "\n"
     ]
    },
    {
     "name": "stdout",
     "output_type": "stream",
     "text": [
      "Epoch 94: Validation loss decreased (0.360048 --> 0.359918).  Saving model ...\n",
      "\t Train_Loss: 0.3941 Train_Acc: 82.923 Val_Loss: 0.3599  BEST VAL Loss: 0.3599  Val_Acc: 84.668\n",
      "\n"
     ]
    },
    {
     "name": "stdout",
     "output_type": "stream",
     "text": [
      "Epoch 95: Validation loss decreased (0.359918 --> 0.359778).  Saving model ...\n",
      "\t Train_Loss: 0.3939 Train_Acc: 83.012 Val_Loss: 0.3598  BEST VAL Loss: 0.3598  Val_Acc: 84.923\n",
      "\n"
     ]
    },
    {
     "name": "stdout",
     "output_type": "stream",
     "text": [
      "Epoch 96: Validation loss decreased (0.359778 --> 0.359529).  Saving model ...\n",
      "\t Train_Loss: 0.3936 Train_Acc: 82.991 Val_Loss: 0.3595  BEST VAL Loss: 0.3595  Val_Acc: 84.984\n",
      "\n"
     ]
    },
    {
     "name": "stdout",
     "output_type": "stream",
     "text": [
      "Epoch 97: Validation loss decreased (0.359529 --> 0.359349).  Saving model ...\n",
      "\t Train_Loss: 0.3934 Train_Acc: 82.918 Val_Loss: 0.3593  BEST VAL Loss: 0.3593  Val_Acc: 84.577\n",
      "\n"
     ]
    },
    {
     "name": "stdout",
     "output_type": "stream",
     "text": [
      "Epoch 98: Validation loss decreased (0.359349 --> 0.359209).  Saving model ...\n",
      "\t Train_Loss: 0.3932 Train_Acc: 82.968 Val_Loss: 0.3592  BEST VAL Loss: 0.3592  Val_Acc: 84.762\n",
      "\n"
     ]
    },
    {
     "name": "stdout",
     "output_type": "stream",
     "text": [
      "Epoch 99: Validation loss decreased (0.359209 --> 0.359047).  Saving model ...\n",
      "\t Train_Loss: 0.3930 Train_Acc: 82.931 Val_Loss: 0.3590  BEST VAL Loss: 0.3590  Val_Acc: 84.486\n",
      "\n"
     ]
    }
   ],
   "source": [
    "# call the optimized training model\n",
    "train_loss, train_acc, valid_loss, valid_acc, epochs_ran, model = train_optimized_model(\n",
    "    mlp_params.TRAIN_EPOCHS,\n",
    "    train_loader,\n",
    "    valid_loader,\n",
    "    params,\n",
    "    mlp_params.MODEL_NAME,\n",
    "    mlp_params.SHUFFLE,\n",
    ")\n",
    "# get training_metrics\n",
    "if mlp_params.MODEL_TYPE == \"Regression\":\n",
    "    training_stats = pd.DataFrame(\n",
    "        zip(train_loss, valid_loss, epochs_ran),\n",
    "        columns=[\"train_loss\", \"valid_loss\", \"epochs_ran\"],\n",
    "    )\n",
    "else:\n",
    "    training_stats = pd.DataFrame(\n",
    "        zip(train_loss, train_acc, valid_loss, valid_acc, epochs_ran),\n",
    "        columns=[\"train_loss\", \"train_acc\", \"valid_loss\", \"valid_acc\", \"epochs_ran\"],\n",
    "    )"
   ]
  },
  {
   "cell_type": "code",
   "execution_count": 15,
   "id": "3d5115e3",
   "metadata": {
    "execution": {
     "iopub.execute_input": "2023-08-18T18:07:21.496512Z",
     "iopub.status.busy": "2023-08-18T18:07:21.495991Z",
     "iopub.status.idle": "2023-08-18T18:07:21.532582Z",
     "shell.execute_reply": "2023-08-18T18:07:21.532113Z"
    },
    "papermill": {
     "duration": 0.048407,
     "end_time": "2023-08-18T18:07:21.534155",
     "exception": false,
     "start_time": "2023-08-18T18:07:21.485748",
     "status": "completed"
    },
    "tags": []
   },
   "outputs": [
    {
     "data": {
      "text/html": [
       "<div>\n",
       "<style scoped>\n",
       "    .dataframe tbody tr th:only-of-type {\n",
       "        vertical-align: middle;\n",
       "    }\n",
       "\n",
       "    .dataframe tbody tr th {\n",
       "        vertical-align: top;\n",
       "    }\n",
       "\n",
       "    .dataframe thead th {\n",
       "        text-align: right;\n",
       "    }\n",
       "</style>\n",
       "<table border=\"1\" class=\"dataframe\">\n",
       "  <thead>\n",
       "    <tr style=\"text-align: right;\">\n",
       "      <th></th>\n",
       "      <th>treatments_tested</th>\n",
       "      <th>model</th>\n",
       "      <th>group</th>\n",
       "      <th>shuffled_data</th>\n",
       "      <th>PR_Threshold</th>\n",
       "      <th>Precision</th>\n",
       "      <th>Recall</th>\n",
       "    </tr>\n",
       "  </thead>\n",
       "  <tbody>\n",
       "  </tbody>\n",
       "</table>\n",
       "</div>"
      ],
      "text/plain": [
       "Empty DataFrame\n",
       "Columns: [treatments_tested, model, group, shuffled_data, PR_Threshold, Precision, Recall]\n",
       "Index: []"
      ]
     },
     "execution_count": 15,
     "metadata": {},
     "output_type": "execute_result"
    }
   ],
   "source": [
    "# create a dataframe to store the model stats\n",
    "model_stats_df = pd.DataFrame(\n",
    "    columns=[\n",
    "        \"treatments_tested\",\n",
    "        \"model\",\n",
    "        \"group\",\n",
    "        \"shuffled_data\",\n",
    "        \"PR_Threshold\",\n",
    "        \"Precision\",\n",
    "        \"Recall\",\n",
    "    ]\n",
    ")\n",
    "model_stats_df"
   ]
  },
  {
   "cell_type": "code",
   "execution_count": 16,
   "id": "d4f283d4",
   "metadata": {
    "execution": {
     "iopub.execute_input": "2023-08-18T18:07:21.560470Z",
     "iopub.status.busy": "2023-08-18T18:07:21.559840Z",
     "iopub.status.idle": "2023-08-18T18:07:22.063995Z",
     "shell.execute_reply": "2023-08-18T18:07:22.063372Z"
    },
    "papermill": {
     "duration": 0.517431,
     "end_time": "2023-08-18T18:07:22.065904",
     "exception": false,
     "start_time": "2023-08-18T18:07:21.548473",
     "status": "completed"
    },
    "tags": []
   },
   "outputs": [
    {
     "name": "stderr",
     "output_type": "stream",
     "text": [
      "/gpfs/alpine1/scratch/mlippincott@xsede.org/pyroptosis_signature_data_analysis/4.sc_Morphology_Neural_Network_MLP_Model/1.model_training/notebooks/../../MLP_utils/utils.py:997: UserWarning: Ignoring `palette` because no `hue` variable has been assigned.\n",
      "  sns.lineplot(x=df[x], y=df[y1], palette=\"blue\", label=\"Train\")\n",
      "/gpfs/alpine1/scratch/mlippincott@xsede.org/pyroptosis_signature_data_analysis/4.sc_Morphology_Neural_Network_MLP_Model/1.model_training/notebooks/../../MLP_utils/utils.py:998: UserWarning: Ignoring `palette` because no `hue` variable has been assigned.\n",
      "  sns.lineplot(x=df[x], y=df[y2], palette=\"orange\", label=\"Validation\")\n"
     ]
    },
    {
     "data": {
      "image/png": "[encoded data removed]",
      "text/plain": [
       "<Figure size 640x480 with 1 Axes>"
      ]
     },
     "metadata": {},
     "output_type": "display_data"
    }
   ],
   "source": [
    "if mlp_params.MODEL_TYPE == \"Regression\":\n",
    "    pass\n",
    "else:\n",
    "    plot_metric_vs_epoch(\n",
    "        training_stats,\n",
    "        x=\"epochs_ran\",\n",
    "        y1=\"train_acc\",\n",
    "        y2=\"valid_acc\",\n",
    "        title=\"Accuracy vs. Epochs\",\n",
    "        x_axis_label=\"Epochs\",\n",
    "        y_axis_label=\"Accuracy\",\n",
    "        params=params,\n",
    "        model_name=mlp_params.MODEL_NAME,\n",
    "        shuffle=mlp_params.SHUFFLE,\n",
    "    )"
   ]
  },
  {
   "cell_type": "code",
   "execution_count": 17,
   "id": "5e491e00",
   "metadata": {
    "execution": {
     "iopub.execute_input": "2023-08-18T18:07:22.097974Z",
     "iopub.status.busy": "2023-08-18T18:07:22.097445Z",
     "iopub.status.idle": "2023-08-18T18:07:22.396234Z",
     "shell.execute_reply": "2023-08-18T18:07:22.395649Z"
    },
    "papermill": {
     "duration": 0.313735,
     "end_time": "2023-08-18T18:07:22.397709",
     "exception": false,
     "start_time": "2023-08-18T18:07:22.083974",
     "status": "completed"
    },
    "tags": []
   },
   "outputs": [
    {
     "name": "stderr",
     "output_type": "stream",
     "text": [
      "/gpfs/alpine1/scratch/mlippincott@xsede.org/pyroptosis_signature_data_analysis/4.sc_Morphology_Neural_Network_MLP_Model/1.model_training/notebooks/../../MLP_utils/utils.py:997: UserWarning: Ignoring `palette` because no `hue` variable has been assigned.\n",
      "  sns.lineplot(x=df[x], y=df[y1], palette=\"blue\", label=\"Train\")\n",
      "/gpfs/alpine1/scratch/mlippincott@xsede.org/pyroptosis_signature_data_analysis/4.sc_Morphology_Neural_Network_MLP_Model/1.model_training/notebooks/../../MLP_utils/utils.py:998: UserWarning: Ignoring `palette` because no `hue` variable has been assigned.\n",
      "  sns.lineplot(x=df[x], y=df[y2], palette=\"orange\", label=\"Validation\")\n"
     ]
    },
    {
     "data": {
      "image/png": "[encoded data removed]",
      "text/plain": [
       "<Figure size 640x480 with 1 Axes>"
      ]
     },
     "metadata": {},
     "output_type": "display_data"
    }
   ],
   "source": [
    "plot_metric_vs_epoch(\n",
    "    training_stats,\n",
    "    x=\"epochs_ran\",\n",
    "    y1=\"train_loss\",\n",
    "    y2=\"valid_loss\",\n",
    "    title=\"Loss vs. Epochs\",\n",
    "    x_axis_label=\"Epochs\",\n",
    "    y_axis_label=\"Loss\",\n",
    "    params=params,\n",
    "    model_name=mlp_params.MODEL_NAME,\n",
    "    shuffle=mlp_params.SHUFFLE,\n",
    ")"
   ]
  },
  {
   "cell_type": "code",
   "execution_count": 18,
   "id": "9c595792",
   "metadata": {
    "execution": {
     "iopub.execute_input": "2023-08-18T18:07:22.431650Z",
     "iopub.status.busy": "2023-08-18T18:07:22.431265Z",
     "iopub.status.idle": "2023-08-18T18:07:25.400014Z",
     "shell.execute_reply": "2023-08-18T18:07:25.399178Z"
    },
    "papermill": {
     "duration": 2.986258,
     "end_time": "2023-08-18T18:07:25.402138",
     "exception": false,
     "start_time": "2023-08-18T18:07:22.415880",
     "status": "completed"
    },
    "tags": []
   },
   "outputs": [
    {
     "name": "stdout",
     "output_type": "stream",
     "text": [
      "DMSO_0.025_vs_Thapsigargin_1\n"
     ]
    }
   ],
   "source": [
    "# test the model on training data\n",
    "# calling the testing function and outputting list values of tested model\n",
    "if any(\n",
    "    model_type == mlp_params.MODEL_TYPE for model_type in [\"Multi_Class\", \"Regression\"]\n",
    "):\n",
    "    y_pred_list = test_optimized_model(\n",
    "        model,\n",
    "        valid_loader,\n",
    "        mlp_params,\n",
    "        model_name=mlp_params.MODEL_NAME,\n",
    "        shuffle=mlp_params.SHUFFLE,\n",
    "    )\n",
    "elif mlp_params.MODEL_TYPE == \"Binary_Classification\":\n",
    "    y_pred_list, y_pred_prob_list = test_optimized_model(\n",
    "        model,\n",
    "        train_loader,\n",
    "        mlp_params,\n",
    "        model_name=mlp_params.MODEL_NAME,\n",
    "        shuffle=mlp_params.SHUFFLE,\n",
    "    )\n",
    "else:\n",
    "    raise Exception(\"Model type must be specified for proper model testing\")\n",
    "\n",
    "# un-nest list if nested i.e. length of input data does not match length of output data\n",
    "if len(y_pred_list) != len(Y_test):\n",
    "    y_pred_list = un_nest(y_pred_list)\n",
    "    y_pred_prob_list = un_nest(y_pred_prob_list)\n",
    "else:\n",
    "    pass"
   ]
  },
  {
   "cell_type": "code",
   "execution_count": 19,
   "id": "4b269c1d",
   "metadata": {
    "execution": {
     "iopub.execute_input": "2023-08-18T18:07:25.452781Z",
     "iopub.status.busy": "2023-08-18T18:07:25.452411Z",
     "iopub.status.idle": "2023-08-18T18:07:28.834781Z",
     "shell.execute_reply": "2023-08-18T18:07:28.833953Z"
    },
    "papermill": {
     "duration": 3.40899,
     "end_time": "2023-08-18T18:07:28.836999",
     "exception": false,
     "start_time": "2023-08-18T18:07:25.428009",
     "status": "completed"
    },
    "tags": []
   },
   "outputs": [
    {
     "name": "stdout",
     "output_type": "stream",
     "text": [
      "              precision    recall  f1-score   support\n",
      "\n",
      "           0       0.86      0.92      0.89    149884\n",
      "           1       0.85      0.75      0.80     87993\n",
      "\n",
      "    accuracy                           0.86    237877\n",
      "   macro avg       0.86      0.84      0.85    237877\n",
      "weighted avg       0.86      0.86      0.86    237877\n",
      "\n"
     ]
    }
   ],
   "source": [
    "stats, recall, precision, f1, precision_, recall_, threshold_ = output_stats(\n",
    "    y_pred_list,\n",
    "    Y_train,\n",
    "    mlp_params,\n",
    "    y_pred_prob_list,\n",
    "    test_name=f\"{mlp_params.MODEL_NAME}_train\",\n",
    "    model_name=mlp_params.MODEL_NAME,\n",
    "    title=mlp_params.MODEL_NAME,\n",
    "    shuffle=mlp_params.SHUFFLE,\n",
    ")"
   ]
  },
  {
   "cell_type": "code",
   "execution_count": 20,
   "id": "fdde3d70",
   "metadata": {
    "execution": {
     "iopub.execute_input": "2023-08-18T18:07:28.885930Z",
     "iopub.status.busy": "2023-08-18T18:07:28.885661Z",
     "iopub.status.idle": "2023-08-18T18:07:28.904686Z",
     "shell.execute_reply": "2023-08-18T18:07:28.904041Z"
    },
    "papermill": {
     "duration": 0.043406,
     "end_time": "2023-08-18T18:07:28.906429",
     "exception": false,
     "start_time": "2023-08-18T18:07:28.863023",
     "status": "completed"
    },
    "tags": []
   },
   "outputs": [],
   "source": [
    "threshold_ = np.append(threshold_, None)\n",
    "stats_df = pd.DataFrame(\n",
    "    {\n",
    "        \"PR_Threshold\": threshold_,\n",
    "        \"Precision\": precision_,\n",
    "        \"Recall\": recall_,\n",
    "    }\n",
    ")\n",
    "\n",
    "stats_df[\"treatments_tested\"] = (\n",
    "    mlp_params.CONTROL_NAME + \" vs. \" + mlp_params.TREATMENT_NAME\n",
    ")\n",
    "stats_df[\"model\"] = mlp_params.MODEL_NAME\n",
    "stats_df[\"group\"] = \"train\"\n",
    "stats_df[\"shuffled_data\"] = mlp_params.SHUFFLE\n",
    "\n",
    "model_stats_df = pd.concat([model_stats_df, stats_df], axis=0)"
   ]
  },
  {
   "cell_type": "code",
   "execution_count": 21,
   "id": "52b5399f",
   "metadata": {
    "execution": {
     "iopub.execute_input": "2023-08-18T18:07:28.939348Z",
     "iopub.status.busy": "2023-08-18T18:07:28.938980Z",
     "iopub.status.idle": "2023-08-18T18:07:29.285555Z",
     "shell.execute_reply": "2023-08-18T18:07:29.285024Z"
    },
    "papermill": {
     "duration": 0.364687,
     "end_time": "2023-08-18T18:07:29.287065",
     "exception": false,
     "start_time": "2023-08-18T18:07:28.922378",
     "status": "completed"
    },
    "tags": []
   },
   "outputs": [
    {
     "name": "stdout",
     "output_type": "stream",
     "text": [
      "DMSO_0.025_vs_Thapsigargin_1\n"
     ]
    }
   ],
   "source": [
    "# test the model on training data\n",
    "# calling the testing function and outputting list values of tested model\n",
    "if any(\n",
    "    model_type == mlp_params.MODEL_TYPE for model_type in [\"Multi_Class\", \"Regression\"]\n",
    "):\n",
    "    y_pred_list = test_optimized_model(\n",
    "        model,\n",
    "        valid_loader,\n",
    "        mlp_params,\n",
    "        model_name=mlp_params.MODEL_NAME,\n",
    "        shuffle=mlp_params.SHUFFLE,\n",
    "    )\n",
    "elif mlp_params.MODEL_TYPE == \"Binary_Classification\":\n",
    "    y_pred_list, y_pred_prob_list = test_optimized_model(\n",
    "        model,\n",
    "        valid_loader,\n",
    "        mlp_params,\n",
    "        model_name=mlp_params.MODEL_NAME,\n",
    "        shuffle=mlp_params.SHUFFLE,\n",
    "    )\n",
    "else:\n",
    "    raise Exception(\"Model type must be specified for proper model testing\")\n",
    "\n",
    "# un-nest list if nested i.e. length of input data does not match length of output data\n",
    "if len(y_pred_list) != len(Y_test):\n",
    "    y_pred_list = un_nest(y_pred_list)\n",
    "    y_pred_prob_list = un_nest(y_pred_prob_list)\n",
    "else:\n",
    "    pass"
   ]
  },
  {
   "cell_type": "code",
   "execution_count": 22,
   "id": "19cbbee4",
   "metadata": {
    "execution": {
     "iopub.execute_input": "2023-08-18T18:07:29.316075Z",
     "iopub.status.busy": "2023-08-18T18:07:29.315519Z",
     "iopub.status.idle": "2023-08-18T18:07:29.319613Z",
     "shell.execute_reply": "2023-08-18T18:07:29.319014Z"
    },
    "papermill": {
     "duration": 0.016873,
     "end_time": "2023-08-18T18:07:29.320770",
     "exception": false,
     "start_time": "2023-08-18T18:07:29.303897",
     "status": "completed"
    },
    "tags": []
   },
   "outputs": [
    {
     "data": {
      "text/plain": [
       "False"
      ]
     },
     "execution_count": 22,
     "metadata": {},
     "output_type": "execute_result"
    }
   ],
   "source": [
    "mlp_params.SHUFFLE"
   ]
  },
  {
   "cell_type": "code",
   "execution_count": 23,
   "id": "444b8e3e",
   "metadata": {
    "execution": {
     "iopub.execute_input": "2023-08-18T18:07:29.341721Z",
     "iopub.status.busy": "2023-08-18T18:07:29.341405Z",
     "iopub.status.idle": "2023-08-18T18:07:29.553197Z",
     "shell.execute_reply": "2023-08-18T18:07:29.552613Z"
    },
    "papermill": {
     "duration": 0.22338,
     "end_time": "2023-08-18T18:07:29.554229",
     "exception": false,
     "start_time": "2023-08-18T18:07:29.330849",
     "status": "completed"
    },
    "tags": []
   },
   "outputs": [
    {
     "name": "stdout",
     "output_type": "stream",
     "text": [
      "              precision    recall  f1-score   support\n",
      "\n",
      "           0       0.85      0.91      0.88     18736\n",
      "           1       0.83      0.73      0.78     10999\n",
      "\n",
      "    accuracy                           0.84     29735\n",
      "   macro avg       0.84      0.82      0.83     29735\n",
      "weighted avg       0.84      0.84      0.84     29735\n",
      "\n"
     ]
    }
   ],
   "source": [
    "stats, recall, precision, f1, precision_, recall_, threshold_ = output_stats(\n",
    "    y_pred_list,\n",
    "    Y_val,\n",
    "    mlp_params,\n",
    "    y_pred_prob_list,\n",
    "    test_name=f\"{mlp_params.MODEL_NAME}_validation\",\n",
    "    model_name=mlp_params.MODEL_NAME,\n",
    "    title=mlp_params.MODEL_NAME,\n",
    "    shuffle=mlp_params.SHUFFLE,\n",
    ")"
   ]
  },
  {
   "cell_type": "code",
   "execution_count": 24,
   "id": "2573e7a6",
   "metadata": {
    "execution": {
     "iopub.execute_input": "2023-08-18T18:07:29.574980Z",
     "iopub.status.busy": "2023-08-18T18:07:29.574587Z",
     "iopub.status.idle": "2023-08-18T18:07:29.592044Z",
     "shell.execute_reply": "2023-08-18T18:07:29.591512Z"
    },
    "papermill": {
     "duration": 0.029224,
     "end_time": "2023-08-18T18:07:29.593297",
     "exception": false,
     "start_time": "2023-08-18T18:07:29.564073",
     "status": "completed"
    },
    "tags": []
   },
   "outputs": [],
   "source": [
    "threshold_ = np.append(threshold_, None)\n",
    "stats_df = pd.DataFrame(\n",
    "    {\n",
    "        \"PR_Threshold\": threshold_,\n",
    "        \"Precision\": precision_,\n",
    "        \"Recall\": recall_,\n",
    "    }\n",
    ")\n",
    "\n",
    "stats_df[\"treatments_tested\"] = (\n",
    "    mlp_params.CONTROL_NAME + \" vs. \" + mlp_params.TREATMENT_NAME\n",
    ")\n",
    "stats_df[\"model\"] = mlp_params.MODEL_NAME\n",
    "stats_df[\"group\"] = \"validation\"\n",
    "stats_df[\"shuffled_data\"] = mlp_params.SHUFFLE\n",
    "\n",
    "model_stats_df = pd.concat([model_stats_df, stats_df], axis=0)"
   ]
  },
  {
   "cell_type": "code",
   "execution_count": 25,
   "id": "f179b14f",
   "metadata": {
    "execution": {
     "iopub.execute_input": "2023-08-18T18:07:29.614554Z",
     "iopub.status.busy": "2023-08-18T18:07:29.614173Z",
     "iopub.status.idle": "2023-08-18T18:07:29.617863Z",
     "shell.execute_reply": "2023-08-18T18:07:29.617415Z"
    },
    "papermill": {
     "duration": 0.015086,
     "end_time": "2023-08-18T18:07:29.618837",
     "exception": false,
     "start_time": "2023-08-18T18:07:29.603751",
     "status": "completed"
    },
    "tags": []
   },
   "outputs": [
    {
     "data": {
      "text/plain": [
       "'DMSO_0.025_vs_Thapsigargin_1'"
      ]
     },
     "execution_count": 25,
     "metadata": {},
     "output_type": "execute_result"
    }
   ],
   "source": [
    "mlp_params.MODEL_NAME"
   ]
  },
  {
   "cell_type": "code",
   "execution_count": 26,
   "id": "d30cef39",
   "metadata": {
    "execution": {
     "iopub.execute_input": "2023-08-18T18:07:29.639335Z",
     "iopub.status.busy": "2023-08-18T18:07:29.638900Z",
     "iopub.status.idle": "2023-08-18T18:07:33.734569Z",
     "shell.execute_reply": "2023-08-18T18:07:33.734048Z"
    },
    "papermill": {
     "duration": 4.107355,
     "end_time": "2023-08-18T18:07:33.735962",
     "exception": false,
     "start_time": "2023-08-18T18:07:29.628607",
     "status": "completed"
    },
    "tags": []
   },
   "outputs": [
    {
     "name": "stdout",
     "output_type": "stream",
     "text": [
      "DMSO_0.025_vs_Thapsigargin_1\n"
     ]
    }
   ],
   "source": [
    "# calling the testing function and outputting list values of tested model\n",
    "if any(\n",
    "    model_type == mlp_params.MODEL_TYPE for model_type in [\"Multi_Class\", \"Regression\"]\n",
    "):\n",
    "    y_pred_list = test_optimized_model(\n",
    "        model,\n",
    "        test_loader,\n",
    "        params,\n",
    "        model_name=mlp_params.MODEL_NAME,\n",
    "        shuffle=mlp_params.SHUFFLE,\n",
    "    )\n",
    "elif mlp_params.MODEL_TYPE == \"Binary_Classification\":\n",
    "    y_pred_list, y_pred_prob_list = test_optimized_model(\n",
    "        model,\n",
    "        test_loader,\n",
    "        params,\n",
    "        model_name=mlp_params.MODEL_NAME,\n",
    "        shuffle=mlp_params.SHUFFLE,\n",
    "    )\n",
    "else:\n",
    "    raise Exception(\"Model type must be specified for proper model testing\")\n",
    "\n",
    "\n",
    "# un-nest list if nested i.e. length of input data does not match length of output data\n",
    "if len(y_pred_list) != len(Y_test):\n",
    "    y_pred_list = un_nest(y_pred_list)\n",
    "    y_pred_prob_list = un_nest(y_pred_prob_list)\n",
    "else:\n",
    "    pass"
   ]
  },
  {
   "cell_type": "code",
   "execution_count": 27,
   "id": "ba2c00bd",
   "metadata": {
    "execution": {
     "iopub.execute_input": "2023-08-18T18:07:33.760660Z",
     "iopub.status.busy": "2023-08-18T18:07:33.760204Z",
     "iopub.status.idle": "2023-08-18T18:07:34.366964Z",
     "shell.execute_reply": "2023-08-18T18:07:34.366542Z"
    },
    "papermill": {
     "duration": 0.618389,
     "end_time": "2023-08-18T18:07:34.367911",
     "exception": false,
     "start_time": "2023-08-18T18:07:33.749522",
     "status": "completed"
    },
    "tags": []
   },
   "outputs": [
    {
     "name": "stdout",
     "output_type": "stream",
     "text": [
      "              precision    recall  f1-score   support\n",
      "\n",
      "           0       0.85      0.91      0.88     18736\n",
      "           1       0.83      0.73      0.78     10999\n",
      "\n",
      "    accuracy                           0.84     29735\n",
      "   macro avg       0.84      0.82      0.83     29735\n",
      "weighted avg       0.84      0.84      0.84     29735\n",
      "\n"
     ]
    },
    {
     "data": {
      "image/png": "[encoded data removed]",
      "text/plain": [
       "<Figure size 640x480 with 2 Axes>"
      ]
     },
     "metadata": {},
     "output_type": "display_data"
    },
    {
     "data": {
      "image/png": "[encoded data removed]",
      "text/plain": [
       "<Figure size 550x400 with 1 Axes>"
      ]
     },
     "metadata": {},
     "output_type": "display_data"
    }
   ],
   "source": [
    "# Call visualization function\n",
    "# calling the testing function and outputing list values of tested model\n",
    "if any(\n",
    "    model_type == mlp_params.MODEL_TYPE for model_type in [\"Multi_Class\", \"Regression\"]\n",
    "):\n",
    "    confusion_matrix_df = results_output(\n",
    "        y_pred_list,\n",
    "        Y_test,\n",
    "        params,\n",
    "        test_name=f\"{mlp_params.MODEL_NAME}_testing\",\n",
    "        model_name=mlp_params.MODEL_NAME,\n",
    "        title=mlp_params.MODEL_NAME,\n",
    "        shuffle=mlp_params.SHUFFLE,\n",
    "    )\n",
    "elif mlp_params.MODEL_TYPE == \"Binary_Classification\":\n",
    "    results_output(\n",
    "        y_pred_list,\n",
    "        Y_test,\n",
    "        params,\n",
    "        y_pred_prob_list,\n",
    "        test_name=f\"{mlp_params.MODEL_NAME}_testing\",\n",
    "        model_name=mlp_params.MODEL_NAME,\n",
    "        title=mlp_params.MODEL_NAME,\n",
    "        shuffle=mlp_params.SHUFFLE,\n",
    "    )\n",
    "else:\n",
    "    raise Exception(\"Model type must be specified for proper model testing\")"
   ]
  },
  {
   "cell_type": "code",
   "execution_count": 28,
   "id": "6e9b9cc1",
   "metadata": {
    "execution": {
     "iopub.execute_input": "2023-08-18T18:07:34.455389Z",
     "iopub.status.busy": "2023-08-18T18:07:34.455037Z",
     "iopub.status.idle": "2023-08-18T18:07:34.616814Z",
     "shell.execute_reply": "2023-08-18T18:07:34.616373Z"
    },
    "papermill": {
     "duration": 0.174427,
     "end_time": "2023-08-18T18:07:34.617729",
     "exception": false,
     "start_time": "2023-08-18T18:07:34.443302",
     "status": "completed"
    },
    "tags": []
   },
   "outputs": [
    {
     "name": "stdout",
     "output_type": "stream",
     "text": [
      "              precision    recall  f1-score   support\n",
      "\n",
      "           0       0.85      0.91      0.88     18736\n",
      "           1       0.83      0.73      0.78     10999\n",
      "\n",
      "    accuracy                           0.84     29735\n",
      "   macro avg       0.84      0.82      0.83     29735\n",
      "weighted avg       0.84      0.84      0.84     29735\n",
      "\n"
     ]
    }
   ],
   "source": [
    "stats, recall, precision, f1, precision_, recall_, threshold_ = output_stats(\n",
    "    y_pred_list,\n",
    "    Y_test,\n",
    "    mlp_params,\n",
    "    y_pred_prob_list,\n",
    "    test_name=f\"{mlp_params.MODEL_NAME}_test\",\n",
    "    model_name=mlp_params.MODEL_NAME,\n",
    "    title=mlp_params.MODEL_NAME,\n",
    "    shuffle=mlp_params.SHUFFLE,\n",
    ")"
   ]
  },
  {
   "cell_type": "code",
   "execution_count": 29,
   "id": "5e49a4d0",
   "metadata": {
    "execution": {
     "iopub.execute_input": "2023-08-18T18:07:34.640121Z",
     "iopub.status.busy": "2023-08-18T18:07:34.639772Z",
     "iopub.status.idle": "2023-08-18T18:07:34.649248Z",
     "shell.execute_reply": "2023-08-18T18:07:34.648773Z"
    },
    "papermill": {
     "duration": 0.021621,
     "end_time": "2023-08-18T18:07:34.650240",
     "exception": false,
     "start_time": "2023-08-18T18:07:34.628619",
     "status": "completed"
    },
    "tags": []
   },
   "outputs": [],
   "source": [
    "threshold_ = np.append(threshold_, None)\n",
    "stats_df = pd.DataFrame(\n",
    "    {\n",
    "        \"PR_Threshold\": threshold_,\n",
    "        \"Precision\": precision_,\n",
    "        \"Recall\": recall_,\n",
    "    }\n",
    ")\n",
    "\n",
    "stats_df[\"treatments_tested\"] = (\n",
    "    mlp_params.CONTROL_NAME + \" vs. \" + mlp_params.TREATMENT_NAME\n",
    ")\n",
    "stats_df[\"model\"] = mlp_params.MODEL_NAME\n",
    "stats_df[\"group\"] = \"test\"\n",
    "stats_df[\"shuffled_data\"] = mlp_params.SHUFFLE\n",
    "\n",
    "model_stats_df = pd.concat([model_stats_df, stats_df], axis=0)"
   ]
  },
  {
   "cell_type": "markdown",
   "id": "bd07fbb7",
   "metadata": {
    "papermill": {
     "duration": 0.01068,
     "end_time": "2023-08-18T18:07:34.672228",
     "exception": false,
     "start_time": "2023-08-18T18:07:34.661548",
     "status": "completed"
    },
    "tags": []
   },
   "source": [
    "## Test the hold out wells"
   ]
  },
  {
   "cell_type": "code",
   "execution_count": 30,
   "id": "139582e1",
   "metadata": {
    "execution": {
     "iopub.execute_input": "2023-08-18T18:07:34.694651Z",
     "iopub.status.busy": "2023-08-18T18:07:34.694350Z",
     "iopub.status.idle": "2023-08-18T18:07:34.779648Z",
     "shell.execute_reply": "2023-08-18T18:07:34.779129Z"
    },
    "papermill": {
     "duration": 0.09801,
     "end_time": "2023-08-18T18:07:34.780940",
     "exception": false,
     "start_time": "2023-08-18T18:07:34.682930",
     "status": "completed"
    },
    "tags": []
   },
   "outputs": [],
   "source": [
    "# Code snippet for metadata extraction by Jenna Tomkinson\n",
    "df_metadata = list(df_holdout.columns[df_holdout.columns.str.startswith(\"Metadata\")])\n",
    "\n",
    "# define which columns are data and which are descriptive\n",
    "df_descriptive = df_holdout[df_metadata]\n",
    "df_values = df_holdout.drop(columns=df_metadata)"
   ]
  },
  {
   "cell_type": "code",
   "execution_count": 31,
   "id": "b6b929e3",
   "metadata": {
    "execution": {
     "iopub.execute_input": "2023-08-18T18:07:34.804466Z",
     "iopub.status.busy": "2023-08-18T18:07:34.804090Z",
     "iopub.status.idle": "2023-08-18T18:07:34.889292Z",
     "shell.execute_reply": "2023-08-18T18:07:34.888790Z"
    },
    "papermill": {
     "duration": 0.098107,
     "end_time": "2023-08-18T18:07:34.890691",
     "exception": false,
     "start_time": "2023-08-18T18:07:34.792584",
     "status": "completed"
    },
    "tags": []
   },
   "outputs": [],
   "source": [
    "# Creating label encoder\n",
    "le = preprocessing.LabelEncoder()\n",
    "# Converting strings into numbers\n",
    "df_values[\"oneb_Metadata_Treatment_Dose_Inhibitor_Dose\"] = le.fit_transform(\n",
    "    df_values[\"oneb_Metadata_Treatment_Dose_Inhibitor_Dose\"]\n",
    ")\n",
    "# split into X and Y where Y are the predictive column and x are the observable data\n",
    "df_values_X = df_values.drop(\n",
    "    [\n",
    "        \"oneb_Metadata_Treatment_Dose_Inhibitor_Dose\",\n",
    "        \"twob_Metadata_Treatment_Dose_Inhibitor_Dose\",\n",
    "        \"threeb_Metadata_Treatment_Dose_Inhibitor_Dose\",\n",
    "        \"fourb_Metadata_Treatment_Dose_Inhibitor_Dose\",\n",
    "    ],\n",
    "    axis=1,\n",
    ")\n",
    "df_values_Y = df_values[\"oneb_Metadata_Treatment_Dose_Inhibitor_Dose\"]"
   ]
  },
  {
   "cell_type": "code",
   "execution_count": 32,
   "id": "3c45de2b",
   "metadata": {
    "execution": {
     "iopub.execute_input": "2023-08-18T18:07:34.913932Z",
     "iopub.status.busy": "2023-08-18T18:07:34.913660Z",
     "iopub.status.idle": "2023-08-18T18:07:44.681233Z",
     "shell.execute_reply": "2023-08-18T18:07:44.680781Z"
    },
    "papermill": {
     "duration": 9.780052,
     "end_time": "2023-08-18T18:07:44.682221",
     "exception": false,
     "start_time": "2023-08-18T18:07:34.902169",
     "status": "completed"
    },
    "tags": []
   },
   "outputs": [
    {
     "name": "stdout",
     "output_type": "stream",
     "text": [
      "DMSO_0.025_vs_Thapsigargin_1\n"
     ]
    },
    {
     "name": "stdout",
     "output_type": "stream",
     "text": [
      "              precision    recall  f1-score   support\n",
      "\n",
      "           0       0.74      0.83      0.78     27774\n",
      "           1       0.87      0.79      0.83     38465\n",
      "\n",
      "    accuracy                           0.81     66239\n",
      "   macro avg       0.80      0.81      0.81     66239\n",
      "weighted avg       0.81      0.81      0.81     66239\n",
      "\n"
     ]
    },
    {
     "data": {
      "image/png": "[encoded data removed]",
      "text/plain": [
       "<Figure size 640x480 with 2 Axes>"
      ]
     },
     "metadata": {},
     "output_type": "display_data"
    },
    {
     "data": {
      "image/png": "[encoded data removed]",
      "text/plain": [
       "<Figure size 550x400 with 1 Axes>"
      ]
     },
     "metadata": {},
     "output_type": "display_data"
    }
   ],
   "source": [
    "test_data = Dataset_formatter(\n",
    "    torch.FloatTensor(df_values_X.values), torch.FloatTensor(df_values_Y.values)\n",
    ")\n",
    "\n",
    "# convert data class into a dataloader to be compatible with pytorch\n",
    "test_loader = torch.utils.data.DataLoader(\n",
    "    dataset=test_data, batch_size=1, shuffle=mlp_params.SHUFFLE\n",
    ")\n",
    "\n",
    "# calling the testing function and outputting list values of tested model\n",
    "if any(\n",
    "    model_type == mlp_params.MODEL_TYPE for model_type in [\"Multi_Class\", \"Regression\"]\n",
    "):\n",
    "    y_pred_list = test_optimized_model(\n",
    "        model,\n",
    "        test_loader,\n",
    "        params,\n",
    "        model_name=mlp_params.MODEL_NAME,\n",
    "        shuffle=mlp_params.SHUFFLE,\n",
    "    )\n",
    "elif mlp_params.MODEL_TYPE == \"Binary_Classification\":\n",
    "    y_pred_list, y_pred_prob_list = test_optimized_model(\n",
    "        model,\n",
    "        test_loader,\n",
    "        params,\n",
    "        model_name=mlp_params.MODEL_NAME,\n",
    "        shuffle=mlp_params.SHUFFLE,\n",
    "    )\n",
    "else:\n",
    "    raise Exception(\"Model type must be specified for proper model testing\")\n",
    "\n",
    "# un-nest list if nested i.e. length of input data does not match length of output data\n",
    "if len(y_pred_list) != len(df_values_Y):\n",
    "    y_pred_list = un_nest(y_pred_list)\n",
    "    y_pred_prob_list = un_nest(y_pred_prob_list)\n",
    "else:\n",
    "    pass\n",
    "\n",
    "# Call visualization function\n",
    "# calling the testing function and outputing list values of tested model\n",
    "if any(\n",
    "    model_type == mlp_params.MODEL_TYPE for model_type in [\"Multi_Class\", \"Regression\"]\n",
    "):\n",
    "    confusion_matrix_df = results_output(\n",
    "        y_pred_list,\n",
    "        df_values_Y,\n",
    "        params,\n",
    "        test_name=f\"{mlp_params.MODEL_NAME}_hold_out\",\n",
    "        model_name=mlp_params.MODEL_NAME,\n",
    "        title=mlp_params.MODEL_NAME,\n",
    "        shuffle=mlp_params.SHUFFLE,\n",
    "    )\n",
    "elif mlp_params.MODEL_TYPE == \"Binary_Classification\":\n",
    "    results_output(\n",
    "        y_pred_list,\n",
    "        df_values_Y,\n",
    "        params,\n",
    "        y_pred_prob_list,\n",
    "        test_name=f\"{mlp_params.MODEL_NAME}_hold_out\",\n",
    "        model_name=mlp_params.MODEL_NAME,\n",
    "        title=mlp_params.MODEL_NAME,\n",
    "        shuffle=mlp_params.SHUFFLE,\n",
    "    )\n",
    "else:\n",
    "    raise Exception(\"Model type must be specified for proper model testing\")"
   ]
  },
  {
   "cell_type": "code",
   "execution_count": 33,
   "id": "d9c38144",
   "metadata": {
    "execution": {
     "iopub.execute_input": "2023-08-18T18:07:44.709508Z",
     "iopub.status.busy": "2023-08-18T18:07:44.709067Z",
     "iopub.status.idle": "2023-08-18T18:07:45.015420Z",
     "shell.execute_reply": "2023-08-18T18:07:45.014993Z"
    },
    "papermill": {
     "duration": 0.32,
     "end_time": "2023-08-18T18:07:45.016526",
     "exception": false,
     "start_time": "2023-08-18T18:07:44.696526",
     "status": "completed"
    },
    "tags": []
   },
   "outputs": [
    {
     "name": "stdout",
     "output_type": "stream",
     "text": [
      "              precision    recall  f1-score   support\n",
      "\n",
      "           0       0.74      0.83      0.78     27774\n",
      "           1       0.87      0.79      0.83     38465\n",
      "\n",
      "    accuracy                           0.81     66239\n",
      "   macro avg       0.80      0.81      0.81     66239\n",
      "weighted avg       0.81      0.81      0.81     66239\n",
      "\n"
     ]
    }
   ],
   "source": [
    "stats, recall, precision, f1, precision_, recall_, threshold_ = output_stats(\n",
    "    y_pred_list,\n",
    "    df_values_Y,\n",
    "    mlp_params,\n",
    "    y_pred_prob_list,\n",
    "    test_name=f\"{mlp_params.MODEL_NAME}_hold_out\",\n",
    "    model_name=mlp_params.MODEL_NAME,\n",
    "    title=mlp_params.MODEL_NAME,\n",
    "    shuffle=mlp_params.SHUFFLE,\n",
    ")"
   ]
  },
  {
   "cell_type": "code",
   "execution_count": 34,
   "id": "61319294",
   "metadata": {
    "execution": {
     "iopub.execute_input": "2023-08-18T18:07:45.041316Z",
     "iopub.status.busy": "2023-08-18T18:07:45.041043Z",
     "iopub.status.idle": "2023-08-18T18:07:45.052677Z",
     "shell.execute_reply": "2023-08-18T18:07:45.052239Z"
    },
    "papermill": {
     "duration": 0.025044,
     "end_time": "2023-08-18T18:07:45.053783",
     "exception": false,
     "start_time": "2023-08-18T18:07:45.028739",
     "status": "completed"
    },
    "tags": []
   },
   "outputs": [],
   "source": [
    "threshold_ = np.append(threshold_, None)\n",
    "stats_df = pd.DataFrame(\n",
    "    {\n",
    "        \"PR_Threshold\": threshold_,\n",
    "        \"Precision\": precision_,\n",
    "        \"Recall\": recall_,\n",
    "    }\n",
    ")\n",
    "\n",
    "stats_df[\"treatments_tested\"] = (\n",
    "    mlp_params.CONTROL_NAME + \" vs. \" + mlp_params.TREATMENT_NAME\n",
    ")\n",
    "stats_df[\"model\"] = mlp_params.MODEL_NAME\n",
    "stats_df[\"group\"] = \"holdout\"\n",
    "stats_df[\"shuffled_data\"] = mlp_params.SHUFFLE\n",
    "\n",
    "model_stats_df = pd.concat([model_stats_df, stats_df], axis=0)"
   ]
  },
  {
   "cell_type": "code",
   "execution_count": 35,
   "id": "c9468255",
   "metadata": {
    "execution": {
     "iopub.execute_input": "2023-08-18T18:07:45.078193Z",
     "iopub.status.busy": "2023-08-18T18:07:45.077931Z",
     "iopub.status.idle": "2023-08-18T18:07:45.086536Z",
     "shell.execute_reply": "2023-08-18T18:07:45.086137Z"
    },
    "papermill": {
     "duration": 0.02174,
     "end_time": "2023-08-18T18:07:45.087457",
     "exception": false,
     "start_time": "2023-08-18T18:07:45.065717",
     "status": "completed"
    },
    "tags": []
   },
   "outputs": [
    {
     "data": {
      "text/html": [
       "<div>\n",
       "<style scoped>\n",
       "    .dataframe tbody tr th:only-of-type {\n",
       "        vertical-align: middle;\n",
       "    }\n",
       "\n",
       "    .dataframe tbody tr th {\n",
       "        vertical-align: top;\n",
       "    }\n",
       "\n",
       "    .dataframe thead th {\n",
       "        text-align: right;\n",
       "    }\n",
       "</style>\n",
       "<table border=\"1\" class=\"dataframe\">\n",
       "  <thead>\n",
       "    <tr style=\"text-align: right;\">\n",
       "      <th></th>\n",
       "      <th>treatments_tested</th>\n",
       "      <th>model</th>\n",
       "      <th>group</th>\n",
       "      <th>shuffled_data</th>\n",
       "      <th>PR_Threshold</th>\n",
       "      <th>Precision</th>\n",
       "      <th>Recall</th>\n",
       "    </tr>\n",
       "  </thead>\n",
       "  <tbody>\n",
       "    <tr>\n",
       "      <th>0</th>\n",
       "      <td>DMSO_0.100_DMSO_0.025 vs. Thapsigargin_1.000_D...</td>\n",
       "      <td>DMSO_0.025_vs_Thapsigargin_1</td>\n",
       "      <td>train</td>\n",
       "      <td>False</td>\n",
       "      <td>0.0</td>\n",
       "      <td>0.369910</td>\n",
       "      <td>1.000000</td>\n",
       "    </tr>\n",
       "    <tr>\n",
       "      <th>1</th>\n",
       "      <td>DMSO_0.100_DMSO_0.025 vs. Thapsigargin_1.000_D...</td>\n",
       "      <td>DMSO_0.025_vs_Thapsigargin_1</td>\n",
       "      <td>train</td>\n",
       "      <td>False</td>\n",
       "      <td>0.0</td>\n",
       "      <td>0.370015</td>\n",
       "      <td>1.000000</td>\n",
       "    </tr>\n",
       "    <tr>\n",
       "      <th>2</th>\n",
       "      <td>DMSO_0.100_DMSO_0.025 vs. Thapsigargin_1.000_D...</td>\n",
       "      <td>DMSO_0.025_vs_Thapsigargin_1</td>\n",
       "      <td>train</td>\n",
       "      <td>False</td>\n",
       "      <td>0.0</td>\n",
       "      <td>0.370017</td>\n",
       "      <td>1.000000</td>\n",
       "    </tr>\n",
       "    <tr>\n",
       "      <th>3</th>\n",
       "      <td>DMSO_0.100_DMSO_0.025 vs. Thapsigargin_1.000_D...</td>\n",
       "      <td>DMSO_0.025_vs_Thapsigargin_1</td>\n",
       "      <td>train</td>\n",
       "      <td>False</td>\n",
       "      <td>0.0</td>\n",
       "      <td>0.370019</td>\n",
       "      <td>1.000000</td>\n",
       "    </tr>\n",
       "    <tr>\n",
       "      <th>4</th>\n",
       "      <td>DMSO_0.100_DMSO_0.025 vs. Thapsigargin_1.000_D...</td>\n",
       "      <td>DMSO_0.025_vs_Thapsigargin_1</td>\n",
       "      <td>train</td>\n",
       "      <td>False</td>\n",
       "      <td>0.0</td>\n",
       "      <td>0.370020</td>\n",
       "      <td>1.000000</td>\n",
       "    </tr>\n",
       "    <tr>\n",
       "      <th>...</th>\n",
       "      <td>...</td>\n",
       "      <td>...</td>\n",
       "      <td>...</td>\n",
       "      <td>...</td>\n",
       "      <td>...</td>\n",
       "      <td>...</td>\n",
       "      <td>...</td>\n",
       "    </tr>\n",
       "    <tr>\n",
       "      <th>58723</th>\n",
       "      <td>DMSO_0.100_DMSO_0.025 vs. Thapsigargin_1.000_D...</td>\n",
       "      <td>DMSO_0.025_vs_Thapsigargin_1</td>\n",
       "      <td>holdout</td>\n",
       "      <td>False</td>\n",
       "      <td>0.999249</td>\n",
       "      <td>0.400000</td>\n",
       "      <td>0.000052</td>\n",
       "    </tr>\n",
       "    <tr>\n",
       "      <th>58724</th>\n",
       "      <td>DMSO_0.100_DMSO_0.025 vs. Thapsigargin_1.000_D...</td>\n",
       "      <td>DMSO_0.025_vs_Thapsigargin_1</td>\n",
       "      <td>holdout</td>\n",
       "      <td>False</td>\n",
       "      <td>0.999795</td>\n",
       "      <td>0.500000</td>\n",
       "      <td>0.000052</td>\n",
       "    </tr>\n",
       "    <tr>\n",
       "      <th>58725</th>\n",
       "      <td>DMSO_0.100_DMSO_0.025 vs. Thapsigargin_1.000_D...</td>\n",
       "      <td>DMSO_0.025_vs_Thapsigargin_1</td>\n",
       "      <td>holdout</td>\n",
       "      <td>False</td>\n",
       "      <td>0.999818</td>\n",
       "      <td>0.666667</td>\n",
       "      <td>0.000052</td>\n",
       "    </tr>\n",
       "    <tr>\n",
       "      <th>58726</th>\n",
       "      <td>DMSO_0.100_DMSO_0.025 vs. Thapsigargin_1.000_D...</td>\n",
       "      <td>DMSO_0.025_vs_Thapsigargin_1</td>\n",
       "      <td>holdout</td>\n",
       "      <td>False</td>\n",
       "      <td>1.0</td>\n",
       "      <td>1.000000</td>\n",
       "      <td>0.000052</td>\n",
       "    </tr>\n",
       "    <tr>\n",
       "      <th>58727</th>\n",
       "      <td>DMSO_0.100_DMSO_0.025 vs. Thapsigargin_1.000_D...</td>\n",
       "      <td>DMSO_0.025_vs_Thapsigargin_1</td>\n",
       "      <td>holdout</td>\n",
       "      <td>False</td>\n",
       "      <td>None</td>\n",
       "      <td>1.000000</td>\n",
       "      <td>0.000000</td>\n",
       "    </tr>\n",
       "  </tbody>\n",
       "</table>\n",
       "<p>327573 rows × 7 columns</p>\n",
       "</div>"
      ],
      "text/plain": [
       "                                       treatments_tested  \\\n",
       "0      DMSO_0.100_DMSO_0.025 vs. Thapsigargin_1.000_D...   \n",
       "1      DMSO_0.100_DMSO_0.025 vs. Thapsigargin_1.000_D...   \n",
       "2      DMSO_0.100_DMSO_0.025 vs. Thapsigargin_1.000_D...   \n",
       "3      DMSO_0.100_DMSO_0.025 vs. Thapsigargin_1.000_D...   \n",
       "4      DMSO_0.100_DMSO_0.025 vs. Thapsigargin_1.000_D...   \n",
       "...                                                  ...   \n",
       "58723  DMSO_0.100_DMSO_0.025 vs. Thapsigargin_1.000_D...   \n",
       "58724  DMSO_0.100_DMSO_0.025 vs. Thapsigargin_1.000_D...   \n",
       "58725  DMSO_0.100_DMSO_0.025 vs. Thapsigargin_1.000_D...   \n",
       "58726  DMSO_0.100_DMSO_0.025 vs. Thapsigargin_1.000_D...   \n",
       "58727  DMSO_0.100_DMSO_0.025 vs. Thapsigargin_1.000_D...   \n",
       "\n",
       "                              model    group shuffled_data PR_Threshold  \\\n",
       "0      DMSO_0.025_vs_Thapsigargin_1    train         False          0.0   \n",
       "1      DMSO_0.025_vs_Thapsigargin_1    train         False          0.0   \n",
       "2      DMSO_0.025_vs_Thapsigargin_1    train         False          0.0   \n",
       "3      DMSO_0.025_vs_Thapsigargin_1    train         False          0.0   \n",
       "4      DMSO_0.025_vs_Thapsigargin_1    train         False          0.0   \n",
       "...                             ...      ...           ...          ...   \n",
       "58723  DMSO_0.025_vs_Thapsigargin_1  holdout         False     0.999249   \n",
       "58724  DMSO_0.025_vs_Thapsigargin_1  holdout         False     0.999795   \n",
       "58725  DMSO_0.025_vs_Thapsigargin_1  holdout         False     0.999818   \n",
       "58726  DMSO_0.025_vs_Thapsigargin_1  holdout         False          1.0   \n",
       "58727  DMSO_0.025_vs_Thapsigargin_1  holdout         False         None   \n",
       "\n",
       "       Precision    Recall  \n",
       "0       0.369910  1.000000  \n",
       "1       0.370015  1.000000  \n",
       "2       0.370017  1.000000  \n",
       "3       0.370019  1.000000  \n",
       "4       0.370020  1.000000  \n",
       "...          ...       ...  \n",
       "58723   0.400000  0.000052  \n",
       "58724   0.500000  0.000052  \n",
       "58725   0.666667  0.000052  \n",
       "58726   1.000000  0.000052  \n",
       "58727   1.000000  0.000000  \n",
       "\n",
       "[327573 rows x 7 columns]"
      ]
     },
     "execution_count": 35,
     "metadata": {},
     "output_type": "execute_result"
    }
   ],
   "source": [
    "model_stats_df"
   ]
  },
  {
   "cell_type": "code",
   "execution_count": 36,
   "id": "e1e4b224",
   "metadata": {
    "execution": {
     "iopub.execute_input": "2023-08-18T18:07:45.112412Z",
     "iopub.status.busy": "2023-08-18T18:07:45.112158Z",
     "iopub.status.idle": "2023-08-18T18:07:48.147873Z",
     "shell.execute_reply": "2023-08-18T18:07:48.147334Z"
    },
    "papermill": {
     "duration": 3.049608,
     "end_time": "2023-08-18T18:07:48.149301",
     "exception": false,
     "start_time": "2023-08-18T18:07:45.099693",
     "status": "completed"
    },
    "tags": []
   },
   "outputs": [],
   "source": [
    "# set path for the model training metrics\n",
    "metrics_path = pathlib.Path(\n",
    "    f\"../../results/{mlp_params.MODEL_TYPE}/{mlp_params.MODEL_NAME}/{mlp_params.CELL_TYPE}\"\n",
    ")\n",
    "metrics_path.mkdir(parents=True, exist_ok=True)\n",
    "# check if the model training metrics file exists\n",
    "metrics_file = pathlib.Path(f\"{metrics_path}/training_metrics.csv\")\n",
    "if metrics_file.exists():\n",
    "    metrics_df = pd.read_csv(metrics_file)\n",
    "    if len(metrics_df[\"shuffled_data\"].unique()) > 1:\n",
    "        pass\n",
    "    elif metrics_df[\"shuffled_data\"].unique() == mlp_params.SHUFFLE:\n",
    "        pass\n",
    "    else:\n",
    "        metrics_df = pd.concat([metrics_df, model_stats_df], axis=0)\n",
    "        metrics_df.to_csv(metrics_file, index=False)\n",
    "else:\n",
    "    model_stats_df.to_csv(metrics_file, index=False)"
   ]
  }
 ],
 "metadata": {
  "kernelspec": {
   "display_name": "Interstellar",
   "language": "python",
   "name": "python3"
  },
  "language_info": {
   "codemirror_mode": {
    "name": "ipython",
    "version": 3
   },
   "file_extension": ".py",
   "mimetype": "text/x-python",
   "name": "python",
   "nbconvert_exporter": "python",
   "pygments_lexer": "ipython3",
   "version": "3.10.12"
  },
  "papermill": {
   "default_parameters": {},
   "duration": 418.011584,
   "end_time": "2023-08-18T18:07:48.779167",
   "environment_variables": {},
   "exception": null,
   "input_path": "train_binary_model.ipynb",
   "output_path": "train_binary_model.ipynb",
   "parameters": {
    "CELL_TYPE": "PBMC",
    "CONTROL_NAME": "DMSO_0.100_DMSO_0.025",
    "MODEL_NAME": "DMSO_0.025_vs_Thapsigargin_1",
    "SHUFFLE": false,
    "TREATMENT_NAME": "Thapsigargin_1.000_DMSO_0.025"
   },
   "start_time": "2023-08-18T18:00:50.767583",
   "version": "2.4.0"
  }
 },
 "nbformat": 4,
 "nbformat_minor": 5
}