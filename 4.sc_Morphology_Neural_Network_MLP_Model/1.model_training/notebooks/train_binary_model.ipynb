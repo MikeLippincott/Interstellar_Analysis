{
    "cells": [
        {
            "cell_type": "code",
            "execution_count": 1,
            "id": "76db0f62",
            "metadata": {
                "execution": {
                    "iopub.execute_input": "2023-08-19T05:24:39.185598Z",
                    "iopub.status.busy": "2023-08-19T05:24:39.185333Z",
                    "iopub.status.idle": "2023-08-19T05:24:43.053877Z",
                    "shell.execute_reply": "2023-08-19T05:24:43.053349Z"
                },
                "papermill": {
                    "duration": 3.877882,
                    "end_time": "2023-08-19T05:24:43.055363",
                    "exception": false,
                    "start_time": "2023-08-19T05:24:39.177481",
                    "status": "completed"
                },
                "tags": []
            },
            "outputs": [],
            "source": [
                "import argparse\n",
                "import ast\n",
                "import pathlib\n",
                "import sys\n",
                "\n",
                "import numpy as np\n",
                "import optuna\n",
                "import pandas as pd\n",
                "import pyarrow.parquet as pq\n",
                "import toml\n",
                "import torch\n",
                "from sklearn import preprocessing\n",
                "\n",
                "sys.path.append(\"../..\")\n",
                "\n",
                "import json\n",
                "\n",
                "from MLP_utils.parameters import Parameters\n",
                "from MLP_utils.utils import (\n",
                "    Dataset_formatter,\n",
                "    data_split,\n",
                "    extract_best_trial_params,\n",
                "    objective_model_optimizer,\n",
                "    optimized_model_create,\n",
                "    output_stats,\n",
                "    parameter_set,\n",
                "    plot_metric_vs_epoch,\n",
                "    results_output,\n",
                "    test_optimized_model,\n",
                "    train_optimized_model,\n",
                "    un_nest,\n",
                ")\n",
                "\n",
                "sys.path.append(\"../../..\")\n",
                "from utils.utils import df_stats"
            ]
        },
        {
            "cell_type": "markdown",
            "id": "7773f676",
            "metadata": {
                "papermill": {
                    "duration": 0.004834,
                    "end_time": "2023-08-19T05:24:43.078182",
                    "exception": false,
                    "start_time": "2023-08-19T05:24:43.073348",
                    "status": "completed"
                },
                "tags": []
            },
            "source": [
                "## Papermill is used for executing notebooks in the CLI with multiple parameters\n",
                "Here the `injected-parameters` cell is used to inject parameters into the notebook via papermill.\n",
                "This enables multiple notebooks to be executed with different parameters, preventing to manually update parameters or have multiple copies of the notebook."
            ]
        },
        {
            "cell_type": "code",
            "execution_count": null,
            "id": "d4430cfe",
            "metadata": {},
            "outputs": [],
            "source": [
                "# set up the parser\n",
                "parser = argparse.ArgumentParser(description=\"Train MLP model\")\n",
                "parser.add_argument(\n",
                "    \"--cell_type\",\n",
                "    type=str,\n",
                "    default=\"cell_type\",\n",
                "    help=\"cell type to train model on\",\n",
                ")\n",
                "parser.add_argument(\n",
                "    \"--control_name\",\n",
                "    type=str,\n",
                "    default=\"control_name\",\n",
                "    help=\"control name to train model on\",\n",
                ")\n",
                "parser.add_argument(\n",
                "    \"--treatment_name\",\n",
                "    type=str,\n",
                "    default=\"treatment_name\",\n",
                "    help=\"treatment name to train model on\",\n",
                ")\n",
                "parser.add_argument(\n",
                "    \"--shuffle\",\n",
                "    type=str,\n",
                "    default=\"False\",\n",
                "    help=\"shuffle data before training\",\n",
                ")\n",
                "\n",
                "# parse the arguments\n",
                "args = parser.parse_args()\n",
                "CELL_TYPE = args.cell_type\n",
                "CONTROL_NAME = args.control_name\n",
                "TREATMENT_NAME = args.treatment_name\n",
                "SHUFFLE = ast.literal_eval(args.shuffle)\n",
                "print(\n",
                "    f\"CELL_TYPE: {CELL_TYPE}\",\n",
                "    f\"CONTROL_NAME: {CONTROL_NAME}\",\n",
                "    f\"TREATMENT_NAME: {TREATMENT_NAME}\",\n",
                "    f\"SHUFFLE: {SHUFFLE}\",\n",
                "    sep=\"\\n\",\n",
                ")\n",
                "print(SHUFFLE)"
            ]
        },
        {
            "cell_type": "code",
            "execution_count": null,
            "id": "9da4f9ec",
            "metadata": {},
            "outputs": [],
            "source": [
                "MODEL_NAME = CONTROL_NAME + \"_vs_\" + TREATMENT_NAME"
            ]
        },
        {
            "cell_type": "code",
            "execution_count": 3,
            "id": "7fe861fc",
            "metadata": {
                "execution": {
                    "iopub.execute_input": "2023-08-19T05:24:43.102877Z",
                    "iopub.status.busy": "2023-08-19T05:24:43.102497Z",
                    "iopub.status.idle": "2023-08-19T05:24:43.106211Z",
                    "shell.execute_reply": "2023-08-19T05:24:43.105831Z"
                },
                "papermill": {
                    "duration": 0.010012,
                    "end_time": "2023-08-19T05:24:43.107087",
                    "exception": false,
                    "start_time": "2023-08-19T05:24:43.097075",
                    "status": "completed"
                },
                "tags": []
            },
            "outputs": [],
            "source": [
                "ml_configs_file = pathlib.Path(\"../../MLP_utils/binary_config.toml\").resolve(\n",
                "    strict=True\n",
                ")\n",
                "ml_configs = toml.load(ml_configs_file)\n",
                "params = Parameters()\n",
                "mlp_params = parameter_set(params, ml_configs)\n",
                "\n",
                "# overwrite params via command line arguments from papermill\n",
                "mlp_params.CELL_TYPE = CELL_TYPE\n",
                "mlp_params.MODEL_NAME = MODEL_NAME\n",
                "mlp_params.CONTROL_NAME = CONTROL_NAME\n",
                "mlp_params.TREATMENT_NAME = TREATMENT_NAME\n",
                "mlp_params.MODEL_NAME = MODEL_NAME\n",
                "mlp_params.SHUFFLE = SHUFFLE"
            ]
        },
        {
            "cell_type": "code",
            "execution_count": 4,
            "id": "5f05b3f4",
            "metadata": {
                "execution": {
                    "iopub.execute_input": "2023-08-19T05:24:43.117908Z",
                    "iopub.status.busy": "2023-08-19T05:24:43.117619Z",
                    "iopub.status.idle": "2023-08-19T05:26:30.009580Z",
                    "shell.execute_reply": "2023-08-19T05:26:30.008928Z"
                },
                "papermill": {
                    "duration": 106.89874,
                    "end_time": "2023-08-19T05:26:30.010955",
                    "exception": false,
                    "start_time": "2023-08-19T05:24:43.112215",
                    "status": "completed"
                },
                "tags": []
            },
            "outputs": [],
            "source": [
                "# Import Data\n",
                "# set data file path under pathlib path for multi-system use\n",
                "\n",
                "file_path = pathlib.Path(\n",
                "    f\"../../../data/{mlp_params.CELL_TYPE}_preprocessed_sc_norm.parquet\"\n",
                ").resolve(strict=True)\n",
                "\n",
                "df = pq.read_table(file_path).to_pandas()"
            ]
        },
        {
            "cell_type": "markdown",
            "id": "7c5e28b5",
            "metadata": {
                "papermill": {
                    "duration": 0.004814,
                    "end_time": "2023-08-19T05:26:30.052444",
                    "exception": false,
                    "start_time": "2023-08-19T05:26:30.047630",
                    "status": "completed"
                },
                "tags": []
            },
            "source": [
                "#### Set up Data to be compatible with model"
            ]
        },
        {
            "cell_type": "markdown",
            "id": "5efd38f4",
            "metadata": {
                "papermill": {
                    "duration": 0.021462,
                    "end_time": "2023-08-19T05:26:30.078675",
                    "exception": false,
                    "start_time": "2023-08-19T05:26:30.057213",
                    "status": "completed"
                },
                "tags": []
            },
            "source": [
                "##### Classification Models:\n",
                "Comment out code if using regression"
            ]
        },
        {
            "cell_type": "code",
            "execution_count": 6,
            "id": "892c99cb",
            "metadata": {
                "execution": {
                    "iopub.execute_input": "2023-08-19T05:26:30.089903Z",
                    "iopub.status.busy": "2023-08-19T05:26:30.089430Z",
                    "iopub.status.idle": "2023-08-19T05:26:31.474792Z",
                    "shell.execute_reply": "2023-08-19T05:26:31.474092Z"
                },
                "papermill": {
                    "duration": 1.391811,
                    "end_time": "2023-08-19T05:26:31.475884",
                    "exception": false,
                    "start_time": "2023-08-19T05:26:30.084073",
                    "status": "completed"
                },
                "tags": []
            },
            "outputs": [
                {
                    "name": "stdout",
                    "output_type": "stream",
                    "text": [
                        "Selected Catagories are:\n",
                        "['DMSO_0.100_DMSO_0.025' 'Thapsigargin_1.000_DMSO_0.025']\n",
                        "The dimensions of the data are: (363586, 1270)\n"
                    ]
                },
                {
                    "name": "stdout",
                    "output_type": "stream",
                    "text": [
                        "Number of total missing values across all columns: 727172\n",
                        "Data Subset Is Off\n"
                    ]
                }
            ],
            "source": [
                "# filter the oneb_Metadata_Treatment_Dose_Inhibitor_Dose column to only include the treatment and control via loc\n",
                "df = df.loc[\n",
                "    df[\"oneb_Metadata_Treatment_Dose_Inhibitor_Dose\"].isin(\n",
                "        [mlp_params.TREATMENT_NAME, mlp_params.CONTROL_NAME]\n",
                "    )\n",
                "]\n",
                "\n",
                "\n",
                "print(\"Selected Catagories are:\")\n",
                "print(df[\"oneb_Metadata_Treatment_Dose_Inhibitor_Dose\"].unique())\n",
                "df_stats(df)\n",
                "\n",
                "if mlp_params.DATA_SUBSET_OPTION == \"True\":\n",
                "    df = df.sample(n=mlp_params.DATA_SUBSET_NUMBER)\n",
                "    print(\"Data Subset Is On\")\n",
                "    print(f\"Data is subset to {mlp_params.DATA_SUBSET_NUMBER}\")\n",
                "else:\n",
                "    print(\"Data Subset Is Off\")"
            ]
        },
        {
            "cell_type": "code",
            "execution_count": 7,
            "id": "4717fd07",
            "metadata": {
                "execution": {
                    "iopub.execute_input": "2023-08-19T05:26:31.487574Z",
                    "iopub.status.busy": "2023-08-19T05:26:31.487139Z",
                    "iopub.status.idle": "2023-08-19T05:26:34.806406Z",
                    "shell.execute_reply": "2023-08-19T05:26:34.805722Z"
                },
                "papermill": {
                    "duration": 3.326079,
                    "end_time": "2023-08-19T05:26:34.807432",
                    "exception": false,
                    "start_time": "2023-08-19T05:26:31.481353",
                    "status": "completed"
                },
                "tags": []
            },
            "outputs": [
                {
                    "name": "stdout",
                    "output_type": "stream",
                    "text": [
                        "Wells held out for testing: ['J06' 'K07']\n",
                        "Wells to use for training, validation, and testing ['B06' 'C06' 'B07' 'C07' 'D06' 'D07' 'I06' 'I07' 'K06' 'J07']\n"
                    ]
                }
            ],
            "source": [
                "np.random.seed(seed=0)\n",
                "wells_to_hold = (\n",
                "    df.groupby(\"oneb_Metadata_Treatment_Dose_Inhibitor_Dose\")\n",
                "    .agg(np.random.choice)[\"Metadata_Well\"]\n",
                "    .to_list()\n",
                ")\n",
                "df_holdout = df[df[\"Metadata_Well\"].isin(wells_to_hold)]\n",
                "df = df[~df[\"Metadata_Well\"].isin(wells_to_hold)]\n",
                "\n",
                "\n",
                "print(\"Wells held out for testing:\", df_holdout[\"Metadata_Well\"].unique())\n",
                "print(\n",
                "    \"Wells to use for training, validation, and testing\", df[\"Metadata_Well\"].unique()\n",
                ")"
            ]
        },
        {
            "cell_type": "code",
            "execution_count": 8,
            "id": "3d9db49e",
            "metadata": {
                "execution": {
                    "iopub.execute_input": "2023-08-19T05:26:34.824564Z",
                    "iopub.status.busy": "2023-08-19T05:26:34.824143Z",
                    "iopub.status.idle": "2023-08-19T05:26:35.133384Z",
                    "shell.execute_reply": "2023-08-19T05:26:35.132735Z"
                },
                "papermill": {
                    "duration": 0.316171,
                    "end_time": "2023-08-19T05:26:35.134489",
                    "exception": false,
                    "start_time": "2023-08-19T05:26:34.818318",
                    "status": "completed"
                },
                "tags": []
            },
            "outputs": [],
            "source": [
                "# Code snippet for metadata extraction by Jenna Tomkinson\n",
                "df_metadata = list(df.columns[df.columns.str.startswith(\"Metadata\")])\n",
                "\n",
                "# define which columns are data and which are descriptive\n",
                "df_descriptive = df[df_metadata]\n",
                "df_values = df.drop(columns=df_metadata)"
            ]
        },
        {
            "cell_type": "code",
            "execution_count": 9,
            "id": "8924c31e",
            "metadata": {
                "execution": {
                    "iopub.execute_input": "2023-08-19T05:26:35.145895Z",
                    "iopub.status.busy": "2023-08-19T05:26:35.145424Z",
                    "iopub.status.idle": "2023-08-19T05:26:35.503905Z",
                    "shell.execute_reply": "2023-08-19T05:26:35.503269Z"
                },
                "papermill": {
                    "duration": 0.365278,
                    "end_time": "2023-08-19T05:26:35.505036",
                    "exception": false,
                    "start_time": "2023-08-19T05:26:35.139758",
                    "status": "completed"
                },
                "tags": []
            },
            "outputs": [],
            "source": [
                "# Creating label encoder\n",
                "le = preprocessing.LabelEncoder()\n",
                "# Converting strings into numbers\n",
                "df_values[\"oneb_Metadata_Treatment_Dose_Inhibitor_Dose\"] = le.fit_transform(\n",
                "    df_values[\"oneb_Metadata_Treatment_Dose_Inhibitor_Dose\"]\n",
                ")\n",
                "# split into X and Y where Y are the predictive column and x are the observable data\n",
                "df_values_X = df_values.drop(\n",
                "    [\n",
                "        \"oneb_Metadata_Treatment_Dose_Inhibitor_Dose\",\n",
                "        \"twob_Metadata_Treatment_Dose_Inhibitor_Dose\",\n",
                "        \"threeb_Metadata_Treatment_Dose_Inhibitor_Dose\",\n",
                "        \"fourb_Metadata_Treatment_Dose_Inhibitor_Dose\",\n",
                "    ],\n",
                "    axis=1,\n",
                ")\n",
                "df_values_Y = df_values[\"oneb_Metadata_Treatment_Dose_Inhibitor_Dose\"]"
            ]
        },
        {
            "cell_type": "markdown",
            "id": "4dfa9d10",
            "metadata": {
                "papermill": {
                    "duration": 0.004929,
                    "end_time": "2023-08-19T05:26:35.515136",
                    "exception": false,
                    "start_time": "2023-08-19T05:26:35.510207",
                    "status": "completed"
                },
                "tags": []
            },
            "source": [
                "#### Split Data - All Models can proceed through this point"
            ]
        },
        {
            "cell_type": "code",
            "execution_count": 10,
            "id": "499f4ae5",
            "metadata": {
                "execution": {
                    "iopub.execute_input": "2023-08-19T05:26:35.526020Z",
                    "iopub.status.busy": "2023-08-19T05:26:35.525656Z",
                    "iopub.status.idle": "2023-08-19T05:26:39.062789Z",
                    "shell.execute_reply": "2023-08-19T05:26:39.062133Z"
                },
                "papermill": {
                    "duration": 3.543968,
                    "end_time": "2023-08-19T05:26:39.064001",
                    "exception": false,
                    "start_time": "2023-08-19T05:26:35.520033",
                    "status": "completed"
                },
                "tags": []
            },
            "outputs": [],
            "source": [
                "X_train, X_test, X_val, Y_train, Y_test, Y_val = data_split(\n",
                "    X_vals=df_values_X,\n",
                "    y_vals=df_values_Y,\n",
                "    train_proportion=mlp_params.TRAIN_PROPORTION_SPLIT,\n",
                "    val_proportion=mlp_params.VALIDATION_PROPORTION_SPLIT,\n",
                "    test_proportion=mlp_params.TEST_PROPORTION_SPLIT,\n",
                "    # train_proportion=0.8,\n",
                "    # val_proportion=0.1,\n",
                "    # test_proportion=0.1,\n",
                "    seed=0,\n",
                "    params=mlp_params,\n",
                ")"
            ]
        },
        {
            "cell_type": "code",
            "execution_count": 11,
            "id": "aa28922f",
            "metadata": {
                "execution": {
                    "iopub.execute_input": "2023-08-19T05:26:39.077403Z",
                    "iopub.status.busy": "2023-08-19T05:26:39.076957Z",
                    "iopub.status.idle": "2023-08-19T05:26:39.182861Z",
                    "shell.execute_reply": "2023-08-19T05:26:39.182298Z"
                },
                "papermill": {
                    "duration": 0.113233,
                    "end_time": "2023-08-19T05:26:39.184337",
                    "exception": false,
                    "start_time": "2023-08-19T05:26:39.071104",
                    "status": "completed"
                },
                "tags": []
            },
            "outputs": [],
            "source": [
                "# produce data objects for train, val and test datasets\n",
                "train_data = Dataset_formatter(\n",
                "    torch.FloatTensor(X_train.values), torch.FloatTensor(Y_train.values)\n",
                ")\n",
                "val_data = Dataset_formatter(\n",
                "    torch.FloatTensor(X_val.values), torch.FloatTensor(Y_val.values)\n",
                ")\n",
                "test_data = Dataset_formatter(\n",
                "    torch.FloatTensor(X_test.values), torch.FloatTensor(Y_test.values)\n",
                ")"
            ]
        },
        {
            "cell_type": "code",
            "execution_count": 12,
            "id": "7c628ee1",
            "metadata": {
                "execution": {
                    "iopub.execute_input": "2023-08-19T05:26:39.196499Z",
                    "iopub.status.busy": "2023-08-19T05:26:39.195798Z",
                    "iopub.status.idle": "2023-08-19T05:26:39.201651Z",
                    "shell.execute_reply": "2023-08-19T05:26:39.201219Z"
                },
                "papermill": {
                    "duration": 0.01281,
                    "end_time": "2023-08-19T05:26:39.202669",
                    "exception": false,
                    "start_time": "2023-08-19T05:26:39.189859",
                    "status": "completed"
                },
                "tags": []
            },
            "outputs": [
                {
                    "name": "stdout",
                    "output_type": "stream",
                    "text": [
                        "Number of in features:  1245\n",
                        "Number of out features:  2\n",
                        "Binary_Classification\n"
                    ]
                }
            ],
            "source": [
                "mlp_params.IN_FEATURES = X_train.shape[1]\n",
                "print(\"Number of in features: \", mlp_params.IN_FEATURES)\n",
                "if mlp_params.MODEL_TYPE == \"Regression\":\n",
                "    mlp_params.OUT_FEATURES = 1\n",
                "else:\n",
                "    mlp_params.OUT_FEATURES = len(\n",
                "        df_values[\"oneb_Metadata_Treatment_Dose_Inhibitor_Dose\"].unique()\n",
                "    )\n",
                "\n",
                "print(\"Number of out features: \", mlp_params.OUT_FEATURES)\n",
                "\n",
                "if mlp_params.OUT_FEATURES > 2:\n",
                "    mlp_params.MODEL_TYPE = \"Multi_Class\"\n",
                "elif mlp_params.OUT_FEATURES == 2:\n",
                "    mlp_params.OUT_FEATURES = mlp_params.OUT_FEATURES - 1\n",
                "    mlp_params.MODEL_TYPE = \"Binary_Classification\"\n",
                "elif mlp_params.OUT_FEATURES == 1:\n",
                "    mlp_params.MODEL_TYPE = \"Regression\"\n",
                "else:\n",
                "    pass\n",
                "print(mlp_params.MODEL_TYPE)"
            ]
        },
        {
            "cell_type": "code",
            "execution_count": 13,
            "id": "35e3c505",
            "metadata": {
                "execution": {
                    "iopub.execute_input": "2023-08-19T05:26:39.213613Z",
                    "iopub.status.busy": "2023-08-19T05:26:39.213155Z",
                    "iopub.status.idle": "2023-08-19T05:26:39.217219Z",
                    "shell.execute_reply": "2023-08-19T05:26:39.216689Z"
                },
                "papermill": {
                    "duration": 0.01053,
                    "end_time": "2023-08-19T05:26:39.218178",
                    "exception": false,
                    "start_time": "2023-08-19T05:26:39.207648",
                    "status": "completed"
                },
                "tags": []
            },
            "outputs": [],
            "source": [
                "# convert data class into a dataloader to be compatible with pytorch\n",
                "train_loader = torch.utils.data.DataLoader(\n",
                "    dataset=train_data, batch_size=mlp_params.BATCH_SIZE, shuffle=mlp_params.SHUFFLE\n",
                ")\n",
                "valid_loader = torch.utils.data.DataLoader(\n",
                "    dataset=val_data, batch_size=mlp_params.BATCH_SIZE, shuffle=mlp_params.SHUFFLE\n",
                ")\n",
                "test_loader = torch.utils.data.DataLoader(\n",
                "    dataset=test_data, batch_size=1, shuffle=mlp_params.SHUFFLE\n",
                ")"
            ]
        },
        {
            "cell_type": "code",
            "execution_count": 14,
            "id": "4ab763c4",
            "metadata": {
                "execution": {
                    "iopub.execute_input": "2023-08-19T05:26:39.229122Z",
                    "iopub.status.busy": "2023-08-19T05:26:39.228827Z",
                    "iopub.status.idle": "2023-08-19T05:31:15.415018Z",
                    "shell.execute_reply": "2023-08-19T05:31:15.414552Z"
                },
                "papermill": {
                    "duration": 276.192772,
                    "end_time": "2023-08-19T05:31:15.415981",
                    "exception": false,
                    "start_time": "2023-08-19T05:26:39.223209",
                    "status": "completed"
                },
                "tags": []
            },
            "outputs": [
                {
                    "name": "stdout",
                    "output_type": "stream",
                    "text": [
                        "Adam\n"
                    ]
                },
                {
                    "name": "stdout",
                    "output_type": "stream",
                    "text": [
                        "Epoch 0: Validation loss decreased (inf --> 0.495077).  Saving model ...\n",
                        "\t Train_Loss: 0.5698 Train_Acc: 69.878 Val_Loss: 0.4951  BEST VAL Loss: 0.4951  Val_Acc: 74.996\n",
                        "\n"
                    ]
                },
                {
                    "name": "stdout",
                    "output_type": "stream",
                    "text": [
                        "Epoch 1: Validation loss decreased (0.495077 --> 0.473546).  Saving model ...\n",
                        "\t Train_Loss: 0.5333 Train_Acc: 74.874 Val_Loss: 0.4735  BEST VAL Loss: 0.4735  Val_Acc: 77.848\n",
                        "\n"
                    ]
                },
                {
                    "name": "stdout",
                    "output_type": "stream",
                    "text": [
                        "Epoch 2: Validation loss decreased (0.473546 --> 0.454886).  Saving model ...\n",
                        "\t Train_Loss: 0.5102 Train_Acc: 77.079 Val_Loss: 0.4549  BEST VAL Loss: 0.4549  Val_Acc: 80.269\n",
                        "\n"
                    ]
                },
                {
                    "name": "stdout",
                    "output_type": "stream",
                    "text": [
                        "Epoch 3: Validation loss decreased (0.454886 --> 0.442686).  Saving model ...\n",
                        "\t Train_Loss: 0.4923 Train_Acc: 78.744 Val_Loss: 0.4427  BEST VAL Loss: 0.4427  Val_Acc: 80.615\n",
                        "\n"
                    ]
                },
                {
                    "name": "stdout",
                    "output_type": "stream",
                    "text": [
                        "Epoch 4: Validation loss decreased (0.442686 --> 0.430447).  Saving model ...\n",
                        "\t Train_Loss: 0.4780 Train_Acc: 79.684 Val_Loss: 0.4304  BEST VAL Loss: 0.4304  Val_Acc: 82.384\n",
                        "\n"
                    ]
                },
                {
                    "name": "stdout",
                    "output_type": "stream",
                    "text": [
                        "Epoch 5: Validation loss decreased (0.430447 --> 0.420581).  Saving model ...\n",
                        "\t Train_Loss: 0.4664 Train_Acc: 80.524 Val_Loss: 0.4206  BEST VAL Loss: 0.4206  Val_Acc: 82.801\n",
                        "\n"
                    ]
                },
                {
                    "name": "stdout",
                    "output_type": "stream",
                    "text": [
                        "Epoch 6: Validation loss decreased (0.420581 --> 0.413085).  Saving model ...\n",
                        "\t Train_Loss: 0.4569 Train_Acc: 80.890 Val_Loss: 0.4131  BEST VAL Loss: 0.4131  Val_Acc: 82.906\n",
                        "\n"
                    ]
                },
                {
                    "name": "stdout",
                    "output_type": "stream",
                    "text": [
                        "Epoch 7: Validation loss decreased (0.413085 --> 0.406533).  Saving model ...\n",
                        "\t Train_Loss: 0.4494 Train_Acc: 81.098 Val_Loss: 0.4065  BEST VAL Loss: 0.4065  Val_Acc: 83.622\n",
                        "\n"
                    ]
                },
                {
                    "name": "stdout",
                    "output_type": "stream",
                    "text": [
                        "Epoch 8: Validation loss decreased (0.406533 --> 0.400836).  Saving model ...\n",
                        "\t Train_Loss: 0.4427 Train_Acc: 81.556 Val_Loss: 0.4008  BEST VAL Loss: 0.4008  Val_Acc: 83.894\n",
                        "\n"
                    ]
                },
                {
                    "name": "stdout",
                    "output_type": "stream",
                    "text": [
                        "Epoch 9: Validation loss decreased (0.400836 --> 0.396027).  Saving model ...\n",
                        "\t Train_Loss: 0.4371 Train_Acc: 81.647 Val_Loss: 0.3960  BEST VAL Loss: 0.3960  Val_Acc: 83.867\n",
                        "\n"
                    ]
                },
                {
                    "name": "stdout",
                    "output_type": "stream",
                    "text": [
                        "Epoch 10: Validation loss decreased (0.396027 --> 0.391816).  Saving model ...\n",
                        "\t Train_Loss: 0.4321 Train_Acc: 82.033 Val_Loss: 0.3918  BEST VAL Loss: 0.3918  Val_Acc: 84.143\n",
                        "\n"
                    ]
                },
                {
                    "name": "stdout",
                    "output_type": "stream",
                    "text": [
                        "Epoch 11: Validation loss decreased (0.391816 --> 0.387930).  Saving model ...\n",
                        "\t Train_Loss: 0.4278 Train_Acc: 82.081 Val_Loss: 0.3879  BEST VAL Loss: 0.3879  Val_Acc: 84.204\n",
                        "\n"
                    ]
                },
                {
                    "name": "stdout",
                    "output_type": "stream",
                    "text": [
                        "Epoch 12: Validation loss decreased (0.387930 --> 0.384825).  Saving model ...\n",
                        "\t Train_Loss: 0.4240 Train_Acc: 82.140 Val_Loss: 0.3848  BEST VAL Loss: 0.3848  Val_Acc: 84.338\n",
                        "\n"
                    ]
                },
                {
                    "name": "stdout",
                    "output_type": "stream",
                    "text": [
                        "Epoch 13: Validation loss decreased (0.384825 --> 0.381937).  Saving model ...\n",
                        "\t Train_Loss: 0.4204 Train_Acc: 82.435 Val_Loss: 0.3819  BEST VAL Loss: 0.3819  Val_Acc: 84.466\n",
                        "\n"
                    ]
                },
                {
                    "name": "stdout",
                    "output_type": "stream",
                    "text": [
                        "Epoch 14: Validation loss decreased (0.381937 --> 0.379512).  Saving model ...\n",
                        "\t Train_Loss: 0.4172 Train_Acc: 82.562 Val_Loss: 0.3795  BEST VAL Loss: 0.3795  Val_Acc: 84.416\n",
                        "\n"
                    ]
                },
                {
                    "name": "stdout",
                    "output_type": "stream",
                    "text": [
                        "Epoch 15: Validation loss decreased (0.379512 --> 0.377067).  Saving model ...\n",
                        "\t Train_Loss: 0.4142 Train_Acc: 82.780 Val_Loss: 0.3771  BEST VAL Loss: 0.3771  Val_Acc: 84.614\n",
                        "\n"
                    ]
                },
                {
                    "name": "stdout",
                    "output_type": "stream",
                    "text": [
                        "Epoch 16: Validation loss decreased (0.377067 --> 0.374865).  Saving model ...\n",
                        "\t Train_Loss: 0.4114 Train_Acc: 82.965 Val_Loss: 0.3749  BEST VAL Loss: 0.3749  Val_Acc: 84.782\n",
                        "\n"
                    ]
                },
                {
                    "name": "stdout",
                    "output_type": "stream",
                    "text": [
                        "Epoch 17: Validation loss decreased (0.374865 --> 0.372827).  Saving model ...\n",
                        "\t Train_Loss: 0.4089 Train_Acc: 82.883 Val_Loss: 0.3728  BEST VAL Loss: 0.3728  Val_Acc: 84.846\n",
                        "\n"
                    ]
                },
                {
                    "name": "stdout",
                    "output_type": "stream",
                    "text": [
                        "Epoch 18: Validation loss decreased (0.372827 --> 0.370939).  Saving model ...\n",
                        "\t Train_Loss: 0.4065 Train_Acc: 83.103 Val_Loss: 0.3709  BEST VAL Loss: 0.3709  Val_Acc: 85.199\n",
                        "\n"
                    ]
                },
                {
                    "name": "stdout",
                    "output_type": "stream",
                    "text": [
                        "Epoch 19: Validation loss decreased (0.370939 --> 0.369096).  Saving model ...\n",
                        "\t Train_Loss: 0.4042 Train_Acc: 83.103 Val_Loss: 0.3691  BEST VAL Loss: 0.3691  Val_Acc: 85.166\n",
                        "\n"
                    ]
                },
                {
                    "name": "stdout",
                    "output_type": "stream",
                    "text": [
                        "Epoch 20: Validation loss decreased (0.369096 --> 0.367182).  Saving model ...\n",
                        "\t Train_Loss: 0.4021 Train_Acc: 83.259 Val_Loss: 0.3672  BEST VAL Loss: 0.3672  Val_Acc: 85.267\n",
                        "\n"
                    ]
                },
                {
                    "name": "stdout",
                    "output_type": "stream",
                    "text": [
                        "Epoch 21: Validation loss decreased (0.367182 --> 0.365440).  Saving model ...\n",
                        "\t Train_Loss: 0.4001 Train_Acc: 83.301 Val_Loss: 0.3654  BEST VAL Loss: 0.3654  Val_Acc: 85.381\n",
                        "\n"
                    ]
                },
                {
                    "name": "stdout",
                    "output_type": "stream",
                    "text": [
                        "Epoch 22: Validation loss decreased (0.365440 --> 0.363643).  Saving model ...\n",
                        "\t Train_Loss: 0.3983 Train_Acc: 83.435 Val_Loss: 0.3636  BEST VAL Loss: 0.3636  Val_Acc: 85.596\n",
                        "\n"
                    ]
                },
                {
                    "name": "stdout",
                    "output_type": "stream",
                    "text": [
                        "Epoch 23: Validation loss decreased (0.363643 --> 0.362045).  Saving model ...\n",
                        "\t Train_Loss: 0.3965 Train_Acc: 83.404 Val_Loss: 0.3620  BEST VAL Loss: 0.3620  Val_Acc: 85.583\n",
                        "\n"
                    ]
                },
                {
                    "name": "stdout",
                    "output_type": "stream",
                    "text": [
                        "Epoch 24: Validation loss decreased (0.362045 --> 0.360710).  Saving model ...\n",
                        "\t Train_Loss: 0.3949 Train_Acc: 83.438 Val_Loss: 0.3607  BEST VAL Loss: 0.3607  Val_Acc: 85.468\n",
                        "\n"
                    ]
                },
                {
                    "name": "stdout",
                    "output_type": "stream",
                    "text": [
                        "Epoch 25: Validation loss decreased (0.360710 --> 0.359331).  Saving model ...\n",
                        "\t Train_Loss: 0.3933 Train_Acc: 83.576 Val_Loss: 0.3593  BEST VAL Loss: 0.3593  Val_Acc: 85.347\n",
                        "\n"
                    ]
                },
                {
                    "name": "stdout",
                    "output_type": "stream",
                    "text": [
                        "Epoch 26: Validation loss decreased (0.359331 --> 0.358054).  Saving model ...\n",
                        "\t Train_Loss: 0.3917 Train_Acc: 83.680 Val_Loss: 0.3581  BEST VAL Loss: 0.3581  Val_Acc: 85.670\n",
                        "\n"
                    ]
                },
                {
                    "name": "stdout",
                    "output_type": "stream",
                    "text": [
                        "Epoch 27: Validation loss decreased (0.358054 --> 0.356708).  Saving model ...\n",
                        "\t Train_Loss: 0.3903 Train_Acc: 83.682 Val_Loss: 0.3567  BEST VAL Loss: 0.3567  Val_Acc: 85.865\n",
                        "\n"
                    ]
                },
                {
                    "name": "stdout",
                    "output_type": "stream",
                    "text": [
                        "Epoch 28: Validation loss decreased (0.356708 --> 0.355529).  Saving model ...\n",
                        "\t Train_Loss: 0.3889 Train_Acc: 83.784 Val_Loss: 0.3555  BEST VAL Loss: 0.3555  Val_Acc: 85.616\n",
                        "\n"
                    ]
                },
                {
                    "name": "stdout",
                    "output_type": "stream",
                    "text": [
                        "Epoch 29: Validation loss decreased (0.355529 --> 0.354500).  Saving model ...\n",
                        "\t Train_Loss: 0.3876 Train_Acc: 83.821 Val_Loss: 0.3545  BEST VAL Loss: 0.3545  Val_Acc: 85.811\n",
                        "\n"
                    ]
                },
                {
                    "name": "stdout",
                    "output_type": "stream",
                    "text": [
                        "Epoch 30: Validation loss decreased (0.354500 --> 0.353502).  Saving model ...\n",
                        "\t Train_Loss: 0.3864 Train_Acc: 83.878 Val_Loss: 0.3535  BEST VAL Loss: 0.3535  Val_Acc: 85.714\n",
                        "\n"
                    ]
                },
                {
                    "name": "stdout",
                    "output_type": "stream",
                    "text": [
                        "Epoch 31: Validation loss decreased (0.353502 --> 0.352476).  Saving model ...\n",
                        "\t Train_Loss: 0.3852 Train_Acc: 83.856 Val_Loss: 0.3525  BEST VAL Loss: 0.3525  Val_Acc: 85.818\n",
                        "\n"
                    ]
                },
                {
                    "name": "stdout",
                    "output_type": "stream",
                    "text": [
                        "Epoch 32: Validation loss decreased (0.352476 --> 0.351482).  Saving model ...\n",
                        "\t Train_Loss: 0.3840 Train_Acc: 84.019 Val_Loss: 0.3515  BEST VAL Loss: 0.3515  Val_Acc: 85.788\n",
                        "\n"
                    ]
                },
                {
                    "name": "stdout",
                    "output_type": "stream",
                    "text": [
                        "Epoch 33: Validation loss decreased (0.351482 --> 0.350527).  Saving model ...\n",
                        "\t Train_Loss: 0.3829 Train_Acc: 83.943 Val_Loss: 0.3505  BEST VAL Loss: 0.3505  Val_Acc: 85.942\n",
                        "\n"
                    ]
                },
                {
                    "name": "stdout",
                    "output_type": "stream",
                    "text": [
                        "Epoch 34: Validation loss decreased (0.350527 --> 0.349617).  Saving model ...\n",
                        "\t Train_Loss: 0.3818 Train_Acc: 83.973 Val_Loss: 0.3496  BEST VAL Loss: 0.3496  Val_Acc: 85.855\n",
                        "\n"
                    ]
                },
                {
                    "name": "stdout",
                    "output_type": "stream",
                    "text": [
                        "Epoch 35: Validation loss decreased (0.349617 --> 0.348799).  Saving model ...\n",
                        "\t Train_Loss: 0.3808 Train_Acc: 84.069 Val_Loss: 0.3488  BEST VAL Loss: 0.3488  Val_Acc: 85.966\n",
                        "\n"
                    ]
                },
                {
                    "name": "stdout",
                    "output_type": "stream",
                    "text": [
                        "Epoch 36: Validation loss decreased (0.348799 --> 0.347996).  Saving model ...\n",
                        "\t Train_Loss: 0.3798 Train_Acc: 84.106 Val_Loss: 0.3480  BEST VAL Loss: 0.3480  Val_Acc: 85.815\n",
                        "\n"
                    ]
                },
                {
                    "name": "stdout",
                    "output_type": "stream",
                    "text": [
                        "Epoch 37: Validation loss decreased (0.347996 --> 0.347180).  Saving model ...\n",
                        "\t Train_Loss: 0.3789 Train_Acc: 84.122 Val_Loss: 0.3472  BEST VAL Loss: 0.3472  Val_Acc: 86.040\n",
                        "\n"
                    ]
                },
                {
                    "name": "stdout",
                    "output_type": "stream",
                    "text": [
                        "Epoch 38: Validation loss decreased (0.347180 --> 0.346403).  Saving model ...\n",
                        "\t Train_Loss: 0.3780 Train_Acc: 84.129 Val_Loss: 0.3464  BEST VAL Loss: 0.3464  Val_Acc: 86.144\n",
                        "\n"
                    ]
                },
                {
                    "name": "stdout",
                    "output_type": "stream",
                    "text": [
                        "Epoch 39: Validation loss decreased (0.346403 --> 0.345669).  Saving model ...\n",
                        "\t Train_Loss: 0.3771 Train_Acc: 84.151 Val_Loss: 0.3457  BEST VAL Loss: 0.3457  Val_Acc: 86.033\n",
                        "\n"
                    ]
                },
                {
                    "name": "stdout",
                    "output_type": "stream",
                    "text": [
                        "Epoch 40: Validation loss decreased (0.345669 --> 0.344966).  Saving model ...\n",
                        "\t Train_Loss: 0.3763 Train_Acc: 84.201 Val_Loss: 0.3450  BEST VAL Loss: 0.3450  Val_Acc: 86.040\n",
                        "\n"
                    ]
                },
                {
                    "name": "stdout",
                    "output_type": "stream",
                    "text": [
                        "Epoch 41: Validation loss decreased (0.344966 --> 0.344321).  Saving model ...\n",
                        "\t Train_Loss: 0.3754 Train_Acc: 84.194 Val_Loss: 0.3443  BEST VAL Loss: 0.3443  Val_Acc: 86.016\n",
                        "\n"
                    ]
                },
                {
                    "name": "stdout",
                    "output_type": "stream",
                    "text": [
                        "Epoch 42: Validation loss decreased (0.344321 --> 0.343649).  Saving model ...\n",
                        "\t Train_Loss: 0.3746 Train_Acc: 84.260 Val_Loss: 0.3436  BEST VAL Loss: 0.3436  Val_Acc: 86.107\n",
                        "\n"
                    ]
                },
                {
                    "name": "stdout",
                    "output_type": "stream",
                    "text": [
                        "Epoch 43: Validation loss decreased (0.343649 --> 0.342987).  Saving model ...\n",
                        "\t Train_Loss: 0.3738 Train_Acc: 84.238 Val_Loss: 0.3430  BEST VAL Loss: 0.3430  Val_Acc: 86.084\n",
                        "\n"
                    ]
                },
                {
                    "name": "stdout",
                    "output_type": "stream",
                    "text": [
                        "Epoch 44: Validation loss decreased (0.342987 --> 0.342408).  Saving model ...\n",
                        "\t Train_Loss: 0.3731 Train_Acc: 84.368 Val_Loss: 0.3424  BEST VAL Loss: 0.3424  Val_Acc: 85.993\n",
                        "\n"
                    ]
                },
                {
                    "name": "stdout",
                    "output_type": "stream",
                    "text": [
                        "Epoch 45: Validation loss decreased (0.342408 --> 0.341817).  Saving model ...\n",
                        "\t Train_Loss: 0.3723 Train_Acc: 84.288 Val_Loss: 0.3418  BEST VAL Loss: 0.3418  Val_Acc: 86.181\n",
                        "\n"
                    ]
                },
                {
                    "name": "stdout",
                    "output_type": "stream",
                    "text": [
                        "Epoch 46: Validation loss decreased (0.341817 --> 0.341241).  Saving model ...\n",
                        "\t Train_Loss: 0.3716 Train_Acc: 84.293 Val_Loss: 0.3412  BEST VAL Loss: 0.3412  Val_Acc: 86.124\n",
                        "\n"
                    ]
                },
                {
                    "name": "stdout",
                    "output_type": "stream",
                    "text": [
                        "Epoch 47: Validation loss decreased (0.341241 --> 0.340682).  Saving model ...\n",
                        "\t Train_Loss: 0.3709 Train_Acc: 84.461 Val_Loss: 0.3407  BEST VAL Loss: 0.3407  Val_Acc: 86.107\n",
                        "\n"
                    ]
                },
                {
                    "name": "stdout",
                    "output_type": "stream",
                    "text": [
                        "Epoch 48: Validation loss decreased (0.340682 --> 0.340141).  Saving model ...\n",
                        "\t Train_Loss: 0.3703 Train_Acc: 84.328 Val_Loss: 0.3401  BEST VAL Loss: 0.3401  Val_Acc: 85.953\n",
                        "\n"
                    ]
                },
                {
                    "name": "stdout",
                    "output_type": "stream",
                    "text": [
                        "Epoch 49: Validation loss decreased (0.340141 --> 0.339671).  Saving model ...\n",
                        "\t Train_Loss: 0.3697 Train_Acc: 84.317 Val_Loss: 0.3397  BEST VAL Loss: 0.3397  Val_Acc: 86.020\n",
                        "\n"
                    ]
                },
                {
                    "name": "stdout",
                    "output_type": "stream",
                    "text": [
                        "Epoch 50: Validation loss decreased (0.339671 --> 0.339183).  Saving model ...\n",
                        "\t Train_Loss: 0.3690 Train_Acc: 84.382 Val_Loss: 0.3392  BEST VAL Loss: 0.3392  Val_Acc: 86.127\n",
                        "\n"
                    ]
                },
                {
                    "name": "stdout",
                    "output_type": "stream",
                    "text": [
                        "Epoch 51: Validation loss decreased (0.339183 --> 0.338711).  Saving model ...\n",
                        "\t Train_Loss: 0.3684 Train_Acc: 84.461 Val_Loss: 0.3387  BEST VAL Loss: 0.3387  Val_Acc: 86.255\n",
                        "\n"
                    ]
                },
                {
                    "name": "stdout",
                    "output_type": "stream",
                    "text": [
                        "Epoch 52: Validation loss decreased (0.338711 --> 0.338173).  Saving model ...\n",
                        "\t Train_Loss: 0.3678 Train_Acc: 84.507 Val_Loss: 0.3382  BEST VAL Loss: 0.3382  Val_Acc: 86.467\n",
                        "\n"
                    ]
                },
                {
                    "name": "stdout",
                    "output_type": "stream",
                    "text": [
                        "Epoch 53: Validation loss decreased (0.338173 --> 0.337720).  Saving model ...\n",
                        "\t Train_Loss: 0.3672 Train_Acc: 84.518 Val_Loss: 0.3377  BEST VAL Loss: 0.3377  Val_Acc: 86.117\n",
                        "\n"
                    ]
                },
                {
                    "name": "stdout",
                    "output_type": "stream",
                    "text": [
                        "Epoch 54: Validation loss decreased (0.337720 --> 0.337275).  Saving model ...\n",
                        "\t Train_Loss: 0.3666 Train_Acc: 84.493 Val_Loss: 0.3373  BEST VAL Loss: 0.3373  Val_Acc: 86.195\n",
                        "\n"
                    ]
                },
                {
                    "name": "stdout",
                    "output_type": "stream",
                    "text": [
                        "Epoch 55: Validation loss decreased (0.337275 --> 0.336811).  Saving model ...\n",
                        "\t Train_Loss: 0.3661 Train_Acc: 84.403 Val_Loss: 0.3368  BEST VAL Loss: 0.3368  Val_Acc: 86.420\n",
                        "\n"
                    ]
                },
                {
                    "name": "stdout",
                    "output_type": "stream",
                    "text": [
                        "Epoch 56: Validation loss decreased (0.336811 --> 0.336385).  Saving model ...\n",
                        "\t Train_Loss: 0.3656 Train_Acc: 84.456 Val_Loss: 0.3364  BEST VAL Loss: 0.3364  Val_Acc: 86.423\n",
                        "\n"
                    ]
                },
                {
                    "name": "stdout",
                    "output_type": "stream",
                    "text": [
                        "Epoch 57: Validation loss decreased (0.336385 --> 0.335922).  Saving model ...\n",
                        "\t Train_Loss: 0.3650 Train_Acc: 84.516 Val_Loss: 0.3359  BEST VAL Loss: 0.3359  Val_Acc: 86.534\n",
                        "\n"
                    ]
                },
                {
                    "name": "stdout",
                    "output_type": "stream",
                    "text": [
                        "Epoch 58: Validation loss decreased (0.335922 --> 0.335484).  Saving model ...\n",
                        "\t Train_Loss: 0.3645 Train_Acc: 84.564 Val_Loss: 0.3355  BEST VAL Loss: 0.3355  Val_Acc: 86.507\n",
                        "\n"
                    ]
                },
                {
                    "name": "stdout",
                    "output_type": "stream",
                    "text": [
                        "Epoch 59: Validation loss decreased (0.335484 --> 0.335085).  Saving model ...\n",
                        "\t Train_Loss: 0.3640 Train_Acc: 84.560 Val_Loss: 0.3351  BEST VAL Loss: 0.3351  Val_Acc: 86.400\n",
                        "\n"
                    ]
                },
                {
                    "name": "stdout",
                    "output_type": "stream",
                    "text": [
                        "Epoch 60: Validation loss decreased (0.335085 --> 0.334679).  Saving model ...\n",
                        "\t Train_Loss: 0.3635 Train_Acc: 84.550 Val_Loss: 0.3347  BEST VAL Loss: 0.3347  Val_Acc: 86.420\n",
                        "\n"
                    ]
                },
                {
                    "name": "stdout",
                    "output_type": "stream",
                    "text": [
                        "Epoch 61: Validation loss decreased (0.334679 --> 0.334256).  Saving model ...\n",
                        "\t Train_Loss: 0.3630 Train_Acc: 84.629 Val_Loss: 0.3343  BEST VAL Loss: 0.3343  Val_Acc: 86.497\n",
                        "\n"
                    ]
                },
                {
                    "name": "stdout",
                    "output_type": "stream",
                    "text": [
                        "Epoch 62: Validation loss decreased (0.334256 --> 0.333961).  Saving model ...\n",
                        "\t Train_Loss: 0.3626 Train_Acc: 84.552 Val_Loss: 0.3340  BEST VAL Loss: 0.3340  Val_Acc: 86.067\n",
                        "\n"
                    ]
                },
                {
                    "name": "stdout",
                    "output_type": "stream",
                    "text": [
                        "Epoch 63: Validation loss decreased (0.333961 --> 0.333603).  Saving model ...\n",
                        "\t Train_Loss: 0.3621 Train_Acc: 84.607 Val_Loss: 0.3336  BEST VAL Loss: 0.3336  Val_Acc: 86.343\n",
                        "\n"
                    ]
                },
                {
                    "name": "stdout",
                    "output_type": "stream",
                    "text": [
                        "Epoch 64: Validation loss decreased (0.333603 --> 0.333228).  Saving model ...\n",
                        "\t Train_Loss: 0.3617 Train_Acc: 84.595 Val_Loss: 0.3332  BEST VAL Loss: 0.3332  Val_Acc: 86.228\n",
                        "\n"
                    ]
                },
                {
                    "name": "stdout",
                    "output_type": "stream",
                    "text": [
                        "Epoch 65: Validation loss decreased (0.333228 --> 0.332909).  Saving model ...\n",
                        "\t Train_Loss: 0.3612 Train_Acc: 84.635 Val_Loss: 0.3329  BEST VAL Loss: 0.3329  Val_Acc: 86.205\n",
                        "\n"
                    ]
                },
                {
                    "name": "stdout",
                    "output_type": "stream",
                    "text": [
                        "Epoch 66: Validation loss decreased (0.332909 --> 0.332555).  Saving model ...\n",
                        "\t Train_Loss: 0.3608 Train_Acc: 84.671 Val_Loss: 0.3326  BEST VAL Loss: 0.3326  Val_Acc: 86.447\n",
                        "\n"
                    ]
                },
                {
                    "name": "stdout",
                    "output_type": "stream",
                    "text": [
                        "Epoch 67: Validation loss decreased (0.332555 --> 0.332281).  Saving model ...\n",
                        "\t Train_Loss: 0.3604 Train_Acc: 84.619 Val_Loss: 0.3323  BEST VAL Loss: 0.3323  Val_Acc: 86.309\n",
                        "\n"
                    ]
                },
                {
                    "name": "stdout",
                    "output_type": "stream",
                    "text": [
                        "Epoch 68: Validation loss decreased (0.332281 --> 0.331955).  Saving model ...\n",
                        "\t Train_Loss: 0.3600 Train_Acc: 84.714 Val_Loss: 0.3320  BEST VAL Loss: 0.3320  Val_Acc: 86.588\n",
                        "\n"
                    ]
                },
                {
                    "name": "stdout",
                    "output_type": "stream",
                    "text": [
                        "Epoch 69: Validation loss decreased (0.331955 --> 0.331633).  Saving model ...\n",
                        "\t Train_Loss: 0.3596 Train_Acc: 84.680 Val_Loss: 0.3316  BEST VAL Loss: 0.3316  Val_Acc: 86.312\n",
                        "\n"
                    ]
                },
                {
                    "name": "stdout",
                    "output_type": "stream",
                    "text": [
                        "Epoch 70: Validation loss decreased (0.331633 --> 0.331296).  Saving model ...\n",
                        "\t Train_Loss: 0.3592 Train_Acc: 84.801 Val_Loss: 0.3313  BEST VAL Loss: 0.3313  Val_Acc: 86.716\n",
                        "\n"
                    ]
                },
                {
                    "name": "stdout",
                    "output_type": "stream",
                    "text": [
                        "Epoch 71: Validation loss decreased (0.331296 --> 0.331031).  Saving model ...\n",
                        "\t Train_Loss: 0.3588 Train_Acc: 84.722 Val_Loss: 0.3310  BEST VAL Loss: 0.3310  Val_Acc: 86.312\n",
                        "\n"
                    ]
                },
                {
                    "name": "stdout",
                    "output_type": "stream",
                    "text": [
                        "Epoch 72: Validation loss decreased (0.331031 --> 0.330749).  Saving model ...\n",
                        "\t Train_Loss: 0.3584 Train_Acc: 84.663 Val_Loss: 0.3307  BEST VAL Loss: 0.3307  Val_Acc: 86.625\n",
                        "\n"
                    ]
                },
                {
                    "name": "stdout",
                    "output_type": "stream",
                    "text": [
                        "Epoch 73: Validation loss decreased (0.330749 --> 0.330471).  Saving model ...\n",
                        "\t Train_Loss: 0.3580 Train_Acc: 84.723 Val_Loss: 0.3305  BEST VAL Loss: 0.3305  Val_Acc: 86.339\n",
                        "\n"
                    ]
                },
                {
                    "name": "stdout",
                    "output_type": "stream",
                    "text": [
                        "Epoch 74: Validation loss decreased (0.330471 --> 0.330156).  Saving model ...\n",
                        "\t Train_Loss: 0.3577 Train_Acc: 84.780 Val_Loss: 0.3302  BEST VAL Loss: 0.3302  Val_Acc: 86.450\n",
                        "\n"
                    ]
                },
                {
                    "name": "stdout",
                    "output_type": "stream",
                    "text": [
                        "Epoch 75: Validation loss decreased (0.330156 --> 0.329904).  Saving model ...\n",
                        "\t Train_Loss: 0.3573 Train_Acc: 84.835 Val_Loss: 0.3299  BEST VAL Loss: 0.3299  Val_Acc: 86.393\n",
                        "\n"
                    ]
                },
                {
                    "name": "stdout",
                    "output_type": "stream",
                    "text": [
                        "Epoch 76: Validation loss decreased (0.329904 --> 0.329673).  Saving model ...\n",
                        "\t Train_Loss: 0.3569 Train_Acc: 84.768 Val_Loss: 0.3297  BEST VAL Loss: 0.3297  Val_Acc: 86.296\n",
                        "\n"
                    ]
                },
                {
                    "name": "stdout",
                    "output_type": "stream",
                    "text": [
                        "Epoch 77: Validation loss decreased (0.329673 --> 0.329403).  Saving model ...\n",
                        "\t Train_Loss: 0.3566 Train_Acc: 84.756 Val_Loss: 0.3294  BEST VAL Loss: 0.3294  Val_Acc: 86.565\n",
                        "\n"
                    ]
                },
                {
                    "name": "stdout",
                    "output_type": "stream",
                    "text": [
                        "Epoch 78: Validation loss decreased (0.329403 --> 0.329118).  Saving model ...\n",
                        "\t Train_Loss: 0.3563 Train_Acc: 84.837 Val_Loss: 0.3291  BEST VAL Loss: 0.3291  Val_Acc: 86.655\n",
                        "\n"
                    ]
                },
                {
                    "name": "stdout",
                    "output_type": "stream",
                    "text": [
                        "Epoch 79: Validation loss decreased (0.329118 --> 0.328884).  Saving model ...\n",
                        "\t Train_Loss: 0.3559 Train_Acc: 84.947 Val_Loss: 0.3289  BEST VAL Loss: 0.3289  Val_Acc: 86.292\n",
                        "\n"
                    ]
                },
                {
                    "name": "stdout",
                    "output_type": "stream",
                    "text": [
                        "Epoch 80: Validation loss decreased (0.328884 --> 0.328647).  Saving model ...\n",
                        "\t Train_Loss: 0.3556 Train_Acc: 84.859 Val_Loss: 0.3286  BEST VAL Loss: 0.3286  Val_Acc: 86.282\n",
                        "\n"
                    ]
                },
                {
                    "name": "stdout",
                    "output_type": "stream",
                    "text": [
                        "Epoch 81: Validation loss decreased (0.328647 --> 0.328375).  Saving model ...\n",
                        "\t Train_Loss: 0.3553 Train_Acc: 84.838 Val_Loss: 0.3284  BEST VAL Loss: 0.3284  Val_Acc: 86.427\n",
                        "\n"
                    ]
                },
                {
                    "name": "stdout",
                    "output_type": "stream",
                    "text": [
                        "Epoch 82: Validation loss decreased (0.328375 --> 0.328132).  Saving model ...\n",
                        "\t Train_Loss: 0.3549 Train_Acc: 84.848 Val_Loss: 0.3281  BEST VAL Loss: 0.3281  Val_Acc: 86.440\n",
                        "\n"
                    ]
                },
                {
                    "name": "stdout",
                    "output_type": "stream",
                    "text": [
                        "Epoch 83: Validation loss decreased (0.328132 --> 0.327902).  Saving model ...\n",
                        "\t Train_Loss: 0.3546 Train_Acc: 84.854 Val_Loss: 0.3279  BEST VAL Loss: 0.3279  Val_Acc: 86.514\n",
                        "\n"
                    ]
                },
                {
                    "name": "stdout",
                    "output_type": "stream",
                    "text": [
                        "Epoch 84: Validation loss decreased (0.327902 --> 0.327683).  Saving model ...\n",
                        "\t Train_Loss: 0.3543 Train_Acc: 84.716 Val_Loss: 0.3277  BEST VAL Loss: 0.3277  Val_Acc: 86.561\n",
                        "\n"
                    ]
                },
                {
                    "name": "stdout",
                    "output_type": "stream",
                    "text": [
                        "Epoch 85: Validation loss decreased (0.327683 --> 0.327466).  Saving model ...\n",
                        "\t Train_Loss: 0.3540 Train_Acc: 84.865 Val_Loss: 0.3275  BEST VAL Loss: 0.3275  Val_Acc: 86.460\n",
                        "\n"
                    ]
                },
                {
                    "name": "stdout",
                    "output_type": "stream",
                    "text": [
                        "Epoch 86: Validation loss decreased (0.327466 --> 0.327257).  Saving model ...\n",
                        "\t Train_Loss: 0.3537 Train_Acc: 84.907 Val_Loss: 0.3273  BEST VAL Loss: 0.3273  Val_Acc: 86.390\n",
                        "\n"
                    ]
                },
                {
                    "name": "stdout",
                    "output_type": "stream",
                    "text": [
                        "Epoch 87: Validation loss decreased (0.327257 --> 0.327050).  Saving model ...\n",
                        "\t Train_Loss: 0.3534 Train_Acc: 84.913 Val_Loss: 0.3270  BEST VAL Loss: 0.3270  Val_Acc: 86.380\n",
                        "\n"
                    ]
                },
                {
                    "name": "stdout",
                    "output_type": "stream",
                    "text": [
                        "Epoch 88: Validation loss decreased (0.327050 --> 0.326816).  Saving model ...\n",
                        "\t Train_Loss: 0.3531 Train_Acc: 84.919 Val_Loss: 0.3268  BEST VAL Loss: 0.3268  Val_Acc: 86.625\n",
                        "\n"
                    ]
                },
                {
                    "name": "stdout",
                    "output_type": "stream",
                    "text": [
                        "Epoch 89: Validation loss decreased (0.326816 --> 0.326627).  Saving model ...\n",
                        "\t Train_Loss: 0.3528 Train_Acc: 84.893 Val_Loss: 0.3266  BEST VAL Loss: 0.3266  Val_Acc: 86.467\n",
                        "\n"
                    ]
                },
                {
                    "name": "stdout",
                    "output_type": "stream",
                    "text": [
                        "Epoch 90: Validation loss decreased (0.326627 --> 0.326407).  Saving model ...\n",
                        "\t Train_Loss: 0.3525 Train_Acc: 84.981 Val_Loss: 0.3264  BEST VAL Loss: 0.3264  Val_Acc: 86.669\n",
                        "\n"
                    ]
                },
                {
                    "name": "stdout",
                    "output_type": "stream",
                    "text": [
                        "Epoch 91: Validation loss decreased (0.326407 --> 0.326210).  Saving model ...\n",
                        "\t Train_Loss: 0.3523 Train_Acc: 84.946 Val_Loss: 0.3262  BEST VAL Loss: 0.3262  Val_Acc: 86.541\n",
                        "\n"
                    ]
                },
                {
                    "name": "stdout",
                    "output_type": "stream",
                    "text": [
                        "Epoch 92: Validation loss decreased (0.326210 --> 0.326013).  Saving model ...\n",
                        "\t Train_Loss: 0.3520 Train_Acc: 84.984 Val_Loss: 0.3260  BEST VAL Loss: 0.3260  Val_Acc: 86.666\n",
                        "\n"
                    ]
                },
                {
                    "name": "stdout",
                    "output_type": "stream",
                    "text": [
                        "Epoch 93: Validation loss decreased (0.326013 --> 0.325826).  Saving model ...\n",
                        "\t Train_Loss: 0.3517 Train_Acc: 84.895 Val_Loss: 0.3258  BEST VAL Loss: 0.3258  Val_Acc: 86.518\n",
                        "\n"
                    ]
                },
                {
                    "name": "stdout",
                    "output_type": "stream",
                    "text": [
                        "Epoch 94: Validation loss decreased (0.325826 --> 0.325681).  Saving model ...\n",
                        "\t Train_Loss: 0.3515 Train_Acc: 84.902 Val_Loss: 0.3257  BEST VAL Loss: 0.3257  Val_Acc: 86.454\n",
                        "\n"
                    ]
                },
                {
                    "name": "stdout",
                    "output_type": "stream",
                    "text": [
                        "Epoch 95: Validation loss decreased (0.325681 --> 0.325494).  Saving model ...\n",
                        "\t Train_Loss: 0.3512 Train_Acc: 84.994 Val_Loss: 0.3255  BEST VAL Loss: 0.3255  Val_Acc: 86.652\n",
                        "\n"
                    ]
                },
                {
                    "name": "stdout",
                    "output_type": "stream",
                    "text": [
                        "Epoch 96: Validation loss decreased (0.325494 --> 0.325330).  Saving model ...\n",
                        "\t Train_Loss: 0.3509 Train_Acc: 84.941 Val_Loss: 0.3253  BEST VAL Loss: 0.3253  Val_Acc: 86.612\n",
                        "\n"
                    ]
                },
                {
                    "name": "stdout",
                    "output_type": "stream",
                    "text": [
                        "Epoch 97: Validation loss decreased (0.325330 --> 0.325126).  Saving model ...\n",
                        "\t Train_Loss: 0.3507 Train_Acc: 85.016 Val_Loss: 0.3251  BEST VAL Loss: 0.3251  Val_Acc: 86.814\n",
                        "\n"
                    ]
                },
                {
                    "name": "stdout",
                    "output_type": "stream",
                    "text": [
                        "Epoch 98: Validation loss decreased (0.325126 --> 0.324976).  Saving model ...\n",
                        "\t Train_Loss: 0.3504 Train_Acc: 84.987 Val_Loss: 0.3250  BEST VAL Loss: 0.3250  Val_Acc: 86.370\n",
                        "\n"
                    ]
                },
                {
                    "name": "stdout",
                    "output_type": "stream",
                    "text": [
                        "Epoch 99: Validation loss decreased (0.324976 --> 0.324793).  Saving model ...\n",
                        "\t Train_Loss: 0.3502 Train_Acc: 84.908 Val_Loss: 0.3248  BEST VAL Loss: 0.3248  Val_Acc: 86.834\n",
                        "\n"
                    ]
                }
            ],
            "source": [
                "# call the optimized training model\n",
                "train_loss, train_acc, valid_loss, valid_acc, epochs_ran, model = train_optimized_model(\n",
                "    mlp_params.TRAIN_EPOCHS,\n",
                "    train_loader,\n",
                "    valid_loader,\n",
                "    params,\n",
                "    mlp_params.MODEL_NAME,\n",
                "    mlp_params.SHUFFLE,\n",
                ")\n",
                "# get training_metrics\n",
                "if mlp_params.MODEL_TYPE == \"Regression\":\n",
                "    training_stats = pd.DataFrame(\n",
                "        zip(train_loss, valid_loss, epochs_ran),\n",
                "        columns=[\"train_loss\", \"valid_loss\", \"epochs_ran\"],\n",
                "    )\n",
                "else:\n",
                "    training_stats = pd.DataFrame(\n",
                "        zip(train_loss, train_acc, valid_loss, valid_acc, epochs_ran),\n",
                "        columns=[\"train_loss\", \"train_acc\", \"valid_loss\", \"valid_acc\", \"epochs_ran\"],\n",
                "    )"
            ]
        },
        {
            "cell_type": "code",
            "execution_count": 15,
            "id": "3d5115e3",
            "metadata": {
                "execution": {
                    "iopub.execute_input": "2023-08-19T05:31:15.435870Z",
                    "iopub.status.busy": "2023-08-19T05:31:15.435175Z",
                    "iopub.status.idle": "2023-08-19T05:31:15.449185Z",
                    "shell.execute_reply": "2023-08-19T05:31:15.448799Z"
                },
                "papermill": {
                    "duration": 0.024212,
                    "end_time": "2023-08-19T05:31:15.450180",
                    "exception": false,
                    "start_time": "2023-08-19T05:31:15.425968",
                    "status": "completed"
                },
                "tags": []
            },
            "outputs": [
                {
                    "data": {
                        "text/html": [
                            "<div>\n",
                            "<style scoped>\n",
                            "    .dataframe tbody tr th:only-of-type {\n",
                            "        vertical-align: middle;\n",
                            "    }\n",
                            "\n",
                            "    .dataframe tbody tr th {\n",
                            "        vertical-align: top;\n",
                            "    }\n",
                            "\n",
                            "    .dataframe thead th {\n",
                            "        text-align: right;\n",
                            "    }\n",
                            "</style>\n",
                            "<table border=\"1\" class=\"dataframe\">\n",
                            "  <thead>\n",
                            "    <tr style=\"text-align: right;\">\n",
                            "      <th></th>\n",
                            "      <th>treatments_tested</th>\n",
                            "      <th>model</th>\n",
                            "      <th>group</th>\n",
                            "      <th>shuffled_data</th>\n",
                            "      <th>PR_Threshold</th>\n",
                            "      <th>Precision</th>\n",
                            "      <th>Recall</th>\n",
                            "    </tr>\n",
                            "  </thead>\n",
                            "  <tbody>\n",
                            "  </tbody>\n",
                            "</table>\n",
                            "</div>"
                        ],
                        "text/plain": [
                            "Empty DataFrame\n",
                            "Columns: [treatments_tested, model, group, shuffled_data, PR_Threshold, Precision, Recall]\n",
                            "Index: []"
                        ]
                    },
                    "execution_count": 15,
                    "metadata": {},
                    "output_type": "execute_result"
                }
            ],
            "source": [
                "# create a dataframe to store the model stats\n",
                "model_stats_df = pd.DataFrame(\n",
                "    columns=[\n",
                "        \"treatments_tested\",\n",
                "        \"model\",\n",
                "        \"group\",\n",
                "        \"shuffled_data\",\n",
                "        \"PR_Threshold\",\n",
                "        \"Precision\",\n",
                "        \"Recall\",\n",
                "    ]\n",
                ")\n",
                "model_stats_df"
            ]
        },
        {
            "cell_type": "code",
            "execution_count": 16,
            "id": "d4f283d4",
            "metadata": {
                "execution": {
                    "iopub.execute_input": "2023-08-19T05:31:15.468176Z",
                    "iopub.status.busy": "2023-08-19T05:31:15.467993Z",
                    "iopub.status.idle": "2023-08-19T05:31:15.805094Z",
                    "shell.execute_reply": "2023-08-19T05:31:15.804692Z"
                },
                "papermill": {
                    "duration": 0.34727,
                    "end_time": "2023-08-19T05:31:15.806117",
                    "exception": false,
                    "start_time": "2023-08-19T05:31:15.458847",
                    "status": "completed"
                },
                "tags": []
            },
            "outputs": [
                {
                    "name": "stderr",
                    "output_type": "stream",
                    "text": [
                        "/gpfs/alpine1/scratch/mlippincott@xsede.org/Interstellar_Analysis/4.sc_Morphology_Neural_Network_MLP_Model/1.model_training/notebooks/../../MLP_utils/utils.py:997: UserWarning: Ignoring `palette` because no `hue` variable has been assigned.\n",
                        "  sns.lineplot(x=df[x], y=df[y1], palette=\"blue\", label=\"Train\")\n",
                        "/gpfs/alpine1/scratch/mlippincott@xsede.org/Interstellar_Analysis/4.sc_Morphology_Neural_Network_MLP_Model/1.model_training/notebooks/../../MLP_utils/utils.py:998: UserWarning: Ignoring `palette` because no `hue` variable has been assigned.\n",
                        "  sns.lineplot(x=df[x], y=df[y2], palette=\"orange\", label=\"Validation\")\n"
                    ]
                },
                {
                    "data": {
                        "image/png": "[encoded data removed]",
                        "text/plain": [
                            "<Figure size 640x480 with 1 Axes>"
                        ]
                    },
                    "metadata": {},
                    "output_type": "display_data"
                }
            ],
            "source": [
                "if mlp_params.MODEL_TYPE == \"Regression\":\n",
                "    pass\n",
                "else:\n",
                "    plot_metric_vs_epoch(\n",
                "        training_stats,\n",
                "        x=\"epochs_ran\",\n",
                "        y1=\"train_acc\",\n",
                "        y2=\"valid_acc\",\n",
                "        title=\"Accuracy vs. Epochs\",\n",
                "        x_axis_label=\"Epochs\",\n",
                "        y_axis_label=\"Accuracy\",\n",
                "        params=params,\n",
                "        model_name=mlp_params.MODEL_NAME,\n",
                "        shuffle=mlp_params.SHUFFLE,\n",
                "    )"
            ]
        },
        {
            "cell_type": "code",
            "execution_count": 17,
            "id": "5e491e00",
            "metadata": {
                "execution": {
                    "iopub.execute_input": "2023-08-19T05:31:15.826217Z",
                    "iopub.status.busy": "2023-08-19T05:31:15.825755Z",
                    "iopub.status.idle": "2023-08-19T05:31:16.109628Z",
                    "shell.execute_reply": "2023-08-19T05:31:16.109216Z"
                },
                "papermill": {
                    "duration": 0.29431,
                    "end_time": "2023-08-19T05:31:16.110541",
                    "exception": false,
                    "start_time": "2023-08-19T05:31:15.816231",
                    "status": "completed"
                },
                "tags": []
            },
            "outputs": [
                {
                    "name": "stderr",
                    "output_type": "stream",
                    "text": [
                        "/gpfs/alpine1/scratch/mlippincott@xsede.org/Interstellar_Analysis/4.sc_Morphology_Neural_Network_MLP_Model/1.model_training/notebooks/../../MLP_utils/utils.py:997: UserWarning: Ignoring `palette` because no `hue` variable has been assigned.\n",
                        "  sns.lineplot(x=df[x], y=df[y1], palette=\"blue\", label=\"Train\")\n",
                        "/gpfs/alpine1/scratch/mlippincott@xsede.org/Interstellar_Analysis/4.sc_Morphology_Neural_Network_MLP_Model/1.model_training/notebooks/../../MLP_utils/utils.py:998: UserWarning: Ignoring `palette` because no `hue` variable has been assigned.\n",
                        "  sns.lineplot(x=df[x], y=df[y2], palette=\"orange\", label=\"Validation\")\n"
                    ]
                },
                {
                    "data": {
                        "image/png": "[encoded data removed]",
                        "text/plain": [
                            "<Figure size 640x480 with 1 Axes>"
                        ]
                    },
                    "metadata": {},
                    "output_type": "display_data"
                }
            ],
            "source": [
                "plot_metric_vs_epoch(\n",
                "    training_stats,\n",
                "    x=\"epochs_ran\",\n",
                "    y1=\"train_loss\",\n",
                "    y2=\"valid_loss\",\n",
                "    title=\"Loss vs. Epochs\",\n",
                "    x_axis_label=\"Epochs\",\n",
                "    y_axis_label=\"Loss\",\n",
                "    params=params,\n",
                "    model_name=mlp_params.MODEL_NAME,\n",
                "    shuffle=mlp_params.SHUFFLE,\n",
                ")"
            ]
        },
        {
            "cell_type": "code",
            "execution_count": 18,
            "id": "9c595792",
            "metadata": {
                "execution": {
                    "iopub.execute_input": "2023-08-19T05:31:16.130434Z",
                    "iopub.status.busy": "2023-08-19T05:31:16.130160Z",
                    "iopub.status.idle": "2023-08-19T05:31:18.092144Z",
                    "shell.execute_reply": "2023-08-19T05:31:18.091605Z"
                },
                "papermill": {
                    "duration": 1.973128,
                    "end_time": "2023-08-19T05:31:18.093460",
                    "exception": false,
                    "start_time": "2023-08-19T05:31:16.120332",
                    "status": "completed"
                },
                "tags": []
            },
            "outputs": [
                {
                    "name": "stdout",
                    "output_type": "stream",
                    "text": [
                        "DMSO_0.025_vs_Thapsigargin_1\n"
                    ]
                }
            ],
            "source": [
                "# test the model on training data\n",
                "# calling the testing function and outputting list values of tested model\n",
                "if any(\n",
                "    model_type == mlp_params.MODEL_TYPE for model_type in [\"Multi_Class\", \"Regression\"]\n",
                "):\n",
                "    y_pred_list = test_optimized_model(\n",
                "        model,\n",
                "        valid_loader,\n",
                "        mlp_params,\n",
                "        model_name=mlp_params.MODEL_NAME,\n",
                "        shuffle=mlp_params.SHUFFLE,\n",
                "    )\n",
                "elif mlp_params.MODEL_TYPE == \"Binary_Classification\":\n",
                "    y_pred_list, y_pred_prob_list = test_optimized_model(\n",
                "        model,\n",
                "        train_loader,\n",
                "        mlp_params,\n",
                "        model_name=mlp_params.MODEL_NAME,\n",
                "        shuffle=mlp_params.SHUFFLE,\n",
                "    )\n",
                "else:\n",
                "    raise Exception(\"Model type must be specified for proper model testing\")\n",
                "\n",
                "# un-nest list if nested i.e. length of input data does not match length of output data\n",
                "if len(y_pred_list) != len(Y_test):\n",
                "    y_pred_list = un_nest(y_pred_list)\n",
                "    y_pred_prob_list = un_nest(y_pred_prob_list)\n",
                "else:\n",
                "    pass"
            ]
        },
        {
            "cell_type": "code",
            "execution_count": 19,
            "id": "4b269c1d",
            "metadata": {
                "execution": {
                    "iopub.execute_input": "2023-08-19T05:31:18.113950Z",
                    "iopub.status.busy": "2023-08-19T05:31:18.113767Z",
                    "iopub.status.idle": "2023-08-19T05:31:19.381446Z",
                    "shell.execute_reply": "2023-08-19T05:31:19.380903Z"
                },
                "papermill": {
                    "duration": 1.279152,
                    "end_time": "2023-08-19T05:31:19.382809",
                    "exception": false,
                    "start_time": "2023-08-19T05:31:18.103657",
                    "status": "completed"
                },
                "tags": []
            },
            "outputs": [
                {
                    "name": "stdout",
                    "output_type": "stream",
                    "text": [
                        "              precision    recall  f1-score   support\n",
                        "\n",
                        "           0       0.89      0.93      0.91    149884\n",
                        "           1       0.87      0.80      0.84     87993\n",
                        "\n",
                        "    accuracy                           0.88    237877\n",
                        "   macro avg       0.88      0.87      0.87    237877\n",
                        "weighted avg       0.88      0.88      0.88    237877\n",
                        "\n"
                    ]
                }
            ],
            "source": [
                "stats, recall, precision, f1, precision_, recall_, threshold_ = output_stats(\n",
                "    y_pred_list,\n",
                "    Y_train,\n",
                "    mlp_params,\n",
                "    y_pred_prob_list,\n",
                "    test_name=f\"{mlp_params.MODEL_NAME}_train\",\n",
                "    model_name=mlp_params.MODEL_NAME,\n",
                "    title=mlp_params.MODEL_NAME,\n",
                "    shuffle=mlp_params.SHUFFLE,\n",
                ")"
            ]
        },
        {
            "cell_type": "code",
            "execution_count": 20,
            "id": "fdde3d70",
            "metadata": {
                "execution": {
                    "iopub.execute_input": "2023-08-19T05:31:19.403308Z",
                    "iopub.status.busy": "2023-08-19T05:31:19.402989Z",
                    "iopub.status.idle": "2023-08-19T05:31:19.418071Z",
                    "shell.execute_reply": "2023-08-19T05:31:19.417573Z"
                },
                "papermill": {
                    "duration": 0.026435,
                    "end_time": "2023-08-19T05:31:19.419385",
                    "exception": false,
                    "start_time": "2023-08-19T05:31:19.392950",
                    "status": "completed"
                },
                "tags": []
            },
            "outputs": [],
            "source": [
                "threshold_ = np.append(threshold_, None)\n",
                "stats_df = pd.DataFrame(\n",
                "    {\n",
                "        \"PR_Threshold\": threshold_,\n",
                "        \"Precision\": precision_,\n",
                "        \"Recall\": recall_,\n",
                "    }\n",
                ")\n",
                "\n",
                "stats_df[\"treatments_tested\"] = (\n",
                "    mlp_params.CONTROL_NAME + \" vs. \" + mlp_params.TREATMENT_NAME\n",
                ")\n",
                "stats_df[\"model\"] = mlp_params.MODEL_NAME\n",
                "stats_df[\"group\"] = \"train\"\n",
                "stats_df[\"shuffled_data\"] = mlp_params.SHUFFLE\n",
                "\n",
                "model_stats_df = pd.concat([model_stats_df, stats_df], axis=0)"
            ]
        },
        {
            "cell_type": "code",
            "execution_count": 21,
            "id": "52b5399f",
            "metadata": {
                "execution": {
                    "iopub.execute_input": "2023-08-19T05:31:19.439560Z",
                    "iopub.status.busy": "2023-08-19T05:31:19.439196Z",
                    "iopub.status.idle": "2023-08-19T05:31:19.680574Z",
                    "shell.execute_reply": "2023-08-19T05:31:19.680061Z"
                },
                "papermill": {
                    "duration": 0.252533,
                    "end_time": "2023-08-19T05:31:19.681805",
                    "exception": false,
                    "start_time": "2023-08-19T05:31:19.429272",
                    "status": "completed"
                },
                "tags": []
            },
            "outputs": [
                {
                    "name": "stdout",
                    "output_type": "stream",
                    "text": [
                        "DMSO_0.025_vs_Thapsigargin_1\n"
                    ]
                }
            ],
            "source": [
                "# test the model on training data\n",
                "# calling the testing function and outputting list values of tested model\n",
                "if any(\n",
                "    model_type == mlp_params.MODEL_TYPE for model_type in [\"Multi_Class\", \"Regression\"]\n",
                "):\n",
                "    y_pred_list = test_optimized_model(\n",
                "        model,\n",
                "        valid_loader,\n",
                "        mlp_params,\n",
                "        model_name=mlp_params.MODEL_NAME,\n",
                "        shuffle=mlp_params.SHUFFLE,\n",
                "    )\n",
                "elif mlp_params.MODEL_TYPE == \"Binary_Classification\":\n",
                "    y_pred_list, y_pred_prob_list = test_optimized_model(\n",
                "        model,\n",
                "        valid_loader,\n",
                "        mlp_params,\n",
                "        model_name=mlp_params.MODEL_NAME,\n",
                "        shuffle=mlp_params.SHUFFLE,\n",
                "    )\n",
                "else:\n",
                "    raise Exception(\"Model type must be specified for proper model testing\")\n",
                "\n",
                "# un-nest list if nested i.e. length of input data does not match length of output data\n",
                "if len(y_pred_list) != len(Y_test):\n",
                "    y_pred_list = un_nest(y_pred_list)\n",
                "    y_pred_prob_list = un_nest(y_pred_prob_list)\n",
                "else:\n",
                "    pass"
            ]
        },
        {
            "cell_type": "code",
            "execution_count": 22,
            "id": "19cbbee4",
            "metadata": {
                "execution": {
                    "iopub.execute_input": "2023-08-19T05:31:19.719201Z",
                    "iopub.status.busy": "2023-08-19T05:31:19.718997Z",
                    "iopub.status.idle": "2023-08-19T05:31:19.723225Z",
                    "shell.execute_reply": "2023-08-19T05:31:19.722794Z"
                },
                "papermill": {
                    "duration": 0.016071,
                    "end_time": "2023-08-19T05:31:19.724357",
                    "exception": false,
                    "start_time": "2023-08-19T05:31:19.708286",
                    "status": "completed"
                },
                "tags": []
            },
            "outputs": [
                {
                    "data": {
                        "text/plain": [
                            "False"
                        ]
                    },
                    "execution_count": 22,
                    "metadata": {},
                    "output_type": "execute_result"
                }
            ],
            "source": [
                "mlp_params.SHUFFLE"
            ]
        },
        {
            "cell_type": "code",
            "execution_count": 23,
            "id": "444b8e3e",
            "metadata": {
                "execution": {
                    "iopub.execute_input": "2023-08-19T05:31:19.744402Z",
                    "iopub.status.busy": "2023-08-19T05:31:19.744015Z",
                    "iopub.status.idle": "2023-08-19T05:31:19.909728Z",
                    "shell.execute_reply": "2023-08-19T05:31:19.909319Z"
                },
                "papermill": {
                    "duration": 0.176709,
                    "end_time": "2023-08-19T05:31:19.910631",
                    "exception": false,
                    "start_time": "2023-08-19T05:31:19.733922",
                    "status": "completed"
                },
                "tags": []
            },
            "outputs": [
                {
                    "name": "stdout",
                    "output_type": "stream",
                    "text": [
                        "              precision    recall  f1-score   support\n",
                        "\n",
                        "           0       0.88      0.92      0.90     18736\n",
                        "           1       0.85      0.79      0.82     10999\n",
                        "\n",
                        "    accuracy                           0.87     29735\n",
                        "   macro avg       0.86      0.85      0.86     29735\n",
                        "weighted avg       0.87      0.87      0.87     29735\n",
                        "\n"
                    ]
                }
            ],
            "source": [
                "stats, recall, precision, f1, precision_, recall_, threshold_ = output_stats(\n",
                "    y_pred_list,\n",
                "    Y_val,\n",
                "    mlp_params,\n",
                "    y_pred_prob_list,\n",
                "    test_name=f\"{mlp_params.MODEL_NAME}_validation\",\n",
                "    model_name=mlp_params.MODEL_NAME,\n",
                "    title=mlp_params.MODEL_NAME,\n",
                "    shuffle=mlp_params.SHUFFLE,\n",
                ")"
            ]
        },
        {
            "cell_type": "code",
            "execution_count": 24,
            "id": "2573e7a6",
            "metadata": {
                "execution": {
                    "iopub.execute_input": "2023-08-19T05:31:19.930514Z",
                    "iopub.status.busy": "2023-08-19T05:31:19.930236Z",
                    "iopub.status.idle": "2023-08-19T05:31:19.940100Z",
                    "shell.execute_reply": "2023-08-19T05:31:19.939597Z"
                },
                "papermill": {
                    "duration": 0.021183,
                    "end_time": "2023-08-19T05:31:19.941423",
                    "exception": false,
                    "start_time": "2023-08-19T05:31:19.920240",
                    "status": "completed"
                },
                "tags": []
            },
            "outputs": [],
            "source": [
                "threshold_ = np.append(threshold_, None)\n",
                "stats_df = pd.DataFrame(\n",
                "    {\n",
                "        \"PR_Threshold\": threshold_,\n",
                "        \"Precision\": precision_,\n",
                "        \"Recall\": recall_,\n",
                "    }\n",
                ")\n",
                "\n",
                "stats_df[\"treatments_tested\"] = (\n",
                "    mlp_params.CONTROL_NAME + \" vs. \" + mlp_params.TREATMENT_NAME\n",
                ")\n",
                "stats_df[\"model\"] = mlp_params.MODEL_NAME\n",
                "stats_df[\"group\"] = \"validation\"\n",
                "stats_df[\"shuffled_data\"] = mlp_params.SHUFFLE\n",
                "\n",
                "model_stats_df = pd.concat([model_stats_df, stats_df], axis=0)"
            ]
        },
        {
            "cell_type": "code",
            "execution_count": 25,
            "id": "f179b14f",
            "metadata": {
                "execution": {
                    "iopub.execute_input": "2023-08-19T05:31:19.961772Z",
                    "iopub.status.busy": "2023-08-19T05:31:19.961436Z",
                    "iopub.status.idle": "2023-08-19T05:31:19.964559Z",
                    "shell.execute_reply": "2023-08-19T05:31:19.964185Z"
                },
                "papermill": {
                    "duration": 0.014086,
                    "end_time": "2023-08-19T05:31:19.965465",
                    "exception": false,
                    "start_time": "2023-08-19T05:31:19.951379",
                    "status": "completed"
                },
                "tags": []
            },
            "outputs": [
                {
                    "data": {
                        "text/plain": [
                            "'DMSO_0.025_vs_Thapsigargin_1'"
                        ]
                    },
                    "execution_count": 25,
                    "metadata": {},
                    "output_type": "execute_result"
                }
            ],
            "source": [
                "mlp_params.MODEL_NAME"
            ]
        },
        {
            "cell_type": "code",
            "execution_count": 26,
            "id": "d30cef39",
            "metadata": {
                "execution": {
                    "iopub.execute_input": "2023-08-19T05:31:19.986939Z",
                    "iopub.status.busy": "2023-08-19T05:31:19.986590Z",
                    "iopub.status.idle": "2023-08-19T05:31:23.064062Z",
                    "shell.execute_reply": "2023-08-19T05:31:23.063537Z"
                },
                "papermill": {
                    "duration": 3.090233,
                    "end_time": "2023-08-19T05:31:23.065554",
                    "exception": false,
                    "start_time": "2023-08-19T05:31:19.975321",
                    "status": "completed"
                },
                "tags": []
            },
            "outputs": [
                {
                    "name": "stdout",
                    "output_type": "stream",
                    "text": [
                        "DMSO_0.025_vs_Thapsigargin_1\n"
                    ]
                }
            ],
            "source": [
                "# calling the testing function and outputting list values of tested model\n",
                "if any(\n",
                "    model_type == mlp_params.MODEL_TYPE for model_type in [\"Multi_Class\", \"Regression\"]\n",
                "):\n",
                "    y_pred_list = test_optimized_model(\n",
                "        model,\n",
                "        test_loader,\n",
                "        params,\n",
                "        model_name=mlp_params.MODEL_NAME,\n",
                "        shuffle=mlp_params.SHUFFLE,\n",
                "    )\n",
                "elif mlp_params.MODEL_TYPE == \"Binary_Classification\":\n",
                "    y_pred_list, y_pred_prob_list = test_optimized_model(\n",
                "        model,\n",
                "        test_loader,\n",
                "        params,\n",
                "        model_name=mlp_params.MODEL_NAME,\n",
                "        shuffle=mlp_params.SHUFFLE,\n",
                "    )\n",
                "else:\n",
                "    raise Exception(\"Model type must be specified for proper model testing\")\n",
                "\n",
                "\n",
                "# un-nest list if nested i.e. length of input data does not match length of output data\n",
                "if len(y_pred_list) != len(Y_test):\n",
                "    y_pred_list = un_nest(y_pred_list)\n",
                "    y_pred_prob_list = un_nest(y_pred_prob_list)\n",
                "else:\n",
                "    pass"
            ]
        },
        {
            "cell_type": "code",
            "execution_count": 27,
            "id": "ba2c00bd",
            "metadata": {
                "execution": {
                    "iopub.execute_input": "2023-08-19T05:31:23.088451Z",
                    "iopub.status.busy": "2023-08-19T05:31:23.088153Z",
                    "iopub.status.idle": "2023-08-19T05:31:23.688334Z",
                    "shell.execute_reply": "2023-08-19T05:31:23.687901Z"
                },
                "papermill": {
                    "duration": 0.612561,
                    "end_time": "2023-08-19T05:31:23.689255",
                    "exception": false,
                    "start_time": "2023-08-19T05:31:23.076694",
                    "status": "completed"
                },
                "tags": []
            },
            "outputs": [
                {
                    "name": "stdout",
                    "output_type": "stream",
                    "text": [
                        "              precision    recall  f1-score   support\n",
                        "\n",
                        "           0       0.88      0.92      0.90     18736\n",
                        "           1       0.85      0.78      0.81     10999\n",
                        "\n",
                        "    accuracy                           0.87     29735\n",
                        "   macro avg       0.86      0.85      0.86     29735\n",
                        "weighted avg       0.87      0.87      0.87     29735\n",
                        "\n"
                    ]
                },
                {
                    "data": {
                        "image/png": "[encoded data removed]",
                        "text/plain": [
                            "<Figure size 640x480 with 2 Axes>"
                        ]
                    },
                    "metadata": {},
                    "output_type": "display_data"
                },
                {
                    "data": {
                        "image/png": "[encoded data removed]",
                        "text/plain": [
                            "<Figure size 550x400 with 1 Axes>"
                        ]
                    },
                    "metadata": {},
                    "output_type": "display_data"
                }
            ],
            "source": [
                "# Call visualization function\n",
                "# calling the testing function and outputing list values of tested model\n",
                "if any(\n",
                "    model_type == mlp_params.MODEL_TYPE for model_type in [\"Multi_Class\", \"Regression\"]\n",
                "):\n",
                "    confusion_matrix_df = results_output(\n",
                "        y_pred_list,\n",
                "        Y_test,\n",
                "        params,\n",
                "        test_name=f\"{mlp_params.MODEL_NAME}_testing\",\n",
                "        model_name=mlp_params.MODEL_NAME,\n",
                "        title=mlp_params.MODEL_NAME,\n",
                "        shuffle=mlp_params.SHUFFLE,\n",
                "    )\n",
                "elif mlp_params.MODEL_TYPE == \"Binary_Classification\":\n",
                "    results_output(\n",
                "        y_pred_list,\n",
                "        Y_test,\n",
                "        params,\n",
                "        y_pred_prob_list,\n",
                "        test_name=f\"{mlp_params.MODEL_NAME}_testing\",\n",
                "        model_name=mlp_params.MODEL_NAME,\n",
                "        title=mlp_params.MODEL_NAME,\n",
                "        shuffle=mlp_params.SHUFFLE,\n",
                "    )\n",
                "else:\n",
                "    raise Exception(\"Model type must be specified for proper model testing\")"
            ]
        },
        {
            "cell_type": "code",
            "execution_count": 28,
            "id": "6e9b9cc1",
            "metadata": {
                "execution": {
                    "iopub.execute_input": "2023-08-19T05:31:23.711924Z",
                    "iopub.status.busy": "2023-08-19T05:31:23.711588Z",
                    "iopub.status.idle": "2023-08-19T05:31:23.871102Z",
                    "shell.execute_reply": "2023-08-19T05:31:23.870680Z"
                },
                "papermill": {
                    "duration": 0.171465,
                    "end_time": "2023-08-19T05:31:23.871984",
                    "exception": false,
                    "start_time": "2023-08-19T05:31:23.700519",
                    "status": "completed"
                },
                "tags": []
            },
            "outputs": [
                {
                    "name": "stdout",
                    "output_type": "stream",
                    "text": [
                        "              precision    recall  f1-score   support\n",
                        "\n",
                        "           0       0.88      0.92      0.90     18736\n",
                        "           1       0.85      0.78      0.81     10999\n",
                        "\n",
                        "    accuracy                           0.87     29735\n",
                        "   macro avg       0.86      0.85      0.86     29735\n",
                        "weighted avg       0.87      0.87      0.87     29735\n",
                        "\n"
                    ]
                }
            ],
            "source": [
                "stats, recall, precision, f1, precision_, recall_, threshold_ = output_stats(\n",
                "    y_pred_list,\n",
                "    Y_test,\n",
                "    mlp_params,\n",
                "    y_pred_prob_list,\n",
                "    test_name=f\"{mlp_params.MODEL_NAME}_test\",\n",
                "    model_name=mlp_params.MODEL_NAME,\n",
                "    title=mlp_params.MODEL_NAME,\n",
                "    shuffle=mlp_params.SHUFFLE,\n",
                ")"
            ]
        },
        {
            "cell_type": "code",
            "execution_count": 29,
            "id": "5e49a4d0",
            "metadata": {
                "execution": {
                    "iopub.execute_input": "2023-08-19T05:31:23.893884Z",
                    "iopub.status.busy": "2023-08-19T05:31:23.893595Z",
                    "iopub.status.idle": "2023-08-19T05:31:23.903402Z",
                    "shell.execute_reply": "2023-08-19T05:31:23.902957Z"
                },
                "papermill": {
                    "duration": 0.02185,
                    "end_time": "2023-08-19T05:31:23.904433",
                    "exception": false,
                    "start_time": "2023-08-19T05:31:23.882583",
                    "status": "completed"
                },
                "tags": []
            },
            "outputs": [],
            "source": [
                "threshold_ = np.append(threshold_, None)\n",
                "stats_df = pd.DataFrame(\n",
                "    {\n",
                "        \"PR_Threshold\": threshold_,\n",
                "        \"Precision\": precision_,\n",
                "        \"Recall\": recall_,\n",
                "    }\n",
                ")\n",
                "\n",
                "stats_df[\"treatments_tested\"] = (\n",
                "    mlp_params.CONTROL_NAME + \" vs. \" + mlp_params.TREATMENT_NAME\n",
                ")\n",
                "stats_df[\"model\"] = mlp_params.MODEL_NAME\n",
                "stats_df[\"group\"] = \"test\"\n",
                "stats_df[\"shuffled_data\"] = mlp_params.SHUFFLE\n",
                "\n",
                "model_stats_df = pd.concat([model_stats_df, stats_df], axis=0)"
            ]
        },
        {
            "cell_type": "markdown",
            "id": "bd07fbb7",
            "metadata": {
                "papermill": {
                    "duration": 0.010429,
                    "end_time": "2023-08-19T05:31:23.925637",
                    "exception": false,
                    "start_time": "2023-08-19T05:31:23.915208",
                    "status": "completed"
                },
                "tags": []
            },
            "source": [
                "## Test the hold out wells"
            ]
        },
        {
            "cell_type": "code",
            "execution_count": 30,
            "id": "139582e1",
            "metadata": {
                "execution": {
                    "iopub.execute_input": "2023-08-19T05:31:23.947389Z",
                    "iopub.status.busy": "2023-08-19T05:31:23.947089Z",
                    "iopub.status.idle": "2023-08-19T05:31:24.032867Z",
                    "shell.execute_reply": "2023-08-19T05:31:24.032355Z"
                },
                "papermill": {
                    "duration": 0.09811,
                    "end_time": "2023-08-19T05:31:24.034193",
                    "exception": false,
                    "start_time": "2023-08-19T05:31:23.936083",
                    "status": "completed"
                },
                "tags": []
            },
            "outputs": [],
            "source": [
                "# Code snippet for metadata extraction by Jenna Tomkinson\n",
                "df_metadata = list(df_holdout.columns[df_holdout.columns.str.startswith(\"Metadata\")])\n",
                "\n",
                "# define which columns are data and which are descriptive\n",
                "df_descriptive = df_holdout[df_metadata]\n",
                "df_values = df_holdout.drop(columns=df_metadata)"
            ]
        },
        {
            "cell_type": "code",
            "execution_count": 31,
            "id": "b6b929e3",
            "metadata": {
                "execution": {
                    "iopub.execute_input": "2023-08-19T05:31:24.057064Z",
                    "iopub.status.busy": "2023-08-19T05:31:24.056755Z",
                    "iopub.status.idle": "2023-08-19T05:31:24.142739Z",
                    "shell.execute_reply": "2023-08-19T05:31:24.142234Z"
                },
                "papermill": {
                    "duration": 0.098337,
                    "end_time": "2023-08-19T05:31:24.143962",
                    "exception": false,
                    "start_time": "2023-08-19T05:31:24.045625",
                    "status": "completed"
                },
                "tags": []
            },
            "outputs": [],
            "source": [
                "# Creating label encoder\n",
                "le = preprocessing.LabelEncoder()\n",
                "# Converting strings into numbers\n",
                "df_values[\"oneb_Metadata_Treatment_Dose_Inhibitor_Dose\"] = le.fit_transform(\n",
                "    df_values[\"oneb_Metadata_Treatment_Dose_Inhibitor_Dose\"]\n",
                ")\n",
                "# split into X and Y where Y are the predictive column and x are the observable data\n",
                "df_values_X = df_values.drop(\n",
                "    [\n",
                "        \"oneb_Metadata_Treatment_Dose_Inhibitor_Dose\",\n",
                "        \"twob_Metadata_Treatment_Dose_Inhibitor_Dose\",\n",
                "        \"threeb_Metadata_Treatment_Dose_Inhibitor_Dose\",\n",
                "        \"fourb_Metadata_Treatment_Dose_Inhibitor_Dose\",\n",
                "    ],\n",
                "    axis=1,\n",
                ")\n",
                "df_values_Y = df_values[\"oneb_Metadata_Treatment_Dose_Inhibitor_Dose\"]"
            ]
        },
        {
            "cell_type": "code",
            "execution_count": 32,
            "id": "3c45de2b",
            "metadata": {
                "execution": {
                    "iopub.execute_input": "2023-08-19T05:31:24.166645Z",
                    "iopub.status.busy": "2023-08-19T05:31:24.166364Z",
                    "iopub.status.idle": "2023-08-19T05:31:31.632468Z",
                    "shell.execute_reply": "2023-08-19T05:31:31.632008Z"
                },
                "papermill": {
                    "duration": 7.478218,
                    "end_time": "2023-08-19T05:31:31.633440",
                    "exception": false,
                    "start_time": "2023-08-19T05:31:24.155222",
                    "status": "completed"
                },
                "tags": []
            },
            "outputs": [
                {
                    "name": "stdout",
                    "output_type": "stream",
                    "text": [
                        "DMSO_0.025_vs_Thapsigargin_1\n"
                    ]
                },
                {
                    "name": "stdout",
                    "output_type": "stream",
                    "text": [
                        "              precision    recall  f1-score   support\n",
                        "\n",
                        "           0       0.77      0.82      0.79     27774\n",
                        "           1       0.86      0.82      0.84     38465\n",
                        "\n",
                        "    accuracy                           0.82     66239\n",
                        "   macro avg       0.82      0.82      0.82     66239\n",
                        "weighted avg       0.82      0.82      0.82     66239\n",
                        "\n"
                    ]
                },
                {
                    "data": {
                        "image/png": "[encoded data removed]",
                        "text/plain": [
                            "<Figure size 640x480 with 2 Axes>"
                        ]
                    },
                    "metadata": {},
                    "output_type": "display_data"
                },
                {
                    "data": {
                        "image/png": "[encoded data removed]",
                        "text/plain": [
                            "<Figure size 550x400 with 1 Axes>"
                        ]
                    },
                    "metadata": {},
                    "output_type": "display_data"
                }
            ],
            "source": [
                "test_data = Dataset_formatter(\n",
                "    torch.FloatTensor(df_values_X.values), torch.FloatTensor(df_values_Y.values)\n",
                ")\n",
                "\n",
                "# convert data class into a dataloader to be compatible with pytorch\n",
                "test_loader = torch.utils.data.DataLoader(\n",
                "    dataset=test_data, batch_size=1, shuffle=mlp_params.SHUFFLE\n",
                ")\n",
                "\n",
                "# calling the testing function and outputting list values of tested model\n",
                "if any(\n",
                "    model_type == mlp_params.MODEL_TYPE for model_type in [\"Multi_Class\", \"Regression\"]\n",
                "):\n",
                "    y_pred_list = test_optimized_model(\n",
                "        model,\n",
                "        test_loader,\n",
                "        params,\n",
                "        model_name=mlp_params.MODEL_NAME,\n",
                "        shuffle=mlp_params.SHUFFLE,\n",
                "    )\n",
                "elif mlp_params.MODEL_TYPE == \"Binary_Classification\":\n",
                "    y_pred_list, y_pred_prob_list = test_optimized_model(\n",
                "        model,\n",
                "        test_loader,\n",
                "        params,\n",
                "        model_name=mlp_params.MODEL_NAME,\n",
                "        shuffle=mlp_params.SHUFFLE,\n",
                "    )\n",
                "else:\n",
                "    raise Exception(\"Model type must be specified for proper model testing\")\n",
                "\n",
                "# un-nest list if nested i.e. length of input data does not match length of output data\n",
                "if len(y_pred_list) != len(df_values_Y):\n",
                "    y_pred_list = un_nest(y_pred_list)\n",
                "    y_pred_prob_list = un_nest(y_pred_prob_list)\n",
                "else:\n",
                "    pass\n",
                "\n",
                "# Call visualization function\n",
                "# calling the testing function and outputing list values of tested model\n",
                "if any(\n",
                "    model_type == mlp_params.MODEL_TYPE for model_type in [\"Multi_Class\", \"Regression\"]\n",
                "):\n",
                "    confusion_matrix_df = results_output(\n",
                "        y_pred_list,\n",
                "        df_values_Y,\n",
                "        params,\n",
                "        test_name=f\"{mlp_params.MODEL_NAME}_hold_out\",\n",
                "        model_name=mlp_params.MODEL_NAME,\n",
                "        title=mlp_params.MODEL_NAME,\n",
                "        shuffle=mlp_params.SHUFFLE,\n",
                "    )\n",
                "elif mlp_params.MODEL_TYPE == \"Binary_Classification\":\n",
                "    results_output(\n",
                "        y_pred_list,\n",
                "        df_values_Y,\n",
                "        params,\n",
                "        y_pred_prob_list,\n",
                "        test_name=f\"{mlp_params.MODEL_NAME}_hold_out\",\n",
                "        model_name=mlp_params.MODEL_NAME,\n",
                "        title=mlp_params.MODEL_NAME,\n",
                "        shuffle=mlp_params.SHUFFLE,\n",
                "    )\n",
                "else:\n",
                "    raise Exception(\"Model type must be specified for proper model testing\")"
            ]
        },
        {
            "cell_type": "code",
            "execution_count": 33,
            "id": "d9c38144",
            "metadata": {
                "execution": {
                    "iopub.execute_input": "2023-08-19T05:31:31.660154Z",
                    "iopub.status.busy": "2023-08-19T05:31:31.659892Z",
                    "iopub.status.idle": "2023-08-19T05:31:31.962821Z",
                    "shell.execute_reply": "2023-08-19T05:31:31.962376Z"
                },
                "papermill": {
                    "duration": 0.316037,
                    "end_time": "2023-08-19T05:31:31.963897",
                    "exception": false,
                    "start_time": "2023-08-19T05:31:31.647860",
                    "status": "completed"
                },
                "tags": []
            },
            "outputs": [
                {
                    "name": "stdout",
                    "output_type": "stream",
                    "text": [
                        "              precision    recall  f1-score   support\n",
                        "\n",
                        "           0       0.77      0.82      0.79     27774\n",
                        "           1       0.86      0.82      0.84     38465\n",
                        "\n",
                        "    accuracy                           0.82     66239\n",
                        "   macro avg       0.82      0.82      0.82     66239\n",
                        "weighted avg       0.82      0.82      0.82     66239\n",
                        "\n"
                    ]
                }
            ],
            "source": [
                "stats, recall, precision, f1, precision_, recall_, threshold_ = output_stats(\n",
                "    y_pred_list,\n",
                "    df_values_Y,\n",
                "    mlp_params,\n",
                "    y_pred_prob_list,\n",
                "    test_name=f\"{mlp_params.MODEL_NAME}_hold_out\",\n",
                "    model_name=mlp_params.MODEL_NAME,\n",
                "    title=mlp_params.MODEL_NAME,\n",
                "    shuffle=mlp_params.SHUFFLE,\n",
                ")"
            ]
        },
        {
            "cell_type": "code",
            "execution_count": 34,
            "id": "61319294",
            "metadata": {
                "execution": {
                    "iopub.execute_input": "2023-08-19T05:31:31.988287Z",
                    "iopub.status.busy": "2023-08-19T05:31:31.987918Z",
                    "iopub.status.idle": "2023-08-19T05:31:31.999450Z",
                    "shell.execute_reply": "2023-08-19T05:31:31.998986Z"
                },
                "papermill": {
                    "duration": 0.024884,
                    "end_time": "2023-08-19T05:31:32.000561",
                    "exception": false,
                    "start_time": "2023-08-19T05:31:31.975677",
                    "status": "completed"
                },
                "tags": []
            },
            "outputs": [],
            "source": [
                "threshold_ = np.append(threshold_, None)\n",
                "stats_df = pd.DataFrame(\n",
                "    {\n",
                "        \"PR_Threshold\": threshold_,\n",
                "        \"Precision\": precision_,\n",
                "        \"Recall\": recall_,\n",
                "    }\n",
                ")\n",
                "\n",
                "stats_df[\"treatments_tested\"] = (\n",
                "    mlp_params.CONTROL_NAME + \" vs. \" + mlp_params.TREATMENT_NAME\n",
                ")\n",
                "stats_df[\"model\"] = mlp_params.MODEL_NAME\n",
                "stats_df[\"group\"] = \"holdout\"\n",
                "stats_df[\"shuffled_data\"] = mlp_params.SHUFFLE\n",
                "\n",
                "model_stats_df = pd.concat([model_stats_df, stats_df], axis=0)"
            ]
        },
        {
            "cell_type": "code",
            "execution_count": 35,
            "id": "c9468255",
            "metadata": {
                "execution": {
                    "iopub.execute_input": "2023-08-19T05:31:32.024686Z",
                    "iopub.status.busy": "2023-08-19T05:31:32.024361Z",
                    "iopub.status.idle": "2023-08-19T05:31:32.033257Z",
                    "shell.execute_reply": "2023-08-19T05:31:32.032857Z"
                },
                "papermill": {
                    "duration": 0.021789,
                    "end_time": "2023-08-19T05:31:32.034162",
                    "exception": false,
                    "start_time": "2023-08-19T05:31:32.012373",
                    "status": "completed"
                },
                "tags": []
            },
            "outputs": [
                {
                    "data": {
                        "text/html": [
                            "<div>\n",
                            "<style scoped>\n",
                            "    .dataframe tbody tr th:only-of-type {\n",
                            "        vertical-align: middle;\n",
                            "    }\n",
                            "\n",
                            "    .dataframe tbody tr th {\n",
                            "        vertical-align: top;\n",
                            "    }\n",
                            "\n",
                            "    .dataframe thead th {\n",
                            "        text-align: right;\n",
                            "    }\n",
                            "</style>\n",
                            "<table border=\"1\" class=\"dataframe\">\n",
                            "  <thead>\n",
                            "    <tr style=\"text-align: right;\">\n",
                            "      <th></th>\n",
                            "      <th>treatments_tested</th>\n",
                            "      <th>model</th>\n",
                            "      <th>group</th>\n",
                            "      <th>shuffled_data</th>\n",
                            "      <th>PR_Threshold</th>\n",
                            "      <th>Precision</th>\n",
                            "      <th>Recall</th>\n",
                            "    </tr>\n",
                            "  </thead>\n",
                            "  <tbody>\n",
                            "    <tr>\n",
                            "      <th>0</th>\n",
                            "      <td>DMSO_0.100_DMSO_0.025 vs. Thapsigargin_1.000_D...</td>\n",
                            "      <td>DMSO_0.025_vs_Thapsigargin_1</td>\n",
                            "      <td>train</td>\n",
                            "      <td>False</td>\n",
                            "      <td>0.0</td>\n",
                            "      <td>0.369910</td>\n",
                            "      <td>1.000000</td>\n",
                            "    </tr>\n",
                            "    <tr>\n",
                            "      <th>1</th>\n",
                            "      <td>DMSO_0.100_DMSO_0.025 vs. Thapsigargin_1.000_D...</td>\n",
                            "      <td>DMSO_0.025_vs_Thapsigargin_1</td>\n",
                            "      <td>train</td>\n",
                            "      <td>False</td>\n",
                            "      <td>0.0</td>\n",
                            "      <td>0.370082</td>\n",
                            "      <td>1.000000</td>\n",
                            "    </tr>\n",
                            "    <tr>\n",
                            "      <th>2</th>\n",
                            "      <td>DMSO_0.100_DMSO_0.025 vs. Thapsigargin_1.000_D...</td>\n",
                            "      <td>DMSO_0.025_vs_Thapsigargin_1</td>\n",
                            "      <td>train</td>\n",
                            "      <td>False</td>\n",
                            "      <td>0.0</td>\n",
                            "      <td>0.370084</td>\n",
                            "      <td>1.000000</td>\n",
                            "    </tr>\n",
                            "    <tr>\n",
                            "      <th>3</th>\n",
                            "      <td>DMSO_0.100_DMSO_0.025 vs. Thapsigargin_1.000_D...</td>\n",
                            "      <td>DMSO_0.025_vs_Thapsigargin_1</td>\n",
                            "      <td>train</td>\n",
                            "      <td>False</td>\n",
                            "      <td>0.0</td>\n",
                            "      <td>0.370085</td>\n",
                            "      <td>1.000000</td>\n",
                            "    </tr>\n",
                            "    <tr>\n",
                            "      <th>4</th>\n",
                            "      <td>DMSO_0.100_DMSO_0.025 vs. Thapsigargin_1.000_D...</td>\n",
                            "      <td>DMSO_0.025_vs_Thapsigargin_1</td>\n",
                            "      <td>train</td>\n",
                            "      <td>False</td>\n",
                            "      <td>0.0</td>\n",
                            "      <td>0.370087</td>\n",
                            "      <td>1.000000</td>\n",
                            "    </tr>\n",
                            "    <tr>\n",
                            "      <th>...</th>\n",
                            "      <td>...</td>\n",
                            "      <td>...</td>\n",
                            "      <td>...</td>\n",
                            "      <td>...</td>\n",
                            "      <td>...</td>\n",
                            "      <td>...</td>\n",
                            "      <td>...</td>\n",
                            "    </tr>\n",
                            "    <tr>\n",
                            "      <th>63158</th>\n",
                            "      <td>DMSO_0.100_DMSO_0.025 vs. Thapsigargin_1.000_D...</td>\n",
                            "      <td>DMSO_0.025_vs_Thapsigargin_1</td>\n",
                            "      <td>holdout</td>\n",
                            "      <td>False</td>\n",
                            "      <td>0.999954</td>\n",
                            "      <td>0.571429</td>\n",
                            "      <td>0.000104</td>\n",
                            "    </tr>\n",
                            "    <tr>\n",
                            "      <th>63159</th>\n",
                            "      <td>DMSO_0.100_DMSO_0.025 vs. Thapsigargin_1.000_D...</td>\n",
                            "      <td>DMSO_0.025_vs_Thapsigargin_1</td>\n",
                            "      <td>holdout</td>\n",
                            "      <td>False</td>\n",
                            "      <td>0.99999</td>\n",
                            "      <td>0.500000</td>\n",
                            "      <td>0.000078</td>\n",
                            "    </tr>\n",
                            "    <tr>\n",
                            "      <th>63160</th>\n",
                            "      <td>DMSO_0.100_DMSO_0.025 vs. Thapsigargin_1.000_D...</td>\n",
                            "      <td>DMSO_0.025_vs_Thapsigargin_1</td>\n",
                            "      <td>holdout</td>\n",
                            "      <td>False</td>\n",
                            "      <td>0.999993</td>\n",
                            "      <td>0.600000</td>\n",
                            "      <td>0.000078</td>\n",
                            "    </tr>\n",
                            "    <tr>\n",
                            "      <th>63161</th>\n",
                            "      <td>DMSO_0.100_DMSO_0.025 vs. Thapsigargin_1.000_D...</td>\n",
                            "      <td>DMSO_0.025_vs_Thapsigargin_1</td>\n",
                            "      <td>holdout</td>\n",
                            "      <td>False</td>\n",
                            "      <td>1.0</td>\n",
                            "      <td>0.500000</td>\n",
                            "      <td>0.000052</td>\n",
                            "    </tr>\n",
                            "    <tr>\n",
                            "      <th>63162</th>\n",
                            "      <td>DMSO_0.100_DMSO_0.025 vs. Thapsigargin_1.000_D...</td>\n",
                            "      <td>DMSO_0.025_vs_Thapsigargin_1</td>\n",
                            "      <td>holdout</td>\n",
                            "      <td>False</td>\n",
                            "      <td>None</td>\n",
                            "      <td>1.000000</td>\n",
                            "      <td>0.000000</td>\n",
                            "    </tr>\n",
                            "  </tbody>\n",
                            "</table>\n",
                            "<p>337855 rows \u00d7 7 columns</p>\n",
                            "</div>"
                        ],
                        "text/plain": [
                            "                                       treatments_tested  \\\n",
                            "0      DMSO_0.100_DMSO_0.025 vs. Thapsigargin_1.000_D...   \n",
                            "1      DMSO_0.100_DMSO_0.025 vs. Thapsigargin_1.000_D...   \n",
                            "2      DMSO_0.100_DMSO_0.025 vs. Thapsigargin_1.000_D...   \n",
                            "3      DMSO_0.100_DMSO_0.025 vs. Thapsigargin_1.000_D...   \n",
                            "4      DMSO_0.100_DMSO_0.025 vs. Thapsigargin_1.000_D...   \n",
                            "...                                                  ...   \n",
                            "63158  DMSO_0.100_DMSO_0.025 vs. Thapsigargin_1.000_D...   \n",
                            "63159  DMSO_0.100_DMSO_0.025 vs. Thapsigargin_1.000_D...   \n",
                            "63160  DMSO_0.100_DMSO_0.025 vs. Thapsigargin_1.000_D...   \n",
                            "63161  DMSO_0.100_DMSO_0.025 vs. Thapsigargin_1.000_D...   \n",
                            "63162  DMSO_0.100_DMSO_0.025 vs. Thapsigargin_1.000_D...   \n",
                            "\n",
                            "                              model    group shuffled_data PR_Threshold  \\\n",
                            "0      DMSO_0.025_vs_Thapsigargin_1    train         False          0.0   \n",
                            "1      DMSO_0.025_vs_Thapsigargin_1    train         False          0.0   \n",
                            "2      DMSO_0.025_vs_Thapsigargin_1    train         False          0.0   \n",
                            "3      DMSO_0.025_vs_Thapsigargin_1    train         False          0.0   \n",
                            "4      DMSO_0.025_vs_Thapsigargin_1    train         False          0.0   \n",
                            "...                             ...      ...           ...          ...   \n",
                            "63158  DMSO_0.025_vs_Thapsigargin_1  holdout         False     0.999954   \n",
                            "63159  DMSO_0.025_vs_Thapsigargin_1  holdout         False      0.99999   \n",
                            "63160  DMSO_0.025_vs_Thapsigargin_1  holdout         False     0.999993   \n",
                            "63161  DMSO_0.025_vs_Thapsigargin_1  holdout         False          1.0   \n",
                            "63162  DMSO_0.025_vs_Thapsigargin_1  holdout         False         None   \n",
                            "\n",
                            "       Precision    Recall  \n",
                            "0       0.369910  1.000000  \n",
                            "1       0.370082  1.000000  \n",
                            "2       0.370084  1.000000  \n",
                            "3       0.370085  1.000000  \n",
                            "4       0.370087  1.000000  \n",
                            "...          ...       ...  \n",
                            "63158   0.571429  0.000104  \n",
                            "63159   0.500000  0.000078  \n",
                            "63160   0.600000  0.000078  \n",
                            "63161   0.500000  0.000052  \n",
                            "63162   1.000000  0.000000  \n",
                            "\n",
                            "[337855 rows x 7 columns]"
                        ]
                    },
                    "execution_count": 35,
                    "metadata": {},
                    "output_type": "execute_result"
                }
            ],
            "source": [
                "model_stats_df"
            ]
        },
        {
            "cell_type": "code",
            "execution_count": 36,
            "id": "e1e4b224",
            "metadata": {
                "execution": {
                    "iopub.execute_input": "2023-08-19T05:31:32.058378Z",
                    "iopub.status.busy": "2023-08-19T05:31:32.058117Z",
                    "iopub.status.idle": "2023-08-19T05:31:35.333350Z",
                    "shell.execute_reply": "2023-08-19T05:31:35.332838Z"
                },
                "papermill": {
                    "duration": 3.288797,
                    "end_time": "2023-08-19T05:31:35.334720",
                    "exception": false,
                    "start_time": "2023-08-19T05:31:32.045923",
                    "status": "completed"
                },
                "tags": []
            },
            "outputs": [],
            "source": [
                "# set path for the model training metrics\n",
                "metrics_path = pathlib.Path(\n",
                "    f\"../../results/{mlp_params.MODEL_TYPE}/{mlp_params.MODEL_NAME}/{mlp_params.CELL_TYPE}\"\n",
                ")\n",
                "metrics_path.mkdir(parents=True, exist_ok=True)\n",
                "# check if the model training metrics file exists\n",
                "metrics_file = pathlib.Path(f\"{metrics_path}/training_metrics.csv\")\n",
                "if metrics_file.exists():\n",
                "    metrics_df = pd.read_csv(metrics_file)\n",
                "    if len(metrics_df[\"shuffled_data\"].unique()) > 1:\n",
                "        pass\n",
                "    elif metrics_df[\"shuffled_data\"].unique() == mlp_params.SHUFFLE:\n",
                "        pass\n",
                "    else:\n",
                "        metrics_df = pd.concat([metrics_df, model_stats_df], axis=0)\n",
                "        metrics_df.to_csv(metrics_file, index=False)\n",
                "else:\n",
                "    model_stats_df.to_csv(metrics_file, index=False)"
            ]
        }
    ],
    "metadata": {
        "kernelspec": {
            "display_name": "Interstellar",
            "language": "python",
            "name": "python3"
        },
        "language_info": {
            "codemirror_mode": {
                "name": "ipython",
                "version": 3
            },
            "file_extension": ".py",
            "mimetype": "text/x-python",
            "name": "python",
            "nbconvert_exporter": "python",
            "pygments_lexer": "ipython3",
            "version": "3.10.12"
        },
        "papermill": {
            "default_parameters": {},
            "duration": 419.035394,
            "end_time": "2023-08-19T05:31:36.064511",
            "environment_variables": {},
            "exception": null,
            "input_path": "train_binary_model.ipynb",
            "output_path": "train_binary_model.ipynb",
            "parameters": {
                "CELL_TYPE": "PBMC",
                "CONTROL_NAME": "DMSO_0.100_DMSO_0.025",
                "MODEL_NAME": "DMSO_0.025_vs_Thapsigargin_1",
                "SHUFFLE": false,
                "TREATMENT_NAME": "Thapsigargin_1.000_DMSO_0.025"
            },
            "start_time": "2023-08-19T05:24:37.029117",
            "version": "2.4.0"
        }
    },
    "nbformat": 4,
    "nbformat_minor": 5
}
