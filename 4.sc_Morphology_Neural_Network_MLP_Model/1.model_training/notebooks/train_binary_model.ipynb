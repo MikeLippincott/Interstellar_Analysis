{
    "cells": [
        {
            "cell_type": "code",
            "execution_count": 1,
            "id": "76db0f62",
            "metadata": {
                "execution": {
                    "iopub.execute_input": "2023-10-18T18:21:55.318585Z",
                    "iopub.status.busy": "2023-10-18T18:21:55.318429Z",
                    "iopub.status.idle": "2023-10-18T18:21:56.764566Z",
                    "shell.execute_reply": "2023-10-18T18:21:56.764197Z"
                },
                "papermill": {
                    "duration": 1.453218,
                    "end_time": "2023-10-18T18:21:56.766140",
                    "exception": false,
                    "start_time": "2023-10-18T18:21:55.312922",
                    "status": "completed"
                },
                "tags": []
            },
            "outputs": [],
            "source": [
                "import pathlib\n",
                "import sys\n",
                "\n",
                "import numpy as np\n",
                "import optuna\n",
                "import pandas as pd\n",
                "import pyarrow.parquet as pq\n",
                "import toml\n",
                "import torch\n",
                "from sklearn import preprocessing\n",
                "\n",
                "sys.path.append(\"../..\")\n",
                "\n",
                "import json\n",
                "\n",
                "from MLP_utils.parameters import Parameters\n",
                "from MLP_utils.utils import (\n",
                "    Dataset_formatter,\n",
                "    data_split,\n",
                "    extract_best_trial_params,\n",
                "    objective_model_optimizer,\n",
                "    optimized_model_create,\n",
                "    output_stats,\n",
                "    parameter_set,\n",
                "    plot_metric_vs_epoch,\n",
                "    results_output,\n",
                "    test_optimized_model,\n",
                "    train_optimized_model,\n",
                "    un_nest,\n",
                ")\n",
                "\n",
                "sys.path.append(\"../../..\")\n",
                "from utils.utils import df_stats"
            ]
        },
        {
            "cell_type": "markdown",
            "id": "7773f676",
            "metadata": {
                "papermill": {
                    "duration": 0.004964,
                    "end_time": "2023-10-18T18:21:56.776597",
                    "exception": false,
                    "start_time": "2023-10-18T18:21:56.771633",
                    "status": "completed"
                },
                "tags": []
            },
            "source": [
                "## Papermill is used for executing notebooks in the CLI with multiple parameters\n",
                "Here the `injected-parameters` cell is used to inject parameters into the notebook via papermill.\n",
                "This enables multiple notebooks to be executed with different parameters, preventing to manually update parameters or have multiple copies of the notebook."
            ]
        },
        {
            "cell_type": "code",
            "execution_count": 2,
            "id": "b3502f1e",
            "metadata": {
                "execution": {
                    "iopub.execute_input": "2023-10-18T18:21:56.787247Z",
                    "iopub.status.busy": "2023-10-18T18:21:56.787004Z",
                    "iopub.status.idle": "2023-10-18T18:21:56.789480Z",
                    "shell.execute_reply": "2023-10-18T18:21:56.789142Z"
                },
                "papermill": {
                    "duration": 0.008892,
                    "end_time": "2023-10-18T18:21:56.790441",
                    "exception": false,
                    "start_time": "2023-10-18T18:21:56.781549",
                    "status": "completed"
                },
                "tags": [
                    "injected-parameters"
                ]
            },
            "outputs": [],
            "source": [
                "# Parameters\n",
                "CELL_TYPE = \"SHSY5Y\"\n",
                "CONTROL_NAME = \"DMSO_0.100_%_DMSO_0.025_%\"\n",
                "TREATMENT_NAME = \"LPS_100.000_ug_per_ml_DMSO_0.025_%\"\n",
                "MODEL_NAME = \"DMSO_0.025_vs_LPS_100\"\n",
                "SHUFFLE = True"
            ]
        },
        {
            "cell_type": "code",
            "execution_count": 3,
            "id": "7fe861fc",
            "metadata": {
                "execution": {
                    "iopub.execute_input": "2023-10-18T18:21:56.801290Z",
                    "iopub.status.busy": "2023-10-18T18:21:56.801143Z",
                    "iopub.status.idle": "2023-10-18T18:21:56.804166Z",
                    "shell.execute_reply": "2023-10-18T18:21:56.803905Z"
                },
                "papermill": {
                    "duration": 0.009611,
                    "end_time": "2023-10-18T18:21:56.805265",
                    "exception": false,
                    "start_time": "2023-10-18T18:21:56.795654",
                    "status": "completed"
                },
                "tags": []
            },
            "outputs": [],
            "source": [
                "ml_configs_file = pathlib.Path(\"../../MLP_utils/binary_config.toml\").resolve(\n",
                "    strict=True\n",
                ")\n",
                "ml_configs = toml.load(ml_configs_file)\n",
                "params = Parameters()\n",
                "mlp_params = parameter_set(params, ml_configs)\n",
                "\n",
                "# overwrite params via command line arguments from papermill\n",
                "mlp_params.CELL_TYPE = CELL_TYPE\n",
                "mlp_params.MODEL_NAME = MODEL_NAME\n",
                "mlp_params.CONTROL_NAME = CONTROL_NAME\n",
                "mlp_params.TREATMENT_NAME = TREATMENT_NAME\n",
                "mlp_params.MODEL_NAME = MODEL_NAME\n",
                "mlp_params.SHUFFLE = SHUFFLE"
            ]
        },
        {
            "cell_type": "code",
            "execution_count": 4,
            "id": "5f05b3f4",
            "metadata": {
                "execution": {
                    "iopub.execute_input": "2023-10-18T18:21:56.816606Z",
                    "iopub.status.busy": "2023-10-18T18:21:56.816502Z"
                },
                "papermill": {
                    "duration": 11.557813,
                    "end_time": "2023-10-18T18:22:08.369011",
                    "exception": false,
                    "start_time": "2023-10-18T18:21:56.811198",
                    "status": "completed"
                },
                "tags": []
            },
            "outputs": [],
            "source": [
                "# Import Data\n",
                "# set data file path under pathlib path for multi-system use\n",
                "\n",
                "file_path = pathlib.Path(\n",
                "    f\"../../../data/{mlp_params.CELL_TYPE}_preprocessed_sc_norm.parquet\"\n",
                ").resolve(strict=True)\n",
                "\n",
                "df = pq.read_table(file_path).to_pandas()"
            ]
        },
        {
            "cell_type": "markdown",
            "id": "7c5e28b5",
            "metadata": {
                "papermill": {
                    "duration": null,
                    "end_time": null,
                    "exception": null,
                    "start_time": null,
                    "status": "completed"
                },
                "tags": []
            },
            "source": [
                "#### Set up Data to be compatible with model"
            ]
        },
        {
            "cell_type": "markdown",
            "id": "5efd38f4",
            "metadata": {
                "papermill": {
                    "duration": null,
                    "end_time": null,
                    "exception": null,
                    "start_time": null,
                    "status": "completed"
                },
                "tags": []
            },
            "source": [
                "##### Classification Models:\n",
                "Comment out code if using regression"
            ]
        },
        {
            "cell_type": "code",
            "execution_count": 5,
            "id": "892c99cb",
            "metadata": {
                "execution": {
                    "iopub.execute_input": "2023-08-18T18:02:17.367529Z",
                    "iopub.status.busy": "2023-08-18T18:02:17.367201Z",
                    "iopub.status.idle": "2023-08-18T18:02:18.678324Z",
                    "shell.execute_reply": "2023-08-18T18:02:18.677713Z"
                },
                "papermill": {
                    "duration": null,
                    "end_time": null,
                    "exception": null,
                    "start_time": null,
                    "status": "completed"
                },
                "tags": []
            },
            "outputs": [
                {
                    "name": "stdout",
                    "output_type": "stream",
                    "text": [
                        "Selected Catagories are:\n",
                        "['DMSO_0.100_%_DMSO_0.025_%' 'LPS_100.000_ug_per_ml_DMSO_0.025_%']\n",
                        "The dimensions of the data are: (51630, 1276)\n",
                        "Number of total missing values across all columns: 0\n",
                        "Data Subset Is Off\n"
                    ]
                }
            ],
            "source": [
                "# filter the oneb_Metadata_Treatment_Dose_Inhibitor_Dose column to only include the treatment and control via loc\n",
                "df = df.loc[\n",
                "    df[\"oneb_Metadata_Treatment_Dose_Inhibitor_Dose\"].isin(\n",
                "        [mlp_params.TREATMENT_NAME, mlp_params.CONTROL_NAME]\n",
                "    )\n",
                "]\n",
                "\n",
                "\n",
                "print(\"Selected Catagories are:\")\n",
                "print(df[\"oneb_Metadata_Treatment_Dose_Inhibitor_Dose\"].unique())\n",
                "df_stats(df)\n",
                "\n",
                "if mlp_params.DATA_SUBSET_OPTION == \"True\":\n",
                "    df = df.sample(n=mlp_params.DATA_SUBSET_NUMBER)\n",
                "    print(\"Data Subset Is On\")\n",
                "    print(f\"Data is subset to {mlp_params.DATA_SUBSET_NUMBER}\")\n",
                "else:\n",
                "    print(\"Data Subset Is Off\")"
            ]
        },
        {
            "cell_type": "code",
            "execution_count": 6,
            "id": "4717fd07",
            "metadata": {
                "execution": {
                    "iopub.execute_input": "2023-08-18T18:02:18.691273Z",
                    "iopub.status.busy": "2023-08-18T18:02:18.690817Z",
                    "iopub.status.idle": "2023-08-18T18:02:22.031593Z",
                    "shell.execute_reply": "2023-08-18T18:02:22.030921Z"
                },
                "papermill": {
                    "duration": null,
                    "end_time": null,
                    "exception": null,
                    "start_time": null,
                    "status": "completed"
                },
                "tags": []
            },
            "outputs": [
                {
                    "name": "stdout",
                    "output_type": "stream",
                    "text": [
                        "Wells held out for testing: ['I14' 'J21']\n",
                        "Wells to use for training, validation, and testing ['B14' 'C14' 'B15' 'C15' 'J14' 'I15' 'J15' 'J16' 'J17' 'J20']\n"
                    ]
                }
            ],
            "source": [
                "np.random.seed(seed=0)\n",
                "wells_to_hold = (\n",
                "    df.groupby(\"oneb_Metadata_Treatment_Dose_Inhibitor_Dose\")\n",
                "    .agg(np.random.choice)[\"Metadata_Well\"]\n",
                "    .to_list()\n",
                ")\n",
                "df_holdout = df[df[\"Metadata_Well\"].isin(wells_to_hold)]\n",
                "df = df[~df[\"Metadata_Well\"].isin(wells_to_hold)]\n",
                "\n",
                "\n",
                "print(\"Wells held out for testing:\", df_holdout[\"Metadata_Well\"].unique())\n",
                "print(\n",
                "    \"Wells to use for training, validation, and testing\", df[\"Metadata_Well\"].unique()\n",
                ")"
            ]
        },
        {
            "cell_type": "code",
            "execution_count": 7,
            "id": "3d9db49e",
            "metadata": {
                "execution": {
                    "iopub.execute_input": "2023-08-18T18:02:22.044888Z",
                    "iopub.status.busy": "2023-08-18T18:02:22.044473Z",
                    "iopub.status.idle": "2023-08-18T18:02:22.349293Z",
                    "shell.execute_reply": "2023-08-18T18:02:22.348707Z"
                },
                "papermill": {
                    "duration": null,
                    "end_time": null,
                    "exception": null,
                    "start_time": null,
                    "status": "completed"
                },
                "tags": []
            },
            "outputs": [],
            "source": [
                "# Code snippet for metadata extraction by Jenna Tomkinson\n",
                "df_metadata = list(df.columns[df.columns.str.startswith(\"Metadata\")])\n",
                "\n",
                "# define which columns are data and which are descriptive\n",
                "df_descriptive = df[df_metadata]\n",
                "df_values = df.drop(columns=df_metadata)"
            ]
        },
        {
            "cell_type": "code",
            "execution_count": 8,
            "id": "8924c31e",
            "metadata": {
                "execution": {
                    "iopub.execute_input": "2023-08-18T18:02:22.363098Z",
                    "iopub.status.busy": "2023-08-18T18:02:22.362689Z",
                    "iopub.status.idle": "2023-08-18T18:02:22.714639Z",
                    "shell.execute_reply": "2023-08-18T18:02:22.714027Z"
                },
                "papermill": {
                    "duration": null,
                    "end_time": null,
                    "exception": null,
                    "start_time": null,
                    "status": "completed"
                },
                "tags": []
            },
            "outputs": [],
            "source": [
                "# Creating label encoder\n",
                "le = preprocessing.LabelEncoder()\n",
                "# Converting strings into numbers\n",
                "df_values[\"oneb_Metadata_Treatment_Dose_Inhibitor_Dose\"] = le.fit_transform(\n",
                "    df_values[\"oneb_Metadata_Treatment_Dose_Inhibitor_Dose\"]\n",
                ")\n",
                "# split into X and Y where Y are the predictive column and x are the observable data\n",
                "df_values_X = df_values.drop(\n",
                "    [\n",
                "        \"oneb_Metadata_Treatment_Dose_Inhibitor_Dose\",\n",
                "        \"twob_Metadata_Treatment_Dose_Inhibitor_Dose\",\n",
                "        \"threeb_Metadata_Treatment_Dose_Inhibitor_Dose\",\n",
                "        \"fourb_Metadata_Treatment_Dose_Inhibitor_Dose\",\n",
                "    ],\n",
                "    axis=1,\n",
                ")\n",
                "df_values_Y = df_values[\"oneb_Metadata_Treatment_Dose_Inhibitor_Dose\"]"
            ]
        },
        {
            "cell_type": "markdown",
            "id": "4dfa9d10",
            "metadata": {
                "papermill": {
                    "duration": null,
                    "end_time": null,
                    "exception": null,
                    "start_time": null,
                    "status": "completed"
                },
                "tags": []
            },
            "source": [
                "#### Split Data - All Models can proceed through this point"
            ]
        },
        {
            "cell_type": "code",
            "execution_count": 9,
            "id": "499f4ae5",
            "metadata": {
                "execution": {
                    "iopub.execute_input": "2023-08-18T18:02:22.737633Z",
                    "iopub.status.busy": "2023-08-18T18:02:22.737438Z",
                    "iopub.status.idle": "2023-08-18T18:02:26.196694Z",
                    "shell.execute_reply": "2023-08-18T18:02:26.196049Z"
                },
                "papermill": {
                    "duration": null,
                    "end_time": null,
                    "exception": null,
                    "start_time": null,
                    "status": "completed"
                },
                "tags": []
            },
            "outputs": [],
            "source": [
                "X_train, X_test, X_val, Y_train, Y_test, Y_val = data_split(\n",
                "    X_vals=df_values_X,\n",
                "    y_vals=df_values_Y,\n",
                "    train_proportion=mlp_params.TRAIN_PROPORTION_SPLIT,\n",
                "    val_proportion=mlp_params.VALIDATION_PROPORTION_SPLIT,\n",
                "    test_proportion=mlp_params.TEST_PROPORTION_SPLIT,\n",
                "    # train_proportion=0.8,\n",
                "    # val_proportion=0.1,\n",
                "    # test_proportion=0.1,\n",
                "    seed=0,\n",
                "    params=mlp_params,\n",
                ")"
            ]
        },
        {
            "cell_type": "code",
            "execution_count": 10,
            "id": "aa28922f",
            "metadata": {
                "execution": {
                    "iopub.execute_input": "2023-08-18T18:02:26.214603Z",
                    "iopub.status.busy": "2023-08-18T18:02:26.214181Z",
                    "iopub.status.idle": "2023-08-18T18:02:26.355468Z",
                    "shell.execute_reply": "2023-08-18T18:02:26.354945Z"
                },
                "papermill": {
                    "duration": null,
                    "end_time": null,
                    "exception": null,
                    "start_time": null,
                    "status": "completed"
                },
                "tags": []
            },
            "outputs": [],
            "source": [
                "# produce data objects for train, val and test datasets\n",
                "train_data = Dataset_formatter(\n",
                "    torch.FloatTensor(X_train.values), torch.FloatTensor(Y_train.values)\n",
                ")\n",
                "val_data = Dataset_formatter(\n",
                "    torch.FloatTensor(X_val.values), torch.FloatTensor(Y_val.values)\n",
                ")\n",
                "test_data = Dataset_formatter(\n",
                "    torch.FloatTensor(X_test.values), torch.FloatTensor(Y_test.values)\n",
                ")"
            ]
        },
        {
            "cell_type": "code",
            "execution_count": 11,
            "id": "7c628ee1",
            "metadata": {
                "execution": {
                    "iopub.execute_input": "2023-08-18T18:02:26.368928Z",
                    "iopub.status.busy": "2023-08-18T18:02:26.368608Z",
                    "iopub.status.idle": "2023-08-18T18:02:26.374145Z",
                    "shell.execute_reply": "2023-08-18T18:02:26.373695Z"
                },
                "papermill": {
                    "duration": null,
                    "end_time": null,
                    "exception": null,
                    "start_time": null,
                    "status": "completed"
                },
                "tags": []
            },
            "outputs": [
                {
                    "name": "stdout",
                    "output_type": "stream",
                    "text": [
                        "Number of in features:  1251\n",
                        "Number of out features:  2\n",
                        "Binary_Classification\n"
                    ]
                }
            ],
            "source": [
                "mlp_params.IN_FEATURES = X_train.shape[1]\n",
                "print(\"Number of in features: \", mlp_params.IN_FEATURES)\n",
                "if mlp_params.MODEL_TYPE == \"Regression\":\n",
                "    mlp_params.OUT_FEATURES = 1\n",
                "else:\n",
                "    mlp_params.OUT_FEATURES = len(\n",
                "        df_values[\"oneb_Metadata_Treatment_Dose_Inhibitor_Dose\"].unique()\n",
                "    )\n",
                "\n",
                "print(\"Number of out features: \", mlp_params.OUT_FEATURES)\n",
                "\n",
                "if mlp_params.OUT_FEATURES > 2:\n",
                "    mlp_params.MODEL_TYPE = \"Multi_Class\"\n",
                "elif mlp_params.OUT_FEATURES == 2:\n",
                "    mlp_params.OUT_FEATURES = mlp_params.OUT_FEATURES - 1\n",
                "    mlp_params.MODEL_TYPE = \"Binary_Classification\"\n",
                "elif mlp_params.OUT_FEATURES == 1:\n",
                "    mlp_params.MODEL_TYPE = \"Regression\"\n",
                "else:\n",
                "    pass\n",
                "print(mlp_params.MODEL_TYPE)"
            ]
        },
        {
            "cell_type": "code",
            "execution_count": 12,
            "id": "35e3c505",
            "metadata": {
                "execution": {
                    "iopub.execute_input": "2023-08-18T18:02:26.386004Z",
                    "iopub.status.busy": "2023-08-18T18:02:26.385649Z",
                    "iopub.status.idle": "2023-08-18T18:02:26.388855Z",
                    "shell.execute_reply": "2023-08-18T18:02:26.388450Z"
                },
                "papermill": {
                    "duration": null,
                    "end_time": null,
                    "exception": null,
                    "start_time": null,
                    "status": "completed"
                },
                "tags": []
            },
            "outputs": [],
            "source": [
                "# convert data class into a dataloader to be compatible with pytorch\n",
                "train_loader = torch.utils.data.DataLoader(\n",
                "    dataset=train_data, batch_size=mlp_params.BATCH_SIZE, shuffle=mlp_params.SHUFFLE\n",
                ")\n",
                "valid_loader = torch.utils.data.DataLoader(\n",
                "    dataset=val_data, batch_size=mlp_params.BATCH_SIZE, shuffle=mlp_params.SHUFFLE\n",
                ")\n",
                "test_loader = torch.utils.data.DataLoader(\n",
                "    dataset=test_data, batch_size=1, shuffle=mlp_params.SHUFFLE\n",
                ")"
            ]
        },
        {
            "cell_type": "code",
            "execution_count": 13,
            "id": "4ab763c4",
            "metadata": {
                "execution": {
                    "iopub.execute_input": "2023-08-18T18:02:26.400664Z",
                    "iopub.status.busy": "2023-08-18T18:02:26.400329Z",
                    "iopub.status.idle": "2023-08-18T18:07:21.469351Z",
                    "shell.execute_reply": "2023-08-18T18:07:21.468771Z"
                },
                "papermill": {
                    "duration": null,
                    "end_time": null,
                    "exception": null,
                    "start_time": null,
                    "status": "completed"
                },
                "tags": []
            },
            "outputs": [
                {
                    "name": "stdout",
                    "output_type": "stream",
                    "text": [
                        "SGD\n",
                        "Epoch 0: Validation loss decreased (inf --> 0.386064).  Saving model ...\n",
                        "\t Train_Loss: 0.5069 Train_Acc: 77.702 Val_Loss: 0.3861  BEST VAL Loss: 0.3861  Val_Acc: 87.368\n",
                        "\n",
                        "Epoch 1: Validation loss decreased (0.386064 --> 0.343327).  Saving model ...\n",
                        "\t Train_Loss: 0.4357 Train_Acc: 85.756 Val_Loss: 0.3433  BEST VAL Loss: 0.3433  Val_Acc: 90.532\n",
                        "\n",
                        "Epoch 2: Validation loss decreased (0.343327 --> 0.314406).  Saving model ...\n",
                        "\t Train_Loss: 0.3930 Train_Acc: 87.704 Val_Loss: 0.3144  BEST VAL Loss: 0.3144  Val_Acc: 91.938\n",
                        "\n",
                        "Epoch 3: Validation loss decreased (0.314406 --> 0.291083).  Saving model ...\n",
                        "\t Train_Loss: 0.3628 Train_Acc: 89.213 Val_Loss: 0.2911  BEST VAL Loss: 0.2911  Val_Acc: 93.508\n",
                        "\n",
                        "Epoch 4: Validation loss decreased (0.291083 --> 0.271966).  Saving model ...\n",
                        "\t Train_Loss: 0.3399 Train_Acc: 90.156 Val_Loss: 0.2720  BEST VAL Loss: 0.2720  Val_Acc: 94.118\n",
                        "\n",
                        "Epoch 5: Validation loss decreased (0.271966 --> 0.258071).  Saving model ...\n",
                        "\t Train_Loss: 0.3219 Train_Acc: 90.941 Val_Loss: 0.2581  BEST VAL Loss: 0.2581  Val_Acc: 94.539\n",
                        "\n",
                        "Epoch 6: Validation loss decreased (0.258071 --> 0.245868).  Saving model ...\n",
                        "\t Train_Loss: 0.3067 Train_Acc: 91.943 Val_Loss: 0.2459  BEST VAL Loss: 0.2459  Val_Acc: 94.727\n",
                        "\n",
                        "Epoch 7: Validation loss decreased (0.245868 --> 0.235322).  Saving model ...\n",
                        "\t Train_Loss: 0.2941 Train_Acc: 92.271 Val_Loss: 0.2353  BEST VAL Loss: 0.2353  Val_Acc: 94.914\n",
                        "\n",
                        "Epoch 8: Validation loss decreased (0.235322 --> 0.225992).  Saving model ...\n",
                        "\t Train_Loss: 0.2833 Train_Acc: 92.497 Val_Loss: 0.2260  BEST VAL Loss: 0.2260  Val_Acc: 95.008\n",
                        "\n",
                        "Epoch 9: Validation loss decreased (0.225992 --> 0.218259).  Saving model ...\n",
                        "\t Train_Loss: 0.2734 Train_Acc: 92.963 Val_Loss: 0.2183  BEST VAL Loss: 0.2183  Val_Acc: 94.868\n",
                        "\n",
                        "Epoch 10: Validation loss decreased (0.218259 --> 0.211830).  Saving model ...\n",
                        "\t Train_Loss: 0.2650 Train_Acc: 93.150 Val_Loss: 0.2118  BEST VAL Loss: 0.2118  Val_Acc: 95.079\n",
                        "\n",
                        "Epoch 11: Validation loss decreased (0.211830 --> 0.206337).  Saving model ...\n",
                        "\t Train_Loss: 0.2577 Train_Acc: 93.224 Val_Loss: 0.2063  BEST VAL Loss: 0.2063  Val_Acc: 95.125\n",
                        "\n",
                        "Epoch 12: Validation loss decreased (0.206337 --> 0.200732).  Saving model ...\n",
                        "\t Train_Loss: 0.2509 Train_Acc: 93.613 Val_Loss: 0.2007  BEST VAL Loss: 0.2007  Val_Acc: 95.243\n",
                        "\n",
                        "Epoch 13: Validation loss decreased (0.200732 --> 0.195580).  Saving model ...\n",
                        "\t Train_Loss: 0.2448 Train_Acc: 93.760 Val_Loss: 0.1956  BEST VAL Loss: 0.1956  Val_Acc: 95.922\n",
                        "\n",
                        "Epoch 14: Validation loss decreased (0.195580 --> 0.191271).  Saving model ...\n",
                        "\t Train_Loss: 0.2392 Train_Acc: 94.003 Val_Loss: 0.1913  BEST VAL Loss: 0.1913  Val_Acc: 95.219\n",
                        "\n",
                        "Epoch 15: Validation loss decreased (0.191271 --> 0.187995).  Saving model ...\n",
                        "\t Train_Loss: 0.2340 Train_Acc: 94.070 Val_Loss: 0.1880  BEST VAL Loss: 0.1880  Val_Acc: 95.407\n",
                        "\n",
                        "Epoch 16: Validation loss decreased (0.187995 --> 0.184217).  Saving model ...\n",
                        "\t Train_Loss: 0.2293 Train_Acc: 94.185 Val_Loss: 0.1842  BEST VAL Loss: 0.1842  Val_Acc: 95.641\n",
                        "\n",
                        "Epoch 17: Validation loss decreased (0.184217 --> 0.180439).  Saving model ...\n",
                        "\t Train_Loss: 0.2247 Train_Acc: 94.627 Val_Loss: 0.1804  BEST VAL Loss: 0.1804  Val_Acc: 95.453\n",
                        "\n",
                        "Epoch 18: Validation loss decreased (0.180439 --> 0.177162).  Saving model ...\n",
                        "\t Train_Loss: 0.2205 Train_Acc: 94.369 Val_Loss: 0.1772  BEST VAL Loss: 0.1772  Val_Acc: 95.993\n",
                        "\n",
                        "Epoch 19: Validation loss decreased (0.177162 --> 0.173897).  Saving model ...\n",
                        "\t Train_Loss: 0.2165 Train_Acc: 94.718 Val_Loss: 0.1739  BEST VAL Loss: 0.1739  Val_Acc: 95.688\n",
                        "\n",
                        "Epoch 20: Validation loss decreased (0.173897 --> 0.171352).  Saving model ...\n",
                        "\t Train_Loss: 0.2129 Train_Acc: 94.694 Val_Loss: 0.1714  BEST VAL Loss: 0.1714  Val_Acc: 95.758\n",
                        "\n",
                        "Epoch 21: Validation loss decreased (0.171352 --> 0.168534).  Saving model ...\n",
                        "\t Train_Loss: 0.2095 Train_Acc: 94.776 Val_Loss: 0.1685  BEST VAL Loss: 0.1685  Val_Acc: 96.063\n",
                        "\n",
                        "Epoch 22: Validation loss decreased (0.168534 --> 0.166556).  Saving model ...\n",
                        "\t Train_Loss: 0.2065 Train_Acc: 94.574 Val_Loss: 0.1666  BEST VAL Loss: 0.1666  Val_Acc: 95.664\n",
                        "\n",
                        "Epoch 23: Validation loss decreased (0.166556 --> 0.164514).  Saving model ...\n",
                        "\t Train_Loss: 0.2033 Train_Acc: 95.143 Val_Loss: 0.1645  BEST VAL Loss: 0.1645  Val_Acc: 95.922\n",
                        "\n",
                        "Epoch 24: Validation loss decreased (0.164514 --> 0.162697).  Saving model ...\n",
                        "\t Train_Loss: 0.2005 Train_Acc: 94.744 Val_Loss: 0.1627  BEST VAL Loss: 0.1627  Val_Acc: 95.993\n",
                        "\n",
                        "Epoch 25: Validation loss decreased (0.162697 --> 0.160836).  Saving model ...\n",
                        "\t Train_Loss: 0.1978 Train_Acc: 95.055 Val_Loss: 0.1608  BEST VAL Loss: 0.1608  Val_Acc: 95.735\n",
                        "\n",
                        "Epoch 26: Validation loss decreased (0.160836 --> 0.159042).  Saving model ...\n",
                        "\t Train_Loss: 0.1952 Train_Acc: 94.970 Val_Loss: 0.1590  BEST VAL Loss: 0.1590  Val_Acc: 96.133\n",
                        "\n",
                        "Epoch 27: Validation loss decreased (0.159042 --> 0.157174).  Saving model ...\n",
                        "\t Train_Loss: 0.1928 Train_Acc: 95.166 Val_Loss: 0.1572  BEST VAL Loss: 0.1572  Val_Acc: 95.993\n",
                        "\n",
                        "Epoch 28: Validation loss decreased (0.157174 --> 0.155372).  Saving model ...\n",
                        "\t Train_Loss: 0.1904 Train_Acc: 95.260 Val_Loss: 0.1554  BEST VAL Loss: 0.1554  Val_Acc: 95.922\n",
                        "\n",
                        "Epoch 29: Validation loss decreased (0.155372 --> 0.153739).  Saving model ...\n",
                        "\t Train_Loss: 0.1881 Train_Acc: 95.327 Val_Loss: 0.1537  BEST VAL Loss: 0.1537  Val_Acc: 96.157\n",
                        "\n",
                        "Epoch 30: Validation loss decreased (0.153739 --> 0.152415).  Saving model ...\n",
                        "\t Train_Loss: 0.1860 Train_Acc: 95.307 Val_Loss: 0.1524  BEST VAL Loss: 0.1524  Val_Acc: 96.203\n",
                        "\n",
                        "Epoch 31: Validation loss decreased (0.152415 --> 0.151040).  Saving model ...\n",
                        "\t Train_Loss: 0.1839 Train_Acc: 95.307 Val_Loss: 0.1510  BEST VAL Loss: 0.1510  Val_Acc: 96.344\n",
                        "\n",
                        "Epoch 32: Validation loss decreased (0.151040 --> 0.149880).  Saving model ...\n",
                        "\t Train_Loss: 0.1820 Train_Acc: 95.465 Val_Loss: 0.1499  BEST VAL Loss: 0.1499  Val_Acc: 96.367\n",
                        "\n",
                        "Epoch 33: Validation loss decreased (0.149880 --> 0.148556).  Saving model ...\n",
                        "\t Train_Loss: 0.1800 Train_Acc: 95.491 Val_Loss: 0.1486  BEST VAL Loss: 0.1486  Val_Acc: 96.250\n",
                        "\n",
                        "Epoch 34: Validation loss decreased (0.148556 --> 0.147523).  Saving model ...\n",
                        "\t Train_Loss: 0.1782 Train_Acc: 95.488 Val_Loss: 0.1475  BEST VAL Loss: 0.1475  Val_Acc: 96.274\n",
                        "\n",
                        "Epoch 35: Validation loss decreased (0.147523 --> 0.146252).  Saving model ...\n",
                        "\t Train_Loss: 0.1764 Train_Acc: 95.444 Val_Loss: 0.1463  BEST VAL Loss: 0.1463  Val_Acc: 96.532\n",
                        "\n",
                        "Epoch 36: Validation loss decreased (0.146252 --> 0.145314).  Saving model ...\n",
                        "\t Train_Loss: 0.1749 Train_Acc: 95.427 Val_Loss: 0.1453  BEST VAL Loss: 0.1453  Val_Acc: 95.594\n",
                        "\n",
                        "Epoch 37: Validation loss decreased (0.145314 --> 0.144510).  Saving model ...\n",
                        "\t Train_Loss: 0.1732 Train_Acc: 95.597 Val_Loss: 0.1445  BEST VAL Loss: 0.1445  Val_Acc: 96.297\n",
                        "\n",
                        "Epoch 38: Validation loss decreased (0.144510 --> 0.143561).  Saving model ...\n",
                        "\t Train_Loss: 0.1717 Train_Acc: 95.491 Val_Loss: 0.1436  BEST VAL Loss: 0.1436  Val_Acc: 96.461\n",
                        "\n",
                        "Epoch 39: Validation loss decreased (0.143561 --> 0.142463).  Saving model ...\n",
                        "\t Train_Loss: 0.1701 Train_Acc: 95.805 Val_Loss: 0.1425  BEST VAL Loss: 0.1425  Val_Acc: 96.578\n",
                        "\n",
                        "Epoch 40: Validation loss decreased (0.142463 --> 0.141663).  Saving model ...\n",
                        "\t Train_Loss: 0.1686 Train_Acc: 95.778 Val_Loss: 0.1417  BEST VAL Loss: 0.1417  Val_Acc: 96.649\n",
                        "\n",
                        "Epoch 41: Validation loss decreased (0.141663 --> 0.140861).  Saving model ...\n",
                        "\t Train_Loss: 0.1672 Train_Acc: 95.682 Val_Loss: 0.1409  BEST VAL Loss: 0.1409  Val_Acc: 96.555\n",
                        "\n",
                        "Epoch 42: Validation loss decreased (0.140861 --> 0.139961).  Saving model ...\n",
                        "\t Train_Loss: 0.1659 Train_Acc: 95.831 Val_Loss: 0.1400  BEST VAL Loss: 0.1400  Val_Acc: 95.852\n",
                        "\n",
                        "Epoch 43: Validation loss decreased (0.139961 --> 0.139021).  Saving model ...\n",
                        "\t Train_Loss: 0.1647 Train_Acc: 95.453 Val_Loss: 0.1390  BEST VAL Loss: 0.1390  Val_Acc: 96.391\n",
                        "\n",
                        "Epoch 44: Validation loss decreased (0.139021 --> 0.138140).  Saving model ...\n",
                        "\t Train_Loss: 0.1634 Train_Acc: 95.661 Val_Loss: 0.1381  BEST VAL Loss: 0.1381  Val_Acc: 96.485\n",
                        "\n",
                        "Epoch 45: Validation loss decreased (0.138140 --> 0.137333).  Saving model ...\n",
                        "\t Train_Loss: 0.1622 Train_Acc: 95.767 Val_Loss: 0.1373  BEST VAL Loss: 0.1373  Val_Acc: 96.367\n",
                        "\n",
                        "Epoch 46: Validation loss decreased (0.137333 --> 0.136776).  Saving model ...\n",
                        "\t Train_Loss: 0.1610 Train_Acc: 95.834 Val_Loss: 0.1368  BEST VAL Loss: 0.1368  Val_Acc: 96.016\n",
                        "\n",
                        "Epoch 47: Validation loss decreased (0.136776 --> 0.136067).  Saving model ...\n",
                        "\t Train_Loss: 0.1598 Train_Acc: 95.907 Val_Loss: 0.1361  BEST VAL Loss: 0.1361  Val_Acc: 96.438\n",
                        "\n",
                        "Epoch 48: Validation loss decreased (0.136067 --> 0.135320).  Saving model ...\n",
                        "\t Train_Loss: 0.1586 Train_Acc: 96.021 Val_Loss: 0.1353  BEST VAL Loss: 0.1353  Val_Acc: 96.438\n",
                        "\n",
                        "Epoch 49: Validation loss decreased (0.135320 --> 0.134623).  Saving model ...\n",
                        "\t Train_Loss: 0.1575 Train_Acc: 95.960 Val_Loss: 0.1346  BEST VAL Loss: 0.1346  Val_Acc: 96.485\n",
                        "\n",
                        "Epoch 50: Validation loss decreased (0.134623 --> 0.133825).  Saving model ...\n",
                        "\t Train_Loss: 0.1564 Train_Acc: 96.086 Val_Loss: 0.1338  BEST VAL Loss: 0.1338  Val_Acc: 96.532\n",
                        "\n",
                        "Epoch 51: Validation loss decreased (0.133825 --> 0.133196).  Saving model ...\n",
                        "\t Train_Loss: 0.1553 Train_Acc: 95.998 Val_Loss: 0.1332  BEST VAL Loss: 0.1332  Val_Acc: 96.414\n",
                        "\n",
                        "Epoch 52: Validation loss decreased (0.133196 --> 0.132547).  Saving model ...\n",
                        "\t Train_Loss: 0.1543 Train_Acc: 95.925 Val_Loss: 0.1325  BEST VAL Loss: 0.1325  Val_Acc: 96.321\n",
                        "\n",
                        "Epoch 53: Validation loss decreased (0.132547 --> 0.131899).  Saving model ...\n",
                        "\t Train_Loss: 0.1533 Train_Acc: 96.068 Val_Loss: 0.1319  BEST VAL Loss: 0.1319  Val_Acc: 96.649\n",
                        "\n",
                        "Epoch 54: Validation loss decreased (0.131899 --> 0.131359).  Saving model ...\n",
                        "\t Train_Loss: 0.1523 Train_Acc: 95.913 Val_Loss: 0.1314  BEST VAL Loss: 0.1314  Val_Acc: 96.672\n",
                        "\n",
                        "Epoch 55: Validation loss decreased (0.131359 --> 0.130695).  Saving model ...\n",
                        "\t Train_Loss: 0.1513 Train_Acc: 96.238 Val_Loss: 0.1307  BEST VAL Loss: 0.1307  Val_Acc: 96.649\n",
                        "\n",
                        "Epoch 56: Validation loss decreased (0.130695 --> 0.129988).  Saving model ...\n",
                        "\t Train_Loss: 0.1503 Train_Acc: 95.963 Val_Loss: 0.1300  BEST VAL Loss: 0.1300  Val_Acc: 96.719\n",
                        "\n",
                        "Epoch 57: Validation loss decreased (0.129988 --> 0.129531).  Saving model ...\n",
                        "\t Train_Loss: 0.1494 Train_Acc: 96.080 Val_Loss: 0.1295  BEST VAL Loss: 0.1295  Val_Acc: 96.649\n",
                        "\n",
                        "Epoch 58: Validation loss decreased (0.129531 --> 0.128930).  Saving model ...\n",
                        "\t Train_Loss: 0.1485 Train_Acc: 95.934 Val_Loss: 0.1289  BEST VAL Loss: 0.1289  Val_Acc: 96.602\n",
                        "\n",
                        "Epoch 59: Validation loss decreased (0.128930 --> 0.128709).  Saving model ...\n",
                        "\t Train_Loss: 0.1477 Train_Acc: 96.133 Val_Loss: 0.1287  BEST VAL Loss: 0.1287  Val_Acc: 95.899\n",
                        "\n",
                        "Epoch 60: Validation loss decreased (0.128709 --> 0.128229).  Saving model ...\n",
                        "\t Train_Loss: 0.1468 Train_Acc: 96.197 Val_Loss: 0.1282  BEST VAL Loss: 0.1282  Val_Acc: 96.461\n",
                        "\n",
                        "Epoch 61: Validation loss decreased (0.128229 --> 0.127784).  Saving model ...\n",
                        "\t Train_Loss: 0.1459 Train_Acc: 96.273 Val_Loss: 0.1278  BEST VAL Loss: 0.1278  Val_Acc: 95.758\n",
                        "\n",
                        "Epoch 62: Validation loss decreased (0.127784 --> 0.127498).  Saving model ...\n",
                        "\t Train_Loss: 0.1451 Train_Acc: 96.101 Val_Loss: 0.1275  BEST VAL Loss: 0.1275  Val_Acc: 96.110\n",
                        "\n",
                        "Epoch 63: Validation loss decreased (0.127498 --> 0.126957).  Saving model ...\n",
                        "\t Train_Loss: 0.1443 Train_Acc: 96.159 Val_Loss: 0.1270  BEST VAL Loss: 0.1270  Val_Acc: 96.438\n",
                        "\n",
                        "Epoch 64: Validation loss decreased (0.126957 --> 0.126625).  Saving model ...\n",
                        "\t Train_Loss: 0.1435 Train_Acc: 96.303 Val_Loss: 0.1266  BEST VAL Loss: 0.1266  Val_Acc: 96.555\n",
                        "\n",
                        "Epoch 65: Validation loss decreased (0.126625 --> 0.126261).  Saving model ...\n",
                        "\t Train_Loss: 0.1428 Train_Acc: 96.139 Val_Loss: 0.1263  BEST VAL Loss: 0.1263  Val_Acc: 96.414\n",
                        "\n",
                        "Epoch 66: Validation loss decreased (0.126261 --> 0.125926).  Saving model ...\n",
                        "\t Train_Loss: 0.1421 Train_Acc: 96.153 Val_Loss: 0.1259  BEST VAL Loss: 0.1259  Val_Acc: 96.180\n",
                        "\n",
                        "Epoch 67: Validation loss decreased (0.125926 --> 0.125404).  Saving model ...\n",
                        "\t Train_Loss: 0.1413 Train_Acc: 96.188 Val_Loss: 0.1254  BEST VAL Loss: 0.1254  Val_Acc: 96.789\n",
                        "\n",
                        "Epoch 68: Validation loss decreased (0.125404 --> 0.125071).  Saving model ...\n",
                        "\t Train_Loss: 0.1406 Train_Acc: 96.358 Val_Loss: 0.1251  BEST VAL Loss: 0.1251  Val_Acc: 96.485\n",
                        "\n",
                        "Epoch 69: Validation loss decreased (0.125071 --> 0.124537).  Saving model ...\n",
                        "\t Train_Loss: 0.1399 Train_Acc: 96.355 Val_Loss: 0.1245  BEST VAL Loss: 0.1245  Val_Acc: 96.742\n",
                        "\n",
                        "Epoch 70: Validation loss decreased (0.124537 --> 0.124080).  Saving model ...\n",
                        "\t Train_Loss: 0.1391 Train_Acc: 96.446 Val_Loss: 0.1241  BEST VAL Loss: 0.1241  Val_Acc: 96.766\n",
                        "\n",
                        "Epoch 71: Validation loss decreased (0.124080 --> 0.123591).  Saving model ...\n",
                        "\t Train_Loss: 0.1385 Train_Acc: 96.253 Val_Loss: 0.1236  BEST VAL Loss: 0.1236  Val_Acc: 96.836\n",
                        "\n",
                        "Epoch 72: Validation loss decreased (0.123591 --> 0.123138).  Saving model ...\n",
                        "\t Train_Loss: 0.1378 Train_Acc: 96.341 Val_Loss: 0.1231  BEST VAL Loss: 0.1231  Val_Acc: 96.602\n",
                        "\n",
                        "Epoch 73: Validation loss decreased (0.123138 --> 0.122922).  Saving model ...\n",
                        "\t Train_Loss: 0.1371 Train_Acc: 96.432 Val_Loss: 0.1229  BEST VAL Loss: 0.1229  Val_Acc: 96.696\n",
                        "\n",
                        "Epoch 74: Validation loss decreased (0.122922 --> 0.122678).  Saving model ...\n",
                        "\t Train_Loss: 0.1365 Train_Acc: 96.276 Val_Loss: 0.1227  BEST VAL Loss: 0.1227  Val_Acc: 96.391\n",
                        "\n",
                        "Epoch 75: Validation loss decreased (0.122678 --> 0.122459).  Saving model ...\n",
                        "\t Train_Loss: 0.1358 Train_Acc: 96.335 Val_Loss: 0.1225  BEST VAL Loss: 0.1225  Val_Acc: 96.485\n",
                        "\n",
                        "Epoch 76: Validation loss decreased (0.122459 --> 0.122177).  Saving model ...\n",
                        "\t Train_Loss: 0.1352 Train_Acc: 96.350 Val_Loss: 0.1222  BEST VAL Loss: 0.1222  Val_Acc: 96.696\n",
                        "\n",
                        "Epoch 77: Validation loss decreased (0.122177 --> 0.121823).  Saving model ...\n",
                        "\t Train_Loss: 0.1346 Train_Acc: 96.317 Val_Loss: 0.1218  BEST VAL Loss: 0.1218  Val_Acc: 96.578\n",
                        "\n",
                        "Epoch 78: Validation loss decreased (0.121823 --> 0.121544).  Saving model ...\n",
                        "\t Train_Loss: 0.1340 Train_Acc: 96.476 Val_Loss: 0.1215  BEST VAL Loss: 0.1215  Val_Acc: 95.500\n",
                        "\n",
                        "Epoch 79: Validation loss decreased (0.121544 --> 0.121206).  Saving model ...\n",
                        "\t Train_Loss: 0.1334 Train_Acc: 96.244 Val_Loss: 0.1212  BEST VAL Loss: 0.1212  Val_Acc: 96.953\n",
                        "\n",
                        "Epoch 80: Validation loss decreased (0.121206 --> 0.120934).  Saving model ...\n",
                        "\t Train_Loss: 0.1328 Train_Acc: 96.511 Val_Loss: 0.1209  BEST VAL Loss: 0.1209  Val_Acc: 96.274\n",
                        "\n",
                        "Epoch 81: Validation loss decreased (0.120934 --> 0.120586).  Saving model ...\n",
                        "\t Train_Loss: 0.1323 Train_Acc: 96.262 Val_Loss: 0.1206  BEST VAL Loss: 0.1206  Val_Acc: 96.625\n",
                        "\n",
                        "Epoch 82: Validation loss decreased (0.120586 --> 0.120325).  Saving model ...\n",
                        "\t Train_Loss: 0.1317 Train_Acc: 96.558 Val_Loss: 0.1203  BEST VAL Loss: 0.1203  Val_Acc: 96.578\n",
                        "\n",
                        "Epoch 83: Validation loss decreased (0.120325 --> 0.120064).  Saving model ...\n",
                        "\t Train_Loss: 0.1311 Train_Acc: 96.519 Val_Loss: 0.1201  BEST VAL Loss: 0.1201  Val_Acc: 96.836\n",
                        "\n",
                        "Epoch 84: Validation loss decreased (0.120064 --> 0.119831).  Saving model ...\n",
                        "\t Train_Loss: 0.1305 Train_Acc: 96.508 Val_Loss: 0.1198  BEST VAL Loss: 0.1198  Val_Acc: 96.742\n",
                        "\n",
                        "Epoch 85: Validation loss decreased (0.119831 --> 0.119542).  Saving model ...\n",
                        "\t Train_Loss: 0.1300 Train_Acc: 96.420 Val_Loss: 0.1195  BEST VAL Loss: 0.1195  Val_Acc: 96.813\n",
                        "\n",
                        "Epoch 86: Validation loss decreased (0.119542 --> 0.119385).  Saving model ...\n",
                        "\t Train_Loss: 0.1294 Train_Acc: 96.508 Val_Loss: 0.1194  BEST VAL Loss: 0.1194  Val_Acc: 96.250\n",
                        "\n",
                        "Epoch 87: Validation loss decreased (0.119385 --> 0.119088).  Saving model ...\n",
                        "\t Train_Loss: 0.1289 Train_Acc: 96.496 Val_Loss: 0.1191  BEST VAL Loss: 0.1191  Val_Acc: 96.555\n",
                        "\n",
                        "Epoch 88: Validation loss decreased (0.119088 --> 0.118869).  Saving model ...\n",
                        "\t Train_Loss: 0.1283 Train_Acc: 96.628 Val_Loss: 0.1189  BEST VAL Loss: 0.1189  Val_Acc: 96.672\n",
                        "\n",
                        "Epoch 89: Validation loss decreased (0.118869 --> 0.118508).  Saving model ...\n",
                        "\t Train_Loss: 0.1278 Train_Acc: 96.508 Val_Loss: 0.1185  BEST VAL Loss: 0.1185  Val_Acc: 96.719\n",
                        "\n",
                        "Epoch 90: Validation loss decreased (0.118508 --> 0.118354).  Saving model ...\n",
                        "\t Train_Loss: 0.1273 Train_Acc: 96.678 Val_Loss: 0.1184  BEST VAL Loss: 0.1184  Val_Acc: 96.532\n",
                        "\n",
                        "Epoch 91: Validation loss decreased (0.118354 --> 0.118093).  Saving model ...\n",
                        "\t Train_Loss: 0.1268 Train_Acc: 96.590 Val_Loss: 0.1181  BEST VAL Loss: 0.1181  Val_Acc: 96.672\n",
                        "\n",
                        "Epoch 92: Validation loss decreased (0.118093 --> 0.117788).  Saving model ...\n",
                        "\t Train_Loss: 0.1263 Train_Acc: 96.587 Val_Loss: 0.1178  BEST VAL Loss: 0.1178  Val_Acc: 96.766\n",
                        "\n",
                        "Epoch 93: Validation loss decreased (0.117788 --> 0.117484).  Saving model ...\n",
                        "\t Train_Loss: 0.1258 Train_Acc: 96.519 Val_Loss: 0.1175  BEST VAL Loss: 0.1175  Val_Acc: 96.789\n",
                        "\n",
                        "Epoch 94: Validation loss decreased (0.117484 --> 0.117165).  Saving model ...\n",
                        "\t Train_Loss: 0.1253 Train_Acc: 96.751 Val_Loss: 0.1172  BEST VAL Loss: 0.1172  Val_Acc: 96.719\n",
                        "\n",
                        "Epoch 95: Validation loss decreased (0.117165 --> 0.116997).  Saving model ...\n",
                        "\t Train_Loss: 0.1248 Train_Acc: 96.622 Val_Loss: 0.1170  BEST VAL Loss: 0.1170  Val_Acc: 96.555\n",
                        "\n",
                        "Epoch 96: Validation loss decreased (0.116997 --> 0.116883).  Saving model ...\n",
                        "\t Train_Loss: 0.1243 Train_Acc: 96.467 Val_Loss: 0.1169  BEST VAL Loss: 0.1169  Val_Acc: 96.508\n",
                        "\n",
                        "Epoch 97: Validation loss decreased (0.116883 --> 0.116600).  Saving model ...\n",
                        "\t Train_Loss: 0.1239 Train_Acc: 96.519 Val_Loss: 0.1166  BEST VAL Loss: 0.1166  Val_Acc: 96.719\n",
                        "\n",
                        "Epoch 98: Validation loss decreased (0.116600 --> 0.116358).  Saving model ...\n",
                        "\t Train_Loss: 0.1234 Train_Acc: 96.575 Val_Loss: 0.1164  BEST VAL Loss: 0.1164  Val_Acc: 96.672\n",
                        "\n",
                        "Epoch 99: Validation loss decreased (0.116358 --> 0.116190).  Saving model ...\n",
                        "\t Train_Loss: 0.1230 Train_Acc: 96.566 Val_Loss: 0.1162  BEST VAL Loss: 0.1162  Val_Acc: 96.836\n",
                        "\n"
                    ]
                }
            ],
            "source": [
                "# call the optimized training model\n",
                "train_loss, train_acc, valid_loss, valid_acc, epochs_ran, model = train_optimized_model(\n",
                "    mlp_params.TRAIN_EPOCHS,\n",
                "    train_loader,\n",
                "    valid_loader,\n",
                "    params,\n",
                "    mlp_params.MODEL_NAME,\n",
                "    mlp_params.SHUFFLE,\n",
                ")\n",
                "# get training_metrics\n",
                "if mlp_params.MODEL_TYPE == \"Regression\":\n",
                "    training_stats = pd.DataFrame(\n",
                "        zip(train_loss, valid_loss, epochs_ran),\n",
                "        columns=[\"train_loss\", \"valid_loss\", \"epochs_ran\"],\n",
                "    )\n",
                "else:\n",
                "    training_stats = pd.DataFrame(\n",
                "        zip(train_loss, train_acc, valid_loss, valid_acc, epochs_ran),\n",
                "        columns=[\"train_loss\", \"train_acc\", \"valid_loss\", \"valid_acc\", \"epochs_ran\"],\n",
                "    )"
            ]
        },
        {
            "cell_type": "code",
            "execution_count": 14,
            "id": "3d5115e3",
            "metadata": {
                "execution": {
                    "iopub.execute_input": "2023-08-18T18:07:21.496512Z",
                    "iopub.status.busy": "2023-08-18T18:07:21.495991Z",
                    "iopub.status.idle": "2023-08-18T18:07:21.532582Z",
                    "shell.execute_reply": "2023-08-18T18:07:21.532113Z"
                },
                "papermill": {
                    "duration": null,
                    "end_time": null,
                    "exception": null,
                    "start_time": null,
                    "status": "completed"
                },
                "tags": []
            },
            "outputs": [
                {
                    "data": {
                        "text/html": [
                            "<div>\n",
                            "<style scoped>\n",
                            "    .dataframe tbody tr th:only-of-type {\n",
                            "        vertical-align: middle;\n",
                            "    }\n",
                            "\n",
                            "    .dataframe tbody tr th {\n",
                            "        vertical-align: top;\n",
                            "    }\n",
                            "\n",
                            "    .dataframe thead th {\n",
                            "        text-align: right;\n",
                            "    }\n",
                            "</style>\n",
                            "<table border=\"1\" class=\"dataframe\">\n",
                            "  <thead>\n",
                            "    <tr style=\"text-align: right;\">\n",
                            "      <th></th>\n",
                            "      <th>treatments_tested</th>\n",
                            "      <th>model</th>\n",
                            "      <th>group</th>\n",
                            "      <th>shuffled_data</th>\n",
                            "      <th>PR_Threshold</th>\n",
                            "      <th>Precision</th>\n",
                            "      <th>Recall</th>\n",
                            "    </tr>\n",
                            "  </thead>\n",
                            "  <tbody>\n",
                            "  </tbody>\n",
                            "</table>\n",
                            "</div>"
                        ],
                        "text/plain": [
                            "Empty DataFrame\n",
                            "Columns: [treatments_tested, model, group, shuffled_data, PR_Threshold, Precision, Recall]\n",
                            "Index: []"
                        ]
                    },
                    "execution_count": 14,
                    "metadata": {},
                    "output_type": "execute_result"
                }
            ],
            "source": [
                "# create a dataframe to store the model stats\n",
                "model_stats_df = pd.DataFrame(\n",
                "    columns=[\n",
                "        \"treatments_tested\",\n",
                "        \"model\",\n",
                "        \"group\",\n",
                "        \"shuffled_data\",\n",
                "        \"PR_Threshold\",\n",
                "        \"Precision\",\n",
                "        \"Recall\",\n",
                "    ]\n",
                ")\n",
                "model_stats_df"
            ]
        },
        {
            "cell_type": "code",
            "execution_count": 15,
            "id": "d4f283d4",
            "metadata": {
                "execution": {
                    "iopub.execute_input": "2023-08-18T18:07:21.560470Z",
                    "iopub.status.busy": "2023-08-18T18:07:21.559840Z",
                    "iopub.status.idle": "2023-08-18T18:07:22.063995Z",
                    "shell.execute_reply": "2023-08-18T18:07:22.063372Z"
                },
                "papermill": {
                    "duration": null,
                    "end_time": null,
                    "exception": null,
                    "start_time": null,
                    "status": "completed"
                },
                "tags": []
            },
            "outputs": [
                {
                    "name": "stderr",
                    "output_type": "stream",
                    "text": [
                        "/home/lippincm/Documents/ML/Interstellar_Analysis/4.sc_Morphology_Neural_Network_MLP_Model/1.model_training/notebooks/../../MLP_utils/utils.py:1001: UserWarning: Ignoring `palette` because no `hue` variable has been assigned.\n",
                        "  sns.lineplot(x=df[x], y=df[y1], palette=\"blue\", label=\"Train\")\n",
                        "/home/lippincm/Documents/ML/Interstellar_Analysis/4.sc_Morphology_Neural_Network_MLP_Model/1.model_training/notebooks/../../MLP_utils/utils.py:1002: UserWarning: Ignoring `palette` because no `hue` variable has been assigned.\n",
                        "  sns.lineplot(x=df[x], y=df[y2], palette=\"orange\", label=\"Validation\")\n"
                    ]
                },
                {
                    "data": {
                        "image/png": "[encoded data removed]",
                        "text/plain": [
                            "<Figure size 640x480 with 1 Axes>"
                        ]
                    },
                    "metadata": {},
                    "output_type": "display_data"
                }
            ],
            "source": [
                "if mlp_params.MODEL_TYPE == \"Regression\":\n",
                "    pass\n",
                "else:\n",
                "    plot_metric_vs_epoch(\n",
                "        training_stats,\n",
                "        x=\"epochs_ran\",\n",
                "        y1=\"train_acc\",\n",
                "        y2=\"valid_acc\",\n",
                "        title=\"Accuracy vs. Epochs\",\n",
                "        x_axis_label=\"Epochs\",\n",
                "        y_axis_label=\"Accuracy\",\n",
                "        params=params,\n",
                "        model_name=mlp_params.MODEL_NAME,\n",
                "        shuffle=mlp_params.SHUFFLE,\n",
                "    )"
            ]
        },
        {
            "cell_type": "code",
            "execution_count": 16,
            "id": "5e491e00",
            "metadata": {
                "execution": {
                    "iopub.execute_input": "2023-08-18T18:07:22.097974Z",
                    "iopub.status.busy": "2023-08-18T18:07:22.097445Z",
                    "iopub.status.idle": "2023-08-18T18:07:22.396234Z",
                    "shell.execute_reply": "2023-08-18T18:07:22.395649Z"
                },
                "papermill": {
                    "duration": null,
                    "end_time": null,
                    "exception": null,
                    "start_time": null,
                    "status": "completed"
                },
                "tags": []
            },
            "outputs": [
                {
                    "name": "stderr",
                    "output_type": "stream",
                    "text": [
                        "/home/lippincm/Documents/ML/Interstellar_Analysis/4.sc_Morphology_Neural_Network_MLP_Model/1.model_training/notebooks/../../MLP_utils/utils.py:1001: UserWarning: Ignoring `palette` because no `hue` variable has been assigned.\n",
                        "  sns.lineplot(x=df[x], y=df[y1], palette=\"blue\", label=\"Train\")\n",
                        "/home/lippincm/Documents/ML/Interstellar_Analysis/4.sc_Morphology_Neural_Network_MLP_Model/1.model_training/notebooks/../../MLP_utils/utils.py:1002: UserWarning: Ignoring `palette` because no `hue` variable has been assigned.\n",
                        "  sns.lineplot(x=df[x], y=df[y2], palette=\"orange\", label=\"Validation\")\n"
                    ]
                },
                {
                    "data": {
                        "image/png": "[encoded data removed]",
                        "text/plain": [
                            "<Figure size 640x480 with 1 Axes>"
                        ]
                    },
                    "metadata": {},
                    "output_type": "display_data"
                }
            ],
            "source": [
                "plot_metric_vs_epoch(\n",
                "    training_stats,\n",
                "    x=\"epochs_ran\",\n",
                "    y1=\"train_loss\",\n",
                "    y2=\"valid_loss\",\n",
                "    title=\"Loss vs. Epochs\",\n",
                "    x_axis_label=\"Epochs\",\n",
                "    y_axis_label=\"Loss\",\n",
                "    params=params,\n",
                "    model_name=mlp_params.MODEL_NAME,\n",
                "    shuffle=mlp_params.SHUFFLE,\n",
                ")"
            ]
        },
        {
            "cell_type": "code",
            "execution_count": 17,
            "id": "9c595792",
            "metadata": {
                "execution": {
                    "iopub.execute_input": "2023-08-18T18:07:22.431650Z",
                    "iopub.status.busy": "2023-08-18T18:07:22.431265Z",
                    "iopub.status.idle": "2023-08-18T18:07:25.400014Z",
                    "shell.execute_reply": "2023-08-18T18:07:25.399178Z"
                },
                "papermill": {
                    "duration": null,
                    "end_time": null,
                    "exception": null,
                    "start_time": null,
                    "status": "completed"
                },
                "tags": []
            },
            "outputs": [
                {
                    "name": "stdout",
                    "output_type": "stream",
                    "text": [
                        "DMSO_0.025_vs_LPS_100_shuffle\n"
                    ]
                }
            ],
            "source": [
                "# test the model on training data\n",
                "# calling the testing function and outputting list values of tested model\n",
                "if any(\n",
                "    model_type == mlp_params.MODEL_TYPE for model_type in [\"Multi_Class\", \"Regression\"]\n",
                "):\n",
                "    y_pred_list = test_optimized_model(\n",
                "        model,\n",
                "        valid_loader,\n",
                "        mlp_params,\n",
                "        model_name=mlp_params.MODEL_NAME,\n",
                "        shuffle=mlp_params.SHUFFLE,\n",
                "    )\n",
                "elif mlp_params.MODEL_TYPE == \"Binary_Classification\":\n",
                "    y_pred_list, y_pred_prob_list = test_optimized_model(\n",
                "        model,\n",
                "        train_loader,\n",
                "        mlp_params,\n",
                "        model_name=mlp_params.MODEL_NAME,\n",
                "        shuffle=mlp_params.SHUFFLE,\n",
                "    )\n",
                "else:\n",
                "    raise Exception(\"Model type must be specified for proper model testing\")\n",
                "\n",
                "# un-nest list if nested i.e. length of input data does not match length of output data\n",
                "if len(y_pred_list) != len(Y_test):\n",
                "    y_pred_list = un_nest(y_pred_list)\n",
                "    y_pred_prob_list = un_nest(y_pred_prob_list)\n",
                "else:\n",
                "    pass"
            ]
        },
        {
            "cell_type": "code",
            "execution_count": 18,
            "id": "4b269c1d",
            "metadata": {
                "execution": {
                    "iopub.execute_input": "2023-08-18T18:07:25.452781Z",
                    "iopub.status.busy": "2023-08-18T18:07:25.452411Z",
                    "iopub.status.idle": "2023-08-18T18:07:28.834781Z",
                    "shell.execute_reply": "2023-08-18T18:07:28.833953Z"
                },
                "papermill": {
                    "duration": null,
                    "end_time": null,
                    "exception": null,
                    "start_time": null,
                    "status": "completed"
                },
                "tags": []
            },
            "outputs": [
                {
                    "name": "stdout",
                    "output_type": "stream",
                    "text": [
                        "              precision    recall  f1-score   support\n",
                        "\n",
                        "           0       0.72      0.72      0.72     24644\n",
                        "           1       0.28      0.28      0.28      9489\n",
                        "\n",
                        "    accuracy                           0.60     34133\n",
                        "   macro avg       0.50      0.50      0.50     34133\n",
                        "weighted avg       0.60      0.60      0.60     34133\n",
                        "\n"
                    ]
                }
            ],
            "source": [
                "stats, recall, precision, f1, precision_, recall_, threshold_ = output_stats(\n",
                "    y_pred_list,\n",
                "    Y_train,\n",
                "    mlp_params,\n",
                "    y_pred_prob_list,\n",
                "    test_name=f\"{mlp_params.MODEL_NAME}_train\",\n",
                "    model_name=mlp_params.MODEL_NAME,\n",
                "    title=mlp_params.MODEL_NAME,\n",
                "    shuffle=mlp_params.SHUFFLE,\n",
                ")"
            ]
        },
        {
            "cell_type": "code",
            "execution_count": 19,
            "id": "fdde3d70",
            "metadata": {
                "execution": {
                    "iopub.execute_input": "2023-08-18T18:07:28.885930Z",
                    "iopub.status.busy": "2023-08-18T18:07:28.885661Z",
                    "iopub.status.idle": "2023-08-18T18:07:28.904686Z",
                    "shell.execute_reply": "2023-08-18T18:07:28.904041Z"
                },
                "papermill": {
                    "duration": null,
                    "end_time": null,
                    "exception": null,
                    "start_time": null,
                    "status": "completed"
                },
                "tags": []
            },
            "outputs": [],
            "source": [
                "threshold_ = np.append(threshold_, None)\n",
                "stats_df = pd.DataFrame(\n",
                "    {\n",
                "        \"PR_Threshold\": threshold_,\n",
                "        \"Precision\": precision_,\n",
                "        \"Recall\": recall_,\n",
                "    }\n",
                ")\n",
                "\n",
                "stats_df[\"treatments_tested\"] = (\n",
                "    mlp_params.CONTROL_NAME + \" vs. \" + mlp_params.TREATMENT_NAME\n",
                ")\n",
                "stats_df[\"model\"] = mlp_params.MODEL_NAME\n",
                "stats_df[\"group\"] = \"train\"\n",
                "stats_df[\"shuffled_data\"] = mlp_params.SHUFFLE\n",
                "\n",
                "model_stats_df = pd.concat([model_stats_df, stats_df], axis=0)"
            ]
        },
        {
            "cell_type": "code",
            "execution_count": 20,
            "id": "52b5399f",
            "metadata": {
                "execution": {
                    "iopub.execute_input": "2023-08-18T18:07:28.939348Z",
                    "iopub.status.busy": "2023-08-18T18:07:28.938980Z",
                    "iopub.status.idle": "2023-08-18T18:07:29.285555Z",
                    "shell.execute_reply": "2023-08-18T18:07:29.285024Z"
                },
                "papermill": {
                    "duration": null,
                    "end_time": null,
                    "exception": null,
                    "start_time": null,
                    "status": "completed"
                },
                "tags": []
            },
            "outputs": [
                {
                    "name": "stdout",
                    "output_type": "stream",
                    "text": [
                        "DMSO_0.025_vs_LPS_100_shuffle\n"
                    ]
                }
            ],
            "source": [
                "# test the model on training data\n",
                "# calling the testing function and outputting list values of tested model\n",
                "if any(\n",
                "    model_type == mlp_params.MODEL_TYPE for model_type in [\"Multi_Class\", \"Regression\"]\n",
                "):\n",
                "    y_pred_list = test_optimized_model(\n",
                "        model,\n",
                "        valid_loader,\n",
                "        mlp_params,\n",
                "        model_name=mlp_params.MODEL_NAME,\n",
                "        shuffle=mlp_params.SHUFFLE,\n",
                "    )\n",
                "elif mlp_params.MODEL_TYPE == \"Binary_Classification\":\n",
                "    y_pred_list, y_pred_prob_list = test_optimized_model(\n",
                "        model,\n",
                "        valid_loader,\n",
                "        mlp_params,\n",
                "        model_name=mlp_params.MODEL_NAME,\n",
                "        shuffle=mlp_params.SHUFFLE,\n",
                "    )\n",
                "else:\n",
                "    raise Exception(\"Model type must be specified for proper model testing\")\n",
                "\n",
                "# un-nest list if nested i.e. length of input data does not match length of output data\n",
                "if len(y_pred_list) != len(Y_test):\n",
                "    y_pred_list = un_nest(y_pred_list)\n",
                "    y_pred_prob_list = un_nest(y_pred_prob_list)\n",
                "else:\n",
                "    pass"
            ]
        },
        {
            "cell_type": "code",
            "execution_count": 21,
            "id": "19cbbee4",
            "metadata": {
                "execution": {
                    "iopub.execute_input": "2023-08-18T18:07:29.316075Z",
                    "iopub.status.busy": "2023-08-18T18:07:29.315519Z",
                    "iopub.status.idle": "2023-08-18T18:07:29.319613Z",
                    "shell.execute_reply": "2023-08-18T18:07:29.319014Z"
                },
                "papermill": {
                    "duration": null,
                    "end_time": null,
                    "exception": null,
                    "start_time": null,
                    "status": "completed"
                },
                "tags": []
            },
            "outputs": [
                {
                    "data": {
                        "text/plain": [
                            "True"
                        ]
                    },
                    "execution_count": 21,
                    "metadata": {},
                    "output_type": "execute_result"
                }
            ],
            "source": [
                "mlp_params.SHUFFLE"
            ]
        },
        {
            "cell_type": "code",
            "execution_count": 22,
            "id": "444b8e3e",
            "metadata": {
                "execution": {
                    "iopub.execute_input": "2023-08-18T18:07:29.341721Z",
                    "iopub.status.busy": "2023-08-18T18:07:29.341405Z",
                    "iopub.status.idle": "2023-08-18T18:07:29.553197Z",
                    "shell.execute_reply": "2023-08-18T18:07:29.552613Z"
                },
                "papermill": {
                    "duration": null,
                    "end_time": null,
                    "exception": null,
                    "start_time": null,
                    "status": "completed"
                },
                "tags": []
            },
            "outputs": [
                {
                    "name": "stdout",
                    "output_type": "stream",
                    "text": [
                        "              precision    recall  f1-score   support\n",
                        "\n",
                        "           0       0.72      0.71      0.71      3081\n",
                        "           1       0.27      0.27      0.27      1186\n",
                        "\n",
                        "    accuracy                           0.59      4267\n",
                        "   macro avg       0.49      0.49      0.49      4267\n",
                        "weighted avg       0.59      0.59      0.59      4267\n",
                        "\n"
                    ]
                }
            ],
            "source": [
                "stats, recall, precision, f1, precision_, recall_, threshold_ = output_stats(\n",
                "    y_pred_list,\n",
                "    Y_val,\n",
                "    mlp_params,\n",
                "    y_pred_prob_list,\n",
                "    test_name=f\"{mlp_params.MODEL_NAME}_validation\",\n",
                "    model_name=mlp_params.MODEL_NAME,\n",
                "    title=mlp_params.MODEL_NAME,\n",
                "    shuffle=mlp_params.SHUFFLE,\n",
                ")"
            ]
        },
        {
            "cell_type": "code",
            "execution_count": 23,
            "id": "2573e7a6",
            "metadata": {
                "execution": {
                    "iopub.execute_input": "2023-08-18T18:07:29.574980Z",
                    "iopub.status.busy": "2023-08-18T18:07:29.574587Z",
                    "iopub.status.idle": "2023-08-18T18:07:29.592044Z",
                    "shell.execute_reply": "2023-08-18T18:07:29.591512Z"
                },
                "papermill": {
                    "duration": null,
                    "end_time": null,
                    "exception": null,
                    "start_time": null,
                    "status": "completed"
                },
                "tags": []
            },
            "outputs": [
                {
                    "name": "stderr",
                    "output_type": "stream",
                    "text": [
                        "/tmp/ipykernel_1708492/426878485.py:17: FutureWarning: In a future version, object-dtype columns with all-bool values will not be included in reductions with bool_only=True. Explicitly cast to bool dtype instead.\n",
                        "  model_stats_df = pd.concat([model_stats_df, stats_df], axis=0)\n"
                    ]
                }
            ],
            "source": [
                "threshold_ = np.append(threshold_, None)\n",
                "stats_df = pd.DataFrame(\n",
                "    {\n",
                "        \"PR_Threshold\": threshold_,\n",
                "        \"Precision\": precision_,\n",
                "        \"Recall\": recall_,\n",
                "    }\n",
                ")\n",
                "\n",
                "stats_df[\"treatments_tested\"] = (\n",
                "    mlp_params.CONTROL_NAME + \" vs. \" + mlp_params.TREATMENT_NAME\n",
                ")\n",
                "stats_df[\"model\"] = mlp_params.MODEL_NAME\n",
                "stats_df[\"group\"] = \"validation\"\n",
                "stats_df[\"shuffled_data\"] = mlp_params.SHUFFLE\n",
                "\n",
                "model_stats_df = pd.concat([model_stats_df, stats_df], axis=0)"
            ]
        },
        {
            "cell_type": "code",
            "execution_count": 24,
            "id": "f179b14f",
            "metadata": {
                "execution": {
                    "iopub.execute_input": "2023-08-18T18:07:29.614554Z",
                    "iopub.status.busy": "2023-08-18T18:07:29.614173Z",
                    "iopub.status.idle": "2023-08-18T18:07:29.617863Z",
                    "shell.execute_reply": "2023-08-18T18:07:29.617415Z"
                },
                "papermill": {
                    "duration": null,
                    "end_time": null,
                    "exception": null,
                    "start_time": null,
                    "status": "completed"
                },
                "tags": []
            },
            "outputs": [
                {
                    "data": {
                        "text/plain": [
                            "'DMSO_0.025_vs_LPS_100'"
                        ]
                    },
                    "execution_count": 24,
                    "metadata": {},
                    "output_type": "execute_result"
                }
            ],
            "source": [
                "mlp_params.MODEL_NAME"
            ]
        },
        {
            "cell_type": "code",
            "execution_count": 25,
            "id": "d30cef39",
            "metadata": {
                "execution": {
                    "iopub.execute_input": "2023-08-18T18:07:29.639335Z",
                    "iopub.status.busy": "2023-08-18T18:07:29.638900Z",
                    "iopub.status.idle": "2023-08-18T18:07:33.734569Z",
                    "shell.execute_reply": "2023-08-18T18:07:33.734048Z"
                },
                "papermill": {
                    "duration": null,
                    "end_time": null,
                    "exception": null,
                    "start_time": null,
                    "status": "completed"
                },
                "tags": []
            },
            "outputs": [
                {
                    "name": "stdout",
                    "output_type": "stream",
                    "text": [
                        "DMSO_0.025_vs_LPS_100_shuffle\n"
                    ]
                }
            ],
            "source": [
                "# calling the testing function and outputting list values of tested model\n",
                "if any(\n",
                "    model_type == mlp_params.MODEL_TYPE for model_type in [\"Multi_Class\", \"Regression\"]\n",
                "):\n",
                "    y_pred_list = test_optimized_model(\n",
                "        model,\n",
                "        test_loader,\n",
                "        params,\n",
                "        model_name=mlp_params.MODEL_NAME,\n",
                "        shuffle=mlp_params.SHUFFLE,\n",
                "    )\n",
                "elif mlp_params.MODEL_TYPE == \"Binary_Classification\":\n",
                "    y_pred_list, y_pred_prob_list = test_optimized_model(\n",
                "        model,\n",
                "        test_loader,\n",
                "        params,\n",
                "        model_name=mlp_params.MODEL_NAME,\n",
                "        shuffle=mlp_params.SHUFFLE,\n",
                "    )\n",
                "else:\n",
                "    raise Exception(\"Model type must be specified for proper model testing\")\n",
                "\n",
                "\n",
                "# un-nest list if nested i.e. length of input data does not match length of output data\n",
                "if len(y_pred_list) != len(Y_test):\n",
                "    y_pred_list = un_nest(y_pred_list)\n",
                "    y_pred_prob_list = un_nest(y_pred_prob_list)\n",
                "else:\n",
                "    pass"
            ]
        },
        {
            "cell_type": "code",
            "execution_count": 26,
            "id": "ba2c00bd",
            "metadata": {
                "execution": {
                    "iopub.execute_input": "2023-08-18T18:07:33.760660Z",
                    "iopub.status.busy": "2023-08-18T18:07:33.760204Z",
                    "iopub.status.idle": "2023-08-18T18:07:34.366964Z",
                    "shell.execute_reply": "2023-08-18T18:07:34.366542Z"
                },
                "papermill": {
                    "duration": null,
                    "end_time": null,
                    "exception": null,
                    "start_time": null,
                    "status": "completed"
                },
                "tags": []
            },
            "outputs": [
                {
                    "name": "stdout",
                    "output_type": "stream",
                    "text": [
                        "              precision    recall  f1-score   support\n",
                        "\n",
                        "           0       0.72      0.72      0.72      3081\n",
                        "           1       0.27      0.27      0.27      1186\n",
                        "\n",
                        "    accuracy                           0.60      4267\n",
                        "   macro avg       0.50      0.50      0.50      4267\n",
                        "weighted avg       0.60      0.60      0.60      4267\n",
                        "\n"
                    ]
                },
                {
                    "data": {
                        "image/png": "[encoded data removed]",
                        "text/plain": [
                            "<Figure size 640x480 with 2 Axes>"
                        ]
                    },
                    "metadata": {},
                    "output_type": "display_data"
                },
                {
                    "data": {
                        "image/png": "[encoded data removed]",
                        "text/plain": [
                            "<Figure size 550x400 with 1 Axes>"
                        ]
                    },
                    "metadata": {},
                    "output_type": "display_data"
                }
            ],
            "source": [
                "# Call visualization function\n",
                "# calling the testing function and outputing list values of tested model\n",
                "if any(\n",
                "    model_type == mlp_params.MODEL_TYPE for model_type in [\"Multi_Class\", \"Regression\"]\n",
                "):\n",
                "    confusion_matrix_df = results_output(\n",
                "        y_pred_list,\n",
                "        Y_test,\n",
                "        params,\n",
                "        test_name=f\"{mlp_params.MODEL_NAME}_testing\",\n",
                "        model_name=mlp_params.MODEL_NAME,\n",
                "        title=mlp_params.MODEL_NAME,\n",
                "        shuffle=mlp_params.SHUFFLE,\n",
                "    )\n",
                "elif mlp_params.MODEL_TYPE == \"Binary_Classification\":\n",
                "    results_output(\n",
                "        y_pred_list,\n",
                "        Y_test,\n",
                "        params,\n",
                "        y_pred_prob_list,\n",
                "        test_name=f\"{mlp_params.MODEL_NAME}_testing\",\n",
                "        model_name=mlp_params.MODEL_NAME,\n",
                "        title=mlp_params.MODEL_NAME,\n",
                "        shuffle=mlp_params.SHUFFLE,\n",
                "    )\n",
                "else:\n",
                "    raise Exception(\"Model type must be specified for proper model testing\")"
            ]
        },
        {
            "cell_type": "code",
            "execution_count": 27,
            "id": "6e9b9cc1",
            "metadata": {
                "execution": {
                    "iopub.execute_input": "2023-08-18T18:07:34.455389Z",
                    "iopub.status.busy": "2023-08-18T18:07:34.455037Z",
                    "iopub.status.idle": "2023-08-18T18:07:34.616814Z",
                    "shell.execute_reply": "2023-08-18T18:07:34.616373Z"
                },
                "papermill": {
                    "duration": null,
                    "end_time": null,
                    "exception": null,
                    "start_time": null,
                    "status": "completed"
                },
                "tags": []
            },
            "outputs": [
                {
                    "name": "stdout",
                    "output_type": "stream",
                    "text": [
                        "              precision    recall  f1-score   support\n",
                        "\n",
                        "           0       0.72      0.72      0.72      3081\n",
                        "           1       0.27      0.27      0.27      1186\n",
                        "\n",
                        "    accuracy                           0.60      4267\n",
                        "   macro avg       0.50      0.50      0.50      4267\n",
                        "weighted avg       0.60      0.60      0.60      4267\n",
                        "\n"
                    ]
                }
            ],
            "source": [
                "stats, recall, precision, f1, precision_, recall_, threshold_ = output_stats(\n",
                "    y_pred_list,\n",
                "    Y_test,\n",
                "    mlp_params,\n",
                "    y_pred_prob_list,\n",
                "    test_name=f\"{mlp_params.MODEL_NAME}_test\",\n",
                "    model_name=mlp_params.MODEL_NAME,\n",
                "    title=mlp_params.MODEL_NAME,\n",
                "    shuffle=mlp_params.SHUFFLE,\n",
                ")"
            ]
        },
        {
            "cell_type": "code",
            "execution_count": 28,
            "id": "5e49a4d0",
            "metadata": {
                "execution": {
                    "iopub.execute_input": "2023-08-18T18:07:34.640121Z",
                    "iopub.status.busy": "2023-08-18T18:07:34.639772Z",
                    "iopub.status.idle": "2023-08-18T18:07:34.649248Z",
                    "shell.execute_reply": "2023-08-18T18:07:34.648773Z"
                },
                "papermill": {
                    "duration": null,
                    "end_time": null,
                    "exception": null,
                    "start_time": null,
                    "status": "completed"
                },
                "tags": []
            },
            "outputs": [
                {
                    "name": "stderr",
                    "output_type": "stream",
                    "text": [
                        "/tmp/ipykernel_1708492/3173912586.py:17: FutureWarning: In a future version, object-dtype columns with all-bool values will not be included in reductions with bool_only=True. Explicitly cast to bool dtype instead.\n",
                        "  model_stats_df = pd.concat([model_stats_df, stats_df], axis=0)\n"
                    ]
                }
            ],
            "source": [
                "threshold_ = np.append(threshold_, None)\n",
                "stats_df = pd.DataFrame(\n",
                "    {\n",
                "        \"PR_Threshold\": threshold_,\n",
                "        \"Precision\": precision_,\n",
                "        \"Recall\": recall_,\n",
                "    }\n",
                ")\n",
                "\n",
                "stats_df[\"treatments_tested\"] = (\n",
                "    mlp_params.CONTROL_NAME + \" vs. \" + mlp_params.TREATMENT_NAME\n",
                ")\n",
                "stats_df[\"model\"] = mlp_params.MODEL_NAME\n",
                "stats_df[\"group\"] = \"test\"\n",
                "stats_df[\"shuffled_data\"] = mlp_params.SHUFFLE\n",
                "\n",
                "model_stats_df = pd.concat([model_stats_df, stats_df], axis=0)"
            ]
        },
        {
            "cell_type": "markdown",
            "id": "bd07fbb7",
            "metadata": {
                "papermill": {
                    "duration": null,
                    "end_time": null,
                    "exception": null,
                    "start_time": null,
                    "status": "completed"
                },
                "tags": []
            },
            "source": [
                "## Test the hold out wells"
            ]
        },
        {
            "cell_type": "code",
            "execution_count": 29,
            "id": "139582e1",
            "metadata": {
                "execution": {
                    "iopub.execute_input": "2023-08-18T18:07:34.694651Z",
                    "iopub.status.busy": "2023-08-18T18:07:34.694350Z",
                    "iopub.status.idle": "2023-08-18T18:07:34.779648Z",
                    "shell.execute_reply": "2023-08-18T18:07:34.779129Z"
                },
                "papermill": {
                    "duration": null,
                    "end_time": null,
                    "exception": null,
                    "start_time": null,
                    "status": "completed"
                },
                "tags": []
            },
            "outputs": [],
            "source": [
                "# Code snippet for metadata extraction by Jenna Tomkinson\n",
                "df_metadata = list(df_holdout.columns[df_holdout.columns.str.startswith(\"Metadata\")])\n",
                "\n",
                "# define which columns are data and which are descriptive\n",
                "df_descriptive = df_holdout[df_metadata]\n",
                "df_values = df_holdout.drop(columns=df_metadata)"
            ]
        },
        {
            "cell_type": "code",
            "execution_count": 30,
            "id": "b6b929e3",
            "metadata": {
                "execution": {
                    "iopub.execute_input": "2023-08-18T18:07:34.804466Z",
                    "iopub.status.busy": "2023-08-18T18:07:34.804090Z",
                    "iopub.status.idle": "2023-08-18T18:07:34.889292Z",
                    "shell.execute_reply": "2023-08-18T18:07:34.888790Z"
                },
                "papermill": {
                    "duration": null,
                    "end_time": null,
                    "exception": null,
                    "start_time": null,
                    "status": "completed"
                },
                "tags": []
            },
            "outputs": [],
            "source": [
                "# Creating label encoder\n",
                "le = preprocessing.LabelEncoder()\n",
                "# Converting strings into numbers\n",
                "df_values[\"oneb_Metadata_Treatment_Dose_Inhibitor_Dose\"] = le.fit_transform(\n",
                "    df_values[\"oneb_Metadata_Treatment_Dose_Inhibitor_Dose\"]\n",
                ")\n",
                "# split into X and Y where Y are the predictive column and x are the observable data\n",
                "df_values_X = df_values.drop(\n",
                "    [\n",
                "        \"oneb_Metadata_Treatment_Dose_Inhibitor_Dose\",\n",
                "        \"twob_Metadata_Treatment_Dose_Inhibitor_Dose\",\n",
                "        \"threeb_Metadata_Treatment_Dose_Inhibitor_Dose\",\n",
                "        \"fourb_Metadata_Treatment_Dose_Inhibitor_Dose\",\n",
                "    ],\n",
                "    axis=1,\n",
                ")\n",
                "df_values_Y = df_values[\"oneb_Metadata_Treatment_Dose_Inhibitor_Dose\"]"
            ]
        },
        {
            "cell_type": "code",
            "execution_count": 31,
            "id": "3c45de2b",
            "metadata": {
                "execution": {
                    "iopub.execute_input": "2023-08-18T18:07:34.913932Z",
                    "iopub.status.busy": "2023-08-18T18:07:34.913660Z",
                    "iopub.status.idle": "2023-08-18T18:07:44.681233Z",
                    "shell.execute_reply": "2023-08-18T18:07:44.680781Z"
                },
                "papermill": {
                    "duration": null,
                    "end_time": null,
                    "exception": null,
                    "start_time": null,
                    "status": "completed"
                },
                "tags": []
            },
            "outputs": [
                {
                    "name": "stdout",
                    "output_type": "stream",
                    "text": [
                        "DMSO_0.025_vs_LPS_100_shuffle\n",
                        "              precision    recall  f1-score   support\n",
                        "\n",
                        "           0       0.53      0.58      0.55      4837\n",
                        "           1       0.45      0.40      0.42      4126\n",
                        "\n",
                        "    accuracy                           0.50      8963\n",
                        "   macro avg       0.49      0.49      0.49      8963\n",
                        "weighted avg       0.49      0.50      0.49      8963\n",
                        "\n"
                    ]
                },
                {
                    "data": {
                        "image/png": "[encoded data removed]",
                        "text/plain": [
                            "<Figure size 640x480 with 2 Axes>"
                        ]
                    },
                    "metadata": {},
                    "output_type": "display_data"
                },
                {
                    "data": {
                        "image/png": "[encoded data removed]",
                        "text/plain": [
                            "<Figure size 550x400 with 1 Axes>"
                        ]
                    },
                    "metadata": {},
                    "output_type": "display_data"
                }
            ],
            "source": [
                "test_data = Dataset_formatter(\n",
                "    torch.FloatTensor(df_values_X.values), torch.FloatTensor(df_values_Y.values)\n",
                ")\n",
                "\n",
                "# convert data class into a dataloader to be compatible with pytorch\n",
                "test_loader = torch.utils.data.DataLoader(\n",
                "    dataset=test_data, batch_size=1, shuffle=mlp_params.SHUFFLE\n",
                ")\n",
                "\n",
                "# calling the testing function and outputting list values of tested model\n",
                "if any(\n",
                "    model_type == mlp_params.MODEL_TYPE for model_type in [\"Multi_Class\", \"Regression\"]\n",
                "):\n",
                "    y_pred_list = test_optimized_model(\n",
                "        model,\n",
                "        test_loader,\n",
                "        params,\n",
                "        model_name=mlp_params.MODEL_NAME,\n",
                "        shuffle=mlp_params.SHUFFLE,\n",
                "    )\n",
                "elif mlp_params.MODEL_TYPE == \"Binary_Classification\":\n",
                "    y_pred_list, y_pred_prob_list = test_optimized_model(\n",
                "        model,\n",
                "        test_loader,\n",
                "        params,\n",
                "        model_name=mlp_params.MODEL_NAME,\n",
                "        shuffle=mlp_params.SHUFFLE,\n",
                "    )\n",
                "else:\n",
                "    raise Exception(\"Model type must be specified for proper model testing\")\n",
                "\n",
                "# un-nest list if nested i.e. length of input data does not match length of output data\n",
                "if len(y_pred_list) != len(df_values_Y):\n",
                "    y_pred_list = un_nest(y_pred_list)\n",
                "    y_pred_prob_list = un_nest(y_pred_prob_list)\n",
                "else:\n",
                "    pass\n",
                "\n",
                "# Call visualization function\n",
                "# calling the testing function and outputing list values of tested model\n",
                "if any(\n",
                "    model_type == mlp_params.MODEL_TYPE for model_type in [\"Multi_Class\", \"Regression\"]\n",
                "):\n",
                "    confusion_matrix_df = results_output(\n",
                "        y_pred_list,\n",
                "        df_values_Y,\n",
                "        params,\n",
                "        test_name=f\"{mlp_params.MODEL_NAME}_hold_out\",\n",
                "        model_name=mlp_params.MODEL_NAME,\n",
                "        title=mlp_params.MODEL_NAME,\n",
                "        shuffle=mlp_params.SHUFFLE,\n",
                "    )\n",
                "elif mlp_params.MODEL_TYPE == \"Binary_Classification\":\n",
                "    results_output(\n",
                "        y_pred_list,\n",
                "        df_values_Y,\n",
                "        params,\n",
                "        y_pred_prob_list,\n",
                "        test_name=f\"{mlp_params.MODEL_NAME}_hold_out\",\n",
                "        model_name=mlp_params.MODEL_NAME,\n",
                "        title=mlp_params.MODEL_NAME,\n",
                "        shuffle=mlp_params.SHUFFLE,\n",
                "    )\n",
                "else:\n",
                "    raise Exception(\"Model type must be specified for proper model testing\")"
            ]
        },
        {
            "cell_type": "code",
            "execution_count": 32,
            "id": "d9c38144",
            "metadata": {
                "execution": {
                    "iopub.execute_input": "2023-08-18T18:07:44.709508Z",
                    "iopub.status.busy": "2023-08-18T18:07:44.709067Z",
                    "iopub.status.idle": "2023-08-18T18:07:45.015420Z",
                    "shell.execute_reply": "2023-08-18T18:07:45.014993Z"
                },
                "papermill": {
                    "duration": null,
                    "end_time": null,
                    "exception": null,
                    "start_time": null,
                    "status": "completed"
                },
                "tags": []
            },
            "outputs": [
                {
                    "name": "stdout",
                    "output_type": "stream",
                    "text": [
                        "              precision    recall  f1-score   support\n",
                        "\n",
                        "           0       0.53      0.58      0.55      4837\n",
                        "           1       0.45      0.40      0.42      4126\n",
                        "\n",
                        "    accuracy                           0.50      8963\n",
                        "   macro avg       0.49      0.49      0.49      8963\n",
                        "weighted avg       0.49      0.50      0.49      8963\n",
                        "\n"
                    ]
                }
            ],
            "source": [
                "stats, recall, precision, f1, precision_, recall_, threshold_ = output_stats(\n",
                "    y_pred_list,\n",
                "    df_values_Y,\n",
                "    mlp_params,\n",
                "    y_pred_prob_list,\n",
                "    test_name=f\"{mlp_params.MODEL_NAME}_hold_out\",\n",
                "    model_name=mlp_params.MODEL_NAME,\n",
                "    title=mlp_params.MODEL_NAME,\n",
                "    shuffle=mlp_params.SHUFFLE,\n",
                ")"
            ]
        },
        {
            "cell_type": "code",
            "execution_count": 33,
            "id": "61319294",
            "metadata": {
                "execution": {
                    "iopub.execute_input": "2023-08-18T18:07:45.041316Z",
                    "iopub.status.busy": "2023-08-18T18:07:45.041043Z",
                    "iopub.status.idle": "2023-08-18T18:07:45.052677Z",
                    "shell.execute_reply": "2023-08-18T18:07:45.052239Z"
                },
                "papermill": {
                    "duration": null,
                    "end_time": null,
                    "exception": null,
                    "start_time": null,
                    "status": "completed"
                },
                "tags": []
            },
            "outputs": [
                {
                    "name": "stderr",
                    "output_type": "stream",
                    "text": [
                        "/tmp/ipykernel_1708492/1425043378.py:17: FutureWarning: In a future version, object-dtype columns with all-bool values will not be included in reductions with bool_only=True. Explicitly cast to bool dtype instead.\n",
                        "  model_stats_df = pd.concat([model_stats_df, stats_df], axis=0)\n"
                    ]
                }
            ],
            "source": [
                "threshold_ = np.append(threshold_, None)\n",
                "stats_df = pd.DataFrame(\n",
                "    {\n",
                "        \"PR_Threshold\": threshold_,\n",
                "        \"Precision\": precision_,\n",
                "        \"Recall\": recall_,\n",
                "    }\n",
                ")\n",
                "\n",
                "stats_df[\"treatments_tested\"] = (\n",
                "    mlp_params.CONTROL_NAME + \" vs. \" + mlp_params.TREATMENT_NAME\n",
                ")\n",
                "stats_df[\"model\"] = mlp_params.MODEL_NAME\n",
                "stats_df[\"group\"] = \"holdout\"\n",
                "stats_df[\"shuffled_data\"] = mlp_params.SHUFFLE\n",
                "\n",
                "model_stats_df = pd.concat([model_stats_df, stats_df], axis=0)"
            ]
        },
        {
            "cell_type": "code",
            "execution_count": 34,
            "id": "c9468255",
            "metadata": {
                "execution": {
                    "iopub.execute_input": "2023-08-18T18:07:45.078193Z",
                    "iopub.status.busy": "2023-08-18T18:07:45.077931Z",
                    "iopub.status.idle": "2023-08-18T18:07:45.086536Z",
                    "shell.execute_reply": "2023-08-18T18:07:45.086137Z"
                },
                "papermill": {
                    "duration": null,
                    "end_time": null,
                    "exception": null,
                    "start_time": null,
                    "status": "completed"
                },
                "tags": []
            },
            "outputs": [
                {
                    "data": {
                        "text/html": [
                            "<div>\n",
                            "<style scoped>\n",
                            "    .dataframe tbody tr th:only-of-type {\n",
                            "        vertical-align: middle;\n",
                            "    }\n",
                            "\n",
                            "    .dataframe tbody tr th {\n",
                            "        vertical-align: top;\n",
                            "    }\n",
                            "\n",
                            "    .dataframe thead th {\n",
                            "        text-align: right;\n",
                            "    }\n",
                            "</style>\n",
                            "<table border=\"1\" class=\"dataframe\">\n",
                            "  <thead>\n",
                            "    <tr style=\"text-align: right;\">\n",
                            "      <th></th>\n",
                            "      <th>treatments_tested</th>\n",
                            "      <th>model</th>\n",
                            "      <th>group</th>\n",
                            "      <th>shuffled_data</th>\n",
                            "      <th>PR_Threshold</th>\n",
                            "      <th>Precision</th>\n",
                            "      <th>Recall</th>\n",
                            "    </tr>\n",
                            "  </thead>\n",
                            "  <tbody>\n",
                            "    <tr>\n",
                            "      <th>0</th>\n",
                            "      <td>DMSO_0.100_%_DMSO_0.025_% vs. LPS_100.000_ug_p...</td>\n",
                            "      <td>DMSO_0.025_vs_LPS_100</td>\n",
                            "      <td>train</td>\n",
                            "      <td>True</td>\n",
                            "      <td>0.0</td>\n",
                            "      <td>0.278001</td>\n",
                            "      <td>1.000000</td>\n",
                            "    </tr>\n",
                            "    <tr>\n",
                            "      <th>1</th>\n",
                            "      <td>DMSO_0.100_%_DMSO_0.025_% vs. LPS_100.000_ug_p...</td>\n",
                            "      <td>DMSO_0.025_vs_LPS_100</td>\n",
                            "      <td>train</td>\n",
                            "      <td>True</td>\n",
                            "      <td>0.0</td>\n",
                            "      <td>0.278009</td>\n",
                            "      <td>1.000000</td>\n",
                            "    </tr>\n",
                            "    <tr>\n",
                            "      <th>2</th>\n",
                            "      <td>DMSO_0.100_%_DMSO_0.025_% vs. LPS_100.000_ug_p...</td>\n",
                            "      <td>DMSO_0.025_vs_LPS_100</td>\n",
                            "      <td>train</td>\n",
                            "      <td>True</td>\n",
                            "      <td>0.0</td>\n",
                            "      <td>0.278017</td>\n",
                            "      <td>1.000000</td>\n",
                            "    </tr>\n",
                            "    <tr>\n",
                            "      <th>3</th>\n",
                            "      <td>DMSO_0.100_%_DMSO_0.025_% vs. LPS_100.000_ug_p...</td>\n",
                            "      <td>DMSO_0.025_vs_LPS_100</td>\n",
                            "      <td>train</td>\n",
                            "      <td>True</td>\n",
                            "      <td>0.0</td>\n",
                            "      <td>0.278025</td>\n",
                            "      <td>1.000000</td>\n",
                            "    </tr>\n",
                            "    <tr>\n",
                            "      <th>4</th>\n",
                            "      <td>DMSO_0.100_%_DMSO_0.025_% vs. LPS_100.000_ug_p...</td>\n",
                            "      <td>DMSO_0.025_vs_LPS_100</td>\n",
                            "      <td>train</td>\n",
                            "      <td>True</td>\n",
                            "      <td>0.0</td>\n",
                            "      <td>0.278033</td>\n",
                            "      <td>1.000000</td>\n",
                            "    </tr>\n",
                            "    <tr>\n",
                            "      <th>...</th>\n",
                            "      <td>...</td>\n",
                            "      <td>...</td>\n",
                            "      <td>...</td>\n",
                            "      <td>...</td>\n",
                            "      <td>...</td>\n",
                            "      <td>...</td>\n",
                            "      <td>...</td>\n",
                            "    </tr>\n",
                            "    <tr>\n",
                            "      <th>8844</th>\n",
                            "      <td>DMSO_0.100_%_DMSO_0.025_% vs. LPS_100.000_ug_p...</td>\n",
                            "      <td>DMSO_0.025_vs_LPS_100</td>\n",
                            "      <td>holdout</td>\n",
                            "      <td>True</td>\n",
                            "      <td>1.0</td>\n",
                            "      <td>0.700000</td>\n",
                            "      <td>0.001697</td>\n",
                            "    </tr>\n",
                            "    <tr>\n",
                            "      <th>8845</th>\n",
                            "      <td>DMSO_0.100_%_DMSO_0.025_% vs. LPS_100.000_ug_p...</td>\n",
                            "      <td>DMSO_0.025_vs_LPS_100</td>\n",
                            "      <td>holdout</td>\n",
                            "      <td>True</td>\n",
                            "      <td>1.0</td>\n",
                            "      <td>0.666667</td>\n",
                            "      <td>0.001454</td>\n",
                            "    </tr>\n",
                            "    <tr>\n",
                            "      <th>8846</th>\n",
                            "      <td>DMSO_0.100_%_DMSO_0.025_% vs. LPS_100.000_ug_p...</td>\n",
                            "      <td>DMSO_0.025_vs_LPS_100</td>\n",
                            "      <td>holdout</td>\n",
                            "      <td>True</td>\n",
                            "      <td>1.0</td>\n",
                            "      <td>0.714286</td>\n",
                            "      <td>0.001212</td>\n",
                            "    </tr>\n",
                            "    <tr>\n",
                            "      <th>8847</th>\n",
                            "      <td>DMSO_0.100_%_DMSO_0.025_% vs. LPS_100.000_ug_p...</td>\n",
                            "      <td>DMSO_0.025_vs_LPS_100</td>\n",
                            "      <td>holdout</td>\n",
                            "      <td>True</td>\n",
                            "      <td>1.0</td>\n",
                            "      <td>0.833333</td>\n",
                            "      <td>0.001212</td>\n",
                            "    </tr>\n",
                            "    <tr>\n",
                            "      <th>8848</th>\n",
                            "      <td>DMSO_0.100_%_DMSO_0.025_% vs. LPS_100.000_ug_p...</td>\n",
                            "      <td>DMSO_0.025_vs_LPS_100</td>\n",
                            "      <td>holdout</td>\n",
                            "      <td>True</td>\n",
                            "      <td>None</td>\n",
                            "      <td>1.000000</td>\n",
                            "      <td>0.000000</td>\n",
                            "    </tr>\n",
                            "  </tbody>\n",
                            "</table>\n",
                            "<p>50488 rows \u00d7 7 columns</p>\n",
                            "</div>"
                        ],
                        "text/plain": [
                            "                                      treatments_tested  \\\n",
                            "0     DMSO_0.100_%_DMSO_0.025_% vs. LPS_100.000_ug_p...   \n",
                            "1     DMSO_0.100_%_DMSO_0.025_% vs. LPS_100.000_ug_p...   \n",
                            "2     DMSO_0.100_%_DMSO_0.025_% vs. LPS_100.000_ug_p...   \n",
                            "3     DMSO_0.100_%_DMSO_0.025_% vs. LPS_100.000_ug_p...   \n",
                            "4     DMSO_0.100_%_DMSO_0.025_% vs. LPS_100.000_ug_p...   \n",
                            "...                                                 ...   \n",
                            "8844  DMSO_0.100_%_DMSO_0.025_% vs. LPS_100.000_ug_p...   \n",
                            "8845  DMSO_0.100_%_DMSO_0.025_% vs. LPS_100.000_ug_p...   \n",
                            "8846  DMSO_0.100_%_DMSO_0.025_% vs. LPS_100.000_ug_p...   \n",
                            "8847  DMSO_0.100_%_DMSO_0.025_% vs. LPS_100.000_ug_p...   \n",
                            "8848  DMSO_0.100_%_DMSO_0.025_% vs. LPS_100.000_ug_p...   \n",
                            "\n",
                            "                      model    group shuffled_data PR_Threshold  Precision  \\\n",
                            "0     DMSO_0.025_vs_LPS_100    train          True          0.0   0.278001   \n",
                            "1     DMSO_0.025_vs_LPS_100    train          True          0.0   0.278009   \n",
                            "2     DMSO_0.025_vs_LPS_100    train          True          0.0   0.278017   \n",
                            "3     DMSO_0.025_vs_LPS_100    train          True          0.0   0.278025   \n",
                            "4     DMSO_0.025_vs_LPS_100    train          True          0.0   0.278033   \n",
                            "...                     ...      ...           ...          ...        ...   \n",
                            "8844  DMSO_0.025_vs_LPS_100  holdout          True          1.0   0.700000   \n",
                            "8845  DMSO_0.025_vs_LPS_100  holdout          True          1.0   0.666667   \n",
                            "8846  DMSO_0.025_vs_LPS_100  holdout          True          1.0   0.714286   \n",
                            "8847  DMSO_0.025_vs_LPS_100  holdout          True          1.0   0.833333   \n",
                            "8848  DMSO_0.025_vs_LPS_100  holdout          True         None   1.000000   \n",
                            "\n",
                            "        Recall  \n",
                            "0     1.000000  \n",
                            "1     1.000000  \n",
                            "2     1.000000  \n",
                            "3     1.000000  \n",
                            "4     1.000000  \n",
                            "...        ...  \n",
                            "8844  0.001697  \n",
                            "8845  0.001454  \n",
                            "8846  0.001212  \n",
                            "8847  0.001212  \n",
                            "8848  0.000000  \n",
                            "\n",
                            "[50488 rows x 7 columns]"
                        ]
                    },
                    "execution_count": 34,
                    "metadata": {},
                    "output_type": "execute_result"
                }
            ],
            "source": [
                "model_stats_df"
            ]
        },
        {
            "cell_type": "code",
            "execution_count": 35,
            "id": "e1e4b224",
            "metadata": {
                "execution": {
                    "iopub.execute_input": "2023-08-18T18:07:45.112412Z",
                    "iopub.status.busy": "2023-08-18T18:07:45.112158Z",
                    "iopub.status.idle": "2023-08-18T18:07:48.147873Z",
                    "shell.execute_reply": "2023-08-18T18:07:48.147334Z"
                },
                "papermill": {
                    "duration": null,
                    "end_time": null,
                    "exception": null,
                    "start_time": null,
                    "status": "completed"
                },
                "tags": []
            },
            "outputs": [
                {
                    "name": "stderr",
                    "output_type": "stream",
                    "text": [
                        "/tmp/ipykernel_1708492/4008283182.py:15: FutureWarning: In a future version, object-dtype columns with all-bool values will not be included in reductions with bool_only=True. Explicitly cast to bool dtype instead.\n",
                        "  metrics_df = pd.concat([metrics_df, model_stats_df], axis=0)\n"
                    ]
                }
            ],
            "source": [
                "# set path for the model training metrics\n",
                "metrics_path = pathlib.Path(\n",
                "    f\"../../results/{mlp_params.MODEL_TYPE}/{mlp_params.MODEL_NAME}/{mlp_params.CELL_TYPE}\"\n",
                ")\n",
                "metrics_path.mkdir(parents=True, exist_ok=True)\n",
                "# check if the model training metrics file exists\n",
                "metrics_file = pathlib.Path(f\"{metrics_path}/training_metrics.csv\")\n",
                "if metrics_file.exists():\n",
                "    metrics_df = pd.read_csv(metrics_file)\n",
                "    if len(metrics_df[\"shuffled_data\"].unique()) > 1:\n",
                "        pass\n",
                "    elif metrics_df[\"shuffled_data\"].unique() == mlp_params.SHUFFLE:\n",
                "        pass\n",
                "    else:\n",
                "        metrics_df = pd.concat([metrics_df, model_stats_df], axis=0)\n",
                "        metrics_df.to_csv(metrics_file, index=False)\n",
                "else:\n",
                "    model_stats_df.to_csv(metrics_file, index=False)"
            ]
        }
    ],
    "metadata": {
        "kernelspec": {
            "display_name": "Interstellar",
            "language": "python",
            "name": "python3"
        },
        "language_info": {
            "codemirror_mode": {
                "name": "ipython",
                "version": 3
            },
            "file_extension": ".py",
            "mimetype": "text/x-python",
            "name": "python",
            "nbconvert_exporter": "python",
            "pygments_lexer": "ipython3",
            "version": "3.10.12"
        },
        "papermill": {
            "default_parameters": {},
            "duration": 13.889414,
            "end_time": "2023-10-18T18:22:08.538383",
            "environment_variables": {},
            "exception": null,
            "input_path": "train_binary_model.ipynb",
            "output_path": "train_binary_model.ipynb",
            "parameters": {
                "CELL_TYPE": "SHSY5Y",
                "CONTROL_NAME": "DMSO_0.100_%_DMSO_0.025_%",
                "MODEL_NAME": "DMSO_0.025_vs_LPS_100",
                "SHUFFLE": true,
                "TREATMENT_NAME": "LPS_100.000_ug_per_ml_DMSO_0.025_%"
            },
            "start_time": "2023-10-18T18:21:54.648969",
            "version": "2.4.0"
        }
    },
    "nbformat": 4,
    "nbformat_minor": 5
}
