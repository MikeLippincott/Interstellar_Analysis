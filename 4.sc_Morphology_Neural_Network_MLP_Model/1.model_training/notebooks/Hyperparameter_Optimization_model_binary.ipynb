{
 "cells": [
  {
   "attachments": {},
   "cell_type": "markdown",
   "id": "8e60628c",
   "metadata": {
    "papermill": {
     "duration": 0.005982,
     "end_time": "2023-08-06T05:27:58.825812",
     "exception": false,
     "start_time": "2023-08-06T05:27:58.819830",
     "status": "completed"
    },
    "tags": []
   },
   "source": [
    "## Hyperparameter tuning via Optuna"
   ]
  },
  {
   "cell_type": "markdown",
   "id": "8fac71a5",
   "metadata": {
    "papermill": {
     "duration": 0.004575,
     "end_time": "2023-08-06T05:27:58.835211",
     "exception": false,
     "start_time": "2023-08-06T05:27:58.830636",
     "status": "completed"
    },
    "tags": []
   },
   "source": [
    "### Being a binary model this notebook will be limited to predicting one class 1 or 0, yes or no.\n",
    "### Here I will be predicting if a cell received a treatment or not"
   ]
  },
  {
   "cell_type": "code",
   "execution_count": 1,
   "id": "860a61dd",
   "metadata": {
    "execution": {
     "iopub.execute_input": "2023-08-06T05:27:58.845086Z",
     "iopub.status.busy": "2023-08-06T05:27:58.844836Z",
     "iopub.status.idle": "2023-08-06T05:28:02.521728Z",
     "shell.execute_reply": "2023-08-06T05:28:02.521237Z"
    },
    "papermill": {
     "duration": 3.683586,
     "end_time": "2023-08-06T05:28:02.523336",
     "exception": false,
     "start_time": "2023-08-06T05:27:58.839750",
     "status": "completed"
    },
    "tags": []
   },
   "outputs": [],
   "source": [
    "import pathlib\n",
    "import sys\n",
    "\n",
    "import numpy as np\n",
    "import optuna\n",
    "import pandas as pd\n",
    "import pyarrow.parquet as pq\n",
    "import toml\n",
    "import torch\n",
    "from sklearn import preprocessing\n",
    "\n",
    "sys.path.append(\"../..\")\n",
    "\n",
    "from MLP_utils.parameters import Parameters\n",
    "from MLP_utils.utils import (\n",
    "    Dataset_formatter,\n",
    "    data_split,\n",
    "    extract_best_trial_params,\n",
    "    objective_model_optimizer,\n",
    "    parameter_set,\n",
    "    plot_metric_vs_epoch,\n",
    "    results_output,\n",
    "    test_optimized_model,\n",
    "    train_optimized_model,\n",
    "    un_nest,\n",
    ")\n",
    "\n",
    "sys.path.append(\"../../..\")\n",
    "from utils.utils import df_stats"
   ]
  },
  {
   "cell_type": "markdown",
   "id": "edca0d0e",
   "metadata": {},
   "source": [
    "## Papermill is used for executing notebooks in the CLI with multiple parameters\n",
    "Here the `injected-parameters` cell is used to inject parameters into the notebook via papermill.\n",
    "This enables multiple notebooks to be executed with different parameters, preventing to manually update parameters or have multiple copies of the notebook."
   ]
  },
  {
   "cell_type": "code",
   "execution_count": 2,
   "id": "335858ee",
   "metadata": {
    "execution": {
     "iopub.execute_input": "2023-08-06T05:28:02.534866Z",
     "iopub.status.busy": "2023-08-06T05:28:02.534438Z",
     "iopub.status.idle": "2023-08-06T05:28:02.537108Z",
     "shell.execute_reply": "2023-08-06T05:28:02.536711Z"
    },
    "papermill": {
     "duration": 0.008924,
     "end_time": "2023-08-06T05:28:02.538051",
     "exception": false,
     "start_time": "2023-08-06T05:28:02.529127",
     "status": "completed"
    },
    "tags": [
     "injected-parameters"
    ]
   },
   "outputs": [],
   "source": [
    "# Parameters\n",
    "CELL_TYPE = \"SHSY5Y\"\n",
    "CONTROL_NAME = \"DMSO_0.100_DMSO_0.025\"\n",
    "TREATMENT_NAME = \"LPS_100.000_DMSO_0.025\"\n",
    "MODEL_NAME = \"DMSO_0.025_vs_LPS_100\"\n",
    "SHUFFLE = True"
   ]
  },
  {
   "cell_type": "code",
   "execution_count": 3,
   "id": "394294ce",
   "metadata": {
    "execution": {
     "iopub.execute_input": "2023-08-06T05:28:02.547989Z",
     "iopub.status.busy": "2023-08-06T05:28:02.547719Z",
     "iopub.status.idle": "2023-08-06T05:28:02.551051Z",
     "shell.execute_reply": "2023-08-06T05:28:02.550682Z"
    },
    "papermill": {
     "duration": 0.009353,
     "end_time": "2023-08-06T05:28:02.551968",
     "exception": false,
     "start_time": "2023-08-06T05:28:02.542615",
     "status": "completed"
    },
    "tags": []
   },
   "outputs": [],
   "source": [
    "ml_configs_file = pathlib.Path(\"../../MLP_utils/binary_config.toml\").resolve(\n",
    "    strict=True\n",
    ")\n",
    "ml_configs = toml.load(ml_configs_file)\n",
    "params = Parameters()\n",
    "mlp_params = parameter_set(params, ml_configs)\n",
    "\n",
    "# overwrite params via command line arguments from papermill\n",
    "mlp_params.CELL_TYPE = CELL_TYPE\n",
    "mlp_params.MODEL_NAME = MODEL_NAME\n",
    "mlp_params.CONTROL_NAME = CONTROL_NAME\n",
    "mlp_params.TREATMENT_NAME = TREATMENT_NAME\n",
    "mlp_params.MODEL_NAME = MODEL_NAME\n",
    "mlp_params.SHUFFLE = SHUFFLE"
   ]
  },
  {
   "cell_type": "code",
   "execution_count": 4,
   "id": "44baa945",
   "metadata": {
    "execution": {
     "iopub.execute_input": "2023-08-06T05:28:02.561876Z",
     "iopub.status.busy": "2023-08-06T05:28:02.561531Z",
     "iopub.status.idle": "2023-08-06T05:29:29.197385Z",
     "shell.execute_reply": "2023-08-06T05:29:29.196845Z"
    },
    "papermill": {
     "duration": 86.642544,
     "end_time": "2023-08-06T05:29:29.199014",
     "exception": false,
     "start_time": "2023-08-06T05:28:02.556470",
     "status": "completed"
    },
    "tags": []
   },
   "outputs": [],
   "source": [
    "# Import Data\n",
    "# set data file path under pathlib path for multi-system use\n",
    "\n",
    "file_path = pathlib.Path(\n",
    "    f\"../../../data/{mlp_params.CELL_TYPE}_preprocessed_sc_norm.parquet\"\n",
    ").resolve(strict=True)\n",
    "\n",
    "df = pq.read_table(file_path).to_pandas()"
   ]
  },
  {
   "attachments": {},
   "cell_type": "markdown",
   "id": "5c486e00",
   "metadata": {
    "papermill": {
     "duration": 0.00506,
     "end_time": "2023-08-06T05:29:29.225245",
     "exception": false,
     "start_time": "2023-08-06T05:29:29.220185",
     "status": "completed"
    },
    "tags": []
   },
   "source": [
    "#### Set up Data to be compatible with model"
   ]
  },
  {
   "attachments": {},
   "cell_type": "markdown",
   "id": "95754baa",
   "metadata": {
    "papermill": {
     "duration": 0.004738,
     "end_time": "2023-08-06T05:29:29.234468",
     "exception": false,
     "start_time": "2023-08-06T05:29:29.229730",
     "status": "completed"
    },
    "tags": []
   },
   "source": [
    "##### Classification Models:\n",
    "Comment out code if using regression"
   ]
  },
  {
   "cell_type": "code",
   "execution_count": 5,
   "id": "b6ea8ac9",
   "metadata": {
    "execution": {
     "iopub.execute_input": "2023-08-06T05:29:29.244568Z",
     "iopub.status.busy": "2023-08-06T05:29:29.244133Z",
     "iopub.status.idle": "2023-08-06T05:29:30.577193Z",
     "shell.execute_reply": "2023-08-06T05:29:30.576719Z"
    },
    "papermill": {
     "duration": 1.339321,
     "end_time": "2023-08-06T05:29:30.578198",
     "exception": false,
     "start_time": "2023-08-06T05:29:29.238877",
     "status": "completed"
    },
    "tags": []
   },
   "outputs": [
    {
     "name": "stdout",
     "output_type": "stream",
     "text": [
      "Selected Catagories are:\n",
      "['DMSO_0.100_DMSO_0.025' 'LPS_100.000_DMSO_0.025']\n",
      "The dimensions of the data are: (51630, 1276)\n",
      "Number of total missing values across all columns: 103260\n",
      "Data Subset Is Off\n"
     ]
    }
   ],
   "source": [
    "# filter the oneb_Metadata_Treatment_Dose_Inhibitor_Dose column to only include the treatment and control via loc\n",
    "df = df.loc[\n",
    "    df[\"oneb_Metadata_Treatment_Dose_Inhibitor_Dose\"].isin(\n",
    "        [mlp_params.TREATMENT_NAME, mlp_params.CONTROL_NAME]\n",
    "    )\n",
    "]\n",
    "\n",
    "\n",
    "print(\"Selected Catagories are:\")\n",
    "print(df[\"oneb_Metadata_Treatment_Dose_Inhibitor_Dose\"].unique())\n",
    "df_stats(df)\n",
    "\n",
    "if mlp_params.DATA_SUBSET_OPTION == \"True\":\n",
    "    df = df.sample(n=mlp_params.DATA_SUBSET_NUMBER)\n",
    "    print(\"Data Subset Is On\")\n",
    "    print(f\"Data is subset to {mlp_params.DATA_SUBSET_NUMBER}\")\n",
    "else:\n",
    "    print(\"Data Subset Is Off\")"
   ]
  },
  {
   "cell_type": "code",
   "execution_count": 6,
   "id": "088cff07",
   "metadata": {
    "execution": {
     "iopub.execute_input": "2023-08-06T05:29:30.589393Z",
     "iopub.status.busy": "2023-08-06T05:29:30.589080Z",
     "iopub.status.idle": "2023-08-06T05:29:33.905664Z",
     "shell.execute_reply": "2023-08-06T05:29:33.905176Z"
    },
    "papermill": {
     "duration": 3.323065,
     "end_time": "2023-08-06T05:29:33.906617",
     "exception": false,
     "start_time": "2023-08-06T05:29:30.583552",
     "status": "completed"
    },
    "tags": []
   },
   "outputs": [
    {
     "name": "stdout",
     "output_type": "stream",
     "text": [
      "Wells held out for testing: ['I14' 'J21']\n",
      "Wells to use for training, validation, and testing ['B14' 'C14' 'B15' 'C15' 'J14' 'I15' 'J15' 'J16' 'J17' 'J20']\n"
     ]
    }
   ],
   "source": [
    "np.random.seed(seed=0)\n",
    "wells_to_hold = (\n",
    "    df.groupby(\"oneb_Metadata_Treatment_Dose_Inhibitor_Dose\")\n",
    "    .agg(np.random.choice)[\"Metadata_Well\"]\n",
    "    .to_list()\n",
    ")\n",
    "df_holdout = df[df[\"Metadata_Well\"].isin(wells_to_hold)]\n",
    "df = df[~df[\"Metadata_Well\"].isin(wells_to_hold)]\n",
    "\n",
    "\n",
    "print(\"Wells held out for testing:\", df_holdout[\"Metadata_Well\"].unique())\n",
    "print(\n",
    "    \"Wells to use for training, validation, and testing\", df[\"Metadata_Well\"].unique()\n",
    ")"
   ]
  },
  {
   "cell_type": "code",
   "execution_count": 7,
   "id": "786e3a76",
   "metadata": {
    "execution": {
     "iopub.execute_input": "2023-08-06T05:29:33.918497Z",
     "iopub.status.busy": "2023-08-06T05:29:33.918132Z",
     "iopub.status.idle": "2023-08-06T05:29:34.222857Z",
     "shell.execute_reply": "2023-08-06T05:29:34.222348Z"
    },
    "papermill": {
     "duration": 0.311452,
     "end_time": "2023-08-06T05:29:34.224180",
     "exception": false,
     "start_time": "2023-08-06T05:29:33.912728",
     "status": "completed"
    },
    "tags": []
   },
   "outputs": [],
   "source": [
    "# Code snippet for metadata extraction by Jenna Tomkinson\n",
    "df_metadata = list(df.columns[df.columns.str.startswith(\"Metadata\")])\n",
    "\n",
    "# define which columns are data and which are descriptive\n",
    "df_descriptive = df[df_metadata]\n",
    "df_values = df.drop(columns=df_metadata)"
   ]
  },
  {
   "cell_type": "code",
   "execution_count": 8,
   "id": "595afb65",
   "metadata": {
    "execution": {
     "iopub.execute_input": "2023-08-06T05:29:34.235047Z",
     "iopub.status.busy": "2023-08-06T05:29:34.234534Z",
     "iopub.status.idle": "2023-08-06T05:29:34.587541Z",
     "shell.execute_reply": "2023-08-06T05:29:34.587031Z"
    },
    "papermill": {
     "duration": 0.359844,
     "end_time": "2023-08-06T05:29:34.588903",
     "exception": false,
     "start_time": "2023-08-06T05:29:34.229059",
     "status": "completed"
    },
    "tags": []
   },
   "outputs": [],
   "source": [
    "# Creating label encoder\n",
    "le = preprocessing.LabelEncoder()\n",
    "# Converting strings into numbers\n",
    "df_values[\"oneb_Metadata_Treatment_Dose_Inhibitor_Dose\"] = le.fit_transform(\n",
    "    df_values[\"oneb_Metadata_Treatment_Dose_Inhibitor_Dose\"]\n",
    ")\n",
    "# split into X and Y where Y are the predictive column and x are the observable data\n",
    "df_values_X = df_values.drop(\n",
    "    [\n",
    "        \"oneb_Metadata_Treatment_Dose_Inhibitor_Dose\",\n",
    "        \"twob_Metadata_Treatment_Dose_Inhibitor_Dose\",\n",
    "        \"threeb_Metadata_Treatment_Dose_Inhibitor_Dose\",\n",
    "        \"fourb_Metadata_Treatment_Dose_Inhibitor_Dose\",\n",
    "    ],\n",
    "    axis=1,\n",
    ")\n",
    "df_values_Y = df_values[\"oneb_Metadata_Treatment_Dose_Inhibitor_Dose\"]"
   ]
  },
  {
   "attachments": {},
   "cell_type": "markdown",
   "id": "260a048e",
   "metadata": {
    "papermill": {
     "duration": 0.004607,
     "end_time": "2023-08-06T05:29:34.599076",
     "exception": false,
     "start_time": "2023-08-06T05:29:34.594469",
     "status": "completed"
    },
    "tags": []
   },
   "source": [
    "#### Split Data - All Models can proceed through this point"
   ]
  },
  {
   "cell_type": "code",
   "execution_count": 9,
   "id": "f4feb87f",
   "metadata": {
    "execution": {
     "iopub.execute_input": "2023-08-06T05:29:34.609270Z",
     "iopub.status.busy": "2023-08-06T05:29:34.608901Z",
     "iopub.status.idle": "2023-08-06T05:29:38.108413Z",
     "shell.execute_reply": "2023-08-06T05:29:38.107910Z"
    },
    "papermill": {
     "duration": 3.50601,
     "end_time": "2023-08-06T05:29:38.109741",
     "exception": false,
     "start_time": "2023-08-06T05:29:34.603731",
     "status": "completed"
    },
    "tags": []
   },
   "outputs": [],
   "source": [
    "X_train, X_test, X_val, Y_train, Y_test, Y_val = data_split(\n",
    "    X_vals=df_values_X,\n",
    "    y_vals=df_values_Y,\n",
    "    train_proportion=0.8,\n",
    "    val_proportion=0.1,\n",
    "    test_proportion=0.1,\n",
    "    seed=1,\n",
    "    params=params,\n",
    ")"
   ]
  },
  {
   "cell_type": "code",
   "execution_count": 10,
   "id": "36894826",
   "metadata": {
    "execution": {
     "iopub.execute_input": "2023-08-06T05:29:38.120755Z",
     "iopub.status.busy": "2023-08-06T05:29:38.120394Z",
     "iopub.status.idle": "2023-08-06T05:29:38.207360Z",
     "shell.execute_reply": "2023-08-06T05:29:38.206833Z"
    },
    "papermill": {
     "duration": 0.093498,
     "end_time": "2023-08-06T05:29:38.208610",
     "exception": false,
     "start_time": "2023-08-06T05:29:38.115112",
     "status": "completed"
    },
    "tags": []
   },
   "outputs": [],
   "source": [
    "# produce data objects for train, val and test datasets\n",
    "train_data = Dataset_formatter(\n",
    "    torch.FloatTensor(X_train.values), torch.FloatTensor(Y_train.values)\n",
    ")\n",
    "val_data = Dataset_formatter(\n",
    "    torch.FloatTensor(X_val.values), torch.FloatTensor(Y_val.values)\n",
    ")\n",
    "test_data = Dataset_formatter(\n",
    "    torch.FloatTensor(X_test.values), torch.FloatTensor(Y_test.values)\n",
    ")"
   ]
  },
  {
   "cell_type": "code",
   "execution_count": 11,
   "id": "4382d712",
   "metadata": {
    "execution": {
     "iopub.execute_input": "2023-08-06T05:29:38.219174Z",
     "iopub.status.busy": "2023-08-06T05:29:38.218823Z",
     "iopub.status.idle": "2023-08-06T05:29:38.223877Z",
     "shell.execute_reply": "2023-08-06T05:29:38.223480Z"
    },
    "papermill": {
     "duration": 0.011186,
     "end_time": "2023-08-06T05:29:38.224794",
     "exception": false,
     "start_time": "2023-08-06T05:29:38.213608",
     "status": "completed"
    },
    "tags": []
   },
   "outputs": [
    {
     "name": "stdout",
     "output_type": "stream",
     "text": [
      "Number of in features:  1251\n",
      "Number of out features:  2\n",
      "Binary_Classification\n"
     ]
    }
   ],
   "source": [
    "mlp_params.IN_FEATURES = X_train.shape[1]\n",
    "print(\"Number of in features: \", mlp_params.IN_FEATURES)\n",
    "if mlp_params.MODEL_TYPE == \"Regression\":\n",
    "    mlp_params.OUT_FEATURES = 1\n",
    "else:\n",
    "    mlp_params.OUT_FEATURES = len(\n",
    "        df_values[\"oneb_Metadata_Treatment_Dose_Inhibitor_Dose\"].unique()\n",
    "    )\n",
    "\n",
    "print(\"Number of out features: \", mlp_params.OUT_FEATURES)\n",
    "\n",
    "if mlp_params.OUT_FEATURES > 2:\n",
    "    mlp_params.MODEL_TYPE = \"Multi_Class\"\n",
    "elif mlp_params.OUT_FEATURES == 2:\n",
    "    mlp_params.OUT_FEATURES = mlp_params.OUT_FEATURES - 1\n",
    "    mlp_params.MODEL_TYPE = \"Binary_Classification\"\n",
    "elif mlp_params.OUT_FEATURES == 1:\n",
    "    mlp_params.MODEL_TYPE = \"Regression\"\n",
    "else:\n",
    "    pass\n",
    "print(mlp_params.MODEL_TYPE)"
   ]
  },
  {
   "cell_type": "code",
   "execution_count": 12,
   "id": "77effa5c",
   "metadata": {
    "execution": {
     "iopub.execute_input": "2023-08-06T05:29:38.234900Z",
     "iopub.status.busy": "2023-08-06T05:29:38.234608Z",
     "iopub.status.idle": "2023-08-06T05:29:38.237547Z",
     "shell.execute_reply": "2023-08-06T05:29:38.237153Z"
    },
    "papermill": {
     "duration": 0.008969,
     "end_time": "2023-08-06T05:29:38.238513",
     "exception": false,
     "start_time": "2023-08-06T05:29:38.229544",
     "status": "completed"
    },
    "tags": []
   },
   "outputs": [],
   "source": [
    "# convert data class into a dataloader to be compatible with pytorch\n",
    "train_loader = torch.utils.data.DataLoader(\n",
    "    dataset=train_data, batch_size=mlp_params.BATCH_SIZE\n",
    ")\n",
    "valid_loader = torch.utils.data.DataLoader(\n",
    "    dataset=val_data, batch_size=mlp_params.BATCH_SIZE\n",
    ")\n",
    "test_loader = torch.utils.data.DataLoader(\n",
    "    dataset=test_data, batch_size=1, shuffle=mlp_params.SHUFFLE\n",
    ")"
   ]
  },
  {
   "cell_type": "code",
   "execution_count": 13,
   "id": "cb7635c8",
   "metadata": {
    "execution": {
     "iopub.execute_input": "2023-08-06T05:29:38.248235Z",
     "iopub.status.busy": "2023-08-06T05:29:38.248086Z",
     "iopub.status.idle": "2023-08-06T05:29:38.250524Z",
     "shell.execute_reply": "2023-08-06T05:29:38.250146Z"
    },
    "papermill": {
     "duration": 0.008285,
     "end_time": "2023-08-06T05:29:38.251402",
     "exception": false,
     "start_time": "2023-08-06T05:29:38.243117",
     "status": "completed"
    },
    "tags": []
   },
   "outputs": [
    {
     "name": "stdout",
     "output_type": "stream",
     "text": [
      "cuda\n"
     ]
    }
   ],
   "source": [
    "print(mlp_params.DEVICE)"
   ]
  },
  {
   "cell_type": "code",
   "execution_count": 15,
   "id": "a969042f",
   "metadata": {
    "execution": {
     "iopub.execute_input": "2023-08-06T05:29:38.269729Z",
     "iopub.status.busy": "2023-08-06T05:29:38.269483Z",
     "iopub.status.idle": "2023-08-06T05:45:52.357257Z",
     "shell.execute_reply": "2023-08-06T05:45:52.356779Z"
    },
    "papermill": {
     "duration": 974.106841,
     "end_time": "2023-08-06T05:45:52.366898",
     "exception": false,
     "start_time": "2023-08-06T05:29:38.260057",
     "status": "completed"
    },
    "tags": []
   },
   "outputs": [
    {
     "name": "stderr",
     "output_type": "stream",
     "text": [
      "[I 2023-08-15 13:03:04,899] A new study created in memory with name: no-name-2c9119ad-7b16-486c-bb53-984923ab1d34\n",
      "[I 2023-08-15 13:03:19,781] Trial 0 finished with value: 0.3627088062763214 and parameters: {'n_layers': 1, 'n_units_l0': 8, 'dropout_0': 0.35683999972200486, 'learning_rate': 0.0842755371262226, 'optimizer': 'RMSprop'}. Best is trial 0 with value: 0.3627088062763214.\n",
      "[I 2023-08-15 13:03:33,597] Trial 1 finished with value: 0.13579909336566925 and parameters: {'n_layers': 2, 'n_units_l0': 8, 'dropout_0': 0.1286840002722658, 'n_units_l1': 10, 'dropout_1': 0.28656289024139003, 'learning_rate': 0.09343946077763529, 'optimizer': 'SGD'}. Best is trial 1 with value: 0.13579909336566925.\n",
      "[I 2023-08-15 13:03:47,441] Trial 2 finished with value: 0.12740683329105376 and parameters: {'n_layers': 1, 'n_units_l0': 6, 'dropout_0': 0.19160366101941365, 'learning_rate': 0.022204902558683407, 'optimizer': 'Adam'}. Best is trial 2 with value: 0.12740683329105376.\n",
      "[I 2023-08-15 13:04:01,544] Trial 3 finished with value: 0.4493988181352615 and parameters: {'n_layers': 3, 'n_units_l0': 5, 'dropout_0': 0.18757430093350774, 'n_units_l1': 10, 'dropout_1': 0.3366573202654699, 'n_units_l2': 5, 'dropout_2': 0.1300300396934574, 'learning_rate': 0.01264624708436554, 'optimizer': 'SGD'}. Best is trial 2 with value: 0.12740683329105376.\n"
     ]
    }
   ],
   "source": [
    "# no accuracy function must be loss for regression\n",
    "if mlp_params.MODEL_TYPE == \"Regression\":\n",
    "    mlp_params.METRIC = \"loss\"\n",
    "    pass\n",
    "\n",
    "\n",
    "# wrap the objective function inside of a lambda function to pass args...\n",
    "objective_lambda_func = lambda trial: objective_model_optimizer(\n",
    "    train_loader,\n",
    "    valid_loader,\n",
    "    trial=trial,\n",
    "    params=params,\n",
    "    metric=mlp_params.METRIC,\n",
    "    return_info=False,\n",
    ")\n",
    "\n",
    "\n",
    "# Study is the object for model optimization\n",
    "study = optuna.create_study(direction=f\"{mlp_params.DIRECTION}\")\n",
    "# Here I apply the optimize function of the study to the objective function\n",
    "# This optimizes each parameter specified to be optimized from the defined search space\n",
    "study.optimize(objective_lambda_func, n_trials=mlp_params.N_TRIALS)\n",
    "# Prints out the best trial's optimized parameters\n",
    "objective_model_optimizer(\n",
    "    train_loader,\n",
    "    valid_loader,\n",
    "    trial=study.best_trial,\n",
    "    params=params,\n",
    "    metric=mlp_params.METRIC,\n",
    "    return_info=True,\n",
    ")"
   ]
  },
  {
   "cell_type": "code",
   "execution_count": null,
   "id": "b2620589",
   "metadata": {
    "execution": {
     "iopub.execute_input": "2023-08-06T05:45:52.393419Z",
     "iopub.status.busy": "2023-08-06T05:45:52.393224Z",
     "iopub.status.idle": "2023-08-06T05:45:53.529740Z",
     "shell.execute_reply": "2023-08-06T05:45:53.529256Z"
    },
    "papermill": {
     "duration": 1.180018,
     "end_time": "2023-08-06T05:45:53.567009",
     "exception": false,
     "start_time": "2023-08-06T05:45:52.386991",
     "status": "completed"
    },
    "tags": []
   },
   "outputs": [],
   "source": [
    "# create graph directory for this model\n",
    "graph_path = pathlib.Path(\n",
    "    f\"../../figures/{mlp_params.MODEL_TYPE}/{mlp_params.MODEL_NAME}/{mlp_params.CELL_TYPE}\"\n",
    ").resolve(strict=True)\n",
    "\n",
    "pathlib.Path(graph_path).mkdir(parents=True, exist_ok=True)\n",
    "fig = optuna.visualization.plot_optimization_history(study)\n",
    "\n",
    "\n",
    "graph_path = f\"{graph_path}/plot_optimization_history_graph\"\n",
    "\n",
    "fig.write_image(pathlib.Path(f\"{graph_path}.png\"))\n",
    "fig.show()"
   ]
  },
  {
   "cell_type": "code",
   "execution_count": null,
   "id": "92103de1",
   "metadata": {
    "execution": {
     "iopub.execute_input": "2023-08-06T05:45:53.632524Z",
     "iopub.status.busy": "2023-08-06T05:45:53.632052Z",
     "iopub.status.idle": "2023-08-06T05:45:53.723082Z",
     "shell.execute_reply": "2023-08-06T05:45:53.722632Z"
    },
    "papermill": {
     "duration": 0.125349,
     "end_time": "2023-08-06T05:45:53.724551",
     "exception": false,
     "start_time": "2023-08-06T05:45:53.599202",
     "status": "completed"
    },
    "tags": []
   },
   "outputs": [],
   "source": [
    "# create graph directory for this model\n",
    "graph_path = pathlib.Path(\n",
    "    f\"../../figures/{mlp_params.MODEL_TYPE}/{mlp_params.MODEL_NAME}/{mlp_params.CELL_TYPE}\"\n",
    ").resolve(strict=True)\n",
    "\n",
    "pathlib.Path(graph_path).mkdir(parents=True, exist_ok=True)\n",
    "fig = optuna.visualization.plot_intermediate_values(study)\n",
    "\n",
    "graph_path = f\"{graph_path}/plot_intermediate_values_graph\"\n",
    "\n",
    "fig.write_image(pathlib.Path(f\"{graph_path}.png\"))\n",
    "fig.show()"
   ]
  },
  {
   "cell_type": "code",
   "execution_count": null,
   "id": "325a1ec3",
   "metadata": {
    "execution": {
     "iopub.execute_input": "2023-08-06T05:45:53.800067Z",
     "iopub.status.busy": "2023-08-06T05:45:53.799555Z",
     "iopub.status.idle": "2023-08-06T05:45:53.803285Z",
     "shell.execute_reply": "2023-08-06T05:45:53.802900Z"
    },
    "papermill": {
     "duration": 0.041901,
     "end_time": "2023-08-06T05:45:53.804190",
     "exception": false,
     "start_time": "2023-08-06T05:45:53.762289",
     "status": "completed"
    },
    "tags": []
   },
   "outputs": [],
   "source": [
    "param_dict = extract_best_trial_params(\n",
    "    study.best_params, params, model_name=mlp_params.MODEL_NAME\n",
    ")"
   ]
  },
  {
   "cell_type": "code",
   "execution_count": null,
   "id": "50e946e7",
   "metadata": {
    "execution": {
     "iopub.execute_input": "2023-08-06T05:45:53.877434Z",
     "iopub.status.busy": "2023-08-06T05:45:53.877171Z",
     "iopub.status.idle": "2023-08-06T05:50:24.818005Z",
     "shell.execute_reply": "2023-08-06T05:50:24.817535Z"
    },
    "papermill": {
     "duration": 270.978909,
     "end_time": "2023-08-06T05:50:24.819033",
     "exception": false,
     "start_time": "2023-08-06T05:45:53.840124",
     "status": "completed"
    },
    "tags": []
   },
   "outputs": [],
   "source": [
    "# call the optimized training model\n",
    "train_loss, train_acc, valid_loss, valid_acc, epochs_ran, model = train_optimized_model(\n",
    "    mlp_params.TRAIN_EPOCHS,\n",
    "    train_loader,\n",
    "    valid_loader,\n",
    "    param_dict,\n",
    "    params,\n",
    "    mlp_params.MODEL_NAME,\n",
    ")\n",
    "# get training_metrics\n",
    "if mlp_params.MODEL_TYPE == \"Regression\":\n",
    "    training_stats = pd.DataFrame(\n",
    "        zip(train_loss, valid_loss, epochs_ran),\n",
    "        columns=[\"train_loss\", \"valid_loss\", \"epochs_ran\"],\n",
    "    )\n",
    "else:\n",
    "    training_stats = pd.DataFrame(\n",
    "        zip(train_loss, train_acc, valid_loss, valid_acc, epochs_ran),\n",
    "        columns=[\"train_loss\", \"train_acc\", \"valid_loss\", \"valid_acc\", \"epochs_ran\"],\n",
    "    )"
   ]
  },
  {
   "cell_type": "code",
   "execution_count": null,
   "id": "1340d8aa",
   "metadata": {
    "execution": {
     "iopub.execute_input": "2023-08-06T05:50:24.945815Z",
     "iopub.status.busy": "2023-08-06T05:50:24.945607Z",
     "iopub.status.idle": "2023-08-06T05:50:25.301433Z",
     "shell.execute_reply": "2023-08-06T05:50:25.301011Z"
    },
    "papermill": {
     "duration": 0.423549,
     "end_time": "2023-08-06T05:50:25.302419",
     "exception": false,
     "start_time": "2023-08-06T05:50:24.878870",
     "status": "completed"
    },
    "tags": []
   },
   "outputs": [],
   "source": [
    "if mlp_params.MODEL_TYPE == \"Regression\":\n",
    "    pass\n",
    "else:\n",
    "    plot_metric_vs_epoch(\n",
    "        training_stats,\n",
    "        x=\"epochs_ran\",\n",
    "        y1=\"train_acc\",\n",
    "        y2=\"valid_acc\",\n",
    "        title=\"Accuracy vs. Epochs\",\n",
    "        x_axis_label=\"Epochs\",\n",
    "        y_axis_label=\"Accuracy\",\n",
    "        params=params,\n",
    "        model_name=mlp_params.MODEL_NAME,\n",
    "        shuffle=False,\n",
    "    )"
   ]
  },
  {
   "cell_type": "code",
   "execution_count": null,
   "id": "41991221",
   "metadata": {
    "execution": {
     "iopub.execute_input": "2023-08-06T05:50:25.383428Z",
     "iopub.status.busy": "2023-08-06T05:50:25.383050Z",
     "iopub.status.idle": "2023-08-06T05:50:25.675625Z",
     "shell.execute_reply": "2023-08-06T05:50:25.675196Z"
    },
    "papermill": {
     "duration": 0.334258,
     "end_time": "2023-08-06T05:50:25.676573",
     "exception": false,
     "start_time": "2023-08-06T05:50:25.342315",
     "status": "completed"
    },
    "tags": []
   },
   "outputs": [],
   "source": [
    "plot_metric_vs_epoch(\n",
    "    training_stats,\n",
    "    x=\"epochs_ran\",\n",
    "    y1=\"train_loss\",\n",
    "    y2=\"valid_loss\",\n",
    "    title=\"Loss vs. Epochs\",\n",
    "    x_axis_label=\"Epochs\",\n",
    "    y_axis_label=\"Loss\",\n",
    "    params=params,\n",
    "    model_name=mlp_params.MODEL_NAME,\n",
    "    shuffle=False,\n",
    ")"
   ]
  },
  {
   "cell_type": "code",
   "execution_count": null,
   "id": "1fcf184d",
   "metadata": {},
   "outputs": [],
   "source": []
  },
  {
   "cell_type": "code",
   "execution_count": null,
   "id": "3e2c848c",
   "metadata": {
    "execution": {
     "iopub.execute_input": "2023-08-06T05:50:25.758776Z",
     "iopub.status.busy": "2023-08-06T05:50:25.758284Z",
     "iopub.status.idle": "2023-08-06T05:50:29.822456Z",
     "shell.execute_reply": "2023-08-06T05:50:29.821921Z"
    },
    "papermill": {
     "duration": 4.106847,
     "end_time": "2023-08-06T05:50:29.823940",
     "exception": false,
     "start_time": "2023-08-06T05:50:25.717093",
     "status": "completed"
    },
    "tags": []
   },
   "outputs": [],
   "source": [
    "# calling the testing function and outputting list values of tested model\n",
    "if any(\n",
    "    model_type == mlp_params.MODEL_TYPE for model_type in [\"Multi_Class\", \"Regression\"]\n",
    "):\n",
    "    y_pred_list = test_optimized_model(\n",
    "        model, test_loader, params, model_name=mlp_params.MODEL_NAME\n",
    "    )\n",
    "elif mlp_params.MODEL_TYPE == \"Binary_Classification\":\n",
    "    y_pred_list, y_pred_prob_list = test_optimized_model(\n",
    "        model, test_loader, params, model_name=mlp_params.MODEL_NAME\n",
    "    )\n",
    "else:\n",
    "    raise Exception(\"Model type must be specified for proper model testing\")\n",
    "\n",
    "\n",
    "# un-nest list if nested i.e. length of input data does not match length of output data\n",
    "if len(y_pred_list) != len(Y_test):\n",
    "    y_pred_list = un_nest(y_pred_list)\n",
    "    y_pred_prob_list = un_nest(y_pred_prob_list)\n",
    "else:\n",
    "    pass"
   ]
  },
  {
   "cell_type": "code",
   "execution_count": null,
   "id": "3c53f7e4",
   "metadata": {
    "execution": {
     "iopub.execute_input": "2023-08-06T05:50:29.907370Z",
     "iopub.status.busy": "2023-08-06T05:50:29.906916Z",
     "iopub.status.idle": "2023-08-06T05:50:30.517464Z",
     "shell.execute_reply": "2023-08-06T05:50:30.517018Z"
    },
    "papermill": {
     "duration": 0.652521,
     "end_time": "2023-08-06T05:50:30.518470",
     "exception": false,
     "start_time": "2023-08-06T05:50:29.865949",
     "status": "completed"
    },
    "tags": []
   },
   "outputs": [],
   "source": [
    "# Call visualization function\n",
    "# calling the testing function and outputing list values of tested model\n",
    "if any(\n",
    "    model_type == mlp_params.MODEL_TYPE for model_type in [\"Multi_Class\", \"Regression\"]\n",
    "):\n",
    "    confusion_matrix_df = results_output(\n",
    "        y_pred_list,\n",
    "        Y_test,\n",
    "        params,\n",
    "        test_name=f\"{mlp_params.MODEL_NAME}_testing\",\n",
    "        model_name=mlp_params.MODEL_NAME,\n",
    "        title=mlp_params.MODEL_NAME,\n",
    "        shuffle=False,\n",
    "    )\n",
    "elif mlp_params.MODEL_TYPE == \"Binary_Classification\":\n",
    "    results_output(\n",
    "        y_pred_list,\n",
    "        Y_test,\n",
    "        params,\n",
    "        y_pred_prob_list,\n",
    "        test_name=f\"{mlp_params.MODEL_NAME}_testing\",\n",
    "        model_name=mlp_params.MODEL_NAME,\n",
    "        title=mlp_params.MODEL_NAME,\n",
    "        shuffle=False,\n",
    "    )\n",
    "else:\n",
    "    raise Exception(\"Model type must be specified for proper model testing\")"
   ]
  },
  {
   "attachments": {},
   "cell_type": "markdown",
   "id": "2c620f38",
   "metadata": {
    "papermill": {
     "duration": 0.041474,
     "end_time": "2023-08-06T05:50:30.605366",
     "exception": false,
     "start_time": "2023-08-06T05:50:30.563892",
     "status": "completed"
    },
    "tags": []
   },
   "source": [
    "#### look at the feature weights of the model"
   ]
  },
  {
   "cell_type": "code",
   "execution_count": null,
   "id": "06ecc2f0",
   "metadata": {
    "execution": {
     "iopub.execute_input": "2023-08-06T05:50:30.689410Z",
     "iopub.status.busy": "2023-08-06T05:50:30.689126Z",
     "iopub.status.idle": "2023-08-06T05:50:30.692506Z",
     "shell.execute_reply": "2023-08-06T05:50:30.692060Z"
    },
    "papermill": {
     "duration": 0.046476,
     "end_time": "2023-08-06T05:50:30.693455",
     "exception": false,
     "start_time": "2023-08-06T05:50:30.646979",
     "status": "completed"
    },
    "tags": []
   },
   "outputs": [],
   "source": [
    "# get all paramters from pytorch model\n",
    "lst = []\n",
    "for name, param in model.named_parameters():\n",
    "    # print(name, param.shape)\n",
    "    lst.append(param)\n",
    "feature_weights = model[0].weight.grad[0].detach().cpu().numpy()"
   ]
  },
  {
   "cell_type": "code",
   "execution_count": null,
   "id": "131b568f",
   "metadata": {
    "execution": {
     "iopub.execute_input": "2023-08-06T05:50:30.776742Z",
     "iopub.status.busy": "2023-08-06T05:50:30.776297Z",
     "iopub.status.idle": "2023-08-06T05:50:30.779226Z",
     "shell.execute_reply": "2023-08-06T05:50:30.778744Z"
    },
    "papermill": {
     "duration": 0.045668,
     "end_time": "2023-08-06T05:50:30.780183",
     "exception": false,
     "start_time": "2023-08-06T05:50:30.734515",
     "status": "completed"
    },
    "tags": []
   },
   "outputs": [],
   "source": [
    "col_list = []\n",
    "for col in df_values.columns:\n",
    "    # print(col)\n",
    "    col_list.append(col)"
   ]
  },
  {
   "cell_type": "code",
   "execution_count": null,
   "id": "400c1291",
   "metadata": {
    "execution": {
     "iopub.execute_input": "2023-08-06T05:50:30.863310Z",
     "iopub.status.busy": "2023-08-06T05:50:30.862936Z",
     "iopub.status.idle": "2023-08-06T05:50:30.865464Z",
     "shell.execute_reply": "2023-08-06T05:50:30.865050Z"
    },
    "papermill": {
     "duration": 0.045272,
     "end_time": "2023-08-06T05:50:30.866396",
     "exception": false,
     "start_time": "2023-08-06T05:50:30.821124",
     "status": "completed"
    },
    "tags": []
   },
   "outputs": [],
   "source": [
    "# remove last 4 columns from col_list that are not features\n",
    "col_list = col_list[:-4]"
   ]
  },
  {
   "cell_type": "code",
   "execution_count": null,
   "id": "42dbfe2a",
   "metadata": {
    "execution": {
     "iopub.execute_input": "2023-08-06T05:50:30.949251Z",
     "iopub.status.busy": "2023-08-06T05:50:30.948897Z",
     "iopub.status.idle": "2023-08-06T05:50:30.969698Z",
     "shell.execute_reply": "2023-08-06T05:50:30.969255Z"
    },
    "papermill": {
     "duration": 0.063283,
     "end_time": "2023-08-06T05:50:30.970725",
     "exception": false,
     "start_time": "2023-08-06T05:50:30.907442",
     "status": "completed"
    },
    "tags": []
   },
   "outputs": [],
   "source": [
    "pd.set_option(\"display.max_colwidth\", None)\n",
    "\n",
    "df = pd.DataFrame(zip(col_list, feature_weights), columns=[\"feature\", \"weight\"])\n",
    "# change weight collumn to float\n",
    "df[\"weight\"] = df[\"weight\"].astype(float)\n",
    "# sort by weight\n",
    "df = df.sort_values(by=[\"weight\"], ascending=False)\n",
    "df"
   ]
  },
  {
   "cell_type": "code",
   "execution_count": null,
   "id": "e8a4e590",
   "metadata": {
    "execution": {
     "iopub.execute_input": "2023-08-06T05:50:31.055113Z",
     "iopub.status.busy": "2023-08-06T05:50:31.054778Z",
     "iopub.status.idle": "2023-08-06T05:50:31.139079Z",
     "shell.execute_reply": "2023-08-06T05:50:31.138565Z"
    },
    "papermill": {
     "duration": 0.127965,
     "end_time": "2023-08-06T05:50:31.140412",
     "exception": false,
     "start_time": "2023-08-06T05:50:31.012447",
     "status": "completed"
    },
    "tags": []
   },
   "outputs": [],
   "source": [
    "# Code snippet for metadata extraction by Jenna Tomkinson\n",
    "df_metadata = list(df_holdout.columns[df_holdout.columns.str.startswith(\"Metadata\")])\n",
    "\n",
    "# define which columns are data and which are descriptive\n",
    "df_descriptive = df_holdout[df_metadata]\n",
    "df_values = df_holdout.drop(columns=df_metadata)"
   ]
  },
  {
   "cell_type": "code",
   "execution_count": null,
   "id": "748bb398",
   "metadata": {
    "execution": {
     "iopub.execute_input": "2023-08-06T05:50:31.224764Z",
     "iopub.status.busy": "2023-08-06T05:50:31.224372Z",
     "iopub.status.idle": "2023-08-06T05:50:31.308590Z",
     "shell.execute_reply": "2023-08-06T05:50:31.308082Z"
    },
    "papermill": {
     "duration": 0.127704,
     "end_time": "2023-08-06T05:50:31.309992",
     "exception": false,
     "start_time": "2023-08-06T05:50:31.182288",
     "status": "completed"
    },
    "tags": []
   },
   "outputs": [],
   "source": [
    "# Creating label encoder\n",
    "le = preprocessing.LabelEncoder()\n",
    "# Converting strings into numbers\n",
    "df_values[\"oneb_Metadata_Treatment_Dose_Inhibitor_Dose\"] = le.fit_transform(\n",
    "    df_values[\"oneb_Metadata_Treatment_Dose_Inhibitor_Dose\"]\n",
    ")\n",
    "# split into X and Y where Y are the predictive column and x are the observable data\n",
    "df_values_X = df_values.drop(\n",
    "    [\n",
    "        \"oneb_Metadata_Treatment_Dose_Inhibitor_Dose\",\n",
    "        \"twob_Metadata_Treatment_Dose_Inhibitor_Dose\",\n",
    "        \"threeb_Metadata_Treatment_Dose_Inhibitor_Dose\",\n",
    "        \"fourb_Metadata_Treatment_Dose_Inhibitor_Dose\",\n",
    "    ],\n",
    "    axis=1,\n",
    ")\n",
    "df_values_Y = df_values[\"oneb_Metadata_Treatment_Dose_Inhibitor_Dose\"]"
   ]
  },
  {
   "cell_type": "markdown",
   "id": "8eceb65e",
   "metadata": {
    "papermill": {
     "duration": 0.041191,
     "end_time": "2023-08-06T05:50:31.393309",
     "exception": false,
     "start_time": "2023-08-06T05:50:31.352118",
     "status": "completed"
    },
    "tags": []
   },
   "source": [
    "## Test the hold out wells"
   ]
  },
  {
   "cell_type": "code",
   "execution_count": null,
   "id": "4f88eaef",
   "metadata": {
    "execution": {
     "iopub.execute_input": "2023-08-06T05:50:31.477161Z",
     "iopub.status.busy": "2023-08-06T05:50:31.476725Z",
     "iopub.status.idle": "2023-08-06T05:50:51.261095Z",
     "shell.execute_reply": "2023-08-06T05:50:51.260632Z"
    },
    "papermill": {
     "duration": 19.827365,
     "end_time": "2023-08-06T05:50:51.262238",
     "exception": false,
     "start_time": "2023-08-06T05:50:31.434873",
     "status": "completed"
    },
    "tags": []
   },
   "outputs": [],
   "source": [
    "for SHUFFLE in [True, False]:\n",
    "\n",
    "    test_data = Dataset_formatter(\n",
    "        torch.FloatTensor(df_values_X.values), torch.FloatTensor(df_values_Y.values)\n",
    "    )\n",
    "\n",
    "    # convert data class into a dataloader to be compatible with pytorch\n",
    "    test_loader = torch.utils.data.DataLoader(\n",
    "        dataset=test_data, batch_size=1, shuffle=SHUFFLE\n",
    "    )\n",
    "\n",
    "    # calling the testing function and outputting list values of tested model\n",
    "    if any(\n",
    "        model_type == mlp_params.MODEL_TYPE\n",
    "        for model_type in [\"Multi_Class\", \"Regression\"]\n",
    "    ):\n",
    "        y_pred_list = test_optimized_model(\n",
    "            model, test_loader, params, model_name=mlp_params.MODEL_NAME\n",
    "        )\n",
    "    elif mlp_params.MODEL_TYPE == \"Binary_Classification\":\n",
    "        y_pred_list, y_pred_prob_list = test_optimized_model(\n",
    "            model, test_loader, params, model_name=mlp_params.MODEL_NAME\n",
    "        )\n",
    "    else:\n",
    "        raise Exception(\"Model type must be specified for proper model testing\")\n",
    "\n",
    "    # un-nest list if nested i.e. length of input data does not match length of output data\n",
    "    if len(y_pred_list) != len(df_values_Y):\n",
    "        y_pred_list = un_nest(y_pred_list)\n",
    "        y_pred_prob_list = un_nest(y_pred_prob_list)\n",
    "    else:\n",
    "        pass\n",
    "\n",
    "    # Call visualization function\n",
    "    # calling the testing function and outputing list values of tested model\n",
    "    if any(\n",
    "        model_type == mlp_params.MODEL_TYPE\n",
    "        for model_type in [\"Multi_Class\", \"Regression\"]\n",
    "    ):\n",
    "        confusion_matrix_df = results_output(\n",
    "            y_pred_list,\n",
    "            df_values_Y,\n",
    "            params,\n",
    "            test_name=f\"{mlp_params.MODEL_NAME}_hold_out\",\n",
    "            model_name=mlp_params.MODEL_NAME,\n",
    "            title=mlp_params.MODEL_NAME,\n",
    "            shuffle=SHUFFLE,\n",
    "        )\n",
    "    elif mlp_params.MODEL_TYPE == \"Binary_Classification\":\n",
    "        results_output(\n",
    "            y_pred_list,\n",
    "            df_values_Y,\n",
    "            params,\n",
    "            y_pred_prob_list,\n",
    "            test_name=f\"{mlp_params.MODEL_NAME}_hold_out\",\n",
    "            model_name=mlp_params.MODEL_NAME,\n",
    "            title=mlp_params.MODEL_NAME,\n",
    "            shuffle=SHUFFLE,\n",
    "        )\n",
    "    else:\n",
    "        raise Exception(\"Model type must be specified for proper model testing\")"
   ]
  },
  {
   "cell_type": "code",
   "execution_count": null,
   "id": "9d6bbc43",
   "metadata": {
    "execution": {
     "iopub.execute_input": "2023-08-04T00:37:24.660673Z",
     "iopub.status.busy": "2023-08-04T00:37:24.660455Z",
     "iopub.status.idle": "2023-08-04T00:37:24.953361Z",
     "shell.execute_reply": "2023-08-04T00:37:24.953036Z"
    },
    "papermill": {
     "duration": 0.043094,
     "end_time": "2023-08-06T05:50:51.350944",
     "exception": false,
     "start_time": "2023-08-06T05:50:51.307850",
     "status": "completed"
    },
    "tags": []
   },
   "outputs": [],
   "source": []
  }
 ],
 "metadata": {
  "jupytext": {
   "cell_metadata_filter": "-all",
   "encoding": "# coding: utf-8",
   "executable": "/usr/bin/env python",
   "formats": "ipynb,py",
   "main_language": "python"
  },
  "kernelspec": {
   "display_name": "Python 3 (ipykernel)",
   "language": "python",
   "name": "python3"
  },
  "language_info": {
   "codemirror_mode": {
    "name": "ipython",
    "version": 3
   },
   "file_extension": ".py",
   "mimetype": "text/x-python",
   "name": "python",
   "nbconvert_exporter": "python",
   "pygments_lexer": "ipython3",
   "version": "3.10.12"
  },
  "papermill": {
   "default_parameters": {},
   "duration": 1376.906731,
   "end_time": "2023-08-06T05:50:54.011988",
   "environment_variables": {},
   "exception": null,
   "input_path": "Hyperparameter_Optimization_model_binary.ipynb",
   "output_path": "Hyperparameter_Optimization_model_binary.ipynb",
   "parameters": {
    "CELL_TYPE": "PBMC",
    "CONTROL_NAME": "DMSO_0.100_DMSO_0.025",
    "MODEL_NAME": "DMSO_0.025_vs_Thapsigargin_1",
    "TREATMENT_NAME": "Thapsigargin_1.000_DMSO_0.025"
   },
   "start_time": "2023-08-06T05:27:57.105257",
   "version": "2.4.0"
  },
  "vscode": {
   "interpreter": {
    "hash": "72ae02083a9ca7d143c492d1aec380c7bf553ec51bd66e90e72bba65228121b6"
   }
  }
 },
 "nbformat": 4,
 "nbformat_minor": 5
}
