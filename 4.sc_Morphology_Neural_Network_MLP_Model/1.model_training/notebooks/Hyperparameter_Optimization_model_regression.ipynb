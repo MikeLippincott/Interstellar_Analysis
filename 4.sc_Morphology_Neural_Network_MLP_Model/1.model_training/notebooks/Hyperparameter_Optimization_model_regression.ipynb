{
 "cells": [
  {
   "attachments": {},
   "cell_type": "markdown",
   "id": "8e60628c",
   "metadata": {},
   "source": [
    "## Hyperparameter tuning via Optuna"
   ]
  },
  {
   "cell_type": "markdown",
   "id": "8fac71a5",
   "metadata": {},
   "source": [
    "### Being a binary model this notebook will be limited to predicting one class 1 or 0, yes or no.\n",
    "### Here I will be predicting if a cell received a treatment or not"
   ]
  },
  {
   "cell_type": "code",
   "execution_count": 1,
   "id": "860a61dd",
   "metadata": {},
   "outputs": [],
   "source": [
    "import pathlib\n",
    "import sys\n",
    "\n",
    "import numpy as np\n",
    "import optuna\n",
    "import pandas as pd\n",
    "import pyarrow.parquet as pq\n",
    "import toml\n",
    "import torch\n",
    "from sklearn import preprocessing\n",
    "\n",
    "sys.path.append(\"../..\")\n",
    "\n",
    "from MLP_utils.parameters import Parameters\n",
    "from MLP_utils.utils import (\n",
    "    Dataset_formatter,\n",
    "    data_split,\n",
    "    extract_best_trial_params,\n",
    "    objective_model_optimizer,\n",
    "    parameter_set,\n",
    "    plot_metric_vs_epoch,\n",
    "    results_output,\n",
    "    test_optimized_model,\n",
    "    train_optimized_model,\n",
    "    un_nest,\n",
    ")\n",
    "\n",
    "sys.path.append(\"../../..\")\n",
    "from utils.utils import df_stats"
   ]
  },
  {
   "attachments": {},
   "cell_type": "markdown",
   "id": "5c486e00",
   "metadata": {},
   "source": [
    "#### Set up Data to be compatible with model"
   ]
  },
  {
   "attachments": {},
   "cell_type": "markdown",
   "id": "633673ce",
   "metadata": {},
   "source": [
    "##### Regression Model Data Wrangling and Set Up\n",
    "comment out if not using regression"
   ]
  },
  {
   "cell_type": "code",
   "execution_count": 2,
   "id": "a199b90d",
   "metadata": {},
   "outputs": [],
   "source": [
    "# Parameters\n",
    "CELL_TYPE = \"SHSY5Y\"\n",
    "CONTROL_NAME = \"DMSO_0.100_DMSO_0.025\"\n",
    "TREATMENT_NAME = \"LPS_100.000_DMSO_0.025\"\n",
    "MODEL_NAME = \"DMSO_0.025_vs_LPS_100\"\n",
    "SHUFFLE = False"
   ]
  },
  {
   "cell_type": "code",
   "execution_count": 3,
   "id": "476a6c11",
   "metadata": {},
   "outputs": [],
   "source": [
    "ml_configs_file = pathlib.Path(\"../../MLP_utils/regression_config.toml\").resolve(\n",
    "    strict=True\n",
    ")\n",
    "ml_configs = toml.load(ml_configs_file)\n",
    "params = Parameters()\n",
    "mlp_params = parameter_set(params, ml_configs)\n",
    "\n",
    "# overwrite params via command line arguments from papermill\n",
    "mlp_params.CELL_TYPE = CELL_TYPE\n",
    "mlp_params.MODEL_NAME = MODEL_NAME\n",
    "mlp_params.CONTROL_NAME = CONTROL_NAME\n",
    "mlp_params.TREATMENT_NAME = TREATMENT_NAME\n",
    "mlp_params.SHUFFLE = SHUFFLE"
   ]
  },
  {
   "cell_type": "code",
   "execution_count": 4,
   "id": "db58e288",
   "metadata": {},
   "outputs": [],
   "source": [
    "# Import Data\n",
    "# set data file path under pathlib path for multi-system use\n",
    "\n",
    "file_path = pathlib.Path(\n",
    "    f\"../../../data/{mlp_params.CELL_TYPE}_preprocessed_sc_norm.parquet\"\n",
    ").resolve(strict=True)\n",
    "\n",
    "# set path for nomic data\n",
    "nomic_df_path = pathlib.Path(\n",
    "    f\"../../../2.Nomic_nELISA_Analysis/Data/clean/Plate2/nELISA_plate_430420_{mlp_params.CELL_TYPE}_cleanup4correlation.csv\"\n",
    ").resolve(strict=True)\n",
    "\n",
    "df = pq.read_table(file_path).to_pandas()\n",
    "nomic_df = pd.read_csv(nomic_df_path)"
   ]
  },
  {
   "cell_type": "code",
   "execution_count": 5,
   "id": "beabbbb5",
   "metadata": {},
   "outputs": [
    {
     "name": "stdout",
     "output_type": "stream",
     "text": [
      "(597902, 1276)\n",
      "(154, 190)\n",
      "(394884, 1463)\n"
     ]
    }
   ],
   "source": [
    "print(df.shape)\n",
    "df = pd.merge(\n",
    "    df,\n",
    "    nomic_df,\n",
    "    left_on=[\n",
    "        \"Metadata_Well\",\n",
    "        \"oneb_Metadata_Treatment_Dose_Inhibitor_Dose\",\n",
    "        \"fourb_Metadata_Treatment_Dose_Inhibitor_Dose\",\n",
    "    ],\n",
    "    right_on=[\n",
    "        \"Metadata_position_x\",\n",
    "        \"oneb_Metadata_Treatment_Dose_Inhibitor_Dose\",\n",
    "        \"fourb_Metadata_Treatment_Dose_Inhibitor_Dose\",\n",
    "    ],\n",
    ").drop([\"Metadata_position_x\"], axis=1)\n",
    "print(nomic_df.shape)\n",
    "print(df.shape)"
   ]
  },
  {
   "cell_type": "code",
   "execution_count": 6,
   "id": "e2df24ec",
   "metadata": {},
   "outputs": [
    {
     "name": "stdout",
     "output_type": "stream",
     "text": [
      "Selected Catagories are:\n",
      "['DMSO_0.100_DMSO_0.025' 'LPS_100.000_DMSO_0.025']\n",
      "The dimensions of the data are: (51630, 1463)\n",
      "Number of total missing values across all columns: 103260\n",
      "Data Subset Is Off\n"
     ]
    }
   ],
   "source": [
    "# filter the oneb_Metadata_Treatment_Dose_Inhibitor_Dose column to only include the treatment and control via loc\n",
    "df = df.loc[\n",
    "    df[\"oneb_Metadata_Treatment_Dose_Inhibitor_Dose\"].isin(\n",
    "        [mlp_params.TREATMENT_NAME, mlp_params.CONTROL_NAME]\n",
    "    )\n",
    "]\n",
    "\n",
    "\n",
    "print(\"Selected Catagories are:\")\n",
    "print(df[\"oneb_Metadata_Treatment_Dose_Inhibitor_Dose\"].unique())\n",
    "df_stats(df)\n",
    "\n",
    "if mlp_params.DATA_SUBSET_OPTION == \"True\":\n",
    "    df = df.sample(n=mlp_params.DATA_SUBSET_NUMBER)\n",
    "    print(\"Data Subset Is On\")\n",
    "    print(f\"Data is subset to {mlp_params.DATA_SUBSET_NUMBER}\")\n",
    "else:\n",
    "    print(\"Data Subset Is Off\")"
   ]
  },
  {
   "cell_type": "code",
   "execution_count": 7,
   "id": "01ea4134",
   "metadata": {},
   "outputs": [
    {
     "name": "stdout",
     "output_type": "stream",
     "text": [
      "Wells held out for testing: ['I14' 'J21']\n",
      "Wells to use for training, validation, and testing ['B14' 'C14' 'B15' 'C15' 'J14' 'I15' 'J15' 'J16' 'J17' 'J20']\n"
     ]
    }
   ],
   "source": [
    "np.random.seed(seed=0)\n",
    "wells_to_hold = (\n",
    "    df.groupby(\"oneb_Metadata_Treatment_Dose_Inhibitor_Dose\")\n",
    "    .agg(np.random.choice)[\"Metadata_Well\"]\n",
    "    .to_list()\n",
    ")\n",
    "df_holdout = df[df[\"Metadata_Well\"].isin(wells_to_hold)]\n",
    "df = df[~df[\"Metadata_Well\"].isin(wells_to_hold)]\n",
    "\n",
    "\n",
    "print(\"Wells held out for testing:\", df_holdout[\"Metadata_Well\"].unique())\n",
    "print(\n",
    "    \"Wells to use for training, validation, and testing\", df[\"Metadata_Well\"].unique()\n",
    ")"
   ]
  },
  {
   "cell_type": "code",
   "execution_count": 8,
   "id": "33cee60d",
   "metadata": {},
   "outputs": [],
   "source": [
    "# Code snippet for metadata extraction by Jenna Tomkinson\n",
    "df_metadata = list(df.columns[df.columns.str.contains(\"Metadata\")])\n",
    "\n",
    "# define which columns are data and which are descriptive\n",
    "df_descriptive = df[df_metadata]\n",
    "df_values = df.drop(columns=df_metadata)"
   ]
  },
  {
   "cell_type": "code",
   "execution_count": 9,
   "id": "836aba28",
   "metadata": {},
   "outputs": [
    {
     "name": "stdout",
     "output_type": "stream",
     "text": [
      "(42667, 1438)\n",
      "(42667, 1251)\n",
      "(42667, 188)\n"
     ]
    },
    {
     "name": "stderr",
     "output_type": "stream",
     "text": [
      "/tmp/ipykernel_1234276/682722256.py:4: SettingWithCopyWarning: \n",
      "A value is trying to be set on a copy of a slice from a DataFrame.\n",
      "Try using .loc[row_indexer,col_indexer] = value instead\n",
      "\n",
      "See the caveats in the documentation: https://pandas.pydata.org/pandas-docs/stable/user_guide/indexing.html#returning-a-view-versus-a-copy\n",
      "  df_values_Y['Metadata_Well'] = df_descriptive['Metadata_Well']\n"
     ]
    }
   ],
   "source": [
    "# get all columns that contain NSU in the name\n",
    "df_values_Y = df_values[df_values.columns[df_values.columns.str.contains(\"NSU\")]]\n",
    "df_values_X = df_values.drop(columns=df_values_Y.columns)\n",
    "df_values_Y[\"Metadata_Well\"] = df_descriptive[\"Metadata_Well\"]\n",
    "print(df_values.shape)\n",
    "print(df_values_X.shape)\n",
    "print(df_values_Y.shape)"
   ]
  },
  {
   "attachments": {},
   "cell_type": "markdown",
   "id": "260a048e",
   "metadata": {},
   "source": [
    "#### Split Data - All Models can proceed through this point"
   ]
  },
  {
   "cell_type": "code",
   "execution_count": 10,
   "id": "f4feb87f",
   "metadata": {},
   "outputs": [],
   "source": [
    "X_train, X_test, X_val, Y_train_well, Y_test_well, Y_val_well = data_split(\n",
    "    X_vals=df_values_X,\n",
    "    y_vals=df_values_Y,\n",
    "    train_proportion=0.8,\n",
    "    val_proportion=0.1,\n",
    "    test_proportion=0.1,\n",
    "    seed=0,\n",
    "    params=mlp_params,\n",
    ")"
   ]
  },
  {
   "cell_type": "code",
   "execution_count": 11,
   "id": "2cbb875f",
   "metadata": {},
   "outputs": [],
   "source": [
    "Y_train = Y_train_well.drop(columns=[\"Metadata_Well\"])\n",
    "Y_test = Y_test_well.drop(columns=[\"Metadata_Well\"])\n",
    "Y_val = Y_val_well.drop(columns=[\"Metadata_Well\"])"
   ]
  },
  {
   "cell_type": "code",
   "execution_count": 12,
   "id": "36894826",
   "metadata": {},
   "outputs": [],
   "source": [
    "# produce data objects for train, val and test datasets\n",
    "train_data = Dataset_formatter(\n",
    "    torch.FloatTensor(X_train.values), torch.FloatTensor(Y_train.values)\n",
    ")\n",
    "val_data = Dataset_formatter(\n",
    "    torch.FloatTensor(X_val.values), torch.FloatTensor(Y_val.values)\n",
    ")\n",
    "test_data = Dataset_formatter(\n",
    "    torch.FloatTensor(X_test.values), torch.FloatTensor(Y_test.values)\n",
    ")"
   ]
  },
  {
   "cell_type": "code",
   "execution_count": 13,
   "id": "4382d712",
   "metadata": {},
   "outputs": [
    {
     "name": "stdout",
     "output_type": "stream",
     "text": [
      "Number of in features:  1251\n",
      "Number of out features:  187\n"
     ]
    }
   ],
   "source": [
    "mlp_params.IN_FEATURES = X_train.shape[1]\n",
    "print(\"Number of in features: \", mlp_params.IN_FEATURES)\n",
    "if mlp_params.MODEL_TYPE == \"Regression\":\n",
    "    mlp_params.OUT_FEATURES = Y_train.shape[1]\n",
    "else:\n",
    "    mlp_params.OUT_FEATURES = len(\n",
    "        df_values[\"oneb_Metadata_Treatment_Dose_Inhibitor_Dose\"].unique()\n",
    "    )\n",
    "\n",
    "print(\"Number of out features: \", mlp_params.OUT_FEATURES)"
   ]
  },
  {
   "cell_type": "code",
   "execution_count": 14,
   "id": "77effa5c",
   "metadata": {},
   "outputs": [],
   "source": [
    "# convert data class into a dataloader to be compatible with pytorch\n",
    "train_loader = torch.utils.data.DataLoader(\n",
    "    dataset=train_data, batch_size=mlp_params.BATCH_SIZE\n",
    ")\n",
    "valid_loader = torch.utils.data.DataLoader(\n",
    "    dataset=val_data, batch_size=mlp_params.BATCH_SIZE\n",
    ")\n",
    "test_loader = torch.utils.data.DataLoader(dataset=test_data, batch_size=1)"
   ]
  },
  {
   "cell_type": "code",
   "execution_count": 15,
   "id": "5a3e8146",
   "metadata": {},
   "outputs": [
    {
     "data": {
      "text/plain": [
       "(42667, 188)"
      ]
     },
     "execution_count": 15,
     "metadata": {},
     "output_type": "execute_result"
    }
   ],
   "source": [
    "df_values_X.shape\n",
    "df_values_Y.shape"
   ]
  },
  {
   "cell_type": "code",
   "execution_count": 16,
   "id": "a969042f",
   "metadata": {},
   "outputs": [
    {
     "name": "stderr",
     "output_type": "stream",
     "text": [
      "[I 2023-08-24 16:49:23,485] A new study created in memory with name: no-name-bca7624e-ffe7-4c36-b3f6-5ae6944a66d2\n",
      "[I 2023-08-24 16:49:40,338] Trial 0 finished with value: 0.24172199736535555 and parameters: {'n_layers': 6, 'n_units_l0': 19, 'dropout_0': 0.4616580256429863, 'n_units_l1': 15, 'dropout_1': 0.3541928796033428, 'n_units_l2': 17, 'dropout_2': 0.3625523267576155, 'n_units_l3': 23, 'dropout_3': 0.6781976563006176, 'n_units_l4': 11, 'dropout_4': 0.5750350228495987, 'n_units_l5': 14, 'dropout_5': 0.4408267366563594, 'learning_rate': 0.09256040786288318, 'optimizer': 'RMSprop'}. Best is trial 0 with value: 0.24172199736535555.\n",
      "[I 2023-08-24 16:49:56,271] Trial 1 finished with value: 0.0280871027931571 and parameters: {'n_layers': 9, 'n_units_l0': 20, 'dropout_0': 0.6220072889480914, 'n_units_l1': 25, 'dropout_1': 0.5794951385300341, 'n_units_l2': 13, 'dropout_2': 0.5683175057718732, 'n_units_l3': 4, 'dropout_3': 0.48395261279651425, 'n_units_l4': 5, 'dropout_4': 0.6668013502297503, 'n_units_l5': 14, 'dropout_5': 0.34879716399431415, 'n_units_l6': 8, 'dropout_6': 0.56454021366053, 'n_units_l7': 12, 'dropout_7': 0.4410603693211891, 'n_units_l8': 2, 'dropout_8': 0.4705812982455262, 'learning_rate': 0.061213451315014926, 'optimizer': 'RMSprop'}. Best is trial 1 with value: 0.0280871027931571.\n",
      "[I 2023-08-24 16:50:11,081] Trial 2 finished with value: 0.1853557058572769 and parameters: {'n_layers': 4, 'n_units_l0': 12, 'dropout_0': 0.5185787175563589, 'n_units_l1': 3, 'dropout_1': 0.5000600292674006, 'n_units_l2': 18, 'dropout_2': 0.22622953664430454, 'n_units_l3': 5, 'dropout_3': 0.2892570105545103, 'learning_rate': 0.036377439986552844, 'optimizer': 'SGD'}. Best is trial 1 with value: 0.0280871027931571.\n",
      "[I 2023-08-24 16:50:25,364] Trial 3 finished with value: 0.02690446569770575 and parameters: {'n_layers': 2, 'n_units_l0': 7, 'dropout_0': 0.19678571073099776, 'n_units_l1': 17, 'dropout_1': 0.2519749615238693, 'learning_rate': 0.046636414177902076, 'optimizer': 'Adam'}. Best is trial 3 with value: 0.02690446569770575.\n",
      "[I 2023-08-24 16:50:40,991] Trial 4 finished with value: 0.3585107171535491 and parameters: {'n_layers': 7, 'n_units_l0': 5, 'dropout_0': 0.2179494170080321, 'n_units_l1': 10, 'dropout_1': 0.5925959379087611, 'n_units_l2': 4, 'dropout_2': 0.6027669444992823, 'n_units_l3': 4, 'dropout_3': 0.6858756790080374, 'n_units_l4': 13, 'dropout_4': 0.6860566529142023, 'n_units_l5': 16, 'dropout_5': 0.543558147638981, 'n_units_l6': 2, 'dropout_6': 0.2696841775458457, 'learning_rate': 0.012028454155704759, 'optimizer': 'SGD'}. Best is trial 3 with value: 0.02690446569770575.\n",
      "[I 2023-08-24 16:50:56,144] Trial 5 finished with value: 0.0268987470343709 and parameters: {'n_layers': 5, 'n_units_l0': 3, 'dropout_0': 0.5154832716220119, 'n_units_l1': 15, 'dropout_1': 0.25923369456366724, 'n_units_l2': 14, 'dropout_2': 0.156364306455065, 'n_units_l3': 15, 'dropout_3': 0.6575777185457284, 'n_units_l4': 9, 'dropout_4': 0.500446227978209, 'learning_rate': 0.013188468261815174, 'optimizer': 'Adam'}. Best is trial 5 with value: 0.0268987470343709.\n",
      "[I 2023-08-24 16:50:56,515] Trial 6 pruned. \n",
      "[I 2023-08-24 16:50:56,776] Trial 7 pruned. \n",
      "[I 2023-08-24 16:50:57,047] Trial 8 pruned. \n",
      "[I 2023-08-24 16:51:12,594] Trial 9 finished with value: 0.02685435622930527 and parameters: {'n_layers': 5, 'n_units_l0': 23, 'dropout_0': 0.3205371220287379, 'n_units_l1': 12, 'dropout_1': 0.6351540130094032, 'n_units_l2': 21, 'dropout_2': 0.5223331501242198, 'n_units_l3': 4, 'dropout_3': 0.6516895682468041, 'n_units_l4': 19, 'dropout_4': 0.6993082039407199, 'learning_rate': 0.014953335982752796, 'optimizer': 'Adam'}. Best is trial 9 with value: 0.02685435622930527.\n",
      "[I 2023-08-24 16:51:12,867] Trial 10 pruned. \n",
      "[I 2023-08-24 16:51:28,732] Trial 11 finished with value: 0.02684057705849409 and parameters: {'n_layers': 8, 'n_units_l0': 10, 'dropout_0': 0.4341254160595861, 'n_units_l1': 11, 'dropout_1': 0.6963515305838979, 'n_units_l2': 24, 'dropout_2': 0.12329375762584327, 'n_units_l3': 14, 'dropout_3': 0.5606533196730216, 'n_units_l4': 23, 'dropout_4': 0.15202421169788516, 'n_units_l5': 3, 'dropout_5': 0.6596189666812016, 'n_units_l6': 23, 'dropout_6': 0.14415089343135395, 'n_units_l7': 24, 'dropout_7': 0.10878376068854706, 'learning_rate': 0.02395153046812729, 'optimizer': 'Adam'}. Best is trial 11 with value: 0.02684057705849409.\n",
      "[I 2023-08-24 16:51:45,254] Trial 12 finished with value: 0.02684190382808447 and parameters: {'n_layers': 9, 'n_units_l0': 10, 'dropout_0': 0.3867869244318622, 'n_units_l1': 9, 'dropout_1': 0.6892718402037961, 'n_units_l2': 25, 'dropout_2': 0.6768562864845641, 'n_units_l3': 13, 'dropout_3': 0.5278449536335058, 'n_units_l4': 24, 'dropout_4': 0.17884063810688677, 'n_units_l5': 2, 'dropout_5': 0.6851380010071584, 'n_units_l6': 25, 'dropout_6': 0.12898598576212933, 'n_units_l7': 24, 'dropout_7': 0.10222354945261829, 'n_units_l8': 21, 'dropout_8': 0.10004809468367754, 'learning_rate': 0.02582095903460826, 'optimizer': 'Adam'}. Best is trial 11 with value: 0.02684057705849409.\n",
      "[I 2023-08-24 16:52:02,091] Trial 13 finished with value: 0.026846590042114257 and parameters: {'n_layers': 10, 'n_units_l0': 10, 'dropout_0': 0.42270779890078664, 'n_units_l1': 7, 'dropout_1': 0.681123600207855, 'n_units_l2': 25, 'dropout_2': 0.6880949557858901, 'n_units_l3': 13, 'dropout_3': 0.49838976551411796, 'n_units_l4': 25, 'dropout_4': 0.14961603795404815, 'n_units_l5': 2, 'dropout_5': 0.6533233665288714, 'n_units_l6': 25, 'dropout_6': 0.10813980079212758, 'n_units_l7': 25, 'dropout_7': 0.10648862963259016, 'n_units_l8': 25, 'dropout_8': 0.13191361144126065, 'n_units_l9': 20, 'dropout_9': 0.6251957484988271, 'learning_rate': 0.03154228585684684, 'optimizer': 'Adam'}. Best is trial 11 with value: 0.02684057705849409.\n",
      "[I 2023-08-24 16:52:18,081] Trial 14 finished with value: 0.026847283490002156 and parameters: {'n_layers': 8, 'n_units_l0': 9, 'dropout_0': 0.4241578347200159, 'n_units_l1': 19, 'dropout_1': 0.6953496878350458, 'n_units_l2': 21, 'dropout_2': 0.3394487814688808, 'n_units_l3': 17, 'dropout_3': 0.49474924237325796, 'n_units_l4': 24, 'dropout_4': 0.15077922820561057, 'n_units_l5': 2, 'dropout_5': 0.672342083888318, 'n_units_l6': 24, 'dropout_6': 0.10817936730287896, 'n_units_l7': 25, 'dropout_7': 0.12521093660310695, 'learning_rate': 0.02863685529060176, 'optimizer': 'Adam'}. Best is trial 11 with value: 0.02684057705849409.\n",
      "[I 2023-08-24 16:52:34,478] Trial 15 finished with value: 0.02688412094861269 and parameters: {'n_layers': 10, 'n_units_l0': 15, 'dropout_0': 0.6929333384302201, 'n_units_l1': 6, 'dropout_1': 0.11906350469346438, 'n_units_l2': 25, 'dropout_2': 0.11056209313255827, 'n_units_l3': 9, 'dropout_3': 0.5652110661219641, 'n_units_l4': 20, 'dropout_4': 0.26030110694520964, 'n_units_l5': 7, 'dropout_5': 0.6968539456989101, 'n_units_l6': 18, 'dropout_6': 0.30286109776825465, 'n_units_l7': 20, 'dropout_7': 0.1027538007431755, 'n_units_l8': 22, 'dropout_8': 0.14893980842457188, 'n_units_l9': 3, 'dropout_9': 0.11706868568299228, 'learning_rate': 0.024913218306090345, 'optimizer': 'Adam'}. Best is trial 11 with value: 0.02684057705849409.\n",
      "[I 2023-08-24 16:52:50,438] Trial 16 finished with value: 0.026851372331380845 and parameters: {'n_layers': 8, 'n_units_l0': 12, 'dropout_0': 0.370663099487932, 'n_units_l1': 12, 'dropout_1': 0.6119197250946735, 'n_units_l2': 19, 'dropout_2': 0.42578559695149426, 'n_units_l3': 19, 'dropout_3': 0.3874358979856607, 'n_units_l4': 20, 'dropout_4': 0.302891481896286, 'n_units_l5': 8, 'dropout_5': 0.5801848821206584, 'n_units_l6': 19, 'dropout_6': 0.21998695917819572, 'n_units_l7': 18, 'dropout_7': 0.2991394050805258, 'learning_rate': 0.04072010250281826, 'optimizer': 'Adam'}. Best is trial 11 with value: 0.02684057705849409.\n",
      "[I 2023-08-24 16:52:50,855] Trial 17 pruned. \n",
      "[I 2023-08-24 16:53:07,186] Trial 18 finished with value: 0.026852422766387468 and parameters: {'n_layers': 9, 'n_units_l0': 17, 'dropout_0': 0.4630038808821674, 'n_units_l1': 9, 'dropout_1': 0.5685042474939213, 'n_units_l2': 15, 'dropout_2': 0.2474397399545787, 'n_units_l3': 20, 'dropout_3': 0.40634410182077585, 'n_units_l4': 17, 'dropout_4': 0.2428946721018884, 'n_units_l5': 7, 'dropout_5': 0.12081707924703028, 'n_units_l6': 25, 'dropout_6': 0.11901435475970251, 'n_units_l7': 19, 'dropout_7': 0.2316625568372115, 'n_units_l8': 15, 'dropout_8': 0.6622674835507671, 'learning_rate': 0.04325456452248275, 'optimizer': 'Adam'}. Best is trial 11 with value: 0.02684057705849409.\n",
      "[I 2023-08-24 16:53:07,598] Trial 19 pruned. \n",
      "[I 2023-08-24 16:53:07,942] Trial 20 pruned. \n",
      "[I 2023-08-24 16:53:24,215] Trial 21 finished with value: 0.026846443988382814 and parameters: {'n_layers': 10, 'n_units_l0': 10, 'dropout_0': 0.42579647276557064, 'n_units_l1': 7, 'dropout_1': 0.6978594959356946, 'n_units_l2': 25, 'dropout_2': 0.6820356449125817, 'n_units_l3': 13, 'dropout_3': 0.47670854992134776, 'n_units_l4': 25, 'dropout_4': 0.10582891745828749, 'n_units_l5': 2, 'dropout_5': 0.686740155451318, 'n_units_l6': 25, 'dropout_6': 0.10003816106855885, 'n_units_l7': 25, 'dropout_7': 0.12041930090936886, 'n_units_l8': 24, 'dropout_8': 0.12349135034294795, 'n_units_l9': 25, 'dropout_9': 0.6921580602465607, 'learning_rate': 0.03428481789072841, 'optimizer': 'Adam'}. Best is trial 11 with value: 0.02684057705849409.\n",
      "[I 2023-08-24 16:53:40,958] Trial 22 finished with value: 0.026846779949963092 and parameters: {'n_layers': 10, 'n_units_l0': 10, 'dropout_0': 0.38888370766159536, 'n_units_l1': 8, 'dropout_1': 0.6514013029033824, 'n_units_l2': 22, 'dropout_2': 0.6369129612556336, 'n_units_l3': 12, 'dropout_3': 0.4030548834400768, 'n_units_l4': 22, 'dropout_4': 0.19191752939727505, 'n_units_l5': 2, 'dropout_5': 0.6901180047065171, 'n_units_l6': 22, 'dropout_6': 0.17294965681591357, 'n_units_l7': 25, 'dropout_7': 0.10267213303518966, 'n_units_l8': 21, 'dropout_8': 0.1087933856105911, 'n_units_l9': 25, 'dropout_9': 0.6971478462851936, 'learning_rate': 0.03403404593626952, 'optimizer': 'Adam'}. Best is trial 11 with value: 0.02684057705849409.\n",
      "[I 2023-08-24 16:53:57,633] Trial 23 finished with value: 0.026848213128745555 and parameters: {'n_layers': 9, 'n_units_l0': 11, 'dropout_0': 0.4725311575453955, 'n_units_l1': 11, 'dropout_1': 0.6323179649980144, 'n_units_l2': 24, 'dropout_2': 0.5966943302723204, 'n_units_l3': 14, 'dropout_3': 0.5993820176184222, 'n_units_l4': 23, 'dropout_4': 0.10082351677463115, 'n_units_l5': 4, 'dropout_5': 0.6139189403474323, 'n_units_l6': 15, 'dropout_6': 0.18429822481724978, 'n_units_l7': 21, 'dropout_7': 0.20263570692997032, 'n_units_l8': 19, 'dropout_8': 0.24860174442873925, 'learning_rate': 0.037555358147695686, 'optimizer': 'Adam'}. Best is trial 11 with value: 0.02684057705849409.\n",
      "[I 2023-08-24 16:54:13,517] Trial 24 finished with value: 0.026831765688955782 and parameters: {'n_layers': 7, 'n_units_l0': 14, 'dropout_0': 0.4194504558483914, 'n_units_l1': 4, 'dropout_1': 0.6760629099548526, 'n_units_l2': 20, 'dropout_2': 0.6205176790237307, 'n_units_l3': 7, 'dropout_3': 0.4585747606694522, 'n_units_l4': 18, 'dropout_4': 0.10267199478677491, 'n_units_l5': 10, 'dropout_5': 0.622211127247568, 'n_units_l6': 22, 'dropout_6': 0.10780764939960924, 'learning_rate': 0.020264106644433136, 'optimizer': 'Adam'}. Best is trial 24 with value: 0.026831765688955782.\n"
     ]
    },
    {
     "name": "stdout",
     "output_type": "stream",
     "text": [
      "Validation Loss: 0.026832429088652136\n",
      "Training Loss: 0.027360832575176443\n"
     ]
    },
    {
     "data": {
      "text/plain": [
       "(0.026832429088652136, 0.027360832575176443)"
      ]
     },
     "execution_count": 16,
     "metadata": {},
     "output_type": "execute_result"
    }
   ],
   "source": [
    "# no accuracy function must be loss for regression\n",
    "if mlp_params.MODEL_TYPE == \"Regression\":\n",
    "    mlp_params.METRIC = \"loss\"\n",
    "    pass\n",
    "\n",
    "sampler = optuna.samplers.TPESampler(seed=0)\n",
    "\n",
    "# wrap the objective function inside of a lambda function to pass args...\n",
    "objective_lambda_func = lambda trial: objective_model_optimizer(\n",
    "    train_loader,\n",
    "    valid_loader,\n",
    "    trial=trial,\n",
    "    params=mlp_params,\n",
    "    metric=mlp_params.METRIC,\n",
    "    return_info=False,\n",
    ")\n",
    "\n",
    "\n",
    "# Study is the object for model optimization\n",
    "study = optuna.create_study(direction=f\"{mlp_params.DIRECTION}\", sampler=sampler)\n",
    "# Here I apply the optimize function of the study to the objective function\n",
    "# This optimizes each parameter specified to be optimized from the defined search space\n",
    "study.optimize(objective_lambda_func, n_trials=mlp_params.N_TRIALS)\n",
    "# Prints out the best trial's optimized parameters\n",
    "objective_model_optimizer(\n",
    "    train_loader,\n",
    "    valid_loader,\n",
    "    trial=study.best_trial,\n",
    "    params=mlp_params,\n",
    "    metric=mlp_params.METRIC,\n",
    "    return_info=True,\n",
    ")"
   ]
  },
  {
   "cell_type": "code",
   "execution_count": 17,
   "id": "b2620589",
   "metadata": {},
   "outputs": [
    {
     "data": {
      "application/vnd.plotly.v1+json": {
       "config": {
        "plotlyServerURL": "https://plot.ly"
       },
       "data": [
        {
         "mode": "markers",
         "name": "Objective Value",
         "type": "scatter",
         "x": [
          0,
          1,
          2,
          3,
          4,
          5,
          9,
          11,
          12,
          13,
          14,
          15,
          16,
          18,
          21,
          22,
          23,
          24
         ],
         "y": [
          0.24172199736535555,
          0.0280871027931571,
          0.1853557058572769,
          0.02690446569770575,
          0.3585107171535491,
          0.0268987470343709,
          0.02685435622930527,
          0.02684057705849409,
          0.02684190382808447,
          0.026846590042114257,
          0.026847283490002156,
          0.02688412094861269,
          0.026851372331380845,
          0.026852422766387468,
          0.026846443988382814,
          0.026846779949963092,
          0.026848213128745555,
          0.026831765688955782
         ]
        },
        {
         "name": "Best Value",
         "type": "scatter",
         "x": [
          0,
          1,
          2,
          3,
          4,
          5,
          9,
          11,
          12,
          13,
          14,
          15,
          16,
          18,
          21,
          22,
          23,
          24
         ],
         "y": [
          0.24172199736535555,
          0.0280871027931571,
          0.0280871027931571,
          0.02690446569770575,
          0.02690446569770575,
          0.0268987470343709,
          0.02685435622930527,
          0.02684057705849409,
          0.02684057705849409,
          0.02684057705849409,
          0.02684057705849409,
          0.02684057705849409,
          0.02684057705849409,
          0.02684057705849409,
          0.02684057705849409,
          0.02684057705849409,
          0.02684057705849409,
          0.026831765688955782
         ]
        }
       ],
       "layout": {
        "template": {
         "data": {
          "bar": [
           {
            "error_x": {
             "color": "#2a3f5f"
            },
            "error_y": {
             "color": "#2a3f5f"
            },
            "marker": {
             "line": {
              "color": "#E5ECF6",
              "width": 0.5
             },
             "pattern": {
              "fillmode": "overlay",
              "size": 10,
              "solidity": 0.2
             }
            },
            "type": "bar"
           }
          ],
          "barpolar": [
           {
            "marker": {
             "line": {
              "color": "#E5ECF6",
              "width": 0.5
             },
             "pattern": {
              "fillmode": "overlay",
              "size": 10,
              "solidity": 0.2
             }
            },
            "type": "barpolar"
           }
          ],
          "carpet": [
           {
            "aaxis": {
             "endlinecolor": "#2a3f5f",
             "gridcolor": "white",
             "linecolor": "white",
             "minorgridcolor": "white",
             "startlinecolor": "#2a3f5f"
            },
            "baxis": {
             "endlinecolor": "#2a3f5f",
             "gridcolor": "white",
             "linecolor": "white",
             "minorgridcolor": "white",
             "startlinecolor": "#2a3f5f"
            },
            "type": "carpet"
           }
          ],
          "choropleth": [
           {
            "colorbar": {
             "outlinewidth": 0,
             "ticks": ""
            },
            "type": "choropleth"
           }
          ],
          "contour": [
           {
            "colorbar": {
             "outlinewidth": 0,
             "ticks": ""
            },
            "colorscale": [
             [
              0,
              "#0d0887"
             ],
             [
              0.1111111111111111,
              "#46039f"
             ],
             [
              0.2222222222222222,
              "#7201a8"
             ],
             [
              0.3333333333333333,
              "#9c179e"
             ],
             [
              0.4444444444444444,
              "#bd3786"
             ],
             [
              0.5555555555555556,
              "#d8576b"
             ],
             [
              0.6666666666666666,
              "#ed7953"
             ],
             [
              0.7777777777777778,
              "#fb9f3a"
             ],
             [
              0.8888888888888888,
              "#fdca26"
             ],
             [
              1,
              "#f0f921"
             ]
            ],
            "type": "contour"
           }
          ],
          "contourcarpet": [
           {
            "colorbar": {
             "outlinewidth": 0,
             "ticks": ""
            },
            "type": "contourcarpet"
           }
          ],
          "heatmap": [
           {
            "colorbar": {
             "outlinewidth": 0,
             "ticks": ""
            },
            "colorscale": [
             [
              0,
              "#0d0887"
             ],
             [
              0.1111111111111111,
              "#46039f"
             ],
             [
              0.2222222222222222,
              "#7201a8"
             ],
             [
              0.3333333333333333,
              "#9c179e"
             ],
             [
              0.4444444444444444,
              "#bd3786"
             ],
             [
              0.5555555555555556,
              "#d8576b"
             ],
             [
              0.6666666666666666,
              "#ed7953"
             ],
             [
              0.7777777777777778,
              "#fb9f3a"
             ],
             [
              0.8888888888888888,
              "#fdca26"
             ],
             [
              1,
              "#f0f921"
             ]
            ],
            "type": "heatmap"
           }
          ],
          "heatmapgl": [
           {
            "colorbar": {
             "outlinewidth": 0,
             "ticks": ""
            },
            "colorscale": [
             [
              0,
              "#0d0887"
             ],
             [
              0.1111111111111111,
              "#46039f"
             ],
             [
              0.2222222222222222,
              "#7201a8"
             ],
             [
              0.3333333333333333,
              "#9c179e"
             ],
             [
              0.4444444444444444,
              "#bd3786"
             ],
             [
              0.5555555555555556,
              "#d8576b"
             ],
             [
              0.6666666666666666,
              "#ed7953"
             ],
             [
              0.7777777777777778,
              "#fb9f3a"
             ],
             [
              0.8888888888888888,
              "#fdca26"
             ],
             [
              1,
              "#f0f921"
             ]
            ],
            "type": "heatmapgl"
           }
          ],
          "histogram": [
           {
            "marker": {
             "pattern": {
              "fillmode": "overlay",
              "size": 10,
              "solidity": 0.2
             }
            },
            "type": "histogram"
           }
          ],
          "histogram2d": [
           {
            "colorbar": {
             "outlinewidth": 0,
             "ticks": ""
            },
            "colorscale": [
             [
              0,
              "#0d0887"
             ],
             [
              0.1111111111111111,
              "#46039f"
             ],
             [
              0.2222222222222222,
              "#7201a8"
             ],
             [
              0.3333333333333333,
              "#9c179e"
             ],
             [
              0.4444444444444444,
              "#bd3786"
             ],
             [
              0.5555555555555556,
              "#d8576b"
             ],
             [
              0.6666666666666666,
              "#ed7953"
             ],
             [
              0.7777777777777778,
              "#fb9f3a"
             ],
             [
              0.8888888888888888,
              "#fdca26"
             ],
             [
              1,
              "#f0f921"
             ]
            ],
            "type": "histogram2d"
           }
          ],
          "histogram2dcontour": [
           {
            "colorbar": {
             "outlinewidth": 0,
             "ticks": ""
            },
            "colorscale": [
             [
              0,
              "#0d0887"
             ],
             [
              0.1111111111111111,
              "#46039f"
             ],
             [
              0.2222222222222222,
              "#7201a8"
             ],
             [
              0.3333333333333333,
              "#9c179e"
             ],
             [
              0.4444444444444444,
              "#bd3786"
             ],
             [
              0.5555555555555556,
              "#d8576b"
             ],
             [
              0.6666666666666666,
              "#ed7953"
             ],
             [
              0.7777777777777778,
              "#fb9f3a"
             ],
             [
              0.8888888888888888,
              "#fdca26"
             ],
             [
              1,
              "#f0f921"
             ]
            ],
            "type": "histogram2dcontour"
           }
          ],
          "mesh3d": [
           {
            "colorbar": {
             "outlinewidth": 0,
             "ticks": ""
            },
            "type": "mesh3d"
           }
          ],
          "parcoords": [
           {
            "line": {
             "colorbar": {
              "outlinewidth": 0,
              "ticks": ""
             }
            },
            "type": "parcoords"
           }
          ],
          "pie": [
           {
            "automargin": true,
            "type": "pie"
           }
          ],
          "scatter": [
           {
            "fillpattern": {
             "fillmode": "overlay",
             "size": 10,
             "solidity": 0.2
            },
            "type": "scatter"
           }
          ],
          "scatter3d": [
           {
            "line": {
             "colorbar": {
              "outlinewidth": 0,
              "ticks": ""
             }
            },
            "marker": {
             "colorbar": {
              "outlinewidth": 0,
              "ticks": ""
             }
            },
            "type": "scatter3d"
           }
          ],
          "scattercarpet": [
           {
            "marker": {
             "colorbar": {
              "outlinewidth": 0,
              "ticks": ""
             }
            },
            "type": "scattercarpet"
           }
          ],
          "scattergeo": [
           {
            "marker": {
             "colorbar": {
              "outlinewidth": 0,
              "ticks": ""
             }
            },
            "type": "scattergeo"
           }
          ],
          "scattergl": [
           {
            "marker": {
             "colorbar": {
              "outlinewidth": 0,
              "ticks": ""
             }
            },
            "type": "scattergl"
           }
          ],
          "scattermapbox": [
           {
            "marker": {
             "colorbar": {
              "outlinewidth": 0,
              "ticks": ""
             }
            },
            "type": "scattermapbox"
           }
          ],
          "scatterpolar": [
           {
            "marker": {
             "colorbar": {
              "outlinewidth": 0,
              "ticks": ""
             }
            },
            "type": "scatterpolar"
           }
          ],
          "scatterpolargl": [
           {
            "marker": {
             "colorbar": {
              "outlinewidth": 0,
              "ticks": ""
             }
            },
            "type": "scatterpolargl"
           }
          ],
          "scatterternary": [
           {
            "marker": {
             "colorbar": {
              "outlinewidth": 0,
              "ticks": ""
             }
            },
            "type": "scatterternary"
           }
          ],
          "surface": [
           {
            "colorbar": {
             "outlinewidth": 0,
             "ticks": ""
            },
            "colorscale": [
             [
              0,
              "#0d0887"
             ],
             [
              0.1111111111111111,
              "#46039f"
             ],
             [
              0.2222222222222222,
              "#7201a8"
             ],
             [
              0.3333333333333333,
              "#9c179e"
             ],
             [
              0.4444444444444444,
              "#bd3786"
             ],
             [
              0.5555555555555556,
              "#d8576b"
             ],
             [
              0.6666666666666666,
              "#ed7953"
             ],
             [
              0.7777777777777778,
              "#fb9f3a"
             ],
             [
              0.8888888888888888,
              "#fdca26"
             ],
             [
              1,
              "#f0f921"
             ]
            ],
            "type": "surface"
           }
          ],
          "table": [
           {
            "cells": {
             "fill": {
              "color": "#EBF0F8"
             },
             "line": {
              "color": "white"
             }
            },
            "header": {
             "fill": {
              "color": "#C8D4E3"
             },
             "line": {
              "color": "white"
             }
            },
            "type": "table"
           }
          ]
         },
         "layout": {
          "annotationdefaults": {
           "arrowcolor": "#2a3f5f",
           "arrowhead": 0,
           "arrowwidth": 1
          },
          "autotypenumbers": "strict",
          "coloraxis": {
           "colorbar": {
            "outlinewidth": 0,
            "ticks": ""
           }
          },
          "colorscale": {
           "diverging": [
            [
             0,
             "#8e0152"
            ],
            [
             0.1,
             "#c51b7d"
            ],
            [
             0.2,
             "#de77ae"
            ],
            [
             0.3,
             "#f1b6da"
            ],
            [
             0.4,
             "#fde0ef"
            ],
            [
             0.5,
             "#f7f7f7"
            ],
            [
             0.6,
             "#e6f5d0"
            ],
            [
             0.7,
             "#b8e186"
            ],
            [
             0.8,
             "#7fbc41"
            ],
            [
             0.9,
             "#4d9221"
            ],
            [
             1,
             "#276419"
            ]
           ],
           "sequential": [
            [
             0,
             "#0d0887"
            ],
            [
             0.1111111111111111,
             "#46039f"
            ],
            [
             0.2222222222222222,
             "#7201a8"
            ],
            [
             0.3333333333333333,
             "#9c179e"
            ],
            [
             0.4444444444444444,
             "#bd3786"
            ],
            [
             0.5555555555555556,
             "#d8576b"
            ],
            [
             0.6666666666666666,
             "#ed7953"
            ],
            [
             0.7777777777777778,
             "#fb9f3a"
            ],
            [
             0.8888888888888888,
             "#fdca26"
            ],
            [
             1,
             "#f0f921"
            ]
           ],
           "sequentialminus": [
            [
             0,
             "#0d0887"
            ],
            [
             0.1111111111111111,
             "#46039f"
            ],
            [
             0.2222222222222222,
             "#7201a8"
            ],
            [
             0.3333333333333333,
             "#9c179e"
            ],
            [
             0.4444444444444444,
             "#bd3786"
            ],
            [
             0.5555555555555556,
             "#d8576b"
            ],
            [
             0.6666666666666666,
             "#ed7953"
            ],
            [
             0.7777777777777778,
             "#fb9f3a"
            ],
            [
             0.8888888888888888,
             "#fdca26"
            ],
            [
             1,
             "#f0f921"
            ]
           ]
          },
          "colorway": [
           "#636efa",
           "#EF553B",
           "#00cc96",
           "#ab63fa",
           "#FFA15A",
           "#19d3f3",
           "#FF6692",
           "#B6E880",
           "#FF97FF",
           "#FECB52"
          ],
          "font": {
           "color": "#2a3f5f"
          },
          "geo": {
           "bgcolor": "white",
           "lakecolor": "white",
           "landcolor": "#E5ECF6",
           "showlakes": true,
           "showland": true,
           "subunitcolor": "white"
          },
          "hoverlabel": {
           "align": "left"
          },
          "hovermode": "closest",
          "mapbox": {
           "style": "light"
          },
          "paper_bgcolor": "white",
          "plot_bgcolor": "#E5ECF6",
          "polar": {
           "angularaxis": {
            "gridcolor": "white",
            "linecolor": "white",
            "ticks": ""
           },
           "bgcolor": "#E5ECF6",
           "radialaxis": {
            "gridcolor": "white",
            "linecolor": "white",
            "ticks": ""
           }
          },
          "scene": {
           "xaxis": {
            "backgroundcolor": "#E5ECF6",
            "gridcolor": "white",
            "gridwidth": 2,
            "linecolor": "white",
            "showbackground": true,
            "ticks": "",
            "zerolinecolor": "white"
           },
           "yaxis": {
            "backgroundcolor": "#E5ECF6",
            "gridcolor": "white",
            "gridwidth": 2,
            "linecolor": "white",
            "showbackground": true,
            "ticks": "",
            "zerolinecolor": "white"
           },
           "zaxis": {
            "backgroundcolor": "#E5ECF6",
            "gridcolor": "white",
            "gridwidth": 2,
            "linecolor": "white",
            "showbackground": true,
            "ticks": "",
            "zerolinecolor": "white"
           }
          },
          "shapedefaults": {
           "line": {
            "color": "#2a3f5f"
           }
          },
          "ternary": {
           "aaxis": {
            "gridcolor": "white",
            "linecolor": "white",
            "ticks": ""
           },
           "baxis": {
            "gridcolor": "white",
            "linecolor": "white",
            "ticks": ""
           },
           "bgcolor": "#E5ECF6",
           "caxis": {
            "gridcolor": "white",
            "linecolor": "white",
            "ticks": ""
           }
          },
          "title": {
           "x": 0.05
          },
          "xaxis": {
           "automargin": true,
           "gridcolor": "white",
           "linecolor": "white",
           "ticks": "",
           "title": {
            "standoff": 15
           },
           "zerolinecolor": "white",
           "zerolinewidth": 2
          },
          "yaxis": {
           "automargin": true,
           "gridcolor": "white",
           "linecolor": "white",
           "ticks": "",
           "title": {
            "standoff": 15
           },
           "zerolinecolor": "white",
           "zerolinewidth": 2
          }
         }
        },
        "title": {
         "text": "Optimization History Plot"
        },
        "xaxis": {
         "title": {
          "text": "Trial"
         }
        },
        "yaxis": {
         "title": {
          "text": "Objective Value"
         }
        }
       }
      }
     },
     "metadata": {},
     "output_type": "display_data"
    }
   ],
   "source": [
    "fig = optuna.visualization.plot_optimization_history(study)\n",
    "graph_path = pathlib.Path(f\"../../figures/{params.MODEL_TYPE}/{params.MODEL_NAME}/\")\n",
    "# if path doesn't exist, make path with pathlib\n",
    "graph_path.mkdir(parents=True, exist_ok=True)\n",
    "\n",
    "graph_path = f\"../../figures/{params.MODEL_TYPE}/{params.MODEL_NAME}/plot_optimization_history_graph\"\n",
    "fig.write_image(pathlib.Path(f\"{graph_path}.png\"))\n",
    "fig.show()"
   ]
  },
  {
   "cell_type": "code",
   "execution_count": 18,
   "id": "92103de1",
   "metadata": {},
   "outputs": [
    {
     "data": {
      "application/vnd.plotly.v1+json": {
       "config": {
        "plotlyServerURL": "https://plot.ly"
       },
       "data": [
        {
         "marker": {
          "maxdisplayed": 10
         },
         "mode": "lines+markers",
         "name": "Trial0",
         "type": "scatter",
         "x": [
          0,
          1,
          2,
          3,
          4,
          5,
          6,
          7,
          8,
          9,
          10,
          11,
          12,
          13,
          14,
          15,
          16,
          17,
          18,
          19,
          20,
          21,
          22,
          23,
          24,
          25,
          26,
          27,
          28,
          29,
          30,
          31,
          32,
          33,
          34,
          35,
          36,
          37,
          38,
          39,
          40,
          41,
          42,
          43,
          44,
          45,
          46,
          47,
          48,
          49
         ],
         "y": [
          0.9086390614509583,
          0.7859515190124512,
          0.637779301404953,
          0.5517334580421448,
          0.5000818097591401,
          0.4656243979930878,
          0.4409910491534642,
          0.42248772978782656,
          0.40806942250993516,
          0.3965073627233505,
          0.38702101924202664,
          0.3790839259823164,
          0.3723326064073123,
          0.3665033974817821,
          0.3614067335923513,
          0.3568995982408524,
          0.35286890934495363,
          0.3492224209838443,
          0.34589867340890984,
          0.3428457325696945,
          0.3400071918964386,
          0.33733542561531066,
          0.3348009708135024,
          0.33236335739493367,
          0.33000677204132084,
          0.32770189551206735,
          0.3254373645340955,
          0.3231681012681552,
          0.32085312255497633,
          0.3185073371728261,
          0.3160996304404351,
          0.31359704621136186,
          0.3109846741864175,
          0.30822986364364624,
          0.3053025770187378,
          0.3021828127404054,
          0.2988243564560607,
          0.2952056623603168,
          0.29140329590210545,
          0.2874210067838431,
          0.2832578637614483,
          0.27891838238352823,
          0.27434171126332396,
          0.26962042322213003,
          0.2647979034317865,
          0.26000294102274857,
          0.25524934601593524,
          0.2506067101377994,
          0.24608795808590192,
          0.24172199736535555
         ]
        },
        {
         "marker": {
          "maxdisplayed": 10
         },
         "mode": "lines+markers",
         "name": "Trial1",
         "type": "scatter",
         "x": [
          0,
          1,
          2,
          3,
          4,
          5,
          6,
          7,
          8,
          9,
          10,
          11,
          12,
          13,
          14,
          15,
          16,
          17,
          18,
          19,
          20,
          21,
          22,
          23,
          24,
          25,
          26,
          27,
          28,
          29,
          30,
          31,
          32,
          33,
          34,
          35,
          36,
          37,
          38,
          39,
          40,
          41,
          42,
          43,
          44,
          45,
          46,
          47,
          48,
          49
         ],
         "y": [
          0.05326263457536697,
          0.04104465637356043,
          0.036344375212987265,
          0.03396362438797951,
          0.0325347525626421,
          0.03158285487443209,
          0.030903693714312147,
          0.030395471164956687,
          0.030001418085561855,
          0.02968626402318477,
          0.02943078269335356,
          0.02921867690359552,
          0.029040780033056546,
          0.028892559371888633,
          0.02876607239246368,
          0.028659423789940776,
          0.028569902413908176,
          0.028494137463470307,
          0.02842737640205183,
          0.0283727353066206,
          0.028332758978718807,
          0.028300543518906294,
          0.02827476554590723,
          0.028257107858856517,
          0.028238420113921164,
          0.028228404115025814,
          0.028213802697481933,
          0.028204799496701786,
          0.02819296725351235,
          0.02818791033079227,
          0.028176874523201296,
          0.028168523404747247,
          0.028158869921709552,
          0.0281566598397844,
          0.028149741419724057,
          0.02814472972725828,
          0.02813796918537165,
          0.028136843266455748,
          0.02812941798414939,
          0.028124404726549986,
          0.028119123072885888,
          0.028116836780238724,
          0.028108992635510695,
          0.0281095650555058,
          0.02810442599985335,
          0.02810030726149031,
          0.028095737670330294,
          0.02809350735042244,
          0.02808739932976207,
          0.0280871027931571
         ]
        },
        {
         "marker": {
          "maxdisplayed": 10
         },
         "mode": "lines+markers",
         "name": "Trial2",
         "type": "scatter",
         "x": [
          0,
          1,
          2,
          3,
          4,
          5,
          6,
          7,
          8,
          9,
          10,
          11,
          12,
          13,
          14,
          15,
          16,
          17,
          18,
          19,
          20,
          21,
          22,
          23,
          24,
          25,
          26,
          27,
          28,
          29,
          30,
          31,
          32,
          33,
          34,
          35,
          36,
          37,
          38,
          39,
          40,
          41,
          42,
          43,
          44,
          45,
          46,
          47,
          48,
          49
         ],
         "y": [
          0.32961481213569643,
          0.32531446814537046,
          0.3212463875611623,
          0.31729372441768644,
          0.3134267807006836,
          0.3096238275369008,
          0.30583909749984745,
          0.3020217873156071,
          0.29814731280008955,
          0.29425970673561097,
          0.29040948911146686,
          0.2866251781582832,
          0.2829183039756921,
          0.27929134113448006,
          0.2757424676418304,
          0.27226873151957987,
          0.2688669707845239,
          0.26553401665555104,
          0.2622671883357198,
          0.2590635806322098,
          0.255920820576804,
          0.2528367507186803,
          0.24980962263501205,
          0.24683788518110913,
          0.2439197064638138,
          0.24105385920176142,
          0.2382388422886531,
          0.23547358693821094,
          0.2327569929690197,
          0.2300878730416298,
          0.22746517139096414,
          0.22488786205649375,
          0.22235520563342354,
          0.21986619356800527,
          0.21741993938173568,
          0.2150154997077253,
          0.21265205354303926,
          0.21032894610574368,
          0.20804552000302534,
          0.205801000893116,
          0.20359480726282772,
          0.2014261495499384,
          0.1992945511673772,
          0.1971993035890839,
          0.19513967192835274,
          0.1931150956970194,
          0.1911249855097304,
          0.18916880503917732,
          0.1872459406451303,
          0.1853557058572769
         ]
        },
        {
         "marker": {
          "maxdisplayed": 10
         },
         "mode": "lines+markers",
         "name": "Trial3",
         "type": "scatter",
         "x": [
          0,
          1,
          2,
          3,
          4,
          5,
          6,
          7,
          8,
          9,
          10,
          11,
          12,
          13,
          14,
          15,
          16,
          17,
          18,
          19,
          20,
          21,
          22,
          23,
          24,
          25,
          26,
          27,
          28,
          29,
          30,
          31,
          32,
          33,
          34,
          35,
          36,
          37,
          38,
          39,
          40,
          41,
          42,
          43,
          44,
          45,
          46,
          47,
          48,
          49
         ],
         "y": [
          0.029922429472208023,
          0.028399152122437953,
          0.02786999767025312,
          0.027605280093848706,
          0.02744693771004677,
          0.027341708975533646,
          0.027266823340739522,
          0.02721091639250517,
          0.027167646172973844,
          0.02713321581482887,
          0.02710522518239238,
          0.027082075489064054,
          0.02706265323437177,
          0.02704615340168987,
          0.02703197846810023,
          0.027019678638316693,
          0.027008913150605034,
          0.026999421210752595,
          0.02699099939904715,
          0.02698348540812731,
          0.02697674711900098,
          0.026970675248991362,
          0.02696517880844034,
          0.026960181491449478,
          0.026955619499087334,
          0.026951439420764264,
          0.026947596365654913,
          0.026944052640880862,
          0.026940776638943575,
          0.026937741935253147,
          0.026934926115697432,
          0.026932309940457345,
          0.026929876230882877,
          0.026927608832278672,
          0.02692549231861319,
          0.026923511736094953,
          0.02692165275079173,
          0.026919901988616116,
          0.026918247275245496,
          0.026916678017005324,
          0.026915185398808338,
          0.026913762358682498,
          0.02691240352253581,
          0.026911104978485537,
          0.0269098640150494,
          0.026908678650532074,
          0.026907547420643742,
          0.026906469099534053,
          0.026905442348548345,
          0.02690446569770575
         ]
        },
        {
         "marker": {
          "maxdisplayed": 10
         },
         "mode": "lines+markers",
         "name": "Trial4",
         "type": "scatter",
         "x": [
          0,
          1,
          2,
          3,
          4,
          5,
          6,
          7,
          8,
          9,
          10,
          11,
          12,
          13,
          14,
          15,
          16,
          17,
          18,
          19,
          20,
          21,
          22,
          23,
          24,
          25,
          26,
          27,
          28,
          29,
          30,
          31,
          32,
          33,
          34,
          35,
          36,
          37,
          38,
          39,
          40,
          41,
          42,
          43,
          44,
          45,
          46,
          47,
          48,
          49
         ],
         "y": [
          0.4409206211566925,
          0.4390029966831207,
          0.43710185488065084,
          0.4352131873369217,
          0.4333355736732483,
          0.43146823147932695,
          0.4296102753707341,
          0.42776066064834595,
          0.42591926720407275,
          0.42408621132373814,
          0.4222620194608515,
          0.42044691095749537,
          0.4186407446861268,
          0.4168441142354693,
          0.41505707859992985,
          0.4132797006517649,
          0.41151173745884617,
          0.40975351664755083,
          0.4080051481723786,
          0.40626661092042926,
          0.4045375798429762,
          0.4028182980689136,
          0.40110890554345174,
          0.3994092618425687,
          0.3977192203998565,
          0.3960387505017794,
          0.39436782951708194,
          0.39270655023200174,
          0.39105481978120477,
          0.3894126156965892,
          0.38777993186827636,
          0.38615678083151583,
          0.38454310532772185,
          0.3829388387062971,
          0.3813438791888102,
          0.3797582604818875,
          0.37818185316549774,
          0.37661471476680364,
          0.37505679099987727,
          0.37350797951221465,
          0.37196817092779205,
          0.3704374297743752,
          0.3689157474872678,
          0.36740296930074695,
          0.3658990360630883,
          0.3644039560919223,
          0.36291762666499366,
          0.36144000217318534,
          0.359971072357528,
          0.3585107171535491
         ]
        },
        {
         "marker": {
          "maxdisplayed": 10
         },
         "mode": "lines+markers",
         "name": "Trial5",
         "type": "scatter",
         "x": [
          0,
          1,
          2,
          3,
          4,
          5,
          6,
          7,
          8,
          9,
          10,
          11,
          12,
          13,
          14,
          15,
          16,
          17,
          18,
          19,
          20,
          21,
          22,
          23,
          24,
          25,
          26,
          27,
          28,
          29,
          30,
          31,
          32,
          33,
          34,
          35,
          36,
          37,
          38,
          39,
          40,
          41,
          42,
          43,
          44,
          45,
          46,
          47,
          48,
          49
         ],
         "y": [
          0.029937314614653588,
          0.028778448514640332,
          0.028238980223735177,
          0.02792334072291851,
          0.027712806165218352,
          0.027565502127011615,
          0.027459544582026343,
          0.027377906255424023,
          0.027314052109917004,
          0.027262936793267727,
          0.027221068604425955,
          0.027186156747241817,
          0.027156611216756017,
          0.027131299009280546,
          0.02710937716066837,
          0.027090211538597943,
          0.027073316188419568,
          0.027058312938445146,
          0.027044903290899175,
          0.02703284850344062,
          0.02702195536167849,
          0.0270120658827099,
          0.02700304962370707,
          0.0269947979444017,
          0.026987219616770742,
          0.026980237404887492,
          0.026973785487590014,
          0.026967807380216462,
          0.026962254350555357,
          0.026957084139188132,
          0.026952259807336718,
          0.02694774903357029,
          0.02694352338034095,
          0.026939557689954253,
          0.026935829775674006,
          0.026932319750388466,
          0.026929009977627448,
          0.026925884569553957,
          0.026922929430237188,
          0.026920131845399743,
          0.02691748025940686,
          0.02691496421716043,
          0.026912574348754666,
          0.0269103020768274,
          0.02690813964439763,
          0.026906079936610615,
          0.026904116499614206,
          0.026902243417377274,
          0.026900455256809994,
          0.0268987470343709
         ]
        },
        {
         "marker": {
          "maxdisplayed": 10
         },
         "mode": "lines+markers",
         "name": "Trial6",
         "type": "scatter",
         "x": [
          0
         ],
         "y": [
          0.28308026790618895
         ]
        },
        {
         "marker": {
          "maxdisplayed": 10
         },
         "mode": "lines+markers",
         "name": "Trial7",
         "type": "scatter",
         "x": [
          0
         ],
         "y": [
          1.419012761116028
         ]
        },
        {
         "marker": {
          "maxdisplayed": 10
         },
         "mode": "lines+markers",
         "name": "Trial8",
         "type": "scatter",
         "x": [
          0
         ],
         "y": [
          0.23271843492984773
         ]
        },
        {
         "marker": {
          "maxdisplayed": 10
         },
         "mode": "lines+markers",
         "name": "Trial9",
         "type": "scatter",
         "x": [
          0,
          1,
          2,
          3,
          4,
          5,
          6,
          7,
          8,
          9,
          10,
          11,
          12,
          13,
          14,
          15,
          16,
          17,
          18,
          19,
          20,
          21,
          22,
          23,
          24,
          25,
          26,
          27,
          28,
          29,
          30,
          31,
          32,
          33,
          34,
          35,
          36,
          37,
          38,
          39,
          40,
          41,
          42,
          43,
          44,
          45,
          46,
          47,
          48,
          49
         ],
         "y": [
          0.028322339057922363,
          0.027817153558135032,
          0.027512383212645847,
          0.027343125082552433,
          0.02723571673035622,
          0.027163681325813135,
          0.02711217563067164,
          0.027073608897626403,
          0.02704367397560014,
          0.027019777335226543,
          0.027000270614569843,
          0.026984056457877163,
          0.02697037575909725,
          0.02695868592709303,
          0.026948588887850445,
          0.02693978571332991,
          0.02693204748279908,
          0.026925195732878313,
          0.026919089316537508,
          0.0269136150367558,
          0.02690868116915226,
          0.0269042126157067,
          0.026900147484696428,
          0.026896434401472408,
          0.02689303036034107,
          0.026889899244102147,
          0.026887010479414906,
          0.026884337966995582,
          0.02688185932307408,
          0.026879555235306423,
          0.026877409015451707,
          0.026875406107865273,
          0.02687353380024433,
          0.026871780886807865,
          0.026870137538228717,
          0.026868594996631148,
          0.026867145501278545,
          0.026865781971106405,
          0.026864498395186204,
          0.026863289084285497,
          0.02686214889513283,
          0.02686107324525004,
          0.026860057926455207,
          0.026859099130061535,
          0.026858193344540062,
          0.02685733738800753,
          0.026856528325600825,
          0.026855763428223628,
          0.02685504016675511,
          0.02685435622930527
         ]
        },
        {
         "marker": {
          "maxdisplayed": 10
         },
         "mode": "lines+markers",
         "name": "Trial10",
         "type": "scatter",
         "x": [
          0
         ],
         "y": [
          0.06681105494499207
         ]
        },
        {
         "marker": {
          "maxdisplayed": 10
         },
         "mode": "lines+markers",
         "name": "Trial11",
         "type": "scatter",
         "x": [
          0,
          1,
          2,
          3,
          4,
          5,
          6,
          7,
          8,
          9,
          10,
          11,
          12,
          13,
          14,
          15,
          16,
          17,
          18,
          19,
          20,
          21,
          22,
          23,
          24,
          25,
          26,
          27,
          28,
          29,
          30,
          31,
          32,
          33,
          34,
          35,
          36,
          37,
          38,
          39,
          40,
          41,
          42,
          43,
          44,
          45,
          46,
          47,
          48,
          49
         ],
         "y": [
          0.027114909887313843,
          0.027026314847171308,
          0.026969227815667785,
          0.02694495478644967,
          0.026921626105904577,
          0.026907228305935862,
          0.026893749513796396,
          0.02688380731269717,
          0.02687611045936743,
          0.026869856044650076,
          0.026864847202192652,
          0.02686075577512383,
          0.02685751722982296,
          0.026855244381087162,
          0.026853235314289726,
          0.026851467345841228,
          0.026849833415711625,
          0.02684806351446443,
          0.026846464997843694,
          0.026845082212239506,
          0.026843875345020068,
          0.02684281849387017,
          0.02684189827869768,
          0.026841101003810763,
          0.02684041513502598,
          0.026839831070258065,
          0.026839339719326408,
          0.02683893207992826,
          0.026838600982365936,
          0.02683833885937929,
          0.02683813931240189,
          0.026837996253743765,
          0.02683790402882027,
          0.026837857889340205,
          0.026837853150708333,
          0.02683788606276115,
          0.02683795256590521,
          0.026838049321974575,
          0.02683817330652322,
          0.026838321508839726,
          0.02683849127554312,
          0.026838679860035578,
          0.02683888467591862,
          0.026839103219522667,
          0.026839333218004965,
          0.0268395721912384,
          0.026839818028693497,
          0.02684006869482497,
          0.026840322282241313,
          0.02684057705849409
         ]
        },
        {
         "marker": {
          "maxdisplayed": 10
         },
         "mode": "lines+markers",
         "name": "Trial12",
         "type": "scatter",
         "x": [
          0,
          1,
          2,
          3,
          4,
          5,
          6,
          7,
          8,
          9,
          10,
          11,
          12,
          13,
          14,
          15,
          16,
          17,
          18,
          19,
          20,
          21,
          22,
          23,
          24,
          25,
          26,
          27,
          28,
          29,
          30,
          31,
          32,
          33,
          34,
          35,
          36,
          37,
          38,
          39,
          40,
          41,
          42,
          43,
          44,
          45,
          46,
          47,
          48,
          49
         ],
         "y": [
          0.027254285663366316,
          0.027036798372864723,
          0.02696297156314055,
          0.026926351524889466,
          0.02690350607037544,
          0.02688823584467172,
          0.026877481490373608,
          0.026869333954527973,
          0.026863205805420873,
          0.026858346126973624,
          0.02685449607670307,
          0.026851303440829116,
          0.026848631896651706,
          0.026846454665064808,
          0.026844647352894144,
          0.026843159901909528,
          0.02684196829795837,
          0.026840968864659465,
          0.026840136631538992,
          0.026839462872594595,
          0.026838964472214382,
          0.02683851969513026,
          0.026838170234923776,
          0.026837904533992207,
          0.026837715759873388,
          0.02683759444894699,
          0.026837533215681712,
          0.026837524851518017,
          0.02683756309079713,
          0.026837641907234984,
          0.02683775858773339,
          0.026837903249543157,
          0.026838073382774986,
          0.026838264866348573,
          0.02683847370956625,
          0.026838696054700344,
          0.026838928340254597,
          0.026839167379627098,
          0.0268394103894631,
          0.026839654957875613,
          0.026839899135435503,
          0.026840141318028882,
          0.02684038025868494,
          0.02684061492539265,
          0.026840844651063286,
          0.026841068842812725,
          0.026841287116738072,
          0.02684149918301652,
          0.026841704790689508,
          0.02684190382808447
         ]
        },
        {
         "marker": {
          "maxdisplayed": 10
         },
         "mode": "lines+markers",
         "name": "Trial13",
         "type": "scatter",
         "x": [
          0,
          1,
          2,
          3,
          4,
          5,
          6,
          7,
          8,
          9,
          10,
          11,
          12,
          13,
          14,
          15,
          16,
          17,
          18,
          19,
          20,
          21,
          22,
          23,
          24,
          25,
          26,
          27,
          28,
          29,
          30,
          31,
          32,
          33,
          34,
          35,
          36,
          37,
          38,
          39,
          40,
          41,
          42,
          43,
          44,
          45,
          46,
          47,
          48,
          49
         ],
         "y": [
          0.0270760465413332,
          0.026944930106401442,
          0.02689925730228424,
          0.02687662187963724,
          0.026863412410020826,
          0.02685499706616004,
          0.02684935703873634,
          0.02684542373754084,
          0.02684258156352573,
          0.026840472854673864,
          0.026838896592909642,
          0.026837733418991167,
          0.026836899094856703,
          0.026836325813617026,
          0.02683595744272073,
          0.02683574929833412,
          0.02683566683793769,
          0.02683568305025498,
          0.0268357764929533,
          0.02683593027293682,
          0.026836131637295087,
          0.026836371354081415,
          0.026836642801113753,
          0.026836940925568344,
          0.02683726155757904,
          0.026837601226109724,
          0.02683795678118864,
          0.026838325629276884,
          0.02683870550887338,
          0.02683909447242816,
          0.02683949079965391,
          0.026839892938733102,
          0.026840299435637215,
          0.026840708843048882,
          0.026841119740690506,
          0.026841530741916766,
          0.02684194033814443,
          0.02684234702273419,
          0.02684274938626167,
          0.026843146048486234,
          0.026843535654791972,
          0.026843917156968797,
          0.026844289595651074,
          0.026844652157954195,
          0.02684500422742632,
          0.02684534521692473,
          0.02684567466061166,
          0.026845992154752214,
          0.026846297343774715,
          0.026846590042114257
         ]
        },
        {
         "marker": {
          "maxdisplayed": 10
         },
         "mode": "lines+markers",
         "name": "Trial14",
         "type": "scatter",
         "x": [
          0,
          1,
          2,
          3,
          4,
          5,
          6,
          7,
          8,
          9,
          10,
          11,
          12,
          13,
          14,
          15,
          16,
          17,
          18,
          19,
          20,
          21,
          22,
          23,
          24,
          25,
          26,
          27,
          28,
          29,
          30,
          31,
          32,
          33,
          34,
          35,
          36,
          37,
          38,
          39,
          40,
          41,
          42,
          43,
          44,
          45,
          46,
          47,
          48,
          49
         ],
         "y": [
          0.02739361599087715,
          0.027123224735260007,
          0.027023476610581076,
          0.02697220845147967,
          0.026941586211323736,
          0.02692072863380114,
          0.026905912639839307,
          0.02689579934813082,
          0.026887389438019858,
          0.026880359649658202,
          0.02687466147948395,
          0.026869638419399655,
          0.026865443042837653,
          0.026861908526292867,
          0.026858909428119658,
          0.02685634903609753,
          0.0268541543141884,
          0.026852270070877343,
          0.026850653224085506,
          0.02684926882386208,
          0.026848088754784494,
          0.026847088844938714,
          0.02684624904523725,
          0.026845552617063128,
          0.026844984218478203,
          0.02684453086784253,
          0.026844180306350742,
          0.026843921015305177,
          0.02684374247388593,
          0.02684363505492608,
          0.02684359048162737,
          0.0268436009879224,
          0.026843659794240284,
          0.026843760578947908,
          0.02684389745550496,
          0.026844064715421858,
          0.02684425696529246,
          0.026844468938284797,
          0.026844695812234507,
          0.026844933163374662,
          0.02684517703586962,
          0.026845424019155045,
          0.026845671401120895,
          0.02684591682627797,
          0.02684615875283877,
          0.026846395813576555,
          0.026846627304528626,
          0.026846852619200945,
          0.026847071451496105,
          0.026847283490002156
         ]
        },
        {
         "marker": {
          "maxdisplayed": 10
         },
         "mode": "lines+markers",
         "name": "Trial15",
         "type": "scatter",
         "x": [
          0,
          1,
          2,
          3,
          4,
          5,
          6,
          7,
          8,
          9,
          10,
          11,
          12,
          13,
          14,
          15,
          16,
          17,
          18,
          19,
          20,
          21,
          22,
          23,
          24,
          25,
          26,
          27,
          28,
          29,
          30,
          31,
          32,
          33,
          34,
          35,
          36,
          37,
          38,
          39,
          40,
          41,
          42,
          43,
          44,
          45,
          46,
          47,
          48,
          49
         ],
         "y": [
          0.02940400578081608,
          0.028225375339388847,
          0.027781452362736065,
          0.027545690443366765,
          0.02739965096116066,
          0.027302062325179576,
          0.027232221673641886,
          0.027179834945127365,
          0.027139341251717672,
          0.027106899656355377,
          0.027080425518480212,
          0.027058420547594626,
          0.027039852251227087,
          0.027023984890963353,
          0.027010280887285867,
          0.026998338429257272,
          0.026987850622219197,
          0.02697857833570904,
          0.026970331841393518,
          0.026962958313524722,
          0.026956333184526077,
          0.02695035346868363,
          0.026944933523950367,
          0.02694000126793981,
          0.026935495957732206,
          0.02693136593756768,
          0.02692756710780992,
          0.02692406182842596,
          0.02692081774103231,
          0.026917807087302216,
          0.02691500582281621,
          0.026912393094971777,
          0.026909950827107287,
          0.026907663091140635,
          0.026905515832560404,
          0.02690349655846755,
          0.026901594126546705,
          0.02689979861637479,
          0.026898101096351937,
          0.026896493611857298,
          0.02689496903884702,
          0.02689352102932476,
          0.026892143860459333,
          0.026890832473608583,
          0.026889582268065877,
          0.026888389213253622,
          0.026887249653326704,
          0.026886160330226023,
          0.026885118297472293,
          0.02688412094861269
         ]
        },
        {
         "marker": {
          "maxdisplayed": 10
         },
         "mode": "lines+markers",
         "name": "Trial16",
         "type": "scatter",
         "x": [
          0,
          1,
          2,
          3,
          4,
          5,
          6,
          7,
          8,
          9,
          10,
          11,
          12,
          13,
          14,
          15,
          16,
          17,
          18,
          19,
          20,
          21,
          22,
          23,
          24,
          25,
          26,
          27,
          28,
          29,
          30,
          31,
          32,
          33,
          34,
          35,
          36,
          37,
          38,
          39,
          40,
          41,
          42,
          43,
          44,
          45,
          46,
          47,
          48,
          49
         ],
         "y": [
          0.026950715482234953,
          0.02689237557351589,
          0.026865080123146378,
          0.02685260334983468,
          0.026845847666263578,
          0.026842005861302216,
          0.026839820774538177,
          0.02683862904086709,
          0.026838026444117227,
          0.026837786100804804,
          0.02683776528997855,
          0.02683786498382688,
          0.026838026052484146,
          0.026838220336607526,
          0.02683843697110812,
          0.02683867195155472,
          0.026838923618197442,
          0.026839191942579218,
          0.026839477392403707,
          0.026839781496673827,
          0.02684010221135049,
          0.026840440590273254,
          0.026840796013889112,
          0.02684116809008022,
          0.02684155601263046,
          0.02684195858354752,
          0.02684237384409816,
          0.02684279923726405,
          0.02684323151820692,
          0.026843667452534033,
          0.02684410394680115,
          0.026844538247678428,
          0.026844968364545793,
          0.026845393077853847,
          0.026845811679959294,
          0.026846224048899275,
          0.026846630277263146,
          0.026847030634158532,
          0.026847425351540243,
          0.026847814628854393,
          0.026848198518883887,
          0.026848577051645235,
          0.0268489500724299,
          0.026849317330528387,
          0.026849678473340136,
          0.02685003302505482,
          0.026850380383907475,
          0.026850719881864885,
          0.02685105077618239,
          0.026851372331380845
         ]
        },
        {
         "marker": {
          "maxdisplayed": 10
         },
         "mode": "lines+markers",
         "name": "Trial17",
         "type": "scatter",
         "x": [
          0
         ],
         "y": [
          0.3471714437007904
         ]
        },
        {
         "marker": {
          "maxdisplayed": 10
         },
         "mode": "lines+markers",
         "name": "Trial18",
         "type": "scatter",
         "x": [
          0,
          1,
          2,
          3,
          4,
          5,
          6,
          7,
          8,
          9,
          10,
          11,
          12,
          13,
          14,
          15,
          16,
          17,
          18,
          19,
          20,
          21,
          22,
          23,
          24,
          25,
          26,
          27,
          28,
          29,
          30,
          31,
          32,
          33,
          34,
          35,
          36,
          37,
          38,
          39,
          40,
          41,
          42,
          43,
          44,
          45,
          46,
          47,
          48,
          49
         ],
         "y": [
          0.027073604613542558,
          0.026946519128978254,
          0.026902113606532413,
          0.026880767568945883,
          0.026868367567658424,
          0.026860471690694488,
          0.026855311170220376,
          0.02685191603377461,
          0.02684965319931507,
          0.026848138235509394,
          0.02684713876382871,
          0.0268465227757891,
          0.02684620120204412,
          0.02684610158737217,
          0.026846162204941116,
          0.026846330566331744,
          0.026846564407734308,
          0.02684683094008101,
          0.026847106473226294,
          0.026847376488149166,
          0.026847634659636587,
          0.026847880502993412,
          0.0268481164522793,
          0.02684834570003053,
          0.026848570913076405,
          0.026848793918123618,
          0.026849015691766037,
          0.026849236405853717,
          0.0268494557332376,
          0.02684967271983624,
          0.02684988602995873,
          0.02685009390115738,
          0.026850294400796747,
          0.026850485626389003,
          0.026850666073816164,
          0.026850834830353658,
          0.026850991716256014,
          0.026851137237329237,
          0.02685127227734297,
          0.02685139806941152,
          0.02685151598984149,
          0.026851627416908747,
          0.026851733695975575,
          0.026851836067031735,
          0.026851935659845675,
          0.026852033416862077,
          0.026852130176539122,
          0.026852226754029596,
          0.026852323981572175,
          0.026852422766387468
         ]
        },
        {
         "marker": {
          "maxdisplayed": 10
         },
         "mode": "lines+markers",
         "name": "Trial19",
         "type": "scatter",
         "x": [
          0
         ],
         "y": [
          0.03800686299800873
         ]
        },
        {
         "marker": {
          "maxdisplayed": 10
         },
         "mode": "lines+markers",
         "name": "Trial20",
         "type": "scatter",
         "x": [
          0
         ],
         "y": [
          0.2691416323184967
         ]
        },
        {
         "marker": {
          "maxdisplayed": 10
         },
         "mode": "lines+markers",
         "name": "Trial21",
         "type": "scatter",
         "x": [
          0,
          1,
          2,
          3,
          4,
          5,
          6,
          7,
          8,
          9,
          10,
          11,
          12,
          13,
          14,
          15,
          16,
          17,
          18,
          19,
          20,
          21,
          22,
          23,
          24,
          25,
          26,
          27,
          28,
          29,
          30,
          31,
          32,
          33,
          34,
          35,
          36,
          37,
          38,
          39,
          40,
          41,
          42,
          43,
          44,
          45,
          46,
          47,
          48,
          49
         ],
         "y": [
          0.027033333852887153,
          0.02692285515367985,
          0.026884744192163152,
          0.026866716891527177,
          0.02685666263103485,
          0.026850443271299203,
          0.026846256160310337,
          0.02684324337169528,
          0.026840988339649305,
          0.026839281953871252,
          0.026837994598529556,
          0.02683702763170004,
          0.026836307232196512,
          0.026835782107497964,
          0.02683541772266229,
          0.02683518901467323,
          0.02683507532757871,
          0.026835058339767983,
          0.026835121332030545,
          0.026835249830037357,
          0.026835431885861218,
          0.02683565787632357,
          0.026835920483521795,
          0.026836214323217672,
          0.026836535468697548,
          0.02683688084093424,
          0.026837247596294793,
          0.02683763312441962,
          0.026838034930927998,
          0.02683845058083534,
          0.026838877700990246,
          0.026839313900563867,
          0.026839756841460862,
          0.026840204077170172,
          0.026840653185333522,
          0.02684110173334678,
          0.02684154745090652,
          0.026841978336635385,
          0.026842414482663834,
          0.026842840909957887,
          0.026843256485171437,
          0.026843660910214697,
          0.026844053308284557,
          0.0268444330685518,
          0.02684479990767108,
          0.02684515381798796,
          0.026845494895539383,
          0.026845823422384757,
          0.02684613971837929,
          0.026846443988382814
         ]
        },
        {
         "marker": {
          "maxdisplayed": 10
         },
         "mode": "lines+markers",
         "name": "Trial22",
         "type": "scatter",
         "x": [
          0,
          1,
          2,
          3,
          4,
          5,
          6,
          7,
          8,
          9,
          10,
          11,
          12,
          13,
          14,
          15,
          16,
          17,
          18,
          19,
          20,
          21,
          22,
          23,
          24,
          25,
          26,
          27,
          28,
          29,
          30,
          31,
          32,
          33,
          34,
          35,
          36,
          37,
          38,
          39,
          40,
          41,
          42,
          43,
          44,
          45,
          46,
          47,
          48,
          49
         ],
         "y": [
          0.026989686116576195,
          0.026903720945119856,
          0.0268727487574021,
          0.026857903320342304,
          0.02684944286942482,
          0.02684405768911044,
          0.026840381537164965,
          0.026837824378162622,
          0.02683606930077076,
          0.02683489341288805,
          0.02683413380926306,
          0.026833682072659334,
          0.0268334688188938,
          0.026833445339330606,
          0.02683357064922651,
          0.02683380574453622,
          0.026834114947739768,
          0.0268344693713718,
          0.026834848170217716,
          0.026835238039493566,
          0.026835631561421214,
          0.026836025173013863,
          0.026836417874564294,
          0.02683681044727564,
          0.026837205186486246,
          0.026837604922743948,
          0.026838012743327356,
          0.02683843089533704,
          0.026838860609408086,
          0.026839301635821662,
          0.026839752375118195,
          0.026840210007503626,
          0.026840670993833828,
          0.02684113151010345,
          0.026841587892600466,
          0.026842036874343948,
          0.026842475642223612,
          0.026842901983151306,
          0.026843314092510784,
          0.026843710662797095,
          0.02684409079573503,
          0.02684445398017054,
          0.02684480009903741,
          0.026845129282975732,
          0.026845441866252148,
          0.026845738486103384,
          0.026846019804794733,
          0.026846286615667247,
          0.02684653972332575,
          0.026846779949963092
         ]
        },
        {
         "marker": {
          "maxdisplayed": 10
         },
         "mode": "lines+markers",
         "name": "Trial23",
         "type": "scatter",
         "x": [
          0,
          1,
          2,
          3,
          4,
          5,
          6,
          7,
          8,
          9,
          10,
          11,
          12,
          13,
          14,
          15,
          16,
          17,
          18,
          19,
          20,
          21,
          22,
          23,
          24,
          25,
          26,
          27,
          28,
          29,
          30,
          31,
          32,
          33,
          34,
          35,
          36,
          37,
          38,
          39,
          40,
          41,
          42,
          43,
          44,
          45,
          46,
          47,
          48,
          49
         ],
         "y": [
          0.027165218815207483,
          0.026991263031959534,
          0.02693127108116945,
          0.026901553478091957,
          0.026883970722556116,
          0.026872450982530913,
          0.02686435314161437,
          0.026858409913256765,
          0.02685394398868084,
          0.026850547529757025,
          0.02684795243496245,
          0.026845966496815286,
          0.02684444174743616,
          0.02684326169214079,
          0.02684233754873276,
          0.026841605803929268,
          0.026841024550444938,
          0.02684056767159038,
          0.02684021843107123,
          0.026839964836835862,
          0.026839796737546013,
          0.026839704540642825,
          0.026839679560583567,
          0.026839714574938018,
          0.026839803606271743,
          0.026839942184205236,
          0.0268401262798795,
          0.026840352147285425,
          0.026840615799200943,
          0.02684091296046972,
          0.026841239222595764,
          0.026841589948162436,
          0.02684196052000378,
          0.02684234657927471,
          0.026842743956616948,
          0.02684314881140987,
          0.02684355761755157,
          0.026843967239715546,
          0.026844374921459416,
          0.026844778275117283,
          0.02684517503693337,
          0.026845563300663518,
          0.02684594141535981,
          0.02684630791402676,
          0.026846661625636953,
          0.026847001561976,
          0.026847327032938916,
          0.02684763761547705,
          0.026847932981897374,
          0.026848213128745555
         ]
        },
        {
         "marker": {
          "maxdisplayed": 10
         },
         "mode": "lines+markers",
         "name": "Trial24",
         "type": "scatter",
         "x": [
          0,
          1,
          2,
          3,
          4,
          5,
          6,
          7,
          8,
          9,
          10,
          11,
          12,
          13,
          14,
          15,
          16,
          17,
          18,
          19,
          20,
          21,
          22,
          23,
          24,
          25,
          26,
          27,
          28,
          29,
          30,
          31,
          32,
          33,
          34,
          35,
          36,
          37,
          38,
          39,
          40,
          41,
          42,
          43,
          44,
          45,
          46,
          47,
          48,
          49
         ],
         "y": [
          0.027098751068115233,
          0.026958233304321767,
          0.026916397983829183,
          0.026893100421875718,
          0.026877589449286466,
          0.026866564154624944,
          0.026858517048614368,
          0.026852859929203988,
          0.02684863694012165,
          0.026844830326735975,
          0.026841761070218958,
          0.026839178086568913,
          0.026837036328820084,
          0.0268352304452232,
          0.026833686083555228,
          0.026832377142272892,
          0.0268312488189515,
          0.026830286718904976,
          0.026829488124502338,
          0.02682887818664313,
          0.026828338791217127,
          0.026827861961315983,
          0.0268274795587944,
          0.026827208123480283,
          0.02682701209187508,
          0.02682683783081862,
          0.026826719015284824,
          0.026826656410204517,
          0.026826643031732794,
          0.026826677583158022,
          0.026826753118826503,
          0.026826868206262587,
          0.026827016551837776,
          0.026827193435062378,
          0.026827395473207744,
          0.026827619328267042,
          0.02682786189221047,
          0.026828120227314928,
          0.0268283917544744,
          0.026828674096614123,
          0.026828965244860184,
          0.026829263426008682,
          0.026829567144429963,
          0.026829875175925822,
          0.02683018642995093,
          0.026830500105152966,
          0.0268308154683798,
          0.02683113187085837,
          0.026831448777597775,
          0.026831765688955782
         ]
        }
       ],
       "layout": {
        "showlegend": false,
        "template": {
         "data": {
          "bar": [
           {
            "error_x": {
             "color": "#2a3f5f"
            },
            "error_y": {
             "color": "#2a3f5f"
            },
            "marker": {
             "line": {
              "color": "#E5ECF6",
              "width": 0.5
             },
             "pattern": {
              "fillmode": "overlay",
              "size": 10,
              "solidity": 0.2
             }
            },
            "type": "bar"
           }
          ],
          "barpolar": [
           {
            "marker": {
             "line": {
              "color": "#E5ECF6",
              "width": 0.5
             },
             "pattern": {
              "fillmode": "overlay",
              "size": 10,
              "solidity": 0.2
             }
            },
            "type": "barpolar"
           }
          ],
          "carpet": [
           {
            "aaxis": {
             "endlinecolor": "#2a3f5f",
             "gridcolor": "white",
             "linecolor": "white",
             "minorgridcolor": "white",
             "startlinecolor": "#2a3f5f"
            },
            "baxis": {
             "endlinecolor": "#2a3f5f",
             "gridcolor": "white",
             "linecolor": "white",
             "minorgridcolor": "white",
             "startlinecolor": "#2a3f5f"
            },
            "type": "carpet"
           }
          ],
          "choropleth": [
           {
            "colorbar": {
             "outlinewidth": 0,
             "ticks": ""
            },
            "type": "choropleth"
           }
          ],
          "contour": [
           {
            "colorbar": {
             "outlinewidth": 0,
             "ticks": ""
            },
            "colorscale": [
             [
              0,
              "#0d0887"
             ],
             [
              0.1111111111111111,
              "#46039f"
             ],
             [
              0.2222222222222222,
              "#7201a8"
             ],
             [
              0.3333333333333333,
              "#9c179e"
             ],
             [
              0.4444444444444444,
              "#bd3786"
             ],
             [
              0.5555555555555556,
              "#d8576b"
             ],
             [
              0.6666666666666666,
              "#ed7953"
             ],
             [
              0.7777777777777778,
              "#fb9f3a"
             ],
             [
              0.8888888888888888,
              "#fdca26"
             ],
             [
              1,
              "#f0f921"
             ]
            ],
            "type": "contour"
           }
          ],
          "contourcarpet": [
           {
            "colorbar": {
             "outlinewidth": 0,
             "ticks": ""
            },
            "type": "contourcarpet"
           }
          ],
          "heatmap": [
           {
            "colorbar": {
             "outlinewidth": 0,
             "ticks": ""
            },
            "colorscale": [
             [
              0,
              "#0d0887"
             ],
             [
              0.1111111111111111,
              "#46039f"
             ],
             [
              0.2222222222222222,
              "#7201a8"
             ],
             [
              0.3333333333333333,
              "#9c179e"
             ],
             [
              0.4444444444444444,
              "#bd3786"
             ],
             [
              0.5555555555555556,
              "#d8576b"
             ],
             [
              0.6666666666666666,
              "#ed7953"
             ],
             [
              0.7777777777777778,
              "#fb9f3a"
             ],
             [
              0.8888888888888888,
              "#fdca26"
             ],
             [
              1,
              "#f0f921"
             ]
            ],
            "type": "heatmap"
           }
          ],
          "heatmapgl": [
           {
            "colorbar": {
             "outlinewidth": 0,
             "ticks": ""
            },
            "colorscale": [
             [
              0,
              "#0d0887"
             ],
             [
              0.1111111111111111,
              "#46039f"
             ],
             [
              0.2222222222222222,
              "#7201a8"
             ],
             [
              0.3333333333333333,
              "#9c179e"
             ],
             [
              0.4444444444444444,
              "#bd3786"
             ],
             [
              0.5555555555555556,
              "#d8576b"
             ],
             [
              0.6666666666666666,
              "#ed7953"
             ],
             [
              0.7777777777777778,
              "#fb9f3a"
             ],
             [
              0.8888888888888888,
              "#fdca26"
             ],
             [
              1,
              "#f0f921"
             ]
            ],
            "type": "heatmapgl"
           }
          ],
          "histogram": [
           {
            "marker": {
             "pattern": {
              "fillmode": "overlay",
              "size": 10,
              "solidity": 0.2
             }
            },
            "type": "histogram"
           }
          ],
          "histogram2d": [
           {
            "colorbar": {
             "outlinewidth": 0,
             "ticks": ""
            },
            "colorscale": [
             [
              0,
              "#0d0887"
             ],
             [
              0.1111111111111111,
              "#46039f"
             ],
             [
              0.2222222222222222,
              "#7201a8"
             ],
             [
              0.3333333333333333,
              "#9c179e"
             ],
             [
              0.4444444444444444,
              "#bd3786"
             ],
             [
              0.5555555555555556,
              "#d8576b"
             ],
             [
              0.6666666666666666,
              "#ed7953"
             ],
             [
              0.7777777777777778,
              "#fb9f3a"
             ],
             [
              0.8888888888888888,
              "#fdca26"
             ],
             [
              1,
              "#f0f921"
             ]
            ],
            "type": "histogram2d"
           }
          ],
          "histogram2dcontour": [
           {
            "colorbar": {
             "outlinewidth": 0,
             "ticks": ""
            },
            "colorscale": [
             [
              0,
              "#0d0887"
             ],
             [
              0.1111111111111111,
              "#46039f"
             ],
             [
              0.2222222222222222,
              "#7201a8"
             ],
             [
              0.3333333333333333,
              "#9c179e"
             ],
             [
              0.4444444444444444,
              "#bd3786"
             ],
             [
              0.5555555555555556,
              "#d8576b"
             ],
             [
              0.6666666666666666,
              "#ed7953"
             ],
             [
              0.7777777777777778,
              "#fb9f3a"
             ],
             [
              0.8888888888888888,
              "#fdca26"
             ],
             [
              1,
              "#f0f921"
             ]
            ],
            "type": "histogram2dcontour"
           }
          ],
          "mesh3d": [
           {
            "colorbar": {
             "outlinewidth": 0,
             "ticks": ""
            },
            "type": "mesh3d"
           }
          ],
          "parcoords": [
           {
            "line": {
             "colorbar": {
              "outlinewidth": 0,
              "ticks": ""
             }
            },
            "type": "parcoords"
           }
          ],
          "pie": [
           {
            "automargin": true,
            "type": "pie"
           }
          ],
          "scatter": [
           {
            "fillpattern": {
             "fillmode": "overlay",
             "size": 10,
             "solidity": 0.2
            },
            "type": "scatter"
           }
          ],
          "scatter3d": [
           {
            "line": {
             "colorbar": {
              "outlinewidth": 0,
              "ticks": ""
             }
            },
            "marker": {
             "colorbar": {
              "outlinewidth": 0,
              "ticks": ""
             }
            },
            "type": "scatter3d"
           }
          ],
          "scattercarpet": [
           {
            "marker": {
             "colorbar": {
              "outlinewidth": 0,
              "ticks": ""
             }
            },
            "type": "scattercarpet"
           }
          ],
          "scattergeo": [
           {
            "marker": {
             "colorbar": {
              "outlinewidth": 0,
              "ticks": ""
             }
            },
            "type": "scattergeo"
           }
          ],
          "scattergl": [
           {
            "marker": {
             "colorbar": {
              "outlinewidth": 0,
              "ticks": ""
             }
            },
            "type": "scattergl"
           }
          ],
          "scattermapbox": [
           {
            "marker": {
             "colorbar": {
              "outlinewidth": 0,
              "ticks": ""
             }
            },
            "type": "scattermapbox"
           }
          ],
          "scatterpolar": [
           {
            "marker": {
             "colorbar": {
              "outlinewidth": 0,
              "ticks": ""
             }
            },
            "type": "scatterpolar"
           }
          ],
          "scatterpolargl": [
           {
            "marker": {
             "colorbar": {
              "outlinewidth": 0,
              "ticks": ""
             }
            },
            "type": "scatterpolargl"
           }
          ],
          "scatterternary": [
           {
            "marker": {
             "colorbar": {
              "outlinewidth": 0,
              "ticks": ""
             }
            },
            "type": "scatterternary"
           }
          ],
          "surface": [
           {
            "colorbar": {
             "outlinewidth": 0,
             "ticks": ""
            },
            "colorscale": [
             [
              0,
              "#0d0887"
             ],
             [
              0.1111111111111111,
              "#46039f"
             ],
             [
              0.2222222222222222,
              "#7201a8"
             ],
             [
              0.3333333333333333,
              "#9c179e"
             ],
             [
              0.4444444444444444,
              "#bd3786"
             ],
             [
              0.5555555555555556,
              "#d8576b"
             ],
             [
              0.6666666666666666,
              "#ed7953"
             ],
             [
              0.7777777777777778,
              "#fb9f3a"
             ],
             [
              0.8888888888888888,
              "#fdca26"
             ],
             [
              1,
              "#f0f921"
             ]
            ],
            "type": "surface"
           }
          ],
          "table": [
           {
            "cells": {
             "fill": {
              "color": "#EBF0F8"
             },
             "line": {
              "color": "white"
             }
            },
            "header": {
             "fill": {
              "color": "#C8D4E3"
             },
             "line": {
              "color": "white"
             }
            },
            "type": "table"
           }
          ]
         },
         "layout": {
          "annotationdefaults": {
           "arrowcolor": "#2a3f5f",
           "arrowhead": 0,
           "arrowwidth": 1
          },
          "autotypenumbers": "strict",
          "coloraxis": {
           "colorbar": {
            "outlinewidth": 0,
            "ticks": ""
           }
          },
          "colorscale": {
           "diverging": [
            [
             0,
             "#8e0152"
            ],
            [
             0.1,
             "#c51b7d"
            ],
            [
             0.2,
             "#de77ae"
            ],
            [
             0.3,
             "#f1b6da"
            ],
            [
             0.4,
             "#fde0ef"
            ],
            [
             0.5,
             "#f7f7f7"
            ],
            [
             0.6,
             "#e6f5d0"
            ],
            [
             0.7,
             "#b8e186"
            ],
            [
             0.8,
             "#7fbc41"
            ],
            [
             0.9,
             "#4d9221"
            ],
            [
             1,
             "#276419"
            ]
           ],
           "sequential": [
            [
             0,
             "#0d0887"
            ],
            [
             0.1111111111111111,
             "#46039f"
            ],
            [
             0.2222222222222222,
             "#7201a8"
            ],
            [
             0.3333333333333333,
             "#9c179e"
            ],
            [
             0.4444444444444444,
             "#bd3786"
            ],
            [
             0.5555555555555556,
             "#d8576b"
            ],
            [
             0.6666666666666666,
             "#ed7953"
            ],
            [
             0.7777777777777778,
             "#fb9f3a"
            ],
            [
             0.8888888888888888,
             "#fdca26"
            ],
            [
             1,
             "#f0f921"
            ]
           ],
           "sequentialminus": [
            [
             0,
             "#0d0887"
            ],
            [
             0.1111111111111111,
             "#46039f"
            ],
            [
             0.2222222222222222,
             "#7201a8"
            ],
            [
             0.3333333333333333,
             "#9c179e"
            ],
            [
             0.4444444444444444,
             "#bd3786"
            ],
            [
             0.5555555555555556,
             "#d8576b"
            ],
            [
             0.6666666666666666,
             "#ed7953"
            ],
            [
             0.7777777777777778,
             "#fb9f3a"
            ],
            [
             0.8888888888888888,
             "#fdca26"
            ],
            [
             1,
             "#f0f921"
            ]
           ]
          },
          "colorway": [
           "#636efa",
           "#EF553B",
           "#00cc96",
           "#ab63fa",
           "#FFA15A",
           "#19d3f3",
           "#FF6692",
           "#B6E880",
           "#FF97FF",
           "#FECB52"
          ],
          "font": {
           "color": "#2a3f5f"
          },
          "geo": {
           "bgcolor": "white",
           "lakecolor": "white",
           "landcolor": "#E5ECF6",
           "showlakes": true,
           "showland": true,
           "subunitcolor": "white"
          },
          "hoverlabel": {
           "align": "left"
          },
          "hovermode": "closest",
          "mapbox": {
           "style": "light"
          },
          "paper_bgcolor": "white",
          "plot_bgcolor": "#E5ECF6",
          "polar": {
           "angularaxis": {
            "gridcolor": "white",
            "linecolor": "white",
            "ticks": ""
           },
           "bgcolor": "#E5ECF6",
           "radialaxis": {
            "gridcolor": "white",
            "linecolor": "white",
            "ticks": ""
           }
          },
          "scene": {
           "xaxis": {
            "backgroundcolor": "#E5ECF6",
            "gridcolor": "white",
            "gridwidth": 2,
            "linecolor": "white",
            "showbackground": true,
            "ticks": "",
            "zerolinecolor": "white"
           },
           "yaxis": {
            "backgroundcolor": "#E5ECF6",
            "gridcolor": "white",
            "gridwidth": 2,
            "linecolor": "white",
            "showbackground": true,
            "ticks": "",
            "zerolinecolor": "white"
           },
           "zaxis": {
            "backgroundcolor": "#E5ECF6",
            "gridcolor": "white",
            "gridwidth": 2,
            "linecolor": "white",
            "showbackground": true,
            "ticks": "",
            "zerolinecolor": "white"
           }
          },
          "shapedefaults": {
           "line": {
            "color": "#2a3f5f"
           }
          },
          "ternary": {
           "aaxis": {
            "gridcolor": "white",
            "linecolor": "white",
            "ticks": ""
           },
           "baxis": {
            "gridcolor": "white",
            "linecolor": "white",
            "ticks": ""
           },
           "bgcolor": "#E5ECF6",
           "caxis": {
            "gridcolor": "white",
            "linecolor": "white",
            "ticks": ""
           }
          },
          "title": {
           "x": 0.05
          },
          "xaxis": {
           "automargin": true,
           "gridcolor": "white",
           "linecolor": "white",
           "ticks": "",
           "title": {
            "standoff": 15
           },
           "zerolinecolor": "white",
           "zerolinewidth": 2
          },
          "yaxis": {
           "automargin": true,
           "gridcolor": "white",
           "linecolor": "white",
           "ticks": "",
           "title": {
            "standoff": 15
           },
           "zerolinecolor": "white",
           "zerolinewidth": 2
          }
         }
        },
        "title": {
         "text": "Intermediate Values Plot"
        },
        "xaxis": {
         "title": {
          "text": "Step"
         }
        },
        "yaxis": {
         "title": {
          "text": "Intermediate Value"
         }
        }
       }
      }
     },
     "metadata": {},
     "output_type": "display_data"
    }
   ],
   "source": [
    "fig = optuna.visualization.plot_intermediate_values(study)\n",
    "graph_path = pathlib.Path(f\"../../figures/{params.MODEL_TYPE}/{params.MODEL_NAME}/\")\n",
    "# if path doesn't exist, make path with pathlib\n",
    "graph_path.mkdir(parents=True, exist_ok=True)\n",
    "\n",
    "graph_path = f\"../../figures/{params.MODEL_TYPE}/{params.MODEL_NAME}/plot_intermediate_values_graph\"\n",
    "fig.write_image(pathlib.Path(f\"{graph_path}.png\"))\n",
    "fig.show()"
   ]
  },
  {
   "cell_type": "code",
   "execution_count": 19,
   "id": "325a1ec3",
   "metadata": {},
   "outputs": [],
   "source": [
    "param_dict = extract_best_trial_params(\n",
    "    study.best_params, params, model_name=params.MODEL_NAME\n",
    ")"
   ]
  },
  {
   "cell_type": "code",
   "execution_count": 20,
   "id": "50e946e7",
   "metadata": {},
   "outputs": [
    {
     "name": "stdout",
     "output_type": "stream",
     "text": [
      "Adam\n",
      "Epoch 0: Validation loss decreased (inf --> 0.027095).  Saving model ...\n",
      "Epoch 1: Validation loss decreased (0.027095 --> 0.026984).  Saving model ...\n",
      "Epoch 2: Validation loss decreased (0.026984 --> 0.026927).  Saving model ...\n",
      "Epoch 3: Validation loss decreased (0.026927 --> 0.026903).  Saving model ...\n",
      "Epoch 4: Validation loss decreased (0.026903 --> 0.026886).  Saving model ...\n",
      "Epoch 5: Validation loss decreased (0.026886 --> 0.026874).  Saving model ...\n",
      "Epoch 6: Validation loss decreased (0.026874 --> 0.026865).  Saving model ...\n",
      "Epoch 7: Validation loss decreased (0.026865 --> 0.026858).  Saving model ...\n",
      "Epoch 8: Validation loss decreased (0.026858 --> 0.026853).  Saving model ...\n",
      "Epoch 9: Validation loss decreased (0.026853 --> 0.026849).  Saving model ...\n",
      "Epoch 10: Validation loss decreased (0.026849 --> 0.026846).  Saving model ...\n",
      "Epoch 11: Validation loss decreased (0.026846 --> 0.026843).  Saving model ...\n",
      "Epoch 12: Validation loss decreased (0.026843 --> 0.026841).  Saving model ...\n",
      "Epoch 13: Validation loss decreased (0.026841 --> 0.026839).  Saving model ...\n",
      "Epoch 14: Validation loss decreased (0.026839 --> 0.026837).  Saving model ...\n",
      "Epoch 15: Validation loss decreased (0.026837 --> 0.026836).  Saving model ...\n",
      "Epoch 16: Validation loss decreased (0.026836 --> 0.026835).  Saving model ...\n",
      "Epoch 17: Validation loss decreased (0.026835 --> 0.026834).  Saving model ...\n",
      "Epoch 18: Validation loss decreased (0.026834 --> 0.026833).  Saving model ...\n",
      "Epoch 19: Validation loss decreased (0.026833 --> 0.026833).  Saving model ...\n",
      "Epoch 20: Validation loss decreased (0.026833 --> 0.026832).  Saving model ...\n",
      "Epoch 21: Validation loss decreased (0.026832 --> 0.026832).  Saving model ...\n",
      "Epoch 22: Validation loss decreased (0.026832 --> 0.026831).  Saving model ...\n",
      "Epoch 23: Validation loss decreased (0.026831 --> 0.026831).  Saving model ...\n",
      "Epoch 24: Validation loss decreased (0.026831 --> 0.026830).  Saving model ...\n",
      "Epoch 25: Validation loss decreased (0.026830 --> 0.026830).  Saving model ...\n",
      "Epoch 26: Validation loss decreased (0.026830 --> 0.026830).  Saving model ...\n",
      "Epoch 27: Validation loss decreased (0.026830 --> 0.026830).  Saving model ...\n",
      "Epoch 28: Validation loss decreased (0.026830 --> 0.026829).  Saving model ...\n",
      "Epoch 29: Validation loss decreased (0.026829 --> 0.026829).  Saving model ...\n",
      "Epoch 30: Validation loss decreased (0.026829 --> 0.026829).  Saving model ...\n",
      "Epoch 31: Validation loss decreased (0.026829 --> 0.026829).  Saving model ...\n",
      "Epoch 32: Validation loss decreased (0.026829 --> 0.026829).  Saving model ...\n",
      "Epoch 33: Validation loss did not decrease\n",
      "Epoch 34: Validation loss did not decrease\n",
      "Epoch 35: Validation loss did not decrease\n",
      "Epoch 36: Validation loss did not decrease\n",
      "Epoch 37: Validation loss did not decrease\n",
      "Epoch 38: Validation loss did not decrease\n",
      "Epoch 39: Validation loss did not decrease\n",
      "Epoch 40: Validation loss did not decrease\n",
      "Epoch 41: Validation loss did not decrease\n",
      "Epoch 42: Validation loss did not decrease\n",
      "Epoch 43: Validation loss did not decrease\n",
      "Epoch 44: Validation loss did not decrease\n",
      "Epoch 45: Validation loss did not decrease\n",
      "Epoch 46: Validation loss did not decrease\n",
      "Epoch 47: Validation loss did not decrease\n",
      "Epoch 48: Validation loss did not decrease\n",
      "Early stopped at epoch : 48\n"
     ]
    }
   ],
   "source": [
    "# call the optimized training model\n",
    "train_loss, train_acc, valid_loss, valid_acc, epochs_ran, model = train_optimized_model(\n",
    "    mlp_params.TRAIN_EPOCHS,\n",
    "    train_loader,\n",
    "    valid_loader,\n",
    "    mlp_params,\n",
    "    mlp_params.MODEL_NAME,\n",
    ")\n",
    "# get training_metrics\n",
    "if params.MODEL_TYPE == \"Regression\":\n",
    "    training_stats = pd.DataFrame(\n",
    "        zip(train_loss, valid_loss, epochs_ran),\n",
    "        columns=[\"train_loss\", \"valid_loss\", \"epochs_ran\"],\n",
    "    )\n",
    "else:\n",
    "    training_stats = pd.DataFrame(\n",
    "        zip(train_loss, train_acc, valid_loss, valid_acc, epochs_ran),\n",
    "        columns=[\"train_loss\", \"train_acc\", \"valid_loss\", \"valid_acc\", \"epochs_ran\"],\n",
    "    )"
   ]
  },
  {
   "cell_type": "code",
   "execution_count": 21,
   "id": "1340d8aa",
   "metadata": {},
   "outputs": [],
   "source": [
    "if params.MODEL_TYPE == \"Regression\":\n",
    "    pass\n",
    "else:\n",
    "    plot_metric_vs_epoch(\n",
    "        training_stats,\n",
    "        x=\"epochs_ran\",\n",
    "        y1=\"train_acc\",\n",
    "        y2=\"valid_acc\",\n",
    "        title=\"Accuracy vs. Epochs\",\n",
    "        x_axis_label=\"Epochs\",\n",
    "        y_axis_label=\"Accuracy\",\n",
    "        params=params,\n",
    "        model_name=params.MODEL_NAME,\n",
    "    )"
   ]
  },
  {
   "cell_type": "code",
   "execution_count": 22,
   "id": "41991221",
   "metadata": {},
   "outputs": [
    {
     "name": "stderr",
     "output_type": "stream",
     "text": [
      "/home/lippincm/Documents/ML/Interstellar_Analysis/4.sc_Morphology_Neural_Network_MLP_Model/0.hyperparameter_optimization/notebooks/../../MLP_utils/utils.py:997: UserWarning:\n",
      "\n",
      "Ignoring `palette` because no `hue` variable has been assigned.\n",
      "\n",
      "/home/lippincm/Documents/ML/Interstellar_Analysis/4.sc_Morphology_Neural_Network_MLP_Model/0.hyperparameter_optimization/notebooks/../../MLP_utils/utils.py:998: UserWarning:\n",
      "\n",
      "Ignoring `palette` because no `hue` variable has been assigned.\n",
      "\n"
     ]
    },
    {
     "data": {
      "image/png": "[encoded data removed]",
      "text/plain": [
       "<Figure size 640x480 with 1 Axes>"
      ]
     },
     "metadata": {},
     "output_type": "display_data"
    }
   ],
   "source": [
    "plot_metric_vs_epoch(\n",
    "    training_stats,\n",
    "    x=\"epochs_ran\",\n",
    "    y1=\"train_loss\",\n",
    "    y2=\"valid_loss\",\n",
    "    title=\"Loss vs. Epochs\",\n",
    "    x_axis_label=\"Epochs\",\n",
    "    y_axis_label=\"Loss\",\n",
    "    params=params,\n",
    "    model_name=params.MODEL_NAME,\n",
    ")"
   ]
  },
  {
   "cell_type": "code",
   "execution_count": 23,
   "id": "3e2c848c",
   "metadata": {},
   "outputs": [
    {
     "name": "stdout",
     "output_type": "stream",
     "text": [
      "DMSO_0.025_vs_LPS_100\n"
     ]
    }
   ],
   "source": [
    "# calling the testing function and outputting list values of tested model\n",
    "if params.MODEL_TYPE == \"Multi_Class\" or params.MODEL_TYPE == \"Regression\":\n",
    "    y_pred_list = test_optimized_model(\n",
    "        model, test_loader, params, model_name=params.MODEL_NAME\n",
    "    )\n",
    "elif params.MODEL_TYPE == \"Binary_Classification\":\n",
    "    y_pred_list, y_pred_prob_list = test_optimized_model(\n",
    "        model, test_loader, params, model_name=params.MODEL_NAME\n",
    "    )\n",
    "else:\n",
    "    raise Exception(\"Model type must be specified for proper model testing\")\n",
    "\n",
    "\n",
    "# un-nest list if nested i.e. length of input data does not match length of output data\n",
    "if len(y_pred_list) != len(Y_test):\n",
    "    print(\"yes\")\n",
    "    y_pred_list = un_nest(y_pred_list)\n",
    "    y_pred_prob_list = un_nest(y_pred_prob_list)\n",
    "else:\n",
    "    pass"
   ]
  },
  {
   "cell_type": "code",
   "execution_count": 24,
   "id": "d647b237",
   "metadata": {},
   "outputs": [
    {
     "data": {
      "text/html": [
       "<div>\n",
       "<style scoped>\n",
       "    .dataframe tbody tr th:only-of-type {\n",
       "        vertical-align: middle;\n",
       "    }\n",
       "\n",
       "    .dataframe tbody tr th {\n",
       "        vertical-align: top;\n",
       "    }\n",
       "\n",
       "    .dataframe thead th {\n",
       "        text-align: right;\n",
       "    }\n",
       "</style>\n",
       "<table border=\"1\" class=\"dataframe\">\n",
       "  <thead>\n",
       "    <tr style=\"text-align: right;\">\n",
       "      <th></th>\n",
       "      <th>Activin A [NSU]</th>\n",
       "      <th>AITRL (GITR Ligand) [NSU]</th>\n",
       "      <th>Amphiregulin [NSU]</th>\n",
       "      <th>Amyloid beta [NSU]</th>\n",
       "      <th>APRIL [NSU]</th>\n",
       "      <th>BAFF [NSU]</th>\n",
       "      <th>BCMA (TNFRSF17) [NSU]</th>\n",
       "      <th>BDNF [NSU]</th>\n",
       "      <th>BMP2 [NSU]</th>\n",
       "      <th>BMP3 [NSU]</th>\n",
       "      <th>...</th>\n",
       "      <th>uPA [NSU]</th>\n",
       "      <th>VCAM-1 [NSU]</th>\n",
       "      <th>VEGF Receptor 2 (Flk-1) [NSU]</th>\n",
       "      <th>VEGF-A (165) [NSU]</th>\n",
       "      <th>VEGF-C [NSU]</th>\n",
       "      <th>VEGF-D [NSU]</th>\n",
       "      <th>VEGFR-1 [NSU]</th>\n",
       "      <th>WISP-1 (CCN4) [NSU]</th>\n",
       "      <th>XCL1 (Lymphotactin) [NSU]</th>\n",
       "      <th>Metadata_Well</th>\n",
       "    </tr>\n",
       "  </thead>\n",
       "  <tbody>\n",
       "    <tr>\n",
       "      <th>0</th>\n",
       "      <td>0.553127</td>\n",
       "      <td>0.672684</td>\n",
       "      <td>0.263708</td>\n",
       "      <td>0.548435</td>\n",
       "      <td>0.581517</td>\n",
       "      <td>0.409187</td>\n",
       "      <td>0.491697</td>\n",
       "      <td>0.472798</td>\n",
       "      <td>0.647211</td>\n",
       "      <td>0.526138</td>\n",
       "      <td>...</td>\n",
       "      <td>0.192506</td>\n",
       "      <td>0.438773</td>\n",
       "      <td>0.398925</td>\n",
       "      <td>0.465677</td>\n",
       "      <td>0.287587</td>\n",
       "      <td>0.400124</td>\n",
       "      <td>0.600639</td>\n",
       "      <td>0.516713</td>\n",
       "      <td>0.554708</td>\n",
       "      <td>J20</td>\n",
       "    </tr>\n",
       "    <tr>\n",
       "      <th>1</th>\n",
       "      <td>0.553127</td>\n",
       "      <td>0.672684</td>\n",
       "      <td>0.263708</td>\n",
       "      <td>0.548435</td>\n",
       "      <td>0.581517</td>\n",
       "      <td>0.409187</td>\n",
       "      <td>0.491697</td>\n",
       "      <td>0.472798</td>\n",
       "      <td>0.647211</td>\n",
       "      <td>0.526138</td>\n",
       "      <td>...</td>\n",
       "      <td>0.192506</td>\n",
       "      <td>0.438773</td>\n",
       "      <td>0.398925</td>\n",
       "      <td>0.465677</td>\n",
       "      <td>0.287587</td>\n",
       "      <td>0.400124</td>\n",
       "      <td>0.600639</td>\n",
       "      <td>0.516713</td>\n",
       "      <td>0.554708</td>\n",
       "      <td>J16</td>\n",
       "    </tr>\n",
       "    <tr>\n",
       "      <th>2</th>\n",
       "      <td>0.553127</td>\n",
       "      <td>0.672684</td>\n",
       "      <td>0.263708</td>\n",
       "      <td>0.548435</td>\n",
       "      <td>0.581517</td>\n",
       "      <td>0.409187</td>\n",
       "      <td>0.491697</td>\n",
       "      <td>0.472798</td>\n",
       "      <td>0.647211</td>\n",
       "      <td>0.526138</td>\n",
       "      <td>...</td>\n",
       "      <td>0.192506</td>\n",
       "      <td>0.438773</td>\n",
       "      <td>0.398925</td>\n",
       "      <td>0.465677</td>\n",
       "      <td>0.287587</td>\n",
       "      <td>0.400124</td>\n",
       "      <td>0.600639</td>\n",
       "      <td>0.516713</td>\n",
       "      <td>0.554708</td>\n",
       "      <td>C15</td>\n",
       "    </tr>\n",
       "    <tr>\n",
       "      <th>3</th>\n",
       "      <td>0.553127</td>\n",
       "      <td>0.672684</td>\n",
       "      <td>0.263708</td>\n",
       "      <td>0.548435</td>\n",
       "      <td>0.581517</td>\n",
       "      <td>0.409187</td>\n",
       "      <td>0.491697</td>\n",
       "      <td>0.472798</td>\n",
       "      <td>0.647211</td>\n",
       "      <td>0.526138</td>\n",
       "      <td>...</td>\n",
       "      <td>0.192506</td>\n",
       "      <td>0.438773</td>\n",
       "      <td>0.398925</td>\n",
       "      <td>0.465677</td>\n",
       "      <td>0.287587</td>\n",
       "      <td>0.400124</td>\n",
       "      <td>0.600639</td>\n",
       "      <td>0.516713</td>\n",
       "      <td>0.554708</td>\n",
       "      <td>J15</td>\n",
       "    </tr>\n",
       "    <tr>\n",
       "      <th>4</th>\n",
       "      <td>0.553127</td>\n",
       "      <td>0.672684</td>\n",
       "      <td>0.263708</td>\n",
       "      <td>0.548435</td>\n",
       "      <td>0.581517</td>\n",
       "      <td>0.409187</td>\n",
       "      <td>0.491697</td>\n",
       "      <td>0.472798</td>\n",
       "      <td>0.647211</td>\n",
       "      <td>0.526138</td>\n",
       "      <td>...</td>\n",
       "      <td>0.192506</td>\n",
       "      <td>0.438773</td>\n",
       "      <td>0.398925</td>\n",
       "      <td>0.465677</td>\n",
       "      <td>0.287587</td>\n",
       "      <td>0.400124</td>\n",
       "      <td>0.600639</td>\n",
       "      <td>0.516713</td>\n",
       "      <td>0.554708</td>\n",
       "      <td>J17</td>\n",
       "    </tr>\n",
       "    <tr>\n",
       "      <th>...</th>\n",
       "      <td>...</td>\n",
       "      <td>...</td>\n",
       "      <td>...</td>\n",
       "      <td>...</td>\n",
       "      <td>...</td>\n",
       "      <td>...</td>\n",
       "      <td>...</td>\n",
       "      <td>...</td>\n",
       "      <td>...</td>\n",
       "      <td>...</td>\n",
       "      <td>...</td>\n",
       "      <td>...</td>\n",
       "      <td>...</td>\n",
       "      <td>...</td>\n",
       "      <td>...</td>\n",
       "      <td>...</td>\n",
       "      <td>...</td>\n",
       "      <td>...</td>\n",
       "      <td>...</td>\n",
       "      <td>...</td>\n",
       "      <td>...</td>\n",
       "    </tr>\n",
       "    <tr>\n",
       "      <th>4262</th>\n",
       "      <td>0.553127</td>\n",
       "      <td>0.672684</td>\n",
       "      <td>0.263708</td>\n",
       "      <td>0.548435</td>\n",
       "      <td>0.581517</td>\n",
       "      <td>0.409187</td>\n",
       "      <td>0.491697</td>\n",
       "      <td>0.472798</td>\n",
       "      <td>0.647211</td>\n",
       "      <td>0.526138</td>\n",
       "      <td>...</td>\n",
       "      <td>0.192506</td>\n",
       "      <td>0.438773</td>\n",
       "      <td>0.398925</td>\n",
       "      <td>0.465677</td>\n",
       "      <td>0.287587</td>\n",
       "      <td>0.400124</td>\n",
       "      <td>0.600639</td>\n",
       "      <td>0.516713</td>\n",
       "      <td>0.554708</td>\n",
       "      <td>I15</td>\n",
       "    </tr>\n",
       "    <tr>\n",
       "      <th>4263</th>\n",
       "      <td>0.553127</td>\n",
       "      <td>0.672684</td>\n",
       "      <td>0.263708</td>\n",
       "      <td>0.548435</td>\n",
       "      <td>0.581517</td>\n",
       "      <td>0.409187</td>\n",
       "      <td>0.491697</td>\n",
       "      <td>0.472798</td>\n",
       "      <td>0.647211</td>\n",
       "      <td>0.526138</td>\n",
       "      <td>...</td>\n",
       "      <td>0.192506</td>\n",
       "      <td>0.438773</td>\n",
       "      <td>0.398925</td>\n",
       "      <td>0.465677</td>\n",
       "      <td>0.287587</td>\n",
       "      <td>0.400124</td>\n",
       "      <td>0.600639</td>\n",
       "      <td>0.516713</td>\n",
       "      <td>0.554708</td>\n",
       "      <td>J15</td>\n",
       "    </tr>\n",
       "    <tr>\n",
       "      <th>4264</th>\n",
       "      <td>0.553127</td>\n",
       "      <td>0.672684</td>\n",
       "      <td>0.263708</td>\n",
       "      <td>0.548435</td>\n",
       "      <td>0.581517</td>\n",
       "      <td>0.409187</td>\n",
       "      <td>0.491697</td>\n",
       "      <td>0.472798</td>\n",
       "      <td>0.647211</td>\n",
       "      <td>0.526138</td>\n",
       "      <td>...</td>\n",
       "      <td>0.192506</td>\n",
       "      <td>0.438773</td>\n",
       "      <td>0.398925</td>\n",
       "      <td>0.465677</td>\n",
       "      <td>0.287587</td>\n",
       "      <td>0.400124</td>\n",
       "      <td>0.600639</td>\n",
       "      <td>0.516713</td>\n",
       "      <td>0.554708</td>\n",
       "      <td>I15</td>\n",
       "    </tr>\n",
       "    <tr>\n",
       "      <th>4265</th>\n",
       "      <td>0.553127</td>\n",
       "      <td>0.672684</td>\n",
       "      <td>0.263708</td>\n",
       "      <td>0.548435</td>\n",
       "      <td>0.581517</td>\n",
       "      <td>0.409187</td>\n",
       "      <td>0.491697</td>\n",
       "      <td>0.472798</td>\n",
       "      <td>0.647211</td>\n",
       "      <td>0.526138</td>\n",
       "      <td>...</td>\n",
       "      <td>0.192506</td>\n",
       "      <td>0.438773</td>\n",
       "      <td>0.398925</td>\n",
       "      <td>0.465677</td>\n",
       "      <td>0.287587</td>\n",
       "      <td>0.400124</td>\n",
       "      <td>0.600639</td>\n",
       "      <td>0.516713</td>\n",
       "      <td>0.554708</td>\n",
       "      <td>C14</td>\n",
       "    </tr>\n",
       "    <tr>\n",
       "      <th>4266</th>\n",
       "      <td>0.553127</td>\n",
       "      <td>0.672684</td>\n",
       "      <td>0.263708</td>\n",
       "      <td>0.548435</td>\n",
       "      <td>0.581517</td>\n",
       "      <td>0.409187</td>\n",
       "      <td>0.491697</td>\n",
       "      <td>0.472798</td>\n",
       "      <td>0.647211</td>\n",
       "      <td>0.526138</td>\n",
       "      <td>...</td>\n",
       "      <td>0.192506</td>\n",
       "      <td>0.438773</td>\n",
       "      <td>0.398925</td>\n",
       "      <td>0.465677</td>\n",
       "      <td>0.287587</td>\n",
       "      <td>0.400124</td>\n",
       "      <td>0.600639</td>\n",
       "      <td>0.516713</td>\n",
       "      <td>0.554708</td>\n",
       "      <td>C14</td>\n",
       "    </tr>\n",
       "  </tbody>\n",
       "</table>\n",
       "<p>4267 rows × 188 columns</p>\n",
       "</div>"
      ],
      "text/plain": [
       "      Activin A [NSU]  AITRL (GITR Ligand) [NSU]  Amphiregulin [NSU]  \\\n",
       "0            0.553127                   0.672684            0.263708   \n",
       "1            0.553127                   0.672684            0.263708   \n",
       "2            0.553127                   0.672684            0.263708   \n",
       "3            0.553127                   0.672684            0.263708   \n",
       "4            0.553127                   0.672684            0.263708   \n",
       "...               ...                        ...                 ...   \n",
       "4262         0.553127                   0.672684            0.263708   \n",
       "4263         0.553127                   0.672684            0.263708   \n",
       "4264         0.553127                   0.672684            0.263708   \n",
       "4265         0.553127                   0.672684            0.263708   \n",
       "4266         0.553127                   0.672684            0.263708   \n",
       "\n",
       "      Amyloid beta [NSU]  APRIL [NSU]  BAFF [NSU]  BCMA (TNFRSF17) [NSU]  \\\n",
       "0               0.548435     0.581517    0.409187               0.491697   \n",
       "1               0.548435     0.581517    0.409187               0.491697   \n",
       "2               0.548435     0.581517    0.409187               0.491697   \n",
       "3               0.548435     0.581517    0.409187               0.491697   \n",
       "4               0.548435     0.581517    0.409187               0.491697   \n",
       "...                  ...          ...         ...                    ...   \n",
       "4262            0.548435     0.581517    0.409187               0.491697   \n",
       "4263            0.548435     0.581517    0.409187               0.491697   \n",
       "4264            0.548435     0.581517    0.409187               0.491697   \n",
       "4265            0.548435     0.581517    0.409187               0.491697   \n",
       "4266            0.548435     0.581517    0.409187               0.491697   \n",
       "\n",
       "      BDNF [NSU]  BMP2 [NSU]  BMP3 [NSU]  ...  uPA [NSU]  VCAM-1 [NSU]  \\\n",
       "0       0.472798    0.647211    0.526138  ...   0.192506      0.438773   \n",
       "1       0.472798    0.647211    0.526138  ...   0.192506      0.438773   \n",
       "2       0.472798    0.647211    0.526138  ...   0.192506      0.438773   \n",
       "3       0.472798    0.647211    0.526138  ...   0.192506      0.438773   \n",
       "4       0.472798    0.647211    0.526138  ...   0.192506      0.438773   \n",
       "...          ...         ...         ...  ...        ...           ...   \n",
       "4262    0.472798    0.647211    0.526138  ...   0.192506      0.438773   \n",
       "4263    0.472798    0.647211    0.526138  ...   0.192506      0.438773   \n",
       "4264    0.472798    0.647211    0.526138  ...   0.192506      0.438773   \n",
       "4265    0.472798    0.647211    0.526138  ...   0.192506      0.438773   \n",
       "4266    0.472798    0.647211    0.526138  ...   0.192506      0.438773   \n",
       "\n",
       "      VEGF Receptor 2 (Flk-1) [NSU]  VEGF-A (165) [NSU]  VEGF-C [NSU]  \\\n",
       "0                          0.398925            0.465677      0.287587   \n",
       "1                          0.398925            0.465677      0.287587   \n",
       "2                          0.398925            0.465677      0.287587   \n",
       "3                          0.398925            0.465677      0.287587   \n",
       "4                          0.398925            0.465677      0.287587   \n",
       "...                             ...                 ...           ...   \n",
       "4262                       0.398925            0.465677      0.287587   \n",
       "4263                       0.398925            0.465677      0.287587   \n",
       "4264                       0.398925            0.465677      0.287587   \n",
       "4265                       0.398925            0.465677      0.287587   \n",
       "4266                       0.398925            0.465677      0.287587   \n",
       "\n",
       "      VEGF-D [NSU]  VEGFR-1 [NSU]  WISP-1 (CCN4) [NSU]  \\\n",
       "0         0.400124       0.600639             0.516713   \n",
       "1         0.400124       0.600639             0.516713   \n",
       "2         0.400124       0.600639             0.516713   \n",
       "3         0.400124       0.600639             0.516713   \n",
       "4         0.400124       0.600639             0.516713   \n",
       "...            ...            ...                  ...   \n",
       "4262      0.400124       0.600639             0.516713   \n",
       "4263      0.400124       0.600639             0.516713   \n",
       "4264      0.400124       0.600639             0.516713   \n",
       "4265      0.400124       0.600639             0.516713   \n",
       "4266      0.400124       0.600639             0.516713   \n",
       "\n",
       "      XCL1 (Lymphotactin) [NSU]  Metadata_Well  \n",
       "0                      0.554708            J20  \n",
       "1                      0.554708            J16  \n",
       "2                      0.554708            C15  \n",
       "3                      0.554708            J15  \n",
       "4                      0.554708            J17  \n",
       "...                         ...            ...  \n",
       "4262                   0.554708            I15  \n",
       "4263                   0.554708            J15  \n",
       "4264                   0.554708            I15  \n",
       "4265                   0.554708            C14  \n",
       "4266                   0.554708            C14  \n",
       "\n",
       "[4267 rows x 188 columns]"
      ]
     },
     "execution_count": 24,
     "metadata": {},
     "output_type": "execute_result"
    }
   ],
   "source": [
    "# make the prediction list into a dataframe using column names from the test data\n",
    "prediction_df = pd.DataFrame(y_pred_list, columns=Y_test.columns, index=Y_test.index)\n",
    "prediction_df[\"Metadata_Well\"] = Y_test_well[\"Metadata_Well\"]\n",
    "prediction_df[\"Metadata_Well\"].unique()\n",
    "prediction_df"
   ]
  },
  {
   "cell_type": "code",
   "execution_count": 25,
   "metadata": {},
   "outputs": [],
   "source": [
    "# treatment_col = prediction_df[\"Metadata_Well\"]\n",
    "# index_dict = {}\n",
    "# for i in test_col.unique():\n",
    "#     index_list = []\n",
    "#     for j in enumerate(test_col):\n",
    "#         if i == j[1]:\n",
    "#             index_list.append(j[0])\n",
    "#     index_dict[i] = index_list\n",
    "# new_value_dict = {}\n",
    "# for i in index_dict:\n",
    "#     new_value_dict[i] = [pred_col[index_dict[i]].median(),treatment_col[index_dict[i]].unique().tolist()[0]]\n",
    "\n",
    "\n",
    "# df = pd.DataFrame.from_dict(new_value_dict, orient=\"index\").reset_index().rename(columns={\"index\": \"Actual\", 0: \"Average Predicted\", 1: \"Metadata_Well\"})\n",
    "# df['cytokine'] = col\n",
    "# df['model_type'] = \"test\""
   ]
  },
  {
   "cell_type": "code",
   "execution_count": 26,
   "id": "a39d6ea9",
   "metadata": {},
   "outputs": [
    {
     "data": {
      "text/html": [
       "<div>\n",
       "<style scoped>\n",
       "    .dataframe tbody tr th:only-of-type {\n",
       "        vertical-align: middle;\n",
       "    }\n",
       "\n",
       "    .dataframe tbody tr th {\n",
       "        vertical-align: top;\n",
       "    }\n",
       "\n",
       "    .dataframe thead th {\n",
       "        text-align: right;\n",
       "    }\n",
       "</style>\n",
       "<table border=\"1\" class=\"dataframe\">\n",
       "  <thead>\n",
       "    <tr style=\"text-align: right;\">\n",
       "      <th></th>\n",
       "      <th>Activin A [NSU]</th>\n",
       "      <th>AITRL (GITR Ligand) [NSU]</th>\n",
       "      <th>Amphiregulin [NSU]</th>\n",
       "      <th>Amyloid beta [NSU]</th>\n",
       "      <th>APRIL [NSU]</th>\n",
       "      <th>BAFF [NSU]</th>\n",
       "      <th>BCMA (TNFRSF17) [NSU]</th>\n",
       "      <th>BDNF [NSU]</th>\n",
       "      <th>BMP2 [NSU]</th>\n",
       "      <th>BMP3 [NSU]</th>\n",
       "      <th>...</th>\n",
       "      <th>TWEAK [NSU]</th>\n",
       "      <th>uPA [NSU]</th>\n",
       "      <th>VCAM-1 [NSU]</th>\n",
       "      <th>VEGF Receptor 2 (Flk-1) [NSU]</th>\n",
       "      <th>VEGF-A (165) [NSU]</th>\n",
       "      <th>VEGF-C [NSU]</th>\n",
       "      <th>VEGF-D [NSU]</th>\n",
       "      <th>VEGFR-1 [NSU]</th>\n",
       "      <th>WISP-1 (CCN4) [NSU]</th>\n",
       "      <th>XCL1 (Lymphotactin) [NSU]</th>\n",
       "    </tr>\n",
       "  </thead>\n",
       "  <tbody>\n",
       "    <tr>\n",
       "      <th>0</th>\n",
       "      <td>0.567975</td>\n",
       "      <td>0.510412</td>\n",
       "      <td>0.258171</td>\n",
       "      <td>0.510877</td>\n",
       "      <td>0.236933</td>\n",
       "      <td>0.306764</td>\n",
       "      <td>0.317715</td>\n",
       "      <td>0.478658</td>\n",
       "      <td>0.529372</td>\n",
       "      <td>0.326632</td>\n",
       "      <td>...</td>\n",
       "      <td>0.215928</td>\n",
       "      <td>0.300473</td>\n",
       "      <td>0.330743</td>\n",
       "      <td>0.648032</td>\n",
       "      <td>0.530266</td>\n",
       "      <td>0.303506</td>\n",
       "      <td>0.359335</td>\n",
       "      <td>0.569729</td>\n",
       "      <td>0.397425</td>\n",
       "      <td>0.388303</td>\n",
       "    </tr>\n",
       "    <tr>\n",
       "      <th>1</th>\n",
       "      <td>0.389848</td>\n",
       "      <td>0.662239</td>\n",
       "      <td>0.169720</td>\n",
       "      <td>0.518738</td>\n",
       "      <td>0.445479</td>\n",
       "      <td>0.428729</td>\n",
       "      <td>0.486528</td>\n",
       "      <td>0.480188</td>\n",
       "      <td>0.623475</td>\n",
       "      <td>0.402997</td>\n",
       "      <td>...</td>\n",
       "      <td>0.363074</td>\n",
       "      <td>0.334074</td>\n",
       "      <td>0.558419</td>\n",
       "      <td>0.345332</td>\n",
       "      <td>0.742220</td>\n",
       "      <td>0.307109</td>\n",
       "      <td>0.314524</td>\n",
       "      <td>0.321328</td>\n",
       "      <td>0.615527</td>\n",
       "      <td>0.516639</td>\n",
       "    </tr>\n",
       "  </tbody>\n",
       "</table>\n",
       "<p>2 rows × 187 columns</p>\n",
       "</div>"
      ],
      "text/plain": [
       "   Activin A [NSU]  AITRL (GITR Ligand) [NSU]  Amphiregulin [NSU]  \\\n",
       "0         0.567975                   0.510412            0.258171   \n",
       "1         0.389848                   0.662239            0.169720   \n",
       "\n",
       "   Amyloid beta [NSU]  APRIL [NSU]  BAFF [NSU]  BCMA (TNFRSF17) [NSU]  \\\n",
       "0            0.510877     0.236933    0.306764               0.317715   \n",
       "1            0.518738     0.445479    0.428729               0.486528   \n",
       "\n",
       "   BDNF [NSU]  BMP2 [NSU]  BMP3 [NSU]  ...  TWEAK [NSU]  uPA [NSU]  \\\n",
       "0    0.478658    0.529372    0.326632  ...     0.215928   0.300473   \n",
       "1    0.480188    0.623475    0.402997  ...     0.363074   0.334074   \n",
       "\n",
       "   VCAM-1 [NSU]  VEGF Receptor 2 (Flk-1) [NSU]  VEGF-A (165) [NSU]  \\\n",
       "0      0.330743                       0.648032            0.530266   \n",
       "1      0.558419                       0.345332            0.742220   \n",
       "\n",
       "   VEGF-C [NSU]  VEGF-D [NSU]  VEGFR-1 [NSU]  WISP-1 (CCN4) [NSU]  \\\n",
       "0      0.303506      0.359335       0.569729             0.397425   \n",
       "1      0.307109      0.314524       0.321328             0.615527   \n",
       "\n",
       "   XCL1 (Lymphotactin) [NSU]  \n",
       "0                   0.388303  \n",
       "1                   0.516639  \n",
       "\n",
       "[2 rows x 187 columns]"
      ]
     },
     "execution_count": 26,
     "metadata": {},
     "output_type": "execute_result"
    }
   ],
   "source": [
    "Y_test.head(2)"
   ]
  },
  {
   "cell_type": "code",
   "execution_count": 27,
   "id": "145556fc",
   "metadata": {},
   "outputs": [],
   "source": [
    "import matplotlib.pyplot as plt"
   ]
  },
  {
   "cell_type": "code",
   "execution_count": 28,
   "id": "b6b0adae",
   "metadata": {},
   "outputs": [],
   "source": [
    "testing_values = pd.DataFrame(columns=[\"Actual\", \"Average Predicted\", \"cytokine\"])"
   ]
  },
  {
   "cell_type": "code",
   "execution_count": 29,
   "id": "91e66ebd",
   "metadata": {},
   "outputs": [],
   "source": [
    "from sklearn.metrics import mean_squared_error, r2_score\n",
    "\n",
    "# get the list of columns in the test data\n",
    "test_data_columns = Y_test.columns.to_list()\n",
    "# loop through the columns\n",
    "for col in Y_test:\n",
    "    # get the column from test data\n",
    "    test_col = Y_test[col]\n",
    "    # get the column from prediction data\n",
    "    pred_col = prediction_df[col]\n",
    "    # list of treatment names\n",
    "    treatment_col = prediction_df[\"Metadata_Well\"]\n",
    "    # get the mse and r2 for the columns\n",
    "    mse = mean_squared_error(test_col, pred_col)\n",
    "    r_square = r2_score(test_col, pred_col)\n",
    "    a, b = np.polyfit(test_col, pred_col, 1)\n",
    "    index_dict = {}\n",
    "    for i in test_col.unique():\n",
    "        index_list = []\n",
    "        for j in enumerate(test_col):\n",
    "            if i == j[1]:\n",
    "                index_list.append(j[0])\n",
    "        index_dict[i] = index_list\n",
    "    new_value_dict = {}\n",
    "    for i in index_dict:\n",
    "        new_value_dict[i] = [\n",
    "            pred_col[index_dict[i]].median(),\n",
    "            treatment_col[index_dict[i]].unique().tolist()[0],\n",
    "        ]\n",
    "\n",
    "    df = (\n",
    "        pd.DataFrame.from_dict(new_value_dict, orient=\"index\")\n",
    "        .reset_index()\n",
    "        .rename(columns={\"index\": \"Actual\", 0: \"Average Predicted\", 1: \"Metadata_Well\"})\n",
    "    )\n",
    "    df[\"cytokine\"] = col\n",
    "    df[\"model_type\"] = \"test\"\n",
    "\n",
    "    testing_values = pd.concat([testing_values, df], axis=0)\n",
    "    # plt.scatter(df['Actual'], df['Average Predicted'])\n",
    "    # # plt.plot([min(test_col), max(test_col)], [min(test_col), max(test_col)], color='red', linestyle='--')\n",
    "    # plt.plot(\n",
    "    #     test_col,\n",
    "    #     a * test_col + b,\n",
    "    #     color=\"red\",\n",
    "    #     label=\"R2={0:0.2f}\".format(r_square),\n",
    "    # )\n",
    "    # plt.title(\n",
    "    #     f\"Regression Nerual Network Prediction vs. True \\n {col}\", fontsize=25\n",
    "    # )\n",
    "    # plt.ylabel(\"Predicted\", fontsize=18)\n",
    "    # plt.xlabel(\"Target\", fontsize=18)\n",
    "    # # make data continuous\n",
    "    # plt.show()\n",
    "    # plt.close()"
   ]
  },
  {
   "cell_type": "code",
   "execution_count": 30,
   "id": "62cbb74f",
   "metadata": {},
   "outputs": [
    {
     "data": {
      "text/html": [
       "<div>\n",
       "<style scoped>\n",
       "    .dataframe tbody tr th:only-of-type {\n",
       "        vertical-align: middle;\n",
       "    }\n",
       "\n",
       "    .dataframe tbody tr th {\n",
       "        vertical-align: top;\n",
       "    }\n",
       "\n",
       "    .dataframe thead th {\n",
       "        text-align: right;\n",
       "    }\n",
       "</style>\n",
       "<table border=\"1\" class=\"dataframe\">\n",
       "  <thead>\n",
       "    <tr style=\"text-align: right;\">\n",
       "      <th></th>\n",
       "      <th>Metadata_Well</th>\n",
       "      <th>oneb_Metadata_Treatment_Dose_Inhibitor_Dose</th>\n",
       "    </tr>\n",
       "  </thead>\n",
       "  <tbody>\n",
       "    <tr>\n",
       "      <th>0</th>\n",
       "      <td>B14</td>\n",
       "      <td>DMSO_0.100_DMSO_0.025</td>\n",
       "    </tr>\n",
       "    <tr>\n",
       "      <th>4281</th>\n",
       "      <td>C14</td>\n",
       "      <td>DMSO_0.100_DMSO_0.025</td>\n",
       "    </tr>\n",
       "    <tr>\n",
       "      <th>28619</th>\n",
       "      <td>B15</td>\n",
       "      <td>DMSO_0.100_DMSO_0.025</td>\n",
       "    </tr>\n",
       "    <tr>\n",
       "      <th>33133</th>\n",
       "      <td>C15</td>\n",
       "      <td>DMSO_0.100_DMSO_0.025</td>\n",
       "    </tr>\n",
       "    <tr>\n",
       "      <th>241180</th>\n",
       "      <td>J14</td>\n",
       "      <td>DMSO_0.100_DMSO_0.025</td>\n",
       "    </tr>\n",
       "    <tr>\n",
       "      <th>265463</th>\n",
       "      <td>I15</td>\n",
       "      <td>DMSO_0.100_DMSO_0.025</td>\n",
       "    </tr>\n",
       "    <tr>\n",
       "      <th>270183</th>\n",
       "      <td>J15</td>\n",
       "      <td>DMSO_0.100_DMSO_0.025</td>\n",
       "    </tr>\n",
       "    <tr>\n",
       "      <th>293850</th>\n",
       "      <td>J16</td>\n",
       "      <td>LPS_100.000_DMSO_0.025</td>\n",
       "    </tr>\n",
       "    <tr>\n",
       "      <th>309750</th>\n",
       "      <td>J17</td>\n",
       "      <td>LPS_100.000_DMSO_0.025</td>\n",
       "    </tr>\n",
       "    <tr>\n",
       "      <th>344551</th>\n",
       "      <td>J20</td>\n",
       "      <td>LPS_100.000_DMSO_0.025</td>\n",
       "    </tr>\n",
       "  </tbody>\n",
       "</table>\n",
       "</div>"
      ],
      "text/plain": [
       "       Metadata_Well oneb_Metadata_Treatment_Dose_Inhibitor_Dose\n",
       "0                B14                       DMSO_0.100_DMSO_0.025\n",
       "4281             C14                       DMSO_0.100_DMSO_0.025\n",
       "28619            B15                       DMSO_0.100_DMSO_0.025\n",
       "33133            C15                       DMSO_0.100_DMSO_0.025\n",
       "241180           J14                       DMSO_0.100_DMSO_0.025\n",
       "265463           I15                       DMSO_0.100_DMSO_0.025\n",
       "270183           J15                       DMSO_0.100_DMSO_0.025\n",
       "293850           J16                      LPS_100.000_DMSO_0.025\n",
       "309750           J17                      LPS_100.000_DMSO_0.025\n",
       "344551           J20                      LPS_100.000_DMSO_0.025"
      ]
     },
     "execution_count": 30,
     "metadata": {},
     "output_type": "execute_result"
    }
   ],
   "source": [
    "# get the unique rows in a dataframe\n",
    "key_df = df_descriptive[\n",
    "    [\"Metadata_Well\", \"oneb_Metadata_Treatment_Dose_Inhibitor_Dose\"]\n",
    "].drop_duplicates()\n",
    "key_df"
   ]
  },
  {
   "cell_type": "code",
   "execution_count": 31,
   "id": "169d2a32",
   "metadata": {},
   "outputs": [],
   "source": [
    "# add treatment column based on well\n",
    "testing_values = pd.merge(testing_values, key_df, on=\"Metadata_Well\", how=\"left\")"
   ]
  },
  {
   "cell_type": "code",
   "execution_count": 32,
   "id": "b004b83a",
   "metadata": {},
   "outputs": [
    {
     "data": {
      "text/html": [
       "<div>\n",
       "<style scoped>\n",
       "    .dataframe tbody tr th:only-of-type {\n",
       "        vertical-align: middle;\n",
       "    }\n",
       "\n",
       "    .dataframe tbody tr th {\n",
       "        vertical-align: top;\n",
       "    }\n",
       "\n",
       "    .dataframe thead th {\n",
       "        text-align: right;\n",
       "    }\n",
       "</style>\n",
       "<table border=\"1\" class=\"dataframe\">\n",
       "  <thead>\n",
       "    <tr style=\"text-align: right;\">\n",
       "      <th></th>\n",
       "      <th>Actual</th>\n",
       "      <th>Average Predicted</th>\n",
       "      <th>cytokine</th>\n",
       "      <th>Metadata_Well</th>\n",
       "      <th>model_type</th>\n",
       "      <th>oneb_Metadata_Treatment_Dose_Inhibitor_Dose</th>\n",
       "    </tr>\n",
       "  </thead>\n",
       "  <tbody>\n",
       "    <tr>\n",
       "      <th>0</th>\n",
       "      <td>0.567975</td>\n",
       "      <td>0.553127</td>\n",
       "      <td>Activin A [NSU]</td>\n",
       "      <td>J20</td>\n",
       "      <td>test</td>\n",
       "      <td>LPS_100.000_DMSO_0.025</td>\n",
       "    </tr>\n",
       "    <tr>\n",
       "      <th>1</th>\n",
       "      <td>0.389848</td>\n",
       "      <td>0.553127</td>\n",
       "      <td>Activin A [NSU]</td>\n",
       "      <td>J16</td>\n",
       "      <td>test</td>\n",
       "      <td>LPS_100.000_DMSO_0.025</td>\n",
       "    </tr>\n",
       "    <tr>\n",
       "      <th>2</th>\n",
       "      <td>0.468110</td>\n",
       "      <td>0.553127</td>\n",
       "      <td>Activin A [NSU]</td>\n",
       "      <td>C15</td>\n",
       "      <td>test</td>\n",
       "      <td>DMSO_0.100_DMSO_0.025</td>\n",
       "    </tr>\n",
       "    <tr>\n",
       "      <th>3</th>\n",
       "      <td>0.442153</td>\n",
       "      <td>0.553127</td>\n",
       "      <td>Activin A [NSU]</td>\n",
       "      <td>J15</td>\n",
       "      <td>test</td>\n",
       "      <td>DMSO_0.100_DMSO_0.025</td>\n",
       "    </tr>\n",
       "    <tr>\n",
       "      <th>4</th>\n",
       "      <td>0.601907</td>\n",
       "      <td>0.553127</td>\n",
       "      <td>Activin A [NSU]</td>\n",
       "      <td>J17</td>\n",
       "      <td>test</td>\n",
       "      <td>LPS_100.000_DMSO_0.025</td>\n",
       "    </tr>\n",
       "    <tr>\n",
       "      <th>...</th>\n",
       "      <td>...</td>\n",
       "      <td>...</td>\n",
       "      <td>...</td>\n",
       "      <td>...</td>\n",
       "      <td>...</td>\n",
       "      <td>...</td>\n",
       "    </tr>\n",
       "    <tr>\n",
       "      <th>1865</th>\n",
       "      <td>0.763760</td>\n",
       "      <td>0.554708</td>\n",
       "      <td>XCL1 (Lymphotactin) [NSU]</td>\n",
       "      <td>B14</td>\n",
       "      <td>test</td>\n",
       "      <td>DMSO_0.100_DMSO_0.025</td>\n",
       "    </tr>\n",
       "    <tr>\n",
       "      <th>1866</th>\n",
       "      <td>0.657983</td>\n",
       "      <td>0.554708</td>\n",
       "      <td>XCL1 (Lymphotactin) [NSU]</td>\n",
       "      <td>I15</td>\n",
       "      <td>test</td>\n",
       "      <td>DMSO_0.100_DMSO_0.025</td>\n",
       "    </tr>\n",
       "    <tr>\n",
       "      <th>1867</th>\n",
       "      <td>0.298807</td>\n",
       "      <td>0.554708</td>\n",
       "      <td>XCL1 (Lymphotactin) [NSU]</td>\n",
       "      <td>B15</td>\n",
       "      <td>test</td>\n",
       "      <td>DMSO_0.100_DMSO_0.025</td>\n",
       "    </tr>\n",
       "    <tr>\n",
       "      <th>1868</th>\n",
       "      <td>0.430975</td>\n",
       "      <td>0.554708</td>\n",
       "      <td>XCL1 (Lymphotactin) [NSU]</td>\n",
       "      <td>J14</td>\n",
       "      <td>test</td>\n",
       "      <td>DMSO_0.100_DMSO_0.025</td>\n",
       "    </tr>\n",
       "    <tr>\n",
       "      <th>1869</th>\n",
       "      <td>0.509965</td>\n",
       "      <td>0.554708</td>\n",
       "      <td>XCL1 (Lymphotactin) [NSU]</td>\n",
       "      <td>C14</td>\n",
       "      <td>test</td>\n",
       "      <td>DMSO_0.100_DMSO_0.025</td>\n",
       "    </tr>\n",
       "  </tbody>\n",
       "</table>\n",
       "<p>1870 rows × 6 columns</p>\n",
       "</div>"
      ],
      "text/plain": [
       "        Actual  Average Predicted                   cytokine Metadata_Well  \\\n",
       "0     0.567975           0.553127            Activin A [NSU]           J20   \n",
       "1     0.389848           0.553127            Activin A [NSU]           J16   \n",
       "2     0.468110           0.553127            Activin A [NSU]           C15   \n",
       "3     0.442153           0.553127            Activin A [NSU]           J15   \n",
       "4     0.601907           0.553127            Activin A [NSU]           J17   \n",
       "...        ...                ...                        ...           ...   \n",
       "1865  0.763760           0.554708  XCL1 (Lymphotactin) [NSU]           B14   \n",
       "1866  0.657983           0.554708  XCL1 (Lymphotactin) [NSU]           I15   \n",
       "1867  0.298807           0.554708  XCL1 (Lymphotactin) [NSU]           B15   \n",
       "1868  0.430975           0.554708  XCL1 (Lymphotactin) [NSU]           J14   \n",
       "1869  0.509965           0.554708  XCL1 (Lymphotactin) [NSU]           C14   \n",
       "\n",
       "     model_type oneb_Metadata_Treatment_Dose_Inhibitor_Dose  \n",
       "0          test                      LPS_100.000_DMSO_0.025  \n",
       "1          test                      LPS_100.000_DMSO_0.025  \n",
       "2          test                       DMSO_0.100_DMSO_0.025  \n",
       "3          test                       DMSO_0.100_DMSO_0.025  \n",
       "4          test                      LPS_100.000_DMSO_0.025  \n",
       "...         ...                                         ...  \n",
       "1865       test                       DMSO_0.100_DMSO_0.025  \n",
       "1866       test                       DMSO_0.100_DMSO_0.025  \n",
       "1867       test                       DMSO_0.100_DMSO_0.025  \n",
       "1868       test                       DMSO_0.100_DMSO_0.025  \n",
       "1869       test                       DMSO_0.100_DMSO_0.025  \n",
       "\n",
       "[1870 rows x 6 columns]"
      ]
     },
     "execution_count": 32,
     "metadata": {},
     "output_type": "execute_result"
    }
   ],
   "source": [
    "testing_values"
   ]
  },
  {
   "cell_type": "markdown",
   "id": "3fe2bc94",
   "metadata": {},
   "source": [
    "# Hold out"
   ]
  },
  {
   "cell_type": "code",
   "execution_count": 33,
   "id": "e8a4e590",
   "metadata": {},
   "outputs": [],
   "source": [
    "# Code snippet for metadata extraction by Jenna Tomkinson\n",
    "df_metadata = list(df_holdout.columns[df_holdout.columns.str.contains(\"Metadata\")])\n",
    "\n",
    "# define which columns are data and which are descriptive\n",
    "df_descriptive = df_holdout[df_metadata]\n",
    "df_values = df_holdout.drop(columns=df_metadata)"
   ]
  },
  {
   "cell_type": "code",
   "execution_count": 34,
   "id": "a07bcbb5",
   "metadata": {},
   "outputs": [
    {
     "name": "stdout",
     "output_type": "stream",
     "text": [
      "(8963, 1438)\n",
      "(8963, 1251)\n",
      "(8963, 188)\n"
     ]
    },
    {
     "name": "stderr",
     "output_type": "stream",
     "text": [
      "/tmp/ipykernel_1234276/872919022.py:4: SettingWithCopyWarning:\n",
      "\n",
      "\n",
      "A value is trying to be set on a copy of a slice from a DataFrame.\n",
      "Try using .loc[row_indexer,col_indexer] = value instead\n",
      "\n",
      "See the caveats in the documentation: https://pandas.pydata.org/pandas-docs/stable/user_guide/indexing.html#returning-a-view-versus-a-copy\n",
      "\n"
     ]
    }
   ],
   "source": [
    "# get all columns that contain NSU in the name\n",
    "df_values_Y = df_values[df_values.columns[df_values.columns.str.contains(\"NSU\")]]\n",
    "df_values_X = df_values.drop(columns=df_values_Y.columns)\n",
    "df_values_Y[\"Metadata_Well\"] = df_descriptive[\"Metadata_Well\"]\n",
    "\n",
    "print(df_values.shape)\n",
    "print(df_values_X.shape)\n",
    "print(df_values_Y.shape)"
   ]
  },
  {
   "cell_type": "code",
   "execution_count": 35,
   "id": "b50dd122",
   "metadata": {},
   "outputs": [],
   "source": [
    "df_values_Y_well = df_values_Y\n",
    "df_values_Y = df_values_Y.drop(columns=[\"Metadata_Well\"])"
   ]
  },
  {
   "cell_type": "code",
   "execution_count": 36,
   "id": "2c5677d3",
   "metadata": {},
   "outputs": [],
   "source": [
    "test_data = Dataset_formatter(\n",
    "    torch.FloatTensor(df_values_X.values), torch.FloatTensor(df_values_Y.values)\n",
    ")\n",
    "\n",
    "# convert data class into a dataloader to be compatible with pytorch\n",
    "test_loader = torch.utils.data.DataLoader(dataset=test_data, batch_size=1)"
   ]
  },
  {
   "cell_type": "code",
   "execution_count": 37,
   "id": "3e2c848c",
   "metadata": {},
   "outputs": [
    {
     "name": "stdout",
     "output_type": "stream",
     "text": [
      "DMSO_0.025_vs_LPS_100\n"
     ]
    }
   ],
   "source": [
    "# calling the testing function and outputting list values of tested model\n",
    "if params.MODEL_TYPE == \"Multi_Class\" or params.MODEL_TYPE == \"Regression\":\n",
    "    y_pred_list = test_optimized_model(\n",
    "        model, test_loader, params, model_name=params.MODEL_NAME\n",
    "    )\n",
    "elif params.MODEL_TYPE == \"Binary_Classification\":\n",
    "    y_pred_list, y_pred_prob_list = test_optimized_model(\n",
    "        model, test_loader, params, model_name=params.MODEL_NAME\n",
    "    )\n",
    "else:\n",
    "    raise Exception(\"Model type must be specified for proper model testing\")\n",
    "\n",
    "\n",
    "# un-nest list if nested i.e. length of input data does not match length of output data\n",
    "if len(y_pred_list) != len(df_values_Y):\n",
    "    y_pred_list = un_nest(y_pred_list)\n",
    "    y_pred_prob_list = un_nest(y_pred_prob_list)\n",
    "else:\n",
    "    pass"
   ]
  },
  {
   "cell_type": "code",
   "execution_count": 38,
   "id": "45f41d3b",
   "metadata": {},
   "outputs": [
    {
     "data": {
      "text/html": [
       "<div>\n",
       "<style scoped>\n",
       "    .dataframe tbody tr th:only-of-type {\n",
       "        vertical-align: middle;\n",
       "    }\n",
       "\n",
       "    .dataframe tbody tr th {\n",
       "        vertical-align: top;\n",
       "    }\n",
       "\n",
       "    .dataframe thead th {\n",
       "        text-align: right;\n",
       "    }\n",
       "</style>\n",
       "<table border=\"1\" class=\"dataframe\">\n",
       "  <thead>\n",
       "    <tr style=\"text-align: right;\">\n",
       "      <th></th>\n",
       "      <th>Activin A [NSU]</th>\n",
       "      <th>AITRL (GITR Ligand) [NSU]</th>\n",
       "      <th>Amphiregulin [NSU]</th>\n",
       "      <th>Amyloid beta [NSU]</th>\n",
       "      <th>APRIL [NSU]</th>\n",
       "      <th>BAFF [NSU]</th>\n",
       "      <th>BCMA (TNFRSF17) [NSU]</th>\n",
       "      <th>BDNF [NSU]</th>\n",
       "      <th>BMP2 [NSU]</th>\n",
       "      <th>BMP3 [NSU]</th>\n",
       "      <th>...</th>\n",
       "      <th>TWEAK [NSU]</th>\n",
       "      <th>uPA [NSU]</th>\n",
       "      <th>VCAM-1 [NSU]</th>\n",
       "      <th>VEGF Receptor 2 (Flk-1) [NSU]</th>\n",
       "      <th>VEGF-A (165) [NSU]</th>\n",
       "      <th>VEGF-C [NSU]</th>\n",
       "      <th>VEGF-D [NSU]</th>\n",
       "      <th>VEGFR-1 [NSU]</th>\n",
       "      <th>WISP-1 (CCN4) [NSU]</th>\n",
       "      <th>XCL1 (Lymphotactin) [NSU]</th>\n",
       "    </tr>\n",
       "  </thead>\n",
       "  <tbody>\n",
       "    <tr>\n",
       "      <th>236343</th>\n",
       "      <td>0.553127</td>\n",
       "      <td>0.672684</td>\n",
       "      <td>0.263708</td>\n",
       "      <td>0.548435</td>\n",
       "      <td>0.581517</td>\n",
       "      <td>0.409187</td>\n",
       "      <td>0.491697</td>\n",
       "      <td>0.472798</td>\n",
       "      <td>0.647211</td>\n",
       "      <td>0.526138</td>\n",
       "      <td>...</td>\n",
       "      <td>0.401412</td>\n",
       "      <td>0.192506</td>\n",
       "      <td>0.438773</td>\n",
       "      <td>0.398925</td>\n",
       "      <td>0.465677</td>\n",
       "      <td>0.287587</td>\n",
       "      <td>0.400124</td>\n",
       "      <td>0.600639</td>\n",
       "      <td>0.516713</td>\n",
       "      <td>0.554708</td>\n",
       "    </tr>\n",
       "    <tr>\n",
       "      <th>236344</th>\n",
       "      <td>0.553127</td>\n",
       "      <td>0.672684</td>\n",
       "      <td>0.263708</td>\n",
       "      <td>0.548435</td>\n",
       "      <td>0.581517</td>\n",
       "      <td>0.409187</td>\n",
       "      <td>0.491697</td>\n",
       "      <td>0.472798</td>\n",
       "      <td>0.647211</td>\n",
       "      <td>0.526138</td>\n",
       "      <td>...</td>\n",
       "      <td>0.401412</td>\n",
       "      <td>0.192506</td>\n",
       "      <td>0.438773</td>\n",
       "      <td>0.398925</td>\n",
       "      <td>0.465677</td>\n",
       "      <td>0.287587</td>\n",
       "      <td>0.400124</td>\n",
       "      <td>0.600639</td>\n",
       "      <td>0.516713</td>\n",
       "      <td>0.554708</td>\n",
       "    </tr>\n",
       "  </tbody>\n",
       "</table>\n",
       "<p>2 rows × 187 columns</p>\n",
       "</div>"
      ],
      "text/plain": [
       "        Activin A [NSU]  AITRL (GITR Ligand) [NSU]  Amphiregulin [NSU]  \\\n",
       "236343         0.553127                   0.672684            0.263708   \n",
       "236344         0.553127                   0.672684            0.263708   \n",
       "\n",
       "        Amyloid beta [NSU]  APRIL [NSU]  BAFF [NSU]  BCMA (TNFRSF17) [NSU]  \\\n",
       "236343            0.548435     0.581517    0.409187               0.491697   \n",
       "236344            0.548435     0.581517    0.409187               0.491697   \n",
       "\n",
       "        BDNF [NSU]  BMP2 [NSU]  BMP3 [NSU]  ...  TWEAK [NSU]  uPA [NSU]  \\\n",
       "236343    0.472798    0.647211    0.526138  ...     0.401412   0.192506   \n",
       "236344    0.472798    0.647211    0.526138  ...     0.401412   0.192506   \n",
       "\n",
       "        VCAM-1 [NSU]  VEGF Receptor 2 (Flk-1) [NSU]  VEGF-A (165) [NSU]  \\\n",
       "236343      0.438773                       0.398925            0.465677   \n",
       "236344      0.438773                       0.398925            0.465677   \n",
       "\n",
       "        VEGF-C [NSU]  VEGF-D [NSU]  VEGFR-1 [NSU]  WISP-1 (CCN4) [NSU]  \\\n",
       "236343      0.287587      0.400124       0.600639             0.516713   \n",
       "236344      0.287587      0.400124       0.600639             0.516713   \n",
       "\n",
       "        XCL1 (Lymphotactin) [NSU]  \n",
       "236343                   0.554708  \n",
       "236344                   0.554708  \n",
       "\n",
       "[2 rows x 187 columns]"
      ]
     },
     "execution_count": 38,
     "metadata": {},
     "output_type": "execute_result"
    }
   ],
   "source": [
    "# make the prediction list into a dataframe using column names from the test data\n",
    "prediction_df = pd.DataFrame(\n",
    "    y_pred_list, columns=df_values_Y.columns, index=df_values_Y.index\n",
    ")\n",
    "prediction_df.head(2)"
   ]
  },
  {
   "cell_type": "code",
   "execution_count": 39,
   "id": "f5797b7b",
   "metadata": {},
   "outputs": [
    {
     "name": "stdout",
     "output_type": "stream",
     "text": [
      "(8963, 187) (8963, 187)\n"
     ]
    },
    {
     "data": {
      "text/html": [
       "<div>\n",
       "<style scoped>\n",
       "    .dataframe tbody tr th:only-of-type {\n",
       "        vertical-align: middle;\n",
       "    }\n",
       "\n",
       "    .dataframe tbody tr th {\n",
       "        vertical-align: top;\n",
       "    }\n",
       "\n",
       "    .dataframe thead th {\n",
       "        text-align: right;\n",
       "    }\n",
       "</style>\n",
       "<table border=\"1\" class=\"dataframe\">\n",
       "  <thead>\n",
       "    <tr style=\"text-align: right;\">\n",
       "      <th></th>\n",
       "      <th>Activin A [NSU]</th>\n",
       "      <th>AITRL (GITR Ligand) [NSU]</th>\n",
       "      <th>Amphiregulin [NSU]</th>\n",
       "      <th>Amyloid beta [NSU]</th>\n",
       "      <th>APRIL [NSU]</th>\n",
       "      <th>BAFF [NSU]</th>\n",
       "      <th>BCMA (TNFRSF17) [NSU]</th>\n",
       "      <th>BDNF [NSU]</th>\n",
       "      <th>BMP2 [NSU]</th>\n",
       "      <th>BMP3 [NSU]</th>\n",
       "      <th>...</th>\n",
       "      <th>TWEAK [NSU]</th>\n",
       "      <th>uPA [NSU]</th>\n",
       "      <th>VCAM-1 [NSU]</th>\n",
       "      <th>VEGF Receptor 2 (Flk-1) [NSU]</th>\n",
       "      <th>VEGF-A (165) [NSU]</th>\n",
       "      <th>VEGF-C [NSU]</th>\n",
       "      <th>VEGF-D [NSU]</th>\n",
       "      <th>VEGFR-1 [NSU]</th>\n",
       "      <th>WISP-1 (CCN4) [NSU]</th>\n",
       "      <th>XCL1 (Lymphotactin) [NSU]</th>\n",
       "    </tr>\n",
       "  </thead>\n",
       "  <tbody>\n",
       "    <tr>\n",
       "      <th>236343</th>\n",
       "      <td>0.553127</td>\n",
       "      <td>0.672684</td>\n",
       "      <td>0.263708</td>\n",
       "      <td>0.548435</td>\n",
       "      <td>0.581517</td>\n",
       "      <td>0.409187</td>\n",
       "      <td>0.491697</td>\n",
       "      <td>0.472798</td>\n",
       "      <td>0.647211</td>\n",
       "      <td>0.526138</td>\n",
       "      <td>...</td>\n",
       "      <td>0.401412</td>\n",
       "      <td>0.192506</td>\n",
       "      <td>0.438773</td>\n",
       "      <td>0.398925</td>\n",
       "      <td>0.465677</td>\n",
       "      <td>0.287587</td>\n",
       "      <td>0.400124</td>\n",
       "      <td>0.600639</td>\n",
       "      <td>0.516713</td>\n",
       "      <td>0.554708</td>\n",
       "    </tr>\n",
       "    <tr>\n",
       "      <th>236344</th>\n",
       "      <td>0.553127</td>\n",
       "      <td>0.672684</td>\n",
       "      <td>0.263708</td>\n",
       "      <td>0.548435</td>\n",
       "      <td>0.581517</td>\n",
       "      <td>0.409187</td>\n",
       "      <td>0.491697</td>\n",
       "      <td>0.472798</td>\n",
       "      <td>0.647211</td>\n",
       "      <td>0.526138</td>\n",
       "      <td>...</td>\n",
       "      <td>0.401412</td>\n",
       "      <td>0.192506</td>\n",
       "      <td>0.438773</td>\n",
       "      <td>0.398925</td>\n",
       "      <td>0.465677</td>\n",
       "      <td>0.287587</td>\n",
       "      <td>0.400124</td>\n",
       "      <td>0.600639</td>\n",
       "      <td>0.516713</td>\n",
       "      <td>0.554708</td>\n",
       "    </tr>\n",
       "  </tbody>\n",
       "</table>\n",
       "<p>2 rows × 187 columns</p>\n",
       "</div>"
      ],
      "text/plain": [
       "        Activin A [NSU]  AITRL (GITR Ligand) [NSU]  Amphiregulin [NSU]  \\\n",
       "236343         0.553127                   0.672684            0.263708   \n",
       "236344         0.553127                   0.672684            0.263708   \n",
       "\n",
       "        Amyloid beta [NSU]  APRIL [NSU]  BAFF [NSU]  BCMA (TNFRSF17) [NSU]  \\\n",
       "236343            0.548435     0.581517    0.409187               0.491697   \n",
       "236344            0.548435     0.581517    0.409187               0.491697   \n",
       "\n",
       "        BDNF [NSU]  BMP2 [NSU]  BMP3 [NSU]  ...  TWEAK [NSU]  uPA [NSU]  \\\n",
       "236343    0.472798    0.647211    0.526138  ...     0.401412   0.192506   \n",
       "236344    0.472798    0.647211    0.526138  ...     0.401412   0.192506   \n",
       "\n",
       "        VCAM-1 [NSU]  VEGF Receptor 2 (Flk-1) [NSU]  VEGF-A (165) [NSU]  \\\n",
       "236343      0.438773                       0.398925            0.465677   \n",
       "236344      0.438773                       0.398925            0.465677   \n",
       "\n",
       "        VEGF-C [NSU]  VEGF-D [NSU]  VEGFR-1 [NSU]  WISP-1 (CCN4) [NSU]  \\\n",
       "236343      0.287587      0.400124       0.600639             0.516713   \n",
       "236344      0.287587      0.400124       0.600639             0.516713   \n",
       "\n",
       "        XCL1 (Lymphotactin) [NSU]  \n",
       "236343                   0.554708  \n",
       "236344                   0.554708  \n",
       "\n",
       "[2 rows x 187 columns]"
      ]
     },
     "execution_count": 39,
     "metadata": {},
     "output_type": "execute_result"
    }
   ],
   "source": [
    "print(df_values_Y.shape, prediction_df.shape)\n",
    "df_values_Y.head(2)\n",
    "prediction_df.head(2)"
   ]
  },
  {
   "cell_type": "code",
   "execution_count": 40,
   "id": "e0c6128f",
   "metadata": {},
   "outputs": [
    {
     "data": {
      "text/html": [
       "<div>\n",
       "<style scoped>\n",
       "    .dataframe tbody tr th:only-of-type {\n",
       "        vertical-align: middle;\n",
       "    }\n",
       "\n",
       "    .dataframe tbody tr th {\n",
       "        vertical-align: top;\n",
       "    }\n",
       "\n",
       "    .dataframe thead th {\n",
       "        text-align: right;\n",
       "    }\n",
       "</style>\n",
       "<table border=\"1\" class=\"dataframe\">\n",
       "  <thead>\n",
       "    <tr style=\"text-align: right;\">\n",
       "      <th></th>\n",
       "      <th>Activin A [NSU]</th>\n",
       "      <th>AITRL (GITR Ligand) [NSU]</th>\n",
       "      <th>Amphiregulin [NSU]</th>\n",
       "      <th>Amyloid beta [NSU]</th>\n",
       "      <th>APRIL [NSU]</th>\n",
       "      <th>BAFF [NSU]</th>\n",
       "      <th>BCMA (TNFRSF17) [NSU]</th>\n",
       "      <th>BDNF [NSU]</th>\n",
       "      <th>BMP2 [NSU]</th>\n",
       "      <th>BMP3 [NSU]</th>\n",
       "      <th>...</th>\n",
       "      <th>uPA [NSU]</th>\n",
       "      <th>VCAM-1 [NSU]</th>\n",
       "      <th>VEGF Receptor 2 (Flk-1) [NSU]</th>\n",
       "      <th>VEGF-A (165) [NSU]</th>\n",
       "      <th>VEGF-C [NSU]</th>\n",
       "      <th>VEGF-D [NSU]</th>\n",
       "      <th>VEGFR-1 [NSU]</th>\n",
       "      <th>WISP-1 (CCN4) [NSU]</th>\n",
       "      <th>XCL1 (Lymphotactin) [NSU]</th>\n",
       "      <th>Metadata_Well</th>\n",
       "    </tr>\n",
       "  </thead>\n",
       "  <tbody>\n",
       "    <tr>\n",
       "      <th>236343</th>\n",
       "      <td>0.553127</td>\n",
       "      <td>0.672684</td>\n",
       "      <td>0.263708</td>\n",
       "      <td>0.548435</td>\n",
       "      <td>0.581517</td>\n",
       "      <td>0.409187</td>\n",
       "      <td>0.491697</td>\n",
       "      <td>0.472798</td>\n",
       "      <td>0.647211</td>\n",
       "      <td>0.526138</td>\n",
       "      <td>...</td>\n",
       "      <td>0.192506</td>\n",
       "      <td>0.438773</td>\n",
       "      <td>0.398925</td>\n",
       "      <td>0.465677</td>\n",
       "      <td>0.287587</td>\n",
       "      <td>0.400124</td>\n",
       "      <td>0.600639</td>\n",
       "      <td>0.516713</td>\n",
       "      <td>0.554708</td>\n",
       "      <td>I14</td>\n",
       "    </tr>\n",
       "    <tr>\n",
       "      <th>236344</th>\n",
       "      <td>0.553127</td>\n",
       "      <td>0.672684</td>\n",
       "      <td>0.263708</td>\n",
       "      <td>0.548435</td>\n",
       "      <td>0.581517</td>\n",
       "      <td>0.409187</td>\n",
       "      <td>0.491697</td>\n",
       "      <td>0.472798</td>\n",
       "      <td>0.647211</td>\n",
       "      <td>0.526138</td>\n",
       "      <td>...</td>\n",
       "      <td>0.192506</td>\n",
       "      <td>0.438773</td>\n",
       "      <td>0.398925</td>\n",
       "      <td>0.465677</td>\n",
       "      <td>0.287587</td>\n",
       "      <td>0.400124</td>\n",
       "      <td>0.600639</td>\n",
       "      <td>0.516713</td>\n",
       "      <td>0.554708</td>\n",
       "      <td>I14</td>\n",
       "    </tr>\n",
       "    <tr>\n",
       "      <th>236345</th>\n",
       "      <td>0.553127</td>\n",
       "      <td>0.672684</td>\n",
       "      <td>0.263708</td>\n",
       "      <td>0.548435</td>\n",
       "      <td>0.581517</td>\n",
       "      <td>0.409187</td>\n",
       "      <td>0.491697</td>\n",
       "      <td>0.472798</td>\n",
       "      <td>0.647211</td>\n",
       "      <td>0.526138</td>\n",
       "      <td>...</td>\n",
       "      <td>0.192506</td>\n",
       "      <td>0.438773</td>\n",
       "      <td>0.398925</td>\n",
       "      <td>0.465677</td>\n",
       "      <td>0.287587</td>\n",
       "      <td>0.400124</td>\n",
       "      <td>0.600639</td>\n",
       "      <td>0.516713</td>\n",
       "      <td>0.554708</td>\n",
       "      <td>I14</td>\n",
       "    </tr>\n",
       "    <tr>\n",
       "      <th>236346</th>\n",
       "      <td>0.553127</td>\n",
       "      <td>0.672684</td>\n",
       "      <td>0.263708</td>\n",
       "      <td>0.548435</td>\n",
       "      <td>0.581517</td>\n",
       "      <td>0.409187</td>\n",
       "      <td>0.491697</td>\n",
       "      <td>0.472798</td>\n",
       "      <td>0.647211</td>\n",
       "      <td>0.526138</td>\n",
       "      <td>...</td>\n",
       "      <td>0.192506</td>\n",
       "      <td>0.438773</td>\n",
       "      <td>0.398925</td>\n",
       "      <td>0.465677</td>\n",
       "      <td>0.287587</td>\n",
       "      <td>0.400124</td>\n",
       "      <td>0.600639</td>\n",
       "      <td>0.516713</td>\n",
       "      <td>0.554708</td>\n",
       "      <td>I14</td>\n",
       "    </tr>\n",
       "    <tr>\n",
       "      <th>236347</th>\n",
       "      <td>0.553127</td>\n",
       "      <td>0.672684</td>\n",
       "      <td>0.263708</td>\n",
       "      <td>0.548435</td>\n",
       "      <td>0.581517</td>\n",
       "      <td>0.409187</td>\n",
       "      <td>0.491697</td>\n",
       "      <td>0.472798</td>\n",
       "      <td>0.647211</td>\n",
       "      <td>0.526138</td>\n",
       "      <td>...</td>\n",
       "      <td>0.192506</td>\n",
       "      <td>0.438773</td>\n",
       "      <td>0.398925</td>\n",
       "      <td>0.465677</td>\n",
       "      <td>0.287587</td>\n",
       "      <td>0.400124</td>\n",
       "      <td>0.600639</td>\n",
       "      <td>0.516713</td>\n",
       "      <td>0.554708</td>\n",
       "      <td>I14</td>\n",
       "    </tr>\n",
       "    <tr>\n",
       "      <th>...</th>\n",
       "      <td>...</td>\n",
       "      <td>...</td>\n",
       "      <td>...</td>\n",
       "      <td>...</td>\n",
       "      <td>...</td>\n",
       "      <td>...</td>\n",
       "      <td>...</td>\n",
       "      <td>...</td>\n",
       "      <td>...</td>\n",
       "      <td>...</td>\n",
       "      <td>...</td>\n",
       "      <td>...</td>\n",
       "      <td>...</td>\n",
       "      <td>...</td>\n",
       "      <td>...</td>\n",
       "      <td>...</td>\n",
       "      <td>...</td>\n",
       "      <td>...</td>\n",
       "      <td>...</td>\n",
       "      <td>...</td>\n",
       "      <td>...</td>\n",
       "    </tr>\n",
       "    <tr>\n",
       "      <th>363387</th>\n",
       "      <td>0.553127</td>\n",
       "      <td>0.672684</td>\n",
       "      <td>0.263708</td>\n",
       "      <td>0.548435</td>\n",
       "      <td>0.581517</td>\n",
       "      <td>0.409187</td>\n",
       "      <td>0.491697</td>\n",
       "      <td>0.472798</td>\n",
       "      <td>0.647211</td>\n",
       "      <td>0.526138</td>\n",
       "      <td>...</td>\n",
       "      <td>0.192506</td>\n",
       "      <td>0.438773</td>\n",
       "      <td>0.398925</td>\n",
       "      <td>0.465677</td>\n",
       "      <td>0.287587</td>\n",
       "      <td>0.400124</td>\n",
       "      <td>0.600639</td>\n",
       "      <td>0.516713</td>\n",
       "      <td>0.554708</td>\n",
       "      <td>J21</td>\n",
       "    </tr>\n",
       "    <tr>\n",
       "      <th>363388</th>\n",
       "      <td>0.553127</td>\n",
       "      <td>0.672684</td>\n",
       "      <td>0.263708</td>\n",
       "      <td>0.548435</td>\n",
       "      <td>0.581517</td>\n",
       "      <td>0.409187</td>\n",
       "      <td>0.491697</td>\n",
       "      <td>0.472798</td>\n",
       "      <td>0.647211</td>\n",
       "      <td>0.526138</td>\n",
       "      <td>...</td>\n",
       "      <td>0.192506</td>\n",
       "      <td>0.438773</td>\n",
       "      <td>0.398925</td>\n",
       "      <td>0.465677</td>\n",
       "      <td>0.287587</td>\n",
       "      <td>0.400124</td>\n",
       "      <td>0.600639</td>\n",
       "      <td>0.516713</td>\n",
       "      <td>0.554708</td>\n",
       "      <td>J21</td>\n",
       "    </tr>\n",
       "    <tr>\n",
       "      <th>363389</th>\n",
       "      <td>0.553127</td>\n",
       "      <td>0.672684</td>\n",
       "      <td>0.263708</td>\n",
       "      <td>0.548435</td>\n",
       "      <td>0.581517</td>\n",
       "      <td>0.409187</td>\n",
       "      <td>0.491697</td>\n",
       "      <td>0.472798</td>\n",
       "      <td>0.647211</td>\n",
       "      <td>0.526138</td>\n",
       "      <td>...</td>\n",
       "      <td>0.192506</td>\n",
       "      <td>0.438773</td>\n",
       "      <td>0.398925</td>\n",
       "      <td>0.465677</td>\n",
       "      <td>0.287587</td>\n",
       "      <td>0.400124</td>\n",
       "      <td>0.600639</td>\n",
       "      <td>0.516713</td>\n",
       "      <td>0.554708</td>\n",
       "      <td>J21</td>\n",
       "    </tr>\n",
       "    <tr>\n",
       "      <th>363390</th>\n",
       "      <td>0.553127</td>\n",
       "      <td>0.672684</td>\n",
       "      <td>0.263708</td>\n",
       "      <td>0.548435</td>\n",
       "      <td>0.581517</td>\n",
       "      <td>0.409187</td>\n",
       "      <td>0.491697</td>\n",
       "      <td>0.472798</td>\n",
       "      <td>0.647211</td>\n",
       "      <td>0.526138</td>\n",
       "      <td>...</td>\n",
       "      <td>0.192506</td>\n",
       "      <td>0.438773</td>\n",
       "      <td>0.398925</td>\n",
       "      <td>0.465677</td>\n",
       "      <td>0.287587</td>\n",
       "      <td>0.400124</td>\n",
       "      <td>0.600639</td>\n",
       "      <td>0.516713</td>\n",
       "      <td>0.554708</td>\n",
       "      <td>J21</td>\n",
       "    </tr>\n",
       "    <tr>\n",
       "      <th>363391</th>\n",
       "      <td>0.553127</td>\n",
       "      <td>0.672684</td>\n",
       "      <td>0.263708</td>\n",
       "      <td>0.548435</td>\n",
       "      <td>0.581517</td>\n",
       "      <td>0.409187</td>\n",
       "      <td>0.491697</td>\n",
       "      <td>0.472798</td>\n",
       "      <td>0.647211</td>\n",
       "      <td>0.526138</td>\n",
       "      <td>...</td>\n",
       "      <td>0.192506</td>\n",
       "      <td>0.438773</td>\n",
       "      <td>0.398925</td>\n",
       "      <td>0.465677</td>\n",
       "      <td>0.287587</td>\n",
       "      <td>0.400124</td>\n",
       "      <td>0.600639</td>\n",
       "      <td>0.516713</td>\n",
       "      <td>0.554708</td>\n",
       "      <td>J21</td>\n",
       "    </tr>\n",
       "  </tbody>\n",
       "</table>\n",
       "<p>8963 rows × 188 columns</p>\n",
       "</div>"
      ],
      "text/plain": [
       "        Activin A [NSU]  AITRL (GITR Ligand) [NSU]  Amphiregulin [NSU]  \\\n",
       "236343         0.553127                   0.672684            0.263708   \n",
       "236344         0.553127                   0.672684            0.263708   \n",
       "236345         0.553127                   0.672684            0.263708   \n",
       "236346         0.553127                   0.672684            0.263708   \n",
       "236347         0.553127                   0.672684            0.263708   \n",
       "...                 ...                        ...                 ...   \n",
       "363387         0.553127                   0.672684            0.263708   \n",
       "363388         0.553127                   0.672684            0.263708   \n",
       "363389         0.553127                   0.672684            0.263708   \n",
       "363390         0.553127                   0.672684            0.263708   \n",
       "363391         0.553127                   0.672684            0.263708   \n",
       "\n",
       "        Amyloid beta [NSU]  APRIL [NSU]  BAFF [NSU]  BCMA (TNFRSF17) [NSU]  \\\n",
       "236343            0.548435     0.581517    0.409187               0.491697   \n",
       "236344            0.548435     0.581517    0.409187               0.491697   \n",
       "236345            0.548435     0.581517    0.409187               0.491697   \n",
       "236346            0.548435     0.581517    0.409187               0.491697   \n",
       "236347            0.548435     0.581517    0.409187               0.491697   \n",
       "...                    ...          ...         ...                    ...   \n",
       "363387            0.548435     0.581517    0.409187               0.491697   \n",
       "363388            0.548435     0.581517    0.409187               0.491697   \n",
       "363389            0.548435     0.581517    0.409187               0.491697   \n",
       "363390            0.548435     0.581517    0.409187               0.491697   \n",
       "363391            0.548435     0.581517    0.409187               0.491697   \n",
       "\n",
       "        BDNF [NSU]  BMP2 [NSU]  BMP3 [NSU]  ...  uPA [NSU]  VCAM-1 [NSU]  \\\n",
       "236343    0.472798    0.647211    0.526138  ...   0.192506      0.438773   \n",
       "236344    0.472798    0.647211    0.526138  ...   0.192506      0.438773   \n",
       "236345    0.472798    0.647211    0.526138  ...   0.192506      0.438773   \n",
       "236346    0.472798    0.647211    0.526138  ...   0.192506      0.438773   \n",
       "236347    0.472798    0.647211    0.526138  ...   0.192506      0.438773   \n",
       "...            ...         ...         ...  ...        ...           ...   \n",
       "363387    0.472798    0.647211    0.526138  ...   0.192506      0.438773   \n",
       "363388    0.472798    0.647211    0.526138  ...   0.192506      0.438773   \n",
       "363389    0.472798    0.647211    0.526138  ...   0.192506      0.438773   \n",
       "363390    0.472798    0.647211    0.526138  ...   0.192506      0.438773   \n",
       "363391    0.472798    0.647211    0.526138  ...   0.192506      0.438773   \n",
       "\n",
       "        VEGF Receptor 2 (Flk-1) [NSU]  VEGF-A (165) [NSU]  VEGF-C [NSU]  \\\n",
       "236343                       0.398925            0.465677      0.287587   \n",
       "236344                       0.398925            0.465677      0.287587   \n",
       "236345                       0.398925            0.465677      0.287587   \n",
       "236346                       0.398925            0.465677      0.287587   \n",
       "236347                       0.398925            0.465677      0.287587   \n",
       "...                               ...                 ...           ...   \n",
       "363387                       0.398925            0.465677      0.287587   \n",
       "363388                       0.398925            0.465677      0.287587   \n",
       "363389                       0.398925            0.465677      0.287587   \n",
       "363390                       0.398925            0.465677      0.287587   \n",
       "363391                       0.398925            0.465677      0.287587   \n",
       "\n",
       "        VEGF-D [NSU]  VEGFR-1 [NSU]  WISP-1 (CCN4) [NSU]  \\\n",
       "236343      0.400124       0.600639             0.516713   \n",
       "236344      0.400124       0.600639             0.516713   \n",
       "236345      0.400124       0.600639             0.516713   \n",
       "236346      0.400124       0.600639             0.516713   \n",
       "236347      0.400124       0.600639             0.516713   \n",
       "...              ...            ...                  ...   \n",
       "363387      0.400124       0.600639             0.516713   \n",
       "363388      0.400124       0.600639             0.516713   \n",
       "363389      0.400124       0.600639             0.516713   \n",
       "363390      0.400124       0.600639             0.516713   \n",
       "363391      0.400124       0.600639             0.516713   \n",
       "\n",
       "        XCL1 (Lymphotactin) [NSU]  Metadata_Well  \n",
       "236343                   0.554708            I14  \n",
       "236344                   0.554708            I14  \n",
       "236345                   0.554708            I14  \n",
       "236346                   0.554708            I14  \n",
       "236347                   0.554708            I14  \n",
       "...                           ...            ...  \n",
       "363387                   0.554708            J21  \n",
       "363388                   0.554708            J21  \n",
       "363389                   0.554708            J21  \n",
       "363390                   0.554708            J21  \n",
       "363391                   0.554708            J21  \n",
       "\n",
       "[8963 rows x 188 columns]"
      ]
     },
     "execution_count": 40,
     "metadata": {},
     "output_type": "execute_result"
    }
   ],
   "source": [
    "# make the prediction list into a dataframe using column names from the test data\n",
    "prediction_df = pd.DataFrame(\n",
    "    y_pred_list, columns=df_values_Y.columns, index=df_values_Y.index\n",
    ")\n",
    "prediction_df[\"Metadata_Well\"] = df_values_Y_well[\"Metadata_Well\"]\n",
    "prediction_df[\"Metadata_Well\"].unique()\n",
    "prediction_df"
   ]
  },
  {
   "cell_type": "code",
   "execution_count": 41,
   "id": "b0290a2c",
   "metadata": {},
   "outputs": [],
   "source": [
    "df_values_Y.reset_index(drop=True, inplace=True)\n",
    "prediction_df.reset_index(drop=True, inplace=True)"
   ]
  },
  {
   "cell_type": "code",
   "execution_count": 42,
   "id": "3c53f7e4",
   "metadata": {},
   "outputs": [],
   "source": [
    "from sklearn.metrics import mean_squared_error, r2_score\n",
    "\n",
    "# get the list of columns in the test data\n",
    "test_data_columns = df_values_Y.columns.to_list()\n",
    "# loop through the columns\n",
    "for col in test_data_columns:\n",
    "    # get the column from test data\n",
    "    test_col = df_values_Y[col]\n",
    "    # get the column from prediction data\n",
    "    pred_col = prediction_df[col]\n",
    "    # list of treatment names\n",
    "    treatment_col = prediction_df[\"Metadata_Well\"]\n",
    "    # get the mse and r2 for the columns\n",
    "    mse = mean_squared_error(test_col, pred_col)\n",
    "    r_square = r2_score(test_col, pred_col)\n",
    "    a, b = np.polyfit(test_col, pred_col, 1)\n",
    "    index_dict = {}\n",
    "    for i in test_col.unique():\n",
    "        index_list = []\n",
    "        for j in enumerate(test_col):\n",
    "            if i == j[1]:\n",
    "                index_list.append(j[0])\n",
    "        index_dict[i] = index_list\n",
    "    new_value_dict = {}\n",
    "    for i in index_dict:\n",
    "        new_value_dict[i] = [\n",
    "            pred_col[index_dict[i]].median(),\n",
    "            treatment_col[index_dict[i]].unique().tolist()[0],\n",
    "        ]\n",
    "\n",
    "    df = (\n",
    "        pd.DataFrame.from_dict(new_value_dict, orient=\"index\")\n",
    "        .reset_index()\n",
    "        .rename(columns={\"index\": \"Actual\", 0: \"Average Predicted\", 1: \"Metadata_Well\"})\n",
    "    )\n",
    "    df[\"cytokine\"] = col\n",
    "    df[\"model_type\"] = \"holdout\"\n",
    "\n",
    "    testing_values = pd.concat([testing_values, df], axis=0)\n",
    "    # plt.scatter(df['Actual'], df['Average Predicted'])\n",
    "    # # plt.plot([min(test_col), max(test_col)], [min(test_col), max(test_col)], color='red', linestyle='--')\n",
    "    # plt.plot(\n",
    "    #     test_col,\n",
    "    #     a * test_col + b,\n",
    "    #     color=\"red\",\n",
    "    #     label=\"R2={0:0.2f}\".format(r_square),\n",
    "    # )\n",
    "    # plt.title(\n",
    "    #     f\"Regression Nerual Network Prediction vs. True \\n {col}\", fontsize=25\n",
    "    # )\n",
    "    # plt.ylabel(\"Predicted\", fontsize=18)\n",
    "    # plt.xlabel(\"Target\", fontsize=18)\n",
    "    # # make data continuous\n",
    "    # plt.show()\n",
    "    # plt.close()"
   ]
  },
  {
   "cell_type": "code",
   "execution_count": 43,
   "id": "916baf9c",
   "metadata": {},
   "outputs": [
    {
     "data": {
      "text/html": [
       "<div>\n",
       "<style scoped>\n",
       "    .dataframe tbody tr th:only-of-type {\n",
       "        vertical-align: middle;\n",
       "    }\n",
       "\n",
       "    .dataframe tbody tr th {\n",
       "        vertical-align: top;\n",
       "    }\n",
       "\n",
       "    .dataframe thead th {\n",
       "        text-align: right;\n",
       "    }\n",
       "</style>\n",
       "<table border=\"1\" class=\"dataframe\">\n",
       "  <thead>\n",
       "    <tr style=\"text-align: right;\">\n",
       "      <th></th>\n",
       "      <th>Metadata_Well</th>\n",
       "      <th>oneb_Metadata_Treatment_Dose_Inhibitor_Dose</th>\n",
       "    </tr>\n",
       "  </thead>\n",
       "  <tbody>\n",
       "    <tr>\n",
       "      <th>236343</th>\n",
       "      <td>I14</td>\n",
       "      <td>DMSO_0.100_DMSO_0.025</td>\n",
       "    </tr>\n",
       "    <tr>\n",
       "      <th>359266</th>\n",
       "      <td>J21</td>\n",
       "      <td>LPS_100.000_DMSO_0.025</td>\n",
       "    </tr>\n",
       "  </tbody>\n",
       "</table>\n",
       "</div>"
      ],
      "text/plain": [
       "       Metadata_Well oneb_Metadata_Treatment_Dose_Inhibitor_Dose\n",
       "236343           I14                       DMSO_0.100_DMSO_0.025\n",
       "359266           J21                      LPS_100.000_DMSO_0.025"
      ]
     },
     "execution_count": 43,
     "metadata": {},
     "output_type": "execute_result"
    }
   ],
   "source": [
    "# get the unique rows in a dataframe\n",
    "key_df = df_descriptive[\n",
    "    [\"Metadata_Well\", \"oneb_Metadata_Treatment_Dose_Inhibitor_Dose\"]\n",
    "].drop_duplicates()\n",
    "key_df"
   ]
  },
  {
   "cell_type": "code",
   "execution_count": 44,
   "id": "02da96db",
   "metadata": {},
   "outputs": [],
   "source": [
    "# add treatment column based on well\n",
    "testing_values = pd.merge(testing_values, key_df, on=\"Metadata_Well\", how=\"left\")"
   ]
  },
  {
   "cell_type": "code",
   "execution_count": 45,
   "id": "b70ec883",
   "metadata": {},
   "outputs": [
    {
     "data": {
      "text/html": [
       "<div>\n",
       "<style scoped>\n",
       "    .dataframe tbody tr th:only-of-type {\n",
       "        vertical-align: middle;\n",
       "    }\n",
       "\n",
       "    .dataframe tbody tr th {\n",
       "        vertical-align: top;\n",
       "    }\n",
       "\n",
       "    .dataframe thead th {\n",
       "        text-align: right;\n",
       "    }\n",
       "</style>\n",
       "<table border=\"1\" class=\"dataframe\">\n",
       "  <thead>\n",
       "    <tr style=\"text-align: right;\">\n",
       "      <th></th>\n",
       "      <th>Actual</th>\n",
       "      <th>Average Predicted</th>\n",
       "      <th>cytokine</th>\n",
       "      <th>Metadata_Well</th>\n",
       "      <th>model_type</th>\n",
       "      <th>oneb_Metadata_Treatment_Dose_Inhibitor_Dose_x</th>\n",
       "      <th>oneb_Metadata_Treatment_Dose_Inhibitor_Dose_y</th>\n",
       "    </tr>\n",
       "  </thead>\n",
       "  <tbody>\n",
       "    <tr>\n",
       "      <th>0</th>\n",
       "      <td>0.567975</td>\n",
       "      <td>0.553127</td>\n",
       "      <td>Activin A [NSU]</td>\n",
       "      <td>J20</td>\n",
       "      <td>test</td>\n",
       "      <td>LPS_100.000_DMSO_0.025</td>\n",
       "      <td>NaN</td>\n",
       "    </tr>\n",
       "    <tr>\n",
       "      <th>1</th>\n",
       "      <td>0.389848</td>\n",
       "      <td>0.553127</td>\n",
       "      <td>Activin A [NSU]</td>\n",
       "      <td>J16</td>\n",
       "      <td>test</td>\n",
       "      <td>LPS_100.000_DMSO_0.025</td>\n",
       "      <td>NaN</td>\n",
       "    </tr>\n",
       "    <tr>\n",
       "      <th>2</th>\n",
       "      <td>0.468110</td>\n",
       "      <td>0.553127</td>\n",
       "      <td>Activin A [NSU]</td>\n",
       "      <td>C15</td>\n",
       "      <td>test</td>\n",
       "      <td>DMSO_0.100_DMSO_0.025</td>\n",
       "      <td>NaN</td>\n",
       "    </tr>\n",
       "    <tr>\n",
       "      <th>3</th>\n",
       "      <td>0.442153</td>\n",
       "      <td>0.553127</td>\n",
       "      <td>Activin A [NSU]</td>\n",
       "      <td>J15</td>\n",
       "      <td>test</td>\n",
       "      <td>DMSO_0.100_DMSO_0.025</td>\n",
       "      <td>NaN</td>\n",
       "    </tr>\n",
       "    <tr>\n",
       "      <th>4</th>\n",
       "      <td>0.601907</td>\n",
       "      <td>0.553127</td>\n",
       "      <td>Activin A [NSU]</td>\n",
       "      <td>J17</td>\n",
       "      <td>test</td>\n",
       "      <td>LPS_100.000_DMSO_0.025</td>\n",
       "      <td>NaN</td>\n",
       "    </tr>\n",
       "    <tr>\n",
       "      <th>...</th>\n",
       "      <td>...</td>\n",
       "      <td>...</td>\n",
       "      <td>...</td>\n",
       "      <td>...</td>\n",
       "      <td>...</td>\n",
       "      <td>...</td>\n",
       "      <td>...</td>\n",
       "    </tr>\n",
       "    <tr>\n",
       "      <th>2239</th>\n",
       "      <td>0.447870</td>\n",
       "      <td>0.600639</td>\n",
       "      <td>VEGFR-1 [NSU]</td>\n",
       "      <td>J21</td>\n",
       "      <td>holdout</td>\n",
       "      <td>NaN</td>\n",
       "      <td>LPS_100.000_DMSO_0.025</td>\n",
       "    </tr>\n",
       "    <tr>\n",
       "      <th>2240</th>\n",
       "      <td>0.757655</td>\n",
       "      <td>0.516713</td>\n",
       "      <td>WISP-1 (CCN4) [NSU]</td>\n",
       "      <td>I14</td>\n",
       "      <td>holdout</td>\n",
       "      <td>NaN</td>\n",
       "      <td>DMSO_0.100_DMSO_0.025</td>\n",
       "    </tr>\n",
       "    <tr>\n",
       "      <th>2241</th>\n",
       "      <td>0.491146</td>\n",
       "      <td>0.516713</td>\n",
       "      <td>WISP-1 (CCN4) [NSU]</td>\n",
       "      <td>J21</td>\n",
       "      <td>holdout</td>\n",
       "      <td>NaN</td>\n",
       "      <td>LPS_100.000_DMSO_0.025</td>\n",
       "    </tr>\n",
       "    <tr>\n",
       "      <th>2242</th>\n",
       "      <td>0.432246</td>\n",
       "      <td>0.554708</td>\n",
       "      <td>XCL1 (Lymphotactin) [NSU]</td>\n",
       "      <td>I14</td>\n",
       "      <td>holdout</td>\n",
       "      <td>NaN</td>\n",
       "      <td>DMSO_0.100_DMSO_0.025</td>\n",
       "    </tr>\n",
       "    <tr>\n",
       "      <th>2243</th>\n",
       "      <td>0.326289</td>\n",
       "      <td>0.554708</td>\n",
       "      <td>XCL1 (Lymphotactin) [NSU]</td>\n",
       "      <td>J21</td>\n",
       "      <td>holdout</td>\n",
       "      <td>NaN</td>\n",
       "      <td>LPS_100.000_DMSO_0.025</td>\n",
       "    </tr>\n",
       "  </tbody>\n",
       "</table>\n",
       "<p>2244 rows × 7 columns</p>\n",
       "</div>"
      ],
      "text/plain": [
       "        Actual  Average Predicted                   cytokine Metadata_Well  \\\n",
       "0     0.567975           0.553127            Activin A [NSU]           J20   \n",
       "1     0.389848           0.553127            Activin A [NSU]           J16   \n",
       "2     0.468110           0.553127            Activin A [NSU]           C15   \n",
       "3     0.442153           0.553127            Activin A [NSU]           J15   \n",
       "4     0.601907           0.553127            Activin A [NSU]           J17   \n",
       "...        ...                ...                        ...           ...   \n",
       "2239  0.447870           0.600639              VEGFR-1 [NSU]           J21   \n",
       "2240  0.757655           0.516713        WISP-1 (CCN4) [NSU]           I14   \n",
       "2241  0.491146           0.516713        WISP-1 (CCN4) [NSU]           J21   \n",
       "2242  0.432246           0.554708  XCL1 (Lymphotactin) [NSU]           I14   \n",
       "2243  0.326289           0.554708  XCL1 (Lymphotactin) [NSU]           J21   \n",
       "\n",
       "     model_type oneb_Metadata_Treatment_Dose_Inhibitor_Dose_x  \\\n",
       "0          test                        LPS_100.000_DMSO_0.025   \n",
       "1          test                        LPS_100.000_DMSO_0.025   \n",
       "2          test                         DMSO_0.100_DMSO_0.025   \n",
       "3          test                         DMSO_0.100_DMSO_0.025   \n",
       "4          test                        LPS_100.000_DMSO_0.025   \n",
       "...         ...                                           ...   \n",
       "2239    holdout                                           NaN   \n",
       "2240    holdout                                           NaN   \n",
       "2241    holdout                                           NaN   \n",
       "2242    holdout                                           NaN   \n",
       "2243    holdout                                           NaN   \n",
       "\n",
       "     oneb_Metadata_Treatment_Dose_Inhibitor_Dose_y  \n",
       "0                                              NaN  \n",
       "1                                              NaN  \n",
       "2                                              NaN  \n",
       "3                                              NaN  \n",
       "4                                              NaN  \n",
       "...                                            ...  \n",
       "2239                        LPS_100.000_DMSO_0.025  \n",
       "2240                         DMSO_0.100_DMSO_0.025  \n",
       "2241                        LPS_100.000_DMSO_0.025  \n",
       "2242                         DMSO_0.100_DMSO_0.025  \n",
       "2243                        LPS_100.000_DMSO_0.025  \n",
       "\n",
       "[2244 rows x 7 columns]"
      ]
     },
     "execution_count": 45,
     "metadata": {},
     "output_type": "execute_result"
    }
   ],
   "source": [
    "testing_values"
   ]
  },
  {
   "cell_type": "code",
   "execution_count": 48,
   "id": "1d75b744",
   "metadata": {},
   "outputs": [
    {
     "data": {
      "text/html": [
       "<div>\n",
       "<style scoped>\n",
       "    .dataframe tbody tr th:only-of-type {\n",
       "        vertical-align: middle;\n",
       "    }\n",
       "\n",
       "    .dataframe tbody tr th {\n",
       "        vertical-align: top;\n",
       "    }\n",
       "\n",
       "    .dataframe thead th {\n",
       "        text-align: right;\n",
       "    }\n",
       "</style>\n",
       "<table border=\"1\" class=\"dataframe\">\n",
       "  <thead>\n",
       "    <tr style=\"text-align: right;\">\n",
       "      <th></th>\n",
       "      <th>Actual</th>\n",
       "      <th>Average Predicted</th>\n",
       "      <th>cytokine</th>\n",
       "      <th>Metadata_Well</th>\n",
       "      <th>model_type</th>\n",
       "      <th>oneb_Metadata_Treatment_Dose_Inhibitor_Dose</th>\n",
       "    </tr>\n",
       "  </thead>\n",
       "  <tbody>\n",
       "    <tr>\n",
       "      <th>0</th>\n",
       "      <td>0.567975</td>\n",
       "      <td>0.553127</td>\n",
       "      <td>Activin A [NSU]</td>\n",
       "      <td>J20</td>\n",
       "      <td>test</td>\n",
       "      <td>LPS_100.000_DMSO_0.025</td>\n",
       "    </tr>\n",
       "    <tr>\n",
       "      <th>1</th>\n",
       "      <td>0.389848</td>\n",
       "      <td>0.553127</td>\n",
       "      <td>Activin A [NSU]</td>\n",
       "      <td>J16</td>\n",
       "      <td>test</td>\n",
       "      <td>LPS_100.000_DMSO_0.025</td>\n",
       "    </tr>\n",
       "    <tr>\n",
       "      <th>2</th>\n",
       "      <td>0.468110</td>\n",
       "      <td>0.553127</td>\n",
       "      <td>Activin A [NSU]</td>\n",
       "      <td>C15</td>\n",
       "      <td>test</td>\n",
       "      <td>DMSO_0.100_DMSO_0.025</td>\n",
       "    </tr>\n",
       "    <tr>\n",
       "      <th>3</th>\n",
       "      <td>0.442153</td>\n",
       "      <td>0.553127</td>\n",
       "      <td>Activin A [NSU]</td>\n",
       "      <td>J15</td>\n",
       "      <td>test</td>\n",
       "      <td>DMSO_0.100_DMSO_0.025</td>\n",
       "    </tr>\n",
       "    <tr>\n",
       "      <th>4</th>\n",
       "      <td>0.601907</td>\n",
       "      <td>0.553127</td>\n",
       "      <td>Activin A [NSU]</td>\n",
       "      <td>J17</td>\n",
       "      <td>test</td>\n",
       "      <td>LPS_100.000_DMSO_0.025</td>\n",
       "    </tr>\n",
       "    <tr>\n",
       "      <th>...</th>\n",
       "      <td>...</td>\n",
       "      <td>...</td>\n",
       "      <td>...</td>\n",
       "      <td>...</td>\n",
       "      <td>...</td>\n",
       "      <td>...</td>\n",
       "    </tr>\n",
       "    <tr>\n",
       "      <th>2239</th>\n",
       "      <td>0.447870</td>\n",
       "      <td>0.600639</td>\n",
       "      <td>VEGFR-1 [NSU]</td>\n",
       "      <td>J21</td>\n",
       "      <td>holdout</td>\n",
       "      <td>LPS_100.000_DMSO_0.025</td>\n",
       "    </tr>\n",
       "    <tr>\n",
       "      <th>2240</th>\n",
       "      <td>0.757655</td>\n",
       "      <td>0.516713</td>\n",
       "      <td>WISP-1 (CCN4) [NSU]</td>\n",
       "      <td>I14</td>\n",
       "      <td>holdout</td>\n",
       "      <td>DMSO_0.100_DMSO_0.025</td>\n",
       "    </tr>\n",
       "    <tr>\n",
       "      <th>2241</th>\n",
       "      <td>0.491146</td>\n",
       "      <td>0.516713</td>\n",
       "      <td>WISP-1 (CCN4) [NSU]</td>\n",
       "      <td>J21</td>\n",
       "      <td>holdout</td>\n",
       "      <td>LPS_100.000_DMSO_0.025</td>\n",
       "    </tr>\n",
       "    <tr>\n",
       "      <th>2242</th>\n",
       "      <td>0.432246</td>\n",
       "      <td>0.554708</td>\n",
       "      <td>XCL1 (Lymphotactin) [NSU]</td>\n",
       "      <td>I14</td>\n",
       "      <td>holdout</td>\n",
       "      <td>DMSO_0.100_DMSO_0.025</td>\n",
       "    </tr>\n",
       "    <tr>\n",
       "      <th>2243</th>\n",
       "      <td>0.326289</td>\n",
       "      <td>0.554708</td>\n",
       "      <td>XCL1 (Lymphotactin) [NSU]</td>\n",
       "      <td>J21</td>\n",
       "      <td>holdout</td>\n",
       "      <td>LPS_100.000_DMSO_0.025</td>\n",
       "    </tr>\n",
       "  </tbody>\n",
       "</table>\n",
       "<p>2244 rows × 6 columns</p>\n",
       "</div>"
      ],
      "text/plain": [
       "        Actual  Average Predicted                   cytokine Metadata_Well  \\\n",
       "0     0.567975           0.553127            Activin A [NSU]           J20   \n",
       "1     0.389848           0.553127            Activin A [NSU]           J16   \n",
       "2     0.468110           0.553127            Activin A [NSU]           C15   \n",
       "3     0.442153           0.553127            Activin A [NSU]           J15   \n",
       "4     0.601907           0.553127            Activin A [NSU]           J17   \n",
       "...        ...                ...                        ...           ...   \n",
       "2239  0.447870           0.600639              VEGFR-1 [NSU]           J21   \n",
       "2240  0.757655           0.516713        WISP-1 (CCN4) [NSU]           I14   \n",
       "2241  0.491146           0.516713        WISP-1 (CCN4) [NSU]           J21   \n",
       "2242  0.432246           0.554708  XCL1 (Lymphotactin) [NSU]           I14   \n",
       "2243  0.326289           0.554708  XCL1 (Lymphotactin) [NSU]           J21   \n",
       "\n",
       "     model_type oneb_Metadata_Treatment_Dose_Inhibitor_Dose  \n",
       "0          test                      LPS_100.000_DMSO_0.025  \n",
       "1          test                      LPS_100.000_DMSO_0.025  \n",
       "2          test                       DMSO_0.100_DMSO_0.025  \n",
       "3          test                       DMSO_0.100_DMSO_0.025  \n",
       "4          test                      LPS_100.000_DMSO_0.025  \n",
       "...         ...                                         ...  \n",
       "2239    holdout                      LPS_100.000_DMSO_0.025  \n",
       "2240    holdout                       DMSO_0.100_DMSO_0.025  \n",
       "2241    holdout                      LPS_100.000_DMSO_0.025  \n",
       "2242    holdout                       DMSO_0.100_DMSO_0.025  \n",
       "2243    holdout                      LPS_100.000_DMSO_0.025  \n",
       "\n",
       "[2244 rows x 6 columns]"
      ]
     },
     "execution_count": 48,
     "metadata": {},
     "output_type": "execute_result"
    }
   ],
   "source": [
    "# combine two columns into one oneb_Metadata_Treatment_Dose_Inhibitor_Dose_x and oneb_Metadata_Treatment_Dose_Inhibitor_Dose_y\n",
    "testing_values[\"oneb_Metadata_Treatment_Dose_Inhibitor_Dose\"] = testing_values[\n",
    "    \"oneb_Metadata_Treatment_Dose_Inhibitor_Dose_x\"\n",
    "].fillna(testing_values[\"oneb_Metadata_Treatment_Dose_Inhibitor_Dose_y\"])\n",
    "testing_values.drop(\n",
    "    columns=[\n",
    "        \"oneb_Metadata_Treatment_Dose_Inhibitor_Dose_x\",\n",
    "        \"oneb_Metadata_Treatment_Dose_Inhibitor_Dose_y\",\n",
    "    ],\n",
    "    inplace=True,\n",
    ")\n",
    "testing_values"
   ]
  },
  {
   "cell_type": "code",
   "execution_count": null,
   "id": "083286ea",
   "metadata": {},
   "outputs": [],
   "source": []
  }
 ],
 "metadata": {
  "jupytext": {
   "cell_metadata_filter": "-all",
   "encoding": "# coding: utf-8",
   "executable": "/usr/bin/env python",
   "formats": "ipynb,py",
   "main_language": "python"
  },
  "kernelspec": {
   "display_name": "Python 3 (ipykernel)",
   "language": "python",
   "name": "python3"
  },
  "language_info": {
   "codemirror_mode": {
    "name": "ipython",
    "version": 3
   },
   "file_extension": ".py",
   "mimetype": "text/x-python",
   "name": "python",
   "nbconvert_exporter": "python",
   "pygments_lexer": "ipython3",
   "version": "3.10.12"
  },
  "vscode": {
   "interpreter": {
    "hash": "72ae02083a9ca7d143c492d1aec380c7bf553ec51bd66e90e72bba65228121b6"
   }
  }
 },
 "nbformat": 4,
 "nbformat_minor": 5
}
