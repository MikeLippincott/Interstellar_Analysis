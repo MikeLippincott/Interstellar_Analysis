{
 "cells": [
  {
   "cell_type": "code",
   "execution_count": 1,
   "id": "76db0f62",
   "metadata": {
    "execution": {
     "iopub.execute_input": "2023-11-13T03:46:06.332907Z",
     "iopub.status.busy": "2023-11-13T03:46:06.332549Z",
     "iopub.status.idle": "2023-11-13T03:46:09.390164Z",
     "shell.execute_reply": "2023-11-13T03:46:09.389559Z"
    },
    "papermill": {
     "duration": 3.068881,
     "end_time": "2023-11-13T03:46:09.391537",
     "exception": false,
     "start_time": "2023-11-13T03:46:06.322656",
     "status": "completed"
    },
    "tags": []
   },
   "outputs": [],
   "source": [
    "import ast\n",
    "import pathlib\n",
    "import sys\n",
    "\n",
    "import numpy as np\n",
    "import pandas as pd\n",
    "import toml\n",
    "import torch\n",
    "from sklearn import preprocessing\n",
    "\n",
    "sys.path.append(\"../..\")\n",
    "\n",
    "\n",
    "import matplotlib.pyplot as plt\n",
    "import seaborn as sns\n",
    "from MLP_utils.parameters import Parameters\n",
    "from MLP_utils.utils import (\n",
    "    Dataset_formatter,\n",
    "    output_stats,\n",
    "    parameter_set,\n",
    "    plot_metric_vs_epoch,\n",
    "    results_output,\n",
    "    test_optimized_model,\n",
    "    train_optimized_model,\n",
    "    un_nest,\n",
    ")\n",
    "\n",
    "sys.path.append(\"../../..\")\n",
    "import argparse"
   ]
  },
  {
   "cell_type": "markdown",
   "id": "7773f676",
   "metadata": {
    "papermill": {
     "duration": 0.00768,
     "end_time": "2023-11-13T03:46:09.409225",
     "exception": false,
     "start_time": "2023-11-13T03:46:09.401545",
     "status": "completed"
    },
    "tags": []
   },
   "source": [
    "## Papermill is used for executing notebooks in the CLI with multiple parameters\n",
    "Here the `injected-parameters` cell is used to inject parameters into the notebook via papermill.\n",
    "This enables multiple notebooks to be executed with different parameters, preventing to manually update parameters or have multiple copies of the notebook."
   ]
  },
  {
   "cell_type": "code",
   "execution_count": null,
   "metadata": {},
   "outputs": [],
   "source": [
    "# set up the parser\n",
    "parser = argparse.ArgumentParser(description=\"Train MLP model\")\n",
    "\n",
    "# add arguments to parser\n",
    "parser.add_argument(\n",
    "    \"--CELL_TYPE\",\n",
    "    type=str,\n",
    "    default=\"all\",\n",
    "    help=\"Cell type to train model on. Default is all\",\n",
    ")\n",
    "\n",
    "parser.add_argument(\n",
    "    \"--MODEL_NAME\",\n",
    "    type=str,\n",
    "    default=\"MLP\",\n",
    "    help=\"Model name to train. Default is MLP\",\n",
    ")\n",
    "\n",
    "parser.add_argument(\n",
    "    \"--SHUFFLE\",\n",
    "    type=str,\n",
    "    default=\"False\",\n",
    "    help=\"Shuffle data before training. Default is False\",\n",
    ")\n",
    "\n",
    "# parse the arguments\n",
    "args = parser.parse_args()\n",
    "\n",
    "CELL_TYPE = args.CELL_TYPE\n",
    "MODEL_NAME = args.MODEL_NAME\n",
    "SHUFFLE = args.SHUFFLE\n",
    "SHUFFLE = ast.literal_eval(SHUFFLE)\n",
    "print(CELL_TYPE, MODEL_NAME, SHUFFLE)"
   ]
  },
  {
   "cell_type": "code",
   "execution_count": 2,
   "metadata": {},
   "outputs": [],
   "source": [
    "CELL_TYPE = \"SHSY5Y\"\n",
    "MODEL_NAME = \"MultiClass_MLP\"\n",
    "SHUFFLE = False"
   ]
  },
  {
   "cell_type": "code",
   "execution_count": 3,
   "id": "7fe861fc",
   "metadata": {
    "execution": {
     "iopub.execute_input": "2023-11-13T03:46:09.446006Z",
     "iopub.status.busy": "2023-11-13T03:46:09.445617Z",
     "iopub.status.idle": "2023-11-13T03:46:09.451397Z",
     "shell.execute_reply": "2023-11-13T03:46:09.450978Z"
    },
    "papermill": {
     "duration": 0.015233,
     "end_time": "2023-11-13T03:46:09.452351",
     "exception": false,
     "start_time": "2023-11-13T03:46:09.437118",
     "status": "completed"
    },
    "tags": []
   },
   "outputs": [
    {
     "name": "stdout",
     "output_type": "stream",
     "text": [
      "[0.954878893196544, 0.4803479499984947, 0.5647731568049614]\n"
     ]
    }
   ],
   "source": [
    "ml_configs_file = pathlib.Path(\"../../MLP_utils/multi_class_config.toml\").resolve(\n",
    "    strict=True\n",
    ")\n",
    "ml_configs = toml.load(ml_configs_file)\n",
    "params = Parameters()\n",
    "mlp_params = parameter_set(params, ml_configs)\n",
    "\n",
    "# overwrite params via command line arguments from papermill\n",
    "mlp_params.CELL_TYPE = CELL_TYPE\n",
    "mlp_params.MODEL_NAME = MODEL_NAME\n",
    "\n",
    "mlp_params.MODEL_NAME = MODEL_NAME\n",
    "mlp_params.SHUFFLE = SHUFFLE\n",
    "\n",
    "# load in the class weights\n",
    "class_weights_file_path = pathlib.Path(\n",
    "    f\"../../0.hyperparameter_optimization/class_weights/{CELL_TYPE}/multi_class/class_weights.txt\"\n",
    ").resolve(strict=True)\n",
    "# read the class weights into a list for use in the loss function as a list\n",
    "class_weights = []\n",
    "with open(class_weights_file_path, \"r\") as f:\n",
    "    for line in f:\n",
    "        class_weights.append(float(line.strip()))\n",
    "# check the class weights are correct\n",
    "print(class_weights)"
   ]
  },
  {
   "cell_type": "code",
   "execution_count": 4,
   "id": "5f05b3f4",
   "metadata": {
    "execution": {
     "iopub.execute_input": "2023-11-13T03:46:09.469050Z",
     "iopub.status.busy": "2023-11-13T03:46:09.468681Z",
     "iopub.status.idle": "2023-11-13T03:46:38.488828Z",
     "shell.execute_reply": "2023-11-13T03:46:38.488256Z"
    },
    "papermill": {
     "duration": 29.029959,
     "end_time": "2023-11-13T03:46:38.490348",
     "exception": false,
     "start_time": "2023-11-13T03:46:09.460389",
     "status": "completed"
    },
    "tags": []
   },
   "outputs": [],
   "source": [
    "# Import Data\n",
    "# set data file path under pathlib path for multi-system use\n",
    "\n",
    "file_path = pathlib.Path(\n",
    "    f\"../../../data/{mlp_params.CELL_TYPE}_preprocessed_sc_norm.parquet\"\n",
    ").resolve(strict=True)\n",
    "\n",
    "df1 = pd.read_parquet(file_path)"
   ]
  },
  {
   "cell_type": "code",
   "execution_count": 5,
   "id": "6c372a03",
   "metadata": {
    "execution": {
     "iopub.execute_input": "2023-11-13T03:46:38.510926Z",
     "iopub.status.busy": "2023-11-13T03:46:38.510590Z",
     "iopub.status.idle": "2023-11-13T03:46:38.515770Z",
     "shell.execute_reply": "2023-11-13T03:46:38.515225Z"
    },
    "papermill": {
     "duration": 0.014971,
     "end_time": "2023-11-13T03:46:38.517006",
     "exception": false,
     "start_time": "2023-11-13T03:46:38.502035",
     "status": "completed"
    },
    "tags": []
   },
   "outputs": [],
   "source": [
    "# get paths for toml files\n",
    "ground_truth_file_path = pathlib.Path(f\"../../MLP_utils/ground_truth.toml\").resolve(\n",
    "    strict=True\n",
    ")\n",
    "treatment_splits_file_path = pathlib.Path(f\"../../MLP_utils/splits.toml\").resolve(\n",
    "    strict=True\n",
    ")\n",
    "# read toml files\n",
    "ground_truth = toml.load(ground_truth_file_path)\n",
    "treatment_splits = toml.load(treatment_splits_file_path)"
   ]
  },
  {
   "cell_type": "code",
   "execution_count": 6,
   "id": "63523a09",
   "metadata": {
    "execution": {
     "iopub.execute_input": "2023-11-13T03:46:38.533853Z",
     "iopub.status.busy": "2023-11-13T03:46:38.533375Z",
     "iopub.status.idle": "2023-11-13T03:46:38.536081Z",
     "shell.execute_reply": "2023-11-13T03:46:38.535698Z"
    },
    "papermill": {
     "duration": 0.012175,
     "end_time": "2023-11-13T03:46:38.536982",
     "exception": false,
     "start_time": "2023-11-13T03:46:38.524807",
     "status": "completed"
    },
    "tags": []
   },
   "outputs": [],
   "source": [
    "# get information from toml files\n",
    "apoptosis_groups_list = ground_truth[\"Apoptosis\"][\"apoptosis_groups_list\"]\n",
    "pyroptosis_groups_list = ground_truth[\"Pyroptosis\"][\"pyroptosis_groups_list\"]\n",
    "healthy_groups_list = ground_truth[\"Healthy\"][\"healthy_groups_list\"]"
   ]
  },
  {
   "cell_type": "markdown",
   "id": "7c5e28b5",
   "metadata": {
    "papermill": {
     "duration": 0.007627,
     "end_time": "2023-11-13T03:46:38.552274",
     "exception": false,
     "start_time": "2023-11-13T03:46:38.544647",
     "status": "completed"
    },
    "tags": []
   },
   "source": [
    "#### Set up Data to be compatible with model"
   ]
  },
  {
   "cell_type": "markdown",
   "id": "5efd38f4",
   "metadata": {
    "papermill": {
     "duration": 0.00759,
     "end_time": "2023-11-13T03:46:38.567493",
     "exception": false,
     "start_time": "2023-11-13T03:46:38.559903",
     "status": "completed"
    },
    "tags": []
   },
   "source": [
    "##### Classification Models:\n",
    "Comment out code if using regression"
   ]
  },
  {
   "cell_type": "code",
   "execution_count": 7,
   "id": "892c99cb",
   "metadata": {
    "execution": {
     "iopub.execute_input": "2023-11-13T03:46:38.583852Z",
     "iopub.status.busy": "2023-11-13T03:46:38.583443Z",
     "iopub.status.idle": "2023-11-13T03:46:38.586992Z",
     "shell.execute_reply": "2023-11-13T03:46:38.586604Z"
    },
    "papermill": {
     "duration": 0.012778,
     "end_time": "2023-11-13T03:46:38.587892",
     "exception": false,
     "start_time": "2023-11-13T03:46:38.575114",
     "status": "completed"
    },
    "tags": []
   },
   "outputs": [
    {
     "name": "stdout",
     "output_type": "stream",
     "text": [
      "Data Subset Is Off\n"
     ]
    }
   ],
   "source": [
    "np.random.seed(0)\n",
    "if ast.literal_eval(mlp_params.DATA_SUBSET_OPTION):\n",
    "    df1 = df1.groupby(\"oneb_Metadata_Treatment_Dose_Inhibitor_Dose\").apply(\n",
    "        lambda x: x.sample(n=mlp_params.DATA_SUBSET_NUMBER, random_state=0)\n",
    "    )\n",
    "    print(\"Data Subset Is On\")\n",
    "    print(f\"Data is subset to {mlp_params.DATA_SUBSET_NUMBER} per treatment group\")\n",
    "    print(df1.shape)\n",
    "    df1.reset_index(drop=True, inplace=True)\n",
    "else:\n",
    "    print(\"Data Subset Is Off\")"
   ]
  },
  {
   "cell_type": "code",
   "execution_count": 8,
   "id": "48b83d0d",
   "metadata": {
    "execution": {
     "iopub.execute_input": "2023-11-13T03:22:33.025827Z",
     "iopub.status.busy": "2023-11-13T03:22:33.025490Z",
     "iopub.status.idle": "2023-11-13T03:36:58.170038Z",
     "shell.execute_reply": "2023-11-13T03:36:58.169419Z"
    },
    "papermill": {
     "duration": null,
     "end_time": null,
     "exception": false,
     "start_time": "2023-11-13T03:46:38.595635",
     "status": "running"
    },
    "tags": []
   },
   "outputs": [],
   "source": [
    "# add apoptosis, pyroptosis and healthy columns to dataframe\n",
    "df1[\"apoptosis\"] = df1.apply(\n",
    "    lambda row: row[\"oneb_Metadata_Treatment_Dose_Inhibitor_Dose\"]\n",
    "    in apoptosis_groups_list,\n",
    "    axis=1,\n",
    ")\n",
    "df1[\"pyroptosis\"] = df1.apply(\n",
    "    lambda row: row[\"oneb_Metadata_Treatment_Dose_Inhibitor_Dose\"]\n",
    "    in pyroptosis_groups_list,\n",
    "    axis=1,\n",
    ")\n",
    "df1[\"healthy\"] = df1.apply(\n",
    "    lambda row: row[\"oneb_Metadata_Treatment_Dose_Inhibitor_Dose\"]\n",
    "    in healthy_groups_list,\n",
    "    axis=1,\n",
    ")\n",
    "\n",
    "# merge apoptosis, pyroptosis, and healthy columns into one column\n",
    "df1[\"labels\"] = df1.apply(\n",
    "    lambda row: \"apoptosis\"\n",
    "    if row[\"apoptosis\"]\n",
    "    else \"pyroptosis\"\n",
    "    if row[\"pyroptosis\"]\n",
    "    else \"healthy\",\n",
    "    axis=1,\n",
    ")\n",
    "# # drop apoptosis, pyroptosis, and healthy columns\n",
    "df1.drop(columns=[\"apoptosis\", \"pyroptosis\", \"healthy\"], inplace=True)"
   ]
  },
  {
   "cell_type": "code",
   "execution_count": 9,
   "id": "615a24e0",
   "metadata": {
    "execution": {
     "iopub.execute_input": "2023-11-13T03:36:58.231714Z",
     "iopub.status.busy": "2023-11-13T03:36:58.231431Z",
     "iopub.status.idle": "2023-11-13T03:36:58.299402Z",
     "shell.execute_reply": "2023-11-13T03:36:58.298842Z"
    },
    "papermill": {
     "duration": null,
     "end_time": null,
     "exception": null,
     "start_time": null,
     "status": "pending"
    },
    "tags": []
   },
   "outputs": [
    {
     "data": {
      "text/html": [
       "<div>\n",
       "<style scoped>\n",
       "    .dataframe tbody tr th:only-of-type {\n",
       "        vertical-align: middle;\n",
       "    }\n",
       "\n",
       "    .dataframe tbody tr th {\n",
       "        vertical-align: top;\n",
       "    }\n",
       "\n",
       "    .dataframe thead th {\n",
       "        text-align: right;\n",
       "    }\n",
       "</style>\n",
       "<table border=\"1\" class=\"dataframe\">\n",
       "  <thead>\n",
       "    <tr style=\"text-align: right;\">\n",
       "      <th></th>\n",
       "      <th>labeled_data_index</th>\n",
       "      <th>label</th>\n",
       "    </tr>\n",
       "  </thead>\n",
       "  <tbody>\n",
       "    <tr>\n",
       "      <th>0</th>\n",
       "      <td>379883</td>\n",
       "      <td>train</td>\n",
       "    </tr>\n",
       "    <tr>\n",
       "      <th>1</th>\n",
       "      <td>6688</td>\n",
       "      <td>train</td>\n",
       "    </tr>\n",
       "    <tr>\n",
       "      <th>2</th>\n",
       "      <td>293841</td>\n",
       "      <td>train</td>\n",
       "    </tr>\n",
       "    <tr>\n",
       "      <th>3</th>\n",
       "      <td>117560</td>\n",
       "      <td>train</td>\n",
       "    </tr>\n",
       "    <tr>\n",
       "      <th>4</th>\n",
       "      <td>213514</td>\n",
       "      <td>train</td>\n",
       "    </tr>\n",
       "  </tbody>\n",
       "</table>\n",
       "</div>"
      ],
      "text/plain": [
       "   labeled_data_index  label\n",
       "0              379883  train\n",
       "1                6688  train\n",
       "2              293841  train\n",
       "3              117560  train\n",
       "4              213514  train"
      ]
     },
     "execution_count": 9,
     "metadata": {},
     "output_type": "execute_result"
    }
   ],
   "source": [
    "# set path for index file\n",
    "index_file_path = pathlib.Path(\n",
    "    f\"../../0.hyperparameter_optimization/indexes/{params.CELL_TYPE}/multi_class/{params.MODEL_NAME}_data_split_indexes.tsv\"\n",
    ").resolve(strict=True)\n",
    "\n",
    "# read index file\n",
    "index_df = pd.read_csv(index_file_path, sep=\"\\t\")\n",
    "index_df.head()"
   ]
  },
  {
   "cell_type": "code",
   "execution_count": 10,
   "id": "d7eb7489",
   "metadata": {
    "execution": {
     "iopub.execute_input": "2023-11-13T03:36:58.317279Z",
     "iopub.status.busy": "2023-11-13T03:36:58.316855Z",
     "iopub.status.idle": "2023-11-13T03:36:58.439495Z",
     "shell.execute_reply": "2023-11-13T03:36:58.438949Z"
    },
    "papermill": {
     "duration": null,
     "end_time": null,
     "exception": null,
     "start_time": null,
     "status": "pending"
    },
    "tags": []
   },
   "outputs": [
    {
     "name": "stdout",
     "output_type": "stream",
     "text": [
      "(165097,) (41275,) (240629,) (150901,)\n"
     ]
    }
   ],
   "source": [
    "# get train, validation, test, and holdout indexes\n",
    "train_indexes = index_df.loc[index_df[\"label\"] == \"train\"][\"labeled_data_index\"]\n",
    "val_indexes = index_df.loc[index_df[\"label\"] == \"val\"][\"labeled_data_index\"]\n",
    "test_indexes = index_df.loc[index_df[\"label\"] == \"test\"][\"labeled_data_index\"]\n",
    "holdout_indexes = index_df.loc[index_df[\"label\"] == \"holdout\"][\"labeled_data_index\"]\n",
    "print(train_indexes.shape, val_indexes.shape, test_indexes.shape, holdout_indexes.shape)\n",
    "assert (\n",
    "    train_indexes.shape[0]\n",
    "    + val_indexes.shape[0]\n",
    "    + test_indexes.shape[0]\n",
    "    + holdout_indexes.shape[0]\n",
    ") == index_df.shape[0]"
   ]
  },
  {
   "cell_type": "code",
   "execution_count": 11,
   "id": "3d9db49e",
   "metadata": {
    "execution": {
     "iopub.execute_input": "2023-11-13T03:36:58.457224Z",
     "iopub.status.busy": "2023-11-13T03:36:58.456928Z",
     "iopub.status.idle": "2023-11-13T03:37:05.029867Z",
     "shell.execute_reply": "2023-11-13T03:37:05.029317Z"
    },
    "papermill": {
     "duration": null,
     "end_time": null,
     "exception": null,
     "start_time": null,
     "status": "pending"
    },
    "tags": []
   },
   "outputs": [
    {
     "name": "stderr",
     "output_type": "stream",
     "text": [
      "/tmp/ipykernel_17883/4045983864.py:6: SettingWithCopyWarning: \n",
      "A value is trying to be set on a copy of a slice from a DataFrame.\n",
      "Try using .loc[row_indexer,col_indexer] = value instead\n",
      "\n",
      "See the caveats in the documentation: https://pandas.pydata.org/pandas-docs/stable/user_guide/indexing.html#returning-a-view-versus-a-copy\n",
      "  df_descriptive['labels'] = df1['labels']\n"
     ]
    }
   ],
   "source": [
    "# Code snippet for metadata extraction by Jenna Tomkinson\n",
    "df_metadata = list(df1.columns[df1.columns.str.startswith(\"Metadata\")])\n",
    "\n",
    "# define which columns are data and which are descriptive\n",
    "df_descriptive = df1[df_metadata]\n",
    "df_descriptive[\"labels\"] = df1[\"labels\"]\n",
    "df_values = df1.drop(columns=df_metadata)"
   ]
  },
  {
   "cell_type": "code",
   "execution_count": 12,
   "id": "8924c31e",
   "metadata": {
    "execution": {
     "iopub.execute_input": "2023-11-13T03:37:05.052514Z",
     "iopub.status.busy": "2023-11-13T03:37:05.052246Z",
     "iopub.status.idle": "2023-11-13T03:37:12.172056Z",
     "shell.execute_reply": "2023-11-13T03:37:12.171584Z"
    },
    "papermill": {
     "duration": null,
     "end_time": null,
     "exception": null,
     "start_time": null,
     "status": "pending"
    },
    "tags": []
   },
   "outputs": [
    {
     "name": "stderr",
     "output_type": "stream",
     "text": [
      "/tmp/ipykernel_17883/1683257534.py:21: SettingWithCopyWarning: \n",
      "A value is trying to be set on a copy of a slice from a DataFrame\n",
      "\n",
      "See the caveats in the documentation: https://pandas.pydata.org/pandas-docs/stable/user_guide/indexing.html#returning-a-view-versus-a-copy\n",
      "  df_labels.drop_duplicates(inplace=True)\n"
     ]
    }
   ],
   "source": [
    "# Creating label encoder\n",
    "le = preprocessing.LabelEncoder()\n",
    "# Converting strings into numbers\n",
    "df_values[\"new_labels\"] = le.fit_transform(df_values[\"labels\"])\n",
    "# get mini dataframe that contains the decoder\n",
    "df_labels = df_values[[\"labels\", \"new_labels\"]]\n",
    "# split into X and Y where Y are the predictive column and x are the observable data\n",
    "df_values_X = df_values.drop(\n",
    "    [\n",
    "        \"oneb_Metadata_Treatment_Dose_Inhibitor_Dose\",\n",
    "        \"twob_Metadata_Treatment_Dose_Inhibitor_Dose\",\n",
    "        \"threeb_Metadata_Treatment_Dose_Inhibitor_Dose\",\n",
    "        \"fourb_Metadata_Treatment_Dose_Inhibitor_Dose\",\n",
    "        \"labels\",\n",
    "        \"new_labels\",\n",
    "    ],\n",
    "    axis=1,\n",
    ")\n",
    "df_values_Y = df_values[\"new_labels\"]\n",
    "df_values_Y.unique()\n",
    "df_labels.drop_duplicates(inplace=True)\n",
    "# pandas chaining to reset index and drop old index\n",
    "df_labels.reset_index(drop=True, inplace=True)"
   ]
  },
  {
   "cell_type": "code",
   "execution_count": 13,
   "id": "b18afc16",
   "metadata": {
    "execution": {
     "iopub.execute_input": "2023-11-13T03:37:12.193904Z",
     "iopub.status.busy": "2023-11-13T03:37:12.193605Z",
     "iopub.status.idle": "2023-11-13T03:37:12.196539Z",
     "shell.execute_reply": "2023-11-13T03:37:12.196160Z"
    },
    "papermill": {
     "duration": null,
     "end_time": null,
     "exception": null,
     "start_time": null,
     "status": "pending"
    },
    "tags": []
   },
   "outputs": [
    {
     "name": "stdout",
     "output_type": "stream",
     "text": [
      "(165097,) (41275,) (240629,) (150901,)\n",
      "597902\n"
     ]
    }
   ],
   "source": [
    "print(train_indexes.shape, val_indexes.shape, test_indexes.shape, holdout_indexes.shape)\n",
    "print(\n",
    "    train_indexes.shape[0]\n",
    "    + val_indexes.shape[0]\n",
    "    + test_indexes.shape[0]\n",
    "    + holdout_indexes.shape[0]\n",
    ")"
   ]
  },
  {
   "cell_type": "code",
   "execution_count": 14,
   "id": "84c24e0f",
   "metadata": {
    "execution": {
     "iopub.execute_input": "2023-11-13T03:37:12.213904Z",
     "iopub.status.busy": "2023-11-13T03:37:12.213628Z",
     "iopub.status.idle": "2023-11-13T03:37:14.457835Z",
     "shell.execute_reply": "2023-11-13T03:37:14.457329Z"
    },
    "papermill": {
     "duration": null,
     "end_time": null,
     "exception": null,
     "start_time": null,
     "status": "pending"
    },
    "tags": []
   },
   "outputs": [],
   "source": [
    "# get the train, validation, test, and holdout dataframes from the indexes\n",
    "X_train = df_values_X.iloc[train_indexes.values]\n",
    "X_val = df_values_X.iloc[val_indexes.values]\n",
    "X_test = df_values_X.iloc[test_indexes.values]\n",
    "X_holdout = df_values_X.iloc[holdout_indexes.values]\n",
    "\n",
    "Y_train = df_values_Y.iloc[train_indexes.values]\n",
    "Y_val = df_values_Y.iloc[val_indexes.values]\n",
    "Y_test = df_values_Y.iloc[test_indexes.values]\n",
    "Y_holdout = df_values_Y.iloc[holdout_indexes.values]\n",
    "\n",
    "metadata_train = df_descriptive.iloc[train_indexes.values]\n",
    "metadata_val = df_descriptive.iloc[val_indexes.values]\n",
    "metadata_test = df_descriptive.iloc[test_indexes.values]\n",
    "metadata_holdout = df_descriptive.iloc[holdout_indexes.values]"
   ]
  },
  {
   "cell_type": "code",
   "execution_count": 15,
   "id": "ea706992",
   "metadata": {
    "execution": {
     "iopub.execute_input": "2023-11-13T03:37:14.478143Z",
     "iopub.status.busy": "2023-11-13T03:37:14.477912Z",
     "iopub.status.idle": "2023-11-13T03:37:14.487042Z",
     "shell.execute_reply": "2023-11-13T03:37:14.486667Z"
    },
    "papermill": {
     "duration": null,
     "end_time": null,
     "exception": null,
     "start_time": null,
     "status": "pending"
    },
    "tags": []
   },
   "outputs": [
    {
     "name": "stdout",
     "output_type": "stream",
     "text": [
      "(7972,) (93463,) (63662,)\n",
      "(1993,) (23367,) (15915,)\n",
      "(9965,) (116830,) (113834,)\n",
      "(7048,) (77041,) (66812,)\n"
     ]
    }
   ],
   "source": [
    "print(\n",
    "    Y_train[Y_train == 0].shape,\n",
    "    Y_train[Y_train == 1].shape,\n",
    "    Y_train[Y_train == 2].shape,\n",
    ")\n",
    "print(Y_val[Y_val == 0].shape, Y_val[Y_val == 1].shape, Y_val[Y_val == 2].shape)\n",
    "print(Y_test[Y_test == 0].shape, Y_test[Y_test == 1].shape, Y_test[Y_test == 2].shape)\n",
    "print(\n",
    "    Y_holdout[Y_holdout == 0].shape,\n",
    "    Y_holdout[Y_holdout == 1].shape,\n",
    "    Y_holdout[Y_holdout == 2].shape,\n",
    ")"
   ]
  },
  {
   "cell_type": "code",
   "execution_count": 16,
   "id": "99dc42ca",
   "metadata": {
    "execution": {
     "iopub.execute_input": "2023-11-13T03:37:14.504746Z",
     "iopub.status.busy": "2023-11-13T03:37:14.504457Z",
     "iopub.status.idle": "2023-11-13T03:37:14.507803Z",
     "shell.execute_reply": "2023-11-13T03:37:14.507423Z"
    },
    "papermill": {
     "duration": null,
     "end_time": null,
     "exception": null,
     "start_time": null,
     "status": "pending"
    },
    "tags": []
   },
   "outputs": [],
   "source": [
    "# reset indexes for all dataframes\n",
    "X_train.reset_index(drop=True, inplace=True)\n",
    "X_val.reset_index(drop=True, inplace=True)\n",
    "X_test.reset_index(drop=True, inplace=True)\n",
    "X_holdout.reset_index(drop=True, inplace=True)\n",
    "\n",
    "Y_train.reset_index(drop=True, inplace=True)\n",
    "Y_val.reset_index(drop=True, inplace=True)\n",
    "Y_test.reset_index(drop=True, inplace=True)\n",
    "Y_holdout.reset_index(drop=True, inplace=True)"
   ]
  },
  {
   "cell_type": "code",
   "execution_count": 17,
   "id": "91c0f8c0",
   "metadata": {
    "execution": {
     "iopub.execute_input": "2023-11-13T03:37:14.525385Z",
     "iopub.status.busy": "2023-11-13T03:37:14.525116Z",
     "iopub.status.idle": "2023-11-13T03:37:14.527731Z",
     "shell.execute_reply": "2023-11-13T03:37:14.527355Z"
    },
    "papermill": {
     "duration": null,
     "end_time": null,
     "exception": null,
     "start_time": null,
     "status": "pending"
    },
    "tags": []
   },
   "outputs": [
    {
     "name": "stdout",
     "output_type": "stream",
     "text": [
      "(165097, 1251) (41275, 1251) (240629, 1251) (150901, 1251)\n",
      "(165097,) (41275,) (240629,) (150901,)\n"
     ]
    }
   ],
   "source": [
    "print(X_train.shape, X_val.shape, X_test.shape, X_holdout.shape)\n",
    "print(Y_train.shape, Y_val.shape, Y_test.shape, Y_holdout.shape)"
   ]
  },
  {
   "cell_type": "markdown",
   "id": "4dfa9d10",
   "metadata": {
    "papermill": {
     "duration": null,
     "end_time": null,
     "exception": null,
     "start_time": null,
     "status": "pending"
    },
    "tags": []
   },
   "source": [
    "#### Split Data - All Models can proceed through this point"
   ]
  },
  {
   "cell_type": "code",
   "execution_count": 18,
   "id": "aa28922f",
   "metadata": {
    "execution": {
     "iopub.execute_input": "2023-11-13T03:37:14.561344Z",
     "iopub.status.busy": "2023-11-13T03:37:14.561068Z",
     "iopub.status.idle": "2023-11-13T03:37:14.695372Z",
     "shell.execute_reply": "2023-11-13T03:37:14.694865Z"
    },
    "papermill": {
     "duration": null,
     "end_time": null,
     "exception": null,
     "start_time": null,
     "status": "pending"
    },
    "tags": []
   },
   "outputs": [],
   "source": [
    "# produce data objects for train, val and test datasets\n",
    "train_data = Dataset_formatter(\n",
    "    torch.FloatTensor(X_train.values), torch.FloatTensor(Y_train.values)\n",
    ")\n",
    "val_data = Dataset_formatter(\n",
    "    torch.FloatTensor(X_val.values), torch.FloatTensor(Y_val.values)\n",
    ")\n",
    "test_data = Dataset_formatter(\n",
    "    torch.FloatTensor(X_test.values), torch.FloatTensor(Y_test.values)\n",
    ")"
   ]
  },
  {
   "cell_type": "code",
   "execution_count": 19,
   "id": "7c628ee1",
   "metadata": {
    "execution": {
     "iopub.execute_input": "2023-11-13T03:37:14.715138Z",
     "iopub.status.busy": "2023-11-13T03:37:14.714939Z",
     "iopub.status.idle": "2023-11-13T03:37:14.905206Z",
     "shell.execute_reply": "2023-11-13T03:37:14.904707Z"
    },
    "papermill": {
     "duration": null,
     "end_time": null,
     "exception": null,
     "start_time": null,
     "status": "pending"
    },
    "tags": []
   },
   "outputs": [
    {
     "name": "stdout",
     "output_type": "stream",
     "text": [
      "Number of in features:  1251\n",
      "Number of out features:  3\n",
      "Multi_Class\n"
     ]
    }
   ],
   "source": [
    "mlp_params.IN_FEATURES = X_train.shape[1]\n",
    "print(\"Number of in features: \", mlp_params.IN_FEATURES)\n",
    "if mlp_params.MODEL_TYPE == \"Regression\":\n",
    "    mlp_params.OUT_FEATURES = 1\n",
    "else:\n",
    "    mlp_params.OUT_FEATURES = len(df_values[\"labels\"].unique())\n",
    "\n",
    "print(\"Number of out features: \", mlp_params.OUT_FEATURES)\n",
    "\n",
    "if mlp_params.OUT_FEATURES > 2:\n",
    "    mlp_params.MODEL_TYPE = \"Multi_Class\"\n",
    "elif mlp_params.OUT_FEATURES == 2:\n",
    "    mlp_params.OUT_FEATURES = mlp_params.OUT_FEATURES - 1\n",
    "    mlp_params.MODEL_TYPE = \"Binary_Classification\"\n",
    "elif mlp_params.OUT_FEATURES == 1:\n",
    "    mlp_params.MODEL_TYPE = \"Regression\"\n",
    "else:\n",
    "    pass\n",
    "print(mlp_params.MODEL_TYPE)"
   ]
  },
  {
   "cell_type": "code",
   "execution_count": 20,
   "id": "35e3c505",
   "metadata": {
    "execution": {
     "iopub.execute_input": "2023-11-13T03:37:14.923652Z",
     "iopub.status.busy": "2023-11-13T03:37:14.923418Z",
     "iopub.status.idle": "2023-11-13T03:37:14.926694Z",
     "shell.execute_reply": "2023-11-13T03:37:14.926322Z"
    },
    "papermill": {
     "duration": null,
     "end_time": null,
     "exception": null,
     "start_time": null,
     "status": "pending"
    },
    "tags": []
   },
   "outputs": [],
   "source": [
    "# convert data class into a dataloader to be compatible with pytorch\n",
    "train_loader = torch.utils.data.DataLoader(\n",
    "    dataset=train_data, batch_size=mlp_params.BATCH_SIZE, shuffle=mlp_params.SHUFFLE\n",
    ")\n",
    "valid_loader = torch.utils.data.DataLoader(\n",
    "    dataset=val_data, batch_size=mlp_params.BATCH_SIZE, shuffle=mlp_params.SHUFFLE\n",
    ")\n",
    "test_loader = torch.utils.data.DataLoader(\n",
    "    dataset=test_data, batch_size=1, shuffle=mlp_params.SHUFFLE\n",
    ")"
   ]
  },
  {
   "cell_type": "code",
   "execution_count": 21,
   "id": "4ab763c4",
   "metadata": {
    "execution": {
     "iopub.execute_input": "2023-11-13T03:37:14.945223Z",
     "iopub.status.busy": "2023-11-13T03:37:14.944639Z",
     "iopub.status.idle": "2023-11-13T03:45:26.118958Z",
     "shell.execute_reply": "2023-11-13T03:45:26.118478Z"
    },
    "papermill": {
     "duration": null,
     "end_time": null,
     "exception": null,
     "start_time": null,
     "status": "pending"
    },
    "tags": []
   },
   "outputs": [
    {
     "name": "stdout",
     "output_type": "stream",
     "text": [
      "SGD\n",
      "Epoch 0: Validation loss decreased (inf --> 0.598038).  Saving model ...\n",
      "\t Train_Loss: 0.6509 Train_Acc: 70.520 Val_Loss: 0.5980  BEST VAL Loss: 0.5980  Val_Acc: 71.901\n",
      "\n",
      "Epoch 1: Validation loss decreased (0.598038 --> 0.585404).  Saving model ...\n",
      "\t Train_Loss: 0.6169 Train_Acc: 72.995 Val_Loss: 0.5854  BEST VAL Loss: 0.5854  Val_Acc: 73.085\n",
      "\n",
      "Epoch 2: Validation loss decreased (0.585404 --> 0.576750).  Saving model ...\n",
      "\t Train_Loss: 0.5973 Train_Acc: 74.126 Val_Loss: 0.5768  BEST VAL Loss: 0.5768  Val_Acc: 73.764\n",
      "\n",
      "Epoch 3: Validation loss decreased (0.576750 --> 0.570918).  Saving model ...\n",
      "\t Train_Loss: 0.5834 Train_Acc: 74.819 Val_Loss: 0.5709  BEST VAL Loss: 0.5709  Val_Acc: 74.219\n",
      "\n",
      "Epoch 4: Validation loss decreased (0.570918 --> 0.566008).  Saving model ...\n",
      "\t Train_Loss: 0.5725 Train_Acc: 75.301 Val_Loss: 0.5660  BEST VAL Loss: 0.5660  Val_Acc: 74.432\n",
      "\n",
      "Epoch 5: Validation loss decreased (0.566008 --> 0.562060).  Saving model ...\n",
      "\t Train_Loss: 0.5633 Train_Acc: 75.803 Val_Loss: 0.5621  BEST VAL Loss: 0.5621  Val_Acc: 74.578\n",
      "\n",
      "Epoch 6: Validation loss decreased (0.562060 --> 0.559368).  Saving model ...\n",
      "\t Train_Loss: 0.5556 Train_Acc: 76.241 Val_Loss: 0.5594  BEST VAL Loss: 0.5594  Val_Acc: 74.779\n",
      "\n",
      "Epoch 7: Validation loss decreased (0.559368 --> 0.556958).  Saving model ...\n",
      "\t Train_Loss: 0.5488 Train_Acc: 76.522 Val_Loss: 0.5570  BEST VAL Loss: 0.5570  Val_Acc: 74.837\n",
      "\n",
      "Epoch 8: Validation loss decreased (0.556958 --> 0.554994).  Saving model ...\n",
      "\t Train_Loss: 0.5425 Train_Acc: 76.863 Val_Loss: 0.5550  BEST VAL Loss: 0.5550  Val_Acc: 74.978\n",
      "\n",
      "Epoch 9: Validation loss decreased (0.554994 --> 0.553279).  Saving model ...\n",
      "\t Train_Loss: 0.5369 Train_Acc: 77.051 Val_Loss: 0.5533  BEST VAL Loss: 0.5533  Val_Acc: 75.402\n",
      "\n",
      "Epoch 10: Validation loss decreased (0.553279 --> 0.551911).  Saving model ...\n",
      "\t Train_Loss: 0.5319 Train_Acc: 77.284 Val_Loss: 0.5519  BEST VAL Loss: 0.5519  Val_Acc: 75.028\n",
      "\n",
      "Epoch 11: Validation loss decreased (0.551911 --> 0.550867).  Saving model ...\n",
      "\t Train_Loss: 0.5272 Train_Acc: 77.466 Val_Loss: 0.5509  BEST VAL Loss: 0.5509  Val_Acc: 75.343\n",
      "\n",
      "Epoch 12: Validation loss decreased (0.550867 --> 0.549924).  Saving model ...\n",
      "\t Train_Loss: 0.5228 Train_Acc: 77.688 Val_Loss: 0.5499  BEST VAL Loss: 0.5499  Val_Acc: 75.193\n",
      "\n",
      "Epoch 13: Validation loss decreased (0.549924 --> 0.549136).  Saving model ...\n",
      "\t Train_Loss: 0.5187 Train_Acc: 77.943 Val_Loss: 0.5491  BEST VAL Loss: 0.5491  Val_Acc: 75.373\n",
      "\n",
      "Epoch 14: Validation loss decreased (0.549136 --> 0.548495).  Saving model ...\n",
      "\t Train_Loss: 0.5149 Train_Acc: 78.169 Val_Loss: 0.5485  BEST VAL Loss: 0.5485  Val_Acc: 75.578\n",
      "\n",
      "Epoch 15: Validation loss decreased (0.548495 --> 0.548328).  Saving model ...\n",
      "\t Train_Loss: 0.5114 Train_Acc: 78.292 Val_Loss: 0.5483  BEST VAL Loss: 0.5483  Val_Acc: 75.251\n",
      "\n",
      "Epoch 16: Validation loss decreased (0.548328 --> 0.548231).  Saving model ...\n",
      "\t Train_Loss: 0.5081 Train_Acc: 78.422 Val_Loss: 0.5482  BEST VAL Loss: 0.5482  Val_Acc: 75.474\n",
      "\n",
      "Epoch 17: Validation loss decreased (0.548231 --> 0.548032).  Saving model ...\n",
      "\t Train_Loss: 0.5049 Train_Acc: 78.737 Val_Loss: 0.5480  BEST VAL Loss: 0.5480  Val_Acc: 75.598\n",
      "\n",
      "Epoch 18: Validation loss decreased (0.548032 --> 0.548025).  Saving model ...\n",
      "\t Train_Loss: 0.5019 Train_Acc: 78.726 Val_Loss: 0.5480  BEST VAL Loss: 0.5480  Val_Acc: 75.632\n",
      "\n",
      "Epoch 19: Validation loss decreased (0.548025 --> 0.547965).  Saving model ...\n",
      "\t Train_Loss: 0.4990 Train_Acc: 78.954 Val_Loss: 0.5480  BEST VAL Loss: 0.5480  Val_Acc: 75.566\n",
      "\n",
      "Epoch 20: Validation loss decreased (0.547965 --> 0.547940).  Saving model ...\n",
      "\t Train_Loss: 0.4963 Train_Acc: 79.110 Val_Loss: 0.5479  BEST VAL Loss: 0.5479  Val_Acc: 75.586\n",
      "\n",
      "Epoch 21: Validation loss did not decrease\n",
      "\t Train_Loss: 0.4937 Train_Acc: 79.312 Val_Loss: 0.5482  BEST VAL Loss: 0.5479  Val_Acc: 75.588\n",
      "\n",
      "Epoch 22: Validation loss did not decrease\n",
      "\t Train_Loss: 0.4912 Train_Acc: 79.242 Val_Loss: 0.5483  BEST VAL Loss: 0.5479  Val_Acc: 75.443\n",
      "\n",
      "Epoch 23: Validation loss did not decrease\n",
      "\t Train_Loss: 0.4888 Train_Acc: 79.511 Val_Loss: 0.5484  BEST VAL Loss: 0.5479  Val_Acc: 75.518\n",
      "\n",
      "Epoch 24: Validation loss did not decrease\n",
      "\t Train_Loss: 0.4865 Train_Acc: 79.556 Val_Loss: 0.5487  BEST VAL Loss: 0.5479  Val_Acc: 75.639\n",
      "\n",
      "Epoch 25: Validation loss did not decrease\n",
      "\t Train_Loss: 0.4843 Train_Acc: 79.756 Val_Loss: 0.5490  BEST VAL Loss: 0.5479  Val_Acc: 75.748\n",
      "\n",
      "Epoch 26: Validation loss did not decrease\n",
      "\t Train_Loss: 0.4821 Train_Acc: 79.901 Val_Loss: 0.5492  BEST VAL Loss: 0.5479  Val_Acc: 75.743\n",
      "\n",
      "Epoch 27: Validation loss did not decrease\n",
      "\t Train_Loss: 0.4801 Train_Acc: 79.872 Val_Loss: 0.5496  BEST VAL Loss: 0.5479  Val_Acc: 75.477\n",
      "\n",
      "Epoch 28: Validation loss did not decrease\n",
      "\t Train_Loss: 0.4782 Train_Acc: 80.077 Val_Loss: 0.5502  BEST VAL Loss: 0.5479  Val_Acc: 75.382\n",
      "\n",
      "Epoch 29: Validation loss did not decrease\n",
      "\t Train_Loss: 0.4763 Train_Acc: 80.094 Val_Loss: 0.5506  BEST VAL Loss: 0.5479  Val_Acc: 75.697\n",
      "\n",
      "Epoch 30: Validation loss did not decrease\n",
      "\t Train_Loss: 0.4744 Train_Acc: 80.168 Val_Loss: 0.5510  BEST VAL Loss: 0.5479  Val_Acc: 76.027\n",
      "\n",
      "Epoch 31: Validation loss did not decrease\n",
      "\t Train_Loss: 0.4727 Train_Acc: 80.223 Val_Loss: 0.5515  BEST VAL Loss: 0.5479  Val_Acc: 75.964\n",
      "\n",
      "Epoch 32: Validation loss did not decrease\n",
      "\t Train_Loss: 0.4709 Train_Acc: 80.342 Val_Loss: 0.5520  BEST VAL Loss: 0.5479  Val_Acc: 75.765\n",
      "\n",
      "Epoch 33: Validation loss did not decrease\n",
      "\t Train_Loss: 0.4692 Train_Acc: 80.537 Val_Loss: 0.5526  BEST VAL Loss: 0.5479  Val_Acc: 75.608\n",
      "\n",
      "Epoch 34: Validation loss did not decrease\n",
      "\t Train_Loss: 0.4676 Train_Acc: 80.568 Val_Loss: 0.5531  BEST VAL Loss: 0.5479  Val_Acc: 75.724\n",
      "\n",
      "Epoch 35: Validation loss did not decrease\n",
      "\t Train_Loss: 0.4660 Train_Acc: 80.577 Val_Loss: 0.5537  BEST VAL Loss: 0.5479  Val_Acc: 75.746\n",
      "\n",
      "Epoch 36: Validation loss did not decrease\n",
      "Early stopped at epoch : 36\n"
     ]
    }
   ],
   "source": [
    "# call the optimized training model\n",
    "train_loss, train_acc, valid_loss, valid_acc, epochs_ran, model = train_optimized_model(\n",
    "    mlp_params.TRAIN_EPOCHS,\n",
    "    train_loader,\n",
    "    valid_loader,\n",
    "    params,\n",
    "    mlp_params.MODEL_NAME,\n",
    "    mlp_params.SHUFFLE,\n",
    "    class_weights=class_weights,\n",
    ")\n",
    "# get training_metrics\n",
    "if mlp_params.MODEL_TYPE == \"Regression\":\n",
    "    training_stats = pd.DataFrame(\n",
    "        zip(train_loss, valid_loss, epochs_ran),\n",
    "        columns=[\"train_loss\", \"valid_loss\", \"epochs_ran\"],\n",
    "    )\n",
    "else:\n",
    "    training_stats = pd.DataFrame(\n",
    "        zip(train_loss, train_acc, valid_loss, valid_acc, epochs_ran),\n",
    "        columns=[\"train_loss\", \"train_acc\", \"valid_loss\", \"valid_acc\", \"epochs_ran\"],\n",
    "    )"
   ]
  },
  {
   "cell_type": "code",
   "execution_count": 22,
   "id": "3d5115e3",
   "metadata": {
    "execution": {
     "iopub.execute_input": "2023-11-13T03:45:26.159482Z",
     "iopub.status.busy": "2023-11-13T03:45:26.159314Z",
     "iopub.status.idle": "2023-11-13T03:45:26.166918Z",
     "shell.execute_reply": "2023-11-13T03:45:26.166470Z"
    },
    "papermill": {
     "duration": null,
     "end_time": null,
     "exception": null,
     "start_time": null,
     "status": "pending"
    },
    "tags": []
   },
   "outputs": [
    {
     "data": {
      "text/html": [
       "<div>\n",
       "<style scoped>\n",
       "    .dataframe tbody tr th:only-of-type {\n",
       "        vertical-align: middle;\n",
       "    }\n",
       "\n",
       "    .dataframe tbody tr th {\n",
       "        vertical-align: top;\n",
       "    }\n",
       "\n",
       "    .dataframe thead th {\n",
       "        text-align: right;\n",
       "    }\n",
       "</style>\n",
       "<table border=\"1\" class=\"dataframe\">\n",
       "  <thead>\n",
       "    <tr style=\"text-align: right;\">\n",
       "      <th></th>\n",
       "      <th>label</th>\n",
       "      <th>metric</th>\n",
       "      <th>value</th>\n",
       "      <th>group</th>\n",
       "      <th>shuffled_data</th>\n",
       "    </tr>\n",
       "  </thead>\n",
       "  <tbody>\n",
       "  </tbody>\n",
       "</table>\n",
       "</div>"
      ],
      "text/plain": [
       "Empty DataFrame\n",
       "Columns: [label, metric, value, group, shuffled_data]\n",
       "Index: []"
      ]
     },
     "execution_count": 22,
     "metadata": {},
     "output_type": "execute_result"
    }
   ],
   "source": [
    "# create a dataframe to store the model stats\n",
    "model_stats_df = pd.DataFrame(\n",
    "    columns=[\n",
    "        \"label\",\n",
    "        \"metric\",\n",
    "        \"value\",\n",
    "        \"group\",\n",
    "        \"shuffled_data\",\n",
    "    ]\n",
    ")\n",
    "# check empty dataframe\n",
    "model_stats_df"
   ]
  },
  {
   "cell_type": "code",
   "execution_count": 23,
   "id": "d4f283d4",
   "metadata": {
    "execution": {
     "iopub.execute_input": "2023-11-13T03:45:26.191425Z",
     "iopub.status.busy": "2023-11-13T03:45:26.191262Z",
     "iopub.status.idle": "2023-11-13T03:45:26.833630Z",
     "shell.execute_reply": "2023-11-13T03:45:26.833186Z"
    },
    "papermill": {
     "duration": null,
     "end_time": null,
     "exception": null,
     "start_time": null,
     "status": "pending"
    },
    "tags": []
   },
   "outputs": [
    {
     "name": "stderr",
     "output_type": "stream",
     "text": [
      "/home/lippincm/Documents/ML/Interstellar_Analysis/4.sc_Morphology_Neural_Network_MLP_Model/1.model_training/notebooks/../../MLP_utils/utils.py:1015: UserWarning: Ignoring `palette` because no `hue` variable has been assigned.\n",
      "  sns.lineplot(x=df[x], y=df[y1], palette=\"blue\", label=\"Train\")\n",
      "/home/lippincm/Documents/ML/Interstellar_Analysis/4.sc_Morphology_Neural_Network_MLP_Model/1.model_training/notebooks/../../MLP_utils/utils.py:1016: UserWarning: Ignoring `palette` because no `hue` variable has been assigned.\n",
      "  sns.lineplot(x=df[x], y=df[y2], palette=\"orange\", label=\"Validation\")\n"
     ]
    },
    {
     "data": {
      "image/png": "[encoded data removed]",
      "text/plain": [
       "<Figure size 640x480 with 1 Axes>"
      ]
     },
     "metadata": {},
     "output_type": "display_data"
    }
   ],
   "source": [
    "if mlp_params.MODEL_TYPE == \"Regression\":\n",
    "    pass\n",
    "else:\n",
    "    plot_metric_vs_epoch(\n",
    "        training_stats,\n",
    "        x=\"epochs_ran\",\n",
    "        y1=\"train_acc\",\n",
    "        y2=\"valid_acc\",\n",
    "        title=\"Accuracy vs. Epochs\",\n",
    "        x_axis_label=\"Epochs\",\n",
    "        y_axis_label=\"Accuracy\",\n",
    "        params=params,\n",
    "        model_name=mlp_params.MODEL_NAME,\n",
    "        shuffle=mlp_params.SHUFFLE,\n",
    "    )"
   ]
  },
  {
   "cell_type": "code",
   "execution_count": 24,
   "id": "5e491e00",
   "metadata": {
    "execution": {
     "iopub.execute_input": "2023-11-13T03:45:26.861418Z",
     "iopub.status.busy": "2023-11-13T03:45:26.860827Z",
     "iopub.status.idle": "2023-11-13T03:45:27.176560Z",
     "shell.execute_reply": "2023-11-13T03:45:27.176174Z"
    },
    "papermill": {
     "duration": null,
     "end_time": null,
     "exception": null,
     "start_time": null,
     "status": "pending"
    },
    "tags": []
   },
   "outputs": [
    {
     "name": "stderr",
     "output_type": "stream",
     "text": [
      "/home/lippincm/Documents/ML/Interstellar_Analysis/4.sc_Morphology_Neural_Network_MLP_Model/1.model_training/notebooks/../../MLP_utils/utils.py:1015: UserWarning: Ignoring `palette` because no `hue` variable has been assigned.\n",
      "  sns.lineplot(x=df[x], y=df[y1], palette=\"blue\", label=\"Train\")\n",
      "/home/lippincm/Documents/ML/Interstellar_Analysis/4.sc_Morphology_Neural_Network_MLP_Model/1.model_training/notebooks/../../MLP_utils/utils.py:1016: UserWarning: Ignoring `palette` because no `hue` variable has been assigned.\n",
      "  sns.lineplot(x=df[x], y=df[y2], palette=\"orange\", label=\"Validation\")\n"
     ]
    },
    {
     "data": {
      "image/png": "[encoded data removed]",
      "text/plain": [
       "<Figure size 640x480 with 1 Axes>"
      ]
     },
     "metadata": {},
     "output_type": "display_data"
    }
   ],
   "source": [
    "plot_metric_vs_epoch(\n",
    "    training_stats,\n",
    "    x=\"epochs_ran\",\n",
    "    y1=\"train_loss\",\n",
    "    y2=\"valid_loss\",\n",
    "    title=\"Loss vs. Epochs\",\n",
    "    x_axis_label=\"Epochs\",\n",
    "    y_axis_label=\"Loss\",\n",
    "    params=params,\n",
    "    model_name=mlp_params.MODEL_NAME,\n",
    "    shuffle=mlp_params.SHUFFLE,\n",
    ")"
   ]
  },
  {
   "cell_type": "markdown",
   "id": "1d6993ae",
   "metadata": {
    "papermill": {
     "duration": null,
     "end_time": null,
     "exception": null,
     "start_time": null,
     "status": "pending"
    },
    "tags": []
   },
   "source": [
    "### Test Models on training data"
   ]
  },
  {
   "cell_type": "code",
   "execution_count": 25,
   "id": "9c595792",
   "metadata": {
    "execution": {
     "iopub.execute_input": "2023-11-13T03:45:27.226417Z",
     "iopub.status.busy": "2023-11-13T03:45:27.226011Z",
     "iopub.status.idle": "2023-11-13T03:45:29.777801Z",
     "shell.execute_reply": "2023-11-13T03:45:29.777257Z"
    },
    "papermill": {
     "duration": null,
     "end_time": null,
     "exception": null,
     "start_time": null,
     "status": "pending"
    },
    "tags": []
   },
   "outputs": [
    {
     "name": "stdout",
     "output_type": "stream",
     "text": [
      "MultiClass_MLP\n"
     ]
    }
   ],
   "source": [
    "# test the model on training data\n",
    "# calling the testing function and outputting list values of tested model\n",
    "if any(\n",
    "    model_type == mlp_params.MODEL_TYPE for model_type in [\"Multi_Class\", \"Regression\"]\n",
    "):\n",
    "    y_pred_list = test_optimized_model(\n",
    "        model,\n",
    "        train_loader,\n",
    "        mlp_params,\n",
    "        model_name=mlp_params.MODEL_NAME,\n",
    "        shuffle=mlp_params.SHUFFLE,\n",
    "    )\n",
    "elif mlp_params.MODEL_TYPE == \"Binary_Classification\":\n",
    "    y_pred_list, y_pred_prob_list = test_optimized_model(\n",
    "        model,\n",
    "        train_loader,\n",
    "        mlp_params,\n",
    "        model_name=mlp_params.MODEL_NAME,\n",
    "        shuffle=mlp_params.SHUFFLE,\n",
    "    )\n",
    "else:\n",
    "    raise Exception(\"Model type must be specified for proper model testing\")\n",
    "\n",
    "# un-nest list if nested i.e. length of input data does not match length of output data\n",
    "if len(y_pred_list) != len(Y_test):\n",
    "    y_pred_list = un_nest(y_pred_list)\n",
    "    if mlp_params.MODEL_TYPE == \"Binary_Classification\":\n",
    "        y_pred_prob_list = un_nest(y_pred_prob_list)\n",
    "else:\n",
    "    pass"
   ]
  },
  {
   "cell_type": "code",
   "execution_count": 26,
   "id": "4b269c1d",
   "metadata": {
    "execution": {
     "iopub.execute_input": "2023-11-13T03:45:29.806395Z",
     "iopub.status.busy": "2023-11-13T03:45:29.806222Z",
     "iopub.status.idle": "2023-11-13T03:45:30.151598Z",
     "shell.execute_reply": "2023-11-13T03:45:30.151179Z"
    },
    "papermill": {
     "duration": null,
     "end_time": null,
     "exception": null,
     "start_time": null,
     "status": "pending"
    },
    "tags": []
   },
   "outputs": [
    {
     "name": "stdout",
     "output_type": "stream",
     "text": [
      "              precision    recall  f1-score   support\n",
      "\n",
      "           0       0.92      0.94      0.93      7972\n",
      "           1       0.83      0.83      0.83     93463\n",
      "           2       0.76      0.76      0.76     63662\n",
      "\n",
      "    accuracy                           0.81    165097\n",
      "   macro avg       0.84      0.84      0.84    165097\n",
      "weighted avg       0.81      0.81      0.81    165097\n",
      "\n"
     ]
    },
    {
     "name": "stderr",
     "output_type": "stream",
     "text": [
      "/tmp/ipykernel_17883/3705935474.py:18: SettingWithCopyWarning: \n",
      "A value is trying to be set on a copy of a slice from a DataFrame.\n",
      "Try using .loc[row_indexer,col_indexer] = value instead\n",
      "\n",
      "See the caveats in the documentation: https://pandas.pydata.org/pandas-docs/stable/user_guide/indexing.html#returning-a-view-versus-a-copy\n",
      "  df_labels[\"new_labels\"] = df_labels[\"new_labels\"].astype(str)\n"
     ]
    }
   ],
   "source": [
    "stats_df = output_stats(\n",
    "    y_pred_list,\n",
    "    Y_train,\n",
    "    mlp_params,\n",
    "    test_name=f\"{mlp_params.MODEL_NAME}_train\",\n",
    "    model_name=mlp_params.MODEL_NAME,\n",
    "    title=mlp_params.MODEL_NAME,\n",
    "    shuffle=mlp_params.SHUFFLE,\n",
    ")\n",
    "# make into a dataframe\n",
    "stats_df = pd.DataFrame.from_dict(stats_df).transpose()\n",
    "stats_df.reset_index(inplace=True)\n",
    "stats_df.rename(columns={\"index\": \"label\"}, inplace=True)\n",
    "stats_df = stats_df.melt(id_vars=[\"label\"], var_name=\"metric\", value_name=\"value\")\n",
    "# if accuracy in row of column 1 then change value of column 2 to accuracy\n",
    "stats_df.loc[stats_df[\"label\"] == \"accuracy\", \"metric\"] = \"accuracy\"\n",
    "# create a decoder dictionary from df_labels\n",
    "df_labels[\"new_labels\"] = df_labels[\"new_labels\"].astype(str)\n",
    "decoder = df_labels.set_index(\"new_labels\").to_dict()[\"labels\"]\n",
    "decoder[\"accuracy\"] = \"accuracy\"\n",
    "decoder[\"macro avg\"] = \"macro avg\"\n",
    "decoder[\"weighted avg\"] = \"weighted avg\"\n",
    "stats_df[\"label\"] = stats_df[\"label\"].map(decoder)"
   ]
  },
  {
   "cell_type": "code",
   "execution_count": 27,
   "id": "fdde3d70",
   "metadata": {
    "execution": {
     "iopub.execute_input": "2023-11-13T03:45:30.178667Z",
     "iopub.status.busy": "2023-11-13T03:45:30.178280Z",
     "iopub.status.idle": "2023-11-13T03:45:30.181886Z",
     "shell.execute_reply": "2023-11-13T03:45:30.181494Z"
    },
    "papermill": {
     "duration": null,
     "end_time": null,
     "exception": null,
     "start_time": null,
     "status": "pending"
    },
    "tags": []
   },
   "outputs": [],
   "source": [
    "stats_df[\"group\"] = \"train\"\n",
    "stats_df[\"shuffled_data\"] = mlp_params.SHUFFLE\n",
    "stats_df\n",
    "model_stats_df = pd.concat([model_stats_df, stats_df], axis=0)"
   ]
  },
  {
   "cell_type": "markdown",
   "id": "dd00a92e",
   "metadata": {
    "papermill": {
     "duration": null,
     "end_time": null,
     "exception": null,
     "start_time": null,
     "status": "pending"
    },
    "tags": []
   },
   "source": [
    "### Test models on Validation data"
   ]
  },
  {
   "cell_type": "code",
   "execution_count": 28,
   "id": "52b5399f",
   "metadata": {
    "execution": {
     "iopub.execute_input": "2023-11-13T03:45:30.229982Z",
     "iopub.status.busy": "2023-11-13T03:45:30.229718Z",
     "iopub.status.idle": "2023-11-13T03:45:30.837000Z",
     "shell.execute_reply": "2023-11-13T03:45:30.836480Z"
    },
    "papermill": {
     "duration": null,
     "end_time": null,
     "exception": null,
     "start_time": null,
     "status": "pending"
    },
    "tags": []
   },
   "outputs": [
    {
     "name": "stdout",
     "output_type": "stream",
     "text": [
      "MultiClass_MLP\n"
     ]
    }
   ],
   "source": [
    "# test the model on training data\n",
    "# calling the testing function and outputting list values of tested model\n",
    "if any(\n",
    "    model_type == mlp_params.MODEL_TYPE for model_type in [\"Multi_Class\", \"Regression\"]\n",
    "):\n",
    "    y_pred_list = test_optimized_model(\n",
    "        model,\n",
    "        valid_loader,\n",
    "        mlp_params,\n",
    "        model_name=mlp_params.MODEL_NAME,\n",
    "        shuffle=mlp_params.SHUFFLE,\n",
    "    )\n",
    "elif mlp_params.MODEL_TYPE == \"Binary_Classification\":\n",
    "    y_pred_list, y_pred_prob_list = test_optimized_model(\n",
    "        model,\n",
    "        valid_loader,\n",
    "        mlp_params,\n",
    "        model_name=mlp_params.MODEL_NAME,\n",
    "        shuffle=mlp_params.SHUFFLE,\n",
    "    )\n",
    "else:\n",
    "    raise Exception(\"Model type must be specified for proper model testing\")\n",
    "\n",
    "# un-nest list if nested i.e. length of input data does not match length of output data\n",
    "if len(y_pred_list) != len(Y_test):\n",
    "    y_pred_list = un_nest(y_pred_list)\n",
    "    if mlp_params.MODEL_TYPE == \"Binary_Classification\":\n",
    "        y_pred_prob_list = un_nest(y_pred_prob_list)\n",
    "else:\n",
    "    pass"
   ]
  },
  {
   "cell_type": "code",
   "execution_count": 29,
   "id": "444b8e3e",
   "metadata": {
    "execution": {
     "iopub.execute_input": "2023-11-13T03:45:30.862100Z",
     "iopub.status.busy": "2023-11-13T03:45:30.861930Z",
     "iopub.status.idle": "2023-11-13T03:45:30.962171Z",
     "shell.execute_reply": "2023-11-13T03:45:30.961719Z"
    },
    "papermill": {
     "duration": null,
     "end_time": null,
     "exception": null,
     "start_time": null,
     "status": "pending"
    },
    "tags": []
   },
   "outputs": [
    {
     "name": "stdout",
     "output_type": "stream",
     "text": [
      "              precision    recall  f1-score   support\n",
      "\n",
      "           0       0.79      0.75      0.77      1993\n",
      "           1       0.79      0.79      0.79     23367\n",
      "           2       0.70      0.71      0.70     15915\n",
      "\n",
      "    accuracy                           0.76     41275\n",
      "   macro avg       0.76      0.75      0.76     41275\n",
      "weighted avg       0.76      0.76      0.76     41275\n",
      "\n"
     ]
    },
    {
     "name": "stderr",
     "output_type": "stream",
     "text": [
      "/tmp/ipykernel_17883/603564049.py:18: SettingWithCopyWarning: \n",
      "A value is trying to be set on a copy of a slice from a DataFrame.\n",
      "Try using .loc[row_indexer,col_indexer] = value instead\n",
      "\n",
      "See the caveats in the documentation: https://pandas.pydata.org/pandas-docs/stable/user_guide/indexing.html#returning-a-view-versus-a-copy\n",
      "  df_labels[\"new_labels\"] = df_labels[\"new_labels\"].astype(str)\n"
     ]
    }
   ],
   "source": [
    "stats_df = output_stats(\n",
    "    y_pred_list,\n",
    "    Y_val,\n",
    "    mlp_params,\n",
    "    test_name=f\"{mlp_params.MODEL_NAME}_train\",\n",
    "    model_name=mlp_params.MODEL_NAME,\n",
    "    title=mlp_params.MODEL_NAME,\n",
    "    shuffle=mlp_params.SHUFFLE,\n",
    ")\n",
    "# make into a dataframe\n",
    "stats_df = pd.DataFrame.from_dict(stats_df).transpose()\n",
    "stats_df.reset_index(inplace=True)\n",
    "stats_df.rename(columns={\"index\": \"label\"}, inplace=True)\n",
    "stats_df = stats_df.melt(id_vars=[\"label\"], var_name=\"metric\", value_name=\"value\")\n",
    "# if accuracy in row of column 1 then change value of column 2 to accuracy\n",
    "stats_df.loc[stats_df[\"label\"] == \"accuracy\", \"metric\"] = \"accuracy\"\n",
    "# create a decoder dictionary from df_labels\n",
    "df_labels[\"new_labels\"] = df_labels[\"new_labels\"].astype(str)\n",
    "decoder = df_labels.set_index(\"new_labels\").to_dict()[\"labels\"]\n",
    "decoder[\"accuracy\"] = \"accuracy\"\n",
    "decoder[\"macro avg\"] = \"macro avg\"\n",
    "decoder[\"weighted avg\"] = \"weighted avg\"\n",
    "stats_df[\"label\"] = stats_df[\"label\"].map(decoder)"
   ]
  },
  {
   "cell_type": "code",
   "execution_count": 30,
   "id": "2573e7a6",
   "metadata": {
    "execution": {
     "iopub.execute_input": "2023-11-13T03:45:30.989234Z",
     "iopub.status.busy": "2023-11-13T03:45:30.989069Z",
     "iopub.status.idle": "2023-11-13T03:45:30.992766Z",
     "shell.execute_reply": "2023-11-13T03:45:30.992326Z"
    },
    "papermill": {
     "duration": null,
     "end_time": null,
     "exception": null,
     "start_time": null,
     "status": "pending"
    },
    "tags": []
   },
   "outputs": [
    {
     "name": "stderr",
     "output_type": "stream",
     "text": [
      "/tmp/ipykernel_17883/1865218578.py:4: FutureWarning: In a future version, object-dtype columns with all-bool values will not be included in reductions with bool_only=True. Explicitly cast to bool dtype instead.\n",
      "  model_stats_df = pd.concat([model_stats_df, stats_df], axis=0)\n"
     ]
    }
   ],
   "source": [
    "stats_df[\"group\"] = \"validation\"\n",
    "stats_df[\"shuffled_data\"] = mlp_params.SHUFFLE\n",
    "\n",
    "model_stats_df = pd.concat([model_stats_df, stats_df], axis=0)"
   ]
  },
  {
   "cell_type": "code",
   "execution_count": 31,
   "id": "f179b14f",
   "metadata": {
    "execution": {
     "iopub.execute_input": "2023-11-13T03:45:31.018277Z",
     "iopub.status.busy": "2023-11-13T03:45:31.018112Z",
     "iopub.status.idle": "2023-11-13T03:45:31.022914Z",
     "shell.execute_reply": "2023-11-13T03:45:31.022409Z"
    },
    "papermill": {
     "duration": null,
     "end_time": null,
     "exception": null,
     "start_time": null,
     "status": "pending"
    },
    "tags": []
   },
   "outputs": [
    {
     "data": {
      "text/plain": [
       "'MultiClass_MLP'"
      ]
     },
     "execution_count": 31,
     "metadata": {},
     "output_type": "execute_result"
    }
   ],
   "source": [
    "mlp_params.MODEL_NAME"
   ]
  },
  {
   "cell_type": "markdown",
   "id": "b1a18529",
   "metadata": {
    "papermill": {
     "duration": null,
     "end_time": null,
     "exception": null,
     "start_time": null,
     "status": "pending"
    },
    "tags": []
   },
   "source": [
    "### Testing on the test data"
   ]
  },
  {
   "cell_type": "code",
   "execution_count": 32,
   "id": "5b5e76f8",
   "metadata": {
    "execution": {
     "iopub.execute_input": "2023-11-13T03:45:31.073811Z",
     "iopub.status.busy": "2023-11-13T03:45:31.073498Z",
     "iopub.status.idle": "2023-11-13T03:45:31.077443Z",
     "shell.execute_reply": "2023-11-13T03:45:31.077009Z"
    },
    "papermill": {
     "duration": null,
     "end_time": null,
     "exception": null,
     "start_time": null,
     "status": "pending"
    },
    "tags": []
   },
   "outputs": [],
   "source": [
    "# create a dataframe to store the model confusion matrix\n",
    "data_split_conf_mat_df_all = pd.DataFrame(\n",
    "    columns=[\"True_Label\", \"Predicted_Label\", \"Count\", \"data_split\", \"Recall\"]\n",
    ")"
   ]
  },
  {
   "cell_type": "code",
   "execution_count": 33,
   "id": "d30cef39",
   "metadata": {
    "execution": {
     "iopub.execute_input": "2023-11-13T03:45:31.103198Z",
     "iopub.status.busy": "2023-11-13T03:45:31.102764Z",
     "iopub.status.idle": "2023-11-13T03:45:58.660822Z",
     "shell.execute_reply": "2023-11-13T03:45:58.660292Z"
    },
    "papermill": {
     "duration": null,
     "end_time": null,
     "exception": null,
     "start_time": null,
     "status": "pending"
    },
    "tags": []
   },
   "outputs": [
    {
     "name": "stdout",
     "output_type": "stream",
     "text": [
      "MultiClass_MLP\n"
     ]
    }
   ],
   "source": [
    "# calling the testing function and outputting list values of tested model\n",
    "if any(\n",
    "    model_type == mlp_params.MODEL_TYPE for model_type in [\"Multi_Class\", \"Regression\"]\n",
    "):\n",
    "    y_pred_list = test_optimized_model(\n",
    "        model,\n",
    "        test_loader,\n",
    "        params,\n",
    "        model_name=mlp_params.MODEL_NAME,\n",
    "        shuffle=mlp_params.SHUFFLE,\n",
    "    )\n",
    "elif mlp_params.MODEL_TYPE == \"Binary_Classification\":\n",
    "    y_pred_list, y_pred_prob_list = test_optimized_model(\n",
    "        model,\n",
    "        test_loader,\n",
    "        params,\n",
    "        model_name=mlp_params.MODEL_NAME,\n",
    "        shuffle=mlp_params.SHUFFLE,\n",
    "    )\n",
    "else:\n",
    "    raise Exception(\"Model type must be specified for proper model testing\")\n",
    "\n",
    "\n",
    "# un-nest list if nested i.e. length of input data does not match length of output data\n",
    "if len(y_pred_list) != len(Y_test):\n",
    "    y_pred_list = un_nest(y_pred_list)\n",
    "    if mlp_params.MODEL_TYPE == \"Binary_Classification\":\n",
    "        y_pred_prob_list = un_nest(y_pred_prob_list)\n",
    "else:\n",
    "    pass"
   ]
  },
  {
   "cell_type": "code",
   "execution_count": 34,
   "id": "ba2c00bd",
   "metadata": {
    "execution": {
     "iopub.execute_input": "2023-11-13T03:45:58.690648Z",
     "iopub.status.busy": "2023-11-13T03:45:58.690243Z",
     "iopub.status.idle": "2023-11-13T03:46:00.411883Z",
     "shell.execute_reply": "2023-11-13T03:46:00.411387Z"
    },
    "papermill": {
     "duration": null,
     "end_time": null,
     "exception": null,
     "start_time": null,
     "status": "pending"
    },
    "tags": []
   },
   "outputs": [
    {
     "name": "stdout",
     "output_type": "stream",
     "text": [
      "              precision    recall  f1-score   support\n",
      "\n",
      "           0       0.77      0.76      0.76      9965\n",
      "           1       0.71      0.79      0.75    116830\n",
      "           2       0.76      0.68      0.72    113834\n",
      "\n",
      "    accuracy                           0.73    240629\n",
      "   macro avg       0.75      0.74      0.74    240629\n",
      "weighted avg       0.74      0.73      0.73    240629\n",
      "\n",
      "Precision for class 0: 0.7712090163934426\n",
      "Recall for class 0: 0.7553437029603612\n",
      "Precision for class 1: 0.7113581507612329\n",
      "Recall for class 1: 0.7870666780792605\n",
      "Precision for class 2: 0.7602086511490576\n",
      "Recall for class 2: 0.678540682045786\n",
      "3\n"
     ]
    },
    {
     "data": {
      "image/png": "[encoded data removed]",
      "text/plain": [
       "<Figure size 640x480 with 2 Axes>"
      ]
     },
     "metadata": {},
     "output_type": "display_data"
    },
    {
     "data": {
      "image/png": "[encoded data removed]",
      "text/plain": [
       "<Figure size 640x480 with 1 Axes>"
      ]
     },
     "metadata": {},
     "output_type": "display_data"
    }
   ],
   "source": [
    "# Call visualization function\n",
    "# calling the testing function and outputing list values of tested model\n",
    "if any(\n",
    "    model_type == mlp_params.MODEL_TYPE for model_type in [\"Multi_Class\", \"Regression\"]\n",
    "):\n",
    "    confusion_matrix_df = results_output(\n",
    "        y_pred_list,\n",
    "        Y_test,\n",
    "        params,\n",
    "        test_name=f\"{mlp_params.MODEL_NAME}_testing\",\n",
    "        model_name=mlp_params.MODEL_NAME,\n",
    "        title=mlp_params.MODEL_NAME,\n",
    "        shuffle=mlp_params.SHUFFLE,\n",
    "    )\n",
    "elif mlp_params.MODEL_TYPE == \"Binary_Classification\":\n",
    "    results_output(\n",
    "        y_pred_list,\n",
    "        Y_test,\n",
    "        params,\n",
    "        y_pred_prob_list,\n",
    "        test_name=f\"{mlp_params.MODEL_NAME}_testing\",\n",
    "        model_name=mlp_params.MODEL_NAME,\n",
    "        title=mlp_params.MODEL_NAME,\n",
    "        shuffle=mlp_params.SHUFFLE,\n",
    "    )\n",
    "else:\n",
    "    raise Exception(\"Model type must be specified for proper model testing\")"
   ]
  },
  {
   "cell_type": "code",
   "execution_count": 35,
   "metadata": {},
   "outputs": [
    {
     "data": {
      "text/html": [
       "<div>\n",
       "<style scoped>\n",
       "    .dataframe tbody tr th:only-of-type {\n",
       "        vertical-align: middle;\n",
       "    }\n",
       "\n",
       "    .dataframe tbody tr th {\n",
       "        vertical-align: top;\n",
       "    }\n",
       "\n",
       "    .dataframe thead th {\n",
       "        text-align: right;\n",
       "    }\n",
       "</style>\n",
       "<table border=\"1\" class=\"dataframe\">\n",
       "  <thead>\n",
       "    <tr style=\"text-align: right;\">\n",
       "      <th></th>\n",
       "      <th>Metadata_cell_type</th>\n",
       "      <th>Metadata_Well</th>\n",
       "      <th>Metadata_number_of_singlecells</th>\n",
       "      <th>Metadata_incubation inducer (h)</th>\n",
       "      <th>Metadata_inhibitor</th>\n",
       "      <th>Metadata_inhibitor_concentration</th>\n",
       "      <th>Metadata_inhibitor_concentration_unit</th>\n",
       "      <th>Metadata_inducer1</th>\n",
       "      <th>Metadata_inducer1_concentration</th>\n",
       "      <th>Metadata_inducer1_concentration_unit</th>\n",
       "      <th>...</th>\n",
       "      <th>Metadata_inducer2_concentration_unit</th>\n",
       "      <th>Metadata_ImageNumber</th>\n",
       "      <th>Metadata_Plate</th>\n",
       "      <th>Metadata_Cells_Number_Object_Number</th>\n",
       "      <th>Metadata_Cytoplasm_Parent_Cells</th>\n",
       "      <th>Metadata_Cytoplasm_Parent_Nuclei</th>\n",
       "      <th>Metadata_Nuclei_Number_Object_Number</th>\n",
       "      <th>Metadata_Treatment</th>\n",
       "      <th>Metadata_Dose</th>\n",
       "      <th>labels</th>\n",
       "    </tr>\n",
       "  </thead>\n",
       "  <tbody>\n",
       "    <tr>\n",
       "      <th>0</th>\n",
       "      <td>SH-SY5Y</td>\n",
       "      <td>B13</td>\n",
       "      <td>3765</td>\n",
       "      <td>6</td>\n",
       "      <td>Media_ctr</td>\n",
       "      <td>nan</td>\n",
       "      <td>None</td>\n",
       "      <td>media_ctr</td>\n",
       "      <td>0.0</td>\n",
       "      <td>None</td>\n",
       "      <td>...</td>\n",
       "      <td>None</td>\n",
       "      <td>1</td>\n",
       "      <td>*70117_20230210MM1_Gasdermin514_CP_BC430856</td>\n",
       "      <td>1</td>\n",
       "      <td>1</td>\n",
       "      <td>3</td>\n",
       "      <td>3</td>\n",
       "      <td>media_ctr</td>\n",
       "      <td>0.0_None</td>\n",
       "      <td>healthy</td>\n",
       "    </tr>\n",
       "    <tr>\n",
       "      <th>6</th>\n",
       "      <td>SH-SY5Y</td>\n",
       "      <td>B13</td>\n",
       "      <td>3765</td>\n",
       "      <td>6</td>\n",
       "      <td>Media_ctr</td>\n",
       "      <td>nan</td>\n",
       "      <td>None</td>\n",
       "      <td>media_ctr</td>\n",
       "      <td>0.0</td>\n",
       "      <td>None</td>\n",
       "      <td>...</td>\n",
       "      <td>None</td>\n",
       "      <td>1</td>\n",
       "      <td>*70117_20230210MM1_Gasdermin514_CP_BC430856</td>\n",
       "      <td>7</td>\n",
       "      <td>7</td>\n",
       "      <td>9</td>\n",
       "      <td>9</td>\n",
       "      <td>media_ctr</td>\n",
       "      <td>0.0_None</td>\n",
       "      <td>healthy</td>\n",
       "    </tr>\n",
       "    <tr>\n",
       "      <th>7</th>\n",
       "      <td>SH-SY5Y</td>\n",
       "      <td>B13</td>\n",
       "      <td>3765</td>\n",
       "      <td>6</td>\n",
       "      <td>Media_ctr</td>\n",
       "      <td>nan</td>\n",
       "      <td>None</td>\n",
       "      <td>media_ctr</td>\n",
       "      <td>0.0</td>\n",
       "      <td>None</td>\n",
       "      <td>...</td>\n",
       "      <td>None</td>\n",
       "      <td>1</td>\n",
       "      <td>*70117_20230210MM1_Gasdermin514_CP_BC430856</td>\n",
       "      <td>8</td>\n",
       "      <td>8</td>\n",
       "      <td>10</td>\n",
       "      <td>10</td>\n",
       "      <td>media_ctr</td>\n",
       "      <td>0.0_None</td>\n",
       "      <td>healthy</td>\n",
       "    </tr>\n",
       "    <tr>\n",
       "      <th>8</th>\n",
       "      <td>SH-SY5Y</td>\n",
       "      <td>B13</td>\n",
       "      <td>3765</td>\n",
       "      <td>6</td>\n",
       "      <td>Media_ctr</td>\n",
       "      <td>nan</td>\n",
       "      <td>None</td>\n",
       "      <td>media_ctr</td>\n",
       "      <td>0.0</td>\n",
       "      <td>None</td>\n",
       "      <td>...</td>\n",
       "      <td>None</td>\n",
       "      <td>1</td>\n",
       "      <td>*70117_20230210MM1_Gasdermin514_CP_BC430856</td>\n",
       "      <td>9</td>\n",
       "      <td>9</td>\n",
       "      <td>11</td>\n",
       "      <td>11</td>\n",
       "      <td>media_ctr</td>\n",
       "      <td>0.0_None</td>\n",
       "      <td>healthy</td>\n",
       "    </tr>\n",
       "    <tr>\n",
       "      <th>9</th>\n",
       "      <td>SH-SY5Y</td>\n",
       "      <td>B13</td>\n",
       "      <td>3765</td>\n",
       "      <td>6</td>\n",
       "      <td>Media_ctr</td>\n",
       "      <td>nan</td>\n",
       "      <td>None</td>\n",
       "      <td>media_ctr</td>\n",
       "      <td>0.0</td>\n",
       "      <td>None</td>\n",
       "      <td>...</td>\n",
       "      <td>None</td>\n",
       "      <td>1</td>\n",
       "      <td>*70117_20230210MM1_Gasdermin514_CP_BC430856</td>\n",
       "      <td>10</td>\n",
       "      <td>10</td>\n",
       "      <td>12</td>\n",
       "      <td>12</td>\n",
       "      <td>media_ctr</td>\n",
       "      <td>0.0_None</td>\n",
       "      <td>healthy</td>\n",
       "    </tr>\n",
       "    <tr>\n",
       "      <th>...</th>\n",
       "      <td>...</td>\n",
       "      <td>...</td>\n",
       "      <td>...</td>\n",
       "      <td>...</td>\n",
       "      <td>...</td>\n",
       "      <td>...</td>\n",
       "      <td>...</td>\n",
       "      <td>...</td>\n",
       "      <td>...</td>\n",
       "      <td>...</td>\n",
       "      <td>...</td>\n",
       "      <td>...</td>\n",
       "      <td>...</td>\n",
       "      <td>...</td>\n",
       "      <td>...</td>\n",
       "      <td>...</td>\n",
       "      <td>...</td>\n",
       "      <td>...</td>\n",
       "      <td>...</td>\n",
       "      <td>...</td>\n",
       "      <td>...</td>\n",
       "    </tr>\n",
       "    <tr>\n",
       "      <th>597895</th>\n",
       "      <td>SH-SY5Y</td>\n",
       "      <td>O23</td>\n",
       "      <td>3555</td>\n",
       "      <td>6</td>\n",
       "      <td>Media_ctr</td>\n",
       "      <td>nan</td>\n",
       "      <td>None</td>\n",
       "      <td>media_ctr</td>\n",
       "      <td>0.0</td>\n",
       "      <td>None</td>\n",
       "      <td>...</td>\n",
       "      <td>None</td>\n",
       "      <td>1246</td>\n",
       "      <td>*70117_20230210MM1_Gasdermin514_CP_BC430856</td>\n",
       "      <td>81</td>\n",
       "      <td>81</td>\n",
       "      <td>87</td>\n",
       "      <td>87</td>\n",
       "      <td>media_ctr</td>\n",
       "      <td>0.0_None</td>\n",
       "      <td>healthy</td>\n",
       "    </tr>\n",
       "    <tr>\n",
       "      <th>597896</th>\n",
       "      <td>SH-SY5Y</td>\n",
       "      <td>O23</td>\n",
       "      <td>3555</td>\n",
       "      <td>6</td>\n",
       "      <td>Media_ctr</td>\n",
       "      <td>nan</td>\n",
       "      <td>None</td>\n",
       "      <td>media_ctr</td>\n",
       "      <td>0.0</td>\n",
       "      <td>None</td>\n",
       "      <td>...</td>\n",
       "      <td>None</td>\n",
       "      <td>1246</td>\n",
       "      <td>*70117_20230210MM1_Gasdermin514_CP_BC430856</td>\n",
       "      <td>128</td>\n",
       "      <td>128</td>\n",
       "      <td>135</td>\n",
       "      <td>135</td>\n",
       "      <td>media_ctr</td>\n",
       "      <td>0.0_None</td>\n",
       "      <td>healthy</td>\n",
       "    </tr>\n",
       "    <tr>\n",
       "      <th>597898</th>\n",
       "      <td>SH-SY5Y</td>\n",
       "      <td>O23</td>\n",
       "      <td>3555</td>\n",
       "      <td>6</td>\n",
       "      <td>Media_ctr</td>\n",
       "      <td>nan</td>\n",
       "      <td>None</td>\n",
       "      <td>media_ctr</td>\n",
       "      <td>0.0</td>\n",
       "      <td>None</td>\n",
       "      <td>...</td>\n",
       "      <td>None</td>\n",
       "      <td>1247</td>\n",
       "      <td>*70117_20230210MM1_Gasdermin514_CP_BC430856</td>\n",
       "      <td>146</td>\n",
       "      <td>146</td>\n",
       "      <td>159</td>\n",
       "      <td>159</td>\n",
       "      <td>media_ctr</td>\n",
       "      <td>0.0_None</td>\n",
       "      <td>healthy</td>\n",
       "    </tr>\n",
       "    <tr>\n",
       "      <th>597899</th>\n",
       "      <td>SH-SY5Y</td>\n",
       "      <td>O23</td>\n",
       "      <td>3555</td>\n",
       "      <td>6</td>\n",
       "      <td>Media_ctr</td>\n",
       "      <td>nan</td>\n",
       "      <td>None</td>\n",
       "      <td>media_ctr</td>\n",
       "      <td>0.0</td>\n",
       "      <td>None</td>\n",
       "      <td>...</td>\n",
       "      <td>None</td>\n",
       "      <td>1247</td>\n",
       "      <td>*70117_20230210MM1_Gasdermin514_CP_BC430856</td>\n",
       "      <td>221</td>\n",
       "      <td>221</td>\n",
       "      <td>234</td>\n",
       "      <td>234</td>\n",
       "      <td>media_ctr</td>\n",
       "      <td>0.0_None</td>\n",
       "      <td>healthy</td>\n",
       "    </tr>\n",
       "    <tr>\n",
       "      <th>597901</th>\n",
       "      <td>SH-SY5Y</td>\n",
       "      <td>O23</td>\n",
       "      <td>3555</td>\n",
       "      <td>6</td>\n",
       "      <td>Media_ctr</td>\n",
       "      <td>nan</td>\n",
       "      <td>None</td>\n",
       "      <td>media_ctr</td>\n",
       "      <td>0.0</td>\n",
       "      <td>None</td>\n",
       "      <td>...</td>\n",
       "      <td>None</td>\n",
       "      <td>1247</td>\n",
       "      <td>*70117_20230210MM1_Gasdermin514_CP_BC430856</td>\n",
       "      <td>134</td>\n",
       "      <td>134</td>\n",
       "      <td>146</td>\n",
       "      <td>146</td>\n",
       "      <td>media_ctr</td>\n",
       "      <td>0.0_None</td>\n",
       "      <td>healthy</td>\n",
       "    </tr>\n",
       "  </tbody>\n",
       "</table>\n",
       "<p>240629 rows × 22 columns</p>\n",
       "</div>"
      ],
      "text/plain": [
       "       Metadata_cell_type Metadata_Well  Metadata_number_of_singlecells  \\\n",
       "0                 SH-SY5Y           B13                            3765   \n",
       "6                 SH-SY5Y           B13                            3765   \n",
       "7                 SH-SY5Y           B13                            3765   \n",
       "8                 SH-SY5Y           B13                            3765   \n",
       "9                 SH-SY5Y           B13                            3765   \n",
       "...                   ...           ...                             ...   \n",
       "597895            SH-SY5Y           O23                            3555   \n",
       "597896            SH-SY5Y           O23                            3555   \n",
       "597898            SH-SY5Y           O23                            3555   \n",
       "597899            SH-SY5Y           O23                            3555   \n",
       "597901            SH-SY5Y           O23                            3555   \n",
       "\n",
       "        Metadata_incubation inducer (h) Metadata_inhibitor  \\\n",
       "0                                     6          Media_ctr   \n",
       "6                                     6          Media_ctr   \n",
       "7                                     6          Media_ctr   \n",
       "8                                     6          Media_ctr   \n",
       "9                                     6          Media_ctr   \n",
       "...                                 ...                ...   \n",
       "597895                                6          Media_ctr   \n",
       "597896                                6          Media_ctr   \n",
       "597898                                6          Media_ctr   \n",
       "597899                                6          Media_ctr   \n",
       "597901                                6          Media_ctr   \n",
       "\n",
       "       Metadata_inhibitor_concentration Metadata_inhibitor_concentration_unit  \\\n",
       "0                                   nan                                  None   \n",
       "6                                   nan                                  None   \n",
       "7                                   nan                                  None   \n",
       "8                                   nan                                  None   \n",
       "9                                   nan                                  None   \n",
       "...                                 ...                                   ...   \n",
       "597895                              nan                                  None   \n",
       "597896                              nan                                  None   \n",
       "597898                              nan                                  None   \n",
       "597899                              nan                                  None   \n",
       "597901                              nan                                  None   \n",
       "\n",
       "       Metadata_inducer1 Metadata_inducer1_concentration  \\\n",
       "0              media_ctr                             0.0   \n",
       "6              media_ctr                             0.0   \n",
       "7              media_ctr                             0.0   \n",
       "8              media_ctr                             0.0   \n",
       "9              media_ctr                             0.0   \n",
       "...                  ...                             ...   \n",
       "597895         media_ctr                             0.0   \n",
       "597896         media_ctr                             0.0   \n",
       "597898         media_ctr                             0.0   \n",
       "597899         media_ctr                             0.0   \n",
       "597901         media_ctr                             0.0   \n",
       "\n",
       "       Metadata_inducer1_concentration_unit  ...  \\\n",
       "0                                      None  ...   \n",
       "6                                      None  ...   \n",
       "7                                      None  ...   \n",
       "8                                      None  ...   \n",
       "9                                      None  ...   \n",
       "...                                     ...  ...   \n",
       "597895                                 None  ...   \n",
       "597896                                 None  ...   \n",
       "597898                                 None  ...   \n",
       "597899                                 None  ...   \n",
       "597901                                 None  ...   \n",
       "\n",
       "       Metadata_inducer2_concentration_unit Metadata_ImageNumber  \\\n",
       "0                                      None                    1   \n",
       "6                                      None                    1   \n",
       "7                                      None                    1   \n",
       "8                                      None                    1   \n",
       "9                                      None                    1   \n",
       "...                                     ...                  ...   \n",
       "597895                                 None                 1246   \n",
       "597896                                 None                 1246   \n",
       "597898                                 None                 1247   \n",
       "597899                                 None                 1247   \n",
       "597901                                 None                 1247   \n",
       "\n",
       "                                     Metadata_Plate  \\\n",
       "0       *70117_20230210MM1_Gasdermin514_CP_BC430856   \n",
       "6       *70117_20230210MM1_Gasdermin514_CP_BC430856   \n",
       "7       *70117_20230210MM1_Gasdermin514_CP_BC430856   \n",
       "8       *70117_20230210MM1_Gasdermin514_CP_BC430856   \n",
       "9       *70117_20230210MM1_Gasdermin514_CP_BC430856   \n",
       "...                                             ...   \n",
       "597895  *70117_20230210MM1_Gasdermin514_CP_BC430856   \n",
       "597896  *70117_20230210MM1_Gasdermin514_CP_BC430856   \n",
       "597898  *70117_20230210MM1_Gasdermin514_CP_BC430856   \n",
       "597899  *70117_20230210MM1_Gasdermin514_CP_BC430856   \n",
       "597901  *70117_20230210MM1_Gasdermin514_CP_BC430856   \n",
       "\n",
       "        Metadata_Cells_Number_Object_Number Metadata_Cytoplasm_Parent_Cells  \\\n",
       "0                                         1                               1   \n",
       "6                                         7                               7   \n",
       "7                                         8                               8   \n",
       "8                                         9                               9   \n",
       "9                                        10                              10   \n",
       "...                                     ...                             ...   \n",
       "597895                                   81                              81   \n",
       "597896                                  128                             128   \n",
       "597898                                  146                             146   \n",
       "597899                                  221                             221   \n",
       "597901                                  134                             134   \n",
       "\n",
       "        Metadata_Cytoplasm_Parent_Nuclei  \\\n",
       "0                                      3   \n",
       "6                                      9   \n",
       "7                                     10   \n",
       "8                                     11   \n",
       "9                                     12   \n",
       "...                                  ...   \n",
       "597895                                87   \n",
       "597896                               135   \n",
       "597898                               159   \n",
       "597899                               234   \n",
       "597901                               146   \n",
       "\n",
       "        Metadata_Nuclei_Number_Object_Number  Metadata_Treatment  \\\n",
       "0                                          3           media_ctr   \n",
       "6                                          9           media_ctr   \n",
       "7                                         10           media_ctr   \n",
       "8                                         11           media_ctr   \n",
       "9                                         12           media_ctr   \n",
       "...                                      ...                 ...   \n",
       "597895                                    87           media_ctr   \n",
       "597896                                   135           media_ctr   \n",
       "597898                                   159           media_ctr   \n",
       "597899                                   234           media_ctr   \n",
       "597901                                   146           media_ctr   \n",
       "\n",
       "        Metadata_Dose   labels  \n",
       "0            0.0_None  healthy  \n",
       "6            0.0_None  healthy  \n",
       "7            0.0_None  healthy  \n",
       "8            0.0_None  healthy  \n",
       "9            0.0_None  healthy  \n",
       "...               ...      ...  \n",
       "597895       0.0_None  healthy  \n",
       "597896       0.0_None  healthy  \n",
       "597898       0.0_None  healthy  \n",
       "597899       0.0_None  healthy  \n",
       "597901       0.0_None  healthy  \n",
       "\n",
       "[240629 rows x 22 columns]"
      ]
     },
     "execution_count": 35,
     "metadata": {},
     "output_type": "execute_result"
    }
   ],
   "source": [
    "metadata_test"
   ]
  },
  {
   "cell_type": "code",
   "execution_count": 36,
   "metadata": {},
   "outputs": [],
   "source": [
    "# merge the y_pred_list and Y_holdout into a dataframe\n",
    "y_pred_df = pd.DataFrame(y_pred_list, columns=[\"y_pred\"])\n",
    "y_pred_df = pd.concat([y_pred_df, Y_test], axis=1)\n",
    "y_pred_df = pd.concat([y_pred_df, X_test], axis=1)"
   ]
  },
  {
   "cell_type": "code",
   "execution_count": 37,
   "metadata": {},
   "outputs": [
    {
     "data": {
      "text/html": [
       "<div>\n",
       "<style scoped>\n",
       "    .dataframe tbody tr th:only-of-type {\n",
       "        vertical-align: middle;\n",
       "    }\n",
       "\n",
       "    .dataframe tbody tr th {\n",
       "        vertical-align: top;\n",
       "    }\n",
       "\n",
       "    .dataframe thead th {\n",
       "        text-align: right;\n",
       "    }\n",
       "</style>\n",
       "<table border=\"1\" class=\"dataframe\">\n",
       "  <thead>\n",
       "    <tr style=\"text-align: right;\">\n",
       "      <th></th>\n",
       "      <th>y_pred</th>\n",
       "      <th>new_labels</th>\n",
       "      <th>Cytoplasm_AreaShape_Compactness</th>\n",
       "      <th>Cytoplasm_AreaShape_Eccentricity</th>\n",
       "      <th>Cytoplasm_AreaShape_Extent</th>\n",
       "      <th>Cytoplasm_AreaShape_FormFactor</th>\n",
       "      <th>Cytoplasm_AreaShape_MajorAxisLength</th>\n",
       "      <th>Cytoplasm_AreaShape_MinorAxisLength</th>\n",
       "      <th>Cytoplasm_AreaShape_Orientation</th>\n",
       "      <th>Cytoplasm_AreaShape_Zernike_0_0</th>\n",
       "      <th>...</th>\n",
       "      <th>Metadata_inducer2_concentration_unit</th>\n",
       "      <th>Metadata_ImageNumber</th>\n",
       "      <th>Metadata_Plate</th>\n",
       "      <th>Metadata_Cells_Number_Object_Number</th>\n",
       "      <th>Metadata_Cytoplasm_Parent_Cells</th>\n",
       "      <th>Metadata_Cytoplasm_Parent_Nuclei</th>\n",
       "      <th>Metadata_Nuclei_Number_Object_Number</th>\n",
       "      <th>Metadata_Treatment</th>\n",
       "      <th>Metadata_Dose</th>\n",
       "      <th>labels</th>\n",
       "    </tr>\n",
       "    <tr>\n",
       "      <th>index</th>\n",
       "      <th></th>\n",
       "      <th></th>\n",
       "      <th></th>\n",
       "      <th></th>\n",
       "      <th></th>\n",
       "      <th></th>\n",
       "      <th></th>\n",
       "      <th></th>\n",
       "      <th></th>\n",
       "      <th></th>\n",
       "      <th></th>\n",
       "      <th></th>\n",
       "      <th></th>\n",
       "      <th></th>\n",
       "      <th></th>\n",
       "      <th></th>\n",
       "      <th></th>\n",
       "      <th></th>\n",
       "      <th></th>\n",
       "      <th></th>\n",
       "      <th></th>\n",
       "    </tr>\n",
       "  </thead>\n",
       "  <tbody>\n",
       "    <tr>\n",
       "      <th>0</th>\n",
       "      <td>1</td>\n",
       "      <td>1</td>\n",
       "      <td>0.806753</td>\n",
       "      <td>1.127894</td>\n",
       "      <td>-1.621196</td>\n",
       "      <td>-0.939418</td>\n",
       "      <td>-0.459493</td>\n",
       "      <td>-1.559829</td>\n",
       "      <td>-0.653718</td>\n",
       "      <td>-1.368565</td>\n",
       "      <td>...</td>\n",
       "      <td>None</td>\n",
       "      <td>1</td>\n",
       "      <td>*70117_20230210MM1_Gasdermin514_CP_BC430856</td>\n",
       "      <td>1</td>\n",
       "      <td>1</td>\n",
       "      <td>3</td>\n",
       "      <td>3</td>\n",
       "      <td>media_ctr</td>\n",
       "      <td>0.0_None</td>\n",
       "      <td>healthy</td>\n",
       "    </tr>\n",
       "    <tr>\n",
       "      <th>6</th>\n",
       "      <td>1</td>\n",
       "      <td>1</td>\n",
       "      <td>0.446028</td>\n",
       "      <td>0.965526</td>\n",
       "      <td>-0.711945</td>\n",
       "      <td>-0.708833</td>\n",
       "      <td>1.346422</td>\n",
       "      <td>0.084637</td>\n",
       "      <td>0.303813</td>\n",
       "      <td>-1.016917</td>\n",
       "      <td>...</td>\n",
       "      <td>None</td>\n",
       "      <td>1</td>\n",
       "      <td>*70117_20230210MM1_Gasdermin514_CP_BC430856</td>\n",
       "      <td>7</td>\n",
       "      <td>7</td>\n",
       "      <td>9</td>\n",
       "      <td>9</td>\n",
       "      <td>media_ctr</td>\n",
       "      <td>0.0_None</td>\n",
       "      <td>healthy</td>\n",
       "    </tr>\n",
       "    <tr>\n",
       "      <th>7</th>\n",
       "      <td>2</td>\n",
       "      <td>1</td>\n",
       "      <td>-0.316498</td>\n",
       "      <td>0.336804</td>\n",
       "      <td>-0.813935</td>\n",
       "      <td>0.016854</td>\n",
       "      <td>0.303227</td>\n",
       "      <td>0.310584</td>\n",
       "      <td>-0.867611</td>\n",
       "      <td>0.012472</td>\n",
       "      <td>...</td>\n",
       "      <td>None</td>\n",
       "      <td>1</td>\n",
       "      <td>*70117_20230210MM1_Gasdermin514_CP_BC430856</td>\n",
       "      <td>8</td>\n",
       "      <td>8</td>\n",
       "      <td>10</td>\n",
       "      <td>10</td>\n",
       "      <td>media_ctr</td>\n",
       "      <td>0.0_None</td>\n",
       "      <td>healthy</td>\n",
       "    </tr>\n",
       "    <tr>\n",
       "      <th>8</th>\n",
       "      <td>1</td>\n",
       "      <td>1</td>\n",
       "      <td>-0.012046</td>\n",
       "      <td>-0.018079</td>\n",
       "      <td>-0.197359</td>\n",
       "      <td>-0.323890</td>\n",
       "      <td>-0.120228</td>\n",
       "      <td>0.258473</td>\n",
       "      <td>-1.462321</td>\n",
       "      <td>-0.347762</td>\n",
       "      <td>...</td>\n",
       "      <td>None</td>\n",
       "      <td>1</td>\n",
       "      <td>*70117_20230210MM1_Gasdermin514_CP_BC430856</td>\n",
       "      <td>9</td>\n",
       "      <td>9</td>\n",
       "      <td>11</td>\n",
       "      <td>11</td>\n",
       "      <td>media_ctr</td>\n",
       "      <td>0.0_None</td>\n",
       "      <td>healthy</td>\n",
       "    </tr>\n",
       "    <tr>\n",
       "      <th>9</th>\n",
       "      <td>1</td>\n",
       "      <td>1</td>\n",
       "      <td>-0.353703</td>\n",
       "      <td>-0.767519</td>\n",
       "      <td>0.624540</td>\n",
       "      <td>0.064788</td>\n",
       "      <td>0.080988</td>\n",
       "      <td>1.166685</td>\n",
       "      <td>-0.322262</td>\n",
       "      <td>0.968496</td>\n",
       "      <td>...</td>\n",
       "      <td>None</td>\n",
       "      <td>1</td>\n",
       "      <td>*70117_20230210MM1_Gasdermin514_CP_BC430856</td>\n",
       "      <td>10</td>\n",
       "      <td>10</td>\n",
       "      <td>12</td>\n",
       "      <td>12</td>\n",
       "      <td>media_ctr</td>\n",
       "      <td>0.0_None</td>\n",
       "      <td>healthy</td>\n",
       "    </tr>\n",
       "    <tr>\n",
       "      <th>...</th>\n",
       "      <td>...</td>\n",
       "      <td>...</td>\n",
       "      <td>...</td>\n",
       "      <td>...</td>\n",
       "      <td>...</td>\n",
       "      <td>...</td>\n",
       "      <td>...</td>\n",
       "      <td>...</td>\n",
       "      <td>...</td>\n",
       "      <td>...</td>\n",
       "      <td>...</td>\n",
       "      <td>...</td>\n",
       "      <td>...</td>\n",
       "      <td>...</td>\n",
       "      <td>...</td>\n",
       "      <td>...</td>\n",
       "      <td>...</td>\n",
       "      <td>...</td>\n",
       "      <td>...</td>\n",
       "      <td>...</td>\n",
       "      <td>...</td>\n",
       "    </tr>\n",
       "    <tr>\n",
       "      <th>597895</th>\n",
       "      <td>1</td>\n",
       "      <td>1</td>\n",
       "      <td>-0.406369</td>\n",
       "      <td>1.290748</td>\n",
       "      <td>-0.220145</td>\n",
       "      <td>0.135402</td>\n",
       "      <td>2.218792</td>\n",
       "      <td>-0.427815</td>\n",
       "      <td>-0.926437</td>\n",
       "      <td>-0.815460</td>\n",
       "      <td>...</td>\n",
       "      <td>None</td>\n",
       "      <td>1246</td>\n",
       "      <td>*70117_20230210MM1_Gasdermin514_CP_BC430856</td>\n",
       "      <td>81</td>\n",
       "      <td>81</td>\n",
       "      <td>87</td>\n",
       "      <td>87</td>\n",
       "      <td>media_ctr</td>\n",
       "      <td>0.0_None</td>\n",
       "      <td>healthy</td>\n",
       "    </tr>\n",
       "    <tr>\n",
       "      <th>597896</th>\n",
       "      <td>1</td>\n",
       "      <td>1</td>\n",
       "      <td>-1.280182</td>\n",
       "      <td>0.907755</td>\n",
       "      <td>2.322952</td>\n",
       "      <td>2.120562</td>\n",
       "      <td>-0.362151</td>\n",
       "      <td>-1.114296</td>\n",
       "      <td>-0.015486</td>\n",
       "      <td>0.811810</td>\n",
       "      <td>...</td>\n",
       "      <td>None</td>\n",
       "      <td>1246</td>\n",
       "      <td>*70117_20230210MM1_Gasdermin514_CP_BC430856</td>\n",
       "      <td>128</td>\n",
       "      <td>128</td>\n",
       "      <td>135</td>\n",
       "      <td>135</td>\n",
       "      <td>media_ctr</td>\n",
       "      <td>0.0_None</td>\n",
       "      <td>healthy</td>\n",
       "    </tr>\n",
       "    <tr>\n",
       "      <th>597898</th>\n",
       "      <td>0</td>\n",
       "      <td>1</td>\n",
       "      <td>-0.575085</td>\n",
       "      <td>0.961826</td>\n",
       "      <td>0.394708</td>\n",
       "      <td>0.386171</td>\n",
       "      <td>0.600712</td>\n",
       "      <td>-0.471124</td>\n",
       "      <td>-1.101421</td>\n",
       "      <td>0.245070</td>\n",
       "      <td>...</td>\n",
       "      <td>None</td>\n",
       "      <td>1247</td>\n",
       "      <td>*70117_20230210MM1_Gasdermin514_CP_BC430856</td>\n",
       "      <td>146</td>\n",
       "      <td>146</td>\n",
       "      <td>159</td>\n",
       "      <td>159</td>\n",
       "      <td>media_ctr</td>\n",
       "      <td>0.0_None</td>\n",
       "      <td>healthy</td>\n",
       "    </tr>\n",
       "    <tr>\n",
       "      <th>597899</th>\n",
       "      <td>2</td>\n",
       "      <td>1</td>\n",
       "      <td>-0.352806</td>\n",
       "      <td>-0.369810</td>\n",
       "      <td>0.269603</td>\n",
       "      <td>0.063613</td>\n",
       "      <td>0.480614</td>\n",
       "      <td>1.329158</td>\n",
       "      <td>0.598859</td>\n",
       "      <td>0.896436</td>\n",
       "      <td>...</td>\n",
       "      <td>None</td>\n",
       "      <td>1247</td>\n",
       "      <td>*70117_20230210MM1_Gasdermin514_CP_BC430856</td>\n",
       "      <td>221</td>\n",
       "      <td>221</td>\n",
       "      <td>234</td>\n",
       "      <td>234</td>\n",
       "      <td>media_ctr</td>\n",
       "      <td>0.0_None</td>\n",
       "      <td>healthy</td>\n",
       "    </tr>\n",
       "    <tr>\n",
       "      <th>597901</th>\n",
       "      <td>1</td>\n",
       "      <td>1</td>\n",
       "      <td>0.252828</td>\n",
       "      <td>1.203934</td>\n",
       "      <td>-0.665674</td>\n",
       "      <td>-0.561476</td>\n",
       "      <td>0.276156</td>\n",
       "      <td>-1.258056</td>\n",
       "      <td>1.614221</td>\n",
       "      <td>-1.309458</td>\n",
       "      <td>...</td>\n",
       "      <td>None</td>\n",
       "      <td>1247</td>\n",
       "      <td>*70117_20230210MM1_Gasdermin514_CP_BC430856</td>\n",
       "      <td>134</td>\n",
       "      <td>134</td>\n",
       "      <td>146</td>\n",
       "      <td>146</td>\n",
       "      <td>media_ctr</td>\n",
       "      <td>0.0_None</td>\n",
       "      <td>healthy</td>\n",
       "    </tr>\n",
       "  </tbody>\n",
       "</table>\n",
       "<p>240629 rows × 1275 columns</p>\n",
       "</div>"
      ],
      "text/plain": [
       "        y_pred  new_labels  Cytoplasm_AreaShape_Compactness  \\\n",
       "index                                                         \n",
       "0            1           1                         0.806753   \n",
       "6            1           1                         0.446028   \n",
       "7            2           1                        -0.316498   \n",
       "8            1           1                        -0.012046   \n",
       "9            1           1                        -0.353703   \n",
       "...        ...         ...                              ...   \n",
       "597895       1           1                        -0.406369   \n",
       "597896       1           1                        -1.280182   \n",
       "597898       0           1                        -0.575085   \n",
       "597899       2           1                        -0.352806   \n",
       "597901       1           1                         0.252828   \n",
       "\n",
       "        Cytoplasm_AreaShape_Eccentricity  Cytoplasm_AreaShape_Extent  \\\n",
       "index                                                                  \n",
       "0                               1.127894                   -1.621196   \n",
       "6                               0.965526                   -0.711945   \n",
       "7                               0.336804                   -0.813935   \n",
       "8                              -0.018079                   -0.197359   \n",
       "9                              -0.767519                    0.624540   \n",
       "...                                  ...                         ...   \n",
       "597895                          1.290748                   -0.220145   \n",
       "597896                          0.907755                    2.322952   \n",
       "597898                          0.961826                    0.394708   \n",
       "597899                         -0.369810                    0.269603   \n",
       "597901                          1.203934                   -0.665674   \n",
       "\n",
       "        Cytoplasm_AreaShape_FormFactor  Cytoplasm_AreaShape_MajorAxisLength  \\\n",
       "index                                                                         \n",
       "0                            -0.939418                            -0.459493   \n",
       "6                            -0.708833                             1.346422   \n",
       "7                             0.016854                             0.303227   \n",
       "8                            -0.323890                            -0.120228   \n",
       "9                             0.064788                             0.080988   \n",
       "...                                ...                                  ...   \n",
       "597895                        0.135402                             2.218792   \n",
       "597896                        2.120562                            -0.362151   \n",
       "597898                        0.386171                             0.600712   \n",
       "597899                        0.063613                             0.480614   \n",
       "597901                       -0.561476                             0.276156   \n",
       "\n",
       "        Cytoplasm_AreaShape_MinorAxisLength  Cytoplasm_AreaShape_Orientation  \\\n",
       "index                                                                          \n",
       "0                                 -1.559829                        -0.653718   \n",
       "6                                  0.084637                         0.303813   \n",
       "7                                  0.310584                        -0.867611   \n",
       "8                                  0.258473                        -1.462321   \n",
       "9                                  1.166685                        -0.322262   \n",
       "...                                     ...                              ...   \n",
       "597895                            -0.427815                        -0.926437   \n",
       "597896                            -1.114296                        -0.015486   \n",
       "597898                            -0.471124                        -1.101421   \n",
       "597899                             1.329158                         0.598859   \n",
       "597901                            -1.258056                         1.614221   \n",
       "\n",
       "        Cytoplasm_AreaShape_Zernike_0_0  ...  \\\n",
       "index                                    ...   \n",
       "0                             -1.368565  ...   \n",
       "6                             -1.016917  ...   \n",
       "7                              0.012472  ...   \n",
       "8                             -0.347762  ...   \n",
       "9                              0.968496  ...   \n",
       "...                                 ...  ...   \n",
       "597895                        -0.815460  ...   \n",
       "597896                         0.811810  ...   \n",
       "597898                         0.245070  ...   \n",
       "597899                         0.896436  ...   \n",
       "597901                        -1.309458  ...   \n",
       "\n",
       "        Metadata_inducer2_concentration_unit  Metadata_ImageNumber  \\\n",
       "index                                                                \n",
       "0                                       None                     1   \n",
       "6                                       None                     1   \n",
       "7                                       None                     1   \n",
       "8                                       None                     1   \n",
       "9                                       None                     1   \n",
       "...                                      ...                   ...   \n",
       "597895                                  None                  1246   \n",
       "597896                                  None                  1246   \n",
       "597898                                  None                  1247   \n",
       "597899                                  None                  1247   \n",
       "597901                                  None                  1247   \n",
       "\n",
       "                                     Metadata_Plate  \\\n",
       "index                                                 \n",
       "0       *70117_20230210MM1_Gasdermin514_CP_BC430856   \n",
       "6       *70117_20230210MM1_Gasdermin514_CP_BC430856   \n",
       "7       *70117_20230210MM1_Gasdermin514_CP_BC430856   \n",
       "8       *70117_20230210MM1_Gasdermin514_CP_BC430856   \n",
       "9       *70117_20230210MM1_Gasdermin514_CP_BC430856   \n",
       "...                                             ...   \n",
       "597895  *70117_20230210MM1_Gasdermin514_CP_BC430856   \n",
       "597896  *70117_20230210MM1_Gasdermin514_CP_BC430856   \n",
       "597898  *70117_20230210MM1_Gasdermin514_CP_BC430856   \n",
       "597899  *70117_20230210MM1_Gasdermin514_CP_BC430856   \n",
       "597901  *70117_20230210MM1_Gasdermin514_CP_BC430856   \n",
       "\n",
       "        Metadata_Cells_Number_Object_Number  Metadata_Cytoplasm_Parent_Cells  \\\n",
       "index                                                                          \n",
       "0                                         1                                1   \n",
       "6                                         7                                7   \n",
       "7                                         8                                8   \n",
       "8                                         9                                9   \n",
       "9                                        10                               10   \n",
       "...                                     ...                              ...   \n",
       "597895                                   81                               81   \n",
       "597896                                  128                              128   \n",
       "597898                                  146                              146   \n",
       "597899                                  221                              221   \n",
       "597901                                  134                              134   \n",
       "\n",
       "        Metadata_Cytoplasm_Parent_Nuclei  \\\n",
       "index                                      \n",
       "0                                      3   \n",
       "6                                      9   \n",
       "7                                     10   \n",
       "8                                     11   \n",
       "9                                     12   \n",
       "...                                  ...   \n",
       "597895                                87   \n",
       "597896                               135   \n",
       "597898                               159   \n",
       "597899                               234   \n",
       "597901                               146   \n",
       "\n",
       "        Metadata_Nuclei_Number_Object_Number  Metadata_Treatment  \\\n",
       "index                                                              \n",
       "0                                          3           media_ctr   \n",
       "6                                          9           media_ctr   \n",
       "7                                         10           media_ctr   \n",
       "8                                         11           media_ctr   \n",
       "9                                         12           media_ctr   \n",
       "...                                      ...                 ...   \n",
       "597895                                    87           media_ctr   \n",
       "597896                                   135           media_ctr   \n",
       "597898                                   159           media_ctr   \n",
       "597899                                   234           media_ctr   \n",
       "597901                                   146           media_ctr   \n",
       "\n",
       "        Metadata_Dose   labels  \n",
       "index                           \n",
       "0            0.0_None  healthy  \n",
       "6            0.0_None  healthy  \n",
       "7            0.0_None  healthy  \n",
       "8            0.0_None  healthy  \n",
       "9            0.0_None  healthy  \n",
       "...               ...      ...  \n",
       "597895       0.0_None  healthy  \n",
       "597896       0.0_None  healthy  \n",
       "597898       0.0_None  healthy  \n",
       "597899       0.0_None  healthy  \n",
       "597901       0.0_None  healthy  \n",
       "\n",
       "[240629 rows x 1275 columns]"
      ]
     },
     "execution_count": 37,
     "metadata": {},
     "output_type": "execute_result"
    }
   ],
   "source": [
    "# merge y_pred_df with metadata_holdout whiile keeping the index of metadata_holdout\n",
    "metadata_test.reset_index(inplace=True)\n",
    "y_pred_df = pd.concat([y_pred_df, metadata_test], axis=1)\n",
    "# set the index to the index column\n",
    "y_pred_df.set_index(\"index\", inplace=True, drop=True)\n",
    "y_pred_df"
   ]
  },
  {
   "cell_type": "code",
   "execution_count": 38,
   "metadata": {},
   "outputs": [],
   "source": [
    "# save the y_pred_df to a parquet file\n",
    "# set path\n",
    "y_pred_df_path = pathlib.Path(\n",
    "    f\"../../results/Multi_Class/{mlp_params.MODEL_NAME}/{mlp_params.CELL_TYPE}/testing_single_cell_predictions.parquet\"\n",
    ")\n",
    "# make path if it doesn't exist\n",
    "y_pred_df_path.parent.mkdir(parents=True, exist_ok=True)\n",
    "# save the dataframe\n",
    "y_pred_df.to_parquet(y_pred_df_path)"
   ]
  },
  {
   "cell_type": "code",
   "execution_count": 39,
   "id": "7d74124b",
   "metadata": {
    "execution": {
     "iopub.execute_input": "2023-11-13T03:46:00.441418Z",
     "iopub.status.busy": "2023-11-13T03:46:00.441055Z",
     "iopub.status.idle": "2023-11-13T03:46:00.444604Z",
     "shell.execute_reply": "2023-11-13T03:46:00.444216Z"
    },
    "papermill": {
     "duration": null,
     "end_time": null,
     "exception": null,
     "start_time": null,
     "status": "pending"
    },
    "tags": []
   },
   "outputs": [],
   "source": [
    "# rename columns from the decoder dictionary\n",
    "confusion_matrix_df.rename(\n",
    "    columns={0: \"apoptosis\", 1: \"healthy\", 2: \"pyroptosis\"}, inplace=True\n",
    ")\n",
    "confusion_matrix_df.rename(\n",
    "    index={0: \"apoptosis\", 1: \"healthy\", 2: \"pyroptosis\"}, inplace=True\n",
    ")"
   ]
  },
  {
   "cell_type": "code",
   "execution_count": 40,
   "id": "2440fd1d",
   "metadata": {
    "execution": {
     "iopub.execute_input": "2023-11-13T03:46:00.472203Z",
     "iopub.status.busy": "2023-11-13T03:46:00.471843Z",
     "iopub.status.idle": "2023-11-13T03:46:00.476343Z",
     "shell.execute_reply": "2023-11-13T03:46:00.475962Z"
    },
    "papermill": {
     "duration": null,
     "end_time": null,
     "exception": null,
     "start_time": null,
     "status": "pending"
    },
    "tags": []
   },
   "outputs": [
    {
     "data": {
      "text/html": [
       "<div>\n",
       "<style scoped>\n",
       "    .dataframe tbody tr th:only-of-type {\n",
       "        vertical-align: middle;\n",
       "    }\n",
       "\n",
       "    .dataframe tbody tr th {\n",
       "        vertical-align: top;\n",
       "    }\n",
       "\n",
       "    .dataframe thead th {\n",
       "        text-align: right;\n",
       "    }\n",
       "</style>\n",
       "<table border=\"1\" class=\"dataframe\">\n",
       "  <thead>\n",
       "    <tr style=\"text-align: right;\">\n",
       "      <th></th>\n",
       "      <th>apoptosis</th>\n",
       "      <th>healthy</th>\n",
       "      <th>pyroptosis</th>\n",
       "    </tr>\n",
       "  </thead>\n",
       "  <tbody>\n",
       "    <tr>\n",
       "      <th>apoptosis</th>\n",
       "      <td>7527</td>\n",
       "      <td>1707</td>\n",
       "      <td>731</td>\n",
       "    </tr>\n",
       "    <tr>\n",
       "      <th>healthy</th>\n",
       "      <td>1244</td>\n",
       "      <td>91953</td>\n",
       "      <td>23633</td>\n",
       "    </tr>\n",
       "    <tr>\n",
       "      <th>pyroptosis</th>\n",
       "      <td>989</td>\n",
       "      <td>35604</td>\n",
       "      <td>77241</td>\n",
       "    </tr>\n",
       "  </tbody>\n",
       "</table>\n",
       "</div>"
      ],
      "text/plain": [
       "            apoptosis  healthy  pyroptosis\n",
       "apoptosis        7527     1707         731\n",
       "healthy          1244    91953       23633\n",
       "pyroptosis        989    35604       77241"
      ]
     },
     "execution_count": 40,
     "metadata": {},
     "output_type": "execute_result"
    }
   ],
   "source": [
    "confusion_matrix_df"
   ]
  },
  {
   "cell_type": "code",
   "execution_count": 41,
   "id": "a570c014",
   "metadata": {
    "execution": {
     "iopub.execute_input": "2023-11-13T03:46:00.504227Z",
     "iopub.status.busy": "2023-11-13T03:46:00.503933Z",
     "iopub.status.idle": "2023-11-13T03:46:02.086994Z",
     "shell.execute_reply": "2023-11-13T03:46:02.086381Z"
    },
    "papermill": {
     "duration": null,
     "end_time": null,
     "exception": null,
     "start_time": null,
     "status": "pending"
    },
    "tags": []
   },
   "outputs": [],
   "source": [
    "confusion_matrices = confusion_matrix_df.reset_index()\n",
    "# melt the DataFrame to a long format\n",
    "confusion_matrices = pd.melt(\n",
    "    confusion_matrices,\n",
    "    id_vars=[\"index\"],\n",
    "    value_vars=[\"healthy\", \"apoptosis\", \"pyroptosis\"],\n",
    ")\n",
    "\n",
    "# rename the columns\n",
    "confusion_matrices.columns = [\"True_Label\", \"Predicted_Label\", \"Count\"]\n",
    "confusion_matrices[\"data_split\"] = \"testing\"\n",
    "# sum of the columns of the confusion matrix gives the total number of samples per class\n",
    "sum_of_columns = confusion_matrix_df.sum(axis=0)"
   ]
  },
  {
   "cell_type": "code",
   "execution_count": 42,
   "id": "66abb067",
   "metadata": {
    "execution": {
     "iopub.execute_input": "2023-11-13T03:21:29.557656Z",
     "iopub.status.busy": "2023-11-13T03:21:29.557313Z",
     "iopub.status.idle": "2023-11-13T03:21:29.562707Z",
     "shell.execute_reply": "2023-11-13T03:21:29.562334Z"
    },
    "papermill": {
     "duration": null,
     "end_time": null,
     "exception": null,
     "start_time": null,
     "status": "pending"
    },
    "tags": []
   },
   "outputs": [
    {
     "data": {
      "text/html": [
       "<div>\n",
       "<style scoped>\n",
       "    .dataframe tbody tr th:only-of-type {\n",
       "        vertical-align: middle;\n",
       "    }\n",
       "\n",
       "    .dataframe tbody tr th {\n",
       "        vertical-align: top;\n",
       "    }\n",
       "\n",
       "    .dataframe thead th {\n",
       "        text-align: right;\n",
       "    }\n",
       "</style>\n",
       "<table border=\"1\" class=\"dataframe\">\n",
       "  <thead>\n",
       "    <tr style=\"text-align: right;\">\n",
       "      <th></th>\n",
       "      <th>True_Label</th>\n",
       "      <th>Predicted_Label</th>\n",
       "      <th>Count</th>\n",
       "      <th>data_split</th>\n",
       "    </tr>\n",
       "  </thead>\n",
       "  <tbody>\n",
       "    <tr>\n",
       "      <th>0</th>\n",
       "      <td>apoptosis</td>\n",
       "      <td>healthy</td>\n",
       "      <td>1707</td>\n",
       "      <td>testing</td>\n",
       "    </tr>\n",
       "    <tr>\n",
       "      <th>1</th>\n",
       "      <td>healthy</td>\n",
       "      <td>healthy</td>\n",
       "      <td>91953</td>\n",
       "      <td>testing</td>\n",
       "    </tr>\n",
       "    <tr>\n",
       "      <th>2</th>\n",
       "      <td>pyroptosis</td>\n",
       "      <td>healthy</td>\n",
       "      <td>35604</td>\n",
       "      <td>testing</td>\n",
       "    </tr>\n",
       "    <tr>\n",
       "      <th>3</th>\n",
       "      <td>apoptosis</td>\n",
       "      <td>apoptosis</td>\n",
       "      <td>7527</td>\n",
       "      <td>testing</td>\n",
       "    </tr>\n",
       "    <tr>\n",
       "      <th>4</th>\n",
       "      <td>healthy</td>\n",
       "      <td>apoptosis</td>\n",
       "      <td>1244</td>\n",
       "      <td>testing</td>\n",
       "    </tr>\n",
       "    <tr>\n",
       "      <th>5</th>\n",
       "      <td>pyroptosis</td>\n",
       "      <td>apoptosis</td>\n",
       "      <td>989</td>\n",
       "      <td>testing</td>\n",
       "    </tr>\n",
       "    <tr>\n",
       "      <th>6</th>\n",
       "      <td>apoptosis</td>\n",
       "      <td>pyroptosis</td>\n",
       "      <td>731</td>\n",
       "      <td>testing</td>\n",
       "    </tr>\n",
       "    <tr>\n",
       "      <th>7</th>\n",
       "      <td>healthy</td>\n",
       "      <td>pyroptosis</td>\n",
       "      <td>23633</td>\n",
       "      <td>testing</td>\n",
       "    </tr>\n",
       "    <tr>\n",
       "      <th>8</th>\n",
       "      <td>pyroptosis</td>\n",
       "      <td>pyroptosis</td>\n",
       "      <td>77241</td>\n",
       "      <td>testing</td>\n",
       "    </tr>\n",
       "  </tbody>\n",
       "</table>\n",
       "</div>"
      ],
      "text/plain": [
       "   True_Label Predicted_Label  Count data_split\n",
       "0   apoptosis         healthy   1707    testing\n",
       "1     healthy         healthy  91953    testing\n",
       "2  pyroptosis         healthy  35604    testing\n",
       "3   apoptosis       apoptosis   7527    testing\n",
       "4     healthy       apoptosis   1244    testing\n",
       "5  pyroptosis       apoptosis    989    testing\n",
       "6   apoptosis      pyroptosis    731    testing\n",
       "7     healthy      pyroptosis  23633    testing\n",
       "8  pyroptosis      pyroptosis  77241    testing"
      ]
     },
     "execution_count": 42,
     "metadata": {},
     "output_type": "execute_result"
    }
   ],
   "source": [
    "confusion_matrices"
   ]
  },
  {
   "cell_type": "code",
   "execution_count": 43,
   "id": "09c57815",
   "metadata": {
    "execution": {
     "iopub.execute_input": "2023-11-13T03:21:29.587463Z",
     "iopub.status.busy": "2023-11-13T03:21:29.587136Z",
     "iopub.status.idle": "2023-11-13T03:21:29.590692Z",
     "shell.execute_reply": "2023-11-13T03:21:29.590308Z"
    },
    "papermill": {
     "duration": null,
     "end_time": null,
     "exception": null,
     "start_time": null,
     "status": "pending"
    },
    "tags": []
   },
   "outputs": [],
   "source": [
    "# normalize confusion matrix\n",
    "# get the sum of each column to normalize the confusion matrix by the total number of samples per class\n",
    "\n",
    "# divide the apotosis column by the sum of the apotosis column\n",
    "confusion_matrix_df[\"apoptosis\"] = confusion_matrix_df[\"apoptosis\"] / sum_of_columns[0]\n",
    "# divide the healthy column by the sum of the healthy column\n",
    "confusion_matrix_df[\"healthy\"] = confusion_matrix_df[\"healthy\"] / sum_of_columns[1]\n",
    "# divide the pyroptosis column by the sum of the pyroptosis column\n",
    "confusion_matrix_df[\"pyroptosis\"] = (\n",
    "    confusion_matrix_df[\"pyroptosis\"] / sum_of_columns[2]\n",
    ")"
   ]
  },
  {
   "cell_type": "code",
   "execution_count": 44,
   "id": "69e87a95",
   "metadata": {
    "execution": {
     "iopub.execute_input": "2023-11-13T03:21:29.615221Z",
     "iopub.status.busy": "2023-11-13T03:21:29.614941Z",
     "iopub.status.idle": "2023-11-13T03:21:29.620183Z",
     "shell.execute_reply": "2023-11-13T03:21:29.619798Z"
    },
    "papermill": {
     "duration": null,
     "end_time": null,
     "exception": null,
     "start_time": null,
     "status": "pending"
    },
    "tags": []
   },
   "outputs": [
    {
     "data": {
      "text/html": [
       "<div>\n",
       "<style scoped>\n",
       "    .dataframe tbody tr th:only-of-type {\n",
       "        vertical-align: middle;\n",
       "    }\n",
       "\n",
       "    .dataframe tbody tr th {\n",
       "        vertical-align: top;\n",
       "    }\n",
       "\n",
       "    .dataframe thead th {\n",
       "        text-align: right;\n",
       "    }\n",
       "</style>\n",
       "<table border=\"1\" class=\"dataframe\">\n",
       "  <thead>\n",
       "    <tr style=\"text-align: right;\">\n",
       "      <th></th>\n",
       "      <th>apoptosis</th>\n",
       "      <th>healthy</th>\n",
       "      <th>pyroptosis</th>\n",
       "    </tr>\n",
       "  </thead>\n",
       "  <tbody>\n",
       "    <tr>\n",
       "      <th>apoptosis</th>\n",
       "      <td>0.771209</td>\n",
       "      <td>0.013206</td>\n",
       "      <td>0.007195</td>\n",
       "    </tr>\n",
       "    <tr>\n",
       "      <th>healthy</th>\n",
       "      <td>0.127459</td>\n",
       "      <td>0.711358</td>\n",
       "      <td>0.232597</td>\n",
       "    </tr>\n",
       "    <tr>\n",
       "      <th>pyroptosis</th>\n",
       "      <td>0.101332</td>\n",
       "      <td>0.275436</td>\n",
       "      <td>0.760209</td>\n",
       "    </tr>\n",
       "  </tbody>\n",
       "</table>\n",
       "</div>"
      ],
      "text/plain": [
       "            apoptosis   healthy  pyroptosis\n",
       "apoptosis    0.771209  0.013206    0.007195\n",
       "healthy      0.127459  0.711358    0.232597\n",
       "pyroptosis   0.101332  0.275436    0.760209"
      ]
     },
     "execution_count": 44,
     "metadata": {},
     "output_type": "execute_result"
    }
   ],
   "source": [
    "confusion_matrix_df"
   ]
  },
  {
   "cell_type": "code",
   "execution_count": 45,
   "id": "b394f6ad",
   "metadata": {
    "execution": {
     "iopub.execute_input": "2023-11-13T03:21:29.644888Z",
     "iopub.status.busy": "2023-11-13T03:21:29.644610Z",
     "iopub.status.idle": "2023-11-13T03:21:29.653537Z",
     "shell.execute_reply": "2023-11-13T03:21:29.653154Z"
    },
    "papermill": {
     "duration": null,
     "end_time": null,
     "exception": null,
     "start_time": null,
     "status": "pending"
    },
    "tags": []
   },
   "outputs": [],
   "source": [
    "confusion_matrices_recall = confusion_matrix_df.reset_index()\n",
    "# melt the DataFrame to a long format\n",
    "confusion_matrices_recall = pd.melt(\n",
    "    confusion_matrices_recall,\n",
    "    id_vars=[\"index\"],\n",
    "    value_vars=[\"healthy\", \"apoptosis\", \"pyroptosis\"],\n",
    ")\n",
    "\n",
    "# rename the columns\n",
    "confusion_matrices_recall.columns = [\"True_Label\", \"Predicted_Label\", \"Count\"]\n",
    "confusion_matrices_recall[\"data_split\"] = \"testing\"\n",
    "confusion_matrices_recall.rename(columns={\"Count\": \"Recall\"}, inplace=True)\n",
    "data_split_conf_mat_df = pd.merge(\n",
    "    confusion_matrices,\n",
    "    confusion_matrices_recall,\n",
    "    on=[\"True_Label\", \"Predicted_Label\", \"data_split\"],\n",
    ")\n",
    "data_split_conf_mat_df[\"shuffled_data\"] = mlp_params.SHUFFLE\n",
    "data_split_conf_mat_df_all = pd.concat(\n",
    "    [data_split_conf_mat_df_all, data_split_conf_mat_df], axis=0\n",
    ")"
   ]
  },
  {
   "cell_type": "code",
   "execution_count": 46,
   "id": "d40e590c",
   "metadata": {
    "execution": {
     "iopub.execute_input": "2023-11-13T03:21:29.678179Z",
     "iopub.status.busy": "2023-11-13T03:21:29.677892Z",
     "iopub.status.idle": "2023-11-13T03:21:29.684195Z",
     "shell.execute_reply": "2023-11-13T03:21:29.683825Z"
    },
    "papermill": {
     "duration": null,
     "end_time": null,
     "exception": null,
     "start_time": null,
     "status": "pending"
    },
    "tags": []
   },
   "outputs": [
    {
     "data": {
      "text/html": [
       "<div>\n",
       "<style scoped>\n",
       "    .dataframe tbody tr th:only-of-type {\n",
       "        vertical-align: middle;\n",
       "    }\n",
       "\n",
       "    .dataframe tbody tr th {\n",
       "        vertical-align: top;\n",
       "    }\n",
       "\n",
       "    .dataframe thead th {\n",
       "        text-align: right;\n",
       "    }\n",
       "</style>\n",
       "<table border=\"1\" class=\"dataframe\">\n",
       "  <thead>\n",
       "    <tr style=\"text-align: right;\">\n",
       "      <th></th>\n",
       "      <th>True_Label</th>\n",
       "      <th>Predicted_Label</th>\n",
       "      <th>Count</th>\n",
       "      <th>data_split</th>\n",
       "      <th>Recall</th>\n",
       "      <th>shuffled_data</th>\n",
       "    </tr>\n",
       "  </thead>\n",
       "  <tbody>\n",
       "    <tr>\n",
       "      <th>0</th>\n",
       "      <td>apoptosis</td>\n",
       "      <td>healthy</td>\n",
       "      <td>1707</td>\n",
       "      <td>testing</td>\n",
       "      <td>0.013206</td>\n",
       "      <td>False</td>\n",
       "    </tr>\n",
       "    <tr>\n",
       "      <th>1</th>\n",
       "      <td>healthy</td>\n",
       "      <td>healthy</td>\n",
       "      <td>91953</td>\n",
       "      <td>testing</td>\n",
       "      <td>0.711358</td>\n",
       "      <td>False</td>\n",
       "    </tr>\n",
       "    <tr>\n",
       "      <th>2</th>\n",
       "      <td>pyroptosis</td>\n",
       "      <td>healthy</td>\n",
       "      <td>35604</td>\n",
       "      <td>testing</td>\n",
       "      <td>0.275436</td>\n",
       "      <td>False</td>\n",
       "    </tr>\n",
       "    <tr>\n",
       "      <th>3</th>\n",
       "      <td>apoptosis</td>\n",
       "      <td>apoptosis</td>\n",
       "      <td>7527</td>\n",
       "      <td>testing</td>\n",
       "      <td>0.771209</td>\n",
       "      <td>False</td>\n",
       "    </tr>\n",
       "    <tr>\n",
       "      <th>4</th>\n",
       "      <td>healthy</td>\n",
       "      <td>apoptosis</td>\n",
       "      <td>1244</td>\n",
       "      <td>testing</td>\n",
       "      <td>0.127459</td>\n",
       "      <td>False</td>\n",
       "    </tr>\n",
       "    <tr>\n",
       "      <th>5</th>\n",
       "      <td>pyroptosis</td>\n",
       "      <td>apoptosis</td>\n",
       "      <td>989</td>\n",
       "      <td>testing</td>\n",
       "      <td>0.101332</td>\n",
       "      <td>False</td>\n",
       "    </tr>\n",
       "    <tr>\n",
       "      <th>6</th>\n",
       "      <td>apoptosis</td>\n",
       "      <td>pyroptosis</td>\n",
       "      <td>731</td>\n",
       "      <td>testing</td>\n",
       "      <td>0.007195</td>\n",
       "      <td>False</td>\n",
       "    </tr>\n",
       "    <tr>\n",
       "      <th>7</th>\n",
       "      <td>healthy</td>\n",
       "      <td>pyroptosis</td>\n",
       "      <td>23633</td>\n",
       "      <td>testing</td>\n",
       "      <td>0.232597</td>\n",
       "      <td>False</td>\n",
       "    </tr>\n",
       "    <tr>\n",
       "      <th>8</th>\n",
       "      <td>pyroptosis</td>\n",
       "      <td>pyroptosis</td>\n",
       "      <td>77241</td>\n",
       "      <td>testing</td>\n",
       "      <td>0.760209</td>\n",
       "      <td>False</td>\n",
       "    </tr>\n",
       "  </tbody>\n",
       "</table>\n",
       "</div>"
      ],
      "text/plain": [
       "   True_Label Predicted_Label  Count data_split    Recall shuffled_data\n",
       "0   apoptosis         healthy   1707    testing  0.013206         False\n",
       "1     healthy         healthy  91953    testing  0.711358         False\n",
       "2  pyroptosis         healthy  35604    testing  0.275436         False\n",
       "3   apoptosis       apoptosis   7527    testing  0.771209         False\n",
       "4     healthy       apoptosis   1244    testing  0.127459         False\n",
       "5  pyroptosis       apoptosis    989    testing  0.101332         False\n",
       "6   apoptosis      pyroptosis    731    testing  0.007195         False\n",
       "7     healthy      pyroptosis  23633    testing  0.232597         False\n",
       "8  pyroptosis      pyroptosis  77241    testing  0.760209         False"
      ]
     },
     "execution_count": 46,
     "metadata": {},
     "output_type": "execute_result"
    }
   ],
   "source": [
    "data_split_conf_mat_df_all"
   ]
  },
  {
   "cell_type": "code",
   "execution_count": 47,
   "id": "1ff8a8fd",
   "metadata": {
    "execution": {
     "iopub.execute_input": "2023-11-13T03:21:29.709364Z",
     "iopub.status.busy": "2023-11-13T03:21:29.709087Z",
     "iopub.status.idle": "2023-11-13T03:21:29.875053Z",
     "shell.execute_reply": "2023-11-13T03:21:29.874655Z"
    },
    "papermill": {
     "duration": null,
     "end_time": null,
     "exception": null,
     "start_time": null,
     "status": "pending"
    },
    "tags": []
   },
   "outputs": [
    {
     "data": {
      "image/png": "[encoded data removed]",
      "text/plain": [
       "<Figure size 640x480 with 2 Axes>"
      ]
     },
     "metadata": {},
     "output_type": "display_data"
    }
   ],
   "source": [
    "ax = sns.heatmap(confusion_matrix_df, annot=True)\n",
    "ax.invert_xaxis()\n",
    "ax.invert_yaxis()\n",
    "plt.xlabel(\"Actual Values\", size=15)\n",
    "plt.ylabel(\"Predicted Values\", size=15)\n",
    "plt.show()"
   ]
  },
  {
   "cell_type": "code",
   "execution_count": 48,
   "id": "6e9b9cc1",
   "metadata": {
    "execution": {
     "iopub.execute_input": "2023-11-13T03:21:29.900899Z",
     "iopub.status.busy": "2023-11-13T03:21:29.900540Z",
     "iopub.status.idle": "2023-11-13T03:21:30.312654Z",
     "shell.execute_reply": "2023-11-13T03:21:30.312226Z"
    },
    "papermill": {
     "duration": null,
     "end_time": null,
     "exception": null,
     "start_time": null,
     "status": "pending"
    },
    "tags": []
   },
   "outputs": [
    {
     "name": "stdout",
     "output_type": "stream",
     "text": [
      "              precision    recall  f1-score   support\n",
      "\n",
      "           0       0.77      0.76      0.76      9965\n",
      "           1       0.71      0.79      0.75    116830\n",
      "           2       0.76      0.68      0.72    113834\n",
      "\n",
      "    accuracy                           0.73    240629\n",
      "   macro avg       0.75      0.74      0.74    240629\n",
      "weighted avg       0.74      0.73      0.73    240629\n",
      "\n"
     ]
    },
    {
     "name": "stderr",
     "output_type": "stream",
     "text": [
      "/tmp/ipykernel_17883/2182903883.py:18: SettingWithCopyWarning: \n",
      "A value is trying to be set on a copy of a slice from a DataFrame.\n",
      "Try using .loc[row_indexer,col_indexer] = value instead\n",
      "\n",
      "See the caveats in the documentation: https://pandas.pydata.org/pandas-docs/stable/user_guide/indexing.html#returning-a-view-versus-a-copy\n",
      "  df_labels[\"new_labels\"] = df_labels[\"new_labels\"].astype(str)\n"
     ]
    }
   ],
   "source": [
    "stats_df = output_stats(\n",
    "    y_pred_list,\n",
    "    Y_test,\n",
    "    mlp_params,\n",
    "    test_name=f\"{mlp_params.MODEL_NAME}_train\",\n",
    "    model_name=mlp_params.MODEL_NAME,\n",
    "    title=mlp_params.MODEL_NAME,\n",
    "    shuffle=mlp_params.SHUFFLE,\n",
    ")\n",
    "# make into a dataframe\n",
    "stats_df = pd.DataFrame.from_dict(stats_df).transpose()\n",
    "stats_df.reset_index(inplace=True)\n",
    "stats_df.rename(columns={\"index\": \"label\"}, inplace=True)\n",
    "stats_df = stats_df.melt(id_vars=[\"label\"], var_name=\"metric\", value_name=\"value\")\n",
    "# if accuracy in row of column 1 then change value of column 2 to accuracy\n",
    "stats_df.loc[stats_df[\"label\"] == \"accuracy\", \"metric\"] = \"accuracy\"\n",
    "# create a decoder dictionary from df_labels\n",
    "df_labels[\"new_labels\"] = df_labels[\"new_labels\"].astype(str)\n",
    "decoder = df_labels.set_index(\"new_labels\").to_dict()[\"labels\"]\n",
    "decoder[\"accuracy\"] = \"accuracy\"\n",
    "decoder[\"macro avg\"] = \"macro avg\"\n",
    "decoder[\"weighted avg\"] = \"weighted avg\"\n",
    "stats_df[\"label\"] = stats_df[\"label\"].map(decoder)"
   ]
  },
  {
   "cell_type": "code",
   "execution_count": 49,
   "id": "5e49a4d0",
   "metadata": {
    "execution": {
     "iopub.execute_input": "2023-11-13T03:21:30.340165Z",
     "iopub.status.busy": "2023-11-13T03:21:30.339794Z",
     "iopub.status.idle": "2023-11-13T03:21:30.343391Z",
     "shell.execute_reply": "2023-11-13T03:21:30.342990Z"
    },
    "papermill": {
     "duration": null,
     "end_time": null,
     "exception": null,
     "start_time": null,
     "status": "pending"
    },
    "tags": []
   },
   "outputs": [
    {
     "name": "stderr",
     "output_type": "stream",
     "text": [
      "/tmp/ipykernel_17883/1771591469.py:4: FutureWarning: In a future version, object-dtype columns with all-bool values will not be included in reductions with bool_only=True. Explicitly cast to bool dtype instead.\n",
      "  model_stats_df = pd.concat([model_stats_df, stats_df], axis=0)\n"
     ]
    }
   ],
   "source": [
    "stats_df[\"group\"] = \"test\"\n",
    "stats_df[\"shuffled_data\"] = mlp_params.SHUFFLE\n",
    "\n",
    "model_stats_df = pd.concat([model_stats_df, stats_df], axis=0)"
   ]
  },
  {
   "cell_type": "markdown",
   "id": "bd07fbb7",
   "metadata": {
    "papermill": {
     "duration": null,
     "end_time": null,
     "exception": null,
     "start_time": null,
     "status": "pending"
    },
    "tags": []
   },
   "source": [
    "## Test the hold out wells"
   ]
  },
  {
   "cell_type": "code",
   "execution_count": 50,
   "id": "3c45de2b",
   "metadata": {
    "execution": {
     "iopub.execute_input": "2023-11-13T03:21:30.393006Z",
     "iopub.status.busy": "2023-11-13T03:21:30.392740Z",
     "iopub.status.idle": "2023-11-13T03:21:53.066480Z",
     "shell.execute_reply": "2023-11-13T03:21:53.066002Z"
    },
    "papermill": {
     "duration": null,
     "end_time": null,
     "exception": null,
     "start_time": null,
     "status": "pending"
    },
    "tags": []
   },
   "outputs": [
    {
     "name": "stdout",
     "output_type": "stream",
     "text": [
      "MultiClass_MLP\n",
      "              precision    recall  f1-score   support\n",
      "\n",
      "           0       0.82      0.75      0.78      7048\n",
      "           1       0.75      0.78      0.76     77041\n",
      "           2       0.74      0.70      0.72     66812\n",
      "\n",
      "    accuracy                           0.75    150901\n",
      "   macro avg       0.77      0.75      0.76    150901\n",
      "weighted avg       0.75      0.75      0.75    150901\n",
      "\n",
      "Precision for class 0: 0.8152474638794959\n",
      "Recall for class 0: 0.7525539160045402\n",
      "Precision for class 1: 0.7460633573716957\n",
      "Recall for class 1: 0.7828818421360055\n",
      "Precision for class 2: 0.7407319989929506\n",
      "Recall for class 2: 0.7045889959887446\n",
      "3\n"
     ]
    },
    {
     "data": {
      "image/png": "[encoded data removed]",
      "text/plain": [
       "<Figure size 640x480 with 2 Axes>"
      ]
     },
     "metadata": {},
     "output_type": "display_data"
    },
    {
     "data": {
      "image/png": "[encoded data removed]",
      "text/plain": [
       "<Figure size 640x480 with 1 Axes>"
      ]
     },
     "metadata": {},
     "output_type": "display_data"
    }
   ],
   "source": [
    "holdout_data = Dataset_formatter(\n",
    "    torch.FloatTensor(X_holdout.values), torch.FloatTensor(Y_holdout.values)\n",
    ")\n",
    "\n",
    "# convert data class into a dataloader to be compatible with pytorch\n",
    "holdout_loader = torch.utils.data.DataLoader(\n",
    "    dataset=holdout_data, batch_size=1, shuffle=mlp_params.SHUFFLE\n",
    ")\n",
    "\n",
    "# calling the testing function and outputting list values of tested model\n",
    "if any(\n",
    "    model_type == mlp_params.MODEL_TYPE for model_type in [\"Multi_Class\", \"Regression\"]\n",
    "):\n",
    "    y_pred_list = test_optimized_model(\n",
    "        model,\n",
    "        holdout_loader,\n",
    "        params,\n",
    "        model_name=mlp_params.MODEL_NAME,\n",
    "        shuffle=mlp_params.SHUFFLE,\n",
    "    )\n",
    "elif mlp_params.MODEL_TYPE == \"Binary_Classification\":\n",
    "    y_pred_list, y_pred_prob_list = test_optimized_model(\n",
    "        model,\n",
    "        holdout_loader,\n",
    "        params,\n",
    "        model_name=mlp_params.MODEL_NAME,\n",
    "        shuffle=mlp_params.SHUFFLE,\n",
    "    )\n",
    "else:\n",
    "    raise Exception(\"Model type must be specified for proper model testing\")\n",
    "\n",
    "# un-nest list if nested i.e. length of input data does not match length of output data\n",
    "if len(y_pred_list) != len(Y_holdout):\n",
    "    y_pred_list = un_nest(y_pred_list)\n",
    "    if mlp_params.MODEL_TYPE == \"Binary_Classification\":\n",
    "        y_pred_prob_list = un_nest(y_pred_prob_list)\n",
    "else:\n",
    "    pass\n",
    "\n",
    "# Call visualization function\n",
    "# calling the testing function and outputing list values of tested model\n",
    "if any(\n",
    "    model_type == mlp_params.MODEL_TYPE for model_type in [\"Multi_Class\", \"Regression\"]\n",
    "):\n",
    "    confusion_matrix_df = results_output(\n",
    "        y_pred_list,\n",
    "        Y_holdout,\n",
    "        params,\n",
    "        test_name=f\"{mlp_params.MODEL_NAME}_hold_out\",\n",
    "        model_name=mlp_params.MODEL_NAME,\n",
    "        title=mlp_params.MODEL_NAME,\n",
    "        shuffle=mlp_params.SHUFFLE,\n",
    "    )\n",
    "elif mlp_params.MODEL_TYPE == \"Binary_Classification\":\n",
    "    results_output(\n",
    "        y_pred_list,\n",
    "        Y_holdout,\n",
    "        params,\n",
    "        y_pred_prob_list,\n",
    "        test_name=f\"{mlp_params.MODEL_NAME}_hold_out\",\n",
    "        model_name=mlp_params.MODEL_NAME,\n",
    "        title=mlp_params.MODEL_NAME,\n",
    "        shuffle=mlp_params.SHUFFLE,\n",
    "    )\n",
    "else:\n",
    "    raise Exception(\"Model type must be specified for proper model testing\")"
   ]
  },
  {
   "cell_type": "code",
   "execution_count": 51,
   "metadata": {},
   "outputs": [],
   "source": [
    "# merge the y_pred_list and Y_holdout into a dataframe\n",
    "y_pred_df = pd.DataFrame(y_pred_list, columns=[\"y_pred\"])\n",
    "y_pred_df = pd.concat([y_pred_df, Y_holdout], axis=1)\n",
    "y_pred_df = pd.concat([y_pred_df, X_holdout], axis=1)"
   ]
  },
  {
   "cell_type": "code",
   "execution_count": 52,
   "metadata": {},
   "outputs": [],
   "source": [
    "# merge y_pred_df with metadata_holdout whiile keeping the index of metadata_holdout\n",
    "metadata_holdout.reset_index(inplace=True)\n",
    "y_pred_df = pd.concat([y_pred_df, metadata_holdout], axis=1)\n",
    "# set the index to the index column\n",
    "y_pred_df.set_index(\"index\", inplace=True, drop=True)"
   ]
  },
  {
   "cell_type": "code",
   "execution_count": 53,
   "metadata": {},
   "outputs": [],
   "source": [
    "# save the y_pred_df to a parquet file\n",
    "# set path\n",
    "y_pred_df_path = pathlib.Path(\n",
    "    f\"../../results/Multi_Class/{mlp_params.MODEL_NAME}/{mlp_params.CELL_TYPE}/holdout_single_cell_predictions.parquet\"\n",
    ")\n",
    "# make path if it doesn't exist\n",
    "y_pred_df_path.parent.mkdir(parents=True, exist_ok=True)\n",
    "# save the dataframe\n",
    "y_pred_df.to_parquet(y_pred_df_path)"
   ]
  },
  {
   "cell_type": "code",
   "execution_count": 54,
   "id": "075f1ff0",
   "metadata": {
    "execution": {
     "iopub.execute_input": "2023-11-13T03:21:53.099747Z",
     "iopub.status.busy": "2023-11-13T03:21:53.099370Z",
     "iopub.status.idle": "2023-11-13T03:21:53.102914Z",
     "shell.execute_reply": "2023-11-13T03:21:53.102508Z"
    },
    "papermill": {
     "duration": null,
     "end_time": null,
     "exception": null,
     "start_time": null,
     "status": "pending"
    },
    "tags": []
   },
   "outputs": [],
   "source": [
    "# rename columns from the decoder dictionary\n",
    "confusion_matrix_df.rename(\n",
    "    columns={0: \"apoptosis\", 1: \"healthy\", 2: \"pyroptosis\"}, inplace=True\n",
    ")\n",
    "# rename index from the decoder dictionary\n",
    "confusion_matrix_df.rename(\n",
    "    index={0: \"apoptosis\", 1: \"healthy\", 2: \"pyroptosis\"}, inplace=True\n",
    ")"
   ]
  },
  {
   "cell_type": "code",
   "execution_count": 55,
   "id": "eb3690d8",
   "metadata": {
    "execution": {
     "iopub.execute_input": "2023-11-13T03:21:53.130959Z",
     "iopub.status.busy": "2023-11-13T03:21:53.130694Z",
     "iopub.status.idle": "2023-11-13T03:21:53.137032Z",
     "shell.execute_reply": "2023-11-13T03:21:53.136624Z"
    },
    "papermill": {
     "duration": null,
     "end_time": null,
     "exception": null,
     "start_time": null,
     "status": "pending"
    },
    "tags": []
   },
   "outputs": [],
   "source": [
    "confusion_matrices = confusion_matrix_df.reset_index()\n",
    "# melt the DataFrame to a long format\n",
    "confusion_matrices = pd.melt(\n",
    "    confusion_matrices,\n",
    "    id_vars=[\"index\"],\n",
    "    value_vars=[\"healthy\", \"apoptosis\", \"pyroptosis\"],\n",
    ")\n",
    "\n",
    "# rename the columns\n",
    "confusion_matrices.columns = [\"True_Label\", \"Predicted_Label\", \"Count\"]\n",
    "confusion_matrices[\"data_split\"] = \"holdout\"\n",
    "# sum of the columns of the confusion matrix gives the total number of samples per class\n",
    "sum_of_columns = confusion_matrix_df.sum(axis=0)"
   ]
  },
  {
   "cell_type": "code",
   "execution_count": 56,
   "id": "d69c2eff",
   "metadata": {
    "execution": {
     "iopub.execute_input": "2023-11-13T03:21:53.165009Z",
     "iopub.status.busy": "2023-11-13T03:21:53.164737Z",
     "iopub.status.idle": "2023-11-13T03:21:53.170181Z",
     "shell.execute_reply": "2023-11-13T03:21:53.169791Z"
    },
    "papermill": {
     "duration": null,
     "end_time": null,
     "exception": null,
     "start_time": null,
     "status": "pending"
    },
    "tags": []
   },
   "outputs": [
    {
     "data": {
      "text/html": [
       "<div>\n",
       "<style scoped>\n",
       "    .dataframe tbody tr th:only-of-type {\n",
       "        vertical-align: middle;\n",
       "    }\n",
       "\n",
       "    .dataframe tbody tr th {\n",
       "        vertical-align: top;\n",
       "    }\n",
       "\n",
       "    .dataframe thead th {\n",
       "        text-align: right;\n",
       "    }\n",
       "</style>\n",
       "<table border=\"1\" class=\"dataframe\">\n",
       "  <thead>\n",
       "    <tr style=\"text-align: right;\">\n",
       "      <th></th>\n",
       "      <th>True_Label</th>\n",
       "      <th>Predicted_Label</th>\n",
       "      <th>Count</th>\n",
       "      <th>data_split</th>\n",
       "    </tr>\n",
       "  </thead>\n",
       "  <tbody>\n",
       "    <tr>\n",
       "      <th>0</th>\n",
       "      <td>apoptosis</td>\n",
       "      <td>healthy</td>\n",
       "      <td>1278</td>\n",
       "      <td>holdout</td>\n",
       "    </tr>\n",
       "    <tr>\n",
       "      <th>1</th>\n",
       "      <td>healthy</td>\n",
       "      <td>healthy</td>\n",
       "      <td>60314</td>\n",
       "      <td>holdout</td>\n",
       "    </tr>\n",
       "    <tr>\n",
       "      <th>2</th>\n",
       "      <td>pyroptosis</td>\n",
       "      <td>healthy</td>\n",
       "      <td>19251</td>\n",
       "      <td>holdout</td>\n",
       "    </tr>\n",
       "    <tr>\n",
       "      <th>3</th>\n",
       "      <td>apoptosis</td>\n",
       "      <td>apoptosis</td>\n",
       "      <td>5304</td>\n",
       "      <td>holdout</td>\n",
       "    </tr>\n",
       "    <tr>\n",
       "      <th>4</th>\n",
       "      <td>healthy</td>\n",
       "      <td>apoptosis</td>\n",
       "      <td>716</td>\n",
       "      <td>holdout</td>\n",
       "    </tr>\n",
       "    <tr>\n",
       "      <th>5</th>\n",
       "      <td>pyroptosis</td>\n",
       "      <td>apoptosis</td>\n",
       "      <td>486</td>\n",
       "      <td>holdout</td>\n",
       "    </tr>\n",
       "    <tr>\n",
       "      <th>6</th>\n",
       "      <td>apoptosis</td>\n",
       "      <td>pyroptosis</td>\n",
       "      <td>466</td>\n",
       "      <td>holdout</td>\n",
       "    </tr>\n",
       "    <tr>\n",
       "      <th>7</th>\n",
       "      <td>healthy</td>\n",
       "      <td>pyroptosis</td>\n",
       "      <td>16011</td>\n",
       "      <td>holdout</td>\n",
       "    </tr>\n",
       "    <tr>\n",
       "      <th>8</th>\n",
       "      <td>pyroptosis</td>\n",
       "      <td>pyroptosis</td>\n",
       "      <td>47075</td>\n",
       "      <td>holdout</td>\n",
       "    </tr>\n",
       "  </tbody>\n",
       "</table>\n",
       "</div>"
      ],
      "text/plain": [
       "   True_Label Predicted_Label  Count data_split\n",
       "0   apoptosis         healthy   1278    holdout\n",
       "1     healthy         healthy  60314    holdout\n",
       "2  pyroptosis         healthy  19251    holdout\n",
       "3   apoptosis       apoptosis   5304    holdout\n",
       "4     healthy       apoptosis    716    holdout\n",
       "5  pyroptosis       apoptosis    486    holdout\n",
       "6   apoptosis      pyroptosis    466    holdout\n",
       "7     healthy      pyroptosis  16011    holdout\n",
       "8  pyroptosis      pyroptosis  47075    holdout"
      ]
     },
     "execution_count": 56,
     "metadata": {},
     "output_type": "execute_result"
    }
   ],
   "source": [
    "confusion_matrices"
   ]
  },
  {
   "cell_type": "code",
   "execution_count": 57,
   "id": "31d1f6af",
   "metadata": {
    "execution": {
     "iopub.execute_input": "2023-11-13T03:21:53.198562Z",
     "iopub.status.busy": "2023-11-13T03:21:53.198279Z",
     "iopub.status.idle": "2023-11-13T03:21:53.201909Z",
     "shell.execute_reply": "2023-11-13T03:21:53.201527Z"
    },
    "papermill": {
     "duration": null,
     "end_time": null,
     "exception": null,
     "start_time": null,
     "status": "pending"
    },
    "tags": []
   },
   "outputs": [],
   "source": [
    "# normalize confusion matrix\n",
    "# get the sum of each column to normalize the confusion matrix by the total number of samples per class\n",
    "\n",
    "# divide the apotosis column by the sum of the apotosis column\n",
    "confusion_matrix_df[\"apoptosis\"] = confusion_matrix_df[\"apoptosis\"] / sum_of_columns[0]\n",
    "# divide the healthy column by the sum of the healthy column\n",
    "confusion_matrix_df[\"healthy\"] = confusion_matrix_df[\"healthy\"] / sum_of_columns[1]\n",
    "# divide the pyroptosis column by the sum of the pyroptosis column\n",
    "confusion_matrix_df[\"pyroptosis\"] = (\n",
    "    confusion_matrix_df[\"pyroptosis\"] / sum_of_columns[2]\n",
    ")"
   ]
  },
  {
   "cell_type": "code",
   "execution_count": 58,
   "id": "cfe647ce",
   "metadata": {
    "execution": {
     "iopub.execute_input": "2023-11-13T03:21:53.230116Z",
     "iopub.status.busy": "2023-11-13T03:21:53.229842Z",
     "iopub.status.idle": "2023-11-13T03:21:53.233015Z",
     "shell.execute_reply": "2023-11-13T03:21:53.232631Z"
    },
    "papermill": {
     "duration": null,
     "end_time": null,
     "exception": null,
     "start_time": null,
     "status": "pending"
    },
    "tags": []
   },
   "outputs": [],
   "source": [
    "# change the order of the columns\n",
    "confusion_matrix_df = confusion_matrix_df[[\"healthy\", \"apoptosis\", \"pyroptosis\"]]\n",
    "# change the order of the index\n",
    "confusion_matrix_df = confusion_matrix_df.reindex(\n",
    "    index=[\"healthy\", \"apoptosis\", \"pyroptosis\"]\n",
    ")"
   ]
  },
  {
   "cell_type": "code",
   "execution_count": 59,
   "id": "001cd8ef",
   "metadata": {
    "execution": {
     "iopub.execute_input": "2023-11-13T03:21:53.261598Z",
     "iopub.status.busy": "2023-11-13T03:21:53.261247Z",
     "iopub.status.idle": "2023-11-13T03:21:53.270004Z",
     "shell.execute_reply": "2023-11-13T03:21:53.269614Z"
    },
    "papermill": {
     "duration": null,
     "end_time": null,
     "exception": null,
     "start_time": null,
     "status": "pending"
    },
    "tags": []
   },
   "outputs": [
    {
     "name": "stderr",
     "output_type": "stream",
     "text": [
      "/tmp/ipykernel_17883/3876124126.py:19: FutureWarning: In a future version, object-dtype columns with all-bool values will not be included in reductions with bool_only=True. Explicitly cast to bool dtype instead.\n",
      "  data_split_conf_mat_df_all = pd.concat(\n"
     ]
    }
   ],
   "source": [
    "confusion_matrices_recall = confusion_matrix_df.reset_index()\n",
    "# melt the DataFrame to a long format\n",
    "confusion_matrices_recall = pd.melt(\n",
    "    confusion_matrices_recall,\n",
    "    id_vars=[\"index\"],\n",
    "    value_vars=[\"healthy\", \"apoptosis\", \"pyroptosis\"],\n",
    ")\n",
    "\n",
    "# rename the columns\n",
    "confusion_matrices_recall.columns = [\"True_Label\", \"Predicted_Label\", \"Count\"]\n",
    "confusion_matrices_recall[\"data_split\"] = \"holdout\"\n",
    "confusion_matrices_recall.rename(columns={\"Count\": \"Recall\"}, inplace=True)\n",
    "data_split_conf_mat_df = pd.merge(\n",
    "    confusion_matrices,\n",
    "    confusion_matrices_recall,\n",
    "    on=[\"True_Label\", \"Predicted_Label\", \"data_split\"],\n",
    ")\n",
    "data_split_conf_mat_df[\"shuffled_data\"] = mlp_params.SHUFFLE\n",
    "data_split_conf_mat_df_all = pd.concat(\n",
    "    [data_split_conf_mat_df_all, data_split_conf_mat_df], axis=0\n",
    ")"
   ]
  },
  {
   "cell_type": "code",
   "execution_count": 60,
   "id": "144ceb04",
   "metadata": {
    "execution": {
     "iopub.execute_input": "2023-11-13T03:21:53.298182Z",
     "iopub.status.busy": "2023-11-13T03:21:53.297911Z",
     "iopub.status.idle": "2023-11-13T03:21:53.304150Z",
     "shell.execute_reply": "2023-11-13T03:21:53.303771Z"
    },
    "papermill": {
     "duration": null,
     "end_time": null,
     "exception": null,
     "start_time": null,
     "status": "pending"
    },
    "tags": []
   },
   "outputs": [
    {
     "data": {
      "text/html": [
       "<div>\n",
       "<style scoped>\n",
       "    .dataframe tbody tr th:only-of-type {\n",
       "        vertical-align: middle;\n",
       "    }\n",
       "\n",
       "    .dataframe tbody tr th {\n",
       "        vertical-align: top;\n",
       "    }\n",
       "\n",
       "    .dataframe thead th {\n",
       "        text-align: right;\n",
       "    }\n",
       "</style>\n",
       "<table border=\"1\" class=\"dataframe\">\n",
       "  <thead>\n",
       "    <tr style=\"text-align: right;\">\n",
       "      <th></th>\n",
       "      <th>True_Label</th>\n",
       "      <th>Predicted_Label</th>\n",
       "      <th>Count</th>\n",
       "      <th>data_split</th>\n",
       "      <th>Recall</th>\n",
       "      <th>shuffled_data</th>\n",
       "    </tr>\n",
       "  </thead>\n",
       "  <tbody>\n",
       "    <tr>\n",
       "      <th>0</th>\n",
       "      <td>apoptosis</td>\n",
       "      <td>healthy</td>\n",
       "      <td>1278</td>\n",
       "      <td>holdout</td>\n",
       "      <td>0.015808</td>\n",
       "      <td>False</td>\n",
       "    </tr>\n",
       "    <tr>\n",
       "      <th>1</th>\n",
       "      <td>healthy</td>\n",
       "      <td>healthy</td>\n",
       "      <td>60314</td>\n",
       "      <td>holdout</td>\n",
       "      <td>0.746063</td>\n",
       "      <td>False</td>\n",
       "    </tr>\n",
       "    <tr>\n",
       "      <th>2</th>\n",
       "      <td>pyroptosis</td>\n",
       "      <td>healthy</td>\n",
       "      <td>19251</td>\n",
       "      <td>holdout</td>\n",
       "      <td>0.238128</td>\n",
       "      <td>False</td>\n",
       "    </tr>\n",
       "    <tr>\n",
       "      <th>3</th>\n",
       "      <td>apoptosis</td>\n",
       "      <td>apoptosis</td>\n",
       "      <td>5304</td>\n",
       "      <td>holdout</td>\n",
       "      <td>0.815247</td>\n",
       "      <td>False</td>\n",
       "    </tr>\n",
       "    <tr>\n",
       "      <th>4</th>\n",
       "      <td>healthy</td>\n",
       "      <td>apoptosis</td>\n",
       "      <td>716</td>\n",
       "      <td>holdout</td>\n",
       "      <td>0.110052</td>\n",
       "      <td>False</td>\n",
       "    </tr>\n",
       "    <tr>\n",
       "      <th>5</th>\n",
       "      <td>pyroptosis</td>\n",
       "      <td>apoptosis</td>\n",
       "      <td>486</td>\n",
       "      <td>holdout</td>\n",
       "      <td>0.074700</td>\n",
       "      <td>False</td>\n",
       "    </tr>\n",
       "    <tr>\n",
       "      <th>6</th>\n",
       "      <td>apoptosis</td>\n",
       "      <td>pyroptosis</td>\n",
       "      <td>466</td>\n",
       "      <td>holdout</td>\n",
       "      <td>0.007333</td>\n",
       "      <td>False</td>\n",
       "    </tr>\n",
       "    <tr>\n",
       "      <th>7</th>\n",
       "      <td>healthy</td>\n",
       "      <td>pyroptosis</td>\n",
       "      <td>16011</td>\n",
       "      <td>holdout</td>\n",
       "      <td>0.251935</td>\n",
       "      <td>False</td>\n",
       "    </tr>\n",
       "    <tr>\n",
       "      <th>8</th>\n",
       "      <td>pyroptosis</td>\n",
       "      <td>pyroptosis</td>\n",
       "      <td>47075</td>\n",
       "      <td>holdout</td>\n",
       "      <td>0.740732</td>\n",
       "      <td>False</td>\n",
       "    </tr>\n",
       "  </tbody>\n",
       "</table>\n",
       "</div>"
      ],
      "text/plain": [
       "   True_Label Predicted_Label  Count data_split    Recall  shuffled_data\n",
       "0   apoptosis         healthy   1278    holdout  0.015808          False\n",
       "1     healthy         healthy  60314    holdout  0.746063          False\n",
       "2  pyroptosis         healthy  19251    holdout  0.238128          False\n",
       "3   apoptosis       apoptosis   5304    holdout  0.815247          False\n",
       "4     healthy       apoptosis    716    holdout  0.110052          False\n",
       "5  pyroptosis       apoptosis    486    holdout  0.074700          False\n",
       "6   apoptosis      pyroptosis    466    holdout  0.007333          False\n",
       "7     healthy      pyroptosis  16011    holdout  0.251935          False\n",
       "8  pyroptosis      pyroptosis  47075    holdout  0.740732          False"
      ]
     },
     "execution_count": 60,
     "metadata": {},
     "output_type": "execute_result"
    }
   ],
   "source": [
    "data_split_conf_mat_df"
   ]
  },
  {
   "cell_type": "code",
   "execution_count": 61,
   "id": "7c326b32",
   "metadata": {
    "execution": {
     "iopub.execute_input": "2023-11-13T03:21:53.332808Z",
     "iopub.status.busy": "2023-11-13T03:21:53.332528Z",
     "iopub.status.idle": "2023-11-13T03:21:53.496525Z",
     "shell.execute_reply": "2023-11-13T03:21:53.496138Z"
    },
    "papermill": {
     "duration": null,
     "end_time": null,
     "exception": null,
     "start_time": null,
     "status": "pending"
    },
    "tags": []
   },
   "outputs": [
    {
     "data": {
      "image/png": "[encoded data removed]",
      "text/plain": [
       "<Figure size 640x480 with 2 Axes>"
      ]
     },
     "metadata": {},
     "output_type": "display_data"
    }
   ],
   "source": [
    "ax = sns.heatmap(confusion_matrix_df, annot=True)\n",
    "\n",
    "plt.xlabel(\"Actual Values\", size=15)\n",
    "plt.ylabel(\"Predicted Values\", size=15)\n",
    "plt.show()"
   ]
  },
  {
   "cell_type": "code",
   "execution_count": 62,
   "id": "d9c38144",
   "metadata": {
    "execution": {
     "iopub.execute_input": "2023-11-13T03:21:53.525955Z",
     "iopub.status.busy": "2023-11-13T03:21:53.525663Z",
     "iopub.status.idle": "2023-11-13T03:21:53.783498Z",
     "shell.execute_reply": "2023-11-13T03:21:53.783087Z"
    },
    "papermill": {
     "duration": null,
     "end_time": null,
     "exception": null,
     "start_time": null,
     "status": "pending"
    },
    "tags": []
   },
   "outputs": [
    {
     "name": "stdout",
     "output_type": "stream",
     "text": [
      "              precision    recall  f1-score   support\n",
      "\n",
      "           0       0.82      0.75      0.78      7048\n",
      "           1       0.75      0.78      0.76     77041\n",
      "           2       0.74      0.70      0.72     66812\n",
      "\n",
      "    accuracy                           0.75    150901\n",
      "   macro avg       0.77      0.75      0.76    150901\n",
      "weighted avg       0.75      0.75      0.75    150901\n",
      "\n"
     ]
    },
    {
     "name": "stderr",
     "output_type": "stream",
     "text": [
      "/tmp/ipykernel_17883/2531832601.py:18: SettingWithCopyWarning: \n",
      "A value is trying to be set on a copy of a slice from a DataFrame.\n",
      "Try using .loc[row_indexer,col_indexer] = value instead\n",
      "\n",
      "See the caveats in the documentation: https://pandas.pydata.org/pandas-docs/stable/user_guide/indexing.html#returning-a-view-versus-a-copy\n",
      "  df_labels[\"new_labels\"] = df_labels[\"new_labels\"].astype(str)\n"
     ]
    }
   ],
   "source": [
    "stats_df = output_stats(\n",
    "    y_pred_list,\n",
    "    Y_holdout,\n",
    "    mlp_params,\n",
    "    test_name=f\"{mlp_params.MODEL_NAME}_train\",\n",
    "    model_name=mlp_params.MODEL_NAME,\n",
    "    title=mlp_params.MODEL_NAME,\n",
    "    shuffle=mlp_params.SHUFFLE,\n",
    ")\n",
    "# make into a dataframe\n",
    "stats_df = pd.DataFrame.from_dict(stats_df).transpose()\n",
    "stats_df.reset_index(inplace=True)\n",
    "stats_df.rename(columns={\"index\": \"label\"}, inplace=True)\n",
    "stats_df = stats_df.melt(id_vars=[\"label\"], var_name=\"metric\", value_name=\"value\")\n",
    "# if accuracy in row of column 1 then change value of column 2 to accuracy\n",
    "stats_df.loc[stats_df[\"label\"] == \"accuracy\", \"metric\"] = \"accuracy\"\n",
    "# create a decoder dictionary from df_labels\n",
    "df_labels[\"new_labels\"] = df_labels[\"new_labels\"].astype(str)\n",
    "decoder = df_labels.set_index(\"new_labels\").to_dict()[\"labels\"]\n",
    "decoder[\"accuracy\"] = \"accuracy\"\n",
    "decoder[\"macro avg\"] = \"macro avg\"\n",
    "decoder[\"weighted avg\"] = \"weighted avg\"\n",
    "stats_df[\"label\"] = stats_df[\"label\"].map(decoder)"
   ]
  },
  {
   "cell_type": "code",
   "execution_count": 63,
   "id": "61319294",
   "metadata": {
    "execution": {
     "iopub.execute_input": "2023-11-13T03:21:53.812945Z",
     "iopub.status.busy": "2023-11-13T03:21:53.812603Z",
     "iopub.status.idle": "2023-11-13T03:21:53.821134Z",
     "shell.execute_reply": "2023-11-13T03:21:53.820751Z"
    },
    "papermill": {
     "duration": null,
     "end_time": null,
     "exception": null,
     "start_time": null,
     "status": "pending"
    },
    "tags": []
   },
   "outputs": [
    {
     "name": "stderr",
     "output_type": "stream",
     "text": [
      "/tmp/ipykernel_17883/2184599894.py:4: FutureWarning: In a future version, object-dtype columns with all-bool values will not be included in reductions with bool_only=True. Explicitly cast to bool dtype instead.\n",
      "  model_stats_df = pd.concat([model_stats_df, stats_df], axis=0)\n"
     ]
    },
    {
     "data": {
      "text/html": [
       "<div>\n",
       "<style scoped>\n",
       "    .dataframe tbody tr th:only-of-type {\n",
       "        vertical-align: middle;\n",
       "    }\n",
       "\n",
       "    .dataframe tbody tr th {\n",
       "        vertical-align: top;\n",
       "    }\n",
       "\n",
       "    .dataframe thead th {\n",
       "        text-align: right;\n",
       "    }\n",
       "</style>\n",
       "<table border=\"1\" class=\"dataframe\">\n",
       "  <thead>\n",
       "    <tr style=\"text-align: right;\">\n",
       "      <th></th>\n",
       "      <th>label</th>\n",
       "      <th>metric</th>\n",
       "      <th>value</th>\n",
       "      <th>group</th>\n",
       "      <th>shuffled_data</th>\n",
       "    </tr>\n",
       "  </thead>\n",
       "  <tbody>\n",
       "    <tr>\n",
       "      <th>0</th>\n",
       "      <td>apoptosis</td>\n",
       "      <td>precision</td>\n",
       "      <td>0.924016</td>\n",
       "      <td>train</td>\n",
       "      <td>False</td>\n",
       "    </tr>\n",
       "    <tr>\n",
       "      <th>1</th>\n",
       "      <td>healthy</td>\n",
       "      <td>precision</td>\n",
       "      <td>0.834686</td>\n",
       "      <td>train</td>\n",
       "      <td>False</td>\n",
       "    </tr>\n",
       "    <tr>\n",
       "      <th>2</th>\n",
       "      <td>pyroptosis</td>\n",
       "      <td>precision</td>\n",
       "      <td>0.759180</td>\n",
       "      <td>train</td>\n",
       "      <td>False</td>\n",
       "    </tr>\n",
       "    <tr>\n",
       "      <th>3</th>\n",
       "      <td>accuracy</td>\n",
       "      <td>accuracy</td>\n",
       "      <td>0.809942</td>\n",
       "      <td>train</td>\n",
       "      <td>False</td>\n",
       "    </tr>\n",
       "    <tr>\n",
       "      <th>4</th>\n",
       "      <td>macro avg</td>\n",
       "      <td>precision</td>\n",
       "      <td>0.839294</td>\n",
       "      <td>train</td>\n",
       "      <td>False</td>\n",
       "    </tr>\n",
       "    <tr>\n",
       "      <th>...</th>\n",
       "      <td>...</td>\n",
       "      <td>...</td>\n",
       "      <td>...</td>\n",
       "      <td>...</td>\n",
       "      <td>...</td>\n",
       "    </tr>\n",
       "    <tr>\n",
       "      <th>19</th>\n",
       "      <td>healthy</td>\n",
       "      <td>support</td>\n",
       "      <td>77041.000000</td>\n",
       "      <td>holdout</td>\n",
       "      <td>False</td>\n",
       "    </tr>\n",
       "    <tr>\n",
       "      <th>20</th>\n",
       "      <td>pyroptosis</td>\n",
       "      <td>support</td>\n",
       "      <td>66812.000000</td>\n",
       "      <td>holdout</td>\n",
       "      <td>False</td>\n",
       "    </tr>\n",
       "    <tr>\n",
       "      <th>21</th>\n",
       "      <td>accuracy</td>\n",
       "      <td>accuracy</td>\n",
       "      <td>0.746801</td>\n",
       "      <td>holdout</td>\n",
       "      <td>False</td>\n",
       "    </tr>\n",
       "    <tr>\n",
       "      <th>22</th>\n",
       "      <td>macro avg</td>\n",
       "      <td>support</td>\n",
       "      <td>150901.000000</td>\n",
       "      <td>holdout</td>\n",
       "      <td>False</td>\n",
       "    </tr>\n",
       "    <tr>\n",
       "      <th>23</th>\n",
       "      <td>weighted avg</td>\n",
       "      <td>support</td>\n",
       "      <td>150901.000000</td>\n",
       "      <td>holdout</td>\n",
       "      <td>False</td>\n",
       "    </tr>\n",
       "  </tbody>\n",
       "</table>\n",
       "<p>96 rows × 5 columns</p>\n",
       "</div>"
      ],
      "text/plain": [
       "           label     metric          value    group shuffled_data\n",
       "0      apoptosis  precision       0.924016    train         False\n",
       "1        healthy  precision       0.834686    train         False\n",
       "2     pyroptosis  precision       0.759180    train         False\n",
       "3       accuracy   accuracy       0.809942    train         False\n",
       "4      macro avg  precision       0.839294    train         False\n",
       "..           ...        ...            ...      ...           ...\n",
       "19       healthy    support   77041.000000  holdout         False\n",
       "20    pyroptosis    support   66812.000000  holdout         False\n",
       "21      accuracy   accuracy       0.746801  holdout         False\n",
       "22     macro avg    support  150901.000000  holdout         False\n",
       "23  weighted avg    support  150901.000000  holdout         False\n",
       "\n",
       "[96 rows x 5 columns]"
      ]
     },
     "execution_count": 63,
     "metadata": {},
     "output_type": "execute_result"
    }
   ],
   "source": [
    "stats_df[\"group\"] = \"holdout\"\n",
    "stats_df[\"shuffled_data\"] = mlp_params.SHUFFLE\n",
    "\n",
    "model_stats_df = pd.concat([model_stats_df, stats_df], axis=0)\n",
    "model_stats_df"
   ]
  },
  {
   "cell_type": "code",
   "execution_count": 64,
   "id": "c0a8e710",
   "metadata": {
    "execution": {
     "iopub.execute_input": "2023-11-13T03:21:53.851019Z",
     "iopub.status.busy": "2023-11-13T03:21:53.850737Z",
     "iopub.status.idle": "2023-11-13T03:21:53.857824Z",
     "shell.execute_reply": "2023-11-13T03:21:53.857450Z"
    },
    "papermill": {
     "duration": null,
     "end_time": null,
     "exception": null,
     "start_time": null,
     "status": "pending"
    },
    "tags": []
   },
   "outputs": [
    {
     "data": {
      "text/html": [
       "<div>\n",
       "<style scoped>\n",
       "    .dataframe tbody tr th:only-of-type {\n",
       "        vertical-align: middle;\n",
       "    }\n",
       "\n",
       "    .dataframe tbody tr th {\n",
       "        vertical-align: top;\n",
       "    }\n",
       "\n",
       "    .dataframe thead th {\n",
       "        text-align: right;\n",
       "    }\n",
       "</style>\n",
       "<table border=\"1\" class=\"dataframe\">\n",
       "  <thead>\n",
       "    <tr style=\"text-align: right;\">\n",
       "      <th></th>\n",
       "      <th>True_Label</th>\n",
       "      <th>Predicted_Label</th>\n",
       "      <th>Count</th>\n",
       "      <th>data_split</th>\n",
       "      <th>Recall</th>\n",
       "      <th>shuffled_data</th>\n",
       "    </tr>\n",
       "  </thead>\n",
       "  <tbody>\n",
       "    <tr>\n",
       "      <th>0</th>\n",
       "      <td>apoptosis</td>\n",
       "      <td>healthy</td>\n",
       "      <td>1707</td>\n",
       "      <td>testing</td>\n",
       "      <td>0.013206</td>\n",
       "      <td>False</td>\n",
       "    </tr>\n",
       "    <tr>\n",
       "      <th>1</th>\n",
       "      <td>healthy</td>\n",
       "      <td>healthy</td>\n",
       "      <td>91953</td>\n",
       "      <td>testing</td>\n",
       "      <td>0.711358</td>\n",
       "      <td>False</td>\n",
       "    </tr>\n",
       "    <tr>\n",
       "      <th>2</th>\n",
       "      <td>pyroptosis</td>\n",
       "      <td>healthy</td>\n",
       "      <td>35604</td>\n",
       "      <td>testing</td>\n",
       "      <td>0.275436</td>\n",
       "      <td>False</td>\n",
       "    </tr>\n",
       "    <tr>\n",
       "      <th>3</th>\n",
       "      <td>apoptosis</td>\n",
       "      <td>apoptosis</td>\n",
       "      <td>7527</td>\n",
       "      <td>testing</td>\n",
       "      <td>0.771209</td>\n",
       "      <td>False</td>\n",
       "    </tr>\n",
       "    <tr>\n",
       "      <th>4</th>\n",
       "      <td>healthy</td>\n",
       "      <td>apoptosis</td>\n",
       "      <td>1244</td>\n",
       "      <td>testing</td>\n",
       "      <td>0.127459</td>\n",
       "      <td>False</td>\n",
       "    </tr>\n",
       "    <tr>\n",
       "      <th>5</th>\n",
       "      <td>pyroptosis</td>\n",
       "      <td>apoptosis</td>\n",
       "      <td>989</td>\n",
       "      <td>testing</td>\n",
       "      <td>0.101332</td>\n",
       "      <td>False</td>\n",
       "    </tr>\n",
       "    <tr>\n",
       "      <th>6</th>\n",
       "      <td>apoptosis</td>\n",
       "      <td>pyroptosis</td>\n",
       "      <td>731</td>\n",
       "      <td>testing</td>\n",
       "      <td>0.007195</td>\n",
       "      <td>False</td>\n",
       "    </tr>\n",
       "    <tr>\n",
       "      <th>7</th>\n",
       "      <td>healthy</td>\n",
       "      <td>pyroptosis</td>\n",
       "      <td>23633</td>\n",
       "      <td>testing</td>\n",
       "      <td>0.232597</td>\n",
       "      <td>False</td>\n",
       "    </tr>\n",
       "    <tr>\n",
       "      <th>8</th>\n",
       "      <td>pyroptosis</td>\n",
       "      <td>pyroptosis</td>\n",
       "      <td>77241</td>\n",
       "      <td>testing</td>\n",
       "      <td>0.760209</td>\n",
       "      <td>False</td>\n",
       "    </tr>\n",
       "    <tr>\n",
       "      <th>0</th>\n",
       "      <td>apoptosis</td>\n",
       "      <td>healthy</td>\n",
       "      <td>1278</td>\n",
       "      <td>holdout</td>\n",
       "      <td>0.015808</td>\n",
       "      <td>False</td>\n",
       "    </tr>\n",
       "    <tr>\n",
       "      <th>1</th>\n",
       "      <td>healthy</td>\n",
       "      <td>healthy</td>\n",
       "      <td>60314</td>\n",
       "      <td>holdout</td>\n",
       "      <td>0.746063</td>\n",
       "      <td>False</td>\n",
       "    </tr>\n",
       "    <tr>\n",
       "      <th>2</th>\n",
       "      <td>pyroptosis</td>\n",
       "      <td>healthy</td>\n",
       "      <td>19251</td>\n",
       "      <td>holdout</td>\n",
       "      <td>0.238128</td>\n",
       "      <td>False</td>\n",
       "    </tr>\n",
       "    <tr>\n",
       "      <th>3</th>\n",
       "      <td>apoptosis</td>\n",
       "      <td>apoptosis</td>\n",
       "      <td>5304</td>\n",
       "      <td>holdout</td>\n",
       "      <td>0.815247</td>\n",
       "      <td>False</td>\n",
       "    </tr>\n",
       "    <tr>\n",
       "      <th>4</th>\n",
       "      <td>healthy</td>\n",
       "      <td>apoptosis</td>\n",
       "      <td>716</td>\n",
       "      <td>holdout</td>\n",
       "      <td>0.110052</td>\n",
       "      <td>False</td>\n",
       "    </tr>\n",
       "    <tr>\n",
       "      <th>5</th>\n",
       "      <td>pyroptosis</td>\n",
       "      <td>apoptosis</td>\n",
       "      <td>486</td>\n",
       "      <td>holdout</td>\n",
       "      <td>0.074700</td>\n",
       "      <td>False</td>\n",
       "    </tr>\n",
       "    <tr>\n",
       "      <th>6</th>\n",
       "      <td>apoptosis</td>\n",
       "      <td>pyroptosis</td>\n",
       "      <td>466</td>\n",
       "      <td>holdout</td>\n",
       "      <td>0.007333</td>\n",
       "      <td>False</td>\n",
       "    </tr>\n",
       "    <tr>\n",
       "      <th>7</th>\n",
       "      <td>healthy</td>\n",
       "      <td>pyroptosis</td>\n",
       "      <td>16011</td>\n",
       "      <td>holdout</td>\n",
       "      <td>0.251935</td>\n",
       "      <td>False</td>\n",
       "    </tr>\n",
       "    <tr>\n",
       "      <th>8</th>\n",
       "      <td>pyroptosis</td>\n",
       "      <td>pyroptosis</td>\n",
       "      <td>47075</td>\n",
       "      <td>holdout</td>\n",
       "      <td>0.740732</td>\n",
       "      <td>False</td>\n",
       "    </tr>\n",
       "  </tbody>\n",
       "</table>\n",
       "</div>"
      ],
      "text/plain": [
       "   True_Label Predicted_Label  Count data_split    Recall shuffled_data\n",
       "0   apoptosis         healthy   1707    testing  0.013206         False\n",
       "1     healthy         healthy  91953    testing  0.711358         False\n",
       "2  pyroptosis         healthy  35604    testing  0.275436         False\n",
       "3   apoptosis       apoptosis   7527    testing  0.771209         False\n",
       "4     healthy       apoptosis   1244    testing  0.127459         False\n",
       "5  pyroptosis       apoptosis    989    testing  0.101332         False\n",
       "6   apoptosis      pyroptosis    731    testing  0.007195         False\n",
       "7     healthy      pyroptosis  23633    testing  0.232597         False\n",
       "8  pyroptosis      pyroptosis  77241    testing  0.760209         False\n",
       "0   apoptosis         healthy   1278    holdout  0.015808         False\n",
       "1     healthy         healthy  60314    holdout  0.746063         False\n",
       "2  pyroptosis         healthy  19251    holdout  0.238128         False\n",
       "3   apoptosis       apoptosis   5304    holdout  0.815247         False\n",
       "4     healthy       apoptosis    716    holdout  0.110052         False\n",
       "5  pyroptosis       apoptosis    486    holdout  0.074700         False\n",
       "6   apoptosis      pyroptosis    466    holdout  0.007333         False\n",
       "7     healthy      pyroptosis  16011    holdout  0.251935         False\n",
       "8  pyroptosis      pyroptosis  47075    holdout  0.740732         False"
      ]
     },
     "execution_count": 64,
     "metadata": {},
     "output_type": "execute_result"
    }
   ],
   "source": [
    "data_split_conf_mat_df_all"
   ]
  },
  {
   "cell_type": "code",
   "execution_count": 65,
   "id": "6320cb8d",
   "metadata": {
    "execution": {
     "iopub.execute_input": "2023-11-13T03:21:53.887891Z",
     "iopub.status.busy": "2023-11-13T03:21:53.887611Z",
     "iopub.status.idle": "2023-11-13T03:21:53.892841Z",
     "shell.execute_reply": "2023-11-13T03:21:53.892460Z"
    },
    "papermill": {
     "duration": null,
     "end_time": null,
     "exception": null,
     "start_time": null,
     "status": "pending"
    },
    "tags": []
   },
   "outputs": [],
   "source": [
    "# set path for the model confusion matrices\n",
    "matrix_path = pathlib.Path(\n",
    "    f\"../../results/{mlp_params.MODEL_TYPE}/{mlp_params.MODEL_NAME}/{mlp_params.CELL_TYPE}\"\n",
    ")\n",
    "matrix_path.mkdir(parents=True, exist_ok=True)\n",
    "# check if the model training metrics file exists\n",
    "matrix_file = pathlib.Path(f\"{matrix_path}/confusion_matrices.csv\")\n",
    "if matrix_file.exists():\n",
    "    metrics_df = pd.read_csv(matrix_file)\n",
    "    if len(metrics_df[\"shuffled_data\"].unique()) > 1:\n",
    "        pass\n",
    "    elif metrics_df[\"shuffled_data\"].unique() == mlp_params.SHUFFLE:\n",
    "        pass\n",
    "    else:\n",
    "        metrics_df = pd.concat([metrics_df, data_split_conf_mat_df_all], axis=0)\n",
    "        metrics_df.to_csv(matrix_file, index=False)\n",
    "else:\n",
    "    data_split_conf_mat_df_all.to_csv(matrix_file, index=False)"
   ]
  },
  {
   "cell_type": "code",
   "execution_count": 66,
   "id": "e1e4b224",
   "metadata": {
    "execution": {
     "iopub.execute_input": "2023-11-13T03:21:53.922948Z",
     "iopub.status.busy": "2023-11-13T03:21:53.922663Z",
     "iopub.status.idle": "2023-11-13T03:21:53.927617Z",
     "shell.execute_reply": "2023-11-13T03:21:53.927236Z"
    },
    "papermill": {
     "duration": null,
     "end_time": null,
     "exception": null,
     "start_time": null,
     "status": "pending"
    },
    "tags": []
   },
   "outputs": [],
   "source": [
    "# set path for the model training metrics\n",
    "metrics_path = pathlib.Path(\n",
    "    f\"../../results/{mlp_params.MODEL_TYPE}/{mlp_params.MODEL_NAME}/{mlp_params.CELL_TYPE}\"\n",
    ")\n",
    "metrics_path.mkdir(parents=True, exist_ok=True)\n",
    "# check if the model training metrics file exists\n",
    "metrics_file = pathlib.Path(f\"{metrics_path}/training_metrics.csv\")\n",
    "if metrics_file.exists():\n",
    "    metrics_df = pd.read_csv(metrics_file)\n",
    "    if len(metrics_df[\"shuffled_data\"].unique()) > 1:\n",
    "        pass\n",
    "    elif metrics_df[\"shuffled_data\"].unique() == mlp_params.SHUFFLE:\n",
    "        pass\n",
    "    else:\n",
    "        metrics_df = pd.concat([metrics_df, model_stats_df], axis=0)\n",
    "        metrics_df.to_csv(metrics_file, index=False)\n",
    "else:\n",
    "    model_stats_df.to_csv(metrics_file, index=False)"
   ]
  }
 ],
 "metadata": {
  "kernelspec": {
   "display_name": "Interstellar",
   "language": "python",
   "name": "python3"
  },
  "language_info": {
   "codemirror_mode": {
    "name": "ipython",
    "version": 3
   },
   "file_extension": ".py",
   "mimetype": "text/x-python",
   "name": "python",
   "nbconvert_exporter": "python",
   "pygments_lexer": "ipython3",
   "version": "3.10.12"
  },
  "papermill": {
   "default_parameters": {},
   "duration": null,
   "end_time": null,
   "environment_variables": {},
   "exception": null,
   "input_path": "train_multiclass_model.ipynb",
   "output_path": "train_multiclass_model.ipynb",
   "parameters": {
    "CELL_TYPE": "PBMC",
    "MODEL_NAME": "MultiClass_MLP",
    "SHUFFLE": true
   },
   "start_time": "2023-11-13T03:46:04.352506",
   "version": "2.4.0"
  }
 },
 "nbformat": 4,
 "nbformat_minor": 5
}
