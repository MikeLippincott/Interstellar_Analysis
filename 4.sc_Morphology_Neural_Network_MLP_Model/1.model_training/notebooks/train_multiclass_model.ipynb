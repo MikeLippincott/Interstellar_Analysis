{
    "cells": [
        {
            "cell_type": "code",
            "execution_count": 1,
            "id": "76db0f62",
            "metadata": {
                "execution": {
                    "iopub.execute_input": "2023-10-18T18:21:55.318585Z",
                    "iopub.status.busy": "2023-10-18T18:21:55.318429Z",
                    "iopub.status.idle": "2023-10-18T18:21:56.764566Z",
                    "shell.execute_reply": "2023-10-18T18:21:56.764197Z"
                },
                "papermill": {
                    "duration": 1.453218,
                    "end_time": "2023-10-18T18:21:56.766140",
                    "exception": false,
                    "start_time": "2023-10-18T18:21:55.312922",
                    "status": "completed"
                },
                "tags": []
            },
            "outputs": [],
            "source": [
                "import ast\n",
                "import pathlib\n",
                "import sys\n",
                "\n",
                "import numpy as np\n",
                "import optuna\n",
                "import pandas as pd\n",
                "import pyarrow.parquet as pq\n",
                "import toml\n",
                "import torch\n",
                "from sklearn import preprocessing\n",
                "\n",
                "sys.path.append(\"../..\")\n",
                "\n",
                "import json\n",
                "\n",
                "import matplotlib.pyplot as plt\n",
                "import seaborn as sns\n",
                "from MLP_utils.parameters import Parameters\n",
                "from MLP_utils.utils import (\n",
                "    Dataset_formatter,\n",
                "    data_split,\n",
                "    extract_best_trial_params,\n",
                "    objective_model_optimizer,\n",
                "    optimized_model_create,\n",
                "    output_stats,\n",
                "    parameter_set,\n",
                "    plot_metric_vs_epoch,\n",
                "    results_output,\n",
                "    test_optimized_model,\n",
                "    train_optimized_model,\n",
                "    un_nest,\n",
                ")\n",
                "from sklearn.model_selection import train_test_split\n",
                "\n",
                "sys.path.append(\"../../..\")\n",
                "from utils.utils import df_stats"
            ]
        },
        {
            "cell_type": "markdown",
            "id": "7773f676",
            "metadata": {
                "papermill": {
                    "duration": 0.004964,
                    "end_time": "2023-10-18T18:21:56.776597",
                    "exception": false,
                    "start_time": "2023-10-18T18:21:56.771633",
                    "status": "completed"
                },
                "tags": []
            },
            "source": [
                "## Papermill is used for executing notebooks in the CLI with multiple parameters\n",
                "Here the `injected-parameters` cell is used to inject parameters into the notebook via papermill.\n",
                "This enables multiple notebooks to be executed with different parameters, preventing to manually update parameters or have multiple copies of the notebook."
            ]
        },
        {
            "cell_type": "code",
            "execution_count": 2,
            "id": "b3502f1e",
            "metadata": {
                "execution": {
                    "iopub.execute_input": "2023-10-18T18:21:56.787247Z",
                    "iopub.status.busy": "2023-10-18T18:21:56.787004Z",
                    "iopub.status.idle": "2023-10-18T18:21:56.789480Z",
                    "shell.execute_reply": "2023-10-18T18:21:56.789142Z"
                },
                "papermill": {
                    "duration": 0.008892,
                    "end_time": "2023-10-18T18:21:56.790441",
                    "exception": false,
                    "start_time": "2023-10-18T18:21:56.781549",
                    "status": "completed"
                },
                "tags": [
                    "injected-parameters"
                ]
            },
            "outputs": [],
            "source": [
                "# Parameters\n",
                "CELL_TYPE = \"SHSY5Y\"\n",
                "MODEL_NAME = \"MultiClass_MLP_h202_remove\"\n",
                "SHUFFLE = True"
            ]
        },
        {
            "cell_type": "code",
            "execution_count": 3,
            "id": "7fe861fc",
            "metadata": {
                "execution": {
                    "iopub.execute_input": "2023-10-18T18:21:56.801290Z",
                    "iopub.status.busy": "2023-10-18T18:21:56.801143Z",
                    "iopub.status.idle": "2023-10-18T18:21:56.804166Z",
                    "shell.execute_reply": "2023-10-18T18:21:56.803905Z"
                },
                "papermill": {
                    "duration": 0.009611,
                    "end_time": "2023-10-18T18:21:56.805265",
                    "exception": false,
                    "start_time": "2023-10-18T18:21:56.795654",
                    "status": "completed"
                },
                "tags": []
            },
            "outputs": [
                {
                    "name": "stdout",
                    "output_type": "stream",
                    "text": [
                        "[0.9527532302864088, 0.5029772224965937, 0.5442695472169975]\n"
                    ]
                }
            ],
            "source": [
                "ml_configs_file = pathlib.Path(\"../../MLP_utils/multi_class_config.toml\").resolve(\n",
                "    strict=True\n",
                ")\n",
                "ml_configs = toml.load(ml_configs_file)\n",
                "params = Parameters()\n",
                "mlp_params = parameter_set(params, ml_configs)\n",
                "\n",
                "# overwrite params via command line arguments from papermill\n",
                "mlp_params.CELL_TYPE = CELL_TYPE\n",
                "mlp_params.MODEL_NAME = MODEL_NAME\n",
                "\n",
                "mlp_params.MODEL_NAME = MODEL_NAME\n",
                "mlp_params.SHUFFLE = SHUFFLE\n",
                "\n",
                "# load in the class weights\n",
                "class_weights_file_path = pathlib.Path(\n",
                "    f\"../../0.hyperparameter_optimization/class_weights/{CELL_TYPE}/multi_class/class_weights.txt\"\n",
                ").resolve(strict=True)\n",
                "# read the class weights into a list for use in the loss function as a list\n",
                "class_weights = []\n",
                "with open(class_weights_file_path, \"r\") as f:\n",
                "    for line in f:\n",
                "        class_weights.append(float(line.strip()))\n",
                "# check the class weights are correct\n",
                "print(class_weights)"
            ]
        },
        {
            "cell_type": "code",
            "execution_count": 4,
            "id": "5f05b3f4",
            "metadata": {
                "execution": {
                    "iopub.execute_input": "2023-10-18T18:21:56.816606Z",
                    "iopub.status.busy": "2023-10-18T18:21:56.816502Z"
                },
                "papermill": {
                    "duration": 11.557813,
                    "end_time": "2023-10-18T18:22:08.369011",
                    "exception": false,
                    "start_time": "2023-10-18T18:21:56.811198",
                    "status": "completed"
                },
                "tags": []
            },
            "outputs": [],
            "source": [
                "# Import Data\n",
                "# set data file path under pathlib path for multi-system use\n",
                "\n",
                "file_path = pathlib.Path(\n",
                "    f\"../../../data/{mlp_params.CELL_TYPE}_preprocessed_sc_norm.parquet\"\n",
                ").resolve(strict=True)\n",
                "\n",
                "df1 = pd.read_parquet(file_path)"
            ]
        },
        {
            "cell_type": "code",
            "execution_count": 5,
            "id": "6c372a03",
            "metadata": {},
            "outputs": [],
            "source": [
                "# get paths for toml files\n",
                "ground_truth_file_path = pathlib.Path(f\"../../MLP_utils/ground_truth.toml\").resolve(\n",
                "    strict=True\n",
                ")\n",
                "treatment_splits_file_path = pathlib.Path(f\"../../MLP_utils/splits.toml\").resolve(\n",
                "    strict=True\n",
                ")\n",
                "# read toml files\n",
                "ground_truth = toml.load(ground_truth_file_path)\n",
                "treatment_splits = toml.load(treatment_splits_file_path)"
            ]
        },
        {
            "cell_type": "code",
            "execution_count": 6,
            "id": "63523a09",
            "metadata": {},
            "outputs": [],
            "source": [
                "# get information from toml files\n",
                "apoptosis_groups_list = ground_truth[\"Apoptosis\"][\"apoptosis_groups_list\"]\n",
                "pyroptosis_groups_list = ground_truth[\"Pyroptosis\"][\"pyroptosis_groups_list\"]\n",
                "healthy_groups_list = ground_truth[\"Healthy\"][\"healthy_groups_list\"]"
            ]
        },
        {
            "cell_type": "markdown",
            "id": "7c5e28b5",
            "metadata": {
                "papermill": {
                    "duration": null,
                    "end_time": null,
                    "exception": null,
                    "start_time": null,
                    "status": "completed"
                },
                "tags": []
            },
            "source": [
                "#### Set up Data to be compatible with model"
            ]
        },
        {
            "cell_type": "markdown",
            "id": "5efd38f4",
            "metadata": {
                "papermill": {
                    "duration": null,
                    "end_time": null,
                    "exception": null,
                    "start_time": null,
                    "status": "completed"
                },
                "tags": []
            },
            "source": [
                "##### Classification Models:\n",
                "Comment out code if using regression"
            ]
        },
        {
            "cell_type": "code",
            "execution_count": 7,
            "id": "892c99cb",
            "metadata": {
                "execution": {
                    "iopub.execute_input": "2023-08-18T18:02:17.367529Z",
                    "iopub.status.busy": "2023-08-18T18:02:17.367201Z",
                    "iopub.status.idle": "2023-08-18T18:02:18.678324Z",
                    "shell.execute_reply": "2023-08-18T18:02:18.677713Z"
                },
                "papermill": {
                    "duration": null,
                    "end_time": null,
                    "exception": null,
                    "start_time": null,
                    "status": "completed"
                },
                "tags": []
            },
            "outputs": [
                {
                    "name": "stdout",
                    "output_type": "stream",
                    "text": [
                        "Data Subset Is Off\n"
                    ]
                }
            ],
            "source": [
                "np.random.seed(0)\n",
                "if ast.literal_eval(mlp_params.DATA_SUBSET_OPTION):\n",
                "    df1 = df1.groupby(\"oneb_Metadata_Treatment_Dose_Inhibitor_Dose\").apply(\n",
                "        lambda x: x.sample(n=mlp_params.DATA_SUBSET_NUMBER, random_state=0)\n",
                "    )\n",
                "    print(\"Data Subset Is On\")\n",
                "    print(f\"Data is subset to {mlp_params.DATA_SUBSET_NUMBER} per treatment group\")\n",
                "    print(df1.shape)\n",
                "    df1.reset_index(drop=True, inplace=True)\n",
                "else:\n",
                "    print(\"Data Subset Is Off\")"
            ]
        },
        {
            "cell_type": "code",
            "execution_count": 8,
            "id": "48b83d0d",
            "metadata": {},
            "outputs": [],
            "source": [
                "# add apoptosis, pyroptosis and healthy columns to dataframe\n",
                "df1[\"apoptosis\"] = df1.apply(\n",
                "    lambda row: row[\"oneb_Metadata_Treatment_Dose_Inhibitor_Dose\"]\n",
                "    in apoptosis_groups_list,\n",
                "    axis=1,\n",
                ")\n",
                "df1[\"pyroptosis\"] = df1.apply(\n",
                "    lambda row: row[\"oneb_Metadata_Treatment_Dose_Inhibitor_Dose\"]\n",
                "    in pyroptosis_groups_list,\n",
                "    axis=1,\n",
                ")\n",
                "df1[\"healthy\"] = df1.apply(\n",
                "    lambda row: row[\"oneb_Metadata_Treatment_Dose_Inhibitor_Dose\"]\n",
                "    in healthy_groups_list,\n",
                "    axis=1,\n",
                ")\n",
                "\n",
                "# merge apoptosis, pyroptosis, and healthy columns into one column\n",
                "df1[\"labels\"] = df1.apply(\n",
                "    lambda row: \"apoptosis\"\n",
                "    if row[\"apoptosis\"]\n",
                "    else \"pyroptosis\"\n",
                "    if row[\"pyroptosis\"]\n",
                "    else \"healthy\",\n",
                "    axis=1,\n",
                ")\n",
                "# drop apoptosis, pyroptosis, and healthy columns\n",
                "df1.drop(columns=[\"apoptosis\", \"pyroptosis\", \"healthy\"], inplace=True)"
            ]
        },
        {
            "cell_type": "code",
            "execution_count": 9,
            "id": "46013a3d",
            "metadata": {},
            "outputs": [],
            "source": [
                "# # randomly select wells to hold out for testing one per treatment group\n",
                "# # stratified by treatment group\n",
                "# np.random.seed(seed=0)\n",
                "# wells_to_hold = (\n",
                "#     df1.groupby(\"oneb_Metadata_Treatment_Dose_Inhibitor_Dose\")\n",
                "#     .agg(np.random.choice)[\"Metadata_Well\"]\n",
                "#     .to_list()\n",
                "# )\n",
                "# df_holdout = df1[df1[\"Metadata_Well\"].isin(wells_to_hold)]\n",
                "# df = df1[~df1[\"Metadata_Well\"].isin(wells_to_hold)]\n",
                "\n",
                "\n",
                "# print(\"Wells held out for testing:\", df_holdout[\"Metadata_Well\"].unique())\n",
                "# print(\n",
                "#     \"Wells to use for training, validation, and testing\", df1[\"Metadata_Well\"].unique()\n",
                "# )"
            ]
        },
        {
            "cell_type": "code",
            "execution_count": 10,
            "id": "5f7e0516",
            "metadata": {},
            "outputs": [],
            "source": [
                "# # downsample healthy and pyroptosis to match number of apoptosis\n",
                "# # to balance classes\n",
                "# df_healthy = df1[df1[\"labels\"] == \"healthy\"]\n",
                "# df_pyroptosis = df1[df1[\"labels\"] == \"pyroptosis\"]\n",
                "# df_apoptosis = df1[df1[\"labels\"] == \"apoptosis\"]\n",
                "# print(df_healthy.shape, df_pyroptosis.shape, df_apoptosis.shape)\n",
                "# df_healthy = df_healthy.sample(n=df_apoptosis.shape[0], random_state=0)\n",
                "# df_pyroptosis = df_pyroptosis.sample(n=df_apoptosis.shape[0], random_state=0)\n",
                "# print(df_healthy.shape, df_pyroptosis.shape, df_apoptosis.shape)\n",
                "# df = pd.concat([df_healthy, df_pyroptosis, df_apoptosis])\n",
                "# print(df.shape)\n",
                "# # show that the df was downsampled and recombined correctly\n",
                "# assert (df_healthy + df_pyroptosis + df_apoptosis).shape[0] == df1.shape[0]"
            ]
        },
        {
            "cell_type": "code",
            "execution_count": 11,
            "id": "615a24e0",
            "metadata": {},
            "outputs": [
                {
                    "data": {
                        "text/html": [
                            "<div>\n",
                            "<style scoped>\n",
                            "    .dataframe tbody tr th:only-of-type {\n",
                            "        vertical-align: middle;\n",
                            "    }\n",
                            "\n",
                            "    .dataframe tbody tr th {\n",
                            "        vertical-align: top;\n",
                            "    }\n",
                            "\n",
                            "    .dataframe thead th {\n",
                            "        text-align: right;\n",
                            "    }\n",
                            "</style>\n",
                            "<table border=\"1\" class=\"dataframe\">\n",
                            "  <thead>\n",
                            "    <tr style=\"text-align: right;\">\n",
                            "      <th></th>\n",
                            "      <th>labeled_data_index</th>\n",
                            "      <th>label</th>\n",
                            "    </tr>\n",
                            "  </thead>\n",
                            "  <tbody>\n",
                            "    <tr>\n",
                            "      <th>0</th>\n",
                            "      <td>520756</td>\n",
                            "      <td>train</td>\n",
                            "    </tr>\n",
                            "    <tr>\n",
                            "      <th>1</th>\n",
                            "      <td>592465</td>\n",
                            "      <td>train</td>\n",
                            "    </tr>\n",
                            "    <tr>\n",
                            "      <th>2</th>\n",
                            "      <td>10473</td>\n",
                            "      <td>train</td>\n",
                            "    </tr>\n",
                            "    <tr>\n",
                            "      <th>3</th>\n",
                            "      <td>145418</td>\n",
                            "      <td>train</td>\n",
                            "    </tr>\n",
                            "    <tr>\n",
                            "      <th>4</th>\n",
                            "      <td>131978</td>\n",
                            "      <td>train</td>\n",
                            "    </tr>\n",
                            "  </tbody>\n",
                            "</table>\n",
                            "</div>"
                        ],
                        "text/plain": [
                            "   labeled_data_index  label\n",
                            "0              520756  train\n",
                            "1              592465  train\n",
                            "2               10473  train\n",
                            "3              145418  train\n",
                            "4              131978  train"
                        ]
                    },
                    "execution_count": 11,
                    "metadata": {},
                    "output_type": "execute_result"
                }
            ],
            "source": [
                "# set path for index file\n",
                "index_file_path = pathlib.Path(\n",
                "    f\"../../0.hyperparameter_optimization/indexes/SHSY5Y/multi_class/{params.MODEL_NAME}_data_split_indexes.tsv\"\n",
                ").resolve(strict=True)\n",
                "\n",
                "# read index file\n",
                "index_df = pd.read_csv(index_file_path, sep=\"\\t\")\n",
                "index_df.head()"
            ]
        },
        {
            "cell_type": "code",
            "execution_count": 12,
            "id": "d7eb7489",
            "metadata": {},
            "outputs": [
                {
                    "name": "stdout",
                    "output_type": "stream",
                    "text": [
                        "(156754,) (39189,) (230445,) (144614,)\n"
                    ]
                }
            ],
            "source": [
                "# get train, validation, test, and holdout indexes\n",
                "train_indexes = index_df.loc[index_df[\"label\"] == \"train\"][\"labeled_data_index\"]\n",
                "val_indexes = index_df.loc[index_df[\"label\"] == \"val\"][\"labeled_data_index\"]\n",
                "test_indexes = index_df.loc[index_df[\"label\"] == \"test\"][\"labeled_data_index\"]\n",
                "holdout_indexes = index_df.loc[index_df[\"label\"] == \"holdout\"][\"labeled_data_index\"]\n",
                "print(train_indexes.shape, val_indexes.shape, test_indexes.shape, holdout_indexes.shape)\n",
                "assert (\n",
                "    train_indexes.shape[0]\n",
                "    + val_indexes.shape[0]\n",
                "    + test_indexes.shape[0]\n",
                "    + holdout_indexes.shape[0]\n",
                ") == index_df.shape[0]"
            ]
        },
        {
            "cell_type": "code",
            "execution_count": 13,
            "id": "3d9db49e",
            "metadata": {
                "execution": {
                    "iopub.execute_input": "2023-08-18T18:02:22.044888Z",
                    "iopub.status.busy": "2023-08-18T18:02:22.044473Z",
                    "iopub.status.idle": "2023-08-18T18:02:22.349293Z",
                    "shell.execute_reply": "2023-08-18T18:02:22.348707Z"
                },
                "papermill": {
                    "duration": null,
                    "end_time": null,
                    "exception": null,
                    "start_time": null,
                    "status": "completed"
                },
                "tags": []
            },
            "outputs": [],
            "source": [
                "# Code snippet for metadata extraction by Jenna Tomkinson\n",
                "df_metadata = list(df1.columns[df1.columns.str.startswith(\"Metadata\")])\n",
                "\n",
                "# define which columns are data and which are descriptive\n",
                "df_descriptive = df1[df_metadata]\n",
                "df_values = df1.drop(columns=df_metadata)"
            ]
        },
        {
            "cell_type": "code",
            "execution_count": 14,
            "id": "8924c31e",
            "metadata": {
                "execution": {
                    "iopub.execute_input": "2023-08-18T18:02:22.363098Z",
                    "iopub.status.busy": "2023-08-18T18:02:22.362689Z",
                    "iopub.status.idle": "2023-08-18T18:02:22.714639Z",
                    "shell.execute_reply": "2023-08-18T18:02:22.714027Z"
                },
                "papermill": {
                    "duration": null,
                    "end_time": null,
                    "exception": null,
                    "start_time": null,
                    "status": "completed"
                },
                "tags": []
            },
            "outputs": [
                {
                    "name": "stderr",
                    "output_type": "stream",
                    "text": [
                        "/tmp/ipykernel_3284708/1683257534.py:21: SettingWithCopyWarning: \n",
                        "A value is trying to be set on a copy of a slice from a DataFrame\n",
                        "\n",
                        "See the caveats in the documentation: https://pandas.pydata.org/pandas-docs/stable/user_guide/indexing.html#returning-a-view-versus-a-copy\n",
                        "  df_labels.drop_duplicates(inplace=True)\n"
                    ]
                }
            ],
            "source": [
                "# Creating label encoder\n",
                "le = preprocessing.LabelEncoder()\n",
                "# Converting strings into numbers\n",
                "df_values[\"new_labels\"] = le.fit_transform(df_values[\"labels\"])\n",
                "# get mini dataframe that contains the decoder\n",
                "df_labels = df_values[[\"labels\", \"new_labels\"]]\n",
                "# split into X and Y where Y are the predictive column and x are the observable data\n",
                "df_values_X = df_values.drop(\n",
                "    [\n",
                "        \"oneb_Metadata_Treatment_Dose_Inhibitor_Dose\",\n",
                "        \"twob_Metadata_Treatment_Dose_Inhibitor_Dose\",\n",
                "        \"threeb_Metadata_Treatment_Dose_Inhibitor_Dose\",\n",
                "        \"fourb_Metadata_Treatment_Dose_Inhibitor_Dose\",\n",
                "        \"labels\",\n",
                "        \"new_labels\",\n",
                "    ],\n",
                "    axis=1,\n",
                ")\n",
                "df_values_Y = df_values[\"new_labels\"]\n",
                "df_values_Y.unique()\n",
                "df_labels.drop_duplicates(inplace=True)\n",
                "# pandas chaining to reset index and drop old index\n",
                "df_labels.reset_index(drop=True, inplace=True)"
            ]
        },
        {
            "cell_type": "code",
            "execution_count": 15,
            "id": "b18afc16",
            "metadata": {},
            "outputs": [
                {
                    "name": "stdout",
                    "output_type": "stream",
                    "text": [
                        "(156754,) (39189,) (230445,) (144614,)\n",
                        "571002\n"
                    ]
                }
            ],
            "source": [
                "print(train_indexes.shape, val_indexes.shape, test_indexes.shape, holdout_indexes.shape)\n",
                "print(\n",
                "    train_indexes.shape[0]\n",
                "    + val_indexes.shape[0]\n",
                "    + test_indexes.shape[0]\n",
                "    + holdout_indexes.shape[0]\n",
                ")"
            ]
        },
        {
            "cell_type": "code",
            "execution_count": 16,
            "id": "84c24e0f",
            "metadata": {},
            "outputs": [],
            "source": [
                "# get the train, validation, test, and holdout dataframes from the indexes\n",
                "X_train = df_values_X.iloc[train_indexes.values]\n",
                "X_val = df_values_X.iloc[val_indexes.values]\n",
                "X_test = df_values_X.iloc[test_indexes.values]\n",
                "X_holdout = df_values_X.iloc[holdout_indexes.values]\n",
                "\n",
                "Y_train = df_values_Y.iloc[train_indexes.values]\n",
                "Y_val = df_values_Y.iloc[val_indexes.values]\n",
                "Y_test = df_values_Y.iloc[test_indexes.values]\n",
                "Y_holdout = df_values_Y.iloc[holdout_indexes.values]"
            ]
        },
        {
            "cell_type": "code",
            "execution_count": 17,
            "id": "ea706992",
            "metadata": {},
            "outputs": [
                {
                    "name": "stdout",
                    "output_type": "stream",
                    "text": [
                        "(7972,) (85003,) (63779,)\n",
                        "(1993,) (21251,) (15945,)\n",
                        "(9965,) (106254,) (114226,)\n",
                        "(7048,) (71293,) (66273,)\n"
                    ]
                }
            ],
            "source": [
                "print(\n",
                "    Y_train[Y_train == 0].shape,\n",
                "    Y_train[Y_train == 1].shape,\n",
                "    Y_train[Y_train == 2].shape,\n",
                ")\n",
                "print(Y_val[Y_val == 0].shape, Y_val[Y_val == 1].shape, Y_val[Y_val == 2].shape)\n",
                "print(Y_test[Y_test == 0].shape, Y_test[Y_test == 1].shape, Y_test[Y_test == 2].shape)\n",
                "print(\n",
                "    Y_holdout[Y_holdout == 0].shape,\n",
                "    Y_holdout[Y_holdout == 1].shape,\n",
                "    Y_holdout[Y_holdout == 2].shape,\n",
                ")"
            ]
        },
        {
            "cell_type": "code",
            "execution_count": 18,
            "id": "99dc42ca",
            "metadata": {},
            "outputs": [],
            "source": [
                "# reset indexes for all dataframes\n",
                "X_train.reset_index(drop=True, inplace=True)\n",
                "X_val.reset_index(drop=True, inplace=True)\n",
                "X_test.reset_index(drop=True, inplace=True)\n",
                "X_holdout.reset_index(drop=True, inplace=True)\n",
                "\n",
                "Y_train.reset_index(drop=True, inplace=True)\n",
                "Y_val.reset_index(drop=True, inplace=True)\n",
                "Y_test.reset_index(drop=True, inplace=True)\n",
                "Y_holdout.reset_index(drop=True, inplace=True)"
            ]
        },
        {
            "cell_type": "code",
            "execution_count": 19,
            "id": "91c0f8c0",
            "metadata": {},
            "outputs": [
                {
                    "name": "stdout",
                    "output_type": "stream",
                    "text": [
                        "(156754, 1251) (39189, 1251) (230445, 1251) (144614, 1251)\n",
                        "(156754,) (39189,) (230445,) (144614,)\n"
                    ]
                }
            ],
            "source": [
                "print(X_train.shape, X_val.shape, X_test.shape, X_holdout.shape)\n",
                "print(Y_train.shape, Y_val.shape, Y_test.shape, Y_holdout.shape)"
            ]
        },
        {
            "cell_type": "markdown",
            "id": "4dfa9d10",
            "metadata": {
                "papermill": {
                    "duration": null,
                    "end_time": null,
                    "exception": null,
                    "start_time": null,
                    "status": "completed"
                },
                "tags": []
            },
            "source": [
                "#### Split Data - All Models can proceed through this point"
            ]
        },
        {
            "cell_type": "code",
            "execution_count": 20,
            "id": "aa28922f",
            "metadata": {
                "execution": {
                    "iopub.execute_input": "2023-08-18T18:02:26.214603Z",
                    "iopub.status.busy": "2023-08-18T18:02:26.214181Z",
                    "iopub.status.idle": "2023-08-18T18:02:26.355468Z",
                    "shell.execute_reply": "2023-08-18T18:02:26.354945Z"
                },
                "papermill": {
                    "duration": null,
                    "end_time": null,
                    "exception": null,
                    "start_time": null,
                    "status": "completed"
                },
                "tags": []
            },
            "outputs": [],
            "source": [
                "# produce data objects for train, val and test datasets\n",
                "train_data = Dataset_formatter(\n",
                "    torch.FloatTensor(X_train.values), torch.FloatTensor(Y_train.values)\n",
                ")\n",
                "val_data = Dataset_formatter(\n",
                "    torch.FloatTensor(X_val.values), torch.FloatTensor(Y_val.values)\n",
                ")\n",
                "test_data = Dataset_formatter(\n",
                "    torch.FloatTensor(X_test.values), torch.FloatTensor(Y_test.values)\n",
                ")"
            ]
        },
        {
            "cell_type": "code",
            "execution_count": 21,
            "id": "7c628ee1",
            "metadata": {
                "execution": {
                    "iopub.execute_input": "2023-08-18T18:02:26.368928Z",
                    "iopub.status.busy": "2023-08-18T18:02:26.368608Z",
                    "iopub.status.idle": "2023-08-18T18:02:26.374145Z",
                    "shell.execute_reply": "2023-08-18T18:02:26.373695Z"
                },
                "papermill": {
                    "duration": null,
                    "end_time": null,
                    "exception": null,
                    "start_time": null,
                    "status": "completed"
                },
                "tags": []
            },
            "outputs": [
                {
                    "name": "stdout",
                    "output_type": "stream",
                    "text": [
                        "Number of in features:  1251\n",
                        "Number of out features:  3\n",
                        "Multi_Class\n"
                    ]
                }
            ],
            "source": [
                "mlp_params.IN_FEATURES = X_train.shape[1]\n",
                "print(\"Number of in features: \", mlp_params.IN_FEATURES)\n",
                "if mlp_params.MODEL_TYPE == \"Regression\":\n",
                "    mlp_params.OUT_FEATURES = 1\n",
                "else:\n",
                "    mlp_params.OUT_FEATURES = len(df_values[\"labels\"].unique())\n",
                "\n",
                "print(\"Number of out features: \", mlp_params.OUT_FEATURES)\n",
                "\n",
                "if mlp_params.OUT_FEATURES > 2:\n",
                "    mlp_params.MODEL_TYPE = \"Multi_Class\"\n",
                "elif mlp_params.OUT_FEATURES == 2:\n",
                "    mlp_params.OUT_FEATURES = mlp_params.OUT_FEATURES - 1\n",
                "    mlp_params.MODEL_TYPE = \"Binary_Classification\"\n",
                "elif mlp_params.OUT_FEATURES == 1:\n",
                "    mlp_params.MODEL_TYPE = \"Regression\"\n",
                "else:\n",
                "    pass\n",
                "print(mlp_params.MODEL_TYPE)"
            ]
        },
        {
            "cell_type": "code",
            "execution_count": 22,
            "id": "35e3c505",
            "metadata": {
                "execution": {
                    "iopub.execute_input": "2023-08-18T18:02:26.386004Z",
                    "iopub.status.busy": "2023-08-18T18:02:26.385649Z",
                    "iopub.status.idle": "2023-08-18T18:02:26.388855Z",
                    "shell.execute_reply": "2023-08-18T18:02:26.388450Z"
                },
                "papermill": {
                    "duration": null,
                    "end_time": null,
                    "exception": null,
                    "start_time": null,
                    "status": "completed"
                },
                "tags": []
            },
            "outputs": [],
            "source": [
                "# convert data class into a dataloader to be compatible with pytorch\n",
                "train_loader = torch.utils.data.DataLoader(\n",
                "    dataset=train_data, batch_size=mlp_params.BATCH_SIZE, shuffle=mlp_params.SHUFFLE\n",
                ")\n",
                "valid_loader = torch.utils.data.DataLoader(\n",
                "    dataset=val_data, batch_size=mlp_params.BATCH_SIZE, shuffle=mlp_params.SHUFFLE\n",
                ")\n",
                "test_loader = torch.utils.data.DataLoader(\n",
                "    dataset=test_data, batch_size=1, shuffle=mlp_params.SHUFFLE\n",
                ")"
            ]
        },
        {
            "cell_type": "code",
            "execution_count": 23,
            "id": "4ab763c4",
            "metadata": {
                "execution": {
                    "iopub.execute_input": "2023-08-18T18:02:26.400664Z",
                    "iopub.status.busy": "2023-08-18T18:02:26.400329Z",
                    "iopub.status.idle": "2023-08-18T18:07:21.469351Z",
                    "shell.execute_reply": "2023-08-18T18:07:21.468771Z"
                },
                "papermill": {
                    "duration": null,
                    "end_time": null,
                    "exception": null,
                    "start_time": null,
                    "status": "completed"
                },
                "tags": []
            },
            "outputs": [
                {
                    "name": "stdout",
                    "output_type": "stream",
                    "text": [
                        "SGD\n",
                        "Epoch 0: Validation loss decreased (inf --> 0.614940).  Saving model ...\n",
                        "\t Train_Loss: 0.6693 Train_Acc: 68.740 Val_Loss: 0.6149  BEST VAL Loss: 0.6149  Val_Acc: 70.385\n",
                        "\n",
                        "Epoch 1: Validation loss decreased (0.614940 --> 0.604309).  Saving model ...\n",
                        "\t Train_Loss: 0.6440 Train_Acc: 70.727 Val_Loss: 0.6043  BEST VAL Loss: 0.6043  Val_Acc: 71.683\n",
                        "\n",
                        "Epoch 2: Validation loss did not decrease\n",
                        "\t Train_Loss: 0.6284 Train_Acc: 71.681 Val_Loss: 0.6076  BEST VAL Loss: 0.6043  Val_Acc: 70.675\n",
                        "\n",
                        "Epoch 3: Validation loss decreased (0.604309 --> 0.599380).  Saving model ...\n",
                        "\t Train_Loss: 0.6174 Train_Acc: 72.463 Val_Loss: 0.5994  BEST VAL Loss: 0.5994  Val_Acc: 72.138\n",
                        "\n",
                        "Epoch 4: Validation loss decreased (0.599380 --> 0.593276).  Saving model ...\n",
                        "\t Train_Loss: 0.6089 Train_Acc: 72.664 Val_Loss: 0.5933  BEST VAL Loss: 0.5933  Val_Acc: 73.516\n",
                        "\n",
                        "Epoch 5: Validation loss decreased (0.593276 --> 0.586853).  Saving model ...\n",
                        "\t Train_Loss: 0.6014 Train_Acc: 73.146 Val_Loss: 0.5869  BEST VAL Loss: 0.5869  Val_Acc: 74.082\n",
                        "\n",
                        "Epoch 6: Validation loss decreased (0.586853 --> 0.582366).  Saving model ...\n",
                        "\t Train_Loss: 0.5954 Train_Acc: 73.409 Val_Loss: 0.5824  BEST VAL Loss: 0.5824  Val_Acc: 73.931\n",
                        "\n",
                        "Epoch 7: Validation loss decreased (0.582366 --> 0.579378).  Saving model ...\n",
                        "\t Train_Loss: 0.5897 Train_Acc: 73.811 Val_Loss: 0.5794  BEST VAL Loss: 0.5794  Val_Acc: 74.238\n",
                        "\n",
                        "Epoch 8: Validation loss decreased (0.579378 --> 0.578077).  Saving model ...\n",
                        "\t Train_Loss: 0.5851 Train_Acc: 73.895 Val_Loss: 0.5781  BEST VAL Loss: 0.5781  Val_Acc: 73.541\n",
                        "\n",
                        "Epoch 9: Validation loss decreased (0.578077 --> 0.577136).  Saving model ...\n",
                        "\t Train_Loss: 0.5808 Train_Acc: 74.266 Val_Loss: 0.5771  BEST VAL Loss: 0.5771  Val_Acc: 73.449\n",
                        "\n",
                        "Epoch 10: Validation loss decreased (0.577136 --> 0.575879).  Saving model ...\n",
                        "\t Train_Loss: 0.5769 Train_Acc: 74.415 Val_Loss: 0.5759  BEST VAL Loss: 0.5759  Val_Acc: 74.768\n",
                        "\n",
                        "Epoch 11: Validation loss decreased (0.575879 --> 0.573360).  Saving model ...\n",
                        "\t Train_Loss: 0.5733 Train_Acc: 74.604 Val_Loss: 0.5734  BEST VAL Loss: 0.5734  Val_Acc: 74.677\n",
                        "\n",
                        "Epoch 12: Validation loss decreased (0.573360 --> 0.571459).  Saving model ...\n",
                        "\t Train_Loss: 0.5699 Train_Acc: 74.901 Val_Loss: 0.5715  BEST VAL Loss: 0.5715  Val_Acc: 74.386\n",
                        "\n",
                        "Epoch 13: Validation loss decreased (0.571459 --> 0.570862).  Saving model ...\n",
                        "\t Train_Loss: 0.5668 Train_Acc: 74.910 Val_Loss: 0.5709  BEST VAL Loss: 0.5709  Val_Acc: 74.416\n",
                        "\n",
                        "Epoch 14: Validation loss decreased (0.570862 --> 0.569732).  Saving model ...\n",
                        "\t Train_Loss: 0.5641 Train_Acc: 75.199 Val_Loss: 0.5697  BEST VAL Loss: 0.5697  Val_Acc: 74.595\n",
                        "\n",
                        "Epoch 15: Validation loss did not decrease\n",
                        "\t Train_Loss: 0.5616 Train_Acc: 75.212 Val_Loss: 0.5700  BEST VAL Loss: 0.5697  Val_Acc: 71.737\n",
                        "\n",
                        "Epoch 16: Validation loss decreased (0.569732 --> 0.568479).  Saving model ...\n",
                        "\t Train_Loss: 0.5592 Train_Acc: 75.144 Val_Loss: 0.5685  BEST VAL Loss: 0.5685  Val_Acc: 74.830\n",
                        "\n",
                        "Epoch 17: Validation loss decreased (0.568479 --> 0.567418).  Saving model ...\n",
                        "\t Train_Loss: 0.5569 Train_Acc: 75.319 Val_Loss: 0.5674  BEST VAL Loss: 0.5674  Val_Acc: 74.424\n",
                        "\n",
                        "Epoch 18: Validation loss decreased (0.567418 --> 0.566618).  Saving model ...\n",
                        "\t Train_Loss: 0.5548 Train_Acc: 75.544 Val_Loss: 0.5666  BEST VAL Loss: 0.5666  Val_Acc: 74.909\n",
                        "\n",
                        "Epoch 19: Validation loss decreased (0.566618 --> 0.566000).  Saving model ...\n",
                        "\t Train_Loss: 0.5527 Train_Acc: 75.581 Val_Loss: 0.5660  BEST VAL Loss: 0.5660  Val_Acc: 74.322\n",
                        "\n",
                        "Epoch 20: Validation loss decreased (0.566000 --> 0.565791).  Saving model ...\n",
                        "\t Train_Loss: 0.5508 Train_Acc: 75.685 Val_Loss: 0.5658  BEST VAL Loss: 0.5658  Val_Acc: 74.970\n",
                        "\n",
                        "Epoch 21: Validation loss decreased (0.565791 --> 0.565524).  Saving model ...\n",
                        "\t Train_Loss: 0.5489 Train_Acc: 75.890 Val_Loss: 0.5655  BEST VAL Loss: 0.5655  Val_Acc: 73.735\n",
                        "\n",
                        "Epoch 22: Validation loss decreased (0.565524 --> 0.564510).  Saving model ...\n",
                        "\t Train_Loss: 0.5471 Train_Acc: 75.850 Val_Loss: 0.5645  BEST VAL Loss: 0.5645  Val_Acc: 74.791\n",
                        "\n",
                        "Epoch 23: Validation loss decreased (0.564510 --> 0.563835).  Saving model ...\n",
                        "\t Train_Loss: 0.5454 Train_Acc: 75.813 Val_Loss: 0.5638  BEST VAL Loss: 0.5638  Val_Acc: 74.967\n",
                        "\n",
                        "Epoch 24: Validation loss decreased (0.563835 --> 0.563251).  Saving model ...\n",
                        "\t Train_Loss: 0.5438 Train_Acc: 76.003 Val_Loss: 0.5633  BEST VAL Loss: 0.5633  Val_Acc: 74.539\n",
                        "\n",
                        "Epoch 25: Validation loss decreased (0.563251 --> 0.562749).  Saving model ...\n",
                        "\t Train_Loss: 0.5422 Train_Acc: 76.043 Val_Loss: 0.5627  BEST VAL Loss: 0.5627  Val_Acc: 74.929\n",
                        "\n",
                        "Epoch 26: Validation loss decreased (0.562749 --> 0.562547).  Saving model ...\n",
                        "\t Train_Loss: 0.5407 Train_Acc: 76.177 Val_Loss: 0.5625  BEST VAL Loss: 0.5625  Val_Acc: 74.768\n",
                        "\n",
                        "Epoch 27: Validation loss decreased (0.562547 --> 0.562494).  Saving model ...\n",
                        "\t Train_Loss: 0.5393 Train_Acc: 76.011 Val_Loss: 0.5625  BEST VAL Loss: 0.5625  Val_Acc: 73.056\n",
                        "\n",
                        "Epoch 28: Validation loss decreased (0.562494 --> 0.561789).  Saving model ...\n",
                        "\t Train_Loss: 0.5380 Train_Acc: 76.216 Val_Loss: 0.5618  BEST VAL Loss: 0.5618  Val_Acc: 75.093\n",
                        "\n",
                        "Epoch 29: Validation loss decreased (0.561789 --> 0.561273).  Saving model ...\n",
                        "\t Train_Loss: 0.5366 Train_Acc: 76.286 Val_Loss: 0.5613  BEST VAL Loss: 0.5613  Val_Acc: 74.952\n",
                        "\n",
                        "Epoch 30: Validation loss decreased (0.561273 --> 0.561032).  Saving model ...\n",
                        "\t Train_Loss: 0.5353 Train_Acc: 76.410 Val_Loss: 0.5610  BEST VAL Loss: 0.5610  Val_Acc: 75.006\n",
                        "\n",
                        "Epoch 31: Validation loss decreased (0.561032 --> 0.560606).  Saving model ...\n",
                        "\t Train_Loss: 0.5341 Train_Acc: 76.502 Val_Loss: 0.5606  BEST VAL Loss: 0.5606  Val_Acc: 75.064\n",
                        "\n",
                        "Epoch 32: Validation loss decreased (0.560606 --> 0.560289).  Saving model ...\n",
                        "\t Train_Loss: 0.5329 Train_Acc: 76.429 Val_Loss: 0.5603  BEST VAL Loss: 0.5603  Val_Acc: 75.113\n",
                        "\n",
                        "Epoch 33: Validation loss decreased (0.560289 --> 0.559784).  Saving model ...\n",
                        "\t Train_Loss: 0.5318 Train_Acc: 76.457 Val_Loss: 0.5598  BEST VAL Loss: 0.5598  Val_Acc: 75.679\n",
                        "\n",
                        "Epoch 34: Validation loss decreased (0.559784 --> 0.559469).  Saving model ...\n",
                        "\t Train_Loss: 0.5307 Train_Acc: 76.689 Val_Loss: 0.5595  BEST VAL Loss: 0.5595  Val_Acc: 75.070\n",
                        "\n",
                        "Epoch 35: Validation loss decreased (0.559469 --> 0.559320).  Saving model ...\n",
                        "\t Train_Loss: 0.5295 Train_Acc: 76.627 Val_Loss: 0.5593  BEST VAL Loss: 0.5593  Val_Acc: 75.144\n",
                        "\n",
                        "Epoch 36: Validation loss decreased (0.559320 --> 0.559240).  Saving model ...\n",
                        "\t Train_Loss: 0.5284 Train_Acc: 76.843 Val_Loss: 0.5592  BEST VAL Loss: 0.5592  Val_Acc: 75.144\n",
                        "\n",
                        "Epoch 37: Validation loss decreased (0.559240 --> 0.559198).  Saving model ...\n",
                        "\t Train_Loss: 0.5274 Train_Acc: 76.644 Val_Loss: 0.5592  BEST VAL Loss: 0.5592  Val_Acc: 75.452\n",
                        "\n",
                        "Epoch 38: Validation loss decreased (0.559198 --> 0.559069).  Saving model ...\n",
                        "\t Train_Loss: 0.5264 Train_Acc: 76.743 Val_Loss: 0.5591  BEST VAL Loss: 0.5591  Val_Acc: 75.383\n",
                        "\n",
                        "Epoch 39: Validation loss decreased (0.559069 --> 0.558767).  Saving model ...\n",
                        "\t Train_Loss: 0.5255 Train_Acc: 76.722 Val_Loss: 0.5588  BEST VAL Loss: 0.5588  Val_Acc: 75.345\n",
                        "\n",
                        "Epoch 40: Validation loss did not decrease\n",
                        "\t Train_Loss: 0.5245 Train_Acc: 76.847 Val_Loss: 0.5591  BEST VAL Loss: 0.5588  Val_Acc: 74.335\n",
                        "\n",
                        "Epoch 41: Validation loss did not decrease\n",
                        "\t Train_Loss: 0.5237 Train_Acc: 76.741 Val_Loss: 0.5589  BEST VAL Loss: 0.5588  Val_Acc: 75.131\n",
                        "\n",
                        "Epoch 42: Validation loss decreased (0.558767 --> 0.558620).  Saving model ...\n",
                        "\t Train_Loss: 0.5228 Train_Acc: 76.935 Val_Loss: 0.5586  BEST VAL Loss: 0.5586  Val_Acc: 75.401\n",
                        "\n",
                        "Epoch 43: Validation loss decreased (0.558620 --> 0.558595).  Saving model ...\n",
                        "\t Train_Loss: 0.5219 Train_Acc: 76.984 Val_Loss: 0.5586  BEST VAL Loss: 0.5586  Val_Acc: 74.352\n",
                        "\n",
                        "Epoch 44: Validation loss did not decrease\n",
                        "\t Train_Loss: 0.5211 Train_Acc: 76.969 Val_Loss: 0.5586  BEST VAL Loss: 0.5586  Val_Acc: 74.845\n",
                        "\n",
                        "Epoch 45: Validation loss decreased (0.558595 --> 0.558545).  Saving model ...\n",
                        "\t Train_Loss: 0.5202 Train_Acc: 77.130 Val_Loss: 0.5585  BEST VAL Loss: 0.5585  Val_Acc: 75.340\n",
                        "\n",
                        "Epoch 46: Validation loss decreased (0.558545 --> 0.558513).  Saving model ...\n",
                        "\t Train_Loss: 0.5194 Train_Acc: 76.978 Val_Loss: 0.5585  BEST VAL Loss: 0.5585  Val_Acc: 75.052\n",
                        "\n",
                        "Epoch 47: Validation loss decreased (0.558513 --> 0.558477).  Saving model ...\n",
                        "\t Train_Loss: 0.5186 Train_Acc: 77.120 Val_Loss: 0.5585  BEST VAL Loss: 0.5585  Val_Acc: 74.863\n",
                        "\n",
                        "Epoch 48: Validation loss did not decrease\n",
                        "\t Train_Loss: 0.5178 Train_Acc: 77.183 Val_Loss: 0.5585  BEST VAL Loss: 0.5585  Val_Acc: 74.753\n",
                        "\n",
                        "Epoch 49: Validation loss decreased (0.558477 --> 0.558189).  Saving model ...\n",
                        "\t Train_Loss: 0.5171 Train_Acc: 77.145 Val_Loss: 0.5582  BEST VAL Loss: 0.5582  Val_Acc: 75.488\n",
                        "\n",
                        "Epoch 50: Validation loss did not decrease\n",
                        "\t Train_Loss: 0.5163 Train_Acc: 77.269 Val_Loss: 0.5585  BEST VAL Loss: 0.5582  Val_Acc: 75.582\n",
                        "\n",
                        "Epoch 51: Validation loss did not decrease\n",
                        "\t Train_Loss: 0.5156 Train_Acc: 77.292 Val_Loss: 0.5588  BEST VAL Loss: 0.5582  Val_Acc: 75.468\n",
                        "\n",
                        "Epoch 52: Validation loss did not decrease\n",
                        "\t Train_Loss: 0.5149 Train_Acc: 77.195 Val_Loss: 0.5585  BEST VAL Loss: 0.5582  Val_Acc: 75.054\n",
                        "\n",
                        "Epoch 53: Validation loss did not decrease\n",
                        "\t Train_Loss: 0.5142 Train_Acc: 77.396 Val_Loss: 0.5588  BEST VAL Loss: 0.5582  Val_Acc: 74.238\n",
                        "\n",
                        "Epoch 54: Validation loss did not decrease\n",
                        "\t Train_Loss: 0.5135 Train_Acc: 77.326 Val_Loss: 0.5588  BEST VAL Loss: 0.5582  Val_Acc: 75.225\n",
                        "\n",
                        "Epoch 55: Validation loss did not decrease\n",
                        "\t Train_Loss: 0.5129 Train_Acc: 77.430 Val_Loss: 0.5587  BEST VAL Loss: 0.5582  Val_Acc: 75.715\n",
                        "\n",
                        "Epoch 56: Validation loss did not decrease\n",
                        "\t Train_Loss: 0.5122 Train_Acc: 77.435 Val_Loss: 0.5587  BEST VAL Loss: 0.5582  Val_Acc: 75.248\n",
                        "\n",
                        "Epoch 57: Validation loss did not decrease\n",
                        "\t Train_Loss: 0.5116 Train_Acc: 77.449 Val_Loss: 0.5587  BEST VAL Loss: 0.5582  Val_Acc: 75.480\n",
                        "\n",
                        "Epoch 58: Validation loss did not decrease\n",
                        "\t Train_Loss: 0.5110 Train_Acc: 77.346 Val_Loss: 0.5586  BEST VAL Loss: 0.5582  Val_Acc: 75.501\n",
                        "\n",
                        "Epoch 59: Validation loss did not decrease\n",
                        "\t Train_Loss: 0.5104 Train_Acc: 77.429 Val_Loss: 0.5585  BEST VAL Loss: 0.5582  Val_Acc: 75.628\n",
                        "\n",
                        "Epoch 60: Validation loss did not decrease\n",
                        "\t Train_Loss: 0.5097 Train_Acc: 77.491 Val_Loss: 0.5586  BEST VAL Loss: 0.5582  Val_Acc: 75.713\n",
                        "\n",
                        "Epoch 61: Validation loss did not decrease\n",
                        "\t Train_Loss: 0.5092 Train_Acc: 77.405 Val_Loss: 0.5587  BEST VAL Loss: 0.5582  Val_Acc: 74.301\n",
                        "\n",
                        "Epoch 62: Validation loss did not decrease\n",
                        "\t Train_Loss: 0.5086 Train_Acc: 77.518 Val_Loss: 0.5588  BEST VAL Loss: 0.5582  Val_Acc: 75.613\n",
                        "\n",
                        "Epoch 63: Validation loss did not decrease\n",
                        "\t Train_Loss: 0.5080 Train_Acc: 77.608 Val_Loss: 0.5589  BEST VAL Loss: 0.5582  Val_Acc: 75.340\n",
                        "\n",
                        "Epoch 64: Validation loss did not decrease\n",
                        "\t Train_Loss: 0.5075 Train_Acc: 77.681 Val_Loss: 0.5588  BEST VAL Loss: 0.5582  Val_Acc: 75.133\n",
                        "\n",
                        "Epoch 65: Validation loss did not decrease\n",
                        "Early stopped at epoch : 65\n"
                    ]
                }
            ],
            "source": [
                "# call the optimized training model\n",
                "train_loss, train_acc, valid_loss, valid_acc, epochs_ran, model = train_optimized_model(\n",
                "    mlp_params.TRAIN_EPOCHS,\n",
                "    train_loader,\n",
                "    valid_loader,\n",
                "    params,\n",
                "    mlp_params.MODEL_NAME,\n",
                "    mlp_params.SHUFFLE,\n",
                "    class_weights=class_weights,\n",
                ")\n",
                "# get training_metrics\n",
                "if mlp_params.MODEL_TYPE == \"Regression\":\n",
                "    training_stats = pd.DataFrame(\n",
                "        zip(train_loss, valid_loss, epochs_ran),\n",
                "        columns=[\"train_loss\", \"valid_loss\", \"epochs_ran\"],\n",
                "    )\n",
                "else:\n",
                "    training_stats = pd.DataFrame(\n",
                "        zip(train_loss, train_acc, valid_loss, valid_acc, epochs_ran),\n",
                "        columns=[\"train_loss\", \"train_acc\", \"valid_loss\", \"valid_acc\", \"epochs_ran\"],\n",
                "    )"
            ]
        },
        {
            "cell_type": "code",
            "execution_count": 24,
            "id": "3d5115e3",
            "metadata": {
                "execution": {
                    "iopub.execute_input": "2023-08-18T18:07:21.496512Z",
                    "iopub.status.busy": "2023-08-18T18:07:21.495991Z",
                    "iopub.status.idle": "2023-08-18T18:07:21.532582Z",
                    "shell.execute_reply": "2023-08-18T18:07:21.532113Z"
                },
                "papermill": {
                    "duration": null,
                    "end_time": null,
                    "exception": null,
                    "start_time": null,
                    "status": "completed"
                },
                "tags": []
            },
            "outputs": [
                {
                    "data": {
                        "text/html": [
                            "<div>\n",
                            "<style scoped>\n",
                            "    .dataframe tbody tr th:only-of-type {\n",
                            "        vertical-align: middle;\n",
                            "    }\n",
                            "\n",
                            "    .dataframe tbody tr th {\n",
                            "        vertical-align: top;\n",
                            "    }\n",
                            "\n",
                            "    .dataframe thead th {\n",
                            "        text-align: right;\n",
                            "    }\n",
                            "</style>\n",
                            "<table border=\"1\" class=\"dataframe\">\n",
                            "  <thead>\n",
                            "    <tr style=\"text-align: right;\">\n",
                            "      <th></th>\n",
                            "      <th>label</th>\n",
                            "      <th>metric</th>\n",
                            "      <th>value</th>\n",
                            "      <th>group</th>\n",
                            "      <th>shuffled_data</th>\n",
                            "    </tr>\n",
                            "  </thead>\n",
                            "  <tbody>\n",
                            "  </tbody>\n",
                            "</table>\n",
                            "</div>"
                        ],
                        "text/plain": [
                            "Empty DataFrame\n",
                            "Columns: [label, metric, value, group, shuffled_data]\n",
                            "Index: []"
                        ]
                    },
                    "execution_count": 24,
                    "metadata": {},
                    "output_type": "execute_result"
                }
            ],
            "source": [
                "# create a dataframe to store the model stats\n",
                "model_stats_df = pd.DataFrame(\n",
                "    columns=[\n",
                "        \"label\",\n",
                "        \"metric\",\n",
                "        \"value\",\n",
                "        \"group\",\n",
                "        \"shuffled_data\",\n",
                "    ]\n",
                ")\n",
                "# check empty dataframe\n",
                "model_stats_df"
            ]
        },
        {
            "cell_type": "code",
            "execution_count": 25,
            "id": "d4f283d4",
            "metadata": {
                "execution": {
                    "iopub.execute_input": "2023-08-18T18:07:21.560470Z",
                    "iopub.status.busy": "2023-08-18T18:07:21.559840Z",
                    "iopub.status.idle": "2023-08-18T18:07:22.063995Z",
                    "shell.execute_reply": "2023-08-18T18:07:22.063372Z"
                },
                "papermill": {
                    "duration": null,
                    "end_time": null,
                    "exception": null,
                    "start_time": null,
                    "status": "completed"
                },
                "tags": []
            },
            "outputs": [
                {
                    "name": "stderr",
                    "output_type": "stream",
                    "text": [
                        "/home/lippincm/Documents/ML/Interstellar_Analysis/4.sc_Morphology_Neural_Network_MLP_Model/1.model_training/notebooks/../../MLP_utils/utils.py:1015: UserWarning: Ignoring `palette` because no `hue` variable has been assigned.\n",
                        "  sns.lineplot(x=df[x], y=df[y1], palette=\"blue\", label=\"Train\")\n",
                        "/home/lippincm/Documents/ML/Interstellar_Analysis/4.sc_Morphology_Neural_Network_MLP_Model/1.model_training/notebooks/../../MLP_utils/utils.py:1016: UserWarning: Ignoring `palette` because no `hue` variable has been assigned.\n",
                        "  sns.lineplot(x=df[x], y=df[y2], palette=\"orange\", label=\"Validation\")\n"
                    ]
                },
                {
                    "data": {
                        "image/png": "[encoded data removed]",
                        "text/plain": [
                            "<Figure size 640x480 with 1 Axes>"
                        ]
                    },
                    "metadata": {},
                    "output_type": "display_data"
                }
            ],
            "source": [
                "if mlp_params.MODEL_TYPE == \"Regression\":\n",
                "    pass\n",
                "else:\n",
                "    plot_metric_vs_epoch(\n",
                "        training_stats,\n",
                "        x=\"epochs_ran\",\n",
                "        y1=\"train_acc\",\n",
                "        y2=\"valid_acc\",\n",
                "        title=\"Accuracy vs. Epochs\",\n",
                "        x_axis_label=\"Epochs\",\n",
                "        y_axis_label=\"Accuracy\",\n",
                "        params=params,\n",
                "        model_name=mlp_params.MODEL_NAME,\n",
                "        shuffle=mlp_params.SHUFFLE,\n",
                "    )"
            ]
        },
        {
            "cell_type": "code",
            "execution_count": 26,
            "id": "5e491e00",
            "metadata": {
                "execution": {
                    "iopub.execute_input": "2023-08-18T18:07:22.097974Z",
                    "iopub.status.busy": "2023-08-18T18:07:22.097445Z",
                    "iopub.status.idle": "2023-08-18T18:07:22.396234Z",
                    "shell.execute_reply": "2023-08-18T18:07:22.395649Z"
                },
                "papermill": {
                    "duration": null,
                    "end_time": null,
                    "exception": null,
                    "start_time": null,
                    "status": "completed"
                },
                "tags": []
            },
            "outputs": [
                {
                    "name": "stderr",
                    "output_type": "stream",
                    "text": [
                        "/home/lippincm/Documents/ML/Interstellar_Analysis/4.sc_Morphology_Neural_Network_MLP_Model/1.model_training/notebooks/../../MLP_utils/utils.py:1015: UserWarning: Ignoring `palette` because no `hue` variable has been assigned.\n",
                        "  sns.lineplot(x=df[x], y=df[y1], palette=\"blue\", label=\"Train\")\n",
                        "/home/lippincm/Documents/ML/Interstellar_Analysis/4.sc_Morphology_Neural_Network_MLP_Model/1.model_training/notebooks/../../MLP_utils/utils.py:1016: UserWarning: Ignoring `palette` because no `hue` variable has been assigned.\n",
                        "  sns.lineplot(x=df[x], y=df[y2], palette=\"orange\", label=\"Validation\")\n"
                    ]
                },
                {
                    "data": {
                        "image/png": "[encoded data removed]",
                        "text/plain": [
                            "<Figure size 640x480 with 1 Axes>"
                        ]
                    },
                    "metadata": {},
                    "output_type": "display_data"
                }
            ],
            "source": [
                "plot_metric_vs_epoch(\n",
                "    training_stats,\n",
                "    x=\"epochs_ran\",\n",
                "    y1=\"train_loss\",\n",
                "    y2=\"valid_loss\",\n",
                "    title=\"Loss vs. Epochs\",\n",
                "    x_axis_label=\"Epochs\",\n",
                "    y_axis_label=\"Loss\",\n",
                "    params=params,\n",
                "    model_name=mlp_params.MODEL_NAME,\n",
                "    shuffle=mlp_params.SHUFFLE,\n",
                ")"
            ]
        },
        {
            "cell_type": "markdown",
            "id": "1d6993ae",
            "metadata": {},
            "source": [
                "### Test Models on training data"
            ]
        },
        {
            "cell_type": "code",
            "execution_count": 27,
            "id": "9c595792",
            "metadata": {
                "execution": {
                    "iopub.execute_input": "2023-08-18T18:07:22.431650Z",
                    "iopub.status.busy": "2023-08-18T18:07:22.431265Z",
                    "iopub.status.idle": "2023-08-18T18:07:25.400014Z",
                    "shell.execute_reply": "2023-08-18T18:07:25.399178Z"
                },
                "papermill": {
                    "duration": null,
                    "end_time": null,
                    "exception": null,
                    "start_time": null,
                    "status": "completed"
                },
                "tags": []
            },
            "outputs": [
                {
                    "name": "stdout",
                    "output_type": "stream",
                    "text": [
                        "MultiClass_MLP_h202_remove_shuffle\n"
                    ]
                }
            ],
            "source": [
                "# test the model on training data\n",
                "# calling the testing function and outputting list values of tested model\n",
                "if any(\n",
                "    model_type == mlp_params.MODEL_TYPE for model_type in [\"Multi_Class\", \"Regression\"]\n",
                "):\n",
                "    y_pred_list = test_optimized_model(\n",
                "        model,\n",
                "        train_loader,\n",
                "        mlp_params,\n",
                "        model_name=mlp_params.MODEL_NAME,\n",
                "        shuffle=mlp_params.SHUFFLE,\n",
                "    )\n",
                "elif mlp_params.MODEL_TYPE == \"Binary_Classification\":\n",
                "    y_pred_list, y_pred_prob_list = test_optimized_model(\n",
                "        model,\n",
                "        train_loader,\n",
                "        mlp_params,\n",
                "        model_name=mlp_params.MODEL_NAME,\n",
                "        shuffle=mlp_params.SHUFFLE,\n",
                "    )\n",
                "else:\n",
                "    raise Exception(\"Model type must be specified for proper model testing\")\n",
                "\n",
                "# un-nest list if nested i.e. length of input data does not match length of output data\n",
                "if len(y_pred_list) != len(Y_test):\n",
                "    y_pred_list = un_nest(y_pred_list)\n",
                "    if mlp_params.MODEL_TYPE == \"Binary_Classification\":\n",
                "        y_pred_prob_list = un_nest(y_pred_prob_list)\n",
                "else:\n",
                "    pass"
            ]
        },
        {
            "cell_type": "code",
            "execution_count": 28,
            "id": "4b269c1d",
            "metadata": {
                "execution": {
                    "iopub.execute_input": "2023-08-18T18:07:25.452781Z",
                    "iopub.status.busy": "2023-08-18T18:07:25.452411Z",
                    "iopub.status.idle": "2023-08-18T18:07:28.834781Z",
                    "shell.execute_reply": "2023-08-18T18:07:28.833953Z"
                },
                "papermill": {
                    "duration": null,
                    "end_time": null,
                    "exception": null,
                    "start_time": null,
                    "status": "completed"
                },
                "tags": []
            },
            "outputs": [
                {
                    "name": "stdout",
                    "output_type": "stream",
                    "text": [
                        "              precision    recall  f1-score   support\n",
                        "\n",
                        "           0       0.05      0.05      0.05      7972\n",
                        "           1       0.54      0.58      0.56     85003\n",
                        "           2       0.41      0.36      0.38     63779\n",
                        "\n",
                        "    accuracy                           0.47    156754\n",
                        "   macro avg       0.33      0.33      0.33    156754\n",
                        "weighted avg       0.46      0.47      0.46    156754\n",
                        "\n"
                    ]
                },
                {
                    "name": "stderr",
                    "output_type": "stream",
                    "text": [
                        "/tmp/ipykernel_3284708/3705935474.py:18: SettingWithCopyWarning: \n",
                        "A value is trying to be set on a copy of a slice from a DataFrame.\n",
                        "Try using .loc[row_indexer,col_indexer] = value instead\n",
                        "\n",
                        "See the caveats in the documentation: https://pandas.pydata.org/pandas-docs/stable/user_guide/indexing.html#returning-a-view-versus-a-copy\n",
                        "  df_labels[\"new_labels\"] = df_labels[\"new_labels\"].astype(str)\n"
                    ]
                }
            ],
            "source": [
                "stats_df = output_stats(\n",
                "    y_pred_list,\n",
                "    Y_train,\n",
                "    mlp_params,\n",
                "    test_name=f\"{mlp_params.MODEL_NAME}_train\",\n",
                "    model_name=mlp_params.MODEL_NAME,\n",
                "    title=mlp_params.MODEL_NAME,\n",
                "    shuffle=mlp_params.SHUFFLE,\n",
                ")\n",
                "# make into a dataframe\n",
                "stats_df = pd.DataFrame.from_dict(stats_df).transpose()\n",
                "stats_df.reset_index(inplace=True)\n",
                "stats_df.rename(columns={\"index\": \"label\"}, inplace=True)\n",
                "stats_df = stats_df.melt(id_vars=[\"label\"], var_name=\"metric\", value_name=\"value\")\n",
                "# if accuracy in row of column 1 then change value of column 2 to accuracy\n",
                "stats_df.loc[stats_df[\"label\"] == \"accuracy\", \"metric\"] = \"accuracy\"\n",
                "# create a decoder dictionary from df_labels\n",
                "df_labels[\"new_labels\"] = df_labels[\"new_labels\"].astype(str)\n",
                "decoder = df_labels.set_index(\"new_labels\").to_dict()[\"labels\"]\n",
                "decoder[\"accuracy\"] = \"accuracy\"\n",
                "decoder[\"macro avg\"] = \"macro avg\"\n",
                "decoder[\"weighted avg\"] = \"weighted avg\"\n",
                "stats_df[\"label\"] = stats_df[\"label\"].map(decoder)"
            ]
        },
        {
            "cell_type": "code",
            "execution_count": 29,
            "id": "fdde3d70",
            "metadata": {
                "execution": {
                    "iopub.execute_input": "2023-08-18T18:07:28.885930Z",
                    "iopub.status.busy": "2023-08-18T18:07:28.885661Z",
                    "iopub.status.idle": "2023-08-18T18:07:28.904686Z",
                    "shell.execute_reply": "2023-08-18T18:07:28.904041Z"
                },
                "papermill": {
                    "duration": null,
                    "end_time": null,
                    "exception": null,
                    "start_time": null,
                    "status": "completed"
                },
                "tags": []
            },
            "outputs": [],
            "source": [
                "stats_df[\"group\"] = \"train\"\n",
                "stats_df[\"shuffled_data\"] = mlp_params.SHUFFLE\n",
                "stats_df\n",
                "model_stats_df = pd.concat([model_stats_df, stats_df], axis=0)"
            ]
        },
        {
            "cell_type": "markdown",
            "id": "dd00a92e",
            "metadata": {},
            "source": [
                "### Test models on Validation data"
            ]
        },
        {
            "cell_type": "code",
            "execution_count": 30,
            "id": "52b5399f",
            "metadata": {
                "execution": {
                    "iopub.execute_input": "2023-08-18T18:07:28.939348Z",
                    "iopub.status.busy": "2023-08-18T18:07:28.938980Z",
                    "iopub.status.idle": "2023-08-18T18:07:29.285555Z",
                    "shell.execute_reply": "2023-08-18T18:07:29.285024Z"
                },
                "papermill": {
                    "duration": null,
                    "end_time": null,
                    "exception": null,
                    "start_time": null,
                    "status": "completed"
                },
                "tags": []
            },
            "outputs": [
                {
                    "name": "stdout",
                    "output_type": "stream",
                    "text": [
                        "MultiClass_MLP_h202_remove_shuffle\n"
                    ]
                }
            ],
            "source": [
                "# test the model on training data\n",
                "# calling the testing function and outputting list values of tested model\n",
                "if any(\n",
                "    model_type == mlp_params.MODEL_TYPE for model_type in [\"Multi_Class\", \"Regression\"]\n",
                "):\n",
                "    y_pred_list = test_optimized_model(\n",
                "        model,\n",
                "        valid_loader,\n",
                "        mlp_params,\n",
                "        model_name=mlp_params.MODEL_NAME,\n",
                "        shuffle=mlp_params.SHUFFLE,\n",
                "    )\n",
                "elif mlp_params.MODEL_TYPE == \"Binary_Classification\":\n",
                "    y_pred_list, y_pred_prob_list = test_optimized_model(\n",
                "        model,\n",
                "        valid_loader,\n",
                "        mlp_params,\n",
                "        model_name=mlp_params.MODEL_NAME,\n",
                "        shuffle=mlp_params.SHUFFLE,\n",
                "    )\n",
                "else:\n",
                "    raise Exception(\"Model type must be specified for proper model testing\")\n",
                "\n",
                "# un-nest list if nested i.e. length of input data does not match length of output data\n",
                "if len(y_pred_list) != len(Y_test):\n",
                "    y_pred_list = un_nest(y_pred_list)\n",
                "    if mlp_params.MODEL_TYPE == \"Binary_Classification\":\n",
                "        y_pred_prob_list = un_nest(y_pred_prob_list)\n",
                "else:\n",
                "    pass"
            ]
        },
        {
            "cell_type": "code",
            "execution_count": 31,
            "id": "444b8e3e",
            "metadata": {
                "execution": {
                    "iopub.execute_input": "2023-08-18T18:07:29.341721Z",
                    "iopub.status.busy": "2023-08-18T18:07:29.341405Z",
                    "iopub.status.idle": "2023-08-18T18:07:29.553197Z",
                    "shell.execute_reply": "2023-08-18T18:07:29.552613Z"
                },
                "papermill": {
                    "duration": null,
                    "end_time": null,
                    "exception": null,
                    "start_time": null,
                    "status": "completed"
                },
                "tags": []
            },
            "outputs": [
                {
                    "name": "stdout",
                    "output_type": "stream",
                    "text": [
                        "              precision    recall  f1-score   support\n",
                        "\n",
                        "           0       0.05      0.06      0.05      1993\n",
                        "           1       0.54      0.59      0.56     21251\n",
                        "           2       0.41      0.36      0.38     15945\n",
                        "\n",
                        "    accuracy                           0.47     39189\n",
                        "   macro avg       0.33      0.33      0.33     39189\n",
                        "weighted avg       0.46      0.47      0.46     39189\n",
                        "\n"
                    ]
                },
                {
                    "name": "stderr",
                    "output_type": "stream",
                    "text": [
                        "/tmp/ipykernel_3284708/603564049.py:18: SettingWithCopyWarning: \n",
                        "A value is trying to be set on a copy of a slice from a DataFrame.\n",
                        "Try using .loc[row_indexer,col_indexer] = value instead\n",
                        "\n",
                        "See the caveats in the documentation: https://pandas.pydata.org/pandas-docs/stable/user_guide/indexing.html#returning-a-view-versus-a-copy\n",
                        "  df_labels[\"new_labels\"] = df_labels[\"new_labels\"].astype(str)\n"
                    ]
                }
            ],
            "source": [
                "stats_df = output_stats(\n",
                "    y_pred_list,\n",
                "    Y_val,\n",
                "    mlp_params,\n",
                "    test_name=f\"{mlp_params.MODEL_NAME}_train\",\n",
                "    model_name=mlp_params.MODEL_NAME,\n",
                "    title=mlp_params.MODEL_NAME,\n",
                "    shuffle=mlp_params.SHUFFLE,\n",
                ")\n",
                "# make into a dataframe\n",
                "stats_df = pd.DataFrame.from_dict(stats_df).transpose()\n",
                "stats_df.reset_index(inplace=True)\n",
                "stats_df.rename(columns={\"index\": \"label\"}, inplace=True)\n",
                "stats_df = stats_df.melt(id_vars=[\"label\"], var_name=\"metric\", value_name=\"value\")\n",
                "# if accuracy in row of column 1 then change value of column 2 to accuracy\n",
                "stats_df.loc[stats_df[\"label\"] == \"accuracy\", \"metric\"] = \"accuracy\"\n",
                "# create a decoder dictionary from df_labels\n",
                "df_labels[\"new_labels\"] = df_labels[\"new_labels\"].astype(str)\n",
                "decoder = df_labels.set_index(\"new_labels\").to_dict()[\"labels\"]\n",
                "decoder[\"accuracy\"] = \"accuracy\"\n",
                "decoder[\"macro avg\"] = \"macro avg\"\n",
                "decoder[\"weighted avg\"] = \"weighted avg\"\n",
                "stats_df[\"label\"] = stats_df[\"label\"].map(decoder)"
            ]
        },
        {
            "cell_type": "code",
            "execution_count": 32,
            "id": "2573e7a6",
            "metadata": {
                "execution": {
                    "iopub.execute_input": "2023-08-18T18:07:29.574980Z",
                    "iopub.status.busy": "2023-08-18T18:07:29.574587Z",
                    "iopub.status.idle": "2023-08-18T18:07:29.592044Z",
                    "shell.execute_reply": "2023-08-18T18:07:29.591512Z"
                },
                "papermill": {
                    "duration": null,
                    "end_time": null,
                    "exception": null,
                    "start_time": null,
                    "status": "completed"
                },
                "tags": []
            },
            "outputs": [
                {
                    "name": "stderr",
                    "output_type": "stream",
                    "text": [
                        "/tmp/ipykernel_3284708/1865218578.py:4: FutureWarning: In a future version, object-dtype columns with all-bool values will not be included in reductions with bool_only=True. Explicitly cast to bool dtype instead.\n",
                        "  model_stats_df = pd.concat([model_stats_df, stats_df], axis=0)\n"
                    ]
                }
            ],
            "source": [
                "stats_df[\"group\"] = \"validation\"\n",
                "stats_df[\"shuffled_data\"] = mlp_params.SHUFFLE\n",
                "\n",
                "model_stats_df = pd.concat([model_stats_df, stats_df], axis=0)"
            ]
        },
        {
            "cell_type": "code",
            "execution_count": 33,
            "id": "f179b14f",
            "metadata": {
                "execution": {
                    "iopub.execute_input": "2023-08-18T18:07:29.614554Z",
                    "iopub.status.busy": "2023-08-18T18:07:29.614173Z",
                    "iopub.status.idle": "2023-08-18T18:07:29.617863Z",
                    "shell.execute_reply": "2023-08-18T18:07:29.617415Z"
                },
                "papermill": {
                    "duration": null,
                    "end_time": null,
                    "exception": null,
                    "start_time": null,
                    "status": "completed"
                },
                "tags": []
            },
            "outputs": [
                {
                    "data": {
                        "text/plain": [
                            "'MultiClass_MLP_h202_remove'"
                        ]
                    },
                    "execution_count": 33,
                    "metadata": {},
                    "output_type": "execute_result"
                }
            ],
            "source": [
                "mlp_params.MODEL_NAME"
            ]
        },
        {
            "cell_type": "markdown",
            "id": "b1a18529",
            "metadata": {},
            "source": [
                "### Testing on the test data"
            ]
        },
        {
            "cell_type": "code",
            "execution_count": 34,
            "id": "5b5e76f8",
            "metadata": {},
            "outputs": [],
            "source": [
                "# create a dataframe to store the model confusion matrix\n",
                "data_split_conf_mat_df_all = pd.DataFrame(\n",
                "    columns=[\"True_Label\", \"Predicted_Label\", \"Count\", \"data_split\", \"Recall\"]\n",
                ")"
            ]
        },
        {
            "cell_type": "code",
            "execution_count": 35,
            "id": "d30cef39",
            "metadata": {
                "execution": {
                    "iopub.execute_input": "2023-08-18T18:07:29.639335Z",
                    "iopub.status.busy": "2023-08-18T18:07:29.638900Z",
                    "iopub.status.idle": "2023-08-18T18:07:33.734569Z",
                    "shell.execute_reply": "2023-08-18T18:07:33.734048Z"
                },
                "papermill": {
                    "duration": null,
                    "end_time": null,
                    "exception": null,
                    "start_time": null,
                    "status": "completed"
                },
                "tags": []
            },
            "outputs": [
                {
                    "name": "stdout",
                    "output_type": "stream",
                    "text": [
                        "MultiClass_MLP_h202_remove_shuffle\n"
                    ]
                }
            ],
            "source": [
                "# calling the testing function and outputting list values of tested model\n",
                "if any(\n",
                "    model_type == mlp_params.MODEL_TYPE for model_type in [\"Multi_Class\", \"Regression\"]\n",
                "):\n",
                "    y_pred_list = test_optimized_model(\n",
                "        model,\n",
                "        test_loader,\n",
                "        params,\n",
                "        model_name=mlp_params.MODEL_NAME,\n",
                "        shuffle=mlp_params.SHUFFLE,\n",
                "    )\n",
                "elif mlp_params.MODEL_TYPE == \"Binary_Classification\":\n",
                "    y_pred_list, y_pred_prob_list = test_optimized_model(\n",
                "        model,\n",
                "        test_loader,\n",
                "        params,\n",
                "        model_name=mlp_params.MODEL_NAME,\n",
                "        shuffle=mlp_params.SHUFFLE,\n",
                "    )\n",
                "else:\n",
                "    raise Exception(\"Model type must be specified for proper model testing\")\n",
                "\n",
                "\n",
                "# un-nest list if nested i.e. length of input data does not match length of output data\n",
                "if len(y_pred_list) != len(Y_test):\n",
                "    y_pred_list = un_nest(y_pred_list)\n",
                "    if mlp_params.MODEL_TYPE == \"Binary_Classification\":\n",
                "        y_pred_prob_list = un_nest(y_pred_prob_list)\n",
                "else:\n",
                "    pass"
            ]
        },
        {
            "cell_type": "code",
            "execution_count": 36,
            "id": "ba2c00bd",
            "metadata": {
                "execution": {
                    "iopub.execute_input": "2023-08-18T18:07:33.760660Z",
                    "iopub.status.busy": "2023-08-18T18:07:33.760204Z",
                    "iopub.status.idle": "2023-08-18T18:07:34.366964Z",
                    "shell.execute_reply": "2023-08-18T18:07:34.366542Z"
                },
                "papermill": {
                    "duration": null,
                    "end_time": null,
                    "exception": null,
                    "start_time": null,
                    "status": "completed"
                },
                "tags": []
            },
            "outputs": [
                {
                    "name": "stdout",
                    "output_type": "stream",
                    "text": [
                        "              precision    recall  f1-score   support\n",
                        "\n",
                        "           0       0.05      0.05      0.05      9965\n",
                        "           1       0.46      0.56      0.51    106254\n",
                        "           2       0.50      0.39      0.44    114226\n",
                        "\n",
                        "    accuracy                           0.45    230445\n",
                        "   macro avg       0.33      0.33      0.33    230445\n",
                        "weighted avg       0.46      0.45      0.45    230445\n",
                        "\n",
                        "Precision for class 0: 0.048692839816728055\n",
                        "Recall for class 0: 0.05439036628198696\n",
                        "Precision for class 1: 0.46016389272196057\n",
                        "Recall for class 1: 0.5617859092363582\n",
                        "Precision for class 2: 0.4950164629722641\n",
                        "Recall for class 2: 0.38827412322938737\n",
                        "3\n"
                    ]
                },
                {
                    "data": {
                        "image/png": "[encoded data removed]",
                        "text/plain": [
                            "<Figure size 640x480 with 2 Axes>"
                        ]
                    },
                    "metadata": {},
                    "output_type": "display_data"
                },
                {
                    "data": {
                        "image/png": "[encoded data removed]",
                        "text/plain": [
                            "<Figure size 640x480 with 1 Axes>"
                        ]
                    },
                    "metadata": {},
                    "output_type": "display_data"
                }
            ],
            "source": [
                "# Call visualization function\n",
                "# calling the testing function and outputing list values of tested model\n",
                "if any(\n",
                "    model_type == mlp_params.MODEL_TYPE for model_type in [\"Multi_Class\", \"Regression\"]\n",
                "):\n",
                "    confusion_matrix_df = results_output(\n",
                "        y_pred_list,\n",
                "        Y_test,\n",
                "        params,\n",
                "        test_name=f\"{mlp_params.MODEL_NAME}_testing\",\n",
                "        model_name=mlp_params.MODEL_NAME,\n",
                "        title=mlp_params.MODEL_NAME,\n",
                "        shuffle=mlp_params.SHUFFLE,\n",
                "    )\n",
                "elif mlp_params.MODEL_TYPE == \"Binary_Classification\":\n",
                "    results_output(\n",
                "        y_pred_list,\n",
                "        Y_test,\n",
                "        params,\n",
                "        y_pred_prob_list,\n",
                "        test_name=f\"{mlp_params.MODEL_NAME}_testing\",\n",
                "        model_name=mlp_params.MODEL_NAME,\n",
                "        title=mlp_params.MODEL_NAME,\n",
                "        shuffle=mlp_params.SHUFFLE,\n",
                "    )\n",
                "else:\n",
                "    raise Exception(\"Model type must be specified for proper model testing\")"
            ]
        },
        {
            "cell_type": "code",
            "execution_count": 37,
            "id": "7d74124b",
            "metadata": {},
            "outputs": [],
            "source": [
                "# rename columns from the decoder dictionary\n",
                "confusion_matrix_df.rename(\n",
                "    columns={0: \"apoptosis\", 1: \"healthy\", 2: \"pyroptosis\"}, inplace=True\n",
                ")\n",
                "confusion_matrix_df.rename(\n",
                "    index={0: \"apoptosis\", 1: \"healthy\", 2: \"pyroptosis\"}, inplace=True\n",
                ")"
            ]
        },
        {
            "cell_type": "code",
            "execution_count": 38,
            "metadata": {},
            "outputs": [
                {
                    "data": {
                        "text/html": [
                            "<div>\n",
                            "<style scoped>\n",
                            "    .dataframe tbody tr th:only-of-type {\n",
                            "        vertical-align: middle;\n",
                            "    }\n",
                            "\n",
                            "    .dataframe tbody tr th {\n",
                            "        vertical-align: top;\n",
                            "    }\n",
                            "\n",
                            "    .dataframe thead th {\n",
                            "        text-align: right;\n",
                            "    }\n",
                            "</style>\n",
                            "<table border=\"1\" class=\"dataframe\">\n",
                            "  <thead>\n",
                            "    <tr style=\"text-align: right;\">\n",
                            "      <th></th>\n",
                            "      <th>apoptosis</th>\n",
                            "      <th>healthy</th>\n",
                            "      <th>pyroptosis</th>\n",
                            "    </tr>\n",
                            "  </thead>\n",
                            "  <tbody>\n",
                            "    <tr>\n",
                            "      <th>apoptosis</th>\n",
                            "      <td>542</td>\n",
                            "      <td>5603</td>\n",
                            "      <td>3820</td>\n",
                            "    </tr>\n",
                            "    <tr>\n",
                            "      <th>healthy</th>\n",
                            "      <td>5138</td>\n",
                            "      <td>59692</td>\n",
                            "      <td>41424</td>\n",
                            "    </tr>\n",
                            "    <tr>\n",
                            "      <th>pyroptosis</th>\n",
                            "      <td>5451</td>\n",
                            "      <td>64424</td>\n",
                            "      <td>44351</td>\n",
                            "    </tr>\n",
                            "  </tbody>\n",
                            "</table>\n",
                            "</div>"
                        ],
                        "text/plain": [
                            "            apoptosis  healthy  pyroptosis\n",
                            "apoptosis         542     5603        3820\n",
                            "healthy          5138    59692       41424\n",
                            "pyroptosis       5451    64424       44351"
                        ]
                    },
                    "execution_count": 38,
                    "metadata": {},
                    "output_type": "execute_result"
                }
            ],
            "source": [
                "confusion_matrix_df"
            ]
        },
        {
            "cell_type": "code",
            "execution_count": 39,
            "id": "a570c014",
            "metadata": {},
            "outputs": [],
            "source": [
                "confusion_matrices = confusion_matrix_df.reset_index()\n",
                "# melt the DataFrame to a long format\n",
                "confusion_matrices = pd.melt(\n",
                "    confusion_matrices,\n",
                "    id_vars=[\"index\"],\n",
                "    value_vars=[\"healthy\", \"apoptosis\", \"pyroptosis\"],\n",
                ")\n",
                "\n",
                "# rename the columns\n",
                "confusion_matrices.columns = [\"True_Label\", \"Predicted_Label\", \"Count\"]\n",
                "confusion_matrices[\"data_split\"] = \"testing\"\n",
                "# sum of the columns of the confusion matrix gives the total number of samples per class\n",
                "sum_of_columns = confusion_matrix_df.sum(axis=0)"
            ]
        },
        {
            "cell_type": "code",
            "execution_count": 40,
            "metadata": {},
            "outputs": [
                {
                    "data": {
                        "text/html": [
                            "<div>\n",
                            "<style scoped>\n",
                            "    .dataframe tbody tr th:only-of-type {\n",
                            "        vertical-align: middle;\n",
                            "    }\n",
                            "\n",
                            "    .dataframe tbody tr th {\n",
                            "        vertical-align: top;\n",
                            "    }\n",
                            "\n",
                            "    .dataframe thead th {\n",
                            "        text-align: right;\n",
                            "    }\n",
                            "</style>\n",
                            "<table border=\"1\" class=\"dataframe\">\n",
                            "  <thead>\n",
                            "    <tr style=\"text-align: right;\">\n",
                            "      <th></th>\n",
                            "      <th>True_Label</th>\n",
                            "      <th>Predicted_Label</th>\n",
                            "      <th>Count</th>\n",
                            "      <th>data_split</th>\n",
                            "    </tr>\n",
                            "  </thead>\n",
                            "  <tbody>\n",
                            "    <tr>\n",
                            "      <th>0</th>\n",
                            "      <td>apoptosis</td>\n",
                            "      <td>healthy</td>\n",
                            "      <td>5603</td>\n",
                            "      <td>testing</td>\n",
                            "    </tr>\n",
                            "    <tr>\n",
                            "      <th>1</th>\n",
                            "      <td>healthy</td>\n",
                            "      <td>healthy</td>\n",
                            "      <td>59692</td>\n",
                            "      <td>testing</td>\n",
                            "    </tr>\n",
                            "    <tr>\n",
                            "      <th>2</th>\n",
                            "      <td>pyroptosis</td>\n",
                            "      <td>healthy</td>\n",
                            "      <td>64424</td>\n",
                            "      <td>testing</td>\n",
                            "    </tr>\n",
                            "    <tr>\n",
                            "      <th>3</th>\n",
                            "      <td>apoptosis</td>\n",
                            "      <td>apoptosis</td>\n",
                            "      <td>542</td>\n",
                            "      <td>testing</td>\n",
                            "    </tr>\n",
                            "    <tr>\n",
                            "      <th>4</th>\n",
                            "      <td>healthy</td>\n",
                            "      <td>apoptosis</td>\n",
                            "      <td>5138</td>\n",
                            "      <td>testing</td>\n",
                            "    </tr>\n",
                            "    <tr>\n",
                            "      <th>5</th>\n",
                            "      <td>pyroptosis</td>\n",
                            "      <td>apoptosis</td>\n",
                            "      <td>5451</td>\n",
                            "      <td>testing</td>\n",
                            "    </tr>\n",
                            "    <tr>\n",
                            "      <th>6</th>\n",
                            "      <td>apoptosis</td>\n",
                            "      <td>pyroptosis</td>\n",
                            "      <td>3820</td>\n",
                            "      <td>testing</td>\n",
                            "    </tr>\n",
                            "    <tr>\n",
                            "      <th>7</th>\n",
                            "      <td>healthy</td>\n",
                            "      <td>pyroptosis</td>\n",
                            "      <td>41424</td>\n",
                            "      <td>testing</td>\n",
                            "    </tr>\n",
                            "    <tr>\n",
                            "      <th>8</th>\n",
                            "      <td>pyroptosis</td>\n",
                            "      <td>pyroptosis</td>\n",
                            "      <td>44351</td>\n",
                            "      <td>testing</td>\n",
                            "    </tr>\n",
                            "  </tbody>\n",
                            "</table>\n",
                            "</div>"
                        ],
                        "text/plain": [
                            "   True_Label Predicted_Label  Count data_split\n",
                            "0   apoptosis         healthy   5603    testing\n",
                            "1     healthy         healthy  59692    testing\n",
                            "2  pyroptosis         healthy  64424    testing\n",
                            "3   apoptosis       apoptosis    542    testing\n",
                            "4     healthy       apoptosis   5138    testing\n",
                            "5  pyroptosis       apoptosis   5451    testing\n",
                            "6   apoptosis      pyroptosis   3820    testing\n",
                            "7     healthy      pyroptosis  41424    testing\n",
                            "8  pyroptosis      pyroptosis  44351    testing"
                        ]
                    },
                    "execution_count": 40,
                    "metadata": {},
                    "output_type": "execute_result"
                }
            ],
            "source": [
                "confusion_matrices"
            ]
        },
        {
            "cell_type": "code",
            "execution_count": 41,
            "id": "09c57815",
            "metadata": {},
            "outputs": [],
            "source": [
                "# normalize confusion matrix\n",
                "# get the sum of each column to normalize the confusion matrix by the total number of samples per class\n",
                "\n",
                "# divide the apotosis column by the sum of the apotosis column\n",
                "confusion_matrix_df[\"apoptosis\"] = confusion_matrix_df[\"apoptosis\"] / sum_of_columns[0]\n",
                "# divide the healthy column by the sum of the healthy column\n",
                "confusion_matrix_df[\"healthy\"] = confusion_matrix_df[\"healthy\"] / sum_of_columns[1]\n",
                "# divide the pyroptosis column by the sum of the pyroptosis column\n",
                "confusion_matrix_df[\"pyroptosis\"] = (\n",
                "    confusion_matrix_df[\"pyroptosis\"] / sum_of_columns[2]\n",
                ")"
            ]
        },
        {
            "cell_type": "code",
            "execution_count": 42,
            "metadata": {},
            "outputs": [
                {
                    "data": {
                        "text/html": [
                            "<div>\n",
                            "<style scoped>\n",
                            "    .dataframe tbody tr th:only-of-type {\n",
                            "        vertical-align: middle;\n",
                            "    }\n",
                            "\n",
                            "    .dataframe tbody tr th {\n",
                            "        vertical-align: top;\n",
                            "    }\n",
                            "\n",
                            "    .dataframe thead th {\n",
                            "        text-align: right;\n",
                            "    }\n",
                            "</style>\n",
                            "<table border=\"1\" class=\"dataframe\">\n",
                            "  <thead>\n",
                            "    <tr style=\"text-align: right;\">\n",
                            "      <th></th>\n",
                            "      <th>apoptosis</th>\n",
                            "      <th>healthy</th>\n",
                            "      <th>pyroptosis</th>\n",
                            "    </tr>\n",
                            "  </thead>\n",
                            "  <tbody>\n",
                            "    <tr>\n",
                            "      <th>apoptosis</th>\n",
                            "      <td>0.048693</td>\n",
                            "      <td>0.043193</td>\n",
                            "      <td>0.042636</td>\n",
                            "    </tr>\n",
                            "    <tr>\n",
                            "      <th>healthy</th>\n",
                            "      <td>0.461594</td>\n",
                            "      <td>0.460164</td>\n",
                            "      <td>0.462347</td>\n",
                            "    </tr>\n",
                            "    <tr>\n",
                            "      <th>pyroptosis</th>\n",
                            "      <td>0.489713</td>\n",
                            "      <td>0.496643</td>\n",
                            "      <td>0.495016</td>\n",
                            "    </tr>\n",
                            "  </tbody>\n",
                            "</table>\n",
                            "</div>"
                        ],
                        "text/plain": [
                            "            apoptosis   healthy  pyroptosis\n",
                            "apoptosis    0.048693  0.043193    0.042636\n",
                            "healthy      0.461594  0.460164    0.462347\n",
                            "pyroptosis   0.489713  0.496643    0.495016"
                        ]
                    },
                    "execution_count": 42,
                    "metadata": {},
                    "output_type": "execute_result"
                }
            ],
            "source": [
                "confusion_matrix_df"
            ]
        },
        {
            "cell_type": "code",
            "execution_count": 43,
            "id": "b394f6ad",
            "metadata": {},
            "outputs": [],
            "source": [
                "confusion_matrices_recall = confusion_matrix_df.reset_index()\n",
                "# melt the DataFrame to a long format\n",
                "confusion_matrices_recall = pd.melt(\n",
                "    confusion_matrices_recall,\n",
                "    id_vars=[\"index\"],\n",
                "    value_vars=[\"healthy\", \"apoptosis\", \"pyroptosis\"],\n",
                ")\n",
                "\n",
                "# rename the columns\n",
                "confusion_matrices_recall.columns = [\"True_Label\", \"Predicted_Label\", \"Count\"]\n",
                "confusion_matrices_recall[\"data_split\"] = \"testing\"\n",
                "confusion_matrices_recall.rename(columns={\"Count\": \"Recall\"}, inplace=True)\n",
                "data_split_conf_mat_df = pd.merge(\n",
                "    confusion_matrices,\n",
                "    confusion_matrices_recall,\n",
                "    on=[\"True_Label\", \"Predicted_Label\", \"data_split\"],\n",
                ")\n",
                "data_split_conf_mat_df[\"shuffled_data\"] = mlp_params.SHUFFLE\n",
                "data_split_conf_mat_df_all = pd.concat(\n",
                "    [data_split_conf_mat_df_all, data_split_conf_mat_df], axis=0\n",
                ")"
            ]
        },
        {
            "cell_type": "code",
            "execution_count": 44,
            "id": "d40e590c",
            "metadata": {},
            "outputs": [
                {
                    "data": {
                        "text/html": [
                            "<div>\n",
                            "<style scoped>\n",
                            "    .dataframe tbody tr th:only-of-type {\n",
                            "        vertical-align: middle;\n",
                            "    }\n",
                            "\n",
                            "    .dataframe tbody tr th {\n",
                            "        vertical-align: top;\n",
                            "    }\n",
                            "\n",
                            "    .dataframe thead th {\n",
                            "        text-align: right;\n",
                            "    }\n",
                            "</style>\n",
                            "<table border=\"1\" class=\"dataframe\">\n",
                            "  <thead>\n",
                            "    <tr style=\"text-align: right;\">\n",
                            "      <th></th>\n",
                            "      <th>True_Label</th>\n",
                            "      <th>Predicted_Label</th>\n",
                            "      <th>Count</th>\n",
                            "      <th>data_split</th>\n",
                            "      <th>Recall</th>\n",
                            "      <th>shuffled_data</th>\n",
                            "    </tr>\n",
                            "  </thead>\n",
                            "  <tbody>\n",
                            "    <tr>\n",
                            "      <th>0</th>\n",
                            "      <td>apoptosis</td>\n",
                            "      <td>healthy</td>\n",
                            "      <td>5603</td>\n",
                            "      <td>testing</td>\n",
                            "      <td>0.043193</td>\n",
                            "      <td>True</td>\n",
                            "    </tr>\n",
                            "    <tr>\n",
                            "      <th>1</th>\n",
                            "      <td>healthy</td>\n",
                            "      <td>healthy</td>\n",
                            "      <td>59692</td>\n",
                            "      <td>testing</td>\n",
                            "      <td>0.460164</td>\n",
                            "      <td>True</td>\n",
                            "    </tr>\n",
                            "    <tr>\n",
                            "      <th>2</th>\n",
                            "      <td>pyroptosis</td>\n",
                            "      <td>healthy</td>\n",
                            "      <td>64424</td>\n",
                            "      <td>testing</td>\n",
                            "      <td>0.496643</td>\n",
                            "      <td>True</td>\n",
                            "    </tr>\n",
                            "    <tr>\n",
                            "      <th>3</th>\n",
                            "      <td>apoptosis</td>\n",
                            "      <td>apoptosis</td>\n",
                            "      <td>542</td>\n",
                            "      <td>testing</td>\n",
                            "      <td>0.048693</td>\n",
                            "      <td>True</td>\n",
                            "    </tr>\n",
                            "    <tr>\n",
                            "      <th>4</th>\n",
                            "      <td>healthy</td>\n",
                            "      <td>apoptosis</td>\n",
                            "      <td>5138</td>\n",
                            "      <td>testing</td>\n",
                            "      <td>0.461594</td>\n",
                            "      <td>True</td>\n",
                            "    </tr>\n",
                            "    <tr>\n",
                            "      <th>5</th>\n",
                            "      <td>pyroptosis</td>\n",
                            "      <td>apoptosis</td>\n",
                            "      <td>5451</td>\n",
                            "      <td>testing</td>\n",
                            "      <td>0.489713</td>\n",
                            "      <td>True</td>\n",
                            "    </tr>\n",
                            "    <tr>\n",
                            "      <th>6</th>\n",
                            "      <td>apoptosis</td>\n",
                            "      <td>pyroptosis</td>\n",
                            "      <td>3820</td>\n",
                            "      <td>testing</td>\n",
                            "      <td>0.042636</td>\n",
                            "      <td>True</td>\n",
                            "    </tr>\n",
                            "    <tr>\n",
                            "      <th>7</th>\n",
                            "      <td>healthy</td>\n",
                            "      <td>pyroptosis</td>\n",
                            "      <td>41424</td>\n",
                            "      <td>testing</td>\n",
                            "      <td>0.462347</td>\n",
                            "      <td>True</td>\n",
                            "    </tr>\n",
                            "    <tr>\n",
                            "      <th>8</th>\n",
                            "      <td>pyroptosis</td>\n",
                            "      <td>pyroptosis</td>\n",
                            "      <td>44351</td>\n",
                            "      <td>testing</td>\n",
                            "      <td>0.495016</td>\n",
                            "      <td>True</td>\n",
                            "    </tr>\n",
                            "  </tbody>\n",
                            "</table>\n",
                            "</div>"
                        ],
                        "text/plain": [
                            "   True_Label Predicted_Label  Count data_split    Recall shuffled_data\n",
                            "0   apoptosis         healthy   5603    testing  0.043193          True\n",
                            "1     healthy         healthy  59692    testing  0.460164          True\n",
                            "2  pyroptosis         healthy  64424    testing  0.496643          True\n",
                            "3   apoptosis       apoptosis    542    testing  0.048693          True\n",
                            "4     healthy       apoptosis   5138    testing  0.461594          True\n",
                            "5  pyroptosis       apoptosis   5451    testing  0.489713          True\n",
                            "6   apoptosis      pyroptosis   3820    testing  0.042636          True\n",
                            "7     healthy      pyroptosis  41424    testing  0.462347          True\n",
                            "8  pyroptosis      pyroptosis  44351    testing  0.495016          True"
                        ]
                    },
                    "execution_count": 44,
                    "metadata": {},
                    "output_type": "execute_result"
                }
            ],
            "source": [
                "data_split_conf_mat_df_all"
            ]
        },
        {
            "cell_type": "code",
            "execution_count": 45,
            "id": "1ff8a8fd",
            "metadata": {},
            "outputs": [
                {
                    "data": {
                        "image/png": "[encoded data removed]",
                        "text/plain": [
                            "<Figure size 640x480 with 2 Axes>"
                        ]
                    },
                    "metadata": {},
                    "output_type": "display_data"
                }
            ],
            "source": [
                "ax = sns.heatmap(confusion_matrix_df, annot=True)\n",
                "ax.invert_xaxis()\n",
                "ax.invert_yaxis()\n",
                "plt.xlabel(\"Actual Values\", size=15)\n",
                "plt.ylabel(\"Predicted Values\", size=15)\n",
                "plt.show()"
            ]
        },
        {
            "cell_type": "code",
            "execution_count": 46,
            "id": "6e9b9cc1",
            "metadata": {
                "execution": {
                    "iopub.execute_input": "2023-08-18T18:07:34.455389Z",
                    "iopub.status.busy": "2023-08-18T18:07:34.455037Z",
                    "iopub.status.idle": "2023-08-18T18:07:34.616814Z",
                    "shell.execute_reply": "2023-08-18T18:07:34.616373Z"
                },
                "papermill": {
                    "duration": null,
                    "end_time": null,
                    "exception": null,
                    "start_time": null,
                    "status": "completed"
                },
                "tags": []
            },
            "outputs": [
                {
                    "name": "stdout",
                    "output_type": "stream",
                    "text": [
                        "              precision    recall  f1-score   support\n",
                        "\n",
                        "           0       0.05      0.05      0.05      9965\n",
                        "           1       0.46      0.56      0.51    106254\n",
                        "           2       0.50      0.39      0.44    114226\n",
                        "\n",
                        "    accuracy                           0.45    230445\n",
                        "   macro avg       0.33      0.33      0.33    230445\n",
                        "weighted avg       0.46      0.45      0.45    230445\n",
                        "\n"
                    ]
                },
                {
                    "name": "stderr",
                    "output_type": "stream",
                    "text": [
                        "/tmp/ipykernel_3284708/2182903883.py:18: SettingWithCopyWarning: \n",
                        "A value is trying to be set on a copy of a slice from a DataFrame.\n",
                        "Try using .loc[row_indexer,col_indexer] = value instead\n",
                        "\n",
                        "See the caveats in the documentation: https://pandas.pydata.org/pandas-docs/stable/user_guide/indexing.html#returning-a-view-versus-a-copy\n",
                        "  df_labels[\"new_labels\"] = df_labels[\"new_labels\"].astype(str)\n"
                    ]
                }
            ],
            "source": [
                "stats_df = output_stats(\n",
                "    y_pred_list,\n",
                "    Y_test,\n",
                "    mlp_params,\n",
                "    test_name=f\"{mlp_params.MODEL_NAME}_train\",\n",
                "    model_name=mlp_params.MODEL_NAME,\n",
                "    title=mlp_params.MODEL_NAME,\n",
                "    shuffle=mlp_params.SHUFFLE,\n",
                ")\n",
                "# make into a dataframe\n",
                "stats_df = pd.DataFrame.from_dict(stats_df).transpose()\n",
                "stats_df.reset_index(inplace=True)\n",
                "stats_df.rename(columns={\"index\": \"label\"}, inplace=True)\n",
                "stats_df = stats_df.melt(id_vars=[\"label\"], var_name=\"metric\", value_name=\"value\")\n",
                "# if accuracy in row of column 1 then change value of column 2 to accuracy\n",
                "stats_df.loc[stats_df[\"label\"] == \"accuracy\", \"metric\"] = \"accuracy\"\n",
                "# create a decoder dictionary from df_labels\n",
                "df_labels[\"new_labels\"] = df_labels[\"new_labels\"].astype(str)\n",
                "decoder = df_labels.set_index(\"new_labels\").to_dict()[\"labels\"]\n",
                "decoder[\"accuracy\"] = \"accuracy\"\n",
                "decoder[\"macro avg\"] = \"macro avg\"\n",
                "decoder[\"weighted avg\"] = \"weighted avg\"\n",
                "stats_df[\"label\"] = stats_df[\"label\"].map(decoder)"
            ]
        },
        {
            "cell_type": "code",
            "execution_count": 47,
            "id": "5e49a4d0",
            "metadata": {
                "execution": {
                    "iopub.execute_input": "2023-08-18T18:07:34.640121Z",
                    "iopub.status.busy": "2023-08-18T18:07:34.639772Z",
                    "iopub.status.idle": "2023-08-18T18:07:34.649248Z",
                    "shell.execute_reply": "2023-08-18T18:07:34.648773Z"
                },
                "papermill": {
                    "duration": null,
                    "end_time": null,
                    "exception": null,
                    "start_time": null,
                    "status": "completed"
                },
                "tags": []
            },
            "outputs": [
                {
                    "name": "stderr",
                    "output_type": "stream",
                    "text": [
                        "/tmp/ipykernel_3284708/1771591469.py:4: FutureWarning: In a future version, object-dtype columns with all-bool values will not be included in reductions with bool_only=True. Explicitly cast to bool dtype instead.\n",
                        "  model_stats_df = pd.concat([model_stats_df, stats_df], axis=0)\n"
                    ]
                }
            ],
            "source": [
                "stats_df[\"group\"] = \"test\"\n",
                "stats_df[\"shuffled_data\"] = mlp_params.SHUFFLE\n",
                "\n",
                "model_stats_df = pd.concat([model_stats_df, stats_df], axis=0)"
            ]
        },
        {
            "cell_type": "markdown",
            "id": "bd07fbb7",
            "metadata": {
                "papermill": {
                    "duration": null,
                    "end_time": null,
                    "exception": null,
                    "start_time": null,
                    "status": "completed"
                },
                "tags": []
            },
            "source": [
                "## Test the hold out wells"
            ]
        },
        {
            "cell_type": "code",
            "execution_count": 48,
            "id": "3c45de2b",
            "metadata": {
                "execution": {
                    "iopub.execute_input": "2023-08-18T18:07:34.913932Z",
                    "iopub.status.busy": "2023-08-18T18:07:34.913660Z",
                    "iopub.status.idle": "2023-08-18T18:07:44.681233Z",
                    "shell.execute_reply": "2023-08-18T18:07:44.680781Z"
                },
                "papermill": {
                    "duration": null,
                    "end_time": null,
                    "exception": null,
                    "start_time": null,
                    "status": "completed"
                },
                "tags": []
            },
            "outputs": [
                {
                    "name": "stdout",
                    "output_type": "stream",
                    "text": [
                        "MultiClass_MLP_h202_remove_shuffle\n",
                        "              precision    recall  f1-score   support\n",
                        "\n",
                        "           0       0.05      0.05      0.05      7048\n",
                        "           1       0.49      0.57      0.53     71293\n",
                        "           2       0.46      0.38      0.41     66273\n",
                        "\n",
                        "    accuracy                           0.46    144614\n",
                        "   macro avg       0.33      0.33      0.33    144614\n",
                        "weighted avg       0.45      0.46      0.45    144614\n",
                        "\n",
                        "Precision for class 0: 0.05112863747620343\n",
                        "Recall for class 0: 0.053348467650397274\n",
                        "Precision for class 1: 0.4928249927402962\n",
                        "Recall for class 1: 0.5713183622515534\n",
                        "Precision for class 2: 0.4568043653409507\n",
                        "Recall for class 2: 0.3764278061955849\n",
                        "3\n"
                    ]
                },
                {
                    "data": {
                        "image/png": "[encoded data removed]",
                        "text/plain": [
                            "<Figure size 640x480 with 2 Axes>"
                        ]
                    },
                    "metadata": {},
                    "output_type": "display_data"
                },
                {
                    "data": {
                        "image/png": "[encoded data removed]",
                        "text/plain": [
                            "<Figure size 640x480 with 1 Axes>"
                        ]
                    },
                    "metadata": {},
                    "output_type": "display_data"
                }
            ],
            "source": [
                "holdout_data = Dataset_formatter(\n",
                "    torch.FloatTensor(X_holdout.values), torch.FloatTensor(Y_holdout.values)\n",
                ")\n",
                "\n",
                "# convert data class into a dataloader to be compatible with pytorch\n",
                "holdout_loader = torch.utils.data.DataLoader(\n",
                "    dataset=holdout_data, batch_size=1, shuffle=mlp_params.SHUFFLE\n",
                ")\n",
                "\n",
                "# calling the testing function and outputting list values of tested model\n",
                "if any(\n",
                "    model_type == mlp_params.MODEL_TYPE for model_type in [\"Multi_Class\", \"Regression\"]\n",
                "):\n",
                "    y_pred_list = test_optimized_model(\n",
                "        model,\n",
                "        holdout_loader,\n",
                "        params,\n",
                "        model_name=mlp_params.MODEL_NAME,\n",
                "        shuffle=mlp_params.SHUFFLE,\n",
                "    )\n",
                "elif mlp_params.MODEL_TYPE == \"Binary_Classification\":\n",
                "    y_pred_list, y_pred_prob_list = test_optimized_model(\n",
                "        model,\n",
                "        holdout_loader,\n",
                "        params,\n",
                "        model_name=mlp_params.MODEL_NAME,\n",
                "        shuffle=mlp_params.SHUFFLE,\n",
                "    )\n",
                "else:\n",
                "    raise Exception(\"Model type must be specified for proper model testing\")\n",
                "\n",
                "# un-nest list if nested i.e. length of input data does not match length of output data\n",
                "if len(y_pred_list) != len(Y_holdout):\n",
                "    y_pred_list = un_nest(y_pred_list)\n",
                "    if mlp_params.MODEL_TYPE == \"Binary_Classification\":\n",
                "        y_pred_prob_list = un_nest(y_pred_prob_list)\n",
                "else:\n",
                "    pass\n",
                "\n",
                "# Call visualization function\n",
                "# calling the testing function and outputing list values of tested model\n",
                "if any(\n",
                "    model_type == mlp_params.MODEL_TYPE for model_type in [\"Multi_Class\", \"Regression\"]\n",
                "):\n",
                "    confusion_matrix_df = results_output(\n",
                "        y_pred_list,\n",
                "        Y_holdout,\n",
                "        params,\n",
                "        test_name=f\"{mlp_params.MODEL_NAME}_hold_out\",\n",
                "        model_name=mlp_params.MODEL_NAME,\n",
                "        title=mlp_params.MODEL_NAME,\n",
                "        shuffle=mlp_params.SHUFFLE,\n",
                "    )\n",
                "elif mlp_params.MODEL_TYPE == \"Binary_Classification\":\n",
                "    results_output(\n",
                "        y_pred_list,\n",
                "        Y_holdout,\n",
                "        params,\n",
                "        y_pred_prob_list,\n",
                "        test_name=f\"{mlp_params.MODEL_NAME}_hold_out\",\n",
                "        model_name=mlp_params.MODEL_NAME,\n",
                "        title=mlp_params.MODEL_NAME,\n",
                "        shuffle=mlp_params.SHUFFLE,\n",
                "    )\n",
                "else:\n",
                "    raise Exception(\"Model type must be specified for proper model testing\")"
            ]
        },
        {
            "cell_type": "code",
            "execution_count": 49,
            "id": "075f1ff0",
            "metadata": {},
            "outputs": [],
            "source": [
                "# rename columns from the decoder dictionary\n",
                "confusion_matrix_df.rename(\n",
                "    columns={0: \"apoptosis\", 1: \"healthy\", 2: \"pyroptosis\"}, inplace=True\n",
                ")\n",
                "# rename index from the decoder dictionary\n",
                "confusion_matrix_df.rename(\n",
                "    index={0: \"apoptosis\", 1: \"healthy\", 2: \"pyroptosis\"}, inplace=True\n",
                ")"
            ]
        },
        {
            "cell_type": "code",
            "execution_count": 50,
            "id": "eb3690d8",
            "metadata": {},
            "outputs": [],
            "source": [
                "confusion_matrices = confusion_matrix_df.reset_index()\n",
                "# melt the DataFrame to a long format\n",
                "confusion_matrices = pd.melt(\n",
                "    confusion_matrices,\n",
                "    id_vars=[\"index\"],\n",
                "    value_vars=[\"healthy\", \"apoptosis\", \"pyroptosis\"],\n",
                ")\n",
                "\n",
                "# rename the columns\n",
                "confusion_matrices.columns = [\"True_Label\", \"Predicted_Label\", \"Count\"]\n",
                "confusion_matrices[\"data_split\"] = \"holdout\"\n",
                "# sum of the columns of the confusion matrix gives the total number of samples per class\n",
                "sum_of_columns = confusion_matrix_df.sum(axis=0)"
            ]
        },
        {
            "cell_type": "code",
            "execution_count": 51,
            "metadata": {},
            "outputs": [
                {
                    "data": {
                        "text/html": [
                            "<div>\n",
                            "<style scoped>\n",
                            "    .dataframe tbody tr th:only-of-type {\n",
                            "        vertical-align: middle;\n",
                            "    }\n",
                            "\n",
                            "    .dataframe tbody tr th {\n",
                            "        vertical-align: top;\n",
                            "    }\n",
                            "\n",
                            "    .dataframe thead th {\n",
                            "        text-align: right;\n",
                            "    }\n",
                            "</style>\n",
                            "<table border=\"1\" class=\"dataframe\">\n",
                            "  <thead>\n",
                            "    <tr style=\"text-align: right;\">\n",
                            "      <th></th>\n",
                            "      <th>True_Label</th>\n",
                            "      <th>Predicted_Label</th>\n",
                            "      <th>Count</th>\n",
                            "      <th>data_split</th>\n",
                            "    </tr>\n",
                            "  </thead>\n",
                            "  <tbody>\n",
                            "    <tr>\n",
                            "      <th>0</th>\n",
                            "      <td>apoptosis</td>\n",
                            "      <td>healthy</td>\n",
                            "      <td>3973</td>\n",
                            "      <td>holdout</td>\n",
                            "    </tr>\n",
                            "    <tr>\n",
                            "      <th>1</th>\n",
                            "      <td>healthy</td>\n",
                            "      <td>healthy</td>\n",
                            "      <td>40731</td>\n",
                            "      <td>holdout</td>\n",
                            "    </tr>\n",
                            "    <tr>\n",
                            "      <th>2</th>\n",
                            "      <td>pyroptosis</td>\n",
                            "      <td>healthy</td>\n",
                            "      <td>37944</td>\n",
                            "      <td>holdout</td>\n",
                            "    </tr>\n",
                            "    <tr>\n",
                            "      <th>3</th>\n",
                            "      <td>apoptosis</td>\n",
                            "      <td>apoptosis</td>\n",
                            "      <td>376</td>\n",
                            "      <td>holdout</td>\n",
                            "    </tr>\n",
                            "    <tr>\n",
                            "      <th>4</th>\n",
                            "      <td>healthy</td>\n",
                            "      <td>apoptosis</td>\n",
                            "      <td>3596</td>\n",
                            "      <td>holdout</td>\n",
                            "    </tr>\n",
                            "    <tr>\n",
                            "      <th>5</th>\n",
                            "      <td>pyroptosis</td>\n",
                            "      <td>apoptosis</td>\n",
                            "      <td>3382</td>\n",
                            "      <td>holdout</td>\n",
                            "    </tr>\n",
                            "    <tr>\n",
                            "      <th>6</th>\n",
                            "      <td>apoptosis</td>\n",
                            "      <td>pyroptosis</td>\n",
                            "      <td>2699</td>\n",
                            "      <td>holdout</td>\n",
                            "    </tr>\n",
                            "    <tr>\n",
                            "      <th>7</th>\n",
                            "      <td>healthy</td>\n",
                            "      <td>pyroptosis</td>\n",
                            "      <td>26966</td>\n",
                            "      <td>holdout</td>\n",
                            "    </tr>\n",
                            "    <tr>\n",
                            "      <th>8</th>\n",
                            "      <td>pyroptosis</td>\n",
                            "      <td>pyroptosis</td>\n",
                            "      <td>24947</td>\n",
                            "      <td>holdout</td>\n",
                            "    </tr>\n",
                            "  </tbody>\n",
                            "</table>\n",
                            "</div>"
                        ],
                        "text/plain": [
                            "   True_Label Predicted_Label  Count data_split\n",
                            "0   apoptosis         healthy   3973    holdout\n",
                            "1     healthy         healthy  40731    holdout\n",
                            "2  pyroptosis         healthy  37944    holdout\n",
                            "3   apoptosis       apoptosis    376    holdout\n",
                            "4     healthy       apoptosis   3596    holdout\n",
                            "5  pyroptosis       apoptosis   3382    holdout\n",
                            "6   apoptosis      pyroptosis   2699    holdout\n",
                            "7     healthy      pyroptosis  26966    holdout\n",
                            "8  pyroptosis      pyroptosis  24947    holdout"
                        ]
                    },
                    "execution_count": 51,
                    "metadata": {},
                    "output_type": "execute_result"
                }
            ],
            "source": [
                "confusion_matrices"
            ]
        },
        {
            "cell_type": "code",
            "execution_count": 52,
            "id": "31d1f6af",
            "metadata": {},
            "outputs": [],
            "source": [
                "# normalize confusion matrix\n",
                "# get the sum of each column to normalize the confusion matrix by the total number of samples per class\n",
                "\n",
                "# divide the apotosis column by the sum of the apotosis column\n",
                "confusion_matrix_df[\"apoptosis\"] = confusion_matrix_df[\"apoptosis\"] / sum_of_columns[0]\n",
                "# divide the healthy column by the sum of the healthy column\n",
                "confusion_matrix_df[\"healthy\"] = confusion_matrix_df[\"healthy\"] / sum_of_columns[1]\n",
                "# divide the pyroptosis column by the sum of the pyroptosis column\n",
                "confusion_matrix_df[\"pyroptosis\"] = (\n",
                "    confusion_matrix_df[\"pyroptosis\"] / sum_of_columns[2]\n",
                ")"
            ]
        },
        {
            "cell_type": "code",
            "execution_count": 53,
            "id": "cfe647ce",
            "metadata": {},
            "outputs": [],
            "source": [
                "# change the order of the columns\n",
                "confusion_matrix_df = confusion_matrix_df[[\"healthy\", \"apoptosis\", \"pyroptosis\"]]\n",
                "# change the order of the index\n",
                "confusion_matrix_df = confusion_matrix_df.reindex(\n",
                "    index=[\"healthy\", \"apoptosis\", \"pyroptosis\"]\n",
                ")"
            ]
        },
        {
            "cell_type": "code",
            "execution_count": 54,
            "id": "001cd8ef",
            "metadata": {},
            "outputs": [
                {
                    "name": "stderr",
                    "output_type": "stream",
                    "text": [
                        "/tmp/ipykernel_3284708/2456365394.py:19: FutureWarning: In a future version, object-dtype columns with all-bool values will not be included in reductions with bool_only=True. Explicitly cast to bool dtype instead.\n",
                        "  data_split_conf_mat_df_all = pd.concat(\n"
                    ]
                }
            ],
            "source": [
                "confusion_matrices_recall = confusion_matrix_df.reset_index()\n",
                "# melt the DataFrame to a long format\n",
                "confusion_matrices_recall = pd.melt(\n",
                "    confusion_matrices_recall,\n",
                "    id_vars=[\"index\"],\n",
                "    value_vars=[\"healthy\", \"apoptosis\", \"pyroptosis\"],\n",
                ")\n",
                "\n",
                "# rename the columns\n",
                "confusion_matrices_recall.columns = [\"True_Label\", \"Predicted_Label\", \"Count\"]\n",
                "confusion_matrices_recall[\"data_split\"] = \"holdout\"\n",
                "confusion_matrices_recall.rename(columns={\"Count\": \"Recall\"}, inplace=True)\n",
                "data_split_conf_mat_df = pd.merge(\n",
                "    confusion_matrices,\n",
                "    confusion_matrices_recall,\n",
                "    on=[\"True_Label\", \"Predicted_Label\", \"data_split\"],\n",
                ")\n",
                "data_split_conf_mat_df[\"shuffled_data\"] = mlp_params.SHUFFLE\n",
                "data_split_conf_mat_df_all = pd.concat(\n",
                "    [data_split_conf_mat_df_all, data_split_conf_mat_df], axis=0\n",
                ")"
            ]
        },
        {
            "cell_type": "code",
            "execution_count": 55,
            "metadata": {},
            "outputs": [
                {
                    "data": {
                        "text/html": [
                            "<div>\n",
                            "<style scoped>\n",
                            "    .dataframe tbody tr th:only-of-type {\n",
                            "        vertical-align: middle;\n",
                            "    }\n",
                            "\n",
                            "    .dataframe tbody tr th {\n",
                            "        vertical-align: top;\n",
                            "    }\n",
                            "\n",
                            "    .dataframe thead th {\n",
                            "        text-align: right;\n",
                            "    }\n",
                            "</style>\n",
                            "<table border=\"1\" class=\"dataframe\">\n",
                            "  <thead>\n",
                            "    <tr style=\"text-align: right;\">\n",
                            "      <th></th>\n",
                            "      <th>True_Label</th>\n",
                            "      <th>Predicted_Label</th>\n",
                            "      <th>Count</th>\n",
                            "      <th>data_split</th>\n",
                            "      <th>Recall</th>\n",
                            "      <th>shuffled_data</th>\n",
                            "    </tr>\n",
                            "  </thead>\n",
                            "  <tbody>\n",
                            "    <tr>\n",
                            "      <th>0</th>\n",
                            "      <td>apoptosis</td>\n",
                            "      <td>healthy</td>\n",
                            "      <td>3973</td>\n",
                            "      <td>holdout</td>\n",
                            "      <td>0.048071</td>\n",
                            "      <td>True</td>\n",
                            "    </tr>\n",
                            "    <tr>\n",
                            "      <th>1</th>\n",
                            "      <td>healthy</td>\n",
                            "      <td>healthy</td>\n",
                            "      <td>40731</td>\n",
                            "      <td>holdout</td>\n",
                            "      <td>0.492825</td>\n",
                            "      <td>True</td>\n",
                            "    </tr>\n",
                            "    <tr>\n",
                            "      <th>2</th>\n",
                            "      <td>pyroptosis</td>\n",
                            "      <td>healthy</td>\n",
                            "      <td>37944</td>\n",
                            "      <td>holdout</td>\n",
                            "      <td>0.459104</td>\n",
                            "      <td>True</td>\n",
                            "    </tr>\n",
                            "    <tr>\n",
                            "      <th>3</th>\n",
                            "      <td>apoptosis</td>\n",
                            "      <td>apoptosis</td>\n",
                            "      <td>376</td>\n",
                            "      <td>holdout</td>\n",
                            "      <td>0.051129</td>\n",
                            "      <td>True</td>\n",
                            "    </tr>\n",
                            "    <tr>\n",
                            "      <th>4</th>\n",
                            "      <td>healthy</td>\n",
                            "      <td>apoptosis</td>\n",
                            "      <td>3596</td>\n",
                            "      <td>holdout</td>\n",
                            "      <td>0.488986</td>\n",
                            "      <td>True</td>\n",
                            "    </tr>\n",
                            "    <tr>\n",
                            "      <th>5</th>\n",
                            "      <td>pyroptosis</td>\n",
                            "      <td>apoptosis</td>\n",
                            "      <td>3382</td>\n",
                            "      <td>holdout</td>\n",
                            "      <td>0.459886</td>\n",
                            "      <td>True</td>\n",
                            "    </tr>\n",
                            "    <tr>\n",
                            "      <th>6</th>\n",
                            "      <td>apoptosis</td>\n",
                            "      <td>pyroptosis</td>\n",
                            "      <td>2699</td>\n",
                            "      <td>holdout</td>\n",
                            "      <td>0.049421</td>\n",
                            "      <td>True</td>\n",
                            "    </tr>\n",
                            "    <tr>\n",
                            "      <th>7</th>\n",
                            "      <td>healthy</td>\n",
                            "      <td>pyroptosis</td>\n",
                            "      <td>26966</td>\n",
                            "      <td>holdout</td>\n",
                            "      <td>0.493774</td>\n",
                            "      <td>True</td>\n",
                            "    </tr>\n",
                            "    <tr>\n",
                            "      <th>8</th>\n",
                            "      <td>pyroptosis</td>\n",
                            "      <td>pyroptosis</td>\n",
                            "      <td>24947</td>\n",
                            "      <td>holdout</td>\n",
                            "      <td>0.456804</td>\n",
                            "      <td>True</td>\n",
                            "    </tr>\n",
                            "  </tbody>\n",
                            "</table>\n",
                            "</div>"
                        ],
                        "text/plain": [
                            "   True_Label Predicted_Label  Count data_split    Recall  shuffled_data\n",
                            "0   apoptosis         healthy   3973    holdout  0.048071           True\n",
                            "1     healthy         healthy  40731    holdout  0.492825           True\n",
                            "2  pyroptosis         healthy  37944    holdout  0.459104           True\n",
                            "3   apoptosis       apoptosis    376    holdout  0.051129           True\n",
                            "4     healthy       apoptosis   3596    holdout  0.488986           True\n",
                            "5  pyroptosis       apoptosis   3382    holdout  0.459886           True\n",
                            "6   apoptosis      pyroptosis   2699    holdout  0.049421           True\n",
                            "7     healthy      pyroptosis  26966    holdout  0.493774           True\n",
                            "8  pyroptosis      pyroptosis  24947    holdout  0.456804           True"
                        ]
                    },
                    "execution_count": 55,
                    "metadata": {},
                    "output_type": "execute_result"
                }
            ],
            "source": [
                "data_split_conf_mat_df"
            ]
        },
        {
            "cell_type": "code",
            "execution_count": 56,
            "id": "7c326b32",
            "metadata": {},
            "outputs": [
                {
                    "data": {
                        "image/png": "[encoded data removed]",
                        "text/plain": [
                            "<Figure size 640x480 with 2 Axes>"
                        ]
                    },
                    "metadata": {},
                    "output_type": "display_data"
                }
            ],
            "source": [
                "ax = sns.heatmap(confusion_matrix_df, annot=True)\n",
                "\n",
                "plt.xlabel(\"Actual Values\", size=15)\n",
                "plt.ylabel(\"Predicted Values\", size=15)\n",
                "plt.show()"
            ]
        },
        {
            "cell_type": "code",
            "execution_count": 57,
            "id": "d9c38144",
            "metadata": {
                "execution": {
                    "iopub.execute_input": "2023-08-18T18:07:44.709508Z",
                    "iopub.status.busy": "2023-08-18T18:07:44.709067Z",
                    "iopub.status.idle": "2023-08-18T18:07:45.015420Z",
                    "shell.execute_reply": "2023-08-18T18:07:45.014993Z"
                },
                "papermill": {
                    "duration": null,
                    "end_time": null,
                    "exception": null,
                    "start_time": null,
                    "status": "completed"
                },
                "tags": []
            },
            "outputs": [
                {
                    "name": "stdout",
                    "output_type": "stream",
                    "text": [
                        "              precision    recall  f1-score   support\n",
                        "\n",
                        "           0       0.05      0.05      0.05      7048\n",
                        "           1       0.49      0.57      0.53     71293\n",
                        "           2       0.46      0.38      0.41     66273\n",
                        "\n",
                        "    accuracy                           0.46    144614\n",
                        "   macro avg       0.33      0.33      0.33    144614\n",
                        "weighted avg       0.45      0.46      0.45    144614\n",
                        "\n"
                    ]
                },
                {
                    "name": "stderr",
                    "output_type": "stream",
                    "text": [
                        "/tmp/ipykernel_3284708/2531832601.py:18: SettingWithCopyWarning: \n",
                        "A value is trying to be set on a copy of a slice from a DataFrame.\n",
                        "Try using .loc[row_indexer,col_indexer] = value instead\n",
                        "\n",
                        "See the caveats in the documentation: https://pandas.pydata.org/pandas-docs/stable/user_guide/indexing.html#returning-a-view-versus-a-copy\n",
                        "  df_labels[\"new_labels\"] = df_labels[\"new_labels\"].astype(str)\n"
                    ]
                }
            ],
            "source": [
                "stats_df = output_stats(\n",
                "    y_pred_list,\n",
                "    Y_holdout,\n",
                "    mlp_params,\n",
                "    test_name=f\"{mlp_params.MODEL_NAME}_train\",\n",
                "    model_name=mlp_params.MODEL_NAME,\n",
                "    title=mlp_params.MODEL_NAME,\n",
                "    shuffle=mlp_params.SHUFFLE,\n",
                ")\n",
                "# make into a dataframe\n",
                "stats_df = pd.DataFrame.from_dict(stats_df).transpose()\n",
                "stats_df.reset_index(inplace=True)\n",
                "stats_df.rename(columns={\"index\": \"label\"}, inplace=True)\n",
                "stats_df = stats_df.melt(id_vars=[\"label\"], var_name=\"metric\", value_name=\"value\")\n",
                "# if accuracy in row of column 1 then change value of column 2 to accuracy\n",
                "stats_df.loc[stats_df[\"label\"] == \"accuracy\", \"metric\"] = \"accuracy\"\n",
                "# create a decoder dictionary from df_labels\n",
                "df_labels[\"new_labels\"] = df_labels[\"new_labels\"].astype(str)\n",
                "decoder = df_labels.set_index(\"new_labels\").to_dict()[\"labels\"]\n",
                "decoder[\"accuracy\"] = \"accuracy\"\n",
                "decoder[\"macro avg\"] = \"macro avg\"\n",
                "decoder[\"weighted avg\"] = \"weighted avg\"\n",
                "stats_df[\"label\"] = stats_df[\"label\"].map(decoder)"
            ]
        },
        {
            "cell_type": "code",
            "execution_count": 58,
            "id": "61319294",
            "metadata": {
                "execution": {
                    "iopub.execute_input": "2023-08-18T18:07:45.041316Z",
                    "iopub.status.busy": "2023-08-18T18:07:45.041043Z",
                    "iopub.status.idle": "2023-08-18T18:07:45.052677Z",
                    "shell.execute_reply": "2023-08-18T18:07:45.052239Z"
                },
                "papermill": {
                    "duration": null,
                    "end_time": null,
                    "exception": null,
                    "start_time": null,
                    "status": "completed"
                },
                "tags": []
            },
            "outputs": [
                {
                    "name": "stderr",
                    "output_type": "stream",
                    "text": [
                        "/tmp/ipykernel_3284708/2184599894.py:4: FutureWarning: In a future version, object-dtype columns with all-bool values will not be included in reductions with bool_only=True. Explicitly cast to bool dtype instead.\n",
                        "  model_stats_df = pd.concat([model_stats_df, stats_df], axis=0)\n"
                    ]
                },
                {
                    "data": {
                        "text/html": [
                            "<div>\n",
                            "<style scoped>\n",
                            "    .dataframe tbody tr th:only-of-type {\n",
                            "        vertical-align: middle;\n",
                            "    }\n",
                            "\n",
                            "    .dataframe tbody tr th {\n",
                            "        vertical-align: top;\n",
                            "    }\n",
                            "\n",
                            "    .dataframe thead th {\n",
                            "        text-align: right;\n",
                            "    }\n",
                            "</style>\n",
                            "<table border=\"1\" class=\"dataframe\">\n",
                            "  <thead>\n",
                            "    <tr style=\"text-align: right;\">\n",
                            "      <th></th>\n",
                            "      <th>label</th>\n",
                            "      <th>metric</th>\n",
                            "      <th>value</th>\n",
                            "      <th>group</th>\n",
                            "      <th>shuffled_data</th>\n",
                            "    </tr>\n",
                            "  </thead>\n",
                            "  <tbody>\n",
                            "    <tr>\n",
                            "      <th>0</th>\n",
                            "      <td>apoptosis</td>\n",
                            "      <td>precision</td>\n",
                            "      <td>0.049142</td>\n",
                            "      <td>train</td>\n",
                            "      <td>True</td>\n",
                            "    </tr>\n",
                            "    <tr>\n",
                            "      <th>1</th>\n",
                            "      <td>healthy</td>\n",
                            "      <td>precision</td>\n",
                            "      <td>0.541930</td>\n",
                            "      <td>train</td>\n",
                            "      <td>True</td>\n",
                            "    </tr>\n",
                            "    <tr>\n",
                            "      <th>2</th>\n",
                            "      <td>pyroptosis</td>\n",
                            "      <td>precision</td>\n",
                            "      <td>0.407504</td>\n",
                            "      <td>train</td>\n",
                            "      <td>True</td>\n",
                            "    </tr>\n",
                            "    <tr>\n",
                            "      <th>3</th>\n",
                            "      <td>accuracy</td>\n",
                            "      <td>accuracy</td>\n",
                            "      <td>0.466495</td>\n",
                            "      <td>train</td>\n",
                            "      <td>True</td>\n",
                            "    </tr>\n",
                            "    <tr>\n",
                            "      <th>4</th>\n",
                            "      <td>macro avg</td>\n",
                            "      <td>precision</td>\n",
                            "      <td>0.332859</td>\n",
                            "      <td>train</td>\n",
                            "      <td>True</td>\n",
                            "    </tr>\n",
                            "    <tr>\n",
                            "      <th>...</th>\n",
                            "      <td>...</td>\n",
                            "      <td>...</td>\n",
                            "      <td>...</td>\n",
                            "      <td>...</td>\n",
                            "      <td>...</td>\n",
                            "    </tr>\n",
                            "    <tr>\n",
                            "      <th>19</th>\n",
                            "      <td>healthy</td>\n",
                            "      <td>support</td>\n",
                            "      <td>71293.000000</td>\n",
                            "      <td>holdout</td>\n",
                            "      <td>True</td>\n",
                            "    </tr>\n",
                            "    <tr>\n",
                            "      <th>20</th>\n",
                            "      <td>pyroptosis</td>\n",
                            "      <td>support</td>\n",
                            "      <td>66273.000000</td>\n",
                            "      <td>holdout</td>\n",
                            "      <td>True</td>\n",
                            "    </tr>\n",
                            "    <tr>\n",
                            "      <th>21</th>\n",
                            "      <td>accuracy</td>\n",
                            "      <td>accuracy</td>\n",
                            "      <td>0.456761</td>\n",
                            "      <td>holdout</td>\n",
                            "      <td>True</td>\n",
                            "    </tr>\n",
                            "    <tr>\n",
                            "      <th>22</th>\n",
                            "      <td>macro avg</td>\n",
                            "      <td>support</td>\n",
                            "      <td>144614.000000</td>\n",
                            "      <td>holdout</td>\n",
                            "      <td>True</td>\n",
                            "    </tr>\n",
                            "    <tr>\n",
                            "      <th>23</th>\n",
                            "      <td>weighted avg</td>\n",
                            "      <td>support</td>\n",
                            "      <td>144614.000000</td>\n",
                            "      <td>holdout</td>\n",
                            "      <td>True</td>\n",
                            "    </tr>\n",
                            "  </tbody>\n",
                            "</table>\n",
                            "<p>96 rows \u00d7 5 columns</p>\n",
                            "</div>"
                        ],
                        "text/plain": [
                            "           label     metric          value    group shuffled_data\n",
                            "0      apoptosis  precision       0.049142    train          True\n",
                            "1        healthy  precision       0.541930    train          True\n",
                            "2     pyroptosis  precision       0.407504    train          True\n",
                            "3       accuracy   accuracy       0.466495    train          True\n",
                            "4      macro avg  precision       0.332859    train          True\n",
                            "..           ...        ...            ...      ...           ...\n",
                            "19       healthy    support   71293.000000  holdout          True\n",
                            "20    pyroptosis    support   66273.000000  holdout          True\n",
                            "21      accuracy   accuracy       0.456761  holdout          True\n",
                            "22     macro avg    support  144614.000000  holdout          True\n",
                            "23  weighted avg    support  144614.000000  holdout          True\n",
                            "\n",
                            "[96 rows x 5 columns]"
                        ]
                    },
                    "execution_count": 58,
                    "metadata": {},
                    "output_type": "execute_result"
                }
            ],
            "source": [
                "stats_df[\"group\"] = \"holdout\"\n",
                "stats_df[\"shuffled_data\"] = mlp_params.SHUFFLE\n",
                "\n",
                "model_stats_df = pd.concat([model_stats_df, stats_df], axis=0)\n",
                "model_stats_df"
            ]
        },
        {
            "cell_type": "code",
            "execution_count": 59,
            "metadata": {},
            "outputs": [
                {
                    "data": {
                        "text/html": [
                            "<div>\n",
                            "<style scoped>\n",
                            "    .dataframe tbody tr th:only-of-type {\n",
                            "        vertical-align: middle;\n",
                            "    }\n",
                            "\n",
                            "    .dataframe tbody tr th {\n",
                            "        vertical-align: top;\n",
                            "    }\n",
                            "\n",
                            "    .dataframe thead th {\n",
                            "        text-align: right;\n",
                            "    }\n",
                            "</style>\n",
                            "<table border=\"1\" class=\"dataframe\">\n",
                            "  <thead>\n",
                            "    <tr style=\"text-align: right;\">\n",
                            "      <th></th>\n",
                            "      <th>True_Label</th>\n",
                            "      <th>Predicted_Label</th>\n",
                            "      <th>Count</th>\n",
                            "      <th>data_split</th>\n",
                            "      <th>Recall</th>\n",
                            "      <th>shuffled_data</th>\n",
                            "    </tr>\n",
                            "  </thead>\n",
                            "  <tbody>\n",
                            "    <tr>\n",
                            "      <th>0</th>\n",
                            "      <td>apoptosis</td>\n",
                            "      <td>healthy</td>\n",
                            "      <td>5603</td>\n",
                            "      <td>testing</td>\n",
                            "      <td>0.043193</td>\n",
                            "      <td>True</td>\n",
                            "    </tr>\n",
                            "    <tr>\n",
                            "      <th>1</th>\n",
                            "      <td>healthy</td>\n",
                            "      <td>healthy</td>\n",
                            "      <td>59692</td>\n",
                            "      <td>testing</td>\n",
                            "      <td>0.460164</td>\n",
                            "      <td>True</td>\n",
                            "    </tr>\n",
                            "    <tr>\n",
                            "      <th>2</th>\n",
                            "      <td>pyroptosis</td>\n",
                            "      <td>healthy</td>\n",
                            "      <td>64424</td>\n",
                            "      <td>testing</td>\n",
                            "      <td>0.496643</td>\n",
                            "      <td>True</td>\n",
                            "    </tr>\n",
                            "    <tr>\n",
                            "      <th>3</th>\n",
                            "      <td>apoptosis</td>\n",
                            "      <td>apoptosis</td>\n",
                            "      <td>542</td>\n",
                            "      <td>testing</td>\n",
                            "      <td>0.048693</td>\n",
                            "      <td>True</td>\n",
                            "    </tr>\n",
                            "    <tr>\n",
                            "      <th>4</th>\n",
                            "      <td>healthy</td>\n",
                            "      <td>apoptosis</td>\n",
                            "      <td>5138</td>\n",
                            "      <td>testing</td>\n",
                            "      <td>0.461594</td>\n",
                            "      <td>True</td>\n",
                            "    </tr>\n",
                            "    <tr>\n",
                            "      <th>5</th>\n",
                            "      <td>pyroptosis</td>\n",
                            "      <td>apoptosis</td>\n",
                            "      <td>5451</td>\n",
                            "      <td>testing</td>\n",
                            "      <td>0.489713</td>\n",
                            "      <td>True</td>\n",
                            "    </tr>\n",
                            "    <tr>\n",
                            "      <th>6</th>\n",
                            "      <td>apoptosis</td>\n",
                            "      <td>pyroptosis</td>\n",
                            "      <td>3820</td>\n",
                            "      <td>testing</td>\n",
                            "      <td>0.042636</td>\n",
                            "      <td>True</td>\n",
                            "    </tr>\n",
                            "    <tr>\n",
                            "      <th>7</th>\n",
                            "      <td>healthy</td>\n",
                            "      <td>pyroptosis</td>\n",
                            "      <td>41424</td>\n",
                            "      <td>testing</td>\n",
                            "      <td>0.462347</td>\n",
                            "      <td>True</td>\n",
                            "    </tr>\n",
                            "    <tr>\n",
                            "      <th>8</th>\n",
                            "      <td>pyroptosis</td>\n",
                            "      <td>pyroptosis</td>\n",
                            "      <td>44351</td>\n",
                            "      <td>testing</td>\n",
                            "      <td>0.495016</td>\n",
                            "      <td>True</td>\n",
                            "    </tr>\n",
                            "    <tr>\n",
                            "      <th>0</th>\n",
                            "      <td>apoptosis</td>\n",
                            "      <td>healthy</td>\n",
                            "      <td>3973</td>\n",
                            "      <td>holdout</td>\n",
                            "      <td>0.048071</td>\n",
                            "      <td>True</td>\n",
                            "    </tr>\n",
                            "    <tr>\n",
                            "      <th>1</th>\n",
                            "      <td>healthy</td>\n",
                            "      <td>healthy</td>\n",
                            "      <td>40731</td>\n",
                            "      <td>holdout</td>\n",
                            "      <td>0.492825</td>\n",
                            "      <td>True</td>\n",
                            "    </tr>\n",
                            "    <tr>\n",
                            "      <th>2</th>\n",
                            "      <td>pyroptosis</td>\n",
                            "      <td>healthy</td>\n",
                            "      <td>37944</td>\n",
                            "      <td>holdout</td>\n",
                            "      <td>0.459104</td>\n",
                            "      <td>True</td>\n",
                            "    </tr>\n",
                            "    <tr>\n",
                            "      <th>3</th>\n",
                            "      <td>apoptosis</td>\n",
                            "      <td>apoptosis</td>\n",
                            "      <td>376</td>\n",
                            "      <td>holdout</td>\n",
                            "      <td>0.051129</td>\n",
                            "      <td>True</td>\n",
                            "    </tr>\n",
                            "    <tr>\n",
                            "      <th>4</th>\n",
                            "      <td>healthy</td>\n",
                            "      <td>apoptosis</td>\n",
                            "      <td>3596</td>\n",
                            "      <td>holdout</td>\n",
                            "      <td>0.488986</td>\n",
                            "      <td>True</td>\n",
                            "    </tr>\n",
                            "    <tr>\n",
                            "      <th>5</th>\n",
                            "      <td>pyroptosis</td>\n",
                            "      <td>apoptosis</td>\n",
                            "      <td>3382</td>\n",
                            "      <td>holdout</td>\n",
                            "      <td>0.459886</td>\n",
                            "      <td>True</td>\n",
                            "    </tr>\n",
                            "    <tr>\n",
                            "      <th>6</th>\n",
                            "      <td>apoptosis</td>\n",
                            "      <td>pyroptosis</td>\n",
                            "      <td>2699</td>\n",
                            "      <td>holdout</td>\n",
                            "      <td>0.049421</td>\n",
                            "      <td>True</td>\n",
                            "    </tr>\n",
                            "    <tr>\n",
                            "      <th>7</th>\n",
                            "      <td>healthy</td>\n",
                            "      <td>pyroptosis</td>\n",
                            "      <td>26966</td>\n",
                            "      <td>holdout</td>\n",
                            "      <td>0.493774</td>\n",
                            "      <td>True</td>\n",
                            "    </tr>\n",
                            "    <tr>\n",
                            "      <th>8</th>\n",
                            "      <td>pyroptosis</td>\n",
                            "      <td>pyroptosis</td>\n",
                            "      <td>24947</td>\n",
                            "      <td>holdout</td>\n",
                            "      <td>0.456804</td>\n",
                            "      <td>True</td>\n",
                            "    </tr>\n",
                            "  </tbody>\n",
                            "</table>\n",
                            "</div>"
                        ],
                        "text/plain": [
                            "   True_Label Predicted_Label  Count data_split    Recall shuffled_data\n",
                            "0   apoptosis         healthy   5603    testing  0.043193          True\n",
                            "1     healthy         healthy  59692    testing  0.460164          True\n",
                            "2  pyroptosis         healthy  64424    testing  0.496643          True\n",
                            "3   apoptosis       apoptosis    542    testing  0.048693          True\n",
                            "4     healthy       apoptosis   5138    testing  0.461594          True\n",
                            "5  pyroptosis       apoptosis   5451    testing  0.489713          True\n",
                            "6   apoptosis      pyroptosis   3820    testing  0.042636          True\n",
                            "7     healthy      pyroptosis  41424    testing  0.462347          True\n",
                            "8  pyroptosis      pyroptosis  44351    testing  0.495016          True\n",
                            "0   apoptosis         healthy   3973    holdout  0.048071          True\n",
                            "1     healthy         healthy  40731    holdout  0.492825          True\n",
                            "2  pyroptosis         healthy  37944    holdout  0.459104          True\n",
                            "3   apoptosis       apoptosis    376    holdout  0.051129          True\n",
                            "4     healthy       apoptosis   3596    holdout  0.488986          True\n",
                            "5  pyroptosis       apoptosis   3382    holdout  0.459886          True\n",
                            "6   apoptosis      pyroptosis   2699    holdout  0.049421          True\n",
                            "7     healthy      pyroptosis  26966    holdout  0.493774          True\n",
                            "8  pyroptosis      pyroptosis  24947    holdout  0.456804          True"
                        ]
                    },
                    "execution_count": 59,
                    "metadata": {},
                    "output_type": "execute_result"
                }
            ],
            "source": [
                "data_split_conf_mat_df_all"
            ]
        },
        {
            "cell_type": "code",
            "execution_count": 60,
            "id": "6320cb8d",
            "metadata": {},
            "outputs": [
                {
                    "name": "stderr",
                    "output_type": "stream",
                    "text": [
                        "/tmp/ipykernel_3284708/4234132870.py:15: FutureWarning: In a future version, object-dtype columns with all-bool values will not be included in reductions with bool_only=True. Explicitly cast to bool dtype instead.\n",
                        "  metrics_df = pd.concat([metrics_df, data_split_conf_mat_df_all], axis=0)\n"
                    ]
                }
            ],
            "source": [
                "# set path for the model confusion matrices\n",
                "matrix_path = pathlib.Path(\n",
                "    f\"../../results/{mlp_params.MODEL_TYPE}/{mlp_params.MODEL_NAME}/{mlp_params.CELL_TYPE}\"\n",
                ")\n",
                "matrix_path.mkdir(parents=True, exist_ok=True)\n",
                "# check if the model training metrics file exists\n",
                "matrix_file = pathlib.Path(f\"{matrix_path}/confusion_matrices.csv\")\n",
                "if matrix_file.exists():\n",
                "    metrics_df = pd.read_csv(matrix_file)\n",
                "    if len(metrics_df[\"shuffled_data\"].unique()) > 1:\n",
                "        pass\n",
                "    elif metrics_df[\"shuffled_data\"].unique() == mlp_params.SHUFFLE:\n",
                "        pass\n",
                "    else:\n",
                "        metrics_df = pd.concat([metrics_df, data_split_conf_mat_df_all], axis=0)\n",
                "        metrics_df.to_csv(matrix_file, index=False)\n",
                "else:\n",
                "    data_split_conf_mat_df_all.to_csv(matrix_file, index=False)"
            ]
        },
        {
            "cell_type": "code",
            "execution_count": 61,
            "id": "e1e4b224",
            "metadata": {
                "execution": {
                    "iopub.execute_input": "2023-08-18T18:07:45.112412Z",
                    "iopub.status.busy": "2023-08-18T18:07:45.112158Z",
                    "iopub.status.idle": "2023-08-18T18:07:48.147873Z",
                    "shell.execute_reply": "2023-08-18T18:07:48.147334Z"
                },
                "papermill": {
                    "duration": null,
                    "end_time": null,
                    "exception": null,
                    "start_time": null,
                    "status": "completed"
                },
                "tags": []
            },
            "outputs": [
                {
                    "name": "stderr",
                    "output_type": "stream",
                    "text": [
                        "/tmp/ipykernel_3284708/4008283182.py:15: FutureWarning: In a future version, object-dtype columns with all-bool values will not be included in reductions with bool_only=True. Explicitly cast to bool dtype instead.\n",
                        "  metrics_df = pd.concat([metrics_df, model_stats_df], axis=0)\n"
                    ]
                }
            ],
            "source": [
                "# set path for the model training metrics\n",
                "metrics_path = pathlib.Path(\n",
                "    f\"../../results/{mlp_params.MODEL_TYPE}/{mlp_params.MODEL_NAME}/{mlp_params.CELL_TYPE}\"\n",
                ")\n",
                "metrics_path.mkdir(parents=True, exist_ok=True)\n",
                "# check if the model training metrics file exists\n",
                "metrics_file = pathlib.Path(f\"{metrics_path}/training_metrics.csv\")\n",
                "if metrics_file.exists():\n",
                "    metrics_df = pd.read_csv(metrics_file)\n",
                "    if len(metrics_df[\"shuffled_data\"].unique()) > 1:\n",
                "        pass\n",
                "    elif metrics_df[\"shuffled_data\"].unique() == mlp_params.SHUFFLE:\n",
                "        pass\n",
                "    else:\n",
                "        metrics_df = pd.concat([metrics_df, model_stats_df], axis=0)\n",
                "        metrics_df.to_csv(metrics_file, index=False)\n",
                "else:\n",
                "    model_stats_df.to_csv(metrics_file, index=False)"
            ]
        }
    ],
    "metadata": {
        "kernelspec": {
            "display_name": "Interstellar",
            "language": "python",
            "name": "python3"
        },
        "language_info": {
            "codemirror_mode": {
                "name": "ipython",
                "version": 3
            },
            "file_extension": ".py",
            "mimetype": "text/x-python",
            "name": "python",
            "nbconvert_exporter": "python",
            "pygments_lexer": "ipython3",
            "version": "3.10.12"
        },
        "papermill": {
            "default_parameters": {},
            "duration": 13.889414,
            "end_time": "2023-10-18T18:22:08.538383",
            "environment_variables": {},
            "exception": null,
            "input_path": "train_binary_model.ipynb",
            "output_path": "train_binary_model.ipynb",
            "parameters": {
                "CELL_TYPE": "SHSY5Y",
                "CONTROL_NAME": "DMSO_0.100_%_DMSO_0.025_%",
                "MODEL_NAME": "DMSO_0.025_vs_LPS_100",
                "SHUFFLE": true,
                "TREATMENT_NAME": "LPS_100.000_ug_per_ml_DMSO_0.025_%"
            },
            "start_time": "2023-10-18T18:21:54.648969",
            "version": "2.4.0"
        }
    },
    "nbformat": 4,
    "nbformat_minor": 5
}
