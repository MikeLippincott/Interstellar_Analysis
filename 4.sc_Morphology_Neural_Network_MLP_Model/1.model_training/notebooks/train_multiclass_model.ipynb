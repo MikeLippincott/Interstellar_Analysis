{
    "cells": [
        {
            "cell_type": "code",
            "execution_count": 1,
            "id": "76db0f62",
            "metadata": {
                "execution": {
                    "iopub.execute_input": "2023-11-13T03:46:06.332907Z",
                    "iopub.status.busy": "2023-11-13T03:46:06.332549Z",
                    "iopub.status.idle": "2023-11-13T03:46:09.390164Z",
                    "shell.execute_reply": "2023-11-13T03:46:09.389559Z"
                },
                "papermill": {
                    "duration": 3.068881,
                    "end_time": "2023-11-13T03:46:09.391537",
                    "exception": false,
                    "start_time": "2023-11-13T03:46:06.322656",
                    "status": "completed"
                },
                "tags": []
            },
            "outputs": [],
            "source": [
                "import ast\n",
                "import gc\n",
                "import pathlib\n",
                "import sys\n",
                "\n",
                "import numpy as np\n",
                "import pandas as pd\n",
                "import toml\n",
                "import torch\n",
                "from sklearn import preprocessing\n",
                "\n",
                "sys.path.append(\"../..\")\n",
                "\n",
                "import matplotlib.pyplot as plt\n",
                "import seaborn as sns\n",
                "from MLP_utils.parameters import Parameters\n",
                "from MLP_utils.utils import (\n",
                "    Dataset_formatter,\n",
                "    output_stats,\n",
                "    parameter_set,\n",
                "    plot_metric_vs_epoch,\n",
                "    results_output,\n",
                "    test_optimized_model,\n",
                "    train_optimized_model,\n",
                "    un_nest,\n",
                ")\n",
                "from sklearn.metrics import precision_recall_curve\n",
                "\n",
                "sys.path.append(\"../../..\")\n",
                "import argparse"
            ]
        },
        {
            "cell_type": "code",
            "execution_count": 2,
            "id": "98446248",
            "metadata": {},
            "outputs": [],
            "source": [
                "# set up the parser\n",
                "parser = argparse.ArgumentParser(description=\"Train MLP model\")\n",
                "\n",
                "# add arguments to parser\n",
                "parser.add_argument(\n",
                "    \"--CELL_TYPE\",\n",
                "    type=str,\n",
                "    default=\"all\",\n",
                "    help=\"Cell type to train model on. Default is all\",\n",
                ")\n",
                "\n",
                "parser.add_argument(\n",
                "    \"--MODEL_NAME\",\n",
                "    type=str,\n",
                "    default=\"MLP\",\n",
                "    help=\"Model name to train. Default is MLP\",\n",
                ")\n",
                "\n",
                "parser.add_argument(\n",
                "    \"--SHUFFLE\",\n",
                "    type=str,\n",
                "    default=\"False\",\n",
                "    help=\"Shuffle data before training. Default is False\",\n",
                ")\n",
                "\n",
                "# parse the arguments\n",
                "args = parser.parse_args()\n",
                "\n",
                "CELL_TYPE = args.CELL_TYPE\n",
                "MODEL_NAME = args.MODEL_NAME\n",
                "SHUFFLE = args.SHUFFLE\n",
                "SHUFFLE = ast.literal_eval(SHUFFLE)\n",
                "print(CELL_TYPE, MODEL_NAME, SHUFFLE)"
            ]
        },
        {
            "cell_type": "code",
            "execution_count": 4,
            "id": "7fe861fc",
            "metadata": {
                "execution": {
                    "iopub.execute_input": "2023-11-13T03:46:09.446006Z",
                    "iopub.status.busy": "2023-11-13T03:46:09.445617Z",
                    "iopub.status.idle": "2023-11-13T03:46:09.451397Z",
                    "shell.execute_reply": "2023-11-13T03:46:09.450978Z"
                },
                "papermill": {
                    "duration": 0.015233,
                    "end_time": "2023-11-13T03:46:09.452351",
                    "exception": false,
                    "start_time": "2023-11-13T03:46:09.437118",
                    "status": "completed"
                },
                "tags": []
            },
            "outputs": [
                {
                    "name": "stdout",
                    "output_type": "stream",
                    "text": [
                        "[0.9548796634991541, 0.5053631494125279, 0.5397571870883181]\n"
                    ]
                }
            ],
            "source": [
                "ml_configs_file = pathlib.Path(\"../../MLP_utils/multi_class_config.toml\").resolve(\n",
                "    strict=True\n",
                ")\n",
                "ml_configs = toml.load(ml_configs_file)\n",
                "params = Parameters()\n",
                "mlp_params = parameter_set(params, ml_configs)\n",
                "\n",
                "# overwrite params via command line arguments from papermill\n",
                "mlp_params.CELL_TYPE = CELL_TYPE\n",
                "mlp_params.MODEL_NAME = MODEL_NAME\n",
                "\n",
                "mlp_params.MODEL_NAME = MODEL_NAME\n",
                "mlp_params.SHUFFLE = SHUFFLE\n",
                "\n",
                "# load in the class weights\n",
                "class_weights_file_path = pathlib.Path(\n",
                "    f\"../../0.hyperparameter_optimization/class_weights/{CELL_TYPE}/multi_class/class_weights.txt\"\n",
                ").resolve(strict=True)\n",
                "# read the class weights into a list for use in the loss function as a list\n",
                "class_weights = []\n",
                "with open(class_weights_file_path, \"r\") as f:\n",
                "    for line in f:\n",
                "        class_weights.append(float(line.strip()))\n",
                "# check the class weights are correct\n",
                "print(class_weights)"
            ]
        },
        {
            "cell_type": "code",
            "execution_count": 5,
            "id": "bb565ba8",
            "metadata": {},
            "outputs": [],
            "source": [
                "# Import Data\n",
                "# set data file path under pathlib path for multi-system use\n",
                "\n",
                "file_path = pathlib.Path(\n",
                "    f\"../../../data/{mlp_params.CELL_TYPE}_preprocessed_sc_norm_labeled.parquet\"\n",
                ").resolve()\n",
                "df1 = pd.read_parquet(file_path)"
            ]
        },
        {
            "cell_type": "code",
            "execution_count": 6,
            "id": "5f05b3f4",
            "metadata": {
                "execution": {
                    "iopub.execute_input": "2023-11-13T03:46:09.469050Z",
                    "iopub.status.busy": "2023-11-13T03:46:09.468681Z",
                    "iopub.status.idle": "2023-11-13T03:46:38.488828Z",
                    "shell.execute_reply": "2023-11-13T03:46:38.488256Z"
                },
                "papermill": {
                    "duration": 29.029959,
                    "end_time": "2023-11-13T03:46:38.490348",
                    "exception": false,
                    "start_time": "2023-11-13T03:46:09.460389",
                    "status": "completed"
                },
                "tags": []
            },
            "outputs": [],
            "source": [
                "# columns to load in - only need the metadata\n",
                "columns = [\n",
                "    \"Nuclei_Location_Center_X\",\n",
                "    \"Nuclei_Location_Center_Y\",\n",
                "    \"Cytoplasm_AreaShape_BoundingBoxMaximum_X\",\n",
                "    \"Cytoplasm_AreaShape_BoundingBoxMaximum_Y\",\n",
                "    \"Cytoplasm_AreaShape_BoundingBoxMinimum_X\",\n",
                "    \"Cytoplasm_AreaShape_BoundingBoxMinimum_Y\",\n",
                "    \"Image_Metadata_Site\",\n",
                "    \"Metadata_Well\",\n",
                "]\n",
                "df_no_fs_path = pathlib.Path(\n",
                "    f\"../../../data/{mlp_params.CELL_TYPE}_sc.parquet\"\n",
                ").resolve(strict=True)\n",
                "df_no_fs = pd.read_parquet(df_no_fs_path, columns=columns)"
            ]
        },
        {
            "cell_type": "code",
            "execution_count": 7,
            "id": "40f16af8",
            "metadata": {},
            "outputs": [
                {
                    "name": "stdout",
                    "output_type": "stream",
                    "text": [
                        "(598156, 1253)\n",
                        "(598156, 1260)\n"
                    ]
                }
            ],
            "source": [
                "print(df1.shape)\n",
                "df1[\"Metadata_Nuclei_Location_Center_X\"] = df_no_fs[\"Nuclei_Location_Center_X\"]\n",
                "df1[\"Metadata_Nuclei_Location_Center_Y\"] = df_no_fs[\"Nuclei_Location_Center_Y\"]\n",
                "df1[\"Metadata_Cytoplasm_AreaShape_BoundingBoxMaximum_X\"] = df_no_fs[\n",
                "    \"Cytoplasm_AreaShape_BoundingBoxMaximum_X\"\n",
                "]\n",
                "df1[\"Metadata_Cytoplasm_AreaShape_BoundingBoxMaximum_Y\"] = df_no_fs[\n",
                "    \"Cytoplasm_AreaShape_BoundingBoxMaximum_Y\"\n",
                "]\n",
                "df1[\"Metadata_Cytoplasm_AreaShape_BoundingBoxMinimum_X\"] = df_no_fs[\n",
                "    \"Cytoplasm_AreaShape_BoundingBoxMinimum_X\"\n",
                "]\n",
                "df1[\"Metadata_Cytoplasm_AreaShape_BoundingBoxMinimum_Y\"] = df_no_fs[\n",
                "    \"Cytoplasm_AreaShape_BoundingBoxMinimum_Y\"\n",
                "]\n",
                "\n",
                "df1[\"Metadata_Site\"] = df_no_fs[\"Image_Metadata_Site\"]\n",
                "\n",
                "# delete the frame from memory and collect the garbage to free up memory\n",
                "del df_no_fs\n",
                "gc.collect()\n",
                "print(df1.shape)"
            ]
        },
        {
            "cell_type": "code",
            "execution_count": 8,
            "id": "6c372a03",
            "metadata": {
                "execution": {
                    "iopub.execute_input": "2023-11-13T03:46:38.510926Z",
                    "iopub.status.busy": "2023-11-13T03:46:38.510590Z",
                    "iopub.status.idle": "2023-11-13T03:46:38.515770Z",
                    "shell.execute_reply": "2023-11-13T03:46:38.515225Z"
                },
                "papermill": {
                    "duration": 0.014971,
                    "end_time": "2023-11-13T03:46:38.517006",
                    "exception": false,
                    "start_time": "2023-11-13T03:46:38.502035",
                    "status": "completed"
                },
                "tags": []
            },
            "outputs": [],
            "source": [
                "treatment_splits_file_path = pathlib.Path(f\"../../MLP_utils/splits.toml\").resolve(\n",
                "    strict=True\n",
                ")\n",
                "# read toml file\n",
                "treatment_splits = toml.load(treatment_splits_file_path)"
            ]
        },
        {
            "cell_type": "markdown",
            "id": "7c5e28b5",
            "metadata": {
                "papermill": {
                    "duration": 0.007627,
                    "end_time": "2023-11-13T03:46:38.552274",
                    "exception": false,
                    "start_time": "2023-11-13T03:46:38.544647",
                    "status": "completed"
                },
                "tags": []
            },
            "source": [
                "#### Set up Data to be compatible with model"
            ]
        },
        {
            "cell_type": "markdown",
            "id": "5efd38f4",
            "metadata": {
                "papermill": {
                    "duration": 0.00759,
                    "end_time": "2023-11-13T03:46:38.567493",
                    "exception": false,
                    "start_time": "2023-11-13T03:46:38.559903",
                    "status": "completed"
                },
                "tags": []
            },
            "source": [
                "##### Classification Models:\n",
                "Comment out code if using regression"
            ]
        },
        {
            "cell_type": "code",
            "execution_count": 9,
            "id": "892c99cb",
            "metadata": {
                "execution": {
                    "iopub.execute_input": "2023-11-13T03:46:38.583852Z",
                    "iopub.status.busy": "2023-11-13T03:46:38.583443Z",
                    "iopub.status.idle": "2023-11-13T03:46:38.586992Z",
                    "shell.execute_reply": "2023-11-13T03:46:38.586604Z"
                },
                "papermill": {
                    "duration": 0.012778,
                    "end_time": "2023-11-13T03:46:38.587892",
                    "exception": false,
                    "start_time": "2023-11-13T03:46:38.575114",
                    "status": "completed"
                },
                "tags": []
            },
            "outputs": [
                {
                    "name": "stdout",
                    "output_type": "stream",
                    "text": [
                        "Data Subset Is Off\n"
                    ]
                }
            ],
            "source": [
                "np.random.seed(0)\n",
                "if ast.literal_eval(mlp_params.DATA_SUBSET_OPTION):\n",
                "    df1 = df1.groupby(\"oneb_Metadata_Treatment_Dose_Inhibitor_Dose\").apply(\n",
                "        lambda x: x.sample(n=mlp_params.DATA_SUBSET_NUMBER, random_state=0)\n",
                "    )\n",
                "    print(\"Data Subset Is On\")\n",
                "    print(f\"Data is subset to {mlp_params.DATA_SUBSET_NUMBER} per treatment group\")\n",
                "    print(df1.shape)\n",
                "    df1.reset_index(drop=True, inplace=True)\n",
                "else:\n",
                "    print(\"Data Subset Is Off\")"
            ]
        },
        {
            "cell_type": "code",
            "execution_count": 10,
            "id": "615a24e0",
            "metadata": {
                "execution": {
                    "iopub.execute_input": "2023-11-13T03:36:58.231714Z",
                    "iopub.status.busy": "2023-11-13T03:36:58.231431Z",
                    "iopub.status.idle": "2023-11-13T03:36:58.299402Z",
                    "shell.execute_reply": "2023-11-13T03:36:58.298842Z"
                },
                "papermill": {
                    "duration": null,
                    "end_time": null,
                    "exception": null,
                    "start_time": null,
                    "status": "pending"
                },
                "tags": []
            },
            "outputs": [
                {
                    "data": {
                        "text/html": [
                            "<div>\n",
                            "<style scoped>\n",
                            "    .dataframe tbody tr th:only-of-type {\n",
                            "        vertical-align: middle;\n",
                            "    }\n",
                            "\n",
                            "    .dataframe tbody tr th {\n",
                            "        vertical-align: top;\n",
                            "    }\n",
                            "\n",
                            "    .dataframe thead th {\n",
                            "        text-align: right;\n",
                            "    }\n",
                            "</style>\n",
                            "<table border=\"1\" class=\"dataframe\">\n",
                            "  <thead>\n",
                            "    <tr style=\"text-align: right;\">\n",
                            "      <th></th>\n",
                            "      <th>labeled_data_index</th>\n",
                            "      <th>label</th>\n",
                            "    </tr>\n",
                            "  </thead>\n",
                            "  <tbody>\n",
                            "    <tr>\n",
                            "      <th>0</th>\n",
                            "      <td>455753</td>\n",
                            "      <td>train</td>\n",
                            "    </tr>\n",
                            "    <tr>\n",
                            "      <th>1</th>\n",
                            "      <td>203787</td>\n",
                            "      <td>train</td>\n",
                            "    </tr>\n",
                            "    <tr>\n",
                            "      <th>2</th>\n",
                            "      <td>253674</td>\n",
                            "      <td>train</td>\n",
                            "    </tr>\n",
                            "    <tr>\n",
                            "      <th>3</th>\n",
                            "      <td>20724</td>\n",
                            "      <td>train</td>\n",
                            "    </tr>\n",
                            "    <tr>\n",
                            "      <th>4</th>\n",
                            "      <td>246078</td>\n",
                            "      <td>train</td>\n",
                            "    </tr>\n",
                            "  </tbody>\n",
                            "</table>\n",
                            "</div>"
                        ],
                        "text/plain": [
                            "   labeled_data_index  label\n",
                            "0              455753  train\n",
                            "1              203787  train\n",
                            "2              253674  train\n",
                            "3               20724  train\n",
                            "4              246078  train"
                        ]
                    },
                    "execution_count": 10,
                    "metadata": {},
                    "output_type": "execute_result"
                }
            ],
            "source": [
                "# set path for index file\n",
                "index_file_path = pathlib.Path(\n",
                "    f\"../../0.hyperparameter_optimization/indexes/{params.CELL_TYPE}/multi_class/{params.MODEL_NAME}_data_split_indexes.tsv\"\n",
                ").resolve(strict=True)\n",
                "\n",
                "# read index file\n",
                "index_df = pd.read_csv(index_file_path, sep=\"\\t\")\n",
                "index_df.head()"
            ]
        },
        {
            "cell_type": "code",
            "execution_count": 11,
            "id": "d7eb7489",
            "metadata": {
                "execution": {
                    "iopub.execute_input": "2023-11-13T03:36:58.317279Z",
                    "iopub.status.busy": "2023-11-13T03:36:58.316855Z",
                    "iopub.status.idle": "2023-11-13T03:36:58.439495Z",
                    "shell.execute_reply": "2023-11-13T03:36:58.438949Z"
                },
                "papermill": {
                    "duration": null,
                    "end_time": null,
                    "exception": null,
                    "start_time": null,
                    "status": "pending"
                },
                "tags": []
            },
            "outputs": [
                {
                    "name": "stdout",
                    "output_type": "stream",
                    "text": [
                        "(154520,) (38631,) (204860,) 398011     93624\n",
                        "398012     93625\n",
                        "398013     93626\n",
                        "398014     93627\n",
                        "398015     93628\n",
                        "           ...  \n",
                        "452635    597252\n",
                        "452636    597253\n",
                        "452637    597254\n",
                        "452638    597255\n",
                        "452639    597256\n",
                        "Name: labeled_data_index, Length: 54629, dtype: int64 (145516,)\n"
                    ]
                }
            ],
            "source": [
                "# get train, validation, test, and holdout indexes\n",
                "train_indexes = index_df.loc[index_df[\"label\"] == \"train\"][\"labeled_data_index\"]\n",
                "val_indexes = index_df.loc[index_df[\"label\"] == \"val\"][\"labeled_data_index\"]\n",
                "test_indexes = index_df.loc[index_df[\"label\"] == \"test\"][\"labeled_data_index\"]\n",
                "treatment_holdout = index_df.loc[index_df[\"label\"] == \"treatment_holdout\"][\n",
                "    \"labeled_data_index\"\n",
                "]\n",
                "holdout_indexes = index_df.loc[index_df[\"label\"] == \"holdout\"][\"labeled_data_index\"]\n",
                "print(\n",
                "    train_indexes.shape,\n",
                "    val_indexes.shape,\n",
                "    test_indexes.shape,\n",
                "    treatment_holdout,\n",
                "    holdout_indexes.shape,\n",
                ")\n",
                "\n",
                "assert (\n",
                "    train_indexes.shape[0]\n",
                "    + val_indexes.shape[0]\n",
                "    + test_indexes.shape[0]\n",
                "    + treatment_holdout.shape[0]\n",
                "    + holdout_indexes.shape[0]\n",
                ") == index_df.shape[0]"
            ]
        },
        {
            "cell_type": "code",
            "execution_count": 12,
            "id": "3d9db49e",
            "metadata": {
                "execution": {
                    "iopub.execute_input": "2023-11-13T03:36:58.457224Z",
                    "iopub.status.busy": "2023-11-13T03:36:58.456928Z",
                    "iopub.status.idle": "2023-11-13T03:37:05.029867Z",
                    "shell.execute_reply": "2023-11-13T03:37:05.029317Z"
                },
                "papermill": {
                    "duration": null,
                    "end_time": null,
                    "exception": null,
                    "start_time": null,
                    "status": "pending"
                },
                "tags": []
            },
            "outputs": [
                {
                    "name": "stderr",
                    "output_type": "stream",
                    "text": [
                        "/tmp/ipykernel_1387241/2522821119.py:6: SettingWithCopyWarning: \n",
                        "A value is trying to be set on a copy of a slice from a DataFrame.\n",
                        "Try using .loc[row_indexer,col_indexer] = value instead\n",
                        "\n",
                        "See the caveats in the documentation: https://pandas.pydata.org/pandas-docs/stable/user_guide/indexing.html#returning-a-view-versus-a-copy\n",
                        "  df_descriptive[\"labels\"] = df1[\"labels\"]\n"
                    ]
                }
            ],
            "source": [
                "# Code snippet for metadata extraction by Jenna Tomkinson\n",
                "df_metadata = list(df1.columns[df1.columns.str.startswith(\"Metadata\")])\n",
                "\n",
                "# define which columns are data and which are descriptive\n",
                "df_descriptive = df1[df_metadata]\n",
                "df_descriptive[\"labels\"] = df1[\"labels\"]\n",
                "df_values = df1.drop(columns=df_metadata)"
            ]
        },
        {
            "cell_type": "code",
            "execution_count": 13,
            "id": "8924c31e",
            "metadata": {
                "execution": {
                    "iopub.execute_input": "2023-11-13T03:37:05.052514Z",
                    "iopub.status.busy": "2023-11-13T03:37:05.052246Z",
                    "iopub.status.idle": "2023-11-13T03:37:12.172056Z",
                    "shell.execute_reply": "2023-11-13T03:37:12.171584Z"
                },
                "papermill": {
                    "duration": null,
                    "end_time": null,
                    "exception": null,
                    "start_time": null,
                    "status": "pending"
                },
                "tags": []
            },
            "outputs": [
                {
                    "name": "stderr",
                    "output_type": "stream",
                    "text": [
                        "/tmp/ipykernel_1387241/312171757.py:21: SettingWithCopyWarning: \n",
                        "A value is trying to be set on a copy of a slice from a DataFrame\n",
                        "\n",
                        "See the caveats in the documentation: https://pandas.pydata.org/pandas-docs/stable/user_guide/indexing.html#returning-a-view-versus-a-copy\n",
                        "  df_labels.drop_duplicates(inplace=True)\n"
                    ]
                }
            ],
            "source": [
                "# Creating label encoder\n",
                "le = preprocessing.LabelEncoder()\n",
                "# Converting strings into numbers\n",
                "df_values[\"new_labels\"] = le.fit_transform(df_values[\"labels\"])\n",
                "# get mini dataframe that contains the decoder\n",
                "df_labels = df_values[[\"labels\", \"new_labels\"]]\n",
                "# split into X and Y where Y are the predictive column and x are the observable data\n",
                "df_values_X = df_values.drop(\n",
                "    [\n",
                "        \"oneb_Metadata_Treatment_Dose_Inhibitor_Dose\",\n",
                "        \"twob_Metadata_Treatment_Dose_Inhibitor_Dose\",\n",
                "        \"threeb_Metadata_Treatment_Dose_Inhibitor_Dose\",\n",
                "        \"fourb_Metadata_Treatment_Dose_Inhibitor_Dose\",\n",
                "        \"labels\",\n",
                "        \"new_labels\",\n",
                "    ],\n",
                "    axis=1,\n",
                ")\n",
                "df_values_Y = df_values[\"new_labels\"]\n",
                "df_values_Y.unique()\n",
                "df_labels.drop_duplicates(inplace=True)\n",
                "# pandas chaining to reset index and drop old index\n",
                "# df_labels.reset_index(drop=True, inplace=True)"
            ]
        },
        {
            "cell_type": "code",
            "execution_count": 14,
            "id": "b18afc16",
            "metadata": {
                "execution": {
                    "iopub.execute_input": "2023-11-13T03:37:12.193904Z",
                    "iopub.status.busy": "2023-11-13T03:37:12.193605Z",
                    "iopub.status.idle": "2023-11-13T03:37:12.196539Z",
                    "shell.execute_reply": "2023-11-13T03:37:12.196160Z"
                },
                "papermill": {
                    "duration": null,
                    "end_time": null,
                    "exception": null,
                    "start_time": null,
                    "status": "pending"
                },
                "tags": []
            },
            "outputs": [
                {
                    "name": "stdout",
                    "output_type": "stream",
                    "text": [
                        "(154520,) (38631,) (204860,) 398011     93624\n",
                        "398012     93625\n",
                        "398013     93626\n",
                        "398014     93627\n",
                        "398015     93628\n",
                        "           ...  \n",
                        "452635    597252\n",
                        "452636    597253\n",
                        "452637    597254\n",
                        "452638    597255\n",
                        "452639    597256\n",
                        "Name: labeled_data_index, Length: 54629, dtype: int64 (145516,)\n",
                        "154520 38631 204860 54629 145516\n"
                    ]
                }
            ],
            "source": [
                "print(\n",
                "    train_indexes.shape,\n",
                "    val_indexes.shape,\n",
                "    test_indexes.shape,\n",
                "    treatment_holdout,\n",
                "    holdout_indexes.shape,\n",
                ")\n",
                "print(\n",
                "    train_indexes.shape[0],\n",
                "    +val_indexes.shape[0],\n",
                "    +test_indexes.shape[0],\n",
                "    +treatment_holdout.shape[0],\n",
                "    +holdout_indexes.shape[0],\n",
                ")"
            ]
        },
        {
            "cell_type": "code",
            "execution_count": 15,
            "id": "84c24e0f",
            "metadata": {
                "execution": {
                    "iopub.execute_input": "2023-11-13T03:37:12.213904Z",
                    "iopub.status.busy": "2023-11-13T03:37:12.213628Z",
                    "iopub.status.idle": "2023-11-13T03:37:14.457835Z",
                    "shell.execute_reply": "2023-11-13T03:37:14.457329Z"
                },
                "papermill": {
                    "duration": null,
                    "end_time": null,
                    "exception": null,
                    "start_time": null,
                    "status": "pending"
                },
                "tags": []
            },
            "outputs": [],
            "source": [
                "# get the train, validation, test, and holdout dataframes from the indexes\n",
                "X_train = df_values_X.loc[train_indexes.values]\n",
                "X_val = df_values_X.loc[val_indexes.values]\n",
                "X_test = df_values_X.loc[test_indexes.values]\n",
                "X_treatment_holdout = df_values_X.loc[treatment_holdout.values]\n",
                "X_holdout = df_values_X.loc[holdout_indexes.values]\n",
                "\n",
                "Y_train = df_values_Y.loc[train_indexes.values]\n",
                "Y_val = df_values_Y.loc[val_indexes.values]\n",
                "Y_test = df_values_Y.loc[test_indexes.values]\n",
                "Y_treatment_holdout = df_values_Y.loc[treatment_holdout.values]\n",
                "Y_holdout = df_values_Y.loc[holdout_indexes.values]\n",
                "\n",
                "metadata_train = df_descriptive.loc[train_indexes.values]\n",
                "metadata_val = df_descriptive.loc[val_indexes.values]\n",
                "metadata_test = df_descriptive.loc[test_indexes.values]\n",
                "metadata_treatment_holdout = df_descriptive.loc[treatment_holdout.values]\n",
                "metadata_holdout = df_descriptive.loc[holdout_indexes.values]"
            ]
        },
        {
            "cell_type": "code",
            "execution_count": 16,
            "id": "ea706992",
            "metadata": {
                "execution": {
                    "iopub.execute_input": "2023-11-13T03:37:14.478143Z",
                    "iopub.status.busy": "2023-11-13T03:37:14.477912Z",
                    "iopub.status.idle": "2023-11-13T03:37:14.487042Z",
                    "shell.execute_reply": "2023-11-13T03:37:14.486667Z"
                },
                "papermill": {
                    "duration": null,
                    "end_time": null,
                    "exception": null,
                    "start_time": null,
                    "status": "pending"
                },
                "tags": []
            },
            "outputs": [
                {
                    "name": "stdout",
                    "output_type": "stream",
                    "text": [
                        "(8123,) (91165,) (55232,)\n",
                        "(2031,) (22791,) (13809,)\n",
                        "(10152,) (113960,) (80748,)\n",
                        "(0,) (0,) (54629,)\n",
                        "(6683,) (67954,) (70879,)\n"
                    ]
                }
            ],
            "source": [
                "print(\n",
                "    Y_train[Y_train == 0].shape,\n",
                "    Y_train[Y_train == 1].shape,\n",
                "    Y_train[Y_train == 2].shape,\n",
                ")\n",
                "print(Y_val[Y_val == 0].shape, Y_val[Y_val == 1].shape, Y_val[Y_val == 2].shape)\n",
                "print(Y_test[Y_test == 0].shape, Y_test[Y_test == 1].shape, Y_test[Y_test == 2].shape)\n",
                "print(\n",
                "    Y_treatment_holdout[Y_treatment_holdout == 0].shape,\n",
                "    Y_treatment_holdout[Y_treatment_holdout == 1].shape,\n",
                "    Y_treatment_holdout[Y_treatment_holdout == 2].shape,\n",
                ")\n",
                "print(\n",
                "    Y_holdout[Y_holdout == 0].shape,\n",
                "    Y_holdout[Y_holdout == 1].shape,\n",
                "    Y_holdout[Y_holdout == 2].shape,\n",
                ")"
            ]
        },
        {
            "cell_type": "code",
            "execution_count": 17,
            "id": "99dc42ca",
            "metadata": {
                "execution": {
                    "iopub.execute_input": "2023-11-13T03:37:14.504746Z",
                    "iopub.status.busy": "2023-11-13T03:37:14.504457Z",
                    "iopub.status.idle": "2023-11-13T03:37:14.507803Z",
                    "shell.execute_reply": "2023-11-13T03:37:14.507423Z"
                },
                "papermill": {
                    "duration": null,
                    "end_time": null,
                    "exception": null,
                    "start_time": null,
                    "status": "pending"
                },
                "tags": []
            },
            "outputs": [],
            "source": [
                "# reset indexes for all dataframes\n",
                "X_train.reset_index(drop=True, inplace=True)\n",
                "X_val.reset_index(drop=True, inplace=True)\n",
                "X_test.reset_index(drop=True, inplace=True)\n",
                "X_treatment_holdout.reset_index(drop=True, inplace=True)\n",
                "X_holdout.reset_index(drop=True, inplace=True)\n",
                "\n",
                "Y_train.reset_index(drop=True, inplace=True)\n",
                "Y_val.reset_index(drop=True, inplace=True)\n",
                "Y_test.reset_index(drop=True, inplace=True)\n",
                "Y_treatment_holdout.reset_index(drop=True, inplace=True)\n",
                "Y_holdout.reset_index(drop=True, inplace=True)"
            ]
        },
        {
            "cell_type": "code",
            "execution_count": 18,
            "id": "91c0f8c0",
            "metadata": {
                "execution": {
                    "iopub.execute_input": "2023-11-13T03:37:14.525385Z",
                    "iopub.status.busy": "2023-11-13T03:37:14.525116Z",
                    "iopub.status.idle": "2023-11-13T03:37:14.527731Z",
                    "shell.execute_reply": "2023-11-13T03:37:14.527355Z"
                },
                "papermill": {
                    "duration": null,
                    "end_time": null,
                    "exception": null,
                    "start_time": null,
                    "status": "pending"
                },
                "tags": []
            },
            "outputs": [
                {
                    "name": "stdout",
                    "output_type": "stream",
                    "text": [
                        "(154520, 1227) (38631, 1227) (204860, 1227) (54629, 1227) (145516, 1227)\n",
                        "(154520,) (38631,) (204860,) (54629,) (145516,)\n"
                    ]
                }
            ],
            "source": [
                "print(\n",
                "    X_train.shape, X_val.shape, X_test.shape, X_treatment_holdout.shape, X_holdout.shape\n",
                ")\n",
                "print(\n",
                "    Y_train.shape, Y_val.shape, Y_test.shape, Y_treatment_holdout.shape, Y_holdout.shape\n",
                ")"
            ]
        },
        {
            "cell_type": "markdown",
            "id": "fddc7c36",
            "metadata": {},
            "source": [
                "#### Shuffle Data\n"
            ]
        },
        {
            "cell_type": "code",
            "execution_count": 19,
            "id": "30dd3ed1",
            "metadata": {},
            "outputs": [],
            "source": [
                "np.random.seed(0)\n",
                "\n",
                "if SHUFFLE:\n",
                "    print(\"Shuffling Data\")\n",
                "    for column in X_train.columns:\n",
                "        X_train[column] = np.random.permutation(X_train[column].values)"
            ]
        },
        {
            "cell_type": "markdown",
            "id": "4dfa9d10",
            "metadata": {
                "papermill": {
                    "duration": null,
                    "end_time": null,
                    "exception": null,
                    "start_time": null,
                    "status": "pending"
                },
                "tags": []
            },
            "source": [
                "#### Split Data - All Models can proceed through this point"
            ]
        },
        {
            "cell_type": "code",
            "execution_count": 20,
            "id": "af3c3a87",
            "metadata": {},
            "outputs": [
                {
                    "name": "stdout",
                    "output_type": "stream",
                    "text": [
                        "3\n"
                    ]
                }
            ],
            "source": [
                "mlp_params.OUT_FEATURES = Y_train.unique().shape[0]\n",
                "print(mlp_params.OUT_FEATURES)"
            ]
        },
        {
            "cell_type": "code",
            "execution_count": 21,
            "id": "8a0e1806",
            "metadata": {},
            "outputs": [],
            "source": [
                "Y_train = torch.tensor(Y_train.values)\n",
                "Y_train = torch.nn.functional.one_hot(\n",
                "    Y_train, num_classes=mlp_params.OUT_FEATURES\n",
                ").float()\n",
                "\n",
                "Y_val = torch.tensor(Y_val.values)\n",
                "Y_val = torch.nn.functional.one_hot(Y_val, num_classes=mlp_params.OUT_FEATURES).float()\n",
                "\n",
                "Y_test = torch.tensor(Y_test.values)\n",
                "Y_test = torch.nn.functional.one_hot(\n",
                "    Y_test, num_classes=mlp_params.OUT_FEATURES\n",
                ").float()\n",
                "\n",
                "Y_holdout = torch.tensor(Y_holdout.values)\n",
                "Y_holdout = torch.nn.functional.one_hot(\n",
                "    Y_holdout, num_classes=mlp_params.OUT_FEATURES\n",
                ").float()\n",
                "\n",
                "Y_treatment_holdout = torch.tensor(Y_treatment_holdout.values)\n",
                "Y_treatment_holdout = torch.nn.functional.one_hot(\n",
                "    Y_treatment_holdout, num_classes=mlp_params.OUT_FEATURES\n",
                ").float()\n",
                "\n",
                "# convert the X dataframes to tensors\n",
                "X_train = torch.tensor(X_train.values)\n",
                "X_val = torch.tensor(X_val.values)\n",
                "X_test = torch.tensor(X_test.values)\n",
                "X_holdout = torch.tensor(X_holdout.values)\n",
                "X_treatment_holdout = torch.tensor(X_treatment_holdout.values)"
            ]
        },
        {
            "cell_type": "code",
            "execution_count": 22,
            "id": "671d27c1",
            "metadata": {},
            "outputs": [],
            "source": [
                "# produce data objects for train, val and test datasets\n",
                "train_data = torch.utils.data.TensorDataset(X_train, Y_train)\n",
                "val_data = torch.utils.data.TensorDataset(X_val, Y_val)\n",
                "test_data = torch.utils.data.TensorDataset(X_test, Y_test)"
            ]
        },
        {
            "cell_type": "code",
            "execution_count": 23,
            "id": "7c628ee1",
            "metadata": {
                "execution": {
                    "iopub.execute_input": "2023-11-13T03:37:14.715138Z",
                    "iopub.status.busy": "2023-11-13T03:37:14.714939Z",
                    "iopub.status.idle": "2023-11-13T03:37:14.905206Z",
                    "shell.execute_reply": "2023-11-13T03:37:14.904707Z"
                },
                "papermill": {
                    "duration": null,
                    "end_time": null,
                    "exception": null,
                    "start_time": null,
                    "status": "pending"
                },
                "tags": []
            },
            "outputs": [
                {
                    "name": "stdout",
                    "output_type": "stream",
                    "text": [
                        "Number of in features:  1227\n",
                        "Number of out features:  3\n",
                        "Multi_Class\n"
                    ]
                }
            ],
            "source": [
                "mlp_params.IN_FEATURES = X_train.shape[1]\n",
                "print(\"Number of in features: \", mlp_params.IN_FEATURES)\n",
                "if mlp_params.MODEL_TYPE == \"Regression\":\n",
                "    mlp_params.OUT_FEATURES = 1\n",
                "else:\n",
                "    mlp_params.OUT_FEATURES = len(df_values[\"labels\"].unique())\n",
                "\n",
                "print(\"Number of out features: \", mlp_params.OUT_FEATURES)\n",
                "\n",
                "if mlp_params.OUT_FEATURES > 2:\n",
                "    mlp_params.MODEL_TYPE = \"Multi_Class\"\n",
                "elif mlp_params.OUT_FEATURES == 2:\n",
                "    mlp_params.OUT_FEATURES = mlp_params.OUT_FEATURES - 1\n",
                "    mlp_params.MODEL_TYPE = \"Binary_Classification\"\n",
                "elif mlp_params.OUT_FEATURES == 1:\n",
                "    mlp_params.MODEL_TYPE = \"Regression\"\n",
                "else:\n",
                "    pass\n",
                "print(mlp_params.MODEL_TYPE)"
            ]
        },
        {
            "cell_type": "code",
            "execution_count": 24,
            "id": "35e3c505",
            "metadata": {
                "execution": {
                    "iopub.execute_input": "2023-11-13T03:37:14.923652Z",
                    "iopub.status.busy": "2023-11-13T03:37:14.923418Z",
                    "iopub.status.idle": "2023-11-13T03:37:14.926694Z",
                    "shell.execute_reply": "2023-11-13T03:37:14.926322Z"
                },
                "papermill": {
                    "duration": null,
                    "end_time": null,
                    "exception": null,
                    "start_time": null,
                    "status": "pending"
                },
                "tags": []
            },
            "outputs": [],
            "source": [
                "# convert data class into a dataloader to be compatible with pytorch\n",
                "train_loader = torch.utils.data.DataLoader(\n",
                "    dataset=train_data, batch_size=mlp_params.BATCH_SIZE, shuffle=True\n",
                ")\n",
                "valid_loader = torch.utils.data.DataLoader(\n",
                "    dataset=val_data, batch_size=mlp_params.BATCH_SIZE, shuffle=False\n",
                ")\n",
                "test_loader = torch.utils.data.DataLoader(\n",
                "    dataset=test_data, batch_size=1, shuffle=False\n",
                ")"
            ]
        },
        {
            "cell_type": "code",
            "execution_count": 25,
            "id": "4ab763c4",
            "metadata": {
                "execution": {
                    "iopub.execute_input": "2023-11-13T03:37:14.945223Z",
                    "iopub.status.busy": "2023-11-13T03:37:14.944639Z",
                    "iopub.status.idle": "2023-11-13T03:45:26.118958Z",
                    "shell.execute_reply": "2023-11-13T03:45:26.118478Z"
                },
                "papermill": {
                    "duration": null,
                    "end_time": null,
                    "exception": null,
                    "start_time": null,
                    "status": "pending"
                },
                "tags": []
            },
            "outputs": [
                {
                    "name": "stdout",
                    "output_type": "stream",
                    "text": [
                        "Adam\n",
                        "Epoch 0: Validation loss decreased (inf --> 0.331815).  Saving model ...\n",
                        "\t Train_Loss: 0.3736 Train_Acc: 0.000 Val_Loss: 0.3318  BEST VAL Loss: 0.3318  Val_Acc: 0.000\n",
                        "\n",
                        "Epoch 1: Validation loss decreased (0.331815 --> 0.328681).  Saving model ...\n",
                        "\t Train_Loss: 0.3618 Train_Acc: 0.000 Val_Loss: 0.3287  BEST VAL Loss: 0.3287  Val_Acc: 0.000\n",
                        "\n",
                        "Epoch 2: Validation loss decreased (0.328681 --> 0.326624).  Saving model ...\n",
                        "\t Train_Loss: 0.3566 Train_Acc: 0.001 Val_Loss: 0.3266  BEST VAL Loss: 0.3266  Val_Acc: 0.000\n",
                        "\n",
                        "Epoch 3: Validation loss did not decrease\n",
                        "\t Train_Loss: 0.3536 Train_Acc: 0.001 Val_Loss: 0.3297  BEST VAL Loss: 0.3266  Val_Acc: 0.000\n",
                        "\n",
                        "Epoch 4: Validation loss did not decrease\n",
                        "\t Train_Loss: 0.3514 Train_Acc: 0.001 Val_Loss: 0.3282  BEST VAL Loss: 0.3266  Val_Acc: 0.000\n",
                        "\n",
                        "Epoch 5: Validation loss did not decrease\n",
                        "\t Train_Loss: 0.3497 Train_Acc: 0.003 Val_Loss: 0.3270  BEST VAL Loss: 0.3266  Val_Acc: 0.000\n",
                        "\n",
                        "Epoch 6: Validation loss decreased (0.326624 --> 0.326581).  Saving model ...\n",
                        "\t Train_Loss: 0.3484 Train_Acc: 0.001 Val_Loss: 0.3266  BEST VAL Loss: 0.3266  Val_Acc: 0.000\n",
                        "\n",
                        "Epoch 7: Validation loss did not decrease\n",
                        "\t Train_Loss: 0.3471 Train_Acc: 0.001 Val_Loss: 0.3275  BEST VAL Loss: 0.3266  Val_Acc: 0.000\n",
                        "\n",
                        "Epoch 8: Validation loss decreased (0.326581 --> 0.325767).  Saving model ...\n",
                        "\t Train_Loss: 0.3459 Train_Acc: 0.000 Val_Loss: 0.3258  BEST VAL Loss: 0.3258  Val_Acc: 0.000\n",
                        "\n",
                        "Epoch 9: Validation loss decreased (0.325767 --> 0.324258).  Saving model ...\n",
                        "\t Train_Loss: 0.3451 Train_Acc: 0.002 Val_Loss: 0.3243  BEST VAL Loss: 0.3243  Val_Acc: 0.000\n",
                        "\n",
                        "Epoch 10: Validation loss decreased (0.324258 --> 0.323618).  Saving model ...\n",
                        "\t Train_Loss: 0.3440 Train_Acc: 0.003 Val_Loss: 0.3236  BEST VAL Loss: 0.3236  Val_Acc: 0.003\n",
                        "\n",
                        "Epoch 11: Validation loss decreased (0.323618 --> 0.322303).  Saving model ...\n",
                        "\t Train_Loss: 0.3430 Train_Acc: 0.004 Val_Loss: 0.3223  BEST VAL Loss: 0.3223  Val_Acc: 0.000\n",
                        "\n",
                        "Epoch 12: Validation loss decreased (0.322303 --> 0.321765).  Saving model ...\n",
                        "\t Train_Loss: 0.3420 Train_Acc: 0.003 Val_Loss: 0.3218  BEST VAL Loss: 0.3218  Val_Acc: 0.000\n",
                        "\n",
                        "Epoch 13: Validation loss decreased (0.321765 --> 0.321067).  Saving model ...\n",
                        "\t Train_Loss: 0.3411 Train_Acc: 0.003 Val_Loss: 0.3211  BEST VAL Loss: 0.3211  Val_Acc: 0.000\n",
                        "\n",
                        "Epoch 14: Validation loss decreased (0.321067 --> 0.320985).  Saving model ...\n",
                        "\t Train_Loss: 0.3403 Train_Acc: 0.002 Val_Loss: 0.3210  BEST VAL Loss: 0.3210  Val_Acc: 0.013\n",
                        "\n",
                        "Epoch 15: Validation loss decreased (0.320985 --> 0.320531).  Saving model ...\n",
                        "\t Train_Loss: 0.3395 Train_Acc: 0.003 Val_Loss: 0.3205  BEST VAL Loss: 0.3205  Val_Acc: 0.000\n",
                        "\n",
                        "Epoch 16: Validation loss decreased (0.320531 --> 0.320044).  Saving model ...\n",
                        "\t Train_Loss: 0.3389 Train_Acc: 0.004 Val_Loss: 0.3200  BEST VAL Loss: 0.3200  Val_Acc: 0.000\n",
                        "\n",
                        "Epoch 17: Validation loss decreased (0.320044 --> 0.319881).  Saving model ...\n",
                        "\t Train_Loss: 0.3383 Train_Acc: 0.003 Val_Loss: 0.3199  BEST VAL Loss: 0.3199  Val_Acc: 0.000\n",
                        "\n",
                        "Epoch 18: Validation loss decreased (0.319881 --> 0.319388).  Saving model ...\n",
                        "\t Train_Loss: 0.3377 Train_Acc: 0.004 Val_Loss: 0.3194  BEST VAL Loss: 0.3194  Val_Acc: 0.000\n",
                        "\n",
                        "Epoch 19: Validation loss decreased (0.319388 --> 0.318808).  Saving model ...\n",
                        "\t Train_Loss: 0.3371 Train_Acc: 0.005 Val_Loss: 0.3188  BEST VAL Loss: 0.3188  Val_Acc: 0.000\n",
                        "\n",
                        "Epoch 20: Validation loss did not decrease\n",
                        "\t Train_Loss: 0.3366 Train_Acc: 0.008 Val_Loss: 0.3190  BEST VAL Loss: 0.3188  Val_Acc: 0.000\n",
                        "\n",
                        "Epoch 21: Validation loss decreased (0.318808 --> 0.318612).  Saving model ...\n",
                        "\t Train_Loss: 0.3361 Train_Acc: 0.003 Val_Loss: 0.3186  BEST VAL Loss: 0.3186  Val_Acc: 0.000\n",
                        "\n",
                        "Epoch 22: Validation loss decreased (0.318612 --> 0.318146).  Saving model ...\n",
                        "\t Train_Loss: 0.3355 Train_Acc: 0.003 Val_Loss: 0.3181  BEST VAL Loss: 0.3181  Val_Acc: 0.000\n",
                        "\n",
                        "Epoch 23: Validation loss did not decrease\n",
                        "\t Train_Loss: 0.3350 Train_Acc: 0.001 Val_Loss: 0.3185  BEST VAL Loss: 0.3181  Val_Acc: 0.000\n",
                        "\n",
                        "Epoch 24: Validation loss decreased (0.318146 --> 0.317969).  Saving model ...\n",
                        "\t Train_Loss: 0.3345 Train_Acc: 0.001 Val_Loss: 0.3180  BEST VAL Loss: 0.3180  Val_Acc: 0.000\n",
                        "\n",
                        "Epoch 25: Validation loss decreased (0.317969 --> 0.317381).  Saving model ...\n",
                        "\t Train_Loss: 0.3340 Train_Acc: 0.005 Val_Loss: 0.3174  BEST VAL Loss: 0.3174  Val_Acc: 0.003\n",
                        "\n",
                        "Epoch 26: Validation loss decreased (0.317381 --> 0.316977).  Saving model ...\n",
                        "\t Train_Loss: 0.3335 Train_Acc: 0.003 Val_Loss: 0.3170  BEST VAL Loss: 0.3170  Val_Acc: 0.000\n",
                        "\n",
                        "Epoch 27: Validation loss decreased (0.316977 --> 0.316541).  Saving model ...\n",
                        "\t Train_Loss: 0.3330 Train_Acc: 0.001 Val_Loss: 0.3165  BEST VAL Loss: 0.3165  Val_Acc: 0.000\n",
                        "\n",
                        "Epoch 28: Validation loss decreased (0.316541 --> 0.316292).  Saving model ...\n",
                        "\t Train_Loss: 0.3324 Train_Acc: 0.005 Val_Loss: 0.3163  BEST VAL Loss: 0.3163  Val_Acc: 0.003\n",
                        "\n",
                        "Epoch 29: Validation loss decreased (0.316292 --> 0.316035).  Saving model ...\n",
                        "\t Train_Loss: 0.3320 Train_Acc: 0.005 Val_Loss: 0.3160  BEST VAL Loss: 0.3160  Val_Acc: 0.000\n",
                        "\n",
                        "Epoch 30: Validation loss decreased (0.316035 --> 0.315923).  Saving model ...\n",
                        "\t Train_Loss: 0.3315 Train_Acc: 0.003 Val_Loss: 0.3159  BEST VAL Loss: 0.3159  Val_Acc: 0.003\n",
                        "\n",
                        "Epoch 31: Validation loss decreased (0.315923 --> 0.315896).  Saving model ...\n",
                        "\t Train_Loss: 0.3311 Train_Acc: 0.002 Val_Loss: 0.3159  BEST VAL Loss: 0.3159  Val_Acc: 0.005\n",
                        "\n",
                        "Epoch 32: Validation loss decreased (0.315896 --> 0.315409).  Saving model ...\n",
                        "\t Train_Loss: 0.3306 Train_Acc: 0.006 Val_Loss: 0.3154  BEST VAL Loss: 0.3154  Val_Acc: 0.003\n",
                        "\n",
                        "Epoch 33: Validation loss decreased (0.315409 --> 0.315097).  Saving model ...\n",
                        "\t Train_Loss: 0.3301 Train_Acc: 0.003 Val_Loss: 0.3151  BEST VAL Loss: 0.3151  Val_Acc: 0.003\n",
                        "\n",
                        "Epoch 34: Validation loss decreased (0.315097 --> 0.314828).  Saving model ...\n",
                        "\t Train_Loss: 0.3296 Train_Acc: 0.004 Val_Loss: 0.3148  BEST VAL Loss: 0.3148  Val_Acc: 0.000\n",
                        "\n",
                        "Epoch 35: Validation loss decreased (0.314828 --> 0.314694).  Saving model ...\n",
                        "\t Train_Loss: 0.3291 Train_Acc: 0.003 Val_Loss: 0.3147  BEST VAL Loss: 0.3147  Val_Acc: 0.003\n",
                        "\n",
                        "Epoch 36: Validation loss decreased (0.314694 --> 0.314361).  Saving model ...\n",
                        "\t Train_Loss: 0.3286 Train_Acc: 0.003 Val_Loss: 0.3144  BEST VAL Loss: 0.3144  Val_Acc: 0.003\n",
                        "\n",
                        "Epoch 37: Validation loss decreased (0.314361 --> 0.313996).  Saving model ...\n",
                        "\t Train_Loss: 0.3281 Train_Acc: 0.002 Val_Loss: 0.3140  BEST VAL Loss: 0.3140  Val_Acc: 0.000\n",
                        "\n",
                        "Epoch 38: Validation loss decreased (0.313996 --> 0.313829).  Saving model ...\n",
                        "\t Train_Loss: 0.3277 Train_Acc: 0.005 Val_Loss: 0.3138  BEST VAL Loss: 0.3138  Val_Acc: 0.000\n",
                        "\n",
                        "Epoch 39: Validation loss decreased (0.313829 --> 0.313601).  Saving model ...\n",
                        "\t Train_Loss: 0.3272 Train_Acc: 0.003 Val_Loss: 0.3136  BEST VAL Loss: 0.3136  Val_Acc: 0.000\n",
                        "\n",
                        "Epoch 40: Validation loss decreased (0.313601 --> 0.313227).  Saving model ...\n",
                        "\t Train_Loss: 0.3268 Train_Acc: 0.005 Val_Loss: 0.3132  BEST VAL Loss: 0.3132  Val_Acc: 0.000\n",
                        "\n",
                        "Epoch 41: Validation loss decreased (0.313227 --> 0.312904).  Saving model ...\n",
                        "\t Train_Loss: 0.3264 Train_Acc: 0.003 Val_Loss: 0.3129  BEST VAL Loss: 0.3129  Val_Acc: 0.000\n",
                        "\n",
                        "Epoch 42: Validation loss decreased (0.312904 --> 0.312686).  Saving model ...\n",
                        "\t Train_Loss: 0.3260 Train_Acc: 0.003 Val_Loss: 0.3127  BEST VAL Loss: 0.3127  Val_Acc: 0.003\n",
                        "\n",
                        "Epoch 43: Validation loss decreased (0.312686 --> 0.312354).  Saving model ...\n",
                        "\t Train_Loss: 0.3256 Train_Acc: 0.006 Val_Loss: 0.3124  BEST VAL Loss: 0.3124  Val_Acc: 0.000\n",
                        "\n",
                        "Epoch 44: Validation loss decreased (0.312354 --> 0.312055).  Saving model ...\n",
                        "\t Train_Loss: 0.3252 Train_Acc: 0.003 Val_Loss: 0.3121  BEST VAL Loss: 0.3121  Val_Acc: 0.000\n",
                        "\n",
                        "Epoch 45: Validation loss decreased (0.312055 --> 0.311732).  Saving model ...\n",
                        "\t Train_Loss: 0.3247 Train_Acc: 0.005 Val_Loss: 0.3117  BEST VAL Loss: 0.3117  Val_Acc: 0.000\n",
                        "\n",
                        "Epoch 46: Validation loss decreased (0.311732 --> 0.311511).  Saving model ...\n",
                        "\t Train_Loss: 0.3243 Train_Acc: 0.003 Val_Loss: 0.3115  BEST VAL Loss: 0.3115  Val_Acc: 0.003\n",
                        "\n",
                        "Epoch 47: Validation loss decreased (0.311511 --> 0.311238).  Saving model ...\n",
                        "\t Train_Loss: 0.3239 Train_Acc: 0.002 Val_Loss: 0.3112  BEST VAL Loss: 0.3112  Val_Acc: 0.000\n",
                        "\n",
                        "Epoch 48: Validation loss decreased (0.311238 --> 0.311047).  Saving model ...\n",
                        "\t Train_Loss: 0.3235 Train_Acc: 0.005 Val_Loss: 0.3110  BEST VAL Loss: 0.3110  Val_Acc: 0.005\n",
                        "\n",
                        "Epoch 49: Validation loss decreased (0.311047 --> 0.310897).  Saving model ...\n",
                        "\t Train_Loss: 0.3232 Train_Acc: 0.001 Val_Loss: 0.3109  BEST VAL Loss: 0.3109  Val_Acc: 0.003\n",
                        "\n",
                        "Epoch 50: Validation loss decreased (0.310897 --> 0.310605).  Saving model ...\n",
                        "\t Train_Loss: 0.3228 Train_Acc: 0.002 Val_Loss: 0.3106  BEST VAL Loss: 0.3106  Val_Acc: 0.000\n",
                        "\n",
                        "Epoch 51: Validation loss decreased (0.310605 --> 0.310389).  Saving model ...\n",
                        "\t Train_Loss: 0.3225 Train_Acc: 0.007 Val_Loss: 0.3104  BEST VAL Loss: 0.3104  Val_Acc: 0.000\n",
                        "\n",
                        "Epoch 52: Validation loss decreased (0.310389 --> 0.310228).  Saving model ...\n",
                        "\t Train_Loss: 0.3222 Train_Acc: 0.003 Val_Loss: 0.3102  BEST VAL Loss: 0.3102  Val_Acc: 0.000\n",
                        "\n",
                        "Epoch 53: Validation loss decreased (0.310228 --> 0.310028).  Saving model ...\n",
                        "\t Train_Loss: 0.3218 Train_Acc: 0.005 Val_Loss: 0.3100  BEST VAL Loss: 0.3100  Val_Acc: 0.000\n",
                        "\n",
                        "Epoch 54: Validation loss decreased (0.310028 --> 0.309895).  Saving model ...\n",
                        "\t Train_Loss: 0.3215 Train_Acc: 0.003 Val_Loss: 0.3099  BEST VAL Loss: 0.3099  Val_Acc: 0.010\n",
                        "\n",
                        "Epoch 55: Validation loss decreased (0.309895 --> 0.309835).  Saving model ...\n",
                        "\t Train_Loss: 0.3211 Train_Acc: 0.003 Val_Loss: 0.3098  BEST VAL Loss: 0.3098  Val_Acc: 0.008\n",
                        "\n",
                        "Epoch 56: Validation loss decreased (0.309835 --> 0.309701).  Saving model ...\n",
                        "\t Train_Loss: 0.3207 Train_Acc: 0.002 Val_Loss: 0.3097  BEST VAL Loss: 0.3097  Val_Acc: 0.013\n",
                        "\n",
                        "Epoch 57: Validation loss decreased (0.309701 --> 0.309674).  Saving model ...\n",
                        "\t Train_Loss: 0.3204 Train_Acc: 0.003 Val_Loss: 0.3097  BEST VAL Loss: 0.3097  Val_Acc: 0.000\n",
                        "\n",
                        "Epoch 58: Validation loss decreased (0.309674 --> 0.309437).  Saving model ...\n",
                        "\t Train_Loss: 0.3201 Train_Acc: 0.004 Val_Loss: 0.3094  BEST VAL Loss: 0.3094  Val_Acc: 0.008\n",
                        "\n",
                        "Epoch 59: Validation loss did not decrease\n",
                        "\t Train_Loss: 0.3197 Train_Acc: 0.005 Val_Loss: 0.3095  BEST VAL Loss: 0.3094  Val_Acc: 0.003\n",
                        "\n",
                        "Epoch 60: Validation loss decreased (0.309437 --> 0.309233).  Saving model ...\n",
                        "\t Train_Loss: 0.3194 Train_Acc: 0.006 Val_Loss: 0.3092  BEST VAL Loss: 0.3092  Val_Acc: 0.000\n",
                        "\n",
                        "Epoch 61: Validation loss decreased (0.309233 --> 0.309026).  Saving model ...\n",
                        "\t Train_Loss: 0.3190 Train_Acc: 0.004 Val_Loss: 0.3090  BEST VAL Loss: 0.3090  Val_Acc: 0.003\n",
                        "\n",
                        "Epoch 62: Validation loss decreased (0.309026 --> 0.308901).  Saving model ...\n",
                        "\t Train_Loss: 0.3187 Train_Acc: 0.003 Val_Loss: 0.3089  BEST VAL Loss: 0.3089  Val_Acc: 0.008\n",
                        "\n",
                        "Epoch 63: Validation loss decreased (0.308901 --> 0.308817).  Saving model ...\n",
                        "\t Train_Loss: 0.3183 Train_Acc: 0.007 Val_Loss: 0.3088  BEST VAL Loss: 0.3088  Val_Acc: 0.000\n",
                        "\n",
                        "Epoch 64: Validation loss decreased (0.308817 --> 0.308732).  Saving model ...\n",
                        "\t Train_Loss: 0.3180 Train_Acc: 0.005 Val_Loss: 0.3087  BEST VAL Loss: 0.3087  Val_Acc: 0.008\n",
                        "\n",
                        "Epoch 65: Validation loss decreased (0.308732 --> 0.308640).  Saving model ...\n",
                        "\t Train_Loss: 0.3176 Train_Acc: 0.003 Val_Loss: 0.3086  BEST VAL Loss: 0.3086  Val_Acc: 0.000\n",
                        "\n",
                        "Epoch 66: Validation loss decreased (0.308640 --> 0.308492).  Saving model ...\n",
                        "\t Train_Loss: 0.3173 Train_Acc: 0.005 Val_Loss: 0.3085  BEST VAL Loss: 0.3085  Val_Acc: 0.000\n",
                        "\n",
                        "Epoch 67: Validation loss decreased (0.308492 --> 0.308319).  Saving model ...\n",
                        "\t Train_Loss: 0.3169 Train_Acc: 0.002 Val_Loss: 0.3083  BEST VAL Loss: 0.3083  Val_Acc: 0.000\n",
                        "\n",
                        "Epoch 68: Validation loss decreased (0.308319 --> 0.308190).  Saving model ...\n",
                        "\t Train_Loss: 0.3166 Train_Acc: 0.003 Val_Loss: 0.3082  BEST VAL Loss: 0.3082  Val_Acc: 0.003\n",
                        "\n",
                        "Epoch 69: Validation loss decreased (0.308190 --> 0.308092).  Saving model ...\n",
                        "\t Train_Loss: 0.3162 Train_Acc: 0.004 Val_Loss: 0.3081  BEST VAL Loss: 0.3081  Val_Acc: 0.008\n",
                        "\n",
                        "Epoch 70: Validation loss decreased (0.308092 --> 0.308090).  Saving model ...\n",
                        "\t Train_Loss: 0.3159 Train_Acc: 0.003 Val_Loss: 0.3081  BEST VAL Loss: 0.3081  Val_Acc: 0.016\n",
                        "\n",
                        "Epoch 71: Validation loss decreased (0.308090 --> 0.307941).  Saving model ...\n",
                        "\t Train_Loss: 0.3156 Train_Acc: 0.003 Val_Loss: 0.3079  BEST VAL Loss: 0.3079  Val_Acc: 0.000\n",
                        "\n",
                        "Epoch 72: Validation loss decreased (0.307941 --> 0.307805).  Saving model ...\n",
                        "\t Train_Loss: 0.3153 Train_Acc: 0.005 Val_Loss: 0.3078  BEST VAL Loss: 0.3078  Val_Acc: 0.003\n",
                        "\n",
                        "Epoch 73: Validation loss decreased (0.307805 --> 0.307744).  Saving model ...\n",
                        "\t Train_Loss: 0.3150 Train_Acc: 0.004 Val_Loss: 0.3077  BEST VAL Loss: 0.3077  Val_Acc: 0.003\n",
                        "\n",
                        "Epoch 74: Validation loss decreased (0.307744 --> 0.307625).  Saving model ...\n",
                        "\t Train_Loss: 0.3146 Train_Acc: 0.004 Val_Loss: 0.3076  BEST VAL Loss: 0.3076  Val_Acc: 0.003\n",
                        "\n",
                        "Epoch 75: Validation loss decreased (0.307625 --> 0.307503).  Saving model ...\n",
                        "\t Train_Loss: 0.3143 Train_Acc: 0.007 Val_Loss: 0.3075  BEST VAL Loss: 0.3075  Val_Acc: 0.010\n",
                        "\n",
                        "Epoch 76: Validation loss decreased (0.307503 --> 0.307373).  Saving model ...\n",
                        "\t Train_Loss: 0.3140 Train_Acc: 0.006 Val_Loss: 0.3074  BEST VAL Loss: 0.3074  Val_Acc: 0.003\n",
                        "\n",
                        "Epoch 77: Validation loss decreased (0.307373 --> 0.307326).  Saving model ...\n",
                        "\t Train_Loss: 0.3137 Train_Acc: 0.005 Val_Loss: 0.3073  BEST VAL Loss: 0.3073  Val_Acc: 0.010\n",
                        "\n",
                        "Epoch 78: Validation loss decreased (0.307326 --> 0.307289).  Saving model ...\n",
                        "\t Train_Loss: 0.3134 Train_Acc: 0.005 Val_Loss: 0.3073  BEST VAL Loss: 0.3073  Val_Acc: 0.028\n",
                        "\n",
                        "Epoch 79: Validation loss decreased (0.307289 --> 0.307141).  Saving model ...\n",
                        "\t Train_Loss: 0.3130 Train_Acc: 0.006 Val_Loss: 0.3071  BEST VAL Loss: 0.3071  Val_Acc: 0.003\n",
                        "\n",
                        "Epoch 80: Validation loss did not decrease\n",
                        "\t Train_Loss: 0.3128 Train_Acc: 0.008 Val_Loss: 0.3072  BEST VAL Loss: 0.3071  Val_Acc: 0.000\n",
                        "\n",
                        "Epoch 81: Validation loss decreased (0.307141 --> 0.307088).  Saving model ...\n",
                        "\t Train_Loss: 0.3125 Train_Acc: 0.007 Val_Loss: 0.3071  BEST VAL Loss: 0.3071  Val_Acc: 0.005\n",
                        "\n",
                        "Epoch 82: Validation loss decreased (0.307088 --> 0.306939).  Saving model ...\n",
                        "\t Train_Loss: 0.3121 Train_Acc: 0.004 Val_Loss: 0.3069  BEST VAL Loss: 0.3069  Val_Acc: 0.005\n",
                        "\n",
                        "Epoch 83: Validation loss decreased (0.306939 --> 0.306869).  Saving model ...\n",
                        "\t Train_Loss: 0.3118 Train_Acc: 0.005 Val_Loss: 0.3069  BEST VAL Loss: 0.3069  Val_Acc: 0.008\n",
                        "\n",
                        "Epoch 84: Validation loss decreased (0.306869 --> 0.306755).  Saving model ...\n",
                        "\t Train_Loss: 0.3115 Train_Acc: 0.003 Val_Loss: 0.3068  BEST VAL Loss: 0.3068  Val_Acc: 0.005\n",
                        "\n",
                        "Epoch 85: Validation loss decreased (0.306755 --> 0.306686).  Saving model ...\n",
                        "\t Train_Loss: 0.3112 Train_Acc: 0.004 Val_Loss: 0.3067  BEST VAL Loss: 0.3067  Val_Acc: 0.005\n",
                        "\n",
                        "Epoch 86: Validation loss decreased (0.306686 --> 0.306538).  Saving model ...\n",
                        "\t Train_Loss: 0.3109 Train_Acc: 0.008 Val_Loss: 0.3065  BEST VAL Loss: 0.3065  Val_Acc: 0.000\n",
                        "\n",
                        "Epoch 87: Validation loss decreased (0.306538 --> 0.306423).  Saving model ...\n",
                        "\t Train_Loss: 0.3106 Train_Acc: 0.006 Val_Loss: 0.3064  BEST VAL Loss: 0.3064  Val_Acc: 0.003\n",
                        "\n",
                        "Epoch 88: Validation loss decreased (0.306423 --> 0.306301).  Saving model ...\n",
                        "\t Train_Loss: 0.3103 Train_Acc: 0.005 Val_Loss: 0.3063  BEST VAL Loss: 0.3063  Val_Acc: 0.003\n",
                        "\n",
                        "Epoch 89: Validation loss decreased (0.306301 --> 0.306157).  Saving model ...\n",
                        "\t Train_Loss: 0.3100 Train_Acc: 0.004 Val_Loss: 0.3062  BEST VAL Loss: 0.3062  Val_Acc: 0.000\n",
                        "\n",
                        "Epoch 90: Validation loss decreased (0.306157 --> 0.305995).  Saving model ...\n",
                        "\t Train_Loss: 0.3097 Train_Acc: 0.005 Val_Loss: 0.3060  BEST VAL Loss: 0.3060  Val_Acc: 0.005\n",
                        "\n",
                        "Epoch 91: Validation loss decreased (0.305995 --> 0.305867).  Saving model ...\n",
                        "\t Train_Loss: 0.3094 Train_Acc: 0.003 Val_Loss: 0.3059  BEST VAL Loss: 0.3059  Val_Acc: 0.003\n",
                        "\n",
                        "Epoch 92: Validation loss decreased (0.305867 --> 0.305790).  Saving model ...\n",
                        "\t Train_Loss: 0.3091 Train_Acc: 0.008 Val_Loss: 0.3058  BEST VAL Loss: 0.3058  Val_Acc: 0.003\n",
                        "\n",
                        "Epoch 93: Validation loss decreased (0.305790 --> 0.305743).  Saving model ...\n",
                        "\t Train_Loss: 0.3088 Train_Acc: 0.008 Val_Loss: 0.3057  BEST VAL Loss: 0.3057  Val_Acc: 0.013\n",
                        "\n",
                        "Epoch 94: Validation loss decreased (0.305743 --> 0.305709).  Saving model ...\n",
                        "\t Train_Loss: 0.3086 Train_Acc: 0.008 Val_Loss: 0.3057  BEST VAL Loss: 0.3057  Val_Acc: 0.018\n",
                        "\n",
                        "Epoch 95: Validation loss decreased (0.305709 --> 0.305609).  Saving model ...\n",
                        "\t Train_Loss: 0.3083 Train_Acc: 0.012 Val_Loss: 0.3056  BEST VAL Loss: 0.3056  Val_Acc: 0.010\n",
                        "\n",
                        "Epoch 96: Validation loss decreased (0.305609 --> 0.305598).  Saving model ...\n",
                        "\t Train_Loss: 0.3080 Train_Acc: 0.004 Val_Loss: 0.3056  BEST VAL Loss: 0.3056  Val_Acc: 0.016\n",
                        "\n",
                        "Epoch 97: Validation loss decreased (0.305598 --> 0.305590).  Saving model ...\n",
                        "\t Train_Loss: 0.3077 Train_Acc: 0.010 Val_Loss: 0.3056  BEST VAL Loss: 0.3056  Val_Acc: 0.013\n",
                        "\n",
                        "Epoch 98: Validation loss decreased (0.305590 --> 0.305491).  Saving model ...\n",
                        "\t Train_Loss: 0.3074 Train_Acc: 0.010 Val_Loss: 0.3055  BEST VAL Loss: 0.3055  Val_Acc: 0.016\n",
                        "\n",
                        "Epoch 99: Validation loss decreased (0.305491 --> 0.305392).  Saving model ...\n",
                        "\t Train_Loss: 0.3072 Train_Acc: 0.011 Val_Loss: 0.3054  BEST VAL Loss: 0.3054  Val_Acc: 0.010\n",
                        "\n"
                    ]
                }
            ],
            "source": [
                "# call the optimized training model\n",
                "(\n",
                "    train_loss,\n",
                "    train_acc,\n",
                "    valid_loss,\n",
                "    valid_acc,\n",
                "    epochs_ran,\n",
                "    model,\n",
                ") = train_optimized_model(\n",
                "    mlp_params.TRAIN_EPOCHS,\n",
                "    train_loader,\n",
                "    valid_loader,\n",
                "    params,\n",
                "    mlp_params.MODEL_NAME,\n",
                "    mlp_params.SHUFFLE,\n",
                "    class_weights=class_weights,\n",
                ")\n",
                "# get training_metrics\n",
                "if mlp_params.MODEL_TYPE == \"Regression\":\n",
                "    training_stats = pd.DataFrame(\n",
                "        zip(train_loss, valid_loss, epochs_ran),\n",
                "        columns=[\"train_loss\", \"valid_loss\", \"epochs_ran\"],\n",
                "    )\n",
                "else:\n",
                "    training_stats = pd.DataFrame(\n",
                "        zip(train_loss, train_acc, valid_loss, valid_acc, epochs_ran),\n",
                "        columns=[\"train_loss\", \"train_acc\", \"valid_loss\", \"valid_acc\", \"epochs_ran\"],\n",
                "    )"
            ]
        },
        {
            "cell_type": "code",
            "execution_count": 26,
            "id": "3d5115e3",
            "metadata": {
                "execution": {
                    "iopub.execute_input": "2023-11-13T03:45:26.159482Z",
                    "iopub.status.busy": "2023-11-13T03:45:26.159314Z",
                    "iopub.status.idle": "2023-11-13T03:45:26.166918Z",
                    "shell.execute_reply": "2023-11-13T03:45:26.166470Z"
                },
                "papermill": {
                    "duration": null,
                    "end_time": null,
                    "exception": null,
                    "start_time": null,
                    "status": "pending"
                },
                "tags": []
            },
            "outputs": [
                {
                    "data": {
                        "text/html": [
                            "<div>\n",
                            "<style scoped>\n",
                            "    .dataframe tbody tr th:only-of-type {\n",
                            "        vertical-align: middle;\n",
                            "    }\n",
                            "\n",
                            "    .dataframe tbody tr th {\n",
                            "        vertical-align: top;\n",
                            "    }\n",
                            "\n",
                            "    .dataframe thead th {\n",
                            "        text-align: right;\n",
                            "    }\n",
                            "</style>\n",
                            "<table border=\"1\" class=\"dataframe\">\n",
                            "  <thead>\n",
                            "    <tr style=\"text-align: right;\">\n",
                            "      <th></th>\n",
                            "      <th>label</th>\n",
                            "      <th>metric</th>\n",
                            "      <th>value</th>\n",
                            "      <th>group</th>\n",
                            "      <th>shuffle</th>\n",
                            "    </tr>\n",
                            "  </thead>\n",
                            "  <tbody>\n",
                            "  </tbody>\n",
                            "</table>\n",
                            "</div>"
                        ],
                        "text/plain": [
                            "Empty DataFrame\n",
                            "Columns: [label, metric, value, group, shuffle]\n",
                            "Index: []"
                        ]
                    },
                    "execution_count": 26,
                    "metadata": {},
                    "output_type": "execute_result"
                }
            ],
            "source": [
                "# create a dataframe to store the model stats\n",
                "model_stats_df = pd.DataFrame(\n",
                "    columns=[\n",
                "        \"label\",\n",
                "        \"metric\",\n",
                "        \"value\",\n",
                "        \"group\",\n",
                "        \"shuffle\",\n",
                "    ]\n",
                ")\n",
                "# check empty dataframe\n",
                "model_stats_df"
            ]
        },
        {
            "cell_type": "code",
            "execution_count": 27,
            "id": "d4f283d4",
            "metadata": {
                "execution": {
                    "iopub.execute_input": "2023-11-13T03:45:26.191425Z",
                    "iopub.status.busy": "2023-11-13T03:45:26.191262Z",
                    "iopub.status.idle": "2023-11-13T03:45:26.833630Z",
                    "shell.execute_reply": "2023-11-13T03:45:26.833186Z"
                },
                "papermill": {
                    "duration": null,
                    "end_time": null,
                    "exception": null,
                    "start_time": null,
                    "status": "pending"
                },
                "tags": []
            },
            "outputs": [
                {
                    "name": "stderr",
                    "output_type": "stream",
                    "text": [
                        "/home/lippincm/Documents/4TB/data/pyroptosis_signature_data_analysis/4.sc_Morphology_Neural_Network_MLP_Model/1.model_training/notebooks/../../MLP_utils/utils.py:1017: UserWarning: Ignoring `palette` because no `hue` variable has been assigned.\n",
                        "  sns.lineplot(x=df[x], y=df[y1], palette=\"blue\", label=\"Train\")\n",
                        "/home/lippincm/Documents/4TB/data/pyroptosis_signature_data_analysis/4.sc_Morphology_Neural_Network_MLP_Model/1.model_training/notebooks/../../MLP_utils/utils.py:1018: UserWarning: Ignoring `palette` because no `hue` variable has been assigned.\n",
                        "  sns.lineplot(x=df[x], y=df[y2], palette=\"orange\", label=\"Validation\")\n"
                    ]
                },
                {
                    "data": {
                        "image/png": "[encoded data removed]",
                        "text/plain": [
                            "<Figure size 640x480 with 1 Axes>"
                        ]
                    },
                    "metadata": {},
                    "output_type": "display_data"
                }
            ],
            "source": [
                "if mlp_params.MODEL_TYPE == \"Regression\":\n",
                "    pass\n",
                "else:\n",
                "    plot_metric_vs_epoch(\n",
                "        training_stats,\n",
                "        x=\"epochs_ran\",\n",
                "        y1=\"train_acc\",\n",
                "        y2=\"valid_acc\",\n",
                "        title=\"Accuracy vs. Epochs\",\n",
                "        x_axis_label=\"Epochs\",\n",
                "        y_axis_label=\"Accuracy\",\n",
                "        params=params,\n",
                "        model_name=mlp_params.MODEL_NAME,\n",
                "        shuffle=mlp_params.SHUFFLE,\n",
                "    )"
            ]
        },
        {
            "cell_type": "code",
            "execution_count": 28,
            "id": "5e491e00",
            "metadata": {
                "execution": {
                    "iopub.execute_input": "2023-11-13T03:45:26.861418Z",
                    "iopub.status.busy": "2023-11-13T03:45:26.860827Z",
                    "iopub.status.idle": "2023-11-13T03:45:27.176560Z",
                    "shell.execute_reply": "2023-11-13T03:45:27.176174Z"
                },
                "papermill": {
                    "duration": null,
                    "end_time": null,
                    "exception": null,
                    "start_time": null,
                    "status": "pending"
                },
                "tags": []
            },
            "outputs": [
                {
                    "name": "stderr",
                    "output_type": "stream",
                    "text": [
                        "/home/lippincm/Documents/4TB/data/pyroptosis_signature_data_analysis/4.sc_Morphology_Neural_Network_MLP_Model/1.model_training/notebooks/../../MLP_utils/utils.py:1017: UserWarning: Ignoring `palette` because no `hue` variable has been assigned.\n",
                        "  sns.lineplot(x=df[x], y=df[y1], palette=\"blue\", label=\"Train\")\n",
                        "/home/lippincm/Documents/4TB/data/pyroptosis_signature_data_analysis/4.sc_Morphology_Neural_Network_MLP_Model/1.model_training/notebooks/../../MLP_utils/utils.py:1018: UserWarning: Ignoring `palette` because no `hue` variable has been assigned.\n",
                        "  sns.lineplot(x=df[x], y=df[y2], palette=\"orange\", label=\"Validation\")\n"
                    ]
                },
                {
                    "data": {
                        "image/png": "[encoded data removed]",
                        "text/plain": [
                            "<Figure size 640x480 with 1 Axes>"
                        ]
                    },
                    "metadata": {},
                    "output_type": "display_data"
                }
            ],
            "source": [
                "plot_metric_vs_epoch(\n",
                "    training_stats,\n",
                "    x=\"epochs_ran\",\n",
                "    y1=\"train_loss\",\n",
                "    y2=\"valid_loss\",\n",
                "    title=\"Loss vs. Epochs\",\n",
                "    x_axis_label=\"Epochs\",\n",
                "    y_axis_label=\"Loss\",\n",
                "    params=params,\n",
                "    model_name=mlp_params.MODEL_NAME,\n",
                "    shuffle=mlp_params.SHUFFLE,\n",
                ")"
            ]
        },
        {
            "cell_type": "markdown",
            "id": "1d6993ae",
            "metadata": {
                "papermill": {
                    "duration": null,
                    "end_time": null,
                    "exception": null,
                    "start_time": null,
                    "status": "pending"
                },
                "tags": []
            },
            "source": [
                "### Test Models on training data"
            ]
        },
        {
            "cell_type": "code",
            "execution_count": 29,
            "id": "9c595792",
            "metadata": {
                "execution": {
                    "iopub.execute_input": "2023-11-13T03:45:27.226417Z",
                    "iopub.status.busy": "2023-11-13T03:45:27.226011Z",
                    "iopub.status.idle": "2023-11-13T03:45:29.777801Z",
                    "shell.execute_reply": "2023-11-13T03:45:29.777257Z"
                },
                "papermill": {
                    "duration": null,
                    "end_time": null,
                    "exception": null,
                    "start_time": null,
                    "status": "pending"
                },
                "tags": []
            },
            "outputs": [
                {
                    "name": "stdout",
                    "output_type": "stream",
                    "text": [
                        "MultiClass_MLP\n"
                    ]
                }
            ],
            "source": [
                "# test the model on training data\n",
                "# calling the testing function and outputting list values of tested model\n",
                "if any(\n",
                "    model_type == mlp_params.MODEL_TYPE for model_type in [\"Multi_Class\", \"Regression\"]\n",
                "):\n",
                "    (y_pred_list, y_pred_prob_list, Y_test_list,) = test_optimized_model(\n",
                "        model,\n",
                "        train_loader,\n",
                "        mlp_params,\n",
                "        model_name=mlp_params.MODEL_NAME,\n",
                "        shuffle=mlp_params.SHUFFLE,\n",
                "    )\n",
                "elif mlp_params.MODEL_TYPE == \"Binary_Classification\":\n",
                "    y_pred_list, y_pred_prob_list = test_optimized_model(\n",
                "        model,\n",
                "        train_loader,\n",
                "        mlp_params,\n",
                "        model_name=mlp_params.MODEL_NAME,\n",
                "        shuffle=mlp_params.SHUFFLE,\n",
                "    )\n",
                "else:\n",
                "    raise Exception(\"Model type must be specified for proper model testing\")\n",
                "\n",
                "# un-nest list if nested i.e. length of input data does not match length of output data\n",
                "if len(y_pred_list) != len(Y_test):\n",
                "    y_pred_list = un_nest(y_pred_list)\n",
                "    if mlp_params.MODEL_TYPE == \"Binary_Classification\":\n",
                "        y_pred_prob_list = un_nest(y_pred_prob_list)\n",
                "else:\n",
                "    pass"
            ]
        },
        {
            "cell_type": "code",
            "execution_count": 30,
            "id": "b9113015",
            "metadata": {},
            "outputs": [],
            "source": [
                "# convert output tensors into arrays\n",
                "\n",
                "# list of tensors to list of lists\n",
                "y_pred_prob_list = [tensor.tolist() for tensor in y_pred_prob_list]\n",
                "Y_test_list = [tensor.tolist() for tensor in Y_test_list]\n",
                "# completly flatten list of lists\n",
                "new_prob_list = []\n",
                "for i in y_pred_prob_list:\n",
                "    for j in i:\n",
                "        new_prob_list.append(j)\n",
                "\n",
                "new_y_test_list = []\n",
                "for i in Y_test_list:\n",
                "    for j in i:\n",
                "        new_y_test_list.append(j)\n",
                "\n",
                "# list of lists to array\n",
                "y_pred_prob_list = np.array(new_prob_list)\n",
                "Y_test = np.array(new_y_test_list)"
            ]
        },
        {
            "cell_type": "code",
            "execution_count": 31,
            "id": "5df5aa40",
            "metadata": {},
            "outputs": [],
            "source": [
                "# get the PR curve for each class\n",
                "pr_curve_0 = precision_recall_curve(Y_test[:, 0], y_pred_prob_list[:, 0])\n",
                "pr_curve_1 = precision_recall_curve(Y_test[:, 1], y_pred_prob_list[:, 1])\n",
                "pr_curve_2 = precision_recall_curve(Y_test[:, 2], y_pred_prob_list[:, 2])"
            ]
        },
        {
            "cell_type": "code",
            "execution_count": 32,
            "id": "4ef5d998",
            "metadata": {},
            "outputs": [
                {
                    "name": "stderr",
                    "output_type": "stream",
                    "text": [
                        "/tmp/ipykernel_1387241/4273854277.py:28: SettingWithCopyWarning: \n",
                        "A value is trying to be set on a copy of a slice from a DataFrame\n",
                        "\n",
                        "See the caveats in the documentation: https://pandas.pydata.org/pandas-docs/stable/user_guide/indexing.html#returning-a-view-versus-a-copy\n",
                        "  tmp_df.drop_duplicates(inplace=True)\n"
                    ]
                }
            ],
            "source": [
                "# make a dataframe of the precision-recall curves for each class\n",
                "pr_curve_0 = pd.DataFrame(\n",
                "    zip(pr_curve_0[0], pr_curve_0[1]),\n",
                "    columns=[\"precision\", \"recall\"],\n",
                ")\n",
                "pr_curve_0[\"label\"] = 0\n",
                "\n",
                "pr_curve_1 = pd.DataFrame(\n",
                "    zip(pr_curve_1[0], pr_curve_1[1]),\n",
                "    columns=[\"precision\", \"recall\"],\n",
                ")\n",
                "pr_curve_1[\"label\"] = 1\n",
                "\n",
                "pr_curve_2 = pd.DataFrame(\n",
                "    zip(pr_curve_2[0], pr_curve_2[1]),\n",
                "    columns=[\"precision\", \"recall\"],\n",
                ")\n",
                "pr_curve_2[\"label\"] = 2\n",
                "\n",
                "# make the precision-recall curve dataframe\n",
                "pr_curve_df = pd.DataFrame(columns=[\"precision\", \"recall\", \"label\"])\n",
                "# concatenate the dataframes together\n",
                "pr_curve_df = pd.concat([pr_curve_df, pr_curve_0, pr_curve_1, pr_curve_2])\n",
                "\n",
                "# get the decoded labels\n",
                "tmp_df = df_values[[\"new_labels\", \"labels\"]]\n",
                "# get the unique rows\n",
                "tmp_df.drop_duplicates(inplace=True)\n",
                "# make a dict of the labels and new labels\n",
                "label_dict = dict(zip(tmp_df[\"new_labels\"], tmp_df[\"labels\"]))\n",
                "\n",
                "# change the label column to the actual labels from the label dict\n",
                "pr_curve_df[\"label\"] = pr_curve_df[\"label\"].map(label_dict)\n",
                "pr_curve_df[\"data_split\"] = \"train\"\n",
                "pr_curve_df[\"shuffle\"] = mlp_params.SHUFFLE"
            ]
        },
        {
            "cell_type": "code",
            "execution_count": 33,
            "id": "1d126ac9",
            "metadata": {},
            "outputs": [],
            "source": [
                "main_prob_df = pd.DataFrame(\n",
                "    columns=[\n",
                "        \"apoptosis_prob\",\n",
                "        \"control_prob\",\n",
                "        \"pyroptosis_prob\",\n",
                "        \"label_true\",\n",
                "        \"label_pred\",\n",
                "        \"data_split\",\n",
                "        \"shuffle\",\n",
                "        \"class_name\",\n",
                "    ]\n",
                ")"
            ]
        },
        {
            "cell_type": "code",
            "execution_count": 34,
            "id": "937bf214",
            "metadata": {},
            "outputs": [],
            "source": [
                "class_0_prob = []\n",
                "class_1_prob = []\n",
                "class_2_prob = []\n",
                "\n",
                "for i in y_pred_prob_list:\n",
                "    class_0_prob.append(i[0])\n",
                "    class_1_prob.append(i[1])\n",
                "    class_2_prob.append(i[2])\n",
                "\n",
                "\n",
                "prob_df = pd.DataFrame(\n",
                "    zip(class_0_prob, class_1_prob, class_2_prob),\n",
                "    columns=[\"apoptosis_prob\", \"control_prob\", \"pyroptosis_prob\"],\n",
                ")\n",
                "label_true = [np.argmax(i) for i in Y_test]\n",
                "\n",
                "prob_df[\"label_true\"] = label_true\n",
                "prob_df[\"label_pred\"] = y_pred_list\n",
                "prob_df[\"data_split\"] = \"train\"\n",
                "prob_df[\"shuffle\"] = mlp_params.SHUFFLE\n",
                "prob_df[\"class_name\"] = prob_df[\"label_true\"].map(label_dict)\n",
                "metadata_train.reset_index(inplace=True)\n",
                "\n",
                "prob_df = pd.concat([prob_df, metadata_train], axis=1)\n",
                "\n",
                "main_prob_df = pd.concat([main_prob_df, prob_df])"
            ]
        },
        {
            "cell_type": "code",
            "execution_count": 35,
            "id": "b8cf2229",
            "metadata": {},
            "outputs": [],
            "source": [
                "# create a master dataframe to store all the model stats\n",
                "# across all data splits and shuffled data\n",
                "pr_curve_df_all = pd.DataFrame(\n",
                "    columns=[\"precision\", \"recall\", \"label\", \"data_split\", \"shuffle\"]\n",
                ")\n",
                "pr_curve_df_all = pd.concat([pr_curve_df_all, pr_curve_df], axis=0)"
            ]
        },
        {
            "cell_type": "code",
            "execution_count": 36,
            "id": "0f4468bf",
            "metadata": {},
            "outputs": [
                {
                    "data": {
                        "text/plain": [
                            "array(['train'], dtype=object)"
                        ]
                    },
                    "execution_count": 36,
                    "metadata": {},
                    "output_type": "execute_result"
                }
            ],
            "source": [
                "pr_curve_df_all[\"data_split\"].unique()"
            ]
        },
        {
            "cell_type": "code",
            "execution_count": 37,
            "id": "db38c19f",
            "metadata": {},
            "outputs": [],
            "source": [
                "# prior to using the output_stats function, the y_pred_list and Y_test_list must be converted to a single list each\n",
                "# Y_test_list de code the one hot encoding\n",
                "Y_test_list = [np.argmax(i) for i in Y_test]"
            ]
        },
        {
            "cell_type": "code",
            "execution_count": 38,
            "id": "4b269c1d",
            "metadata": {
                "execution": {
                    "iopub.execute_input": "2023-11-13T03:45:29.806395Z",
                    "iopub.status.busy": "2023-11-13T03:45:29.806222Z",
                    "iopub.status.idle": "2023-11-13T03:45:30.151598Z",
                    "shell.execute_reply": "2023-11-13T03:45:30.151179Z"
                },
                "papermill": {
                    "duration": null,
                    "end_time": null,
                    "exception": null,
                    "start_time": null,
                    "status": "pending"
                },
                "tags": []
            },
            "outputs": [
                {
                    "name": "stdout",
                    "output_type": "stream",
                    "text": [
                        "              precision    recall  f1-score   support\n",
                        "\n",
                        "           0       0.98      0.77      0.86      8123\n",
                        "           1       0.78      0.95      0.86     91165\n",
                        "           2       0.88      0.59      0.70     55232\n",
                        "\n",
                        "    accuracy                           0.81    154520\n",
                        "   macro avg       0.88      0.77      0.81    154520\n",
                        "weighted avg       0.82      0.81      0.80    154520\n",
                        "\n"
                    ]
                },
                {
                    "name": "stderr",
                    "output_type": "stream",
                    "text": [
                        "/tmp/ipykernel_1387241/3777910350.py:18: SettingWithCopyWarning: \n",
                        "A value is trying to be set on a copy of a slice from a DataFrame.\n",
                        "Try using .loc[row_indexer,col_indexer] = value instead\n",
                        "\n",
                        "See the caveats in the documentation: https://pandas.pydata.org/pandas-docs/stable/user_guide/indexing.html#returning-a-view-versus-a-copy\n",
                        "  df_labels[\"new_labels\"] = df_labels[\"new_labels\"].astype(str)\n"
                    ]
                }
            ],
            "source": [
                "stats_df = output_stats(\n",
                "    y_pred_list,\n",
                "    Y_test_list,\n",
                "    mlp_params,\n",
                "    test_name=f\"{mlp_params.MODEL_NAME}_train\",\n",
                "    model_name=mlp_params.MODEL_NAME,\n",
                "    title=mlp_params.MODEL_NAME,\n",
                "    shuffle=mlp_params.SHUFFLE,\n",
                ")\n",
                "# make into a dataframe\n",
                "stats_df = pd.DataFrame.from_dict(stats_df).transpose()\n",
                "stats_df.reset_index(inplace=True)\n",
                "stats_df.rename(columns={\"index\": \"label\"}, inplace=True)\n",
                "stats_df = stats_df.melt(id_vars=[\"label\"], var_name=\"metric\", value_name=\"value\")\n",
                "# if accuracy in row of column 1 then change value of column 2 to accuracy\n",
                "stats_df.loc[stats_df[\"label\"] == \"accuracy\", \"metric\"] = \"accuracy\"\n",
                "# create a decoder dictionary from df_labels\n",
                "df_labels[\"new_labels\"] = df_labels[\"new_labels\"].astype(str)\n",
                "decoder = df_labels.set_index(\"new_labels\").to_dict()[\"labels\"]\n",
                "decoder[\"accuracy\"] = \"accuracy\"\n",
                "decoder[\"macro avg\"] = \"macro avg\"\n",
                "decoder[\"weighted avg\"] = \"weighted avg\"\n",
                "stats_df[\"label\"] = stats_df[\"label\"].map(decoder)"
            ]
        },
        {
            "cell_type": "code",
            "execution_count": 39,
            "id": "fdde3d70",
            "metadata": {
                "execution": {
                    "iopub.execute_input": "2023-11-13T03:45:30.178667Z",
                    "iopub.status.busy": "2023-11-13T03:45:30.178280Z",
                    "iopub.status.idle": "2023-11-13T03:45:30.181886Z",
                    "shell.execute_reply": "2023-11-13T03:45:30.181494Z"
                },
                "papermill": {
                    "duration": null,
                    "end_time": null,
                    "exception": null,
                    "start_time": null,
                    "status": "pending"
                },
                "tags": []
            },
            "outputs": [],
            "source": [
                "stats_df[\"group\"] = \"train\"\n",
                "stats_df[\"shuffle\"] = mlp_params.SHUFFLE\n",
                "stats_df\n",
                "model_stats_df = pd.concat([model_stats_df, stats_df], axis=0)"
            ]
        },
        {
            "cell_type": "code",
            "execution_count": 40,
            "id": "bc29bd44",
            "metadata": {},
            "outputs": [],
            "source": [
                "# define a final dataframe to store the predictions\n",
                "final_predictions_df = pd.DataFrame()"
            ]
        },
        {
            "cell_type": "code",
            "execution_count": 41,
            "id": "f537c6d3",
            "metadata": {},
            "outputs": [],
            "source": [
                "# make a df of the predictions and the true labels\n",
                "y_pred_df = pd.DataFrame(y_pred_list, columns=[\"predicted_label\"])\n",
                "y_true_df = pd.DataFrame(Y_test_list, columns=[\"true_label\"])\n",
                "# concat the two dataframes\n",
                "# final_predictions_df = pd.concat([y_true_df, y_pred_df], axis=1)\n",
                "y_pred_df = pd.concat([y_true_df, y_pred_df], axis=1)"
            ]
        },
        {
            "cell_type": "code",
            "execution_count": 42,
            "id": "7cdf5bab",
            "metadata": {},
            "outputs": [],
            "source": [
                "# merge y_pred_df with metadata_holdout whiile keeping the index of metadata_holdout\n",
                "# metadata_train.reset_index(inplace=True)\n",
                "y_pred_df = pd.concat([y_pred_df, metadata_train], axis=1)\n",
                "# set the index to the index column\n",
                "y_pred_df.set_index(\"index\", inplace=True, drop=True)"
            ]
        },
        {
            "cell_type": "code",
            "execution_count": 43,
            "id": "94fbfda1",
            "metadata": {},
            "outputs": [],
            "source": [
                "y_pred_df[\"data_split\"] = \"train\"\n",
                "y_pred_df[\"shuffle\"] = mlp_params.SHUFFLE"
            ]
        },
        {
            "cell_type": "code",
            "execution_count": 44,
            "id": "e8c704f3",
            "metadata": {},
            "outputs": [],
            "source": [
                "# set path for the model confusion matrices\n",
                "y_pred_df_path = pathlib.Path(\n",
                "    f\"../../results/Multi_Class/{mlp_params.MODEL_NAME}/{mlp_params.CELL_TYPE}/training_single_cell_predictions.parquet\"\n",
                ")\n",
                "y_pred_df_path.parent.mkdir(parents=True, exist_ok=True)\n",
                "if y_pred_df_path.exists():\n",
                "    predictions_df_tmp = pd.read_parquet(y_pred_df_path)\n",
                "    if len(predictions_df_tmp[\"shuffle\"].unique()) > 1:\n",
                "        pass\n",
                "    elif predictions_df_tmp[\"shuffle\"].unique() == mlp_params.SHUFFLE:\n",
                "        pass\n",
                "    else:\n",
                "        metrics_df = pd.concat([predictions_df_tmp, y_pred_df], axis=0)\n",
                "        metrics_df.to_parquet(y_pred_df_path, index=False)\n",
                "else:\n",
                "    y_pred_df.to_parquet(y_pred_df_path, index=False)"
            ]
        },
        {
            "cell_type": "code",
            "execution_count": 45,
            "id": "67c01a0d",
            "metadata": {},
            "outputs": [],
            "source": [
                "final_predictions_df = pd.concat([final_predictions_df, y_pred_df], axis=0)"
            ]
        },
        {
            "cell_type": "markdown",
            "id": "dd00a92e",
            "metadata": {
                "papermill": {
                    "duration": null,
                    "end_time": null,
                    "exception": null,
                    "start_time": null,
                    "status": "pending"
                },
                "tags": []
            },
            "source": [
                "## Test models on Validation data"
            ]
        },
        {
            "cell_type": "code",
            "execution_count": 46,
            "id": "52b5399f",
            "metadata": {
                "execution": {
                    "iopub.execute_input": "2023-11-13T03:45:30.229982Z",
                    "iopub.status.busy": "2023-11-13T03:45:30.229718Z",
                    "iopub.status.idle": "2023-11-13T03:45:30.837000Z",
                    "shell.execute_reply": "2023-11-13T03:45:30.836480Z"
                },
                "papermill": {
                    "duration": null,
                    "end_time": null,
                    "exception": null,
                    "start_time": null,
                    "status": "pending"
                },
                "tags": []
            },
            "outputs": [
                {
                    "name": "stdout",
                    "output_type": "stream",
                    "text": [
                        "MultiClass_MLP\n"
                    ]
                }
            ],
            "source": [
                "# test the model on training data\n",
                "# calling the testing function and outputting list values of tested model\n",
                "if any(\n",
                "    model_type == mlp_params.MODEL_TYPE for model_type in [\"Multi_Class\", \"Regression\"]\n",
                "):\n",
                "    (y_pred_list, y_pred_prob_list, Y_test_list) = test_optimized_model(\n",
                "        model,\n",
                "        valid_loader,\n",
                "        mlp_params,\n",
                "        model_name=mlp_params.MODEL_NAME,\n",
                "        shuffle=mlp_params.SHUFFLE,\n",
                "    )\n",
                "elif mlp_params.MODEL_TYPE == \"Binary_Classification\":\n",
                "    y_pred_list, y_pred_prob_list = test_optimized_model(\n",
                "        model,\n",
                "        valid_loader,\n",
                "        mlp_params,\n",
                "        model_name=mlp_params.MODEL_NAME,\n",
                "        shuffle=mlp_params.SHUFFLE,\n",
                "    )\n",
                "else:\n",
                "    raise Exception(\"Model type must be specified for proper model testing\")\n",
                "\n",
                "# un-nest list if nested i.e. length of input data does not match length of output data\n",
                "if len(y_pred_list) != len(Y_test):\n",
                "    y_pred_list = un_nest(y_pred_list)\n",
                "    if mlp_params.MODEL_TYPE == \"Binary_Classification\":\n",
                "        y_pred_prob_list = un_nest(y_pred_prob_list)\n",
                "else:\n",
                "    pass"
            ]
        },
        {
            "cell_type": "code",
            "execution_count": 47,
            "id": "88e9f528",
            "metadata": {},
            "outputs": [],
            "source": [
                "# convert output tensors into arrays\n",
                "\n",
                "# list of tensors to list of lists\n",
                "y_pred_prob_list = [tensor.tolist() for tensor in y_pred_prob_list]\n",
                "Y_test_list = [tensor.tolist() for tensor in Y_test_list]\n",
                "# completly flatten list of lists\n",
                "new_prob_list = []\n",
                "for i in y_pred_prob_list:\n",
                "    for j in i:\n",
                "        new_prob_list.append(j)\n",
                "\n",
                "new_y_test_list = []\n",
                "for i in Y_test_list:\n",
                "    for j in i:\n",
                "        new_y_test_list.append(j)\n",
                "\n",
                "# list of lists to array\n",
                "y_pred_prob_list = np.array(new_prob_list)\n",
                "Y_test = np.array(new_y_test_list)"
            ]
        },
        {
            "cell_type": "code",
            "execution_count": 48,
            "id": "75d2286a",
            "metadata": {},
            "outputs": [],
            "source": [
                "# get the PR curve for each class\n",
                "pr_curve_0 = precision_recall_curve(Y_test[:, 0], y_pred_prob_list[:, 0])\n",
                "pr_curve_1 = precision_recall_curve(Y_test[:, 1], y_pred_prob_list[:, 1])\n",
                "pr_curve_2 = precision_recall_curve(Y_test[:, 2], y_pred_prob_list[:, 2])"
            ]
        },
        {
            "cell_type": "code",
            "execution_count": 49,
            "id": "4ece253d",
            "metadata": {},
            "outputs": [
                {
                    "name": "stderr",
                    "output_type": "stream",
                    "text": [
                        "/tmp/ipykernel_1387241/95662448.py:28: SettingWithCopyWarning: \n",
                        "A value is trying to be set on a copy of a slice from a DataFrame\n",
                        "\n",
                        "See the caveats in the documentation: https://pandas.pydata.org/pandas-docs/stable/user_guide/indexing.html#returning-a-view-versus-a-copy\n",
                        "  tmp_df.drop_duplicates(inplace=True)\n"
                    ]
                }
            ],
            "source": [
                "# make a dataframe of the precision-recall curves for each class\n",
                "pr_curve_0 = pd.DataFrame(\n",
                "    zip(pr_curve_0[0], pr_curve_0[1]),\n",
                "    columns=[\"precision\", \"recall\"],\n",
                ")\n",
                "pr_curve_0[\"label\"] = 0\n",
                "\n",
                "pr_curve_1 = pd.DataFrame(\n",
                "    zip(pr_curve_1[0], pr_curve_1[1]),\n",
                "    columns=[\"precision\", \"recall\"],\n",
                ")\n",
                "pr_curve_1[\"label\"] = 1\n",
                "\n",
                "pr_curve_2 = pd.DataFrame(\n",
                "    zip(pr_curve_2[0], pr_curve_2[1]),\n",
                "    columns=[\"precision\", \"recall\"],\n",
                ")\n",
                "pr_curve_2[\"label\"] = 2\n",
                "\n",
                "# make the precision-recall curve dataframe\n",
                "pr_curve_df = pd.DataFrame(columns=[\"precision\", \"recall\", \"label\"])\n",
                "pr_curve_df = pd.concat([pr_curve_df, pr_curve_0, pr_curve_1, pr_curve_2])\n",
                "\n",
                "\n",
                "# get the decoded labels\n",
                "tmp_df = df_values[[\"new_labels\", \"labels\"]]\n",
                "# get the unique rows\n",
                "tmp_df.drop_duplicates(inplace=True)\n",
                "# make a dict of the labels and new labels\n",
                "label_dict = dict(zip(tmp_df[\"new_labels\"], tmp_df[\"labels\"]))\n",
                "\n",
                "# change the label column to the actual labels from the label dict\n",
                "pr_curve_df[\"label\"] = pr_curve_df[\"label\"].map(label_dict)\n",
                "pr_curve_df[\"data_split\"] = \"validation\"\n",
                "pr_curve_df[\"shuffle\"] = mlp_params.SHUFFLE"
            ]
        },
        {
            "cell_type": "code",
            "execution_count": 50,
            "id": "dd75f380",
            "metadata": {},
            "outputs": [
                {
                    "name": "stderr",
                    "output_type": "stream",
                    "text": [
                        "/tmp/ipykernel_1387241/2243255322.py:3: FutureWarning: In a future version, object-dtype columns with all-bool values will not be included in reductions with bool_only=True. Explicitly cast to bool dtype instead.\n",
                        "  pr_curve_df_all = pd.concat([pr_curve_df_all, pr_curve_df], axis=0)\n"
                    ]
                }
            ],
            "source": [
                "# create a master dataframe to store all the model stats\n",
                "# across all data splits and shuffled data\n",
                "pr_curve_df_all = pd.concat([pr_curve_df_all, pr_curve_df], axis=0)"
            ]
        },
        {
            "cell_type": "code",
            "execution_count": 51,
            "id": "f3e9b542",
            "metadata": {},
            "outputs": [
                {
                    "data": {
                        "text/plain": [
                            "array(['train', 'validation'], dtype=object)"
                        ]
                    },
                    "execution_count": 51,
                    "metadata": {},
                    "output_type": "execute_result"
                }
            ],
            "source": [
                "pr_curve_df_all[\"data_split\"].unique()"
            ]
        },
        {
            "cell_type": "code",
            "execution_count": 52,
            "id": "e6ce5ab0",
            "metadata": {},
            "outputs": [
                {
                    "name": "stderr",
                    "output_type": "stream",
                    "text": [
                        "/tmp/ipykernel_1387241/2502681538.py:25: FutureWarning: In a future version, object-dtype columns with all-bool values will not be included in reductions with bool_only=True. Explicitly cast to bool dtype instead.\n",
                        "  main_prob_df = pd.concat([main_prob_df, prob_df])\n"
                    ]
                }
            ],
            "source": [
                "class_0_prob = []\n",
                "class_1_prob = []\n",
                "class_2_prob = []\n",
                "\n",
                "for i in y_pred_prob_list:\n",
                "    class_0_prob.append(i[0])\n",
                "    class_1_prob.append(i[1])\n",
                "    class_2_prob.append(i[2])\n",
                "\n",
                "\n",
                "prob_df = pd.DataFrame(\n",
                "    zip(class_0_prob, class_1_prob, class_2_prob),\n",
                "    columns=[\"apoptosis_prob\", \"control_prob\", \"pyroptosis_prob\"],\n",
                ")\n",
                "label_true = [np.argmax(i) for i in Y_test]\n",
                "\n",
                "prob_df[\"label_true\"] = label_true\n",
                "prob_df[\"label_pred\"] = y_pred_list\n",
                "prob_df[\"data_split\"] = \"validation\"\n",
                "prob_df[\"shuffle\"] = mlp_params.SHUFFLE\n",
                "prob_df[\"class_name\"] = prob_df[\"label_true\"].map(label_dict)\n",
                "metadata_val.reset_index(inplace=True)\n",
                "\n",
                "prob_df = pd.concat([prob_df, metadata_val], axis=1)\n",
                "main_prob_df = pd.concat([main_prob_df, prob_df])"
            ]
        },
        {
            "cell_type": "code",
            "execution_count": 53,
            "id": "72f18f53",
            "metadata": {},
            "outputs": [],
            "source": [
                "Y_test_list = [np.argmax(i) for i in Y_test]"
            ]
        },
        {
            "cell_type": "code",
            "execution_count": 54,
            "id": "444b8e3e",
            "metadata": {
                "execution": {
                    "iopub.execute_input": "2023-11-13T03:45:30.862100Z",
                    "iopub.status.busy": "2023-11-13T03:45:30.861930Z",
                    "iopub.status.idle": "2023-11-13T03:45:30.962171Z",
                    "shell.execute_reply": "2023-11-13T03:45:30.961719Z"
                },
                "papermill": {
                    "duration": null,
                    "end_time": null,
                    "exception": null,
                    "start_time": null,
                    "status": "pending"
                },
                "tags": []
            },
            "outputs": [
                {
                    "name": "stdout",
                    "output_type": "stream",
                    "text": [
                        "              precision    recall  f1-score   support\n",
                        "\n",
                        "           0       0.90      0.65      0.76      2031\n",
                        "           1       0.75      0.93      0.83     22791\n",
                        "           2       0.82      0.55      0.66     13809\n",
                        "\n",
                        "    accuracy                           0.78     38631\n",
                        "   macro avg       0.83      0.71      0.75     38631\n",
                        "weighted avg       0.79      0.78      0.76     38631\n",
                        "\n"
                    ]
                },
                {
                    "name": "stderr",
                    "output_type": "stream",
                    "text": [
                        "/tmp/ipykernel_1387241/3777910350.py:18: SettingWithCopyWarning: \n",
                        "A value is trying to be set on a copy of a slice from a DataFrame.\n",
                        "Try using .loc[row_indexer,col_indexer] = value instead\n",
                        "\n",
                        "See the caveats in the documentation: https://pandas.pydata.org/pandas-docs/stable/user_guide/indexing.html#returning-a-view-versus-a-copy\n",
                        "  df_labels[\"new_labels\"] = df_labels[\"new_labels\"].astype(str)\n"
                    ]
                }
            ],
            "source": [
                "stats_df = output_stats(\n",
                "    y_pred_list,\n",
                "    Y_test_list,\n",
                "    mlp_params,\n",
                "    test_name=f\"{mlp_params.MODEL_NAME}_train\",\n",
                "    model_name=mlp_params.MODEL_NAME,\n",
                "    title=mlp_params.MODEL_NAME,\n",
                "    shuffle=mlp_params.SHUFFLE,\n",
                ")\n",
                "# make into a dataframe\n",
                "stats_df = pd.DataFrame.from_dict(stats_df).transpose()\n",
                "stats_df.reset_index(inplace=True)\n",
                "stats_df.rename(columns={\"index\": \"label\"}, inplace=True)\n",
                "stats_df = stats_df.melt(id_vars=[\"label\"], var_name=\"metric\", value_name=\"value\")\n",
                "# if accuracy in row of column 1 then change value of column 2 to accuracy\n",
                "stats_df.loc[stats_df[\"label\"] == \"accuracy\", \"metric\"] = \"accuracy\"\n",
                "# create a decoder dictionary from df_labels\n",
                "df_labels[\"new_labels\"] = df_labels[\"new_labels\"].astype(str)\n",
                "decoder = df_labels.set_index(\"new_labels\").to_dict()[\"labels\"]\n",
                "decoder[\"accuracy\"] = \"accuracy\"\n",
                "decoder[\"macro avg\"] = \"macro avg\"\n",
                "decoder[\"weighted avg\"] = \"weighted avg\"\n",
                "stats_df[\"label\"] = stats_df[\"label\"].map(decoder)"
            ]
        },
        {
            "cell_type": "code",
            "execution_count": 55,
            "id": "2573e7a6",
            "metadata": {
                "execution": {
                    "iopub.execute_input": "2023-11-13T03:45:30.989234Z",
                    "iopub.status.busy": "2023-11-13T03:45:30.989069Z",
                    "iopub.status.idle": "2023-11-13T03:45:30.992766Z",
                    "shell.execute_reply": "2023-11-13T03:45:30.992326Z"
                },
                "papermill": {
                    "duration": null,
                    "end_time": null,
                    "exception": null,
                    "start_time": null,
                    "status": "pending"
                },
                "tags": []
            },
            "outputs": [
                {
                    "name": "stderr",
                    "output_type": "stream",
                    "text": [
                        "/tmp/ipykernel_1387241/4189047634.py:4: FutureWarning: In a future version, object-dtype columns with all-bool values will not be included in reductions with bool_only=True. Explicitly cast to bool dtype instead.\n",
                        "  model_stats_df = pd.concat([model_stats_df, stats_df], axis=0)\n"
                    ]
                }
            ],
            "source": [
                "stats_df[\"group\"] = \"validation\"\n",
                "stats_df[\"shuffle\"] = mlp_params.SHUFFLE\n",
                "\n",
                "model_stats_df = pd.concat([model_stats_df, stats_df], axis=0)"
            ]
        },
        {
            "cell_type": "code",
            "execution_count": 56,
            "id": "8c2595e2",
            "metadata": {},
            "outputs": [],
            "source": [
                "# make a df of the predictions and the true labels\n",
                "y_pred_df = pd.DataFrame(y_pred_list, columns=[\"predicted_label\"])\n",
                "y_true_df = pd.DataFrame(Y_test_list, columns=[\"true_label\"])\n",
                "# concat the two dataframes\n",
                "# final_predictions_df = pd.concat([y_true_df, y_pred_df], axis=1)\n",
                "y_pred_df = pd.concat([y_true_df, y_pred_df], axis=1)"
            ]
        },
        {
            "cell_type": "code",
            "execution_count": 57,
            "id": "554ce6e9",
            "metadata": {},
            "outputs": [],
            "source": [
                "# merge y_pred_df with metadata_holdout whiile keeping the index of metadata_holdout\n",
                "# metadata_val.reset_index(inplace=True)\n",
                "y_pred_df = pd.concat([y_pred_df, metadata_val], axis=1)\n",
                "# set the index to the index column\n",
                "y_pred_df.set_index(\"index\", inplace=True, drop=True)"
            ]
        },
        {
            "cell_type": "code",
            "execution_count": 58,
            "id": "69aa0994",
            "metadata": {},
            "outputs": [],
            "source": [
                "y_pred_df[\"data_split\"] = \"validation\"\n",
                "y_pred_df[\"shuffle\"] = mlp_params.SHUFFLE"
            ]
        },
        {
            "cell_type": "code",
            "execution_count": 59,
            "id": "2280e9bc",
            "metadata": {},
            "outputs": [],
            "source": [
                "# set path for the model confusion matrices\n",
                "y_pred_df_path = pathlib.Path(\n",
                "    f\"../../results/Multi_Class/{mlp_params.MODEL_NAME}/{mlp_params.CELL_TYPE}/validation_single_cell_predictions.parquet\"\n",
                ")\n",
                "y_pred_df_path.parent.mkdir(parents=True, exist_ok=True)\n",
                "if y_pred_df_path.exists():\n",
                "    predictions_df_tmp = pd.read_parquet(y_pred_df_path)\n",
                "    if len(predictions_df_tmp[\"shuffle\"].unique()) > 1:\n",
                "        pass\n",
                "    elif predictions_df_tmp[\"shuffle\"].unique() == mlp_params.SHUFFLE:\n",
                "        pass\n",
                "    else:\n",
                "        metrics_df = pd.concat([predictions_df_tmp, y_pred_df], axis=0)\n",
                "        metrics_df.to_parquet(y_pred_df_path, index=False)\n",
                "else:\n",
                "    y_pred_df.to_parquet(y_pred_df_path, index=False)"
            ]
        },
        {
            "cell_type": "code",
            "execution_count": 60,
            "id": "d3af248c",
            "metadata": {},
            "outputs": [],
            "source": [
                "final_predictions_df = pd.concat([final_predictions_df, y_pred_df], axis=0)"
            ]
        },
        {
            "cell_type": "markdown",
            "id": "b1a18529",
            "metadata": {
                "papermill": {
                    "duration": null,
                    "end_time": null,
                    "exception": null,
                    "start_time": null,
                    "status": "pending"
                },
                "tags": []
            },
            "source": [
                "## Testing on the test data"
            ]
        },
        {
            "cell_type": "code",
            "execution_count": 61,
            "id": "5b5e76f8",
            "metadata": {
                "execution": {
                    "iopub.execute_input": "2023-11-13T03:45:31.073811Z",
                    "iopub.status.busy": "2023-11-13T03:45:31.073498Z",
                    "iopub.status.idle": "2023-11-13T03:45:31.077443Z",
                    "shell.execute_reply": "2023-11-13T03:45:31.077009Z"
                },
                "papermill": {
                    "duration": null,
                    "end_time": null,
                    "exception": null,
                    "start_time": null,
                    "status": "pending"
                },
                "tags": []
            },
            "outputs": [],
            "source": [
                "# create a dataframe to store the model confusion matrix\n",
                "data_split_conf_mat_df_all = pd.DataFrame(\n",
                "    columns=[\"True_Label\", \"Predicted_Label\", \"Count\", \"data_split\", \"Recall\"]\n",
                ")"
            ]
        },
        {
            "cell_type": "code",
            "execution_count": 62,
            "id": "d30cef39",
            "metadata": {
                "execution": {
                    "iopub.execute_input": "2023-11-13T03:45:31.103198Z",
                    "iopub.status.busy": "2023-11-13T03:45:31.102764Z",
                    "iopub.status.idle": "2023-11-13T03:45:58.660822Z",
                    "shell.execute_reply": "2023-11-13T03:45:58.660292Z"
                },
                "papermill": {
                    "duration": null,
                    "end_time": null,
                    "exception": null,
                    "start_time": null,
                    "status": "pending"
                },
                "tags": []
            },
            "outputs": [
                {
                    "name": "stdout",
                    "output_type": "stream",
                    "text": [
                        "MultiClass_MLP\n"
                    ]
                }
            ],
            "source": [
                "# calling the testing function and outputting list values of tested model\n",
                "if any(\n",
                "    model_type == mlp_params.MODEL_TYPE for model_type in [\"Multi_Class\", \"Regression\"]\n",
                "):\n",
                "    (y_pred_list, y_pred_prob_list, Y_test_list,) = test_optimized_model(\n",
                "        model,\n",
                "        test_loader,\n",
                "        params,\n",
                "        model_name=mlp_params.MODEL_NAME,\n",
                "        shuffle=mlp_params.SHUFFLE,\n",
                "    )\n",
                "elif mlp_params.MODEL_TYPE == \"Binary_Classification\":\n",
                "    y_pred_list, y_pred_prob_list = test_optimized_model(\n",
                "        model,\n",
                "        test_loader,\n",
                "        params,\n",
                "        model_name=mlp_params.MODEL_NAME,\n",
                "        shuffle=mlp_params.SHUFFLE,\n",
                "    )\n",
                "else:\n",
                "    raise Exception(\"Model type must be specified for proper model testing\")"
            ]
        },
        {
            "cell_type": "code",
            "execution_count": 63,
            "id": "9a7fe0ee",
            "metadata": {},
            "outputs": [],
            "source": [
                "# convert output tensors into arrays\n",
                "\n",
                "# list of tensors to list of lists\n",
                "y_pred_prob_list = [tensor.tolist() for tensor in y_pred_prob_list]\n",
                "Y_test_list = [tensor.tolist() for tensor in Y_test_list]\n",
                "# completly flatten list of lists\n",
                "new_prob_list = []\n",
                "for i in y_pred_prob_list:\n",
                "    for j in i:\n",
                "        new_prob_list.append(j)\n",
                "\n",
                "new_y_test_list = []\n",
                "for i in Y_test_list:\n",
                "    for j in i:\n",
                "        new_y_test_list.append(j)\n",
                "\n",
                "# list of lists to array\n",
                "y_pred_prob_list = np.array(new_prob_list)\n",
                "Y_test = np.array(new_y_test_list)"
            ]
        },
        {
            "cell_type": "code",
            "execution_count": 64,
            "id": "3f8027c3",
            "metadata": {},
            "outputs": [],
            "source": [
                "# get the PR curve for each class\n",
                "pr_curve_0 = precision_recall_curve(Y_test[:, 0], y_pred_prob_list[:, 0])\n",
                "pr_curve_1 = precision_recall_curve(Y_test[:, 1], y_pred_prob_list[:, 1])\n",
                "pr_curve_2 = precision_recall_curve(Y_test[:, 2], y_pred_prob_list[:, 2])"
            ]
        },
        {
            "cell_type": "code",
            "execution_count": 65,
            "id": "ca960ee9",
            "metadata": {},
            "outputs": [
                {
                    "name": "stderr",
                    "output_type": "stream",
                    "text": [
                        "/tmp/ipykernel_1387241/1312179888.py:28: SettingWithCopyWarning: \n",
                        "A value is trying to be set on a copy of a slice from a DataFrame\n",
                        "\n",
                        "See the caveats in the documentation: https://pandas.pydata.org/pandas-docs/stable/user_guide/indexing.html#returning-a-view-versus-a-copy\n",
                        "  tmp_df.drop_duplicates(inplace=True)\n"
                    ]
                }
            ],
            "source": [
                "# make a dataframe of the precision-recall curves for each class\n",
                "pr_curve_0 = pd.DataFrame(\n",
                "    zip(pr_curve_0[0], pr_curve_0[1]),\n",
                "    columns=[\"precision\", \"recall\"],\n",
                ")\n",
                "pr_curve_0[\"label\"] = 0\n",
                "\n",
                "pr_curve_1 = pd.DataFrame(\n",
                "    zip(pr_curve_1[0], pr_curve_1[1]),\n",
                "    columns=[\"precision\", \"recall\"],\n",
                ")\n",
                "pr_curve_1[\"label\"] = 1\n",
                "\n",
                "pr_curve_2 = pd.DataFrame(\n",
                "    zip(pr_curve_2[0], pr_curve_2[1]),\n",
                "    columns=[\"precision\", \"recall\"],\n",
                ")\n",
                "pr_curve_2[\"label\"] = 2\n",
                "\n",
                "# make the precision-recall curve dataframe\n",
                "pr_curve_df = pd.DataFrame(columns=[\"precision\", \"recall\", \"label\"])\n",
                "pr_curve_df = pd.concat([pr_curve_df, pr_curve_0, pr_curve_1, pr_curve_2])\n",
                "\n",
                "\n",
                "# get the decoded labels\n",
                "tmp_df = df_values[[\"new_labels\", \"labels\"]]\n",
                "# get the unique rows\n",
                "tmp_df.drop_duplicates(inplace=True)\n",
                "# make a dict of the labels and new labels\n",
                "label_dict = dict(zip(tmp_df[\"new_labels\"], tmp_df[\"labels\"]))\n",
                "\n",
                "# change the label column to the actual labels from the label dict\n",
                "pr_curve_df[\"label\"] = pr_curve_df[\"label\"].map(label_dict)\n",
                "pr_curve_df[\"data_split\"] = \"testing\"\n",
                "pr_curve_df[\"shuffle\"] = mlp_params.SHUFFLE"
            ]
        },
        {
            "cell_type": "code",
            "execution_count": 66,
            "id": "b6abe280",
            "metadata": {},
            "outputs": [
                {
                    "name": "stderr",
                    "output_type": "stream",
                    "text": [
                        "/tmp/ipykernel_1387241/2109324303.py:4: FutureWarning: In a future version, object-dtype columns with all-bool values will not be included in reductions with bool_only=True. Explicitly cast to bool dtype instead.\n",
                        "  pr_curve_df_all = pd.concat([pr_curve_df_all, pr_curve_df], axis=0)\n"
                    ]
                }
            ],
            "source": [
                "# create a master dataframe to store all the model stats\n",
                "# across all data splits and shuffled data\n",
                "\n",
                "pr_curve_df_all = pd.concat([pr_curve_df_all, pr_curve_df], axis=0)"
            ]
        },
        {
            "cell_type": "code",
            "execution_count": 67,
            "id": "bb61afb4",
            "metadata": {},
            "outputs": [
                {
                    "data": {
                        "text/plain": [
                            "array(['train', 'validation', 'testing'], dtype=object)"
                        ]
                    },
                    "execution_count": 67,
                    "metadata": {},
                    "output_type": "execute_result"
                }
            ],
            "source": [
                "pr_curve_df_all[\"data_split\"].unique()"
            ]
        },
        {
            "cell_type": "code",
            "execution_count": 68,
            "id": "4a540aeb",
            "metadata": {},
            "outputs": [
                {
                    "name": "stderr",
                    "output_type": "stream",
                    "text": [
                        "/tmp/ipykernel_1387241/1664437899.py:25: FutureWarning: In a future version, object-dtype columns with all-bool values will not be included in reductions with bool_only=True. Explicitly cast to bool dtype instead.\n",
                        "  main_prob_df = pd.concat([main_prob_df, prob_df])\n"
                    ]
                }
            ],
            "source": [
                "class_0_prob = []\n",
                "class_1_prob = []\n",
                "class_2_prob = []\n",
                "\n",
                "for i in y_pred_prob_list:\n",
                "    class_0_prob.append(i[0])\n",
                "    class_1_prob.append(i[1])\n",
                "    class_2_prob.append(i[2])\n",
                "\n",
                "\n",
                "prob_df = pd.DataFrame(\n",
                "    zip(class_0_prob, class_1_prob, class_2_prob),\n",
                "    columns=[\"apoptosis_prob\", \"control_prob\", \"pyroptosis_prob\"],\n",
                ")\n",
                "label_true = [np.argmax(i) for i in Y_test]\n",
                "\n",
                "prob_df[\"label_true\"] = label_true\n",
                "prob_df[\"label_pred\"] = y_pred_list\n",
                "prob_df[\"data_split\"] = \"testing\"\n",
                "prob_df[\"shuffle\"] = mlp_params.SHUFFLE\n",
                "prob_df[\"class_name\"] = prob_df[\"label_true\"].map(label_dict)\n",
                "metadata_test.reset_index(inplace=True)\n",
                "\n",
                "prob_df = pd.concat([prob_df, metadata_test], axis=1)\n",
                "main_prob_df = pd.concat([main_prob_df, prob_df])"
            ]
        },
        {
            "cell_type": "code",
            "execution_count": 69,
            "id": "e87c851e",
            "metadata": {},
            "outputs": [],
            "source": [
                "Y_test_list = [np.argmax(i) for i in Y_test]"
            ]
        },
        {
            "cell_type": "code",
            "execution_count": 70,
            "id": "ba2c00bd",
            "metadata": {
                "execution": {
                    "iopub.execute_input": "2023-11-13T03:45:58.690648Z",
                    "iopub.status.busy": "2023-11-13T03:45:58.690243Z",
                    "iopub.status.idle": "2023-11-13T03:46:00.411883Z",
                    "shell.execute_reply": "2023-11-13T03:46:00.411387Z"
                },
                "papermill": {
                    "duration": null,
                    "end_time": null,
                    "exception": null,
                    "start_time": null,
                    "status": "pending"
                },
                "tags": []
            },
            "outputs": [
                {
                    "name": "stdout",
                    "output_type": "stream",
                    "text": [
                        "              precision    recall  f1-score   support\n",
                        "\n",
                        "           0       0.64      0.89      0.75      7350\n",
                        "           1       0.93      0.72      0.81    146629\n",
                        "           2       0.53      0.84      0.65     50881\n",
                        "\n",
                        "    accuracy                           0.76    204860\n",
                        "   macro avg       0.70      0.82      0.74    204860\n",
                        "weighted avg       0.82      0.76      0.77    204860\n",
                        "\n",
                        "Precision for class 0: 0.8904761904761905\n",
                        "Recall for class 0: 0.6447005516154453\n",
                        "Precision for class 1: 0.7191142270628593\n",
                        "Recall for class 1: 0.9252632502632503\n",
                        "Precision for class 2: 0.8404119415891982\n",
                        "Recall for class 2: 0.5295611036805865\n",
                        "3\n"
                    ]
                },
                {
                    "data": {
                        "image/png": "[encoded data removed]",
                        "text/plain": [
                            "<Figure size 640x480 with 2 Axes>"
                        ]
                    },
                    "metadata": {},
                    "output_type": "display_data"
                },
                {
                    "data": {
                        "image/png": "[encoded data removed]",
                        "text/plain": [
                            "<Figure size 640x480 with 1 Axes>"
                        ]
                    },
                    "metadata": {},
                    "output_type": "display_data"
                }
            ],
            "source": [
                "# Call visualization function\n",
                "# calling the testing function and outputing list values of tested model\n",
                "if any(\n",
                "    model_type == mlp_params.MODEL_TYPE for model_type in [\"Multi_Class\", \"Regression\"]\n",
                "):\n",
                "    confusion_matrix_df = results_output(\n",
                "        y_pred_list,\n",
                "        Y_test_list,\n",
                "        params,\n",
                "        test_name=f\"{mlp_params.MODEL_NAME}_testing\",\n",
                "        model_name=mlp_params.MODEL_NAME,\n",
                "        title=mlp_params.MODEL_NAME,\n",
                "        shuffle=mlp_params.SHUFFLE,\n",
                "    )\n",
                "elif mlp_params.MODEL_TYPE == \"Binary_Classification\":\n",
                "    results_output(\n",
                "        y_pred_list,\n",
                "        Y_test,\n",
                "        params,\n",
                "        y_pred_prob_list,\n",
                "        test_name=f\"{mlp_params.MODEL_NAME}_testing\",\n",
                "        model_name=mlp_params.MODEL_NAME,\n",
                "        title=mlp_params.MODEL_NAME,\n",
                "        shuffle=mlp_params.SHUFFLE,\n",
                "    )\n",
                "else:\n",
                "    raise Exception(\"Model type must be specified for proper model testing\")"
            ]
        },
        {
            "cell_type": "code",
            "execution_count": 71,
            "id": "1234be45",
            "metadata": {},
            "outputs": [],
            "source": [
                "# # define a final dataframe to store the predictions\n",
                "# final_predictions_df = pd.DataFrame()"
            ]
        },
        {
            "cell_type": "code",
            "execution_count": 72,
            "id": "46ac0cf7",
            "metadata": {},
            "outputs": [],
            "source": [
                "# make a df of the predictions and the true labels\n",
                "y_pred_df = pd.DataFrame(y_pred_list, columns=[\"predicted_label\"])\n",
                "y_true_df = pd.DataFrame(Y_test_list, columns=[\"true_label\"])\n",
                "# concat the two dataframes\n",
                "# final_predictions_df = pd.concat([y_true_df, y_pred_df], axis=1)\n",
                "y_pred_df = pd.concat([y_true_df, y_pred_df], axis=1)"
            ]
        },
        {
            "cell_type": "code",
            "execution_count": 73,
            "id": "4f348692",
            "metadata": {},
            "outputs": [],
            "source": [
                "# merge y_pred_df with metadata_holdout while keeping the index of metadata_holdout\n",
                "# metadata_test.reset_index(inplace=True)\n",
                "y_pred_df = pd.concat([y_pred_df, metadata_test], axis=1)\n",
                "# set the index to the index column\n",
                "y_pred_df.set_index(\"index\", inplace=True, drop=True)"
            ]
        },
        {
            "cell_type": "code",
            "execution_count": 74,
            "id": "329bc0d0",
            "metadata": {},
            "outputs": [],
            "source": [
                "y_pred_df[\"data_split\"] = \"test\"\n",
                "y_pred_df[\"shuffle\"] = mlp_params.SHUFFLE"
            ]
        },
        {
            "cell_type": "code",
            "execution_count": 75,
            "id": "6db2f672",
            "metadata": {},
            "outputs": [],
            "source": [
                "# set path for the model confusion matrices\n",
                "y_pred_df_path = pathlib.Path(\n",
                "    f\"../../results/Multi_Class/{mlp_params.MODEL_NAME}/{mlp_params.CELL_TYPE}/testing_single_cell_predictions.parquet\"\n",
                ")\n",
                "y_pred_df_path.parent.mkdir(parents=True, exist_ok=True)\n",
                "if y_pred_df_path.exists():\n",
                "    predictions_df_tmp = pd.read_parquet(y_pred_df_path)\n",
                "    if len(predictions_df_tmp[\"shuffle\"].unique()) > 1:\n",
                "        pass\n",
                "    elif predictions_df_tmp[\"shuffle\"].unique() == mlp_params.SHUFFLE:\n",
                "        pass\n",
                "    else:\n",
                "        metrics_df = pd.concat([predictions_df_tmp, y_pred_df], axis=0)\n",
                "        metrics_df.to_parquet(y_pred_df_path, index=False)\n",
                "else:\n",
                "    y_pred_df.to_parquet(y_pred_df_path, index=False)"
            ]
        },
        {
            "cell_type": "code",
            "execution_count": 76,
            "id": "1de56eae",
            "metadata": {},
            "outputs": [],
            "source": [
                "final_predictions_df = pd.concat([final_predictions_df, y_pred_df], axis=0)"
            ]
        },
        {
            "cell_type": "code",
            "execution_count": 77,
            "id": "7d74124b",
            "metadata": {
                "execution": {
                    "iopub.execute_input": "2023-11-13T03:46:00.441418Z",
                    "iopub.status.busy": "2023-11-13T03:46:00.441055Z",
                    "iopub.status.idle": "2023-11-13T03:46:00.444604Z",
                    "shell.execute_reply": "2023-11-13T03:46:00.444216Z"
                },
                "papermill": {
                    "duration": null,
                    "end_time": null,
                    "exception": null,
                    "start_time": null,
                    "status": "pending"
                },
                "tags": []
            },
            "outputs": [],
            "source": [
                "# rename columns from the decoder dictionary\n",
                "confusion_matrix_df.rename(\n",
                "    columns={0: \"apoptosis\", 1: \"healthy\", 2: \"pyroptosis\"}, inplace=True\n",
                ")\n",
                "confusion_matrix_df.rename(\n",
                "    index={0: \"apoptosis\", 1: \"healthy\", 2: \"pyroptosis\"}, inplace=True\n",
                ")"
            ]
        },
        {
            "cell_type": "code",
            "execution_count": 78,
            "id": "a570c014",
            "metadata": {
                "execution": {
                    "iopub.execute_input": "2023-11-13T03:46:00.504227Z",
                    "iopub.status.busy": "2023-11-13T03:46:00.503933Z",
                    "iopub.status.idle": "2023-11-13T03:46:02.086994Z",
                    "shell.execute_reply": "2023-11-13T03:46:02.086381Z"
                },
                "papermill": {
                    "duration": null,
                    "end_time": null,
                    "exception": null,
                    "start_time": null,
                    "status": "pending"
                },
                "tags": []
            },
            "outputs": [],
            "source": [
                "confusion_matrices = confusion_matrix_df.reset_index()\n",
                "# melt the DataFrame to a long format\n",
                "confusion_matrices = pd.melt(\n",
                "    confusion_matrices,\n",
                "    id_vars=[\"index\"],\n",
                "    value_vars=[\"healthy\", \"apoptosis\", \"pyroptosis\"],\n",
                ")\n",
                "\n",
                "# rename the columns\n",
                "confusion_matrices.columns = [\"True_Label\", \"Predicted_Label\", \"Count\"]\n",
                "confusion_matrices[\"data_split\"] = \"testing\"\n",
                "# sum of the columns of the confusion matrix gives the total number of samples per class\n",
                "sum_of_columns = confusion_matrix_df.sum(axis=0)"
            ]
        },
        {
            "cell_type": "code",
            "execution_count": 79,
            "id": "09c57815",
            "metadata": {
                "execution": {
                    "iopub.execute_input": "2023-11-13T03:21:29.587463Z",
                    "iopub.status.busy": "2023-11-13T03:21:29.587136Z",
                    "iopub.status.idle": "2023-11-13T03:21:29.590692Z",
                    "shell.execute_reply": "2023-11-13T03:21:29.590308Z"
                },
                "papermill": {
                    "duration": null,
                    "end_time": null,
                    "exception": null,
                    "start_time": null,
                    "status": "pending"
                },
                "tags": []
            },
            "outputs": [],
            "source": [
                "# normalize confusion matrix\n",
                "# get the sum of each column to normalize the confusion matrix by the total number of samples per class\n",
                "\n",
                "# divide the apotosis column by the sum of the apotosis column\n",
                "confusion_matrix_df[\"apoptosis\"] = confusion_matrix_df[\"apoptosis\"] / sum_of_columns[0]\n",
                "# divide the healthy column by the sum of the healthy column\n",
                "confusion_matrix_df[\"healthy\"] = confusion_matrix_df[\"healthy\"] / sum_of_columns[1]\n",
                "# divide the pyroptosis column by the sum of the pyroptosis column\n",
                "confusion_matrix_df[\"pyroptosis\"] = (\n",
                "    confusion_matrix_df[\"pyroptosis\"] / sum_of_columns[2]\n",
                ")"
            ]
        },
        {
            "cell_type": "code",
            "execution_count": 80,
            "id": "b394f6ad",
            "metadata": {
                "execution": {
                    "iopub.execute_input": "2023-11-13T03:21:29.644888Z",
                    "iopub.status.busy": "2023-11-13T03:21:29.644610Z",
                    "iopub.status.idle": "2023-11-13T03:21:29.653537Z",
                    "shell.execute_reply": "2023-11-13T03:21:29.653154Z"
                },
                "papermill": {
                    "duration": null,
                    "end_time": null,
                    "exception": null,
                    "start_time": null,
                    "status": "pending"
                },
                "tags": []
            },
            "outputs": [],
            "source": [
                "confusion_matrices_recall = confusion_matrix_df.reset_index()\n",
                "# melt the DataFrame to a long format\n",
                "confusion_matrices_recall = pd.melt(\n",
                "    confusion_matrices_recall,\n",
                "    id_vars=[\"index\"],\n",
                "    value_vars=[\"healthy\", \"apoptosis\", \"pyroptosis\"],\n",
                ")\n",
                "\n",
                "# rename the columns\n",
                "confusion_matrices_recall.columns = [\"True_Label\", \"Predicted_Label\", \"Count\"]\n",
                "confusion_matrices_recall[\"data_split\"] = \"testing\"\n",
                "confusion_matrices_recall.rename(columns={\"Count\": \"Recall\"}, inplace=True)\n",
                "data_split_conf_mat_df = pd.merge(\n",
                "    confusion_matrices,\n",
                "    confusion_matrices_recall,\n",
                "    on=[\"True_Label\", \"Predicted_Label\", \"data_split\"],\n",
                ")\n",
                "data_split_conf_mat_df[\"shuffle\"] = mlp_params.SHUFFLE\n",
                "data_split_conf_mat_df_all = pd.concat(\n",
                "    [data_split_conf_mat_df_all, data_split_conf_mat_df], axis=0\n",
                ")"
            ]
        },
        {
            "cell_type": "code",
            "execution_count": 81,
            "id": "1ff8a8fd",
            "metadata": {
                "execution": {
                    "iopub.execute_input": "2023-11-13T03:21:29.709364Z",
                    "iopub.status.busy": "2023-11-13T03:21:29.709087Z",
                    "iopub.status.idle": "2023-11-13T03:21:29.875053Z",
                    "shell.execute_reply": "2023-11-13T03:21:29.874655Z"
                },
                "papermill": {
                    "duration": null,
                    "end_time": null,
                    "exception": null,
                    "start_time": null,
                    "status": "pending"
                },
                "tags": []
            },
            "outputs": [
                {
                    "data": {
                        "image/png": "[encoded data removed]",
                        "text/plain": [
                            "<Figure size 640x480 with 2 Axes>"
                        ]
                    },
                    "metadata": {},
                    "output_type": "display_data"
                }
            ],
            "source": [
                "ax = sns.heatmap(confusion_matrix_df, annot=True)\n",
                "ax.invert_xaxis()\n",
                "ax.invert_yaxis()\n",
                "plt.xlabel(\"Actual Values\", size=15)\n",
                "plt.ylabel(\"Predicted Values\", size=15)\n",
                "plt.show()"
            ]
        },
        {
            "cell_type": "code",
            "execution_count": 82,
            "id": "6e9b9cc1",
            "metadata": {
                "execution": {
                    "iopub.execute_input": "2023-11-13T03:21:29.900899Z",
                    "iopub.status.busy": "2023-11-13T03:21:29.900540Z",
                    "iopub.status.idle": "2023-11-13T03:21:30.312654Z",
                    "shell.execute_reply": "2023-11-13T03:21:30.312226Z"
                },
                "papermill": {
                    "duration": null,
                    "end_time": null,
                    "exception": null,
                    "start_time": null,
                    "status": "pending"
                },
                "tags": []
            },
            "outputs": [
                {
                    "name": "stdout",
                    "output_type": "stream",
                    "text": [
                        "              precision    recall  f1-score   support\n",
                        "\n",
                        "           0       0.89      0.64      0.75     10152\n",
                        "           1       0.72      0.93      0.81    113960\n",
                        "           2       0.84      0.53      0.65     80748\n",
                        "\n",
                        "    accuracy                           0.76    204860\n",
                        "   macro avg       0.82      0.70      0.74    204860\n",
                        "weighted avg       0.78      0.76      0.74    204860\n",
                        "\n"
                    ]
                },
                {
                    "name": "stderr",
                    "output_type": "stream",
                    "text": [
                        "/tmp/ipykernel_1387241/3777910350.py:18: SettingWithCopyWarning: \n",
                        "A value is trying to be set on a copy of a slice from a DataFrame.\n",
                        "Try using .loc[row_indexer,col_indexer] = value instead\n",
                        "\n",
                        "See the caveats in the documentation: https://pandas.pydata.org/pandas-docs/stable/user_guide/indexing.html#returning-a-view-versus-a-copy\n",
                        "  df_labels[\"new_labels\"] = df_labels[\"new_labels\"].astype(str)\n"
                    ]
                }
            ],
            "source": [
                "stats_df = output_stats(\n",
                "    y_pred_list,\n",
                "    Y_test_list,\n",
                "    mlp_params,\n",
                "    test_name=f\"{mlp_params.MODEL_NAME}_train\",\n",
                "    model_name=mlp_params.MODEL_NAME,\n",
                "    title=mlp_params.MODEL_NAME,\n",
                "    shuffle=mlp_params.SHUFFLE,\n",
                ")\n",
                "# make into a dataframe\n",
                "stats_df = pd.DataFrame.from_dict(stats_df).transpose()\n",
                "stats_df.reset_index(inplace=True)\n",
                "stats_df.rename(columns={\"index\": \"label\"}, inplace=True)\n",
                "stats_df = stats_df.melt(id_vars=[\"label\"], var_name=\"metric\", value_name=\"value\")\n",
                "# if accuracy in row of column 1 then change value of column 2 to accuracy\n",
                "stats_df.loc[stats_df[\"label\"] == \"accuracy\", \"metric\"] = \"accuracy\"\n",
                "# create a decoder dictionary from df_labels\n",
                "df_labels[\"new_labels\"] = df_labels[\"new_labels\"].astype(str)\n",
                "decoder = df_labels.set_index(\"new_labels\").to_dict()[\"labels\"]\n",
                "decoder[\"accuracy\"] = \"accuracy\"\n",
                "decoder[\"macro avg\"] = \"macro avg\"\n",
                "decoder[\"weighted avg\"] = \"weighted avg\"\n",
                "stats_df[\"label\"] = stats_df[\"label\"].map(decoder)"
            ]
        },
        {
            "cell_type": "code",
            "execution_count": 83,
            "id": "5e49a4d0",
            "metadata": {
                "execution": {
                    "iopub.execute_input": "2023-11-13T03:21:30.340165Z",
                    "iopub.status.busy": "2023-11-13T03:21:30.339794Z",
                    "iopub.status.idle": "2023-11-13T03:21:30.343391Z",
                    "shell.execute_reply": "2023-11-13T03:21:30.342990Z"
                },
                "papermill": {
                    "duration": null,
                    "end_time": null,
                    "exception": null,
                    "start_time": null,
                    "status": "pending"
                },
                "tags": []
            },
            "outputs": [
                {
                    "name": "stderr",
                    "output_type": "stream",
                    "text": [
                        "/tmp/ipykernel_1387241/309341788.py:4: FutureWarning: In a future version, object-dtype columns with all-bool values will not be included in reductions with bool_only=True. Explicitly cast to bool dtype instead.\n",
                        "  model_stats_df = pd.concat([model_stats_df, stats_df], axis=0)\n"
                    ]
                }
            ],
            "source": [
                "stats_df[\"group\"] = \"test\"\n",
                "stats_df[\"shuffle\"] = mlp_params.SHUFFLE\n",
                "\n",
                "model_stats_df = pd.concat([model_stats_df, stats_df], axis=0)"
            ]
        },
        {
            "cell_type": "markdown",
            "id": "92180a40",
            "metadata": {},
            "source": [
                "## Test the treatment holdout data on the model"
            ]
        },
        {
            "cell_type": "code",
            "execution_count": 84,
            "id": "0dab6e6f",
            "metadata": {},
            "outputs": [
                {
                    "name": "stdout",
                    "output_type": "stream",
                    "text": [
                        "MultiClass_MLP\n"
                    ]
                }
            ],
            "source": [
                "treatment_holdout_data = Dataset_formatter(\n",
                "    X_treatment_holdout,\n",
                "    Y_treatment_holdout,\n",
                ")\n",
                "\n",
                "# convert data class into a dataloader to be compatible with pytorch\n",
                "treatment_holdout_loader = torch.utils.data.DataLoader(\n",
                "    dataset=treatment_holdout_data, batch_size=1, shuffle=False\n",
                ")\n",
                "\n",
                "# calling the testing function and outputting list values of tested model\n",
                "if any(\n",
                "    model_type == mlp_params.MODEL_TYPE for model_type in [\"Multi_Class\", \"Regression\"]\n",
                "):\n",
                "    (y_pred_list, y_pred_prob_list, Y_test_list,) = test_optimized_model(\n",
                "        model,\n",
                "        treatment_holdout_loader,\n",
                "        params,\n",
                "        model_name=mlp_params.MODEL_NAME,\n",
                "        shuffle=mlp_params.SHUFFLE,\n",
                "    )\n",
                "elif mlp_params.MODEL_TYPE == \"Binary_Classification\":\n",
                "    y_pred_list, y_pred_prob_list = test_optimized_model(\n",
                "        model,\n",
                "        treatment_holdout_loader,\n",
                "        params,\n",
                "        model_name=mlp_params.MODEL_NAME,\n",
                "        shuffle=mlp_params.SHUFFLE,\n",
                "    )\n",
                "else:\n",
                "    raise Exception(\"Model type must be specified for proper model testing\")\n",
                "\n",
                "# un-nest list if nested i.e. length of input data does not match length of output data\n",
                "if len(y_pred_list) != len(Y_treatment_holdout):\n",
                "    y_pred_list = un_nest(y_pred_list)\n",
                "    if mlp_params.MODEL_TYPE == \"Binary_Classification\":\n",
                "        y_pred_prob_list = un_nest(y_pred_prob_list)\n",
                "else:\n",
                "    pass"
            ]
        },
        {
            "cell_type": "code",
            "execution_count": 85,
            "id": "55ae7a0a",
            "metadata": {},
            "outputs": [],
            "source": [
                "# convert output tensors into arrays\n",
                "\n",
                "# list of tensors to list of lists\n",
                "y_pred_prob_list = [tensor.tolist() for tensor in y_pred_prob_list]\n",
                "Y_test_list = [tensor.tolist() for tensor in Y_test_list]\n",
                "# completly flatten list of lists\n",
                "new_prob_list = []\n",
                "for i in y_pred_prob_list:\n",
                "    for j in i:\n",
                "        new_prob_list.append(j)\n",
                "\n",
                "new_y_test_list = []\n",
                "for i in Y_test_list:\n",
                "    for j in i:\n",
                "        new_y_test_list.append(j)\n",
                "\n",
                "# list of lists to array\n",
                "y_pred_prob_list = np.array(new_prob_list)\n",
                "Y_test = np.array(new_y_test_list)"
            ]
        },
        {
            "cell_type": "code",
            "execution_count": 86,
            "id": "91d1d307",
            "metadata": {},
            "outputs": [
                {
                    "name": "stderr",
                    "output_type": "stream",
                    "text": [
                        "/home/lippincm/miniconda3/envs/Interstellar/lib/python3.10/site-packages/sklearn/metrics/_ranking.py:979: UserWarning: No positive class found in y_true, recall is set to one for all thresholds.\n",
                        "  warnings.warn(\n",
                        "/home/lippincm/miniconda3/envs/Interstellar/lib/python3.10/site-packages/sklearn/metrics/_ranking.py:979: UserWarning: No positive class found in y_true, recall is set to one for all thresholds.\n",
                        "  warnings.warn(\n"
                    ]
                }
            ],
            "source": [
                "# get the PR curve for each class\n",
                "pr_curve_0 = precision_recall_curve(Y_test[:, 0], y_pred_prob_list[:, 0])\n",
                "pr_curve_1 = precision_recall_curve(Y_test[:, 1], y_pred_prob_list[:, 1])\n",
                "pr_curve_2 = precision_recall_curve(Y_test[:, 2], y_pred_prob_list[:, 2])"
            ]
        },
        {
            "cell_type": "code",
            "execution_count": 87,
            "id": "4b4e04da",
            "metadata": {},
            "outputs": [
                {
                    "name": "stderr",
                    "output_type": "stream",
                    "text": [
                        "/tmp/ipykernel_1387241/1252073758.py:28: SettingWithCopyWarning: \n",
                        "A value is trying to be set on a copy of a slice from a DataFrame\n",
                        "\n",
                        "See the caveats in the documentation: https://pandas.pydata.org/pandas-docs/stable/user_guide/indexing.html#returning-a-view-versus-a-copy\n",
                        "  tmp_df.drop_duplicates(inplace=True)\n"
                    ]
                }
            ],
            "source": [
                "# make a dataframe of the precision-recall curves for each class\n",
                "pr_curve_0 = pd.DataFrame(\n",
                "    zip(pr_curve_0[0], pr_curve_0[1]),\n",
                "    columns=[\"precision\", \"recall\"],\n",
                ")\n",
                "pr_curve_0[\"label\"] = 0\n",
                "\n",
                "pr_curve_1 = pd.DataFrame(\n",
                "    zip(pr_curve_1[0], pr_curve_1[1]),\n",
                "    columns=[\"precision\", \"recall\"],\n",
                ")\n",
                "pr_curve_1[\"label\"] = 1\n",
                "\n",
                "pr_curve_2 = pd.DataFrame(\n",
                "    zip(pr_curve_2[0], pr_curve_2[1]),\n",
                "    columns=[\"precision\", \"recall\"],\n",
                ")\n",
                "pr_curve_2[\"label\"] = 2\n",
                "\n",
                "# make the precision-recall curve dataframe\n",
                "pr_curve_df = pd.DataFrame(columns=[\"precision\", \"recall\", \"label\"])\n",
                "pr_curve_df = pd.concat([pr_curve_df, pr_curve_0, pr_curve_1, pr_curve_2])\n",
                "\n",
                "\n",
                "# get the decoded labels\n",
                "tmp_df = df_values[[\"new_labels\", \"labels\"]]\n",
                "# get the unique rows\n",
                "tmp_df.drop_duplicates(inplace=True)\n",
                "# make a dict of the labels and new labels\n",
                "label_dict = dict(zip(tmp_df[\"new_labels\"], tmp_df[\"labels\"]))\n",
                "\n",
                "# change the label column to the actual labels from the label dict\n",
                "pr_curve_df[\"label\"] = pr_curve_df[\"label\"].map(label_dict)\n",
                "pr_curve_df[\"data_split\"] = \"treatment_holdout\"\n",
                "pr_curve_df[\"shuffle\"] = mlp_params.SHUFFLE"
            ]
        },
        {
            "cell_type": "code",
            "execution_count": 88,
            "id": "9aa22275",
            "metadata": {},
            "outputs": [
                {
                    "name": "stderr",
                    "output_type": "stream",
                    "text": [
                        "/tmp/ipykernel_1387241/2243255322.py:3: FutureWarning: In a future version, object-dtype columns with all-bool values will not be included in reductions with bool_only=True. Explicitly cast to bool dtype instead.\n",
                        "  pr_curve_df_all = pd.concat([pr_curve_df_all, pr_curve_df], axis=0)\n"
                    ]
                }
            ],
            "source": [
                "# create a master dataframe to store all the model stats\n",
                "# across all data splits and shuffled data\n",
                "pr_curve_df_all = pd.concat([pr_curve_df_all, pr_curve_df], axis=0)"
            ]
        },
        {
            "cell_type": "code",
            "execution_count": 89,
            "id": "ed89b3bc",
            "metadata": {},
            "outputs": [
                {
                    "data": {
                        "image/png": "[encoded data removed]",
                        "text/plain": [
                            "<Figure size 640x480 with 1 Axes>"
                        ]
                    },
                    "metadata": {},
                    "output_type": "display_data"
                }
            ],
            "source": [
                "# plot the precision-recall curves\n",
                "sns.lineplot(\n",
                "    data=pr_curve_df,\n",
                "    x=\"recall\",\n",
                "    y=\"precision\",\n",
                "    hue=\"label\",\n",
                "    palette=\"bright\",\n",
                ")\n",
                "plt.title(\"Precision-Recall Curve Treatment Holdout Data\")\n",
                "plt.xlabel(\"Recall\")\n",
                "plt.ylabel(\"Precision\")\n",
                "plt.legend(bbox_to_anchor=(1.05, 1), loc=2, borderaxespad=0.0)\n",
                "plt.show()"
            ]
        },
        {
            "cell_type": "code",
            "execution_count": 90,
            "id": "e24b4e5d",
            "metadata": {},
            "outputs": [
                {
                    "data": {
                        "text/plain": [
                            "array(['train', 'validation', 'testing', 'treatment_holdout'],\n",
                            "      dtype=object)"
                        ]
                    },
                    "execution_count": 90,
                    "metadata": {},
                    "output_type": "execute_result"
                }
            ],
            "source": [
                "pr_curve_df_all[\"data_split\"].unique()"
            ]
        },
        {
            "cell_type": "code",
            "execution_count": 91,
            "id": "8e7f5b9f",
            "metadata": {},
            "outputs": [],
            "source": [
                "class_0_prob = []\n",
                "class_1_prob = []\n",
                "class_2_prob = []\n",
                "\n",
                "for i in y_pred_prob_list:\n",
                "    class_0_prob.append(i[0])\n",
                "    class_1_prob.append(i[1])\n",
                "    class_2_prob.append(i[2])\n",
                "\n",
                "\n",
                "prob_df = pd.DataFrame(\n",
                "    zip(class_0_prob, class_1_prob, class_2_prob),\n",
                "    columns=[\"apoptosis_prob\", \"control_prob\", \"pyroptosis_prob\"],\n",
                ")\n",
                "label_true = [np.argmax(i) for i in Y_test]\n",
                "\n",
                "prob_df[\"label_true\"] = label_true"
            ]
        },
        {
            "cell_type": "code",
            "execution_count": 92,
            "id": "90b9e5b4",
            "metadata": {},
            "outputs": [
                {
                    "name": "stderr",
                    "output_type": "stream",
                    "text": [
                        "/tmp/ipykernel_1387241/1628064107.py:8: FutureWarning: In a future version, object-dtype columns with all-bool values will not be included in reductions with bool_only=True. Explicitly cast to bool dtype instead.\n",
                        "  main_prob_df = pd.concat([main_prob_df, prob_df])\n"
                    ]
                }
            ],
            "source": [
                "prob_df[\"label_pred\"] = y_pred_list\n",
                "prob_df[\"data_split\"] = \"treatment_holdout\"\n",
                "prob_df[\"shuffle\"] = mlp_params.SHUFFLE\n",
                "prob_df[\"class_name\"] = prob_df[\"label_true\"].map(label_dict)\n",
                "metadata_treatment_holdout.reset_index(inplace=True)\n",
                "\n",
                "prob_df = pd.concat([prob_df, metadata_treatment_holdout], axis=1)\n",
                "main_prob_df = pd.concat([main_prob_df, prob_df])"
            ]
        },
        {
            "cell_type": "code",
            "execution_count": 93,
            "id": "52ae6711",
            "metadata": {},
            "outputs": [],
            "source": [
                "Y_test_list = [np.argmax(i) for i in Y_test]"
            ]
        },
        {
            "cell_type": "code",
            "execution_count": 94,
            "id": "a4eb9ab9",
            "metadata": {},
            "outputs": [
                {
                    "name": "stderr",
                    "output_type": "stream",
                    "text": [
                        "/home/lippincm/miniconda3/envs/Interstellar/lib/python3.10/site-packages/sklearn/metrics/_classification.py:1469: UndefinedMetricWarning: Precision and F-score are ill-defined and being set to 0.0 in labels with no predicted samples. Use `zero_division` parameter to control this behavior.\n",
                        "  _warn_prf(average, modifier, msg_start, len(result))\n",
                        "/home/lippincm/miniconda3/envs/Interstellar/lib/python3.10/site-packages/sklearn/metrics/_classification.py:1469: UndefinedMetricWarning: Precision and F-score are ill-defined and being set to 0.0 in labels with no predicted samples. Use `zero_division` parameter to control this behavior.\n",
                        "  _warn_prf(average, modifier, msg_start, len(result))\n",
                        "/home/lippincm/miniconda3/envs/Interstellar/lib/python3.10/site-packages/sklearn/metrics/_classification.py:1469: UndefinedMetricWarning: Precision and F-score are ill-defined and being set to 0.0 in labels with no predicted samples. Use `zero_division` parameter to control this behavior.\n",
                        "  _warn_prf(average, modifier, msg_start, len(result))\n",
                        "/home/lippincm/miniconda3/envs/Interstellar/lib/python3.10/site-packages/sklearn/metrics/_classification.py:1469: UndefinedMetricWarning: Recall is ill-defined and being set to 0.0 due to no true samples. Use `zero_division` parameter to control this behavior.\n",
                        "  _warn_prf(average, modifier, msg_start, len(result))\n"
                    ]
                },
                {
                    "name": "stdout",
                    "output_type": "stream",
                    "text": [
                        "              precision    recall  f1-score   support\n",
                        "\n",
                        "           0       0.00      0.00      0.00       330\n",
                        "           1       0.00      0.00      0.00     39461\n",
                        "           2       0.27      1.00      0.43     14838\n",
                        "\n",
                        "    accuracy                           0.27     54629\n",
                        "   macro avg       0.09      0.33      0.14     54629\n",
                        "weighted avg       0.07      0.27      0.12     54629\n",
                        "\n",
                        "Precision for class 0: 0.0\n",
                        "Recall for class 0: 0.0\n"
                    ]
                },
                {
                    "name": "stderr",
                    "output_type": "stream",
                    "text": [
                        "/home/lippincm/miniconda3/envs/Interstellar/lib/python3.10/site-packages/sklearn/metrics/_classification.py:1469: UndefinedMetricWarning: Recall is ill-defined and being set to 0.0 due to no true samples. Use `zero_division` parameter to control this behavior.\n",
                        "  _warn_prf(average, modifier, msg_start, len(result))\n",
                        "/home/lippincm/miniconda3/envs/Interstellar/lib/python3.10/site-packages/sklearn/metrics/_ranking.py:1132: UndefinedMetricWarning: No positive samples in y_true, true positive value should be meaningless\n",
                        "  warnings.warn(\n",
                        "/home/lippincm/miniconda3/envs/Interstellar/lib/python3.10/site-packages/sklearn/metrics/_ranking.py:1132: UndefinedMetricWarning: No positive samples in y_true, true positive value should be meaningless\n",
                        "  warnings.warn(\n",
                        "/home/lippincm/miniconda3/envs/Interstellar/lib/python3.10/site-packages/sklearn/metrics/_ranking.py:1123: UndefinedMetricWarning: No negative samples in y_true, false positive value should be meaningless\n",
                        "  warnings.warn(\n"
                    ]
                },
                {
                    "name": "stdout",
                    "output_type": "stream",
                    "text": [
                        "Precision for class 1: 0.0\n",
                        "Recall for class 1: 0.0\n",
                        "Precision for class 2: 1.0\n",
                        "Recall for class 2: 0.27161397792381337\n",
                        "3\n"
                    ]
                },
                {
                    "data": {
                        "image/png": "[encoded data removed]",
                        "text/plain": [
                            "<Figure size 640x480 with 2 Axes>"
                        ]
                    },
                    "metadata": {},
                    "output_type": "display_data"
                },
                {
                    "data": {
                        "image/png": "[encoded data removed]",
                        "text/plain": [
                            "<Figure size 640x480 with 1 Axes>"
                        ]
                    },
                    "metadata": {},
                    "output_type": "display_data"
                }
            ],
            "source": [
                "# Call visualization function\n",
                "# calling the testing function and outputing list values of tested model\n",
                "if any(\n",
                "    model_type == mlp_params.MODEL_TYPE for model_type in [\"Multi_Class\", \"Regression\"]\n",
                "):\n",
                "    confusion_matrix_df = results_output(\n",
                "        y_pred_list,\n",
                "        Y_test_list,\n",
                "        params,\n",
                "        test_name=f\"{mlp_params.MODEL_NAME}_treatment_hold_out\",\n",
                "        model_name=mlp_params.MODEL_NAME,\n",
                "        title=mlp_params.MODEL_NAME,\n",
                "        shuffle=mlp_params.SHUFFLE,\n",
                "    )\n",
                "elif mlp_params.MODEL_TYPE == \"Binary_Classification\":\n",
                "    results_output(\n",
                "        y_pred_list,\n",
                "        Y_treatment_holdout,\n",
                "        params,\n",
                "        y_pred_prob_list,\n",
                "        test_name=f\"{mlp_params.MODEL_NAME}_treatment_hold_out\",\n",
                "        model_name=mlp_params.MODEL_NAME,\n",
                "        title=mlp_params.MODEL_NAME,\n",
                "        shuffle=mlp_params.SHUFFLE,\n",
                "    )\n",
                "else:\n",
                "    raise Exception(\"Model type must be specified for proper model testing\")"
            ]
        },
        {
            "cell_type": "code",
            "execution_count": 95,
            "id": "4d27f50c",
            "metadata": {},
            "outputs": [
                {
                    "data": {
                        "image/png": "[encoded data removed]",
                        "text/plain": [
                            "<Figure size 640x480 with 2 Axes>"
                        ]
                    },
                    "metadata": {},
                    "output_type": "display_data"
                }
            ],
            "source": [
                "ax = sns.heatmap(confusion_matrix_df, annot=True, fmt=\"d\")\n",
                "ax.invert_xaxis()\n",
                "ax.invert_yaxis()\n",
                "#\n",
                "# plt.title(f\"Confusion Matrix for Binary Classifier \\n {title}\", fontsize=20)\n",
                "plt.xlabel(\"Actual Values\", size=15)\n",
                "plt.ylabel(\"Predicted Values\", size=15)\n",
                "plt.tight_layout()\n",
                "plt.show()"
            ]
        },
        {
            "cell_type": "code",
            "execution_count": 96,
            "id": "8726bff2",
            "metadata": {},
            "outputs": [],
            "source": [
                "# make a df of the predictions and the true labels\n",
                "y_pred_df = pd.DataFrame(y_pred_list, columns=[\"predicted_label\"])\n",
                "y_true_df = pd.DataFrame(Y_test_list, columns=[\"true_label\"])\n",
                "# concat the two dataframes\n",
                "y_pred_df = pd.concat([y_true_df, y_pred_df], axis=1)"
            ]
        },
        {
            "cell_type": "code",
            "execution_count": 97,
            "id": "dd1f1060",
            "metadata": {},
            "outputs": [],
            "source": [
                "# merge y_pred_df with metadata_holdout whiile keeping the index of metadata_holdout\n",
                "# metadata_treatment_holdout.reset_index(inplace=True)\n",
                "y_pred_df = pd.concat([y_pred_df, metadata_treatment_holdout], axis=1)\n",
                "# set the index to the index column\n",
                "y_pred_df.set_index(\"index\", inplace=True, drop=True)"
            ]
        },
        {
            "cell_type": "code",
            "execution_count": 98,
            "id": "96e2639a",
            "metadata": {},
            "outputs": [],
            "source": [
                "y_pred_df[\"data_split\"] = \"treatment_holdout\"\n",
                "y_pred_df[\"shuffle\"] = mlp_params.SHUFFLE"
            ]
        },
        {
            "cell_type": "code",
            "execution_count": 99,
            "id": "3257a5c2",
            "metadata": {},
            "outputs": [],
            "source": [
                "# set path for the model training metrics\n",
                "y_pred_df_path = pathlib.Path(\n",
                "    f\"../../results/Multi_Class/{mlp_params.MODEL_NAME}/{mlp_params.CELL_TYPE}\"\n",
                ")\n",
                "y_pred_df_path.mkdir(parents=True, exist_ok=True)\n",
                "# check if the model training metrics file exists\n",
                "y_pred_file = pathlib.Path(\n",
                "    f\"{y_pred_df_path}/treatment_holdout_single_cell_predictions.parquet\"\n",
                ")\n",
                "if y_pred_file.exists():\n",
                "    y_pred_old = pd.read_parquet(y_pred_file)\n",
                "    if len(y_pred_old[\"shuffle\"].unique()) > 1:\n",
                "        pass\n",
                "    elif y_pred_old[\"shuffle\"].unique() == mlp_params.SHUFFLE:\n",
                "        pass\n",
                "    else:\n",
                "        pr_curve_df_old = pd.concat([y_pred_old, y_pred_df], axis=0)\n",
                "        pr_curve_df_old.to_parquet(y_pred_file, index=False)\n",
                "else:\n",
                "    y_pred_df.to_parquet(y_pred_file, index=False)"
            ]
        },
        {
            "cell_type": "code",
            "execution_count": 100,
            "id": "180b0674",
            "metadata": {},
            "outputs": [],
            "source": [
                "final_predictions_df = pd.concat([final_predictions_df, y_pred_df], axis=0)"
            ]
        },
        {
            "cell_type": "markdown",
            "id": "8ecba069",
            "metadata": {},
            "source": [
                "Do not do confusion matrix for this data as it is one class"
            ]
        },
        {
            "cell_type": "code",
            "execution_count": 101,
            "id": "9ba765b5",
            "metadata": {},
            "outputs": [
                {
                    "name": "stdout",
                    "output_type": "stream",
                    "text": [
                        "              precision    recall  f1-score   support\n",
                        "\n",
                        "           0       0.00      0.00      0.00         0\n",
                        "           1       0.00      0.00      0.00         0\n",
                        "           2       1.00      0.27      0.43     54629\n",
                        "\n",
                        "    accuracy                           0.27     54629\n",
                        "   macro avg       0.33      0.09      0.14     54629\n",
                        "weighted avg       1.00      0.27      0.43     54629\n",
                        "\n"
                    ]
                },
                {
                    "name": "stderr",
                    "output_type": "stream",
                    "text": [
                        "/home/lippincm/miniconda3/envs/Interstellar/lib/python3.10/site-packages/sklearn/metrics/_classification.py:1469: UndefinedMetricWarning: Recall and F-score are ill-defined and being set to 0.0 in labels with no true samples. Use `zero_division` parameter to control this behavior.\n",
                        "  _warn_prf(average, modifier, msg_start, len(result))\n",
                        "/home/lippincm/miniconda3/envs/Interstellar/lib/python3.10/site-packages/sklearn/metrics/_classification.py:1469: UndefinedMetricWarning: Recall and F-score are ill-defined and being set to 0.0 in labels with no true samples. Use `zero_division` parameter to control this behavior.\n",
                        "  _warn_prf(average, modifier, msg_start, len(result))\n",
                        "/home/lippincm/miniconda3/envs/Interstellar/lib/python3.10/site-packages/sklearn/metrics/_classification.py:1469: UndefinedMetricWarning: Recall and F-score are ill-defined and being set to 0.0 in labels with no true samples. Use `zero_division` parameter to control this behavior.\n",
                        "  _warn_prf(average, modifier, msg_start, len(result))\n",
                        "/home/lippincm/miniconda3/envs/Interstellar/lib/python3.10/site-packages/sklearn/metrics/_classification.py:1469: UndefinedMetricWarning: Recall and F-score are ill-defined and being set to 0.0 in labels with no true samples. Use `zero_division` parameter to control this behavior.\n",
                        "  _warn_prf(average, modifier, msg_start, len(result))\n",
                        "/home/lippincm/miniconda3/envs/Interstellar/lib/python3.10/site-packages/sklearn/metrics/_classification.py:1469: UndefinedMetricWarning: Recall and F-score are ill-defined and being set to 0.0 in labels with no true samples. Use `zero_division` parameter to control this behavior.\n",
                        "  _warn_prf(average, modifier, msg_start, len(result))\n",
                        "/home/lippincm/miniconda3/envs/Interstellar/lib/python3.10/site-packages/sklearn/metrics/_classification.py:1469: UndefinedMetricWarning: Recall and F-score are ill-defined and being set to 0.0 in labels with no true samples. Use `zero_division` parameter to control this behavior.\n",
                        "  _warn_prf(average, modifier, msg_start, len(result))\n",
                        "/tmp/ipykernel_1387241/3777910350.py:18: SettingWithCopyWarning: \n",
                        "A value is trying to be set on a copy of a slice from a DataFrame.\n",
                        "Try using .loc[row_indexer,col_indexer] = value instead\n",
                        "\n",
                        "See the caveats in the documentation: https://pandas.pydata.org/pandas-docs/stable/user_guide/indexing.html#returning-a-view-versus-a-copy\n",
                        "  df_labels[\"new_labels\"] = df_labels[\"new_labels\"].astype(str)\n"
                    ]
                }
            ],
            "source": [
                "stats_df = output_stats(\n",
                "    y_pred_list,\n",
                "    Y_test_list,\n",
                "    mlp_params,\n",
                "    test_name=f\"{mlp_params.MODEL_NAME}_train\",\n",
                "    model_name=mlp_params.MODEL_NAME,\n",
                "    title=mlp_params.MODEL_NAME,\n",
                "    shuffle=mlp_params.SHUFFLE,\n",
                ")\n",
                "# make into a dataframe\n",
                "stats_df = pd.DataFrame.from_dict(stats_df).transpose()\n",
                "stats_df.reset_index(inplace=True)\n",
                "stats_df.rename(columns={\"index\": \"label\"}, inplace=True)\n",
                "stats_df = stats_df.melt(id_vars=[\"label\"], var_name=\"metric\", value_name=\"value\")\n",
                "# if accuracy in row of column 1 then change value of column 2 to accuracy\n",
                "stats_df.loc[stats_df[\"label\"] == \"accuracy\", \"metric\"] = \"accuracy\"\n",
                "# create a decoder dictionary from df_labels\n",
                "df_labels[\"new_labels\"] = df_labels[\"new_labels\"].astype(str)\n",
                "decoder = df_labels.set_index(\"new_labels\").to_dict()[\"labels\"]\n",
                "decoder[\"accuracy\"] = \"accuracy\"\n",
                "decoder[\"macro avg\"] = \"macro avg\"\n",
                "decoder[\"weighted avg\"] = \"weighted avg\"\n",
                "stats_df[\"label\"] = stats_df[\"label\"].map(decoder)"
            ]
        },
        {
            "cell_type": "code",
            "execution_count": 102,
            "id": "126024d0",
            "metadata": {},
            "outputs": [
                {
                    "name": "stderr",
                    "output_type": "stream",
                    "text": [
                        "/tmp/ipykernel_1387241/511615188.py:4: FutureWarning: In a future version, object-dtype columns with all-bool values will not be included in reductions with bool_only=True. Explicitly cast to bool dtype instead.\n",
                        "  model_stats_df = pd.concat([model_stats_df, stats_df], axis=0)\n"
                    ]
                }
            ],
            "source": [
                "stats_df[\"group\"] = \"treatment_holdout\"\n",
                "stats_df[\"shuffle\"] = mlp_params.SHUFFLE\n",
                "\n",
                "model_stats_df = pd.concat([model_stats_df, stats_df], axis=0)"
            ]
        },
        {
            "cell_type": "markdown",
            "id": "bd07fbb7",
            "metadata": {
                "papermill": {
                    "duration": null,
                    "end_time": null,
                    "exception": null,
                    "start_time": null,
                    "status": "pending"
                },
                "tags": []
            },
            "source": [
                "## Test the hold out wells"
            ]
        },
        {
            "cell_type": "code",
            "execution_count": 103,
            "id": "3c45de2b",
            "metadata": {
                "execution": {
                    "iopub.execute_input": "2023-11-13T03:21:30.393006Z",
                    "iopub.status.busy": "2023-11-13T03:21:30.392740Z",
                    "iopub.status.idle": "2023-11-13T03:21:53.066480Z",
                    "shell.execute_reply": "2023-11-13T03:21:53.066002Z"
                },
                "papermill": {
                    "duration": null,
                    "end_time": null,
                    "exception": null,
                    "start_time": null,
                    "status": "pending"
                },
                "tags": []
            },
            "outputs": [
                {
                    "name": "stdout",
                    "output_type": "stream",
                    "text": [
                        "MultiClass_MLP\n"
                    ]
                }
            ],
            "source": [
                "holdout_data = Dataset_formatter(X_holdout, Y_holdout)\n",
                "\n",
                "# convert data class into a dataloader to be compatible with pytorch\n",
                "holdout_loader = torch.utils.data.DataLoader(\n",
                "    dataset=holdout_data, batch_size=1, shuffle=mlp_params.SHUFFLE\n",
                ")\n",
                "\n",
                "# calling the testing function and outputting list values of tested model\n",
                "if any(\n",
                "    model_type == mlp_params.MODEL_TYPE for model_type in [\"Multi_Class\", \"Regression\"]\n",
                "):\n",
                "    (y_pred_list, y_pred_prob_list, Y_test_list,) = test_optimized_model(\n",
                "        model,\n",
                "        holdout_loader,\n",
                "        params,\n",
                "        model_name=mlp_params.MODEL_NAME,\n",
                "        shuffle=mlp_params.SHUFFLE,\n",
                "    )\n",
                "elif mlp_params.MODEL_TYPE == \"Binary_Classification\":\n",
                "    y_pred_list, y_pred_prob_list = test_optimized_model(\n",
                "        model,\n",
                "        holdout_loader,\n",
                "        params,\n",
                "        model_name=mlp_params.MODEL_NAME,\n",
                "        shuffle=mlp_params.SHUFFLE,\n",
                "    )\n",
                "else:\n",
                "    raise Exception(\"Model type must be specified for proper model testing\")\n",
                "\n",
                "# un-nest list if nested i.e. length of input data does not match length of output data\n",
                "if len(y_pred_list) != len(Y_holdout):\n",
                "    y_pred_list = un_nest(y_pred_list)\n",
                "    if mlp_params.MODEL_TYPE == \"Binary_Classification\":\n",
                "        y_pred_prob_list = un_nest(y_pred_prob_list)\n",
                "else:\n",
                "    pass"
            ]
        },
        {
            "cell_type": "code",
            "execution_count": 104,
            "id": "031ed5b4",
            "metadata": {},
            "outputs": [],
            "source": [
                "# convert output tensors into arrays\n",
                "\n",
                "# list of tensors to list of lists\n",
                "y_pred_prob_list = [tensor.tolist() for tensor in y_pred_prob_list]\n",
                "Y_test_list = [tensor.tolist() for tensor in Y_test_list]\n",
                "# completly flatten list of lists\n",
                "new_prob_list = []\n",
                "for i in y_pred_prob_list:\n",
                "    for j in i:\n",
                "        new_prob_list.append(j)\n",
                "\n",
                "new_y_test_list = []\n",
                "for i in Y_test_list:\n",
                "    for j in i:\n",
                "        new_y_test_list.append(j)\n",
                "\n",
                "# list of lists to array\n",
                "y_pred_prob_list = np.array(new_prob_list)\n",
                "Y_test = np.array(new_y_test_list)"
            ]
        },
        {
            "cell_type": "code",
            "execution_count": 105,
            "id": "d0a777d6",
            "metadata": {},
            "outputs": [],
            "source": [
                "# get the PR curve for each class\n",
                "pr_curve_0 = precision_recall_curve(Y_test[:, 0], y_pred_prob_list[:, 0])\n",
                "pr_curve_1 = precision_recall_curve(Y_test[:, 1], y_pred_prob_list[:, 1])\n",
                "pr_curve_2 = precision_recall_curve(Y_test[:, 2], y_pred_prob_list[:, 2])"
            ]
        },
        {
            "cell_type": "code",
            "execution_count": 106,
            "id": "dccdeb2a",
            "metadata": {},
            "outputs": [
                {
                    "name": "stderr",
                    "output_type": "stream",
                    "text": [
                        "/tmp/ipykernel_1387241/1793884954.py:28: SettingWithCopyWarning: \n",
                        "A value is trying to be set on a copy of a slice from a DataFrame\n",
                        "\n",
                        "See the caveats in the documentation: https://pandas.pydata.org/pandas-docs/stable/user_guide/indexing.html#returning-a-view-versus-a-copy\n",
                        "  tmp_df.drop_duplicates(inplace=True)\n"
                    ]
                }
            ],
            "source": [
                "# make a dataframe of the precision-recall curves for each class\n",
                "pr_curve_0 = pd.DataFrame(\n",
                "    zip(pr_curve_0[0], pr_curve_0[1]),\n",
                "    columns=[\"precision\", \"recall\"],\n",
                ")\n",
                "pr_curve_0[\"label\"] = 0\n",
                "\n",
                "pr_curve_1 = pd.DataFrame(\n",
                "    zip(pr_curve_1[0], pr_curve_1[1]),\n",
                "    columns=[\"precision\", \"recall\"],\n",
                ")\n",
                "pr_curve_1[\"label\"] = 1\n",
                "\n",
                "pr_curve_2 = pd.DataFrame(\n",
                "    zip(pr_curve_2[0], pr_curve_2[1]),\n",
                "    columns=[\"precision\", \"recall\"],\n",
                ")\n",
                "pr_curve_2[\"label\"] = 2\n",
                "\n",
                "# make the precision-recall curve dataframe\n",
                "pr_curve_df = pd.DataFrame(columns=[\"precision\", \"recall\", \"label\"])\n",
                "pr_curve_df = pd.concat([pr_curve_df, pr_curve_0, pr_curve_1, pr_curve_2])\n",
                "\n",
                "\n",
                "# get the decoded labels\n",
                "tmp_df = df_values[[\"new_labels\", \"labels\"]]\n",
                "# get the unique rows\n",
                "tmp_df.drop_duplicates(inplace=True)\n",
                "# make a dict of the labels and new labels\n",
                "label_dict = dict(zip(tmp_df[\"new_labels\"], tmp_df[\"labels\"]))\n",
                "\n",
                "\n",
                "# change the label column to the actual labels from the label dict\n",
                "pr_curve_df[\"label\"] = pr_curve_df[\"label\"].map(label_dict)\n",
                "pr_curve_df[\"data_split\"] = \"holdout\"\n",
                "pr_curve_df[\"shuffle\"] = mlp_params.SHUFFLE"
            ]
        },
        {
            "cell_type": "code",
            "execution_count": 107,
            "id": "aab74aa8",
            "metadata": {},
            "outputs": [
                {
                    "name": "stderr",
                    "output_type": "stream",
                    "text": [
                        "/tmp/ipykernel_1387241/2243255322.py:3: FutureWarning: In a future version, object-dtype columns with all-bool values will not be included in reductions with bool_only=True. Explicitly cast to bool dtype instead.\n",
                        "  pr_curve_df_all = pd.concat([pr_curve_df_all, pr_curve_df], axis=0)\n"
                    ]
                }
            ],
            "source": [
                "# create a master dataframe to store all the model stats\n",
                "# across all data splits and shuffled data\n",
                "pr_curve_df_all = pd.concat([pr_curve_df_all, pr_curve_df], axis=0)"
            ]
        },
        {
            "cell_type": "code",
            "execution_count": 108,
            "id": "7a272386",
            "metadata": {},
            "outputs": [
                {
                    "data": {
                        "text/plain": [
                            "array(['train', 'validation', 'testing', 'treatment_holdout', 'holdout'],\n",
                            "      dtype=object)"
                        ]
                    },
                    "execution_count": 108,
                    "metadata": {},
                    "output_type": "execute_result"
                }
            ],
            "source": [
                "pr_curve_df_all[\"data_split\"].unique()"
            ]
        },
        {
            "cell_type": "code",
            "execution_count": 109,
            "id": "1e8d1266",
            "metadata": {},
            "outputs": [
                {
                    "name": "stderr",
                    "output_type": "stream",
                    "text": [
                        "/tmp/ipykernel_1387241/3170455939.py:27: FutureWarning: In a future version, object-dtype columns with all-bool values will not be included in reductions with bool_only=True. Explicitly cast to bool dtype instead.\n",
                        "  main_prob_df = pd.concat([main_prob_df, prob_df])\n"
                    ]
                }
            ],
            "source": [
                "class_0_prob = []\n",
                "class_1_prob = []\n",
                "class_2_prob = []\n",
                "\n",
                "for i in y_pred_prob_list:\n",
                "    class_0_prob.append(i[0])\n",
                "    class_1_prob.append(i[1])\n",
                "    class_2_prob.append(i[2])\n",
                "\n",
                "\n",
                "prob_df = pd.DataFrame(\n",
                "    zip(class_0_prob, class_1_prob, class_2_prob),\n",
                "    columns=[\"apoptosis_prob\", \"control_prob\", \"pyroptosis_prob\"],\n",
                ")\n",
                "label_true = [np.argmax(i) for i in Y_test]\n",
                "\n",
                "prob_df[\"label_true\"] = label_true\n",
                "prob_df[\"label_pred\"] = y_pred_list\n",
                "prob_df[\"data_split\"] = \"holdout\"\n",
                "prob_df[\"shuffle\"] = mlp_params.SHUFFLE\n",
                "prob_df[\"class_name\"] = prob_df[\"label_true\"].map(label_dict)\n",
                "\n",
                "metadata_holdout.reset_index(inplace=True)\n",
                "\n",
                "prob_df = pd.concat([prob_df, metadata_holdout], axis=1)\n",
                "\n",
                "main_prob_df = pd.concat([main_prob_df, prob_df])"
            ]
        },
        {
            "cell_type": "code",
            "execution_count": 110,
            "id": "b6d16015",
            "metadata": {},
            "outputs": [],
            "source": [
                "Y_test_list = [np.argmax(i) for i in Y_test]"
            ]
        },
        {
            "cell_type": "code",
            "execution_count": 111,
            "id": "6b93e80b",
            "metadata": {},
            "outputs": [
                {
                    "name": "stdout",
                    "output_type": "stream",
                    "text": [
                        "              precision    recall  f1-score   support\n",
                        "\n",
                        "           0       0.62      0.88      0.73      4697\n",
                        "           1       0.92      0.62      0.74    101021\n",
                        "           2       0.49      0.87      0.63     39798\n",
                        "\n",
                        "    accuracy                           0.70    145516\n",
                        "   macro avg       0.68      0.79      0.70    145516\n",
                        "weighted avg       0.79      0.70      0.71    145516\n",
                        "\n",
                        "Precision for class 0: 0.8807749627421758\n",
                        "Recall for class 0: 0.6190333682477929\n",
                        "Precision for class 1: 0.620603636867582\n",
                        "Recall for class 1: 0.9225946964122789\n",
                        "Precision for class 2: 0.8718528569274838\n",
                        "Recall for class 2: 0.489538509290481\n",
                        "3\n"
                    ]
                },
                {
                    "data": {
                        "image/png": "[encoded data removed]",
                        "text/plain": [
                            "<Figure size 640x480 with 2 Axes>"
                        ]
                    },
                    "metadata": {},
                    "output_type": "display_data"
                },
                {
                    "data": {
                        "image/png": "[encoded data removed]",
                        "text/plain": [
                            "<Figure size 640x480 with 1 Axes>"
                        ]
                    },
                    "metadata": {},
                    "output_type": "display_data"
                }
            ],
            "source": [
                "# Call visualization function\n",
                "# calling the testing function and outputing list values of tested model\n",
                "if any(\n",
                "    model_type == mlp_params.MODEL_TYPE for model_type in [\"Multi_Class\", \"Regression\"]\n",
                "):\n",
                "    confusion_matrix_df = results_output(\n",
                "        y_pred_list,\n",
                "        Y_test_list,\n",
                "        params,\n",
                "        test_name=f\"{mlp_params.MODEL_NAME}_hold_out\",\n",
                "        model_name=mlp_params.MODEL_NAME,\n",
                "        title=mlp_params.MODEL_NAME,\n",
                "        shuffle=mlp_params.SHUFFLE,\n",
                "    )\n",
                "elif mlp_params.MODEL_TYPE == \"Binary_Classification\":\n",
                "    results_output(\n",
                "        y_pred_list,\n",
                "        Y_holdout,\n",
                "        params,\n",
                "        y_pred_prob_list,\n",
                "        test_name=f\"{mlp_params.MODEL_NAME}_hold_out\",\n",
                "        model_name=mlp_params.MODEL_NAME,\n",
                "        title=mlp_params.MODEL_NAME,\n",
                "        shuffle=mlp_params.SHUFFLE,\n",
                "    )\n",
                "else:\n",
                "    raise Exception(\"Model type must be specified for proper model testing\")"
            ]
        },
        {
            "cell_type": "code",
            "execution_count": 112,
            "id": "62acfb36",
            "metadata": {},
            "outputs": [],
            "source": [
                "# make a df of the predictions and the true labels\n",
                "y_pred_df = pd.DataFrame(y_pred_list, columns=[\"predicted_label\"])\n",
                "y_true_df = pd.DataFrame(Y_test_list, columns=[\"true_label\"])\n",
                "# concat the two dataframes\n",
                "y_pred_df = pd.concat([y_true_df, y_pred_df], axis=1)"
            ]
        },
        {
            "cell_type": "code",
            "execution_count": 113,
            "id": "98ab4925",
            "metadata": {},
            "outputs": [],
            "source": [
                "# merge y_pred_df with metadata_holdout whiile keeping the index of metadata_holdout\n",
                "# metadata_holdout.reset_index(inplace=True)\n",
                "y_pred_df = pd.concat([y_pred_df, metadata_holdout], axis=1)\n",
                "# set the index to the index column\n",
                "y_pred_df.set_index(\"index\", inplace=True, drop=True)"
            ]
        },
        {
            "cell_type": "code",
            "execution_count": 114,
            "id": "a58899c6",
            "metadata": {},
            "outputs": [],
            "source": [
                "y_pred_df[\"data_split\"] = \"holdout\"\n",
                "y_pred_df[\"shuffle\"] = mlp_params.SHUFFLE"
            ]
        },
        {
            "cell_type": "code",
            "execution_count": 115,
            "id": "8ca6b1f3",
            "metadata": {},
            "outputs": [],
            "source": [
                "# set path for the model training metrics\n",
                "y_pred_df_path = pathlib.Path(\n",
                "    f\"../../results/{mlp_params.MODEL_TYPE}/{mlp_params.MODEL_NAME}/{mlp_params.CELL_TYPE}\"\n",
                ")\n",
                "y_pred_df_path.mkdir(parents=True, exist_ok=True)\n",
                "# check if the model training metrics file exists\n",
                "y_pred_df_file = pathlib.Path(\n",
                "    f\"{y_pred_df_path}/holdout_single_cell_predictions.parquet\"\n",
                ")\n",
                "if y_pred_df_file.exists():\n",
                "    prediction_old = pd.read_parquet(y_pred_df_file)\n",
                "    if len(prediction_old[\"shuffle\"].unique()) > 1:\n",
                "        pass\n",
                "    elif prediction_old[\"shuffle\"].unique() == mlp_params.SHUFFLE:\n",
                "        pass\n",
                "    else:\n",
                "        probabilties_df_old = pd.concat([prediction_old, y_pred_df], axis=0)\n",
                "        probabilties_df_old.to_parquet(y_pred_df_file, index=False)\n",
                "else:\n",
                "    y_pred_df.to_parquet(y_pred_df_file, index=False)"
            ]
        },
        {
            "cell_type": "code",
            "execution_count": 116,
            "id": "148d1346",
            "metadata": {},
            "outputs": [],
            "source": [
                "final_predictions_df = pd.concat([final_predictions_df, y_pred_df], axis=0)"
            ]
        },
        {
            "cell_type": "code",
            "execution_count": 117,
            "id": "075f1ff0",
            "metadata": {
                "execution": {
                    "iopub.execute_input": "2023-11-13T03:21:53.099747Z",
                    "iopub.status.busy": "2023-11-13T03:21:53.099370Z",
                    "iopub.status.idle": "2023-11-13T03:21:53.102914Z",
                    "shell.execute_reply": "2023-11-13T03:21:53.102508Z"
                },
                "papermill": {
                    "duration": null,
                    "end_time": null,
                    "exception": null,
                    "start_time": null,
                    "status": "pending"
                },
                "tags": []
            },
            "outputs": [],
            "source": [
                "# rename columns from the decoder dictionary\n",
                "confusion_matrix_df.rename(\n",
                "    columns={0: \"apoptosis\", 1: \"healthy\", 2: \"pyroptosis\"}, inplace=True\n",
                ")\n",
                "# rename index from the decoder dictionary\n",
                "confusion_matrix_df.rename(\n",
                "    index={0: \"apoptosis\", 1: \"healthy\", 2: \"pyroptosis\"}, inplace=True\n",
                ")"
            ]
        },
        {
            "cell_type": "code",
            "execution_count": 118,
            "id": "eb3690d8",
            "metadata": {
                "execution": {
                    "iopub.execute_input": "2023-11-13T03:21:53.130959Z",
                    "iopub.status.busy": "2023-11-13T03:21:53.130694Z",
                    "iopub.status.idle": "2023-11-13T03:21:53.137032Z",
                    "shell.execute_reply": "2023-11-13T03:21:53.136624Z"
                },
                "papermill": {
                    "duration": null,
                    "end_time": null,
                    "exception": null,
                    "start_time": null,
                    "status": "pending"
                },
                "tags": []
            },
            "outputs": [],
            "source": [
                "confusion_matrices = confusion_matrix_df.reset_index()\n",
                "# melt the DataFrame to a long format\n",
                "confusion_matrices = pd.melt(\n",
                "    confusion_matrices,\n",
                "    id_vars=[\"index\"],\n",
                "    value_vars=[\"healthy\", \"apoptosis\", \"pyroptosis\"],\n",
                ")\n",
                "\n",
                "# rename the columns\n",
                "confusion_matrices.columns = [\"True_Label\", \"Predicted_Label\", \"Count\"]\n",
                "confusion_matrices[\"data_split\"] = \"holdout\"\n",
                "# sum of the columns of the confusion matrix gives the total number of samples per class\n",
                "sum_of_columns = confusion_matrix_df.sum(axis=0)"
            ]
        },
        {
            "cell_type": "code",
            "execution_count": 119,
            "id": "31d1f6af",
            "metadata": {
                "execution": {
                    "iopub.execute_input": "2023-11-13T03:21:53.198562Z",
                    "iopub.status.busy": "2023-11-13T03:21:53.198279Z",
                    "iopub.status.idle": "2023-11-13T03:21:53.201909Z",
                    "shell.execute_reply": "2023-11-13T03:21:53.201527Z"
                },
                "papermill": {
                    "duration": null,
                    "end_time": null,
                    "exception": null,
                    "start_time": null,
                    "status": "pending"
                },
                "tags": []
            },
            "outputs": [],
            "source": [
                "# normalize confusion matrix\n",
                "# get the sum of each column to normalize the confusion matrix by the total number of samples per class\n",
                "\n",
                "# divide the apotosis column by the sum of the apotosis column\n",
                "confusion_matrix_df[\"apoptosis\"] = confusion_matrix_df[\"apoptosis\"] / sum_of_columns[0]\n",
                "# divide the healthy column by the sum of the healthy column\n",
                "confusion_matrix_df[\"healthy\"] = confusion_matrix_df[\"healthy\"] / sum_of_columns[1]\n",
                "# divide the pyroptosis column by the sum of the pyroptosis column\n",
                "confusion_matrix_df[\"pyroptosis\"] = (\n",
                "    confusion_matrix_df[\"pyroptosis\"] / sum_of_columns[2]\n",
                ")"
            ]
        },
        {
            "cell_type": "code",
            "execution_count": 120,
            "id": "cfe647ce",
            "metadata": {
                "execution": {
                    "iopub.execute_input": "2023-11-13T03:21:53.230116Z",
                    "iopub.status.busy": "2023-11-13T03:21:53.229842Z",
                    "iopub.status.idle": "2023-11-13T03:21:53.233015Z",
                    "shell.execute_reply": "2023-11-13T03:21:53.232631Z"
                },
                "papermill": {
                    "duration": null,
                    "end_time": null,
                    "exception": null,
                    "start_time": null,
                    "status": "pending"
                },
                "tags": []
            },
            "outputs": [],
            "source": [
                "# change the order of the columns\n",
                "confusion_matrix_df = confusion_matrix_df[[\"healthy\", \"apoptosis\", \"pyroptosis\"]]\n",
                "# change the order of the index\n",
                "confusion_matrix_df = confusion_matrix_df.reindex(\n",
                "    index=[\"healthy\", \"apoptosis\", \"pyroptosis\"]\n",
                ")"
            ]
        },
        {
            "cell_type": "code",
            "execution_count": 121,
            "id": "001cd8ef",
            "metadata": {
                "execution": {
                    "iopub.execute_input": "2023-11-13T03:21:53.261598Z",
                    "iopub.status.busy": "2023-11-13T03:21:53.261247Z",
                    "iopub.status.idle": "2023-11-13T03:21:53.270004Z",
                    "shell.execute_reply": "2023-11-13T03:21:53.269614Z"
                },
                "papermill": {
                    "duration": null,
                    "end_time": null,
                    "exception": null,
                    "start_time": null,
                    "status": "pending"
                },
                "tags": []
            },
            "outputs": [
                {
                    "name": "stderr",
                    "output_type": "stream",
                    "text": [
                        "/tmp/ipykernel_1387241/2826534186.py:19: FutureWarning: In a future version, object-dtype columns with all-bool values will not be included in reductions with bool_only=True. Explicitly cast to bool dtype instead.\n",
                        "  data_split_conf_mat_df_all = pd.concat(\n"
                    ]
                }
            ],
            "source": [
                "confusion_matrices_recall = confusion_matrix_df.reset_index()\n",
                "# melt the DataFrame to a long format\n",
                "confusion_matrices_recall = pd.melt(\n",
                "    confusion_matrices_recall,\n",
                "    id_vars=[\"index\"],\n",
                "    value_vars=[\"healthy\", \"apoptosis\", \"pyroptosis\"],\n",
                ")\n",
                "\n",
                "# rename the columns\n",
                "confusion_matrices_recall.columns = [\"True_Label\", \"Predicted_Label\", \"Count\"]\n",
                "confusion_matrices_recall[\"data_split\"] = \"holdout\"\n",
                "confusion_matrices_recall.rename(columns={\"Count\": \"Recall\"}, inplace=True)\n",
                "data_split_conf_mat_df = pd.merge(\n",
                "    confusion_matrices,\n",
                "    confusion_matrices_recall,\n",
                "    on=[\"True_Label\", \"Predicted_Label\", \"data_split\"],\n",
                ")\n",
                "data_split_conf_mat_df[\"shuffle\"] = mlp_params.SHUFFLE\n",
                "data_split_conf_mat_df_all = pd.concat(\n",
                "    [data_split_conf_mat_df_all, data_split_conf_mat_df], axis=0\n",
                ")"
            ]
        },
        {
            "cell_type": "code",
            "execution_count": 122,
            "id": "7c326b32",
            "metadata": {
                "execution": {
                    "iopub.execute_input": "2023-11-13T03:21:53.332808Z",
                    "iopub.status.busy": "2023-11-13T03:21:53.332528Z",
                    "iopub.status.idle": "2023-11-13T03:21:53.496525Z",
                    "shell.execute_reply": "2023-11-13T03:21:53.496138Z"
                },
                "papermill": {
                    "duration": null,
                    "end_time": null,
                    "exception": null,
                    "start_time": null,
                    "status": "pending"
                },
                "tags": []
            },
            "outputs": [
                {
                    "data": {
                        "image/png": "[encoded data removed]",
                        "text/plain": [
                            "<Figure size 640x480 with 2 Axes>"
                        ]
                    },
                    "metadata": {},
                    "output_type": "display_data"
                }
            ],
            "source": [
                "ax = sns.heatmap(confusion_matrix_df, annot=True)\n",
                "\n",
                "plt.xlabel(\"Actual Values\", size=15)\n",
                "plt.ylabel(\"Predicted Values\", size=15)\n",
                "plt.show()"
            ]
        },
        {
            "cell_type": "code",
            "execution_count": 123,
            "id": "d9c38144",
            "metadata": {
                "execution": {
                    "iopub.execute_input": "2023-11-13T03:21:53.525955Z",
                    "iopub.status.busy": "2023-11-13T03:21:53.525663Z",
                    "iopub.status.idle": "2023-11-13T03:21:53.783498Z",
                    "shell.execute_reply": "2023-11-13T03:21:53.783087Z"
                },
                "papermill": {
                    "duration": null,
                    "end_time": null,
                    "exception": null,
                    "start_time": null,
                    "status": "pending"
                },
                "tags": []
            },
            "outputs": [
                {
                    "name": "stdout",
                    "output_type": "stream",
                    "text": [
                        "              precision    recall  f1-score   support\n",
                        "\n",
                        "           0       0.88      0.62      0.73      6683\n",
                        "           1       0.62      0.92      0.74     67954\n",
                        "           2       0.87      0.49      0.63     70879\n",
                        "\n",
                        "    accuracy                           0.70    145516\n",
                        "   macro avg       0.79      0.68      0.70    145516\n",
                        "weighted avg       0.75      0.70      0.69    145516\n",
                        "\n"
                    ]
                },
                {
                    "name": "stderr",
                    "output_type": "stream",
                    "text": [
                        "/tmp/ipykernel_1387241/3777910350.py:18: SettingWithCopyWarning: \n",
                        "A value is trying to be set on a copy of a slice from a DataFrame.\n",
                        "Try using .loc[row_indexer,col_indexer] = value instead\n",
                        "\n",
                        "See the caveats in the documentation: https://pandas.pydata.org/pandas-docs/stable/user_guide/indexing.html#returning-a-view-versus-a-copy\n",
                        "  df_labels[\"new_labels\"] = df_labels[\"new_labels\"].astype(str)\n"
                    ]
                }
            ],
            "source": [
                "stats_df = output_stats(\n",
                "    y_pred_list,\n",
                "    Y_test_list,\n",
                "    mlp_params,\n",
                "    test_name=f\"{mlp_params.MODEL_NAME}_train\",\n",
                "    model_name=mlp_params.MODEL_NAME,\n",
                "    title=mlp_params.MODEL_NAME,\n",
                "    shuffle=mlp_params.SHUFFLE,\n",
                ")\n",
                "# make into a dataframe\n",
                "stats_df = pd.DataFrame.from_dict(stats_df).transpose()\n",
                "stats_df.reset_index(inplace=True)\n",
                "stats_df.rename(columns={\"index\": \"label\"}, inplace=True)\n",
                "stats_df = stats_df.melt(id_vars=[\"label\"], var_name=\"metric\", value_name=\"value\")\n",
                "# if accuracy in row of column 1 then change value of column 2 to accuracy\n",
                "stats_df.loc[stats_df[\"label\"] == \"accuracy\", \"metric\"] = \"accuracy\"\n",
                "# create a decoder dictionary from df_labels\n",
                "df_labels[\"new_labels\"] = df_labels[\"new_labels\"].astype(str)\n",
                "decoder = df_labels.set_index(\"new_labels\").to_dict()[\"labels\"]\n",
                "decoder[\"accuracy\"] = \"accuracy\"\n",
                "decoder[\"macro avg\"] = \"macro avg\"\n",
                "decoder[\"weighted avg\"] = \"weighted avg\"\n",
                "stats_df[\"label\"] = stats_df[\"label\"].map(decoder)"
            ]
        },
        {
            "cell_type": "code",
            "execution_count": 124,
            "id": "61319294",
            "metadata": {
                "execution": {
                    "iopub.execute_input": "2023-11-13T03:21:53.812945Z",
                    "iopub.status.busy": "2023-11-13T03:21:53.812603Z",
                    "iopub.status.idle": "2023-11-13T03:21:53.821134Z",
                    "shell.execute_reply": "2023-11-13T03:21:53.820751Z"
                },
                "papermill": {
                    "duration": null,
                    "end_time": null,
                    "exception": null,
                    "start_time": null,
                    "status": "pending"
                },
                "tags": []
            },
            "outputs": [
                {
                    "name": "stderr",
                    "output_type": "stream",
                    "text": [
                        "/tmp/ipykernel_1387241/3768242746.py:4: FutureWarning: In a future version, object-dtype columns with all-bool values will not be included in reductions with bool_only=True. Explicitly cast to bool dtype instead.\n",
                        "  model_stats_df = pd.concat([model_stats_df, stats_df], axis=0)\n"
                    ]
                }
            ],
            "source": [
                "stats_df[\"group\"] = \"holdout\"\n",
                "stats_df[\"shuffle\"] = mlp_params.SHUFFLE\n",
                "\n",
                "model_stats_df = pd.concat([model_stats_df, stats_df], axis=0)"
            ]
        },
        {
            "cell_type": "markdown",
            "id": "4806d13c",
            "metadata": {},
            "source": [
                "### Save Files"
            ]
        },
        {
            "cell_type": "code",
            "execution_count": 125,
            "id": "9931ea5e",
            "metadata": {},
            "outputs": [],
            "source": [
                "# set path for the model confusion matrices\n",
                "predictions_path = pathlib.Path(\n",
                "    f\"../../results/{mlp_params.MODEL_TYPE}/{mlp_params.MODEL_NAME}/{mlp_params.CELL_TYPE}\"\n",
                ")\n",
                "predictions_path.mkdir(parents=True, exist_ok=True)\n",
                "# check if the model training metrics file exists\n",
                "predictions_file = pathlib.Path(f\"{predictions_path}/single_cell_predictions.parquet\")\n",
                "if predictions_file.exists():\n",
                "    predictions_df_tmp = pd.read_parquet(predictions_file)\n",
                "    if len(predictions_df_tmp[\"shuffle\"].unique()) > 1:\n",
                "        pass\n",
                "    elif predictions_df_tmp[\"shuffle\"].unique() == mlp_params.SHUFFLE:\n",
                "        pass\n",
                "    else:\n",
                "        metrics_df = pd.concat([predictions_df_tmp, final_predictions_df], axis=0)\n",
                "        metrics_df.to_parquet(predictions_file, index=False)\n",
                "else:\n",
                "    final_predictions_df.to_parquet(predictions_file, index=False)"
            ]
        },
        {
            "cell_type": "code",
            "execution_count": 126,
            "id": "6320cb8d",
            "metadata": {
                "execution": {
                    "iopub.execute_input": "2023-11-13T03:21:53.887891Z",
                    "iopub.status.busy": "2023-11-13T03:21:53.887611Z",
                    "iopub.status.idle": "2023-11-13T03:21:53.892841Z",
                    "shell.execute_reply": "2023-11-13T03:21:53.892460Z"
                },
                "papermill": {
                    "duration": null,
                    "end_time": null,
                    "exception": null,
                    "start_time": null,
                    "status": "pending"
                },
                "tags": []
            },
            "outputs": [],
            "source": [
                "# set path for the model confusion matrices\n",
                "matrix_path = pathlib.Path(\n",
                "    f\"../../results/{mlp_params.MODEL_TYPE}/{mlp_params.MODEL_NAME}/{mlp_params.CELL_TYPE}\"\n",
                ")\n",
                "matrix_path.mkdir(parents=True, exist_ok=True)\n",
                "# check if the model training metrics file exists\n",
                "matrix_file = pathlib.Path(f\"{matrix_path}/confusion_matrices.parquet\")\n",
                "if matrix_file.exists():\n",
                "    metrics_df = pd.read_parquet(matrix_file)\n",
                "    if len(metrics_df[\"shuffle\"].unique()) > 1:\n",
                "        pass\n",
                "    elif metrics_df[\"shuffle\"].unique() == mlp_params.SHUFFLE:\n",
                "        pass\n",
                "    else:\n",
                "        metrics_df = pd.concat([metrics_df, data_split_conf_mat_df_all], axis=0)\n",
                "        metrics_df.to_parquet(matrix_file, index=False)\n",
                "else:\n",
                "    data_split_conf_mat_df_all.to_parquet(matrix_file, index=False)"
            ]
        },
        {
            "cell_type": "code",
            "execution_count": 127,
            "id": "e1e4b224",
            "metadata": {
                "execution": {
                    "iopub.execute_input": "2023-11-13T03:21:53.922948Z",
                    "iopub.status.busy": "2023-11-13T03:21:53.922663Z",
                    "iopub.status.idle": "2023-11-13T03:21:53.927617Z",
                    "shell.execute_reply": "2023-11-13T03:21:53.927236Z"
                },
                "papermill": {
                    "duration": null,
                    "end_time": null,
                    "exception": null,
                    "start_time": null,
                    "status": "pending"
                },
                "tags": []
            },
            "outputs": [],
            "source": [
                "# set path for the model training metrics\n",
                "metrics_path = pathlib.Path(\n",
                "    f\"../../results/{mlp_params.MODEL_TYPE}/{mlp_params.MODEL_NAME}/{mlp_params.CELL_TYPE}\"\n",
                ")\n",
                "metrics_path.mkdir(parents=True, exist_ok=True)\n",
                "# check if the model training metrics file exists\n",
                "metrics_file = pathlib.Path(f\"{metrics_path}/training_metrics.parquet\")\n",
                "if metrics_file.exists():\n",
                "    metrics_df = pd.read_parquet(metrics_file)\n",
                "    if len(metrics_df[\"shuffle\"].unique()) > 1:\n",
                "        pass\n",
                "    elif metrics_df[\"shuffle\"].unique() == mlp_params.SHUFFLE:\n",
                "        pass\n",
                "    else:\n",
                "        metrics_df = pd.concat([metrics_df, model_stats_df], axis=0)\n",
                "        metrics_df.to_parquet(metrics_file, index=False)\n",
                "else:\n",
                "    model_stats_df.to_parquet(metrics_file, index=False)"
            ]
        },
        {
            "cell_type": "code",
            "execution_count": 128,
            "id": "96b342f3",
            "metadata": {},
            "outputs": [],
            "source": [
                "# set path for the model training metrics\n",
                "pr_curve_file_path = pathlib.Path(\n",
                "    f\"../../results/{mlp_params.MODEL_TYPE}/{mlp_params.MODEL_NAME}/{mlp_params.CELL_TYPE}\"\n",
                ")\n",
                "pr_curve_file_path.mkdir(parents=True, exist_ok=True)\n",
                "# check if the model training metrics file exists\n",
                "pr_curve_file = pathlib.Path(f\"{pr_curve_file_path}/PR_curves.parquet\")\n",
                "if pr_curve_file.exists():\n",
                "    pr_curve_df_old = pd.read_parquet(pr_curve_file)\n",
                "    if len(pr_curve_df_old[\"shuffle\"].unique()) > 1:\n",
                "        pass\n",
                "    elif pr_curve_df_old[\"shuffle\"].unique() == mlp_params.SHUFFLE:\n",
                "        pass\n",
                "    else:\n",
                "        pr_curve_df_old = pd.concat([pr_curve_df_old, pr_curve_df_all], axis=0)\n",
                "        pr_curve_df_old.to_parquet(pr_curve_file, index=False)\n",
                "else:\n",
                "    pr_curve_df_all.to_parquet(pr_curve_file, index=False)"
            ]
        },
        {
            "cell_type": "code",
            "execution_count": 129,
            "id": "d81929db",
            "metadata": {},
            "outputs": [],
            "source": [
                "# set path for the model training metrics\n",
                "probabilties_df_path = pathlib.Path(\n",
                "    f\"../../results/{mlp_params.MODEL_TYPE}/{mlp_params.MODEL_NAME}/{mlp_params.CELL_TYPE}\"\n",
                ")\n",
                "probabilties_df_path.mkdir(parents=True, exist_ok=True)\n",
                "# check if the model training metrics file exists\n",
                "probabilties_df_file = pathlib.Path(f\"{probabilties_df_path}/probabilities.parquet\")\n",
                "if probabilties_df_file.exists():\n",
                "    probabilties_df_old = pd.read_parquet(probabilties_df_file)\n",
                "    if len(probabilties_df_old[\"shuffle\"].unique()) > 1:\n",
                "        pass\n",
                "    elif probabilties_df_old[\"shuffle\"].unique() == mlp_params.SHUFFLE:\n",
                "        pass\n",
                "    else:\n",
                "        probabilties_df_old = pd.concat([probabilties_df_old, main_prob_df], axis=0)\n",
                "        probabilties_df_old.to_parquet(probabilties_df_file, index=False)\n",
                "else:\n",
                "    main_prob_df.to_parquet(probabilties_df_file, index=False)"
            ]
        },
        {
            "cell_type": "code",
            "execution_count": 130,
            "id": "c43032c7",
            "metadata": {},
            "outputs": [
                {
                    "data": {
                        "text/plain": [
                            "array(['train', 'validation', 'testing', 'treatment_holdout', 'holdout'],\n",
                            "      dtype=object)"
                        ]
                    },
                    "execution_count": 130,
                    "metadata": {},
                    "output_type": "execute_result"
                }
            ],
            "source": [
                "main_prob_df[\"data_split\"].unique()"
            ]
        }
    ],
    "metadata": {
        "kernelspec": {
            "display_name": "Interstellar",
            "language": "python",
            "name": "python3"
        },
        "language_info": {
            "codemirror_mode": {
                "name": "ipython",
                "version": 3
            },
            "file_extension": ".py",
            "mimetype": "text/x-python",
            "name": "python",
            "nbconvert_exporter": "python",
            "pygments_lexer": "ipython3",
            "version": "3.10.12"
        },
        "papermill": {
            "default_parameters": {},
            "duration": null,
            "end_time": null,
            "environment_variables": {},
            "exception": null,
            "input_path": "train_multiclass_model.ipynb",
            "output_path": "train_multiclass_model.ipynb",
            "parameters": {
                "CELL_TYPE": "PBMC",
                "MODEL_NAME": "MultiClass_MLP",
                "SHUFFLE": true
            },
            "start_time": "2023-11-13T03:46:04.352506",
            "version": "2.4.0"
        }
    },
    "nbformat": 4,
    "nbformat_minor": 5
}
