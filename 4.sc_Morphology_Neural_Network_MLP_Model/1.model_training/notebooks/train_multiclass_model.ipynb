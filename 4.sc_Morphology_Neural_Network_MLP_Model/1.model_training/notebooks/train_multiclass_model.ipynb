{
 "cells": [
  {
   "cell_type": "code",
   "execution_count": 1,
   "id": "76db0f62",
   "metadata": {
    "execution": {
     "iopub.execute_input": "2023-11-13T03:46:06.332907Z",
     "iopub.status.busy": "2023-11-13T03:46:06.332549Z",
     "iopub.status.idle": "2023-11-13T03:46:09.390164Z",
     "shell.execute_reply": "2023-11-13T03:46:09.389559Z"
    },
    "papermill": {
     "duration": 3.068881,
     "end_time": "2023-11-13T03:46:09.391537",
     "exception": false,
     "start_time": "2023-11-13T03:46:06.322656",
     "status": "completed"
    },
    "tags": []
   },
   "outputs": [],
   "source": [
    "import ast\n",
    "import pathlib\n",
    "import sys\n",
    "\n",
    "import numpy as np\n",
    "import pandas as pd\n",
    "import toml\n",
    "import torch\n",
    "from sklearn import preprocessing\n",
    "\n",
    "sys.path.append(\"../..\")\n",
    "\n",
    "\n",
    "import matplotlib.pyplot as plt\n",
    "import seaborn as sns\n",
    "from MLP_utils.parameters import Parameters\n",
    "from MLP_utils.utils import (\n",
    "    Dataset_formatter,\n",
    "    output_stats,\n",
    "    parameter_set,\n",
    "    plot_metric_vs_epoch,\n",
    "    results_output,\n",
    "    test_optimized_model,\n",
    "    train_optimized_model,\n",
    "    un_nest,\n",
    ")\n",
    "\n",
    "sys.path.append(\"../../..\")\n",
    "import argparse"
   ]
  },
  {
   "cell_type": "code",
   "execution_count": 2,
   "metadata": {},
   "outputs": [],
   "source": [
    "# set up the parser\n",
    "parser = argparse.ArgumentParser(description=\"Train MLP model\")\n",
    "\n",
    "# add arguments to parser\n",
    "parser.add_argument(\n",
    "     \"--CELL_TYPE\",\n",
    "     type=str,\n",
    "     default=\"all\",\n",
    "     help=\"Cell type to train model on. Default is all\",\n",
    " )\n",
    "\n",
    "parser.add_argument(\n",
    "     \"--MODEL_NAME\",\n",
    "     type=str,\n",
    "     default=\"MLP\",\n",
    "     help=\"Model name to train. Default is MLP\",\n",
    " )\n",
    "\n",
    "parser.add_argument(\n",
    "     \"--SHUFFLE\",\n",
    "     type=str,\n",
    "     default=\"False\",\n",
    "     help=\"Shuffle data before training. Default is False\",\n",
    " )\n",
    "\n",
    "# parse the arguments\n",
    "args = parser.parse_args()\n",
    "\n",
    "CELL_TYPE = args.CELL_TYPE\n",
    "MODEL_NAME = args.MODEL_NAME\n",
    "SHUFFLE = args.SHUFFLE\n",
    "SHUFFLE = ast.literal_eval(SHUFFLE)\n",
    "print(CELL_TYPE, MODEL_NAME, SHUFFLE)"
   ]
  },
  {
   "cell_type": "code",
   "execution_count": 3,
   "metadata": {},
   "outputs": [],
   "source": [
    "#CELL_TYPE = \"SHSY5Y\"\n",
    "#MODEL_NAME = \"MultiClass_MLP\"\n",
    "#SHUFFLE = False"
   ]
  },
  {
   "cell_type": "code",
   "execution_count": 4,
   "id": "7fe861fc",
   "metadata": {
    "execution": {
     "iopub.execute_input": "2023-11-13T03:46:09.446006Z",
     "iopub.status.busy": "2023-11-13T03:46:09.445617Z",
     "iopub.status.idle": "2023-11-13T03:46:09.451397Z",
     "shell.execute_reply": "2023-11-13T03:46:09.450978Z"
    },
    "papermill": {
     "duration": 0.015233,
     "end_time": "2023-11-13T03:46:09.452351",
     "exception": false,
     "start_time": "2023-11-13T03:46:09.437118",
     "status": "completed"
    },
    "tags": []
   },
   "outputs": [
    {
     "name": "stdout",
     "output_type": "stream",
     "text": [
      "[0.954878893196544, 0.4803479499984947, 0.5647731568049614]\n"
     ]
    }
   ],
   "source": [
    "ml_configs_file = pathlib.Path(\"../../MLP_utils/multi_class_config.toml\").resolve(\n",
    "    strict=True\n",
    ")\n",
    "ml_configs = toml.load(ml_configs_file)\n",
    "params = Parameters()\n",
    "mlp_params = parameter_set(params, ml_configs)\n",
    "\n",
    "# overwrite params via command line arguments from papermill\n",
    "mlp_params.CELL_TYPE = CELL_TYPE\n",
    "mlp_params.MODEL_NAME = MODEL_NAME\n",
    "\n",
    "mlp_params.MODEL_NAME = MODEL_NAME\n",
    "mlp_params.SHUFFLE = SHUFFLE\n",
    "\n",
    "# load in the class weights\n",
    "class_weights_file_path = pathlib.Path(\n",
    "    f\"../../0.hyperparameter_optimization/class_weights/{CELL_TYPE}/multi_class/class_weights.txt\"\n",
    ").resolve(strict=True)\n",
    "# read the class weights into a list for use in the loss function as a list\n",
    "class_weights = []\n",
    "with open(class_weights_file_path, \"r\") as f:\n",
    "    for line in f:\n",
    "        class_weights.append(float(line.strip()))\n",
    "# check the class weights are correct\n",
    "print(class_weights)"
   ]
  },
  {
   "cell_type": "code",
   "execution_count": 5,
   "id": "5f05b3f4",
   "metadata": {
    "execution": {
     "iopub.execute_input": "2023-11-13T03:46:09.469050Z",
     "iopub.status.busy": "2023-11-13T03:46:09.468681Z",
     "iopub.status.idle": "2023-11-13T03:46:38.488828Z",
     "shell.execute_reply": "2023-11-13T03:46:38.488256Z"
    },
    "papermill": {
     "duration": 29.029959,
     "end_time": "2023-11-13T03:46:38.490348",
     "exception": false,
     "start_time": "2023-11-13T03:46:09.460389",
     "status": "completed"
    },
    "tags": []
   },
   "outputs": [],
   "source": [
    "# Import Data\n",
    "# set data file path under pathlib path for multi-system use\n",
    "\n",
    "file_path = pathlib.Path(\n",
    "    f\"../../../data/{mlp_params.CELL_TYPE}_preprocessed_sc_norm.parquet\"\n",
    ").resolve(strict=True)\n",
    "\n",
    "df1 = pd.read_parquet(file_path)"
   ]
  },
  {
   "cell_type": "code",
   "execution_count": 6,
   "id": "6c372a03",
   "metadata": {
    "execution": {
     "iopub.execute_input": "2023-11-13T03:46:38.510926Z",
     "iopub.status.busy": "2023-11-13T03:46:38.510590Z",
     "iopub.status.idle": "2023-11-13T03:46:38.515770Z",
     "shell.execute_reply": "2023-11-13T03:46:38.515225Z"
    },
    "papermill": {
     "duration": 0.014971,
     "end_time": "2023-11-13T03:46:38.517006",
     "exception": false,
     "start_time": "2023-11-13T03:46:38.502035",
     "status": "completed"
    },
    "tags": []
   },
   "outputs": [],
   "source": [
    "# get paths for toml files\n",
    "ground_truth_file_path = pathlib.Path(f\"../../MLP_utils/ground_truth.toml\").resolve(\n",
    "    strict=True\n",
    ")\n",
    "treatment_splits_file_path = pathlib.Path(f\"../../MLP_utils/splits.toml\").resolve(\n",
    "    strict=True\n",
    ")\n",
    "# read toml files\n",
    "ground_truth = toml.load(ground_truth_file_path)\n",
    "treatment_splits = toml.load(treatment_splits_file_path)"
   ]
  },
  {
   "cell_type": "code",
   "execution_count": 7,
   "id": "63523a09",
   "metadata": {
    "execution": {
     "iopub.execute_input": "2023-11-13T03:46:38.533853Z",
     "iopub.status.busy": "2023-11-13T03:46:38.533375Z",
     "iopub.status.idle": "2023-11-13T03:46:38.536081Z",
     "shell.execute_reply": "2023-11-13T03:46:38.535698Z"
    },
    "papermill": {
     "duration": 0.012175,
     "end_time": "2023-11-13T03:46:38.536982",
     "exception": false,
     "start_time": "2023-11-13T03:46:38.524807",
     "status": "completed"
    },
    "tags": []
   },
   "outputs": [],
   "source": [
    "# get information from toml files\n",
    "apoptosis_groups_list = ground_truth[\"Apoptosis\"][\"apoptosis_groups_list\"]\n",
    "pyroptosis_groups_list = ground_truth[\"Pyroptosis\"][\"pyroptosis_groups_list\"]\n",
    "healthy_groups_list = ground_truth[\"Healthy\"][\"healthy_groups_list\"]"
   ]
  },
  {
   "cell_type": "markdown",
   "id": "7c5e28b5",
   "metadata": {
    "papermill": {
     "duration": 0.007627,
     "end_time": "2023-11-13T03:46:38.552274",
     "exception": false,
     "start_time": "2023-11-13T03:46:38.544647",
     "status": "completed"
    },
    "tags": []
   },
   "source": [
    "#### Set up Data to be compatible with model"
   ]
  },
  {
   "cell_type": "markdown",
   "id": "5efd38f4",
   "metadata": {
    "papermill": {
     "duration": 0.00759,
     "end_time": "2023-11-13T03:46:38.567493",
     "exception": false,
     "start_time": "2023-11-13T03:46:38.559903",
     "status": "completed"
    },
    "tags": []
   },
   "source": [
    "##### Classification Models:\n",
    "Comment out code if using regression"
   ]
  },
  {
   "cell_type": "code",
   "execution_count": 8,
   "id": "892c99cb",
   "metadata": {
    "execution": {
     "iopub.execute_input": "2023-11-13T03:46:38.583852Z",
     "iopub.status.busy": "2023-11-13T03:46:38.583443Z",
     "iopub.status.idle": "2023-11-13T03:46:38.586992Z",
     "shell.execute_reply": "2023-11-13T03:46:38.586604Z"
    },
    "papermill": {
     "duration": 0.012778,
     "end_time": "2023-11-13T03:46:38.587892",
     "exception": false,
     "start_time": "2023-11-13T03:46:38.575114",
     "status": "completed"
    },
    "tags": []
   },
   "outputs": [
    {
     "name": "stdout",
     "output_type": "stream",
     "text": [
      "Data Subset Is Off\n"
     ]
    }
   ],
   "source": [
    "np.random.seed(0)\n",
    "if ast.literal_eval(mlp_params.DATA_SUBSET_OPTION):\n",
    "    df1 = df1.groupby(\"oneb_Metadata_Treatment_Dose_Inhibitor_Dose\").apply(\n",
    "        lambda x: x.sample(n=mlp_params.DATA_SUBSET_NUMBER, random_state=0)\n",
    "    )\n",
    "    print(\"Data Subset Is On\")\n",
    "    print(f\"Data is subset to {mlp_params.DATA_SUBSET_NUMBER} per treatment group\")\n",
    "    print(df1.shape)\n",
    "    df1.reset_index(drop=True, inplace=True)\n",
    "else:\n",
    "    print(\"Data Subset Is Off\")"
   ]
  },
  {
   "cell_type": "code",
   "execution_count": 9,
   "id": "48b83d0d",
   "metadata": {
    "execution": {
     "iopub.execute_input": "2023-11-13T03:22:33.025827Z",
     "iopub.status.busy": "2023-11-13T03:22:33.025490Z",
     "iopub.status.idle": "2023-11-13T03:36:58.170038Z",
     "shell.execute_reply": "2023-11-13T03:36:58.169419Z"
    },
    "papermill": {
     "duration": null,
     "end_time": null,
     "exception": false,
     "start_time": "2023-11-13T03:46:38.595635",
     "status": "running"
    },
    "tags": []
   },
   "outputs": [
    {
     "ename": "KeyboardInterrupt",
     "evalue": "",
     "output_type": "error",
     "traceback": [
      "\u001b[0;31m---------------------------------------------------------------------------\u001b[0m",
      "\u001b[0;31mKeyboardInterrupt\u001b[0m                         Traceback (most recent call last)",
      "\u001b[1;32m/home/lippincm/Documents/ML/Interstellar_Analysis/4.sc_Morphology_Neural_Network_MLP_Model/1.model_training/notebooks/train_multiclass_model.ipynb Cell 11\u001b[0m line \u001b[0;36m2\n\u001b[1;32m      <a href='vscode-notebook-cell://ssh-remote%2B10.13.161.59/home/lippincm/Documents/ML/Interstellar_Analysis/4.sc_Morphology_Neural_Network_MLP_Model/1.model_training/notebooks/train_multiclass_model.ipynb#X12sdnNjb2RlLXJlbW90ZQ%3D%3D?line=0'>1</a>\u001b[0m \u001b[39m# add apoptosis, pyroptosis and healthy columns to dataframe\u001b[39;00m\n\u001b[0;32m----> <a href='vscode-notebook-cell://ssh-remote%2B10.13.161.59/home/lippincm/Documents/ML/Interstellar_Analysis/4.sc_Morphology_Neural_Network_MLP_Model/1.model_training/notebooks/train_multiclass_model.ipynb#X12sdnNjb2RlLXJlbW90ZQ%3D%3D?line=1'>2</a>\u001b[0m df1[\u001b[39m\"\u001b[39m\u001b[39mapoptosis\u001b[39m\u001b[39m\"\u001b[39m] \u001b[39m=\u001b[39m df1\u001b[39m.\u001b[39;49mapply(\n\u001b[1;32m      <a href='vscode-notebook-cell://ssh-remote%2B10.13.161.59/home/lippincm/Documents/ML/Interstellar_Analysis/4.sc_Morphology_Neural_Network_MLP_Model/1.model_training/notebooks/train_multiclass_model.ipynb#X12sdnNjb2RlLXJlbW90ZQ%3D%3D?line=2'>3</a>\u001b[0m     \u001b[39mlambda\u001b[39;49;00m row: row[\u001b[39m\"\u001b[39;49m\u001b[39moneb_Metadata_Treatment_Dose_Inhibitor_Dose\u001b[39;49m\u001b[39m\"\u001b[39;49m]\n\u001b[1;32m      <a href='vscode-notebook-cell://ssh-remote%2B10.13.161.59/home/lippincm/Documents/ML/Interstellar_Analysis/4.sc_Morphology_Neural_Network_MLP_Model/1.model_training/notebooks/train_multiclass_model.ipynb#X12sdnNjb2RlLXJlbW90ZQ%3D%3D?line=3'>4</a>\u001b[0m     \u001b[39min\u001b[39;49;00m apoptosis_groups_list,\n\u001b[1;32m      <a href='vscode-notebook-cell://ssh-remote%2B10.13.161.59/home/lippincm/Documents/ML/Interstellar_Analysis/4.sc_Morphology_Neural_Network_MLP_Model/1.model_training/notebooks/train_multiclass_model.ipynb#X12sdnNjb2RlLXJlbW90ZQ%3D%3D?line=4'>5</a>\u001b[0m     axis\u001b[39m=\u001b[39;49m\u001b[39m1\u001b[39;49m,\n\u001b[1;32m      <a href='vscode-notebook-cell://ssh-remote%2B10.13.161.59/home/lippincm/Documents/ML/Interstellar_Analysis/4.sc_Morphology_Neural_Network_MLP_Model/1.model_training/notebooks/train_multiclass_model.ipynb#X12sdnNjb2RlLXJlbW90ZQ%3D%3D?line=5'>6</a>\u001b[0m )\n\u001b[1;32m      <a href='vscode-notebook-cell://ssh-remote%2B10.13.161.59/home/lippincm/Documents/ML/Interstellar_Analysis/4.sc_Morphology_Neural_Network_MLP_Model/1.model_training/notebooks/train_multiclass_model.ipynb#X12sdnNjb2RlLXJlbW90ZQ%3D%3D?line=6'>7</a>\u001b[0m df1[\u001b[39m\"\u001b[39m\u001b[39mpyroptosis\u001b[39m\u001b[39m\"\u001b[39m] \u001b[39m=\u001b[39m df1\u001b[39m.\u001b[39mapply(\n\u001b[1;32m      <a href='vscode-notebook-cell://ssh-remote%2B10.13.161.59/home/lippincm/Documents/ML/Interstellar_Analysis/4.sc_Morphology_Neural_Network_MLP_Model/1.model_training/notebooks/train_multiclass_model.ipynb#X12sdnNjb2RlLXJlbW90ZQ%3D%3D?line=7'>8</a>\u001b[0m     \u001b[39mlambda\u001b[39;00m row: row[\u001b[39m\"\u001b[39m\u001b[39moneb_Metadata_Treatment_Dose_Inhibitor_Dose\u001b[39m\u001b[39m\"\u001b[39m]\n\u001b[1;32m      <a href='vscode-notebook-cell://ssh-remote%2B10.13.161.59/home/lippincm/Documents/ML/Interstellar_Analysis/4.sc_Morphology_Neural_Network_MLP_Model/1.model_training/notebooks/train_multiclass_model.ipynb#X12sdnNjb2RlLXJlbW90ZQ%3D%3D?line=8'>9</a>\u001b[0m     \u001b[39min\u001b[39;00m pyroptosis_groups_list,\n\u001b[1;32m     <a href='vscode-notebook-cell://ssh-remote%2B10.13.161.59/home/lippincm/Documents/ML/Interstellar_Analysis/4.sc_Morphology_Neural_Network_MLP_Model/1.model_training/notebooks/train_multiclass_model.ipynb#X12sdnNjb2RlLXJlbW90ZQ%3D%3D?line=9'>10</a>\u001b[0m     axis\u001b[39m=\u001b[39m\u001b[39m1\u001b[39m,\n\u001b[1;32m     <a href='vscode-notebook-cell://ssh-remote%2B10.13.161.59/home/lippincm/Documents/ML/Interstellar_Analysis/4.sc_Morphology_Neural_Network_MLP_Model/1.model_training/notebooks/train_multiclass_model.ipynb#X12sdnNjb2RlLXJlbW90ZQ%3D%3D?line=10'>11</a>\u001b[0m )\n\u001b[1;32m     <a href='vscode-notebook-cell://ssh-remote%2B10.13.161.59/home/lippincm/Documents/ML/Interstellar_Analysis/4.sc_Morphology_Neural_Network_MLP_Model/1.model_training/notebooks/train_multiclass_model.ipynb#X12sdnNjb2RlLXJlbW90ZQ%3D%3D?line=11'>12</a>\u001b[0m df1[\u001b[39m\"\u001b[39m\u001b[39mhealthy\u001b[39m\u001b[39m\"\u001b[39m] \u001b[39m=\u001b[39m df1\u001b[39m.\u001b[39mapply(\n\u001b[1;32m     <a href='vscode-notebook-cell://ssh-remote%2B10.13.161.59/home/lippincm/Documents/ML/Interstellar_Analysis/4.sc_Morphology_Neural_Network_MLP_Model/1.model_training/notebooks/train_multiclass_model.ipynb#X12sdnNjb2RlLXJlbW90ZQ%3D%3D?line=12'>13</a>\u001b[0m     \u001b[39mlambda\u001b[39;00m row: row[\u001b[39m\"\u001b[39m\u001b[39moneb_Metadata_Treatment_Dose_Inhibitor_Dose\u001b[39m\u001b[39m\"\u001b[39m]\n\u001b[1;32m     <a href='vscode-notebook-cell://ssh-remote%2B10.13.161.59/home/lippincm/Documents/ML/Interstellar_Analysis/4.sc_Morphology_Neural_Network_MLP_Model/1.model_training/notebooks/train_multiclass_model.ipynb#X12sdnNjb2RlLXJlbW90ZQ%3D%3D?line=13'>14</a>\u001b[0m     \u001b[39min\u001b[39;00m healthy_groups_list,\n\u001b[1;32m     <a href='vscode-notebook-cell://ssh-remote%2B10.13.161.59/home/lippincm/Documents/ML/Interstellar_Analysis/4.sc_Morphology_Neural_Network_MLP_Model/1.model_training/notebooks/train_multiclass_model.ipynb#X12sdnNjb2RlLXJlbW90ZQ%3D%3D?line=14'>15</a>\u001b[0m     axis\u001b[39m=\u001b[39m\u001b[39m1\u001b[39m,\n\u001b[1;32m     <a href='vscode-notebook-cell://ssh-remote%2B10.13.161.59/home/lippincm/Documents/ML/Interstellar_Analysis/4.sc_Morphology_Neural_Network_MLP_Model/1.model_training/notebooks/train_multiclass_model.ipynb#X12sdnNjb2RlLXJlbW90ZQ%3D%3D?line=15'>16</a>\u001b[0m )\n",
      "File \u001b[0;32m~/miniconda3/envs/Interstellar/lib/python3.10/site-packages/pandas/core/frame.py:9568\u001b[0m, in \u001b[0;36mDataFrame.apply\u001b[0;34m(self, func, axis, raw, result_type, args, **kwargs)\u001b[0m\n\u001b[1;32m   9557\u001b[0m \u001b[39mfrom\u001b[39;00m \u001b[39mpandas\u001b[39;00m\u001b[39m.\u001b[39;00m\u001b[39mcore\u001b[39;00m\u001b[39m.\u001b[39;00m\u001b[39mapply\u001b[39;00m \u001b[39mimport\u001b[39;00m frame_apply\n\u001b[1;32m   9559\u001b[0m op \u001b[39m=\u001b[39m frame_apply(\n\u001b[1;32m   9560\u001b[0m     \u001b[39mself\u001b[39m,\n\u001b[1;32m   9561\u001b[0m     func\u001b[39m=\u001b[39mfunc,\n\u001b[0;32m   (...)\u001b[0m\n\u001b[1;32m   9566\u001b[0m     kwargs\u001b[39m=\u001b[39mkwargs,\n\u001b[1;32m   9567\u001b[0m )\n\u001b[0;32m-> 9568\u001b[0m \u001b[39mreturn\u001b[39;00m op\u001b[39m.\u001b[39;49mapply()\u001b[39m.\u001b[39m__finalize__(\u001b[39mself\u001b[39m, method\u001b[39m=\u001b[39m\u001b[39m\"\u001b[39m\u001b[39mapply\u001b[39m\u001b[39m\"\u001b[39m)\n",
      "File \u001b[0;32m~/miniconda3/envs/Interstellar/lib/python3.10/site-packages/pandas/core/apply.py:764\u001b[0m, in \u001b[0;36mFrameApply.apply\u001b[0;34m(self)\u001b[0m\n\u001b[1;32m    761\u001b[0m \u001b[39melif\u001b[39;00m \u001b[39mself\u001b[39m\u001b[39m.\u001b[39mraw:\n\u001b[1;32m    762\u001b[0m     \u001b[39mreturn\u001b[39;00m \u001b[39mself\u001b[39m\u001b[39m.\u001b[39mapply_raw()\n\u001b[0;32m--> 764\u001b[0m \u001b[39mreturn\u001b[39;00m \u001b[39mself\u001b[39;49m\u001b[39m.\u001b[39;49mapply_standard()\n",
      "File \u001b[0;32m~/miniconda3/envs/Interstellar/lib/python3.10/site-packages/pandas/core/apply.py:891\u001b[0m, in \u001b[0;36mFrameApply.apply_standard\u001b[0;34m(self)\u001b[0m\n\u001b[1;32m    890\u001b[0m \u001b[39mdef\u001b[39;00m \u001b[39mapply_standard\u001b[39m(\u001b[39mself\u001b[39m):\n\u001b[0;32m--> 891\u001b[0m     results, res_index \u001b[39m=\u001b[39m \u001b[39mself\u001b[39;49m\u001b[39m.\u001b[39;49mapply_series_generator()\n\u001b[1;32m    893\u001b[0m     \u001b[39m# wrap results\u001b[39;00m\n\u001b[1;32m    894\u001b[0m     \u001b[39mreturn\u001b[39;00m \u001b[39mself\u001b[39m\u001b[39m.\u001b[39mwrap_results(results, res_index)\n",
      "File \u001b[0;32m~/miniconda3/envs/Interstellar/lib/python3.10/site-packages/pandas/core/apply.py:905\u001b[0m, in \u001b[0;36mFrameApply.apply_series_generator\u001b[0;34m(self)\u001b[0m\n\u001b[1;32m    902\u001b[0m results \u001b[39m=\u001b[39m {}\n\u001b[1;32m    904\u001b[0m \u001b[39mwith\u001b[39;00m option_context(\u001b[39m\"\u001b[39m\u001b[39mmode.chained_assignment\u001b[39m\u001b[39m\"\u001b[39m, \u001b[39mNone\u001b[39;00m):\n\u001b[0;32m--> 905\u001b[0m     \u001b[39mfor\u001b[39;00m i, v \u001b[39min\u001b[39;00m \u001b[39menumerate\u001b[39m(series_gen):\n\u001b[1;32m    906\u001b[0m         \u001b[39m# ignore SettingWithCopy here in case the user mutates\u001b[39;00m\n\u001b[1;32m    907\u001b[0m         results[i] \u001b[39m=\u001b[39m \u001b[39mself\u001b[39m\u001b[39m.\u001b[39mf(v)\n\u001b[1;32m    908\u001b[0m         \u001b[39mif\u001b[39;00m \u001b[39misinstance\u001b[39m(results[i], ABCSeries):\n\u001b[1;32m    909\u001b[0m             \u001b[39m# If we have a view on v, we need to make a copy because\u001b[39;00m\n\u001b[1;32m    910\u001b[0m             \u001b[39m#  series_generator will swap out the underlying data\u001b[39;00m\n",
      "File \u001b[0;32m~/miniconda3/envs/Interstellar/lib/python3.10/site-packages/pandas/core/apply.py:1018\u001b[0m, in \u001b[0;36mFrameColumnApply.series_generator\u001b[0;34m(self)\u001b[0m\n\u001b[1;32m   1016\u001b[0m \u001b[39m@property\u001b[39m\n\u001b[1;32m   1017\u001b[0m \u001b[39mdef\u001b[39;00m \u001b[39mseries_generator\u001b[39m(\u001b[39mself\u001b[39m):\n\u001b[0;32m-> 1018\u001b[0m     values \u001b[39m=\u001b[39m \u001b[39mself\u001b[39;49m\u001b[39m.\u001b[39;49mvalues\n\u001b[1;32m   1019\u001b[0m     values \u001b[39m=\u001b[39m ensure_wrapped_if_datetimelike(values)\n\u001b[1;32m   1020\u001b[0m     \u001b[39massert\u001b[39;00m \u001b[39mlen\u001b[39m(values) \u001b[39m>\u001b[39m \u001b[39m0\u001b[39m\n",
      "File \u001b[0;32m~/miniconda3/envs/Interstellar/lib/python3.10/site-packages/pandas/_libs/properties.pyx:36\u001b[0m, in \u001b[0;36mpandas._libs.properties.CachedProperty.__get__\u001b[0;34m()\u001b[0m\n",
      "File \u001b[0;32m~/miniconda3/envs/Interstellar/lib/python3.10/site-packages/pandas/core/apply.py:725\u001b[0m, in \u001b[0;36mFrameApply.values\u001b[0;34m(self)\u001b[0m\n\u001b[1;32m    723\u001b[0m \u001b[39m@cache_readonly\u001b[39m\n\u001b[1;32m    724\u001b[0m \u001b[39mdef\u001b[39;00m \u001b[39mvalues\u001b[39m(\u001b[39mself\u001b[39m):\n\u001b[0;32m--> 725\u001b[0m     \u001b[39mreturn\u001b[39;00m \u001b[39mself\u001b[39;49m\u001b[39m.\u001b[39;49mobj\u001b[39m.\u001b[39;49mvalues\n",
      "File \u001b[0;32m~/miniconda3/envs/Interstellar/lib/python3.10/site-packages/pandas/core/frame.py:11739\u001b[0m, in \u001b[0;36mDataFrame.values\u001b[0;34m(self)\u001b[0m\n\u001b[1;32m  11666\u001b[0m \u001b[39m\u001b[39m\u001b[39m\"\"\"\u001b[39;00m\n\u001b[1;32m  11667\u001b[0m \u001b[39mReturn a Numpy representation of the DataFrame.\u001b[39;00m\n\u001b[1;32m  11668\u001b[0m \n\u001b[0;32m   (...)\u001b[0m\n\u001b[1;32m  11736\u001b[0m \u001b[39m       ['monkey', nan, None]], dtype=object)\u001b[39;00m\n\u001b[1;32m  11737\u001b[0m \u001b[39m\"\"\"\u001b[39;00m\n\u001b[1;32m  11738\u001b[0m \u001b[39mself\u001b[39m\u001b[39m.\u001b[39m_consolidate_inplace()\n\u001b[0;32m> 11739\u001b[0m \u001b[39mreturn\u001b[39;00m \u001b[39mself\u001b[39;49m\u001b[39m.\u001b[39;49m_mgr\u001b[39m.\u001b[39;49mas_array()\n",
      "File \u001b[0;32m~/miniconda3/envs/Interstellar/lib/python3.10/site-packages/pandas/core/internals/managers.py:1770\u001b[0m, in \u001b[0;36mBlockManager.as_array\u001b[0;34m(self, dtype, copy, na_value)\u001b[0m\n\u001b[1;32m   1768\u001b[0m             arr \u001b[39m=\u001b[39m arr\u001b[39m.\u001b[39mastype(dtype, copy\u001b[39m=\u001b[39m\u001b[39mFalse\u001b[39;00m)\n\u001b[1;32m   1769\u001b[0m \u001b[39melse\u001b[39;00m:\n\u001b[0;32m-> 1770\u001b[0m     arr \u001b[39m=\u001b[39m \u001b[39mself\u001b[39;49m\u001b[39m.\u001b[39;49m_interleave(dtype\u001b[39m=\u001b[39;49mdtype, na_value\u001b[39m=\u001b[39;49mna_value)\n\u001b[1;32m   1771\u001b[0m     \u001b[39m# The underlying data was copied within _interleave\u001b[39;00m\n\u001b[1;32m   1772\u001b[0m     copy \u001b[39m=\u001b[39m \u001b[39mFalse\u001b[39;00m\n",
      "File \u001b[0;32m~/miniconda3/envs/Interstellar/lib/python3.10/site-packages/pandas/core/internals/managers.py:1817\u001b[0m, in \u001b[0;36mBlockManager._interleave\u001b[0;34m(self, dtype, na_value)\u001b[0m\n\u001b[1;32m   1815\u001b[0m \u001b[39mfor\u001b[39;00m blk \u001b[39min\u001b[39;00m \u001b[39mself\u001b[39m\u001b[39m.\u001b[39mblocks:\n\u001b[1;32m   1816\u001b[0m     rl \u001b[39m=\u001b[39m blk\u001b[39m.\u001b[39mmgr_locs\n\u001b[0;32m-> 1817\u001b[0m     arr \u001b[39m=\u001b[39m blk\u001b[39m.\u001b[39;49mget_values(dtype)\n\u001b[1;32m   1818\u001b[0m     result[rl\u001b[39m.\u001b[39mindexer] \u001b[39m=\u001b[39m arr\n\u001b[1;32m   1819\u001b[0m     itemmask[rl\u001b[39m.\u001b[39mindexer] \u001b[39m=\u001b[39m \u001b[39m1\u001b[39m\n",
      "File \u001b[0;32m~/miniconda3/envs/Interstellar/lib/python3.10/site-packages/pandas/core/internals/blocks.py:1914\u001b[0m, in \u001b[0;36mNumpyBlock.get_values\u001b[0;34m(self, dtype)\u001b[0m\n\u001b[1;32m   1912\u001b[0m \u001b[39mdef\u001b[39;00m \u001b[39mget_values\u001b[39m(\u001b[39mself\u001b[39m, dtype: DtypeObj \u001b[39m|\u001b[39m \u001b[39mNone\u001b[39;00m \u001b[39m=\u001b[39m \u001b[39mNone\u001b[39;00m) \u001b[39m-\u001b[39m\u001b[39m>\u001b[39m np\u001b[39m.\u001b[39mndarray:\n\u001b[1;32m   1913\u001b[0m     \u001b[39mif\u001b[39;00m dtype \u001b[39m==\u001b[39m _dtype_obj:\n\u001b[0;32m-> 1914\u001b[0m         \u001b[39mreturn\u001b[39;00m \u001b[39mself\u001b[39;49m\u001b[39m.\u001b[39;49mvalues\u001b[39m.\u001b[39;49mastype(_dtype_obj)\n\u001b[1;32m   1915\u001b[0m     \u001b[39mreturn\u001b[39;00m \u001b[39mself\u001b[39m\u001b[39m.\u001b[39mvalues\n",
      "\u001b[0;31mKeyboardInterrupt\u001b[0m: "
     ]
    }
   ],
   "source": [
    "# add apoptosis, pyroptosis and healthy columns to dataframe\n",
    "df1[\"apoptosis\"] = df1.apply(\n",
    "    lambda row: row[\"oneb_Metadata_Treatment_Dose_Inhibitor_Dose\"]\n",
    "    in apoptosis_groups_list,\n",
    "    axis=1,\n",
    ")\n",
    "df1[\"pyroptosis\"] = df1.apply(\n",
    "    lambda row: row[\"oneb_Metadata_Treatment_Dose_Inhibitor_Dose\"]\n",
    "    in pyroptosis_groups_list,\n",
    "    axis=1,\n",
    ")\n",
    "df1[\"healthy\"] = df1.apply(\n",
    "    lambda row: row[\"oneb_Metadata_Treatment_Dose_Inhibitor_Dose\"]\n",
    "    in healthy_groups_list,\n",
    "    axis=1,\n",
    ")\n",
    "\n",
    "# merge apoptosis, pyroptosis, and healthy columns into one column\n",
    "df1[\"labels\"] = df1.apply(\n",
    "    lambda row: \"apoptosis\"\n",
    "    if row[\"apoptosis\"]\n",
    "    else \"pyroptosis\"\n",
    "    if row[\"pyroptosis\"]\n",
    "    else \"healthy\",\n",
    "    axis=1,\n",
    ")\n",
    "# # drop apoptosis, pyroptosis, and healthy columns\n",
    "df1.drop(columns=[\"apoptosis\", \"pyroptosis\", \"healthy\"], inplace=True)"
   ]
  },
  {
   "cell_type": "code",
   "execution_count": null,
   "id": "615a24e0",
   "metadata": {
    "execution": {
     "iopub.execute_input": "2023-11-13T03:36:58.231714Z",
     "iopub.status.busy": "2023-11-13T03:36:58.231431Z",
     "iopub.status.idle": "2023-11-13T03:36:58.299402Z",
     "shell.execute_reply": "2023-11-13T03:36:58.298842Z"
    },
    "papermill": {
     "duration": null,
     "end_time": null,
     "exception": null,
     "start_time": null,
     "status": "pending"
    },
    "tags": []
   },
   "outputs": [],
   "source": [
    "# set path for index file\n",
    "index_file_path = pathlib.Path(\n",
    "    f\"../../0.hyperparameter_optimization/indexes/{params.CELL_TYPE}/multi_class/{params.MODEL_NAME}_data_split_indexes.tsv\"\n",
    ").resolve(strict=True)\n",
    "\n",
    "# read index file\n",
    "index_df = pd.read_csv(index_file_path, sep=\"\\t\")\n",
    "index_df.head()"
   ]
  },
  {
   "cell_type": "code",
   "execution_count": null,
   "id": "d7eb7489",
   "metadata": {
    "execution": {
     "iopub.execute_input": "2023-11-13T03:36:58.317279Z",
     "iopub.status.busy": "2023-11-13T03:36:58.316855Z",
     "iopub.status.idle": "2023-11-13T03:36:58.439495Z",
     "shell.execute_reply": "2023-11-13T03:36:58.438949Z"
    },
    "papermill": {
     "duration": null,
     "end_time": null,
     "exception": null,
     "start_time": null,
     "status": "pending"
    },
    "tags": []
   },
   "outputs": [],
   "source": [
    "# get train, validation, test, and holdout indexes\n",
    "train_indexes = index_df.loc[index_df[\"label\"] == \"train\"][\"labeled_data_index\"]\n",
    "val_indexes = index_df.loc[index_df[\"label\"] == \"val\"][\"labeled_data_index\"]\n",
    "test_indexes = index_df.loc[index_df[\"label\"] == \"test\"][\"labeled_data_index\"]\n",
    "treatment_holdout = index_df.loc[index_df[\"label\"] == \"treatment_holdout\"][\n",
    "    \"labeled_data_index\"\n",
    "]\n",
    "holdout_indexes = index_df.loc[index_df[\"label\"] == \"holdout\"][\"labeled_data_index\"]\n",
    "print(\n",
    "    train_indexes.shape,\n",
    "    val_indexes.shape,\n",
    "    test_indexes.shape,\n",
    "    treatment_holdout,\n",
    "    holdout_indexes.shape,\n",
    ")\n",
    "\n",
    "assert (\n",
    "    train_indexes.shape[0]\n",
    "    + val_indexes.shape[0]\n",
    "    + test_indexes.shape[0]\n",
    "    + treatment_holdout.shape[0]\n",
    "    + holdout_indexes.shape[0]\n",
    ") == index_df.shape[0]"
   ]
  },
  {
   "cell_type": "code",
   "execution_count": null,
   "id": "3d9db49e",
   "metadata": {
    "execution": {
     "iopub.execute_input": "2023-11-13T03:36:58.457224Z",
     "iopub.status.busy": "2023-11-13T03:36:58.456928Z",
     "iopub.status.idle": "2023-11-13T03:37:05.029867Z",
     "shell.execute_reply": "2023-11-13T03:37:05.029317Z"
    },
    "papermill": {
     "duration": null,
     "end_time": null,
     "exception": null,
     "start_time": null,
     "status": "pending"
    },
    "tags": []
   },
   "outputs": [],
   "source": [
    "# Code snippet for metadata extraction by Jenna Tomkinson\n",
    "df_metadata = list(df1.columns[df1.columns.str.startswith(\"Metadata\")])\n",
    "\n",
    "# define which columns are data and which are descriptive\n",
    "df_descriptive = df1[df_metadata]\n",
    "df_descriptive[\"labels\"] = df1[\"labels\"]\n",
    "df_values = df1.drop(columns=df_metadata)"
   ]
  },
  {
   "cell_type": "code",
   "execution_count": null,
   "id": "8924c31e",
   "metadata": {
    "execution": {
     "iopub.execute_input": "2023-11-13T03:37:05.052514Z",
     "iopub.status.busy": "2023-11-13T03:37:05.052246Z",
     "iopub.status.idle": "2023-11-13T03:37:12.172056Z",
     "shell.execute_reply": "2023-11-13T03:37:12.171584Z"
    },
    "papermill": {
     "duration": null,
     "end_time": null,
     "exception": null,
     "start_time": null,
     "status": "pending"
    },
    "tags": []
   },
   "outputs": [],
   "source": [
    "# Creating label encoder\n",
    "le = preprocessing.LabelEncoder()\n",
    "# Converting strings into numbers\n",
    "df_values[\"new_labels\"] = le.fit_transform(df_values[\"labels\"])\n",
    "# get mini dataframe that contains the decoder\n",
    "df_labels = df_values[[\"labels\", \"new_labels\"]]\n",
    "# split into X and Y where Y are the predictive column and x are the observable data\n",
    "df_values_X = df_values.drop(\n",
    "    [\n",
    "        \"oneb_Metadata_Treatment_Dose_Inhibitor_Dose\",\n",
    "        \"twob_Metadata_Treatment_Dose_Inhibitor_Dose\",\n",
    "        \"threeb_Metadata_Treatment_Dose_Inhibitor_Dose\",\n",
    "        \"fourb_Metadata_Treatment_Dose_Inhibitor_Dose\",\n",
    "        \"labels\",\n",
    "        \"new_labels\",\n",
    "    ],\n",
    "    axis=1,\n",
    ")\n",
    "df_values_Y = df_values[\"new_labels\"]\n",
    "df_values_Y.unique()\n",
    "df_labels.drop_duplicates(inplace=True)\n",
    "# pandas chaining to reset index and drop old index\n",
    "df_labels.reset_index(drop=True, inplace=True)"
   ]
  },
  {
   "cell_type": "code",
   "execution_count": null,
   "id": "b18afc16",
   "metadata": {
    "execution": {
     "iopub.execute_input": "2023-11-13T03:37:12.193904Z",
     "iopub.status.busy": "2023-11-13T03:37:12.193605Z",
     "iopub.status.idle": "2023-11-13T03:37:12.196539Z",
     "shell.execute_reply": "2023-11-13T03:37:12.196160Z"
    },
    "papermill": {
     "duration": null,
     "end_time": null,
     "exception": null,
     "start_time": null,
     "status": "pending"
    },
    "tags": []
   },
   "outputs": [],
   "source": [
    "print(\n",
    "    train_indexes.shape,\n",
    "    val_indexes.shape,\n",
    "    test_indexes.shape,\n",
    "    treatment_holdout,\n",
    "    holdout_indexes.shape,\n",
    ")\n",
    "print(\n",
    "    train_indexes.shape[0]\n",
    "    + val_indexes.shape[0]\n",
    "    + test_indexes.shape[0]\n",
    "    + treatment_holdout.shape[0]\n",
    "    + holdout_indexes.shape[0]\n",
    ")"
   ]
  },
  {
   "cell_type": "code",
   "execution_count": null,
   "id": "84c24e0f",
   "metadata": {
    "execution": {
     "iopub.execute_input": "2023-11-13T03:37:12.213904Z",
     "iopub.status.busy": "2023-11-13T03:37:12.213628Z",
     "iopub.status.idle": "2023-11-13T03:37:14.457835Z",
     "shell.execute_reply": "2023-11-13T03:37:14.457329Z"
    },
    "papermill": {
     "duration": null,
     "end_time": null,
     "exception": null,
     "start_time": null,
     "status": "pending"
    },
    "tags": []
   },
   "outputs": [],
   "source": [
    "# get the train, validation, test, and holdout dataframes from the indexes\n",
    "X_train = df_values_X.iloc[train_indexes.values]\n",
    "X_val = df_values_X.iloc[val_indexes.values]\n",
    "X_test = df_values_X.iloc[test_indexes.values]\n",
    "X_treatment_holdout = df_values_X.iloc[treatment_holdout.values]\n",
    "X_holdout = df_values_X.iloc[holdout_indexes.values]\n",
    "\n",
    "Y_train = df_values_Y.iloc[train_indexes.values]\n",
    "Y_val = df_values_Y.iloc[val_indexes.values]\n",
    "Y_test = df_values_Y.iloc[test_indexes.values]\n",
    "Y_treatment_holdout = df_values_Y.iloc[treatment_holdout.values]\n",
    "Y_holdout = df_values_Y.iloc[holdout_indexes.values]\n",
    "\n",
    "metadata_train = df_descriptive.iloc[train_indexes.values]\n",
    "metadata_val = df_descriptive.iloc[val_indexes.values]\n",
    "metadata_test = df_descriptive.iloc[test_indexes.values]\n",
    "metadata_treatment_holdout = df_descriptive.iloc[treatment_holdout.values]\n",
    "metadata_holdout = df_descriptive.iloc[holdout_indexes.values]"
   ]
  },
  {
   "cell_type": "code",
   "execution_count": null,
   "id": "ea706992",
   "metadata": {
    "execution": {
     "iopub.execute_input": "2023-11-13T03:37:14.478143Z",
     "iopub.status.busy": "2023-11-13T03:37:14.477912Z",
     "iopub.status.idle": "2023-11-13T03:37:14.487042Z",
     "shell.execute_reply": "2023-11-13T03:37:14.486667Z"
    },
    "papermill": {
     "duration": null,
     "end_time": null,
     "exception": null,
     "start_time": null,
     "status": "pending"
    },
    "tags": []
   },
   "outputs": [],
   "source": [
    "print(\n",
    "    Y_train[Y_train == 0].shape,\n",
    "    Y_train[Y_train == 1].shape,\n",
    "    Y_train[Y_train == 2].shape,\n",
    ")\n",
    "print(Y_val[Y_val == 0].shape, Y_val[Y_val == 1].shape, Y_val[Y_val == 2].shape)\n",
    "print(Y_test[Y_test == 0].shape, Y_test[Y_test == 1].shape, Y_test[Y_test == 2].shape)\n",
    "print(\n",
    "    Y_treatment_holdout[Y_treatment_holdout == 0].shape,\n",
    "    Y_treatment_holdout[Y_treatment_holdout == 1].shape,\n",
    "    Y_treatment_holdout[Y_treatment_holdout == 2].shape,\n",
    ")\n",
    "print(\n",
    "    Y_holdout[Y_holdout == 0].shape,\n",
    "    Y_holdout[Y_holdout == 1].shape,\n",
    "    Y_holdout[Y_holdout == 2].shape,\n",
    ")"
   ]
  },
  {
   "cell_type": "code",
   "execution_count": null,
   "id": "99dc42ca",
   "metadata": {
    "execution": {
     "iopub.execute_input": "2023-11-13T03:37:14.504746Z",
     "iopub.status.busy": "2023-11-13T03:37:14.504457Z",
     "iopub.status.idle": "2023-11-13T03:37:14.507803Z",
     "shell.execute_reply": "2023-11-13T03:37:14.507423Z"
    },
    "papermill": {
     "duration": null,
     "end_time": null,
     "exception": null,
     "start_time": null,
     "status": "pending"
    },
    "tags": []
   },
   "outputs": [],
   "source": [
    "# reset indexes for all dataframes\n",
    "X_train.reset_index(drop=True, inplace=True)\n",
    "X_val.reset_index(drop=True, inplace=True)\n",
    "X_test.reset_index(drop=True, inplace=True)\n",
    "X_treatment_holdout.reset_index(drop=True, inplace=True)\n",
    "X_holdout.reset_index(drop=True, inplace=True)\n",
    "\n",
    "Y_train.reset_index(drop=True, inplace=True)\n",
    "Y_val.reset_index(drop=True, inplace=True)\n",
    "Y_test.reset_index(drop=True, inplace=True)\n",
    "Y_treatment_holdout.reset_index(drop=True, inplace=True)\n",
    "Y_holdout.reset_index(drop=True, inplace=True)"
   ]
  },
  {
   "cell_type": "code",
   "execution_count": null,
   "id": "91c0f8c0",
   "metadata": {
    "execution": {
     "iopub.execute_input": "2023-11-13T03:37:14.525385Z",
     "iopub.status.busy": "2023-11-13T03:37:14.525116Z",
     "iopub.status.idle": "2023-11-13T03:37:14.527731Z",
     "shell.execute_reply": "2023-11-13T03:37:14.527355Z"
    },
    "papermill": {
     "duration": null,
     "end_time": null,
     "exception": null,
     "start_time": null,
     "status": "pending"
    },
    "tags": []
   },
   "outputs": [],
   "source": [
    "print(\n",
    "    X_train.shape, X_val.shape, X_test.shape, X_treatment_holdout.shape, X_holdout.shape\n",
    ")\n",
    "print(\n",
    "    Y_train.shape, Y_val.shape, Y_test.shape, Y_treatment_holdout.shape, Y_holdout.shape\n",
    ")"
   ]
  },
  {
   "cell_type": "markdown",
   "id": "4dfa9d10",
   "metadata": {
    "papermill": {
     "duration": null,
     "end_time": null,
     "exception": null,
     "start_time": null,
     "status": "pending"
    },
    "tags": []
   },
   "source": [
    "#### Split Data - All Models can proceed through this point"
   ]
  },
  {
   "cell_type": "code",
   "execution_count": null,
   "id": "aa28922f",
   "metadata": {
    "execution": {
     "iopub.execute_input": "2023-11-13T03:37:14.561344Z",
     "iopub.status.busy": "2023-11-13T03:37:14.561068Z",
     "iopub.status.idle": "2023-11-13T03:37:14.695372Z",
     "shell.execute_reply": "2023-11-13T03:37:14.694865Z"
    },
    "papermill": {
     "duration": null,
     "end_time": null,
     "exception": null,
     "start_time": null,
     "status": "pending"
    },
    "tags": []
   },
   "outputs": [],
   "source": [
    "# produce data objects for train, val and test datasets\n",
    "train_data = Dataset_formatter(\n",
    "    torch.FloatTensor(X_train.values), torch.FloatTensor(Y_train.values)\n",
    ")\n",
    "val_data = Dataset_formatter(\n",
    "    torch.FloatTensor(X_val.values), torch.FloatTensor(Y_val.values)\n",
    ")\n",
    "test_data = Dataset_formatter(\n",
    "    torch.FloatTensor(X_test.values), torch.FloatTensor(Y_test.values)\n",
    ")"
   ]
  },
  {
   "cell_type": "code",
   "execution_count": null,
   "id": "7c628ee1",
   "metadata": {
    "execution": {
     "iopub.execute_input": "2023-11-13T03:37:14.715138Z",
     "iopub.status.busy": "2023-11-13T03:37:14.714939Z",
     "iopub.status.idle": "2023-11-13T03:37:14.905206Z",
     "shell.execute_reply": "2023-11-13T03:37:14.904707Z"
    },
    "papermill": {
     "duration": null,
     "end_time": null,
     "exception": null,
     "start_time": null,
     "status": "pending"
    },
    "tags": []
   },
   "outputs": [],
   "source": [
    "mlp_params.IN_FEATURES = X_train.shape[1]\n",
    "print(\"Number of in features: \", mlp_params.IN_FEATURES)\n",
    "if mlp_params.MODEL_TYPE == \"Regression\":\n",
    "    mlp_params.OUT_FEATURES = 1\n",
    "else:\n",
    "    mlp_params.OUT_FEATURES = len(df_values[\"labels\"].unique())\n",
    "\n",
    "print(\"Number of out features: \", mlp_params.OUT_FEATURES)\n",
    "\n",
    "if mlp_params.OUT_FEATURES > 2:\n",
    "    mlp_params.MODEL_TYPE = \"Multi_Class\"\n",
    "elif mlp_params.OUT_FEATURES == 2:\n",
    "    mlp_params.OUT_FEATURES = mlp_params.OUT_FEATURES - 1\n",
    "    mlp_params.MODEL_TYPE = \"Binary_Classification\"\n",
    "elif mlp_params.OUT_FEATURES == 1:\n",
    "    mlp_params.MODEL_TYPE = \"Regression\"\n",
    "else:\n",
    "    pass\n",
    "print(mlp_params.MODEL_TYPE)"
   ]
  },
  {
   "cell_type": "code",
   "execution_count": null,
   "id": "35e3c505",
   "metadata": {
    "execution": {
     "iopub.execute_input": "2023-11-13T03:37:14.923652Z",
     "iopub.status.busy": "2023-11-13T03:37:14.923418Z",
     "iopub.status.idle": "2023-11-13T03:37:14.926694Z",
     "shell.execute_reply": "2023-11-13T03:37:14.926322Z"
    },
    "papermill": {
     "duration": null,
     "end_time": null,
     "exception": null,
     "start_time": null,
     "status": "pending"
    },
    "tags": []
   },
   "outputs": [],
   "source": [
    "# convert data class into a dataloader to be compatible with pytorch\n",
    "train_loader = torch.utils.data.DataLoader(\n",
    "    dataset=train_data, batch_size=mlp_params.BATCH_SIZE, shuffle=mlp_params.SHUFFLE\n",
    ")\n",
    "valid_loader = torch.utils.data.DataLoader(\n",
    "    dataset=val_data, batch_size=mlp_params.BATCH_SIZE, shuffle=mlp_params.SHUFFLE\n",
    ")\n",
    "test_loader = torch.utils.data.DataLoader(\n",
    "    dataset=test_data, batch_size=1, shuffle=mlp_params.SHUFFLE\n",
    ")"
   ]
  },
  {
   "cell_type": "code",
   "execution_count": null,
   "id": "4ab763c4",
   "metadata": {
    "execution": {
     "iopub.execute_input": "2023-11-13T03:37:14.945223Z",
     "iopub.status.busy": "2023-11-13T03:37:14.944639Z",
     "iopub.status.idle": "2023-11-13T03:45:26.118958Z",
     "shell.execute_reply": "2023-11-13T03:45:26.118478Z"
    },
    "papermill": {
     "duration": null,
     "end_time": null,
     "exception": null,
     "start_time": null,
     "status": "pending"
    },
    "tags": []
   },
   "outputs": [],
   "source": [
    "# call the optimized training model\n",
    "train_loss, train_acc, valid_loss, valid_acc, epochs_ran, model = train_optimized_model(\n",
    "    mlp_params.TRAIN_EPOCHS,\n",
    "    train_loader,\n",
    "    valid_loader,\n",
    "    params,\n",
    "    mlp_params.MODEL_NAME,\n",
    "    mlp_params.SHUFFLE,\n",
    "    class_weights=class_weights,\n",
    ")\n",
    "# get training_metrics\n",
    "if mlp_params.MODEL_TYPE == \"Regression\":\n",
    "    training_stats = pd.DataFrame(\n",
    "        zip(train_loss, valid_loss, epochs_ran),\n",
    "        columns=[\"train_loss\", \"valid_loss\", \"epochs_ran\"],\n",
    "    )\n",
    "else:\n",
    "    training_stats = pd.DataFrame(\n",
    "        zip(train_loss, train_acc, valid_loss, valid_acc, epochs_ran),\n",
    "        columns=[\"train_loss\", \"train_acc\", \"valid_loss\", \"valid_acc\", \"epochs_ran\"],\n",
    "    )"
   ]
  },
  {
   "cell_type": "code",
   "execution_count": null,
   "id": "3d5115e3",
   "metadata": {
    "execution": {
     "iopub.execute_input": "2023-11-13T03:45:26.159482Z",
     "iopub.status.busy": "2023-11-13T03:45:26.159314Z",
     "iopub.status.idle": "2023-11-13T03:45:26.166918Z",
     "shell.execute_reply": "2023-11-13T03:45:26.166470Z"
    },
    "papermill": {
     "duration": null,
     "end_time": null,
     "exception": null,
     "start_time": null,
     "status": "pending"
    },
    "tags": []
   },
   "outputs": [],
   "source": [
    "# create a dataframe to store the model stats\n",
    "model_stats_df = pd.DataFrame(\n",
    "    columns=[\n",
    "        \"label\",\n",
    "        \"metric\",\n",
    "        \"value\",\n",
    "        \"group\",\n",
    "        \"shuffled_data\",\n",
    "    ]\n",
    ")\n",
    "# check empty dataframe\n",
    "model_stats_df"
   ]
  },
  {
   "cell_type": "code",
   "execution_count": null,
   "id": "d4f283d4",
   "metadata": {
    "execution": {
     "iopub.execute_input": "2023-11-13T03:45:26.191425Z",
     "iopub.status.busy": "2023-11-13T03:45:26.191262Z",
     "iopub.status.idle": "2023-11-13T03:45:26.833630Z",
     "shell.execute_reply": "2023-11-13T03:45:26.833186Z"
    },
    "papermill": {
     "duration": null,
     "end_time": null,
     "exception": null,
     "start_time": null,
     "status": "pending"
    },
    "tags": []
   },
   "outputs": [],
   "source": [
    "if mlp_params.MODEL_TYPE == \"Regression\":\n",
    "    pass\n",
    "else:\n",
    "    plot_metric_vs_epoch(\n",
    "        training_stats,\n",
    "        x=\"epochs_ran\",\n",
    "        y1=\"train_acc\",\n",
    "        y2=\"valid_acc\",\n",
    "        title=\"Accuracy vs. Epochs\",\n",
    "        x_axis_label=\"Epochs\",\n",
    "        y_axis_label=\"Accuracy\",\n",
    "        params=params,\n",
    "        model_name=mlp_params.MODEL_NAME,\n",
    "        shuffle=mlp_params.SHUFFLE,\n",
    "    )"
   ]
  },
  {
   "cell_type": "code",
   "execution_count": null,
   "id": "5e491e00",
   "metadata": {
    "execution": {
     "iopub.execute_input": "2023-11-13T03:45:26.861418Z",
     "iopub.status.busy": "2023-11-13T03:45:26.860827Z",
     "iopub.status.idle": "2023-11-13T03:45:27.176560Z",
     "shell.execute_reply": "2023-11-13T03:45:27.176174Z"
    },
    "papermill": {
     "duration": null,
     "end_time": null,
     "exception": null,
     "start_time": null,
     "status": "pending"
    },
    "tags": []
   },
   "outputs": [],
   "source": [
    "plot_metric_vs_epoch(\n",
    "    training_stats,\n",
    "    x=\"epochs_ran\",\n",
    "    y1=\"train_loss\",\n",
    "    y2=\"valid_loss\",\n",
    "    title=\"Loss vs. Epochs\",\n",
    "    x_axis_label=\"Epochs\",\n",
    "    y_axis_label=\"Loss\",\n",
    "    params=params,\n",
    "    model_name=mlp_params.MODEL_NAME,\n",
    "    shuffle=mlp_params.SHUFFLE,\n",
    ")"
   ]
  },
  {
   "cell_type": "markdown",
   "id": "1d6993ae",
   "metadata": {
    "papermill": {
     "duration": null,
     "end_time": null,
     "exception": null,
     "start_time": null,
     "status": "pending"
    },
    "tags": []
   },
   "source": [
    "### Test Models on training data"
   ]
  },
  {
   "cell_type": "code",
   "execution_count": null,
   "id": "9c595792",
   "metadata": {
    "execution": {
     "iopub.execute_input": "2023-11-13T03:45:27.226417Z",
     "iopub.status.busy": "2023-11-13T03:45:27.226011Z",
     "iopub.status.idle": "2023-11-13T03:45:29.777801Z",
     "shell.execute_reply": "2023-11-13T03:45:29.777257Z"
    },
    "papermill": {
     "duration": null,
     "end_time": null,
     "exception": null,
     "start_time": null,
     "status": "pending"
    },
    "tags": []
   },
   "outputs": [],
   "source": [
    "# test the model on training data\n",
    "# calling the testing function and outputting list values of tested model\n",
    "if any(\n",
    "    model_type == mlp_params.MODEL_TYPE for model_type in [\"Multi_Class\", \"Regression\"]\n",
    "):\n",
    "    y_pred_list = test_optimized_model(\n",
    "        model,\n",
    "        train_loader,\n",
    "        mlp_params,\n",
    "        model_name=mlp_params.MODEL_NAME,\n",
    "        shuffle=mlp_params.SHUFFLE,\n",
    "    )\n",
    "elif mlp_params.MODEL_TYPE == \"Binary_Classification\":\n",
    "    y_pred_list, y_pred_prob_list = test_optimized_model(\n",
    "        model,\n",
    "        train_loader,\n",
    "        mlp_params,\n",
    "        model_name=mlp_params.MODEL_NAME,\n",
    "        shuffle=mlp_params.SHUFFLE,\n",
    "    )\n",
    "else:\n",
    "    raise Exception(\"Model type must be specified for proper model testing\")\n",
    "\n",
    "# un-nest list if nested i.e. length of input data does not match length of output data\n",
    "if len(y_pred_list) != len(Y_test):\n",
    "    y_pred_list = un_nest(y_pred_list)\n",
    "    if mlp_params.MODEL_TYPE == \"Binary_Classification\":\n",
    "        y_pred_prob_list = un_nest(y_pred_prob_list)\n",
    "else:\n",
    "    pass"
   ]
  },
  {
   "cell_type": "code",
   "execution_count": null,
   "id": "4b269c1d",
   "metadata": {
    "execution": {
     "iopub.execute_input": "2023-11-13T03:45:29.806395Z",
     "iopub.status.busy": "2023-11-13T03:45:29.806222Z",
     "iopub.status.idle": "2023-11-13T03:45:30.151598Z",
     "shell.execute_reply": "2023-11-13T03:45:30.151179Z"
    },
    "papermill": {
     "duration": null,
     "end_time": null,
     "exception": null,
     "start_time": null,
     "status": "pending"
    },
    "tags": []
   },
   "outputs": [],
   "source": [
    "stats_df = output_stats(\n",
    "    y_pred_list,\n",
    "    Y_train,\n",
    "    mlp_params,\n",
    "    test_name=f\"{mlp_params.MODEL_NAME}_train\",\n",
    "    model_name=mlp_params.MODEL_NAME,\n",
    "    title=mlp_params.MODEL_NAME,\n",
    "    shuffle=mlp_params.SHUFFLE,\n",
    ")\n",
    "# make into a dataframe\n",
    "stats_df = pd.DataFrame.from_dict(stats_df).transpose()\n",
    "stats_df.reset_index(inplace=True)\n",
    "stats_df.rename(columns={\"index\": \"label\"}, inplace=True)\n",
    "stats_df = stats_df.melt(id_vars=[\"label\"], var_name=\"metric\", value_name=\"value\")\n",
    "# if accuracy in row of column 1 then change value of column 2 to accuracy\n",
    "stats_df.loc[stats_df[\"label\"] == \"accuracy\", \"metric\"] = \"accuracy\"\n",
    "# create a decoder dictionary from df_labels\n",
    "df_labels[\"new_labels\"] = df_labels[\"new_labels\"].astype(str)\n",
    "decoder = df_labels.set_index(\"new_labels\").to_dict()[\"labels\"]\n",
    "decoder[\"accuracy\"] = \"accuracy\"\n",
    "decoder[\"macro avg\"] = \"macro avg\"\n",
    "decoder[\"weighted avg\"] = \"weighted avg\"\n",
    "stats_df[\"label\"] = stats_df[\"label\"].map(decoder)"
   ]
  },
  {
   "cell_type": "code",
   "execution_count": null,
   "id": "fdde3d70",
   "metadata": {
    "execution": {
     "iopub.execute_input": "2023-11-13T03:45:30.178667Z",
     "iopub.status.busy": "2023-11-13T03:45:30.178280Z",
     "iopub.status.idle": "2023-11-13T03:45:30.181886Z",
     "shell.execute_reply": "2023-11-13T03:45:30.181494Z"
    },
    "papermill": {
     "duration": null,
     "end_time": null,
     "exception": null,
     "start_time": null,
     "status": "pending"
    },
    "tags": []
   },
   "outputs": [],
   "source": [
    "stats_df[\"group\"] = \"train\"\n",
    "stats_df[\"shuffled_data\"] = mlp_params.SHUFFLE\n",
    "stats_df\n",
    "model_stats_df = pd.concat([model_stats_df, stats_df], axis=0)"
   ]
  },
  {
   "cell_type": "markdown",
   "id": "dd00a92e",
   "metadata": {
    "papermill": {
     "duration": null,
     "end_time": null,
     "exception": null,
     "start_time": null,
     "status": "pending"
    },
    "tags": []
   },
   "source": [
    "### Test models on Validation data"
   ]
  },
  {
   "cell_type": "code",
   "execution_count": null,
   "id": "52b5399f",
   "metadata": {
    "execution": {
     "iopub.execute_input": "2023-11-13T03:45:30.229982Z",
     "iopub.status.busy": "2023-11-13T03:45:30.229718Z",
     "iopub.status.idle": "2023-11-13T03:45:30.837000Z",
     "shell.execute_reply": "2023-11-13T03:45:30.836480Z"
    },
    "papermill": {
     "duration": null,
     "end_time": null,
     "exception": null,
     "start_time": null,
     "status": "pending"
    },
    "tags": []
   },
   "outputs": [],
   "source": [
    "# test the model on training data\n",
    "# calling the testing function and outputting list values of tested model\n",
    "if any(\n",
    "    model_type == mlp_params.MODEL_TYPE for model_type in [\"Multi_Class\", \"Regression\"]\n",
    "):\n",
    "    y_pred_list = test_optimized_model(\n",
    "        model,\n",
    "        valid_loader,\n",
    "        mlp_params,\n",
    "        model_name=mlp_params.MODEL_NAME,\n",
    "        shuffle=mlp_params.SHUFFLE,\n",
    "    )\n",
    "elif mlp_params.MODEL_TYPE == \"Binary_Classification\":\n",
    "    y_pred_list, y_pred_prob_list = test_optimized_model(\n",
    "        model,\n",
    "        valid_loader,\n",
    "        mlp_params,\n",
    "        model_name=mlp_params.MODEL_NAME,\n",
    "        shuffle=mlp_params.SHUFFLE,\n",
    "    )\n",
    "else:\n",
    "    raise Exception(\"Model type must be specified for proper model testing\")\n",
    "\n",
    "# un-nest list if nested i.e. length of input data does not match length of output data\n",
    "if len(y_pred_list) != len(Y_test):\n",
    "    y_pred_list = un_nest(y_pred_list)\n",
    "    if mlp_params.MODEL_TYPE == \"Binary_Classification\":\n",
    "        y_pred_prob_list = un_nest(y_pred_prob_list)\n",
    "else:\n",
    "    pass"
   ]
  },
  {
   "cell_type": "code",
   "execution_count": null,
   "id": "444b8e3e",
   "metadata": {
    "execution": {
     "iopub.execute_input": "2023-11-13T03:45:30.862100Z",
     "iopub.status.busy": "2023-11-13T03:45:30.861930Z",
     "iopub.status.idle": "2023-11-13T03:45:30.962171Z",
     "shell.execute_reply": "2023-11-13T03:45:30.961719Z"
    },
    "papermill": {
     "duration": null,
     "end_time": null,
     "exception": null,
     "start_time": null,
     "status": "pending"
    },
    "tags": []
   },
   "outputs": [],
   "source": [
    "stats_df = output_stats(\n",
    "    y_pred_list,\n",
    "    Y_val,\n",
    "    mlp_params,\n",
    "    test_name=f\"{mlp_params.MODEL_NAME}_train\",\n",
    "    model_name=mlp_params.MODEL_NAME,\n",
    "    title=mlp_params.MODEL_NAME,\n",
    "    shuffle=mlp_params.SHUFFLE,\n",
    ")\n",
    "# make into a dataframe\n",
    "stats_df = pd.DataFrame.from_dict(stats_df).transpose()\n",
    "stats_df.reset_index(inplace=True)\n",
    "stats_df.rename(columns={\"index\": \"label\"}, inplace=True)\n",
    "stats_df = stats_df.melt(id_vars=[\"label\"], var_name=\"metric\", value_name=\"value\")\n",
    "# if accuracy in row of column 1 then change value of column 2 to accuracy\n",
    "stats_df.loc[stats_df[\"label\"] == \"accuracy\", \"metric\"] = \"accuracy\"\n",
    "# create a decoder dictionary from df_labels\n",
    "df_labels[\"new_labels\"] = df_labels[\"new_labels\"].astype(str)\n",
    "decoder = df_labels.set_index(\"new_labels\").to_dict()[\"labels\"]\n",
    "decoder[\"accuracy\"] = \"accuracy\"\n",
    "decoder[\"macro avg\"] = \"macro avg\"\n",
    "decoder[\"weighted avg\"] = \"weighted avg\"\n",
    "stats_df[\"label\"] = stats_df[\"label\"].map(decoder)"
   ]
  },
  {
   "cell_type": "code",
   "execution_count": null,
   "id": "2573e7a6",
   "metadata": {
    "execution": {
     "iopub.execute_input": "2023-11-13T03:45:30.989234Z",
     "iopub.status.busy": "2023-11-13T03:45:30.989069Z",
     "iopub.status.idle": "2023-11-13T03:45:30.992766Z",
     "shell.execute_reply": "2023-11-13T03:45:30.992326Z"
    },
    "papermill": {
     "duration": null,
     "end_time": null,
     "exception": null,
     "start_time": null,
     "status": "pending"
    },
    "tags": []
   },
   "outputs": [],
   "source": [
    "stats_df[\"group\"] = \"validation\"\n",
    "stats_df[\"shuffled_data\"] = mlp_params.SHUFFLE\n",
    "\n",
    "model_stats_df = pd.concat([model_stats_df, stats_df], axis=0)"
   ]
  },
  {
   "cell_type": "code",
   "execution_count": null,
   "id": "f179b14f",
   "metadata": {
    "execution": {
     "iopub.execute_input": "2023-11-13T03:45:31.018277Z",
     "iopub.status.busy": "2023-11-13T03:45:31.018112Z",
     "iopub.status.idle": "2023-11-13T03:45:31.022914Z",
     "shell.execute_reply": "2023-11-13T03:45:31.022409Z"
    },
    "papermill": {
     "duration": null,
     "end_time": null,
     "exception": null,
     "start_time": null,
     "status": "pending"
    },
    "tags": []
   },
   "outputs": [],
   "source": [
    "mlp_params.MODEL_NAME"
   ]
  },
  {
   "cell_type": "markdown",
   "id": "b1a18529",
   "metadata": {
    "papermill": {
     "duration": null,
     "end_time": null,
     "exception": null,
     "start_time": null,
     "status": "pending"
    },
    "tags": []
   },
   "source": [
    "### Testing on the test data"
   ]
  },
  {
   "cell_type": "code",
   "execution_count": null,
   "id": "5b5e76f8",
   "metadata": {
    "execution": {
     "iopub.execute_input": "2023-11-13T03:45:31.073811Z",
     "iopub.status.busy": "2023-11-13T03:45:31.073498Z",
     "iopub.status.idle": "2023-11-13T03:45:31.077443Z",
     "shell.execute_reply": "2023-11-13T03:45:31.077009Z"
    },
    "papermill": {
     "duration": null,
     "end_time": null,
     "exception": null,
     "start_time": null,
     "status": "pending"
    },
    "tags": []
   },
   "outputs": [],
   "source": [
    "# create a dataframe to store the model confusion matrix\n",
    "data_split_conf_mat_df_all = pd.DataFrame(\n",
    "    columns=[\"True_Label\", \"Predicted_Label\", \"Count\", \"data_split\", \"Recall\"]\n",
    ")"
   ]
  },
  {
   "cell_type": "code",
   "execution_count": null,
   "id": "d30cef39",
   "metadata": {
    "execution": {
     "iopub.execute_input": "2023-11-13T03:45:31.103198Z",
     "iopub.status.busy": "2023-11-13T03:45:31.102764Z",
     "iopub.status.idle": "2023-11-13T03:45:58.660822Z",
     "shell.execute_reply": "2023-11-13T03:45:58.660292Z"
    },
    "papermill": {
     "duration": null,
     "end_time": null,
     "exception": null,
     "start_time": null,
     "status": "pending"
    },
    "tags": []
   },
   "outputs": [],
   "source": [
    "# calling the testing function and outputting list values of tested model\n",
    "if any(\n",
    "    model_type == mlp_params.MODEL_TYPE for model_type in [\"Multi_Class\", \"Regression\"]\n",
    "):\n",
    "    y_pred_list = test_optimized_model(\n",
    "        model,\n",
    "        test_loader,\n",
    "        params,\n",
    "        model_name=mlp_params.MODEL_NAME,\n",
    "        shuffle=mlp_params.SHUFFLE,\n",
    "    )\n",
    "elif mlp_params.MODEL_TYPE == \"Binary_Classification\":\n",
    "    y_pred_list, y_pred_prob_list = test_optimized_model(\n",
    "        model,\n",
    "        test_loader,\n",
    "        params,\n",
    "        model_name=mlp_params.MODEL_NAME,\n",
    "        shuffle=mlp_params.SHUFFLE,\n",
    "    )\n",
    "else:\n",
    "    raise Exception(\"Model type must be specified for proper model testing\")\n",
    "\n",
    "\n",
    "# un-nest list if nested i.e. length of input data does not match length of output data\n",
    "if len(y_pred_list) != len(Y_test):\n",
    "    y_pred_list = un_nest(y_pred_list)\n",
    "    if mlp_params.MODEL_TYPE == \"Binary_Classification\":\n",
    "        y_pred_prob_list = un_nest(y_pred_prob_list)\n",
    "else:\n",
    "    pass"
   ]
  },
  {
   "cell_type": "code",
   "execution_count": null,
   "id": "ba2c00bd",
   "metadata": {
    "execution": {
     "iopub.execute_input": "2023-11-13T03:45:58.690648Z",
     "iopub.status.busy": "2023-11-13T03:45:58.690243Z",
     "iopub.status.idle": "2023-11-13T03:46:00.411883Z",
     "shell.execute_reply": "2023-11-13T03:46:00.411387Z"
    },
    "papermill": {
     "duration": null,
     "end_time": null,
     "exception": null,
     "start_time": null,
     "status": "pending"
    },
    "tags": []
   },
   "outputs": [],
   "source": [
    "# Call visualization function\n",
    "# calling the testing function and outputing list values of tested model\n",
    "if any(\n",
    "    model_type == mlp_params.MODEL_TYPE for model_type in [\"Multi_Class\", \"Regression\"]\n",
    "):\n",
    "    confusion_matrix_df = results_output(\n",
    "        y_pred_list,\n",
    "        Y_test,\n",
    "        params,\n",
    "        test_name=f\"{mlp_params.MODEL_NAME}_testing\",\n",
    "        model_name=mlp_params.MODEL_NAME,\n",
    "        title=mlp_params.MODEL_NAME,\n",
    "        shuffle=mlp_params.SHUFFLE,\n",
    "    )\n",
    "elif mlp_params.MODEL_TYPE == \"Binary_Classification\":\n",
    "    results_output(\n",
    "        y_pred_list,\n",
    "        Y_test,\n",
    "        params,\n",
    "        y_pred_prob_list,\n",
    "        test_name=f\"{mlp_params.MODEL_NAME}_testing\",\n",
    "        model_name=mlp_params.MODEL_NAME,\n",
    "        title=mlp_params.MODEL_NAME,\n",
    "        shuffle=mlp_params.SHUFFLE,\n",
    "    )\n",
    "else:\n",
    "    raise Exception(\"Model type must be specified for proper model testing\")"
   ]
  },
  {
   "cell_type": "code",
   "execution_count": null,
   "metadata": {},
   "outputs": [],
   "source": [
    "metadata_test"
   ]
  },
  {
   "cell_type": "code",
   "execution_count": null,
   "metadata": {},
   "outputs": [],
   "source": [
    "# define a final dataframe to store the predictions\n",
    "final_predictions_df = pd.DataFrame()"
   ]
  },
  {
   "cell_type": "code",
   "execution_count": null,
   "metadata": {},
   "outputs": [],
   "source": [
    "# merge the y_pred_list and Y_holdout into a dataframe\n",
    "y_pred_df = pd.DataFrame(y_pred_list, columns=[\"y_pred\"])\n",
    "y_pred_df = pd.concat([y_pred_df, Y_test], axis=1)\n",
    "y_pred_df = pd.concat([y_pred_df, X_test], axis=1)"
   ]
  },
  {
   "cell_type": "code",
   "execution_count": null,
   "metadata": {},
   "outputs": [],
   "source": [
    "# merge y_pred_df with metadata_holdout whiile keeping the index of metadata_holdout\n",
    "metadata_test.reset_index(inplace=True)\n",
    "y_pred_df = pd.concat([y_pred_df, metadata_test], axis=1)\n",
    "# set the index to the index column\n",
    "y_pred_df.set_index(\"index\", inplace=True, drop=True)"
   ]
  },
  {
   "cell_type": "code",
   "execution_count": null,
   "metadata": {},
   "outputs": [],
   "source": [
    "# save the y_pred_df to a parquet file\n",
    "# set path\n",
    "y_pred_df_path = pathlib.Path(\n",
    "    f\"../../results/Multi_Class/{mlp_params.MODEL_NAME}/{mlp_params.CELL_TYPE}/testing_single_cell_predictions.parquet\"\n",
    ")\n",
    "# make path if it doesn't exist\n",
    "y_pred_df_path.parent.mkdir(parents=True, exist_ok=True)\n",
    "# save the dataframe\n",
    "y_pred_df.to_parquet(y_pred_df_path)"
   ]
  },
  {
   "cell_type": "code",
   "execution_count": null,
   "metadata": {},
   "outputs": [],
   "source": [
    "y_pred_df[\"data_split\"] = \"test\""
   ]
  },
  {
   "cell_type": "code",
   "execution_count": null,
   "metadata": {},
   "outputs": [],
   "source": [
    "final_predictions_df = pd.concat([final_predictions_df, y_pred_df], axis=0)\n",
    "final_predictions_df"
   ]
  },
  {
   "cell_type": "code",
   "execution_count": null,
   "id": "7d74124b",
   "metadata": {
    "execution": {
     "iopub.execute_input": "2023-11-13T03:46:00.441418Z",
     "iopub.status.busy": "2023-11-13T03:46:00.441055Z",
     "iopub.status.idle": "2023-11-13T03:46:00.444604Z",
     "shell.execute_reply": "2023-11-13T03:46:00.444216Z"
    },
    "papermill": {
     "duration": null,
     "end_time": null,
     "exception": null,
     "start_time": null,
     "status": "pending"
    },
    "tags": []
   },
   "outputs": [],
   "source": [
    "# rename columns from the decoder dictionary\n",
    "confusion_matrix_df.rename(\n",
    "    columns={0: \"apoptosis\", 1: \"healthy\", 2: \"pyroptosis\"}, inplace=True\n",
    ")\n",
    "confusion_matrix_df.rename(\n",
    "    index={0: \"apoptosis\", 1: \"healthy\", 2: \"pyroptosis\"}, inplace=True\n",
    ")"
   ]
  },
  {
   "cell_type": "code",
   "execution_count": null,
   "id": "2440fd1d",
   "metadata": {
    "execution": {
     "iopub.execute_input": "2023-11-13T03:46:00.472203Z",
     "iopub.status.busy": "2023-11-13T03:46:00.471843Z",
     "iopub.status.idle": "2023-11-13T03:46:00.476343Z",
     "shell.execute_reply": "2023-11-13T03:46:00.475962Z"
    },
    "papermill": {
     "duration": null,
     "end_time": null,
     "exception": null,
     "start_time": null,
     "status": "pending"
    },
    "tags": []
   },
   "outputs": [],
   "source": [
    "confusion_matrix_df"
   ]
  },
  {
   "cell_type": "code",
   "execution_count": null,
   "id": "a570c014",
   "metadata": {
    "execution": {
     "iopub.execute_input": "2023-11-13T03:46:00.504227Z",
     "iopub.status.busy": "2023-11-13T03:46:00.503933Z",
     "iopub.status.idle": "2023-11-13T03:46:02.086994Z",
     "shell.execute_reply": "2023-11-13T03:46:02.086381Z"
    },
    "papermill": {
     "duration": null,
     "end_time": null,
     "exception": null,
     "start_time": null,
     "status": "pending"
    },
    "tags": []
   },
   "outputs": [],
   "source": [
    "confusion_matrices = confusion_matrix_df.reset_index()\n",
    "# melt the DataFrame to a long format\n",
    "confusion_matrices = pd.melt(\n",
    "    confusion_matrices,\n",
    "    id_vars=[\"index\"],\n",
    "    value_vars=[\"healthy\", \"apoptosis\", \"pyroptosis\"],\n",
    ")\n",
    "\n",
    "# rename the columns\n",
    "confusion_matrices.columns = [\"True_Label\", \"Predicted_Label\", \"Count\"]\n",
    "confusion_matrices[\"data_split\"] = \"testing\"\n",
    "# sum of the columns of the confusion matrix gives the total number of samples per class\n",
    "sum_of_columns = confusion_matrix_df.sum(axis=0)"
   ]
  },
  {
   "cell_type": "code",
   "execution_count": null,
   "id": "66abb067",
   "metadata": {
    "execution": {
     "iopub.execute_input": "2023-11-13T03:21:29.557656Z",
     "iopub.status.busy": "2023-11-13T03:21:29.557313Z",
     "iopub.status.idle": "2023-11-13T03:21:29.562707Z",
     "shell.execute_reply": "2023-11-13T03:21:29.562334Z"
    },
    "papermill": {
     "duration": null,
     "end_time": null,
     "exception": null,
     "start_time": null,
     "status": "pending"
    },
    "tags": []
   },
   "outputs": [],
   "source": [
    "confusion_matrices"
   ]
  },
  {
   "cell_type": "code",
   "execution_count": null,
   "id": "09c57815",
   "metadata": {
    "execution": {
     "iopub.execute_input": "2023-11-13T03:21:29.587463Z",
     "iopub.status.busy": "2023-11-13T03:21:29.587136Z",
     "iopub.status.idle": "2023-11-13T03:21:29.590692Z",
     "shell.execute_reply": "2023-11-13T03:21:29.590308Z"
    },
    "papermill": {
     "duration": null,
     "end_time": null,
     "exception": null,
     "start_time": null,
     "status": "pending"
    },
    "tags": []
   },
   "outputs": [],
   "source": [
    "# normalize confusion matrix\n",
    "# get the sum of each column to normalize the confusion matrix by the total number of samples per class\n",
    "\n",
    "# divide the apotosis column by the sum of the apotosis column\n",
    "confusion_matrix_df[\"apoptosis\"] = confusion_matrix_df[\"apoptosis\"] / sum_of_columns[0]\n",
    "# divide the healthy column by the sum of the healthy column\n",
    "confusion_matrix_df[\"healthy\"] = confusion_matrix_df[\"healthy\"] / sum_of_columns[1]\n",
    "# divide the pyroptosis column by the sum of the pyroptosis column\n",
    "confusion_matrix_df[\"pyroptosis\"] = (\n",
    "    confusion_matrix_df[\"pyroptosis\"] / sum_of_columns[2]\n",
    ")"
   ]
  },
  {
   "cell_type": "code",
   "execution_count": null,
   "id": "69e87a95",
   "metadata": {
    "execution": {
     "iopub.execute_input": "2023-11-13T03:21:29.615221Z",
     "iopub.status.busy": "2023-11-13T03:21:29.614941Z",
     "iopub.status.idle": "2023-11-13T03:21:29.620183Z",
     "shell.execute_reply": "2023-11-13T03:21:29.619798Z"
    },
    "papermill": {
     "duration": null,
     "end_time": null,
     "exception": null,
     "start_time": null,
     "status": "pending"
    },
    "tags": []
   },
   "outputs": [],
   "source": [
    "confusion_matrix_df"
   ]
  },
  {
   "cell_type": "code",
   "execution_count": null,
   "id": "b394f6ad",
   "metadata": {
    "execution": {
     "iopub.execute_input": "2023-11-13T03:21:29.644888Z",
     "iopub.status.busy": "2023-11-13T03:21:29.644610Z",
     "iopub.status.idle": "2023-11-13T03:21:29.653537Z",
     "shell.execute_reply": "2023-11-13T03:21:29.653154Z"
    },
    "papermill": {
     "duration": null,
     "end_time": null,
     "exception": null,
     "start_time": null,
     "status": "pending"
    },
    "tags": []
   },
   "outputs": [],
   "source": [
    "confusion_matrices_recall = confusion_matrix_df.reset_index()\n",
    "# melt the DataFrame to a long format\n",
    "confusion_matrices_recall = pd.melt(\n",
    "    confusion_matrices_recall,\n",
    "    id_vars=[\"index\"],\n",
    "    value_vars=[\"healthy\", \"apoptosis\", \"pyroptosis\"],\n",
    ")\n",
    "\n",
    "# rename the columns\n",
    "confusion_matrices_recall.columns = [\"True_Label\", \"Predicted_Label\", \"Count\"]\n",
    "confusion_matrices_recall[\"data_split\"] = \"testing\"\n",
    "confusion_matrices_recall.rename(columns={\"Count\": \"Recall\"}, inplace=True)\n",
    "data_split_conf_mat_df = pd.merge(\n",
    "    confusion_matrices,\n",
    "    confusion_matrices_recall,\n",
    "    on=[\"True_Label\", \"Predicted_Label\", \"data_split\"],\n",
    ")\n",
    "data_split_conf_mat_df[\"shuffled_data\"] = mlp_params.SHUFFLE\n",
    "data_split_conf_mat_df_all = pd.concat(\n",
    "    [data_split_conf_mat_df_all, data_split_conf_mat_df], axis=0\n",
    ")"
   ]
  },
  {
   "cell_type": "code",
   "execution_count": null,
   "id": "d40e590c",
   "metadata": {
    "execution": {
     "iopub.execute_input": "2023-11-13T03:21:29.678179Z",
     "iopub.status.busy": "2023-11-13T03:21:29.677892Z",
     "iopub.status.idle": "2023-11-13T03:21:29.684195Z",
     "shell.execute_reply": "2023-11-13T03:21:29.683825Z"
    },
    "papermill": {
     "duration": null,
     "end_time": null,
     "exception": null,
     "start_time": null,
     "status": "pending"
    },
    "tags": []
   },
   "outputs": [],
   "source": [
    "data_split_conf_mat_df_all"
   ]
  },
  {
   "cell_type": "code",
   "execution_count": null,
   "id": "1ff8a8fd",
   "metadata": {
    "execution": {
     "iopub.execute_input": "2023-11-13T03:21:29.709364Z",
     "iopub.status.busy": "2023-11-13T03:21:29.709087Z",
     "iopub.status.idle": "2023-11-13T03:21:29.875053Z",
     "shell.execute_reply": "2023-11-13T03:21:29.874655Z"
    },
    "papermill": {
     "duration": null,
     "end_time": null,
     "exception": null,
     "start_time": null,
     "status": "pending"
    },
    "tags": []
   },
   "outputs": [],
   "source": [
    "ax = sns.heatmap(confusion_matrix_df, annot=True)\n",
    "ax.invert_xaxis()\n",
    "ax.invert_yaxis()\n",
    "plt.xlabel(\"Actual Values\", size=15)\n",
    "plt.ylabel(\"Predicted Values\", size=15)\n",
    "plt.show()"
   ]
  },
  {
   "cell_type": "code",
   "execution_count": null,
   "id": "6e9b9cc1",
   "metadata": {
    "execution": {
     "iopub.execute_input": "2023-11-13T03:21:29.900899Z",
     "iopub.status.busy": "2023-11-13T03:21:29.900540Z",
     "iopub.status.idle": "2023-11-13T03:21:30.312654Z",
     "shell.execute_reply": "2023-11-13T03:21:30.312226Z"
    },
    "papermill": {
     "duration": null,
     "end_time": null,
     "exception": null,
     "start_time": null,
     "status": "pending"
    },
    "tags": []
   },
   "outputs": [],
   "source": [
    "stats_df = output_stats(\n",
    "    y_pred_list,\n",
    "    Y_test,\n",
    "    mlp_params,\n",
    "    test_name=f\"{mlp_params.MODEL_NAME}_train\",\n",
    "    model_name=mlp_params.MODEL_NAME,\n",
    "    title=mlp_params.MODEL_NAME,\n",
    "    shuffle=mlp_params.SHUFFLE,\n",
    ")\n",
    "# make into a dataframe\n",
    "stats_df = pd.DataFrame.from_dict(stats_df).transpose()\n",
    "stats_df.reset_index(inplace=True)\n",
    "stats_df.rename(columns={\"index\": \"label\"}, inplace=True)\n",
    "stats_df = stats_df.melt(id_vars=[\"label\"], var_name=\"metric\", value_name=\"value\")\n",
    "# if accuracy in row of column 1 then change value of column 2 to accuracy\n",
    "stats_df.loc[stats_df[\"label\"] == \"accuracy\", \"metric\"] = \"accuracy\"\n",
    "# create a decoder dictionary from df_labels\n",
    "df_labels[\"new_labels\"] = df_labels[\"new_labels\"].astype(str)\n",
    "decoder = df_labels.set_index(\"new_labels\").to_dict()[\"labels\"]\n",
    "decoder[\"accuracy\"] = \"accuracy\"\n",
    "decoder[\"macro avg\"] = \"macro avg\"\n",
    "decoder[\"weighted avg\"] = \"weighted avg\"\n",
    "stats_df[\"label\"] = stats_df[\"label\"].map(decoder)"
   ]
  },
  {
   "cell_type": "code",
   "execution_count": null,
   "id": "5e49a4d0",
   "metadata": {
    "execution": {
     "iopub.execute_input": "2023-11-13T03:21:30.340165Z",
     "iopub.status.busy": "2023-11-13T03:21:30.339794Z",
     "iopub.status.idle": "2023-11-13T03:21:30.343391Z",
     "shell.execute_reply": "2023-11-13T03:21:30.342990Z"
    },
    "papermill": {
     "duration": null,
     "end_time": null,
     "exception": null,
     "start_time": null,
     "status": "pending"
    },
    "tags": []
   },
   "outputs": [],
   "source": [
    "stats_df[\"group\"] = \"test\"\n",
    "stats_df[\"shuffled_data\"] = mlp_params.SHUFFLE\n",
    "\n",
    "model_stats_df = pd.concat([model_stats_df, stats_df], axis=0)"
   ]
  },
  {
   "cell_type": "markdown",
   "metadata": {},
   "source": [
    "## Test the treatment holdout data on the model"
   ]
  },
  {
   "cell_type": "code",
   "execution_count": null,
   "metadata": {},
   "outputs": [],
   "source": [
    "treatment_holdout_data = Dataset_formatter(\n",
    "    torch.FloatTensor(X_treatment_holdout.values),\n",
    "    torch.FloatTensor(Y_treatment_holdout.values),\n",
    ")\n",
    "\n",
    "# convert data class into a dataloader to be compatible with pytorch\n",
    "treatment_holdout_loader = torch.utils.data.DataLoader(\n",
    "    dataset=treatment_holdout_data, batch_size=1, shuffle=mlp_params.SHUFFLE\n",
    ")\n",
    "\n",
    "# calling the testing function and outputting list values of tested model\n",
    "if any(\n",
    "    model_type == mlp_params.MODEL_TYPE for model_type in [\"Multi_Class\", \"Regression\"]\n",
    "):\n",
    "    y_pred_list = test_optimized_model(\n",
    "        model,\n",
    "        treatment_holdout_loader,\n",
    "        params,\n",
    "        model_name=mlp_params.MODEL_NAME,\n",
    "        shuffle=mlp_params.SHUFFLE,\n",
    "    )\n",
    "elif mlp_params.MODEL_TYPE == \"Binary_Classification\":\n",
    "    y_pred_list, y_pred_prob_list = test_optimized_model(\n",
    "        model,\n",
    "        treatment_holdout_loader,\n",
    "        params,\n",
    "        model_name=mlp_params.MODEL_NAME,\n",
    "        shuffle=mlp_params.SHUFFLE,\n",
    "    )\n",
    "else:\n",
    "    raise Exception(\"Model type must be specified for proper model testing\")\n",
    "\n",
    "# un-nest list if nested i.e. length of input data does not match length of output data\n",
    "if len(y_pred_list) != len(Y_treatment_holdout):\n",
    "    y_pred_list = un_nest(y_pred_list)\n",
    "    if mlp_params.MODEL_TYPE == \"Binary_Classification\":\n",
    "        y_pred_prob_list = un_nest(y_pred_prob_list)\n",
    "else:\n",
    "    pass\n",
    "\n",
    "# Call visualization function\n",
    "# calling the testing function and outputing list values of tested model\n",
    "if any(\n",
    "    model_type == mlp_params.MODEL_TYPE for model_type in [\"Multi_Class\", \"Regression\"]\n",
    "):\n",
    "    confusion_matrix_df = results_output(\n",
    "        y_pred_list,\n",
    "        Y_treatment_holdout,\n",
    "        params,\n",
    "        test_name=f\"{mlp_params.MODEL_NAME}_treatment_hold_out\",\n",
    "        model_name=mlp_params.MODEL_NAME,\n",
    "        title=mlp_params.MODEL_NAME,\n",
    "        shuffle=mlp_params.SHUFFLE,\n",
    "    )\n",
    "elif mlp_params.MODEL_TYPE == \"Binary_Classification\":\n",
    "    results_output(\n",
    "        y_pred_list,\n",
    "        Y_treatment_holdout,\n",
    "        params,\n",
    "        y_pred_prob_list,\n",
    "        test_name=f\"{mlp_params.MODEL_NAME}_treatment_hold_out\",\n",
    "        model_name=mlp_params.MODEL_NAME,\n",
    "        title=mlp_params.MODEL_NAME,\n",
    "        shuffle=mlp_params.SHUFFLE,\n",
    "    )\n",
    "else:\n",
    "    raise Exception(\"Model type must be specified for proper model testing\")"
   ]
  },
  {
   "cell_type": "code",
   "execution_count": null,
   "metadata": {},
   "outputs": [],
   "source": [
    "final_predictions_df"
   ]
  },
  {
   "cell_type": "code",
   "execution_count": null,
   "metadata": {},
   "outputs": [],
   "source": [
    "# merge the y_pred_list and Y_holdout into a dataframe\n",
    "y_pred_df = pd.DataFrame(y_pred_list, columns=[\"y_pred\"])\n",
    "y_pred_df = pd.concat([y_pred_df, Y_treatment_holdout], axis=1)\n",
    "y_pred_df = pd.concat([y_pred_df, X_treatment_holdout], axis=1)"
   ]
  },
  {
   "cell_type": "code",
   "execution_count": null,
   "metadata": {},
   "outputs": [],
   "source": []
  },
  {
   "cell_type": "code",
   "execution_count": null,
   "metadata": {},
   "outputs": [],
   "source": [
    "# merge y_pred_df with metadata_holdout whiile keeping the index of metadata_holdout\n",
    "metadata_treatment_holdout.reset_index(inplace=True)\n",
    "y_pred_df = pd.concat([y_pred_df, metadata_treatment_holdout], axis=1)\n",
    "# set the index to the index column\n",
    "y_pred_df.set_index(\"index\", inplace=True, drop=True)"
   ]
  },
  {
   "cell_type": "code",
   "execution_count": null,
   "metadata": {},
   "outputs": [],
   "source": []
  },
  {
   "cell_type": "code",
   "execution_count": null,
   "metadata": {},
   "outputs": [],
   "source": [
    "y_pred_df[\"data_split\"] = \"treatment_holdout\""
   ]
  },
  {
   "cell_type": "code",
   "execution_count": null,
   "metadata": {},
   "outputs": [],
   "source": [
    "final_predictions_df = pd.concat([final_predictions_df, y_pred_df], axis=0)\n",
    "final_predictions_df"
   ]
  },
  {
   "cell_type": "code",
   "execution_count": null,
   "metadata": {},
   "outputs": [],
   "source": [
    "# rename columns from the decoder dictionary\n",
    "confusion_matrix_df.rename(\n",
    "    columns={0: \"apoptosis\", 1: \"healthy\", 2: \"pyroptosis\"}, inplace=True\n",
    ")\n",
    "# rename index from the decoder dictionary\n",
    "confusion_matrix_df.rename(\n",
    "    index={0: \"apoptosis\", 1: \"healthy\", 2: \"pyroptosis\"}, inplace=True\n",
    ")"
   ]
  },
  {
   "cell_type": "code",
   "execution_count": null,
   "metadata": {},
   "outputs": [],
   "source": [
    "confusion_matrices = confusion_matrix_df.reset_index()\n",
    "# melt the DataFrame to a long format\n",
    "confusion_matrices = pd.melt(\n",
    "    confusion_matrices,\n",
    "    id_vars=[\"index\"],\n",
    "    value_vars=[\"healthy\", \"apoptosis\", \"pyroptosis\"],\n",
    ")\n",
    "\n",
    "# rename the columns\n",
    "confusion_matrices.columns = [\"True_Label\", \"Predicted_Label\", \"Count\"]\n",
    "confusion_matrices[\"data_split\"] = \"treatment_holdout\"\n",
    "# sum of the columns of the confusion matrix gives the total number of samples per class\n",
    "sum_of_columns = confusion_matrix_df.sum(axis=0)"
   ]
  },
  {
   "cell_type": "code",
   "execution_count": null,
   "metadata": {},
   "outputs": [],
   "source": [
    "confusion_matrices"
   ]
  },
  {
   "cell_type": "code",
   "execution_count": null,
   "metadata": {},
   "outputs": [],
   "source": [
    "# normalize confusion matrix\n",
    "# get the sum of each column to normalize the confusion matrix by the total number of samples per class\n",
    "\n",
    "# divide the apotosis column by the sum of the apotosis column\n",
    "confusion_matrix_df[\"apoptosis\"] = confusion_matrix_df[\"apoptosis\"] / sum_of_columns[0]\n",
    "# divide the healthy column by the sum of the healthy column\n",
    "confusion_matrix_df[\"healthy\"] = confusion_matrix_df[\"healthy\"] / sum_of_columns[1]\n",
    "# divide the pyroptosis column by the sum of the pyroptosis column\n",
    "confusion_matrix_df[\"pyroptosis\"] = (\n",
    "    confusion_matrix_df[\"pyroptosis\"] / sum_of_columns[2]\n",
    ")"
   ]
  },
  {
   "cell_type": "code",
   "execution_count": null,
   "metadata": {},
   "outputs": [],
   "source": [
    "# change the order of the columns\n",
    "confusion_matrix_df = confusion_matrix_df[[\"healthy\", \"apoptosis\", \"pyroptosis\"]]\n",
    "# change the order of the index\n",
    "confusion_matrix_df = confusion_matrix_df.reindex(\n",
    "    index=[\"healthy\", \"apoptosis\", \"pyroptosis\"]\n",
    ")"
   ]
  },
  {
   "cell_type": "code",
   "execution_count": null,
   "metadata": {},
   "outputs": [],
   "source": [
    "confusion_matrices_recall = confusion_matrix_df.reset_index()\n",
    "# melt the DataFrame to a long format\n",
    "confusion_matrices_recall = pd.melt(\n",
    "    confusion_matrices_recall,\n",
    "    id_vars=[\"index\"],\n",
    "    value_vars=[\"healthy\", \"apoptosis\", \"pyroptosis\"],\n",
    ")\n",
    "\n",
    "# rename the columns\n",
    "confusion_matrices_recall.columns = [\"True_Label\", \"Predicted_Label\", \"Count\"]\n",
    "confusion_matrices_recall[\"data_split\"] = \"treatment_holdout\"\n",
    "confusion_matrices_recall.rename(columns={\"Count\": \"Recall\"}, inplace=True)\n",
    "data_split_conf_mat_df = pd.merge(\n",
    "    confusion_matrices,\n",
    "    confusion_matrices_recall,\n",
    "    on=[\"True_Label\", \"Predicted_Label\", \"data_split\"],\n",
    ")\n",
    "data_split_conf_mat_df[\"shuffled_data\"] = mlp_params.SHUFFLE\n",
    "data_split_conf_mat_df_all = pd.concat(\n",
    "    [data_split_conf_mat_df_all, data_split_conf_mat_df], axis=0\n",
    ")"
   ]
  },
  {
   "cell_type": "code",
   "execution_count": null,
   "metadata": {},
   "outputs": [],
   "source": [
    "data_split_conf_mat_df"
   ]
  },
  {
   "cell_type": "code",
   "execution_count": null,
   "metadata": {},
   "outputs": [],
   "source": [
    "ax = sns.heatmap(confusion_matrix_df, annot=True)\n",
    "\n",
    "plt.xlabel(\"Actual Values\", size=15)\n",
    "plt.ylabel(\"Predicted Values\", size=15)\n",
    "plt.show()"
   ]
  },
  {
   "cell_type": "code",
   "execution_count": null,
   "metadata": {},
   "outputs": [],
   "source": [
    "stats_df = output_stats(\n",
    "    y_pred_list,\n",
    "    Y_treatment_holdout,\n",
    "    mlp_params,\n",
    "    test_name=f\"{mlp_params.MODEL_NAME}_train\",\n",
    "    model_name=mlp_params.MODEL_NAME,\n",
    "    title=mlp_params.MODEL_NAME,\n",
    "    shuffle=mlp_params.SHUFFLE,\n",
    ")\n",
    "# make into a dataframe\n",
    "stats_df = pd.DataFrame.from_dict(stats_df).transpose()\n",
    "stats_df.reset_index(inplace=True)\n",
    "stats_df.rename(columns={\"index\": \"label\"}, inplace=True)\n",
    "stats_df = stats_df.melt(id_vars=[\"label\"], var_name=\"metric\", value_name=\"value\")\n",
    "# if accuracy in row of column 1 then change value of column 2 to accuracy\n",
    "stats_df.loc[stats_df[\"label\"] == \"accuracy\", \"metric\"] = \"accuracy\"\n",
    "# create a decoder dictionary from df_labels\n",
    "df_labels[\"new_labels\"] = df_labels[\"new_labels\"].astype(str)\n",
    "decoder = df_labels.set_index(\"new_labels\").to_dict()[\"labels\"]\n",
    "decoder[\"accuracy\"] = \"accuracy\"\n",
    "decoder[\"macro avg\"] = \"macro avg\"\n",
    "decoder[\"weighted avg\"] = \"weighted avg\"\n",
    "stats_df[\"label\"] = stats_df[\"label\"].map(decoder)"
   ]
  },
  {
   "cell_type": "code",
   "execution_count": null,
   "metadata": {},
   "outputs": [],
   "source": [
    "stats_df[\"group\"] = \"treatment_holdout\"\n",
    "stats_df[\"shuffled_data\"] = mlp_params.SHUFFLE\n",
    "\n",
    "model_stats_df = pd.concat([model_stats_df, stats_df], axis=0)\n",
    "model_stats_df"
   ]
  },
  {
   "cell_type": "markdown",
   "id": "bd07fbb7",
   "metadata": {
    "papermill": {
     "duration": null,
     "end_time": null,
     "exception": null,
     "start_time": null,
     "status": "pending"
    },
    "tags": []
   },
   "source": [
    "## Test the hold out wells"
   ]
  },
  {
   "cell_type": "code",
   "execution_count": null,
   "id": "3c45de2b",
   "metadata": {
    "execution": {
     "iopub.execute_input": "2023-11-13T03:21:30.393006Z",
     "iopub.status.busy": "2023-11-13T03:21:30.392740Z",
     "iopub.status.idle": "2023-11-13T03:21:53.066480Z",
     "shell.execute_reply": "2023-11-13T03:21:53.066002Z"
    },
    "papermill": {
     "duration": null,
     "end_time": null,
     "exception": null,
     "start_time": null,
     "status": "pending"
    },
    "tags": []
   },
   "outputs": [],
   "source": [
    "holdout_data = Dataset_formatter(\n",
    "    torch.FloatTensor(X_holdout.values), torch.FloatTensor(Y_holdout.values)\n",
    ")\n",
    "\n",
    "# convert data class into a dataloader to be compatible with pytorch\n",
    "holdout_loader = torch.utils.data.DataLoader(\n",
    "    dataset=holdout_data, batch_size=1, shuffle=mlp_params.SHUFFLE\n",
    ")\n",
    "\n",
    "# calling the testing function and outputting list values of tested model\n",
    "if any(\n",
    "    model_type == mlp_params.MODEL_TYPE for model_type in [\"Multi_Class\", \"Regression\"]\n",
    "):\n",
    "    y_pred_list = test_optimized_model(\n",
    "        model,\n",
    "        holdout_loader,\n",
    "        params,\n",
    "        model_name=mlp_params.MODEL_NAME,\n",
    "        shuffle=mlp_params.SHUFFLE,\n",
    "    )\n",
    "elif mlp_params.MODEL_TYPE == \"Binary_Classification\":\n",
    "    y_pred_list, y_pred_prob_list = test_optimized_model(\n",
    "        model,\n",
    "        holdout_loader,\n",
    "        params,\n",
    "        model_name=mlp_params.MODEL_NAME,\n",
    "        shuffle=mlp_params.SHUFFLE,\n",
    "    )\n",
    "else:\n",
    "    raise Exception(\"Model type must be specified for proper model testing\")\n",
    "\n",
    "# un-nest list if nested i.e. length of input data does not match length of output data\n",
    "if len(y_pred_list) != len(Y_holdout):\n",
    "    y_pred_list = un_nest(y_pred_list)\n",
    "    if mlp_params.MODEL_TYPE == \"Binary_Classification\":\n",
    "        y_pred_prob_list = un_nest(y_pred_prob_list)\n",
    "else:\n",
    "    pass\n",
    "\n",
    "# Call visualization function\n",
    "# calling the testing function and outputing list values of tested model\n",
    "if any(\n",
    "    model_type == mlp_params.MODEL_TYPE for model_type in [\"Multi_Class\", \"Regression\"]\n",
    "):\n",
    "    confusion_matrix_df = results_output(\n",
    "        y_pred_list,\n",
    "        Y_holdout,\n",
    "        params,\n",
    "        test_name=f\"{mlp_params.MODEL_NAME}_hold_out\",\n",
    "        model_name=mlp_params.MODEL_NAME,\n",
    "        title=mlp_params.MODEL_NAME,\n",
    "        shuffle=mlp_params.SHUFFLE,\n",
    "    )\n",
    "elif mlp_params.MODEL_TYPE == \"Binary_Classification\":\n",
    "    results_output(\n",
    "        y_pred_list,\n",
    "        Y_holdout,\n",
    "        params,\n",
    "        y_pred_prob_list,\n",
    "        test_name=f\"{mlp_params.MODEL_NAME}_hold_out\",\n",
    "        model_name=mlp_params.MODEL_NAME,\n",
    "        title=mlp_params.MODEL_NAME,\n",
    "        shuffle=mlp_params.SHUFFLE,\n",
    "    )\n",
    "else:\n",
    "    raise Exception(\"Model type must be specified for proper model testing\")"
   ]
  },
  {
   "cell_type": "code",
   "execution_count": null,
   "metadata": {},
   "outputs": [],
   "source": [
    "# merge the y_pred_list and Y_holdout into a dataframe\n",
    "y_pred_df = pd.DataFrame(y_pred_list, columns=[\"y_pred\"])\n",
    "y_pred_df = pd.concat([y_pred_df, Y_holdout], axis=1)\n",
    "y_pred_df = pd.concat([y_pred_df, X_holdout], axis=1)"
   ]
  },
  {
   "cell_type": "code",
   "execution_count": null,
   "metadata": {},
   "outputs": [],
   "source": [
    "y_pred_df"
   ]
  },
  {
   "cell_type": "code",
   "execution_count": null,
   "metadata": {},
   "outputs": [],
   "source": [
    "# merge y_pred_df with metadata_holdout whiile keeping the index of metadata_holdout\n",
    "metadata_holdout.reset_index(inplace=True)\n",
    "y_pred_df = pd.concat([y_pred_df, metadata_holdout], axis=1)\n",
    "# set the index to the index column\n",
    "y_pred_df.set_index(\"index\", inplace=True, drop=True)"
   ]
  },
  {
   "cell_type": "code",
   "execution_count": null,
   "metadata": {},
   "outputs": [],
   "source": [
    "y_pred_df[\"data_split\"] = \"holdout\""
   ]
  },
  {
   "cell_type": "code",
   "execution_count": null,
   "metadata": {},
   "outputs": [],
   "source": [
    "final_predictions_df = pd.concat([final_predictions_df, y_pred_df], axis=0)\n",
    "final_predictions_df"
   ]
  },
  {
   "cell_type": "code",
   "execution_count": null,
   "metadata": {},
   "outputs": [],
   "source": [
    "# # save the y_pred_df to a parquet file\n",
    "# # set path\n",
    "# y_pred_df_path = pathlib.Path(\n",
    "#     f\"../../results/Multi_Class/{mlp_params.MODEL_NAME}/{mlp_params.CELL_TYPE}/holdout_single_cell_predictions.parquet\"\n",
    "# )\n",
    "# # make path if it doesn't exist\n",
    "# y_pred_df_path.parent.mkdir(parents=True, exist_ok=True)\n",
    "# # save the dataframe\n",
    "# y_pred_df.to_parquet(y_pred_df_path)"
   ]
  },
  {
   "cell_type": "code",
   "execution_count": null,
   "id": "075f1ff0",
   "metadata": {
    "execution": {
     "iopub.execute_input": "2023-11-13T03:21:53.099747Z",
     "iopub.status.busy": "2023-11-13T03:21:53.099370Z",
     "iopub.status.idle": "2023-11-13T03:21:53.102914Z",
     "shell.execute_reply": "2023-11-13T03:21:53.102508Z"
    },
    "papermill": {
     "duration": null,
     "end_time": null,
     "exception": null,
     "start_time": null,
     "status": "pending"
    },
    "tags": []
   },
   "outputs": [],
   "source": [
    "# rename columns from the decoder dictionary\n",
    "confusion_matrix_df.rename(\n",
    "    columns={0: \"apoptosis\", 1: \"healthy\", 2: \"pyroptosis\"}, inplace=True\n",
    ")\n",
    "# rename index from the decoder dictionary\n",
    "confusion_matrix_df.rename(\n",
    "    index={0: \"apoptosis\", 1: \"healthy\", 2: \"pyroptosis\"}, inplace=True\n",
    ")"
   ]
  },
  {
   "cell_type": "code",
   "execution_count": null,
   "id": "eb3690d8",
   "metadata": {
    "execution": {
     "iopub.execute_input": "2023-11-13T03:21:53.130959Z",
     "iopub.status.busy": "2023-11-13T03:21:53.130694Z",
     "iopub.status.idle": "2023-11-13T03:21:53.137032Z",
     "shell.execute_reply": "2023-11-13T03:21:53.136624Z"
    },
    "papermill": {
     "duration": null,
     "end_time": null,
     "exception": null,
     "start_time": null,
     "status": "pending"
    },
    "tags": []
   },
   "outputs": [],
   "source": [
    "confusion_matrices = confusion_matrix_df.reset_index()\n",
    "# melt the DataFrame to a long format\n",
    "confusion_matrices = pd.melt(\n",
    "    confusion_matrices,\n",
    "    id_vars=[\"index\"],\n",
    "    value_vars=[\"healthy\", \"apoptosis\", \"pyroptosis\"],\n",
    ")\n",
    "\n",
    "# rename the columns\n",
    "confusion_matrices.columns = [\"True_Label\", \"Predicted_Label\", \"Count\"]\n",
    "confusion_matrices[\"data_split\"] = \"holdout\"\n",
    "# sum of the columns of the confusion matrix gives the total number of samples per class\n",
    "sum_of_columns = confusion_matrix_df.sum(axis=0)"
   ]
  },
  {
   "cell_type": "code",
   "execution_count": null,
   "id": "d69c2eff",
   "metadata": {
    "execution": {
     "iopub.execute_input": "2023-11-13T03:21:53.165009Z",
     "iopub.status.busy": "2023-11-13T03:21:53.164737Z",
     "iopub.status.idle": "2023-11-13T03:21:53.170181Z",
     "shell.execute_reply": "2023-11-13T03:21:53.169791Z"
    },
    "papermill": {
     "duration": null,
     "end_time": null,
     "exception": null,
     "start_time": null,
     "status": "pending"
    },
    "tags": []
   },
   "outputs": [],
   "source": [
    "confusion_matrices"
   ]
  },
  {
   "cell_type": "code",
   "execution_count": null,
   "id": "31d1f6af",
   "metadata": {
    "execution": {
     "iopub.execute_input": "2023-11-13T03:21:53.198562Z",
     "iopub.status.busy": "2023-11-13T03:21:53.198279Z",
     "iopub.status.idle": "2023-11-13T03:21:53.201909Z",
     "shell.execute_reply": "2023-11-13T03:21:53.201527Z"
    },
    "papermill": {
     "duration": null,
     "end_time": null,
     "exception": null,
     "start_time": null,
     "status": "pending"
    },
    "tags": []
   },
   "outputs": [],
   "source": [
    "# normalize confusion matrix\n",
    "# get the sum of each column to normalize the confusion matrix by the total number of samples per class\n",
    "\n",
    "# divide the apotosis column by the sum of the apotosis column\n",
    "confusion_matrix_df[\"apoptosis\"] = confusion_matrix_df[\"apoptosis\"] / sum_of_columns[0]\n",
    "# divide the healthy column by the sum of the healthy column\n",
    "confusion_matrix_df[\"healthy\"] = confusion_matrix_df[\"healthy\"] / sum_of_columns[1]\n",
    "# divide the pyroptosis column by the sum of the pyroptosis column\n",
    "confusion_matrix_df[\"pyroptosis\"] = (\n",
    "    confusion_matrix_df[\"pyroptosis\"] / sum_of_columns[2]\n",
    ")"
   ]
  },
  {
   "cell_type": "code",
   "execution_count": null,
   "id": "cfe647ce",
   "metadata": {
    "execution": {
     "iopub.execute_input": "2023-11-13T03:21:53.230116Z",
     "iopub.status.busy": "2023-11-13T03:21:53.229842Z",
     "iopub.status.idle": "2023-11-13T03:21:53.233015Z",
     "shell.execute_reply": "2023-11-13T03:21:53.232631Z"
    },
    "papermill": {
     "duration": null,
     "end_time": null,
     "exception": null,
     "start_time": null,
     "status": "pending"
    },
    "tags": []
   },
   "outputs": [],
   "source": [
    "# change the order of the columns\n",
    "confusion_matrix_df = confusion_matrix_df[[\"healthy\", \"apoptosis\", \"pyroptosis\"]]\n",
    "# change the order of the index\n",
    "confusion_matrix_df = confusion_matrix_df.reindex(\n",
    "    index=[\"healthy\", \"apoptosis\", \"pyroptosis\"]\n",
    ")"
   ]
  },
  {
   "cell_type": "code",
   "execution_count": null,
   "id": "001cd8ef",
   "metadata": {
    "execution": {
     "iopub.execute_input": "2023-11-13T03:21:53.261598Z",
     "iopub.status.busy": "2023-11-13T03:21:53.261247Z",
     "iopub.status.idle": "2023-11-13T03:21:53.270004Z",
     "shell.execute_reply": "2023-11-13T03:21:53.269614Z"
    },
    "papermill": {
     "duration": null,
     "end_time": null,
     "exception": null,
     "start_time": null,
     "status": "pending"
    },
    "tags": []
   },
   "outputs": [],
   "source": [
    "confusion_matrices_recall = confusion_matrix_df.reset_index()\n",
    "# melt the DataFrame to a long format\n",
    "confusion_matrices_recall = pd.melt(\n",
    "    confusion_matrices_recall,\n",
    "    id_vars=[\"index\"],\n",
    "    value_vars=[\"healthy\", \"apoptosis\", \"pyroptosis\"],\n",
    ")\n",
    "\n",
    "# rename the columns\n",
    "confusion_matrices_recall.columns = [\"True_Label\", \"Predicted_Label\", \"Count\"]\n",
    "confusion_matrices_recall[\"data_split\"] = \"holdout\"\n",
    "confusion_matrices_recall.rename(columns={\"Count\": \"Recall\"}, inplace=True)\n",
    "data_split_conf_mat_df = pd.merge(\n",
    "    confusion_matrices,\n",
    "    confusion_matrices_recall,\n",
    "    on=[\"True_Label\", \"Predicted_Label\", \"data_split\"],\n",
    ")\n",
    "data_split_conf_mat_df[\"shuffled_data\"] = mlp_params.SHUFFLE\n",
    "data_split_conf_mat_df_all = pd.concat(\n",
    "    [data_split_conf_mat_df_all, data_split_conf_mat_df], axis=0\n",
    ")"
   ]
  },
  {
   "cell_type": "code",
   "execution_count": null,
   "id": "144ceb04",
   "metadata": {
    "execution": {
     "iopub.execute_input": "2023-11-13T03:21:53.298182Z",
     "iopub.status.busy": "2023-11-13T03:21:53.297911Z",
     "iopub.status.idle": "2023-11-13T03:21:53.304150Z",
     "shell.execute_reply": "2023-11-13T03:21:53.303771Z"
    },
    "papermill": {
     "duration": null,
     "end_time": null,
     "exception": null,
     "start_time": null,
     "status": "pending"
    },
    "tags": []
   },
   "outputs": [],
   "source": [
    "data_split_conf_mat_df"
   ]
  },
  {
   "cell_type": "code",
   "execution_count": null,
   "id": "7c326b32",
   "metadata": {
    "execution": {
     "iopub.execute_input": "2023-11-13T03:21:53.332808Z",
     "iopub.status.busy": "2023-11-13T03:21:53.332528Z",
     "iopub.status.idle": "2023-11-13T03:21:53.496525Z",
     "shell.execute_reply": "2023-11-13T03:21:53.496138Z"
    },
    "papermill": {
     "duration": null,
     "end_time": null,
     "exception": null,
     "start_time": null,
     "status": "pending"
    },
    "tags": []
   },
   "outputs": [],
   "source": [
    "ax = sns.heatmap(confusion_matrix_df, annot=True)\n",
    "\n",
    "plt.xlabel(\"Actual Values\", size=15)\n",
    "plt.ylabel(\"Predicted Values\", size=15)\n",
    "plt.show()"
   ]
  },
  {
   "cell_type": "code",
   "execution_count": null,
   "id": "d9c38144",
   "metadata": {
    "execution": {
     "iopub.execute_input": "2023-11-13T03:21:53.525955Z",
     "iopub.status.busy": "2023-11-13T03:21:53.525663Z",
     "iopub.status.idle": "2023-11-13T03:21:53.783498Z",
     "shell.execute_reply": "2023-11-13T03:21:53.783087Z"
    },
    "papermill": {
     "duration": null,
     "end_time": null,
     "exception": null,
     "start_time": null,
     "status": "pending"
    },
    "tags": []
   },
   "outputs": [],
   "source": [
    "stats_df = output_stats(\n",
    "    y_pred_list,\n",
    "    Y_holdout,\n",
    "    mlp_params,\n",
    "    test_name=f\"{mlp_params.MODEL_NAME}_train\",\n",
    "    model_name=mlp_params.MODEL_NAME,\n",
    "    title=mlp_params.MODEL_NAME,\n",
    "    shuffle=mlp_params.SHUFFLE,\n",
    ")\n",
    "# make into a dataframe\n",
    "stats_df = pd.DataFrame.from_dict(stats_df).transpose()\n",
    "stats_df.reset_index(inplace=True)\n",
    "stats_df.rename(columns={\"index\": \"label\"}, inplace=True)\n",
    "stats_df = stats_df.melt(id_vars=[\"label\"], var_name=\"metric\", value_name=\"value\")\n",
    "# if accuracy in row of column 1 then change value of column 2 to accuracy\n",
    "stats_df.loc[stats_df[\"label\"] == \"accuracy\", \"metric\"] = \"accuracy\"\n",
    "# create a decoder dictionary from df_labels\n",
    "df_labels[\"new_labels\"] = df_labels[\"new_labels\"].astype(str)\n",
    "decoder = df_labels.set_index(\"new_labels\").to_dict()[\"labels\"]\n",
    "decoder[\"accuracy\"] = \"accuracy\"\n",
    "decoder[\"macro avg\"] = \"macro avg\"\n",
    "decoder[\"weighted avg\"] = \"weighted avg\"\n",
    "stats_df[\"label\"] = stats_df[\"label\"].map(decoder)"
   ]
  },
  {
   "cell_type": "code",
   "execution_count": null,
   "id": "61319294",
   "metadata": {
    "execution": {
     "iopub.execute_input": "2023-11-13T03:21:53.812945Z",
     "iopub.status.busy": "2023-11-13T03:21:53.812603Z",
     "iopub.status.idle": "2023-11-13T03:21:53.821134Z",
     "shell.execute_reply": "2023-11-13T03:21:53.820751Z"
    },
    "papermill": {
     "duration": null,
     "end_time": null,
     "exception": null,
     "start_time": null,
     "status": "pending"
    },
    "tags": []
   },
   "outputs": [],
   "source": [
    "stats_df[\"group\"] = \"holdout\"\n",
    "stats_df[\"shuffled_data\"] = mlp_params.SHUFFLE\n",
    "\n",
    "model_stats_df = pd.concat([model_stats_df, stats_df], axis=0)\n",
    "model_stats_df"
   ]
  },
  {
   "cell_type": "code",
   "execution_count": null,
   "metadata": {},
   "outputs": [],
   "source": [
    "# set path for the model confusion matrices\n",
    "predictions_path = pathlib.Path(\n",
    "    f\"../../results/{mlp_params.MODEL_TYPE}/{mlp_params.MODEL_NAME}/{mlp_params.CELL_TYPE}\"\n",
    ")\n",
    "predictions_path.mkdir(parents=True, exist_ok=True)\n",
    "# check if the model training metrics file exists\n",
    "matrix_file = pathlib.Path(f\"{predictions_path}/single_cell_predictions.parquet\")\n",
    "if matrix_file.exists():\n",
    "    predictions_df_tmp = pd.read_parquet(matrix_file)\n",
    "    if len(predictions_df_tmp[\"data_split\"].unique()) > 1:\n",
    "        pass\n",
    "    elif predictions_df_tmp[\"data_split\"].unique() == mlp_params.SHUFFLE:\n",
    "        pass\n",
    "    else:\n",
    "        metrics_df = pd.concat([predictions_df_tmp, final_predictions_df], axis=0)\n",
    "        metrics_df.to_parquet(matrix_file, index=False)\n",
    "else:\n",
    "    final_predictions_df.to_parquet(matrix_file, index=False)"
   ]
  },
  {
   "cell_type": "code",
   "execution_count": null,
   "id": "6320cb8d",
   "metadata": {
    "execution": {
     "iopub.execute_input": "2023-11-13T03:21:53.887891Z",
     "iopub.status.busy": "2023-11-13T03:21:53.887611Z",
     "iopub.status.idle": "2023-11-13T03:21:53.892841Z",
     "shell.execute_reply": "2023-11-13T03:21:53.892460Z"
    },
    "papermill": {
     "duration": null,
     "end_time": null,
     "exception": null,
     "start_time": null,
     "status": "pending"
    },
    "tags": []
   },
   "outputs": [],
   "source": [
    "# set path for the model confusion matrices\n",
    "matrix_path = pathlib.Path(\n",
    "    f\"../../results/{mlp_params.MODEL_TYPE}/{mlp_params.MODEL_NAME}/{mlp_params.CELL_TYPE}\"\n",
    ")\n",
    "matrix_path.mkdir(parents=True, exist_ok=True)\n",
    "# check if the model training metrics file exists\n",
    "matrix_file = pathlib.Path(f\"{matrix_path}/confusion_matrices.csv\")\n",
    "if matrix_file.exists():\n",
    "    metrics_df = pd.read_csv(matrix_file)\n",
    "    if len(metrics_df[\"shuffled_data\"].unique()) > 1:\n",
    "        pass\n",
    "    elif metrics_df[\"shuffled_data\"].unique() == mlp_params.SHUFFLE:\n",
    "        pass\n",
    "    else:\n",
    "        metrics_df = pd.concat([metrics_df, data_split_conf_mat_df_all], axis=0)\n",
    "        metrics_df.to_csv(matrix_file, index=False)\n",
    "else:\n",
    "    data_split_conf_mat_df_all.to_csv(matrix_file, index=False)"
   ]
  },
  {
   "cell_type": "code",
   "execution_count": null,
   "id": "e1e4b224",
   "metadata": {
    "execution": {
     "iopub.execute_input": "2023-11-13T03:21:53.922948Z",
     "iopub.status.busy": "2023-11-13T03:21:53.922663Z",
     "iopub.status.idle": "2023-11-13T03:21:53.927617Z",
     "shell.execute_reply": "2023-11-13T03:21:53.927236Z"
    },
    "papermill": {
     "duration": null,
     "end_time": null,
     "exception": null,
     "start_time": null,
     "status": "pending"
    },
    "tags": []
   },
   "outputs": [],
   "source": [
    "# set path for the model training metrics\n",
    "metrics_path = pathlib.Path(\n",
    "    f\"../../results/{mlp_params.MODEL_TYPE}/{mlp_params.MODEL_NAME}/{mlp_params.CELL_TYPE}\"\n",
    ")\n",
    "metrics_path.mkdir(parents=True, exist_ok=True)\n",
    "# check if the model training metrics file exists\n",
    "metrics_file = pathlib.Path(f\"{metrics_path}/training_metrics.csv\")\n",
    "if metrics_file.exists():\n",
    "    metrics_df = pd.read_csv(metrics_file)\n",
    "    if len(metrics_df[\"shuffled_data\"].unique()) > 1:\n",
    "        pass\n",
    "    elif metrics_df[\"shuffled_data\"].unique() == mlp_params.SHUFFLE:\n",
    "        pass\n",
    "    else:\n",
    "        metrics_df = pd.concat([metrics_df, model_stats_df], axis=0)\n",
    "        metrics_df.to_csv(metrics_file, index=False)\n",
    "else:\n",
    "    model_stats_df.to_csv(metrics_file, index=False)"
   ]
  }
 ],
 "metadata": {
  "kernelspec": {
   "display_name": "Interstellar",
   "language": "python",
   "name": "python3"
  },
  "language_info": {
   "codemirror_mode": {
    "name": "ipython",
    "version": 3
   },
   "file_extension": ".py",
   "mimetype": "text/x-python",
   "name": "python",
   "nbconvert_exporter": "python",
   "pygments_lexer": "ipython3",
   "version": "3.10.12"
  },
  "papermill": {
   "default_parameters": {},
   "duration": null,
   "end_time": null,
   "environment_variables": {},
   "exception": null,
   "input_path": "train_multiclass_model.ipynb",
   "output_path": "train_multiclass_model.ipynb",
   "parameters": {
    "CELL_TYPE": "PBMC",
    "MODEL_NAME": "MultiClass_MLP",
    "SHUFFLE": true
   },
   "start_time": "2023-11-13T03:46:04.352506",
   "version": "2.4.0"
  }
 },
 "nbformat": 4,
 "nbformat_minor": 5
}
