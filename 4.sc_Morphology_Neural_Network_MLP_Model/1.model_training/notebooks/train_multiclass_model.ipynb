{
 "cells": [
  {
   "cell_type": "code",
   "execution_count": 1,
   "id": "76db0f62",
   "metadata": {
    "execution": {
     "iopub.execute_input": "2023-11-13T03:46:06.332907Z",
     "iopub.status.busy": "2023-11-13T03:46:06.332549Z",
     "iopub.status.idle": "2023-11-13T03:46:09.390164Z",
     "shell.execute_reply": "2023-11-13T03:46:09.389559Z"
    },
    "papermill": {
     "duration": 3.068881,
     "end_time": "2023-11-13T03:46:09.391537",
     "exception": false,
     "start_time": "2023-11-13T03:46:06.322656",
     "status": "completed"
    },
    "tags": []
   },
   "outputs": [],
   "source": [
    "import ast\n",
    "import gc\n",
    "import pathlib\n",
    "import sys\n",
    "\n",
    "import numpy as np\n",
    "import pandas as pd\n",
    "import toml\n",
    "import torch\n",
    "from sklearn import preprocessing\n",
    "\n",
    "sys.path.append(\"../..\")\n",
    "\n",
    "import matplotlib.pyplot as plt\n",
    "import seaborn as sns\n",
    "from MLP_utils.parameters import Parameters\n",
    "from MLP_utils.utils import (\n",
    "    Dataset_formatter,\n",
    "    output_stats,\n",
    "    parameter_set,\n",
    "    plot_metric_vs_epoch,\n",
    "    results_output,\n",
    "    test_optimized_model,\n",
    "    train_optimized_model,\n",
    "    un_nest,\n",
    ")\n",
    "from sklearn.metrics import precision_recall_curve\n",
    "\n",
    "sys.path.append(\"../../..\")\n",
    "import argparse"
   ]
  },
  {
   "cell_type": "code",
   "execution_count": 2,
   "id": "5e7b6d7b",
   "metadata": {},
   "outputs": [],
   "source": [
    "# # set up the parser\n",
    "# parser = argparse.ArgumentParser(description=\"Train MLP model\")\n",
    "\n",
    "# # add arguments to parser\n",
    "# parser.add_argument(\n",
    "#     \"--CELL_TYPE\",\n",
    "#     type=str,\n",
    "#     default=\"all\",\n",
    "#     help=\"Cell type to train model on. Default is all\",\n",
    "# )\n",
    "\n",
    "# parser.add_argument(\n",
    "#     \"--MODEL_NAME\",\n",
    "#     type=str,\n",
    "#     default=\"MLP\",\n",
    "#     help=\"Model name to train. Default is MLP\",\n",
    "# )\n",
    "\n",
    "# parser.add_argument(\n",
    "#     \"--SHUFFLE\",\n",
    "#     type=str,\n",
    "#     default=\"False\",\n",
    "#     help=\"Shuffle data before training. Default is False\",\n",
    "# )\n",
    "\n",
    "# # parse the arguments\n",
    "# args = parser.parse_args()\n",
    "\n",
    "# CELL_TYPE = args.CELL_TYPE\n",
    "# MODEL_NAME = args.MODEL_NAME\n",
    "# SHUFFLE = args.SHUFFLE\n",
    "# SHUFFLE = ast.literal_eval(SHUFFLE)\n",
    "# print(CELL_TYPE, MODEL_NAME, SHUFFLE)"
   ]
  },
  {
   "cell_type": "code",
   "execution_count": 3,
   "id": "f5365e19",
   "metadata": {},
   "outputs": [],
   "source": [
    "CELL_TYPE = \"SHSY5Y\"\n",
    "MODEL_NAME = \"MultiClass_MLP\"\n",
    "SHUFFLE = False"
   ]
  },
  {
   "cell_type": "code",
   "execution_count": 4,
   "id": "7fe861fc",
   "metadata": {
    "execution": {
     "iopub.execute_input": "2023-11-13T03:46:09.446006Z",
     "iopub.status.busy": "2023-11-13T03:46:09.445617Z",
     "iopub.status.idle": "2023-11-13T03:46:09.451397Z",
     "shell.execute_reply": "2023-11-13T03:46:09.450978Z"
    },
    "papermill": {
     "duration": 0.015233,
     "end_time": "2023-11-13T03:46:09.452351",
     "exception": false,
     "start_time": "2023-11-13T03:46:09.437118",
     "status": "completed"
    },
    "tags": []
   },
   "outputs": [
    {
     "name": "stdout",
     "output_type": "stream",
     "text": [
      "[0.954878893196544, 0.505315252332322, 0.539805854471134]\n"
     ]
    }
   ],
   "source": [
    "ml_configs_file = pathlib.Path(\"../../MLP_utils/multi_class_config.toml\").resolve(\n",
    "    strict=True\n",
    ")\n",
    "ml_configs = toml.load(ml_configs_file)\n",
    "params = Parameters()\n",
    "mlp_params = parameter_set(params, ml_configs)\n",
    "\n",
    "# overwrite params via command line arguments from papermill\n",
    "mlp_params.CELL_TYPE = CELL_TYPE\n",
    "mlp_params.MODEL_NAME = MODEL_NAME\n",
    "\n",
    "mlp_params.MODEL_NAME = MODEL_NAME\n",
    "mlp_params.SHUFFLE = SHUFFLE\n",
    "\n",
    "# load in the class weights\n",
    "class_weights_file_path = pathlib.Path(\n",
    "    f\"../../0.hyperparameter_optimization/class_weights/{CELL_TYPE}/multi_class/class_weights.txt\"\n",
    ").resolve(strict=True)\n",
    "# read the class weights into a list for use in the loss function as a list\n",
    "class_weights = []\n",
    "with open(class_weights_file_path, \"r\") as f:\n",
    "    for line in f:\n",
    "        class_weights.append(float(line.strip()))\n",
    "# check the class weights are correct\n",
    "print(class_weights)"
   ]
  },
  {
   "cell_type": "code",
   "execution_count": 5,
   "id": "5f05b3f4",
   "metadata": {
    "execution": {
     "iopub.execute_input": "2023-11-13T03:46:09.469050Z",
     "iopub.status.busy": "2023-11-13T03:46:09.468681Z",
     "iopub.status.idle": "2023-11-13T03:46:38.488828Z",
     "shell.execute_reply": "2023-11-13T03:46:38.488256Z"
    },
    "papermill": {
     "duration": 29.029959,
     "end_time": "2023-11-13T03:46:38.490348",
     "exception": false,
     "start_time": "2023-11-13T03:46:09.460389",
     "status": "completed"
    },
    "tags": []
   },
   "outputs": [],
   "source": [
    "# Import Data\n",
    "# set data file path under pathlib path for multi-system use\n",
    "\n",
    "file_path = pathlib.Path(\n",
    "    f\"../../../data/{mlp_params.CELL_TYPE}_preprocessed_sc_norm.parquet\"\n",
    ").resolve(strict=True)\n",
    "\n",
    "df1 = pd.read_parquet(file_path)\n",
    "\n",
    "df_no_fs_path = pathlib.Path(\n",
    "    f\"../../../data/{mlp_params.CELL_TYPE}_sc.parquet\"\n",
    ").resolve(strict=True)\n",
    "df_no_fs = pd.read_parquet(df_no_fs_path)"
   ]
  },
  {
   "cell_type": "code",
   "execution_count": 6,
   "id": "40f16af8",
   "metadata": {},
   "outputs": [
    {
     "data": {
      "text/plain": [
       "0"
      ]
     },
     "execution_count": 6,
     "metadata": {},
     "output_type": "execute_result"
    }
   ],
   "source": [
    "df1[\"Metadata_Nuclei_Location_Center_X\"] = df_no_fs[\"Nuclei_Location_Center_X\"]\n",
    "df1[\"Metadata_Nuclei_Location_Center_Y\"] = df_no_fs[\"Nuclei_Location_Center_Y\"]\n",
    "df1[\"Metadata_Cytoplasm_AreaShape_BoundingBoxMaximum_X\"] = df_no_fs[\n",
    "    \"Cytoplasm_AreaShape_BoundingBoxMaximum_X\"\n",
    "]\n",
    "df1[\"Metadata_Cytoplasm_AreaShape_BoundingBoxMaximum_Y\"] = df_no_fs[\n",
    "    \"Cytoplasm_AreaShape_BoundingBoxMaximum_Y\"\n",
    "]\n",
    "df1[\"Metadata_Cytoplasm_AreaShape_BoundingBoxMinimum_X\"] = df_no_fs[\n",
    "    \"Cytoplasm_AreaShape_BoundingBoxMinimum_X\"\n",
    "]\n",
    "df1[\"Metadata_Cytoplasm_AreaShape_BoundingBoxMinimum_Y\"] = df_no_fs[\n",
    "    \"Cytoplasm_AreaShape_BoundingBoxMinimum_Y\"\n",
    "]\n",
    "\n",
    "df1[\"Metadata_Site\"] = df_no_fs[\"Metadata_Site\"]\n",
    "\n",
    "del df_no_fs\n",
    "gc.collect()"
   ]
  },
  {
   "cell_type": "code",
   "execution_count": 7,
   "id": "6c372a03",
   "metadata": {
    "execution": {
     "iopub.execute_input": "2023-11-13T03:46:38.510926Z",
     "iopub.status.busy": "2023-11-13T03:46:38.510590Z",
     "iopub.status.idle": "2023-11-13T03:46:38.515770Z",
     "shell.execute_reply": "2023-11-13T03:46:38.515225Z"
    },
    "papermill": {
     "duration": 0.014971,
     "end_time": "2023-11-13T03:46:38.517006",
     "exception": false,
     "start_time": "2023-11-13T03:46:38.502035",
     "status": "completed"
    },
    "tags": []
   },
   "outputs": [],
   "source": [
    "# get paths for toml files\n",
    "ground_truth_file_path = pathlib.Path(f\"../../MLP_utils/ground_truth.toml\").resolve(\n",
    "    strict=True\n",
    ")\n",
    "treatment_splits_file_path = pathlib.Path(f\"../../MLP_utils/splits.toml\").resolve(\n",
    "    strict=True\n",
    ")\n",
    "# read toml files\n",
    "ground_truth = toml.load(ground_truth_file_path)\n",
    "treatment_splits = toml.load(treatment_splits_file_path)"
   ]
  },
  {
   "cell_type": "code",
   "execution_count": 8,
   "id": "63523a09",
   "metadata": {
    "execution": {
     "iopub.execute_input": "2023-11-13T03:46:38.533853Z",
     "iopub.status.busy": "2023-11-13T03:46:38.533375Z",
     "iopub.status.idle": "2023-11-13T03:46:38.536081Z",
     "shell.execute_reply": "2023-11-13T03:46:38.535698Z"
    },
    "papermill": {
     "duration": 0.012175,
     "end_time": "2023-11-13T03:46:38.536982",
     "exception": false,
     "start_time": "2023-11-13T03:46:38.524807",
     "status": "completed"
    },
    "tags": []
   },
   "outputs": [],
   "source": [
    "# get information from toml files\n",
    "apoptosis_groups_list = ground_truth[\"Apoptosis\"][\"apoptosis_groups_list\"]\n",
    "pyroptosis_groups_list = ground_truth[\"Pyroptosis\"][\"pyroptosis_groups_list\"]\n",
    "healthy_groups_list = ground_truth[\"Healthy\"][\"healthy_groups_list\"]"
   ]
  },
  {
   "cell_type": "markdown",
   "id": "7c5e28b5",
   "metadata": {
    "papermill": {
     "duration": 0.007627,
     "end_time": "2023-11-13T03:46:38.552274",
     "exception": false,
     "start_time": "2023-11-13T03:46:38.544647",
     "status": "completed"
    },
    "tags": []
   },
   "source": [
    "#### Set up Data to be compatible with model"
   ]
  },
  {
   "cell_type": "markdown",
   "id": "5efd38f4",
   "metadata": {
    "papermill": {
     "duration": 0.00759,
     "end_time": "2023-11-13T03:46:38.567493",
     "exception": false,
     "start_time": "2023-11-13T03:46:38.559903",
     "status": "completed"
    },
    "tags": []
   },
   "source": [
    "##### Classification Models:\n",
    "Comment out code if using regression"
   ]
  },
  {
   "cell_type": "code",
   "execution_count": 9,
   "id": "892c99cb",
   "metadata": {
    "execution": {
     "iopub.execute_input": "2023-11-13T03:46:38.583852Z",
     "iopub.status.busy": "2023-11-13T03:46:38.583443Z",
     "iopub.status.idle": "2023-11-13T03:46:38.586992Z",
     "shell.execute_reply": "2023-11-13T03:46:38.586604Z"
    },
    "papermill": {
     "duration": 0.012778,
     "end_time": "2023-11-13T03:46:38.587892",
     "exception": false,
     "start_time": "2023-11-13T03:46:38.575114",
     "status": "completed"
    },
    "tags": []
   },
   "outputs": [
    {
     "name": "stdout",
     "output_type": "stream",
     "text": [
      "Data Subset Is Off\n"
     ]
    }
   ],
   "source": [
    "np.random.seed(0)\n",
    "if ast.literal_eval(mlp_params.DATA_SUBSET_OPTION):\n",
    "    df1 = df1.groupby(\"oneb_Metadata_Treatment_Dose_Inhibitor_Dose\").apply(\n",
    "        lambda x: x.sample(n=mlp_params.DATA_SUBSET_NUMBER, random_state=0)\n",
    "    )\n",
    "    print(\"Data Subset Is On\")\n",
    "    print(f\"Data is subset to {mlp_params.DATA_SUBSET_NUMBER} per treatment group\")\n",
    "    print(df1.shape)\n",
    "    df1.reset_index(drop=True, inplace=True)\n",
    "else:\n",
    "    print(\"Data Subset Is Off\")"
   ]
  },
  {
   "cell_type": "code",
   "execution_count": 10,
   "id": "48b83d0d",
   "metadata": {
    "execution": {
     "iopub.execute_input": "2023-11-13T03:22:33.025827Z",
     "iopub.status.busy": "2023-11-13T03:22:33.025490Z",
     "iopub.status.idle": "2023-11-13T03:36:58.170038Z",
     "shell.execute_reply": "2023-11-13T03:36:58.169419Z"
    },
    "papermill": {
     "duration": null,
     "end_time": null,
     "exception": false,
     "start_time": "2023-11-13T03:46:38.595635",
     "status": "running"
    },
    "tags": []
   },
   "outputs": [],
   "source": [
    "# add apoptosis, pyroptosis and healthy columns to dataframe\n",
    "df1[\"apoptosis\"] = df1.apply(\n",
    "    lambda row: row[\"oneb_Metadata_Treatment_Dose_Inhibitor_Dose\"]\n",
    "    in apoptosis_groups_list,\n",
    "    axis=1,\n",
    ")\n",
    "df1[\"pyroptosis\"] = df1.apply(\n",
    "    lambda row: row[\"oneb_Metadata_Treatment_Dose_Inhibitor_Dose\"]\n",
    "    in pyroptosis_groups_list,\n",
    "    axis=1,\n",
    ")\n",
    "df1[\"healthy\"] = df1.apply(\n",
    "    lambda row: row[\"oneb_Metadata_Treatment_Dose_Inhibitor_Dose\"]\n",
    "    in healthy_groups_list,\n",
    "    axis=1,\n",
    ")\n",
    "\n",
    "# merge apoptosis, pyroptosis, and healthy columns into one column\n",
    "df1[\"labels\"] = df1.apply(\n",
    "    lambda row: \"apoptosis\"\n",
    "    if row[\"apoptosis\"]\n",
    "    else \"pyroptosis\"\n",
    "    if row[\"pyroptosis\"]\n",
    "    else \"healthy\",\n",
    "    axis=1,\n",
    ")\n",
    "# # drop apoptosis, pyroptosis, and healthy columns\n",
    "df1.drop(columns=[\"apoptosis\", \"pyroptosis\", \"healthy\"], inplace=True)"
   ]
  },
  {
   "cell_type": "code",
   "execution_count": 11,
   "id": "615a24e0",
   "metadata": {
    "execution": {
     "iopub.execute_input": "2023-11-13T03:36:58.231714Z",
     "iopub.status.busy": "2023-11-13T03:36:58.231431Z",
     "iopub.status.idle": "2023-11-13T03:36:58.299402Z",
     "shell.execute_reply": "2023-11-13T03:36:58.298842Z"
    },
    "papermill": {
     "duration": null,
     "end_time": null,
     "exception": null,
     "start_time": null,
     "status": "pending"
    },
    "tags": []
   },
   "outputs": [
    {
     "data": {
      "text/html": [
       "<div>\n",
       "<style scoped>\n",
       "    .dataframe tbody tr th:only-of-type {\n",
       "        vertical-align: middle;\n",
       "    }\n",
       "\n",
       "    .dataframe tbody tr th {\n",
       "        vertical-align: top;\n",
       "    }\n",
       "\n",
       "    .dataframe thead th {\n",
       "        text-align: right;\n",
       "    }\n",
       "</style>\n",
       "<table border=\"1\" class=\"dataframe\">\n",
       "  <thead>\n",
       "    <tr style=\"text-align: right;\">\n",
       "      <th></th>\n",
       "      <th>labeled_data_index</th>\n",
       "      <th>label</th>\n",
       "    </tr>\n",
       "  </thead>\n",
       "  <tbody>\n",
       "    <tr>\n",
       "      <th>0</th>\n",
       "      <td>248522</td>\n",
       "      <td>train</td>\n",
       "    </tr>\n",
       "    <tr>\n",
       "      <th>1</th>\n",
       "      <td>478672</td>\n",
       "      <td>train</td>\n",
       "    </tr>\n",
       "    <tr>\n",
       "      <th>2</th>\n",
       "      <td>265238</td>\n",
       "      <td>train</td>\n",
       "    </tr>\n",
       "    <tr>\n",
       "      <th>3</th>\n",
       "      <td>384826</td>\n",
       "      <td>train</td>\n",
       "    </tr>\n",
       "    <tr>\n",
       "      <th>4</th>\n",
       "      <td>31898</td>\n",
       "      <td>train</td>\n",
       "    </tr>\n",
       "  </tbody>\n",
       "</table>\n",
       "</div>"
      ],
      "text/plain": [
       "   labeled_data_index  label\n",
       "0              248522  train\n",
       "1              478672  train\n",
       "2              265238  train\n",
       "3              384826  train\n",
       "4               31898  train"
      ]
     },
     "execution_count": 11,
     "metadata": {},
     "output_type": "execute_result"
    }
   ],
   "source": [
    "# set path for index file\n",
    "index_file_path = pathlib.Path(\n",
    "    f\"../../0.hyperparameter_optimization/indexes/{params.CELL_TYPE}/multi_class/{params.MODEL_NAME}_data_split_indexes.tsv\"\n",
    ").resolve(strict=True)\n",
    "\n",
    "# read index file\n",
    "index_df = pd.read_csv(index_file_path, sep=\"\\t\")\n",
    "index_df.head()"
   ]
  },
  {
   "cell_type": "code",
   "execution_count": 12,
   "id": "d7eb7489",
   "metadata": {
    "execution": {
     "iopub.execute_input": "2023-11-13T03:36:58.317279Z",
     "iopub.status.busy": "2023-11-13T03:36:58.316855Z",
     "iopub.status.idle": "2023-11-13T03:36:58.439495Z",
     "shell.execute_reply": "2023-11-13T03:36:58.438949Z"
    },
    "papermill": {
     "duration": null,
     "end_time": null,
     "exception": null,
     "start_time": null,
     "status": "pending"
    },
    "tags": []
   },
   "outputs": [
    {
     "name": "stdout",
     "output_type": "stream",
     "text": [
      "(152275,) (38069,) (202050,) 392394     93196\n",
      "392395     93197\n",
      "392396     93198\n",
      "392397     93199\n",
      "392398     93200\n",
      "           ...  \n",
      "446996    594342\n",
      "446997    594343\n",
      "446998    594344\n",
      "446999    594345\n",
      "447000    594346\n",
      "Name: labeled_data_index, Length: 54607, dtype: int64 (150901,)\n"
     ]
    }
   ],
   "source": [
    "# get train, validation, test, and holdout indexes\n",
    "train_indexes = index_df.loc[index_df[\"label\"] == \"train\"][\"labeled_data_index\"]\n",
    "val_indexes = index_df.loc[index_df[\"label\"] == \"val\"][\"labeled_data_index\"]\n",
    "test_indexes = index_df.loc[index_df[\"label\"] == \"test\"][\"labeled_data_index\"]\n",
    "treatment_holdout = index_df.loc[index_df[\"label\"] == \"treatment_holdout\"][\n",
    "    \"labeled_data_index\"\n",
    "]\n",
    "holdout_indexes = index_df.loc[index_df[\"label\"] == \"holdout\"][\"labeled_data_index\"]\n",
    "print(\n",
    "    train_indexes.shape,\n",
    "    val_indexes.shape,\n",
    "    test_indexes.shape,\n",
    "    treatment_holdout,\n",
    "    holdout_indexes.shape,\n",
    ")\n",
    "\n",
    "assert (\n",
    "    train_indexes.shape[0]\n",
    "    + val_indexes.shape[0]\n",
    "    + test_indexes.shape[0]\n",
    "    + treatment_holdout.shape[0]\n",
    "    + holdout_indexes.shape[0]\n",
    ") == index_df.shape[0]"
   ]
  },
  {
   "cell_type": "code",
   "execution_count": 13,
   "id": "3d9db49e",
   "metadata": {
    "execution": {
     "iopub.execute_input": "2023-11-13T03:36:58.457224Z",
     "iopub.status.busy": "2023-11-13T03:36:58.456928Z",
     "iopub.status.idle": "2023-11-13T03:37:05.029867Z",
     "shell.execute_reply": "2023-11-13T03:37:05.029317Z"
    },
    "papermill": {
     "duration": null,
     "end_time": null,
     "exception": null,
     "start_time": null,
     "status": "pending"
    },
    "tags": []
   },
   "outputs": [
    {
     "name": "stderr",
     "output_type": "stream",
     "text": [
      "/tmp/ipykernel_2802345/2522821119.py:6: SettingWithCopyWarning: \n",
      "A value is trying to be set on a copy of a slice from a DataFrame.\n",
      "Try using .loc[row_indexer,col_indexer] = value instead\n",
      "\n",
      "See the caveats in the documentation: https://pandas.pydata.org/pandas-docs/stable/user_guide/indexing.html#returning-a-view-versus-a-copy\n",
      "  df_descriptive[\"labels\"] = df1[\"labels\"]\n"
     ]
    }
   ],
   "source": [
    "# Code snippet for metadata extraction by Jenna Tomkinson\n",
    "df_metadata = list(df1.columns[df1.columns.str.startswith(\"Metadata\")])\n",
    "\n",
    "# define which columns are data and which are descriptive\n",
    "df_descriptive = df1[df_metadata]\n",
    "df_descriptive[\"labels\"] = df1[\"labels\"]\n",
    "df_values = df1.drop(columns=df_metadata)"
   ]
  },
  {
   "cell_type": "code",
   "execution_count": 14,
   "id": "8924c31e",
   "metadata": {
    "execution": {
     "iopub.execute_input": "2023-11-13T03:37:05.052514Z",
     "iopub.status.busy": "2023-11-13T03:37:05.052246Z",
     "iopub.status.idle": "2023-11-13T03:37:12.172056Z",
     "shell.execute_reply": "2023-11-13T03:37:12.171584Z"
    },
    "papermill": {
     "duration": null,
     "end_time": null,
     "exception": null,
     "start_time": null,
     "status": "pending"
    },
    "tags": []
   },
   "outputs": [
    {
     "name": "stderr",
     "output_type": "stream",
     "text": [
      "/tmp/ipykernel_2802345/2910622580.py:21: SettingWithCopyWarning: \n",
      "A value is trying to be set on a copy of a slice from a DataFrame\n",
      "\n",
      "See the caveats in the documentation: https://pandas.pydata.org/pandas-docs/stable/user_guide/indexing.html#returning-a-view-versus-a-copy\n",
      "  df_labels.drop_duplicates(inplace=True)\n"
     ]
    }
   ],
   "source": [
    "# Creating label encoder\n",
    "le = preprocessing.LabelEncoder()\n",
    "# Converting strings into numbers\n",
    "df_values[\"new_labels\"] = le.fit_transform(df_values[\"labels\"])\n",
    "# get mini dataframe that contains the decoder\n",
    "df_labels = df_values[[\"labels\", \"new_labels\"]]\n",
    "# split into X and Y where Y are the predictive column and x are the observable data\n",
    "df_values_X = df_values.drop(\n",
    "    [\n",
    "        \"oneb_Metadata_Treatment_Dose_Inhibitor_Dose\",\n",
    "        \"twob_Metadata_Treatment_Dose_Inhibitor_Dose\",\n",
    "        \"threeb_Metadata_Treatment_Dose_Inhibitor_Dose\",\n",
    "        \"fourb_Metadata_Treatment_Dose_Inhibitor_Dose\",\n",
    "        \"labels\",\n",
    "        \"new_labels\",\n",
    "    ],\n",
    "    axis=1,\n",
    ")\n",
    "df_values_Y = df_values[\"new_labels\"]\n",
    "df_values_Y.unique()\n",
    "df_labels.drop_duplicates(inplace=True)\n",
    "# pandas chaining to reset index and drop old index\n",
    "df_labels.reset_index(drop=True, inplace=True)"
   ]
  },
  {
   "cell_type": "code",
   "execution_count": 15,
   "id": "b18afc16",
   "metadata": {
    "execution": {
     "iopub.execute_input": "2023-11-13T03:37:12.193904Z",
     "iopub.status.busy": "2023-11-13T03:37:12.193605Z",
     "iopub.status.idle": "2023-11-13T03:37:12.196539Z",
     "shell.execute_reply": "2023-11-13T03:37:12.196160Z"
    },
    "papermill": {
     "duration": null,
     "end_time": null,
     "exception": null,
     "start_time": null,
     "status": "pending"
    },
    "tags": []
   },
   "outputs": [
    {
     "name": "stdout",
     "output_type": "stream",
     "text": [
      "(152275,) (38069,) (202050,) 392394     93196\n",
      "392395     93197\n",
      "392396     93198\n",
      "392397     93199\n",
      "392398     93200\n",
      "           ...  \n",
      "446996    594342\n",
      "446997    594343\n",
      "446998    594344\n",
      "446999    594345\n",
      "447000    594346\n",
      "Name: labeled_data_index, Length: 54607, dtype: int64 (150901,)\n",
      "597902\n"
     ]
    }
   ],
   "source": [
    "print(\n",
    "    train_indexes.shape,\n",
    "    val_indexes.shape,\n",
    "    test_indexes.shape,\n",
    "    treatment_holdout,\n",
    "    holdout_indexes.shape,\n",
    ")\n",
    "print(\n",
    "    train_indexes.shape[0]\n",
    "    + val_indexes.shape[0]\n",
    "    + test_indexes.shape[0]\n",
    "    + treatment_holdout.shape[0]\n",
    "    + holdout_indexes.shape[0]\n",
    ")"
   ]
  },
  {
   "cell_type": "code",
   "execution_count": 16,
   "id": "84c24e0f",
   "metadata": {
    "execution": {
     "iopub.execute_input": "2023-11-13T03:37:12.213904Z",
     "iopub.status.busy": "2023-11-13T03:37:12.213628Z",
     "iopub.status.idle": "2023-11-13T03:37:14.457835Z",
     "shell.execute_reply": "2023-11-13T03:37:14.457329Z"
    },
    "papermill": {
     "duration": null,
     "end_time": null,
     "exception": null,
     "start_time": null,
     "status": "pending"
    },
    "tags": []
   },
   "outputs": [],
   "source": [
    "# get the train, validation, test, and holdout dataframes from the indexes\n",
    "X_train = df_values_X.iloc[train_indexes.values]\n",
    "X_val = df_values_X.iloc[val_indexes.values]\n",
    "X_test = df_values_X.iloc[test_indexes.values]\n",
    "X_treatment_holdout = df_values_X.iloc[treatment_holdout.values]\n",
    "X_holdout = df_values_X.iloc[holdout_indexes.values]\n",
    "\n",
    "Y_train = df_values_Y.iloc[train_indexes.values]\n",
    "Y_val = df_values_Y.iloc[val_indexes.values]\n",
    "Y_test = df_values_Y.iloc[test_indexes.values]\n",
    "Y_treatment_holdout = df_values_Y.iloc[treatment_holdout.values]\n",
    "Y_holdout = df_values_Y.iloc[holdout_indexes.values]\n",
    "\n",
    "metadata_train = df_descriptive.iloc[train_indexes.values]\n",
    "metadata_val = df_descriptive.iloc[val_indexes.values]\n",
    "metadata_test = df_descriptive.iloc[test_indexes.values]\n",
    "metadata_treatment_holdout = df_descriptive.iloc[treatment_holdout.values]\n",
    "metadata_holdout = df_descriptive.iloc[holdout_indexes.values]"
   ]
  },
  {
   "cell_type": "code",
   "execution_count": 17,
   "id": "ea706992",
   "metadata": {
    "execution": {
     "iopub.execute_input": "2023-11-13T03:37:14.478143Z",
     "iopub.status.busy": "2023-11-13T03:37:14.477912Z",
     "iopub.status.idle": "2023-11-13T03:37:14.487042Z",
     "shell.execute_reply": "2023-11-13T03:37:14.486667Z"
    },
    "papermill": {
     "duration": null,
     "end_time": null,
     "exception": null,
     "start_time": null,
     "status": "pending"
    },
    "tags": []
   },
   "outputs": [
    {
     "name": "stdout",
     "output_type": "stream",
     "text": [
      "(7972,) (89086,) (55217,)\n",
      "(1993,) (22273,) (13803,)\n",
      "(9965,) (111360,) (80725,)\n",
      "(0,) (0,) (54607,)\n",
      "(7048,) (73054,) (70799,)\n"
     ]
    }
   ],
   "source": [
    "print(\n",
    "    Y_train[Y_train == 0].shape,\n",
    "    Y_train[Y_train == 1].shape,\n",
    "    Y_train[Y_train == 2].shape,\n",
    ")\n",
    "print(Y_val[Y_val == 0].shape, Y_val[Y_val == 1].shape, Y_val[Y_val == 2].shape)\n",
    "print(Y_test[Y_test == 0].shape, Y_test[Y_test == 1].shape, Y_test[Y_test == 2].shape)\n",
    "print(\n",
    "    Y_treatment_holdout[Y_treatment_holdout == 0].shape,\n",
    "    Y_treatment_holdout[Y_treatment_holdout == 1].shape,\n",
    "    Y_treatment_holdout[Y_treatment_holdout == 2].shape,\n",
    ")\n",
    "print(\n",
    "    Y_holdout[Y_holdout == 0].shape,\n",
    "    Y_holdout[Y_holdout == 1].shape,\n",
    "    Y_holdout[Y_holdout == 2].shape,\n",
    ")"
   ]
  },
  {
   "cell_type": "code",
   "execution_count": 18,
   "id": "99dc42ca",
   "metadata": {
    "execution": {
     "iopub.execute_input": "2023-11-13T03:37:14.504746Z",
     "iopub.status.busy": "2023-11-13T03:37:14.504457Z",
     "iopub.status.idle": "2023-11-13T03:37:14.507803Z",
     "shell.execute_reply": "2023-11-13T03:37:14.507423Z"
    },
    "papermill": {
     "duration": null,
     "end_time": null,
     "exception": null,
     "start_time": null,
     "status": "pending"
    },
    "tags": []
   },
   "outputs": [],
   "source": [
    "# reset indexes for all dataframes\n",
    "X_train.reset_index(drop=True, inplace=True)\n",
    "X_val.reset_index(drop=True, inplace=True)\n",
    "X_test.reset_index(drop=True, inplace=True)\n",
    "X_treatment_holdout.reset_index(drop=True, inplace=True)\n",
    "X_holdout.reset_index(drop=True, inplace=True)\n",
    "\n",
    "Y_train.reset_index(drop=True, inplace=True)\n",
    "Y_val.reset_index(drop=True, inplace=True)\n",
    "Y_test.reset_index(drop=True, inplace=True)\n",
    "Y_treatment_holdout.reset_index(drop=True, inplace=True)\n",
    "Y_holdout.reset_index(drop=True, inplace=True)"
   ]
  },
  {
   "cell_type": "code",
   "execution_count": 19,
   "id": "91c0f8c0",
   "metadata": {
    "execution": {
     "iopub.execute_input": "2023-11-13T03:37:14.525385Z",
     "iopub.status.busy": "2023-11-13T03:37:14.525116Z",
     "iopub.status.idle": "2023-11-13T03:37:14.527731Z",
     "shell.execute_reply": "2023-11-13T03:37:14.527355Z"
    },
    "papermill": {
     "duration": null,
     "end_time": null,
     "exception": null,
     "start_time": null,
     "status": "pending"
    },
    "tags": []
   },
   "outputs": [
    {
     "name": "stdout",
     "output_type": "stream",
     "text": [
      "(152275, 1251) (38069, 1251) (202050, 1251) (54607, 1251) (150901, 1251)\n",
      "(152275,) (38069,) (202050,) (54607,) (150901,)\n"
     ]
    }
   ],
   "source": [
    "print(\n",
    "    X_train.shape, X_val.shape, X_test.shape, X_treatment_holdout.shape, X_holdout.shape\n",
    ")\n",
    "print(\n",
    "    Y_train.shape, Y_val.shape, Y_test.shape, Y_treatment_holdout.shape, Y_holdout.shape\n",
    ")"
   ]
  },
  {
   "cell_type": "markdown",
   "id": "fddc7c36",
   "metadata": {},
   "source": [
    "#### Shuffle Data\n"
   ]
  },
  {
   "cell_type": "code",
   "execution_count": 20,
   "id": "30dd3ed1",
   "metadata": {},
   "outputs": [],
   "source": [
    "np.random.seed(0)\n",
    "\n",
    "if SHUFFLE:\n",
    "    print(\"Shuffling Data\")\n",
    "    for column in X_train.columns:\n",
    "        X_train[column] = np.random.permutation(X_train[column].values)"
   ]
  },
  {
   "cell_type": "markdown",
   "id": "4dfa9d10",
   "metadata": {
    "papermill": {
     "duration": null,
     "end_time": null,
     "exception": null,
     "start_time": null,
     "status": "pending"
    },
    "tags": []
   },
   "source": [
    "#### Split Data - All Models can proceed through this point"
   ]
  },
  {
   "cell_type": "code",
   "execution_count": 21,
   "id": "af3c3a87",
   "metadata": {},
   "outputs": [
    {
     "name": "stdout",
     "output_type": "stream",
     "text": [
      "3\n"
     ]
    }
   ],
   "source": [
    "mlp_params.OUT_FEATURES = Y_train.unique().shape[0]\n",
    "print(mlp_params.OUT_FEATURES)"
   ]
  },
  {
   "cell_type": "code",
   "execution_count": 22,
   "id": "8a0e1806",
   "metadata": {},
   "outputs": [],
   "source": [
    "Y_train = torch.tensor(Y_train.values)\n",
    "Y_train = torch.nn.functional.one_hot(\n",
    "    Y_train, num_classes=mlp_params.OUT_FEATURES\n",
    ").float()\n",
    "\n",
    "Y_val = torch.tensor(Y_val.values)\n",
    "Y_val = torch.nn.functional.one_hot(Y_val, num_classes=mlp_params.OUT_FEATURES).float()\n",
    "\n",
    "Y_test = torch.tensor(Y_test.values)\n",
    "Y_test = torch.nn.functional.one_hot(\n",
    "    Y_test, num_classes=mlp_params.OUT_FEATURES\n",
    ").float()\n",
    "\n",
    "Y_holdout = torch.tensor(Y_holdout.values)\n",
    "Y_holdout = torch.nn.functional.one_hot(\n",
    "    Y_holdout, num_classes=mlp_params.OUT_FEATURES\n",
    ").float()\n",
    "\n",
    "Y_treatment_holdout = torch.tensor(Y_treatment_holdout.values)\n",
    "Y_treatment_holdout = torch.nn.functional.one_hot(\n",
    "    Y_treatment_holdout, num_classes=mlp_params.OUT_FEATURES\n",
    ").float()\n",
    "\n",
    "# convert the X dataframes to tensors\n",
    "X_train = torch.tensor(X_train.values)\n",
    "X_val = torch.tensor(X_val.values)\n",
    "X_test = torch.tensor(X_test.values)\n",
    "X_holdout = torch.tensor(X_holdout.values)\n",
    "X_treatment_holdout = torch.tensor(X_treatment_holdout.values)"
   ]
  },
  {
   "cell_type": "code",
   "execution_count": 23,
   "id": "671d27c1",
   "metadata": {},
   "outputs": [],
   "source": [
    "# produce data objects for train, val and test datasets\n",
    "train_data = torch.utils.data.TensorDataset(X_train, Y_train)\n",
    "val_data = torch.utils.data.TensorDataset(X_val, Y_val)\n",
    "test_data = torch.utils.data.TensorDataset(X_test, Y_test)"
   ]
  },
  {
   "cell_type": "code",
   "execution_count": 24,
   "id": "7c628ee1",
   "metadata": {
    "execution": {
     "iopub.execute_input": "2023-11-13T03:37:14.715138Z",
     "iopub.status.busy": "2023-11-13T03:37:14.714939Z",
     "iopub.status.idle": "2023-11-13T03:37:14.905206Z",
     "shell.execute_reply": "2023-11-13T03:37:14.904707Z"
    },
    "papermill": {
     "duration": null,
     "end_time": null,
     "exception": null,
     "start_time": null,
     "status": "pending"
    },
    "tags": []
   },
   "outputs": [
    {
     "name": "stdout",
     "output_type": "stream",
     "text": [
      "Number of in features:  1251\n",
      "Number of out features:  3\n",
      "Multi_Class\n"
     ]
    }
   ],
   "source": [
    "mlp_params.IN_FEATURES = X_train.shape[1]\n",
    "print(\"Number of in features: \", mlp_params.IN_FEATURES)\n",
    "if mlp_params.MODEL_TYPE == \"Regression\":\n",
    "    mlp_params.OUT_FEATURES = 1\n",
    "else:\n",
    "    mlp_params.OUT_FEATURES = len(df_values[\"labels\"].unique())\n",
    "\n",
    "print(\"Number of out features: \", mlp_params.OUT_FEATURES)\n",
    "\n",
    "if mlp_params.OUT_FEATURES > 2:\n",
    "    mlp_params.MODEL_TYPE = \"Multi_Class\"\n",
    "elif mlp_params.OUT_FEATURES == 2:\n",
    "    mlp_params.OUT_FEATURES = mlp_params.OUT_FEATURES - 1\n",
    "    mlp_params.MODEL_TYPE = \"Binary_Classification\"\n",
    "elif mlp_params.OUT_FEATURES == 1:\n",
    "    mlp_params.MODEL_TYPE = \"Regression\"\n",
    "else:\n",
    "    pass\n",
    "print(mlp_params.MODEL_TYPE)"
   ]
  },
  {
   "cell_type": "code",
   "execution_count": 25,
   "id": "35e3c505",
   "metadata": {
    "execution": {
     "iopub.execute_input": "2023-11-13T03:37:14.923652Z",
     "iopub.status.busy": "2023-11-13T03:37:14.923418Z",
     "iopub.status.idle": "2023-11-13T03:37:14.926694Z",
     "shell.execute_reply": "2023-11-13T03:37:14.926322Z"
    },
    "papermill": {
     "duration": null,
     "end_time": null,
     "exception": null,
     "start_time": null,
     "status": "pending"
    },
    "tags": []
   },
   "outputs": [],
   "source": [
    "# convert data class into a dataloader to be compatible with pytorch\n",
    "train_loader = torch.utils.data.DataLoader(\n",
    "    dataset=train_data, batch_size=mlp_params.BATCH_SIZE, shuffle=True\n",
    ")\n",
    "valid_loader = torch.utils.data.DataLoader(\n",
    "    dataset=val_data, batch_size=mlp_params.BATCH_SIZE, shuffle=False\n",
    ")\n",
    "test_loader = torch.utils.data.DataLoader(\n",
    "    dataset=test_data, batch_size=1, shuffle=False\n",
    ")"
   ]
  },
  {
   "cell_type": "code",
   "execution_count": 26,
   "id": "4ab763c4",
   "metadata": {
    "execution": {
     "iopub.execute_input": "2023-11-13T03:37:14.945223Z",
     "iopub.status.busy": "2023-11-13T03:37:14.944639Z",
     "iopub.status.idle": "2023-11-13T03:45:26.118958Z",
     "shell.execute_reply": "2023-11-13T03:45:26.118478Z"
    },
    "papermill": {
     "duration": null,
     "end_time": null,
     "exception": null,
     "start_time": null,
     "status": "pending"
    },
    "tags": []
   },
   "outputs": [
    {
     "name": "stdout",
     "output_type": "stream",
     "text": [
      "SGD\n",
      "Epoch 0: Validation loss decreased (inf --> 0.313436).  Saving model ...\n",
      "\t Train_Loss: 0.3520 Train_Acc: 0.001 Val_Loss: 0.3134  BEST VAL Loss: 0.3134  Val_Acc: 0.000\n",
      "\n",
      "Epoch 1: Validation loss decreased (0.313436 --> 0.306284).  Saving model ...\n",
      "\t Train_Loss: 0.3337 Train_Acc: 0.000 Val_Loss: 0.3063  BEST VAL Loss: 0.3063  Val_Acc: 0.000\n",
      "\n",
      "Epoch 2: Validation loss decreased (0.306284 --> 0.302595).  Saving model ...\n",
      "\t Train_Loss: 0.3233 Train_Acc: 0.000 Val_Loss: 0.3026  BEST VAL Loss: 0.3026  Val_Acc: 0.000\n",
      "\n",
      "Epoch 3: Validation loss decreased (0.302595 --> 0.298606).  Saving model ...\n",
      "\t Train_Loss: 0.3162 Train_Acc: 0.001 Val_Loss: 0.2986  BEST VAL Loss: 0.2986  Val_Acc: 0.000\n",
      "\n",
      "Epoch 4: Validation loss decreased (0.298606 --> 0.297561).  Saving model ...\n",
      "\t Train_Loss: 0.3109 Train_Acc: 0.000 Val_Loss: 0.2976  BEST VAL Loss: 0.2976  Val_Acc: 0.000\n",
      "\n",
      "Epoch 5: Validation loss decreased (0.297561 --> 0.296257).  Saving model ...\n",
      "\t Train_Loss: 0.3064 Train_Acc: 0.000 Val_Loss: 0.2963  BEST VAL Loss: 0.2963  Val_Acc: 0.000\n",
      "\n",
      "Epoch 6: Validation loss decreased (0.296257 --> 0.295021).  Saving model ...\n",
      "\t Train_Loss: 0.3027 Train_Acc: 0.001 Val_Loss: 0.2950  BEST VAL Loss: 0.2950  Val_Acc: 0.000\n",
      "\n",
      "Epoch 7: Validation loss decreased (0.295021 --> 0.293299).  Saving model ...\n",
      "\t Train_Loss: 0.2994 Train_Acc: 0.000 Val_Loss: 0.2933  BEST VAL Loss: 0.2933  Val_Acc: 0.000\n",
      "\n",
      "Epoch 8: Validation loss decreased (0.293299 --> 0.291845).  Saving model ...\n",
      "\t Train_Loss: 0.2966 Train_Acc: 0.000 Val_Loss: 0.2918  BEST VAL Loss: 0.2918  Val_Acc: 0.000\n",
      "\n",
      "Epoch 9: Validation loss decreased (0.291845 --> 0.291392).  Saving model ...\n",
      "\t Train_Loss: 0.2940 Train_Acc: 0.001 Val_Loss: 0.2914  BEST VAL Loss: 0.2914  Val_Acc: 0.000\n",
      "\n",
      "Epoch 10: Validation loss decreased (0.291392 --> 0.291054).  Saving model ...\n",
      "\t Train_Loss: 0.2917 Train_Acc: 0.000 Val_Loss: 0.2911  BEST VAL Loss: 0.2911  Val_Acc: 0.000\n",
      "\n",
      "Epoch 11: Validation loss decreased (0.291054 --> 0.290000).  Saving model ...\n",
      "\t Train_Loss: 0.2895 Train_Acc: 0.000 Val_Loss: 0.2900  BEST VAL Loss: 0.2900  Val_Acc: 0.000\n",
      "\n",
      "Epoch 12: Validation loss decreased (0.290000 --> 0.289240).  Saving model ...\n",
      "\t Train_Loss: 0.2876 Train_Acc: 0.000 Val_Loss: 0.2892  BEST VAL Loss: 0.2892  Val_Acc: 0.000\n",
      "\n",
      "Epoch 13: Validation loss decreased (0.289240 --> 0.288442).  Saving model ...\n",
      "\t Train_Loss: 0.2857 Train_Acc: 0.000 Val_Loss: 0.2884  BEST VAL Loss: 0.2884  Val_Acc: 0.000\n",
      "\n",
      "Epoch 14: Validation loss decreased (0.288442 --> 0.287703).  Saving model ...\n",
      "\t Train_Loss: 0.2841 Train_Acc: 0.000 Val_Loss: 0.2877  BEST VAL Loss: 0.2877  Val_Acc: 0.000\n",
      "\n",
      "Epoch 15: Validation loss decreased (0.287703 --> 0.287200).  Saving model ...\n",
      "\t Train_Loss: 0.2825 Train_Acc: 0.000 Val_Loss: 0.2872  BEST VAL Loss: 0.2872  Val_Acc: 0.000\n",
      "\n",
      "Epoch 16: Validation loss decreased (0.287200 --> 0.287096).  Saving model ...\n",
      "\t Train_Loss: 0.2810 Train_Acc: 0.000 Val_Loss: 0.2871  BEST VAL Loss: 0.2871  Val_Acc: 0.000\n",
      "\n",
      "Epoch 17: Validation loss decreased (0.287096 --> 0.286551).  Saving model ...\n",
      "\t Train_Loss: 0.2796 Train_Acc: 0.000 Val_Loss: 0.2866  BEST VAL Loss: 0.2866  Val_Acc: 0.000\n",
      "\n",
      "Epoch 18: Validation loss decreased (0.286551 --> 0.286134).  Saving model ...\n",
      "\t Train_Loss: 0.2782 Train_Acc: 0.000 Val_Loss: 0.2861  BEST VAL Loss: 0.2861  Val_Acc: 0.000\n",
      "\n",
      "Epoch 19: Validation loss decreased (0.286134 --> 0.286112).  Saving model ...\n",
      "\t Train_Loss: 0.2770 Train_Acc: 0.000 Val_Loss: 0.2861  BEST VAL Loss: 0.2861  Val_Acc: 0.000\n",
      "\n",
      "Epoch 20: Validation loss decreased (0.286112 --> 0.285749).  Saving model ...\n",
      "\t Train_Loss: 0.2758 Train_Acc: 0.001 Val_Loss: 0.2857  BEST VAL Loss: 0.2857  Val_Acc: 0.000\n",
      "\n",
      "Epoch 21: Validation loss decreased (0.285749 --> 0.285099).  Saving model ...\n",
      "\t Train_Loss: 0.2746 Train_Acc: 0.000 Val_Loss: 0.2851  BEST VAL Loss: 0.2851  Val_Acc: 0.000\n",
      "\n",
      "Epoch 22: Validation loss decreased (0.285099 --> 0.284821).  Saving model ...\n",
      "\t Train_Loss: 0.2735 Train_Acc: 0.001 Val_Loss: 0.2848  BEST VAL Loss: 0.2848  Val_Acc: 0.000\n",
      "\n",
      "Epoch 23: Validation loss decreased (0.284821 --> 0.284467).  Saving model ...\n",
      "\t Train_Loss: 0.2725 Train_Acc: 0.000 Val_Loss: 0.2845  BEST VAL Loss: 0.2845  Val_Acc: 0.000\n",
      "\n",
      "Epoch 24: Validation loss decreased (0.284467 --> 0.283997).  Saving model ...\n",
      "\t Train_Loss: 0.2715 Train_Acc: 0.001 Val_Loss: 0.2840  BEST VAL Loss: 0.2840  Val_Acc: 0.000\n",
      "\n",
      "Epoch 25: Validation loss decreased (0.283997 --> 0.283714).  Saving model ...\n",
      "\t Train_Loss: 0.2705 Train_Acc: 0.001 Val_Loss: 0.2837  BEST VAL Loss: 0.2837  Val_Acc: 0.000\n",
      "\n",
      "Epoch 26: Validation loss decreased (0.283714 --> 0.283512).  Saving model ...\n",
      "\t Train_Loss: 0.2696 Train_Acc: 0.000 Val_Loss: 0.2835  BEST VAL Loss: 0.2835  Val_Acc: 0.000\n",
      "\n",
      "Epoch 27: Validation loss decreased (0.283512 --> 0.283187).  Saving model ...\n",
      "\t Train_Loss: 0.2687 Train_Acc: 0.000 Val_Loss: 0.2832  BEST VAL Loss: 0.2832  Val_Acc: 0.000\n",
      "\n",
      "Epoch 28: Validation loss decreased (0.283187 --> 0.282875).  Saving model ...\n",
      "\t Train_Loss: 0.2679 Train_Acc: 0.000 Val_Loss: 0.2829  BEST VAL Loss: 0.2829  Val_Acc: 0.000\n",
      "\n",
      "Epoch 29: Validation loss decreased (0.282875 --> 0.282613).  Saving model ...\n",
      "\t Train_Loss: 0.2670 Train_Acc: 0.000 Val_Loss: 0.2826  BEST VAL Loss: 0.2826  Val_Acc: 0.000\n",
      "\n",
      "Epoch 30: Validation loss decreased (0.282613 --> 0.282447).  Saving model ...\n",
      "\t Train_Loss: 0.2662 Train_Acc: 0.000 Val_Loss: 0.2824  BEST VAL Loss: 0.2824  Val_Acc: 0.003\n",
      "\n",
      "Epoch 31: Validation loss decreased (0.282447 --> 0.282315).  Saving model ...\n",
      "\t Train_Loss: 0.2654 Train_Acc: 0.001 Val_Loss: 0.2823  BEST VAL Loss: 0.2823  Val_Acc: 0.000\n",
      "\n",
      "Epoch 32: Validation loss decreased (0.282315 --> 0.282046).  Saving model ...\n",
      "\t Train_Loss: 0.2647 Train_Acc: 0.001 Val_Loss: 0.2820  BEST VAL Loss: 0.2820  Val_Acc: 0.000\n",
      "\n",
      "Epoch 33: Validation loss decreased (0.282046 --> 0.281844).  Saving model ...\n",
      "\t Train_Loss: 0.2639 Train_Acc: 0.000 Val_Loss: 0.2818  BEST VAL Loss: 0.2818  Val_Acc: 0.000\n",
      "\n",
      "Epoch 34: Validation loss decreased (0.281844 --> 0.281583).  Saving model ...\n",
      "\t Train_Loss: 0.2632 Train_Acc: 0.000 Val_Loss: 0.2816  BEST VAL Loss: 0.2816  Val_Acc: 0.000\n",
      "\n",
      "Epoch 35: Validation loss decreased (0.281583 --> 0.281456).  Saving model ...\n",
      "\t Train_Loss: 0.2625 Train_Acc: 0.000 Val_Loss: 0.2815  BEST VAL Loss: 0.2815  Val_Acc: 0.000\n",
      "\n",
      "Epoch 36: Validation loss decreased (0.281456 --> 0.281229).  Saving model ...\n",
      "\t Train_Loss: 0.2618 Train_Acc: 0.001 Val_Loss: 0.2812  BEST VAL Loss: 0.2812  Val_Acc: 0.003\n",
      "\n",
      "Epoch 37: Validation loss decreased (0.281229 --> 0.281060).  Saving model ...\n",
      "\t Train_Loss: 0.2611 Train_Acc: 0.000 Val_Loss: 0.2811  BEST VAL Loss: 0.2811  Val_Acc: 0.000\n",
      "\n",
      "Epoch 38: Validation loss decreased (0.281060 --> 0.280948).  Saving model ...\n",
      "\t Train_Loss: 0.2605 Train_Acc: 0.000 Val_Loss: 0.2809  BEST VAL Loss: 0.2809  Val_Acc: 0.000\n",
      "\n",
      "Epoch 39: Validation loss decreased (0.280948 --> 0.280775).  Saving model ...\n",
      "\t Train_Loss: 0.2599 Train_Acc: 0.000 Val_Loss: 0.2808  BEST VAL Loss: 0.2808  Val_Acc: 0.000\n",
      "\n",
      "Epoch 40: Validation loss decreased (0.280775 --> 0.280650).  Saving model ...\n",
      "\t Train_Loss: 0.2593 Train_Acc: 0.001 Val_Loss: 0.2807  BEST VAL Loss: 0.2807  Val_Acc: 0.000\n",
      "\n",
      "Epoch 41: Validation loss decreased (0.280650 --> 0.280594).  Saving model ...\n",
      "\t Train_Loss: 0.2587 Train_Acc: 0.000 Val_Loss: 0.2806  BEST VAL Loss: 0.2806  Val_Acc: 0.000\n",
      "\n",
      "Epoch 42: Validation loss decreased (0.280594 --> 0.280310).  Saving model ...\n",
      "\t Train_Loss: 0.2581 Train_Acc: 0.000 Val_Loss: 0.2803  BEST VAL Loss: 0.2803  Val_Acc: 0.000\n",
      "\n",
      "Epoch 43: Validation loss decreased (0.280310 --> 0.280233).  Saving model ...\n",
      "\t Train_Loss: 0.2576 Train_Acc: 0.001 Val_Loss: 0.2802  BEST VAL Loss: 0.2802  Val_Acc: 0.003\n",
      "\n",
      "Epoch 44: Validation loss decreased (0.280233 --> 0.280188).  Saving model ...\n",
      "\t Train_Loss: 0.2570 Train_Acc: 0.000 Val_Loss: 0.2802  BEST VAL Loss: 0.2802  Val_Acc: 0.003\n",
      "\n",
      "Epoch 45: Validation loss decreased (0.280188 --> 0.280031).  Saving model ...\n",
      "\t Train_Loss: 0.2564 Train_Acc: 0.001 Val_Loss: 0.2800  BEST VAL Loss: 0.2800  Val_Acc: 0.003\n",
      "\n",
      "Epoch 46: Validation loss decreased (0.280031 --> 0.279980).  Saving model ...\n",
      "\t Train_Loss: 0.2559 Train_Acc: 0.000 Val_Loss: 0.2800  BEST VAL Loss: 0.2800  Val_Acc: 0.000\n",
      "\n",
      "Epoch 47: Validation loss decreased (0.279980 --> 0.279960).  Saving model ...\n",
      "\t Train_Loss: 0.2554 Train_Acc: 0.001 Val_Loss: 0.2800  BEST VAL Loss: 0.2800  Val_Acc: 0.003\n",
      "\n",
      "Epoch 48: Validation loss decreased (0.279960 --> 0.279836).  Saving model ...\n",
      "\t Train_Loss: 0.2548 Train_Acc: 0.000 Val_Loss: 0.2798  BEST VAL Loss: 0.2798  Val_Acc: 0.003\n",
      "\n",
      "Epoch 49: Validation loss decreased (0.279836 --> 0.279787).  Saving model ...\n",
      "\t Train_Loss: 0.2543 Train_Acc: 0.000 Val_Loss: 0.2798  BEST VAL Loss: 0.2798  Val_Acc: 0.003\n",
      "\n",
      "Epoch 50: Validation loss decreased (0.279787 --> 0.279760).  Saving model ...\n",
      "\t Train_Loss: 0.2539 Train_Acc: 0.000 Val_Loss: 0.2798  BEST VAL Loss: 0.2798  Val_Acc: 0.000\n",
      "\n",
      "Epoch 51: Validation loss decreased (0.279760 --> 0.279615).  Saving model ...\n",
      "\t Train_Loss: 0.2534 Train_Acc: 0.000 Val_Loss: 0.2796  BEST VAL Loss: 0.2796  Val_Acc: 0.003\n",
      "\n",
      "Epoch 52: Validation loss decreased (0.279615 --> 0.279511).  Saving model ...\n",
      "\t Train_Loss: 0.2529 Train_Acc: 0.000 Val_Loss: 0.2795  BEST VAL Loss: 0.2795  Val_Acc: 0.003\n",
      "\n",
      "Epoch 53: Validation loss decreased (0.279511 --> 0.279471).  Saving model ...\n",
      "\t Train_Loss: 0.2524 Train_Acc: 0.000 Val_Loss: 0.2795  BEST VAL Loss: 0.2795  Val_Acc: 0.000\n",
      "\n",
      "Epoch 54: Validation loss did not decrease\n",
      "\t Train_Loss: 0.2520 Train_Acc: 0.001 Val_Loss: 0.2795  BEST VAL Loss: 0.2795  Val_Acc: 0.003\n",
      "\n",
      "Epoch 55: Validation loss decreased (0.279471 --> 0.279427).  Saving model ...\n",
      "\t Train_Loss: 0.2515 Train_Acc: 0.000 Val_Loss: 0.2794  BEST VAL Loss: 0.2794  Val_Acc: 0.000\n",
      "\n",
      "Epoch 56: Validation loss decreased (0.279427 --> 0.279397).  Saving model ...\n",
      "\t Train_Loss: 0.2511 Train_Acc: 0.000 Val_Loss: 0.2794  BEST VAL Loss: 0.2794  Val_Acc: 0.003\n",
      "\n",
      "Epoch 57: Validation loss decreased (0.279397 --> 0.279380).  Saving model ...\n",
      "\t Train_Loss: 0.2507 Train_Acc: 0.000 Val_Loss: 0.2794  BEST VAL Loss: 0.2794  Val_Acc: 0.003\n",
      "\n",
      "Epoch 58: Validation loss did not decrease\n",
      "\t Train_Loss: 0.2503 Train_Acc: 0.000 Val_Loss: 0.2794  BEST VAL Loss: 0.2794  Val_Acc: 0.003\n",
      "\n",
      "Epoch 59: Validation loss decreased (0.279380 --> 0.279360).  Saving model ...\n",
      "\t Train_Loss: 0.2499 Train_Acc: 0.001 Val_Loss: 0.2794  BEST VAL Loss: 0.2794  Val_Acc: 0.003\n",
      "\n",
      "Epoch 60: Validation loss decreased (0.279360 --> 0.279326).  Saving model ...\n",
      "\t Train_Loss: 0.2495 Train_Acc: 0.000 Val_Loss: 0.2793  BEST VAL Loss: 0.2793  Val_Acc: 0.003\n",
      "\n",
      "Epoch 61: Validation loss decreased (0.279326 --> 0.279323).  Saving model ...\n",
      "\t Train_Loss: 0.2491 Train_Acc: 0.001 Val_Loss: 0.2793  BEST VAL Loss: 0.2793  Val_Acc: 0.003\n",
      "\n",
      "Epoch 62: Validation loss decreased (0.279323 --> 0.279271).  Saving model ...\n",
      "\t Train_Loss: 0.2487 Train_Acc: 0.000 Val_Loss: 0.2793  BEST VAL Loss: 0.2793  Val_Acc: 0.003\n",
      "\n",
      "Epoch 63: Validation loss decreased (0.279271 --> 0.279234).  Saving model ...\n",
      "\t Train_Loss: 0.2483 Train_Acc: 0.001 Val_Loss: 0.2792  BEST VAL Loss: 0.2792  Val_Acc: 0.003\n",
      "\n",
      "Epoch 64: Validation loss decreased (0.279234 --> 0.279162).  Saving model ...\n",
      "\t Train_Loss: 0.2479 Train_Acc: 0.000 Val_Loss: 0.2792  BEST VAL Loss: 0.2792  Val_Acc: 0.003\n",
      "\n",
      "Epoch 65: Validation loss did not decrease\n",
      "\t Train_Loss: 0.2475 Train_Acc: 0.000 Val_Loss: 0.2792  BEST VAL Loss: 0.2792  Val_Acc: 0.003\n",
      "\n",
      "Epoch 66: Validation loss decreased (0.279162 --> 0.279099).  Saving model ...\n",
      "\t Train_Loss: 0.2472 Train_Acc: 0.000 Val_Loss: 0.2791  BEST VAL Loss: 0.2791  Val_Acc: 0.003\n",
      "\n",
      "Epoch 67: Validation loss decreased (0.279099 --> 0.279049).  Saving model ...\n",
      "\t Train_Loss: 0.2468 Train_Acc: 0.001 Val_Loss: 0.2790  BEST VAL Loss: 0.2790  Val_Acc: 0.003\n",
      "\n",
      "Epoch 68: Validation loss did not decrease\n",
      "\t Train_Loss: 0.2465 Train_Acc: 0.000 Val_Loss: 0.2791  BEST VAL Loss: 0.2790  Val_Acc: 0.003\n",
      "\n",
      "Epoch 69: Validation loss decreased (0.279049 --> 0.279017).  Saving model ...\n",
      "\t Train_Loss: 0.2461 Train_Acc: 0.000 Val_Loss: 0.2790  BEST VAL Loss: 0.2790  Val_Acc: 0.000\n",
      "\n",
      "Epoch 70: Validation loss decreased (0.279017 --> 0.278926).  Saving model ...\n",
      "\t Train_Loss: 0.2458 Train_Acc: 0.000 Val_Loss: 0.2789  BEST VAL Loss: 0.2789  Val_Acc: 0.003\n",
      "\n",
      "Epoch 71: Validation loss decreased (0.278926 --> 0.278924).  Saving model ...\n",
      "\t Train_Loss: 0.2455 Train_Acc: 0.001 Val_Loss: 0.2789  BEST VAL Loss: 0.2789  Val_Acc: 0.003\n",
      "\n",
      "Epoch 72: Validation loss decreased (0.278924 --> 0.278870).  Saving model ...\n",
      "\t Train_Loss: 0.2451 Train_Acc: 0.000 Val_Loss: 0.2789  BEST VAL Loss: 0.2789  Val_Acc: 0.003\n",
      "\n",
      "Epoch 73: Validation loss decreased (0.278870 --> 0.278763).  Saving model ...\n",
      "\t Train_Loss: 0.2448 Train_Acc: 0.000 Val_Loss: 0.2788  BEST VAL Loss: 0.2788  Val_Acc: 0.003\n",
      "\n",
      "Epoch 74: Validation loss decreased (0.278763 --> 0.278732).  Saving model ...\n",
      "\t Train_Loss: 0.2444 Train_Acc: 0.001 Val_Loss: 0.2787  BEST VAL Loss: 0.2787  Val_Acc: 0.003\n",
      "\n",
      "Epoch 75: Validation loss decreased (0.278732 --> 0.278714).  Saving model ...\n",
      "\t Train_Loss: 0.2441 Train_Acc: 0.000 Val_Loss: 0.2787  BEST VAL Loss: 0.2787  Val_Acc: 0.003\n",
      "\n",
      "Epoch 76: Validation loss decreased (0.278714 --> 0.278699).  Saving model ...\n",
      "\t Train_Loss: 0.2438 Train_Acc: 0.000 Val_Loss: 0.2787  BEST VAL Loss: 0.2787  Val_Acc: 0.003\n",
      "\n",
      "Epoch 77: Validation loss decreased (0.278699 --> 0.278630).  Saving model ...\n",
      "\t Train_Loss: 0.2435 Train_Acc: 0.001 Val_Loss: 0.2786  BEST VAL Loss: 0.2786  Val_Acc: 0.003\n",
      "\n",
      "Epoch 78: Validation loss did not decrease\n",
      "\t Train_Loss: 0.2432 Train_Acc: 0.001 Val_Loss: 0.2787  BEST VAL Loss: 0.2786  Val_Acc: 0.003\n",
      "\n",
      "Epoch 79: Validation loss did not decrease\n",
      "\t Train_Loss: 0.2429 Train_Acc: 0.000 Val_Loss: 0.2787  BEST VAL Loss: 0.2786  Val_Acc: 0.003\n",
      "\n",
      "Epoch 80: Validation loss did not decrease\n",
      "\t Train_Loss: 0.2426 Train_Acc: 0.000 Val_Loss: 0.2787  BEST VAL Loss: 0.2786  Val_Acc: 0.003\n",
      "\n",
      "Epoch 81: Validation loss did not decrease\n",
      "\t Train_Loss: 0.2423 Train_Acc: 0.001 Val_Loss: 0.2787  BEST VAL Loss: 0.2786  Val_Acc: 0.003\n",
      "\n",
      "Epoch 82: Validation loss did not decrease\n",
      "\t Train_Loss: 0.2420 Train_Acc: 0.001 Val_Loss: 0.2786  BEST VAL Loss: 0.2786  Val_Acc: 0.003\n",
      "\n",
      "Epoch 83: Validation loss did not decrease\n",
      "\t Train_Loss: 0.2417 Train_Acc: 0.001 Val_Loss: 0.2787  BEST VAL Loss: 0.2786  Val_Acc: 0.003\n",
      "\n",
      "Epoch 84: Validation loss did not decrease\n",
      "\t Train_Loss: 0.2414 Train_Acc: 0.000 Val_Loss: 0.2787  BEST VAL Loss: 0.2786  Val_Acc: 0.003\n",
      "\n",
      "Epoch 85: Validation loss did not decrease\n",
      "\t Train_Loss: 0.2411 Train_Acc: 0.000 Val_Loss: 0.2787  BEST VAL Loss: 0.2786  Val_Acc: 0.003\n",
      "\n",
      "Epoch 86: Validation loss did not decrease\n",
      "\t Train_Loss: 0.2408 Train_Acc: 0.000 Val_Loss: 0.2787  BEST VAL Loss: 0.2786  Val_Acc: 0.003\n",
      "\n",
      "Epoch 87: Validation loss did not decrease\n",
      "\t Train_Loss: 0.2406 Train_Acc: 0.000 Val_Loss: 0.2787  BEST VAL Loss: 0.2786  Val_Acc: 0.003\n",
      "\n",
      "Epoch 88: Validation loss did not decrease\n",
      "\t Train_Loss: 0.2403 Train_Acc: 0.001 Val_Loss: 0.2787  BEST VAL Loss: 0.2786  Val_Acc: 0.003\n",
      "\n",
      "Epoch 89: Validation loss did not decrease\n",
      "\t Train_Loss: 0.2400 Train_Acc: 0.001 Val_Loss: 0.2788  BEST VAL Loss: 0.2786  Val_Acc: 0.003\n",
      "\n",
      "Epoch 90: Validation loss did not decrease\n",
      "\t Train_Loss: 0.2398 Train_Acc: 0.000 Val_Loss: 0.2788  BEST VAL Loss: 0.2786  Val_Acc: 0.003\n",
      "\n",
      "Epoch 91: Validation loss did not decrease\n",
      "\t Train_Loss: 0.2395 Train_Acc: 0.000 Val_Loss: 0.2788  BEST VAL Loss: 0.2786  Val_Acc: 0.003\n",
      "\n",
      "Epoch 92: Validation loss did not decrease\n",
      "\t Train_Loss: 0.2393 Train_Acc: 0.001 Val_Loss: 0.2788  BEST VAL Loss: 0.2786  Val_Acc: 0.003\n",
      "\n",
      "Epoch 93: Validation loss did not decrease\n",
      "Early stopped at epoch : 93\n"
     ]
    }
   ],
   "source": [
    "# call the optimized training model\n",
    "(\n",
    "    train_loss,\n",
    "    train_acc,\n",
    "    valid_loss,\n",
    "    valid_acc,\n",
    "    epochs_ran,\n",
    "    model,\n",
    ") = train_optimized_model(\n",
    "    mlp_params.TRAIN_EPOCHS,\n",
    "    train_loader,\n",
    "    valid_loader,\n",
    "    params,\n",
    "    mlp_params.MODEL_NAME,\n",
    "    mlp_params.SHUFFLE,\n",
    "    class_weights=class_weights,\n",
    ")\n",
    "# get training_metrics\n",
    "if mlp_params.MODEL_TYPE == \"Regression\":\n",
    "    training_stats = pd.DataFrame(\n",
    "        zip(train_loss, valid_loss, epochs_ran),\n",
    "        columns=[\"train_loss\", \"valid_loss\", \"epochs_ran\"],\n",
    "    )\n",
    "else:\n",
    "    training_stats = pd.DataFrame(\n",
    "        zip(train_loss, train_acc, valid_loss, valid_acc, epochs_ran),\n",
    "        columns=[\"train_loss\", \"train_acc\", \"valid_loss\", \"valid_acc\", \"epochs_ran\"],\n",
    "    )"
   ]
  },
  {
   "cell_type": "code",
   "execution_count": 27,
   "id": "3d5115e3",
   "metadata": {
    "execution": {
     "iopub.execute_input": "2023-11-13T03:45:26.159482Z",
     "iopub.status.busy": "2023-11-13T03:45:26.159314Z",
     "iopub.status.idle": "2023-11-13T03:45:26.166918Z",
     "shell.execute_reply": "2023-11-13T03:45:26.166470Z"
    },
    "papermill": {
     "duration": null,
     "end_time": null,
     "exception": null,
     "start_time": null,
     "status": "pending"
    },
    "tags": []
   },
   "outputs": [
    {
     "data": {
      "text/html": [
       "<div>\n",
       "<style scoped>\n",
       "    .dataframe tbody tr th:only-of-type {\n",
       "        vertical-align: middle;\n",
       "    }\n",
       "\n",
       "    .dataframe tbody tr th {\n",
       "        vertical-align: top;\n",
       "    }\n",
       "\n",
       "    .dataframe thead th {\n",
       "        text-align: right;\n",
       "    }\n",
       "</style>\n",
       "<table border=\"1\" class=\"dataframe\">\n",
       "  <thead>\n",
       "    <tr style=\"text-align: right;\">\n",
       "      <th></th>\n",
       "      <th>label</th>\n",
       "      <th>metric</th>\n",
       "      <th>value</th>\n",
       "      <th>group</th>\n",
       "      <th>shuffled_data</th>\n",
       "    </tr>\n",
       "  </thead>\n",
       "  <tbody>\n",
       "  </tbody>\n",
       "</table>\n",
       "</div>"
      ],
      "text/plain": [
       "Empty DataFrame\n",
       "Columns: [label, metric, value, group, shuffled_data]\n",
       "Index: []"
      ]
     },
     "execution_count": 27,
     "metadata": {},
     "output_type": "execute_result"
    }
   ],
   "source": [
    "# create a dataframe to store the model stats\n",
    "model_stats_df = pd.DataFrame(\n",
    "    columns=[\n",
    "        \"label\",\n",
    "        \"metric\",\n",
    "        \"value\",\n",
    "        \"group\",\n",
    "        \"shuffled_data\",\n",
    "    ]\n",
    ")\n",
    "# check empty dataframe\n",
    "model_stats_df"
   ]
  },
  {
   "cell_type": "code",
   "execution_count": 28,
   "id": "d4f283d4",
   "metadata": {
    "execution": {
     "iopub.execute_input": "2023-11-13T03:45:26.191425Z",
     "iopub.status.busy": "2023-11-13T03:45:26.191262Z",
     "iopub.status.idle": "2023-11-13T03:45:26.833630Z",
     "shell.execute_reply": "2023-11-13T03:45:26.833186Z"
    },
    "papermill": {
     "duration": null,
     "end_time": null,
     "exception": null,
     "start_time": null,
     "status": "pending"
    },
    "tags": []
   },
   "outputs": [
    {
     "name": "stderr",
     "output_type": "stream",
     "text": [
      "/home/lippincm/Documents/ML/Interstellar_Analysis/4.sc_Morphology_Neural_Network_MLP_Model/1.model_training/notebooks/../../MLP_utils/utils.py:1018: UserWarning: Ignoring `palette` because no `hue` variable has been assigned.\n",
      "  sns.lineplot(x=df[x], y=df[y1], palette=\"blue\", label=\"Train\")\n",
      "/home/lippincm/Documents/ML/Interstellar_Analysis/4.sc_Morphology_Neural_Network_MLP_Model/1.model_training/notebooks/../../MLP_utils/utils.py:1019: UserWarning: Ignoring `palette` because no `hue` variable has been assigned.\n",
      "  sns.lineplot(x=df[x], y=df[y2], palette=\"orange\", label=\"Validation\")\n"
     ]
    },
    {
     "data": {
      "image/png": "[encoded data removed]",
      "text/plain": [
       "<Figure size 640x480 with 1 Axes>"
      ]
     },
     "metadata": {},
     "output_type": "display_data"
    }
   ],
   "source": [
    "if mlp_params.MODEL_TYPE == \"Regression\":\n",
    "    pass\n",
    "else:\n",
    "    plot_metric_vs_epoch(\n",
    "        training_stats,\n",
    "        x=\"epochs_ran\",\n",
    "        y1=\"train_acc\",\n",
    "        y2=\"valid_acc\",\n",
    "        title=\"Accuracy vs. Epochs\",\n",
    "        x_axis_label=\"Epochs\",\n",
    "        y_axis_label=\"Accuracy\",\n",
    "        params=params,\n",
    "        model_name=mlp_params.MODEL_NAME,\n",
    "        shuffle=mlp_params.SHUFFLE,\n",
    "    )"
   ]
  },
  {
   "cell_type": "code",
   "execution_count": 29,
   "id": "5e491e00",
   "metadata": {
    "execution": {
     "iopub.execute_input": "2023-11-13T03:45:26.861418Z",
     "iopub.status.busy": "2023-11-13T03:45:26.860827Z",
     "iopub.status.idle": "2023-11-13T03:45:27.176560Z",
     "shell.execute_reply": "2023-11-13T03:45:27.176174Z"
    },
    "papermill": {
     "duration": null,
     "end_time": null,
     "exception": null,
     "start_time": null,
     "status": "pending"
    },
    "tags": []
   },
   "outputs": [
    {
     "name": "stderr",
     "output_type": "stream",
     "text": [
      "/home/lippincm/Documents/ML/Interstellar_Analysis/4.sc_Morphology_Neural_Network_MLP_Model/1.model_training/notebooks/../../MLP_utils/utils.py:1018: UserWarning: Ignoring `palette` because no `hue` variable has been assigned.\n",
      "  sns.lineplot(x=df[x], y=df[y1], palette=\"blue\", label=\"Train\")\n",
      "/home/lippincm/Documents/ML/Interstellar_Analysis/4.sc_Morphology_Neural_Network_MLP_Model/1.model_training/notebooks/../../MLP_utils/utils.py:1019: UserWarning: Ignoring `palette` because no `hue` variable has been assigned.\n",
      "  sns.lineplot(x=df[x], y=df[y2], palette=\"orange\", label=\"Validation\")\n"
     ]
    },
    {
     "data": {
      "image/png": "[encoded data removed]",
      "text/plain": [
       "<Figure size 640x480 with 1 Axes>"
      ]
     },
     "metadata": {},
     "output_type": "display_data"
    }
   ],
   "source": [
    "plot_metric_vs_epoch(\n",
    "    training_stats,\n",
    "    x=\"epochs_ran\",\n",
    "    y1=\"train_loss\",\n",
    "    y2=\"valid_loss\",\n",
    "    title=\"Loss vs. Epochs\",\n",
    "    x_axis_label=\"Epochs\",\n",
    "    y_axis_label=\"Loss\",\n",
    "    params=params,\n",
    "    model_name=mlp_params.MODEL_NAME,\n",
    "    shuffle=mlp_params.SHUFFLE,\n",
    ")"
   ]
  },
  {
   "cell_type": "markdown",
   "id": "1d6993ae",
   "metadata": {
    "papermill": {
     "duration": null,
     "end_time": null,
     "exception": null,
     "start_time": null,
     "status": "pending"
    },
    "tags": []
   },
   "source": [
    "### Test Models on training data"
   ]
  },
  {
   "cell_type": "code",
   "execution_count": 30,
   "id": "9c595792",
   "metadata": {
    "execution": {
     "iopub.execute_input": "2023-11-13T03:45:27.226417Z",
     "iopub.status.busy": "2023-11-13T03:45:27.226011Z",
     "iopub.status.idle": "2023-11-13T03:45:29.777801Z",
     "shell.execute_reply": "2023-11-13T03:45:29.777257Z"
    },
    "papermill": {
     "duration": null,
     "end_time": null,
     "exception": null,
     "start_time": null,
     "status": "pending"
    },
    "tags": []
   },
   "outputs": [
    {
     "name": "stdout",
     "output_type": "stream",
     "text": [
      "MultiClass_MLP\n"
     ]
    }
   ],
   "source": [
    "# test the model on training data\n",
    "# calling the testing function and outputting list values of tested model\n",
    "if any(\n",
    "    model_type == mlp_params.MODEL_TYPE for model_type in [\"Multi_Class\", \"Regression\"]\n",
    "):\n",
    "    (y_pred_list, y_pred_prob_list, Y_test_list,) = test_optimized_model(\n",
    "        model,\n",
    "        train_loader,\n",
    "        mlp_params,\n",
    "        model_name=mlp_params.MODEL_NAME,\n",
    "        shuffle=mlp_params.SHUFFLE,\n",
    "    )\n",
    "elif mlp_params.MODEL_TYPE == \"Binary_Classification\":\n",
    "    y_pred_list, y_pred_prob_list = test_optimized_model(\n",
    "        model,\n",
    "        train_loader,\n",
    "        mlp_params,\n",
    "        model_name=mlp_params.MODEL_NAME,\n",
    "        shuffle=mlp_params.SHUFFLE,\n",
    "    )\n",
    "else:\n",
    "    raise Exception(\"Model type must be specified for proper model testing\")\n",
    "\n",
    "# un-nest list if nested i.e. length of input data does not match length of output data\n",
    "if len(y_pred_list) != len(Y_test):\n",
    "    y_pred_list = un_nest(y_pred_list)\n",
    "    if mlp_params.MODEL_TYPE == \"Binary_Classification\":\n",
    "        y_pred_prob_list = un_nest(y_pred_prob_list)\n",
    "else:\n",
    "    pass"
   ]
  },
  {
   "cell_type": "code",
   "execution_count": null,
   "id": "c05448f5",
   "metadata": {},
   "outputs": [],
   "source": []
  },
  {
   "cell_type": "code",
   "execution_count": 31,
   "id": "b9113015",
   "metadata": {},
   "outputs": [],
   "source": [
    "# convert output tensors into arrays\n",
    "\n",
    "# list of tensors to list of lists\n",
    "y_pred_prob_list = [tensor.tolist() for tensor in y_pred_prob_list]\n",
    "Y_test_list = [tensor.tolist() for tensor in Y_test_list]\n",
    "# completly flatten list of lists\n",
    "new_prob_list = []\n",
    "for i in y_pred_prob_list:\n",
    "    for j in i:\n",
    "        new_prob_list.append(j)\n",
    "\n",
    "new_y_test_list = []\n",
    "for i in Y_test_list:\n",
    "    for j in i:\n",
    "        new_y_test_list.append(j)\n",
    "\n",
    "# list of lists to array\n",
    "y_pred_prob_list = np.array(new_prob_list)\n",
    "Y_test = np.array(new_y_test_list)"
   ]
  },
  {
   "cell_type": "code",
   "execution_count": 32,
   "id": "5df5aa40",
   "metadata": {},
   "outputs": [],
   "source": [
    "# get the PR curve for each class\n",
    "pr_curve_0 = precision_recall_curve(Y_test[:, 0], y_pred_prob_list[:, 0])\n",
    "pr_curve_1 = precision_recall_curve(Y_test[:, 1], y_pred_prob_list[:, 1])\n",
    "pr_curve_2 = precision_recall_curve(Y_test[:, 2], y_pred_prob_list[:, 2])"
   ]
  },
  {
   "cell_type": "code",
   "execution_count": 33,
   "id": "4ef5d998",
   "metadata": {},
   "outputs": [
    {
     "name": "stderr",
     "output_type": "stream",
     "text": [
      "/tmp/ipykernel_2802345/4273854277.py:28: SettingWithCopyWarning: \n",
      "A value is trying to be set on a copy of a slice from a DataFrame\n",
      "\n",
      "See the caveats in the documentation: https://pandas.pydata.org/pandas-docs/stable/user_guide/indexing.html#returning-a-view-versus-a-copy\n",
      "  tmp_df.drop_duplicates(inplace=True)\n"
     ]
    }
   ],
   "source": [
    "# make a dataframe of the precision-recall curves for each class\n",
    "pr_curve_0 = pd.DataFrame(\n",
    "    zip(pr_curve_0[0], pr_curve_0[1]),\n",
    "    columns=[\"precision\", \"recall\"],\n",
    ")\n",
    "pr_curve_0[\"label\"] = 0\n",
    "\n",
    "pr_curve_1 = pd.DataFrame(\n",
    "    zip(pr_curve_1[0], pr_curve_1[1]),\n",
    "    columns=[\"precision\", \"recall\"],\n",
    ")\n",
    "pr_curve_1[\"label\"] = 1\n",
    "\n",
    "pr_curve_2 = pd.DataFrame(\n",
    "    zip(pr_curve_2[0], pr_curve_2[1]),\n",
    "    columns=[\"precision\", \"recall\"],\n",
    ")\n",
    "pr_curve_2[\"label\"] = 2\n",
    "\n",
    "# make the precision-recall curve dataframe\n",
    "pr_curve_df = pd.DataFrame(columns=[\"precision\", \"recall\", \"label\"])\n",
    "# concatenate the dataframes together\n",
    "pr_curve_df = pd.concat([pr_curve_df, pr_curve_0, pr_curve_1, pr_curve_2])\n",
    "\n",
    "# get the decoded labels\n",
    "tmp_df = df_values[[\"new_labels\", \"labels\"]]\n",
    "# get the unique rows\n",
    "tmp_df.drop_duplicates(inplace=True)\n",
    "# make a dict of the labels and new labels\n",
    "label_dict = dict(zip(tmp_df[\"new_labels\"], tmp_df[\"labels\"]))\n",
    "\n",
    "# change the label column to the actual labels from the label dict\n",
    "pr_curve_df[\"label\"] = pr_curve_df[\"label\"].map(label_dict)\n",
    "pr_curve_df[\"data_split\"] = \"train\"\n",
    "pr_curve_df[\"shuffle\"] = mlp_params.SHUFFLE"
   ]
  },
  {
   "cell_type": "code",
   "execution_count": 34,
   "id": "1d126ac9",
   "metadata": {},
   "outputs": [],
   "source": [
    "main_prob_df = pd.DataFrame(\n",
    "    columns=[\n",
    "        \"apoptosis_prob\",\n",
    "        \"control_prob\",\n",
    "        \"pyroptosis_prob\",\n",
    "        \"label_true\",\n",
    "        \"label_pred\",\n",
    "        \"data_split\",\n",
    "        \"shuffle\",\n",
    "        \"class_name\",\n",
    "    ]\n",
    ")"
   ]
  },
  {
   "cell_type": "code",
   "execution_count": 35,
   "id": "937bf214",
   "metadata": {},
   "outputs": [],
   "source": [
    "class_0_prob = []\n",
    "class_1_prob = []\n",
    "class_2_prob = []\n",
    "\n",
    "for i in y_pred_prob_list:\n",
    "    class_0_prob.append(i[0])\n",
    "    class_1_prob.append(i[1])\n",
    "    class_2_prob.append(i[2])\n",
    "\n",
    "\n",
    "prob_df = pd.DataFrame(\n",
    "    zip(class_0_prob, class_1_prob, class_2_prob),\n",
    "    columns=[\"apoptosis_prob\", \"control_prob\", \"pyroptosis_prob\"],\n",
    ")\n",
    "label_true = [np.argmax(i) for i in Y_test]\n",
    "\n",
    "prob_df[\"label_true\"] = label_true\n",
    "prob_df[\"label_pred\"] = y_pred_list\n",
    "prob_df[\"data_split\"] = \"train\"\n",
    "prob_df[\"shuffle\"] = mlp_params.SHUFFLE\n",
    "prob_df[\"class_name\"] = prob_df[\"label_true\"].map(label_dict)\n",
    "\n",
    "main_prob_df = pd.concat([main_prob_df, prob_df])"
   ]
  },
  {
   "cell_type": "code",
   "execution_count": 36,
   "id": "b8cf2229",
   "metadata": {},
   "outputs": [],
   "source": [
    "# create a master dataframe to store all the model stats\n",
    "# across all data splits and shuffled data\n",
    "pr_curve_df_all = pd.DataFrame(\n",
    "    columns=[\"precision\", \"recall\", \"label\", \"data_split\", \"shuffle\"]\n",
    ")\n",
    "pr_curve_df_all = pd.concat([pr_curve_df_all, pr_curve_df], axis=0)"
   ]
  },
  {
   "cell_type": "code",
   "execution_count": 37,
   "id": "0f4468bf",
   "metadata": {},
   "outputs": [
    {
     "data": {
      "text/plain": [
       "array(['train'], dtype=object)"
      ]
     },
     "execution_count": 37,
     "metadata": {},
     "output_type": "execute_result"
    }
   ],
   "source": [
    "pr_curve_df_all[\"data_split\"].unique()"
   ]
  },
  {
   "cell_type": "code",
   "execution_count": 38,
   "id": "db38c19f",
   "metadata": {},
   "outputs": [],
   "source": [
    "# prior to using the output_stats function, the y_pred_list and Y_test_list must be converted to a single list each\n",
    "# Y_test_list de code the one hot encoding\n",
    "Y_test_list = [np.argmax(i) for i in Y_test]"
   ]
  },
  {
   "cell_type": "code",
   "execution_count": 39,
   "id": "316c91bd",
   "metadata": {},
   "outputs": [
    {
     "name": "stderr",
     "output_type": "stream",
     "text": [
      "/tmp/ipykernel_2802345/505340643.py:23: FutureWarning: In a future version, object-dtype columns with all-bool values will not be included in reductions with bool_only=True. Explicitly cast to bool dtype instead.\n",
      "  main_prob_df = pd.concat([main_prob_df, prob_df])\n"
     ]
    }
   ],
   "source": [
    "class_0_prob = []\n",
    "class_1_prob = []\n",
    "class_2_prob = []\n",
    "\n",
    "for i in y_pred_prob_list:\n",
    "    class_0_prob.append(i[0])\n",
    "    class_1_prob.append(i[1])\n",
    "    class_2_prob.append(i[2])\n",
    "\n",
    "\n",
    "prob_df = pd.DataFrame(\n",
    "    zip(class_0_prob, class_1_prob, class_2_prob),\n",
    "    columns=[\"apoptosis_prob\", \"control_prob\", \"pyroptosis_prob\"],\n",
    ")\n",
    "label_true = [np.argmax(i) for i in Y_test]\n",
    "\n",
    "prob_df[\"label_true\"] = label_true\n",
    "prob_df[\"label_pred\"] = y_pred_list\n",
    "prob_df[\"data_split\"] = \"train\"\n",
    "prob_df[\"shuffle\"] = mlp_params.SHUFFLE\n",
    "prob_df[\"class_name\"] = prob_df[\"label_true\"].map(label_dict)\n",
    "\n",
    "main_prob_df = pd.concat([main_prob_df, prob_df])"
   ]
  },
  {
   "cell_type": "code",
   "execution_count": 40,
   "id": "4b269c1d",
   "metadata": {
    "execution": {
     "iopub.execute_input": "2023-11-13T03:45:29.806395Z",
     "iopub.status.busy": "2023-11-13T03:45:29.806222Z",
     "iopub.status.idle": "2023-11-13T03:45:30.151598Z",
     "shell.execute_reply": "2023-11-13T03:45:30.151179Z"
    },
    "papermill": {
     "duration": null,
     "end_time": null,
     "exception": null,
     "start_time": null,
     "status": "pending"
    },
    "tags": []
   },
   "outputs": [
    {
     "name": "stdout",
     "output_type": "stream",
     "text": [
      "              precision    recall  f1-score   support\n",
      "\n",
      "           0       0.97      0.93      0.95      7972\n",
      "           1       0.80      0.97      0.88     89086\n",
      "           2       0.93      0.63      0.75     55217\n",
      "\n",
      "    accuracy                           0.84    152275\n",
      "   macro avg       0.90      0.84      0.86    152275\n",
      "weighted avg       0.86      0.84      0.84    152275\n",
      "\n"
     ]
    },
    {
     "name": "stderr",
     "output_type": "stream",
     "text": [
      "/tmp/ipykernel_2802345/3777910350.py:18: SettingWithCopyWarning: \n",
      "A value is trying to be set on a copy of a slice from a DataFrame.\n",
      "Try using .loc[row_indexer,col_indexer] = value instead\n",
      "\n",
      "See the caveats in the documentation: https://pandas.pydata.org/pandas-docs/stable/user_guide/indexing.html#returning-a-view-versus-a-copy\n",
      "  df_labels[\"new_labels\"] = df_labels[\"new_labels\"].astype(str)\n"
     ]
    }
   ],
   "source": [
    "stats_df = output_stats(\n",
    "    y_pred_list,\n",
    "    Y_test_list,\n",
    "    mlp_params,\n",
    "    test_name=f\"{mlp_params.MODEL_NAME}_train\",\n",
    "    model_name=mlp_params.MODEL_NAME,\n",
    "    title=mlp_params.MODEL_NAME,\n",
    "    shuffle=mlp_params.SHUFFLE,\n",
    ")\n",
    "# make into a dataframe\n",
    "stats_df = pd.DataFrame.from_dict(stats_df).transpose()\n",
    "stats_df.reset_index(inplace=True)\n",
    "stats_df.rename(columns={\"index\": \"label\"}, inplace=True)\n",
    "stats_df = stats_df.melt(id_vars=[\"label\"], var_name=\"metric\", value_name=\"value\")\n",
    "# if accuracy in row of column 1 then change value of column 2 to accuracy\n",
    "stats_df.loc[stats_df[\"label\"] == \"accuracy\", \"metric\"] = \"accuracy\"\n",
    "# create a decoder dictionary from df_labels\n",
    "df_labels[\"new_labels\"] = df_labels[\"new_labels\"].astype(str)\n",
    "decoder = df_labels.set_index(\"new_labels\").to_dict()[\"labels\"]\n",
    "decoder[\"accuracy\"] = \"accuracy\"\n",
    "decoder[\"macro avg\"] = \"macro avg\"\n",
    "decoder[\"weighted avg\"] = \"weighted avg\"\n",
    "stats_df[\"label\"] = stats_df[\"label\"].map(decoder)"
   ]
  },
  {
   "cell_type": "code",
   "execution_count": 41,
   "id": "fdde3d70",
   "metadata": {
    "execution": {
     "iopub.execute_input": "2023-11-13T03:45:30.178667Z",
     "iopub.status.busy": "2023-11-13T03:45:30.178280Z",
     "iopub.status.idle": "2023-11-13T03:45:30.181886Z",
     "shell.execute_reply": "2023-11-13T03:45:30.181494Z"
    },
    "papermill": {
     "duration": null,
     "end_time": null,
     "exception": null,
     "start_time": null,
     "status": "pending"
    },
    "tags": []
   },
   "outputs": [],
   "source": [
    "stats_df[\"group\"] = \"train\"\n",
    "stats_df[\"shuffled_data\"] = mlp_params.SHUFFLE\n",
    "stats_df\n",
    "model_stats_df = pd.concat([model_stats_df, stats_df], axis=0)"
   ]
  },
  {
   "cell_type": "code",
   "execution_count": 42,
   "id": "bc29bd44",
   "metadata": {},
   "outputs": [],
   "source": [
    "# define a final dataframe to store the predictions\n",
    "final_predictions_df = pd.DataFrame()"
   ]
  },
  {
   "cell_type": "code",
   "execution_count": 43,
   "id": "f537c6d3",
   "metadata": {},
   "outputs": [],
   "source": [
    "# make a df of the predictions and the true labels\n",
    "y_pred_df = pd.DataFrame(y_pred_list, columns=[\"predicted_label\"])\n",
    "y_true_df = pd.DataFrame(Y_test_list, columns=[\"true_label\"])\n",
    "# concat the two dataframes\n",
    "# final_predictions_df = pd.concat([y_true_df, y_pred_df], axis=1)\n",
    "y_pred_df = pd.concat([y_true_df, y_pred_df], axis=1)"
   ]
  },
  {
   "cell_type": "code",
   "execution_count": 44,
   "id": "7cdf5bab",
   "metadata": {},
   "outputs": [],
   "source": [
    "# merge y_pred_df with metadata_holdout whiile keeping the index of metadata_holdout\n",
    "metadata_train.reset_index(inplace=True)\n",
    "y_pred_df = pd.concat([y_pred_df, metadata_train], axis=1)\n",
    "# set the index to the index column\n",
    "y_pred_df.set_index(\"index\", inplace=True, drop=True)"
   ]
  },
  {
   "cell_type": "code",
   "execution_count": 45,
   "id": "94fbfda1",
   "metadata": {},
   "outputs": [],
   "source": [
    "y_pred_df[\"data_split\"] = \"train\"\n",
    "y_pred_df[\"shuffle\"] = mlp_params.SHUFFLE"
   ]
  },
  {
   "cell_type": "code",
   "execution_count": 46,
   "id": "e8c704f3",
   "metadata": {},
   "outputs": [],
   "source": [
    "# set path for the model confusion matrices\n",
    "y_pred_df_path = pathlib.Path(\n",
    "    f\"../../results/Multi_Class/{mlp_params.MODEL_NAME}/{mlp_params.CELL_TYPE}/training_single_cell_predictions.parquet\"\n",
    ")\n",
    "y_pred_df_path.parent.mkdir(parents=True, exist_ok=True)\n",
    "if y_pred_df_path.exists():\n",
    "    predictions_df_tmp = pd.read_parquet(y_pred_df_path)\n",
    "    if len(predictions_df_tmp[\"data_split\"].unique()) > 1:\n",
    "        pass\n",
    "    elif predictions_df_tmp[\"data_split\"].unique() == mlp_params.SHUFFLE:\n",
    "        pass\n",
    "    else:\n",
    "        metrics_df = pd.concat([predictions_df_tmp, y_pred_df], axis=0)\n",
    "        metrics_df.to_parquet(y_pred_df_path, index=False)\n",
    "else:\n",
    "    y_pred_df.to_parquet(y_pred_df_path, index=False)"
   ]
  },
  {
   "cell_type": "code",
   "execution_count": 47,
   "id": "67c01a0d",
   "metadata": {},
   "outputs": [],
   "source": [
    "final_predictions_df = pd.concat([final_predictions_df, y_pred_df], axis=0)"
   ]
  },
  {
   "cell_type": "markdown",
   "id": "dd00a92e",
   "metadata": {
    "papermill": {
     "duration": null,
     "end_time": null,
     "exception": null,
     "start_time": null,
     "status": "pending"
    },
    "tags": []
   },
   "source": [
    "## Test models on Validation data"
   ]
  },
  {
   "cell_type": "code",
   "execution_count": 48,
   "id": "52b5399f",
   "metadata": {
    "execution": {
     "iopub.execute_input": "2023-11-13T03:45:30.229982Z",
     "iopub.status.busy": "2023-11-13T03:45:30.229718Z",
     "iopub.status.idle": "2023-11-13T03:45:30.837000Z",
     "shell.execute_reply": "2023-11-13T03:45:30.836480Z"
    },
    "papermill": {
     "duration": null,
     "end_time": null,
     "exception": null,
     "start_time": null,
     "status": "pending"
    },
    "tags": []
   },
   "outputs": [
    {
     "name": "stdout",
     "output_type": "stream",
     "text": [
      "MultiClass_MLP\n"
     ]
    }
   ],
   "source": [
    "# test the model on training data\n",
    "# calling the testing function and outputting list values of tested model\n",
    "if any(\n",
    "    model_type == mlp_params.MODEL_TYPE for model_type in [\"Multi_Class\", \"Regression\"]\n",
    "):\n",
    "    (y_pred_list, y_pred_prob_list, Y_test_list) = test_optimized_model(\n",
    "        model,\n",
    "        valid_loader,\n",
    "        mlp_params,\n",
    "        model_name=mlp_params.MODEL_NAME,\n",
    "        shuffle=mlp_params.SHUFFLE,\n",
    "    )\n",
    "elif mlp_params.MODEL_TYPE == \"Binary_Classification\":\n",
    "    y_pred_list, y_pred_prob_list = test_optimized_model(\n",
    "        model,\n",
    "        valid_loader,\n",
    "        mlp_params,\n",
    "        model_name=mlp_params.MODEL_NAME,\n",
    "        shuffle=mlp_params.SHUFFLE,\n",
    "    )\n",
    "else:\n",
    "    raise Exception(\"Model type must be specified for proper model testing\")\n",
    "\n",
    "# un-nest list if nested i.e. length of input data does not match length of output data\n",
    "if len(y_pred_list) != len(Y_test):\n",
    "    y_pred_list = un_nest(y_pred_list)\n",
    "    if mlp_params.MODEL_TYPE == \"Binary_Classification\":\n",
    "        y_pred_prob_list = un_nest(y_pred_prob_list)\n",
    "else:\n",
    "    pass"
   ]
  },
  {
   "cell_type": "code",
   "execution_count": 49,
   "id": "88e9f528",
   "metadata": {},
   "outputs": [],
   "source": [
    "# convert output tensors into arrays\n",
    "\n",
    "# list of tensors to list of lists\n",
    "y_pred_prob_list = [tensor.tolist() for tensor in y_pred_prob_list]\n",
    "Y_test_list = [tensor.tolist() for tensor in Y_test_list]\n",
    "# completly flatten list of lists\n",
    "new_prob_list = []\n",
    "for i in y_pred_prob_list:\n",
    "    for j in i:\n",
    "        new_prob_list.append(j)\n",
    "\n",
    "new_y_test_list = []\n",
    "for i in Y_test_list:\n",
    "    for j in i:\n",
    "        new_y_test_list.append(j)\n",
    "\n",
    "# list of lists to array\n",
    "y_pred_prob_list = np.array(new_prob_list)\n",
    "Y_test = np.array(new_y_test_list)"
   ]
  },
  {
   "cell_type": "code",
   "execution_count": 50,
   "id": "75d2286a",
   "metadata": {},
   "outputs": [],
   "source": [
    "# get the PR curve for each class\n",
    "pr_curve_0 = precision_recall_curve(Y_test[:, 0], y_pred_prob_list[:, 0])\n",
    "pr_curve_1 = precision_recall_curve(Y_test[:, 1], y_pred_prob_list[:, 1])\n",
    "pr_curve_2 = precision_recall_curve(Y_test[:, 2], y_pred_prob_list[:, 2])"
   ]
  },
  {
   "cell_type": "code",
   "execution_count": 51,
   "id": "4ece253d",
   "metadata": {},
   "outputs": [
    {
     "name": "stderr",
     "output_type": "stream",
     "text": [
      "/tmp/ipykernel_2802345/95662448.py:28: SettingWithCopyWarning: \n",
      "A value is trying to be set on a copy of a slice from a DataFrame\n",
      "\n",
      "See the caveats in the documentation: https://pandas.pydata.org/pandas-docs/stable/user_guide/indexing.html#returning-a-view-versus-a-copy\n",
      "  tmp_df.drop_duplicates(inplace=True)\n"
     ]
    }
   ],
   "source": [
    "# make a dataframe of the precision-recall curves for each class\n",
    "pr_curve_0 = pd.DataFrame(\n",
    "    zip(pr_curve_0[0], pr_curve_0[1]),\n",
    "    columns=[\"precision\", \"recall\"],\n",
    ")\n",
    "pr_curve_0[\"label\"] = 0\n",
    "\n",
    "pr_curve_1 = pd.DataFrame(\n",
    "    zip(pr_curve_1[0], pr_curve_1[1]),\n",
    "    columns=[\"precision\", \"recall\"],\n",
    ")\n",
    "pr_curve_1[\"label\"] = 1\n",
    "\n",
    "pr_curve_2 = pd.DataFrame(\n",
    "    zip(pr_curve_2[0], pr_curve_2[1]),\n",
    "    columns=[\"precision\", \"recall\"],\n",
    ")\n",
    "pr_curve_2[\"label\"] = 2\n",
    "\n",
    "# make the precision-recall curve dataframe\n",
    "pr_curve_df = pd.DataFrame(columns=[\"precision\", \"recall\", \"label\"])\n",
    "pr_curve_df = pd.concat([pr_curve_df, pr_curve_0, pr_curve_1, pr_curve_2])\n",
    "\n",
    "\n",
    "# get the decoded labels\n",
    "tmp_df = df_values[[\"new_labels\", \"labels\"]]\n",
    "# get the unique rows\n",
    "tmp_df.drop_duplicates(inplace=True)\n",
    "# make a dict of the labels and new labels\n",
    "label_dict = dict(zip(tmp_df[\"new_labels\"], tmp_df[\"labels\"]))\n",
    "\n",
    "# change the label column to the actual labels from the label dict\n",
    "pr_curve_df[\"label\"] = pr_curve_df[\"label\"].map(label_dict)\n",
    "pr_curve_df[\"data_split\"] = \"validation\"\n",
    "pr_curve_df[\"shuffle\"] = mlp_params.SHUFFLE"
   ]
  },
  {
   "cell_type": "code",
   "execution_count": 52,
   "id": "dd75f380",
   "metadata": {},
   "outputs": [
    {
     "name": "stderr",
     "output_type": "stream",
     "text": [
      "/tmp/ipykernel_2802345/2243255322.py:3: FutureWarning: In a future version, object-dtype columns with all-bool values will not be included in reductions with bool_only=True. Explicitly cast to bool dtype instead.\n",
      "  pr_curve_df_all = pd.concat([pr_curve_df_all, pr_curve_df], axis=0)\n"
     ]
    }
   ],
   "source": [
    "# create a master dataframe to store all the model stats\n",
    "# across all data splits and shuffled data\n",
    "pr_curve_df_all = pd.concat([pr_curve_df_all, pr_curve_df], axis=0)"
   ]
  },
  {
   "cell_type": "code",
   "execution_count": 53,
   "id": "f3e9b542",
   "metadata": {},
   "outputs": [
    {
     "data": {
      "text/plain": [
       "array(['train', 'validation'], dtype=object)"
      ]
     },
     "execution_count": 53,
     "metadata": {},
     "output_type": "execute_result"
    }
   ],
   "source": [
    "pr_curve_df_all[\"data_split\"].unique()"
   ]
  },
  {
   "cell_type": "code",
   "execution_count": 54,
   "id": "e6ce5ab0",
   "metadata": {},
   "outputs": [
    {
     "name": "stderr",
     "output_type": "stream",
     "text": [
      "/tmp/ipykernel_2802345/614001076.py:23: FutureWarning: In a future version, object-dtype columns with all-bool values will not be included in reductions with bool_only=True. Explicitly cast to bool dtype instead.\n",
      "  main_prob_df = pd.concat([main_prob_df, prob_df])\n"
     ]
    }
   ],
   "source": [
    "class_0_prob = []\n",
    "class_1_prob = []\n",
    "class_2_prob = []\n",
    "\n",
    "for i in y_pred_prob_list:\n",
    "    class_0_prob.append(i[0])\n",
    "    class_1_prob.append(i[1])\n",
    "    class_2_prob.append(i[2])\n",
    "\n",
    "\n",
    "prob_df = pd.DataFrame(\n",
    "    zip(class_0_prob, class_1_prob, class_2_prob),\n",
    "    columns=[\"apoptosis_prob\", \"control_prob\", \"pyroptosis_prob\"],\n",
    ")\n",
    "label_true = [np.argmax(i) for i in Y_test]\n",
    "\n",
    "prob_df[\"label_true\"] = label_true\n",
    "prob_df[\"label_pred\"] = y_pred_list\n",
    "prob_df[\"data_split\"] = \"validation\"\n",
    "prob_df[\"shuffle\"] = mlp_params.SHUFFLE\n",
    "prob_df[\"class_name\"] = prob_df[\"label_true\"].map(label_dict)\n",
    "\n",
    "main_prob_df = pd.concat([main_prob_df, prob_df])"
   ]
  },
  {
   "cell_type": "code",
   "execution_count": 55,
   "id": "72f18f53",
   "metadata": {},
   "outputs": [],
   "source": [
    "Y_test_list = [np.argmax(i) for i in Y_test]"
   ]
  },
  {
   "cell_type": "code",
   "execution_count": 56,
   "id": "444b8e3e",
   "metadata": {
    "execution": {
     "iopub.execute_input": "2023-11-13T03:45:30.862100Z",
     "iopub.status.busy": "2023-11-13T03:45:30.861930Z",
     "iopub.status.idle": "2023-11-13T03:45:30.962171Z",
     "shell.execute_reply": "2023-11-13T03:45:30.961719Z"
    },
    "papermill": {
     "duration": null,
     "end_time": null,
     "exception": null,
     "start_time": null,
     "status": "pending"
    },
    "tags": []
   },
   "outputs": [
    {
     "name": "stdout",
     "output_type": "stream",
     "text": [
      "              precision    recall  f1-score   support\n",
      "\n",
      "           0       0.86      0.72      0.79      1993\n",
      "           1       0.76      0.93      0.84     22273\n",
      "           2       0.84      0.56      0.67     13803\n",
      "\n",
      "    accuracy                           0.79     38069\n",
      "   macro avg       0.82      0.74      0.77     38069\n",
      "weighted avg       0.80      0.79      0.78     38069\n",
      "\n"
     ]
    },
    {
     "name": "stderr",
     "output_type": "stream",
     "text": [
      "/tmp/ipykernel_2802345/3777910350.py:18: SettingWithCopyWarning: \n",
      "A value is trying to be set on a copy of a slice from a DataFrame.\n",
      "Try using .loc[row_indexer,col_indexer] = value instead\n",
      "\n",
      "See the caveats in the documentation: https://pandas.pydata.org/pandas-docs/stable/user_guide/indexing.html#returning-a-view-versus-a-copy\n",
      "  df_labels[\"new_labels\"] = df_labels[\"new_labels\"].astype(str)\n"
     ]
    }
   ],
   "source": [
    "stats_df = output_stats(\n",
    "    y_pred_list,\n",
    "    Y_test_list,\n",
    "    mlp_params,\n",
    "    test_name=f\"{mlp_params.MODEL_NAME}_train\",\n",
    "    model_name=mlp_params.MODEL_NAME,\n",
    "    title=mlp_params.MODEL_NAME,\n",
    "    shuffle=mlp_params.SHUFFLE,\n",
    ")\n",
    "# make into a dataframe\n",
    "stats_df = pd.DataFrame.from_dict(stats_df).transpose()\n",
    "stats_df.reset_index(inplace=True)\n",
    "stats_df.rename(columns={\"index\": \"label\"}, inplace=True)\n",
    "stats_df = stats_df.melt(id_vars=[\"label\"], var_name=\"metric\", value_name=\"value\")\n",
    "# if accuracy in row of column 1 then change value of column 2 to accuracy\n",
    "stats_df.loc[stats_df[\"label\"] == \"accuracy\", \"metric\"] = \"accuracy\"\n",
    "# create a decoder dictionary from df_labels\n",
    "df_labels[\"new_labels\"] = df_labels[\"new_labels\"].astype(str)\n",
    "decoder = df_labels.set_index(\"new_labels\").to_dict()[\"labels\"]\n",
    "decoder[\"accuracy\"] = \"accuracy\"\n",
    "decoder[\"macro avg\"] = \"macro avg\"\n",
    "decoder[\"weighted avg\"] = \"weighted avg\"\n",
    "stats_df[\"label\"] = stats_df[\"label\"].map(decoder)"
   ]
  },
  {
   "cell_type": "code",
   "execution_count": 57,
   "id": "2573e7a6",
   "metadata": {
    "execution": {
     "iopub.execute_input": "2023-11-13T03:45:30.989234Z",
     "iopub.status.busy": "2023-11-13T03:45:30.989069Z",
     "iopub.status.idle": "2023-11-13T03:45:30.992766Z",
     "shell.execute_reply": "2023-11-13T03:45:30.992326Z"
    },
    "papermill": {
     "duration": null,
     "end_time": null,
     "exception": null,
     "start_time": null,
     "status": "pending"
    },
    "tags": []
   },
   "outputs": [
    {
     "name": "stderr",
     "output_type": "stream",
     "text": [
      "/tmp/ipykernel_2802345/1023299338.py:4: FutureWarning: In a future version, object-dtype columns with all-bool values will not be included in reductions with bool_only=True. Explicitly cast to bool dtype instead.\n",
      "  model_stats_df = pd.concat([model_stats_df, stats_df], axis=0)\n"
     ]
    }
   ],
   "source": [
    "stats_df[\"group\"] = \"validation\"\n",
    "stats_df[\"shuffled_data\"] = mlp_params.SHUFFLE\n",
    "\n",
    "model_stats_df = pd.concat([model_stats_df, stats_df], axis=0)"
   ]
  },
  {
   "cell_type": "code",
   "execution_count": 58,
   "id": "8c2595e2",
   "metadata": {},
   "outputs": [],
   "source": [
    "# make a df of the predictions and the true labels\n",
    "y_pred_df = pd.DataFrame(y_pred_list, columns=[\"predicted_label\"])\n",
    "y_true_df = pd.DataFrame(Y_test_list, columns=[\"true_label\"])\n",
    "# concat the two dataframes\n",
    "# final_predictions_df = pd.concat([y_true_df, y_pred_df], axis=1)\n",
    "y_pred_df = pd.concat([y_true_df, y_pred_df], axis=1)"
   ]
  },
  {
   "cell_type": "code",
   "execution_count": 59,
   "id": "554ce6e9",
   "metadata": {},
   "outputs": [],
   "source": [
    "# merge y_pred_df with metadata_holdout whiile keeping the index of metadata_holdout\n",
    "metadata_val.reset_index(inplace=True)\n",
    "y_pred_df = pd.concat([y_pred_df, metadata_val], axis=1)\n",
    "# set the index to the index column\n",
    "y_pred_df.set_index(\"index\", inplace=True, drop=True)"
   ]
  },
  {
   "cell_type": "code",
   "execution_count": 60,
   "id": "69aa0994",
   "metadata": {},
   "outputs": [],
   "source": [
    "y_pred_df[\"data_split\"] = \"validation\"\n",
    "y_pred_df[\"shuffle\"] = mlp_params.SHUFFLE"
   ]
  },
  {
   "cell_type": "code",
   "execution_count": 61,
   "id": "2280e9bc",
   "metadata": {},
   "outputs": [],
   "source": [
    "# set path for the model confusion matrices\n",
    "y_pred_df_path = pathlib.Path(\n",
    "    f\"../../results/Multi_Class/{mlp_params.MODEL_NAME}/{mlp_params.CELL_TYPE}/validation_single_cell_predictions.parquet\"\n",
    ")\n",
    "y_pred_df_path.parent.mkdir(parents=True, exist_ok=True)\n",
    "if y_pred_df_path.exists():\n",
    "    predictions_df_tmp = pd.read_parquet(y_pred_df_path)\n",
    "    if len(predictions_df_tmp[\"data_split\"].unique()) > 1:\n",
    "        pass\n",
    "    elif predictions_df_tmp[\"data_split\"].unique() == mlp_params.SHUFFLE:\n",
    "        pass\n",
    "    else:\n",
    "        metrics_df = pd.concat([predictions_df_tmp, y_pred_df], axis=0)\n",
    "        metrics_df.to_parquet(y_pred_df_path, index=False)\n",
    "else:\n",
    "    y_pred_df.to_parquet(y_pred_df_path, index=False)"
   ]
  },
  {
   "cell_type": "code",
   "execution_count": 62,
   "id": "d3af248c",
   "metadata": {},
   "outputs": [],
   "source": [
    "final_predictions_df = pd.concat([final_predictions_df, y_pred_df], axis=0)"
   ]
  },
  {
   "cell_type": "markdown",
   "id": "b1a18529",
   "metadata": {
    "papermill": {
     "duration": null,
     "end_time": null,
     "exception": null,
     "start_time": null,
     "status": "pending"
    },
    "tags": []
   },
   "source": [
    "## Testing on the test data"
   ]
  },
  {
   "cell_type": "code",
   "execution_count": 63,
   "id": "5b5e76f8",
   "metadata": {
    "execution": {
     "iopub.execute_input": "2023-11-13T03:45:31.073811Z",
     "iopub.status.busy": "2023-11-13T03:45:31.073498Z",
     "iopub.status.idle": "2023-11-13T03:45:31.077443Z",
     "shell.execute_reply": "2023-11-13T03:45:31.077009Z"
    },
    "papermill": {
     "duration": null,
     "end_time": null,
     "exception": null,
     "start_time": null,
     "status": "pending"
    },
    "tags": []
   },
   "outputs": [],
   "source": [
    "# create a dataframe to store the model confusion matrix\n",
    "data_split_conf_mat_df_all = pd.DataFrame(\n",
    "    columns=[\"True_Label\", \"Predicted_Label\", \"Count\", \"data_split\", \"Recall\"]\n",
    ")"
   ]
  },
  {
   "cell_type": "code",
   "execution_count": 64,
   "id": "d30cef39",
   "metadata": {
    "execution": {
     "iopub.execute_input": "2023-11-13T03:45:31.103198Z",
     "iopub.status.busy": "2023-11-13T03:45:31.102764Z",
     "iopub.status.idle": "2023-11-13T03:45:58.660822Z",
     "shell.execute_reply": "2023-11-13T03:45:58.660292Z"
    },
    "papermill": {
     "duration": null,
     "end_time": null,
     "exception": null,
     "start_time": null,
     "status": "pending"
    },
    "tags": []
   },
   "outputs": [
    {
     "name": "stdout",
     "output_type": "stream",
     "text": [
      "MultiClass_MLP\n"
     ]
    }
   ],
   "source": [
    "# calling the testing function and outputting list values of tested model\n",
    "if any(\n",
    "    model_type == mlp_params.MODEL_TYPE for model_type in [\"Multi_Class\", \"Regression\"]\n",
    "):\n",
    "    (y_pred_list, y_pred_prob_list, Y_test_list,) = test_optimized_model(\n",
    "        model,\n",
    "        test_loader,\n",
    "        params,\n",
    "        model_name=mlp_params.MODEL_NAME,\n",
    "        shuffle=mlp_params.SHUFFLE,\n",
    "    )\n",
    "elif mlp_params.MODEL_TYPE == \"Binary_Classification\":\n",
    "    y_pred_list, y_pred_prob_list = test_optimized_model(\n",
    "        model,\n",
    "        test_loader,\n",
    "        params,\n",
    "        model_name=mlp_params.MODEL_NAME,\n",
    "        shuffle=mlp_params.SHUFFLE,\n",
    "    )\n",
    "else:\n",
    "    raise Exception(\"Model type must be specified for proper model testing\")"
   ]
  },
  {
   "cell_type": "code",
   "execution_count": 65,
   "id": "9a7fe0ee",
   "metadata": {},
   "outputs": [],
   "source": [
    "# convert output tensors into arrays\n",
    "\n",
    "# list of tensors to list of lists\n",
    "y_pred_prob_list = [tensor.tolist() for tensor in y_pred_prob_list]\n",
    "Y_test_list = [tensor.tolist() for tensor in Y_test_list]\n",
    "# completly flatten list of lists\n",
    "new_prob_list = []\n",
    "for i in y_pred_prob_list:\n",
    "    for j in i:\n",
    "        new_prob_list.append(j)\n",
    "\n",
    "new_y_test_list = []\n",
    "for i in Y_test_list:\n",
    "    for j in i:\n",
    "        new_y_test_list.append(j)\n",
    "\n",
    "# list of lists to array\n",
    "y_pred_prob_list = np.array(new_prob_list)\n",
    "Y_test = np.array(new_y_test_list)"
   ]
  },
  {
   "cell_type": "code",
   "execution_count": 66,
   "id": "3f8027c3",
   "metadata": {},
   "outputs": [],
   "source": [
    "# get the PR curve for each class\n",
    "pr_curve_0 = precision_recall_curve(Y_test[:, 0], y_pred_prob_list[:, 0])\n",
    "pr_curve_1 = precision_recall_curve(Y_test[:, 1], y_pred_prob_list[:, 1])\n",
    "pr_curve_2 = precision_recall_curve(Y_test[:, 2], y_pred_prob_list[:, 2])"
   ]
  },
  {
   "cell_type": "code",
   "execution_count": 67,
   "id": "ca960ee9",
   "metadata": {},
   "outputs": [
    {
     "name": "stderr",
     "output_type": "stream",
     "text": [
      "/tmp/ipykernel_2802345/1312179888.py:28: SettingWithCopyWarning: \n",
      "A value is trying to be set on a copy of a slice from a DataFrame\n",
      "\n",
      "See the caveats in the documentation: https://pandas.pydata.org/pandas-docs/stable/user_guide/indexing.html#returning-a-view-versus-a-copy\n",
      "  tmp_df.drop_duplicates(inplace=True)\n"
     ]
    }
   ],
   "source": [
    "# make a dataframe of the precision-recall curves for each class\n",
    "pr_curve_0 = pd.DataFrame(\n",
    "    zip(pr_curve_0[0], pr_curve_0[1]),\n",
    "    columns=[\"precision\", \"recall\"],\n",
    ")\n",
    "pr_curve_0[\"label\"] = 0\n",
    "\n",
    "pr_curve_1 = pd.DataFrame(\n",
    "    zip(pr_curve_1[0], pr_curve_1[1]),\n",
    "    columns=[\"precision\", \"recall\"],\n",
    ")\n",
    "pr_curve_1[\"label\"] = 1\n",
    "\n",
    "pr_curve_2 = pd.DataFrame(\n",
    "    zip(pr_curve_2[0], pr_curve_2[1]),\n",
    "    columns=[\"precision\", \"recall\"],\n",
    ")\n",
    "pr_curve_2[\"label\"] = 2\n",
    "\n",
    "# make the precision-recall curve dataframe\n",
    "pr_curve_df = pd.DataFrame(columns=[\"precision\", \"recall\", \"label\"])\n",
    "pr_curve_df = pd.concat([pr_curve_df, pr_curve_0, pr_curve_1, pr_curve_2])\n",
    "\n",
    "\n",
    "# get the decoded labels\n",
    "tmp_df = df_values[[\"new_labels\", \"labels\"]]\n",
    "# get the unique rows\n",
    "tmp_df.drop_duplicates(inplace=True)\n",
    "# make a dict of the labels and new labels\n",
    "label_dict = dict(zip(tmp_df[\"new_labels\"], tmp_df[\"labels\"]))\n",
    "\n",
    "# change the label column to the actual labels from the label dict\n",
    "pr_curve_df[\"label\"] = pr_curve_df[\"label\"].map(label_dict)\n",
    "pr_curve_df[\"data_split\"] = \"testing\"\n",
    "pr_curve_df[\"shuffle\"] = mlp_params.SHUFFLE"
   ]
  },
  {
   "cell_type": "code",
   "execution_count": 68,
   "id": "b6abe280",
   "metadata": {},
   "outputs": [
    {
     "name": "stderr",
     "output_type": "stream",
     "text": [
      "/tmp/ipykernel_2802345/2109324303.py:4: FutureWarning: In a future version, object-dtype columns with all-bool values will not be included in reductions with bool_only=True. Explicitly cast to bool dtype instead.\n",
      "  pr_curve_df_all = pd.concat([pr_curve_df_all, pr_curve_df], axis=0)\n"
     ]
    }
   ],
   "source": [
    "# create a master dataframe to store all the model stats\n",
    "# across all data splits and shuffled data\n",
    "\n",
    "pr_curve_df_all = pd.concat([pr_curve_df_all, pr_curve_df], axis=0)"
   ]
  },
  {
   "cell_type": "code",
   "execution_count": 69,
   "id": "bb61afb4",
   "metadata": {},
   "outputs": [
    {
     "data": {
      "text/plain": [
       "array(['train', 'validation', 'testing'], dtype=object)"
      ]
     },
     "execution_count": 69,
     "metadata": {},
     "output_type": "execute_result"
    }
   ],
   "source": [
    "pr_curve_df_all[\"data_split\"].unique()"
   ]
  },
  {
   "cell_type": "code",
   "execution_count": 70,
   "id": "4a540aeb",
   "metadata": {},
   "outputs": [
    {
     "name": "stderr",
     "output_type": "stream",
     "text": [
      "/tmp/ipykernel_2802345/2665442289.py:23: FutureWarning: In a future version, object-dtype columns with all-bool values will not be included in reductions with bool_only=True. Explicitly cast to bool dtype instead.\n",
      "  main_prob_df = pd.concat([main_prob_df, prob_df])\n"
     ]
    }
   ],
   "source": [
    "class_0_prob = []\n",
    "class_1_prob = []\n",
    "class_2_prob = []\n",
    "\n",
    "for i in y_pred_prob_list:\n",
    "    class_0_prob.append(i[0])\n",
    "    class_1_prob.append(i[1])\n",
    "    class_2_prob.append(i[2])\n",
    "\n",
    "\n",
    "prob_df = pd.DataFrame(\n",
    "    zip(class_0_prob, class_1_prob, class_2_prob),\n",
    "    columns=[\"apoptosis_prob\", \"control_prob\", \"pyroptosis_prob\"],\n",
    ")\n",
    "label_true = [np.argmax(i) for i in Y_test]\n",
    "\n",
    "prob_df[\"label_true\"] = label_true\n",
    "prob_df[\"label_pred\"] = y_pred_list\n",
    "prob_df[\"data_split\"] = \"testing\"\n",
    "prob_df[\"shuffle\"] = mlp_params.SHUFFLE\n",
    "prob_df[\"class_name\"] = prob_df[\"label_true\"].map(label_dict)\n",
    "\n",
    "main_prob_df = pd.concat([main_prob_df, prob_df])"
   ]
  },
  {
   "cell_type": "code",
   "execution_count": 71,
   "id": "e87c851e",
   "metadata": {},
   "outputs": [],
   "source": [
    "Y_test_list = [np.argmax(i) for i in Y_test]"
   ]
  },
  {
   "cell_type": "code",
   "execution_count": 72,
   "id": "ba2c00bd",
   "metadata": {
    "execution": {
     "iopub.execute_input": "2023-11-13T03:45:58.690648Z",
     "iopub.status.busy": "2023-11-13T03:45:58.690243Z",
     "iopub.status.idle": "2023-11-13T03:46:00.411883Z",
     "shell.execute_reply": "2023-11-13T03:46:00.411387Z"
    },
    "papermill": {
     "duration": null,
     "end_time": null,
     "exception": null,
     "start_time": null,
     "status": "pending"
    },
    "tags": []
   },
   "outputs": [
    {
     "name": "stdout",
     "output_type": "stream",
     "text": [
      "              precision    recall  f1-score   support\n",
      "\n",
      "           0       0.73      0.85      0.79      8605\n",
      "           1       0.93      0.73      0.82    143320\n",
      "           2       0.53      0.86      0.66     50125\n",
      "\n",
      "    accuracy                           0.76    202050\n",
      "   macro avg       0.73      0.81      0.75    202050\n",
      "weighted avg       0.83      0.76      0.78    202050\n",
      "\n",
      "Precision for class 0: 0.8496223126089482\n",
      "Recall for class 0: 0.7336678374310085\n",
      "Precision for class 1: 0.7255512140664248\n",
      "Recall for class 1: 0.9337823275862069\n",
      "Precision for class 2: 0.8586134663341645\n",
      "Recall for class 2: 0.5331433880458346\n",
      "3\n"
     ]
    },
    {
     "data": {
      "image/png": "[encoded data removed]",
      "text/plain": [
       "<Figure size 640x480 with 2 Axes>"
      ]
     },
     "metadata": {},
     "output_type": "display_data"
    },
    {
     "data": {
      "image/png": "[encoded data removed]",
      "text/plain": [
       "<Figure size 640x480 with 1 Axes>"
      ]
     },
     "metadata": {},
     "output_type": "display_data"
    }
   ],
   "source": [
    "# Call visualization function\n",
    "# calling the testing function and outputing list values of tested model\n",
    "if any(\n",
    "    model_type == mlp_params.MODEL_TYPE for model_type in [\"Multi_Class\", \"Regression\"]\n",
    "):\n",
    "    confusion_matrix_df = results_output(\n",
    "        y_pred_list,\n",
    "        Y_test_list,\n",
    "        params,\n",
    "        test_name=f\"{mlp_params.MODEL_NAME}_testing\",\n",
    "        model_name=mlp_params.MODEL_NAME,\n",
    "        title=mlp_params.MODEL_NAME,\n",
    "        shuffle=mlp_params.SHUFFLE,\n",
    "    )\n",
    "elif mlp_params.MODEL_TYPE == \"Binary_Classification\":\n",
    "    results_output(\n",
    "        y_pred_list,\n",
    "        Y_test,\n",
    "        params,\n",
    "        y_pred_prob_list,\n",
    "        test_name=f\"{mlp_params.MODEL_NAME}_testing\",\n",
    "        model_name=mlp_params.MODEL_NAME,\n",
    "        title=mlp_params.MODEL_NAME,\n",
    "        shuffle=mlp_params.SHUFFLE,\n",
    "    )\n",
    "else:\n",
    "    raise Exception(\"Model type must be specified for proper model testing\")"
   ]
  },
  {
   "cell_type": "code",
   "execution_count": 73,
   "id": "1234be45",
   "metadata": {},
   "outputs": [],
   "source": [
    "# # define a final dataframe to store the predictions\n",
    "# final_predictions_df = pd.DataFrame()"
   ]
  },
  {
   "cell_type": "code",
   "execution_count": 74,
   "id": "46ac0cf7",
   "metadata": {},
   "outputs": [],
   "source": [
    "# make a df of the predictions and the true labels\n",
    "y_pred_df = pd.DataFrame(y_pred_list, columns=[\"predicted_label\"])\n",
    "y_true_df = pd.DataFrame(Y_test_list, columns=[\"true_label\"])\n",
    "# concat the two dataframes\n",
    "# final_predictions_df = pd.concat([y_true_df, y_pred_df], axis=1)\n",
    "y_pred_df = pd.concat([y_true_df, y_pred_df], axis=1)"
   ]
  },
  {
   "cell_type": "code",
   "execution_count": 75,
   "id": "4f348692",
   "metadata": {},
   "outputs": [],
   "source": [
    "# merge y_pred_df with metadata_holdout while keeping the index of metadata_holdout\n",
    "metadata_test.reset_index(inplace=True)\n",
    "y_pred_df = pd.concat([y_pred_df, metadata_test], axis=1)\n",
    "# set the index to the index column\n",
    "y_pred_df.set_index(\"index\", inplace=True, drop=True)"
   ]
  },
  {
   "cell_type": "code",
   "execution_count": 76,
   "id": "329bc0d0",
   "metadata": {},
   "outputs": [],
   "source": [
    "y_pred_df[\"data_split\"] = \"test\"\n",
    "y_pred_df[\"shuffle\"] = mlp_params.SHUFFLE"
   ]
  },
  {
   "cell_type": "code",
   "execution_count": 77,
   "id": "6db2f672",
   "metadata": {},
   "outputs": [],
   "source": [
    "# set path for the model confusion matrices\n",
    "y_pred_df_path = pathlib.Path(\n",
    "    f\"../../results/Multi_Class/{mlp_params.MODEL_NAME}/{mlp_params.CELL_TYPE}/testing_single_cell_predictions.parquet\"\n",
    ")\n",
    "y_pred_df_path.parent.mkdir(parents=True, exist_ok=True)\n",
    "if y_pred_df_path.exists():\n",
    "    predictions_df_tmp = pd.read_parquet(y_pred_df_path)\n",
    "    if len(predictions_df_tmp[\"data_split\"].unique()) > 1:\n",
    "        pass\n",
    "    elif predictions_df_tmp[\"data_split\"].unique() == mlp_params.SHUFFLE:\n",
    "        pass\n",
    "    else:\n",
    "        metrics_df = pd.concat([predictions_df_tmp, y_pred_df], axis=0)\n",
    "        metrics_df.to_parquet(y_pred_df_path, index=False)\n",
    "else:\n",
    "    y_pred_df.to_parquet(y_pred_df_path, index=False)"
   ]
  },
  {
   "cell_type": "code",
   "execution_count": 78,
   "id": "1de56eae",
   "metadata": {},
   "outputs": [],
   "source": [
    "final_predictions_df = pd.concat([final_predictions_df, y_pred_df], axis=0)"
   ]
  },
  {
   "cell_type": "code",
   "execution_count": 79,
   "id": "7d74124b",
   "metadata": {
    "execution": {
     "iopub.execute_input": "2023-11-13T03:46:00.441418Z",
     "iopub.status.busy": "2023-11-13T03:46:00.441055Z",
     "iopub.status.idle": "2023-11-13T03:46:00.444604Z",
     "shell.execute_reply": "2023-11-13T03:46:00.444216Z"
    },
    "papermill": {
     "duration": null,
     "end_time": null,
     "exception": null,
     "start_time": null,
     "status": "pending"
    },
    "tags": []
   },
   "outputs": [],
   "source": [
    "# rename columns from the decoder dictionary\n",
    "confusion_matrix_df.rename(\n",
    "    columns={0: \"apoptosis\", 1: \"healthy\", 2: \"pyroptosis\"}, inplace=True\n",
    ")\n",
    "confusion_matrix_df.rename(\n",
    "    index={0: \"apoptosis\", 1: \"healthy\", 2: \"pyroptosis\"}, inplace=True\n",
    ")"
   ]
  },
  {
   "cell_type": "code",
   "execution_count": 80,
   "id": "a570c014",
   "metadata": {
    "execution": {
     "iopub.execute_input": "2023-11-13T03:46:00.504227Z",
     "iopub.status.busy": "2023-11-13T03:46:00.503933Z",
     "iopub.status.idle": "2023-11-13T03:46:02.086994Z",
     "shell.execute_reply": "2023-11-13T03:46:02.086381Z"
    },
    "papermill": {
     "duration": null,
     "end_time": null,
     "exception": null,
     "start_time": null,
     "status": "pending"
    },
    "tags": []
   },
   "outputs": [],
   "source": [
    "confusion_matrices = confusion_matrix_df.reset_index()\n",
    "# melt the DataFrame to a long format\n",
    "confusion_matrices = pd.melt(\n",
    "    confusion_matrices,\n",
    "    id_vars=[\"index\"],\n",
    "    value_vars=[\"healthy\", \"apoptosis\", \"pyroptosis\"],\n",
    ")\n",
    "\n",
    "# rename the columns\n",
    "confusion_matrices.columns = [\"True_Label\", \"Predicted_Label\", \"Count\"]\n",
    "confusion_matrices[\"data_split\"] = \"testing\"\n",
    "# sum of the columns of the confusion matrix gives the total number of samples per class\n",
    "sum_of_columns = confusion_matrix_df.sum(axis=0)"
   ]
  },
  {
   "cell_type": "code",
   "execution_count": 81,
   "id": "09c57815",
   "metadata": {
    "execution": {
     "iopub.execute_input": "2023-11-13T03:21:29.587463Z",
     "iopub.status.busy": "2023-11-13T03:21:29.587136Z",
     "iopub.status.idle": "2023-11-13T03:21:29.590692Z",
     "shell.execute_reply": "2023-11-13T03:21:29.590308Z"
    },
    "papermill": {
     "duration": null,
     "end_time": null,
     "exception": null,
     "start_time": null,
     "status": "pending"
    },
    "tags": []
   },
   "outputs": [],
   "source": [
    "# normalize confusion matrix\n",
    "# get the sum of each column to normalize the confusion matrix by the total number of samples per class\n",
    "\n",
    "# divide the apotosis column by the sum of the apotosis column\n",
    "confusion_matrix_df[\"apoptosis\"] = confusion_matrix_df[\"apoptosis\"] / sum_of_columns[0]\n",
    "# divide the healthy column by the sum of the healthy column\n",
    "confusion_matrix_df[\"healthy\"] = confusion_matrix_df[\"healthy\"] / sum_of_columns[1]\n",
    "# divide the pyroptosis column by the sum of the pyroptosis column\n",
    "confusion_matrix_df[\"pyroptosis\"] = (\n",
    "    confusion_matrix_df[\"pyroptosis\"] / sum_of_columns[2]\n",
    ")"
   ]
  },
  {
   "cell_type": "code",
   "execution_count": 82,
   "id": "b394f6ad",
   "metadata": {
    "execution": {
     "iopub.execute_input": "2023-11-13T03:21:29.644888Z",
     "iopub.status.busy": "2023-11-13T03:21:29.644610Z",
     "iopub.status.idle": "2023-11-13T03:21:29.653537Z",
     "shell.execute_reply": "2023-11-13T03:21:29.653154Z"
    },
    "papermill": {
     "duration": null,
     "end_time": null,
     "exception": null,
     "start_time": null,
     "status": "pending"
    },
    "tags": []
   },
   "outputs": [],
   "source": [
    "confusion_matrices_recall = confusion_matrix_df.reset_index()\n",
    "# melt the DataFrame to a long format\n",
    "confusion_matrices_recall = pd.melt(\n",
    "    confusion_matrices_recall,\n",
    "    id_vars=[\"index\"],\n",
    "    value_vars=[\"healthy\", \"apoptosis\", \"pyroptosis\"],\n",
    ")\n",
    "\n",
    "# rename the columns\n",
    "confusion_matrices_recall.columns = [\"True_Label\", \"Predicted_Label\", \"Count\"]\n",
    "confusion_matrices_recall[\"data_split\"] = \"testing\"\n",
    "confusion_matrices_recall.rename(columns={\"Count\": \"Recall\"}, inplace=True)\n",
    "data_split_conf_mat_df = pd.merge(\n",
    "    confusion_matrices,\n",
    "    confusion_matrices_recall,\n",
    "    on=[\"True_Label\", \"Predicted_Label\", \"data_split\"],\n",
    ")\n",
    "data_split_conf_mat_df[\"shuffled_data\"] = mlp_params.SHUFFLE\n",
    "data_split_conf_mat_df_all = pd.concat(\n",
    "    [data_split_conf_mat_df_all, data_split_conf_mat_df], axis=0\n",
    ")"
   ]
  },
  {
   "cell_type": "code",
   "execution_count": 83,
   "id": "1ff8a8fd",
   "metadata": {
    "execution": {
     "iopub.execute_input": "2023-11-13T03:21:29.709364Z",
     "iopub.status.busy": "2023-11-13T03:21:29.709087Z",
     "iopub.status.idle": "2023-11-13T03:21:29.875053Z",
     "shell.execute_reply": "2023-11-13T03:21:29.874655Z"
    },
    "papermill": {
     "duration": null,
     "end_time": null,
     "exception": null,
     "start_time": null,
     "status": "pending"
    },
    "tags": []
   },
   "outputs": [
    {
     "data": {
      "image/png": "[encoded data removed]",
      "text/plain": [
       "<Figure size 640x480 with 2 Axes>"
      ]
     },
     "metadata": {},
     "output_type": "display_data"
    }
   ],
   "source": [
    "ax = sns.heatmap(confusion_matrix_df, annot=True)\n",
    "ax.invert_xaxis()\n",
    "ax.invert_yaxis()\n",
    "plt.xlabel(\"Actual Values\", size=15)\n",
    "plt.ylabel(\"Predicted Values\", size=15)\n",
    "plt.show()"
   ]
  },
  {
   "cell_type": "code",
   "execution_count": 84,
   "id": "6e9b9cc1",
   "metadata": {
    "execution": {
     "iopub.execute_input": "2023-11-13T03:21:29.900899Z",
     "iopub.status.busy": "2023-11-13T03:21:29.900540Z",
     "iopub.status.idle": "2023-11-13T03:21:30.312654Z",
     "shell.execute_reply": "2023-11-13T03:21:30.312226Z"
    },
    "papermill": {
     "duration": null,
     "end_time": null,
     "exception": null,
     "start_time": null,
     "status": "pending"
    },
    "tags": []
   },
   "outputs": [
    {
     "name": "stdout",
     "output_type": "stream",
     "text": [
      "              precision    recall  f1-score   support\n",
      "\n",
      "           0       0.85      0.73      0.79      9965\n",
      "           1       0.73      0.93      0.82    111360\n",
      "           2       0.86      0.53      0.66     80725\n",
      "\n",
      "    accuracy                           0.76    202050\n",
      "   macro avg       0.81      0.73      0.75    202050\n",
      "weighted avg       0.78      0.76      0.75    202050\n",
      "\n"
     ]
    },
    {
     "name": "stderr",
     "output_type": "stream",
     "text": [
      "/tmp/ipykernel_2802345/3777910350.py:18: SettingWithCopyWarning: \n",
      "A value is trying to be set on a copy of a slice from a DataFrame.\n",
      "Try using .loc[row_indexer,col_indexer] = value instead\n",
      "\n",
      "See the caveats in the documentation: https://pandas.pydata.org/pandas-docs/stable/user_guide/indexing.html#returning-a-view-versus-a-copy\n",
      "  df_labels[\"new_labels\"] = df_labels[\"new_labels\"].astype(str)\n"
     ]
    }
   ],
   "source": [
    "stats_df = output_stats(\n",
    "    y_pred_list,\n",
    "    Y_test_list,\n",
    "    mlp_params,\n",
    "    test_name=f\"{mlp_params.MODEL_NAME}_train\",\n",
    "    model_name=mlp_params.MODEL_NAME,\n",
    "    title=mlp_params.MODEL_NAME,\n",
    "    shuffle=mlp_params.SHUFFLE,\n",
    ")\n",
    "# make into a dataframe\n",
    "stats_df = pd.DataFrame.from_dict(stats_df).transpose()\n",
    "stats_df.reset_index(inplace=True)\n",
    "stats_df.rename(columns={\"index\": \"label\"}, inplace=True)\n",
    "stats_df = stats_df.melt(id_vars=[\"label\"], var_name=\"metric\", value_name=\"value\")\n",
    "# if accuracy in row of column 1 then change value of column 2 to accuracy\n",
    "stats_df.loc[stats_df[\"label\"] == \"accuracy\", \"metric\"] = \"accuracy\"\n",
    "# create a decoder dictionary from df_labels\n",
    "df_labels[\"new_labels\"] = df_labels[\"new_labels\"].astype(str)\n",
    "decoder = df_labels.set_index(\"new_labels\").to_dict()[\"labels\"]\n",
    "decoder[\"accuracy\"] = \"accuracy\"\n",
    "decoder[\"macro avg\"] = \"macro avg\"\n",
    "decoder[\"weighted avg\"] = \"weighted avg\"\n",
    "stats_df[\"label\"] = stats_df[\"label\"].map(decoder)"
   ]
  },
  {
   "cell_type": "code",
   "execution_count": 85,
   "id": "5e49a4d0",
   "metadata": {
    "execution": {
     "iopub.execute_input": "2023-11-13T03:21:30.340165Z",
     "iopub.status.busy": "2023-11-13T03:21:30.339794Z",
     "iopub.status.idle": "2023-11-13T03:21:30.343391Z",
     "shell.execute_reply": "2023-11-13T03:21:30.342990Z"
    },
    "papermill": {
     "duration": null,
     "end_time": null,
     "exception": null,
     "start_time": null,
     "status": "pending"
    },
    "tags": []
   },
   "outputs": [
    {
     "name": "stderr",
     "output_type": "stream",
     "text": [
      "/tmp/ipykernel_2802345/3610522228.py:4: FutureWarning: In a future version, object-dtype columns with all-bool values will not be included in reductions with bool_only=True. Explicitly cast to bool dtype instead.\n",
      "  model_stats_df = pd.concat([model_stats_df, stats_df], axis=0)\n"
     ]
    }
   ],
   "source": [
    "stats_df[\"group\"] = \"test\"\n",
    "stats_df[\"shuffled_data\"] = mlp_params.SHUFFLE\n",
    "\n",
    "model_stats_df = pd.concat([model_stats_df, stats_df], axis=0)"
   ]
  },
  {
   "cell_type": "markdown",
   "id": "92180a40",
   "metadata": {},
   "source": [
    "## Test the treatment holdout data on the model"
   ]
  },
  {
   "cell_type": "code",
   "execution_count": 86,
   "id": "0dab6e6f",
   "metadata": {},
   "outputs": [
    {
     "name": "stdout",
     "output_type": "stream",
     "text": [
      "MultiClass_MLP\n"
     ]
    }
   ],
   "source": [
    "treatment_holdout_data = Dataset_formatter(\n",
    "    X_treatment_holdout,\n",
    "    Y_treatment_holdout,\n",
    ")\n",
    "\n",
    "# convert data class into a dataloader to be compatible with pytorch\n",
    "treatment_holdout_loader = torch.utils.data.DataLoader(\n",
    "    dataset=treatment_holdout_data, batch_size=1, shuffle=False\n",
    ")\n",
    "\n",
    "# calling the testing function and outputting list values of tested model\n",
    "if any(\n",
    "    model_type == mlp_params.MODEL_TYPE for model_type in [\"Multi_Class\", \"Regression\"]\n",
    "):\n",
    "    (y_pred_list, y_pred_prob_list, Y_test_list,) = test_optimized_model(\n",
    "        model,\n",
    "        treatment_holdout_loader,\n",
    "        params,\n",
    "        model_name=mlp_params.MODEL_NAME,\n",
    "        shuffle=mlp_params.SHUFFLE,\n",
    "    )\n",
    "elif mlp_params.MODEL_TYPE == \"Binary_Classification\":\n",
    "    y_pred_list, y_pred_prob_list = test_optimized_model(\n",
    "        model,\n",
    "        treatment_holdout_loader,\n",
    "        params,\n",
    "        model_name=mlp_params.MODEL_NAME,\n",
    "        shuffle=mlp_params.SHUFFLE,\n",
    "    )\n",
    "else:\n",
    "    raise Exception(\"Model type must be specified for proper model testing\")\n",
    "\n",
    "# un-nest list if nested i.e. length of input data does not match length of output data\n",
    "if len(y_pred_list) != len(Y_treatment_holdout):\n",
    "    y_pred_list = un_nest(y_pred_list)\n",
    "    if mlp_params.MODEL_TYPE == \"Binary_Classification\":\n",
    "        y_pred_prob_list = un_nest(y_pred_prob_list)\n",
    "else:\n",
    "    pass"
   ]
  },
  {
   "cell_type": "code",
   "execution_count": 87,
   "id": "55ae7a0a",
   "metadata": {},
   "outputs": [],
   "source": [
    "# convert output tensors into arrays\n",
    "\n",
    "# list of tensors to list of lists\n",
    "y_pred_prob_list = [tensor.tolist() for tensor in y_pred_prob_list]\n",
    "Y_test_list = [tensor.tolist() for tensor in Y_test_list]\n",
    "# completly flatten list of lists\n",
    "new_prob_list = []\n",
    "for i in y_pred_prob_list:\n",
    "    for j in i:\n",
    "        new_prob_list.append(j)\n",
    "\n",
    "new_y_test_list = []\n",
    "for i in Y_test_list:\n",
    "    for j in i:\n",
    "        new_y_test_list.append(j)\n",
    "\n",
    "# list of lists to array\n",
    "y_pred_prob_list = np.array(new_prob_list)\n",
    "Y_test = np.array(new_y_test_list)"
   ]
  },
  {
   "cell_type": "code",
   "execution_count": 88,
   "id": "91d1d307",
   "metadata": {},
   "outputs": [
    {
     "name": "stderr",
     "output_type": "stream",
     "text": [
      "/home/lippincm/miniconda3/envs/Interstellar/lib/python3.10/site-packages/sklearn/metrics/_ranking.py:979: UserWarning: No positive class found in y_true, recall is set to one for all thresholds.\n",
      "  warnings.warn(\n",
      "/home/lippincm/miniconda3/envs/Interstellar/lib/python3.10/site-packages/sklearn/metrics/_ranking.py:979: UserWarning: No positive class found in y_true, recall is set to one for all thresholds.\n",
      "  warnings.warn(\n"
     ]
    }
   ],
   "source": [
    "# get the PR curve for each class\n",
    "pr_curve_0 = precision_recall_curve(Y_test[:, 0], y_pred_prob_list[:, 0])\n",
    "pr_curve_1 = precision_recall_curve(Y_test[:, 1], y_pred_prob_list[:, 1])\n",
    "pr_curve_2 = precision_recall_curve(Y_test[:, 2], y_pred_prob_list[:, 2])"
   ]
  },
  {
   "cell_type": "code",
   "execution_count": 89,
   "id": "4b4e04da",
   "metadata": {},
   "outputs": [
    {
     "name": "stderr",
     "output_type": "stream",
     "text": [
      "/tmp/ipykernel_2802345/1252073758.py:28: SettingWithCopyWarning: \n",
      "A value is trying to be set on a copy of a slice from a DataFrame\n",
      "\n",
      "See the caveats in the documentation: https://pandas.pydata.org/pandas-docs/stable/user_guide/indexing.html#returning-a-view-versus-a-copy\n",
      "  tmp_df.drop_duplicates(inplace=True)\n"
     ]
    }
   ],
   "source": [
    "# make a dataframe of the precision-recall curves for each class\n",
    "pr_curve_0 = pd.DataFrame(\n",
    "    zip(pr_curve_0[0], pr_curve_0[1]),\n",
    "    columns=[\"precision\", \"recall\"],\n",
    ")\n",
    "pr_curve_0[\"label\"] = 0\n",
    "\n",
    "pr_curve_1 = pd.DataFrame(\n",
    "    zip(pr_curve_1[0], pr_curve_1[1]),\n",
    "    columns=[\"precision\", \"recall\"],\n",
    ")\n",
    "pr_curve_1[\"label\"] = 1\n",
    "\n",
    "pr_curve_2 = pd.DataFrame(\n",
    "    zip(pr_curve_2[0], pr_curve_2[1]),\n",
    "    columns=[\"precision\", \"recall\"],\n",
    ")\n",
    "pr_curve_2[\"label\"] = 2\n",
    "\n",
    "# make the precision-recall curve dataframe\n",
    "pr_curve_df = pd.DataFrame(columns=[\"precision\", \"recall\", \"label\"])\n",
    "pr_curve_df = pd.concat([pr_curve_df, pr_curve_0, pr_curve_1, pr_curve_2])\n",
    "\n",
    "\n",
    "# get the decoded labels\n",
    "tmp_df = df_values[[\"new_labels\", \"labels\"]]\n",
    "# get the unique rows\n",
    "tmp_df.drop_duplicates(inplace=True)\n",
    "# make a dict of the labels and new labels\n",
    "label_dict = dict(zip(tmp_df[\"new_labels\"], tmp_df[\"labels\"]))\n",
    "\n",
    "# change the label column to the actual labels from the label dict\n",
    "pr_curve_df[\"label\"] = pr_curve_df[\"label\"].map(label_dict)\n",
    "pr_curve_df[\"data_split\"] = \"treatment_holdout\"\n",
    "pr_curve_df[\"shuffle\"] = mlp_params.SHUFFLE"
   ]
  },
  {
   "cell_type": "code",
   "execution_count": 90,
   "id": "9aa22275",
   "metadata": {},
   "outputs": [
    {
     "name": "stderr",
     "output_type": "stream",
     "text": [
      "/tmp/ipykernel_2802345/2243255322.py:3: FutureWarning: In a future version, object-dtype columns with all-bool values will not be included in reductions with bool_only=True. Explicitly cast to bool dtype instead.\n",
      "  pr_curve_df_all = pd.concat([pr_curve_df_all, pr_curve_df], axis=0)\n"
     ]
    }
   ],
   "source": [
    "# create a master dataframe to store all the model stats\n",
    "# across all data splits and shuffled data\n",
    "pr_curve_df_all = pd.concat([pr_curve_df_all, pr_curve_df], axis=0)"
   ]
  },
  {
   "cell_type": "code",
   "execution_count": 91,
   "id": "ed89b3bc",
   "metadata": {},
   "outputs": [
    {
     "data": {
      "image/png": "[encoded data removed]",
      "text/plain": [
       "<Figure size 640x480 with 1 Axes>"
      ]
     },
     "metadata": {},
     "output_type": "display_data"
    }
   ],
   "source": [
    "# plot the precision-recall curves\n",
    "sns.lineplot(\n",
    "    data=pr_curve_df,\n",
    "    x=\"recall\",\n",
    "    y=\"precision\",\n",
    "    hue=\"label\",\n",
    "    palette=\"bright\",\n",
    ")\n",
    "plt.title(\"Precision-Recall Curve Treatment Holdout Data\")\n",
    "plt.xlabel(\"Recall\")\n",
    "plt.ylabel(\"Precision\")\n",
    "plt.legend(bbox_to_anchor=(1.05, 1), loc=2, borderaxespad=0.0)\n",
    "plt.show()"
   ]
  },
  {
   "cell_type": "code",
   "execution_count": 92,
   "id": "e24b4e5d",
   "metadata": {},
   "outputs": [
    {
     "data": {
      "text/plain": [
       "array(['train', 'validation', 'testing', 'treatment_holdout'],\n",
       "      dtype=object)"
      ]
     },
     "execution_count": 92,
     "metadata": {},
     "output_type": "execute_result"
    }
   ],
   "source": [
    "pr_curve_df_all[\"data_split\"].unique()"
   ]
  },
  {
   "cell_type": "code",
   "execution_count": 93,
   "id": "8e7f5b9f",
   "metadata": {},
   "outputs": [],
   "source": [
    "class_0_prob = []\n",
    "class_1_prob = []\n",
    "class_2_prob = []\n",
    "\n",
    "for i in y_pred_prob_list:\n",
    "    class_0_prob.append(i[0])\n",
    "    class_1_prob.append(i[1])\n",
    "    class_2_prob.append(i[2])\n",
    "\n",
    "\n",
    "prob_df = pd.DataFrame(\n",
    "    zip(class_0_prob, class_1_prob, class_2_prob),\n",
    "    columns=[\"apoptosis_prob\", \"control_prob\", \"pyroptosis_prob\"],\n",
    ")\n",
    "label_true = [np.argmax(i) for i in Y_test]\n",
    "\n",
    "prob_df[\"label_true\"] = label_true"
   ]
  },
  {
   "cell_type": "code",
   "execution_count": 94,
   "id": "90b9e5b4",
   "metadata": {},
   "outputs": [
    {
     "name": "stderr",
     "output_type": "stream",
     "text": [
      "/tmp/ipykernel_2802345/2196572131.py:6: FutureWarning: In a future version, object-dtype columns with all-bool values will not be included in reductions with bool_only=True. Explicitly cast to bool dtype instead.\n",
      "  main_prob_df = pd.concat([main_prob_df, prob_df])\n"
     ]
    }
   ],
   "source": [
    "prob_df[\"label_pred\"] = y_pred_list\n",
    "prob_df[\"data_split\"] = \"treatment_holdout\"\n",
    "prob_df[\"shuffle\"] = mlp_params.SHUFFLE\n",
    "prob_df[\"class_name\"] = prob_df[\"label_true\"].map(label_dict)\n",
    "\n",
    "main_prob_df = pd.concat([main_prob_df, prob_df])"
   ]
  },
  {
   "cell_type": "code",
   "execution_count": 95,
   "id": "52ae6711",
   "metadata": {},
   "outputs": [],
   "source": [
    "Y_test_list = [np.argmax(i) for i in Y_test]"
   ]
  },
  {
   "cell_type": "code",
   "execution_count": 96,
   "id": "a4eb9ab9",
   "metadata": {},
   "outputs": [
    {
     "name": "stderr",
     "output_type": "stream",
     "text": [
      "/home/lippincm/miniconda3/envs/Interstellar/lib/python3.10/site-packages/sklearn/metrics/_classification.py:1469: UndefinedMetricWarning: Precision and F-score are ill-defined and being set to 0.0 in labels with no predicted samples. Use `zero_division` parameter to control this behavior.\n",
      "  _warn_prf(average, modifier, msg_start, len(result))\n",
      "/home/lippincm/miniconda3/envs/Interstellar/lib/python3.10/site-packages/sklearn/metrics/_classification.py:1469: UndefinedMetricWarning: Precision and F-score are ill-defined and being set to 0.0 in labels with no predicted samples. Use `zero_division` parameter to control this behavior.\n",
      "  _warn_prf(average, modifier, msg_start, len(result))\n",
      "/home/lippincm/miniconda3/envs/Interstellar/lib/python3.10/site-packages/sklearn/metrics/_classification.py:1469: UndefinedMetricWarning: Precision and F-score are ill-defined and being set to 0.0 in labels with no predicted samples. Use `zero_division` parameter to control this behavior.\n",
      "  _warn_prf(average, modifier, msg_start, len(result))\n",
      "/home/lippincm/miniconda3/envs/Interstellar/lib/python3.10/site-packages/sklearn/metrics/_classification.py:1469: UndefinedMetricWarning: Recall is ill-defined and being set to 0.0 due to no true samples. Use `zero_division` parameter to control this behavior.\n",
      "  _warn_prf(average, modifier, msg_start, len(result))\n"
     ]
    },
    {
     "name": "stdout",
     "output_type": "stream",
     "text": [
      "              precision    recall  f1-score   support\n",
      "\n",
      "           0       0.00      0.00      0.00       613\n",
      "           1       0.00      0.00      0.00     38116\n",
      "           2       0.29      1.00      0.45     15878\n",
      "\n",
      "    accuracy                           0.29     54607\n",
      "   macro avg       0.10      0.33      0.15     54607\n",
      "weighted avg       0.08      0.29      0.13     54607\n",
      "\n",
      "Precision for class 0: 0.0\n",
      "Recall for class 0: 0.0\n"
     ]
    },
    {
     "name": "stderr",
     "output_type": "stream",
     "text": [
      "/home/lippincm/miniconda3/envs/Interstellar/lib/python3.10/site-packages/sklearn/metrics/_classification.py:1469: UndefinedMetricWarning: Recall is ill-defined and being set to 0.0 due to no true samples. Use `zero_division` parameter to control this behavior.\n",
      "  _warn_prf(average, modifier, msg_start, len(result))\n",
      "/home/lippincm/miniconda3/envs/Interstellar/lib/python3.10/site-packages/sklearn/metrics/_ranking.py:1132: UndefinedMetricWarning: No positive samples in y_true, true positive value should be meaningless\n",
      "  warnings.warn(\n",
      "/home/lippincm/miniconda3/envs/Interstellar/lib/python3.10/site-packages/sklearn/metrics/_ranking.py:1132: UndefinedMetricWarning: No positive samples in y_true, true positive value should be meaningless\n",
      "  warnings.warn(\n",
      "/home/lippincm/miniconda3/envs/Interstellar/lib/python3.10/site-packages/sklearn/metrics/_ranking.py:1123: UndefinedMetricWarning: No negative samples in y_true, false positive value should be meaningless\n",
      "  warnings.warn(\n"
     ]
    },
    {
     "name": "stdout",
     "output_type": "stream",
     "text": [
      "Precision for class 1: 0.0\n",
      "Recall for class 1: 0.0\n",
      "Precision for class 2: 1.0\n",
      "Recall for class 2: 0.2907685827824272\n",
      "3\n"
     ]
    },
    {
     "data": {
      "image/png": "[encoded data removed]",
      "text/plain": [
       "<Figure size 640x480 with 2 Axes>"
      ]
     },
     "metadata": {},
     "output_type": "display_data"
    },
    {
     "data": {
      "image/png": "[encoded data removed]",
      "text/plain": [
       "<Figure size 640x480 with 1 Axes>"
      ]
     },
     "metadata": {},
     "output_type": "display_data"
    }
   ],
   "source": [
    "# Call visualization function\n",
    "# calling the testing function and outputing list values of tested model\n",
    "if any(\n",
    "    model_type == mlp_params.MODEL_TYPE for model_type in [\"Multi_Class\", \"Regression\"]\n",
    "):\n",
    "    confusion_matrix_df = results_output(\n",
    "        y_pred_list,\n",
    "        Y_test_list,\n",
    "        params,\n",
    "        test_name=f\"{mlp_params.MODEL_NAME}_treatment_hold_out\",\n",
    "        model_name=mlp_params.MODEL_NAME,\n",
    "        title=mlp_params.MODEL_NAME,\n",
    "        shuffle=mlp_params.SHUFFLE,\n",
    "    )\n",
    "elif mlp_params.MODEL_TYPE == \"Binary_Classification\":\n",
    "    results_output(\n",
    "        y_pred_list,\n",
    "        Y_treatment_holdout,\n",
    "        params,\n",
    "        y_pred_prob_list,\n",
    "        test_name=f\"{mlp_params.MODEL_NAME}_treatment_hold_out\",\n",
    "        model_name=mlp_params.MODEL_NAME,\n",
    "        title=mlp_params.MODEL_NAME,\n",
    "        shuffle=mlp_params.SHUFFLE,\n",
    "    )\n",
    "else:\n",
    "    raise Exception(\"Model type must be specified for proper model testing\")"
   ]
  },
  {
   "cell_type": "code",
   "execution_count": 97,
   "id": "4d27f50c",
   "metadata": {},
   "outputs": [
    {
     "data": {
      "image/png": "[encoded data removed]",
      "text/plain": [
       "<Figure size 640x480 with 2 Axes>"
      ]
     },
     "metadata": {},
     "output_type": "display_data"
    }
   ],
   "source": [
    "ax = sns.heatmap(confusion_matrix_df, annot=True, fmt=\"d\")\n",
    "ax.invert_xaxis()\n",
    "ax.invert_yaxis()\n",
    "#\n",
    "# plt.title(f\"Confusion Matrix for Binary Classifier \\n {title}\", fontsize=20)\n",
    "plt.xlabel(\"Actual Values\", size=15)\n",
    "plt.ylabel(\"Predicted Values\", size=15)\n",
    "plt.tight_layout()\n",
    "plt.show()"
   ]
  },
  {
   "cell_type": "code",
   "execution_count": 98,
   "id": "8726bff2",
   "metadata": {},
   "outputs": [],
   "source": [
    "# make a df of the predictions and the true labels\n",
    "y_pred_df = pd.DataFrame(y_pred_list, columns=[\"predicted_label\"])\n",
    "y_true_df = pd.DataFrame(Y_test_list, columns=[\"true_label\"])\n",
    "# concat the two dataframes\n",
    "y_pred_df = pd.concat([y_true_df, y_pred_df], axis=1)"
   ]
  },
  {
   "cell_type": "code",
   "execution_count": 99,
   "id": "dd1f1060",
   "metadata": {},
   "outputs": [],
   "source": [
    "# merge y_pred_df with metadata_holdout whiile keeping the index of metadata_holdout\n",
    "metadata_treatment_holdout.reset_index(inplace=True)\n",
    "y_pred_df = pd.concat([y_pred_df, metadata_treatment_holdout], axis=1)\n",
    "# set the index to the index column\n",
    "y_pred_df.set_index(\"index\", inplace=True, drop=True)"
   ]
  },
  {
   "cell_type": "code",
   "execution_count": 100,
   "id": "96e2639a",
   "metadata": {},
   "outputs": [],
   "source": [
    "y_pred_df[\"data_split\"] = \"treatment_holdout\"\n",
    "y_pred_df[\"shuffle\"] = mlp_params.SHUFFLE"
   ]
  },
  {
   "cell_type": "code",
   "execution_count": 101,
   "id": "3257a5c2",
   "metadata": {},
   "outputs": [],
   "source": [
    "# set path for the model training metrics\n",
    "y_pred_df_path = pathlib.Path(\n",
    "    f\"../../results/Multi_Class/{mlp_params.MODEL_NAME}/{mlp_params.CELL_TYPE}\"\n",
    ")\n",
    "y_pred_df_path.mkdir(parents=True, exist_ok=True)\n",
    "# check if the model training metrics file exists\n",
    "y_pred_file = pathlib.Path(\n",
    "    f\"{y_pred_df_path}/treatment_holdout_single_cell_predictions.parquet\"\n",
    ")\n",
    "if y_pred_file.exists():\n",
    "    y_pred_old = pd.read_parquet(y_pred_file)\n",
    "    if len(y_pred_old[\"shuffle\"].unique()) > 1:\n",
    "        pass\n",
    "    elif y_pred_old[\"shuffle\"].unique() == mlp_params.SHUFFLE:\n",
    "        pass\n",
    "    else:\n",
    "        pr_curve_df_old = pd.concat([y_pred_old, y_pred_df], axis=0)\n",
    "        pr_curve_df_old.to_parquet(y_pred_file, index=False)\n",
    "else:\n",
    "    y_pred_df.to_parquet(y_pred_file, index=False)"
   ]
  },
  {
   "cell_type": "code",
   "execution_count": 102,
   "id": "180b0674",
   "metadata": {},
   "outputs": [],
   "source": [
    "final_predictions_df = pd.concat([final_predictions_df, y_pred_df], axis=0)"
   ]
  },
  {
   "cell_type": "markdown",
   "id": "8ecba069",
   "metadata": {},
   "source": [
    "Do not do confusion matrix for this data as it is one class"
   ]
  },
  {
   "cell_type": "code",
   "execution_count": 103,
   "id": "9ba765b5",
   "metadata": {},
   "outputs": [
    {
     "name": "stdout",
     "output_type": "stream",
     "text": [
      "              precision    recall  f1-score   support\n",
      "\n",
      "           0       0.00      0.00      0.00         0\n",
      "           1       0.00      0.00      0.00         0\n",
      "           2       1.00      0.29      0.45     54607\n",
      "\n",
      "    accuracy                           0.29     54607\n",
      "   macro avg       0.33      0.10      0.15     54607\n",
      "weighted avg       1.00      0.29      0.45     54607\n",
      "\n"
     ]
    },
    {
     "name": "stderr",
     "output_type": "stream",
     "text": [
      "/home/lippincm/miniconda3/envs/Interstellar/lib/python3.10/site-packages/sklearn/metrics/_classification.py:1469: UndefinedMetricWarning: Recall and F-score are ill-defined and being set to 0.0 in labels with no true samples. Use `zero_division` parameter to control this behavior.\n",
      "  _warn_prf(average, modifier, msg_start, len(result))\n",
      "/home/lippincm/miniconda3/envs/Interstellar/lib/python3.10/site-packages/sklearn/metrics/_classification.py:1469: UndefinedMetricWarning: Recall and F-score are ill-defined and being set to 0.0 in labels with no true samples. Use `zero_division` parameter to control this behavior.\n",
      "  _warn_prf(average, modifier, msg_start, len(result))\n",
      "/home/lippincm/miniconda3/envs/Interstellar/lib/python3.10/site-packages/sklearn/metrics/_classification.py:1469: UndefinedMetricWarning: Recall and F-score are ill-defined and being set to 0.0 in labels with no true samples. Use `zero_division` parameter to control this behavior.\n",
      "  _warn_prf(average, modifier, msg_start, len(result))\n",
      "/home/lippincm/miniconda3/envs/Interstellar/lib/python3.10/site-packages/sklearn/metrics/_classification.py:1469: UndefinedMetricWarning: Recall and F-score are ill-defined and being set to 0.0 in labels with no true samples. Use `zero_division` parameter to control this behavior.\n",
      "  _warn_prf(average, modifier, msg_start, len(result))\n",
      "/home/lippincm/miniconda3/envs/Interstellar/lib/python3.10/site-packages/sklearn/metrics/_classification.py:1469: UndefinedMetricWarning: Recall and F-score are ill-defined and being set to 0.0 in labels with no true samples. Use `zero_division` parameter to control this behavior.\n",
      "  _warn_prf(average, modifier, msg_start, len(result))\n",
      "/home/lippincm/miniconda3/envs/Interstellar/lib/python3.10/site-packages/sklearn/metrics/_classification.py:1469: UndefinedMetricWarning: Recall and F-score are ill-defined and being set to 0.0 in labels with no true samples. Use `zero_division` parameter to control this behavior.\n",
      "  _warn_prf(average, modifier, msg_start, len(result))\n",
      "/tmp/ipykernel_2802345/3777910350.py:18: SettingWithCopyWarning: \n",
      "A value is trying to be set on a copy of a slice from a DataFrame.\n",
      "Try using .loc[row_indexer,col_indexer] = value instead\n",
      "\n",
      "See the caveats in the documentation: https://pandas.pydata.org/pandas-docs/stable/user_guide/indexing.html#returning-a-view-versus-a-copy\n",
      "  df_labels[\"new_labels\"] = df_labels[\"new_labels\"].astype(str)\n"
     ]
    }
   ],
   "source": [
    "stats_df = output_stats(\n",
    "    y_pred_list,\n",
    "    Y_test_list,\n",
    "    mlp_params,\n",
    "    test_name=f\"{mlp_params.MODEL_NAME}_train\",\n",
    "    model_name=mlp_params.MODEL_NAME,\n",
    "    title=mlp_params.MODEL_NAME,\n",
    "    shuffle=mlp_params.SHUFFLE,\n",
    ")\n",
    "# make into a dataframe\n",
    "stats_df = pd.DataFrame.from_dict(stats_df).transpose()\n",
    "stats_df.reset_index(inplace=True)\n",
    "stats_df.rename(columns={\"index\": \"label\"}, inplace=True)\n",
    "stats_df = stats_df.melt(id_vars=[\"label\"], var_name=\"metric\", value_name=\"value\")\n",
    "# if accuracy in row of column 1 then change value of column 2 to accuracy\n",
    "stats_df.loc[stats_df[\"label\"] == \"accuracy\", \"metric\"] = \"accuracy\"\n",
    "# create a decoder dictionary from df_labels\n",
    "df_labels[\"new_labels\"] = df_labels[\"new_labels\"].astype(str)\n",
    "decoder = df_labels.set_index(\"new_labels\").to_dict()[\"labels\"]\n",
    "decoder[\"accuracy\"] = \"accuracy\"\n",
    "decoder[\"macro avg\"] = \"macro avg\"\n",
    "decoder[\"weighted avg\"] = \"weighted avg\"\n",
    "stats_df[\"label\"] = stats_df[\"label\"].map(decoder)"
   ]
  },
  {
   "cell_type": "code",
   "execution_count": 104,
   "id": "126024d0",
   "metadata": {},
   "outputs": [
    {
     "name": "stderr",
     "output_type": "stream",
     "text": [
      "/tmp/ipykernel_2802345/3703135615.py:4: FutureWarning: In a future version, object-dtype columns with all-bool values will not be included in reductions with bool_only=True. Explicitly cast to bool dtype instead.\n",
      "  model_stats_df = pd.concat([model_stats_df, stats_df], axis=0)\n"
     ]
    }
   ],
   "source": [
    "stats_df[\"group\"] = \"treatment_holdout\"\n",
    "stats_df[\"shuffled_data\"] = mlp_params.SHUFFLE\n",
    "\n",
    "model_stats_df = pd.concat([model_stats_df, stats_df], axis=0)"
   ]
  },
  {
   "cell_type": "markdown",
   "id": "bd07fbb7",
   "metadata": {
    "papermill": {
     "duration": null,
     "end_time": null,
     "exception": null,
     "start_time": null,
     "status": "pending"
    },
    "tags": []
   },
   "source": [
    "## Test the hold out wells"
   ]
  },
  {
   "cell_type": "code",
   "execution_count": 105,
   "id": "3c45de2b",
   "metadata": {
    "execution": {
     "iopub.execute_input": "2023-11-13T03:21:30.393006Z",
     "iopub.status.busy": "2023-11-13T03:21:30.392740Z",
     "iopub.status.idle": "2023-11-13T03:21:53.066480Z",
     "shell.execute_reply": "2023-11-13T03:21:53.066002Z"
    },
    "papermill": {
     "duration": null,
     "end_time": null,
     "exception": null,
     "start_time": null,
     "status": "pending"
    },
    "tags": []
   },
   "outputs": [
    {
     "name": "stdout",
     "output_type": "stream",
     "text": [
      "MultiClass_MLP\n"
     ]
    }
   ],
   "source": [
    "holdout_data = Dataset_formatter(X_holdout, Y_holdout)\n",
    "\n",
    "# convert data class into a dataloader to be compatible with pytorch\n",
    "holdout_loader = torch.utils.data.DataLoader(\n",
    "    dataset=holdout_data, batch_size=1, shuffle=mlp_params.SHUFFLE\n",
    ")\n",
    "\n",
    "# calling the testing function and outputting list values of tested model\n",
    "if any(\n",
    "    model_type == mlp_params.MODEL_TYPE for model_type in [\"Multi_Class\", \"Regression\"]\n",
    "):\n",
    "    (y_pred_list, y_pred_prob_list, Y_test_list,) = test_optimized_model(\n",
    "        model,\n",
    "        holdout_loader,\n",
    "        params,\n",
    "        model_name=mlp_params.MODEL_NAME,\n",
    "        shuffle=mlp_params.SHUFFLE,\n",
    "    )\n",
    "elif mlp_params.MODEL_TYPE == \"Binary_Classification\":\n",
    "    y_pred_list, y_pred_prob_list = test_optimized_model(\n",
    "        model,\n",
    "        holdout_loader,\n",
    "        params,\n",
    "        model_name=mlp_params.MODEL_NAME,\n",
    "        shuffle=mlp_params.SHUFFLE,\n",
    "    )\n",
    "else:\n",
    "    raise Exception(\"Model type must be specified for proper model testing\")\n",
    "\n",
    "# un-nest list if nested i.e. length of input data does not match length of output data\n",
    "if len(y_pred_list) != len(Y_holdout):\n",
    "    y_pred_list = un_nest(y_pred_list)\n",
    "    if mlp_params.MODEL_TYPE == \"Binary_Classification\":\n",
    "        y_pred_prob_list = un_nest(y_pred_prob_list)\n",
    "else:\n",
    "    pass"
   ]
  },
  {
   "cell_type": "code",
   "execution_count": 106,
   "id": "031ed5b4",
   "metadata": {},
   "outputs": [],
   "source": [
    "# convert output tensors into arrays\n",
    "\n",
    "# list of tensors to list of lists\n",
    "y_pred_prob_list = [tensor.tolist() for tensor in y_pred_prob_list]\n",
    "Y_test_list = [tensor.tolist() for tensor in Y_test_list]\n",
    "# completly flatten list of lists\n",
    "new_prob_list = []\n",
    "for i in y_pred_prob_list:\n",
    "    for j in i:\n",
    "        new_prob_list.append(j)\n",
    "\n",
    "new_y_test_list = []\n",
    "for i in Y_test_list:\n",
    "    for j in i:\n",
    "        new_y_test_list.append(j)\n",
    "\n",
    "# list of lists to array\n",
    "y_pred_prob_list = np.array(new_prob_list)\n",
    "Y_test = np.array(new_y_test_list)"
   ]
  },
  {
   "cell_type": "code",
   "execution_count": 107,
   "id": "d0a777d6",
   "metadata": {},
   "outputs": [],
   "source": [
    "# get the PR curve for each class\n",
    "pr_curve_0 = precision_recall_curve(Y_test[:, 0], y_pred_prob_list[:, 0])\n",
    "pr_curve_1 = precision_recall_curve(Y_test[:, 1], y_pred_prob_list[:, 1])\n",
    "pr_curve_2 = precision_recall_curve(Y_test[:, 2], y_pred_prob_list[:, 2])"
   ]
  },
  {
   "cell_type": "code",
   "execution_count": 108,
   "id": "dccdeb2a",
   "metadata": {},
   "outputs": [
    {
     "name": "stderr",
     "output_type": "stream",
     "text": [
      "/tmp/ipykernel_2802345/3858670020.py:28: SettingWithCopyWarning: \n",
      "A value is trying to be set on a copy of a slice from a DataFrame\n",
      "\n",
      "See the caveats in the documentation: https://pandas.pydata.org/pandas-docs/stable/user_guide/indexing.html#returning-a-view-versus-a-copy\n",
      "  tmp_df.drop_duplicates(inplace=True)\n"
     ]
    }
   ],
   "source": [
    "# make a dataframe of the precision-recall curves for each class\n",
    "pr_curve_0 = pd.DataFrame(\n",
    "    zip(pr_curve_0[0], pr_curve_0[1]),\n",
    "    columns=[\"precision\", \"recall\"],\n",
    ")\n",
    "pr_curve_0[\"label\"] = 0\n",
    "\n",
    "pr_curve_1 = pd.DataFrame(\n",
    "    zip(pr_curve_1[0], pr_curve_1[1]),\n",
    "    columns=[\"precision\", \"recall\"],\n",
    ")\n",
    "pr_curve_1[\"label\"] = 1\n",
    "\n",
    "pr_curve_2 = pd.DataFrame(\n",
    "    zip(pr_curve_2[0], pr_curve_2[1]),\n",
    "    columns=[\"precision\", \"recall\"],\n",
    ")\n",
    "pr_curve_2[\"label\"] = 2\n",
    "\n",
    "# make the precision-recall curve dataframe\n",
    "pr_curve_df = pd.DataFrame(columns=[\"precision\", \"recall\", \"label\"])\n",
    "pr_curve_df = pd.concat([pr_curve_df, pr_curve_0, pr_curve_1, pr_curve_2])\n",
    "\n",
    "\n",
    "# get the decoded labels\n",
    "tmp_df = df_values[[\"new_labels\", \"labels\"]]\n",
    "# get the unique rows\n",
    "tmp_df.drop_duplicates(inplace=True)\n",
    "# make a dict of the labels and new labels\n",
    "label_dict = dict(zip(tmp_df[\"new_labels\"], tmp_df[\"labels\"]))\n",
    "\n",
    "# change the label column to the actual labels from the label dict\n",
    "pr_curve_df[\"label\"] = pr_curve_df[\"label\"].map(label_dict)\n",
    "pr_curve_df[\"data_split\"] = \"holdout\"\n",
    "pr_curve_df[\"shuffle\"] = mlp_params.SHUFFLE"
   ]
  },
  {
   "cell_type": "code",
   "execution_count": 109,
   "id": "aab74aa8",
   "metadata": {},
   "outputs": [
    {
     "name": "stderr",
     "output_type": "stream",
     "text": [
      "/tmp/ipykernel_2802345/2243255322.py:3: FutureWarning: In a future version, object-dtype columns with all-bool values will not be included in reductions with bool_only=True. Explicitly cast to bool dtype instead.\n",
      "  pr_curve_df_all = pd.concat([pr_curve_df_all, pr_curve_df], axis=0)\n"
     ]
    }
   ],
   "source": [
    "# create a master dataframe to store all the model stats\n",
    "# across all data splits and shuffled data\n",
    "pr_curve_df_all = pd.concat([pr_curve_df_all, pr_curve_df], axis=0)"
   ]
  },
  {
   "cell_type": "code",
   "execution_count": 110,
   "id": "7a272386",
   "metadata": {},
   "outputs": [
    {
     "data": {
      "text/plain": [
       "array(['train', 'validation', 'testing', 'treatment_holdout', 'holdout'],\n",
       "      dtype=object)"
      ]
     },
     "execution_count": 110,
     "metadata": {},
     "output_type": "execute_result"
    }
   ],
   "source": [
    "pr_curve_df_all[\"data_split\"].unique()"
   ]
  },
  {
   "cell_type": "code",
   "execution_count": 111,
   "id": "1e8d1266",
   "metadata": {},
   "outputs": [
    {
     "name": "stderr",
     "output_type": "stream",
     "text": [
      "/tmp/ipykernel_2802345/2157706257.py:23: FutureWarning: In a future version, object-dtype columns with all-bool values will not be included in reductions with bool_only=True. Explicitly cast to bool dtype instead.\n",
      "  main_prob_df = pd.concat([main_prob_df, prob_df])\n"
     ]
    }
   ],
   "source": [
    "class_0_prob = []\n",
    "class_1_prob = []\n",
    "class_2_prob = []\n",
    "\n",
    "for i in y_pred_prob_list:\n",
    "    class_0_prob.append(i[0])\n",
    "    class_1_prob.append(i[1])\n",
    "    class_2_prob.append(i[2])\n",
    "\n",
    "\n",
    "prob_df = pd.DataFrame(\n",
    "    zip(class_0_prob, class_1_prob, class_2_prob),\n",
    "    columns=[\"apoptosis_prob\", \"control_prob\", \"pyroptosis_prob\"],\n",
    ")\n",
    "label_true = [np.argmax(i) for i in Y_test]\n",
    "\n",
    "prob_df[\"label_true\"] = label_true\n",
    "prob_df[\"label_pred\"] = y_pred_list\n",
    "prob_df[\"data_split\"] = \"holdout\"\n",
    "prob_df[\"shuffle\"] = mlp_params.SHUFFLE\n",
    "prob_df[\"class_name\"] = prob_df[\"label_true\"].map(label_dict)\n",
    "\n",
    "main_prob_df = pd.concat([main_prob_df, prob_df])"
   ]
  },
  {
   "cell_type": "code",
   "execution_count": 112,
   "id": "b6d16015",
   "metadata": {},
   "outputs": [],
   "source": [
    "Y_test_list = [np.argmax(i) for i in Y_test]"
   ]
  },
  {
   "cell_type": "code",
   "execution_count": 113,
   "id": "6b93e80b",
   "metadata": {},
   "outputs": [
    {
     "name": "stdout",
     "output_type": "stream",
     "text": [
      "              precision    recall  f1-score   support\n",
      "\n",
      "           0       0.72      0.84      0.77      6009\n",
      "           1       0.94      0.65      0.77    105124\n",
      "           2       0.50      0.89      0.64     39768\n",
      "\n",
      "    accuracy                           0.72    150901\n",
      "   macro avg       0.72      0.79      0.73    150901\n",
      "weighted avg       0.81      0.72      0.73    150901\n",
      "\n",
      "Precision for class 0: 0.8404060575802962\n",
      "Recall for class 0: 0.7165153234960272\n",
      "Precision for class 1: 0.6497659906396256\n",
      "Recall for class 1: 0.9350069811372409\n",
      "Precision for class 2: 0.8851337759002212\n",
      "Recall for class 2: 0.4971821635898812\n",
      "3\n"
     ]
    },
    {
     "data": {
      "image/png": "[encoded data removed]",
      "text/plain": [
       "<Figure size 640x480 with 2 Axes>"
      ]
     },
     "metadata": {},
     "output_type": "display_data"
    },
    {
     "data": {
      "image/png": "[encoded data removed]",
      "text/plain": [
       "<Figure size 640x480 with 1 Axes>"
      ]
     },
     "metadata": {},
     "output_type": "display_data"
    }
   ],
   "source": [
    "# Call visualization function\n",
    "# calling the testing function and outputing list values of tested model\n",
    "if any(\n",
    "    model_type == mlp_params.MODEL_TYPE for model_type in [\"Multi_Class\", \"Regression\"]\n",
    "):\n",
    "    confusion_matrix_df = results_output(\n",
    "        y_pred_list,\n",
    "        Y_test_list,\n",
    "        params,\n",
    "        test_name=f\"{mlp_params.MODEL_NAME}_hold_out\",\n",
    "        model_name=mlp_params.MODEL_NAME,\n",
    "        title=mlp_params.MODEL_NAME,\n",
    "        shuffle=mlp_params.SHUFFLE,\n",
    "    )\n",
    "elif mlp_params.MODEL_TYPE == \"Binary_Classification\":\n",
    "    results_output(\n",
    "        y_pred_list,\n",
    "        Y_holdout,\n",
    "        params,\n",
    "        y_pred_prob_list,\n",
    "        test_name=f\"{mlp_params.MODEL_NAME}_hold_out\",\n",
    "        model_name=mlp_params.MODEL_NAME,\n",
    "        title=mlp_params.MODEL_NAME,\n",
    "        shuffle=mlp_params.SHUFFLE,\n",
    "    )\n",
    "else:\n",
    "    raise Exception(\"Model type must be specified for proper model testing\")"
   ]
  },
  {
   "cell_type": "code",
   "execution_count": 114,
   "id": "62acfb36",
   "metadata": {},
   "outputs": [],
   "source": [
    "# make a df of the predictions and the true labels\n",
    "y_pred_df = pd.DataFrame(y_pred_list, columns=[\"predicted_label\"])\n",
    "y_true_df = pd.DataFrame(Y_test_list, columns=[\"true_label\"])\n",
    "# concat the two dataframes\n",
    "y_pred_df = pd.concat([y_true_df, y_pred_df], axis=1)"
   ]
  },
  {
   "cell_type": "code",
   "execution_count": 115,
   "id": "98ab4925",
   "metadata": {},
   "outputs": [],
   "source": [
    "# merge y_pred_df with metadata_holdout whiile keeping the index of metadata_holdout\n",
    "metadata_holdout.reset_index(inplace=True)\n",
    "y_pred_df = pd.concat([y_pred_df, metadata_holdout], axis=1)\n",
    "# set the index to the index column\n",
    "y_pred_df.set_index(\"index\", inplace=True, drop=True)"
   ]
  },
  {
   "cell_type": "code",
   "execution_count": 116,
   "id": "a58899c6",
   "metadata": {},
   "outputs": [],
   "source": [
    "y_pred_df[\"data_split\"] = \"holdout\"\n",
    "y_pred_df[\"shuffle\"] = mlp_params.SHUFFLE"
   ]
  },
  {
   "cell_type": "code",
   "execution_count": 117,
   "id": "8ca6b1f3",
   "metadata": {},
   "outputs": [],
   "source": [
    "# set path for the model training metrics\n",
    "y_pred_df_path = pathlib.Path(\n",
    "    f\"../../results/{mlp_params.MODEL_TYPE}/{mlp_params.MODEL_NAME}/{mlp_params.CELL_TYPE}\"\n",
    ")\n",
    "y_pred_df_path.mkdir(parents=True, exist_ok=True)\n",
    "# check if the model training metrics file exists\n",
    "y_pred_df_file = pathlib.Path(\n",
    "    f\"{y_pred_df_path}/holdout_single_cell_predictions.parquet\"\n",
    ")\n",
    "if y_pred_df_file.exists():\n",
    "    prediction_old = pd.read_parquet(y_pred_df_file)\n",
    "    if len(prediction_old[\"shuffle\"].unique()) > 1:\n",
    "        pass\n",
    "    elif prediction_old[\"shuffle\"].unique() == mlp_params.SHUFFLE:\n",
    "        pass\n",
    "    else:\n",
    "        probabilties_df_old = pd.concat([prediction_old, y_pred_df], axis=0)\n",
    "        probabilties_df_old.to_parquet(y_pred_df_file, index=False)\n",
    "else:\n",
    "    y_pred_df.to_parquet(y_pred_df_file, index=False)"
   ]
  },
  {
   "cell_type": "code",
   "execution_count": 118,
   "id": "148d1346",
   "metadata": {},
   "outputs": [],
   "source": [
    "final_predictions_df = pd.concat([final_predictions_df, y_pred_df], axis=0)"
   ]
  },
  {
   "cell_type": "code",
   "execution_count": 119,
   "id": "075f1ff0",
   "metadata": {
    "execution": {
     "iopub.execute_input": "2023-11-13T03:21:53.099747Z",
     "iopub.status.busy": "2023-11-13T03:21:53.099370Z",
     "iopub.status.idle": "2023-11-13T03:21:53.102914Z",
     "shell.execute_reply": "2023-11-13T03:21:53.102508Z"
    },
    "papermill": {
     "duration": null,
     "end_time": null,
     "exception": null,
     "start_time": null,
     "status": "pending"
    },
    "tags": []
   },
   "outputs": [],
   "source": [
    "# rename columns from the decoder dictionary\n",
    "confusion_matrix_df.rename(\n",
    "    columns={0: \"apoptosis\", 1: \"healthy\", 2: \"pyroptosis\"}, inplace=True\n",
    ")\n",
    "# rename index from the decoder dictionary\n",
    "confusion_matrix_df.rename(\n",
    "    index={0: \"apoptosis\", 1: \"healthy\", 2: \"pyroptosis\"}, inplace=True\n",
    ")"
   ]
  },
  {
   "cell_type": "code",
   "execution_count": 120,
   "id": "eb3690d8",
   "metadata": {
    "execution": {
     "iopub.execute_input": "2023-11-13T03:21:53.130959Z",
     "iopub.status.busy": "2023-11-13T03:21:53.130694Z",
     "iopub.status.idle": "2023-11-13T03:21:53.137032Z",
     "shell.execute_reply": "2023-11-13T03:21:53.136624Z"
    },
    "papermill": {
     "duration": null,
     "end_time": null,
     "exception": null,
     "start_time": null,
     "status": "pending"
    },
    "tags": []
   },
   "outputs": [],
   "source": [
    "confusion_matrices = confusion_matrix_df.reset_index()\n",
    "# melt the DataFrame to a long format\n",
    "confusion_matrices = pd.melt(\n",
    "    confusion_matrices,\n",
    "    id_vars=[\"index\"],\n",
    "    value_vars=[\"healthy\", \"apoptosis\", \"pyroptosis\"],\n",
    ")\n",
    "\n",
    "# rename the columns\n",
    "confusion_matrices.columns = [\"True_Label\", \"Predicted_Label\", \"Count\"]\n",
    "confusion_matrices[\"data_split\"] = \"holdout\"\n",
    "# sum of the columns of the confusion matrix gives the total number of samples per class\n",
    "sum_of_columns = confusion_matrix_df.sum(axis=0)"
   ]
  },
  {
   "cell_type": "code",
   "execution_count": 121,
   "id": "31d1f6af",
   "metadata": {
    "execution": {
     "iopub.execute_input": "2023-11-13T03:21:53.198562Z",
     "iopub.status.busy": "2023-11-13T03:21:53.198279Z",
     "iopub.status.idle": "2023-11-13T03:21:53.201909Z",
     "shell.execute_reply": "2023-11-13T03:21:53.201527Z"
    },
    "papermill": {
     "duration": null,
     "end_time": null,
     "exception": null,
     "start_time": null,
     "status": "pending"
    },
    "tags": []
   },
   "outputs": [],
   "source": [
    "# normalize confusion matrix\n",
    "# get the sum of each column to normalize the confusion matrix by the total number of samples per class\n",
    "\n",
    "# divide the apotosis column by the sum of the apotosis column\n",
    "confusion_matrix_df[\"apoptosis\"] = confusion_matrix_df[\"apoptosis\"] / sum_of_columns[0]\n",
    "# divide the healthy column by the sum of the healthy column\n",
    "confusion_matrix_df[\"healthy\"] = confusion_matrix_df[\"healthy\"] / sum_of_columns[1]\n",
    "# divide the pyroptosis column by the sum of the pyroptosis column\n",
    "confusion_matrix_df[\"pyroptosis\"] = (\n",
    "    confusion_matrix_df[\"pyroptosis\"] / sum_of_columns[2]\n",
    ")"
   ]
  },
  {
   "cell_type": "code",
   "execution_count": 122,
   "id": "cfe647ce",
   "metadata": {
    "execution": {
     "iopub.execute_input": "2023-11-13T03:21:53.230116Z",
     "iopub.status.busy": "2023-11-13T03:21:53.229842Z",
     "iopub.status.idle": "2023-11-13T03:21:53.233015Z",
     "shell.execute_reply": "2023-11-13T03:21:53.232631Z"
    },
    "papermill": {
     "duration": null,
     "end_time": null,
     "exception": null,
     "start_time": null,
     "status": "pending"
    },
    "tags": []
   },
   "outputs": [],
   "source": [
    "# change the order of the columns\n",
    "confusion_matrix_df = confusion_matrix_df[[\"healthy\", \"apoptosis\", \"pyroptosis\"]]\n",
    "# change the order of the index\n",
    "confusion_matrix_df = confusion_matrix_df.reindex(\n",
    "    index=[\"healthy\", \"apoptosis\", \"pyroptosis\"]\n",
    ")"
   ]
  },
  {
   "cell_type": "code",
   "execution_count": 123,
   "id": "001cd8ef",
   "metadata": {
    "execution": {
     "iopub.execute_input": "2023-11-13T03:21:53.261598Z",
     "iopub.status.busy": "2023-11-13T03:21:53.261247Z",
     "iopub.status.idle": "2023-11-13T03:21:53.270004Z",
     "shell.execute_reply": "2023-11-13T03:21:53.269614Z"
    },
    "papermill": {
     "duration": null,
     "end_time": null,
     "exception": null,
     "start_time": null,
     "status": "pending"
    },
    "tags": []
   },
   "outputs": [
    {
     "name": "stderr",
     "output_type": "stream",
     "text": [
      "/tmp/ipykernel_2802345/2372900873.py:19: FutureWarning: In a future version, object-dtype columns with all-bool values will not be included in reductions with bool_only=True. Explicitly cast to bool dtype instead.\n",
      "  data_split_conf_mat_df_all = pd.concat(\n"
     ]
    }
   ],
   "source": [
    "confusion_matrices_recall = confusion_matrix_df.reset_index()\n",
    "# melt the DataFrame to a long format\n",
    "confusion_matrices_recall = pd.melt(\n",
    "    confusion_matrices_recall,\n",
    "    id_vars=[\"index\"],\n",
    "    value_vars=[\"healthy\", \"apoptosis\", \"pyroptosis\"],\n",
    ")\n",
    "\n",
    "# rename the columns\n",
    "confusion_matrices_recall.columns = [\"True_Label\", \"Predicted_Label\", \"Count\"]\n",
    "confusion_matrices_recall[\"data_split\"] = \"holdout\"\n",
    "confusion_matrices_recall.rename(columns={\"Count\": \"Recall\"}, inplace=True)\n",
    "data_split_conf_mat_df = pd.merge(\n",
    "    confusion_matrices,\n",
    "    confusion_matrices_recall,\n",
    "    on=[\"True_Label\", \"Predicted_Label\", \"data_split\"],\n",
    ")\n",
    "data_split_conf_mat_df[\"shuffled_data\"] = mlp_params.SHUFFLE\n",
    "data_split_conf_mat_df_all = pd.concat(\n",
    "    [data_split_conf_mat_df_all, data_split_conf_mat_df], axis=0\n",
    ")"
   ]
  },
  {
   "cell_type": "code",
   "execution_count": 124,
   "id": "7c326b32",
   "metadata": {
    "execution": {
     "iopub.execute_input": "2023-11-13T03:21:53.332808Z",
     "iopub.status.busy": "2023-11-13T03:21:53.332528Z",
     "iopub.status.idle": "2023-11-13T03:21:53.496525Z",
     "shell.execute_reply": "2023-11-13T03:21:53.496138Z"
    },
    "papermill": {
     "duration": null,
     "end_time": null,
     "exception": null,
     "start_time": null,
     "status": "pending"
    },
    "tags": []
   },
   "outputs": [
    {
     "data": {
      "image/png": "[encoded data removed]",
      "text/plain": [
       "<Figure size 640x480 with 2 Axes>"
      ]
     },
     "metadata": {},
     "output_type": "display_data"
    }
   ],
   "source": [
    "ax = sns.heatmap(confusion_matrix_df, annot=True)\n",
    "\n",
    "plt.xlabel(\"Actual Values\", size=15)\n",
    "plt.ylabel(\"Predicted Values\", size=15)\n",
    "plt.show()"
   ]
  },
  {
   "cell_type": "code",
   "execution_count": 125,
   "id": "d9c38144",
   "metadata": {
    "execution": {
     "iopub.execute_input": "2023-11-13T03:21:53.525955Z",
     "iopub.status.busy": "2023-11-13T03:21:53.525663Z",
     "iopub.status.idle": "2023-11-13T03:21:53.783498Z",
     "shell.execute_reply": "2023-11-13T03:21:53.783087Z"
    },
    "papermill": {
     "duration": null,
     "end_time": null,
     "exception": null,
     "start_time": null,
     "status": "pending"
    },
    "tags": []
   },
   "outputs": [
    {
     "name": "stdout",
     "output_type": "stream",
     "text": [
      "              precision    recall  f1-score   support\n",
      "\n",
      "           0       0.84      0.72      0.77      7048\n",
      "           1       0.65      0.94      0.77     73054\n",
      "           2       0.89      0.50      0.64     70799\n",
      "\n",
      "    accuracy                           0.72    150901\n",
      "   macro avg       0.79      0.72      0.73    150901\n",
      "weighted avg       0.77      0.72      0.71    150901\n",
      "\n"
     ]
    },
    {
     "name": "stderr",
     "output_type": "stream",
     "text": [
      "/tmp/ipykernel_2802345/3777910350.py:18: SettingWithCopyWarning: \n",
      "A value is trying to be set on a copy of a slice from a DataFrame.\n",
      "Try using .loc[row_indexer,col_indexer] = value instead\n",
      "\n",
      "See the caveats in the documentation: https://pandas.pydata.org/pandas-docs/stable/user_guide/indexing.html#returning-a-view-versus-a-copy\n",
      "  df_labels[\"new_labels\"] = df_labels[\"new_labels\"].astype(str)\n"
     ]
    }
   ],
   "source": [
    "stats_df = output_stats(\n",
    "    y_pred_list,\n",
    "    Y_test_list,\n",
    "    mlp_params,\n",
    "    test_name=f\"{mlp_params.MODEL_NAME}_train\",\n",
    "    model_name=mlp_params.MODEL_NAME,\n",
    "    title=mlp_params.MODEL_NAME,\n",
    "    shuffle=mlp_params.SHUFFLE,\n",
    ")\n",
    "# make into a dataframe\n",
    "stats_df = pd.DataFrame.from_dict(stats_df).transpose()\n",
    "stats_df.reset_index(inplace=True)\n",
    "stats_df.rename(columns={\"index\": \"label\"}, inplace=True)\n",
    "stats_df = stats_df.melt(id_vars=[\"label\"], var_name=\"metric\", value_name=\"value\")\n",
    "# if accuracy in row of column 1 then change value of column 2 to accuracy\n",
    "stats_df.loc[stats_df[\"label\"] == \"accuracy\", \"metric\"] = \"accuracy\"\n",
    "# create a decoder dictionary from df_labels\n",
    "df_labels[\"new_labels\"] = df_labels[\"new_labels\"].astype(str)\n",
    "decoder = df_labels.set_index(\"new_labels\").to_dict()[\"labels\"]\n",
    "decoder[\"accuracy\"] = \"accuracy\"\n",
    "decoder[\"macro avg\"] = \"macro avg\"\n",
    "decoder[\"weighted avg\"] = \"weighted avg\"\n",
    "stats_df[\"label\"] = stats_df[\"label\"].map(decoder)"
   ]
  },
  {
   "cell_type": "code",
   "execution_count": 126,
   "id": "61319294",
   "metadata": {
    "execution": {
     "iopub.execute_input": "2023-11-13T03:21:53.812945Z",
     "iopub.status.busy": "2023-11-13T03:21:53.812603Z",
     "iopub.status.idle": "2023-11-13T03:21:53.821134Z",
     "shell.execute_reply": "2023-11-13T03:21:53.820751Z"
    },
    "papermill": {
     "duration": null,
     "end_time": null,
     "exception": null,
     "start_time": null,
     "status": "pending"
    },
    "tags": []
   },
   "outputs": [
    {
     "name": "stderr",
     "output_type": "stream",
     "text": [
      "/tmp/ipykernel_2802345/3238046929.py:4: FutureWarning: In a future version, object-dtype columns with all-bool values will not be included in reductions with bool_only=True. Explicitly cast to bool dtype instead.\n",
      "  model_stats_df = pd.concat([model_stats_df, stats_df], axis=0)\n"
     ]
    }
   ],
   "source": [
    "stats_df[\"group\"] = \"holdout\"\n",
    "stats_df[\"shuffled_data\"] = mlp_params.SHUFFLE\n",
    "\n",
    "model_stats_df = pd.concat([model_stats_df, stats_df], axis=0)"
   ]
  },
  {
   "cell_type": "markdown",
   "id": "4806d13c",
   "metadata": {},
   "source": [
    "### Save Files"
   ]
  },
  {
   "cell_type": "code",
   "execution_count": 127,
   "id": "9931ea5e",
   "metadata": {},
   "outputs": [],
   "source": [
    "# set path for the model confusion matrices\n",
    "predictions_path = pathlib.Path(\n",
    "    f\"../../results/{mlp_params.MODEL_TYPE}/{mlp_params.MODEL_NAME}/{mlp_params.CELL_TYPE}\"\n",
    ")\n",
    "predictions_path.mkdir(parents=True, exist_ok=True)\n",
    "# check if the model training metrics file exists\n",
    "predictions_file = pathlib.Path(f\"{predictions_path}/single_cell_predictions.parquet\")\n",
    "if predictions_file.exists():\n",
    "    predictions_df_tmp = pd.read_parquet(predictions_file)\n",
    "    if len(predictions_df_tmp[\"data_split\"].unique()) > 1:\n",
    "        pass\n",
    "    elif predictions_df_tmp[\"data_split\"].unique() == mlp_params.SHUFFLE:\n",
    "        pass\n",
    "    else:\n",
    "        metrics_df = pd.concat([predictions_df_tmp, final_predictions_df], axis=0)\n",
    "        metrics_df.to_parquet(predictions_file, index=False)\n",
    "else:\n",
    "    final_predictions_df.to_parquet(predictions_file, index=False)"
   ]
  },
  {
   "cell_type": "code",
   "execution_count": 128,
   "id": "6320cb8d",
   "metadata": {
    "execution": {
     "iopub.execute_input": "2023-11-13T03:21:53.887891Z",
     "iopub.status.busy": "2023-11-13T03:21:53.887611Z",
     "iopub.status.idle": "2023-11-13T03:21:53.892841Z",
     "shell.execute_reply": "2023-11-13T03:21:53.892460Z"
    },
    "papermill": {
     "duration": null,
     "end_time": null,
     "exception": null,
     "start_time": null,
     "status": "pending"
    },
    "tags": []
   },
   "outputs": [
    {
     "name": "stderr",
     "output_type": "stream",
     "text": [
      "/tmp/ipykernel_2802345/2366603010.py:15: FutureWarning: In a future version, object-dtype columns with all-bool values will not be included in reductions with bool_only=True. Explicitly cast to bool dtype instead.\n",
      "  metrics_df = pd.concat([metrics_df, data_split_conf_mat_df_all], axis=0)\n"
     ]
    }
   ],
   "source": [
    "# set path for the model confusion matrices\n",
    "matrix_path = pathlib.Path(\n",
    "    f\"../../results/{mlp_params.MODEL_TYPE}/{mlp_params.MODEL_NAME}/{mlp_params.CELL_TYPE}\"\n",
    ")\n",
    "matrix_path.mkdir(parents=True, exist_ok=True)\n",
    "# check if the model training metrics file exists\n",
    "matrix_file = pathlib.Path(f\"{matrix_path}/confusion_matrices.parquet\")\n",
    "if matrix_file.exists():\n",
    "    metrics_df = pd.read_parquet(matrix_file)\n",
    "    if len(metrics_df[\"shuffled_data\"].unique()) > 1:\n",
    "        pass\n",
    "    elif metrics_df[\"shuffled_data\"].unique() == mlp_params.SHUFFLE:\n",
    "        pass\n",
    "    else:\n",
    "        metrics_df = pd.concat([metrics_df, data_split_conf_mat_df_all], axis=0)\n",
    "        metrics_df.to_parquet(matrix_file, index=False)\n",
    "else:\n",
    "    data_split_conf_mat_df_all.to_parquet(matrix_file, index=False)"
   ]
  },
  {
   "cell_type": "code",
   "execution_count": 129,
   "id": "e1e4b224",
   "metadata": {
    "execution": {
     "iopub.execute_input": "2023-11-13T03:21:53.922948Z",
     "iopub.status.busy": "2023-11-13T03:21:53.922663Z",
     "iopub.status.idle": "2023-11-13T03:21:53.927617Z",
     "shell.execute_reply": "2023-11-13T03:21:53.927236Z"
    },
    "papermill": {
     "duration": null,
     "end_time": null,
     "exception": null,
     "start_time": null,
     "status": "pending"
    },
    "tags": []
   },
   "outputs": [
    {
     "name": "stderr",
     "output_type": "stream",
     "text": [
      "/tmp/ipykernel_2802345/2395297143.py:15: FutureWarning: In a future version, object-dtype columns with all-bool values will not be included in reductions with bool_only=True. Explicitly cast to bool dtype instead.\n",
      "  metrics_df = pd.concat([metrics_df, model_stats_df], axis=0)\n"
     ]
    }
   ],
   "source": [
    "# set path for the model training metrics\n",
    "metrics_path = pathlib.Path(\n",
    "    f\"../../results/{mlp_params.MODEL_TYPE}/{mlp_params.MODEL_NAME}/{mlp_params.CELL_TYPE}\"\n",
    ")\n",
    "metrics_path.mkdir(parents=True, exist_ok=True)\n",
    "# check if the model training metrics file exists\n",
    "metrics_file = pathlib.Path(f\"{metrics_path}/training_metrics.parquet\")\n",
    "if metrics_file.exists():\n",
    "    metrics_df = pd.read_parquet(metrics_file)\n",
    "    if len(metrics_df[\"shuffled_data\"].unique()) > 1:\n",
    "        pass\n",
    "    elif metrics_df[\"shuffled_data\"].unique() == mlp_params.SHUFFLE:\n",
    "        pass\n",
    "    else:\n",
    "        metrics_df = pd.concat([metrics_df, model_stats_df], axis=0)\n",
    "        metrics_df.to_parquet(metrics_file, index=False)\n",
    "else:\n",
    "    model_stats_df.to_parquet(metrics_file, index=False)"
   ]
  },
  {
   "cell_type": "code",
   "execution_count": 130,
   "id": "96b342f3",
   "metadata": {},
   "outputs": [
    {
     "name": "stderr",
     "output_type": "stream",
     "text": [
      "/tmp/ipykernel_2802345/2900457603.py:15: FutureWarning: In a future version, object-dtype columns with all-bool values will not be included in reductions with bool_only=True. Explicitly cast to bool dtype instead.\n",
      "  pr_curve_df_old = pd.concat([pr_curve_df_old, pr_curve_df_all], axis=0)\n"
     ]
    }
   ],
   "source": [
    "# set path for the model training metrics\n",
    "pr_curve_file_path = pathlib.Path(\n",
    "    f\"../../results/{mlp_params.MODEL_TYPE}/{mlp_params.MODEL_NAME}/{mlp_params.CELL_TYPE}\"\n",
    ")\n",
    "pr_curve_file_path.mkdir(parents=True, exist_ok=True)\n",
    "# check if the model training metrics file exists\n",
    "pr_curve_file = pathlib.Path(f\"{pr_curve_file_path}/PR_curves.parquet\")\n",
    "if pr_curve_file.exists():\n",
    "    pr_curve_df_old = pd.read_parquet(pr_curve_file)\n",
    "    if len(pr_curve_df_old[\"shuffle\"].unique()) > 1:\n",
    "        pass\n",
    "    elif pr_curve_df_old[\"shuffle\"].unique() == mlp_params.SHUFFLE:\n",
    "        pass\n",
    "    else:\n",
    "        pr_curve_df_old = pd.concat([pr_curve_df_old, pr_curve_df_all], axis=0)\n",
    "        pr_curve_df_old.to_parquet(pr_curve_file, index=False)\n",
    "else:\n",
    "    pr_curve_df_all.to_parquet(pr_curve_file, index=False)"
   ]
  },
  {
   "cell_type": "code",
   "execution_count": 131,
   "id": "d81929db",
   "metadata": {},
   "outputs": [
    {
     "name": "stderr",
     "output_type": "stream",
     "text": [
      "/tmp/ipykernel_2802345/399489450.py:15: FutureWarning: In a future version, object-dtype columns with all-bool values will not be included in reductions with bool_only=True. Explicitly cast to bool dtype instead.\n",
      "  probabilties_df_old = pd.concat([probabilties_df_old, main_prob_df], axis=0)\n"
     ]
    }
   ],
   "source": [
    "# set path for the model training metrics\n",
    "probabilties_df_path = pathlib.Path(\n",
    "    f\"../../results/{mlp_params.MODEL_TYPE}/{mlp_params.MODEL_NAME}/{mlp_params.CELL_TYPE}\"\n",
    ")\n",
    "probabilties_df_path.mkdir(parents=True, exist_ok=True)\n",
    "# check if the model training metrics file exists\n",
    "probabilties_df_file = pathlib.Path(f\"{probabilties_df_path}/probabilities.parquet\")\n",
    "if probabilties_df_file.exists():\n",
    "    probabilties_df_old = pd.read_parquet(probabilties_df_file)\n",
    "    if len(probabilties_df_old[\"shuffle\"].unique()) > 1:\n",
    "        pass\n",
    "    elif probabilties_df_old[\"shuffle\"].unique() == mlp_params.SHUFFLE:\n",
    "        pass\n",
    "    else:\n",
    "        probabilties_df_old = pd.concat([probabilties_df_old, main_prob_df], axis=0)\n",
    "        probabilties_df_old.to_parquet(probabilties_df_file, index=False)\n",
    "else:\n",
    "    main_prob_df.to_parquet(probabilties_df_file, index=False)"
   ]
  }
 ],
 "metadata": {
  "kernelspec": {
   "display_name": "Interstellar",
   "language": "python",
   "name": "python3"
  },
  "language_info": {
   "codemirror_mode": {
    "name": "ipython",
    "version": 3
   },
   "file_extension": ".py",
   "mimetype": "text/x-python",
   "name": "python",
   "nbconvert_exporter": "python",
   "pygments_lexer": "ipython3",
   "version": "3.10.12"
  },
  "papermill": {
   "default_parameters": {},
   "duration": null,
   "end_time": null,
   "environment_variables": {},
   "exception": null,
   "input_path": "train_multiclass_model.ipynb",
   "output_path": "train_multiclass_model.ipynb",
   "parameters": {
    "CELL_TYPE": "PBMC",
    "MODEL_NAME": "MultiClass_MLP",
    "SHUFFLE": true
   },
   "start_time": "2023-11-13T03:46:04.352506",
   "version": "2.4.0"
  }
 },
 "nbformat": 4,
 "nbformat_minor": 5
}
