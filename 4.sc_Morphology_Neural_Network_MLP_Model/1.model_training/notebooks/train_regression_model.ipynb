{
 "cells": [
  {
   "cell_type": "code",
   "execution_count": 1,
   "id": "42d429df",
   "metadata": {
    "execution": {
     "iopub.execute_input": "2023-08-25T20:30:30.503541Z",
     "iopub.status.busy": "2023-08-25T20:30:30.503219Z",
     "iopub.status.idle": "2023-08-25T20:30:31.902914Z",
     "shell.execute_reply": "2023-08-25T20:30:31.902526Z"
    },
    "papermill": {
     "duration": 1.407423,
     "end_time": "2023-08-25T20:30:31.904491",
     "exception": false,
     "start_time": "2023-08-25T20:30:30.497068",
     "status": "completed"
    },
    "tags": []
   },
   "outputs": [],
   "source": [
    "import pathlib\n",
    "import sys\n",
    "\n",
    "import numpy as np\n",
    "import optuna\n",
    "import pandas as pd\n",
    "import pyarrow.parquet as pq\n",
    "import toml\n",
    "import torch\n",
    "from sklearn import preprocessing\n",
    "\n",
    "sys.path.append(\"../..\")\n",
    "\n",
    "from MLP_utils.parameters import Parameters\n",
    "from MLP_utils.utils import (\n",
    "    Dataset_formatter,\n",
    "    data_split,\n",
    "    extract_best_trial_params,\n",
    "    objective_model_optimizer,\n",
    "    parameter_set,\n",
    "    plot_metric_vs_epoch,\n",
    "    results_output,\n",
    "    test_optimized_model,\n",
    "    train_optimized_model,\n",
    "    un_nest,\n",
    ")\n",
    "\n",
    "sys.path.append(\"../../..\")\n",
    "from utils.utils import df_stats"
   ]
  },
  {
   "cell_type": "markdown",
   "id": "30909662",
   "metadata": {
    "papermill": {
     "duration": 0.009154,
     "end_time": "2023-08-25T20:30:31.922977",
     "exception": false,
     "start_time": "2023-08-25T20:30:31.913823",
     "status": "completed"
    },
    "tags": []
   },
   "source": [
    "#### Set up Data to be compatible with model"
   ]
  },
  {
   "cell_type": "markdown",
   "id": "d698778d",
   "metadata": {
    "papermill": {
     "duration": 0.004064,
     "end_time": "2023-08-25T20:30:31.934552",
     "exception": false,
     "start_time": "2023-08-25T20:30:31.930488",
     "status": "completed"
    },
    "tags": []
   },
   "source": [
    "##### Regression Model Data Wrangling and Set Up\n",
    "comment out if not using regression"
   ]
  },
  {
   "cell_type": "code",
   "execution_count": 2,
   "id": "75984e73",
   "metadata": {
    "execution": {
     "iopub.execute_input": "2023-08-25T20:30:31.947716Z",
     "iopub.status.busy": "2023-08-25T20:30:31.947305Z",
     "iopub.status.idle": "2023-08-25T20:30:31.949653Z",
     "shell.execute_reply": "2023-08-25T20:30:31.949388Z"
    },
    "papermill": {
     "duration": 0.008093,
     "end_time": "2023-08-25T20:30:31.950259",
     "exception": false,
     "start_time": "2023-08-25T20:30:31.942166",
     "status": "completed"
    },
    "tags": [
     "injected-parameters"
    ]
   },
   "outputs": [],
   "source": [
    "# Parameters\n",
    "CELL_TYPE = \"PBMC\"\n",
    "CONTROL_NAME = \"DMSO_0.100_DMSO_0.025\"\n",
    "# TREATMENT_NAME = \"LPS_100.000_DMSO_0.025\"\n",
    "TREATMENT_NAME = \"DMSO_0.100_DMSO_0.025\"\n",
    "MODEL_NAME = \"DMSO_0.025_vs_LPS_100\"\n",
    "SHUFFLE = False"
   ]
  },
  {
   "cell_type": "code",
   "execution_count": 3,
   "id": "78e9f534",
   "metadata": {
    "execution": {
     "iopub.execute_input": "2023-08-25T20:30:31.959224Z",
     "iopub.status.busy": "2023-08-25T20:30:31.959094Z",
     "iopub.status.idle": "2023-08-25T20:30:31.961855Z",
     "shell.execute_reply": "2023-08-25T20:30:31.961595Z"
    },
    "papermill": {
     "duration": 0.007989,
     "end_time": "2023-08-25T20:30:31.962481",
     "exception": false,
     "start_time": "2023-08-25T20:30:31.954492",
     "status": "completed"
    },
    "tags": []
   },
   "outputs": [],
   "source": [
    "ml_configs_file = pathlib.Path(\"../../MLP_utils/regression_config.toml\").resolve(\n",
    "    strict=True\n",
    ")\n",
    "ml_configs = toml.load(ml_configs_file)\n",
    "params = Parameters()\n",
    "mlp_params = parameter_set(params, ml_configs)\n",
    "\n",
    "# overwrite params via command line arguments from papermill\n",
    "mlp_params.CELL_TYPE = CELL_TYPE\n",
    "mlp_params.MODEL_NAME = MODEL_NAME\n",
    "mlp_params.CONTROL_NAME = CONTROL_NAME\n",
    "mlp_params.TREATMENT_NAME = TREATMENT_NAME\n",
    "mlp_params.SHUFFLE = SHUFFLE"
   ]
  },
  {
   "cell_type": "code",
   "execution_count": 4,
   "id": "6febad7c",
   "metadata": {
    "execution": {
     "iopub.execute_input": "2023-08-25T20:30:31.971871Z",
     "iopub.status.busy": "2023-08-25T20:30:31.971569Z",
     "iopub.status.idle": "2023-08-25T20:30:34.389151Z",
     "shell.execute_reply": "2023-08-25T20:30:34.388750Z"
    },
    "papermill": {
     "duration": 2.423585,
     "end_time": "2023-08-25T20:30:34.390311",
     "exception": false,
     "start_time": "2023-08-25T20:30:31.966726",
     "status": "completed"
    },
    "tags": []
   },
   "outputs": [],
   "source": [
    "# Import Data\n",
    "# set data file path under pathlib path for multi-system use\n",
    "\n",
    "# file_path = pathlib.Path(\n",
    "#     f\"../../../data/{mlp_params.CELL_TYPE}_preprocessed_sc_norm.parquet\"\n",
    "# ).resolve(strict=True)\n",
    "\n",
    "file_path = pathlib.Path(\n",
    "    \"../../../data/PBMC_subset_sc_norm_DMSO_0.100_DMSO_0.025_LPS_100.000_DMSO_0.025.parquet\"\n",
    ")\n",
    "\n",
    "# set path for nomic data\n",
    "nomic_df_path = pathlib.Path(\n",
    "    f\"../../../2.Nomic_nELISA_Analysis/Data/clean/Plate2/nELISA_plate_430420_{mlp_params.CELL_TYPE}_cleanup4correlation.csv\"\n",
    ").resolve(strict=True)\n",
    "\n",
    "df = pq.read_table(file_path).to_pandas()\n",
    "nomic_df = pd.read_csv(nomic_df_path)"
   ]
  },
  {
   "cell_type": "code",
   "execution_count": 5,
   "id": "60f24a14",
   "metadata": {},
   "outputs": [
    {
     "name": "stderr",
     "output_type": "stream",
     "text": [
      "/tmp/ipykernel_2048220/966290204.py:8: SettingWithCopyWarning: \n",
      "A value is trying to be set on a copy of a slice from a DataFrame.\n",
      "Try using .loc[row_indexer,col_indexer] = value instead\n",
      "\n",
      "See the caveats in the documentation: https://pandas.pydata.org/pandas-docs/stable/user_guide/indexing.html#returning-a-view-versus-a-copy\n",
      "  nomic_df_scaled[[\n",
      "/tmp/ipykernel_2048220/966290204.py:8: SettingWithCopyWarning: \n",
      "A value is trying to be set on a copy of a slice from a DataFrame.\n",
      "Try using .loc[row_indexer,col_indexer] = value instead\n",
      "\n",
      "See the caveats in the documentation: https://pandas.pydata.org/pandas-docs/stable/user_guide/indexing.html#returning-a-view-versus-a-copy\n",
      "  nomic_df_scaled[[\n"
     ]
    }
   ],
   "source": [
    "# change the nomic df to standard scaler\n",
    "# select the columns that contain \"NSU\"\n",
    "nomic_df_scaled = nomic_df.filter(regex=\"NSU\")\n",
    "# standardize the nomic data\n",
    "# scaler = preprocessing.StandardScaler()\n",
    "# nomic_df_scaled = pd.DataFrame(scaler.fit_transform(nomic_df_scaled), columns=nomic_df_scaled.columns)\n",
    "# add the nomic data metadata back\n",
    "nomic_df_scaled[\n",
    "    [\n",
    "        \"Metadata_position_x\",\n",
    "        \"oneb_Metadata_Treatment_Dose_Inhibitor_Dose\",\n",
    "        \"fourb_Metadata_Treatment_Dose_Inhibitor_Dose\",\n",
    "    ]\n",
    "] = nomic_df[\n",
    "    [\n",
    "        \"Metadata_position_x\",\n",
    "        \"oneb_Metadata_Treatment_Dose_Inhibitor_Dose\",\n",
    "        \"fourb_Metadata_Treatment_Dose_Inhibitor_Dose\",\n",
    "    ]\n",
    "]\n",
    "nomic_df = nomic_df_scaled.copy()\n",
    "del nomic_df_scaled"
   ]
  },
  {
   "cell_type": "code",
   "execution_count": 6,
   "id": "1d05a56a",
   "metadata": {
    "execution": {
     "iopub.execute_input": "2023-08-25T20:30:34.402176Z",
     "iopub.status.busy": "2023-08-25T20:30:34.401841Z",
     "iopub.status.idle": "2023-08-25T20:30:36.359367Z",
     "shell.execute_reply": "2023-08-25T20:30:36.358679Z"
    },
    "papermill": {
     "duration": 1.963523,
     "end_time": "2023-08-25T20:30:36.360227",
     "exception": false,
     "start_time": "2023-08-25T20:30:34.396704",
     "status": "completed"
    },
    "tags": []
   },
   "outputs": [
    {
     "name": "stdout",
     "output_type": "stream",
     "text": [
      "(374565, 1270)\n",
      "(154, 190)\n",
      "(374565, 1457)\n"
     ]
    }
   ],
   "source": [
    "print(df.shape)\n",
    "df = pd.merge(\n",
    "    df,\n",
    "    nomic_df,\n",
    "    left_on=[\n",
    "        \"Metadata_Well\",\n",
    "        \"oneb_Metadata_Treatment_Dose_Inhibitor_Dose\",\n",
    "        \"fourb_Metadata_Treatment_Dose_Inhibitor_Dose\",\n",
    "    ],\n",
    "    right_on=[\n",
    "        \"Metadata_position_x\",\n",
    "        \"oneb_Metadata_Treatment_Dose_Inhibitor_Dose\",\n",
    "        \"fourb_Metadata_Treatment_Dose_Inhibitor_Dose\",\n",
    "    ],\n",
    ").drop([\"Metadata_position_x\"], axis=1)\n",
    "print(nomic_df.shape)\n",
    "print(df.shape)"
   ]
  },
  {
   "cell_type": "code",
   "execution_count": 7,
   "id": "70cdf05c",
   "metadata": {},
   "outputs": [],
   "source": [
    "df_merge_non_aggregated = df.copy()"
   ]
  },
  {
   "cell_type": "code",
   "execution_count": 8,
   "id": "c4d9045c",
   "metadata": {},
   "outputs": [],
   "source": [
    "# Code snippet for metadata extraction by Jenna Tomkinson\n",
    "df_metadata = list(df.columns[df.columns.str.contains(\"Metadata\")])\n",
    "\n",
    "# define which columns are data and which are descriptive\n",
    "df_descriptive = df[df_metadata]\n",
    "df_values = df.drop(columns=df_metadata)"
   ]
  },
  {
   "cell_type": "code",
   "execution_count": 9,
   "id": "8b6af6e5",
   "metadata": {},
   "outputs": [],
   "source": [
    "df_values[\n",
    "    [\"Metadata_Well\", \"oneb_Metadata_Treatment_Dose_Inhibitor_Dose\"]\n",
    "] = df_descriptive[[\"Metadata_Well\", \"oneb_Metadata_Treatment_Dose_Inhibitor_Dose\"]]\n",
    "df = (\n",
    "    df_values.groupby([\"Metadata_Well\", \"oneb_Metadata_Treatment_Dose_Inhibitor_Dose\"])\n",
    "    .median()\n",
    "    .reset_index()\n",
    ")"
   ]
  },
  {
   "cell_type": "code",
   "execution_count": 10,
   "id": "fb472a7d",
   "metadata": {
    "execution": {
     "iopub.execute_input": "2023-08-25T20:30:36.370012Z",
     "iopub.status.busy": "2023-08-25T20:30:36.369900Z",
     "iopub.status.idle": "2023-08-25T20:30:36.521087Z",
     "shell.execute_reply": "2023-08-25T20:30:36.520491Z"
    },
    "papermill": {
     "duration": 0.157081,
     "end_time": "2023-08-25T20:30:36.522031",
     "exception": false,
     "start_time": "2023-08-25T20:30:36.364950",
     "status": "completed"
    },
    "tags": []
   },
   "outputs": [
    {
     "name": "stdout",
     "output_type": "stream",
     "text": [
      "Selected Catagories are:\n",
      "['DMSO_0.100_DMSO_0.025']\n",
      "The dimensions of the data are: (8, 1434)\n",
      "Number of total missing values across all columns: 0\n",
      "Data Subset Is Off\n"
     ]
    }
   ],
   "source": [
    "# filter the oneb_Metadata_Treatment_Dose_Inhibitor_Dose column to only include the treatment and control via loc\n",
    "df = df.loc[\n",
    "    df[\"oneb_Metadata_Treatment_Dose_Inhibitor_Dose\"].isin(\n",
    "        [mlp_params.TREATMENT_NAME, mlp_params.CONTROL_NAME]\n",
    "    )\n",
    "]\n",
    "\n",
    "\n",
    "print(\"Selected Catagories are:\")\n",
    "print(df[\"oneb_Metadata_Treatment_Dose_Inhibitor_Dose\"].unique())\n",
    "df_stats(df)\n",
    "\n",
    "if mlp_params.DATA_SUBSET_OPTION == \"True\":\n",
    "    df = df.sample(n=mlp_params.DATA_SUBSET_NUMBER)\n",
    "    print(\"Data Subset Is On\")\n",
    "    print(f\"Data is subset to {mlp_params.DATA_SUBSET_NUMBER}\")\n",
    "else:\n",
    "    print(\"Data Subset Is Off\")"
   ]
  },
  {
   "cell_type": "code",
   "execution_count": 11,
   "id": "b8e6f892",
   "metadata": {
    "execution": {
     "iopub.execute_input": "2023-08-25T20:30:36.531683Z",
     "iopub.status.busy": "2023-08-25T20:30:36.531541Z",
     "iopub.status.idle": "2023-08-25T20:30:37.212772Z",
     "shell.execute_reply": "2023-08-25T20:30:37.212107Z"
    },
    "papermill": {
     "duration": 0.686912,
     "end_time": "2023-08-25T20:30:37.213644",
     "exception": false,
     "start_time": "2023-08-25T20:30:36.526732",
     "status": "completed"
    },
    "tags": []
   },
   "outputs": [
    {
     "name": "stdout",
     "output_type": "stream",
     "text": [
      "Wells held out for testing: ['I06']\n",
      "Wells to use for training, validation, and testing ['B06' 'B07' 'C06' 'C07' 'I07' 'J06' 'J07']\n"
     ]
    }
   ],
   "source": [
    "np.random.seed(seed=0)\n",
    "wells_to_hold = (\n",
    "    df.groupby(\"oneb_Metadata_Treatment_Dose_Inhibitor_Dose\")\n",
    "    .agg(np.random.choice)[\"Metadata_Well\"]\n",
    "    .to_list()\n",
    ")\n",
    "df_holdout = df[df[\"Metadata_Well\"].isin(wells_to_hold)]\n",
    "df = df[~df[\"Metadata_Well\"].isin(wells_to_hold)]\n",
    "\n",
    "\n",
    "print(\"Wells held out for testing:\", df_holdout[\"Metadata_Well\"].unique())\n",
    "print(\n",
    "    \"Wells to use for training, validation, and testing\", df[\"Metadata_Well\"].unique()\n",
    ")"
   ]
  },
  {
   "cell_type": "code",
   "execution_count": 12,
   "id": "611978ca",
   "metadata": {
    "execution": {
     "iopub.execute_input": "2023-08-25T20:30:37.223379Z",
     "iopub.status.busy": "2023-08-25T20:30:37.223261Z",
     "iopub.status.idle": "2023-08-25T20:30:37.424296Z",
     "shell.execute_reply": "2023-08-25T20:30:37.423669Z"
    },
    "papermill": {
     "duration": 0.207042,
     "end_time": "2023-08-25T20:30:37.425478",
     "exception": false,
     "start_time": "2023-08-25T20:30:37.218436",
     "status": "completed"
    },
    "tags": []
   },
   "outputs": [],
   "source": [
    "# Code snippet for metadata extraction by Jenna Tomkinson\n",
    "df_metadata = list(df.columns[df.columns.str.contains(\"Metadata\")])\n",
    "\n",
    "# define which columns are data and which are descriptive\n",
    "df_descriptive = df[df_metadata]\n",
    "df_values = df.drop(columns=df_metadata)"
   ]
  },
  {
   "cell_type": "code",
   "execution_count": 13,
   "id": "d4f3a09a",
   "metadata": {
    "execution": {
     "iopub.execute_input": "2023-08-25T20:30:37.435308Z",
     "iopub.status.busy": "2023-08-25T20:30:37.435191Z",
     "iopub.status.idle": "2023-08-25T20:30:37.498427Z",
     "shell.execute_reply": "2023-08-25T20:30:37.498022Z"
    },
    "papermill": {
     "duration": 0.06899,
     "end_time": "2023-08-25T20:30:37.499203",
     "exception": false,
     "start_time": "2023-08-25T20:30:37.430213",
     "status": "completed"
    },
    "tags": []
   },
   "outputs": [
    {
     "name": "stdout",
     "output_type": "stream",
     "text": [
      "(7, 1432)\n",
      "(7, 1245)\n",
      "(7, 2)\n"
     ]
    }
   ],
   "source": [
    "# get all columns that contain NSU in the name\n",
    "df_values_Y = df_values[df_values.columns[df_values.columns.str.contains(\"NSU\")]]\n",
    "df_values_X = df_values.drop(columns=df_values_Y.columns)\n",
    "# drop all columns except for IL1B and TNFa\n",
    "col = [\"IL-1 beta [NSU]\"]\n",
    "df_values_Y = df_values_Y[col]\n",
    "df_values_Y[\"Metadata_Well\"] = df_descriptive[\"Metadata_Well\"]\n",
    "print(df_values.shape)\n",
    "print(df_values_X.shape)\n",
    "print(df_values_Y.shape)"
   ]
  },
  {
   "cell_type": "markdown",
   "id": "dc68dd56",
   "metadata": {
    "papermill": {
     "duration": 0.004288,
     "end_time": "2023-08-25T20:30:37.508196",
     "exception": false,
     "start_time": "2023-08-25T20:30:37.503908",
     "status": "completed"
    },
    "tags": []
   },
   "source": [
    "#### Split Data - All Models can proceed through this point"
   ]
  },
  {
   "cell_type": "code",
   "execution_count": 14,
   "id": "12157b67",
   "metadata": {
    "execution": {
     "iopub.execute_input": "2023-08-25T20:30:37.517462Z",
     "iopub.status.busy": "2023-08-25T20:30:37.517248Z",
     "iopub.status.idle": "2023-08-25T20:30:38.084323Z",
     "shell.execute_reply": "2023-08-25T20:30:38.083685Z"
    },
    "papermill": {
     "duration": 0.573003,
     "end_time": "2023-08-25T20:30:38.085455",
     "exception": false,
     "start_time": "2023-08-25T20:30:37.512452",
     "status": "completed"
    },
    "tags": []
   },
   "outputs": [],
   "source": [
    "X_train, X_test, X_val, Y_train_well, Y_test_well, Y_val_well = data_split(\n",
    "    X_vals=df_values_X,\n",
    "    y_vals=df_values_Y,\n",
    "    train_proportion=0.8,\n",
    "    val_proportion=0.1,\n",
    "    test_proportion=0.1,\n",
    "    seed=0,\n",
    "    params=mlp_params,\n",
    ")"
   ]
  },
  {
   "cell_type": "code",
   "execution_count": 15,
   "id": "75b9e896",
   "metadata": {
    "execution": {
     "iopub.execute_input": "2023-08-25T20:30:38.095305Z",
     "iopub.status.busy": "2023-08-25T20:30:38.095194Z",
     "iopub.status.idle": "2023-08-25T20:30:38.106344Z",
     "shell.execute_reply": "2023-08-25T20:30:38.105827Z"
    },
    "papermill": {
     "duration": 0.016931,
     "end_time": "2023-08-25T20:30:38.107175",
     "exception": false,
     "start_time": "2023-08-25T20:30:38.090244",
     "status": "completed"
    },
    "tags": []
   },
   "outputs": [],
   "source": [
    "Y_train = Y_train_well.drop(columns=[\"Metadata_Well\"])\n",
    "Y_test = Y_test_well.drop(columns=[\"Metadata_Well\"])\n",
    "Y_val = Y_val_well.drop(columns=[\"Metadata_Well\"])"
   ]
  },
  {
   "cell_type": "code",
   "execution_count": 16,
   "id": "3187bf2b",
   "metadata": {
    "execution": {
     "iopub.execute_input": "2023-08-25T20:30:38.116972Z",
     "iopub.status.busy": "2023-08-25T20:30:38.116648Z",
     "iopub.status.idle": "2023-08-25T20:30:38.152765Z",
     "shell.execute_reply": "2023-08-25T20:30:38.152265Z"
    },
    "papermill": {
     "duration": 0.042123,
     "end_time": "2023-08-25T20:30:38.153990",
     "exception": false,
     "start_time": "2023-08-25T20:30:38.111867",
     "status": "completed"
    },
    "tags": []
   },
   "outputs": [],
   "source": [
    "# produce data objects for train, val and test datasets\n",
    "train_data = Dataset_formatter(\n",
    "    torch.FloatTensor(X_train.values), torch.FloatTensor(Y_train.values)\n",
    ")\n",
    "val_data = Dataset_formatter(\n",
    "    torch.FloatTensor(X_val.values), torch.FloatTensor(Y_val.values)\n",
    ")\n",
    "test_data = Dataset_formatter(\n",
    "    torch.FloatTensor(X_test.values), torch.FloatTensor(Y_test.values)\n",
    ")"
   ]
  },
  {
   "cell_type": "code",
   "execution_count": 17,
   "id": "040c820c",
   "metadata": {
    "execution": {
     "iopub.execute_input": "2023-08-25T20:30:38.168091Z",
     "iopub.status.busy": "2023-08-25T20:30:38.167796Z",
     "iopub.status.idle": "2023-08-25T20:30:38.170696Z",
     "shell.execute_reply": "2023-08-25T20:30:38.170325Z"
    },
    "papermill": {
     "duration": 0.010746,
     "end_time": "2023-08-25T20:30:38.171455",
     "exception": false,
     "start_time": "2023-08-25T20:30:38.160709",
     "status": "completed"
    },
    "tags": []
   },
   "outputs": [
    {
     "name": "stdout",
     "output_type": "stream",
     "text": [
      "Number of in features:  1245\n",
      "Number of out features:  1\n"
     ]
    }
   ],
   "source": [
    "mlp_params.IN_FEATURES = X_train.shape[1]\n",
    "print(\"Number of in features: \", mlp_params.IN_FEATURES)\n",
    "if mlp_params.MODEL_TYPE == \"Regression\":\n",
    "    mlp_params.OUT_FEATURES = Y_train.shape[1]\n",
    "else:\n",
    "    mlp_params.OUT_FEATURES = len(\n",
    "        df_values[\"oneb_Metadata_Treatment_Dose_Inhibitor_Dose\"].unique()\n",
    "    )\n",
    "\n",
    "print(\"Number of out features: \", mlp_params.OUT_FEATURES)"
   ]
  },
  {
   "cell_type": "code",
   "execution_count": 18,
   "id": "e840d2d5",
   "metadata": {
    "execution": {
     "iopub.execute_input": "2023-08-25T20:30:38.185169Z",
     "iopub.status.busy": "2023-08-25T20:30:38.184826Z",
     "iopub.status.idle": "2023-08-25T20:30:38.187293Z",
     "shell.execute_reply": "2023-08-25T20:30:38.186999Z"
    },
    "papermill": {
     "duration": 0.010224,
     "end_time": "2023-08-25T20:30:38.188026",
     "exception": false,
     "start_time": "2023-08-25T20:30:38.177802",
     "status": "completed"
    },
    "tags": []
   },
   "outputs": [],
   "source": [
    "# convert data class into a dataloader to be compatible with pytorch\n",
    "train_loader = torch.utils.data.DataLoader(\n",
    "    dataset=train_data, batch_size=mlp_params.BATCH_SIZE\n",
    ")\n",
    "valid_loader = torch.utils.data.DataLoader(\n",
    "    dataset=val_data, batch_size=mlp_params.BATCH_SIZE\n",
    ")\n",
    "test_loader = torch.utils.data.DataLoader(dataset=test_data, batch_size=1)"
   ]
  },
  {
   "cell_type": "markdown",
   "id": "eca8a6ae",
   "metadata": {
    "papermill": {
     "duration": 0.006524,
     "end_time": "2023-08-25T20:30:38.201196",
     "exception": false,
     "start_time": "2023-08-25T20:30:38.194672",
     "status": "completed"
    },
    "tags": []
   },
   "source": [
    "### Train the Model"
   ]
  },
  {
   "cell_type": "code",
   "execution_count": 19,
   "id": "25b0a8b1",
   "metadata": {
    "execution": {
     "iopub.execute_input": "2023-08-25T20:30:38.215117Z",
     "iopub.status.busy": "2023-08-25T20:30:38.214988Z",
     "iopub.status.idle": "2023-08-25T20:31:05.175641Z",
     "shell.execute_reply": "2023-08-25T20:31:05.175273Z"
    },
    "papermill": {
     "duration": 26.968698,
     "end_time": "2023-08-25T20:31:05.176492",
     "exception": false,
     "start_time": "2023-08-25T20:30:38.207794",
     "status": "completed"
    },
    "tags": []
   },
   "outputs": [
    {
     "name": "stdout",
     "output_type": "stream",
     "text": [
      "RMSprop\n",
      "Epoch 0: Validation loss decreased (inf --> 0.000433).  Saving model ...\n",
      "Epoch 1: Validation loss decreased (0.000433 --> 0.000413).  Saving model ...\n",
      "Epoch 2: Validation loss decreased (0.000413 --> 0.000413).  Saving model ...\n",
      "Epoch 3: Validation loss did not decrease\n",
      "Epoch 4: Validation loss did not decrease\n",
      "Epoch 5: Validation loss did not decrease\n",
      "Epoch 6: Validation loss did not decrease\n",
      "Epoch 7: Validation loss did not decrease\n",
      "Epoch 8: Validation loss did not decrease\n",
      "Epoch 9: Validation loss did not decrease\n",
      "Epoch 10: Validation loss did not decrease\n",
      "Epoch 11: Validation loss did not decrease\n",
      "Epoch 12: Validation loss did not decrease\n",
      "Epoch 13: Validation loss did not decrease\n",
      "Epoch 14: Validation loss did not decrease\n",
      "Epoch 15: Validation loss did not decrease\n",
      "Epoch 16: Validation loss did not decrease\n",
      "Epoch 17: Validation loss did not decrease\n",
      "Epoch 18: Validation loss did not decrease\n",
      "Early stopped at epoch : 18\n"
     ]
    },
    {
     "name": "stderr",
     "output_type": "stream",
     "text": [
      "/home/lippincm/miniconda3/envs/Interstellar/lib/python3.10/site-packages/torch/nn/modules/loss.py:536: UserWarning: Using a target size (torch.Size([1, 1, 1])) that is different to the input size (torch.Size([1, 1])). This will likely lead to incorrect results due to broadcasting. Please ensure they have the same size.\n",
      "  return F.mse_loss(input, target, reduction=self.reduction)\n"
     ]
    }
   ],
   "source": [
    "# call the optimized training model\n",
    "train_loss, train_acc, valid_loss, valid_acc, epochs_ran, model = train_optimized_model(\n",
    "    mlp_params.TRAIN_EPOCHS,\n",
    "    train_loader,\n",
    "    valid_loader,\n",
    "    mlp_params,\n",
    "    mlp_params.MODEL_NAME,\n",
    ")\n",
    "# get training_metrics\n",
    "if params.MODEL_TYPE == \"Regression\":\n",
    "    training_stats = pd.DataFrame(\n",
    "        zip(train_loss, valid_loss, epochs_ran),\n",
    "        columns=[\"train_loss\", \"valid_loss\", \"epochs_ran\"],\n",
    "    )\n",
    "else:\n",
    "    training_stats = pd.DataFrame(\n",
    "        zip(train_loss, train_acc, valid_loss, valid_acc, epochs_ran),\n",
    "        columns=[\"train_loss\", \"train_acc\", \"valid_loss\", \"valid_acc\", \"epochs_ran\"],\n",
    "    )"
   ]
  },
  {
   "cell_type": "code",
   "execution_count": 20,
   "id": "5198f1d5",
   "metadata": {},
   "outputs": [
    {
     "data": {
      "text/plain": [
       "Sequential(\n",
       "  (0): Linear(in_features=1245, out_features=3, bias=True)\n",
       "  (1): ReLU()\n",
       "  (2): Dropout(p=0.40985422083877227, inplace=False)\n",
       "  (3): Linear(in_features=3, out_features=2, bias=True)\n",
       "  (4): ReLU()\n",
       "  (5): Dropout(p=0.1943899612624775, inplace=False)\n",
       "  (6): Linear(in_features=2, out_features=1, bias=True)\n",
       ")"
      ]
     },
     "execution_count": 20,
     "metadata": {},
     "output_type": "execute_result"
    }
   ],
   "source": [
    "model"
   ]
  },
  {
   "cell_type": "code",
   "execution_count": 21,
   "id": "b74e0df9",
   "metadata": {
    "execution": {
     "iopub.execute_input": "2023-08-25T20:31:05.199453Z",
     "iopub.status.busy": "2023-08-25T20:31:05.199319Z",
     "iopub.status.idle": "2023-08-25T20:31:05.201432Z",
     "shell.execute_reply": "2023-08-25T20:31:05.201186Z"
    },
    "papermill": {
     "duration": 0.014269,
     "end_time": "2023-08-25T20:31:05.201988",
     "exception": false,
     "start_time": "2023-08-25T20:31:05.187719",
     "status": "completed"
    },
    "tags": []
   },
   "outputs": [],
   "source": [
    "if params.MODEL_TYPE == \"Regression\":\n",
    "    pass\n",
    "else:\n",
    "    plot_metric_vs_epoch(\n",
    "        training_stats,\n",
    "        x=\"epochs_ran\",\n",
    "        y1=\"train_acc\",\n",
    "        y2=\"valid_acc\",\n",
    "        title=\"Accuracy vs. Epochs\",\n",
    "        x_axis_label=\"Epochs\",\n",
    "        y_axis_label=\"Accuracy\",\n",
    "        params=params,\n",
    "        model_name=params.MODEL_NAME,\n",
    "    )"
   ]
  },
  {
   "cell_type": "code",
   "execution_count": 22,
   "id": "f96fcb55",
   "metadata": {
    "execution": {
     "iopub.execute_input": "2023-08-25T20:31:05.215395Z",
     "iopub.status.busy": "2023-08-25T20:31:05.215167Z",
     "iopub.status.idle": "2023-08-25T20:31:05.388755Z",
     "shell.execute_reply": "2023-08-25T20:31:05.388428Z"
    },
    "papermill": {
     "duration": 0.181122,
     "end_time": "2023-08-25T20:31:05.389514",
     "exception": false,
     "start_time": "2023-08-25T20:31:05.208392",
     "status": "completed"
    },
    "tags": []
   },
   "outputs": [
    {
     "name": "stderr",
     "output_type": "stream",
     "text": [
      "/home/lippincm/Documents/ML/Interstellar_Analysis/4.sc_Morphology_Neural_Network_MLP_Model/1.model_training/notebooks/../../MLP_utils/utils.py:1001: UserWarning: Ignoring `palette` because no `hue` variable has been assigned.\n",
      "  sns.lineplot(x=df[x], y=df[y1], palette=\"blue\", label=\"Train\")\n",
      "/home/lippincm/Documents/ML/Interstellar_Analysis/4.sc_Morphology_Neural_Network_MLP_Model/1.model_training/notebooks/../../MLP_utils/utils.py:1002: UserWarning: Ignoring `palette` because no `hue` variable has been assigned.\n",
      "  sns.lineplot(x=df[x], y=df[y2], palette=\"orange\", label=\"Validation\")\n"
     ]
    },
    {
     "data": {
      "image/png": "[encoded data removed]",
      "text/plain": [
       "<Figure size 640x480 with 1 Axes>"
      ]
     },
     "metadata": {},
     "output_type": "display_data"
    }
   ],
   "source": [
    "plot_metric_vs_epoch(\n",
    "    training_stats,\n",
    "    x=\"epochs_ran\",\n",
    "    y1=\"train_loss\",\n",
    "    y2=\"valid_loss\",\n",
    "    title=\"Loss vs. Epochs\",\n",
    "    x_axis_label=\"Epochs\",\n",
    "    y_axis_label=\"Loss\",\n",
    "    params=params,\n",
    "    model_name=params.MODEL_NAME,\n",
    ")"
   ]
  },
  {
   "cell_type": "markdown",
   "id": "0bf1c099",
   "metadata": {
    "papermill": {
     "duration": 0.007425,
     "end_time": "2023-08-25T20:31:05.408960",
     "exception": false,
     "start_time": "2023-08-25T20:31:05.401535",
     "status": "completed"
    },
    "tags": []
   },
   "source": [
    "### Test the trained model with train data"
   ]
  },
  {
   "cell_type": "code",
   "execution_count": 23,
   "id": "e899aaac",
   "metadata": {
    "execution": {
     "iopub.execute_input": "2023-08-25T20:31:05.423058Z",
     "iopub.status.busy": "2023-08-25T20:31:05.422819Z",
     "iopub.status.idle": "2023-08-25T20:31:05.825150Z",
     "shell.execute_reply": "2023-08-25T20:31:05.824776Z"
    },
    "papermill": {
     "duration": 0.410418,
     "end_time": "2023-08-25T20:31:05.826017",
     "exception": false,
     "start_time": "2023-08-25T20:31:05.415599",
     "status": "completed"
    },
    "tags": []
   },
   "outputs": [
    {
     "name": "stdout",
     "output_type": "stream",
     "text": [
      "DMSO_0.025_vs_LPS_100\n"
     ]
    }
   ],
   "source": [
    "# calling the testing function and outputting list values of tested model\n",
    "if params.MODEL_TYPE == \"Multi_Class\" or params.MODEL_TYPE == \"Regression\":\n",
    "    y_pred_list = test_optimized_model(\n",
    "        model, train_loader, params, model_name=params.MODEL_NAME\n",
    "    )\n",
    "elif params.MODEL_TYPE == \"Binary_Classification\":\n",
    "    y_pred_list, y_pred_prob_list = test_optimized_model(\n",
    "        model, train_loader, params, model_name=params.MODEL_NAME\n",
    "    )\n",
    "else:\n",
    "    raise Exception(\"Model type must be specified for proper model testing\")\n",
    "\n",
    "\n",
    "# un-nest list if nested i.e. length of input data does not match length of output data\n",
    "if len(y_pred_list) != len(Y_train):\n",
    "    print(\"yes\")\n",
    "    if mlp_params.MODEL_TYPE != \"Regression\":\n",
    "        y_pred_prob_list = un_nest(y_pred_prob_list)\n",
    "    else:\n",
    "        y_pred_list = un_nest(y_pred_list)\n",
    "else:\n",
    "    pass"
   ]
  },
  {
   "cell_type": "code",
   "execution_count": 24,
   "id": "e37b42dc",
   "metadata": {
    "execution": {
     "iopub.execute_input": "2023-08-25T20:31:05.849496Z",
     "iopub.status.busy": "2023-08-25T20:31:05.849346Z",
     "iopub.status.idle": "2023-08-25T20:31:06.158159Z",
     "shell.execute_reply": "2023-08-25T20:31:06.157862Z"
    },
    "papermill": {
     "duration": 0.321409,
     "end_time": "2023-08-25T20:31:06.158943",
     "exception": false,
     "start_time": "2023-08-25T20:31:05.837534",
     "status": "completed"
    },
    "tags": []
   },
   "outputs": [
    {
     "data": {
      "text/html": [
       "<div>\n",
       "<style scoped>\n",
       "    .dataframe tbody tr th:only-of-type {\n",
       "        vertical-align: middle;\n",
       "    }\n",
       "\n",
       "    .dataframe tbody tr th {\n",
       "        vertical-align: top;\n",
       "    }\n",
       "\n",
       "    .dataframe thead th {\n",
       "        text-align: right;\n",
       "    }\n",
       "</style>\n",
       "<table border=\"1\" class=\"dataframe\">\n",
       "  <thead>\n",
       "    <tr style=\"text-align: right;\">\n",
       "      <th></th>\n",
       "      <th>IL-1 beta [NSU]</th>\n",
       "      <th>Metadata_Well</th>\n",
       "    </tr>\n",
       "  </thead>\n",
       "  <tbody>\n",
       "    <tr>\n",
       "      <th>0</th>\n",
       "      <td>0.018317</td>\n",
       "      <td>C07</td>\n",
       "    </tr>\n",
       "    <tr>\n",
       "      <th>1</th>\n",
       "      <td>0.018317</td>\n",
       "      <td>B07</td>\n",
       "    </tr>\n",
       "    <tr>\n",
       "      <th>2</th>\n",
       "      <td>0.018317</td>\n",
       "      <td>B06</td>\n",
       "    </tr>\n",
       "    <tr>\n",
       "      <th>3</th>\n",
       "      <td>0.018317</td>\n",
       "      <td>C06</td>\n",
       "    </tr>\n",
       "    <tr>\n",
       "      <th>4</th>\n",
       "      <td>0.018317</td>\n",
       "      <td>J06</td>\n",
       "    </tr>\n",
       "  </tbody>\n",
       "</table>\n",
       "</div>"
      ],
      "text/plain": [
       "   IL-1 beta [NSU] Metadata_Well\n",
       "0         0.018317           C07\n",
       "1         0.018317           B07\n",
       "2         0.018317           B06\n",
       "3         0.018317           C06\n",
       "4         0.018317           J06"
      ]
     },
     "execution_count": 24,
     "metadata": {},
     "output_type": "execute_result"
    }
   ],
   "source": [
    "# make the prediction list into a dataframe using column names from the test data\n",
    "prediction_df = pd.DataFrame(y_pred_list, columns=Y_train.columns, index=Y_train.index)\n",
    "prediction_df[\"Metadata_Well\"] = Y_train_well[\"Metadata_Well\"]\n",
    "prediction_df[\"Metadata_Well\"].unique()\n",
    "prediction_df.head()"
   ]
  },
  {
   "cell_type": "code",
   "execution_count": 25,
   "id": "8042564b",
   "metadata": {},
   "outputs": [
    {
     "data": {
      "text/plain": [
       "[0.01831691339612007,\n",
       " 0.01831691339612007,\n",
       " 0.01831691339612007,\n",
       " 0.01831691339612007,\n",
       " 0.01831691339612007]"
      ]
     },
     "execution_count": 25,
     "metadata": {},
     "output_type": "execute_result"
    }
   ],
   "source": [
    "y_pred_list"
   ]
  },
  {
   "cell_type": "code",
   "execution_count": 26,
   "id": "89f1a56e",
   "metadata": {},
   "outputs": [
    {
     "data": {
      "text/html": [
       "<div>\n",
       "<style scoped>\n",
       "    .dataframe tbody tr th:only-of-type {\n",
       "        vertical-align: middle;\n",
       "    }\n",
       "\n",
       "    .dataframe tbody tr th {\n",
       "        vertical-align: top;\n",
       "    }\n",
       "\n",
       "    .dataframe thead th {\n",
       "        text-align: right;\n",
       "    }\n",
       "</style>\n",
       "<table border=\"1\" class=\"dataframe\">\n",
       "  <thead>\n",
       "    <tr style=\"text-align: right;\">\n",
       "      <th></th>\n",
       "      <th>IL-1 beta [NSU]</th>\n",
       "    </tr>\n",
       "  </thead>\n",
       "  <tbody>\n",
       "    <tr>\n",
       "      <th>0</th>\n",
       "      <td>0.028148</td>\n",
       "    </tr>\n",
       "    <tr>\n",
       "      <th>1</th>\n",
       "      <td>0.040659</td>\n",
       "    </tr>\n",
       "    <tr>\n",
       "      <th>2</th>\n",
       "      <td>0.018241</td>\n",
       "    </tr>\n",
       "    <tr>\n",
       "      <th>3</th>\n",
       "      <td>0.030450</td>\n",
       "    </tr>\n",
       "    <tr>\n",
       "      <th>4</th>\n",
       "      <td>0.021020</td>\n",
       "    </tr>\n",
       "  </tbody>\n",
       "</table>\n",
       "</div>"
      ],
      "text/plain": [
       "   IL-1 beta [NSU]\n",
       "0         0.028148\n",
       "1         0.040659\n",
       "2         0.018241\n",
       "3         0.030450\n",
       "4         0.021020"
      ]
     },
     "execution_count": 26,
     "metadata": {},
     "output_type": "execute_result"
    }
   ],
   "source": [
    "Y_train"
   ]
  },
  {
   "cell_type": "code",
   "execution_count": 27,
   "id": "6eab78f6",
   "metadata": {
    "execution": {
     "iopub.execute_input": "2023-08-25T20:31:06.182757Z",
     "iopub.status.busy": "2023-08-25T20:31:06.182612Z",
     "iopub.status.idle": "2023-08-25T20:31:06.185003Z",
     "shell.execute_reply": "2023-08-25T20:31:06.184760Z"
    },
    "papermill": {
     "duration": 0.015255,
     "end_time": "2023-08-25T20:31:06.185684",
     "exception": false,
     "start_time": "2023-08-25T20:31:06.170429",
     "status": "completed"
    },
    "tags": []
   },
   "outputs": [],
   "source": [
    "testing_values = pd.DataFrame(columns=[\"Actual\", \"Average Predicted\", \"cytokine\"])"
   ]
  },
  {
   "cell_type": "code",
   "execution_count": 28,
   "id": "f8ecb7e8",
   "metadata": {
    "execution": {
     "iopub.execute_input": "2023-08-25T20:31:06.209433Z",
     "iopub.status.busy": "2023-08-25T20:31:06.209139Z",
     "iopub.status.idle": "2023-08-25T20:31:14.230376Z",
     "shell.execute_reply": "2023-08-25T20:31:14.229984Z"
    },
    "papermill": {
     "duration": 8.034322,
     "end_time": "2023-08-25T20:31:14.231387",
     "exception": false,
     "start_time": "2023-08-25T20:31:06.197065",
     "status": "completed"
    },
    "tags": []
   },
   "outputs": [],
   "source": [
    "from sklearn.metrics import mean_squared_error, r2_score\n",
    "\n",
    "# get the list of columns in the test data\n",
    "test_data_columns = Y_train.columns.to_list()\n",
    "# loop through the columns\n",
    "for col in Y_train:\n",
    "    # get the column from test data\n",
    "    test_col = Y_train[col]\n",
    "    # get the column from prediction data\n",
    "    pred_col = prediction_df[col]\n",
    "    # list of treatment names\n",
    "    treatment_col = prediction_df[\"Metadata_Well\"]\n",
    "    # get the mse and r2 for the columns\n",
    "    # mse = mean_squared_error(test_col, pred_col)\n",
    "    # r_square = r2_score(test_col, pred_col)\n",
    "    # a, b = np.polyfit(test_col, pred_col, 1)\n",
    "    index_dict = {}\n",
    "    for i in test_col.unique():\n",
    "        index_list = []\n",
    "        for j in enumerate(test_col):\n",
    "            if i == j[1]:\n",
    "                index_list.append(j[0])\n",
    "        index_dict[i] = index_list\n",
    "    new_value_dict = {}\n",
    "    for i in index_dict:\n",
    "        new_value_dict[i] = [\n",
    "            pred_col[index_dict[i]].median(),\n",
    "            treatment_col[index_dict[i]].unique().tolist()[0],\n",
    "        ]\n",
    "\n",
    "    df = (\n",
    "        pd.DataFrame.from_dict(new_value_dict, orient=\"index\")\n",
    "        .reset_index()\n",
    "        .rename(columns={\"index\": \"Actual\", 0: \"Average Predicted\", 1: \"Metadata_Well\"})\n",
    "    )\n",
    "    df[\"cytokine\"] = col\n",
    "    df[\"model_type\"] = \"train\"\n",
    "    df[\"shuffled_data\"] = mlp_params.SHUFFLE\n",
    "\n",
    "    testing_values = pd.concat([testing_values, df], axis=0)\n",
    "    # plt.scatter(df['Actual'], df['Average Predicted'])\n",
    "    # # plt.plot([min(test_col), max(test_col)], [min(test_col), max(test_col)], color='red', linestyle='--')\n",
    "    # plt.plot(\n",
    "    #     test_col,\n",
    "    #     a * test_col + b,\n",
    "    #     color=\"red\",\n",
    "    #     label=\"R2={0:0.2f}\".format(r_square),\n",
    "    # )\n",
    "    # plt.title(\n",
    "    #     f\"Regression Nerual Network Prediction vs. True \\n {col}\", fontsize=25\n",
    "    # )\n",
    "    # plt.ylabel(\"Predicted\", fontsize=18)\n",
    "    # plt.xlabel(\"Target\", fontsize=18)\n",
    "    # # make data continuous\n",
    "    # plt.show()\n",
    "    # plt.close()"
   ]
  },
  {
   "cell_type": "code",
   "execution_count": 29,
   "id": "89440779",
   "metadata": {
    "execution": {
     "iopub.execute_input": "2023-08-25T20:31:14.255469Z",
     "iopub.status.busy": "2023-08-25T20:31:14.255335Z",
     "iopub.status.idle": "2023-08-25T20:31:14.261767Z",
     "shell.execute_reply": "2023-08-25T20:31:14.261514Z"
    },
    "papermill": {
     "duration": 0.019098,
     "end_time": "2023-08-25T20:31:14.262376",
     "exception": false,
     "start_time": "2023-08-25T20:31:14.243278",
     "status": "completed"
    },
    "tags": []
   },
   "outputs": [
    {
     "data": {
      "text/html": [
       "<div>\n",
       "<style scoped>\n",
       "    .dataframe tbody tr th:only-of-type {\n",
       "        vertical-align: middle;\n",
       "    }\n",
       "\n",
       "    .dataframe tbody tr th {\n",
       "        vertical-align: top;\n",
       "    }\n",
       "\n",
       "    .dataframe thead th {\n",
       "        text-align: right;\n",
       "    }\n",
       "</style>\n",
       "<table border=\"1\" class=\"dataframe\">\n",
       "  <thead>\n",
       "    <tr style=\"text-align: right;\">\n",
       "      <th></th>\n",
       "      <th>Metadata_Well</th>\n",
       "      <th>oneb_Metadata_Treatment_Dose_Inhibitor_Dose</th>\n",
       "    </tr>\n",
       "  </thead>\n",
       "  <tbody>\n",
       "    <tr>\n",
       "      <th>0</th>\n",
       "      <td>B06</td>\n",
       "      <td>DMSO_0.100_DMSO_0.025</td>\n",
       "    </tr>\n",
       "    <tr>\n",
       "      <th>1</th>\n",
       "      <td>B07</td>\n",
       "      <td>DMSO_0.100_DMSO_0.025</td>\n",
       "    </tr>\n",
       "    <tr>\n",
       "      <th>2</th>\n",
       "      <td>C06</td>\n",
       "      <td>DMSO_0.100_DMSO_0.025</td>\n",
       "    </tr>\n",
       "    <tr>\n",
       "      <th>3</th>\n",
       "      <td>C07</td>\n",
       "      <td>DMSO_0.100_DMSO_0.025</td>\n",
       "    </tr>\n",
       "    <tr>\n",
       "      <th>5</th>\n",
       "      <td>I07</td>\n",
       "      <td>DMSO_0.100_DMSO_0.025</td>\n",
       "    </tr>\n",
       "    <tr>\n",
       "      <th>8</th>\n",
       "      <td>J06</td>\n",
       "      <td>DMSO_0.100_DMSO_0.025</td>\n",
       "    </tr>\n",
       "    <tr>\n",
       "      <th>9</th>\n",
       "      <td>J07</td>\n",
       "      <td>DMSO_0.100_DMSO_0.025</td>\n",
       "    </tr>\n",
       "  </tbody>\n",
       "</table>\n",
       "</div>"
      ],
      "text/plain": [
       "  Metadata_Well oneb_Metadata_Treatment_Dose_Inhibitor_Dose\n",
       "0           B06                       DMSO_0.100_DMSO_0.025\n",
       "1           B07                       DMSO_0.100_DMSO_0.025\n",
       "2           C06                       DMSO_0.100_DMSO_0.025\n",
       "3           C07                       DMSO_0.100_DMSO_0.025\n",
       "5           I07                       DMSO_0.100_DMSO_0.025\n",
       "8           J06                       DMSO_0.100_DMSO_0.025\n",
       "9           J07                       DMSO_0.100_DMSO_0.025"
      ]
     },
     "execution_count": 29,
     "metadata": {},
     "output_type": "execute_result"
    }
   ],
   "source": [
    "# get the unique rows in a dataframe\n",
    "key_df = df_descriptive[\n",
    "    [\"Metadata_Well\", \"oneb_Metadata_Treatment_Dose_Inhibitor_Dose\"]\n",
    "].drop_duplicates()\n",
    "key_df"
   ]
  },
  {
   "cell_type": "code",
   "execution_count": 30,
   "id": "39d1c3cf",
   "metadata": {
    "execution": {
     "iopub.execute_input": "2023-08-25T20:31:14.276640Z",
     "iopub.status.busy": "2023-08-25T20:31:14.276520Z",
     "iopub.status.idle": "2023-08-25T20:31:14.279392Z",
     "shell.execute_reply": "2023-08-25T20:31:14.279145Z"
    },
    "papermill": {
     "duration": 0.010774,
     "end_time": "2023-08-25T20:31:14.279979",
     "exception": false,
     "start_time": "2023-08-25T20:31:14.269205",
     "status": "completed"
    },
    "tags": []
   },
   "outputs": [],
   "source": [
    "# add treatment column based on well\n",
    "testing_values = pd.merge(testing_values, key_df, on=\"Metadata_Well\", how=\"left\")"
   ]
  },
  {
   "cell_type": "code",
   "execution_count": 31,
   "id": "227e3035",
   "metadata": {
    "execution": {
     "iopub.execute_input": "2023-08-25T20:31:14.294429Z",
     "iopub.status.busy": "2023-08-25T20:31:14.294210Z",
     "iopub.status.idle": "2023-08-25T20:31:14.299521Z",
     "shell.execute_reply": "2023-08-25T20:31:14.299282Z"
    },
    "papermill": {
     "duration": 0.013169,
     "end_time": "2023-08-25T20:31:14.300102",
     "exception": false,
     "start_time": "2023-08-25T20:31:14.286933",
     "status": "completed"
    },
    "tags": []
   },
   "outputs": [
    {
     "data": {
      "text/html": [
       "<div>\n",
       "<style scoped>\n",
       "    .dataframe tbody tr th:only-of-type {\n",
       "        vertical-align: middle;\n",
       "    }\n",
       "\n",
       "    .dataframe tbody tr th {\n",
       "        vertical-align: top;\n",
       "    }\n",
       "\n",
       "    .dataframe thead th {\n",
       "        text-align: right;\n",
       "    }\n",
       "</style>\n",
       "<table border=\"1\" class=\"dataframe\">\n",
       "  <thead>\n",
       "    <tr style=\"text-align: right;\">\n",
       "      <th></th>\n",
       "      <th>Actual</th>\n",
       "      <th>Average Predicted</th>\n",
       "      <th>cytokine</th>\n",
       "      <th>Metadata_Well</th>\n",
       "      <th>model_type</th>\n",
       "      <th>shuffled_data</th>\n",
       "      <th>oneb_Metadata_Treatment_Dose_Inhibitor_Dose</th>\n",
       "    </tr>\n",
       "  </thead>\n",
       "  <tbody>\n",
       "    <tr>\n",
       "      <th>0</th>\n",
       "      <td>0.028148</td>\n",
       "      <td>0.018317</td>\n",
       "      <td>IL-1 beta [NSU]</td>\n",
       "      <td>C07</td>\n",
       "      <td>train</td>\n",
       "      <td>False</td>\n",
       "      <td>DMSO_0.100_DMSO_0.025</td>\n",
       "    </tr>\n",
       "    <tr>\n",
       "      <th>1</th>\n",
       "      <td>0.040659</td>\n",
       "      <td>0.018317</td>\n",
       "      <td>IL-1 beta [NSU]</td>\n",
       "      <td>B07</td>\n",
       "      <td>train</td>\n",
       "      <td>False</td>\n",
       "      <td>DMSO_0.100_DMSO_0.025</td>\n",
       "    </tr>\n",
       "    <tr>\n",
       "      <th>2</th>\n",
       "      <td>0.018241</td>\n",
       "      <td>0.018317</td>\n",
       "      <td>IL-1 beta [NSU]</td>\n",
       "      <td>B06</td>\n",
       "      <td>train</td>\n",
       "      <td>False</td>\n",
       "      <td>DMSO_0.100_DMSO_0.025</td>\n",
       "    </tr>\n",
       "    <tr>\n",
       "      <th>3</th>\n",
       "      <td>0.030450</td>\n",
       "      <td>0.018317</td>\n",
       "      <td>IL-1 beta [NSU]</td>\n",
       "      <td>C06</td>\n",
       "      <td>train</td>\n",
       "      <td>False</td>\n",
       "      <td>DMSO_0.100_DMSO_0.025</td>\n",
       "    </tr>\n",
       "    <tr>\n",
       "      <th>4</th>\n",
       "      <td>0.021020</td>\n",
       "      <td>0.018317</td>\n",
       "      <td>IL-1 beta [NSU]</td>\n",
       "      <td>J06</td>\n",
       "      <td>train</td>\n",
       "      <td>False</td>\n",
       "      <td>DMSO_0.100_DMSO_0.025</td>\n",
       "    </tr>\n",
       "  </tbody>\n",
       "</table>\n",
       "</div>"
      ],
      "text/plain": [
       "     Actual  Average Predicted         cytokine Metadata_Well model_type  \\\n",
       "0  0.028148           0.018317  IL-1 beta [NSU]           C07      train   \n",
       "1  0.040659           0.018317  IL-1 beta [NSU]           B07      train   \n",
       "2  0.018241           0.018317  IL-1 beta [NSU]           B06      train   \n",
       "3  0.030450           0.018317  IL-1 beta [NSU]           C06      train   \n",
       "4  0.021020           0.018317  IL-1 beta [NSU]           J06      train   \n",
       "\n",
       "  shuffled_data oneb_Metadata_Treatment_Dose_Inhibitor_Dose  \n",
       "0         False                       DMSO_0.100_DMSO_0.025  \n",
       "1         False                       DMSO_0.100_DMSO_0.025  \n",
       "2         False                       DMSO_0.100_DMSO_0.025  \n",
       "3         False                       DMSO_0.100_DMSO_0.025  \n",
       "4         False                       DMSO_0.100_DMSO_0.025  "
      ]
     },
     "execution_count": 31,
     "metadata": {},
     "output_type": "execute_result"
    }
   ],
   "source": [
    "testing_values"
   ]
  },
  {
   "cell_type": "markdown",
   "id": "d1a18fec",
   "metadata": {
    "papermill": {
     "duration": 0.007034,
     "end_time": "2023-08-25T20:31:14.328312",
     "exception": false,
     "start_time": "2023-08-25T20:31:14.321278",
     "status": "completed"
    },
    "tags": []
   },
   "source": [
    "### Test the trained model with validation data"
   ]
  },
  {
   "cell_type": "code",
   "execution_count": 32,
   "id": "38447701",
   "metadata": {
    "execution": {
     "iopub.execute_input": "2023-08-25T20:31:14.343094Z",
     "iopub.status.busy": "2023-08-25T20:31:14.342865Z",
     "iopub.status.idle": "2023-08-25T20:31:14.421232Z",
     "shell.execute_reply": "2023-08-25T20:31:14.420855Z"
    },
    "papermill": {
     "duration": 0.086545,
     "end_time": "2023-08-25T20:31:14.421963",
     "exception": false,
     "start_time": "2023-08-25T20:31:14.335418",
     "status": "completed"
    },
    "tags": []
   },
   "outputs": [
    {
     "name": "stdout",
     "output_type": "stream",
     "text": [
      "DMSO_0.025_vs_LPS_100\n"
     ]
    }
   ],
   "source": [
    "# calling the testing function and outputting list values of tested model\n",
    "if params.MODEL_TYPE == \"Multi_Class\" or params.MODEL_TYPE == \"Regression\":\n",
    "    y_pred_list = test_optimized_model(\n",
    "        model, valid_loader, params, model_name=params.MODEL_NAME\n",
    "    )\n",
    "elif params.MODEL_TYPE == \"Binary_Classification\":\n",
    "    y_pred_list, y_pred_prob_list = test_optimized_model(\n",
    "        model, valid_loader, params, model_name=params.MODEL_NAME\n",
    "    )\n",
    "else:\n",
    "    raise Exception(\"Model type must be specified for proper model testing\")\n",
    "\n",
    "\n",
    "# un-nest list if nested i.e. length of input data does not match length of output data\n",
    "if len(y_pred_list) != len(Y_val):\n",
    "    print(\"yes\")\n",
    "    if mlp_params.MODEL_TYPE != \"Regression\":\n",
    "        y_pred_prob_list = un_nest(y_pred_prob_list)\n",
    "    else:\n",
    "        y_pred_list = un_nest(y_pred_list)\n",
    "else:\n",
    "    pass"
   ]
  },
  {
   "cell_type": "code",
   "execution_count": 33,
   "id": "4f5c2ebc",
   "metadata": {
    "execution": {
     "iopub.execute_input": "2023-08-25T20:31:14.437633Z",
     "iopub.status.busy": "2023-08-25T20:31:14.437492Z",
     "iopub.status.idle": "2023-08-25T20:31:14.478504Z",
     "shell.execute_reply": "2023-08-25T20:31:14.478198Z"
    },
    "papermill": {
     "duration": 0.049724,
     "end_time": "2023-08-25T20:31:14.479289",
     "exception": false,
     "start_time": "2023-08-25T20:31:14.429565",
     "status": "completed"
    },
    "tags": []
   },
   "outputs": [
    {
     "data": {
      "text/html": [
       "<div>\n",
       "<style scoped>\n",
       "    .dataframe tbody tr th:only-of-type {\n",
       "        vertical-align: middle;\n",
       "    }\n",
       "\n",
       "    .dataframe tbody tr th {\n",
       "        vertical-align: top;\n",
       "    }\n",
       "\n",
       "    .dataframe thead th {\n",
       "        text-align: right;\n",
       "    }\n",
       "</style>\n",
       "<table border=\"1\" class=\"dataframe\">\n",
       "  <thead>\n",
       "    <tr style=\"text-align: right;\">\n",
       "      <th></th>\n",
       "      <th>IL-1 beta [NSU]</th>\n",
       "      <th>Metadata_Well</th>\n",
       "    </tr>\n",
       "  </thead>\n",
       "  <tbody>\n",
       "    <tr>\n",
       "      <th>0</th>\n",
       "      <td>0.018317</td>\n",
       "      <td>J07</td>\n",
       "    </tr>\n",
       "  </tbody>\n",
       "</table>\n",
       "</div>"
      ],
      "text/plain": [
       "   IL-1 beta [NSU] Metadata_Well\n",
       "0         0.018317           J07"
      ]
     },
     "execution_count": 33,
     "metadata": {},
     "output_type": "execute_result"
    }
   ],
   "source": [
    "# make the prediction list into a dataframe using column names from the test data\n",
    "prediction_df = pd.DataFrame(y_pred_list, columns=Y_val.columns, index=Y_val.index)\n",
    "prediction_df[\"Metadata_Well\"] = Y_val_well[\"Metadata_Well\"]\n",
    "prediction_df[\"Metadata_Well\"].unique()\n",
    "prediction_df.head()"
   ]
  },
  {
   "cell_type": "code",
   "execution_count": 34,
   "id": "de7e8517",
   "metadata": {
    "execution": {
     "iopub.execute_input": "2023-08-25T20:31:14.526574Z",
     "iopub.status.busy": "2023-08-25T20:31:14.526456Z",
     "iopub.status.idle": "2023-08-25T20:31:16.472117Z",
     "shell.execute_reply": "2023-08-25T20:31:16.471723Z"
    },
    "papermill": {
     "duration": 1.954524,
     "end_time": "2023-08-25T20:31:16.473421",
     "exception": false,
     "start_time": "2023-08-25T20:31:14.518897",
     "status": "completed"
    },
    "tags": []
   },
   "outputs": [],
   "source": [
    "from sklearn.metrics import mean_squared_error, r2_score\n",
    "\n",
    "# get the list of columns in the test data\n",
    "test_data_columns = Y_val.columns.to_list()\n",
    "# loop through the columns\n",
    "for col in Y_val:\n",
    "    # get the column from test data\n",
    "    test_col = Y_val[col]\n",
    "    # get the column from prediction data\n",
    "    pred_col = prediction_df[col]\n",
    "    # list of treatment names\n",
    "    treatment_col = prediction_df[\"Metadata_Well\"]\n",
    "    # get the mse and r2 for the columns\n",
    "    # mse = mean_squared_error(test_col, pred_col)\n",
    "    # r_square = r2_score(test_col, pred_col)\n",
    "    # a, b = np.polyfit(test_col, pred_col, 1)\n",
    "    index_dict = {}\n",
    "    for i in test_col.unique():\n",
    "        index_list = []\n",
    "        for j in enumerate(test_col):\n",
    "            if i == j[1]:\n",
    "                index_list.append(j[0])\n",
    "        index_dict[i] = index_list\n",
    "    new_value_dict = {}\n",
    "    for i in index_dict:\n",
    "        new_value_dict[i] = [\n",
    "            pred_col[index_dict[i]].median(),\n",
    "            treatment_col[index_dict[i]].unique().tolist()[0],\n",
    "        ]\n",
    "\n",
    "    df = (\n",
    "        pd.DataFrame.from_dict(new_value_dict, orient=\"index\")\n",
    "        .reset_index()\n",
    "        .rename(columns={\"index\": \"Actual\", 0: \"Average Predicted\", 1: \"Metadata_Well\"})\n",
    "    )\n",
    "    df[\"cytokine\"] = col\n",
    "    df[\"model_type\"] = \"validation\"\n",
    "    df[\"shuffled_data\"] = mlp_params.SHUFFLE\n",
    "\n",
    "    testing_values = pd.concat([testing_values, df], axis=0)"
   ]
  },
  {
   "cell_type": "code",
   "execution_count": 35,
   "id": "f2a5bf9a",
   "metadata": {
    "execution": {
     "iopub.execute_input": "2023-08-25T20:31:16.498805Z",
     "iopub.status.busy": "2023-08-25T20:31:16.498608Z",
     "iopub.status.idle": "2023-08-25T20:31:16.505208Z",
     "shell.execute_reply": "2023-08-25T20:31:16.504955Z"
    },
    "papermill": {
     "duration": 0.020012,
     "end_time": "2023-08-25T20:31:16.505950",
     "exception": false,
     "start_time": "2023-08-25T20:31:16.485938",
     "status": "completed"
    },
    "tags": []
   },
   "outputs": [
    {
     "data": {
      "text/html": [
       "<div>\n",
       "<style scoped>\n",
       "    .dataframe tbody tr th:only-of-type {\n",
       "        vertical-align: middle;\n",
       "    }\n",
       "\n",
       "    .dataframe tbody tr th {\n",
       "        vertical-align: top;\n",
       "    }\n",
       "\n",
       "    .dataframe thead th {\n",
       "        text-align: right;\n",
       "    }\n",
       "</style>\n",
       "<table border=\"1\" class=\"dataframe\">\n",
       "  <thead>\n",
       "    <tr style=\"text-align: right;\">\n",
       "      <th></th>\n",
       "      <th>Metadata_Well</th>\n",
       "      <th>oneb_Metadata_Treatment_Dose_Inhibitor_Dose</th>\n",
       "    </tr>\n",
       "  </thead>\n",
       "  <tbody>\n",
       "    <tr>\n",
       "      <th>0</th>\n",
       "      <td>B06</td>\n",
       "      <td>DMSO_0.100_DMSO_0.025</td>\n",
       "    </tr>\n",
       "    <tr>\n",
       "      <th>1</th>\n",
       "      <td>B07</td>\n",
       "      <td>DMSO_0.100_DMSO_0.025</td>\n",
       "    </tr>\n",
       "    <tr>\n",
       "      <th>2</th>\n",
       "      <td>C06</td>\n",
       "      <td>DMSO_0.100_DMSO_0.025</td>\n",
       "    </tr>\n",
       "    <tr>\n",
       "      <th>3</th>\n",
       "      <td>C07</td>\n",
       "      <td>DMSO_0.100_DMSO_0.025</td>\n",
       "    </tr>\n",
       "    <tr>\n",
       "      <th>5</th>\n",
       "      <td>I07</td>\n",
       "      <td>DMSO_0.100_DMSO_0.025</td>\n",
       "    </tr>\n",
       "    <tr>\n",
       "      <th>8</th>\n",
       "      <td>J06</td>\n",
       "      <td>DMSO_0.100_DMSO_0.025</td>\n",
       "    </tr>\n",
       "    <tr>\n",
       "      <th>9</th>\n",
       "      <td>J07</td>\n",
       "      <td>DMSO_0.100_DMSO_0.025</td>\n",
       "    </tr>\n",
       "  </tbody>\n",
       "</table>\n",
       "</div>"
      ],
      "text/plain": [
       "  Metadata_Well oneb_Metadata_Treatment_Dose_Inhibitor_Dose\n",
       "0           B06                       DMSO_0.100_DMSO_0.025\n",
       "1           B07                       DMSO_0.100_DMSO_0.025\n",
       "2           C06                       DMSO_0.100_DMSO_0.025\n",
       "3           C07                       DMSO_0.100_DMSO_0.025\n",
       "5           I07                       DMSO_0.100_DMSO_0.025\n",
       "8           J06                       DMSO_0.100_DMSO_0.025\n",
       "9           J07                       DMSO_0.100_DMSO_0.025"
      ]
     },
     "execution_count": 35,
     "metadata": {},
     "output_type": "execute_result"
    }
   ],
   "source": [
    "# get the unique rows in a dataframe\n",
    "key_df = df_descriptive[\n",
    "    [\"Metadata_Well\", \"oneb_Metadata_Treatment_Dose_Inhibitor_Dose\"]\n",
    "].drop_duplicates()\n",
    "key_df"
   ]
  },
  {
   "cell_type": "code",
   "execution_count": 36,
   "id": "c3473a46",
   "metadata": {
    "execution": {
     "iopub.execute_input": "2023-08-25T20:31:16.530648Z",
     "iopub.status.busy": "2023-08-25T20:31:16.530442Z",
     "iopub.status.idle": "2023-08-25T20:31:16.533282Z",
     "shell.execute_reply": "2023-08-25T20:31:16.533021Z"
    },
    "papermill": {
     "duration": 0.01614,
     "end_time": "2023-08-25T20:31:16.533878",
     "exception": false,
     "start_time": "2023-08-25T20:31:16.517738",
     "status": "completed"
    },
    "tags": []
   },
   "outputs": [],
   "source": [
    "# add treatment column based on well\n",
    "testing_values = pd.merge(testing_values, key_df, on=\"Metadata_Well\", how=\"left\")"
   ]
  },
  {
   "cell_type": "code",
   "execution_count": 37,
   "id": "217deec3",
   "metadata": {
    "execution": {
     "iopub.execute_input": "2023-08-25T20:31:16.548761Z",
     "iopub.status.busy": "2023-08-25T20:31:16.548637Z",
     "iopub.status.idle": "2023-08-25T20:31:16.555294Z",
     "shell.execute_reply": "2023-08-25T20:31:16.555022Z"
    },
    "papermill": {
     "duration": 0.014906,
     "end_time": "2023-08-25T20:31:16.555958",
     "exception": false,
     "start_time": "2023-08-25T20:31:16.541052",
     "status": "completed"
    },
    "tags": []
   },
   "outputs": [
    {
     "data": {
      "text/html": [
       "<div>\n",
       "<style scoped>\n",
       "    .dataframe tbody tr th:only-of-type {\n",
       "        vertical-align: middle;\n",
       "    }\n",
       "\n",
       "    .dataframe tbody tr th {\n",
       "        vertical-align: top;\n",
       "    }\n",
       "\n",
       "    .dataframe thead th {\n",
       "        text-align: right;\n",
       "    }\n",
       "</style>\n",
       "<table border=\"1\" class=\"dataframe\">\n",
       "  <thead>\n",
       "    <tr style=\"text-align: right;\">\n",
       "      <th></th>\n",
       "      <th>Actual</th>\n",
       "      <th>Average Predicted</th>\n",
       "      <th>cytokine</th>\n",
       "      <th>Metadata_Well</th>\n",
       "      <th>model_type</th>\n",
       "      <th>shuffled_data</th>\n",
       "      <th>oneb_Metadata_Treatment_Dose_Inhibitor_Dose_x</th>\n",
       "      <th>oneb_Metadata_Treatment_Dose_Inhibitor_Dose_y</th>\n",
       "    </tr>\n",
       "  </thead>\n",
       "  <tbody>\n",
       "    <tr>\n",
       "      <th>0</th>\n",
       "      <td>0.028148</td>\n",
       "      <td>0.018317</td>\n",
       "      <td>IL-1 beta [NSU]</td>\n",
       "      <td>C07</td>\n",
       "      <td>train</td>\n",
       "      <td>False</td>\n",
       "      <td>DMSO_0.100_DMSO_0.025</td>\n",
       "      <td>DMSO_0.100_DMSO_0.025</td>\n",
       "    </tr>\n",
       "    <tr>\n",
       "      <th>1</th>\n",
       "      <td>0.040659</td>\n",
       "      <td>0.018317</td>\n",
       "      <td>IL-1 beta [NSU]</td>\n",
       "      <td>B07</td>\n",
       "      <td>train</td>\n",
       "      <td>False</td>\n",
       "      <td>DMSO_0.100_DMSO_0.025</td>\n",
       "      <td>DMSO_0.100_DMSO_0.025</td>\n",
       "    </tr>\n",
       "    <tr>\n",
       "      <th>2</th>\n",
       "      <td>0.018241</td>\n",
       "      <td>0.018317</td>\n",
       "      <td>IL-1 beta [NSU]</td>\n",
       "      <td>B06</td>\n",
       "      <td>train</td>\n",
       "      <td>False</td>\n",
       "      <td>DMSO_0.100_DMSO_0.025</td>\n",
       "      <td>DMSO_0.100_DMSO_0.025</td>\n",
       "    </tr>\n",
       "    <tr>\n",
       "      <th>3</th>\n",
       "      <td>0.030450</td>\n",
       "      <td>0.018317</td>\n",
       "      <td>IL-1 beta [NSU]</td>\n",
       "      <td>C06</td>\n",
       "      <td>train</td>\n",
       "      <td>False</td>\n",
       "      <td>DMSO_0.100_DMSO_0.025</td>\n",
       "      <td>DMSO_0.100_DMSO_0.025</td>\n",
       "    </tr>\n",
       "    <tr>\n",
       "      <th>4</th>\n",
       "      <td>0.021020</td>\n",
       "      <td>0.018317</td>\n",
       "      <td>IL-1 beta [NSU]</td>\n",
       "      <td>J06</td>\n",
       "      <td>train</td>\n",
       "      <td>False</td>\n",
       "      <td>DMSO_0.100_DMSO_0.025</td>\n",
       "      <td>DMSO_0.100_DMSO_0.025</td>\n",
       "    </tr>\n",
       "    <tr>\n",
       "      <th>5</th>\n",
       "      <td>0.038622</td>\n",
       "      <td>0.018317</td>\n",
       "      <td>IL-1 beta [NSU]</td>\n",
       "      <td>J07</td>\n",
       "      <td>validation</td>\n",
       "      <td>False</td>\n",
       "      <td>NaN</td>\n",
       "      <td>DMSO_0.100_DMSO_0.025</td>\n",
       "    </tr>\n",
       "  </tbody>\n",
       "</table>\n",
       "</div>"
      ],
      "text/plain": [
       "     Actual  Average Predicted         cytokine Metadata_Well  model_type  \\\n",
       "0  0.028148           0.018317  IL-1 beta [NSU]           C07       train   \n",
       "1  0.040659           0.018317  IL-1 beta [NSU]           B07       train   \n",
       "2  0.018241           0.018317  IL-1 beta [NSU]           B06       train   \n",
       "3  0.030450           0.018317  IL-1 beta [NSU]           C06       train   \n",
       "4  0.021020           0.018317  IL-1 beta [NSU]           J06       train   \n",
       "5  0.038622           0.018317  IL-1 beta [NSU]           J07  validation   \n",
       "\n",
       "  shuffled_data oneb_Metadata_Treatment_Dose_Inhibitor_Dose_x  \\\n",
       "0         False                         DMSO_0.100_DMSO_0.025   \n",
       "1         False                         DMSO_0.100_DMSO_0.025   \n",
       "2         False                         DMSO_0.100_DMSO_0.025   \n",
       "3         False                         DMSO_0.100_DMSO_0.025   \n",
       "4         False                         DMSO_0.100_DMSO_0.025   \n",
       "5         False                                           NaN   \n",
       "\n",
       "  oneb_Metadata_Treatment_Dose_Inhibitor_Dose_y  \n",
       "0                         DMSO_0.100_DMSO_0.025  \n",
       "1                         DMSO_0.100_DMSO_0.025  \n",
       "2                         DMSO_0.100_DMSO_0.025  \n",
       "3                         DMSO_0.100_DMSO_0.025  \n",
       "4                         DMSO_0.100_DMSO_0.025  \n",
       "5                         DMSO_0.100_DMSO_0.025  "
      ]
     },
     "execution_count": 37,
     "metadata": {},
     "output_type": "execute_result"
    }
   ],
   "source": [
    "testing_values"
   ]
  },
  {
   "cell_type": "code",
   "execution_count": 38,
   "id": "7767229c",
   "metadata": {},
   "outputs": [
    {
     "data": {
      "text/html": [
       "<div>\n",
       "<style scoped>\n",
       "    .dataframe tbody tr th:only-of-type {\n",
       "        vertical-align: middle;\n",
       "    }\n",
       "\n",
       "    .dataframe tbody tr th {\n",
       "        vertical-align: top;\n",
       "    }\n",
       "\n",
       "    .dataframe thead th {\n",
       "        text-align: right;\n",
       "    }\n",
       "</style>\n",
       "<table border=\"1\" class=\"dataframe\">\n",
       "  <thead>\n",
       "    <tr style=\"text-align: right;\">\n",
       "      <th></th>\n",
       "      <th>Actual</th>\n",
       "      <th>Average Predicted</th>\n",
       "      <th>cytokine</th>\n",
       "      <th>Metadata_Well</th>\n",
       "      <th>model_type</th>\n",
       "      <th>shuffled_data</th>\n",
       "      <th>oneb_Metadata_Treatment_Dose_Inhibitor_Dose</th>\n",
       "    </tr>\n",
       "  </thead>\n",
       "  <tbody>\n",
       "    <tr>\n",
       "      <th>0</th>\n",
       "      <td>0.028148</td>\n",
       "      <td>0.018317</td>\n",
       "      <td>IL-1 beta [NSU]</td>\n",
       "      <td>C07</td>\n",
       "      <td>train</td>\n",
       "      <td>False</td>\n",
       "      <td>DMSO_0.100_DMSO_0.025</td>\n",
       "    </tr>\n",
       "    <tr>\n",
       "      <th>1</th>\n",
       "      <td>0.040659</td>\n",
       "      <td>0.018317</td>\n",
       "      <td>IL-1 beta [NSU]</td>\n",
       "      <td>B07</td>\n",
       "      <td>train</td>\n",
       "      <td>False</td>\n",
       "      <td>DMSO_0.100_DMSO_0.025</td>\n",
       "    </tr>\n",
       "    <tr>\n",
       "      <th>2</th>\n",
       "      <td>0.018241</td>\n",
       "      <td>0.018317</td>\n",
       "      <td>IL-1 beta [NSU]</td>\n",
       "      <td>B06</td>\n",
       "      <td>train</td>\n",
       "      <td>False</td>\n",
       "      <td>DMSO_0.100_DMSO_0.025</td>\n",
       "    </tr>\n",
       "    <tr>\n",
       "      <th>3</th>\n",
       "      <td>0.030450</td>\n",
       "      <td>0.018317</td>\n",
       "      <td>IL-1 beta [NSU]</td>\n",
       "      <td>C06</td>\n",
       "      <td>train</td>\n",
       "      <td>False</td>\n",
       "      <td>DMSO_0.100_DMSO_0.025</td>\n",
       "    </tr>\n",
       "    <tr>\n",
       "      <th>4</th>\n",
       "      <td>0.021020</td>\n",
       "      <td>0.018317</td>\n",
       "      <td>IL-1 beta [NSU]</td>\n",
       "      <td>J06</td>\n",
       "      <td>train</td>\n",
       "      <td>False</td>\n",
       "      <td>DMSO_0.100_DMSO_0.025</td>\n",
       "    </tr>\n",
       "    <tr>\n",
       "      <th>5</th>\n",
       "      <td>0.038622</td>\n",
       "      <td>0.018317</td>\n",
       "      <td>IL-1 beta [NSU]</td>\n",
       "      <td>J07</td>\n",
       "      <td>validation</td>\n",
       "      <td>False</td>\n",
       "      <td>DMSO_0.100_DMSO_0.025</td>\n",
       "    </tr>\n",
       "  </tbody>\n",
       "</table>\n",
       "</div>"
      ],
      "text/plain": [
       "     Actual  Average Predicted         cytokine Metadata_Well  model_type  \\\n",
       "0  0.028148           0.018317  IL-1 beta [NSU]           C07       train   \n",
       "1  0.040659           0.018317  IL-1 beta [NSU]           B07       train   \n",
       "2  0.018241           0.018317  IL-1 beta [NSU]           B06       train   \n",
       "3  0.030450           0.018317  IL-1 beta [NSU]           C06       train   \n",
       "4  0.021020           0.018317  IL-1 beta [NSU]           J06       train   \n",
       "5  0.038622           0.018317  IL-1 beta [NSU]           J07  validation   \n",
       "\n",
       "  shuffled_data oneb_Metadata_Treatment_Dose_Inhibitor_Dose  \n",
       "0         False                       DMSO_0.100_DMSO_0.025  \n",
       "1         False                       DMSO_0.100_DMSO_0.025  \n",
       "2         False                       DMSO_0.100_DMSO_0.025  \n",
       "3         False                       DMSO_0.100_DMSO_0.025  \n",
       "4         False                       DMSO_0.100_DMSO_0.025  \n",
       "5         False                       DMSO_0.100_DMSO_0.025  "
      ]
     },
     "execution_count": 38,
     "metadata": {},
     "output_type": "execute_result"
    }
   ],
   "source": [
    "testing_values[\"oneb_Metadata_Treatment_Dose_Inhibitor_Dose\"] = testing_values[\n",
    "    \"oneb_Metadata_Treatment_Dose_Inhibitor_Dose_y\"\n",
    "]\n",
    "testing_values.drop(\n",
    "    columns=[\n",
    "        \"oneb_Metadata_Treatment_Dose_Inhibitor_Dose_x\",\n",
    "        \"oneb_Metadata_Treatment_Dose_Inhibitor_Dose_y\",\n",
    "    ],\n",
    "    inplace=True,\n",
    ")\n",
    "testing_values"
   ]
  },
  {
   "cell_type": "markdown",
   "id": "8513ce81",
   "metadata": {
    "papermill": {
     "duration": 0.007371,
     "end_time": "2023-08-25T20:31:16.570714",
     "exception": false,
     "start_time": "2023-08-25T20:31:16.563343",
     "status": "completed"
    },
    "tags": []
   },
   "source": [
    "### Testing model"
   ]
  },
  {
   "cell_type": "code",
   "execution_count": 39,
   "id": "b471b483",
   "metadata": {
    "execution": {
     "iopub.execute_input": "2023-08-25T20:31:16.586193Z",
     "iopub.status.busy": "2023-08-25T20:31:16.586072Z",
     "iopub.status.idle": "2023-08-25T20:31:17.201252Z",
     "shell.execute_reply": "2023-08-25T20:31:17.200844Z"
    },
    "papermill": {
     "duration": 0.624422,
     "end_time": "2023-08-25T20:31:17.202499",
     "exception": false,
     "start_time": "2023-08-25T20:31:16.578077",
     "status": "completed"
    },
    "tags": []
   },
   "outputs": [
    {
     "name": "stdout",
     "output_type": "stream",
     "text": [
      "DMSO_0.025_vs_LPS_100\n"
     ]
    }
   ],
   "source": [
    "# calling the testing function and outputting list values of tested model\n",
    "if params.MODEL_TYPE == \"Multi_Class\" or params.MODEL_TYPE == \"Regression\":\n",
    "    y_pred_list = test_optimized_model(\n",
    "        model, test_loader, params, model_name=params.MODEL_NAME\n",
    "    )\n",
    "elif params.MODEL_TYPE == \"Binary_Classification\":\n",
    "    y_pred_list, y_pred_prob_list = test_optimized_model(\n",
    "        model, test_loader, params, model_name=params.MODEL_NAME\n",
    "    )\n",
    "else:\n",
    "    raise Exception(\"Model type must be specified for proper model testing\")\n",
    "\n",
    "\n",
    "# un-nest list if nested i.e. length of input data does not match length of output data\n",
    "if len(y_pred_list) != len(Y_test):\n",
    "    print(\"yes\")\n",
    "    if not params.MODEL_TYPE == \"Regression\":\n",
    "\n",
    "        y_pred_prob_list = un_nest(y_pred_prob_list)\n",
    "    else:\n",
    "        y_pred_list = un_nest(y_pred_list)\n",
    "else:\n",
    "    pass"
   ]
  },
  {
   "cell_type": "code",
   "execution_count": 40,
   "id": "e8be9a9d",
   "metadata": {
    "execution": {
     "iopub.execute_input": "2023-08-25T20:31:17.218477Z",
     "iopub.status.busy": "2023-08-25T20:31:17.218308Z",
     "iopub.status.idle": "2023-08-25T20:31:17.261297Z",
     "shell.execute_reply": "2023-08-25T20:31:17.260997Z"
    },
    "papermill": {
     "duration": 0.051536,
     "end_time": "2023-08-25T20:31:17.262036",
     "exception": false,
     "start_time": "2023-08-25T20:31:17.210500",
     "status": "completed"
    },
    "tags": []
   },
   "outputs": [
    {
     "data": {
      "text/html": [
       "<div>\n",
       "<style scoped>\n",
       "    .dataframe tbody tr th:only-of-type {\n",
       "        vertical-align: middle;\n",
       "    }\n",
       "\n",
       "    .dataframe tbody tr th {\n",
       "        vertical-align: top;\n",
       "    }\n",
       "\n",
       "    .dataframe thead th {\n",
       "        text-align: right;\n",
       "    }\n",
       "</style>\n",
       "<table border=\"1\" class=\"dataframe\">\n",
       "  <thead>\n",
       "    <tr style=\"text-align: right;\">\n",
       "      <th></th>\n",
       "      <th>IL-1 beta [NSU]</th>\n",
       "      <th>Metadata_Well</th>\n",
       "    </tr>\n",
       "  </thead>\n",
       "  <tbody>\n",
       "    <tr>\n",
       "      <th>0</th>\n",
       "      <td>0.018317</td>\n",
       "      <td>I07</td>\n",
       "    </tr>\n",
       "  </tbody>\n",
       "</table>\n",
       "</div>"
      ],
      "text/plain": [
       "   IL-1 beta [NSU] Metadata_Well\n",
       "0         0.018317           I07"
      ]
     },
     "execution_count": 40,
     "metadata": {},
     "output_type": "execute_result"
    }
   ],
   "source": [
    "# make the prediction list into a dataframe using column names from the test data\n",
    "prediction_df = pd.DataFrame(y_pred_list, columns=Y_test.columns, index=Y_test.index)\n",
    "prediction_df[\"Metadata_Well\"] = Y_test_well[\"Metadata_Well\"]\n",
    "prediction_df[\"Metadata_Well\"].unique()\n",
    "prediction_df"
   ]
  },
  {
   "cell_type": "code",
   "execution_count": 41,
   "id": "689007bd",
   "metadata": {
    "execution": {
     "iopub.execute_input": "2023-08-25T20:31:17.288181Z",
     "iopub.status.busy": "2023-08-25T20:31:17.288028Z",
     "iopub.status.idle": "2023-08-25T20:31:19.103555Z",
     "shell.execute_reply": "2023-08-25T20:31:19.103144Z"
    },
    "papermill": {
     "duration": 1.829843,
     "end_time": "2023-08-25T20:31:19.104711",
     "exception": false,
     "start_time": "2023-08-25T20:31:17.274868",
     "status": "completed"
    },
    "tags": []
   },
   "outputs": [],
   "source": [
    "from sklearn.metrics import mean_squared_error, r2_score\n",
    "\n",
    "# get the list of columns in the test data\n",
    "test_data_columns = Y_test.columns.to_list()\n",
    "# loop through the columns\n",
    "for col in Y_test:\n",
    "    # get the column from test data\n",
    "    test_col = Y_test[col]\n",
    "    # get the column from prediction data\n",
    "    pred_col = prediction_df[col]\n",
    "    # list of treatment names\n",
    "    treatment_col = prediction_df[\"Metadata_Well\"]\n",
    "    # get the mse and r2 for the columns\n",
    "    # mse = mean_squared_error(test_col, pred_col)\n",
    "    # r_square = r2_score(test_col, pred_col)\n",
    "    # a, b = np.polyfit(test_col, pred_col, 1)\n",
    "    treatment_col = prediction_df[\"Metadata_Well\"]\n",
    "    index_dict = {}\n",
    "    for i in test_col.unique():\n",
    "        index_list = []\n",
    "        for j in enumerate(test_col):\n",
    "            if i == j[1]:\n",
    "                index_list.append(j[0])\n",
    "        index_dict[i] = index_list\n",
    "    new_value_dict = {}\n",
    "    for i in index_dict:\n",
    "        new_value_dict[i] = [\n",
    "            pred_col[index_dict[i]].median(),\n",
    "            treatment_col[index_dict[i]].unique().tolist()[0],\n",
    "        ]\n",
    "\n",
    "    df = (\n",
    "        pd.DataFrame.from_dict(new_value_dict, orient=\"index\")\n",
    "        .reset_index()\n",
    "        .rename(columns={\"index\": \"Actual\", 0: \"Average Predicted\", 1: \"Metadata_Well\"})\n",
    "    )\n",
    "    df[\"cytokine\"] = col\n",
    "    df[\"model_type\"] = \"test\"\n",
    "    df[\"shuffled_data\"] = mlp_params.SHUFFLE\n",
    "\n",
    "    testing_values = pd.concat([testing_values, df], axis=0)\n",
    "    # plt.scatter(df['Actual'], df['Average Predicted'])\n",
    "    # # plt.plot([min(test_col), max(test_col)], [min(test_col), max(test_col)], color='red', linestyle='--')\n",
    "    # plt.plot(\n",
    "    #     test_col,\n",
    "    #     a * test_col + b,\n",
    "    #     color=\"red\",\n",
    "    #     label=\"R2={0:0.2f}\".format(r_square),\n",
    "    # )\n",
    "    # plt.title(\n",
    "    #     f\"Regression Nerual Network Prediction vs. True \\n {col}\", fontsize=25\n",
    "    # )\n",
    "    # plt.ylabel(\"Predicted\", fontsize=18)\n",
    "    # plt.xlabel(\"Target\", fontsize=18)\n",
    "    # # make data continuous\n",
    "    # plt.show()\n",
    "    # plt.close()"
   ]
  },
  {
   "cell_type": "code",
   "execution_count": 42,
   "id": "f407988b",
   "metadata": {
    "execution": {
     "iopub.execute_input": "2023-08-25T20:31:19.131329Z",
     "iopub.status.busy": "2023-08-25T20:31:19.131139Z",
     "iopub.status.idle": "2023-08-25T20:31:19.137602Z",
     "shell.execute_reply": "2023-08-25T20:31:19.137351Z"
    },
    "papermill": {
     "duration": 0.020367,
     "end_time": "2023-08-25T20:31:19.138293",
     "exception": false,
     "start_time": "2023-08-25T20:31:19.117926",
     "status": "completed"
    },
    "tags": []
   },
   "outputs": [
    {
     "data": {
      "text/html": [
       "<div>\n",
       "<style scoped>\n",
       "    .dataframe tbody tr th:only-of-type {\n",
       "        vertical-align: middle;\n",
       "    }\n",
       "\n",
       "    .dataframe tbody tr th {\n",
       "        vertical-align: top;\n",
       "    }\n",
       "\n",
       "    .dataframe thead th {\n",
       "        text-align: right;\n",
       "    }\n",
       "</style>\n",
       "<table border=\"1\" class=\"dataframe\">\n",
       "  <thead>\n",
       "    <tr style=\"text-align: right;\">\n",
       "      <th></th>\n",
       "      <th>Metadata_Well</th>\n",
       "      <th>oneb_Metadata_Treatment_Dose_Inhibitor_Dose</th>\n",
       "    </tr>\n",
       "  </thead>\n",
       "  <tbody>\n",
       "    <tr>\n",
       "      <th>0</th>\n",
       "      <td>B06</td>\n",
       "      <td>DMSO_0.100_DMSO_0.025</td>\n",
       "    </tr>\n",
       "    <tr>\n",
       "      <th>1</th>\n",
       "      <td>B07</td>\n",
       "      <td>DMSO_0.100_DMSO_0.025</td>\n",
       "    </tr>\n",
       "    <tr>\n",
       "      <th>2</th>\n",
       "      <td>C06</td>\n",
       "      <td>DMSO_0.100_DMSO_0.025</td>\n",
       "    </tr>\n",
       "    <tr>\n",
       "      <th>3</th>\n",
       "      <td>C07</td>\n",
       "      <td>DMSO_0.100_DMSO_0.025</td>\n",
       "    </tr>\n",
       "    <tr>\n",
       "      <th>5</th>\n",
       "      <td>I07</td>\n",
       "      <td>DMSO_0.100_DMSO_0.025</td>\n",
       "    </tr>\n",
       "    <tr>\n",
       "      <th>8</th>\n",
       "      <td>J06</td>\n",
       "      <td>DMSO_0.100_DMSO_0.025</td>\n",
       "    </tr>\n",
       "    <tr>\n",
       "      <th>9</th>\n",
       "      <td>J07</td>\n",
       "      <td>DMSO_0.100_DMSO_0.025</td>\n",
       "    </tr>\n",
       "  </tbody>\n",
       "</table>\n",
       "</div>"
      ],
      "text/plain": [
       "  Metadata_Well oneb_Metadata_Treatment_Dose_Inhibitor_Dose\n",
       "0           B06                       DMSO_0.100_DMSO_0.025\n",
       "1           B07                       DMSO_0.100_DMSO_0.025\n",
       "2           C06                       DMSO_0.100_DMSO_0.025\n",
       "3           C07                       DMSO_0.100_DMSO_0.025\n",
       "5           I07                       DMSO_0.100_DMSO_0.025\n",
       "8           J06                       DMSO_0.100_DMSO_0.025\n",
       "9           J07                       DMSO_0.100_DMSO_0.025"
      ]
     },
     "execution_count": 42,
     "metadata": {},
     "output_type": "execute_result"
    }
   ],
   "source": [
    "# get the unique rows in a dataframe\n",
    "key_df = df_descriptive[\n",
    "    [\"Metadata_Well\", \"oneb_Metadata_Treatment_Dose_Inhibitor_Dose\"]\n",
    "].drop_duplicates()\n",
    "key_df"
   ]
  },
  {
   "cell_type": "code",
   "execution_count": 43,
   "id": "fed43cad",
   "metadata": {
    "execution": {
     "iopub.execute_input": "2023-08-25T20:31:19.163785Z",
     "iopub.status.busy": "2023-08-25T20:31:19.163671Z",
     "iopub.status.idle": "2023-08-25T20:31:19.166599Z",
     "shell.execute_reply": "2023-08-25T20:31:19.166347Z"
    },
    "papermill": {
     "duration": 0.01628,
     "end_time": "2023-08-25T20:31:19.167190",
     "exception": false,
     "start_time": "2023-08-25T20:31:19.150910",
     "status": "completed"
    },
    "tags": []
   },
   "outputs": [],
   "source": [
    "# add treatment column based on well\n",
    "testing_values = pd.merge(testing_values, key_df, on=\"Metadata_Well\", how=\"left\")"
   ]
  },
  {
   "cell_type": "code",
   "execution_count": 44,
   "id": "3eda6960",
   "metadata": {},
   "outputs": [
    {
     "data": {
      "text/html": [
       "<div>\n",
       "<style scoped>\n",
       "    .dataframe tbody tr th:only-of-type {\n",
       "        vertical-align: middle;\n",
       "    }\n",
       "\n",
       "    .dataframe tbody tr th {\n",
       "        vertical-align: top;\n",
       "    }\n",
       "\n",
       "    .dataframe thead th {\n",
       "        text-align: right;\n",
       "    }\n",
       "</style>\n",
       "<table border=\"1\" class=\"dataframe\">\n",
       "  <thead>\n",
       "    <tr style=\"text-align: right;\">\n",
       "      <th></th>\n",
       "      <th>Actual</th>\n",
       "      <th>Average Predicted</th>\n",
       "      <th>cytokine</th>\n",
       "      <th>Metadata_Well</th>\n",
       "      <th>model_type</th>\n",
       "      <th>shuffled_data</th>\n",
       "      <th>oneb_Metadata_Treatment_Dose_Inhibitor_Dose_x</th>\n",
       "      <th>oneb_Metadata_Treatment_Dose_Inhibitor_Dose_y</th>\n",
       "    </tr>\n",
       "  </thead>\n",
       "  <tbody>\n",
       "    <tr>\n",
       "      <th>0</th>\n",
       "      <td>0.028148</td>\n",
       "      <td>0.018317</td>\n",
       "      <td>IL-1 beta [NSU]</td>\n",
       "      <td>C07</td>\n",
       "      <td>train</td>\n",
       "      <td>False</td>\n",
       "      <td>DMSO_0.100_DMSO_0.025</td>\n",
       "      <td>DMSO_0.100_DMSO_0.025</td>\n",
       "    </tr>\n",
       "    <tr>\n",
       "      <th>1</th>\n",
       "      <td>0.040659</td>\n",
       "      <td>0.018317</td>\n",
       "      <td>IL-1 beta [NSU]</td>\n",
       "      <td>B07</td>\n",
       "      <td>train</td>\n",
       "      <td>False</td>\n",
       "      <td>DMSO_0.100_DMSO_0.025</td>\n",
       "      <td>DMSO_0.100_DMSO_0.025</td>\n",
       "    </tr>\n",
       "    <tr>\n",
       "      <th>2</th>\n",
       "      <td>0.018241</td>\n",
       "      <td>0.018317</td>\n",
       "      <td>IL-1 beta [NSU]</td>\n",
       "      <td>B06</td>\n",
       "      <td>train</td>\n",
       "      <td>False</td>\n",
       "      <td>DMSO_0.100_DMSO_0.025</td>\n",
       "      <td>DMSO_0.100_DMSO_0.025</td>\n",
       "    </tr>\n",
       "    <tr>\n",
       "      <th>3</th>\n",
       "      <td>0.030450</td>\n",
       "      <td>0.018317</td>\n",
       "      <td>IL-1 beta [NSU]</td>\n",
       "      <td>C06</td>\n",
       "      <td>train</td>\n",
       "      <td>False</td>\n",
       "      <td>DMSO_0.100_DMSO_0.025</td>\n",
       "      <td>DMSO_0.100_DMSO_0.025</td>\n",
       "    </tr>\n",
       "    <tr>\n",
       "      <th>4</th>\n",
       "      <td>0.021020</td>\n",
       "      <td>0.018317</td>\n",
       "      <td>IL-1 beta [NSU]</td>\n",
       "      <td>J06</td>\n",
       "      <td>train</td>\n",
       "      <td>False</td>\n",
       "      <td>DMSO_0.100_DMSO_0.025</td>\n",
       "      <td>DMSO_0.100_DMSO_0.025</td>\n",
       "    </tr>\n",
       "    <tr>\n",
       "      <th>5</th>\n",
       "      <td>0.038622</td>\n",
       "      <td>0.018317</td>\n",
       "      <td>IL-1 beta [NSU]</td>\n",
       "      <td>J07</td>\n",
       "      <td>validation</td>\n",
       "      <td>False</td>\n",
       "      <td>DMSO_0.100_DMSO_0.025</td>\n",
       "      <td>DMSO_0.100_DMSO_0.025</td>\n",
       "    </tr>\n",
       "    <tr>\n",
       "      <th>6</th>\n",
       "      <td>0.026229</td>\n",
       "      <td>0.018317</td>\n",
       "      <td>IL-1 beta [NSU]</td>\n",
       "      <td>I07</td>\n",
       "      <td>test</td>\n",
       "      <td>False</td>\n",
       "      <td>NaN</td>\n",
       "      <td>DMSO_0.100_DMSO_0.025</td>\n",
       "    </tr>\n",
       "  </tbody>\n",
       "</table>\n",
       "</div>"
      ],
      "text/plain": [
       "     Actual  Average Predicted         cytokine Metadata_Well  model_type  \\\n",
       "0  0.028148           0.018317  IL-1 beta [NSU]           C07       train   \n",
       "1  0.040659           0.018317  IL-1 beta [NSU]           B07       train   \n",
       "2  0.018241           0.018317  IL-1 beta [NSU]           B06       train   \n",
       "3  0.030450           0.018317  IL-1 beta [NSU]           C06       train   \n",
       "4  0.021020           0.018317  IL-1 beta [NSU]           J06       train   \n",
       "5  0.038622           0.018317  IL-1 beta [NSU]           J07  validation   \n",
       "6  0.026229           0.018317  IL-1 beta [NSU]           I07        test   \n",
       "\n",
       "  shuffled_data oneb_Metadata_Treatment_Dose_Inhibitor_Dose_x  \\\n",
       "0         False                         DMSO_0.100_DMSO_0.025   \n",
       "1         False                         DMSO_0.100_DMSO_0.025   \n",
       "2         False                         DMSO_0.100_DMSO_0.025   \n",
       "3         False                         DMSO_0.100_DMSO_0.025   \n",
       "4         False                         DMSO_0.100_DMSO_0.025   \n",
       "5         False                         DMSO_0.100_DMSO_0.025   \n",
       "6         False                                           NaN   \n",
       "\n",
       "  oneb_Metadata_Treatment_Dose_Inhibitor_Dose_y  \n",
       "0                         DMSO_0.100_DMSO_0.025  \n",
       "1                         DMSO_0.100_DMSO_0.025  \n",
       "2                         DMSO_0.100_DMSO_0.025  \n",
       "3                         DMSO_0.100_DMSO_0.025  \n",
       "4                         DMSO_0.100_DMSO_0.025  \n",
       "5                         DMSO_0.100_DMSO_0.025  \n",
       "6                         DMSO_0.100_DMSO_0.025  "
      ]
     },
     "execution_count": 44,
     "metadata": {},
     "output_type": "execute_result"
    }
   ],
   "source": [
    "testing_values"
   ]
  },
  {
   "cell_type": "code",
   "execution_count": 45,
   "id": "19fabe9c",
   "metadata": {
    "execution": {
     "iopub.execute_input": "2023-08-25T20:31:19.182929Z",
     "iopub.status.busy": "2023-08-25T20:31:19.182704Z",
     "iopub.status.idle": "2023-08-25T20:31:19.188748Z",
     "shell.execute_reply": "2023-08-25T20:31:19.188496Z"
    },
    "papermill": {
     "duration": 0.014642,
     "end_time": "2023-08-25T20:31:19.189385",
     "exception": false,
     "start_time": "2023-08-25T20:31:19.174743",
     "status": "completed"
    },
    "tags": []
   },
   "outputs": [
    {
     "data": {
      "text/html": [
       "<div>\n",
       "<style scoped>\n",
       "    .dataframe tbody tr th:only-of-type {\n",
       "        vertical-align: middle;\n",
       "    }\n",
       "\n",
       "    .dataframe tbody tr th {\n",
       "        vertical-align: top;\n",
       "    }\n",
       "\n",
       "    .dataframe thead th {\n",
       "        text-align: right;\n",
       "    }\n",
       "</style>\n",
       "<table border=\"1\" class=\"dataframe\">\n",
       "  <thead>\n",
       "    <tr style=\"text-align: right;\">\n",
       "      <th></th>\n",
       "      <th>Actual</th>\n",
       "      <th>Average Predicted</th>\n",
       "      <th>cytokine</th>\n",
       "      <th>Metadata_Well</th>\n",
       "      <th>model_type</th>\n",
       "      <th>shuffled_data</th>\n",
       "      <th>oneb_Metadata_Treatment_Dose_Inhibitor_Dose</th>\n",
       "    </tr>\n",
       "  </thead>\n",
       "  <tbody>\n",
       "    <tr>\n",
       "      <th>0</th>\n",
       "      <td>0.028148</td>\n",
       "      <td>0.018317</td>\n",
       "      <td>IL-1 beta [NSU]</td>\n",
       "      <td>C07</td>\n",
       "      <td>train</td>\n",
       "      <td>False</td>\n",
       "      <td>DMSO_0.100_DMSO_0.025</td>\n",
       "    </tr>\n",
       "    <tr>\n",
       "      <th>1</th>\n",
       "      <td>0.040659</td>\n",
       "      <td>0.018317</td>\n",
       "      <td>IL-1 beta [NSU]</td>\n",
       "      <td>B07</td>\n",
       "      <td>train</td>\n",
       "      <td>False</td>\n",
       "      <td>DMSO_0.100_DMSO_0.025</td>\n",
       "    </tr>\n",
       "    <tr>\n",
       "      <th>2</th>\n",
       "      <td>0.018241</td>\n",
       "      <td>0.018317</td>\n",
       "      <td>IL-1 beta [NSU]</td>\n",
       "      <td>B06</td>\n",
       "      <td>train</td>\n",
       "      <td>False</td>\n",
       "      <td>DMSO_0.100_DMSO_0.025</td>\n",
       "    </tr>\n",
       "    <tr>\n",
       "      <th>3</th>\n",
       "      <td>0.030450</td>\n",
       "      <td>0.018317</td>\n",
       "      <td>IL-1 beta [NSU]</td>\n",
       "      <td>C06</td>\n",
       "      <td>train</td>\n",
       "      <td>False</td>\n",
       "      <td>DMSO_0.100_DMSO_0.025</td>\n",
       "    </tr>\n",
       "    <tr>\n",
       "      <th>4</th>\n",
       "      <td>0.021020</td>\n",
       "      <td>0.018317</td>\n",
       "      <td>IL-1 beta [NSU]</td>\n",
       "      <td>J06</td>\n",
       "      <td>train</td>\n",
       "      <td>False</td>\n",
       "      <td>DMSO_0.100_DMSO_0.025</td>\n",
       "    </tr>\n",
       "    <tr>\n",
       "      <th>5</th>\n",
       "      <td>0.038622</td>\n",
       "      <td>0.018317</td>\n",
       "      <td>IL-1 beta [NSU]</td>\n",
       "      <td>J07</td>\n",
       "      <td>validation</td>\n",
       "      <td>False</td>\n",
       "      <td>DMSO_0.100_DMSO_0.025</td>\n",
       "    </tr>\n",
       "    <tr>\n",
       "      <th>6</th>\n",
       "      <td>0.026229</td>\n",
       "      <td>0.018317</td>\n",
       "      <td>IL-1 beta [NSU]</td>\n",
       "      <td>I07</td>\n",
       "      <td>test</td>\n",
       "      <td>False</td>\n",
       "      <td>DMSO_0.100_DMSO_0.025</td>\n",
       "    </tr>\n",
       "  </tbody>\n",
       "</table>\n",
       "</div>"
      ],
      "text/plain": [
       "     Actual  Average Predicted         cytokine Metadata_Well  model_type  \\\n",
       "0  0.028148           0.018317  IL-1 beta [NSU]           C07       train   \n",
       "1  0.040659           0.018317  IL-1 beta [NSU]           B07       train   \n",
       "2  0.018241           0.018317  IL-1 beta [NSU]           B06       train   \n",
       "3  0.030450           0.018317  IL-1 beta [NSU]           C06       train   \n",
       "4  0.021020           0.018317  IL-1 beta [NSU]           J06       train   \n",
       "5  0.038622           0.018317  IL-1 beta [NSU]           J07  validation   \n",
       "6  0.026229           0.018317  IL-1 beta [NSU]           I07        test   \n",
       "\n",
       "  shuffled_data oneb_Metadata_Treatment_Dose_Inhibitor_Dose  \n",
       "0         False                       DMSO_0.100_DMSO_0.025  \n",
       "1         False                       DMSO_0.100_DMSO_0.025  \n",
       "2         False                       DMSO_0.100_DMSO_0.025  \n",
       "3         False                       DMSO_0.100_DMSO_0.025  \n",
       "4         False                       DMSO_0.100_DMSO_0.025  \n",
       "5         False                       DMSO_0.100_DMSO_0.025  \n",
       "6         False                       DMSO_0.100_DMSO_0.025  "
      ]
     },
     "execution_count": 45,
     "metadata": {},
     "output_type": "execute_result"
    }
   ],
   "source": [
    "testing_values[\"oneb_Metadata_Treatment_Dose_Inhibitor_Dose\"] = testing_values[\n",
    "    \"oneb_Metadata_Treatment_Dose_Inhibitor_Dose_y\"\n",
    "]\n",
    "testing_values.drop(\n",
    "    columns=[\n",
    "        \"oneb_Metadata_Treatment_Dose_Inhibitor_Dose_x\",\n",
    "        \"oneb_Metadata_Treatment_Dose_Inhibitor_Dose_y\",\n",
    "    ],\n",
    "    inplace=True,\n",
    ")\n",
    "testing_values"
   ]
  },
  {
   "cell_type": "markdown",
   "id": "2266a9c3",
   "metadata": {
    "papermill": {
     "duration": 0.007712,
     "end_time": "2023-08-25T20:31:19.204897",
     "exception": false,
     "start_time": "2023-08-25T20:31:19.197185",
     "status": "completed"
    },
    "tags": []
   },
   "source": [
    "# Hold out"
   ]
  },
  {
   "cell_type": "code",
   "execution_count": 46,
   "id": "1d0904b1",
   "metadata": {
    "execution": {
     "iopub.execute_input": "2023-08-25T20:31:19.220934Z",
     "iopub.status.busy": "2023-08-25T20:31:19.220806Z",
     "iopub.status.idle": "2023-08-25T20:31:19.239711Z",
     "shell.execute_reply": "2023-08-25T20:31:19.239295Z"
    },
    "papermill": {
     "duration": 0.027715,
     "end_time": "2023-08-25T20:31:19.240414",
     "exception": false,
     "start_time": "2023-08-25T20:31:19.212699",
     "status": "completed"
    },
    "tags": []
   },
   "outputs": [],
   "source": [
    "# Code snippet for metadata extraction by Jenna Tomkinson\n",
    "df_metadata = list(df_holdout.columns[df_holdout.columns.str.contains(\"Metadata\")])\n",
    "\n",
    "# define which columns are data and which are descriptive\n",
    "df_descriptive = df_holdout[df_metadata]\n",
    "df_values = df_holdout.drop(columns=df_metadata)"
   ]
  },
  {
   "cell_type": "code",
   "execution_count": 47,
   "id": "22d1a206",
   "metadata": {
    "execution": {
     "iopub.execute_input": "2023-08-25T20:31:19.257344Z",
     "iopub.status.busy": "2023-08-25T20:31:19.257091Z",
     "iopub.status.idle": "2023-08-25T20:31:19.274992Z",
     "shell.execute_reply": "2023-08-25T20:31:19.274642Z"
    },
    "papermill": {
     "duration": 0.026865,
     "end_time": "2023-08-25T20:31:19.275646",
     "exception": false,
     "start_time": "2023-08-25T20:31:19.248781",
     "status": "completed"
    },
    "tags": []
   },
   "outputs": [
    {
     "name": "stdout",
     "output_type": "stream",
     "text": [
      "(1, 1432)\n",
      "(1, 1245)\n",
      "(1, 2)\n"
     ]
    }
   ],
   "source": [
    "# get all columns that contain NSU in the name\n",
    "df_values_Y = df_values[df_values.columns[df_values.columns.str.contains(\"NSU\")]]\n",
    "df_values_X = df_values.drop(columns=df_values_Y.columns)\n",
    "# drop all columns except for IL1B and TNFa\n",
    "col = [\"IL-1 beta [NSU]\"]\n",
    "df_values_Y = df_values_Y[col]\n",
    "df_values_Y[\"Metadata_Well\"] = df_descriptive[\"Metadata_Well\"]\n",
    "print(df_values.shape)\n",
    "print(df_values_X.shape)\n",
    "print(df_values_Y.shape)"
   ]
  },
  {
   "cell_type": "code",
   "execution_count": 48,
   "id": "559d304d",
   "metadata": {
    "execution": {
     "iopub.execute_input": "2023-08-25T20:31:19.292310Z",
     "iopub.status.busy": "2023-08-25T20:31:19.292186Z",
     "iopub.status.idle": "2023-08-25T20:31:19.296705Z",
     "shell.execute_reply": "2023-08-25T20:31:19.296384Z"
    },
    "papermill": {
     "duration": 0.013359,
     "end_time": "2023-08-25T20:31:19.297315",
     "exception": false,
     "start_time": "2023-08-25T20:31:19.283956",
     "status": "completed"
    },
    "tags": []
   },
   "outputs": [],
   "source": [
    "df_values_Y_well = df_values_Y\n",
    "df_values_Y = df_values_Y.drop(columns=[\"Metadata_Well\"])"
   ]
  },
  {
   "cell_type": "code",
   "execution_count": 49,
   "id": "63a504b8",
   "metadata": {
    "execution": {
     "iopub.execute_input": "2023-08-25T20:31:19.313486Z",
     "iopub.status.busy": "2023-08-25T20:31:19.313368Z",
     "iopub.status.idle": "2023-08-25T20:31:19.322202Z",
     "shell.execute_reply": "2023-08-25T20:31:19.321803Z"
    },
    "papermill": {
     "duration": 0.017988,
     "end_time": "2023-08-25T20:31:19.323147",
     "exception": false,
     "start_time": "2023-08-25T20:31:19.305159",
     "status": "completed"
    },
    "tags": []
   },
   "outputs": [],
   "source": [
    "test_data = Dataset_formatter(\n",
    "    torch.FloatTensor(df_values_X.values), torch.FloatTensor(df_values_Y.values)\n",
    ")\n",
    "\n",
    "# convert data class into a dataloader to be compatible with pytorch\n",
    "test_loader = torch.utils.data.DataLoader(dataset=test_data, batch_size=1)"
   ]
  },
  {
   "cell_type": "code",
   "execution_count": 50,
   "id": "bcc65995",
   "metadata": {
    "execution": {
     "iopub.execute_input": "2023-08-25T20:31:19.347907Z",
     "iopub.status.busy": "2023-08-25T20:31:19.347632Z",
     "iopub.status.idle": "2023-08-25T20:31:20.654535Z",
     "shell.execute_reply": "2023-08-25T20:31:20.654114Z"
    },
    "papermill": {
     "duration": 1.320201,
     "end_time": "2023-08-25T20:31:20.655613",
     "exception": false,
     "start_time": "2023-08-25T20:31:19.335412",
     "status": "completed"
    },
    "tags": []
   },
   "outputs": [
    {
     "name": "stdout",
     "output_type": "stream",
     "text": [
      "DMSO_0.025_vs_LPS_100\n"
     ]
    }
   ],
   "source": [
    "# calling the testing function and outputting list values of tested model\n",
    "if params.MODEL_TYPE == \"Multi_Class\" or params.MODEL_TYPE == \"Regression\":\n",
    "    y_pred_list = test_optimized_model(\n",
    "        model, test_loader, params, model_name=params.MODEL_NAME\n",
    "    )\n",
    "elif params.MODEL_TYPE == \"Binary_Classification\":\n",
    "    y_pred_list, y_pred_prob_list = test_optimized_model(\n",
    "        model, test_loader, params, model_name=params.MODEL_NAME\n",
    "    )\n",
    "else:\n",
    "    raise Exception(\"Model type must be specified for proper model testing\")\n",
    "\n",
    "\n",
    "# un-nest list if nested i.e. length of input data does not match length of output data\n",
    "if len(y_pred_list) != len(df_values_Y):\n",
    "    y_pred_list = un_nest(y_pred_list)\n",
    "    y_pred_prob_list = un_nest(y_pred_prob_list)\n",
    "else:\n",
    "    pass"
   ]
  },
  {
   "cell_type": "code",
   "execution_count": 51,
   "id": "f0d3ac48",
   "metadata": {},
   "outputs": [
    {
     "data": {
      "text/plain": [
       "[0.01831691339612007]"
      ]
     },
     "execution_count": 51,
     "metadata": {},
     "output_type": "execute_result"
    }
   ],
   "source": [
    "y_pred_list"
   ]
  },
  {
   "cell_type": "code",
   "execution_count": 53,
   "id": "d0c24521",
   "metadata": {
    "execution": {
     "iopub.execute_input": "2023-08-25T20:31:20.682963Z",
     "iopub.status.busy": "2023-08-25T20:31:20.682814Z",
     "iopub.status.idle": "2023-08-25T20:31:20.759898Z",
     "shell.execute_reply": "2023-08-25T20:31:20.759599Z"
    },
    "papermill": {
     "duration": 0.091493,
     "end_time": "2023-08-25T20:31:20.760682",
     "exception": false,
     "start_time": "2023-08-25T20:31:20.669189",
     "status": "completed"
    },
    "tags": []
   },
   "outputs": [
    {
     "data": {
      "text/html": [
       "<div>\n",
       "<style scoped>\n",
       "    .dataframe tbody tr th:only-of-type {\n",
       "        vertical-align: middle;\n",
       "    }\n",
       "\n",
       "    .dataframe tbody tr th {\n",
       "        vertical-align: top;\n",
       "    }\n",
       "\n",
       "    .dataframe thead th {\n",
       "        text-align: right;\n",
       "    }\n",
       "</style>\n",
       "<table border=\"1\" class=\"dataframe\">\n",
       "  <thead>\n",
       "    <tr style=\"text-align: right;\">\n",
       "      <th></th>\n",
       "      <th>IL-1 beta [NSU]</th>\n",
       "    </tr>\n",
       "  </thead>\n",
       "  <tbody>\n",
       "    <tr>\n",
       "      <th>4</th>\n",
       "      <td>0.018317</td>\n",
       "    </tr>\n",
       "  </tbody>\n",
       "</table>\n",
       "</div>"
      ],
      "text/plain": [
       "   IL-1 beta [NSU]\n",
       "4         0.018317"
      ]
     },
     "execution_count": 53,
     "metadata": {},
     "output_type": "execute_result"
    }
   ],
   "source": [
    "# make the prediction list into a dataframe using column names from the test data\n",
    "prediction_df = pd.DataFrame(\n",
    "    y_pred_list, columns=df_values_Y.columns, index=df_values_Y.index\n",
    ")\n",
    "prediction_df.head(2)"
   ]
  },
  {
   "cell_type": "code",
   "execution_count": 54,
   "id": "102b6cad",
   "metadata": {
    "execution": {
     "iopub.execute_input": "2023-08-25T20:31:20.788335Z",
     "iopub.status.busy": "2023-08-25T20:31:20.788181Z",
     "iopub.status.idle": "2023-08-25T20:31:20.796275Z",
     "shell.execute_reply": "2023-08-25T20:31:20.796031Z"
    },
    "papermill": {
     "duration": 0.022635,
     "end_time": "2023-08-25T20:31:20.796989",
     "exception": false,
     "start_time": "2023-08-25T20:31:20.774354",
     "status": "completed"
    },
    "tags": []
   },
   "outputs": [
    {
     "name": "stdout",
     "output_type": "stream",
     "text": [
      "(1, 1) (1, 1)\n"
     ]
    },
    {
     "data": {
      "text/html": [
       "<div>\n",
       "<style scoped>\n",
       "    .dataframe tbody tr th:only-of-type {\n",
       "        vertical-align: middle;\n",
       "    }\n",
       "\n",
       "    .dataframe tbody tr th {\n",
       "        vertical-align: top;\n",
       "    }\n",
       "\n",
       "    .dataframe thead th {\n",
       "        text-align: right;\n",
       "    }\n",
       "</style>\n",
       "<table border=\"1\" class=\"dataframe\">\n",
       "  <thead>\n",
       "    <tr style=\"text-align: right;\">\n",
       "      <th></th>\n",
       "      <th>IL-1 beta [NSU]</th>\n",
       "    </tr>\n",
       "  </thead>\n",
       "  <tbody>\n",
       "    <tr>\n",
       "      <th>4</th>\n",
       "      <td>0.018317</td>\n",
       "    </tr>\n",
       "  </tbody>\n",
       "</table>\n",
       "</div>"
      ],
      "text/plain": [
       "   IL-1 beta [NSU]\n",
       "4         0.018317"
      ]
     },
     "execution_count": 54,
     "metadata": {},
     "output_type": "execute_result"
    }
   ],
   "source": [
    "print(df_values_Y.shape, prediction_df.shape)\n",
    "df_values_Y.head(2)\n",
    "prediction_df.head(2)"
   ]
  },
  {
   "cell_type": "code",
   "execution_count": 55,
   "id": "13ad4df1",
   "metadata": {
    "execution": {
     "iopub.execute_input": "2023-08-25T20:31:20.822619Z",
     "iopub.status.busy": "2023-08-25T20:31:20.822427Z",
     "iopub.status.idle": "2023-08-25T20:31:20.891538Z",
     "shell.execute_reply": "2023-08-25T20:31:20.891231Z"
    },
    "papermill": {
     "duration": 0.081997,
     "end_time": "2023-08-25T20:31:20.892282",
     "exception": false,
     "start_time": "2023-08-25T20:31:20.810285",
     "status": "completed"
    },
    "tags": []
   },
   "outputs": [
    {
     "data": {
      "text/plain": [
       "array(['I06'], dtype=object)"
      ]
     },
     "execution_count": 55,
     "metadata": {},
     "output_type": "execute_result"
    }
   ],
   "source": [
    "# make the prediction list into a dataframe using column names from the test data\n",
    "prediction_df = pd.DataFrame(\n",
    "    y_pred_list, columns=df_values_Y.columns, index=df_values_Y.index\n",
    ")\n",
    "prediction_df[\"Metadata_Well\"] = df_values_Y_well[\"Metadata_Well\"]\n",
    "prediction_df[\"Metadata_Well\"].unique()"
   ]
  },
  {
   "cell_type": "code",
   "execution_count": 56,
   "id": "0cc04252",
   "metadata": {
    "execution": {
     "iopub.execute_input": "2023-08-25T20:31:20.920446Z",
     "iopub.status.busy": "2023-08-25T20:31:20.920278Z",
     "iopub.status.idle": "2023-08-25T20:31:20.922323Z",
     "shell.execute_reply": "2023-08-25T20:31:20.922060Z"
    },
    "papermill": {
     "duration": 0.017228,
     "end_time": "2023-08-25T20:31:20.923256",
     "exception": false,
     "start_time": "2023-08-25T20:31:20.906028",
     "status": "completed"
    },
    "tags": []
   },
   "outputs": [],
   "source": [
    "df_values_Y.reset_index(drop=True, inplace=True)\n",
    "prediction_df.reset_index(drop=True, inplace=True)"
   ]
  },
  {
   "cell_type": "code",
   "execution_count": 57,
   "id": "1cc2d1bf",
   "metadata": {
    "execution": {
     "iopub.execute_input": "2023-08-25T20:31:20.946465Z",
     "iopub.status.busy": "2023-08-25T20:31:20.946241Z",
     "iopub.status.idle": "2023-08-25T20:31:22.039046Z",
     "shell.execute_reply": "2023-08-25T20:31:22.038708Z"
    },
    "papermill": {
     "duration": 1.103343,
     "end_time": "2023-08-25T20:31:22.040022",
     "exception": false,
     "start_time": "2023-08-25T20:31:20.936679",
     "status": "completed"
    },
    "tags": []
   },
   "outputs": [
    {
     "name": "stderr",
     "output_type": "stream",
     "text": [
      "/home/lippincm/miniconda3/envs/Interstellar/lib/python3.10/site-packages/sklearn/metrics/_regression.py:996: UndefinedMetricWarning: R^2 score is not well-defined with less than two samples.\n",
      "  warnings.warn(msg, UndefinedMetricWarning)\n",
      "/home/lippincm/miniconda3/envs/Interstellar/lib/python3.10/site-packages/IPython/core/interactiveshell.py:3508: RankWarning: Polyfit may be poorly conditioned\n",
      "  exec(code_obj, self.user_global_ns, self.user_ns)\n"
     ]
    }
   ],
   "source": [
    "from sklearn.metrics import mean_squared_error, r2_score\n",
    "\n",
    "# get the list of columns in the test data\n",
    "test_data_columns = df_values_Y.columns.to_list()\n",
    "# loop through the columns\n",
    "for col in test_data_columns:\n",
    "    # get the column from test data\n",
    "    test_col = df_values_Y[col]\n",
    "    # get the column from prediction data\n",
    "    pred_col = prediction_df[col]\n",
    "    # list of treatment names\n",
    "    treatment_col = prediction_df[\"Metadata_Well\"]\n",
    "    # get the mse and r2 for the columns\n",
    "    mse = mean_squared_error(test_col, pred_col)\n",
    "    r_square = r2_score(test_col, pred_col)\n",
    "    a, b = np.polyfit(test_col, pred_col, 1)\n",
    "    index_dict = {}\n",
    "    for i in test_col.unique():\n",
    "        index_list = []\n",
    "        for j in enumerate(test_col):\n",
    "            if i == j[1]:\n",
    "                index_list.append(j[0])\n",
    "        index_dict[i] = index_list\n",
    "    new_value_dict = {}\n",
    "    for i in index_dict:\n",
    "        new_value_dict[i] = [\n",
    "            pred_col[index_dict[i]].median(),\n",
    "            treatment_col[index_dict[i]].unique().tolist()[0],\n",
    "        ]\n",
    "\n",
    "    df = (\n",
    "        pd.DataFrame.from_dict(new_value_dict, orient=\"index\")\n",
    "        .reset_index()\n",
    "        .rename(columns={\"index\": \"Actual\", 0: \"Average Predicted\", 1: \"Metadata_Well\"})\n",
    "    )\n",
    "    df[\"cytokine\"] = col\n",
    "    df[\"model_type\"] = \"holdout\"\n",
    "    df[\"shuffled_data\"] = mlp_params.SHUFFLE\n",
    "\n",
    "    testing_values = pd.concat([testing_values, df], axis=0)"
   ]
  },
  {
   "cell_type": "code",
   "execution_count": 58,
   "id": "bd9a8ed8",
   "metadata": {
    "execution": {
     "iopub.execute_input": "2023-08-25T20:31:22.068326Z",
     "iopub.status.busy": "2023-08-25T20:31:22.068182Z",
     "iopub.status.idle": "2023-08-25T20:31:22.072608Z",
     "shell.execute_reply": "2023-08-25T20:31:22.072370Z"
    },
    "papermill": {
     "duration": 0.019416,
     "end_time": "2023-08-25T20:31:22.073307",
     "exception": false,
     "start_time": "2023-08-25T20:31:22.053891",
     "status": "completed"
    },
    "tags": []
   },
   "outputs": [
    {
     "data": {
      "text/html": [
       "<div>\n",
       "<style scoped>\n",
       "    .dataframe tbody tr th:only-of-type {\n",
       "        vertical-align: middle;\n",
       "    }\n",
       "\n",
       "    .dataframe tbody tr th {\n",
       "        vertical-align: top;\n",
       "    }\n",
       "\n",
       "    .dataframe thead th {\n",
       "        text-align: right;\n",
       "    }\n",
       "</style>\n",
       "<table border=\"1\" class=\"dataframe\">\n",
       "  <thead>\n",
       "    <tr style=\"text-align: right;\">\n",
       "      <th></th>\n",
       "      <th>Metadata_Well</th>\n",
       "      <th>oneb_Metadata_Treatment_Dose_Inhibitor_Dose</th>\n",
       "    </tr>\n",
       "  </thead>\n",
       "  <tbody>\n",
       "    <tr>\n",
       "      <th>4</th>\n",
       "      <td>I06</td>\n",
       "      <td>DMSO_0.100_DMSO_0.025</td>\n",
       "    </tr>\n",
       "  </tbody>\n",
       "</table>\n",
       "</div>"
      ],
      "text/plain": [
       "  Metadata_Well oneb_Metadata_Treatment_Dose_Inhibitor_Dose\n",
       "4           I06                       DMSO_0.100_DMSO_0.025"
      ]
     },
     "execution_count": 58,
     "metadata": {},
     "output_type": "execute_result"
    }
   ],
   "source": [
    "# get the unique rows in a dataframe\n",
    "key_df = df_descriptive[\n",
    "    [\"Metadata_Well\", \"oneb_Metadata_Treatment_Dose_Inhibitor_Dose\"]\n",
    "].drop_duplicates()\n",
    "key_df"
   ]
  },
  {
   "cell_type": "code",
   "execution_count": 59,
   "id": "94b350d7",
   "metadata": {
    "execution": {
     "iopub.execute_input": "2023-08-25T20:31:22.098973Z",
     "iopub.status.busy": "2023-08-25T20:31:22.098854Z",
     "iopub.status.idle": "2023-08-25T20:31:22.101786Z",
     "shell.execute_reply": "2023-08-25T20:31:22.101542Z"
    },
    "papermill": {
     "duration": 0.015675,
     "end_time": "2023-08-25T20:31:22.102421",
     "exception": false,
     "start_time": "2023-08-25T20:31:22.086746",
     "status": "completed"
    },
    "tags": []
   },
   "outputs": [],
   "source": [
    "# add treatment column based on well\n",
    "testing_values = pd.merge(testing_values, key_df, on=\"Metadata_Well\", how=\"left\")"
   ]
  },
  {
   "cell_type": "code",
   "execution_count": 60,
   "id": "014f23ba",
   "metadata": {},
   "outputs": [
    {
     "data": {
      "text/html": [
       "<div>\n",
       "<style scoped>\n",
       "    .dataframe tbody tr th:only-of-type {\n",
       "        vertical-align: middle;\n",
       "    }\n",
       "\n",
       "    .dataframe tbody tr th {\n",
       "        vertical-align: top;\n",
       "    }\n",
       "\n",
       "    .dataframe thead th {\n",
       "        text-align: right;\n",
       "    }\n",
       "</style>\n",
       "<table border=\"1\" class=\"dataframe\">\n",
       "  <thead>\n",
       "    <tr style=\"text-align: right;\">\n",
       "      <th></th>\n",
       "      <th>Actual</th>\n",
       "      <th>Average Predicted</th>\n",
       "      <th>cytokine</th>\n",
       "      <th>Metadata_Well</th>\n",
       "      <th>model_type</th>\n",
       "      <th>shuffled_data</th>\n",
       "      <th>oneb_Metadata_Treatment_Dose_Inhibitor_Dose_x</th>\n",
       "      <th>oneb_Metadata_Treatment_Dose_Inhibitor_Dose_y</th>\n",
       "    </tr>\n",
       "  </thead>\n",
       "  <tbody>\n",
       "    <tr>\n",
       "      <th>0</th>\n",
       "      <td>0.028148</td>\n",
       "      <td>0.018317</td>\n",
       "      <td>IL-1 beta [NSU]</td>\n",
       "      <td>C07</td>\n",
       "      <td>train</td>\n",
       "      <td>False</td>\n",
       "      <td>DMSO_0.100_DMSO_0.025</td>\n",
       "      <td>NaN</td>\n",
       "    </tr>\n",
       "    <tr>\n",
       "      <th>1</th>\n",
       "      <td>0.040659</td>\n",
       "      <td>0.018317</td>\n",
       "      <td>IL-1 beta [NSU]</td>\n",
       "      <td>B07</td>\n",
       "      <td>train</td>\n",
       "      <td>False</td>\n",
       "      <td>DMSO_0.100_DMSO_0.025</td>\n",
       "      <td>NaN</td>\n",
       "    </tr>\n",
       "    <tr>\n",
       "      <th>2</th>\n",
       "      <td>0.018241</td>\n",
       "      <td>0.018317</td>\n",
       "      <td>IL-1 beta [NSU]</td>\n",
       "      <td>B06</td>\n",
       "      <td>train</td>\n",
       "      <td>False</td>\n",
       "      <td>DMSO_0.100_DMSO_0.025</td>\n",
       "      <td>NaN</td>\n",
       "    </tr>\n",
       "    <tr>\n",
       "      <th>3</th>\n",
       "      <td>0.030450</td>\n",
       "      <td>0.018317</td>\n",
       "      <td>IL-1 beta [NSU]</td>\n",
       "      <td>C06</td>\n",
       "      <td>train</td>\n",
       "      <td>False</td>\n",
       "      <td>DMSO_0.100_DMSO_0.025</td>\n",
       "      <td>NaN</td>\n",
       "    </tr>\n",
       "    <tr>\n",
       "      <th>4</th>\n",
       "      <td>0.021020</td>\n",
       "      <td>0.018317</td>\n",
       "      <td>IL-1 beta [NSU]</td>\n",
       "      <td>J06</td>\n",
       "      <td>train</td>\n",
       "      <td>False</td>\n",
       "      <td>DMSO_0.100_DMSO_0.025</td>\n",
       "      <td>NaN</td>\n",
       "    </tr>\n",
       "    <tr>\n",
       "      <th>5</th>\n",
       "      <td>0.038622</td>\n",
       "      <td>0.018317</td>\n",
       "      <td>IL-1 beta [NSU]</td>\n",
       "      <td>J07</td>\n",
       "      <td>validation</td>\n",
       "      <td>False</td>\n",
       "      <td>DMSO_0.100_DMSO_0.025</td>\n",
       "      <td>NaN</td>\n",
       "    </tr>\n",
       "    <tr>\n",
       "      <th>6</th>\n",
       "      <td>0.026229</td>\n",
       "      <td>0.018317</td>\n",
       "      <td>IL-1 beta [NSU]</td>\n",
       "      <td>I07</td>\n",
       "      <td>test</td>\n",
       "      <td>False</td>\n",
       "      <td>DMSO_0.100_DMSO_0.025</td>\n",
       "      <td>NaN</td>\n",
       "    </tr>\n",
       "    <tr>\n",
       "      <th>7</th>\n",
       "      <td>0.025924</td>\n",
       "      <td>0.018317</td>\n",
       "      <td>IL-1 beta [NSU]</td>\n",
       "      <td>I06</td>\n",
       "      <td>holdout</td>\n",
       "      <td>False</td>\n",
       "      <td>NaN</td>\n",
       "      <td>DMSO_0.100_DMSO_0.025</td>\n",
       "    </tr>\n",
       "  </tbody>\n",
       "</table>\n",
       "</div>"
      ],
      "text/plain": [
       "     Actual  Average Predicted         cytokine Metadata_Well  model_type  \\\n",
       "0  0.028148           0.018317  IL-1 beta [NSU]           C07       train   \n",
       "1  0.040659           0.018317  IL-1 beta [NSU]           B07       train   \n",
       "2  0.018241           0.018317  IL-1 beta [NSU]           B06       train   \n",
       "3  0.030450           0.018317  IL-1 beta [NSU]           C06       train   \n",
       "4  0.021020           0.018317  IL-1 beta [NSU]           J06       train   \n",
       "5  0.038622           0.018317  IL-1 beta [NSU]           J07  validation   \n",
       "6  0.026229           0.018317  IL-1 beta [NSU]           I07        test   \n",
       "7  0.025924           0.018317  IL-1 beta [NSU]           I06     holdout   \n",
       "\n",
       "  shuffled_data oneb_Metadata_Treatment_Dose_Inhibitor_Dose_x  \\\n",
       "0         False                         DMSO_0.100_DMSO_0.025   \n",
       "1         False                         DMSO_0.100_DMSO_0.025   \n",
       "2         False                         DMSO_0.100_DMSO_0.025   \n",
       "3         False                         DMSO_0.100_DMSO_0.025   \n",
       "4         False                         DMSO_0.100_DMSO_0.025   \n",
       "5         False                         DMSO_0.100_DMSO_0.025   \n",
       "6         False                         DMSO_0.100_DMSO_0.025   \n",
       "7         False                                           NaN   \n",
       "\n",
       "  oneb_Metadata_Treatment_Dose_Inhibitor_Dose_y  \n",
       "0                                           NaN  \n",
       "1                                           NaN  \n",
       "2                                           NaN  \n",
       "3                                           NaN  \n",
       "4                                           NaN  \n",
       "5                                           NaN  \n",
       "6                                           NaN  \n",
       "7                         DMSO_0.100_DMSO_0.025  "
      ]
     },
     "execution_count": 60,
     "metadata": {},
     "output_type": "execute_result"
    }
   ],
   "source": [
    "testing_values"
   ]
  },
  {
   "cell_type": "code",
   "execution_count": 61,
   "id": "fed3beb4",
   "metadata": {
    "execution": {
     "iopub.execute_input": "2023-08-25T20:31:22.119088Z",
     "iopub.status.busy": "2023-08-25T20:31:22.118916Z",
     "iopub.status.idle": "2023-08-25T20:31:22.125281Z",
     "shell.execute_reply": "2023-08-25T20:31:22.125043Z"
    },
    "papermill": {
     "duration": 0.015413,
     "end_time": "2023-08-25T20:31:22.125889",
     "exception": false,
     "start_time": "2023-08-25T20:31:22.110476",
     "status": "completed"
    },
    "tags": []
   },
   "outputs": [
    {
     "data": {
      "text/html": [
       "<div>\n",
       "<style scoped>\n",
       "    .dataframe tbody tr th:only-of-type {\n",
       "        vertical-align: middle;\n",
       "    }\n",
       "\n",
       "    .dataframe tbody tr th {\n",
       "        vertical-align: top;\n",
       "    }\n",
       "\n",
       "    .dataframe thead th {\n",
       "        text-align: right;\n",
       "    }\n",
       "</style>\n",
       "<table border=\"1\" class=\"dataframe\">\n",
       "  <thead>\n",
       "    <tr style=\"text-align: right;\">\n",
       "      <th></th>\n",
       "      <th>Actual</th>\n",
       "      <th>Average Predicted</th>\n",
       "      <th>cytokine</th>\n",
       "      <th>Metadata_Well</th>\n",
       "      <th>model_type</th>\n",
       "      <th>shuffled_data</th>\n",
       "      <th>oneb_Metadata_Treatment_Dose_Inhibitor_Dose</th>\n",
       "    </tr>\n",
       "  </thead>\n",
       "  <tbody>\n",
       "    <tr>\n",
       "      <th>0</th>\n",
       "      <td>0.028148</td>\n",
       "      <td>0.018317</td>\n",
       "      <td>IL-1 beta [NSU]</td>\n",
       "      <td>C07</td>\n",
       "      <td>train</td>\n",
       "      <td>False</td>\n",
       "      <td>DMSO_0.100_DMSO_0.025</td>\n",
       "    </tr>\n",
       "    <tr>\n",
       "      <th>1</th>\n",
       "      <td>0.040659</td>\n",
       "      <td>0.018317</td>\n",
       "      <td>IL-1 beta [NSU]</td>\n",
       "      <td>B07</td>\n",
       "      <td>train</td>\n",
       "      <td>False</td>\n",
       "      <td>DMSO_0.100_DMSO_0.025</td>\n",
       "    </tr>\n",
       "    <tr>\n",
       "      <th>2</th>\n",
       "      <td>0.018241</td>\n",
       "      <td>0.018317</td>\n",
       "      <td>IL-1 beta [NSU]</td>\n",
       "      <td>B06</td>\n",
       "      <td>train</td>\n",
       "      <td>False</td>\n",
       "      <td>DMSO_0.100_DMSO_0.025</td>\n",
       "    </tr>\n",
       "    <tr>\n",
       "      <th>3</th>\n",
       "      <td>0.030450</td>\n",
       "      <td>0.018317</td>\n",
       "      <td>IL-1 beta [NSU]</td>\n",
       "      <td>C06</td>\n",
       "      <td>train</td>\n",
       "      <td>False</td>\n",
       "      <td>DMSO_0.100_DMSO_0.025</td>\n",
       "    </tr>\n",
       "    <tr>\n",
       "      <th>4</th>\n",
       "      <td>0.021020</td>\n",
       "      <td>0.018317</td>\n",
       "      <td>IL-1 beta [NSU]</td>\n",
       "      <td>J06</td>\n",
       "      <td>train</td>\n",
       "      <td>False</td>\n",
       "      <td>DMSO_0.100_DMSO_0.025</td>\n",
       "    </tr>\n",
       "    <tr>\n",
       "      <th>5</th>\n",
       "      <td>0.038622</td>\n",
       "      <td>0.018317</td>\n",
       "      <td>IL-1 beta [NSU]</td>\n",
       "      <td>J07</td>\n",
       "      <td>validation</td>\n",
       "      <td>False</td>\n",
       "      <td>DMSO_0.100_DMSO_0.025</td>\n",
       "    </tr>\n",
       "    <tr>\n",
       "      <th>6</th>\n",
       "      <td>0.026229</td>\n",
       "      <td>0.018317</td>\n",
       "      <td>IL-1 beta [NSU]</td>\n",
       "      <td>I07</td>\n",
       "      <td>test</td>\n",
       "      <td>False</td>\n",
       "      <td>DMSO_0.100_DMSO_0.025</td>\n",
       "    </tr>\n",
       "    <tr>\n",
       "      <th>7</th>\n",
       "      <td>0.025924</td>\n",
       "      <td>0.018317</td>\n",
       "      <td>IL-1 beta [NSU]</td>\n",
       "      <td>I06</td>\n",
       "      <td>holdout</td>\n",
       "      <td>False</td>\n",
       "      <td>DMSO_0.100_DMSO_0.025</td>\n",
       "    </tr>\n",
       "  </tbody>\n",
       "</table>\n",
       "</div>"
      ],
      "text/plain": [
       "     Actual  Average Predicted         cytokine Metadata_Well  model_type  \\\n",
       "0  0.028148           0.018317  IL-1 beta [NSU]           C07       train   \n",
       "1  0.040659           0.018317  IL-1 beta [NSU]           B07       train   \n",
       "2  0.018241           0.018317  IL-1 beta [NSU]           B06       train   \n",
       "3  0.030450           0.018317  IL-1 beta [NSU]           C06       train   \n",
       "4  0.021020           0.018317  IL-1 beta [NSU]           J06       train   \n",
       "5  0.038622           0.018317  IL-1 beta [NSU]           J07  validation   \n",
       "6  0.026229           0.018317  IL-1 beta [NSU]           I07        test   \n",
       "7  0.025924           0.018317  IL-1 beta [NSU]           I06     holdout   \n",
       "\n",
       "  shuffled_data oneb_Metadata_Treatment_Dose_Inhibitor_Dose  \n",
       "0         False                       DMSO_0.100_DMSO_0.025  \n",
       "1         False                       DMSO_0.100_DMSO_0.025  \n",
       "2         False                       DMSO_0.100_DMSO_0.025  \n",
       "3         False                       DMSO_0.100_DMSO_0.025  \n",
       "4         False                       DMSO_0.100_DMSO_0.025  \n",
       "5         False                       DMSO_0.100_DMSO_0.025  \n",
       "6         False                       DMSO_0.100_DMSO_0.025  \n",
       "7         False                       DMSO_0.100_DMSO_0.025  "
      ]
     },
     "execution_count": 61,
     "metadata": {},
     "output_type": "execute_result"
    }
   ],
   "source": [
    "# merge the x and y columns together and drop the nan values\n",
    "testing_values[\"oneb_Metadata_Treatment_Dose_Inhibitor_Dose\"] = testing_values[\n",
    "    \"oneb_Metadata_Treatment_Dose_Inhibitor_Dose_x\"\n",
    "].fillna(testing_values[\"oneb_Metadata_Treatment_Dose_Inhibitor_Dose_y\"])\n",
    "testing_values.drop(\n",
    "    columns=[\n",
    "        \"oneb_Metadata_Treatment_Dose_Inhibitor_Dose_x\",\n",
    "        \"oneb_Metadata_Treatment_Dose_Inhibitor_Dose_y\",\n",
    "    ],\n",
    "    inplace=True,\n",
    ")\n",
    "testing_values"
   ]
  },
  {
   "cell_type": "code",
   "execution_count": 62,
   "id": "d30140e3",
   "metadata": {},
   "outputs": [
    {
     "data": {
      "text/plain": [
       "Sequential(\n",
       "  (0): Linear(in_features=1245, out_features=3, bias=True)\n",
       "  (1): ReLU()\n",
       "  (2): Dropout(p=0.40985422083877227, inplace=False)\n",
       "  (3): Linear(in_features=3, out_features=2, bias=True)\n",
       "  (4): ReLU()\n",
       "  (5): Dropout(p=0.1943899612624775, inplace=False)\n",
       "  (6): Linear(in_features=2, out_features=1, bias=True)\n",
       ")"
      ]
     },
     "execution_count": 62,
     "metadata": {},
     "output_type": "execute_result"
    }
   ],
   "source": [
    "model"
   ]
  },
  {
   "cell_type": "code",
   "execution_count": 63,
   "id": "1f5f5896",
   "metadata": {
    "execution": {
     "iopub.execute_input": "2023-08-25T20:31:22.143086Z",
     "iopub.status.busy": "2023-08-25T20:31:22.142843Z",
     "iopub.status.idle": "2023-08-25T20:31:22.166439Z",
     "shell.execute_reply": "2023-08-25T20:31:22.166164Z"
    },
    "papermill": {
     "duration": 0.033114,
     "end_time": "2023-08-25T20:31:22.167304",
     "exception": false,
     "start_time": "2023-08-25T20:31:22.134190",
     "status": "completed"
    },
    "tags": []
   },
   "outputs": [],
   "source": [
    "# set path for the model training metrics\n",
    "metrics_path = pathlib.Path(\n",
    "    f\"../../results/{mlp_params.MODEL_TYPE}/{mlp_params.MODEL_NAME}/{mlp_params.CELL_TYPE}\"\n",
    ")\n",
    "metrics_path.mkdir(parents=True, exist_ok=True)\n",
    "# check if the model training metrics file exists\n",
    "metrics_file = pathlib.Path(f\"{metrics_path}/regression_results_training.csv\")\n",
    "if metrics_file.exists():\n",
    "    metrics_df = pd.read_csv(metrics_file)\n",
    "    if len(metrics_df[\"shuffled_data\"].unique()) > 1:\n",
    "        pass\n",
    "    elif metrics_df[\"shuffled_data\"].unique() == mlp_params.SHUFFLE:\n",
    "        pass\n",
    "    else:\n",
    "        metrics_df = pd.concat([metrics_df, testing_values], axis=0)\n",
    "        metrics_df.to_csv(metrics_file, index=False)\n",
    "else:\n",
    "    testing_values.to_csv(metrics_file, index=False)"
   ]
  },
  {
   "cell_type": "markdown",
   "id": "dde9849d",
   "metadata": {
    "papermill": {
     "duration": 0.008188,
     "end_time": "2023-08-25T20:31:22.183893",
     "exception": false,
     "start_time": "2023-08-25T20:31:22.175705",
     "status": "completed"
    },
    "tags": []
   },
   "source": [
    "#"
   ]
  },
  {
   "cell_type": "code",
   "execution_count": 64,
   "id": "963a77b1",
   "metadata": {},
   "outputs": [
    {
     "data": {
      "text/html": [
       "<div>\n",
       "<style scoped>\n",
       "    .dataframe tbody tr th:only-of-type {\n",
       "        vertical-align: middle;\n",
       "    }\n",
       "\n",
       "    .dataframe tbody tr th {\n",
       "        vertical-align: top;\n",
       "    }\n",
       "\n",
       "    .dataframe thead th {\n",
       "        text-align: right;\n",
       "    }\n",
       "</style>\n",
       "<table border=\"1\" class=\"dataframe\">\n",
       "  <thead>\n",
       "    <tr style=\"text-align: right;\">\n",
       "      <th></th>\n",
       "      <th>Actual</th>\n",
       "      <th>Average Predicted</th>\n",
       "      <th>cytokine</th>\n",
       "      <th>Metadata_Well</th>\n",
       "      <th>model_type</th>\n",
       "      <th>shuffled_data</th>\n",
       "      <th>oneb_Metadata_Treatment_Dose_Inhibitor_Dose</th>\n",
       "    </tr>\n",
       "  </thead>\n",
       "  <tbody>\n",
       "    <tr>\n",
       "      <th>0</th>\n",
       "      <td>0.028148</td>\n",
       "      <td>0.018317</td>\n",
       "      <td>IL-1 beta [NSU]</td>\n",
       "      <td>C07</td>\n",
       "      <td>train</td>\n",
       "      <td>False</td>\n",
       "      <td>DMSO_0.100_DMSO_0.025</td>\n",
       "    </tr>\n",
       "    <tr>\n",
       "      <th>1</th>\n",
       "      <td>0.040659</td>\n",
       "      <td>0.018317</td>\n",
       "      <td>IL-1 beta [NSU]</td>\n",
       "      <td>B07</td>\n",
       "      <td>train</td>\n",
       "      <td>False</td>\n",
       "      <td>DMSO_0.100_DMSO_0.025</td>\n",
       "    </tr>\n",
       "    <tr>\n",
       "      <th>2</th>\n",
       "      <td>0.018241</td>\n",
       "      <td>0.018317</td>\n",
       "      <td>IL-1 beta [NSU]</td>\n",
       "      <td>B06</td>\n",
       "      <td>train</td>\n",
       "      <td>False</td>\n",
       "      <td>DMSO_0.100_DMSO_0.025</td>\n",
       "    </tr>\n",
       "    <tr>\n",
       "      <th>3</th>\n",
       "      <td>0.030450</td>\n",
       "      <td>0.018317</td>\n",
       "      <td>IL-1 beta [NSU]</td>\n",
       "      <td>C06</td>\n",
       "      <td>train</td>\n",
       "      <td>False</td>\n",
       "      <td>DMSO_0.100_DMSO_0.025</td>\n",
       "    </tr>\n",
       "    <tr>\n",
       "      <th>4</th>\n",
       "      <td>0.021020</td>\n",
       "      <td>0.018317</td>\n",
       "      <td>IL-1 beta [NSU]</td>\n",
       "      <td>J06</td>\n",
       "      <td>train</td>\n",
       "      <td>False</td>\n",
       "      <td>DMSO_0.100_DMSO_0.025</td>\n",
       "    </tr>\n",
       "    <tr>\n",
       "      <th>5</th>\n",
       "      <td>0.038622</td>\n",
       "      <td>0.018317</td>\n",
       "      <td>IL-1 beta [NSU]</td>\n",
       "      <td>J07</td>\n",
       "      <td>validation</td>\n",
       "      <td>False</td>\n",
       "      <td>DMSO_0.100_DMSO_0.025</td>\n",
       "    </tr>\n",
       "    <tr>\n",
       "      <th>6</th>\n",
       "      <td>0.026229</td>\n",
       "      <td>0.018317</td>\n",
       "      <td>IL-1 beta [NSU]</td>\n",
       "      <td>I07</td>\n",
       "      <td>test</td>\n",
       "      <td>False</td>\n",
       "      <td>DMSO_0.100_DMSO_0.025</td>\n",
       "    </tr>\n",
       "    <tr>\n",
       "      <th>7</th>\n",
       "      <td>0.025924</td>\n",
       "      <td>0.018317</td>\n",
       "      <td>IL-1 beta [NSU]</td>\n",
       "      <td>I06</td>\n",
       "      <td>holdout</td>\n",
       "      <td>False</td>\n",
       "      <td>DMSO_0.100_DMSO_0.025</td>\n",
       "    </tr>\n",
       "  </tbody>\n",
       "</table>\n",
       "</div>"
      ],
      "text/plain": [
       "     Actual  Average Predicted         cytokine Metadata_Well  model_type  \\\n",
       "0  0.028148           0.018317  IL-1 beta [NSU]           C07       train   \n",
       "1  0.040659           0.018317  IL-1 beta [NSU]           B07       train   \n",
       "2  0.018241           0.018317  IL-1 beta [NSU]           B06       train   \n",
       "3  0.030450           0.018317  IL-1 beta [NSU]           C06       train   \n",
       "4  0.021020           0.018317  IL-1 beta [NSU]           J06       train   \n",
       "5  0.038622           0.018317  IL-1 beta [NSU]           J07  validation   \n",
       "6  0.026229           0.018317  IL-1 beta [NSU]           I07        test   \n",
       "7  0.025924           0.018317  IL-1 beta [NSU]           I06     holdout   \n",
       "\n",
       "  shuffled_data oneb_Metadata_Treatment_Dose_Inhibitor_Dose  \n",
       "0         False                       DMSO_0.100_DMSO_0.025  \n",
       "1         False                       DMSO_0.100_DMSO_0.025  \n",
       "2         False                       DMSO_0.100_DMSO_0.025  \n",
       "3         False                       DMSO_0.100_DMSO_0.025  \n",
       "4         False                       DMSO_0.100_DMSO_0.025  \n",
       "5         False                       DMSO_0.100_DMSO_0.025  \n",
       "6         False                       DMSO_0.100_DMSO_0.025  \n",
       "7         False                       DMSO_0.100_DMSO_0.025  "
      ]
     },
     "execution_count": 64,
     "metadata": {},
     "output_type": "execute_result"
    }
   ],
   "source": [
    "testing_values"
   ]
  },
  {
   "cell_type": "code",
   "execution_count": 65,
   "id": "af4eb347",
   "metadata": {},
   "outputs": [
    {
     "data": {
      "text/plain": [
       "array(['DMSO_0.100_DMSO_0.025'], dtype=object)"
      ]
     },
     "execution_count": 65,
     "metadata": {},
     "output_type": "execute_result"
    }
   ],
   "source": [
    "testing_values[\"oneb_Metadata_Treatment_Dose_Inhibitor_Dose\"].unique()"
   ]
  }
 ],
 "metadata": {
  "kernelspec": {
   "display_name": "Interstellar",
   "language": "python",
   "name": "python3"
  },
  "language_info": {
   "codemirror_mode": {
    "name": "ipython",
    "version": 3
   },
   "file_extension": ".py",
   "mimetype": "text/x-python",
   "name": "python",
   "nbconvert_exporter": "python",
   "pygments_lexer": "ipython3",
   "version": "3.10.12"
  },
  "papermill": {
   "default_parameters": {},
   "duration": 53.109964,
   "end_time": "2023-08-25T20:31:22.910895",
   "environment_variables": {},
   "exception": null,
   "input_path": "train_regression_model.ipynb",
   "output_path": "train_regression_model.ipynb",
   "parameters": {
    "CELL_TYPE": "SHSY5Y",
    "CONTROL_NAME": "DMSO_0.100_DMSO_0.025",
    "MODEL_NAME": "DMSO_0.025_vs_Thapsigargin_1",
    "SHUFFLE": false,
    "TREATMENT_NAME": "Thapsigargin_1.000_DMSO_0.025"
   },
   "start_time": "2023-08-25T20:30:29.800931",
   "version": "2.4.0"
  }
 },
 "nbformat": 4,
 "nbformat_minor": 5
}
