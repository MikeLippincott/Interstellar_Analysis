{
 "cells": [
  {
   "cell_type": "code",
   "execution_count": null,
   "id": "e5d22684",
   "metadata": {
    "execution": {
     "iopub.execute_input": "2023-08-04T01:18:38.674211Z",
     "iopub.status.busy": "2023-08-04T01:18:38.674002Z",
     "iopub.status.idle": "2023-08-04T01:18:40.116661Z",
     "shell.execute_reply": "2023-08-04T01:18:40.116214Z"
    },
    "papermill": {
     "duration": 1.445559,
     "end_time": "2023-08-04T01:18:40.117777",
     "exception": false,
     "start_time": "2023-08-04T01:18:38.672218",
     "status": "completed"
    },
    "tags": []
   },
   "outputs": [],
   "source": [
    "import sys\n",
    "from pathlib import Path\n",
    "\n",
    "import matplotlib.pyplot as plt\n",
    "import numpy as np\n",
    "import pandas as pd\n",
    "import plotly\n",
    "import pyarrow.parquet as pq\n",
    "import seaborn as sns\n",
    "import toml\n",
    "import torch\n",
    "import torch.nn as nn\n",
    "import torch.optim as optim\n",
    "from sklearn import preprocessing\n",
    "from sklearn.metrics import (\n",
    "    auc,\n",
    "    confusion_matrix,\n",
    "    precision_score,\n",
    "    recall_score,\n",
    "    roc_auc_score,\n",
    "    roc_curve,\n",
    ")\n",
    "from sklearn.model_selection import train_test_split\n",
    "\n",
    "sys.path.append(\"../..\")\n",
    "from MLP_utils.exceptions import ModelNameError\n",
    "from MLP_utils.parameters import Parameters\n",
    "from MLP_utils.utils import (\n",
    "    Dataset_formatter,\n",
    "    data_split,\n",
    "    extract_best_trial_params,\n",
    "    objective_model_optimizer,\n",
    "    optimized_model_create,\n",
    "    parameter_set,\n",
    "    plot_metric_vs_epoch,\n",
    "    results_output,\n",
    "    test_optimized_model,\n",
    "    train_optimized_model,\n",
    "    un_nest,\n",
    ")\n",
    "\n",
    "sys.path.append(\"../../..\")\n",
    "from utils.utils import df_stats"
   ]
  },
  {
   "cell_type": "code",
   "execution_count": null,
   "id": "56b5c8dd",
   "metadata": {
    "execution": {
     "iopub.execute_input": "2023-08-04T01:18:38.665338Z",
     "iopub.status.busy": "2023-08-04T01:18:38.664920Z",
     "iopub.status.idle": "2023-08-04T01:18:38.670123Z",
     "shell.execute_reply": "2023-08-04T01:18:38.669786Z"
    },
    "papermill": {
     "duration": 0.008438,
     "end_time": "2023-08-04T01:18:38.670779",
     "exception": false,
     "start_time": "2023-08-04T01:18:38.662341",
     "status": "completed"
    },
    "tags": [
     "injected-parameters"
    ]
   },
   "outputs": [],
   "source": [
    "# Parameters\n",
    "SHUFFLE_DATA = True\n",
    "CELL_TYPE = \"SHSY5Y\"\n",
    "CONTROL_NAME = \"DMSO_0.100_DMSO_0.025\"\n",
    "TREATMENT_NAME = \"LPS_100.000_DMSO_0.025\"\n",
    "MODEL_NAME = \"DMSO_0.025_vs_LPS_100\""
   ]
  },
  {
   "cell_type": "code",
   "execution_count": null,
   "id": "c55e810d",
   "metadata": {
    "execution": {
     "iopub.execute_input": "2023-08-04T01:18:40.130465Z",
     "iopub.status.busy": "2023-08-04T01:18:40.130169Z",
     "iopub.status.idle": "2023-08-04T01:18:40.133561Z",
     "shell.execute_reply": "2023-08-04T01:18:40.133260Z"
    },
    "papermill": {
     "duration": 0.006395,
     "end_time": "2023-08-04T01:18:40.134257",
     "exception": false,
     "start_time": "2023-08-04T01:18:40.127862",
     "status": "completed"
    },
    "tags": []
   },
   "outputs": [],
   "source": [
    "data = Path(\"../../MLP_utils/binary_config.toml\")\n",
    "config = toml.load(data)\n",
    "params = Parameters()\n",
    "params = parameter_set(params, config)\n",
    "\n",
    "# overwrite params via command line arguments from papermill\n",
    "params.CELL_TYPE = CELL_TYPE\n",
    "params.MODEL_NAME = MODEL_NAME\n",
    "params.CONTROL_NAME = CONTROL_NAME\n",
    "params.TREATMENT_NAME = TREATMENT_NAME\n",
    "params.MODEL_NAME = MODEL_NAME"
   ]
  },
  {
   "cell_type": "code",
   "execution_count": null,
   "id": "7beec5f7",
   "metadata": {
    "execution": {
     "iopub.execute_input": "2023-08-04T01:18:40.138230Z",
     "iopub.status.busy": "2023-08-04T01:18:40.137966Z",
     "iopub.status.idle": "2023-08-04T01:18:40.140059Z",
     "shell.execute_reply": "2023-08-04T01:18:40.139725Z"
    },
    "papermill": {
     "duration": 0.005017,
     "end_time": "2023-08-04T01:18:40.140776",
     "exception": false,
     "start_time": "2023-08-04T01:18:40.135759",
     "status": "completed"
    },
    "tags": []
   },
   "outputs": [],
   "source": [
    "if SHUFFLE_DATA:\n",
    "    params.MODEL_NAME = params.MODEL_NAME + \"_shuffled\"\n",
    "elif not SHUFFLE_DATA:\n",
    "    pass\n",
    "else:\n",
    "    raise ModelNameError"
   ]
  },
  {
   "cell_type": "code",
   "execution_count": null,
   "id": "eed3021f",
   "metadata": {
    "execution": {
     "iopub.execute_input": "2023-08-04T01:18:40.144582Z",
     "iopub.status.busy": "2023-08-04T01:18:40.144297Z",
     "iopub.status.idle": "2023-08-04T01:18:42.542445Z",
     "shell.execute_reply": "2023-08-04T01:18:42.541940Z"
    },
    "papermill": {
     "duration": 2.401476,
     "end_time": "2023-08-04T01:18:42.543606",
     "exception": false,
     "start_time": "2023-08-04T01:18:40.142130",
     "status": "completed"
    },
    "tags": []
   },
   "outputs": [],
   "source": [
    "# Import Data\n",
    "# set data file path under pathlib path for multi-system use\n",
    "file_path = Path(f\"../../../data/{params.CELL_TYPE}_preprocessed_sc_norm.parquet\")\n",
    "\n",
    "df = pq.read_table(file_path).to_pandas()"
   ]
  },
  {
   "cell_type": "code",
   "execution_count": null,
   "id": "bfe1e780",
   "metadata": {
    "execution": {
     "iopub.execute_input": "2023-08-04T01:18:42.547327Z",
     "iopub.status.busy": "2023-08-04T01:18:42.547122Z",
     "iopub.status.idle": "2023-08-04T01:18:42.552508Z",
     "shell.execute_reply": "2023-08-04T01:18:42.552115Z"
    },
    "papermill": {
     "duration": 0.007996,
     "end_time": "2023-08-04T01:18:42.553198",
     "exception": false,
     "start_time": "2023-08-04T01:18:42.545202",
     "status": "completed"
    },
    "tags": []
   },
   "outputs": [],
   "source": [
    "def test_loop(df, output_name, title):\n",
    "    # Code snippet for metadata extraction by Jenna Tomkinson\n",
    "    df_metadata = list(df.columns[df.columns.str.startswith(\"Metadata\")])\n",
    "\n",
    "    # define which columns are data and which are descriptive\n",
    "    df_descriptive = df[df_metadata]\n",
    "    df_values = df.drop(columns=df_metadata)\n",
    "    # Creating label encoder\n",
    "    le = preprocessing.LabelEncoder()\n",
    "    # Converting strings into numbers\n",
    "    df_values[\"oneb_Metadata_Treatment_Dose_Inhibitor_Dose\"] = le.fit_transform(\n",
    "        df_values[\"oneb_Metadata_Treatment_Dose_Inhibitor_Dose\"]\n",
    "    )\n",
    "    # split into X and Y where Y are the predictive column and x are the observable data\n",
    "    df_values_X = df_values.drop(\n",
    "        [\n",
    "            \"oneb_Metadata_Treatment_Dose_Inhibitor_Dose\",\n",
    "            \"twob_Metadata_Treatment_Dose_Inhibitor_Dose\",\n",
    "            \"threeb_Metadata_Treatment_Dose_Inhibitor_Dose\",\n",
    "            \"fourb_Metadata_Treatment_Dose_Inhibitor_Dose\",\n",
    "        ],\n",
    "        axis=1,\n",
    "    )\n",
    "    df_values_Y = df_values[\"oneb_Metadata_Treatment_Dose_Inhibitor_Dose\"]\n",
    "    test_data = Dataset_formatter(\n",
    "        torch.FloatTensor(df_values_X.values), torch.FloatTensor(df_values_Y.values)\n",
    "    )\n",
    "\n",
    "    params.IN_FEATURES = df_values_X.shape[1]\n",
    "    print(\"Number of in features: \", params.IN_FEATURES)\n",
    "    if params.MODEL_TYPE == \"Regression\":\n",
    "        params.OUT_FEATURES = 1\n",
    "    else:\n",
    "        params.OUT_FEATURES = len(\n",
    "            df_values[\"oneb_Metadata_Treatment_Dose_Inhibitor_Dose\"].unique()\n",
    "        )\n",
    "\n",
    "    print(\"Number of out features: \", params.OUT_FEATURES)\n",
    "\n",
    "    if params.OUT_FEATURES > 2:\n",
    "        params.MODEL_TYPE = \"Multi_Class\"\n",
    "    elif params.OUT_FEATURES == 2:\n",
    "        params.OUT_FEATURES = params.OUT_FEATURES - 1\n",
    "        params.MODEL_TYPE = \"Binary_Classification\"\n",
    "    elif params.OUT_FEATURES == 1:\n",
    "        params.MODEL_TYPE = \"Regression\"\n",
    "    else:\n",
    "        pass\n",
    "    print(params.MODEL_TYPE)\n",
    "\n",
    "    # convert data class into a dataloader to be compatible with pytorch\n",
    "    test_loader = torch.utils.data.DataLoader(dataset=test_data, batch_size=1)\n",
    "    model = optimized_model_create(params, params.MODEL_NAME)\n",
    "    # calling the testing function and outputting list values of tested model\n",
    "    if params.MODEL_TYPE == \"Multi_Class\" or params.MODEL_TYPE == \"Regression\":\n",
    "        y_pred_list = test_optimized_model(\n",
    "            model, test_loader, params, model_name=params.MODEL_NAME\n",
    "        )\n",
    "    elif params.MODEL_TYPE == \"Binary_Classification\":\n",
    "        y_pred_list, y_pred_prob_list = test_optimized_model(\n",
    "            model, test_loader, params, model_name=params.MODEL_NAME\n",
    "        )\n",
    "    else:\n",
    "        raise Exception(\"Model type must be specified for proper model testing\")\n",
    "\n",
    "    # un-nest list if nested i.e. length of input data does not match length of output data\n",
    "    if len(y_pred_list) != len(df_values_Y):\n",
    "        y_pred_list = un_nest(y_pred_list)\n",
    "        y_pred_prob_list = un_nest(y_pred_prob_list)\n",
    "    else:\n",
    "        pass\n",
    "    # Call visualization function\n",
    "    # calling the testing function and outputting list values of tested model\n",
    "    if params.MODEL_TYPE == \"Multi_Class\" or params.MODEL_TYPE == \"Regression\":\n",
    "        confusion_matrix_df = results_output(\n",
    "            y_pred_list,\n",
    "            df_values_Y,\n",
    "            params,\n",
    "            test_name=f\"{output_name}_all_testing\",\n",
    "            model_name=params.MODEL_NAME,\n",
    "        )\n",
    "    elif params.MODEL_TYPE == \"Binary_Classification\":\n",
    "        results_output(\n",
    "            y_pred_list,\n",
    "            df_values_Y,\n",
    "            params,\n",
    "            y_pred_prob_list,\n",
    "            test_name=f\"{output_name}_all_testing\",\n",
    "            model_name=params.MODEL_NAME,\n",
    "            title=title,\n",
    "        )\n",
    "    else:\n",
    "        raise Exception(\"Model type must be specified for proper model testing\")"
   ]
  },
  {
   "cell_type": "code",
   "execution_count": null,
   "id": "42485ec2",
   "metadata": {
    "execution": {
     "iopub.execute_input": "2023-08-04T01:18:42.556371Z",
     "iopub.status.busy": "2023-08-04T01:18:42.556204Z",
     "iopub.status.idle": "2023-08-04T01:18:42.606703Z",
     "shell.execute_reply": "2023-08-04T01:18:42.606317Z"
    },
    "papermill": {
     "duration": 0.053103,
     "end_time": "2023-08-04T01:18:42.607493",
     "exception": false,
     "start_time": "2023-08-04T01:18:42.554390",
     "status": "completed"
    },
    "tags": []
   },
   "outputs": [],
   "source": [
    "df[\"oneb_Metadata_Treatment_Dose_Inhibitor_Dose\"].unique()"
   ]
  },
  {
   "cell_type": "code",
   "execution_count": null,
   "id": "6d720af4",
   "metadata": {
    "execution": {
     "iopub.execute_input": "2023-08-04T01:18:42.611749Z",
     "iopub.status.busy": "2023-08-04T01:18:42.611396Z",
     "iopub.status.idle": "2023-08-04T01:18:42.614570Z",
     "shell.execute_reply": "2023-08-04T01:18:42.614265Z"
    },
    "papermill": {
     "duration": 0.005921,
     "end_time": "2023-08-04T01:18:42.615306",
     "exception": false,
     "start_time": "2023-08-04T01:18:42.609385",
     "status": "completed"
    },
    "tags": []
   },
   "outputs": [],
   "source": [
    "paired_treatment_list = [\n",
    "    [\"DMSO_0.100_DMSO_0.025\", \"LPS_100.000_DMSO_0.025\"],\n",
    "    [\"DMSO_0.100_DMSO_0.025\", \"Thapsigargin_1.000_DMSO_0.025\"],\n",
    "    [\"DMSO_0.100_DMSO_0.025\", \"Thapsigargin_10.000_DMSO_0.025\"],\n",
    "    [\"DMSO_0.100_DMSO_0.025\", \"LPS_0.100_DMSO_0.025\"],\n",
    "    [\"DMSO_0.100_DMSO_0.025\", \"LPS_1.000_DMSO_0.025\"],\n",
    "    [\"DMSO_0.100_DMSO_0.025\", \"LPS_10.000_DMSO_0.025\"],\n",
    "    [\"DMSO_0.100_DMSO_0.025\", \"LPS_100.000_DMSO_0.025\"],\n",
    "    [\"DMSO_0.100_DMSO_0.025\", \"Flagellin_0.100_DMSO_0.025\"],\n",
    "    [\"DMSO_0.100_DMSO_0.025\", \"Flagellin_1.000_DMSO_0.025\"],\n",
    "    [\"DMSO_0.100_DMSO_0.025\", \"Flagellin_1.000_Disulfiram_1.0\"],\n",
    "    [\"DMSO_0.100_DMSO_0.025\", \"LPS_Nigericin_100.000_1.0_DMSO_0.025\"],\n",
    "    [\"DMSO_0.100_DMSO_0.025\", \"LPS_Nigericin_100.000_3.0_DMSO_0.025\"],\n",
    "    [\"DMSO_0.100_DMSO_0.025\", \"LPS_Nigericin_100.000_10.0_DMSO_0.025\"],\n",
    "    [\"DMSO_0.100_DMSO_0.025\", \"LPS_Nigericin_1.000_1.0_DMSO_0.025\"],\n",
    "    [\"DMSO_0.100_DMSO_0.025\", \"LPS_Nigericin_1.000_3.0_DMSO_0.025\"],\n",
    "    [\"DMSO_0.100_DMSO_0.025\", \"LPS_Nigericin_1.000_10.0_DMSO_0.025\"],\n",
    "    [\"DMSO_0.100_DMSO_0.025\", \"H2O2_100.000_Z-VAD-FMK_100.0\"],\n",
    "    [\"LPS_100.000_DMSO_0.025\", \"Thapsigargin_1.000_DMSO_0.025\"],\n",
    "    [\"LPS_100.000_DMSO_0.025\", \"Thapsigargin_10.000_DMSO_0.025\"],\n",
    "    [\"LPS_10.000_DMSO_0.025\", \"Thapsigargin_1.000_DMSO_0.025\"],\n",
    "    [\"LPS_10.000_DMSO_0.025\", \"Thapsigargin_10.000_DMSO_0.025\"],\n",
    "    [\"LPS_1.000_DMSO_0.025\", \"Thapsigargin_1.000_DMSO_0.025\"],\n",
    "    [\"LPS_1.000_DMSO_0.025\", \"Thapsigargin_10.000_DMSO_0.025\"],\n",
    "    [\"LPS_0.100_DMSO_0.025\", \"Thapsigargin_1.000_DMSO_0.025\"],\n",
    "    [\"LPS_0.100_DMSO_0.025\", \"Thapsigargin_10.000_DMSO_0.025\"],\n",
    "    [\"LPS_0.010_DMSO_0.025\", \"Thapsigargin_1.000_DMSO_0.025\"],\n",
    "    [\"LPS_0.010_DMSO_0.025\", \"Thapsigargin_10.000_DMSO_0.025\"],\n",
    "]"
   ]
  },
  {
   "cell_type": "code",
   "execution_count": null,
   "id": "f1b0c095",
   "metadata": {
    "execution": {
     "iopub.execute_input": "2023-08-04T01:18:42.619555Z",
     "iopub.status.busy": "2023-08-04T01:18:42.619353Z"
    },
    "papermill": {
     "duration": 163.342132,
     "end_time": "2023-08-04T01:21:25.959096",
     "exception": false,
     "start_time": "2023-08-04T01:18:42.616964",
     "status": "completed"
    },
    "tags": []
   },
   "outputs": [],
   "source": [
    "for i, j in paired_treatment_list:\n",
    "    test_df = df.query(\n",
    "        f\"oneb_Metadata_Treatment_Dose_Inhibitor_Dose == '{j}' | oneb_Metadata_Treatment_Dose_Inhibitor_Dose == '{i}'\"\n",
    "    )\n",
    "    output_name = (\" \").join(\n",
    "        test_df[\"oneb_Metadata_Treatment_Dose_Inhibitor_Dose\"].unique()\n",
    "    )\n",
    "\n",
    "    print(output_name)\n",
    "\n",
    "    title = f'{output_name.split(\" \")[0].split(\"_\")[0]} vs {(\" \").join(output_name.split(\" \")[1].split(\"_\")[:2])}'\n",
    "    test_loop(test_df, output_name, title)"
   ]
  },
  {
   "cell_type": "code",
   "execution_count": null,
   "id": "73985423",
   "metadata": {
    "papermill": {
     "duration": null,
     "end_time": null,
     "exception": null,
     "start_time": null,
     "status": "pending"
    },
    "tags": []
   },
   "outputs": [],
   "source": []
  }
 ],
 "metadata": {
  "jupytext": {
   "formats": "ipynb,py"
  },
  "kernelspec": {
   "display_name": "Interstellar",
   "language": "python",
   "name": "python3"
  },
  "language_info": {
   "codemirror_mode": {
    "name": "ipython",
    "version": 3
   },
   "file_extension": ".py",
   "mimetype": "text/x-python",
   "name": "python",
   "nbconvert_exporter": "python",
   "pygments_lexer": "ipython3",
   "version": "3.10.12"
  },
  "papermill": {
   "default_parameters": {},
   "duration": null,
   "end_time": null,
   "environment_variables": {},
   "exception": null,
   "input_path": "binary_classification_testing.ipynb",
   "output_path": "binary_classification_testing.ipynb",
   "parameters": {
    "CELL_TYPE": "SHSY5Y",
    "CONTROL_NAME": "DMSO_0.100_DMSO_0.025",
    "MODEL_NAME": "DMSO_0.025_vs_LPS_100",
    "SHUFFLE_DATA": true,
    "TREATMENT_NAME": "LPS_100.000_DMSO_0.025"
   },
   "start_time": "2023-08-04T01:18:37.952914",
   "version": "2.4.0"
  },
  "vscode": {
   "interpreter": {
    "hash": "72ae02083a9ca7d143c492d1aec380c7bf553ec51bd66e90e72bba65228121b6"
   }
  }
 },
 "nbformat": 4,
 "nbformat_minor": 5
}
