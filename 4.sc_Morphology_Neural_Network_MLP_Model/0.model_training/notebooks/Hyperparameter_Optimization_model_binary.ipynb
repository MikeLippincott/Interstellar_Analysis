{
 "cells": [
  {
   "attachments": {},
   "cell_type": "markdown",
   "id": "8e60628c",
   "metadata": {
    "papermill": {
     "duration": 0.003507,
     "end_time": "2023-08-04T00:35:34.317195",
     "exception": false,
     "start_time": "2023-08-04T00:35:34.313688",
     "status": "completed"
    },
    "tags": []
   },
   "source": [
    "## Hyperparameter tuning via Optuna"
   ]
  },
  {
   "cell_type": "markdown",
   "id": "8fac71a5",
   "metadata": {
    "papermill": {
     "duration": 0.00353,
     "end_time": "2023-08-04T00:35:34.323707",
     "exception": false,
     "start_time": "2023-08-04T00:35:34.320177",
     "status": "completed"
    },
    "tags": []
   },
   "source": [
    "### Being a binary model this notebook will be limited to predicting one class 1 or 0, yes or no.\n",
    "### Here I will be predicting if a cell received a treatment or not"
   ]
  },
  {
   "cell_type": "code",
   "execution_count": null,
   "id": "860a61dd",
   "metadata": {
    "execution": {
     "iopub.execute_input": "2023-08-04T00:35:34.330092Z",
     "iopub.status.busy": "2023-08-04T00:35:34.329970Z",
     "iopub.status.idle": "2023-08-04T00:35:35.722746Z",
     "shell.execute_reply": "2023-08-04T00:35:35.722105Z"
    },
    "papermill": {
     "duration": 1.397815,
     "end_time": "2023-08-04T00:35:35.724391",
     "exception": false,
     "start_time": "2023-08-04T00:35:34.326576",
     "status": "completed"
    },
    "tags": []
   },
   "outputs": [],
   "source": [
    "import sys\n",
    "from pathlib import Path\n",
    "\n",
    "import matplotlib.pyplot as plt\n",
    "import numpy as np\n",
    "import optuna\n",
    "import pandas as pd\n",
    "import plotly\n",
    "import pyarrow.parquet as pq\n",
    "import seaborn as sns\n",
    "import toml\n",
    "import torch\n",
    "import torch.nn as nn\n",
    "import torch.optim as optim\n",
    "from sklearn import preprocessing\n",
    "from sklearn.metrics import (\n",
    "    auc,\n",
    "    confusion_matrix,\n",
    "    precision_score,\n",
    "    recall_score,\n",
    "    roc_auc_score,\n",
    "    roc_curve,\n",
    ")\n",
    "from sklearn.model_selection import train_test_split\n",
    "\n",
    "sys.path.append(\"../..\")\n",
    "\n",
    "from MLP_utils.exceptions import ModelNameError\n",
    "from MLP_utils.parameters import Parameters\n",
    "from MLP_utils.utils import (\n",
    "    Dataset_formatter,\n",
    "    data_split,\n",
    "    extract_best_trial_params,\n",
    "    objective_model_optimizer,\n",
    "    optimized_model_create,\n",
    "    parameter_set,\n",
    "    plot_metric_vs_epoch,\n",
    "    results_output,\n",
    "    test_optimized_model,\n",
    "    train_optimized_model,\n",
    "    un_nest,\n",
    ")\n",
    "\n",
    "sys.path.append(\"../../..\")\n",
    "from utils.utils import df_stats"
   ]
  },
  {
   "cell_type": "code",
   "execution_count": null,
   "id": "35c66c1c",
   "metadata": {
    "execution": {
     "iopub.execute_input": "2023-08-04T00:35:35.735269Z",
     "iopub.status.busy": "2023-08-04T00:35:35.734787Z",
     "iopub.status.idle": "2023-08-04T00:35:35.737299Z",
     "shell.execute_reply": "2023-08-04T00:35:35.736940Z"
    },
    "papermill": {
     "duration": 0.00835,
     "end_time": "2023-08-04T00:35:35.738158",
     "exception": false,
     "start_time": "2023-08-04T00:35:35.729808",
     "status": "completed"
    },
    "tags": [
     "injected-parameters"
    ]
   },
   "outputs": [],
   "source": [
    "# Parameters\n",
    "SHUFFLE_DATA = False\n",
    "CELL_TYPE = \"SHSY5Y\"\n",
    "CONTROL_NAME = \"DMSO_0.100_DMSO_0.025\"\n",
    "TREATMENT_NAME = \"Thapsigargin_10.000_DMSO_0.025\"\n",
    "MODEL_NAME = \"DMSO_0.025_vs_Thapsigargin_10\""
   ]
  },
  {
   "cell_type": "code",
   "execution_count": null,
   "id": "394294ce",
   "metadata": {
    "execution": {
     "iopub.execute_input": "2023-08-04T00:35:35.750047Z",
     "iopub.status.busy": "2023-08-04T00:35:35.749792Z",
     "iopub.status.idle": "2023-08-04T00:35:35.753475Z",
     "shell.execute_reply": "2023-08-04T00:35:35.753109Z"
    },
    "papermill": {
     "duration": 0.010126,
     "end_time": "2023-08-04T00:35:35.754392",
     "exception": false,
     "start_time": "2023-08-04T00:35:35.744266",
     "status": "completed"
    },
    "tags": []
   },
   "outputs": [],
   "source": [
    "data = Path(\"../../MLP_utils/binary_config.toml\")\n",
    "config = toml.load(data)\n",
    "params = Parameters()\n",
    "params = parameter_set(params, config)\n",
    "\n",
    "# overwrite params via command line arguments from papermill\n",
    "params.CELL_TYPE = CELL_TYPE\n",
    "params.MODEL_NAME = MODEL_NAME\n",
    "params.CONTROL_NAME = CONTROL_NAME\n",
    "params.TREATMENT_NAME = TREATMENT_NAME\n",
    "params.MODEL_NAME = MODEL_NAME"
   ]
  },
  {
   "cell_type": "code",
   "execution_count": null,
   "id": "44baa945",
   "metadata": {
    "execution": {
     "iopub.execute_input": "2023-08-04T00:35:35.777898Z",
     "iopub.status.busy": "2023-08-04T00:35:35.777663Z",
     "iopub.status.idle": "2023-08-04T00:35:38.070659Z",
     "shell.execute_reply": "2023-08-04T00:35:38.070207Z"
    },
    "papermill": {
     "duration": 2.299644,
     "end_time": "2023-08-04T00:35:38.071979",
     "exception": false,
     "start_time": "2023-08-04T00:35:35.772335",
     "status": "completed"
    },
    "tags": []
   },
   "outputs": [],
   "source": [
    "# Import Data\n",
    "# set data file path under pathlib path for multi-system use\n",
    "\n",
    "file_path = Path(f\"../../../data/{params.CELL_TYPE}_preprocessed_sc_norm.parquet\")\n",
    "\n",
    "df = pq.read_table(file_path).to_pandas()"
   ]
  },
  {
   "attachments": {},
   "cell_type": "markdown",
   "id": "5c486e00",
   "metadata": {
    "papermill": {
     "duration": 0.003525,
     "end_time": "2023-08-04T00:35:38.079712",
     "exception": false,
     "start_time": "2023-08-04T00:35:38.076187",
     "status": "completed"
    },
    "tags": []
   },
   "source": [
    "#### Set up Data to be compatible with model"
   ]
  },
  {
   "attachments": {},
   "cell_type": "markdown",
   "id": "95754baa",
   "metadata": {
    "papermill": {
     "duration": 0.002957,
     "end_time": "2023-08-04T00:35:38.085670",
     "exception": false,
     "start_time": "2023-08-04T00:35:38.082713",
     "status": "completed"
    },
    "tags": []
   },
   "source": [
    "##### Classification Models:\n",
    "Comment out code if using regression"
   ]
  },
  {
   "cell_type": "code",
   "execution_count": null,
   "id": "b6ea8ac9",
   "metadata": {
    "execution": {
     "iopub.execute_input": "2023-08-04T00:35:38.092533Z",
     "iopub.status.busy": "2023-08-04T00:35:38.092360Z",
     "iopub.status.idle": "2023-08-04T00:35:38.266135Z",
     "shell.execute_reply": "2023-08-04T00:35:38.265607Z"
    },
    "papermill": {
     "duration": 0.178345,
     "end_time": "2023-08-04T00:35:38.266988",
     "exception": false,
     "start_time": "2023-08-04T00:35:38.088643",
     "status": "completed"
    },
    "tags": []
   },
   "outputs": [],
   "source": [
    "# filter the oneb_Metadata_Treatment_Dose_Inhibitor_Dose column to only include the treatment and control via loc\n",
    "df = df.loc[\n",
    "    df[\"oneb_Metadata_Treatment_Dose_Inhibitor_Dose\"].isin(\n",
    "        [params.TREATMENT_NAME, params.CONTROL_NAME]\n",
    "    )\n",
    "]\n",
    "\n",
    "print(\"Selected Catagories are:\")\n",
    "print(df[\"oneb_Metadata_Treatment_Dose_Inhibitor_Dose\"].unique())\n",
    "df_stats(df)\n",
    "\n",
    "if params.DATA_SUBSET_OPTION == \"True\":\n",
    "    df = df.sample(n=params.DATA_SUBSET_NUMBER)\n",
    "    print(\"Data Subset Is On\")\n",
    "    print(f\"Data is subset to {params.DATA_SUBSET_NUMBER}\")\n",
    "else:\n",
    "    print(\"Data Subset Is Off\")"
   ]
  },
  {
   "cell_type": "code",
   "execution_count": null,
   "id": "088cff07",
   "metadata": {
    "execution": {
     "iopub.execute_input": "2023-08-04T00:35:38.274532Z",
     "iopub.status.busy": "2023-08-04T00:35:38.274323Z",
     "iopub.status.idle": "2023-08-04T00:35:39.004907Z",
     "shell.execute_reply": "2023-08-04T00:35:39.004475Z"
    },
    "papermill": {
     "duration": 0.735315,
     "end_time": "2023-08-04T00:35:39.005765",
     "exception": false,
     "start_time": "2023-08-04T00:35:38.270450",
     "status": "completed"
    },
    "tags": []
   },
   "outputs": [],
   "source": [
    "np.random.seed(seed=0)\n",
    "wells_to_hold = (\n",
    "    df.groupby(\"oneb_Metadata_Treatment_Dose_Inhibitor_Dose\")\n",
    "    .agg(np.random.choice)[\"Metadata_Well\"]\n",
    "    .to_list()\n",
    ")\n",
    "df_holdout = df[df[\"Metadata_Well\"].isin(wells_to_hold)]\n",
    "df = df[~df[\"Metadata_Well\"].isin(wells_to_hold)]\n",
    "\n",
    "\n",
    "print(\"Wells held out for testing:\", df_holdout[\"Metadata_Well\"].unique())\n",
    "print(\n",
    "    \"Wells to use for training, validation, and testing\", df[\"Metadata_Well\"].unique()\n",
    ")"
   ]
  },
  {
   "cell_type": "code",
   "execution_count": null,
   "id": "786e3a76",
   "metadata": {
    "execution": {
     "iopub.execute_input": "2023-08-04T00:35:39.017740Z",
     "iopub.status.busy": "2023-08-04T00:35:39.017548Z",
     "iopub.status.idle": "2023-08-04T00:35:39.070274Z",
     "shell.execute_reply": "2023-08-04T00:35:39.069863Z"
    },
    "papermill": {
     "duration": 0.06004,
     "end_time": "2023-08-04T00:35:39.071061",
     "exception": false,
     "start_time": "2023-08-04T00:35:39.011021",
     "status": "completed"
    },
    "tags": []
   },
   "outputs": [],
   "source": [
    "# Code snippet for metadata extraction by Jenna Tomkinson\n",
    "df_metadata = list(df.columns[df.columns.str.startswith(\"Metadata\")])\n",
    "\n",
    "# define which columns are data and which are descriptive\n",
    "df_descriptive = df[df_metadata]\n",
    "df_values = df.drop(columns=df_metadata)"
   ]
  },
  {
   "cell_type": "code",
   "execution_count": null,
   "id": "595afb65",
   "metadata": {
    "execution": {
     "iopub.execute_input": "2023-08-04T00:35:39.081475Z",
     "iopub.status.busy": "2023-08-04T00:35:39.081320Z",
     "iopub.status.idle": "2023-08-04T00:35:39.133639Z",
     "shell.execute_reply": "2023-08-04T00:35:39.133217Z"
    },
    "papermill": {
     "duration": 0.058516,
     "end_time": "2023-08-04T00:35:39.134375",
     "exception": false,
     "start_time": "2023-08-04T00:35:39.075859",
     "status": "completed"
    },
    "tags": []
   },
   "outputs": [],
   "source": [
    "# Creating label encoder\n",
    "le = preprocessing.LabelEncoder()\n",
    "# Converting strings into numbers\n",
    "df_values[\"oneb_Metadata_Treatment_Dose_Inhibitor_Dose\"] = le.fit_transform(\n",
    "    df_values[\"oneb_Metadata_Treatment_Dose_Inhibitor_Dose\"]\n",
    ")\n",
    "# split into X and Y where Y are the predictive column and x are the observable data\n",
    "df_values_X = df_values.drop(\n",
    "    [\n",
    "        \"oneb_Metadata_Treatment_Dose_Inhibitor_Dose\",\n",
    "        \"twob_Metadata_Treatment_Dose_Inhibitor_Dose\",\n",
    "        \"threeb_Metadata_Treatment_Dose_Inhibitor_Dose\",\n",
    "        \"fourb_Metadata_Treatment_Dose_Inhibitor_Dose\",\n",
    "    ],\n",
    "    axis=1,\n",
    ")\n",
    "df_values_Y = df_values[\"oneb_Metadata_Treatment_Dose_Inhibitor_Dose\"]"
   ]
  },
  {
   "attachments": {},
   "cell_type": "markdown",
   "id": "260a048e",
   "metadata": {
    "papermill": {
     "duration": 0.005606,
     "end_time": "2023-08-04T00:35:39.144972",
     "exception": false,
     "start_time": "2023-08-04T00:35:39.139366",
     "status": "completed"
    },
    "tags": []
   },
   "source": [
    "#### Split Data - All Models can proceed through this point"
   ]
  },
  {
   "cell_type": "code",
   "execution_count": null,
   "id": "f4feb87f",
   "metadata": {
    "execution": {
     "iopub.execute_input": "2023-08-04T00:35:39.157173Z",
     "iopub.status.busy": "2023-08-04T00:35:39.157016Z",
     "iopub.status.idle": "2023-08-04T00:35:39.524629Z",
     "shell.execute_reply": "2023-08-04T00:35:39.524122Z"
    },
    "papermill": {
     "duration": 0.374316,
     "end_time": "2023-08-04T00:35:39.526014",
     "exception": false,
     "start_time": "2023-08-04T00:35:39.151698",
     "status": "completed"
    },
    "tags": []
   },
   "outputs": [],
   "source": [
    "X_train, X_test, X_val, Y_train, Y_test, Y_val = data_split(\n",
    "    X_vals=df_values_X,\n",
    "    y_vals=df_values_Y,\n",
    "    train_proportion=0.8,\n",
    "    val_proportion=0.1,\n",
    "    test_proportion=0.1,\n",
    "    seed=1,\n",
    "    params=params,\n",
    ")"
   ]
  },
  {
   "cell_type": "code",
   "execution_count": null,
   "id": "36894826",
   "metadata": {
    "execution": {
     "iopub.execute_input": "2023-08-04T00:35:39.535840Z",
     "iopub.status.busy": "2023-08-04T00:35:39.535636Z",
     "iopub.status.idle": "2023-08-04T00:35:39.566911Z",
     "shell.execute_reply": "2023-08-04T00:35:39.566460Z"
    },
    "papermill": {
     "duration": 0.037112,
     "end_time": "2023-08-04T00:35:39.568224",
     "exception": false,
     "start_time": "2023-08-04T00:35:39.531112",
     "status": "completed"
    },
    "tags": []
   },
   "outputs": [],
   "source": [
    "# produce data objects for train, val and test datasets\n",
    "train_data = Dataset_formatter(\n",
    "    torch.FloatTensor(X_train.values), torch.FloatTensor(Y_train.values)\n",
    ")\n",
    "val_data = Dataset_formatter(\n",
    "    torch.FloatTensor(X_val.values), torch.FloatTensor(Y_val.values)\n",
    ")\n",
    "test_data = Dataset_formatter(\n",
    "    torch.FloatTensor(X_test.values), torch.FloatTensor(Y_test.values)\n",
    ")"
   ]
  },
  {
   "cell_type": "code",
   "execution_count": null,
   "id": "4382d712",
   "metadata": {
    "execution": {
     "iopub.execute_input": "2023-08-04T00:35:39.578879Z",
     "iopub.status.busy": "2023-08-04T00:35:39.578641Z",
     "iopub.status.idle": "2023-08-04T00:35:39.582357Z",
     "shell.execute_reply": "2023-08-04T00:35:39.581931Z"
    },
    "papermill": {
     "duration": 0.009571,
     "end_time": "2023-08-04T00:35:39.583070",
     "exception": false,
     "start_time": "2023-08-04T00:35:39.573499",
     "status": "completed"
    },
    "tags": []
   },
   "outputs": [],
   "source": [
    "params.IN_FEATURES = X_train.shape[1]\n",
    "print(\"Number of in features: \", params.IN_FEATURES)\n",
    "if params.MODEL_TYPE == \"Regression\":\n",
    "    params.OUT_FEATURES = 1\n",
    "else:\n",
    "    params.OUT_FEATURES = len(\n",
    "        df_values[\"oneb_Metadata_Treatment_Dose_Inhibitor_Dose\"].unique()\n",
    "    )\n",
    "\n",
    "print(\"Number of out features: \", params.OUT_FEATURES)\n",
    "\n",
    "if params.OUT_FEATURES > 2:\n",
    "    params.MODEL_TYPE = \"Multi_Class\"\n",
    "elif params.OUT_FEATURES == 2:\n",
    "    params.OUT_FEATURES = params.OUT_FEATURES - 1\n",
    "    params.MODEL_TYPE = \"Binary_Classification\"\n",
    "elif params.OUT_FEATURES == 1:\n",
    "    params.MODEL_TYPE = \"Regression\"\n",
    "else:\n",
    "    pass\n",
    "print(params.MODEL_TYPE)"
   ]
  },
  {
   "cell_type": "code",
   "execution_count": null,
   "id": "77effa5c",
   "metadata": {
    "execution": {
     "iopub.execute_input": "2023-08-04T00:35:39.591754Z",
     "iopub.status.busy": "2023-08-04T00:35:39.591436Z",
     "iopub.status.idle": "2023-08-04T00:35:39.594050Z",
     "shell.execute_reply": "2023-08-04T00:35:39.593725Z"
    },
    "papermill": {
     "duration": 0.007732,
     "end_time": "2023-08-04T00:35:39.594685",
     "exception": false,
     "start_time": "2023-08-04T00:35:39.586953",
     "status": "completed"
    },
    "tags": []
   },
   "outputs": [],
   "source": [
    "# convert data class into a dataloader to be compatible with pytorch\n",
    "train_loader = torch.utils.data.DataLoader(\n",
    "    dataset=train_data, batch_size=params.BATCH_SIZE\n",
    ")\n",
    "valid_loader = torch.utils.data.DataLoader(\n",
    "    dataset=val_data, batch_size=params.BATCH_SIZE\n",
    ")\n",
    "test_loader = torch.utils.data.DataLoader(\n",
    "    dataset=test_data, batch_size=1, shuffle=SHUFFLE_DATA\n",
    ")"
   ]
  },
  {
   "cell_type": "code",
   "execution_count": null,
   "id": "cb7635c8",
   "metadata": {
    "execution": {
     "iopub.execute_input": "2023-08-04T00:35:39.601429Z",
     "iopub.status.busy": "2023-08-04T00:35:39.601326Z",
     "iopub.status.idle": "2023-08-04T00:35:39.603298Z",
     "shell.execute_reply": "2023-08-04T00:35:39.603032Z"
    },
    "papermill": {
     "duration": 0.006272,
     "end_time": "2023-08-04T00:35:39.604087",
     "exception": false,
     "start_time": "2023-08-04T00:35:39.597815",
     "status": "completed"
    },
    "tags": []
   },
   "outputs": [],
   "source": [
    "print(params.DEVICE)"
   ]
  },
  {
   "cell_type": "code",
   "execution_count": null,
   "id": "a969042f",
   "metadata": {
    "execution": {
     "iopub.execute_input": "2023-08-04T00:35:39.611226Z",
     "iopub.status.busy": "2023-08-04T00:35:39.610854Z",
     "iopub.status.idle": "2023-08-04T00:37:00.998709Z",
     "shell.execute_reply": "2023-08-04T00:37:00.998333Z"
    },
    "papermill": {
     "duration": 81.392155,
     "end_time": "2023-08-04T00:37:00.999424",
     "exception": false,
     "start_time": "2023-08-04T00:35:39.607269",
     "status": "completed"
    },
    "tags": []
   },
   "outputs": [],
   "source": [
    "# no accuracy function must be loss for regression\n",
    "if params.MODEL_TYPE == \"Regression\":\n",
    "    params.METRIC = \"loss\"\n",
    "    pass\n",
    "\n",
    "\n",
    "# wrap the objective function inside of a lambda function to pass args...\n",
    "objective_lambda_func = lambda trial: objective_model_optimizer(\n",
    "    train_loader,\n",
    "    valid_loader,\n",
    "    trial=trial,\n",
    "    params=params,\n",
    "    metric=params.METRIC,\n",
    "    return_info=False,\n",
    ")\n",
    "\n",
    "\n",
    "# Study is the object for model optimization\n",
    "study = optuna.create_study(direction=f\"{params.DIRECTION}\")\n",
    "# Here I apply the optimize function of the study to the objective function\n",
    "# This optimizes each parameter specified to be optimized from the defined search space\n",
    "study.optimize(objective_lambda_func, n_trials=params.N_TRIALS)\n",
    "# Prints out the best trial's optimized parameters\n",
    "objective_model_optimizer(\n",
    "    train_loader,\n",
    "    valid_loader,\n",
    "    trial=study.best_trial,\n",
    "    params=params,\n",
    "    metric=params.METRIC,\n",
    "    return_info=True,\n",
    ")"
   ]
  },
  {
   "cell_type": "code",
   "execution_count": null,
   "id": "b2620589",
   "metadata": {
    "execution": {
     "iopub.execute_input": "2023-08-04T00:37:01.008132Z",
     "iopub.status.busy": "2023-08-04T00:37:01.007834Z",
     "iopub.status.idle": "2023-08-04T00:37:01.451670Z",
     "shell.execute_reply": "2023-08-04T00:37:01.451292Z"
    },
    "papermill": {
     "duration": 0.476344,
     "end_time": "2023-08-04T00:37:01.479492",
     "exception": false,
     "start_time": "2023-08-04T00:37:01.003148",
     "status": "completed"
    },
    "tags": []
   },
   "outputs": [],
   "source": [
    "# create graph directory for this model\n",
    "graph_path = Path(\n",
    "    f\"../../figures/{params.MODEL_TYPE}/{params.MODEL_NAME}/{params.CELL_TYPE}\"\n",
    ")\n",
    "Path(graph_path).mkdir(parents=True, exist_ok=True)\n",
    "fig = optuna.visualization.plot_optimization_history(study)\n",
    "\n",
    "if SHUFFLE_DATA:\n",
    "    graph_path = f\"{graph_path}/plot_optimization_history_graph_shuffled_data\"\n",
    "elif not SHUFFLE_DATA:\n",
    "    graph_path = f\"{graph_path}/plot_optimization_history_graph\"\n",
    "else:\n",
    "    raise ModelNameError\n",
    "fig.write_image(Path(f\"{graph_path}.png\"))\n",
    "fig.show()"
   ]
  },
  {
   "cell_type": "code",
   "execution_count": null,
   "id": "92103de1",
   "metadata": {
    "execution": {
     "iopub.execute_input": "2023-08-04T00:37:01.526870Z",
     "iopub.status.busy": "2023-08-04T00:37:01.526591Z",
     "iopub.status.idle": "2023-08-04T00:37:01.583975Z",
     "shell.execute_reply": "2023-08-04T00:37:01.583597Z"
    },
    "papermill": {
     "duration": 0.081824,
     "end_time": "2023-08-04T00:37:01.585001",
     "exception": false,
     "start_time": "2023-08-04T00:37:01.503177",
     "status": "completed"
    },
    "tags": []
   },
   "outputs": [],
   "source": [
    "# create graph directory for this model\n",
    "graph_path = Path(\n",
    "    f\"../../figures/{params.MODEL_TYPE}/{params.MODEL_NAME}/{params.CELL_TYPE}\"\n",
    ")\n",
    "Path(graph_path).mkdir(parents=True, exist_ok=True)\n",
    "fig = optuna.visualization.plot_intermediate_values(study)\n",
    "if SHUFFLE_DATA:\n",
    "    graph_path = f\"{graph_path}/plot_intermediate_values_graph_shuffled_data\"\n",
    "elif not SHUFFLE_DATA:\n",
    "    graph_path = f\"{graph_path}/plot_intermediate_values_graph\"\n",
    "else:\n",
    "    raise ModelNameError\n",
    "\n",
    "fig.write_image(Path(f\"{graph_path}.png\"))\n",
    "fig.show()"
   ]
  },
  {
   "cell_type": "code",
   "execution_count": null,
   "id": "325a1ec3",
   "metadata": {
    "execution": {
     "iopub.execute_input": "2023-08-04T00:37:01.636293Z",
     "iopub.status.busy": "2023-08-04T00:37:01.636030Z",
     "iopub.status.idle": "2023-08-04T00:37:01.638661Z",
     "shell.execute_reply": "2023-08-04T00:37:01.638358Z"
    },
    "papermill": {
     "duration": 0.028799,
     "end_time": "2023-08-04T00:37:01.639356",
     "exception": false,
     "start_time": "2023-08-04T00:37:01.610557",
     "status": "completed"
    },
    "tags": []
   },
   "outputs": [],
   "source": [
    "param_dict = extract_best_trial_params(\n",
    "    study.best_params, params, model_name=params.MODEL_NAME\n",
    ")"
   ]
  },
  {
   "cell_type": "code",
   "execution_count": null,
   "id": "50e946e7",
   "metadata": {
    "execution": {
     "iopub.execute_input": "2023-08-04T00:37:01.691471Z",
     "iopub.status.busy": "2023-08-04T00:37:01.691158Z",
     "iopub.status.idle": "2023-08-04T00:37:20.847667Z",
     "shell.execute_reply": "2023-08-04T00:37:20.847145Z"
    },
    "papermill": {
     "duration": 19.184559,
     "end_time": "2023-08-04T00:37:20.848417",
     "exception": false,
     "start_time": "2023-08-04T00:37:01.663858",
     "status": "completed"
    },
    "tags": []
   },
   "outputs": [],
   "source": [
    "# call the optimized training model\n",
    "train_loss, train_acc, valid_loss, valid_acc, epochs_ran, model = train_optimized_model(\n",
    "    params.TRAIN_EPOCHS,\n",
    "    train_loader,\n",
    "    valid_loader,\n",
    "    param_dict,\n",
    "    params,\n",
    "    params.MODEL_NAME,\n",
    ")\n",
    "# get training_metrics\n",
    "if params.MODEL_TYPE == \"Regression\":\n",
    "    training_stats = pd.DataFrame(\n",
    "        zip(train_loss, valid_loss, epochs_ran),\n",
    "        columns=[\"train_loss\", \"valid_loss\", \"epochs_ran\"],\n",
    "    )\n",
    "else:\n",
    "    training_stats = pd.DataFrame(\n",
    "        zip(train_loss, train_acc, valid_loss, valid_acc, epochs_ran),\n",
    "        columns=[\"train_loss\", \"train_acc\", \"valid_loss\", \"valid_acc\", \"epochs_ran\"],\n",
    "    )"
   ]
  },
  {
   "cell_type": "code",
   "execution_count": null,
   "id": "1340d8aa",
   "metadata": {
    "execution": {
     "iopub.execute_input": "2023-08-04T00:37:20.906966Z",
     "iopub.status.busy": "2023-08-04T00:37:20.906588Z",
     "iopub.status.idle": "2023-08-04T00:37:21.094765Z",
     "shell.execute_reply": "2023-08-04T00:37:21.094371Z"
    },
    "papermill": {
     "duration": 0.215888,
     "end_time": "2023-08-04T00:37:21.095488",
     "exception": false,
     "start_time": "2023-08-04T00:37:20.879600",
     "status": "completed"
    },
    "tags": []
   },
   "outputs": [],
   "source": [
    "if params.MODEL_TYPE == \"Regression\":\n",
    "    pass\n",
    "else:\n",
    "    plot_metric_vs_epoch(\n",
    "        training_stats,\n",
    "        x=\"epochs_ran\",\n",
    "        y1=\"train_acc\",\n",
    "        y2=\"valid_acc\",\n",
    "        title=\"Accuracy vs. Epochs\",\n",
    "        x_axis_label=\"Epochs\",\n",
    "        y_axis_label=\"Accuracy\",\n",
    "        params=params,\n",
    "        model_name=params.MODEL_NAME,\n",
    "        shuffle=SHUFFLE_DATA,\n",
    "    )"
   ]
  },
  {
   "cell_type": "code",
   "execution_count": null,
   "id": "41991221",
   "metadata": {
    "execution": {
     "iopub.execute_input": "2023-08-04T00:37:21.154792Z",
     "iopub.status.busy": "2023-08-04T00:37:21.154507Z",
     "iopub.status.idle": "2023-08-04T00:37:21.323594Z",
     "shell.execute_reply": "2023-08-04T00:37:21.323198Z"
    },
    "papermill": {
     "duration": 0.200405,
     "end_time": "2023-08-04T00:37:21.324321",
     "exception": false,
     "start_time": "2023-08-04T00:37:21.123916",
     "status": "completed"
    },
    "tags": []
   },
   "outputs": [],
   "source": [
    "plot_metric_vs_epoch(\n",
    "    training_stats,\n",
    "    x=\"epochs_ran\",\n",
    "    y1=\"train_loss\",\n",
    "    y2=\"valid_loss\",\n",
    "    title=\"Loss vs. Epochs\",\n",
    "    x_axis_label=\"Epochs\",\n",
    "    y_axis_label=\"Loss\",\n",
    "    params=params,\n",
    "    model_name=params.MODEL_NAME,\n",
    "    shuffle=SHUFFLE_DATA,\n",
    ")"
   ]
  },
  {
   "cell_type": "code",
   "execution_count": null,
   "id": "3e2c848c",
   "metadata": {
    "execution": {
     "iopub.execute_input": "2023-08-04T00:37:21.398287Z",
     "iopub.status.busy": "2023-08-04T00:37:21.397802Z",
     "iopub.status.idle": "2023-08-04T00:37:22.099337Z",
     "shell.execute_reply": "2023-08-04T00:37:22.098801Z"
    },
    "papermill": {
     "duration": 0.740943,
     "end_time": "2023-08-04T00:37:22.100526",
     "exception": false,
     "start_time": "2023-08-04T00:37:21.359583",
     "status": "completed"
    },
    "tags": []
   },
   "outputs": [],
   "source": [
    "# calling the testing function and outputting list values of tested model\n",
    "if params.MODEL_TYPE == \"Multi_Class\" or params.MODEL_TYPE == \"Regression\":\n",
    "    y_pred_list = test_optimized_model(\n",
    "        model, test_loader, params, model_name=params.MODEL_NAME\n",
    "    )\n",
    "elif params.MODEL_TYPE == \"Binary_Classification\":\n",
    "    y_pred_list, y_pred_prob_list = test_optimized_model(\n",
    "        model, test_loader, params, model_name=params.MODEL_NAME\n",
    "    )\n",
    "else:\n",
    "    raise Exception(\"Model type must be specified for proper model testing\")\n",
    "\n",
    "\n",
    "# un-nest list if nested i.e. length of input data does not match length of output data\n",
    "if len(y_pred_list) != len(Y_test):\n",
    "    y_pred_list = un_nest(y_pred_list)\n",
    "    y_pred_prob_list = un_nest(y_pred_prob_list)\n",
    "else:\n",
    "    pass"
   ]
  },
  {
   "cell_type": "code",
   "execution_count": null,
   "id": "3c53f7e4",
   "metadata": {
    "execution": {
     "iopub.execute_input": "2023-08-04T00:37:22.154980Z",
     "iopub.status.busy": "2023-08-04T00:37:22.154662Z",
     "iopub.status.idle": "2023-08-04T00:37:22.482189Z",
     "shell.execute_reply": "2023-08-04T00:37:22.481705Z"
    },
    "papermill": {
     "duration": 0.356476,
     "end_time": "2023-08-04T00:37:22.483575",
     "exception": false,
     "start_time": "2023-08-04T00:37:22.127099",
     "status": "completed"
    },
    "tags": []
   },
   "outputs": [],
   "source": [
    "# Call visualization function\n",
    "# calling the testing function and outputing list values of tested model\n",
    "if params.MODEL_TYPE == \"Multi_Class\" or params.MODEL_TYPE == \"Regression\":\n",
    "    confusion_matrix_df = results_output(\n",
    "        y_pred_list,\n",
    "        Y_test,\n",
    "        params,\n",
    "        test_name=f\"{params.MODEL_NAME}_testing\",\n",
    "        model_name=params.MODEL_NAME,\n",
    "        title=params.MODEL_NAME,\n",
    "        shuffle=SHUFFLE_DATA,\n",
    "    )\n",
    "elif params.MODEL_TYPE == \"Binary_Classification\":\n",
    "    results_output(\n",
    "        y_pred_list,\n",
    "        Y_test,\n",
    "        params,\n",
    "        y_pred_prob_list,\n",
    "        test_name=f\"{params.MODEL_NAME}_testing\",\n",
    "        model_name=params.MODEL_NAME,\n",
    "        title=params.MODEL_NAME,\n",
    "        shuffle=SHUFFLE_DATA,\n",
    "    )\n",
    "else:\n",
    "    raise Exception(\"Model type must be specified for proper model testing\")"
   ]
  },
  {
   "attachments": {},
   "cell_type": "markdown",
   "id": "2c620f38",
   "metadata": {
    "papermill": {
     "duration": 0.026641,
     "end_time": "2023-08-04T00:37:22.557230",
     "exception": false,
     "start_time": "2023-08-04T00:37:22.530589",
     "status": "completed"
    },
    "tags": []
   },
   "source": [
    "#### look at the feature weights of the model"
   ]
  },
  {
   "cell_type": "code",
   "execution_count": null,
   "id": "06ecc2f0",
   "metadata": {
    "execution": {
     "iopub.execute_input": "2023-08-04T00:37:22.611492Z",
     "iopub.status.busy": "2023-08-04T00:37:22.611207Z",
     "iopub.status.idle": "2023-08-04T00:37:22.613829Z",
     "shell.execute_reply": "2023-08-04T00:37:22.613500Z"
    },
    "papermill": {
     "duration": 0.030538,
     "end_time": "2023-08-04T00:37:22.614461",
     "exception": false,
     "start_time": "2023-08-04T00:37:22.583923",
     "status": "completed"
    },
    "tags": []
   },
   "outputs": [],
   "source": [
    "# get all paramters from pytorch model\n",
    "lst = []\n",
    "for name, param in model.named_parameters():\n",
    "    # print(name, param.shape)\n",
    "    lst.append(param)\n",
    "feature_weights = model[0].weight.grad[0].detach().cpu().numpy()"
   ]
  },
  {
   "cell_type": "code",
   "execution_count": null,
   "id": "131b568f",
   "metadata": {
    "execution": {
     "iopub.execute_input": "2023-08-04T00:37:22.668923Z",
     "iopub.status.busy": "2023-08-04T00:37:22.668735Z",
     "iopub.status.idle": "2023-08-04T00:37:22.671464Z",
     "shell.execute_reply": "2023-08-04T00:37:22.670990Z"
    },
    "papermill": {
     "duration": 0.030809,
     "end_time": "2023-08-04T00:37:22.672100",
     "exception": false,
     "start_time": "2023-08-04T00:37:22.641291",
     "status": "completed"
    },
    "tags": []
   },
   "outputs": [],
   "source": [
    "col_list = []\n",
    "for col in df_values.columns:\n",
    "    # print(col)\n",
    "    col_list.append(col)"
   ]
  },
  {
   "cell_type": "code",
   "execution_count": null,
   "id": "400c1291",
   "metadata": {
    "execution": {
     "iopub.execute_input": "2023-08-04T00:37:22.726382Z",
     "iopub.status.busy": "2023-08-04T00:37:22.726088Z",
     "iopub.status.idle": "2023-08-04T00:37:22.728531Z",
     "shell.execute_reply": "2023-08-04T00:37:22.728044Z"
    },
    "papermill": {
     "duration": 0.030421,
     "end_time": "2023-08-04T00:37:22.729175",
     "exception": false,
     "start_time": "2023-08-04T00:37:22.698754",
     "status": "completed"
    },
    "tags": []
   },
   "outputs": [],
   "source": [
    "# remove last 4 columns from col_list that are not features\n",
    "col_list = col_list[:-4]"
   ]
  },
  {
   "cell_type": "code",
   "execution_count": null,
   "id": "42dbfe2a",
   "metadata": {
    "execution": {
     "iopub.execute_input": "2023-08-04T00:37:22.783703Z",
     "iopub.status.busy": "2023-08-04T00:37:22.783286Z",
     "iopub.status.idle": "2023-08-04T00:37:22.794410Z",
     "shell.execute_reply": "2023-08-04T00:37:22.793980Z"
    },
    "papermill": {
     "duration": 0.039219,
     "end_time": "2023-08-04T00:37:22.795096",
     "exception": false,
     "start_time": "2023-08-04T00:37:22.755877",
     "status": "completed"
    },
    "tags": []
   },
   "outputs": [],
   "source": [
    "pd.set_option(\"display.max_colwidth\", None)\n",
    "\n",
    "df = pd.DataFrame(zip(col_list, feature_weights), columns=[\"feature\", \"weight\"])\n",
    "# change weight collumn to float\n",
    "df[\"weight\"] = df[\"weight\"].astype(float)\n",
    "# sort by weight\n",
    "df = df.sort_values(by=[\"weight\"], ascending=False)\n",
    "df"
   ]
  },
  {
   "cell_type": "code",
   "execution_count": null,
   "id": "e8a4e590",
   "metadata": {
    "execution": {
     "iopub.execute_input": "2023-08-04T00:37:22.851393Z",
     "iopub.status.busy": "2023-08-04T00:37:22.850729Z",
     "iopub.status.idle": "2023-08-04T00:37:22.869432Z",
     "shell.execute_reply": "2023-08-04T00:37:22.868854Z"
    },
    "papermill": {
     "duration": 0.048089,
     "end_time": "2023-08-04T00:37:22.870329",
     "exception": false,
     "start_time": "2023-08-04T00:37:22.822240",
     "status": "completed"
    },
    "tags": []
   },
   "outputs": [],
   "source": [
    "# Code snippet for metadata extraction by Jenna Tomkinson\n",
    "df_metadata = list(df_holdout.columns[df_holdout.columns.str.startswith(\"Metadata\")])\n",
    "\n",
    "# define which columns are data and which are descriptive\n",
    "df_descriptive = df_holdout[df_metadata]\n",
    "df_values = df_holdout.drop(columns=df_metadata)"
   ]
  },
  {
   "cell_type": "code",
   "execution_count": null,
   "id": "748bb398",
   "metadata": {
    "execution": {
     "iopub.execute_input": "2023-08-04T00:37:22.937180Z",
     "iopub.status.busy": "2023-08-04T00:37:22.936883Z",
     "iopub.status.idle": "2023-08-04T00:37:22.952576Z",
     "shell.execute_reply": "2023-08-04T00:37:22.952176Z"
    },
    "papermill": {
     "duration": 0.046426,
     "end_time": "2023-08-04T00:37:22.953240",
     "exception": false,
     "start_time": "2023-08-04T00:37:22.906814",
     "status": "completed"
    },
    "tags": []
   },
   "outputs": [],
   "source": [
    "# Creating label encoder\n",
    "le = preprocessing.LabelEncoder()\n",
    "# Converting strings into numbers\n",
    "df_values[\"oneb_Metadata_Treatment_Dose_Inhibitor_Dose\"] = le.fit_transform(\n",
    "    df_values[\"oneb_Metadata_Treatment_Dose_Inhibitor_Dose\"]\n",
    ")\n",
    "# split into X and Y where Y are the predictive column and x are the observable data\n",
    "df_values_X = df_values.drop(\n",
    "    [\n",
    "        \"oneb_Metadata_Treatment_Dose_Inhibitor_Dose\",\n",
    "        \"twob_Metadata_Treatment_Dose_Inhibitor_Dose\",\n",
    "        \"threeb_Metadata_Treatment_Dose_Inhibitor_Dose\",\n",
    "        \"fourb_Metadata_Treatment_Dose_Inhibitor_Dose\",\n",
    "    ],\n",
    "    axis=1,\n",
    ")\n",
    "df_values_Y = df_values[\"oneb_Metadata_Treatment_Dose_Inhibitor_Dose\"]"
   ]
  },
  {
   "cell_type": "markdown",
   "id": "8eceb65e",
   "metadata": {
    "papermill": {
     "duration": 0.027538,
     "end_time": "2023-08-04T00:37:23.009555",
     "exception": false,
     "start_time": "2023-08-04T00:37:22.982017",
     "status": "completed"
    },
    "tags": []
   },
   "source": [
    "## Test the hold out wells"
   ]
  },
  {
   "cell_type": "code",
   "execution_count": null,
   "id": "2c5677d3",
   "metadata": {
    "execution": {
     "iopub.execute_input": "2023-08-04T00:37:23.071166Z",
     "iopub.status.busy": "2023-08-04T00:37:23.070964Z",
     "iopub.status.idle": "2023-08-04T00:37:23.079417Z",
     "shell.execute_reply": "2023-08-04T00:37:23.079094Z"
    },
    "papermill": {
     "duration": 0.037074,
     "end_time": "2023-08-04T00:37:23.080229",
     "exception": false,
     "start_time": "2023-08-04T00:37:23.043155",
     "status": "completed"
    },
    "tags": []
   },
   "outputs": [],
   "source": [
    "test_data = Dataset_formatter(\n",
    "    torch.FloatTensor(df_values_X.values), torch.FloatTensor(df_values_Y.values)\n",
    ")\n",
    "\n",
    "# convert data class into a dataloader to be compatible with pytorch\n",
    "test_loader = torch.utils.data.DataLoader(\n",
    "    dataset=test_data, batch_size=1, shuffle=SHUFFLE_DATA\n",
    ")"
   ]
  },
  {
   "cell_type": "code",
   "execution_count": null,
   "id": "4f88eaef",
   "metadata": {
    "execution": {
     "iopub.execute_input": "2023-08-04T00:37:23.138072Z",
     "iopub.status.busy": "2023-08-04T00:37:23.137678Z",
     "iopub.status.idle": "2023-08-04T00:37:24.569623Z",
     "shell.execute_reply": "2023-08-04T00:37:24.569220Z"
    },
    "papermill": {
     "duration": 1.462054,
     "end_time": "2023-08-04T00:37:24.570647",
     "exception": false,
     "start_time": "2023-08-04T00:37:23.108593",
     "status": "completed"
    },
    "tags": []
   },
   "outputs": [],
   "source": [
    "# calling the testing function and outputting list values of tested model\n",
    "if params.MODEL_TYPE == \"Multi_Class\" or params.MODEL_TYPE == \"Regression\":\n",
    "    y_pred_list = test_optimized_model(\n",
    "        model, test_loader, params, model_name=params.MODEL_NAME\n",
    "    )\n",
    "elif params.MODEL_TYPE == \"Binary_Classification\":\n",
    "    y_pred_list, y_pred_prob_list = test_optimized_model(\n",
    "        model, test_loader, params, model_name=params.MODEL_NAME\n",
    "    )\n",
    "else:\n",
    "    raise Exception(\"Model type must be specified for proper model testing\")\n",
    "\n",
    "\n",
    "# un-nest list if nested i.e. length of input data does not match length of output data\n",
    "if len(y_pred_list) != len(df_values_Y):\n",
    "    y_pred_list = un_nest(y_pred_list)\n",
    "    y_pred_prob_list = un_nest(y_pred_prob_list)\n",
    "else:\n",
    "    pass"
   ]
  },
  {
   "cell_type": "code",
   "execution_count": null,
   "id": "9d6bbc43",
   "metadata": {
    "execution": {
     "iopub.execute_input": "2023-08-04T00:37:24.660673Z",
     "iopub.status.busy": "2023-08-04T00:37:24.660455Z",
     "iopub.status.idle": "2023-08-04T00:37:24.953361Z",
     "shell.execute_reply": "2023-08-04T00:37:24.953036Z"
    },
    "papermill": {
     "duration": 0.356494,
     "end_time": "2023-08-04T00:37:24.954106",
     "exception": false,
     "start_time": "2023-08-04T00:37:24.597612",
     "status": "completed"
    },
    "tags": []
   },
   "outputs": [],
   "source": [
    "# Call visualization function\n",
    "# calling the testing function and outputing list values of tested model\n",
    "if params.MODEL_TYPE == \"Multi_Class\" or params.MODEL_TYPE == \"Regression\":\n",
    "    confusion_matrix_df = results_output(\n",
    "        y_pred_list,\n",
    "        df_values_Y,\n",
    "        params,\n",
    "        test_name=f\"{params.MODEL_NAME}_hold_out\",\n",
    "        model_name=params.MODEL_NAME,\n",
    "        title=params.MODEL_NAME,\n",
    "        shuffle=SHUFFLE_DATA,\n",
    "    )\n",
    "elif params.MODEL_TYPE == \"Binary_Classification\":\n",
    "    results_output(\n",
    "        y_pred_list,\n",
    "        df_values_Y,\n",
    "        params,\n",
    "        y_pred_prob_list,\n",
    "        test_name=f\"{params.MODEL_NAME}_hold_out\",\n",
    "        model_name=params.MODEL_NAME,\n",
    "        title=params.MODEL_NAME,\n",
    "        shuffle=SHUFFLE_DATA,\n",
    "    )\n",
    "else:\n",
    "    raise Exception(\"Model type must be specified for proper model testing\")"
   ]
  }
 ],
 "metadata": {
  "jupytext": {
   "cell_metadata_filter": "-all",
   "encoding": "# coding: utf-8",
   "executable": "/usr/bin/env python",
   "formats": "ipynb,py",
   "main_language": "python"
  },
  "kernelspec": {
   "display_name": "Python 3 (ipykernel)",
   "language": "python",
   "name": "python3"
  },
  "language_info": {
   "codemirror_mode": {
    "name": "ipython",
    "version": 3
   },
   "file_extension": ".py",
   "mimetype": "text/x-python",
   "name": "python",
   "nbconvert_exporter": "python",
   "pygments_lexer": "ipython3",
   "version": "3.10.12"
  },
  "papermill": {
   "default_parameters": {},
   "duration": 114.145203,
   "end_time": "2023-08-04T00:37:27.770363",
   "environment_variables": {},
   "exception": null,
   "input_path": "Hyperparameter_Optimization_model_binary.ipynb",
   "output_path": "Hyperparameter_Optimization_model_binary.ipynb",
   "parameters": {
    "CELL_TYPE": "SHSY5Y",
    "CONTROL_NAME": "DMSO_0.100_DMSO_0.025",
    "MODEL_NAME": "DMSO_0.025_vs_Thapsigargin_10",
    "SHUFFLE_DATA": false,
    "TREATMENT_NAME": "Thapsigargin_10.000_DMSO_0.025"
   },
   "start_time": "2023-08-04T00:35:33.625160",
   "version": "2.4.0"
  },
  "vscode": {
   "interpreter": {
    "hash": "72ae02083a9ca7d143c492d1aec380c7bf553ec51bd66e90e72bba65228121b6"
   }
  }
 },
 "nbformat": 4,
 "nbformat_minor": 5
}
