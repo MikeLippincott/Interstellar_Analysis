{
 "cells": [
  {
   "attachments": {},
   "cell_type": "markdown",
   "id": "8e60628c",
   "metadata": {
    "papermill": {
     "duration": 0.003507,
     "end_time": "2023-08-04T00:35:34.317195",
     "exception": false,
     "start_time": "2023-08-04T00:35:34.313688",
     "status": "completed"
    },
    "tags": []
   },
   "source": [
    "## Hyperparameter tuning via Optuna"
   ]
  },
  {
   "cell_type": "markdown",
   "id": "8fac71a5",
   "metadata": {
    "papermill": {
     "duration": 0.00353,
     "end_time": "2023-08-04T00:35:34.323707",
     "exception": false,
     "start_time": "2023-08-04T00:35:34.320177",
     "status": "completed"
    },
    "tags": []
   },
   "source": [
    "### Being a binary model this notebook will be limited to predicting one class 1 or 0, yes or no.\n",
    "### Here I will be predicting if a cell received a treatment or not"
   ]
  },
  {
   "cell_type": "code",
   "execution_count": 1,
   "id": "860a61dd",
   "metadata": {
    "execution": {
     "iopub.execute_input": "2023-08-04T00:35:34.330092Z",
     "iopub.status.busy": "2023-08-04T00:35:34.329970Z",
     "iopub.status.idle": "2023-08-04T00:35:35.722746Z",
     "shell.execute_reply": "2023-08-04T00:35:35.722105Z"
    },
    "papermill": {
     "duration": 1.397815,
     "end_time": "2023-08-04T00:35:35.724391",
     "exception": false,
     "start_time": "2023-08-04T00:35:34.326576",
     "status": "completed"
    },
    "tags": []
   },
   "outputs": [],
   "source": [
    "import sys\n",
    "from pathlib import Path\n",
    "\n",
    "import matplotlib.pyplot as plt\n",
    "import numpy as np\n",
    "import optuna\n",
    "import pandas as pd\n",
    "import plotly\n",
    "import pyarrow.parquet as pq\n",
    "import seaborn as sns\n",
    "import toml\n",
    "import torch\n",
    "import torch.nn as nn\n",
    "import torch.optim as optim\n",
    "from sklearn import preprocessing\n",
    "from sklearn.metrics import (\n",
    "    auc,\n",
    "    confusion_matrix,\n",
    "    precision_score,\n",
    "    recall_score,\n",
    "    roc_auc_score,\n",
    "    roc_curve,\n",
    ")\n",
    "from sklearn.model_selection import train_test_split\n",
    "\n",
    "sys.path.append(\"../..\")\n",
    "\n",
    "from MLP_utils.exceptions import ModelNameError\n",
    "from MLP_utils.parameters import Parameters\n",
    "from MLP_utils.utils import (\n",
    "    Dataset_formatter,\n",
    "    data_split,\n",
    "    extract_best_trial_params,\n",
    "    objective_model_optimizer,\n",
    "    optimized_model_create,\n",
    "    parameter_set,\n",
    "    plot_metric_vs_epoch,\n",
    "    results_output,\n",
    "    test_optimized_model,\n",
    "    train_optimized_model,\n",
    "    un_nest,\n",
    ")\n",
    "\n",
    "sys.path.append(\"../../..\")\n",
    "from utils.utils import df_stats"
   ]
  },
  {
   "cell_type": "code",
   "execution_count": 2,
   "id": "35c66c1c",
   "metadata": {
    "execution": {
     "iopub.execute_input": "2023-08-04T00:35:35.735269Z",
     "iopub.status.busy": "2023-08-04T00:35:35.734787Z",
     "iopub.status.idle": "2023-08-04T00:35:35.737299Z",
     "shell.execute_reply": "2023-08-04T00:35:35.736940Z"
    },
    "papermill": {
     "duration": 0.00835,
     "end_time": "2023-08-04T00:35:35.738158",
     "exception": false,
     "start_time": "2023-08-04T00:35:35.729808",
     "status": "completed"
    },
    "tags": [
     "injected-parameters"
    ]
   },
   "outputs": [],
   "source": [
    "# Parameters\n",
    "SHUFFLE_DATA = False\n",
    "CELL_TYPE = \"SHSY5Y\"\n",
    "CONTROL_NAME = \"DMSO_0.100_DMSO_0.025\"\n",
    "TREATMENT_NAME = \"Thapsigargin_10.000_DMSO_0.025\"\n",
    "MODEL_NAME = \"DMSO_0.025_vs_Thapsigargin_10\""
   ]
  },
  {
   "cell_type": "code",
   "execution_count": 3,
   "id": "394294ce",
   "metadata": {
    "execution": {
     "iopub.execute_input": "2023-08-04T00:35:35.750047Z",
     "iopub.status.busy": "2023-08-04T00:35:35.749792Z",
     "iopub.status.idle": "2023-08-04T00:35:35.753475Z",
     "shell.execute_reply": "2023-08-04T00:35:35.753109Z"
    },
    "papermill": {
     "duration": 0.010126,
     "end_time": "2023-08-04T00:35:35.754392",
     "exception": false,
     "start_time": "2023-08-04T00:35:35.744266",
     "status": "completed"
    },
    "tags": []
   },
   "outputs": [],
   "source": [
    "data = Path(\"../../MLP_utils/binary_config.toml\")\n",
    "config = toml.load(data)\n",
    "params = Parameters()\n",
    "params = parameter_set(params, config)\n",
    "\n",
    "# overwrite params via command line arguments from papermill\n",
    "params.CELL_TYPE = CELL_TYPE\n",
    "params.MODEL_NAME = MODEL_NAME\n",
    "params.CONTROL_NAME = CONTROL_NAME\n",
    "params.TREATMENT_NAME = TREATMENT_NAME\n",
    "params.MODEL_NAME = MODEL_NAME"
   ]
  },
  {
   "cell_type": "code",
   "execution_count": null,
   "id": "9beb9e62",
   "metadata": {
    "execution": {
     "iopub.execute_input": "2023-08-04T00:35:35.764548Z",
     "iopub.status.busy": "2023-08-04T00:35:35.764282Z",
     "iopub.status.idle": "2023-08-04T00:35:35.766586Z",
     "shell.execute_reply": "2023-08-04T00:35:35.766237Z"
    },
    "papermill": {
     "duration": 0.0082,
     "end_time": "2023-08-04T00:35:35.767487",
     "exception": false,
     "start_time": "2023-08-04T00:35:35.759287",
     "status": "completed"
    },
    "tags": []
   },
   "outputs": [],
   "source": []
  },
  {
   "cell_type": "code",
   "execution_count": 4,
   "id": "44baa945",
   "metadata": {
    "execution": {
     "iopub.execute_input": "2023-08-04T00:35:35.777898Z",
     "iopub.status.busy": "2023-08-04T00:35:35.777663Z",
     "iopub.status.idle": "2023-08-04T00:35:38.070659Z",
     "shell.execute_reply": "2023-08-04T00:35:38.070207Z"
    },
    "papermill": {
     "duration": 2.299644,
     "end_time": "2023-08-04T00:35:38.071979",
     "exception": false,
     "start_time": "2023-08-04T00:35:35.772335",
     "status": "completed"
    },
    "tags": []
   },
   "outputs": [],
   "source": [
    "# Import Data\n",
    "# set data file path under pathlib path for multi-system use\n",
    "\n",
    "file_path = Path(f\"../../../data/{params.CELL_TYPE}_preprocessed_sc_norm.parquet\")\n",
    "\n",
    "df = pq.read_table(file_path).to_pandas()"
   ]
  },
  {
   "attachments": {},
   "cell_type": "markdown",
   "id": "5c486e00",
   "metadata": {
    "papermill": {
     "duration": 0.003525,
     "end_time": "2023-08-04T00:35:38.079712",
     "exception": false,
     "start_time": "2023-08-04T00:35:38.076187",
     "status": "completed"
    },
    "tags": []
   },
   "source": [
    "#### Set up Data to be compatible with model"
   ]
  },
  {
   "attachments": {},
   "cell_type": "markdown",
   "id": "95754baa",
   "metadata": {
    "papermill": {
     "duration": 0.002957,
     "end_time": "2023-08-04T00:35:38.085670",
     "exception": false,
     "start_time": "2023-08-04T00:35:38.082713",
     "status": "completed"
    },
    "tags": []
   },
   "source": [
    "##### Classification Models:\n",
    "Comment out code if using regression"
   ]
  },
  {
   "cell_type": "code",
   "execution_count": 5,
   "id": "b6ea8ac9",
   "metadata": {
    "execution": {
     "iopub.execute_input": "2023-08-04T00:35:38.092533Z",
     "iopub.status.busy": "2023-08-04T00:35:38.092360Z",
     "iopub.status.idle": "2023-08-04T00:35:38.266135Z",
     "shell.execute_reply": "2023-08-04T00:35:38.265607Z"
    },
    "papermill": {
     "duration": 0.178345,
     "end_time": "2023-08-04T00:35:38.266988",
     "exception": false,
     "start_time": "2023-08-04T00:35:38.088643",
     "status": "completed"
    },
    "tags": []
   },
   "outputs": [
    {
     "name": "stdout",
     "output_type": "stream",
     "text": [
      "Selected Catagories are:\n",
      "['DMSO_0.100_DMSO_0.025' 'Thapsigargin_10.000_DMSO_0.025']\n",
      "The dimensions of the data are: (48855, 1276)\n",
      "Number of total missing values across all columns: 97710\n",
      "Data Subset Is Off\n"
     ]
    }
   ],
   "source": [
    "# filter the oneb_Metadata_Treatment_Dose_Inhibitor_Dose column to only include the treatment and control via loc\n",
    "df = df.loc[\n",
    "    df[\"oneb_Metadata_Treatment_Dose_Inhibitor_Dose\"].isin(\n",
    "        [params.TREATMENT_NAME, params.CONTROL_NAME]\n",
    "    )\n",
    "]\n",
    "\n",
    "print(\"Selected Catagories are:\")\n",
    "print(df[\"oneb_Metadata_Treatment_Dose_Inhibitor_Dose\"].unique())\n",
    "df_stats(df)\n",
    "\n",
    "if params.DATA_SUBSET_OPTION == \"True\":\n",
    "    df = df.sample(n=params.DATA_SUBSET_NUMBER)\n",
    "    print(\"Data Subset Is On\")\n",
    "    print(f\"Data is subset to {params.DATA_SUBSET_NUMBER}\")\n",
    "else:\n",
    "    print(\"Data Subset Is Off\")"
   ]
  },
  {
   "cell_type": "code",
   "execution_count": 6,
   "id": "088cff07",
   "metadata": {
    "execution": {
     "iopub.execute_input": "2023-08-04T00:35:38.274532Z",
     "iopub.status.busy": "2023-08-04T00:35:38.274323Z",
     "iopub.status.idle": "2023-08-04T00:35:39.004907Z",
     "shell.execute_reply": "2023-08-04T00:35:39.004475Z"
    },
    "papermill": {
     "duration": 0.735315,
     "end_time": "2023-08-04T00:35:39.005765",
     "exception": false,
     "start_time": "2023-08-04T00:35:38.270450",
     "status": "completed"
    },
    "tags": []
   },
   "outputs": [
    {
     "name": "stdout",
     "output_type": "stream",
     "text": [
      "Wells held out for testing: ['I14' 'L14']\n",
      "Wells to use for training, validation, and testing ['B14' 'C14' 'E14' 'B15' 'C15' 'E15' 'J14' 'I15' 'J15' 'L15']\n"
     ]
    }
   ],
   "source": [
    "np.random.seed(seed=0)\n",
    "wells_to_hold = (\n",
    "    df.groupby(\"oneb_Metadata_Treatment_Dose_Inhibitor_Dose\")\n",
    "    .agg(np.random.choice)[\"Metadata_Well\"]\n",
    "    .to_list()\n",
    ")\n",
    "df_holdout = df[df[\"Metadata_Well\"].isin(wells_to_hold)]\n",
    "df = df[~df[\"Metadata_Well\"].isin(wells_to_hold)]\n",
    "\n",
    "\n",
    "print(\"Wells held out for testing:\", df_holdout[\"Metadata_Well\"].unique())\n",
    "print(\n",
    "    \"Wells to use for training, validation, and testing\", df[\"Metadata_Well\"].unique()\n",
    ")"
   ]
  },
  {
   "cell_type": "code",
   "execution_count": 7,
   "id": "786e3a76",
   "metadata": {
    "execution": {
     "iopub.execute_input": "2023-08-04T00:35:39.017740Z",
     "iopub.status.busy": "2023-08-04T00:35:39.017548Z",
     "iopub.status.idle": "2023-08-04T00:35:39.070274Z",
     "shell.execute_reply": "2023-08-04T00:35:39.069863Z"
    },
    "papermill": {
     "duration": 0.06004,
     "end_time": "2023-08-04T00:35:39.071061",
     "exception": false,
     "start_time": "2023-08-04T00:35:39.011021",
     "status": "completed"
    },
    "tags": []
   },
   "outputs": [],
   "source": [
    "# Code snippet for metadata extraction by Jenna Tomkinson\n",
    "df_metadata = list(df.columns[df.columns.str.startswith(\"Metadata\")])\n",
    "\n",
    "# define which columns are data and which are descriptive\n",
    "df_descriptive = df[df_metadata]\n",
    "df_values = df.drop(columns=df_metadata)"
   ]
  },
  {
   "cell_type": "code",
   "execution_count": 8,
   "id": "595afb65",
   "metadata": {
    "execution": {
     "iopub.execute_input": "2023-08-04T00:35:39.081475Z",
     "iopub.status.busy": "2023-08-04T00:35:39.081320Z",
     "iopub.status.idle": "2023-08-04T00:35:39.133639Z",
     "shell.execute_reply": "2023-08-04T00:35:39.133217Z"
    },
    "papermill": {
     "duration": 0.058516,
     "end_time": "2023-08-04T00:35:39.134375",
     "exception": false,
     "start_time": "2023-08-04T00:35:39.075859",
     "status": "completed"
    },
    "tags": []
   },
   "outputs": [],
   "source": [
    "# Creating label encoder\n",
    "le = preprocessing.LabelEncoder()\n",
    "# Converting strings into numbers\n",
    "df_values[\"oneb_Metadata_Treatment_Dose_Inhibitor_Dose\"] = le.fit_transform(\n",
    "    df_values[\"oneb_Metadata_Treatment_Dose_Inhibitor_Dose\"]\n",
    ")\n",
    "# split into X and Y where Y are the predictive column and x are the observable data\n",
    "df_values_X = df_values.drop(\n",
    "    [\n",
    "        \"oneb_Metadata_Treatment_Dose_Inhibitor_Dose\",\n",
    "        \"twob_Metadata_Treatment_Dose_Inhibitor_Dose\",\n",
    "        \"threeb_Metadata_Treatment_Dose_Inhibitor_Dose\",\n",
    "        \"fourb_Metadata_Treatment_Dose_Inhibitor_Dose\",\n",
    "    ],\n",
    "    axis=1,\n",
    ")\n",
    "df_values_Y = df_values[\"oneb_Metadata_Treatment_Dose_Inhibitor_Dose\"]"
   ]
  },
  {
   "attachments": {},
   "cell_type": "markdown",
   "id": "260a048e",
   "metadata": {
    "papermill": {
     "duration": 0.005606,
     "end_time": "2023-08-04T00:35:39.144972",
     "exception": false,
     "start_time": "2023-08-04T00:35:39.139366",
     "status": "completed"
    },
    "tags": []
   },
   "source": [
    "#### Split Data - All Models can proceed through this point"
   ]
  },
  {
   "cell_type": "code",
   "execution_count": 9,
   "id": "f4feb87f",
   "metadata": {
    "execution": {
     "iopub.execute_input": "2023-08-04T00:35:39.157173Z",
     "iopub.status.busy": "2023-08-04T00:35:39.157016Z",
     "iopub.status.idle": "2023-08-04T00:35:39.524629Z",
     "shell.execute_reply": "2023-08-04T00:35:39.524122Z"
    },
    "papermill": {
     "duration": 0.374316,
     "end_time": "2023-08-04T00:35:39.526014",
     "exception": false,
     "start_time": "2023-08-04T00:35:39.151698",
     "status": "completed"
    },
    "tags": []
   },
   "outputs": [],
   "source": [
    "X_train, X_test, X_val, Y_train, Y_test, Y_val = data_split(\n",
    "    X_vals=df_values_X,\n",
    "    y_vals=df_values_Y,\n",
    "    train_proportion=0.8,\n",
    "    val_proportion=0.1,\n",
    "    test_proportion=0.1,\n",
    "    seed=1,\n",
    "    params=params,\n",
    ")"
   ]
  },
  {
   "cell_type": "code",
   "execution_count": 10,
   "id": "36894826",
   "metadata": {
    "execution": {
     "iopub.execute_input": "2023-08-04T00:35:39.535840Z",
     "iopub.status.busy": "2023-08-04T00:35:39.535636Z",
     "iopub.status.idle": "2023-08-04T00:35:39.566911Z",
     "shell.execute_reply": "2023-08-04T00:35:39.566460Z"
    },
    "papermill": {
     "duration": 0.037112,
     "end_time": "2023-08-04T00:35:39.568224",
     "exception": false,
     "start_time": "2023-08-04T00:35:39.531112",
     "status": "completed"
    },
    "tags": []
   },
   "outputs": [],
   "source": [
    "# produce data objects for train, val and test datasets\n",
    "train_data = Dataset_formatter(\n",
    "    torch.FloatTensor(X_train.values), torch.FloatTensor(Y_train.values)\n",
    ")\n",
    "val_data = Dataset_formatter(\n",
    "    torch.FloatTensor(X_val.values), torch.FloatTensor(Y_val.values)\n",
    ")\n",
    "test_data = Dataset_formatter(\n",
    "    torch.FloatTensor(X_test.values), torch.FloatTensor(Y_test.values)\n",
    ")"
   ]
  },
  {
   "cell_type": "code",
   "execution_count": 11,
   "id": "4382d712",
   "metadata": {
    "execution": {
     "iopub.execute_input": "2023-08-04T00:35:39.578879Z",
     "iopub.status.busy": "2023-08-04T00:35:39.578641Z",
     "iopub.status.idle": "2023-08-04T00:35:39.582357Z",
     "shell.execute_reply": "2023-08-04T00:35:39.581931Z"
    },
    "papermill": {
     "duration": 0.009571,
     "end_time": "2023-08-04T00:35:39.583070",
     "exception": false,
     "start_time": "2023-08-04T00:35:39.573499",
     "status": "completed"
    },
    "tags": []
   },
   "outputs": [
    {
     "name": "stdout",
     "output_type": "stream",
     "text": [
      "Number of in features:  1251\n",
      "Number of out features:  2\n",
      "Binary_Classification\n"
     ]
    }
   ],
   "source": [
    "params.IN_FEATURES = X_train.shape[1]\n",
    "print(\"Number of in features: \", params.IN_FEATURES)\n",
    "if params.MODEL_TYPE == \"Regression\":\n",
    "    params.OUT_FEATURES = 1\n",
    "else:\n",
    "    params.OUT_FEATURES = len(\n",
    "        df_values[\"oneb_Metadata_Treatment_Dose_Inhibitor_Dose\"].unique()\n",
    "    )\n",
    "\n",
    "print(\"Number of out features: \", params.OUT_FEATURES)\n",
    "\n",
    "if params.OUT_FEATURES > 2:\n",
    "    params.MODEL_TYPE = \"Multi_Class\"\n",
    "elif params.OUT_FEATURES == 2:\n",
    "    params.OUT_FEATURES = params.OUT_FEATURES - 1\n",
    "    params.MODEL_TYPE = \"Binary_Classification\"\n",
    "elif params.OUT_FEATURES == 1:\n",
    "    params.MODEL_TYPE = \"Regression\"\n",
    "else:\n",
    "    pass\n",
    "print(params.MODEL_TYPE)"
   ]
  },
  {
   "cell_type": "code",
   "execution_count": 12,
   "id": "77effa5c",
   "metadata": {
    "execution": {
     "iopub.execute_input": "2023-08-04T00:35:39.591754Z",
     "iopub.status.busy": "2023-08-04T00:35:39.591436Z",
     "iopub.status.idle": "2023-08-04T00:35:39.594050Z",
     "shell.execute_reply": "2023-08-04T00:35:39.593725Z"
    },
    "papermill": {
     "duration": 0.007732,
     "end_time": "2023-08-04T00:35:39.594685",
     "exception": false,
     "start_time": "2023-08-04T00:35:39.586953",
     "status": "completed"
    },
    "tags": []
   },
   "outputs": [],
   "source": [
    "# convert data class into a dataloader to be compatible with pytorch\n",
    "train_loader = torch.utils.data.DataLoader(\n",
    "    dataset=train_data, batch_size=params.BATCH_SIZE\n",
    ")\n",
    "valid_loader = torch.utils.data.DataLoader(\n",
    "    dataset=val_data, batch_size=params.BATCH_SIZE\n",
    ")\n",
    "test_loader = torch.utils.data.DataLoader(\n",
    "    dataset=test_data, batch_size=1, shuffle=SHUFFLE_DATA\n",
    ")"
   ]
  },
  {
   "cell_type": "code",
   "execution_count": 13,
   "id": "cb7635c8",
   "metadata": {
    "execution": {
     "iopub.execute_input": "2023-08-04T00:35:39.601429Z",
     "iopub.status.busy": "2023-08-04T00:35:39.601326Z",
     "iopub.status.idle": "2023-08-04T00:35:39.603298Z",
     "shell.execute_reply": "2023-08-04T00:35:39.603032Z"
    },
    "papermill": {
     "duration": 0.006272,
     "end_time": "2023-08-04T00:35:39.604087",
     "exception": false,
     "start_time": "2023-08-04T00:35:39.597815",
     "status": "completed"
    },
    "tags": []
   },
   "outputs": [
    {
     "name": "stdout",
     "output_type": "stream",
     "text": [
      "cuda\n"
     ]
    }
   ],
   "source": [
    "print(params.DEVICE)"
   ]
  },
  {
   "cell_type": "code",
   "execution_count": 14,
   "id": "a969042f",
   "metadata": {
    "execution": {
     "iopub.execute_input": "2023-08-04T00:35:39.611226Z",
     "iopub.status.busy": "2023-08-04T00:35:39.610854Z",
     "iopub.status.idle": "2023-08-04T00:37:00.998709Z",
     "shell.execute_reply": "2023-08-04T00:37:00.998333Z"
    },
    "papermill": {
     "duration": 81.392155,
     "end_time": "2023-08-04T00:37:00.999424",
     "exception": false,
     "start_time": "2023-08-04T00:35:39.607269",
     "status": "completed"
    },
    "tags": []
   },
   "outputs": [
    {
     "name": "stderr",
     "output_type": "stream",
     "text": [
      "[I 2023-08-03 18:58:28,708] A new study created in memory with name: no-name-e09588aa-bc4e-49b5-9c6d-7a5b6f5a050f\n",
      "[I 2023-08-03 18:58:40,301] Trial 0 finished with value: 0.23735268482565883 and parameters: {'n_layers': 3, 'n_units_l0': 3, 'dropout_0': 0.2801094062312778, 'n_units_l1': 3, 'dropout_1': 0.25218953379747144, 'n_units_l2': 6, 'dropout_2': 0.1834432980081137, 'learning_rate': 0.07082238088540066, 'optimizer': 'SGD'}. Best is trial 0 with value: 0.23735268482565883.\n",
      "[I 2023-08-03 18:58:50,753] Trial 1 finished with value: 0.12812778062373398 and parameters: {'n_layers': 3, 'n_units_l0': 9, 'dropout_0': 0.2705409086730711, 'n_units_l1': 8, 'dropout_1': 0.21580575370582447, 'n_units_l2': 2, 'dropout_2': 0.2652183758229085, 'learning_rate': 0.00873054422158719, 'optimizer': 'RMSprop'}. Best is trial 1 with value: 0.12812778062373398.\n",
      "[I 2023-08-03 18:59:01,146] Trial 2 finished with value: 0.4447024640440941 and parameters: {'n_layers': 3, 'n_units_l0': 10, 'dropout_0': 0.3123893154811086, 'n_units_l1': 9, 'dropout_1': 0.39212452525209696, 'n_units_l2': 6, 'dropout_2': 0.1536469192779554, 'learning_rate': 0.08513476646648103, 'optimizer': 'RMSprop'}. Best is trial 1 with value: 0.12812778062373398.\n",
      "[I 2023-08-03 18:59:11,098] Trial 3 finished with value: 0.16052525243163107 and parameters: {'n_layers': 1, 'n_units_l0': 6, 'dropout_0': 0.11028397084569916, 'learning_rate': 0.027093563103713095, 'optimizer': 'Adam'}. Best is trial 1 with value: 0.12812778062373398.\n",
      "[I 2023-08-03 18:59:21,325] Trial 4 finished with value: 0.27233111351728445 and parameters: {'n_layers': 3, 'n_units_l0': 2, 'dropout_0': 0.38774954534696926, 'n_units_l1': 3, 'dropout_1': 0.3432710492854254, 'n_units_l2': 9, 'dropout_2': 0.3016291424427989, 'learning_rate': 0.0702753208051885, 'optimizer': 'Adam'}. Best is trial 1 with value: 0.12812778062373398.\n",
      "[I 2023-08-03 18:59:31,325] Trial 5 finished with value: 0.18686927914619444 and parameters: {'n_layers': 3, 'n_units_l0': 10, 'dropout_0': 0.3341186434405765, 'n_units_l1': 5, 'dropout_1': 0.11691916346242147, 'n_units_l2': 5, 'dropout_2': 0.11271167898592549, 'learning_rate': 0.02661272242980044, 'optimizer': 'RMSprop'}. Best is trial 1 with value: 0.12812778062373398.\n",
      "[I 2023-08-03 18:59:31,498] Trial 6 pruned. \n",
      "[I 2023-08-03 18:59:31,744] Trial 7 pruned. \n",
      "[I 2023-08-03 18:59:31,924] Trial 8 pruned. \n",
      "[I 2023-08-03 18:59:42,007] Trial 9 finished with value: 0.191808758944273 and parameters: {'n_layers': 3, 'n_units_l0': 4, 'dropout_0': 0.39931068217910204, 'n_units_l1': 10, 'dropout_1': 0.3128144250347987, 'n_units_l2': 10, 'dropout_2': 0.12492857852234009, 'learning_rate': 0.005478408014388321, 'optimizer': 'Adam'}. Best is trial 1 with value: 0.12812778062373398.\n"
     ]
    },
    {
     "name": "stdout",
     "output_type": "stream",
     "text": [
      "Validation Accuracy: 94.85939036381515\n",
      "Validation Loss: 0.1263872863352299\n",
      "Training Accuracy: 88.52716990410622\n",
      "Training Loss: 0.247632417642709\n"
     ]
    },
    {
     "data": {
      "text/plain": [
       "(94.85939036381515, 0.1263872863352299, 88.52716990410622, 0.247632417642709)"
      ]
     },
     "execution_count": 14,
     "metadata": {},
     "output_type": "execute_result"
    }
   ],
   "source": [
    "# no accuracy function must be loss for regression\n",
    "if params.MODEL_TYPE == \"Regression\":\n",
    "    params.METRIC = \"loss\"\n",
    "    pass\n",
    "\n",
    "\n",
    "# wrap the objective function inside of a lambda function to pass args...\n",
    "objective_lambda_func = lambda trial: objective_model_optimizer(\n",
    "    train_loader,\n",
    "    valid_loader,\n",
    "    trial=trial,\n",
    "    params=params,\n",
    "    metric=params.METRIC,\n",
    "    return_info=False,\n",
    ")\n",
    "\n",
    "\n",
    "# Study is the object for model optimization\n",
    "study = optuna.create_study(direction=f\"{params.DIRECTION}\")\n",
    "# Here I apply the optimize function of the study to the objective function\n",
    "# This optimizes each parameter specified to be optimized from the defined search space\n",
    "study.optimize(objective_lambda_func, n_trials=params.N_TRIALS)\n",
    "# Prints out the best trial's optimized parameters\n",
    "objective_model_optimizer(\n",
    "    train_loader,\n",
    "    valid_loader,\n",
    "    trial=study.best_trial,\n",
    "    params=params,\n",
    "    metric=params.METRIC,\n",
    "    return_info=True,\n",
    ")"
   ]
  },
  {
   "cell_type": "code",
   "execution_count": 15,
   "id": "b2620589",
   "metadata": {
    "execution": {
     "iopub.execute_input": "2023-08-04T00:37:01.008132Z",
     "iopub.status.busy": "2023-08-04T00:37:01.007834Z",
     "iopub.status.idle": "2023-08-04T00:37:01.451670Z",
     "shell.execute_reply": "2023-08-04T00:37:01.451292Z"
    },
    "papermill": {
     "duration": 0.476344,
     "end_time": "2023-08-04T00:37:01.479492",
     "exception": false,
     "start_time": "2023-08-04T00:37:01.003148",
     "status": "completed"
    },
    "tags": []
   },
   "outputs": [
    {
     "data": {
      "application/vnd.plotly.v1+json": {
       "config": {
        "plotlyServerURL": "https://plot.ly"
       },
       "data": [
        {
         "mode": "markers",
         "name": "Objective Value",
         "type": "scatter",
         "x": [
          0,
          1,
          2,
          3,
          4,
          5,
          9
         ],
         "y": [
          0.23735268482565883,
          0.12812778062373398,
          0.4447024640440941,
          0.16052525243163107,
          0.27233111351728445,
          0.18686927914619444,
          0.191808758944273
         ]
        },
        {
         "name": "Best Value",
         "type": "scatter",
         "x": [
          0,
          1,
          2,
          3,
          4,
          5,
          9
         ],
         "y": [
          0.23735268482565883,
          0.12812778062373398,
          0.12812778062373398,
          0.12812778062373398,
          0.12812778062373398,
          0.12812778062373398,
          0.12812778062373398
         ]
        }
       ],
       "layout": {
        "template": {
         "data": {
          "bar": [
           {
            "error_x": {
             "color": "#2a3f5f"
            },
            "error_y": {
             "color": "#2a3f5f"
            },
            "marker": {
             "line": {
              "color": "#E5ECF6",
              "width": 0.5
             },
             "pattern": {
              "fillmode": "overlay",
              "size": 10,
              "solidity": 0.2
             }
            },
            "type": "bar"
           }
          ],
          "barpolar": [
           {
            "marker": {
             "line": {
              "color": "#E5ECF6",
              "width": 0.5
             },
             "pattern": {
              "fillmode": "overlay",
              "size": 10,
              "solidity": 0.2
             }
            },
            "type": "barpolar"
           }
          ],
          "carpet": [
           {
            "aaxis": {
             "endlinecolor": "#2a3f5f",
             "gridcolor": "white",
             "linecolor": "white",
             "minorgridcolor": "white",
             "startlinecolor": "#2a3f5f"
            },
            "baxis": {
             "endlinecolor": "#2a3f5f",
             "gridcolor": "white",
             "linecolor": "white",
             "minorgridcolor": "white",
             "startlinecolor": "#2a3f5f"
            },
            "type": "carpet"
           }
          ],
          "choropleth": [
           {
            "colorbar": {
             "outlinewidth": 0,
             "ticks": ""
            },
            "type": "choropleth"
           }
          ],
          "contour": [
           {
            "colorbar": {
             "outlinewidth": 0,
             "ticks": ""
            },
            "colorscale": [
             [
              0,
              "#0d0887"
             ],
             [
              0.1111111111111111,
              "#46039f"
             ],
             [
              0.2222222222222222,
              "#7201a8"
             ],
             [
              0.3333333333333333,
              "#9c179e"
             ],
             [
              0.4444444444444444,
              "#bd3786"
             ],
             [
              0.5555555555555556,
              "#d8576b"
             ],
             [
              0.6666666666666666,
              "#ed7953"
             ],
             [
              0.7777777777777778,
              "#fb9f3a"
             ],
             [
              0.8888888888888888,
              "#fdca26"
             ],
             [
              1,
              "#f0f921"
             ]
            ],
            "type": "contour"
           }
          ],
          "contourcarpet": [
           {
            "colorbar": {
             "outlinewidth": 0,
             "ticks": ""
            },
            "type": "contourcarpet"
           }
          ],
          "heatmap": [
           {
            "colorbar": {
             "outlinewidth": 0,
             "ticks": ""
            },
            "colorscale": [
             [
              0,
              "#0d0887"
             ],
             [
              0.1111111111111111,
              "#46039f"
             ],
             [
              0.2222222222222222,
              "#7201a8"
             ],
             [
              0.3333333333333333,
              "#9c179e"
             ],
             [
              0.4444444444444444,
              "#bd3786"
             ],
             [
              0.5555555555555556,
              "#d8576b"
             ],
             [
              0.6666666666666666,
              "#ed7953"
             ],
             [
              0.7777777777777778,
              "#fb9f3a"
             ],
             [
              0.8888888888888888,
              "#fdca26"
             ],
             [
              1,
              "#f0f921"
             ]
            ],
            "type": "heatmap"
           }
          ],
          "heatmapgl": [
           {
            "colorbar": {
             "outlinewidth": 0,
             "ticks": ""
            },
            "colorscale": [
             [
              0,
              "#0d0887"
             ],
             [
              0.1111111111111111,
              "#46039f"
             ],
             [
              0.2222222222222222,
              "#7201a8"
             ],
             [
              0.3333333333333333,
              "#9c179e"
             ],
             [
              0.4444444444444444,
              "#bd3786"
             ],
             [
              0.5555555555555556,
              "#d8576b"
             ],
             [
              0.6666666666666666,
              "#ed7953"
             ],
             [
              0.7777777777777778,
              "#fb9f3a"
             ],
             [
              0.8888888888888888,
              "#fdca26"
             ],
             [
              1,
              "#f0f921"
             ]
            ],
            "type": "heatmapgl"
           }
          ],
          "histogram": [
           {
            "marker": {
             "pattern": {
              "fillmode": "overlay",
              "size": 10,
              "solidity": 0.2
             }
            },
            "type": "histogram"
           }
          ],
          "histogram2d": [
           {
            "colorbar": {
             "outlinewidth": 0,
             "ticks": ""
            },
            "colorscale": [
             [
              0,
              "#0d0887"
             ],
             [
              0.1111111111111111,
              "#46039f"
             ],
             [
              0.2222222222222222,
              "#7201a8"
             ],
             [
              0.3333333333333333,
              "#9c179e"
             ],
             [
              0.4444444444444444,
              "#bd3786"
             ],
             [
              0.5555555555555556,
              "#d8576b"
             ],
             [
              0.6666666666666666,
              "#ed7953"
             ],
             [
              0.7777777777777778,
              "#fb9f3a"
             ],
             [
              0.8888888888888888,
              "#fdca26"
             ],
             [
              1,
              "#f0f921"
             ]
            ],
            "type": "histogram2d"
           }
          ],
          "histogram2dcontour": [
           {
            "colorbar": {
             "outlinewidth": 0,
             "ticks": ""
            },
            "colorscale": [
             [
              0,
              "#0d0887"
             ],
             [
              0.1111111111111111,
              "#46039f"
             ],
             [
              0.2222222222222222,
              "#7201a8"
             ],
             [
              0.3333333333333333,
              "#9c179e"
             ],
             [
              0.4444444444444444,
              "#bd3786"
             ],
             [
              0.5555555555555556,
              "#d8576b"
             ],
             [
              0.6666666666666666,
              "#ed7953"
             ],
             [
              0.7777777777777778,
              "#fb9f3a"
             ],
             [
              0.8888888888888888,
              "#fdca26"
             ],
             [
              1,
              "#f0f921"
             ]
            ],
            "type": "histogram2dcontour"
           }
          ],
          "mesh3d": [
           {
            "colorbar": {
             "outlinewidth": 0,
             "ticks": ""
            },
            "type": "mesh3d"
           }
          ],
          "parcoords": [
           {
            "line": {
             "colorbar": {
              "outlinewidth": 0,
              "ticks": ""
             }
            },
            "type": "parcoords"
           }
          ],
          "pie": [
           {
            "automargin": true,
            "type": "pie"
           }
          ],
          "scatter": [
           {
            "fillpattern": {
             "fillmode": "overlay",
             "size": 10,
             "solidity": 0.2
            },
            "type": "scatter"
           }
          ],
          "scatter3d": [
           {
            "line": {
             "colorbar": {
              "outlinewidth": 0,
              "ticks": ""
             }
            },
            "marker": {
             "colorbar": {
              "outlinewidth": 0,
              "ticks": ""
             }
            },
            "type": "scatter3d"
           }
          ],
          "scattercarpet": [
           {
            "marker": {
             "colorbar": {
              "outlinewidth": 0,
              "ticks": ""
             }
            },
            "type": "scattercarpet"
           }
          ],
          "scattergeo": [
           {
            "marker": {
             "colorbar": {
              "outlinewidth": 0,
              "ticks": ""
             }
            },
            "type": "scattergeo"
           }
          ],
          "scattergl": [
           {
            "marker": {
             "colorbar": {
              "outlinewidth": 0,
              "ticks": ""
             }
            },
            "type": "scattergl"
           }
          ],
          "scattermapbox": [
           {
            "marker": {
             "colorbar": {
              "outlinewidth": 0,
              "ticks": ""
             }
            },
            "type": "scattermapbox"
           }
          ],
          "scatterpolar": [
           {
            "marker": {
             "colorbar": {
              "outlinewidth": 0,
              "ticks": ""
             }
            },
            "type": "scatterpolar"
           }
          ],
          "scatterpolargl": [
           {
            "marker": {
             "colorbar": {
              "outlinewidth": 0,
              "ticks": ""
             }
            },
            "type": "scatterpolargl"
           }
          ],
          "scatterternary": [
           {
            "marker": {
             "colorbar": {
              "outlinewidth": 0,
              "ticks": ""
             }
            },
            "type": "scatterternary"
           }
          ],
          "surface": [
           {
            "colorbar": {
             "outlinewidth": 0,
             "ticks": ""
            },
            "colorscale": [
             [
              0,
              "#0d0887"
             ],
             [
              0.1111111111111111,
              "#46039f"
             ],
             [
              0.2222222222222222,
              "#7201a8"
             ],
             [
              0.3333333333333333,
              "#9c179e"
             ],
             [
              0.4444444444444444,
              "#bd3786"
             ],
             [
              0.5555555555555556,
              "#d8576b"
             ],
             [
              0.6666666666666666,
              "#ed7953"
             ],
             [
              0.7777777777777778,
              "#fb9f3a"
             ],
             [
              0.8888888888888888,
              "#fdca26"
             ],
             [
              1,
              "#f0f921"
             ]
            ],
            "type": "surface"
           }
          ],
          "table": [
           {
            "cells": {
             "fill": {
              "color": "#EBF0F8"
             },
             "line": {
              "color": "white"
             }
            },
            "header": {
             "fill": {
              "color": "#C8D4E3"
             },
             "line": {
              "color": "white"
             }
            },
            "type": "table"
           }
          ]
         },
         "layout": {
          "annotationdefaults": {
           "arrowcolor": "#2a3f5f",
           "arrowhead": 0,
           "arrowwidth": 1
          },
          "autotypenumbers": "strict",
          "coloraxis": {
           "colorbar": {
            "outlinewidth": 0,
            "ticks": ""
           }
          },
          "colorscale": {
           "diverging": [
            [
             0,
             "#8e0152"
            ],
            [
             0.1,
             "#c51b7d"
            ],
            [
             0.2,
             "#de77ae"
            ],
            [
             0.3,
             "#f1b6da"
            ],
            [
             0.4,
             "#fde0ef"
            ],
            [
             0.5,
             "#f7f7f7"
            ],
            [
             0.6,
             "#e6f5d0"
            ],
            [
             0.7,
             "#b8e186"
            ],
            [
             0.8,
             "#7fbc41"
            ],
            [
             0.9,
             "#4d9221"
            ],
            [
             1,
             "#276419"
            ]
           ],
           "sequential": [
            [
             0,
             "#0d0887"
            ],
            [
             0.1111111111111111,
             "#46039f"
            ],
            [
             0.2222222222222222,
             "#7201a8"
            ],
            [
             0.3333333333333333,
             "#9c179e"
            ],
            [
             0.4444444444444444,
             "#bd3786"
            ],
            [
             0.5555555555555556,
             "#d8576b"
            ],
            [
             0.6666666666666666,
             "#ed7953"
            ],
            [
             0.7777777777777778,
             "#fb9f3a"
            ],
            [
             0.8888888888888888,
             "#fdca26"
            ],
            [
             1,
             "#f0f921"
            ]
           ],
           "sequentialminus": [
            [
             0,
             "#0d0887"
            ],
            [
             0.1111111111111111,
             "#46039f"
            ],
            [
             0.2222222222222222,
             "#7201a8"
            ],
            [
             0.3333333333333333,
             "#9c179e"
            ],
            [
             0.4444444444444444,
             "#bd3786"
            ],
            [
             0.5555555555555556,
             "#d8576b"
            ],
            [
             0.6666666666666666,
             "#ed7953"
            ],
            [
             0.7777777777777778,
             "#fb9f3a"
            ],
            [
             0.8888888888888888,
             "#fdca26"
            ],
            [
             1,
             "#f0f921"
            ]
           ]
          },
          "colorway": [
           "#636efa",
           "#EF553B",
           "#00cc96",
           "#ab63fa",
           "#FFA15A",
           "#19d3f3",
           "#FF6692",
           "#B6E880",
           "#FF97FF",
           "#FECB52"
          ],
          "font": {
           "color": "#2a3f5f"
          },
          "geo": {
           "bgcolor": "white",
           "lakecolor": "white",
           "landcolor": "#E5ECF6",
           "showlakes": true,
           "showland": true,
           "subunitcolor": "white"
          },
          "hoverlabel": {
           "align": "left"
          },
          "hovermode": "closest",
          "mapbox": {
           "style": "light"
          },
          "paper_bgcolor": "white",
          "plot_bgcolor": "#E5ECF6",
          "polar": {
           "angularaxis": {
            "gridcolor": "white",
            "linecolor": "white",
            "ticks": ""
           },
           "bgcolor": "#E5ECF6",
           "radialaxis": {
            "gridcolor": "white",
            "linecolor": "white",
            "ticks": ""
           }
          },
          "scene": {
           "xaxis": {
            "backgroundcolor": "#E5ECF6",
            "gridcolor": "white",
            "gridwidth": 2,
            "linecolor": "white",
            "showbackground": true,
            "ticks": "",
            "zerolinecolor": "white"
           },
           "yaxis": {
            "backgroundcolor": "#E5ECF6",
            "gridcolor": "white",
            "gridwidth": 2,
            "linecolor": "white",
            "showbackground": true,
            "ticks": "",
            "zerolinecolor": "white"
           },
           "zaxis": {
            "backgroundcolor": "#E5ECF6",
            "gridcolor": "white",
            "gridwidth": 2,
            "linecolor": "white",
            "showbackground": true,
            "ticks": "",
            "zerolinecolor": "white"
           }
          },
          "shapedefaults": {
           "line": {
            "color": "#2a3f5f"
           }
          },
          "ternary": {
           "aaxis": {
            "gridcolor": "white",
            "linecolor": "white",
            "ticks": ""
           },
           "baxis": {
            "gridcolor": "white",
            "linecolor": "white",
            "ticks": ""
           },
           "bgcolor": "#E5ECF6",
           "caxis": {
            "gridcolor": "white",
            "linecolor": "white",
            "ticks": ""
           }
          },
          "title": {
           "x": 0.05
          },
          "xaxis": {
           "automargin": true,
           "gridcolor": "white",
           "linecolor": "white",
           "ticks": "",
           "title": {
            "standoff": 15
           },
           "zerolinecolor": "white",
           "zerolinewidth": 2
          },
          "yaxis": {
           "automargin": true,
           "gridcolor": "white",
           "linecolor": "white",
           "ticks": "",
           "title": {
            "standoff": 15
           },
           "zerolinecolor": "white",
           "zerolinewidth": 2
          }
         }
        },
        "title": {
         "text": "Optimization History Plot"
        },
        "xaxis": {
         "title": {
          "text": "Trial"
         }
        },
        "yaxis": {
         "title": {
          "text": "Objective Value"
         }
        }
       }
      }
     },
     "metadata": {},
     "output_type": "display_data"
    }
   ],
   "source": [
    "# create graph directory for this model\n",
    "graph_path = Path(\n",
    "    f\"../../figures/{params.MODEL_TYPE}/{params.MODEL_NAME}/{params.CELL_TYPE}\"\n",
    ")\n",
    "Path(graph_path).mkdir(parents=True, exist_ok=True)\n",
    "fig = optuna.visualization.plot_optimization_history(study)\n",
    "\n",
    "if SHUFFLE_DATA:\n",
    "    graph_path = f\"{graph_path}/plot_optimization_history_graph_shuffled_data\"\n",
    "elif not SHUFFLE_DATA:\n",
    "    graph_path = f\"{graph_path}/plot_optimization_history_graph\"\n",
    "else:\n",
    "    raise ModelNameError\n",
    "fig.write_image(Path(f\"{graph_path}.png\"))\n",
    "fig.show()"
   ]
  },
  {
   "cell_type": "code",
   "execution_count": 16,
   "id": "92103de1",
   "metadata": {
    "execution": {
     "iopub.execute_input": "2023-08-04T00:37:01.526870Z",
     "iopub.status.busy": "2023-08-04T00:37:01.526591Z",
     "iopub.status.idle": "2023-08-04T00:37:01.583975Z",
     "shell.execute_reply": "2023-08-04T00:37:01.583597Z"
    },
    "papermill": {
     "duration": 0.081824,
     "end_time": "2023-08-04T00:37:01.585001",
     "exception": false,
     "start_time": "2023-08-04T00:37:01.503177",
     "status": "completed"
    },
    "tags": []
   },
   "outputs": [
    {
     "data": {
      "application/vnd.plotly.v1+json": {
       "config": {
        "plotlyServerURL": "https://plot.ly"
       },
       "data": [
        {
         "marker": {
          "maxdisplayed": 10
         },
         "mode": "lines+markers",
         "name": "Trial0",
         "type": "scatter",
         "x": [
          0,
          1,
          2,
          3,
          4,
          5,
          6,
          7,
          8,
          9,
          10,
          11,
          12,
          13,
          14,
          15,
          16,
          17,
          18,
          19,
          20,
          21,
          22,
          23,
          24,
          25,
          26,
          27,
          28,
          29,
          30,
          31,
          32,
          33,
          34,
          35,
          36,
          37,
          38,
          39,
          40,
          41,
          42,
          43,
          44,
          45,
          46,
          47,
          48,
          49
         ],
         "y": [
          0.5506516814231872,
          0.5434541255235672,
          0.5390268762906393,
          0.535368312895298,
          0.531508548259735,
          0.5270838399728138,
          0.5222105392387935,
          0.5170361056923867,
          0.5116286390357547,
          0.5060623502731324,
          0.5000964056361806,
          0.493434185286363,
          0.4837167900342208,
          0.4709596463612148,
          0.4573100582758586,
          0.44376690667122604,
          0.4306364148855209,
          0.41823710302511846,
          0.40650224858208706,
          0.39534480437636377,
          0.3847585284993762,
          0.3747686927968806,
          0.36533253879650784,
          0.35665442297856015,
          0.34828786879777907,
          0.34031584876087995,
          0.33300752551467333,
          0.32607273273169995,
          0.3194382950663566,
          0.3133441936969757,
          0.3074816736002122,
          0.3021210039034486,
          0.29691854019959774,
          0.2919412042726489,
          0.2872222879954747,
          0.28295438090960195,
          0.278607619654488,
          0.2745068909306276,
          0.2706824575861296,
          0.2669000954553485,
          0.263279047172244,
          0.25977384770909945,
          0.25664479760236514,
          0.2536788262426853,
          0.25062935445043777,
          0.2477446945465129,
          0.2450723883319408,
          0.24240232038622103,
          0.23991023654840432,
          0.23735268482565883
         ]
        },
        {
         "marker": {
          "maxdisplayed": 10
         },
         "mode": "lines+markers",
         "name": "Trial1",
         "type": "scatter",
         "x": [
          0,
          1,
          2,
          3,
          4,
          5,
          6,
          7,
          8,
          9,
          10,
          11,
          12,
          13,
          14,
          15,
          16,
          17,
          18,
          19,
          20,
          21,
          22,
          23,
          24,
          25,
          26,
          27,
          28,
          29,
          30,
          31,
          32,
          33,
          34,
          35,
          36,
          37,
          38,
          39,
          40,
          41,
          42,
          43,
          44,
          45,
          46,
          47,
          48,
          49
         ],
         "y": [
          0.3169135421514511,
          0.30397329777479176,
          0.29192790985107425,
          0.2652148764580488,
          0.2430911234021187,
          0.22669433156649274,
          0.21373858835015977,
          0.20369084347039462,
          0.19483330200115842,
          0.187449631690979,
          0.18117586997422305,
          0.17579984987775485,
          0.1714444048129595,
          0.16715018302202225,
          0.16310309102137882,
          0.16040889238938688,
          0.15751266150790103,
          0.15587637941870425,
          0.1540070008682577,
          0.15187161173671482,
          0.14993394233641166,
          0.14822422513230277,
          0.14648591801524158,
          0.14478449790428083,
          0.14318592405319217,
          0.14185009294977557,
          0.14069142589966457,
          0.13974650794906276,
          0.138618436430035,
          0.13800157027939958,
          0.13715573527639913,
          0.13647411491256206,
          0.13543015467849645,
          0.13448520574499578,
          0.13383791691490582,
          0.133070564083755,
          0.13224867197710113,
          0.1316726504187835,
          0.1309069071060572,
          0.13057769400998948,
          0.130195197390347,
          0.12968341126328423,
          0.12917406328542289,
          0.12896097473461518,
          0.12898812954624495,
          0.1290807212824407,
          0.1288539431355101,
          0.12864360173698514,
          0.1283420754634604,
          0.12812778062373398
         ]
        },
        {
         "marker": {
          "maxdisplayed": 10
         },
         "mode": "lines+markers",
         "name": "Trial2",
         "type": "scatter",
         "x": [
          0,
          1,
          2,
          3,
          4,
          5,
          6,
          7,
          8,
          9,
          10,
          11,
          12,
          13,
          14,
          15,
          16,
          17,
          18,
          19,
          20,
          21,
          22,
          23,
          24,
          25,
          26,
          27,
          28,
          29,
          30,
          31,
          32,
          33,
          34,
          35,
          36,
          37,
          38,
          39,
          40,
          41,
          42,
          43,
          44,
          45,
          46,
          47,
          48,
          49
         ],
         "y": [
          0.5318720281124115,
          0.5295178174972535,
          0.5268616696198781,
          0.5225308328866959,
          0.5174099397659302,
          0.511575401822726,
          0.5055252228464399,
          0.4985879465937615,
          0.49043048156632324,
          0.4826665925979615,
          0.47529159296642653,
          0.4675229087471962,
          0.458685242671233,
          0.4496789395809174,
          0.44029366016387944,
          0.4311863100156188,
          0.4223578063880696,
          0.4137512404057715,
          0.40537403021988117,
          0.39799943029880525,
          0.3907058856316975,
          0.38402754230932756,
          0.3774600364591764,
          0.37279972421626245,
          0.367180695772171,
          0.36163016041884055,
          0.35610428353150686,
          0.3514712849897998,
          0.3472930446780961,
          0.34256752928098044,
          0.33838441823759385,
          0.33744963016360996,
          0.33537438674406567,
          0.340619305302115,
          0.3413542641912188,
          0.3401730799012714,
          0.4503615711186383,
          0.45270739103618424,
          0.4506694134993431,
          0.4477365929633379,
          0.4436968769242124,
          0.4399257736546653,
          0.4355400811794192,
          0.4319831446490505,
          0.4346223103337818,
          0.4368094170223112,
          0.4389057568413146,
          0.44091676690926157,
          0.4428474538788504,
          0.4447024640440941
         ]
        },
        {
         "marker": {
          "maxdisplayed": 10
         },
         "mode": "lines+markers",
         "name": "Trial3",
         "type": "scatter",
         "x": [
          0,
          1,
          2,
          3,
          4,
          5,
          6,
          7,
          8,
          9,
          10,
          11,
          12,
          13,
          14,
          15,
          16,
          17,
          18,
          19,
          20,
          21,
          22,
          23,
          24,
          25,
          26,
          27,
          28,
          29,
          30,
          31,
          32,
          33,
          34,
          35,
          36,
          37,
          38,
          39,
          40,
          41,
          42,
          43,
          44,
          45,
          46,
          47,
          48,
          49
         ],
         "y": [
          0.17656275033950805,
          0.1617027223110199,
          0.15243866244951884,
          0.145413638651371,
          0.14105924427509306,
          0.13826675141851105,
          0.13680477887392042,
          0.13547853063791993,
          0.13503951976696651,
          0.13493771553039552,
          0.13472309735688295,
          0.13459462746977807,
          0.13497235018473405,
          0.13577376774379185,
          0.13624253352483115,
          0.13680722974240778,
          0.1371549069881439,
          0.13842426331506832,
          0.1386919796466827,
          0.13865217998623844,
          0.1392148985749199,
          0.1396608844399452,
          0.13961811558060022,
          0.1402573720862468,
          0.14096463042497634,
          0.14161883701498693,
          0.1428918234176106,
          0.14337719279740538,
          0.14431694853922417,
          0.14479536960522335,
          0.14539898970434742,
          0.1460769302211702,
          0.14641977589238775,
          0.1468317561728113,
          0.1472228485771588,
          0.1477632477879524,
          0.14843028179697088,
          0.14889456778764723,
          0.14986126545148018,
          0.1509279431402683,
          0.1522248329185858,
          0.15325547683806645,
          0.15407239205615467,
          0.15523442964662204,
          0.15622805343733895,
          0.1574476331472397,
          0.15861062008015653,
          0.15955842534701029,
          0.1598993208031265,
          0.16052525243163107
         ]
        },
        {
         "marker": {
          "maxdisplayed": 10
         },
         "mode": "lines+markers",
         "name": "Trial4",
         "type": "scatter",
         "x": [
          0,
          1,
          2,
          3,
          4,
          5,
          6,
          7,
          8,
          9,
          10,
          11,
          12,
          13,
          14,
          15,
          16,
          17,
          18,
          19,
          20,
          21,
          22,
          23,
          24,
          25,
          26,
          27,
          28,
          29,
          30,
          31,
          32,
          33,
          34,
          35,
          36,
          37,
          38,
          39,
          40,
          41,
          42,
          43,
          44,
          45,
          46,
          47,
          48,
          49
         ],
         "y": [
          0.37933056354522704,
          0.37024708092212677,
          0.35678807795047757,
          0.3483420215547085,
          0.34066553592681886,
          0.335697104036808,
          0.3301991330725806,
          0.32515326589345933,
          0.32231282757388224,
          0.31983655810356143,
          0.31714817529374906,
          0.31469890649120014,
          0.31222779704974246,
          0.31027008358921326,
          0.307301029364268,
          0.30520911756902935,
          0.3036208354374942,
          0.3018762606713507,
          0.3002376325820622,
          0.298904759734869,
          0.29711922974813554,
          0.29572401317683134,
          0.29490472169026083,
          0.29326439760625367,
          0.2917345081567765,
          0.29044384268613965,
          0.2889873600668378,
          0.28776176529271263,
          0.28658279139420084,
          0.28587174326181414,
          0.2848147801814541,
          0.283919931948185,
          0.28351545559637475,
          0.2830679822494002,
          0.28218283227511815,
          0.2812535412609577,
          0.2805073891137097,
          0.2796945421319259,
          0.2790585504892545,
          0.2782538384944201,
          0.2774067339373798,
          0.27652336280970347,
          0.2757749474325845,
          0.2751506832512942,
          0.2745327504475912,
          0.2739341268072958,
          0.2738019221006556,
          0.2732912101472418,
          0.27283711062402144,
          0.27233111351728445
         ]
        },
        {
         "marker": {
          "maxdisplayed": 10
         },
         "mode": "lines+markers",
         "name": "Trial5",
         "type": "scatter",
         "x": [
          0,
          1,
          2,
          3,
          4,
          5,
          6,
          7,
          8,
          9,
          10,
          11,
          12,
          13,
          14,
          15,
          16,
          17,
          18,
          19,
          20,
          21,
          22,
          23,
          24,
          25,
          26,
          27,
          28,
          29,
          30,
          31,
          32,
          33,
          34,
          35,
          36,
          37,
          38,
          39,
          40,
          41,
          42,
          43,
          44,
          45,
          46,
          47,
          48,
          49
         ],
         "y": [
          0.3304701030254364,
          0.3075367987155914,
          0.28552527725696564,
          0.2738115206360817,
          0.264183623790741,
          0.25808998048305515,
          0.25243077874183656,
          0.24726002067327502,
          0.24294749928845302,
          0.23801939696073532,
          0.23348405334082517,
          0.23163731743892035,
          0.22896123368006488,
          0.22714908357177463,
          0.2248889144261678,
          0.22216437552124263,
          0.21984818805666534,
          0.2174413701726331,
          0.21549577414989474,
          0.21422251090407377,
          0.21250250304029109,
          0.21106516684998172,
          0.2097448361308679,
          0.20839593528459469,
          0.2066951383948326,
          0.20538546385673376,
          0.20420851133487844,
          0.2031285674444267,
          0.20198895684603987,
          0.20110692113637926,
          0.2002078917718703,
          0.19922880129888654,
          0.19836012964898891,
          0.19752591988619636,
          0.19675411845956528,
          0.19576195006569228,
          0.1946868849364487,
          0.19391999217240433,
          0.1934641677981768,
          0.19256378047168254,
          0.19192878062405236,
          0.19147619346068018,
          0.190844624437565,
          0.19029687504199416,
          0.1897557854321268,
          0.18933813280385473,
          0.18862946283944107,
          0.18796896589919923,
          0.18732033225954794,
          0.18686927914619444
         ]
        },
        {
         "marker": {
          "maxdisplayed": 10
         },
         "mode": "lines+markers",
         "name": "Trial6",
         "type": "scatter",
         "x": [
          0
         ],
         "y": [
          0.5351641595363616
         ]
        },
        {
         "marker": {
          "maxdisplayed": 10
         },
         "mode": "lines+markers",
         "name": "Trial7",
         "type": "scatter",
         "x": [
          0
         ],
         "y": [
          0.359816300868988
         ]
        },
        {
         "marker": {
          "maxdisplayed": 10
         },
         "mode": "lines+markers",
         "name": "Trial8",
         "type": "scatter",
         "x": [
          0
         ],
         "y": [
          0.5848462224006653
         ]
        },
        {
         "marker": {
          "maxdisplayed": 10
         },
         "mode": "lines+markers",
         "name": "Trial9",
         "type": "scatter",
         "x": [
          0,
          1,
          2,
          3,
          4,
          5,
          6,
          7,
          8,
          9,
          10,
          11,
          12,
          13,
          14,
          15,
          16,
          17,
          18,
          19,
          20,
          21,
          22,
          23,
          24,
          25,
          26,
          27,
          28,
          29,
          30,
          31,
          32,
          33,
          34,
          35,
          36,
          37,
          38,
          39,
          40,
          41,
          42,
          43,
          44,
          45,
          46,
          47,
          48,
          49
         ],
         "y": [
          0.34624106287956236,
          0.31854928433895113,
          0.29935584763685863,
          0.28709176257252694,
          0.2771335446834564,
          0.2694576462109884,
          0.2629202927861895,
          0.25805653892457486,
          0.2534458236561881,
          0.24952161759138108,
          0.24601310925050213,
          0.24196309745311737,
          0.23907317519187926,
          0.23625364729336332,
          0.2337526555856069,
          0.2316845813766122,
          0.22930036730626052,
          0.22701887347631983,
          0.2248216504329129,
          0.2227537817507982,
          0.2210888227536565,
          0.21919439780441197,
          0.21755381906810012,
          0.21606003362685441,
          0.21468063265085222,
          0.21315463569301824,
          0.2118241696997925,
          0.21073860063084535,
          0.20934240720395383,
          0.20831885243455567,
          0.20727530501542551,
          0.20621756040491165,
          0.20519710368279256,
          0.20402976405971193,
          0.2031076488750322,
          0.20217207301821977,
          0.2014307153788773,
          0.20054534214891886,
          0.19959463855394952,
          0.19890348568558694,
          0.19813618470982808,
          0.19733597331103828,
          0.19668398762858194,
          0.19594999003139416,
          0.19514765544070142,
          0.1944429457187653,
          0.19384218524111085,
          0.1931629042762021,
          0.19245737742404548,
          0.191808758944273
         ]
        }
       ],
       "layout": {
        "showlegend": false,
        "template": {
         "data": {
          "bar": [
           {
            "error_x": {
             "color": "#2a3f5f"
            },
            "error_y": {
             "color": "#2a3f5f"
            },
            "marker": {
             "line": {
              "color": "#E5ECF6",
              "width": 0.5
             },
             "pattern": {
              "fillmode": "overlay",
              "size": 10,
              "solidity": 0.2
             }
            },
            "type": "bar"
           }
          ],
          "barpolar": [
           {
            "marker": {
             "line": {
              "color": "#E5ECF6",
              "width": 0.5
             },
             "pattern": {
              "fillmode": "overlay",
              "size": 10,
              "solidity": 0.2
             }
            },
            "type": "barpolar"
           }
          ],
          "carpet": [
           {
            "aaxis": {
             "endlinecolor": "#2a3f5f",
             "gridcolor": "white",
             "linecolor": "white",
             "minorgridcolor": "white",
             "startlinecolor": "#2a3f5f"
            },
            "baxis": {
             "endlinecolor": "#2a3f5f",
             "gridcolor": "white",
             "linecolor": "white",
             "minorgridcolor": "white",
             "startlinecolor": "#2a3f5f"
            },
            "type": "carpet"
           }
          ],
          "choropleth": [
           {
            "colorbar": {
             "outlinewidth": 0,
             "ticks": ""
            },
            "type": "choropleth"
           }
          ],
          "contour": [
           {
            "colorbar": {
             "outlinewidth": 0,
             "ticks": ""
            },
            "colorscale": [
             [
              0,
              "#0d0887"
             ],
             [
              0.1111111111111111,
              "#46039f"
             ],
             [
              0.2222222222222222,
              "#7201a8"
             ],
             [
              0.3333333333333333,
              "#9c179e"
             ],
             [
              0.4444444444444444,
              "#bd3786"
             ],
             [
              0.5555555555555556,
              "#d8576b"
             ],
             [
              0.6666666666666666,
              "#ed7953"
             ],
             [
              0.7777777777777778,
              "#fb9f3a"
             ],
             [
              0.8888888888888888,
              "#fdca26"
             ],
             [
              1,
              "#f0f921"
             ]
            ],
            "type": "contour"
           }
          ],
          "contourcarpet": [
           {
            "colorbar": {
             "outlinewidth": 0,
             "ticks": ""
            },
            "type": "contourcarpet"
           }
          ],
          "heatmap": [
           {
            "colorbar": {
             "outlinewidth": 0,
             "ticks": ""
            },
            "colorscale": [
             [
              0,
              "#0d0887"
             ],
             [
              0.1111111111111111,
              "#46039f"
             ],
             [
              0.2222222222222222,
              "#7201a8"
             ],
             [
              0.3333333333333333,
              "#9c179e"
             ],
             [
              0.4444444444444444,
              "#bd3786"
             ],
             [
              0.5555555555555556,
              "#d8576b"
             ],
             [
              0.6666666666666666,
              "#ed7953"
             ],
             [
              0.7777777777777778,
              "#fb9f3a"
             ],
             [
              0.8888888888888888,
              "#fdca26"
             ],
             [
              1,
              "#f0f921"
             ]
            ],
            "type": "heatmap"
           }
          ],
          "heatmapgl": [
           {
            "colorbar": {
             "outlinewidth": 0,
             "ticks": ""
            },
            "colorscale": [
             [
              0,
              "#0d0887"
             ],
             [
              0.1111111111111111,
              "#46039f"
             ],
             [
              0.2222222222222222,
              "#7201a8"
             ],
             [
              0.3333333333333333,
              "#9c179e"
             ],
             [
              0.4444444444444444,
              "#bd3786"
             ],
             [
              0.5555555555555556,
              "#d8576b"
             ],
             [
              0.6666666666666666,
              "#ed7953"
             ],
             [
              0.7777777777777778,
              "#fb9f3a"
             ],
             [
              0.8888888888888888,
              "#fdca26"
             ],
             [
              1,
              "#f0f921"
             ]
            ],
            "type": "heatmapgl"
           }
          ],
          "histogram": [
           {
            "marker": {
             "pattern": {
              "fillmode": "overlay",
              "size": 10,
              "solidity": 0.2
             }
            },
            "type": "histogram"
           }
          ],
          "histogram2d": [
           {
            "colorbar": {
             "outlinewidth": 0,
             "ticks": ""
            },
            "colorscale": [
             [
              0,
              "#0d0887"
             ],
             [
              0.1111111111111111,
              "#46039f"
             ],
             [
              0.2222222222222222,
              "#7201a8"
             ],
             [
              0.3333333333333333,
              "#9c179e"
             ],
             [
              0.4444444444444444,
              "#bd3786"
             ],
             [
              0.5555555555555556,
              "#d8576b"
             ],
             [
              0.6666666666666666,
              "#ed7953"
             ],
             [
              0.7777777777777778,
              "#fb9f3a"
             ],
             [
              0.8888888888888888,
              "#fdca26"
             ],
             [
              1,
              "#f0f921"
             ]
            ],
            "type": "histogram2d"
           }
          ],
          "histogram2dcontour": [
           {
            "colorbar": {
             "outlinewidth": 0,
             "ticks": ""
            },
            "colorscale": [
             [
              0,
              "#0d0887"
             ],
             [
              0.1111111111111111,
              "#46039f"
             ],
             [
              0.2222222222222222,
              "#7201a8"
             ],
             [
              0.3333333333333333,
              "#9c179e"
             ],
             [
              0.4444444444444444,
              "#bd3786"
             ],
             [
              0.5555555555555556,
              "#d8576b"
             ],
             [
              0.6666666666666666,
              "#ed7953"
             ],
             [
              0.7777777777777778,
              "#fb9f3a"
             ],
             [
              0.8888888888888888,
              "#fdca26"
             ],
             [
              1,
              "#f0f921"
             ]
            ],
            "type": "histogram2dcontour"
           }
          ],
          "mesh3d": [
           {
            "colorbar": {
             "outlinewidth": 0,
             "ticks": ""
            },
            "type": "mesh3d"
           }
          ],
          "parcoords": [
           {
            "line": {
             "colorbar": {
              "outlinewidth": 0,
              "ticks": ""
             }
            },
            "type": "parcoords"
           }
          ],
          "pie": [
           {
            "automargin": true,
            "type": "pie"
           }
          ],
          "scatter": [
           {
            "fillpattern": {
             "fillmode": "overlay",
             "size": 10,
             "solidity": 0.2
            },
            "type": "scatter"
           }
          ],
          "scatter3d": [
           {
            "line": {
             "colorbar": {
              "outlinewidth": 0,
              "ticks": ""
             }
            },
            "marker": {
             "colorbar": {
              "outlinewidth": 0,
              "ticks": ""
             }
            },
            "type": "scatter3d"
           }
          ],
          "scattercarpet": [
           {
            "marker": {
             "colorbar": {
              "outlinewidth": 0,
              "ticks": ""
             }
            },
            "type": "scattercarpet"
           }
          ],
          "scattergeo": [
           {
            "marker": {
             "colorbar": {
              "outlinewidth": 0,
              "ticks": ""
             }
            },
            "type": "scattergeo"
           }
          ],
          "scattergl": [
           {
            "marker": {
             "colorbar": {
              "outlinewidth": 0,
              "ticks": ""
             }
            },
            "type": "scattergl"
           }
          ],
          "scattermapbox": [
           {
            "marker": {
             "colorbar": {
              "outlinewidth": 0,
              "ticks": ""
             }
            },
            "type": "scattermapbox"
           }
          ],
          "scatterpolar": [
           {
            "marker": {
             "colorbar": {
              "outlinewidth": 0,
              "ticks": ""
             }
            },
            "type": "scatterpolar"
           }
          ],
          "scatterpolargl": [
           {
            "marker": {
             "colorbar": {
              "outlinewidth": 0,
              "ticks": ""
             }
            },
            "type": "scatterpolargl"
           }
          ],
          "scatterternary": [
           {
            "marker": {
             "colorbar": {
              "outlinewidth": 0,
              "ticks": ""
             }
            },
            "type": "scatterternary"
           }
          ],
          "surface": [
           {
            "colorbar": {
             "outlinewidth": 0,
             "ticks": ""
            },
            "colorscale": [
             [
              0,
              "#0d0887"
             ],
             [
              0.1111111111111111,
              "#46039f"
             ],
             [
              0.2222222222222222,
              "#7201a8"
             ],
             [
              0.3333333333333333,
              "#9c179e"
             ],
             [
              0.4444444444444444,
              "#bd3786"
             ],
             [
              0.5555555555555556,
              "#d8576b"
             ],
             [
              0.6666666666666666,
              "#ed7953"
             ],
             [
              0.7777777777777778,
              "#fb9f3a"
             ],
             [
              0.8888888888888888,
              "#fdca26"
             ],
             [
              1,
              "#f0f921"
             ]
            ],
            "type": "surface"
           }
          ],
          "table": [
           {
            "cells": {
             "fill": {
              "color": "#EBF0F8"
             },
             "line": {
              "color": "white"
             }
            },
            "header": {
             "fill": {
              "color": "#C8D4E3"
             },
             "line": {
              "color": "white"
             }
            },
            "type": "table"
           }
          ]
         },
         "layout": {
          "annotationdefaults": {
           "arrowcolor": "#2a3f5f",
           "arrowhead": 0,
           "arrowwidth": 1
          },
          "autotypenumbers": "strict",
          "coloraxis": {
           "colorbar": {
            "outlinewidth": 0,
            "ticks": ""
           }
          },
          "colorscale": {
           "diverging": [
            [
             0,
             "#8e0152"
            ],
            [
             0.1,
             "#c51b7d"
            ],
            [
             0.2,
             "#de77ae"
            ],
            [
             0.3,
             "#f1b6da"
            ],
            [
             0.4,
             "#fde0ef"
            ],
            [
             0.5,
             "#f7f7f7"
            ],
            [
             0.6,
             "#e6f5d0"
            ],
            [
             0.7,
             "#b8e186"
            ],
            [
             0.8,
             "#7fbc41"
            ],
            [
             0.9,
             "#4d9221"
            ],
            [
             1,
             "#276419"
            ]
           ],
           "sequential": [
            [
             0,
             "#0d0887"
            ],
            [
             0.1111111111111111,
             "#46039f"
            ],
            [
             0.2222222222222222,
             "#7201a8"
            ],
            [
             0.3333333333333333,
             "#9c179e"
            ],
            [
             0.4444444444444444,
             "#bd3786"
            ],
            [
             0.5555555555555556,
             "#d8576b"
            ],
            [
             0.6666666666666666,
             "#ed7953"
            ],
            [
             0.7777777777777778,
             "#fb9f3a"
            ],
            [
             0.8888888888888888,
             "#fdca26"
            ],
            [
             1,
             "#f0f921"
            ]
           ],
           "sequentialminus": [
            [
             0,
             "#0d0887"
            ],
            [
             0.1111111111111111,
             "#46039f"
            ],
            [
             0.2222222222222222,
             "#7201a8"
            ],
            [
             0.3333333333333333,
             "#9c179e"
            ],
            [
             0.4444444444444444,
             "#bd3786"
            ],
            [
             0.5555555555555556,
             "#d8576b"
            ],
            [
             0.6666666666666666,
             "#ed7953"
            ],
            [
             0.7777777777777778,
             "#fb9f3a"
            ],
            [
             0.8888888888888888,
             "#fdca26"
            ],
            [
             1,
             "#f0f921"
            ]
           ]
          },
          "colorway": [
           "#636efa",
           "#EF553B",
           "#00cc96",
           "#ab63fa",
           "#FFA15A",
           "#19d3f3",
           "#FF6692",
           "#B6E880",
           "#FF97FF",
           "#FECB52"
          ],
          "font": {
           "color": "#2a3f5f"
          },
          "geo": {
           "bgcolor": "white",
           "lakecolor": "white",
           "landcolor": "#E5ECF6",
           "showlakes": true,
           "showland": true,
           "subunitcolor": "white"
          },
          "hoverlabel": {
           "align": "left"
          },
          "hovermode": "closest",
          "mapbox": {
           "style": "light"
          },
          "paper_bgcolor": "white",
          "plot_bgcolor": "#E5ECF6",
          "polar": {
           "angularaxis": {
            "gridcolor": "white",
            "linecolor": "white",
            "ticks": ""
           },
           "bgcolor": "#E5ECF6",
           "radialaxis": {
            "gridcolor": "white",
            "linecolor": "white",
            "ticks": ""
           }
          },
          "scene": {
           "xaxis": {
            "backgroundcolor": "#E5ECF6",
            "gridcolor": "white",
            "gridwidth": 2,
            "linecolor": "white",
            "showbackground": true,
            "ticks": "",
            "zerolinecolor": "white"
           },
           "yaxis": {
            "backgroundcolor": "#E5ECF6",
            "gridcolor": "white",
            "gridwidth": 2,
            "linecolor": "white",
            "showbackground": true,
            "ticks": "",
            "zerolinecolor": "white"
           },
           "zaxis": {
            "backgroundcolor": "#E5ECF6",
            "gridcolor": "white",
            "gridwidth": 2,
            "linecolor": "white",
            "showbackground": true,
            "ticks": "",
            "zerolinecolor": "white"
           }
          },
          "shapedefaults": {
           "line": {
            "color": "#2a3f5f"
           }
          },
          "ternary": {
           "aaxis": {
            "gridcolor": "white",
            "linecolor": "white",
            "ticks": ""
           },
           "baxis": {
            "gridcolor": "white",
            "linecolor": "white",
            "ticks": ""
           },
           "bgcolor": "#E5ECF6",
           "caxis": {
            "gridcolor": "white",
            "linecolor": "white",
            "ticks": ""
           }
          },
          "title": {
           "x": 0.05
          },
          "xaxis": {
           "automargin": true,
           "gridcolor": "white",
           "linecolor": "white",
           "ticks": "",
           "title": {
            "standoff": 15
           },
           "zerolinecolor": "white",
           "zerolinewidth": 2
          },
          "yaxis": {
           "automargin": true,
           "gridcolor": "white",
           "linecolor": "white",
           "ticks": "",
           "title": {
            "standoff": 15
           },
           "zerolinecolor": "white",
           "zerolinewidth": 2
          }
         }
        },
        "title": {
         "text": "Intermediate Values Plot"
        },
        "xaxis": {
         "title": {
          "text": "Step"
         }
        },
        "yaxis": {
         "title": {
          "text": "Intermediate Value"
         }
        }
       }
      }
     },
     "metadata": {},
     "output_type": "display_data"
    }
   ],
   "source": [
    "# create graph directory for this model\n",
    "graph_path = Path(\n",
    "    f\"../../figures/{params.MODEL_TYPE}/{params.MODEL_NAME}/{params.CELL_TYPE}\"\n",
    ")\n",
    "Path(graph_path).mkdir(parents=True, exist_ok=True)\n",
    "fig = optuna.visualization.plot_intermediate_values(study)\n",
    "if SHUFFLE_DATA:\n",
    "    graph_path = f\"{graph_path}/plot_intermediate_values_graph_shuffled_data\"\n",
    "elif not SHUFFLE_DATA:\n",
    "    graph_path = f\"{graph_path}/plot_intermediate_values_graph\"\n",
    "else:\n",
    "    raise ModelNameError\n",
    "\n",
    "fig.write_image(Path(f\"{graph_path}.png\"))\n",
    "fig.show()"
   ]
  },
  {
   "cell_type": "code",
   "execution_count": 17,
   "id": "325a1ec3",
   "metadata": {
    "execution": {
     "iopub.execute_input": "2023-08-04T00:37:01.636293Z",
     "iopub.status.busy": "2023-08-04T00:37:01.636030Z",
     "iopub.status.idle": "2023-08-04T00:37:01.638661Z",
     "shell.execute_reply": "2023-08-04T00:37:01.638358Z"
    },
    "papermill": {
     "duration": 0.028799,
     "end_time": "2023-08-04T00:37:01.639356",
     "exception": false,
     "start_time": "2023-08-04T00:37:01.610557",
     "status": "completed"
    },
    "tags": []
   },
   "outputs": [],
   "source": [
    "param_dict = extract_best_trial_params(\n",
    "    study.best_params, params, model_name=params.MODEL_NAME\n",
    ")"
   ]
  },
  {
   "cell_type": "code",
   "execution_count": 18,
   "id": "50e946e7",
   "metadata": {
    "execution": {
     "iopub.execute_input": "2023-08-04T00:37:01.691471Z",
     "iopub.status.busy": "2023-08-04T00:37:01.691158Z",
     "iopub.status.idle": "2023-08-04T00:37:20.847667Z",
     "shell.execute_reply": "2023-08-04T00:37:20.847145Z"
    },
    "papermill": {
     "duration": 19.184559,
     "end_time": "2023-08-04T00:37:20.848417",
     "exception": false,
     "start_time": "2023-08-04T00:37:01.663858",
     "status": "completed"
    },
    "tags": []
   },
   "outputs": [
    {
     "name": "stdout",
     "output_type": "stream",
     "text": [
      "RMSprop\n",
      "Epoch 0: Validation loss decreased (inf --> 0.588100).  Saving model ...\n",
      "\t Train_Loss: 0.6490 Train_Acc: 67.633 Val_Loss: 0.5881  BEST VAL Loss: 0.5881  Val_Acc: 75.737\n",
      "\n",
      "Epoch 1: Validation loss decreased (0.588100 --> 0.525989).  Saving model ...\n",
      "\t Train_Loss: 0.6128 Train_Acc: 76.088 Val_Loss: 0.5260  BEST VAL Loss: 0.5260  Val_Acc: 88.176\n",
      "\n",
      "Epoch 2: Validation loss decreased (0.525989 --> 0.479756).  Saving model ...\n",
      "\t Train_Loss: 0.5682 Train_Acc: 83.197 Val_Loss: 0.4798  BEST VAL Loss: 0.4798  Val_Acc: 90.069\n",
      "\n",
      "Epoch 3: Validation loss decreased (0.479756 --> 0.441872).  Saving model ...\n",
      "\t Train_Loss: 0.5359 Train_Acc: 84.347 Val_Loss: 0.4419  BEST VAL Loss: 0.4419  Val_Acc: 92.281\n",
      "\n",
      "Epoch 4: Validation loss decreased (0.441872 --> 0.414310).  Saving model ...\n",
      "\t Train_Loss: 0.5126 Train_Acc: 84.709 Val_Loss: 0.4143  BEST VAL Loss: 0.4143  Val_Acc: 92.429\n",
      "\n",
      "Epoch 5: Validation loss decreased (0.414310 --> 0.391511).  Saving model ...\n",
      "\t Train_Loss: 0.4933 Train_Acc: 85.047 Val_Loss: 0.3915  BEST VAL Loss: 0.3915  Val_Acc: 92.920\n",
      "\n",
      "Epoch 6: Validation loss decreased (0.391511 --> 0.371667).  Saving model ...\n",
      "\t Train_Loss: 0.4762 Train_Acc: 85.708 Val_Loss: 0.3717  BEST VAL Loss: 0.3717  Val_Acc: 93.781\n",
      "\n",
      "Epoch 7: Validation loss decreased (0.371667 --> 0.355930).  Saving model ...\n",
      "\t Train_Loss: 0.4609 Train_Acc: 87.352 Val_Loss: 0.3559  BEST VAL Loss: 0.3559  Val_Acc: 93.437\n",
      "\n",
      "Epoch 8: Validation loss decreased (0.355930 --> 0.341318).  Saving model ...\n",
      "\t Train_Loss: 0.4486 Train_Acc: 87.660 Val_Loss: 0.3413  BEST VAL Loss: 0.3413  Val_Acc: 94.076\n",
      "\n",
      "Epoch 9: Validation loss decreased (0.341318 --> 0.329305).  Saving model ...\n",
      "\t Train_Loss: 0.4377 Train_Acc: 88.683 Val_Loss: 0.3293  BEST VAL Loss: 0.3293  Val_Acc: 93.682\n",
      "\n",
      "Epoch 10: Validation loss decreased (0.329305 --> 0.320273).  Saving model ...\n",
      "\t Train_Loss: 0.4282 Train_Acc: 88.794 Val_Loss: 0.3203  BEST VAL Loss: 0.3203  Val_Acc: 93.092\n",
      "\n",
      "Epoch 11: Validation loss decreased (0.320273 --> 0.310724).  Saving model ...\n",
      "\t Train_Loss: 0.4200 Train_Acc: 89.006 Val_Loss: 0.3107  BEST VAL Loss: 0.3107  Val_Acc: 93.953\n",
      "\n",
      "Epoch 12: Validation loss decreased (0.310724 --> 0.302228).  Saving model ...\n",
      "\t Train_Loss: 0.4126 Train_Acc: 89.304 Val_Loss: 0.3022  BEST VAL Loss: 0.3022  Val_Acc: 94.076\n",
      "\n",
      "Epoch 13: Validation loss decreased (0.302228 --> 0.295335).  Saving model ...\n",
      "\t Train_Loss: 0.4062 Train_Acc: 89.255 Val_Loss: 0.2953  BEST VAL Loss: 0.2953  Val_Acc: 94.444\n",
      "\n",
      "Epoch 14: Validation loss decreased (0.295335 --> 0.288704).  Saving model ...\n",
      "\t Train_Loss: 0.4005 Train_Acc: 89.366 Val_Loss: 0.2887  BEST VAL Loss: 0.2887  Val_Acc: 94.838\n",
      "\n",
      "Epoch 15: Validation loss decreased (0.288704 --> 0.282732).  Saving model ...\n",
      "\t Train_Loss: 0.3951 Train_Acc: 89.771 Val_Loss: 0.2827  BEST VAL Loss: 0.2827  Val_Acc: 94.690\n",
      "\n",
      "Epoch 16: Validation loss decreased (0.282732 --> 0.277277).  Saving model ...\n",
      "\t Train_Loss: 0.3900 Train_Acc: 89.965 Val_Loss: 0.2773  BEST VAL Loss: 0.2773  Val_Acc: 94.715\n",
      "\n",
      "Epoch 17: Validation loss decreased (0.277277 --> 0.272473).  Saving model ...\n",
      "\t Train_Loss: 0.3856 Train_Acc: 89.799 Val_Loss: 0.2725  BEST VAL Loss: 0.2725  Val_Acc: 95.034\n",
      "\n",
      "Epoch 18: Validation loss decreased (0.272473 --> 0.267629).  Saving model ...\n",
      "\t Train_Loss: 0.3815 Train_Acc: 90.039 Val_Loss: 0.2676  BEST VAL Loss: 0.2676  Val_Acc: 95.059\n",
      "\n",
      "Epoch 19: Validation loss decreased (0.267629 --> 0.263593).  Saving model ...\n",
      "\t Train_Loss: 0.3780 Train_Acc: 89.900 Val_Loss: 0.2636  BEST VAL Loss: 0.2636  Val_Acc: 94.764\n",
      "\n",
      "Epoch 20: Validation loss decreased (0.263593 --> 0.260550).  Saving model ...\n",
      "\t Train_Loss: 0.3748 Train_Acc: 89.986 Val_Loss: 0.2606  BEST VAL Loss: 0.2606  Val_Acc: 94.813\n",
      "\n",
      "Epoch 21: Validation loss decreased (0.260550 --> 0.257535).  Saving model ...\n",
      "\t Train_Loss: 0.3719 Train_Acc: 89.900 Val_Loss: 0.2575  BEST VAL Loss: 0.2575  Val_Acc: 94.739\n",
      "\n",
      "Epoch 22: Validation loss decreased (0.257535 --> 0.254611).  Saving model ...\n",
      "\t Train_Loss: 0.3694 Train_Acc: 89.891 Val_Loss: 0.2546  BEST VAL Loss: 0.2546  Val_Acc: 94.912\n",
      "\n",
      "Epoch 23: Validation loss decreased (0.254611 --> 0.251910).  Saving model ...\n",
      "\t Train_Loss: 0.3668 Train_Acc: 90.116 Val_Loss: 0.2519  BEST VAL Loss: 0.2519  Val_Acc: 94.789\n",
      "\n",
      "Epoch 24: Validation loss decreased (0.251910 --> 0.249052).  Saving model ...\n",
      "\t Train_Loss: 0.3645 Train_Acc: 90.036 Val_Loss: 0.2491  BEST VAL Loss: 0.2491  Val_Acc: 95.034\n",
      "\n",
      "Epoch 25: Validation loss decreased (0.249052 --> 0.246838).  Saving model ...\n",
      "\t Train_Loss: 0.3626 Train_Acc: 89.790 Val_Loss: 0.2468  BEST VAL Loss: 0.2468  Val_Acc: 95.084\n",
      "\n",
      "Epoch 26: Validation loss decreased (0.246838 --> 0.245062).  Saving model ...\n",
      "\t Train_Loss: 0.3604 Train_Acc: 90.269 Val_Loss: 0.2451  BEST VAL Loss: 0.2451  Val_Acc: 94.887\n",
      "\n",
      "Epoch 27: Validation loss decreased (0.245062 --> 0.243057).  Saving model ...\n",
      "\t Train_Loss: 0.3585 Train_Acc: 90.202 Val_Loss: 0.2431  BEST VAL Loss: 0.2431  Val_Acc: 95.379\n",
      "\n",
      "Epoch 28: Validation loss decreased (0.243057 --> 0.240919).  Saving model ...\n",
      "\t Train_Loss: 0.3566 Train_Acc: 90.312 Val_Loss: 0.2409  BEST VAL Loss: 0.2409  Val_Acc: 95.084\n",
      "\n",
      "Epoch 29: Validation loss decreased (0.240919 --> 0.239090).  Saving model ...\n",
      "\t Train_Loss: 0.3549 Train_Acc: 90.217 Val_Loss: 0.2391  BEST VAL Loss: 0.2391  Val_Acc: 95.084\n",
      "\n",
      "Epoch 30: Validation loss decreased (0.239090 --> 0.237548).  Saving model ...\n",
      "\t Train_Loss: 0.3534 Train_Acc: 90.266 Val_Loss: 0.2375  BEST VAL Loss: 0.2375  Val_Acc: 95.305\n",
      "\n",
      "Epoch 31: Validation loss decreased (0.237548 --> 0.235930).  Saving model ...\n",
      "\t Train_Loss: 0.3518 Train_Acc: 90.300 Val_Loss: 0.2359  BEST VAL Loss: 0.2359  Val_Acc: 95.182\n",
      "\n",
      "Epoch 32: Validation loss decreased (0.235930 --> 0.234193).  Saving model ...\n",
      "\t Train_Loss: 0.3504 Train_Acc: 90.294 Val_Loss: 0.2342  BEST VAL Loss: 0.2342  Val_Acc: 95.354\n",
      "\n",
      "Epoch 33: Validation loss decreased (0.234193 --> 0.232577).  Saving model ...\n",
      "\t Train_Loss: 0.3488 Train_Acc: 90.672 Val_Loss: 0.2326  BEST VAL Loss: 0.2326  Val_Acc: 95.280\n",
      "\n",
      "Epoch 34: Validation loss decreased (0.232577 --> 0.231333).  Saving model ...\n",
      "\t Train_Loss: 0.3474 Train_Acc: 90.540 Val_Loss: 0.2313  BEST VAL Loss: 0.2313  Val_Acc: 95.305\n",
      "\n",
      "Epoch 35: Validation loss decreased (0.231333 --> 0.229722).  Saving model ...\n",
      "\t Train_Loss: 0.3461 Train_Acc: 90.491 Val_Loss: 0.2297  BEST VAL Loss: 0.2297  Val_Acc: 95.551\n",
      "\n",
      "Epoch 36: Validation loss decreased (0.229722 --> 0.228132).  Saving model ...\n",
      "\t Train_Loss: 0.3447 Train_Acc: 90.653 Val_Loss: 0.2281  BEST VAL Loss: 0.2281  Val_Acc: 95.477\n",
      "\n",
      "Epoch 37: Validation loss decreased (0.228132 --> 0.226623).  Saving model ...\n",
      "\t Train_Loss: 0.3434 Train_Acc: 90.776 Val_Loss: 0.2266  BEST VAL Loss: 0.2266  Val_Acc: 95.649\n",
      "\n",
      "Epoch 38: Validation loss decreased (0.226623 --> 0.225381).  Saving model ...\n",
      "\t Train_Loss: 0.3422 Train_Acc: 90.690 Val_Loss: 0.2254  BEST VAL Loss: 0.2254  Val_Acc: 95.206\n",
      "\n",
      "Epoch 39: Validation loss decreased (0.225381 --> 0.224433).  Saving model ...\n",
      "\t Train_Loss: 0.3410 Train_Acc: 90.552 Val_Loss: 0.2244  BEST VAL Loss: 0.2244  Val_Acc: 94.985\n",
      "\n",
      "Epoch 40: Validation loss decreased (0.224433 --> 0.223248).  Saving model ...\n",
      "\t Train_Loss: 0.3401 Train_Acc: 90.377 Val_Loss: 0.2232  BEST VAL Loss: 0.2232  Val_Acc: 95.305\n",
      "\n",
      "Epoch 41: Validation loss decreased (0.223248 --> 0.222350).  Saving model ...\n",
      "\t Train_Loss: 0.3391 Train_Acc: 90.736 Val_Loss: 0.2224  BEST VAL Loss: 0.2224  Val_Acc: 95.059\n",
      "\n",
      "Epoch 42: Validation loss decreased (0.222350 --> 0.221486).  Saving model ...\n",
      "\t Train_Loss: 0.3381 Train_Acc: 90.644 Val_Loss: 0.2215  BEST VAL Loss: 0.2215  Val_Acc: 95.280\n",
      "\n",
      "Epoch 43: Validation loss decreased (0.221486 --> 0.220614).  Saving model ...\n",
      "\t Train_Loss: 0.3372 Train_Acc: 90.543 Val_Loss: 0.2206  BEST VAL Loss: 0.2206  Val_Acc: 95.206\n",
      "\n",
      "Epoch 44: Validation loss decreased (0.220614 --> 0.219556).  Saving model ...\n",
      "\t Train_Loss: 0.3363 Train_Acc: 90.672 Val_Loss: 0.2196  BEST VAL Loss: 0.2196  Val_Acc: 95.206\n",
      "\n",
      "Epoch 45: Validation loss decreased (0.219556 --> 0.218639).  Saving model ...\n",
      "\t Train_Loss: 0.3353 Train_Acc: 90.939 Val_Loss: 0.2186  BEST VAL Loss: 0.2186  Val_Acc: 94.887\n",
      "\n",
      "Epoch 46: Validation loss decreased (0.218639 --> 0.217815).  Saving model ...\n",
      "\t Train_Loss: 0.3345 Train_Acc: 90.706 Val_Loss: 0.2178  BEST VAL Loss: 0.2178  Val_Acc: 95.403\n",
      "\n",
      "Epoch 47: Validation loss decreased (0.217815 --> 0.217010).  Saving model ...\n",
      "\t Train_Loss: 0.3336 Train_Acc: 90.853 Val_Loss: 0.2170  BEST VAL Loss: 0.2170  Val_Acc: 95.329\n",
      "\n",
      "Epoch 48: Validation loss decreased (0.217010 --> 0.216034).  Saving model ...\n",
      "\t Train_Loss: 0.3328 Train_Acc: 90.918 Val_Loss: 0.2160  BEST VAL Loss: 0.2160  Val_Acc: 95.674\n",
      "\n",
      "Epoch 49: Validation loss decreased (0.216034 --> 0.215104).  Saving model ...\n",
      "\t Train_Loss: 0.3318 Train_Acc: 91.161 Val_Loss: 0.2151  BEST VAL Loss: 0.2151  Val_Acc: 95.551\n",
      "\n",
      "Epoch 50: Validation loss decreased (0.215104 --> 0.214354).  Saving model ...\n",
      "\t Train_Loss: 0.3310 Train_Acc: 90.988 Val_Loss: 0.2144  BEST VAL Loss: 0.2144  Val_Acc: 95.477\n",
      "\n",
      "Epoch 51: Validation loss decreased (0.214354 --> 0.213414).  Saving model ...\n",
      "\t Train_Loss: 0.3302 Train_Acc: 91.044 Val_Loss: 0.2134  BEST VAL Loss: 0.2134  Val_Acc: 95.624\n",
      "\n",
      "Epoch 52: Validation loss decreased (0.213414 --> 0.212535).  Saving model ...\n",
      "\t Train_Loss: 0.3294 Train_Acc: 91.164 Val_Loss: 0.2125  BEST VAL Loss: 0.2125  Val_Acc: 95.551\n",
      "\n",
      "Epoch 53: Validation loss decreased (0.212535 --> 0.211746).  Saving model ...\n",
      "\t Train_Loss: 0.3287 Train_Acc: 90.948 Val_Loss: 0.2117  BEST VAL Loss: 0.2117  Val_Acc: 95.403\n",
      "\n",
      "Epoch 54: Validation loss decreased (0.211746 --> 0.211084).  Saving model ...\n",
      "\t Train_Loss: 0.3280 Train_Acc: 90.964 Val_Loss: 0.2111  BEST VAL Loss: 0.2111  Val_Acc: 95.624\n",
      "\n",
      "Epoch 55: Validation loss decreased (0.211084 --> 0.210418).  Saving model ...\n",
      "\t Train_Loss: 0.3272 Train_Acc: 91.161 Val_Loss: 0.2104  BEST VAL Loss: 0.2104  Val_Acc: 95.501\n",
      "\n",
      "Epoch 56: Validation loss decreased (0.210418 --> 0.209986).  Saving model ...\n",
      "\t Train_Loss: 0.3265 Train_Acc: 91.330 Val_Loss: 0.2100  BEST VAL Loss: 0.2100  Val_Acc: 95.477\n",
      "\n",
      "Epoch 57: Validation loss decreased (0.209986 --> 0.209306).  Saving model ...\n",
      "\t Train_Loss: 0.3258 Train_Acc: 91.219 Val_Loss: 0.2093  BEST VAL Loss: 0.2093  Val_Acc: 95.477\n",
      "\n",
      "Epoch 58: Validation loss decreased (0.209306 --> 0.208621).  Saving model ...\n",
      "\t Train_Loss: 0.3251 Train_Acc: 91.185 Val_Loss: 0.2086  BEST VAL Loss: 0.2086  Val_Acc: 95.575\n",
      "\n",
      "Epoch 59: Validation loss decreased (0.208621 --> 0.208184).  Saving model ...\n",
      "\t Train_Loss: 0.3245 Train_Acc: 90.967 Val_Loss: 0.2082  BEST VAL Loss: 0.2082  Val_Acc: 95.305\n",
      "\n",
      "Epoch 60: Validation loss decreased (0.208184 --> 0.207761).  Saving model ...\n",
      "\t Train_Loss: 0.3239 Train_Acc: 91.127 Val_Loss: 0.2078  BEST VAL Loss: 0.2078  Val_Acc: 95.551\n",
      "\n",
      "Epoch 61: Validation loss decreased (0.207761 --> 0.207260).  Saving model ...\n",
      "\t Train_Loss: 0.3233 Train_Acc: 91.093 Val_Loss: 0.2073  BEST VAL Loss: 0.2073  Val_Acc: 95.452\n",
      "\n",
      "Epoch 62: Validation loss decreased (0.207260 --> 0.206893).  Saving model ...\n",
      "\t Train_Loss: 0.3228 Train_Acc: 90.958 Val_Loss: 0.2069  BEST VAL Loss: 0.2069  Val_Acc: 95.575\n",
      "\n",
      "Epoch 63: Validation loss decreased (0.206893 --> 0.206369).  Saving model ...\n",
      "\t Train_Loss: 0.3222 Train_Acc: 91.084 Val_Loss: 0.2064  BEST VAL Loss: 0.2064  Val_Acc: 95.452\n",
      "\n",
      "Epoch 64: Validation loss decreased (0.206369 --> 0.206015).  Saving model ...\n",
      "\t Train_Loss: 0.3217 Train_Acc: 90.998 Val_Loss: 0.2060  BEST VAL Loss: 0.2060  Val_Acc: 95.354\n",
      "\n",
      "Epoch 65: Validation loss decreased (0.206015 --> 0.205519).  Saving model ...\n",
      "\t Train_Loss: 0.3212 Train_Acc: 91.293 Val_Loss: 0.2055  BEST VAL Loss: 0.2055  Val_Acc: 95.501\n",
      "\n",
      "Epoch 66: Validation loss decreased (0.205519 --> 0.205060).  Saving model ...\n",
      "\t Train_Loss: 0.3206 Train_Acc: 91.299 Val_Loss: 0.2051  BEST VAL Loss: 0.2051  Val_Acc: 95.428\n",
      "\n",
      "Epoch 67: Validation loss decreased (0.205060 --> 0.204494).  Saving model ...\n",
      "\t Train_Loss: 0.3200 Train_Acc: 91.311 Val_Loss: 0.2045  BEST VAL Loss: 0.2045  Val_Acc: 95.452\n",
      "\n",
      "Epoch 68: Validation loss decreased (0.204494 --> 0.204014).  Saving model ...\n",
      "\t Train_Loss: 0.3196 Train_Acc: 91.136 Val_Loss: 0.2040  BEST VAL Loss: 0.2040  Val_Acc: 95.624\n",
      "\n",
      "Epoch 69: Validation loss decreased (0.204014 --> 0.203676).  Saving model ...\n",
      "\t Train_Loss: 0.3191 Train_Acc: 91.271 Val_Loss: 0.2037  BEST VAL Loss: 0.2037  Val_Acc: 95.305\n",
      "\n",
      "Epoch 70: Validation loss decreased (0.203676 --> 0.203298).  Saving model ...\n",
      "\t Train_Loss: 0.3187 Train_Acc: 90.887 Val_Loss: 0.2033  BEST VAL Loss: 0.2033  Val_Acc: 95.182\n",
      "\n",
      "Epoch 71: Validation loss decreased (0.203298 --> 0.202808).  Saving model ...\n",
      "\t Train_Loss: 0.3181 Train_Acc: 91.449 Val_Loss: 0.2028  BEST VAL Loss: 0.2028  Val_Acc: 95.919\n",
      "\n",
      "Epoch 72: Validation loss decreased (0.202808 --> 0.202447).  Saving model ...\n",
      "\t Train_Loss: 0.3177 Train_Acc: 91.363 Val_Loss: 0.2024  BEST VAL Loss: 0.2024  Val_Acc: 95.403\n",
      "\n",
      "Epoch 73: Validation loss decreased (0.202447 --> 0.202134).  Saving model ...\n",
      "\t Train_Loss: 0.3172 Train_Acc: 91.090 Val_Loss: 0.2021  BEST VAL Loss: 0.2021  Val_Acc: 95.575\n",
      "\n",
      "Epoch 74: Validation loss decreased (0.202134 --> 0.201770).  Saving model ...\n",
      "\t Train_Loss: 0.3168 Train_Acc: 91.449 Val_Loss: 0.2018  BEST VAL Loss: 0.2018  Val_Acc: 95.403\n",
      "\n",
      "Epoch 75: Validation loss decreased (0.201770 --> 0.201370).  Saving model ...\n",
      "\t Train_Loss: 0.3163 Train_Acc: 91.342 Val_Loss: 0.2014  BEST VAL Loss: 0.2014  Val_Acc: 95.674\n",
      "\n",
      "Epoch 76: Validation loss decreased (0.201370 --> 0.200953).  Saving model ...\n",
      "\t Train_Loss: 0.3158 Train_Acc: 91.357 Val_Loss: 0.2010  BEST VAL Loss: 0.2010  Val_Acc: 96.018\n",
      "\n",
      "Epoch 77: Validation loss decreased (0.200953 --> 0.200596).  Saving model ...\n",
      "\t Train_Loss: 0.3154 Train_Acc: 91.388 Val_Loss: 0.2006  BEST VAL Loss: 0.2006  Val_Acc: 95.649\n",
      "\n",
      "Epoch 78: Validation loss decreased (0.200596 --> 0.200381).  Saving model ...\n",
      "\t Train_Loss: 0.3150 Train_Acc: 91.293 Val_Loss: 0.2004  BEST VAL Loss: 0.2004  Val_Acc: 95.329\n",
      "\n",
      "Epoch 79: Validation loss decreased (0.200381 --> 0.200292).  Saving model ...\n",
      "\t Train_Loss: 0.3146 Train_Acc: 91.216 Val_Loss: 0.2003  BEST VAL Loss: 0.2003  Val_Acc: 95.206\n",
      "\n",
      "Epoch 80: Validation loss decreased (0.200292 --> 0.199995).  Saving model ...\n",
      "\t Train_Loss: 0.3143 Train_Acc: 91.127 Val_Loss: 0.2000  BEST VAL Loss: 0.2000  Val_Acc: 95.723\n",
      "\n",
      "Epoch 81: Validation loss decreased (0.199995 --> 0.199602).  Saving model ...\n",
      "\t Train_Loss: 0.3139 Train_Acc: 91.314 Val_Loss: 0.1996  BEST VAL Loss: 0.1996  Val_Acc: 95.674\n",
      "\n",
      "Epoch 82: Validation loss decreased (0.199602 --> 0.199221).  Saving model ...\n",
      "\t Train_Loss: 0.3136 Train_Acc: 91.016 Val_Loss: 0.1992  BEST VAL Loss: 0.1992  Val_Acc: 95.821\n",
      "\n",
      "Epoch 83: Validation loss decreased (0.199221 --> 0.198927).  Saving model ...\n",
      "\t Train_Loss: 0.3133 Train_Acc: 91.148 Val_Loss: 0.1989  BEST VAL Loss: 0.1989  Val_Acc: 95.403\n",
      "\n",
      "Epoch 84: Validation loss decreased (0.198927 --> 0.198533).  Saving model ...\n",
      "\t Train_Loss: 0.3129 Train_Acc: 91.456 Val_Loss: 0.1985  BEST VAL Loss: 0.1985  Val_Acc: 95.870\n",
      "\n",
      "Epoch 85: Validation loss decreased (0.198533 --> 0.198284).  Saving model ...\n",
      "\t Train_Loss: 0.3125 Train_Acc: 91.557 Val_Loss: 0.1983  BEST VAL Loss: 0.1983  Val_Acc: 95.575\n",
      "\n",
      "Epoch 86: Validation loss decreased (0.198284 --> 0.198024).  Saving model ...\n",
      "\t Train_Loss: 0.3121 Train_Acc: 91.366 Val_Loss: 0.1980  BEST VAL Loss: 0.1980  Val_Acc: 95.575\n",
      "\n",
      "Epoch 87: Validation loss decreased (0.198024 --> 0.197753).  Saving model ...\n",
      "\t Train_Loss: 0.3117 Train_Acc: 91.514 Val_Loss: 0.1978  BEST VAL Loss: 0.1978  Val_Acc: 95.354\n",
      "\n",
      "Epoch 88: Validation loss decreased (0.197753 --> 0.197550).  Saving model ...\n",
      "\t Train_Loss: 0.3114 Train_Acc: 91.339 Val_Loss: 0.1975  BEST VAL Loss: 0.1975  Val_Acc: 95.698\n",
      "\n",
      "Epoch 89: Validation loss decreased (0.197550 --> 0.197284).  Saving model ...\n",
      "\t Train_Loss: 0.3110 Train_Acc: 91.434 Val_Loss: 0.1973  BEST VAL Loss: 0.1973  Val_Acc: 95.526\n",
      "\n",
      "Epoch 90: Validation loss decreased (0.197284 --> 0.197034).  Saving model ...\n",
      "\t Train_Loss: 0.3108 Train_Acc: 91.124 Val_Loss: 0.1970  BEST VAL Loss: 0.1970  Val_Acc: 95.698\n",
      "\n",
      "Epoch 91: Validation loss decreased (0.197034 --> 0.196827).  Saving model ...\n",
      "\t Train_Loss: 0.3104 Train_Acc: 91.462 Val_Loss: 0.1968  BEST VAL Loss: 0.1968  Val_Acc: 95.354\n",
      "\n",
      "Epoch 92: Validation loss decreased (0.196827 --> 0.196567).  Saving model ...\n",
      "\t Train_Loss: 0.3100 Train_Acc: 91.800 Val_Loss: 0.1966  BEST VAL Loss: 0.1966  Val_Acc: 95.403\n",
      "\n",
      "Epoch 93: Validation loss decreased (0.196567 --> 0.196301).  Saving model ...\n",
      "\t Train_Loss: 0.3097 Train_Acc: 91.357 Val_Loss: 0.1963  BEST VAL Loss: 0.1963  Val_Acc: 95.723\n",
      "\n",
      "Epoch 94: Validation loss decreased (0.196301 --> 0.196043).  Saving model ...\n",
      "\t Train_Loss: 0.3094 Train_Acc: 91.480 Val_Loss: 0.1960  BEST VAL Loss: 0.1960  Val_Acc: 95.428\n",
      "\n",
      "Epoch 95: Validation loss decreased (0.196043 --> 0.195776).  Saving model ...\n",
      "\t Train_Loss: 0.3091 Train_Acc: 91.526 Val_Loss: 0.1958  BEST VAL Loss: 0.1958  Val_Acc: 95.747\n",
      "\n",
      "Epoch 96: Validation loss decreased (0.195776 --> 0.195566).  Saving model ...\n",
      "\t Train_Loss: 0.3088 Train_Acc: 91.323 Val_Loss: 0.1956  BEST VAL Loss: 0.1956  Val_Acc: 95.280\n",
      "\n",
      "Epoch 97: Validation loss decreased (0.195566 --> 0.195334).  Saving model ...\n",
      "\t Train_Loss: 0.3086 Train_Acc: 91.323 Val_Loss: 0.1953  BEST VAL Loss: 0.1953  Val_Acc: 95.649\n",
      "\n",
      "Epoch 98: Validation loss decreased (0.195334 --> 0.195106).  Saving model ...\n",
      "\t Train_Loss: 0.3082 Train_Acc: 91.560 Val_Loss: 0.1951  BEST VAL Loss: 0.1951  Val_Acc: 95.354\n",
      "\n",
      "Epoch 99: Validation loss decreased (0.195106 --> 0.194770).  Saving model ...\n",
      "\t Train_Loss: 0.3080 Train_Acc: 91.099 Val_Loss: 0.1948  BEST VAL Loss: 0.1948  Val_Acc: 95.821\n",
      "\n"
     ]
    }
   ],
   "source": [
    "# call the optimized training model\n",
    "train_loss, train_acc, valid_loss, valid_acc, epochs_ran, model = train_optimized_model(\n",
    "    params.TRAIN_EPOCHS,\n",
    "    train_loader,\n",
    "    valid_loader,\n",
    "    param_dict,\n",
    "    params,\n",
    "    params.MODEL_NAME,\n",
    ")\n",
    "# get training_metrics\n",
    "if params.MODEL_TYPE == \"Regression\":\n",
    "    training_stats = pd.DataFrame(\n",
    "        zip(train_loss, valid_loss, epochs_ran),\n",
    "        columns=[\"train_loss\", \"valid_loss\", \"epochs_ran\"],\n",
    "    )\n",
    "else:\n",
    "    training_stats = pd.DataFrame(\n",
    "        zip(train_loss, train_acc, valid_loss, valid_acc, epochs_ran),\n",
    "        columns=[\"train_loss\", \"train_acc\", \"valid_loss\", \"valid_acc\", \"epochs_ran\"],\n",
    "    )"
   ]
  },
  {
   "cell_type": "code",
   "execution_count": 21,
   "id": "1340d8aa",
   "metadata": {
    "execution": {
     "iopub.execute_input": "2023-08-04T00:37:20.906966Z",
     "iopub.status.busy": "2023-08-04T00:37:20.906588Z",
     "iopub.status.idle": "2023-08-04T00:37:21.094765Z",
     "shell.execute_reply": "2023-08-04T00:37:21.094371Z"
    },
    "papermill": {
     "duration": 0.215888,
     "end_time": "2023-08-04T00:37:21.095488",
     "exception": false,
     "start_time": "2023-08-04T00:37:20.879600",
     "status": "completed"
    },
    "tags": []
   },
   "outputs": [
    {
     "name": "stderr",
     "output_type": "stream",
     "text": [
      "/home/lippincm/Documents/ML/Interstellar_Analysis/4.sc_Morphology_Neural_Network_MLP_Model/0.model_training/notebooks/../../MLP_utils/utils.py:959: UserWarning:\n",
      "\n",
      "Ignoring `palette` because no `hue` variable has been assigned.\n",
      "\n",
      "/home/lippincm/Documents/ML/Interstellar_Analysis/4.sc_Morphology_Neural_Network_MLP_Model/0.model_training/notebooks/../../MLP_utils/utils.py:960: UserWarning:\n",
      "\n",
      "Ignoring `palette` because no `hue` variable has been assigned.\n",
      "\n"
     ]
    },
    {
     "data": {
      "image/png": "[encoded data removed]",
      "text/plain": [
       "<Figure size 640x480 with 1 Axes>"
      ]
     },
     "metadata": {},
     "output_type": "display_data"
    }
   ],
   "source": [
    "if params.MODEL_TYPE == \"Regression\":\n",
    "    pass\n",
    "else:\n",
    "    plot_metric_vs_epoch(\n",
    "        training_stats,\n",
    "        x=\"epochs_ran\",\n",
    "        y1=\"train_acc\",\n",
    "        y2=\"valid_acc\",\n",
    "        title=\"Accuracy vs. Epochs\",\n",
    "        x_axis_label=\"Epochs\",\n",
    "        y_axis_label=\"Accuracy\",\n",
    "        params=params,\n",
    "        model_name=params.MODEL_NAME,\n",
    "        shuffle=SHUFFLE_DATA,\n",
    "    )"
   ]
  },
  {
   "cell_type": "code",
   "execution_count": 22,
   "id": "41991221",
   "metadata": {
    "execution": {
     "iopub.execute_input": "2023-08-04T00:37:21.154792Z",
     "iopub.status.busy": "2023-08-04T00:37:21.154507Z",
     "iopub.status.idle": "2023-08-04T00:37:21.323594Z",
     "shell.execute_reply": "2023-08-04T00:37:21.323198Z"
    },
    "papermill": {
     "duration": 0.200405,
     "end_time": "2023-08-04T00:37:21.324321",
     "exception": false,
     "start_time": "2023-08-04T00:37:21.123916",
     "status": "completed"
    },
    "tags": []
   },
   "outputs": [
    {
     "name": "stderr",
     "output_type": "stream",
     "text": [
      "/home/lippincm/Documents/ML/Interstellar_Analysis/4.sc_Morphology_Neural_Network_MLP_Model/0.model_training/notebooks/../../MLP_utils/utils.py:959: UserWarning:\n",
      "\n",
      "Ignoring `palette` because no `hue` variable has been assigned.\n",
      "\n",
      "/home/lippincm/Documents/ML/Interstellar_Analysis/4.sc_Morphology_Neural_Network_MLP_Model/0.model_training/notebooks/../../MLP_utils/utils.py:960: UserWarning:\n",
      "\n",
      "Ignoring `palette` because no `hue` variable has been assigned.\n",
      "\n"
     ]
    },
    {
     "data": {
      "image/png": "[encoded data removed]",
      "text/plain": [
       "<Figure size 640x480 with 1 Axes>"
      ]
     },
     "metadata": {},
     "output_type": "display_data"
    }
   ],
   "source": [
    "plot_metric_vs_epoch(\n",
    "    training_stats,\n",
    "    x=\"epochs_ran\",\n",
    "    y1=\"train_loss\",\n",
    "    y2=\"valid_loss\",\n",
    "    title=\"Loss vs. Epochs\",\n",
    "    x_axis_label=\"Epochs\",\n",
    "    y_axis_label=\"Loss\",\n",
    "    params=params,\n",
    "    model_name=params.MODEL_NAME,\n",
    "    shuffle=SHUFFLE_DATA,\n",
    ")"
   ]
  },
  {
   "cell_type": "code",
   "execution_count": 23,
   "id": "3e2c848c",
   "metadata": {
    "execution": {
     "iopub.execute_input": "2023-08-04T00:37:21.398287Z",
     "iopub.status.busy": "2023-08-04T00:37:21.397802Z",
     "iopub.status.idle": "2023-08-04T00:37:22.099337Z",
     "shell.execute_reply": "2023-08-04T00:37:22.098801Z"
    },
    "papermill": {
     "duration": 0.740943,
     "end_time": "2023-08-04T00:37:22.100526",
     "exception": false,
     "start_time": "2023-08-04T00:37:21.359583",
     "status": "completed"
    },
    "tags": []
   },
   "outputs": [],
   "source": [
    "# calling the testing function and outputting list values of tested model\n",
    "if params.MODEL_TYPE == \"Multi_Class\" or params.MODEL_TYPE == \"Regression\":\n",
    "    y_pred_list = test_optimized_model(\n",
    "        model, test_loader, params, model_name=params.MODEL_NAME\n",
    "    )\n",
    "elif params.MODEL_TYPE == \"Binary_Classification\":\n",
    "    y_pred_list, y_pred_prob_list = test_optimized_model(\n",
    "        model, test_loader, params, model_name=params.MODEL_NAME\n",
    "    )\n",
    "else:\n",
    "    raise Exception(\"Model type must be specified for proper model testing\")\n",
    "\n",
    "\n",
    "# un-nest list if nested i.e. length of input data does not match length of output data\n",
    "if len(y_pred_list) != len(Y_test):\n",
    "    y_pred_list = un_nest(y_pred_list)\n",
    "    y_pred_prob_list = un_nest(y_pred_prob_list)\n",
    "else:\n",
    "    pass"
   ]
  },
  {
   "cell_type": "code",
   "execution_count": 24,
   "id": "3c53f7e4",
   "metadata": {
    "execution": {
     "iopub.execute_input": "2023-08-04T00:37:22.154980Z",
     "iopub.status.busy": "2023-08-04T00:37:22.154662Z",
     "iopub.status.idle": "2023-08-04T00:37:22.482189Z",
     "shell.execute_reply": "2023-08-04T00:37:22.481705Z"
    },
    "papermill": {
     "duration": 0.356476,
     "end_time": "2023-08-04T00:37:22.483575",
     "exception": false,
     "start_time": "2023-08-04T00:37:22.127099",
     "status": "completed"
    },
    "tags": []
   },
   "outputs": [
    {
     "name": "stdout",
     "output_type": "stream",
     "text": [
      "              precision    recall  f1-score   support\n",
      "\n",
      "           0       0.96      0.98      0.97      3081\n",
      "           1       0.94      0.88      0.91       987\n",
      "\n",
      "    accuracy                           0.96      4068\n",
      "   macro avg       0.95      0.93      0.94      4068\n",
      "weighted avg       0.96      0.96      0.96      4068\n",
      "\n"
     ]
    },
    {
     "data": {
      "image/png": "[encoded data removed]",
      "text/plain": [
       "<Figure size 640x480 with 2 Axes>"
      ]
     },
     "metadata": {},
     "output_type": "display_data"
    },
    {
     "data": {
      "image/png": "[encoded data removed]",
      "text/plain": [
       "<Figure size 550x400 with 1 Axes>"
      ]
     },
     "metadata": {},
     "output_type": "display_data"
    }
   ],
   "source": [
    "# Call visualization function\n",
    "# calling the testing function and outputing list values of tested model\n",
    "if params.MODEL_TYPE == \"Multi_Class\" or params.MODEL_TYPE == \"Regression\":\n",
    "    confusion_matrix_df = results_output(\n",
    "        y_pred_list,\n",
    "        Y_test,\n",
    "        params,\n",
    "        test_name=f\"{params.MODEL_NAME}_testing\",\n",
    "        model_name=params.MODEL_NAME,\n",
    "        title=params.MODEL_NAME,\n",
    "        shuffle=SHUFFLE_DATA,\n",
    "    )\n",
    "elif params.MODEL_TYPE == \"Binary_Classification\":\n",
    "    results_output(\n",
    "        y_pred_list,\n",
    "        Y_test,\n",
    "        params,\n",
    "        y_pred_prob_list,\n",
    "        test_name=f\"{params.MODEL_NAME}_testing\",\n",
    "        model_name=params.MODEL_NAME,\n",
    "        title=params.MODEL_NAME,\n",
    "        shuffle=SHUFFLE_DATA,\n",
    "    )\n",
    "else:\n",
    "    raise Exception(\"Model type must be specified for proper model testing\")"
   ]
  },
  {
   "attachments": {},
   "cell_type": "markdown",
   "id": "2c620f38",
   "metadata": {
    "papermill": {
     "duration": 0.026641,
     "end_time": "2023-08-04T00:37:22.557230",
     "exception": false,
     "start_time": "2023-08-04T00:37:22.530589",
     "status": "completed"
    },
    "tags": []
   },
   "source": [
    "#### look at the feature weights of the model"
   ]
  },
  {
   "cell_type": "code",
   "execution_count": 25,
   "id": "06ecc2f0",
   "metadata": {
    "execution": {
     "iopub.execute_input": "2023-08-04T00:37:22.611492Z",
     "iopub.status.busy": "2023-08-04T00:37:22.611207Z",
     "iopub.status.idle": "2023-08-04T00:37:22.613829Z",
     "shell.execute_reply": "2023-08-04T00:37:22.613500Z"
    },
    "papermill": {
     "duration": 0.030538,
     "end_time": "2023-08-04T00:37:22.614461",
     "exception": false,
     "start_time": "2023-08-04T00:37:22.583923",
     "status": "completed"
    },
    "tags": []
   },
   "outputs": [],
   "source": [
    "# get all paramters from pytorch model\n",
    "lst = []\n",
    "for name, param in model.named_parameters():\n",
    "    # print(name, param.shape)\n",
    "    lst.append(param)\n",
    "feature_weights = model[0].weight.grad[0].detach().cpu().numpy()"
   ]
  },
  {
   "cell_type": "code",
   "execution_count": 26,
   "id": "131b568f",
   "metadata": {
    "execution": {
     "iopub.execute_input": "2023-08-04T00:37:22.668923Z",
     "iopub.status.busy": "2023-08-04T00:37:22.668735Z",
     "iopub.status.idle": "2023-08-04T00:37:22.671464Z",
     "shell.execute_reply": "2023-08-04T00:37:22.670990Z"
    },
    "papermill": {
     "duration": 0.030809,
     "end_time": "2023-08-04T00:37:22.672100",
     "exception": false,
     "start_time": "2023-08-04T00:37:22.641291",
     "status": "completed"
    },
    "tags": []
   },
   "outputs": [],
   "source": [
    "col_list = []\n",
    "for col in df_values.columns:\n",
    "    # print(col)\n",
    "    col_list.append(col)"
   ]
  },
  {
   "cell_type": "code",
   "execution_count": 27,
   "id": "400c1291",
   "metadata": {
    "execution": {
     "iopub.execute_input": "2023-08-04T00:37:22.726382Z",
     "iopub.status.busy": "2023-08-04T00:37:22.726088Z",
     "iopub.status.idle": "2023-08-04T00:37:22.728531Z",
     "shell.execute_reply": "2023-08-04T00:37:22.728044Z"
    },
    "papermill": {
     "duration": 0.030421,
     "end_time": "2023-08-04T00:37:22.729175",
     "exception": false,
     "start_time": "2023-08-04T00:37:22.698754",
     "status": "completed"
    },
    "tags": []
   },
   "outputs": [],
   "source": [
    "# remove last 4 columns from col_list that are not features\n",
    "col_list = col_list[:-4]"
   ]
  },
  {
   "cell_type": "code",
   "execution_count": 28,
   "id": "42dbfe2a",
   "metadata": {
    "execution": {
     "iopub.execute_input": "2023-08-04T00:37:22.783703Z",
     "iopub.status.busy": "2023-08-04T00:37:22.783286Z",
     "iopub.status.idle": "2023-08-04T00:37:22.794410Z",
     "shell.execute_reply": "2023-08-04T00:37:22.793980Z"
    },
    "papermill": {
     "duration": 0.039219,
     "end_time": "2023-08-04T00:37:22.795096",
     "exception": false,
     "start_time": "2023-08-04T00:37:22.755877",
     "status": "completed"
    },
    "tags": []
   },
   "outputs": [
    {
     "data": {
      "text/html": [
       "<div>\n",
       "<style scoped>\n",
       "    .dataframe tbody tr th:only-of-type {\n",
       "        vertical-align: middle;\n",
       "    }\n",
       "\n",
       "    .dataframe tbody tr th {\n",
       "        vertical-align: top;\n",
       "    }\n",
       "\n",
       "    .dataframe thead th {\n",
       "        text-align: right;\n",
       "    }\n",
       "</style>\n",
       "<table border=\"1\" class=\"dataframe\">\n",
       "  <thead>\n",
       "    <tr style=\"text-align: right;\">\n",
       "      <th></th>\n",
       "      <th>feature</th>\n",
       "      <th>weight</th>\n",
       "    </tr>\n",
       "  </thead>\n",
       "  <tbody>\n",
       "    <tr>\n",
       "      <th>792</th>\n",
       "      <td>Cells_Texture_InverseDifferenceMoment_CorrER_3_02_256</td>\n",
       "      <td>0.002016</td>\n",
       "    </tr>\n",
       "    <tr>\n",
       "      <th>404</th>\n",
       "      <td>Cytoplasm_Texture_InverseDifferenceMoment_CorrER_3_02_256</td>\n",
       "      <td>0.001774</td>\n",
       "    </tr>\n",
       "    <tr>\n",
       "      <th>793</th>\n",
       "      <td>Cells_Texture_InverseDifferenceMoment_CorrER_3_03_256</td>\n",
       "      <td>0.001747</td>\n",
       "    </tr>\n",
       "    <tr>\n",
       "      <th>1242</th>\n",
       "      <td>Nuclei_Texture_InverseDifferenceMoment_CorrER_3_02_256</td>\n",
       "      <td>0.001725</td>\n",
       "    </tr>\n",
       "    <tr>\n",
       "      <th>1243</th>\n",
       "      <td>Nuclei_Texture_InverseDifferenceMoment_CorrER_3_03_256</td>\n",
       "      <td>0.001558</td>\n",
       "    </tr>\n",
       "    <tr>\n",
       "      <th>...</th>\n",
       "      <td>...</td>\n",
       "      <td>...</td>\n",
       "    </tr>\n",
       "    <tr>\n",
       "      <th>360</th>\n",
       "      <td>Cytoplasm_Texture_DifferenceEntropy_CorrER_3_01_256</td>\n",
       "      <td>-0.001933</td>\n",
       "    </tr>\n",
       "    <tr>\n",
       "      <th>362</th>\n",
       "      <td>Cytoplasm_Texture_DifferenceEntropy_CorrER_3_03_256</td>\n",
       "      <td>-0.001952</td>\n",
       "    </tr>\n",
       "    <tr>\n",
       "      <th>947</th>\n",
       "      <td>Nuclei_RadialDistribution_RadialCV_CorrER_4of4</td>\n",
       "      <td>-0.001960</td>\n",
       "    </tr>\n",
       "    <tr>\n",
       "      <th>359</th>\n",
       "      <td>Cytoplasm_Texture_DifferenceEntropy_CorrER_3_00_256</td>\n",
       "      <td>-0.002043</td>\n",
       "    </tr>\n",
       "    <tr>\n",
       "      <th>361</th>\n",
       "      <td>Cytoplasm_Texture_DifferenceEntropy_CorrER_3_02_256</td>\n",
       "      <td>-0.002213</td>\n",
       "    </tr>\n",
       "  </tbody>\n",
       "</table>\n",
       "<p>1251 rows × 2 columns</p>\n",
       "</div>"
      ],
      "text/plain": [
       "                                                        feature    weight\n",
       "792       Cells_Texture_InverseDifferenceMoment_CorrER_3_02_256  0.002016\n",
       "404   Cytoplasm_Texture_InverseDifferenceMoment_CorrER_3_02_256  0.001774\n",
       "793       Cells_Texture_InverseDifferenceMoment_CorrER_3_03_256  0.001747\n",
       "1242     Nuclei_Texture_InverseDifferenceMoment_CorrER_3_02_256  0.001725\n",
       "1243     Nuclei_Texture_InverseDifferenceMoment_CorrER_3_03_256  0.001558\n",
       "...                                                         ...       ...\n",
       "360         Cytoplasm_Texture_DifferenceEntropy_CorrER_3_01_256 -0.001933\n",
       "362         Cytoplasm_Texture_DifferenceEntropy_CorrER_3_03_256 -0.001952\n",
       "947              Nuclei_RadialDistribution_RadialCV_CorrER_4of4 -0.001960\n",
       "359         Cytoplasm_Texture_DifferenceEntropy_CorrER_3_00_256 -0.002043\n",
       "361         Cytoplasm_Texture_DifferenceEntropy_CorrER_3_02_256 -0.002213\n",
       "\n",
       "[1251 rows x 2 columns]"
      ]
     },
     "execution_count": 28,
     "metadata": {},
     "output_type": "execute_result"
    }
   ],
   "source": [
    "pd.set_option(\"display.max_colwidth\", None)\n",
    "\n",
    "df = pd.DataFrame(zip(col_list, feature_weights), columns=[\"feature\", \"weight\"])\n",
    "# change weight collumn to float\n",
    "df[\"weight\"] = df[\"weight\"].astype(float)\n",
    "# sort by weight\n",
    "df = df.sort_values(by=[\"weight\"], ascending=False)\n",
    "df"
   ]
  },
  {
   "cell_type": "code",
   "execution_count": 29,
   "id": "e8a4e590",
   "metadata": {
    "execution": {
     "iopub.execute_input": "2023-08-04T00:37:22.851393Z",
     "iopub.status.busy": "2023-08-04T00:37:22.850729Z",
     "iopub.status.idle": "2023-08-04T00:37:22.869432Z",
     "shell.execute_reply": "2023-08-04T00:37:22.868854Z"
    },
    "papermill": {
     "duration": 0.048089,
     "end_time": "2023-08-04T00:37:22.870329",
     "exception": false,
     "start_time": "2023-08-04T00:37:22.822240",
     "status": "completed"
    },
    "tags": []
   },
   "outputs": [],
   "source": [
    "# Code snippet for metadata extraction by Jenna Tomkinson\n",
    "df_metadata = list(df_holdout.columns[df_holdout.columns.str.startswith(\"Metadata\")])\n",
    "\n",
    "# define which columns are data and which are descriptive\n",
    "df_descriptive = df_holdout[df_metadata]\n",
    "df_values = df_holdout.drop(columns=df_metadata)"
   ]
  },
  {
   "cell_type": "code",
   "execution_count": 30,
   "id": "748bb398",
   "metadata": {
    "execution": {
     "iopub.execute_input": "2023-08-04T00:37:22.937180Z",
     "iopub.status.busy": "2023-08-04T00:37:22.936883Z",
     "iopub.status.idle": "2023-08-04T00:37:22.952576Z",
     "shell.execute_reply": "2023-08-04T00:37:22.952176Z"
    },
    "papermill": {
     "duration": 0.046426,
     "end_time": "2023-08-04T00:37:22.953240",
     "exception": false,
     "start_time": "2023-08-04T00:37:22.906814",
     "status": "completed"
    },
    "tags": []
   },
   "outputs": [],
   "source": [
    "# Creating label encoder\n",
    "le = preprocessing.LabelEncoder()\n",
    "# Converting strings into numbers\n",
    "df_values[\"oneb_Metadata_Treatment_Dose_Inhibitor_Dose\"] = le.fit_transform(\n",
    "    df_values[\"oneb_Metadata_Treatment_Dose_Inhibitor_Dose\"]\n",
    ")\n",
    "# split into X and Y where Y are the predictive column and x are the observable data\n",
    "df_values_X = df_values.drop(\n",
    "    [\n",
    "        \"oneb_Metadata_Treatment_Dose_Inhibitor_Dose\",\n",
    "        \"twob_Metadata_Treatment_Dose_Inhibitor_Dose\",\n",
    "        \"threeb_Metadata_Treatment_Dose_Inhibitor_Dose\",\n",
    "        \"fourb_Metadata_Treatment_Dose_Inhibitor_Dose\",\n",
    "    ],\n",
    "    axis=1,\n",
    ")\n",
    "df_values_Y = df_values[\"oneb_Metadata_Treatment_Dose_Inhibitor_Dose\"]"
   ]
  },
  {
   "cell_type": "markdown",
   "id": "8eceb65e",
   "metadata": {
    "papermill": {
     "duration": 0.027538,
     "end_time": "2023-08-04T00:37:23.009555",
     "exception": false,
     "start_time": "2023-08-04T00:37:22.982017",
     "status": "completed"
    },
    "tags": []
   },
   "source": [
    "## Test the hold out wells"
   ]
  },
  {
   "cell_type": "code",
   "execution_count": 31,
   "id": "2c5677d3",
   "metadata": {
    "execution": {
     "iopub.execute_input": "2023-08-04T00:37:23.071166Z",
     "iopub.status.busy": "2023-08-04T00:37:23.070964Z",
     "iopub.status.idle": "2023-08-04T00:37:23.079417Z",
     "shell.execute_reply": "2023-08-04T00:37:23.079094Z"
    },
    "papermill": {
     "duration": 0.037074,
     "end_time": "2023-08-04T00:37:23.080229",
     "exception": false,
     "start_time": "2023-08-04T00:37:23.043155",
     "status": "completed"
    },
    "tags": []
   },
   "outputs": [],
   "source": [
    "test_data = Dataset_formatter(\n",
    "    torch.FloatTensor(df_values_X.values), torch.FloatTensor(df_values_Y.values)\n",
    ")\n",
    "\n",
    "# convert data class into a dataloader to be compatible with pytorch\n",
    "test_loader = torch.utils.data.DataLoader(\n",
    "    dataset=test_data, batch_size=1, shuffle=SHUFFLE_DATA\n",
    ")"
   ]
  },
  {
   "cell_type": "code",
   "execution_count": 32,
   "id": "4f88eaef",
   "metadata": {
    "execution": {
     "iopub.execute_input": "2023-08-04T00:37:23.138072Z",
     "iopub.status.busy": "2023-08-04T00:37:23.137678Z",
     "iopub.status.idle": "2023-08-04T00:37:24.569623Z",
     "shell.execute_reply": "2023-08-04T00:37:24.569220Z"
    },
    "papermill": {
     "duration": 1.462054,
     "end_time": "2023-08-04T00:37:24.570647",
     "exception": false,
     "start_time": "2023-08-04T00:37:23.108593",
     "status": "completed"
    },
    "tags": []
   },
   "outputs": [],
   "source": [
    "# calling the testing function and outputting list values of tested model\n",
    "if params.MODEL_TYPE == \"Multi_Class\" or params.MODEL_TYPE == \"Regression\":\n",
    "    y_pred_list = test_optimized_model(\n",
    "        model, test_loader, params, model_name=params.MODEL_NAME\n",
    "    )\n",
    "elif params.MODEL_TYPE == \"Binary_Classification\":\n",
    "    y_pred_list, y_pred_prob_list = test_optimized_model(\n",
    "        model, test_loader, params, model_name=params.MODEL_NAME\n",
    "    )\n",
    "else:\n",
    "    raise Exception(\"Model type must be specified for proper model testing\")\n",
    "\n",
    "\n",
    "# un-nest list if nested i.e. length of input data does not match length of output data\n",
    "if len(y_pred_list) != len(df_values_Y):\n",
    "    y_pred_list = un_nest(y_pred_list)\n",
    "    y_pred_prob_list = un_nest(y_pred_prob_list)\n",
    "else:\n",
    "    pass"
   ]
  },
  {
   "cell_type": "code",
   "execution_count": 33,
   "id": "9d6bbc43",
   "metadata": {
    "execution": {
     "iopub.execute_input": "2023-08-04T00:37:24.660673Z",
     "iopub.status.busy": "2023-08-04T00:37:24.660455Z",
     "iopub.status.idle": "2023-08-04T00:37:24.953361Z",
     "shell.execute_reply": "2023-08-04T00:37:24.953036Z"
    },
    "papermill": {
     "duration": 0.356494,
     "end_time": "2023-08-04T00:37:24.954106",
     "exception": false,
     "start_time": "2023-08-04T00:37:24.597612",
     "status": "completed"
    },
    "tags": []
   },
   "outputs": [
    {
     "name": "stdout",
     "output_type": "stream",
     "text": [
      "              precision    recall  f1-score   support\n",
      "\n",
      "           0       0.92      0.99      0.95      4837\n",
      "           1       0.98      0.87      0.92      3346\n",
      "\n",
      "    accuracy                           0.94      8183\n",
      "   macro avg       0.95      0.93      0.94      8183\n",
      "weighted avg       0.94      0.94      0.94      8183\n",
      "\n"
     ]
    },
    {
     "data": {
      "image/png": "[encoded data removed]",
      "text/plain": [
       "<Figure size 640x480 with 2 Axes>"
      ]
     },
     "metadata": {},
     "output_type": "display_data"
    },
    {
     "data": {
      "image/png": "[encoded data removed]",
      "text/plain": [
       "<Figure size 550x400 with 1 Axes>"
      ]
     },
     "metadata": {},
     "output_type": "display_data"
    }
   ],
   "source": [
    "# Call visualization function\n",
    "# calling the testing function and outputing list values of tested model\n",
    "if params.MODEL_TYPE == \"Multi_Class\" or params.MODEL_TYPE == \"Regression\":\n",
    "    confusion_matrix_df = results_output(\n",
    "        y_pred_list,\n",
    "        df_values_Y,\n",
    "        params,\n",
    "        test_name=f\"{params.MODEL_NAME}_hold_out\",\n",
    "        model_name=params.MODEL_NAME,\n",
    "        title=params.MODEL_NAME,\n",
    "        shuffle=SHUFFLE_DATA,\n",
    "    )\n",
    "elif params.MODEL_TYPE == \"Binary_Classification\":\n",
    "    results_output(\n",
    "        y_pred_list,\n",
    "        df_values_Y,\n",
    "        params,\n",
    "        y_pred_prob_list,\n",
    "        test_name=f\"{params.MODEL_NAME}_hold_out\",\n",
    "        model_name=params.MODEL_NAME,\n",
    "        title=params.MODEL_NAME,\n",
    "        shuffle=SHUFFLE_DATA,\n",
    "    )\n",
    "else:\n",
    "    raise Exception(\"Model type must be specified for proper model testing\")"
   ]
  }
 ],
 "metadata": {
  "jupytext": {
   "cell_metadata_filter": "-all",
   "encoding": "# coding: utf-8",
   "executable": "/usr/bin/env python",
   "formats": "ipynb,py",
   "main_language": "python"
  },
  "kernelspec": {
   "display_name": "Python 3 (ipykernel)",
   "language": "python",
   "name": "python3"
  },
  "language_info": {
   "codemirror_mode": {
    "name": "ipython",
    "version": 3
   },
   "file_extension": ".py",
   "mimetype": "text/x-python",
   "name": "python",
   "nbconvert_exporter": "python",
   "pygments_lexer": "ipython3",
   "version": "3.10.12"
  },
  "papermill": {
   "default_parameters": {},
   "duration": 114.145203,
   "end_time": "2023-08-04T00:37:27.770363",
   "environment_variables": {},
   "exception": null,
   "input_path": "Hyperparameter_Optimization_model_binary.ipynb",
   "output_path": "Hyperparameter_Optimization_model_binary.ipynb",
   "parameters": {
    "CELL_TYPE": "SHSY5Y",
    "CONTROL_NAME": "DMSO_0.100_DMSO_0.025",
    "MODEL_NAME": "DMSO_0.025_vs_Thapsigargin_10",
    "SHUFFLE_DATA": false,
    "TREATMENT_NAME": "Thapsigargin_10.000_DMSO_0.025"
   },
   "start_time": "2023-08-04T00:35:33.625160",
   "version": "2.4.0"
  },
  "vscode": {
   "interpreter": {
    "hash": "72ae02083a9ca7d143c492d1aec380c7bf553ec51bd66e90e72bba65228121b6"
   }
  }
 },
 "nbformat": 4,
 "nbformat_minor": 5
}
