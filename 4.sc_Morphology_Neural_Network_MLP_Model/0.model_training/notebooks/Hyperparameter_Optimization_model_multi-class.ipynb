{
 "cells": [
  {
   "attachments": {},
   "cell_type": "markdown",
   "id": "8e60628c",
   "metadata": {},
   "source": [
    "## Hyperparameter tuning via Optuna"
   ]
  },
  {
   "cell_type": "markdown",
   "id": "8fac71a5",
   "metadata": {},
   "source": [
    "### Being a binary model this notebook will be limited to predicting one class 1 or 0, yes or no.\n",
    "### Here I will be predicting if a cell received a treatment or not"
   ]
  },
  {
   "cell_type": "code",
   "execution_count": 1,
   "id": "860a61dd",
   "metadata": {},
   "outputs": [],
   "source": [
    "import os\n",
    "import sys\n",
    "from pathlib import Path\n",
    "\n",
    "import matplotlib.pyplot as plt\n",
    "import numpy as np\n",
    "import optuna\n",
    "import pandas as pd\n",
    "import plotly\n",
    "import pyarrow.parquet as pq\n",
    "import seaborn as sns\n",
    "import toml\n",
    "import torch\n",
    "import torch.nn as nn\n",
    "import torch.optim as optim\n",
    "from sklearn import preprocessing\n",
    "from sklearn.metrics import (\n",
    "    auc,\n",
    "    confusion_matrix,\n",
    "    precision_score,\n",
    "    recall_score,\n",
    "    roc_auc_score,\n",
    "    roc_curve,\n",
    ")\n",
    "from sklearn.model_selection import train_test_split\n",
    "\n",
    "sys.path.append(\"../..\")\n",
    "from MLP_utils.parameters import Parameters\n",
    "from MLP_utils.utils import (\n",
    "    Dataset_formatter,\n",
    "    data_split,\n",
    "    extract_best_trial_params,\n",
    "    objective_model_optimizer,\n",
    "    optimized_model_create,\n",
    "    parameter_set,\n",
    "    plot_metric_vs_epoch,\n",
    "    results_output,\n",
    "    test_optimized_model,\n",
    "    train_optimized_model,\n",
    "    un_nest,\n",
    ")\n",
    "\n",
    "sys.path.append(\"../../../\")\n",
    "from utils.utils import df_stats"
   ]
  },
  {
   "cell_type": "code",
   "execution_count": 2,
   "id": "44baa945",
   "metadata": {},
   "outputs": [],
   "source": [
    "# Import Data\n",
    "# set data file path under pathlib path for multi-system use\n",
    "\n",
    "\n",
    "file_path = Path(\n",
    "    \"../../../../Extracted_Features_(CSV_files)/interstellar_wave3_sc_norm_fs_cellprofiler.csv.gz\"\n",
    ")\n",
    "\n",
    "file_path = Path(\n",
    "    \"../../../../Extracted_Features_(CSV_files)/SHSY5Y_preprocessed_df_sc_norm.parquet\"\n",
    ")\n",
    "\n",
    "df = pq.read_table(file_path).to_pandas()\n",
    "# df = pd.read_csv(file_path, engine=\"pyarrow\")"
   ]
  },
  {
   "cell_type": "code",
   "execution_count": 3,
   "id": "394294ce",
   "metadata": {},
   "outputs": [],
   "source": [
    "data = Path(\"../../MLP_utils/config.toml\")\n",
    "config = toml.load(data)\n",
    "params = Parameters()\n",
    "params = parameter_set(params, config)"
   ]
  },
  {
   "attachments": {},
   "cell_type": "markdown",
   "id": "5c486e00",
   "metadata": {},
   "source": [
    "#### Set up Data to be compatible with model"
   ]
  },
  {
   "attachments": {},
   "cell_type": "markdown",
   "id": "95754baa",
   "metadata": {},
   "source": [
    "##### Classification Models:\n",
    "Comment out code if using regression"
   ]
  },
  {
   "cell_type": "code",
   "execution_count": 4,
   "id": "b6ea8ac9",
   "metadata": {},
   "outputs": [
    {
     "name": "stdout",
     "output_type": "stream",
     "text": [
      "Selected Catagories are:\n",
      "['DMSO_0.100_DMSO_0.025' 'Thapsigargin_10.000_DMSO_0.025'\n",
      " 'LPS_100.000_DMSO_0.025']\n",
      "The dimensions of the data are: (64842, 2872)\n",
      "Number of total missing values across all columns: 129684\n",
      "Data Subset Is Off\n"
     ]
    }
   ],
   "source": [
    "# Generate df specific to analysis and model\n",
    "df = df.query(\n",
    "    \"oneb_Metadata_Treatment_Dose_Inhibitor_Dose == 'LPS_100.000_DMSO_0.025'| oneb_Metadata_Treatment_Dose_Inhibitor_Dose == 'Thapsigargin_10.000_DMSO_0.025' | oneb_Metadata_Treatment_Dose_Inhibitor_Dose == 'DMSO_0.100_DMSO_0.025'\"\n",
    ")\n",
    "\n",
    "print(\"Selected Catagories are:\")\n",
    "print(df[\"oneb_Metadata_Treatment_Dose_Inhibitor_Dose\"].unique())\n",
    "# Check for Nans again\n",
    "df_stats(df)\n",
    "\n",
    "if params.DATA_SUBSET_OPTION == \"True\":\n",
    "    df = df.sample(n=params.DATA_SUBSET_NUMBER)\n",
    "    print(\"Data Subset Is On\")\n",
    "    print(f\"Data is subset to {params.DATA_SUBSET_NUMBER}\")\n",
    "else:\n",
    "    print(\"Data Subset Is Off\")"
   ]
  },
  {
   "cell_type": "code",
   "execution_count": 5,
   "id": "088cff07",
   "metadata": {},
   "outputs": [
    {
     "name": "stdout",
     "output_type": "stream",
     "text": [
      "Wells held out for testing: ['I14' 'L14' 'J21']\n",
      "Wells to use for training, validation, and testing ['B14' 'C14' 'E14' 'B15' 'C15' 'E15' 'J14' 'I15' 'J15' 'L15' 'J16' 'J17'\n",
      " 'J20']\n"
     ]
    }
   ],
   "source": [
    "np.random.seed(seed=0)\n",
    "wells_to_hold = (\n",
    "    df.groupby(\"oneb_Metadata_Treatment_Dose_Inhibitor_Dose\")\n",
    "    .agg(np.random.choice)[\"Metadata_Well\"]\n",
    "    .to_list()\n",
    ")\n",
    "df_holdout = df[df[\"Metadata_Well\"].isin(wells_to_hold)]\n",
    "df = df[~df[\"Metadata_Well\"].isin(wells_to_hold)]\n",
    "\n",
    "\n",
    "print(\"Wells held out for testing:\", df_holdout[\"Metadata_Well\"].unique())\n",
    "print(\n",
    "    \"Wells to use for training, validation, and testing\", df[\"Metadata_Well\"].unique()\n",
    ")"
   ]
  },
  {
   "cell_type": "code",
   "execution_count": 6,
   "id": "786e3a76",
   "metadata": {},
   "outputs": [],
   "source": [
    "# Code snippet for metadata extraction by Jenna Tomkinson\n",
    "df_metadata = list(df.columns[df.columns.str.startswith(\"Metadata\")])\n",
    "\n",
    "# define which columns are data and which are descriptive\n",
    "df_descriptive = df[df_metadata]\n",
    "df_values = df.drop(columns=df_metadata)"
   ]
  },
  {
   "cell_type": "code",
   "execution_count": 7,
   "id": "595afb65",
   "metadata": {},
   "outputs": [],
   "source": [
    "# Creating label encoder\n",
    "le = preprocessing.LabelEncoder()\n",
    "# Converting strings into numbers\n",
    "df_values[\"oneb_Metadata_Treatment_Dose_Inhibitor_Dose\"] = le.fit_transform(\n",
    "    df_values[\"oneb_Metadata_Treatment_Dose_Inhibitor_Dose\"]\n",
    ")\n",
    "# split into X and Y where Y are the predictive column and x are the observable data\n",
    "df_values_X = df_values.drop(\n",
    "    [\n",
    "        \"oneb_Metadata_Treatment_Dose_Inhibitor_Dose\",\n",
    "        \"twob_Metadata_Treatment_Dose_Inhibitor_Dose\",\n",
    "        \"threeb_Metadata_Treatment_Dose_Inhibitor_Dose\",\n",
    "        \"fourb_Metadata_Treatment_Dose_Inhibitor_Dose\",\n",
    "    ],\n",
    "    axis=1,\n",
    ")\n",
    "df_values_Y = df_values[\"oneb_Metadata_Treatment_Dose_Inhibitor_Dose\"]"
   ]
  },
  {
   "cell_type": "code",
   "execution_count": 8,
   "id": "37451f5c",
   "metadata": {},
   "outputs": [],
   "source": [
    "output_name = (\" \").join(df[\"oneb_Metadata_Treatment_Dose_Inhibitor_Dose\"].unique())\n",
    "title = f'{output_name.split(\" \")[0].split(\"_\")[0]} vs {(\" \").join(output_name.split(\" \")[1].split(\"_\")[:2])} vs {(\" \").join(output_name.split(\" \")[2].split(\"_\")[:2])}'"
   ]
  },
  {
   "attachments": {},
   "cell_type": "markdown",
   "id": "260a048e",
   "metadata": {},
   "source": [
    "#### Split Data - All Models can proceed through this point"
   ]
  },
  {
   "cell_type": "code",
   "execution_count": 9,
   "id": "f4feb87f",
   "metadata": {},
   "outputs": [],
   "source": [
    "X_train, X_test, X_val, Y_train, Y_test, Y_val = data_split(\n",
    "    X_vals=df_values_X,\n",
    "    y_vals=df_values_Y,\n",
    "    train_proportion=0.8,\n",
    "    val_proportion=0.1,\n",
    "    test_proportion=0.1,\n",
    "    seed=1,\n",
    "    params=params,\n",
    ")"
   ]
  },
  {
   "cell_type": "code",
   "execution_count": 10,
   "id": "36894826",
   "metadata": {},
   "outputs": [],
   "source": [
    "# produce data objects for train, val and test datasets\n",
    "train_data = Dataset_formatter(\n",
    "    torch.FloatTensor(X_train.values), torch.FloatTensor(Y_train.values)\n",
    ")\n",
    "val_data = Dataset_formatter(\n",
    "    torch.FloatTensor(X_val.values), torch.FloatTensor(Y_val.values)\n",
    ")\n",
    "test_data = Dataset_formatter(\n",
    "    torch.FloatTensor(X_test.values), torch.FloatTensor(Y_test.values)\n",
    ")"
   ]
  },
  {
   "cell_type": "code",
   "execution_count": 11,
   "id": "4382d712",
   "metadata": {},
   "outputs": [
    {
     "name": "stdout",
     "output_type": "stream",
     "text": [
      "Number of in features:  2847\n",
      "Number of out features:  3\n",
      "Multi_Class\n"
     ]
    }
   ],
   "source": [
    "params.IN_FEATURES = X_train.shape[1]\n",
    "print(\"Number of in features: \", params.IN_FEATURES)\n",
    "if params.MODEL_TYPE == \"Regression\":\n",
    "    params.OUT_FEATURES = 1\n",
    "else:\n",
    "    params.OUT_FEATURES = len(\n",
    "        df_values[\"oneb_Metadata_Treatment_Dose_Inhibitor_Dose\"].unique()\n",
    "    )\n",
    "\n",
    "print(\"Number of out features: \", params.OUT_FEATURES)\n",
    "\n",
    "if params.OUT_FEATURES > 2:\n",
    "    params.MODEL_TYPE = \"Multi_Class\"\n",
    "elif params.OUT_FEATURES == 2:\n",
    "    params.OUT_FEATURES = params.OUT_FEATURES - 1\n",
    "    params.MODEL_TYPE = \"Binary_Classification\"\n",
    "elif params.OUT_FEATURES == 1:\n",
    "    params.MODEL_TYPE = \"Regression\"\n",
    "else:\n",
    "    pass\n",
    "print(params.MODEL_TYPE)"
   ]
  },
  {
   "cell_type": "code",
   "execution_count": 12,
   "id": "77effa5c",
   "metadata": {},
   "outputs": [],
   "source": [
    "# convert data class into a dataloader to be compatible with pytorch\n",
    "train_loader = torch.utils.data.DataLoader(\n",
    "    dataset=train_data, batch_size=params.BATCH_SIZE\n",
    ")\n",
    "valid_loader = torch.utils.data.DataLoader(\n",
    "    dataset=val_data, batch_size=params.BATCH_SIZE\n",
    ")\n",
    "test_loader = torch.utils.data.DataLoader(dataset=test_data, batch_size=1)"
   ]
  },
  {
   "cell_type": "code",
   "execution_count": 13,
   "id": "a969042f",
   "metadata": {},
   "outputs": [
    {
     "name": "stderr",
     "output_type": "stream",
     "text": [
      "[I 2023-07-06 15:24:46,226] A new study created in memory with name: no-name-e08a3f53-fc22-4440-ae3e-a67bff302e97\n",
      "[I 2023-07-06 15:25:45,101] Trial 0 finished with value: 0.6557686104377112 and parameters: {'n_layers': 3, 'n_units_l0': 2, 'dropout_0': 0.29009447047788267, 'n_units_l1': 8, 'dropout_1': 0.24955210369077716, 'n_units_l2': 4, 'dropout_2': 0.1594188594278872, 'learning_rate': 0.07605546591277389, 'optimizer': 'SGD'}. Best is trial 0 with value: 0.6557686104377112.\n",
      "[I 2023-07-06 15:26:42,223] Trial 1 finished with value: 0.8096670629580817 and parameters: {'n_layers': 3, 'n_units_l0': 2, 'dropout_0': 0.253657679015733, 'n_units_l1': 9, 'dropout_1': 0.28375782004881644, 'n_units_l2': 8, 'dropout_2': 0.18756282045118997, 'learning_rate': 0.09177823451006922, 'optimizer': 'Adam'}. Best is trial 0 with value: 0.6557686104377112.\n",
      "[I 2023-07-06 15:27:38,662] Trial 2 finished with value: 0.2581118485828241 and parameters: {'n_layers': 2, 'n_units_l0': 8, 'dropout_0': 0.23254995232689885, 'n_units_l1': 5, 'dropout_1': 0.2853300935407952, 'learning_rate': 0.05131869287301355, 'optimizer': 'SGD'}. Best is trial 2 with value: 0.2581118485828241.\n",
      "[I 2023-07-06 15:28:36,052] Trial 3 finished with value: 0.27211310620109236 and parameters: {'n_layers': 2, 'n_units_l0': 10, 'dropout_0': 0.1957708266965636, 'n_units_l1': 2, 'dropout_1': 0.19021001699086104, 'learning_rate': 0.011407296342736342, 'optimizer': 'Adam'}. Best is trial 2 with value: 0.2581118485828241.\n",
      "[I 2023-07-06 15:29:33,051] Trial 4 finished with value: 0.7922512456774712 and parameters: {'n_layers': 2, 'n_units_l0': 9, 'dropout_0': 0.1596842619036437, 'n_units_l1': 9, 'dropout_1': 0.2054957918296264, 'learning_rate': 0.07546722267607042, 'optimizer': 'RMSprop'}. Best is trial 2 with value: 0.2581118485828241.\n",
      "[I 2023-07-06 15:30:29,821] Trial 5 finished with value: 0.21252756009499232 and parameters: {'n_layers': 1, 'n_units_l0': 5, 'dropout_0': 0.1280381123675951, 'learning_rate': 0.08211235472711448, 'optimizer': 'SGD'}. Best is trial 5 with value: 0.21252756009499232.\n",
      "[I 2023-07-06 15:30:30,939] Trial 6 pruned. \n",
      "[I 2023-07-06 15:30:32,157] Trial 7 pruned. \n",
      "[I 2023-07-06 15:30:33,392] Trial 8 pruned. \n",
      "[I 2023-07-06 15:31:30,489] Trial 9 finished with value: 0.2516861428817113 and parameters: {'n_layers': 1, 'n_units_l0': 4, 'dropout_0': 0.10761993461503183, 'learning_rate': 0.03031322543949697, 'optimizer': 'SGD'}. Best is trial 5 with value: 0.21252756009499232.\n"
     ]
    },
    {
     "name": "stdout",
     "output_type": "stream",
     "text": [
      "Validation Accuracy: 93.00951655881232\n",
      "Validation Loss: 0.19498067542910577\n",
      "Training Accuracy: 89.29018441403927\n",
      "Training Loss: 0.23968291032452915\n"
     ]
    },
    {
     "data": {
      "text/plain": [
       "(93.00951655881232,\n",
       " 0.19498067542910577,\n",
       " 89.29018441403927,\n",
       " 0.23968291032452915)"
      ]
     },
     "execution_count": 13,
     "metadata": {},
     "output_type": "execute_result"
    }
   ],
   "source": [
    "# no accuracy function must be loss for regression\n",
    "if params.MODEL_TYPE == \"Regression\":\n",
    "    params.METRIC = \"loss\"\n",
    "    pass\n",
    "\n",
    "sampler = optuna.samplers.TPESampler(seed=10)\n",
    "\n",
    "# wrap the objective function inside of a lambda function to pass args...\n",
    "objective_lambda_func = lambda trial: objective_model_optimizer(\n",
    "    train_loader,\n",
    "    valid_loader,\n",
    "    trial=trial,\n",
    "    params=params,\n",
    "    metric=params.METRIC,\n",
    "    return_info=False,\n",
    ")\n",
    "\n",
    "\n",
    "# Study is the object for model optimization\n",
    "study = optuna.create_study(direction=f\"{params.DIRECTION}\", sampler=sampler)\n",
    "# Here I apply the optimize function of the study to the objective function\n",
    "# This optimizes each parameter specified to be optimized from the defined search space\n",
    "study.optimize(objective_lambda_func, n_trials=params.N_TRIALS)\n",
    "# Prints out the best trial's optimized parameters\n",
    "objective_model_optimizer(\n",
    "    train_loader,\n",
    "    valid_loader,\n",
    "    trial=study.best_trial,\n",
    "    params=params,\n",
    "    metric=params.METRIC,\n",
    "    return_info=True,\n",
    ")"
   ]
  },
  {
   "cell_type": "code",
   "execution_count": 14,
   "id": "b2620589",
   "metadata": {},
   "outputs": [
    {
     "data": {
      "application/vnd.plotly.v1+json": {
       "config": {
        "plotlyServerURL": "https://plot.ly"
       },
       "data": [
        {
         "mode": "markers",
         "name": "Objective Value",
         "type": "scatter",
         "x": [
          0,
          1,
          2,
          3,
          4,
          5,
          9
         ],
         "y": [
          0.6557686104377112,
          0.8096670629580817,
          0.2581118485828241,
          0.27211310620109236,
          0.7922512456774712,
          0.21252756009499232,
          0.2516861428817113
         ]
        },
        {
         "name": "Best Value",
         "type": "scatter",
         "x": [
          0,
          1,
          2,
          3,
          4,
          5,
          9
         ],
         "y": [
          0.6557686104377112,
          0.6557686104377112,
          0.2581118485828241,
          0.2581118485828241,
          0.2581118485828241,
          0.21252756009499232,
          0.21252756009499232
         ]
        }
       ],
       "layout": {
        "template": {
         "data": {
          "bar": [
           {
            "error_x": {
             "color": "#2a3f5f"
            },
            "error_y": {
             "color": "#2a3f5f"
            },
            "marker": {
             "line": {
              "color": "#E5ECF6",
              "width": 0.5
             },
             "pattern": {
              "fillmode": "overlay",
              "size": 10,
              "solidity": 0.2
             }
            },
            "type": "bar"
           }
          ],
          "barpolar": [
           {
            "marker": {
             "line": {
              "color": "#E5ECF6",
              "width": 0.5
             },
             "pattern": {
              "fillmode": "overlay",
              "size": 10,
              "solidity": 0.2
             }
            },
            "type": "barpolar"
           }
          ],
          "carpet": [
           {
            "aaxis": {
             "endlinecolor": "#2a3f5f",
             "gridcolor": "white",
             "linecolor": "white",
             "minorgridcolor": "white",
             "startlinecolor": "#2a3f5f"
            },
            "baxis": {
             "endlinecolor": "#2a3f5f",
             "gridcolor": "white",
             "linecolor": "white",
             "minorgridcolor": "white",
             "startlinecolor": "#2a3f5f"
            },
            "type": "carpet"
           }
          ],
          "choropleth": [
           {
            "colorbar": {
             "outlinewidth": 0,
             "ticks": ""
            },
            "type": "choropleth"
           }
          ],
          "contour": [
           {
            "colorbar": {
             "outlinewidth": 0,
             "ticks": ""
            },
            "colorscale": [
             [
              0,
              "#0d0887"
             ],
             [
              0.1111111111111111,
              "#46039f"
             ],
             [
              0.2222222222222222,
              "#7201a8"
             ],
             [
              0.3333333333333333,
              "#9c179e"
             ],
             [
              0.4444444444444444,
              "#bd3786"
             ],
             [
              0.5555555555555556,
              "#d8576b"
             ],
             [
              0.6666666666666666,
              "#ed7953"
             ],
             [
              0.7777777777777778,
              "#fb9f3a"
             ],
             [
              0.8888888888888888,
              "#fdca26"
             ],
             [
              1,
              "#f0f921"
             ]
            ],
            "type": "contour"
           }
          ],
          "contourcarpet": [
           {
            "colorbar": {
             "outlinewidth": 0,
             "ticks": ""
            },
            "type": "contourcarpet"
           }
          ],
          "heatmap": [
           {
            "colorbar": {
             "outlinewidth": 0,
             "ticks": ""
            },
            "colorscale": [
             [
              0,
              "#0d0887"
             ],
             [
              0.1111111111111111,
              "#46039f"
             ],
             [
              0.2222222222222222,
              "#7201a8"
             ],
             [
              0.3333333333333333,
              "#9c179e"
             ],
             [
              0.4444444444444444,
              "#bd3786"
             ],
             [
              0.5555555555555556,
              "#d8576b"
             ],
             [
              0.6666666666666666,
              "#ed7953"
             ],
             [
              0.7777777777777778,
              "#fb9f3a"
             ],
             [
              0.8888888888888888,
              "#fdca26"
             ],
             [
              1,
              "#f0f921"
             ]
            ],
            "type": "heatmap"
           }
          ],
          "heatmapgl": [
           {
            "colorbar": {
             "outlinewidth": 0,
             "ticks": ""
            },
            "colorscale": [
             [
              0,
              "#0d0887"
             ],
             [
              0.1111111111111111,
              "#46039f"
             ],
             [
              0.2222222222222222,
              "#7201a8"
             ],
             [
              0.3333333333333333,
              "#9c179e"
             ],
             [
              0.4444444444444444,
              "#bd3786"
             ],
             [
              0.5555555555555556,
              "#d8576b"
             ],
             [
              0.6666666666666666,
              "#ed7953"
             ],
             [
              0.7777777777777778,
              "#fb9f3a"
             ],
             [
              0.8888888888888888,
              "#fdca26"
             ],
             [
              1,
              "#f0f921"
             ]
            ],
            "type": "heatmapgl"
           }
          ],
          "histogram": [
           {
            "marker": {
             "pattern": {
              "fillmode": "overlay",
              "size": 10,
              "solidity": 0.2
             }
            },
            "type": "histogram"
           }
          ],
          "histogram2d": [
           {
            "colorbar": {
             "outlinewidth": 0,
             "ticks": ""
            },
            "colorscale": [
             [
              0,
              "#0d0887"
             ],
             [
              0.1111111111111111,
              "#46039f"
             ],
             [
              0.2222222222222222,
              "#7201a8"
             ],
             [
              0.3333333333333333,
              "#9c179e"
             ],
             [
              0.4444444444444444,
              "#bd3786"
             ],
             [
              0.5555555555555556,
              "#d8576b"
             ],
             [
              0.6666666666666666,
              "#ed7953"
             ],
             [
              0.7777777777777778,
              "#fb9f3a"
             ],
             [
              0.8888888888888888,
              "#fdca26"
             ],
             [
              1,
              "#f0f921"
             ]
            ],
            "type": "histogram2d"
           }
          ],
          "histogram2dcontour": [
           {
            "colorbar": {
             "outlinewidth": 0,
             "ticks": ""
            },
            "colorscale": [
             [
              0,
              "#0d0887"
             ],
             [
              0.1111111111111111,
              "#46039f"
             ],
             [
              0.2222222222222222,
              "#7201a8"
             ],
             [
              0.3333333333333333,
              "#9c179e"
             ],
             [
              0.4444444444444444,
              "#bd3786"
             ],
             [
              0.5555555555555556,
              "#d8576b"
             ],
             [
              0.6666666666666666,
              "#ed7953"
             ],
             [
              0.7777777777777778,
              "#fb9f3a"
             ],
             [
              0.8888888888888888,
              "#fdca26"
             ],
             [
              1,
              "#f0f921"
             ]
            ],
            "type": "histogram2dcontour"
           }
          ],
          "mesh3d": [
           {
            "colorbar": {
             "outlinewidth": 0,
             "ticks": ""
            },
            "type": "mesh3d"
           }
          ],
          "parcoords": [
           {
            "line": {
             "colorbar": {
              "outlinewidth": 0,
              "ticks": ""
             }
            },
            "type": "parcoords"
           }
          ],
          "pie": [
           {
            "automargin": true,
            "type": "pie"
           }
          ],
          "scatter": [
           {
            "fillpattern": {
             "fillmode": "overlay",
             "size": 10,
             "solidity": 0.2
            },
            "type": "scatter"
           }
          ],
          "scatter3d": [
           {
            "line": {
             "colorbar": {
              "outlinewidth": 0,
              "ticks": ""
             }
            },
            "marker": {
             "colorbar": {
              "outlinewidth": 0,
              "ticks": ""
             }
            },
            "type": "scatter3d"
           }
          ],
          "scattercarpet": [
           {
            "marker": {
             "colorbar": {
              "outlinewidth": 0,
              "ticks": ""
             }
            },
            "type": "scattercarpet"
           }
          ],
          "scattergeo": [
           {
            "marker": {
             "colorbar": {
              "outlinewidth": 0,
              "ticks": ""
             }
            },
            "type": "scattergeo"
           }
          ],
          "scattergl": [
           {
            "marker": {
             "colorbar": {
              "outlinewidth": 0,
              "ticks": ""
             }
            },
            "type": "scattergl"
           }
          ],
          "scattermapbox": [
           {
            "marker": {
             "colorbar": {
              "outlinewidth": 0,
              "ticks": ""
             }
            },
            "type": "scattermapbox"
           }
          ],
          "scatterpolar": [
           {
            "marker": {
             "colorbar": {
              "outlinewidth": 0,
              "ticks": ""
             }
            },
            "type": "scatterpolar"
           }
          ],
          "scatterpolargl": [
           {
            "marker": {
             "colorbar": {
              "outlinewidth": 0,
              "ticks": ""
             }
            },
            "type": "scatterpolargl"
           }
          ],
          "scatterternary": [
           {
            "marker": {
             "colorbar": {
              "outlinewidth": 0,
              "ticks": ""
             }
            },
            "type": "scatterternary"
           }
          ],
          "surface": [
           {
            "colorbar": {
             "outlinewidth": 0,
             "ticks": ""
            },
            "colorscale": [
             [
              0,
              "#0d0887"
             ],
             [
              0.1111111111111111,
              "#46039f"
             ],
             [
              0.2222222222222222,
              "#7201a8"
             ],
             [
              0.3333333333333333,
              "#9c179e"
             ],
             [
              0.4444444444444444,
              "#bd3786"
             ],
             [
              0.5555555555555556,
              "#d8576b"
             ],
             [
              0.6666666666666666,
              "#ed7953"
             ],
             [
              0.7777777777777778,
              "#fb9f3a"
             ],
             [
              0.8888888888888888,
              "#fdca26"
             ],
             [
              1,
              "#f0f921"
             ]
            ],
            "type": "surface"
           }
          ],
          "table": [
           {
            "cells": {
             "fill": {
              "color": "#EBF0F8"
             },
             "line": {
              "color": "white"
             }
            },
            "header": {
             "fill": {
              "color": "#C8D4E3"
             },
             "line": {
              "color": "white"
             }
            },
            "type": "table"
           }
          ]
         },
         "layout": {
          "annotationdefaults": {
           "arrowcolor": "#2a3f5f",
           "arrowhead": 0,
           "arrowwidth": 1
          },
          "autotypenumbers": "strict",
          "coloraxis": {
           "colorbar": {
            "outlinewidth": 0,
            "ticks": ""
           }
          },
          "colorscale": {
           "diverging": [
            [
             0,
             "#8e0152"
            ],
            [
             0.1,
             "#c51b7d"
            ],
            [
             0.2,
             "#de77ae"
            ],
            [
             0.3,
             "#f1b6da"
            ],
            [
             0.4,
             "#fde0ef"
            ],
            [
             0.5,
             "#f7f7f7"
            ],
            [
             0.6,
             "#e6f5d0"
            ],
            [
             0.7,
             "#b8e186"
            ],
            [
             0.8,
             "#7fbc41"
            ],
            [
             0.9,
             "#4d9221"
            ],
            [
             1,
             "#276419"
            ]
           ],
           "sequential": [
            [
             0,
             "#0d0887"
            ],
            [
             0.1111111111111111,
             "#46039f"
            ],
            [
             0.2222222222222222,
             "#7201a8"
            ],
            [
             0.3333333333333333,
             "#9c179e"
            ],
            [
             0.4444444444444444,
             "#bd3786"
            ],
            [
             0.5555555555555556,
             "#d8576b"
            ],
            [
             0.6666666666666666,
             "#ed7953"
            ],
            [
             0.7777777777777778,
             "#fb9f3a"
            ],
            [
             0.8888888888888888,
             "#fdca26"
            ],
            [
             1,
             "#f0f921"
            ]
           ],
           "sequentialminus": [
            [
             0,
             "#0d0887"
            ],
            [
             0.1111111111111111,
             "#46039f"
            ],
            [
             0.2222222222222222,
             "#7201a8"
            ],
            [
             0.3333333333333333,
             "#9c179e"
            ],
            [
             0.4444444444444444,
             "#bd3786"
            ],
            [
             0.5555555555555556,
             "#d8576b"
            ],
            [
             0.6666666666666666,
             "#ed7953"
            ],
            [
             0.7777777777777778,
             "#fb9f3a"
            ],
            [
             0.8888888888888888,
             "#fdca26"
            ],
            [
             1,
             "#f0f921"
            ]
           ]
          },
          "colorway": [
           "#636efa",
           "#EF553B",
           "#00cc96",
           "#ab63fa",
           "#FFA15A",
           "#19d3f3",
           "#FF6692",
           "#B6E880",
           "#FF97FF",
           "#FECB52"
          ],
          "font": {
           "color": "#2a3f5f"
          },
          "geo": {
           "bgcolor": "white",
           "lakecolor": "white",
           "landcolor": "#E5ECF6",
           "showlakes": true,
           "showland": true,
           "subunitcolor": "white"
          },
          "hoverlabel": {
           "align": "left"
          },
          "hovermode": "closest",
          "mapbox": {
           "style": "light"
          },
          "paper_bgcolor": "white",
          "plot_bgcolor": "#E5ECF6",
          "polar": {
           "angularaxis": {
            "gridcolor": "white",
            "linecolor": "white",
            "ticks": ""
           },
           "bgcolor": "#E5ECF6",
           "radialaxis": {
            "gridcolor": "white",
            "linecolor": "white",
            "ticks": ""
           }
          },
          "scene": {
           "xaxis": {
            "backgroundcolor": "#E5ECF6",
            "gridcolor": "white",
            "gridwidth": 2,
            "linecolor": "white",
            "showbackground": true,
            "ticks": "",
            "zerolinecolor": "white"
           },
           "yaxis": {
            "backgroundcolor": "#E5ECF6",
            "gridcolor": "white",
            "gridwidth": 2,
            "linecolor": "white",
            "showbackground": true,
            "ticks": "",
            "zerolinecolor": "white"
           },
           "zaxis": {
            "backgroundcolor": "#E5ECF6",
            "gridcolor": "white",
            "gridwidth": 2,
            "linecolor": "white",
            "showbackground": true,
            "ticks": "",
            "zerolinecolor": "white"
           }
          },
          "shapedefaults": {
           "line": {
            "color": "#2a3f5f"
           }
          },
          "ternary": {
           "aaxis": {
            "gridcolor": "white",
            "linecolor": "white",
            "ticks": ""
           },
           "baxis": {
            "gridcolor": "white",
            "linecolor": "white",
            "ticks": ""
           },
           "bgcolor": "#E5ECF6",
           "caxis": {
            "gridcolor": "white",
            "linecolor": "white",
            "ticks": ""
           }
          },
          "title": {
           "x": 0.05
          },
          "xaxis": {
           "automargin": true,
           "gridcolor": "white",
           "linecolor": "white",
           "ticks": "",
           "title": {
            "standoff": 15
           },
           "zerolinecolor": "white",
           "zerolinewidth": 2
          },
          "yaxis": {
           "automargin": true,
           "gridcolor": "white",
           "linecolor": "white",
           "ticks": "",
           "title": {
            "standoff": 15
           },
           "zerolinecolor": "white",
           "zerolinewidth": 2
          }
         }
        },
        "title": {
         "text": "Optimization History Plot"
        },
        "xaxis": {
         "title": {
          "text": "Trial"
         }
        },
        "yaxis": {
         "title": {
          "text": "Objective Value"
         }
        }
       }
      }
     },
     "metadata": {},
     "output_type": "display_data"
    }
   ],
   "source": [
    "fig = optuna.visualization.plot_optimization_history(study)\n",
    "graph_path = Path(f\"../../figures/{params.MODEL_TYPE}/{params.MODEL_NAME}/\")\n",
    "if not os.path.exists(graph_path):\n",
    "    os.makedirs(graph_path)\n",
    "graph_path = f\"../../figures/{params.MODEL_TYPE}/{params.MODEL_NAME}/plot_optimization_history_graph\"\n",
    "fig.write_image(Path(f\"{graph_path}.png\"))\n",
    "fig.show()"
   ]
  },
  {
   "cell_type": "code",
   "execution_count": 15,
   "id": "92103de1",
   "metadata": {},
   "outputs": [
    {
     "data": {
      "application/vnd.plotly.v1+json": {
       "config": {
        "plotlyServerURL": "https://plot.ly"
       },
       "data": [
        {
         "marker": {
          "maxdisplayed": 10
         },
         "mode": "lines+markers",
         "name": "Trial0",
         "type": "scatter",
         "x": [
          0,
          1,
          2,
          3,
          4,
          5,
          6,
          7,
          8,
          9,
          10,
          11,
          12,
          13,
          14,
          15,
          16,
          17,
          18,
          19,
          20,
          21,
          22,
          23,
          24,
          25,
          26,
          27,
          28,
          29,
          30,
          31,
          32,
          33,
          34,
          35,
          36,
          37,
          38,
          39,
          40,
          41,
          42,
          43,
          44,
          45,
          46,
          47,
          48,
          49
         ],
         "y": [
          0.9054516057173411,
          0.8811380416154861,
          0.8594467706150479,
          0.8401973868409793,
          0.8234056135018667,
          0.8084142208099365,
          0.7943713579859052,
          0.792847973604997,
          0.7797503570715586,
          0.7680002530415853,
          0.7718341946601868,
          0.7631657098730406,
          0.7544158429671556,
          0.74629232216449,
          0.738818543487125,
          0.7326613099624713,
          0.726355829075271,
          0.7233153791339308,
          0.7188198393897005,
          0.7137648542722065,
          0.7092335394450595,
          0.7048158767548474,
          0.7006332645381705,
          0.7021138494213423,
          0.6982279074192047,
          0.6949890446968567,
          0.6918727310351384,
          0.6889894714667683,
          0.7001645342371929,
          0.6966932353046205,
          0.6938773531426665,
          0.6964227268472314,
          0.6935934478586371,
          0.6909778147351509,
          0.6882600426673889,
          0.6853786019815339,
          0.6824677371763969,
          0.6802524979177275,
          0.6778808760846782,
          0.6754569475849469,
          0.6733387977611728,
          0.670996182258167,
          0.6689626057018606,
          0.6670635683518468,
          0.6652191332092993,
          0.6631893874078557,
          0.6612387200196584,
          0.6593819637265471,
          0.6576511484830558,
          0.6557686104377112
         ]
        },
        {
         "marker": {
          "maxdisplayed": 10
         },
         "mode": "lines+markers",
         "name": "Trial1",
         "type": "scatter",
         "x": [
          0,
          1,
          2,
          3,
          4,
          5,
          6,
          7,
          8,
          9,
          10,
          11,
          12,
          13,
          14,
          15,
          16,
          17,
          18,
          19,
          20,
          21,
          22,
          23,
          24,
          25,
          26,
          27,
          28,
          29,
          30,
          31,
          32,
          33,
          34,
          35,
          36,
          37,
          38,
          39,
          40,
          41,
          42,
          43,
          44,
          45,
          46,
          47,
          48,
          49
         ],
         "y": [
          0.7865994572639465,
          0.7708028654257457,
          0.7561437785625458,
          0.7472267299890518,
          0.7382201910018921,
          0.7334690243005753,
          0.7286380046889895,
          0.7242893738051256,
          0.7215123629128493,
          0.7201357781887056,
          0.7191914410302135,
          0.7227778393361305,
          0.7207802984959041,
          0.7180567866279965,
          0.7165234274334379,
          0.716948976740241,
          0.7153812886453143,
          0.7145029295373847,
          0.7214443741137522,
          0.7268156826496124,
          0.7328018427841247,
          0.7390860558459255,
          0.7441174206526384,
          0.7491576129363643,
          0.7536677889029185,
          0.7584774685211672,
          0.7619488452687676,
          0.7653969476620357,
          0.7682212012252589,
          0.7704833815495175,
          0.7733774707522445,
          0.7762171377738317,
          0.7787756573672248,
          0.7821382789635192,
          0.7847853569757371,
          0.7871629121126953,
          0.7895433881261328,
          0.7917665797367431,
          0.7939288988072649,
          0.7956571454803149,
          0.7975149956660541,
          0.7994763141586667,
          0.8008104294769524,
          0.8024182705716654,
          0.8036471492714352,
          0.8048360682484033,
          0.8061548818087747,
          0.8077870617724128,
          0.8087539833013704,
          0.8096670629580817
         ]
        },
        {
         "marker": {
          "maxdisplayed": 10
         },
         "mode": "lines+markers",
         "name": "Trial2",
         "type": "scatter",
         "x": [
          0,
          1,
          2,
          3,
          4,
          5,
          6,
          7,
          8,
          9,
          10,
          11,
          12,
          13,
          14,
          15,
          16,
          17,
          18,
          19,
          20,
          21,
          22,
          23,
          24,
          25,
          26,
          27,
          28,
          29,
          30,
          31,
          32,
          33,
          34,
          35,
          36,
          37,
          38,
          39,
          40,
          41,
          42,
          43,
          44,
          45,
          46,
          47,
          48,
          49
         ],
         "y": [
          0.8102880616982778,
          0.7230531920989355,
          0.6686562564637927,
          0.6217741469542186,
          0.5820556630690893,
          0.5454598127139939,
          0.5255922412588483,
          0.5004533703128498,
          0.4792243562362813,
          0.4573775050540766,
          0.4400141047257366,
          0.4245991847581334,
          0.40994884398503184,
          0.39679627599460743,
          0.3887555971741677,
          0.37866552624230587,
          0.36938097634736233,
          0.361059043970373,
          0.3526060217828082,
          0.3452770243088405,
          0.34028672959123346,
          0.3329132683575154,
          0.3271883599784064,
          0.3211057655927208,
          0.3179891869425774,
          0.31262724808393383,
          0.3075015606519617,
          0.30309049980271435,
          0.2987162815942162,
          0.2944014140301281,
          0.2914049987510968,
          0.2871661210277428,
          0.2832487306811593,
          0.28160394158433466,
          0.28444012971151444,
          0.28068617006970775,
          0.27759120774430196,
          0.27442332546700515,
          0.27145666826484555,
          0.26952500858654577,
          0.26931166358110376,
          0.27263488289382715,
          0.2699743582643279,
          0.2673461870713667,
          0.26454985809546927,
          0.26612619920701214,
          0.26390627200933203,
          0.2613945842927529,
          0.2600859668688709,
          0.2581118485828241
         ]
        },
        {
         "marker": {
          "maxdisplayed": 10
         },
         "mode": "lines+markers",
         "name": "Trial3",
         "type": "scatter",
         "x": [
          0,
          1,
          2,
          3,
          4,
          5,
          6,
          7,
          8,
          9,
          10,
          11,
          12,
          13,
          14,
          15,
          16,
          17,
          18,
          19,
          20,
          21,
          22,
          23,
          24,
          25,
          26,
          27,
          28,
          29,
          30,
          31,
          32,
          33,
          34,
          35,
          36,
          37,
          38,
          39,
          40,
          41,
          42,
          43,
          44,
          45,
          46,
          47,
          48,
          49
         ],
         "y": [
          0.5075968354940414,
          0.46447816739479697,
          0.4264934493435753,
          0.40245022748907405,
          0.38755259414513904,
          0.3729090044895808,
          0.36122390414987293,
          0.35271219847102964,
          0.3437022318442663,
          0.33775485853354137,
          0.33105096695098013,
          0.32576965147422426,
          0.3207238368116893,
          0.31699535569974363,
          0.3133895670374235,
          0.3104580161161721,
          0.30745125605779533,
          0.30495407170167677,
          0.30293582575885875,
          0.30030732601881027,
          0.2980294390803292,
          0.2960842361278606,
          0.2937976721188296,
          0.29191910485840505,
          0.2903564139207204,
          0.2890328768736277,
          0.28801569121855275,
          0.28692822362340636,
          0.28552630869136464,
          0.2844922425018417,
          0.28349082652599583,
          0.28268639277666807,
          0.28177481423122713,
          0.28081155429575955,
          0.28006123297271274,
          0.27929337302015883,
          0.2786751459981944,
          0.2780220388320454,
          0.27750820437302953,
          0.2765643348296483,
          0.2758582749865888,
          0.2754738569732696,
          0.27484511474306267,
          0.2744095519636616,
          0.2744080007076263,
          0.2738916173685288,
          0.2732770051410857,
          0.2728145748583807,
          0.2723330426074209,
          0.27211310620109236
         ]
        },
        {
         "marker": {
          "maxdisplayed": 10
         },
         "mode": "lines+markers",
         "name": "Trial4",
         "type": "scatter",
         "x": [
          0,
          1,
          2,
          3,
          4,
          5,
          6,
          7,
          8,
          9,
          10,
          11,
          12,
          13,
          14,
          15,
          16,
          17,
          18,
          19,
          20,
          21,
          22,
          23,
          24,
          25,
          26,
          27,
          28,
          29,
          30,
          31,
          32,
          33,
          34,
          35,
          36,
          37,
          38,
          39,
          40,
          41,
          42,
          43,
          44,
          45,
          46,
          47,
          48,
          49
         ],
         "y": [
          0.9924028118451437,
          0.9454687138398489,
          0.956623782714208,
          0.9315140495697657,
          0.9040357093016306,
          0.8785140017668406,
          0.8484618195465633,
          0.8161137749751409,
          0.7885358499156104,
          0.7636624832948049,
          0.7470393081506093,
          0.7187609684964021,
          0.6952901635414516,
          0.6849234214141255,
          0.6921825001637141,
          0.687837646342814,
          0.7014182516757179,
          0.7045161384675238,
          0.7136699826570979,
          0.7191166472931704,
          0.7264205356912008,
          0.7312833366520478,
          0.7345969532279001,
          0.7436487424290843,
          0.7473226835330329,
          0.7484869366654985,
          0.7503867758277023,
          0.751382077556281,
          0.7524951797449726,
          0.758612078593837,
          0.7623883375237066,
          0.7632645041060944,
          0.7639276444008855,
          0.7675589561170222,
          0.7688711900086629,
          0.772408142271969,
          0.7745414192343616,
          0.7762779997367607,
          0.7768483973211711,
          0.7791459782669942,
          0.78108817157222,
          0.7825953358459095,
          0.7841522699409679,
          0.7848717393071364,
          0.7847876033297292,
          0.7867334663220074,
          0.7877882612301104,
          0.7891988678731853,
          0.7905739638067427,
          0.7922512456774712
         ]
        },
        {
         "marker": {
          "maxdisplayed": 10
         },
         "mode": "lines+markers",
         "name": "Trial5",
         "type": "scatter",
         "x": [
          0,
          1,
          2,
          3,
          4,
          5,
          6,
          7,
          8,
          9,
          10,
          11,
          12,
          13,
          14,
          15,
          16,
          17,
          18,
          19,
          20,
          21,
          22,
          23,
          24,
          25,
          26,
          27,
          28,
          29,
          30,
          31,
          32,
          33,
          34,
          35,
          36,
          37,
          38,
          39,
          40,
          41,
          42,
          43,
          44,
          45,
          46,
          47,
          48,
          49
         ],
         "y": [
          0.6208384037017822,
          0.5063759535551071,
          0.4322351945771112,
          0.38619693306585157,
          0.3714129055539767,
          0.35058477810687494,
          0.35536040046385364,
          0.3433180932576458,
          0.3274673855415097,
          0.3180764868855477,
          0.3058364106850191,
          0.2974414659870996,
          0.30301840183062434,
          0.29729765831005006,
          0.29059316698047855,
          0.2831276912863056,
          0.276448771649716,
          0.27089880379261794,
          0.26609274522777193,
          0.26238887310028075,
          0.2575129833486345,
          0.26096402966614923,
          0.25742558659850684,
          0.25337373392863405,
          0.2506385429700215,
          0.24794803139490956,
          0.24470228536261449,
          0.24135930960377053,
          0.2389661713406957,
          0.23668228768640093,
          0.23535411612641424,
          0.23274031351320446,
          0.23039006103168835,
          0.23778331265145655,
          0.2357559352403595,
          0.23334061257817126,
          0.23250620832314361,
          0.2305196538698255,
          0.22831307115972552,
          0.22645650835086903,
          0.22461627932583414,
          0.2225811673653504,
          0.2216764916629754,
          0.22003949817382926,
          0.21846033522376307,
          0.21693351594866184,
          0.21543133343365176,
          0.21385233849287033,
          0.21304037923715552,
          0.21252756009499232
         ]
        },
        {
         "marker": {
          "maxdisplayed": 10
         },
         "mode": "lines+markers",
         "name": "Trial6",
         "type": "scatter",
         "x": [
          0
         ],
         "y": [
          0.9544893205165863
         ]
        },
        {
         "marker": {
          "maxdisplayed": 10
         },
         "mode": "lines+markers",
         "name": "Trial7",
         "type": "scatter",
         "x": [
          0
         ],
         "y": [
          0.8814841012159983
         ]
        },
        {
         "marker": {
          "maxdisplayed": 10
         },
         "mode": "lines+markers",
         "name": "Trial8",
         "type": "scatter",
         "x": [
          0
         ],
         "y": [
          0.8144418199857076
         ]
        },
        {
         "marker": {
          "maxdisplayed": 10
         },
         "mode": "lines+markers",
         "name": "Trial9",
         "type": "scatter",
         "x": [
          0,
          1,
          2,
          3,
          4,
          5,
          6,
          7,
          8,
          9,
          10,
          11,
          12,
          13,
          14,
          15,
          16,
          17,
          18,
          19,
          20,
          21,
          22,
          23,
          24,
          25,
          26,
          27,
          28,
          29,
          30,
          31,
          32,
          33,
          34,
          35,
          36,
          37,
          38,
          39,
          40,
          41,
          42,
          43,
          44,
          45,
          46,
          47,
          48,
          49
         ],
         "y": [
          0.718501478433609,
          0.6511744906504948,
          0.6030866354703903,
          0.5587616413831711,
          0.5237490961949031,
          0.49590133213334614,
          0.4723385118302845,
          0.45253876348336536,
          0.4363432681119,
          0.42153513183196384,
          0.4086977455652121,
          0.3970919648806253,
          0.386479517397208,
          0.37684868488992956,
          0.36843506942192705,
          0.36056885992487275,
          0.3531835198986764,
          0.34674497721371833,
          0.34052938641163344,
          0.3345637650539478,
          0.3290454558436833,
          0.3238433833149346,
          0.3192742985227834,
          0.3150242171767685,
          0.31074889689683916,
          0.3070245717580502,
          0.30314744098318946,
          0.29946119036702884,
          0.29593104672157905,
          0.2927044953736994,
          0.2896337660570299,
          0.286547545886909,
          0.28420250772526773,
          0.28143961508484455,
          0.27944060187964215,
          0.27685812364021944,
          0.27431645378604674,
          0.2719044361198158,
          0.269895182715522,
          0.26766559568544224,
          0.26560889729639375,
          0.2636407020664404,
          0.26159302630396775,
          0.2598348288712176,
          0.2581363841891288,
          0.25751428246714064,
          0.25608423965197075,
          0.25429597346939975,
          0.25296831359060445,
          0.2516861428817113
         ]
        }
       ],
       "layout": {
        "showlegend": false,
        "template": {
         "data": {
          "bar": [
           {
            "error_x": {
             "color": "#2a3f5f"
            },
            "error_y": {
             "color": "#2a3f5f"
            },
            "marker": {
             "line": {
              "color": "#E5ECF6",
              "width": 0.5
             },
             "pattern": {
              "fillmode": "overlay",
              "size": 10,
              "solidity": 0.2
             }
            },
            "type": "bar"
           }
          ],
          "barpolar": [
           {
            "marker": {
             "line": {
              "color": "#E5ECF6",
              "width": 0.5
             },
             "pattern": {
              "fillmode": "overlay",
              "size": 10,
              "solidity": 0.2
             }
            },
            "type": "barpolar"
           }
          ],
          "carpet": [
           {
            "aaxis": {
             "endlinecolor": "#2a3f5f",
             "gridcolor": "white",
             "linecolor": "white",
             "minorgridcolor": "white",
             "startlinecolor": "#2a3f5f"
            },
            "baxis": {
             "endlinecolor": "#2a3f5f",
             "gridcolor": "white",
             "linecolor": "white",
             "minorgridcolor": "white",
             "startlinecolor": "#2a3f5f"
            },
            "type": "carpet"
           }
          ],
          "choropleth": [
           {
            "colorbar": {
             "outlinewidth": 0,
             "ticks": ""
            },
            "type": "choropleth"
           }
          ],
          "contour": [
           {
            "colorbar": {
             "outlinewidth": 0,
             "ticks": ""
            },
            "colorscale": [
             [
              0,
              "#0d0887"
             ],
             [
              0.1111111111111111,
              "#46039f"
             ],
             [
              0.2222222222222222,
              "#7201a8"
             ],
             [
              0.3333333333333333,
              "#9c179e"
             ],
             [
              0.4444444444444444,
              "#bd3786"
             ],
             [
              0.5555555555555556,
              "#d8576b"
             ],
             [
              0.6666666666666666,
              "#ed7953"
             ],
             [
              0.7777777777777778,
              "#fb9f3a"
             ],
             [
              0.8888888888888888,
              "#fdca26"
             ],
             [
              1,
              "#f0f921"
             ]
            ],
            "type": "contour"
           }
          ],
          "contourcarpet": [
           {
            "colorbar": {
             "outlinewidth": 0,
             "ticks": ""
            },
            "type": "contourcarpet"
           }
          ],
          "heatmap": [
           {
            "colorbar": {
             "outlinewidth": 0,
             "ticks": ""
            },
            "colorscale": [
             [
              0,
              "#0d0887"
             ],
             [
              0.1111111111111111,
              "#46039f"
             ],
             [
              0.2222222222222222,
              "#7201a8"
             ],
             [
              0.3333333333333333,
              "#9c179e"
             ],
             [
              0.4444444444444444,
              "#bd3786"
             ],
             [
              0.5555555555555556,
              "#d8576b"
             ],
             [
              0.6666666666666666,
              "#ed7953"
             ],
             [
              0.7777777777777778,
              "#fb9f3a"
             ],
             [
              0.8888888888888888,
              "#fdca26"
             ],
             [
              1,
              "#f0f921"
             ]
            ],
            "type": "heatmap"
           }
          ],
          "heatmapgl": [
           {
            "colorbar": {
             "outlinewidth": 0,
             "ticks": ""
            },
            "colorscale": [
             [
              0,
              "#0d0887"
             ],
             [
              0.1111111111111111,
              "#46039f"
             ],
             [
              0.2222222222222222,
              "#7201a8"
             ],
             [
              0.3333333333333333,
              "#9c179e"
             ],
             [
              0.4444444444444444,
              "#bd3786"
             ],
             [
              0.5555555555555556,
              "#d8576b"
             ],
             [
              0.6666666666666666,
              "#ed7953"
             ],
             [
              0.7777777777777778,
              "#fb9f3a"
             ],
             [
              0.8888888888888888,
              "#fdca26"
             ],
             [
              1,
              "#f0f921"
             ]
            ],
            "type": "heatmapgl"
           }
          ],
          "histogram": [
           {
            "marker": {
             "pattern": {
              "fillmode": "overlay",
              "size": 10,
              "solidity": 0.2
             }
            },
            "type": "histogram"
           }
          ],
          "histogram2d": [
           {
            "colorbar": {
             "outlinewidth": 0,
             "ticks": ""
            },
            "colorscale": [
             [
              0,
              "#0d0887"
             ],
             [
              0.1111111111111111,
              "#46039f"
             ],
             [
              0.2222222222222222,
              "#7201a8"
             ],
             [
              0.3333333333333333,
              "#9c179e"
             ],
             [
              0.4444444444444444,
              "#bd3786"
             ],
             [
              0.5555555555555556,
              "#d8576b"
             ],
             [
              0.6666666666666666,
              "#ed7953"
             ],
             [
              0.7777777777777778,
              "#fb9f3a"
             ],
             [
              0.8888888888888888,
              "#fdca26"
             ],
             [
              1,
              "#f0f921"
             ]
            ],
            "type": "histogram2d"
           }
          ],
          "histogram2dcontour": [
           {
            "colorbar": {
             "outlinewidth": 0,
             "ticks": ""
            },
            "colorscale": [
             [
              0,
              "#0d0887"
             ],
             [
              0.1111111111111111,
              "#46039f"
             ],
             [
              0.2222222222222222,
              "#7201a8"
             ],
             [
              0.3333333333333333,
              "#9c179e"
             ],
             [
              0.4444444444444444,
              "#bd3786"
             ],
             [
              0.5555555555555556,
              "#d8576b"
             ],
             [
              0.6666666666666666,
              "#ed7953"
             ],
             [
              0.7777777777777778,
              "#fb9f3a"
             ],
             [
              0.8888888888888888,
              "#fdca26"
             ],
             [
              1,
              "#f0f921"
             ]
            ],
            "type": "histogram2dcontour"
           }
          ],
          "mesh3d": [
           {
            "colorbar": {
             "outlinewidth": 0,
             "ticks": ""
            },
            "type": "mesh3d"
           }
          ],
          "parcoords": [
           {
            "line": {
             "colorbar": {
              "outlinewidth": 0,
              "ticks": ""
             }
            },
            "type": "parcoords"
           }
          ],
          "pie": [
           {
            "automargin": true,
            "type": "pie"
           }
          ],
          "scatter": [
           {
            "fillpattern": {
             "fillmode": "overlay",
             "size": 10,
             "solidity": 0.2
            },
            "type": "scatter"
           }
          ],
          "scatter3d": [
           {
            "line": {
             "colorbar": {
              "outlinewidth": 0,
              "ticks": ""
             }
            },
            "marker": {
             "colorbar": {
              "outlinewidth": 0,
              "ticks": ""
             }
            },
            "type": "scatter3d"
           }
          ],
          "scattercarpet": [
           {
            "marker": {
             "colorbar": {
              "outlinewidth": 0,
              "ticks": ""
             }
            },
            "type": "scattercarpet"
           }
          ],
          "scattergeo": [
           {
            "marker": {
             "colorbar": {
              "outlinewidth": 0,
              "ticks": ""
             }
            },
            "type": "scattergeo"
           }
          ],
          "scattergl": [
           {
            "marker": {
             "colorbar": {
              "outlinewidth": 0,
              "ticks": ""
             }
            },
            "type": "scattergl"
           }
          ],
          "scattermapbox": [
           {
            "marker": {
             "colorbar": {
              "outlinewidth": 0,
              "ticks": ""
             }
            },
            "type": "scattermapbox"
           }
          ],
          "scatterpolar": [
           {
            "marker": {
             "colorbar": {
              "outlinewidth": 0,
              "ticks": ""
             }
            },
            "type": "scatterpolar"
           }
          ],
          "scatterpolargl": [
           {
            "marker": {
             "colorbar": {
              "outlinewidth": 0,
              "ticks": ""
             }
            },
            "type": "scatterpolargl"
           }
          ],
          "scatterternary": [
           {
            "marker": {
             "colorbar": {
              "outlinewidth": 0,
              "ticks": ""
             }
            },
            "type": "scatterternary"
           }
          ],
          "surface": [
           {
            "colorbar": {
             "outlinewidth": 0,
             "ticks": ""
            },
            "colorscale": [
             [
              0,
              "#0d0887"
             ],
             [
              0.1111111111111111,
              "#46039f"
             ],
             [
              0.2222222222222222,
              "#7201a8"
             ],
             [
              0.3333333333333333,
              "#9c179e"
             ],
             [
              0.4444444444444444,
              "#bd3786"
             ],
             [
              0.5555555555555556,
              "#d8576b"
             ],
             [
              0.6666666666666666,
              "#ed7953"
             ],
             [
              0.7777777777777778,
              "#fb9f3a"
             ],
             [
              0.8888888888888888,
              "#fdca26"
             ],
             [
              1,
              "#f0f921"
             ]
            ],
            "type": "surface"
           }
          ],
          "table": [
           {
            "cells": {
             "fill": {
              "color": "#EBF0F8"
             },
             "line": {
              "color": "white"
             }
            },
            "header": {
             "fill": {
              "color": "#C8D4E3"
             },
             "line": {
              "color": "white"
             }
            },
            "type": "table"
           }
          ]
         },
         "layout": {
          "annotationdefaults": {
           "arrowcolor": "#2a3f5f",
           "arrowhead": 0,
           "arrowwidth": 1
          },
          "autotypenumbers": "strict",
          "coloraxis": {
           "colorbar": {
            "outlinewidth": 0,
            "ticks": ""
           }
          },
          "colorscale": {
           "diverging": [
            [
             0,
             "#8e0152"
            ],
            [
             0.1,
             "#c51b7d"
            ],
            [
             0.2,
             "#de77ae"
            ],
            [
             0.3,
             "#f1b6da"
            ],
            [
             0.4,
             "#fde0ef"
            ],
            [
             0.5,
             "#f7f7f7"
            ],
            [
             0.6,
             "#e6f5d0"
            ],
            [
             0.7,
             "#b8e186"
            ],
            [
             0.8,
             "#7fbc41"
            ],
            [
             0.9,
             "#4d9221"
            ],
            [
             1,
             "#276419"
            ]
           ],
           "sequential": [
            [
             0,
             "#0d0887"
            ],
            [
             0.1111111111111111,
             "#46039f"
            ],
            [
             0.2222222222222222,
             "#7201a8"
            ],
            [
             0.3333333333333333,
             "#9c179e"
            ],
            [
             0.4444444444444444,
             "#bd3786"
            ],
            [
             0.5555555555555556,
             "#d8576b"
            ],
            [
             0.6666666666666666,
             "#ed7953"
            ],
            [
             0.7777777777777778,
             "#fb9f3a"
            ],
            [
             0.8888888888888888,
             "#fdca26"
            ],
            [
             1,
             "#f0f921"
            ]
           ],
           "sequentialminus": [
            [
             0,
             "#0d0887"
            ],
            [
             0.1111111111111111,
             "#46039f"
            ],
            [
             0.2222222222222222,
             "#7201a8"
            ],
            [
             0.3333333333333333,
             "#9c179e"
            ],
            [
             0.4444444444444444,
             "#bd3786"
            ],
            [
             0.5555555555555556,
             "#d8576b"
            ],
            [
             0.6666666666666666,
             "#ed7953"
            ],
            [
             0.7777777777777778,
             "#fb9f3a"
            ],
            [
             0.8888888888888888,
             "#fdca26"
            ],
            [
             1,
             "#f0f921"
            ]
           ]
          },
          "colorway": [
           "#636efa",
           "#EF553B",
           "#00cc96",
           "#ab63fa",
           "#FFA15A",
           "#19d3f3",
           "#FF6692",
           "#B6E880",
           "#FF97FF",
           "#FECB52"
          ],
          "font": {
           "color": "#2a3f5f"
          },
          "geo": {
           "bgcolor": "white",
           "lakecolor": "white",
           "landcolor": "#E5ECF6",
           "showlakes": true,
           "showland": true,
           "subunitcolor": "white"
          },
          "hoverlabel": {
           "align": "left"
          },
          "hovermode": "closest",
          "mapbox": {
           "style": "light"
          },
          "paper_bgcolor": "white",
          "plot_bgcolor": "#E5ECF6",
          "polar": {
           "angularaxis": {
            "gridcolor": "white",
            "linecolor": "white",
            "ticks": ""
           },
           "bgcolor": "#E5ECF6",
           "radialaxis": {
            "gridcolor": "white",
            "linecolor": "white",
            "ticks": ""
           }
          },
          "scene": {
           "xaxis": {
            "backgroundcolor": "#E5ECF6",
            "gridcolor": "white",
            "gridwidth": 2,
            "linecolor": "white",
            "showbackground": true,
            "ticks": "",
            "zerolinecolor": "white"
           },
           "yaxis": {
            "backgroundcolor": "#E5ECF6",
            "gridcolor": "white",
            "gridwidth": 2,
            "linecolor": "white",
            "showbackground": true,
            "ticks": "",
            "zerolinecolor": "white"
           },
           "zaxis": {
            "backgroundcolor": "#E5ECF6",
            "gridcolor": "white",
            "gridwidth": 2,
            "linecolor": "white",
            "showbackground": true,
            "ticks": "",
            "zerolinecolor": "white"
           }
          },
          "shapedefaults": {
           "line": {
            "color": "#2a3f5f"
           }
          },
          "ternary": {
           "aaxis": {
            "gridcolor": "white",
            "linecolor": "white",
            "ticks": ""
           },
           "baxis": {
            "gridcolor": "white",
            "linecolor": "white",
            "ticks": ""
           },
           "bgcolor": "#E5ECF6",
           "caxis": {
            "gridcolor": "white",
            "linecolor": "white",
            "ticks": ""
           }
          },
          "title": {
           "x": 0.05
          },
          "xaxis": {
           "automargin": true,
           "gridcolor": "white",
           "linecolor": "white",
           "ticks": "",
           "title": {
            "standoff": 15
           },
           "zerolinecolor": "white",
           "zerolinewidth": 2
          },
          "yaxis": {
           "automargin": true,
           "gridcolor": "white",
           "linecolor": "white",
           "ticks": "",
           "title": {
            "standoff": 15
           },
           "zerolinecolor": "white",
           "zerolinewidth": 2
          }
         }
        },
        "title": {
         "text": "Intermediate Values Plot"
        },
        "xaxis": {
         "title": {
          "text": "Step"
         }
        },
        "yaxis": {
         "title": {
          "text": "Intermediate Value"
         }
        }
       }
      }
     },
     "metadata": {},
     "output_type": "display_data"
    }
   ],
   "source": [
    "fig = optuna.visualization.plot_intermediate_values(study)\n",
    "graph_path = Path(f\"../../figures/{params.MODEL_TYPE}/{params.MODEL_NAME}/\")\n",
    "if not os.path.exists(graph_path):\n",
    "    os.makedirs(graph_path)\n",
    "graph_path = f\"../../figures/{params.MODEL_TYPE}/{params.MODEL_NAME}/plot_intermediate_values_graph\"\n",
    "fig.write_image(Path(f\"{graph_path}.png\"))\n",
    "fig.show()"
   ]
  },
  {
   "cell_type": "code",
   "execution_count": 16,
   "id": "325a1ec3",
   "metadata": {},
   "outputs": [],
   "source": [
    "param_dict = extract_best_trial_params(\n",
    "    study.best_params, params, model_name=params.MODEL_NAME\n",
    ")"
   ]
  },
  {
   "cell_type": "code",
   "execution_count": 17,
   "id": "50e946e7",
   "metadata": {},
   "outputs": [
    {
     "name": "stdout",
     "output_type": "stream",
     "text": [
      "SGD\n",
      "Epoch 0: Validation loss decreased (inf --> 0.597634).  Saving model ...\n",
      "\t Train_Loss: 0.6916 Train_Acc: 67.619 Val_Loss: 0.5976  BEST VAL Loss: 0.5976  Val_Acc: 75.466\n",
      "\n",
      "Epoch 1: Validation loss did not decrease\n",
      "\t Train_Loss: 0.5663 Train_Acc: 82.308 Val_Loss: 0.6185  BEST VAL Loss: 0.5976  Val_Acc: 76.342\n",
      "\n",
      "Epoch 2: Validation loss decreased (0.597634 --> 0.510901).  Saving model ...\n",
      "\t Train_Loss: 0.5035 Train_Acc: 85.337 Val_Loss: 0.5109  BEST VAL Loss: 0.5109  Val_Acc: 88.885\n",
      "\n",
      "Epoch 3: Validation loss decreased (0.510901 --> 0.450320).  Saving model ...\n",
      "\t Train_Loss: 0.4610 Train_Acc: 87.136 Val_Loss: 0.4503  BEST VAL Loss: 0.4503  Val_Acc: 90.141\n",
      "\n",
      "Epoch 4: Validation loss decreased (0.450320 --> 0.411904).  Saving model ...\n",
      "\t Train_Loss: 0.4306 Train_Acc: 87.971 Val_Loss: 0.4119  BEST VAL Loss: 0.4119  Val_Acc: 90.541\n",
      "\n",
      "Epoch 5: Validation loss decreased (0.411904 --> 0.381766).  Saving model ...\n",
      "\t Train_Loss: 0.4060 Train_Acc: 89.104 Val_Loss: 0.3818  BEST VAL Loss: 0.3818  Val_Acc: 91.416\n",
      "\n",
      "Epoch 6: Validation loss decreased (0.381766 --> 0.361560).  Saving model ...\n",
      "\t Train_Loss: 0.3868 Train_Acc: 89.454 Val_Loss: 0.3616  BEST VAL Loss: 0.3616  Val_Acc: 91.131\n",
      "\n",
      "Epoch 7: Validation loss decreased (0.361560 --> 0.342746).  Saving model ...\n",
      "\t Train_Loss: 0.3710 Train_Acc: 90.089 Val_Loss: 0.3427  BEST VAL Loss: 0.3427  Val_Acc: 92.292\n",
      "\n",
      "Epoch 8: Validation loss decreased (0.342746 --> 0.328539).  Saving model ...\n",
      "\t Train_Loss: 0.3577 Train_Acc: 90.568 Val_Loss: 0.3285  BEST VAL Loss: 0.3285  Val_Acc: 92.387\n",
      "\n",
      "Epoch 9: Validation loss decreased (0.328539 --> 0.320700).  Saving model ...\n",
      "\t Train_Loss: 0.3466 Train_Acc: 90.644 Val_Loss: 0.3207  BEST VAL Loss: 0.3207  Val_Acc: 90.921\n",
      "\n",
      "Epoch 10: Validation loss decreased (0.320700 --> 0.310103).  Saving model ...\n",
      "\t Train_Loss: 0.3369 Train_Acc: 90.758 Val_Loss: 0.3101  BEST VAL Loss: 0.3101  Val_Acc: 92.311\n",
      "\n",
      "Epoch 11: Validation loss decreased (0.310103 --> 0.300908).  Saving model ...\n",
      "\t Train_Loss: 0.3279 Train_Acc: 91.350 Val_Loss: 0.3009  BEST VAL Loss: 0.3009  Val_Acc: 92.767\n",
      "\n",
      "Epoch 12: Validation loss decreased (0.300908 --> 0.295516).  Saving model ...\n",
      "\t Train_Loss: 0.3203 Train_Acc: 91.493 Val_Loss: 0.2955  BEST VAL Loss: 0.2955  Val_Acc: 91.511\n",
      "\n",
      "Epoch 13: Validation loss decreased (0.295516 --> 0.286817).  Saving model ...\n",
      "\t Train_Loss: 0.3130 Train_Acc: 91.912 Val_Loss: 0.2868  BEST VAL Loss: 0.2868  Val_Acc: 93.586\n",
      "\n",
      "Epoch 14: Validation loss did not decrease\n",
      "\t Train_Loss: 0.3065 Train_Acc: 92.021 Val_Loss: 0.2891  BEST VAL Loss: 0.2868  Val_Acc: 89.627\n",
      "\n",
      "Epoch 15: Validation loss decreased (0.286817 --> 0.281694).  Saving model ...\n",
      "\t Train_Loss: 0.3009 Train_Acc: 91.990 Val_Loss: 0.2817  BEST VAL Loss: 0.2817  Val_Acc: 93.567\n",
      "\n",
      "Epoch 16: Validation loss decreased (0.281694 --> 0.275241).  Saving model ...\n",
      "\t Train_Loss: 0.2950 Train_Acc: 92.607 Val_Loss: 0.2752  BEST VAL Loss: 0.2752  Val_Acc: 93.662\n",
      "\n",
      "Epoch 17: Validation loss decreased (0.275241 --> 0.272334).  Saving model ...\n",
      "\t Train_Loss: 0.2900 Train_Acc: 92.571 Val_Loss: 0.2723  BEST VAL Loss: 0.2723  Val_Acc: 91.283\n",
      "\n",
      "Epoch 18: Validation loss decreased (0.272334 --> 0.266934).  Saving model ...\n",
      "\t Train_Loss: 0.2856 Train_Acc: 92.221 Val_Loss: 0.2669  BEST VAL Loss: 0.2669  Val_Acc: 93.967\n",
      "\n",
      "Epoch 19: Validation loss decreased (0.266934 --> 0.261796).  Saving model ...\n",
      "\t Train_Loss: 0.2812 Train_Acc: 92.778 Val_Loss: 0.2618  BEST VAL Loss: 0.2618  Val_Acc: 94.176\n",
      "\n",
      "Epoch 20: Validation loss decreased (0.261796 --> 0.258328).  Saving model ...\n",
      "\t Train_Loss: 0.2773 Train_Acc: 92.880 Val_Loss: 0.2583  BEST VAL Loss: 0.2583  Val_Acc: 92.710\n",
      "\n",
      "Epoch 21: Validation loss decreased (0.258328 --> 0.253843).  Saving model ...\n",
      "\t Train_Loss: 0.2737 Train_Acc: 92.588 Val_Loss: 0.2538  BEST VAL Loss: 0.2538  Val_Acc: 93.852\n",
      "\n",
      "Epoch 22: Validation loss decreased (0.253843 --> 0.250334).  Saving model ...\n",
      "\t Train_Loss: 0.2699 Train_Acc: 93.130 Val_Loss: 0.2503  BEST VAL Loss: 0.2503  Val_Acc: 94.062\n",
      "\n",
      "Epoch 23: Validation loss decreased (0.250334 --> 0.247487).  Saving model ...\n",
      "\t Train_Loss: 0.2664 Train_Acc: 93.083 Val_Loss: 0.2475  BEST VAL Loss: 0.2475  Val_Acc: 93.415\n",
      "\n",
      "Epoch 24: Validation loss decreased (0.247487 --> 0.243841).  Saving model ...\n",
      "\t Train_Loss: 0.2631 Train_Acc: 93.306 Val_Loss: 0.2438  BEST VAL Loss: 0.2438  Val_Acc: 94.214\n",
      "\n",
      "Epoch 25: Validation loss decreased (0.243841 --> 0.240406).  Saving model ...\n",
      "\t Train_Loss: 0.2599 Train_Acc: 93.442 Val_Loss: 0.2404  BEST VAL Loss: 0.2404  Val_Acc: 94.119\n",
      "\n",
      "Epoch 26: Validation loss decreased (0.240406 --> 0.240219).  Saving model ...\n",
      "\t Train_Loss: 0.2570 Train_Acc: 93.447 Val_Loss: 0.2402  BEST VAL Loss: 0.2402  Val_Acc: 92.215\n",
      "\n",
      "Epoch 27: Validation loss decreased (0.240219 --> 0.239184).  Saving model ...\n",
      "\t Train_Loss: 0.2543 Train_Acc: 93.337 Val_Loss: 0.2392  BEST VAL Loss: 0.2392  Val_Acc: 91.188\n",
      "\n",
      "Epoch 28: Validation loss decreased (0.239184 --> 0.235911).  Saving model ...\n",
      "\t Train_Loss: 0.2519 Train_Acc: 93.109 Val_Loss: 0.2359  BEST VAL Loss: 0.2359  Val_Acc: 94.671\n",
      "\n",
      "Epoch 29: Validation loss decreased (0.235911 --> 0.233941).  Saving model ...\n",
      "\t Train_Loss: 0.2493 Train_Acc: 93.613 Val_Loss: 0.2339  BEST VAL Loss: 0.2339  Val_Acc: 93.871\n",
      "\n",
      "Epoch 30: Validation loss decreased (0.233941 --> 0.231153).  Saving model ...\n",
      "\t Train_Loss: 0.2468 Train_Acc: 93.806 Val_Loss: 0.2312  BEST VAL Loss: 0.2312  Val_Acc: 94.518\n",
      "\n",
      "Epoch 31: Validation loss decreased (0.231153 --> 0.228606).  Saving model ...\n",
      "\t Train_Loss: 0.2444 Train_Acc: 93.744 Val_Loss: 0.2286  BEST VAL Loss: 0.2286  Val_Acc: 94.271\n",
      "\n",
      "Epoch 32: Validation loss decreased (0.228606 --> 0.225984).  Saving model ...\n",
      "\t Train_Loss: 0.2422 Train_Acc: 93.732 Val_Loss: 0.2260  BEST VAL Loss: 0.2260  Val_Acc: 94.671\n",
      "\n",
      "Epoch 33: Validation loss decreased (0.225984 --> 0.224449).  Saving model ...\n",
      "\t Train_Loss: 0.2400 Train_Acc: 93.854 Val_Loss: 0.2244  BEST VAL Loss: 0.2244  Val_Acc: 93.833\n",
      "\n",
      "Epoch 34: Validation loss decreased (0.224449 --> 0.223144).  Saving model ...\n",
      "\t Train_Loss: 0.2380 Train_Acc: 93.754 Val_Loss: 0.2231  BEST VAL Loss: 0.2231  Val_Acc: 93.833\n",
      "\n",
      "Epoch 35: Validation loss decreased (0.223144 --> 0.221078).  Saving model ...\n",
      "\t Train_Loss: 0.2359 Train_Acc: 94.006 Val_Loss: 0.2211  BEST VAL Loss: 0.2211  Val_Acc: 94.652\n",
      "\n",
      "Epoch 36: Validation loss decreased (0.221078 --> 0.220251).  Saving model ...\n",
      "\t Train_Loss: 0.2340 Train_Acc: 93.958 Val_Loss: 0.2203  BEST VAL Loss: 0.2203  Val_Acc: 93.548\n",
      "\n",
      "Epoch 37: Validation loss decreased (0.220251 --> 0.218363).  Saving model ...\n",
      "\t Train_Loss: 0.2323 Train_Acc: 93.970 Val_Loss: 0.2184  BEST VAL Loss: 0.2184  Val_Acc: 94.614\n",
      "\n",
      "Epoch 38: Validation loss decreased (0.218363 --> 0.217485).  Saving model ...\n",
      "\t Train_Loss: 0.2303 Train_Acc: 94.315 Val_Loss: 0.2175  BEST VAL Loss: 0.2175  Val_Acc: 93.434\n",
      "\n",
      "Epoch 39: Validation loss decreased (0.217485 --> 0.215449).  Saving model ...\n",
      "\t Train_Loss: 0.2286 Train_Acc: 94.056 Val_Loss: 0.2154  BEST VAL Loss: 0.2154  Val_Acc: 94.956\n",
      "\n",
      "Epoch 40: Validation loss decreased (0.215449 --> 0.213611).  Saving model ...\n",
      "\t Train_Loss: 0.2269 Train_Acc: 93.975 Val_Loss: 0.2136  BEST VAL Loss: 0.2136  Val_Acc: 94.766\n",
      "\n",
      "Epoch 41: Validation loss decreased (0.213611 --> 0.212027).  Saving model ...\n",
      "\t Train_Loss: 0.2252 Train_Acc: 94.341 Val_Loss: 0.2120  BEST VAL Loss: 0.2120  Val_Acc: 94.690\n",
      "\n",
      "Epoch 42: Validation loss decreased (0.212027 --> 0.210235).  Saving model ...\n",
      "\t Train_Loss: 0.2236 Train_Acc: 94.199 Val_Loss: 0.2102  BEST VAL Loss: 0.2102  Val_Acc: 94.918\n",
      "\n",
      "Epoch 43: Validation loss decreased (0.210235 --> 0.208563).  Saving model ...\n",
      "\t Train_Loss: 0.2220 Train_Acc: 94.537 Val_Loss: 0.2086  BEST VAL Loss: 0.2086  Val_Acc: 94.823\n",
      "\n",
      "Epoch 44: Validation loss decreased (0.208563 --> 0.206920).  Saving model ...\n",
      "\t Train_Loss: 0.2205 Train_Acc: 94.365 Val_Loss: 0.2069  BEST VAL Loss: 0.2069  Val_Acc: 94.937\n",
      "\n",
      "Epoch 45: Validation loss decreased (0.206920 --> 0.205360).  Saving model ...\n",
      "\t Train_Loss: 0.2190 Train_Acc: 94.432 Val_Loss: 0.2054  BEST VAL Loss: 0.2054  Val_Acc: 94.823\n",
      "\n",
      "Epoch 46: Validation loss decreased (0.205360 --> 0.204072).  Saving model ...\n",
      "\t Train_Loss: 0.2176 Train_Acc: 94.453 Val_Loss: 0.2041  BEST VAL Loss: 0.2041  Val_Acc: 94.728\n",
      "\n",
      "Epoch 47: Validation loss did not decrease\n",
      "\t Train_Loss: 0.2163 Train_Acc: 94.265 Val_Loss: 0.2056  BEST VAL Loss: 0.2041  Val_Acc: 91.016\n",
      "\n",
      "Epoch 48: Validation loss did not decrease\n",
      "\t Train_Loss: 0.2152 Train_Acc: 94.077 Val_Loss: 0.2042  BEST VAL Loss: 0.2041  Val_Acc: 94.937\n",
      "\n",
      "Epoch 49: Validation loss decreased (0.204072 --> 0.203836).  Saving model ...\n",
      "\t Train_Loss: 0.2140 Train_Acc: 94.413 Val_Loss: 0.2038  BEST VAL Loss: 0.2038  Val_Acc: 93.186\n",
      "\n",
      "Epoch 50: Validation loss decreased (0.203836 --> 0.203588).  Saving model ...\n",
      "\t Train_Loss: 0.2129 Train_Acc: 94.182 Val_Loss: 0.2036  BEST VAL Loss: 0.2036  Val_Acc: 93.300\n",
      "\n",
      "Epoch 51: Validation loss decreased (0.203588 --> 0.202277).  Saving model ...\n",
      "\t Train_Loss: 0.2119 Train_Acc: 94.213 Val_Loss: 0.2023  BEST VAL Loss: 0.2023  Val_Acc: 94.899\n",
      "\n",
      "Epoch 52: Validation loss decreased (0.202277 --> 0.201077).  Saving model ...\n",
      "\t Train_Loss: 0.2106 Train_Acc: 94.860 Val_Loss: 0.2011  BEST VAL Loss: 0.2011  Val_Acc: 95.013\n",
      "\n",
      "Epoch 53: Validation loss did not decrease\n",
      "\t Train_Loss: 0.2095 Train_Acc: 94.629 Val_Loss: 0.2046  BEST VAL Loss: 0.2011  Val_Acc: 90.826\n",
      "\n",
      "Epoch 54: Validation loss did not decrease\n",
      "\t Train_Loss: 0.2086 Train_Acc: 94.508 Val_Loss: 0.2039  BEST VAL Loss: 0.2011  Val_Acc: 93.434\n",
      "\n",
      "Epoch 55: Validation loss did not decrease\n",
      "\t Train_Loss: 0.2076 Train_Acc: 94.418 Val_Loss: 0.2026  BEST VAL Loss: 0.2011  Val_Acc: 95.166\n",
      "\n",
      "Epoch 56: Validation loss did not decrease\n",
      "\t Train_Loss: 0.2065 Train_Acc: 94.798 Val_Loss: 0.2021  BEST VAL Loss: 0.2011  Val_Acc: 93.795\n",
      "\n",
      "Epoch 57: Validation loss did not decrease\n",
      "\t Train_Loss: 0.2054 Train_Acc: 94.748 Val_Loss: 0.2019  BEST VAL Loss: 0.2011  Val_Acc: 93.357\n",
      "\n",
      "Epoch 58: Validation loss did not decrease\n",
      "\t Train_Loss: 0.2045 Train_Acc: 94.584 Val_Loss: 0.2012  BEST VAL Loss: 0.2011  Val_Acc: 94.024\n",
      "\n",
      "Epoch 59: Validation loss decreased (0.201077 --> 0.200010).  Saving model ...\n",
      "\t Train_Loss: 0.2035 Train_Acc: 94.744 Val_Loss: 0.2000  BEST VAL Loss: 0.2000  Val_Acc: 95.166\n",
      "\n",
      "Epoch 60: Validation loss decreased (0.200010 --> 0.198827).  Saving model ...\n",
      "\t Train_Loss: 0.2025 Train_Acc: 94.675 Val_Loss: 0.1988  BEST VAL Loss: 0.1988  Val_Acc: 95.204\n",
      "\n",
      "Epoch 61: Validation loss decreased (0.198827 --> 0.197687).  Saving model ...\n",
      "\t Train_Loss: 0.2015 Train_Acc: 94.932 Val_Loss: 0.1977  BEST VAL Loss: 0.1977  Val_Acc: 95.013\n",
      "\n",
      "Epoch 62: Validation loss decreased (0.197687 --> 0.196655).  Saving model ...\n",
      "\t Train_Loss: 0.2005 Train_Acc: 94.979 Val_Loss: 0.1967  BEST VAL Loss: 0.1967  Val_Acc: 95.280\n",
      "\n",
      "Epoch 63: Validation loss did not decrease\n",
      "\t Train_Loss: 0.1996 Train_Acc: 94.996 Val_Loss: 0.1971  BEST VAL Loss: 0.1967  Val_Acc: 90.845\n",
      "\n",
      "Epoch 64: Validation loss decreased (0.196655 --> 0.196039).  Saving model ...\n",
      "\t Train_Loss: 0.1988 Train_Acc: 94.715 Val_Loss: 0.1960  BEST VAL Loss: 0.1960  Val_Acc: 95.032\n",
      "\n",
      "Epoch 65: Validation loss decreased (0.196039 --> 0.195079).  Saving model ...\n",
      "\t Train_Loss: 0.1979 Train_Acc: 94.929 Val_Loss: 0.1951  BEST VAL Loss: 0.1951  Val_Acc: 94.861\n",
      "\n",
      "Epoch 66: Validation loss decreased (0.195079 --> 0.194117).  Saving model ...\n",
      "\t Train_Loss: 0.1969 Train_Acc: 95.170 Val_Loss: 0.1941  BEST VAL Loss: 0.1941  Val_Acc: 95.470\n",
      "\n",
      "Epoch 67: Validation loss decreased (0.194117 --> 0.193428).  Saving model ...\n",
      "\t Train_Loss: 0.1961 Train_Acc: 94.977 Val_Loss: 0.1934  BEST VAL Loss: 0.1934  Val_Acc: 94.728\n",
      "\n",
      "Epoch 68: Validation loss decreased (0.193428 --> 0.192877).  Saving model ...\n",
      "\t Train_Loss: 0.1953 Train_Acc: 94.927 Val_Loss: 0.1929  BEST VAL Loss: 0.1929  Val_Acc: 94.747\n",
      "\n",
      "Epoch 69: Validation loss decreased (0.192877 --> 0.191954).  Saving model ...\n",
      "\t Train_Loss: 0.1944 Train_Acc: 95.189 Val_Loss: 0.1920  BEST VAL Loss: 0.1920  Val_Acc: 95.223\n",
      "\n",
      "Epoch 70: Validation loss decreased (0.191954 --> 0.191042).  Saving model ...\n",
      "\t Train_Loss: 0.1936 Train_Acc: 95.060 Val_Loss: 0.1910  BEST VAL Loss: 0.1910  Val_Acc: 94.975\n",
      "\n",
      "Epoch 71: Validation loss decreased (0.191042 --> 0.190217).  Saving model ...\n",
      "\t Train_Loss: 0.1928 Train_Acc: 95.172 Val_Loss: 0.1902  BEST VAL Loss: 0.1902  Val_Acc: 95.032\n",
      "\n",
      "Epoch 72: Validation loss decreased (0.190217 --> 0.189521).  Saving model ...\n",
      "\t Train_Loss: 0.1920 Train_Acc: 95.072 Val_Loss: 0.1895  BEST VAL Loss: 0.1895  Val_Acc: 94.975\n",
      "\n",
      "Epoch 73: Validation loss decreased (0.189521 --> 0.188687).  Saving model ...\n",
      "\t Train_Loss: 0.1913 Train_Acc: 95.151 Val_Loss: 0.1887  BEST VAL Loss: 0.1887  Val_Acc: 95.032\n",
      "\n",
      "Epoch 74: Validation loss decreased (0.188687 --> 0.187888).  Saving model ...\n",
      "\t Train_Loss: 0.1905 Train_Acc: 95.448 Val_Loss: 0.1879  BEST VAL Loss: 0.1879  Val_Acc: 95.508\n",
      "\n",
      "Epoch 75: Validation loss decreased (0.187888 --> 0.187085).  Saving model ...\n",
      "\t Train_Loss: 0.1896 Train_Acc: 95.569 Val_Loss: 0.1871  BEST VAL Loss: 0.1871  Val_Acc: 95.223\n",
      "\n",
      "Epoch 76: Validation loss decreased (0.187085 --> 0.186806).  Saving model ...\n",
      "\t Train_Loss: 0.1889 Train_Acc: 95.388 Val_Loss: 0.1868  BEST VAL Loss: 0.1868  Val_Acc: 94.309\n",
      "\n",
      "Epoch 77: Validation loss decreased (0.186806 --> 0.185996).  Saving model ...\n",
      "\t Train_Loss: 0.1882 Train_Acc: 95.236 Val_Loss: 0.1860  BEST VAL Loss: 0.1860  Val_Acc: 95.318\n",
      "\n",
      "Epoch 78: Validation loss decreased (0.185996 --> 0.185328).  Saving model ...\n",
      "\t Train_Loss: 0.1874 Train_Acc: 95.341 Val_Loss: 0.1853  BEST VAL Loss: 0.1853  Val_Acc: 95.147\n",
      "\n",
      "Epoch 79: Validation loss decreased (0.185328 --> 0.184574).  Saving model ...\n",
      "\t Train_Loss: 0.1867 Train_Acc: 95.491 Val_Loss: 0.1846  BEST VAL Loss: 0.1846  Val_Acc: 95.166\n",
      "\n",
      "Epoch 80: Validation loss decreased (0.184574 --> 0.183892).  Saving model ...\n",
      "\t Train_Loss: 0.1860 Train_Acc: 95.155 Val_Loss: 0.1839  BEST VAL Loss: 0.1839  Val_Acc: 95.242\n",
      "\n",
      "Epoch 81: Validation loss decreased (0.183892 --> 0.183432).  Saving model ...\n",
      "\t Train_Loss: 0.1854 Train_Acc: 95.091 Val_Loss: 0.1834  BEST VAL Loss: 0.1834  Val_Acc: 94.994\n",
      "\n",
      "Epoch 82: Validation loss decreased (0.183432 --> 0.182722).  Saving model ...\n",
      "\t Train_Loss: 0.1847 Train_Acc: 95.393 Val_Loss: 0.1827  BEST VAL Loss: 0.1827  Val_Acc: 95.394\n",
      "\n",
      "Epoch 83: Validation loss did not decrease\n",
      "\t Train_Loss: 0.1841 Train_Acc: 95.372 Val_Loss: 0.1854  BEST VAL Loss: 0.1827  Val_Acc: 90.522\n",
      "\n",
      "Epoch 84: Validation loss did not decrease\n",
      "\t Train_Loss: 0.1837 Train_Acc: 94.813 Val_Loss: 0.1847  BEST VAL Loss: 0.1827  Val_Acc: 95.108\n",
      "\n",
      "Epoch 85: Validation loss did not decrease\n",
      "\t Train_Loss: 0.1831 Train_Acc: 94.948 Val_Loss: 0.1840  BEST VAL Loss: 0.1827  Val_Acc: 95.242\n",
      "\n",
      "Epoch 86: Validation loss did not decrease\n",
      "\t Train_Loss: 0.1825 Train_Acc: 95.581 Val_Loss: 0.1835  BEST VAL Loss: 0.1827  Val_Acc: 94.671\n",
      "\n",
      "Epoch 87: Validation loss did not decrease\n",
      "\t Train_Loss: 0.1819 Train_Acc: 95.443 Val_Loss: 0.1831  BEST VAL Loss: 0.1827  Val_Acc: 94.785\n",
      "\n",
      "Epoch 88: Validation loss decreased (0.182722 --> 0.182364).  Saving model ...\n",
      "\t Train_Loss: 0.1813 Train_Acc: 95.312 Val_Loss: 0.1824  BEST VAL Loss: 0.1824  Val_Acc: 95.242\n",
      "\n",
      "Epoch 89: Validation loss decreased (0.182364 --> 0.181712).  Saving model ...\n",
      "\t Train_Loss: 0.1806 Train_Acc: 95.507 Val_Loss: 0.1817  BEST VAL Loss: 0.1817  Val_Acc: 95.356\n",
      "\n",
      "Epoch 90: Validation loss decreased (0.181712 --> 0.181290).  Saving model ...\n",
      "\t Train_Loss: 0.1800 Train_Acc: 95.643 Val_Loss: 0.1813  BEST VAL Loss: 0.1813  Val_Acc: 94.880\n",
      "\n",
      "Epoch 91: Validation loss decreased (0.181290 --> 0.181283).  Saving model ...\n",
      "\t Train_Loss: 0.1794 Train_Acc: 95.386 Val_Loss: 0.1813  BEST VAL Loss: 0.1813  Val_Acc: 94.195\n",
      "\n",
      "Epoch 92: Validation loss decreased (0.181283 --> 0.180867).  Saving model ...\n",
      "\t Train_Loss: 0.1789 Train_Acc: 95.598 Val_Loss: 0.1809  BEST VAL Loss: 0.1809  Val_Acc: 94.690\n",
      "\n",
      "Epoch 93: Validation loss decreased (0.180867 --> 0.180315).  Saving model ...\n",
      "\t Train_Loss: 0.1783 Train_Acc: 95.591 Val_Loss: 0.1803  BEST VAL Loss: 0.1803  Val_Acc: 95.128\n",
      "\n",
      "Epoch 94: Validation loss decreased (0.180315 --> 0.179729).  Saving model ...\n",
      "\t Train_Loss: 0.1777 Train_Acc: 95.738 Val_Loss: 0.1797  BEST VAL Loss: 0.1797  Val_Acc: 95.185\n",
      "\n",
      "Epoch 95: Validation loss decreased (0.179729 --> 0.179233).  Saving model ...\n",
      "\t Train_Loss: 0.1771 Train_Acc: 95.615 Val_Loss: 0.1792  BEST VAL Loss: 0.1792  Val_Acc: 95.108\n",
      "\n",
      "Epoch 96: Validation loss decreased (0.179233 --> 0.179062).  Saving model ...\n",
      "\t Train_Loss: 0.1766 Train_Acc: 95.422 Val_Loss: 0.1791  BEST VAL Loss: 0.1791  Val_Acc: 93.700\n",
      "\n",
      "Epoch 97: Validation loss decreased (0.179062 --> 0.178524).  Saving model ...\n",
      "\t Train_Loss: 0.1761 Train_Acc: 95.346 Val_Loss: 0.1785  BEST VAL Loss: 0.1785  Val_Acc: 95.204\n",
      "\n",
      "Epoch 98: Validation loss decreased (0.178524 --> 0.177973).  Saving model ...\n",
      "\t Train_Loss: 0.1756 Train_Acc: 95.636 Val_Loss: 0.1780  BEST VAL Loss: 0.1780  Val_Acc: 95.280\n",
      "\n",
      "Epoch 99: Validation loss decreased (0.177973 --> 0.177718).  Saving model ...\n",
      "\t Train_Loss: 0.1750 Train_Acc: 95.664 Val_Loss: 0.1777  BEST VAL Loss: 0.1777  Val_Acc: 94.975\n",
      "\n"
     ]
    }
   ],
   "source": [
    "# call the optimized training model\n",
    "train_loss, train_acc, valid_loss, valid_acc, epochs_ran, model = train_optimized_model(\n",
    "    params.TRAIN_EPOCHS,\n",
    "    train_loader,\n",
    "    valid_loader,\n",
    "    param_dict,\n",
    "    params,\n",
    "    params.MODEL_NAME,\n",
    ")\n",
    "# get training_metrics\n",
    "if params.MODEL_TYPE == \"Regression\":\n",
    "    training_stats = pd.DataFrame(\n",
    "        zip(train_loss, valid_loss, epochs_ran),\n",
    "        columns=[\"train_loss\", \"valid_loss\", \"epochs_ran\"],\n",
    "    )\n",
    "else:\n",
    "    training_stats = pd.DataFrame(\n",
    "        zip(train_loss, train_acc, valid_loss, valid_acc, epochs_ran),\n",
    "        columns=[\"train_loss\", \"train_acc\", \"valid_loss\", \"valid_acc\", \"epochs_ran\"],\n",
    "    )"
   ]
  },
  {
   "cell_type": "code",
   "execution_count": 18,
   "id": "1340d8aa",
   "metadata": {},
   "outputs": [
    {
     "name": "stderr",
     "output_type": "stream",
     "text": [
      "/home/lippincm/Documents/ML/Interstellar_Analysis/MLP_Model/model_training/notebooks/../../MLP_utils/utils.py:953: UserWarning:\n",
      "\n",
      "Ignoring `palette` because no `hue` variable has been assigned.\n",
      "\n",
      "/home/lippincm/Documents/ML/Interstellar_Analysis/MLP_Model/model_training/notebooks/../../MLP_utils/utils.py:954: UserWarning:\n",
      "\n",
      "Ignoring `palette` because no `hue` variable has been assigned.\n",
      "\n"
     ]
    },
    {
     "data": {
      "image/png": "[encoded data removed]",
      "text/plain": [
       "<Figure size 640x480 with 1 Axes>"
      ]
     },
     "metadata": {},
     "output_type": "display_data"
    }
   ],
   "source": [
    "if params.MODEL_TYPE == \"Regression\":\n",
    "    pass\n",
    "else:\n",
    "    plot_metric_vs_epoch(\n",
    "        training_stats,\n",
    "        x=\"epochs_ran\",\n",
    "        y1=\"train_acc\",\n",
    "        y2=\"valid_acc\",\n",
    "        title=\"Accuracy vs. Epochs\",\n",
    "        x_axis_label=\"Epochs\",\n",
    "        y_axis_label=\"Accuracy\",\n",
    "        params=params,\n",
    "        model_name=params.MODEL_NAME,\n",
    "    )"
   ]
  },
  {
   "cell_type": "code",
   "execution_count": 19,
   "id": "41991221",
   "metadata": {},
   "outputs": [
    {
     "name": "stderr",
     "output_type": "stream",
     "text": [
      "/home/lippincm/Documents/ML/Interstellar_Analysis/MLP_Model/model_training/notebooks/../../MLP_utils/utils.py:953: UserWarning:\n",
      "\n",
      "Ignoring `palette` because no `hue` variable has been assigned.\n",
      "\n",
      "/home/lippincm/Documents/ML/Interstellar_Analysis/MLP_Model/model_training/notebooks/../../MLP_utils/utils.py:954: UserWarning:\n",
      "\n",
      "Ignoring `palette` because no `hue` variable has been assigned.\n",
      "\n"
     ]
    },
    {
     "data": {
      "image/png": "[encoded data removed]",
      "text/plain": [
       "<Figure size 640x480 with 1 Axes>"
      ]
     },
     "metadata": {},
     "output_type": "display_data"
    }
   ],
   "source": [
    "plot_metric_vs_epoch(\n",
    "    training_stats,\n",
    "    x=\"epochs_ran\",\n",
    "    y1=\"train_loss\",\n",
    "    y2=\"valid_loss\",\n",
    "    title=\"Loss vs. Epochs\",\n",
    "    x_axis_label=\"Epochs\",\n",
    "    y_axis_label=\"Loss\",\n",
    "    params=params,\n",
    "    model_name=params.MODEL_NAME,\n",
    ")"
   ]
  },
  {
   "cell_type": "code",
   "execution_count": 20,
   "id": "3e2c848c",
   "metadata": {},
   "outputs": [],
   "source": [
    "# calling the testing function and outputting list values of tested model\n",
    "if params.MODEL_TYPE == \"Multi_Class\" or params.MODEL_TYPE == \"Regression\":\n",
    "    y_pred_list = test_optimized_model(\n",
    "        model, test_loader, params, model_name=params.MODEL_NAME\n",
    "    )\n",
    "elif params.MODEL_TYPE == \"Binary_Classification\":\n",
    "    y_pred_list, y_pred_prob_list = test_optimized_model(\n",
    "        model, test_loader, params, model_name=params.MODEL_NAME\n",
    "    )\n",
    "else:\n",
    "    raise Exception(\"Model type must be specified for proper model testing\")\n",
    "\n",
    "\n",
    "# un-nest list if nested i.e. length of input data does not match length of output data\n",
    "if len(y_pred_list) != len(Y_test):\n",
    "    y_pred_list = un_nest(y_pred_list)\n",
    "    y_pred_prob_list = un_nest(y_pred_prob_list)\n",
    "else:\n",
    "    pass"
   ]
  },
  {
   "cell_type": "code",
   "execution_count": 21,
   "id": "3c53f7e4",
   "metadata": {},
   "outputs": [
    {
     "name": "stdout",
     "output_type": "stream",
     "text": [
      "              precision    recall  f1-score   support\n",
      "\n",
      "           0       0.97      0.95      0.96      3081\n",
      "           1       0.91      0.96      0.93      1186\n",
      "           2       0.94      0.94      0.94       987\n",
      "\n",
      "    accuracy                           0.95      5254\n",
      "   macro avg       0.94      0.95      0.94      5254\n",
      "weighted avg       0.95      0.95      0.95      5254\n",
      "\n",
      "Precision for class 0: 0.968138068370395\n",
      "Recall for class 0: 0.94677052904901\n",
      "Precision for class 1: 0.9104716227018386\n",
      "Recall for class 1: 0.9603709949409781\n",
      "Precision for class 2: 0.9353535353535354\n",
      "Recall for class 2: 0.9381965552178319\n",
      "3\n"
     ]
    },
    {
     "data": {
      "image/png": "[encoded data removed]",
      "text/plain": [
       "<Figure size 640x480 with 2 Axes>"
      ]
     },
     "metadata": {},
     "output_type": "display_data"
    },
    {
     "data": {
      "image/png": "[encoded data removed]",
      "text/plain": [
       "<Figure size 640x480 with 1 Axes>"
      ]
     },
     "metadata": {},
     "output_type": "display_data"
    }
   ],
   "source": [
    "# Call visualization function\n",
    "# calling the testing function and outputing list values of tested model\n",
    "if params.MODEL_TYPE == \"Multi_Class\" or params.MODEL_TYPE == \"Regression\":\n",
    "    confusion_matrix_df = results_output(\n",
    "        y_pred_list,\n",
    "        Y_test,\n",
    "        params,\n",
    "        test_name=f\"{params.MODEL_NAME}_testing\",\n",
    "        model_name=params.MODEL_NAME,\n",
    "        title=title,\n",
    "    )\n",
    "elif params.MODEL_TYPE == \"Binary_Classification\":\n",
    "    results_output(\n",
    "        y_pred_list,\n",
    "        Y_test,\n",
    "        params,\n",
    "        y_pred_prob_list,\n",
    "        test_name=f\"{params.MODEL_NAME}_testing\",\n",
    "        model_name=params.MODEL_NAME,\n",
    "    )\n",
    "else:\n",
    "    raise Exception(\"Model type must be specified for proper model testing\")"
   ]
  },
  {
   "cell_type": "code",
   "execution_count": 22,
   "id": "81d214ac",
   "metadata": {},
   "outputs": [
    {
     "name": "stdout",
     "output_type": "stream",
     "text": [
      "0 DMSO_0.100_DMSO_0.025\n",
      "2 Thapsigargin_10.000_DMSO_0.025\n",
      "1 LPS_100.000_DMSO_0.025\n"
     ]
    }
   ],
   "source": [
    "for i, j in zip(\n",
    "    df_values[\"oneb_Metadata_Treatment_Dose_Inhibitor_Dose\"].unique(),\n",
    "    df[\"oneb_Metadata_Treatment_Dose_Inhibitor_Dose\"].unique(),\n",
    "):\n",
    "    print(i, j)"
   ]
  },
  {
   "attachments": {},
   "cell_type": "markdown",
   "id": "2c620f38",
   "metadata": {},
   "source": [
    "#### look at the feature weights of the model"
   ]
  },
  {
   "cell_type": "code",
   "execution_count": 23,
   "id": "06ecc2f0",
   "metadata": {},
   "outputs": [],
   "source": [
    "# get all paramters from pytorch model\n",
    "lst = []\n",
    "for name, param in model.named_parameters():\n",
    "    # print(name, param.shape)\n",
    "    lst.append(param)\n",
    "feature_weights = model[0].weight.grad[0].detach().cpu().numpy()"
   ]
  },
  {
   "cell_type": "code",
   "execution_count": 24,
   "id": "131b568f",
   "metadata": {},
   "outputs": [],
   "source": [
    "col_list = []\n",
    "for col in df_values.columns:\n",
    "    # print(col)\n",
    "    col_list.append(col)"
   ]
  },
  {
   "cell_type": "code",
   "execution_count": 25,
   "id": "400c1291",
   "metadata": {},
   "outputs": [],
   "source": [
    "# remove last 4 columns from col_list that are not features\n",
    "col_list = col_list[:-4]"
   ]
  },
  {
   "cell_type": "code",
   "execution_count": 26,
   "id": "42dbfe2a",
   "metadata": {},
   "outputs": [
    {
     "data": {
      "text/html": [
       "<div>\n",
       "<style scoped>\n",
       "    .dataframe tbody tr th:only-of-type {\n",
       "        vertical-align: middle;\n",
       "    }\n",
       "\n",
       "    .dataframe tbody tr th {\n",
       "        vertical-align: top;\n",
       "    }\n",
       "\n",
       "    .dataframe thead th {\n",
       "        text-align: right;\n",
       "    }\n",
       "</style>\n",
       "<table border=\"1\" class=\"dataframe\">\n",
       "  <thead>\n",
       "    <tr style=\"text-align: right;\">\n",
       "      <th></th>\n",
       "      <th>feature</th>\n",
       "      <th>weight</th>\n",
       "    </tr>\n",
       "  </thead>\n",
       "  <tbody>\n",
       "    <tr>\n",
       "      <th>1812</th>\n",
       "      <td>Cells_Texture_InverseDifferenceMoment_CorrPM_3_01_256</td>\n",
       "      <td>0.077313</td>\n",
       "    </tr>\n",
       "    <tr>\n",
       "      <th>2756</th>\n",
       "      <td>Nuclei_Texture_InverseDifferenceMoment_CorrGasdermin_3_01_256</td>\n",
       "      <td>0.076138</td>\n",
       "    </tr>\n",
       "    <tr>\n",
       "      <th>2763</th>\n",
       "      <td>Nuclei_Texture_InverseDifferenceMoment_CorrPM_3_00_256</td>\n",
       "      <td>0.073361</td>\n",
       "    </tr>\n",
       "    <tr>\n",
       "      <th>2764</th>\n",
       "      <td>Nuclei_Texture_InverseDifferenceMoment_CorrPM_3_01_256</td>\n",
       "      <td>0.072019</td>\n",
       "    </tr>\n",
       "    <tr>\n",
       "      <th>2755</th>\n",
       "      <td>Nuclei_Texture_InverseDifferenceMoment_CorrGasdermin_3_00_256</td>\n",
       "      <td>0.071570</td>\n",
       "    </tr>\n",
       "    <tr>\n",
       "      <th>...</th>\n",
       "      <td>...</td>\n",
       "      <td>...</td>\n",
       "    </tr>\n",
       "    <tr>\n",
       "      <th>2161</th>\n",
       "      <td>Nuclei_Intensity_MedianIntensity_CorrPM</td>\n",
       "      <td>-0.090088</td>\n",
       "    </tr>\n",
       "    <tr>\n",
       "      <th>2121</th>\n",
       "      <td>Nuclei_Intensity_IntegratedIntensity_CorrPM</td>\n",
       "      <td>-0.091543</td>\n",
       "    </tr>\n",
       "    <tr>\n",
       "      <th>2413</th>\n",
       "      <td>Nuclei_RadialDistribution_ZernikeMagnitude_CorrPM_4_0</td>\n",
       "      <td>-0.093353</td>\n",
       "    </tr>\n",
       "    <tr>\n",
       "      <th>2126</th>\n",
       "      <td>Nuclei_Intensity_LowerQuartileIntensity_CorrPM</td>\n",
       "      <td>-0.098551</td>\n",
       "    </tr>\n",
       "    <tr>\n",
       "      <th>1178</th>\n",
       "      <td>Cells_Intensity_MADIntensity_CorrPM</td>\n",
       "      <td>-0.120874</td>\n",
       "    </tr>\n",
       "  </tbody>\n",
       "</table>\n",
       "<p>2847 rows × 2 columns</p>\n",
       "</div>"
      ],
      "text/plain": [
       "                                                            feature    weight\n",
       "1812          Cells_Texture_InverseDifferenceMoment_CorrPM_3_01_256  0.077313\n",
       "2756  Nuclei_Texture_InverseDifferenceMoment_CorrGasdermin_3_01_256  0.076138\n",
       "2763         Nuclei_Texture_InverseDifferenceMoment_CorrPM_3_00_256  0.073361\n",
       "2764         Nuclei_Texture_InverseDifferenceMoment_CorrPM_3_01_256  0.072019\n",
       "2755  Nuclei_Texture_InverseDifferenceMoment_CorrGasdermin_3_00_256  0.071570\n",
       "...                                                             ...       ...\n",
       "2161                        Nuclei_Intensity_MedianIntensity_CorrPM -0.090088\n",
       "2121                    Nuclei_Intensity_IntegratedIntensity_CorrPM -0.091543\n",
       "2413          Nuclei_RadialDistribution_ZernikeMagnitude_CorrPM_4_0 -0.093353\n",
       "2126                 Nuclei_Intensity_LowerQuartileIntensity_CorrPM -0.098551\n",
       "1178                            Cells_Intensity_MADIntensity_CorrPM -0.120874\n",
       "\n",
       "[2847 rows x 2 columns]"
      ]
     },
     "execution_count": 26,
     "metadata": {},
     "output_type": "execute_result"
    }
   ],
   "source": [
    "pd.set_option(\"display.max_colwidth\", None)\n",
    "\n",
    "df1 = pd.DataFrame(zip(col_list, feature_weights), columns=[\"feature\", \"weight\"])\n",
    "# change weight collumn to float\n",
    "df1[\"weight\"] = df1[\"weight\"].astype(float)\n",
    "# sort by weight\n",
    "df1 = df1.sort_values(by=[\"weight\"], ascending=False)\n",
    "df1"
   ]
  },
  {
   "cell_type": "code",
   "execution_count": 27,
   "id": "e8a4e590",
   "metadata": {},
   "outputs": [],
   "source": [
    "# Code snippet for metadata extraction by Jenna Tomkinson\n",
    "df_metadata = list(df_holdout.columns[df_holdout.columns.str.startswith(\"Metadata\")])\n",
    "\n",
    "# define which columns are data and which are descriptive\n",
    "df_descriptive = df_holdout[df_metadata]\n",
    "df_values = df_holdout.drop(columns=df_metadata)"
   ]
  },
  {
   "cell_type": "code",
   "execution_count": 28,
   "id": "cd055cfe",
   "metadata": {},
   "outputs": [
    {
     "data": {
      "text/html": [
       "<div>\n",
       "<style scoped>\n",
       "    .dataframe tbody tr th:only-of-type {\n",
       "        vertical-align: middle;\n",
       "    }\n",
       "\n",
       "    .dataframe tbody tr th {\n",
       "        vertical-align: top;\n",
       "    }\n",
       "\n",
       "    .dataframe thead th {\n",
       "        text-align: right;\n",
       "    }\n",
       "</style>\n",
       "<table border=\"1\" class=\"dataframe\">\n",
       "  <thead>\n",
       "    <tr style=\"text-align: right;\">\n",
       "      <th></th>\n",
       "      <th>Metadata_cell_type</th>\n",
       "      <th>Metadata_Well</th>\n",
       "      <th>Metadata_number_of_singlecells</th>\n",
       "      <th>Metadata_incubation inducer (h)</th>\n",
       "      <th>Metadata_inhibitor</th>\n",
       "      <th>Metadata_inhibitor_concentration</th>\n",
       "      <th>Metadata_inhibitor_concentration_unit</th>\n",
       "      <th>Metadata_inducer1</th>\n",
       "      <th>Metadata_inducer1_concentration</th>\n",
       "      <th>Metadata_inducer1_concentration_unit</th>\n",
       "      <th>...</th>\n",
       "      <th>Metadata_inducer2_concentration</th>\n",
       "      <th>Metadata_inducer2_concentration_unit</th>\n",
       "      <th>Metadata_ImageNumber</th>\n",
       "      <th>Metadata_Plate</th>\n",
       "      <th>Metadata_Cells_Number_Object_Number</th>\n",
       "      <th>Metadata_Cytoplasm_Parent_Cells</th>\n",
       "      <th>Metadata_Cytoplasm_Parent_Nuclei</th>\n",
       "      <th>Metadata_Nuclei_Number_Object_Number</th>\n",
       "      <th>Metadata_Treatment</th>\n",
       "      <th>Metadata_Dose</th>\n",
       "    </tr>\n",
       "  </thead>\n",
       "  <tbody>\n",
       "    <tr>\n",
       "      <th>336238</th>\n",
       "      <td>SH-SY5Y</td>\n",
       "      <td>I14</td>\n",
       "      <td>4837</td>\n",
       "      <td>6</td>\n",
       "      <td>DMSO</td>\n",
       "      <td>0.025</td>\n",
       "      <td>%</td>\n",
       "      <td>DMSO</td>\n",
       "      <td>0.1</td>\n",
       "      <td>%</td>\n",
       "      <td>...</td>\n",
       "      <td>0.0</td>\n",
       "      <td>None</td>\n",
       "      <td>32</td>\n",
       "      <td>*70117_20230210MM1_Gasdermin514_CP_BC430856</td>\n",
       "      <td>1</td>\n",
       "      <td>1</td>\n",
       "      <td>5</td>\n",
       "      <td>5</td>\n",
       "      <td>DMSO</td>\n",
       "      <td>0.100</td>\n",
       "    </tr>\n",
       "    <tr>\n",
       "      <th>336239</th>\n",
       "      <td>SH-SY5Y</td>\n",
       "      <td>I14</td>\n",
       "      <td>4837</td>\n",
       "      <td>6</td>\n",
       "      <td>DMSO</td>\n",
       "      <td>0.025</td>\n",
       "      <td>%</td>\n",
       "      <td>DMSO</td>\n",
       "      <td>0.1</td>\n",
       "      <td>%</td>\n",
       "      <td>...</td>\n",
       "      <td>0.0</td>\n",
       "      <td>None</td>\n",
       "      <td>32</td>\n",
       "      <td>*70117_20230210MM1_Gasdermin514_CP_BC430856</td>\n",
       "      <td>2</td>\n",
       "      <td>2</td>\n",
       "      <td>6</td>\n",
       "      <td>6</td>\n",
       "      <td>DMSO</td>\n",
       "      <td>0.100</td>\n",
       "    </tr>\n",
       "    <tr>\n",
       "      <th>336240</th>\n",
       "      <td>SH-SY5Y</td>\n",
       "      <td>I14</td>\n",
       "      <td>4837</td>\n",
       "      <td>6</td>\n",
       "      <td>DMSO</td>\n",
       "      <td>0.025</td>\n",
       "      <td>%</td>\n",
       "      <td>DMSO</td>\n",
       "      <td>0.1</td>\n",
       "      <td>%</td>\n",
       "      <td>...</td>\n",
       "      <td>0.0</td>\n",
       "      <td>None</td>\n",
       "      <td>32</td>\n",
       "      <td>*70117_20230210MM1_Gasdermin514_CP_BC430856</td>\n",
       "      <td>3</td>\n",
       "      <td>3</td>\n",
       "      <td>7</td>\n",
       "      <td>7</td>\n",
       "      <td>DMSO</td>\n",
       "      <td>0.100</td>\n",
       "    </tr>\n",
       "    <tr>\n",
       "      <th>336241</th>\n",
       "      <td>SH-SY5Y</td>\n",
       "      <td>I14</td>\n",
       "      <td>4837</td>\n",
       "      <td>6</td>\n",
       "      <td>DMSO</td>\n",
       "      <td>0.025</td>\n",
       "      <td>%</td>\n",
       "      <td>DMSO</td>\n",
       "      <td>0.1</td>\n",
       "      <td>%</td>\n",
       "      <td>...</td>\n",
       "      <td>0.0</td>\n",
       "      <td>None</td>\n",
       "      <td>32</td>\n",
       "      <td>*70117_20230210MM1_Gasdermin514_CP_BC430856</td>\n",
       "      <td>4</td>\n",
       "      <td>4</td>\n",
       "      <td>9</td>\n",
       "      <td>9</td>\n",
       "      <td>DMSO</td>\n",
       "      <td>0.100</td>\n",
       "    </tr>\n",
       "    <tr>\n",
       "      <th>336242</th>\n",
       "      <td>SH-SY5Y</td>\n",
       "      <td>I14</td>\n",
       "      <td>4837</td>\n",
       "      <td>6</td>\n",
       "      <td>DMSO</td>\n",
       "      <td>0.025</td>\n",
       "      <td>%</td>\n",
       "      <td>DMSO</td>\n",
       "      <td>0.1</td>\n",
       "      <td>%</td>\n",
       "      <td>...</td>\n",
       "      <td>0.0</td>\n",
       "      <td>None</td>\n",
       "      <td>32</td>\n",
       "      <td>*70117_20230210MM1_Gasdermin514_CP_BC430856</td>\n",
       "      <td>5</td>\n",
       "      <td>5</td>\n",
       "      <td>10</td>\n",
       "      <td>10</td>\n",
       "      <td>DMSO</td>\n",
       "      <td>0.100</td>\n",
       "    </tr>\n",
       "    <tr>\n",
       "      <th>...</th>\n",
       "      <td>...</td>\n",
       "      <td>...</td>\n",
       "      <td>...</td>\n",
       "      <td>...</td>\n",
       "      <td>...</td>\n",
       "      <td>...</td>\n",
       "      <td>...</td>\n",
       "      <td>...</td>\n",
       "      <td>...</td>\n",
       "      <td>...</td>\n",
       "      <td>...</td>\n",
       "      <td>...</td>\n",
       "      <td>...</td>\n",
       "      <td>...</td>\n",
       "      <td>...</td>\n",
       "      <td>...</td>\n",
       "      <td>...</td>\n",
       "      <td>...</td>\n",
       "      <td>...</td>\n",
       "      <td>...</td>\n",
       "      <td>...</td>\n",
       "    </tr>\n",
       "    <tr>\n",
       "      <th>528609</th>\n",
       "      <td>SH-SY5Y</td>\n",
       "      <td>J21</td>\n",
       "      <td>4126</td>\n",
       "      <td>6</td>\n",
       "      <td>DMSO</td>\n",
       "      <td>0.025</td>\n",
       "      <td>%</td>\n",
       "      <td>LPS</td>\n",
       "      <td>100.0</td>\n",
       "      <td>µg_per_ml</td>\n",
       "      <td>...</td>\n",
       "      <td>0.0</td>\n",
       "      <td>None</td>\n",
       "      <td>332</td>\n",
       "      <td>*70117_20230210MM1_Gasdermin514_CP_BC430856</td>\n",
       "      <td>183</td>\n",
       "      <td>183</td>\n",
       "      <td>192</td>\n",
       "      <td>192</td>\n",
       "      <td>LPS</td>\n",
       "      <td>100.000</td>\n",
       "    </tr>\n",
       "    <tr>\n",
       "      <th>528610</th>\n",
       "      <td>SH-SY5Y</td>\n",
       "      <td>J21</td>\n",
       "      <td>4126</td>\n",
       "      <td>6</td>\n",
       "      <td>DMSO</td>\n",
       "      <td>0.025</td>\n",
       "      <td>%</td>\n",
       "      <td>LPS</td>\n",
       "      <td>100.0</td>\n",
       "      <td>µg_per_ml</td>\n",
       "      <td>...</td>\n",
       "      <td>0.0</td>\n",
       "      <td>None</td>\n",
       "      <td>332</td>\n",
       "      <td>*70117_20230210MM1_Gasdermin514_CP_BC430856</td>\n",
       "      <td>186</td>\n",
       "      <td>186</td>\n",
       "      <td>195</td>\n",
       "      <td>195</td>\n",
       "      <td>LPS</td>\n",
       "      <td>100.000</td>\n",
       "    </tr>\n",
       "    <tr>\n",
       "      <th>528611</th>\n",
       "      <td>SH-SY5Y</td>\n",
       "      <td>J21</td>\n",
       "      <td>4126</td>\n",
       "      <td>6</td>\n",
       "      <td>DMSO</td>\n",
       "      <td>0.025</td>\n",
       "      <td>%</td>\n",
       "      <td>LPS</td>\n",
       "      <td>100.0</td>\n",
       "      <td>µg_per_ml</td>\n",
       "      <td>...</td>\n",
       "      <td>0.0</td>\n",
       "      <td>None</td>\n",
       "      <td>332</td>\n",
       "      <td>*70117_20230210MM1_Gasdermin514_CP_BC430856</td>\n",
       "      <td>241</td>\n",
       "      <td>241</td>\n",
       "      <td>251</td>\n",
       "      <td>251</td>\n",
       "      <td>LPS</td>\n",
       "      <td>100.000</td>\n",
       "    </tr>\n",
       "    <tr>\n",
       "      <th>528612</th>\n",
       "      <td>SH-SY5Y</td>\n",
       "      <td>J21</td>\n",
       "      <td>4126</td>\n",
       "      <td>6</td>\n",
       "      <td>DMSO</td>\n",
       "      <td>0.025</td>\n",
       "      <td>%</td>\n",
       "      <td>LPS</td>\n",
       "      <td>100.0</td>\n",
       "      <td>µg_per_ml</td>\n",
       "      <td>...</td>\n",
       "      <td>0.0</td>\n",
       "      <td>None</td>\n",
       "      <td>332</td>\n",
       "      <td>*70117_20230210MM1_Gasdermin514_CP_BC430856</td>\n",
       "      <td>250</td>\n",
       "      <td>250</td>\n",
       "      <td>260</td>\n",
       "      <td>260</td>\n",
       "      <td>LPS</td>\n",
       "      <td>100.000</td>\n",
       "    </tr>\n",
       "    <tr>\n",
       "      <th>528613</th>\n",
       "      <td>SH-SY5Y</td>\n",
       "      <td>J21</td>\n",
       "      <td>4126</td>\n",
       "      <td>6</td>\n",
       "      <td>DMSO</td>\n",
       "      <td>0.025</td>\n",
       "      <td>%</td>\n",
       "      <td>LPS</td>\n",
       "      <td>100.0</td>\n",
       "      <td>µg_per_ml</td>\n",
       "      <td>...</td>\n",
       "      <td>0.0</td>\n",
       "      <td>None</td>\n",
       "      <td>334</td>\n",
       "      <td>*70117_20230210MM1_Gasdermin514_CP_BC430856</td>\n",
       "      <td>147</td>\n",
       "      <td>147</td>\n",
       "      <td>159</td>\n",
       "      <td>159</td>\n",
       "      <td>LPS</td>\n",
       "      <td>100.000</td>\n",
       "    </tr>\n",
       "  </tbody>\n",
       "</table>\n",
       "<p>12309 rows × 21 columns</p>\n",
       "</div>"
      ],
      "text/plain": [
       "       Metadata_cell_type Metadata_Well  Metadata_number_of_singlecells  \\\n",
       "336238            SH-SY5Y           I14                            4837   \n",
       "336239            SH-SY5Y           I14                            4837   \n",
       "336240            SH-SY5Y           I14                            4837   \n",
       "336241            SH-SY5Y           I14                            4837   \n",
       "336242            SH-SY5Y           I14                            4837   \n",
       "...                   ...           ...                             ...   \n",
       "528609            SH-SY5Y           J21                            4126   \n",
       "528610            SH-SY5Y           J21                            4126   \n",
       "528611            SH-SY5Y           J21                            4126   \n",
       "528612            SH-SY5Y           J21                            4126   \n",
       "528613            SH-SY5Y           J21                            4126   \n",
       "\n",
       "        Metadata_incubation inducer (h) Metadata_inhibitor  \\\n",
       "336238                                6               DMSO   \n",
       "336239                                6               DMSO   \n",
       "336240                                6               DMSO   \n",
       "336241                                6               DMSO   \n",
       "336242                                6               DMSO   \n",
       "...                                 ...                ...   \n",
       "528609                                6               DMSO   \n",
       "528610                                6               DMSO   \n",
       "528611                                6               DMSO   \n",
       "528612                                6               DMSO   \n",
       "528613                                6               DMSO   \n",
       "\n",
       "        Metadata_inhibitor_concentration  \\\n",
       "336238                             0.025   \n",
       "336239                             0.025   \n",
       "336240                             0.025   \n",
       "336241                             0.025   \n",
       "336242                             0.025   \n",
       "...                                  ...   \n",
       "528609                             0.025   \n",
       "528610                             0.025   \n",
       "528611                             0.025   \n",
       "528612                             0.025   \n",
       "528613                             0.025   \n",
       "\n",
       "       Metadata_inhibitor_concentration_unit Metadata_inducer1  \\\n",
       "336238                                     %              DMSO   \n",
       "336239                                     %              DMSO   \n",
       "336240                                     %              DMSO   \n",
       "336241                                     %              DMSO   \n",
       "336242                                     %              DMSO   \n",
       "...                                      ...               ...   \n",
       "528609                                     %               LPS   \n",
       "528610                                     %               LPS   \n",
       "528611                                     %               LPS   \n",
       "528612                                     %               LPS   \n",
       "528613                                     %               LPS   \n",
       "\n",
       "        Metadata_inducer1_concentration Metadata_inducer1_concentration_unit  \\\n",
       "336238                              0.1                                    %   \n",
       "336239                              0.1                                    %   \n",
       "336240                              0.1                                    %   \n",
       "336241                              0.1                                    %   \n",
       "336242                              0.1                                    %   \n",
       "...                                 ...                                  ...   \n",
       "528609                            100.0                            µg_per_ml   \n",
       "528610                            100.0                            µg_per_ml   \n",
       "528611                            100.0                            µg_per_ml   \n",
       "528612                            100.0                            µg_per_ml   \n",
       "528613                            100.0                            µg_per_ml   \n",
       "\n",
       "        ... Metadata_inducer2_concentration  \\\n",
       "336238  ...                             0.0   \n",
       "336239  ...                             0.0   \n",
       "336240  ...                             0.0   \n",
       "336241  ...                             0.0   \n",
       "336242  ...                             0.0   \n",
       "...     ...                             ...   \n",
       "528609  ...                             0.0   \n",
       "528610  ...                             0.0   \n",
       "528611  ...                             0.0   \n",
       "528612  ...                             0.0   \n",
       "528613  ...                             0.0   \n",
       "\n",
       "        Metadata_inducer2_concentration_unit Metadata_ImageNumber  \\\n",
       "336238                                  None                   32   \n",
       "336239                                  None                   32   \n",
       "336240                                  None                   32   \n",
       "336241                                  None                   32   \n",
       "336242                                  None                   32   \n",
       "...                                      ...                  ...   \n",
       "528609                                  None                  332   \n",
       "528610                                  None                  332   \n",
       "528611                                  None                  332   \n",
       "528612                                  None                  332   \n",
       "528613                                  None                  334   \n",
       "\n",
       "                                     Metadata_Plate  \\\n",
       "336238  *70117_20230210MM1_Gasdermin514_CP_BC430856   \n",
       "336239  *70117_20230210MM1_Gasdermin514_CP_BC430856   \n",
       "336240  *70117_20230210MM1_Gasdermin514_CP_BC430856   \n",
       "336241  *70117_20230210MM1_Gasdermin514_CP_BC430856   \n",
       "336242  *70117_20230210MM1_Gasdermin514_CP_BC430856   \n",
       "...                                             ...   \n",
       "528609  *70117_20230210MM1_Gasdermin514_CP_BC430856   \n",
       "528610  *70117_20230210MM1_Gasdermin514_CP_BC430856   \n",
       "528611  *70117_20230210MM1_Gasdermin514_CP_BC430856   \n",
       "528612  *70117_20230210MM1_Gasdermin514_CP_BC430856   \n",
       "528613  *70117_20230210MM1_Gasdermin514_CP_BC430856   \n",
       "\n",
       "       Metadata_Cells_Number_Object_Number  Metadata_Cytoplasm_Parent_Cells  \\\n",
       "336238                                   1                                1   \n",
       "336239                                   2                                2   \n",
       "336240                                   3                                3   \n",
       "336241                                   4                                4   \n",
       "336242                                   5                                5   \n",
       "...                                    ...                              ...   \n",
       "528609                                 183                              183   \n",
       "528610                                 186                              186   \n",
       "528611                                 241                              241   \n",
       "528612                                 250                              250   \n",
       "528613                                 147                              147   \n",
       "\n",
       "        Metadata_Cytoplasm_Parent_Nuclei  \\\n",
       "336238                                 5   \n",
       "336239                                 6   \n",
       "336240                                 7   \n",
       "336241                                 9   \n",
       "336242                                10   \n",
       "...                                  ...   \n",
       "528609                               192   \n",
       "528610                               195   \n",
       "528611                               251   \n",
       "528612                               260   \n",
       "528613                               159   \n",
       "\n",
       "        Metadata_Nuclei_Number_Object_Number  Metadata_Treatment Metadata_Dose  \n",
       "336238                                     5                DMSO         0.100  \n",
       "336239                                     6                DMSO         0.100  \n",
       "336240                                     7                DMSO         0.100  \n",
       "336241                                     9                DMSO         0.100  \n",
       "336242                                    10                DMSO         0.100  \n",
       "...                                      ...                 ...           ...  \n",
       "528609                                   192                 LPS       100.000  \n",
       "528610                                   195                 LPS       100.000  \n",
       "528611                                   251                 LPS       100.000  \n",
       "528612                                   260                 LPS       100.000  \n",
       "528613                                   159                 LPS       100.000  \n",
       "\n",
       "[12309 rows x 21 columns]"
      ]
     },
     "execution_count": 28,
     "metadata": {},
     "output_type": "execute_result"
    }
   ],
   "source": [
    "df_descriptive"
   ]
  },
  {
   "cell_type": "code",
   "execution_count": 29,
   "id": "748bb398",
   "metadata": {},
   "outputs": [],
   "source": [
    "# Creating label encoder\n",
    "le = preprocessing.LabelEncoder()\n",
    "# Converting strings into numbers\n",
    "df_values[\"oneb_Metadata_Treatment_Dose_Inhibitor_Dose\"] = le.fit_transform(\n",
    "    df_values[\"oneb_Metadata_Treatment_Dose_Inhibitor_Dose\"]\n",
    ")\n",
    "# split into X and Y where Y are the predictive column and x are the observable data\n",
    "df_values_X = df_values.drop(\n",
    "    [\n",
    "        \"oneb_Metadata_Treatment_Dose_Inhibitor_Dose\",\n",
    "        \"twob_Metadata_Treatment_Dose_Inhibitor_Dose\",\n",
    "        \"threeb_Metadata_Treatment_Dose_Inhibitor_Dose\",\n",
    "        \"fourb_Metadata_Treatment_Dose_Inhibitor_Dose\",\n",
    "    ],\n",
    "    axis=1,\n",
    ")\n",
    "df_values_Y = df_values[\"oneb_Metadata_Treatment_Dose_Inhibitor_Dose\"]"
   ]
  },
  {
   "cell_type": "code",
   "execution_count": 30,
   "id": "2c5677d3",
   "metadata": {},
   "outputs": [],
   "source": [
    "test_data = Dataset_formatter(\n",
    "    torch.FloatTensor(df_values_X.values), torch.FloatTensor(df_values_Y.values)\n",
    ")\n",
    "\n",
    "# convert data class into a dataloader to be compatible with pytorch\n",
    "test_loader = torch.utils.data.DataLoader(dataset=test_data, batch_size=1)"
   ]
  },
  {
   "cell_type": "code",
   "execution_count": 31,
   "id": "3e2c848c",
   "metadata": {},
   "outputs": [],
   "source": [
    "# calling the testing function and outputting list values of tested model\n",
    "if params.MODEL_TYPE == \"Multi_Class\" or params.MODEL_TYPE == \"Regression\":\n",
    "    y_pred_list = test_optimized_model(\n",
    "        model, test_loader, params, model_name=params.MODEL_NAME\n",
    "    )\n",
    "elif params.MODEL_TYPE == \"Binary_Classification\":\n",
    "    y_pred_list, y_pred_prob_list = test_optimized_model(\n",
    "        model, test_loader, params, model_name=params.MODEL_NAME\n",
    "    )\n",
    "else:\n",
    "    raise Exception(\"Model type must be specified for proper model testing\")\n",
    "\n",
    "\n",
    "# un-nest list if nested i.e. length of input data does not match length of output data\n",
    "if len(y_pred_list) != len(df_values_Y):\n",
    "    y_pred_list = un_nest(y_pred_list)\n",
    "    y_pred_prob_list = un_nest(y_pred_prob_list)\n",
    "else:\n",
    "    pass"
   ]
  },
  {
   "cell_type": "code",
   "execution_count": 32,
   "id": "3c53f7e4",
   "metadata": {},
   "outputs": [
    {
     "name": "stdout",
     "output_type": "stream",
     "text": [
      "              precision    recall  f1-score   support\n",
      "\n",
      "           0       0.89      0.97      0.93      4837\n",
      "           1       0.97      0.90      0.94      4126\n",
      "           2       0.97      0.94      0.95      3346\n",
      "\n",
      "    accuracy                           0.94     12309\n",
      "   macro avg       0.95      0.94      0.94     12309\n",
      "weighted avg       0.94      0.94      0.94     12309\n",
      "\n",
      "Precision for class 0: 0.8896030245746692\n",
      "Recall for class 0: 0.9729170973744056\n",
      "Precision for class 1: 0.9745139253809774\n",
      "Recall for class 1: 0.8989335918565197\n",
      "Precision for class 2: 0.9738562091503268\n",
      "Recall for class 2: 0.9351464435146444\n",
      "3\n"
     ]
    },
    {
     "data": {
      "image/png": "[encoded data removed]",
      "text/plain": [
       "<Figure size 640x480 with 2 Axes>"
      ]
     },
     "metadata": {},
     "output_type": "display_data"
    },
    {
     "data": {
      "image/png": "[encoded data removed]",
      "text/plain": [
       "<Figure size 640x480 with 1 Axes>"
      ]
     },
     "metadata": {},
     "output_type": "display_data"
    }
   ],
   "source": [
    "# Call visualization function\n",
    "# calling the testing function and outputing list values of tested model\n",
    "\n",
    "if params.MODEL_TYPE == \"Multi_Class\" or params.MODEL_TYPE == \"Regression\":\n",
    "    confusion_matrix_df = results_output(\n",
    "        y_pred_list,\n",
    "        df_values_Y,\n",
    "        params,\n",
    "        test_name=f\"{params.MODEL_NAME}_hold_out\",\n",
    "        model_name=params.MODEL_NAME,\n",
    "        title=title,\n",
    "    )\n",
    "elif params.MODEL_TYPE == \"Binary_Classification\":\n",
    "    results_output(\n",
    "        y_pred_list,\n",
    "        df_values_Y,\n",
    "        params,\n",
    "        y_pred_prob_list,\n",
    "        test_name=f\"{params.MODEL_NAME}_hold_out\",\n",
    "        model_name=params.MODEL_NAME,\n",
    "    )\n",
    "else:\n",
    "    raise Exception(\"Model type must be specified for proper model testing\")"
   ]
  },
  {
   "cell_type": "code",
   "execution_count": 33,
   "id": "932853de",
   "metadata": {},
   "outputs": [
    {
     "name": "stdout",
     "output_type": "stream",
     "text": [
      "0 DMSO_0.100_DMSO_0.025\n",
      "2 Thapsigargin_10.000_DMSO_0.025\n",
      "1 LPS_100.000_DMSO_0.025\n"
     ]
    }
   ],
   "source": [
    "for i, j in zip(\n",
    "    df_values[\"oneb_Metadata_Treatment_Dose_Inhibitor_Dose\"].unique(),\n",
    "    df[\"oneb_Metadata_Treatment_Dose_Inhibitor_Dose\"].unique(),\n",
    "):\n",
    "    print(i, j)"
   ]
  }
 ],
 "metadata": {
  "jupytext": {
   "cell_metadata_filter": "-all",
   "encoding": "# coding: utf-8",
   "executable": "/usr/bin/env python",
   "formats": "ipynb,py",
   "main_language": "python"
  },
  "kernelspec": {
   "display_name": "Python 3 (ipykernel)",
   "language": "python",
   "name": "python3"
  },
  "language_info": {
   "codemirror_mode": {
    "name": "ipython",
    "version": 3
   },
   "file_extension": ".py",
   "mimetype": "text/x-python",
   "name": "python",
   "nbconvert_exporter": "python",
   "pygments_lexer": "ipython3",
   "version": "3.10.10 | packaged by conda-forge | (main, Mar 24 2023, 20:08:06) [GCC 11.3.0]"
  },
  "vscode": {
   "interpreter": {
    "hash": "72ae02083a9ca7d143c492d1aec380c7bf553ec51bd66e90e72bba65228121b6"
   }
  }
 },
 "nbformat": 4,
 "nbformat_minor": 5
}
