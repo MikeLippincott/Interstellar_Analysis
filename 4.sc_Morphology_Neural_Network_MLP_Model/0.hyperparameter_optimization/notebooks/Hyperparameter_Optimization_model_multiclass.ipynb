{
    "cells": [
        {
            "attachments": {},
            "cell_type": "markdown",
            "id": "8e60628c",
            "metadata": {
                "papermill": {
                    "duration": 0.002385,
                    "end_time": "2023-10-18T18:20:04.868387",
                    "exception": false,
                    "start_time": "2023-10-18T18:20:04.866002",
                    "status": "completed"
                },
                "tags": []
            },
            "source": [
                "## Hyperparameter tuning via Optuna"
            ]
        },
        {
            "cell_type": "markdown",
            "id": "8fac71a5",
            "metadata": {
                "papermill": {
                    "duration": 0.001919,
                    "end_time": "2023-10-18T18:20:04.873048",
                    "exception": false,
                    "start_time": "2023-10-18T18:20:04.871129",
                    "status": "completed"
                },
                "tags": []
            },
            "source": [
                "### Being a binary model this notebook will be limited to predicting one class 1 or 0, yes or no.\n",
                "### Here I will be predicting if a cell received a treatment or not"
            ]
        },
        {
            "cell_type": "code",
            "execution_count": 1,
            "id": "860a61dd",
            "metadata": {
                "execution": {
                    "iopub.execute_input": "2023-10-18T18:20:04.878009Z",
                    "iopub.status.busy": "2023-10-18T18:20:04.877582Z",
                    "iopub.status.idle": "2023-10-18T18:20:08.479452Z",
                    "shell.execute_reply": "2023-10-18T18:20:08.478953Z"
                },
                "papermill": {
                    "duration": 3.605361,
                    "end_time": "2023-10-18T18:20:08.480497",
                    "exception": false,
                    "start_time": "2023-10-18T18:20:04.875136",
                    "status": "completed"
                },
                "tags": []
            },
            "outputs": [],
            "source": [
                "import pathlib\n",
                "import sys\n",
                "\n",
                "import numpy as np\n",
                "import optuna\n",
                "import pandas as pd\n",
                "import pyarrow.parquet as pq\n",
                "import toml\n",
                "import torch\n",
                "from sklearn import preprocessing\n",
                "\n",
                "sys.path.append(\"../..\")\n",
                "\n",
                "import argparse\n",
                "\n",
                "from MLP_utils.parameters import Parameters\n",
                "from MLP_utils.utils import (\n",
                "    Dataset_formatter,\n",
                "    data_split,\n",
                "    extract_best_trial_params,\n",
                "    objective_model_optimizer,\n",
                "    parameter_set,\n",
                "    plot_metric_vs_epoch,\n",
                "    results_output,\n",
                "    test_optimized_model,\n",
                "    train_optimized_model,\n",
                "    un_nest,\n",
                ")\n",
                "from sklearn.model_selection import train_test_split\n",
                "\n",
                "sys.path.append(\"../../..\")\n",
                "from utils.utils import df_stats"
            ]
        },
        {
            "cell_type": "code",
            "execution_count": 2,
            "id": "15fbe814",
            "metadata": {},
            "outputs": [],
            "source": [
                "# set up the parser\n",
                "parser = argparse.ArgumentParser(description=\"Run hyperparameter optimization\")\n",
                "parser.add_argument(\n",
                "    \"--cell_type\",\n",
                "    type=str,\n",
                "    default=\"all\",\n",
                "    help=\"Cell type to run hyperparameter optimization for\",\n",
                ")\n",
                "parser.add_argument(\n",
                "    \"--model_name\",\n",
                "    type=str,\n",
                "    default=\"all\",\n",
                "    help=\"Model name to run hyperparameter optimization for\",\n",
                ")\n",
                "\n",
                "# parse arguments\n",
                "args = parser.parse_args()\n",
                "\n",
                "CELL_TYPE = args.cell_type\n",
                "MODEL_NAME = args.model_name"
            ]
        },
        {
            "cell_type": "code",
            "execution_count": 4,
            "id": "394294ce",
            "metadata": {
                "execution": {
                    "iopub.execute_input": "2023-10-18T18:20:08.498713Z",
                    "iopub.status.busy": "2023-10-18T18:20:08.498501Z",
                    "iopub.status.idle": "2023-10-18T18:20:08.502638Z",
                    "shell.execute_reply": "2023-10-18T18:20:08.502299Z"
                },
                "papermill": {
                    "duration": 0.007175,
                    "end_time": "2023-10-18T18:20:08.503377",
                    "exception": false,
                    "start_time": "2023-10-18T18:20:08.496202",
                    "status": "completed"
                },
                "tags": []
            },
            "outputs": [],
            "source": [
                "ml_configs_file = pathlib.Path(\"../../MLP_utils/multi_class_config.toml\").resolve(\n",
                "    strict=True\n",
                ")\n",
                "ml_configs = toml.load(ml_configs_file)\n",
                "params = Parameters()\n",
                "mlp_params = parameter_set(params, ml_configs)\n",
                "\n",
                "# overwrite params via command line arguments from papermill\n",
                "mlp_params.CELL_TYPE = CELL_TYPE\n",
                "mlp_params.MODEL_NAME = MODEL_NAME\n",
                "MODEL_TYPE = mlp_params.MODEL_TYPE\n",
                "HYPERPARAMETER_BATCH_SIZE = mlp_params.HYPERPARAMETER_BATCH_SIZE"
            ]
        },
        {
            "cell_type": "code",
            "execution_count": 5,
            "id": "44baa945",
            "metadata": {
                "execution": {
                    "iopub.execute_input": "2023-10-18T18:20:08.507805Z",
                    "iopub.status.busy": "2023-10-18T18:20:08.507608Z"
                },
                "papermill": {
                    "duration": 54.581971,
                    "end_time": "2023-10-18T18:21:03.087265",
                    "exception": false,
                    "start_time": "2023-10-18T18:20:08.505294",
                    "status": "completed"
                },
                "tags": []
            },
            "outputs": [],
            "source": [
                "# Import Data\n",
                "# set data file path under pathlib path for multi-system use\n",
                "\n",
                "file_path = pathlib.Path(\n",
                "    f\"../../../data/{mlp_params.CELL_TYPE}_preprocessed_sc_norm.parquet\"\n",
                ").resolve(strict=True)\n",
                "\n",
                "df1 = pd.read_parquet(file_path)"
            ]
        },
        {
            "cell_type": "code",
            "execution_count": 6,
            "id": "e8ef96f3",
            "metadata": {},
            "outputs": [],
            "source": [
                "# get paths for toml files\n",
                "ground_truth_file_path = pathlib.Path(f\"../../MLP_utils/ground_truth.toml\").resolve(\n",
                "    strict=True\n",
                ")\n",
                "treatment_splits_file_path = pathlib.Path(f\"../../MLP_utils/splits.toml\").resolve(\n",
                "    strict=True\n",
                ")\n",
                "# read toml files\n",
                "ground_truth = toml.load(ground_truth_file_path)\n",
                "treatment_splits = toml.load(treatment_splits_file_path)"
            ]
        },
        {
            "cell_type": "code",
            "execution_count": 7,
            "id": "29c1f3cb",
            "metadata": {},
            "outputs": [],
            "source": [
                "# get information from toml files\n",
                "apoptosis_groups_list = ground_truth[\"Apoptosis\"][\"apoptosis_groups_list\"]\n",
                "pyroptosis_groups_list = ground_truth[\"Pyroptosis\"][\"pyroptosis_groups_list\"]\n",
                "healthy_groups_list = ground_truth[\"Healthy\"][\"healthy_groups_list\"]\n",
                "test_split_100 = treatment_splits[\"splits\"][\"data_splits_100\"]\n",
                "test_split_75 = treatment_splits[\"splits\"][\"data_splits_75\"]"
            ]
        },
        {
            "cell_type": "code",
            "execution_count": 8,
            "id": "159e2281",
            "metadata": {},
            "outputs": [
                {
                    "name": "stdout",
                    "output_type": "stream",
                    "text": [
                        "Data Subset Is On\n",
                        "Data is subset to 500 per treatment group\n",
                        "(19000, 1276)\n"
                    ]
                }
            ],
            "source": [
                "np.random.seed(0)\n",
                "if mlp_params.DATA_SUBSET_OPTION == \"True\":\n",
                "    df1 = df1.groupby(\"oneb_Metadata_Treatment_Dose_Inhibitor_Dose\").apply(\n",
                "        lambda x: x.sample(n=mlp_params.DATA_SUBSET_NUMBER, random_state=0)\n",
                "    )\n",
                "    print(\"Data Subset Is On\")\n",
                "    print(f\"Data is subset to {mlp_params.DATA_SUBSET_NUMBER} per treatment group\")\n",
                "    print(df1.shape)\n",
                "    df1.reset_index(drop=True, inplace=True)\n",
                "else:\n",
                "    print(\"Data Subset Is Off\")"
            ]
        },
        {
            "cell_type": "code",
            "execution_count": 9,
            "id": "6a6ec3fa",
            "metadata": {},
            "outputs": [],
            "source": [
                "# add apoptosis, pyroptosis and healthy columns to dataframe\n",
                "df1[\"apoptosis\"] = df1.apply(\n",
                "    lambda row: row[\"oneb_Metadata_Treatment_Dose_Inhibitor_Dose\"]\n",
                "    in apoptosis_groups_list,\n",
                "    axis=1,\n",
                ")\n",
                "df1[\"pyroptosis\"] = df1.apply(\n",
                "    lambda row: row[\"oneb_Metadata_Treatment_Dose_Inhibitor_Dose\"]\n",
                "    in pyroptosis_groups_list,\n",
                "    axis=1,\n",
                ")\n",
                "df1[\"healthy\"] = df1.apply(\n",
                "    lambda row: row[\"oneb_Metadata_Treatment_Dose_Inhibitor_Dose\"]\n",
                "    in healthy_groups_list,\n",
                "    axis=1,\n",
                ")\n",
                "\n",
                "# merge apoptosis, pyroptosis, and healthy columns into one column\n",
                "df1[\"labels\"] = df1.apply(\n",
                "    lambda row: \"apoptosis\"\n",
                "    if row[\"apoptosis\"]\n",
                "    else \"pyroptosis\"\n",
                "    if row[\"pyroptosis\"]\n",
                "    else \"healthy\",\n",
                "    axis=1,\n",
                ")\n",
                "# drop apoptosis, pyroptosis, and healthy columns\n",
                "df1.drop(columns=[\"apoptosis\", \"pyroptosis\", \"healthy\"], inplace=True)"
            ]
        },
        {
            "cell_type": "markdown",
            "id": "3cb179dd",
            "metadata": {},
            "source": [
                "### Split said data"
            ]
        },
        {
            "cell_type": "code",
            "execution_count": 10,
            "id": "20568fd5",
            "metadata": {},
            "outputs": [
                {
                    "name": "stdout",
                    "output_type": "stream",
                    "text": [
                        "Wells held out for testing: ['C15' 'J13' 'D13' 'N13' 'E23' 'F19' 'G19' 'L18' 'M18' 'N22' 'H19' 'I18'\n",
                        " 'J19' 'K19' 'B21' 'C16' 'D20' 'E16' 'F16' 'G17' 'H16' 'I20' 'J20' 'K20'\n",
                        " 'M21' 'N20' 'O16' 'L16' 'B19' 'D19' 'C23' 'K14' 'E14' 'N14' 'H15' 'M14'\n",
                        " 'O23' 'O18']\n",
                        "Wells to use for training, validation, and testing ['C14' 'J14' 'J15' 'B14' 'I14' 'B15' 'I15' 'C15' 'O13' 'J13' 'H13' 'C13'\n",
                        " 'D13' 'M13' 'K13' 'F13' 'G13' 'L13' 'E13' 'N13' 'E18' 'E22' 'E23' 'E19'\n",
                        " 'F22' 'F18' 'F19' 'F23' 'G23' 'G19' 'G18' 'G22' 'L19' 'L23' 'L18' 'L22'\n",
                        " 'M23' 'M22' 'M18' 'M19' 'N22' 'N18' 'N19' 'N23' 'H18' 'H23' 'H22' 'H19'\n",
                        " 'I23' 'I19' 'I18' 'I22' 'J19' 'J23' 'J22' 'J18' 'K19' 'K22' 'K23' 'K18'\n",
                        " 'B16' 'B21' 'B20' 'B17' 'C16' 'C21' 'C17' 'C20' 'D20' 'D17' 'D21' 'D16'\n",
                        " 'E16' 'E20' 'E21' 'E17' 'F17' 'F21' 'F16' 'F20' 'G21' 'G16' 'G20' 'G17'\n",
                        " 'H21' 'H17' 'H16' 'H20' 'I16' 'I17' 'I20' 'I21' 'J20' 'J21' 'J16' 'J17'\n",
                        " 'K20' 'K17' 'K16' 'K21' 'M20' 'M16' 'M17' 'M21' 'N20' 'N17' 'N21' 'N16'\n",
                        " 'O17' 'O21' 'O16' 'O20' 'L17' 'L21' 'L16' 'L20' 'B22' 'B18' 'B19' 'B23'\n",
                        " 'D18' 'D19' 'D23' 'D22' 'C23' 'C19' 'C22' 'C18' 'K14' 'K15' 'D14' 'D15'\n",
                        " 'L14' 'E15' 'L15' 'E14' 'N14' 'N15' 'G14' 'G15' 'O15' 'H14' 'H15' 'O14'\n",
                        " 'F14' 'M14' 'M15' 'F15' 'O23' 'I13' 'B13' 'O22' 'O19' 'O18']\n"
                    ]
                }
            ],
            "source": [
                "# randomly select wells to hold out for testing one per treatment group\n",
                "# stratified by treatment group\n",
                "np.random.seed(seed=0)\n",
                "wells_to_hold = (\n",
                "    df1.groupby(\"oneb_Metadata_Treatment_Dose_Inhibitor_Dose\")\n",
                "    .agg(np.random.choice)[\"Metadata_Well\"]\n",
                "    .to_list()\n",
                ")\n",
                "df_holdout = df1[df1[\"Metadata_Well\"].isin(wells_to_hold)]\n",
                "df = df1[~df1[\"Metadata_Well\"].isin(wells_to_hold)]\n",
                "\n",
                "\n",
                "print(\"Wells held out for testing:\", df_holdout[\"Metadata_Well\"].unique())\n",
                "print(\n",
                "    \"Wells to use for training, validation, and testing\", df1[\"Metadata_Well\"].unique()\n",
                ")"
            ]
        },
        {
            "cell_type": "code",
            "execution_count": 11,
            "id": "5a46d3a7",
            "metadata": {},
            "outputs": [
                {
                    "name": "stdout",
                    "output_type": "stream",
                    "text": [
                        "(1832, 1277) (754, 1277) (11523, 1277)\n"
                    ]
                }
            ],
            "source": [
                "# variable test and train set splits\n",
                "# 100% test set\n",
                "# subset the following treatments for test set\n",
                "treatment_holdout = df[\n",
                "    df[\"oneb_Metadata_Treatment_Dose_Inhibitor_Dose\"].isin(test_split_100)\n",
                "]\n",
                "# 75% test set and 25% train set\n",
                "test_set_75 = df[df[\"oneb_Metadata_Treatment_Dose_Inhibitor_Dose\"].isin(test_split_75)]\n",
                "\n",
                "test_100_and_75 = test_split_100 + test_split_75\n",
                "\n",
                "# 50% test set and 50% train set\n",
                "# get all treatments that are not in the_test_set_all and the test_set_75\n",
                "test_set_50 = df[\n",
                "    ~df[\"oneb_Metadata_Treatment_Dose_Inhibitor_Dose\"].isin(test_100_and_75)\n",
                "]\n",
                "\n",
                "print(treatment_holdout.shape, test_set_75.shape, test_set_50.shape)"
            ]
        },
        {
            "cell_type": "code",
            "execution_count": 12,
            "id": "26b32963",
            "metadata": {},
            "outputs": [
                {
                    "name": "stdout",
                    "output_type": "stream",
                    "text": [
                        "Shape for the 100% test set: (1832, 1277)\n",
                        "\n",
                        "Shape for the 75% test set: (188, 1277);\n",
                        "Shape for the 75% train set: (566, 1277)\n",
                        "\n",
                        "Shape for the holdout set: (4891, 1277)\n"
                    ]
                }
            ],
            "source": [
                "# get the train test splits from each group\n",
                "# 100% test set\n",
                "treatment_holdout\n",
                "\n",
                "# 75% test set and 25% train set\n",
                "test_ratio = 0.75\n",
                "training_data_set_75, testing_data_set_75 = train_test_split(\n",
                "    test_set_75,\n",
                "    test_size=test_ratio,\n",
                "    stratify=test_set_75[\"oneb_Metadata_Treatment_Dose_Inhibitor_Dose\"],\n",
                "    random_state=0,\n",
                ")\n",
                "\n",
                "# 50% test set and 50% train set\n",
                "test_ratio = 0.5\n",
                "training_data_set_50, testing_data_set_50 = train_test_split(\n",
                "    test_set_50,\n",
                "    test_size=test_ratio,\n",
                "    stratify=test_set_50[\"oneb_Metadata_Treatment_Dose_Inhibitor_Dose\"],\n",
                "    random_state=0,\n",
                ")\n",
                "\n",
                "# verify that the correct splits have been made\n",
                "# 100% test set\n",
                "print(f\"Shape for the 100% test set: {treatment_holdout.shape}\\n\")\n",
                "\n",
                "# 75% test set and 25% train set\n",
                "print(\n",
                "    f\"Shape for the 75% test set: {training_data_set_75.shape};\\nShape for the 75% train set: {testing_data_set_75.shape}\\n\"\n",
                ")\n",
                "\n",
                "# 50% test set and 50% train set\n",
                "print(f\"Shape for the holdout set: {df_holdout.shape}\")"
            ]
        },
        {
            "cell_type": "code",
            "execution_count": 13,
            "id": "9bf407c4",
            "metadata": {},
            "outputs": [
                {
                    "name": "stdout",
                    "output_type": "stream",
                    "text": [
                        "\n",
                        "    Testing set length: 6328\n",
                        "\n",
                        "    Training set length: 4759\n",
                        "\n",
                        "    Validation set length: 1190\n",
                        "\n",
                        "    Treatment Holdout set length: 1832\n",
                        "\n",
                        "    Holdout set length: 4891\n"
                    ]
                }
            ],
            "source": [
                "treatment_holdout\n",
                "# combine all testing sets together while preserving the index\n",
                "testing_data_set = pd.concat([testing_data_set_75, testing_data_set_50], axis=0)\n",
                "testing_data_set = testing_data_set.sort_index()\n",
                "testing_data_set\n",
                "\n",
                "# combine all training sets together while preserving the index\n",
                "training_data_set = pd.concat([training_data_set_75, training_data_set_50], axis=0)\n",
                "training_data_set = training_data_set.sort_index()\n",
                "training_data_set\n",
                "\n",
                "training_data_set, val_data_set = train_test_split(\n",
                "    training_data_set,\n",
                "    test_size=0.20,\n",
                "    stratify=training_data_set[\"oneb_Metadata_Treatment_Dose_Inhibitor_Dose\"],\n",
                ")\n",
                "print(\n",
                "    f\"\"\"\n",
                "    Testing set length: {len(testing_data_set)}\\n\n",
                "    Training set length: {len(training_data_set)}\\n\n",
                "    Validation set length: {len(val_data_set)}\\n\n",
                "    Treatment Holdout set length: {len(treatment_holdout)}\\n\n",
                "    Holdout set length: {len(df_holdout)}\"\"\"\n",
                ")"
            ]
        },
        {
            "cell_type": "code",
            "execution_count": 14,
            "id": "5da1578c",
            "metadata": {},
            "outputs": [],
            "source": [
                "# get the indexes for the training and testing sets\n",
                "\n",
                "training_data_set_index = training_data_set.index\n",
                "val_data_set_index = val_data_set.index\n",
                "testing_data_set_index = testing_data_set.index\n",
                "treatment_holdout_index = treatment_holdout.index\n",
                "df_holdout_index = df_holdout.index"
            ]
        },
        {
            "cell_type": "code",
            "execution_count": 15,
            "id": "bce398ed",
            "metadata": {},
            "outputs": [
                {
                    "name": "stdout",
                    "output_type": "stream",
                    "text": [
                        "(4759,) (1190,) (6328,) (1832,) (4891,)\n",
                        "19000\n"
                    ]
                }
            ],
            "source": [
                "print(\n",
                "    training_data_set_index.shape,\n",
                "    val_data_set_index.shape,\n",
                "    testing_data_set_index.shape,\n",
                "    treatment_holdout_index.shape,\n",
                "    df_holdout_index.shape,\n",
                ")\n",
                "print(\n",
                "    training_data_set_index.shape[0]\n",
                "    + val_data_set_index.shape[0]\n",
                "    + testing_data_set_index.shape[0]\n",
                "    + treatment_holdout_index.shape[0]\n",
                "    + df_holdout_index.shape[0]\n",
                ")"
            ]
        },
        {
            "cell_type": "code",
            "execution_count": 16,
            "id": "ad856f53",
            "metadata": {},
            "outputs": [
                {
                    "data": {
                        "text/html": [
                            "<div>\n",
                            "<style scoped>\n",
                            "    .dataframe tbody tr th:only-of-type {\n",
                            "        vertical-align: middle;\n",
                            "    }\n",
                            "\n",
                            "    .dataframe tbody tr th {\n",
                            "        vertical-align: top;\n",
                            "    }\n",
                            "\n",
                            "    .dataframe thead th {\n",
                            "        text-align: right;\n",
                            "    }\n",
                            "</style>\n",
                            "<table border=\"1\" class=\"dataframe\">\n",
                            "  <thead>\n",
                            "    <tr style=\"text-align: right;\">\n",
                            "      <th></th>\n",
                            "      <th>labeled_data_index</th>\n",
                            "      <th>label</th>\n",
                            "    </tr>\n",
                            "  </thead>\n",
                            "  <tbody>\n",
                            "    <tr>\n",
                            "      <th>0</th>\n",
                            "      <td>12950</td>\n",
                            "      <td>train</td>\n",
                            "    </tr>\n",
                            "    <tr>\n",
                            "      <th>1</th>\n",
                            "      <td>1512</td>\n",
                            "      <td>train</td>\n",
                            "    </tr>\n",
                            "    <tr>\n",
                            "      <th>2</th>\n",
                            "      <td>2309</td>\n",
                            "      <td>train</td>\n",
                            "    </tr>\n",
                            "    <tr>\n",
                            "      <th>3</th>\n",
                            "      <td>3485</td>\n",
                            "      <td>train</td>\n",
                            "    </tr>\n",
                            "    <tr>\n",
                            "      <th>4</th>\n",
                            "      <td>3017</td>\n",
                            "      <td>train</td>\n",
                            "    </tr>\n",
                            "    <tr>\n",
                            "      <th>...</th>\n",
                            "      <td>...</td>\n",
                            "      <td>...</td>\n",
                            "    </tr>\n",
                            "    <tr>\n",
                            "      <th>18995</th>\n",
                            "      <td>18990</td>\n",
                            "      <td>holdout</td>\n",
                            "    </tr>\n",
                            "    <tr>\n",
                            "      <th>18996</th>\n",
                            "      <td>18993</td>\n",
                            "      <td>holdout</td>\n",
                            "    </tr>\n",
                            "    <tr>\n",
                            "      <th>18997</th>\n",
                            "      <td>18997</td>\n",
                            "      <td>holdout</td>\n",
                            "    </tr>\n",
                            "    <tr>\n",
                            "      <th>18998</th>\n",
                            "      <td>18998</td>\n",
                            "      <td>holdout</td>\n",
                            "    </tr>\n",
                            "    <tr>\n",
                            "      <th>18999</th>\n",
                            "      <td>18999</td>\n",
                            "      <td>holdout</td>\n",
                            "    </tr>\n",
                            "  </tbody>\n",
                            "</table>\n",
                            "<p>19000 rows \u00d7 2 columns</p>\n",
                            "</div>"
                        ],
                        "text/plain": [
                            "       labeled_data_index    label\n",
                            "0                   12950    train\n",
                            "1                    1512    train\n",
                            "2                    2309    train\n",
                            "3                    3485    train\n",
                            "4                    3017    train\n",
                            "...                   ...      ...\n",
                            "18995               18990  holdout\n",
                            "18996               18993  holdout\n",
                            "18997               18997  holdout\n",
                            "18998               18998  holdout\n",
                            "18999               18999  holdout\n",
                            "\n",
                            "[19000 rows x 2 columns]"
                        ]
                    },
                    "execution_count": 16,
                    "metadata": {},
                    "output_type": "execute_result"
                }
            ],
            "source": [
                "# create pandas dataframe with all indexes and their respective labels, stratified by phenotypic class\n",
                "index_data = []\n",
                "for index in training_data_set_index:\n",
                "    index_data.append({\"labeled_data_index\": index, \"label\": \"train\"})\n",
                "for index in val_data_set_index:\n",
                "    index_data.append({\"labeled_data_index\": index, \"label\": \"val\"})\n",
                "for index in testing_data_set_index:\n",
                "    index_data.append({\"labeled_data_index\": index, \"label\": \"test\"})\n",
                "for index in treatment_holdout_index:\n",
                "    index_data.append({\"labeled_data_index\": index, \"label\": \"treatment_holdout\"})\n",
                "for index in df_holdout_index:\n",
                "    index_data.append({\"labeled_data_index\": index, \"label\": \"holdout\"})\n",
                "\n",
                "# make index data a dataframe and sort it by labeled data index\n",
                "index_data = pd.DataFrame(index_data)\n",
                "index_data"
            ]
        },
        {
            "cell_type": "code",
            "execution_count": 17,
            "id": "70798091",
            "metadata": {},
            "outputs": [
                {
                    "data": {
                        "text/plain": [
                            "array(['train', 'val', 'test', 'treatment_holdout', 'holdout'],\n",
                            "      dtype=object)"
                        ]
                    },
                    "execution_count": 17,
                    "metadata": {},
                    "output_type": "execute_result"
                }
            ],
            "source": [
                "index_data[\"label\"].unique()"
            ]
        },
        {
            "cell_type": "code",
            "execution_count": 18,
            "id": "931ee871",
            "metadata": {},
            "outputs": [
                {
                    "name": "stdout",
                    "output_type": "stream",
                    "text": [
                        "../indexes/SHSY5Y/multi_class\n"
                    ]
                }
            ],
            "source": [
                "save_path = pathlib.Path(f\"../indexes/{CELL_TYPE}/multi_class/\")\n",
                "\n",
                "print(save_path)\n",
                "# create save path if it doesn't exist\n",
                "save_path.mkdir(parents=True, exist_ok=True)"
            ]
        },
        {
            "cell_type": "code",
            "execution_count": 19,
            "id": "686d1a5d",
            "metadata": {},
            "outputs": [],
            "source": [
                "# save indexes as tsv file\n",
                "index_data.to_csv(\n",
                "    f\"{save_path}/{params.MODEL_NAME}_data_split_indexes.tsv\", sep=\"\\t\", index=False\n",
                ")"
            ]
        },
        {
            "attachments": {},
            "cell_type": "markdown",
            "id": "5c486e00",
            "metadata": {
                "papermill": {
                    "duration": null,
                    "end_time": null,
                    "exception": null,
                    "start_time": null,
                    "status": "completed"
                },
                "tags": []
            },
            "source": [
                "#### Set up Data to be compatible with model"
            ]
        },
        {
            "attachments": {},
            "cell_type": "markdown",
            "id": "95754baa",
            "metadata": {
                "papermill": {
                    "duration": null,
                    "end_time": null,
                    "exception": null,
                    "start_time": null,
                    "status": "completed"
                },
                "tags": []
            },
            "source": [
                "##### Classification Models:\n",
                "Comment out code if using regression"
            ]
        },
        {
            "cell_type": "code",
            "execution_count": 20,
            "id": "786e3a76",
            "metadata": {
                "execution": {
                    "iopub.execute_input": "2023-10-18T18:19:56.707754Z",
                    "iopub.status.busy": "2023-10-18T18:19:56.707475Z",
                    "iopub.status.idle": "2023-10-18T18:19:56.711213Z",
                    "shell.execute_reply": "2023-10-18T18:19:56.710882Z"
                },
                "papermill": {
                    "duration": null,
                    "end_time": null,
                    "exception": null,
                    "start_time": null,
                    "status": "completed"
                },
                "tags": []
            },
            "outputs": [],
            "source": [
                "# Code snippet for metadata extraction by Jenna Tomkinson\n",
                "df_metadata = list(df.columns[df.columns.str.contains(\"Metadata\")])\n",
                "\n",
                "# define which columns are data and which are descriptive\n",
                "df_descriptive = df1[df_metadata]\n",
                "df_values = df1.drop(columns=df_metadata)"
            ]
        },
        {
            "cell_type": "code",
            "execution_count": 21,
            "id": "5a354640",
            "metadata": {},
            "outputs": [
                {
                    "name": "stdout",
                    "output_type": "stream",
                    "text": [
                        "['apoptosis' 'healthy' 'pyroptosis'] [1000 9000 9000]\n",
                        "[0, 1, 2] [0.9473684210526316, 0.5263157894736843, 0.5263157894736843]\n"
                    ]
                }
            ],
            "source": [
                "# get the class weights for the loss function to account for class imbalance\n",
                "# get the number of samples in each class\n",
                "targets, counts = np.unique(df1[\"labels\"], return_counts=True)\n",
                "print(targets, counts)\n",
                "total_counts = np.sum(counts)\n",
                "# get the class weights\n",
                "class_weights = []\n",
                "class_targets = []\n",
                "for class_name in enumerate(targets):\n",
                "    class_targets.append(class_name[0])\n",
                "for count in enumerate(counts):\n",
                "    class_weights.append(1 - (count[1] / total_counts))\n",
                "print(class_targets, class_weights)\n",
                "# write the class weights to a file for use in the model\n",
                "class_weights_file = pathlib.Path(f\"../class_weights/{CELL_TYPE}/multi_class/\")\n",
                "class_weights_file.mkdir(parents=True, exist_ok=True)\n",
                "with open(f\"{class_weights_file}/class_weights.txt\", \"w\") as filehandle:\n",
                "    for listitem in class_weights:\n",
                "        filehandle.write(\"%s\\n\" % listitem)"
            ]
        },
        {
            "cell_type": "code",
            "execution_count": 22,
            "id": "595afb65",
            "metadata": {
                "execution": {
                    "iopub.execute_input": "2023-10-18T18:19:56.717727Z",
                    "iopub.status.busy": "2023-10-18T18:19:56.717549Z",
                    "iopub.status.idle": "2023-10-18T18:19:56.720945Z",
                    "shell.execute_reply": "2023-10-18T18:19:56.720676Z"
                },
                "papermill": {
                    "duration": null,
                    "end_time": null,
                    "exception": null,
                    "start_time": null,
                    "status": "completed"
                },
                "tags": []
            },
            "outputs": [
                {
                    "data": {
                        "text/plain": [
                            "array([1, 2, 0])"
                        ]
                    },
                    "execution_count": 22,
                    "metadata": {},
                    "output_type": "execute_result"
                }
            ],
            "source": [
                "# Creating label encoder\n",
                "le = preprocessing.LabelEncoder()\n",
                "df_values[\"new_labels\"] = le.fit_transform(df_values[\"labels\"])\n",
                "# get mini dataframe that contains the decoder\n",
                "decoder = df_values[[\"labels\", \"new_labels\"]].drop_duplicates()\n",
                "# split into X and Y where Y are the predictive column and x are the observable data\n",
                "df_values_X = df_values.drop(\n",
                "    [\"new_labels\", \"labels\"],\n",
                "    axis=1,\n",
                ")\n",
                "df_values_Y = df_values[\"new_labels\"]\n",
                "df_values_Y.head()\n",
                "df_values_Y.unique()"
            ]
        },
        {
            "attachments": {},
            "cell_type": "markdown",
            "id": "260a048e",
            "metadata": {
                "papermill": {
                    "duration": null,
                    "end_time": null,
                    "exception": null,
                    "start_time": null,
                    "status": "completed"
                },
                "tags": []
            },
            "source": [
                "#### Split Data - All Models can proceed through this point"
            ]
        },
        {
            "cell_type": "code",
            "execution_count": 23,
            "id": "b5b6d4fa",
            "metadata": {},
            "outputs": [],
            "source": [
                "# split into train and test sets from indexes previously defined\n",
                "\n",
                "X_train = df_values_X.loc[training_data_set_index]\n",
                "X_val = df_values_X.loc[val_data_set_index]\n",
                "X_test = df_values_X.loc[testing_data_set_index]\n",
                "X_holdout = df_values_X.loc[df_holdout_index]\n",
                "X_treatment_holdout = df_values_X.loc[treatment_holdout_index]\n",
                "\n",
                "Y_train = df_values_Y.loc[training_data_set_index]\n",
                "Y_val = df_values_Y.loc[val_data_set_index]\n",
                "Y_test = df_values_Y.loc[testing_data_set_index]\n",
                "Y_holdout = df_values_Y.loc[df_holdout_index]\n",
                "Y_treatment_holdout = df_values_Y.loc[treatment_holdout_index]"
            ]
        },
        {
            "cell_type": "code",
            "execution_count": 24,
            "id": "ae525b7d",
            "metadata": {},
            "outputs": [
                {
                    "data": {
                        "text/plain": [
                            "3"
                        ]
                    },
                    "execution_count": 24,
                    "metadata": {},
                    "output_type": "execute_result"
                }
            ],
            "source": [
                "mlp_params.OUT_FEATURES = len(df_values_Y.unique())\n",
                "mlp_params.OUT_FEATURES"
            ]
        },
        {
            "cell_type": "code",
            "execution_count": 25,
            "id": "9ab7a090",
            "metadata": {},
            "outputs": [],
            "source": [
                "Y_train = torch.tensor(Y_train.values)\n",
                "Y_train = torch.nn.functional.one_hot(\n",
                "    Y_train, num_classes=mlp_params.OUT_FEATURES\n",
                ").float()\n",
                "\n",
                "Y_val = torch.tensor(Y_val.values)\n",
                "Y_val = torch.nn.functional.one_hot(Y_val, num_classes=mlp_params.OUT_FEATURES).float()\n",
                "\n",
                "Y_test = torch.tensor(Y_test.values)\n",
                "Y_test = torch.nn.functional.one_hot(\n",
                "    Y_test, num_classes=mlp_params.OUT_FEATURES\n",
                ").float()\n",
                "\n",
                "Y_holdout = torch.tensor(Y_holdout.values)\n",
                "Y_holdout = torch.nn.functional.one_hot(\n",
                "    Y_holdout, num_classes=mlp_params.OUT_FEATURES\n",
                ").float()\n",
                "\n",
                "Y_treatment_holdout = torch.tensor(Y_treatment_holdout.values)\n",
                "Y_treatment_holdout = torch.nn.functional.one_hot(\n",
                "    Y_treatment_holdout, num_classes=mlp_params.OUT_FEATURES\n",
                ").float()\n",
                "\n",
                "# convert the X dataframes to tensors\n",
                "X_train = torch.tensor(X_train.values)\n",
                "X_val = torch.tensor(X_val.values)\n",
                "X_test = torch.tensor(X_test.values)\n",
                "X_holdout = torch.tensor(X_holdout.values)\n",
                "X_treatment_holdout = torch.tensor(X_treatment_holdout.values)"
            ]
        },
        {
            "cell_type": "code",
            "execution_count": 26,
            "id": "3c4e1896",
            "metadata": {},
            "outputs": [],
            "source": [
                "# produce data objects for train, val and test datasets\n",
                "train_data = torch.utils.data.TensorDataset(X_train, Y_train)\n",
                "val_data = torch.utils.data.TensorDataset(X_val, Y_val)\n",
                "test_data = torch.utils.data.TensorDataset(X_test, Y_test)"
            ]
        },
        {
            "cell_type": "code",
            "execution_count": 27,
            "id": "4382d712",
            "metadata": {
                "execution": {
                    "iopub.execute_input": "2023-10-18T18:16:16.631025Z",
                    "iopub.status.busy": "2023-10-18T18:16:16.630857Z",
                    "iopub.status.idle": "2023-10-18T18:16:16.634504Z",
                    "shell.execute_reply": "2023-10-18T18:16:16.634156Z"
                },
                "papermill": {
                    "duration": null,
                    "end_time": null,
                    "exception": null,
                    "start_time": null,
                    "status": "completed"
                },
                "tags": []
            },
            "outputs": [
                {
                    "name": "stdout",
                    "output_type": "stream",
                    "text": [
                        "Number of in features:  1251\n",
                        "Number of out features:  3\n",
                        "Multi_Class\n"
                    ]
                }
            ],
            "source": [
                "mlp_params.IN_FEATURES = X_train.shape[1]\n",
                "print(\"Number of in features: \", mlp_params.IN_FEATURES)\n",
                "if mlp_params.MODEL_TYPE == \"Regression\":\n",
                "    mlp_params.OUT_FEATURES = 1\n",
                "else:\n",
                "    mlp_params.OUT_FEATURES = len(df_values[\"labels\"].unique())\n",
                "\n",
                "print(\"Number of out features: \", mlp_params.OUT_FEATURES)\n",
                "\n",
                "if mlp_params.OUT_FEATURES > 2:\n",
                "    mlp_params.MODEL_TYPE = \"Multi_Class\"\n",
                "elif mlp_params.OUT_FEATURES == 2:\n",
                "    mlp_params.OUT_FEATURES = mlp_params.OUT_FEATURES - 1\n",
                "    mlp_params.MODEL_TYPE = \"Binary_Classification\"\n",
                "elif mlp_params.OUT_FEATURES == 1:\n",
                "    mlp_params.MODEL_TYPE = \"Regression\"\n",
                "else:\n",
                "    pass\n",
                "print(mlp_params.MODEL_TYPE)"
            ]
        },
        {
            "cell_type": "code",
            "execution_count": 28,
            "id": "77effa5c",
            "metadata": {
                "execution": {
                    "iopub.execute_input": "2023-10-18T18:16:16.642779Z",
                    "iopub.status.busy": "2023-10-18T18:16:16.642487Z",
                    "iopub.status.idle": "2023-10-18T18:16:16.645220Z",
                    "shell.execute_reply": "2023-10-18T18:16:16.644897Z"
                },
                "papermill": {
                    "duration": null,
                    "end_time": null,
                    "exception": null,
                    "start_time": null,
                    "status": "completed"
                },
                "tags": []
            },
            "outputs": [],
            "source": [
                "# convert data class into a dataloader to be compatible with pytorch\n",
                "train_loader = torch.utils.data.DataLoader(\n",
                "    dataset=train_data, batch_size=mlp_params.HYPERPARAMETER_BATCH_SIZE, shuffle=True\n",
                ")\n",
                "valid_loader = torch.utils.data.DataLoader(\n",
                "    dataset=val_data, batch_size=mlp_params.HYPERPARAMETER_BATCH_SIZE, shuffle=False\n",
                ")"
            ]
        },
        {
            "cell_type": "code",
            "execution_count": 29,
            "id": "f471da39",
            "metadata": {},
            "outputs": [
                {
                    "data": {
                        "text/plain": [
                            "3"
                        ]
                    },
                    "execution_count": 29,
                    "metadata": {},
                    "output_type": "execute_result"
                }
            ],
            "source": [
                "mlp_params.OUT_FEATURES"
            ]
        },
        {
            "cell_type": "code",
            "execution_count": 30,
            "id": "cb7635c8",
            "metadata": {
                "execution": {
                    "iopub.execute_input": "2023-10-18T18:16:16.653709Z",
                    "iopub.status.busy": "2023-10-18T18:16:16.653361Z",
                    "iopub.status.idle": "2023-10-18T18:16:16.655989Z",
                    "shell.execute_reply": "2023-10-18T18:16:16.655583Z"
                },
                "papermill": {
                    "duration": null,
                    "end_time": null,
                    "exception": null,
                    "start_time": null,
                    "status": "completed"
                },
                "tags": []
            },
            "outputs": [
                {
                    "name": "stdout",
                    "output_type": "stream",
                    "text": [
                        "cuda\n"
                    ]
                }
            ],
            "source": [
                "# check device\n",
                "print(mlp_params.DEVICE)"
            ]
        },
        {
            "cell_type": "code",
            "execution_count": 31,
            "id": "a969042f",
            "metadata": {
                "execution": {
                    "iopub.execute_input": "2023-10-18T18:16:16.663986Z",
                    "iopub.status.busy": "2023-10-18T18:16:16.663699Z",
                    "iopub.status.idle": "2023-10-18T18:17:37.283791Z",
                    "shell.execute_reply": "2023-10-18T18:17:37.283496Z"
                },
                "papermill": {
                    "duration": null,
                    "end_time": null,
                    "exception": null,
                    "start_time": null,
                    "status": "completed"
                },
                "tags": []
            },
            "outputs": [
                {
                    "name": "stderr",
                    "output_type": "stream",
                    "text": [
                        "[I 2023-12-18 14:03:13,330] A new study created in memory with name: no-name-03e74baa-d2db-4aa4-81e5-7775c403c6b3\n",
                        "[I 2023-12-18 14:03:21,068] Trial 0 finished with value: 0.42277516722679137 and parameters: {'n_layers': 2, 'n_units_l0': 12, 'dropout_0': 0.3815647849192644, 'n_units_l1': 41, 'dropout_1': 0.3283969218161157, 'learning_rate': 0.07110045584852559, 'optimizer': 'SGD'}. Best is trial 0 with value: 0.42277516722679137.\n",
                        "[I 2023-12-18 14:03:27,683] Trial 1 finished with value: 0.5204607114195824 and parameters: {'n_layers': 5, 'n_units_l0': 19, 'dropout_0': 0.1807501988186281, 'n_units_l1': 36, 'dropout_1': 0.283266495928972, 'n_units_l2': 4, 'dropout_2': 0.17080888420069695, 'n_units_l3': 39, 'dropout_3': 0.31653186301271097, 'n_units_l4': 37, 'dropout_4': 0.3848530496243062, 'learning_rate': 0.05601685026033462, 'optimizer': 'Adam'}. Best is trial 0 with value: 0.42277516722679137.\n",
                        "[I 2023-12-18 14:03:34,671] Trial 2 finished with value: 0.520419818162918 and parameters: {'n_layers': 11, 'n_units_l0': 25, 'dropout_0': 0.16354464246403672, 'n_units_l1': 12, 'dropout_1': 0.2770857969327839, 'n_units_l2': 7, 'dropout_2': 0.16628919467850228, 'n_units_l3': 13, 'dropout_3': 0.12054134351611161, 'n_units_l4': 20, 'dropout_4': 0.31318143501336737, 'n_units_l5': 5, 'dropout_5': 0.17172965446632404, 'n_units_l6': 4, 'dropout_6': 0.2031597204467922, 'n_units_l7': 38, 'dropout_7': 0.19125889896936432, 'n_units_l8': 19, 'dropout_8': 0.13727409138413527, 'n_units_l9': 21, 'dropout_9': 0.29912048423959436, 'n_units_l10': 19, 'dropout_10': 0.1930661729173233, 'learning_rate': 0.07145073646453465, 'optimizer': 'RMSprop'}. Best is trial 0 with value: 0.42277516722679137.\n",
                        "[I 2023-12-18 14:03:41,328] Trial 3 finished with value: 0.5221962310373783 and parameters: {'n_layers': 6, 'n_units_l0': 3, 'dropout_0': 0.1419192313363164, 'n_units_l1': 37, 'dropout_1': 0.2081940501266117, 'n_units_l2': 43, 'dropout_2': 0.2366247430555734, 'n_units_l3': 11, 'dropout_3': 0.21307225385377865, 'n_units_l4': 6, 'dropout_4': 0.32181248678821034, 'n_units_l5': 28, 'dropout_5': 0.20427193335339067, 'learning_rate': 0.021180704303037295, 'optimizer': 'Adam'}. Best is trial 0 with value: 0.42277516722679137.\n",
                        "[I 2023-12-18 14:03:48,396] Trial 4 finished with value: 0.5201756566762924 and parameters: {'n_layers': 11, 'n_units_l0': 5, 'dropout_0': 0.1705790099837059, 'n_units_l1': 25, 'dropout_1': 0.3830931034456857, 'n_units_l2': 4, 'dropout_2': 0.21116968535098324, 'n_units_l3': 45, 'dropout_3': 0.2239950830376355, 'n_units_l4': 31, 'dropout_4': 0.163096394026526, 'n_units_l5': 21, 'dropout_5': 0.37460115065311816, 'n_units_l6': 5, 'dropout_6': 0.23560464820330576, 'n_units_l7': 31, 'dropout_7': 0.176302750327241, 'n_units_l8': 16, 'dropout_8': 0.2768349570047359, 'n_units_l9': 30, 'dropout_9': 0.2986769213288085, 'n_units_l10': 38, 'dropout_10': 0.3909576259915918, 'learning_rate': 0.033571752414138574, 'optimizer': 'RMSprop'}. Best is trial 0 with value: 0.42277516722679137.\n",
                        "[I 2023-12-18 14:03:56,593] Trial 5 finished with value: 0.5004930153489113 and parameters: {'n_layers': 10, 'n_units_l0': 12, 'dropout_0': 0.1275215439645881, 'n_units_l1': 29, 'dropout_1': 0.26970510782276513, 'n_units_l2': 26, 'dropout_2': 0.2812898132628638, 'n_units_l3': 28, 'dropout_3': 0.16187704792445579, 'n_units_l4': 26, 'dropout_4': 0.13131006743239262, 'n_units_l5': 5, 'dropout_5': 0.31748360809481635, 'n_units_l6': 17, 'dropout_6': 0.10922226164906951, 'n_units_l7': 48, 'dropout_7': 0.3941183611540393, 'n_units_l8': 32, 'dropout_8': 0.38561226789892766, 'n_units_l9': 19, 'dropout_9': 0.38210156486730207, 'learning_rate': 0.04154896596511521, 'optimizer': 'Adam'}. Best is trial 0 with value: 0.42277516722679137.\n",
                        "[I 2023-12-18 14:03:56,682] Trial 6 pruned. \n",
                        "[I 2023-12-18 14:03:56,855] Trial 7 pruned. \n",
                        "[I 2023-12-18 14:03:57,132] Trial 8 pruned. \n",
                        "[I 2023-12-18 14:03:57,201] Trial 9 pruned. \n",
                        "[I 2023-12-18 14:03:57,278] Trial 10 pruned. \n",
                        "[I 2023-12-18 14:03:58,730] Trial 11 pruned. \n",
                        "[I 2023-12-18 14:03:58,863] Trial 12 pruned. \n",
                        "[I 2023-12-18 14:03:58,977] Trial 13 pruned. \n",
                        "[I 2023-12-18 14:03:59,050] Trial 14 pruned. \n",
                        "[I 2023-12-18 14:03:59,140] Trial 15 pruned. \n",
                        "[I 2023-12-18 14:03:59,268] Trial 16 pruned. \n",
                        "[I 2023-12-18 14:03:59,375] Trial 17 pruned. \n",
                        "[I 2023-12-18 14:03:59,457] Trial 18 pruned. \n",
                        "[I 2023-12-18 14:03:59,609] Trial 19 pruned. \n",
                        "[I 2023-12-18 14:03:59,861] Trial 20 pruned. \n",
                        "[I 2023-12-18 14:04:01,262] Trial 21 pruned. \n",
                        "[I 2023-12-18 14:04:01,392] Trial 22 pruned. \n",
                        "[I 2023-12-18 14:04:01,580] Trial 23 pruned. \n",
                        "[I 2023-12-18 14:04:01,717] Trial 24 pruned. \n",
                        "[I 2023-12-18 14:04:01,836] Trial 25 pruned. \n",
                        "[I 2023-12-18 14:04:03,270] Trial 26 pruned. \n",
                        "[I 2023-12-18 14:04:03,403] Trial 27 pruned. \n",
                        "[I 2023-12-18 14:04:10,183] Trial 28 finished with value: 0.5374116563796997 and parameters: {'n_layers': 5, 'n_units_l0': 30, 'dropout_0': 0.1247474968354527, 'n_units_l1': 16, 'dropout_1': 0.35437438448719716, 'n_units_l2': 23, 'dropout_2': 0.28774705167977227, 'n_units_l3': 9, 'dropout_3': 0.13082843813758888, 'n_units_l4': 24, 'dropout_4': 0.16883661426797267, 'learning_rate': 0.03272719215643274, 'optimizer': 'Adam'}. Best is trial 0 with value: 0.42277516722679137.\n",
                        "[I 2023-12-18 14:04:10,282] Trial 29 pruned. \n",
                        "[I 2023-12-18 14:04:16,944] Trial 30 finished with value: 0.8842977002263069 and parameters: {'n_layers': 2, 'n_units_l0': 22, 'dropout_0': 0.16201135022877533, 'n_units_l1': 46, 'dropout_1': 0.2653957764923334, 'learning_rate': 0.02220609903159271, 'optimizer': 'Adam'}. Best is trial 0 with value: 0.42277516722679137.\n",
                        "[I 2023-12-18 14:04:17,063] Trial 31 pruned. \n",
                        "[I 2023-12-18 14:04:17,259] Trial 32 pruned. \n",
                        "[I 2023-12-18 14:04:17,390] Trial 33 pruned. \n",
                        "[I 2023-12-18 14:04:17,668] Trial 34 pruned. \n",
                        "[I 2023-12-18 14:04:17,785] Trial 35 pruned. \n",
                        "[I 2023-12-18 14:04:17,927] Trial 36 pruned. \n",
                        "[I 2023-12-18 14:04:18,033] Trial 37 pruned. \n",
                        "[I 2023-12-18 14:04:18,212] Trial 38 pruned. \n",
                        "[I 2023-12-18 14:04:18,337] Trial 39 pruned. \n",
                        "[I 2023-12-18 14:04:18,473] Trial 40 pruned. \n",
                        "[I 2023-12-18 14:04:18,574] Trial 41 pruned. \n",
                        "[I 2023-12-18 14:04:18,749] Trial 42 pruned. \n",
                        "[I 2023-12-18 14:04:18,941] Trial 43 pruned. \n",
                        "[I 2023-12-18 14:04:25,675] Trial 44 finished with value: 0.46582644745707513 and parameters: {'n_layers': 3, 'n_units_l0': 9, 'dropout_0': 0.3985037168556618, 'n_units_l1': 23, 'dropout_1': 0.2899745147895422, 'n_units_l2': 17, 'dropout_2': 0.11761831638188305, 'learning_rate': 0.05924194948083274, 'optimizer': 'Adam'}. Best is trial 0 with value: 0.42277516722679137.\n",
                        "[I 2023-12-18 14:04:25,762] Trial 45 pruned. \n",
                        "[I 2023-12-18 14:04:25,848] Trial 46 pruned. \n",
                        "[I 2023-12-18 14:04:25,935] Trial 47 pruned. \n",
                        "[I 2023-12-18 14:04:26,138] Trial 48 pruned. \n",
                        "[I 2023-12-18 14:04:26,286] Trial 49 pruned. \n"
                    ]
                },
                {
                    "name": "stdout",
                    "output_type": "stream",
                    "text": [
                        "Validation Accuracy: 0.0\n",
                        "Validation Loss: 0.44077510133385656\n",
                        "Training Accuracy: 0.0\n",
                        "Training Loss: 0.41484579676389705\n"
                    ]
                },
                {
                    "data": {
                        "text/plain": [
                            "(0.0, 0.44077510133385656, 0.0, 0.41484579676389705)"
                        ]
                    },
                    "execution_count": 31,
                    "metadata": {},
                    "output_type": "execute_result"
                }
            ],
            "source": [
                "# no accuracy function must be loss for regression\n",
                "if mlp_params.MODEL_TYPE == \"Regression\":\n",
                "    mlp_params.METRIC = \"loss\"\n",
                "    pass\n",
                "\n",
                "\n",
                "# wrap the objective function inside of a lambda function to pass args...\n",
                "objective_lambda_func = lambda trial: objective_model_optimizer(\n",
                "    train_loader,\n",
                "    valid_loader,\n",
                "    trial=trial,\n",
                "    params=params,\n",
                "    metric=mlp_params.METRIC,\n",
                "    return_info=False,\n",
                "    class_weights=class_weights,\n",
                ")\n",
                "\n",
                "\n",
                "# Study is the object for model optimization\n",
                "study = optuna.create_study(direction=f\"{mlp_params.DIRECTION}\")\n",
                "# Here I apply the optimize function of the study to the objective function\n",
                "# This optimizes each parameter specified to be optimized from the defined search space\n",
                "study.optimize(objective_lambda_func, n_trials=mlp_params.N_TRIALS)\n",
                "# Prints out the best trial's optimized parameters\n",
                "objective_model_optimizer(\n",
                "    train_loader,\n",
                "    valid_loader,\n",
                "    trial=study.best_trial,\n",
                "    params=params,\n",
                "    metric=mlp_params.METRIC,\n",
                "    return_info=True,\n",
                "    class_weights=class_weights,\n",
                ")"
            ]
        },
        {
            "cell_type": "code",
            "execution_count": 32,
            "id": "b2620589",
            "metadata": {
                "execution": {
                    "iopub.execute_input": "2023-10-18T18:17:37.298015Z",
                    "iopub.status.busy": "2023-10-18T18:17:37.297873Z",
                    "iopub.status.idle": "2023-10-18T18:17:37.750921Z",
                    "shell.execute_reply": "2023-10-18T18:17:37.750533Z"
                },
                "papermill": {
                    "duration": null,
                    "end_time": null,
                    "exception": null,
                    "start_time": null,
                    "status": "completed"
                },
                "tags": []
            },
            "outputs": [
                {
                    "data": {
                        "application/vnd.plotly.v1+json": {
                            "config": {
                                "plotlyServerURL": "https://plot.ly"
                            },
                            "data": [
                                {
                                    "mode": "markers",
                                    "name": "Objective Value",
                                    "type": "scatter",
                                    "x": [
                                        0,
                                        1,
                                        2,
                                        3,
                                        4,
                                        5,
                                        28,
                                        30,
                                        44
                                    ],
                                    "y": [
                                        0.42277516722679137,
                                        0.5204607114195824,
                                        0.520419818162918,
                                        0.5221962310373783,
                                        0.5201756566762924,
                                        0.5004930153489113,
                                        0.5374116563796997,
                                        0.8842977002263069,
                                        0.46582644745707513
                                    ]
                                },
                                {
                                    "mode": "lines",
                                    "name": "Best Value",
                                    "type": "scatter",
                                    "x": [
                                        0,
                                        1,
                                        2,
                                        3,
                                        4,
                                        5,
                                        6,
                                        7,
                                        8,
                                        9,
                                        10,
                                        11,
                                        12,
                                        13,
                                        14,
                                        15,
                                        16,
                                        17,
                                        18,
                                        19,
                                        20,
                                        21,
                                        22,
                                        23,
                                        24,
                                        25,
                                        26,
                                        27,
                                        28,
                                        29,
                                        30,
                                        31,
                                        32,
                                        33,
                                        34,
                                        35,
                                        36,
                                        37,
                                        38,
                                        39,
                                        40,
                                        41,
                                        42,
                                        43,
                                        44,
                                        45,
                                        46,
                                        47,
                                        48,
                                        49
                                    ],
                                    "y": [
                                        0.42277516722679137,
                                        0.42277516722679137,
                                        0.42277516722679137,
                                        0.42277516722679137,
                                        0.42277516722679137,
                                        0.42277516722679137,
                                        0.42277516722679137,
                                        0.42277516722679137,
                                        0.42277516722679137,
                                        0.42277516722679137,
                                        0.42277516722679137,
                                        0.42277516722679137,
                                        0.42277516722679137,
                                        0.42277516722679137,
                                        0.42277516722679137,
                                        0.42277516722679137,
                                        0.42277516722679137,
                                        0.42277516722679137,
                                        0.42277516722679137,
                                        0.42277516722679137,
                                        0.42277516722679137,
                                        0.42277516722679137,
                                        0.42277516722679137,
                                        0.42277516722679137,
                                        0.42277516722679137,
                                        0.42277516722679137,
                                        0.42277516722679137,
                                        0.42277516722679137,
                                        0.42277516722679137,
                                        0.42277516722679137,
                                        0.42277516722679137,
                                        0.42277516722679137,
                                        0.42277516722679137,
                                        0.42277516722679137,
                                        0.42277516722679137,
                                        0.42277516722679137,
                                        0.42277516722679137,
                                        0.42277516722679137,
                                        0.42277516722679137,
                                        0.42277516722679137,
                                        0.42277516722679137,
                                        0.42277516722679137,
                                        0.42277516722679137,
                                        0.42277516722679137,
                                        0.42277516722679137,
                                        0.42277516722679137,
                                        0.42277516722679137,
                                        0.42277516722679137,
                                        0.42277516722679137,
                                        0.42277516722679137
                                    ]
                                },
                                {
                                    "marker": {
                                        "color": "#cccccc"
                                    },
                                    "mode": "markers",
                                    "name": "Infeasible Trial",
                                    "showlegend": false,
                                    "type": "scatter",
                                    "x": [],
                                    "y": []
                                }
                            ],
                            "layout": {
                                "template": {
                                    "data": {
                                        "bar": [
                                            {
                                                "error_x": {
                                                    "color": "#2a3f5f"
                                                },
                                                "error_y": {
                                                    "color": "#2a3f5f"
                                                },
                                                "marker": {
                                                    "line": {
                                                        "color": "#E5ECF6",
                                                        "width": 0.5
                                                    },
                                                    "pattern": {
                                                        "fillmode": "overlay",
                                                        "size": 10,
                                                        "solidity": 0.2
                                                    }
                                                },
                                                "type": "bar"
                                            }
                                        ],
                                        "barpolar": [
                                            {
                                                "marker": {
                                                    "line": {
                                                        "color": "#E5ECF6",
                                                        "width": 0.5
                                                    },
                                                    "pattern": {
                                                        "fillmode": "overlay",
                                                        "size": 10,
                                                        "solidity": 0.2
                                                    }
                                                },
                                                "type": "barpolar"
                                            }
                                        ],
                                        "carpet": [
                                            {
                                                "aaxis": {
                                                    "endlinecolor": "#2a3f5f",
                                                    "gridcolor": "white",
                                                    "linecolor": "white",
                                                    "minorgridcolor": "white",
                                                    "startlinecolor": "#2a3f5f"
                                                },
                                                "baxis": {
                                                    "endlinecolor": "#2a3f5f",
                                                    "gridcolor": "white",
                                                    "linecolor": "white",
                                                    "minorgridcolor": "white",
                                                    "startlinecolor": "#2a3f5f"
                                                },
                                                "type": "carpet"
                                            }
                                        ],
                                        "choropleth": [
                                            {
                                                "colorbar": {
                                                    "outlinewidth": 0,
                                                    "ticks": ""
                                                },
                                                "type": "choropleth"
                                            }
                                        ],
                                        "contour": [
                                            {
                                                "colorbar": {
                                                    "outlinewidth": 0,
                                                    "ticks": ""
                                                },
                                                "colorscale": [
                                                    [
                                                        0,
                                                        "#0d0887"
                                                    ],
                                                    [
                                                        0.1111111111111111,
                                                        "#46039f"
                                                    ],
                                                    [
                                                        0.2222222222222222,
                                                        "#7201a8"
                                                    ],
                                                    [
                                                        0.3333333333333333,
                                                        "#9c179e"
                                                    ],
                                                    [
                                                        0.4444444444444444,
                                                        "#bd3786"
                                                    ],
                                                    [
                                                        0.5555555555555556,
                                                        "#d8576b"
                                                    ],
                                                    [
                                                        0.6666666666666666,
                                                        "#ed7953"
                                                    ],
                                                    [
                                                        0.7777777777777778,
                                                        "#fb9f3a"
                                                    ],
                                                    [
                                                        0.8888888888888888,
                                                        "#fdca26"
                                                    ],
                                                    [
                                                        1,
                                                        "#f0f921"
                                                    ]
                                                ],
                                                "type": "contour"
                                            }
                                        ],
                                        "contourcarpet": [
                                            {
                                                "colorbar": {
                                                    "outlinewidth": 0,
                                                    "ticks": ""
                                                },
                                                "type": "contourcarpet"
                                            }
                                        ],
                                        "heatmap": [
                                            {
                                                "colorbar": {
                                                    "outlinewidth": 0,
                                                    "ticks": ""
                                                },
                                                "colorscale": [
                                                    [
                                                        0,
                                                        "#0d0887"
                                                    ],
                                                    [
                                                        0.1111111111111111,
                                                        "#46039f"
                                                    ],
                                                    [
                                                        0.2222222222222222,
                                                        "#7201a8"
                                                    ],
                                                    [
                                                        0.3333333333333333,
                                                        "#9c179e"
                                                    ],
                                                    [
                                                        0.4444444444444444,
                                                        "#bd3786"
                                                    ],
                                                    [
                                                        0.5555555555555556,
                                                        "#d8576b"
                                                    ],
                                                    [
                                                        0.6666666666666666,
                                                        "#ed7953"
                                                    ],
                                                    [
                                                        0.7777777777777778,
                                                        "#fb9f3a"
                                                    ],
                                                    [
                                                        0.8888888888888888,
                                                        "#fdca26"
                                                    ],
                                                    [
                                                        1,
                                                        "#f0f921"
                                                    ]
                                                ],
                                                "type": "heatmap"
                                            }
                                        ],
                                        "heatmapgl": [
                                            {
                                                "colorbar": {
                                                    "outlinewidth": 0,
                                                    "ticks": ""
                                                },
                                                "colorscale": [
                                                    [
                                                        0,
                                                        "#0d0887"
                                                    ],
                                                    [
                                                        0.1111111111111111,
                                                        "#46039f"
                                                    ],
                                                    [
                                                        0.2222222222222222,
                                                        "#7201a8"
                                                    ],
                                                    [
                                                        0.3333333333333333,
                                                        "#9c179e"
                                                    ],
                                                    [
                                                        0.4444444444444444,
                                                        "#bd3786"
                                                    ],
                                                    [
                                                        0.5555555555555556,
                                                        "#d8576b"
                                                    ],
                                                    [
                                                        0.6666666666666666,
                                                        "#ed7953"
                                                    ],
                                                    [
                                                        0.7777777777777778,
                                                        "#fb9f3a"
                                                    ],
                                                    [
                                                        0.8888888888888888,
                                                        "#fdca26"
                                                    ],
                                                    [
                                                        1,
                                                        "#f0f921"
                                                    ]
                                                ],
                                                "type": "heatmapgl"
                                            }
                                        ],
                                        "histogram": [
                                            {
                                                "marker": {
                                                    "pattern": {
                                                        "fillmode": "overlay",
                                                        "size": 10,
                                                        "solidity": 0.2
                                                    }
                                                },
                                                "type": "histogram"
                                            }
                                        ],
                                        "histogram2d": [
                                            {
                                                "colorbar": {
                                                    "outlinewidth": 0,
                                                    "ticks": ""
                                                },
                                                "colorscale": [
                                                    [
                                                        0,
                                                        "#0d0887"
                                                    ],
                                                    [
                                                        0.1111111111111111,
                                                        "#46039f"
                                                    ],
                                                    [
                                                        0.2222222222222222,
                                                        "#7201a8"
                                                    ],
                                                    [
                                                        0.3333333333333333,
                                                        "#9c179e"
                                                    ],
                                                    [
                                                        0.4444444444444444,
                                                        "#bd3786"
                                                    ],
                                                    [
                                                        0.5555555555555556,
                                                        "#d8576b"
                                                    ],
                                                    [
                                                        0.6666666666666666,
                                                        "#ed7953"
                                                    ],
                                                    [
                                                        0.7777777777777778,
                                                        "#fb9f3a"
                                                    ],
                                                    [
                                                        0.8888888888888888,
                                                        "#fdca26"
                                                    ],
                                                    [
                                                        1,
                                                        "#f0f921"
                                                    ]
                                                ],
                                                "type": "histogram2d"
                                            }
                                        ],
                                        "histogram2dcontour": [
                                            {
                                                "colorbar": {
                                                    "outlinewidth": 0,
                                                    "ticks": ""
                                                },
                                                "colorscale": [
                                                    [
                                                        0,
                                                        "#0d0887"
                                                    ],
                                                    [
                                                        0.1111111111111111,
                                                        "#46039f"
                                                    ],
                                                    [
                                                        0.2222222222222222,
                                                        "#7201a8"
                                                    ],
                                                    [
                                                        0.3333333333333333,
                                                        "#9c179e"
                                                    ],
                                                    [
                                                        0.4444444444444444,
                                                        "#bd3786"
                                                    ],
                                                    [
                                                        0.5555555555555556,
                                                        "#d8576b"
                                                    ],
                                                    [
                                                        0.6666666666666666,
                                                        "#ed7953"
                                                    ],
                                                    [
                                                        0.7777777777777778,
                                                        "#fb9f3a"
                                                    ],
                                                    [
                                                        0.8888888888888888,
                                                        "#fdca26"
                                                    ],
                                                    [
                                                        1,
                                                        "#f0f921"
                                                    ]
                                                ],
                                                "type": "histogram2dcontour"
                                            }
                                        ],
                                        "mesh3d": [
                                            {
                                                "colorbar": {
                                                    "outlinewidth": 0,
                                                    "ticks": ""
                                                },
                                                "type": "mesh3d"
                                            }
                                        ],
                                        "parcoords": [
                                            {
                                                "line": {
                                                    "colorbar": {
                                                        "outlinewidth": 0,
                                                        "ticks": ""
                                                    }
                                                },
                                                "type": "parcoords"
                                            }
                                        ],
                                        "pie": [
                                            {
                                                "automargin": true,
                                                "type": "pie"
                                            }
                                        ],
                                        "scatter": [
                                            {
                                                "fillpattern": {
                                                    "fillmode": "overlay",
                                                    "size": 10,
                                                    "solidity": 0.2
                                                },
                                                "type": "scatter"
                                            }
                                        ],
                                        "scatter3d": [
                                            {
                                                "line": {
                                                    "colorbar": {
                                                        "outlinewidth": 0,
                                                        "ticks": ""
                                                    }
                                                },
                                                "marker": {
                                                    "colorbar": {
                                                        "outlinewidth": 0,
                                                        "ticks": ""
                                                    }
                                                },
                                                "type": "scatter3d"
                                            }
                                        ],
                                        "scattercarpet": [
                                            {
                                                "marker": {
                                                    "colorbar": {
                                                        "outlinewidth": 0,
                                                        "ticks": ""
                                                    }
                                                },
                                                "type": "scattercarpet"
                                            }
                                        ],
                                        "scattergeo": [
                                            {
                                                "marker": {
                                                    "colorbar": {
                                                        "outlinewidth": 0,
                                                        "ticks": ""
                                                    }
                                                },
                                                "type": "scattergeo"
                                            }
                                        ],
                                        "scattergl": [
                                            {
                                                "marker": {
                                                    "colorbar": {
                                                        "outlinewidth": 0,
                                                        "ticks": ""
                                                    }
                                                },
                                                "type": "scattergl"
                                            }
                                        ],
                                        "scattermapbox": [
                                            {
                                                "marker": {
                                                    "colorbar": {
                                                        "outlinewidth": 0,
                                                        "ticks": ""
                                                    }
                                                },
                                                "type": "scattermapbox"
                                            }
                                        ],
                                        "scatterpolar": [
                                            {
                                                "marker": {
                                                    "colorbar": {
                                                        "outlinewidth": 0,
                                                        "ticks": ""
                                                    }
                                                },
                                                "type": "scatterpolar"
                                            }
                                        ],
                                        "scatterpolargl": [
                                            {
                                                "marker": {
                                                    "colorbar": {
                                                        "outlinewidth": 0,
                                                        "ticks": ""
                                                    }
                                                },
                                                "type": "scatterpolargl"
                                            }
                                        ],
                                        "scatterternary": [
                                            {
                                                "marker": {
                                                    "colorbar": {
                                                        "outlinewidth": 0,
                                                        "ticks": ""
                                                    }
                                                },
                                                "type": "scatterternary"
                                            }
                                        ],
                                        "surface": [
                                            {
                                                "colorbar": {
                                                    "outlinewidth": 0,
                                                    "ticks": ""
                                                },
                                                "colorscale": [
                                                    [
                                                        0,
                                                        "#0d0887"
                                                    ],
                                                    [
                                                        0.1111111111111111,
                                                        "#46039f"
                                                    ],
                                                    [
                                                        0.2222222222222222,
                                                        "#7201a8"
                                                    ],
                                                    [
                                                        0.3333333333333333,
                                                        "#9c179e"
                                                    ],
                                                    [
                                                        0.4444444444444444,
                                                        "#bd3786"
                                                    ],
                                                    [
                                                        0.5555555555555556,
                                                        "#d8576b"
                                                    ],
                                                    [
                                                        0.6666666666666666,
                                                        "#ed7953"
                                                    ],
                                                    [
                                                        0.7777777777777778,
                                                        "#fb9f3a"
                                                    ],
                                                    [
                                                        0.8888888888888888,
                                                        "#fdca26"
                                                    ],
                                                    [
                                                        1,
                                                        "#f0f921"
                                                    ]
                                                ],
                                                "type": "surface"
                                            }
                                        ],
                                        "table": [
                                            {
                                                "cells": {
                                                    "fill": {
                                                        "color": "#EBF0F8"
                                                    },
                                                    "line": {
                                                        "color": "white"
                                                    }
                                                },
                                                "header": {
                                                    "fill": {
                                                        "color": "#C8D4E3"
                                                    },
                                                    "line": {
                                                        "color": "white"
                                                    }
                                                },
                                                "type": "table"
                                            }
                                        ]
                                    },
                                    "layout": {
                                        "annotationdefaults": {
                                            "arrowcolor": "#2a3f5f",
                                            "arrowhead": 0,
                                            "arrowwidth": 1
                                        },
                                        "autotypenumbers": "strict",
                                        "coloraxis": {
                                            "colorbar": {
                                                "outlinewidth": 0,
                                                "ticks": ""
                                            }
                                        },
                                        "colorscale": {
                                            "diverging": [
                                                [
                                                    0,
                                                    "#8e0152"
                                                ],
                                                [
                                                    0.1,
                                                    "#c51b7d"
                                                ],
                                                [
                                                    0.2,
                                                    "#de77ae"
                                                ],
                                                [
                                                    0.3,
                                                    "#f1b6da"
                                                ],
                                                [
                                                    0.4,
                                                    "#fde0ef"
                                                ],
                                                [
                                                    0.5,
                                                    "#f7f7f7"
                                                ],
                                                [
                                                    0.6,
                                                    "#e6f5d0"
                                                ],
                                                [
                                                    0.7,
                                                    "#b8e186"
                                                ],
                                                [
                                                    0.8,
                                                    "#7fbc41"
                                                ],
                                                [
                                                    0.9,
                                                    "#4d9221"
                                                ],
                                                [
                                                    1,
                                                    "#276419"
                                                ]
                                            ],
                                            "sequential": [
                                                [
                                                    0,
                                                    "#0d0887"
                                                ],
                                                [
                                                    0.1111111111111111,
                                                    "#46039f"
                                                ],
                                                [
                                                    0.2222222222222222,
                                                    "#7201a8"
                                                ],
                                                [
                                                    0.3333333333333333,
                                                    "#9c179e"
                                                ],
                                                [
                                                    0.4444444444444444,
                                                    "#bd3786"
                                                ],
                                                [
                                                    0.5555555555555556,
                                                    "#d8576b"
                                                ],
                                                [
                                                    0.6666666666666666,
                                                    "#ed7953"
                                                ],
                                                [
                                                    0.7777777777777778,
                                                    "#fb9f3a"
                                                ],
                                                [
                                                    0.8888888888888888,
                                                    "#fdca26"
                                                ],
                                                [
                                                    1,
                                                    "#f0f921"
                                                ]
                                            ],
                                            "sequentialminus": [
                                                [
                                                    0,
                                                    "#0d0887"
                                                ],
                                                [
                                                    0.1111111111111111,
                                                    "#46039f"
                                                ],
                                                [
                                                    0.2222222222222222,
                                                    "#7201a8"
                                                ],
                                                [
                                                    0.3333333333333333,
                                                    "#9c179e"
                                                ],
                                                [
                                                    0.4444444444444444,
                                                    "#bd3786"
                                                ],
                                                [
                                                    0.5555555555555556,
                                                    "#d8576b"
                                                ],
                                                [
                                                    0.6666666666666666,
                                                    "#ed7953"
                                                ],
                                                [
                                                    0.7777777777777778,
                                                    "#fb9f3a"
                                                ],
                                                [
                                                    0.8888888888888888,
                                                    "#fdca26"
                                                ],
                                                [
                                                    1,
                                                    "#f0f921"
                                                ]
                                            ]
                                        },
                                        "colorway": [
                                            "#636efa",
                                            "#EF553B",
                                            "#00cc96",
                                            "#ab63fa",
                                            "#FFA15A",
                                            "#19d3f3",
                                            "#FF6692",
                                            "#B6E880",
                                            "#FF97FF",
                                            "#FECB52"
                                        ],
                                        "font": {
                                            "color": "#2a3f5f"
                                        },
                                        "geo": {
                                            "bgcolor": "white",
                                            "lakecolor": "white",
                                            "landcolor": "#E5ECF6",
                                            "showlakes": true,
                                            "showland": true,
                                            "subunitcolor": "white"
                                        },
                                        "hoverlabel": {
                                            "align": "left"
                                        },
                                        "hovermode": "closest",
                                        "mapbox": {
                                            "style": "light"
                                        },
                                        "paper_bgcolor": "white",
                                        "plot_bgcolor": "#E5ECF6",
                                        "polar": {
                                            "angularaxis": {
                                                "gridcolor": "white",
                                                "linecolor": "white",
                                                "ticks": ""
                                            },
                                            "bgcolor": "#E5ECF6",
                                            "radialaxis": {
                                                "gridcolor": "white",
                                                "linecolor": "white",
                                                "ticks": ""
                                            }
                                        },
                                        "scene": {
                                            "xaxis": {
                                                "backgroundcolor": "#E5ECF6",
                                                "gridcolor": "white",
                                                "gridwidth": 2,
                                                "linecolor": "white",
                                                "showbackground": true,
                                                "ticks": "",
                                                "zerolinecolor": "white"
                                            },
                                            "yaxis": {
                                                "backgroundcolor": "#E5ECF6",
                                                "gridcolor": "white",
                                                "gridwidth": 2,
                                                "linecolor": "white",
                                                "showbackground": true,
                                                "ticks": "",
                                                "zerolinecolor": "white"
                                            },
                                            "zaxis": {
                                                "backgroundcolor": "#E5ECF6",
                                                "gridcolor": "white",
                                                "gridwidth": 2,
                                                "linecolor": "white",
                                                "showbackground": true,
                                                "ticks": "",
                                                "zerolinecolor": "white"
                                            }
                                        },
                                        "shapedefaults": {
                                            "line": {
                                                "color": "#2a3f5f"
                                            }
                                        },
                                        "ternary": {
                                            "aaxis": {
                                                "gridcolor": "white",
                                                "linecolor": "white",
                                                "ticks": ""
                                            },
                                            "baxis": {
                                                "gridcolor": "white",
                                                "linecolor": "white",
                                                "ticks": ""
                                            },
                                            "bgcolor": "#E5ECF6",
                                            "caxis": {
                                                "gridcolor": "white",
                                                "linecolor": "white",
                                                "ticks": ""
                                            }
                                        },
                                        "title": {
                                            "x": 0.05
                                        },
                                        "xaxis": {
                                            "automargin": true,
                                            "gridcolor": "white",
                                            "linecolor": "white",
                                            "ticks": "",
                                            "title": {
                                                "standoff": 15
                                            },
                                            "zerolinecolor": "white",
                                            "zerolinewidth": 2
                                        },
                                        "yaxis": {
                                            "automargin": true,
                                            "gridcolor": "white",
                                            "linecolor": "white",
                                            "ticks": "",
                                            "title": {
                                                "standoff": 15
                                            },
                                            "zerolinecolor": "white",
                                            "zerolinewidth": 2
                                        }
                                    }
                                },
                                "title": {
                                    "text": "Optimization History Plot"
                                },
                                "xaxis": {
                                    "title": {
                                        "text": "Trial"
                                    }
                                },
                                "yaxis": {
                                    "title": {
                                        "text": "Objective Value"
                                    }
                                }
                            }
                        }
                    },
                    "metadata": {},
                    "output_type": "display_data"
                }
            ],
            "source": [
                "# create graph directory for this model\n",
                "graph_path = pathlib.Path(\n",
                "    f\"../../figures/{mlp_params.MODEL_TYPE}/{mlp_params.MODEL_NAME}/{mlp_params.CELL_TYPE}/hyperparameter_optimization\"\n",
                ")\n",
                "\n",
                "pathlib.Path(graph_path).mkdir(parents=True, exist_ok=True)\n",
                "fig = optuna.visualization.plot_optimization_history(study)\n",
                "\n",
                "\n",
                "graph_path = f\"{graph_path}/plot_optimization_history_graph\"\n",
                "\n",
                "fig.write_image(pathlib.Path(f\"{graph_path}.png\"))\n",
                "fig.show()"
            ]
        },
        {
            "cell_type": "code",
            "execution_count": 33,
            "id": "92103de1",
            "metadata": {
                "execution": {
                    "iopub.execute_input": "2023-10-18T18:17:37.839841Z",
                    "iopub.status.busy": "2023-10-18T18:17:37.839637Z",
                    "iopub.status.idle": "2023-10-18T18:17:37.910906Z",
                    "shell.execute_reply": "2023-10-18T18:17:37.910591Z"
                },
                "papermill": {
                    "duration": null,
                    "end_time": null,
                    "exception": null,
                    "start_time": null,
                    "status": "completed"
                },
                "tags": []
            },
            "outputs": [
                {
                    "data": {
                        "application/vnd.plotly.v1+json": {
                            "config": {
                                "plotlyServerURL": "https://plot.ly"
                            },
                            "data": [
                                {
                                    "marker": {
                                        "maxdisplayed": 10
                                    },
                                    "mode": "lines+markers",
                                    "name": "Trial0",
                                    "type": "scatter",
                                    "x": [
                                        0,
                                        1,
                                        2,
                                        3,
                                        4,
                                        5,
                                        6,
                                        7,
                                        8,
                                        9,
                                        10,
                                        11,
                                        12,
                                        13,
                                        14,
                                        15,
                                        16,
                                        17,
                                        18,
                                        19,
                                        20,
                                        21,
                                        22,
                                        23,
                                        24,
                                        25,
                                        26,
                                        27,
                                        28,
                                        29,
                                        30,
                                        31,
                                        32,
                                        33,
                                        34,
                                        35,
                                        36,
                                        37,
                                        38,
                                        39,
                                        40,
                                        41,
                                        42,
                                        43,
                                        44,
                                        45,
                                        46,
                                        47,
                                        48,
                                        49,
                                        50,
                                        51,
                                        52,
                                        53,
                                        54,
                                        55,
                                        56,
                                        57,
                                        58,
                                        59,
                                        60,
                                        61,
                                        62,
                                        63,
                                        64,
                                        65,
                                        66,
                                        67,
                                        68,
                                        69,
                                        70,
                                        71,
                                        72,
                                        73,
                                        74,
                                        75,
                                        76,
                                        77,
                                        78,
                                        79,
                                        80,
                                        81,
                                        82,
                                        83,
                                        84,
                                        85,
                                        86,
                                        87,
                                        88,
                                        89,
                                        90,
                                        91,
                                        92,
                                        93,
                                        94,
                                        95,
                                        96,
                                        97,
                                        98,
                                        99
                                    ],
                                    "y": [
                                        0.6000160574913025,
                                        0.5906903147697449,
                                        0.5830899178981781,
                                        0.5765949413180351,
                                        0.5709011197090149,
                                        0.5658124536275864,
                                        0.5611595341137477,
                                        0.5568097233772278,
                                        0.5526873999171786,
                                        0.5487628787755966,
                                        0.5449653430418535,
                                        0.5413216563562552,
                                        0.5378656203930194,
                                        0.5345011417354856,
                                        0.5312983353932699,
                                        0.5282249422743917,
                                        0.5252750700010973,
                                        0.5224831427137057,
                                        0.5197991932693281,
                                        0.5172041602432728,
                                        0.5147223699660528,
                                        0.5123267017982223,
                                        0.5100065780722577,
                                        0.50779831285278,
                                        0.5056193464994431,
                                        0.5034963780870805,
                                        0.5014358405713681,
                                        0.49946662730404306,
                                        0.4975471856265232,
                                        0.4957064722975095,
                                        0.4939225426604671,
                                        0.4921860033646226,
                                        0.49050347913395276,
                                        0.488850614603828,
                                        0.4872032753058842,
                                        0.48561198595497346,
                                        0.48404802422265747,
                                        0.4825154625271496,
                                        0.48100251799974686,
                                        0.47951651401817796,
                                        0.47804216240964287,
                                        0.4766028182847159,
                                        0.47517958699270735,
                                        0.47377440028569917,
                                        0.47239678071604835,
                                        0.4710322152013364,
                                        0.46968516231851376,
                                        0.4683542748292287,
                                        0.46703759778519066,
                                        0.46575175911188127,
                                        0.46447444575674396,
                                        0.4632148997714886,
                                        0.46196885491317174,
                                        0.4607369361652268,
                                        0.4595602647824721,
                                        0.4583931030439479,
                                        0.457255062304045,
                                        0.45610302198549796,
                                        0.45497929696309364,
                                        0.4538759239017963,
                                        0.4527933817417895,
                                        0.45172854657134703,
                                        0.4506816752846279,
                                        0.44964777678251266,
                                        0.4486361638857768,
                                        0.4476392474589926,
                                        0.44666265151393947,
                                        0.44570162979995503,
                                        0.4447314471438311,
                                        0.4437853087271963,
                                        0.44285600936748615,
                                        0.44195951521396637,
                                        0.4410832416113109,
                                        0.4401901207260183,
                                        0.43933318853378295,
                                        0.4384769624785373,
                                        0.43763748778925315,
                                        0.4368006258438795,
                                        0.4359978171466272,
                                        0.43521187379956244,
                                        0.4344468527002099,
                                        0.433684135173879,
                                        0.43295063024543856,
                                        0.4322038356746946,
                                        0.4315080265788471,
                                        0.43081266138442725,
                                        0.43015262450294933,
                                        0.42950167727064004,
                                        0.4288746928900815,
                                        0.4282321890195211,
                                        0.4275901250459336,
                                        0.42700295182673825,
                                        0.4264014890437485,
                                        0.42585719329245547,
                                        0.425322687155322,
                                        0.4247869274889429,
                                        0.42427819598581373,
                                        0.423770046811931,
                                        0.4232540809445911,
                                        0.42277516722679137
                                    ]
                                },
                                {
                                    "marker": {
                                        "maxdisplayed": 10
                                    },
                                    "mode": "lines+markers",
                                    "name": "Trial1",
                                    "type": "scatter",
                                    "x": [
                                        0,
                                        1,
                                        2,
                                        3,
                                        4,
                                        5,
                                        6,
                                        7,
                                        8,
                                        9,
                                        10,
                                        11,
                                        12,
                                        13,
                                        14,
                                        15,
                                        16,
                                        17,
                                        18,
                                        19,
                                        20,
                                        21,
                                        22,
                                        23,
                                        24,
                                        25,
                                        26,
                                        27,
                                        28,
                                        29,
                                        30,
                                        31,
                                        32,
                                        33,
                                        34,
                                        35,
                                        36,
                                        37,
                                        38,
                                        39,
                                        40,
                                        41,
                                        42,
                                        43,
                                        44,
                                        45,
                                        46,
                                        47,
                                        48,
                                        49,
                                        50,
                                        51,
                                        52,
                                        53,
                                        54,
                                        55,
                                        56,
                                        57,
                                        58,
                                        59,
                                        60,
                                        61,
                                        62,
                                        63,
                                        64,
                                        65,
                                        66,
                                        67,
                                        68,
                                        69,
                                        70,
                                        71,
                                        72,
                                        73,
                                        74,
                                        75,
                                        76,
                                        77,
                                        78,
                                        79,
                                        80,
                                        81,
                                        82,
                                        83,
                                        84,
                                        85,
                                        86,
                                        87,
                                        88,
                                        89,
                                        90,
                                        91,
                                        92,
                                        93,
                                        94,
                                        95,
                                        96,
                                        97,
                                        98,
                                        99
                                    ],
                                    "y": [
                                        0.5576372742652893,
                                        0.5439179241657257,
                                        0.5362022320429484,
                                        0.532465897500515,
                                        0.5302575051784515,
                                        0.5285462886095047,
                                        0.5273698440619877,
                                        0.5264504514634609,
                                        0.5257249044047462,
                                        0.5251430779695511,
                                        0.5246667292985049,
                                        0.5242698788642883,
                                        0.523934733409148,
                                        0.5236470358712333,
                                        0.52339715162913,
                                        0.5231791250407696,
                                        0.5229881177930271,
                                        0.5228171315458086,
                                        0.5226651304646542,
                                        0.5225269839167594,
                                        0.5224019629614693,
                                        0.5222891067916696,
                                        0.5221856780674147,
                                        0.522090325752894,
                                        0.5220043802261353,
                                        0.5219232967266669,
                                        0.5218486134652738,
                                        0.5217803184475217,
                                        0.5217158907446368,
                                        0.5216557105382283,
                                        0.521600486770753,
                                        0.5215473892167211,
                                        0.5214985518744497,
                                        0.5214525399839177,
                                        0.521408760547638,
                                        0.5213667386107974,
                                        0.5213283711188549,
                                        0.5212911061550441,
                                        0.5212556620438894,
                                        0.5212217606604099,
                                        0.5211906622095805,
                                        0.5211617939528965,
                                        0.5211336300816647,
                                        0.5211059586568312,
                                        0.5210800634490119,
                                        0.521055884335352,
                                        0.5210314114043053,
                                        0.521007789298892,
                                        0.5209858514824692,
                                        0.5209648215770721,
                                        0.5209440664917815,
                                        0.5209242489475471,
                                        0.5209058686247412,
                                        0.5208888213943552,
                                        0.5208714766935869,
                                        0.5208555459976196,
                                        0.5208404623625571,
                                        0.5208248182617384,
                                        0.5208093099674936,
                                        0.5207941859960556,
                                        0.5207800103015587,
                                        0.5207660669280637,
                                        0.5207524318543691,
                                        0.5207402505911887,
                                        0.520727578493265,
                                        0.5207151571909586,
                                        0.5207029758994259,
                                        0.5206932048587238,
                                        0.5206818999587626,
                                        0.520672681927681,
                                        0.5206617914455037,
                                        0.5206513735983107,
                                        0.5206433893883065,
                                        0.5206333205506608,
                                        0.5206235865751903,
                                        0.5206144577578494,
                                        0.5206090846619049,
                                        0.520601090330344,
                                        0.5205923269821119,
                                        0.5205865487456321,
                                        0.5205781025651061,
                                        0.5205706125352441,
                                        0.5205649711999548,
                                        0.5205585112174352,
                                        0.520551265337888,
                                        0.5205437166746273,
                                        0.5205379087349464,
                                        0.520530759610913,
                                        0.5205237443527478,
                                        0.5205183615287144,
                                        0.5205123329555595,
                                        0.5205056427613549,
                                        0.5205000757530172,
                                        0.520494005464493,
                                        0.5204877658894188,
                                        0.5204835288847486,
                                        0.5204777542463283,
                                        0.5204718371435088,
                                        0.5204661226633823,
                                        0.5204607114195824
                                    ]
                                },
                                {
                                    "marker": {
                                        "maxdisplayed": 10
                                    },
                                    "mode": "lines+markers",
                                    "name": "Trial2",
                                    "type": "scatter",
                                    "x": [
                                        0,
                                        1,
                                        2,
                                        3,
                                        4,
                                        5,
                                        6,
                                        7,
                                        8,
                                        9,
                                        10,
                                        11,
                                        12,
                                        13,
                                        14,
                                        15,
                                        16,
                                        17,
                                        18,
                                        19,
                                        20,
                                        21,
                                        22,
                                        23,
                                        24,
                                        25,
                                        26,
                                        27,
                                        28,
                                        29,
                                        30,
                                        31,
                                        32,
                                        33,
                                        34,
                                        35,
                                        36,
                                        37,
                                        38,
                                        39,
                                        40,
                                        41,
                                        42,
                                        43,
                                        44,
                                        45,
                                        46,
                                        47,
                                        48,
                                        49,
                                        50,
                                        51,
                                        52,
                                        53,
                                        54,
                                        55,
                                        56,
                                        57,
                                        58,
                                        59,
                                        60,
                                        61,
                                        62,
                                        63,
                                        64,
                                        65,
                                        66,
                                        67,
                                        68,
                                        69,
                                        70,
                                        71,
                                        72,
                                        73,
                                        74,
                                        75,
                                        76,
                                        77,
                                        78,
                                        79,
                                        80,
                                        81,
                                        82,
                                        83,
                                        84,
                                        85,
                                        86,
                                        87,
                                        88,
                                        89,
                                        90,
                                        91,
                                        92,
                                        93,
                                        94,
                                        95,
                                        96,
                                        97,
                                        98,
                                        99
                                    ],
                                    "y": [
                                        0.5324745774269104,
                                        0.5262220352888107,
                                        0.5241210460662842,
                                        0.5230691209435463,
                                        0.5224407970905304,
                                        0.5220775008201599,
                                        0.5218473970890045,
                                        0.5216085948050022,
                                        0.5214190979798635,
                                        0.5212772250175476,
                                        0.5211663842201233,
                                        0.5210901151100794,
                                        0.5210047043286837,
                                        0.5209380175386157,
                                        0.5209090252717336,
                                        0.5208525508642197,
                                        0.5207985779818367,
                                        0.5207523322767682,
                                        0.5207117372437527,
                                        0.5206741183996201,
                                        0.520640662738255,
                                        0.5206089331345125,
                                        0.5205887309882952,
                                        0.5205682640274366,
                                        0.5205417382717132,
                                        0.52052153303073,
                                        0.5205024072417507,
                                        0.5204845081482615,
                                        0.5204684734344482,
                                        0.5204600036144257,
                                        0.5204665901199463,
                                        0.520460769534111,
                                        0.5204450849330786,
                                        0.5204608922495562,
                                        0.5204490142209189,
                                        0.5204430702659819,
                                        0.5204381386975985,
                                        0.5204361990878457,
                                        0.5204264292350183,
                                        0.5204154208302498,
                                        0.5204032804907822,
                                        0.5204030112141654,
                                        0.5203929598941359,
                                        0.5203884765505791,
                                        0.5203784671094682,
                                        0.5203700538562692,
                                        0.5203645800022368,
                                        0.5203555015226206,
                                        0.5203537971389537,
                                        0.5203465050458909,
                                        0.5203606813561683,
                                        0.5203518466307566,
                                        0.5203623895375233,
                                        0.5203602821738632,
                                        0.5203622622923417,
                                        0.520366793764489,
                                        0.5203602779329869,
                                        0.5203554779291153,
                                        0.5203549664909557,
                                        0.5203530579805374,
                                        0.5203499466669365,
                                        0.5203744668153024,
                                        0.520373453223516,
                                        0.5203707749024034,
                                        0.5203739207524519,
                                        0.5203779222387256,
                                        0.5203756392002106,
                                        0.5203731559655246,
                                        0.5203673692717068,
                                        0.5203632784741266,
                                        0.5203572834881258,
                                        0.5203770324587822,
                                        0.5203768623201814,
                                        0.5203800370564332,
                                        0.5203764434655508,
                                        0.5203708363206763,
                                        0.5203684692258959,
                                        0.5203662805068188,
                                        0.5203957644444478,
                                        0.5204016786068678,
                                        0.5204116724155567,
                                        0.520409510629933,
                                        0.520405899688422,
                                        0.5204037097947938,
                                        0.5204060915638419,
                                        0.5204007483498995,
                                        0.5203974517597549,
                                        0.5203936025500298,
                                        0.5203902336318841,
                                        0.5203927927547031,
                                        0.5203950627819522,
                                        0.5203903563644575,
                                        0.5203912533739562,
                                        0.5203898850273578,
                                        0.5203874214699394,
                                        0.5204206497098008,
                                        0.5204190021937656,
                                        0.5204199266677,
                                        0.5204160177346432,
                                        0.520419818162918
                                    ]
                                },
                                {
                                    "marker": {
                                        "maxdisplayed": 10
                                    },
                                    "mode": "lines+markers",
                                    "name": "Trial3",
                                    "type": "scatter",
                                    "x": [
                                        0,
                                        1,
                                        2,
                                        3,
                                        4,
                                        5,
                                        6,
                                        7,
                                        8,
                                        9,
                                        10,
                                        11,
                                        12,
                                        13,
                                        14,
                                        15,
                                        16,
                                        17,
                                        18,
                                        19,
                                        20,
                                        21,
                                        22,
                                        23,
                                        24,
                                        25,
                                        26,
                                        27,
                                        28,
                                        29,
                                        30,
                                        31,
                                        32,
                                        33,
                                        34,
                                        35,
                                        36,
                                        37,
                                        38,
                                        39,
                                        40,
                                        41,
                                        42,
                                        43,
                                        44,
                                        45,
                                        46,
                                        47,
                                        48,
                                        49,
                                        50,
                                        51,
                                        52,
                                        53,
                                        54,
                                        55,
                                        56,
                                        57,
                                        58,
                                        59,
                                        60,
                                        61,
                                        62,
                                        63,
                                        64,
                                        65,
                                        66,
                                        67,
                                        68,
                                        69,
                                        70,
                                        71,
                                        72,
                                        73,
                                        74,
                                        75,
                                        76,
                                        77,
                                        78,
                                        79,
                                        80,
                                        81,
                                        82,
                                        83,
                                        84,
                                        85,
                                        86,
                                        87,
                                        88,
                                        89,
                                        90,
                                        91,
                                        92,
                                        93,
                                        94,
                                        95,
                                        96,
                                        97,
                                        98,
                                        99
                                    ],
                                    "y": [
                                        0.5090110301971436,
                                        0.5008970648050308,
                                        0.49408644437789917,
                                        0.48824331164360046,
                                        0.4783573359251022,
                                        0.4704454044500987,
                                        0.4671773442200252,
                                        0.4622153602540493,
                                        0.45895472665627796,
                                        0.4582330584526062,
                                        0.4553167792883786,
                                        0.45357274388273555,
                                        0.45277968736795277,
                                        0.4525687439101083,
                                        0.45380416214466096,
                                        0.4571845419704914,
                                        0.46659184904659495,
                                        0.46750837481684154,
                                        0.4679101172246431,
                                        0.46970774233341217,
                                        0.46982705167361666,
                                        0.4707662849263711,
                                        0.47107419760330865,
                                        0.4712493730088075,
                                        0.4753198552131653,
                                        0.4806510324661548,
                                        0.4838367821993651,
                                        0.48720424835171017,
                                        0.49023403587012454,
                                        0.4939728577931722,
                                        0.4945538721738323,
                                        0.4957425990141928,
                                        0.49693723745418317,
                                        0.49722636008963866,
                                        0.4992189492498125,
                                        0.5019324943423271,
                                        0.5031058494303677,
                                        0.5047520763779941,
                                        0.5074196224793409,
                                        0.5093499809503556,
                                        0.5106427549588971,
                                        0.5147875210358983,
                                        0.5180795840745749,
                                        0.5203551463782787,
                                        0.5229915337430107,
                                        0.5247624409587487,
                                        0.5276023418979442,
                                        0.531320335653921,
                                        0.5345701760783488,
                                        0.5349226698279381,
                                        0.5359926223754883,
                                        0.5364145739720418,
                                        0.5353484387105366,
                                        0.5345588392681546,
                                        0.5350402750752189,
                                        0.5339069281305585,
                                        0.5323928971039621,
                                        0.5309625879443926,
                                        0.5296932986732257,
                                        0.5287163473665715,
                                        0.5277831806022613,
                                        0.526896852158731,
                                        0.5262267849748097,
                                        0.5254479011055082,
                                        0.5249249561474874,
                                        0.5250108131405079,
                                        0.5258422091380873,
                                        0.5266557375297827,
                                        0.5271541068087453,
                                        0.527562642948968,
                                        0.5280196859802998,
                                        0.5287456299281783,
                                        0.5295160420953411,
                                        0.5288908529925991,
                                        0.5280988691250483,
                                        0.5271216287816826,
                                        0.5262774887023034,
                                        0.5258116498589516,
                                        0.5250373531745959,
                                        0.5241332158446312,
                                        0.5233004161237199,
                                        0.5224276074185604,
                                        0.5219015913555421,
                                        0.5218237459304786,
                                        0.522001190571224,
                                        0.5227132943827052,
                                        0.5237773552365687,
                                        0.5247684561393477,
                                        0.5254590317104639,
                                        0.5253926629821459,
                                        0.525040335052616,
                                        0.5244881638690181,
                                        0.524160790667739,
                                        0.5244159616054372,
                                        0.5240265411765952,
                                        0.5236253935533265,
                                        0.5232594509407417,
                                        0.5229203739032453,
                                        0.5224701658342824,
                                        0.5221962310373783
                                    ]
                                },
                                {
                                    "marker": {
                                        "maxdisplayed": 10
                                    },
                                    "mode": "lines+markers",
                                    "name": "Trial4",
                                    "type": "scatter",
                                    "x": [
                                        0,
                                        1,
                                        2,
                                        3,
                                        4,
                                        5,
                                        6,
                                        7,
                                        8,
                                        9,
                                        10,
                                        11,
                                        12,
                                        13,
                                        14,
                                        15,
                                        16,
                                        17,
                                        18,
                                        19,
                                        20,
                                        21,
                                        22,
                                        23,
                                        24,
                                        25,
                                        26,
                                        27,
                                        28,
                                        29,
                                        30,
                                        31,
                                        32,
                                        33,
                                        34,
                                        35,
                                        36,
                                        37,
                                        38,
                                        39,
                                        40,
                                        41,
                                        42,
                                        43,
                                        44,
                                        45,
                                        46,
                                        47,
                                        48,
                                        49,
                                        50,
                                        51,
                                        52,
                                        53,
                                        54,
                                        55,
                                        56,
                                        57,
                                        58,
                                        59,
                                        60,
                                        61,
                                        62,
                                        63,
                                        64,
                                        65,
                                        66,
                                        67,
                                        68,
                                        69,
                                        70,
                                        71,
                                        72,
                                        73,
                                        74,
                                        75,
                                        76,
                                        77,
                                        78,
                                        79,
                                        80,
                                        81,
                                        82,
                                        83,
                                        84,
                                        85,
                                        86,
                                        87,
                                        88,
                                        89,
                                        90,
                                        91,
                                        92,
                                        93,
                                        94,
                                        95,
                                        96,
                                        97,
                                        98,
                                        99
                                    ],
                                    "y": [
                                        0.5364360511302948,
                                        0.5291716754436493,
                                        0.526250571012497,
                                        0.5247009843587875,
                                        0.5237479925155639,
                                        0.5231081147988638,
                                        0.5226505185876574,
                                        0.5223085321485996,
                                        0.5220447712474399,
                                        0.5218307286500931,
                                        0.5216569196094166,
                                        0.5215107798576355,
                                        0.521386967255519,
                                        0.5212825877325875,
                                        0.5211902181307475,
                                        0.5211111884564161,
                                        0.521039836546954,
                                        0.5209765715731515,
                                        0.5209223706471292,
                                        0.5208720609545707,
                                        0.5208259451956976,
                                        0.5207850188016891,
                                        0.520746762337892,
                                        0.5207115126152834,
                                        0.52067906498909,
                                        0.5206525612335938,
                                        0.5206316897162685,
                                        0.5206068796770913,
                                        0.5205839810700252,
                                        0.5205633689959844,
                                        0.5205449577300779,
                                        0.5205271495506167,
                                        0.5205086867014567,
                                        0.5204916044193155,
                                        0.5204751525606428,
                                        0.5204591006040573,
                                        0.5204443295259733,
                                        0.5204305703702726,
                                        0.5204199376778725,
                                        0.5204085893929005,
                                        0.5203997812620024,
                                        0.5203878297692254,
                                        0.5203765526760457,
                                        0.5203665901314128,
                                        0.5203574260075887,
                                        0.5203485313964926,
                                        0.5203399360179901,
                                        0.5203316503514847,
                                        0.5203228130632517,
                                        0.5203192365169526,
                                        0.5203122508292105,
                                        0.5203058983270938,
                                        0.5202988779769754,
                                        0.5202947330695612,
                                        0.5202914834022522,
                                        0.5202851657356534,
                                        0.5202793865873102,
                                        0.5202738344669342,
                                        0.5202676355838776,
                                        0.5202616080641747,
                                        0.5202638120924841,
                                        0.5202585199186879,
                                        0.5202538054140787,
                                        0.5202482319436967,
                                        0.5202476469370035,
                                        0.5202440547220635,
                                        0.5202439832153605,
                                        0.5202395376913688,
                                        0.5202352529850559,
                                        0.520232396040644,
                                        0.5202280627170079,
                                        0.5202235269049803,
                                        0.5202199518680573,
                                        0.5202157710855072,
                                        0.5202116370201111,
                                        0.520214754892023,
                                        0.5202109883357953,
                                        0.5202121918018048,
                                        0.5202117086965826,
                                        0.520211486890912,
                                        0.5202082855465971,
                                        0.5202047421437938,
                                        0.5202018844794079,
                                        0.5201996632275128,
                                        0.5201962260638966,
                                        0.5201931848775508,
                                        0.5201915742337019,
                                        0.5201894055035982,
                                        0.5201861627316207,
                                        0.5201853503783543,
                                        0.5201832465418093,
                                        0.5201816869818646,
                                        0.5201789781611453,
                                        0.5201856966348405,
                                        0.5201848437911586,
                                        0.5201824077715477,
                                        0.5201801482549647,
                                        0.520179591008595,
                                        0.5201775184785477,
                                        0.5201756566762924
                                    ]
                                },
                                {
                                    "marker": {
                                        "maxdisplayed": 10
                                    },
                                    "mode": "lines+markers",
                                    "name": "Trial5",
                                    "type": "scatter",
                                    "x": [
                                        0,
                                        1,
                                        2,
                                        3,
                                        4,
                                        5,
                                        6,
                                        7,
                                        8,
                                        9,
                                        10,
                                        11,
                                        12,
                                        13,
                                        14,
                                        15,
                                        16,
                                        17,
                                        18,
                                        19,
                                        20,
                                        21,
                                        22,
                                        23,
                                        24,
                                        25,
                                        26,
                                        27,
                                        28,
                                        29,
                                        30,
                                        31,
                                        32,
                                        33,
                                        34,
                                        35,
                                        36,
                                        37,
                                        38,
                                        39,
                                        40,
                                        41,
                                        42,
                                        43,
                                        44,
                                        45,
                                        46,
                                        47,
                                        48,
                                        49,
                                        50,
                                        51,
                                        52,
                                        53,
                                        54,
                                        55,
                                        56,
                                        57,
                                        58,
                                        59,
                                        60,
                                        61,
                                        62,
                                        63,
                                        64,
                                        65,
                                        66,
                                        67,
                                        68,
                                        69,
                                        70,
                                        71,
                                        72,
                                        73,
                                        74,
                                        75,
                                        76,
                                        77,
                                        78,
                                        79,
                                        80,
                                        81,
                                        82,
                                        83,
                                        84,
                                        85,
                                        86,
                                        87,
                                        88,
                                        89,
                                        90,
                                        91,
                                        92,
                                        93,
                                        94,
                                        95,
                                        96,
                                        97,
                                        98,
                                        99
                                    ],
                                    "y": [
                                        0.5238295793533325,
                                        0.5143432766199112,
                                        0.5104384620984396,
                                        0.5124194398522377,
                                        0.5067740201950073,
                                        0.502574640015761,
                                        0.4983319193124771,
                                        0.495029304176569,
                                        0.4926280577977498,
                                        0.4915219351649284,
                                        0.4910077168182893,
                                        0.4904823067287604,
                                        0.48963296528045946,
                                        0.48900177436215536,
                                        0.48803490499655405,
                                        0.486463475972414,
                                        0.4853874699157827,
                                        0.4846239181028472,
                                        0.48409746665703624,
                                        0.4839053452014923,
                                        0.48517499225480215,
                                        0.4861455505544489,
                                        0.48770357344461523,
                                        0.48802903667092323,
                                        0.4875191158056259,
                                        0.4865769835618826,
                                        0.4859380782754333,
                                        0.48612829350999426,
                                        0.4860348331517187,
                                        0.4858396589756012,
                                        0.48601394651397584,
                                        0.4858321389183402,
                                        0.4856866020144838,
                                        0.48574363177313523,
                                        0.48857827484607697,
                                        0.4885568386978573,
                                        0.488455929466196,
                                        0.4903140660179289,
                                        0.4899920332126128,
                                        0.48995124399662016,
                                        0.49125999539363674,
                                        0.4905341107930456,
                                        0.49006526068199513,
                                        0.48958341337063094,
                                        0.4892716192536884,
                                        0.48905742395183316,
                                        0.4889123709277904,
                                        0.48898041310409707,
                                        0.4906069408265912,
                                        0.4909067052602768,
                                        0.49049778194988475,
                                        0.4898766605899884,
                                        0.4896640161860664,
                                        0.4896357611373619,
                                        0.489867423881184,
                                        0.4909107450928007,
                                        0.492261040890426,
                                        0.49235236516286585,
                                        0.49256240538621354,
                                        0.49273557141423224,
                                        0.4939879208314614,
                                        0.49623519038000413,
                                        0.4985588344316634,
                                        0.4993993241805583,
                                        0.4993612234409039,
                                        0.5006389541156364,
                                        0.5004929092837803,
                                        0.5002391785383224,
                                        0.5006589697322984,
                                        0.5007010583366667,
                                        0.5008237502524551,
                                        0.5035162926134136,
                                        0.5037437234431097,
                                        0.506261329191762,
                                        0.5061225012938182,
                                        0.5066465088411382,
                                        0.5061672757585327,
                                        0.5057848997605152,
                                        0.5054667627886881,
                                        0.5049387823790312,
                                        0.5044570881643413,
                                        0.5041653968212081,
                                        0.5038270025727261,
                                        0.5035393844757762,
                                        0.5034759768668343,
                                        0.5031757171070853,
                                        0.5034554607566746,
                                        0.5033483258025213,
                                        0.5031598066346029,
                                        0.5029185677568118,
                                        0.502652312536816,
                                        0.50241511379895,
                                        0.5021181641727366,
                                        0.5018190275481407,
                                        0.501551262642208,
                                        0.5012934811723729,
                                        0.501049728737664,
                                        0.5008607296919336,
                                        0.5006746711454007,
                                        0.5004930153489113
                                    ]
                                },
                                {
                                    "marker": {
                                        "maxdisplayed": 10
                                    },
                                    "mode": "lines+markers",
                                    "name": "Trial6",
                                    "type": "scatter",
                                    "x": [
                                        0
                                    ],
                                    "y": [
                                        0.577549546957016
                                    ]
                                },
                                {
                                    "marker": {
                                        "maxdisplayed": 10
                                    },
                                    "mode": "lines+markers",
                                    "name": "Trial7",
                                    "type": "scatter",
                                    "x": [
                                        0
                                    ],
                                    "y": [
                                        0.5985907912254333
                                    ]
                                },
                                {
                                    "marker": {
                                        "maxdisplayed": 10
                                    },
                                    "mode": "lines+markers",
                                    "name": "Trial8",
                                    "type": "scatter",
                                    "x": [
                                        0,
                                        1,
                                        2,
                                        3
                                    ],
                                    "y": [
                                        0.5298582017421722,
                                        0.5265149623155594,
                                        0.5251485407352448,
                                        0.5240437909960747
                                    ]
                                },
                                {
                                    "marker": {
                                        "maxdisplayed": 10
                                    },
                                    "mode": "lines+markers",
                                    "name": "Trial9",
                                    "type": "scatter",
                                    "x": [
                                        0
                                    ],
                                    "y": [
                                        1.0886908769607544
                                    ]
                                },
                                {
                                    "marker": {
                                        "maxdisplayed": 10
                                    },
                                    "mode": "lines+markers",
                                    "name": "Trial10",
                                    "type": "scatter",
                                    "x": [
                                        0
                                    ],
                                    "y": [
                                        0.62991002202034
                                    ]
                                },
                                {
                                    "marker": {
                                        "maxdisplayed": 10
                                    },
                                    "mode": "lines+markers",
                                    "name": "Trial11",
                                    "type": "scatter",
                                    "x": [
                                        0,
                                        1,
                                        2,
                                        3,
                                        4,
                                        5,
                                        6,
                                        7,
                                        8,
                                        9,
                                        10,
                                        11,
                                        12,
                                        13,
                                        14,
                                        15,
                                        16,
                                        17,
                                        18
                                    ],
                                    "y": [
                                        0.5270214676856995,
                                        0.5236319005489349,
                                        0.5232640902201334,
                                        0.5224814936518669,
                                        0.5220063865184784,
                                        0.521657312909762,
                                        0.5214125216007233,
                                        0.5212429352104664,
                                        0.5210943983660804,
                                        0.520987731218338,
                                        0.5208920782262628,
                                        0.520810196797053,
                                        0.52074101796517,
                                        0.5206851129020963,
                                        0.5206325312455495,
                                        0.5205877367407084,
                                        0.5205471813678741,
                                        0.520511281159189,
                                        0.5204804461253317
                                    ]
                                },
                                {
                                    "marker": {
                                        "maxdisplayed": 10
                                    },
                                    "mode": "lines+markers",
                                    "name": "Trial12",
                                    "type": "scatter",
                                    "x": [
                                        0
                                    ],
                                    "y": [
                                        0.5788754224777222
                                    ]
                                },
                                {
                                    "marker": {
                                        "maxdisplayed": 10
                                    },
                                    "mode": "lines+markers",
                                    "name": "Trial13",
                                    "type": "scatter",
                                    "x": [
                                        0
                                    ],
                                    "y": [
                                        0.5532883703708649
                                    ]
                                },
                                {
                                    "marker": {
                                        "maxdisplayed": 10
                                    },
                                    "mode": "lines+markers",
                                    "name": "Trial14",
                                    "type": "scatter",
                                    "x": [
                                        0
                                    ],
                                    "y": [
                                        0.5678941011428833
                                    ]
                                },
                                {
                                    "marker": {
                                        "maxdisplayed": 10
                                    },
                                    "mode": "lines+markers",
                                    "name": "Trial15",
                                    "type": "scatter",
                                    "x": [
                                        0
                                    ],
                                    "y": [
                                        0.5346060991287231
                                    ]
                                },
                                {
                                    "marker": {
                                        "maxdisplayed": 10
                                    },
                                    "mode": "lines+markers",
                                    "name": "Trial16",
                                    "type": "scatter",
                                    "x": [
                                        0
                                    ],
                                    "y": [
                                        0.6294243931770325
                                    ]
                                },
                                {
                                    "marker": {
                                        "maxdisplayed": 10
                                    },
                                    "mode": "lines+markers",
                                    "name": "Trial17",
                                    "type": "scatter",
                                    "x": [
                                        0
                                    ],
                                    "y": [
                                        0.599767416715622
                                    ]
                                },
                                {
                                    "marker": {
                                        "maxdisplayed": 10
                                    },
                                    "mode": "lines+markers",
                                    "name": "Trial18",
                                    "type": "scatter",
                                    "x": [
                                        0
                                    ],
                                    "y": [
                                        0.6468487977981567
                                    ]
                                },
                                {
                                    "marker": {
                                        "maxdisplayed": 10
                                    },
                                    "mode": "lines+markers",
                                    "name": "Trial19",
                                    "type": "scatter",
                                    "x": [
                                        0
                                    ],
                                    "y": [
                                        0.5450967848300934
                                    ]
                                },
                                {
                                    "marker": {
                                        "maxdisplayed": 10
                                    },
                                    "mode": "lines+markers",
                                    "name": "Trial20",
                                    "type": "scatter",
                                    "x": [
                                        0
                                    ],
                                    "y": [
                                        0.5845669806003571
                                    ]
                                },
                                {
                                    "marker": {
                                        "maxdisplayed": 10
                                    },
                                    "mode": "lines+markers",
                                    "name": "Trial21",
                                    "type": "scatter",
                                    "x": [
                                        0,
                                        1,
                                        2,
                                        3,
                                        4,
                                        5,
                                        6,
                                        7,
                                        8,
                                        9,
                                        10,
                                        11,
                                        12,
                                        13,
                                        14,
                                        15,
                                        16,
                                        17,
                                        18
                                    ],
                                    "y": [
                                        0.5337938666343689,
                                        0.5271460711956024,
                                        0.5247486929098765,
                                        0.5235893279314041,
                                        0.5228643417358398,
                                        0.5223749379316965,
                                        0.5220287782805306,
                                        0.5217624306678772,
                                        0.5215726329220666,
                                        0.5214274734258652,
                                        0.5212941034273668,
                                        0.5211933528383573,
                                        0.5211027746017163,
                                        0.5210214917148862,
                                        0.5209472139676412,
                                        0.5208857990801334,
                                        0.5208377627765431,
                                        0.5207942061954074,
                                        0.5207501163608149
                                    ]
                                },
                                {
                                    "marker": {
                                        "maxdisplayed": 10
                                    },
                                    "mode": "lines+markers",
                                    "name": "Trial22",
                                    "type": "scatter",
                                    "x": [
                                        0
                                    ],
                                    "y": [
                                        0.5384179651737213
                                    ]
                                },
                                {
                                    "marker": {
                                        "maxdisplayed": 10
                                    },
                                    "mode": "lines+markers",
                                    "name": "Trial23",
                                    "type": "scatter",
                                    "x": [
                                        0,
                                        1
                                    ],
                                    "y": [
                                        0.5336632430553436,
                                        0.527723953127861
                                    ]
                                },
                                {
                                    "marker": {
                                        "maxdisplayed": 10
                                    },
                                    "mode": "lines+markers",
                                    "name": "Trial24",
                                    "type": "scatter",
                                    "x": [
                                        0
                                    ],
                                    "y": [
                                        0.5345000326633453
                                    ]
                                },
                                {
                                    "marker": {
                                        "maxdisplayed": 10
                                    },
                                    "mode": "lines+markers",
                                    "name": "Trial25",
                                    "type": "scatter",
                                    "x": [
                                        0
                                    ],
                                    "y": [
                                        0.5688509941101074
                                    ]
                                },
                                {
                                    "marker": {
                                        "maxdisplayed": 10
                                    },
                                    "mode": "lines+markers",
                                    "name": "Trial26",
                                    "type": "scatter",
                                    "x": [
                                        0,
                                        1,
                                        2,
                                        3,
                                        4,
                                        5,
                                        6,
                                        7,
                                        8,
                                        9,
                                        10,
                                        11,
                                        12,
                                        13,
                                        14,
                                        15,
                                        16,
                                        17,
                                        18
                                    ],
                                    "y": [
                                        0.5214939713478088,
                                        0.5210827589035034,
                                        0.5210142334302267,
                                        0.5207579508423805,
                                        0.5206534802913666,
                                        0.5206127067406973,
                                        0.5205403183187757,
                                        0.5204644948244095,
                                        0.5204213758309683,
                                        0.5203807264566421,
                                        0.520353683016517,
                                        0.5203200802206993,
                                        0.5202920803656945,
                                        0.5202657346214566,
                                        0.5202559471130371,
                                        0.5202922616153955,
                                        0.520298232050503,
                                        0.5202908582157559,
                                        0.5202872768828743
                                    ]
                                },
                                {
                                    "marker": {
                                        "maxdisplayed": 10
                                    },
                                    "mode": "lines+markers",
                                    "name": "Trial27",
                                    "type": "scatter",
                                    "x": [
                                        0
                                    ],
                                    "y": [
                                        0.5653730630874634
                                    ]
                                },
                                {
                                    "marker": {
                                        "maxdisplayed": 10
                                    },
                                    "mode": "lines+markers",
                                    "name": "Trial28",
                                    "type": "scatter",
                                    "x": [
                                        0,
                                        1,
                                        2,
                                        3,
                                        4,
                                        5,
                                        6,
                                        7,
                                        8,
                                        9,
                                        10,
                                        11,
                                        12,
                                        13,
                                        14,
                                        15,
                                        16,
                                        17,
                                        18,
                                        19,
                                        20,
                                        21,
                                        22,
                                        23,
                                        24,
                                        25,
                                        26,
                                        27,
                                        28,
                                        29,
                                        30,
                                        31,
                                        32,
                                        33,
                                        34,
                                        35,
                                        36,
                                        37,
                                        38,
                                        39,
                                        40,
                                        41,
                                        42,
                                        43,
                                        44,
                                        45,
                                        46,
                                        47,
                                        48,
                                        49,
                                        50,
                                        51,
                                        52,
                                        53,
                                        54,
                                        55,
                                        56,
                                        57,
                                        58,
                                        59,
                                        60,
                                        61,
                                        62,
                                        63,
                                        64,
                                        65,
                                        66,
                                        67,
                                        68,
                                        69,
                                        70,
                                        71,
                                        72,
                                        73,
                                        74,
                                        75,
                                        76,
                                        77,
                                        78,
                                        79,
                                        80,
                                        81,
                                        82,
                                        83,
                                        84,
                                        85,
                                        86,
                                        87,
                                        88,
                                        89,
                                        90,
                                        91,
                                        92,
                                        93,
                                        94,
                                        95,
                                        96,
                                        97,
                                        98,
                                        99
                                    ],
                                    "y": [
                                        0.4956701844930649,
                                        0.476088210940361,
                                        0.4705583304166794,
                                        0.4625372104346752,
                                        0.4610130608081818,
                                        0.4559972360730171,
                                        0.4553647701229368,
                                        0.45338903553783894,
                                        0.45323749714427525,
                                        0.4503714174032211,
                                        0.45008359172127466,
                                        0.45269262169798213,
                                        0.45465287336936366,
                                        0.45425562666995184,
                                        0.45438745617866516,
                                        0.4604260418564081,
                                        0.46176450392779184,
                                        0.4640049652920829,
                                        0.46577527334815577,
                                        0.46785479635000227,
                                        0.46958641140233903,
                                        0.4733521823178638,
                                        0.4749004031005113,
                                        0.47572622013588745,
                                        0.47930204212665556,
                                        0.48038090536227596,
                                        0.48047216678107224,
                                        0.48257337883114815,
                                        0.4848665065806487,
                                        0.4867271289229393,
                                        0.48637343558572954,
                                        0.4867817065678537,
                                        0.4884023923765529,
                                        0.48919713102719364,
                                        0.4902218635593142,
                                        0.4917133189737797,
                                        0.49331988072073135,
                                        0.49546485394239426,
                                        0.4982396589639859,
                                        0.5008897338062525,
                                        0.5020067404683043,
                                        0.5110607115285737,
                                        0.5146859305542569,
                                        0.5152485990388826,
                                        0.5146444764402177,
                                        0.5167035110618757,
                                        0.5184409808605275,
                                        0.518915523464481,
                                        0.5228116852896554,
                                        0.5247609722614288,
                                        0.5281314738825256,
                                        0.5296164355598963,
                                        0.5322078095292145,
                                        0.5320303034451273,
                                        0.5316451977599751,
                                        0.5318886855883258,
                                        0.5331128584711176,
                                        0.5349187984548766,
                                        0.5353303122318397,
                                        0.5369068110982577,
                                        0.5395352288347776,
                                        0.5416434892723637,
                                        0.5453136818749564,
                                        0.5510207274928689,
                                        0.5529504675131578,
                                        0.5543818523486456,
                                        0.5545816448197436,
                                        0.5545165525639758,
                                        0.5545484155848406,
                                        0.5541704441819872,
                                        0.5539370242138983,
                                        0.5543952282104228,
                                        0.5540078188458534,
                                        0.5529913725079717,
                                        0.5528681945800781,
                                        0.5513867086877948,
                                        0.5504987487545261,
                                        0.5499040062228838,
                                        0.5491797099762326,
                                        0.547783007659018,
                                        0.5468571307482543,
                                        0.5458717037264894,
                                        0.5448058721530868,
                                        0.5436596024249282,
                                        0.5427102848010905,
                                        0.5420009556204773,
                                        0.5418582548355234,
                                        0.5415697971528227,
                                        0.5413068256686243,
                                        0.541390454603566,
                                        0.5404388952058751,
                                        0.539301513167827,
                                        0.5406056804362164,
                                        0.5394813277302904,
                                        0.5403652462520098,
                                        0.5394983288521568,
                                        0.5386982395784142,
                                        0.5378691322949468,
                                        0.5373453476814308,
                                        0.5374116563796997
                                    ]
                                },
                                {
                                    "marker": {
                                        "maxdisplayed": 10
                                    },
                                    "mode": "lines+markers",
                                    "name": "Trial29",
                                    "type": "scatter",
                                    "x": [
                                        0
                                    ],
                                    "y": [
                                        0.6023974120616913
                                    ]
                                },
                                {
                                    "marker": {
                                        "maxdisplayed": 10
                                    },
                                    "mode": "lines+markers",
                                    "name": "Trial30",
                                    "type": "scatter",
                                    "x": [
                                        0,
                                        1,
                                        2,
                                        3,
                                        4,
                                        5,
                                        6,
                                        7,
                                        8,
                                        9,
                                        10,
                                        11,
                                        12,
                                        13,
                                        14,
                                        15,
                                        16,
                                        17,
                                        18,
                                        19,
                                        20,
                                        21,
                                        22,
                                        23,
                                        24,
                                        25,
                                        26,
                                        27,
                                        28,
                                        29,
                                        30,
                                        31,
                                        32,
                                        33,
                                        34,
                                        35,
                                        36,
                                        37,
                                        38,
                                        39,
                                        40,
                                        41,
                                        42,
                                        43,
                                        44,
                                        45,
                                        46,
                                        47,
                                        48,
                                        49,
                                        50,
                                        51,
                                        52,
                                        53,
                                        54,
                                        55,
                                        56,
                                        57,
                                        58,
                                        59,
                                        60,
                                        61,
                                        62,
                                        63,
                                        64,
                                        65,
                                        66,
                                        67,
                                        68,
                                        69,
                                        70,
                                        71,
                                        72,
                                        73,
                                        74,
                                        75,
                                        76,
                                        77,
                                        78,
                                        79,
                                        80,
                                        81,
                                        82,
                                        83,
                                        84,
                                        85,
                                        86,
                                        87,
                                        88,
                                        89,
                                        90,
                                        91,
                                        92,
                                        93,
                                        94,
                                        95,
                                        96,
                                        97,
                                        98,
                                        99
                                    ],
                                    "y": [
                                        0.48804542422294617,
                                        0.4635856971144676,
                                        0.44868147869904834,
                                        0.434015903621912,
                                        0.4261981576681137,
                                        0.42208363860845566,
                                        0.42025668706212727,
                                        0.42091350071132183,
                                        0.424635433488422,
                                        0.42785278856754305,
                                        0.43364309722726996,
                                        0.43717001378536224,
                                        0.4417545371330701,
                                        0.4495798998645374,
                                        0.45380394061406454,
                                        0.45955022983253,
                                        0.46227052632500143,
                                        0.46542288694116807,
                                        0.4693028268061186,
                                        0.4775452524423599,
                                        0.48250564223244075,
                                        0.4898021424358541,
                                        0.49619224149247876,
                                        0.501323668907086,
                                        0.5067556965351104,
                                        0.5119927181647375,
                                        0.5170167243039167,
                                        0.5212431720324925,
                                        0.5256625927727798,
                                        0.5314262171586355,
                                        0.5372670062126652,
                                        0.5419483911246061,
                                        0.5481145156152321,
                                        0.5547196356689229,
                                        0.5609402034963881,
                                        0.5655155132214228,
                                        0.5714488899385607,
                                        0.5777551696488732,
                                        0.5837975992606237,
                                        0.5882054433226586,
                                        0.594116086640009,
                                        0.6002967620179767,
                                        0.6046665380167406,
                                        0.6100817458196119,
                                        0.615894173251258,
                                        0.6226520279179448,
                                        0.628837414244388,
                                        0.6351997392872969,
                                        0.6416477621818075,
                                        0.648190062046051,
                                        0.6537836538810357,
                                        0.6572716121490185,
                                        0.6618073824441658,
                                        0.6660791602399614,
                                        0.6710262163118883,
                                        0.6776129853512559,
                                        0.6828211111980572,
                                        0.6874155787558391,
                                        0.6926288549172677,
                                        0.6979009370009105,
                                        0.7020278905258804,
                                        0.7069358594955937,
                                        0.7119153671794467,
                                        0.7168248854577541,
                                        0.7227084141511183,
                                        0.7285648584365845,
                                        0.7330851812860859,
                                        0.7385184773627449,
                                        0.7437854435132898,
                                        0.74957161290305,
                                        0.7554428065326851,
                                        0.7612917646765709,
                                        0.7673829042748229,
                                        0.7720954901463276,
                                        0.7761307009061178,
                                        0.7806949733119262,
                                        0.7848341410810297,
                                        0.790741578126565,
                                        0.7954818327215654,
                                        0.7995964154601097,
                                        0.8029368964978206,
                                        0.8066962692068844,
                                        0.8095952462719147,
                                        0.8138513057714417,
                                        0.8184923540143406,
                                        0.8232527940079223,
                                        0.8285618900567636,
                                        0.8326094763522799,
                                        0.8377936258074943,
                                        0.8441012173891067,
                                        0.8495280195723524,
                                        0.8532188460230827,
                                        0.8575572483642127,
                                        0.8615250711111312,
                                        0.8665449647526992,
                                        0.8713670543705424,
                                        0.8752482690147518,
                                        0.8783773947127012,
                                        0.8813704110757269,
                                        0.8842977002263069
                                    ]
                                },
                                {
                                    "marker": {
                                        "maxdisplayed": 10
                                    },
                                    "mode": "lines+markers",
                                    "name": "Trial31",
                                    "type": "scatter",
                                    "x": [
                                        0
                                    ],
                                    "y": [
                                        0.5367679297924042
                                    ]
                                },
                                {
                                    "marker": {
                                        "maxdisplayed": 10
                                    },
                                    "mode": "lines+markers",
                                    "name": "Trial32",
                                    "type": "scatter",
                                    "x": [
                                        0,
                                        1
                                    ],
                                    "y": [
                                        0.5276247560977936,
                                        0.5243100821971893
                                    ]
                                },
                                {
                                    "marker": {
                                        "maxdisplayed": 10
                                    },
                                    "mode": "lines+markers",
                                    "name": "Trial33",
                                    "type": "scatter",
                                    "x": [
                                        0
                                    ],
                                    "y": [
                                        0.536398708820343
                                    ]
                                },
                                {
                                    "marker": {
                                        "maxdisplayed": 10
                                    },
                                    "mode": "lines+markers",
                                    "name": "Trial34",
                                    "type": "scatter",
                                    "x": [
                                        0,
                                        1,
                                        2
                                    ],
                                    "y": [
                                        0.520172506570816,
                                        0.5201032310724258,
                                        0.5200495223204294
                                    ]
                                },
                                {
                                    "marker": {
                                        "maxdisplayed": 10
                                    },
                                    "mode": "lines+markers",
                                    "name": "Trial35",
                                    "type": "scatter",
                                    "x": [
                                        0
                                    ],
                                    "y": [
                                        0.5466732084751129
                                    ]
                                },
                                {
                                    "marker": {
                                        "maxdisplayed": 10
                                    },
                                    "mode": "lines+markers",
                                    "name": "Trial36",
                                    "type": "scatter",
                                    "x": [
                                        0
                                    ],
                                    "y": [
                                        0.5992086827754974
                                    ]
                                },
                                {
                                    "marker": {
                                        "maxdisplayed": 10
                                    },
                                    "mode": "lines+markers",
                                    "name": "Trial37",
                                    "type": "scatter",
                                    "x": [
                                        0
                                    ],
                                    "y": [
                                        0.5776907801628113
                                    ]
                                },
                                {
                                    "marker": {
                                        "maxdisplayed": 10
                                    },
                                    "mode": "lines+markers",
                                    "name": "Trial38",
                                    "type": "scatter",
                                    "x": [
                                        0,
                                        1
                                    ],
                                    "y": [
                                        0.5262179970741272,
                                        0.5232911854982376
                                    ]
                                },
                                {
                                    "marker": {
                                        "maxdisplayed": 10
                                    },
                                    "mode": "lines+markers",
                                    "name": "Trial39",
                                    "type": "scatter",
                                    "x": [
                                        0
                                    ],
                                    "y": [
                                        0.5747469365596771
                                    ]
                                },
                                {
                                    "marker": {
                                        "maxdisplayed": 10
                                    },
                                    "mode": "lines+markers",
                                    "name": "Trial40",
                                    "type": "scatter",
                                    "x": [
                                        0
                                    ],
                                    "y": [
                                        0.5285412669181824
                                    ]
                                },
                                {
                                    "marker": {
                                        "maxdisplayed": 10
                                    },
                                    "mode": "lines+markers",
                                    "name": "Trial41",
                                    "type": "scatter",
                                    "x": [
                                        0
                                    ],
                                    "y": [
                                        0.5381251275539398
                                    ]
                                },
                                {
                                    "marker": {
                                        "maxdisplayed": 10
                                    },
                                    "mode": "lines+markers",
                                    "name": "Trial42",
                                    "type": "scatter",
                                    "x": [
                                        0
                                    ],
                                    "y": [
                                        0.5851875245571136
                                    ]
                                },
                                {
                                    "marker": {
                                        "maxdisplayed": 10
                                    },
                                    "mode": "lines+markers",
                                    "name": "Trial43",
                                    "type": "scatter",
                                    "x": [
                                        0,
                                        1
                                    ],
                                    "y": [
                                        0.5205872356891632,
                                        0.5214592218399048
                                    ]
                                },
                                {
                                    "marker": {
                                        "maxdisplayed": 10
                                    },
                                    "mode": "lines+markers",
                                    "name": "Trial44",
                                    "type": "scatter",
                                    "x": [
                                        0,
                                        1,
                                        2,
                                        3,
                                        4,
                                        5,
                                        6,
                                        7,
                                        8,
                                        9,
                                        10,
                                        11,
                                        12,
                                        13,
                                        14,
                                        15,
                                        16,
                                        17,
                                        18,
                                        19,
                                        20,
                                        21,
                                        22,
                                        23,
                                        24,
                                        25,
                                        26,
                                        27,
                                        28,
                                        29,
                                        30,
                                        31,
                                        32,
                                        33,
                                        34,
                                        35,
                                        36,
                                        37,
                                        38,
                                        39,
                                        40,
                                        41,
                                        42,
                                        43,
                                        44,
                                        45,
                                        46,
                                        47,
                                        48,
                                        49,
                                        50,
                                        51,
                                        52,
                                        53,
                                        54,
                                        55,
                                        56,
                                        57,
                                        58,
                                        59,
                                        60,
                                        61,
                                        62,
                                        63,
                                        64,
                                        65,
                                        66,
                                        67,
                                        68,
                                        69,
                                        70,
                                        71,
                                        72,
                                        73,
                                        74,
                                        75,
                                        76,
                                        77,
                                        78,
                                        79,
                                        80,
                                        81,
                                        82,
                                        83,
                                        84,
                                        85,
                                        86,
                                        87,
                                        88,
                                        89,
                                        90,
                                        91,
                                        92,
                                        93,
                                        94,
                                        95,
                                        96,
                                        97,
                                        98,
                                        99
                                    ],
                                    "y": [
                                        0.5210998952388763,
                                        0.5045519396662712,
                                        0.49493801097075146,
                                        0.491037979722023,
                                        0.4899735987186432,
                                        0.48647889991601306,
                                        0.482619794351714,
                                        0.4789378736168146,
                                        0.47471021115779877,
                                        0.4710830539464951,
                                        0.46718382158062677,
                                        0.46336029718319577,
                                        0.46044316773231214,
                                        0.4588253636445318,
                                        0.4576251486937205,
                                        0.4564061239361763,
                                        0.4551295120926464,
                                        0.4535408309764332,
                                        0.4533254331664035,
                                        0.4519247107207775,
                                        0.45237307179541814,
                                        0.45292470062320883,
                                        0.4514201309369958,
                                        0.45072952037056285,
                                        0.45092286229133605,
                                        0.45158027284420454,
                                        0.452877097107746,
                                        0.45312126725912094,
                                        0.45279298465827417,
                                        0.4528362448016802,
                                        0.4538479697319769,
                                        0.4540140014141798,
                                        0.4544076969226201,
                                        0.45389778649105744,
                                        0.4539151144879205,
                                        0.45420731024609673,
                                        0.45406216141339895,
                                        0.45410802685900736,
                                        0.4541234706456845,
                                        0.4555147111415863,
                                        0.4574622206571626,
                                        0.458267469846067,
                                        0.45725364290004555,
                                        0.45660330998626625,
                                        0.45640950004259745,
                                        0.45693907627592917,
                                        0.4572369177290734,
                                        0.45838665900131065,
                                        0.45772632530757357,
                                        0.45724483609199523,
                                        0.4566880996320762,
                                        0.45627788884135395,
                                        0.45616997216107713,
                                        0.4566092929906315,
                                        0.4577801975336942,
                                        0.4583922496863774,
                                        0.4584167325182965,
                                        0.45952705910493585,
                                        0.45972835057872835,
                                        0.4597676992416382,
                                        0.460031056257545,
                                        0.46025277241583795,
                                        0.460593959641835,
                                        0.46072987630032003,
                                        0.46057627338629503,
                                        0.4603183743628589,
                                        0.45981171148926464,
                                        0.45940423428135757,
                                        0.4590912312269211,
                                        0.4589240372180939,
                                        0.45872574897719104,
                                        0.4585670427315765,
                                        0.458609891672657,
                                        0.4588723821011749,
                                        0.4591442821423213,
                                        0.4597561549591391,
                                        0.4607679077557155,
                                        0.46132927617201436,
                                        0.4610598302340206,
                                        0.4607513817027211,
                                        0.4609239754485495,
                                        0.4620827985246007,
                                        0.4638198885213898,
                                        0.46435135283640455,
                                        0.4650719402467503,
                                        0.46546802427186523,
                                        0.4661858967323413,
                                        0.4659785277802836,
                                        0.46597224792067926,
                                        0.4661256386174096,
                                        0.46611136738415604,
                                        0.4665721598202768,
                                        0.4668387211458657,
                                        0.46660755955158395,
                                        0.4661921604683525,
                                        0.46602581767365336,
                                        0.4660369733866957,
                                        0.46570279160324407,
                                        0.4657698783910636,
                                        0.46582644745707513
                                    ]
                                },
                                {
                                    "marker": {
                                        "maxdisplayed": 10
                                    },
                                    "mode": "lines+markers",
                                    "name": "Trial45",
                                    "type": "scatter",
                                    "x": [
                                        0
                                    ],
                                    "y": [
                                        0.6229217648506165
                                    ]
                                },
                                {
                                    "marker": {
                                        "maxdisplayed": 10
                                    },
                                    "mode": "lines+markers",
                                    "name": "Trial46",
                                    "type": "scatter",
                                    "x": [
                                        0
                                    ],
                                    "y": [
                                        0.5944556593894958
                                    ]
                                },
                                {
                                    "marker": {
                                        "maxdisplayed": 10
                                    },
                                    "mode": "lines+markers",
                                    "name": "Trial47",
                                    "type": "scatter",
                                    "x": [
                                        0
                                    ],
                                    "y": [
                                        0.5733250081539154
                                    ]
                                },
                                {
                                    "marker": {
                                        "maxdisplayed": 10
                                    },
                                    "mode": "lines+markers",
                                    "name": "Trial48",
                                    "type": "scatter",
                                    "x": [
                                        0
                                    ],
                                    "y": [
                                        0.5561679601669312
                                    ]
                                },
                                {
                                    "marker": {
                                        "maxdisplayed": 10
                                    },
                                    "mode": "lines+markers",
                                    "name": "Trial49",
                                    "type": "scatter",
                                    "x": [
                                        0
                                    ],
                                    "y": [
                                        0.5940161943435669
                                    ]
                                }
                            ],
                            "layout": {
                                "showlegend": false,
                                "template": {
                                    "data": {
                                        "bar": [
                                            {
                                                "error_x": {
                                                    "color": "#2a3f5f"
                                                },
                                                "error_y": {
                                                    "color": "#2a3f5f"
                                                },
                                                "marker": {
                                                    "line": {
                                                        "color": "#E5ECF6",
                                                        "width": 0.5
                                                    },
                                                    "pattern": {
                                                        "fillmode": "overlay",
                                                        "size": 10,
                                                        "solidity": 0.2
                                                    }
                                                },
                                                "type": "bar"
                                            }
                                        ],
                                        "barpolar": [
                                            {
                                                "marker": {
                                                    "line": {
                                                        "color": "#E5ECF6",
                                                        "width": 0.5
                                                    },
                                                    "pattern": {
                                                        "fillmode": "overlay",
                                                        "size": 10,
                                                        "solidity": 0.2
                                                    }
                                                },
                                                "type": "barpolar"
                                            }
                                        ],
                                        "carpet": [
                                            {
                                                "aaxis": {
                                                    "endlinecolor": "#2a3f5f",
                                                    "gridcolor": "white",
                                                    "linecolor": "white",
                                                    "minorgridcolor": "white",
                                                    "startlinecolor": "#2a3f5f"
                                                },
                                                "baxis": {
                                                    "endlinecolor": "#2a3f5f",
                                                    "gridcolor": "white",
                                                    "linecolor": "white",
                                                    "minorgridcolor": "white",
                                                    "startlinecolor": "#2a3f5f"
                                                },
                                                "type": "carpet"
                                            }
                                        ],
                                        "choropleth": [
                                            {
                                                "colorbar": {
                                                    "outlinewidth": 0,
                                                    "ticks": ""
                                                },
                                                "type": "choropleth"
                                            }
                                        ],
                                        "contour": [
                                            {
                                                "colorbar": {
                                                    "outlinewidth": 0,
                                                    "ticks": ""
                                                },
                                                "colorscale": [
                                                    [
                                                        0,
                                                        "#0d0887"
                                                    ],
                                                    [
                                                        0.1111111111111111,
                                                        "#46039f"
                                                    ],
                                                    [
                                                        0.2222222222222222,
                                                        "#7201a8"
                                                    ],
                                                    [
                                                        0.3333333333333333,
                                                        "#9c179e"
                                                    ],
                                                    [
                                                        0.4444444444444444,
                                                        "#bd3786"
                                                    ],
                                                    [
                                                        0.5555555555555556,
                                                        "#d8576b"
                                                    ],
                                                    [
                                                        0.6666666666666666,
                                                        "#ed7953"
                                                    ],
                                                    [
                                                        0.7777777777777778,
                                                        "#fb9f3a"
                                                    ],
                                                    [
                                                        0.8888888888888888,
                                                        "#fdca26"
                                                    ],
                                                    [
                                                        1,
                                                        "#f0f921"
                                                    ]
                                                ],
                                                "type": "contour"
                                            }
                                        ],
                                        "contourcarpet": [
                                            {
                                                "colorbar": {
                                                    "outlinewidth": 0,
                                                    "ticks": ""
                                                },
                                                "type": "contourcarpet"
                                            }
                                        ],
                                        "heatmap": [
                                            {
                                                "colorbar": {
                                                    "outlinewidth": 0,
                                                    "ticks": ""
                                                },
                                                "colorscale": [
                                                    [
                                                        0,
                                                        "#0d0887"
                                                    ],
                                                    [
                                                        0.1111111111111111,
                                                        "#46039f"
                                                    ],
                                                    [
                                                        0.2222222222222222,
                                                        "#7201a8"
                                                    ],
                                                    [
                                                        0.3333333333333333,
                                                        "#9c179e"
                                                    ],
                                                    [
                                                        0.4444444444444444,
                                                        "#bd3786"
                                                    ],
                                                    [
                                                        0.5555555555555556,
                                                        "#d8576b"
                                                    ],
                                                    [
                                                        0.6666666666666666,
                                                        "#ed7953"
                                                    ],
                                                    [
                                                        0.7777777777777778,
                                                        "#fb9f3a"
                                                    ],
                                                    [
                                                        0.8888888888888888,
                                                        "#fdca26"
                                                    ],
                                                    [
                                                        1,
                                                        "#f0f921"
                                                    ]
                                                ],
                                                "type": "heatmap"
                                            }
                                        ],
                                        "heatmapgl": [
                                            {
                                                "colorbar": {
                                                    "outlinewidth": 0,
                                                    "ticks": ""
                                                },
                                                "colorscale": [
                                                    [
                                                        0,
                                                        "#0d0887"
                                                    ],
                                                    [
                                                        0.1111111111111111,
                                                        "#46039f"
                                                    ],
                                                    [
                                                        0.2222222222222222,
                                                        "#7201a8"
                                                    ],
                                                    [
                                                        0.3333333333333333,
                                                        "#9c179e"
                                                    ],
                                                    [
                                                        0.4444444444444444,
                                                        "#bd3786"
                                                    ],
                                                    [
                                                        0.5555555555555556,
                                                        "#d8576b"
                                                    ],
                                                    [
                                                        0.6666666666666666,
                                                        "#ed7953"
                                                    ],
                                                    [
                                                        0.7777777777777778,
                                                        "#fb9f3a"
                                                    ],
                                                    [
                                                        0.8888888888888888,
                                                        "#fdca26"
                                                    ],
                                                    [
                                                        1,
                                                        "#f0f921"
                                                    ]
                                                ],
                                                "type": "heatmapgl"
                                            }
                                        ],
                                        "histogram": [
                                            {
                                                "marker": {
                                                    "pattern": {
                                                        "fillmode": "overlay",
                                                        "size": 10,
                                                        "solidity": 0.2
                                                    }
                                                },
                                                "type": "histogram"
                                            }
                                        ],
                                        "histogram2d": [
                                            {
                                                "colorbar": {
                                                    "outlinewidth": 0,
                                                    "ticks": ""
                                                },
                                                "colorscale": [
                                                    [
                                                        0,
                                                        "#0d0887"
                                                    ],
                                                    [
                                                        0.1111111111111111,
                                                        "#46039f"
                                                    ],
                                                    [
                                                        0.2222222222222222,
                                                        "#7201a8"
                                                    ],
                                                    [
                                                        0.3333333333333333,
                                                        "#9c179e"
                                                    ],
                                                    [
                                                        0.4444444444444444,
                                                        "#bd3786"
                                                    ],
                                                    [
                                                        0.5555555555555556,
                                                        "#d8576b"
                                                    ],
                                                    [
                                                        0.6666666666666666,
                                                        "#ed7953"
                                                    ],
                                                    [
                                                        0.7777777777777778,
                                                        "#fb9f3a"
                                                    ],
                                                    [
                                                        0.8888888888888888,
                                                        "#fdca26"
                                                    ],
                                                    [
                                                        1,
                                                        "#f0f921"
                                                    ]
                                                ],
                                                "type": "histogram2d"
                                            }
                                        ],
                                        "histogram2dcontour": [
                                            {
                                                "colorbar": {
                                                    "outlinewidth": 0,
                                                    "ticks": ""
                                                },
                                                "colorscale": [
                                                    [
                                                        0,
                                                        "#0d0887"
                                                    ],
                                                    [
                                                        0.1111111111111111,
                                                        "#46039f"
                                                    ],
                                                    [
                                                        0.2222222222222222,
                                                        "#7201a8"
                                                    ],
                                                    [
                                                        0.3333333333333333,
                                                        "#9c179e"
                                                    ],
                                                    [
                                                        0.4444444444444444,
                                                        "#bd3786"
                                                    ],
                                                    [
                                                        0.5555555555555556,
                                                        "#d8576b"
                                                    ],
                                                    [
                                                        0.6666666666666666,
                                                        "#ed7953"
                                                    ],
                                                    [
                                                        0.7777777777777778,
                                                        "#fb9f3a"
                                                    ],
                                                    [
                                                        0.8888888888888888,
                                                        "#fdca26"
                                                    ],
                                                    [
                                                        1,
                                                        "#f0f921"
                                                    ]
                                                ],
                                                "type": "histogram2dcontour"
                                            }
                                        ],
                                        "mesh3d": [
                                            {
                                                "colorbar": {
                                                    "outlinewidth": 0,
                                                    "ticks": ""
                                                },
                                                "type": "mesh3d"
                                            }
                                        ],
                                        "parcoords": [
                                            {
                                                "line": {
                                                    "colorbar": {
                                                        "outlinewidth": 0,
                                                        "ticks": ""
                                                    }
                                                },
                                                "type": "parcoords"
                                            }
                                        ],
                                        "pie": [
                                            {
                                                "automargin": true,
                                                "type": "pie"
                                            }
                                        ],
                                        "scatter": [
                                            {
                                                "fillpattern": {
                                                    "fillmode": "overlay",
                                                    "size": 10,
                                                    "solidity": 0.2
                                                },
                                                "type": "scatter"
                                            }
                                        ],
                                        "scatter3d": [
                                            {
                                                "line": {
                                                    "colorbar": {
                                                        "outlinewidth": 0,
                                                        "ticks": ""
                                                    }
                                                },
                                                "marker": {
                                                    "colorbar": {
                                                        "outlinewidth": 0,
                                                        "ticks": ""
                                                    }
                                                },
                                                "type": "scatter3d"
                                            }
                                        ],
                                        "scattercarpet": [
                                            {
                                                "marker": {
                                                    "colorbar": {
                                                        "outlinewidth": 0,
                                                        "ticks": ""
                                                    }
                                                },
                                                "type": "scattercarpet"
                                            }
                                        ],
                                        "scattergeo": [
                                            {
                                                "marker": {
                                                    "colorbar": {
                                                        "outlinewidth": 0,
                                                        "ticks": ""
                                                    }
                                                },
                                                "type": "scattergeo"
                                            }
                                        ],
                                        "scattergl": [
                                            {
                                                "marker": {
                                                    "colorbar": {
                                                        "outlinewidth": 0,
                                                        "ticks": ""
                                                    }
                                                },
                                                "type": "scattergl"
                                            }
                                        ],
                                        "scattermapbox": [
                                            {
                                                "marker": {
                                                    "colorbar": {
                                                        "outlinewidth": 0,
                                                        "ticks": ""
                                                    }
                                                },
                                                "type": "scattermapbox"
                                            }
                                        ],
                                        "scatterpolar": [
                                            {
                                                "marker": {
                                                    "colorbar": {
                                                        "outlinewidth": 0,
                                                        "ticks": ""
                                                    }
                                                },
                                                "type": "scatterpolar"
                                            }
                                        ],
                                        "scatterpolargl": [
                                            {
                                                "marker": {
                                                    "colorbar": {
                                                        "outlinewidth": 0,
                                                        "ticks": ""
                                                    }
                                                },
                                                "type": "scatterpolargl"
                                            }
                                        ],
                                        "scatterternary": [
                                            {
                                                "marker": {
                                                    "colorbar": {
                                                        "outlinewidth": 0,
                                                        "ticks": ""
                                                    }
                                                },
                                                "type": "scatterternary"
                                            }
                                        ],
                                        "surface": [
                                            {
                                                "colorbar": {
                                                    "outlinewidth": 0,
                                                    "ticks": ""
                                                },
                                                "colorscale": [
                                                    [
                                                        0,
                                                        "#0d0887"
                                                    ],
                                                    [
                                                        0.1111111111111111,
                                                        "#46039f"
                                                    ],
                                                    [
                                                        0.2222222222222222,
                                                        "#7201a8"
                                                    ],
                                                    [
                                                        0.3333333333333333,
                                                        "#9c179e"
                                                    ],
                                                    [
                                                        0.4444444444444444,
                                                        "#bd3786"
                                                    ],
                                                    [
                                                        0.5555555555555556,
                                                        "#d8576b"
                                                    ],
                                                    [
                                                        0.6666666666666666,
                                                        "#ed7953"
                                                    ],
                                                    [
                                                        0.7777777777777778,
                                                        "#fb9f3a"
                                                    ],
                                                    [
                                                        0.8888888888888888,
                                                        "#fdca26"
                                                    ],
                                                    [
                                                        1,
                                                        "#f0f921"
                                                    ]
                                                ],
                                                "type": "surface"
                                            }
                                        ],
                                        "table": [
                                            {
                                                "cells": {
                                                    "fill": {
                                                        "color": "#EBF0F8"
                                                    },
                                                    "line": {
                                                        "color": "white"
                                                    }
                                                },
                                                "header": {
                                                    "fill": {
                                                        "color": "#C8D4E3"
                                                    },
                                                    "line": {
                                                        "color": "white"
                                                    }
                                                },
                                                "type": "table"
                                            }
                                        ]
                                    },
                                    "layout": {
                                        "annotationdefaults": {
                                            "arrowcolor": "#2a3f5f",
                                            "arrowhead": 0,
                                            "arrowwidth": 1
                                        },
                                        "autotypenumbers": "strict",
                                        "coloraxis": {
                                            "colorbar": {
                                                "outlinewidth": 0,
                                                "ticks": ""
                                            }
                                        },
                                        "colorscale": {
                                            "diverging": [
                                                [
                                                    0,
                                                    "#8e0152"
                                                ],
                                                [
                                                    0.1,
                                                    "#c51b7d"
                                                ],
                                                [
                                                    0.2,
                                                    "#de77ae"
                                                ],
                                                [
                                                    0.3,
                                                    "#f1b6da"
                                                ],
                                                [
                                                    0.4,
                                                    "#fde0ef"
                                                ],
                                                [
                                                    0.5,
                                                    "#f7f7f7"
                                                ],
                                                [
                                                    0.6,
                                                    "#e6f5d0"
                                                ],
                                                [
                                                    0.7,
                                                    "#b8e186"
                                                ],
                                                [
                                                    0.8,
                                                    "#7fbc41"
                                                ],
                                                [
                                                    0.9,
                                                    "#4d9221"
                                                ],
                                                [
                                                    1,
                                                    "#276419"
                                                ]
                                            ],
                                            "sequential": [
                                                [
                                                    0,
                                                    "#0d0887"
                                                ],
                                                [
                                                    0.1111111111111111,
                                                    "#46039f"
                                                ],
                                                [
                                                    0.2222222222222222,
                                                    "#7201a8"
                                                ],
                                                [
                                                    0.3333333333333333,
                                                    "#9c179e"
                                                ],
                                                [
                                                    0.4444444444444444,
                                                    "#bd3786"
                                                ],
                                                [
                                                    0.5555555555555556,
                                                    "#d8576b"
                                                ],
                                                [
                                                    0.6666666666666666,
                                                    "#ed7953"
                                                ],
                                                [
                                                    0.7777777777777778,
                                                    "#fb9f3a"
                                                ],
                                                [
                                                    0.8888888888888888,
                                                    "#fdca26"
                                                ],
                                                [
                                                    1,
                                                    "#f0f921"
                                                ]
                                            ],
                                            "sequentialminus": [
                                                [
                                                    0,
                                                    "#0d0887"
                                                ],
                                                [
                                                    0.1111111111111111,
                                                    "#46039f"
                                                ],
                                                [
                                                    0.2222222222222222,
                                                    "#7201a8"
                                                ],
                                                [
                                                    0.3333333333333333,
                                                    "#9c179e"
                                                ],
                                                [
                                                    0.4444444444444444,
                                                    "#bd3786"
                                                ],
                                                [
                                                    0.5555555555555556,
                                                    "#d8576b"
                                                ],
                                                [
                                                    0.6666666666666666,
                                                    "#ed7953"
                                                ],
                                                [
                                                    0.7777777777777778,
                                                    "#fb9f3a"
                                                ],
                                                [
                                                    0.8888888888888888,
                                                    "#fdca26"
                                                ],
                                                [
                                                    1,
                                                    "#f0f921"
                                                ]
                                            ]
                                        },
                                        "colorway": [
                                            "#636efa",
                                            "#EF553B",
                                            "#00cc96",
                                            "#ab63fa",
                                            "#FFA15A",
                                            "#19d3f3",
                                            "#FF6692",
                                            "#B6E880",
                                            "#FF97FF",
                                            "#FECB52"
                                        ],
                                        "font": {
                                            "color": "#2a3f5f"
                                        },
                                        "geo": {
                                            "bgcolor": "white",
                                            "lakecolor": "white",
                                            "landcolor": "#E5ECF6",
                                            "showlakes": true,
                                            "showland": true,
                                            "subunitcolor": "white"
                                        },
                                        "hoverlabel": {
                                            "align": "left"
                                        },
                                        "hovermode": "closest",
                                        "mapbox": {
                                            "style": "light"
                                        },
                                        "paper_bgcolor": "white",
                                        "plot_bgcolor": "#E5ECF6",
                                        "polar": {
                                            "angularaxis": {
                                                "gridcolor": "white",
                                                "linecolor": "white",
                                                "ticks": ""
                                            },
                                            "bgcolor": "#E5ECF6",
                                            "radialaxis": {
                                                "gridcolor": "white",
                                                "linecolor": "white",
                                                "ticks": ""
                                            }
                                        },
                                        "scene": {
                                            "xaxis": {
                                                "backgroundcolor": "#E5ECF6",
                                                "gridcolor": "white",
                                                "gridwidth": 2,
                                                "linecolor": "white",
                                                "showbackground": true,
                                                "ticks": "",
                                                "zerolinecolor": "white"
                                            },
                                            "yaxis": {
                                                "backgroundcolor": "#E5ECF6",
                                                "gridcolor": "white",
                                                "gridwidth": 2,
                                                "linecolor": "white",
                                                "showbackground": true,
                                                "ticks": "",
                                                "zerolinecolor": "white"
                                            },
                                            "zaxis": {
                                                "backgroundcolor": "#E5ECF6",
                                                "gridcolor": "white",
                                                "gridwidth": 2,
                                                "linecolor": "white",
                                                "showbackground": true,
                                                "ticks": "",
                                                "zerolinecolor": "white"
                                            }
                                        },
                                        "shapedefaults": {
                                            "line": {
                                                "color": "#2a3f5f"
                                            }
                                        },
                                        "ternary": {
                                            "aaxis": {
                                                "gridcolor": "white",
                                                "linecolor": "white",
                                                "ticks": ""
                                            },
                                            "baxis": {
                                                "gridcolor": "white",
                                                "linecolor": "white",
                                                "ticks": ""
                                            },
                                            "bgcolor": "#E5ECF6",
                                            "caxis": {
                                                "gridcolor": "white",
                                                "linecolor": "white",
                                                "ticks": ""
                                            }
                                        },
                                        "title": {
                                            "x": 0.05
                                        },
                                        "xaxis": {
                                            "automargin": true,
                                            "gridcolor": "white",
                                            "linecolor": "white",
                                            "ticks": "",
                                            "title": {
                                                "standoff": 15
                                            },
                                            "zerolinecolor": "white",
                                            "zerolinewidth": 2
                                        },
                                        "yaxis": {
                                            "automargin": true,
                                            "gridcolor": "white",
                                            "linecolor": "white",
                                            "ticks": "",
                                            "title": {
                                                "standoff": 15
                                            },
                                            "zerolinecolor": "white",
                                            "zerolinewidth": 2
                                        }
                                    }
                                },
                                "title": {
                                    "text": "Intermediate Values Plot"
                                },
                                "xaxis": {
                                    "title": {
                                        "text": "Step"
                                    }
                                },
                                "yaxis": {
                                    "title": {
                                        "text": "Intermediate Value"
                                    }
                                }
                            }
                        }
                    },
                    "metadata": {},
                    "output_type": "display_data"
                }
            ],
            "source": [
                "# create graph directory for this model\n",
                "graph_path = pathlib.Path(\n",
                "    f\"../../figures/{mlp_params.MODEL_TYPE}/{mlp_params.MODEL_NAME}/{mlp_params.CELL_TYPE}/hyperparameter_optimization\"\n",
                ").resolve(strict=True)\n",
                "\n",
                "pathlib.Path(graph_path).mkdir(parents=True, exist_ok=True)\n",
                "fig = optuna.visualization.plot_intermediate_values(study)\n",
                "\n",
                "graph_path = f\"{graph_path}/plot_intermediate_values_graph\"\n",
                "\n",
                "fig.write_image(pathlib.Path(f\"{graph_path}.png\"))\n",
                "fig.show()"
            ]
        },
        {
            "cell_type": "code",
            "execution_count": 34,
            "id": "325a1ec3",
            "metadata": {
                "execution": {
                    "iopub.execute_input": "2023-10-18T18:17:37.971533Z",
                    "iopub.status.busy": "2023-10-18T18:17:37.971249Z",
                    "iopub.status.idle": "2023-10-18T18:17:37.974028Z",
                    "shell.execute_reply": "2023-10-18T18:17:37.973638Z"
                },
                "papermill": {
                    "duration": null,
                    "end_time": null,
                    "exception": null,
                    "start_time": null,
                    "status": "completed"
                },
                "tags": []
            },
            "outputs": [],
            "source": [
                "param_dict = extract_best_trial_params(\n",
                "    study.best_params, params, model_name=mlp_params.MODEL_NAME\n",
                ")"
            ]
        }
    ],
    "metadata": {
        "jupytext": {
            "cell_metadata_filter": "-all",
            "encoding": "# coding: utf-8",
            "executable": "/usr/bin/env python",
            "formats": "ipynb,py",
            "main_language": "python"
        },
        "kernelspec": {
            "display_name": "Python 3 (ipykernel)",
            "language": "python",
            "name": "python3"
        },
        "language_info": {
            "codemirror_mode": {
                "name": "ipython",
                "version": 3
            },
            "file_extension": ".py",
            "mimetype": "text/x-python",
            "name": "python",
            "nbconvert_exporter": "python",
            "pygments_lexer": "ipython3",
            "version": "3.10.12"
        },
        "papermill": {
            "default_parameters": {},
            "duration": 59.524284,
            "end_time": "2023-10-18T18:21:03.252265",
            "environment_variables": {},
            "exception": null,
            "input_path": "Hyperparameter_Optimization_model_binary.ipynb",
            "output_path": "Hyperparameter_Optimization_model_binary.ipynb",
            "parameters": {
                "CELL_TYPE": "PBMC",
                "CONTROL_NAME": "DMSO_0.100_%_DMSO_0.025_%",
                "MODEL_NAME": "DMSO_0.025_vs_Thapsigargin_10",
                "TREATMENT_NAME": "Thapsigargin_10.000_uM_DMSO_0.025_%"
            },
            "start_time": "2023-10-18T18:20:03.727981",
            "version": "2.4.0"
        },
        "vscode": {
            "interpreter": {
                "hash": "72ae02083a9ca7d143c492d1aec380c7bf553ec51bd66e90e72bba65228121b6"
            }
        }
    },
    "nbformat": 4,
    "nbformat_minor": 5
}
