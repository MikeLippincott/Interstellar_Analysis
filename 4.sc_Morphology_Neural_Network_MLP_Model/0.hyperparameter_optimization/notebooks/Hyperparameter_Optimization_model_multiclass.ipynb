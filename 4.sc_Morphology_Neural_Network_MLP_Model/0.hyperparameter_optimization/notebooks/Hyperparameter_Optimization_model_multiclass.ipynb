{
    "cells": [
        {
            "attachments": {},
            "cell_type": "markdown",
            "id": "8e60628c",
            "metadata": {
                "papermill": {
                    "duration": 0.002385,
                    "end_time": "2023-10-18T18:20:04.868387",
                    "exception": false,
                    "start_time": "2023-10-18T18:20:04.866002",
                    "status": "completed"
                },
                "tags": []
            },
            "source": [
                "## Hyperparameter tuning via Optuna"
            ]
        },
        {
            "cell_type": "markdown",
            "id": "8fac71a5",
            "metadata": {
                "papermill": {
                    "duration": 0.001919,
                    "end_time": "2023-10-18T18:20:04.873048",
                    "exception": false,
                    "start_time": "2023-10-18T18:20:04.871129",
                    "status": "completed"
                },
                "tags": []
            },
            "source": [
                "### Being a binary model this notebook will be limited to predicting one class 1 or 0, yes or no.\n",
                "### Here I will be predicting if a cell received a treatment or not"
            ]
        },
        {
            "cell_type": "code",
            "execution_count": 1,
            "id": "860a61dd",
            "metadata": {
                "execution": {
                    "iopub.execute_input": "2023-10-18T18:20:04.878009Z",
                    "iopub.status.busy": "2023-10-18T18:20:04.877582Z",
                    "iopub.status.idle": "2023-10-18T18:20:08.479452Z",
                    "shell.execute_reply": "2023-10-18T18:20:08.478953Z"
                },
                "papermill": {
                    "duration": 3.605361,
                    "end_time": "2023-10-18T18:20:08.480497",
                    "exception": false,
                    "start_time": "2023-10-18T18:20:04.875136",
                    "status": "completed"
                },
                "tags": []
            },
            "outputs": [],
            "source": [
                "import pathlib\n",
                "import sys\n",
                "\n",
                "import numpy as np\n",
                "import optuna\n",
                "import pandas as pd\n",
                "import pyarrow.parquet as pq\n",
                "import toml\n",
                "import torch\n",
                "from sklearn import preprocessing\n",
                "\n",
                "sys.path.append(\"../..\")\n",
                "\n",
                "import argparse\n",
                "\n",
                "from MLP_utils.parameters import Parameters\n",
                "from MLP_utils.utils import (\n",
                "    Dataset_formatter,\n",
                "    data_split,\n",
                "    extract_best_trial_params,\n",
                "    objective_model_optimizer,\n",
                "    parameter_set,\n",
                "    plot_metric_vs_epoch,\n",
                "    results_output,\n",
                "    test_optimized_model,\n",
                "    train_optimized_model,\n",
                "    un_nest,\n",
                ")\n",
                "from sklearn.model_selection import train_test_split\n",
                "\n",
                "sys.path.append(\"../../..\")\n",
                "from utils.utils import df_stats"
            ]
        },
        {
            "cell_type": "code",
            "execution_count": 2,
            "id": "15fbe814",
            "metadata": {},
            "outputs": [],
            "source": [
                "# set up the parser\n",
                "parser = argparse.ArgumentParser(description=\"Run hyperparameter optimization\")\n",
                "parser.add_argument(\n",
                "    \"--cell_type\",\n",
                "    type=str,\n",
                "    default=\"all\",\n",
                "    help=\"Cell type to run hyperparameter optimization for\",\n",
                ")\n",
                "parser.add_argument(\n",
                "    \"--model_name\",\n",
                "    type=str,\n",
                "    default=\"all\",\n",
                "    help=\"Model name to run hyperparameter optimization for\",\n",
                ")\n",
                "\n",
                "# parse arguments\n",
                "args = parser.parse_args()\n",
                "\n",
                "CELL_TYPE = args.cell_type\n",
                "MODEL_NAME = args.model_name"
            ]
        },
        {
            "cell_type": "code",
            "execution_count": 4,
            "id": "394294ce",
            "metadata": {
                "execution": {
                    "iopub.execute_input": "2023-10-18T18:20:08.498713Z",
                    "iopub.status.busy": "2023-10-18T18:20:08.498501Z",
                    "iopub.status.idle": "2023-10-18T18:20:08.502638Z",
                    "shell.execute_reply": "2023-10-18T18:20:08.502299Z"
                },
                "papermill": {
                    "duration": 0.007175,
                    "end_time": "2023-10-18T18:20:08.503377",
                    "exception": false,
                    "start_time": "2023-10-18T18:20:08.496202",
                    "status": "completed"
                },
                "tags": []
            },
            "outputs": [],
            "source": [
                "ml_configs_file = pathlib.Path(\"../../MLP_utils/multi_class_config.toml\").resolve(\n",
                "    strict=True\n",
                ")\n",
                "ml_configs = toml.load(ml_configs_file)\n",
                "params = Parameters()\n",
                "mlp_params = parameter_set(params, ml_configs)\n",
                "\n",
                "# overwrite params via command line arguments from papermill\n",
                "mlp_params.CELL_TYPE = CELL_TYPE\n",
                "mlp_params.MODEL_NAME = MODEL_NAME\n",
                "MODEL_TYPE = mlp_params.MODEL_TYPE\n",
                "HYPERPARAMETER_BATCH_SIZE = mlp_params.HYPERPARAMETER_BATCH_SIZE"
            ]
        },
        {
            "cell_type": "code",
            "execution_count": 5,
            "id": "44baa945",
            "metadata": {
                "execution": {
                    "iopub.execute_input": "2023-10-18T18:20:08.507805Z",
                    "iopub.status.busy": "2023-10-18T18:20:08.507608Z"
                },
                "papermill": {
                    "duration": 54.581971,
                    "end_time": "2023-10-18T18:21:03.087265",
                    "exception": false,
                    "start_time": "2023-10-18T18:20:08.505294",
                    "status": "completed"
                },
                "tags": []
            },
            "outputs": [],
            "source": [
                "# Import Data\n",
                "# set data file path under pathlib path for multi-system use\n",
                "\n",
                "file_path = pathlib.Path(\n",
                "    f\"../../../data/{mlp_params.CELL_TYPE}_preprocessed_sc_norm.parquet\"\n",
                ").resolve(strict=True)\n",
                "\n",
                "# output file path for labeled data\n",
                "output_file_path = pathlib.Path(\n",
                "    f\"../../../data/{mlp_params.CELL_TYPE}_preprocessed_sc_norm_labeled.parquet\"\n",
                ").resolve()\n",
                "\n",
                "df1 = pd.read_parquet(file_path)"
            ]
        },
        {
            "cell_type": "code",
            "execution_count": 6,
            "id": "e8ef96f3",
            "metadata": {},
            "outputs": [],
            "source": [
                "# get paths for toml files\n",
                "ground_truth_file_path = pathlib.Path(f\"../../MLP_utils/ground_truth.toml\").resolve(\n",
                "    strict=True\n",
                ")\n",
                "treatment_splits_file_path = pathlib.Path(f\"../../MLP_utils/splits.toml\").resolve(\n",
                "    strict=True\n",
                ")\n",
                "# read toml files\n",
                "ground_truth = toml.load(ground_truth_file_path)\n",
                "treatment_splits = toml.load(treatment_splits_file_path)"
            ]
        },
        {
            "cell_type": "code",
            "execution_count": 7,
            "id": "29c1f3cb",
            "metadata": {},
            "outputs": [],
            "source": [
                "# get information from toml files\n",
                "apoptosis_groups_list = ground_truth[\"Apoptosis\"][\"apoptosis_groups_list\"]\n",
                "pyroptosis_groups_list = ground_truth[\"Pyroptosis\"][\"pyroptosis_groups_list\"]\n",
                "healthy_groups_list = ground_truth[\"Healthy\"][\"healthy_groups_list\"]\n",
                "test_split_100 = treatment_splits[\"splits\"][\"data_splits_100\"]\n",
                "test_split_75 = treatment_splits[\"splits\"][\"data_splits_75\"]"
            ]
        },
        {
            "cell_type": "code",
            "execution_count": 8,
            "id": "159e2281",
            "metadata": {},
            "outputs": [
                {
                    "name": "stdout",
                    "output_type": "stream",
                    "text": [
                        "(598156, 1252)\n",
                        "Data Subset Is Off\n"
                    ]
                }
            ],
            "source": [
                "np.random.seed(0)\n",
                "print(df1.shape)\n",
                "if mlp_params.DATA_SUBSET_OPTION == \"True\":\n",
                "    df1 = df1.groupby(\"oneb_Metadata_Treatment_Dose_Inhibitor_Dose\").apply(\n",
                "        lambda x: x.sample(n=mlp_params.DATA_SUBSET_NUMBER, random_state=0)\n",
                "    )\n",
                "    print(\"Data Subset Is On\")\n",
                "    print(f\"Data is subset to {mlp_params.DATA_SUBSET_NUMBER} per treatment group\")\n",
                "    print(df1.shape)\n",
                "    df1.reset_index(drop=True, inplace=True)\n",
                "else:\n",
                "    print(\"Data Subset Is Off\")"
            ]
        },
        {
            "cell_type": "code",
            "execution_count": 9,
            "id": "6a6ec3fa",
            "metadata": {},
            "outputs": [],
            "source": [
                "# add apoptosis, pyroptosis and healthy columns to dataframe\n",
                "df1[\"apoptosis\"] = df1.apply(\n",
                "    lambda row: row[\"oneb_Metadata_Treatment_Dose_Inhibitor_Dose\"]\n",
                "    in apoptosis_groups_list,\n",
                "    axis=1,\n",
                ")\n",
                "df1[\"pyroptosis\"] = df1.apply(\n",
                "    lambda row: row[\"oneb_Metadata_Treatment_Dose_Inhibitor_Dose\"]\n",
                "    in pyroptosis_groups_list,\n",
                "    axis=1,\n",
                ")\n",
                "df1[\"healthy\"] = df1.apply(\n",
                "    lambda row: row[\"oneb_Metadata_Treatment_Dose_Inhibitor_Dose\"]\n",
                "    in healthy_groups_list,\n",
                "    axis=1,\n",
                ")\n",
                "\n",
                "# merge apoptosis, pyroptosis, and healthy columns into one column\n",
                "df1[\"labels\"] = df1.apply(\n",
                "    lambda row: \"apoptosis\"\n",
                "    if row[\"apoptosis\"]\n",
                "    else \"pyroptosis\"\n",
                "    if row[\"pyroptosis\"]\n",
                "    else \"healthy\",\n",
                "    axis=1,\n",
                ")\n",
                "# drop apoptosis, pyroptosis, and healthy columns\n",
                "df1.drop(columns=[\"apoptosis\", \"pyroptosis\", \"healthy\"], inplace=True)\n",
                "\n",
                "# save labeled data\n",
                "df1.to_parquet(output_file_path)"
            ]
        },
        {
            "cell_type": "markdown",
            "id": "3cb179dd",
            "metadata": {},
            "source": [
                "### Split said data"
            ]
        },
        {
            "cell_type": "code",
            "execution_count": 10,
            "id": "20568fd5",
            "metadata": {},
            "outputs": [
                {
                    "name": "stdout",
                    "output_type": "stream",
                    "text": [
                        "Wells held out for testing: ['F14' 'G17' 'H17' 'D18' 'E18' 'B19' 'G19' 'D20' 'F20' 'B21' 'C21' 'E21'\n",
                        " 'F22' 'H22' 'C23' 'I13' 'J13' 'K13' 'L13' 'I14' 'L14' 'N14' 'K15' 'O15'\n",
                        " 'J16' 'N16' 'O17' 'I18' 'L18' 'M18' 'I20' 'K20' 'L21' 'M21' 'N22' 'J23'\n",
                        " 'K23']\n",
                        "Wells to use for training, validation, and testing ['B13' 'C13' 'D13' 'E13' 'F13' 'G13' 'H13' 'B14' 'C14' 'D14' 'E14' 'F14'\n",
                        " 'G14' 'H14' 'B15' 'C15' 'D15' 'E15' 'F15' 'G15' 'H15' 'B16' 'C16' 'D16'\n",
                        " 'E16' 'F16' 'G16' 'H16' 'B17' 'C17' 'D17' 'E17' 'F17' 'G17' 'H17' 'B18'\n",
                        " 'C18' 'D18' 'E18' 'F18' 'G18' 'H18' 'B19' 'C19' 'D19' 'E19' 'F19' 'G19'\n",
                        " 'H19' 'B20' 'C20' 'D20' 'E20' 'F20' 'G20' 'H20' 'B21' 'C21' 'D21' 'E21'\n",
                        " 'F21' 'G21' 'H21' 'B22' 'C22' 'D22' 'E22' 'F22' 'G22' 'H22' 'B23' 'C23'\n",
                        " 'D23' 'E23' 'F23' 'G23' 'H23' 'I13' 'J13' 'K13' 'L13' 'M13' 'N13' 'O13'\n",
                        " 'I14' 'J14' 'K14' 'L14' 'M14' 'N14' 'O14' 'I15' 'J15' 'K15' 'L15' 'M15'\n",
                        " 'N15' 'O15' 'I16' 'J16' 'K16' 'L16' 'M16' 'N16' 'O16' 'I17' 'J17' 'K17'\n",
                        " 'L17' 'M17' 'N17' 'O17' 'I18' 'J18' 'K18' 'L18' 'M18' 'N18' 'O18' 'I19'\n",
                        " 'J19' 'K19' 'L19' 'M19' 'N19' 'O19' 'I20' 'J20' 'K20' 'L20' 'M20' 'N20'\n",
                        " 'O20' 'I21' 'J21' 'K21' 'L21' 'M21' 'N21' 'O21' 'I22' 'J22' 'K22' 'L22'\n",
                        " 'M22' 'N22' 'O22' 'I23' 'J23' 'K23' 'L23' 'M23' 'N23' 'O23']\n"
                    ]
                }
            ],
            "source": [
                "# randomly select wells to hold out for testing one per treatment group\n",
                "# stratified by treatment group\n",
                "np.random.seed(seed=0)\n",
                "wells_to_hold = (\n",
                "    df1.groupby(\"oneb_Metadata_Treatment_Dose_Inhibitor_Dose\")\n",
                "    .agg(np.random.choice)[\"Metadata_Well\"]\n",
                "    .to_list()\n",
                ")\n",
                "df_holdout = df1[df1[\"Metadata_Well\"].isin(wells_to_hold)]\n",
                "df = df1[~df1[\"Metadata_Well\"].isin(wells_to_hold)]\n",
                "\n",
                "\n",
                "print(\"Wells held out for testing:\", df_holdout[\"Metadata_Well\"].unique())\n",
                "print(\n",
                "    \"Wells to use for training, validation, and testing\", df1[\"Metadata_Well\"].unique()\n",
                ")"
            ]
        },
        {
            "cell_type": "code",
            "execution_count": 11,
            "id": "5a46d3a7",
            "metadata": {},
            "outputs": [
                {
                    "name": "stdout",
                    "output_type": "stream",
                    "text": [
                        "(54629, 1253) (23414, 1253) (374597, 1253)\n"
                    ]
                }
            ],
            "source": [
                "# variable test and train set splits\n",
                "# 100% test set\n",
                "# subset the following treatments for test set\n",
                "treatment_holdout = df[\n",
                "    df[\"oneb_Metadata_Treatment_Dose_Inhibitor_Dose\"].isin(test_split_100)\n",
                "]\n",
                "# 75% test set and 25% train set\n",
                "test_set_75 = df[df[\"oneb_Metadata_Treatment_Dose_Inhibitor_Dose\"].isin(test_split_75)]\n",
                "\n",
                "test_100_and_75 = test_split_100 + test_split_75\n",
                "\n",
                "# 50% test set and 50% train set\n",
                "# get all treatments that are not in the_test_set_all and the test_set_75\n",
                "test_set_50 = df[\n",
                "    ~df[\"oneb_Metadata_Treatment_Dose_Inhibitor_Dose\"].isin(test_100_and_75)\n",
                "]\n",
                "\n",
                "print(treatment_holdout.shape, test_set_75.shape, test_set_50.shape)"
            ]
        },
        {
            "cell_type": "code",
            "execution_count": 12,
            "id": "26b32963",
            "metadata": {},
            "outputs": [
                {
                    "name": "stdout",
                    "output_type": "stream",
                    "text": [
                        "Shape for the 100% test set: (54629, 1253)\n",
                        "\n",
                        "Shape for the 75% test set: (5853, 1253);\n",
                        "Shape for the 75% train set: (17561, 1253)\n",
                        "\n",
                        "Shape for the holdout set: (145516, 1253)\n"
                    ]
                }
            ],
            "source": [
                "# get the train test splits from each group\n",
                "# 100% test set\n",
                "treatment_holdout\n",
                "\n",
                "# 75% test set and 25% train set\n",
                "test_ratio = 0.75\n",
                "training_data_set_75, testing_data_set_75 = train_test_split(\n",
                "    test_set_75,\n",
                "    test_size=test_ratio,\n",
                "    stratify=test_set_75[\"oneb_Metadata_Treatment_Dose_Inhibitor_Dose\"],\n",
                "    random_state=0,\n",
                ")\n",
                "\n",
                "# 50% test set and 50% train set\n",
                "test_ratio = 0.5\n",
                "training_data_set_50, testing_data_set_50 = train_test_split(\n",
                "    test_set_50,\n",
                "    test_size=test_ratio,\n",
                "    stratify=test_set_50[\"oneb_Metadata_Treatment_Dose_Inhibitor_Dose\"],\n",
                "    random_state=0,\n",
                ")\n",
                "\n",
                "# verify that the correct splits have been made\n",
                "# 100% test set\n",
                "print(f\"Shape for the 100% test set: {treatment_holdout.shape}\\n\")\n",
                "\n",
                "# 75% test set and 25% train set\n",
                "print(\n",
                "    f\"Shape for the 75% test set: {training_data_set_75.shape};\\nShape for the 75% train set: {testing_data_set_75.shape}\\n\"\n",
                ")\n",
                "\n",
                "# 50% test set and 50% train set\n",
                "print(f\"Shape for the holdout set: {df_holdout.shape}\")"
            ]
        },
        {
            "cell_type": "code",
            "execution_count": 13,
            "id": "9bf407c4",
            "metadata": {},
            "outputs": [
                {
                    "name": "stdout",
                    "output_type": "stream",
                    "text": [
                        "\n",
                        "    Testing set length: 204860\n",
                        "\n",
                        "    Training set length: 154520\n",
                        "\n",
                        "    Validation set length: 38631\n",
                        "\n",
                        "    Treatment Holdout set length: 54629\n",
                        "\n",
                        "    Holdout set length: 145516\n"
                    ]
                }
            ],
            "source": [
                "treatment_holdout\n",
                "# combine all testing sets together while preserving the index\n",
                "testing_data_set = pd.concat([testing_data_set_75, testing_data_set_50], axis=0)\n",
                "testing_data_set = testing_data_set.sort_index()\n",
                "testing_data_set\n",
                "\n",
                "# combine all training sets together while preserving the index\n",
                "training_data_set = pd.concat([training_data_set_75, training_data_set_50], axis=0)\n",
                "training_data_set = training_data_set.sort_index()\n",
                "training_data_set\n",
                "\n",
                "training_data_set, val_data_set = train_test_split(\n",
                "    training_data_set,\n",
                "    test_size=0.20,\n",
                "    stratify=training_data_set[\"oneb_Metadata_Treatment_Dose_Inhibitor_Dose\"],\n",
                ")\n",
                "print(\n",
                "    f\"\"\"\n",
                "    Testing set length: {len(testing_data_set)}\\n\n",
                "    Training set length: {len(training_data_set)}\\n\n",
                "    Validation set length: {len(val_data_set)}\\n\n",
                "    Treatment Holdout set length: {len(treatment_holdout)}\\n\n",
                "    Holdout set length: {len(df_holdout)}\"\"\"\n",
                ")"
            ]
        },
        {
            "cell_type": "code",
            "execution_count": 14,
            "id": "5da1578c",
            "metadata": {},
            "outputs": [],
            "source": [
                "# get the indexes for the training and testing sets\n",
                "\n",
                "training_data_set_index = training_data_set.index\n",
                "val_data_set_index = val_data_set.index\n",
                "testing_data_set_index = testing_data_set.index\n",
                "treatment_holdout_index = treatment_holdout.index\n",
                "df_holdout_index = df_holdout.index"
            ]
        },
        {
            "cell_type": "code",
            "execution_count": 15,
            "id": "bce398ed",
            "metadata": {},
            "outputs": [
                {
                    "name": "stdout",
                    "output_type": "stream",
                    "text": [
                        "(154520,) (38631,) (204860,) (54629,) (145516,)\n",
                        "598156\n"
                    ]
                }
            ],
            "source": [
                "print(\n",
                "    training_data_set_index.shape,\n",
                "    val_data_set_index.shape,\n",
                "    testing_data_set_index.shape,\n",
                "    treatment_holdout_index.shape,\n",
                "    df_holdout_index.shape,\n",
                ")\n",
                "print(\n",
                "    training_data_set_index.shape[0]\n",
                "    + val_data_set_index.shape[0]\n",
                "    + testing_data_set_index.shape[0]\n",
                "    + treatment_holdout_index.shape[0]\n",
                "    + df_holdout_index.shape[0]\n",
                ")"
            ]
        },
        {
            "cell_type": "code",
            "execution_count": 16,
            "id": "ad856f53",
            "metadata": {},
            "outputs": [
                {
                    "data": {
                        "text/html": [
                            "<div>\n",
                            "<style scoped>\n",
                            "    .dataframe tbody tr th:only-of-type {\n",
                            "        vertical-align: middle;\n",
                            "    }\n",
                            "\n",
                            "    .dataframe tbody tr th {\n",
                            "        vertical-align: top;\n",
                            "    }\n",
                            "\n",
                            "    .dataframe thead th {\n",
                            "        text-align: right;\n",
                            "    }\n",
                            "</style>\n",
                            "<table border=\"1\" class=\"dataframe\">\n",
                            "  <thead>\n",
                            "    <tr style=\"text-align: right;\">\n",
                            "      <th></th>\n",
                            "      <th>labeled_data_index</th>\n",
                            "      <th>label</th>\n",
                            "    </tr>\n",
                            "  </thead>\n",
                            "  <tbody>\n",
                            "    <tr>\n",
                            "      <th>0</th>\n",
                            "      <td>455753</td>\n",
                            "      <td>train</td>\n",
                            "    </tr>\n",
                            "    <tr>\n",
                            "      <th>1</th>\n",
                            "      <td>203787</td>\n",
                            "      <td>train</td>\n",
                            "    </tr>\n",
                            "    <tr>\n",
                            "      <th>2</th>\n",
                            "      <td>253674</td>\n",
                            "      <td>train</td>\n",
                            "    </tr>\n",
                            "    <tr>\n",
                            "      <th>3</th>\n",
                            "      <td>20724</td>\n",
                            "      <td>train</td>\n",
                            "    </tr>\n",
                            "    <tr>\n",
                            "      <th>4</th>\n",
                            "      <td>246078</td>\n",
                            "      <td>train</td>\n",
                            "    </tr>\n",
                            "    <tr>\n",
                            "      <th>...</th>\n",
                            "      <td>...</td>\n",
                            "      <td>...</td>\n",
                            "    </tr>\n",
                            "    <tr>\n",
                            "      <th>598151</th>\n",
                            "      <td>587031</td>\n",
                            "      <td>holdout</td>\n",
                            "    </tr>\n",
                            "    <tr>\n",
                            "      <th>598152</th>\n",
                            "      <td>587032</td>\n",
                            "      <td>holdout</td>\n",
                            "    </tr>\n",
                            "    <tr>\n",
                            "      <th>598153</th>\n",
                            "      <td>587033</td>\n",
                            "      <td>holdout</td>\n",
                            "    </tr>\n",
                            "    <tr>\n",
                            "      <th>598154</th>\n",
                            "      <td>587034</td>\n",
                            "      <td>holdout</td>\n",
                            "    </tr>\n",
                            "    <tr>\n",
                            "      <th>598155</th>\n",
                            "      <td>587035</td>\n",
                            "      <td>holdout</td>\n",
                            "    </tr>\n",
                            "  </tbody>\n",
                            "</table>\n",
                            "<p>598156 rows \u00d7 2 columns</p>\n",
                            "</div>"
                        ],
                        "text/plain": [
                            "        labeled_data_index    label\n",
                            "0                   455753    train\n",
                            "1                   203787    train\n",
                            "2                   253674    train\n",
                            "3                    20724    train\n",
                            "4                   246078    train\n",
                            "...                    ...      ...\n",
                            "598151              587031  holdout\n",
                            "598152              587032  holdout\n",
                            "598153              587033  holdout\n",
                            "598154              587034  holdout\n",
                            "598155              587035  holdout\n",
                            "\n",
                            "[598156 rows x 2 columns]"
                        ]
                    },
                    "execution_count": 16,
                    "metadata": {},
                    "output_type": "execute_result"
                }
            ],
            "source": [
                "# create pandas dataframe with all indexes and their respective labels, stratified by phenotypic class\n",
                "index_data = []\n",
                "for index in training_data_set_index:\n",
                "    index_data.append({\"labeled_data_index\": index, \"label\": \"train\"})\n",
                "for index in val_data_set_index:\n",
                "    index_data.append({\"labeled_data_index\": index, \"label\": \"val\"})\n",
                "for index in testing_data_set_index:\n",
                "    index_data.append({\"labeled_data_index\": index, \"label\": \"test\"})\n",
                "for index in treatment_holdout_index:\n",
                "    index_data.append({\"labeled_data_index\": index, \"label\": \"treatment_holdout\"})\n",
                "for index in df_holdout_index:\n",
                "    index_data.append({\"labeled_data_index\": index, \"label\": \"holdout\"})\n",
                "\n",
                "# make index data a dataframe and sort it by labeled data index\n",
                "index_data = pd.DataFrame(index_data)\n",
                "index_data"
            ]
        },
        {
            "cell_type": "code",
            "execution_count": 17,
            "id": "70798091",
            "metadata": {},
            "outputs": [
                {
                    "data": {
                        "text/plain": [
                            "array(['train', 'val', 'test', 'treatment_holdout', 'holdout'],\n",
                            "      dtype=object)"
                        ]
                    },
                    "execution_count": 17,
                    "metadata": {},
                    "output_type": "execute_result"
                }
            ],
            "source": [
                "index_data[\"label\"].unique()"
            ]
        },
        {
            "cell_type": "code",
            "execution_count": 18,
            "id": "931ee871",
            "metadata": {},
            "outputs": [
                {
                    "name": "stdout",
                    "output_type": "stream",
                    "text": [
                        "../indexes/SHSY5Y/multi_class\n"
                    ]
                }
            ],
            "source": [
                "save_path = pathlib.Path(f\"../indexes/{CELL_TYPE}/multi_class/\")\n",
                "\n",
                "print(save_path)\n",
                "# create save path if it doesn't exist\n",
                "save_path.mkdir(parents=True, exist_ok=True)"
            ]
        },
        {
            "cell_type": "code",
            "execution_count": 19,
            "id": "686d1a5d",
            "metadata": {},
            "outputs": [],
            "source": [
                "# save indexes as tsv file\n",
                "index_data.to_csv(\n",
                "    f\"{save_path}/{params.MODEL_NAME}_data_split_indexes.tsv\", sep=\"\\t\", index=False\n",
                ")"
            ]
        },
        {
            "attachments": {},
            "cell_type": "markdown",
            "id": "5c486e00",
            "metadata": {
                "papermill": {
                    "duration": null,
                    "end_time": null,
                    "exception": null,
                    "start_time": null,
                    "status": "completed"
                },
                "tags": []
            },
            "source": [
                "#### Set up Data to be compatible with model"
            ]
        },
        {
            "attachments": {},
            "cell_type": "markdown",
            "id": "95754baa",
            "metadata": {
                "papermill": {
                    "duration": null,
                    "end_time": null,
                    "exception": null,
                    "start_time": null,
                    "status": "completed"
                },
                "tags": []
            },
            "source": [
                "##### Classification Models:\n",
                "Comment out code if using regression"
            ]
        },
        {
            "cell_type": "code",
            "execution_count": 20,
            "id": "786e3a76",
            "metadata": {
                "execution": {
                    "iopub.execute_input": "2023-10-18T18:19:56.707754Z",
                    "iopub.status.busy": "2023-10-18T18:19:56.707475Z",
                    "iopub.status.idle": "2023-10-18T18:19:56.711213Z",
                    "shell.execute_reply": "2023-10-18T18:19:56.710882Z"
                },
                "papermill": {
                    "duration": null,
                    "end_time": null,
                    "exception": null,
                    "start_time": null,
                    "status": "completed"
                },
                "tags": []
            },
            "outputs": [],
            "source": [
                "# Code snippet for metadata extraction by Jenna Tomkinson\n",
                "df_metadata = list(df.columns[df.columns.str.contains(\"Metadata\")])\n",
                "\n",
                "# define which columns are data and which are descriptive\n",
                "df_descriptive = df1[df_metadata]\n",
                "df_values = df1.drop(columns=df_metadata)"
            ]
        },
        {
            "cell_type": "code",
            "execution_count": 21,
            "id": "5a354640",
            "metadata": {},
            "outputs": [
                {
                    "name": "stdout",
                    "output_type": "stream",
                    "text": [
                        "['apoptosis' 'healthy' 'pyroptosis'] [ 26989 295870 275297]\n",
                        "[0, 1, 2] [0.9548796634991541, 0.5053631494125279, 0.5397571870883181]\n"
                    ]
                }
            ],
            "source": [
                "# get the class weights for the loss function to account for class imbalance\n",
                "# get the number of samples in each class\n",
                "targets, counts = np.unique(df1[\"labels\"], return_counts=True)\n",
                "print(targets, counts)\n",
                "total_counts = np.sum(counts)\n",
                "# get the class weights\n",
                "class_weights = []\n",
                "class_targets = []\n",
                "for class_name in enumerate(targets):\n",
                "    class_targets.append(class_name[0])\n",
                "for count in enumerate(counts):\n",
                "    class_weights.append(1 - (count[1] / total_counts))\n",
                "print(class_targets, class_weights)\n",
                "# write the class weights to a file for use in the model\n",
                "class_weights_file = pathlib.Path(f\"../class_weights/{CELL_TYPE}/multi_class/\")\n",
                "class_weights_file.mkdir(parents=True, exist_ok=True)\n",
                "with open(f\"{class_weights_file}/class_weights.txt\", \"w\") as filehandle:\n",
                "    for listitem in class_weights:\n",
                "        filehandle.write(\"%s\\n\" % listitem)"
            ]
        },
        {
            "cell_type": "code",
            "execution_count": 22,
            "id": "595afb65",
            "metadata": {
                "execution": {
                    "iopub.execute_input": "2023-10-18T18:19:56.717727Z",
                    "iopub.status.busy": "2023-10-18T18:19:56.717549Z",
                    "iopub.status.idle": "2023-10-18T18:19:56.720945Z",
                    "shell.execute_reply": "2023-10-18T18:19:56.720676Z"
                },
                "papermill": {
                    "duration": null,
                    "end_time": null,
                    "exception": null,
                    "start_time": null,
                    "status": "completed"
                },
                "tags": []
            },
            "outputs": [
                {
                    "data": {
                        "text/plain": [
                            "array([1, 0, 2])"
                        ]
                    },
                    "execution_count": 22,
                    "metadata": {},
                    "output_type": "execute_result"
                }
            ],
            "source": [
                "# Creating label encoder\n",
                "le = preprocessing.LabelEncoder()\n",
                "df_values[\"new_labels\"] = le.fit_transform(df_values[\"labels\"])\n",
                "# get mini dataframe that contains the decoder\n",
                "decoder = df_values[[\"labels\", \"new_labels\"]].drop_duplicates()\n",
                "# split into X and Y where Y are the predictive column and x are the observable data\n",
                "df_values_X = df_values.drop(\n",
                "    [\"new_labels\", \"labels\"],\n",
                "    axis=1,\n",
                ")\n",
                "df_values_Y = df_values[\"new_labels\"]\n",
                "df_values_Y.head()\n",
                "df_values_Y.unique()"
            ]
        },
        {
            "attachments": {},
            "cell_type": "markdown",
            "id": "260a048e",
            "metadata": {
                "papermill": {
                    "duration": null,
                    "end_time": null,
                    "exception": null,
                    "start_time": null,
                    "status": "completed"
                },
                "tags": []
            },
            "source": [
                "#### Split Data - All Models can proceed through this point"
            ]
        },
        {
            "cell_type": "code",
            "execution_count": 23,
            "id": "b5b6d4fa",
            "metadata": {},
            "outputs": [],
            "source": [
                "# split into train and test sets from indexes previously defined\n",
                "\n",
                "X_train = df_values_X.loc[training_data_set_index]\n",
                "X_val = df_values_X.loc[val_data_set_index]\n",
                "X_test = df_values_X.loc[testing_data_set_index]\n",
                "X_holdout = df_values_X.loc[df_holdout_index]\n",
                "X_treatment_holdout = df_values_X.loc[treatment_holdout_index]\n",
                "\n",
                "Y_train = df_values_Y.loc[training_data_set_index]\n",
                "Y_val = df_values_Y.loc[val_data_set_index]\n",
                "Y_test = df_values_Y.loc[testing_data_set_index]\n",
                "Y_holdout = df_values_Y.loc[df_holdout_index]\n",
                "Y_treatment_holdout = df_values_Y.loc[treatment_holdout_index]"
            ]
        },
        {
            "cell_type": "code",
            "execution_count": 24,
            "id": "ae525b7d",
            "metadata": {},
            "outputs": [
                {
                    "data": {
                        "text/plain": [
                            "3"
                        ]
                    },
                    "execution_count": 24,
                    "metadata": {},
                    "output_type": "execute_result"
                }
            ],
            "source": [
                "mlp_params.OUT_FEATURES = len(df_values_Y.unique())\n",
                "mlp_params.OUT_FEATURES"
            ]
        },
        {
            "cell_type": "code",
            "execution_count": 25,
            "id": "9ab7a090",
            "metadata": {},
            "outputs": [],
            "source": [
                "Y_train = torch.tensor(Y_train.values)\n",
                "Y_train = torch.nn.functional.one_hot(\n",
                "    Y_train, num_classes=mlp_params.OUT_FEATURES\n",
                ").float()\n",
                "\n",
                "Y_val = torch.tensor(Y_val.values)\n",
                "Y_val = torch.nn.functional.one_hot(Y_val, num_classes=mlp_params.OUT_FEATURES).float()\n",
                "\n",
                "Y_test = torch.tensor(Y_test.values)\n",
                "Y_test = torch.nn.functional.one_hot(\n",
                "    Y_test, num_classes=mlp_params.OUT_FEATURES\n",
                ").float()\n",
                "\n",
                "Y_holdout = torch.tensor(Y_holdout.values)\n",
                "Y_holdout = torch.nn.functional.one_hot(\n",
                "    Y_holdout, num_classes=mlp_params.OUT_FEATURES\n",
                ").float()\n",
                "\n",
                "Y_treatment_holdout = torch.tensor(Y_treatment_holdout.values)\n",
                "Y_treatment_holdout = torch.nn.functional.one_hot(\n",
                "    Y_treatment_holdout, num_classes=mlp_params.OUT_FEATURES\n",
                ").float()\n",
                "\n",
                "# convert the X dataframes to tensors\n",
                "X_train = torch.tensor(X_train.values)\n",
                "X_val = torch.tensor(X_val.values)\n",
                "X_test = torch.tensor(X_test.values)\n",
                "X_holdout = torch.tensor(X_holdout.values)\n",
                "X_treatment_holdout = torch.tensor(X_treatment_holdout.values)"
            ]
        },
        {
            "cell_type": "code",
            "execution_count": 26,
            "id": "3c4e1896",
            "metadata": {},
            "outputs": [],
            "source": [
                "# produce data objects for train, val and test datasets\n",
                "train_data = torch.utils.data.TensorDataset(X_train, Y_train)\n",
                "val_data = torch.utils.data.TensorDataset(X_val, Y_val)\n",
                "test_data = torch.utils.data.TensorDataset(X_test, Y_test)"
            ]
        },
        {
            "cell_type": "code",
            "execution_count": 27,
            "id": "4382d712",
            "metadata": {
                "execution": {
                    "iopub.execute_input": "2023-10-18T18:16:16.631025Z",
                    "iopub.status.busy": "2023-10-18T18:16:16.630857Z",
                    "iopub.status.idle": "2023-10-18T18:16:16.634504Z",
                    "shell.execute_reply": "2023-10-18T18:16:16.634156Z"
                },
                "papermill": {
                    "duration": null,
                    "end_time": null,
                    "exception": null,
                    "start_time": null,
                    "status": "completed"
                },
                "tags": []
            },
            "outputs": [
                {
                    "name": "stdout",
                    "output_type": "stream",
                    "text": [
                        "Number of in features:  1227\n",
                        "Number of out features:  3\n",
                        "Multi_Class\n"
                    ]
                }
            ],
            "source": [
                "mlp_params.IN_FEATURES = X_train.shape[1]\n",
                "print(\"Number of in features: \", mlp_params.IN_FEATURES)\n",
                "if mlp_params.MODEL_TYPE == \"Regression\":\n",
                "    mlp_params.OUT_FEATURES = 1\n",
                "else:\n",
                "    mlp_params.OUT_FEATURES = len(df_values[\"labels\"].unique())\n",
                "\n",
                "print(\"Number of out features: \", mlp_params.OUT_FEATURES)\n",
                "\n",
                "if mlp_params.OUT_FEATURES > 2:\n",
                "    mlp_params.MODEL_TYPE = \"Multi_Class\"\n",
                "elif mlp_params.OUT_FEATURES == 2:\n",
                "    mlp_params.OUT_FEATURES = mlp_params.OUT_FEATURES - 1\n",
                "    mlp_params.MODEL_TYPE = \"Binary_Classification\"\n",
                "elif mlp_params.OUT_FEATURES == 1:\n",
                "    mlp_params.MODEL_TYPE = \"Regression\"\n",
                "else:\n",
                "    pass\n",
                "print(mlp_params.MODEL_TYPE)"
            ]
        },
        {
            "cell_type": "code",
            "execution_count": 28,
            "id": "77effa5c",
            "metadata": {
                "execution": {
                    "iopub.execute_input": "2023-10-18T18:16:16.642779Z",
                    "iopub.status.busy": "2023-10-18T18:16:16.642487Z",
                    "iopub.status.idle": "2023-10-18T18:16:16.645220Z",
                    "shell.execute_reply": "2023-10-18T18:16:16.644897Z"
                },
                "papermill": {
                    "duration": null,
                    "end_time": null,
                    "exception": null,
                    "start_time": null,
                    "status": "completed"
                },
                "tags": []
            },
            "outputs": [],
            "source": [
                "# convert data class into a dataloader to be compatible with pytorch\n",
                "train_loader = torch.utils.data.DataLoader(\n",
                "    dataset=train_data, batch_size=mlp_params.HYPERPARAMETER_BATCH_SIZE, shuffle=True\n",
                ")\n",
                "valid_loader = torch.utils.data.DataLoader(\n",
                "    dataset=val_data, batch_size=mlp_params.HYPERPARAMETER_BATCH_SIZE, shuffle=False\n",
                ")"
            ]
        },
        {
            "cell_type": "code",
            "execution_count": 29,
            "id": "f471da39",
            "metadata": {},
            "outputs": [
                {
                    "data": {
                        "text/plain": [
                            "3"
                        ]
                    },
                    "execution_count": 29,
                    "metadata": {},
                    "output_type": "execute_result"
                }
            ],
            "source": [
                "mlp_params.OUT_FEATURES"
            ]
        },
        {
            "cell_type": "code",
            "execution_count": 30,
            "id": "cb7635c8",
            "metadata": {
                "execution": {
                    "iopub.execute_input": "2023-10-18T18:16:16.653709Z",
                    "iopub.status.busy": "2023-10-18T18:16:16.653361Z",
                    "iopub.status.idle": "2023-10-18T18:16:16.655989Z",
                    "shell.execute_reply": "2023-10-18T18:16:16.655583Z"
                },
                "papermill": {
                    "duration": null,
                    "end_time": null,
                    "exception": null,
                    "start_time": null,
                    "status": "completed"
                },
                "tags": []
            },
            "outputs": [
                {
                    "name": "stdout",
                    "output_type": "stream",
                    "text": [
                        "cuda\n"
                    ]
                }
            ],
            "source": [
                "# check device\n",
                "print(mlp_params.DEVICE)"
            ]
        },
        {
            "cell_type": "code",
            "execution_count": 31,
            "id": "a969042f",
            "metadata": {
                "execution": {
                    "iopub.execute_input": "2023-10-18T18:16:16.663986Z",
                    "iopub.status.busy": "2023-10-18T18:16:16.663699Z",
                    "iopub.status.idle": "2023-10-18T18:17:37.283791Z",
                    "shell.execute_reply": "2023-10-18T18:17:37.283496Z"
                },
                "papermill": {
                    "duration": null,
                    "end_time": null,
                    "exception": null,
                    "start_time": null,
                    "status": "completed"
                },
                "tags": []
            },
            "outputs": [
                {
                    "name": "stderr",
                    "output_type": "stream",
                    "text": [
                        "[I 2024-04-05 09:35:28,500] A new study created in memory with name: no-name-496421bb-97e1-4dc1-af7f-06b61531d049\n",
                        "[I 2024-04-05 09:37:42,024] Trial 0 finished with value: 0.525954637221801 and parameters: {'n_layers': 11, 'n_units_l0': 48, 'dropout_0': 0.37922853732923645, 'n_units_l1': 19, 'dropout_1': 0.11681733387460556, 'n_units_l2': 43, 'dropout_2': 0.2977485929569421, 'n_units_l3': 19, 'dropout_3': 0.37645031930765827, 'n_units_l4': 5, 'dropout_4': 0.3345406239718772, 'n_units_l5': 4, 'dropout_5': 0.15670004369349677, 'n_units_l6': 45, 'dropout_6': 0.1525479477641018, 'n_units_l7': 30, 'dropout_7': 0.3036479535889844, 'n_units_l8': 7, 'dropout_8': 0.27546939933137227, 'n_units_l9': 26, 'dropout_9': 0.3011884741984213, 'n_units_l10': 10, 'dropout_10': 0.24004563562496356, 'learning_rate': 0.0013507828966359727, 'optimizer': 'SGD'}. Best is trial 0 with value: 0.525954637221801.\n",
                        "[I 2024-04-05 09:39:43,878] Trial 1 finished with value: 0.3164313700565925 and parameters: {'n_layers': 3, 'n_units_l0': 28, 'dropout_0': 0.3387550723315632, 'n_units_l1': 31, 'dropout_1': 0.22816677749340322, 'n_units_l2': 22, 'dropout_2': 0.1795656947113891, 'learning_rate': 0.037584297870444094, 'optimizer': 'SGD'}. Best is trial 1 with value: 0.3164313700565925.\n",
                        "[I 2024-04-05 09:41:43,506] Trial 2 finished with value: 0.32254651338626183 and parameters: {'n_layers': 3, 'n_units_l0': 18, 'dropout_0': 0.11543515672858579, 'n_units_l1': 22, 'dropout_1': 0.1815273453348556, 'n_units_l2': 49, 'dropout_2': 0.29491486835530095, 'learning_rate': 0.027085405963481142, 'optimizer': 'SGD'}. Best is trial 1 with value: 0.3164313700565925.\n",
                        "[I 2024-04-05 09:43:51,694] Trial 3 finished with value: 0.3900319917996724 and parameters: {'n_layers': 8, 'n_units_l0': 8, 'dropout_0': 0.16391981574108028, 'n_units_l1': 28, 'dropout_1': 0.18631822813353002, 'n_units_l2': 49, 'dropout_2': 0.10409120849049203, 'n_units_l3': 35, 'dropout_3': 0.3622098850152269, 'n_units_l4': 40, 'dropout_4': 0.15809257260275683, 'n_units_l5': 5, 'dropout_5': 0.1294458423965992, 'n_units_l6': 32, 'dropout_6': 0.24516036214666997, 'n_units_l7': 23, 'dropout_7': 0.28422780994871777, 'learning_rate': 0.009036324485124517, 'optimizer': 'RMSprop'}. Best is trial 1 with value: 0.3164313700565925.\n",
                        "[I 2024-04-05 09:46:04,387] Trial 4 finished with value: 0.4977988412899848 and parameters: {'n_layers': 15, 'n_units_l0': 48, 'dropout_0': 0.25112899776099595, 'n_units_l1': 9, 'dropout_1': 0.1896467761648743, 'n_units_l2': 15, 'dropout_2': 0.23622377816290768, 'n_units_l3': 37, 'dropout_3': 0.39257997205551554, 'n_units_l4': 24, 'dropout_4': 0.1885296001600241, 'n_units_l5': 11, 'dropout_5': 0.3692348580959699, 'n_units_l6': 24, 'dropout_6': 0.1767859637585502, 'n_units_l7': 27, 'dropout_7': 0.36672411988369924, 'n_units_l8': 49, 'dropout_8': 0.3555267189929672, 'n_units_l9': 3, 'dropout_9': 0.19620448133321344, 'n_units_l10': 34, 'dropout_10': 0.27036568670550565, 'n_units_l11': 37, 'dropout_11': 0.24590214231908114, 'n_units_l12': 26, 'dropout_12': 0.37869758018154087, 'n_units_l13': 25, 'dropout_13': 0.15546397751267851, 'n_units_l14': 25, 'dropout_14': 0.33236097322954605, 'learning_rate': 0.014023671632682382, 'optimizer': 'SGD'}. Best is trial 1 with value: 0.3164313700565925.\n",
                        "[I 2024-04-05 09:46:09,220] Trial 5 pruned. \n",
                        "[I 2024-04-05 09:46:14,370] Trial 6 pruned. \n",
                        "[I 2024-04-05 09:46:20,334] Trial 7 pruned. \n",
                        "[I 2024-04-05 09:46:24,039] Trial 8 pruned. \n",
                        "[I 2024-04-05 09:46:30,521] Trial 9 pruned. \n",
                        "[I 2024-04-05 09:46:50,603] Trial 10 pruned. \n",
                        "[I 2024-04-05 09:48:49,105] Trial 11 finished with value: 0.31044593959282607 and parameters: {'n_layers': 1, 'n_units_l0': 18, 'dropout_0': 0.29889200408582656, 'learning_rate': 0.02488296157008164, 'optimizer': 'SGD'}. Best is trial 11 with value: 0.31044593959282607.\n",
                        "[I 2024-04-05 09:50:49,690] Trial 12 finished with value: 0.3075175391863554 and parameters: {'n_layers': 1, 'n_units_l0': 26, 'dropout_0': 0.32197004143079516, 'learning_rate': 0.025596066253900478, 'optimizer': 'SGD'}. Best is trial 12 with value: 0.3075175391863554.\n",
                        "[I 2024-04-05 09:52:50,235] Trial 13 finished with value: 0.31547588143593225 and parameters: {'n_layers': 1, 'n_units_l0': 14, 'dropout_0': 0.31207628283913647, 'learning_rate': 0.02106567731171114, 'optimizer': 'SGD'}. Best is trial 12 with value: 0.3075175391863554.\n",
                        "[I 2024-04-05 09:52:55,336] Trial 14 pruned. \n",
                        "[I 2024-04-05 09:52:57,849] Trial 15 pruned. \n",
                        "[I 2024-04-05 09:53:00,606] Trial 16 pruned. \n",
                        "[I 2024-04-05 09:53:03,107] Trial 17 pruned. \n",
                        "[I 2024-04-05 09:53:05,618] Trial 18 pruned. \n",
                        "[I 2024-04-05 09:55:07,655] Trial 19 finished with value: 0.2869411049745022 and parameters: {'n_layers': 1, 'n_units_l0': 38, 'dropout_0': 0.39037277873287984, 'learning_rate': 0.013158778539232644, 'optimizer': 'Adam'}. Best is trial 19 with value: 0.2869411049745022.\n",
                        "[I 2024-04-05 09:55:10,389] Trial 20 pruned. \n",
                        "[I 2024-04-05 09:57:12,887] Trial 21 finished with value: 0.29402532688318156 and parameters: {'n_layers': 1, 'n_units_l0': 30, 'dropout_0': 0.3916586444659676, 'learning_rate': 0.022925488414252435, 'optimizer': 'Adam'}. Best is trial 19 with value: 0.2869411049745022.\n",
                        "[I 2024-04-05 09:59:14,120] Trial 22 finished with value: 0.28459402325061656 and parameters: {'n_layers': 2, 'n_units_l0': 31, 'dropout_0': 0.39291085951798355, 'n_units_l1': 10, 'dropout_1': 0.13876974159073635, 'learning_rate': 0.018584981739550005, 'optimizer': 'Adam'}. Best is trial 22 with value: 0.28459402325061656.\n",
                        "[I 2024-04-05 10:00:40,723] Trial 23 pruned. \n",
                        "[I 2024-04-05 10:02:39,312] Trial 24 finished with value: 0.2849940088926217 and parameters: {'n_layers': 2, 'n_units_l0': 40, 'dropout_0': 0.35897913394870806, 'n_units_l1': 7, 'dropout_1': 0.14609575846973044, 'learning_rate': 0.01808588134484451, 'optimizer': 'Adam'}. Best is trial 22 with value: 0.28459402325061656.\n",
                        "[I 2024-04-05 10:02:41,826] Trial 25 pruned. \n",
                        "[I 2024-04-05 10:04:39,830] Trial 26 finished with value: 0.28532204530177974 and parameters: {'n_layers': 2, 'n_units_l0': 37, 'dropout_0': 0.3712969910502212, 'n_units_l1': 13, 'dropout_1': 0.1486528279354205, 'learning_rate': 0.01758210674805186, 'optimizer': 'Adam'}. Best is trial 22 with value: 0.28459402325061656.\n",
                        "[I 2024-04-05 10:04:42,339] Trial 27 pruned. \n",
                        "[I 2024-04-05 10:05:18,539] Trial 28 pruned. \n",
                        "[I 2024-04-05 10:05:21,284] Trial 29 pruned. \n",
                        "[I 2024-04-05 10:07:19,809] Trial 30 finished with value: 0.275545658270518 and parameters: {'n_layers': 2, 'n_units_l0': 45, 'dropout_0': 0.3437225136644856, 'n_units_l1': 10, 'dropout_1': 0.12731684648364722, 'learning_rate': 0.007229141060875407, 'optimizer': 'Adam'}. Best is trial 30 with value: 0.275545658270518.\n",
                        "[I 2024-04-05 10:09:19,585] Trial 31 finished with value: 0.2746636963654787 and parameters: {'n_layers': 2, 'n_units_l0': 45, 'dropout_0': 0.34696705150627977, 'n_units_l1': 10, 'dropout_1': 0.1272478324389694, 'learning_rate': 0.00767426362372009, 'optimizer': 'Adam'}. Best is trial 31 with value: 0.2746636963654787.\n",
                        "[I 2024-04-05 10:11:21,753] Trial 32 finished with value: 0.27479961946224557 and parameters: {'n_layers': 2, 'n_units_l0': 46, 'dropout_0': 0.34161606147663154, 'n_units_l1': 9, 'dropout_1': 0.12091993467582171, 'learning_rate': 0.00537212401657323, 'optimizer': 'Adam'}. Best is trial 31 with value: 0.2746636963654787.\n",
                        "[I 2024-04-05 10:13:22,760] Trial 33 finished with value: 0.2790044992703658 and parameters: {'n_layers': 4, 'n_units_l0': 46, 'dropout_0': 0.34395662372490454, 'n_units_l1': 10, 'dropout_1': 0.11897974624743692, 'n_units_l2': 31, 'dropout_2': 0.13566664060812178, 'n_units_l3': 42, 'dropout_3': 0.15671456920729465, 'learning_rate': 0.006780289633396751, 'optimizer': 'Adam'}. Best is trial 31 with value: 0.2746636963654787.\n",
                        "[I 2024-04-05 10:15:26,006] Trial 34 finished with value: 0.2790199605700297 and parameters: {'n_layers': 4, 'n_units_l0': 46, 'dropout_0': 0.3411450700075271, 'n_units_l1': 18, 'dropout_1': 0.11239508285104417, 'n_units_l2': 28, 'dropout_2': 0.13791082872247012, 'n_units_l3': 41, 'dropout_3': 0.14601922574178924, 'learning_rate': 0.00775469821942285, 'optimizer': 'Adam'}. Best is trial 31 with value: 0.2746636963654787.\n",
                        "[I 2024-04-05 10:17:24,588] Trial 35 finished with value: 0.27223589026775113 and parameters: {'n_layers': 3, 'n_units_l0': 50, 'dropout_0': 0.33101363769577064, 'n_units_l1': 22, 'dropout_1': 0.12732325836249805, 'n_units_l2': 35, 'dropout_2': 0.20827523887654986, 'learning_rate': 0.0051214390362952856, 'optimizer': 'Adam'}. Best is trial 35 with value: 0.27223589026775113.\n",
                        "[I 2024-04-05 10:19:26,635] Trial 36 finished with value: 0.270991300428525 and parameters: {'n_layers': 3, 'n_units_l0': 50, 'dropout_0': 0.3269857053313163, 'n_units_l1': 21, 'dropout_1': 0.12284913538949352, 'n_units_l2': 37, 'dropout_2': 0.21451905902851848, 'learning_rate': 0.004182743954711209, 'optimizer': 'Adam'}. Best is trial 36 with value: 0.270991300428525.\n",
                        "[I 2024-04-05 10:21:31,333] Trial 37 finished with value: 0.27390427492367914 and parameters: {'n_layers': 5, 'n_units_l0': 50, 'dropout_0': 0.3193534125443229, 'n_units_l1': 21, 'dropout_1': 0.10169081431119001, 'n_units_l2': 37, 'dropout_2': 0.21129871255612825, 'n_units_l3': 33, 'dropout_3': 0.3123095477405116, 'n_units_l4': 46, 'dropout_4': 0.1642881421574633, 'learning_rate': 0.0020307074111031147, 'optimizer': 'Adam'}. Best is trial 36 with value: 0.270991300428525.\n",
                        "[I 2024-04-05 10:23:35,169] Trial 38 finished with value: 0.28091070181284195 and parameters: {'n_layers': 5, 'n_units_l0': 50, 'dropout_0': 0.32118800115859364, 'n_units_l1': 24, 'dropout_1': 0.10235625314366532, 'n_units_l2': 36, 'dropout_2': 0.2174202471858208, 'n_units_l3': 34, 'dropout_3': 0.30027982325682256, 'n_units_l4': 48, 'dropout_4': 0.1551579330389104, 'learning_rate': 0.0018931321978006253, 'optimizer': 'RMSprop'}. Best is trial 36 with value: 0.270991300428525.\n",
                        "[I 2024-04-05 10:23:37,749] Trial 39 pruned. \n",
                        "[I 2024-04-05 10:23:40,221] Trial 40 pruned. \n",
                        "[I 2024-04-05 10:25:44,051] Trial 41 finished with value: 0.27196242752747657 and parameters: {'n_layers': 3, 'n_units_l0': 50, 'dropout_0': 0.32749905989285577, 'n_units_l1': 21, 'dropout_1': 0.1260346217938369, 'n_units_l2': 34, 'dropout_2': 0.18911817390743488, 'learning_rate': 0.004463100620474515, 'optimizer': 'Adam'}. Best is trial 36 with value: 0.270991300428525.\n",
                        "[I 2024-04-05 10:25:46,570] Trial 42 pruned. \n",
                        "[I 2024-04-05 10:27:47,373] Trial 43 finished with value: 0.27271950075259577 and parameters: {'n_layers': 3, 'n_units_l0': 48, 'dropout_0': 0.3055251455279865, 'n_units_l1': 26, 'dropout_1': 0.12660243044438071, 'n_units_l2': 44, 'dropout_2': 0.17805383699554653, 'learning_rate': 0.005005616400945396, 'optimizer': 'Adam'}. Best is trial 36 with value: 0.270991300428525.\n",
                        "[I 2024-04-05 10:29:46,505] Trial 44 finished with value: 0.27115248942986514 and parameters: {'n_layers': 3, 'n_units_l0': 48, 'dropout_0': 0.2584055911044854, 'n_units_l1': 32, 'dropout_1': 0.17389003035491968, 'n_units_l2': 45, 'dropout_2': 0.17416800360391413, 'learning_rate': 0.003798012227864776, 'optimizer': 'Adam'}. Best is trial 36 with value: 0.270991300428525.\n",
                        "[I 2024-04-05 10:31:46,482] Trial 45 pruned. \n",
                        "[I 2024-04-05 10:31:48,995] Trial 46 pruned. \n",
                        "[I 2024-04-05 10:33:49,208] Trial 47 finished with value: 0.27044168742039265 and parameters: {'n_layers': 3, 'n_units_l0': 48, 'dropout_0': 0.2663892159415113, 'n_units_l1': 31, 'dropout_1': 0.1692691018945324, 'n_units_l2': 40, 'dropout_2': 0.17559287086658346, 'learning_rate': 0.004756147540534384, 'optimizer': 'Adam'}. Best is trial 47 with value: 0.27044168742039265.\n",
                        "[I 2024-04-05 10:33:51,712] Trial 48 pruned. \n",
                        "[I 2024-04-05 10:33:54,273] Trial 49 pruned. \n"
                    ]
                },
                {
                    "name": "stdout",
                    "output_type": "stream",
                    "text": [
                        "Validation Accuracy: 0.0\n",
                        "Validation Loss: 0.2727568770219118\n",
                        "Training Accuracy: 0.0001553196997152472\n",
                        "Training Loss: 0.2543760148613684\n"
                    ]
                },
                {
                    "data": {
                        "text/plain": [
                            "(0.0, 0.2727568770219118, 0.0001553196997152472, 0.2543760148613684)"
                        ]
                    },
                    "execution_count": 31,
                    "metadata": {},
                    "output_type": "execute_result"
                }
            ],
            "source": [
                "# no accuracy function must be loss for regression\n",
                "if mlp_params.MODEL_TYPE == \"Regression\":\n",
                "    mlp_params.METRIC = \"loss\"\n",
                "    pass\n",
                "\n",
                "\n",
                "# wrap the objective function inside of a lambda function to pass args...\n",
                "objective_lambda_func = lambda trial: objective_model_optimizer(\n",
                "    train_loader,\n",
                "    valid_loader,\n",
                "    trial=trial,\n",
                "    params=params,\n",
                "    metric=mlp_params.METRIC,\n",
                "    return_info=False,\n",
                "    class_weights=class_weights,\n",
                ")\n",
                "\n",
                "\n",
                "# Study is the object for model optimization\n",
                "study = optuna.create_study(direction=f\"{mlp_params.DIRECTION}\")\n",
                "# Here I apply the optimize function of the study to the objective function\n",
                "# This optimizes each parameter specified to be optimized from the defined search space\n",
                "study.optimize(objective_lambda_func, n_trials=mlp_params.N_TRIALS)\n",
                "# Prints out the best trial's optimized parameters\n",
                "objective_model_optimizer(\n",
                "    train_loader,\n",
                "    valid_loader,\n",
                "    trial=study.best_trial,\n",
                "    params=params,\n",
                "    metric=mlp_params.METRIC,\n",
                "    return_info=True,\n",
                "    class_weights=class_weights,\n",
                ")"
            ]
        },
        {
            "cell_type": "code",
            "execution_count": 32,
            "id": "b2620589",
            "metadata": {
                "execution": {
                    "iopub.execute_input": "2023-10-18T18:17:37.298015Z",
                    "iopub.status.busy": "2023-10-18T18:17:37.297873Z",
                    "iopub.status.idle": "2023-10-18T18:17:37.750921Z",
                    "shell.execute_reply": "2023-10-18T18:17:37.750533Z"
                },
                "papermill": {
                    "duration": null,
                    "end_time": null,
                    "exception": null,
                    "start_time": null,
                    "status": "completed"
                },
                "tags": []
            },
            "outputs": [
                {
                    "data": {
                        "application/vnd.plotly.v1+json": {
                            "config": {
                                "plotlyServerURL": "https://plot.ly"
                            },
                            "data": [
                                {
                                    "mode": "markers",
                                    "name": "Objective Value",
                                    "type": "scatter",
                                    "x": [
                                        0,
                                        1,
                                        2,
                                        3,
                                        4,
                                        11,
                                        12,
                                        13,
                                        19,
                                        21,
                                        22,
                                        24,
                                        26,
                                        30,
                                        31,
                                        32,
                                        33,
                                        34,
                                        35,
                                        36,
                                        37,
                                        38,
                                        41,
                                        43,
                                        44,
                                        47
                                    ],
                                    "y": [
                                        0.525954637221801,
                                        0.3164313700565925,
                                        0.32254651338626183,
                                        0.3900319917996724,
                                        0.4977988412899848,
                                        0.31044593959282607,
                                        0.3075175391863554,
                                        0.31547588143593225,
                                        0.2869411049745022,
                                        0.29402532688318156,
                                        0.28459402325061656,
                                        0.2849940088926217,
                                        0.28532204530177974,
                                        0.275545658270518,
                                        0.2746636963654787,
                                        0.27479961946224557,
                                        0.2790044992703658,
                                        0.2790199605700297,
                                        0.27223589026775113,
                                        0.270991300428525,
                                        0.27390427492367914,
                                        0.28091070181284195,
                                        0.27196242752747657,
                                        0.27271950075259577,
                                        0.27115248942986514,
                                        0.27044168742039265
                                    ]
                                },
                                {
                                    "mode": "lines",
                                    "name": "Best Value",
                                    "type": "scatter",
                                    "x": [
                                        0,
                                        1,
                                        2,
                                        3,
                                        4,
                                        5,
                                        6,
                                        7,
                                        8,
                                        9,
                                        10,
                                        11,
                                        12,
                                        13,
                                        14,
                                        15,
                                        16,
                                        17,
                                        18,
                                        19,
                                        20,
                                        21,
                                        22,
                                        23,
                                        24,
                                        25,
                                        26,
                                        27,
                                        28,
                                        29,
                                        30,
                                        31,
                                        32,
                                        33,
                                        34,
                                        35,
                                        36,
                                        37,
                                        38,
                                        39,
                                        40,
                                        41,
                                        42,
                                        43,
                                        44,
                                        45,
                                        46,
                                        47,
                                        48,
                                        49
                                    ],
                                    "y": [
                                        0.525954637221801,
                                        0.3164313700565925,
                                        0.3164313700565925,
                                        0.3164313700565925,
                                        0.3164313700565925,
                                        0.3164313700565925,
                                        0.3164313700565925,
                                        0.3164313700565925,
                                        0.3164313700565925,
                                        0.3164313700565925,
                                        0.3164313700565925,
                                        0.31044593959282607,
                                        0.3075175391863554,
                                        0.3075175391863554,
                                        0.3075175391863554,
                                        0.3075175391863554,
                                        0.3075175391863554,
                                        0.3075175391863554,
                                        0.3075175391863554,
                                        0.2869411049745022,
                                        0.2869411049745022,
                                        0.2869411049745022,
                                        0.28459402325061656,
                                        0.28459402325061656,
                                        0.28459402325061656,
                                        0.28459402325061656,
                                        0.28459402325061656,
                                        0.28459402325061656,
                                        0.28459402325061656,
                                        0.28459402325061656,
                                        0.275545658270518,
                                        0.2746636963654787,
                                        0.2746636963654787,
                                        0.2746636963654787,
                                        0.2746636963654787,
                                        0.27223589026775113,
                                        0.270991300428525,
                                        0.270991300428525,
                                        0.270991300428525,
                                        0.270991300428525,
                                        0.270991300428525,
                                        0.270991300428525,
                                        0.270991300428525,
                                        0.270991300428525,
                                        0.270991300428525,
                                        0.270991300428525,
                                        0.270991300428525,
                                        0.27044168742039265,
                                        0.27044168742039265,
                                        0.27044168742039265
                                    ]
                                },
                                {
                                    "marker": {
                                        "color": "#cccccc"
                                    },
                                    "mode": "markers",
                                    "name": "Infeasible Trial",
                                    "showlegend": false,
                                    "type": "scatter",
                                    "x": [],
                                    "y": []
                                }
                            ],
                            "layout": {
                                "template": {
                                    "data": {
                                        "bar": [
                                            {
                                                "error_x": {
                                                    "color": "#2a3f5f"
                                                },
                                                "error_y": {
                                                    "color": "#2a3f5f"
                                                },
                                                "marker": {
                                                    "line": {
                                                        "color": "#E5ECF6",
                                                        "width": 0.5
                                                    },
                                                    "pattern": {
                                                        "fillmode": "overlay",
                                                        "size": 10,
                                                        "solidity": 0.2
                                                    }
                                                },
                                                "type": "bar"
                                            }
                                        ],
                                        "barpolar": [
                                            {
                                                "marker": {
                                                    "line": {
                                                        "color": "#E5ECF6",
                                                        "width": 0.5
                                                    },
                                                    "pattern": {
                                                        "fillmode": "overlay",
                                                        "size": 10,
                                                        "solidity": 0.2
                                                    }
                                                },
                                                "type": "barpolar"
                                            }
                                        ],
                                        "carpet": [
                                            {
                                                "aaxis": {
                                                    "endlinecolor": "#2a3f5f",
                                                    "gridcolor": "white",
                                                    "linecolor": "white",
                                                    "minorgridcolor": "white",
                                                    "startlinecolor": "#2a3f5f"
                                                },
                                                "baxis": {
                                                    "endlinecolor": "#2a3f5f",
                                                    "gridcolor": "white",
                                                    "linecolor": "white",
                                                    "minorgridcolor": "white",
                                                    "startlinecolor": "#2a3f5f"
                                                },
                                                "type": "carpet"
                                            }
                                        ],
                                        "choropleth": [
                                            {
                                                "colorbar": {
                                                    "outlinewidth": 0,
                                                    "ticks": ""
                                                },
                                                "type": "choropleth"
                                            }
                                        ],
                                        "contour": [
                                            {
                                                "colorbar": {
                                                    "outlinewidth": 0,
                                                    "ticks": ""
                                                },
                                                "colorscale": [
                                                    [
                                                        0,
                                                        "#0d0887"
                                                    ],
                                                    [
                                                        0.1111111111111111,
                                                        "#46039f"
                                                    ],
                                                    [
                                                        0.2222222222222222,
                                                        "#7201a8"
                                                    ],
                                                    [
                                                        0.3333333333333333,
                                                        "#9c179e"
                                                    ],
                                                    [
                                                        0.4444444444444444,
                                                        "#bd3786"
                                                    ],
                                                    [
                                                        0.5555555555555556,
                                                        "#d8576b"
                                                    ],
                                                    [
                                                        0.6666666666666666,
                                                        "#ed7953"
                                                    ],
                                                    [
                                                        0.7777777777777778,
                                                        "#fb9f3a"
                                                    ],
                                                    [
                                                        0.8888888888888888,
                                                        "#fdca26"
                                                    ],
                                                    [
                                                        1,
                                                        "#f0f921"
                                                    ]
                                                ],
                                                "type": "contour"
                                            }
                                        ],
                                        "contourcarpet": [
                                            {
                                                "colorbar": {
                                                    "outlinewidth": 0,
                                                    "ticks": ""
                                                },
                                                "type": "contourcarpet"
                                            }
                                        ],
                                        "heatmap": [
                                            {
                                                "colorbar": {
                                                    "outlinewidth": 0,
                                                    "ticks": ""
                                                },
                                                "colorscale": [
                                                    [
                                                        0,
                                                        "#0d0887"
                                                    ],
                                                    [
                                                        0.1111111111111111,
                                                        "#46039f"
                                                    ],
                                                    [
                                                        0.2222222222222222,
                                                        "#7201a8"
                                                    ],
                                                    [
                                                        0.3333333333333333,
                                                        "#9c179e"
                                                    ],
                                                    [
                                                        0.4444444444444444,
                                                        "#bd3786"
                                                    ],
                                                    [
                                                        0.5555555555555556,
                                                        "#d8576b"
                                                    ],
                                                    [
                                                        0.6666666666666666,
                                                        "#ed7953"
                                                    ],
                                                    [
                                                        0.7777777777777778,
                                                        "#fb9f3a"
                                                    ],
                                                    [
                                                        0.8888888888888888,
                                                        "#fdca26"
                                                    ],
                                                    [
                                                        1,
                                                        "#f0f921"
                                                    ]
                                                ],
                                                "type": "heatmap"
                                            }
                                        ],
                                        "heatmapgl": [
                                            {
                                                "colorbar": {
                                                    "outlinewidth": 0,
                                                    "ticks": ""
                                                },
                                                "colorscale": [
                                                    [
                                                        0,
                                                        "#0d0887"
                                                    ],
                                                    [
                                                        0.1111111111111111,
                                                        "#46039f"
                                                    ],
                                                    [
                                                        0.2222222222222222,
                                                        "#7201a8"
                                                    ],
                                                    [
                                                        0.3333333333333333,
                                                        "#9c179e"
                                                    ],
                                                    [
                                                        0.4444444444444444,
                                                        "#bd3786"
                                                    ],
                                                    [
                                                        0.5555555555555556,
                                                        "#d8576b"
                                                    ],
                                                    [
                                                        0.6666666666666666,
                                                        "#ed7953"
                                                    ],
                                                    [
                                                        0.7777777777777778,
                                                        "#fb9f3a"
                                                    ],
                                                    [
                                                        0.8888888888888888,
                                                        "#fdca26"
                                                    ],
                                                    [
                                                        1,
                                                        "#f0f921"
                                                    ]
                                                ],
                                                "type": "heatmapgl"
                                            }
                                        ],
                                        "histogram": [
                                            {
                                                "marker": {
                                                    "pattern": {
                                                        "fillmode": "overlay",
                                                        "size": 10,
                                                        "solidity": 0.2
                                                    }
                                                },
                                                "type": "histogram"
                                            }
                                        ],
                                        "histogram2d": [
                                            {
                                                "colorbar": {
                                                    "outlinewidth": 0,
                                                    "ticks": ""
                                                },
                                                "colorscale": [
                                                    [
                                                        0,
                                                        "#0d0887"
                                                    ],
                                                    [
                                                        0.1111111111111111,
                                                        "#46039f"
                                                    ],
                                                    [
                                                        0.2222222222222222,
                                                        "#7201a8"
                                                    ],
                                                    [
                                                        0.3333333333333333,
                                                        "#9c179e"
                                                    ],
                                                    [
                                                        0.4444444444444444,
                                                        "#bd3786"
                                                    ],
                                                    [
                                                        0.5555555555555556,
                                                        "#d8576b"
                                                    ],
                                                    [
                                                        0.6666666666666666,
                                                        "#ed7953"
                                                    ],
                                                    [
                                                        0.7777777777777778,
                                                        "#fb9f3a"
                                                    ],
                                                    [
                                                        0.8888888888888888,
                                                        "#fdca26"
                                                    ],
                                                    [
                                                        1,
                                                        "#f0f921"
                                                    ]
                                                ],
                                                "type": "histogram2d"
                                            }
                                        ],
                                        "histogram2dcontour": [
                                            {
                                                "colorbar": {
                                                    "outlinewidth": 0,
                                                    "ticks": ""
                                                },
                                                "colorscale": [
                                                    [
                                                        0,
                                                        "#0d0887"
                                                    ],
                                                    [
                                                        0.1111111111111111,
                                                        "#46039f"
                                                    ],
                                                    [
                                                        0.2222222222222222,
                                                        "#7201a8"
                                                    ],
                                                    [
                                                        0.3333333333333333,
                                                        "#9c179e"
                                                    ],
                                                    [
                                                        0.4444444444444444,
                                                        "#bd3786"
                                                    ],
                                                    [
                                                        0.5555555555555556,
                                                        "#d8576b"
                                                    ],
                                                    [
                                                        0.6666666666666666,
                                                        "#ed7953"
                                                    ],
                                                    [
                                                        0.7777777777777778,
                                                        "#fb9f3a"
                                                    ],
                                                    [
                                                        0.8888888888888888,
                                                        "#fdca26"
                                                    ],
                                                    [
                                                        1,
                                                        "#f0f921"
                                                    ]
                                                ],
                                                "type": "histogram2dcontour"
                                            }
                                        ],
                                        "mesh3d": [
                                            {
                                                "colorbar": {
                                                    "outlinewidth": 0,
                                                    "ticks": ""
                                                },
                                                "type": "mesh3d"
                                            }
                                        ],
                                        "parcoords": [
                                            {
                                                "line": {
                                                    "colorbar": {
                                                        "outlinewidth": 0,
                                                        "ticks": ""
                                                    }
                                                },
                                                "type": "parcoords"
                                            }
                                        ],
                                        "pie": [
                                            {
                                                "automargin": true,
                                                "type": "pie"
                                            }
                                        ],
                                        "scatter": [
                                            {
                                                "fillpattern": {
                                                    "fillmode": "overlay",
                                                    "size": 10,
                                                    "solidity": 0.2
                                                },
                                                "type": "scatter"
                                            }
                                        ],
                                        "scatter3d": [
                                            {
                                                "line": {
                                                    "colorbar": {
                                                        "outlinewidth": 0,
                                                        "ticks": ""
                                                    }
                                                },
                                                "marker": {
                                                    "colorbar": {
                                                        "outlinewidth": 0,
                                                        "ticks": ""
                                                    }
                                                },
                                                "type": "scatter3d"
                                            }
                                        ],
                                        "scattercarpet": [
                                            {
                                                "marker": {
                                                    "colorbar": {
                                                        "outlinewidth": 0,
                                                        "ticks": ""
                                                    }
                                                },
                                                "type": "scattercarpet"
                                            }
                                        ],
                                        "scattergeo": [
                                            {
                                                "marker": {
                                                    "colorbar": {
                                                        "outlinewidth": 0,
                                                        "ticks": ""
                                                    }
                                                },
                                                "type": "scattergeo"
                                            }
                                        ],
                                        "scattergl": [
                                            {
                                                "marker": {
                                                    "colorbar": {
                                                        "outlinewidth": 0,
                                                        "ticks": ""
                                                    }
                                                },
                                                "type": "scattergl"
                                            }
                                        ],
                                        "scattermapbox": [
                                            {
                                                "marker": {
                                                    "colorbar": {
                                                        "outlinewidth": 0,
                                                        "ticks": ""
                                                    }
                                                },
                                                "type": "scattermapbox"
                                            }
                                        ],
                                        "scatterpolar": [
                                            {
                                                "marker": {
                                                    "colorbar": {
                                                        "outlinewidth": 0,
                                                        "ticks": ""
                                                    }
                                                },
                                                "type": "scatterpolar"
                                            }
                                        ],
                                        "scatterpolargl": [
                                            {
                                                "marker": {
                                                    "colorbar": {
                                                        "outlinewidth": 0,
                                                        "ticks": ""
                                                    }
                                                },
                                                "type": "scatterpolargl"
                                            }
                                        ],
                                        "scatterternary": [
                                            {
                                                "marker": {
                                                    "colorbar": {
                                                        "outlinewidth": 0,
                                                        "ticks": ""
                                                    }
                                                },
                                                "type": "scatterternary"
                                            }
                                        ],
                                        "surface": [
                                            {
                                                "colorbar": {
                                                    "outlinewidth": 0,
                                                    "ticks": ""
                                                },
                                                "colorscale": [
                                                    [
                                                        0,
                                                        "#0d0887"
                                                    ],
                                                    [
                                                        0.1111111111111111,
                                                        "#46039f"
                                                    ],
                                                    [
                                                        0.2222222222222222,
                                                        "#7201a8"
                                                    ],
                                                    [
                                                        0.3333333333333333,
                                                        "#9c179e"
                                                    ],
                                                    [
                                                        0.4444444444444444,
                                                        "#bd3786"
                                                    ],
                                                    [
                                                        0.5555555555555556,
                                                        "#d8576b"
                                                    ],
                                                    [
                                                        0.6666666666666666,
                                                        "#ed7953"
                                                    ],
                                                    [
                                                        0.7777777777777778,
                                                        "#fb9f3a"
                                                    ],
                                                    [
                                                        0.8888888888888888,
                                                        "#fdca26"
                                                    ],
                                                    [
                                                        1,
                                                        "#f0f921"
                                                    ]
                                                ],
                                                "type": "surface"
                                            }
                                        ],
                                        "table": [
                                            {
                                                "cells": {
                                                    "fill": {
                                                        "color": "#EBF0F8"
                                                    },
                                                    "line": {
                                                        "color": "white"
                                                    }
                                                },
                                                "header": {
                                                    "fill": {
                                                        "color": "#C8D4E3"
                                                    },
                                                    "line": {
                                                        "color": "white"
                                                    }
                                                },
                                                "type": "table"
                                            }
                                        ]
                                    },
                                    "layout": {
                                        "annotationdefaults": {
                                            "arrowcolor": "#2a3f5f",
                                            "arrowhead": 0,
                                            "arrowwidth": 1
                                        },
                                        "autotypenumbers": "strict",
                                        "coloraxis": {
                                            "colorbar": {
                                                "outlinewidth": 0,
                                                "ticks": ""
                                            }
                                        },
                                        "colorscale": {
                                            "diverging": [
                                                [
                                                    0,
                                                    "#8e0152"
                                                ],
                                                [
                                                    0.1,
                                                    "#c51b7d"
                                                ],
                                                [
                                                    0.2,
                                                    "#de77ae"
                                                ],
                                                [
                                                    0.3,
                                                    "#f1b6da"
                                                ],
                                                [
                                                    0.4,
                                                    "#fde0ef"
                                                ],
                                                [
                                                    0.5,
                                                    "#f7f7f7"
                                                ],
                                                [
                                                    0.6,
                                                    "#e6f5d0"
                                                ],
                                                [
                                                    0.7,
                                                    "#b8e186"
                                                ],
                                                [
                                                    0.8,
                                                    "#7fbc41"
                                                ],
                                                [
                                                    0.9,
                                                    "#4d9221"
                                                ],
                                                [
                                                    1,
                                                    "#276419"
                                                ]
                                            ],
                                            "sequential": [
                                                [
                                                    0,
                                                    "#0d0887"
                                                ],
                                                [
                                                    0.1111111111111111,
                                                    "#46039f"
                                                ],
                                                [
                                                    0.2222222222222222,
                                                    "#7201a8"
                                                ],
                                                [
                                                    0.3333333333333333,
                                                    "#9c179e"
                                                ],
                                                [
                                                    0.4444444444444444,
                                                    "#bd3786"
                                                ],
                                                [
                                                    0.5555555555555556,
                                                    "#d8576b"
                                                ],
                                                [
                                                    0.6666666666666666,
                                                    "#ed7953"
                                                ],
                                                [
                                                    0.7777777777777778,
                                                    "#fb9f3a"
                                                ],
                                                [
                                                    0.8888888888888888,
                                                    "#fdca26"
                                                ],
                                                [
                                                    1,
                                                    "#f0f921"
                                                ]
                                            ],
                                            "sequentialminus": [
                                                [
                                                    0,
                                                    "#0d0887"
                                                ],
                                                [
                                                    0.1111111111111111,
                                                    "#46039f"
                                                ],
                                                [
                                                    0.2222222222222222,
                                                    "#7201a8"
                                                ],
                                                [
                                                    0.3333333333333333,
                                                    "#9c179e"
                                                ],
                                                [
                                                    0.4444444444444444,
                                                    "#bd3786"
                                                ],
                                                [
                                                    0.5555555555555556,
                                                    "#d8576b"
                                                ],
                                                [
                                                    0.6666666666666666,
                                                    "#ed7953"
                                                ],
                                                [
                                                    0.7777777777777778,
                                                    "#fb9f3a"
                                                ],
                                                [
                                                    0.8888888888888888,
                                                    "#fdca26"
                                                ],
                                                [
                                                    1,
                                                    "#f0f921"
                                                ]
                                            ]
                                        },
                                        "colorway": [
                                            "#636efa",
                                            "#EF553B",
                                            "#00cc96",
                                            "#ab63fa",
                                            "#FFA15A",
                                            "#19d3f3",
                                            "#FF6692",
                                            "#B6E880",
                                            "#FF97FF",
                                            "#FECB52"
                                        ],
                                        "font": {
                                            "color": "#2a3f5f"
                                        },
                                        "geo": {
                                            "bgcolor": "white",
                                            "lakecolor": "white",
                                            "landcolor": "#E5ECF6",
                                            "showlakes": true,
                                            "showland": true,
                                            "subunitcolor": "white"
                                        },
                                        "hoverlabel": {
                                            "align": "left"
                                        },
                                        "hovermode": "closest",
                                        "mapbox": {
                                            "style": "light"
                                        },
                                        "paper_bgcolor": "white",
                                        "plot_bgcolor": "#E5ECF6",
                                        "polar": {
                                            "angularaxis": {
                                                "gridcolor": "white",
                                                "linecolor": "white",
                                                "ticks": ""
                                            },
                                            "bgcolor": "#E5ECF6",
                                            "radialaxis": {
                                                "gridcolor": "white",
                                                "linecolor": "white",
                                                "ticks": ""
                                            }
                                        },
                                        "scene": {
                                            "xaxis": {
                                                "backgroundcolor": "#E5ECF6",
                                                "gridcolor": "white",
                                                "gridwidth": 2,
                                                "linecolor": "white",
                                                "showbackground": true,
                                                "ticks": "",
                                                "zerolinecolor": "white"
                                            },
                                            "yaxis": {
                                                "backgroundcolor": "#E5ECF6",
                                                "gridcolor": "white",
                                                "gridwidth": 2,
                                                "linecolor": "white",
                                                "showbackground": true,
                                                "ticks": "",
                                                "zerolinecolor": "white"
                                            },
                                            "zaxis": {
                                                "backgroundcolor": "#E5ECF6",
                                                "gridcolor": "white",
                                                "gridwidth": 2,
                                                "linecolor": "white",
                                                "showbackground": true,
                                                "ticks": "",
                                                "zerolinecolor": "white"
                                            }
                                        },
                                        "shapedefaults": {
                                            "line": {
                                                "color": "#2a3f5f"
                                            }
                                        },
                                        "ternary": {
                                            "aaxis": {
                                                "gridcolor": "white",
                                                "linecolor": "white",
                                                "ticks": ""
                                            },
                                            "baxis": {
                                                "gridcolor": "white",
                                                "linecolor": "white",
                                                "ticks": ""
                                            },
                                            "bgcolor": "#E5ECF6",
                                            "caxis": {
                                                "gridcolor": "white",
                                                "linecolor": "white",
                                                "ticks": ""
                                            }
                                        },
                                        "title": {
                                            "x": 0.05
                                        },
                                        "xaxis": {
                                            "automargin": true,
                                            "gridcolor": "white",
                                            "linecolor": "white",
                                            "ticks": "",
                                            "title": {
                                                "standoff": 15
                                            },
                                            "zerolinecolor": "white",
                                            "zerolinewidth": 2
                                        },
                                        "yaxis": {
                                            "automargin": true,
                                            "gridcolor": "white",
                                            "linecolor": "white",
                                            "ticks": "",
                                            "title": {
                                                "standoff": 15
                                            },
                                            "zerolinecolor": "white",
                                            "zerolinewidth": 2
                                        }
                                    }
                                },
                                "title": {
                                    "text": "Optimization History Plot"
                                },
                                "xaxis": {
                                    "title": {
                                        "text": "Trial"
                                    }
                                },
                                "yaxis": {
                                    "title": {
                                        "text": "Objective Value"
                                    }
                                }
                            }
                        }
                    },
                    "metadata": {},
                    "output_type": "display_data"
                }
            ],
            "source": [
                "# create graph directory for this model\n",
                "graph_path = pathlib.Path(\n",
                "    f\"../../figures/{mlp_params.MODEL_TYPE}/{mlp_params.MODEL_NAME}/{mlp_params.CELL_TYPE}/hyperparameter_optimization\"\n",
                ")\n",
                "\n",
                "pathlib.Path(graph_path).mkdir(parents=True, exist_ok=True)\n",
                "fig = optuna.visualization.plot_optimization_history(study)\n",
                "\n",
                "\n",
                "graph_path = f\"{graph_path}/plot_optimization_history_graph\"\n",
                "\n",
                "fig.write_image(pathlib.Path(f\"{graph_path}.png\"))\n",
                "fig.show()"
            ]
        },
        {
            "cell_type": "code",
            "execution_count": 33,
            "id": "92103de1",
            "metadata": {
                "execution": {
                    "iopub.execute_input": "2023-10-18T18:17:37.839841Z",
                    "iopub.status.busy": "2023-10-18T18:17:37.839637Z",
                    "iopub.status.idle": "2023-10-18T18:17:37.910906Z",
                    "shell.execute_reply": "2023-10-18T18:17:37.910591Z"
                },
                "papermill": {
                    "duration": null,
                    "end_time": null,
                    "exception": null,
                    "start_time": null,
                    "status": "completed"
                },
                "tags": []
            },
            "outputs": [
                {
                    "data": {
                        "application/vnd.plotly.v1+json": {
                            "config": {
                                "plotlyServerURL": "https://plot.ly"
                            },
                            "data": [
                                {
                                    "marker": {
                                        "maxdisplayed": 10
                                    },
                                    "mode": "lines+markers",
                                    "name": "Trial0",
                                    "type": "scatter",
                                    "x": [
                                        0,
                                        1,
                                        2,
                                        3,
                                        4,
                                        5,
                                        6,
                                        7,
                                        8,
                                        9,
                                        10,
                                        11,
                                        12,
                                        13,
                                        14,
                                        15,
                                        16,
                                        17,
                                        18,
                                        19,
                                        20,
                                        21,
                                        22,
                                        23,
                                        24,
                                        25,
                                        26,
                                        27,
                                        28,
                                        29,
                                        30,
                                        31,
                                        32,
                                        33,
                                        34,
                                        35,
                                        36,
                                        37,
                                        38,
                                        39,
                                        40,
                                        41,
                                        42,
                                        43,
                                        44,
                                        45,
                                        46,
                                        47,
                                        48,
                                        49
                                    ],
                                    "y": [
                                        0.6129615031755887,
                                        0.6075703639250536,
                                        0.6026164609142858,
                                        0.5981092548523195,
                                        0.5939843954184117,
                                        0.5901604689594009,
                                        0.5866371122472016,
                                        0.5833639609508026,
                                        0.580299065153823,
                                        0.5774133584438227,
                                        0.5746867071776401,
                                        0.5721038033564886,
                                        0.5696517289037535,
                                        0.5673203998869593,
                                        0.5651014191472632,
                                        0.5629864352253767,
                                        0.5609695743291806,
                                        0.559044523711218,
                                        0.5572059097399434,
                                        0.5554492776210491,
                                        0.553770030592824,
                                        0.5521639445514389,
                                        0.5506269035730075,
                                        0.5491555407643318,
                                        0.5477462819295051,
                                        0.5463962293353071,
                                        0.5451023832515434,
                                        0.5438621033242333,
                                        0.5426726793157222,
                                        0.5415314521290299,
                                        0.540436056993341,
                                        0.539384139701724,
                                        0.5383738426617531,
                                        0.5374030418480503,
                                        0.5364699609550364,
                                        0.5355728348435839,
                                        0.5347098370062668,
                                        0.5338792112755228,
                                        0.5330794454012788,
                                        0.5323090834113268,
                                        0.5315668019300106,
                                        0.5308513237261219,
                                        0.5301613012061065,
                                        0.529495671443589,
                                        0.5288533765875716,
                                        0.528233183034952,
                                        0.5276340876553011,
                                        0.5270552192934048,
                                        0.5264956400476782,
                                        0.525954637221801
                                    ]
                                },
                                {
                                    "marker": {
                                        "maxdisplayed": 10
                                    },
                                    "mode": "lines+markers",
                                    "name": "Trial1",
                                    "type": "scatter",
                                    "x": [
                                        0,
                                        1,
                                        2,
                                        3,
                                        4,
                                        5,
                                        6,
                                        7,
                                        8,
                                        9,
                                        10,
                                        11,
                                        12,
                                        13,
                                        14,
                                        15,
                                        16,
                                        17,
                                        18,
                                        19,
                                        20,
                                        21,
                                        22,
                                        23,
                                        24,
                                        25,
                                        26,
                                        27,
                                        28,
                                        29,
                                        30,
                                        31,
                                        32,
                                        33,
                                        34,
                                        35,
                                        36,
                                        37,
                                        38,
                                        39,
                                        40,
                                        41,
                                        42,
                                        43,
                                        44,
                                        45,
                                        46,
                                        47,
                                        48,
                                        49
                                    ],
                                    "y": [
                                        0.49990592170984316,
                                        0.4861409897223497,
                                        0.47068259145459557,
                                        0.4582345019548367,
                                        0.44763793242283356,
                                        0.4377970696769209,
                                        0.42828276360427936,
                                        0.41935506959756214,
                                        0.411234328210184,
                                        0.4039462396731743,
                                        0.39744759446535355,
                                        0.3916093686070197,
                                        0.38630078994545947,
                                        0.3814974467614632,
                                        0.37711527174354614,
                                        0.37306238137758696,
                                        0.3693279158745416,
                                        0.36589723447619005,
                                        0.362699199422651,
                                        0.3597163342894652,
                                        0.3569428162769811,
                                        0.35436785783801045,
                                        0.3519353776538917,
                                        0.3496225839878759,
                                        0.3474522586052234,
                                        0.34542509228637697,
                                        0.34350553437968373,
                                        0.34166535852483776,
                                        0.33992524625557274,
                                        0.33826292493404486,
                                        0.3366904495864786,
                                        0.33519839189755607,
                                        0.33376980179858556,
                                        0.3323881836273731,
                                        0.33107056045706884,
                                        0.3298073619009762,
                                        0.3285944298870102,
                                        0.3274396646280198,
                                        0.3263357507994424,
                                        0.3252756306185172,
                                        0.32423935922851704,
                                        0.32324711128760025,
                                        0.32229086006761093,
                                        0.32136758328317766,
                                        0.32048340217340365,
                                        0.3196059376034583,
                                        0.31876087598441666,
                                        0.3179395268233413,
                                        0.31716225212435023,
                                        0.3164313700565925
                                    ]
                                },
                                {
                                    "marker": {
                                        "maxdisplayed": 10
                                    },
                                    "mode": "lines+markers",
                                    "name": "Trial2",
                                    "type": "scatter",
                                    "x": [
                                        0,
                                        1,
                                        2,
                                        3,
                                        4,
                                        5,
                                        6,
                                        7,
                                        8,
                                        9,
                                        10,
                                        11,
                                        12,
                                        13,
                                        14,
                                        15,
                                        16,
                                        17,
                                        18,
                                        19,
                                        20,
                                        21,
                                        22,
                                        23,
                                        24,
                                        25,
                                        26,
                                        27,
                                        28,
                                        29,
                                        30,
                                        31,
                                        32,
                                        33,
                                        34,
                                        35,
                                        36,
                                        37,
                                        38,
                                        39,
                                        40,
                                        41,
                                        42,
                                        43,
                                        44,
                                        45,
                                        46,
                                        47,
                                        48,
                                        49
                                    ],
                                    "y": [
                                        0.4904920779741727,
                                        0.48098477491965663,
                                        0.47218828247143674,
                                        0.4632642255761685,
                                        0.4540285408496857,
                                        0.44492382409735626,
                                        0.4363984217792204,
                                        0.4286602177681067,
                                        0.42160989645539526,
                                        0.41512884612266837,
                                        0.4090730429112494,
                                        0.4034625785982507,
                                        0.3982188270759771,
                                        0.3933517796434326,
                                        0.38883957659077445,
                                        0.38463373272082746,
                                        0.3807347437555075,
                                        0.3770948432364695,
                                        0.37368575804307563,
                                        0.37049700663639956,
                                        0.36750009626841523,
                                        0.36467322106266914,
                                        0.36202998281588394,
                                        0.35952203157238466,
                                        0.35713302927139473,
                                        0.35489253902576373,
                                        0.3527644513792235,
                                        0.3507302141451573,
                                        0.3488095901267492,
                                        0.3469691689452554,
                                        0.3452165540434093,
                                        0.34353970671789,
                                        0.3419530093206763,
                                        0.3404237590674002,
                                        0.3389818835826147,
                                        0.33756781579592293,
                                        0.3362255045422563,
                                        0.3349211563063376,
                                        0.33368554364529823,
                                        0.33249261427002075,
                                        0.33133032625358205,
                                        0.3301976187216057,
                                        0.32911122714257623,
                                        0.32809097559510414,
                                        0.3271071689930397,
                                        0.32612585248955117,
                                        0.3252082758761467,
                                        0.32428712229061335,
                                        0.32339325604920366,
                                        0.32254651338626183
                                    ]
                                },
                                {
                                    "marker": {
                                        "maxdisplayed": 10
                                    },
                                    "mode": "lines+markers",
                                    "name": "Trial3",
                                    "type": "scatter",
                                    "x": [
                                        0,
                                        1,
                                        2,
                                        3,
                                        4,
                                        5,
                                        6,
                                        7,
                                        8,
                                        9,
                                        10,
                                        11,
                                        12,
                                        13,
                                        14,
                                        15,
                                        16,
                                        17,
                                        18,
                                        19,
                                        20,
                                        21,
                                        22,
                                        23,
                                        24,
                                        25,
                                        26,
                                        27,
                                        28,
                                        29,
                                        30,
                                        31,
                                        32,
                                        33,
                                        34,
                                        35,
                                        36,
                                        37,
                                        38,
                                        39,
                                        40,
                                        41,
                                        42,
                                        43,
                                        44,
                                        45,
                                        46,
                                        47,
                                        48,
                                        49
                                    ],
                                    "y": [
                                        0.4088400969138512,
                                        0.40105697359794223,
                                        0.39800804165693426,
                                        0.3969443216919899,
                                        0.39467622148684967,
                                        0.392263510543057,
                                        0.3924135125818707,
                                        0.39304558732188666,
                                        0.39228233083700526,
                                        0.39159149733873516,
                                        0.3896777406855897,
                                        0.3890436711347001,
                                        0.38884477960992847,
                                        0.38805129441804503,
                                        0.3879931674553798,
                                        0.3874297543691519,
                                        0.3868752214074314,
                                        0.3870987855640911,
                                        0.3865771854293813,
                                        0.38620874159611185,
                                        0.38591242735348047,
                                        0.3865308208621187,
                                        0.3868766020705202,
                                        0.38651256135895723,
                                        0.38613802894567834,
                                        0.38583959791904837,
                                        0.3863171219882349,
                                        0.38630892022516267,
                                        0.38642201114818125,
                                        0.38618101737438104,
                                        0.3866521111443774,
                                        0.386358290982361,
                                        0.38642158953830447,
                                        0.38676282522994826,
                                        0.38708168272570376,
                                        0.38744751385219417,
                                        0.3875903877341243,
                                        0.3877042022994977,
                                        0.3877513821896246,
                                        0.388085420945516,
                                        0.38849367138890645,
                                        0.3890505760034799,
                                        0.38940386005861105,
                                        0.38944958079180797,
                                        0.38937868465725173,
                                        0.3896468341716024,
                                        0.389528182153811,
                                        0.3893729691417553,
                                        0.38994005333372955,
                                        0.3900319917996724
                                    ]
                                },
                                {
                                    "marker": {
                                        "maxdisplayed": 10
                                    },
                                    "mode": "lines+markers",
                                    "name": "Trial4",
                                    "type": "scatter",
                                    "x": [
                                        0,
                                        1,
                                        2,
                                        3,
                                        4,
                                        5,
                                        6,
                                        7,
                                        8,
                                        9,
                                        10,
                                        11,
                                        12,
                                        13,
                                        14,
                                        15,
                                        16,
                                        17,
                                        18,
                                        19,
                                        20,
                                        21,
                                        22,
                                        23,
                                        24,
                                        25,
                                        26,
                                        27,
                                        28,
                                        29,
                                        30,
                                        31,
                                        32,
                                        33,
                                        34,
                                        35,
                                        36,
                                        37,
                                        38,
                                        39,
                                        40,
                                        41,
                                        42,
                                        43,
                                        44,
                                        45,
                                        46,
                                        47,
                                        48,
                                        49
                                    ],
                                    "y": [
                                        0.5346808204284081,
                                        0.5236152127767221,
                                        0.5170441718183012,
                                        0.5128358646463125,
                                        0.5099578602191729,
                                        0.5078846343562133,
                                        0.5063344189972231,
                                        0.5051375932227342,
                                        0.5041898004180005,
                                        0.5034234928779112,
                                        0.5027917433868754,
                                        0.5022631388826247,
                                        0.501814300491965,
                                        0.5014288877392862,
                                        0.5010943767351981,
                                        0.5008013590883751,
                                        0.5005425332088816,
                                        0.5003122613046245,
                                        0.5001060788930669,
                                        0.4999204047597372,
                                        0.4997523017637023,
                                        0.4995994737028798,
                                        0.4994599328458376,
                                        0.49933198084815955,
                                        0.49921425733810815,
                                        0.4991054993997194,
                                        0.49900480884092824,
                                        0.4989112740580416,
                                        0.4988241717416981,
                                        0.4987428674585799,
                                        0.49866681068371504,
                                        0.4985954850338973,
                                        0.4985284794182767,
                                        0.49846541634332364,
                                        0.49840598689330806,
                                        0.49834982229348945,
                                        0.4982966760009507,
                                        0.4982463207684065,
                                        0.4981985496973066,
                                        0.4981531597482853,
                                        0.49810997812803126,
                                        0.49806885312110083,
                                        0.498029623684886,
                                        0.49799217262884965,
                                        0.4979563909718115,
                                        0.49792214498804305,
                                        0.49788936803526923,
                                        0.4978579394678529,
                                        0.4978277883967574,
                                        0.4977988412899848
                                    ]
                                },
                                {
                                    "marker": {
                                        "maxdisplayed": 10
                                    },
                                    "mode": "lines+markers",
                                    "name": "Trial5",
                                    "type": "scatter",
                                    "x": [
                                        0,
                                        1
                                    ],
                                    "y": [
                                        0.4969549286059844,
                                        0.48627268389249456
                                    ]
                                },
                                {
                                    "marker": {
                                        "maxdisplayed": 10
                                    },
                                    "mode": "lines+markers",
                                    "name": "Trial6",
                                    "type": "scatter",
                                    "x": [
                                        0,
                                        1
                                    ],
                                    "y": [
                                        0.4964835361028329,
                                        0.4964614094067843
                                    ]
                                },
                                {
                                    "marker": {
                                        "maxdisplayed": 10
                                    },
                                    "mode": "lines+markers",
                                    "name": "Trial7",
                                    "type": "scatter",
                                    "x": [
                                        0,
                                        1
                                    ],
                                    "y": [
                                        0.497746025904631,
                                        0.4970437964567771
                                    ]
                                },
                                {
                                    "marker": {
                                        "maxdisplayed": 10
                                    },
                                    "mode": "lines+markers",
                                    "name": "Trial8",
                                    "type": "scatter",
                                    "x": [
                                        0
                                    ],
                                    "y": [
                                        0.5040109616059524
                                    ]
                                },
                                {
                                    "marker": {
                                        "maxdisplayed": 10
                                    },
                                    "mode": "lines+markers",
                                    "name": "Trial9",
                                    "type": "scatter",
                                    "x": [
                                        0,
                                        1
                                    ],
                                    "y": [
                                        0.49642765063505906,
                                        0.4965253010010108
                                    ]
                                },
                                {
                                    "marker": {
                                        "maxdisplayed": 10
                                    },
                                    "mode": "lines+markers",
                                    "name": "Trial10",
                                    "type": "scatter",
                                    "x": [
                                        0,
                                        1,
                                        2,
                                        3,
                                        4,
                                        5,
                                        6,
                                        7
                                    ],
                                    "y": [
                                        0.4342507276779566,
                                        0.4380719971198302,
                                        0.4346889866213513,
                                        0.4315877801332718,
                                        0.43240633851442584,
                                        0.4308991925074504,
                                        0.4296040448731992,
                                        0.433646446141677
                                    ]
                                },
                                {
                                    "marker": {
                                        "maxdisplayed": 10
                                    },
                                    "mode": "lines+markers",
                                    "name": "Trial11",
                                    "type": "scatter",
                                    "x": [
                                        0,
                                        1,
                                        2,
                                        3,
                                        4,
                                        5,
                                        6,
                                        7,
                                        8,
                                        9,
                                        10,
                                        11,
                                        12,
                                        13,
                                        14,
                                        15,
                                        16,
                                        17,
                                        18,
                                        19,
                                        20,
                                        21,
                                        22,
                                        23,
                                        24,
                                        25,
                                        26,
                                        27,
                                        28,
                                        29,
                                        30,
                                        31,
                                        32,
                                        33,
                                        34,
                                        35,
                                        36,
                                        37,
                                        38,
                                        39,
                                        40,
                                        41,
                                        42,
                                        43,
                                        44,
                                        45,
                                        46,
                                        47,
                                        48,
                                        49
                                    ],
                                    "y": [
                                        0.4164918714608902,
                                        0.40188463223286164,
                                        0.39138496839083153,
                                        0.3831375963412798,
                                        0.37647725297854495,
                                        0.3709251637387479,
                                        0.3661785765445276,
                                        0.36208347336221963,
                                        0.3584684763538871,
                                        0.3552138103888585,
                                        0.3522894772894177,
                                        0.34963419434861237,
                                        0.34720742526139026,
                                        0.34498462386620343,
                                        0.3429201498500302,
                                        0.34101341908367777,
                                        0.33923159744225295,
                                        0.3375712321949141,
                                        0.336023652481164,
                                        0.3345606175752786,
                                        0.33318187942289457,
                                        0.33188626541819044,
                                        0.3306461446726468,
                                        0.3294631900249893,
                                        0.32833496897648545,
                                        0.32726074866877036,
                                        0.32623927961727156,
                                        0.3252651505581626,
                                        0.32432849071491726,
                                        0.32343081814101626,
                                        0.32256113891270266,
                                        0.32173103457077956,
                                        0.320935950204209,
                                        0.3201662983694767,
                                        0.31941620729345105,
                                        0.31868855759204284,
                                        0.31797923532857386,
                                        0.3173019977113013,
                                        0.3166374969764574,
                                        0.3159976172905702,
                                        0.3153758149470591,
                                        0.31476598454045723,
                                        0.31417207541605086,
                                        0.3135948364030231,
                                        0.31303952387255485,
                                        0.31249715150266455,
                                        0.31196629384860797,
                                        0.31144860087551623,
                                        0.31094349620543116,
                                        0.31044593959282607
                                    ]
                                },
                                {
                                    "marker": {
                                        "maxdisplayed": 10
                                    },
                                    "mode": "lines+markers",
                                    "name": "Trial12",
                                    "type": "scatter",
                                    "x": [
                                        0,
                                        1,
                                        2,
                                        3,
                                        4,
                                        5,
                                        6,
                                        7,
                                        8,
                                        9,
                                        10,
                                        11,
                                        12,
                                        13,
                                        14,
                                        15,
                                        16,
                                        17,
                                        18,
                                        19,
                                        20,
                                        21,
                                        22,
                                        23,
                                        24,
                                        25,
                                        26,
                                        27,
                                        28,
                                        29,
                                        30,
                                        31,
                                        32,
                                        33,
                                        34,
                                        35,
                                        36,
                                        37,
                                        38,
                                        39,
                                        40,
                                        41,
                                        42,
                                        43,
                                        44,
                                        45,
                                        46,
                                        47,
                                        48,
                                        49
                                    ],
                                    "y": [
                                        0.416856906352899,
                                        0.40063480956432146,
                                        0.3893021049662533,
                                        0.380777548903074,
                                        0.3739567674123324,
                                        0.36829592160180086,
                                        0.36349099961829273,
                                        0.3593533733525337,
                                        0.3557261594510146,
                                        0.3524756765518433,
                                        0.34958050294078036,
                                        0.3469308168332801,
                                        0.3445211394416275,
                                        0.3423005166180405,
                                        0.3402492975067889,
                                        0.3383399122514022,
                                        0.3365628297242644,
                                        0.3348904974610038,
                                        0.3333238600156246,
                                        0.3318508790471615,
                                        0.3304625547630883,
                                        0.32914306358857587,
                                        0.32789093777620404,
                                        0.32669904535142785,
                                        0.32557036265348777,
                                        0.32448133867402984,
                                        0.3234407555343758,
                                        0.32244796526956027,
                                        0.3215004547732156,
                                        0.32058535047575953,
                                        0.31971301686872217,
                                        0.31886463459485614,
                                        0.3180443594274172,
                                        0.3172681694162018,
                                        0.31650319134359395,
                                        0.31576382413379145,
                                        0.31505759831773517,
                                        0.3143685421279246,
                                        0.3137073943208974,
                                        0.3130596306079473,
                                        0.3124393401218996,
                                        0.311833164030379,
                                        0.31124013306914017,
                                        0.3106653880857643,
                                        0.31010195246109595,
                                        0.30955602306718943,
                                        0.309026605661489,
                                        0.30851205084950495,
                                        0.30801255736657923,
                                        0.3075175391863554
                                    ]
                                },
                                {
                                    "marker": {
                                        "maxdisplayed": 10
                                    },
                                    "mode": "lines+markers",
                                    "name": "Trial13",
                                    "type": "scatter",
                                    "x": [
                                        0,
                                        1,
                                        2,
                                        3,
                                        4,
                                        5,
                                        6,
                                        7,
                                        8,
                                        9,
                                        10,
                                        11,
                                        12,
                                        13,
                                        14,
                                        15,
                                        16,
                                        17,
                                        18,
                                        19,
                                        20,
                                        21,
                                        22,
                                        23,
                                        24,
                                        25,
                                        26,
                                        27,
                                        28,
                                        29,
                                        30,
                                        31,
                                        32,
                                        33,
                                        34,
                                        35,
                                        36,
                                        37,
                                        38,
                                        39,
                                        40,
                                        41,
                                        42,
                                        43,
                                        44,
                                        45,
                                        46,
                                        47,
                                        48,
                                        49
                                    ],
                                    "y": [
                                        0.4370939777447627,
                                        0.4182630934012242,
                                        0.40545421227430684,
                                        0.39564999250265265,
                                        0.3877869168917338,
                                        0.381246605872089,
                                        0.37575861898970686,
                                        0.3710537826021512,
                                        0.36696136524195005,
                                        0.36336086705709114,
                                        0.36014518190375017,
                                        0.3572403833779514,
                                        0.3545885950738391,
                                        0.3521770718115153,
                                        0.3499595418445065,
                                        0.34790068263044727,
                                        0.3459860685634038,
                                        0.34419372011283866,
                                        0.34252502054338035,
                                        0.3409567816517292,
                                        0.33948361022131784,
                                        0.33809229432841836,
                                        0.3367649924130477,
                                        0.3355064699665094,
                                        0.3343090513730661,
                                        0.333164712145954,
                                        0.33208040611469963,
                                        0.33103836606164555,
                                        0.3300417290389485,
                                        0.32908783091439137,
                                        0.3281670233451995,
                                        0.3272847372274368,
                                        0.3264330151985112,
                                        0.3256158353156813,
                                        0.3248221171426249,
                                        0.3240539912781824,
                                        0.3233188075773103,
                                        0.3226036090559644,
                                        0.32190482556467226,
                                        0.32123422146989744,
                                        0.3205848266326911,
                                        0.3199542022704787,
                                        0.3193396149857384,
                                        0.31874410821980254,
                                        0.3181576420269121,
                                        0.3175984253585671,
                                        0.31704724591024186,
                                        0.31650802039374143,
                                        0.3159886093148382,
                                        0.31547588143593225
                                    ]
                                },
                                {
                                    "marker": {
                                        "maxdisplayed": 10
                                    },
                                    "mode": "lines+markers",
                                    "name": "Trial14",
                                    "type": "scatter",
                                    "x": [
                                        0,
                                        1
                                    ],
                                    "y": [
                                        0.46244976230156726,
                                        0.46076149665392363
                                    ]
                                },
                                {
                                    "marker": {
                                        "maxdisplayed": 10
                                    },
                                    "mode": "lines+markers",
                                    "name": "Trial15",
                                    "type": "scatter",
                                    "x": [
                                        0
                                    ],
                                    "y": [
                                        0.4833891735627101
                                    ]
                                },
                                {
                                    "marker": {
                                        "maxdisplayed": 10
                                    },
                                    "mode": "lines+markers",
                                    "name": "Trial16",
                                    "type": "scatter",
                                    "x": [
                                        0
                                    ],
                                    "y": [
                                        0.5185352571499653
                                    ]
                                },
                                {
                                    "marker": {
                                        "maxdisplayed": 10
                                    },
                                    "mode": "lines+markers",
                                    "name": "Trial17",
                                    "type": "scatter",
                                    "x": [
                                        0
                                    ],
                                    "y": [
                                        0.5079631331639413
                                    ]
                                },
                                {
                                    "marker": {
                                        "maxdisplayed": 10
                                    },
                                    "mode": "lines+markers",
                                    "name": "Trial18",
                                    "type": "scatter",
                                    "x": [
                                        0
                                    ],
                                    "y": [
                                        0.49617791940004397
                                    ]
                                },
                                {
                                    "marker": {
                                        "maxdisplayed": 10
                                    },
                                    "mode": "lines+markers",
                                    "name": "Trial19",
                                    "type": "scatter",
                                    "x": [
                                        0,
                                        1,
                                        2,
                                        3,
                                        4,
                                        5,
                                        6,
                                        7,
                                        8,
                                        9,
                                        10,
                                        11,
                                        12,
                                        13,
                                        14,
                                        15,
                                        16,
                                        17,
                                        18,
                                        19,
                                        20,
                                        21,
                                        22,
                                        23,
                                        24,
                                        25,
                                        26,
                                        27,
                                        28,
                                        29,
                                        30,
                                        31,
                                        32,
                                        33,
                                        34,
                                        35,
                                        36,
                                        37,
                                        38,
                                        39,
                                        40,
                                        41,
                                        42,
                                        43,
                                        44,
                                        45,
                                        46,
                                        47,
                                        48,
                                        49
                                    ],
                                    "y": [
                                        0.3245903261196919,
                                        0.3200386445491742,
                                        0.31297259682264084,
                                        0.3099948578538039,
                                        0.3075861073457278,
                                        0.3049867376048341,
                                        0.3040237467149239,
                                        0.30285755353860366,
                                        0.30182427235817977,
                                        0.3007920372944612,
                                        0.2996668161906841,
                                        0.29829714154331094,
                                        0.2974044708810615,
                                        0.2967439445056322,
                                        0.29596714550613346,
                                        0.2951724272794448,
                                        0.2950155436992645,
                                        0.29415193172516646,
                                        0.29390719663678555,
                                        0.2931256326536338,
                                        0.2923474249785928,
                                        0.29168000193812077,
                                        0.29139401281092614,
                                        0.29085923565758603,
                                        0.2908622803137853,
                                        0.2903394742889047,
                                        0.28994493153926204,
                                        0.28964720025058194,
                                        0.2896415762781148,
                                        0.28953281755630783,
                                        0.28916300055505423,
                                        0.289023618452633,
                                        0.2888135707878566,
                                        0.2885106516999177,
                                        0.2884077619283627,
                                        0.28817523599859657,
                                        0.2878627413503015,
                                        0.2875774684544356,
                                        0.28741550324074455,
                                        0.28732773466752126,
                                        0.2872414176467063,
                                        0.2870604258226242,
                                        0.2869543811893918,
                                        0.2868798588053052,
                                        0.2867867574053273,
                                        0.2866949750361767,
                                        0.286724354472241,
                                        0.28683155053892195,
                                        0.2869339086259615,
                                        0.2869411049745022
                                    ]
                                },
                                {
                                    "marker": {
                                        "maxdisplayed": 10
                                    },
                                    "mode": "lines+markers",
                                    "name": "Trial20",
                                    "type": "scatter",
                                    "x": [
                                        0
                                    ],
                                    "y": [
                                        0.4472150863745274
                                    ]
                                },
                                {
                                    "marker": {
                                        "maxdisplayed": 10
                                    },
                                    "mode": "lines+markers",
                                    "name": "Trial21",
                                    "type": "scatter",
                                    "x": [
                                        0,
                                        1,
                                        2,
                                        3,
                                        4,
                                        5,
                                        6,
                                        7,
                                        8,
                                        9,
                                        10,
                                        11,
                                        12,
                                        13,
                                        14,
                                        15,
                                        16,
                                        17,
                                        18,
                                        19,
                                        20,
                                        21,
                                        22,
                                        23,
                                        24,
                                        25,
                                        26,
                                        27,
                                        28,
                                        29,
                                        30,
                                        31,
                                        32,
                                        33,
                                        34,
                                        35,
                                        36,
                                        37,
                                        38,
                                        39,
                                        40,
                                        41,
                                        42,
                                        43,
                                        44,
                                        45,
                                        46,
                                        47,
                                        48,
                                        49
                                    ],
                                    "y": [
                                        0.3336911209118672,
                                        0.3227454527066304,
                                        0.31907422012752956,
                                        0.31602728557892334,
                                        0.3134853141430097,
                                        0.3124643590969917,
                                        0.31118946132205777,
                                        0.30981800619226235,
                                        0.3106621918175635,
                                        0.30939248983676615,
                                        0.3083462784618209,
                                        0.30741717882900155,
                                        0.30621692291378266,
                                        0.3059264291009623,
                                        0.3051932256445925,
                                        0.3046514545686734,
                                        0.30381069944814676,
                                        0.30299931403748326,
                                        0.3022168149188784,
                                        0.3017554209782527,
                                        0.3011512168670603,
                                        0.3005797417361142,
                                        0.30003277072008105,
                                        0.29940703708646643,
                                        0.29890016299027666,
                                        0.29846462572114707,
                                        0.29803501441721,
                                        0.2977922371291853,
                                        0.2974868619420906,
                                        0.29692259621925843,
                                        0.29675047278305633,
                                        0.2965247829993948,
                                        0.29643887934429103,
                                        0.29614313389560937,
                                        0.2958700616062779,
                                        0.29571372715284006,
                                        0.29550744774890125,
                                        0.29534737549611595,
                                        0.2953922005858883,
                                        0.2952587299717543,
                                        0.2950147483835674,
                                        0.29478357251055803,
                                        0.2946082966076738,
                                        0.29463418695580706,
                                        0.294450669826945,
                                        0.2943185263935273,
                                        0.2943030866894381,
                                        0.2942123139499981,
                                        0.2940912637440463,
                                        0.29402532688318156
                                    ]
                                },
                                {
                                    "marker": {
                                        "maxdisplayed": 10
                                    },
                                    "mode": "lines+markers",
                                    "name": "Trial22",
                                    "type": "scatter",
                                    "x": [
                                        0,
                                        1,
                                        2,
                                        3,
                                        4,
                                        5,
                                        6,
                                        7,
                                        8,
                                        9,
                                        10,
                                        11,
                                        12,
                                        13,
                                        14,
                                        15,
                                        16,
                                        17,
                                        18,
                                        19,
                                        20,
                                        21,
                                        22,
                                        23,
                                        24,
                                        25,
                                        26,
                                        27,
                                        28,
                                        29,
                                        30,
                                        31,
                                        32,
                                        33,
                                        34,
                                        35,
                                        36,
                                        37,
                                        38,
                                        39,
                                        40,
                                        41,
                                        42,
                                        43,
                                        44,
                                        45,
                                        46,
                                        47,
                                        48,
                                        49
                                    ],
                                    "y": [
                                        0.3212486887589479,
                                        0.318512092034022,
                                        0.3123904458987407,
                                        0.31143322797157824,
                                        0.30974527643277094,
                                        0.30761079184519935,
                                        0.3050794660390078,
                                        0.3033182112834393,
                                        0.30173867991846853,
                                        0.3007393546593495,
                                        0.29959668507387033,
                                        0.29852698762447405,
                                        0.29796042309475135,
                                        0.29720095220284587,
                                        0.2963385975768424,
                                        0.2955892631927362,
                                        0.29480393583778164,
                                        0.2940519706815736,
                                        0.2934780699601862,
                                        0.29313439898766,
                                        0.2925048750689906,
                                        0.2919438244440617,
                                        0.29145706766425167,
                                        0.29101234938726467,
                                        0.29069514937889884,
                                        0.29039684646345926,
                                        0.29000748576488483,
                                        0.2895970232102461,
                                        0.28923680245296607,
                                        0.2888777033640789,
                                        0.28852277705746315,
                                        0.2882467919291976,
                                        0.2880556355776857,
                                        0.28793445443046223,
                                        0.2876896991834536,
                                        0.2873472013322377,
                                        0.2871435153261292,
                                        0.28687886083335207,
                                        0.286703194641581,
                                        0.2865111128259928,
                                        0.28623554047157496,
                                        0.2860174108301181,
                                        0.2857831240446708,
                                        0.28560411101663025,
                                        0.2854910180949078,
                                        0.28521629481876437,
                                        0.28500600577018587,
                                        0.28487297356861013,
                                        0.28476721361037766,
                                        0.28459402325061656
                                    ]
                                },
                                {
                                    "marker": {
                                        "maxdisplayed": 10
                                    },
                                    "mode": "lines+markers",
                                    "name": "Trial23",
                                    "type": "scatter",
                                    "x": [
                                        0,
                                        1,
                                        2,
                                        3,
                                        4,
                                        5,
                                        6,
                                        7,
                                        8,
                                        9,
                                        10,
                                        11,
                                        12,
                                        13,
                                        14,
                                        15,
                                        16,
                                        17,
                                        18,
                                        19,
                                        20,
                                        21,
                                        22,
                                        23,
                                        24,
                                        25,
                                        26,
                                        27,
                                        28,
                                        29,
                                        30,
                                        31,
                                        32,
                                        33
                                    ],
                                    "y": [
                                        0.3793358046274919,
                                        0.36427752406169206,
                                        0.35729887673997474,
                                        0.3520590550242326,
                                        0.35011090376438236,
                                        0.35028710197179747,
                                        0.3466672013094137,
                                        0.3442365294083571,
                                        0.3430505397482815,
                                        0.34117161394693907,
                                        0.3393055496515927,
                                        0.33836841545043844,
                                        0.337204805962903,
                                        0.336222869736371,
                                        0.3355645362128559,
                                        0.3344793853182823,
                                        0.33323477008583674,
                                        0.33227468347787176,
                                        0.33154473163177445,
                                        0.3311549989458842,
                                        0.3303858034121684,
                                        0.32982888112673947,
                                        0.32974170060327884,
                                        0.3290699331296815,
                                        0.3288652042242197,
                                        0.3285996348429949,
                                        0.3281760918222375,
                                        0.3277643657811396,
                                        0.32726317775871355,
                                        0.32710918200831135,
                                        0.32676957563687403,
                                        0.32623292527233183,
                                        0.3258860393976554,
                                        0.32580114754976014
                                    ]
                                },
                                {
                                    "marker": {
                                        "maxdisplayed": 10
                                    },
                                    "mode": "lines+markers",
                                    "name": "Trial24",
                                    "type": "scatter",
                                    "x": [
                                        0,
                                        1,
                                        2,
                                        3,
                                        4,
                                        5,
                                        6,
                                        7,
                                        8,
                                        9,
                                        10,
                                        11,
                                        12,
                                        13,
                                        14,
                                        15,
                                        16,
                                        17,
                                        18,
                                        19,
                                        20,
                                        21,
                                        22,
                                        23,
                                        24,
                                        25,
                                        26,
                                        27,
                                        28,
                                        29,
                                        30,
                                        31,
                                        32,
                                        33,
                                        34,
                                        35,
                                        36,
                                        37,
                                        38,
                                        39,
                                        40,
                                        41,
                                        42,
                                        43,
                                        44,
                                        45,
                                        46,
                                        47,
                                        48,
                                        49
                                    ],
                                    "y": [
                                        0.32176065597778714,
                                        0.31796127061049145,
                                        0.313838059321428,
                                        0.3112362479934326,
                                        0.3094864654235351,
                                        0.3073292942638071,
                                        0.3058297971447746,
                                        0.3050226627443081,
                                        0.30328481990387635,
                                        0.30222056538630754,
                                        0.30132544297716274,
                                        0.30060160452993506,
                                        0.2993814647197723,
                                        0.2983382249817307,
                                        0.2976572661827772,
                                        0.29686636993518245,
                                        0.29623456494840567,
                                        0.2956051941525903,
                                        0.294797502226836,
                                        0.29455565890440577,
                                        0.29392639170053975,
                                        0.2935359030961991,
                                        0.2929557808731977,
                                        0.29243442260174674,
                                        0.2918261381296011,
                                        0.2913199958540279,
                                        0.2907724538986047,
                                        0.29021283296438366,
                                        0.28987997090468676,
                                        0.28951554163398907,
                                        0.28938939578282724,
                                        0.28925895060484225,
                                        0.28886151966792994,
                                        0.2885181736622461,
                                        0.28831597492371724,
                                        0.2879390761234991,
                                        0.28773087171201317,
                                        0.28743077437525333,
                                        0.28731102651667234,
                                        0.28697182634511054,
                                        0.2867415153641042,
                                        0.28651105707126956,
                                        0.28632869658082033,
                                        0.2860677753659812,
                                        0.28583894092642687,
                                        0.28568482183858573,
                                        0.28546048772348065,
                                        0.2852448138734724,
                                        0.28502088194115505,
                                        0.2849940088926217
                                    ]
                                },
                                {
                                    "marker": {
                                        "maxdisplayed": 10
                                    },
                                    "mode": "lines+markers",
                                    "name": "Trial25",
                                    "type": "scatter",
                                    "x": [
                                        0
                                    ],
                                    "y": [
                                        0.4454154555614178
                                    ]
                                },
                                {
                                    "marker": {
                                        "maxdisplayed": 10
                                    },
                                    "mode": "lines+markers",
                                    "name": "Trial26",
                                    "type": "scatter",
                                    "x": [
                                        0,
                                        1,
                                        2,
                                        3,
                                        4,
                                        5,
                                        6,
                                        7,
                                        8,
                                        9,
                                        10,
                                        11,
                                        12,
                                        13,
                                        14,
                                        15,
                                        16,
                                        17,
                                        18,
                                        19,
                                        20,
                                        21,
                                        22,
                                        23,
                                        24,
                                        25,
                                        26,
                                        27,
                                        28,
                                        29,
                                        30,
                                        31,
                                        32,
                                        33,
                                        34,
                                        35,
                                        36,
                                        37,
                                        38,
                                        39,
                                        40,
                                        41,
                                        42,
                                        43,
                                        44,
                                        45,
                                        46,
                                        47,
                                        48,
                                        49
                                    ],
                                    "y": [
                                        0.318843668852097,
                                        0.31446318404796797,
                                        0.31052079694902796,
                                        0.30672473880725026,
                                        0.3058566562640361,
                                        0.3039661026917971,
                                        0.3028154327319218,
                                        0.30165603632728255,
                                        0.3002001323930898,
                                        0.2999368476562011,
                                        0.2992364536354314,
                                        0.2986268577540023,
                                        0.2973160010117751,
                                        0.2963969694389092,
                                        0.2956054624838707,
                                        0.29566789146226186,
                                        0.2950759219008513,
                                        0.2942002512026376,
                                        0.2937429453599469,
                                        0.29325515482670217,
                                        0.293234736964525,
                                        0.2926005934710269,
                                        0.2922011187576264,
                                        0.2921088996351275,
                                        0.2915550473103156,
                                        0.29113838311718293,
                                        0.29078669926719447,
                                        0.29041204727067177,
                                        0.2903125421806946,
                                        0.28992047769646356,
                                        0.28956937559435836,
                                        0.28922755989986354,
                                        0.2889177539872864,
                                        0.2885860567448906,
                                        0.2883931729383085,
                                        0.2881867739761997,
                                        0.2878866868038105,
                                        0.287853670476178,
                                        0.28754344028050305,
                                        0.28730397128906005,
                                        0.28700021813257254,
                                        0.28686999227574167,
                                        0.28674321022322297,
                                        0.2864278664677849,
                                        0.2862816864693606,
                                        0.2860857294405184,
                                        0.2858493703753325,
                                        0.28560541145121443,
                                        0.28544491312692205,
                                        0.28532204530177974
                                    ]
                                },
                                {
                                    "marker": {
                                        "maxdisplayed": 10
                                    },
                                    "mode": "lines+markers",
                                    "name": "Trial27",
                                    "type": "scatter",
                                    "x": [
                                        0
                                    ],
                                    "y": [
                                        0.43820864115005886
                                    ]
                                },
                                {
                                    "marker": {
                                        "maxdisplayed": 10
                                    },
                                    "mode": "lines+markers",
                                    "name": "Trial28",
                                    "type": "scatter",
                                    "x": [
                                        0,
                                        1,
                                        2,
                                        3,
                                        4,
                                        5,
                                        6,
                                        7,
                                        8,
                                        9,
                                        10,
                                        11,
                                        12,
                                        13,
                                        14
                                    ],
                                    "y": [
                                        0.3486316089446728,
                                        0.34491667800988907,
                                        0.3449218553355616,
                                        0.34407413750886917,
                                        0.34334273109069235,
                                        0.34842705535583,
                                        0.35368553175157674,
                                        0.36126398533964765,
                                        0.3655789908860144,
                                        0.3717702806760103,
                                        0.37447169124385415,
                                        0.3814025732059764,
                                        0.3873097323454343,
                                        0.39229229480137323,
                                        0.3968180146482256
                                    ]
                                },
                                {
                                    "marker": {
                                        "maxdisplayed": 10
                                    },
                                    "mode": "lines+markers",
                                    "name": "Trial29",
                                    "type": "scatter",
                                    "x": [
                                        0
                                    ],
                                    "y": [
                                        0.4728159759289179
                                    ]
                                },
                                {
                                    "marker": {
                                        "maxdisplayed": 10
                                    },
                                    "mode": "lines+markers",
                                    "name": "Trial30",
                                    "type": "scatter",
                                    "x": [
                                        0,
                                        1,
                                        2,
                                        3,
                                        4,
                                        5,
                                        6,
                                        7,
                                        8,
                                        9,
                                        10,
                                        11,
                                        12,
                                        13,
                                        14,
                                        15,
                                        16,
                                        17,
                                        18,
                                        19,
                                        20,
                                        21,
                                        22,
                                        23,
                                        24,
                                        25,
                                        26,
                                        27,
                                        28,
                                        29,
                                        30,
                                        31,
                                        32,
                                        33,
                                        34,
                                        35,
                                        36,
                                        37,
                                        38,
                                        39,
                                        40,
                                        41,
                                        42,
                                        43,
                                        44,
                                        45,
                                        46,
                                        47,
                                        48,
                                        49
                                    ],
                                    "y": [
                                        0.3116064216846075,
                                        0.3050320786543381,
                                        0.3018084056357033,
                                        0.2996420768591074,
                                        0.29792203597533395,
                                        0.29523658625081056,
                                        0.2930737395426292,
                                        0.29123874839681846,
                                        0.28971770125576574,
                                        0.2883409063021342,
                                        0.287366808711232,
                                        0.28623016971426135,
                                        0.2853301545160527,
                                        0.2845932657902058,
                                        0.28404363605201755,
                                        0.2832905995205809,
                                        0.282553603813659,
                                        0.2818482348806837,
                                        0.2812096347250597,
                                        0.28068258342070457,
                                        0.28024922505985395,
                                        0.27982164966268136,
                                        0.279357144748221,
                                        0.2789546807065733,
                                        0.2785782061020533,
                                        0.2784333344864892,
                                        0.27809964818039734,
                                        0.2778394529698314,
                                        0.2775546799419624,
                                        0.27739106657413337,
                                        0.27711195196121363,
                                        0.2769324554560276,
                                        0.2767418305380176,
                                        0.2766547758317641,
                                        0.27647824090915724,
                                        0.2764443379118402,
                                        0.276393975967016,
                                        0.2762901039138014,
                                        0.27630030394658533,
                                        0.2762482914309471,
                                        0.27630492107356763,
                                        0.2761649036272833,
                                        0.27600619822438444,
                                        0.27594595912210035,
                                        0.27584111015511376,
                                        0.2757364428096524,
                                        0.2756397772684035,
                                        0.27567508796819,
                                        0.2756720337488463,
                                        0.275545658270518
                                    ]
                                },
                                {
                                    "marker": {
                                        "maxdisplayed": 10
                                    },
                                    "mode": "lines+markers",
                                    "name": "Trial31",
                                    "type": "scatter",
                                    "x": [
                                        0,
                                        1,
                                        2,
                                        3,
                                        4,
                                        5,
                                        6,
                                        7,
                                        8,
                                        9,
                                        10,
                                        11,
                                        12,
                                        13,
                                        14,
                                        15,
                                        16,
                                        17,
                                        18,
                                        19,
                                        20,
                                        21,
                                        22,
                                        23,
                                        24,
                                        25,
                                        26,
                                        27,
                                        28,
                                        29,
                                        30,
                                        31,
                                        32,
                                        33,
                                        34,
                                        35,
                                        36,
                                        37,
                                        38,
                                        39,
                                        40,
                                        41,
                                        42,
                                        43,
                                        44,
                                        45,
                                        46,
                                        47,
                                        48,
                                        49
                                    ],
                                    "y": [
                                        0.3125865971430754,
                                        0.3064609552041078,
                                        0.3027407310457311,
                                        0.2998377069448813,
                                        0.29766279260317485,
                                        0.2954378768674329,
                                        0.2932392260530493,
                                        0.2915335373045542,
                                        0.29050603763669985,
                                        0.2890883353276131,
                                        0.2880771061479351,
                                        0.28718826830641836,
                                        0.28622659458916566,
                                        0.2852669874608735,
                                        0.28445873102571206,
                                        0.2836311581329658,
                                        0.28291636968360234,
                                        0.2823160207509316,
                                        0.28158269219311627,
                                        0.2810692141262385,
                                        0.2805476495962004,
                                        0.28003160726704523,
                                        0.27962026131259426,
                                        0.27925950239420444,
                                        0.27882786619357575,
                                        0.27850514059588755,
                                        0.27828662512082775,
                                        0.2780949370901445,
                                        0.2778445203071353,
                                        0.2775310013793472,
                                        0.277290355959542,
                                        0.27700998059784376,
                                        0.27682082852885626,
                                        0.27668665250591923,
                                        0.2763966107761467,
                                        0.2762846001384095,
                                        0.276172734358124,
                                        0.2759737247719295,
                                        0.2758913183686453,
                                        0.2757809160420528,
                                        0.27563240482070583,
                                        0.27546837925001233,
                                        0.275398110554342,
                                        0.2752750297804257,
                                        0.27515309417349665,
                                        0.27507574641983645,
                                        0.27495440830152934,
                                        0.27485688934182256,
                                        0.2748274879733784,
                                        0.2746636963654787
                                    ]
                                },
                                {
                                    "marker": {
                                        "maxdisplayed": 10
                                    },
                                    "mode": "lines+markers",
                                    "name": "Trial32",
                                    "type": "scatter",
                                    "x": [
                                        0,
                                        1,
                                        2,
                                        3,
                                        4,
                                        5,
                                        6,
                                        7,
                                        8,
                                        9,
                                        10,
                                        11,
                                        12,
                                        13,
                                        14,
                                        15,
                                        16,
                                        17,
                                        18,
                                        19,
                                        20,
                                        21,
                                        22,
                                        23,
                                        24,
                                        25,
                                        26,
                                        27,
                                        28,
                                        29,
                                        30,
                                        31,
                                        32,
                                        33,
                                        34,
                                        35,
                                        36,
                                        37,
                                        38,
                                        39,
                                        40,
                                        41,
                                        42,
                                        43,
                                        44,
                                        45,
                                        46,
                                        47,
                                        48,
                                        49
                                    ],
                                    "y": [
                                        0.3142434496145982,
                                        0.3067106176645328,
                                        0.3024025546689319,
                                        0.2989036868780087,
                                        0.2958127312171154,
                                        0.29353984349813217,
                                        0.29147801392680994,
                                        0.289814534668739,
                                        0.2883900938889919,
                                        0.28716539962169446,
                                        0.28591965538360575,
                                        0.2852855364545288,
                                        0.28438276075987656,
                                        0.2835104616679551,
                                        0.2827073418431812,
                                        0.28199167494685984,
                                        0.2812543790984118,
                                        0.2808057418109005,
                                        0.28017410541433396,
                                        0.2795345936257106,
                                        0.2790821867839175,
                                        0.2786117018589051,
                                        0.2782151618995263,
                                        0.27790455440552825,
                                        0.2775079761407314,
                                        0.27722965745178196,
                                        0.27703299436360906,
                                        0.2767785758516946,
                                        0.276590382362445,
                                        0.2764668690088468,
                                        0.27636510274250514,
                                        0.2762028085402189,
                                        0.2759684831621856,
                                        0.27585107620754934,
                                        0.27566813470679763,
                                        0.27549617404272075,
                                        0.27531995695040445,
                                        0.2753720419951457,
                                        0.275219456213701,
                                        0.2751192783507017,
                                        0.27501358342513654,
                                        0.27491330278989595,
                                        0.2748930717534655,
                                        0.2749138957970626,
                                        0.27491996548114683,
                                        0.2749257953370296,
                                        0.27481346710321364,
                                        0.27484142968160474,
                                        0.274809243244254,
                                        0.27479961946224557
                                    ]
                                },
                                {
                                    "marker": {
                                        "maxdisplayed": 10
                                    },
                                    "mode": "lines+markers",
                                    "name": "Trial33",
                                    "type": "scatter",
                                    "x": [
                                        0,
                                        1,
                                        2,
                                        3,
                                        4,
                                        5,
                                        6,
                                        7,
                                        8,
                                        9,
                                        10,
                                        11,
                                        12,
                                        13,
                                        14,
                                        15,
                                        16,
                                        17,
                                        18,
                                        19,
                                        20,
                                        21,
                                        22,
                                        23,
                                        24,
                                        25,
                                        26,
                                        27,
                                        28,
                                        29,
                                        30,
                                        31,
                                        32,
                                        33,
                                        34,
                                        35,
                                        36,
                                        37,
                                        38,
                                        39,
                                        40,
                                        41,
                                        42,
                                        43,
                                        44,
                                        45,
                                        46,
                                        47,
                                        48,
                                        49
                                    ],
                                    "y": [
                                        0.32779047962946767,
                                        0.3166180986624497,
                                        0.3126776845027239,
                                        0.30888163527617085,
                                        0.3056124632175152,
                                        0.3051494432565493,
                                        0.3025532115946759,
                                        0.3004447708909328,
                                        0.29858472527262153,
                                        0.2978045783745937,
                                        0.2966077579207076,
                                        0.29528523924259037,
                                        0.29407886875686795,
                                        0.2929540202840344,
                                        0.2919776720368964,
                                        0.2913666034165101,
                                        0.2906745679418066,
                                        0.2899938760659634,
                                        0.28921311904705166,
                                        0.2885960814662469,
                                        0.2879189015963139,
                                        0.2872973562051089,
                                        0.28688395059892835,
                                        0.2863751616106074,
                                        0.2857975831398597,
                                        0.28529560051608605,
                                        0.2848320409499908,
                                        0.28452292566388954,
                                        0.2840530194480476,
                                        0.28374191750573297,
                                        0.28336303352668724,
                                        0.2829244032096213,
                                        0.28266767499839596,
                                        0.28226596433922174,
                                        0.2820205087190146,
                                        0.2817059469613594,
                                        0.28150261181638375,
                                        0.2812676473788404,
                                        0.2810053181816762,
                                        0.2808225038150946,
                                        0.2805473246262773,
                                        0.280335435082042,
                                        0.2803384507242668,
                                        0.2801629578508002,
                                        0.27996859666798524,
                                        0.27971135985226664,
                                        0.2794590875693376,
                                        0.2793157203759775,
                                        0.27914939552529955,
                                        0.2790044992703658
                                    ]
                                },
                                {
                                    "marker": {
                                        "maxdisplayed": 10
                                    },
                                    "mode": "lines+markers",
                                    "name": "Trial34",
                                    "type": "scatter",
                                    "x": [
                                        0,
                                        1,
                                        2,
                                        3,
                                        4,
                                        5,
                                        6,
                                        7,
                                        8,
                                        9,
                                        10,
                                        11,
                                        12,
                                        13,
                                        14,
                                        15,
                                        16,
                                        17,
                                        18,
                                        19,
                                        20,
                                        21,
                                        22,
                                        23,
                                        24,
                                        25,
                                        26,
                                        27,
                                        28,
                                        29,
                                        30,
                                        31,
                                        32,
                                        33,
                                        34,
                                        35,
                                        36,
                                        37,
                                        38,
                                        39,
                                        40,
                                        41,
                                        42,
                                        43,
                                        44,
                                        45,
                                        46,
                                        47,
                                        48,
                                        49
                                    ],
                                    "y": [
                                        0.32022569882564056,
                                        0.3151847666654831,
                                        0.3112965302589612,
                                        0.3093103256363135,
                                        0.30713113057307706,
                                        0.30510830140521383,
                                        0.30302044913008974,
                                        0.30103135452820706,
                                        0.2992961540860668,
                                        0.29770678671506734,
                                        0.29635808149695675,
                                        0.2949073753423161,
                                        0.29381769819137377,
                                        0.2928209649228351,
                                        0.29174182501613577,
                                        0.29103675928826517,
                                        0.290468552847973,
                                        0.2896459944482543,
                                        0.2887848809502225,
                                        0.28817241321771575,
                                        0.28796528015963474,
                                        0.2873063551170843,
                                        0.28684030913456093,
                                        0.2864555641053579,
                                        0.2859377349492831,
                                        0.2855802265526745,
                                        0.2851166743413675,
                                        0.28480976177277145,
                                        0.28452537181786375,
                                        0.28408109703634543,
                                        0.28371805229938357,
                                        0.28337020592955064,
                                        0.28297196173491923,
                                        0.28272302333001464,
                                        0.28250839658927573,
                                        0.2821470441620405,
                                        0.2819139077402368,
                                        0.28155984973859216,
                                        0.2813454445924201,
                                        0.2810325814172243,
                                        0.2808574108014336,
                                        0.28060016021478157,
                                        0.2803323513422256,
                                        0.28015392285821594,
                                        0.27991252623052676,
                                        0.2796756542529682,
                                        0.2795044971630993,
                                        0.27938148306889665,
                                        0.27919597456681045,
                                        0.2790199605700297
                                    ]
                                },
                                {
                                    "marker": {
                                        "maxdisplayed": 10
                                    },
                                    "mode": "lines+markers",
                                    "name": "Trial35",
                                    "type": "scatter",
                                    "x": [
                                        0,
                                        1,
                                        2,
                                        3,
                                        4,
                                        5,
                                        6,
                                        7,
                                        8,
                                        9,
                                        10,
                                        11,
                                        12,
                                        13,
                                        14,
                                        15,
                                        16,
                                        17,
                                        18,
                                        19,
                                        20,
                                        21,
                                        22,
                                        23,
                                        24,
                                        25,
                                        26,
                                        27,
                                        28,
                                        29,
                                        30,
                                        31,
                                        32,
                                        33,
                                        34,
                                        35,
                                        36,
                                        37,
                                        38,
                                        39,
                                        40,
                                        41,
                                        42,
                                        43,
                                        44,
                                        45,
                                        46,
                                        47,
                                        48,
                                        49
                                    ],
                                    "y": [
                                        0.31593515399174815,
                                        0.30794531718278545,
                                        0.3030387005235395,
                                        0.2999321107680981,
                                        0.2982321864519364,
                                        0.29598599939774245,
                                        0.2938997468232235,
                                        0.2918548344228512,
                                        0.29009813248601735,
                                        0.2883739150105379,
                                        0.28710690859731264,
                                        0.28610351213659996,
                                        0.2851406782277707,
                                        0.2841672726766967,
                                        0.28339188496271767,
                                        0.28267034819015324,
                                        0.28192394913411606,
                                        0.28133596394985827,
                                        0.2806669650410834,
                                        0.27999616737167043,
                                        0.2795037612482742,
                                        0.2790070162751736,
                                        0.27861206590664167,
                                        0.2781993605228316,
                                        0.27773942253528494,
                                        0.2773321835247017,
                                        0.27698020528071515,
                                        0.2767120515552414,
                                        0.27636356288147224,
                                        0.2761421016903005,
                                        0.2757916472809092,
                                        0.2758121392092644,
                                        0.27547574388304696,
                                        0.2751973742003894,
                                        0.27494963010152185,
                                        0.2746828535513321,
                                        0.2743516797232116,
                                        0.27415727737501727,
                                        0.27397153988470774,
                                        0.273692088555067,
                                        0.2734997496241849,
                                        0.27330774332650265,
                                        0.2732085557693374,
                                        0.2730677063752721,
                                        0.27291653180903513,
                                        0.27271206882951515,
                                        0.2725900573624461,
                                        0.2724643657143172,
                                        0.27238105338852425,
                                        0.27223589026775113
                                    ]
                                },
                                {
                                    "marker": {
                                        "maxdisplayed": 10
                                    },
                                    "mode": "lines+markers",
                                    "name": "Trial36",
                                    "type": "scatter",
                                    "x": [
                                        0,
                                        1,
                                        2,
                                        3,
                                        4,
                                        5,
                                        6,
                                        7,
                                        8,
                                        9,
                                        10,
                                        11,
                                        12,
                                        13,
                                        14,
                                        15,
                                        16,
                                        17,
                                        18,
                                        19,
                                        20,
                                        21,
                                        22,
                                        23,
                                        24,
                                        25,
                                        26,
                                        27,
                                        28,
                                        29,
                                        30,
                                        31,
                                        32,
                                        33,
                                        34,
                                        35,
                                        36,
                                        37,
                                        38,
                                        39,
                                        40,
                                        41,
                                        42,
                                        43,
                                        44,
                                        45,
                                        46,
                                        47,
                                        48,
                                        49
                                    ],
                                    "y": [
                                        0.3122965471866803,
                                        0.3064121390000368,
                                        0.30189608075679875,
                                        0.2989035831430019,
                                        0.2955353278380174,
                                        0.29294466310077244,
                                        0.291209333218061,
                                        0.2893752147180912,
                                        0.2878469016477253,
                                        0.2864966693596962,
                                        0.28513249873003477,
                                        0.2838729064688723,
                                        0.2828415000932456,
                                        0.28186015307139123,
                                        0.28112400451786496,
                                        0.28039638036623216,
                                        0.27978192078761566,
                                        0.2791749411116638,
                                        0.27851237067085527,
                                        0.27803644041220343,
                                        0.2775787680213122,
                                        0.2771389263319524,
                                        0.2765404559763246,
                                        0.2760473753397281,
                                        0.2757034208682867,
                                        0.2754848807374166,
                                        0.2752181254362675,
                                        0.27483039955188937,
                                        0.27451660574325726,
                                        0.27422094147684223,
                                        0.27392874102241443,
                                        0.27359633848596465,
                                        0.27338087299394354,
                                        0.2731281761782382,
                                        0.2728684360291059,
                                        0.2725688502447218,
                                        0.27239205510105763,
                                        0.2722778687210862,
                                        0.2721597351559991,
                                        0.27203698498316303,
                                        0.271892520871067,
                                        0.27174347574493973,
                                        0.2716103887977384,
                                        0.2714686128191459,
                                        0.2714175453298112,
                                        0.2713722541446537,
                                        0.2712299304618513,
                                        0.27114831814622015,
                                        0.2711315079704746,
                                        0.270991300428525
                                    ]
                                },
                                {
                                    "marker": {
                                        "maxdisplayed": 10
                                    },
                                    "mode": "lines+markers",
                                    "name": "Trial37",
                                    "type": "scatter",
                                    "x": [
                                        0,
                                        1,
                                        2,
                                        3,
                                        4,
                                        5,
                                        6,
                                        7,
                                        8,
                                        9,
                                        10,
                                        11,
                                        12,
                                        13,
                                        14,
                                        15,
                                        16,
                                        17,
                                        18,
                                        19,
                                        20,
                                        21,
                                        22,
                                        23,
                                        24,
                                        25,
                                        26,
                                        27,
                                        28,
                                        29,
                                        30,
                                        31,
                                        32,
                                        33,
                                        34,
                                        35,
                                        36,
                                        37,
                                        38,
                                        39,
                                        40,
                                        41,
                                        42,
                                        43,
                                        44,
                                        45,
                                        46,
                                        47,
                                        48,
                                        49
                                    ],
                                    "y": [
                                        0.31647030283243227,
                                        0.308952985283656,
                                        0.3034714715093629,
                                        0.3003842899432549,
                                        0.2984004473074888,
                                        0.29552035836073065,
                                        0.293449933930631,
                                        0.291604684618039,
                                        0.2901801644397258,
                                        0.2891769390839797,
                                        0.28809227052824204,
                                        0.287210192435827,
                                        0.286693822232459,
                                        0.2858943073522477,
                                        0.2851107167891967,
                                        0.2844939832695019,
                                        0.2839381090656125,
                                        0.28343187064526765,
                                        0.2828656753547761,
                                        0.2824314041015429,
                                        0.2818469307652614,
                                        0.281224338567896,
                                        0.28074934450679,
                                        0.2802103441208601,
                                        0.2797231731964992,
                                        0.2793082015430904,
                                        0.2788428728312169,
                                        0.2785674828776728,
                                        0.27825593008971866,
                                        0.27795773805716095,
                                        0.2776949299057226,
                                        0.27740098696010995,
                                        0.2772160445013616,
                                        0.27690791053245145,
                                        0.27662718690140337,
                                        0.2764144768551034,
                                        0.2761942414942501,
                                        0.27602945017790503,
                                        0.27577941578168136,
                                        0.27558384832854455,
                                        0.275350057105857,
                                        0.27516301032678836,
                                        0.27501693322641474,
                                        0.27481662244090943,
                                        0.2746643545281174,
                                        0.2744596699790545,
                                        0.27432783581296144,
                                        0.27419689025443333,
                                        0.27404989643692035,
                                        0.27390427492367914
                                    ]
                                },
                                {
                                    "marker": {
                                        "maxdisplayed": 10
                                    },
                                    "mode": "lines+markers",
                                    "name": "Trial38",
                                    "type": "scatter",
                                    "x": [
                                        0,
                                        1,
                                        2,
                                        3,
                                        4,
                                        5,
                                        6,
                                        7,
                                        8,
                                        9,
                                        10,
                                        11,
                                        12,
                                        13,
                                        14,
                                        15,
                                        16,
                                        17,
                                        18,
                                        19,
                                        20,
                                        21,
                                        22,
                                        23,
                                        24,
                                        25,
                                        26,
                                        27,
                                        28,
                                        29,
                                        30,
                                        31,
                                        32,
                                        33,
                                        34,
                                        35,
                                        36,
                                        37,
                                        38,
                                        39,
                                        40,
                                        41,
                                        42,
                                        43,
                                        44,
                                        45,
                                        46,
                                        47,
                                        48,
                                        49
                                    ],
                                    "y": [
                                        0.3190273917638339,
                                        0.3150208191229747,
                                        0.3115177567188556,
                                        0.3088152582446734,
                                        0.30510779588650433,
                                        0.30265833310082424,
                                        0.30103028137168597,
                                        0.2993990855339246,
                                        0.2980507328639343,
                                        0.29611091972925724,
                                        0.29510857779662925,
                                        0.29411039004723233,
                                        0.2942552538900921,
                                        0.2933815907100182,
                                        0.2923249823924822,
                                        0.29163709679284155,
                                        0.29095986184311484,
                                        0.29052042324318844,
                                        0.29003691419898736,
                                        0.2893160550258098,
                                        0.28874256766613876,
                                        0.28798086322965594,
                                        0.28725290853310054,
                                        0.2870752451002088,
                                        0.2865528246683952,
                                        0.28620468691373485,
                                        0.2858498982894115,
                                        0.28560630906195866,
                                        0.2852014969082452,
                                        0.28496235797547886,
                                        0.2847554439646435,
                                        0.28454673223388505,
                                        0.28436550785148434,
                                        0.2840038882413961,
                                        0.28382586276793226,
                                        0.2834769400775943,
                                        0.28323039181184545,
                                        0.28298979722134343,
                                        0.2828138577632416,
                                        0.2826727727475839,
                                        0.2823925542693499,
                                        0.28218333261208073,
                                        0.2819473875567681,
                                        0.2817487960946171,
                                        0.28155638183284015,
                                        0.28140292614864537,
                                        0.2812837030447967,
                                        0.28123721685738134,
                                        0.28105823908533367,
                                        0.28091070181284195
                                    ]
                                },
                                {
                                    "marker": {
                                        "maxdisplayed": 10
                                    },
                                    "mode": "lines+markers",
                                    "name": "Trial39",
                                    "type": "scatter",
                                    "x": [
                                        0
                                    ],
                                    "y": [
                                        0.38454361450977814
                                    ]
                                },
                                {
                                    "marker": {
                                        "maxdisplayed": 10
                                    },
                                    "mode": "lines+markers",
                                    "name": "Trial40",
                                    "type": "scatter",
                                    "x": [
                                        0
                                    ],
                                    "y": [
                                        0.3259142171113919
                                    ]
                                },
                                {
                                    "marker": {
                                        "maxdisplayed": 10
                                    },
                                    "mode": "lines+markers",
                                    "name": "Trial41",
                                    "type": "scatter",
                                    "x": [
                                        0,
                                        1,
                                        2,
                                        3,
                                        4,
                                        5,
                                        6,
                                        7,
                                        8,
                                        9,
                                        10,
                                        11,
                                        12,
                                        13,
                                        14,
                                        15,
                                        16,
                                        17,
                                        18,
                                        19,
                                        20,
                                        21,
                                        22,
                                        23,
                                        24,
                                        25,
                                        26,
                                        27,
                                        28,
                                        29,
                                        30,
                                        31,
                                        32,
                                        33,
                                        34,
                                        35,
                                        36,
                                        37,
                                        38,
                                        39,
                                        40,
                                        41,
                                        42,
                                        43,
                                        44,
                                        45,
                                        46,
                                        47,
                                        48,
                                        49
                                    ],
                                    "y": [
                                        0.3124819780007387,
                                        0.30579873881278896,
                                        0.3027955752152663,
                                        0.2988767797748248,
                                        0.2967425234806843,
                                        0.29436877802905875,
                                        0.292236613484966,
                                        0.2904137444610779,
                                        0.2892310022458731,
                                        0.28797496679501655,
                                        0.2867140948147207,
                                        0.2854451150275194,
                                        0.28452512081087933,
                                        0.2835920959056079,
                                        0.2828759916063048,
                                        0.282077981517292,
                                        0.28148176976188816,
                                        0.2808081931792773,
                                        0.27998056692070006,
                                        0.27939232853360674,
                                        0.279099641320033,
                                        0.2785527809829146,
                                        0.27795470965280716,
                                        0.27759157786639327,
                                        0.2771412078998028,
                                        0.2767113280690163,
                                        0.2762980276448095,
                                        0.27598390924734073,
                                        0.27567913874022,
                                        0.2753466900851992,
                                        0.27504509153742746,
                                        0.2748029483721042,
                                        0.2744733981828682,
                                        0.27435549730673814,
                                        0.2740807399317458,
                                        0.2738928332330494,
                                        0.27366850072323073,
                                        0.27348114176076427,
                                        0.27333257058825167,
                                        0.27311953513477094,
                                        0.27295939933702007,
                                        0.27277902287222966,
                                        0.2726161059216509,
                                        0.27251567010765587,
                                        0.2725542542261955,
                                        0.2724559262992945,
                                        0.27229984616784536,
                                        0.2721209678257633,
                                        0.27206756279051836,
                                        0.27196242752747657
                                    ]
                                },
                                {
                                    "marker": {
                                        "maxdisplayed": 10
                                    },
                                    "mode": "lines+markers",
                                    "name": "Trial42",
                                    "type": "scatter",
                                    "x": [
                                        0
                                    ],
                                    "y": [
                                        0.3222546088389861
                                    ]
                                },
                                {
                                    "marker": {
                                        "maxdisplayed": 10
                                    },
                                    "mode": "lines+markers",
                                    "name": "Trial43",
                                    "type": "scatter",
                                    "x": [
                                        0,
                                        1,
                                        2,
                                        3,
                                        4,
                                        5,
                                        6,
                                        7,
                                        8,
                                        9,
                                        10,
                                        11,
                                        12,
                                        13,
                                        14,
                                        15,
                                        16,
                                        17,
                                        18,
                                        19,
                                        20,
                                        21,
                                        22,
                                        23,
                                        24,
                                        25,
                                        26,
                                        27,
                                        28,
                                        29,
                                        30,
                                        31,
                                        32,
                                        33,
                                        34,
                                        35,
                                        36,
                                        37,
                                        38,
                                        39,
                                        40,
                                        41,
                                        42,
                                        43,
                                        44,
                                        45,
                                        46,
                                        47,
                                        48,
                                        49
                                    ],
                                    "y": [
                                        0.310542358037753,
                                        0.30361595291357774,
                                        0.3004828816295689,
                                        0.29683546530894744,
                                        0.29425487075096524,
                                        0.292199539195778,
                                        0.29053936227337346,
                                        0.28884550279531723,
                                        0.2879653338693146,
                                        0.28695432436771884,
                                        0.2858960459004471,
                                        0.28484777889700014,
                                        0.2839429935466138,
                                        0.2833364142220972,
                                        0.2826914692281658,
                                        0.28211069544060874,
                                        0.28139442167220974,
                                        0.28085002277651405,
                                        0.28013831660573785,
                                        0.2797648219152903,
                                        0.27928650624804446,
                                        0.27879527219872935,
                                        0.278388989576395,
                                        0.27791416409433395,
                                        0.2776704414685567,
                                        0.27744667014544294,
                                        0.2769842309716307,
                                        0.2768683559619463,
                                        0.27653949841474873,
                                        0.27616594054250637,
                                        0.27587073655587957,
                                        0.2755209841908744,
                                        0.2752952045285619,
                                        0.27511381359032017,
                                        0.2748578041355252,
                                        0.27472763082962426,
                                        0.27450905718575397,
                                        0.2743218906434924,
                                        0.27414633880352834,
                                        0.2740209272752206,
                                        0.27386515719432847,
                                        0.2736832774875365,
                                        0.2735852173701169,
                                        0.2734134573498111,
                                        0.2733068053963517,
                                        0.27312182261293944,
                                        0.27302600183222897,
                                        0.27285293004929256,
                                        0.2728153493300213,
                                        0.27271950075259577
                                    ]
                                },
                                {
                                    "marker": {
                                        "maxdisplayed": 10
                                    },
                                    "mode": "lines+markers",
                                    "name": "Trial44",
                                    "type": "scatter",
                                    "x": [
                                        0,
                                        1,
                                        2,
                                        3,
                                        4,
                                        5,
                                        6,
                                        7,
                                        8,
                                        9,
                                        10,
                                        11,
                                        12,
                                        13,
                                        14,
                                        15,
                                        16,
                                        17,
                                        18,
                                        19,
                                        20,
                                        21,
                                        22,
                                        23,
                                        24,
                                        25,
                                        26,
                                        27,
                                        28,
                                        29,
                                        30,
                                        31,
                                        32,
                                        33,
                                        34,
                                        35,
                                        36,
                                        37,
                                        38,
                                        39,
                                        40,
                                        41,
                                        42,
                                        43,
                                        44,
                                        45,
                                        46,
                                        47,
                                        48,
                                        49
                                    ],
                                    "y": [
                                        0.3099698760570624,
                                        0.30347295029041094,
                                        0.29832934339841205,
                                        0.2950789544444818,
                                        0.2921886321825859,
                                        0.29002843950039303,
                                        0.288249589803018,
                                        0.2868275174345725,
                                        0.2856761253627277,
                                        0.2842214409357462,
                                        0.28320505645447397,
                                        0.2819829088691463,
                                        0.2811325599514756,
                                        0.2802901242078442,
                                        0.27953339435605923,
                                        0.27889904948190236,
                                        0.2782534778702493,
                                        0.27744690394639293,
                                        0.2768044682689685,
                                        0.2762715913546391,
                                        0.2757704348754825,
                                        0.2754010633502529,
                                        0.27497342697354066,
                                        0.27470456294588047,
                                        0.2744419076503852,
                                        0.2742276354683692,
                                        0.2739961981660168,
                                        0.27384624698441545,
                                        0.27363365312838955,
                                        0.27346816855108635,
                                        0.27321761881052903,
                                        0.2730188681266438,
                                        0.2727623640703618,
                                        0.27252496393512643,
                                        0.27246550644710393,
                                        0.27228868514978655,
                                        0.27214448673396335,
                                        0.27197531304056993,
                                        0.2719043017335036,
                                        0.27176771249908666,
                                        0.271615599452741,
                                        0.2715972108045486,
                                        0.2715607074022151,
                                        0.27148166268473467,
                                        0.271380755695862,
                                        0.27134744641905784,
                                        0.2712789708418204,
                                        0.27126708988928133,
                                        0.2711937250437879,
                                        0.27115248942986514
                                    ]
                                },
                                {
                                    "marker": {
                                        "maxdisplayed": 10
                                    },
                                    "mode": "lines+markers",
                                    "name": "Trial45",
                                    "type": "scatter",
                                    "x": [
                                        0,
                                        1,
                                        2,
                                        3,
                                        4,
                                        5,
                                        6,
                                        7,
                                        8,
                                        9,
                                        10,
                                        11,
                                        12,
                                        13,
                                        14,
                                        15,
                                        16,
                                        17,
                                        18,
                                        19,
                                        20,
                                        21,
                                        22,
                                        23,
                                        24,
                                        25,
                                        26,
                                        27,
                                        28,
                                        29,
                                        30,
                                        31,
                                        32,
                                        33,
                                        34,
                                        35,
                                        36,
                                        37,
                                        38,
                                        39,
                                        40,
                                        41,
                                        42,
                                        43,
                                        44,
                                        45,
                                        46,
                                        47,
                                        48,
                                        49
                                    ],
                                    "y": [
                                        0.3199494656844017,
                                        0.3120660850634942,
                                        0.3087932691614852,
                                        0.30513163961661166,
                                        0.3041391436870281,
                                        0.30171238548225826,
                                        0.29960271552368833,
                                        0.29859906282180393,
                                        0.29756700245403495,
                                        0.2966403741102952,
                                        0.295771453972463,
                                        0.29554367625815237,
                                        0.2946255358718556,
                                        0.2937386529895412,
                                        0.29284409951959917,
                                        0.29258785005181265,
                                        0.2918273014090899,
                                        0.29129913941747443,
                                        0.2909873538976095,
                                        0.2904513257436263,
                                        0.29023490484089787,
                                        0.2898879471497658,
                                        0.2895261887855487,
                                        0.28926962973852444,
                                        0.28907459491338483,
                                        0.28857830069826906,
                                        0.2881823925890474,
                                        0.28796591012032474,
                                        0.2876851656708856,
                                        0.28744733804820943,
                                        0.28718718558525225,
                                        0.2869707489959322,
                                        0.2868288496759573,
                                        0.28659641744953834,
                                        0.28637762912463793,
                                        0.28618884248993337,
                                        0.28602368371691544,
                                        0.2859415950783995,
                                        0.2857718468398189,
                                        0.28560124694918976,
                                        0.2856300759494417,
                                        0.2854735513419022,
                                        0.28522496331498676,
                                        0.2853012993619159,
                                        0.28511408720261017,
                                        0.2849656354091904,
                                        0.28486672251099654,
                                        0.2848210520007544,
                                        0.28470273492911424,
                                        0.28470231400850493
                                    ]
                                },
                                {
                                    "marker": {
                                        "maxdisplayed": 10
                                    },
                                    "mode": "lines+markers",
                                    "name": "Trial46",
                                    "type": "scatter",
                                    "x": [
                                        0
                                    ],
                                    "y": [
                                        0.4963659193271246
                                    ]
                                },
                                {
                                    "marker": {
                                        "maxdisplayed": 10
                                    },
                                    "mode": "lines+markers",
                                    "name": "Trial47",
                                    "type": "scatter",
                                    "x": [
                                        0,
                                        1,
                                        2,
                                        3,
                                        4,
                                        5,
                                        6,
                                        7,
                                        8,
                                        9,
                                        10,
                                        11,
                                        12,
                                        13,
                                        14,
                                        15,
                                        16,
                                        17,
                                        18,
                                        19,
                                        20,
                                        21,
                                        22,
                                        23,
                                        24,
                                        25,
                                        26,
                                        27,
                                        28,
                                        29,
                                        30,
                                        31,
                                        32,
                                        33,
                                        34,
                                        35,
                                        36,
                                        37,
                                        38,
                                        39,
                                        40,
                                        41,
                                        42,
                                        43,
                                        44,
                                        45,
                                        46,
                                        47,
                                        48,
                                        49
                                    ],
                                    "y": [
                                        0.30974856171852505,
                                        0.302597144093269,
                                        0.29921960728800195,
                                        0.2963109841713539,
                                        0.29361514281003903,
                                        0.29096800216242796,
                                        0.2890598362400418,
                                        0.2875311268636813,
                                        0.2859593870123567,
                                        0.28458096354435647,
                                        0.28344847647460186,
                                        0.2824810119266184,
                                        0.2815275064116634,
                                        0.2806154808554894,
                                        0.2798356157592219,
                                        0.27905278829618907,
                                        0.27836199127261274,
                                        0.2777219075932462,
                                        0.2770791902394108,
                                        0.2767176801195511,
                                        0.27618049570929,
                                        0.2756546254167746,
                                        0.2752410760491987,
                                        0.27478507060844165,
                                        0.2746569828498058,
                                        0.27430670740747826,
                                        0.27410391625459146,
                                        0.2738406530038996,
                                        0.27356165654094317,
                                        0.27328752945376256,
                                        0.2730086826780199,
                                        0.2728063703801196,
                                        0.27261846824588937,
                                        0.27235182080288634,
                                        0.2721195748437455,
                                        0.2720046930779249,
                                        0.2717896928121378,
                                        0.2716238768758722,
                                        0.27149124140805275,
                                        0.27127848552205625,
                                        0.27128358335328,
                                        0.2712069850264888,
                                        0.27108436451472906,
                                        0.270962064951172,
                                        0.27088835140918394,
                                        0.27081332623194426,
                                        0.27075837624898974,
                                        0.27065248360745925,
                                        0.27050069765168794,
                                        0.27044168742039265
                                    ]
                                },
                                {
                                    "marker": {
                                        "maxdisplayed": 10
                                    },
                                    "mode": "lines+markers",
                                    "name": "Trial48",
                                    "type": "scatter",
                                    "x": [
                                        0
                                    ],
                                    "y": [
                                        0.3330972760151594
                                    ]
                                },
                                {
                                    "marker": {
                                        "maxdisplayed": 10
                                    },
                                    "mode": "lines+markers",
                                    "name": "Trial49",
                                    "type": "scatter",
                                    "x": [
                                        0
                                    ],
                                    "y": [
                                        0.42703873683244753
                                    ]
                                }
                            ],
                            "layout": {
                                "showlegend": false,
                                "template": {
                                    "data": {
                                        "bar": [
                                            {
                                                "error_x": {
                                                    "color": "#2a3f5f"
                                                },
                                                "error_y": {
                                                    "color": "#2a3f5f"
                                                },
                                                "marker": {
                                                    "line": {
                                                        "color": "#E5ECF6",
                                                        "width": 0.5
                                                    },
                                                    "pattern": {
                                                        "fillmode": "overlay",
                                                        "size": 10,
                                                        "solidity": 0.2
                                                    }
                                                },
                                                "type": "bar"
                                            }
                                        ],
                                        "barpolar": [
                                            {
                                                "marker": {
                                                    "line": {
                                                        "color": "#E5ECF6",
                                                        "width": 0.5
                                                    },
                                                    "pattern": {
                                                        "fillmode": "overlay",
                                                        "size": 10,
                                                        "solidity": 0.2
                                                    }
                                                },
                                                "type": "barpolar"
                                            }
                                        ],
                                        "carpet": [
                                            {
                                                "aaxis": {
                                                    "endlinecolor": "#2a3f5f",
                                                    "gridcolor": "white",
                                                    "linecolor": "white",
                                                    "minorgridcolor": "white",
                                                    "startlinecolor": "#2a3f5f"
                                                },
                                                "baxis": {
                                                    "endlinecolor": "#2a3f5f",
                                                    "gridcolor": "white",
                                                    "linecolor": "white",
                                                    "minorgridcolor": "white",
                                                    "startlinecolor": "#2a3f5f"
                                                },
                                                "type": "carpet"
                                            }
                                        ],
                                        "choropleth": [
                                            {
                                                "colorbar": {
                                                    "outlinewidth": 0,
                                                    "ticks": ""
                                                },
                                                "type": "choropleth"
                                            }
                                        ],
                                        "contour": [
                                            {
                                                "colorbar": {
                                                    "outlinewidth": 0,
                                                    "ticks": ""
                                                },
                                                "colorscale": [
                                                    [
                                                        0,
                                                        "#0d0887"
                                                    ],
                                                    [
                                                        0.1111111111111111,
                                                        "#46039f"
                                                    ],
                                                    [
                                                        0.2222222222222222,
                                                        "#7201a8"
                                                    ],
                                                    [
                                                        0.3333333333333333,
                                                        "#9c179e"
                                                    ],
                                                    [
                                                        0.4444444444444444,
                                                        "#bd3786"
                                                    ],
                                                    [
                                                        0.5555555555555556,
                                                        "#d8576b"
                                                    ],
                                                    [
                                                        0.6666666666666666,
                                                        "#ed7953"
                                                    ],
                                                    [
                                                        0.7777777777777778,
                                                        "#fb9f3a"
                                                    ],
                                                    [
                                                        0.8888888888888888,
                                                        "#fdca26"
                                                    ],
                                                    [
                                                        1,
                                                        "#f0f921"
                                                    ]
                                                ],
                                                "type": "contour"
                                            }
                                        ],
                                        "contourcarpet": [
                                            {
                                                "colorbar": {
                                                    "outlinewidth": 0,
                                                    "ticks": ""
                                                },
                                                "type": "contourcarpet"
                                            }
                                        ],
                                        "heatmap": [
                                            {
                                                "colorbar": {
                                                    "outlinewidth": 0,
                                                    "ticks": ""
                                                },
                                                "colorscale": [
                                                    [
                                                        0,
                                                        "#0d0887"
                                                    ],
                                                    [
                                                        0.1111111111111111,
                                                        "#46039f"
                                                    ],
                                                    [
                                                        0.2222222222222222,
                                                        "#7201a8"
                                                    ],
                                                    [
                                                        0.3333333333333333,
                                                        "#9c179e"
                                                    ],
                                                    [
                                                        0.4444444444444444,
                                                        "#bd3786"
                                                    ],
                                                    [
                                                        0.5555555555555556,
                                                        "#d8576b"
                                                    ],
                                                    [
                                                        0.6666666666666666,
                                                        "#ed7953"
                                                    ],
                                                    [
                                                        0.7777777777777778,
                                                        "#fb9f3a"
                                                    ],
                                                    [
                                                        0.8888888888888888,
                                                        "#fdca26"
                                                    ],
                                                    [
                                                        1,
                                                        "#f0f921"
                                                    ]
                                                ],
                                                "type": "heatmap"
                                            }
                                        ],
                                        "heatmapgl": [
                                            {
                                                "colorbar": {
                                                    "outlinewidth": 0,
                                                    "ticks": ""
                                                },
                                                "colorscale": [
                                                    [
                                                        0,
                                                        "#0d0887"
                                                    ],
                                                    [
                                                        0.1111111111111111,
                                                        "#46039f"
                                                    ],
                                                    [
                                                        0.2222222222222222,
                                                        "#7201a8"
                                                    ],
                                                    [
                                                        0.3333333333333333,
                                                        "#9c179e"
                                                    ],
                                                    [
                                                        0.4444444444444444,
                                                        "#bd3786"
                                                    ],
                                                    [
                                                        0.5555555555555556,
                                                        "#d8576b"
                                                    ],
                                                    [
                                                        0.6666666666666666,
                                                        "#ed7953"
                                                    ],
                                                    [
                                                        0.7777777777777778,
                                                        "#fb9f3a"
                                                    ],
                                                    [
                                                        0.8888888888888888,
                                                        "#fdca26"
                                                    ],
                                                    [
                                                        1,
                                                        "#f0f921"
                                                    ]
                                                ],
                                                "type": "heatmapgl"
                                            }
                                        ],
                                        "histogram": [
                                            {
                                                "marker": {
                                                    "pattern": {
                                                        "fillmode": "overlay",
                                                        "size": 10,
                                                        "solidity": 0.2
                                                    }
                                                },
                                                "type": "histogram"
                                            }
                                        ],
                                        "histogram2d": [
                                            {
                                                "colorbar": {
                                                    "outlinewidth": 0,
                                                    "ticks": ""
                                                },
                                                "colorscale": [
                                                    [
                                                        0,
                                                        "#0d0887"
                                                    ],
                                                    [
                                                        0.1111111111111111,
                                                        "#46039f"
                                                    ],
                                                    [
                                                        0.2222222222222222,
                                                        "#7201a8"
                                                    ],
                                                    [
                                                        0.3333333333333333,
                                                        "#9c179e"
                                                    ],
                                                    [
                                                        0.4444444444444444,
                                                        "#bd3786"
                                                    ],
                                                    [
                                                        0.5555555555555556,
                                                        "#d8576b"
                                                    ],
                                                    [
                                                        0.6666666666666666,
                                                        "#ed7953"
                                                    ],
                                                    [
                                                        0.7777777777777778,
                                                        "#fb9f3a"
                                                    ],
                                                    [
                                                        0.8888888888888888,
                                                        "#fdca26"
                                                    ],
                                                    [
                                                        1,
                                                        "#f0f921"
                                                    ]
                                                ],
                                                "type": "histogram2d"
                                            }
                                        ],
                                        "histogram2dcontour": [
                                            {
                                                "colorbar": {
                                                    "outlinewidth": 0,
                                                    "ticks": ""
                                                },
                                                "colorscale": [
                                                    [
                                                        0,
                                                        "#0d0887"
                                                    ],
                                                    [
                                                        0.1111111111111111,
                                                        "#46039f"
                                                    ],
                                                    [
                                                        0.2222222222222222,
                                                        "#7201a8"
                                                    ],
                                                    [
                                                        0.3333333333333333,
                                                        "#9c179e"
                                                    ],
                                                    [
                                                        0.4444444444444444,
                                                        "#bd3786"
                                                    ],
                                                    [
                                                        0.5555555555555556,
                                                        "#d8576b"
                                                    ],
                                                    [
                                                        0.6666666666666666,
                                                        "#ed7953"
                                                    ],
                                                    [
                                                        0.7777777777777778,
                                                        "#fb9f3a"
                                                    ],
                                                    [
                                                        0.8888888888888888,
                                                        "#fdca26"
                                                    ],
                                                    [
                                                        1,
                                                        "#f0f921"
                                                    ]
                                                ],
                                                "type": "histogram2dcontour"
                                            }
                                        ],
                                        "mesh3d": [
                                            {
                                                "colorbar": {
                                                    "outlinewidth": 0,
                                                    "ticks": ""
                                                },
                                                "type": "mesh3d"
                                            }
                                        ],
                                        "parcoords": [
                                            {
                                                "line": {
                                                    "colorbar": {
                                                        "outlinewidth": 0,
                                                        "ticks": ""
                                                    }
                                                },
                                                "type": "parcoords"
                                            }
                                        ],
                                        "pie": [
                                            {
                                                "automargin": true,
                                                "type": "pie"
                                            }
                                        ],
                                        "scatter": [
                                            {
                                                "fillpattern": {
                                                    "fillmode": "overlay",
                                                    "size": 10,
                                                    "solidity": 0.2
                                                },
                                                "type": "scatter"
                                            }
                                        ],
                                        "scatter3d": [
                                            {
                                                "line": {
                                                    "colorbar": {
                                                        "outlinewidth": 0,
                                                        "ticks": ""
                                                    }
                                                },
                                                "marker": {
                                                    "colorbar": {
                                                        "outlinewidth": 0,
                                                        "ticks": ""
                                                    }
                                                },
                                                "type": "scatter3d"
                                            }
                                        ],
                                        "scattercarpet": [
                                            {
                                                "marker": {
                                                    "colorbar": {
                                                        "outlinewidth": 0,
                                                        "ticks": ""
                                                    }
                                                },
                                                "type": "scattercarpet"
                                            }
                                        ],
                                        "scattergeo": [
                                            {
                                                "marker": {
                                                    "colorbar": {
                                                        "outlinewidth": 0,
                                                        "ticks": ""
                                                    }
                                                },
                                                "type": "scattergeo"
                                            }
                                        ],
                                        "scattergl": [
                                            {
                                                "marker": {
                                                    "colorbar": {
                                                        "outlinewidth": 0,
                                                        "ticks": ""
                                                    }
                                                },
                                                "type": "scattergl"
                                            }
                                        ],
                                        "scattermapbox": [
                                            {
                                                "marker": {
                                                    "colorbar": {
                                                        "outlinewidth": 0,
                                                        "ticks": ""
                                                    }
                                                },
                                                "type": "scattermapbox"
                                            }
                                        ],
                                        "scatterpolar": [
                                            {
                                                "marker": {
                                                    "colorbar": {
                                                        "outlinewidth": 0,
                                                        "ticks": ""
                                                    }
                                                },
                                                "type": "scatterpolar"
                                            }
                                        ],
                                        "scatterpolargl": [
                                            {
                                                "marker": {
                                                    "colorbar": {
                                                        "outlinewidth": 0,
                                                        "ticks": ""
                                                    }
                                                },
                                                "type": "scatterpolargl"
                                            }
                                        ],
                                        "scatterternary": [
                                            {
                                                "marker": {
                                                    "colorbar": {
                                                        "outlinewidth": 0,
                                                        "ticks": ""
                                                    }
                                                },
                                                "type": "scatterternary"
                                            }
                                        ],
                                        "surface": [
                                            {
                                                "colorbar": {
                                                    "outlinewidth": 0,
                                                    "ticks": ""
                                                },
                                                "colorscale": [
                                                    [
                                                        0,
                                                        "#0d0887"
                                                    ],
                                                    [
                                                        0.1111111111111111,
                                                        "#46039f"
                                                    ],
                                                    [
                                                        0.2222222222222222,
                                                        "#7201a8"
                                                    ],
                                                    [
                                                        0.3333333333333333,
                                                        "#9c179e"
                                                    ],
                                                    [
                                                        0.4444444444444444,
                                                        "#bd3786"
                                                    ],
                                                    [
                                                        0.5555555555555556,
                                                        "#d8576b"
                                                    ],
                                                    [
                                                        0.6666666666666666,
                                                        "#ed7953"
                                                    ],
                                                    [
                                                        0.7777777777777778,
                                                        "#fb9f3a"
                                                    ],
                                                    [
                                                        0.8888888888888888,
                                                        "#fdca26"
                                                    ],
                                                    [
                                                        1,
                                                        "#f0f921"
                                                    ]
                                                ],
                                                "type": "surface"
                                            }
                                        ],
                                        "table": [
                                            {
                                                "cells": {
                                                    "fill": {
                                                        "color": "#EBF0F8"
                                                    },
                                                    "line": {
                                                        "color": "white"
                                                    }
                                                },
                                                "header": {
                                                    "fill": {
                                                        "color": "#C8D4E3"
                                                    },
                                                    "line": {
                                                        "color": "white"
                                                    }
                                                },
                                                "type": "table"
                                            }
                                        ]
                                    },
                                    "layout": {
                                        "annotationdefaults": {
                                            "arrowcolor": "#2a3f5f",
                                            "arrowhead": 0,
                                            "arrowwidth": 1
                                        },
                                        "autotypenumbers": "strict",
                                        "coloraxis": {
                                            "colorbar": {
                                                "outlinewidth": 0,
                                                "ticks": ""
                                            }
                                        },
                                        "colorscale": {
                                            "diverging": [
                                                [
                                                    0,
                                                    "#8e0152"
                                                ],
                                                [
                                                    0.1,
                                                    "#c51b7d"
                                                ],
                                                [
                                                    0.2,
                                                    "#de77ae"
                                                ],
                                                [
                                                    0.3,
                                                    "#f1b6da"
                                                ],
                                                [
                                                    0.4,
                                                    "#fde0ef"
                                                ],
                                                [
                                                    0.5,
                                                    "#f7f7f7"
                                                ],
                                                [
                                                    0.6,
                                                    "#e6f5d0"
                                                ],
                                                [
                                                    0.7,
                                                    "#b8e186"
                                                ],
                                                [
                                                    0.8,
                                                    "#7fbc41"
                                                ],
                                                [
                                                    0.9,
                                                    "#4d9221"
                                                ],
                                                [
                                                    1,
                                                    "#276419"
                                                ]
                                            ],
                                            "sequential": [
                                                [
                                                    0,
                                                    "#0d0887"
                                                ],
                                                [
                                                    0.1111111111111111,
                                                    "#46039f"
                                                ],
                                                [
                                                    0.2222222222222222,
                                                    "#7201a8"
                                                ],
                                                [
                                                    0.3333333333333333,
                                                    "#9c179e"
                                                ],
                                                [
                                                    0.4444444444444444,
                                                    "#bd3786"
                                                ],
                                                [
                                                    0.5555555555555556,
                                                    "#d8576b"
                                                ],
                                                [
                                                    0.6666666666666666,
                                                    "#ed7953"
                                                ],
                                                [
                                                    0.7777777777777778,
                                                    "#fb9f3a"
                                                ],
                                                [
                                                    0.8888888888888888,
                                                    "#fdca26"
                                                ],
                                                [
                                                    1,
                                                    "#f0f921"
                                                ]
                                            ],
                                            "sequentialminus": [
                                                [
                                                    0,
                                                    "#0d0887"
                                                ],
                                                [
                                                    0.1111111111111111,
                                                    "#46039f"
                                                ],
                                                [
                                                    0.2222222222222222,
                                                    "#7201a8"
                                                ],
                                                [
                                                    0.3333333333333333,
                                                    "#9c179e"
                                                ],
                                                [
                                                    0.4444444444444444,
                                                    "#bd3786"
                                                ],
                                                [
                                                    0.5555555555555556,
                                                    "#d8576b"
                                                ],
                                                [
                                                    0.6666666666666666,
                                                    "#ed7953"
                                                ],
                                                [
                                                    0.7777777777777778,
                                                    "#fb9f3a"
                                                ],
                                                [
                                                    0.8888888888888888,
                                                    "#fdca26"
                                                ],
                                                [
                                                    1,
                                                    "#f0f921"
                                                ]
                                            ]
                                        },
                                        "colorway": [
                                            "#636efa",
                                            "#EF553B",
                                            "#00cc96",
                                            "#ab63fa",
                                            "#FFA15A",
                                            "#19d3f3",
                                            "#FF6692",
                                            "#B6E880",
                                            "#FF97FF",
                                            "#FECB52"
                                        ],
                                        "font": {
                                            "color": "#2a3f5f"
                                        },
                                        "geo": {
                                            "bgcolor": "white",
                                            "lakecolor": "white",
                                            "landcolor": "#E5ECF6",
                                            "showlakes": true,
                                            "showland": true,
                                            "subunitcolor": "white"
                                        },
                                        "hoverlabel": {
                                            "align": "left"
                                        },
                                        "hovermode": "closest",
                                        "mapbox": {
                                            "style": "light"
                                        },
                                        "paper_bgcolor": "white",
                                        "plot_bgcolor": "#E5ECF6",
                                        "polar": {
                                            "angularaxis": {
                                                "gridcolor": "white",
                                                "linecolor": "white",
                                                "ticks": ""
                                            },
                                            "bgcolor": "#E5ECF6",
                                            "radialaxis": {
                                                "gridcolor": "white",
                                                "linecolor": "white",
                                                "ticks": ""
                                            }
                                        },
                                        "scene": {
                                            "xaxis": {
                                                "backgroundcolor": "#E5ECF6",
                                                "gridcolor": "white",
                                                "gridwidth": 2,
                                                "linecolor": "white",
                                                "showbackground": true,
                                                "ticks": "",
                                                "zerolinecolor": "white"
                                            },
                                            "yaxis": {
                                                "backgroundcolor": "#E5ECF6",
                                                "gridcolor": "white",
                                                "gridwidth": 2,
                                                "linecolor": "white",
                                                "showbackground": true,
                                                "ticks": "",
                                                "zerolinecolor": "white"
                                            },
                                            "zaxis": {
                                                "backgroundcolor": "#E5ECF6",
                                                "gridcolor": "white",
                                                "gridwidth": 2,
                                                "linecolor": "white",
                                                "showbackground": true,
                                                "ticks": "",
                                                "zerolinecolor": "white"
                                            }
                                        },
                                        "shapedefaults": {
                                            "line": {
                                                "color": "#2a3f5f"
                                            }
                                        },
                                        "ternary": {
                                            "aaxis": {
                                                "gridcolor": "white",
                                                "linecolor": "white",
                                                "ticks": ""
                                            },
                                            "baxis": {
                                                "gridcolor": "white",
                                                "linecolor": "white",
                                                "ticks": ""
                                            },
                                            "bgcolor": "#E5ECF6",
                                            "caxis": {
                                                "gridcolor": "white",
                                                "linecolor": "white",
                                                "ticks": ""
                                            }
                                        },
                                        "title": {
                                            "x": 0.05
                                        },
                                        "xaxis": {
                                            "automargin": true,
                                            "gridcolor": "white",
                                            "linecolor": "white",
                                            "ticks": "",
                                            "title": {
                                                "standoff": 15
                                            },
                                            "zerolinecolor": "white",
                                            "zerolinewidth": 2
                                        },
                                        "yaxis": {
                                            "automargin": true,
                                            "gridcolor": "white",
                                            "linecolor": "white",
                                            "ticks": "",
                                            "title": {
                                                "standoff": 15
                                            },
                                            "zerolinecolor": "white",
                                            "zerolinewidth": 2
                                        }
                                    }
                                },
                                "title": {
                                    "text": "Intermediate Values Plot"
                                },
                                "xaxis": {
                                    "title": {
                                        "text": "Step"
                                    }
                                },
                                "yaxis": {
                                    "title": {
                                        "text": "Intermediate Value"
                                    }
                                }
                            }
                        }
                    },
                    "metadata": {},
                    "output_type": "display_data"
                }
            ],
            "source": [
                "# create graph directory for this model\n",
                "graph_path = pathlib.Path(\n",
                "    f\"../../figures/{mlp_params.MODEL_TYPE}/{mlp_params.MODEL_NAME}/{mlp_params.CELL_TYPE}/hyperparameter_optimization\"\n",
                ").resolve(strict=True)\n",
                "\n",
                "pathlib.Path(graph_path).mkdir(parents=True, exist_ok=True)\n",
                "fig = optuna.visualization.plot_intermediate_values(study)\n",
                "\n",
                "graph_path = f\"{graph_path}/plot_intermediate_values_graph\"\n",
                "\n",
                "fig.write_image(pathlib.Path(f\"{graph_path}.png\"))\n",
                "fig.show()"
            ]
        },
        {
            "cell_type": "code",
            "execution_count": 34,
            "id": "325a1ec3",
            "metadata": {
                "execution": {
                    "iopub.execute_input": "2023-10-18T18:17:37.971533Z",
                    "iopub.status.busy": "2023-10-18T18:17:37.971249Z",
                    "iopub.status.idle": "2023-10-18T18:17:37.974028Z",
                    "shell.execute_reply": "2023-10-18T18:17:37.973638Z"
                },
                "papermill": {
                    "duration": null,
                    "end_time": null,
                    "exception": null,
                    "start_time": null,
                    "status": "completed"
                },
                "tags": []
            },
            "outputs": [],
            "source": [
                "param_dict = extract_best_trial_params(\n",
                "    study.best_params, params, model_name=mlp_params.MODEL_NAME\n",
                ")"
            ]
        }
    ],
    "metadata": {
        "jupytext": {
            "cell_metadata_filter": "-all",
            "encoding": "# coding: utf-8",
            "executable": "/usr/bin/env python",
            "formats": "ipynb,py",
            "main_language": "python"
        },
        "kernelspec": {
            "display_name": "Python 3 (ipykernel)",
            "language": "python",
            "name": "python3"
        },
        "language_info": {
            "codemirror_mode": {
                "name": "ipython",
                "version": 3
            },
            "file_extension": ".py",
            "mimetype": "text/x-python",
            "name": "python",
            "nbconvert_exporter": "python",
            "pygments_lexer": "ipython3",
            "version": "3.10.12"
        },
        "papermill": {
            "default_parameters": {},
            "duration": 59.524284,
            "end_time": "2023-10-18T18:21:03.252265",
            "environment_variables": {},
            "exception": null,
            "input_path": "Hyperparameter_Optimization_model_binary.ipynb",
            "output_path": "Hyperparameter_Optimization_model_binary.ipynb",
            "parameters": {
                "CELL_TYPE": "PBMC",
                "CONTROL_NAME": "DMSO_0.100_%_DMSO_0.025_%",
                "MODEL_NAME": "DMSO_0.025_vs_Thapsigargin_10",
                "TREATMENT_NAME": "Thapsigargin_10.000_uM_DMSO_0.025_%"
            },
            "start_time": "2023-10-18T18:20:03.727981",
            "version": "2.4.0"
        },
        "vscode": {
            "interpreter": {
                "hash": "72ae02083a9ca7d143c492d1aec380c7bf553ec51bd66e90e72bba65228121b6"
            }
        }
    },
    "nbformat": 4,
    "nbformat_minor": 5
}
