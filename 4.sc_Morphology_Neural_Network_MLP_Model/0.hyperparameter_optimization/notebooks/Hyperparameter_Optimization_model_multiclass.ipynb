{
 "cells": [
  {
   "attachments": {},
   "cell_type": "markdown",
   "id": "8e60628c",
   "metadata": {
    "papermill": {
     "duration": 0.002385,
     "end_time": "2023-10-18T18:20:04.868387",
     "exception": false,
     "start_time": "2023-10-18T18:20:04.866002",
     "status": "completed"
    },
    "tags": []
   },
   "source": [
    "## Hyperparameter tuning via Optuna"
   ]
  },
  {
   "cell_type": "markdown",
   "id": "8fac71a5",
   "metadata": {
    "papermill": {
     "duration": 0.001919,
     "end_time": "2023-10-18T18:20:04.873048",
     "exception": false,
     "start_time": "2023-10-18T18:20:04.871129",
     "status": "completed"
    },
    "tags": []
   },
   "source": [
    "### Being a binary model this notebook will be limited to predicting one class 1 or 0, yes or no.\n",
    "### Here I will be predicting if a cell received a treatment or not"
   ]
  },
  {
   "cell_type": "code",
   "execution_count": 1,
   "id": "860a61dd",
   "metadata": {
    "execution": {
     "iopub.execute_input": "2023-10-18T18:20:04.878009Z",
     "iopub.status.busy": "2023-10-18T18:20:04.877582Z",
     "iopub.status.idle": "2023-10-18T18:20:08.479452Z",
     "shell.execute_reply": "2023-10-18T18:20:08.478953Z"
    },
    "papermill": {
     "duration": 3.605361,
     "end_time": "2023-10-18T18:20:08.480497",
     "exception": false,
     "start_time": "2023-10-18T18:20:04.875136",
     "status": "completed"
    },
    "tags": []
   },
   "outputs": [],
   "source": [
    "import pathlib\n",
    "import sys\n",
    "\n",
    "import numpy as np\n",
    "import optuna\n",
    "import pandas as pd\n",
    "import pyarrow.parquet as pq\n",
    "import toml\n",
    "import torch\n",
    "from sklearn import preprocessing\n",
    "\n",
    "sys.path.append(\"../..\")\n",
    "\n",
    "import argparse\n",
    "\n",
    "from MLP_utils.parameters import Parameters\n",
    "from MLP_utils.utils import (\n",
    "    Dataset_formatter,\n",
    "    data_split,\n",
    "    extract_best_trial_params,\n",
    "    objective_model_optimizer,\n",
    "    parameter_set,\n",
    "    plot_metric_vs_epoch,\n",
    "    results_output,\n",
    "    test_optimized_model,\n",
    "    train_optimized_model,\n",
    "    un_nest,\n",
    ")\n",
    "from sklearn.model_selection import train_test_split\n",
    "\n",
    "sys.path.append(\"../../..\")\n",
    "from utils.utils import df_stats"
   ]
  },
  {
   "cell_type": "code",
   "execution_count": 2,
   "id": "15fbe814",
   "metadata": {},
   "outputs": [],
   "source": [
    "# set up the parser\n",
    "parser = argparse.ArgumentParser(description=\"Run hyperparameter optimization\")\n",
    "parser.add_argument(\n",
    "    \"--cell_type\",\n",
    "    type=str,\n",
    "    default=\"all\",\n",
    "    help=\"Cell type to run hyperparameter optimization for\",\n",
    ")\n",
    "parser.add_argument(\n",
    "    \"--model_name\",\n",
    "    type=str,\n",
    "    default=\"all\",\n",
    "    help=\"Model name to run hyperparameter optimization for\",\n",
    ")\n",
    "\n",
    "# parse arguments\n",
    "args = parser.parse_args()\n",
    "\n",
    "CELL_TYPE = args.cell_type\n",
    "MODEL_NAME = args.model_name"
   ]
  },
  {
   "cell_type": "code",
   "execution_count": 4,
   "id": "394294ce",
   "metadata": {
    "execution": {
     "iopub.execute_input": "2023-10-18T18:20:08.498713Z",
     "iopub.status.busy": "2023-10-18T18:20:08.498501Z",
     "iopub.status.idle": "2023-10-18T18:20:08.502638Z",
     "shell.execute_reply": "2023-10-18T18:20:08.502299Z"
    },
    "papermill": {
     "duration": 0.007175,
     "end_time": "2023-10-18T18:20:08.503377",
     "exception": false,
     "start_time": "2023-10-18T18:20:08.496202",
     "status": "completed"
    },
    "tags": []
   },
   "outputs": [],
   "source": [
    "ml_configs_file = pathlib.Path(\"../../MLP_utils/multi_class_config.toml\").resolve(\n",
    "    strict=True\n",
    ")\n",
    "ml_configs = toml.load(ml_configs_file)\n",
    "params = Parameters()\n",
    "mlp_params = parameter_set(params, ml_configs)\n",
    "\n",
    "# overwrite params via command line arguments from papermill\n",
    "mlp_params.CELL_TYPE = CELL_TYPE\n",
    "mlp_params.MODEL_NAME = MODEL_NAME\n",
    "MODEL_TYPE = mlp_params.MODEL_TYPE\n",
    "HYPERPARAMETER_BATCH_SIZE = mlp_params.HYPERPARAMETER_BATCH_SIZE"
   ]
  },
  {
   "cell_type": "code",
   "execution_count": 5,
   "id": "44baa945",
   "metadata": {
    "execution": {
     "iopub.execute_input": "2023-10-18T18:20:08.507805Z",
     "iopub.status.busy": "2023-10-18T18:20:08.507608Z"
    },
    "papermill": {
     "duration": 54.581971,
     "end_time": "2023-10-18T18:21:03.087265",
     "exception": false,
     "start_time": "2023-10-18T18:20:08.505294",
     "status": "completed"
    },
    "tags": []
   },
   "outputs": [],
   "source": [
    "# Import Data\n",
    "# set data file path under pathlib path for multi-system use\n",
    "\n",
    "file_path = pathlib.Path(\n",
    "    f\"../../../data/{mlp_params.CELL_TYPE}_preprocessed_sc_norm.parquet\"\n",
    ").resolve(strict=True)\n",
    "\n",
    "df1 = pd.read_parquet(file_path)"
   ]
  },
  {
   "cell_type": "code",
   "execution_count": 6,
   "id": "e8ef96f3",
   "metadata": {},
   "outputs": [],
   "source": [
    "# get paths for toml files\n",
    "ground_truth_file_path = pathlib.Path(f\"../../MLP_utils/ground_truth.toml\").resolve(\n",
    "    strict=True\n",
    ")\n",
    "treatment_splits_file_path = pathlib.Path(f\"../../MLP_utils/splits.toml\").resolve(\n",
    "    strict=True\n",
    ")\n",
    "# read toml files\n",
    "ground_truth = toml.load(ground_truth_file_path)\n",
    "treatment_splits = toml.load(treatment_splits_file_path)"
   ]
  },
  {
   "cell_type": "code",
   "execution_count": 7,
   "id": "29c1f3cb",
   "metadata": {},
   "outputs": [],
   "source": [
    "# get information from toml files\n",
    "apoptosis_groups_list = ground_truth[\"Apoptosis\"][\"apoptosis_groups_list\"]\n",
    "pyroptosis_groups_list = ground_truth[\"Pyroptosis\"][\"pyroptosis_groups_list\"]\n",
    "healthy_groups_list = ground_truth[\"Healthy\"][\"healthy_groups_list\"]\n",
    "test_split_100 = treatment_splits[\"splits\"][\"data_splits_100\"]\n",
    "test_split_75 = treatment_splits[\"splits\"][\"data_splits_75\"]"
   ]
  },
  {
   "cell_type": "code",
   "execution_count": 8,
   "id": "159e2281",
   "metadata": {},
   "outputs": [
    {
     "name": "stdout",
     "output_type": "stream",
     "text": [
      "Data Subset Is Off\n"
     ]
    }
   ],
   "source": [
    "np.random.seed(0)\n",
    "if mlp_params.DATA_SUBSET_OPTION == \"True\":\n",
    "    df1 = df1.groupby(\"oneb_Metadata_Treatment_Dose_Inhibitor_Dose\").apply(\n",
    "        lambda x: x.sample(n=mlp_params.DATA_SUBSET_NUMBER, random_state=0)\n",
    "    )\n",
    "    print(\"Data Subset Is On\")\n",
    "    print(f\"Data is subset to {mlp_params.DATA_SUBSET_NUMBER} per treatment group\")\n",
    "    print(df1.shape)\n",
    "    df1.reset_index(drop=True, inplace=True)\n",
    "else:\n",
    "    print(\"Data Subset Is Off\")"
   ]
  },
  {
   "cell_type": "code",
   "execution_count": 9,
   "id": "6a6ec3fa",
   "metadata": {},
   "outputs": [],
   "source": [
    "# add apoptosis, pyroptosis and healthy columns to dataframe\n",
    "df1[\"apoptosis\"] = df1[\"oneb_Metadata_Treatment_Dose_Inhibitor_Dose\"].isin(\n",
    "    apoptosis_groups_list\n",
    ")\n",
    "df1[\"pyroptosis\"] = df1[\"oneb_Metadata_Treatment_Dose_Inhibitor_Dose\"].isin(\n",
    "    pyroptosis_groups_list\n",
    ")\n",
    "df1[\"healthy\"] = df1[\"oneb_Metadata_Treatment_Dose_Inhibitor_Dose\"].isin(\n",
    "    healthy_groups_list\n",
    ")\n",
    "\n",
    "# merge apoptosis, pyroptosis, and healthy columns into one column\n",
    "conditions = [\n",
    "    (df1[\"apoptosis\"] == True),\n",
    "    (df1[\"pyroptosis\"] == True),\n",
    "    (df1[\"healthy\"] == True),\n",
    "]\n",
    "choices = [\"apoptosis\", \"pyroptosis\", \"healthy\"]\n",
    "df1[\"labels\"] = np.select(conditions, choices, default=\"healthy\")\n",
    "\n",
    "# drop apoptosis, pyroptosis, and healthy columns\n",
    "df1.drop(columns=[\"apoptosis\", \"pyroptosis\", \"healthy\"], inplace=True)"
   ]
  },
  {
   "cell_type": "markdown",
   "id": "3cb179dd",
   "metadata": {},
   "source": [
    "### Split said data"
   ]
  },
  {
   "cell_type": "code",
   "execution_count": 10,
   "id": "20568fd5",
   "metadata": {},
   "outputs": [
    {
     "name": "stdout",
     "output_type": "stream",
     "text": [
      "Wells held out for testing: ['C02' 'C04' 'C07' 'B08' 'B10' 'D05' 'E07' 'E08' 'D09' 'E11' 'D12' 'F03'\n",
      " 'G05' 'G07' 'G08' 'F11' 'H03' 'I03' 'H04' 'H06' 'I11' 'J04' 'K07' 'J08'\n",
      " 'K08' 'K10' 'J12' 'L02' 'M03' 'M05' 'M07' 'L11' 'O02' 'O04' 'N08' 'N10'\n",
      " 'N12']\n",
      "Wells to use for training, validation, and testing ['B02' 'C02' 'B03' 'C03' 'B04' 'C04' 'B05' 'C05' 'B06' 'C06' 'B07' 'C07'\n",
      " 'B08' 'C08' 'B09' 'C09' 'B10' 'C10' 'B11' 'C11' 'B12' 'C12' 'D02' 'E02'\n",
      " 'D03' 'E03' 'D04' 'E04' 'D05' 'E05' 'D06' 'E06' 'D07' 'E07' 'D08' 'E08'\n",
      " 'D09' 'E09' 'D10' 'E10' 'D11' 'E11' 'D12' 'E12' 'F02' 'G02' 'F03' 'G03'\n",
      " 'F04' 'G04' 'F05' 'G05' 'F06' 'G06' 'F07' 'G07' 'F08' 'G08' 'F09' 'G09'\n",
      " 'F10' 'G10' 'F11' 'G11' 'F12' 'G12' 'H02' 'I02' 'H03' 'I03' 'H04' 'I04'\n",
      " 'H05' 'I05' 'H06' 'I06' 'H07' 'I07' 'H08' 'I08' 'H09' 'I09' 'H10' 'I10'\n",
      " 'H11' 'I11' 'H12' 'I12' 'J02' 'K02' 'J03' 'K03' 'J04' 'K04' 'J05' 'K05'\n",
      " 'J06' 'K06' 'J07' 'K07' 'J08' 'K08' 'J09' 'K09' 'J10' 'K10' 'J11' 'K11'\n",
      " 'J12' 'K12' 'L02' 'M02' 'L03' 'M03' 'L04' 'M04' 'L05' 'M05' 'L06' 'M06'\n",
      " 'L07' 'M07' 'L08' 'M08' 'L09' 'M09' 'L10' 'M10' 'L11' 'M11' 'L12' 'M12'\n",
      " 'N02' 'O02' 'N03' 'O03' 'N04' 'O04' 'N05' 'O05' 'N06' 'O06' 'N07' 'O07'\n",
      " 'N08' 'O08' 'N09' 'O09' 'N10' 'O10' 'N11' 'O11' 'N12' 'O12']\n"
     ]
    }
   ],
   "source": [
    "# randomly select wells to hold out for testing one per treatment group\n",
    "# stratified by treatment group\n",
    "np.random.seed(seed=0)\n",
    "wells_to_hold = (\n",
    "    df1.groupby(\"oneb_Metadata_Treatment_Dose_Inhibitor_Dose\")\n",
    "    .agg(np.random.choice)[\"Metadata_Well\"]\n",
    "    .to_list()\n",
    ")\n",
    "df_holdout = df1[df1[\"Metadata_Well\"].isin(wells_to_hold)]\n",
    "df = df1[~df1[\"Metadata_Well\"].isin(wells_to_hold)]\n",
    "\n",
    "\n",
    "print(\"Wells held out for testing:\", df_holdout[\"Metadata_Well\"].unique())\n",
    "print(\n",
    "    \"Wells to use for training, validation, and testing\", df1[\"Metadata_Well\"].unique()\n",
    ")"
   ]
  },
  {
   "cell_type": "code",
   "execution_count": 11,
   "id": "5a46d3a7",
   "metadata": {},
   "outputs": [
    {
     "name": "stdout",
     "output_type": "stream",
     "text": [
      "(729033, 1225) (303068, 1225) (5268816, 1225)\n"
     ]
    }
   ],
   "source": [
    "# variable test and train set splits\n",
    "# 100% test set\n",
    "# subset the following treatments for test set\n",
    "treatment_holdout = df[\n",
    "    df[\"oneb_Metadata_Treatment_Dose_Inhibitor_Dose\"].isin(test_split_100)\n",
    "]\n",
    "# 75% test set and 25% train set\n",
    "test_set_75 = df[df[\"oneb_Metadata_Treatment_Dose_Inhibitor_Dose\"].isin(test_split_75)]\n",
    "\n",
    "test_100_and_75 = test_split_100 + test_split_75\n",
    "\n",
    "# 50% test set and 50% train set\n",
    "# get all treatments that are not in the_test_set_all and the test_set_75\n",
    "test_set_50 = df[\n",
    "    ~df[\"oneb_Metadata_Treatment_Dose_Inhibitor_Dose\"].isin(test_100_and_75)\n",
    "]\n",
    "\n",
    "print(treatment_holdout.shape, test_set_75.shape, test_set_50.shape)"
   ]
  },
  {
   "cell_type": "code",
   "execution_count": 12,
   "id": "26b32963",
   "metadata": {},
   "outputs": [
    {
     "name": "stdout",
     "output_type": "stream",
     "text": [
      "Shape for the 100% test set: (729033, 1225)\n",
      "\n",
      "Shape for the 75% test set: (75767, 1225);\n",
      "Shape for the 75% train set: (227301, 1225)\n",
      "\n",
      "Shape for the holdout set: (2017807, 1225)\n"
     ]
    }
   ],
   "source": [
    "# get the train test splits from each group\n",
    "# 100% test set\n",
    "treatment_holdout\n",
    "\n",
    "# 75% test set and 25% train set\n",
    "test_ratio = 0.75\n",
    "training_data_set_75, testing_data_set_75 = train_test_split(\n",
    "    test_set_75,\n",
    "    test_size=test_ratio,\n",
    "    stratify=test_set_75[\"oneb_Metadata_Treatment_Dose_Inhibitor_Dose\"],\n",
    "    random_state=0,\n",
    ")\n",
    "\n",
    "# 50% test set and 50% train set\n",
    "test_ratio = 0.5\n",
    "training_data_set_50, testing_data_set_50 = train_test_split(\n",
    "    test_set_50,\n",
    "    test_size=test_ratio,\n",
    "    stratify=test_set_50[\"oneb_Metadata_Treatment_Dose_Inhibitor_Dose\"],\n",
    "    random_state=0,\n",
    ")\n",
    "\n",
    "# verify that the correct splits have been made\n",
    "# 100% test set\n",
    "print(f\"Shape for the 100% test set: {treatment_holdout.shape}\\n\")\n",
    "\n",
    "# 75% test set and 25% train set\n",
    "print(\n",
    "    f\"Shape for the 75% test set: {training_data_set_75.shape};\\nShape for the 75% train set: {testing_data_set_75.shape}\\n\"\n",
    ")\n",
    "\n",
    "# 50% test set and 50% train set\n",
    "print(f\"Shape for the holdout set: {df_holdout.shape}\")"
   ]
  },
  {
   "cell_type": "code",
   "execution_count": 13,
   "id": "9bf407c4",
   "metadata": {},
   "outputs": [
    {
     "name": "stdout",
     "output_type": "stream",
     "text": [
      "\n",
      "    Testing set length: 2861709\n",
      "\n",
      "    Training set length: 2168140\n",
      "\n",
      "    Validation set length: 542035\n",
      "\n",
      "    Treatment Holdout set length: 729033\n",
      "\n",
      "    Holdout set length: 2017807\n"
     ]
    }
   ],
   "source": [
    "treatment_holdout\n",
    "# combine all testing sets together while preserving the index\n",
    "testing_data_set = pd.concat([testing_data_set_75, testing_data_set_50], axis=0)\n",
    "testing_data_set = testing_data_set.sort_index()\n",
    "testing_data_set\n",
    "\n",
    "# combine all training sets together while preserving the index\n",
    "training_data_set = pd.concat([training_data_set_75, training_data_set_50], axis=0)\n",
    "training_data_set = training_data_set.sort_index()\n",
    "training_data_set\n",
    "\n",
    "training_data_set, val_data_set = train_test_split(\n",
    "    training_data_set,\n",
    "    test_size=0.20,\n",
    "    stratify=training_data_set[\"oneb_Metadata_Treatment_Dose_Inhibitor_Dose\"],\n",
    ")\n",
    "print(\n",
    "    f\"\"\"\n",
    "    Testing set length: {len(testing_data_set)}\\n\n",
    "    Training set length: {len(training_data_set)}\\n\n",
    "    Validation set length: {len(val_data_set)}\\n\n",
    "    Treatment Holdout set length: {len(treatment_holdout)}\\n\n",
    "    Holdout set length: {len(df_holdout)}\"\"\"\n",
    ")"
   ]
  },
  {
   "cell_type": "code",
   "execution_count": 14,
   "id": "5da1578c",
   "metadata": {},
   "outputs": [],
   "source": [
    "# get the indexes for the training and testing sets\n",
    "\n",
    "training_data_set_index = training_data_set.index\n",
    "val_data_set_index = val_data_set.index\n",
    "testing_data_set_index = testing_data_set.index\n",
    "treatment_holdout_index = treatment_holdout.index\n",
    "df_holdout_index = df_holdout.index"
   ]
  },
  {
   "cell_type": "code",
   "execution_count": 15,
   "id": "bce398ed",
   "metadata": {},
   "outputs": [
    {
     "name": "stdout",
     "output_type": "stream",
     "text": [
      "(2168140,) (542035,) (2861709,) (729033,) (2017807,)\n",
      "8318724\n"
     ]
    }
   ],
   "source": [
    "print(\n",
    "    training_data_set_index.shape,\n",
    "    val_data_set_index.shape,\n",
    "    testing_data_set_index.shape,\n",
    "    treatment_holdout_index.shape,\n",
    "    df_holdout_index.shape,\n",
    ")\n",
    "print(\n",
    "    training_data_set_index.shape[0]\n",
    "    + val_data_set_index.shape[0]\n",
    "    + testing_data_set_index.shape[0]\n",
    "    + treatment_holdout_index.shape[0]\n",
    "    + df_holdout_index.shape[0]\n",
    ")"
   ]
  },
  {
   "cell_type": "code",
   "execution_count": 16,
   "id": "ad856f53",
   "metadata": {},
   "outputs": [
    {
     "data": {
      "text/html": [
       "<div>\n",
       "<style scoped>\n",
       "    .dataframe tbody tr th:only-of-type {\n",
       "        vertical-align: middle;\n",
       "    }\n",
       "\n",
       "    .dataframe tbody tr th {\n",
       "        vertical-align: top;\n",
       "    }\n",
       "\n",
       "    .dataframe thead th {\n",
       "        text-align: right;\n",
       "    }\n",
       "</style>\n",
       "<table border=\"1\" class=\"dataframe\">\n",
       "  <thead>\n",
       "    <tr style=\"text-align: right;\">\n",
       "      <th></th>\n",
       "      <th>labeled_data_index</th>\n",
       "      <th>label</th>\n",
       "    </tr>\n",
       "  </thead>\n",
       "  <tbody>\n",
       "    <tr>\n",
       "      <th>0</th>\n",
       "      <td>6135062</td>\n",
       "      <td>train</td>\n",
       "    </tr>\n",
       "    <tr>\n",
       "      <th>1</th>\n",
       "      <td>5358238</td>\n",
       "      <td>train</td>\n",
       "    </tr>\n",
       "    <tr>\n",
       "      <th>2</th>\n",
       "      <td>3875296</td>\n",
       "      <td>train</td>\n",
       "    </tr>\n",
       "    <tr>\n",
       "      <th>3</th>\n",
       "      <td>7361184</td>\n",
       "      <td>train</td>\n",
       "    </tr>\n",
       "    <tr>\n",
       "      <th>4</th>\n",
       "      <td>4631111</td>\n",
       "      <td>train</td>\n",
       "    </tr>\n",
       "    <tr>\n",
       "      <th>...</th>\n",
       "      <td>...</td>\n",
       "      <td>...</td>\n",
       "    </tr>\n",
       "    <tr>\n",
       "      <th>8318719</th>\n",
       "      <td>8262523</td>\n",
       "      <td>holdout</td>\n",
       "    </tr>\n",
       "    <tr>\n",
       "      <th>8318720</th>\n",
       "      <td>8262524</td>\n",
       "      <td>holdout</td>\n",
       "    </tr>\n",
       "    <tr>\n",
       "      <th>8318721</th>\n",
       "      <td>8262525</td>\n",
       "      <td>holdout</td>\n",
       "    </tr>\n",
       "    <tr>\n",
       "      <th>8318722</th>\n",
       "      <td>8262526</td>\n",
       "      <td>holdout</td>\n",
       "    </tr>\n",
       "    <tr>\n",
       "      <th>8318723</th>\n",
       "      <td>8262527</td>\n",
       "      <td>holdout</td>\n",
       "    </tr>\n",
       "  </tbody>\n",
       "</table>\n",
       "<p>8318724 rows × 2 columns</p>\n",
       "</div>"
      ],
      "text/plain": [
       "         labeled_data_index    label\n",
       "0                   6135062    train\n",
       "1                   5358238    train\n",
       "2                   3875296    train\n",
       "3                   7361184    train\n",
       "4                   4631111    train\n",
       "...                     ...      ...\n",
       "8318719             8262523  holdout\n",
       "8318720             8262524  holdout\n",
       "8318721             8262525  holdout\n",
       "8318722             8262526  holdout\n",
       "8318723             8262527  holdout\n",
       "\n",
       "[8318724 rows x 2 columns]"
      ]
     },
     "execution_count": 16,
     "metadata": {},
     "output_type": "execute_result"
    }
   ],
   "source": [
    "# create pandas dataframe with all indexes and their respective labels, stratified by phenotypic class\n",
    "index_data = []\n",
    "for index in training_data_set_index:\n",
    "    index_data.append({\"labeled_data_index\": index, \"label\": \"train\"})\n",
    "for index in val_data_set_index:\n",
    "    index_data.append({\"labeled_data_index\": index, \"label\": \"val\"})\n",
    "for index in testing_data_set_index:\n",
    "    index_data.append({\"labeled_data_index\": index, \"label\": \"test\"})\n",
    "for index in treatment_holdout_index:\n",
    "    index_data.append({\"labeled_data_index\": index, \"label\": \"treatment_holdout\"})\n",
    "for index in df_holdout_index:\n",
    "    index_data.append({\"labeled_data_index\": index, \"label\": \"holdout\"})\n",
    "\n",
    "# make index data a dataframe and sort it by labeled data index\n",
    "index_data = pd.DataFrame(index_data)\n",
    "index_data"
   ]
  },
  {
   "cell_type": "code",
   "execution_count": 17,
   "id": "70798091",
   "metadata": {},
   "outputs": [
    {
     "data": {
      "text/plain": [
       "array(['train', 'val', 'test', 'treatment_holdout', 'holdout'],\n",
       "      dtype=object)"
      ]
     },
     "execution_count": 17,
     "metadata": {},
     "output_type": "execute_result"
    }
   ],
   "source": [
    "index_data[\"label\"].unique()"
   ]
  },
  {
   "cell_type": "code",
   "execution_count": 18,
   "id": "931ee871",
   "metadata": {},
   "outputs": [
    {
     "name": "stdout",
     "output_type": "stream",
     "text": [
      "../indexes/PBMC/multi_class\n"
     ]
    }
   ],
   "source": [
    "save_path = pathlib.Path(f\"../indexes/{CELL_TYPE}/multi_class/\")\n",
    "\n",
    "print(save_path)\n",
    "# create save path if it doesn't exist\n",
    "save_path.mkdir(parents=True, exist_ok=True)"
   ]
  },
  {
   "cell_type": "code",
   "execution_count": 19,
   "id": "686d1a5d",
   "metadata": {},
   "outputs": [],
   "source": [
    "# save indexes as tsv file\n",
    "index_data.to_csv(\n",
    "    f\"{save_path}/{params.MODEL_NAME}_data_split_indexes.tsv\", sep=\"\\t\", index=False\n",
    ")"
   ]
  },
  {
   "attachments": {},
   "cell_type": "markdown",
   "id": "5c486e00",
   "metadata": {
    "papermill": {
     "duration": null,
     "end_time": null,
     "exception": null,
     "start_time": null,
     "status": "completed"
    },
    "tags": []
   },
   "source": [
    "#### Set up Data to be compatible with model"
   ]
  },
  {
   "attachments": {},
   "cell_type": "markdown",
   "id": "95754baa",
   "metadata": {
    "papermill": {
     "duration": null,
     "end_time": null,
     "exception": null,
     "start_time": null,
     "status": "completed"
    },
    "tags": []
   },
   "source": [
    "##### Classification Models:\n",
    "Comment out code if using regression"
   ]
  },
  {
   "cell_type": "code",
   "execution_count": 20,
   "id": "786e3a76",
   "metadata": {
    "execution": {
     "iopub.execute_input": "2023-10-18T18:19:56.707754Z",
     "iopub.status.busy": "2023-10-18T18:19:56.707475Z",
     "iopub.status.idle": "2023-10-18T18:19:56.711213Z",
     "shell.execute_reply": "2023-10-18T18:19:56.710882Z"
    },
    "papermill": {
     "duration": null,
     "end_time": null,
     "exception": null,
     "start_time": null,
     "status": "completed"
    },
    "tags": []
   },
   "outputs": [],
   "source": [
    "# Code snippet for metadata extraction by Jenna Tomkinson\n",
    "df_metadata = list(df.columns[df.columns.str.contains(\"Metadata\")])\n",
    "\n",
    "# define which columns are data and which are descriptive\n",
    "df_descriptive = df1[df_metadata]\n",
    "df_values = df1.drop(columns=df_metadata)"
   ]
  },
  {
   "cell_type": "code",
   "execution_count": 21,
   "id": "5a354640",
   "metadata": {},
   "outputs": [
    {
     "name": "stdout",
     "output_type": "stream",
     "text": [
      "['apoptosis' 'healthy' 'pyroptosis'] [ 439316 4301036 3578372]\n",
      "[0, 1, 2] [0.947189496850719, 0.4829692630744812, 0.5698412400747999]\n"
     ]
    }
   ],
   "source": [
    "# get the class weights for the loss function to account for class imbalance\n",
    "# get the number of samples in each class\n",
    "targets, counts = np.unique(df1[\"labels\"], return_counts=True)\n",
    "print(targets, counts)\n",
    "total_counts = np.sum(counts)\n",
    "# get the class weights\n",
    "class_weights = []\n",
    "class_targets = []\n",
    "for class_name in enumerate(targets):\n",
    "    class_targets.append(class_name[0])\n",
    "for count in enumerate(counts):\n",
    "    class_weights.append(1 - (count[1] / total_counts))\n",
    "print(class_targets, class_weights)\n",
    "# write the class weights to a file for use in the model\n",
    "class_weights_file = pathlib.Path(f\"../class_weights/{CELL_TYPE}/multi_class/\")\n",
    "class_weights_file.mkdir(parents=True, exist_ok=True)\n",
    "with open(f\"{class_weights_file}/class_weights.txt\", \"w\") as filehandle:\n",
    "    for listitem in class_weights:\n",
    "        filehandle.write(\"%s\\n\" % listitem)"
   ]
  },
  {
   "cell_type": "code",
   "execution_count": 22,
   "id": "595afb65",
   "metadata": {
    "execution": {
     "iopub.execute_input": "2023-10-18T18:19:56.717727Z",
     "iopub.status.busy": "2023-10-18T18:19:56.717549Z",
     "iopub.status.idle": "2023-10-18T18:19:56.720945Z",
     "shell.execute_reply": "2023-10-18T18:19:56.720676Z"
    },
    "papermill": {
     "duration": null,
     "end_time": null,
     "exception": null,
     "start_time": null,
     "status": "completed"
    },
    "tags": []
   },
   "outputs": [
    {
     "data": {
      "text/plain": [
       "array([2, 1, 0])"
      ]
     },
     "execution_count": 22,
     "metadata": {},
     "output_type": "execute_result"
    }
   ],
   "source": [
    "# Creating label encoder\n",
    "le = preprocessing.LabelEncoder()\n",
    "df_values[\"new_labels\"] = le.fit_transform(df_values[\"labels\"])\n",
    "# get mini dataframe that contains the decoder\n",
    "decoder = df_values[[\"labels\", \"new_labels\"]].drop_duplicates()\n",
    "# split into X and Y where Y are the predictive column and x are the observable data\n",
    "df_values_X = df_values.drop(\n",
    "    [\"new_labels\", \"labels\"],\n",
    "    axis=1,\n",
    ")\n",
    "df_values_Y = df_values[\"new_labels\"]\n",
    "df_values_Y.head()\n",
    "df_values_Y.unique()"
   ]
  },
  {
   "attachments": {},
   "cell_type": "markdown",
   "id": "260a048e",
   "metadata": {
    "papermill": {
     "duration": null,
     "end_time": null,
     "exception": null,
     "start_time": null,
     "status": "completed"
    },
    "tags": []
   },
   "source": [
    "#### Split Data - All Models can proceed through this point"
   ]
  },
  {
   "cell_type": "code",
   "execution_count": 23,
   "id": "b5b6d4fa",
   "metadata": {},
   "outputs": [],
   "source": [
    "# split into train and test sets from indexes previously defined\n",
    "\n",
    "X_train = df_values_X.loc[training_data_set_index]\n",
    "X_val = df_values_X.loc[val_data_set_index]\n",
    "X_test = df_values_X.loc[testing_data_set_index]\n",
    "X_holdout = df_values_X.loc[df_holdout_index]\n",
    "X_treatment_holdout = df_values_X.loc[treatment_holdout_index]\n",
    "\n",
    "Y_train = df_values_Y.loc[training_data_set_index]\n",
    "Y_val = df_values_Y.loc[val_data_set_index]\n",
    "Y_test = df_values_Y.loc[testing_data_set_index]\n",
    "Y_holdout = df_values_Y.loc[df_holdout_index]\n",
    "Y_treatment_holdout = df_values_Y.loc[treatment_holdout_index]"
   ]
  },
  {
   "cell_type": "code",
   "execution_count": 24,
   "id": "ae525b7d",
   "metadata": {},
   "outputs": [
    {
     "data": {
      "text/plain": [
       "3"
      ]
     },
     "execution_count": 24,
     "metadata": {},
     "output_type": "execute_result"
    }
   ],
   "source": [
    "mlp_params.OUT_FEATURES = len(df_values_Y.unique())\n",
    "mlp_params.OUT_FEATURES"
   ]
  },
  {
   "cell_type": "code",
   "execution_count": 25,
   "id": "9ab7a090",
   "metadata": {},
   "outputs": [],
   "source": [
    "Y_train = torch.tensor(Y_train.values)\n",
    "Y_train = torch.nn.functional.one_hot(\n",
    "    Y_train, num_classes=mlp_params.OUT_FEATURES\n",
    ").float()\n",
    "\n",
    "Y_val = torch.tensor(Y_val.values)\n",
    "Y_val = torch.nn.functional.one_hot(Y_val, num_classes=mlp_params.OUT_FEATURES).float()\n",
    "\n",
    "Y_test = torch.tensor(Y_test.values)\n",
    "Y_test = torch.nn.functional.one_hot(\n",
    "    Y_test, num_classes=mlp_params.OUT_FEATURES\n",
    ").float()\n",
    "\n",
    "Y_holdout = torch.tensor(Y_holdout.values)\n",
    "Y_holdout = torch.nn.functional.one_hot(\n",
    "    Y_holdout, num_classes=mlp_params.OUT_FEATURES\n",
    ").float()\n",
    "\n",
    "Y_treatment_holdout = torch.tensor(Y_treatment_holdout.values)\n",
    "Y_treatment_holdout = torch.nn.functional.one_hot(\n",
    "    Y_treatment_holdout, num_classes=mlp_params.OUT_FEATURES\n",
    ").float()\n",
    "\n",
    "# convert the X dataframes to tensors\n",
    "X_train = torch.tensor(X_train.values)\n",
    "X_val = torch.tensor(X_val.values)\n",
    "X_test = torch.tensor(X_test.values)\n",
    "X_holdout = torch.tensor(X_holdout.values)\n",
    "X_treatment_holdout = torch.tensor(X_treatment_holdout.values)"
   ]
  },
  {
   "cell_type": "code",
   "execution_count": 26,
   "id": "3c4e1896",
   "metadata": {},
   "outputs": [],
   "source": [
    "# produce data objects for train, val and test datasets\n",
    "train_data = torch.utils.data.TensorDataset(X_train, Y_train)\n",
    "val_data = torch.utils.data.TensorDataset(X_val, Y_val)\n",
    "test_data = torch.utils.data.TensorDataset(X_test, Y_test)"
   ]
  },
  {
   "cell_type": "code",
   "execution_count": 27,
   "id": "4382d712",
   "metadata": {
    "execution": {
     "iopub.execute_input": "2023-10-18T18:16:16.631025Z",
     "iopub.status.busy": "2023-10-18T18:16:16.630857Z",
     "iopub.status.idle": "2023-10-18T18:16:16.634504Z",
     "shell.execute_reply": "2023-10-18T18:16:16.634156Z"
    },
    "papermill": {
     "duration": null,
     "end_time": null,
     "exception": null,
     "start_time": null,
     "status": "completed"
    },
    "tags": []
   },
   "outputs": [
    {
     "name": "stdout",
     "output_type": "stream",
     "text": [
      "Number of in features:  1199\n",
      "Number of out features:  3\n",
      "Multi_Class\n"
     ]
    }
   ],
   "source": [
    "mlp_params.IN_FEATURES = X_train.shape[1]\n",
    "print(\"Number of in features: \", mlp_params.IN_FEATURES)\n",
    "if mlp_params.MODEL_TYPE == \"Regression\":\n",
    "    mlp_params.OUT_FEATURES = 1\n",
    "else:\n",
    "    mlp_params.OUT_FEATURES = len(df_values[\"labels\"].unique())\n",
    "\n",
    "print(\"Number of out features: \", mlp_params.OUT_FEATURES)\n",
    "\n",
    "if mlp_params.OUT_FEATURES > 2:\n",
    "    mlp_params.MODEL_TYPE = \"Multi_Class\"\n",
    "elif mlp_params.OUT_FEATURES == 2:\n",
    "    mlp_params.OUT_FEATURES = mlp_params.OUT_FEATURES - 1\n",
    "    mlp_params.MODEL_TYPE = \"Binary_Classification\"\n",
    "elif mlp_params.OUT_FEATURES == 1:\n",
    "    mlp_params.MODEL_TYPE = \"Regression\"\n",
    "else:\n",
    "    pass\n",
    "print(mlp_params.MODEL_TYPE)"
   ]
  },
  {
   "cell_type": "code",
   "execution_count": 28,
   "id": "77effa5c",
   "metadata": {
    "execution": {
     "iopub.execute_input": "2023-10-18T18:16:16.642779Z",
     "iopub.status.busy": "2023-10-18T18:16:16.642487Z",
     "iopub.status.idle": "2023-10-18T18:16:16.645220Z",
     "shell.execute_reply": "2023-10-18T18:16:16.644897Z"
    },
    "papermill": {
     "duration": null,
     "end_time": null,
     "exception": null,
     "start_time": null,
     "status": "completed"
    },
    "tags": []
   },
   "outputs": [],
   "source": [
    "# convert data class into a dataloader to be compatible with pytorch\n",
    "train_loader = torch.utils.data.DataLoader(\n",
    "    dataset=train_data, batch_size=mlp_params.HYPERPARAMETER_BATCH_SIZE, shuffle=True\n",
    ")\n",
    "valid_loader = torch.utils.data.DataLoader(\n",
    "    dataset=val_data, batch_size=mlp_params.HYPERPARAMETER_BATCH_SIZE, shuffle=False\n",
    ")"
   ]
  },
  {
   "cell_type": "code",
   "execution_count": 29,
   "id": "f471da39",
   "metadata": {},
   "outputs": [
    {
     "data": {
      "text/plain": [
       "3"
      ]
     },
     "execution_count": 29,
     "metadata": {},
     "output_type": "execute_result"
    }
   ],
   "source": [
    "mlp_params.OUT_FEATURES"
   ]
  },
  {
   "cell_type": "code",
   "execution_count": 30,
   "id": "cb7635c8",
   "metadata": {
    "execution": {
     "iopub.execute_input": "2023-10-18T18:16:16.653709Z",
     "iopub.status.busy": "2023-10-18T18:16:16.653361Z",
     "iopub.status.idle": "2023-10-18T18:16:16.655989Z",
     "shell.execute_reply": "2023-10-18T18:16:16.655583Z"
    },
    "papermill": {
     "duration": null,
     "end_time": null,
     "exception": null,
     "start_time": null,
     "status": "completed"
    },
    "tags": []
   },
   "outputs": [
    {
     "name": "stdout",
     "output_type": "stream",
     "text": [
      "cuda\n"
     ]
    }
   ],
   "source": [
    "# check device\n",
    "print(mlp_params.DEVICE)"
   ]
  },
  {
   "cell_type": "code",
   "execution_count": 31,
   "id": "a969042f",
   "metadata": {
    "execution": {
     "iopub.execute_input": "2023-10-18T18:16:16.663986Z",
     "iopub.status.busy": "2023-10-18T18:16:16.663699Z",
     "iopub.status.idle": "2023-10-18T18:17:37.283791Z",
     "shell.execute_reply": "2023-10-18T18:17:37.283496Z"
    },
    "papermill": {
     "duration": null,
     "end_time": null,
     "exception": null,
     "start_time": null,
     "status": "completed"
    },
    "tags": []
   },
   "outputs": [
    {
     "name": "stderr",
     "output_type": "stream",
     "text": [
      "[I 2024-04-24 09:55:55,104] A new study created in memory with name: no-name-bf3ba55f-79c4-478d-bd81-61d3b4282723\n",
      "[I 2024-04-24 10:43:29,791] Trial 0 finished with value: 0.2821488585184511 and parameters: {'n_layers': 2, 'n_units_l0': 42, 'dropout_0': 0.15133424871820117, 'n_units_l1': 47, 'dropout_1': 0.10403073720652195, 'learning_rate': 0.014009410642876915, 'optimizer': 'SGD'}. Best is trial 0 with value: 0.2821488585184511.\n",
      "[I 2024-04-24 11:32:59,562] Trial 1 finished with value: 0.5045091540225084 and parameters: {'n_layers': 10, 'n_units_l0': 30, 'dropout_0': 0.258840708899566, 'n_units_l1': 27, 'dropout_1': 0.22823247910579433, 'n_units_l2': 36, 'dropout_2': 0.3913520531991127, 'n_units_l3': 30, 'dropout_3': 0.25214607202240213, 'n_units_l4': 30, 'dropout_4': 0.202904598153473, 'n_units_l5': 24, 'dropout_5': 0.3387360234211099, 'n_units_l6': 47, 'dropout_6': 0.38901894203768217, 'n_units_l7': 16, 'dropout_7': 0.12535423327873813, 'n_units_l8': 36, 'dropout_8': 0.18252764612352906, 'n_units_l9': 4, 'dropout_9': 0.10742912349645384, 'learning_rate': 0.027361586341963742, 'optimizer': 'Adam'}. Best is trial 0 with value: 0.2821488585184511.\n",
      "[I 2024-04-24 12:21:37,212] Trial 2 finished with value: 0.5053188168289032 and parameters: {'n_layers': 9, 'n_units_l0': 30, 'dropout_0': 0.3468572419915791, 'n_units_l1': 24, 'dropout_1': 0.34976875750739167, 'n_units_l2': 46, 'dropout_2': 0.12049239101845438, 'n_units_l3': 42, 'dropout_3': 0.18078860613159264, 'n_units_l4': 4, 'dropout_4': 0.1930581356608239, 'n_units_l5': 15, 'dropout_5': 0.2976442838315833, 'n_units_l6': 35, 'dropout_6': 0.3575024020909179, 'n_units_l7': 8, 'dropout_7': 0.31156013547896744, 'n_units_l8': 26, 'dropout_8': 0.30836503636977564, 'learning_rate': 0.028987932815045345, 'optimizer': 'RMSprop'}. Best is trial 0 with value: 0.2821488585184511.\n",
      "[I 2024-04-24 13:11:42,999] Trial 3 finished with value: 0.5063181116007968 and parameters: {'n_layers': 7, 'n_units_l0': 43, 'dropout_0': 0.15414488235105708, 'n_units_l1': 12, 'dropout_1': 0.18498419745177044, 'n_units_l2': 29, 'dropout_2': 0.3940574346698069, 'n_units_l3': 16, 'dropout_3': 0.3236007658626079, 'n_units_l4': 49, 'dropout_4': 0.1515018532995063, 'n_units_l5': 40, 'dropout_5': 0.21884936901009083, 'n_units_l6': 49, 'dropout_6': 0.30369280496804596, 'learning_rate': 0.047207110903949454, 'optimizer': 'RMSprop'}. Best is trial 0 with value: 0.2821488585184511.\n",
      "[I 2024-04-24 14:07:26,248] Trial 4 finished with value: 0.5043116205996571 and parameters: {'n_layers': 14, 'n_units_l0': 48, 'dropout_0': 0.25987349248302927, 'n_units_l1': 18, 'dropout_1': 0.1205608357927318, 'n_units_l2': 41, 'dropout_2': 0.2698020152999035, 'n_units_l3': 9, 'dropout_3': 0.11619962497630465, 'n_units_l4': 32, 'dropout_4': 0.2936160379198015, 'n_units_l5': 6, 'dropout_5': 0.32904300655031393, 'n_units_l6': 39, 'dropout_6': 0.3609179153114652, 'n_units_l7': 30, 'dropout_7': 0.331573089000065, 'n_units_l8': 32, 'dropout_8': 0.16551459494862508, 'n_units_l9': 8, 'dropout_9': 0.35930930837756314, 'n_units_l10': 13, 'dropout_10': 0.21996187859176938, 'n_units_l11': 15, 'dropout_11': 0.24964840924457138, 'n_units_l12': 29, 'dropout_12': 0.18955719851767783, 'n_units_l13': 9, 'dropout_13': 0.23849776545683585, 'learning_rate': 0.09617771011619128, 'optimizer': 'SGD'}. Best is trial 0 with value: 0.2821488585184511.\n",
      "[I 2024-04-24 14:08:33,607] Trial 5 pruned. \n",
      "[I 2024-04-24 15:03:30,257] Trial 6 finished with value: 0.5043121927592417 and parameters: {'n_layers': 10, 'n_units_l0': 35, 'dropout_0': 0.39518660709152253, 'n_units_l1': 50, 'dropout_1': 0.21668785927355255, 'n_units_l2': 26, 'dropout_2': 0.22739302746779497, 'n_units_l3': 23, 'dropout_3': 0.17331058490361173, 'n_units_l4': 16, 'dropout_4': 0.38839521268988697, 'n_units_l5': 41, 'dropout_5': 0.2583200217023196, 'n_units_l6': 6, 'dropout_6': 0.10371558612217009, 'n_units_l7': 3, 'dropout_7': 0.11534149252251297, 'n_units_l8': 37, 'dropout_8': 0.3868885340613817, 'n_units_l9': 14, 'dropout_9': 0.2928980617353673, 'learning_rate': 0.028305490123408255, 'optimizer': 'SGD'}. Best is trial 0 with value: 0.2821488585184511.\n",
      "[I 2024-04-24 15:52:25,549] Trial 7 finished with value: 0.2647319057270967 and parameters: {'n_layers': 3, 'n_units_l0': 50, 'dropout_0': 0.16991671380661613, 'n_units_l1': 19, 'dropout_1': 0.19087550838937278, 'n_units_l2': 43, 'dropout_2': 0.11306106563794645, 'learning_rate': 0.003775953860673031, 'optimizer': 'RMSprop'}. Best is trial 7 with value: 0.2647319057270967.\n",
      "[I 2024-04-24 15:53:23,997] Trial 8 pruned. \n",
      "[I 2024-04-24 15:54:21,781] Trial 9 pruned. \n",
      "[I 2024-04-24 16:43:05,138] Trial 10 finished with value: 0.39163628856999666 and parameters: {'n_layers': 5, 'n_units_l0': 13, 'dropout_0': 0.2019332331189204, 'n_units_l1': 2, 'dropout_1': 0.2852364331209834, 'n_units_l2': 5, 'dropout_2': 0.17224237493304861, 'n_units_l3': 50, 'dropout_3': 0.38456868283498785, 'n_units_l4': 50, 'dropout_4': 0.32788964331138004, 'learning_rate': 0.0009693401769453394, 'optimizer': 'RMSprop'}. Best is trial 7 with value: 0.2647319057270967.\n",
      "[I 2024-04-24 17:30:40,043] Trial 11 finished with value: 0.3321623447257511 and parameters: {'n_layers': 1, 'n_units_l0': 16, 'dropout_0': 0.10274538887285974, 'learning_rate': 0.0045279229686585555, 'optimizer': 'SGD'}. Best is trial 7 with value: 0.2647319057270967.\n",
      "[I 2024-04-24 18:18:07,948] Trial 12 finished with value: 0.27003538263821025 and parameters: {'n_layers': 1, 'n_units_l0': 39, 'dropout_0': 0.18156680971326172, 'learning_rate': 0.04970360339003316, 'optimizer': 'SGD'}. Best is trial 7 with value: 0.2647319057270967.\n",
      "[I 2024-04-24 19:06:19,578] Trial 13 finished with value: 0.322758803687043 and parameters: {'n_layers': 5, 'n_units_l0': 37, 'dropout_0': 0.20214043497375492, 'n_units_l1': 37, 'dropout_1': 0.15594555774009353, 'n_units_l2': 50, 'dropout_2': 0.31355104118784854, 'n_units_l3': 7, 'dropout_3': 0.394295387413531, 'n_units_l4': 39, 'dropout_4': 0.3954294648771337, 'learning_rate': 0.061303489543048324, 'optimizer': 'SGD'}. Best is trial 7 with value: 0.2647319057270967.\n",
      "[I 2024-04-24 19:18:42,061] Trial 14 pruned. \n",
      "[I 2024-04-24 19:19:39,842] Trial 15 pruned. \n",
      "[I 2024-04-24 19:20:40,537] Trial 16 pruned. \n",
      "[I 2024-04-24 19:21:37,748] Trial 17 pruned. \n",
      "[I 2024-04-24 19:22:37,067] Trial 18 pruned. \n",
      "[I 2024-04-24 19:23:34,380] Trial 19 pruned. \n",
      "[I 2024-04-24 19:24:32,922] Trial 20 pruned. \n",
      "[I 2024-04-24 19:25:30,267] Trial 21 pruned. \n",
      "[I 2024-04-24 20:12:50,477] Trial 22 finished with value: 0.27560192663476396 and parameters: {'n_layers': 2, 'n_units_l0': 36, 'dropout_0': 0.13327602935569838, 'n_units_l1': 43, 'dropout_1': 0.10201346582363273, 'learning_rate': 0.01898637389402207, 'optimizer': 'SGD'}. Best is trial 7 with value: 0.2647319057270967.\n",
      "[I 2024-04-24 21:00:31,862] Trial 23 finished with value: 0.26694326651579325 and parameters: {'n_layers': 2, 'n_units_l0': 36, 'dropout_0': 0.12850453798970646, 'n_units_l1': 42, 'dropout_1': 0.1420700988524013, 'learning_rate': 0.033267182829091343, 'optimizer': 'SGD'}. Best is trial 7 with value: 0.2647319057270967.\n",
      "[I 2024-04-24 21:48:35,005] Trial 24 finished with value: 0.28449929901029963 and parameters: {'n_layers': 4, 'n_units_l0': 26, 'dropout_0': 0.17875815066116177, 'n_units_l1': 32, 'dropout_1': 0.17685355881543577, 'n_units_l2': 33, 'dropout_2': 0.2739486995470474, 'n_units_l3': 41, 'dropout_3': 0.29499246411032914, 'learning_rate': 0.03747925765734604, 'optimizer': 'SGD'}. Best is trial 7 with value: 0.2647319057270967.\n",
      "[I 2024-04-24 21:49:33,599] Trial 25 pruned. \n",
      "[I 2024-04-24 22:36:56,110] Trial 26 finished with value: 0.273720593685713 and parameters: {'n_layers': 4, 'n_units_l0': 38, 'dropout_0': 0.22158724677935326, 'n_units_l1': 41, 'dropout_1': 0.13546122121945497, 'n_units_l2': 43, 'dropout_2': 0.35428493321458204, 'n_units_l3': 30, 'dropout_3': 0.14119589513055814, 'learning_rate': 0.03607689362541604, 'optimizer': 'SGD'}. Best is trial 7 with value: 0.2647319057270967.\n",
      "[I 2024-04-24 23:24:29,067] Trial 27 finished with value: 0.26710633322569105 and parameters: {'n_layers': 1, 'n_units_l0': 46, 'dropout_0': 0.1775021659174549, 'learning_rate': 0.051986855144285776, 'optimizer': 'SGD'}. Best is trial 7 with value: 0.2647319057270967.\n",
      "[I 2024-04-24 23:25:28,013] Trial 28 pruned. \n",
      "[I 2024-04-25 00:13:01,183] Trial 29 finished with value: 0.27067237304005615 and parameters: {'n_layers': 2, 'n_units_l0': 46, 'dropout_0': 0.14784564756709156, 'n_units_l1': 12, 'dropout_1': 0.1325350393721609, 'learning_rate': 0.006891281571596999, 'optimizer': 'RMSprop'}. Best is trial 7 with value: 0.2647319057270967.\n",
      "[I 2024-04-25 01:00:25,368] Trial 30 finished with value: 0.270093500305715 and parameters: {'n_layers': 3, 'n_units_l0': 41, 'dropout_0': 0.15488757025924033, 'n_units_l1': 50, 'dropout_1': 0.18946256186537727, 'n_units_l2': 50, 'dropout_2': 0.20583240771542244, 'learning_rate': 0.022962303858467613, 'optimizer': 'SGD'}. Best is trial 7 with value: 0.2647319057270967.\n",
      "[I 2024-04-25 01:47:49,637] Trial 31 finished with value: 0.27053545783567157 and parameters: {'n_layers': 1, 'n_units_l0': 41, 'dropout_0': 0.1847846107064583, 'learning_rate': 0.05102285914881174, 'optimizer': 'SGD'}. Best is trial 7 with value: 0.2647319057270967.\n",
      "[I 2024-04-25 02:35:30,709] Trial 32 finished with value: 0.2614223982912401 and parameters: {'n_layers': 2, 'n_units_l0': 50, 'dropout_0': 0.1656685734834272, 'n_units_l1': 21, 'dropout_1': 0.20988058673869597, 'learning_rate': 0.04271590913499946, 'optimizer': 'SGD'}. Best is trial 32 with value: 0.2614223982912401.\n",
      "[I 2024-04-25 03:22:59,531] Trial 33 finished with value: 0.2638335804161007 and parameters: {'n_layers': 2, 'n_units_l0': 50, 'dropout_0': 0.16243486410295668, 'n_units_l1': 22, 'dropout_1': 0.20921705501161098, 'learning_rate': 0.03309715792248685, 'optimizer': 'SGD'}. Best is trial 32 with value: 0.2614223982912401.\n",
      "[I 2024-04-25 04:10:34,420] Trial 34 finished with value: 0.2643865818334109 and parameters: {'n_layers': 2, 'n_units_l0': 50, 'dropout_0': 0.16309571851496113, 'n_units_l1': 21, 'dropout_1': 0.2073826280413938, 'learning_rate': 0.03252495823844725, 'optimizer': 'SGD'}. Best is trial 32 with value: 0.2614223982912401.\n",
      "[I 2024-04-25 04:11:31,601] Trial 35 pruned. \n",
      "[I 2024-04-25 04:12:30,034] Trial 36 pruned. \n",
      "[I 2024-04-25 04:13:29,082] Trial 37 pruned. \n",
      "[I 2024-04-25 05:01:24,477] Trial 38 finished with value: 0.2718913722224876 and parameters: {'n_layers': 3, 'n_units_l0': 47, 'dropout_0': 0.20019801215181068, 'n_units_l1': 16, 'dropout_1': 0.17460042301887088, 'n_units_l2': 45, 'dropout_2': 0.10171831049977437, 'learning_rate': 0.026160284455114598, 'optimizer': 'SGD'}. Best is trial 32 with value: 0.2614223982912401.\n",
      "[I 2024-04-25 05:02:25,039] Trial 39 pruned. \n",
      "[I 2024-04-25 05:50:01,160] Trial 40 finished with value: 0.270876448344899 and parameters: {'n_layers': 3, 'n_units_l0': 48, 'dropout_0': 0.28484384687924175, 'n_units_l1': 20, 'dropout_1': 0.19311523497929103, 'n_units_l2': 40, 'dropout_2': 0.1692732509203429, 'learning_rate': 0.04273387364733585, 'optimizer': 'SGD'}. Best is trial 32 with value: 0.2614223982912401.\n",
      "[I 2024-04-25 06:25:01,117] Trial 41 pruned. \n",
      "[I 2024-04-25 07:12:22,699] Trial 42 finished with value: 0.2612168933547224 and parameters: {'n_layers': 2, 'n_units_l0': 50, 'dropout_0': 0.11607734776820866, 'n_units_l1': 23, 'dropout_1': 0.16434821938224128, 'learning_rate': 0.033991834080508945, 'optimizer': 'SGD'}. Best is trial 42 with value: 0.2612168933547224.\n",
      "[I 2024-04-25 07:13:20,769] Trial 43 pruned. \n",
      "[I 2024-04-25 08:00:41,189] Trial 44 finished with value: 0.26631339524496983 and parameters: {'n_layers': 2, 'n_units_l0': 48, 'dropout_0': 0.11646074840570705, 'n_units_l1': 15, 'dropout_1': 0.19969465256065203, 'learning_rate': 0.02817861946186209, 'optimizer': 'SGD'}. Best is trial 42 with value: 0.2612168933547224.\n",
      "[I 2024-04-25 08:01:40,641] Trial 45 pruned. \n",
      "[I 2024-04-25 08:02:39,888] Trial 46 pruned. \n",
      "[I 2024-04-25 08:08:28,804] Trial 47 pruned. \n",
      "[I 2024-04-25 08:09:31,353] Trial 48 pruned. \n",
      "[I 2024-04-25 09:02:10,447] Trial 49 finished with value: 0.2528515717409153 and parameters: {'n_layers': 6, 'n_units_l0': 46, 'dropout_0': 0.16425262502015475, 'n_units_l1': 21, 'dropout_1': 0.1656144640721573, 'n_units_l2': 29, 'dropout_2': 0.12159403792116025, 'n_units_l3': 46, 'dropout_3': 0.13404330833826347, 'n_units_l4': 43, 'dropout_4': 0.23189589600107752, 'n_units_l5': 35, 'dropout_5': 0.17192338753497655, 'learning_rate': 0.0003438434507122743, 'optimizer': 'RMSprop'}. Best is trial 49 with value: 0.2528515717409153.\n"
     ]
    },
    {
     "name": "stdout",
     "output_type": "stream",
     "text": [
      "Validation Accuracy: 2.9518389033918474e-05\n",
      "Validation Loss: 0.25368164440050966\n",
      "Training Accuracy: 0.0005359432508970823\n",
      "Training Loss: 0.2705617740053688\n"
     ]
    },
    {
     "data": {
      "text/plain": [
       "(2.9518389033918474e-05,\n",
       " 0.25368164440050966,\n",
       " 0.0005359432508970823,\n",
       " 0.2705617740053688)"
      ]
     },
     "execution_count": 31,
     "metadata": {},
     "output_type": "execute_result"
    }
   ],
   "source": [
    "# no accuracy function must be loss for regression\n",
    "if mlp_params.MODEL_TYPE == \"Regression\":\n",
    "    mlp_params.METRIC = \"loss\"\n",
    "    pass\n",
    "\n",
    "\n",
    "# wrap the objective function inside of a lambda function to pass args...\n",
    "objective_lambda_func = lambda trial: objective_model_optimizer(\n",
    "    train_loader,\n",
    "    valid_loader,\n",
    "    trial=trial,\n",
    "    params=params,\n",
    "    metric=mlp_params.METRIC,\n",
    "    return_info=False,\n",
    "    class_weights=class_weights,\n",
    ")\n",
    "\n",
    "\n",
    "# Study is the object for model optimization\n",
    "study = optuna.create_study(direction=f\"{mlp_params.DIRECTION}\")\n",
    "# Here I apply the optimize function of the study to the objective function\n",
    "# This optimizes each parameter specified to be optimized from the defined search space\n",
    "study.optimize(objective_lambda_func, n_trials=mlp_params.N_TRIALS)\n",
    "# Prints out the best trial's optimized parameters\n",
    "objective_model_optimizer(\n",
    "    train_loader,\n",
    "    valid_loader,\n",
    "    trial=study.best_trial,\n",
    "    params=params,\n",
    "    metric=mlp_params.METRIC,\n",
    "    return_info=True,\n",
    "    class_weights=class_weights,\n",
    ")"
   ]
  },
  {
   "cell_type": "code",
   "execution_count": 32,
   "id": "b2620589",
   "metadata": {
    "execution": {
     "iopub.execute_input": "2023-10-18T18:17:37.298015Z",
     "iopub.status.busy": "2023-10-18T18:17:37.297873Z",
     "iopub.status.idle": "2023-10-18T18:17:37.750921Z",
     "shell.execute_reply": "2023-10-18T18:17:37.750533Z"
    },
    "papermill": {
     "duration": null,
     "end_time": null,
     "exception": null,
     "start_time": null,
     "status": "completed"
    },
    "tags": []
   },
   "outputs": [
    {
     "data": {
      "application/vnd.plotly.v1+json": {
       "config": {
        "plotlyServerURL": "https://plot.ly"
       },
       "data": [
        {
         "mode": "markers",
         "name": "Objective Value",
         "type": "scatter",
         "x": [
          0,
          1,
          2,
          3,
          4,
          6,
          7,
          10,
          11,
          12,
          13,
          22,
          23,
          24,
          26,
          27,
          29,
          30,
          31,
          32,
          33,
          34,
          38,
          40,
          42,
          44,
          49
         ],
         "y": [
          0.2821488585184511,
          0.5045091540225084,
          0.5053188168289032,
          0.5063181116007968,
          0.5043116205996571,
          0.5043121927592417,
          0.2647319057270967,
          0.39163628856999666,
          0.3321623447257511,
          0.27003538263821025,
          0.322758803687043,
          0.27560192663476396,
          0.26694326651579325,
          0.28449929901029963,
          0.273720593685713,
          0.26710633322569105,
          0.27067237304005615,
          0.270093500305715,
          0.27053545783567157,
          0.2614223982912401,
          0.2638335804161007,
          0.2643865818334109,
          0.2718913722224876,
          0.270876448344899,
          0.2612168933547224,
          0.26631339524496983,
          0.2528515717409153
         ]
        },
        {
         "mode": "lines",
         "name": "Best Value",
         "type": "scatter",
         "x": [
          0,
          1,
          2,
          3,
          4,
          5,
          6,
          7,
          8,
          9,
          10,
          11,
          12,
          13,
          14,
          15,
          16,
          17,
          18,
          19,
          20,
          21,
          22,
          23,
          24,
          25,
          26,
          27,
          28,
          29,
          30,
          31,
          32,
          33,
          34,
          35,
          36,
          37,
          38,
          39,
          40,
          41,
          42,
          43,
          44,
          45,
          46,
          47,
          48,
          49
         ],
         "y": [
          0.2821488585184511,
          0.2821488585184511,
          0.2821488585184511,
          0.2821488585184511,
          0.2821488585184511,
          0.2821488585184511,
          0.2821488585184511,
          0.2647319057270967,
          0.2647319057270967,
          0.2647319057270967,
          0.2647319057270967,
          0.2647319057270967,
          0.2647319057270967,
          0.2647319057270967,
          0.2647319057270967,
          0.2647319057270967,
          0.2647319057270967,
          0.2647319057270967,
          0.2647319057270967,
          0.2647319057270967,
          0.2647319057270967,
          0.2647319057270967,
          0.2647319057270967,
          0.2647319057270967,
          0.2647319057270967,
          0.2647319057270967,
          0.2647319057270967,
          0.2647319057270967,
          0.2647319057270967,
          0.2647319057270967,
          0.2647319057270967,
          0.2647319057270967,
          0.2614223982912401,
          0.2614223982912401,
          0.2614223982912401,
          0.2614223982912401,
          0.2614223982912401,
          0.2614223982912401,
          0.2614223982912401,
          0.2614223982912401,
          0.2614223982912401,
          0.2614223982912401,
          0.2612168933547224,
          0.2612168933547224,
          0.2612168933547224,
          0.2612168933547224,
          0.2612168933547224,
          0.2612168933547224,
          0.2612168933547224,
          0.2528515717409153
         ]
        },
        {
         "marker": {
          "color": "#cccccc"
         },
         "mode": "markers",
         "name": "Infeasible Trial",
         "showlegend": false,
         "type": "scatter",
         "x": [],
         "y": []
        }
       ],
       "layout": {
        "template": {
         "data": {
          "bar": [
           {
            "error_x": {
             "color": "#2a3f5f"
            },
            "error_y": {
             "color": "#2a3f5f"
            },
            "marker": {
             "line": {
              "color": "#E5ECF6",
              "width": 0.5
             },
             "pattern": {
              "fillmode": "overlay",
              "size": 10,
              "solidity": 0.2
             }
            },
            "type": "bar"
           }
          ],
          "barpolar": [
           {
            "marker": {
             "line": {
              "color": "#E5ECF6",
              "width": 0.5
             },
             "pattern": {
              "fillmode": "overlay",
              "size": 10,
              "solidity": 0.2
             }
            },
            "type": "barpolar"
           }
          ],
          "carpet": [
           {
            "aaxis": {
             "endlinecolor": "#2a3f5f",
             "gridcolor": "white",
             "linecolor": "white",
             "minorgridcolor": "white",
             "startlinecolor": "#2a3f5f"
            },
            "baxis": {
             "endlinecolor": "#2a3f5f",
             "gridcolor": "white",
             "linecolor": "white",
             "minorgridcolor": "white",
             "startlinecolor": "#2a3f5f"
            },
            "type": "carpet"
           }
          ],
          "choropleth": [
           {
            "colorbar": {
             "outlinewidth": 0,
             "ticks": ""
            },
            "type": "choropleth"
           }
          ],
          "contour": [
           {
            "colorbar": {
             "outlinewidth": 0,
             "ticks": ""
            },
            "colorscale": [
             [
              0,
              "#0d0887"
             ],
             [
              0.1111111111111111,
              "#46039f"
             ],
             [
              0.2222222222222222,
              "#7201a8"
             ],
             [
              0.3333333333333333,
              "#9c179e"
             ],
             [
              0.4444444444444444,
              "#bd3786"
             ],
             [
              0.5555555555555556,
              "#d8576b"
             ],
             [
              0.6666666666666666,
              "#ed7953"
             ],
             [
              0.7777777777777778,
              "#fb9f3a"
             ],
             [
              0.8888888888888888,
              "#fdca26"
             ],
             [
              1,
              "#f0f921"
             ]
            ],
            "type": "contour"
           }
          ],
          "contourcarpet": [
           {
            "colorbar": {
             "outlinewidth": 0,
             "ticks": ""
            },
            "type": "contourcarpet"
           }
          ],
          "heatmap": [
           {
            "colorbar": {
             "outlinewidth": 0,
             "ticks": ""
            },
            "colorscale": [
             [
              0,
              "#0d0887"
             ],
             [
              0.1111111111111111,
              "#46039f"
             ],
             [
              0.2222222222222222,
              "#7201a8"
             ],
             [
              0.3333333333333333,
              "#9c179e"
             ],
             [
              0.4444444444444444,
              "#bd3786"
             ],
             [
              0.5555555555555556,
              "#d8576b"
             ],
             [
              0.6666666666666666,
              "#ed7953"
             ],
             [
              0.7777777777777778,
              "#fb9f3a"
             ],
             [
              0.8888888888888888,
              "#fdca26"
             ],
             [
              1,
              "#f0f921"
             ]
            ],
            "type": "heatmap"
           }
          ],
          "heatmapgl": [
           {
            "colorbar": {
             "outlinewidth": 0,
             "ticks": ""
            },
            "colorscale": [
             [
              0,
              "#0d0887"
             ],
             [
              0.1111111111111111,
              "#46039f"
             ],
             [
              0.2222222222222222,
              "#7201a8"
             ],
             [
              0.3333333333333333,
              "#9c179e"
             ],
             [
              0.4444444444444444,
              "#bd3786"
             ],
             [
              0.5555555555555556,
              "#d8576b"
             ],
             [
              0.6666666666666666,
              "#ed7953"
             ],
             [
              0.7777777777777778,
              "#fb9f3a"
             ],
             [
              0.8888888888888888,
              "#fdca26"
             ],
             [
              1,
              "#f0f921"
             ]
            ],
            "type": "heatmapgl"
           }
          ],
          "histogram": [
           {
            "marker": {
             "pattern": {
              "fillmode": "overlay",
              "size": 10,
              "solidity": 0.2
             }
            },
            "type": "histogram"
           }
          ],
          "histogram2d": [
           {
            "colorbar": {
             "outlinewidth": 0,
             "ticks": ""
            },
            "colorscale": [
             [
              0,
              "#0d0887"
             ],
             [
              0.1111111111111111,
              "#46039f"
             ],
             [
              0.2222222222222222,
              "#7201a8"
             ],
             [
              0.3333333333333333,
              "#9c179e"
             ],
             [
              0.4444444444444444,
              "#bd3786"
             ],
             [
              0.5555555555555556,
              "#d8576b"
             ],
             [
              0.6666666666666666,
              "#ed7953"
             ],
             [
              0.7777777777777778,
              "#fb9f3a"
             ],
             [
              0.8888888888888888,
              "#fdca26"
             ],
             [
              1,
              "#f0f921"
             ]
            ],
            "type": "histogram2d"
           }
          ],
          "histogram2dcontour": [
           {
            "colorbar": {
             "outlinewidth": 0,
             "ticks": ""
            },
            "colorscale": [
             [
              0,
              "#0d0887"
             ],
             [
              0.1111111111111111,
              "#46039f"
             ],
             [
              0.2222222222222222,
              "#7201a8"
             ],
             [
              0.3333333333333333,
              "#9c179e"
             ],
             [
              0.4444444444444444,
              "#bd3786"
             ],
             [
              0.5555555555555556,
              "#d8576b"
             ],
             [
              0.6666666666666666,
              "#ed7953"
             ],
             [
              0.7777777777777778,
              "#fb9f3a"
             ],
             [
              0.8888888888888888,
              "#fdca26"
             ],
             [
              1,
              "#f0f921"
             ]
            ],
            "type": "histogram2dcontour"
           }
          ],
          "mesh3d": [
           {
            "colorbar": {
             "outlinewidth": 0,
             "ticks": ""
            },
            "type": "mesh3d"
           }
          ],
          "parcoords": [
           {
            "line": {
             "colorbar": {
              "outlinewidth": 0,
              "ticks": ""
             }
            },
            "type": "parcoords"
           }
          ],
          "pie": [
           {
            "automargin": true,
            "type": "pie"
           }
          ],
          "scatter": [
           {
            "fillpattern": {
             "fillmode": "overlay",
             "size": 10,
             "solidity": 0.2
            },
            "type": "scatter"
           }
          ],
          "scatter3d": [
           {
            "line": {
             "colorbar": {
              "outlinewidth": 0,
              "ticks": ""
             }
            },
            "marker": {
             "colorbar": {
              "outlinewidth": 0,
              "ticks": ""
             }
            },
            "type": "scatter3d"
           }
          ],
          "scattercarpet": [
           {
            "marker": {
             "colorbar": {
              "outlinewidth": 0,
              "ticks": ""
             }
            },
            "type": "scattercarpet"
           }
          ],
          "scattergeo": [
           {
            "marker": {
             "colorbar": {
              "outlinewidth": 0,
              "ticks": ""
             }
            },
            "type": "scattergeo"
           }
          ],
          "scattergl": [
           {
            "marker": {
             "colorbar": {
              "outlinewidth": 0,
              "ticks": ""
             }
            },
            "type": "scattergl"
           }
          ],
          "scattermapbox": [
           {
            "marker": {
             "colorbar": {
              "outlinewidth": 0,
              "ticks": ""
             }
            },
            "type": "scattermapbox"
           }
          ],
          "scatterpolar": [
           {
            "marker": {
             "colorbar": {
              "outlinewidth": 0,
              "ticks": ""
             }
            },
            "type": "scatterpolar"
           }
          ],
          "scatterpolargl": [
           {
            "marker": {
             "colorbar": {
              "outlinewidth": 0,
              "ticks": ""
             }
            },
            "type": "scatterpolargl"
           }
          ],
          "scatterternary": [
           {
            "marker": {
             "colorbar": {
              "outlinewidth": 0,
              "ticks": ""
             }
            },
            "type": "scatterternary"
           }
          ],
          "surface": [
           {
            "colorbar": {
             "outlinewidth": 0,
             "ticks": ""
            },
            "colorscale": [
             [
              0,
              "#0d0887"
             ],
             [
              0.1111111111111111,
              "#46039f"
             ],
             [
              0.2222222222222222,
              "#7201a8"
             ],
             [
              0.3333333333333333,
              "#9c179e"
             ],
             [
              0.4444444444444444,
              "#bd3786"
             ],
             [
              0.5555555555555556,
              "#d8576b"
             ],
             [
              0.6666666666666666,
              "#ed7953"
             ],
             [
              0.7777777777777778,
              "#fb9f3a"
             ],
             [
              0.8888888888888888,
              "#fdca26"
             ],
             [
              1,
              "#f0f921"
             ]
            ],
            "type": "surface"
           }
          ],
          "table": [
           {
            "cells": {
             "fill": {
              "color": "#EBF0F8"
             },
             "line": {
              "color": "white"
             }
            },
            "header": {
             "fill": {
              "color": "#C8D4E3"
             },
             "line": {
              "color": "white"
             }
            },
            "type": "table"
           }
          ]
         },
         "layout": {
          "annotationdefaults": {
           "arrowcolor": "#2a3f5f",
           "arrowhead": 0,
           "arrowwidth": 1
          },
          "autotypenumbers": "strict",
          "coloraxis": {
           "colorbar": {
            "outlinewidth": 0,
            "ticks": ""
           }
          },
          "colorscale": {
           "diverging": [
            [
             0,
             "#8e0152"
            ],
            [
             0.1,
             "#c51b7d"
            ],
            [
             0.2,
             "#de77ae"
            ],
            [
             0.3,
             "#f1b6da"
            ],
            [
             0.4,
             "#fde0ef"
            ],
            [
             0.5,
             "#f7f7f7"
            ],
            [
             0.6,
             "#e6f5d0"
            ],
            [
             0.7,
             "#b8e186"
            ],
            [
             0.8,
             "#7fbc41"
            ],
            [
             0.9,
             "#4d9221"
            ],
            [
             1,
             "#276419"
            ]
           ],
           "sequential": [
            [
             0,
             "#0d0887"
            ],
            [
             0.1111111111111111,
             "#46039f"
            ],
            [
             0.2222222222222222,
             "#7201a8"
            ],
            [
             0.3333333333333333,
             "#9c179e"
            ],
            [
             0.4444444444444444,
             "#bd3786"
            ],
            [
             0.5555555555555556,
             "#d8576b"
            ],
            [
             0.6666666666666666,
             "#ed7953"
            ],
            [
             0.7777777777777778,
             "#fb9f3a"
            ],
            [
             0.8888888888888888,
             "#fdca26"
            ],
            [
             1,
             "#f0f921"
            ]
           ],
           "sequentialminus": [
            [
             0,
             "#0d0887"
            ],
            [
             0.1111111111111111,
             "#46039f"
            ],
            [
             0.2222222222222222,
             "#7201a8"
            ],
            [
             0.3333333333333333,
             "#9c179e"
            ],
            [
             0.4444444444444444,
             "#bd3786"
            ],
            [
             0.5555555555555556,
             "#d8576b"
            ],
            [
             0.6666666666666666,
             "#ed7953"
            ],
            [
             0.7777777777777778,
             "#fb9f3a"
            ],
            [
             0.8888888888888888,
             "#fdca26"
            ],
            [
             1,
             "#f0f921"
            ]
           ]
          },
          "colorway": [
           "#636efa",
           "#EF553B",
           "#00cc96",
           "#ab63fa",
           "#FFA15A",
           "#19d3f3",
           "#FF6692",
           "#B6E880",
           "#FF97FF",
           "#FECB52"
          ],
          "font": {
           "color": "#2a3f5f"
          },
          "geo": {
           "bgcolor": "white",
           "lakecolor": "white",
           "landcolor": "#E5ECF6",
           "showlakes": true,
           "showland": true,
           "subunitcolor": "white"
          },
          "hoverlabel": {
           "align": "left"
          },
          "hovermode": "closest",
          "mapbox": {
           "style": "light"
          },
          "paper_bgcolor": "white",
          "plot_bgcolor": "#E5ECF6",
          "polar": {
           "angularaxis": {
            "gridcolor": "white",
            "linecolor": "white",
            "ticks": ""
           },
           "bgcolor": "#E5ECF6",
           "radialaxis": {
            "gridcolor": "white",
            "linecolor": "white",
            "ticks": ""
           }
          },
          "scene": {
           "xaxis": {
            "backgroundcolor": "#E5ECF6",
            "gridcolor": "white",
            "gridwidth": 2,
            "linecolor": "white",
            "showbackground": true,
            "ticks": "",
            "zerolinecolor": "white"
           },
           "yaxis": {
            "backgroundcolor": "#E5ECF6",
            "gridcolor": "white",
            "gridwidth": 2,
            "linecolor": "white",
            "showbackground": true,
            "ticks": "",
            "zerolinecolor": "white"
           },
           "zaxis": {
            "backgroundcolor": "#E5ECF6",
            "gridcolor": "white",
            "gridwidth": 2,
            "linecolor": "white",
            "showbackground": true,
            "ticks": "",
            "zerolinecolor": "white"
           }
          },
          "shapedefaults": {
           "line": {
            "color": "#2a3f5f"
           }
          },
          "ternary": {
           "aaxis": {
            "gridcolor": "white",
            "linecolor": "white",
            "ticks": ""
           },
           "baxis": {
            "gridcolor": "white",
            "linecolor": "white",
            "ticks": ""
           },
           "bgcolor": "#E5ECF6",
           "caxis": {
            "gridcolor": "white",
            "linecolor": "white",
            "ticks": ""
           }
          },
          "title": {
           "x": 0.05
          },
          "xaxis": {
           "automargin": true,
           "gridcolor": "white",
           "linecolor": "white",
           "ticks": "",
           "title": {
            "standoff": 15
           },
           "zerolinecolor": "white",
           "zerolinewidth": 2
          },
          "yaxis": {
           "automargin": true,
           "gridcolor": "white",
           "linecolor": "white",
           "ticks": "",
           "title": {
            "standoff": 15
           },
           "zerolinecolor": "white",
           "zerolinewidth": 2
          }
         }
        },
        "title": {
         "text": "Optimization History Plot"
        },
        "xaxis": {
         "title": {
          "text": "Trial"
         }
        },
        "yaxis": {
         "title": {
          "text": "Objective Value"
         }
        }
       }
      }
     },
     "metadata": {},
     "output_type": "display_data"
    }
   ],
   "source": [
    "# create graph directory for this model\n",
    "graph_path = pathlib.Path(\n",
    "    f\"../../figures/{mlp_params.MODEL_TYPE}/{mlp_params.MODEL_NAME}/{mlp_params.CELL_TYPE}/hyperparameter_optimization\"\n",
    ")\n",
    "\n",
    "pathlib.Path(graph_path).mkdir(parents=True, exist_ok=True)\n",
    "fig = optuna.visualization.plot_optimization_history(study)\n",
    "\n",
    "\n",
    "graph_path = f\"{graph_path}/plot_optimization_history_graph\"\n",
    "\n",
    "fig.write_image(pathlib.Path(f\"{graph_path}.png\"))\n",
    "fig.show()"
   ]
  },
  {
   "cell_type": "code",
   "execution_count": 33,
   "id": "92103de1",
   "metadata": {
    "execution": {
     "iopub.execute_input": "2023-10-18T18:17:37.839841Z",
     "iopub.status.busy": "2023-10-18T18:17:37.839637Z",
     "iopub.status.idle": "2023-10-18T18:17:37.910906Z",
     "shell.execute_reply": "2023-10-18T18:17:37.910591Z"
    },
    "papermill": {
     "duration": null,
     "end_time": null,
     "exception": null,
     "start_time": null,
     "status": "completed"
    },
    "tags": []
   },
   "outputs": [
    {
     "data": {
      "application/vnd.plotly.v1+json": {
       "config": {
        "plotlyServerURL": "https://plot.ly"
       },
       "data": [
        {
         "marker": {
          "maxdisplayed": 10
         },
         "mode": "lines+markers",
         "name": "Trial0",
         "type": "scatter",
         "x": [
          0,
          1,
          2,
          3,
          4,
          5,
          6,
          7,
          8,
          9,
          10,
          11,
          12,
          13,
          14,
          15,
          16,
          17,
          18,
          19,
          20,
          21,
          22,
          23,
          24,
          25,
          26,
          27,
          28,
          29,
          30,
          31,
          32,
          33,
          34,
          35,
          36,
          37,
          38,
          39,
          40,
          41,
          42,
          43,
          44,
          45,
          46,
          47,
          48,
          49
         ],
         "y": [
          0.40333763116191984,
          0.3897836191054866,
          0.37891542825543717,
          0.3701194654978661,
          0.36293353763294045,
          0.35684259416063263,
          0.35152351202321225,
          0.34685504617612006,
          0.3427481745097787,
          0.33894338624253456,
          0.33556054046300515,
          0.3323639036688503,
          0.3294026021841549,
          0.3266961677541422,
          0.32416173704860396,
          0.321908897464721,
          0.31971790195931954,
          0.3175976708522232,
          0.31560775744218256,
          0.31371312494189035,
          0.31195705788920425,
          0.3102193082020586,
          0.30862021582007676,
          0.3070610092210762,
          0.30558027316193553,
          0.30413865837906956,
          0.30276081031349084,
          0.30142499871749967,
          0.30012123124814605,
          0.29892663275577164,
          0.2977720318795993,
          0.29673851955112607,
          0.2956826374665708,
          0.29463338400664535,
          0.2936066606019052,
          0.29271919205586605,
          0.29181712753909445,
          0.290868866908853,
          0.2900157624203619,
          0.2891330716174446,
          0.2883757086357691,
          0.2876282825374733,
          0.2868772140878841,
          0.2861323176357548,
          0.2854075810698027,
          0.2846983648667783,
          0.2839882727097131,
          0.2834724302862715,
          0.2827763648794492,
          0.2821488585184511
         ]
        },
        {
         "marker": {
          "maxdisplayed": 10
         },
         "mode": "lines+markers",
         "name": "Trial1",
         "type": "scatter",
         "x": [
          0,
          1,
          2,
          3,
          4,
          5,
          6,
          7,
          8,
          9,
          10,
          11,
          12,
          13,
          14,
          15,
          16,
          17,
          18,
          19,
          20,
          21,
          22,
          23,
          24,
          25,
          26,
          27,
          28,
          29,
          30,
          31,
          32,
          33,
          34,
          35,
          36,
          37,
          38,
          39,
          40,
          41,
          42,
          43,
          44,
          45,
          46,
          47,
          48,
          49
         ],
         "y": [
          0.5045593691025869,
          0.5044836982892582,
          0.5046316242203381,
          0.5045621334051997,
          0.5045197210698277,
          0.5045105012521339,
          0.5044944679790407,
          0.504494335872857,
          0.5045313607617002,
          0.5045146449604527,
          0.5045380782097125,
          0.504560067696283,
          0.5045430615115798,
          0.5045281231983559,
          0.5045183368589777,
          0.5045241395845104,
          0.5045202124959507,
          0.5045098915516245,
          0.5045290242288768,
          0.5045255583266747,
          0.5045235504510684,
          0.5045192207740057,
          0.5045389398289353,
          0.5045325853012873,
          0.5045249093918072,
          0.5045205023018864,
          0.5045218997226553,
          0.5045151275354007,
          0.5045167354751771,
          0.5045112496215629,
          0.5045056166881434,
          0.5045064278255675,
          0.5045072203239591,
          0.5045034840078296,
          0.5044983530540086,
          0.5045011581325912,
          0.5044961079467815,
          0.5044916077424265,
          0.5044887878812394,
          0.5044882233410689,
          0.5044863442443362,
          0.5044832480541291,
          0.5044862883234642,
          0.5045042533584021,
          0.504508538141996,
          0.5045108528128711,
          0.5045087532182316,
          0.504506554214445,
          0.5045029457378366,
          0.5045091540225084
         ]
        },
        {
         "marker": {
          "maxdisplayed": 10
         },
         "mode": "lines+markers",
         "name": "Trial2",
         "type": "scatter",
         "x": [
          0,
          1,
          2,
          3,
          4,
          5,
          6,
          7,
          8,
          9,
          10,
          11,
          12,
          13,
          14,
          15,
          16,
          17,
          18,
          19,
          20,
          21,
          22,
          23,
          24,
          25,
          26,
          27,
          28,
          29,
          30,
          31,
          32,
          33,
          34,
          35,
          36,
          37,
          38,
          39,
          40,
          41,
          42,
          43,
          44,
          45,
          46,
          47,
          48,
          49
         ],
         "y": [
          0.5056433888430095,
          0.5054502261058182,
          0.5053460891441454,
          0.5051981679697283,
          0.5052653379532513,
          0.5051905045650574,
          0.5051928671119527,
          0.5051700017289782,
          0.5051550801873135,
          0.5050952457152238,
          0.505026920564646,
          0.504971068478238,
          0.5049280305728813,
          0.5049992309639687,
          0.5049752777306268,
          0.5049487284177134,
          0.5049576719046646,
          0.5049839999861382,
          0.50496121352179,
          0.5050693798817104,
          0.5050888203622207,
          0.5050740149324311,
          0.5050525530601238,
          0.5050272253245353,
          0.5050199127285081,
          0.5050077504680386,
          0.5050045478519595,
          0.5050955037734629,
          0.5050915269527828,
          0.5050756395137551,
          0.50508026204446,
          0.50509522803313,
          0.50508626682949,
          0.5050878516063312,
          0.5050727232024407,
          0.5051800007725118,
          0.5051758299349884,
          0.5051855113116464,
          0.5051920683904529,
          0.5051871953473784,
          0.5052128342912187,
          0.5052646404071971,
          0.5052511567956931,
          0.5052570352327996,
          0.505236553533545,
          0.505285001790679,
          0.5053058160081897,
          0.5053264198434854,
          0.5053164684295779,
          0.5053188168289032
         ]
        },
        {
         "marker": {
          "maxdisplayed": 10
         },
         "mode": "lines+markers",
         "name": "Trial3",
         "type": "scatter",
         "x": [
          0,
          1,
          2,
          3,
          4,
          5,
          6,
          7,
          8,
          9,
          10,
          11,
          12,
          13,
          14,
          15,
          16,
          17,
          18,
          19,
          20,
          21,
          22,
          23,
          24,
          25,
          26,
          27,
          28,
          29,
          30,
          31,
          32,
          33,
          34,
          35,
          36,
          37,
          38,
          39,
          40,
          41,
          42,
          43,
          44,
          45,
          46,
          47,
          48,
          49
         ],
         "y": [
          0.506096048139955,
          0.5059952808074091,
          0.5060578153461236,
          0.5062686376973411,
          0.5059553808599546,
          0.5058026687454197,
          0.5056920577212091,
          0.505525496248053,
          0.5056268556219975,
          0.5055871392152587,
          0.5057514908075054,
          0.5058832619455859,
          0.5059152007280286,
          0.5058309953523542,
          0.5059408200343304,
          0.5059346611445176,
          0.5059259776697943,
          0.505925206528111,
          0.5060395562938794,
          0.506300440285197,
          0.5064326438016874,
          0.5065174517486036,
          0.5068901563122176,
          0.5067825688631201,
          0.5067347399766932,
          0.5066752071644229,
          0.506648870229103,
          0.5066142668205165,
          0.5065875783692301,
          0.5065312277857257,
          0.5065425112272536,
          0.5064759728092267,
          0.5064498409025968,
          0.5064008326862217,
          0.5063426327592477,
          0.5063792030053169,
          0.5063322482194035,
          0.5063377573524344,
          0.5063080565080643,
          0.5063164339663244,
          0.50634124529162,
          0.506333521451227,
          0.5063111341197697,
          0.5063032614908862,
          0.5062859017265483,
          0.5063599660242134,
          0.5063441877891349,
          0.506367887194772,
          0.5063411086796593,
          0.5063181116007968
         ]
        },
        {
         "marker": {
          "maxdisplayed": 10
         },
         "mode": "lines+markers",
         "name": "Trial4",
         "type": "scatter",
         "x": [
          0,
          1,
          2,
          3,
          4,
          5,
          6,
          7,
          8,
          9,
          10,
          11,
          12,
          13,
          14,
          15,
          16,
          17,
          18,
          19,
          20,
          21,
          22,
          23,
          24,
          25,
          26,
          27,
          28,
          29,
          30,
          31,
          32,
          33,
          34,
          35,
          36,
          37,
          38,
          39,
          40,
          41,
          42,
          43,
          44,
          45,
          46,
          47,
          48,
          49
         ],
         "y": [
          0.5043203810411703,
          0.5043138357541399,
          0.5043128710754669,
          0.5043130972547865,
          0.5043121992883102,
          0.5043114307305064,
          0.5043109579874759,
          0.5043108571821594,
          0.5043110304969646,
          0.5043116675116959,
          0.5043115396805391,
          0.5043111653956188,
          0.504310905443641,
          0.5043109598300295,
          0.5043107575730652,
          0.5043107993784146,
          0.5043106065896981,
          0.5043110309055497,
          0.5043108217404473,
          0.5043108890481417,
          0.504310734277962,
          0.5043106426895113,
          0.5043104897126518,
          0.5043108874281321,
          0.5043108582101474,
          0.5043110376246879,
          0.5043109484343662,
          0.5043110110686975,
          0.5043108841423127,
          0.5043108277539669,
          0.504310778748123,
          0.5043109298493322,
          0.5043108468193702,
          0.5043109760581059,
          0.5043109345141288,
          0.5043109028628934,
          0.5043111617474018,
          0.5043112997778444,
          0.5043117378188321,
          0.5043116974045778,
          0.5043116895619072,
          0.5043116562080877,
          0.5043116928530513,
          0.5043116865766002,
          0.5043117005912369,
          0.5043116040197916,
          0.5043115993976068,
          0.5043116470111649,
          0.5043115715835454,
          0.5043116205996571
         ]
        },
        {
         "marker": {
          "maxdisplayed": 10
         },
         "mode": "lines+markers",
         "name": "Trial5",
         "type": "scatter",
         "x": [
          0
         ],
         "y": [
          0.5052927691304223
         ]
        },
        {
         "marker": {
          "maxdisplayed": 10
         },
         "mode": "lines+markers",
         "name": "Trial6",
         "type": "scatter",
         "x": [
          0,
          1,
          2,
          3,
          4,
          5,
          6,
          7,
          8,
          9,
          10,
          11,
          12,
          13,
          14,
          15,
          16,
          17,
          18,
          19,
          20,
          21,
          22,
          23,
          24,
          25,
          26,
          27,
          28,
          29,
          30,
          31,
          32,
          33,
          34,
          35,
          36,
          37,
          38,
          39,
          40,
          41,
          42,
          43,
          44,
          45,
          46,
          47,
          48,
          49
         ],
         "y": [
          0.5043650495632797,
          0.5043386029933697,
          0.5043290079444959,
          0.5043246786540605,
          0.5043232737434943,
          0.5043206143097471,
          0.5043193301505963,
          0.5043185960302476,
          0.5043180640523899,
          0.5043175210226087,
          0.5043170489389535,
          0.5043162603578443,
          0.5043159852893887,
          0.5043161147105258,
          0.5043161131327251,
          0.5043157877273597,
          0.5043157307198448,
          0.5043155778422785,
          0.5043153653885952,
          0.5043151866967068,
          0.5043150097207523,
          0.50431488630222,
          0.504314661527121,
          0.5043144431799887,
          0.5043143198371591,
          0.5043140940958184,
          0.5043140909338573,
          0.5043140056904948,
          0.5043137898602289,
          0.5043136086472709,
          0.504313573392609,
          0.5043137609859171,
          0.5043135866671643,
          0.5043134365834933,
          0.5043133315915215,
          0.5043132119086565,
          0.5043132636306902,
          0.5043131695984291,
          0.5043130433665809,
          0.5043128986974996,
          0.5043128023506127,
          0.5043127014298696,
          0.5043125946193269,
          0.5043125223189407,
          0.504312483242789,
          0.5043123880960092,
          0.5043122909934229,
          0.5043123647035485,
          0.5043122753325644,
          0.5043121927592417
         ]
        },
        {
         "marker": {
          "maxdisplayed": 10
         },
         "mode": "lines+markers",
         "name": "Trial7",
         "type": "scatter",
         "x": [
          0,
          1,
          2,
          3,
          4,
          5,
          6,
          7,
          8,
          9,
          10,
          11,
          12,
          13,
          14,
          15,
          16,
          17,
          18,
          19,
          20,
          21,
          22,
          23,
          24,
          25,
          26,
          27,
          28,
          29,
          30,
          31,
          32,
          33,
          34,
          35,
          36,
          37,
          38,
          39,
          40,
          41,
          42,
          43,
          44,
          45,
          46,
          47,
          48,
          49
         ],
         "y": [
          0.31585842552106025,
          0.3041906411421672,
          0.303326474057889,
          0.29871366282112033,
          0.2950663925314916,
          0.2942295284304903,
          0.29087422786183,
          0.288663215163416,
          0.28814547826828146,
          0.2855703326549319,
          0.2849268109783862,
          0.2834329106544811,
          0.28172453339941894,
          0.2797549029704897,
          0.2791777121647506,
          0.2792289045075054,
          0.278826964941421,
          0.2776898735044484,
          0.27618476907776185,
          0.27594327945708136,
          0.2749981607934378,
          0.2750135567653585,
          0.2742798738697626,
          0.2732956161444688,
          0.2728828482338078,
          0.273041901484877,
          0.27229332560939523,
          0.27183613840415116,
          0.27127715575246125,
          0.27076127683186985,
          0.2705681589248098,
          0.2698301275674096,
          0.2700488893848969,
          0.2697002745405293,
          0.26924254370187334,
          0.26984579077991744,
          0.2696921347260481,
          0.26938556502571837,
          0.2690930112562386,
          0.2685450344969061,
          0.26798461257744766,
          0.26738390739833034,
          0.26705492924311885,
          0.2667971129418318,
          0.2663136439800799,
          0.26597754330884293,
          0.2658407235267249,
          0.2655051138859181,
          0.26507956491696527,
          0.2647319057270967
         ]
        },
        {
         "marker": {
          "maxdisplayed": 10
         },
         "mode": "lines+markers",
         "name": "Trial8",
         "type": "scatter",
         "x": [
          0
         ],
         "y": [
          0.504502193813605
         ]
        },
        {
         "marker": {
          "maxdisplayed": 10
         },
         "mode": "lines+markers",
         "name": "Trial9",
         "type": "scatter",
         "x": [
          0
         ],
         "y": [
          0.5046121306840886
         ]
        },
        {
         "marker": {
          "maxdisplayed": 10
         },
         "mode": "lines+markers",
         "name": "Trial10",
         "type": "scatter",
         "x": [
          0,
          1,
          2,
          3,
          4,
          5,
          6,
          7,
          8,
          9,
          10,
          11,
          12,
          13,
          14,
          15,
          16,
          17,
          18,
          19,
          20,
          21,
          22,
          23,
          24,
          25,
          26,
          27,
          28,
          29,
          30,
          31,
          32,
          33,
          34,
          35,
          36,
          37,
          38,
          39,
          40,
          41,
          42,
          43,
          44,
          45,
          46,
          47,
          48,
          49
         ],
         "y": [
          0.4113538339871289,
          0.4233687670136464,
          0.41493603568855714,
          0.41101597294787673,
          0.40842781661843286,
          0.4059850544176488,
          0.40498685098986537,
          0.4041213547642828,
          0.4032423207614474,
          0.40191559939204435,
          0.4003340668730573,
          0.3999774858053656,
          0.3986392034140401,
          0.39816898593649164,
          0.39727186108016016,
          0.39651840615118844,
          0.395985548506061,
          0.39539909823823366,
          0.39522976412888217,
          0.39494362133477934,
          0.39469017322979444,
          0.3943385479065235,
          0.3940707322394115,
          0.3939888421320308,
          0.39374742351842845,
          0.3937586671840977,
          0.3936516420674205,
          0.3933510087847991,
          0.3932468651582106,
          0.3929576708485261,
          0.39270238089581283,
          0.3924918939474401,
          0.3926740564354776,
          0.3924884112845804,
          0.3924125433171997,
          0.3923667103756492,
          0.3920770553481401,
          0.3918726235466363,
          0.39160332041061,
          0.39181421541541983,
          0.3918680160366257,
          0.39162344155364487,
          0.3915903418866913,
          0.391608231454444,
          0.39152481882318974,
          0.3916737781601191,
          0.39154259340571856,
          0.39171290345618043,
          0.3917241525749937,
          0.39163628856999666
         ]
        },
        {
         "marker": {
          "maxdisplayed": 10
         },
         "mode": "lines+markers",
         "name": "Trial11",
         "type": "scatter",
         "x": [
          0,
          1,
          2,
          3,
          4,
          5,
          6,
          7,
          8,
          9,
          10,
          11,
          12,
          13,
          14,
          15,
          16,
          17,
          18,
          19,
          20,
          21,
          22,
          23,
          24,
          25,
          26,
          27,
          28,
          29,
          30,
          31,
          32,
          33,
          34,
          35,
          36,
          37,
          38,
          39,
          40,
          41,
          42,
          43,
          44,
          45,
          46,
          47,
          48,
          49
         ],
         "y": [
          0.42541093578215683,
          0.4151368756430364,
          0.4075374071074089,
          0.4013241574332859,
          0.396059377033188,
          0.3914663064344446,
          0.38743036466346104,
          0.3838284720304811,
          0.3805874157944705,
          0.37764443821560173,
          0.37497167611329696,
          0.37251482928655427,
          0.3702424493798927,
          0.368139329979182,
          0.36619156078373166,
          0.3643591828047406,
          0.3626392569105179,
          0.3610176614622702,
          0.35948595627918484,
          0.3580316405324866,
          0.35665306533354163,
          0.3553395496602436,
          0.35407983205108273,
          0.35287761510314936,
          0.35171903541953087,
          0.3506101223083778,
          0.34954639756616923,
          0.3485198577699834,
          0.34752748086655816,
          0.346566856061117,
          0.3456380274081509,
          0.3447363490983158,
          0.34386866191740223,
          0.34302068219620335,
          0.3421973783180796,
          0.341400884024773,
          0.34062745535417005,
          0.3398744501978711,
          0.3391442810230419,
          0.3384271419742599,
          0.3377285424974822,
          0.33704955650062757,
          0.3363888556122284,
          0.3357442104644797,
          0.33511385752765926,
          0.3344959086046578,
          0.3338950306958368,
          0.3333025196529445,
          0.3327259328750459,
          0.3321623447257511
         ]
        },
        {
         "marker": {
          "maxdisplayed": 10
         },
         "mode": "lines+markers",
         "name": "Trial12",
         "type": "scatter",
         "x": [
          0,
          1,
          2,
          3,
          4,
          5,
          6,
          7,
          8,
          9,
          10,
          11,
          12,
          13,
          14,
          15,
          16,
          17,
          18,
          19,
          20,
          21,
          22,
          23,
          24,
          25,
          26,
          27,
          28,
          29,
          30,
          31,
          32,
          33,
          34,
          35,
          36,
          37,
          38,
          39,
          40,
          41,
          42,
          43,
          44,
          45,
          46,
          47,
          48,
          49
         ],
         "y": [
          0.3509679428450969,
          0.34096265506019907,
          0.33385807969147185,
          0.32778083534420743,
          0.3225702669409757,
          0.3183957806041154,
          0.31473708321345034,
          0.3115577305603642,
          0.30858902186185805,
          0.3058591799100459,
          0.30344200502752394,
          0.3011410917842073,
          0.2991360940808597,
          0.29735568548402985,
          0.29553937972726224,
          0.29398453337848734,
          0.2924550612757852,
          0.29113884543241936,
          0.28989934507463866,
          0.28878636468291063,
          0.287638809842613,
          0.28667811817751043,
          0.28588875324495683,
          0.2848860915416384,
          0.2842326313279171,
          0.28333840705058544,
          0.2825653125427729,
          0.2817174865609641,
          0.28089711995338906,
          0.28017750421848825,
          0.27946878229347294,
          0.27884174862612404,
          0.27816344745554056,
          0.2775158027967683,
          0.2769353192782785,
          0.27632665645894483,
          0.2758099662454208,
          0.2752241988702374,
          0.27468268874516016,
          0.2741033418910169,
          0.2735714623808716,
          0.27322201982256844,
          0.2727589989848053,
          0.27234211597867936,
          0.27189136226532873,
          0.271539507239439,
          0.27111769829976384,
          0.27070452912240084,
          0.2704446412787862,
          0.27003538263821025
         ]
        },
        {
         "marker": {
          "maxdisplayed": 10
         },
         "mode": "lines+markers",
         "name": "Trial13",
         "type": "scatter",
         "x": [
          0,
          1,
          2,
          3,
          4,
          5,
          6,
          7,
          8,
          9,
          10,
          11,
          12,
          13,
          14,
          15,
          16,
          17,
          18,
          19,
          20,
          21,
          22,
          23,
          24,
          25,
          26,
          27,
          28,
          29,
          30,
          31,
          32,
          33,
          34,
          35,
          36,
          37,
          38,
          39,
          40,
          41,
          42,
          43,
          44,
          45,
          46,
          47,
          48,
          49
         ],
         "y": [
          0.40901868536546965,
          0.39846063477997407,
          0.39031854414588624,
          0.38405683257961803,
          0.37819231063621483,
          0.37309703476923683,
          0.36883357365612485,
          0.3652360553048812,
          0.36210068330970646,
          0.3595475369669895,
          0.356869982860804,
          0.35449304835993206,
          0.35228672082388024,
          0.35032885016516235,
          0.3483629671981394,
          0.3472139618529305,
          0.34556652312223995,
          0.3441919075221842,
          0.34301410953273165,
          0.3417670980315402,
          0.34053434529953086,
          0.33940736188294607,
          0.3388085681454406,
          0.3378746569559133,
          0.3369112072531031,
          0.3359913175585486,
          0.33516636151757145,
          0.33450725630917566,
          0.3339006451585523,
          0.3330764232419472,
          0.3324365658548464,
          0.33175903624249536,
          0.3310727205760937,
          0.33045654849724065,
          0.3297644692544905,
          0.3291703055677347,
          0.32858062526957926,
          0.3280234137795352,
          0.3275088012210032,
          0.32707271981113084,
          0.32661149202933965,
          0.3261216802915063,
          0.3256780951430218,
          0.3252227695634791,
          0.32478011570290016,
          0.32433268666000137,
          0.32394268285620487,
          0.3235017968566964,
          0.32311117011297247,
          0.322758803687043
         ]
        },
        {
         "marker": {
          "maxdisplayed": 10
         },
         "mode": "lines+markers",
         "name": "Trial14",
         "type": "scatter",
         "x": [
          0,
          1,
          2,
          3,
          4,
          5,
          6,
          7,
          8,
          9,
          10,
          11,
          12
         ],
         "y": [
          0.3986463733909319,
          0.4025350256409654,
          0.40656609499359364,
          0.40960499365740277,
          0.41059365813683846,
          0.41671215659127486,
          0.4203324145751387,
          0.4230504318468039,
          0.42517619173122323,
          0.42775548177309897,
          0.4288784551516702,
          0.43067702695388893,
          0.43166331191764773
         ]
        },
        {
         "marker": {
          "maxdisplayed": 10
         },
         "mode": "lines+markers",
         "name": "Trial15",
         "type": "scatter",
         "x": [
          0
         ],
         "y": [
          0.5044600773143065
         ]
        },
        {
         "marker": {
          "maxdisplayed": 10
         },
         "mode": "lines+markers",
         "name": "Trial16",
         "type": "scatter",
         "x": [
          0
         ],
         "y": [
          0.504316883137652
         ]
        },
        {
         "marker": {
          "maxdisplayed": 10
         },
         "mode": "lines+markers",
         "name": "Trial17",
         "type": "scatter",
         "x": [
          0
         ],
         "y": [
          0.5054131086579563
         ]
        },
        {
         "marker": {
          "maxdisplayed": 10
         },
         "mode": "lines+markers",
         "name": "Trial18",
         "type": "scatter",
         "x": [
          0
         ],
         "y": [
          0.5043133042793906
         ]
        },
        {
         "marker": {
          "maxdisplayed": 10
         },
         "mode": "lines+markers",
         "name": "Trial19",
         "type": "scatter",
         "x": [
          0
         ],
         "y": [
          0.4338665128193288
         ]
        },
        {
         "marker": {
          "maxdisplayed": 10
         },
         "mode": "lines+markers",
         "name": "Trial20",
         "type": "scatter",
         "x": [
          0
         ],
         "y": [
          0.5043081501241546
         ]
        },
        {
         "marker": {
          "maxdisplayed": 10
         },
         "mode": "lines+markers",
         "name": "Trial21",
         "type": "scatter",
         "x": [
          0
         ],
         "y": [
          0.4395136470952745
         ]
        },
        {
         "marker": {
          "maxdisplayed": 10
         },
         "mode": "lines+markers",
         "name": "Trial22",
         "type": "scatter",
         "x": [
          0,
          1,
          2,
          3,
          4,
          5,
          6,
          7,
          8,
          9,
          10,
          11,
          12,
          13,
          14,
          15,
          16,
          17,
          18,
          19,
          20,
          21,
          22,
          23,
          24,
          25,
          26,
          27,
          28,
          29,
          30,
          31,
          32,
          33,
          34,
          35,
          36,
          37,
          38,
          39,
          40,
          41,
          42,
          43,
          44,
          45,
          46,
          47,
          48,
          49
         ],
         "y": [
          0.3941377880494239,
          0.3803148264713709,
          0.3692531234980947,
          0.3603846639614299,
          0.35317872532164857,
          0.34701960589199293,
          0.3418961451402372,
          0.33739634362455895,
          0.3332369899442403,
          0.32949968811337244,
          0.32607204803725137,
          0.3230563806217825,
          0.3201485883921094,
          0.31767390310074334,
          0.31511974105848134,
          0.31285938250439493,
          0.3108391017996985,
          0.30876077418864467,
          0.30686460872300547,
          0.3053449373575644,
          0.30356536500366965,
          0.3019083421106676,
          0.3002812238430249,
          0.29879177257103046,
          0.29748007974571944,
          0.29609379482845155,
          0.2952590342388741,
          0.29399370669365965,
          0.29277360766052996,
          0.29159229215465493,
          0.2905861539193556,
          0.2894767568580477,
          0.28843849572401453,
          0.28744292076240835,
          0.2864432457762936,
          0.28559312476704696,
          0.2846871588393422,
          0.2839156045406274,
          0.28303814116500736,
          0.2822766049681008,
          0.28149147380039824,
          0.2807235041608583,
          0.28018312093338427,
          0.2794632078503147,
          0.2787500564991537,
          0.2781366199113005,
          0.2774858700628167,
          0.2768357171510684,
          0.2762187293900056,
          0.27560192663476396
         ]
        },
        {
         "marker": {
          "maxdisplayed": 10
         },
         "mode": "lines+markers",
         "name": "Trial23",
         "type": "scatter",
         "x": [
          0,
          1,
          2,
          3,
          4,
          5,
          6,
          7,
          8,
          9,
          10,
          11,
          12,
          13,
          14,
          15,
          16,
          17,
          18,
          19,
          20,
          21,
          22,
          23,
          24,
          25,
          26,
          27,
          28,
          29,
          30,
          31,
          32,
          33,
          34,
          35,
          36,
          37,
          38,
          39,
          40,
          41,
          42,
          43,
          44,
          45,
          46,
          47,
          48,
          49
         ],
         "y": [
          0.37411639516963924,
          0.35814464992361617,
          0.34751003005520714,
          0.3397802608310628,
          0.33369127511978147,
          0.3288548156811168,
          0.3240384598431917,
          0.31969796604104683,
          0.3163450529464603,
          0.3132750918330628,
          0.3102005765493164,
          0.3073935259803627,
          0.3047546328469332,
          0.30252465440690035,
          0.30022519368419925,
          0.29809609316735364,
          0.2966985064981922,
          0.2953488951949515,
          0.2936073154603902,
          0.2919213983002179,
          0.2904435896179838,
          0.2890163048735101,
          0.2876722512099901,
          0.28642216198800385,
          0.2852064660405586,
          0.28432673870681247,
          0.28317170593668795,
          0.28215973212887696,
          0.28124467264798175,
          0.28023544127056393,
          0.27937593899354335,
          0.27853267072077365,
          0.27766885458458423,
          0.27685336427939256,
          0.27639486001404107,
          0.27556945337887817,
          0.2748668384978618,
          0.2741309505144131,
          0.27340023146054165,
          0.27270982344094563,
          0.2720681677221829,
          0.2714295551791104,
          0.2708077929906658,
          0.2701805277632276,
          0.26961821747845804,
          0.2690276788950768,
          0.26846771372879874,
          0.2679152335946438,
          0.26748855684525075,
          0.26694326651579325
         ]
        },
        {
         "marker": {
          "maxdisplayed": 10
         },
         "mode": "lines+markers",
         "name": "Trial24",
         "type": "scatter",
         "x": [
          0,
          1,
          2,
          3,
          4,
          5,
          6,
          7,
          8,
          9,
          10,
          11,
          12,
          13,
          14,
          15,
          16,
          17,
          18,
          19,
          20,
          21,
          22,
          23,
          24,
          25,
          26,
          27,
          28,
          29,
          30,
          31,
          32,
          33,
          34,
          35,
          36,
          37,
          38,
          39,
          40,
          41,
          42,
          43,
          44,
          45,
          46,
          47,
          48,
          49
         ],
         "y": [
          0.4073458403952653,
          0.3938301937520833,
          0.38216293608212926,
          0.37145006449457474,
          0.3623957952631991,
          0.3545854510047672,
          0.34808437710873424,
          0.3431647909774306,
          0.3383365087051052,
          0.3341726793329579,
          0.330424674008732,
          0.32732801460429445,
          0.3246193641870855,
          0.32179879851715715,
          0.31950452605810103,
          0.317213105729011,
          0.3150488951588204,
          0.3130433124869129,
          0.3113840972154169,
          0.3096281905763167,
          0.308047874887753,
          0.3066356082083731,
          0.3054466451216149,
          0.30417962467436266,
          0.303245541800232,
          0.30204001160261734,
          0.30085863546527963,
          0.29998655390642215,
          0.29888416761904435,
          0.29784253991733234,
          0.2967849835671114,
          0.2963812010007709,
          0.2955393815913419,
          0.2949510015004079,
          0.29412232399049537,
          0.29328656639939604,
          0.2925010088603674,
          0.29175559418893215,
          0.2909969297464752,
          0.2902639137131623,
          0.2895799484615114,
          0.28891636536412624,
          0.28826637554410706,
          0.28768842644389503,
          0.2870752921755972,
          0.2864817534933929,
          0.2859850809585898,
          0.285450326418304,
          0.2849757903797962,
          0.28449929901029963
         ]
        },
        {
         "marker": {
          "maxdisplayed": 10
         },
         "mode": "lines+markers",
         "name": "Trial25",
         "type": "scatter",
         "x": [
          0
         ],
         "y": [
          0.510500058614088
         ]
        },
        {
         "marker": {
          "maxdisplayed": 10
         },
         "mode": "lines+markers",
         "name": "Trial26",
         "type": "scatter",
         "x": [
          0,
          1,
          2,
          3,
          4,
          5,
          6,
          7,
          8,
          9,
          10,
          11,
          12,
          13,
          14,
          15,
          16,
          17,
          18,
          19,
          20,
          21,
          22,
          23,
          24,
          25,
          26,
          27,
          28,
          29,
          30,
          31,
          32,
          33,
          34,
          35,
          36,
          37,
          38,
          39,
          40,
          41,
          42,
          43,
          44,
          45,
          46,
          47,
          48,
          49
         ],
         "y": [
          0.40763000016054396,
          0.3939618064883006,
          0.38129758146952236,
          0.3701953467935269,
          0.3610630655705819,
          0.35335796851003876,
          0.3466192755188574,
          0.340779990012694,
          0.33554254156059593,
          0.33113771173725687,
          0.32734303288916416,
          0.3234266743791147,
          0.3200584252949797,
          0.3171195286891862,
          0.3144835479790773,
          0.31181121890606367,
          0.30938985594954377,
          0.3071969849887816,
          0.3051622909891568,
          0.303271580310487,
          0.30149115781470226,
          0.3001130814468384,
          0.29846603845669933,
          0.2969083783312251,
          0.2954381238733646,
          0.2941951186746202,
          0.29287985509775905,
          0.29161838298407206,
          0.290411508528287,
          0.2892275929185713,
          0.2881596688917456,
          0.28718148743130034,
          0.2862401423666372,
          0.2852687903564589,
          0.2843220256960916,
          0.28339501459655375,
          0.2825162350578143,
          0.2816881683647049,
          0.28090034737819236,
          0.2801205701529156,
          0.27938723606917754,
          0.2786330520083514,
          0.27790985101001653,
          0.27725440595113765,
          0.2765941601974578,
          0.2759833418495642,
          0.2754047350316234,
          0.2748775388582388,
          0.27429004025187326,
          0.273720593685713
         ]
        },
        {
         "marker": {
          "maxdisplayed": 10
         },
         "mode": "lines+markers",
         "name": "Trial27",
         "type": "scatter",
         "x": [
          0,
          1,
          2,
          3,
          4,
          5,
          6,
          7,
          8,
          9,
          10,
          11,
          12,
          13,
          14,
          15,
          16,
          17,
          18,
          19,
          20,
          21,
          22,
          23,
          24,
          25,
          26,
          27,
          28,
          29,
          30,
          31,
          32,
          33,
          34,
          35,
          36,
          37,
          38,
          39,
          40,
          41,
          42,
          43,
          44,
          45,
          46,
          47,
          48,
          49
         ],
         "y": [
          0.34867376237284414,
          0.3376092569384566,
          0.33007824955138787,
          0.32417409377203465,
          0.3193667781177366,
          0.31624577587334346,
          0.3133152845704973,
          0.30969394137311046,
          0.3066141960937747,
          0.3042269187737565,
          0.30171914520913107,
          0.2994774097383498,
          0.29760548440740303,
          0.2957429093958296,
          0.2938750348514103,
          0.2921558830794462,
          0.2907239544070073,
          0.2897477580197438,
          0.2885128356530082,
          0.2873118515282485,
          0.2861292799813051,
          0.28497398325856277,
          0.2839206156477992,
          0.28287852998591956,
          0.2821084215441242,
          0.2811604886307715,
          0.28043160542371076,
          0.2795733154521776,
          0.27901074094394435,
          0.2783610722837893,
          0.27755330130302963,
          0.2767920930411934,
          0.27608805270414943,
          0.2753632451784842,
          0.27469290465516377,
          0.274116981372844,
          0.2734724286177701,
          0.2728860792997758,
          0.2723022492223114,
          0.2717017028069134,
          0.27118163616267016,
          0.27067355729595755,
          0.2701517100235682,
          0.2696115392546059,
          0.26912181028832877,
          0.26864482682004104,
          0.26834595443782405,
          0.2679399447972978,
          0.267529240641612,
          0.26710633322569105
         ]
        },
        {
         "marker": {
          "maxdisplayed": 10
         },
         "mode": "lines+markers",
         "name": "Trial28",
         "type": "scatter",
         "x": [
          0
         ],
         "y": [
          0.5043272056632279
         ]
        },
        {
         "marker": {
          "maxdisplayed": 10
         },
         "mode": "lines+markers",
         "name": "Trial29",
         "type": "scatter",
         "x": [
          0,
          1,
          2,
          3,
          4,
          5,
          6,
          7,
          8,
          9,
          10,
          11,
          12,
          13,
          14,
          15,
          16,
          17,
          18,
          19,
          20,
          21,
          22,
          23,
          24,
          25,
          26,
          27,
          28,
          29,
          30,
          31,
          32,
          33,
          34,
          35,
          36,
          37,
          38,
          39,
          40,
          41,
          42,
          43,
          44,
          45,
          46,
          47,
          48,
          49
         ],
         "y": [
          0.3237821425741768,
          0.3224161535391711,
          0.31384671961990435,
          0.3132951296111277,
          0.3095803056028886,
          0.30561556567382486,
          0.3034610609393846,
          0.2997414712137225,
          0.29654373858807787,
          0.2944811196095597,
          0.2930278898248436,
          0.29096009413053686,
          0.29129964488561505,
          0.28969077840231805,
          0.2889350725050862,
          0.2884827561326613,
          0.28702107604902566,
          0.2857449691744945,
          0.28434382444049905,
          0.2834532730446006,
          0.2829421806335971,
          0.2829819009613595,
          0.28293728141060565,
          0.2822526048233148,
          0.282502841305118,
          0.2815833014443586,
          0.2807169004458619,
          0.2803980945752847,
          0.28010907795509926,
          0.2793103990496632,
          0.27863213918124524,
          0.2779899729573567,
          0.2771881944523558,
          0.2767054208180729,
          0.27631219329096335,
          0.2757948762114999,
          0.2751164535206729,
          0.27534151893461856,
          0.27530284446464093,
          0.27466522472778515,
          0.27427402828649244,
          0.27358837246680523,
          0.27299109478977907,
          0.2724700739880702,
          0.2720156623019698,
          0.27172045944446044,
          0.27143080654289464,
          0.2714311585511768,
          0.2709797970152817,
          0.27067237304005615
         ]
        },
        {
         "marker": {
          "maxdisplayed": 10
         },
         "mode": "lines+markers",
         "name": "Trial30",
         "type": "scatter",
         "x": [
          0,
          1,
          2,
          3,
          4,
          5,
          6,
          7,
          8,
          9,
          10,
          11,
          12,
          13,
          14,
          15,
          16,
          17,
          18,
          19,
          20,
          21,
          22,
          23,
          24,
          25,
          26,
          27,
          28,
          29,
          30,
          31,
          32,
          33,
          34,
          35,
          36,
          37,
          38,
          39,
          40,
          41,
          42,
          43,
          44,
          45,
          46,
          47,
          48,
          49
         ],
         "y": [
          0.40277556018495647,
          0.3871758542611893,
          0.37462878318708165,
          0.36481308124781087,
          0.35673096159106016,
          0.3499572336710326,
          0.34409655916380333,
          0.33890333124067684,
          0.3343057733738815,
          0.32995344532128856,
          0.32614296446707947,
          0.32246380459409757,
          0.3194652292120134,
          0.3163720862829695,
          0.31367379308222554,
          0.31105103463270667,
          0.30848393369154925,
          0.30618006614989146,
          0.3039470706537642,
          0.3019717498433744,
          0.3000339462975499,
          0.29832320692160813,
          0.2965710331516639,
          0.2948753840585587,
          0.2936255783237805,
          0.29214409685161064,
          0.29071316334619246,
          0.2893996592449361,
          0.2882871291554451,
          0.2870618229623292,
          0.2859147008326307,
          0.2848017575848731,
          0.2837359941475053,
          0.28275601451064536,
          0.28181713317466767,
          0.2807794459734332,
          0.27986672364142307,
          0.2789878899427801,
          0.2781780743851407,
          0.27730870575302763,
          0.27648189708999465,
          0.2756646503696397,
          0.2748712403945859,
          0.2740912468267878,
          0.27336342169544753,
          0.272693727797528,
          0.27199128020190877,
          0.27133263762413706,
          0.2706853092757333,
          0.270093500305715
         ]
        },
        {
         "marker": {
          "maxdisplayed": 10
         },
         "mode": "lines+markers",
         "name": "Trial31",
         "type": "scatter",
         "x": [
          0,
          1,
          2,
          3,
          4,
          5,
          6,
          7,
          8,
          9,
          10,
          11,
          12,
          13,
          14,
          15,
          16,
          17,
          18,
          19,
          20,
          21,
          22,
          23,
          24,
          25,
          26,
          27,
          28,
          29,
          30,
          31,
          32,
          33,
          34,
          35,
          36,
          37,
          38,
          39,
          40,
          41,
          42,
          43,
          44,
          45,
          46,
          47,
          48,
          49
         ],
         "y": [
          0.34856616084088277,
          0.3382471801497001,
          0.3312946787233218,
          0.32648375218744435,
          0.32179196238737295,
          0.31757994702324827,
          0.314955960838646,
          0.3114328616732666,
          0.30853129197037826,
          0.3068666238783692,
          0.30420829472471156,
          0.30182840855548615,
          0.29998153219911694,
          0.29822874993234827,
          0.2967093715699191,
          0.29529823468823124,
          0.2936330746353647,
          0.2925756187213449,
          0.2912653792117632,
          0.2901179093229507,
          0.28888964583102644,
          0.28786939936138844,
          0.2868218970769819,
          0.28580577944578606,
          0.28484708359338085,
          0.28401096530584796,
          0.2831940914690799,
          0.2824825108760879,
          0.28167784230769033,
          0.28086413636648117,
          0.28026994378718434,
          0.27959595092882716,
          0.27887971160620595,
          0.27833343463672516,
          0.2776902131173712,
          0.2771146510963441,
          0.27683250923203856,
          0.276226274994867,
          0.2756460162557185,
          0.2750913950448262,
          0.2746107405484892,
          0.27408508309839813,
          0.2735690788903059,
          0.2730875940887089,
          0.2726161484859071,
          0.2721683987416252,
          0.27173912022983165,
          0.27130726039263275,
          0.2709553315336667,
          0.27053545783567157
         ]
        },
        {
         "marker": {
          "maxdisplayed": 10
         },
         "mode": "lines+markers",
         "name": "Trial32",
         "type": "scatter",
         "x": [
          0,
          1,
          2,
          3,
          4,
          5,
          6,
          7,
          8,
          9,
          10,
          11,
          12,
          13,
          14,
          15,
          16,
          17,
          18,
          19,
          20,
          21,
          22,
          23,
          24,
          25,
          26,
          27,
          28,
          29,
          30,
          31,
          32,
          33,
          34,
          35,
          36,
          37,
          38,
          39,
          40,
          41,
          42,
          43,
          44,
          45,
          46,
          47,
          48,
          49
         ],
         "y": [
          0.3673289180570325,
          0.3519852764040067,
          0.3421204465162981,
          0.33396355935387845,
          0.3277881255136669,
          0.3228110603535373,
          0.3179404532100238,
          0.31420568953067557,
          0.31027614946547816,
          0.30732897963532646,
          0.3045226293913028,
          0.30196658188009495,
          0.30137035797398526,
          0.2988825375780216,
          0.2964373341563144,
          0.29434601371528146,
          0.29286927015296355,
          0.29112116954969147,
          0.28945253307018404,
          0.28764766458126945,
          0.28614108158728124,
          0.2845656308829635,
          0.2831517006452915,
          0.28179485165954843,
          0.28044851924284164,
          0.2791947713526809,
          0.2780904592915045,
          0.2769863839601567,
          0.2759731103454217,
          0.2749317613489207,
          0.2739723623268094,
          0.2730692300026204,
          0.2721777145054213,
          0.271402013038242,
          0.27056109273286283,
          0.2697840409221119,
          0.26903224589858377,
          0.26828808007637084,
          0.26756034835869785,
          0.2669022315375603,
          0.2662650946657736,
          0.26560686024202024,
          0.26512629020593936,
          0.26451974847801024,
          0.2640281794961304,
          0.26341247782248384,
          0.26288273591316264,
          0.2623678575658072,
          0.26188118807789745,
          0.2614223982912401
         ]
        },
        {
         "marker": {
          "maxdisplayed": 10
         },
         "mode": "lines+markers",
         "name": "Trial33",
         "type": "scatter",
         "x": [
          0,
          1,
          2,
          3,
          4,
          5,
          6,
          7,
          8,
          9,
          10,
          11,
          12,
          13,
          14,
          15,
          16,
          17,
          18,
          19,
          20,
          21,
          22,
          23,
          24,
          25,
          26,
          27,
          28,
          29,
          30,
          31,
          32,
          33,
          34,
          35,
          36,
          37,
          38,
          39,
          40,
          41,
          42,
          43,
          44,
          45,
          46,
          47,
          48,
          49
         ],
         "y": [
          0.3790880485024461,
          0.3627447219733595,
          0.3518342862398512,
          0.34298436833514695,
          0.33638073587944495,
          0.33133139496496516,
          0.32575253022247097,
          0.32106845535708395,
          0.31675214789531847,
          0.31298638928276834,
          0.3097953605089039,
          0.30695533411471004,
          0.3041655194668176,
          0.3015383270046517,
          0.29925334630128136,
          0.29711499480396836,
          0.29503400294168086,
          0.2933814175821824,
          0.29181447264510807,
          0.29016993815151365,
          0.2885590653184066,
          0.2870508118111764,
          0.28559185875212373,
          0.2842486792268601,
          0.28297687084635315,
          0.28187888737951056,
          0.28066425290128705,
          0.2795425000282235,
          0.2784791195289274,
          0.27752379978394637,
          0.27661155828256584,
          0.275655555885292,
          0.27477807673574245,
          0.2741766442349938,
          0.2733235965595845,
          0.27250591852418826,
          0.2717741767575793,
          0.27102132736293344,
          0.27029200932606035,
          0.26974096975424783,
          0.2691135310432754,
          0.26850721144845047,
          0.26786915769150305,
          0.2671870746475637,
          0.26655619880868686,
          0.2659496919808505,
          0.26540810277605315,
          0.26481666932816683,
          0.26436973727835467,
          0.2638335804161007
         ]
        },
        {
         "marker": {
          "maxdisplayed": 10
         },
         "mode": "lines+markers",
         "name": "Trial34",
         "type": "scatter",
         "x": [
          0,
          1,
          2,
          3,
          4,
          5,
          6,
          7,
          8,
          9,
          10,
          11,
          12,
          13,
          14,
          15,
          16,
          17,
          18,
          19,
          20,
          21,
          22,
          23,
          24,
          25,
          26,
          27,
          28,
          29,
          30,
          31,
          32,
          33,
          34,
          35,
          36,
          37,
          38,
          39,
          40,
          41,
          42,
          43,
          44,
          45,
          46,
          47,
          48,
          49
         ],
         "y": [
          0.3755393043626957,
          0.36017674989792525,
          0.3495050461801596,
          0.3418777106573349,
          0.3351263600489053,
          0.32935673064289833,
          0.32445906306122263,
          0.32101291100431106,
          0.31702976741989825,
          0.31355727495793706,
          0.31061531046257934,
          0.30771142481943453,
          0.30515031668751114,
          0.30324149272906664,
          0.3008140221228989,
          0.2986097307978661,
          0.29662373431802586,
          0.2947737815185196,
          0.29290554889345904,
          0.29129373649234713,
          0.2897272834004326,
          0.28816925974401547,
          0.2867656316572695,
          0.28540196648454136,
          0.2842864837084466,
          0.28313187399056094,
          0.2818997797860056,
          0.2807150280881762,
          0.27966625277538976,
          0.2786678930132795,
          0.2776801621649048,
          0.27673692741168876,
          0.27579814113389234,
          0.27486127507627206,
          0.27408663464969346,
          0.2733177158021844,
          0.27249572614653705,
          0.271730262974274,
          0.2711137778177113,
          0.27040854069244796,
          0.26973750874817126,
          0.2690790294130768,
          0.26845828183861664,
          0.26780216691296105,
          0.2671846432531687,
          0.2666373390259053,
          0.2660694083655863,
          0.26552591721788554,
          0.2649599062588643,
          0.2643865818334109
         ]
        },
        {
         "marker": {
          "maxdisplayed": 10
         },
         "mode": "lines+markers",
         "name": "Trial35",
         "type": "scatter",
         "x": [
          0
         ],
         "y": [
          0.4282734379254652
         ]
        },
        {
         "marker": {
          "maxdisplayed": 10
         },
         "mode": "lines+markers",
         "name": "Trial36",
         "type": "scatter",
         "x": [
          0
         ],
         "y": [
          0.5045778798574022
         ]
        },
        {
         "marker": {
          "maxdisplayed": 10
         },
         "mode": "lines+markers",
         "name": "Trial37",
         "type": "scatter",
         "x": [
          0
         ],
         "y": [
          0.5044083084849363
         ]
        },
        {
         "marker": {
          "maxdisplayed": 10
         },
         "mode": "lines+markers",
         "name": "Trial38",
         "type": "scatter",
         "x": [
          0,
          1,
          2,
          3,
          4,
          5,
          6,
          7,
          8,
          9,
          10,
          11,
          12,
          13,
          14,
          15,
          16,
          17,
          18,
          19,
          20,
          21,
          22,
          23,
          24,
          25,
          26,
          27,
          28,
          29,
          30,
          31,
          32,
          33,
          34,
          35,
          36,
          37,
          38,
          39,
          40,
          41,
          42,
          43,
          44,
          45,
          46,
          47,
          48,
          49
         ],
         "y": [
          0.39694557702563305,
          0.3808419688246307,
          0.36912667242715225,
          0.3591433778460074,
          0.3512443269155302,
          0.34443005967937856,
          0.3386440016005862,
          0.3353573880595726,
          0.33056829463296417,
          0.32679583626776987,
          0.3230876370867792,
          0.3199341266894538,
          0.3167760167210209,
          0.3141958394201295,
          0.3114474620809578,
          0.3089127332370035,
          0.3066049953049924,
          0.3044093005177749,
          0.30242881257138626,
          0.30048612703330824,
          0.2988326172303141,
          0.29726393631100156,
          0.29577101803096056,
          0.2945948278873317,
          0.29321810437829454,
          0.29191570383561094,
          0.2906885702953471,
          0.28950810394602927,
          0.28830306611530754,
          0.28713484088689584,
          0.2860331321466573,
          0.2849848123591455,
          0.28397391361629165,
          0.28300869478030427,
          0.2821237164707568,
          0.2812925769549366,
          0.28042657906692514,
          0.279574167882823,
          0.27877980060008173,
          0.27800069904472835,
          0.27731696982760795,
          0.2766027490535786,
          0.27594640806283505,
          0.2753424338114515,
          0.2748205914498839,
          0.27415949575658494,
          0.2735363692769221,
          0.27302323398451867,
          0.27242323207596253,
          0.2718913722224876
         ]
        },
        {
         "marker": {
          "maxdisplayed": 10
         },
         "mode": "lines+markers",
         "name": "Trial39",
         "type": "scatter",
         "x": [
          0
         ],
         "y": [
          0.4409528887293835
         ]
        },
        {
         "marker": {
          "maxdisplayed": 10
         },
         "mode": "lines+markers",
         "name": "Trial40",
         "type": "scatter",
         "x": [
          0,
          1,
          2,
          3,
          4,
          5,
          6,
          7,
          8,
          9,
          10,
          11,
          12,
          13,
          14,
          15,
          16,
          17,
          18,
          19,
          20,
          21,
          22,
          23,
          24,
          25,
          26,
          27,
          28,
          29,
          30,
          31,
          32,
          33,
          34,
          35,
          36,
          37,
          38,
          39,
          40,
          41,
          42,
          43,
          44,
          45,
          46,
          47,
          48,
          49
         ],
         "y": [
          0.38850724532459324,
          0.3717550026393508,
          0.36023195974295535,
          0.3509271095196407,
          0.3431657592894623,
          0.3370754003726024,
          0.3315085428101677,
          0.3267193114312973,
          0.3224453438528481,
          0.31859618007148827,
          0.3156912178674296,
          0.3127460103273904,
          0.3100466099803214,
          0.30741244845603904,
          0.30503123268860116,
          0.30285314684922415,
          0.30076906257577896,
          0.29898671828727186,
          0.2972176159200621,
          0.2956018383029856,
          0.2941495831884293,
          0.2927692582945858,
          0.2914989877858186,
          0.29015849736285326,
          0.2889419817090254,
          0.28771611610866843,
          0.2866485912110648,
          0.2856362129551067,
          0.2846368610103781,
          0.2837008536118097,
          0.28280216135712705,
          0.28194778206077287,
          0.281285075108962,
          0.28052368988122056,
          0.27976101262495406,
          0.27900365982162745,
          0.2782836488407429,
          0.2775311100853555,
          0.27685716451790554,
          0.27620544097631566,
          0.2756511310095126,
          0.27505712991081016,
          0.27445003279713404,
          0.27385472588923415,
          0.2732959085650451,
          0.2728031506823505,
          0.27230979509207626,
          0.27180236970126503,
          0.27133487646502324,
          0.270876448344899
         ]
        },
        {
         "marker": {
          "maxdisplayed": 10
         },
         "mode": "lines+markers",
         "name": "Trial41",
         "type": "scatter",
         "x": [
          0,
          1,
          2,
          3,
          4,
          5,
          6,
          7,
          8,
          9,
          10,
          11,
          12,
          13,
          14,
          15,
          16,
          17,
          18,
          19,
          20,
          21,
          22,
          23,
          24,
          25,
          26,
          27,
          28,
          29,
          30,
          31,
          32,
          33,
          34,
          35,
          36
         ],
         "y": [
          0.3804029365709912,
          0.3647942370417807,
          0.35399024811458407,
          0.34591259192641044,
          0.33905076205620666,
          0.33330580277483907,
          0.32875011052560943,
          0.32498592043614516,
          0.3212793388809678,
          0.31800937173994426,
          0.3158174082300041,
          0.3129053301629001,
          0.3101436396418761,
          0.30802022249596395,
          0.3056823917003114,
          0.3036225942833071,
          0.301763545524427,
          0.29998899542263296,
          0.29846693968673516,
          0.297019735725106,
          0.2955330386476894,
          0.2942914625390598,
          0.2934186177650228,
          0.29231219266828873,
          0.2912336284503972,
          0.2900949981354387,
          0.2891560570437182,
          0.28836443056655037,
          0.28745106116979097,
          0.286490292244341,
          0.28585144220500863,
          0.28509018575330136,
          0.28430571922370984,
          0.28349439733762705,
          0.28271687697482967,
          0.282019903656558,
          0.28153055406030325
         ]
        },
        {
         "marker": {
          "maxdisplayed": 10
         },
         "mode": "lines+markers",
         "name": "Trial42",
         "type": "scatter",
         "x": [
          0,
          1,
          2,
          3,
          4,
          5,
          6,
          7,
          8,
          9,
          10,
          11,
          12,
          13,
          14,
          15,
          16,
          17,
          18,
          19,
          20,
          21,
          22,
          23,
          24,
          25,
          26,
          27,
          28,
          29,
          30,
          31,
          32,
          33,
          34,
          35,
          36,
          37,
          38,
          39,
          40,
          41,
          42,
          43,
          44,
          45,
          46,
          47,
          48,
          49
         ],
         "y": [
          0.3757675312061556,
          0.35807235549936417,
          0.3471075617110824,
          0.33852056608729164,
          0.3314476624048876,
          0.32560596034671724,
          0.3206978831690131,
          0.31638198857698213,
          0.312360871593133,
          0.30982423965608213,
          0.30667643567115915,
          0.3036947408891148,
          0.301297952744116,
          0.2987404686683762,
          0.2964092691044195,
          0.2942889160159323,
          0.29237518703068416,
          0.2904676112805819,
          0.28865827284944695,
          0.2872075976478021,
          0.2858065874178995,
          0.28462007615472645,
          0.28354184364826757,
          0.2823125426448822,
          0.2811215591957556,
          0.2799574446219664,
          0.2787459547700112,
          0.27763735454052224,
          0.2765958977866386,
          0.2755110186245121,
          0.27444822608854497,
          0.2735790331645579,
          0.27279444896397803,
          0.27189623473357205,
          0.27119930483218524,
          0.27035252173250746,
          0.2696326907521477,
          0.26882045987292613,
          0.2680375961140104,
          0.26728499449693477,
          0.2666368314682867,
          0.26599034446235353,
          0.26535344795921056,
          0.2648963797054767,
          0.26421569653430155,
          0.26356957431959277,
          0.26293738860680593,
          0.262392554923828,
          0.26182159235522523,
          0.2612168933547224
         ]
        },
        {
         "marker": {
          "maxdisplayed": 10
         },
         "mode": "lines+markers",
         "name": "Trial43",
         "type": "scatter",
         "x": [
          0
         ],
         "y": [
          0.40732119008761525
         ]
        },
        {
         "marker": {
          "maxdisplayed": 10
         },
         "mode": "lines+markers",
         "name": "Trial44",
         "type": "scatter",
         "x": [
          0,
          1,
          2,
          3,
          4,
          5,
          6,
          7,
          8,
          9,
          10,
          11,
          12,
          13,
          14,
          15,
          16,
          17,
          18,
          19,
          20,
          21,
          22,
          23,
          24,
          25,
          26,
          27,
          28,
          29,
          30,
          31,
          32,
          33,
          34,
          35,
          36,
          37,
          38,
          39,
          40,
          41,
          42,
          43,
          44,
          45,
          46,
          47,
          48,
          49
         ],
         "y": [
          0.3812720056067514,
          0.3657368029953147,
          0.35492831507001354,
          0.34593501833866097,
          0.33885614832461874,
          0.33315873367424903,
          0.3281283176469038,
          0.32359786364584336,
          0.32032826090971334,
          0.31647529544421976,
          0.31383568145273594,
          0.31067904846215627,
          0.3076362263773838,
          0.30497412826945297,
          0.3024721178121549,
          0.30025468797218846,
          0.29833033539507353,
          0.29627550118005375,
          0.29446067837327566,
          0.2927281943926825,
          0.291099202011663,
          0.2897351189497307,
          0.28831229545698034,
          0.28696792814228855,
          0.2855860069849654,
          0.28460300926560805,
          0.2835863370708291,
          0.28242874041423144,
          0.2813865459290067,
          0.28036784659487984,
          0.2793784309097813,
          0.2784393396490969,
          0.27749559492982123,
          0.27660466053900157,
          0.27579634209442566,
          0.2749897618047209,
          0.27417738799238084,
          0.27343488093929563,
          0.27272250306948553,
          0.2720284280725661,
          0.2713288018197238,
          0.27066970820436037,
          0.27011414881990453,
          0.2694744837588698,
          0.26887963952243954,
          0.26841631440260993,
          0.2679333361328071,
          0.2673982373862416,
          0.266863686750468,
          0.26631339524496983
         ]
        },
        {
         "marker": {
          "maxdisplayed": 10
         },
         "mode": "lines+markers",
         "name": "Trial45",
         "type": "scatter",
         "x": [
          0
         ],
         "y": [
          0.48780148996393546
         ]
        },
        {
         "marker": {
          "maxdisplayed": 10
         },
         "mode": "lines+markers",
         "name": "Trial46",
         "type": "scatter",
         "x": [
          0
         ],
         "y": [
          0.5032856414441026
         ]
        },
        {
         "marker": {
          "maxdisplayed": 10
         },
         "mode": "lines+markers",
         "name": "Trial47",
         "type": "scatter",
         "x": [
          0,
          1,
          2,
          3,
          4,
          5
         ],
         "y": [
          0.38348544769085136,
          0.3633977675306205,
          0.35637906212028075,
          0.3514551330172555,
          0.34934635397259484,
          0.3460381900865363
         ]
        },
        {
         "marker": {
          "maxdisplayed": 10
         },
         "mode": "lines+markers",
         "name": "Trial48",
         "type": "scatter",
         "x": [
          0
         ],
         "y": [
          0.439771616821131
         ]
        },
        {
         "marker": {
          "maxdisplayed": 10
         },
         "mode": "lines+markers",
         "name": "Trial49",
         "type": "scatter",
         "x": [
          0,
          1,
          2,
          3,
          4,
          5,
          6,
          7,
          8,
          9,
          10,
          11,
          12,
          13,
          14,
          15,
          16,
          17,
          18,
          19,
          20,
          21,
          22,
          23,
          24,
          25,
          26,
          27,
          28,
          29,
          30,
          31,
          32,
          33,
          34,
          35,
          36,
          37,
          38,
          39,
          40,
          41,
          42,
          43,
          44,
          45,
          46,
          47,
          48,
          49
         ],
         "y": [
          0.32977403840307373,
          0.31804660152005887,
          0.3115325265863031,
          0.30386994866239214,
          0.2982191838228022,
          0.29462072815336726,
          0.2915531260046449,
          0.28783183643323396,
          0.2861803538452416,
          0.2839057997966779,
          0.2818209123475736,
          0.27980929975580265,
          0.27834969884377564,
          0.2767015838487404,
          0.27492816672140724,
          0.2733456096397524,
          0.2719565377344794,
          0.27072247880958256,
          0.2698601163585045,
          0.26876823379491793,
          0.2678511161757364,
          0.2668456830572048,
          0.2660698503260617,
          0.2651090410299613,
          0.2642671651482363,
          0.2635093220343484,
          0.2628873516016187,
          0.262192166523341,
          0.2615279536716763,
          0.26098298083663796,
          0.26035849188360344,
          0.25977695075808777,
          0.25946484843836654,
          0.2592457111756601,
          0.25873697687296204,
          0.25834258798458765,
          0.2579229965877951,
          0.25742637679837316,
          0.2569234953982052,
          0.25653917482105626,
          0.25615678505009626,
          0.2557260467772378,
          0.25535115343206444,
          0.2549855424399634,
          0.2546210051454941,
          0.2542724022330815,
          0.2539221269411473,
          0.25353484480836735,
          0.2531482192443055,
          0.2528515717409153
         ]
        }
       ],
       "layout": {
        "showlegend": false,
        "template": {
         "data": {
          "bar": [
           {
            "error_x": {
             "color": "#2a3f5f"
            },
            "error_y": {
             "color": "#2a3f5f"
            },
            "marker": {
             "line": {
              "color": "#E5ECF6",
              "width": 0.5
             },
             "pattern": {
              "fillmode": "overlay",
              "size": 10,
              "solidity": 0.2
             }
            },
            "type": "bar"
           }
          ],
          "barpolar": [
           {
            "marker": {
             "line": {
              "color": "#E5ECF6",
              "width": 0.5
             },
             "pattern": {
              "fillmode": "overlay",
              "size": 10,
              "solidity": 0.2
             }
            },
            "type": "barpolar"
           }
          ],
          "carpet": [
           {
            "aaxis": {
             "endlinecolor": "#2a3f5f",
             "gridcolor": "white",
             "linecolor": "white",
             "minorgridcolor": "white",
             "startlinecolor": "#2a3f5f"
            },
            "baxis": {
             "endlinecolor": "#2a3f5f",
             "gridcolor": "white",
             "linecolor": "white",
             "minorgridcolor": "white",
             "startlinecolor": "#2a3f5f"
            },
            "type": "carpet"
           }
          ],
          "choropleth": [
           {
            "colorbar": {
             "outlinewidth": 0,
             "ticks": ""
            },
            "type": "choropleth"
           }
          ],
          "contour": [
           {
            "colorbar": {
             "outlinewidth": 0,
             "ticks": ""
            },
            "colorscale": [
             [
              0,
              "#0d0887"
             ],
             [
              0.1111111111111111,
              "#46039f"
             ],
             [
              0.2222222222222222,
              "#7201a8"
             ],
             [
              0.3333333333333333,
              "#9c179e"
             ],
             [
              0.4444444444444444,
              "#bd3786"
             ],
             [
              0.5555555555555556,
              "#d8576b"
             ],
             [
              0.6666666666666666,
              "#ed7953"
             ],
             [
              0.7777777777777778,
              "#fb9f3a"
             ],
             [
              0.8888888888888888,
              "#fdca26"
             ],
             [
              1,
              "#f0f921"
             ]
            ],
            "type": "contour"
           }
          ],
          "contourcarpet": [
           {
            "colorbar": {
             "outlinewidth": 0,
             "ticks": ""
            },
            "type": "contourcarpet"
           }
          ],
          "heatmap": [
           {
            "colorbar": {
             "outlinewidth": 0,
             "ticks": ""
            },
            "colorscale": [
             [
              0,
              "#0d0887"
             ],
             [
              0.1111111111111111,
              "#46039f"
             ],
             [
              0.2222222222222222,
              "#7201a8"
             ],
             [
              0.3333333333333333,
              "#9c179e"
             ],
             [
              0.4444444444444444,
              "#bd3786"
             ],
             [
              0.5555555555555556,
              "#d8576b"
             ],
             [
              0.6666666666666666,
              "#ed7953"
             ],
             [
              0.7777777777777778,
              "#fb9f3a"
             ],
             [
              0.8888888888888888,
              "#fdca26"
             ],
             [
              1,
              "#f0f921"
             ]
            ],
            "type": "heatmap"
           }
          ],
          "heatmapgl": [
           {
            "colorbar": {
             "outlinewidth": 0,
             "ticks": ""
            },
            "colorscale": [
             [
              0,
              "#0d0887"
             ],
             [
              0.1111111111111111,
              "#46039f"
             ],
             [
              0.2222222222222222,
              "#7201a8"
             ],
             [
              0.3333333333333333,
              "#9c179e"
             ],
             [
              0.4444444444444444,
              "#bd3786"
             ],
             [
              0.5555555555555556,
              "#d8576b"
             ],
             [
              0.6666666666666666,
              "#ed7953"
             ],
             [
              0.7777777777777778,
              "#fb9f3a"
             ],
             [
              0.8888888888888888,
              "#fdca26"
             ],
             [
              1,
              "#f0f921"
             ]
            ],
            "type": "heatmapgl"
           }
          ],
          "histogram": [
           {
            "marker": {
             "pattern": {
              "fillmode": "overlay",
              "size": 10,
              "solidity": 0.2
             }
            },
            "type": "histogram"
           }
          ],
          "histogram2d": [
           {
            "colorbar": {
             "outlinewidth": 0,
             "ticks": ""
            },
            "colorscale": [
             [
              0,
              "#0d0887"
             ],
             [
              0.1111111111111111,
              "#46039f"
             ],
             [
              0.2222222222222222,
              "#7201a8"
             ],
             [
              0.3333333333333333,
              "#9c179e"
             ],
             [
              0.4444444444444444,
              "#bd3786"
             ],
             [
              0.5555555555555556,
              "#d8576b"
             ],
             [
              0.6666666666666666,
              "#ed7953"
             ],
             [
              0.7777777777777778,
              "#fb9f3a"
             ],
             [
              0.8888888888888888,
              "#fdca26"
             ],
             [
              1,
              "#f0f921"
             ]
            ],
            "type": "histogram2d"
           }
          ],
          "histogram2dcontour": [
           {
            "colorbar": {
             "outlinewidth": 0,
             "ticks": ""
            },
            "colorscale": [
             [
              0,
              "#0d0887"
             ],
             [
              0.1111111111111111,
              "#46039f"
             ],
             [
              0.2222222222222222,
              "#7201a8"
             ],
             [
              0.3333333333333333,
              "#9c179e"
             ],
             [
              0.4444444444444444,
              "#bd3786"
             ],
             [
              0.5555555555555556,
              "#d8576b"
             ],
             [
              0.6666666666666666,
              "#ed7953"
             ],
             [
              0.7777777777777778,
              "#fb9f3a"
             ],
             [
              0.8888888888888888,
              "#fdca26"
             ],
             [
              1,
              "#f0f921"
             ]
            ],
            "type": "histogram2dcontour"
           }
          ],
          "mesh3d": [
           {
            "colorbar": {
             "outlinewidth": 0,
             "ticks": ""
            },
            "type": "mesh3d"
           }
          ],
          "parcoords": [
           {
            "line": {
             "colorbar": {
              "outlinewidth": 0,
              "ticks": ""
             }
            },
            "type": "parcoords"
           }
          ],
          "pie": [
           {
            "automargin": true,
            "type": "pie"
           }
          ],
          "scatter": [
           {
            "fillpattern": {
             "fillmode": "overlay",
             "size": 10,
             "solidity": 0.2
            },
            "type": "scatter"
           }
          ],
          "scatter3d": [
           {
            "line": {
             "colorbar": {
              "outlinewidth": 0,
              "ticks": ""
             }
            },
            "marker": {
             "colorbar": {
              "outlinewidth": 0,
              "ticks": ""
             }
            },
            "type": "scatter3d"
           }
          ],
          "scattercarpet": [
           {
            "marker": {
             "colorbar": {
              "outlinewidth": 0,
              "ticks": ""
             }
            },
            "type": "scattercarpet"
           }
          ],
          "scattergeo": [
           {
            "marker": {
             "colorbar": {
              "outlinewidth": 0,
              "ticks": ""
             }
            },
            "type": "scattergeo"
           }
          ],
          "scattergl": [
           {
            "marker": {
             "colorbar": {
              "outlinewidth": 0,
              "ticks": ""
             }
            },
            "type": "scattergl"
           }
          ],
          "scattermapbox": [
           {
            "marker": {
             "colorbar": {
              "outlinewidth": 0,
              "ticks": ""
             }
            },
            "type": "scattermapbox"
           }
          ],
          "scatterpolar": [
           {
            "marker": {
             "colorbar": {
              "outlinewidth": 0,
              "ticks": ""
             }
            },
            "type": "scatterpolar"
           }
          ],
          "scatterpolargl": [
           {
            "marker": {
             "colorbar": {
              "outlinewidth": 0,
              "ticks": ""
             }
            },
            "type": "scatterpolargl"
           }
          ],
          "scatterternary": [
           {
            "marker": {
             "colorbar": {
              "outlinewidth": 0,
              "ticks": ""
             }
            },
            "type": "scatterternary"
           }
          ],
          "surface": [
           {
            "colorbar": {
             "outlinewidth": 0,
             "ticks": ""
            },
            "colorscale": [
             [
              0,
              "#0d0887"
             ],
             [
              0.1111111111111111,
              "#46039f"
             ],
             [
              0.2222222222222222,
              "#7201a8"
             ],
             [
              0.3333333333333333,
              "#9c179e"
             ],
             [
              0.4444444444444444,
              "#bd3786"
             ],
             [
              0.5555555555555556,
              "#d8576b"
             ],
             [
              0.6666666666666666,
              "#ed7953"
             ],
             [
              0.7777777777777778,
              "#fb9f3a"
             ],
             [
              0.8888888888888888,
              "#fdca26"
             ],
             [
              1,
              "#f0f921"
             ]
            ],
            "type": "surface"
           }
          ],
          "table": [
           {
            "cells": {
             "fill": {
              "color": "#EBF0F8"
             },
             "line": {
              "color": "white"
             }
            },
            "header": {
             "fill": {
              "color": "#C8D4E3"
             },
             "line": {
              "color": "white"
             }
            },
            "type": "table"
           }
          ]
         },
         "layout": {
          "annotationdefaults": {
           "arrowcolor": "#2a3f5f",
           "arrowhead": 0,
           "arrowwidth": 1
          },
          "autotypenumbers": "strict",
          "coloraxis": {
           "colorbar": {
            "outlinewidth": 0,
            "ticks": ""
           }
          },
          "colorscale": {
           "diverging": [
            [
             0,
             "#8e0152"
            ],
            [
             0.1,
             "#c51b7d"
            ],
            [
             0.2,
             "#de77ae"
            ],
            [
             0.3,
             "#f1b6da"
            ],
            [
             0.4,
             "#fde0ef"
            ],
            [
             0.5,
             "#f7f7f7"
            ],
            [
             0.6,
             "#e6f5d0"
            ],
            [
             0.7,
             "#b8e186"
            ],
            [
             0.8,
             "#7fbc41"
            ],
            [
             0.9,
             "#4d9221"
            ],
            [
             1,
             "#276419"
            ]
           ],
           "sequential": [
            [
             0,
             "#0d0887"
            ],
            [
             0.1111111111111111,
             "#46039f"
            ],
            [
             0.2222222222222222,
             "#7201a8"
            ],
            [
             0.3333333333333333,
             "#9c179e"
            ],
            [
             0.4444444444444444,
             "#bd3786"
            ],
            [
             0.5555555555555556,
             "#d8576b"
            ],
            [
             0.6666666666666666,
             "#ed7953"
            ],
            [
             0.7777777777777778,
             "#fb9f3a"
            ],
            [
             0.8888888888888888,
             "#fdca26"
            ],
            [
             1,
             "#f0f921"
            ]
           ],
           "sequentialminus": [
            [
             0,
             "#0d0887"
            ],
            [
             0.1111111111111111,
             "#46039f"
            ],
            [
             0.2222222222222222,
             "#7201a8"
            ],
            [
             0.3333333333333333,
             "#9c179e"
            ],
            [
             0.4444444444444444,
             "#bd3786"
            ],
            [
             0.5555555555555556,
             "#d8576b"
            ],
            [
             0.6666666666666666,
             "#ed7953"
            ],
            [
             0.7777777777777778,
             "#fb9f3a"
            ],
            [
             0.8888888888888888,
             "#fdca26"
            ],
            [
             1,
             "#f0f921"
            ]
           ]
          },
          "colorway": [
           "#636efa",
           "#EF553B",
           "#00cc96",
           "#ab63fa",
           "#FFA15A",
           "#19d3f3",
           "#FF6692",
           "#B6E880",
           "#FF97FF",
           "#FECB52"
          ],
          "font": {
           "color": "#2a3f5f"
          },
          "geo": {
           "bgcolor": "white",
           "lakecolor": "white",
           "landcolor": "#E5ECF6",
           "showlakes": true,
           "showland": true,
           "subunitcolor": "white"
          },
          "hoverlabel": {
           "align": "left"
          },
          "hovermode": "closest",
          "mapbox": {
           "style": "light"
          },
          "paper_bgcolor": "white",
          "plot_bgcolor": "#E5ECF6",
          "polar": {
           "angularaxis": {
            "gridcolor": "white",
            "linecolor": "white",
            "ticks": ""
           },
           "bgcolor": "#E5ECF6",
           "radialaxis": {
            "gridcolor": "white",
            "linecolor": "white",
            "ticks": ""
           }
          },
          "scene": {
           "xaxis": {
            "backgroundcolor": "#E5ECF6",
            "gridcolor": "white",
            "gridwidth": 2,
            "linecolor": "white",
            "showbackground": true,
            "ticks": "",
            "zerolinecolor": "white"
           },
           "yaxis": {
            "backgroundcolor": "#E5ECF6",
            "gridcolor": "white",
            "gridwidth": 2,
            "linecolor": "white",
            "showbackground": true,
            "ticks": "",
            "zerolinecolor": "white"
           },
           "zaxis": {
            "backgroundcolor": "#E5ECF6",
            "gridcolor": "white",
            "gridwidth": 2,
            "linecolor": "white",
            "showbackground": true,
            "ticks": "",
            "zerolinecolor": "white"
           }
          },
          "shapedefaults": {
           "line": {
            "color": "#2a3f5f"
           }
          },
          "ternary": {
           "aaxis": {
            "gridcolor": "white",
            "linecolor": "white",
            "ticks": ""
           },
           "baxis": {
            "gridcolor": "white",
            "linecolor": "white",
            "ticks": ""
           },
           "bgcolor": "#E5ECF6",
           "caxis": {
            "gridcolor": "white",
            "linecolor": "white",
            "ticks": ""
           }
          },
          "title": {
           "x": 0.05
          },
          "xaxis": {
           "automargin": true,
           "gridcolor": "white",
           "linecolor": "white",
           "ticks": "",
           "title": {
            "standoff": 15
           },
           "zerolinecolor": "white",
           "zerolinewidth": 2
          },
          "yaxis": {
           "automargin": true,
           "gridcolor": "white",
           "linecolor": "white",
           "ticks": "",
           "title": {
            "standoff": 15
           },
           "zerolinecolor": "white",
           "zerolinewidth": 2
          }
         }
        },
        "title": {
         "text": "Intermediate Values Plot"
        },
        "xaxis": {
         "title": {
          "text": "Step"
         }
        },
        "yaxis": {
         "title": {
          "text": "Intermediate Value"
         }
        }
       }
      }
     },
     "metadata": {},
     "output_type": "display_data"
    }
   ],
   "source": [
    "# create graph directory for this model\n",
    "graph_path = pathlib.Path(\n",
    "    f\"../../figures/{mlp_params.MODEL_TYPE}/{mlp_params.MODEL_NAME}/{mlp_params.CELL_TYPE}/hyperparameter_optimization\"\n",
    ").resolve(strict=True)\n",
    "\n",
    "pathlib.Path(graph_path).mkdir(parents=True, exist_ok=True)\n",
    "fig = optuna.visualization.plot_intermediate_values(study)\n",
    "\n",
    "graph_path = f\"{graph_path}/plot_intermediate_values_graph\"\n",
    "\n",
    "fig.write_image(pathlib.Path(f\"{graph_path}.png\"))\n",
    "fig.show()"
   ]
  },
  {
   "cell_type": "code",
   "execution_count": 34,
   "id": "325a1ec3",
   "metadata": {
    "execution": {
     "iopub.execute_input": "2023-10-18T18:17:37.971533Z",
     "iopub.status.busy": "2023-10-18T18:17:37.971249Z",
     "iopub.status.idle": "2023-10-18T18:17:37.974028Z",
     "shell.execute_reply": "2023-10-18T18:17:37.973638Z"
    },
    "papermill": {
     "duration": null,
     "end_time": null,
     "exception": null,
     "start_time": null,
     "status": "completed"
    },
    "tags": []
   },
   "outputs": [],
   "source": [
    "param_dict = extract_best_trial_params(\n",
    "    study.best_params, params, model_name=mlp_params.MODEL_NAME\n",
    ")"
   ]
  }
 ],
 "metadata": {
  "jupytext": {
   "cell_metadata_filter": "-all",
   "encoding": "# coding: utf-8",
   "executable": "/usr/bin/env python",
   "formats": "ipynb,py",
   "main_language": "python"
  },
  "kernelspec": {
   "display_name": "Python 3 (ipykernel)",
   "language": "python",
   "name": "python3"
  },
  "language_info": {
   "codemirror_mode": {
    "name": "ipython",
    "version": 3
   },
   "file_extension": ".py",
   "mimetype": "text/x-python",
   "name": "python",
   "nbconvert_exporter": "python",
   "pygments_lexer": "ipython3",
   "version": "3.10.14"
  },
  "papermill": {
   "default_parameters": {},
   "duration": 59.524284,
   "end_time": "2023-10-18T18:21:03.252265",
   "environment_variables": {},
   "exception": null,
   "input_path": "Hyperparameter_Optimization_model_binary.ipynb",
   "output_path": "Hyperparameter_Optimization_model_binary.ipynb",
   "parameters": {
    "CELL_TYPE": "PBMC",
    "CONTROL_NAME": "DMSO_0.100_%_DMSO_0.025_%",
    "MODEL_NAME": "DMSO_0.025_vs_Thapsigargin_10",
    "TREATMENT_NAME": "Thapsigargin_10.000_uM_DMSO_0.025_%"
   },
   "start_time": "2023-10-18T18:20:03.727981",
   "version": "2.4.0"
  },
  "vscode": {
   "interpreter": {
    "hash": "72ae02083a9ca7d143c492d1aec380c7bf553ec51bd66e90e72bba65228121b6"
   }
  }
 },
 "nbformat": 4,
 "nbformat_minor": 5
}
