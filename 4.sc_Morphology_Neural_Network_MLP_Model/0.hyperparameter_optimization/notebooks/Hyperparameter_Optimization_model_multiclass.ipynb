{
 "cells": [
  {
   "attachments": {},
   "cell_type": "markdown",
   "id": "8e60628c",
   "metadata": {
    "papermill": {
     "duration": 0.002385,
     "end_time": "2023-10-18T18:20:04.868387",
     "exception": false,
     "start_time": "2023-10-18T18:20:04.866002",
     "status": "completed"
    },
    "tags": []
   },
   "source": [
    "## Hyperparameter tuning via Optuna"
   ]
  },
  {
   "cell_type": "markdown",
   "id": "8fac71a5",
   "metadata": {
    "papermill": {
     "duration": 0.001919,
     "end_time": "2023-10-18T18:20:04.873048",
     "exception": false,
     "start_time": "2023-10-18T18:20:04.871129",
     "status": "completed"
    },
    "tags": []
   },
   "source": [
    "### Being a binary model this notebook will be limited to predicting one class 1 or 0, yes or no.\n",
    "### Here I will be predicting if a cell received a treatment or not"
   ]
  },
  {
   "cell_type": "code",
   "execution_count": 1,
   "id": "860a61dd",
   "metadata": {
    "execution": {
     "iopub.execute_input": "2023-10-18T18:20:04.878009Z",
     "iopub.status.busy": "2023-10-18T18:20:04.877582Z",
     "iopub.status.idle": "2023-10-18T18:20:08.479452Z",
     "shell.execute_reply": "2023-10-18T18:20:08.478953Z"
    },
    "papermill": {
     "duration": 3.605361,
     "end_time": "2023-10-18T18:20:08.480497",
     "exception": false,
     "start_time": "2023-10-18T18:20:04.875136",
     "status": "completed"
    },
    "tags": []
   },
   "outputs": [],
   "source": [
    "import pathlib\n",
    "import sys\n",
    "\n",
    "import numpy as np\n",
    "import optuna\n",
    "import pandas as pd\n",
    "import pyarrow.parquet as pq\n",
    "import toml\n",
    "import torch\n",
    "from sklearn import preprocessing\n",
    "\n",
    "sys.path.append(\"../..\")\n",
    "\n",
    "import argparse\n",
    "\n",
    "from MLP_utils.parameters import Parameters\n",
    "from MLP_utils.utils import (\n",
    "    Dataset_formatter,\n",
    "    data_split,\n",
    "    extract_best_trial_params,\n",
    "    objective_model_optimizer,\n",
    "    parameter_set,\n",
    "    plot_metric_vs_epoch,\n",
    "    results_output,\n",
    "    test_optimized_model,\n",
    "    train_optimized_model,\n",
    "    un_nest,\n",
    ")\n",
    "from sklearn.model_selection import train_test_split\n",
    "\n",
    "sys.path.append(\"../../..\")\n",
    "from utils.utils import df_stats"
   ]
  },
  {
   "cell_type": "code",
   "execution_count": 2,
   "id": "15fbe814",
   "metadata": {},
   "outputs": [],
   "source": [
    "# set up the parser\n",
    "parser = argparse.ArgumentParser(description=\"Run hyperparameter optimization\")\n",
    "parser.add_argument(\n",
    "    \"--cell_type\",\n",
    "    type=str,\n",
    "    default=\"all\",\n",
    "    help=\"Cell type to run hyperparameter optimization for\",\n",
    ")\n",
    "parser.add_argument(\n",
    "    \"--model_name\",\n",
    "    type=str,\n",
    "    default=\"all\",\n",
    "    help=\"Model name to run hyperparameter optimization for\",\n",
    ")\n",
    "\n",
    "# parse arguments\n",
    "args = parser.parse_args()\n",
    "\n",
    "CELL_TYPE = args.cell_type\n",
    "MODEL_NAME = args.model_name"
   ]
  },
  {
   "cell_type": "code",
   "execution_count": 4,
   "id": "394294ce",
   "metadata": {
    "execution": {
     "iopub.execute_input": "2023-10-18T18:20:08.498713Z",
     "iopub.status.busy": "2023-10-18T18:20:08.498501Z",
     "iopub.status.idle": "2023-10-18T18:20:08.502638Z",
     "shell.execute_reply": "2023-10-18T18:20:08.502299Z"
    },
    "papermill": {
     "duration": 0.007175,
     "end_time": "2023-10-18T18:20:08.503377",
     "exception": false,
     "start_time": "2023-10-18T18:20:08.496202",
     "status": "completed"
    },
    "tags": []
   },
   "outputs": [],
   "source": [
    "ml_configs_file = pathlib.Path(\"../../MLP_utils/multi_class_config.toml\").resolve(\n",
    "    strict=True\n",
    ")\n",
    "ml_configs = toml.load(ml_configs_file)\n",
    "params = Parameters()\n",
    "mlp_params = parameter_set(params, ml_configs)\n",
    "\n",
    "# overwrite params via command line arguments from papermill\n",
    "mlp_params.CELL_TYPE = CELL_TYPE\n",
    "mlp_params.MODEL_NAME = MODEL_NAME\n",
    "MODEL_TYPE = mlp_params.MODEL_TYPE\n",
    "HYPERPARAMETER_BATCH_SIZE = mlp_params.HYPERPARAMETER_BATCH_SIZE"
   ]
  },
  {
   "cell_type": "code",
   "execution_count": 5,
   "id": "44baa945",
   "metadata": {
    "execution": {
     "iopub.execute_input": "2023-10-18T18:20:08.507805Z",
     "iopub.status.busy": "2023-10-18T18:20:08.507608Z"
    },
    "papermill": {
     "duration": 54.581971,
     "end_time": "2023-10-18T18:21:03.087265",
     "exception": false,
     "start_time": "2023-10-18T18:20:08.505294",
     "status": "completed"
    },
    "tags": []
   },
   "outputs": [],
   "source": [
    "# Import Data\n",
    "# set data file path under pathlib path for multi-system use\n",
    "\n",
    "file_path = pathlib.Path(\n",
    "    f\"../../../data/{mlp_params.CELL_TYPE}_preprocessed_sc_norm.parquet\"\n",
    ").resolve(strict=True)\n",
    "\n",
    "df1 = pd.read_parquet(file_path)"
   ]
  },
  {
   "cell_type": "code",
   "execution_count": 6,
   "id": "e8ef96f3",
   "metadata": {},
   "outputs": [],
   "source": [
    "# get paths for toml files\n",
    "ground_truth_file_path = pathlib.Path(f\"../../MLP_utils/ground_truth.toml\").resolve(\n",
    "    strict=True\n",
    ")\n",
    "treatment_splits_file_path = pathlib.Path(f\"../../MLP_utils/splits.toml\").resolve(\n",
    "    strict=True\n",
    ")\n",
    "# read toml files\n",
    "ground_truth = toml.load(ground_truth_file_path)\n",
    "treatment_splits = toml.load(treatment_splits_file_path)"
   ]
  },
  {
   "cell_type": "code",
   "execution_count": 7,
   "id": "29c1f3cb",
   "metadata": {},
   "outputs": [],
   "source": [
    "# get information from toml files\n",
    "apoptosis_groups_list = ground_truth[\"Apoptosis\"][\"apoptosis_groups_list\"]\n",
    "pyroptosis_groups_list = ground_truth[\"Pyroptosis\"][\"pyroptosis_groups_list\"]\n",
    "healthy_groups_list = ground_truth[\"Healthy\"][\"healthy_groups_list\"]\n",
    "test_split_100 = treatment_splits[\"splits\"][\"data_splits_100\"]\n",
    "test_split_75 = treatment_splits[\"splits\"][\"data_splits_75\"]"
   ]
  },
  {
   "cell_type": "code",
   "execution_count": 8,
   "id": "159e2281",
   "metadata": {},
   "outputs": [
    {
     "name": "stdout",
     "output_type": "stream",
     "text": [
      "Data Subset Is On\n",
      "Data is subset to 500 per treatment group\n",
      "(19000, 1276)\n"
     ]
    }
   ],
   "source": [
    "np.random.seed(0)\n",
    "if mlp_params.DATA_SUBSET_OPTION == \"True\":\n",
    "    df1 = df1.groupby(\"oneb_Metadata_Treatment_Dose_Inhibitor_Dose\").apply(\n",
    "        lambda x: x.sample(n=mlp_params.DATA_SUBSET_NUMBER, random_state=0)\n",
    "    )\n",
    "    print(\"Data Subset Is On\")\n",
    "    print(f\"Data is subset to {mlp_params.DATA_SUBSET_NUMBER} per treatment group\")\n",
    "    print(df1.shape)\n",
    "    df1.reset_index(drop=True, inplace=True)\n",
    "else:\n",
    "    print(\"Data Subset Is Off\")"
   ]
  },
  {
   "cell_type": "code",
   "execution_count": 9,
   "id": "6a6ec3fa",
   "metadata": {},
   "outputs": [],
   "source": [
    "# add apoptosis, pyroptosis and healthy columns to dataframe\n",
    "df1[\"apoptosis\"] = df1.apply(\n",
    "    lambda row: row[\"oneb_Metadata_Treatment_Dose_Inhibitor_Dose\"]\n",
    "    in apoptosis_groups_list,\n",
    "    axis=1,\n",
    ")\n",
    "df1[\"pyroptosis\"] = df1.apply(\n",
    "    lambda row: row[\"oneb_Metadata_Treatment_Dose_Inhibitor_Dose\"]\n",
    "    in pyroptosis_groups_list,\n",
    "    axis=1,\n",
    ")\n",
    "df1[\"healthy\"] = df1.apply(\n",
    "    lambda row: row[\"oneb_Metadata_Treatment_Dose_Inhibitor_Dose\"]\n",
    "    in healthy_groups_list,\n",
    "    axis=1,\n",
    ")\n",
    "\n",
    "# merge apoptosis, pyroptosis, and healthy columns into one column\n",
    "df1[\"labels\"] = df1.apply(\n",
    "    lambda row: \"apoptosis\"\n",
    "    if row[\"apoptosis\"]\n",
    "    else \"pyroptosis\"\n",
    "    if row[\"pyroptosis\"]\n",
    "    else \"healthy\",\n",
    "    axis=1,\n",
    ")\n",
    "# drop apoptosis, pyroptosis, and healthy columns\n",
    "df1.drop(columns=[\"apoptosis\", \"pyroptosis\", \"healthy\"], inplace=True)"
   ]
  },
  {
   "cell_type": "markdown",
   "id": "3cb179dd",
   "metadata": {},
   "source": [
    "### Split said data"
   ]
  },
  {
   "cell_type": "code",
   "execution_count": 10,
   "id": "20568fd5",
   "metadata": {},
   "outputs": [
    {
     "name": "stdout",
     "output_type": "stream",
     "text": [
      "Wells held out for testing: ['C15' 'J13' 'D13' 'N13' 'E23' 'F19' 'G19' 'L18' 'M18' 'N22' 'H19' 'I18'\n",
      " 'J19' 'K19' 'B21' 'C16' 'D20' 'E16' 'F16' 'G17' 'H16' 'I20' 'J20' 'K20'\n",
      " 'M21' 'N20' 'O16' 'L16' 'B19' 'D19' 'C23' 'K14' 'E14' 'N14' 'H15' 'M14'\n",
      " 'O23' 'O18']\n",
      "Wells to use for training, validation, and testing ['C14' 'J14' 'J15' 'B14' 'I14' 'B15' 'I15' 'C15' 'O13' 'J13' 'H13' 'C13'\n",
      " 'D13' 'M13' 'K13' 'F13' 'G13' 'L13' 'E13' 'N13' 'E18' 'E22' 'E23' 'E19'\n",
      " 'F22' 'F18' 'F19' 'F23' 'G23' 'G19' 'G18' 'G22' 'L19' 'L23' 'L18' 'L22'\n",
      " 'M23' 'M22' 'M18' 'M19' 'N22' 'N18' 'N19' 'N23' 'H18' 'H23' 'H22' 'H19'\n",
      " 'I23' 'I19' 'I18' 'I22' 'J19' 'J23' 'J22' 'J18' 'K19' 'K22' 'K23' 'K18'\n",
      " 'B16' 'B21' 'B20' 'B17' 'C16' 'C21' 'C17' 'C20' 'D20' 'D17' 'D21' 'D16'\n",
      " 'E16' 'E20' 'E21' 'E17' 'F17' 'F21' 'F16' 'F20' 'G21' 'G16' 'G20' 'G17'\n",
      " 'H21' 'H17' 'H16' 'H20' 'I16' 'I17' 'I20' 'I21' 'J20' 'J21' 'J16' 'J17'\n",
      " 'K20' 'K17' 'K16' 'K21' 'M20' 'M16' 'M17' 'M21' 'N20' 'N17' 'N21' 'N16'\n",
      " 'O17' 'O21' 'O16' 'O20' 'L17' 'L21' 'L16' 'L20' 'B22' 'B18' 'B19' 'B23'\n",
      " 'D18' 'D19' 'D23' 'D22' 'C23' 'C19' 'C22' 'C18' 'K14' 'K15' 'D14' 'D15'\n",
      " 'L14' 'E15' 'L15' 'E14' 'N14' 'N15' 'G14' 'G15' 'O15' 'H14' 'H15' 'O14'\n",
      " 'F14' 'M14' 'M15' 'F15' 'O23' 'I13' 'B13' 'O22' 'O19' 'O18']\n"
     ]
    }
   ],
   "source": [
    "# randomly select wells to hold out for testing one per treatment group\n",
    "# stratified by treatment group\n",
    "np.random.seed(seed=0)\n",
    "wells_to_hold = (\n",
    "    df1.groupby(\"oneb_Metadata_Treatment_Dose_Inhibitor_Dose\")\n",
    "    .agg(np.random.choice)[\"Metadata_Well\"]\n",
    "    .to_list()\n",
    ")\n",
    "df_holdout = df1[df1[\"Metadata_Well\"].isin(wells_to_hold)]\n",
    "df = df1[~df1[\"Metadata_Well\"].isin(wells_to_hold)]\n",
    "\n",
    "\n",
    "print(\"Wells held out for testing:\", df_holdout[\"Metadata_Well\"].unique())\n",
    "print(\n",
    "    \"Wells to use for training, validation, and testing\", df1[\"Metadata_Well\"].unique()\n",
    ")"
   ]
  },
  {
   "cell_type": "code",
   "execution_count": 11,
   "id": "5a46d3a7",
   "metadata": {},
   "outputs": [
    {
     "name": "stdout",
     "output_type": "stream",
     "text": [
      "(1466, 1277) (754, 1277) (11889, 1277)\n"
     ]
    }
   ],
   "source": [
    "# variable test and train set splits\n",
    "# 100% test set\n",
    "# subset the following treatments for test set\n",
    "treatment_holdout = df[\n",
    "    df[\"oneb_Metadata_Treatment_Dose_Inhibitor_Dose\"].isin(test_split_100)\n",
    "]\n",
    "# 75% test set and 25% train set\n",
    "test_set_75 = df[df[\"oneb_Metadata_Treatment_Dose_Inhibitor_Dose\"].isin(test_split_75)]\n",
    "\n",
    "test_100_and_75 = test_split_100 + test_split_75\n",
    "\n",
    "# 50% test set and 50% train set\n",
    "# get all treatments that are not in the_test_set_all and the test_set_75\n",
    "test_set_50 = df[\n",
    "    ~df[\"oneb_Metadata_Treatment_Dose_Inhibitor_Dose\"].isin(test_100_and_75)\n",
    "]\n",
    "\n",
    "print(treatment_holdout.shape, test_set_75.shape, test_set_50.shape)"
   ]
  },
  {
   "cell_type": "code",
   "execution_count": 12,
   "id": "26b32963",
   "metadata": {},
   "outputs": [
    {
     "name": "stdout",
     "output_type": "stream",
     "text": [
      "Shape for the 100% test set: (1466, 1277)\n",
      "\n",
      "Shape for the 75% test set: (188, 1277);\n",
      "Shape for the 75% train set: (566, 1277)\n",
      "\n",
      "Shape for the 50% test set: (5944, 1277);\n",
      "Shape for the 50% train set: (5945, 1277)\n",
      "Shape for the holdout set: (4891, 1277)\n"
     ]
    }
   ],
   "source": [
    "# get the train test splits from each group\n",
    "# 100% test set\n",
    "treatment_holdout\n",
    "\n",
    "# 75% test set and 25% train set\n",
    "test_ratio = 0.75\n",
    "training_data_set_75, testing_data_set_75 = train_test_split(\n",
    "    test_set_75,\n",
    "    test_size=test_ratio,\n",
    "    stratify=test_set_75[\"oneb_Metadata_Treatment_Dose_Inhibitor_Dose\"],\n",
    "    random_state=0,\n",
    ")\n",
    "\n",
    "# 50% test set and 50% train set\n",
    "test_ratio = 0.5\n",
    "training_data_set_50, testing_data_set_50 = train_test_split(\n",
    "    test_set_50,\n",
    "    test_size=test_ratio,\n",
    "    stratify=test_set_50[\"oneb_Metadata_Treatment_Dose_Inhibitor_Dose\"],\n",
    "    random_state=0,\n",
    ")\n",
    "\n",
    "# verify that the correct splits have been made\n",
    "# 100% test set\n",
    "print(f\"Shape for the 100% test set: {treatment_holdout.shape}\\n\")\n",
    "\n",
    "# 75% test set and 25% train set\n",
    "print(\n",
    "    f\"Shape for the 75% test set: {training_data_set_75.shape};\\nShape for the 75% train set: {testing_data_set_75.shape}\\n\"\n",
    ")\n",
    "\n",
    "# 50% test set and 50% train set\n",
    "print(\n",
    "    f\"Shape for the 50% test set: {training_data_set_50.shape};\\nShape for the 50% train set: {testing_data_set_50.shape}\"\n",
    ")\n",
    "\n",
    "print(f\"Shape for the holdout set: {df_holdout.shape}\")"
   ]
  },
  {
   "cell_type": "code",
   "execution_count": 13,
   "id": "9bf407c4",
   "metadata": {},
   "outputs": [
    {
     "name": "stdout",
     "output_type": "stream",
     "text": [
      "\n",
      "    Testing set length: 6511\n",
      "\n",
      "    Training set length: 4905\n",
      "\n",
      "    Validation set length: 1227\n",
      "\n",
      "    Treatment Holdout set length: 1466\n",
      "\n",
      "    Holdout set length: 4891\n"
     ]
    }
   ],
   "source": [
    "treatment_holdout\n",
    "# combine all testing sets together while preserving the index\n",
    "testing_data_set = pd.concat([testing_data_set_75, testing_data_set_50], axis=0)\n",
    "testing_data_set = testing_data_set.sort_index()\n",
    "testing_data_set\n",
    "\n",
    "# combine all training sets together while preserving the index\n",
    "training_data_set = pd.concat([training_data_set_75, training_data_set_50], axis=0)\n",
    "training_data_set = training_data_set.sort_index()\n",
    "training_data_set\n",
    "\n",
    "training_data_set, val_data_set = train_test_split(\n",
    "    training_data_set,\n",
    "    test_size=0.20,\n",
    "    stratify=training_data_set[\"oneb_Metadata_Treatment_Dose_Inhibitor_Dose\"],\n",
    ")\n",
    "print(\n",
    "    f\"\"\"\n",
    "    Testing set length: {len(testing_data_set)}\\n\n",
    "    Training set length: {len(training_data_set)}\\n\n",
    "    Validation set length: {len(val_data_set)}\\n\n",
    "    Treatment Holdout set length: {len(treatment_holdout)}\\n\n",
    "    Holdout set length: {len(df_holdout)}\"\"\"\n",
    ")"
   ]
  },
  {
   "cell_type": "code",
   "execution_count": 14,
   "id": "5da1578c",
   "metadata": {},
   "outputs": [],
   "source": [
    "# get the indexes for the training and testing sets\n",
    "\n",
    "training_data_set_index = training_data_set.index\n",
    "val_data_set_index = val_data_set.index\n",
    "testing_data_set_index = testing_data_set.index\n",
    "treatment_holdout_index = treatment_holdout.index\n",
    "df_holdout_index = df_holdout.index"
   ]
  },
  {
   "cell_type": "code",
   "execution_count": 15,
   "id": "bce398ed",
   "metadata": {},
   "outputs": [
    {
     "name": "stdout",
     "output_type": "stream",
     "text": [
      "(4905,) (1227,) (6511,) (1466,) (4891,)\n",
      "19000\n"
     ]
    }
   ],
   "source": [
    "print(\n",
    "    training_data_set_index.shape,\n",
    "    val_data_set_index.shape,\n",
    "    testing_data_set_index.shape,\n",
    "    treatment_holdout_index.shape,\n",
    "    df_holdout_index.shape,\n",
    ")\n",
    "print(\n",
    "    training_data_set_index.shape[0]\n",
    "    + val_data_set_index.shape[0]\n",
    "    + testing_data_set_index.shape[0]\n",
    "    + treatment_holdout_index.shape[0]\n",
    "    + df_holdout_index.shape[0]\n",
    ")"
   ]
  },
  {
   "cell_type": "code",
   "execution_count": 16,
   "id": "ad856f53",
   "metadata": {},
   "outputs": [
    {
     "data": {
      "text/html": [
       "<div>\n",
       "<style scoped>\n",
       "    .dataframe tbody tr th:only-of-type {\n",
       "        vertical-align: middle;\n",
       "    }\n",
       "\n",
       "    .dataframe tbody tr th {\n",
       "        vertical-align: top;\n",
       "    }\n",
       "\n",
       "    .dataframe thead th {\n",
       "        text-align: right;\n",
       "    }\n",
       "</style>\n",
       "<table border=\"1\" class=\"dataframe\">\n",
       "  <thead>\n",
       "    <tr style=\"text-align: right;\">\n",
       "      <th></th>\n",
       "      <th>labeled_data_index</th>\n",
       "      <th>label</th>\n",
       "    </tr>\n",
       "  </thead>\n",
       "  <tbody>\n",
       "    <tr>\n",
       "      <th>0</th>\n",
       "      <td>18977</td>\n",
       "      <td>train</td>\n",
       "    </tr>\n",
       "    <tr>\n",
       "      <th>1</th>\n",
       "      <td>15358</td>\n",
       "      <td>train</td>\n",
       "    </tr>\n",
       "    <tr>\n",
       "      <th>2</th>\n",
       "      <td>18592</td>\n",
       "      <td>train</td>\n",
       "    </tr>\n",
       "    <tr>\n",
       "      <th>3</th>\n",
       "      <td>13499</td>\n",
       "      <td>train</td>\n",
       "    </tr>\n",
       "    <tr>\n",
       "      <th>4</th>\n",
       "      <td>66</td>\n",
       "      <td>train</td>\n",
       "    </tr>\n",
       "    <tr>\n",
       "      <th>...</th>\n",
       "      <td>...</td>\n",
       "      <td>...</td>\n",
       "    </tr>\n",
       "    <tr>\n",
       "      <th>18995</th>\n",
       "      <td>18990</td>\n",
       "      <td>holdout</td>\n",
       "    </tr>\n",
       "    <tr>\n",
       "      <th>18996</th>\n",
       "      <td>18993</td>\n",
       "      <td>holdout</td>\n",
       "    </tr>\n",
       "    <tr>\n",
       "      <th>18997</th>\n",
       "      <td>18997</td>\n",
       "      <td>holdout</td>\n",
       "    </tr>\n",
       "    <tr>\n",
       "      <th>18998</th>\n",
       "      <td>18998</td>\n",
       "      <td>holdout</td>\n",
       "    </tr>\n",
       "    <tr>\n",
       "      <th>18999</th>\n",
       "      <td>18999</td>\n",
       "      <td>holdout</td>\n",
       "    </tr>\n",
       "  </tbody>\n",
       "</table>\n",
       "<p>19000 rows × 2 columns</p>\n",
       "</div>"
      ],
      "text/plain": [
       "       labeled_data_index    label\n",
       "0                   18977    train\n",
       "1                   15358    train\n",
       "2                   18592    train\n",
       "3                   13499    train\n",
       "4                      66    train\n",
       "...                   ...      ...\n",
       "18995               18990  holdout\n",
       "18996               18993  holdout\n",
       "18997               18997  holdout\n",
       "18998               18998  holdout\n",
       "18999               18999  holdout\n",
       "\n",
       "[19000 rows x 2 columns]"
      ]
     },
     "execution_count": 16,
     "metadata": {},
     "output_type": "execute_result"
    }
   ],
   "source": [
    "# create pandas dataframe with all indexes and their respective labels, stratified by phenotypic class\n",
    "index_data = []\n",
    "for index in training_data_set_index:\n",
    "    index_data.append({\"labeled_data_index\": index, \"label\": \"train\"})\n",
    "for index in val_data_set_index:\n",
    "    index_data.append({\"labeled_data_index\": index, \"label\": \"val\"})\n",
    "for index in testing_data_set_index:\n",
    "    index_data.append({\"labeled_data_index\": index, \"label\": \"test\"})\n",
    "for index in treatment_holdout_index:\n",
    "    index_data.append({\"labeled_data_index\": index, \"label\": \"treatment_holdout\"})\n",
    "for index in df_holdout_index:\n",
    "    index_data.append({\"labeled_data_index\": index, \"label\": \"holdout\"})\n",
    "\n",
    "# make index data a dataframe and sort it by labeled data index\n",
    "index_data = pd.DataFrame(index_data)\n",
    "index_data"
   ]
  },
  {
   "cell_type": "code",
   "execution_count": 17,
   "metadata": {},
   "outputs": [
    {
     "data": {
      "text/plain": [
       "array(['train', 'val', 'test', 'treatment_holdout', 'holdout'],\n",
       "      dtype=object)"
      ]
     },
     "execution_count": 17,
     "metadata": {},
     "output_type": "execute_result"
    }
   ],
   "source": [
    "index_data[\"label\"].unique()"
   ]
  },
  {
   "cell_type": "code",
   "execution_count": 18,
   "id": "931ee871",
   "metadata": {},
   "outputs": [
    {
     "name": "stdout",
     "output_type": "stream",
     "text": [
      "../indexes/SHSY5Y/multi_class\n"
     ]
    }
   ],
   "source": [
    "save_path = pathlib.Path(f\"../indexes/{CELL_TYPE}/multi_class/\")\n",
    "\n",
    "print(save_path)\n",
    "# create save path if it doesn't exist\n",
    "save_path.mkdir(parents=True, exist_ok=True)"
   ]
  },
  {
   "cell_type": "code",
   "execution_count": 19,
   "id": "686d1a5d",
   "metadata": {},
   "outputs": [],
   "source": [
    "# save indexes as tsv file\n",
    "index_data.to_csv(\n",
    "    f\"{save_path}/{params.MODEL_NAME}_data_split_indexes.tsv\", sep=\"\\t\", index=False\n",
    ")"
   ]
  },
  {
   "attachments": {},
   "cell_type": "markdown",
   "id": "5c486e00",
   "metadata": {
    "papermill": {
     "duration": null,
     "end_time": null,
     "exception": null,
     "start_time": null,
     "status": "completed"
    },
    "tags": []
   },
   "source": [
    "#### Set up Data to be compatible with model"
   ]
  },
  {
   "attachments": {},
   "cell_type": "markdown",
   "id": "95754baa",
   "metadata": {
    "papermill": {
     "duration": null,
     "end_time": null,
     "exception": null,
     "start_time": null,
     "status": "completed"
    },
    "tags": []
   },
   "source": [
    "##### Classification Models:\n",
    "Comment out code if using regression"
   ]
  },
  {
   "cell_type": "code",
   "execution_count": 20,
   "id": "786e3a76",
   "metadata": {
    "execution": {
     "iopub.execute_input": "2023-10-18T18:19:56.707754Z",
     "iopub.status.busy": "2023-10-18T18:19:56.707475Z",
     "iopub.status.idle": "2023-10-18T18:19:56.711213Z",
     "shell.execute_reply": "2023-10-18T18:19:56.710882Z"
    },
    "papermill": {
     "duration": null,
     "end_time": null,
     "exception": null,
     "start_time": null,
     "status": "completed"
    },
    "tags": []
   },
   "outputs": [],
   "source": [
    "# Code snippet for metadata extraction by Jenna Tomkinson\n",
    "df_metadata = list(df.columns[df.columns.str.contains(\"Metadata\")])\n",
    "\n",
    "# define which columns are data and which are descriptive\n",
    "df_descriptive = df1[df_metadata]\n",
    "df_values = df1.drop(columns=df_metadata)"
   ]
  },
  {
   "cell_type": "code",
   "execution_count": 21,
   "id": "5a354640",
   "metadata": {},
   "outputs": [
    {
     "name": "stdout",
     "output_type": "stream",
     "text": [
      "['apoptosis' 'healthy' 'pyroptosis'] [1000 9500 8500]\n",
      "[0, 1, 2] [0.9473684210526316, 0.5, 0.5526315789473684]\n"
     ]
    }
   ],
   "source": [
    "# get the class weights for the loss function to account for class imbalance\n",
    "# get the number of samples in each class\n",
    "targets, counts = np.unique(df1[\"labels\"], return_counts=True)\n",
    "print(targets, counts)\n",
    "total_counts = np.sum(counts)\n",
    "# get the class weights\n",
    "class_weights = []\n",
    "class_targets = []\n",
    "for class_name in enumerate(targets):\n",
    "    class_targets.append(class_name[0])\n",
    "for count in enumerate(counts):\n",
    "    class_weights.append(1 - (count[1] / total_counts))\n",
    "print(class_targets, class_weights)\n",
    "# write the class weights to a file for use in the model\n",
    "class_weights_file = pathlib.Path(f\"../class_weights/{CELL_TYPE}/multi_class/\")\n",
    "class_weights_file.mkdir(parents=True, exist_ok=True)\n",
    "with open(f\"{class_weights_file}/class_weights.txt\", \"w\") as filehandle:\n",
    "    for listitem in class_weights:\n",
    "        filehandle.write(\"%s\\n\" % listitem)"
   ]
  },
  {
   "cell_type": "code",
   "execution_count": 22,
   "id": "595afb65",
   "metadata": {
    "execution": {
     "iopub.execute_input": "2023-10-18T18:19:56.717727Z",
     "iopub.status.busy": "2023-10-18T18:19:56.717549Z",
     "iopub.status.idle": "2023-10-18T18:19:56.720945Z",
     "shell.execute_reply": "2023-10-18T18:19:56.720676Z"
    },
    "papermill": {
     "duration": null,
     "end_time": null,
     "exception": null,
     "start_time": null,
     "status": "completed"
    },
    "tags": []
   },
   "outputs": [
    {
     "data": {
      "text/plain": [
       "array([1, 2, 0])"
      ]
     },
     "execution_count": 22,
     "metadata": {},
     "output_type": "execute_result"
    }
   ],
   "source": [
    "# Creating label encoder\n",
    "le = preprocessing.LabelEncoder()\n",
    "df_values[\"new_labels\"] = le.fit_transform(df_values[\"labels\"])\n",
    "# get mini dataframe that contains the decoder\n",
    "decoder = df_values[[\"labels\", \"new_labels\"]].drop_duplicates()\n",
    "# split into X and Y where Y are the predictive column and x are the observable data\n",
    "df_values_X = df_values.drop(\n",
    "    [\"new_labels\", \"labels\"],\n",
    "    axis=1,\n",
    ")\n",
    "df_values_Y = df_values[\"new_labels\"]\n",
    "df_values_Y.head()\n",
    "df_values_Y.unique()"
   ]
  },
  {
   "attachments": {},
   "cell_type": "markdown",
   "id": "260a048e",
   "metadata": {
    "papermill": {
     "duration": null,
     "end_time": null,
     "exception": null,
     "start_time": null,
     "status": "completed"
    },
    "tags": []
   },
   "source": [
    "#### Split Data - All Models can proceed through this point"
   ]
  },
  {
   "cell_type": "code",
   "execution_count": 23,
   "id": "b5b6d4fa",
   "metadata": {},
   "outputs": [],
   "source": [
    "# split into train and test sets from indexes previously defined\n",
    "\n",
    "X_train = df_values_X.loc[training_data_set_index]\n",
    "X_val = df_values_X.loc[val_data_set_index]\n",
    "X_test = df_values_X.loc[testing_data_set_index]\n",
    "X_holdout = df_values_X.loc[df_holdout_index]\n",
    "\n",
    "Y_train = df_values_Y.loc[training_data_set_index]\n",
    "Y_val = df_values_Y.loc[val_data_set_index]\n",
    "Y_test = df_values_Y.loc[testing_data_set_index]\n",
    "Y_holdout = df_values_Y.loc[df_holdout_index]"
   ]
  },
  {
   "cell_type": "code",
   "execution_count": 24,
   "id": "36894826",
   "metadata": {
    "execution": {
     "iopub.execute_input": "2023-10-18T18:16:16.591057Z",
     "iopub.status.busy": "2023-10-18T18:16:16.590719Z",
     "iopub.status.idle": "2023-10-18T18:16:16.621857Z",
     "shell.execute_reply": "2023-10-18T18:16:16.621432Z"
    },
    "papermill": {
     "duration": null,
     "end_time": null,
     "exception": null,
     "start_time": null,
     "status": "completed"
    },
    "tags": []
   },
   "outputs": [],
   "source": [
    "# produce data objects for train, val and test datasets\n",
    "train_data = Dataset_formatter(\n",
    "    torch.FloatTensor(X_train.values), torch.FloatTensor(Y_train.values)\n",
    ")\n",
    "val_data = Dataset_formatter(\n",
    "    torch.FloatTensor(X_val.values), torch.FloatTensor(Y_val.values)\n",
    ")\n",
    "test_data = Dataset_formatter(\n",
    "    torch.FloatTensor(X_test.values), torch.FloatTensor(Y_test.values)\n",
    ")"
   ]
  },
  {
   "cell_type": "code",
   "execution_count": 25,
   "id": "4382d712",
   "metadata": {
    "execution": {
     "iopub.execute_input": "2023-10-18T18:16:16.631025Z",
     "iopub.status.busy": "2023-10-18T18:16:16.630857Z",
     "iopub.status.idle": "2023-10-18T18:16:16.634504Z",
     "shell.execute_reply": "2023-10-18T18:16:16.634156Z"
    },
    "papermill": {
     "duration": null,
     "end_time": null,
     "exception": null,
     "start_time": null,
     "status": "completed"
    },
    "tags": []
   },
   "outputs": [
    {
     "name": "stdout",
     "output_type": "stream",
     "text": [
      "Number of in features:  1251\n",
      "Number of out features:  3\n",
      "Multi_Class\n"
     ]
    }
   ],
   "source": [
    "mlp_params.IN_FEATURES = X_train.shape[1]\n",
    "print(\"Number of in features: \", mlp_params.IN_FEATURES)\n",
    "if mlp_params.MODEL_TYPE == \"Regression\":\n",
    "    mlp_params.OUT_FEATURES = 1\n",
    "else:\n",
    "    mlp_params.OUT_FEATURES = len(df_values[\"labels\"].unique())\n",
    "\n",
    "print(\"Number of out features: \", mlp_params.OUT_FEATURES)\n",
    "\n",
    "if mlp_params.OUT_FEATURES > 2:\n",
    "    mlp_params.MODEL_TYPE = \"Multi_Class\"\n",
    "elif mlp_params.OUT_FEATURES == 2:\n",
    "    mlp_params.OUT_FEATURES = mlp_params.OUT_FEATURES - 1\n",
    "    mlp_params.MODEL_TYPE = \"Binary_Classification\"\n",
    "elif mlp_params.OUT_FEATURES == 1:\n",
    "    mlp_params.MODEL_TYPE = \"Regression\"\n",
    "else:\n",
    "    pass\n",
    "print(mlp_params.MODEL_TYPE)"
   ]
  },
  {
   "cell_type": "code",
   "execution_count": 26,
   "id": "77effa5c",
   "metadata": {
    "execution": {
     "iopub.execute_input": "2023-10-18T18:16:16.642779Z",
     "iopub.status.busy": "2023-10-18T18:16:16.642487Z",
     "iopub.status.idle": "2023-10-18T18:16:16.645220Z",
     "shell.execute_reply": "2023-10-18T18:16:16.644897Z"
    },
    "papermill": {
     "duration": null,
     "end_time": null,
     "exception": null,
     "start_time": null,
     "status": "completed"
    },
    "tags": []
   },
   "outputs": [],
   "source": [
    "# convert data class into a dataloader to be compatible with pytorch\n",
    "train_loader = torch.utils.data.DataLoader(\n",
    "    dataset=train_data, batch_size=mlp_params.HYPERPARAMETER_BATCH_SIZE, shuffle=True\n",
    ")\n",
    "valid_loader = torch.utils.data.DataLoader(\n",
    "    dataset=val_data, batch_size=mlp_params.HYPERPARAMETER_BATCH_SIZE, shuffle=False\n",
    ")"
   ]
  },
  {
   "cell_type": "code",
   "execution_count": 27,
   "id": "cb7635c8",
   "metadata": {
    "execution": {
     "iopub.execute_input": "2023-10-18T18:16:16.653709Z",
     "iopub.status.busy": "2023-10-18T18:16:16.653361Z",
     "iopub.status.idle": "2023-10-18T18:16:16.655989Z",
     "shell.execute_reply": "2023-10-18T18:16:16.655583Z"
    },
    "papermill": {
     "duration": null,
     "end_time": null,
     "exception": null,
     "start_time": null,
     "status": "completed"
    },
    "tags": []
   },
   "outputs": [
    {
     "name": "stdout",
     "output_type": "stream",
     "text": [
      "cuda\n"
     ]
    }
   ],
   "source": [
    "# check device\n",
    "print(mlp_params.DEVICE)"
   ]
  },
  {
   "cell_type": "code",
   "execution_count": 28,
   "id": "a969042f",
   "metadata": {
    "execution": {
     "iopub.execute_input": "2023-10-18T18:16:16.663986Z",
     "iopub.status.busy": "2023-10-18T18:16:16.663699Z",
     "iopub.status.idle": "2023-10-18T18:17:37.283791Z",
     "shell.execute_reply": "2023-10-18T18:17:37.283496Z"
    },
    "papermill": {
     "duration": null,
     "end_time": null,
     "exception": null,
     "start_time": null,
     "status": "completed"
    },
    "tags": []
   },
   "outputs": [
    {
     "name": "stderr",
     "output_type": "stream",
     "text": [
      "[I 2023-11-27 13:59:41,906] A new study created in memory with name: no-name-fa0059ac-bea0-4de9-83d8-4a8ed2d6a35b\n",
      "[I 2023-11-27 13:59:47,674] Trial 0 finished with value: 0.8869847229123116 and parameters: {'n_layers': 6, 'n_units_l0': 30, 'dropout_0': 0.20388997190806127, 'n_units_l1': 40, 'dropout_1': 0.15163493044886717, 'n_units_l2': 8, 'dropout_2': 0.19145748733325424, 'n_units_l3': 33, 'dropout_3': 0.28559548369452814, 'n_units_l4': 50, 'dropout_4': 0.11885157652441874, 'n_units_l5': 37, 'dropout_5': 0.1548377113379703, 'learning_rate': 0.08384868747705551, 'optimizer': 'SGD'}. Best is trial 0 with value: 0.8869847229123116.\n",
      "[I 2023-11-27 13:59:52,439] Trial 1 finished with value: 0.8900413140654564 and parameters: {'n_layers': 6, 'n_units_l0': 30, 'dropout_0': 0.34097898389875503, 'n_units_l1': 8, 'dropout_1': 0.15888123053029216, 'n_units_l2': 19, 'dropout_2': 0.20953420143593207, 'n_units_l3': 17, 'dropout_3': 0.24613283669717892, 'n_units_l4': 43, 'dropout_4': 0.29273329389258146, 'n_units_l5': 16, 'dropout_5': 0.3079908718480188, 'learning_rate': 0.06030330075719758, 'optimizer': 'SGD'}. Best is trial 0 with value: 0.8869847229123116.\n",
      "[I 2023-11-27 13:59:56,760] Trial 2 finished with value: 0.725404578447342 and parameters: {'n_layers': 2, 'n_units_l0': 46, 'dropout_0': 0.19843922711485656, 'n_units_l1': 18, 'dropout_1': 0.35263747183683847, 'learning_rate': 0.04549473133949638, 'optimizer': 'SGD'}. Best is trial 2 with value: 0.725404578447342.\n",
      "[I 2023-11-27 14:00:01,412] Trial 3 finished with value: 1.1105030801892282 and parameters: {'n_layers': 6, 'n_units_l0': 18, 'dropout_0': 0.22484010836401983, 'n_units_l1': 19, 'dropout_1': 0.3315503354528673, 'n_units_l2': 6, 'dropout_2': 0.2852257447383001, 'n_units_l3': 20, 'dropout_3': 0.30051776063116875, 'n_units_l4': 43, 'dropout_4': 0.1675516748670687, 'n_units_l5': 2, 'dropout_5': 0.36797372196533895, 'learning_rate': 0.003907779641658223, 'optimizer': 'RMSprop'}. Best is trial 2 with value: 0.725404578447342.\n",
      "[I 2023-11-27 14:00:06,120] Trial 4 finished with value: 1.0757591378688813 and parameters: {'n_layers': 7, 'n_units_l0': 45, 'dropout_0': 0.2603566090147247, 'n_units_l1': 35, 'dropout_1': 0.32706452795475555, 'n_units_l2': 8, 'dropout_2': 0.11204494638141788, 'n_units_l3': 27, 'dropout_3': 0.2773513932876859, 'n_units_l4': 8, 'dropout_4': 0.18811319171121238, 'n_units_l5': 18, 'dropout_5': 0.24693870533229706, 'n_units_l6': 6, 'dropout_6': 0.2796522288407619, 'learning_rate': 0.042155807928468875, 'optimizer': 'Adam'}. Best is trial 2 with value: 0.725404578447342.\n",
      "[I 2023-11-27 14:00:06,825] Trial 5 pruned. \n",
      "[I 2023-11-27 14:00:07,523] Trial 6 pruned. \n",
      "[I 2023-11-27 14:00:08,149] Trial 7 pruned. \n",
      "[I 2023-11-27 14:00:08,199] Trial 8 pruned. \n",
      "[I 2023-11-27 14:00:08,972] Trial 9 pruned. \n",
      "[I 2023-11-27 14:00:09,027] Trial 10 pruned. \n",
      "[I 2023-11-27 14:00:13,356] Trial 11 finished with value: 0.6830888235569 and parameters: {'n_layers': 1, 'n_units_l0': 23, 'dropout_0': 0.20046337132013828, 'learning_rate': 0.08208377353880117, 'optimizer': 'SGD'}. Best is trial 11 with value: 0.6830888235569.\n",
      "[I 2023-11-27 14:00:17,615] Trial 12 finished with value: 0.6875062987208367 and parameters: {'n_layers': 1, 'n_units_l0': 20, 'dropout_0': 0.193293648904007, 'learning_rate': 0.07378635101216646, 'optimizer': 'SGD'}. Best is trial 11 with value: 0.6830888235569.\n",
      "[I 2023-11-27 14:00:21,892] Trial 13 finished with value: 0.6909493306279182 and parameters: {'n_layers': 1, 'n_units_l0': 16, 'dropout_0': 0.16771163123183977, 'learning_rate': 0.07606325802696111, 'optimizer': 'SGD'}. Best is trial 11 with value: 0.6830888235569.\n",
      "[I 2023-11-27 14:00:21,957] Trial 14 pruned. \n",
      "[I 2023-11-27 14:00:22,097] Trial 15 pruned. \n",
      "[I 2023-11-27 14:00:22,407] Trial 16 pruned. \n",
      "[I 2023-11-27 14:00:22,537] Trial 17 pruned. \n",
      "[I 2023-11-27 14:00:22,587] Trial 18 pruned. \n",
      "[I 2023-11-27 14:00:27,270] Trial 19 finished with value: 0.7904231795668601 and parameters: {'n_layers': 4, 'n_units_l0': 10, 'dropout_0': 0.14454700704089718, 'n_units_l1': 10, 'dropout_1': 0.21757436592190038, 'n_units_l2': 38, 'dropout_2': 0.24181585302654948, 'n_units_l3': 39, 'dropout_3': 0.17574601493432165, 'learning_rate': 0.06877026329490521, 'optimizer': 'Adam'}. Best is trial 11 with value: 0.6830888235569.\n",
      "[I 2023-11-27 14:00:27,335] Trial 20 pruned. \n",
      "[I 2023-11-27 14:00:27,391] Trial 21 pruned. \n",
      "[I 2023-11-27 14:00:27,442] Trial 22 pruned. \n",
      "[I 2023-11-27 14:00:31,868] Trial 23 finished with value: 0.7055789157748222 and parameters: {'n_layers': 1, 'n_units_l0': 24, 'dropout_0': 0.21878368271747156, 'learning_rate': 0.09052042103751014, 'optimizer': 'SGD'}. Best is trial 11 with value: 0.6830888235569.\n",
      "[I 2023-11-27 14:00:31,931] Trial 24 pruned. \n",
      "[I 2023-11-27 14:00:31,997] Trial 25 pruned. \n",
      "[I 2023-11-27 14:00:32,050] Trial 26 pruned. \n",
      "[I 2023-11-27 14:00:32,106] Trial 27 pruned. \n",
      "[I 2023-11-27 14:00:32,178] Trial 28 pruned. \n",
      "[I 2023-11-27 14:00:32,361] Trial 29 pruned. \n",
      "[I 2023-11-27 14:00:32,422] Trial 30 pruned. \n",
      "[I 2023-11-27 14:00:32,474] Trial 31 pruned. \n",
      "[I 2023-11-27 14:00:36,884] Trial 32 finished with value: 0.7293862769007683 and parameters: {'n_layers': 1, 'n_units_l0': 30, 'dropout_0': 0.186764352632678, 'learning_rate': 0.09321806213713271, 'optimizer': 'SGD'}. Best is trial 11 with value: 0.6830888235569.\n",
      "[I 2023-11-27 14:00:36,941] Trial 33 pruned. \n",
      "[I 2023-11-27 14:00:37,012] Trial 34 pruned. \n",
      "[I 2023-11-27 14:00:41,198] Trial 35 finished with value: 0.7022202742099762 and parameters: {'n_layers': 1, 'n_units_l0': 32, 'dropout_0': 0.19775022557890448, 'learning_rate': 0.0817062450747516, 'optimizer': 'SGD'}. Best is trial 11 with value: 0.6830888235569.\n",
      "[I 2023-11-27 14:00:41,256] Trial 36 pruned. \n",
      "[I 2023-11-27 14:00:41,318] Trial 37 pruned. \n",
      "[I 2023-11-27 14:00:41,425] Trial 38 pruned. \n",
      "[I 2023-11-27 14:00:41,507] Trial 39 pruned. \n",
      "[I 2023-11-27 14:00:41,563] Trial 40 pruned. \n",
      "[I 2023-11-27 14:00:41,695] Trial 41 pruned. \n",
      "[I 2023-11-27 14:00:45,933] Trial 42 finished with value: 0.689967492222786 and parameters: {'n_layers': 1, 'n_units_l0': 15, 'dropout_0': 0.2052021562349059, 'learning_rate': 0.0919083847073607, 'optimizer': 'SGD'}. Best is trial 11 with value: 0.6830888235569.\n",
      "[I 2023-11-27 14:00:45,990] Trial 43 pruned. \n",
      "[I 2023-11-27 14:00:46,042] Trial 44 pruned. \n",
      "[I 2023-11-27 14:00:46,118] Trial 45 pruned. \n",
      "[I 2023-11-27 14:00:46,179] Trial 46 pruned. \n",
      "[I 2023-11-27 14:00:46,234] Trial 47 pruned. \n",
      "[I 2023-11-27 14:00:46,431] Trial 48 pruned. \n",
      "[I 2023-11-27 14:00:46,500] Trial 49 pruned. \n"
     ]
    },
    {
     "name": "stdout",
     "output_type": "stream",
     "text": [
      "Validation Accuracy: 70.21189894050531\n",
      "Validation Loss: 0.7031007939577103\n",
      "Training Accuracy: 82.27543323139653\n",
      "Training Loss: 0.42907934024929995\n"
     ]
    },
    {
     "data": {
      "text/plain": [
       "(70.21189894050531, 0.7031007939577103, 82.27543323139653, 0.42907934024929995)"
      ]
     },
     "execution_count": 28,
     "metadata": {},
     "output_type": "execute_result"
    }
   ],
   "source": [
    "# no accuracy function must be loss for regression\n",
    "if mlp_params.MODEL_TYPE == \"Regression\":\n",
    "    mlp_params.METRIC = \"loss\"\n",
    "    pass\n",
    "\n",
    "\n",
    "# wrap the objective function inside of a lambda function to pass args...\n",
    "objective_lambda_func = lambda trial: objective_model_optimizer(\n",
    "    train_loader,\n",
    "    valid_loader,\n",
    "    trial=trial,\n",
    "    params=params,\n",
    "    metric=mlp_params.METRIC,\n",
    "    return_info=False,\n",
    "    class_weights=class_weights,\n",
    ")\n",
    "\n",
    "\n",
    "# Study is the object for model optimization\n",
    "study = optuna.create_study(direction=f\"{mlp_params.DIRECTION}\")\n",
    "# Here I apply the optimize function of the study to the objective function\n",
    "# This optimizes each parameter specified to be optimized from the defined search space\n",
    "study.optimize(objective_lambda_func, n_trials=mlp_params.N_TRIALS)\n",
    "# Prints out the best trial's optimized parameters\n",
    "objective_model_optimizer(\n",
    "    train_loader,\n",
    "    valid_loader,\n",
    "    trial=study.best_trial,\n",
    "    params=params,\n",
    "    metric=mlp_params.METRIC,\n",
    "    return_info=True,\n",
    "    class_weights=class_weights,\n",
    ")"
   ]
  },
  {
   "cell_type": "code",
   "execution_count": 29,
   "id": "b2620589",
   "metadata": {
    "execution": {
     "iopub.execute_input": "2023-10-18T18:17:37.298015Z",
     "iopub.status.busy": "2023-10-18T18:17:37.297873Z",
     "iopub.status.idle": "2023-10-18T18:17:37.750921Z",
     "shell.execute_reply": "2023-10-18T18:17:37.750533Z"
    },
    "papermill": {
     "duration": null,
     "end_time": null,
     "exception": null,
     "start_time": null,
     "status": "completed"
    },
    "tags": []
   },
   "outputs": [
    {
     "data": {
      "application/vnd.plotly.v1+json": {
       "config": {
        "plotlyServerURL": "https://plot.ly"
       },
       "data": [
        {
         "mode": "markers",
         "name": "Objective Value",
         "type": "scatter",
         "x": [
          0,
          1,
          2,
          3,
          4,
          11,
          12,
          13,
          19,
          23,
          32,
          35,
          42
         ],
         "y": [
          0.8869847229123116,
          0.8900413140654564,
          0.725404578447342,
          1.1105030801892282,
          1.0757591378688813,
          0.6830888235569,
          0.6875062987208367,
          0.6909493306279182,
          0.7904231795668601,
          0.7055789157748222,
          0.7293862769007683,
          0.7022202742099762,
          0.689967492222786
         ]
        },
        {
         "mode": "lines",
         "name": "Best Value",
         "type": "scatter",
         "x": [
          0,
          1,
          2,
          3,
          4,
          5,
          6,
          7,
          8,
          9,
          10,
          11,
          12,
          13,
          14,
          15,
          16,
          17,
          18,
          19,
          20,
          21,
          22,
          23,
          24,
          25,
          26,
          27,
          28,
          29,
          30,
          31,
          32,
          33,
          34,
          35,
          36,
          37,
          38,
          39,
          40,
          41,
          42,
          43,
          44,
          45,
          46,
          47,
          48,
          49
         ],
         "y": [
          0.8869847229123116,
          0.8869847229123116,
          0.725404578447342,
          0.725404578447342,
          0.725404578447342,
          0.725404578447342,
          0.725404578447342,
          0.725404578447342,
          0.725404578447342,
          0.725404578447342,
          0.725404578447342,
          0.6830888235569,
          0.6830888235569,
          0.6830888235569,
          0.6830888235569,
          0.6830888235569,
          0.6830888235569,
          0.6830888235569,
          0.6830888235569,
          0.6830888235569,
          0.6830888235569,
          0.6830888235569,
          0.6830888235569,
          0.6830888235569,
          0.6830888235569,
          0.6830888235569,
          0.6830888235569,
          0.6830888235569,
          0.6830888235569,
          0.6830888235569,
          0.6830888235569,
          0.6830888235569,
          0.6830888235569,
          0.6830888235569,
          0.6830888235569,
          0.6830888235569,
          0.6830888235569,
          0.6830888235569,
          0.6830888235569,
          0.6830888235569,
          0.6830888235569,
          0.6830888235569,
          0.6830888235569,
          0.6830888235569,
          0.6830888235569,
          0.6830888235569,
          0.6830888235569,
          0.6830888235569,
          0.6830888235569,
          0.6830888235569
         ]
        },
        {
         "marker": {
          "color": "#cccccc"
         },
         "mode": "markers",
         "name": "Infeasible Trial",
         "showlegend": false,
         "type": "scatter",
         "x": [],
         "y": []
        }
       ],
       "layout": {
        "template": {
         "data": {
          "bar": [
           {
            "error_x": {
             "color": "#2a3f5f"
            },
            "error_y": {
             "color": "#2a3f5f"
            },
            "marker": {
             "line": {
              "color": "#E5ECF6",
              "width": 0.5
             },
             "pattern": {
              "fillmode": "overlay",
              "size": 10,
              "solidity": 0.2
             }
            },
            "type": "bar"
           }
          ],
          "barpolar": [
           {
            "marker": {
             "line": {
              "color": "#E5ECF6",
              "width": 0.5
             },
             "pattern": {
              "fillmode": "overlay",
              "size": 10,
              "solidity": 0.2
             }
            },
            "type": "barpolar"
           }
          ],
          "carpet": [
           {
            "aaxis": {
             "endlinecolor": "#2a3f5f",
             "gridcolor": "white",
             "linecolor": "white",
             "minorgridcolor": "white",
             "startlinecolor": "#2a3f5f"
            },
            "baxis": {
             "endlinecolor": "#2a3f5f",
             "gridcolor": "white",
             "linecolor": "white",
             "minorgridcolor": "white",
             "startlinecolor": "#2a3f5f"
            },
            "type": "carpet"
           }
          ],
          "choropleth": [
           {
            "colorbar": {
             "outlinewidth": 0,
             "ticks": ""
            },
            "type": "choropleth"
           }
          ],
          "contour": [
           {
            "colorbar": {
             "outlinewidth": 0,
             "ticks": ""
            },
            "colorscale": [
             [
              0,
              "#0d0887"
             ],
             [
              0.1111111111111111,
              "#46039f"
             ],
             [
              0.2222222222222222,
              "#7201a8"
             ],
             [
              0.3333333333333333,
              "#9c179e"
             ],
             [
              0.4444444444444444,
              "#bd3786"
             ],
             [
              0.5555555555555556,
              "#d8576b"
             ],
             [
              0.6666666666666666,
              "#ed7953"
             ],
             [
              0.7777777777777778,
              "#fb9f3a"
             ],
             [
              0.8888888888888888,
              "#fdca26"
             ],
             [
              1,
              "#f0f921"
             ]
            ],
            "type": "contour"
           }
          ],
          "contourcarpet": [
           {
            "colorbar": {
             "outlinewidth": 0,
             "ticks": ""
            },
            "type": "contourcarpet"
           }
          ],
          "heatmap": [
           {
            "colorbar": {
             "outlinewidth": 0,
             "ticks": ""
            },
            "colorscale": [
             [
              0,
              "#0d0887"
             ],
             [
              0.1111111111111111,
              "#46039f"
             ],
             [
              0.2222222222222222,
              "#7201a8"
             ],
             [
              0.3333333333333333,
              "#9c179e"
             ],
             [
              0.4444444444444444,
              "#bd3786"
             ],
             [
              0.5555555555555556,
              "#d8576b"
             ],
             [
              0.6666666666666666,
              "#ed7953"
             ],
             [
              0.7777777777777778,
              "#fb9f3a"
             ],
             [
              0.8888888888888888,
              "#fdca26"
             ],
             [
              1,
              "#f0f921"
             ]
            ],
            "type": "heatmap"
           }
          ],
          "heatmapgl": [
           {
            "colorbar": {
             "outlinewidth": 0,
             "ticks": ""
            },
            "colorscale": [
             [
              0,
              "#0d0887"
             ],
             [
              0.1111111111111111,
              "#46039f"
             ],
             [
              0.2222222222222222,
              "#7201a8"
             ],
             [
              0.3333333333333333,
              "#9c179e"
             ],
             [
              0.4444444444444444,
              "#bd3786"
             ],
             [
              0.5555555555555556,
              "#d8576b"
             ],
             [
              0.6666666666666666,
              "#ed7953"
             ],
             [
              0.7777777777777778,
              "#fb9f3a"
             ],
             [
              0.8888888888888888,
              "#fdca26"
             ],
             [
              1,
              "#f0f921"
             ]
            ],
            "type": "heatmapgl"
           }
          ],
          "histogram": [
           {
            "marker": {
             "pattern": {
              "fillmode": "overlay",
              "size": 10,
              "solidity": 0.2
             }
            },
            "type": "histogram"
           }
          ],
          "histogram2d": [
           {
            "colorbar": {
             "outlinewidth": 0,
             "ticks": ""
            },
            "colorscale": [
             [
              0,
              "#0d0887"
             ],
             [
              0.1111111111111111,
              "#46039f"
             ],
             [
              0.2222222222222222,
              "#7201a8"
             ],
             [
              0.3333333333333333,
              "#9c179e"
             ],
             [
              0.4444444444444444,
              "#bd3786"
             ],
             [
              0.5555555555555556,
              "#d8576b"
             ],
             [
              0.6666666666666666,
              "#ed7953"
             ],
             [
              0.7777777777777778,
              "#fb9f3a"
             ],
             [
              0.8888888888888888,
              "#fdca26"
             ],
             [
              1,
              "#f0f921"
             ]
            ],
            "type": "histogram2d"
           }
          ],
          "histogram2dcontour": [
           {
            "colorbar": {
             "outlinewidth": 0,
             "ticks": ""
            },
            "colorscale": [
             [
              0,
              "#0d0887"
             ],
             [
              0.1111111111111111,
              "#46039f"
             ],
             [
              0.2222222222222222,
              "#7201a8"
             ],
             [
              0.3333333333333333,
              "#9c179e"
             ],
             [
              0.4444444444444444,
              "#bd3786"
             ],
             [
              0.5555555555555556,
              "#d8576b"
             ],
             [
              0.6666666666666666,
              "#ed7953"
             ],
             [
              0.7777777777777778,
              "#fb9f3a"
             ],
             [
              0.8888888888888888,
              "#fdca26"
             ],
             [
              1,
              "#f0f921"
             ]
            ],
            "type": "histogram2dcontour"
           }
          ],
          "mesh3d": [
           {
            "colorbar": {
             "outlinewidth": 0,
             "ticks": ""
            },
            "type": "mesh3d"
           }
          ],
          "parcoords": [
           {
            "line": {
             "colorbar": {
              "outlinewidth": 0,
              "ticks": ""
             }
            },
            "type": "parcoords"
           }
          ],
          "pie": [
           {
            "automargin": true,
            "type": "pie"
           }
          ],
          "scatter": [
           {
            "fillpattern": {
             "fillmode": "overlay",
             "size": 10,
             "solidity": 0.2
            },
            "type": "scatter"
           }
          ],
          "scatter3d": [
           {
            "line": {
             "colorbar": {
              "outlinewidth": 0,
              "ticks": ""
             }
            },
            "marker": {
             "colorbar": {
              "outlinewidth": 0,
              "ticks": ""
             }
            },
            "type": "scatter3d"
           }
          ],
          "scattercarpet": [
           {
            "marker": {
             "colorbar": {
              "outlinewidth": 0,
              "ticks": ""
             }
            },
            "type": "scattercarpet"
           }
          ],
          "scattergeo": [
           {
            "marker": {
             "colorbar": {
              "outlinewidth": 0,
              "ticks": ""
             }
            },
            "type": "scattergeo"
           }
          ],
          "scattergl": [
           {
            "marker": {
             "colorbar": {
              "outlinewidth": 0,
              "ticks": ""
             }
            },
            "type": "scattergl"
           }
          ],
          "scattermapbox": [
           {
            "marker": {
             "colorbar": {
              "outlinewidth": 0,
              "ticks": ""
             }
            },
            "type": "scattermapbox"
           }
          ],
          "scatterpolar": [
           {
            "marker": {
             "colorbar": {
              "outlinewidth": 0,
              "ticks": ""
             }
            },
            "type": "scatterpolar"
           }
          ],
          "scatterpolargl": [
           {
            "marker": {
             "colorbar": {
              "outlinewidth": 0,
              "ticks": ""
             }
            },
            "type": "scatterpolargl"
           }
          ],
          "scatterternary": [
           {
            "marker": {
             "colorbar": {
              "outlinewidth": 0,
              "ticks": ""
             }
            },
            "type": "scatterternary"
           }
          ],
          "surface": [
           {
            "colorbar": {
             "outlinewidth": 0,
             "ticks": ""
            },
            "colorscale": [
             [
              0,
              "#0d0887"
             ],
             [
              0.1111111111111111,
              "#46039f"
             ],
             [
              0.2222222222222222,
              "#7201a8"
             ],
             [
              0.3333333333333333,
              "#9c179e"
             ],
             [
              0.4444444444444444,
              "#bd3786"
             ],
             [
              0.5555555555555556,
              "#d8576b"
             ],
             [
              0.6666666666666666,
              "#ed7953"
             ],
             [
              0.7777777777777778,
              "#fb9f3a"
             ],
             [
              0.8888888888888888,
              "#fdca26"
             ],
             [
              1,
              "#f0f921"
             ]
            ],
            "type": "surface"
           }
          ],
          "table": [
           {
            "cells": {
             "fill": {
              "color": "#EBF0F8"
             },
             "line": {
              "color": "white"
             }
            },
            "header": {
             "fill": {
              "color": "#C8D4E3"
             },
             "line": {
              "color": "white"
             }
            },
            "type": "table"
           }
          ]
         },
         "layout": {
          "annotationdefaults": {
           "arrowcolor": "#2a3f5f",
           "arrowhead": 0,
           "arrowwidth": 1
          },
          "autotypenumbers": "strict",
          "coloraxis": {
           "colorbar": {
            "outlinewidth": 0,
            "ticks": ""
           }
          },
          "colorscale": {
           "diverging": [
            [
             0,
             "#8e0152"
            ],
            [
             0.1,
             "#c51b7d"
            ],
            [
             0.2,
             "#de77ae"
            ],
            [
             0.3,
             "#f1b6da"
            ],
            [
             0.4,
             "#fde0ef"
            ],
            [
             0.5,
             "#f7f7f7"
            ],
            [
             0.6,
             "#e6f5d0"
            ],
            [
             0.7,
             "#b8e186"
            ],
            [
             0.8,
             "#7fbc41"
            ],
            [
             0.9,
             "#4d9221"
            ],
            [
             1,
             "#276419"
            ]
           ],
           "sequential": [
            [
             0,
             "#0d0887"
            ],
            [
             0.1111111111111111,
             "#46039f"
            ],
            [
             0.2222222222222222,
             "#7201a8"
            ],
            [
             0.3333333333333333,
             "#9c179e"
            ],
            [
             0.4444444444444444,
             "#bd3786"
            ],
            [
             0.5555555555555556,
             "#d8576b"
            ],
            [
             0.6666666666666666,
             "#ed7953"
            ],
            [
             0.7777777777777778,
             "#fb9f3a"
            ],
            [
             0.8888888888888888,
             "#fdca26"
            ],
            [
             1,
             "#f0f921"
            ]
           ],
           "sequentialminus": [
            [
             0,
             "#0d0887"
            ],
            [
             0.1111111111111111,
             "#46039f"
            ],
            [
             0.2222222222222222,
             "#7201a8"
            ],
            [
             0.3333333333333333,
             "#9c179e"
            ],
            [
             0.4444444444444444,
             "#bd3786"
            ],
            [
             0.5555555555555556,
             "#d8576b"
            ],
            [
             0.6666666666666666,
             "#ed7953"
            ],
            [
             0.7777777777777778,
             "#fb9f3a"
            ],
            [
             0.8888888888888888,
             "#fdca26"
            ],
            [
             1,
             "#f0f921"
            ]
           ]
          },
          "colorway": [
           "#636efa",
           "#EF553B",
           "#00cc96",
           "#ab63fa",
           "#FFA15A",
           "#19d3f3",
           "#FF6692",
           "#B6E880",
           "#FF97FF",
           "#FECB52"
          ],
          "font": {
           "color": "#2a3f5f"
          },
          "geo": {
           "bgcolor": "white",
           "lakecolor": "white",
           "landcolor": "#E5ECF6",
           "showlakes": true,
           "showland": true,
           "subunitcolor": "white"
          },
          "hoverlabel": {
           "align": "left"
          },
          "hovermode": "closest",
          "mapbox": {
           "style": "light"
          },
          "paper_bgcolor": "white",
          "plot_bgcolor": "#E5ECF6",
          "polar": {
           "angularaxis": {
            "gridcolor": "white",
            "linecolor": "white",
            "ticks": ""
           },
           "bgcolor": "#E5ECF6",
           "radialaxis": {
            "gridcolor": "white",
            "linecolor": "white",
            "ticks": ""
           }
          },
          "scene": {
           "xaxis": {
            "backgroundcolor": "#E5ECF6",
            "gridcolor": "white",
            "gridwidth": 2,
            "linecolor": "white",
            "showbackground": true,
            "ticks": "",
            "zerolinecolor": "white"
           },
           "yaxis": {
            "backgroundcolor": "#E5ECF6",
            "gridcolor": "white",
            "gridwidth": 2,
            "linecolor": "white",
            "showbackground": true,
            "ticks": "",
            "zerolinecolor": "white"
           },
           "zaxis": {
            "backgroundcolor": "#E5ECF6",
            "gridcolor": "white",
            "gridwidth": 2,
            "linecolor": "white",
            "showbackground": true,
            "ticks": "",
            "zerolinecolor": "white"
           }
          },
          "shapedefaults": {
           "line": {
            "color": "#2a3f5f"
           }
          },
          "ternary": {
           "aaxis": {
            "gridcolor": "white",
            "linecolor": "white",
            "ticks": ""
           },
           "baxis": {
            "gridcolor": "white",
            "linecolor": "white",
            "ticks": ""
           },
           "bgcolor": "#E5ECF6",
           "caxis": {
            "gridcolor": "white",
            "linecolor": "white",
            "ticks": ""
           }
          },
          "title": {
           "x": 0.05
          },
          "xaxis": {
           "automargin": true,
           "gridcolor": "white",
           "linecolor": "white",
           "ticks": "",
           "title": {
            "standoff": 15
           },
           "zerolinecolor": "white",
           "zerolinewidth": 2
          },
          "yaxis": {
           "automargin": true,
           "gridcolor": "white",
           "linecolor": "white",
           "ticks": "",
           "title": {
            "standoff": 15
           },
           "zerolinecolor": "white",
           "zerolinewidth": 2
          }
         }
        },
        "title": {
         "text": "Optimization History Plot"
        },
        "xaxis": {
         "title": {
          "text": "Trial"
         }
        },
        "yaxis": {
         "title": {
          "text": "Objective Value"
         }
        }
       }
      }
     },
     "metadata": {},
     "output_type": "display_data"
    }
   ],
   "source": [
    "# create graph directory for this model\n",
    "graph_path = pathlib.Path(\n",
    "    f\"../../figures/{mlp_params.MODEL_TYPE}/{mlp_params.MODEL_NAME}/{mlp_params.CELL_TYPE}/hyperparameter_optimization\"\n",
    ")\n",
    "\n",
    "pathlib.Path(graph_path).mkdir(parents=True, exist_ok=True)\n",
    "fig = optuna.visualization.plot_optimization_history(study)\n",
    "\n",
    "\n",
    "graph_path = f\"{graph_path}/plot_optimization_history_graph\"\n",
    "\n",
    "fig.write_image(pathlib.Path(f\"{graph_path}.png\"))\n",
    "fig.show()"
   ]
  },
  {
   "cell_type": "code",
   "execution_count": 30,
   "id": "92103de1",
   "metadata": {
    "execution": {
     "iopub.execute_input": "2023-10-18T18:17:37.839841Z",
     "iopub.status.busy": "2023-10-18T18:17:37.839637Z",
     "iopub.status.idle": "2023-10-18T18:17:37.910906Z",
     "shell.execute_reply": "2023-10-18T18:17:37.910591Z"
    },
    "papermill": {
     "duration": null,
     "end_time": null,
     "exception": null,
     "start_time": null,
     "status": "completed"
    },
    "tags": []
   },
   "outputs": [
    {
     "data": {
      "application/vnd.plotly.v1+json": {
       "config": {
        "plotlyServerURL": "https://plot.ly"
       },
       "data": [
        {
         "marker": {
          "maxdisplayed": 10
         },
         "mode": "lines+markers",
         "name": "Trial0",
         "type": "scatter",
         "x": [
          0,
          1,
          2,
          3,
          4,
          5,
          6,
          7,
          8,
          9,
          10,
          11,
          12,
          13,
          14,
          15,
          16,
          17,
          18,
          19,
          20,
          21,
          22,
          23,
          24,
          25,
          26,
          27,
          28,
          29,
          30,
          31,
          32,
          33,
          34,
          35,
          36,
          37,
          38,
          39,
          40,
          41,
          42,
          43,
          44,
          45,
          46,
          47,
          48,
          49,
          50,
          51,
          52,
          53,
          54,
          55,
          56,
          57,
          58,
          59,
          60,
          61,
          62,
          63,
          64,
          65,
          66,
          67,
          68,
          69,
          70,
          71,
          72,
          73,
          74,
          75,
          76,
          77,
          78,
          79,
          80,
          81,
          82,
          83,
          84,
          85,
          86,
          87,
          88,
          89,
          90,
          91,
          92,
          93,
          94,
          95,
          96,
          97,
          98,
          99
         ],
         "y": [
          1.041485846042633,
          1.0231083631515503,
          1.00812366604805,
          0.995583564043045,
          0.9849324107170105,
          0.9757935305436453,
          0.9678765961102077,
          0.9609562456607819,
          0.9548669821686215,
          0.9494849473237992,
          0.9447017014026642,
          0.9404316892226537,
          0.936603667644354,
          0.9331584423780441,
          0.9300464908281962,
          0.9272267948836088,
          0.9246670235605801,
          0.9223362720674939,
          0.920208465111883,
          0.9182610362768173,
          0.9164747794469198,
          0.9148325202139941,
          0.9133185524007549,
          0.9119202966491381,
          0.910626449584961,
          0.9094263441287554,
          0.9083117787484769,
          0.9072740482432502,
          0.9063055196712757,
          0.9054003556569418,
          0.9045530596087056,
          0.9037580722942948,
          0.9030118638818915,
          0.9023097157478333,
          0.9016476120267596,
          0.9010231743256251,
          0.9004333655576449,
          0.899874996197851,
          0.89934579989849,
          0.8988432213664055,
          0.8983657098397976,
          0.8979118587005706,
          0.8974796887054,
          0.8970675868066874,
          0.8966742793718974,
          0.8962980858657671,
          0.8959379316644466,
          0.8955934370557467,
          0.8952632747134384,
          0.894946677684784,
          0.8946423758478725,
          0.8943497670384554,
          0.8940678266984112,
          0.893795840718128,
          0.8935340285301209,
          0.8932817530419145,
          0.8930386074802332,
          0.8928039135604069,
          0.8925769889758806,
          0.8923573503891628,
          0.892144937984279,
          0.8919395669814079,
          0.8917407880699824,
          0.8915475304238498,
          0.8913604562099163,
          0.8911791949561148,
          0.8910031305320227,
          0.8908320779309553,
          0.8906656292037688,
          0.890503426534789,
          0.8903454827590728,
          0.8901914581656456,
          0.8900413166170251,
          0.8898952357672356,
          0.8897524897257487,
          0.8896131672357258,
          0.8894771786479206,
          0.8893443231399243,
          0.8892144817340223,
          0.8890873357653618,
          0.8889628858477981,
          0.8888410838638864,
          0.8887220384126686,
          0.8886055900227456,
          0.8884914787376628,
          0.8883792563926342,
          0.8882692432266542,
          0.8881611041724682,
          0.8880547117651179,
          0.887950305475129,
          0.8878474265009493,
          0.8877461746982906,
          0.8876463184433598,
          0.8875482037980506,
          0.8874515646382382,
          0.8873562396814426,
          0.8872618964037944,
          0.8871684478861945,
          0.8870761307201,
          0.8869847229123116
         ]
        },
        {
         "marker": {
          "maxdisplayed": 10
         },
         "mode": "lines+markers",
         "name": "Trial1",
         "type": "scatter",
         "x": [
          0,
          1,
          2,
          3,
          4,
          5,
          6,
          7,
          8,
          9,
          10,
          11,
          12,
          13,
          14,
          15,
          16,
          17,
          18,
          19,
          20,
          21,
          22,
          23,
          24,
          25,
          26,
          27,
          28,
          29,
          30,
          31,
          32,
          33,
          34,
          35,
          36,
          37,
          38,
          39,
          40,
          41,
          42,
          43,
          44,
          45,
          46,
          47,
          48,
          49,
          50,
          51,
          52,
          53,
          54,
          55,
          56,
          57,
          58,
          59,
          60,
          61,
          62,
          63,
          64,
          65,
          66,
          67,
          68,
          69,
          70,
          71,
          72,
          73,
          74,
          75,
          76,
          77,
          78,
          79,
          80,
          81,
          82,
          83,
          84,
          85,
          86,
          87,
          88,
          89,
          90,
          91,
          92,
          93,
          94,
          95,
          96,
          97,
          98,
          99
         ],
         "y": [
          1.0663896799087524,
          1.0499519407749176,
          1.0356883804003398,
          1.023227259516716,
          1.0122617304325103,
          1.0025295615196228,
          0.9938488943236214,
          0.9860803820192814,
          0.9790855712360806,
          0.9727914243936538,
          0.967097978700291,
          0.9619276647766432,
          0.9572278536283053,
          0.9529473100389753,
          0.9490360120932261,
          0.9454511180520058,
          0.942168817800634,
          0.9391557160351012,
          0.9363825556479002,
          0.9338260680437088,
          0.9314611639295306,
          0.9292693652889945,
          0.9272363509820856,
          0.925344160447518,
          0.923583265542984,
          0.9219424243156726,
          0.9204086297088199,
          0.9189748902406011,
          0.9176310475530296,
          0.9163704891999562,
          0.9151872992515564,
          0.914073046296835,
          0.9130218561851617,
          0.9120283608927446,
          0.9110906549862453,
          0.910204153921869,
          0.9093641066873396,
          0.9085675360340821,
          0.9078103166360122,
          0.90709043815732,
          0.906404766367703,
          0.9057514915863673,
          0.9051267892815346,
          0.9045301946726713,
          0.9039594451586406,
          0.9034151013778604,
          0.9028926174691383,
          0.9023919509102901,
          0.9019120305168385,
          0.901451262831688,
          0.9010080747744617,
          0.9005820963245171,
          0.900172454006267,
          0.8997775299681557,
          0.8993967522274364,
          0.8990296630987099,
          0.8986754239651195,
          0.8983333033734354,
          0.8980023487139557,
          0.8976825709144275,
          0.8973735018831784,
          0.8970742490022413,
          0.8967845302725596,
          0.8965036668814719,
          0.8962310277498685,
          0.895966598481843,
          0.8957101751619311,
          0.8954608190585586,
          0.8952184945776842,
          0.8949832094567163,
          0.8947540882607581,
          0.8945315409865644,
          0.8943146642756789,
          0.8941033728219367,
          0.8938974169890086,
          0.8936971476987788,
          0.893501935454158,
          0.8933120121558508,
          0.8931267095517509,
          0.8929459765553475,
          0.8927694522304299,
          0.892596844856332,
          0.8924285241638321,
          0.8922634341177487,
          0.8921021310722127,
          0.8919440033130868,
          0.8917894688830978,
          0.8916381909088655,
          0.8914900415399102,
          0.8913450489441553,
          0.8912031604693487,
          0.8910642732744631,
          0.8909278431887268,
          0.8907938894439251,
          0.890662797187504,
          0.8905339973668257,
          0.8904075644065425,
          0.8902833054260332,
          0.890161271348144,
          0.8900413140654564
         ]
        },
        {
         "marker": {
          "maxdisplayed": 10
         },
         "mode": "lines+markers",
         "name": "Trial2",
         "type": "scatter",
         "x": [
          0,
          1,
          2,
          3,
          4,
          5,
          6,
          7,
          8,
          9,
          10,
          11,
          12,
          13,
          14,
          15,
          16,
          17,
          18,
          19,
          20,
          21,
          22,
          23,
          24,
          25,
          26,
          27,
          28,
          29,
          30,
          31,
          32,
          33,
          34,
          35,
          36,
          37,
          38,
          39,
          40,
          41,
          42,
          43,
          44,
          45,
          46,
          47,
          48,
          49,
          50,
          51,
          52,
          53,
          54,
          55,
          56,
          57,
          58,
          59,
          60,
          61,
          62,
          63,
          64,
          65,
          66,
          67,
          68,
          69,
          70,
          71,
          72,
          73,
          74,
          75,
          76,
          77,
          78,
          79,
          80,
          81,
          82,
          83,
          84,
          85,
          86,
          87,
          88,
          89,
          90,
          91,
          92,
          93,
          94,
          95,
          96,
          97,
          98,
          99
         ],
         "y": [
          1.0367286801338196,
          1.01690573990345,
          0.9988889694213867,
          0.9828508496284485,
          0.968447482585907,
          0.9554161330064138,
          0.9436839095183781,
          0.9331079088151455,
          0.9234647121694353,
          0.9145956397056579,
          0.906456096605821,
          0.8989583626389503,
          0.8919930756092072,
          0.8855118730238506,
          0.8794211546579996,
          0.873688593506813,
          0.8682823601891013,
          0.8631459358665678,
          0.8582770777376074,
          0.8536121815443038,
          0.8491569473629906,
          0.8448627076365731,
          0.8407436065051866,
          0.8368066946665446,
          0.83301851272583,
          0.8293653222230765,
          0.8258376585112678,
          0.8224256730505398,
          0.8191309540436186,
          0.8159569243590037,
          0.8129026361050145,
          0.8099335273727775,
          0.8070599481914983,
          0.8042672013535219,
          0.8015696346759796,
          0.7989819207125239,
          0.7964562161548717,
          0.7940075373963306,
          0.7916419888154055,
          0.7893585912883282,
          0.787151384644392,
          0.7850104946465719,
          0.7829577493113141,
          0.7809872288595546,
          0.7790724396705627,
          0.7772496394489122,
          0.7754661580349537,
          0.773724781970183,
          0.7720141952135124,
          0.7703461211919784,
          0.7687386712607216,
          0.767199284182145,
          0.7656924645855742,
          0.7642154075481273,
          0.762802304462953,
          0.7614058330655098,
          0.7600462734699249,
          0.758721372176861,
          0.7574051941855479,
          0.7561354890465737,
          0.7548660782516979,
          0.7536223400985042,
          0.7524477191387661,
          0.7512914757244289,
          0.7501721207912152,
          0.7491052182334842,
          0.7480653737907978,
          0.7470423474031336,
          0.7460514635279558,
          0.7451078874724252,
          0.7441664359099428,
          0.7432339460485511,
          0.7423306283068983,
          0.7414662817845473,
          0.7406216601530711,
          0.7397983203593054,
          0.7389634371577919,
          0.7381545920402576,
          0.7373381113704247,
          0.7365838911384344,
          0.735846957674733,
          0.735137328505516,
          0.734442590589983,
          0.7337473755081495,
          0.7330894217771642,
          0.7324391097523445,
          0.7317890011031052,
          0.7311729815873232,
          0.7305837745746869,
          0.7300267924865087,
          0.7294779007251446,
          0.7289590333466944,
          0.728482154428318,
          0.7279945735601668,
          0.7275195727222844,
          0.7270865449681878,
          0.7266290863764655,
          0.726208612931018,
          0.7257582828252003,
          0.725404578447342
         ]
        },
        {
         "marker": {
          "maxdisplayed": 10
         },
         "mode": "lines+markers",
         "name": "Trial3",
         "type": "scatter",
         "x": [
          0,
          1,
          2,
          3,
          4,
          5,
          6,
          7,
          8,
          9,
          10,
          11,
          12,
          13,
          14,
          15,
          16,
          17,
          18,
          19,
          20,
          21,
          22,
          23,
          24,
          25,
          26,
          27,
          28,
          29,
          30,
          31,
          32,
          33,
          34,
          35,
          36,
          37,
          38,
          39,
          40,
          41,
          42,
          43,
          44,
          45,
          46,
          47,
          48,
          49,
          50,
          51,
          52,
          53,
          54,
          55,
          56,
          57,
          58,
          59,
          60,
          61,
          62,
          63,
          64,
          65,
          66,
          67,
          68,
          69,
          70,
          71,
          72,
          73,
          74,
          75,
          76,
          77,
          78,
          79,
          80,
          81,
          82,
          83,
          84,
          85,
          86,
          87,
          88,
          89,
          90,
          91,
          92,
          93,
          94,
          95,
          96,
          97,
          98,
          99
         ],
         "y": [
          1.0467389225959778,
          0.99007248878479,
          0.9593442976474762,
          0.9387227147817612,
          0.9267654836177825,
          0.9164461940526962,
          0.9120852095740182,
          0.9050324782729149,
          0.8987301356262631,
          0.8932294934988022,
          0.8867466449737549,
          0.8836503773927689,
          0.8800282959754651,
          0.8767220037324088,
          0.8758658468723297,
          0.8734337892383337,
          0.8717523006831899,
          0.8700441204839282,
          0.8682267054131156,
          0.8680635303258896,
          0.8680253809406644,
          0.8679491240869869,
          0.86771559715271,
          0.866172074029843,
          0.8659257459640503,
          0.8657443351470507,
          0.8652459107063435,
          0.8659253790974617,
          0.8667350401138437,
          0.8678591390450795,
          0.8685573185643842,
          0.8694251822307706,
          0.8703310137445276,
          0.872573254739537,
          0.8736858291285379,
          0.8752921869357427,
          0.8781387379040589,
          0.8810861338126031,
          0.882950267730615,
          0.8846573792397976,
          0.8863983866645069,
          0.8884289974258059,
          0.8911013471525769,
          0.8935404982079159,
          0.8952962928348117,
          0.8979396884856017,
          0.9012761014573117,
          0.9041557293385267,
          0.9073426753890758,
          0.9094762510061264,
          0.9128188736298505,
          0.9148782038917909,
          0.9182300685711626,
          0.9203665549004519,
          0.9225187274542722,
          0.9247163651244981,
          0.9270095375546238,
          0.9291572128904277,
          0.9321618140754053,
          0.933762806157271,
          0.9347059462891251,
          0.9364460000107365,
          0.9390786200288742,
          0.9424955849535763,
          0.9452657795869387,
          0.9488097858248334,
          0.9533321470467012,
          0.9570620248422903,
          0.9594023214734119,
          0.9619554183312825,
          0.9644823892855309,
          0.9679272948867745,
          0.9714367050830632,
          0.9775187441626111,
          0.9828213544686636,
          0.9894711449742317,
          0.9975255592302843,
          1.0047122824650545,
          1.0136074133311646,
          1.0222631838172673,
          1.0291007893320956,
          1.0369714931017016,
          1.0424543744828327,
          1.0454713060032754,
          1.0468844592571258,
          1.050141465871833,
          1.0531033760514752,
          1.0567165562375025,
          1.0607637110051145,
          1.0655848347478443,
          1.0702755146629208,
          1.0742151105533475,
          1.0790834250629588,
          1.0845390371185668,
          1.08822872732815,
          1.0920414101953309,
          1.096914332859295,
          1.1045722696854143,
          1.1076939319721375,
          1.1105030801892282
         ]
        },
        {
         "marker": {
          "maxdisplayed": 10
         },
         "mode": "lines+markers",
         "name": "Trial4",
         "type": "scatter",
         "x": [
          0,
          1,
          2,
          3,
          4,
          5,
          6,
          7,
          8,
          9,
          10,
          11,
          12,
          13,
          14,
          15,
          16,
          17,
          18,
          19,
          20,
          21,
          22,
          23,
          24,
          25,
          26,
          27,
          28,
          29,
          30,
          31,
          32,
          33,
          34,
          35,
          36,
          37,
          38,
          39,
          40,
          41,
          42,
          43,
          44,
          45,
          46,
          47,
          48,
          49,
          50,
          51,
          52,
          53,
          54,
          55,
          56,
          57,
          58,
          59,
          60,
          61,
          62,
          63,
          64,
          65,
          66,
          67,
          68,
          69,
          70,
          71,
          72,
          73,
          74,
          75,
          76,
          77,
          78,
          79,
          80,
          81,
          82,
          83,
          84,
          85,
          86,
          87,
          88,
          89,
          90,
          91,
          92,
          93,
          94,
          95,
          96,
          97,
          98,
          99
         ],
         "y": [
          0.8584782183170319,
          0.8674277514219284,
          0.8571338653564453,
          0.8497028797864914,
          0.842752319574356,
          0.8370258708794912,
          0.8321787204061236,
          0.8298870883882046,
          0.8239516450299157,
          0.8191938757896423,
          0.815664906393398,
          0.8171219204862913,
          0.8201478169514582,
          0.8253994094473975,
          0.8258673131465912,
          0.8284283000975847,
          0.8298808581688825,
          0.8284878035386404,
          0.8284021066991907,
          0.8309204027056694,
          0.8320039014021555,
          0.8363456549969587,
          0.8422920043053834,
          0.8497256437937418,
          0.8537496697902679,
          0.866909472988202,
          0.8805779428393753,
          0.8808301974620137,
          0.8812129076184898,
          0.878930076956749,
          0.8784032540936624,
          0.8862095698714256,
          0.9032745379390139,
          0.921507502303404,
          0.9366809231894356,
          0.9426011915008227,
          0.9486535344574902,
          0.9492883360699603,
          0.9500367710223565,
          0.9485056370496749,
          0.9467487960326962,
          0.953034602460407,
          0.9536241743453714,
          0.9538856439969756,
          0.9579298979706234,
          0.9675706696251164,
          0.9771301283481273,
          0.9811823721975088,
          0.9832211824095979,
          0.9890584868192672,
          0.9923397881143233,
          1.0014189498928876,
          1.0067530999768455,
          1.01426376733515,
          1.0173565284772352,
          1.0161056055554323,
          1.0142665385154255,
          1.0248181455094239,
          1.0237280332435996,
          1.0239910200238227,
          1.0239712967247259,
          1.0246083659510459,
          1.0242455965942807,
          1.0214663674123585,
          1.0231377202730911,
          1.0222074082403472,
          1.0209230362479367,
          1.0205680053023731,
          1.022361651710842,
          1.022304703082357,
          1.021076952067899,
          1.0205677921573322,
          1.0227658764956749,
          1.0202626658452523,
          1.023798832098643,
          1.0255171389956224,
          1.0272410968681434,
          1.0325882381353624,
          1.0414852779122847,
          1.0426757533103228,
          1.0447685070979742,
          1.0496725788930568,
          1.0503646124558277,
          1.0530287350217502,
          1.053509908914566,
          1.0548372230557508,
          1.0592611586225444,
          1.0603786974468015,
          1.059349171901017,
          1.0604800985919105,
          1.0606796420537508,
          1.0592652682376944,
          1.0614339587508992,
          1.0640305318730943,
          1.0682202521123385,
          1.071777619421482,
          1.0729535495497518,
          1.075406123484884,
          1.0745154432576112,
          1.0757591378688813
         ]
        },
        {
         "marker": {
          "maxdisplayed": 10
         },
         "mode": "lines+markers",
         "name": "Trial5",
         "type": "scatter",
         "x": [
          0,
          1,
          2,
          3,
          4,
          5,
          6,
          7,
          8,
          9,
          10,
          11,
          12,
          13,
          14
         ],
         "y": [
          0.8868310451507568,
          0.8891187161207199,
          0.8870132664839426,
          0.8851488456130028,
          0.8844970166683197,
          0.8843538959821066,
          0.883610052721841,
          0.8831488154828548,
          0.8828546305497488,
          0.8826334327459335,
          0.8824252567508004,
          0.882196252544721,
          0.8820618872459118,
          0.8818924107721874,
          0.8817448536554973
         ]
        },
        {
         "marker": {
          "maxdisplayed": 10
         },
         "mode": "lines+markers",
         "name": "Trial6",
         "type": "scatter",
         "x": [
          0,
          1,
          2,
          3,
          4,
          5,
          6,
          7,
          8,
          9,
          10,
          11,
          12,
          13
         ],
         "y": [
          0.9447785913944244,
          0.9208262860774994,
          0.9088085691134135,
          0.9019059985876083,
          0.897571861743927,
          0.8946621169646581,
          0.8925213643482753,
          0.8909378163516521,
          0.8896212246682909,
          0.888646450638771,
          0.8878688622604717,
          0.8872722461819649,
          0.8867505009357746,
          0.8863119504281453
         ]
        },
        {
         "marker": {
          "maxdisplayed": 10
         },
         "mode": "lines+markers",
         "name": "Trial7",
         "type": "scatter",
         "x": [
          0,
          1,
          2,
          3,
          4,
          5,
          6,
          7,
          8,
          9,
          10,
          11,
          12,
          13,
          14
         ],
         "y": [
          0.9432857930660248,
          0.9185303747653961,
          0.9058133065700531,
          0.8991371691226959,
          0.8951258838176728,
          0.8924922496080399,
          0.8906933920724052,
          0.889289066195488,
          0.8882129059897529,
          0.8872904568910599,
          0.8865604265169664,
          0.8859439417719841,
          0.8853329443014585,
          0.8848037081105369,
          0.8842733999093374
         ]
        },
        {
         "marker": {
          "maxdisplayed": 10
         },
         "mode": "lines+markers",
         "name": "Trial8",
         "type": "scatter",
         "x": [
          0
         ],
         "y": [
          1.098996639251709
         ]
        },
        {
         "marker": {
          "maxdisplayed": 10
         },
         "mode": "lines+markers",
         "name": "Trial9",
         "type": "scatter",
         "x": [
          0,
          1,
          2,
          3,
          4,
          5,
          6,
          7,
          8,
          9,
          10,
          11,
          12,
          13,
          14
         ],
         "y": [
          0.8952007591724396,
          0.8899560272693634,
          0.8869998653729757,
          0.8859426900744438,
          0.8851258158683777,
          0.8852124661207199,
          0.8844914010592869,
          0.884988009929657,
          0.8844980100790659,
          0.8841145187616348,
          0.8838023191148584,
          0.8835437372326851,
          0.8833260261095487,
          0.8831408428294318,
          0.8829817394415538
         ]
        },
        {
         "marker": {
          "maxdisplayed": 10
         },
         "mode": "lines+markers",
         "name": "Trial10",
         "type": "scatter",
         "x": [
          0
         ],
         "y": [
          1.0599185228347778
         ]
        },
        {
         "marker": {
          "maxdisplayed": 10
         },
         "mode": "lines+markers",
         "name": "Trial11",
         "type": "scatter",
         "x": [
          0,
          1,
          2,
          3,
          4,
          5,
          6,
          7,
          8,
          9,
          10,
          11,
          12,
          13,
          14,
          15,
          16,
          17,
          18,
          19,
          20,
          21,
          22,
          23,
          24,
          25,
          26,
          27,
          28,
          29,
          30,
          31,
          32,
          33,
          34,
          35,
          36,
          37,
          38,
          39,
          40,
          41,
          42,
          43,
          44,
          45,
          46,
          47,
          48,
          49,
          50,
          51,
          52,
          53,
          54,
          55,
          56,
          57,
          58,
          59,
          60,
          61,
          62,
          63,
          64,
          65,
          66,
          67,
          68,
          69,
          70,
          71,
          72,
          73,
          74,
          75,
          76,
          77,
          78,
          79,
          80,
          81,
          82,
          83,
          84,
          85,
          86,
          87,
          88,
          89,
          90,
          91,
          92,
          93,
          94,
          95,
          96,
          97,
          98,
          99
         ],
         "y": [
          0.9090501964092255,
          0.8699573874473572,
          0.8432710965474447,
          0.8238670900464058,
          0.808884060382843,
          0.7964715212583542,
          0.7861586809158325,
          0.7773824892938137,
          0.7695418463812934,
          0.7626257389783859,
          0.7562242827632211,
          0.7504343589146932,
          0.7450743753176469,
          0.7401448296649116,
          0.7354178051153819,
          0.7310892678797245,
          0.7269951105117798,
          0.7231808569696214,
          0.7195687294006348,
          0.7161802783608436,
          0.7130364775657654,
          0.7101138085126877,
          0.7072961330413818,
          0.7046343249579271,
          0.702069627046585,
          0.6997528706605618,
          0.6975827989754854,
          0.6955107642071587,
          0.6935535741263422,
          0.6917198052008947,
          0.6900309516537574,
          0.6883666664361954,
          0.6867891152699789,
          0.6853196945260552,
          0.6839611325945173,
          0.6826369447840585,
          0.6814137117282765,
          0.6802103597866861,
          0.6791050602228214,
          0.6780671283602715,
          0.677098753248773,
          0.6761516729990641,
          0.6752771645091301,
          0.6744649464433844,
          0.6737514886591169,
          0.6730518736269163,
          0.6723972127792683,
          0.6718394799778858,
          0.6713276079722813,
          0.6708649080991745,
          0.6704297094952827,
          0.6700741087014859,
          0.6697344791214421,
          0.6694556011093987,
          0.6692228295586325,
          0.6690307435180459,
          0.6688344394951536,
          0.6687157441829813,
          0.6686234858076451,
          0.6685343573490778,
          0.668450154730531,
          0.6684081059309744,
          0.668457472608203,
          0.6684903274290264,
          0.6685304765517895,
          0.668598314577883,
          0.6686883368598882,
          0.6687645903405022,
          0.6689495388148488,
          0.6691095267023359,
          0.669294537372992,
          0.6695376241372691,
          0.6698091622084787,
          0.6701432389987482,
          0.6704424734910329,
          0.6707343600298229,
          0.6710974519903009,
          0.6714568222180392,
          0.6718118518968171,
          0.672176705673337,
          0.67261951904238,
          0.6731326532800023,
          0.6735940166266567,
          0.6740656778925941,
          0.6745135889333838,
          0.6749822351821634,
          0.6755060690572892,
          0.676009979437698,
          0.6765438107292304,
          0.6770729270246294,
          0.6775856627212776,
          0.6780927531097246,
          0.6786567414960554,
          0.6792478659685622,
          0.6798440177189676,
          0.680448031052947,
          0.6811208018322581,
          0.6817888781732443,
          0.682485117755755,
          0.6830888235569
         ]
        },
        {
         "marker": {
          "maxdisplayed": 10
         },
         "mode": "lines+markers",
         "name": "Trial12",
         "type": "scatter",
         "x": [
          0,
          1,
          2,
          3,
          4,
          5,
          6,
          7,
          8,
          9,
          10,
          11,
          12,
          13,
          14,
          15,
          16,
          17,
          18,
          19,
          20,
          21,
          22,
          23,
          24,
          25,
          26,
          27,
          28,
          29,
          30,
          31,
          32,
          33,
          34,
          35,
          36,
          37,
          38,
          39,
          40,
          41,
          42,
          43,
          44,
          45,
          46,
          47,
          48,
          49,
          50,
          51,
          52,
          53,
          54,
          55,
          56,
          57,
          58,
          59,
          60,
          61,
          62,
          63,
          64,
          65,
          66,
          67,
          68,
          69,
          70,
          71,
          72,
          73,
          74,
          75,
          76,
          77,
          78,
          79,
          80,
          81,
          82,
          83,
          84,
          85,
          86,
          87,
          88,
          89,
          90,
          91,
          92,
          93,
          94,
          95,
          96,
          97,
          98,
          99
         ],
         "y": [
          0.9219363331794739,
          0.8939716666936874,
          0.8721264004707336,
          0.8542945384979248,
          0.8395966768264771,
          0.8272955417633057,
          0.8168393501213619,
          0.80767622590065,
          0.7996741963757409,
          0.7925691664218902,
          0.7861754894256592,
          0.7803285246094068,
          0.7750282310522519,
          0.7700720386845725,
          0.7654772222042083,
          0.7611898854374886,
          0.7570960398982552,
          0.753296403421296,
          0.7496500172113117,
          0.746150729060173,
          0.742738793293635,
          0.7395412082021887,
          0.7365064426608707,
          0.7335851453244686,
          0.7307764279842377,
          0.7280431951467807,
          0.7255297181782899,
          0.7230368980339595,
          0.7207109969237755,
          0.718442432085673,
          0.7162529268572407,
          0.7142035327851772,
          0.7122605388814752,
          0.7103821889442556,
          0.7085881054401397,
          0.7068634894159105,
          0.7052536002687506,
          0.7036817607126737,
          0.7021459211141635,
          0.7007346749305725,
          0.6994353271112209,
          0.6982089288177944,
          0.6969866849655328,
          0.6958574943921783,
          0.6947525832388136,
          0.6936782430047574,
          0.6927023561711007,
          0.6917760955790678,
          0.6908916685045982,
          0.690046809911728,
          0.689261161813549,
          0.6885341732547834,
          0.6878191660035331,
          0.6871883228973106,
          0.6866206548430703,
          0.6860296667686531,
          0.6854783892631531,
          0.6849568342340404,
          0.6844806600425203,
          0.684145121773084,
          0.6837792357460397,
          0.6834426858732777,
          0.6831414415722802,
          0.6828508796170354,
          0.6825681681816395,
          0.6823141800634789,
          0.6821329958403288,
          0.6819657275781912,
          0.6817913845829342,
          0.681635645883424,
          0.6815330759740211,
          0.6813569230337938,
          0.6813118551691918,
          0.6812625201167287,
          0.6812626179059347,
          0.681279786715382,
          0.6812932847382186,
          0.6813771258562039,
          0.6814695592922501,
          0.6816422361880541,
          0.6817533601949244,
          0.6819379834867105,
          0.6820880120777222,
          0.6823093781159038,
          0.6824672053841984,
          0.6826761926329413,
          0.6829052646269743,
          0.6831968694247983,
          0.6834762561857031,
          0.6838144342104594,
          0.6841508595498054,
          0.6844611744517866,
          0.6848380482324989,
          0.685232087335688,
          0.6855841737044485,
          0.6859548560654124,
          0.6863680614024094,
          0.6867255069771592,
          0.6871036860075864,
          0.6875062987208367
         ]
        },
        {
         "marker": {
          "maxdisplayed": 10
         },
         "mode": "lines+markers",
         "name": "Trial13",
         "type": "scatter",
         "x": [
          0,
          1,
          2,
          3,
          4,
          5,
          6,
          7,
          8,
          9,
          10,
          11,
          12,
          13,
          14,
          15,
          16,
          17,
          18,
          19,
          20,
          21,
          22,
          23,
          24,
          25,
          26,
          27,
          28,
          29,
          30,
          31,
          32,
          33,
          34,
          35,
          36,
          37,
          38,
          39,
          40,
          41,
          42,
          43,
          44,
          45,
          46,
          47,
          48,
          49,
          50,
          51,
          52,
          53,
          54,
          55,
          56,
          57,
          58,
          59,
          60,
          61,
          62,
          63,
          64,
          65,
          66,
          67,
          68,
          69,
          70,
          71,
          72,
          73,
          74,
          75,
          76,
          77,
          78,
          79,
          80,
          81,
          82,
          83,
          84,
          85,
          86,
          87,
          88,
          89,
          90,
          91,
          92,
          93,
          94,
          95,
          96,
          97,
          98,
          99
         ],
         "y": [
          0.9276105463504791,
          0.8983268290758133,
          0.8763165275255839,
          0.8586575463414192,
          0.843887335062027,
          0.8312187989552816,
          0.8203920594283513,
          0.81092544272542,
          0.8023757305410173,
          0.7948002278804779,
          0.7878430648283525,
          0.7814294149478277,
          0.775522245810582,
          0.7701316773891449,
          0.7651081601778666,
          0.7604619991034269,
          0.7560786937966066,
          0.7519498831695981,
          0.7480392110975165,
          0.7442997723817826,
          0.7408126904850915,
          0.7374987331303683,
          0.7343675235043401,
          0.731358990073204,
          0.7285536205768586,
          0.7258735356422571,
          0.7233405113220215,
          0.720984796328204,
          0.7187558371445228,
          0.7165924201409022,
          0.714569011042195,
          0.7126827221363783,
          0.7108688535112323,
          0.7092033002306434,
          0.707634208883558,
          0.7060726583003998,
          0.7046266190103583,
          0.7032541954203656,
          0.701993811589021,
          0.7008087769150734,
          0.699632242685411,
          0.6985313757544472,
          0.6975470178349074,
          0.6965867280960083,
          0.6956602348221673,
          0.6948099790707879,
          0.6939568164500785,
          0.6931916028261185,
          0.6924571334099283,
          0.6917532414197922,
          0.6910836533004162,
          0.6904377513206922,
          0.6898904976979742,
          0.6893699522371646,
          0.6888596691868522,
          0.6883823286209788,
          0.6879380031635887,
          0.6875049975411646,
          0.6871733271469505,
          0.6869111364086469,
          0.6866401815023578,
          0.6864216193076103,
          0.6862240225549728,
          0.6860090377740562,
          0.6857953855624566,
          0.6855812266920552,
          0.6854563973732849,
          0.685335719410111,
          0.6852459229420924,
          0.6852006494998932,
          0.6852104244097857,
          0.6852541317542394,
          0.6852654684079836,
          0.6852270852069597,
          0.6852491156260172,
          0.6852395330604754,
          0.685271910645745,
          0.685289143369748,
          0.6853283934200867,
          0.6854069575667381,
          0.6855104745906077,
          0.6856316437081593,
          0.6857411606484148,
          0.685865478856223,
          0.686080999584759,
          0.6862825626550719,
          0.6864878237247467,
          0.6867106035351753,
          0.6869534977366415,
          0.6873017178641425,
          0.6876679642514868,
          0.6879600736757984,
          0.6883241114436939,
          0.6886267696923398,
          0.6889953594458731,
          0.6893431988234321,
          0.6897735515820611,
          0.6901541066413023,
          0.6905254023243682,
          0.6909493306279182
         ]
        },
        {
         "marker": {
          "maxdisplayed": 10
         },
         "mode": "lines+markers",
         "name": "Trial14",
         "type": "scatter",
         "x": [
          0
         ],
         "y": [
          1.0457943677902222
         ]
        },
        {
         "marker": {
          "maxdisplayed": 10
         },
         "mode": "lines+markers",
         "name": "Trial15",
         "type": "scatter",
         "x": [
          0
         ],
         "y": [
          1.0194379091262817
         ]
        },
        {
         "marker": {
          "maxdisplayed": 10
         },
         "mode": "lines+markers",
         "name": "Trial16",
         "type": "scatter",
         "x": [
          0,
          1,
          2,
          3,
          4
         ],
         "y": [
          0.8947100341320038,
          0.8907117694616318,
          0.8879941403865814,
          0.8868625834584236,
          0.8855484127998352
         ]
        },
        {
         "marker": {
          "maxdisplayed": 10
         },
         "mode": "lines+markers",
         "name": "Trial17",
         "type": "scatter",
         "x": [
          0,
          1
         ],
         "y": [
          0.9792393147945404,
          0.9588309079408646
         ]
        },
        {
         "marker": {
          "maxdisplayed": 10
         },
         "mode": "lines+markers",
         "name": "Trial18",
         "type": "scatter",
         "x": [
          0
         ],
         "y": [
          0.989666759967804
         ]
        },
        {
         "marker": {
          "maxdisplayed": 10
         },
         "mode": "lines+markers",
         "name": "Trial19",
         "type": "scatter",
         "x": [
          0,
          1,
          2,
          3,
          4,
          5,
          6,
          7,
          8,
          9,
          10,
          11,
          12,
          13,
          14,
          15,
          16,
          17,
          18,
          19,
          20,
          21,
          22,
          23,
          24,
          25,
          26,
          27,
          28,
          29,
          30,
          31,
          32,
          33,
          34,
          35,
          36,
          37,
          38,
          39,
          40,
          41,
          42,
          43,
          44,
          45,
          46,
          47,
          48,
          49,
          50,
          51,
          52,
          53,
          54,
          55,
          56,
          57,
          58,
          59,
          60,
          61,
          62,
          63,
          64,
          65,
          66,
          67,
          68,
          69,
          70,
          71,
          72,
          73,
          74,
          75,
          76,
          77,
          78,
          79,
          80,
          81,
          82,
          83,
          84,
          85,
          86,
          87,
          88,
          89,
          90,
          91,
          92,
          93,
          94,
          95,
          96,
          97,
          98,
          99
         ],
         "y": [
          0.9417698979377747,
          0.9112077951431274,
          0.8979604045550028,
          0.8854905143380165,
          0.8764057517051697,
          0.869380846619606,
          0.8631945124694279,
          0.8587627075612545,
          0.8537476261456808,
          0.8488636136054992,
          0.8450905761935494,
          0.8413729319969813,
          0.8379038343062768,
          0.8347107810633523,
          0.8316059271494548,
          0.8287526983767748,
          0.826248577412437,
          0.8245495392216576,
          0.8228157695971037,
          0.8208062708377838,
          0.8194851208300817,
          0.8190986419265921,
          0.817421801712202,
          0.8157732871671518,
          0.8153646743297577,
          0.8154967324091837,
          0.8144160177972581,
          0.8136818941150393,
          0.8135971457793795,
          0.8134000877539317,
          0.8135980973320622,
          0.8140316335484385,
          0.813215720834154,
          0.811685793540057,
          0.8116909095219204,
          0.8126692664292123,
          0.8126302659511566,
          0.8114056767601716,
          0.8103245695432028,
          0.8100304126739502,
          0.8093927655278182,
          0.8086843398355302,
          0.8089746049670286,
          0.8089770485054363,
          0.8080647442075941,
          0.8067680228015651,
          0.8058194283475267,
          0.8055435301115116,
          0.8044993469909746,
          0.8033735555410385,
          0.802209300737755,
          0.8011772609674014,
          0.7999012835745541,
          0.7986176350602398,
          0.7976474333893169,
          0.7967813834547997,
          0.7959542802551336,
          0.7953271614066486,
          0.7947931370492709,
          0.7946535830696424,
          0.794250809266919,
          0.7935805195762266,
          0.7930376775681026,
          0.7925731339491904,
          0.7920371216077071,
          0.7914295083645618,
          0.7908845361488969,
          0.7905812132007936,
          0.7904484768708547,
          0.7902467578649521,
          0.7903884078415346,
          0.7903971601691511,
          0.7903497733481942,
          0.7902537334609676,
          0.789911919037501,
          0.7896705097273776,
          0.7895342908896409,
          0.7893832864669653,
          0.7894033072869989,
          0.7894563876092434,
          0.7895514019477514,
          0.7896683543193631,
          0.7897363007068634,
          0.7897611246222541,
          0.7897837687941158,
          0.7896630167961121,
          0.7896013999807423,
          0.7894656729291786,
          0.7892622924252842,
          0.7892144633664026,
          0.7891440450490176,
          0.7892086603071379,
          0.7893421855024112,
          0.7894705137673844,
          0.7896074003294895,
          0.7897150761758288,
          0.789913225726983,
          0.7901071586779186,
          0.7902804281976488,
          0.7904231795668601
         ]
        },
        {
         "marker": {
          "maxdisplayed": 10
         },
         "mode": "lines+markers",
         "name": "Trial20",
         "type": "scatter",
         "x": [
          0
         ],
         "y": [
          1.1026058793067932
         ]
        },
        {
         "marker": {
          "maxdisplayed": 10
         },
         "mode": "lines+markers",
         "name": "Trial21",
         "type": "scatter",
         "x": [
          0
         ],
         "y": [
          1.0570759177207947
         ]
        },
        {
         "marker": {
          "maxdisplayed": 10
         },
         "mode": "lines+markers",
         "name": "Trial22",
         "type": "scatter",
         "x": [
          0
         ],
         "y": [
          0.9458625018596649
         ]
        },
        {
         "marker": {
          "maxdisplayed": 10
         },
         "mode": "lines+markers",
         "name": "Trial23",
         "type": "scatter",
         "x": [
          0,
          1,
          2,
          3,
          4,
          5,
          6,
          7,
          8,
          9,
          10,
          11,
          12,
          13,
          14,
          15,
          16,
          17,
          18,
          19,
          20,
          21,
          22,
          23,
          24,
          25,
          26,
          27,
          28,
          29,
          30,
          31,
          32,
          33,
          34,
          35,
          36,
          37,
          38,
          39,
          40,
          41,
          42,
          43,
          44,
          45,
          46,
          47,
          48,
          49,
          50,
          51,
          52,
          53,
          54,
          55,
          56,
          57,
          58,
          59,
          60,
          61,
          62,
          63,
          64,
          65,
          66,
          67,
          68,
          69,
          70,
          71,
          72,
          73,
          74,
          75,
          76,
          77,
          78,
          79,
          80,
          81,
          82,
          83,
          84,
          85,
          86,
          87,
          88,
          89,
          90,
          91,
          92,
          93,
          94,
          95,
          96,
          97,
          98,
          99
         ],
         "y": [
          0.9276392161846161,
          0.8898266702890396,
          0.8623872598012289,
          0.841727651655674,
          0.8254952192306518,
          0.8121611823638281,
          0.8010387718677521,
          0.7915801405906677,
          0.7832828561464945,
          0.7759126037359237,
          0.7693482718684457,
          0.7634360666076342,
          0.7580341215317066,
          0.7530717785869326,
          0.7484366476535798,
          0.7440597619861364,
          0.7399925151292015,
          0.7361402412255605,
          0.7325654202385953,
          0.7291920617222786,
          0.7260824229036059,
          0.7230860861864957,
          0.7203994289688442,
          0.717805989086628,
          0.7154096496105194,
          0.7131580985509433,
          0.7109816946365215,
          0.7089561213340078,
          0.7070865723593481,
          0.7053625245889028,
          0.7038435762928378,
          0.7024030312895775,
          0.7010447355833921,
          0.6997084039099076,
          0.6984513078417097,
          0.697357737355762,
          0.6962825301531199,
          0.6953368484973907,
          0.6943794909196023,
          0.693395821750164,
          0.6925308617149911,
          0.6918248236179352,
          0.6911263119342715,
          0.690513705665415,
          0.689878582292133,
          0.689336728790532,
          0.6887973337731463,
          0.6883892361074686,
          0.6879224169011019,
          0.6874976170063019,
          0.6871609325502434,
          0.6868728554019561,
          0.6866285306102825,
          0.6863825795827089,
          0.686276589198546,
          0.6862784932766642,
          0.6862368986271975,
          0.6862714701685412,
          0.6863139135352636,
          0.6865178311864535,
          0.6867963725426158,
          0.6869487906655958,
          0.6870231477041093,
          0.6871427595615387,
          0.6873220086097718,
          0.6875963165904536,
          0.6879167583451342,
          0.688270752920824,
          0.6886602752450584,
          0.6890079208782741,
          0.6893689779328628,
          0.6896860810617605,
          0.6899866106575483,
          0.6903547169388952,
          0.6907291106383006,
          0.6910524721208372,
          0.6914395047472669,
          0.691932798578189,
          0.692484544425071,
          0.6931041412055492,
          0.6938800164210943,
          0.6946899109497303,
          0.6953061962702188,
          0.6957606055906841,
          0.6962528579375323,
          0.6967607649952866,
          0.6973212275696897,
          0.6978177204728127,
          0.6983642725462325,
          0.6989387624793583,
          0.6995311101059337,
          0.7001083881958671,
          0.7007185432218737,
          0.7013881812070278,
          0.7020700084535699,
          0.7027920642867684,
          0.7034915372268441,
          0.704176591671243,
          0.7048853924780181,
          0.7055789157748222
         ]
        },
        {
         "marker": {
          "maxdisplayed": 10
         },
         "mode": "lines+markers",
         "name": "Trial24",
         "type": "scatter",
         "x": [
          0
         ],
         "y": [
          1.0469768047332764
         ]
        },
        {
         "marker": {
          "maxdisplayed": 10
         },
         "mode": "lines+markers",
         "name": "Trial25",
         "type": "scatter",
         "x": [
          0
         ],
         "y": [
          1.01341313123703
         ]
        },
        {
         "marker": {
          "maxdisplayed": 10
         },
         "mode": "lines+markers",
         "name": "Trial26",
         "type": "scatter",
         "x": [
          0
         ],
         "y": [
          0.9621430337429047
         ]
        },
        {
         "marker": {
          "maxdisplayed": 10
         },
         "mode": "lines+markers",
         "name": "Trial27",
         "type": "scatter",
         "x": [
          0
         ],
         "y": [
          0.9950865209102631
         ]
        },
        {
         "marker": {
          "maxdisplayed": 10
         },
         "mode": "lines+markers",
         "name": "Trial28",
         "type": "scatter",
         "x": [
          0
         ],
         "y": [
          0.9685672521591187
         ]
        },
        {
         "marker": {
          "maxdisplayed": 10
         },
         "mode": "lines+markers",
         "name": "Trial29",
         "type": "scatter",
         "x": [
          0,
          1,
          2
         ],
         "y": [
          0.9025650024414062,
          0.8930280208587646,
          0.8899748822053274
         ]
        },
        {
         "marker": {
          "maxdisplayed": 10
         },
         "mode": "lines+markers",
         "name": "Trial30",
         "type": "scatter",
         "x": [
          0
         ],
         "y": [
          1.0359496474266052
         ]
        },
        {
         "marker": {
          "maxdisplayed": 10
         },
         "mode": "lines+markers",
         "name": "Trial31",
         "type": "scatter",
         "x": [
          0
         ],
         "y": [
          0.9785919487476349
         ]
        },
        {
         "marker": {
          "maxdisplayed": 10
         },
         "mode": "lines+markers",
         "name": "Trial32",
         "type": "scatter",
         "x": [
          0,
          1,
          2,
          3,
          4,
          5,
          6,
          7,
          8,
          9,
          10,
          11,
          12,
          13,
          14,
          15,
          16,
          17,
          18,
          19,
          20,
          21,
          22,
          23,
          24,
          25,
          26,
          27,
          28,
          29,
          30,
          31,
          32,
          33,
          34,
          35,
          36,
          37,
          38,
          39,
          40,
          41,
          42,
          43,
          44,
          45,
          46,
          47,
          48,
          49,
          50,
          51,
          52,
          53,
          54,
          55,
          56,
          57,
          58,
          59,
          60,
          61,
          62,
          63,
          64,
          65,
          66,
          67,
          68,
          69,
          70,
          71,
          72,
          73,
          74,
          75,
          76,
          77,
          78,
          79,
          80,
          81,
          82,
          83,
          84,
          85,
          86,
          87,
          88,
          89,
          90,
          91,
          92,
          93,
          94,
          95,
          96,
          97,
          98,
          99
         ],
         "y": [
          0.9185488820075989,
          0.8754034042358398,
          0.8471362789471945,
          0.8266450762748718,
          0.8107833743095398,
          0.7979495426019033,
          0.7872928593839917,
          0.7783199064433575,
          0.77043659819497,
          0.7635918617248535,
          0.7575077766721899,
          0.7520552749435107,
          0.7469496979163244,
          0.7423297741583416,
          0.7381896098454793,
          0.7343154177069664,
          0.7307684246231528,
          0.7273999419477251,
          0.7242603098091326,
          0.7211991608142853,
          0.7184319169748397,
          0.7158261686563492,
          0.7134732992752738,
          0.7112286115686098,
          0.7091517508029938,
          0.7072284416510508,
          0.7054478393660651,
          0.7037806074534144,
          0.7022753553143863,
          0.7009200006723404,
          0.6996637361664926,
          0.6984662329778075,
          0.6972933267102097,
          0.6962413866730297,
          0.6953239517552512,
          0.6944970099462403,
          0.693707786701821,
          0.6931401522536027,
          0.6924946277569501,
          0.6920442663133144,
          0.6915968620195622,
          0.6912798767998105,
          0.6910601140454758,
          0.6908254088325934,
          0.6907074133555094,
          0.6906198217816975,
          0.6905537114498463,
          0.690561564018329,
          0.6906835369917811,
          0.6908566403388977,
          0.6910431332447949,
          0.6911982962718377,
          0.6916349828243256,
          0.6918392584279731,
          0.6921836484562267,
          0.6923923093293395,
          0.6927178475940436,
          0.693163446311293,
          0.6935604351051783,
          0.694025723139445,
          0.6945302461991545,
          0.6950220292614352,
          0.6955610310274457,
          0.6961327833123505,
          0.6969851260001843,
          0.697777323199041,
          0.6986475809296565,
          0.6993907685665524,
          0.7001512685547704,
          0.7008013184581484,
          0.7015134671204527,
          0.7022291314270761,
          0.703082165081207,
          0.7038452113802368,
          0.7047628931204478,
          0.7056964416252939,
          0.7069677277044817,
          0.7079569315299009,
          0.7088657802418817,
          0.7096496790647506,
          0.7105210294694077,
          0.7112929890068566,
          0.7122225664466261,
          0.7131611786427952,
          0.7140679923927082,
          0.7151470184326172,
          0.7162715415844972,
          0.7177061469040134,
          0.718688669164529,
          0.719579287370046,
          0.7204266858624888,
          0.7213578969240189,
          0.7222889091378899,
          0.7231976526214722,
          0.7241649489653738,
          0.7251342227682471,
          0.7262033343929606,
          0.7272856646046346,
          0.7282823080366309,
          0.7293862769007683
         ]
        },
        {
         "marker": {
          "maxdisplayed": 10
         },
         "mode": "lines+markers",
         "name": "Trial33",
         "type": "scatter",
         "x": [
          0
         ],
         "y": [
          0.9884659349918365
         ]
        },
        {
         "marker": {
          "maxdisplayed": 10
         },
         "mode": "lines+markers",
         "name": "Trial34",
         "type": "scatter",
         "x": [
          0
         ],
         "y": [
          1.0667609572410583
         ]
        },
        {
         "marker": {
          "maxdisplayed": 10
         },
         "mode": "lines+markers",
         "name": "Trial35",
         "type": "scatter",
         "x": [
          0,
          1,
          2,
          3,
          4,
          5,
          6,
          7,
          8,
          9,
          10,
          11,
          12,
          13,
          14,
          15,
          16,
          17,
          18,
          19,
          20,
          21,
          22,
          23,
          24,
          25,
          26,
          27,
          28,
          29,
          30,
          31,
          32,
          33,
          34,
          35,
          36,
          37,
          38,
          39,
          40,
          41,
          42,
          43,
          44,
          45,
          46,
          47,
          48,
          49,
          50,
          51,
          52,
          53,
          54,
          55,
          56,
          57,
          58,
          59,
          60,
          61,
          62,
          63,
          64,
          65,
          66,
          67,
          68,
          69,
          70,
          71,
          72,
          73,
          74,
          75,
          76,
          77,
          78,
          79,
          80,
          81,
          82,
          83,
          84,
          85,
          86,
          87,
          88,
          89,
          90,
          91,
          92,
          93,
          94,
          95,
          96,
          97,
          98,
          99
         ],
         "y": [
          0.9079149663448334,
          0.8750022798776627,
          0.8506680230299631,
          0.8319625556468964,
          0.8170955419540405,
          0.8047024955352148,
          0.7941961756774357,
          0.7850633673369884,
          0.7769947018888261,
          0.7697964906692505,
          0.7632058587941256,
          0.7572772080699602,
          0.7517984761641576,
          0.7467465145247323,
          0.7421067416667938,
          0.7377484496682882,
          0.733622331829632,
          0.7298004693455167,
          0.7262802673013586,
          0.7230177402496338,
          0.7198818751743862,
          0.7170006497339769,
          0.714205176933952,
          0.7116852949062983,
          0.7092675697803498,
          0.7069371984555171,
          0.7048193679915534,
          0.7028534997786794,
          0.70103952185861,
          0.6993422816197078,
          0.6977795324017925,
          0.6963291149586439,
          0.6949802248766928,
          0.6937270821893916,
          0.6925032939229693,
          0.6914239583743943,
          0.6903735004566811,
          0.6893554369085714,
          0.6884691233818347,
          0.6876704566180706,
          0.6869278986279558,
          0.6862447744324094,
          0.6855474391648936,
          0.6849284226244147,
          0.6843833459748162,
          0.6838577720134155,
          0.6834142683668339,
          0.6829912463823954,
          0.6826541423797607,
          0.6823705410957337,
          0.6820600167209027,
          0.681880517074695,
          0.6817240776880732,
          0.681567026509179,
          0.6814792838963595,
          0.6813853814133576,
          0.6813076572460041,
          0.68134840038316,
          0.6813695865162348,
          0.681430995464325,
          0.681535218094216,
          0.6817169477862697,
          0.6818886536454397,
          0.6820862339809537,
          0.682306038416349,
          0.6825730520667452,
          0.6828983790838896,
          0.6832368465907434,
          0.6836008744827216,
          0.6839436927012035,
          0.6843859893335423,
          0.6848713585899936,
          0.6852819303127184,
          0.6857027725593464,
          0.6861351954936982,
          0.6866173054042616,
          0.6870669080065442,
          0.6875700003061539,
          0.6880668496029286,
          0.688534376397729,
          0.6890680326355828,
          0.6896587050542599,
          0.6902633273457907,
          0.6907760014846211,
          0.6914380248855142,
          0.6921040471210036,
          0.6927767067119993,
          0.6934179162437265,
          0.6940659301334553,
          0.6947752879725562,
          0.6955281181649847,
          0.6961672442114871,
          0.696896219445813,
          0.6976215611112878,
          0.6984388903567665,
          0.6991429425155123,
          0.6998932469136936,
          0.7006780517344572,
          0.701451160088934,
          0.7022202742099762
         ]
        },
        {
         "marker": {
          "maxdisplayed": 10
         },
         "mode": "lines+markers",
         "name": "Trial36",
         "type": "scatter",
         "x": [
          0
         ],
         "y": [
          1.0135850310325623
         ]
        },
        {
         "marker": {
          "maxdisplayed": 10
         },
         "mode": "lines+markers",
         "name": "Trial37",
         "type": "scatter",
         "x": [
          0
         ],
         "y": [
          1.0839916467666626
         ]
        },
        {
         "marker": {
          "maxdisplayed": 10
         },
         "mode": "lines+markers",
         "name": "Trial38",
         "type": "scatter",
         "x": [
          0,
          1
         ],
         "y": [
          0.9220471680164337,
          0.9010331332683563
         ]
        },
        {
         "marker": {
          "maxdisplayed": 10
         },
         "mode": "lines+markers",
         "name": "Trial39",
         "type": "scatter",
         "x": [
          0
         ],
         "y": [
          0.9842061102390289
         ]
        },
        {
         "marker": {
          "maxdisplayed": 10
         },
         "mode": "lines+markers",
         "name": "Trial40",
         "type": "scatter",
         "x": [
          0
         ],
         "y": [
          0.975751131772995
         ]
        },
        {
         "marker": {
          "maxdisplayed": 10
         },
         "mode": "lines+markers",
         "name": "Trial41",
         "type": "scatter",
         "x": [
          0
         ],
         "y": [
          0.9356522560119629
         ]
        },
        {
         "marker": {
          "maxdisplayed": 10
         },
         "mode": "lines+markers",
         "name": "Trial42",
         "type": "scatter",
         "x": [
          0,
          1,
          2,
          3,
          4,
          5,
          6,
          7,
          8,
          9,
          10,
          11,
          12,
          13,
          14,
          15,
          16,
          17,
          18,
          19,
          20,
          21,
          22,
          23,
          24,
          25,
          26,
          27,
          28,
          29,
          30,
          31,
          32,
          33,
          34,
          35,
          36,
          37,
          38,
          39,
          40,
          41,
          42,
          43,
          44,
          45,
          46,
          47,
          48,
          49,
          50,
          51,
          52,
          53,
          54,
          55,
          56,
          57,
          58,
          59,
          60,
          61,
          62,
          63,
          64,
          65,
          66,
          67,
          68,
          69,
          70,
          71,
          72,
          73,
          74,
          75,
          76,
          77,
          78,
          79,
          80,
          81,
          82,
          83,
          84,
          85,
          86,
          87,
          88,
          89,
          90,
          91,
          92,
          93,
          94,
          95,
          96,
          97,
          98,
          99
         ],
         "y": [
          0.9182375073432922,
          0.8783034980297089,
          0.851084848244985,
          0.8310722187161446,
          0.8152479290962219,
          0.8019108970959982,
          0.7905374893120357,
          0.7807050682604313,
          0.7719899747106764,
          0.7642161309719085,
          0.7571579163724725,
          0.7506999572118124,
          0.7449332246413598,
          0.7395890546696526,
          0.7346728364626567,
          0.7300119940191507,
          0.7257533441571629,
          0.7218036188019646,
          0.7181492165515297,
          0.7146312370896339,
          0.7114219197205135,
          0.7084557874636217,
          0.7056564559107241,
          0.7030093111097813,
          0.7005208241939545,
          0.6981741132644507,
          0.695938515442389,
          0.693935231438705,
          0.6919048243555529,
          0.6900960425535838,
          0.6883860518855434,
          0.6867480585351586,
          0.685274398688114,
          0.6838176241692375,
          0.6824798890522548,
          0.6811889517638419,
          0.6800160955738377,
          0.6789047388654006,
          0.677848715812732,
          0.676931344717741,
          0.676023798744853,
          0.6751891381683803,
          0.6745512908281281,
          0.6738926328041337,
          0.6733148323165046,
          0.6727422495251116,
          0.6721588855094098,
          0.6716413671771685,
          0.671122673822909,
          0.6707776683568955,
          0.6704840175077027,
          0.670193578188236,
          0.6701905063863071,
          0.6699377436328817,
          0.6699455239556052,
          0.6698491642517703,
          0.6697804195839062,
          0.6698378622531891,
          0.6698331322710392,
          0.670059198141098,
          0.6700467032487275,
          0.6702576630538509,
          0.6703274576436906,
          0.6705403043888509,
          0.6707667263654562,
          0.6711909770965576,
          0.6714151221424786,
          0.6718333218904102,
          0.6721431150816489,
          0.6726688972541264,
          0.6730110733441903,
          0.6733852463463942,
          0.6736889942868115,
          0.6741250761457391,
          0.6744636118412017,
          0.6748461829204309,
          0.6752331458128892,
          0.6756877902990732,
          0.6760631354549264,
          0.6765381246805191,
          0.6769896160673212,
          0.6775826742736305,
          0.6780772715447897,
          0.6790272345145544,
          0.6796301442034104,
          0.6802062437284825,
          0.6807537150794062,
          0.6813464286652479,
          0.6818713592679313,
          0.6826267308659024,
          0.6831811797487867,
          0.6840412195609964,
          0.6845643167854637,
          0.6851530921586017,
          0.6857392552651858,
          0.6863723214094838,
          0.6870798268883499,
          0.6878185868263245,
          0.6891390268850808,
          0.689967492222786
         ]
        },
        {
         "marker": {
          "maxdisplayed": 10
         },
         "mode": "lines+markers",
         "name": "Trial43",
         "type": "scatter",
         "x": [
          0
         ],
         "y": [
          0.994786262512207
         ]
        },
        {
         "marker": {
          "maxdisplayed": 10
         },
         "mode": "lines+markers",
         "name": "Trial44",
         "type": "scatter",
         "x": [
          0
         ],
         "y": [
          71.4762954711914
         ]
        },
        {
         "marker": {
          "maxdisplayed": 10
         },
         "mode": "lines+markers",
         "name": "Trial45",
         "type": "scatter",
         "x": [
          0
         ],
         "y": [
          1.0554064512252808
         ]
        },
        {
         "marker": {
          "maxdisplayed": 10
         },
         "mode": "lines+markers",
         "name": "Trial46",
         "type": "scatter",
         "x": [
          0
         ],
         "y": [
          1.050439178943634
         ]
        },
        {
         "marker": {
          "maxdisplayed": 10
         },
         "mode": "lines+markers",
         "name": "Trial47",
         "type": "scatter",
         "x": [
          0
         ],
         "y": [
          0.9699346125125885
         ]
        },
        {
         "marker": {
          "maxdisplayed": 10
         },
         "mode": "lines+markers",
         "name": "Trial48",
         "type": "scatter",
         "x": [
          0,
          1,
          2
         ],
         "y": [
          0.8995952606201172,
          0.8920331746339798,
          0.8879275719324747
         ]
        },
        {
         "marker": {
          "maxdisplayed": 10
         },
         "mode": "lines+markers",
         "name": "Trial49",
         "type": "scatter",
         "x": [
          0
         ],
         "y": [
          1.095382571220398
         ]
        }
       ],
       "layout": {
        "showlegend": false,
        "template": {
         "data": {
          "bar": [
           {
            "error_x": {
             "color": "#2a3f5f"
            },
            "error_y": {
             "color": "#2a3f5f"
            },
            "marker": {
             "line": {
              "color": "#E5ECF6",
              "width": 0.5
             },
             "pattern": {
              "fillmode": "overlay",
              "size": 10,
              "solidity": 0.2
             }
            },
            "type": "bar"
           }
          ],
          "barpolar": [
           {
            "marker": {
             "line": {
              "color": "#E5ECF6",
              "width": 0.5
             },
             "pattern": {
              "fillmode": "overlay",
              "size": 10,
              "solidity": 0.2
             }
            },
            "type": "barpolar"
           }
          ],
          "carpet": [
           {
            "aaxis": {
             "endlinecolor": "#2a3f5f",
             "gridcolor": "white",
             "linecolor": "white",
             "minorgridcolor": "white",
             "startlinecolor": "#2a3f5f"
            },
            "baxis": {
             "endlinecolor": "#2a3f5f",
             "gridcolor": "white",
             "linecolor": "white",
             "minorgridcolor": "white",
             "startlinecolor": "#2a3f5f"
            },
            "type": "carpet"
           }
          ],
          "choropleth": [
           {
            "colorbar": {
             "outlinewidth": 0,
             "ticks": ""
            },
            "type": "choropleth"
           }
          ],
          "contour": [
           {
            "colorbar": {
             "outlinewidth": 0,
             "ticks": ""
            },
            "colorscale": [
             [
              0,
              "#0d0887"
             ],
             [
              0.1111111111111111,
              "#46039f"
             ],
             [
              0.2222222222222222,
              "#7201a8"
             ],
             [
              0.3333333333333333,
              "#9c179e"
             ],
             [
              0.4444444444444444,
              "#bd3786"
             ],
             [
              0.5555555555555556,
              "#d8576b"
             ],
             [
              0.6666666666666666,
              "#ed7953"
             ],
             [
              0.7777777777777778,
              "#fb9f3a"
             ],
             [
              0.8888888888888888,
              "#fdca26"
             ],
             [
              1,
              "#f0f921"
             ]
            ],
            "type": "contour"
           }
          ],
          "contourcarpet": [
           {
            "colorbar": {
             "outlinewidth": 0,
             "ticks": ""
            },
            "type": "contourcarpet"
           }
          ],
          "heatmap": [
           {
            "colorbar": {
             "outlinewidth": 0,
             "ticks": ""
            },
            "colorscale": [
             [
              0,
              "#0d0887"
             ],
             [
              0.1111111111111111,
              "#46039f"
             ],
             [
              0.2222222222222222,
              "#7201a8"
             ],
             [
              0.3333333333333333,
              "#9c179e"
             ],
             [
              0.4444444444444444,
              "#bd3786"
             ],
             [
              0.5555555555555556,
              "#d8576b"
             ],
             [
              0.6666666666666666,
              "#ed7953"
             ],
             [
              0.7777777777777778,
              "#fb9f3a"
             ],
             [
              0.8888888888888888,
              "#fdca26"
             ],
             [
              1,
              "#f0f921"
             ]
            ],
            "type": "heatmap"
           }
          ],
          "heatmapgl": [
           {
            "colorbar": {
             "outlinewidth": 0,
             "ticks": ""
            },
            "colorscale": [
             [
              0,
              "#0d0887"
             ],
             [
              0.1111111111111111,
              "#46039f"
             ],
             [
              0.2222222222222222,
              "#7201a8"
             ],
             [
              0.3333333333333333,
              "#9c179e"
             ],
             [
              0.4444444444444444,
              "#bd3786"
             ],
             [
              0.5555555555555556,
              "#d8576b"
             ],
             [
              0.6666666666666666,
              "#ed7953"
             ],
             [
              0.7777777777777778,
              "#fb9f3a"
             ],
             [
              0.8888888888888888,
              "#fdca26"
             ],
             [
              1,
              "#f0f921"
             ]
            ],
            "type": "heatmapgl"
           }
          ],
          "histogram": [
           {
            "marker": {
             "pattern": {
              "fillmode": "overlay",
              "size": 10,
              "solidity": 0.2
             }
            },
            "type": "histogram"
           }
          ],
          "histogram2d": [
           {
            "colorbar": {
             "outlinewidth": 0,
             "ticks": ""
            },
            "colorscale": [
             [
              0,
              "#0d0887"
             ],
             [
              0.1111111111111111,
              "#46039f"
             ],
             [
              0.2222222222222222,
              "#7201a8"
             ],
             [
              0.3333333333333333,
              "#9c179e"
             ],
             [
              0.4444444444444444,
              "#bd3786"
             ],
             [
              0.5555555555555556,
              "#d8576b"
             ],
             [
              0.6666666666666666,
              "#ed7953"
             ],
             [
              0.7777777777777778,
              "#fb9f3a"
             ],
             [
              0.8888888888888888,
              "#fdca26"
             ],
             [
              1,
              "#f0f921"
             ]
            ],
            "type": "histogram2d"
           }
          ],
          "histogram2dcontour": [
           {
            "colorbar": {
             "outlinewidth": 0,
             "ticks": ""
            },
            "colorscale": [
             [
              0,
              "#0d0887"
             ],
             [
              0.1111111111111111,
              "#46039f"
             ],
             [
              0.2222222222222222,
              "#7201a8"
             ],
             [
              0.3333333333333333,
              "#9c179e"
             ],
             [
              0.4444444444444444,
              "#bd3786"
             ],
             [
              0.5555555555555556,
              "#d8576b"
             ],
             [
              0.6666666666666666,
              "#ed7953"
             ],
             [
              0.7777777777777778,
              "#fb9f3a"
             ],
             [
              0.8888888888888888,
              "#fdca26"
             ],
             [
              1,
              "#f0f921"
             ]
            ],
            "type": "histogram2dcontour"
           }
          ],
          "mesh3d": [
           {
            "colorbar": {
             "outlinewidth": 0,
             "ticks": ""
            },
            "type": "mesh3d"
           }
          ],
          "parcoords": [
           {
            "line": {
             "colorbar": {
              "outlinewidth": 0,
              "ticks": ""
             }
            },
            "type": "parcoords"
           }
          ],
          "pie": [
           {
            "automargin": true,
            "type": "pie"
           }
          ],
          "scatter": [
           {
            "fillpattern": {
             "fillmode": "overlay",
             "size": 10,
             "solidity": 0.2
            },
            "type": "scatter"
           }
          ],
          "scatter3d": [
           {
            "line": {
             "colorbar": {
              "outlinewidth": 0,
              "ticks": ""
             }
            },
            "marker": {
             "colorbar": {
              "outlinewidth": 0,
              "ticks": ""
             }
            },
            "type": "scatter3d"
           }
          ],
          "scattercarpet": [
           {
            "marker": {
             "colorbar": {
              "outlinewidth": 0,
              "ticks": ""
             }
            },
            "type": "scattercarpet"
           }
          ],
          "scattergeo": [
           {
            "marker": {
             "colorbar": {
              "outlinewidth": 0,
              "ticks": ""
             }
            },
            "type": "scattergeo"
           }
          ],
          "scattergl": [
           {
            "marker": {
             "colorbar": {
              "outlinewidth": 0,
              "ticks": ""
             }
            },
            "type": "scattergl"
           }
          ],
          "scattermapbox": [
           {
            "marker": {
             "colorbar": {
              "outlinewidth": 0,
              "ticks": ""
             }
            },
            "type": "scattermapbox"
           }
          ],
          "scatterpolar": [
           {
            "marker": {
             "colorbar": {
              "outlinewidth": 0,
              "ticks": ""
             }
            },
            "type": "scatterpolar"
           }
          ],
          "scatterpolargl": [
           {
            "marker": {
             "colorbar": {
              "outlinewidth": 0,
              "ticks": ""
             }
            },
            "type": "scatterpolargl"
           }
          ],
          "scatterternary": [
           {
            "marker": {
             "colorbar": {
              "outlinewidth": 0,
              "ticks": ""
             }
            },
            "type": "scatterternary"
           }
          ],
          "surface": [
           {
            "colorbar": {
             "outlinewidth": 0,
             "ticks": ""
            },
            "colorscale": [
             [
              0,
              "#0d0887"
             ],
             [
              0.1111111111111111,
              "#46039f"
             ],
             [
              0.2222222222222222,
              "#7201a8"
             ],
             [
              0.3333333333333333,
              "#9c179e"
             ],
             [
              0.4444444444444444,
              "#bd3786"
             ],
             [
              0.5555555555555556,
              "#d8576b"
             ],
             [
              0.6666666666666666,
              "#ed7953"
             ],
             [
              0.7777777777777778,
              "#fb9f3a"
             ],
             [
              0.8888888888888888,
              "#fdca26"
             ],
             [
              1,
              "#f0f921"
             ]
            ],
            "type": "surface"
           }
          ],
          "table": [
           {
            "cells": {
             "fill": {
              "color": "#EBF0F8"
             },
             "line": {
              "color": "white"
             }
            },
            "header": {
             "fill": {
              "color": "#C8D4E3"
             },
             "line": {
              "color": "white"
             }
            },
            "type": "table"
           }
          ]
         },
         "layout": {
          "annotationdefaults": {
           "arrowcolor": "#2a3f5f",
           "arrowhead": 0,
           "arrowwidth": 1
          },
          "autotypenumbers": "strict",
          "coloraxis": {
           "colorbar": {
            "outlinewidth": 0,
            "ticks": ""
           }
          },
          "colorscale": {
           "diverging": [
            [
             0,
             "#8e0152"
            ],
            [
             0.1,
             "#c51b7d"
            ],
            [
             0.2,
             "#de77ae"
            ],
            [
             0.3,
             "#f1b6da"
            ],
            [
             0.4,
             "#fde0ef"
            ],
            [
             0.5,
             "#f7f7f7"
            ],
            [
             0.6,
             "#e6f5d0"
            ],
            [
             0.7,
             "#b8e186"
            ],
            [
             0.8,
             "#7fbc41"
            ],
            [
             0.9,
             "#4d9221"
            ],
            [
             1,
             "#276419"
            ]
           ],
           "sequential": [
            [
             0,
             "#0d0887"
            ],
            [
             0.1111111111111111,
             "#46039f"
            ],
            [
             0.2222222222222222,
             "#7201a8"
            ],
            [
             0.3333333333333333,
             "#9c179e"
            ],
            [
             0.4444444444444444,
             "#bd3786"
            ],
            [
             0.5555555555555556,
             "#d8576b"
            ],
            [
             0.6666666666666666,
             "#ed7953"
            ],
            [
             0.7777777777777778,
             "#fb9f3a"
            ],
            [
             0.8888888888888888,
             "#fdca26"
            ],
            [
             1,
             "#f0f921"
            ]
           ],
           "sequentialminus": [
            [
             0,
             "#0d0887"
            ],
            [
             0.1111111111111111,
             "#46039f"
            ],
            [
             0.2222222222222222,
             "#7201a8"
            ],
            [
             0.3333333333333333,
             "#9c179e"
            ],
            [
             0.4444444444444444,
             "#bd3786"
            ],
            [
             0.5555555555555556,
             "#d8576b"
            ],
            [
             0.6666666666666666,
             "#ed7953"
            ],
            [
             0.7777777777777778,
             "#fb9f3a"
            ],
            [
             0.8888888888888888,
             "#fdca26"
            ],
            [
             1,
             "#f0f921"
            ]
           ]
          },
          "colorway": [
           "#636efa",
           "#EF553B",
           "#00cc96",
           "#ab63fa",
           "#FFA15A",
           "#19d3f3",
           "#FF6692",
           "#B6E880",
           "#FF97FF",
           "#FECB52"
          ],
          "font": {
           "color": "#2a3f5f"
          },
          "geo": {
           "bgcolor": "white",
           "lakecolor": "white",
           "landcolor": "#E5ECF6",
           "showlakes": true,
           "showland": true,
           "subunitcolor": "white"
          },
          "hoverlabel": {
           "align": "left"
          },
          "hovermode": "closest",
          "mapbox": {
           "style": "light"
          },
          "paper_bgcolor": "white",
          "plot_bgcolor": "#E5ECF6",
          "polar": {
           "angularaxis": {
            "gridcolor": "white",
            "linecolor": "white",
            "ticks": ""
           },
           "bgcolor": "#E5ECF6",
           "radialaxis": {
            "gridcolor": "white",
            "linecolor": "white",
            "ticks": ""
           }
          },
          "scene": {
           "xaxis": {
            "backgroundcolor": "#E5ECF6",
            "gridcolor": "white",
            "gridwidth": 2,
            "linecolor": "white",
            "showbackground": true,
            "ticks": "",
            "zerolinecolor": "white"
           },
           "yaxis": {
            "backgroundcolor": "#E5ECF6",
            "gridcolor": "white",
            "gridwidth": 2,
            "linecolor": "white",
            "showbackground": true,
            "ticks": "",
            "zerolinecolor": "white"
           },
           "zaxis": {
            "backgroundcolor": "#E5ECF6",
            "gridcolor": "white",
            "gridwidth": 2,
            "linecolor": "white",
            "showbackground": true,
            "ticks": "",
            "zerolinecolor": "white"
           }
          },
          "shapedefaults": {
           "line": {
            "color": "#2a3f5f"
           }
          },
          "ternary": {
           "aaxis": {
            "gridcolor": "white",
            "linecolor": "white",
            "ticks": ""
           },
           "baxis": {
            "gridcolor": "white",
            "linecolor": "white",
            "ticks": ""
           },
           "bgcolor": "#E5ECF6",
           "caxis": {
            "gridcolor": "white",
            "linecolor": "white",
            "ticks": ""
           }
          },
          "title": {
           "x": 0.05
          },
          "xaxis": {
           "automargin": true,
           "gridcolor": "white",
           "linecolor": "white",
           "ticks": "",
           "title": {
            "standoff": 15
           },
           "zerolinecolor": "white",
           "zerolinewidth": 2
          },
          "yaxis": {
           "automargin": true,
           "gridcolor": "white",
           "linecolor": "white",
           "ticks": "",
           "title": {
            "standoff": 15
           },
           "zerolinecolor": "white",
           "zerolinewidth": 2
          }
         }
        },
        "title": {
         "text": "Intermediate Values Plot"
        },
        "xaxis": {
         "title": {
          "text": "Step"
         }
        },
        "yaxis": {
         "title": {
          "text": "Intermediate Value"
         }
        }
       }
      }
     },
     "metadata": {},
     "output_type": "display_data"
    }
   ],
   "source": [
    "# create graph directory for this model\n",
    "graph_path = pathlib.Path(\n",
    "    f\"../../figures/{mlp_params.MODEL_TYPE}/{mlp_params.MODEL_NAME}/{mlp_params.CELL_TYPE}/hyperparameter_optimization\"\n",
    ").resolve(strict=True)\n",
    "\n",
    "pathlib.Path(graph_path).mkdir(parents=True, exist_ok=True)\n",
    "fig = optuna.visualization.plot_intermediate_values(study)\n",
    "\n",
    "graph_path = f\"{graph_path}/plot_intermediate_values_graph\"\n",
    "\n",
    "fig.write_image(pathlib.Path(f\"{graph_path}.png\"))\n",
    "fig.show()"
   ]
  },
  {
   "cell_type": "code",
   "execution_count": 31,
   "id": "325a1ec3",
   "metadata": {
    "execution": {
     "iopub.execute_input": "2023-10-18T18:17:37.971533Z",
     "iopub.status.busy": "2023-10-18T18:17:37.971249Z",
     "iopub.status.idle": "2023-10-18T18:17:37.974028Z",
     "shell.execute_reply": "2023-10-18T18:17:37.973638Z"
    },
    "papermill": {
     "duration": null,
     "end_time": null,
     "exception": null,
     "start_time": null,
     "status": "completed"
    },
    "tags": []
   },
   "outputs": [],
   "source": [
    "param_dict = extract_best_trial_params(\n",
    "    study.best_params, params, model_name=mlp_params.MODEL_NAME\n",
    ")"
   ]
  }
 ],
 "metadata": {
  "jupytext": {
   "cell_metadata_filter": "-all",
   "encoding": "# coding: utf-8",
   "executable": "/usr/bin/env python",
   "formats": "ipynb,py",
   "main_language": "python"
  },
  "kernelspec": {
   "display_name": "Python 3 (ipykernel)",
   "language": "python",
   "name": "python3"
  },
  "language_info": {
   "codemirror_mode": {
    "name": "ipython",
    "version": 3
   },
   "file_extension": ".py",
   "mimetype": "text/x-python",
   "name": "python",
   "nbconvert_exporter": "python",
   "pygments_lexer": "ipython3",
   "version": "3.10.12"
  },
  "papermill": {
   "default_parameters": {},
   "duration": 59.524284,
   "end_time": "2023-10-18T18:21:03.252265",
   "environment_variables": {},
   "exception": null,
   "input_path": "Hyperparameter_Optimization_model_binary.ipynb",
   "output_path": "Hyperparameter_Optimization_model_binary.ipynb",
   "parameters": {
    "CELL_TYPE": "PBMC",
    "CONTROL_NAME": "DMSO_0.100_%_DMSO_0.025_%",
    "MODEL_NAME": "DMSO_0.025_vs_Thapsigargin_10",
    "TREATMENT_NAME": "Thapsigargin_10.000_uM_DMSO_0.025_%"
   },
   "start_time": "2023-10-18T18:20:03.727981",
   "version": "2.4.0"
  },
  "vscode": {
   "interpreter": {
    "hash": "72ae02083a9ca7d143c492d1aec380c7bf553ec51bd66e90e72bba65228121b6"
   }
  }
 },
 "nbformat": 4,
 "nbformat_minor": 5
}
