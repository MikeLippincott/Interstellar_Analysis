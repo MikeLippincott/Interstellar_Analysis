{
    "cells": [
        {
            "attachments": {},
            "cell_type": "markdown",
            "id": "8e60628c",
            "metadata": {
                "papermill": {
                    "duration": 0.002385,
                    "end_time": "2023-10-18T18:20:04.868387",
                    "exception": false,
                    "start_time": "2023-10-18T18:20:04.866002",
                    "status": "completed"
                },
                "tags": []
            },
            "source": [
                "## Hyperparameter tuning via Optuna"
            ]
        },
        {
            "cell_type": "markdown",
            "id": "8fac71a5",
            "metadata": {
                "papermill": {
                    "duration": 0.001919,
                    "end_time": "2023-10-18T18:20:04.873048",
                    "exception": false,
                    "start_time": "2023-10-18T18:20:04.871129",
                    "status": "completed"
                },
                "tags": []
            },
            "source": [
                "### Being a binary model this notebook will be limited to predicting one class 1 or 0, yes or no.\n",
                "### Here I will be predicting if a cell received a treatment or not"
            ]
        },
        {
            "cell_type": "code",
            "execution_count": 1,
            "id": "860a61dd",
            "metadata": {
                "execution": {
                    "iopub.execute_input": "2023-10-18T18:20:04.878009Z",
                    "iopub.status.busy": "2023-10-18T18:20:04.877582Z",
                    "iopub.status.idle": "2023-10-18T18:20:08.479452Z",
                    "shell.execute_reply": "2023-10-18T18:20:08.478953Z"
                },
                "papermill": {
                    "duration": 3.605361,
                    "end_time": "2023-10-18T18:20:08.480497",
                    "exception": false,
                    "start_time": "2023-10-18T18:20:04.875136",
                    "status": "completed"
                },
                "tags": []
            },
            "outputs": [],
            "source": [
                "import pathlib\n",
                "import sys\n",
                "\n",
                "import numpy as np\n",
                "import optuna\n",
                "import pandas as pd\n",
                "import pyarrow.parquet as pq\n",
                "import toml\n",
                "import torch\n",
                "from sklearn import preprocessing\n",
                "\n",
                "sys.path.append(\"../..\")\n",
                "\n",
                "from MLP_utils.parameters import Parameters\n",
                "from MLP_utils.utils import (\n",
                "    Dataset_formatter,\n",
                "    data_split,\n",
                "    extract_best_trial_params,\n",
                "    objective_model_optimizer,\n",
                "    parameter_set,\n",
                "    plot_metric_vs_epoch,\n",
                "    results_output,\n",
                "    test_optimized_model,\n",
                "    train_optimized_model,\n",
                "    un_nest,\n",
                ")\n",
                "from sklearn.model_selection import train_test_split\n",
                "\n",
                "sys.path.append(\"../../..\")\n",
                "from utils.utils import df_stats"
            ]
        },
        {
            "cell_type": "markdown",
            "id": "edca0d0e",
            "metadata": {
                "papermill": {
                    "duration": 0.002785,
                    "end_time": "2023-10-18T18:20:08.485446",
                    "exception": false,
                    "start_time": "2023-10-18T18:20:08.482661",
                    "status": "completed"
                },
                "tags": []
            },
            "source": [
                "## Papermill is used for executing notebooks in the CLI with multiple parameters\n",
                "Here the `injected-parameters` cell is used to inject parameters into the notebook via papermill.\n",
                "This enables multiple notebooks to be executed with different parameters, preventing to manually update parameters or have multiple copies of the notebook."
            ]
        },
        {
            "cell_type": "code",
            "execution_count": 2,
            "id": "766d00f5",
            "metadata": {
                "execution": {
                    "iopub.execute_input": "2023-10-18T18:20:08.491654Z",
                    "iopub.status.busy": "2023-10-18T18:20:08.491329Z",
                    "iopub.status.idle": "2023-10-18T18:20:08.493619Z",
                    "shell.execute_reply": "2023-10-18T18:20:08.493278Z"
                },
                "papermill": {
                    "duration": 0.005664,
                    "end_time": "2023-10-18T18:20:08.494279",
                    "exception": false,
                    "start_time": "2023-10-18T18:20:08.488615",
                    "status": "completed"
                },
                "tags": [
                    "injected-parameters"
                ]
            },
            "outputs": [],
            "source": [
                "# Parameters\n",
                "CELL_TYPE = \"SHSY5Y\"\n",
                "MODEL_NAME = \"MultiClass_MLP\""
            ]
        },
        {
            "cell_type": "code",
            "execution_count": 3,
            "id": "394294ce",
            "metadata": {
                "execution": {
                    "iopub.execute_input": "2023-10-18T18:20:08.498713Z",
                    "iopub.status.busy": "2023-10-18T18:20:08.498501Z",
                    "iopub.status.idle": "2023-10-18T18:20:08.502638Z",
                    "shell.execute_reply": "2023-10-18T18:20:08.502299Z"
                },
                "papermill": {
                    "duration": 0.007175,
                    "end_time": "2023-10-18T18:20:08.503377",
                    "exception": false,
                    "start_time": "2023-10-18T18:20:08.496202",
                    "status": "completed"
                },
                "tags": []
            },
            "outputs": [],
            "source": [
                "ml_configs_file = pathlib.Path(\"../../MLP_utils/multi_class_config.toml\").resolve(\n",
                "    strict=True\n",
                ")\n",
                "ml_configs = toml.load(ml_configs_file)\n",
                "params = Parameters()\n",
                "mlp_params = parameter_set(params, ml_configs)\n",
                "\n",
                "# overwrite params via command line arguments from papermill\n",
                "mlp_params.CELL_TYPE = CELL_TYPE\n",
                "mlp_params.MODEL_NAME = MODEL_NAME\n",
                "mlp_params.MODEL_NAME = MODEL_NAME\n",
                "MODEL_TYPE = mlp_params.MODEL_TYPE\n",
                "HYPERPARAMETER_BATCH_SIZE = mlp_params.HYPERPARAMETER_BATCH_SIZE"
            ]
        },
        {
            "cell_type": "code",
            "execution_count": 4,
            "id": "44baa945",
            "metadata": {
                "execution": {
                    "iopub.execute_input": "2023-10-18T18:20:08.507805Z",
                    "iopub.status.busy": "2023-10-18T18:20:08.507608Z"
                },
                "papermill": {
                    "duration": 54.581971,
                    "end_time": "2023-10-18T18:21:03.087265",
                    "exception": false,
                    "start_time": "2023-10-18T18:20:08.505294",
                    "status": "completed"
                },
                "tags": []
            },
            "outputs": [],
            "source": [
                "# Import Data\n",
                "# set data file path under pathlib path for multi-system use\n",
                "\n",
                "file_path = pathlib.Path(\n",
                "    f\"../../../data/{mlp_params.CELL_TYPE}_preprocessed_sc_norm.parquet\"\n",
                ").resolve(strict=True)\n",
                "\n",
                "df1 = pd.read_parquet(file_path)"
            ]
        },
        {
            "cell_type": "code",
            "execution_count": 5,
            "id": "d09ef14b",
            "metadata": {},
            "outputs": [],
            "source": [
                "# df1['oneb_Metadata_Treatment_Dose_Inhibitor_Dose'].unique()\n",
                "# # drop H2O2_100.000_uM_DMSO_0.025_% and H2O2_100.000_nM_DMSO_0.025_%\n",
                "# df1 = df1[df1['oneb_Metadata_Treatment_Dose_Inhibitor_Dose'] != 'H2O2_100.000_uM_DMSO_0.025_%']\n",
                "# df1 = df1[df1['oneb_Metadata_Treatment_Dose_Inhibitor_Dose'] != 'H2O2_100.000_nM_DMSO_0.025_%']"
            ]
        },
        {
            "cell_type": "code",
            "execution_count": 6,
            "id": "e8ef96f3",
            "metadata": {},
            "outputs": [],
            "source": [
                "# get paths for toml files\n",
                "ground_truth_file_path = pathlib.Path(f\"../../MLP_utils/ground_truth.toml\").resolve(\n",
                "    strict=True\n",
                ")\n",
                "treatment_splits_file_path = pathlib.Path(f\"../../MLP_utils/splits.toml\").resolve(\n",
                "    strict=True\n",
                ")\n",
                "# read toml files\n",
                "ground_truth = toml.load(ground_truth_file_path)\n",
                "treatment_splits = toml.load(treatment_splits_file_path)"
            ]
        },
        {
            "cell_type": "code",
            "execution_count": 7,
            "id": "29c1f3cb",
            "metadata": {},
            "outputs": [],
            "source": [
                "# get information from toml files\n",
                "apoptosis_groups_list = ground_truth[\"Apoptosis\"][\"apoptosis_groups_list\"]\n",
                "pyroptosis_groups_list = ground_truth[\"Pyroptosis\"][\"pyroptosis_groups_list\"]\n",
                "healthy_groups_list = ground_truth[\"Healthy\"][\"healthy_groups_list\"]\n",
                "test_split_100 = treatment_splits[\"splits\"][\"data_splits_100\"]\n",
                "test_split_75 = treatment_splits[\"splits\"][\"data_splits_75\"]"
            ]
        },
        {
            "cell_type": "code",
            "execution_count": 8,
            "id": "159e2281",
            "metadata": {},
            "outputs": [
                {
                    "name": "stdout",
                    "output_type": "stream",
                    "text": [
                        "Data Subset Is Off\n"
                    ]
                }
            ],
            "source": [
                "np.random.seed(0)\n",
                "if mlp_params.DATA_SUBSET_OPTION == \"True\":\n",
                "    df1 = df1.groupby(\"oneb_Metadata_Treatment_Dose_Inhibitor_Dose\").apply(\n",
                "        lambda x: x.sample(n=mlp_params.DATA_SUBSET_NUMBER, random_state=0)\n",
                "    )\n",
                "    print(\"Data Subset Is On\")\n",
                "    print(f\"Data is subset to {mlp_params.DATA_SUBSET_NUMBER} per treatment group\")\n",
                "    print(df1.shape)\n",
                "    df1.reset_index(drop=True, inplace=True)\n",
                "else:\n",
                "    print(\"Data Subset Is Off\")"
            ]
        },
        {
            "cell_type": "code",
            "execution_count": 9,
            "id": "6a6ec3fa",
            "metadata": {},
            "outputs": [],
            "source": [
                "# add apoptosis, pyroptosis and healthy columns to dataframe\n",
                "df1[\"apoptosis\"] = df1.apply(\n",
                "    lambda row: row[\"oneb_Metadata_Treatment_Dose_Inhibitor_Dose\"]\n",
                "    in apoptosis_groups_list,\n",
                "    axis=1,\n",
                ")\n",
                "df1[\"pyroptosis\"] = df1.apply(\n",
                "    lambda row: row[\"oneb_Metadata_Treatment_Dose_Inhibitor_Dose\"]\n",
                "    in pyroptosis_groups_list,\n",
                "    axis=1,\n",
                ")\n",
                "df1[\"healthy\"] = df1.apply(\n",
                "    lambda row: row[\"oneb_Metadata_Treatment_Dose_Inhibitor_Dose\"]\n",
                "    in healthy_groups_list,\n",
                "    axis=1,\n",
                ")\n",
                "\n",
                "# merge apoptosis, pyroptosis, and healthy columns into one column\n",
                "df1[\"labels\"] = df1.apply(\n",
                "    lambda row: \"apoptosis\"\n",
                "    if row[\"apoptosis\"]\n",
                "    else \"pyroptosis\"\n",
                "    if row[\"pyroptosis\"]\n",
                "    else \"healthy\",\n",
                "    axis=1,\n",
                ")\n",
                "# drop apoptosis, pyroptosis, and healthy columns\n",
                "df1.drop(columns=[\"apoptosis\", \"pyroptosis\", \"healthy\"], inplace=True)"
            ]
        },
        {
            "cell_type": "markdown",
            "id": "3cb179dd",
            "metadata": {},
            "source": [
                "### Split said data"
            ]
        },
        {
            "cell_type": "code",
            "execution_count": 10,
            "id": "20568fd5",
            "metadata": {},
            "outputs": [
                {
                    "name": "stdout",
                    "output_type": "stream",
                    "text": [
                        "Wells held out for testing: ['F14' 'D15' 'G17' 'H17' 'D18' 'E18' 'B19' 'G19' 'D20' 'F20' 'B21' 'C21'\n",
                        " 'E21' 'F22' 'H22' 'C23' 'J13' 'K13' 'L13' 'I14' 'L14' 'N14' 'O15' 'J16'\n",
                        " 'N16' 'O17' 'I18' 'L18' 'M18' 'O18' 'I20' 'K20' 'L21' 'M21' 'N22' 'O22'\n",
                        " 'J23' 'K23']\n",
                        "Wells to use for training, validation, and testing ['B13' 'C13' 'D13' 'E13' 'F13' 'G13' 'H13' 'B14' 'C14' 'D14' 'E14' 'F14'\n",
                        " 'G14' 'H14' 'B15' 'C15' 'D15' 'E15' 'F15' 'G15' 'H15' 'B16' 'C16' 'D16'\n",
                        " 'E16' 'F16' 'G16' 'H16' 'B17' 'C17' 'D17' 'E17' 'F17' 'G17' 'H17' 'B18'\n",
                        " 'C18' 'D18' 'E18' 'F18' 'G18' 'H18' 'B19' 'C19' 'D19' 'E19' 'F19' 'G19'\n",
                        " 'H19' 'B20' 'C20' 'D20' 'E20' 'F20' 'G20' 'H20' 'B21' 'C21' 'D21' 'E21'\n",
                        " 'F21' 'G21' 'H21' 'B22' 'C22' 'D22' 'E22' 'F22' 'G22' 'H22' 'B23' 'C23'\n",
                        " 'D23' 'E23' 'F23' 'G23' 'H23' 'I13' 'J13' 'K13' 'L13' 'M13' 'N13' 'O13'\n",
                        " 'I14' 'J14' 'K14' 'L14' 'M14' 'N14' 'O14' 'I15' 'J15' 'K15' 'L15' 'M15'\n",
                        " 'N15' 'O15' 'I16' 'J16' 'K16' 'L16' 'M16' 'N16' 'O16' 'I17' 'J17' 'K17'\n",
                        " 'L17' 'M17' 'N17' 'O17' 'I18' 'J18' 'K18' 'L18' 'M18' 'N18' 'O18' 'I19'\n",
                        " 'J19' 'K19' 'L19' 'M19' 'N19' 'O19' 'I20' 'J20' 'K20' 'L20' 'M20' 'N20'\n",
                        " 'O20' 'I21' 'J21' 'K21' 'L21' 'M21' 'N21' 'O21' 'I22' 'J22' 'K22' 'L22'\n",
                        " 'M22' 'N22' 'O22' 'I23' 'J23' 'K23' 'L23' 'M23' 'N23' 'O23']\n"
                    ]
                }
            ],
            "source": [
                "# randomly select wells to hold out for testing one per treatment group\n",
                "# stratified by treatment group\n",
                "np.random.seed(seed=0)\n",
                "wells_to_hold = (\n",
                "    df1.groupby(\"oneb_Metadata_Treatment_Dose_Inhibitor_Dose\")\n",
                "    .agg(np.random.choice)[\"Metadata_Well\"]\n",
                "    .to_list()\n",
                ")\n",
                "df_holdout = df1[df1[\"Metadata_Well\"].isin(wells_to_hold)]\n",
                "df = df1[~df1[\"Metadata_Well\"].isin(wells_to_hold)]\n",
                "\n",
                "\n",
                "print(\"Wells held out for testing:\", df_holdout[\"Metadata_Well\"].unique())\n",
                "print(\n",
                "    \"Wells to use for training, validation, and testing\", df1[\"Metadata_Well\"].unique()\n",
                ")"
            ]
        },
        {
            "cell_type": "code",
            "execution_count": 11,
            "id": "5a46d3a7",
            "metadata": {},
            "outputs": [
                {
                    "name": "stdout",
                    "output_type": "stream",
                    "text": [
                        "(22551, 1277) (23407, 1277) (401043, 1277)\n"
                    ]
                }
            ],
            "source": [
                "# variable test and train set splits\n",
                "# 100% test set\n",
                "# subset the following treatments for test set\n",
                "test_set_all = df[\n",
                "    df[\"oneb_Metadata_Treatment_Dose_Inhibitor_Dose\"].isin(test_split_100)\n",
                "]\n",
                "# 75% test set and 25% train set\n",
                "test_set_75 = df[df[\"oneb_Metadata_Treatment_Dose_Inhibitor_Dose\"].isin(test_split_75)]\n",
                "\n",
                "test_100_and_75 = test_split_100 + test_split_75\n",
                "\n",
                "# 50% test set and 50% train set\n",
                "# get all treatments that are not in the_test_set_all and the test_set_75\n",
                "test_set_50 = df[\n",
                "    ~df[\"oneb_Metadata_Treatment_Dose_Inhibitor_Dose\"].isin(test_100_and_75)\n",
                "]\n",
                "\n",
                "print(test_set_all.shape, test_set_75.shape, test_set_50.shape)"
            ]
        },
        {
            "cell_type": "code",
            "execution_count": 12,
            "id": "26b32963",
            "metadata": {},
            "outputs": [
                {
                    "name": "stdout",
                    "output_type": "stream",
                    "text": [
                        "Shape for the 100% test set: (22551, 1277)\n",
                        "\n",
                        "Shape for the 75% test set: (5851, 1277);\n",
                        "Shape for the 75% train set: (17556, 1277)\n",
                        "\n",
                        "Shape for the 50% test set: (200521, 1277);\n",
                        "Shape for the 50% train set: (200522, 1277)\n",
                        "Shape for the holdout set: (150901, 1277)\n"
                    ]
                }
            ],
            "source": [
                "# get the train test splits from each group\n",
                "# 100% test set\n",
                "test_set_all\n",
                "\n",
                "# 75% test set and 25% train set\n",
                "test_ratio = 0.75\n",
                "training_data_set_75, testing_data_set_75 = train_test_split(\n",
                "    test_set_75,\n",
                "    test_size=test_ratio,\n",
                "    stratify=test_set_75[\"oneb_Metadata_Treatment_Dose_Inhibitor_Dose\"],\n",
                "    random_state=0,\n",
                ")\n",
                "\n",
                "# 50% test set and 50% train set\n",
                "test_ratio = 0.5\n",
                "training_data_set_50, testing_data_set_50 = train_test_split(\n",
                "    test_set_50,\n",
                "    test_size=test_ratio,\n",
                "    stratify=test_set_50[\"oneb_Metadata_Treatment_Dose_Inhibitor_Dose\"],\n",
                "    random_state=0,\n",
                ")\n",
                "\n",
                "# verify that the correct splits have been made\n",
                "# 100% test set\n",
                "print(f\"Shape for the 100% test set: {test_set_all.shape}\\n\")\n",
                "\n",
                "# 75% test set and 25% train set\n",
                "print(\n",
                "    f\"Shape for the 75% test set: {training_data_set_75.shape};\\nShape for the 75% train set: {testing_data_set_75.shape}\\n\"\n",
                ")\n",
                "\n",
                "# 50% test set and 50% train set\n",
                "print(\n",
                "    f\"Shape for the 50% test set: {training_data_set_50.shape};\\nShape for the 50% train set: {testing_data_set_50.shape}\"\n",
                ")\n",
                "\n",
                "print(f\"Shape for the holdout set: {df_holdout.shape}\")"
            ]
        },
        {
            "cell_type": "code",
            "execution_count": 13,
            "id": "9bf407c4",
            "metadata": {},
            "outputs": [
                {
                    "name": "stdout",
                    "output_type": "stream",
                    "text": [
                        "\n",
                        "    Testing set length: 240629\n",
                        "\n",
                        "    Training set length: 165097\n",
                        "\n",
                        "    Validation set length: 41275\n",
                        "\n",
                        "    Holdout set length: 150901\n"
                    ]
                }
            ],
            "source": [
                "# combine all testing sets together while preserving the index\n",
                "testing_data_set = pd.concat(\n",
                "    [test_set_all, testing_data_set_75, testing_data_set_50], axis=0\n",
                ")\n",
                "testing_data_set = testing_data_set.sort_index()\n",
                "testing_data_set\n",
                "\n",
                "# combine all training sets together while preserving the index\n",
                "training_data_set = pd.concat([training_data_set_75, training_data_set_50], axis=0)\n",
                "training_data_set = training_data_set.sort_index()\n",
                "training_data_set\n",
                "\n",
                "training_data_set, val_data_set = train_test_split(\n",
                "    training_data_set,\n",
                "    test_size=0.20,\n",
                "    stratify=training_data_set[\"oneb_Metadata_Treatment_Dose_Inhibitor_Dose\"],\n",
                ")\n",
                "print(\n",
                "    f\"\"\"\n",
                "    Testing set length: {len(testing_data_set)}\\n\n",
                "    Training set length: {len(training_data_set)}\\n\n",
                "    Validation set length: {len(val_data_set)}\\n\n",
                "    Holdout set length: {len(df_holdout)}\"\"\"\n",
                ")"
            ]
        },
        {
            "cell_type": "code",
            "execution_count": 14,
            "id": "ba51d213",
            "metadata": {},
            "outputs": [],
            "source": [
                "# # train\n",
                "# # downsample healthy and pyroptosis to match number of apoptosis\n",
                "# # to balance classes\n",
                "# df_healthy_train = training_data_set[training_data_set[\"labels\"] == \"healthy\"]\n",
                "# df_pyroptosis_train = training_data_set[training_data_set[\"labels\"] == \"pyroptosis\"]\n",
                "# df_apoptosis_train = training_data_set[training_data_set[\"labels\"] == \"apoptosis\"]\n",
                "# print(df_healthy_train.shape, df_pyroptosis_train.shape, df_apoptosis_train.shape)\n",
                "\n",
                "# # downsample healthy and pyroptosis to match number of apoptosis\n",
                "# df_healthy_train = df_healthy_train.sample(n=df_apoptosis_train.shape[0], random_state=0)\n",
                "# df_pyroptosis_train = df_pyroptosis_train.sample(n=df_apoptosis_train.shape[0], random_state=0)\n",
                "# print(df_healthy_train.shape, df_pyroptosis_train.shape, df_apoptosis_train.shape)\n",
                "# training_data_set = pd.concat([df_healthy_train, df_pyroptosis_train, df_apoptosis_train])\n",
                "# # show that the df was downsampled and recombined correctly\n",
                "# assert (df_healthy_train + df_pyroptosis_train + df_apoptosis_train).shape[0] == training_data_set.shape[0]\n",
                "\n",
                "\n",
                "# # validation\n",
                "# # downsample healthy and pyroptosis to match number of apoptosis\n",
                "# # to balance classes\n",
                "# df_healthy_val = val_data_set[val_data_set[\"labels\"] == \"healthy\"]\n",
                "# df_pyroptosis_val = val_data_set[val_data_set[\"labels\"] == \"pyroptosis\"]\n",
                "# df_apoptosis_val = val_data_set[val_data_set[\"labels\"] == \"apoptosis\"]\n",
                "# print(df_healthy_val.shape, df_pyroptosis_val.shape, df_apoptosis_val.shape)\n",
                "\n",
                "# # downsample healthy and pyroptosis to match number of apoptosis\n",
                "# df_healthy_val = df_healthy_val.sample(n=df_apoptosis_val.shape[0], random_state=0)\n",
                "# df_pyroptosis_val = df_pyroptosis_val.sample(n=df_apoptosis_val.shape[0], random_state=0)\n",
                "# print(df_healthy_val.shape, df_pyroptosis_val.shape, df_apoptosis_val.shape)\n",
                "# val_data_set = pd.concat([df_healthy_val, df_pyroptosis_val, df_apoptosis_val])\n",
                "# # show that the df was downsampled and recombined correctly\n",
                "# assert (df_healthy_val + df_pyroptosis_val + df_apoptosis_val).shape[0] == val_data_set.shape[0]\n",
                "\n",
                "\n",
                "# # test\n",
                "# # downsample healthy and pyroptosis to match number of apoptosis\n",
                "# # to balance classes\n",
                "# df_healthy_test = testing_data_set[testing_data_set[\"labels\"] == \"healthy\"]\n",
                "# df_pyroptosis_test = testing_data_set[testing_data_set[\"labels\"] == \"pyroptosis\"]\n",
                "# df_apoptosis_test = testing_data_set[testing_data_set[\"labels\"] == \"apoptosis\"]\n",
                "# print(df_healthy_test.shape, df_pyroptosis_test.shape, df_apoptosis_test.shape)\n",
                "\n",
                "# # downsample healthy and pyroptosis to match number of apoptosis\n",
                "# df_healthy_test = df_healthy_test.sample(n=df_apoptosis_test.shape[0], random_state=0)\n",
                "# df_pyroptosis_test = df_pyroptosis_test.sample(n=df_apoptosis_test.shape[0], random_state=0)\n",
                "# print(df_healthy_test.shape, df_pyroptosis_test.shape, df_apoptosis_test.shape)\n",
                "# testing_data_set = pd.concat([df_healthy_test, df_pyroptosis_test, df_apoptosis_test])\n",
                "# # show that the df was downsampled and recombined correctly\n",
                "# assert (df_healthy_test + df_pyroptosis_test + df_apoptosis_test).shape[0] == testing_data_set.shape[0]\n",
                "\n",
                "\n",
                "# print(len(training_data_set), len(val_data_set), len(testing_data_set), len(df_holdout))"
            ]
        },
        {
            "cell_type": "code",
            "execution_count": 15,
            "id": "5da1578c",
            "metadata": {},
            "outputs": [],
            "source": [
                "# get the indexes for the training and testing sets\n",
                "\n",
                "training_data_set_index = training_data_set.index\n",
                "val_data_set_index = val_data_set.index\n",
                "testing_data_set_index = testing_data_set.index\n",
                "df_holdout_index = df_holdout.index"
            ]
        },
        {
            "cell_type": "code",
            "execution_count": 16,
            "id": "bce398ed",
            "metadata": {},
            "outputs": [
                {
                    "name": "stdout",
                    "output_type": "stream",
                    "text": [
                        "(165097,) (41275,) (240629,) (150901,)\n",
                        "597902\n"
                    ]
                }
            ],
            "source": [
                "print(\n",
                "    training_data_set_index.shape,\n",
                "    val_data_set_index.shape,\n",
                "    testing_data_set_index.shape,\n",
                "    df_holdout_index.shape,\n",
                ")\n",
                "print(\n",
                "    training_data_set_index.shape[0]\n",
                "    + val_data_set_index.shape[0]\n",
                "    + testing_data_set_index.shape[0]\n",
                "    + df_holdout_index.shape[0]\n",
                ")"
            ]
        },
        {
            "cell_type": "code",
            "execution_count": 17,
            "id": "ad856f53",
            "metadata": {},
            "outputs": [
                {
                    "data": {
                        "text/html": [
                            "<div>\n",
                            "<style scoped>\n",
                            "    .dataframe tbody tr th:only-of-type {\n",
                            "        vertical-align: middle;\n",
                            "    }\n",
                            "\n",
                            "    .dataframe tbody tr th {\n",
                            "        vertical-align: top;\n",
                            "    }\n",
                            "\n",
                            "    .dataframe thead th {\n",
                            "        text-align: right;\n",
                            "    }\n",
                            "</style>\n",
                            "<table border=\"1\" class=\"dataframe\">\n",
                            "  <thead>\n",
                            "    <tr style=\"text-align: right;\">\n",
                            "      <th></th>\n",
                            "      <th>labeled_data_index</th>\n",
                            "      <th>label</th>\n",
                            "    </tr>\n",
                            "  </thead>\n",
                            "  <tbody>\n",
                            "    <tr>\n",
                            "      <th>0</th>\n",
                            "      <td>379883</td>\n",
                            "      <td>train</td>\n",
                            "    </tr>\n",
                            "    <tr>\n",
                            "      <th>1</th>\n",
                            "      <td>6688</td>\n",
                            "      <td>train</td>\n",
                            "    </tr>\n",
                            "    <tr>\n",
                            "      <th>2</th>\n",
                            "      <td>293841</td>\n",
                            "      <td>train</td>\n",
                            "    </tr>\n",
                            "    <tr>\n",
                            "      <th>3</th>\n",
                            "      <td>117560</td>\n",
                            "      <td>train</td>\n",
                            "    </tr>\n",
                            "    <tr>\n",
                            "      <th>4</th>\n",
                            "      <td>213514</td>\n",
                            "      <td>train</td>\n",
                            "    </tr>\n",
                            "    <tr>\n",
                            "      <th>...</th>\n",
                            "      <td>...</td>\n",
                            "      <td>...</td>\n",
                            "    </tr>\n",
                            "    <tr>\n",
                            "      <th>597897</th>\n",
                            "      <td>584185</td>\n",
                            "      <td>holdout</td>\n",
                            "    </tr>\n",
                            "    <tr>\n",
                            "      <th>597898</th>\n",
                            "      <td>584186</td>\n",
                            "      <td>holdout</td>\n",
                            "    </tr>\n",
                            "    <tr>\n",
                            "      <th>597899</th>\n",
                            "      <td>584187</td>\n",
                            "      <td>holdout</td>\n",
                            "    </tr>\n",
                            "    <tr>\n",
                            "      <th>597900</th>\n",
                            "      <td>584188</td>\n",
                            "      <td>holdout</td>\n",
                            "    </tr>\n",
                            "    <tr>\n",
                            "      <th>597901</th>\n",
                            "      <td>584189</td>\n",
                            "      <td>holdout</td>\n",
                            "    </tr>\n",
                            "  </tbody>\n",
                            "</table>\n",
                            "<p>597902 rows \u00d7 2 columns</p>\n",
                            "</div>"
                        ],
                        "text/plain": [
                            "        labeled_data_index    label\n",
                            "0                   379883    train\n",
                            "1                     6688    train\n",
                            "2                   293841    train\n",
                            "3                   117560    train\n",
                            "4                   213514    train\n",
                            "...                    ...      ...\n",
                            "597897              584185  holdout\n",
                            "597898              584186  holdout\n",
                            "597899              584187  holdout\n",
                            "597900              584188  holdout\n",
                            "597901              584189  holdout\n",
                            "\n",
                            "[597902 rows x 2 columns]"
                        ]
                    },
                    "execution_count": 17,
                    "metadata": {},
                    "output_type": "execute_result"
                }
            ],
            "source": [
                "# create pandas dataframe with all indexes and their respective labels, stratified by phenotypic class\n",
                "index_data = []\n",
                "for index in training_data_set_index:\n",
                "    index_data.append({\"labeled_data_index\": index, \"label\": \"train\"})\n",
                "for index in val_data_set_index:\n",
                "    index_data.append({\"labeled_data_index\": index, \"label\": \"val\"})\n",
                "for index in testing_data_set_index:\n",
                "    index_data.append({\"labeled_data_index\": index, \"label\": \"test\"})\n",
                "for index in df_holdout_index:\n",
                "    index_data.append({\"labeled_data_index\": index, \"label\": \"holdout\"})\n",
                "\n",
                "# make index data a dataframe and sort it by labeled data index\n",
                "index_data = pd.DataFrame(index_data)\n",
                "index_data"
            ]
        },
        {
            "cell_type": "code",
            "execution_count": 18,
            "id": "931ee871",
            "metadata": {},
            "outputs": [
                {
                    "name": "stdout",
                    "output_type": "stream",
                    "text": [
                        "../indexes/SHSY5Y/multi_class\n"
                    ]
                }
            ],
            "source": [
                "save_path = pathlib.Path(f\"../indexes/{CELL_TYPE}/multi_class/\")\n",
                "\n",
                "print(save_path)\n",
                "# create save path if it doesn't exist\n",
                "save_path.mkdir(parents=True, exist_ok=True)"
            ]
        },
        {
            "cell_type": "code",
            "execution_count": 19,
            "id": "686d1a5d",
            "metadata": {},
            "outputs": [],
            "source": [
                "# save indexes as tsv file\n",
                "index_data.to_csv(\n",
                "    f\"{save_path}/multi_class_data_split_indexes.tsv\", sep=\"\\t\", index=False\n",
                ")"
            ]
        },
        {
            "attachments": {},
            "cell_type": "markdown",
            "id": "5c486e00",
            "metadata": {
                "papermill": {
                    "duration": null,
                    "end_time": null,
                    "exception": null,
                    "start_time": null,
                    "status": "completed"
                },
                "tags": []
            },
            "source": [
                "#### Set up Data to be compatible with model"
            ]
        },
        {
            "attachments": {},
            "cell_type": "markdown",
            "id": "95754baa",
            "metadata": {
                "papermill": {
                    "duration": null,
                    "end_time": null,
                    "exception": null,
                    "start_time": null,
                    "status": "completed"
                },
                "tags": []
            },
            "source": [
                "##### Classification Models:\n",
                "Comment out code if using regression"
            ]
        },
        {
            "cell_type": "code",
            "execution_count": 20,
            "id": "786e3a76",
            "metadata": {
                "execution": {
                    "iopub.execute_input": "2023-10-18T18:19:56.707754Z",
                    "iopub.status.busy": "2023-10-18T18:19:56.707475Z",
                    "iopub.status.idle": "2023-10-18T18:19:56.711213Z",
                    "shell.execute_reply": "2023-10-18T18:19:56.710882Z"
                },
                "papermill": {
                    "duration": null,
                    "end_time": null,
                    "exception": null,
                    "start_time": null,
                    "status": "completed"
                },
                "tags": []
            },
            "outputs": [],
            "source": [
                "# Code snippet for metadata extraction by Jenna Tomkinson\n",
                "df_metadata = list(df.columns[df.columns.str.contains(\"Metadata\")])\n",
                "\n",
                "# define which columns are data and which are descriptive\n",
                "df_descriptive = df1[df_metadata]\n",
                "df_values = df1.drop(columns=df_metadata)"
            ]
        },
        {
            "cell_type": "code",
            "execution_count": 21,
            "id": "5a354640",
            "metadata": {},
            "outputs": [
                {
                    "name": "stdout",
                    "output_type": "stream",
                    "text": [
                        "['apoptosis' 'healthy' 'pyroptosis'] [ 26978 310701 260223]\n",
                        "[0, 1, 2] [0.954878893196544, 0.4803479499984947, 0.5647731568049614]\n"
                    ]
                }
            ],
            "source": [
                "# get the class weights for the loss function to account for class imbalance\n",
                "# get the number of samples in each class\n",
                "targets, counts = np.unique(df1[\"labels\"], return_counts=True)\n",
                "print(targets, counts)\n",
                "total_counts = np.sum(counts)\n",
                "# get the class weights\n",
                "class_weights = []\n",
                "class_targets = []\n",
                "for class_name in enumerate(targets):\n",
                "    class_targets.append(class_name[0])\n",
                "for count in enumerate(counts):\n",
                "    class_weights.append(1 - (count[1] / total_counts))\n",
                "print(class_targets, class_weights)\n",
                "# write the class weights to a file for use in the model\n",
                "class_weights_file = pathlib.Path(f\"../class_weights/{CELL_TYPE}/multi_class/\")\n",
                "class_weights_file.mkdir(parents=True, exist_ok=True)\n",
                "with open(f\"{class_weights_file}/class_weights.txt\", \"w\") as filehandle:\n",
                "    for listitem in class_weights:\n",
                "        filehandle.write(\"%s\\n\" % listitem)"
            ]
        },
        {
            "cell_type": "code",
            "execution_count": 22,
            "id": "595afb65",
            "metadata": {
                "execution": {
                    "iopub.execute_input": "2023-10-18T18:19:56.717727Z",
                    "iopub.status.busy": "2023-10-18T18:19:56.717549Z",
                    "iopub.status.idle": "2023-10-18T18:19:56.720945Z",
                    "shell.execute_reply": "2023-10-18T18:19:56.720676Z"
                },
                "papermill": {
                    "duration": null,
                    "end_time": null,
                    "exception": null,
                    "start_time": null,
                    "status": "completed"
                },
                "tags": []
            },
            "outputs": [
                {
                    "data": {
                        "text/plain": [
                            "array([1, 0, 2])"
                        ]
                    },
                    "execution_count": 22,
                    "metadata": {},
                    "output_type": "execute_result"
                }
            ],
            "source": [
                "# Creating label encoder\n",
                "le = preprocessing.LabelEncoder()\n",
                "df_values[\"new_labels\"] = le.fit_transform(df_values[\"labels\"])\n",
                "# get mini dataframe that contains the decoder\n",
                "decoder = df_values[[\"labels\", \"new_labels\"]].drop_duplicates()\n",
                "# split into X and Y where Y are the predictive column and x are the observable data\n",
                "df_values_X = df_values.drop(\n",
                "    [\"new_labels\", \"labels\"],\n",
                "    axis=1,\n",
                ")\n",
                "df_values_Y = df_values[\"new_labels\"]\n",
                "df_values_Y.head()\n",
                "df_values_Y.unique()"
            ]
        },
        {
            "attachments": {},
            "cell_type": "markdown",
            "id": "260a048e",
            "metadata": {
                "papermill": {
                    "duration": null,
                    "end_time": null,
                    "exception": null,
                    "start_time": null,
                    "status": "completed"
                },
                "tags": []
            },
            "source": [
                "#### Split Data - All Models can proceed through this point"
            ]
        },
        {
            "cell_type": "code",
            "execution_count": 23,
            "id": "b5b6d4fa",
            "metadata": {},
            "outputs": [],
            "source": [
                "# split into train and test sets from indexes previously defined\n",
                "\n",
                "X_train = df_values_X.loc[training_data_set_index]\n",
                "X_val = df_values_X.loc[val_data_set_index]\n",
                "X_test = df_values_X.loc[testing_data_set_index]\n",
                "X_holdout = df_values_X.loc[df_holdout_index]\n",
                "\n",
                "Y_train = df_values_Y.loc[training_data_set_index]\n",
                "Y_val = df_values_Y.loc[val_data_set_index]\n",
                "Y_test = df_values_Y.loc[testing_data_set_index]\n",
                "Y_holdout = df_values_Y.loc[df_holdout_index]"
            ]
        },
        {
            "cell_type": "code",
            "execution_count": 24,
            "id": "36894826",
            "metadata": {
                "execution": {
                    "iopub.execute_input": "2023-10-18T18:16:16.591057Z",
                    "iopub.status.busy": "2023-10-18T18:16:16.590719Z",
                    "iopub.status.idle": "2023-10-18T18:16:16.621857Z",
                    "shell.execute_reply": "2023-10-18T18:16:16.621432Z"
                },
                "papermill": {
                    "duration": null,
                    "end_time": null,
                    "exception": null,
                    "start_time": null,
                    "status": "completed"
                },
                "tags": []
            },
            "outputs": [],
            "source": [
                "# produce data objects for train, val and test datasets\n",
                "train_data = Dataset_formatter(\n",
                "    torch.FloatTensor(X_train.values), torch.FloatTensor(Y_train.values)\n",
                ")\n",
                "val_data = Dataset_formatter(\n",
                "    torch.FloatTensor(X_val.values), torch.FloatTensor(Y_val.values)\n",
                ")\n",
                "test_data = Dataset_formatter(\n",
                "    torch.FloatTensor(X_test.values), torch.FloatTensor(Y_test.values)\n",
                ")"
            ]
        },
        {
            "cell_type": "code",
            "execution_count": 25,
            "id": "4382d712",
            "metadata": {
                "execution": {
                    "iopub.execute_input": "2023-10-18T18:16:16.631025Z",
                    "iopub.status.busy": "2023-10-18T18:16:16.630857Z",
                    "iopub.status.idle": "2023-10-18T18:16:16.634504Z",
                    "shell.execute_reply": "2023-10-18T18:16:16.634156Z"
                },
                "papermill": {
                    "duration": null,
                    "end_time": null,
                    "exception": null,
                    "start_time": null,
                    "status": "completed"
                },
                "tags": []
            },
            "outputs": [
                {
                    "name": "stdout",
                    "output_type": "stream",
                    "text": [
                        "Number of in features:  1251\n",
                        "Number of out features:  3\n",
                        "Multi_Class\n"
                    ]
                }
            ],
            "source": [
                "mlp_params.IN_FEATURES = X_train.shape[1]\n",
                "print(\"Number of in features: \", mlp_params.IN_FEATURES)\n",
                "if mlp_params.MODEL_TYPE == \"Regression\":\n",
                "    mlp_params.OUT_FEATURES = 1\n",
                "else:\n",
                "    mlp_params.OUT_FEATURES = len(df_values[\"labels\"].unique())\n",
                "\n",
                "print(\"Number of out features: \", mlp_params.OUT_FEATURES)\n",
                "\n",
                "if mlp_params.OUT_FEATURES > 2:\n",
                "    mlp_params.MODEL_TYPE = \"Multi_Class\"\n",
                "elif mlp_params.OUT_FEATURES == 2:\n",
                "    mlp_params.OUT_FEATURES = mlp_params.OUT_FEATURES - 1\n",
                "    mlp_params.MODEL_TYPE = \"Binary_Classification\"\n",
                "elif mlp_params.OUT_FEATURES == 1:\n",
                "    mlp_params.MODEL_TYPE = \"Regression\"\n",
                "else:\n",
                "    pass\n",
                "print(mlp_params.MODEL_TYPE)"
            ]
        },
        {
            "cell_type": "code",
            "execution_count": 26,
            "id": "77effa5c",
            "metadata": {
                "execution": {
                    "iopub.execute_input": "2023-10-18T18:16:16.642779Z",
                    "iopub.status.busy": "2023-10-18T18:16:16.642487Z",
                    "iopub.status.idle": "2023-10-18T18:16:16.645220Z",
                    "shell.execute_reply": "2023-10-18T18:16:16.644897Z"
                },
                "papermill": {
                    "duration": null,
                    "end_time": null,
                    "exception": null,
                    "start_time": null,
                    "status": "completed"
                },
                "tags": []
            },
            "outputs": [],
            "source": [
                "# convert data class into a dataloader to be compatible with pytorch\n",
                "train_loader = torch.utils.data.DataLoader(\n",
                "    dataset=train_data, batch_size=mlp_params.HYPERPARAMETER_BATCH_SIZE\n",
                ")\n",
                "valid_loader = torch.utils.data.DataLoader(\n",
                "    dataset=val_data, batch_size=mlp_params.HYPERPARAMETER_BATCH_SIZE\n",
                ")"
            ]
        },
        {
            "cell_type": "code",
            "execution_count": 27,
            "id": "cb7635c8",
            "metadata": {
                "execution": {
                    "iopub.execute_input": "2023-10-18T18:16:16.653709Z",
                    "iopub.status.busy": "2023-10-18T18:16:16.653361Z",
                    "iopub.status.idle": "2023-10-18T18:16:16.655989Z",
                    "shell.execute_reply": "2023-10-18T18:16:16.655583Z"
                },
                "papermill": {
                    "duration": null,
                    "end_time": null,
                    "exception": null,
                    "start_time": null,
                    "status": "completed"
                },
                "tags": []
            },
            "outputs": [
                {
                    "name": "stdout",
                    "output_type": "stream",
                    "text": [
                        "cuda\n"
                    ]
                }
            ],
            "source": [
                "# check device\n",
                "print(mlp_params.DEVICE)"
            ]
        },
        {
            "cell_type": "code",
            "execution_count": 28,
            "id": "a969042f",
            "metadata": {
                "execution": {
                    "iopub.execute_input": "2023-10-18T18:16:16.663986Z",
                    "iopub.status.busy": "2023-10-18T18:16:16.663699Z",
                    "iopub.status.idle": "2023-10-18T18:17:37.283791Z",
                    "shell.execute_reply": "2023-10-18T18:17:37.283496Z"
                },
                "papermill": {
                    "duration": null,
                    "end_time": null,
                    "exception": null,
                    "start_time": null,
                    "status": "completed"
                },
                "tags": []
            },
            "outputs": [
                {
                    "name": "stderr",
                    "output_type": "stream",
                    "text": [
                        "[I 2023-11-10 17:03:22,470] A new study created in memory with name: no-name-152ce70a-1866-402c-96cb-c43fd872a6d2\n",
                        "[I 2023-11-10 17:06:23,490] Trial 0 finished with value: 0.9215212746319318 and parameters: {'n_layers': 12, 'n_units_l0': 6, 'dropout_0': 0.3651412039596035, 'n_units_l1': 4, 'dropout_1': 0.34612179595996984, 'n_units_l2': 11, 'dropout_2': 0.11278235890099686, 'n_units_l3': 11, 'dropout_3': 0.22882293307128915, 'n_units_l4': 35, 'dropout_4': 0.31414503163502216, 'n_units_l5': 8, 'dropout_5': 0.21291532639956667, 'n_units_l6': 8, 'dropout_6': 0.34873452246348047, 'n_units_l7': 40, 'dropout_7': 0.37070983322446116, 'n_units_l8': 3, 'dropout_8': 0.2845253572620299, 'n_units_l9': 8, 'dropout_9': 0.30463806907204133, 'n_units_l10': 45, 'dropout_10': 0.36857541686305995, 'n_units_l11': 43, 'dropout_11': 0.15442638066221182, 'learning_rate': 0.05763613001026088, 'optimizer': 'Adam'}. Best is trial 0 with value: 0.9215212746319318.\n",
                        "[I 2023-11-10 17:09:02,808] Trial 1 finished with value: 0.6206041437103634 and parameters: {'n_layers': 5, 'n_units_l0': 12, 'dropout_0': 0.15256518449121645, 'n_units_l1': 44, 'dropout_1': 0.11074230237423166, 'n_units_l2': 18, 'dropout_2': 0.389474278614514, 'n_units_l3': 38, 'dropout_3': 0.1815171675900591, 'n_units_l4': 26, 'dropout_4': 0.11628976641189319, 'learning_rate': 0.005234145210296459, 'optimizer': 'RMSprop'}. Best is trial 1 with value: 0.6206041437103634.\n",
                        "[I 2023-11-10 17:12:06,721] Trial 2 finished with value: 0.9184991010030111 and parameters: {'n_layers': 12, 'n_units_l0': 41, 'dropout_0': 0.1483736847335716, 'n_units_l1': 24, 'dropout_1': 0.1669704170238192, 'n_units_l2': 6, 'dropout_2': 0.1556014584036588, 'n_units_l3': 37, 'dropout_3': 0.23493428129737928, 'n_units_l4': 13, 'dropout_4': 0.2091905079153668, 'n_units_l5': 49, 'dropout_5': 0.3257885932964059, 'n_units_l6': 29, 'dropout_6': 0.3356266465951405, 'n_units_l7': 39, 'dropout_7': 0.30371881958543345, 'n_units_l8': 20, 'dropout_8': 0.1336542443812077, 'n_units_l9': 26, 'dropout_9': 0.30516126788496756, 'n_units_l10': 6, 'dropout_10': 0.3119786362940741, 'n_units_l11': 24, 'dropout_11': 0.20911248827140022, 'learning_rate': 0.030782515518716587, 'optimizer': 'Adam'}. Best is trial 1 with value: 0.6206041437103634.\n",
                        "[I 2023-11-10 17:14:59,184] Trial 3 finished with value: 0.9489795944236573 and parameters: {'n_layers': 7, 'n_units_l0': 47, 'dropout_0': 0.2513791303637845, 'n_units_l1': 48, 'dropout_1': 0.2596376222274631, 'n_units_l2': 45, 'dropout_2': 0.39234696773802413, 'n_units_l3': 50, 'dropout_3': 0.27447043012772776, 'n_units_l4': 10, 'dropout_4': 0.11484273104630997, 'n_units_l5': 49, 'dropout_5': 0.1707970222834565, 'n_units_l6': 35, 'dropout_6': 0.37839817690251487, 'learning_rate': 0.09072559388635851, 'optimizer': 'RMSprop'}. Best is trial 1 with value: 0.6206041437103634.\n",
                        "[I 2023-11-10 17:18:02,851] Trial 4 finished with value: 0.7555602709736142 and parameters: {'n_layers': 12, 'n_units_l0': 12, 'dropout_0': 0.20743558430482778, 'n_units_l1': 32, 'dropout_1': 0.28091785963698757, 'n_units_l2': 25, 'dropout_2': 0.2614558985542115, 'n_units_l3': 32, 'dropout_3': 0.3765499850937064, 'n_units_l4': 17, 'dropout_4': 0.3761082831497653, 'n_units_l5': 39, 'dropout_5': 0.16268681459269338, 'n_units_l6': 16, 'dropout_6': 0.3778340100740799, 'n_units_l7': 49, 'dropout_7': 0.14629110093392697, 'n_units_l8': 41, 'dropout_8': 0.2361810588802216, 'n_units_l9': 27, 'dropout_9': 0.38689563183855213, 'n_units_l10': 36, 'dropout_10': 0.16188833505357803, 'n_units_l11': 42, 'dropout_11': 0.3223534438023218, 'learning_rate': 8.195882499366663e-05, 'optimizer': 'Adam'}. Best is trial 1 with value: 0.6206041437103634.\n",
                        "[I 2023-11-10 17:20:48,160] Trial 5 finished with value: 0.8829576696668352 and parameters: {'n_layers': 4, 'n_units_l0': 24, 'dropout_0': 0.18561063404493605, 'n_units_l1': 40, 'dropout_1': 0.24886355544481614, 'n_units_l2': 12, 'dropout_2': 0.33913256239034406, 'n_units_l3': 29, 'dropout_3': 0.23883471873278944, 'learning_rate': 0.06615993607231349, 'optimizer': 'Adam'}. Best is trial 1 with value: 0.6206041437103634.\n",
                        "[I 2023-11-10 17:20:50,037] Trial 6 pruned. \n",
                        "[I 2023-11-10 17:23:38,849] Trial 7 finished with value: 0.7163784149289133 and parameters: {'n_layers': 5, 'n_units_l0': 5, 'dropout_0': 0.2909727976885397, 'n_units_l1': 9, 'dropout_1': 0.12974356013835675, 'n_units_l2': 39, 'dropout_2': 0.22102618753726072, 'n_units_l3': 46, 'dropout_3': 0.12151055860046513, 'n_units_l4': 49, 'dropout_4': 0.29421060655618997, 'learning_rate': 0.0076740698114225415, 'optimizer': 'Adam'}. Best is trial 1 with value: 0.6206041437103634.\n",
                        "[I 2023-11-10 17:23:40,556] Trial 8 pruned. \n",
                        "[I 2023-11-10 17:23:42,267] Trial 9 pruned. \n",
                        "[I 2023-11-10 17:26:19,101] Trial 10 finished with value: 0.5583040855115368 and parameters: {'n_layers': 1, 'n_units_l0': 24, 'dropout_0': 0.11096075663979418, 'learning_rate': 0.019173106927368642, 'optimizer': 'SGD'}. Best is trial 10 with value: 0.5583040855115368.\n",
                        "[I 2023-11-10 17:28:57,311] Trial 11 finished with value: 0.555574799414192 and parameters: {'n_layers': 1, 'n_units_l0': 23, 'dropout_0': 0.10097925944413393, 'learning_rate': 0.020565440753247965, 'optimizer': 'SGD'}. Best is trial 11 with value: 0.555574799414192.\n",
                        "[I 2023-11-10 17:31:32,429] Trial 12 finished with value: 0.5512406425745713 and parameters: {'n_layers': 1, 'n_units_l0': 26, 'dropout_0': 0.10029270257710901, 'learning_rate': 0.021506142052567644, 'optimizer': 'SGD'}. Best is trial 12 with value: 0.5512406425745713.\n",
                        "[I 2023-11-10 17:34:08,494] Trial 13 finished with value: 0.5447614311604273 and parameters: {'n_layers': 1, 'n_units_l0': 32, 'dropout_0': 0.10477368940428276, 'learning_rate': 0.029695071892332656, 'optimizer': 'SGD'}. Best is trial 13 with value: 0.5447614311604273.\n",
                        "[I 2023-11-10 17:34:10,110] Trial 14 pruned. \n",
                        "[I 2023-11-10 17:34:11,733] Trial 15 pruned. \n",
                        "[I 2023-11-10 17:34:13,367] Trial 16 pruned. \n",
                        "[I 2023-11-10 17:34:14,965] Trial 17 pruned. \n",
                        "[I 2023-11-10 17:34:16,549] Trial 18 pruned. \n",
                        "[I 2023-11-10 17:34:18,314] Trial 19 pruned. \n",
                        "[I 2023-11-10 17:34:20,061] Trial 20 pruned. \n",
                        "[I 2023-11-10 17:37:02,450] Trial 21 finished with value: 0.5502867054513522 and parameters: {'n_layers': 1, 'n_units_l0': 27, 'dropout_0': 0.10930087081809302, 'learning_rate': 0.020570680996331622, 'optimizer': 'SGD'}. Best is trial 13 with value: 0.5447614311604273.\n",
                        "[I 2023-11-10 17:39:44,441] Trial 22 finished with value: 0.558867180978968 and parameters: {'n_layers': 1, 'n_units_l0': 29, 'dropout_0': 0.12342575626652297, 'learning_rate': 0.01668434411058478, 'optimizer': 'SGD'}. Best is trial 13 with value: 0.5447614311604273.\n",
                        "[I 2023-11-10 17:39:46,204] Trial 23 pruned. \n",
                        "[I 2023-11-10 17:42:32,280] Trial 24 finished with value: 0.5450598428717681 and parameters: {'n_layers': 1, 'n_units_l0': 37, 'dropout_0': 0.10061225092327072, 'learning_rate': 0.03883202753832276, 'optimizer': 'SGD'}. Best is trial 13 with value: 0.5447614311604273.\n",
                        "[I 2023-11-10 17:42:33,896] Trial 25 pruned. \n",
                        "[I 2023-11-10 17:42:35,605] Trial 26 pruned. \n",
                        "[I 2023-11-10 17:42:37,263] Trial 27 pruned. \n",
                        "[I 2023-11-10 17:42:38,876] Trial 28 pruned. \n",
                        "[I 2023-11-10 17:42:40,655] Trial 29 pruned. \n",
                        "[I 2023-11-10 17:42:42,612] Trial 30 pruned. \n",
                        "[I 2023-11-10 17:45:25,771] Trial 31 finished with value: 0.5480628149353322 and parameters: {'n_layers': 1, 'n_units_l0': 26, 'dropout_0': 0.1070776200039736, 'learning_rate': 0.022192836971480674, 'optimizer': 'SGD'}. Best is trial 13 with value: 0.5447614311604273.\n",
                        "[I 2023-11-10 17:48:09,219] Trial 32 finished with value: 0.547290383811508 and parameters: {'n_layers': 1, 'n_units_l0': 21, 'dropout_0': 0.1536349372452586, 'learning_rate': 0.02779880772004676, 'optimizer': 'SGD'}. Best is trial 13 with value: 0.5447614311604273.\n",
                        "[I 2023-11-10 17:48:10,832] Trial 33 pruned. \n",
                        "[I 2023-11-10 17:48:12,521] Trial 34 pruned. \n",
                        "[I 2023-11-10 17:48:14,288] Trial 35 pruned. \n",
                        "[I 2023-11-10 17:48:16,029] Trial 36 pruned. \n",
                        "[I 2023-11-10 17:48:17,540] Trial 37 pruned. \n",
                        "[I 2023-11-10 17:48:19,430] Trial 38 pruned. \n",
                        "[I 2023-11-10 17:48:21,090] Trial 39 pruned. \n",
                        "[I 2023-11-10 17:48:22,867] Trial 40 pruned. \n",
                        "[I 2023-11-10 17:48:24,457] Trial 41 pruned. \n",
                        "[I 2023-11-10 17:48:26,116] Trial 42 pruned. \n",
                        "[I 2023-11-10 17:48:27,858] Trial 43 pruned. \n",
                        "[I 2023-11-10 17:48:29,562] Trial 44 pruned. \n",
                        "[I 2023-11-10 17:48:37,885] Trial 45 pruned. \n",
                        "[I 2023-11-10 17:48:39,557] Trial 46 pruned. \n",
                        "[I 2023-11-10 17:48:48,155] Trial 47 pruned. \n",
                        "[I 2023-11-10 17:48:49,908] Trial 48 pruned. \n",
                        "[I 2023-11-10 17:48:51,606] Trial 49 pruned. \n"
                    ]
                },
                {
                    "name": "stdout",
                    "output_type": "stream",
                    "text": [
                        "Validation Accuracy: 75.30619018776498\n",
                        "Validation Loss: 0.5413799398002169\n",
                        "Training Accuracy: 77.46340636110894\n",
                        "Training Loss: 0.49060751598373237\n"
                    ]
                },
                {
                    "data": {
                        "text/plain": [
                            "(75.30619018776498, 0.5413799398002169, 77.46340636110894, 0.49060751598373237)"
                        ]
                    },
                    "execution_count": 28,
                    "metadata": {},
                    "output_type": "execute_result"
                }
            ],
            "source": [
                "# no accuracy function must be loss for regression\n",
                "if mlp_params.MODEL_TYPE == \"Regression\":\n",
                "    mlp_params.METRIC = \"loss\"\n",
                "    pass\n",
                "\n",
                "\n",
                "# wrap the objective function inside of a lambda function to pass args...\n",
                "objective_lambda_func = lambda trial: objective_model_optimizer(\n",
                "    train_loader,\n",
                "    valid_loader,\n",
                "    trial=trial,\n",
                "    params=params,\n",
                "    metric=mlp_params.METRIC,\n",
                "    return_info=False,\n",
                "    class_weights=class_weights,\n",
                ")\n",
                "\n",
                "\n",
                "# Study is the object for model optimization\n",
                "study = optuna.create_study(direction=f\"{mlp_params.DIRECTION}\")\n",
                "# Here I apply the optimize function of the study to the objective function\n",
                "# This optimizes each parameter specified to be optimized from the defined search space\n",
                "study.optimize(objective_lambda_func, n_trials=mlp_params.N_TRIALS)\n",
                "# Prints out the best trial's optimized parameters\n",
                "objective_model_optimizer(\n",
                "    train_loader,\n",
                "    valid_loader,\n",
                "    trial=study.best_trial,\n",
                "    params=params,\n",
                "    metric=mlp_params.METRIC,\n",
                "    return_info=True,\n",
                "    class_weights=class_weights,\n",
                ")"
            ]
        },
        {
            "cell_type": "code",
            "execution_count": 29,
            "id": "b2620589",
            "metadata": {
                "execution": {
                    "iopub.execute_input": "2023-10-18T18:17:37.298015Z",
                    "iopub.status.busy": "2023-10-18T18:17:37.297873Z",
                    "iopub.status.idle": "2023-10-18T18:17:37.750921Z",
                    "shell.execute_reply": "2023-10-18T18:17:37.750533Z"
                },
                "papermill": {
                    "duration": null,
                    "end_time": null,
                    "exception": null,
                    "start_time": null,
                    "status": "completed"
                },
                "tags": []
            },
            "outputs": [
                {
                    "data": {
                        "application/vnd.plotly.v1+json": {
                            "config": {
                                "plotlyServerURL": "https://plot.ly"
                            },
                            "data": [
                                {
                                    "mode": "markers",
                                    "name": "Objective Value",
                                    "type": "scatter",
                                    "x": [
                                        0,
                                        1,
                                        2,
                                        3,
                                        4,
                                        5,
                                        7,
                                        10,
                                        11,
                                        12,
                                        13,
                                        21,
                                        22,
                                        24,
                                        31,
                                        32
                                    ],
                                    "y": [
                                        0.9215212746319318,
                                        0.6206041437103634,
                                        0.9184991010030111,
                                        0.9489795944236573,
                                        0.7555602709736142,
                                        0.8829576696668352,
                                        0.7163784149289133,
                                        0.5583040855115368,
                                        0.555574799414192,
                                        0.5512406425745713,
                                        0.5447614311604273,
                                        0.5502867054513522,
                                        0.558867180978968,
                                        0.5450598428717681,
                                        0.5480628149353322,
                                        0.547290383811508
                                    ]
                                },
                                {
                                    "mode": "lines",
                                    "name": "Best Value",
                                    "type": "scatter",
                                    "x": [
                                        0,
                                        1,
                                        2,
                                        3,
                                        4,
                                        5,
                                        6,
                                        7,
                                        8,
                                        9,
                                        10,
                                        11,
                                        12,
                                        13,
                                        14,
                                        15,
                                        16,
                                        17,
                                        18,
                                        19,
                                        20,
                                        21,
                                        22,
                                        23,
                                        24,
                                        25,
                                        26,
                                        27,
                                        28,
                                        29,
                                        30,
                                        31,
                                        32,
                                        33,
                                        34,
                                        35,
                                        36,
                                        37,
                                        38,
                                        39,
                                        40,
                                        41,
                                        42,
                                        43,
                                        44,
                                        45,
                                        46,
                                        47,
                                        48,
                                        49
                                    ],
                                    "y": [
                                        0.9215212746319318,
                                        0.6206041437103634,
                                        0.6206041437103634,
                                        0.6206041437103634,
                                        0.6206041437103634,
                                        0.6206041437103634,
                                        0.6206041437103634,
                                        0.6206041437103634,
                                        0.6206041437103634,
                                        0.6206041437103634,
                                        0.5583040855115368,
                                        0.555574799414192,
                                        0.5512406425745713,
                                        0.5447614311604273,
                                        0.5447614311604273,
                                        0.5447614311604273,
                                        0.5447614311604273,
                                        0.5447614311604273,
                                        0.5447614311604273,
                                        0.5447614311604273,
                                        0.5447614311604273,
                                        0.5447614311604273,
                                        0.5447614311604273,
                                        0.5447614311604273,
                                        0.5447614311604273,
                                        0.5447614311604273,
                                        0.5447614311604273,
                                        0.5447614311604273,
                                        0.5447614311604273,
                                        0.5447614311604273,
                                        0.5447614311604273,
                                        0.5447614311604273,
                                        0.5447614311604273,
                                        0.5447614311604273,
                                        0.5447614311604273,
                                        0.5447614311604273,
                                        0.5447614311604273,
                                        0.5447614311604273,
                                        0.5447614311604273,
                                        0.5447614311604273,
                                        0.5447614311604273,
                                        0.5447614311604273,
                                        0.5447614311604273,
                                        0.5447614311604273,
                                        0.5447614311604273,
                                        0.5447614311604273,
                                        0.5447614311604273,
                                        0.5447614311604273,
                                        0.5447614311604273,
                                        0.5447614311604273
                                    ]
                                },
                                {
                                    "marker": {
                                        "color": "#cccccc"
                                    },
                                    "mode": "markers",
                                    "name": "Infeasible Trial",
                                    "showlegend": false,
                                    "type": "scatter",
                                    "x": [],
                                    "y": []
                                }
                            ],
                            "layout": {
                                "template": {
                                    "data": {
                                        "bar": [
                                            {
                                                "error_x": {
                                                    "color": "#2a3f5f"
                                                },
                                                "error_y": {
                                                    "color": "#2a3f5f"
                                                },
                                                "marker": {
                                                    "line": {
                                                        "color": "#E5ECF6",
                                                        "width": 0.5
                                                    },
                                                    "pattern": {
                                                        "fillmode": "overlay",
                                                        "size": 10,
                                                        "solidity": 0.2
                                                    }
                                                },
                                                "type": "bar"
                                            }
                                        ],
                                        "barpolar": [
                                            {
                                                "marker": {
                                                    "line": {
                                                        "color": "#E5ECF6",
                                                        "width": 0.5
                                                    },
                                                    "pattern": {
                                                        "fillmode": "overlay",
                                                        "size": 10,
                                                        "solidity": 0.2
                                                    }
                                                },
                                                "type": "barpolar"
                                            }
                                        ],
                                        "carpet": [
                                            {
                                                "aaxis": {
                                                    "endlinecolor": "#2a3f5f",
                                                    "gridcolor": "white",
                                                    "linecolor": "white",
                                                    "minorgridcolor": "white",
                                                    "startlinecolor": "#2a3f5f"
                                                },
                                                "baxis": {
                                                    "endlinecolor": "#2a3f5f",
                                                    "gridcolor": "white",
                                                    "linecolor": "white",
                                                    "minorgridcolor": "white",
                                                    "startlinecolor": "#2a3f5f"
                                                },
                                                "type": "carpet"
                                            }
                                        ],
                                        "choropleth": [
                                            {
                                                "colorbar": {
                                                    "outlinewidth": 0,
                                                    "ticks": ""
                                                },
                                                "type": "choropleth"
                                            }
                                        ],
                                        "contour": [
                                            {
                                                "colorbar": {
                                                    "outlinewidth": 0,
                                                    "ticks": ""
                                                },
                                                "colorscale": [
                                                    [
                                                        0,
                                                        "#0d0887"
                                                    ],
                                                    [
                                                        0.1111111111111111,
                                                        "#46039f"
                                                    ],
                                                    [
                                                        0.2222222222222222,
                                                        "#7201a8"
                                                    ],
                                                    [
                                                        0.3333333333333333,
                                                        "#9c179e"
                                                    ],
                                                    [
                                                        0.4444444444444444,
                                                        "#bd3786"
                                                    ],
                                                    [
                                                        0.5555555555555556,
                                                        "#d8576b"
                                                    ],
                                                    [
                                                        0.6666666666666666,
                                                        "#ed7953"
                                                    ],
                                                    [
                                                        0.7777777777777778,
                                                        "#fb9f3a"
                                                    ],
                                                    [
                                                        0.8888888888888888,
                                                        "#fdca26"
                                                    ],
                                                    [
                                                        1,
                                                        "#f0f921"
                                                    ]
                                                ],
                                                "type": "contour"
                                            }
                                        ],
                                        "contourcarpet": [
                                            {
                                                "colorbar": {
                                                    "outlinewidth": 0,
                                                    "ticks": ""
                                                },
                                                "type": "contourcarpet"
                                            }
                                        ],
                                        "heatmap": [
                                            {
                                                "colorbar": {
                                                    "outlinewidth": 0,
                                                    "ticks": ""
                                                },
                                                "colorscale": [
                                                    [
                                                        0,
                                                        "#0d0887"
                                                    ],
                                                    [
                                                        0.1111111111111111,
                                                        "#46039f"
                                                    ],
                                                    [
                                                        0.2222222222222222,
                                                        "#7201a8"
                                                    ],
                                                    [
                                                        0.3333333333333333,
                                                        "#9c179e"
                                                    ],
                                                    [
                                                        0.4444444444444444,
                                                        "#bd3786"
                                                    ],
                                                    [
                                                        0.5555555555555556,
                                                        "#d8576b"
                                                    ],
                                                    [
                                                        0.6666666666666666,
                                                        "#ed7953"
                                                    ],
                                                    [
                                                        0.7777777777777778,
                                                        "#fb9f3a"
                                                    ],
                                                    [
                                                        0.8888888888888888,
                                                        "#fdca26"
                                                    ],
                                                    [
                                                        1,
                                                        "#f0f921"
                                                    ]
                                                ],
                                                "type": "heatmap"
                                            }
                                        ],
                                        "heatmapgl": [
                                            {
                                                "colorbar": {
                                                    "outlinewidth": 0,
                                                    "ticks": ""
                                                },
                                                "colorscale": [
                                                    [
                                                        0,
                                                        "#0d0887"
                                                    ],
                                                    [
                                                        0.1111111111111111,
                                                        "#46039f"
                                                    ],
                                                    [
                                                        0.2222222222222222,
                                                        "#7201a8"
                                                    ],
                                                    [
                                                        0.3333333333333333,
                                                        "#9c179e"
                                                    ],
                                                    [
                                                        0.4444444444444444,
                                                        "#bd3786"
                                                    ],
                                                    [
                                                        0.5555555555555556,
                                                        "#d8576b"
                                                    ],
                                                    [
                                                        0.6666666666666666,
                                                        "#ed7953"
                                                    ],
                                                    [
                                                        0.7777777777777778,
                                                        "#fb9f3a"
                                                    ],
                                                    [
                                                        0.8888888888888888,
                                                        "#fdca26"
                                                    ],
                                                    [
                                                        1,
                                                        "#f0f921"
                                                    ]
                                                ],
                                                "type": "heatmapgl"
                                            }
                                        ],
                                        "histogram": [
                                            {
                                                "marker": {
                                                    "pattern": {
                                                        "fillmode": "overlay",
                                                        "size": 10,
                                                        "solidity": 0.2
                                                    }
                                                },
                                                "type": "histogram"
                                            }
                                        ],
                                        "histogram2d": [
                                            {
                                                "colorbar": {
                                                    "outlinewidth": 0,
                                                    "ticks": ""
                                                },
                                                "colorscale": [
                                                    [
                                                        0,
                                                        "#0d0887"
                                                    ],
                                                    [
                                                        0.1111111111111111,
                                                        "#46039f"
                                                    ],
                                                    [
                                                        0.2222222222222222,
                                                        "#7201a8"
                                                    ],
                                                    [
                                                        0.3333333333333333,
                                                        "#9c179e"
                                                    ],
                                                    [
                                                        0.4444444444444444,
                                                        "#bd3786"
                                                    ],
                                                    [
                                                        0.5555555555555556,
                                                        "#d8576b"
                                                    ],
                                                    [
                                                        0.6666666666666666,
                                                        "#ed7953"
                                                    ],
                                                    [
                                                        0.7777777777777778,
                                                        "#fb9f3a"
                                                    ],
                                                    [
                                                        0.8888888888888888,
                                                        "#fdca26"
                                                    ],
                                                    [
                                                        1,
                                                        "#f0f921"
                                                    ]
                                                ],
                                                "type": "histogram2d"
                                            }
                                        ],
                                        "histogram2dcontour": [
                                            {
                                                "colorbar": {
                                                    "outlinewidth": 0,
                                                    "ticks": ""
                                                },
                                                "colorscale": [
                                                    [
                                                        0,
                                                        "#0d0887"
                                                    ],
                                                    [
                                                        0.1111111111111111,
                                                        "#46039f"
                                                    ],
                                                    [
                                                        0.2222222222222222,
                                                        "#7201a8"
                                                    ],
                                                    [
                                                        0.3333333333333333,
                                                        "#9c179e"
                                                    ],
                                                    [
                                                        0.4444444444444444,
                                                        "#bd3786"
                                                    ],
                                                    [
                                                        0.5555555555555556,
                                                        "#d8576b"
                                                    ],
                                                    [
                                                        0.6666666666666666,
                                                        "#ed7953"
                                                    ],
                                                    [
                                                        0.7777777777777778,
                                                        "#fb9f3a"
                                                    ],
                                                    [
                                                        0.8888888888888888,
                                                        "#fdca26"
                                                    ],
                                                    [
                                                        1,
                                                        "#f0f921"
                                                    ]
                                                ],
                                                "type": "histogram2dcontour"
                                            }
                                        ],
                                        "mesh3d": [
                                            {
                                                "colorbar": {
                                                    "outlinewidth": 0,
                                                    "ticks": ""
                                                },
                                                "type": "mesh3d"
                                            }
                                        ],
                                        "parcoords": [
                                            {
                                                "line": {
                                                    "colorbar": {
                                                        "outlinewidth": 0,
                                                        "ticks": ""
                                                    }
                                                },
                                                "type": "parcoords"
                                            }
                                        ],
                                        "pie": [
                                            {
                                                "automargin": true,
                                                "type": "pie"
                                            }
                                        ],
                                        "scatter": [
                                            {
                                                "fillpattern": {
                                                    "fillmode": "overlay",
                                                    "size": 10,
                                                    "solidity": 0.2
                                                },
                                                "type": "scatter"
                                            }
                                        ],
                                        "scatter3d": [
                                            {
                                                "line": {
                                                    "colorbar": {
                                                        "outlinewidth": 0,
                                                        "ticks": ""
                                                    }
                                                },
                                                "marker": {
                                                    "colorbar": {
                                                        "outlinewidth": 0,
                                                        "ticks": ""
                                                    }
                                                },
                                                "type": "scatter3d"
                                            }
                                        ],
                                        "scattercarpet": [
                                            {
                                                "marker": {
                                                    "colorbar": {
                                                        "outlinewidth": 0,
                                                        "ticks": ""
                                                    }
                                                },
                                                "type": "scattercarpet"
                                            }
                                        ],
                                        "scattergeo": [
                                            {
                                                "marker": {
                                                    "colorbar": {
                                                        "outlinewidth": 0,
                                                        "ticks": ""
                                                    }
                                                },
                                                "type": "scattergeo"
                                            }
                                        ],
                                        "scattergl": [
                                            {
                                                "marker": {
                                                    "colorbar": {
                                                        "outlinewidth": 0,
                                                        "ticks": ""
                                                    }
                                                },
                                                "type": "scattergl"
                                            }
                                        ],
                                        "scattermapbox": [
                                            {
                                                "marker": {
                                                    "colorbar": {
                                                        "outlinewidth": 0,
                                                        "ticks": ""
                                                    }
                                                },
                                                "type": "scattermapbox"
                                            }
                                        ],
                                        "scatterpolar": [
                                            {
                                                "marker": {
                                                    "colorbar": {
                                                        "outlinewidth": 0,
                                                        "ticks": ""
                                                    }
                                                },
                                                "type": "scatterpolar"
                                            }
                                        ],
                                        "scatterpolargl": [
                                            {
                                                "marker": {
                                                    "colorbar": {
                                                        "outlinewidth": 0,
                                                        "ticks": ""
                                                    }
                                                },
                                                "type": "scatterpolargl"
                                            }
                                        ],
                                        "scatterternary": [
                                            {
                                                "marker": {
                                                    "colorbar": {
                                                        "outlinewidth": 0,
                                                        "ticks": ""
                                                    }
                                                },
                                                "type": "scatterternary"
                                            }
                                        ],
                                        "surface": [
                                            {
                                                "colorbar": {
                                                    "outlinewidth": 0,
                                                    "ticks": ""
                                                },
                                                "colorscale": [
                                                    [
                                                        0,
                                                        "#0d0887"
                                                    ],
                                                    [
                                                        0.1111111111111111,
                                                        "#46039f"
                                                    ],
                                                    [
                                                        0.2222222222222222,
                                                        "#7201a8"
                                                    ],
                                                    [
                                                        0.3333333333333333,
                                                        "#9c179e"
                                                    ],
                                                    [
                                                        0.4444444444444444,
                                                        "#bd3786"
                                                    ],
                                                    [
                                                        0.5555555555555556,
                                                        "#d8576b"
                                                    ],
                                                    [
                                                        0.6666666666666666,
                                                        "#ed7953"
                                                    ],
                                                    [
                                                        0.7777777777777778,
                                                        "#fb9f3a"
                                                    ],
                                                    [
                                                        0.8888888888888888,
                                                        "#fdca26"
                                                    ],
                                                    [
                                                        1,
                                                        "#f0f921"
                                                    ]
                                                ],
                                                "type": "surface"
                                            }
                                        ],
                                        "table": [
                                            {
                                                "cells": {
                                                    "fill": {
                                                        "color": "#EBF0F8"
                                                    },
                                                    "line": {
                                                        "color": "white"
                                                    }
                                                },
                                                "header": {
                                                    "fill": {
                                                        "color": "#C8D4E3"
                                                    },
                                                    "line": {
                                                        "color": "white"
                                                    }
                                                },
                                                "type": "table"
                                            }
                                        ]
                                    },
                                    "layout": {
                                        "annotationdefaults": {
                                            "arrowcolor": "#2a3f5f",
                                            "arrowhead": 0,
                                            "arrowwidth": 1
                                        },
                                        "autotypenumbers": "strict",
                                        "coloraxis": {
                                            "colorbar": {
                                                "outlinewidth": 0,
                                                "ticks": ""
                                            }
                                        },
                                        "colorscale": {
                                            "diverging": [
                                                [
                                                    0,
                                                    "#8e0152"
                                                ],
                                                [
                                                    0.1,
                                                    "#c51b7d"
                                                ],
                                                [
                                                    0.2,
                                                    "#de77ae"
                                                ],
                                                [
                                                    0.3,
                                                    "#f1b6da"
                                                ],
                                                [
                                                    0.4,
                                                    "#fde0ef"
                                                ],
                                                [
                                                    0.5,
                                                    "#f7f7f7"
                                                ],
                                                [
                                                    0.6,
                                                    "#e6f5d0"
                                                ],
                                                [
                                                    0.7,
                                                    "#b8e186"
                                                ],
                                                [
                                                    0.8,
                                                    "#7fbc41"
                                                ],
                                                [
                                                    0.9,
                                                    "#4d9221"
                                                ],
                                                [
                                                    1,
                                                    "#276419"
                                                ]
                                            ],
                                            "sequential": [
                                                [
                                                    0,
                                                    "#0d0887"
                                                ],
                                                [
                                                    0.1111111111111111,
                                                    "#46039f"
                                                ],
                                                [
                                                    0.2222222222222222,
                                                    "#7201a8"
                                                ],
                                                [
                                                    0.3333333333333333,
                                                    "#9c179e"
                                                ],
                                                [
                                                    0.4444444444444444,
                                                    "#bd3786"
                                                ],
                                                [
                                                    0.5555555555555556,
                                                    "#d8576b"
                                                ],
                                                [
                                                    0.6666666666666666,
                                                    "#ed7953"
                                                ],
                                                [
                                                    0.7777777777777778,
                                                    "#fb9f3a"
                                                ],
                                                [
                                                    0.8888888888888888,
                                                    "#fdca26"
                                                ],
                                                [
                                                    1,
                                                    "#f0f921"
                                                ]
                                            ],
                                            "sequentialminus": [
                                                [
                                                    0,
                                                    "#0d0887"
                                                ],
                                                [
                                                    0.1111111111111111,
                                                    "#46039f"
                                                ],
                                                [
                                                    0.2222222222222222,
                                                    "#7201a8"
                                                ],
                                                [
                                                    0.3333333333333333,
                                                    "#9c179e"
                                                ],
                                                [
                                                    0.4444444444444444,
                                                    "#bd3786"
                                                ],
                                                [
                                                    0.5555555555555556,
                                                    "#d8576b"
                                                ],
                                                [
                                                    0.6666666666666666,
                                                    "#ed7953"
                                                ],
                                                [
                                                    0.7777777777777778,
                                                    "#fb9f3a"
                                                ],
                                                [
                                                    0.8888888888888888,
                                                    "#fdca26"
                                                ],
                                                [
                                                    1,
                                                    "#f0f921"
                                                ]
                                            ]
                                        },
                                        "colorway": [
                                            "#636efa",
                                            "#EF553B",
                                            "#00cc96",
                                            "#ab63fa",
                                            "#FFA15A",
                                            "#19d3f3",
                                            "#FF6692",
                                            "#B6E880",
                                            "#FF97FF",
                                            "#FECB52"
                                        ],
                                        "font": {
                                            "color": "#2a3f5f"
                                        },
                                        "geo": {
                                            "bgcolor": "white",
                                            "lakecolor": "white",
                                            "landcolor": "#E5ECF6",
                                            "showlakes": true,
                                            "showland": true,
                                            "subunitcolor": "white"
                                        },
                                        "hoverlabel": {
                                            "align": "left"
                                        },
                                        "hovermode": "closest",
                                        "mapbox": {
                                            "style": "light"
                                        },
                                        "paper_bgcolor": "white",
                                        "plot_bgcolor": "#E5ECF6",
                                        "polar": {
                                            "angularaxis": {
                                                "gridcolor": "white",
                                                "linecolor": "white",
                                                "ticks": ""
                                            },
                                            "bgcolor": "#E5ECF6",
                                            "radialaxis": {
                                                "gridcolor": "white",
                                                "linecolor": "white",
                                                "ticks": ""
                                            }
                                        },
                                        "scene": {
                                            "xaxis": {
                                                "backgroundcolor": "#E5ECF6",
                                                "gridcolor": "white",
                                                "gridwidth": 2,
                                                "linecolor": "white",
                                                "showbackground": true,
                                                "ticks": "",
                                                "zerolinecolor": "white"
                                            },
                                            "yaxis": {
                                                "backgroundcolor": "#E5ECF6",
                                                "gridcolor": "white",
                                                "gridwidth": 2,
                                                "linecolor": "white",
                                                "showbackground": true,
                                                "ticks": "",
                                                "zerolinecolor": "white"
                                            },
                                            "zaxis": {
                                                "backgroundcolor": "#E5ECF6",
                                                "gridcolor": "white",
                                                "gridwidth": 2,
                                                "linecolor": "white",
                                                "showbackground": true,
                                                "ticks": "",
                                                "zerolinecolor": "white"
                                            }
                                        },
                                        "shapedefaults": {
                                            "line": {
                                                "color": "#2a3f5f"
                                            }
                                        },
                                        "ternary": {
                                            "aaxis": {
                                                "gridcolor": "white",
                                                "linecolor": "white",
                                                "ticks": ""
                                            },
                                            "baxis": {
                                                "gridcolor": "white",
                                                "linecolor": "white",
                                                "ticks": ""
                                            },
                                            "bgcolor": "#E5ECF6",
                                            "caxis": {
                                                "gridcolor": "white",
                                                "linecolor": "white",
                                                "ticks": ""
                                            }
                                        },
                                        "title": {
                                            "x": 0.05
                                        },
                                        "xaxis": {
                                            "automargin": true,
                                            "gridcolor": "white",
                                            "linecolor": "white",
                                            "ticks": "",
                                            "title": {
                                                "standoff": 15
                                            },
                                            "zerolinecolor": "white",
                                            "zerolinewidth": 2
                                        },
                                        "yaxis": {
                                            "automargin": true,
                                            "gridcolor": "white",
                                            "linecolor": "white",
                                            "ticks": "",
                                            "title": {
                                                "standoff": 15
                                            },
                                            "zerolinecolor": "white",
                                            "zerolinewidth": 2
                                        }
                                    }
                                },
                                "title": {
                                    "text": "Optimization History Plot"
                                },
                                "xaxis": {
                                    "title": {
                                        "text": "Trial"
                                    }
                                },
                                "yaxis": {
                                    "title": {
                                        "text": "Objective Value"
                                    }
                                }
                            }
                        }
                    },
                    "metadata": {},
                    "output_type": "display_data"
                }
            ],
            "source": [
                "# create graph directory for this model\n",
                "graph_path = pathlib.Path(\n",
                "    f\"../../figures/{mlp_params.MODEL_TYPE}/{mlp_params.MODEL_NAME}/{mlp_params.CELL_TYPE}/hyperparameter_optimization\"\n",
                ")\n",
                "\n",
                "pathlib.Path(graph_path).mkdir(parents=True, exist_ok=True)\n",
                "fig = optuna.visualization.plot_optimization_history(study)\n",
                "\n",
                "\n",
                "graph_path = f\"{graph_path}/plot_optimization_history_graph\"\n",
                "\n",
                "fig.write_image(pathlib.Path(f\"{graph_path}.png\"))\n",
                "fig.show()"
            ]
        },
        {
            "cell_type": "code",
            "execution_count": 30,
            "id": "92103de1",
            "metadata": {
                "execution": {
                    "iopub.execute_input": "2023-10-18T18:17:37.839841Z",
                    "iopub.status.busy": "2023-10-18T18:17:37.839637Z",
                    "iopub.status.idle": "2023-10-18T18:17:37.910906Z",
                    "shell.execute_reply": "2023-10-18T18:17:37.910591Z"
                },
                "papermill": {
                    "duration": null,
                    "end_time": null,
                    "exception": null,
                    "start_time": null,
                    "status": "completed"
                },
                "tags": []
            },
            "outputs": [
                {
                    "data": {
                        "application/vnd.plotly.v1+json": {
                            "config": {
                                "plotlyServerURL": "https://plot.ly"
                            },
                            "data": [
                                {
                                    "marker": {
                                        "maxdisplayed": 10
                                    },
                                    "mode": "lines+markers",
                                    "name": "Trial0",
                                    "type": "scatter",
                                    "x": [
                                        0,
                                        1,
                                        2,
                                        3,
                                        4,
                                        5,
                                        6,
                                        7,
                                        8,
                                        9,
                                        10,
                                        11,
                                        12,
                                        13,
                                        14,
                                        15,
                                        16,
                                        17,
                                        18,
                                        19,
                                        20,
                                        21,
                                        22,
                                        23,
                                        24,
                                        25,
                                        26,
                                        27,
                                        28,
                                        29,
                                        30,
                                        31,
                                        32,
                                        33,
                                        34,
                                        35,
                                        36,
                                        37,
                                        38,
                                        39,
                                        40,
                                        41,
                                        42,
                                        43,
                                        44,
                                        45,
                                        46,
                                        47,
                                        48,
                                        49,
                                        50,
                                        51,
                                        52,
                                        53,
                                        54,
                                        55,
                                        56,
                                        57,
                                        58,
                                        59,
                                        60,
                                        61,
                                        62,
                                        63,
                                        64,
                                        65,
                                        66,
                                        67,
                                        68,
                                        69,
                                        70,
                                        71,
                                        72,
                                        73,
                                        74,
                                        75,
                                        76,
                                        77,
                                        78,
                                        79,
                                        80,
                                        81,
                                        82,
                                        83,
                                        84,
                                        85,
                                        86,
                                        87,
                                        88,
                                        89,
                                        90,
                                        91,
                                        92,
                                        93,
                                        94,
                                        95,
                                        96,
                                        97,
                                        98,
                                        99
                                    ],
                                    "y": [
                                        0.922338707106454,
                                        0.9218882889974684,
                                        0.921727580683572,
                                        0.9216608444140071,
                                        0.9216262499491373,
                                        0.9216054938142261,
                                        0.9215916157985219,
                                        0.9215816812855857,
                                        0.9215741606931839,
                                        0.9215682635704677,
                                        0.9215634849680452,
                                        0.9215595315373134,
                                        0.9215562001907782,
                                        0.9215533522521557,
                                        0.9215508872554417,
                                        0.9215487226666439,
                                        0.92154681415451,
                                        0.9215451225086494,
                                        0.9215436140845592,
                                        0.9215422299646194,
                                        0.9215409821934168,
                                        0.9215398585641537,
                                        0.921538829741764,
                                        0.9215378800318356,
                                        0.9215370155516125,
                                        0.9215362141857217,
                                        0.9215354577258781,
                                        0.9215347702000417,
                                        0.9215341276918921,
                                        0.9215335264092399,
                                        0.9215329634612239,
                                        0.9215324348991827,
                                        0.9215319339417105,
                                        0.9215314685046173,
                                        0.9215310299883084,
                                        0.9215306091718573,
                                        0.9215302104118402,
                                        0.9215298319296132,
                                        0.9215294722745125,
                                        0.921529129608756,
                                        0.9215288035891751,
                                        0.9215284922833886,
                                        0.9215282046649675,
                                        0.921527930120111,
                                        0.921527667777248,
                                        0.9215274153288846,
                                        0.9215271753743064,
                                        0.9215269433482298,
                                        0.9215267212270415,
                                        0.9215265067418416,
                                        0.9215263006399993,
                                        0.9215261023832765,
                                        0.9215259118489286,
                                        0.921525728213724,
                                        0.9215255512819663,
                                        0.9215253802383838,
                                        0.9215252156444859,
                                        0.9215250562858112,
                                        0.9215249023050719,
                                        0.9215247534806766,
                                        0.9215246095125048,
                                        0.9215244706233708,
                                        0.9215243357154157,
                                        0.9215242071742458,
                                        0.9215240808851989,
                                        0.9215239584230928,
                                        0.9215238409086415,
                                        0.9215237268087575,
                                        0.9215236160161165,
                                        0.9215235068279057,
                                        0.9215234022944823,
                                        0.9215233006647655,
                                        0.9215232021304727,
                                        0.9215231059524237,
                                        0.9215230123012785,
                                        0.9215229214694268,
                                        0.921522832646662,
                                        0.9215227446822458,
                                        0.9215226589627408,
                                        0.9215225756877945,
                                        0.9215224955202482,
                                        0.9215224176195304,
                                        0.9215223402622715,
                                        0.9215222659463788,
                                        0.9215221931954395,
                                        0.9215221221363825,
                                        0.9215220528903009,
                                        0.9215219840729909,
                                        0.9215219177588735,
                                        0.9215218525714977,
                                        0.9215217883489571,
                                        0.9215217264480968,
                                        0.9215216659089573,
                                        0.9215216064163256,
                                        0.9215215482658016,
                                        0.9215214912528321,
                                        0.9215214354885405,
                                        0.9215213808622956,
                                        0.9215213272105967,
                                        0.9215212746319318
                                    ]
                                },
                                {
                                    "marker": {
                                        "maxdisplayed": 10
                                    },
                                    "mode": "lines+markers",
                                    "name": "Trial1",
                                    "type": "scatter",
                                    "x": [
                                        0,
                                        1,
                                        2,
                                        3,
                                        4,
                                        5,
                                        6,
                                        7,
                                        8,
                                        9,
                                        10,
                                        11,
                                        12,
                                        13,
                                        14,
                                        15,
                                        16,
                                        17,
                                        18,
                                        19,
                                        20,
                                        21,
                                        22,
                                        23,
                                        24,
                                        25,
                                        26,
                                        27,
                                        28,
                                        29,
                                        30,
                                        31,
                                        32,
                                        33,
                                        34,
                                        35,
                                        36,
                                        37,
                                        38,
                                        39,
                                        40,
                                        41,
                                        42,
                                        43,
                                        44,
                                        45,
                                        46,
                                        47,
                                        48,
                                        49,
                                        50,
                                        51,
                                        52,
                                        53,
                                        54,
                                        55,
                                        56,
                                        57,
                                        58,
                                        59,
                                        60,
                                        61,
                                        62,
                                        63,
                                        64,
                                        65,
                                        66,
                                        67,
                                        68,
                                        69,
                                        70,
                                        71,
                                        72,
                                        73,
                                        74,
                                        75,
                                        76,
                                        77,
                                        78,
                                        79,
                                        80,
                                        81,
                                        82,
                                        83,
                                        84,
                                        85,
                                        86,
                                        87,
                                        88,
                                        89,
                                        90,
                                        91,
                                        92,
                                        93,
                                        94,
                                        95,
                                        96,
                                        97,
                                        98,
                                        99
                                    ],
                                    "y": [
                                        0.7363791323843456,
                                        0.7218624197301411,
                                        0.7066737422867426,
                                        0.6951157383265949,
                                        0.6938821100053333,
                                        0.6896298981848217,
                                        0.6830736343957939,
                                        0.6794705147899331,
                                        0.6721821403692638,
                                        0.6691861399582454,
                                        0.6672535151630252,
                                        0.6641210781203376,
                                        0.6603837863647894,
                                        0.6597875348564719,
                                        0.6579135451051924,
                                        0.656426564125078,
                                        0.6547944745262797,
                                        0.651814185516544,
                                        0.651276922016813,
                                        0.6494312287086531,
                                        0.6486729479430754,
                                        0.6461903198714896,
                                        0.6458864983317767,
                                        0.6462962013624963,
                                        0.6454141128063202,
                                        0.6451728034477967,
                                        0.645505368814687,
                                        0.6441995933854662,
                                        0.642683244935789,
                                        0.6416934959472173,
                                        0.64098366678402,
                                        0.640193896944679,
                                        0.6394860851988304,
                                        0.6407249897134071,
                                        0.6398249458699,
                                        0.6388259998783864,
                                        0.6385696579820862,
                                        0.6378249670180463,
                                        0.6374130990624574,
                                        0.6362055157621702,
                                        0.635445213172494,
                                        0.6345212334881024,
                                        0.6344249504613191,
                                        0.633620469246334,
                                        0.6327780763938946,
                                        0.6323440050239644,
                                        0.6327241034130922,
                                        0.6326518197736097,
                                        0.6324835270498422,
                                        0.6316174491246541,
                                        0.6311154073916453,
                                        0.6311942691003883,
                                        0.6313723171496327,
                                        0.6306818417245538,
                                        0.6300840199767769,
                                        0.6299766606720938,
                                        0.6293668179035984,
                                        0.6290777452131014,
                                        0.6291545750250059,
                                        0.6292634129997284,
                                        0.6292978464673032,
                                        0.6292526699064698,
                                        0.6294701964406471,
                                        0.629290865445953,
                                        0.6288934553935851,
                                        0.6286075144232094,
                                        0.6285482126088877,
                                        0.6279326173521222,
                                        0.6278784019606454,
                                        0.6274956606886013,
                                        0.6272511431668765,
                                        0.626713314916564,
                                        0.6261895331617904,
                                        0.6259537198061802,
                                        0.6252745838581569,
                                        0.6247024423907275,
                                        0.6250425858046438,
                                        0.6247931599471449,
                                        0.6250979168505608,
                                        0.6248315035232477,
                                        0.6245048581712882,
                                        0.6241519955980931,
                                        0.6238614727523364,
                                        0.6236960564712548,
                                        0.6234141494379658,
                                        0.6231640841840774,
                                        0.6230531697822649,
                                        0.6225047893015853,
                                        0.6223270332928071,
                                        0.6223670505184346,
                                        0.6221272129310107,
                                        0.6219104656151363,
                                        0.6215688890972567,
                                        0.6218614864041379,
                                        0.6217588816220898,
                                        0.6213962914096931,
                                        0.6210382167006686,
                                        0.6211886701651055,
                                        0.6207424158829803,
                                        0.6206041437103634
                                    ]
                                },
                                {
                                    "marker": {
                                        "maxdisplayed": 10
                                    },
                                    "mode": "lines+markers",
                                    "name": "Trial2",
                                    "type": "scatter",
                                    "x": [
                                        0,
                                        1,
                                        2,
                                        3,
                                        4,
                                        5,
                                        6,
                                        7,
                                        8,
                                        9,
                                        10,
                                        11,
                                        12,
                                        13,
                                        14,
                                        15,
                                        16,
                                        17,
                                        18,
                                        19,
                                        20,
                                        21,
                                        22,
                                        23,
                                        24,
                                        25,
                                        26,
                                        27,
                                        28,
                                        29,
                                        30,
                                        31,
                                        32,
                                        33,
                                        34,
                                        35,
                                        36,
                                        37,
                                        38,
                                        39,
                                        40,
                                        41,
                                        42,
                                        43,
                                        44,
                                        45,
                                        46,
                                        47,
                                        48,
                                        49,
                                        50,
                                        51,
                                        52,
                                        53,
                                        54,
                                        55,
                                        56,
                                        57,
                                        58,
                                        59,
                                        60,
                                        61,
                                        62,
                                        63,
                                        64,
                                        65,
                                        66,
                                        67,
                                        68,
                                        69,
                                        70,
                                        71,
                                        72,
                                        73,
                                        74,
                                        75,
                                        76,
                                        77,
                                        78,
                                        79,
                                        80,
                                        81,
                                        82,
                                        83,
                                        84,
                                        85,
                                        86,
                                        87,
                                        88,
                                        89,
                                        90,
                                        91,
                                        92,
                                        93,
                                        94,
                                        95,
                                        96,
                                        97,
                                        98,
                                        99
                                    ],
                                    "y": [
                                        0.8530857577210381,
                                        0.8479937598818825,
                                        0.8482402142078159,
                                        0.8587044065906889,
                                        0.8661360769044787,
                                        0.8733280355495121,
                                        0.8800392519860042,
                                        0.8850822814163708,
                                        0.8888465818904696,
                                        0.8918407126551584,
                                        0.8943493678456261,
                                        0.8961113029056126,
                                        0.8981383647019174,
                                        0.8998306076340125,
                                        0.9013252454144616,
                                        0.9025992320052215,
                                        0.903710550871216,
                                        0.9047021400676203,
                                        0.9055890419280022,
                                        0.9063870265370324,
                                        0.9071088038604548,
                                        0.9077648212770364,
                                        0.9083636718383736,
                                        0.9089125346924577,
                                        0.9094174124513352,
                                        0.9098833935819701,
                                        0.9103148027702613,
                                        0.9107153789222645,
                                        0.9110882873409878,
                                        0.9114363035039296,
                                        0.9117618591371586,
                                        0.9120670428854369,
                                        0.9123537163713795,
                                        0.912623526001511,
                                        0.9128779047605944,
                                        0.9131181474637103,
                                        0.9133454020035622,
                                        0.9135606919314929,
                                        0.9137649421872385,
                                        0.9139589673706464,
                                        0.9141435392642271,
                                        0.9143193086393837,
                                        0.9144869043449495,
                                        0.9146468829669995,
                                        0.9147997439222992,
                                        0.9149459664619242,
                                        0.9150859640180884,
                                        0.9152201326002204,
                                        0.9153488149506241,
                                        0.915472352987244,
                                        0.9155910474245621,
                                        0.9157051805393164,
                                        0.9158150051910386,
                                        0.9159207543525746,
                                        0.9160226633280386,
                                        0.9161209330773679,
                                        0.9162157520265907,
                                        0.9163073022132633,
                                        0.916395748161904,
                                        0.9164812468820148,
                                        0.9165639421094869,
                                        0.9166439733426509,
                                        0.9167214630232197,
                                        0.9167965312621423,
                                        0.9168692898619306,
                                        0.9169398436556646,
                                        0.9170082913660037,
                                        0.9170747273275497,
                                        0.9171392375884835,
                                        0.9172019045774626,
                                        0.9172628063391229,
                                        0.9173220163851821,
                                        0.917379604238198,
                                        0.9174356356243983,
                                        0.917490172102338,
                                        0.9175432736338829,
                                        0.9175949959048684,
                                        0.9176453917454452,
                                        0.9176945119575252,
                                        0.9177424041643029,
                                        0.9177891138474567,
                                        0.9178346842700457,
                                        0.9178791566101627,
                                        0.9179225700850389,
                                        0.9179649620663884,
                                        0.918006368171205,
                                        0.9180468225257279,
                                        0.918086357366342,
                                        0.9181250037835714,
                                        0.9181627913915291,
                                        0.9181997483154669,
                                        0.918235902105676,
                                        0.9182712782882021,
                                        0.918305901801091,
                                        0.9183397963979191,
                                        0.9183729848573133,
                                        0.9184054890185757,
                                        0.9184373298296081,
                                        0.918468527391933,
                                        0.9184991010030111
                                    ]
                                },
                                {
                                    "marker": {
                                        "maxdisplayed": 10
                                    },
                                    "mode": "lines+markers",
                                    "name": "Trial3",
                                    "type": "scatter",
                                    "x": [
                                        0,
                                        1,
                                        2,
                                        3,
                                        4,
                                        5,
                                        6,
                                        7,
                                        8,
                                        9,
                                        10,
                                        11,
                                        12,
                                        13,
                                        14,
                                        15,
                                        16,
                                        17,
                                        18,
                                        19,
                                        20,
                                        21,
                                        22,
                                        23,
                                        24,
                                        25,
                                        26,
                                        27,
                                        28,
                                        29,
                                        30,
                                        31,
                                        32,
                                        33,
                                        34,
                                        35,
                                        36,
                                        37,
                                        38,
                                        39,
                                        40,
                                        41,
                                        42,
                                        43,
                                        44,
                                        45,
                                        46,
                                        47,
                                        48,
                                        49,
                                        50,
                                        51,
                                        52,
                                        53,
                                        54,
                                        55,
                                        56,
                                        57,
                                        58,
                                        59,
                                        60,
                                        61,
                                        62,
                                        63,
                                        64,
                                        65,
                                        66,
                                        67,
                                        68,
                                        69,
                                        70,
                                        71,
                                        72,
                                        73,
                                        74,
                                        75,
                                        76,
                                        77,
                                        78,
                                        79,
                                        80,
                                        81,
                                        82,
                                        83,
                                        84,
                                        85,
                                        86,
                                        87,
                                        88,
                                        89,
                                        90,
                                        91,
                                        92,
                                        93,
                                        94,
                                        95,
                                        96,
                                        97,
                                        98,
                                        99
                                    ],
                                    "y": [
                                        0.9355957664194561,
                                        0.941521289802733,
                                        0.9440893833599393,
                                        0.9447082305947939,
                                        0.9457276716118767,
                                        0.9464080196524423,
                                        0.946874534799939,
                                        0.9472185261547565,
                                        0.9474933361880993,
                                        0.9477098680677868,
                                        0.9478875697949232,
                                        0.9480361038493732,
                                        0.9481601208557576,
                                        0.9465808190253316,
                                        0.9460747519182781,
                                        0.9462560055156549,
                                        0.9458531921818143,
                                        0.9460302131674277,
                                        0.9462204556865501,
                                        0.9463923093818483,
                                        0.9465477762579108,
                                        0.9466891032663777,
                                        0.9468181351697224,
                                        0.9469364126405072,
                                        0.9470452296166192,
                                        0.9471456760561072,
                                        0.9472386825967717,
                                        0.9473250452555765,
                                        0.9474054518689465,
                                        0.947479958808611,
                                        0.9475646715742833,
                                        0.9475433046353006,
                                        0.9476049134741614,
                                        0.9476651816057559,
                                        0.9477220898988297,
                                        0.9477758859358139,
                                        0.9478267224138769,
                                        0.9478748128527686,
                                        0.9479205047618484,
                                        0.9479639134591533,
                                        0.9480052042782791,
                                        0.9480445292396069,
                                        0.9480818851973659,
                                        0.9481176290161165,
                                        0.9481518926128507,
                                        0.948184607438666,
                                        0.9482159317747558,
                                        0.9482459506345174,
                                        0.9482747433658245,
                                        0.948302385551589,
                                        0.9483289425891767,
                                        0.9483544782022417,
                                        0.9483790502072665,
                                        0.9484027121380313,
                                        0.94842551363495,
                                        0.9484475007926932,
                                        0.9484687164712172,
                                        0.9484892005746196,
                                        0.9485089903016356,
                                        0.9485281203710844,
                                        0.9485466232251413,
                                        0.9485645292129383,
                                        0.9485818667566783,
                                        0.9485986625021768,
                                        0.9486149414555058,
                                        0.9486307271072187,
                                        0.9486460415454477,
                                        0.9486609055590229,
                                        0.948675338731625,
                                        0.948689359527867,
                                        0.9487029853721023,
                                        0.9487162327206641,
                                        0.9487291171281697,
                                        0.9487416533084453,
                                        0.9487538551905802,
                                        0.9487657359705537,
                                        0.9487773081588395,
                                        0.9487885836243489,
                                        0.9487995736350352,
                                        0.9488102888954536,
                                        0.9488207395815415,
                                        0.9488309353728466,
                                        0.9488408854824336,
                                        0.9488505991914916,
                                        0.9488600843426894,
                                        0.9488693489089757,
                                        0.9488784004967267,
                                        0.9488872463665742,
                                        0.9488958934528295,
                                        0.9489043483816126,
                                        0.9489126170199308,
                                        0.948920705905242,
                                        0.9489286208360305,
                                        0.9489363673640362,
                                        0.948943951255397,
                                        0.9489513767055339,
                                        0.9489586490536064,
                                        0.948965772986412,
                                        0.9489727534314312,
                                        0.9489795944236573
                                    ]
                                },
                                {
                                    "marker": {
                                        "maxdisplayed": 10
                                    },
                                    "mode": "lines+markers",
                                    "name": "Trial4",
                                    "type": "scatter",
                                    "x": [
                                        0,
                                        1,
                                        2,
                                        3,
                                        4,
                                        5,
                                        6,
                                        7,
                                        8,
                                        9,
                                        10,
                                        11,
                                        12,
                                        13,
                                        14,
                                        15,
                                        16,
                                        17,
                                        18,
                                        19,
                                        20,
                                        21,
                                        22,
                                        23,
                                        24,
                                        25,
                                        26,
                                        27,
                                        28,
                                        29,
                                        30,
                                        31,
                                        32,
                                        33,
                                        34,
                                        35,
                                        36,
                                        37,
                                        38,
                                        39,
                                        40,
                                        41,
                                        42,
                                        43,
                                        44,
                                        45,
                                        46,
                                        47,
                                        48,
                                        49,
                                        50,
                                        51,
                                        52,
                                        53,
                                        54,
                                        55,
                                        56,
                                        57,
                                        58,
                                        59,
                                        60,
                                        61,
                                        62,
                                        63,
                                        64,
                                        65,
                                        66,
                                        67,
                                        68,
                                        69,
                                        70,
                                        71,
                                        72,
                                        73,
                                        74,
                                        75,
                                        76,
                                        77,
                                        78,
                                        79,
                                        80,
                                        81,
                                        82,
                                        83,
                                        84,
                                        85,
                                        86,
                                        87,
                                        88,
                                        89,
                                        90,
                                        91,
                                        92,
                                        93,
                                        94,
                                        95,
                                        96,
                                        97,
                                        98,
                                        99
                                    ],
                                    "y": [
                                        1.0495704838207789,
                                        0.9746711225736708,
                                        0.9418861743003603,
                                        0.9207797242062432,
                                        0.9047287029879433,
                                        0.8914614665129829,
                                        0.8805526176682946,
                                        0.8706266711510363,
                                        0.8618387870056919,
                                        0.8542784326133275,
                                        0.8480326297221246,
                                        0.8421153006336045,
                                        0.8369639226586827,
                                        0.8320986315303919,
                                        0.8278335027278415,
                                        0.8237384977262644,
                                        0.8200852161362057,
                                        0.8167570643324069,
                                        0.8137715075697217,
                                        0.8110582650417373,
                                        0.8084700786743033,
                                        0.8060452988395442,
                                        0.8039951593485924,
                                        0.8019430027712904,
                                        0.8000555582273573,
                                        0.7983391282759306,
                                        0.7968386877361007,
                                        0.7952646258331478,
                                        0.7938058304864979,
                                        0.7924598275669035,
                                        0.7911911945555432,
                                        0.7899087058557641,
                                        0.7887056428202647,
                                        0.7875655278855679,
                                        0.7864879159700302,
                                        0.7853934011525577,
                                        0.7843997794151919,
                                        0.7834072419276511,
                                        0.7825415100588465,
                                        0.7816016917072591,
                                        0.7807479213823701,
                                        0.779905019839064,
                                        0.7790802158456572,
                                        0.7783242449551434,
                                        0.7775798255488987,
                                        0.7770711848701256,
                                        0.7765047226210617,
                                        0.7758944062368265,
                                        0.7752910904564595,
                                        0.7747734125171389,
                                        0.7742105443604521,
                                        0.7736828739826496,
                                        0.7731302958667975,
                                        0.7726288638890736,
                                        0.7721402221427851,
                                        0.7716461801964815,
                                        0.7711840478599121,
                                        0.770776395433642,
                                        0.7703680925979259,
                                        0.7699459884138334,
                                        0.7694924458872984,
                                        0.7690411610171176,
                                        0.7685953327767884,
                                        0.7681416166458457,
                                        0.7677756616484115,
                                        0.7673869512082867,
                                        0.7670083210751278,
                                        0.7666397401932576,
                                        0.7662926165501442,
                                        0.7658052388908102,
                                        0.7654078236408158,
                                        0.7650827255553354,
                                        0.7647022565478059,
                                        0.7643317346061979,
                                        0.7639115658260527,
                                        0.7635370863970359,
                                        0.7631647293775554,
                                        0.7627815922064949,
                                        0.7624682058872696,
                                        0.7621647501985231,
                                        0.7617634092268699,
                                        0.7614124221391932,
                                        0.7610803741322668,
                                        0.7607684599366588,
                                        0.7604327929120103,
                                        0.7600892016195907,
                                        0.7597649706701926,
                                        0.7594575926951773,
                                        0.759116931370454,
                                        0.7587178850457781,
                                        0.7583542422809132,
                                        0.7580318187920696,
                                        0.7577435295824753,
                                        0.757350435931511,
                                        0.7570407782132762,
                                        0.7566788779749047,
                                        0.7564160011097913,
                                        0.7561199933116707,
                                        0.7558480455016447,
                                        0.7555602709736142
                                    ]
                                },
                                {
                                    "marker": {
                                        "maxdisplayed": 10
                                    },
                                    "mode": "lines+markers",
                                    "name": "Trial5",
                                    "type": "scatter",
                                    "x": [
                                        0,
                                        1,
                                        2,
                                        3,
                                        4,
                                        5,
                                        6,
                                        7,
                                        8,
                                        9,
                                        10,
                                        11,
                                        12,
                                        13,
                                        14,
                                        15,
                                        16,
                                        17,
                                        18,
                                        19,
                                        20,
                                        21,
                                        22,
                                        23,
                                        24,
                                        25,
                                        26,
                                        27,
                                        28,
                                        29,
                                        30,
                                        31,
                                        32,
                                        33,
                                        34,
                                        35,
                                        36,
                                        37,
                                        38,
                                        39,
                                        40,
                                        41,
                                        42,
                                        43,
                                        44,
                                        45,
                                        46,
                                        47,
                                        48,
                                        49,
                                        50,
                                        51,
                                        52,
                                        53,
                                        54,
                                        55,
                                        56,
                                        57,
                                        58,
                                        59,
                                        60,
                                        61,
                                        62,
                                        63,
                                        64,
                                        65,
                                        66,
                                        67,
                                        68,
                                        69,
                                        70,
                                        71,
                                        72,
                                        73,
                                        74,
                                        75,
                                        76,
                                        77,
                                        78,
                                        79,
                                        80,
                                        81,
                                        82,
                                        83,
                                        84,
                                        85,
                                        86,
                                        87,
                                        88,
                                        89,
                                        90,
                                        91,
                                        92,
                                        93,
                                        94,
                                        95,
                                        96,
                                        97,
                                        98,
                                        99
                                    ],
                                    "y": [
                                        0.8587942180179414,
                                        0.8532002454712277,
                                        0.8499268903618766,
                                        0.8464517703368549,
                                        0.8426135261853535,
                                        0.8404520927440551,
                                        0.8391586225859972,
                                        0.8383741226224672,
                                        0.8369001216358609,
                                        0.834404810837337,
                                        0.8327814074821802,
                                        0.8338168848838124,
                                        0.8322106574699555,
                                        0.8309645465239374,
                                        0.8304895879730344,
                                        0.8295428463745684,
                                        0.8278611016874553,
                                        0.8261853097765534,
                                        0.824723588195361,
                                        0.823969968443825,
                                        0.8242643631639933,
                                        0.8256567980432922,
                                        0.8257694737387985,
                                        0.82531319393052,
                                        0.8247202264127279,
                                        0.8236032181279564,
                                        0.8229004716536777,
                                        0.8229709279780487,
                                        0.8235903034852254,
                                        0.822924782879769,
                                        0.8232875391726489,
                                        0.8227577503061011,
                                        0.8225296254969952,
                                        0.8215239237086113,
                                        0.8217934715910024,
                                        0.8214577373373446,
                                        0.8207410816750471,
                                        0.8201153928922831,
                                        0.82271719193575,
                                        0.8251871311238833,
                                        0.8275364285700552,
                                        0.8297737145167089,
                                        0.8319068171851262,
                                        0.8339428419158572,
                                        0.83588827943045,
                                        0.8377490592175636,
                                        0.8395305915746042,
                                        0.8412378386904796,
                                        0.8428753677274093,
                                        0.8444473623094104,
                                        0.8459576886185523,
                                        0.8474099002642073,
                                        0.8488072952705789,
                                        0.8501529163784453,
                                        0.8514495947918336,
                                        0.8526999552537795,
                                        0.8539064349038659,
                                        0.8550713027541469,
                                        0.8561966794695559,
                                        0.8572845420667103,
                                        0.8583367316635394,
                                        0.8593549788364434,
                                        0.8603409029999559,
                                        0.8612960074318662,
                                        0.8622217245154328,
                                        0.8631193886415611,
                                        0.8639902566541742,
                                        0.8648355135521969,
                                        0.8656562661162075,
                                        0.8664535661538443,
                                        0.8672284045769495,
                                        0.8679817212085246,
                                        0.868714400272469,
                                        0.8694272778132401,
                                        0.8701211426371621,
                                        0.8707967503813275,
                                        0.871454808932436,
                                        0.87209599396903,
                                        0.8727209469221529,
                                        0.8733302759095316,
                                        0.8739245594914417,
                                        0.874504346361559,
                                        0.8750701633015379,
                                        0.8756225072438755,
                                        0.8761618549082458,
                                        0.8766886594056555,
                                        0.8772033567335936,
                                        0.8777063564594948,
                                        0.8781980515929579,
                                        0.8786788204674999,
                                        0.8791490232426731,
                                        0.8796090043109398,
                                        0.8800590932979625,
                                        0.8804996069350868,
                                        0.8809308466009033,
                                        0.8813531020774491,
                                        0.8817666502167445,
                                        0.8821717585401702,
                                        0.8825686839321819,
                                        0.8829576696668352
                                    ]
                                },
                                {
                                    "marker": {
                                        "maxdisplayed": 10
                                    },
                                    "mode": "lines+markers",
                                    "name": "Trial6",
                                    "type": "scatter",
                                    "x": [
                                        0
                                    ],
                                    "y": [
                                        0.9215735168684096
                                    ]
                                },
                                {
                                    "marker": {
                                        "maxdisplayed": 10
                                    },
                                    "mode": "lines+markers",
                                    "name": "Trial7",
                                    "type": "scatter",
                                    "x": [
                                        0,
                                        1,
                                        2,
                                        3,
                                        4,
                                        5,
                                        6,
                                        7,
                                        8,
                                        9,
                                        10,
                                        11,
                                        12,
                                        13,
                                        14,
                                        15,
                                        16,
                                        17,
                                        18,
                                        19,
                                        20,
                                        21,
                                        22,
                                        23,
                                        24,
                                        25,
                                        26,
                                        27,
                                        28,
                                        29,
                                        30,
                                        31,
                                        32,
                                        33,
                                        34,
                                        35,
                                        36,
                                        37,
                                        38,
                                        39,
                                        40,
                                        41,
                                        42,
                                        43,
                                        44,
                                        45,
                                        46,
                                        47,
                                        48,
                                        49,
                                        50,
                                        51,
                                        52,
                                        53,
                                        54,
                                        55,
                                        56,
                                        57,
                                        58,
                                        59,
                                        60,
                                        61,
                                        62,
                                        63,
                                        64,
                                        65,
                                        66,
                                        67,
                                        68,
                                        69,
                                        70,
                                        71,
                                        72,
                                        73,
                                        74,
                                        75,
                                        76,
                                        77,
                                        78,
                                        79,
                                        80,
                                        81,
                                        82,
                                        83,
                                        84,
                                        85,
                                        86,
                                        87,
                                        88,
                                        89,
                                        90,
                                        91,
                                        92,
                                        93,
                                        94,
                                        95,
                                        96,
                                        97,
                                        98,
                                        99
                                    ],
                                    "y": [
                                        0.7631849958783105,
                                        0.7485799420447576,
                                        0.7432823507558731,
                                        0.7377033645198459,
                                        0.7348022117501214,
                                        0.7319680844980573,
                                        0.7304928977878726,
                                        0.729307178762697,
                                        0.7264014219165479,
                                        0.7250993250381379,
                                        0.7244449194633599,
                                        0.7244427614505328,
                                        0.722874946974136,
                                        0.7233131942497629,
                                        0.7225729882717132,
                                        0.7223733761126088,
                                        0.7217239757545857,
                                        0.7218607096444994,
                                        0.720835146972709,
                                        0.7204836264252664,
                                        0.7198589900994248,
                                        0.719860013171192,
                                        0.7201711134387349,
                                        0.7201217081811692,
                                        0.7199072686831155,
                                        0.7192648502387405,
                                        0.719172621319954,
                                        0.7193434349939124,
                                        0.7185477981915809,
                                        0.7182427142347606,
                                        0.7179695949667974,
                                        0.7176387467022454,
                                        0.7170857339022308,
                                        0.7162408549495104,
                                        0.7158498598604787,
                                        0.7158189732877036,
                                        0.7156284532415054,
                                        0.7159173669746347,
                                        0.7157401211459704,
                                        0.7155833204587301,
                                        0.7156512665970123,
                                        0.7155405012658393,
                                        0.7158410633983274,
                                        0.7160623053903188,
                                        0.7160485531602587,
                                        0.7158655459466188,
                                        0.716712718888015,
                                        0.7170462754392434,
                                        0.7172785534281771,
                                        0.7172999470574514,
                                        0.7174918909255418,
                                        0.7177041438800511,
                                        0.7179993025804573,
                                        0.7178625559838361,
                                        0.7178375210854915,
                                        0.7178054579920102,
                                        0.7177424700736201,
                                        0.7177586577747058,
                                        0.7176968645818584,
                                        0.7176334695683584,
                                        0.7175989974112735,
                                        0.7174317879107323,
                                        0.7174990115657683,
                                        0.7173412131322991,
                                        0.7173799787467217,
                                        0.7175116300754905,
                                        0.7176245234075301,
                                        0.7176203489804469,
                                        0.7175998532253764,
                                        0.7176680830668432,
                                        0.7176104838579475,
                                        0.7176152851688798,
                                        0.7178308882125436,
                                        0.717930915196123,
                                        0.7177686962438007,
                                        0.7176689140704041,
                                        0.7177314659144012,
                                        0.7176725231611393,
                                        0.7174574987869653,
                                        0.7173217405698129,
                                        0.7171238536592233,
                                        0.7171378840587418,
                                        0.7169353424716255,
                                        0.7173188319788768,
                                        0.7173040542448935,
                                        0.717139483818316,
                                        0.7170066911957599,
                                        0.7169965470766092,
                                        0.7169848695644534,
                                        0.7169025473020695,
                                        0.71681599756425,
                                        0.716610011214672,
                                        0.7164817186453011,
                                        0.71656721320075,
                                        0.7165131619699617,
                                        0.7165931884110682,
                                        0.7165762925036818,
                                        0.7165209371506067,
                                        0.7165579516736289,
                                        0.7163784149289133
                                    ]
                                },
                                {
                                    "marker": {
                                        "maxdisplayed": 10
                                    },
                                    "mode": "lines+markers",
                                    "name": "Trial8",
                                    "type": "scatter",
                                    "x": [
                                        0
                                    ],
                                    "y": [
                                        0.9213616989907765
                                    ]
                                },
                                {
                                    "marker": {
                                        "maxdisplayed": 10
                                    },
                                    "mode": "lines+markers",
                                    "name": "Trial9",
                                    "type": "scatter",
                                    "x": [
                                        0
                                    ],
                                    "y": [
                                        0.9155103592645555
                                    ]
                                },
                                {
                                    "marker": {
                                        "maxdisplayed": 10
                                    },
                                    "mode": "lines+markers",
                                    "name": "Trial10",
                                    "type": "scatter",
                                    "x": [
                                        0,
                                        1,
                                        2,
                                        3,
                                        4,
                                        5,
                                        6,
                                        7,
                                        8,
                                        9,
                                        10,
                                        11,
                                        12,
                                        13,
                                        14,
                                        15,
                                        16,
                                        17,
                                        18,
                                        19,
                                        20,
                                        21,
                                        22,
                                        23,
                                        24,
                                        25,
                                        26,
                                        27,
                                        28,
                                        29,
                                        30,
                                        31,
                                        32,
                                        33,
                                        34,
                                        35,
                                        36,
                                        37,
                                        38,
                                        39,
                                        40,
                                        41,
                                        42,
                                        43,
                                        44,
                                        45,
                                        46,
                                        47,
                                        48,
                                        49,
                                        50,
                                        51,
                                        52,
                                        53,
                                        54,
                                        55,
                                        56,
                                        57,
                                        58,
                                        59,
                                        60,
                                        61,
                                        62,
                                        63,
                                        64,
                                        65,
                                        66,
                                        67,
                                        68,
                                        69,
                                        70,
                                        71,
                                        72,
                                        73,
                                        74,
                                        75,
                                        76,
                                        77,
                                        78,
                                        79,
                                        80,
                                        81,
                                        82,
                                        83,
                                        84,
                                        85,
                                        86,
                                        87,
                                        88,
                                        89,
                                        90,
                                        91,
                                        92,
                                        93,
                                        94,
                                        95,
                                        96,
                                        97,
                                        98,
                                        99
                                    ],
                                    "y": [
                                        0.781457706576302,
                                        0.7558477144865763,
                                        0.73573832190226,
                                        0.7196729420906022,
                                        0.7067355062280383,
                                        0.6961175569939235,
                                        0.6872200874649749,
                                        0.6795746474748566,
                                        0.6728820636789634,
                                        0.6669412018287749,
                                        0.6616439545825447,
                                        0.6568570636094563,
                                        0.65248729741617,
                                        0.648484477380506,
                                        0.644801135006405,
                                        0.6413604209997824,
                                        0.6381448038151952,
                                        0.635125186471712,
                                        0.6323076091464003,
                                        0.6296309430684361,
                                        0.6271006261545514,
                                        0.6247056876168107,
                                        0.6224304606085238,
                                        0.6202639081175365,
                                        0.6182006600924901,
                                        0.6162354608267655,
                                        0.6143560741734042,
                                        0.6125587541736712,
                                        0.6108277048579186,
                                        0.6091744165098857,
                                        0.6075922601874889,
                                        0.6060691474537764,
                                        0.6045888491179175,
                                        0.603167497143358,
                                        0.6017953954586367,
                                        0.6004694291444683,
                                        0.5991925506288021,
                                        0.5979487749568203,
                                        0.5967515652069096,
                                        0.5955916715519769,
                                        0.594469999810129,
                                        0.5933772266215207,
                                        0.592308161299622,
                                        0.5912741768250475,
                                        0.5902566203206935,
                                        0.5892685904451038,
                                        0.588294327696889,
                                        0.5873555169248629,
                                        0.58644252208915,
                                        0.5855443924949283,
                                        0.584674983548851,
                                        0.5838172108944738,
                                        0.5829740299877559,
                                        0.5821573617991317,
                                        0.581357625281656,
                                        0.5805873432811223,
                                        0.5798270938514967,
                                        0.5790869393470056,
                                        0.5783720748789182,
                                        0.5776628621513882,
                                        0.5769699798325466,
                                        0.5762903848505607,
                                        0.5756200033205527,
                                        0.5749766070595277,
                                        0.5743405159903969,
                                        0.5737199289415134,
                                        0.5731094924371634,
                                        0.5725109855793103,
                                        0.5719313322675071,
                                        0.5713568771574773,
                                        0.5707965294420119,
                                        0.5702499351883061,
                                        0.569716827792042,
                                        0.5691816062310487,
                                        0.5686596711949696,
                                        0.568144549216543,
                                        0.5676411170611503,
                                        0.5671532180101152,
                                        0.566681532713575,
                                        0.5662137570125716,
                                        0.5657524293061917,
                                        0.5653068281268825,
                                        0.5648570261121959,
                                        0.5644124179504085,
                                        0.5639762512609071,
                                        0.5635480266291306,
                                        0.5631247051814637,
                                        0.5627208122201425,
                                        0.562313218154073,
                                        0.5619107980576772,
                                        0.5615226813849823,
                                        0.5611351996459699,
                                        0.5607603624943763,
                                        0.5603894562419907,
                                        0.5600345687011727,
                                        0.5596803642203292,
                                        0.5593278155528159,
                                        0.5589797804159256,
                                        0.5586403032344599,
                                        0.5583040855115368
                                    ]
                                },
                                {
                                    "marker": {
                                        "maxdisplayed": 10
                                    },
                                    "mode": "lines+markers",
                                    "name": "Trial11",
                                    "type": "scatter",
                                    "x": [
                                        0,
                                        1,
                                        2,
                                        3,
                                        4,
                                        5,
                                        6,
                                        7,
                                        8,
                                        9,
                                        10,
                                        11,
                                        12,
                                        13,
                                        14,
                                        15,
                                        16,
                                        17,
                                        18,
                                        19,
                                        20,
                                        21,
                                        22,
                                        23,
                                        24,
                                        25,
                                        26,
                                        27,
                                        28,
                                        29,
                                        30,
                                        31,
                                        32,
                                        33,
                                        34,
                                        35,
                                        36,
                                        37,
                                        38,
                                        39,
                                        40,
                                        41,
                                        42,
                                        43,
                                        44,
                                        45,
                                        46,
                                        47,
                                        48,
                                        49,
                                        50,
                                        51,
                                        52,
                                        53,
                                        54,
                                        55,
                                        56,
                                        57,
                                        58,
                                        59,
                                        60,
                                        61,
                                        62,
                                        63,
                                        64,
                                        65,
                                        66,
                                        67,
                                        68,
                                        69,
                                        70,
                                        71,
                                        72,
                                        73,
                                        74,
                                        75,
                                        76,
                                        77,
                                        78,
                                        79,
                                        80,
                                        81,
                                        82,
                                        83,
                                        84,
                                        85,
                                        86,
                                        87,
                                        88,
                                        89,
                                        90,
                                        91,
                                        92,
                                        93,
                                        94,
                                        95,
                                        96,
                                        97,
                                        98,
                                        99
                                    ],
                                    "y": [
                                        0.7458786368370056,
                                        0.7209605560416267,
                                        0.7038559062140329,
                                        0.6909961647221021,
                                        0.6807911007177263,
                                        0.6724598116817929,
                                        0.6654606315554406,
                                        0.6594174380103748,
                                        0.6541024359761092,
                                        0.6493983823628653,
                                        0.6451431192876973,
                                        0.6412575225981455,
                                        0.6377023878769997,
                                        0.6344234619010873,
                                        0.6313710059438432,
                                        0.6285262379263129,
                                        0.6258736433936101,
                                        0.6233786213650275,
                                        0.621039893244741,
                                        0.6188242453194801,
                                        0.6167194078298384,
                                        0.6147197503032107,
                                        0.6128314082543549,
                                        0.6110129400732971,
                                        0.6092806182021185,
                                        0.6076049311802937,
                                        0.6060007137806537,
                                        0.6044552381448194,
                                        0.602967217980543,
                                        0.6015395698093233,
                                        0.6001560791022217,
                                        0.5988226120049756,
                                        0.597539211377437,
                                        0.5962977843458246,
                                        0.5951018953809933,
                                        0.5939378724605949,
                                        0.5928143733870262,
                                        0.5917234787516726,
                                        0.5906575845784174,
                                        0.5896216524498803,
                                        0.5886202701015893,
                                        0.5876379794274328,
                                        0.5866881461766603,
                                        0.5857572457813597,
                                        0.5848515727059551,
                                        0.5839737175074917,
                                        0.5831087288704324,
                                        0.582269453280975,
                                        0.5814512973711025,
                                        0.5806519139380683,
                                        0.5798765721441317,
                                        0.5791144789138557,
                                        0.578368971785338,
                                        0.5776461386491383,
                                        0.5769398048068538,
                                        0.576243218059848,
                                        0.5755623266312512,
                                        0.5748941535114851,
                                        0.5742467975452892,
                                        0.573606992832252,
                                        0.5729768637518322,
                                        0.5723594685075104,
                                        0.5717577858013541,
                                        0.5711661205028317,
                                        0.5705905083444092,
                                        0.5700296770786654,
                                        0.5694716522561462,
                                        0.5689211678939038,
                                        0.568385097993251,
                                        0.5678593086142117,
                                        0.5673402671562913,
                                        0.5668335865256648,
                                        0.566338355711917,
                                        0.5658634322260337,
                                        0.5653819935283964,
                                        0.5649097895525153,
                                        0.5644405757710015,
                                        0.563980950040331,
                                        0.5635325519649862,
                                        0.5630823459653627,
                                        0.562652471563453,
                                        0.5622301572689334,
                                        0.5618037270511352,
                                        0.5613894557449417,
                                        0.5609776983074113,
                                        0.5605812584723481,
                                        0.5601767634653823,
                                        0.559785361034852,
                                        0.5593997362608447,
                                        0.5590238602703841,
                                        0.5586545922988875,
                                        0.5582879648214172,
                                        0.5579301532695554,
                                        0.557577779899675,
                                        0.5572314751626257,
                                        0.5568910189312957,
                                        0.5565588358765908,
                                        0.5562292163787941,
                                        0.5558973950454397,
                                        0.555574799414192
                                    ]
                                },
                                {
                                    "marker": {
                                        "maxdisplayed": 10
                                    },
                                    "mode": "lines+markers",
                                    "name": "Trial12",
                                    "type": "scatter",
                                    "x": [
                                        0,
                                        1,
                                        2,
                                        3,
                                        4,
                                        5,
                                        6,
                                        7,
                                        8,
                                        9,
                                        10,
                                        11,
                                        12,
                                        13,
                                        14,
                                        15,
                                        16,
                                        17,
                                        18,
                                        19,
                                        20,
                                        21,
                                        22,
                                        23,
                                        24,
                                        25,
                                        26,
                                        27,
                                        28,
                                        29,
                                        30,
                                        31,
                                        32,
                                        33,
                                        34,
                                        35,
                                        36,
                                        37,
                                        38,
                                        39,
                                        40,
                                        41,
                                        42,
                                        43,
                                        44,
                                        45,
                                        46,
                                        47,
                                        48,
                                        49,
                                        50,
                                        51,
                                        52,
                                        53,
                                        54,
                                        55,
                                        56,
                                        57,
                                        58,
                                        59,
                                        60,
                                        61,
                                        62,
                                        63,
                                        64,
                                        65,
                                        66,
                                        67,
                                        68,
                                        69,
                                        70,
                                        71,
                                        72,
                                        73,
                                        74,
                                        75,
                                        76,
                                        77,
                                        78,
                                        79,
                                        80,
                                        81,
                                        82,
                                        83,
                                        84,
                                        85,
                                        86,
                                        87,
                                        88,
                                        89,
                                        90,
                                        91,
                                        92,
                                        93,
                                        94,
                                        95,
                                        96,
                                        97,
                                        98,
                                        99
                                    ],
                                    "y": [
                                        0.7746275308586302,
                                        0.7497047114939916,
                                        0.729266917894757,
                                        0.7131322519410224,
                                        0.7002749380611237,
                                        0.6897951279367719,
                                        0.6809939600172497,
                                        0.6733930405406725,
                                        0.6667171314595238,
                                        0.6607993463675181,
                                        0.6554932131137683,
                                        0.650672506363619,
                                        0.6462784940069848,
                                        0.6422160758453161,
                                        0.6384780473179287,
                                        0.6349778089317537,
                                        0.6317203317035813,
                                        0.6286690020687364,
                                        0.6257950131755723,
                                        0.623079714108081,
                                        0.6205033792389762,
                                        0.6180637572363857,
                                        0.6157393411079548,
                                        0.6135266554497537,
                                        0.6114261244592212,
                                        0.6094086502607051,
                                        0.6074800699476212,
                                        0.605632327420979,
                                        0.6038458915473204,
                                        0.6021453179300775,
                                        0.600495297559029,
                                        0.5989259038164857,
                                        0.597393755358879,
                                        0.5959178543850487,
                                        0.5944876623802444,
                                        0.5931191509638829,
                                        0.59179981189038,
                                        0.5905112251452634,
                                        0.5892636274534558,
                                        0.5880648076534272,
                                        0.5868903143584521,
                                        0.5857470789058409,
                                        0.5846360631097326,
                                        0.5835667481379849,
                                        0.5825225135479024,
                                        0.5815038829579117,
                                        0.5805150147719949,
                                        0.5795602570805284,
                                        0.5786281319441902,
                                        0.57771994579406,
                                        0.5768378561590454,
                                        0.575972981314301,
                                        0.5751270315235837,
                                        0.5743071971957225,
                                        0.5735135315687625,
                                        0.5727431946592468,
                                        0.5719940600887177,
                                        0.5712655777438912,
                                        0.570551650732443,
                                        0.5698529378052741,
                                        0.5691603750083521,
                                        0.5684885318790163,
                                        0.5678311743613723,
                                        0.5671897446736693,
                                        0.5665728007262444,
                                        0.5659528784615138,
                                        0.5653599976391851,
                                        0.5647716595887805,
                                        0.5641998554238622,
                                        0.5636359204848608,
                                        0.5630839995035464,
                                        0.5625580077961323,
                                        0.5620338227320402,
                                        0.5615206553937538,
                                        0.5610233474061602,
                                        0.560540714845024,
                                        0.5600661721654194,
                                        0.5595870261263644,
                                        0.5591217872786047,
                                        0.5586761876231148,
                                        0.5582431808753548,
                                        0.5578059912783621,
                                        0.5573843685259302,
                                        0.5569692225514355,
                                        0.5565611141485993,
                                        0.5561647560872376,
                                        0.5557645362423101,
                                        0.555381580130943,
                                        0.5550089941951538,
                                        0.5546370803127213,
                                        0.5542669752032765,
                                        0.5539057369712223,
                                        0.5535539121763314,
                                        0.5532081374009691,
                                        0.5528605762280915,
                                        0.5525252450154059,
                                        0.552196119147068,
                                        0.5518723502972382,
                                        0.5515560798200062,
                                        0.5512406425745713
                                    ]
                                },
                                {
                                    "marker": {
                                        "maxdisplayed": 10
                                    },
                                    "mode": "lines+markers",
                                    "name": "Trial13",
                                    "type": "scatter",
                                    "x": [
                                        0,
                                        1,
                                        2,
                                        3,
                                        4,
                                        5,
                                        6,
                                        7,
                                        8,
                                        9,
                                        10,
                                        11,
                                        12,
                                        13,
                                        14,
                                        15,
                                        16,
                                        17,
                                        18,
                                        19,
                                        20,
                                        21,
                                        22,
                                        23,
                                        24,
                                        25,
                                        26,
                                        27,
                                        28,
                                        29,
                                        30,
                                        31,
                                        32,
                                        33,
                                        34,
                                        35,
                                        36,
                                        37,
                                        38,
                                        39,
                                        40,
                                        41,
                                        42,
                                        43,
                                        44,
                                        45,
                                        46,
                                        47,
                                        48,
                                        49,
                                        50,
                                        51,
                                        52,
                                        53,
                                        54,
                                        55,
                                        56,
                                        57,
                                        58,
                                        59,
                                        60,
                                        61,
                                        62,
                                        63,
                                        64,
                                        65,
                                        66,
                                        67,
                                        68,
                                        69,
                                        70,
                                        71,
                                        72,
                                        73,
                                        74,
                                        75,
                                        76,
                                        77,
                                        78,
                                        79,
                                        80,
                                        81,
                                        82,
                                        83,
                                        84,
                                        85,
                                        86,
                                        87,
                                        88,
                                        89,
                                        90,
                                        91,
                                        92,
                                        93,
                                        94,
                                        95,
                                        96,
                                        97,
                                        98,
                                        99
                                    ],
                                    "y": [
                                        0.7268184565362477,
                                        0.7003610325711114,
                                        0.6829519650292775,
                                        0.6702565941072646,
                                        0.6604222765990666,
                                        0.6523406472471026,
                                        0.6455951491180733,
                                        0.6397445886617614,
                                        0.6345614403013199,
                                        0.6299191473495391,
                                        0.6257594983815115,
                                        0.6219767264667011,
                                        0.6184885818443019,
                                        0.6152654243569796,
                                        0.6122966586597383,
                                        0.6094806945572296,
                                        0.606857856365145,
                                        0.6043860905227206,
                                        0.602057696509182,
                                        0.5998891919851302,
                                        0.5978200729606913,
                                        0.5958563701866508,
                                        0.5939932671022711,
                                        0.592233017471338,
                                        0.5905656352213451,
                                        0.5889604350367745,
                                        0.5874208694149788,
                                        0.5859437479453833,
                                        0.584539884832888,
                                        0.5831726780486485,
                                        0.5818660839270521,
                                        0.5806011484847182,
                                        0.5793760982899783,
                                        0.578211354837865,
                                        0.5770800404199937,
                                        0.576001460373244,
                                        0.5749353009301263,
                                        0.573903067331565,
                                        0.5729203592617433,
                                        0.5719622017194828,
                                        0.5710288684092609,
                                        0.5701272641044626,
                                        0.5692561159729298,
                                        0.5684282083822277,
                                        0.567611282228162,
                                        0.5668203941012269,
                                        0.5660421600246381,
                                        0.5652898491049806,
                                        0.5645604934706285,
                                        0.5638581245711872,
                                        0.5631668222050707,
                                        0.5624941946877228,
                                        0.5618450123371568,
                                        0.5612267879030062,
                                        0.5606007496257881,
                                        0.5599972381554291,
                                        0.5594221025630646,
                                        0.558851604146519,
                                        0.5582914083859342,
                                        0.5577335441041561,
                                        0.5572044995266604,
                                        0.5566826392588894,
                                        0.5561876129626507,
                                        0.5557030405450081,
                                        0.5552247274926294,
                                        0.5547633448032417,
                                        0.5543239639215461,
                                        0.5538830787089525,
                                        0.5534528637236772,
                                        0.5530288375660676,
                                        0.5526329327816935,
                                        0.5522449971250598,
                                        0.5518760765427012,
                                        0.5514842239394304,
                                        0.5511193013664276,
                                        0.5507704790373493,
                                        0.5504285700725197,
                                        0.550084829475999,
                                        0.5497593053893342,
                                        0.5494367867353416,
                                        0.549128381243038,
                                        0.5488189318661906,
                                        0.5485240090820068,
                                        0.5482440096349402,
                                        0.5479839903550321,
                                        0.5477253033110205,
                                        0.5474727277424274,
                                        0.5472226083456051,
                                        0.5469839256147193,
                                        0.5467506131403661,
                                        0.546521193019886,
                                        0.5462927374040119,
                                        0.5460710281127548,
                                        0.5458574463984163,
                                        0.5456754793798118,
                                        0.545484610426698,
                                        0.5452907337502165,
                                        0.5451132921235903,
                                        0.5449369133608224,
                                        0.5447614311604273
                                    ]
                                },
                                {
                                    "marker": {
                                        "maxdisplayed": 10
                                    },
                                    "mode": "lines+markers",
                                    "name": "Trial14",
                                    "type": "scatter",
                                    "x": [
                                        0
                                    ],
                                    "y": [
                                        0.8073367320355915
                                    ]
                                },
                                {
                                    "marker": {
                                        "maxdisplayed": 10
                                    },
                                    "mode": "lines+markers",
                                    "name": "Trial15",
                                    "type": "scatter",
                                    "x": [
                                        0
                                    ],
                                    "y": [
                                        0.8810876096997943
                                    ]
                                },
                                {
                                    "marker": {
                                        "maxdisplayed": 10
                                    },
                                    "mode": "lines+markers",
                                    "name": "Trial16",
                                    "type": "scatter",
                                    "x": [
                                        0
                                    ],
                                    "y": [
                                        0.9525239794027238
                                    ]
                                },
                                {
                                    "marker": {
                                        "maxdisplayed": 10
                                    },
                                    "mode": "lines+markers",
                                    "name": "Trial17",
                                    "type": "scatter",
                                    "x": [
                                        0
                                    ],
                                    "y": [
                                        0.9221658181576502
                                    ]
                                },
                                {
                                    "marker": {
                                        "maxdisplayed": 10
                                    },
                                    "mode": "lines+markers",
                                    "name": "Trial18",
                                    "type": "scatter",
                                    "x": [
                                        0
                                    ],
                                    "y": [
                                        0.8846749322754996
                                    ]
                                },
                                {
                                    "marker": {
                                        "maxdisplayed": 10
                                    },
                                    "mode": "lines+markers",
                                    "name": "Trial19",
                                    "type": "scatter",
                                    "x": [
                                        0
                                    ],
                                    "y": [
                                        0.9588782858280909
                                    ]
                                },
                                {
                                    "marker": {
                                        "maxdisplayed": 10
                                    },
                                    "mode": "lines+markers",
                                    "name": "Trial20",
                                    "type": "scatter",
                                    "x": [
                                        0
                                    ],
                                    "y": [
                                        0.869279221409843
                                    ]
                                },
                                {
                                    "marker": {
                                        "maxdisplayed": 10
                                    },
                                    "mode": "lines+markers",
                                    "name": "Trial21",
                                    "type": "scatter",
                                    "x": [
                                        0,
                                        1,
                                        2,
                                        3,
                                        4,
                                        5,
                                        6,
                                        7,
                                        8,
                                        9,
                                        10,
                                        11,
                                        12,
                                        13,
                                        14,
                                        15,
                                        16,
                                        17,
                                        18,
                                        19,
                                        20,
                                        21,
                                        22,
                                        23,
                                        24,
                                        25,
                                        26,
                                        27,
                                        28,
                                        29,
                                        30,
                                        31,
                                        32,
                                        33,
                                        34,
                                        35,
                                        36,
                                        37,
                                        38,
                                        39,
                                        40,
                                        41,
                                        42,
                                        43,
                                        44,
                                        45,
                                        46,
                                        47,
                                        48,
                                        49,
                                        50,
                                        51,
                                        52,
                                        53,
                                        54,
                                        55,
                                        56,
                                        57,
                                        58,
                                        59,
                                        60,
                                        61,
                                        62,
                                        63,
                                        64,
                                        65,
                                        66,
                                        67,
                                        68,
                                        69,
                                        70,
                                        71,
                                        72,
                                        73,
                                        74,
                                        75,
                                        76,
                                        77,
                                        78,
                                        79,
                                        80,
                                        81,
                                        82,
                                        83,
                                        84,
                                        85,
                                        86,
                                        87,
                                        88,
                                        89,
                                        90,
                                        91,
                                        92,
                                        93,
                                        94,
                                        95,
                                        96,
                                        97,
                                        98,
                                        99
                                    ],
                                    "y": [
                                        0.7436826385202862,
                                        0.7187237647317705,
                                        0.7019280710863689,
                                        0.6892646810128575,
                                        0.6791418407644544,
                                        0.6707834031373735,
                                        0.6636885493791022,
                                        0.6575319185143426,
                                        0.6521159345826144,
                                        0.6472882170052755,
                                        0.6429346300564803,
                                        0.6389479226772747,
                                        0.6352885457185599,
                                        0.6318999745813356,
                                        0.628749497258474,
                                        0.6258104191649528,
                                        0.6230644496882998,
                                        0.6204797940910178,
                                        0.618028827254336,
                                        0.6157249814697675,
                                        0.6135373813630233,
                                        0.6114437478187281,
                                        0.6094513980991846,
                                        0.6075473942217373,
                                        0.6057342575845265,
                                        0.603985804286632,
                                        0.6023100600881762,
                                        0.6007032022386992,
                                        0.5991531130421927,
                                        0.5976500857444037,
                                        0.5962055640469682,
                                        0.5948181550816767,
                                        0.5934717167077471,
                                        0.59216637429403,
                                        0.5909053639084304,
                                        0.5896867527059777,
                                        0.5884995286375706,
                                        0.5873427118611216,
                                        0.5862225198592895,
                                        0.5851364094941389,
                                        0.5840685503096531,
                                        0.5830327389326767,
                                        0.5820225185301086,
                                        0.5810392279968117,
                                        0.580081349374756,
                                        0.5791524491787697,
                                        0.5782420390947008,
                                        0.5773558469548349,
                                        0.5764874369630082,
                                        0.5756475431010837,
                                        0.5748298000666051,
                                        0.5740331813911379,
                                        0.5732520175938765,
                                        0.5724874607417109,
                                        0.5717401838018781,
                                        0.5710116324528139,
                                        0.5703049911218777,
                                        0.569606939878174,
                                        0.5689198087428826,
                                        0.5682524843230133,
                                        0.5675975979537726,
                                        0.5669548562549044,
                                        0.5663335419183235,
                                        0.5657217501485277,
                                        0.5651262077874754,
                                        0.5645313292612761,
                                        0.5639613384080424,
                                        0.5633895048762068,
                                        0.5628388195489503,
                                        0.5622893995168257,
                                        0.561763793819707,
                                        0.5612481668217,
                                        0.5607420603142637,
                                        0.5602450138928807,
                                        0.5597591551617971,
                                        0.5592752796198641,
                                        0.5588058700661787,
                                        0.5583485771739294,
                                        0.5579035363152777,
                                        0.5574610527959608,
                                        0.5570283918819451,
                                        0.5566027138672086,
                                        0.5561874627006923,
                                        0.5557857453738616,
                                        0.5553911378570632,
                                        0.5550088595479299,
                                        0.5546318141811849,
                                        0.5542665088379924,
                                        0.5539031829774667,
                                        0.553545063158507,
                                        0.5531973542888273,
                                        0.5528473752332893,
                                        0.5525116977008623,
                                        0.5521789189605486,
                                        0.551847515578258,
                                        0.5515275938613784,
                                        0.5512105267774725,
                                        0.5508971702238676,
                                        0.5505893845980186,
                                        0.5502867054513522
                                    ]
                                },
                                {
                                    "marker": {
                                        "maxdisplayed": 10
                                    },
                                    "mode": "lines+markers",
                                    "name": "Trial22",
                                    "type": "scatter",
                                    "x": [
                                        0,
                                        1,
                                        2,
                                        3,
                                        4,
                                        5,
                                        6,
                                        7,
                                        8,
                                        9,
                                        10,
                                        11,
                                        12,
                                        13,
                                        14,
                                        15,
                                        16,
                                        17,
                                        18,
                                        19,
                                        20,
                                        21,
                                        22,
                                        23,
                                        24,
                                        25,
                                        26,
                                        27,
                                        28,
                                        29,
                                        30,
                                        31,
                                        32,
                                        33,
                                        34,
                                        35,
                                        36,
                                        37,
                                        38,
                                        39,
                                        40,
                                        41,
                                        42,
                                        43,
                                        44,
                                        45,
                                        46,
                                        47,
                                        48,
                                        49,
                                        50,
                                        51,
                                        52,
                                        53,
                                        54,
                                        55,
                                        56,
                                        57,
                                        58,
                                        59,
                                        60,
                                        61,
                                        62,
                                        63,
                                        64,
                                        65,
                                        66,
                                        67,
                                        68,
                                        69,
                                        70,
                                        71,
                                        72,
                                        73,
                                        74,
                                        75,
                                        76,
                                        77,
                                        78,
                                        79,
                                        80,
                                        81,
                                        82,
                                        83,
                                        84,
                                        85,
                                        86,
                                        87,
                                        88,
                                        89,
                                        90,
                                        91,
                                        92,
                                        93,
                                        94,
                                        95,
                                        96,
                                        97,
                                        98,
                                        99
                                    ],
                                    "y": [
                                        0.7687990097772508,
                                        0.7405955088990075,
                                        0.721048188114923,
                                        0.706472489450659,
                                        0.6950148732889266,
                                        0.6856643957278085,
                                        0.6778238703604458,
                                        0.6711042562410945,
                                        0.6652388277823332,
                                        0.6600357576495125,
                                        0.6553698086635374,
                                        0.651149475148746,
                                        0.6473015413616167,
                                        0.6437709717726221,
                                        0.6404934145155408,
                                        0.637451085927231,
                                        0.6346154268048391,
                                        0.6319418527461864,
                                        0.6294265496999697,
                                        0.6270552444316091,
                                        0.6248115104477421,
                                        0.6226769167107421,
                                        0.620651461507963,
                                        0.6187041670320526,
                                        0.6168363741465978,
                                        0.615048056393316,
                                        0.613335622576389,
                                        0.6116967052728141,
                                        0.610114930983639,
                                        0.6085893897783189,
                                        0.6071242725336424,
                                        0.6057126478159002,
                                        0.6043439245585239,
                                        0.6030221184512147,
                                        0.601743191196805,
                                        0.6005008958634875,
                                        0.5992890732935803,
                                        0.5981178684043406,
                                        0.5969814916160663,
                                        0.5958804131618567,
                                        0.5948063451169399,
                                        0.5937637756335763,
                                        0.5927412195723186,
                                        0.5917439874568027,
                                        0.5907802302055257,
                                        0.5898360405772862,
                                        0.588911423099198,
                                        0.5880188695672485,
                                        0.5871456357694808,
                                        0.5862827781410445,
                                        0.5854430097380494,
                                        0.5846195095952177,
                                        0.5838169515909425,
                                        0.5830297064581456,
                                        0.582255215704183,
                                        0.5814955647097152,
                                        0.5807544748386743,
                                        0.580032364476001,
                                        0.5793146001441138,
                                        0.5786180936864443,
                                        0.5779284089338398,
                                        0.5772558402859487,
                                        0.5765961572719358,
                                        0.575942121601353,
                                        0.5753102774475957,
                                        0.5746841729224846,
                                        0.57407143599782,
                                        0.5734644022454568,
                                        0.5728706749884979,
                                        0.5722882609484958,
                                        0.5717165531586834,
                                        0.571150659046397,
                                        0.5706003459640678,
                                        0.5700558940550382,
                                        0.5695276343160205,
                                        0.5690092947660831,
                                        0.5684920577591558,
                                        0.5679910514180767,
                                        0.5675022119567507,
                                        0.5670187565808495,
                                        0.5665395744911438,
                                        0.566072646420315,
                                        0.5656167992267265,
                                        0.5651659181768123,
                                        0.5647251644722221,
                                        0.564288858625448,
                                        0.5638618821173206,
                                        0.5634360089414305,
                                        0.5630243764706893,
                                        0.5626155438167708,
                                        0.5622118812762026,
                                        0.5618113094312187,
                                        0.5614189157349234,
                                        0.5610374088390621,
                                        0.5606526393340644,
                                        0.5602842568538137,
                                        0.5599225640048218,
                                        0.5595648275114472,
                                        0.5592092779133973,
                                        0.558867180978968
                                    ]
                                },
                                {
                                    "marker": {
                                        "maxdisplayed": 10
                                    },
                                    "mode": "lines+markers",
                                    "name": "Trial23",
                                    "type": "scatter",
                                    "x": [
                                        0
                                    ],
                                    "y": [
                                        0.9055236833436149
                                    ]
                                },
                                {
                                    "marker": {
                                        "maxdisplayed": 10
                                    },
                                    "mode": "lines+markers",
                                    "name": "Trial24",
                                    "type": "scatter",
                                    "x": [
                                        0,
                                        1,
                                        2,
                                        3,
                                        4,
                                        5,
                                        6,
                                        7,
                                        8,
                                        9,
                                        10,
                                        11,
                                        12,
                                        13,
                                        14,
                                        15,
                                        16,
                                        17,
                                        18,
                                        19,
                                        20,
                                        21,
                                        22,
                                        23,
                                        24,
                                        25,
                                        26,
                                        27,
                                        28,
                                        29,
                                        30,
                                        31,
                                        32,
                                        33,
                                        34,
                                        35,
                                        36,
                                        37,
                                        38,
                                        39,
                                        40,
                                        41,
                                        42,
                                        43,
                                        44,
                                        45,
                                        46,
                                        47,
                                        48,
                                        49,
                                        50,
                                        51,
                                        52,
                                        53,
                                        54,
                                        55,
                                        56,
                                        57,
                                        58,
                                        59,
                                        60,
                                        61,
                                        62,
                                        63,
                                        64,
                                        65,
                                        66,
                                        67,
                                        68,
                                        69,
                                        70,
                                        71,
                                        72,
                                        73,
                                        74,
                                        75,
                                        76,
                                        77,
                                        78,
                                        79,
                                        80,
                                        81,
                                        82,
                                        83,
                                        84,
                                        85,
                                        86,
                                        87,
                                        88,
                                        89,
                                        90,
                                        91,
                                        92,
                                        93,
                                        94,
                                        95,
                                        96,
                                        97,
                                        98,
                                        99
                                    ],
                                    "y": [
                                        0.7048235407897404,
                                        0.6812032141855785,
                                        0.6657730350418697,
                                        0.6544481320750146,
                                        0.6455316421531496,
                                        0.6379831807007865,
                                        0.6315692178651588,
                                        0.6259404543255057,
                                        0.620981470775352,
                                        0.6165269129333042,
                                        0.6125122970574862,
                                        0.6088421141344403,
                                        0.6054794471779149,
                                        0.6024179681628741,
                                        0.5995540625519223,
                                        0.5968921634235553,
                                        0.5943803597732086,
                                        0.5920218393285439,
                                        0.5898516112028208,
                                        0.5877856444035258,
                                        0.5858402450879415,
                                        0.583996309894762,
                                        0.5822353502176316,
                                        0.580594096835407,
                                        0.5790368803342184,
                                        0.5775309613881967,
                                        0.576092739558304,
                                        0.5747341236137614,
                                        0.5734206968536126,
                                        0.5721616013892113,
                                        0.5709392941812949,
                                        0.5697800629506153,
                                        0.5687039133919266,
                                        0.5676475871636085,
                                        0.5666630603626471,
                                        0.5656851946361481,
                                        0.5647669048881593,
                                        0.5638875046693591,
                                        0.5630490840463848,
                                        0.5622420905778805,
                                        0.5614660738791046,
                                        0.5607215575451484,
                                        0.5600477428828364,
                                        0.5593676419356169,
                                        0.5587233742551199,
                                        0.5580781163883012,
                                        0.5574548529515755,
                                        0.5568788024109034,
                                        0.5563203527205655,
                                        0.5557806661299296,
                                        0.5552396398215066,
                                        0.5547361518546338,
                                        0.5542535246462835,
                                        0.5537792501126858,
                                        0.5533530768248942,
                                        0.5529109794823897,
                                        0.5524937154331503,
                                        0.5521212370794003,
                                        0.5517456512762906,
                                        0.5513842547814998,
                                        0.5510475289695995,
                                        0.5507286445405077,
                                        0.5503879270586026,
                                        0.5500891589160477,
                                        0.5497978538602264,
                                        0.5495140794207696,
                                        0.5492647454068436,
                                        0.5490107608630378,
                                        0.5487724953042467,
                                        0.5485349343240666,
                                        0.5483159031406655,
                                        0.5481012065811132,
                                        0.5478945347952516,
                                        0.5477156192831398,
                                        0.5475203958579472,
                                        0.547340921982936,
                                        0.547199725653186,
                                        0.5470489595399234,
                                        0.5468933622365689,
                                        0.5467381755333571,
                                        0.5465924600287089,
                                        0.5464722769860607,
                                        0.5463365629888169,
                                        0.546227683809474,
                                        0.5461236695782477,
                                        0.546015934030611,
                                        0.5459220371712213,
                                        0.5458179796154881,
                                        0.5457269043336264,
                                        0.545636559131915,
                                        0.5455564613166995,
                                        0.5454822558423748,
                                        0.5454163959605597,
                                        0.5453384925574517,
                                        0.5452698800049928,
                                        0.5452164409992596,
                                        0.5451585939835262,
                                        0.5451102355681541,
                                        0.5450798466249748,
                                        0.5450598428717681
                                    ]
                                },
                                {
                                    "marker": {
                                        "maxdisplayed": 10
                                    },
                                    "mode": "lines+markers",
                                    "name": "Trial25",
                                    "type": "scatter",
                                    "x": [
                                        0
                                    ],
                                    "y": [
                                        0.8486161544209435
                                    ]
                                },
                                {
                                    "marker": {
                                        "maxdisplayed": 10
                                    },
                                    "mode": "lines+markers",
                                    "name": "Trial26",
                                    "type": "scatter",
                                    "x": [
                                        0
                                    ],
                                    "y": [
                                        0.9243397528216952
                                    ]
                                },
                                {
                                    "marker": {
                                        "maxdisplayed": 10
                                    },
                                    "mode": "lines+markers",
                                    "name": "Trial27",
                                    "type": "scatter",
                                    "x": [
                                        0
                                    ],
                                    "y": [
                                        0.9212313422134945
                                    ]
                                },
                                {
                                    "marker": {
                                        "maxdisplayed": 10
                                    },
                                    "mode": "lines+markers",
                                    "name": "Trial28",
                                    "type": "scatter",
                                    "x": [
                                        0
                                    ],
                                    "y": [
                                        0.7915962026232765
                                    ]
                                },
                                {
                                    "marker": {
                                        "maxdisplayed": 10
                                    },
                                    "mode": "lines+markers",
                                    "name": "Trial29",
                                    "type": "scatter",
                                    "x": [
                                        0
                                    ],
                                    "y": [
                                        0.9213499242351169
                                    ]
                                },
                                {
                                    "marker": {
                                        "maxdisplayed": 10
                                    },
                                    "mode": "lines+markers",
                                    "name": "Trial30",
                                    "type": "scatter",
                                    "x": [
                                        0
                                    ],
                                    "y": [
                                        0.9318050103528159
                                    ]
                                },
                                {
                                    "marker": {
                                        "maxdisplayed": 10
                                    },
                                    "mode": "lines+markers",
                                    "name": "Trial31",
                                    "type": "scatter",
                                    "x": [
                                        0,
                                        1,
                                        2,
                                        3,
                                        4,
                                        5,
                                        6,
                                        7,
                                        8,
                                        9,
                                        10,
                                        11,
                                        12,
                                        13,
                                        14,
                                        15,
                                        16,
                                        17,
                                        18,
                                        19,
                                        20,
                                        21,
                                        22,
                                        23,
                                        24,
                                        25,
                                        26,
                                        27,
                                        28,
                                        29,
                                        30,
                                        31,
                                        32,
                                        33,
                                        34,
                                        35,
                                        36,
                                        37,
                                        38,
                                        39,
                                        40,
                                        41,
                                        42,
                                        43,
                                        44,
                                        45,
                                        46,
                                        47,
                                        48,
                                        49,
                                        50,
                                        51,
                                        52,
                                        53,
                                        54,
                                        55,
                                        56,
                                        57,
                                        58,
                                        59,
                                        60,
                                        61,
                                        62,
                                        63,
                                        64,
                                        65,
                                        66,
                                        67,
                                        68,
                                        69,
                                        70,
                                        71,
                                        72,
                                        73,
                                        74,
                                        75,
                                        76,
                                        77,
                                        78,
                                        79,
                                        80,
                                        81,
                                        82,
                                        83,
                                        84,
                                        85,
                                        86,
                                        87,
                                        88,
                                        89,
                                        90,
                                        91,
                                        92,
                                        93,
                                        94,
                                        95,
                                        96,
                                        97,
                                        98,
                                        99
                                    ],
                                    "y": [
                                        0.7544894062337422,
                                        0.726218465538252,
                                        0.7068280255983747,
                                        0.6925108982693582,
                                        0.681350117354166,
                                        0.6722459532911816,
                                        0.6646177868048351,
                                        0.6580437460825557,
                                        0.652281546245807,
                                        0.6471736177092506,
                                        0.6425750237522704,
                                        0.6384021314600158,
                                        0.6345857719143668,
                                        0.6310593904483887,
                                        0.627807337802554,
                                        0.6247610958913962,
                                        0.6219442767255446,
                                        0.6192806252726801,
                                        0.6167720179061842,
                                        0.6144160448795273,
                                        0.6121751732972204,
                                        0.610052879754599,
                                        0.6080206569060529,
                                        0.6060770705105766,
                                        0.6042258979593005,
                                        0.6024485861971265,
                                        0.6007408020357606,
                                        0.5991044779922686,
                                        0.5975177046309159,
                                        0.5960034379410365,
                                        0.594543669859202,
                                        0.5931237343299601,
                                        0.5917615245646041,
                                        0.5904293180096383,
                                        0.5891587621500702,
                                        0.5879194535630404,
                                        0.5867239340775414,
                                        0.5855642187042642,
                                        0.5844439881261305,
                                        0.5833522337533179,
                                        0.5822845855933311,
                                        0.5812360583181554,
                                        0.5802174889269065,
                                        0.5792483548065285,
                                        0.5782917266327238,
                                        0.5773516689151463,
                                        0.5764325217333487,
                                        0.5755397139471912,
                                        0.5746615675465359,
                                        0.5738055297732354,
                                        0.5729706952440528,
                                        0.5721434591262987,
                                        0.5713676512241365,
                                        0.5705956781325727,
                                        0.5698353550650858,
                                        0.5690919901085955,
                                        0.5683610311451811,
                                        0.5676431275157898,
                                        0.5669466868776579,
                                        0.5662667957326722,
                                        0.5656012854336018,
                                        0.5649474705533681,
                                        0.5643100949934913,
                                        0.5636877802400185,
                                        0.5630875959173665,
                                        0.562496032098155,
                                        0.5619199786867415,
                                        0.5613509150070637,
                                        0.5608011196715161,
                                        0.5602509207364653,
                                        0.5597126365787306,
                                        0.559186547265324,
                                        0.5586696446952832,
                                        0.5581643330161022,
                                        0.5576675302925564,
                                        0.5571926999603746,
                                        0.5567267984704759,
                                        0.5562637360614152,
                                        0.5558087622063068,
                                        0.5553614811971783,
                                        0.5549273679601242,
                                        0.554501813039201,
                                        0.5540789386542857,
                                        0.5536657027359587,
                                        0.5532551041003368,
                                        0.55285810021599,
                                        0.552473347729911,
                                        0.5520894777158767,
                                        0.5517197030632811,
                                        0.5513570672462857,
                                        0.5510016596017865,
                                        0.5506424263474488,
                                        0.5503008550579463,
                                        0.5499679427801536,
                                        0.5496339529528654,
                                        0.5493105190199993,
                                        0.548985123268576,
                                        0.5486775472311283,
                                        0.5483644530499652,
                                        0.5480628149353322
                                    ]
                                },
                                {
                                    "marker": {
                                        "maxdisplayed": 10
                                    },
                                    "mode": "lines+markers",
                                    "name": "Trial32",
                                    "type": "scatter",
                                    "x": [
                                        0,
                                        1,
                                        2,
                                        3,
                                        4,
                                        5,
                                        6,
                                        7,
                                        8,
                                        9,
                                        10,
                                        11,
                                        12,
                                        13,
                                        14,
                                        15,
                                        16,
                                        17,
                                        18,
                                        19,
                                        20,
                                        21,
                                        22,
                                        23,
                                        24,
                                        25,
                                        26,
                                        27,
                                        28,
                                        29,
                                        30,
                                        31,
                                        32,
                                        33,
                                        34,
                                        35,
                                        36,
                                        37,
                                        38,
                                        39,
                                        40,
                                        41,
                                        42,
                                        43,
                                        44,
                                        45,
                                        46,
                                        47,
                                        48,
                                        49,
                                        50,
                                        51,
                                        52,
                                        53,
                                        54,
                                        55,
                                        56,
                                        57,
                                        58,
                                        59,
                                        60,
                                        61,
                                        62,
                                        63,
                                        64,
                                        65,
                                        66,
                                        67,
                                        68,
                                        69,
                                        70,
                                        71,
                                        72,
                                        73,
                                        74,
                                        75,
                                        76,
                                        77,
                                        78,
                                        79,
                                        80,
                                        81,
                                        82,
                                        83,
                                        84,
                                        85,
                                        86,
                                        87,
                                        88,
                                        89,
                                        90,
                                        91,
                                        92,
                                        93,
                                        94,
                                        95,
                                        96,
                                        97,
                                        98,
                                        99
                                    ],
                                    "y": [
                                        0.7323874419643766,
                                        0.7071664993252074,
                                        0.6898820930057102,
                                        0.6771128716922943,
                                        0.6670240881897155,
                                        0.6587891126908954,
                                        0.65190748921057,
                                        0.6459331728872799,
                                        0.6406836487628795,
                                        0.6360115319490433,
                                        0.6318241670018151,
                                        0.6279798508400009,
                                        0.624452510268697,
                                        0.6212371277565859,
                                        0.6182431749881261,
                                        0.6154638103963364,
                                        0.6128891519471711,
                                        0.6104657542768609,
                                        0.6081863394506593,
                                        0.6060445369709105,
                                        0.6040062450903073,
                                        0.6020787810479408,
                                        0.6002320306024689,
                                        0.5984700109868769,
                                        0.5968282612164816,
                                        0.5952205396506376,
                                        0.5936722678166849,
                                        0.5922255583462261,
                                        0.5908014372064563,
                                        0.5894455967914491,
                                        0.5881234656006511,
                                        0.5868538022041321,
                                        0.5856386763493908,
                                        0.5844566926401871,
                                        0.5833144644693453,
                                        0.5822042325344036,
                                        0.5811161222068193,
                                        0.5800724224488538,
                                        0.5790482646306939,
                                        0.5780488731073482,
                                        0.5770927123837909,
                                        0.5761736556549731,
                                        0.5752954018340422,
                                        0.5744191327039555,
                                        0.573560239650585,
                                        0.5727349262275804,
                                        0.5719226586057785,
                                        0.5711404683127527,
                                        0.5703811012244665,
                                        0.569634875697749,
                                        0.568900535670983,
                                        0.5681848186904039,
                                        0.567499792733818,
                                        0.5668379509364908,
                                        0.5661850063573748,
                                        0.5655493086368656,
                                        0.5649176541476222,
                                        0.5643207025278378,
                                        0.5637327552659556,
                                        0.5631526972921121,
                                        0.5625768004684686,
                                        0.5620145470750862,
                                        0.5614528903344861,
                                        0.5609243435541256,
                                        0.5603989411513883,
                                        0.5598847096702582,
                                        0.5593865838831167,
                                        0.5588890143907538,
                                        0.5583983682677036,
                                        0.5579195921416996,
                                        0.5574618166401273,
                                        0.5570013452735212,
                                        0.5565577019917289,
                                        0.5561259053791352,
                                        0.5557031328242923,
                                        0.5552821344413554,
                                        0.5548749696290559,
                                        0.5544711637500587,
                                        0.5540819099288593,
                                        0.5536937796200314,
                                        0.5533251251142771,
                                        0.552941114471903,
                                        0.5525626466575875,
                                        0.5522034186236306,
                                        0.551843939859326,
                                        0.5515006727735993,
                                        0.5511532660367778,
                                        0.5508197573985243,
                                        0.5504862067452594,
                                        0.5501634506636826,
                                        0.5498498298231685,
                                        0.5495377366139899,
                                        0.5492293604111219,
                                        0.5489260099654623,
                                        0.548631230758545,
                                        0.5483600571308108,
                                        0.5480907119675249,
                                        0.5478324460334518,
                                        0.5475596423158283,
                                        0.547290383811508
                                    ]
                                },
                                {
                                    "marker": {
                                        "maxdisplayed": 10
                                    },
                                    "mode": "lines+markers",
                                    "name": "Trial33",
                                    "type": "scatter",
                                    "x": [
                                        0
                                    ],
                                    "y": [
                                        0.8447247559116
                                    ]
                                },
                                {
                                    "marker": {
                                        "maxdisplayed": 10
                                    },
                                    "mode": "lines+markers",
                                    "name": "Trial34",
                                    "type": "scatter",
                                    "x": [
                                        0
                                    ],
                                    "y": [
                                        0.7974916583015805
                                    ]
                                },
                                {
                                    "marker": {
                                        "maxdisplayed": 10
                                    },
                                    "mode": "lines+markers",
                                    "name": "Trial35",
                                    "type": "scatter",
                                    "x": [
                                        0
                                    ],
                                    "y": [
                                        0.9205574109440758
                                    ]
                                },
                                {
                                    "marker": {
                                        "maxdisplayed": 10
                                    },
                                    "mode": "lines+markers",
                                    "name": "Trial36",
                                    "type": "scatter",
                                    "x": [
                                        0
                                    ],
                                    "y": [
                                        0.8864783218928746
                                    ]
                                },
                                {
                                    "marker": {
                                        "maxdisplayed": 10
                                    },
                                    "mode": "lines+markers",
                                    "name": "Trial37",
                                    "type": "scatter",
                                    "x": [
                                        0
                                    ],
                                    "y": [
                                        0.8549637539046151
                                    ]
                                },
                                {
                                    "marker": {
                                        "maxdisplayed": 10
                                    },
                                    "mode": "lines+markers",
                                    "name": "Trial38",
                                    "type": "scatter",
                                    "x": [
                                        0
                                    ],
                                    "y": [
                                        0.843124596845536
                                    ]
                                },
                                {
                                    "marker": {
                                        "maxdisplayed": 10
                                    },
                                    "mode": "lines+markers",
                                    "name": "Trial39",
                                    "type": "scatter",
                                    "x": [
                                        0
                                    ],
                                    "y": [
                                        0.8158057218506223
                                    ]
                                },
                                {
                                    "marker": {
                                        "maxdisplayed": 10
                                    },
                                    "mode": "lines+markers",
                                    "name": "Trial40",
                                    "type": "scatter",
                                    "x": [
                                        0
                                    ],
                                    "y": [
                                        0.8083155027457646
                                    ]
                                },
                                {
                                    "marker": {
                                        "maxdisplayed": 10
                                    },
                                    "mode": "lines+markers",
                                    "name": "Trial41",
                                    "type": "scatter",
                                    "x": [
                                        0
                                    ],
                                    "y": [
                                        0.7743625683443887
                                    ]
                                },
                                {
                                    "marker": {
                                        "maxdisplayed": 10
                                    },
                                    "mode": "lines+markers",
                                    "name": "Trial42",
                                    "type": "scatter",
                                    "x": [
                                        0
                                    ],
                                    "y": [
                                        0.8191357709112621
                                    ]
                                },
                                {
                                    "marker": {
                                        "maxdisplayed": 10
                                    },
                                    "mode": "lines+markers",
                                    "name": "Trial43",
                                    "type": "scatter",
                                    "x": [
                                        0
                                    ],
                                    "y": [
                                        0.7920179154191699
                                    ]
                                },
                                {
                                    "marker": {
                                        "maxdisplayed": 10
                                    },
                                    "mode": "lines+markers",
                                    "name": "Trial44",
                                    "type": "scatter",
                                    "x": [
                                        0
                                    ],
                                    "y": [
                                        0.8778331946758997
                                    ]
                                },
                                {
                                    "marker": {
                                        "maxdisplayed": 10
                                    },
                                    "mode": "lines+markers",
                                    "name": "Trial45",
                                    "type": "scatter",
                                    "x": [
                                        0,
                                        1,
                                        2,
                                        3,
                                        4
                                    ],
                                    "y": [
                                        0.7052639538333529,
                                        0.8758222609758377,
                                        0.8231353551622421,
                                        0.7934087702915782,
                                        0.7739505577655066
                                    ]
                                },
                                {
                                    "marker": {
                                        "maxdisplayed": 10
                                    },
                                    "mode": "lines+markers",
                                    "name": "Trial46",
                                    "type": "scatter",
                                    "x": [
                                        0
                                    ],
                                    "y": [
                                        0.9723713752769289
                                    ]
                                },
                                {
                                    "marker": {
                                        "maxdisplayed": 10
                                    },
                                    "mode": "lines+markers",
                                    "name": "Trial47",
                                    "type": "scatter",
                                    "x": [
                                        0,
                                        1,
                                        2,
                                        3,
                                        4
                                    ],
                                    "y": [
                                        0.729944014833087,
                                        0.7158562001727876,
                                        0.712103597701542,
                                        0.7078967867862611,
                                        0.7029525399208069
                                    ]
                                },
                                {
                                    "marker": {
                                        "maxdisplayed": 10
                                    },
                                    "mode": "lines+markers",
                                    "name": "Trial48",
                                    "type": "scatter",
                                    "x": [
                                        0
                                    ],
                                    "y": [
                                        0.9260180393854777
                                    ]
                                },
                                {
                                    "marker": {
                                        "maxdisplayed": 10
                                    },
                                    "mode": "lines+markers",
                                    "name": "Trial49",
                                    "type": "scatter",
                                    "x": [
                                        0
                                    ],
                                    "y": [
                                        0.800657529206503
                                    ]
                                }
                            ],
                            "layout": {
                                "showlegend": false,
                                "template": {
                                    "data": {
                                        "bar": [
                                            {
                                                "error_x": {
                                                    "color": "#2a3f5f"
                                                },
                                                "error_y": {
                                                    "color": "#2a3f5f"
                                                },
                                                "marker": {
                                                    "line": {
                                                        "color": "#E5ECF6",
                                                        "width": 0.5
                                                    },
                                                    "pattern": {
                                                        "fillmode": "overlay",
                                                        "size": 10,
                                                        "solidity": 0.2
                                                    }
                                                },
                                                "type": "bar"
                                            }
                                        ],
                                        "barpolar": [
                                            {
                                                "marker": {
                                                    "line": {
                                                        "color": "#E5ECF6",
                                                        "width": 0.5
                                                    },
                                                    "pattern": {
                                                        "fillmode": "overlay",
                                                        "size": 10,
                                                        "solidity": 0.2
                                                    }
                                                },
                                                "type": "barpolar"
                                            }
                                        ],
                                        "carpet": [
                                            {
                                                "aaxis": {
                                                    "endlinecolor": "#2a3f5f",
                                                    "gridcolor": "white",
                                                    "linecolor": "white",
                                                    "minorgridcolor": "white",
                                                    "startlinecolor": "#2a3f5f"
                                                },
                                                "baxis": {
                                                    "endlinecolor": "#2a3f5f",
                                                    "gridcolor": "white",
                                                    "linecolor": "white",
                                                    "minorgridcolor": "white",
                                                    "startlinecolor": "#2a3f5f"
                                                },
                                                "type": "carpet"
                                            }
                                        ],
                                        "choropleth": [
                                            {
                                                "colorbar": {
                                                    "outlinewidth": 0,
                                                    "ticks": ""
                                                },
                                                "type": "choropleth"
                                            }
                                        ],
                                        "contour": [
                                            {
                                                "colorbar": {
                                                    "outlinewidth": 0,
                                                    "ticks": ""
                                                },
                                                "colorscale": [
                                                    [
                                                        0,
                                                        "#0d0887"
                                                    ],
                                                    [
                                                        0.1111111111111111,
                                                        "#46039f"
                                                    ],
                                                    [
                                                        0.2222222222222222,
                                                        "#7201a8"
                                                    ],
                                                    [
                                                        0.3333333333333333,
                                                        "#9c179e"
                                                    ],
                                                    [
                                                        0.4444444444444444,
                                                        "#bd3786"
                                                    ],
                                                    [
                                                        0.5555555555555556,
                                                        "#d8576b"
                                                    ],
                                                    [
                                                        0.6666666666666666,
                                                        "#ed7953"
                                                    ],
                                                    [
                                                        0.7777777777777778,
                                                        "#fb9f3a"
                                                    ],
                                                    [
                                                        0.8888888888888888,
                                                        "#fdca26"
                                                    ],
                                                    [
                                                        1,
                                                        "#f0f921"
                                                    ]
                                                ],
                                                "type": "contour"
                                            }
                                        ],
                                        "contourcarpet": [
                                            {
                                                "colorbar": {
                                                    "outlinewidth": 0,
                                                    "ticks": ""
                                                },
                                                "type": "contourcarpet"
                                            }
                                        ],
                                        "heatmap": [
                                            {
                                                "colorbar": {
                                                    "outlinewidth": 0,
                                                    "ticks": ""
                                                },
                                                "colorscale": [
                                                    [
                                                        0,
                                                        "#0d0887"
                                                    ],
                                                    [
                                                        0.1111111111111111,
                                                        "#46039f"
                                                    ],
                                                    [
                                                        0.2222222222222222,
                                                        "#7201a8"
                                                    ],
                                                    [
                                                        0.3333333333333333,
                                                        "#9c179e"
                                                    ],
                                                    [
                                                        0.4444444444444444,
                                                        "#bd3786"
                                                    ],
                                                    [
                                                        0.5555555555555556,
                                                        "#d8576b"
                                                    ],
                                                    [
                                                        0.6666666666666666,
                                                        "#ed7953"
                                                    ],
                                                    [
                                                        0.7777777777777778,
                                                        "#fb9f3a"
                                                    ],
                                                    [
                                                        0.8888888888888888,
                                                        "#fdca26"
                                                    ],
                                                    [
                                                        1,
                                                        "#f0f921"
                                                    ]
                                                ],
                                                "type": "heatmap"
                                            }
                                        ],
                                        "heatmapgl": [
                                            {
                                                "colorbar": {
                                                    "outlinewidth": 0,
                                                    "ticks": ""
                                                },
                                                "colorscale": [
                                                    [
                                                        0,
                                                        "#0d0887"
                                                    ],
                                                    [
                                                        0.1111111111111111,
                                                        "#46039f"
                                                    ],
                                                    [
                                                        0.2222222222222222,
                                                        "#7201a8"
                                                    ],
                                                    [
                                                        0.3333333333333333,
                                                        "#9c179e"
                                                    ],
                                                    [
                                                        0.4444444444444444,
                                                        "#bd3786"
                                                    ],
                                                    [
                                                        0.5555555555555556,
                                                        "#d8576b"
                                                    ],
                                                    [
                                                        0.6666666666666666,
                                                        "#ed7953"
                                                    ],
                                                    [
                                                        0.7777777777777778,
                                                        "#fb9f3a"
                                                    ],
                                                    [
                                                        0.8888888888888888,
                                                        "#fdca26"
                                                    ],
                                                    [
                                                        1,
                                                        "#f0f921"
                                                    ]
                                                ],
                                                "type": "heatmapgl"
                                            }
                                        ],
                                        "histogram": [
                                            {
                                                "marker": {
                                                    "pattern": {
                                                        "fillmode": "overlay",
                                                        "size": 10,
                                                        "solidity": 0.2
                                                    }
                                                },
                                                "type": "histogram"
                                            }
                                        ],
                                        "histogram2d": [
                                            {
                                                "colorbar": {
                                                    "outlinewidth": 0,
                                                    "ticks": ""
                                                },
                                                "colorscale": [
                                                    [
                                                        0,
                                                        "#0d0887"
                                                    ],
                                                    [
                                                        0.1111111111111111,
                                                        "#46039f"
                                                    ],
                                                    [
                                                        0.2222222222222222,
                                                        "#7201a8"
                                                    ],
                                                    [
                                                        0.3333333333333333,
                                                        "#9c179e"
                                                    ],
                                                    [
                                                        0.4444444444444444,
                                                        "#bd3786"
                                                    ],
                                                    [
                                                        0.5555555555555556,
                                                        "#d8576b"
                                                    ],
                                                    [
                                                        0.6666666666666666,
                                                        "#ed7953"
                                                    ],
                                                    [
                                                        0.7777777777777778,
                                                        "#fb9f3a"
                                                    ],
                                                    [
                                                        0.8888888888888888,
                                                        "#fdca26"
                                                    ],
                                                    [
                                                        1,
                                                        "#f0f921"
                                                    ]
                                                ],
                                                "type": "histogram2d"
                                            }
                                        ],
                                        "histogram2dcontour": [
                                            {
                                                "colorbar": {
                                                    "outlinewidth": 0,
                                                    "ticks": ""
                                                },
                                                "colorscale": [
                                                    [
                                                        0,
                                                        "#0d0887"
                                                    ],
                                                    [
                                                        0.1111111111111111,
                                                        "#46039f"
                                                    ],
                                                    [
                                                        0.2222222222222222,
                                                        "#7201a8"
                                                    ],
                                                    [
                                                        0.3333333333333333,
                                                        "#9c179e"
                                                    ],
                                                    [
                                                        0.4444444444444444,
                                                        "#bd3786"
                                                    ],
                                                    [
                                                        0.5555555555555556,
                                                        "#d8576b"
                                                    ],
                                                    [
                                                        0.6666666666666666,
                                                        "#ed7953"
                                                    ],
                                                    [
                                                        0.7777777777777778,
                                                        "#fb9f3a"
                                                    ],
                                                    [
                                                        0.8888888888888888,
                                                        "#fdca26"
                                                    ],
                                                    [
                                                        1,
                                                        "#f0f921"
                                                    ]
                                                ],
                                                "type": "histogram2dcontour"
                                            }
                                        ],
                                        "mesh3d": [
                                            {
                                                "colorbar": {
                                                    "outlinewidth": 0,
                                                    "ticks": ""
                                                },
                                                "type": "mesh3d"
                                            }
                                        ],
                                        "parcoords": [
                                            {
                                                "line": {
                                                    "colorbar": {
                                                        "outlinewidth": 0,
                                                        "ticks": ""
                                                    }
                                                },
                                                "type": "parcoords"
                                            }
                                        ],
                                        "pie": [
                                            {
                                                "automargin": true,
                                                "type": "pie"
                                            }
                                        ],
                                        "scatter": [
                                            {
                                                "fillpattern": {
                                                    "fillmode": "overlay",
                                                    "size": 10,
                                                    "solidity": 0.2
                                                },
                                                "type": "scatter"
                                            }
                                        ],
                                        "scatter3d": [
                                            {
                                                "line": {
                                                    "colorbar": {
                                                        "outlinewidth": 0,
                                                        "ticks": ""
                                                    }
                                                },
                                                "marker": {
                                                    "colorbar": {
                                                        "outlinewidth": 0,
                                                        "ticks": ""
                                                    }
                                                },
                                                "type": "scatter3d"
                                            }
                                        ],
                                        "scattercarpet": [
                                            {
                                                "marker": {
                                                    "colorbar": {
                                                        "outlinewidth": 0,
                                                        "ticks": ""
                                                    }
                                                },
                                                "type": "scattercarpet"
                                            }
                                        ],
                                        "scattergeo": [
                                            {
                                                "marker": {
                                                    "colorbar": {
                                                        "outlinewidth": 0,
                                                        "ticks": ""
                                                    }
                                                },
                                                "type": "scattergeo"
                                            }
                                        ],
                                        "scattergl": [
                                            {
                                                "marker": {
                                                    "colorbar": {
                                                        "outlinewidth": 0,
                                                        "ticks": ""
                                                    }
                                                },
                                                "type": "scattergl"
                                            }
                                        ],
                                        "scattermapbox": [
                                            {
                                                "marker": {
                                                    "colorbar": {
                                                        "outlinewidth": 0,
                                                        "ticks": ""
                                                    }
                                                },
                                                "type": "scattermapbox"
                                            }
                                        ],
                                        "scatterpolar": [
                                            {
                                                "marker": {
                                                    "colorbar": {
                                                        "outlinewidth": 0,
                                                        "ticks": ""
                                                    }
                                                },
                                                "type": "scatterpolar"
                                            }
                                        ],
                                        "scatterpolargl": [
                                            {
                                                "marker": {
                                                    "colorbar": {
                                                        "outlinewidth": 0,
                                                        "ticks": ""
                                                    }
                                                },
                                                "type": "scatterpolargl"
                                            }
                                        ],
                                        "scatterternary": [
                                            {
                                                "marker": {
                                                    "colorbar": {
                                                        "outlinewidth": 0,
                                                        "ticks": ""
                                                    }
                                                },
                                                "type": "scatterternary"
                                            }
                                        ],
                                        "surface": [
                                            {
                                                "colorbar": {
                                                    "outlinewidth": 0,
                                                    "ticks": ""
                                                },
                                                "colorscale": [
                                                    [
                                                        0,
                                                        "#0d0887"
                                                    ],
                                                    [
                                                        0.1111111111111111,
                                                        "#46039f"
                                                    ],
                                                    [
                                                        0.2222222222222222,
                                                        "#7201a8"
                                                    ],
                                                    [
                                                        0.3333333333333333,
                                                        "#9c179e"
                                                    ],
                                                    [
                                                        0.4444444444444444,
                                                        "#bd3786"
                                                    ],
                                                    [
                                                        0.5555555555555556,
                                                        "#d8576b"
                                                    ],
                                                    [
                                                        0.6666666666666666,
                                                        "#ed7953"
                                                    ],
                                                    [
                                                        0.7777777777777778,
                                                        "#fb9f3a"
                                                    ],
                                                    [
                                                        0.8888888888888888,
                                                        "#fdca26"
                                                    ],
                                                    [
                                                        1,
                                                        "#f0f921"
                                                    ]
                                                ],
                                                "type": "surface"
                                            }
                                        ],
                                        "table": [
                                            {
                                                "cells": {
                                                    "fill": {
                                                        "color": "#EBF0F8"
                                                    },
                                                    "line": {
                                                        "color": "white"
                                                    }
                                                },
                                                "header": {
                                                    "fill": {
                                                        "color": "#C8D4E3"
                                                    },
                                                    "line": {
                                                        "color": "white"
                                                    }
                                                },
                                                "type": "table"
                                            }
                                        ]
                                    },
                                    "layout": {
                                        "annotationdefaults": {
                                            "arrowcolor": "#2a3f5f",
                                            "arrowhead": 0,
                                            "arrowwidth": 1
                                        },
                                        "autotypenumbers": "strict",
                                        "coloraxis": {
                                            "colorbar": {
                                                "outlinewidth": 0,
                                                "ticks": ""
                                            }
                                        },
                                        "colorscale": {
                                            "diverging": [
                                                [
                                                    0,
                                                    "#8e0152"
                                                ],
                                                [
                                                    0.1,
                                                    "#c51b7d"
                                                ],
                                                [
                                                    0.2,
                                                    "#de77ae"
                                                ],
                                                [
                                                    0.3,
                                                    "#f1b6da"
                                                ],
                                                [
                                                    0.4,
                                                    "#fde0ef"
                                                ],
                                                [
                                                    0.5,
                                                    "#f7f7f7"
                                                ],
                                                [
                                                    0.6,
                                                    "#e6f5d0"
                                                ],
                                                [
                                                    0.7,
                                                    "#b8e186"
                                                ],
                                                [
                                                    0.8,
                                                    "#7fbc41"
                                                ],
                                                [
                                                    0.9,
                                                    "#4d9221"
                                                ],
                                                [
                                                    1,
                                                    "#276419"
                                                ]
                                            ],
                                            "sequential": [
                                                [
                                                    0,
                                                    "#0d0887"
                                                ],
                                                [
                                                    0.1111111111111111,
                                                    "#46039f"
                                                ],
                                                [
                                                    0.2222222222222222,
                                                    "#7201a8"
                                                ],
                                                [
                                                    0.3333333333333333,
                                                    "#9c179e"
                                                ],
                                                [
                                                    0.4444444444444444,
                                                    "#bd3786"
                                                ],
                                                [
                                                    0.5555555555555556,
                                                    "#d8576b"
                                                ],
                                                [
                                                    0.6666666666666666,
                                                    "#ed7953"
                                                ],
                                                [
                                                    0.7777777777777778,
                                                    "#fb9f3a"
                                                ],
                                                [
                                                    0.8888888888888888,
                                                    "#fdca26"
                                                ],
                                                [
                                                    1,
                                                    "#f0f921"
                                                ]
                                            ],
                                            "sequentialminus": [
                                                [
                                                    0,
                                                    "#0d0887"
                                                ],
                                                [
                                                    0.1111111111111111,
                                                    "#46039f"
                                                ],
                                                [
                                                    0.2222222222222222,
                                                    "#7201a8"
                                                ],
                                                [
                                                    0.3333333333333333,
                                                    "#9c179e"
                                                ],
                                                [
                                                    0.4444444444444444,
                                                    "#bd3786"
                                                ],
                                                [
                                                    0.5555555555555556,
                                                    "#d8576b"
                                                ],
                                                [
                                                    0.6666666666666666,
                                                    "#ed7953"
                                                ],
                                                [
                                                    0.7777777777777778,
                                                    "#fb9f3a"
                                                ],
                                                [
                                                    0.8888888888888888,
                                                    "#fdca26"
                                                ],
                                                [
                                                    1,
                                                    "#f0f921"
                                                ]
                                            ]
                                        },
                                        "colorway": [
                                            "#636efa",
                                            "#EF553B",
                                            "#00cc96",
                                            "#ab63fa",
                                            "#FFA15A",
                                            "#19d3f3",
                                            "#FF6692",
                                            "#B6E880",
                                            "#FF97FF",
                                            "#FECB52"
                                        ],
                                        "font": {
                                            "color": "#2a3f5f"
                                        },
                                        "geo": {
                                            "bgcolor": "white",
                                            "lakecolor": "white",
                                            "landcolor": "#E5ECF6",
                                            "showlakes": true,
                                            "showland": true,
                                            "subunitcolor": "white"
                                        },
                                        "hoverlabel": {
                                            "align": "left"
                                        },
                                        "hovermode": "closest",
                                        "mapbox": {
                                            "style": "light"
                                        },
                                        "paper_bgcolor": "white",
                                        "plot_bgcolor": "#E5ECF6",
                                        "polar": {
                                            "angularaxis": {
                                                "gridcolor": "white",
                                                "linecolor": "white",
                                                "ticks": ""
                                            },
                                            "bgcolor": "#E5ECF6",
                                            "radialaxis": {
                                                "gridcolor": "white",
                                                "linecolor": "white",
                                                "ticks": ""
                                            }
                                        },
                                        "scene": {
                                            "xaxis": {
                                                "backgroundcolor": "#E5ECF6",
                                                "gridcolor": "white",
                                                "gridwidth": 2,
                                                "linecolor": "white",
                                                "showbackground": true,
                                                "ticks": "",
                                                "zerolinecolor": "white"
                                            },
                                            "yaxis": {
                                                "backgroundcolor": "#E5ECF6",
                                                "gridcolor": "white",
                                                "gridwidth": 2,
                                                "linecolor": "white",
                                                "showbackground": true,
                                                "ticks": "",
                                                "zerolinecolor": "white"
                                            },
                                            "zaxis": {
                                                "backgroundcolor": "#E5ECF6",
                                                "gridcolor": "white",
                                                "gridwidth": 2,
                                                "linecolor": "white",
                                                "showbackground": true,
                                                "ticks": "",
                                                "zerolinecolor": "white"
                                            }
                                        },
                                        "shapedefaults": {
                                            "line": {
                                                "color": "#2a3f5f"
                                            }
                                        },
                                        "ternary": {
                                            "aaxis": {
                                                "gridcolor": "white",
                                                "linecolor": "white",
                                                "ticks": ""
                                            },
                                            "baxis": {
                                                "gridcolor": "white",
                                                "linecolor": "white",
                                                "ticks": ""
                                            },
                                            "bgcolor": "#E5ECF6",
                                            "caxis": {
                                                "gridcolor": "white",
                                                "linecolor": "white",
                                                "ticks": ""
                                            }
                                        },
                                        "title": {
                                            "x": 0.05
                                        },
                                        "xaxis": {
                                            "automargin": true,
                                            "gridcolor": "white",
                                            "linecolor": "white",
                                            "ticks": "",
                                            "title": {
                                                "standoff": 15
                                            },
                                            "zerolinecolor": "white",
                                            "zerolinewidth": 2
                                        },
                                        "yaxis": {
                                            "automargin": true,
                                            "gridcolor": "white",
                                            "linecolor": "white",
                                            "ticks": "",
                                            "title": {
                                                "standoff": 15
                                            },
                                            "zerolinecolor": "white",
                                            "zerolinewidth": 2
                                        }
                                    }
                                },
                                "title": {
                                    "text": "Intermediate Values Plot"
                                },
                                "xaxis": {
                                    "title": {
                                        "text": "Step"
                                    }
                                },
                                "yaxis": {
                                    "title": {
                                        "text": "Intermediate Value"
                                    }
                                }
                            }
                        }
                    },
                    "metadata": {},
                    "output_type": "display_data"
                }
            ],
            "source": [
                "# create graph directory for this model\n",
                "graph_path = pathlib.Path(\n",
                "    f\"../../figures/{mlp_params.MODEL_TYPE}/{mlp_params.MODEL_NAME}/{mlp_params.CELL_TYPE}/hyperparameter_optimization\"\n",
                ").resolve(strict=True)\n",
                "\n",
                "pathlib.Path(graph_path).mkdir(parents=True, exist_ok=True)\n",
                "fig = optuna.visualization.plot_intermediate_values(study)\n",
                "\n",
                "graph_path = f\"{graph_path}/plot_intermediate_values_graph\"\n",
                "\n",
                "fig.write_image(pathlib.Path(f\"{graph_path}.png\"))\n",
                "fig.show()"
            ]
        },
        {
            "cell_type": "code",
            "execution_count": 31,
            "id": "325a1ec3",
            "metadata": {
                "execution": {
                    "iopub.execute_input": "2023-10-18T18:17:37.971533Z",
                    "iopub.status.busy": "2023-10-18T18:17:37.971249Z",
                    "iopub.status.idle": "2023-10-18T18:17:37.974028Z",
                    "shell.execute_reply": "2023-10-18T18:17:37.973638Z"
                },
                "papermill": {
                    "duration": null,
                    "end_time": null,
                    "exception": null,
                    "start_time": null,
                    "status": "completed"
                },
                "tags": []
            },
            "outputs": [],
            "source": [
                "param_dict = extract_best_trial_params(\n",
                "    study.best_params, params, model_name=mlp_params.MODEL_NAME\n",
                ")"
            ]
        }
    ],
    "metadata": {
        "jupytext": {
            "cell_metadata_filter": "-all",
            "encoding": "# coding: utf-8",
            "executable": "/usr/bin/env python",
            "formats": "ipynb,py",
            "main_language": "python"
        },
        "kernelspec": {
            "display_name": "Python 3 (ipykernel)",
            "language": "python",
            "name": "python3"
        },
        "language_info": {
            "codemirror_mode": {
                "name": "ipython",
                "version": 3
            },
            "file_extension": ".py",
            "mimetype": "text/x-python",
            "name": "python",
            "nbconvert_exporter": "python",
            "pygments_lexer": "ipython3",
            "version": "3.10.12"
        },
        "papermill": {
            "default_parameters": {},
            "duration": 59.524284,
            "end_time": "2023-10-18T18:21:03.252265",
            "environment_variables": {},
            "exception": null,
            "input_path": "Hyperparameter_Optimization_model_binary.ipynb",
            "output_path": "Hyperparameter_Optimization_model_binary.ipynb",
            "parameters": {
                "CELL_TYPE": "PBMC",
                "CONTROL_NAME": "DMSO_0.100_%_DMSO_0.025_%",
                "MODEL_NAME": "DMSO_0.025_vs_Thapsigargin_10",
                "TREATMENT_NAME": "Thapsigargin_10.000_uM_DMSO_0.025_%"
            },
            "start_time": "2023-10-18T18:20:03.727981",
            "version": "2.4.0"
        },
        "vscode": {
            "interpreter": {
                "hash": "72ae02083a9ca7d143c492d1aec380c7bf553ec51bd66e90e72bba65228121b6"
            }
        }
    },
    "nbformat": 4,
    "nbformat_minor": 5
}
