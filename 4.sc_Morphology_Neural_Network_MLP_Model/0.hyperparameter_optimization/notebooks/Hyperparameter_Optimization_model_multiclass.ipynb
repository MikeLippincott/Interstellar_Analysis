{
    "cells": [
        {
            "attachments": {},
            "cell_type": "markdown",
            "id": "8e60628c",
            "metadata": {
                "papermill": {
                    "duration": 0.002385,
                    "end_time": "2023-10-18T18:20:04.868387",
                    "exception": false,
                    "start_time": "2023-10-18T18:20:04.866002",
                    "status": "completed"
                },
                "tags": []
            },
            "source": [
                "## Hyperparameter tuning via Optuna"
            ]
        },
        {
            "cell_type": "markdown",
            "id": "8fac71a5",
            "metadata": {
                "papermill": {
                    "duration": 0.001919,
                    "end_time": "2023-10-18T18:20:04.873048",
                    "exception": false,
                    "start_time": "2023-10-18T18:20:04.871129",
                    "status": "completed"
                },
                "tags": []
            },
            "source": [
                "### Being a binary model this notebook will be limited to predicting one class 1 or 0, yes or no.\n",
                "### Here I will be predicting if a cell received a treatment or not"
            ]
        },
        {
            "cell_type": "code",
            "execution_count": 1,
            "id": "860a61dd",
            "metadata": {
                "execution": {
                    "iopub.execute_input": "2023-10-18T18:20:04.878009Z",
                    "iopub.status.busy": "2023-10-18T18:20:04.877582Z",
                    "iopub.status.idle": "2023-10-18T18:20:08.479452Z",
                    "shell.execute_reply": "2023-10-18T18:20:08.478953Z"
                },
                "papermill": {
                    "duration": 3.605361,
                    "end_time": "2023-10-18T18:20:08.480497",
                    "exception": false,
                    "start_time": "2023-10-18T18:20:04.875136",
                    "status": "completed"
                },
                "tags": []
            },
            "outputs": [],
            "source": [
                "import pathlib\n",
                "import sys\n",
                "\n",
                "import numpy as np\n",
                "import optuna\n",
                "import pandas as pd\n",
                "import pyarrow.parquet as pq\n",
                "import toml\n",
                "import torch\n",
                "from sklearn import preprocessing\n",
                "\n",
                "sys.path.append(\"../..\")\n",
                "\n",
                "import argparse\n",
                "\n",
                "from MLP_utils.parameters import Parameters\n",
                "from MLP_utils.utils import (\n",
                "    Dataset_formatter,\n",
                "    data_split,\n",
                "    extract_best_trial_params,\n",
                "    objective_model_optimizer,\n",
                "    parameter_set,\n",
                "    plot_metric_vs_epoch,\n",
                "    results_output,\n",
                "    test_optimized_model,\n",
                "    train_optimized_model,\n",
                "    un_nest,\n",
                ")\n",
                "from sklearn.model_selection import train_test_split\n",
                "\n",
                "sys.path.append(\"../../..\")\n",
                "from utils.utils import df_stats"
            ]
        },
        {
            "cell_type": "code",
            "execution_count": 2,
            "id": "15fbe814",
            "metadata": {},
            "outputs": [],
            "source": [
                "# # set up the parser\n",
                "# parser = argparse.ArgumentParser(description=\"Run hyperparameter optimization\")\n",
                "# parser.add_argument(\n",
                "#     \"--cell_type\",\n",
                "#     type=str,\n",
                "#     default=\"all\",\n",
                "#     help=\"Cell type to run hyperparameter optimization for\",\n",
                "# )\n",
                "# parser.add_argument(\n",
                "#     \"--model_name\",\n",
                "#     type=str,\n",
                "#     default=\"all\",\n",
                "#     help=\"Model name to run hyperparameter optimization for\",\n",
                "# )\n",
                "\n",
                "# # parse arguments\n",
                "# args = parser.parse_args()\n",
                "\n",
                "# CELL_TYPE = args.cell_type\n",
                "# MODEL_NAME = args.model_name"
            ]
        },
        {
            "cell_type": "code",
            "execution_count": 3,
            "id": "e11185e6",
            "metadata": {},
            "outputs": [],
            "source": [
                "CELL_TYPE = \"PBMC\"\n",
                "MODEL_NAME = \"MultiClass_MLP\""
            ]
        },
        {
            "cell_type": "code",
            "execution_count": 4,
            "id": "394294ce",
            "metadata": {
                "execution": {
                    "iopub.execute_input": "2023-10-18T18:20:08.498713Z",
                    "iopub.status.busy": "2023-10-18T18:20:08.498501Z",
                    "iopub.status.idle": "2023-10-18T18:20:08.502638Z",
                    "shell.execute_reply": "2023-10-18T18:20:08.502299Z"
                },
                "papermill": {
                    "duration": 0.007175,
                    "end_time": "2023-10-18T18:20:08.503377",
                    "exception": false,
                    "start_time": "2023-10-18T18:20:08.496202",
                    "status": "completed"
                },
                "tags": []
            },
            "outputs": [],
            "source": [
                "ml_configs_file = pathlib.Path(\"../../MLP_utils/multi_class_config.toml\").resolve(\n",
                "    strict=True\n",
                ")\n",
                "ml_configs = toml.load(ml_configs_file)\n",
                "params = Parameters()\n",
                "mlp_params = parameter_set(params, ml_configs)\n",
                "\n",
                "# overwrite params via command line arguments from papermill\n",
                "mlp_params.CELL_TYPE = CELL_TYPE\n",
                "mlp_params.MODEL_NAME = MODEL_NAME\n",
                "MODEL_TYPE = mlp_params.MODEL_TYPE\n",
                "HYPERPARAMETER_BATCH_SIZE = mlp_params.HYPERPARAMETER_BATCH_SIZE"
            ]
        },
        {
            "cell_type": "code",
            "execution_count": 5,
            "id": "44baa945",
            "metadata": {
                "execution": {
                    "iopub.execute_input": "2023-10-18T18:20:08.507805Z",
                    "iopub.status.busy": "2023-10-18T18:20:08.507608Z"
                },
                "papermill": {
                    "duration": 54.581971,
                    "end_time": "2023-10-18T18:21:03.087265",
                    "exception": false,
                    "start_time": "2023-10-18T18:20:08.505294",
                    "status": "completed"
                },
                "tags": []
            },
            "outputs": [],
            "source": [
                "# Import Data\n",
                "# set data file path under pathlib path for multi-system use\n",
                "\n",
                "file_path = pathlib.Path(\n",
                "    f\"../../../data/{mlp_params.CELL_TYPE}_preprocessed_sc_norm.parquet\"\n",
                ").resolve(strict=True)\n",
                "\n",
                "df1 = pd.read_parquet(file_path)"
            ]
        },
        {
            "cell_type": "code",
            "execution_count": 6,
            "id": "e8ef96f3",
            "metadata": {},
            "outputs": [],
            "source": [
                "# get paths for toml files\n",
                "ground_truth_file_path = pathlib.Path(f\"../../MLP_utils/ground_truth.toml\").resolve(\n",
                "    strict=True\n",
                ")\n",
                "treatment_splits_file_path = pathlib.Path(f\"../../MLP_utils/splits.toml\").resolve(\n",
                "    strict=True\n",
                ")\n",
                "# read toml files\n",
                "ground_truth = toml.load(ground_truth_file_path)\n",
                "treatment_splits = toml.load(treatment_splits_file_path)"
            ]
        },
        {
            "cell_type": "code",
            "execution_count": 7,
            "id": "29c1f3cb",
            "metadata": {},
            "outputs": [],
            "source": [
                "# get information from toml files\n",
                "apoptosis_groups_list = ground_truth[\"Apoptosis\"][\"apoptosis_groups_list\"]\n",
                "pyroptosis_groups_list = ground_truth[\"Pyroptosis\"][\"pyroptosis_groups_list\"]\n",
                "healthy_groups_list = ground_truth[\"Healthy\"][\"healthy_groups_list\"]\n",
                "test_split_100 = treatment_splits[\"splits\"][\"data_splits_100\"]\n",
                "test_split_75 = treatment_splits[\"splits\"][\"data_splits_75\"]"
            ]
        },
        {
            "cell_type": "code",
            "execution_count": 8,
            "id": "159e2281",
            "metadata": {},
            "outputs": [
                {
                    "name": "stdout",
                    "output_type": "stream",
                    "text": [
                        "(8318723, 1219)\n",
                        "Data Subset Is On\n",
                        "Data is subset to 5000 per treatment group\n",
                        "(185000, 1219)\n"
                    ]
                }
            ],
            "source": [
                "np.random.seed(0)\n",
                "print(df1.shape)\n",
                "if mlp_params.DATA_SUBSET_OPTION == \"True\":\n",
                "    df1 = df1.groupby(\"oneb_Metadata_Treatment_Dose_Inhibitor_Dose\").apply(\n",
                "        lambda x: x.sample(n=mlp_params.DATA_SUBSET_NUMBER, random_state=0)\n",
                "    )\n",
                "    print(\"Data Subset Is On\")\n",
                "    print(f\"Data is subset to {mlp_params.DATA_SUBSET_NUMBER} per treatment group\")\n",
                "    print(df1.shape)\n",
                "    df1.reset_index(drop=True, inplace=True)\n",
                "else:\n",
                "    print(\"Data Subset Is Off\")"
            ]
        },
        {
            "cell_type": "code",
            "execution_count": 9,
            "id": "6a6ec3fa",
            "metadata": {},
            "outputs": [],
            "source": [
                "# add apoptosis, pyroptosis and healthy columns to dataframe\n",
                "df1[\"apoptosis\"] = df1.apply(\n",
                "    lambda row: row[\"oneb_Metadata_Treatment_Dose_Inhibitor_Dose\"]\n",
                "    in apoptosis_groups_list,\n",
                "    axis=1,\n",
                ")\n",
                "df1[\"pyroptosis\"] = df1.apply(\n",
                "    lambda row: row[\"oneb_Metadata_Treatment_Dose_Inhibitor_Dose\"]\n",
                "    in pyroptosis_groups_list,\n",
                "    axis=1,\n",
                ")\n",
                "df1[\"healthy\"] = df1.apply(\n",
                "    lambda row: row[\"oneb_Metadata_Treatment_Dose_Inhibitor_Dose\"]\n",
                "    in healthy_groups_list,\n",
                "    axis=1,\n",
                ")\n",
                "\n",
                "# merge apoptosis, pyroptosis, and healthy columns into one column\n",
                "df1[\"labels\"] = df1.apply(\n",
                "    lambda row: \"apoptosis\"\n",
                "    if row[\"apoptosis\"]\n",
                "    else \"pyroptosis\"\n",
                "    if row[\"pyroptosis\"]\n",
                "    else \"healthy\",\n",
                "    axis=1,\n",
                ")\n",
                "# drop apoptosis, pyroptosis, and healthy columns\n",
                "df1.drop(columns=[\"apoptosis\", \"pyroptosis\", \"healthy\"], inplace=True)"
            ]
        },
        {
            "cell_type": "markdown",
            "id": "3cb179dd",
            "metadata": {},
            "source": [
                "### Split said data"
            ]
        },
        {
            "cell_type": "code",
            "execution_count": 10,
            "id": "20568fd5",
            "metadata": {},
            "outputs": [
                {
                    "name": "stdout",
                    "output_type": "stream",
                    "text": [
                        "Wells held out for testing: ['J07' 'H12' 'M12' 'E12' 'E05' 'F10' 'G04' 'L10' 'M10' 'N05' 'H11' 'I11'\n",
                        " 'J11' 'K05' 'B03' 'C08' 'D02' 'E08' 'F02' 'G09' 'H08' 'I02' 'J02' 'K09'\n",
                        " 'M02' 'N08' 'O09' 'L08' 'B04' 'D10' 'C11' 'O04' 'D07' 'E07' 'N06' 'O06'\n",
                        " 'M07']\n",
                        "Wells to use for training, validation, and testing ['I07' 'J06' 'B06' 'C07' 'C06' 'B07' 'J07' 'I06' 'J12' 'C12' 'H12' 'O12'\n",
                        " 'F12' 'M12' 'K12' 'D12' 'G12' 'N12' 'L12' 'E12' 'E04' 'E05' 'E11' 'E10'\n",
                        " 'F11' 'F04' 'F05' 'F10' 'G10' 'G11' 'G04' 'G05' 'L05' 'L11' 'L04' 'L10'\n",
                        " 'M10' 'M11' 'M04' 'M05' 'N04' 'N11' 'N05' 'N10' 'H11' 'H04' 'H05' 'H10'\n",
                        " 'I10' 'I11' 'I05' 'I04' 'J10' 'J05' 'J11' 'J04' 'K05' 'K04' 'K10' 'K11'\n",
                        " 'B08' 'B03' 'B02' 'B09' 'C08' 'C09' 'C02' 'C03' 'D02' 'D03' 'D08' 'D09'\n",
                        " 'E08' 'E03' 'E02' 'E09' 'F09' 'F02' 'F08' 'F03' 'G02' 'G09' 'G03' 'G08'\n",
                        " 'H08' 'H02' 'H03' 'H09' 'I02' 'I03' 'I08' 'I09' 'J03' 'J09' 'J08' 'J02'\n",
                        " 'K02' 'K09' 'K08' 'K03' 'M02' 'M09' 'M03' 'M08' 'N02' 'N09' 'N03' 'N08'\n",
                        " 'O03' 'O08' 'O02' 'O09' 'L09' 'L03' 'L02' 'L08' 'B05' 'B04' 'B11' 'B10'\n",
                        " 'D04' 'D05' 'D11' 'D10' 'C11' 'C10' 'C04' 'C05' 'O05' 'I12' 'O11' 'O04'\n",
                        " 'O10' 'B12' 'K07' 'D07' 'D06' 'K06' 'L06' 'L07' 'E06' 'E07' 'G07' 'N06'\n",
                        " 'N07' 'G06' 'O06' 'H06' 'H07' 'O07' 'F06' 'M07' 'M06' 'F07']\n"
                    ]
                }
            ],
            "source": [
                "# randomly select wells to hold out for testing one per treatment group\n",
                "# stratified by treatment group\n",
                "np.random.seed(seed=0)\n",
                "wells_to_hold = (\n",
                "    df1.groupby(\"oneb_Metadata_Treatment_Dose_Inhibitor_Dose\")\n",
                "    .agg(np.random.choice)[\"Metadata_Well\"]\n",
                "    .to_list()\n",
                ")\n",
                "df_holdout = df1[df1[\"Metadata_Well\"].isin(wells_to_hold)]\n",
                "df = df1[~df1[\"Metadata_Well\"].isin(wells_to_hold)]\n",
                "\n",
                "\n",
                "print(\"Wells held out for testing:\", df_holdout[\"Metadata_Well\"].unique())\n",
                "print(\n",
                "    \"Wells to use for training, validation, and testing\", df1[\"Metadata_Well\"].unique()\n",
                ")"
            ]
        },
        {
            "cell_type": "code",
            "execution_count": 11,
            "id": "5a46d3a7",
            "metadata": {},
            "outputs": [
                {
                    "name": "stdout",
                    "output_type": "stream",
                    "text": [
                        "(18802, 1220) (7545, 1220) (112704, 1220)\n"
                    ]
                }
            ],
            "source": [
                "# variable test and train set splits\n",
                "# 100% test set\n",
                "# subset the following treatments for test set\n",
                "treatment_holdout = df[\n",
                "    df[\"oneb_Metadata_Treatment_Dose_Inhibitor_Dose\"].isin(test_split_100)\n",
                "]\n",
                "# 75% test set and 25% train set\n",
                "test_set_75 = df[df[\"oneb_Metadata_Treatment_Dose_Inhibitor_Dose\"].isin(test_split_75)]\n",
                "\n",
                "test_100_and_75 = test_split_100 + test_split_75\n",
                "\n",
                "# 50% test set and 50% train set\n",
                "# get all treatments that are not in the_test_set_all and the test_set_75\n",
                "test_set_50 = df[\n",
                "    ~df[\"oneb_Metadata_Treatment_Dose_Inhibitor_Dose\"].isin(test_100_and_75)\n",
                "]\n",
                "\n",
                "print(treatment_holdout.shape, test_set_75.shape, test_set_50.shape)"
            ]
        },
        {
            "cell_type": "code",
            "execution_count": 12,
            "id": "26b32963",
            "metadata": {},
            "outputs": [
                {
                    "name": "stdout",
                    "output_type": "stream",
                    "text": [
                        "Shape for the 100% test set: (18802, 1220)\n",
                        "\n",
                        "Shape for the 75% test set: (1886, 1220);\n",
                        "Shape for the 75% train set: (5659, 1220)\n",
                        "\n",
                        "Shape for the holdout set: (45949, 1220)\n"
                    ]
                }
            ],
            "source": [
                "# get the train test splits from each group\n",
                "# 100% test set\n",
                "treatment_holdout\n",
                "\n",
                "# 75% test set and 25% train set\n",
                "test_ratio = 0.75\n",
                "training_data_set_75, testing_data_set_75 = train_test_split(\n",
                "    test_set_75,\n",
                "    test_size=test_ratio,\n",
                "    stratify=test_set_75[\"oneb_Metadata_Treatment_Dose_Inhibitor_Dose\"],\n",
                "    random_state=0,\n",
                ")\n",
                "\n",
                "# 50% test set and 50% train set\n",
                "test_ratio = 0.5\n",
                "training_data_set_50, testing_data_set_50 = train_test_split(\n",
                "    test_set_50,\n",
                "    test_size=test_ratio,\n",
                "    stratify=test_set_50[\"oneb_Metadata_Treatment_Dose_Inhibitor_Dose\"],\n",
                "    random_state=0,\n",
                ")\n",
                "\n",
                "# verify that the correct splits have been made\n",
                "# 100% test set\n",
                "print(f\"Shape for the 100% test set: {treatment_holdout.shape}\\n\")\n",
                "\n",
                "# 75% test set and 25% train set\n",
                "print(\n",
                "    f\"Shape for the 75% test set: {training_data_set_75.shape};\\nShape for the 75% train set: {testing_data_set_75.shape}\\n\"\n",
                ")\n",
                "\n",
                "# 50% test set and 50% train set\n",
                "print(f\"Shape for the holdout set: {df_holdout.shape}\")"
            ]
        },
        {
            "cell_type": "code",
            "execution_count": 13,
            "id": "9bf407c4",
            "metadata": {},
            "outputs": [
                {
                    "name": "stdout",
                    "output_type": "stream",
                    "text": [
                        "\n",
                        "    Testing set length: 62011\n",
                        "\n",
                        "    Training set length: 46590\n",
                        "\n",
                        "    Validation set length: 11648\n",
                        "\n",
                        "    Treatment Holdout set length: 18802\n",
                        "\n",
                        "    Holdout set length: 45949\n"
                    ]
                }
            ],
            "source": [
                "treatment_holdout\n",
                "# combine all testing sets together while preserving the index\n",
                "testing_data_set = pd.concat([testing_data_set_75, testing_data_set_50], axis=0)\n",
                "testing_data_set = testing_data_set.sort_index()\n",
                "testing_data_set\n",
                "\n",
                "# combine all training sets together while preserving the index\n",
                "training_data_set = pd.concat([training_data_set_75, training_data_set_50], axis=0)\n",
                "training_data_set = training_data_set.sort_index()\n",
                "training_data_set\n",
                "\n",
                "training_data_set, val_data_set = train_test_split(\n",
                "    training_data_set,\n",
                "    test_size=0.20,\n",
                "    stratify=training_data_set[\"oneb_Metadata_Treatment_Dose_Inhibitor_Dose\"],\n",
                ")\n",
                "print(\n",
                "    f\"\"\"\n",
                "    Testing set length: {len(testing_data_set)}\\n\n",
                "    Training set length: {len(training_data_set)}\\n\n",
                "    Validation set length: {len(val_data_set)}\\n\n",
                "    Treatment Holdout set length: {len(treatment_holdout)}\\n\n",
                "    Holdout set length: {len(df_holdout)}\"\"\"\n",
                ")"
            ]
        },
        {
            "cell_type": "code",
            "execution_count": 14,
            "id": "5da1578c",
            "metadata": {},
            "outputs": [],
            "source": [
                "# get the indexes for the training and testing sets\n",
                "\n",
                "training_data_set_index = training_data_set.index\n",
                "val_data_set_index = val_data_set.index\n",
                "testing_data_set_index = testing_data_set.index\n",
                "treatment_holdout_index = treatment_holdout.index\n",
                "df_holdout_index = df_holdout.index"
            ]
        },
        {
            "cell_type": "code",
            "execution_count": 15,
            "id": "bce398ed",
            "metadata": {},
            "outputs": [
                {
                    "name": "stdout",
                    "output_type": "stream",
                    "text": [
                        "(46590,) (11648,) (62011,) (18802,) (45949,)\n",
                        "185000\n"
                    ]
                }
            ],
            "source": [
                "print(\n",
                "    training_data_set_index.shape,\n",
                "    val_data_set_index.shape,\n",
                "    testing_data_set_index.shape,\n",
                "    treatment_holdout_index.shape,\n",
                "    df_holdout_index.shape,\n",
                ")\n",
                "print(\n",
                "    training_data_set_index.shape[0]\n",
                "    + val_data_set_index.shape[0]\n",
                "    + testing_data_set_index.shape[0]\n",
                "    + treatment_holdout_index.shape[0]\n",
                "    + df_holdout_index.shape[0]\n",
                ")"
            ]
        },
        {
            "cell_type": "code",
            "execution_count": 16,
            "id": "ad856f53",
            "metadata": {},
            "outputs": [
                {
                    "data": {
                        "text/html": [
                            "<div>\n",
                            "<style scoped>\n",
                            "    .dataframe tbody tr th:only-of-type {\n",
                            "        vertical-align: middle;\n",
                            "    }\n",
                            "\n",
                            "    .dataframe tbody tr th {\n",
                            "        vertical-align: top;\n",
                            "    }\n",
                            "\n",
                            "    .dataframe thead th {\n",
                            "        text-align: right;\n",
                            "    }\n",
                            "</style>\n",
                            "<table border=\"1\" class=\"dataframe\">\n",
                            "  <thead>\n",
                            "    <tr style=\"text-align: right;\">\n",
                            "      <th></th>\n",
                            "      <th>labeled_data_index</th>\n",
                            "      <th>label</th>\n",
                            "    </tr>\n",
                            "  </thead>\n",
                            "  <tbody>\n",
                            "    <tr>\n",
                            "      <th>0</th>\n",
                            "      <td>55924</td>\n",
                            "      <td>train</td>\n",
                            "    </tr>\n",
                            "    <tr>\n",
                            "      <th>1</th>\n",
                            "      <td>167731</td>\n",
                            "      <td>train</td>\n",
                            "    </tr>\n",
                            "    <tr>\n",
                            "      <th>2</th>\n",
                            "      <td>107436</td>\n",
                            "      <td>train</td>\n",
                            "    </tr>\n",
                            "    <tr>\n",
                            "      <th>3</th>\n",
                            "      <td>163403</td>\n",
                            "      <td>train</td>\n",
                            "    </tr>\n",
                            "    <tr>\n",
                            "      <th>4</th>\n",
                            "      <td>87494</td>\n",
                            "      <td>train</td>\n",
                            "    </tr>\n",
                            "    <tr>\n",
                            "      <th>...</th>\n",
                            "      <td>...</td>\n",
                            "      <td>...</td>\n",
                            "    </tr>\n",
                            "    <tr>\n",
                            "      <th>184995</th>\n",
                            "      <td>184986</td>\n",
                            "      <td>holdout</td>\n",
                            "    </tr>\n",
                            "    <tr>\n",
                            "      <th>184996</th>\n",
                            "      <td>184987</td>\n",
                            "      <td>holdout</td>\n",
                            "    </tr>\n",
                            "    <tr>\n",
                            "      <th>184997</th>\n",
                            "      <td>184988</td>\n",
                            "      <td>holdout</td>\n",
                            "    </tr>\n",
                            "    <tr>\n",
                            "      <th>184998</th>\n",
                            "      <td>184989</td>\n",
                            "      <td>holdout</td>\n",
                            "    </tr>\n",
                            "    <tr>\n",
                            "      <th>184999</th>\n",
                            "      <td>184995</td>\n",
                            "      <td>holdout</td>\n",
                            "    </tr>\n",
                            "  </tbody>\n",
                            "</table>\n",
                            "<p>185000 rows × 2 columns</p>\n",
                            "</div>"
                        ],
                        "text/plain": [
                            "        labeled_data_index    label\n",
                            "0                    55924    train\n",
                            "1                   167731    train\n",
                            "2                   107436    train\n",
                            "3                   163403    train\n",
                            "4                    87494    train\n",
                            "...                    ...      ...\n",
                            "184995              184986  holdout\n",
                            "184996              184987  holdout\n",
                            "184997              184988  holdout\n",
                            "184998              184989  holdout\n",
                            "184999              184995  holdout\n",
                            "\n",
                            "[185000 rows x 2 columns]"
                        ]
                    },
                    "execution_count": 16,
                    "metadata": {},
                    "output_type": "execute_result"
                }
            ],
            "source": [
                "# create pandas dataframe with all indexes and their respective labels, stratified by phenotypic class\n",
                "index_data = []\n",
                "for index in training_data_set_index:\n",
                "    index_data.append({\"labeled_data_index\": index, \"label\": \"train\"})\n",
                "for index in val_data_set_index:\n",
                "    index_data.append({\"labeled_data_index\": index, \"label\": \"val\"})\n",
                "for index in testing_data_set_index:\n",
                "    index_data.append({\"labeled_data_index\": index, \"label\": \"test\"})\n",
                "for index in treatment_holdout_index:\n",
                "    index_data.append({\"labeled_data_index\": index, \"label\": \"treatment_holdout\"})\n",
                "for index in df_holdout_index:\n",
                "    index_data.append({\"labeled_data_index\": index, \"label\": \"holdout\"})\n",
                "\n",
                "# make index data a dataframe and sort it by labeled data index\n",
                "index_data = pd.DataFrame(index_data)\n",
                "index_data"
            ]
        },
        {
            "cell_type": "code",
            "execution_count": 17,
            "id": "70798091",
            "metadata": {},
            "outputs": [
                {
                    "data": {
                        "text/plain": [
                            "array(['train', 'val', 'test', 'treatment_holdout', 'holdout'],\n",
                            "      dtype=object)"
                        ]
                    },
                    "execution_count": 17,
                    "metadata": {},
                    "output_type": "execute_result"
                }
            ],
            "source": [
                "index_data[\"label\"].unique()"
            ]
        },
        {
            "cell_type": "code",
            "execution_count": 18,
            "id": "931ee871",
            "metadata": {},
            "outputs": [
                {
                    "name": "stdout",
                    "output_type": "stream",
                    "text": [
                        "../indexes/PBMC/multi_class\n"
                    ]
                }
            ],
            "source": [
                "save_path = pathlib.Path(f\"../indexes/{CELL_TYPE}/multi_class/\")\n",
                "\n",
                "print(save_path)\n",
                "# create save path if it doesn't exist\n",
                "save_path.mkdir(parents=True, exist_ok=True)"
            ]
        },
        {
            "cell_type": "code",
            "execution_count": 19,
            "id": "686d1a5d",
            "metadata": {},
            "outputs": [],
            "source": [
                "# save indexes as tsv file\n",
                "index_data.to_csv(\n",
                "    f\"{save_path}/{params.MODEL_NAME}_data_split_indexes.tsv\", sep=\"\\t\", index=False\n",
                ")"
            ]
        },
        {
            "attachments": {},
            "cell_type": "markdown",
            "id": "5c486e00",
            "metadata": {
                "papermill": {
                    "duration": null,
                    "end_time": null,
                    "exception": null,
                    "start_time": null,
                    "status": "completed"
                },
                "tags": []
            },
            "source": [
                "#### Set up Data to be compatible with model"
            ]
        },
        {
            "attachments": {},
            "cell_type": "markdown",
            "id": "95754baa",
            "metadata": {
                "papermill": {
                    "duration": null,
                    "end_time": null,
                    "exception": null,
                    "start_time": null,
                    "status": "completed"
                },
                "tags": []
            },
            "source": [
                "##### Classification Models:\n",
                "Comment out code if using regression"
            ]
        },
        {
            "cell_type": "code",
            "execution_count": 20,
            "id": "786e3a76",
            "metadata": {
                "execution": {
                    "iopub.execute_input": "2023-10-18T18:19:56.707754Z",
                    "iopub.status.busy": "2023-10-18T18:19:56.707475Z",
                    "iopub.status.idle": "2023-10-18T18:19:56.711213Z",
                    "shell.execute_reply": "2023-10-18T18:19:56.710882Z"
                },
                "papermill": {
                    "duration": null,
                    "end_time": null,
                    "exception": null,
                    "start_time": null,
                    "status": "completed"
                },
                "tags": []
            },
            "outputs": [],
            "source": [
                "# Code snippet for metadata extraction by Jenna Tomkinson\n",
                "df_metadata = list(df.columns[df.columns.str.contains(\"Metadata\")])\n",
                "\n",
                "# define which columns are data and which are descriptive\n",
                "df_descriptive = df1[df_metadata]\n",
                "df_values = df1.drop(columns=df_metadata)"
            ]
        },
        {
            "cell_type": "code",
            "execution_count": 21,
            "id": "5a354640",
            "metadata": {},
            "outputs": [
                {
                    "name": "stdout",
                    "output_type": "stream",
                    "text": [
                        "['apoptosis' 'healthy' 'pyroptosis'] [10000 85000 90000]\n",
                        "[0, 1, 2] [0.9459459459459459, 0.5405405405405406, 0.5135135135135135]\n"
                    ]
                }
            ],
            "source": [
                "# get the class weights for the loss function to account for class imbalance\n",
                "# get the number of samples in each class\n",
                "targets, counts = np.unique(df1[\"labels\"], return_counts=True)\n",
                "print(targets, counts)\n",
                "total_counts = np.sum(counts)\n",
                "# get the class weights\n",
                "class_weights = []\n",
                "class_targets = []\n",
                "for class_name in enumerate(targets):\n",
                "    class_targets.append(class_name[0])\n",
                "for count in enumerate(counts):\n",
                "    class_weights.append(1 - (count[1] / total_counts))\n",
                "print(class_targets, class_weights)\n",
                "# write the class weights to a file for use in the model\n",
                "class_weights_file = pathlib.Path(f\"../class_weights/{CELL_TYPE}/multi_class/\")\n",
                "class_weights_file.mkdir(parents=True, exist_ok=True)\n",
                "with open(f\"{class_weights_file}/class_weights.txt\", \"w\") as filehandle:\n",
                "    for listitem in class_weights:\n",
                "        filehandle.write(\"%s\\n\" % listitem)"
            ]
        },
        {
            "cell_type": "code",
            "execution_count": 22,
            "id": "595afb65",
            "metadata": {
                "execution": {
                    "iopub.execute_input": "2023-10-18T18:19:56.717727Z",
                    "iopub.status.busy": "2023-10-18T18:19:56.717549Z",
                    "iopub.status.idle": "2023-10-18T18:19:56.720945Z",
                    "shell.execute_reply": "2023-10-18T18:19:56.720676Z"
                },
                "papermill": {
                    "duration": null,
                    "end_time": null,
                    "exception": null,
                    "start_time": null,
                    "status": "completed"
                },
                "tags": []
            },
            "outputs": [
                {
                    "data": {
                        "text/plain": [
                            "array([1, 2, 0])"
                        ]
                    },
                    "execution_count": 22,
                    "metadata": {},
                    "output_type": "execute_result"
                }
            ],
            "source": [
                "# Creating label encoder\n",
                "le = preprocessing.LabelEncoder()\n",
                "df_values[\"new_labels\"] = le.fit_transform(df_values[\"labels\"])\n",
                "# get mini dataframe that contains the decoder\n",
                "decoder = df_values[[\"labels\", \"new_labels\"]].drop_duplicates()\n",
                "# split into X and Y where Y are the predictive column and x are the observable data\n",
                "df_values_X = df_values.drop(\n",
                "    [\"new_labels\", \"labels\"],\n",
                "    axis=1,\n",
                ")\n",
                "df_values_Y = df_values[\"new_labels\"]\n",
                "df_values_Y.head()\n",
                "df_values_Y.unique()"
            ]
        },
        {
            "attachments": {},
            "cell_type": "markdown",
            "id": "260a048e",
            "metadata": {
                "papermill": {
                    "duration": null,
                    "end_time": null,
                    "exception": null,
                    "start_time": null,
                    "status": "completed"
                },
                "tags": []
            },
            "source": [
                "#### Split Data - All Models can proceed through this point"
            ]
        },
        {
            "cell_type": "code",
            "execution_count": 23,
            "id": "b5b6d4fa",
            "metadata": {},
            "outputs": [],
            "source": [
                "# split into train and test sets from indexes previously defined\n",
                "\n",
                "X_train = df_values_X.loc[training_data_set_index]\n",
                "X_val = df_values_X.loc[val_data_set_index]\n",
                "X_test = df_values_X.loc[testing_data_set_index]\n",
                "X_holdout = df_values_X.loc[df_holdout_index]\n",
                "X_treatment_holdout = df_values_X.loc[treatment_holdout_index]\n",
                "\n",
                "Y_train = df_values_Y.loc[training_data_set_index]\n",
                "Y_val = df_values_Y.loc[val_data_set_index]\n",
                "Y_test = df_values_Y.loc[testing_data_set_index]\n",
                "Y_holdout = df_values_Y.loc[df_holdout_index]\n",
                "Y_treatment_holdout = df_values_Y.loc[treatment_holdout_index]"
            ]
        },
        {
            "cell_type": "code",
            "execution_count": 24,
            "id": "ae525b7d",
            "metadata": {},
            "outputs": [
                {
                    "data": {
                        "text/plain": [
                            "3"
                        ]
                    },
                    "execution_count": 24,
                    "metadata": {},
                    "output_type": "execute_result"
                }
            ],
            "source": [
                "mlp_params.OUT_FEATURES = len(df_values_Y.unique())\n",
                "mlp_params.OUT_FEATURES"
            ]
        },
        {
            "cell_type": "code",
            "execution_count": 25,
            "id": "9ab7a090",
            "metadata": {},
            "outputs": [],
            "source": [
                "Y_train = torch.tensor(Y_train.values)\n",
                "Y_train = torch.nn.functional.one_hot(\n",
                "    Y_train, num_classes=mlp_params.OUT_FEATURES\n",
                ").float()\n",
                "\n",
                "Y_val = torch.tensor(Y_val.values)\n",
                "Y_val = torch.nn.functional.one_hot(Y_val, num_classes=mlp_params.OUT_FEATURES).float()\n",
                "\n",
                "Y_test = torch.tensor(Y_test.values)\n",
                "Y_test = torch.nn.functional.one_hot(\n",
                "    Y_test, num_classes=mlp_params.OUT_FEATURES\n",
                ").float()\n",
                "\n",
                "Y_holdout = torch.tensor(Y_holdout.values)\n",
                "Y_holdout = torch.nn.functional.one_hot(\n",
                "    Y_holdout, num_classes=mlp_params.OUT_FEATURES\n",
                ").float()\n",
                "\n",
                "Y_treatment_holdout = torch.tensor(Y_treatment_holdout.values)\n",
                "Y_treatment_holdout = torch.nn.functional.one_hot(\n",
                "    Y_treatment_holdout, num_classes=mlp_params.OUT_FEATURES\n",
                ").float()\n",
                "\n",
                "# convert the X dataframes to tensors\n",
                "X_train = torch.tensor(X_train.values)\n",
                "X_val = torch.tensor(X_val.values)\n",
                "X_test = torch.tensor(X_test.values)\n",
                "X_holdout = torch.tensor(X_holdout.values)\n",
                "X_treatment_holdout = torch.tensor(X_treatment_holdout.values)"
            ]
        },
        {
            "cell_type": "code",
            "execution_count": 26,
            "id": "3c4e1896",
            "metadata": {},
            "outputs": [],
            "source": [
                "# produce data objects for train, val and test datasets\n",
                "train_data = torch.utils.data.TensorDataset(X_train, Y_train)\n",
                "val_data = torch.utils.data.TensorDataset(X_val, Y_val)\n",
                "test_data = torch.utils.data.TensorDataset(X_test, Y_test)"
            ]
        },
        {
            "cell_type": "code",
            "execution_count": 27,
            "id": "4382d712",
            "metadata": {
                "execution": {
                    "iopub.execute_input": "2023-10-18T18:16:16.631025Z",
                    "iopub.status.busy": "2023-10-18T18:16:16.630857Z",
                    "iopub.status.idle": "2023-10-18T18:16:16.634504Z",
                    "shell.execute_reply": "2023-10-18T18:16:16.634156Z"
                },
                "papermill": {
                    "duration": null,
                    "end_time": null,
                    "exception": null,
                    "start_time": null,
                    "status": "completed"
                },
                "tags": []
            },
            "outputs": [
                {
                    "name": "stdout",
                    "output_type": "stream",
                    "text": [
                        "Number of in features:  1194\n",
                        "Number of out features:  3\n",
                        "Multi_Class\n"
                    ]
                }
            ],
            "source": [
                "mlp_params.IN_FEATURES = X_train.shape[1]\n",
                "print(\"Number of in features: \", mlp_params.IN_FEATURES)\n",
                "if mlp_params.MODEL_TYPE == \"Regression\":\n",
                "    mlp_params.OUT_FEATURES = 1\n",
                "else:\n",
                "    mlp_params.OUT_FEATURES = len(df_values[\"labels\"].unique())\n",
                "\n",
                "print(\"Number of out features: \", mlp_params.OUT_FEATURES)\n",
                "\n",
                "if mlp_params.OUT_FEATURES > 2:\n",
                "    mlp_params.MODEL_TYPE = \"Multi_Class\"\n",
                "elif mlp_params.OUT_FEATURES == 2:\n",
                "    mlp_params.OUT_FEATURES = mlp_params.OUT_FEATURES - 1\n",
                "    mlp_params.MODEL_TYPE = \"Binary_Classification\"\n",
                "elif mlp_params.OUT_FEATURES == 1:\n",
                "    mlp_params.MODEL_TYPE = \"Regression\"\n",
                "else:\n",
                "    pass\n",
                "print(mlp_params.MODEL_TYPE)"
            ]
        },
        {
            "cell_type": "code",
            "execution_count": 28,
            "id": "77effa5c",
            "metadata": {
                "execution": {
                    "iopub.execute_input": "2023-10-18T18:16:16.642779Z",
                    "iopub.status.busy": "2023-10-18T18:16:16.642487Z",
                    "iopub.status.idle": "2023-10-18T18:16:16.645220Z",
                    "shell.execute_reply": "2023-10-18T18:16:16.644897Z"
                },
                "papermill": {
                    "duration": null,
                    "end_time": null,
                    "exception": null,
                    "start_time": null,
                    "status": "completed"
                },
                "tags": []
            },
            "outputs": [],
            "source": [
                "# convert data class into a dataloader to be compatible with pytorch\n",
                "train_loader = torch.utils.data.DataLoader(\n",
                "    dataset=train_data, batch_size=mlp_params.HYPERPARAMETER_BATCH_SIZE, shuffle=True\n",
                ")\n",
                "valid_loader = torch.utils.data.DataLoader(\n",
                "    dataset=val_data, batch_size=mlp_params.HYPERPARAMETER_BATCH_SIZE, shuffle=False\n",
                ")"
            ]
        },
        {
            "cell_type": "code",
            "execution_count": 29,
            "id": "f471da39",
            "metadata": {},
            "outputs": [
                {
                    "data": {
                        "text/plain": [
                            "3"
                        ]
                    },
                    "execution_count": 29,
                    "metadata": {},
                    "output_type": "execute_result"
                }
            ],
            "source": [
                "mlp_params.OUT_FEATURES"
            ]
        },
        {
            "cell_type": "code",
            "execution_count": 30,
            "id": "cb7635c8",
            "metadata": {
                "execution": {
                    "iopub.execute_input": "2023-10-18T18:16:16.653709Z",
                    "iopub.status.busy": "2023-10-18T18:16:16.653361Z",
                    "iopub.status.idle": "2023-10-18T18:16:16.655989Z",
                    "shell.execute_reply": "2023-10-18T18:16:16.655583Z"
                },
                "papermill": {
                    "duration": null,
                    "end_time": null,
                    "exception": null,
                    "start_time": null,
                    "status": "completed"
                },
                "tags": []
            },
            "outputs": [
                {
                    "name": "stdout",
                    "output_type": "stream",
                    "text": [
                        "cuda\n"
                    ]
                }
            ],
            "source": [
                "# check device\n",
                "print(mlp_params.DEVICE)"
            ]
        },
        {
            "cell_type": "code",
            "execution_count": 31,
            "id": "a969042f",
            "metadata": {
                "execution": {
                    "iopub.execute_input": "2023-10-18T18:16:16.663986Z",
                    "iopub.status.busy": "2023-10-18T18:16:16.663699Z",
                    "iopub.status.idle": "2023-10-18T18:17:37.283791Z",
                    "shell.execute_reply": "2023-10-18T18:17:37.283496Z"
                },
                "papermill": {
                    "duration": null,
                    "end_time": null,
                    "exception": null,
                    "start_time": null,
                    "status": "completed"
                },
                "tags": []
            },
            "outputs": [
                {
                    "name": "stderr",
                    "output_type": "stream",
                    "text": [
                        "[I 2024-03-31 11:54:03,778] A new study created in memory with name: no-name-0a9de885-6e17-4abf-9301-ae9bff0fa126\n",
                        "[I 2024-03-31 11:54:43,723] Trial 0 finished with value: 0.5238072275122007 and parameters: {'n_layers': 10, 'n_units_l0': 23, 'dropout_0': 0.10732407538412014, 'n_units_l1': 41, 'dropout_1': 0.3549014166592913, 'n_units_l2': 12, 'dropout_2': 0.335341595685375, 'n_units_l3': 33, 'dropout_3': 0.17177346385777262, 'n_units_l4': 10, 'dropout_4': 0.1296385868115958, 'n_units_l5': 35, 'dropout_5': 0.11494400084081846, 'n_units_l6': 32, 'dropout_6': 0.35298507484063124, 'n_units_l7': 26, 'dropout_7': 0.27934422599377906, 'n_units_l8': 43, 'dropout_8': 0.3334516672216663, 'n_units_l9': 8, 'dropout_9': 0.36143297149209663, 'learning_rate': 0.09689966100565417, 'optimizer': 'Adam'}. Best is trial 0 with value: 0.5238072275122007.\n",
                        "[I 2024-03-31 11:55:19,223] Trial 1 finished with value: 0.5256906988720099 and parameters: {'n_layers': 8, 'n_units_l0': 39, 'dropout_0': 0.33962251678983857, 'n_units_l1': 49, 'dropout_1': 0.2510624050579376, 'n_units_l2': 4, 'dropout_2': 0.2595177144619951, 'n_units_l3': 20, 'dropout_3': 0.19309218049816815, 'n_units_l4': 49, 'dropout_4': 0.3539917639833047, 'n_units_l5': 32, 'dropout_5': 0.2321803110909542, 'n_units_l6': 40, 'dropout_6': 0.12722387616775327, 'n_units_l7': 36, 'dropout_7': 0.39407651452299275, 'learning_rate': 0.029665782880728755, 'optimizer': 'SGD'}. Best is trial 0 with value: 0.5238072275122007.\n",
                        "[I 2024-03-31 11:55:56,128] Trial 2 finished with value: 0.5241831429799398 and parameters: {'n_layers': 12, 'n_units_l0': 22, 'dropout_0': 0.1789600723494164, 'n_units_l1': 45, 'dropout_1': 0.3800718529814575, 'n_units_l2': 44, 'dropout_2': 0.21054017213225465, 'n_units_l3': 39, 'dropout_3': 0.19472401806226322, 'n_units_l4': 17, 'dropout_4': 0.2378274048061258, 'n_units_l5': 19, 'dropout_5': 0.10222313168120516, 'n_units_l6': 8, 'dropout_6': 0.3295677532283343, 'n_units_l7': 5, 'dropout_7': 0.2542729898338688, 'n_units_l8': 9, 'dropout_8': 0.23853726390275468, 'n_units_l9': 16, 'dropout_9': 0.14946865446686408, 'n_units_l10': 4, 'dropout_10': 0.3802548518973934, 'n_units_l11': 27, 'dropout_11': 0.19763390084086419, 'learning_rate': 0.02422406088789473, 'optimizer': 'SGD'}. Best is trial 0 with value: 0.5238072275122007.\n",
                        "[I 2024-03-31 11:56:30,930] Trial 3 finished with value: 0.453693675895532 and parameters: {'n_layers': 3, 'n_units_l0': 36, 'dropout_0': 0.10814625352158824, 'n_units_l1': 2, 'dropout_1': 0.1982307930916302, 'n_units_l2': 3, 'dropout_2': 0.11161555568021793, 'learning_rate': 0.04772688445310615, 'optimizer': 'Adam'}. Best is trial 3 with value: 0.453693675895532.\n",
                        "[I 2024-03-31 11:57:06,743] Trial 4 finished with value: 0.523591994891564 and parameters: {'n_layers': 6, 'n_units_l0': 29, 'dropout_0': 0.12364931007050574, 'n_units_l1': 14, 'dropout_1': 0.1737323105938834, 'n_units_l2': 4, 'dropout_2': 0.11590262718840341, 'n_units_l3': 33, 'dropout_3': 0.3127495815627409, 'n_units_l4': 49, 'dropout_4': 0.2914189993388718, 'n_units_l5': 36, 'dropout_5': 0.1760363683572165, 'learning_rate': 0.06793690068264499, 'optimizer': 'Adam'}. Best is trial 3 with value: 0.453693675895532.\n",
                        "[I 2024-03-31 11:57:40,481] Trial 5 finished with value: 0.394623159368833 and parameters: {'n_layers': 1, 'n_units_l0': 46, 'dropout_0': 0.12711666829525942, 'learning_rate': 0.04205725115568117, 'optimizer': 'SGD'}. Best is trial 5 with value: 0.394623159368833.\n",
                        "[I 2024-03-31 11:57:41,303] Trial 6 pruned. \n",
                        "[I 2024-03-31 11:57:42,054] Trial 7 pruned. \n",
                        "[I 2024-03-31 11:57:42,759] Trial 8 pruned. \n",
                        "[I 2024-03-31 11:57:43,472] Trial 9 pruned. \n",
                        "[I 2024-03-31 11:58:17,865] Trial 10 finished with value: 0.4933094806969166 and parameters: {'n_layers': 2, 'n_units_l0': 49, 'dropout_0': 0.3709073271741451, 'n_units_l1': 23, 'dropout_1': 0.1292156642938006, 'learning_rate': 0.058301096539682094, 'optimizer': 'RMSprop'}. Best is trial 5 with value: 0.394623159368833.\n",
                        "[I 2024-03-31 11:58:18,619] Trial 11 pruned. \n",
                        "[I 2024-03-31 11:58:19,304] Trial 12 pruned. \n",
                        "[I 2024-03-31 11:58:53,283] Trial 13 finished with value: 0.4307182825605074 and parameters: {'n_layers': 1, 'n_units_l0': 2, 'dropout_0': 0.1015020519168485, 'learning_rate': 0.04443245604523765, 'optimizer': 'Adam'}. Best is trial 5 with value: 0.394623159368833.\n",
                        "[I 2024-03-31 11:59:27,170] Trial 14 finished with value: 0.416173525651296 and parameters: {'n_layers': 1, 'n_units_l0': 2, 'dropout_0': 0.18131870777462455, 'learning_rate': 0.03631481365963951, 'optimizer': 'Adam'}. Best is trial 5 with value: 0.394623159368833.\n",
                        "[I 2024-03-31 11:59:27,948] Trial 15 pruned. \n",
                        "[I 2024-03-31 12:00:03,308] Trial 16 finished with value: 0.4085415351390838 and parameters: {'n_layers': 5, 'n_units_l0': 12, 'dropout_0': 0.15534358935965664, 'n_units_l1': 37, 'dropout_1': 0.39094444129207057, 'n_units_l2': 39, 'dropout_2': 0.18160446445022918, 'n_units_l3': 15, 'dropout_3': 0.2728687823795777, 'n_units_l4': 38, 'dropout_4': 0.18896558871788993, 'learning_rate': 0.011362557706231936, 'optimizer': 'Adam'}. Best is trial 5 with value: 0.394623159368833.\n",
                        "[I 2024-03-31 12:00:04,076] Trial 17 pruned. \n",
                        "[I 2024-03-31 12:00:40,825] Trial 18 finished with value: 0.4538213170568149 and parameters: {'n_layers': 9, 'n_units_l0': 12, 'dropout_0': 0.21651721300858234, 'n_units_l1': 28, 'dropout_1': 0.31487747160072344, 'n_units_l2': 49, 'dropout_2': 0.21688536624314161, 'n_units_l3': 13, 'dropout_3': 0.3200656705705623, 'n_units_l4': 37, 'dropout_4': 0.11150337493372882, 'n_units_l5': 50, 'dropout_5': 0.31604094345208683, 'n_units_l6': 21, 'dropout_6': 0.3987065128341567, 'n_units_l7': 3, 'dropout_7': 0.10209532990115741, 'n_units_l8': 5, 'dropout_8': 0.12910101157645748, 'learning_rate': 0.016186286952031906, 'optimizer': 'Adam'}. Best is trial 5 with value: 0.394623159368833.\n",
                        "[I 2024-03-31 12:01:15,811] Trial 19 finished with value: 0.3893652445077896 and parameters: {'n_layers': 4, 'n_units_l0': 9, 'dropout_0': 0.14282605482621488, 'n_units_l1': 18, 'dropout_1': 0.25081971032545025, 'n_units_l2': 37, 'dropout_2': 0.1643976406053592, 'n_units_l3': 12, 'dropout_3': 0.23145830398501194, 'learning_rate': 0.002581499208474173, 'optimizer': 'RMSprop'}. Best is trial 19 with value: 0.3893652445077896.\n",
                        "[I 2024-03-31 12:01:50,534] Trial 20 finished with value: 0.390595313111941 and parameters: {'n_layers': 3, 'n_units_l0': 8, 'dropout_0': 0.14106964123301474, 'n_units_l1': 17, 'dropout_1': 0.24052961352833138, 'n_units_l2': 32, 'dropout_2': 0.15570282584959041, 'learning_rate': 0.003223040637258911, 'optimizer': 'RMSprop'}. Best is trial 19 with value: 0.3893652445077896.\n",
                        "[I 2024-03-31 12:02:25,249] Trial 21 finished with value: 0.3896437821288903 and parameters: {'n_layers': 3, 'n_units_l0': 7, 'dropout_0': 0.1435788559089557, 'n_units_l1': 17, 'dropout_1': 0.2453454174109756, 'n_units_l2': 33, 'dropout_2': 0.15230622308921637, 'learning_rate': 0.0004048955002383253, 'optimizer': 'RMSprop'}. Best is trial 19 with value: 0.3893652445077896.\n",
                        "[I 2024-03-31 12:02:59,484] Trial 22 finished with value: 0.38669795528054235 and parameters: {'n_layers': 3, 'n_units_l0': 8, 'dropout_0': 0.14579225355056022, 'n_units_l1': 17, 'dropout_1': 0.23568817848889623, 'n_units_l2': 32, 'dropout_2': 0.1594718223168829, 'learning_rate': 0.002382829316887547, 'optimizer': 'RMSprop'}. Best is trial 22 with value: 0.38669795528054235.\n",
                        "[I 2024-03-31 12:03:00,247] Trial 23 pruned. \n",
                        "[I 2024-03-31 12:03:00,949] Trial 24 pruned. \n",
                        "[I 2024-03-31 12:03:35,434] Trial 25 finished with value: 0.39555537497003873 and parameters: {'n_layers': 3, 'n_units_l0': 7, 'dropout_0': 0.13229514227004635, 'n_units_l1': 23, 'dropout_1': 0.22417604841242353, 'n_units_l2': 33, 'dropout_2': 0.14399486079831778, 'learning_rate': 0.006376829714007078, 'optimizer': 'RMSprop'}. Best is trial 22 with value: 0.38669795528054235.\n",
                        "[I 2024-03-31 12:03:36,133] Trial 26 pruned. \n",
                        "[I 2024-03-31 12:04:11,130] Trial 27 finished with value: 0.4034333918491999 and parameters: {'n_layers': 4, 'n_units_l0': 9, 'dropout_0': 0.2410352488821043, 'n_units_l1': 26, 'dropout_1': 0.2101571305652565, 'n_units_l2': 36, 'dropout_2': 0.16706197227108455, 'n_units_l3': 50, 'dropout_3': 0.22200417608843512, 'learning_rate': 0.00873721527233194, 'optimizer': 'RMSprop'}. Best is trial 22 with value: 0.38669795528054235.\n",
                        "[I 2024-03-31 12:04:45,152] Trial 28 finished with value: 0.39426790575186416 and parameters: {'n_layers': 2, 'n_units_l0': 5, 'dropout_0': 0.19572967258658752, 'n_units_l1': 13, 'dropout_1': 0.2265642093705345, 'learning_rate': 0.006307265959033477, 'optimizer': 'RMSprop'}. Best is trial 22 with value: 0.38669795528054235.\n",
                        "[I 2024-03-31 12:04:46,009] Trial 29 pruned. \n",
                        "[I 2024-03-31 12:04:46,666] Trial 30 pruned. \n",
                        "[I 2024-03-31 12:05:21,704] Trial 31 finished with value: 0.39299730395277344 and parameters: {'n_layers': 3, 'n_units_l0': 9, 'dropout_0': 0.1427658389148677, 'n_units_l1': 16, 'dropout_1': 0.23881336266821201, 'n_units_l2': 33, 'dropout_2': 0.16423876925272518, 'learning_rate': 0.005593667064948295, 'optimizer': 'RMSprop'}. Best is trial 22 with value: 0.38669795528054235.\n",
                        "[I 2024-03-31 12:05:22,427] Trial 32 pruned. \n",
                        "[I 2024-03-31 12:05:23,225] Trial 33 pruned. \n",
                        "[I 2024-03-31 12:05:23,966] Trial 34 pruned. \n",
                        "[I 2024-03-31 12:05:24,634] Trial 35 pruned. \n",
                        "[I 2024-03-31 12:05:25,453] Trial 36 pruned. \n",
                        "[I 2024-03-31 12:05:26,150] Trial 37 pruned. \n",
                        "[I 2024-03-31 12:05:27,000] Trial 38 pruned. \n",
                        "[I 2024-03-31 12:05:27,775] Trial 39 pruned. \n",
                        "[I 2024-03-31 12:06:01,892] Trial 40 finished with value: 0.39896093592047693 and parameters: {'n_layers': 2, 'n_units_l0': 33, 'dropout_0': 0.15019552420296337, 'n_units_l1': 10, 'dropout_1': 0.2107472883249059, 'learning_rate': 0.0038333035509036063, 'optimizer': 'RMSprop'}. Best is trial 22 with value: 0.38669795528054235.\n",
                        "[I 2024-03-31 12:06:36,258] Trial 41 finished with value: 0.384523332665364 and parameters: {'n_layers': 3, 'n_units_l0': 10, 'dropout_0': 0.13323917516976816, 'n_units_l1': 16, 'dropout_1': 0.23693264159751004, 'n_units_l2': 33, 'dropout_2': 0.16341120967666473, 'learning_rate': 0.00786160745661003, 'optimizer': 'RMSprop'}. Best is trial 41 with value: 0.384523332665364.\n",
                        "[I 2024-03-31 12:07:10,899] Trial 42 finished with value: 0.39042316819230705 and parameters: {'n_layers': 3, 'n_units_l0': 11, 'dropout_0': 0.1290132304230402, 'n_units_l1': 20, 'dropout_1': 0.24011879449808923, 'n_units_l2': 30, 'dropout_2': 0.18091128476522134, 'learning_rate': 0.010128301532961879, 'optimizer': 'RMSprop'}. Best is trial 41 with value: 0.384523332665364.\n",
                        "[I 2024-03-31 12:07:11,682] Trial 43 pruned. \n",
                        "[I 2024-03-31 12:07:17,088] Trial 44 pruned. \n",
                        "[I 2024-03-31 12:07:17,955] Trial 45 pruned. \n",
                        "[I 2024-03-31 12:07:18,611] Trial 46 pruned. \n",
                        "[I 2024-03-31 12:07:19,376] Trial 47 pruned. \n",
                        "[I 2024-03-31 12:07:20,019] Trial 48 pruned. \n",
                        "[I 2024-03-31 12:07:24,948] Trial 49 pruned. \n"
                    ]
                },
                {
                    "name": "stdout",
                    "output_type": "stream",
                    "text": [
                        "Validation Accuracy: 0.00034340659340659343\n",
                        "Validation Loss: 0.3887486438949903\n",
                        "Training Accuracy: 0.005022537025112686\n",
                        "Training Loss: 0.3714122329493786\n"
                    ]
                },
                {
                    "data": {
                        "text/plain": [
                            "(0.00034340659340659343,\n",
                            " 0.3887486438949903,\n",
                            " 0.005022537025112686,\n",
                            " 0.3714122329493786)"
                        ]
                    },
                    "execution_count": 31,
                    "metadata": {},
                    "output_type": "execute_result"
                }
            ],
            "source": [
                "# no accuracy function must be loss for regression\n",
                "if mlp_params.MODEL_TYPE == \"Regression\":\n",
                "    mlp_params.METRIC = \"loss\"\n",
                "    pass\n",
                "\n",
                "\n",
                "# wrap the objective function inside of a lambda function to pass args...\n",
                "objective_lambda_func = lambda trial: objective_model_optimizer(\n",
                "    train_loader,\n",
                "    valid_loader,\n",
                "    trial=trial,\n",
                "    params=params,\n",
                "    metric=mlp_params.METRIC,\n",
                "    return_info=False,\n",
                "    class_weights=class_weights,\n",
                ")\n",
                "\n",
                "\n",
                "# Study is the object for model optimization\n",
                "study = optuna.create_study(direction=f\"{mlp_params.DIRECTION}\")\n",
                "# Here I apply the optimize function of the study to the objective function\n",
                "# This optimizes each parameter specified to be optimized from the defined search space\n",
                "study.optimize(objective_lambda_func, n_trials=mlp_params.N_TRIALS)\n",
                "# Prints out the best trial's optimized parameters\n",
                "objective_model_optimizer(\n",
                "    train_loader,\n",
                "    valid_loader,\n",
                "    trial=study.best_trial,\n",
                "    params=params,\n",
                "    metric=mlp_params.METRIC,\n",
                "    return_info=True,\n",
                "    class_weights=class_weights,\n",
                ")"
            ]
        },
        {
            "cell_type": "code",
            "execution_count": 32,
            "id": "b2620589",
            "metadata": {
                "execution": {
                    "iopub.execute_input": "2023-10-18T18:17:37.298015Z",
                    "iopub.status.busy": "2023-10-18T18:17:37.297873Z",
                    "iopub.status.idle": "2023-10-18T18:17:37.750921Z",
                    "shell.execute_reply": "2023-10-18T18:17:37.750533Z"
                },
                "papermill": {
                    "duration": null,
                    "end_time": null,
                    "exception": null,
                    "start_time": null,
                    "status": "completed"
                },
                "tags": []
            },
            "outputs": [
                {
                    "data": {
                        "application/vnd.plotly.v1+json": {
                            "config": {
                                "plotlyServerURL": "https://plot.ly"
                            },
                            "data": [
                                {
                                    "mode": "markers",
                                    "name": "Objective Value",
                                    "type": "scatter",
                                    "x": [
                                        0,
                                        1,
                                        2,
                                        3,
                                        4,
                                        5,
                                        10,
                                        13,
                                        14,
                                        16,
                                        18,
                                        19,
                                        20,
                                        21,
                                        22,
                                        25,
                                        27,
                                        28,
                                        31,
                                        40,
                                        41,
                                        42
                                    ],
                                    "y": [
                                        0.5238072275122007,
                                        0.5256906988720099,
                                        0.5241831429799398,
                                        0.453693675895532,
                                        0.523591994891564,
                                        0.394623159368833,
                                        0.4933094806969166,
                                        0.4307182825605074,
                                        0.416173525651296,
                                        0.4085415351390838,
                                        0.4538213170568149,
                                        0.3893652445077896,
                                        0.390595313111941,
                                        0.3896437821288903,
                                        0.38669795528054235,
                                        0.39555537497003873,
                                        0.4034333918491999,
                                        0.39426790575186416,
                                        0.39299730395277344,
                                        0.39896093592047693,
                                        0.384523332665364,
                                        0.39042316819230705
                                    ]
                                },
                                {
                                    "mode": "lines",
                                    "name": "Best Value",
                                    "type": "scatter",
                                    "x": [
                                        0,
                                        1,
                                        2,
                                        3,
                                        4,
                                        5,
                                        6,
                                        7,
                                        8,
                                        9,
                                        10,
                                        11,
                                        12,
                                        13,
                                        14,
                                        15,
                                        16,
                                        17,
                                        18,
                                        19,
                                        20,
                                        21,
                                        22,
                                        23,
                                        24,
                                        25,
                                        26,
                                        27,
                                        28,
                                        29,
                                        30,
                                        31,
                                        32,
                                        33,
                                        34,
                                        35,
                                        36,
                                        37,
                                        38,
                                        39,
                                        40,
                                        41,
                                        42,
                                        43,
                                        44,
                                        45,
                                        46,
                                        47,
                                        48,
                                        49
                                    ],
                                    "y": [
                                        0.5238072275122007,
                                        0.5238072275122007,
                                        0.5238072275122007,
                                        0.453693675895532,
                                        0.453693675895532,
                                        0.394623159368833,
                                        0.394623159368833,
                                        0.394623159368833,
                                        0.394623159368833,
                                        0.394623159368833,
                                        0.394623159368833,
                                        0.394623159368833,
                                        0.394623159368833,
                                        0.394623159368833,
                                        0.394623159368833,
                                        0.394623159368833,
                                        0.394623159368833,
                                        0.394623159368833,
                                        0.394623159368833,
                                        0.3893652445077896,
                                        0.3893652445077896,
                                        0.3893652445077896,
                                        0.38669795528054235,
                                        0.38669795528054235,
                                        0.38669795528054235,
                                        0.38669795528054235,
                                        0.38669795528054235,
                                        0.38669795528054235,
                                        0.38669795528054235,
                                        0.38669795528054235,
                                        0.38669795528054235,
                                        0.38669795528054235,
                                        0.38669795528054235,
                                        0.38669795528054235,
                                        0.38669795528054235,
                                        0.38669795528054235,
                                        0.38669795528054235,
                                        0.38669795528054235,
                                        0.38669795528054235,
                                        0.38669795528054235,
                                        0.38669795528054235,
                                        0.384523332665364,
                                        0.384523332665364,
                                        0.384523332665364,
                                        0.384523332665364,
                                        0.384523332665364,
                                        0.384523332665364,
                                        0.384523332665364,
                                        0.384523332665364,
                                        0.384523332665364
                                    ]
                                },
                                {
                                    "marker": {
                                        "color": "#cccccc"
                                    },
                                    "mode": "markers",
                                    "name": "Infeasible Trial",
                                    "showlegend": false,
                                    "type": "scatter",
                                    "x": [],
                                    "y": []
                                }
                            ],
                            "layout": {
                                "template": {
                                    "data": {
                                        "bar": [
                                            {
                                                "error_x": {
                                                    "color": "#2a3f5f"
                                                },
                                                "error_y": {
                                                    "color": "#2a3f5f"
                                                },
                                                "marker": {
                                                    "line": {
                                                        "color": "#E5ECF6",
                                                        "width": 0.5
                                                    },
                                                    "pattern": {
                                                        "fillmode": "overlay",
                                                        "size": 10,
                                                        "solidity": 0.2
                                                    }
                                                },
                                                "type": "bar"
                                            }
                                        ],
                                        "barpolar": [
                                            {
                                                "marker": {
                                                    "line": {
                                                        "color": "#E5ECF6",
                                                        "width": 0.5
                                                    },
                                                    "pattern": {
                                                        "fillmode": "overlay",
                                                        "size": 10,
                                                        "solidity": 0.2
                                                    }
                                                },
                                                "type": "barpolar"
                                            }
                                        ],
                                        "carpet": [
                                            {
                                                "aaxis": {
                                                    "endlinecolor": "#2a3f5f",
                                                    "gridcolor": "white",
                                                    "linecolor": "white",
                                                    "minorgridcolor": "white",
                                                    "startlinecolor": "#2a3f5f"
                                                },
                                                "baxis": {
                                                    "endlinecolor": "#2a3f5f",
                                                    "gridcolor": "white",
                                                    "linecolor": "white",
                                                    "minorgridcolor": "white",
                                                    "startlinecolor": "#2a3f5f"
                                                },
                                                "type": "carpet"
                                            }
                                        ],
                                        "choropleth": [
                                            {
                                                "colorbar": {
                                                    "outlinewidth": 0,
                                                    "ticks": ""
                                                },
                                                "type": "choropleth"
                                            }
                                        ],
                                        "contour": [
                                            {
                                                "colorbar": {
                                                    "outlinewidth": 0,
                                                    "ticks": ""
                                                },
                                                "colorscale": [
                                                    [
                                                        0,
                                                        "#0d0887"
                                                    ],
                                                    [
                                                        0.1111111111111111,
                                                        "#46039f"
                                                    ],
                                                    [
                                                        0.2222222222222222,
                                                        "#7201a8"
                                                    ],
                                                    [
                                                        0.3333333333333333,
                                                        "#9c179e"
                                                    ],
                                                    [
                                                        0.4444444444444444,
                                                        "#bd3786"
                                                    ],
                                                    [
                                                        0.5555555555555556,
                                                        "#d8576b"
                                                    ],
                                                    [
                                                        0.6666666666666666,
                                                        "#ed7953"
                                                    ],
                                                    [
                                                        0.7777777777777778,
                                                        "#fb9f3a"
                                                    ],
                                                    [
                                                        0.8888888888888888,
                                                        "#fdca26"
                                                    ],
                                                    [
                                                        1,
                                                        "#f0f921"
                                                    ]
                                                ],
                                                "type": "contour"
                                            }
                                        ],
                                        "contourcarpet": [
                                            {
                                                "colorbar": {
                                                    "outlinewidth": 0,
                                                    "ticks": ""
                                                },
                                                "type": "contourcarpet"
                                            }
                                        ],
                                        "heatmap": [
                                            {
                                                "colorbar": {
                                                    "outlinewidth": 0,
                                                    "ticks": ""
                                                },
                                                "colorscale": [
                                                    [
                                                        0,
                                                        "#0d0887"
                                                    ],
                                                    [
                                                        0.1111111111111111,
                                                        "#46039f"
                                                    ],
                                                    [
                                                        0.2222222222222222,
                                                        "#7201a8"
                                                    ],
                                                    [
                                                        0.3333333333333333,
                                                        "#9c179e"
                                                    ],
                                                    [
                                                        0.4444444444444444,
                                                        "#bd3786"
                                                    ],
                                                    [
                                                        0.5555555555555556,
                                                        "#d8576b"
                                                    ],
                                                    [
                                                        0.6666666666666666,
                                                        "#ed7953"
                                                    ],
                                                    [
                                                        0.7777777777777778,
                                                        "#fb9f3a"
                                                    ],
                                                    [
                                                        0.8888888888888888,
                                                        "#fdca26"
                                                    ],
                                                    [
                                                        1,
                                                        "#f0f921"
                                                    ]
                                                ],
                                                "type": "heatmap"
                                            }
                                        ],
                                        "heatmapgl": [
                                            {
                                                "colorbar": {
                                                    "outlinewidth": 0,
                                                    "ticks": ""
                                                },
                                                "colorscale": [
                                                    [
                                                        0,
                                                        "#0d0887"
                                                    ],
                                                    [
                                                        0.1111111111111111,
                                                        "#46039f"
                                                    ],
                                                    [
                                                        0.2222222222222222,
                                                        "#7201a8"
                                                    ],
                                                    [
                                                        0.3333333333333333,
                                                        "#9c179e"
                                                    ],
                                                    [
                                                        0.4444444444444444,
                                                        "#bd3786"
                                                    ],
                                                    [
                                                        0.5555555555555556,
                                                        "#d8576b"
                                                    ],
                                                    [
                                                        0.6666666666666666,
                                                        "#ed7953"
                                                    ],
                                                    [
                                                        0.7777777777777778,
                                                        "#fb9f3a"
                                                    ],
                                                    [
                                                        0.8888888888888888,
                                                        "#fdca26"
                                                    ],
                                                    [
                                                        1,
                                                        "#f0f921"
                                                    ]
                                                ],
                                                "type": "heatmapgl"
                                            }
                                        ],
                                        "histogram": [
                                            {
                                                "marker": {
                                                    "pattern": {
                                                        "fillmode": "overlay",
                                                        "size": 10,
                                                        "solidity": 0.2
                                                    }
                                                },
                                                "type": "histogram"
                                            }
                                        ],
                                        "histogram2d": [
                                            {
                                                "colorbar": {
                                                    "outlinewidth": 0,
                                                    "ticks": ""
                                                },
                                                "colorscale": [
                                                    [
                                                        0,
                                                        "#0d0887"
                                                    ],
                                                    [
                                                        0.1111111111111111,
                                                        "#46039f"
                                                    ],
                                                    [
                                                        0.2222222222222222,
                                                        "#7201a8"
                                                    ],
                                                    [
                                                        0.3333333333333333,
                                                        "#9c179e"
                                                    ],
                                                    [
                                                        0.4444444444444444,
                                                        "#bd3786"
                                                    ],
                                                    [
                                                        0.5555555555555556,
                                                        "#d8576b"
                                                    ],
                                                    [
                                                        0.6666666666666666,
                                                        "#ed7953"
                                                    ],
                                                    [
                                                        0.7777777777777778,
                                                        "#fb9f3a"
                                                    ],
                                                    [
                                                        0.8888888888888888,
                                                        "#fdca26"
                                                    ],
                                                    [
                                                        1,
                                                        "#f0f921"
                                                    ]
                                                ],
                                                "type": "histogram2d"
                                            }
                                        ],
                                        "histogram2dcontour": [
                                            {
                                                "colorbar": {
                                                    "outlinewidth": 0,
                                                    "ticks": ""
                                                },
                                                "colorscale": [
                                                    [
                                                        0,
                                                        "#0d0887"
                                                    ],
                                                    [
                                                        0.1111111111111111,
                                                        "#46039f"
                                                    ],
                                                    [
                                                        0.2222222222222222,
                                                        "#7201a8"
                                                    ],
                                                    [
                                                        0.3333333333333333,
                                                        "#9c179e"
                                                    ],
                                                    [
                                                        0.4444444444444444,
                                                        "#bd3786"
                                                    ],
                                                    [
                                                        0.5555555555555556,
                                                        "#d8576b"
                                                    ],
                                                    [
                                                        0.6666666666666666,
                                                        "#ed7953"
                                                    ],
                                                    [
                                                        0.7777777777777778,
                                                        "#fb9f3a"
                                                    ],
                                                    [
                                                        0.8888888888888888,
                                                        "#fdca26"
                                                    ],
                                                    [
                                                        1,
                                                        "#f0f921"
                                                    ]
                                                ],
                                                "type": "histogram2dcontour"
                                            }
                                        ],
                                        "mesh3d": [
                                            {
                                                "colorbar": {
                                                    "outlinewidth": 0,
                                                    "ticks": ""
                                                },
                                                "type": "mesh3d"
                                            }
                                        ],
                                        "parcoords": [
                                            {
                                                "line": {
                                                    "colorbar": {
                                                        "outlinewidth": 0,
                                                        "ticks": ""
                                                    }
                                                },
                                                "type": "parcoords"
                                            }
                                        ],
                                        "pie": [
                                            {
                                                "automargin": true,
                                                "type": "pie"
                                            }
                                        ],
                                        "scatter": [
                                            {
                                                "fillpattern": {
                                                    "fillmode": "overlay",
                                                    "size": 10,
                                                    "solidity": 0.2
                                                },
                                                "type": "scatter"
                                            }
                                        ],
                                        "scatter3d": [
                                            {
                                                "line": {
                                                    "colorbar": {
                                                        "outlinewidth": 0,
                                                        "ticks": ""
                                                    }
                                                },
                                                "marker": {
                                                    "colorbar": {
                                                        "outlinewidth": 0,
                                                        "ticks": ""
                                                    }
                                                },
                                                "type": "scatter3d"
                                            }
                                        ],
                                        "scattercarpet": [
                                            {
                                                "marker": {
                                                    "colorbar": {
                                                        "outlinewidth": 0,
                                                        "ticks": ""
                                                    }
                                                },
                                                "type": "scattercarpet"
                                            }
                                        ],
                                        "scattergeo": [
                                            {
                                                "marker": {
                                                    "colorbar": {
                                                        "outlinewidth": 0,
                                                        "ticks": ""
                                                    }
                                                },
                                                "type": "scattergeo"
                                            }
                                        ],
                                        "scattergl": [
                                            {
                                                "marker": {
                                                    "colorbar": {
                                                        "outlinewidth": 0,
                                                        "ticks": ""
                                                    }
                                                },
                                                "type": "scattergl"
                                            }
                                        ],
                                        "scattermapbox": [
                                            {
                                                "marker": {
                                                    "colorbar": {
                                                        "outlinewidth": 0,
                                                        "ticks": ""
                                                    }
                                                },
                                                "type": "scattermapbox"
                                            }
                                        ],
                                        "scatterpolar": [
                                            {
                                                "marker": {
                                                    "colorbar": {
                                                        "outlinewidth": 0,
                                                        "ticks": ""
                                                    }
                                                },
                                                "type": "scatterpolar"
                                            }
                                        ],
                                        "scatterpolargl": [
                                            {
                                                "marker": {
                                                    "colorbar": {
                                                        "outlinewidth": 0,
                                                        "ticks": ""
                                                    }
                                                },
                                                "type": "scatterpolargl"
                                            }
                                        ],
                                        "scatterternary": [
                                            {
                                                "marker": {
                                                    "colorbar": {
                                                        "outlinewidth": 0,
                                                        "ticks": ""
                                                    }
                                                },
                                                "type": "scatterternary"
                                            }
                                        ],
                                        "surface": [
                                            {
                                                "colorbar": {
                                                    "outlinewidth": 0,
                                                    "ticks": ""
                                                },
                                                "colorscale": [
                                                    [
                                                        0,
                                                        "#0d0887"
                                                    ],
                                                    [
                                                        0.1111111111111111,
                                                        "#46039f"
                                                    ],
                                                    [
                                                        0.2222222222222222,
                                                        "#7201a8"
                                                    ],
                                                    [
                                                        0.3333333333333333,
                                                        "#9c179e"
                                                    ],
                                                    [
                                                        0.4444444444444444,
                                                        "#bd3786"
                                                    ],
                                                    [
                                                        0.5555555555555556,
                                                        "#d8576b"
                                                    ],
                                                    [
                                                        0.6666666666666666,
                                                        "#ed7953"
                                                    ],
                                                    [
                                                        0.7777777777777778,
                                                        "#fb9f3a"
                                                    ],
                                                    [
                                                        0.8888888888888888,
                                                        "#fdca26"
                                                    ],
                                                    [
                                                        1,
                                                        "#f0f921"
                                                    ]
                                                ],
                                                "type": "surface"
                                            }
                                        ],
                                        "table": [
                                            {
                                                "cells": {
                                                    "fill": {
                                                        "color": "#EBF0F8"
                                                    },
                                                    "line": {
                                                        "color": "white"
                                                    }
                                                },
                                                "header": {
                                                    "fill": {
                                                        "color": "#C8D4E3"
                                                    },
                                                    "line": {
                                                        "color": "white"
                                                    }
                                                },
                                                "type": "table"
                                            }
                                        ]
                                    },
                                    "layout": {
                                        "annotationdefaults": {
                                            "arrowcolor": "#2a3f5f",
                                            "arrowhead": 0,
                                            "arrowwidth": 1
                                        },
                                        "autotypenumbers": "strict",
                                        "coloraxis": {
                                            "colorbar": {
                                                "outlinewidth": 0,
                                                "ticks": ""
                                            }
                                        },
                                        "colorscale": {
                                            "diverging": [
                                                [
                                                    0,
                                                    "#8e0152"
                                                ],
                                                [
                                                    0.1,
                                                    "#c51b7d"
                                                ],
                                                [
                                                    0.2,
                                                    "#de77ae"
                                                ],
                                                [
                                                    0.3,
                                                    "#f1b6da"
                                                ],
                                                [
                                                    0.4,
                                                    "#fde0ef"
                                                ],
                                                [
                                                    0.5,
                                                    "#f7f7f7"
                                                ],
                                                [
                                                    0.6,
                                                    "#e6f5d0"
                                                ],
                                                [
                                                    0.7,
                                                    "#b8e186"
                                                ],
                                                [
                                                    0.8,
                                                    "#7fbc41"
                                                ],
                                                [
                                                    0.9,
                                                    "#4d9221"
                                                ],
                                                [
                                                    1,
                                                    "#276419"
                                                ]
                                            ],
                                            "sequential": [
                                                [
                                                    0,
                                                    "#0d0887"
                                                ],
                                                [
                                                    0.1111111111111111,
                                                    "#46039f"
                                                ],
                                                [
                                                    0.2222222222222222,
                                                    "#7201a8"
                                                ],
                                                [
                                                    0.3333333333333333,
                                                    "#9c179e"
                                                ],
                                                [
                                                    0.4444444444444444,
                                                    "#bd3786"
                                                ],
                                                [
                                                    0.5555555555555556,
                                                    "#d8576b"
                                                ],
                                                [
                                                    0.6666666666666666,
                                                    "#ed7953"
                                                ],
                                                [
                                                    0.7777777777777778,
                                                    "#fb9f3a"
                                                ],
                                                [
                                                    0.8888888888888888,
                                                    "#fdca26"
                                                ],
                                                [
                                                    1,
                                                    "#f0f921"
                                                ]
                                            ],
                                            "sequentialminus": [
                                                [
                                                    0,
                                                    "#0d0887"
                                                ],
                                                [
                                                    0.1111111111111111,
                                                    "#46039f"
                                                ],
                                                [
                                                    0.2222222222222222,
                                                    "#7201a8"
                                                ],
                                                [
                                                    0.3333333333333333,
                                                    "#9c179e"
                                                ],
                                                [
                                                    0.4444444444444444,
                                                    "#bd3786"
                                                ],
                                                [
                                                    0.5555555555555556,
                                                    "#d8576b"
                                                ],
                                                [
                                                    0.6666666666666666,
                                                    "#ed7953"
                                                ],
                                                [
                                                    0.7777777777777778,
                                                    "#fb9f3a"
                                                ],
                                                [
                                                    0.8888888888888888,
                                                    "#fdca26"
                                                ],
                                                [
                                                    1,
                                                    "#f0f921"
                                                ]
                                            ]
                                        },
                                        "colorway": [
                                            "#636efa",
                                            "#EF553B",
                                            "#00cc96",
                                            "#ab63fa",
                                            "#FFA15A",
                                            "#19d3f3",
                                            "#FF6692",
                                            "#B6E880",
                                            "#FF97FF",
                                            "#FECB52"
                                        ],
                                        "font": {
                                            "color": "#2a3f5f"
                                        },
                                        "geo": {
                                            "bgcolor": "white",
                                            "lakecolor": "white",
                                            "landcolor": "#E5ECF6",
                                            "showlakes": true,
                                            "showland": true,
                                            "subunitcolor": "white"
                                        },
                                        "hoverlabel": {
                                            "align": "left"
                                        },
                                        "hovermode": "closest",
                                        "mapbox": {
                                            "style": "light"
                                        },
                                        "paper_bgcolor": "white",
                                        "plot_bgcolor": "#E5ECF6",
                                        "polar": {
                                            "angularaxis": {
                                                "gridcolor": "white",
                                                "linecolor": "white",
                                                "ticks": ""
                                            },
                                            "bgcolor": "#E5ECF6",
                                            "radialaxis": {
                                                "gridcolor": "white",
                                                "linecolor": "white",
                                                "ticks": ""
                                            }
                                        },
                                        "scene": {
                                            "xaxis": {
                                                "backgroundcolor": "#E5ECF6",
                                                "gridcolor": "white",
                                                "gridwidth": 2,
                                                "linecolor": "white",
                                                "showbackground": true,
                                                "ticks": "",
                                                "zerolinecolor": "white"
                                            },
                                            "yaxis": {
                                                "backgroundcolor": "#E5ECF6",
                                                "gridcolor": "white",
                                                "gridwidth": 2,
                                                "linecolor": "white",
                                                "showbackground": true,
                                                "ticks": "",
                                                "zerolinecolor": "white"
                                            },
                                            "zaxis": {
                                                "backgroundcolor": "#E5ECF6",
                                                "gridcolor": "white",
                                                "gridwidth": 2,
                                                "linecolor": "white",
                                                "showbackground": true,
                                                "ticks": "",
                                                "zerolinecolor": "white"
                                            }
                                        },
                                        "shapedefaults": {
                                            "line": {
                                                "color": "#2a3f5f"
                                            }
                                        },
                                        "ternary": {
                                            "aaxis": {
                                                "gridcolor": "white",
                                                "linecolor": "white",
                                                "ticks": ""
                                            },
                                            "baxis": {
                                                "gridcolor": "white",
                                                "linecolor": "white",
                                                "ticks": ""
                                            },
                                            "bgcolor": "#E5ECF6",
                                            "caxis": {
                                                "gridcolor": "white",
                                                "linecolor": "white",
                                                "ticks": ""
                                            }
                                        },
                                        "title": {
                                            "x": 0.05
                                        },
                                        "xaxis": {
                                            "automargin": true,
                                            "gridcolor": "white",
                                            "linecolor": "white",
                                            "ticks": "",
                                            "title": {
                                                "standoff": 15
                                            },
                                            "zerolinecolor": "white",
                                            "zerolinewidth": 2
                                        },
                                        "yaxis": {
                                            "automargin": true,
                                            "gridcolor": "white",
                                            "linecolor": "white",
                                            "ticks": "",
                                            "title": {
                                                "standoff": 15
                                            },
                                            "zerolinecolor": "white",
                                            "zerolinewidth": 2
                                        }
                                    }
                                },
                                "title": {
                                    "text": "Optimization History Plot"
                                },
                                "xaxis": {
                                    "title": {
                                        "text": "Trial"
                                    }
                                },
                                "yaxis": {
                                    "title": {
                                        "text": "Objective Value"
                                    }
                                }
                            }
                        }
                    },
                    "metadata": {},
                    "output_type": "display_data"
                }
            ],
            "source": [
                "# create graph directory for this model\n",
                "graph_path = pathlib.Path(\n",
                "    f\"../../figures/{mlp_params.MODEL_TYPE}/{mlp_params.MODEL_NAME}/{mlp_params.CELL_TYPE}/hyperparameter_optimization\"\n",
                ")\n",
                "\n",
                "pathlib.Path(graph_path).mkdir(parents=True, exist_ok=True)\n",
                "fig = optuna.visualization.plot_optimization_history(study)\n",
                "\n",
                "\n",
                "graph_path = f\"{graph_path}/plot_optimization_history_graph\"\n",
                "\n",
                "fig.write_image(pathlib.Path(f\"{graph_path}.png\"))\n",
                "fig.show()"
            ]
        },
        {
            "cell_type": "code",
            "execution_count": 33,
            "id": "92103de1",
            "metadata": {
                "execution": {
                    "iopub.execute_input": "2023-10-18T18:17:37.839841Z",
                    "iopub.status.busy": "2023-10-18T18:17:37.839637Z",
                    "iopub.status.idle": "2023-10-18T18:17:37.910906Z",
                    "shell.execute_reply": "2023-10-18T18:17:37.910591Z"
                },
                "papermill": {
                    "duration": null,
                    "end_time": null,
                    "exception": null,
                    "start_time": null,
                    "status": "completed"
                },
                "tags": []
            },
            "outputs": [
                {
                    "data": {
                        "application/vnd.plotly.v1+json": {
                            "config": {
                                "plotlyServerURL": "https://plot.ly"
                            },
                            "data": [
                                {
                                    "marker": {
                                        "maxdisplayed": 10
                                    },
                                    "mode": "lines+markers",
                                    "name": "Trial0",
                                    "type": "scatter",
                                    "x": [
                                        0,
                                        1,
                                        2,
                                        3,
                                        4,
                                        5,
                                        6,
                                        7,
                                        8,
                                        9,
                                        10,
                                        11,
                                        12,
                                        13,
                                        14,
                                        15,
                                        16,
                                        17,
                                        18,
                                        19,
                                        20,
                                        21,
                                        22,
                                        23,
                                        24,
                                        25,
                                        26,
                                        27,
                                        28,
                                        29,
                                        30,
                                        31,
                                        32,
                                        33,
                                        34,
                                        35,
                                        36,
                                        37,
                                        38,
                                        39,
                                        40,
                                        41,
                                        42,
                                        43,
                                        44,
                                        45,
                                        46,
                                        47,
                                        48,
                                        49
                                    ],
                                    "y": [
                                        0.5236169695854187,
                                        0.5235220814744632,
                                        0.5235060229897499,
                                        0.5234792785098156,
                                        0.5234652504324913,
                                        0.5235187394751443,
                                        0.5235092501555171,
                                        0.5235243927066524,
                                        0.5235712533747708,
                                        0.5236278330286344,
                                        0.5236236644965229,
                                        0.5236524465597338,
                                        0.5236825515062381,
                                        0.523663681000471,
                                        0.5236596756511264,
                                        0.5236725991902252,
                                        0.5236631722426882,
                                        0.5236612875704413,
                                        0.5236480932748109,
                                        0.5236537527292967,
                                        0.5236456955945681,
                                        0.5236423453598311,
                                        0.5236327714030293,
                                        0.5236258052496446,
                                        0.523615540266037,
                                        0.5236490364067065,
                                        0.5236420425367944,
                                        0.5236848224664017,
                                        0.523674887401619,
                                        0.52367304008868,
                                        0.5236676496363454,
                                        0.5236646694441636,
                                        0.5236761837896674,
                                        0.5236779145312075,
                                        0.523677101234595,
                                        0.52367639431247,
                                        0.5236781083785735,
                                        0.5236727572454695,
                                        0.5236876772509681,
                                        0.5236857510482271,
                                        0.5236873261448813,
                                        0.5236897890175145,
                                        0.5236884324934131,
                                        0.5236931396366068,
                                        0.5236933507853083,
                                        0.5237430722277232,
                                        0.5237540866889006,
                                        0.5237550699255532,
                                        0.5237527216981057,
                                        0.5238072275122007
                                    ]
                                },
                                {
                                    "marker": {
                                        "maxdisplayed": 10
                                    },
                                    "mode": "lines+markers",
                                    "name": "Trial1",
                                    "type": "scatter",
                                    "x": [
                                        0,
                                        1,
                                        2,
                                        3,
                                        4,
                                        5,
                                        6,
                                        7,
                                        8,
                                        9,
                                        10,
                                        11,
                                        12,
                                        13,
                                        14,
                                        15,
                                        16,
                                        17,
                                        18,
                                        19,
                                        20,
                                        21,
                                        22,
                                        23,
                                        24,
                                        25,
                                        26,
                                        27,
                                        28,
                                        29,
                                        30,
                                        31,
                                        32,
                                        33,
                                        34,
                                        35,
                                        36,
                                        37,
                                        38,
                                        39,
                                        40,
                                        41,
                                        42,
                                        43,
                                        44,
                                        45,
                                        46,
                                        47,
                                        48,
                                        49
                                    ],
                                    "y": [
                                        0.57229945063591,
                                        0.5612455556790035,
                                        0.5537108100122876,
                                        0.5483839983741443,
                                        0.5444822033246359,
                                        0.5415464937686921,
                                        0.5392716285728273,
                                        0.5374685398613414,
                                        0.5360111516934855,
                                        0.5348129227757454,
                                        0.5338126269705369,
                                        0.5329679072731072,
                                        0.5322461835084817,
                                        0.5316230810823895,
                                        0.531080283721288,
                                        0.5306032532826066,
                                        0.5301813711138332,
                                        0.5298054383860694,
                                        0.5294686704874039,
                                        0.5291651035348575,
                                        0.5288901999592781,
                                        0.5286400822753256,
                                        0.5284117168706396,
                                        0.5282022629140152,
                                        0.5280094856023788,
                                        0.5278313834315691,
                                        0.527666404567383,
                                        0.5275131408125162,
                                        0.5273704340403108,
                                        0.52723726456364,
                                        0.527112641481943,
                                        0.5269958393958708,
                                        0.5268861022260455,
                                        0.5267827805204719,
                                        0.5266853375803857,
                                        0.5265933048945887,
                                        0.5265062449348941,
                                        0.5264237581245732,
                                        0.5263454570856869,
                                        0.5262710761278868,
                                        0.5262003250844111,
                                        0.5261329676187229,
                                        0.5260687404016192,
                                        0.5260073852471331,
                                        0.5259487339191967,
                                        0.5258926309753156,
                                        0.525838927385655,
                                        0.5257874715866314,
                                        0.5257381099421962,
                                        0.5256906988720099
                                    ]
                                },
                                {
                                    "marker": {
                                        "maxdisplayed": 10
                                    },
                                    "mode": "lines+markers",
                                    "name": "Trial2",
                                    "type": "scatter",
                                    "x": [
                                        0,
                                        1,
                                        2,
                                        3,
                                        4,
                                        5,
                                        6,
                                        7,
                                        8,
                                        9,
                                        10,
                                        11,
                                        12,
                                        13,
                                        14,
                                        15,
                                        16,
                                        17,
                                        18,
                                        19,
                                        20,
                                        21,
                                        22,
                                        23,
                                        24,
                                        25,
                                        26,
                                        27,
                                        28,
                                        29,
                                        30,
                                        31,
                                        32,
                                        33,
                                        34,
                                        35,
                                        36,
                                        37,
                                        38,
                                        39,
                                        40,
                                        41,
                                        42,
                                        43,
                                        44,
                                        45,
                                        46,
                                        47,
                                        48,
                                        49
                                    ],
                                    "y": [
                                        0.5446252624193827,
                                        0.5387782454490662,
                                        0.5351775421036614,
                                        0.5328114703297615,
                                        0.5311687499284744,
                                        0.5299799405038357,
                                        0.529088006133125,
                                        0.5283995000645518,
                                        0.5278547304096045,
                                        0.5274143350621064,
                                        0.5270516569867278,
                                        0.5267476211819383,
                                        0.5264895862111678,
                                        0.5262680647983436,
                                        0.5260756035645803,
                                        0.5259069511666894,
                                        0.5257582160479882,
                                        0.5256258355522597,
                                        0.5255073108955434,
                                        0.5254006169736385,
                                        0.5253040368358294,
                                        0.5252162617715922,
                                        0.5251361174859862,
                                        0.5250626728973455,
                                        0.5249950605630875,
                                        0.5249326080083848,
                                        0.5248747656558768,
                                        0.5248210715750854,
                                        0.5247710759098503,
                                        0.5247244417667389,
                                        0.5246808105899442,
                                        0.524639888278519,
                                        0.5246014038119653,
                                        0.5245651822610228,
                                        0.5245310208627155,
                                        0.524498747040828,
                                        0.5244683116540177,
                                        0.5244394851881161,
                                        0.5244121311439408,
                                        0.5243861380964517,
                                        0.5243614217251297,
                                        0.5243378841569499,
                                        0.5243154241479644,
                                        0.524293974775708,
                                        0.5242734511693318,
                                        0.5242538198396779,
                                        0.5242350495664786,
                                        0.5242170398640964,
                                        0.5241997481203404,
                                        0.5241831429799398
                                    ]
                                },
                                {
                                    "marker": {
                                        "maxdisplayed": 10
                                    },
                                    "mode": "lines+markers",
                                    "name": "Trial3",
                                    "type": "scatter",
                                    "x": [
                                        0,
                                        1,
                                        2,
                                        3,
                                        4,
                                        5,
                                        6,
                                        7,
                                        8,
                                        9,
                                        10,
                                        11,
                                        12,
                                        13,
                                        14,
                                        15,
                                        16,
                                        17,
                                        18,
                                        19,
                                        20,
                                        21,
                                        22,
                                        23,
                                        24,
                                        25,
                                        26,
                                        27,
                                        28,
                                        29,
                                        30,
                                        31,
                                        32,
                                        33,
                                        34,
                                        35,
                                        36,
                                        37,
                                        38,
                                        39,
                                        40,
                                        41,
                                        42,
                                        43,
                                        44,
                                        45,
                                        46,
                                        47,
                                        48,
                                        49
                                    ],
                                    "y": [
                                        0.46948512146870297,
                                        0.46514848371346795,
                                        0.46224833693769246,
                                        0.4588304609060288,
                                        0.4569040611386299,
                                        0.4568375100692113,
                                        0.45497515336388633,
                                        0.4539858835438887,
                                        0.4528796703175262,
                                        0.4519065521657467,
                                        0.45120709005630383,
                                        0.45058644707832074,
                                        0.4505255132531509,
                                        0.4501653874204273,
                                        0.44976322203874586,
                                        0.44976119355609023,
                                        0.449553635190515,
                                        0.4491748975382911,
                                        0.4490705184769212,
                                        0.449131275092562,
                                        0.44900368023959414,
                                        0.44889432824019226,
                                        0.4489130364811938,
                                        0.4488675355290373,
                                        0.4488644707202911,
                                        0.4491755209672145,
                                        0.4491583061990915,
                                        0.44950974803595317,
                                        0.4498462077529951,
                                        0.4500386388765441,
                                        0.4504553111650611,
                                        0.45054585362474125,
                                        0.4508812723286224,
                                        0.4509953493435009,
                                        0.451179861099947,
                                        0.45113273572038715,
                                        0.45132642299742304,
                                        0.4513139457425526,
                                        0.4517545471461409,
                                        0.45187068724383916,
                                        0.4520748444204409,
                                        0.452412918742214,
                                        0.452665623826112,
                                        0.45318962125615647,
                                        0.45338457695863876,
                                        0.45344882085919386,
                                        0.45349724178618583,
                                        0.4534802478220728,
                                        0.4537032814252944,
                                        0.453693675895532
                                    ]
                                },
                                {
                                    "marker": {
                                        "maxdisplayed": 10
                                    },
                                    "mode": "lines+markers",
                                    "name": "Trial4",
                                    "type": "scatter",
                                    "x": [
                                        0,
                                        1,
                                        2,
                                        3,
                                        4,
                                        5,
                                        6,
                                        7,
                                        8,
                                        9,
                                        10,
                                        11,
                                        12,
                                        13,
                                        14,
                                        15,
                                        16,
                                        17,
                                        18,
                                        19,
                                        20,
                                        21,
                                        22,
                                        23,
                                        24,
                                        25,
                                        26,
                                        27,
                                        28,
                                        29,
                                        30,
                                        31,
                                        32,
                                        33,
                                        34,
                                        35,
                                        36,
                                        37,
                                        38,
                                        39,
                                        40,
                                        41,
                                        42,
                                        43,
                                        44,
                                        45,
                                        46,
                                        47,
                                        48,
                                        49
                                    ],
                                    "y": [
                                        0.5235203926761945,
                                        0.5235362028082212,
                                        0.5234977644350794,
                                        0.5235542828838031,
                                        0.5235551565885544,
                                        0.5235390228529772,
                                        0.5235162160935857,
                                        0.5235102120786905,
                                        0.5235913569728533,
                                        0.5235843226313591,
                                        0.5235707816300971,
                                        0.5235796134091086,
                                        0.5235984545105543,
                                        0.5236130516443934,
                                        0.5236311599612236,
                                        0.5236284484465917,
                                        0.5236176376541456,
                                        0.5236081363702262,
                                        0.5235992824299295,
                                        0.5236007060855628,
                                        0.5236073638948184,
                                        0.523610793054104,
                                        0.5236035443950391,
                                        0.5236025338785516,
                                        0.5235990223288537,
                                        0.5235965131567075,
                                        0.5236009706133679,
                                        0.5236028935760261,
                                        0.5236038100616686,
                                        0.5236073083347745,
                                        0.5236009932974334,
                                        0.5236078210485479,
                                        0.523603361589138,
                                        0.5236029624208517,
                                        0.5236029593717485,
                                        0.5236051003276199,
                                        0.5236012064390355,
                                        0.5236053973959204,
                                        0.5236069965056885,
                                        0.5236039638519288,
                                        0.5236050035289632,
                                        0.523601101031379,
                                        0.5235966437662294,
                                        0.5235949045780933,
                                        0.5235959411771209,
                                        0.5235925803797832,
                                        0.5235910978406033,
                                        0.5235881966331767,
                                        0.5235912642714118,
                                        0.523591994891564
                                    ]
                                },
                                {
                                    "marker": {
                                        "maxdisplayed": 10
                                    },
                                    "mode": "lines+markers",
                                    "name": "Trial5",
                                    "type": "scatter",
                                    "x": [
                                        0,
                                        1,
                                        2,
                                        3,
                                        4,
                                        5,
                                        6,
                                        7,
                                        8,
                                        9,
                                        10,
                                        11,
                                        12,
                                        13,
                                        14,
                                        15,
                                        16,
                                        17,
                                        18,
                                        19,
                                        20,
                                        21,
                                        22,
                                        23,
                                        24,
                                        25,
                                        26,
                                        27,
                                        28,
                                        29,
                                        30,
                                        31,
                                        32,
                                        33,
                                        34,
                                        35,
                                        36,
                                        37,
                                        38,
                                        39,
                                        40,
                                        41,
                                        42,
                                        43,
                                        44,
                                        45,
                                        46,
                                        47,
                                        48,
                                        49
                                    ],
                                    "y": [
                                        0.4803149327635765,
                                        0.46919396643837297,
                                        0.46181192166275453,
                                        0.4562848626325528,
                                        0.45177947282791137,
                                        0.4479544117218918,
                                        0.44461829924867263,
                                        0.44167257876445853,
                                        0.4390026631730575,
                                        0.4366014860570431,
                                        0.4344227932619326,
                                        0.4323531722442972,
                                        0.43044200558692985,
                                        0.428635959291742,
                                        0.42692597574657865,
                                        0.4252966193792721,
                                        0.4237490465828017,
                                        0.42227939985416557,
                                        0.4208798962726928,
                                        0.41953507227202264,
                                        0.4182420009894977,
                                        0.4170294714470705,
                                        0.41583085934753006,
                                        0.4146743346419599,
                                        0.41357119113206864,
                                        0.4125202951522974,
                                        0.41150804112354916,
                                        0.41052137013702167,
                                        0.40955615908592596,
                                        0.40864078054825465,
                                        0.407747158279983,
                                        0.40688182351489866,
                                        0.4060337582621912,
                                        0.40519771564240553,
                                        0.40440828048047567,
                                        0.40362637317566963,
                                        0.40286822106924147,
                                        0.4021305256898989,
                                        0.40141694744427997,
                                        0.40072791042427225,
                                        0.4000524347875176,
                                        0.3993859673066745,
                                        0.39874457781629047,
                                        0.3981207853578257,
                                        0.3975038337486762,
                                        0.396890851304583,
                                        0.3963084823802009,
                                        0.395732684319632,
                                        0.3951743749939666,
                                        0.394623159368833
                                    ]
                                },
                                {
                                    "marker": {
                                        "maxdisplayed": 10
                                    },
                                    "mode": "lines+markers",
                                    "name": "Trial6",
                                    "type": "scatter",
                                    "x": [
                                        0
                                    ],
                                    "y": [
                                        0.5574226727088293
                                    ]
                                },
                                {
                                    "marker": {
                                        "maxdisplayed": 10
                                    },
                                    "mode": "lines+markers",
                                    "name": "Trial7",
                                    "type": "scatter",
                                    "x": [
                                        0
                                    ],
                                    "y": [
                                        0.5638352036476135
                                    ]
                                },
                                {
                                    "marker": {
                                        "maxdisplayed": 10
                                    },
                                    "mode": "lines+markers",
                                    "name": "Trial8",
                                    "type": "scatter",
                                    "x": [
                                        0
                                    ],
                                    "y": [
                                        0.5373813062906265
                                    ]
                                },
                                {
                                    "marker": {
                                        "maxdisplayed": 10
                                    },
                                    "mode": "lines+markers",
                                    "name": "Trial9",
                                    "type": "scatter",
                                    "x": [
                                        0
                                    ],
                                    "y": [
                                        0.5605634699265162
                                    ]
                                },
                                {
                                    "marker": {
                                        "maxdisplayed": 10
                                    },
                                    "mode": "lines+markers",
                                    "name": "Trial10",
                                    "type": "scatter",
                                    "x": [
                                        0,
                                        1,
                                        2,
                                        3,
                                        4,
                                        5,
                                        6,
                                        7,
                                        8,
                                        9,
                                        10,
                                        11,
                                        12,
                                        13,
                                        14,
                                        15,
                                        16,
                                        17,
                                        18,
                                        19,
                                        20,
                                        21,
                                        22,
                                        23,
                                        24,
                                        25,
                                        26,
                                        27,
                                        28,
                                        29,
                                        30,
                                        31,
                                        32,
                                        33,
                                        34,
                                        35,
                                        36,
                                        37,
                                        38,
                                        39,
                                        40,
                                        41,
                                        42,
                                        43,
                                        44,
                                        45,
                                        46,
                                        47,
                                        48,
                                        49
                                    ],
                                    "y": [
                                        0.5226640626788139,
                                        0.522667399297158,
                                        0.5226014993256993,
                                        0.522553576156497,
                                        0.5223472192883492,
                                        0.5208562140663465,
                                        0.5184087107578913,
                                        0.5160799976438284,
                                        0.5137746013976909,
                                        0.5115345281859239,
                                        0.5090341579281923,
                                        0.5082418806850911,
                                        0.5060406896548394,
                                        0.5058319118051303,
                                        0.5039626767237981,
                                        0.5021201064810157,
                                        0.5003292824999959,
                                        0.4996476700460469,
                                        0.4994403991782874,
                                        0.49961589500308035,
                                        0.4989736339166051,
                                        0.4986215855813388,
                                        0.4983852797228357,
                                        0.49916028221034336,
                                        0.49907022277514135,
                                        0.498881058815198,
                                        0.4985599995211318,
                                        0.49781693136763,
                                        0.4974059300689861,
                                        0.49711823670400507,
                                        0.49726991371441903,
                                        0.49693908511350554,
                                        0.49683052444397807,
                                        0.49653241513114355,
                                        0.4965671432869776,
                                        0.4964572387850948,
                                        0.4964212504727347,
                                        0.4961081927544193,
                                        0.4958457541771425,
                                        0.49549749679863453,
                                        0.4952838829135507,
                                        0.494989975577309,
                                        0.4947197311377341,
                                        0.4944825867247401,
                                        0.49428482436471516,
                                        0.4940644789325154,
                                        0.4937105579896176,
                                        0.4935488944562773,
                                        0.4934513618548711,
                                        0.4933094806969166
                                    ]
                                },
                                {
                                    "marker": {
                                        "maxdisplayed": 10
                                    },
                                    "mode": "lines+markers",
                                    "name": "Trial11",
                                    "type": "scatter",
                                    "x": [
                                        0
                                    ],
                                    "y": [
                                        0.524200789630413
                                    ]
                                },
                                {
                                    "marker": {
                                        "maxdisplayed": 10
                                    },
                                    "mode": "lines+markers",
                                    "name": "Trial12",
                                    "type": "scatter",
                                    "x": [
                                        0
                                    ],
                                    "y": [
                                        0.5364497601985931
                                    ]
                                },
                                {
                                    "marker": {
                                        "maxdisplayed": 10
                                    },
                                    "mode": "lines+markers",
                                    "name": "Trial13",
                                    "type": "scatter",
                                    "x": [
                                        0,
                                        1,
                                        2,
                                        3,
                                        4,
                                        5,
                                        6,
                                        7,
                                        8,
                                        9,
                                        10,
                                        11,
                                        12,
                                        13,
                                        14,
                                        15,
                                        16,
                                        17,
                                        18,
                                        19,
                                        20,
                                        21,
                                        22,
                                        23,
                                        24,
                                        25,
                                        26,
                                        27,
                                        28,
                                        29,
                                        30,
                                        31,
                                        32,
                                        33,
                                        34,
                                        35,
                                        36,
                                        37,
                                        38,
                                        39,
                                        40,
                                        41,
                                        42,
                                        43,
                                        44,
                                        45,
                                        46,
                                        47,
                                        48,
                                        49
                                    ],
                                    "y": [
                                        0.5065170551339785,
                                        0.48870302736759186,
                                        0.4789055072598987,
                                        0.47262924164533615,
                                        0.4679367949565251,
                                        0.4644868957499663,
                                        0.46140182514985406,
                                        0.459059735139211,
                                        0.4572427286594002,
                                        0.455328436444203,
                                        0.4537201670534683,
                                        0.4523183879339032,
                                        0.4513281627725332,
                                        0.44980367131176446,
                                        0.44846510969930226,
                                        0.44780662562698126,
                                        0.4470561256303507,
                                        0.44642562170823413,
                                        0.4455103411486274,
                                        0.44466967197755974,
                                        0.4437620729681046,
                                        0.4429240413010121,
                                        0.4421995682776839,
                                        0.4414423319200675,
                                        0.440998544494311,
                                        0.4403423995543748,
                                        0.4398553212299759,
                                        0.4392061632658754,
                                        0.4387446385861813,
                                        0.43823397846685513,
                                        0.43773567508305267,
                                        0.43715581771296763,
                                        0.43663358154019927,
                                        0.43602043046962985,
                                        0.43565273448115305,
                                        0.43519477773871684,
                                        0.43481468644228066,
                                        0.43446451961471316,
                                        0.4340490859925237,
                                        0.4339491445571184,
                                        0.4334707588441973,
                                        0.4331392317655541,
                                        0.43290093749068503,
                                        0.43249196728522127,
                                        0.4322378913009608,
                                        0.43190995452628617,
                                        0.4315299245905369,
                                        0.43138014369954664,
                                        0.43108266546409957,
                                        0.4307182825605074
                                    ]
                                },
                                {
                                    "marker": {
                                        "maxdisplayed": 10
                                    },
                                    "mode": "lines+markers",
                                    "name": "Trial14",
                                    "type": "scatter",
                                    "x": [
                                        0,
                                        1,
                                        2,
                                        3,
                                        4,
                                        5,
                                        6,
                                        7,
                                        8,
                                        9,
                                        10,
                                        11,
                                        12,
                                        13,
                                        14,
                                        15,
                                        16,
                                        17,
                                        18,
                                        19,
                                        20,
                                        21,
                                        22,
                                        23,
                                        24,
                                        25,
                                        26,
                                        27,
                                        28,
                                        29,
                                        30,
                                        31,
                                        32,
                                        33,
                                        34,
                                        35,
                                        36,
                                        37,
                                        38,
                                        39,
                                        40,
                                        41,
                                        42,
                                        43,
                                        44,
                                        45,
                                        46,
                                        47,
                                        48,
                                        49
                                    ],
                                    "y": [
                                        0.4491635163625081,
                                        0.44355022783080733,
                                        0.44021845277812743,
                                        0.4368273764848709,
                                        0.43515676359335587,
                                        0.43268494473563307,
                                        0.431091359328656,
                                        0.4295327045644323,
                                        0.4284579477928303,
                                        0.42759626160065334,
                                        0.42662831418442004,
                                        0.4259527787152264,
                                        0.42500969481009704,
                                        0.42468102950425374,
                                        0.4240189865231514,
                                        0.42361617973074317,
                                        0.4229093607442052,
                                        0.4222799721691344,
                                        0.421849675737975,
                                        0.4216182018319766,
                                        0.4211693512541907,
                                        0.4209084769315792,
                                        0.4204615597491679,
                                        0.4201919309174021,
                                        0.42034570723772047,
                                        0.4198853466182183,
                                        0.4196573690867718,
                                        0.41934710794261515,
                                        0.4190275407899384,
                                        0.4186619527637958,
                                        0.4185725146884559,
                                        0.4187538153491914,
                                        0.4185373190828044,
                                        0.41826941226335135,
                                        0.4181034569229398,
                                        0.41796691543250175,
                                        0.41772413596108154,
                                        0.4175394872170791,
                                        0.41732373324214894,
                                        0.4173159359022975,
                                        0.4170944020757831,
                                        0.4171103068169148,
                                        0.41698441712200185,
                                        0.4168892860638373,
                                        0.4167176850416043,
                                        0.4165935583304668,
                                        0.4164662519668011,
                                        0.4163107563120623,
                                        0.41618020832538605,
                                        0.416173525651296
                                    ]
                                },
                                {
                                    "marker": {
                                        "maxdisplayed": 10
                                    },
                                    "mode": "lines+markers",
                                    "name": "Trial15",
                                    "type": "scatter",
                                    "x": [
                                        0
                                    ],
                                    "y": [
                                        0.5234953984618187
                                    ]
                                },
                                {
                                    "marker": {
                                        "maxdisplayed": 10
                                    },
                                    "mode": "lines+markers",
                                    "name": "Trial16",
                                    "type": "scatter",
                                    "x": [
                                        0,
                                        1,
                                        2,
                                        3,
                                        4,
                                        5,
                                        6,
                                        7,
                                        8,
                                        9,
                                        10,
                                        11,
                                        12,
                                        13,
                                        14,
                                        15,
                                        16,
                                        17,
                                        18,
                                        19,
                                        20,
                                        21,
                                        22,
                                        23,
                                        24,
                                        25,
                                        26,
                                        27,
                                        28,
                                        29,
                                        30,
                                        31,
                                        32,
                                        33,
                                        34,
                                        35,
                                        36,
                                        37,
                                        38,
                                        39,
                                        40,
                                        41,
                                        42,
                                        43,
                                        44,
                                        45,
                                        46,
                                        47,
                                        48,
                                        49
                                    ],
                                    "y": [
                                        0.4523515999317169,
                                        0.45034516230225563,
                                        0.4457145416074329,
                                        0.4449043373266856,
                                        0.43998025606075924,
                                        0.4378585782315996,
                                        0.4342427640443757,
                                        0.4331780668968956,
                                        0.43094527279889144,
                                        0.42942660699288054,
                                        0.4289121149164258,
                                        0.42733538171483415,
                                        0.42636835536895656,
                                        0.426976079564719,
                                        0.4264130529430178,
                                        0.4254636991148194,
                                        0.42473621578777543,
                                        0.4240380310349995,
                                        0.4236698099657109,
                                        0.42265047195057076,
                                        0.42150227619068964,
                                        0.4212734840358749,
                                        0.4203792806120887,
                                        0.4194341371249822,
                                        0.41882144312063857,
                                        0.41823234666998577,
                                        0.4174390453615307,
                                        0.4167238770141489,
                                        0.4159409062101924,
                                        0.41604008078575144,
                                        0.4157458994016853,
                                        0.41549759125337005,
                                        0.4151930542606296,
                                        0.4147278786289926,
                                        0.4142183057609059,
                                        0.4136778678469084,
                                        0.4132721579155406,
                                        0.4126849016991624,
                                        0.41228453948711735,
                                        0.4118093293781081,
                                        0.41142374658729963,
                                        0.41125422680661783,
                                        0.41080840913824324,
                                        0.4103561129533882,
                                        0.4099496414264042,
                                        0.409461255468752,
                                        0.4090782799196581,
                                        0.4088744214322004,
                                        0.4088194067684971,
                                        0.4085415351390838
                                    ]
                                },
                                {
                                    "marker": {
                                        "maxdisplayed": 10
                                    },
                                    "mode": "lines+markers",
                                    "name": "Trial17",
                                    "type": "scatter",
                                    "x": [
                                        0
                                    ],
                                    "y": [
                                        0.6131351441144943
                                    ]
                                },
                                {
                                    "marker": {
                                        "maxdisplayed": 10
                                    },
                                    "mode": "lines+markers",
                                    "name": "Trial18",
                                    "type": "scatter",
                                    "x": [
                                        0,
                                        1,
                                        2,
                                        3,
                                        4,
                                        5,
                                        6,
                                        7,
                                        8,
                                        9,
                                        10,
                                        11,
                                        12,
                                        13,
                                        14,
                                        15,
                                        16,
                                        17,
                                        18,
                                        19,
                                        20,
                                        21,
                                        22,
                                        23,
                                        24,
                                        25,
                                        26,
                                        27,
                                        28,
                                        29,
                                        30,
                                        31,
                                        32,
                                        33,
                                        34,
                                        35,
                                        36,
                                        37,
                                        38,
                                        39,
                                        40,
                                        41,
                                        42,
                                        43,
                                        44,
                                        45,
                                        46,
                                        47,
                                        48,
                                        49
                                    ],
                                    "y": [
                                        0.46879496177037555,
                                        0.46176672975222266,
                                        0.4598091401987605,
                                        0.4569166116416454,
                                        0.45559766689936315,
                                        0.45179885543055004,
                                        0.4494908217872892,
                                        0.4484932118405898,
                                        0.4462054697451767,
                                        0.44450660074750575,
                                        0.4432527431935975,
                                        0.44197357342474985,
                                        0.44174567571817297,
                                        0.44076831177586595,
                                        0.44009721328814816,
                                        0.43895145040005445,
                                        0.43806290378173196,
                                        0.43738547271048583,
                                        0.43675567262005394,
                                        0.43643010916809244,
                                        0.43640173392163384,
                                        0.43609173358841374,
                                        0.43563836564620334,
                                        0.4357178934539358,
                                        0.4354532436529795,
                                        0.4355665665979569,
                                        0.4359780528847082,
                                        0.43602827155873886,
                                        0.4360576787556725,
                                        0.4363151610725456,
                                        0.4361619330862517,
                                        0.4361965480105331,
                                        0.4361252316621819,
                                        0.43646513619551475,
                                        0.4370217045148214,
                                        0.43794832840837816,
                                        0.4389446492533426,
                                        0.4402019622033102,
                                        0.44136038900185853,
                                        0.4424016258368889,
                                        0.44330587050294484,
                                        0.4446461883683999,
                                        0.4457375851365947,
                                        0.44699284998756467,
                                        0.44814691162771647,
                                        0.44932318511216535,
                                        0.4504717274020749,
                                        0.4516539483124184,
                                        0.45272683261000385,
                                        0.4538213170568149
                                    ]
                                },
                                {
                                    "marker": {
                                        "maxdisplayed": 10
                                    },
                                    "mode": "lines+markers",
                                    "name": "Trial19",
                                    "type": "scatter",
                                    "x": [
                                        0,
                                        1,
                                        2,
                                        3,
                                        4,
                                        5,
                                        6,
                                        7,
                                        8,
                                        9,
                                        10,
                                        11,
                                        12,
                                        13,
                                        14,
                                        15,
                                        16,
                                        17,
                                        18,
                                        19,
                                        20,
                                        21,
                                        22,
                                        23,
                                        24,
                                        25,
                                        26,
                                        27,
                                        28,
                                        29,
                                        30,
                                        31,
                                        32,
                                        33,
                                        34,
                                        35,
                                        36,
                                        37,
                                        38,
                                        39,
                                        40,
                                        41,
                                        42,
                                        43,
                                        44,
                                        45,
                                        46,
                                        47,
                                        48,
                                        49
                                    ],
                                    "y": [
                                        0.44465289016564685,
                                        0.43502039834856987,
                                        0.42928634749518496,
                                        0.42505443530778086,
                                        0.42118569314479826,
                                        0.4188700496322579,
                                        0.4160399465333847,
                                        0.41339673195034266,
                                        0.41123252472391836,
                                        0.41039406533042583,
                                        0.40859164703976014,
                                        0.40716548967692584,
                                        0.40558862762573433,
                                        0.4047797366621948,
                                        0.4036755435996585,
                                        0.4024159853967527,
                                        0.40137590555583724,
                                        0.4006039180137492,
                                        0.3996101540693065,
                                        0.3987351181606451,
                                        0.39793689915585134,
                                        0.39716562323949556,
                                        0.39650983147431107,
                                        0.3959105492879947,
                                        0.3954263405005137,
                                        0.3949070090475754,
                                        0.3943934727598119,
                                        0.39391985553361114,
                                        0.393505066290669,
                                        0.3929527284370528,
                                        0.39271808631958494,
                                        0.39235656638629735,
                                        0.39206796064220295,
                                        0.3918046531285726,
                                        0.3914718365385419,
                                        0.3912030868922119,
                                        0.390974794422184,
                                        0.390760950874864,
                                        0.3906015028428828,
                                        0.39038701696942246,
                                        0.3901992000457717,
                                        0.39016816534456755,
                                        0.3901068599418152,
                                        0.3899796764846101,
                                        0.38986580680917815,
                                        0.38978673760657734,
                                        0.38965876865471516,
                                        0.38951267022639513,
                                        0.38947644089760425,
                                        0.3893652445077896
                                    ]
                                },
                                {
                                    "marker": {
                                        "maxdisplayed": 10
                                    },
                                    "mode": "lines+markers",
                                    "name": "Trial20",
                                    "type": "scatter",
                                    "x": [
                                        0,
                                        1,
                                        2,
                                        3,
                                        4,
                                        5,
                                        6,
                                        7,
                                        8,
                                        9,
                                        10,
                                        11,
                                        12,
                                        13,
                                        14,
                                        15,
                                        16,
                                        17,
                                        18,
                                        19,
                                        20,
                                        21,
                                        22,
                                        23,
                                        24,
                                        25,
                                        26,
                                        27,
                                        28,
                                        29,
                                        30,
                                        31,
                                        32,
                                        33,
                                        34,
                                        35,
                                        36,
                                        37,
                                        38,
                                        39,
                                        40,
                                        41,
                                        42,
                                        43,
                                        44,
                                        45,
                                        46,
                                        47,
                                        48,
                                        49
                                    ],
                                    "y": [
                                        0.4383932178219159,
                                        0.4313113006452719,
                                        0.4243005373411708,
                                        0.4198831710964441,
                                        0.41713921874761584,
                                        0.4152699675824907,
                                        0.4132373790655817,
                                        0.41132594396670663,
                                        0.4093888559275204,
                                        0.40832431986927986,
                                        0.40698745914480905,
                                        0.4056648901767201,
                                        0.40487977766837824,
                                        0.4037770181894302,
                                        0.40266228798362935,
                                        0.4016241243419548,
                                        0.4006654013897859,
                                        0.39989046766250225,
                                        0.3991341206588243,
                                        0.39840069860219957,
                                        0.3977552961025919,
                                        0.39770700624494837,
                                        0.397005744818328,
                                        0.39657964940286344,
                                        0.39607920149962106,
                                        0.3956159981779563,
                                        0.39517621512030376,
                                        0.3949130660898628,
                                        0.39446792349048043,
                                        0.3940568567150169,
                                        0.3937683980311117,
                                        0.393517956448098,
                                        0.3933596225699993,
                                        0.3930512205788902,
                                        0.39316321661074954,
                                        0.3928872143366822,
                                        0.3926944396383053,
                                        0.39250861944859483,
                                        0.39226429189881706,
                                        0.39208165686577556,
                                        0.3918958763039209,
                                        0.3916156167785327,
                                        0.39153200272441835,
                                        0.39136713427124603,
                                        0.3912193522961052,
                                        0.3910815396710583,
                                        0.3909560771698648,
                                        0.3908219124811391,
                                        0.39071009399331347,
                                        0.390595313111941
                                    ]
                                },
                                {
                                    "marker": {
                                        "maxdisplayed": 10
                                    },
                                    "mode": "lines+markers",
                                    "name": "Trial21",
                                    "type": "scatter",
                                    "x": [
                                        0,
                                        1,
                                        2,
                                        3,
                                        4,
                                        5,
                                        6,
                                        7,
                                        8,
                                        9,
                                        10,
                                        11,
                                        12,
                                        13,
                                        14,
                                        15,
                                        16,
                                        17,
                                        18,
                                        19,
                                        20,
                                        21,
                                        22,
                                        23,
                                        24,
                                        25,
                                        26,
                                        27,
                                        28,
                                        29,
                                        30,
                                        31,
                                        32,
                                        33,
                                        34,
                                        35,
                                        36,
                                        37,
                                        38,
                                        39,
                                        40,
                                        41,
                                        42,
                                        43,
                                        44,
                                        45,
                                        46,
                                        47,
                                        48,
                                        49
                                    ],
                                    "y": [
                                        0.47099415957927704,
                                        0.4598937816917896,
                                        0.4521756039725409,
                                        0.4462478831410408,
                                        0.44121195425589876,
                                        0.4372970052063465,
                                        0.43348130832115805,
                                        0.43001420764873427,
                                        0.4268971262154756,
                                        0.42419984365502994,
                                        0.42177684943784366,
                                        0.4197515470700131,
                                        0.41787454504997296,
                                        0.4160994101493131,
                                        0.4144713641868697,
                                        0.41286611882969737,
                                        0.41134391900371103,
                                        0.4098884593005534,
                                        0.4085683980793284,
                                        0.407333817332983,
                                        0.4061561815795444,
                                        0.40509562070171035,
                                        0.4041250197999719,
                                        0.4032369127704038,
                                        0.4022989658514659,
                                        0.40146109576408684,
                                        0.4006430032996484,
                                        0.39988368465786894,
                                        0.39914747678685464,
                                        0.39843427712718643,
                                        0.3977634303512112,
                                        0.3971297588044157,
                                        0.396537354197165,
                                        0.39594413581139903,
                                        0.39542014293727423,
                                        0.39486744682546016,
                                        0.39437835072880395,
                                        0.39388920634723545,
                                        0.39345996820519114,
                                        0.39305606968700885,
                                        0.3926130491422444,
                                        0.39218862478931743,
                                        0.39179909102214394,
                                        0.3914257274432616,
                                        0.39113749094583367,
                                        0.39084060236379714,
                                        0.39050906140964925,
                                        0.39021453307941556,
                                        0.3899369678732489,
                                        0.3896437821288903
                                    ]
                                },
                                {
                                    "marker": {
                                        "maxdisplayed": 10
                                    },
                                    "mode": "lines+markers",
                                    "name": "Trial22",
                                    "type": "scatter",
                                    "x": [
                                        0,
                                        1,
                                        2,
                                        3,
                                        4,
                                        5,
                                        6,
                                        7,
                                        8,
                                        9,
                                        10,
                                        11,
                                        12,
                                        13,
                                        14,
                                        15,
                                        16,
                                        17,
                                        18,
                                        19,
                                        20,
                                        21,
                                        22,
                                        23,
                                        24,
                                        25,
                                        26,
                                        27,
                                        28,
                                        29,
                                        30,
                                        31,
                                        32,
                                        33,
                                        34,
                                        35,
                                        36,
                                        37,
                                        38,
                                        39,
                                        40,
                                        41,
                                        42,
                                        43,
                                        44,
                                        45,
                                        46,
                                        47,
                                        48,
                                        49
                                    ],
                                    "y": [
                                        0.432734747727712,
                                        0.4255725381275018,
                                        0.41954953637388015,
                                        0.415160013983647,
                                        0.4125323270757993,
                                        0.40929296778308016,
                                        0.40667124766679036,
                                        0.4047140584637721,
                                        0.4034848199398429,
                                        0.40183098490039504,
                                        0.40050535107200785,
                                        0.39929094517396546,
                                        0.39895655864324314,
                                        0.39816534519195546,
                                        0.3971840560436248,
                                        0.3963577329802016,
                                        0.39551251673815296,
                                        0.395400230669313,
                                        0.3950359817398222,
                                        0.39442191608250143,
                                        0.3938314497234329,
                                        0.39322282712567935,
                                        0.3928985745794531,
                                        0.392356821646293,
                                        0.3918238079547882,
                                        0.39164604103335965,
                                        0.3911572816195311,
                                        0.3907971578162341,
                                        0.39038945263487174,
                                        0.39008528366684914,
                                        0.389877992051263,
                                        0.38958266136857367,
                                        0.38941085451480106,
                                        0.38914767440919773,
                                        0.38889122619515365,
                                        0.38870333397278073,
                                        0.3884050784347293,
                                        0.3882747941503399,
                                        0.38802037649175036,
                                        0.38783684236307936,
                                        0.3876925797118404,
                                        0.3875929422913089,
                                        0.38741194601206813,
                                        0.3873127819688031,
                                        0.38722577321308627,
                                        0.38712474255674123,
                                        0.38703638278212105,
                                        0.38691834494885474,
                                        0.38682376765677723,
                                        0.38669795528054235
                                    ]
                                },
                                {
                                    "marker": {
                                        "maxdisplayed": 10
                                    },
                                    "mode": "lines+markers",
                                    "name": "Trial23",
                                    "type": "scatter",
                                    "x": [
                                        0
                                    ],
                                    "y": [
                                        0.5931025197108587
                                    ]
                                },
                                {
                                    "marker": {
                                        "maxdisplayed": 10
                                    },
                                    "mode": "lines+markers",
                                    "name": "Trial24",
                                    "type": "scatter",
                                    "x": [
                                        0
                                    ],
                                    "y": [
                                        0.523844932516416
                                    ]
                                },
                                {
                                    "marker": {
                                        "maxdisplayed": 10
                                    },
                                    "mode": "lines+markers",
                                    "name": "Trial25",
                                    "type": "scatter",
                                    "x": [
                                        0,
                                        1,
                                        2,
                                        3,
                                        4,
                                        5,
                                        6,
                                        7,
                                        8,
                                        9,
                                        10,
                                        11,
                                        12,
                                        13,
                                        14,
                                        15,
                                        16,
                                        17,
                                        18,
                                        19,
                                        20,
                                        21,
                                        22,
                                        23,
                                        24,
                                        25,
                                        26,
                                        27,
                                        28,
                                        29,
                                        30,
                                        31,
                                        32,
                                        33,
                                        34,
                                        35,
                                        36,
                                        37,
                                        38,
                                        39,
                                        40,
                                        41,
                                        42,
                                        43,
                                        44,
                                        45,
                                        46,
                                        47,
                                        48,
                                        49
                                    ],
                                    "y": [
                                        0.4368332450588544,
                                        0.43184200301766396,
                                        0.4264357156223721,
                                        0.427915076414744,
                                        0.4236457581321398,
                                        0.4207732395993338,
                                        0.41879021589245113,
                                        0.4183389591053128,
                                        0.4165611948679995,
                                        0.41652899707357083,
                                        0.41471787203441957,
                                        0.4131515365507867,
                                        0.41232712796101195,
                                        0.4111716603594166,
                                        0.40989163700077264,
                                        0.4092947308284541,
                                        0.4087214430465418,
                                        0.40780900335974163,
                                        0.40704677541527834,
                                        0.4067692222694556,
                                        0.40620182561022894,
                                        0.40544352432092035,
                                        0.4048154143535573,
                                        0.40416206636776525,
                                        0.4035204764207204,
                                        0.40283512113950193,
                                        0.402445129406305,
                                        0.4018040364164682,
                                        0.40155852166400563,
                                        0.40123621788289815,
                                        0.40089660001698363,
                                        0.40054152642066276,
                                        0.3999756826746343,
                                        0.3995475483437379,
                                        0.3992337463157517,
                                        0.3988023607267273,
                                        0.39847353235021366,
                                        0.3981742717717823,
                                        0.39777473755117154,
                                        0.3974293118342757,
                                        0.39723186752175893,
                                        0.39712637544624385,
                                        0.39692460809105123,
                                        0.39671170243033854,
                                        0.39644197650529717,
                                        0.3962090369044006,
                                        0.39601305132427955,
                                        0.39582461325658697,
                                        0.39560128824443236,
                                        0.39555537497003873
                                    ]
                                },
                                {
                                    "marker": {
                                        "maxdisplayed": 10
                                    },
                                    "mode": "lines+markers",
                                    "name": "Trial26",
                                    "type": "scatter",
                                    "x": [
                                        0
                                    ],
                                    "y": [
                                        0.5241402884324392
                                    ]
                                },
                                {
                                    "marker": {
                                        "maxdisplayed": 10
                                    },
                                    "mode": "lines+markers",
                                    "name": "Trial27",
                                    "type": "scatter",
                                    "x": [
                                        0,
                                        1,
                                        2,
                                        3,
                                        4,
                                        5,
                                        6,
                                        7,
                                        8,
                                        9,
                                        10,
                                        11,
                                        12,
                                        13,
                                        14,
                                        15,
                                        16,
                                        17,
                                        18,
                                        19,
                                        20,
                                        21,
                                        22,
                                        23,
                                        24,
                                        25,
                                        26,
                                        27,
                                        28,
                                        29,
                                        30,
                                        31,
                                        32,
                                        33,
                                        34,
                                        35,
                                        36,
                                        37,
                                        38,
                                        39,
                                        40,
                                        41,
                                        42,
                                        43,
                                        44,
                                        45,
                                        46,
                                        47,
                                        48,
                                        49
                                    ],
                                    "y": [
                                        0.45916639268398285,
                                        0.45265432447195053,
                                        0.4517129758993785,
                                        0.4480028593291839,
                                        0.44762373367945346,
                                        0.44410367558399827,
                                        0.4422677577961058,
                                        0.44017670707156265,
                                        0.43812377502520883,
                                        0.43629740451773014,
                                        0.4350000960808812,
                                        0.4328012160129018,
                                        0.4305854349946365,
                                        0.4289574262996515,
                                        0.42760142087936404,
                                        0.42678075764949125,
                                        0.4252333934692776,
                                        0.4240189162945306,
                                        0.4227156077037778,
                                        0.42122246983150646,
                                        0.42017339631205514,
                                        0.4193693021255912,
                                        0.418123939331027,
                                        0.4169659170632561,
                                        0.4158345446983973,
                                        0.41471415882309276,
                                        0.4141928938067989,
                                        0.41340574010142256,
                                        0.41263942317716007,
                                        0.4124118134379387,
                                        0.4117635729652579,
                                        0.41097095236182213,
                                        0.41038506071675906,
                                        0.40962743401235224,
                                        0.4092947529894965,
                                        0.40886117421366547,
                                        0.40834195012444846,
                                        0.4077749708504007,
                                        0.4073098308892331,
                                        0.4069050669049223,
                                        0.4065856865145326,
                                        0.4061715935194303,
                                        0.4059772195742111,
                                        0.4054052039529337,
                                        0.40504118325533683,
                                        0.4047655922671159,
                                        0.4044280079133967,
                                        0.40411272857131225,
                                        0.40367941274529406,
                                        0.4034333918491999
                                    ]
                                },
                                {
                                    "marker": {
                                        "maxdisplayed": 10
                                    },
                                    "mode": "lines+markers",
                                    "name": "Trial28",
                                    "type": "scatter",
                                    "x": [
                                        0,
                                        1,
                                        2,
                                        3,
                                        4,
                                        5,
                                        6,
                                        7,
                                        8,
                                        9,
                                        10,
                                        11,
                                        12,
                                        13,
                                        14,
                                        15,
                                        16,
                                        17,
                                        18,
                                        19,
                                        20,
                                        21,
                                        22,
                                        23,
                                        24,
                                        25,
                                        26,
                                        27,
                                        28,
                                        29,
                                        30,
                                        31,
                                        32,
                                        33,
                                        34,
                                        35,
                                        36,
                                        37,
                                        38,
                                        39,
                                        40,
                                        41,
                                        42,
                                        43,
                                        44,
                                        45,
                                        46,
                                        47,
                                        48,
                                        49
                                    ],
                                    "y": [
                                        0.4529164855678876,
                                        0.44108987351258594,
                                        0.43409300843874615,
                                        0.43308702918390435,
                                        0.4281728401780128,
                                        0.42496895748707986,
                                        0.42175259973321644,
                                        0.419171504676342,
                                        0.4179200897062266,
                                        0.4154538902143637,
                                        0.41345424927545316,
                                        0.41164066394170123,
                                        0.4099932788656308,
                                        0.40854656873714357,
                                        0.40738345401154624,
                                        0.4063886868146559,
                                        0.40535289078366527,
                                        0.40436948339144396,
                                        0.403478711059219,
                                        0.40283087020119035,
                                        0.40220760069196193,
                                        0.40159053807005746,
                                        0.40101104143305105,
                                        0.40071118271185285,
                                        0.40021725684404363,
                                        0.39962474657939023,
                                        0.39913474087729855,
                                        0.3987847314704031,
                                        0.3983595948452236,
                                        0.39823001498977334,
                                        0.3979826765835925,
                                        0.3977251776183645,
                                        0.39737736268175977,
                                        0.3970639565411736,
                                        0.3967175553242366,
                                        0.396539934117485,
                                        0.39629326277487986,
                                        0.39608030576716385,
                                        0.3958259341426385,
                                        0.3955834867432714,
                                        0.3953322123100118,
                                        0.3951232862023134,
                                        0.3950109015139498,
                                        0.39482450507807004,
                                        0.3947169633375273,
                                        0.39459929015973333,
                                        0.3944174868206605,
                                        0.39440859212643575,
                                        0.3943197998363956,
                                        0.39426790575186416
                                    ]
                                },
                                {
                                    "marker": {
                                        "maxdisplayed": 10
                                    },
                                    "mode": "lines+markers",
                                    "name": "Trial29",
                                    "type": "scatter",
                                    "x": [
                                        0
                                    ],
                                    "y": [
                                        0.5234312812487284
                                    ]
                                },
                                {
                                    "marker": {
                                        "maxdisplayed": 10
                                    },
                                    "mode": "lines+markers",
                                    "name": "Trial30",
                                    "type": "scatter",
                                    "x": [
                                        0
                                    ],
                                    "y": [
                                        0.5066680734356245
                                    ]
                                },
                                {
                                    "marker": {
                                        "maxdisplayed": 10
                                    },
                                    "mode": "lines+markers",
                                    "name": "Trial31",
                                    "type": "scatter",
                                    "x": [
                                        0,
                                        1,
                                        2,
                                        3,
                                        4,
                                        5,
                                        6,
                                        7,
                                        8,
                                        9,
                                        10,
                                        11,
                                        12,
                                        13,
                                        14,
                                        15,
                                        16,
                                        17,
                                        18,
                                        19,
                                        20,
                                        21,
                                        22,
                                        23,
                                        24,
                                        25,
                                        26,
                                        27,
                                        28,
                                        29,
                                        30,
                                        31,
                                        32,
                                        33,
                                        34,
                                        35,
                                        36,
                                        37,
                                        38,
                                        39,
                                        40,
                                        41,
                                        42,
                                        43,
                                        44,
                                        45,
                                        46,
                                        47,
                                        48,
                                        49
                                    ],
                                    "y": [
                                        0.4461485296487808,
                                        0.4360768261055151,
                                        0.4303942686981625,
                                        0.42694291037817794,
                                        0.42312767406304674,
                                        0.41978262199295885,
                                        0.41830064817553475,
                                        0.4164575242126981,
                                        0.4140318477595294,
                                        0.41182074670990304,
                                        0.4099699087215192,
                                        0.4087500642571184,
                                        0.4071349566563581,
                                        0.40608308286893935,
                                        0.40507296671470006,
                                        0.4039038539243241,
                                        0.4033942151011205,
                                        0.4025242059595055,
                                        0.40166254629168596,
                                        0.4010061413049698,
                                        0.40039446193074424,
                                        0.39962004339604673,
                                        0.3991839436517246,
                                        0.39912797376099557,
                                        0.39860651632150007,
                                        0.39803743371978784,
                                        0.39766912410656613,
                                        0.39731306077114176,
                                        0.39689192295759573,
                                        0.3964290660288599,
                                        0.3959546345536427,
                                        0.3956279456615448,
                                        0.39532275535542555,
                                        0.3951839586975528,
                                        0.3950035900587128,
                                        0.3949342591481077,
                                        0.39479990853919644,
                                        0.39457025339728913,
                                        0.3942763149483592,
                                        0.39401548684885107,
                                        0.3940001768552191,
                                        0.3937793197258125,
                                        0.3937812547466552,
                                        0.39353721972667816,
                                        0.3934201113051839,
                                        0.3932579920451711,
                                        0.39316371870590444,
                                        0.3931634031339652,
                                        0.3931478309083958,
                                        0.39299730395277344
                                    ]
                                },
                                {
                                    "marker": {
                                        "maxdisplayed": 10
                                    },
                                    "mode": "lines+markers",
                                    "name": "Trial32",
                                    "type": "scatter",
                                    "x": [
                                        0
                                    ],
                                    "y": [
                                        0.47376441210508347
                                    ]
                                },
                                {
                                    "marker": {
                                        "maxdisplayed": 10
                                    },
                                    "mode": "lines+markers",
                                    "name": "Trial33",
                                    "type": "scatter",
                                    "x": [
                                        0
                                    ],
                                    "y": [
                                        0.5235576728979746
                                    ]
                                },
                                {
                                    "marker": {
                                        "maxdisplayed": 10
                                    },
                                    "mode": "lines+markers",
                                    "name": "Trial34",
                                    "type": "scatter",
                                    "x": [
                                        0
                                    ],
                                    "y": [
                                        0.5076257412632307
                                    ]
                                },
                                {
                                    "marker": {
                                        "maxdisplayed": 10
                                    },
                                    "mode": "lines+markers",
                                    "name": "Trial35",
                                    "type": "scatter",
                                    "x": [
                                        0
                                    ],
                                    "y": [
                                        0.5001558214426041
                                    ]
                                },
                                {
                                    "marker": {
                                        "maxdisplayed": 10
                                    },
                                    "mode": "lines+markers",
                                    "name": "Trial36",
                                    "type": "scatter",
                                    "x": [
                                        0
                                    ],
                                    "y": [
                                        0.47448113063971203
                                    ]
                                },
                                {
                                    "marker": {
                                        "maxdisplayed": 10
                                    },
                                    "mode": "lines+markers",
                                    "name": "Trial37",
                                    "type": "scatter",
                                    "x": [
                                        0
                                    ],
                                    "y": [
                                        0.523867184917132
                                    ]
                                },
                                {
                                    "marker": {
                                        "maxdisplayed": 10
                                    },
                                    "mode": "lines+markers",
                                    "name": "Trial38",
                                    "type": "scatter",
                                    "x": [
                                        0
                                    ],
                                    "y": [
                                        0.5240674242377281
                                    ]
                                },
                                {
                                    "marker": {
                                        "maxdisplayed": 10
                                    },
                                    "mode": "lines+markers",
                                    "name": "Trial39",
                                    "type": "scatter",
                                    "x": [
                                        0
                                    ],
                                    "y": [
                                        0.4943789740403493
                                    ]
                                },
                                {
                                    "marker": {
                                        "maxdisplayed": 10
                                    },
                                    "mode": "lines+markers",
                                    "name": "Trial40",
                                    "type": "scatter",
                                    "x": [
                                        0,
                                        1,
                                        2,
                                        3,
                                        4,
                                        5,
                                        6,
                                        7,
                                        8,
                                        9,
                                        10,
                                        11,
                                        12,
                                        13,
                                        14,
                                        15,
                                        16,
                                        17,
                                        18,
                                        19,
                                        20,
                                        21,
                                        22,
                                        23,
                                        24,
                                        25,
                                        26,
                                        27,
                                        28,
                                        29,
                                        30,
                                        31,
                                        32,
                                        33,
                                        34,
                                        35,
                                        36,
                                        37,
                                        38,
                                        39,
                                        40,
                                        41,
                                        42,
                                        43,
                                        44,
                                        45,
                                        46,
                                        47,
                                        48,
                                        49
                                    ],
                                    "y": [
                                        0.4293893128633499,
                                        0.4199405449132124,
                                        0.4140288631121318,
                                        0.40968899925549823,
                                        0.4066419944167137,
                                        0.4035812707410918,
                                        0.3999207048189072,
                                        0.3972798204049468,
                                        0.39580225199460983,
                                        0.3931776963174343,
                                        0.39122562923214654,
                                        0.38955386355519295,
                                        0.3896937609100953,
                                        0.38865466611016364,
                                        0.387362089422014,
                                        0.3871547815700372,
                                        0.3877917728295513,
                                        0.3871232508509247,
                                        0.3863619632626834,
                                        0.38569205602010087,
                                        0.3854743014015848,
                                        0.3850355234109994,
                                        0.3850286945268727,
                                        0.38457582611590624,
                                        0.38480071524778997,
                                        0.3852746541110369,
                                        0.3854719931144773,
                                        0.3855697822180532,
                                        0.38596903789660025,
                                        0.3863609901732869,
                                        0.38650964224530804,
                                        0.38692491423959535,
                                        0.38728327725571815,
                                        0.38747783859863,
                                        0.38843366290841785,
                                        0.3890208738545577,
                                        0.38952462529545434,
                                        0.39015807668890873,
                                        0.3908267248517428,
                                        0.3915667045861483,
                                        0.39201045109004506,
                                        0.39249453841457294,
                                        0.39336104875849204,
                                        0.3938838659475248,
                                        0.39458421027218854,
                                        0.395668823811887,
                                        0.3969042478723729,
                                        0.3976604415414234,
                                        0.3983616305857289,
                                        0.39896093592047693
                                    ]
                                },
                                {
                                    "marker": {
                                        "maxdisplayed": 10
                                    },
                                    "mode": "lines+markers",
                                    "name": "Trial41",
                                    "type": "scatter",
                                    "x": [
                                        0,
                                        1,
                                        2,
                                        3,
                                        4,
                                        5,
                                        6,
                                        7,
                                        8,
                                        9,
                                        10,
                                        11,
                                        12,
                                        13,
                                        14,
                                        15,
                                        16,
                                        17,
                                        18,
                                        19,
                                        20,
                                        21,
                                        22,
                                        23,
                                        24,
                                        25,
                                        26,
                                        27,
                                        28,
                                        29,
                                        30,
                                        31,
                                        32,
                                        33,
                                        34,
                                        35,
                                        36,
                                        37,
                                        38,
                                        39,
                                        40,
                                        41,
                                        42,
                                        43,
                                        44,
                                        45,
                                        46,
                                        47,
                                        48,
                                        49
                                    ],
                                    "y": [
                                        0.4514320840438207,
                                        0.4436943506201108,
                                        0.43913722121053267,
                                        0.43489529813329375,
                                        0.4309069300691286,
                                        0.42643403510252625,
                                        0.42245139855714064,
                                        0.41920282505452633,
                                        0.41626487258407807,
                                        0.4136019801100095,
                                        0.41202395160992933,
                                        0.41021749460034895,
                                        0.4079435612910833,
                                        0.4060682886767955,
                                        0.4045048180553648,
                                        0.40306765027344227,
                                        0.4025161977784307,
                                        0.4014456185201804,
                                        0.4007907168645608,
                                        0.39969561571876205,
                                        0.39853713625953313,
                                        0.3976083265786821,
                                        0.396861699288306,
                                        0.3960350163074003,
                                        0.3955200606584549,
                                        0.39459288425934624,
                                        0.3938924865222272,
                                        0.3931660954618738,
                                        0.39254895100990933,
                                        0.3919045026103655,
                                        0.39132777281025405,
                                        0.39075083867646754,
                                        0.3902364220432561,
                                        0.3897774421116885,
                                        0.38944500365427565,
                                        0.38899657551061223,
                                        0.3887335611759005,
                                        0.38831823802830884,
                                        0.3878995634806462,
                                        0.38754556626081466,
                                        0.38713319048406636,
                                        0.38683040434169397,
                                        0.386484103840451,
                                        0.38607748055999935,
                                        0.3857540259758632,
                                        0.38554754588699003,
                                        0.38537532017163356,
                                        0.38506135313461226,
                                        0.38474381598485574,
                                        0.384523332665364
                                    ]
                                },
                                {
                                    "marker": {
                                        "maxdisplayed": 10
                                    },
                                    "mode": "lines+markers",
                                    "name": "Trial42",
                                    "type": "scatter",
                                    "x": [
                                        0,
                                        1,
                                        2,
                                        3,
                                        4,
                                        5,
                                        6,
                                        7,
                                        8,
                                        9,
                                        10,
                                        11,
                                        12,
                                        13,
                                        14,
                                        15,
                                        16,
                                        17,
                                        18,
                                        19,
                                        20,
                                        21,
                                        22,
                                        23,
                                        24,
                                        25,
                                        26,
                                        27,
                                        28,
                                        29,
                                        30,
                                        31,
                                        32,
                                        33,
                                        34,
                                        35,
                                        36,
                                        37,
                                        38,
                                        39,
                                        40,
                                        41,
                                        42,
                                        43,
                                        44,
                                        45,
                                        46,
                                        47,
                                        48,
                                        49
                                    ],
                                    "y": [
                                        0.4586021527647972,
                                        0.45128486678004265,
                                        0.446196548640728,
                                        0.4412639904767275,
                                        0.4404790610074997,
                                        0.436367920289437,
                                        0.43286514530579245,
                                        0.4296691796431939,
                                        0.42702558305528426,
                                        0.4239717880884807,
                                        0.42231026201537164,
                                        0.4198669155852663,
                                        0.41762813123372894,
                                        0.4156303976972899,
                                        0.4135771751403809,
                                        0.4118728577159345,
                                        0.41004903570694085,
                                        0.4087142240669992,
                                        0.40732095116063166,
                                        0.4061672642827034,
                                        0.405136645786346,
                                        0.4038627867897352,
                                        0.4027587558696236,
                                        0.4025361640378833,
                                        0.4019264028469721,
                                        0.40109641267321045,
                                        0.4003511981831656,
                                        0.3997544607236271,
                                        0.3989037450873988,
                                        0.39850951317283834,
                                        0.39794577578062645,
                                        0.39742665458470583,
                                        0.39682187328133917,
                                        0.3962761706435213,
                                        0.3956440760266213,
                                        0.3950243942025635,
                                        0.3945091505711143,
                                        0.3940091027894564,
                                        0.3935473682279261,
                                        0.3931985110044479,
                                        0.3930598249038061,
                                        0.39266867906091707,
                                        0.3922563024269518,
                                        0.3919332094603416,
                                        0.39174465752310234,
                                        0.3914163119119147,
                                        0.39124576081620893,
                                        0.390925727215492,
                                        0.3906470970535764,
                                        0.39042316819230705
                                    ]
                                },
                                {
                                    "marker": {
                                        "maxdisplayed": 10
                                    },
                                    "mode": "lines+markers",
                                    "name": "Trial43",
                                    "type": "scatter",
                                    "x": [
                                        0
                                    ],
                                    "y": [
                                        0.5044916172822317
                                    ]
                                },
                                {
                                    "marker": {
                                        "maxdisplayed": 10
                                    },
                                    "mode": "lines+markers",
                                    "name": "Trial44",
                                    "type": "scatter",
                                    "x": [
                                        0,
                                        1,
                                        2,
                                        3,
                                        4,
                                        5,
                                        6,
                                        7
                                    ],
                                    "y": [
                                        0.4498841812213262,
                                        0.44091764961679775,
                                        0.43901035520765513,
                                        0.4362718407064676,
                                        0.43341028044621144,
                                        0.43519835919141764,
                                        0.4435726531914302,
                                        0.43844566897799575
                                    ]
                                },
                                {
                                    "marker": {
                                        "maxdisplayed": 10
                                    },
                                    "mode": "lines+markers",
                                    "name": "Trial45",
                                    "type": "scatter",
                                    "x": [
                                        0
                                    ],
                                    "y": [
                                        0.5742326776186625
                                    ]
                                },
                                {
                                    "marker": {
                                        "maxdisplayed": 10
                                    },
                                    "mode": "lines+markers",
                                    "name": "Trial46",
                                    "type": "scatter",
                                    "x": [
                                        0
                                    ],
                                    "y": [
                                        0.4613864819208781
                                    ]
                                },
                                {
                                    "marker": {
                                        "maxdisplayed": 10
                                    },
                                    "mode": "lines+markers",
                                    "name": "Trial47",
                                    "type": "scatter",
                                    "x": [
                                        0
                                    ],
                                    "y": [
                                        0.5231032197674116
                                    ]
                                },
                                {
                                    "marker": {
                                        "maxdisplayed": 10
                                    },
                                    "mode": "lines+markers",
                                    "name": "Trial48",
                                    "type": "scatter",
                                    "x": [
                                        0
                                    ],
                                    "y": [
                                        0.564364160100619
                                    ]
                                },
                                {
                                    "marker": {
                                        "maxdisplayed": 10
                                    },
                                    "mode": "lines+markers",
                                    "name": "Trial49",
                                    "type": "scatter",
                                    "x": [
                                        0,
                                        1,
                                        2,
                                        3,
                                        4,
                                        5,
                                        6
                                    ],
                                    "y": [
                                        0.4571273749073346,
                                        0.4509716108441353,
                                        0.4460245710280206,
                                        0.4437598666797081,
                                        0.43970428258180616,
                                        0.43722282018926406,
                                        0.4345721520838283
                                    ]
                                }
                            ],
                            "layout": {
                                "showlegend": false,
                                "template": {
                                    "data": {
                                        "bar": [
                                            {
                                                "error_x": {
                                                    "color": "#2a3f5f"
                                                },
                                                "error_y": {
                                                    "color": "#2a3f5f"
                                                },
                                                "marker": {
                                                    "line": {
                                                        "color": "#E5ECF6",
                                                        "width": 0.5
                                                    },
                                                    "pattern": {
                                                        "fillmode": "overlay",
                                                        "size": 10,
                                                        "solidity": 0.2
                                                    }
                                                },
                                                "type": "bar"
                                            }
                                        ],
                                        "barpolar": [
                                            {
                                                "marker": {
                                                    "line": {
                                                        "color": "#E5ECF6",
                                                        "width": 0.5
                                                    },
                                                    "pattern": {
                                                        "fillmode": "overlay",
                                                        "size": 10,
                                                        "solidity": 0.2
                                                    }
                                                },
                                                "type": "barpolar"
                                            }
                                        ],
                                        "carpet": [
                                            {
                                                "aaxis": {
                                                    "endlinecolor": "#2a3f5f",
                                                    "gridcolor": "white",
                                                    "linecolor": "white",
                                                    "minorgridcolor": "white",
                                                    "startlinecolor": "#2a3f5f"
                                                },
                                                "baxis": {
                                                    "endlinecolor": "#2a3f5f",
                                                    "gridcolor": "white",
                                                    "linecolor": "white",
                                                    "minorgridcolor": "white",
                                                    "startlinecolor": "#2a3f5f"
                                                },
                                                "type": "carpet"
                                            }
                                        ],
                                        "choropleth": [
                                            {
                                                "colorbar": {
                                                    "outlinewidth": 0,
                                                    "ticks": ""
                                                },
                                                "type": "choropleth"
                                            }
                                        ],
                                        "contour": [
                                            {
                                                "colorbar": {
                                                    "outlinewidth": 0,
                                                    "ticks": ""
                                                },
                                                "colorscale": [
                                                    [
                                                        0,
                                                        "#0d0887"
                                                    ],
                                                    [
                                                        0.1111111111111111,
                                                        "#46039f"
                                                    ],
                                                    [
                                                        0.2222222222222222,
                                                        "#7201a8"
                                                    ],
                                                    [
                                                        0.3333333333333333,
                                                        "#9c179e"
                                                    ],
                                                    [
                                                        0.4444444444444444,
                                                        "#bd3786"
                                                    ],
                                                    [
                                                        0.5555555555555556,
                                                        "#d8576b"
                                                    ],
                                                    [
                                                        0.6666666666666666,
                                                        "#ed7953"
                                                    ],
                                                    [
                                                        0.7777777777777778,
                                                        "#fb9f3a"
                                                    ],
                                                    [
                                                        0.8888888888888888,
                                                        "#fdca26"
                                                    ],
                                                    [
                                                        1,
                                                        "#f0f921"
                                                    ]
                                                ],
                                                "type": "contour"
                                            }
                                        ],
                                        "contourcarpet": [
                                            {
                                                "colorbar": {
                                                    "outlinewidth": 0,
                                                    "ticks": ""
                                                },
                                                "type": "contourcarpet"
                                            }
                                        ],
                                        "heatmap": [
                                            {
                                                "colorbar": {
                                                    "outlinewidth": 0,
                                                    "ticks": ""
                                                },
                                                "colorscale": [
                                                    [
                                                        0,
                                                        "#0d0887"
                                                    ],
                                                    [
                                                        0.1111111111111111,
                                                        "#46039f"
                                                    ],
                                                    [
                                                        0.2222222222222222,
                                                        "#7201a8"
                                                    ],
                                                    [
                                                        0.3333333333333333,
                                                        "#9c179e"
                                                    ],
                                                    [
                                                        0.4444444444444444,
                                                        "#bd3786"
                                                    ],
                                                    [
                                                        0.5555555555555556,
                                                        "#d8576b"
                                                    ],
                                                    [
                                                        0.6666666666666666,
                                                        "#ed7953"
                                                    ],
                                                    [
                                                        0.7777777777777778,
                                                        "#fb9f3a"
                                                    ],
                                                    [
                                                        0.8888888888888888,
                                                        "#fdca26"
                                                    ],
                                                    [
                                                        1,
                                                        "#f0f921"
                                                    ]
                                                ],
                                                "type": "heatmap"
                                            }
                                        ],
                                        "heatmapgl": [
                                            {
                                                "colorbar": {
                                                    "outlinewidth": 0,
                                                    "ticks": ""
                                                },
                                                "colorscale": [
                                                    [
                                                        0,
                                                        "#0d0887"
                                                    ],
                                                    [
                                                        0.1111111111111111,
                                                        "#46039f"
                                                    ],
                                                    [
                                                        0.2222222222222222,
                                                        "#7201a8"
                                                    ],
                                                    [
                                                        0.3333333333333333,
                                                        "#9c179e"
                                                    ],
                                                    [
                                                        0.4444444444444444,
                                                        "#bd3786"
                                                    ],
                                                    [
                                                        0.5555555555555556,
                                                        "#d8576b"
                                                    ],
                                                    [
                                                        0.6666666666666666,
                                                        "#ed7953"
                                                    ],
                                                    [
                                                        0.7777777777777778,
                                                        "#fb9f3a"
                                                    ],
                                                    [
                                                        0.8888888888888888,
                                                        "#fdca26"
                                                    ],
                                                    [
                                                        1,
                                                        "#f0f921"
                                                    ]
                                                ],
                                                "type": "heatmapgl"
                                            }
                                        ],
                                        "histogram": [
                                            {
                                                "marker": {
                                                    "pattern": {
                                                        "fillmode": "overlay",
                                                        "size": 10,
                                                        "solidity": 0.2
                                                    }
                                                },
                                                "type": "histogram"
                                            }
                                        ],
                                        "histogram2d": [
                                            {
                                                "colorbar": {
                                                    "outlinewidth": 0,
                                                    "ticks": ""
                                                },
                                                "colorscale": [
                                                    [
                                                        0,
                                                        "#0d0887"
                                                    ],
                                                    [
                                                        0.1111111111111111,
                                                        "#46039f"
                                                    ],
                                                    [
                                                        0.2222222222222222,
                                                        "#7201a8"
                                                    ],
                                                    [
                                                        0.3333333333333333,
                                                        "#9c179e"
                                                    ],
                                                    [
                                                        0.4444444444444444,
                                                        "#bd3786"
                                                    ],
                                                    [
                                                        0.5555555555555556,
                                                        "#d8576b"
                                                    ],
                                                    [
                                                        0.6666666666666666,
                                                        "#ed7953"
                                                    ],
                                                    [
                                                        0.7777777777777778,
                                                        "#fb9f3a"
                                                    ],
                                                    [
                                                        0.8888888888888888,
                                                        "#fdca26"
                                                    ],
                                                    [
                                                        1,
                                                        "#f0f921"
                                                    ]
                                                ],
                                                "type": "histogram2d"
                                            }
                                        ],
                                        "histogram2dcontour": [
                                            {
                                                "colorbar": {
                                                    "outlinewidth": 0,
                                                    "ticks": ""
                                                },
                                                "colorscale": [
                                                    [
                                                        0,
                                                        "#0d0887"
                                                    ],
                                                    [
                                                        0.1111111111111111,
                                                        "#46039f"
                                                    ],
                                                    [
                                                        0.2222222222222222,
                                                        "#7201a8"
                                                    ],
                                                    [
                                                        0.3333333333333333,
                                                        "#9c179e"
                                                    ],
                                                    [
                                                        0.4444444444444444,
                                                        "#bd3786"
                                                    ],
                                                    [
                                                        0.5555555555555556,
                                                        "#d8576b"
                                                    ],
                                                    [
                                                        0.6666666666666666,
                                                        "#ed7953"
                                                    ],
                                                    [
                                                        0.7777777777777778,
                                                        "#fb9f3a"
                                                    ],
                                                    [
                                                        0.8888888888888888,
                                                        "#fdca26"
                                                    ],
                                                    [
                                                        1,
                                                        "#f0f921"
                                                    ]
                                                ],
                                                "type": "histogram2dcontour"
                                            }
                                        ],
                                        "mesh3d": [
                                            {
                                                "colorbar": {
                                                    "outlinewidth": 0,
                                                    "ticks": ""
                                                },
                                                "type": "mesh3d"
                                            }
                                        ],
                                        "parcoords": [
                                            {
                                                "line": {
                                                    "colorbar": {
                                                        "outlinewidth": 0,
                                                        "ticks": ""
                                                    }
                                                },
                                                "type": "parcoords"
                                            }
                                        ],
                                        "pie": [
                                            {
                                                "automargin": true,
                                                "type": "pie"
                                            }
                                        ],
                                        "scatter": [
                                            {
                                                "fillpattern": {
                                                    "fillmode": "overlay",
                                                    "size": 10,
                                                    "solidity": 0.2
                                                },
                                                "type": "scatter"
                                            }
                                        ],
                                        "scatter3d": [
                                            {
                                                "line": {
                                                    "colorbar": {
                                                        "outlinewidth": 0,
                                                        "ticks": ""
                                                    }
                                                },
                                                "marker": {
                                                    "colorbar": {
                                                        "outlinewidth": 0,
                                                        "ticks": ""
                                                    }
                                                },
                                                "type": "scatter3d"
                                            }
                                        ],
                                        "scattercarpet": [
                                            {
                                                "marker": {
                                                    "colorbar": {
                                                        "outlinewidth": 0,
                                                        "ticks": ""
                                                    }
                                                },
                                                "type": "scattercarpet"
                                            }
                                        ],
                                        "scattergeo": [
                                            {
                                                "marker": {
                                                    "colorbar": {
                                                        "outlinewidth": 0,
                                                        "ticks": ""
                                                    }
                                                },
                                                "type": "scattergeo"
                                            }
                                        ],
                                        "scattergl": [
                                            {
                                                "marker": {
                                                    "colorbar": {
                                                        "outlinewidth": 0,
                                                        "ticks": ""
                                                    }
                                                },
                                                "type": "scattergl"
                                            }
                                        ],
                                        "scattermapbox": [
                                            {
                                                "marker": {
                                                    "colorbar": {
                                                        "outlinewidth": 0,
                                                        "ticks": ""
                                                    }
                                                },
                                                "type": "scattermapbox"
                                            }
                                        ],
                                        "scatterpolar": [
                                            {
                                                "marker": {
                                                    "colorbar": {
                                                        "outlinewidth": 0,
                                                        "ticks": ""
                                                    }
                                                },
                                                "type": "scatterpolar"
                                            }
                                        ],
                                        "scatterpolargl": [
                                            {
                                                "marker": {
                                                    "colorbar": {
                                                        "outlinewidth": 0,
                                                        "ticks": ""
                                                    }
                                                },
                                                "type": "scatterpolargl"
                                            }
                                        ],
                                        "scatterternary": [
                                            {
                                                "marker": {
                                                    "colorbar": {
                                                        "outlinewidth": 0,
                                                        "ticks": ""
                                                    }
                                                },
                                                "type": "scatterternary"
                                            }
                                        ],
                                        "surface": [
                                            {
                                                "colorbar": {
                                                    "outlinewidth": 0,
                                                    "ticks": ""
                                                },
                                                "colorscale": [
                                                    [
                                                        0,
                                                        "#0d0887"
                                                    ],
                                                    [
                                                        0.1111111111111111,
                                                        "#46039f"
                                                    ],
                                                    [
                                                        0.2222222222222222,
                                                        "#7201a8"
                                                    ],
                                                    [
                                                        0.3333333333333333,
                                                        "#9c179e"
                                                    ],
                                                    [
                                                        0.4444444444444444,
                                                        "#bd3786"
                                                    ],
                                                    [
                                                        0.5555555555555556,
                                                        "#d8576b"
                                                    ],
                                                    [
                                                        0.6666666666666666,
                                                        "#ed7953"
                                                    ],
                                                    [
                                                        0.7777777777777778,
                                                        "#fb9f3a"
                                                    ],
                                                    [
                                                        0.8888888888888888,
                                                        "#fdca26"
                                                    ],
                                                    [
                                                        1,
                                                        "#f0f921"
                                                    ]
                                                ],
                                                "type": "surface"
                                            }
                                        ],
                                        "table": [
                                            {
                                                "cells": {
                                                    "fill": {
                                                        "color": "#EBF0F8"
                                                    },
                                                    "line": {
                                                        "color": "white"
                                                    }
                                                },
                                                "header": {
                                                    "fill": {
                                                        "color": "#C8D4E3"
                                                    },
                                                    "line": {
                                                        "color": "white"
                                                    }
                                                },
                                                "type": "table"
                                            }
                                        ]
                                    },
                                    "layout": {
                                        "annotationdefaults": {
                                            "arrowcolor": "#2a3f5f",
                                            "arrowhead": 0,
                                            "arrowwidth": 1
                                        },
                                        "autotypenumbers": "strict",
                                        "coloraxis": {
                                            "colorbar": {
                                                "outlinewidth": 0,
                                                "ticks": ""
                                            }
                                        },
                                        "colorscale": {
                                            "diverging": [
                                                [
                                                    0,
                                                    "#8e0152"
                                                ],
                                                [
                                                    0.1,
                                                    "#c51b7d"
                                                ],
                                                [
                                                    0.2,
                                                    "#de77ae"
                                                ],
                                                [
                                                    0.3,
                                                    "#f1b6da"
                                                ],
                                                [
                                                    0.4,
                                                    "#fde0ef"
                                                ],
                                                [
                                                    0.5,
                                                    "#f7f7f7"
                                                ],
                                                [
                                                    0.6,
                                                    "#e6f5d0"
                                                ],
                                                [
                                                    0.7,
                                                    "#b8e186"
                                                ],
                                                [
                                                    0.8,
                                                    "#7fbc41"
                                                ],
                                                [
                                                    0.9,
                                                    "#4d9221"
                                                ],
                                                [
                                                    1,
                                                    "#276419"
                                                ]
                                            ],
                                            "sequential": [
                                                [
                                                    0,
                                                    "#0d0887"
                                                ],
                                                [
                                                    0.1111111111111111,
                                                    "#46039f"
                                                ],
                                                [
                                                    0.2222222222222222,
                                                    "#7201a8"
                                                ],
                                                [
                                                    0.3333333333333333,
                                                    "#9c179e"
                                                ],
                                                [
                                                    0.4444444444444444,
                                                    "#bd3786"
                                                ],
                                                [
                                                    0.5555555555555556,
                                                    "#d8576b"
                                                ],
                                                [
                                                    0.6666666666666666,
                                                    "#ed7953"
                                                ],
                                                [
                                                    0.7777777777777778,
                                                    "#fb9f3a"
                                                ],
                                                [
                                                    0.8888888888888888,
                                                    "#fdca26"
                                                ],
                                                [
                                                    1,
                                                    "#f0f921"
                                                ]
                                            ],
                                            "sequentialminus": [
                                                [
                                                    0,
                                                    "#0d0887"
                                                ],
                                                [
                                                    0.1111111111111111,
                                                    "#46039f"
                                                ],
                                                [
                                                    0.2222222222222222,
                                                    "#7201a8"
                                                ],
                                                [
                                                    0.3333333333333333,
                                                    "#9c179e"
                                                ],
                                                [
                                                    0.4444444444444444,
                                                    "#bd3786"
                                                ],
                                                [
                                                    0.5555555555555556,
                                                    "#d8576b"
                                                ],
                                                [
                                                    0.6666666666666666,
                                                    "#ed7953"
                                                ],
                                                [
                                                    0.7777777777777778,
                                                    "#fb9f3a"
                                                ],
                                                [
                                                    0.8888888888888888,
                                                    "#fdca26"
                                                ],
                                                [
                                                    1,
                                                    "#f0f921"
                                                ]
                                            ]
                                        },
                                        "colorway": [
                                            "#636efa",
                                            "#EF553B",
                                            "#00cc96",
                                            "#ab63fa",
                                            "#FFA15A",
                                            "#19d3f3",
                                            "#FF6692",
                                            "#B6E880",
                                            "#FF97FF",
                                            "#FECB52"
                                        ],
                                        "font": {
                                            "color": "#2a3f5f"
                                        },
                                        "geo": {
                                            "bgcolor": "white",
                                            "lakecolor": "white",
                                            "landcolor": "#E5ECF6",
                                            "showlakes": true,
                                            "showland": true,
                                            "subunitcolor": "white"
                                        },
                                        "hoverlabel": {
                                            "align": "left"
                                        },
                                        "hovermode": "closest",
                                        "mapbox": {
                                            "style": "light"
                                        },
                                        "paper_bgcolor": "white",
                                        "plot_bgcolor": "#E5ECF6",
                                        "polar": {
                                            "angularaxis": {
                                                "gridcolor": "white",
                                                "linecolor": "white",
                                                "ticks": ""
                                            },
                                            "bgcolor": "#E5ECF6",
                                            "radialaxis": {
                                                "gridcolor": "white",
                                                "linecolor": "white",
                                                "ticks": ""
                                            }
                                        },
                                        "scene": {
                                            "xaxis": {
                                                "backgroundcolor": "#E5ECF6",
                                                "gridcolor": "white",
                                                "gridwidth": 2,
                                                "linecolor": "white",
                                                "showbackground": true,
                                                "ticks": "",
                                                "zerolinecolor": "white"
                                            },
                                            "yaxis": {
                                                "backgroundcolor": "#E5ECF6",
                                                "gridcolor": "white",
                                                "gridwidth": 2,
                                                "linecolor": "white",
                                                "showbackground": true,
                                                "ticks": "",
                                                "zerolinecolor": "white"
                                            },
                                            "zaxis": {
                                                "backgroundcolor": "#E5ECF6",
                                                "gridcolor": "white",
                                                "gridwidth": 2,
                                                "linecolor": "white",
                                                "showbackground": true,
                                                "ticks": "",
                                                "zerolinecolor": "white"
                                            }
                                        },
                                        "shapedefaults": {
                                            "line": {
                                                "color": "#2a3f5f"
                                            }
                                        },
                                        "ternary": {
                                            "aaxis": {
                                                "gridcolor": "white",
                                                "linecolor": "white",
                                                "ticks": ""
                                            },
                                            "baxis": {
                                                "gridcolor": "white",
                                                "linecolor": "white",
                                                "ticks": ""
                                            },
                                            "bgcolor": "#E5ECF6",
                                            "caxis": {
                                                "gridcolor": "white",
                                                "linecolor": "white",
                                                "ticks": ""
                                            }
                                        },
                                        "title": {
                                            "x": 0.05
                                        },
                                        "xaxis": {
                                            "automargin": true,
                                            "gridcolor": "white",
                                            "linecolor": "white",
                                            "ticks": "",
                                            "title": {
                                                "standoff": 15
                                            },
                                            "zerolinecolor": "white",
                                            "zerolinewidth": 2
                                        },
                                        "yaxis": {
                                            "automargin": true,
                                            "gridcolor": "white",
                                            "linecolor": "white",
                                            "ticks": "",
                                            "title": {
                                                "standoff": 15
                                            },
                                            "zerolinecolor": "white",
                                            "zerolinewidth": 2
                                        }
                                    }
                                },
                                "title": {
                                    "text": "Intermediate Values Plot"
                                },
                                "xaxis": {
                                    "title": {
                                        "text": "Step"
                                    }
                                },
                                "yaxis": {
                                    "title": {
                                        "text": "Intermediate Value"
                                    }
                                }
                            }
                        }
                    },
                    "metadata": {},
                    "output_type": "display_data"
                }
            ],
            "source": [
                "# create graph directory for this model\n",
                "graph_path = pathlib.Path(\n",
                "    f\"../../figures/{mlp_params.MODEL_TYPE}/{mlp_params.MODEL_NAME}/{mlp_params.CELL_TYPE}/hyperparameter_optimization\"\n",
                ").resolve(strict=True)\n",
                "\n",
                "pathlib.Path(graph_path).mkdir(parents=True, exist_ok=True)\n",
                "fig = optuna.visualization.plot_intermediate_values(study)\n",
                "\n",
                "graph_path = f\"{graph_path}/plot_intermediate_values_graph\"\n",
                "\n",
                "fig.write_image(pathlib.Path(f\"{graph_path}.png\"))\n",
                "fig.show()"
            ]
        },
        {
            "cell_type": "code",
            "execution_count": 34,
            "id": "325a1ec3",
            "metadata": {
                "execution": {
                    "iopub.execute_input": "2023-10-18T18:17:37.971533Z",
                    "iopub.status.busy": "2023-10-18T18:17:37.971249Z",
                    "iopub.status.idle": "2023-10-18T18:17:37.974028Z",
                    "shell.execute_reply": "2023-10-18T18:17:37.973638Z"
                },
                "papermill": {
                    "duration": null,
                    "end_time": null,
                    "exception": null,
                    "start_time": null,
                    "status": "completed"
                },
                "tags": []
            },
            "outputs": [],
            "source": [
                "param_dict = extract_best_trial_params(\n",
                "    study.best_params, params, model_name=mlp_params.MODEL_NAME\n",
                ")"
            ]
        }
    ],
    "metadata": {
        "jupytext": {
            "cell_metadata_filter": "-all",
            "encoding": "# coding: utf-8",
            "executable": "/usr/bin/env python",
            "formats": "ipynb,py",
            "main_language": "python"
        },
        "kernelspec": {
            "display_name": "Python 3 (ipykernel)",
            "language": "python",
            "name": "python3"
        },
        "language_info": {
            "codemirror_mode": {
                "name": "ipython",
                "version": 3
            },
            "file_extension": ".py",
            "mimetype": "text/x-python",
            "name": "python",
            "nbconvert_exporter": "python",
            "pygments_lexer": "ipython3",
            "version": "3.10.12"
        },
        "papermill": {
            "default_parameters": {},
            "duration": 59.524284,
            "end_time": "2023-10-18T18:21:03.252265",
            "environment_variables": {},
            "exception": null,
            "input_path": "Hyperparameter_Optimization_model_binary.ipynb",
            "output_path": "Hyperparameter_Optimization_model_binary.ipynb",
            "parameters": {
                "CELL_TYPE": "PBMC",
                "CONTROL_NAME": "DMSO_0.100_%_DMSO_0.025_%",
                "MODEL_NAME": "DMSO_0.025_vs_Thapsigargin_10",
                "TREATMENT_NAME": "Thapsigargin_10.000_uM_DMSO_0.025_%"
            },
            "start_time": "2023-10-18T18:20:03.727981",
            "version": "2.4.0"
        },
        "vscode": {
            "interpreter": {
                "hash": "72ae02083a9ca7d143c492d1aec380c7bf553ec51bd66e90e72bba65228121b6"
            }
        }
    },
    "nbformat": 4,
    "nbformat_minor": 5
}
