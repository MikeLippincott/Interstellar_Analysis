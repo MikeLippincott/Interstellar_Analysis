{
 "cells": [
  {
   "attachments": {},
   "cell_type": "markdown",
   "id": "8e60628c",
   "metadata": {
    "papermill": {
     "duration": 0.002649,
     "end_time": "2023-08-25T19:44:04.077554",
     "exception": false,
     "start_time": "2023-08-25T19:44:04.074905",
     "status": "completed"
    },
    "tags": []
   },
   "source": [
    "## Hyperparameter tuning via Optuna"
   ]
  },
  {
   "cell_type": "markdown",
   "id": "8fac71a5",
   "metadata": {
    "papermill": {
     "duration": 0.001932,
     "end_time": "2023-08-25T19:44:04.081594",
     "exception": false,
     "start_time": "2023-08-25T19:44:04.079662",
     "status": "completed"
    },
    "tags": []
   },
   "source": [
    "### Being a binary model this notebook will be limited to predicting one class 1 or 0, yes or no.\n",
    "### Here I will be predicting if a cell received a treatment or not"
   ]
  },
  {
   "cell_type": "code",
   "execution_count": 1,
   "id": "860a61dd",
   "metadata": {
    "execution": {
     "iopub.execute_input": "2023-08-25T19:44:04.086573Z",
     "iopub.status.busy": "2023-08-25T19:44:04.086380Z",
     "iopub.status.idle": "2023-08-25T19:44:05.485604Z",
     "shell.execute_reply": "2023-08-25T19:44:05.485217Z"
    },
    "papermill": {
     "duration": 1.403121,
     "end_time": "2023-08-25T19:44:05.486778",
     "exception": false,
     "start_time": "2023-08-25T19:44:04.083657",
     "status": "completed"
    },
    "tags": []
   },
   "outputs": [],
   "source": [
    "import pathlib\n",
    "import sys\n",
    "\n",
    "import numpy as np\n",
    "import optuna\n",
    "import pandas as pd\n",
    "import pyarrow.parquet as pq\n",
    "import toml\n",
    "import torch\n",
    "from sklearn import preprocessing\n",
    "\n",
    "sys.path.append(\"../..\")\n",
    "\n",
    "from MLP_utils.parameters import Parameters\n",
    "from MLP_utils.utils import (\n",
    "    Dataset_formatter,\n",
    "    data_split,\n",
    "    extract_best_trial_params,\n",
    "    objective_model_optimizer,\n",
    "    parameter_set,\n",
    "    plot_metric_vs_epoch,\n",
    "    results_output,\n",
    "    test_optimized_model,\n",
    "    train_optimized_model,\n",
    "    un_nest,\n",
    ")\n",
    "\n",
    "sys.path.append(\"../../..\")\n",
    "from utils.utils import df_stats"
   ]
  },
  {
   "attachments": {},
   "cell_type": "markdown",
   "id": "5c486e00",
   "metadata": {
    "papermill": {
     "duration": 0.00206,
     "end_time": "2023-08-25T19:44:05.491244",
     "exception": false,
     "start_time": "2023-08-25T19:44:05.489184",
     "status": "completed"
    },
    "tags": []
   },
   "source": [
    "#### Set up Data to be compatible with model"
   ]
  },
  {
   "attachments": {},
   "cell_type": "markdown",
   "id": "633673ce",
   "metadata": {
    "papermill": {
     "duration": 0.00275,
     "end_time": "2023-08-25T19:44:05.496003",
     "exception": false,
     "start_time": "2023-08-25T19:44:05.493253",
     "status": "completed"
    },
    "tags": []
   },
   "source": [
    "##### Regression Model Data Wrangling and Set Up\n",
    "comment out if not using regression"
   ]
  },
  {
   "cell_type": "code",
   "execution_count": 2,
   "id": "539da50c",
   "metadata": {
    "execution": {
     "iopub.execute_input": "2023-08-25T19:44:05.500883Z",
     "iopub.status.busy": "2023-08-25T19:44:05.500577Z",
     "iopub.status.idle": "2023-08-25T19:44:05.502979Z",
     "shell.execute_reply": "2023-08-25T19:44:05.502704Z"
    },
    "papermill": {
     "duration": 0.005761,
     "end_time": "2023-08-25T19:44:05.503744",
     "exception": false,
     "start_time": "2023-08-25T19:44:05.497983",
     "status": "completed"
    },
    "tags": [
     "injected-parameters"
    ]
   },
   "outputs": [],
   "source": [
    "# Parameters\n",
    "CELL_TYPE = \"PBMC\"\n",
    "CONTROL_NAME = \"DMSO_0.100_DMSO_0.025\"\n",
    "# TREATMENT_NAME = \"LPS_100.000_DMSO_0.025\"\n",
    "TREATMENT_NAME = \"LPS_100.000_DMSO_0.025\"\n",
    "MODEL_NAME = \"DMSO_0.025_vs_LPS_100\""
   ]
  },
  {
   "cell_type": "code",
   "execution_count": 3,
   "id": "476a6c11",
   "metadata": {
    "execution": {
     "iopub.execute_input": "2023-08-25T19:44:05.510584Z",
     "iopub.status.busy": "2023-08-25T19:44:05.510456Z",
     "iopub.status.idle": "2023-08-25T19:44:05.513237Z",
     "shell.execute_reply": "2023-08-25T19:44:05.513001Z"
    },
    "papermill": {
     "duration": 0.007272,
     "end_time": "2023-08-25T19:44:05.513986",
     "exception": false,
     "start_time": "2023-08-25T19:44:05.506714",
     "status": "completed"
    },
    "tags": []
   },
   "outputs": [],
   "source": [
    "ml_configs_file = pathlib.Path(\"../../MLP_utils/regression_config.toml\").resolve(\n",
    "    strict=True\n",
    ")\n",
    "ml_configs = toml.load(ml_configs_file)\n",
    "params = Parameters()\n",
    "mlp_params = parameter_set(params, ml_configs)\n",
    "\n",
    "# overwrite params via command line arguments from papermill\n",
    "mlp_params.CELL_TYPE = CELL_TYPE\n",
    "mlp_params.MODEL_NAME = MODEL_NAME\n",
    "mlp_params.CONTROL_NAME = CONTROL_NAME\n",
    "mlp_params.TREATMENT_NAME = TREATMENT_NAME\n",
    "mlp_params.SHUFFLE = False"
   ]
  },
  {
   "cell_type": "code",
   "execution_count": 4,
   "id": "db58e288",
   "metadata": {
    "execution": {
     "iopub.execute_input": "2023-08-25T19:44:05.520812Z",
     "iopub.status.busy": "2023-08-25T19:44:05.520687Z",
     "iopub.status.idle": "2023-08-25T19:44:07.988987Z",
     "shell.execute_reply": "2023-08-25T19:44:07.988515Z"
    },
    "papermill": {
     "duration": 2.473263,
     "end_time": "2023-08-25T19:44:07.990235",
     "exception": false,
     "start_time": "2023-08-25T19:44:05.516972",
     "status": "completed"
    },
    "tags": []
   },
   "outputs": [],
   "source": [
    "# Import Data\n",
    "# set data file path under pathlib path for multi-system use\n",
    "\n",
    "# Commented out for now, using a different data set to trobleshoot\n",
    "# file_path = pathlib.Path(\n",
    "#     f\"../../../data/{mlp_params.CELL_TYPE}_preprocessed_sc_norm.parquet\"\n",
    "# ).resolve(strict=True)\n",
    "\n",
    "file_path = pathlib.Path(\n",
    "    \"../../../data/PBMC_subset_sc_norm_DMSO_0.100_DMSO_0.025_LPS_100.000_DMSO_0.025.parquet\"\n",
    ")\n",
    "\n",
    "# set path for nomic data\n",
    "nomic_df_path = pathlib.Path(\n",
    "    f\"../../../2.Nomic_nELISA_Analysis/Data/clean/Plate2/nELISA_plate_430420_{mlp_params.CELL_TYPE}_cleanup4correlation.csv\"\n",
    ").resolve(strict=True)\n",
    "\n",
    "df = pq.read_table(file_path).to_pandas()\n",
    "nomic_df = pd.read_csv(nomic_df_path)"
   ]
  },
  {
   "cell_type": "code",
   "execution_count": 5,
   "id": "00feaffc",
   "metadata": {},
   "outputs": [
    {
     "name": "stderr",
     "output_type": "stream",
     "text": [
      "/tmp/ipykernel_2055127/966290204.py:8: SettingWithCopyWarning: \n",
      "A value is trying to be set on a copy of a slice from a DataFrame.\n",
      "Try using .loc[row_indexer,col_indexer] = value instead\n",
      "\n",
      "See the caveats in the documentation: https://pandas.pydata.org/pandas-docs/stable/user_guide/indexing.html#returning-a-view-versus-a-copy\n",
      "  nomic_df_scaled[[\n",
      "/tmp/ipykernel_2055127/966290204.py:8: SettingWithCopyWarning: \n",
      "A value is trying to be set on a copy of a slice from a DataFrame.\n",
      "Try using .loc[row_indexer,col_indexer] = value instead\n",
      "\n",
      "See the caveats in the documentation: https://pandas.pydata.org/pandas-docs/stable/user_guide/indexing.html#returning-a-view-versus-a-copy\n",
      "  nomic_df_scaled[[\n"
     ]
    }
   ],
   "source": [
    "# change the nomic df to standard scaler\n",
    "# select the columns that contain \"NSU\"\n",
    "nomic_df_scaled = nomic_df.filter(regex=\"NSU\")\n",
    "# standardize the nomic data\n",
    "# scaler = preprocessing.StandardScaler()\n",
    "# nomic_df_scaled = pd.DataFrame(scaler.fit_transform(nomic_df_scaled), columns=nomic_df_scaled.columns)\n",
    "# add the nomic data metadata back\n",
    "nomic_df_scaled[\n",
    "    [\n",
    "        \"Metadata_position_x\",\n",
    "        \"oneb_Metadata_Treatment_Dose_Inhibitor_Dose\",\n",
    "        \"fourb_Metadata_Treatment_Dose_Inhibitor_Dose\",\n",
    "    ]\n",
    "] = nomic_df[\n",
    "    [\n",
    "        \"Metadata_position_x\",\n",
    "        \"oneb_Metadata_Treatment_Dose_Inhibitor_Dose\",\n",
    "        \"fourb_Metadata_Treatment_Dose_Inhibitor_Dose\",\n",
    "    ]\n",
    "]\n",
    "nomic_df = nomic_df_scaled.copy()\n",
    "del nomic_df_scaled"
   ]
  },
  {
   "cell_type": "code",
   "execution_count": 6,
   "id": "beabbbb5",
   "metadata": {
    "execution": {
     "iopub.execute_input": "2023-08-25T19:44:07.997493Z",
     "iopub.status.busy": "2023-08-25T19:44:07.997249Z",
     "iopub.status.idle": "2023-08-25T19:44:10.012697Z",
     "shell.execute_reply": "2023-08-25T19:44:10.012062Z"
    },
    "papermill": {
     "duration": 2.020532,
     "end_time": "2023-08-25T19:44:10.014206",
     "exception": false,
     "start_time": "2023-08-25T19:44:07.993674",
     "status": "completed"
    },
    "tags": []
   },
   "outputs": [
    {
     "name": "stdout",
     "output_type": "stream",
     "text": [
      "(374565, 1270)\n",
      "(154, 190)\n",
      "(374565, 1457)\n"
     ]
    }
   ],
   "source": [
    "print(df.shape)\n",
    "df = pd.merge(\n",
    "    df,\n",
    "    nomic_df,\n",
    "    left_on=[\n",
    "        \"Metadata_Well\",\n",
    "        \"oneb_Metadata_Treatment_Dose_Inhibitor_Dose\",\n",
    "        \"fourb_Metadata_Treatment_Dose_Inhibitor_Dose\",\n",
    "    ],\n",
    "    right_on=[\n",
    "        \"Metadata_position_x\",\n",
    "        \"oneb_Metadata_Treatment_Dose_Inhibitor_Dose\",\n",
    "        \"fourb_Metadata_Treatment_Dose_Inhibitor_Dose\",\n",
    "    ],\n",
    ").drop([\"Metadata_position_x\"], axis=1)\n",
    "print(nomic_df.shape)\n",
    "print(df.shape)"
   ]
  },
  {
   "cell_type": "code",
   "execution_count": 7,
   "id": "31665e8e",
   "metadata": {},
   "outputs": [],
   "source": [
    "# Code snippet for metadata extraction by Jenna Tomkinson\n",
    "df_metadata = list(df.columns[df.columns.str.contains(\"Metadata\")])\n",
    "\n",
    "# define which columns are data and which are descriptive\n",
    "df_descriptive = df[df_metadata]\n",
    "df_values = df.drop(columns=df_metadata)"
   ]
  },
  {
   "cell_type": "code",
   "execution_count": 8,
   "id": "e70bd93a",
   "metadata": {},
   "outputs": [],
   "source": [
    "df_values[\n",
    "    [\"Metadata_Well\", \"oneb_Metadata_Treatment_Dose_Inhibitor_Dose\"]\n",
    "] = df_descriptive[[\"Metadata_Well\", \"oneb_Metadata_Treatment_Dose_Inhibitor_Dose\"]]\n",
    "df = (\n",
    "    df_values.groupby([\"Metadata_Well\", \"oneb_Metadata_Treatment_Dose_Inhibitor_Dose\"])\n",
    "    .median()\n",
    "    .reset_index()\n",
    ")"
   ]
  },
  {
   "cell_type": "code",
   "execution_count": 9,
   "id": "e2df24ec",
   "metadata": {
    "execution": {
     "iopub.execute_input": "2023-08-25T19:44:10.024299Z",
     "iopub.status.busy": "2023-08-25T19:44:10.024161Z",
     "iopub.status.idle": "2023-08-25T19:44:10.177297Z",
     "shell.execute_reply": "2023-08-25T19:44:10.176759Z"
    },
    "papermill": {
     "duration": 0.15938,
     "end_time": "2023-08-25T19:44:10.178346",
     "exception": false,
     "start_time": "2023-08-25T19:44:10.018966",
     "status": "completed"
    },
    "tags": []
   },
   "outputs": [
    {
     "name": "stdout",
     "output_type": "stream",
     "text": [
      "Selected Catagories are:\n",
      "['DMSO_0.100_DMSO_0.025' 'LPS_100.000_DMSO_0.025']\n",
      "The dimensions of the data are: (12, 1434)\n",
      "Number of total missing values across all columns: 0\n",
      "Data Subset Is Off\n"
     ]
    }
   ],
   "source": [
    "# filter the oneb_Metadata_Treatment_Dose_Inhibitor_Dose column to only include the treatment and control via loc\n",
    "df = df.loc[\n",
    "    df[\"oneb_Metadata_Treatment_Dose_Inhibitor_Dose\"].isin(\n",
    "        [mlp_params.TREATMENT_NAME, mlp_params.CONTROL_NAME]\n",
    "    )\n",
    "]\n",
    "\n",
    "\n",
    "print(\"Selected Catagories are:\")\n",
    "print(df[\"oneb_Metadata_Treatment_Dose_Inhibitor_Dose\"].unique())\n",
    "df_stats(df)\n",
    "\n",
    "if mlp_params.DATA_SUBSET_OPTION == \"True\":\n",
    "    df = df.sample(n=mlp_params.DATA_SUBSET_NUMBER)\n",
    "    print(\"Data Subset Is On\")\n",
    "    print(f\"Data is subset to {mlp_params.DATA_SUBSET_NUMBER}\")\n",
    "else:\n",
    "    print(\"Data Subset Is Off\")"
   ]
  },
  {
   "cell_type": "code",
   "execution_count": 10,
   "id": "01ea4134",
   "metadata": {
    "execution": {
     "iopub.execute_input": "2023-08-25T19:44:10.186595Z",
     "iopub.status.busy": "2023-08-25T19:44:10.186135Z",
     "iopub.status.idle": "2023-08-25T19:44:11.213502Z",
     "shell.execute_reply": "2023-08-25T19:44:11.213124Z"
    },
    "papermill": {
     "duration": 1.032329,
     "end_time": "2023-08-25T19:44:11.214383",
     "exception": false,
     "start_time": "2023-08-25T19:44:10.182054",
     "status": "completed"
    },
    "tags": []
   },
   "outputs": [
    {
     "name": "stdout",
     "output_type": "stream",
     "text": [
      "Wells held out for testing: ['I06' 'J09']\n",
      "Wells to use for training, validation, and testing ['B06' 'B07' 'C06' 'C07' 'I07' 'J02' 'J03' 'J06' 'J07' 'J08']\n"
     ]
    }
   ],
   "source": [
    "np.random.seed(seed=0)\n",
    "# get random wells from each treatment group to hold out\n",
    "wells_to_hold = (\n",
    "    df.groupby(\"oneb_Metadata_Treatment_Dose_Inhibitor_Dose\")\n",
    "    .agg(np.random.choice)[\"Metadata_Well\"]\n",
    "    .to_list()\n",
    ")\n",
    "df_holdout = df[df[\"Metadata_Well\"].isin(wells_to_hold)]\n",
    "df = df[~df[\"Metadata_Well\"].isin(wells_to_hold)]\n",
    "\n",
    "\n",
    "print(\"Wells held out for testing:\", df_holdout[\"Metadata_Well\"].unique())\n",
    "print(\n",
    "    \"Wells to use for training, validation, and testing\", df[\"Metadata_Well\"].unique()\n",
    ")"
   ]
  },
  {
   "cell_type": "code",
   "execution_count": 11,
   "id": "33cee60d",
   "metadata": {
    "execution": {
     "iopub.execute_input": "2023-08-25T19:44:11.221988Z",
     "iopub.status.busy": "2023-08-25T19:44:11.221822Z",
     "iopub.status.idle": "2023-08-25T19:44:11.287856Z",
     "shell.execute_reply": "2023-08-25T19:44:11.287451Z"
    },
    "papermill": {
     "duration": 0.07109,
     "end_time": "2023-08-25T19:44:11.288917",
     "exception": false,
     "start_time": "2023-08-25T19:44:11.217827",
     "status": "completed"
    },
    "tags": []
   },
   "outputs": [],
   "source": [
    "# Code snippet for metadata extraction by Jenna Tomkinson\n",
    "df_metadata = list(df.columns[df.columns.str.contains(\"Metadata\")])\n",
    "\n",
    "# define which columns are data and which are descriptive\n",
    "df_descriptive = df[df_metadata]\n",
    "df_values = df.drop(columns=df_metadata)"
   ]
  },
  {
   "cell_type": "code",
   "execution_count": 12,
   "id": "836aba28",
   "metadata": {
    "execution": {
     "iopub.execute_input": "2023-08-25T19:44:11.296822Z",
     "iopub.status.busy": "2023-08-25T19:44:11.296597Z",
     "iopub.status.idle": "2023-08-25T19:44:11.359632Z",
     "shell.execute_reply": "2023-08-25T19:44:11.359330Z"
    },
    "papermill": {
     "duration": 0.067983,
     "end_time": "2023-08-25T19:44:11.360355",
     "exception": false,
     "start_time": "2023-08-25T19:44:11.292372",
     "status": "completed"
    },
    "tags": []
   },
   "outputs": [
    {
     "name": "stdout",
     "output_type": "stream",
     "text": [
      "(10, 1432)\n",
      "(10, 1245)\n",
      "(10, 2)\n"
     ]
    }
   ],
   "source": [
    "# get all columns that contain NSU in the name\n",
    "df_values_Y = df_values[df_values.columns[df_values.columns.str.contains(\"NSU\")]]\n",
    "df_values_X = df_values.drop(columns=df_values_Y.columns)\n",
    "# drop all columns except for IL1B and TNFa\n",
    "col = [\"IL-1 beta [NSU]\"]\n",
    "df_values_Y = df_values_Y[col]\n",
    "df_values_Y[\"Metadata_Well\"] = df_descriptive[\"Metadata_Well\"]\n",
    "print(df_values.shape)\n",
    "print(df_values_X.shape)\n",
    "print(df_values_Y.shape)"
   ]
  },
  {
   "attachments": {},
   "cell_type": "markdown",
   "id": "260a048e",
   "metadata": {
    "papermill": {
     "duration": 0.002079,
     "end_time": "2023-08-25T19:44:11.364935",
     "exception": false,
     "start_time": "2023-08-25T19:44:11.362856",
     "status": "completed"
    },
    "tags": []
   },
   "source": [
    "#### Split Data - All Models can proceed through this point"
   ]
  },
  {
   "cell_type": "code",
   "execution_count": 13,
   "id": "f4feb87f",
   "metadata": {
    "execution": {
     "iopub.execute_input": "2023-08-25T19:44:11.369848Z",
     "iopub.status.busy": "2023-08-25T19:44:11.369646Z",
     "iopub.status.idle": "2023-08-25T19:44:11.792802Z",
     "shell.execute_reply": "2023-08-25T19:44:11.792393Z"
    },
    "papermill": {
     "duration": 0.427135,
     "end_time": "2023-08-25T19:44:11.794184",
     "exception": false,
     "start_time": "2023-08-25T19:44:11.367049",
     "status": "completed"
    },
    "tags": []
   },
   "outputs": [],
   "source": [
    "X_train, X_test, X_val, Y_train_well, Y_test_well, Y_val_well = data_split(\n",
    "    X_vals=df_values_X,\n",
    "    y_vals=df_values_Y,\n",
    "    train_proportion=0.8,\n",
    "    val_proportion=0.1,\n",
    "    test_proportion=0.1,\n",
    "    seed=0,\n",
    "    params=mlp_params,\n",
    ")"
   ]
  },
  {
   "cell_type": "code",
   "execution_count": 14,
   "id": "2cbb875f",
   "metadata": {
    "execution": {
     "iopub.execute_input": "2023-08-25T19:44:11.802285Z",
     "iopub.status.busy": "2023-08-25T19:44:11.802126Z",
     "iopub.status.idle": "2023-08-25T19:44:11.812755Z",
     "shell.execute_reply": "2023-08-25T19:44:11.812360Z"
    },
    "papermill": {
     "duration": 0.015508,
     "end_time": "2023-08-25T19:44:11.813505",
     "exception": false,
     "start_time": "2023-08-25T19:44:11.797997",
     "status": "completed"
    },
    "tags": []
   },
   "outputs": [],
   "source": [
    "Y_train = Y_train_well.drop(columns=[\"Metadata_Well\"])\n",
    "Y_test = Y_test_well.drop(columns=[\"Metadata_Well\"])\n",
    "Y_val = Y_val_well.drop(columns=[\"Metadata_Well\"])"
   ]
  },
  {
   "cell_type": "code",
   "execution_count": 15,
   "id": "36894826",
   "metadata": {
    "execution": {
     "iopub.execute_input": "2023-08-25T19:44:11.821289Z",
     "iopub.status.busy": "2023-08-25T19:44:11.820960Z",
     "iopub.status.idle": "2023-08-25T19:44:11.857733Z",
     "shell.execute_reply": "2023-08-25T19:44:11.857362Z"
    },
    "papermill": {
     "duration": 0.04204,
     "end_time": "2023-08-25T19:44:11.858918",
     "exception": false,
     "start_time": "2023-08-25T19:44:11.816878",
     "status": "completed"
    },
    "tags": []
   },
   "outputs": [],
   "source": [
    "# produce data objects for train, val and test datasets\n",
    "train_data = Dataset_formatter(\n",
    "    torch.FloatTensor(X_train.values), torch.FloatTensor(Y_train.values)\n",
    ")\n",
    "val_data = Dataset_formatter(\n",
    "    torch.FloatTensor(X_val.values), torch.FloatTensor(Y_val.values)\n",
    ")\n",
    "test_data = Dataset_formatter(\n",
    "    torch.FloatTensor(X_test.values), torch.FloatTensor(Y_test.values)\n",
    ")"
   ]
  },
  {
   "cell_type": "code",
   "execution_count": 16,
   "id": "4382d712",
   "metadata": {
    "execution": {
     "iopub.execute_input": "2023-08-25T19:44:11.866284Z",
     "iopub.status.busy": "2023-08-25T19:44:11.866066Z",
     "iopub.status.idle": "2023-08-25T19:44:11.868826Z",
     "shell.execute_reply": "2023-08-25T19:44:11.868552Z"
    },
    "papermill": {
     "duration": 0.007304,
     "end_time": "2023-08-25T19:44:11.869702",
     "exception": false,
     "start_time": "2023-08-25T19:44:11.862398",
     "status": "completed"
    },
    "tags": []
   },
   "outputs": [
    {
     "name": "stdout",
     "output_type": "stream",
     "text": [
      "Number of in features:  1245\n",
      "Number of out features:  1\n"
     ]
    }
   ],
   "source": [
    "mlp_params.IN_FEATURES = X_train.shape[1]\n",
    "print(\"Number of in features: \", mlp_params.IN_FEATURES)\n",
    "if mlp_params.MODEL_TYPE == \"Regression\":\n",
    "    mlp_params.OUT_FEATURES = Y_train.shape[1]\n",
    "else:\n",
    "    mlp_params.OUT_FEATURES = len(\n",
    "        df_values[\"oneb_Metadata_Treatment_Dose_Inhibitor_Dose\"].unique()\n",
    "    )\n",
    "\n",
    "print(\"Number of out features: \", mlp_params.OUT_FEATURES)"
   ]
  },
  {
   "cell_type": "code",
   "execution_count": 17,
   "id": "77effa5c",
   "metadata": {
    "execution": {
     "iopub.execute_input": "2023-08-25T19:44:11.876984Z",
     "iopub.status.busy": "2023-08-25T19:44:11.876647Z",
     "iopub.status.idle": "2023-08-25T19:44:11.879112Z",
     "shell.execute_reply": "2023-08-25T19:44:11.878818Z"
    },
    "papermill": {
     "duration": 0.006726,
     "end_time": "2023-08-25T19:44:11.879826",
     "exception": false,
     "start_time": "2023-08-25T19:44:11.873100",
     "status": "completed"
    },
    "tags": []
   },
   "outputs": [],
   "source": [
    "# convert data class into a dataloader to be compatible with pytorch\n",
    "train_loader = torch.utils.data.DataLoader(\n",
    "    dataset=train_data, batch_size=mlp_params.BATCH_SIZE\n",
    ")\n",
    "valid_loader = torch.utils.data.DataLoader(\n",
    "    dataset=val_data, batch_size=mlp_params.BATCH_SIZE\n",
    ")\n",
    "test_loader = torch.utils.data.DataLoader(dataset=test_data, batch_size=1)"
   ]
  },
  {
   "cell_type": "code",
   "execution_count": 18,
   "id": "5a3e8146",
   "metadata": {
    "execution": {
     "iopub.execute_input": "2023-08-25T19:44:11.885038Z",
     "iopub.status.busy": "2023-08-25T19:44:11.884742Z",
     "iopub.status.idle": "2023-08-25T19:44:11.888688Z",
     "shell.execute_reply": "2023-08-25T19:44:11.888410Z"
    },
    "papermill": {
     "duration": 0.00723,
     "end_time": "2023-08-25T19:44:11.889381",
     "exception": false,
     "start_time": "2023-08-25T19:44:11.882151",
     "status": "completed"
    },
    "tags": []
   },
   "outputs": [
    {
     "data": {
      "text/plain": [
       "(10, 2)"
      ]
     },
     "execution_count": 18,
     "metadata": {},
     "output_type": "execute_result"
    }
   ],
   "source": [
    "df_values_X.shape\n",
    "df_values_Y.shape"
   ]
  },
  {
   "cell_type": "code",
   "execution_count": 19,
   "id": "a969042f",
   "metadata": {
    "execution": {
     "iopub.execute_input": "2023-08-25T19:44:11.894505Z",
     "iopub.status.busy": "2023-08-25T19:44:11.894263Z",
     "iopub.status.idle": "2023-08-25T19:48:57.521488Z",
     "shell.execute_reply": "2023-08-25T19:48:57.521162Z"
    },
    "papermill": {
     "duration": 285.635192,
     "end_time": "2023-08-25T19:48:57.526839",
     "exception": false,
     "start_time": "2023-08-25T19:44:11.891647",
     "status": "completed"
    },
    "tags": []
   },
   "outputs": [
    {
     "name": "stderr",
     "output_type": "stream",
     "text": [
      "[I 2023-08-30 11:10:07,769] A new study created in memory with name: no-name-0fd5867f-4a7b-4548-903f-96a8465e5c29\n",
      "/home/lippincm/miniconda3/envs/Interstellar/lib/python3.10/site-packages/torch/nn/modules/loss.py:536: UserWarning: Using a target size (torch.Size([1, 1, 1])) that is different to the input size (torch.Size([1, 1])). This will likely lead to incorrect results due to broadcasting. Please ensure they have the same size.\n",
      "  return F.mse_loss(input, target, reduction=self.reduction)\n",
      "[I 2023-08-30 11:10:09,245] Trial 0 finished with value: 0.1788467042706907 and parameters: {'n_layers': 3, 'n_units_l0': 4, 'dropout_0': 0.4616580256429863, 'n_units_l1': 4, 'dropout_1': 0.3541928796033428, 'n_units_l2': 4, 'dropout_2': 0.3625523267576155, 'learning_rate': 0.8025967829738639, 'optimizer': 'Adam'}. Best is trial 0 with value: 0.1788467042706907.\n",
      "[I 2023-08-30 11:10:09,588] Trial 1 finished with value: 0.03480209435180086 and parameters: {'n_layers': 3, 'n_units_l0': 4, 'dropout_0': 0.6553579829755966, 'n_units_l1': 2, 'dropout_1': 0.15227757982092444, 'n_units_l2': 2, 'dropout_2': 0.5995719073287628, 'learning_rate': 0.700343294287356, 'optimizer': 'RMSprop'}. Best is trial 1 with value: 0.03480209435180086.\n",
      "[I 2023-08-30 11:10:09,929] Trial 2 finished with value: 0.001757647072419104 and parameters: {'n_layers': 3, 'n_units_l0': 5, 'dropout_0': 0.17096465552135992, 'n_units_l1': 4, 'dropout_1': 0.18601197244542783, 'n_units_l2': 5, 'dropout_2': 0.413108993050043, 'learning_rate': 0.37320159937207137, 'optimizer': 'RMSprop'}. Best is trial 2 with value: 0.001757647072419104.\n",
      "[I 2023-08-30 11:10:10,270] Trial 3 finished with value: 0.15848502326181915 and parameters: {'n_layers': 3, 'n_units_l0': 2, 'dropout_0': 0.4705812982455262, 'n_units_l1': 4, 'dropout_1': 0.4701603981248541, 'n_units_l2': 5, 'dropout_2': 0.5090921794620901, 'learning_rate': 0.3235635154374017, 'optimizer': 'RMSprop'}. Best is trial 2 with value: 0.001757647072419104.\n",
      "[I 2023-08-30 11:10:10,620] Trial 4 finished with value: 0.04593061263731215 and parameters: {'n_layers': 4, 'n_units_l0': 4, 'dropout_0': 0.22622953664430454, 'n_units_l1': 2, 'dropout_1': 0.2892570105545103, 'n_units_l2': 3, 'dropout_2': 0.4421180622507278, 'n_units_l3': 3, 'dropout_3': 0.6930243028355356, 'learning_rate': 0.09184930922511779, 'optimizer': 'SGD'}. Best is trial 2 with value: 0.001757647072419104.\n",
      "[I 2023-08-30 11:10:10,864] Trial 5 finished with value: 0.0002812800205629173 and parameters: {'n_layers': 2, 'n_units_l0': 3, 'dropout_0': 0.24665535520096166, 'n_units_l1': 2, 'dropout_1': 0.1662250846985831, 'learning_rate': 0.5907000672228514, 'optimizer': 'SGD'}. Best is trial 5 with value: 0.0002812800205629173.\n",
      "[I 2023-08-30 11:10:11,234] Trial 6 finished with value: 0.027296653685625644 and parameters: {'n_layers': 5, 'n_units_l0': 2, 'dropout_0': 0.6027669444992823, 'n_units_l1': 2, 'dropout_1': 0.6858756790080374, 'n_units_l2': 3, 'dropout_2': 0.6860566529142023, 'n_units_l3': 4, 'dropout_3': 0.543558147638981, 'n_units_l4': 2, 'dropout_4': 0.2696841775458457, 'learning_rate': 0.10818570312623989, 'optimizer': 'SGD'}. Best is trial 5 with value: 0.0002812800205629173.\n",
      "[I 2023-08-30 11:10:11,243] Trial 7 pruned. \n",
      "[I 2023-08-30 11:10:11,445] Trial 8 finished with value: 0.030682460464957623 and parameters: {'n_layers': 1, 'n_units_l0': 4, 'dropout_0': 0.27364365576832067, 'learning_rate': 0.1648803938927851, 'optimizer': 'SGD'}. Best is trial 5 with value: 0.0002812800205629173.\n",
      "[I 2023-08-30 11:10:11,452] Trial 9 pruned. \n",
      "[I 2023-08-30 11:10:11,472] Trial 10 pruned. \n",
      "[I 2023-08-30 11:10:11,492] Trial 11 pruned. \n",
      "[I 2023-08-30 11:10:11,514] Trial 12 pruned. \n",
      "[I 2023-08-30 11:10:11,908] Trial 13 finished with value: 0.00020841376193857285 and parameters: {'n_layers': 4, 'n_units_l0': 3, 'dropout_0': 0.20337100928844068, 'n_units_l1': 5, 'dropout_1': 0.1989341983817422, 'n_units_l2': 5, 'dropout_2': 0.287060995716765, 'n_units_l3': 5, 'dropout_3': 0.131890898818807, 'learning_rate': 0.5546416421434414, 'optimizer': 'SGD'}. Best is trial 13 with value: 0.00020841376193857285.\n",
      "[I 2023-08-30 11:10:11,946] Trial 14 pruned. \n",
      "[I 2023-08-30 11:10:12,305] Trial 15 finished with value: 0.0003414532827048333 and parameters: {'n_layers': 4, 'n_units_l0': 3, 'dropout_0': 0.1910740445682372, 'n_units_l1': 3, 'dropout_1': 0.19853491240661586, 'n_units_l2': 4, 'dropout_2': 0.29512111421804416, 'n_units_l3': 5, 'dropout_3': 0.15129456734780017, 'learning_rate': 0.5894679118259922, 'optimizer': 'SGD'}. Best is trial 13 with value: 0.00020841376193857285.\n",
      "[I 2023-08-30 11:10:12,338] Trial 16 pruned. \n",
      "[I 2023-08-30 11:10:12,359] Trial 17 pruned. \n",
      "[I 2023-08-30 11:10:12,390] Trial 18 pruned. \n",
      "[I 2023-08-30 11:10:12,405] Trial 19 pruned. \n",
      "[I 2023-08-30 11:10:12,443] Trial 20 pruned. \n",
      "[I 2023-08-30 11:10:12,783] Trial 21 finished with value: 0.0006074503076770554 and parameters: {'n_layers': 4, 'n_units_l0': 3, 'dropout_0': 0.18093335493147605, 'n_units_l1': 3, 'dropout_1': 0.19743705126128067, 'n_units_l2': 4, 'dropout_2': 0.2998778550699881, 'n_units_l3': 5, 'dropout_3': 0.12323642702214929, 'learning_rate': 0.6338748151682099, 'optimizer': 'SGD'}. Best is trial 13 with value: 0.00020841376193857285.\n",
      "[I 2023-08-30 11:10:12,816] Trial 22 pruned. \n",
      "[I 2023-08-30 11:10:12,849] Trial 23 pruned. \n",
      "[I 2023-08-30 11:10:12,887] Trial 24 pruned. \n",
      "[I 2023-08-30 11:10:12,910] Trial 25 pruned. \n",
      "[I 2023-08-30 11:10:13,252] Trial 26 finished with value: 0.00020134006456572705 and parameters: {'n_layers': 4, 'n_units_l0': 3, 'dropout_0': 0.10109259049248359, 'n_units_l1': 2, 'dropout_1': 0.30525275222645093, 'n_units_l2': 5, 'dropout_2': 0.19592566801127193, 'n_units_l3': 5, 'dropout_3': 0.2213517235267068, 'learning_rate': 0.6889634520505141, 'optimizer': 'SGD'}. Best is trial 26 with value: 0.00020134006456572705.\n",
      "[I 2023-08-30 11:10:13,280] Trial 27 pruned. \n",
      "[I 2023-08-30 11:10:13,321] Trial 28 pruned. \n",
      "[I 2023-08-30 11:10:13,349] Trial 29 pruned. \n",
      "[I 2023-08-30 11:10:13,384] Trial 30 pruned. \n",
      "[I 2023-08-30 11:10:13,744] Trial 31 finished with value: 0.0003570223772476311 and parameters: {'n_layers': 4, 'n_units_l0': 3, 'dropout_0': 0.20874947793807622, 'n_units_l1': 3, 'dropout_1': 0.22236504879758942, 'n_units_l2': 4, 'dropout_2': 0.27809685363519665, 'n_units_l3': 5, 'dropout_3': 0.172425123165797, 'learning_rate': 0.6098757628377836, 'optimizer': 'SGD'}. Best is trial 26 with value: 0.00020134006456572705.\n",
      "[I 2023-08-30 11:10:13,773] Trial 32 pruned. \n",
      "[I 2023-08-30 11:10:13,808] Trial 33 pruned. \n",
      "[I 2023-08-30 11:10:13,837] Trial 34 pruned. \n",
      "[I 2023-08-30 11:10:13,873] Trial 35 pruned. \n",
      "[I 2023-08-30 11:10:13,902] Trial 36 pruned. \n",
      "[I 2023-08-30 11:10:13,943] Trial 37 pruned. \n",
      "[I 2023-08-30 11:10:13,979] Trial 38 pruned. \n",
      "[I 2023-08-30 11:10:14,008] Trial 39 pruned. \n",
      "[I 2023-08-30 11:10:14,033] Trial 40 pruned. \n",
      "[I 2023-08-30 11:10:14,069] Trial 41 pruned. \n",
      "[I 2023-08-30 11:10:14,105] Trial 42 pruned. \n",
      "[I 2023-08-30 11:10:14,142] Trial 43 pruned. \n",
      "[I 2023-08-30 11:10:14,555] Trial 44 finished with value: 0.0026629819990057514 and parameters: {'n_layers': 5, 'n_units_l0': 3, 'dropout_0': 0.23034055021323402, 'n_units_l1': 3, 'dropout_1': 0.13250047485463504, 'n_units_l2': 5, 'dropout_2': 0.40283614664574907, 'n_units_l3': 4, 'dropout_3': 0.21629479972555482, 'n_units_l4': 4, 'dropout_4': 0.11464637407813383, 'learning_rate': 0.6747662284782562, 'optimizer': 'SGD'}. Best is trial 26 with value: 0.00020134006456572705.\n",
      "[I 2023-08-30 11:10:14,592] Trial 45 pruned. \n",
      "[I 2023-08-30 11:10:14,609] Trial 46 pruned. \n",
      "[I 2023-08-30 11:10:14,639] Trial 47 pruned. \n",
      "[I 2023-08-30 11:10:14,998] Trial 48 finished with value: 0.005077053075892763 and parameters: {'n_layers': 4, 'n_units_l0': 4, 'dropout_0': 0.15796020539289007, 'n_units_l1': 4, 'dropout_1': 0.13895714312723845, 'n_units_l2': 3, 'dropout_2': 0.27097388325061555, 'n_units_l3': 5, 'dropout_3': 0.23693785309624638, 'learning_rate': 0.5607029899653715, 'optimizer': 'SGD'}. Best is trial 26 with value: 0.00020134006456572705.\n",
      "[I 2023-08-30 11:10:15,041] Trial 49 pruned. \n",
      "[I 2023-08-30 11:10:15,065] Trial 50 pruned. \n",
      "[I 2023-08-30 11:10:15,101] Trial 51 pruned. \n",
      "[I 2023-08-30 11:10:15,137] Trial 52 pruned. \n",
      "[I 2023-08-30 11:10:15,174] Trial 53 pruned. \n",
      "[I 2023-08-30 11:10:15,211] Trial 54 pruned. \n",
      "[I 2023-08-30 11:10:15,522] Trial 55 finished with value: 0.0022421583234149 and parameters: {'n_layers': 3, 'n_units_l0': 3, 'dropout_0': 0.16740222240062308, 'n_units_l1': 5, 'dropout_1': 0.2344268755572186, 'n_units_l2': 3, 'dropout_2': 0.26827849861487707, 'learning_rate': 0.6717964498923775, 'optimizer': 'SGD'}. Best is trial 26 with value: 0.00020134006456572705.\n",
      "[I 2023-08-30 11:10:15,565] Trial 56 pruned. \n",
      "[I 2023-08-30 11:10:15,603] Trial 57 pruned. \n",
      "[I 2023-08-30 11:10:15,640] Trial 58 pruned. \n",
      "[I 2023-08-30 11:10:15,682] Trial 59 pruned. \n",
      "[I 2023-08-30 11:10:15,712] Trial 60 pruned. \n",
      "[I 2023-08-30 11:10:15,736] Trial 61 pruned. \n",
      "[I 2023-08-30 11:10:15,753] Trial 62 pruned. \n",
      "[I 2023-08-30 11:10:15,785] Trial 63 pruned. \n",
      "[I 2023-08-30 11:10:15,822] Trial 64 pruned. \n",
      "[I 2023-08-30 11:10:15,861] Trial 65 pruned. \n",
      "[I 2023-08-30 11:10:15,902] Trial 66 pruned. \n",
      "[I 2023-08-30 11:10:15,932] Trial 67 pruned. \n",
      "[I 2023-08-30 11:10:15,964] Trial 68 pruned. \n",
      "[I 2023-08-30 11:10:16,181] Trial 69 finished with value: 4.1466793336439876e-05 and parameters: {'n_layers': 1, 'n_units_l0': 4, 'dropout_0': 0.21571264016596997, 'learning_rate': 0.6538243982761182, 'optimizer': 'SGD'}. Best is trial 69 with value: 4.1466793336439876e-05.\n",
      "[I 2023-08-30 11:10:16,199] Trial 70 pruned. \n",
      "[I 2023-08-30 11:10:16,218] Trial 71 pruned. \n",
      "[I 2023-08-30 11:10:16,482] Trial 72 finished with value: 0.0005826359474195897 and parameters: {'n_layers': 2, 'n_units_l0': 5, 'dropout_0': 0.23222800389051973, 'n_units_l1': 4, 'dropout_1': 0.2670124929003394, 'learning_rate': 0.5929139146189479, 'optimizer': 'SGD'}. Best is trial 69 with value: 4.1466793336439876e-05.\n",
      "[I 2023-08-30 11:10:16,507] Trial 73 pruned. \n",
      "[I 2023-08-30 11:10:16,524] Trial 74 pruned. \n",
      "[I 2023-08-30 11:10:16,785] Trial 75 finished with value: 0.003994877561003704 and parameters: {'n_layers': 2, 'n_units_l0': 3, 'dropout_0': 0.21704423528594663, 'n_units_l1': 2, 'dropout_1': 0.2745271640330257, 'learning_rate': 0.5502389237635807, 'optimizer': 'SGD'}. Best is trial 69 with value: 4.1466793336439876e-05.\n",
      "[I 2023-08-30 11:10:16,809] Trial 76 pruned. \n",
      "[I 2023-08-30 11:10:17,023] Trial 77 finished with value: 0.0028407641191734003 and parameters: {'n_layers': 1, 'n_units_l0': 3, 'dropout_0': 0.22471729174958227, 'learning_rate': 0.5800109364428994, 'optimizer': 'SGD'}. Best is trial 69 with value: 4.1466793336439876e-05.\n",
      "[I 2023-08-30 11:10:17,062] Trial 78 pruned. \n",
      "[I 2023-08-30 11:10:17,079] Trial 79 pruned. \n",
      "[I 2023-08-30 11:10:17,117] Trial 80 pruned. \n",
      "[I 2023-08-30 11:10:17,149] Trial 81 pruned. \n",
      "[I 2023-08-30 11:10:17,416] Trial 82 finished with value: 0.0067260843602697665 and parameters: {'n_layers': 2, 'n_units_l0': 5, 'dropout_0': 0.1577136880680519, 'n_units_l1': 4, 'dropout_1': 0.1892243570769661, 'learning_rate': 0.5763475277725916, 'optimizer': 'SGD'}. Best is trial 69 with value: 4.1466793336439876e-05.\n",
      "[I 2023-08-30 11:10:17,455] Trial 83 pruned. \n",
      "[I 2023-08-30 11:10:17,488] Trial 84 pruned. \n",
      "[I 2023-08-30 11:10:17,756] Trial 85 finished with value: 0.0001619831295943186 and parameters: {'n_layers': 2, 'n_units_l0': 5, 'dropout_0': 0.11423160803137404, 'n_units_l1': 4, 'dropout_1': 0.28874966906098365, 'learning_rate': 0.6334052823098522, 'optimizer': 'SGD'}. Best is trial 69 with value: 4.1466793336439876e-05.\n",
      "[I 2023-08-30 11:10:17,782] Trial 86 pruned. \n",
      "[I 2023-08-30 11:10:18,046] Trial 87 finished with value: 0.0007999778861494278 and parameters: {'n_layers': 2, 'n_units_l0': 3, 'dropout_0': 0.1295153614353587, 'n_units_l1': 3, 'dropout_1': 0.2978154257860273, 'learning_rate': 0.607079943802302, 'optimizer': 'SGD'}. Best is trial 69 with value: 4.1466793336439876e-05.\n",
      "[I 2023-08-30 11:10:18,086] Trial 88 pruned. \n",
      "[I 2023-08-30 11:10:18,111] Trial 89 pruned. \n",
      "[I 2023-08-30 11:10:18,482] Trial 90 finished with value: 0.0009673632492407539 and parameters: {'n_layers': 4, 'n_units_l0': 3, 'dropout_0': 0.28629086726812675, 'n_units_l1': 2, 'dropout_1': 0.2703138722692452, 'n_units_l2': 3, 'dropout_2': 0.16910714924539716, 'n_units_l3': 2, 'dropout_3': 0.20808125614320916, 'learning_rate': 0.5864644315603578, 'optimizer': 'SGD'}. Best is trial 69 with value: 4.1466793336439876e-05.\n",
      "[I 2023-08-30 11:10:18,508] Trial 91 pruned. \n",
      "[I 2023-08-30 11:10:18,534] Trial 92 pruned. \n",
      "[I 2023-08-30 11:10:18,559] Trial 93 pruned. \n",
      "[I 2023-08-30 11:10:18,584] Trial 94 pruned. \n",
      "[I 2023-08-30 11:10:18,609] Trial 95 pruned. \n",
      "[I 2023-08-30 11:10:18,976] Trial 96 finished with value: 0.00420631933320621 and parameters: {'n_layers': 4, 'n_units_l0': 3, 'dropout_0': 0.2294419388882804, 'n_units_l1': 4, 'dropout_1': 0.24703308958782616, 'n_units_l2': 4, 'dropout_2': 0.3158633609074726, 'n_units_l3': 4, 'dropout_3': 0.12047394219507747, 'learning_rate': 0.5670416793114684, 'optimizer': 'SGD'}. Best is trial 69 with value: 4.1466793336439876e-05.\n",
      "[I 2023-08-30 11:10:18,994] Trial 97 pruned. \n",
      "[I 2023-08-30 11:10:19,270] Trial 98 finished with value: 0.00016456368961939916 and parameters: {'n_layers': 2, 'n_units_l0': 5, 'dropout_0': 0.16232164782982494, 'n_units_l1': 3, 'dropout_1': 0.20939493832046102, 'learning_rate': 0.5399038439556301, 'optimizer': 'SGD'}. Best is trial 69 with value: 4.1466793336439876e-05.\n",
      "[I 2023-08-30 11:10:19,309] Trial 99 pruned. \n"
     ]
    },
    {
     "name": "stdout",
     "output_type": "stream",
     "text": [
      "Validation Loss: 4.686077056248905e-05\n",
      "Training Loss: 0.6312310308410792\n"
     ]
    },
    {
     "data": {
      "text/plain": [
       "(4.686077056248905e-05, 0.6312310308410792)"
      ]
     },
     "execution_count": 19,
     "metadata": {},
     "output_type": "execute_result"
    }
   ],
   "source": [
    "# no accuracy function must be loss for regression\n",
    "if mlp_params.MODEL_TYPE == \"Regression\":\n",
    "    mlp_params.METRIC = \"loss\"\n",
    "    pass\n",
    "\n",
    "sampler = optuna.samplers.TPESampler(seed=0)\n",
    "\n",
    "\n",
    "# wrap the objective function inside of a lambda function to pass args...\n",
    "objective_lambda_func = lambda trial: objective_model_optimizer(\n",
    "    train_loader,\n",
    "    valid_loader,\n",
    "    trial=trial,\n",
    "    params=mlp_params,\n",
    "    metric=mlp_params.METRIC,\n",
    "    return_info=False,\n",
    ")\n",
    "\n",
    "\n",
    "# Study is the object for model optimization\n",
    "study = optuna.create_study(direction=f\"{mlp_params.DIRECTION}\", sampler=sampler)\n",
    "# Here I apply the optimize function of the study to the objective function\n",
    "# This optimizes each parameter specified to be optimized from the defined search space\n",
    "study.optimize(objective_lambda_func, n_trials=mlp_params.N_TRIALS)\n",
    "# Prints out the best trial's optimized parameters\n",
    "objective_model_optimizer(\n",
    "    train_loader,\n",
    "    valid_loader,\n",
    "    trial=study.best_trial,\n",
    "    params=mlp_params,\n",
    "    metric=mlp_params.METRIC,\n",
    "    return_info=True,\n",
    ")"
   ]
  },
  {
   "cell_type": "code",
   "execution_count": 20,
   "id": "b2620589",
   "metadata": {
    "execution": {
     "iopub.execute_input": "2023-08-25T19:48:57.537081Z",
     "iopub.status.busy": "2023-08-25T19:48:57.536941Z",
     "iopub.status.idle": "2023-08-25T19:48:57.991907Z",
     "shell.execute_reply": "2023-08-25T19:48:57.991609Z"
    },
    "papermill": {
     "duration": 0.502991,
     "end_time": "2023-08-25T19:48:58.034663",
     "exception": false,
     "start_time": "2023-08-25T19:48:57.531672",
     "status": "completed"
    },
    "tags": []
   },
   "outputs": [
    {
     "data": {
      "application/vnd.plotly.v1+json": {
       "config": {
        "plotlyServerURL": "https://plot.ly"
       },
       "data": [
        {
         "mode": "markers",
         "name": "Objective Value",
         "type": "scatter",
         "x": [
          0,
          1,
          2,
          3,
          4,
          5,
          6,
          8,
          13,
          15,
          21,
          26,
          31,
          44,
          48,
          55,
          69,
          72,
          75,
          77,
          82,
          85,
          87,
          90,
          96,
          98
         ],
         "y": [
          0.1788467042706907,
          0.03480209435180086,
          0.001757647072419104,
          0.15848502326181915,
          0.04593061263731215,
          0.0002812800205629173,
          0.027296653685625644,
          0.030682460464957623,
          0.00020841376193857285,
          0.0003414532827048333,
          0.0006074503076770554,
          0.00020134006456572705,
          0.0003570223772476311,
          0.0026629819990057514,
          0.005077053075892763,
          0.0022421583234149,
          4.1466793336439876e-05,
          0.0005826359474195897,
          0.003994877561003704,
          0.0028407641191734003,
          0.0067260843602697665,
          0.0001619831295943186,
          0.0007999778861494278,
          0.0009673632492407539,
          0.00420631933320621,
          0.00016456368961939916
         ]
        },
        {
         "name": "Best Value",
         "type": "scatter",
         "x": [
          0,
          1,
          2,
          3,
          4,
          5,
          6,
          8,
          13,
          15,
          21,
          26,
          31,
          44,
          48,
          55,
          69,
          72,
          75,
          77,
          82,
          85,
          87,
          90,
          96,
          98
         ],
         "y": [
          0.1788467042706907,
          0.03480209435180086,
          0.001757647072419104,
          0.001757647072419104,
          0.001757647072419104,
          0.0002812800205629173,
          0.0002812800205629173,
          0.0002812800205629173,
          0.00020841376193857285,
          0.00020841376193857285,
          0.00020841376193857285,
          0.00020134006456572705,
          0.00020134006456572705,
          0.00020134006456572705,
          0.00020134006456572705,
          0.00020134006456572705,
          4.1466793336439876e-05,
          4.1466793336439876e-05,
          4.1466793336439876e-05,
          4.1466793336439876e-05,
          4.1466793336439876e-05,
          4.1466793336439876e-05,
          4.1466793336439876e-05,
          4.1466793336439876e-05,
          4.1466793336439876e-05,
          4.1466793336439876e-05
         ]
        }
       ],
       "layout": {
        "template": {
         "data": {
          "bar": [
           {
            "error_x": {
             "color": "#2a3f5f"
            },
            "error_y": {
             "color": "#2a3f5f"
            },
            "marker": {
             "line": {
              "color": "#E5ECF6",
              "width": 0.5
             },
             "pattern": {
              "fillmode": "overlay",
              "size": 10,
              "solidity": 0.2
             }
            },
            "type": "bar"
           }
          ],
          "barpolar": [
           {
            "marker": {
             "line": {
              "color": "#E5ECF6",
              "width": 0.5
             },
             "pattern": {
              "fillmode": "overlay",
              "size": 10,
              "solidity": 0.2
             }
            },
            "type": "barpolar"
           }
          ],
          "carpet": [
           {
            "aaxis": {
             "endlinecolor": "#2a3f5f",
             "gridcolor": "white",
             "linecolor": "white",
             "minorgridcolor": "white",
             "startlinecolor": "#2a3f5f"
            },
            "baxis": {
             "endlinecolor": "#2a3f5f",
             "gridcolor": "white",
             "linecolor": "white",
             "minorgridcolor": "white",
             "startlinecolor": "#2a3f5f"
            },
            "type": "carpet"
           }
          ],
          "choropleth": [
           {
            "colorbar": {
             "outlinewidth": 0,
             "ticks": ""
            },
            "type": "choropleth"
           }
          ],
          "contour": [
           {
            "colorbar": {
             "outlinewidth": 0,
             "ticks": ""
            },
            "colorscale": [
             [
              0,
              "#0d0887"
             ],
             [
              0.1111111111111111,
              "#46039f"
             ],
             [
              0.2222222222222222,
              "#7201a8"
             ],
             [
              0.3333333333333333,
              "#9c179e"
             ],
             [
              0.4444444444444444,
              "#bd3786"
             ],
             [
              0.5555555555555556,
              "#d8576b"
             ],
             [
              0.6666666666666666,
              "#ed7953"
             ],
             [
              0.7777777777777778,
              "#fb9f3a"
             ],
             [
              0.8888888888888888,
              "#fdca26"
             ],
             [
              1,
              "#f0f921"
             ]
            ],
            "type": "contour"
           }
          ],
          "contourcarpet": [
           {
            "colorbar": {
             "outlinewidth": 0,
             "ticks": ""
            },
            "type": "contourcarpet"
           }
          ],
          "heatmap": [
           {
            "colorbar": {
             "outlinewidth": 0,
             "ticks": ""
            },
            "colorscale": [
             [
              0,
              "#0d0887"
             ],
             [
              0.1111111111111111,
              "#46039f"
             ],
             [
              0.2222222222222222,
              "#7201a8"
             ],
             [
              0.3333333333333333,
              "#9c179e"
             ],
             [
              0.4444444444444444,
              "#bd3786"
             ],
             [
              0.5555555555555556,
              "#d8576b"
             ],
             [
              0.6666666666666666,
              "#ed7953"
             ],
             [
              0.7777777777777778,
              "#fb9f3a"
             ],
             [
              0.8888888888888888,
              "#fdca26"
             ],
             [
              1,
              "#f0f921"
             ]
            ],
            "type": "heatmap"
           }
          ],
          "heatmapgl": [
           {
            "colorbar": {
             "outlinewidth": 0,
             "ticks": ""
            },
            "colorscale": [
             [
              0,
              "#0d0887"
             ],
             [
              0.1111111111111111,
              "#46039f"
             ],
             [
              0.2222222222222222,
              "#7201a8"
             ],
             [
              0.3333333333333333,
              "#9c179e"
             ],
             [
              0.4444444444444444,
              "#bd3786"
             ],
             [
              0.5555555555555556,
              "#d8576b"
             ],
             [
              0.6666666666666666,
              "#ed7953"
             ],
             [
              0.7777777777777778,
              "#fb9f3a"
             ],
             [
              0.8888888888888888,
              "#fdca26"
             ],
             [
              1,
              "#f0f921"
             ]
            ],
            "type": "heatmapgl"
           }
          ],
          "histogram": [
           {
            "marker": {
             "pattern": {
              "fillmode": "overlay",
              "size": 10,
              "solidity": 0.2
             }
            },
            "type": "histogram"
           }
          ],
          "histogram2d": [
           {
            "colorbar": {
             "outlinewidth": 0,
             "ticks": ""
            },
            "colorscale": [
             [
              0,
              "#0d0887"
             ],
             [
              0.1111111111111111,
              "#46039f"
             ],
             [
              0.2222222222222222,
              "#7201a8"
             ],
             [
              0.3333333333333333,
              "#9c179e"
             ],
             [
              0.4444444444444444,
              "#bd3786"
             ],
             [
              0.5555555555555556,
              "#d8576b"
             ],
             [
              0.6666666666666666,
              "#ed7953"
             ],
             [
              0.7777777777777778,
              "#fb9f3a"
             ],
             [
              0.8888888888888888,
              "#fdca26"
             ],
             [
              1,
              "#f0f921"
             ]
            ],
            "type": "histogram2d"
           }
          ],
          "histogram2dcontour": [
           {
            "colorbar": {
             "outlinewidth": 0,
             "ticks": ""
            },
            "colorscale": [
             [
              0,
              "#0d0887"
             ],
             [
              0.1111111111111111,
              "#46039f"
             ],
             [
              0.2222222222222222,
              "#7201a8"
             ],
             [
              0.3333333333333333,
              "#9c179e"
             ],
             [
              0.4444444444444444,
              "#bd3786"
             ],
             [
              0.5555555555555556,
              "#d8576b"
             ],
             [
              0.6666666666666666,
              "#ed7953"
             ],
             [
              0.7777777777777778,
              "#fb9f3a"
             ],
             [
              0.8888888888888888,
              "#fdca26"
             ],
             [
              1,
              "#f0f921"
             ]
            ],
            "type": "histogram2dcontour"
           }
          ],
          "mesh3d": [
           {
            "colorbar": {
             "outlinewidth": 0,
             "ticks": ""
            },
            "type": "mesh3d"
           }
          ],
          "parcoords": [
           {
            "line": {
             "colorbar": {
              "outlinewidth": 0,
              "ticks": ""
             }
            },
            "type": "parcoords"
           }
          ],
          "pie": [
           {
            "automargin": true,
            "type": "pie"
           }
          ],
          "scatter": [
           {
            "fillpattern": {
             "fillmode": "overlay",
             "size": 10,
             "solidity": 0.2
            },
            "type": "scatter"
           }
          ],
          "scatter3d": [
           {
            "line": {
             "colorbar": {
              "outlinewidth": 0,
              "ticks": ""
             }
            },
            "marker": {
             "colorbar": {
              "outlinewidth": 0,
              "ticks": ""
             }
            },
            "type": "scatter3d"
           }
          ],
          "scattercarpet": [
           {
            "marker": {
             "colorbar": {
              "outlinewidth": 0,
              "ticks": ""
             }
            },
            "type": "scattercarpet"
           }
          ],
          "scattergeo": [
           {
            "marker": {
             "colorbar": {
              "outlinewidth": 0,
              "ticks": ""
             }
            },
            "type": "scattergeo"
           }
          ],
          "scattergl": [
           {
            "marker": {
             "colorbar": {
              "outlinewidth": 0,
              "ticks": ""
             }
            },
            "type": "scattergl"
           }
          ],
          "scattermapbox": [
           {
            "marker": {
             "colorbar": {
              "outlinewidth": 0,
              "ticks": ""
             }
            },
            "type": "scattermapbox"
           }
          ],
          "scatterpolar": [
           {
            "marker": {
             "colorbar": {
              "outlinewidth": 0,
              "ticks": ""
             }
            },
            "type": "scatterpolar"
           }
          ],
          "scatterpolargl": [
           {
            "marker": {
             "colorbar": {
              "outlinewidth": 0,
              "ticks": ""
             }
            },
            "type": "scatterpolargl"
           }
          ],
          "scatterternary": [
           {
            "marker": {
             "colorbar": {
              "outlinewidth": 0,
              "ticks": ""
             }
            },
            "type": "scatterternary"
           }
          ],
          "surface": [
           {
            "colorbar": {
             "outlinewidth": 0,
             "ticks": ""
            },
            "colorscale": [
             [
              0,
              "#0d0887"
             ],
             [
              0.1111111111111111,
              "#46039f"
             ],
             [
              0.2222222222222222,
              "#7201a8"
             ],
             [
              0.3333333333333333,
              "#9c179e"
             ],
             [
              0.4444444444444444,
              "#bd3786"
             ],
             [
              0.5555555555555556,
              "#d8576b"
             ],
             [
              0.6666666666666666,
              "#ed7953"
             ],
             [
              0.7777777777777778,
              "#fb9f3a"
             ],
             [
              0.8888888888888888,
              "#fdca26"
             ],
             [
              1,
              "#f0f921"
             ]
            ],
            "type": "surface"
           }
          ],
          "table": [
           {
            "cells": {
             "fill": {
              "color": "#EBF0F8"
             },
             "line": {
              "color": "white"
             }
            },
            "header": {
             "fill": {
              "color": "#C8D4E3"
             },
             "line": {
              "color": "white"
             }
            },
            "type": "table"
           }
          ]
         },
         "layout": {
          "annotationdefaults": {
           "arrowcolor": "#2a3f5f",
           "arrowhead": 0,
           "arrowwidth": 1
          },
          "autotypenumbers": "strict",
          "coloraxis": {
           "colorbar": {
            "outlinewidth": 0,
            "ticks": ""
           }
          },
          "colorscale": {
           "diverging": [
            [
             0,
             "#8e0152"
            ],
            [
             0.1,
             "#c51b7d"
            ],
            [
             0.2,
             "#de77ae"
            ],
            [
             0.3,
             "#f1b6da"
            ],
            [
             0.4,
             "#fde0ef"
            ],
            [
             0.5,
             "#f7f7f7"
            ],
            [
             0.6,
             "#e6f5d0"
            ],
            [
             0.7,
             "#b8e186"
            ],
            [
             0.8,
             "#7fbc41"
            ],
            [
             0.9,
             "#4d9221"
            ],
            [
             1,
             "#276419"
            ]
           ],
           "sequential": [
            [
             0,
             "#0d0887"
            ],
            [
             0.1111111111111111,
             "#46039f"
            ],
            [
             0.2222222222222222,
             "#7201a8"
            ],
            [
             0.3333333333333333,
             "#9c179e"
            ],
            [
             0.4444444444444444,
             "#bd3786"
            ],
            [
             0.5555555555555556,
             "#d8576b"
            ],
            [
             0.6666666666666666,
             "#ed7953"
            ],
            [
             0.7777777777777778,
             "#fb9f3a"
            ],
            [
             0.8888888888888888,
             "#fdca26"
            ],
            [
             1,
             "#f0f921"
            ]
           ],
           "sequentialminus": [
            [
             0,
             "#0d0887"
            ],
            [
             0.1111111111111111,
             "#46039f"
            ],
            [
             0.2222222222222222,
             "#7201a8"
            ],
            [
             0.3333333333333333,
             "#9c179e"
            ],
            [
             0.4444444444444444,
             "#bd3786"
            ],
            [
             0.5555555555555556,
             "#d8576b"
            ],
            [
             0.6666666666666666,
             "#ed7953"
            ],
            [
             0.7777777777777778,
             "#fb9f3a"
            ],
            [
             0.8888888888888888,
             "#fdca26"
            ],
            [
             1,
             "#f0f921"
            ]
           ]
          },
          "colorway": [
           "#636efa",
           "#EF553B",
           "#00cc96",
           "#ab63fa",
           "#FFA15A",
           "#19d3f3",
           "#FF6692",
           "#B6E880",
           "#FF97FF",
           "#FECB52"
          ],
          "font": {
           "color": "#2a3f5f"
          },
          "geo": {
           "bgcolor": "white",
           "lakecolor": "white",
           "landcolor": "#E5ECF6",
           "showlakes": true,
           "showland": true,
           "subunitcolor": "white"
          },
          "hoverlabel": {
           "align": "left"
          },
          "hovermode": "closest",
          "mapbox": {
           "style": "light"
          },
          "paper_bgcolor": "white",
          "plot_bgcolor": "#E5ECF6",
          "polar": {
           "angularaxis": {
            "gridcolor": "white",
            "linecolor": "white",
            "ticks": ""
           },
           "bgcolor": "#E5ECF6",
           "radialaxis": {
            "gridcolor": "white",
            "linecolor": "white",
            "ticks": ""
           }
          },
          "scene": {
           "xaxis": {
            "backgroundcolor": "#E5ECF6",
            "gridcolor": "white",
            "gridwidth": 2,
            "linecolor": "white",
            "showbackground": true,
            "ticks": "",
            "zerolinecolor": "white"
           },
           "yaxis": {
            "backgroundcolor": "#E5ECF6",
            "gridcolor": "white",
            "gridwidth": 2,
            "linecolor": "white",
            "showbackground": true,
            "ticks": "",
            "zerolinecolor": "white"
           },
           "zaxis": {
            "backgroundcolor": "#E5ECF6",
            "gridcolor": "white",
            "gridwidth": 2,
            "linecolor": "white",
            "showbackground": true,
            "ticks": "",
            "zerolinecolor": "white"
           }
          },
          "shapedefaults": {
           "line": {
            "color": "#2a3f5f"
           }
          },
          "ternary": {
           "aaxis": {
            "gridcolor": "white",
            "linecolor": "white",
            "ticks": ""
           },
           "baxis": {
            "gridcolor": "white",
            "linecolor": "white",
            "ticks": ""
           },
           "bgcolor": "#E5ECF6",
           "caxis": {
            "gridcolor": "white",
            "linecolor": "white",
            "ticks": ""
           }
          },
          "title": {
           "x": 0.05
          },
          "xaxis": {
           "automargin": true,
           "gridcolor": "white",
           "linecolor": "white",
           "ticks": "",
           "title": {
            "standoff": 15
           },
           "zerolinecolor": "white",
           "zerolinewidth": 2
          },
          "yaxis": {
           "automargin": true,
           "gridcolor": "white",
           "linecolor": "white",
           "ticks": "",
           "title": {
            "standoff": 15
           },
           "zerolinecolor": "white",
           "zerolinewidth": 2
          }
         }
        },
        "title": {
         "text": "Optimization History Plot"
        },
        "xaxis": {
         "title": {
          "text": "Trial"
         }
        },
        "yaxis": {
         "title": {
          "text": "Objective Value"
         }
        }
       }
      }
     },
     "metadata": {},
     "output_type": "display_data"
    }
   ],
   "source": [
    "fig = optuna.visualization.plot_optimization_history(study)\n",
    "graph_path = pathlib.Path(f\"../../figures/{params.MODEL_TYPE}/{params.MODEL_NAME}/\")\n",
    "# if path doesn't exist, make path with pathlib\n",
    "graph_path.mkdir(parents=True, exist_ok=True)\n",
    "\n",
    "graph_path = f\"../../figures/{params.MODEL_TYPE}/{params.MODEL_NAME}/plot_optimization_history_graph\"\n",
    "fig.write_image(pathlib.Path(f\"{graph_path}.png\"))\n",
    "fig.show()"
   ]
  },
  {
   "cell_type": "code",
   "execution_count": 21,
   "id": "92103de1",
   "metadata": {
    "execution": {
     "iopub.execute_input": "2023-08-25T19:48:58.087713Z",
     "iopub.status.busy": "2023-08-25T19:48:58.087514Z",
     "iopub.status.idle": "2023-08-25T19:48:58.205207Z",
     "shell.execute_reply": "2023-08-25T19:48:58.204778Z"
    },
    "papermill": {
     "duration": 0.146858,
     "end_time": "2023-08-25T19:48:58.206496",
     "exception": false,
     "start_time": "2023-08-25T19:48:58.059638",
     "status": "completed"
    },
    "tags": []
   },
   "outputs": [
    {
     "data": {
      "application/vnd.plotly.v1+json": {
       "config": {
        "plotlyServerURL": "https://plot.ly"
       },
       "data": [
        {
         "marker": {
          "maxdisplayed": 10
         },
         "mode": "lines+markers",
         "name": "Trial0",
         "type": "scatter",
         "x": [
          0,
          1,
          2,
          3,
          4,
          5,
          6,
          7,
          8,
          9,
          10,
          11,
          12,
          13,
          14,
          15,
          16,
          17,
          18,
          19,
          20,
          21,
          22,
          23,
          24,
          25,
          26,
          27,
          28,
          29,
          30,
          31,
          32,
          33,
          34,
          35,
          36,
          37,
          38,
          39,
          40,
          41,
          42,
          43,
          44,
          45,
          46,
          47,
          48,
          49
         ],
         "y": [
          2.1063332557678223,
          1.5168630182743073,
          1.1780681411425273,
          0.8933183569461107,
          0.7635691270232201,
          0.6622806750237942,
          0.5716641313795533,
          0.5202933161053807,
          0.47120082481867737,
          0.43338089231401683,
          0.40351142344827,
          0.37650885138039786,
          0.35519965867010445,
          0.3359012535906264,
          0.31952838512758414,
          0.3053580509731546,
          0.29235228205866676,
          0.2810629743875729,
          0.270783970328538,
          0.261647527012974,
          0.2532588354356232,
          0.24567746108567173,
          0.238702779635787,
          0.2323108744652321,
          0.22646827287971974,
          0.22096571591324532,
          0.21592754215278007,
          0.2111935951480908,
          0.20677814099552302,
          0.20268731967856488,
          0.1988038012697812,
          0.19519700325326994,
          0.19177001178490394,
          0.18863750298452728,
          0.18555057692740645,
          0.1827904812267257,
          0.17988551755410595,
          0.17745892610400915,
          0.17486381000624254,
          0.17262325775809587,
          0.17027254334491929,
          0.16822977155624402,
          0.1661266463180614,
          0.1695387106473473,
          0.18476107919381723,
          0.18130297537731088,
          0.18498424361360835,
          0.18131507069726163,
          0.18175878700781234,
          0.1788467042706907
         ]
        },
        {
         "marker": {
          "maxdisplayed": 10
         },
         "mode": "lines+markers",
         "name": "Trial1",
         "type": "scatter",
         "x": [
          0,
          1,
          2,
          3,
          4,
          5,
          6,
          7,
          8,
          9,
          10,
          11,
          12,
          13,
          14,
          15,
          16,
          17,
          18,
          19,
          20,
          21,
          22,
          23,
          24,
          25,
          26,
          27,
          28,
          29,
          30,
          31,
          32,
          33,
          34,
          35,
          36,
          37,
          38,
          39,
          40,
          41,
          42,
          43,
          44,
          45,
          46,
          47,
          48,
          49
         ],
         "y": [
          0.1510416865348816,
          0.0781121039763093,
          0.07296377730866273,
          0.055420878750737756,
          0.052759729651734234,
          0.044120420585386455,
          0.06181954023694353,
          0.06708182735019363,
          0.061539363866257996,
          0.06300680816639215,
          0.07546799996105785,
          0.06957359924369182,
          0.0857714970703595,
          0.08194818136481834,
          0.08417467377148569,
          0.10674211849982385,
          0.10152004967334077,
          0.09600045746709737,
          0.09112182297547788,
          0.08672480740351603,
          0.08261607730362032,
          0.07902293621604754,
          0.07559545171755852,
          0.07245030638053625,
          0.06955465975232072,
          0.066880500550374,
          0.06440376569888165,
          0.062103669998500824,
          0.059962175729545944,
          0.057963563726423216,
          0.05609408311912126,
          0.054341662361654386,
          0.05269566855024826,
          0.05114670566512265,
          0.049686444478775876,
          0.0483074785510256,
          0.047003201943146056,
          0.04576770512324844,
          0.0445956861593686,
          0.04348237481085846,
          0.04242346751690792,
          0.04141507231530352,
          0.04045365784449671,
          0.03953601637927694,
          0.038659224954489625,
          0.037820614983544325,
          0.037017745134787526,
          0.036248377641984554,
          0.03551045753100165,
          0.03480209435180086
         ]
        },
        {
         "marker": {
          "maxdisplayed": 10
         },
         "mode": "lines+markers",
         "name": "Trial2",
         "type": "scatter",
         "x": [
          0,
          1,
          2,
          3,
          4,
          5,
          6,
          7,
          8,
          9,
          10,
          11,
          12,
          13,
          14,
          15,
          16,
          17,
          18,
          19,
          20,
          21,
          22,
          23,
          24,
          25,
          26,
          27,
          28,
          29,
          30,
          31,
          32,
          33,
          34,
          35,
          36,
          37,
          38,
          39,
          40,
          41,
          42,
          43,
          44,
          45,
          46,
          47,
          48,
          49
         ],
         "y": [
          0.00544070266187191,
          0.0070531549863517284,
          0.007295126095414162,
          0.007829753682017326,
          0.0067251123487949375,
          0.006863678417478998,
          0.008052976735468422,
          0.007380313909379765,
          0.007022733722502987,
          0.006460045755375177,
          0.006047397301616994,
          0.005722341826185584,
          0.005400847518243468,
          0.005128623468668333,
          0.0049000417425607646,
          0.004706500549218617,
          0.00451459752067047,
          0.004320670449588861,
          0.004125596835939704,
          0.0039754325669491665,
          0.0038264726033611666,
          0.00368246065706692,
          0.0035402972033530796,
          0.0034095449882443063,
          0.0032913838583044706,
          0.0031710909981764136,
          0.0030693164466086913,
          0.0029845069615735804,
          0.002887481579191758,
          0.002842439703817945,
          0.0027550469972230794,
          0.002685445554106991,
          0.0026159432022585393,
          0.002546541150128606,
          0.002474596814239963,
          0.0024060227478786248,
          0.002345904842403232,
          0.0022841888979957944,
          0.002225766185861817,
          0.0021749210189355495,
          0.0021228330060375257,
          0.002075416078665306,
          0.002028679839082638,
          0.0019859180221779775,
          0.0019432995747403461,
          0.0019015912253362035,
          0.0018644577449750382,
          0.001827010776699704,
          0.0017921094278560712,
          0.001757647072419104
         ]
        },
        {
         "marker": {
          "maxdisplayed": 10
         },
         "mode": "lines+markers",
         "name": "Trial3",
         "type": "scatter",
         "x": [
          0,
          1,
          2,
          3,
          4,
          5,
          6,
          7,
          8,
          9,
          10,
          11,
          12,
          13,
          14,
          15,
          16,
          17,
          18,
          19,
          20,
          21,
          22,
          23,
          24,
          25,
          26,
          27,
          28,
          29,
          30,
          31,
          32,
          33,
          34,
          35,
          36,
          37,
          38,
          39,
          40,
          41,
          42,
          43,
          44,
          45,
          46,
          47,
          48,
          49
         ],
         "y": [
          7.409977912902832,
          3.8167883902788162,
          2.5756082187096276,
          1.9391332850791514,
          1.5528630101121963,
          1.295107761863619,
          1.1105231465439178,
          0.972707125794841,
          0.8648382825388884,
          0.778563432127703,
          0.7077901509371507,
          0.6508851773448138,
          0.6023677774089895,
          0.5594181964118304,
          0.5222420771569887,
          0.4896348221811877,
          0.46103205926299456,
          0.4357646056194224,
          0.4128903617937268,
          0.39272927183210415,
          0.37432033083019806,
          0.35733020621823514,
          0.3418305083483258,
          0.32761691042363356,
          0.3149037473394128,
          0.3028169655972306,
          0.2918044952827956,
          0.28156367556130135,
          0.27201447680661284,
          0.26308324647264575,
          0.254715122768938,
          0.24685200629585324,
          0.2394449882630204,
          0.232474261571363,
          0.22590460870259058,
          0.2196865829417018,
          0.21380509560578895,
          0.20822840597410455,
          0.20292230990264962,
          0.19788213427682422,
          0.19307716372829262,
          0.18850208079961053,
          0.1841449660905075,
          0.17998577188708706,
          0.17600970214965247,
          0.17219799650213288,
          0.1685533056920673,
          0.1650557462745231,
          0.16170372517207193,
          0.15848502326181915
         ]
        },
        {
         "marker": {
          "maxdisplayed": 10
         },
         "mode": "lines+markers",
         "name": "Trial4",
         "type": "scatter",
         "x": [
          0,
          1,
          2,
          3,
          4,
          5,
          6,
          7,
          8,
          9,
          10,
          11,
          12,
          13,
          14,
          15,
          16,
          17,
          18,
          19,
          20,
          21,
          22,
          23,
          24,
          25,
          26,
          27,
          28,
          29,
          30,
          31,
          32,
          33,
          34,
          35,
          36,
          37,
          38,
          39,
          40,
          41,
          42,
          43,
          44,
          45,
          46,
          47,
          48,
          49
         ],
         "y": [
          0.01157322246581316,
          0.012642297893762589,
          0.13009335845708847,
          0.0977862099534832,
          0.09575949418358505,
          0.08924784041785945,
          0.0783791730646044,
          0.0780522951099556,
          0.0706485248843415,
          0.06361761694715824,
          0.0657035647970836,
          0.07005825395026477,
          0.0657726697189411,
          0.0630389276754743,
          0.05967624576102632,
          0.05599650295516767,
          0.05316594443181256,
          0.05133899821440638,
          0.050781705099660415,
          0.05111315886169905,
          0.051003271293926185,
          0.051713346102835865,
          0.05024697277416556,
          0.05071517392570968,
          0.04948792236042209,
          0.050714386932668276,
          0.04963217160116916,
          0.04970413521368755,
          0.048522991594930724,
          0.04864533219273047,
          0.05150368832325893,
          0.05022961042504903,
          0.049845841812908256,
          0.04901007482155418,
          0.048968127117924656,
          0.04960399551863601,
          0.049772202025475984,
          0.049652907079067325,
          0.04941687633907303,
          0.04848766232680646,
          0.04839442505731202,
          0.04838035760206237,
          0.047782049352590124,
          0.04780722857222744,
          0.04747352185206384,
          0.04749509602160011,
          0.04710802783696674,
          0.04678415032746367,
          0.04615526786133438,
          0.04593061263731215
         ]
        },
        {
         "marker": {
          "maxdisplayed": 10
         },
         "mode": "lines+markers",
         "name": "Trial5",
         "type": "scatter",
         "x": [
          0,
          1,
          2,
          3,
          4,
          5,
          6,
          7,
          8,
          9,
          10,
          11,
          12,
          13,
          14,
          15,
          16,
          17,
          18,
          19,
          20,
          21,
          22,
          23,
          24,
          25,
          26,
          27,
          28,
          29,
          30,
          31,
          32,
          33,
          34,
          35,
          36,
          37,
          38,
          39,
          40,
          41,
          42,
          43,
          44,
          45,
          46,
          47,
          48,
          49
         ],
         "y": [
          0.00018423503206577152,
          0.0001453388322261162,
          0.0001550461408138896,
          0.00016539831995032728,
          0.00021842414862476288,
          0.00021375341990885013,
          0.00024768213084566275,
          0.00023088555553840706,
          0.0002126036779372953,
          0.00021295267433742992,
          0.00020673847823424941,
          0.00020666836098826025,
          0.00019327936556342489,
          0.0002113000220041223,
          0.00041711975475967243,
          0.0003928778114641318,
          0.0003740993766661953,
          0.0003633623038897187,
          0.00035662442219051485,
          0.00034426978199917355,
          0.00034130673538172794,
          0.0003440769012906292,
          0.00033527253601831666,
          0.0003262130818863322,
          0.0003139820618525846,
          0.00030293396216270945,
          0.00029728411404735027,
          0.00028671059116293563,
          0.00028430445165040824,
          0.0002965593270990515,
          0.00030500491424933693,
          0.0003059190882517271,
          0.00029745326339431784,
          0.0002946046837818732,
          0.0003278894974658085,
          0.00032182667332373666,
          0.00031496270064876997,
          0.00032092266117818947,
          0.00031582378114354727,
          0.00031069517890784936,
          0.0003048077836360901,
          0.00031949375686021346,
          0.00031810781560347265,
          0.00031218977504078214,
          0.00030543155634556266,
          0.0002992321434945829,
          0.0002965917773281035,
          0.00029087176028734046,
          0.0002849480380361029,
          0.0002812800205629173
         ]
        },
        {
         "marker": {
          "maxdisplayed": 10
         },
         "mode": "lines+markers",
         "name": "Trial6",
         "type": "scatter",
         "x": [
          0,
          1,
          2,
          3,
          4,
          5,
          6,
          7,
          8,
          9,
          10,
          11,
          12,
          13,
          14,
          15,
          16,
          17,
          18,
          19,
          20,
          21,
          22,
          23,
          24,
          25,
          26,
          27,
          28,
          29,
          30,
          31,
          32,
          33,
          34,
          35,
          36,
          37,
          38,
          39,
          40,
          41,
          42,
          43,
          44,
          45,
          46,
          47,
          48,
          49
         ],
         "y": [
          0.01725195161998272,
          0.017332463525235653,
          0.0269412479052941,
          0.025135880336165428,
          0.023527378961443902,
          0.02522997713337342,
          0.024650923907756805,
          0.022635853849351406,
          0.021286359160310693,
          0.01928949124412611,
          0.018632761467332868,
          0.020589514955645427,
          0.0191543287006565,
          0.018402567657176405,
          0.01813978117424995,
          0.01955327076575486,
          0.0201245777459596,
          0.019764916550937213,
          0.020942304473321297,
          0.021601558657130225,
          0.02444034690103893,
          0.02431773986476897,
          0.024594202065718888,
          0.024256681785724748,
          0.024716372410766782,
          0.02513231888252239,
          0.024672714057723404,
          0.02662522954051383,
          0.028083308724333244,
          0.0276432596729137,
          0.027299671640409338,
          0.02700666291275411,
          0.026973865809850395,
          0.02697058005244745,
          0.02684956724821989,
          0.02665338825318031,
          0.02655448140010137,
          0.02626448727249609,
          0.02681268994899419,
          0.02684297901287209,
          0.02692887427501108,
          0.026581477814553573,
          0.026824181160326442,
          0.026642059481342916,
          0.026318337682945035,
          0.02714215526509139,
          0.027414975249446295,
          0.027306651888162985,
          0.027042739623112187,
          0.027296653685625644
         ]
        },
        {
         "marker": {
          "maxdisplayed": 10
         },
         "mode": "lines+markers",
         "name": "Trial7",
         "type": "scatter",
         "x": [
          0
         ],
         "y": [
          0.9304661154747009
         ]
        },
        {
         "marker": {
          "maxdisplayed": 10
         },
         "mode": "lines+markers",
         "name": "Trial8",
         "type": "scatter",
         "x": [
          0,
          1,
          2,
          3,
          4,
          5,
          6,
          7,
          8,
          9,
          10,
          11,
          12,
          13,
          14,
          15,
          16,
          17,
          18,
          19,
          20,
          21,
          22,
          23,
          24,
          25,
          26,
          27,
          28,
          29,
          30,
          31,
          32,
          33,
          34,
          35,
          36,
          37,
          38,
          39,
          40,
          41,
          42,
          43,
          44,
          45,
          46,
          47,
          48,
          49
         ],
         "y": [
          0.00024130215751938522,
          0.0058019283314934,
          0.004060806677443907,
          0.003318012757517863,
          0.002654971992933497,
          0.0022494443874544836,
          0.002284070193159745,
          0.002393001034789677,
          0.0021392433927000334,
          0.001940793341805147,
          0.002038655893908402,
          0.0022364261543354282,
          0.004045041677640116,
          0.0037561113029834304,
          0.003932653257162262,
          0.0062663738046874196,
          0.0067015232311547586,
          0.006819022675695428,
          0.007062888126946507,
          0.007241255520962842,
          0.010147950222741202,
          0.010399675429484308,
          0.01243697715123768,
          0.013386833722958272,
          0.013451001242644124,
          0.013451453771964226,
          0.013923605049324748,
          0.014587596498648445,
          0.014979045427776045,
          0.015697079003558004,
          0.01693321521792243,
          0.01736940703187645,
          0.01829054345525164,
          0.018241725128543242,
          0.018759362964294164,
          0.019367489271035994,
          0.01964011333335529,
          0.019816784267131782,
          0.021142690209016927,
          0.02133882267453182,
          0.022099972571327516,
          0.023110639907565463,
          0.024706859817827474,
          0.024901075695526496,
          0.02642303927123907,
          0.028238014585755082,
          0.028292316729848336,
          0.02895540816287538,
          0.029638779962066146,
          0.030682460464957623
         ]
        },
        {
         "marker": {
          "maxdisplayed": 10
         },
         "mode": "lines+markers",
         "name": "Trial9",
         "type": "scatter",
         "x": [
          0
         ],
         "y": [
          6.896005630493164
         ]
        },
        {
         "marker": {
          "maxdisplayed": 10
         },
         "mode": "lines+markers",
         "name": "Trial10",
         "type": "scatter",
         "x": [
          0
         ],
         "y": [
          16025.875
         ]
        },
        {
         "marker": {
          "maxdisplayed": 10
         },
         "mode": "lines+markers",
         "name": "Trial11",
         "type": "scatter",
         "x": [
          0
         ],
         "y": [
          0.014650027267634869
         ]
        },
        {
         "marker": {
          "maxdisplayed": 10
         },
         "mode": "lines+markers",
         "name": "Trial12",
         "type": "scatter",
         "x": [
          0
         ],
         "y": [
          10.68565559387207
         ]
        },
        {
         "marker": {
          "maxdisplayed": 10
         },
         "mode": "lines+markers",
         "name": "Trial13",
         "type": "scatter",
         "x": [
          0,
          1,
          2,
          3,
          4,
          5,
          6,
          7,
          8,
          9,
          10,
          11,
          12,
          13,
          14,
          15,
          16,
          17,
          18,
          19,
          20,
          21,
          22,
          23,
          24,
          25,
          26,
          27,
          28,
          29,
          30,
          31,
          32,
          33,
          34,
          35,
          36,
          37,
          38,
          39,
          40,
          41,
          42,
          43,
          44,
          45,
          46,
          47,
          48,
          49
         ],
         "y": [
          0.0011133251246064901,
          0.0006093792471801862,
          0.0004717329963265608,
          0.00037806872569490224,
          0.0003345454460941255,
          0.00032107793958857656,
          0.00030143820289855024,
          0.0002781576813504216,
          0.00026056740736951016,
          0.00024459341148030944,
          0.00023489466415908694,
          0.0002319536706636427,
          0.00022319335906873815,
          0.00021367509907577187,
          0.00020886945615833003,
          0.00020107113414269406,
          0.00019685529268291944,
          0.00019193700387000313,
          0.0001865858074253131,
          0.0001825603103497997,
          0.0001787130188729082,
          0.00019283363309858197,
          0.00024554733966436726,
          0.0002390052280437279,
          0.00023186699589132333,
          0.00022468812144674861,
          0.00021936578398001276,
          0.0002162640973568029,
          0.00021272650538494103,
          0.0002090590457858828,
          0.00020640252454717073,
          0.0002038287284449325,
          0.00020164400594887522,
          0.0002008737056338064,
          0.000197272897847662,
          0.00019514416958878023,
          0.0001936441643723614,
          0.00019345256633211024,
          0.00020533172191323666,
          0.0002020874911977444,
          0.0002119941814382356,
          0.00021028732971033258,
          0.00020714864953079933,
          0.00020389480563277505,
          0.000201163508851702,
          0.00019998695358441657,
          0.00019713778725572603,
          0.00021138277543286677,
          0.000212052577604036,
          0.00020841376193857285
         ]
        },
        {
         "marker": {
          "maxdisplayed": 10
         },
         "mode": "lines+markers",
         "name": "Trial14",
         "type": "scatter",
         "x": [
          0
         ],
         "y": [
          186.85008239746094
         ]
        },
        {
         "marker": {
          "maxdisplayed": 10
         },
         "mode": "lines+markers",
         "name": "Trial15",
         "type": "scatter",
         "x": [
          0,
          1,
          2,
          3,
          4,
          5,
          6,
          7,
          8,
          9,
          10,
          11,
          12,
          13,
          14,
          15,
          16,
          17,
          18,
          19,
          20,
          21,
          22,
          23,
          24,
          25,
          26,
          27,
          28,
          29,
          30,
          31,
          32,
          33,
          34,
          35,
          36,
          37,
          38,
          39,
          40,
          41,
          42,
          43,
          44,
          45,
          46,
          47,
          48,
          49
         ],
         "y": [
          0.00029232920496724546,
          0.00036851593176834285,
          0.0005415508251947662,
          0.0004750180887640454,
          0.0007077532645780593,
          0.0008436578840094929,
          0.0007328165187833033,
          0.0006627471702813637,
          0.0006117580002561832,
          0.0005855458075529896,
          0.0006425566217248244,
          0.0005938751604238254,
          0.0005595475435816647,
          0.0005313444627453075,
          0.0004961497910547526,
          0.00046516742305868775,
          0.0004380777434910081,
          0.0004278666311847701,
          0.0004192766011544192,
          0.00042955555846901916,
          0.0004175063417646708,
          0.0004015978660163455,
          0.0003941949231948852,
          0.00038691200075883597,
          0.00037696169959417603,
          0.0004199679984822069,
          0.0004182134670019069,
          0.0004099032249363128,
          0.0004551169773815767,
          0.000448629710028096,
          0.00044520945184998593,
          0.0004381056763307356,
          0.0004281833121171296,
          0.00041559396480545945,
          0.00041064989514682436,
          0.0004023803245082212,
          0.0003965101694725982,
          0.00038630478021529696,
          0.0003805383355440356,
          0.0003745353058789647,
          0.0003679014661687267,
          0.00036435225499888347,
          0.0003559272215215441,
          0.00034839507366319305,
          0.0003451218062221212,
          0.00034204252322984246,
          0.0003348326680391902,
          0.0003470179598975183,
          0.00034399374416171685,
          0.0003414532827048333
         ]
        },
        {
         "marker": {
          "maxdisplayed": 10
         },
         "mode": "lines+markers",
         "name": "Trial16",
         "type": "scatter",
         "x": [
          0
         ],
         "y": [
          0.17032074928283691
         ]
        },
        {
         "marker": {
          "maxdisplayed": 10
         },
         "mode": "lines+markers",
         "name": "Trial17",
         "type": "scatter",
         "x": [
          0
         ],
         "y": [
          1.7932568788528442
         ]
        },
        {
         "marker": {
          "maxdisplayed": 10
         },
         "mode": "lines+markers",
         "name": "Trial18",
         "type": "scatter",
         "x": [
          0
         ],
         "y": [
          1.0691403150558472
         ]
        },
        {
         "marker": {
          "maxdisplayed": 10
         },
         "mode": "lines+markers",
         "name": "Trial19",
         "type": "scatter",
         "x": [
          0
         ],
         "y": [
          4.700676918029785
         ]
        },
        {
         "marker": {
          "maxdisplayed": 10
         },
         "mode": "lines+markers",
         "name": "Trial20",
         "type": "scatter",
         "x": [
          0
         ],
         "y": [
          0.1302535980939865
         ]
        },
        {
         "marker": {
          "maxdisplayed": 10
         },
         "mode": "lines+markers",
         "name": "Trial21",
         "type": "scatter",
         "x": [
          0,
          1,
          2,
          3,
          4,
          5,
          6,
          7,
          8,
          9,
          10,
          11,
          12,
          13,
          14,
          15,
          16,
          17,
          18,
          19,
          20,
          21,
          22,
          23,
          24,
          25,
          26,
          27,
          28,
          29,
          30,
          31,
          32,
          33,
          34,
          35,
          36,
          37,
          38,
          39,
          40,
          41,
          42,
          43,
          44,
          45,
          46,
          47,
          48,
          49
         ],
         "y": [
          0.0010282672010362148,
          0.0005985467214486562,
          0.0006367906219869232,
          0.0005024395431973971,
          0.0004401435551699251,
          0.0003672985548064389,
          0.00039451934977868016,
          0.0003666507399486818,
          0.0003432999024729118,
          0.00032089191074646806,
          0.0003022106458998182,
          0.0002818016297207275,
          0.00026852303669609403,
          0.0002511813691756158,
          0.00023944487967734554,
          0.00024120757969114948,
          0.00023018118464706813,
          0.00021909536438771384,
          0.0002075726796562094,
          0.0001981144623151465,
          0.0002872180718104086,
          0.00028299237977336134,
          0.00027068889988034135,
          0.0002666293184026003,
          0.00025876039251130576,
          0.00024935397436301254,
          0.00029718351404178984,
          0.0004931595824262709,
          0.0005629632348261821,
          0.000546297902302939,
          0.0005339430347718583,
          0.0005186236722451998,
          0.0005113435160156014,
          0.0004963797793286648,
          0.00048518799396077836,
          0.00047340763243890964,
          0.00046118604271193543,
          0.0004500762953237226,
          0.0006060485108789474,
          0.0005935609050448321,
          0.0005838123517251131,
          0.0005736443512173226,
          0.000561186285132134,
          0.0005514080969657442,
          0.0005392309103899923,
          0.000530685239014841,
          0.0005205268159917622,
          0.0005119566203073411,
          0.0005029714204014818,
          0.0006074503076770554
         ]
        },
        {
         "marker": {
          "maxdisplayed": 10
         },
         "mode": "lines+markers",
         "name": "Trial22",
         "type": "scatter",
         "x": [
          0
         ],
         "y": [
          8.162208557128906
         ]
        },
        {
         "marker": {
          "maxdisplayed": 10
         },
         "mode": "lines+markers",
         "name": "Trial23",
         "type": "scatter",
         "x": [
          0
         ],
         "y": [
          0.01901358552277088
         ]
        },
        {
         "marker": {
          "maxdisplayed": 10
         },
         "mode": "lines+markers",
         "name": "Trial24",
         "type": "scatter",
         "x": [
          0
         ],
         "y": [
          8018.115234375
         ]
        },
        {
         "marker": {
          "maxdisplayed": 10
         },
         "mode": "lines+markers",
         "name": "Trial25",
         "type": "scatter",
         "x": [
          0
         ],
         "y": [
          0.012774556875228882
         ]
        },
        {
         "marker": {
          "maxdisplayed": 10
         },
         "mode": "lines+markers",
         "name": "Trial26",
         "type": "scatter",
         "x": [
          0,
          1,
          2,
          3,
          4,
          5,
          6,
          7,
          8,
          9,
          10,
          11,
          12,
          13,
          14,
          15,
          16,
          17,
          18,
          19,
          20,
          21,
          22,
          23,
          24,
          25,
          26,
          27,
          28,
          29,
          30,
          31,
          32,
          33,
          34,
          35,
          36,
          37,
          38,
          39,
          40,
          41,
          42,
          43,
          44,
          45,
          46,
          47,
          48,
          49
         ],
         "y": [
          0.002404493745416403,
          0.0025822967290878296,
          0.001962009623336295,
          0.0015595066215610132,
          0.0012663693152717315,
          0.0010591512163955485,
          0.0009078665944863522,
          0.0008064740381712454,
          0.0007171769056084384,
          0.0006458289808961126,
          0.0005875246976178129,
          0.0005385712492245176,
          0.0004977950354118504,
          0.00046248871309271877,
          0.0004319053075898675,
          0.0004061252881739641,
          0.00038260541673739617,
          0.000362351015377824,
          0.0003432918001729191,
          0.00032623432424294663,
          0.00031146549994685656,
          0.0002979875994529767,
          0.000298340703632134,
          0.000286349101342213,
          0.00027492106499522607,
          0.00027239883205172513,
          0.0002625959795218415,
          0.0002532196926173315,
          0.00024469837139049795,
          0.00023660352935953217,
          0.00023357681044948946,
          0.0002407433375739565,
          0.00023692026030759777,
          0.00023012905769678247,
          0.00022467260766875695,
          0.00021850469951761257,
          0.00021320910890434898,
          0.00021150848271165196,
          0.00020710867448004732,
          0.00020200834159957992,
          0.00019773300704000076,
          0.00019309469786829174,
          0.0001889870991121587,
          0.00018531854344513735,
          0.00018133144903629273,
          0.0001774119990635679,
          0.00017476324622002287,
          0.00017522315833880717,
          0.00017357687292039086,
          0.00020134006456572705
         ]
        },
        {
         "marker": {
          "maxdisplayed": 10
         },
         "mode": "lines+markers",
         "name": "Trial27",
         "type": "scatter",
         "x": [
          0
         ],
         "y": [
          3431908.25
         ]
        },
        {
         "marker": {
          "maxdisplayed": 10
         },
         "mode": "lines+markers",
         "name": "Trial28",
         "type": "scatter",
         "x": [
          0
         ],
         "y": [
          0.546653151512146
         ]
        },
        {
         "marker": {
          "maxdisplayed": 10
         },
         "mode": "lines+markers",
         "name": "Trial29",
         "type": "scatter",
         "x": [
          0
         ],
         "y": [
          378.3651428222656
         ]
        },
        {
         "marker": {
          "maxdisplayed": 10
         },
         "mode": "lines+markers",
         "name": "Trial30",
         "type": "scatter",
         "x": [
          0
         ],
         "y": [
          0.15614472329616547
         ]
        },
        {
         "marker": {
          "maxdisplayed": 10
         },
         "mode": "lines+markers",
         "name": "Trial31",
         "type": "scatter",
         "x": [
          0,
          1,
          2,
          3,
          4,
          5,
          6,
          7,
          8,
          9,
          10,
          11,
          12,
          13,
          14,
          15,
          16,
          17,
          18,
          19,
          20,
          21,
          22,
          23,
          24,
          25,
          26,
          27,
          28,
          29,
          30,
          31,
          32,
          33,
          34,
          35,
          36,
          37,
          38,
          39,
          40,
          41,
          42,
          43,
          44,
          45,
          46,
          47,
          48,
          49
         ],
         "y": [
          0.00026648625498637557,
          0.0057214896369259804,
          0.0038457163609564304,
          0.0029173394104873296,
          0.0023597091872943564,
          0.0019842061022548783,
          0.00171462931341791,
          0.0015429690511155059,
          0.001377680667145695,
          0.0012562807896756567,
          0.0011538739715681666,
          0.0010661036685633007,
          0.0010135646634108315,
          0.000949009683868748,
          0.0008936385856941342,
          0.000845425546685874,
          0.0008037025434211554,
          0.0007628991483620161,
          0.0007279387152122677,
          0.0006976594031584682,
          0.0006733533653979455,
          0.0006476815142377745,
          0.0006218110448453049,
          0.0006000336922321973,
          0.0005799607650260441,
          0.0005596692416684863,
          0.0005409212617787826,
          0.0005255077941391002,
          0.0005109059981397627,
          0.0004979550997328867,
          0.00048755628660963397,
          0.00047317646766487087,
          0.0004630476342947187,
          0.00045197060808277456,
          0.0004423266997556701,
          0.00044299724176097597,
          0.0004319582905638428,
          0.0004236619594705285,
          0.0004188367588656734,
          0.0004087802650701633,
          0.00040526184979748127,
          0.00039866493261797586,
          0.00039237859506778647,
          0.0003860420994318371,
          0.00038051262902930223,
          0.00037426965659308377,
          0.0003706223673594031,
          0.000366904483636669,
          0.00036353905117572806,
          0.0003570223772476311
         ]
        },
        {
         "marker": {
          "maxdisplayed": 10
         },
         "mode": "lines+markers",
         "name": "Trial32",
         "type": "scatter",
         "x": [
          0
         ],
         "y": [
          0.4307110905647278
         ]
        },
        {
         "marker": {
          "maxdisplayed": 10
         },
         "mode": "lines+markers",
         "name": "Trial33",
         "type": "scatter",
         "x": [
          0
         ],
         "y": [
          0.273691326379776
         ]
        },
        {
         "marker": {
          "maxdisplayed": 10
         },
         "mode": "lines+markers",
         "name": "Trial34",
         "type": "scatter",
         "x": [
          0
         ],
         "y": [
          0.047496501356363297
         ]
        },
        {
         "marker": {
          "maxdisplayed": 10
         },
         "mode": "lines+markers",
         "name": "Trial35",
         "type": "scatter",
         "x": [
          0
         ],
         "y": [
          0.025446876883506775
         ]
        },
        {
         "marker": {
          "maxdisplayed": 10
         },
         "mode": "lines+markers",
         "name": "Trial36",
         "type": "scatter",
         "x": [
          0
         ],
         "y": [
          0.11876805126667023
         ]
        },
        {
         "marker": {
          "maxdisplayed": 10
         },
         "mode": "lines+markers",
         "name": "Trial37",
         "type": "scatter",
         "x": [
          0
         ],
         "y": [
          20.37972640991211
         ]
        },
        {
         "marker": {
          "maxdisplayed": 10
         },
         "mode": "lines+markers",
         "name": "Trial38",
         "type": "scatter",
         "x": [
          0
         ],
         "y": [
          7.087561130523682
         ]
        },
        {
         "marker": {
          "maxdisplayed": 10
         },
         "mode": "lines+markers",
         "name": "Trial39",
         "type": "scatter",
         "x": [
          0
         ],
         "y": [
          0.024989096447825432
         ]
        },
        {
         "marker": {
          "maxdisplayed": 10
         },
         "mode": "lines+markers",
         "name": "Trial40",
         "type": "scatter",
         "x": [
          0
         ],
         "y": [
          0.17474615573883057
         ]
        },
        {
         "marker": {
          "maxdisplayed": 10
         },
         "mode": "lines+markers",
         "name": "Trial41",
         "type": "scatter",
         "x": [
          0
         ],
         "y": [
          0.011870965361595154
         ]
        },
        {
         "marker": {
          "maxdisplayed": 10
         },
         "mode": "lines+markers",
         "name": "Trial42",
         "type": "scatter",
         "x": [
          0
         ],
         "y": [
          12.745776176452637
         ]
        },
        {
         "marker": {
          "maxdisplayed": 10
         },
         "mode": "lines+markers",
         "name": "Trial43",
         "type": "scatter",
         "x": [
          0
         ],
         "y": [
          0.007878342643380165
         ]
        },
        {
         "marker": {
          "maxdisplayed": 10
         },
         "mode": "lines+markers",
         "name": "Trial44",
         "type": "scatter",
         "x": [
          0,
          1,
          2,
          3,
          4,
          5,
          6,
          7,
          8,
          9,
          10,
          11,
          12,
          13,
          14,
          15,
          16,
          17,
          18,
          19,
          20,
          21,
          22,
          23,
          24,
          25,
          26,
          27,
          28,
          29,
          30,
          31,
          32,
          33,
          34,
          35,
          36,
          37,
          38,
          39,
          40,
          41,
          42,
          43,
          44,
          45,
          46,
          47,
          48,
          49
         ],
         "y": [
          0.0016593134496361017,
          0.015599993173964322,
          0.01469131939423581,
          0.011890772497281432,
          0.012746498547494411,
          0.010825503889160851,
          0.009305982077161648,
          0.008187368817743845,
          0.007281967310619721,
          0.00658813767186075,
          0.0060259424694364,
          0.007499775775007341,
          0.006929945918482889,
          0.006442520285937852,
          0.006013053992603545,
          0.005663879729905119,
          0.005354177577704805,
          0.0050612948142511665,
          0.0048019399097166855,
          0.004561918419031486,
          0.00436143890128787,
          0.004164304722830924,
          0.0039855388430272915,
          0.003827467012335717,
          0.0036819601905813213,
          0.0035417574336585964,
          0.0034194143538254845,
          0.003351773244887113,
          0.003236469287248289,
          0.003138922180545478,
          0.003039463822836575,
          0.002944627161918234,
          0.002860072912435016,
          0.00278259753951,
          0.003297839850082645,
          0.0032287882083087047,
          0.0031423700832349183,
          0.003059683173008029,
          0.002981543241969867,
          0.002910043982302568,
          0.0028401690981576305,
          0.0028225995293085014,
          0.0027570317549182005,
          0.0028583886319882945,
          0.0027959206070641406,
          0.0027366169422046605,
          0.002688739374966741,
          0.0026331242429336044,
          0.0025838546406359865,
          0.0026629819990057514
         ]
        },
        {
         "marker": {
          "maxdisplayed": 10
         },
         "mode": "lines+markers",
         "name": "Trial45",
         "type": "scatter",
         "x": [
          0
         ],
         "y": [
          0.008565888740122318
         ]
        },
        {
         "marker": {
          "maxdisplayed": 10
         },
         "mode": "lines+markers",
         "name": "Trial46",
         "type": "scatter",
         "x": [
          0
         ],
         "y": [
          0.6739585399627686
         ]
        },
        {
         "marker": {
          "maxdisplayed": 10
         },
         "mode": "lines+markers",
         "name": "Trial47",
         "type": "scatter",
         "x": [
          0
         ],
         "y": [
          0.06203736737370491
         ]
        },
        {
         "marker": {
          "maxdisplayed": 10
         },
         "mode": "lines+markers",
         "name": "Trial48",
         "type": "scatter",
         "x": [
          0,
          1,
          2,
          3,
          4,
          5,
          6,
          7,
          8,
          9,
          10,
          11,
          12,
          13,
          14,
          15,
          16,
          17,
          18,
          19,
          20,
          21,
          22,
          23,
          24,
          25,
          26,
          27,
          28,
          29,
          30,
          31,
          32,
          33,
          34,
          35,
          36,
          37,
          38,
          39,
          40,
          41,
          42,
          43,
          44,
          45,
          46,
          47,
          48,
          49
         ],
         "y": [
          0.00029866924160160124,
          0.002456176167470403,
          0.0016805949368669342,
          0.0014949253454688005,
          0.003098582191159949,
          0.0026084707642439753,
          0.002241075475467369,
          0.0019647998337859462,
          0.0017538339262601868,
          0.0016766464850661578,
          0.007278729446129132,
          0.006673156573394105,
          0.00873268049865426,
          0.008117422151566902,
          0.007586608792977737,
          0.007115910822051319,
          0.006698367362707145,
          0.0063269722711286,
          0.006040775410359569,
          0.00573912539189223,
          0.005467581866079334,
          0.005223962563873515,
          0.005001481761531107,
          0.004797587654024937,
          0.0046339954391078205,
          0.004476373057199313,
          0.004328295487337325,
          0.004179310979874832,
          0.0040432160424737455,
          0.003926030682396231,
          0.003808661587607921,
          0.0036951304984143007,
          0.00358926828357653,
          0.0034893102575444894,
          0.0034182730498027274,
          0.0034502908271810562,
          0.003382259534757051,
          0.003305795365960014,
          0.0032687784249878274,
          0.003195873278423278,
          0.00311975756091958,
          0.0030638581153999396,
          0.0030102347022135335,
          0.0029419195094843335,
          0.002880538954377698,
          0.0028243325653262296,
          0.0027681578335916053,
          0.0027221664261295095,
          0.0026731268239092634,
          0.005077053075892763
         ]
        },
        {
         "marker": {
          "maxdisplayed": 10
         },
         "mode": "lines+markers",
         "name": "Trial49",
         "type": "scatter",
         "x": [
          0
         ],
         "y": [
          3.2820417881011963
         ]
        },
        {
         "marker": {
          "maxdisplayed": 10
         },
         "mode": "lines+markers",
         "name": "Trial50",
         "type": "scatter",
         "x": [
          0
         ],
         "y": [
          0.15464287996292114
         ]
        },
        {
         "marker": {
          "maxdisplayed": 10
         },
         "mode": "lines+markers",
         "name": "Trial51",
         "type": "scatter",
         "x": [
          0
         ],
         "y": [
          0.07519836723804474
         ]
        },
        {
         "marker": {
          "maxdisplayed": 10
         },
         "mode": "lines+markers",
         "name": "Trial52",
         "type": "scatter",
         "x": [
          0
         ],
         "y": [
          0.004855572246015072
         ]
        },
        {
         "marker": {
          "maxdisplayed": 10
         },
         "mode": "lines+markers",
         "name": "Trial53",
         "type": "scatter",
         "x": [
          0
         ],
         "y": [
          1.5186065435409546
         ]
        },
        {
         "marker": {
          "maxdisplayed": 10
         },
         "mode": "lines+markers",
         "name": "Trial54",
         "type": "scatter",
         "x": [
          0
         ],
         "y": [
          0.30882343649864197
         ]
        },
        {
         "marker": {
          "maxdisplayed": 10
         },
         "mode": "lines+markers",
         "name": "Trial55",
         "type": "scatter",
         "x": [
          0,
          1,
          2,
          3,
          4,
          5,
          6,
          7,
          8,
          9,
          10,
          11,
          12,
          13,
          14,
          15,
          16,
          17,
          18,
          19,
          20,
          21,
          22,
          23,
          24,
          25,
          26,
          27,
          28,
          29,
          30,
          31,
          32,
          33,
          34,
          35,
          36,
          37,
          38,
          39,
          40,
          41,
          42,
          43,
          44,
          45,
          46,
          47,
          48,
          49
         ],
         "y": [
          0.0003291228204034269,
          0.007773652643663809,
          0.005202001590077998,
          0.0039364899375868845,
          0.006518702868925174,
          0.005460528525266757,
          0.00920528800790115,
          0.008061679734964855,
          0.007174388887101991,
          0.006674444786040112,
          0.006079072708168745,
          0.005711687363752087,
          0.0052733059406958865,
          0.005183772437443882,
          0.004853898611690966,
          0.004698379095202654,
          0.004423079930133741,
          0.004210052141994917,
          0.003998171784826953,
          0.004094325263667997,
          0.0039058979164976683,
          0.0037929036937136766,
          0.0036279950435042095,
          0.0034804164480977304,
          0.003351950967497803,
          0.003272122104222077,
          0.0031558494645607693,
          0.0030432852381627263,
          0.002938491721860693,
          0.002841622996158888,
          0.0027502574336801884,
          0.0027638766894986927,
          0.0026837258993419127,
          0.002660051125022009,
          0.002585192133196771,
          0.002519809629195636,
          0.002457110473948941,
          0.0023997892881191018,
          0.002338525721964386,
          0.002280989026780189,
          0.0022263269683667356,
          0.0021747203321469503,
          0.0021308152751744313,
          0.002082772308746478,
          0.002038602351663964,
          0.0024234444254621766,
          0.0023736429239620462,
          0.002324251278944136,
          0.002280964501615782,
          0.0022421583234149
         ]
        },
        {
         "marker": {
          "maxdisplayed": 10
         },
         "mode": "lines+markers",
         "name": "Trial56",
         "type": "scatter",
         "x": [
          0
         ],
         "y": [
          0.0021534401457756758
         ]
        },
        {
         "marker": {
          "maxdisplayed": 10
         },
         "mode": "lines+markers",
         "name": "Trial57",
         "type": "scatter",
         "x": [
          0
         ],
         "y": [
          0.08636114001274109
         ]
        },
        {
         "marker": {
          "maxdisplayed": 10
         },
         "mode": "lines+markers",
         "name": "Trial58",
         "type": "scatter",
         "x": [
          0
         ],
         "y": [
          0.0027430106420069933
         ]
        },
        {
         "marker": {
          "maxdisplayed": 10
         },
         "mode": "lines+markers",
         "name": "Trial59",
         "type": "scatter",
         "x": [
          0
         ],
         "y": [
          0.02395464852452278
         ]
        },
        {
         "marker": {
          "maxdisplayed": 10
         },
         "mode": "lines+markers",
         "name": "Trial60",
         "type": "scatter",
         "x": [
          0
         ],
         "y": [
          0.009097565896809101
         ]
        },
        {
         "marker": {
          "maxdisplayed": 10
         },
         "mode": "lines+markers",
         "name": "Trial61",
         "type": "scatter",
         "x": [
          0
         ],
         "y": [
          0.12100942432880402
         ]
        },
        {
         "marker": {
          "maxdisplayed": 10
         },
         "mode": "lines+markers",
         "name": "Trial62",
         "type": "scatter",
         "x": [
          0
         ],
         "y": [
          0.003551254514604807
         ]
        },
        {
         "marker": {
          "maxdisplayed": 10
         },
         "mode": "lines+markers",
         "name": "Trial63",
         "type": "scatter",
         "x": [
          0
         ],
         "y": [
          0.49993422627449036
         ]
        },
        {
         "marker": {
          "maxdisplayed": 10
         },
         "mode": "lines+markers",
         "name": "Trial64",
         "type": "scatter",
         "x": [
          0
         ],
         "y": [
          30.3518009185791
         ]
        },
        {
         "marker": {
          "maxdisplayed": 10
         },
         "mode": "lines+markers",
         "name": "Trial65",
         "type": "scatter",
         "x": [
          0
         ],
         "y": [
          0.041753724217414856
         ]
        },
        {
         "marker": {
          "maxdisplayed": 10
         },
         "mode": "lines+markers",
         "name": "Trial66",
         "type": "scatter",
         "x": [
          0
         ],
         "y": [
          0.503687858581543
         ]
        },
        {
         "marker": {
          "maxdisplayed": 10
         },
         "mode": "lines+markers",
         "name": "Trial67",
         "type": "scatter",
         "x": [
          0
         ],
         "y": [
          0.00994524173438549
         ]
        },
        {
         "marker": {
          "maxdisplayed": 10
         },
         "mode": "lines+markers",
         "name": "Trial68",
         "type": "scatter",
         "x": [
          0
         ],
         "y": [
          3.4244043827056885
         ]
        },
        {
         "marker": {
          "maxdisplayed": 10
         },
         "mode": "lines+markers",
         "name": "Trial69",
         "type": "scatter",
         "x": [
          0,
          1,
          2,
          3,
          4,
          5,
          6,
          7,
          8,
          9,
          10,
          11,
          12,
          13,
          14,
          15,
          16,
          17,
          18,
          19,
          20,
          21,
          22,
          23,
          24,
          25,
          26,
          27,
          28,
          29,
          30,
          31,
          32,
          33,
          34,
          35,
          36,
          37,
          38,
          39,
          40,
          41,
          42,
          43,
          44,
          45,
          46,
          47,
          48,
          49
         ],
         "y": [
          5.642803807859309e-05,
          3.74336077584303e-05,
          3.924471153974688e-05,
          3.593796373024816e-05,
          3.5386708623263986e-05,
          3.322322724367647e-05,
          3.398278775940915e-05,
          3.3861599149531685e-05,
          3.394821396796033e-05,
          3.4937385134981017e-05,
          3.5808422663566574e-05,
          3.689150313827364e-05,
          3.727043944169194e-05,
          3.6837320034724795e-05,
          3.622404377286633e-05,
          3.594027384679066e-05,
          3.635137353044496e-05,
          3.663406318486927e-05,
          3.669319783894982e-05,
          3.7338009133236485e-05,
          3.802360065275847e-05,
          3.82396450401178e-05,
          3.827250586017845e-05,
          3.848563149707237e-05,
          3.889952233294025e-05,
          3.89256940532225e-05,
          3.8867857424688906e-05,
          3.927925653053015e-05,
          3.955149240310079e-05,
          3.987740431815231e-05,
          4.0081823117948405e-05,
          4.0307433209818555e-05,
          4.070086850498972e-05,
          4.082624764123466e-05,
          4.0756881207926196e-05,
          4.052145666517188e-05,
          4.091956961437481e-05,
          4.0817213199548665e-05,
          4.0772720146775006e-05,
          4.087674806214636e-05,
          4.083422231260778e-05,
          4.0850624524561376e-05,
          4.1042985770239516e-05,
          4.094309654399033e-05,
          4.113166651222855e-05,
          4.114800219173523e-05,
          4.122277831366444e-05,
          4.1398753789205024e-05,
          4.157138013100366e-05,
          4.1466793336439876e-05
         ]
        },
        {
         "marker": {
          "maxdisplayed": 10
         },
         "mode": "lines+markers",
         "name": "Trial70",
         "type": "scatter",
         "x": [
          0
         ],
         "y": [
          1.0428646802902222
         ]
        },
        {
         "marker": {
          "maxdisplayed": 10
         },
         "mode": "lines+markers",
         "name": "Trial71",
         "type": "scatter",
         "x": [
          0
         ],
         "y": [
          28503.470703125
         ]
        },
        {
         "marker": {
          "maxdisplayed": 10
         },
         "mode": "lines+markers",
         "name": "Trial72",
         "type": "scatter",
         "x": [
          0,
          1,
          2,
          3,
          4,
          5,
          6,
          7,
          8,
          9,
          10,
          11,
          12,
          13,
          14,
          15,
          16,
          17,
          18,
          19,
          20,
          21,
          22,
          23,
          24,
          25,
          26,
          27,
          28,
          29,
          30,
          31,
          32,
          33,
          34,
          35,
          36,
          37,
          38,
          39,
          40,
          41,
          42,
          43,
          44,
          45,
          46,
          47,
          48,
          49
         ],
         "y": [
          0.0009296386269852519,
          0.0007247988251037896,
          0.0005120407610471981,
          0.00038892645306987106,
          0.00031637514257454313,
          0.00026636842297496816,
          0.00022922186268000848,
          0.0002025222444785868,
          0.00022000963887573258,
          0.0002468826327003626,
          0.0002654287743759844,
          0.00029709290458868054,
          0.00029158673417511565,
          0.0005009033706236161,
          0.0004821851959604828,
          0.00046569789842010323,
          0.00044556451230699383,
          0.00043709363861429057,
          0.00043276222418410867,
          0.00041960035039210195,
          0.0004882708463117611,
          0.0004661066971297342,
          0.00044970297835294804,
          0.00044070747466188703,
          0.0004535730888937906,
          0.0004502533339824857,
          0.0004410156938429618,
          0.0006246262056695936,
          0.0006139156106820369,
          0.0005938974545074416,
          0.0005769981405848974,
          0.0005656317713409464,
          0.0005533326106139859,
          0.0005455268924680133,
          0.0005316011755277421,
          0.000523567560072201,
          0.000564633621451862,
          0.0005557998349708645,
          0.000543302063682369,
          0.0005369460026514617,
          0.0005308720451827268,
          0.0005288244898311166,
          0.0005165330626772006,
          0.0006300139320006534,
          0.000620033629081086,
          0.0006180111006001277,
          0.0006058180789432541,
          0.0006006906705694112,
          0.0005936900694739599,
          0.0005826359474195897
         ]
        },
        {
         "marker": {
          "maxdisplayed": 10
         },
         "mode": "lines+markers",
         "name": "Trial73",
         "type": "scatter",
         "x": [
          0
         ],
         "y": [
          0.00126329914201051
         ]
        },
        {
         "marker": {
          "maxdisplayed": 10
         },
         "mode": "lines+markers",
         "name": "Trial74",
         "type": "scatter",
         "x": [
          0
         ],
         "y": [
          0.6157163381576538
         ]
        },
        {
         "marker": {
          "maxdisplayed": 10
         },
         "mode": "lines+markers",
         "name": "Trial75",
         "type": "scatter",
         "x": [
          0,
          1,
          2,
          3,
          4,
          5,
          6,
          7,
          8,
          9,
          10,
          11,
          12,
          13,
          14,
          15,
          16,
          17,
          18,
          19,
          20,
          21,
          22,
          23,
          24,
          25,
          26,
          27,
          28,
          29,
          30,
          31,
          32,
          33,
          34,
          35,
          36,
          37,
          38,
          39,
          40,
          41,
          42,
          43,
          44,
          45,
          46,
          47,
          48,
          49
         ],
         "y": [
          1.3437756933853962e-05,
          5.38257454536506e-05,
          4.288493073545396e-05,
          6.999459219514392e-05,
          5.859558077645488e-05,
          5.0744263262458844e-05,
          4.356428650810683e-05,
          4.188359400814079e-05,
          4.3062467840273814e-05,
          4.1563873037375745e-05,
          3.988378069731301e-05,
          4.0728081861137376e-05,
          3.76370844081136e-05,
          3.814804711055331e-05,
          4.49692652940333e-05,
          4.3432677401256115e-05,
          4.437422559449795e-05,
          4.6362854302767824e-05,
          6.798480445755366e-05,
          0.00019162140930575333,
          0.00018612008132852983,
          0.00020052759486010143,
          0.00019707955562886997,
          0.00024975538604129116,
          0.000248839200112343,
          0.00025138978838430584,
          0.00024423020663225206,
          0.001452726480408728,
          0.0014039344649706342,
          0.0015596067359865628,
          0.001510422462080251,
          0.0014645415717851051,
          0.0014215702298053766,
          0.00138174769341838,
          0.0013448567495873119,
          0.001308084689482156,
          0.0012927834704220692,
          0.0012588397564741172,
          0.0012287214594485145,
          0.0011991960863838359,
          0.001170321949103243,
          0.001146804308572904,
          0.001211839110838323,
          0.00443615706177008,
          0.0043390077319397985,
          0.004244763784957127,
          0.004175459387649058,
          0.004147945545454945,
          0.004064437686426517,
          0.003994877561003704
         ]
        },
        {
         "marker": {
          "maxdisplayed": 10
         },
         "mode": "lines+markers",
         "name": "Trial76",
         "type": "scatter",
         "x": [
          0
         ],
         "y": [
          0.022088199853897095
         ]
        },
        {
         "marker": {
          "maxdisplayed": 10
         },
         "mode": "lines+markers",
         "name": "Trial77",
         "type": "scatter",
         "x": [
          0,
          1,
          2,
          3,
          4,
          5,
          6,
          7,
          8,
          9,
          10,
          11,
          12,
          13,
          14,
          15,
          16,
          17,
          18,
          19,
          20,
          21,
          22,
          23,
          24,
          25,
          26,
          27,
          28,
          29,
          30,
          31,
          32,
          33,
          34,
          35,
          36,
          37,
          38,
          39,
          40,
          41,
          42,
          43,
          44,
          45,
          46,
          47,
          48,
          49
         ],
         "y": [
          0.00014223798643797636,
          0.00014134023513179272,
          0.0001386647685042893,
          0.0001398805543431081,
          0.00014121076092123985,
          0.0001424062235552507,
          0.00014309001978420253,
          0.00014810653556196485,
          0.00014935222861822695,
          0.00014825083198957145,
          0.00014781286352610385,
          0.00014954978299404806,
          0.00014853647287684277,
          0.00014812895928376487,
          0.00014853671891614794,
          0.00014926870790077373,
          0.00015010992373230264,
          0.00015942224773526605,
          0.0001607727371217487,
          0.00016890545157366432,
          0.00017218112285869816,
          0.00017351239776789126,
          0.00018590282643740267,
          0.0001928402210372345,
          0.00041576600284315646,
          0.0005216199172606978,
          0.0005660475397706721,
          0.0010863313312126724,
          0.004795346755317637,
          0.004640095385548193,
          0.004494851478563261,
          0.0043590352242972585,
          0.00423101151086898,
          0.004110622418332188,
          0.003997110724698619,
          0.003889929129703281,
          0.003788521106282526,
          0.0036924564609714587,
          0.0036013238005137118,
          0.003514749801615835,
          0.0034324021359746592,
          0.003354305312400573,
          0.003279425738498482,
          0.003208375285215549,
          0.003140505998615279,
          0.0030752705623972756,
          0.0030127988575259224,
          0.0029529442160007116,
          0.0028955279905895455,
          0.0028407641191734003
         ]
        },
        {
         "marker": {
          "maxdisplayed": 10
         },
         "mode": "lines+markers",
         "name": "Trial78",
         "type": "scatter",
         "x": [
          0
         ],
         "y": [
          138.05282592773438
         ]
        },
        {
         "marker": {
          "maxdisplayed": 10
         },
         "mode": "lines+markers",
         "name": "Trial79",
         "type": "scatter",
         "x": [
          0
         ],
         "y": [
          1916.49853515625
         ]
        },
        {
         "marker": {
          "maxdisplayed": 10
         },
         "mode": "lines+markers",
         "name": "Trial80",
         "type": "scatter",
         "x": [
          0
         ],
         "y": [
          0.026549728587269783
         ]
        },
        {
         "marker": {
          "maxdisplayed": 10
         },
         "mode": "lines+markers",
         "name": "Trial81",
         "type": "scatter",
         "x": [
          0
         ],
         "y": [
          933.8242797851562
         ]
        },
        {
         "marker": {
          "maxdisplayed": 10
         },
         "mode": "lines+markers",
         "name": "Trial82",
         "type": "scatter",
         "x": [
          0,
          1,
          2,
          3,
          4,
          5,
          6,
          7,
          8,
          9,
          10,
          11,
          12,
          13,
          14,
          15,
          16,
          17,
          18,
          19,
          20,
          21,
          22,
          23,
          24,
          25,
          26,
          27,
          28,
          29,
          30,
          31,
          32,
          33,
          34,
          35,
          36,
          37,
          38,
          39,
          40,
          41,
          42,
          43,
          44,
          45,
          46,
          47,
          48,
          49
         ],
         "y": [
          0.000109584339952562,
          0.00015741905735922046,
          0.0001190574742698421,
          8.931262056144362e-05,
          0.01223467491277148,
          0.011531635309326068,
          0.009894021816276475,
          0.008661057016440488,
          0.007701409437308213,
          0.007076260168037862,
          0.006478803962492402,
          0.005938981274686839,
          0.005645561052701873,
          0.0052431786971897255,
          0.005001943192773695,
          0.004872801661857995,
          0.004587712664351533,
          0.004422584374825789,
          0.004194522044884171,
          0.0039992160015092535,
          0.0038176367958513424,
          0.004494989046466522,
          0.004328652165181678,
          0.004152005660858826,
          0.007611563919379307,
          0.007525089990532927,
          0.007260993423825929,
          0.007003755101873311,
          0.0067718056109147195,
          0.006564386205504746,
          0.006809608636248891,
          0.006661458181979052,
          0.006538722834357177,
          0.006390779824466531,
          0.00620894322452829,
          0.0060461218727380205,
          0.005993606293608225,
          0.007202330508596819,
          0.007018002391887079,
          0.007033587418844611,
          0.006882511787739982,
          0.007066936347177842,
          0.006928019803611835,
          0.006782400363589438,
          0.006681085403800561,
          0.006553364974577113,
          0.006983014196404089,
          0.00684165631840387,
          0.006855935954169438,
          0.0067260843602697665
         ]
        },
        {
         "marker": {
          "maxdisplayed": 10
         },
         "mode": "lines+markers",
         "name": "Trial83",
         "type": "scatter",
         "x": [
          0
         ],
         "y": [
          1.395696759223938
         ]
        },
        {
         "marker": {
          "maxdisplayed": 10
         },
         "mode": "lines+markers",
         "name": "Trial84",
         "type": "scatter",
         "x": [
          0
         ],
         "y": [
          2.843315601348877
         ]
        },
        {
         "marker": {
          "maxdisplayed": 10
         },
         "mode": "lines+markers",
         "name": "Trial85",
         "type": "scatter",
         "x": [
          0,
          1,
          2,
          3,
          4,
          5,
          6,
          7,
          8,
          9,
          10,
          11,
          12,
          13,
          14,
          15,
          16,
          17,
          18,
          19,
          20,
          21,
          22,
          23,
          24,
          25,
          26,
          27,
          28,
          29,
          30,
          31,
          32,
          33,
          34,
          35,
          36,
          37,
          38,
          39,
          40,
          41,
          42,
          43,
          44,
          45,
          46,
          47,
          48,
          49
         ],
         "y": [
          0.00036508217453956604,
          0.000573371013160795,
          0.000849102740176022,
          0.0006428384458558867,
          0.0006325463022221811,
          0.0005395336690222999,
          0.0004626269664608377,
          0.00041025405910488644,
          0.0003738192409122752,
          0.0003468004436058436,
          0.0003346659890853103,
          0.0003199305722034751,
          0.00030230898585159593,
          0.0002919215176413153,
          0.0002794312319641297,
          0.00026634743804976324,
          0.00025385906437403556,
          0.00024486865138821184,
          0.00023707113965835895,
          0.0002297671240114596,
          0.00022513241140131868,
          0.00021874450094504607,
          0.00021490886116799115,
          0.00021148950397768354,
          0.0002068931831536247,
          0.00020221317595752014,
          0.00020070046683587052,
          0.0002003032171882881,
          0.0002061694914973173,
          0.00020237403279755502,
          0.00019911821162886848,
          0.0001952274092964501,
          0.00019157713812877444,
          0.0001950001377742731,
          0.0001922550520410888,
          0.00019016513444272378,
          0.00018550706346485567,
          0.00018324314414772553,
          0.00018180224820951433,
          0.00017880319893777142,
          0.00017699024883823745,
          0.00017522479011436838,
          0.00017339310115699466,
          0.00017122808219741356,
          0.00016947754461145654,
          0.00016758971304398074,
          0.00016614460851039264,
          0.00016474097667895649,
          0.0001633307378889575,
          0.0001619831295943186
         ]
        },
        {
         "marker": {
          "maxdisplayed": 10
         },
         "mode": "lines+markers",
         "name": "Trial86",
         "type": "scatter",
         "x": [
          0
         ],
         "y": [
          0.7291210889816284
         ]
        },
        {
         "marker": {
          "maxdisplayed": 10
         },
         "mode": "lines+markers",
         "name": "Trial87",
         "type": "scatter",
         "x": [
          0,
          1,
          2,
          3,
          4,
          5,
          6,
          7,
          8,
          9,
          10,
          11,
          12,
          13,
          14,
          15,
          16,
          17,
          18,
          19,
          20,
          21,
          22,
          23,
          24,
          25,
          26,
          27,
          28,
          29,
          30,
          31,
          32,
          33,
          34,
          35,
          36,
          37,
          38,
          39,
          40,
          41,
          42,
          43,
          44,
          45,
          46,
          47,
          48,
          49
         ],
         "y": [
          0.00016630641766823828,
          8.64606427057879e-05,
          7.299790255880605e-05,
          0.00013135090921423398,
          0.000974742483231239,
          0.0008627447993300544,
          0.0012297270150156692,
          0.0010810281023623247,
          0.0009807116297856232,
          0.0008838347768687527,
          0.0008114318683179921,
          0.0007440357336842377,
          0.000699558239900328,
          0.0006580737868456968,
          0.0006183247630057546,
          0.0006238164501155552,
          0.0005908539105268359,
          0.0005580396285864708,
          0.0005407711041713307,
          0.0005205713954197222,
          0.0005058995364479523,
          0.0005011609464017655,
          0.000495165097995052,
          0.0004815980355121023,
          0.0004741215007027222,
          0.00045962679664385704,
          0.000444319210854642,
          0.0004305024514071728,
          0.0004231210324533173,
          0.00041341792793995563,
          0.0004059796288396639,
          0.0003988782411576963,
          0.0003931298501130999,
          0.0003822107175499709,
          0.00037135320640848996,
          0.0004471697462180815,
          0.00043534701406490575,
          0.0009640164817275382,
          0.0009427817318196911,
          0.0009231419459645451,
          0.0009040155476376052,
          0.0009270101170285118,
          0.0009102600391750637,
          0.000889572800744814,
          0.0008730938538383507,
          0.0008544225988687561,
          0.0008414345773799562,
          0.00082390579816638,
          0.0008120844526209269,
          0.0007999778861494278
         ]
        },
        {
         "marker": {
          "maxdisplayed": 10
         },
         "mode": "lines+markers",
         "name": "Trial88",
         "type": "scatter",
         "x": [
          0
         ],
         "y": [
          0.5814557671546936
         ]
        },
        {
         "marker": {
          "maxdisplayed": 10
         },
         "mode": "lines+markers",
         "name": "Trial89",
         "type": "scatter",
         "x": [
          0
         ],
         "y": [
          0.10152730345726013
         ]
        },
        {
         "marker": {
          "maxdisplayed": 10
         },
         "mode": "lines+markers",
         "name": "Trial90",
         "type": "scatter",
         "x": [
          0,
          1,
          2,
          3,
          4,
          5,
          6,
          7,
          8,
          9,
          10,
          11,
          12,
          13,
          14,
          15,
          16,
          17,
          18,
          19,
          20,
          21,
          22,
          23,
          24,
          25,
          26,
          27,
          28,
          29,
          30,
          31,
          32,
          33,
          34,
          35,
          36,
          37,
          38,
          39,
          40,
          41,
          42,
          43,
          44,
          45,
          46,
          47,
          48,
          49
         ],
         "y": [
          0.00034898973535746336,
          0.014844851044472307,
          0.00993373751650021,
          0.007586426176203531,
          0.0065151414964930154,
          0.00545878968720596,
          0.0053757440795639665,
          0.004727569757051242,
          0.004223835842923209,
          0.0038179424656846093,
          0.003471158203989365,
          0.003206425933247677,
          0.0029609665546978738,
          0.0027565067082377936,
          0.0025883241668452684,
          0.0024396771700878617,
          0.0023523660052513365,
          0.002221679005814474,
          0.00210915766716804,
          0.002007908641527096,
          0.001925446654085572,
          0.0018547218745309064,
          0.001778374379303785,
          0.00170993924869053,
          0.001643150320502867,
          0.0016266213248581742,
          0.001568617687028499,
          0.0015162755948761087,
          0.0014982177833227127,
          0.0014542960508885118,
          0.0014294517539565007,
          0.0013866819855769302,
          0.0013700579215191664,
          0.001345399689409829,
          0.0013126513161275289,
          0.0012800116824973652,
          0.001245474355261897,
          0.0012163372292642368,
          0.0011909488583806982,
          0.0011668771939450627,
          0.0011418304892080343,
          0.0011220655659462664,
          0.0010982544568911028,
          0.0010773238377452031,
          0.0010564126691389919,
          0.0010383602350760015,
          0.0010210008919062773,
          0.0010038198127170798,
          0.0009840399012832784,
          0.0009673632492407539
         ]
        },
        {
         "marker": {
          "maxdisplayed": 10
         },
         "mode": "lines+markers",
         "name": "Trial91",
         "type": "scatter",
         "x": [
          0
         ],
         "y": [
          0.002036918653175235
         ]
        },
        {
         "marker": {
          "maxdisplayed": 10
         },
         "mode": "lines+markers",
         "name": "Trial92",
         "type": "scatter",
         "x": [
          0
         ],
         "y": [
          2.170121192932129
         ]
        },
        {
         "marker": {
          "maxdisplayed": 10
         },
         "mode": "lines+markers",
         "name": "Trial93",
         "type": "scatter",
         "x": [
          0
         ],
         "y": [
          0.03723250702023506
         ]
        },
        {
         "marker": {
          "maxdisplayed": 10
         },
         "mode": "lines+markers",
         "name": "Trial94",
         "type": "scatter",
         "x": [
          0
         ],
         "y": [
          0.0024181136395782232
         ]
        },
        {
         "marker": {
          "maxdisplayed": 10
         },
         "mode": "lines+markers",
         "name": "Trial95",
         "type": "scatter",
         "x": [
          0
         ],
         "y": [
          0.007148332428187132
         ]
        },
        {
         "marker": {
          "maxdisplayed": 10
         },
         "mode": "lines+markers",
         "name": "Trial96",
         "type": "scatter",
         "x": [
          0,
          1,
          2,
          3,
          4,
          5,
          6,
          7,
          8,
          9,
          10,
          11,
          12,
          13,
          14,
          15,
          16,
          17,
          18,
          19,
          20,
          21,
          22,
          23,
          24,
          25,
          26,
          27,
          28,
          29,
          30,
          31,
          32,
          33,
          34,
          35,
          36,
          37,
          38,
          39,
          40,
          41,
          42,
          43,
          44,
          45,
          46,
          47,
          48,
          49
         ],
         "y": [
          0.000298653612844646,
          0.024339193885680288,
          0.01622630806377856,
          0.012183672920400568,
          0.009757272474234923,
          0.008131089373286216,
          0.006975127461826348,
          0.006109290891172847,
          0.008708717628348635,
          0.007850506874318342,
          0.007147229070430295,
          0.006601257938691892,
          0.006094007007433788,
          0.005687764881225276,
          0.0064523429009256,
          0.006057118605979461,
          0.005701369068152009,
          0.005394798530257421,
          0.0053546511838624454,
          0.005087197281249445,
          0.004845101580766622,
          0.004680433760767564,
          0.0044775731463305565,
          0.0042953524102807466,
          0.004172348189603667,
          0.004031461205018379,
          0.003936250959668015,
          0.0038045036483573824,
          0.003679990558056594,
          0.0036070264278042904,
          0.0035026633811334534,
          0.0033935175139556684,
          0.003968419392190833,
          0.005183206704794226,
          0.005052537199688345,
          0.004915565878768686,
          0.004795901648739379,
          0.004681407497651803,
          0.004561372731292142,
          0.004465950702578247,
          0.004997189182406926,
          0.004882976233090916,
          0.004769462752529745,
          0.0046611163080930015,
          0.004562340056776766,
          0.004464698292735948,
          0.004370058668839157,
          0.004279022633794908,
          0.004198937622833407,
          0.00420631933320621
         ]
        },
        {
         "marker": {
          "maxdisplayed": 10
         },
         "mode": "lines+markers",
         "name": "Trial97",
         "type": "scatter",
         "x": [
          0
         ],
         "y": [
          0.008530431427061558
         ]
        },
        {
         "marker": {
          "maxdisplayed": 10
         },
         "mode": "lines+markers",
         "name": "Trial98",
         "type": "scatter",
         "x": [
          0,
          1,
          2,
          3,
          4,
          5,
          6,
          7,
          8,
          9,
          10,
          11,
          12,
          13,
          14,
          15,
          16,
          17,
          18,
          19,
          20,
          21,
          22,
          23,
          24,
          25,
          26,
          27,
          28,
          29,
          30,
          31,
          32,
          33,
          34,
          35,
          36,
          37,
          38,
          39,
          40,
          41,
          42,
          43,
          44,
          45,
          46,
          47,
          48,
          49
         ],
         "y": [
          6.707738793920726e-05,
          4.103874380234629e-05,
          5.900943991340076e-05,
          5.430859800981125e-05,
          0.00010945374888251535,
          9.130229202014561e-05,
          0.00014368103416830178,
          0.00013803994696814925,
          0.00016017262596632363,
          0.0001549742714189506,
          0.0001419290863447548,
          0.00023275546120752702,
          0.0002309027510967518,
          0.00023698232691669676,
          0.00022346463934278896,
          0.0002166691817997446,
          0.0002226935182300301,
          0.00021045919080443632,
          0.00021169533045837708,
          0.00021250498422489272,
          0.00021088314602615182,
          0.00021070480142591143,
          0.00021046009344593625,
          0.00020263961408062414,
          0.00019694990312245863,
          0.00019402939598150553,
          0.00018752403803579942,
          0.00018729938153074142,
          0.00018196585747201141,
          0.00017790436578290307,
          0.00018329703287038007,
          0.0001819240759548535,
          0.00018290760008347095,
          0.0001813094190581791,
          0.00017686923353364494,
          0.00017536635329109786,
          0.0001723329910127226,
          0.00017015542768729718,
          0.00016851504944107102,
          0.0001668175430566521,
          0.00016355000853325957,
          0.0001629714333898305,
          0.00015958467042897017,
          0.0001577098648239557,
          0.0001555081116609674,
          0.0001578615928913816,
          0.00016733598758196907,
          0.00016537902373769953,
          0.00016694723256928135,
          0.00016456368961939916
         ]
        },
        {
         "marker": {
          "maxdisplayed": 10
         },
         "mode": "lines+markers",
         "name": "Trial99",
         "type": "scatter",
         "x": [
          0
         ],
         "y": [
          0.002609074581414461
         ]
        }
       ],
       "layout": {
        "showlegend": false,
        "template": {
         "data": {
          "bar": [
           {
            "error_x": {
             "color": "#2a3f5f"
            },
            "error_y": {
             "color": "#2a3f5f"
            },
            "marker": {
             "line": {
              "color": "#E5ECF6",
              "width": 0.5
             },
             "pattern": {
              "fillmode": "overlay",
              "size": 10,
              "solidity": 0.2
             }
            },
            "type": "bar"
           }
          ],
          "barpolar": [
           {
            "marker": {
             "line": {
              "color": "#E5ECF6",
              "width": 0.5
             },
             "pattern": {
              "fillmode": "overlay",
              "size": 10,
              "solidity": 0.2
             }
            },
            "type": "barpolar"
           }
          ],
          "carpet": [
           {
            "aaxis": {
             "endlinecolor": "#2a3f5f",
             "gridcolor": "white",
             "linecolor": "white",
             "minorgridcolor": "white",
             "startlinecolor": "#2a3f5f"
            },
            "baxis": {
             "endlinecolor": "#2a3f5f",
             "gridcolor": "white",
             "linecolor": "white",
             "minorgridcolor": "white",
             "startlinecolor": "#2a3f5f"
            },
            "type": "carpet"
           }
          ],
          "choropleth": [
           {
            "colorbar": {
             "outlinewidth": 0,
             "ticks": ""
            },
            "type": "choropleth"
           }
          ],
          "contour": [
           {
            "colorbar": {
             "outlinewidth": 0,
             "ticks": ""
            },
            "colorscale": [
             [
              0,
              "#0d0887"
             ],
             [
              0.1111111111111111,
              "#46039f"
             ],
             [
              0.2222222222222222,
              "#7201a8"
             ],
             [
              0.3333333333333333,
              "#9c179e"
             ],
             [
              0.4444444444444444,
              "#bd3786"
             ],
             [
              0.5555555555555556,
              "#d8576b"
             ],
             [
              0.6666666666666666,
              "#ed7953"
             ],
             [
              0.7777777777777778,
              "#fb9f3a"
             ],
             [
              0.8888888888888888,
              "#fdca26"
             ],
             [
              1,
              "#f0f921"
             ]
            ],
            "type": "contour"
           }
          ],
          "contourcarpet": [
           {
            "colorbar": {
             "outlinewidth": 0,
             "ticks": ""
            },
            "type": "contourcarpet"
           }
          ],
          "heatmap": [
           {
            "colorbar": {
             "outlinewidth": 0,
             "ticks": ""
            },
            "colorscale": [
             [
              0,
              "#0d0887"
             ],
             [
              0.1111111111111111,
              "#46039f"
             ],
             [
              0.2222222222222222,
              "#7201a8"
             ],
             [
              0.3333333333333333,
              "#9c179e"
             ],
             [
              0.4444444444444444,
              "#bd3786"
             ],
             [
              0.5555555555555556,
              "#d8576b"
             ],
             [
              0.6666666666666666,
              "#ed7953"
             ],
             [
              0.7777777777777778,
              "#fb9f3a"
             ],
             [
              0.8888888888888888,
              "#fdca26"
             ],
             [
              1,
              "#f0f921"
             ]
            ],
            "type": "heatmap"
           }
          ],
          "heatmapgl": [
           {
            "colorbar": {
             "outlinewidth": 0,
             "ticks": ""
            },
            "colorscale": [
             [
              0,
              "#0d0887"
             ],
             [
              0.1111111111111111,
              "#46039f"
             ],
             [
              0.2222222222222222,
              "#7201a8"
             ],
             [
              0.3333333333333333,
              "#9c179e"
             ],
             [
              0.4444444444444444,
              "#bd3786"
             ],
             [
              0.5555555555555556,
              "#d8576b"
             ],
             [
              0.6666666666666666,
              "#ed7953"
             ],
             [
              0.7777777777777778,
              "#fb9f3a"
             ],
             [
              0.8888888888888888,
              "#fdca26"
             ],
             [
              1,
              "#f0f921"
             ]
            ],
            "type": "heatmapgl"
           }
          ],
          "histogram": [
           {
            "marker": {
             "pattern": {
              "fillmode": "overlay",
              "size": 10,
              "solidity": 0.2
             }
            },
            "type": "histogram"
           }
          ],
          "histogram2d": [
           {
            "colorbar": {
             "outlinewidth": 0,
             "ticks": ""
            },
            "colorscale": [
             [
              0,
              "#0d0887"
             ],
             [
              0.1111111111111111,
              "#46039f"
             ],
             [
              0.2222222222222222,
              "#7201a8"
             ],
             [
              0.3333333333333333,
              "#9c179e"
             ],
             [
              0.4444444444444444,
              "#bd3786"
             ],
             [
              0.5555555555555556,
              "#d8576b"
             ],
             [
              0.6666666666666666,
              "#ed7953"
             ],
             [
              0.7777777777777778,
              "#fb9f3a"
             ],
             [
              0.8888888888888888,
              "#fdca26"
             ],
             [
              1,
              "#f0f921"
             ]
            ],
            "type": "histogram2d"
           }
          ],
          "histogram2dcontour": [
           {
            "colorbar": {
             "outlinewidth": 0,
             "ticks": ""
            },
            "colorscale": [
             [
              0,
              "#0d0887"
             ],
             [
              0.1111111111111111,
              "#46039f"
             ],
             [
              0.2222222222222222,
              "#7201a8"
             ],
             [
              0.3333333333333333,
              "#9c179e"
             ],
             [
              0.4444444444444444,
              "#bd3786"
             ],
             [
              0.5555555555555556,
              "#d8576b"
             ],
             [
              0.6666666666666666,
              "#ed7953"
             ],
             [
              0.7777777777777778,
              "#fb9f3a"
             ],
             [
              0.8888888888888888,
              "#fdca26"
             ],
             [
              1,
              "#f0f921"
             ]
            ],
            "type": "histogram2dcontour"
           }
          ],
          "mesh3d": [
           {
            "colorbar": {
             "outlinewidth": 0,
             "ticks": ""
            },
            "type": "mesh3d"
           }
          ],
          "parcoords": [
           {
            "line": {
             "colorbar": {
              "outlinewidth": 0,
              "ticks": ""
             }
            },
            "type": "parcoords"
           }
          ],
          "pie": [
           {
            "automargin": true,
            "type": "pie"
           }
          ],
          "scatter": [
           {
            "fillpattern": {
             "fillmode": "overlay",
             "size": 10,
             "solidity": 0.2
            },
            "type": "scatter"
           }
          ],
          "scatter3d": [
           {
            "line": {
             "colorbar": {
              "outlinewidth": 0,
              "ticks": ""
             }
            },
            "marker": {
             "colorbar": {
              "outlinewidth": 0,
              "ticks": ""
             }
            },
            "type": "scatter3d"
           }
          ],
          "scattercarpet": [
           {
            "marker": {
             "colorbar": {
              "outlinewidth": 0,
              "ticks": ""
             }
            },
            "type": "scattercarpet"
           }
          ],
          "scattergeo": [
           {
            "marker": {
             "colorbar": {
              "outlinewidth": 0,
              "ticks": ""
             }
            },
            "type": "scattergeo"
           }
          ],
          "scattergl": [
           {
            "marker": {
             "colorbar": {
              "outlinewidth": 0,
              "ticks": ""
             }
            },
            "type": "scattergl"
           }
          ],
          "scattermapbox": [
           {
            "marker": {
             "colorbar": {
              "outlinewidth": 0,
              "ticks": ""
             }
            },
            "type": "scattermapbox"
           }
          ],
          "scatterpolar": [
           {
            "marker": {
             "colorbar": {
              "outlinewidth": 0,
              "ticks": ""
             }
            },
            "type": "scatterpolar"
           }
          ],
          "scatterpolargl": [
           {
            "marker": {
             "colorbar": {
              "outlinewidth": 0,
              "ticks": ""
             }
            },
            "type": "scatterpolargl"
           }
          ],
          "scatterternary": [
           {
            "marker": {
             "colorbar": {
              "outlinewidth": 0,
              "ticks": ""
             }
            },
            "type": "scatterternary"
           }
          ],
          "surface": [
           {
            "colorbar": {
             "outlinewidth": 0,
             "ticks": ""
            },
            "colorscale": [
             [
              0,
              "#0d0887"
             ],
             [
              0.1111111111111111,
              "#46039f"
             ],
             [
              0.2222222222222222,
              "#7201a8"
             ],
             [
              0.3333333333333333,
              "#9c179e"
             ],
             [
              0.4444444444444444,
              "#bd3786"
             ],
             [
              0.5555555555555556,
              "#d8576b"
             ],
             [
              0.6666666666666666,
              "#ed7953"
             ],
             [
              0.7777777777777778,
              "#fb9f3a"
             ],
             [
              0.8888888888888888,
              "#fdca26"
             ],
             [
              1,
              "#f0f921"
             ]
            ],
            "type": "surface"
           }
          ],
          "table": [
           {
            "cells": {
             "fill": {
              "color": "#EBF0F8"
             },
             "line": {
              "color": "white"
             }
            },
            "header": {
             "fill": {
              "color": "#C8D4E3"
             },
             "line": {
              "color": "white"
             }
            },
            "type": "table"
           }
          ]
         },
         "layout": {
          "annotationdefaults": {
           "arrowcolor": "#2a3f5f",
           "arrowhead": 0,
           "arrowwidth": 1
          },
          "autotypenumbers": "strict",
          "coloraxis": {
           "colorbar": {
            "outlinewidth": 0,
            "ticks": ""
           }
          },
          "colorscale": {
           "diverging": [
            [
             0,
             "#8e0152"
            ],
            [
             0.1,
             "#c51b7d"
            ],
            [
             0.2,
             "#de77ae"
            ],
            [
             0.3,
             "#f1b6da"
            ],
            [
             0.4,
             "#fde0ef"
            ],
            [
             0.5,
             "#f7f7f7"
            ],
            [
             0.6,
             "#e6f5d0"
            ],
            [
             0.7,
             "#b8e186"
            ],
            [
             0.8,
             "#7fbc41"
            ],
            [
             0.9,
             "#4d9221"
            ],
            [
             1,
             "#276419"
            ]
           ],
           "sequential": [
            [
             0,
             "#0d0887"
            ],
            [
             0.1111111111111111,
             "#46039f"
            ],
            [
             0.2222222222222222,
             "#7201a8"
            ],
            [
             0.3333333333333333,
             "#9c179e"
            ],
            [
             0.4444444444444444,
             "#bd3786"
            ],
            [
             0.5555555555555556,
             "#d8576b"
            ],
            [
             0.6666666666666666,
             "#ed7953"
            ],
            [
             0.7777777777777778,
             "#fb9f3a"
            ],
            [
             0.8888888888888888,
             "#fdca26"
            ],
            [
             1,
             "#f0f921"
            ]
           ],
           "sequentialminus": [
            [
             0,
             "#0d0887"
            ],
            [
             0.1111111111111111,
             "#46039f"
            ],
            [
             0.2222222222222222,
             "#7201a8"
            ],
            [
             0.3333333333333333,
             "#9c179e"
            ],
            [
             0.4444444444444444,
             "#bd3786"
            ],
            [
             0.5555555555555556,
             "#d8576b"
            ],
            [
             0.6666666666666666,
             "#ed7953"
            ],
            [
             0.7777777777777778,
             "#fb9f3a"
            ],
            [
             0.8888888888888888,
             "#fdca26"
            ],
            [
             1,
             "#f0f921"
            ]
           ]
          },
          "colorway": [
           "#636efa",
           "#EF553B",
           "#00cc96",
           "#ab63fa",
           "#FFA15A",
           "#19d3f3",
           "#FF6692",
           "#B6E880",
           "#FF97FF",
           "#FECB52"
          ],
          "font": {
           "color": "#2a3f5f"
          },
          "geo": {
           "bgcolor": "white",
           "lakecolor": "white",
           "landcolor": "#E5ECF6",
           "showlakes": true,
           "showland": true,
           "subunitcolor": "white"
          },
          "hoverlabel": {
           "align": "left"
          },
          "hovermode": "closest",
          "mapbox": {
           "style": "light"
          },
          "paper_bgcolor": "white",
          "plot_bgcolor": "#E5ECF6",
          "polar": {
           "angularaxis": {
            "gridcolor": "white",
            "linecolor": "white",
            "ticks": ""
           },
           "bgcolor": "#E5ECF6",
           "radialaxis": {
            "gridcolor": "white",
            "linecolor": "white",
            "ticks": ""
           }
          },
          "scene": {
           "xaxis": {
            "backgroundcolor": "#E5ECF6",
            "gridcolor": "white",
            "gridwidth": 2,
            "linecolor": "white",
            "showbackground": true,
            "ticks": "",
            "zerolinecolor": "white"
           },
           "yaxis": {
            "backgroundcolor": "#E5ECF6",
            "gridcolor": "white",
            "gridwidth": 2,
            "linecolor": "white",
            "showbackground": true,
            "ticks": "",
            "zerolinecolor": "white"
           },
           "zaxis": {
            "backgroundcolor": "#E5ECF6",
            "gridcolor": "white",
            "gridwidth": 2,
            "linecolor": "white",
            "showbackground": true,
            "ticks": "",
            "zerolinecolor": "white"
           }
          },
          "shapedefaults": {
           "line": {
            "color": "#2a3f5f"
           }
          },
          "ternary": {
           "aaxis": {
            "gridcolor": "white",
            "linecolor": "white",
            "ticks": ""
           },
           "baxis": {
            "gridcolor": "white",
            "linecolor": "white",
            "ticks": ""
           },
           "bgcolor": "#E5ECF6",
           "caxis": {
            "gridcolor": "white",
            "linecolor": "white",
            "ticks": ""
           }
          },
          "title": {
           "x": 0.05
          },
          "xaxis": {
           "automargin": true,
           "gridcolor": "white",
           "linecolor": "white",
           "ticks": "",
           "title": {
            "standoff": 15
           },
           "zerolinecolor": "white",
           "zerolinewidth": 2
          },
          "yaxis": {
           "automargin": true,
           "gridcolor": "white",
           "linecolor": "white",
           "ticks": "",
           "title": {
            "standoff": 15
           },
           "zerolinecolor": "white",
           "zerolinewidth": 2
          }
         }
        },
        "title": {
         "text": "Intermediate Values Plot"
        },
        "xaxis": {
         "title": {
          "text": "Step"
         }
        },
        "yaxis": {
         "title": {
          "text": "Intermediate Value"
         }
        }
       }
      }
     },
     "metadata": {},
     "output_type": "display_data"
    }
   ],
   "source": [
    "fig = optuna.visualization.plot_intermediate_values(study)\n",
    "graph_path = pathlib.Path(f\"../../figures/{params.MODEL_TYPE}/{params.MODEL_NAME}/\")\n",
    "# if path doesn't exist, make path with pathlib\n",
    "graph_path.mkdir(parents=True, exist_ok=True)\n",
    "\n",
    "graph_path = f\"../../figures/{params.MODEL_TYPE}/{params.MODEL_NAME}/plot_intermediate_values_graph\"\n",
    "fig.write_image(pathlib.Path(f\"{graph_path}.png\"))\n",
    "fig.show()"
   ]
  },
  {
   "cell_type": "code",
   "execution_count": 22,
   "id": "325a1ec3",
   "metadata": {
    "execution": {
     "iopub.execute_input": "2023-08-25T19:48:58.283598Z",
     "iopub.status.busy": "2023-08-25T19:48:58.283312Z",
     "iopub.status.idle": "2023-08-25T19:48:58.286078Z",
     "shell.execute_reply": "2023-08-25T19:48:58.285730Z"
    },
    "papermill": {
     "duration": 0.042769,
     "end_time": "2023-08-25T19:48:58.286742",
     "exception": false,
     "start_time": "2023-08-25T19:48:58.243973",
     "status": "completed"
    },
    "tags": []
   },
   "outputs": [],
   "source": [
    "param_dict = extract_best_trial_params(\n",
    "    study.best_params, params, model_name=params.MODEL_NAME\n",
    ")"
   ]
  }
 ],
 "metadata": {
  "jupytext": {
   "cell_metadata_filter": "-all",
   "encoding": "# coding: utf-8",
   "executable": "/usr/bin/env python",
   "formats": "ipynb,py",
   "main_language": "python"
  },
  "kernelspec": {
   "display_name": "Python 3 (ipykernel)",
   "language": "python",
   "name": "python3"
  },
  "language_info": {
   "codemirror_mode": {
    "name": "ipython",
    "version": 3
   },
   "file_extension": ".py",
   "mimetype": "text/x-python",
   "name": "python",
   "nbconvert_exporter": "python",
   "pygments_lexer": "ipython3",
   "version": "3.10.12"
  },
  "papermill": {
   "default_parameters": {},
   "duration": 297.730094,
   "end_time": "2023-08-25T19:49:01.109623",
   "environment_variables": {},
   "exception": null,
   "input_path": "Hyperparameter_Optimization_model_regression.ipynb",
   "output_path": "Hyperparameter_Optimization_model_regression.ipynb",
   "parameters": {
    "CELL_TYPE": "SHSY5Y",
    "CONTROL_NAME": "DMSO_0.100_DMSO_0.025",
    "MODEL_NAME": "DMSO_0.025_vs_Thapsigargin_1",
    "TREATMENT_NAME": "Thapsigargin_1.000_DMSO_0.025"
   },
   "start_time": "2023-08-25T19:44:03.379529",
   "version": "2.4.0"
  },
  "vscode": {
   "interpreter": {
    "hash": "72ae02083a9ca7d143c492d1aec380c7bf553ec51bd66e90e72bba65228121b6"
   }
  }
 },
 "nbformat": 4,
 "nbformat_minor": 5
}
