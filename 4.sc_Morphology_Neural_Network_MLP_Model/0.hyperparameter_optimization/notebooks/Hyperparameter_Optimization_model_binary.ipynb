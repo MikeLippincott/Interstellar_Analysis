{
 "cells": [
  {
   "attachments": {},
   "cell_type": "markdown",
   "id": "8e60628c",
   "metadata": {
    "papermill": {
     "duration": 0.003988,
     "end_time": "2023-10-30T15:30:18.308654",
     "exception": false,
     "start_time": "2023-10-30T15:30:18.304666",
     "status": "completed"
    },
    "tags": []
   },
   "source": [
    "## Hyperparameter tuning via Optuna"
   ]
  },
  {
   "cell_type": "markdown",
   "id": "8fac71a5",
   "metadata": {
    "papermill": {
     "duration": 0.003014,
     "end_time": "2023-10-30T15:30:18.314969",
     "exception": false,
     "start_time": "2023-10-30T15:30:18.311955",
     "status": "completed"
    },
    "tags": []
   },
   "source": [
    "### Being a binary model this notebook will be limited to predicting one class 1 or 0, yes or no.\n",
    "### Here I will be predicting if a cell received a treatment or not"
   ]
  },
  {
   "cell_type": "code",
   "execution_count": null,
   "id": "860a61dd",
   "metadata": {
    "execution": {
     "iopub.execute_input": "2023-10-30T15:30:18.321918Z",
     "iopub.status.busy": "2023-10-30T15:30:18.321587Z",
     "iopub.status.idle": "2023-10-30T15:30:22.248065Z",
     "shell.execute_reply": "2023-10-30T15:30:22.247459Z"
    },
    "papermill": {
     "duration": 3.931622,
     "end_time": "2023-10-30T15:30:22.249627",
     "exception": false,
     "start_time": "2023-10-30T15:30:18.318005",
     "status": "completed"
    },
    "tags": []
   },
   "outputs": [],
   "source": [
    "import pathlib\n",
    "import sys\n",
    "\n",
    "import numpy as np\n",
    "import optuna\n",
    "import pandas as pd\n",
    "import pyarrow.parquet as pq\n",
    "import toml\n",
    "import torch\n",
    "from sklearn import preprocessing\n",
    "\n",
    "sys.path.append(\"../..\")\n",
    "\n",
    "from MLP_utils.parameters import Parameters\n",
    "from MLP_utils.utils import (\n",
    "    Dataset_formatter,\n",
    "    data_split,\n",
    "    extract_best_trial_params,\n",
    "    objective_model_optimizer,\n",
    "    parameter_set,\n",
    "    plot_metric_vs_epoch,\n",
    "    results_output,\n",
    "    test_optimized_model,\n",
    "    train_optimized_model,\n",
    "    un_nest,\n",
    ")\n",
    "\n",
    "sys.path.append(\"../../..\")\n",
    "from utils.utils import df_stats"
   ]
  },
  {
   "cell_type": "markdown",
   "id": "edca0d0e",
   "metadata": {
    "papermill": {
     "duration": 0.003042,
     "end_time": "2023-10-30T15:30:22.257607",
     "exception": false,
     "start_time": "2023-10-30T15:30:22.254565",
     "status": "completed"
    },
    "tags": []
   },
   "source": [
    "## Papermill is used for executing notebooks in the CLI with multiple parameters\n",
    "Here the `injected-parameters` cell is used to inject parameters into the notebook via papermill.\n",
    "This enables multiple notebooks to be executed with different parameters, preventing to manually update parameters or have multiple copies of the notebook."
   ]
  },
  {
   "cell_type": "code",
   "execution_count": null,
   "id": "63db9613",
   "metadata": {
    "execution": {
     "iopub.execute_input": "2023-10-30T15:30:22.264937Z",
     "iopub.status.busy": "2023-10-30T15:30:22.264267Z",
     "iopub.status.idle": "2023-10-30T15:30:22.267435Z",
     "shell.execute_reply": "2023-10-30T15:30:22.266954Z"
    },
    "papermill": {
     "duration": 0.007888,
     "end_time": "2023-10-30T15:30:22.268485",
     "exception": false,
     "start_time": "2023-10-30T15:30:22.260597",
     "status": "completed"
    },
    "tags": [
     "injected-parameters"
    ]
   },
   "outputs": [],
   "source": [
    "# Parameters\n",
    "CELL_TYPE = \"PBMC\"\n",
    "CONTROL_NAME = \"DMSO_0.100_%_DMSO_0.025_%\"\n",
    "TREATMENT_NAME = \"Thapsigargin_1.000_uM_DMSO_0.025_%\"\n",
    "MODEL_NAME = \"DMSO_0.025_vs_Thapsigargin_1\""
   ]
  },
  {
   "cell_type": "code",
   "execution_count": null,
   "id": "394294ce",
   "metadata": {
    "execution": {
     "iopub.execute_input": "2023-10-30T15:30:22.275947Z",
     "iopub.status.busy": "2023-10-30T15:30:22.275293Z",
     "iopub.status.idle": "2023-10-30T15:30:22.280201Z",
     "shell.execute_reply": "2023-10-30T15:30:22.279760Z"
    },
    "papermill": {
     "duration": 0.009502,
     "end_time": "2023-10-30T15:30:22.281210",
     "exception": false,
     "start_time": "2023-10-30T15:30:22.271708",
     "status": "completed"
    },
    "tags": []
   },
   "outputs": [],
   "source": [
    "ml_configs_file = pathlib.Path(\"../../MLP_utils/binary_config.toml\").resolve(\n",
    "    strict=True\n",
    ")\n",
    "ml_configs = toml.load(ml_configs_file)\n",
    "params = Parameters()\n",
    "mlp_params = parameter_set(params, ml_configs)\n",
    "\n",
    "# overwrite params via command line arguments from papermill\n",
    "mlp_params.CELL_TYPE = CELL_TYPE\n",
    "mlp_params.MODEL_NAME = MODEL_NAME\n",
    "mlp_params.CONTROL_NAME = CONTROL_NAME\n",
    "mlp_params.TREATMENT_NAME = TREATMENT_NAME\n",
    "mlp_params.MODEL_NAME = MODEL_NAME"
   ]
  },
  {
   "cell_type": "code",
   "execution_count": null,
   "id": "44baa945",
   "metadata": {
    "execution": {
     "iopub.execute_input": "2023-10-30T15:30:22.288243Z",
     "iopub.status.busy": "2023-10-30T15:30:22.287838Z",
     "iopub.status.idle": "2023-10-30T15:32:14.792899Z",
     "shell.execute_reply": "2023-10-30T15:32:14.792229Z"
    },
    "papermill": {
     "duration": 112.510741,
     "end_time": "2023-10-30T15:32:14.794958",
     "exception": false,
     "start_time": "2023-10-30T15:30:22.284217",
     "status": "completed"
    },
    "tags": []
   },
   "outputs": [],
   "source": [
    "# Import Data\n",
    "# set data file path under pathlib path for multi-system use\n",
    "\n",
    "file_path = pathlib.Path(\n",
    "    f\"../../../data/{mlp_params.CELL_TYPE}_preprocessed_sc_norm.parquet\"\n",
    ").resolve(strict=True)\n",
    "\n",
    "df = pq.read_table(file_path).to_pandas()"
   ]
  },
  {
   "cell_type": "code",
   "execution_count": null,
   "id": "19103675",
   "metadata": {
    "execution": {
     "iopub.execute_input": "2023-10-30T15:32:14.836130Z",
     "iopub.status.busy": "2023-10-30T15:32:14.835782Z",
     "iopub.status.idle": "2023-10-30T15:32:15.188214Z",
     "shell.execute_reply": "2023-10-30T15:32:15.187466Z"
    },
    "papermill": {
     "duration": 0.360691,
     "end_time": "2023-10-30T15:32:15.190068",
     "exception": false,
     "start_time": "2023-10-30T15:32:14.829377",
     "status": "completed"
    },
    "tags": []
   },
   "outputs": [],
   "source": [
    "df[\"oneb_Metadata_Treatment_Dose_Inhibitor_Dose\"].unique()"
   ]
  },
  {
   "attachments": {},
   "cell_type": "markdown",
   "id": "5c486e00",
   "metadata": {
    "papermill": {
     "duration": 0.005624,
     "end_time": "2023-10-30T15:32:15.202595",
     "exception": false,
     "start_time": "2023-10-30T15:32:15.196971",
     "status": "completed"
    },
    "tags": []
   },
   "source": [
    "#### Set up Data to be compatible with model"
   ]
  },
  {
   "attachments": {},
   "cell_type": "markdown",
   "id": "95754baa",
   "metadata": {
    "papermill": {
     "duration": 0.004774,
     "end_time": "2023-10-30T15:32:15.212647",
     "exception": false,
     "start_time": "2023-10-30T15:32:15.207873",
     "status": "completed"
    },
    "tags": []
   },
   "source": [
    "##### Classification Models:\n",
    "Comment out code if using regression"
   ]
  },
  {
   "cell_type": "code",
   "execution_count": null,
   "id": "b6ea8ac9",
   "metadata": {
    "execution": {
     "iopub.execute_input": "2023-10-30T15:32:15.222529Z",
     "iopub.status.busy": "2023-10-30T15:32:15.222121Z",
     "iopub.status.idle": "2023-10-30T15:32:17.019449Z",
     "shell.execute_reply": "2023-10-30T15:32:17.018667Z"
    },
    "papermill": {
     "duration": 1.804219,
     "end_time": "2023-10-30T15:32:17.021277",
     "exception": false,
     "start_time": "2023-10-30T15:32:15.217058",
     "status": "completed"
    },
    "tags": []
   },
   "outputs": [],
   "source": [
    "# filter the oneb_Metadata_Treatment_Dose_Inhibitor_Dose column to only include the treatment and control via loc\n",
    "df = df.loc[\n",
    "    df[\"oneb_Metadata_Treatment_Dose_Inhibitor_Dose\"].isin(\n",
    "        [mlp_params.TREATMENT_NAME, mlp_params.CONTROL_NAME]\n",
    "    )\n",
    "]\n",
    "\n",
    "\n",
    "print(\"Selected Catagories are:\")\n",
    "print(df[\"oneb_Metadata_Treatment_Dose_Inhibitor_Dose\"].unique())\n",
    "df_stats(df)\n",
    "\n",
    "if mlp_params.DATA_SUBSET_OPTION == \"True\":\n",
    "    df = df.sample(n=mlp_params.DATA_SUBSET_NUMBER)\n",
    "    print(\"Data Subset Is On\")\n",
    "    print(f\"Data is subset to {mlp_params.DATA_SUBSET_NUMBER}\")\n",
    "else:\n",
    "    print(\"Data Subset Is Off\")"
   ]
  },
  {
   "cell_type": "code",
   "execution_count": null,
   "id": "088cff07",
   "metadata": {
    "execution": {
     "iopub.execute_input": "2023-10-30T15:32:17.040643Z",
     "iopub.status.busy": "2023-10-30T15:32:17.040161Z",
     "iopub.status.idle": "2023-10-30T15:32:20.874377Z",
     "shell.execute_reply": "2023-10-30T15:32:20.873636Z"
    },
    "papermill": {
     "duration": 3.843481,
     "end_time": "2023-10-30T15:32:20.875763",
     "exception": false,
     "start_time": "2023-10-30T15:32:17.032282",
     "status": "completed"
    },
    "tags": []
   },
   "outputs": [],
   "source": [
    "np.random.seed(seed=0)\n",
    "wells_to_hold = (\n",
    "    df.groupby(\"oneb_Metadata_Treatment_Dose_Inhibitor_Dose\")\n",
    "    .agg(np.random.choice)[\"Metadata_Well\"]\n",
    "    .to_list()\n",
    ")\n",
    "df_holdout = df[df[\"Metadata_Well\"].isin(wells_to_hold)]\n",
    "df = df[~df[\"Metadata_Well\"].isin(wells_to_hold)]\n",
    "\n",
    "\n",
    "print(\"Wells held out for testing:\", df_holdout[\"Metadata_Well\"].unique())\n",
    "print(\n",
    "    \"Wells to use for training, validation, and testing\", df[\"Metadata_Well\"].unique()\n",
    ")"
   ]
  },
  {
   "cell_type": "code",
   "execution_count": null,
   "id": "786e3a76",
   "metadata": {
    "execution": {
     "iopub.execute_input": "2023-10-30T15:32:20.884514Z",
     "iopub.status.busy": "2023-10-30T15:32:20.884272Z",
     "iopub.status.idle": "2023-10-30T15:32:21.352243Z",
     "shell.execute_reply": "2023-10-30T15:32:21.351658Z"
    },
    "papermill": {
     "duration": 0.473661,
     "end_time": "2023-10-30T15:32:21.353915",
     "exception": false,
     "start_time": "2023-10-30T15:32:20.880254",
     "status": "completed"
    },
    "tags": []
   },
   "outputs": [],
   "source": [
    "# Code snippet for metadata extraction by Jenna Tomkinson\n",
    "df_metadata = list(df.columns[df.columns.str.startswith(\"Metadata\")])\n",
    "\n",
    "# define which columns are data and which are descriptive\n",
    "df_descriptive = df[df_metadata]\n",
    "df_values = df.drop(columns=df_metadata)"
   ]
  },
  {
   "cell_type": "code",
   "execution_count": null,
   "id": "595afb65",
   "metadata": {
    "execution": {
     "iopub.execute_input": "2023-10-30T15:32:21.365076Z",
     "iopub.status.busy": "2023-10-30T15:32:21.364657Z",
     "iopub.status.idle": "2023-10-30T15:32:21.867307Z",
     "shell.execute_reply": "2023-10-30T15:32:21.866698Z"
    },
    "papermill": {
     "duration": 0.508311,
     "end_time": "2023-10-30T15:32:21.868865",
     "exception": false,
     "start_time": "2023-10-30T15:32:21.360554",
     "status": "completed"
    },
    "tags": []
   },
   "outputs": [],
   "source": [
    "# Creating label encoder\n",
    "le = preprocessing.LabelEncoder()\n",
    "# Converting strings into numbers\n",
    "df_values[\"oneb_Metadata_Treatment_Dose_Inhibitor_Dose\"] = le.fit_transform(\n",
    "    df_values[\"oneb_Metadata_Treatment_Dose_Inhibitor_Dose\"]\n",
    ")\n",
    "# split into X and Y where Y are the predictive column and x are the observable data\n",
    "df_values_X = df_values.drop(\n",
    "    [\n",
    "        \"oneb_Metadata_Treatment_Dose_Inhibitor_Dose\",\n",
    "        \"twob_Metadata_Treatment_Dose_Inhibitor_Dose\",\n",
    "        \"threeb_Metadata_Treatment_Dose_Inhibitor_Dose\",\n",
    "        \"fourb_Metadata_Treatment_Dose_Inhibitor_Dose\",\n",
    "    ],\n",
    "    axis=1,\n",
    ")\n",
    "df_values_Y = df_values[\"oneb_Metadata_Treatment_Dose_Inhibitor_Dose\"]"
   ]
  },
  {
   "attachments": {},
   "cell_type": "markdown",
   "id": "260a048e",
   "metadata": {
    "papermill": {
     "duration": 0.003236,
     "end_time": "2023-10-30T15:32:21.876109",
     "exception": false,
     "start_time": "2023-10-30T15:32:21.872873",
     "status": "completed"
    },
    "tags": []
   },
   "source": [
    "#### Split Data - All Models can proceed through this point"
   ]
  },
  {
   "cell_type": "code",
   "execution_count": null,
   "id": "f4feb87f",
   "metadata": {
    "execution": {
     "iopub.execute_input": "2023-10-30T15:32:21.883621Z",
     "iopub.status.busy": "2023-10-30T15:32:21.883329Z",
     "iopub.status.idle": "2023-10-30T15:32:26.568422Z",
     "shell.execute_reply": "2023-10-30T15:32:26.567802Z"
    },
    "papermill": {
     "duration": 4.690807,
     "end_time": "2023-10-30T15:32:26.570138",
     "exception": false,
     "start_time": "2023-10-30T15:32:21.879331",
     "status": "completed"
    },
    "tags": []
   },
   "outputs": [],
   "source": [
    "X_train, X_test, X_val, Y_train, Y_test, Y_val = data_split(\n",
    "    X_vals=df_values_X,\n",
    "    y_vals=df_values_Y,\n",
    "    train_proportion=0.8,\n",
    "    val_proportion=0.1,\n",
    "    test_proportion=0.1,\n",
    "    seed=1,\n",
    "    params=params,\n",
    ")"
   ]
  },
  {
   "cell_type": "code",
   "execution_count": null,
   "id": "36894826",
   "metadata": {
    "execution": {
     "iopub.execute_input": "2023-10-30T15:32:26.580910Z",
     "iopub.status.busy": "2023-10-30T15:32:26.580505Z",
     "iopub.status.idle": "2023-10-30T15:32:26.757759Z",
     "shell.execute_reply": "2023-10-30T15:32:26.757047Z"
    },
    "papermill": {
     "duration": 0.183442,
     "end_time": "2023-10-30T15:32:26.759479",
     "exception": false,
     "start_time": "2023-10-30T15:32:26.576037",
     "status": "completed"
    },
    "tags": []
   },
   "outputs": [],
   "source": [
    "# produce data objects for train, val and test datasets\n",
    "train_data = Dataset_formatter(\n",
    "    torch.FloatTensor(X_train.values), torch.FloatTensor(Y_train.values)\n",
    ")\n",
    "val_data = Dataset_formatter(\n",
    "    torch.FloatTensor(X_val.values), torch.FloatTensor(Y_val.values)\n",
    ")\n",
    "test_data = Dataset_formatter(\n",
    "    torch.FloatTensor(X_test.values), torch.FloatTensor(Y_test.values)\n",
    ")"
   ]
  },
  {
   "cell_type": "code",
   "execution_count": null,
   "id": "4382d712",
   "metadata": {
    "execution": {
     "iopub.execute_input": "2023-10-30T15:32:26.769491Z",
     "iopub.status.busy": "2023-10-30T15:32:26.769182Z",
     "iopub.status.idle": "2023-10-30T15:32:26.775834Z",
     "shell.execute_reply": "2023-10-30T15:32:26.775375Z"
    },
    "papermill": {
     "duration": 0.013067,
     "end_time": "2023-10-30T15:32:26.776921",
     "exception": false,
     "start_time": "2023-10-30T15:32:26.763854",
     "status": "completed"
    },
    "tags": []
   },
   "outputs": [],
   "source": [
    "mlp_params.IN_FEATURES = X_train.shape[1]\n",
    "print(\"Number of in features: \", mlp_params.IN_FEATURES)\n",
    "if mlp_params.MODEL_TYPE == \"Regression\":\n",
    "    mlp_params.OUT_FEATURES = 1\n",
    "else:\n",
    "    mlp_params.OUT_FEATURES = len(\n",
    "        df_values[\"oneb_Metadata_Treatment_Dose_Inhibitor_Dose\"].unique()\n",
    "    )\n",
    "\n",
    "print(\"Number of out features: \", mlp_params.OUT_FEATURES)\n",
    "\n",
    "if mlp_params.OUT_FEATURES > 2:\n",
    "    mlp_params.MODEL_TYPE = \"Multi_Class\"\n",
    "elif mlp_params.OUT_FEATURES == 2:\n",
    "    mlp_params.OUT_FEATURES = mlp_params.OUT_FEATURES - 1\n",
    "    mlp_params.MODEL_TYPE = \"Binary_Classification\"\n",
    "elif mlp_params.OUT_FEATURES == 1:\n",
    "    mlp_params.MODEL_TYPE = \"Regression\"\n",
    "else:\n",
    "    pass\n",
    "print(mlp_params.MODEL_TYPE)"
   ]
  },
  {
   "cell_type": "code",
   "execution_count": null,
   "id": "77effa5c",
   "metadata": {
    "execution": {
     "iopub.execute_input": "2023-10-30T15:32:26.784676Z",
     "iopub.status.busy": "2023-10-30T15:32:26.784450Z",
     "iopub.status.idle": "2023-10-30T15:32:26.788030Z",
     "shell.execute_reply": "2023-10-30T15:32:26.787563Z"
    },
    "papermill": {
     "duration": 0.008652,
     "end_time": "2023-10-30T15:32:26.789168",
     "exception": false,
     "start_time": "2023-10-30T15:32:26.780516",
     "status": "completed"
    },
    "tags": []
   },
   "outputs": [],
   "source": [
    "# convert data class into a dataloader to be compatible with pytorch\n",
    "train_loader = torch.utils.data.DataLoader(\n",
    "    dataset=train_data, batch_size=mlp_params.BATCH_SIZE\n",
    ")\n",
    "valid_loader = torch.utils.data.DataLoader(\n",
    "    dataset=val_data, batch_size=mlp_params.BATCH_SIZE\n",
    ")\n",
    "test_loader = torch.utils.data.DataLoader(\n",
    "    dataset=test_data,\n",
    "    batch_size=1,\n",
    ")"
   ]
  },
  {
   "cell_type": "code",
   "execution_count": null,
   "id": "cb7635c8",
   "metadata": {
    "execution": {
     "iopub.execute_input": "2023-10-30T15:32:26.796589Z",
     "iopub.status.busy": "2023-10-30T15:32:26.796422Z",
     "iopub.status.idle": "2023-10-30T15:32:26.799797Z",
     "shell.execute_reply": "2023-10-30T15:32:26.799345Z"
    },
    "papermill": {
     "duration": 0.008396,
     "end_time": "2023-10-30T15:32:26.800921",
     "exception": false,
     "start_time": "2023-10-30T15:32:26.792525",
     "status": "completed"
    },
    "tags": []
   },
   "outputs": [],
   "source": [
    "print(mlp_params.DEVICE)"
   ]
  },
  {
   "cell_type": "code",
   "execution_count": null,
   "id": "a969042f",
   "metadata": {
    "execution": {
     "iopub.execute_input": "2023-10-30T15:32:26.808524Z",
     "iopub.status.busy": "2023-10-30T15:32:26.808358Z",
     "iopub.status.idle": "2023-10-30T15:49:39.248906Z",
     "shell.execute_reply": "2023-10-30T15:49:39.248387Z"
    },
    "papermill": {
     "duration": 1032.453666,
     "end_time": "2023-10-30T15:49:39.258052",
     "exception": false,
     "start_time": "2023-10-30T15:32:26.804386",
     "status": "completed"
    },
    "tags": []
   },
   "outputs": [],
   "source": [
    "# no accuracy function must be loss for regression\n",
    "if mlp_params.MODEL_TYPE == \"Regression\":\n",
    "    mlp_params.METRIC = \"loss\"\n",
    "    pass\n",
    "\n",
    "\n",
    "# wrap the objective function inside of a lambda function to pass args...\n",
    "objective_lambda_func = lambda trial: objective_model_optimizer(\n",
    "    train_loader,\n",
    "    valid_loader,\n",
    "    trial=trial,\n",
    "    params=params,\n",
    "    metric=mlp_params.METRIC,\n",
    "    return_info=False,\n",
    ")\n",
    "\n",
    "\n",
    "# Study is the object for model optimization\n",
    "study = optuna.create_study(direction=f\"{mlp_params.DIRECTION}\")\n",
    "# Here I apply the optimize function of the study to the objective function\n",
    "# This optimizes each parameter specified to be optimized from the defined search space\n",
    "study.optimize(objective_lambda_func, n_trials=mlp_params.N_TRIALS)\n",
    "# Prints out the best trial's optimized parameters\n",
    "objective_model_optimizer(\n",
    "    train_loader,\n",
    "    valid_loader,\n",
    "    trial=study.best_trial,\n",
    "    params=params,\n",
    "    metric=mlp_params.METRIC,\n",
    "    return_info=True,\n",
    ")"
   ]
  },
  {
   "cell_type": "code",
   "execution_count": null,
   "id": "b2620589",
   "metadata": {
    "execution": {
     "iopub.execute_input": "2023-10-30T15:49:39.268045Z",
     "iopub.status.busy": "2023-10-30T15:49:39.267788Z",
     "iopub.status.idle": "2023-10-30T15:49:40.469006Z",
     "shell.execute_reply": "2023-10-30T15:49:40.468398Z"
    },
    "papermill": {
     "duration": 1.256781,
     "end_time": "2023-10-30T15:49:40.519510",
     "exception": false,
     "start_time": "2023-10-30T15:49:39.262729",
     "status": "completed"
    },
    "tags": []
   },
   "outputs": [],
   "source": [
    "# create graph directory for this model\n",
    "graph_path = pathlib.Path(\n",
    "    f\"../../figures/{mlp_params.MODEL_TYPE}/{mlp_params.MODEL_NAME}/{mlp_params.CELL_TYPE}/hyperparameter_optimization\"\n",
    ")\n",
    "\n",
    "pathlib.Path(graph_path).mkdir(parents=True, exist_ok=True)\n",
    "fig = optuna.visualization.plot_optimization_history(study)\n",
    "\n",
    "\n",
    "graph_path = f\"{graph_path}/plot_optimization_history_graph\"\n",
    "\n",
    "fig.write_image(pathlib.Path(f\"{graph_path}.png\"))\n",
    "fig.show()"
   ]
  },
  {
   "cell_type": "code",
   "execution_count": null,
   "id": "92103de1",
   "metadata": {
    "execution": {
     "iopub.execute_input": "2023-10-30T15:49:40.587153Z",
     "iopub.status.busy": "2023-10-30T15:49:40.586832Z",
     "iopub.status.idle": "2023-10-30T15:49:40.693332Z",
     "shell.execute_reply": "2023-10-30T15:49:40.692791Z"
    },
    "papermill": {
     "duration": 0.14178,
     "end_time": "2023-10-30T15:49:40.695080",
     "exception": false,
     "start_time": "2023-10-30T15:49:40.553300",
     "status": "completed"
    },
    "tags": []
   },
   "outputs": [],
   "source": [
    "# create graph directory for this model\n",
    "graph_path = pathlib.Path(\n",
    "    f\"../../figures/{mlp_params.MODEL_TYPE}/{mlp_params.MODEL_NAME}/{mlp_params.CELL_TYPE}/hyperparameter_optimization\"\n",
    ").resolve(strict=True)\n",
    "\n",
    "pathlib.Path(graph_path).mkdir(parents=True, exist_ok=True)\n",
    "fig = optuna.visualization.plot_intermediate_values(study)\n",
    "\n",
    "graph_path = f\"{graph_path}/plot_intermediate_values_graph\"\n",
    "\n",
    "fig.write_image(pathlib.Path(f\"{graph_path}.png\"))\n",
    "fig.show()"
   ]
  },
  {
   "cell_type": "code",
   "execution_count": null,
   "id": "325a1ec3",
   "metadata": {
    "execution": {
     "iopub.execute_input": "2023-10-30T15:49:40.774941Z",
     "iopub.status.busy": "2023-10-30T15:49:40.774498Z",
     "iopub.status.idle": "2023-10-30T15:49:40.779159Z",
     "shell.execute_reply": "2023-10-30T15:49:40.778556Z"
    },
    "papermill": {
     "duration": 0.044378,
     "end_time": "2023-10-30T15:49:40.780169",
     "exception": false,
     "start_time": "2023-10-30T15:49:40.735791",
     "status": "completed"
    },
    "tags": []
   },
   "outputs": [],
   "source": [
    "param_dict = extract_best_trial_params(\n",
    "    study.best_params, params, model_name=mlp_params.MODEL_NAME\n",
    ")"
   ]
  }
 ],
 "metadata": {
  "jupytext": {
   "cell_metadata_filter": "-all",
   "encoding": "# coding: utf-8",
   "executable": "/usr/bin/env python",
   "formats": "ipynb,py",
   "main_language": "python"
  },
  "kernelspec": {
   "display_name": "Python 3 (ipykernel)",
   "language": "python",
   "name": "python3"
  },
  "language_info": {
   "codemirror_mode": {
    "name": "ipython",
    "version": 3
   },
   "file_extension": ".py",
   "mimetype": "text/x-python",
   "name": "python",
   "nbconvert_exporter": "python",
   "pygments_lexer": "ipython3",
   "version": "3.10.12"
  },
  "papermill": {
   "default_parameters": {},
   "duration": 1167.272772,
   "end_time": "2023-10-30T15:49:43.436342",
   "environment_variables": {},
   "exception": null,
   "input_path": "Hyperparameter_Optimization_model_binary.ipynb",
   "output_path": "Hyperparameter_Optimization_model_binary.ipynb",
   "parameters": {
    "CELL_TYPE": "PBMC",
    "CONTROL_NAME": "DMSO_0.100_%_DMSO_0.025_%",
    "MODEL_NAME": "DMSO_0.025_vs_Thapsigargin_1",
    "TREATMENT_NAME": "Thapsigargin_1.000_uM_DMSO_0.025_%"
   },
   "start_time": "2023-10-30T15:30:16.163570",
   "version": "2.4.0"
  },
  "vscode": {
   "interpreter": {
    "hash": "72ae02083a9ca7d143c492d1aec380c7bf553ec51bd66e90e72bba65228121b6"
   }
  }
 },
 "nbformat": 4,
 "nbformat_minor": 5
}
