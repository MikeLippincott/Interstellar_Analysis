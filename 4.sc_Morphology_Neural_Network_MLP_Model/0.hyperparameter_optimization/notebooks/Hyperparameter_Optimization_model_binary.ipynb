{
 "cells": [
  {
   "attachments": {},
   "cell_type": "markdown",
   "id": "8e60628c",
   "metadata": {
    "papermill": {
     "duration": 0.005982,
     "end_time": "2023-08-06T05:27:58.825812",
     "exception": false,
     "start_time": "2023-08-06T05:27:58.819830",
     "status": "completed"
    },
    "tags": []
   },
   "source": [
    "## Hyperparameter tuning via Optuna"
   ]
  },
  {
   "cell_type": "markdown",
   "id": "8fac71a5",
   "metadata": {
    "papermill": {
     "duration": 0.004575,
     "end_time": "2023-08-06T05:27:58.835211",
     "exception": false,
     "start_time": "2023-08-06T05:27:58.830636",
     "status": "completed"
    },
    "tags": []
   },
   "source": [
    "### Being a binary model this notebook will be limited to predicting one class 1 or 0, yes or no.\n",
    "### Here I will be predicting if a cell received a treatment or not"
   ]
  },
  {
   "cell_type": "code",
   "execution_count": 1,
   "id": "860a61dd",
   "metadata": {
    "execution": {
     "iopub.execute_input": "2023-08-06T05:27:58.845086Z",
     "iopub.status.busy": "2023-08-06T05:27:58.844836Z",
     "iopub.status.idle": "2023-08-06T05:28:02.521728Z",
     "shell.execute_reply": "2023-08-06T05:28:02.521237Z"
    },
    "papermill": {
     "duration": 3.683586,
     "end_time": "2023-08-06T05:28:02.523336",
     "exception": false,
     "start_time": "2023-08-06T05:27:58.839750",
     "status": "completed"
    },
    "tags": []
   },
   "outputs": [],
   "source": [
    "import pathlib\n",
    "import sys\n",
    "\n",
    "import numpy as np\n",
    "import optuna\n",
    "import pandas as pd\n",
    "import pyarrow.parquet as pq\n",
    "import toml\n",
    "import torch\n",
    "from sklearn import preprocessing\n",
    "\n",
    "sys.path.append(\"../..\")\n",
    "\n",
    "from MLP_utils.parameters import Parameters\n",
    "from MLP_utils.utils import (\n",
    "    Dataset_formatter,\n",
    "    data_split,\n",
    "    extract_best_trial_params,\n",
    "    objective_model_optimizer,\n",
    "    parameter_set,\n",
    "    plot_metric_vs_epoch,\n",
    "    results_output,\n",
    "    test_optimized_model,\n",
    "    train_optimized_model,\n",
    "    un_nest,\n",
    ")\n",
    "\n",
    "sys.path.append(\"../../..\")\n",
    "from utils.utils import df_stats"
   ]
  },
  {
   "cell_type": "markdown",
   "id": "edca0d0e",
   "metadata": {},
   "source": [
    "## Papermill is used for executing notebooks in the CLI with multiple parameters\n",
    "Here the `injected-parameters` cell is used to inject parameters into the notebook via papermill.\n",
    "This enables multiple notebooks to be executed with different parameters, preventing to manually update parameters or have multiple copies of the notebook."
   ]
  },
  {
   "cell_type": "code",
   "execution_count": 2,
   "id": "335858ee",
   "metadata": {
    "execution": {
     "iopub.execute_input": "2023-08-06T05:28:02.534866Z",
     "iopub.status.busy": "2023-08-06T05:28:02.534438Z",
     "iopub.status.idle": "2023-08-06T05:28:02.537108Z",
     "shell.execute_reply": "2023-08-06T05:28:02.536711Z"
    },
    "papermill": {
     "duration": 0.008924,
     "end_time": "2023-08-06T05:28:02.538051",
     "exception": false,
     "start_time": "2023-08-06T05:28:02.529127",
     "status": "completed"
    },
    "tags": [
     "injected-parameters"
    ]
   },
   "outputs": [],
   "source": [
    "# Parameters\n",
    "CELL_TYPE = \"SHSY5Y\"\n",
    "CONTROL_NAME = \"DMSO_0.100_DMSO_0.025\"\n",
    "TREATMENT_NAME = \"LPS_100.000_DMSO_0.025\"\n",
    "MODEL_NAME = \"DMSO_0.025_vs_LPS_100\"\n",
    "SHUFFLE = False"
   ]
  },
  {
   "cell_type": "code",
   "execution_count": 3,
   "id": "394294ce",
   "metadata": {
    "execution": {
     "iopub.execute_input": "2023-08-06T05:28:02.547989Z",
     "iopub.status.busy": "2023-08-06T05:28:02.547719Z",
     "iopub.status.idle": "2023-08-06T05:28:02.551051Z",
     "shell.execute_reply": "2023-08-06T05:28:02.550682Z"
    },
    "papermill": {
     "duration": 0.009353,
     "end_time": "2023-08-06T05:28:02.551968",
     "exception": false,
     "start_time": "2023-08-06T05:28:02.542615",
     "status": "completed"
    },
    "tags": []
   },
   "outputs": [],
   "source": [
    "ml_configs_file = pathlib.Path(\"../../MLP_utils/binary_config.toml\").resolve(\n",
    "    strict=True\n",
    ")\n",
    "ml_configs = toml.load(ml_configs_file)\n",
    "params = Parameters()\n",
    "mlp_params = parameter_set(params, ml_configs)\n",
    "\n",
    "# overwrite params via command line arguments from papermill\n",
    "mlp_params.CELL_TYPE = CELL_TYPE\n",
    "mlp_params.MODEL_NAME = MODEL_NAME\n",
    "mlp_params.CONTROL_NAME = CONTROL_NAME\n",
    "mlp_params.TREATMENT_NAME = TREATMENT_NAME\n",
    "mlp_params.MODEL_NAME = MODEL_NAME\n",
    "mlp_params.SHUFFLE = SHUFFLE"
   ]
  },
  {
   "cell_type": "code",
   "execution_count": 4,
   "id": "44baa945",
   "metadata": {
    "execution": {
     "iopub.execute_input": "2023-08-06T05:28:02.561876Z",
     "iopub.status.busy": "2023-08-06T05:28:02.561531Z",
     "iopub.status.idle": "2023-08-06T05:29:29.197385Z",
     "shell.execute_reply": "2023-08-06T05:29:29.196845Z"
    },
    "papermill": {
     "duration": 86.642544,
     "end_time": "2023-08-06T05:29:29.199014",
     "exception": false,
     "start_time": "2023-08-06T05:28:02.556470",
     "status": "completed"
    },
    "tags": []
   },
   "outputs": [],
   "source": [
    "# Import Data\n",
    "# set data file path under pathlib path for multi-system use\n",
    "\n",
    "file_path = pathlib.Path(\n",
    "    f\"../../../data/{mlp_params.CELL_TYPE}_preprocessed_sc_norm.parquet\"\n",
    ").resolve(strict=True)\n",
    "\n",
    "df = pq.read_table(file_path).to_pandas()"
   ]
  },
  {
   "attachments": {},
   "cell_type": "markdown",
   "id": "5c486e00",
   "metadata": {
    "papermill": {
     "duration": 0.00506,
     "end_time": "2023-08-06T05:29:29.225245",
     "exception": false,
     "start_time": "2023-08-06T05:29:29.220185",
     "status": "completed"
    },
    "tags": []
   },
   "source": [
    "#### Set up Data to be compatible with model"
   ]
  },
  {
   "attachments": {},
   "cell_type": "markdown",
   "id": "95754baa",
   "metadata": {
    "papermill": {
     "duration": 0.004738,
     "end_time": "2023-08-06T05:29:29.234468",
     "exception": false,
     "start_time": "2023-08-06T05:29:29.229730",
     "status": "completed"
    },
    "tags": []
   },
   "source": [
    "##### Classification Models:\n",
    "Comment out code if using regression"
   ]
  },
  {
   "cell_type": "code",
   "execution_count": 5,
   "id": "b6ea8ac9",
   "metadata": {
    "execution": {
     "iopub.execute_input": "2023-08-06T05:29:29.244568Z",
     "iopub.status.busy": "2023-08-06T05:29:29.244133Z",
     "iopub.status.idle": "2023-08-06T05:29:30.577193Z",
     "shell.execute_reply": "2023-08-06T05:29:30.576719Z"
    },
    "papermill": {
     "duration": 1.339321,
     "end_time": "2023-08-06T05:29:30.578198",
     "exception": false,
     "start_time": "2023-08-06T05:29:29.238877",
     "status": "completed"
    },
    "tags": []
   },
   "outputs": [
    {
     "name": "stdout",
     "output_type": "stream",
     "text": [
      "Selected Catagories are:\n",
      "['DMSO_0.100_DMSO_0.025' 'LPS_100.000_DMSO_0.025']\n",
      "The dimensions of the data are: (51630, 1276)\n",
      "Number of total missing values across all columns: 103260\n",
      "Data Subset Is Off\n"
     ]
    }
   ],
   "source": [
    "# filter the oneb_Metadata_Treatment_Dose_Inhibitor_Dose column to only include the treatment and control via loc\n",
    "df = df.loc[\n",
    "    df[\"oneb_Metadata_Treatment_Dose_Inhibitor_Dose\"].isin(\n",
    "        [mlp_params.TREATMENT_NAME, mlp_params.CONTROL_NAME]\n",
    "    )\n",
    "]\n",
    "\n",
    "\n",
    "print(\"Selected Catagories are:\")\n",
    "print(df[\"oneb_Metadata_Treatment_Dose_Inhibitor_Dose\"].unique())\n",
    "df_stats(df)\n",
    "\n",
    "if mlp_params.DATA_SUBSET_OPTION == \"True\":\n",
    "    df = df.sample(n=mlp_params.DATA_SUBSET_NUMBER)\n",
    "    print(\"Data Subset Is On\")\n",
    "    print(f\"Data is subset to {mlp_params.DATA_SUBSET_NUMBER}\")\n",
    "else:\n",
    "    print(\"Data Subset Is Off\")"
   ]
  },
  {
   "cell_type": "code",
   "execution_count": 6,
   "id": "088cff07",
   "metadata": {
    "execution": {
     "iopub.execute_input": "2023-08-06T05:29:30.589393Z",
     "iopub.status.busy": "2023-08-06T05:29:30.589080Z",
     "iopub.status.idle": "2023-08-06T05:29:33.905664Z",
     "shell.execute_reply": "2023-08-06T05:29:33.905176Z"
    },
    "papermill": {
     "duration": 3.323065,
     "end_time": "2023-08-06T05:29:33.906617",
     "exception": false,
     "start_time": "2023-08-06T05:29:30.583552",
     "status": "completed"
    },
    "tags": []
   },
   "outputs": [
    {
     "name": "stdout",
     "output_type": "stream",
     "text": [
      "Wells held out for testing: ['I14' 'J21']\n",
      "Wells to use for training, validation, and testing ['B14' 'C14' 'B15' 'C15' 'J14' 'I15' 'J15' 'J16' 'J17' 'J20']\n"
     ]
    }
   ],
   "source": [
    "np.random.seed(seed=0)\n",
    "wells_to_hold = (\n",
    "    df.groupby(\"oneb_Metadata_Treatment_Dose_Inhibitor_Dose\")\n",
    "    .agg(np.random.choice)[\"Metadata_Well\"]\n",
    "    .to_list()\n",
    ")\n",
    "df_holdout = df[df[\"Metadata_Well\"].isin(wells_to_hold)]\n",
    "df = df[~df[\"Metadata_Well\"].isin(wells_to_hold)]\n",
    "\n",
    "\n",
    "print(\"Wells held out for testing:\", df_holdout[\"Metadata_Well\"].unique())\n",
    "print(\n",
    "    \"Wells to use for training, validation, and testing\", df[\"Metadata_Well\"].unique()\n",
    ")"
   ]
  },
  {
   "cell_type": "code",
   "execution_count": 7,
   "id": "786e3a76",
   "metadata": {
    "execution": {
     "iopub.execute_input": "2023-08-06T05:29:33.918497Z",
     "iopub.status.busy": "2023-08-06T05:29:33.918132Z",
     "iopub.status.idle": "2023-08-06T05:29:34.222857Z",
     "shell.execute_reply": "2023-08-06T05:29:34.222348Z"
    },
    "papermill": {
     "duration": 0.311452,
     "end_time": "2023-08-06T05:29:34.224180",
     "exception": false,
     "start_time": "2023-08-06T05:29:33.912728",
     "status": "completed"
    },
    "tags": []
   },
   "outputs": [],
   "source": [
    "# Code snippet for metadata extraction by Jenna Tomkinson\n",
    "df_metadata = list(df.columns[df.columns.str.startswith(\"Metadata\")])\n",
    "\n",
    "# define which columns are data and which are descriptive\n",
    "df_descriptive = df[df_metadata]\n",
    "df_values = df.drop(columns=df_metadata)"
   ]
  },
  {
   "cell_type": "code",
   "execution_count": 8,
   "id": "595afb65",
   "metadata": {
    "execution": {
     "iopub.execute_input": "2023-08-06T05:29:34.235047Z",
     "iopub.status.busy": "2023-08-06T05:29:34.234534Z",
     "iopub.status.idle": "2023-08-06T05:29:34.587541Z",
     "shell.execute_reply": "2023-08-06T05:29:34.587031Z"
    },
    "papermill": {
     "duration": 0.359844,
     "end_time": "2023-08-06T05:29:34.588903",
     "exception": false,
     "start_time": "2023-08-06T05:29:34.229059",
     "status": "completed"
    },
    "tags": []
   },
   "outputs": [],
   "source": [
    "# Creating label encoder\n",
    "le = preprocessing.LabelEncoder()\n",
    "# Converting strings into numbers\n",
    "df_values[\"oneb_Metadata_Treatment_Dose_Inhibitor_Dose\"] = le.fit_transform(\n",
    "    df_values[\"oneb_Metadata_Treatment_Dose_Inhibitor_Dose\"]\n",
    ")\n",
    "# split into X and Y where Y are the predictive column and x are the observable data\n",
    "df_values_X = df_values.drop(\n",
    "    [\n",
    "        \"oneb_Metadata_Treatment_Dose_Inhibitor_Dose\",\n",
    "        \"twob_Metadata_Treatment_Dose_Inhibitor_Dose\",\n",
    "        \"threeb_Metadata_Treatment_Dose_Inhibitor_Dose\",\n",
    "        \"fourb_Metadata_Treatment_Dose_Inhibitor_Dose\",\n",
    "    ],\n",
    "    axis=1,\n",
    ")\n",
    "df_values_Y = df_values[\"oneb_Metadata_Treatment_Dose_Inhibitor_Dose\"]"
   ]
  },
  {
   "attachments": {},
   "cell_type": "markdown",
   "id": "260a048e",
   "metadata": {
    "papermill": {
     "duration": 0.004607,
     "end_time": "2023-08-06T05:29:34.599076",
     "exception": false,
     "start_time": "2023-08-06T05:29:34.594469",
     "status": "completed"
    },
    "tags": []
   },
   "source": [
    "#### Split Data - All Models can proceed through this point"
   ]
  },
  {
   "cell_type": "code",
   "execution_count": 9,
   "id": "f4feb87f",
   "metadata": {
    "execution": {
     "iopub.execute_input": "2023-08-06T05:29:34.609270Z",
     "iopub.status.busy": "2023-08-06T05:29:34.608901Z",
     "iopub.status.idle": "2023-08-06T05:29:38.108413Z",
     "shell.execute_reply": "2023-08-06T05:29:38.107910Z"
    },
    "papermill": {
     "duration": 3.50601,
     "end_time": "2023-08-06T05:29:38.109741",
     "exception": false,
     "start_time": "2023-08-06T05:29:34.603731",
     "status": "completed"
    },
    "tags": []
   },
   "outputs": [],
   "source": [
    "X_train, X_test, X_val, Y_train, Y_test, Y_val = data_split(\n",
    "    X_vals=df_values_X,\n",
    "    y_vals=df_values_Y,\n",
    "    train_proportion=0.8,\n",
    "    val_proportion=0.1,\n",
    "    test_proportion=0.1,\n",
    "    seed=1,\n",
    "    params=params,\n",
    ")"
   ]
  },
  {
   "cell_type": "code",
   "execution_count": 10,
   "id": "36894826",
   "metadata": {
    "execution": {
     "iopub.execute_input": "2023-08-06T05:29:38.120755Z",
     "iopub.status.busy": "2023-08-06T05:29:38.120394Z",
     "iopub.status.idle": "2023-08-06T05:29:38.207360Z",
     "shell.execute_reply": "2023-08-06T05:29:38.206833Z"
    },
    "papermill": {
     "duration": 0.093498,
     "end_time": "2023-08-06T05:29:38.208610",
     "exception": false,
     "start_time": "2023-08-06T05:29:38.115112",
     "status": "completed"
    },
    "tags": []
   },
   "outputs": [],
   "source": [
    "# produce data objects for train, val and test datasets\n",
    "train_data = Dataset_formatter(\n",
    "    torch.FloatTensor(X_train.values), torch.FloatTensor(Y_train.values)\n",
    ")\n",
    "val_data = Dataset_formatter(\n",
    "    torch.FloatTensor(X_val.values), torch.FloatTensor(Y_val.values)\n",
    ")\n",
    "test_data = Dataset_formatter(\n",
    "    torch.FloatTensor(X_test.values), torch.FloatTensor(Y_test.values)\n",
    ")"
   ]
  },
  {
   "cell_type": "code",
   "execution_count": 11,
   "id": "4382d712",
   "metadata": {
    "execution": {
     "iopub.execute_input": "2023-08-06T05:29:38.219174Z",
     "iopub.status.busy": "2023-08-06T05:29:38.218823Z",
     "iopub.status.idle": "2023-08-06T05:29:38.223877Z",
     "shell.execute_reply": "2023-08-06T05:29:38.223480Z"
    },
    "papermill": {
     "duration": 0.011186,
     "end_time": "2023-08-06T05:29:38.224794",
     "exception": false,
     "start_time": "2023-08-06T05:29:38.213608",
     "status": "completed"
    },
    "tags": []
   },
   "outputs": [
    {
     "name": "stdout",
     "output_type": "stream",
     "text": [
      "Number of in features:  1251\n",
      "Number of out features:  2\n",
      "Binary_Classification\n"
     ]
    }
   ],
   "source": [
    "mlp_params.IN_FEATURES = X_train.shape[1]\n",
    "print(\"Number of in features: \", mlp_params.IN_FEATURES)\n",
    "if mlp_params.MODEL_TYPE == \"Regression\":\n",
    "    mlp_params.OUT_FEATURES = 1\n",
    "else:\n",
    "    mlp_params.OUT_FEATURES = len(\n",
    "        df_values[\"oneb_Metadata_Treatment_Dose_Inhibitor_Dose\"].unique()\n",
    "    )\n",
    "\n",
    "print(\"Number of out features: \", mlp_params.OUT_FEATURES)\n",
    "\n",
    "if mlp_params.OUT_FEATURES > 2:\n",
    "    mlp_params.MODEL_TYPE = \"Multi_Class\"\n",
    "elif mlp_params.OUT_FEATURES == 2:\n",
    "    mlp_params.OUT_FEATURES = mlp_params.OUT_FEATURES - 1\n",
    "    mlp_params.MODEL_TYPE = \"Binary_Classification\"\n",
    "elif mlp_params.OUT_FEATURES == 1:\n",
    "    mlp_params.MODEL_TYPE = \"Regression\"\n",
    "else:\n",
    "    pass\n",
    "print(mlp_params.MODEL_TYPE)"
   ]
  },
  {
   "cell_type": "code",
   "execution_count": 12,
   "id": "77effa5c",
   "metadata": {
    "execution": {
     "iopub.execute_input": "2023-08-06T05:29:38.234900Z",
     "iopub.status.busy": "2023-08-06T05:29:38.234608Z",
     "iopub.status.idle": "2023-08-06T05:29:38.237547Z",
     "shell.execute_reply": "2023-08-06T05:29:38.237153Z"
    },
    "papermill": {
     "duration": 0.008969,
     "end_time": "2023-08-06T05:29:38.238513",
     "exception": false,
     "start_time": "2023-08-06T05:29:38.229544",
     "status": "completed"
    },
    "tags": []
   },
   "outputs": [],
   "source": [
    "# convert data class into a dataloader to be compatible with pytorch\n",
    "train_loader = torch.utils.data.DataLoader(\n",
    "    dataset=train_data, batch_size=mlp_params.BATCH_SIZE\n",
    ")\n",
    "valid_loader = torch.utils.data.DataLoader(\n",
    "    dataset=val_data, batch_size=mlp_params.BATCH_SIZE\n",
    ")\n",
    "test_loader = torch.utils.data.DataLoader(\n",
    "    dataset=test_data, batch_size=1, shuffle=mlp_params.SHUFFLE\n",
    ")"
   ]
  },
  {
   "cell_type": "code",
   "execution_count": 13,
   "id": "cb7635c8",
   "metadata": {
    "execution": {
     "iopub.execute_input": "2023-08-06T05:29:38.248235Z",
     "iopub.status.busy": "2023-08-06T05:29:38.248086Z",
     "iopub.status.idle": "2023-08-06T05:29:38.250524Z",
     "shell.execute_reply": "2023-08-06T05:29:38.250146Z"
    },
    "papermill": {
     "duration": 0.008285,
     "end_time": "2023-08-06T05:29:38.251402",
     "exception": false,
     "start_time": "2023-08-06T05:29:38.243117",
     "status": "completed"
    },
    "tags": []
   },
   "outputs": [
    {
     "name": "stdout",
     "output_type": "stream",
     "text": [
      "cuda\n"
     ]
    }
   ],
   "source": [
    "print(mlp_params.DEVICE)"
   ]
  },
  {
   "cell_type": "code",
   "execution_count": 14,
   "id": "a969042f",
   "metadata": {
    "execution": {
     "iopub.execute_input": "2023-08-06T05:29:38.269729Z",
     "iopub.status.busy": "2023-08-06T05:29:38.269483Z",
     "iopub.status.idle": "2023-08-06T05:45:52.357257Z",
     "shell.execute_reply": "2023-08-06T05:45:52.356779Z"
    },
    "papermill": {
     "duration": 974.106841,
     "end_time": "2023-08-06T05:45:52.366898",
     "exception": false,
     "start_time": "2023-08-06T05:29:38.260057",
     "status": "completed"
    },
    "tags": []
   },
   "outputs": [
    {
     "name": "stderr",
     "output_type": "stream",
     "text": [
      "[I 2023-08-15 13:05:10,019] A new study created in memory with name: no-name-2d977734-5519-4eff-be4a-dbb10581efd0\n",
      "[I 2023-08-15 13:05:25,019] Trial 0 finished with value: 0.1994324232637882 and parameters: {'n_layers': 1, 'n_units_l0': 6, 'dropout_0': 0.37894924738403113, 'learning_rate': 0.05058014856034763, 'optimizer': 'RMSprop'}. Best is trial 0 with value: 0.1994324232637882.\n",
      "[I 2023-08-15 13:05:39,031] Trial 1 finished with value: 0.3409743363261223 and parameters: {'n_layers': 2, 'n_units_l0': 2, 'dropout_0': 0.26439603066674366, 'n_units_l1': 10, 'dropout_1': 0.3466685006601866, 'learning_rate': 0.06225394686643844, 'optimizer': 'RMSprop'}. Best is trial 0 with value: 0.1994324232637882.\n",
      "[I 2023-08-15 13:05:53,380] Trial 2 finished with value: 0.12675905480980873 and parameters: {'n_layers': 2, 'n_units_l0': 8, 'dropout_0': 0.2756550169725023, 'n_units_l1': 4, 'dropout_1': 0.22257959549298373, 'learning_rate': 0.018229732076569135, 'optimizer': 'Adam'}. Best is trial 2 with value: 0.12675905480980873.\n",
      "[I 2023-08-15 13:06:07,420] Trial 3 finished with value: 0.37079381060600275 and parameters: {'n_layers': 2, 'n_units_l0': 3, 'dropout_0': 0.3608943169179476, 'n_units_l1': 2, 'dropout_1': 0.3405745793921961, 'learning_rate': 0.05835612525388005, 'optimizer': 'SGD'}. Best is trial 2 with value: 0.12675905480980873.\n",
      "[I 2023-08-15 13:06:21,213] Trial 4 finished with value: 0.15749334025382997 and parameters: {'n_layers': 1, 'n_units_l0': 10, 'dropout_0': 0.37247821307673146, 'learning_rate': 0.02039866506666952, 'optimizer': 'RMSprop'}. Best is trial 2 with value: 0.12675905480980873.\n",
      "[I 2023-08-15 13:06:35,468] Trial 5 finished with value: 0.21793351879715922 and parameters: {'n_layers': 3, 'n_units_l0': 7, 'dropout_0': 0.13925138249229713, 'n_units_l1': 8, 'dropout_1': 0.30959965541315393, 'n_units_l2': 10, 'dropout_2': 0.30396765198368336, 'learning_rate': 0.014059261177571945, 'optimizer': 'RMSprop'}. Best is trial 2 with value: 0.12675905480980873.\n",
      "[I 2023-08-15 13:06:49,178] Trial 6 finished with value: 0.1286750885248184 and parameters: {'n_layers': 1, 'n_units_l0': 3, 'dropout_0': 0.1273439407450089, 'learning_rate': 0.03022069289317373, 'optimizer': 'Adam'}. Best is trial 2 with value: 0.12675905480980873.\n",
      "[I 2023-08-15 13:06:49,421] Trial 7 pruned. \n",
      "[I 2023-08-15 13:06:49,742] Trial 8 pruned. \n",
      "[I 2023-08-15 13:06:51,930] Trial 9 pruned. \n"
     ]
    },
    {
     "name": "stdout",
     "output_type": "stream",
     "text": [
      "Validation Accuracy: 95.73798921959222\n",
      "Validation Loss: 0.1232600196003914\n",
      "Training Accuracy: 94.64711569448922\n",
      "Training Loss: 0.137969322008746\n"
     ]
    },
    {
     "data": {
      "text/plain": [
       "(95.73798921959222, 0.1232600196003914, 94.64711569448922, 0.137969322008746)"
      ]
     },
     "execution_count": 14,
     "metadata": {},
     "output_type": "execute_result"
    }
   ],
   "source": [
    "# no accuracy function must be loss for regression\n",
    "if mlp_params.MODEL_TYPE == \"Regression\":\n",
    "    mlp_params.METRIC = \"loss\"\n",
    "    pass\n",
    "\n",
    "\n",
    "# wrap the objective function inside of a lambda function to pass args...\n",
    "objective_lambda_func = lambda trial: objective_model_optimizer(\n",
    "    train_loader,\n",
    "    valid_loader,\n",
    "    trial=trial,\n",
    "    params=params,\n",
    "    metric=mlp_params.METRIC,\n",
    "    return_info=False,\n",
    ")\n",
    "\n",
    "\n",
    "# Study is the object for model optimization\n",
    "study = optuna.create_study(direction=f\"{mlp_params.DIRECTION}\")\n",
    "# Here I apply the optimize function of the study to the objective function\n",
    "# This optimizes each parameter specified to be optimized from the defined search space\n",
    "study.optimize(objective_lambda_func, n_trials=mlp_params.N_TRIALS)\n",
    "# Prints out the best trial's optimized parameters\n",
    "objective_model_optimizer(\n",
    "    train_loader,\n",
    "    valid_loader,\n",
    "    trial=study.best_trial,\n",
    "    params=params,\n",
    "    metric=mlp_params.METRIC,\n",
    "    return_info=True,\n",
    ")"
   ]
  },
  {
   "cell_type": "code",
   "execution_count": 15,
   "id": "b2620589",
   "metadata": {
    "execution": {
     "iopub.execute_input": "2023-08-06T05:45:52.393419Z",
     "iopub.status.busy": "2023-08-06T05:45:52.393224Z",
     "iopub.status.idle": "2023-08-06T05:45:53.529740Z",
     "shell.execute_reply": "2023-08-06T05:45:53.529256Z"
    },
    "papermill": {
     "duration": 1.180018,
     "end_time": "2023-08-06T05:45:53.567009",
     "exception": false,
     "start_time": "2023-08-06T05:45:52.386991",
     "status": "completed"
    },
    "tags": []
   },
   "outputs": [
    {
     "data": {
      "application/vnd.plotly.v1+json": {
       "config": {
        "plotlyServerURL": "https://plot.ly"
       },
       "data": [
        {
         "mode": "markers",
         "name": "Objective Value",
         "type": "scatter",
         "x": [
          0,
          1,
          2,
          3,
          4,
          5,
          6
         ],
         "y": [
          0.1994324232637882,
          0.3409743363261223,
          0.12675905480980873,
          0.37079381060600275,
          0.15749334025382997,
          0.21793351879715922,
          0.1286750885248184
         ]
        },
        {
         "name": "Best Value",
         "type": "scatter",
         "x": [
          0,
          1,
          2,
          3,
          4,
          5,
          6
         ],
         "y": [
          0.1994324232637882,
          0.1994324232637882,
          0.12675905480980873,
          0.12675905480980873,
          0.12675905480980873,
          0.12675905480980873,
          0.12675905480980873
         ]
        }
       ],
       "layout": {
        "template": {
         "data": {
          "bar": [
           {
            "error_x": {
             "color": "#2a3f5f"
            },
            "error_y": {
             "color": "#2a3f5f"
            },
            "marker": {
             "line": {
              "color": "#E5ECF6",
              "width": 0.5
             },
             "pattern": {
              "fillmode": "overlay",
              "size": 10,
              "solidity": 0.2
             }
            },
            "type": "bar"
           }
          ],
          "barpolar": [
           {
            "marker": {
             "line": {
              "color": "#E5ECF6",
              "width": 0.5
             },
             "pattern": {
              "fillmode": "overlay",
              "size": 10,
              "solidity": 0.2
             }
            },
            "type": "barpolar"
           }
          ],
          "carpet": [
           {
            "aaxis": {
             "endlinecolor": "#2a3f5f",
             "gridcolor": "white",
             "linecolor": "white",
             "minorgridcolor": "white",
             "startlinecolor": "#2a3f5f"
            },
            "baxis": {
             "endlinecolor": "#2a3f5f",
             "gridcolor": "white",
             "linecolor": "white",
             "minorgridcolor": "white",
             "startlinecolor": "#2a3f5f"
            },
            "type": "carpet"
           }
          ],
          "choropleth": [
           {
            "colorbar": {
             "outlinewidth": 0,
             "ticks": ""
            },
            "type": "choropleth"
           }
          ],
          "contour": [
           {
            "colorbar": {
             "outlinewidth": 0,
             "ticks": ""
            },
            "colorscale": [
             [
              0,
              "#0d0887"
             ],
             [
              0.1111111111111111,
              "#46039f"
             ],
             [
              0.2222222222222222,
              "#7201a8"
             ],
             [
              0.3333333333333333,
              "#9c179e"
             ],
             [
              0.4444444444444444,
              "#bd3786"
             ],
             [
              0.5555555555555556,
              "#d8576b"
             ],
             [
              0.6666666666666666,
              "#ed7953"
             ],
             [
              0.7777777777777778,
              "#fb9f3a"
             ],
             [
              0.8888888888888888,
              "#fdca26"
             ],
             [
              1,
              "#f0f921"
             ]
            ],
            "type": "contour"
           }
          ],
          "contourcarpet": [
           {
            "colorbar": {
             "outlinewidth": 0,
             "ticks": ""
            },
            "type": "contourcarpet"
           }
          ],
          "heatmap": [
           {
            "colorbar": {
             "outlinewidth": 0,
             "ticks": ""
            },
            "colorscale": [
             [
              0,
              "#0d0887"
             ],
             [
              0.1111111111111111,
              "#46039f"
             ],
             [
              0.2222222222222222,
              "#7201a8"
             ],
             [
              0.3333333333333333,
              "#9c179e"
             ],
             [
              0.4444444444444444,
              "#bd3786"
             ],
             [
              0.5555555555555556,
              "#d8576b"
             ],
             [
              0.6666666666666666,
              "#ed7953"
             ],
             [
              0.7777777777777778,
              "#fb9f3a"
             ],
             [
              0.8888888888888888,
              "#fdca26"
             ],
             [
              1,
              "#f0f921"
             ]
            ],
            "type": "heatmap"
           }
          ],
          "heatmapgl": [
           {
            "colorbar": {
             "outlinewidth": 0,
             "ticks": ""
            },
            "colorscale": [
             [
              0,
              "#0d0887"
             ],
             [
              0.1111111111111111,
              "#46039f"
             ],
             [
              0.2222222222222222,
              "#7201a8"
             ],
             [
              0.3333333333333333,
              "#9c179e"
             ],
             [
              0.4444444444444444,
              "#bd3786"
             ],
             [
              0.5555555555555556,
              "#d8576b"
             ],
             [
              0.6666666666666666,
              "#ed7953"
             ],
             [
              0.7777777777777778,
              "#fb9f3a"
             ],
             [
              0.8888888888888888,
              "#fdca26"
             ],
             [
              1,
              "#f0f921"
             ]
            ],
            "type": "heatmapgl"
           }
          ],
          "histogram": [
           {
            "marker": {
             "pattern": {
              "fillmode": "overlay",
              "size": 10,
              "solidity": 0.2
             }
            },
            "type": "histogram"
           }
          ],
          "histogram2d": [
           {
            "colorbar": {
             "outlinewidth": 0,
             "ticks": ""
            },
            "colorscale": [
             [
              0,
              "#0d0887"
             ],
             [
              0.1111111111111111,
              "#46039f"
             ],
             [
              0.2222222222222222,
              "#7201a8"
             ],
             [
              0.3333333333333333,
              "#9c179e"
             ],
             [
              0.4444444444444444,
              "#bd3786"
             ],
             [
              0.5555555555555556,
              "#d8576b"
             ],
             [
              0.6666666666666666,
              "#ed7953"
             ],
             [
              0.7777777777777778,
              "#fb9f3a"
             ],
             [
              0.8888888888888888,
              "#fdca26"
             ],
             [
              1,
              "#f0f921"
             ]
            ],
            "type": "histogram2d"
           }
          ],
          "histogram2dcontour": [
           {
            "colorbar": {
             "outlinewidth": 0,
             "ticks": ""
            },
            "colorscale": [
             [
              0,
              "#0d0887"
             ],
             [
              0.1111111111111111,
              "#46039f"
             ],
             [
              0.2222222222222222,
              "#7201a8"
             ],
             [
              0.3333333333333333,
              "#9c179e"
             ],
             [
              0.4444444444444444,
              "#bd3786"
             ],
             [
              0.5555555555555556,
              "#d8576b"
             ],
             [
              0.6666666666666666,
              "#ed7953"
             ],
             [
              0.7777777777777778,
              "#fb9f3a"
             ],
             [
              0.8888888888888888,
              "#fdca26"
             ],
             [
              1,
              "#f0f921"
             ]
            ],
            "type": "histogram2dcontour"
           }
          ],
          "mesh3d": [
           {
            "colorbar": {
             "outlinewidth": 0,
             "ticks": ""
            },
            "type": "mesh3d"
           }
          ],
          "parcoords": [
           {
            "line": {
             "colorbar": {
              "outlinewidth": 0,
              "ticks": ""
             }
            },
            "type": "parcoords"
           }
          ],
          "pie": [
           {
            "automargin": true,
            "type": "pie"
           }
          ],
          "scatter": [
           {
            "fillpattern": {
             "fillmode": "overlay",
             "size": 10,
             "solidity": 0.2
            },
            "type": "scatter"
           }
          ],
          "scatter3d": [
           {
            "line": {
             "colorbar": {
              "outlinewidth": 0,
              "ticks": ""
             }
            },
            "marker": {
             "colorbar": {
              "outlinewidth": 0,
              "ticks": ""
             }
            },
            "type": "scatter3d"
           }
          ],
          "scattercarpet": [
           {
            "marker": {
             "colorbar": {
              "outlinewidth": 0,
              "ticks": ""
             }
            },
            "type": "scattercarpet"
           }
          ],
          "scattergeo": [
           {
            "marker": {
             "colorbar": {
              "outlinewidth": 0,
              "ticks": ""
             }
            },
            "type": "scattergeo"
           }
          ],
          "scattergl": [
           {
            "marker": {
             "colorbar": {
              "outlinewidth": 0,
              "ticks": ""
             }
            },
            "type": "scattergl"
           }
          ],
          "scattermapbox": [
           {
            "marker": {
             "colorbar": {
              "outlinewidth": 0,
              "ticks": ""
             }
            },
            "type": "scattermapbox"
           }
          ],
          "scatterpolar": [
           {
            "marker": {
             "colorbar": {
              "outlinewidth": 0,
              "ticks": ""
             }
            },
            "type": "scatterpolar"
           }
          ],
          "scatterpolargl": [
           {
            "marker": {
             "colorbar": {
              "outlinewidth": 0,
              "ticks": ""
             }
            },
            "type": "scatterpolargl"
           }
          ],
          "scatterternary": [
           {
            "marker": {
             "colorbar": {
              "outlinewidth": 0,
              "ticks": ""
             }
            },
            "type": "scatterternary"
           }
          ],
          "surface": [
           {
            "colorbar": {
             "outlinewidth": 0,
             "ticks": ""
            },
            "colorscale": [
             [
              0,
              "#0d0887"
             ],
             [
              0.1111111111111111,
              "#46039f"
             ],
             [
              0.2222222222222222,
              "#7201a8"
             ],
             [
              0.3333333333333333,
              "#9c179e"
             ],
             [
              0.4444444444444444,
              "#bd3786"
             ],
             [
              0.5555555555555556,
              "#d8576b"
             ],
             [
              0.6666666666666666,
              "#ed7953"
             ],
             [
              0.7777777777777778,
              "#fb9f3a"
             ],
             [
              0.8888888888888888,
              "#fdca26"
             ],
             [
              1,
              "#f0f921"
             ]
            ],
            "type": "surface"
           }
          ],
          "table": [
           {
            "cells": {
             "fill": {
              "color": "#EBF0F8"
             },
             "line": {
              "color": "white"
             }
            },
            "header": {
             "fill": {
              "color": "#C8D4E3"
             },
             "line": {
              "color": "white"
             }
            },
            "type": "table"
           }
          ]
         },
         "layout": {
          "annotationdefaults": {
           "arrowcolor": "#2a3f5f",
           "arrowhead": 0,
           "arrowwidth": 1
          },
          "autotypenumbers": "strict",
          "coloraxis": {
           "colorbar": {
            "outlinewidth": 0,
            "ticks": ""
           }
          },
          "colorscale": {
           "diverging": [
            [
             0,
             "#8e0152"
            ],
            [
             0.1,
             "#c51b7d"
            ],
            [
             0.2,
             "#de77ae"
            ],
            [
             0.3,
             "#f1b6da"
            ],
            [
             0.4,
             "#fde0ef"
            ],
            [
             0.5,
             "#f7f7f7"
            ],
            [
             0.6,
             "#e6f5d0"
            ],
            [
             0.7,
             "#b8e186"
            ],
            [
             0.8,
             "#7fbc41"
            ],
            [
             0.9,
             "#4d9221"
            ],
            [
             1,
             "#276419"
            ]
           ],
           "sequential": [
            [
             0,
             "#0d0887"
            ],
            [
             0.1111111111111111,
             "#46039f"
            ],
            [
             0.2222222222222222,
             "#7201a8"
            ],
            [
             0.3333333333333333,
             "#9c179e"
            ],
            [
             0.4444444444444444,
             "#bd3786"
            ],
            [
             0.5555555555555556,
             "#d8576b"
            ],
            [
             0.6666666666666666,
             "#ed7953"
            ],
            [
             0.7777777777777778,
             "#fb9f3a"
            ],
            [
             0.8888888888888888,
             "#fdca26"
            ],
            [
             1,
             "#f0f921"
            ]
           ],
           "sequentialminus": [
            [
             0,
             "#0d0887"
            ],
            [
             0.1111111111111111,
             "#46039f"
            ],
            [
             0.2222222222222222,
             "#7201a8"
            ],
            [
             0.3333333333333333,
             "#9c179e"
            ],
            [
             0.4444444444444444,
             "#bd3786"
            ],
            [
             0.5555555555555556,
             "#d8576b"
            ],
            [
             0.6666666666666666,
             "#ed7953"
            ],
            [
             0.7777777777777778,
             "#fb9f3a"
            ],
            [
             0.8888888888888888,
             "#fdca26"
            ],
            [
             1,
             "#f0f921"
            ]
           ]
          },
          "colorway": [
           "#636efa",
           "#EF553B",
           "#00cc96",
           "#ab63fa",
           "#FFA15A",
           "#19d3f3",
           "#FF6692",
           "#B6E880",
           "#FF97FF",
           "#FECB52"
          ],
          "font": {
           "color": "#2a3f5f"
          },
          "geo": {
           "bgcolor": "white",
           "lakecolor": "white",
           "landcolor": "#E5ECF6",
           "showlakes": true,
           "showland": true,
           "subunitcolor": "white"
          },
          "hoverlabel": {
           "align": "left"
          },
          "hovermode": "closest",
          "mapbox": {
           "style": "light"
          },
          "paper_bgcolor": "white",
          "plot_bgcolor": "#E5ECF6",
          "polar": {
           "angularaxis": {
            "gridcolor": "white",
            "linecolor": "white",
            "ticks": ""
           },
           "bgcolor": "#E5ECF6",
           "radialaxis": {
            "gridcolor": "white",
            "linecolor": "white",
            "ticks": ""
           }
          },
          "scene": {
           "xaxis": {
            "backgroundcolor": "#E5ECF6",
            "gridcolor": "white",
            "gridwidth": 2,
            "linecolor": "white",
            "showbackground": true,
            "ticks": "",
            "zerolinecolor": "white"
           },
           "yaxis": {
            "backgroundcolor": "#E5ECF6",
            "gridcolor": "white",
            "gridwidth": 2,
            "linecolor": "white",
            "showbackground": true,
            "ticks": "",
            "zerolinecolor": "white"
           },
           "zaxis": {
            "backgroundcolor": "#E5ECF6",
            "gridcolor": "white",
            "gridwidth": 2,
            "linecolor": "white",
            "showbackground": true,
            "ticks": "",
            "zerolinecolor": "white"
           }
          },
          "shapedefaults": {
           "line": {
            "color": "#2a3f5f"
           }
          },
          "ternary": {
           "aaxis": {
            "gridcolor": "white",
            "linecolor": "white",
            "ticks": ""
           },
           "baxis": {
            "gridcolor": "white",
            "linecolor": "white",
            "ticks": ""
           },
           "bgcolor": "#E5ECF6",
           "caxis": {
            "gridcolor": "white",
            "linecolor": "white",
            "ticks": ""
           }
          },
          "title": {
           "x": 0.05
          },
          "xaxis": {
           "automargin": true,
           "gridcolor": "white",
           "linecolor": "white",
           "ticks": "",
           "title": {
            "standoff": 15
           },
           "zerolinecolor": "white",
           "zerolinewidth": 2
          },
          "yaxis": {
           "automargin": true,
           "gridcolor": "white",
           "linecolor": "white",
           "ticks": "",
           "title": {
            "standoff": 15
           },
           "zerolinecolor": "white",
           "zerolinewidth": 2
          }
         }
        },
        "title": {
         "text": "Optimization History Plot"
        },
        "xaxis": {
         "title": {
          "text": "Trial"
         }
        },
        "yaxis": {
         "title": {
          "text": "Objective Value"
         }
        }
       }
      }
     },
     "metadata": {},
     "output_type": "display_data"
    }
   ],
   "source": [
    "# create graph directory for this model\n",
    "graph_path = pathlib.Path(\n",
    "    f\"../../figures/{mlp_params.MODEL_TYPE}/{mlp_params.MODEL_NAME}/{mlp_params.CELL_TYPE}/hyperparameter_optimization\"\n",
    ").resolve(strict=True)\n",
    "\n",
    "pathlib.Path(graph_path).mkdir(parents=True, exist_ok=True)\n",
    "fig = optuna.visualization.plot_optimization_history(study)\n",
    "\n",
    "\n",
    "graph_path = f\"{graph_path}/plot_optimization_history_graph\"\n",
    "\n",
    "fig.write_image(pathlib.Path(f\"{graph_path}.png\"))\n",
    "fig.show()"
   ]
  },
  {
   "cell_type": "code",
   "execution_count": 16,
   "id": "92103de1",
   "metadata": {
    "execution": {
     "iopub.execute_input": "2023-08-06T05:45:53.632524Z",
     "iopub.status.busy": "2023-08-06T05:45:53.632052Z",
     "iopub.status.idle": "2023-08-06T05:45:53.723082Z",
     "shell.execute_reply": "2023-08-06T05:45:53.722632Z"
    },
    "papermill": {
     "duration": 0.125349,
     "end_time": "2023-08-06T05:45:53.724551",
     "exception": false,
     "start_time": "2023-08-06T05:45:53.599202",
     "status": "completed"
    },
    "tags": []
   },
   "outputs": [
    {
     "data": {
      "application/vnd.plotly.v1+json": {
       "config": {
        "plotlyServerURL": "https://plot.ly"
       },
       "data": [
        {
         "marker": {
          "maxdisplayed": 10
         },
         "mode": "lines+markers",
         "name": "Trial0",
         "type": "scatter",
         "x": [
          0,
          1,
          2,
          3,
          4,
          5,
          6,
          7,
          8,
          9,
          10,
          11,
          12,
          13,
          14,
          15,
          16,
          17,
          18,
          19,
          20,
          21,
          22,
          23,
          24,
          25,
          26,
          27,
          28,
          29,
          30,
          31,
          32,
          33,
          34,
          35,
          36,
          37,
          38,
          39,
          40,
          41,
          42,
          43,
          44,
          45,
          46,
          47,
          48,
          49
         ],
         "y": [
          0.4030491948127747,
          0.36427719295024874,
          0.3313306172688802,
          0.30576053708791734,
          0.3184134364128113,
          0.3051665355761846,
          0.28619167038372584,
          0.27432314567267896,
          0.2636760711669922,
          0.25994996756315236,
          0.2526188064705242,
          0.24347979115943116,
          0.23562045383911867,
          0.22972398687686238,
          0.22436308175325392,
          0.22301045423373578,
          0.21865498914438133,
          0.2197712747587098,
          0.21689272146475944,
          0.21365385487675667,
          0.21134233595359891,
          0.2082211844623089,
          0.20642315311276396,
          0.20457456316798925,
          0.20444419199228286,
          0.20173228772786947,
          0.200771713036078,
          0.20101517853992326,
          0.2018427923835557,
          0.20171812574068707,
          0.202483225157184,
          0.20124180694110694,
          0.20158419342655126,
          0.20153913221815056,
          0.2011227103216308,
          0.20098747747639817,
          0.19982376791335443,
          0.20411122409920945,
          0.20395746827125552,
          0.20228624314069749,
          0.20163878398697552,
          0.20107099222285407,
          0.19977507085301155,
          0.2000723832710223,
          0.20040477861960732,
          0.20141354148154675,
          0.20151337201290945,
          0.2014663894660771,
          0.20032808795875434,
          0.1994324232637882
         ]
        },
        {
         "marker": {
          "maxdisplayed": 10
         },
         "mode": "lines+markers",
         "name": "Trial1",
         "type": "scatter",
         "x": [
          0,
          1,
          2,
          3,
          4,
          5,
          6,
          7,
          8,
          9,
          10,
          11,
          12,
          13,
          14,
          15,
          16,
          17,
          18,
          19,
          20,
          21,
          22,
          23,
          24,
          25,
          26,
          27,
          28,
          29,
          30,
          31,
          32,
          33,
          34,
          35,
          36,
          37,
          38,
          39,
          40,
          41,
          42,
          43,
          44,
          45,
          46,
          47,
          48,
          49
         ],
         "y": [
          0.5573901057243347,
          0.55734623670578,
          0.5503095904986063,
          0.5429327502846717,
          0.5360595762729644,
          0.5272577315568924,
          0.518017736503056,
          0.5073696628212928,
          0.4984926395946078,
          0.4913562220335006,
          0.48325536034323946,
          0.47673489948113756,
          0.4683092241103832,
          0.460174936056137,
          0.455757512251536,
          0.44759972803294656,
          0.44564234684495363,
          0.4380317933029599,
          0.43173759579658505,
          0.42542280882596967,
          0.41962657570838924,
          0.4148157981309023,
          0.4094475976798844,
          0.4050115498403708,
          0.4003564984798431,
          0.39614036392707086,
          0.392751403539269,
          0.38932774865201536,
          0.3851493345252398,
          0.38205303341150276,
          0.3787395618615611,
          0.3755110767669976,
          0.37270429865880444,
          0.36989185871446834,
          0.36665531073297775,
          0.3634299636714988,
          0.3613134397848232,
          0.35878890141060477,
          0.35679371876594346,
          0.35499749436974526,
          0.35262613172938184,
          0.3505524887215523,
          0.3492444101461144,
          0.3473305423828688,
          0.3453403183486726,
          0.34349952612234197,
          0.3429226217117715,
          0.34098001786818105,
          0.34219444339372673,
          0.3409743363261223
         ]
        },
        {
         "marker": {
          "maxdisplayed": 10
         },
         "mode": "lines+markers",
         "name": "Trial2",
         "type": "scatter",
         "x": [
          0,
          1,
          2,
          3,
          4,
          5,
          6,
          7,
          8,
          9,
          10,
          11,
          12,
          13,
          14,
          15,
          16,
          17,
          18,
          19,
          20,
          21,
          22,
          23,
          24,
          25,
          26,
          27,
          28,
          29,
          30,
          31,
          32,
          33,
          34,
          35,
          36,
          37,
          38,
          39,
          40,
          41,
          42,
          43,
          44,
          45,
          46,
          47,
          48,
          49
         ],
         "y": [
          0.2312393605709076,
          0.19802308529615403,
          0.1784192353487015,
          0.16715071983635427,
          0.1611908981204033,
          0.15706091125806174,
          0.15371877678803036,
          0.15074935387820004,
          0.14844301789999007,
          0.14675578176975249,
          0.14471427364782852,
          0.14286623038351534,
          0.1415480303076597,
          0.14021644773227823,
          0.13948399146397905,
          0.13787227794528006,
          0.13680477045914707,
          0.13570895145336787,
          0.13498523941165522,
          0.13459921337664124,
          0.13420577652397606,
          0.13352230103178456,
          0.13307104881690893,
          0.1325840417916576,
          0.13235149812698363,
          0.1320716542693285,
          0.13154854526122411,
          0.1309558957282986,
          0.13073772921644408,
          0.13014592816432316,
          0.12979958739972883,
          0.13005568329244854,
          0.1299192270997799,
          0.12991387432112417,
          0.12987228981086188,
          0.12979537227915394,
          0.12942962420953288,
          0.12897765977602257,
          0.12890210411487482,
          0.12851682908833026,
          0.12847122204739872,
          0.1282623121426219,
          0.12834691744904186,
          0.1282187161797827,
          0.1280095393790139,
          0.1277093297113543,
          0.12744772142552316,
          0.12731932665531834,
          0.1269285505523487,
          0.12675905480980873
         ]
        },
        {
         "marker": {
          "maxdisplayed": 10
         },
         "mode": "lines+markers",
         "name": "Trial3",
         "type": "scatter",
         "x": [
          0,
          1,
          2,
          3,
          4,
          5,
          6,
          7,
          8,
          9,
          10,
          11,
          12,
          13,
          14,
          15,
          16,
          17,
          18,
          19,
          20,
          21,
          22,
          23,
          24,
          25,
          26,
          27,
          28,
          29,
          30,
          31,
          32,
          33,
          34,
          35,
          36,
          37,
          38,
          39,
          40,
          41,
          42,
          43,
          44,
          45,
          46,
          47,
          48,
          49
         ],
         "y": [
          0.5735054016113281,
          0.5492688119411469,
          0.5297653079032898,
          0.512829627096653,
          0.49964330196380613,
          0.48876267969608306,
          0.4785997986793518,
          0.47021867930889133,
          0.4614505277739631,
          0.45563179194927217,
          0.4494838871739128,
          0.44368737737337755,
          0.4392667279793666,
          0.43527214101382666,
          0.4312823867797852,
          0.4271953865885735,
          0.42368359215119306,
          0.42112080653508505,
          0.4183048364363218,
          0.41573331475257874,
          0.4123771522726332,
          0.41007954938845204,
          0.40891884591268457,
          0.40592188263932866,
          0.4031845183372498,
          0.40117721649316646,
          0.3989331293989111,
          0.3969772140894618,
          0.39472953368877545,
          0.3928171972433726,
          0.39122680733280796,
          0.38953423704951995,
          0.38894737001621354,
          0.38725250854211685,
          0.38569664427212297,
          0.3841798116763432,
          0.3828655122099695,
          0.38127542687089805,
          0.3809900800387063,
          0.38051998004317283,
          0.3792336466835766,
          0.37812764985220776,
          0.376968484008035,
          0.37573366259986707,
          0.37459042562378786,
          0.3735673003870509,
          0.3731444940922109,
          0.3724754345913728,
          0.37157608185495644,
          0.37079381060600275
         ]
        },
        {
         "marker": {
          "maxdisplayed": 10
         },
         "mode": "lines+markers",
         "name": "Trial4",
         "type": "scatter",
         "x": [
          0,
          1,
          2,
          3,
          4,
          5,
          6,
          7,
          8,
          9,
          10,
          11,
          12,
          13,
          14,
          15,
          16,
          17,
          18,
          19,
          20,
          21,
          22,
          23,
          24,
          25,
          26,
          27,
          28,
          29,
          30,
          31,
          32,
          33,
          34,
          35,
          36,
          37,
          38,
          39,
          40,
          41,
          42,
          43,
          44,
          45,
          46,
          47,
          48,
          49
         ],
         "y": [
          0.2623215734958649,
          0.23656362146139145,
          0.21985273162523908,
          0.20474274531006814,
          0.19706285178661348,
          0.1910774896542231,
          0.1860550944294248,
          0.1807802215218544,
          0.17584691693385443,
          0.17187681719660758,
          0.16940514594316483,
          0.1663886360824108,
          0.16474634042152994,
          0.1639027455023357,
          0.16198587278525037,
          0.160425057541579,
          0.15940351582625334,
          0.15831240473522082,
          0.1570461241822494,
          0.160051935762167,
          0.1600930273532868,
          0.158923697878014,
          0.15870840601299124,
          0.15827338316788275,
          0.15762827974557875,
          0.15694857738338983,
          0.156002729192928,
          0.15524630365627148,
          0.15541306009580347,
          0.1555134163300196,
          0.15706972825911733,
          0.15715725100599232,
          0.1565956976377603,
          0.15628588506404095,
          0.1566992102350508,
          0.15693542402651578,
          0.15758089584273263,
          0.15731169318682273,
          0.15688057763454244,
          0.156620327308774,
          0.15626786020470831,
          0.156100670283749,
          0.15617166511541192,
          0.15597009333697234,
          0.1559516481558482,
          0.15566171916282695,
          0.15572354622343754,
          0.1580914428457618,
          0.15778489258824563,
          0.15749334025382997
         ]
        },
        {
         "marker": {
          "maxdisplayed": 10
         },
         "mode": "lines+markers",
         "name": "Trial5",
         "type": "scatter",
         "x": [
          0,
          1,
          2,
          3,
          4,
          5,
          6,
          7,
          8,
          9,
          10,
          11,
          12,
          13,
          14,
          15,
          16,
          17,
          18,
          19,
          20,
          21,
          22,
          23,
          24,
          25,
          26,
          27,
          28,
          29,
          30,
          31,
          32,
          33,
          34,
          35,
          36,
          37,
          38,
          39,
          40,
          41,
          42,
          43,
          44,
          45,
          46,
          47,
          48,
          49
         ],
         "y": [
          0.31545568704605104,
          0.3017280697822571,
          0.2668723662694295,
          0.24550706446170806,
          0.23161399483680722,
          0.22207086483637492,
          0.21266288736036845,
          0.20456050187349317,
          0.1980434566736221,
          0.19555392026901244,
          0.2058114084330472,
          0.2009835590918859,
          0.19747996192712053,
          0.19756202399730682,
          0.19787628700335821,
          0.1978298150934279,
          0.19777293161434284,
          0.19766638138227993,
          0.1971715915359949,
          0.1968092705309391,
          0.19680509907858712,
          0.20116838623176922,
          0.19978768384974935,
          0.19946203231811524,
          0.19901670157909393,
          0.20047503939041725,
          0.20047387138560968,
          0.20041842737368176,
          0.20011695787824435,
          0.1994429421424866,
          0.1996536345251145,
          0.1999088015407324,
          0.20222200733242615,
          0.20379382959183526,
          0.20357421789850508,
          0.20499291006061768,
          0.20625671679909166,
          0.20812242815369056,
          0.2094381174980066,
          0.21043128177523612,
          0.21283281743526455,
          0.21229906486613406,
          0.2135745278624601,
          0.21445598073981023,
          0.21546301450994276,
          0.21622514847827992,
          0.2167476382027281,
          0.2182104206333558,
          0.21798049281446302,
          0.21793351879715922
         ]
        },
        {
         "marker": {
          "maxdisplayed": 10
         },
         "mode": "lines+markers",
         "name": "Trial6",
         "type": "scatter",
         "x": [
          0,
          1,
          2,
          3,
          4,
          5,
          6,
          7,
          8,
          9,
          10,
          11,
          12,
          13,
          14,
          15,
          16,
          17,
          18,
          19,
          20,
          21,
          22,
          23,
          24,
          25,
          26,
          27,
          28,
          29,
          30,
          31,
          32,
          33,
          34,
          35,
          36,
          37,
          38,
          39,
          40,
          41,
          42,
          43,
          44,
          45,
          46,
          47,
          48,
          49
         ],
         "y": [
          0.332086569070816,
          0.26873368918895724,
          0.23347405294577284,
          0.2113026648759842,
          0.1968080511689186,
          0.18712163741389912,
          0.17853568004710335,
          0.17216427735984324,
          0.166908903254403,
          0.16223393023014068,
          0.1588743357495828,
          0.15523281432688235,
          0.15217845336749003,
          0.1495974221399852,
          0.14801414161920545,
          0.14647164214402436,
          0.14457641559488632,
          0.14302397386895283,
          0.1418469020410588,
          0.14060055039823055,
          0.13916192317292803,
          0.13848101598295298,
          0.13762503829987152,
          0.13701997976750135,
          0.1361452794075012,
          0.1353516304722199,
          0.1350748191829081,
          0.13468103297054768,
          0.1340964025464551,
          0.13348701457182566,
          0.13285200240150574,
          0.13248550170101225,
          0.13205373147220323,
          0.1316928513786372,
          0.1312812698313168,
          0.1308659074207147,
          0.13056893006369874,
          0.1302795287025602,
          0.13015114267667133,
          0.13003880631178616,
          0.12985645456285008,
          0.12981625536368005,
          0.12961640957483023,
          0.12951014353470366,
          0.1293735810783174,
          0.1291325570448585,
          0.12902904669655127,
          0.12897562667106588,
          0.12877932279085624,
          0.1286750885248184
         ]
        },
        {
         "marker": {
          "maxdisplayed": 10
         },
         "mode": "lines+markers",
         "name": "Trial7",
         "type": "scatter",
         "x": [
          0
         ],
         "y": [
          0.5606117248535156
         ]
        },
        {
         "marker": {
          "maxdisplayed": 10
         },
         "mode": "lines+markers",
         "name": "Trial8",
         "type": "scatter",
         "x": [
          0
         ],
         "y": [
          0.7293982744216919
         ]
        },
        {
         "marker": {
          "maxdisplayed": 10
         },
         "mode": "lines+markers",
         "name": "Trial9",
         "type": "scatter",
         "x": [
          0,
          1,
          2,
          3,
          4,
          5,
          6,
          7
         ],
         "y": [
          0.31116136312484743,
          0.26888917833566667,
          0.23851971030235294,
          0.23304938897490504,
          0.22490372538566591,
          0.21908588955799743,
          0.2121861483369555,
          0.20629769004881382
         ]
        }
       ],
       "layout": {
        "showlegend": false,
        "template": {
         "data": {
          "bar": [
           {
            "error_x": {
             "color": "#2a3f5f"
            },
            "error_y": {
             "color": "#2a3f5f"
            },
            "marker": {
             "line": {
              "color": "#E5ECF6",
              "width": 0.5
             },
             "pattern": {
              "fillmode": "overlay",
              "size": 10,
              "solidity": 0.2
             }
            },
            "type": "bar"
           }
          ],
          "barpolar": [
           {
            "marker": {
             "line": {
              "color": "#E5ECF6",
              "width": 0.5
             },
             "pattern": {
              "fillmode": "overlay",
              "size": 10,
              "solidity": 0.2
             }
            },
            "type": "barpolar"
           }
          ],
          "carpet": [
           {
            "aaxis": {
             "endlinecolor": "#2a3f5f",
             "gridcolor": "white",
             "linecolor": "white",
             "minorgridcolor": "white",
             "startlinecolor": "#2a3f5f"
            },
            "baxis": {
             "endlinecolor": "#2a3f5f",
             "gridcolor": "white",
             "linecolor": "white",
             "minorgridcolor": "white",
             "startlinecolor": "#2a3f5f"
            },
            "type": "carpet"
           }
          ],
          "choropleth": [
           {
            "colorbar": {
             "outlinewidth": 0,
             "ticks": ""
            },
            "type": "choropleth"
           }
          ],
          "contour": [
           {
            "colorbar": {
             "outlinewidth": 0,
             "ticks": ""
            },
            "colorscale": [
             [
              0,
              "#0d0887"
             ],
             [
              0.1111111111111111,
              "#46039f"
             ],
             [
              0.2222222222222222,
              "#7201a8"
             ],
             [
              0.3333333333333333,
              "#9c179e"
             ],
             [
              0.4444444444444444,
              "#bd3786"
             ],
             [
              0.5555555555555556,
              "#d8576b"
             ],
             [
              0.6666666666666666,
              "#ed7953"
             ],
             [
              0.7777777777777778,
              "#fb9f3a"
             ],
             [
              0.8888888888888888,
              "#fdca26"
             ],
             [
              1,
              "#f0f921"
             ]
            ],
            "type": "contour"
           }
          ],
          "contourcarpet": [
           {
            "colorbar": {
             "outlinewidth": 0,
             "ticks": ""
            },
            "type": "contourcarpet"
           }
          ],
          "heatmap": [
           {
            "colorbar": {
             "outlinewidth": 0,
             "ticks": ""
            },
            "colorscale": [
             [
              0,
              "#0d0887"
             ],
             [
              0.1111111111111111,
              "#46039f"
             ],
             [
              0.2222222222222222,
              "#7201a8"
             ],
             [
              0.3333333333333333,
              "#9c179e"
             ],
             [
              0.4444444444444444,
              "#bd3786"
             ],
             [
              0.5555555555555556,
              "#d8576b"
             ],
             [
              0.6666666666666666,
              "#ed7953"
             ],
             [
              0.7777777777777778,
              "#fb9f3a"
             ],
             [
              0.8888888888888888,
              "#fdca26"
             ],
             [
              1,
              "#f0f921"
             ]
            ],
            "type": "heatmap"
           }
          ],
          "heatmapgl": [
           {
            "colorbar": {
             "outlinewidth": 0,
             "ticks": ""
            },
            "colorscale": [
             [
              0,
              "#0d0887"
             ],
             [
              0.1111111111111111,
              "#46039f"
             ],
             [
              0.2222222222222222,
              "#7201a8"
             ],
             [
              0.3333333333333333,
              "#9c179e"
             ],
             [
              0.4444444444444444,
              "#bd3786"
             ],
             [
              0.5555555555555556,
              "#d8576b"
             ],
             [
              0.6666666666666666,
              "#ed7953"
             ],
             [
              0.7777777777777778,
              "#fb9f3a"
             ],
             [
              0.8888888888888888,
              "#fdca26"
             ],
             [
              1,
              "#f0f921"
             ]
            ],
            "type": "heatmapgl"
           }
          ],
          "histogram": [
           {
            "marker": {
             "pattern": {
              "fillmode": "overlay",
              "size": 10,
              "solidity": 0.2
             }
            },
            "type": "histogram"
           }
          ],
          "histogram2d": [
           {
            "colorbar": {
             "outlinewidth": 0,
             "ticks": ""
            },
            "colorscale": [
             [
              0,
              "#0d0887"
             ],
             [
              0.1111111111111111,
              "#46039f"
             ],
             [
              0.2222222222222222,
              "#7201a8"
             ],
             [
              0.3333333333333333,
              "#9c179e"
             ],
             [
              0.4444444444444444,
              "#bd3786"
             ],
             [
              0.5555555555555556,
              "#d8576b"
             ],
             [
              0.6666666666666666,
              "#ed7953"
             ],
             [
              0.7777777777777778,
              "#fb9f3a"
             ],
             [
              0.8888888888888888,
              "#fdca26"
             ],
             [
              1,
              "#f0f921"
             ]
            ],
            "type": "histogram2d"
           }
          ],
          "histogram2dcontour": [
           {
            "colorbar": {
             "outlinewidth": 0,
             "ticks": ""
            },
            "colorscale": [
             [
              0,
              "#0d0887"
             ],
             [
              0.1111111111111111,
              "#46039f"
             ],
             [
              0.2222222222222222,
              "#7201a8"
             ],
             [
              0.3333333333333333,
              "#9c179e"
             ],
             [
              0.4444444444444444,
              "#bd3786"
             ],
             [
              0.5555555555555556,
              "#d8576b"
             ],
             [
              0.6666666666666666,
              "#ed7953"
             ],
             [
              0.7777777777777778,
              "#fb9f3a"
             ],
             [
              0.8888888888888888,
              "#fdca26"
             ],
             [
              1,
              "#f0f921"
             ]
            ],
            "type": "histogram2dcontour"
           }
          ],
          "mesh3d": [
           {
            "colorbar": {
             "outlinewidth": 0,
             "ticks": ""
            },
            "type": "mesh3d"
           }
          ],
          "parcoords": [
           {
            "line": {
             "colorbar": {
              "outlinewidth": 0,
              "ticks": ""
             }
            },
            "type": "parcoords"
           }
          ],
          "pie": [
           {
            "automargin": true,
            "type": "pie"
           }
          ],
          "scatter": [
           {
            "fillpattern": {
             "fillmode": "overlay",
             "size": 10,
             "solidity": 0.2
            },
            "type": "scatter"
           }
          ],
          "scatter3d": [
           {
            "line": {
             "colorbar": {
              "outlinewidth": 0,
              "ticks": ""
             }
            },
            "marker": {
             "colorbar": {
              "outlinewidth": 0,
              "ticks": ""
             }
            },
            "type": "scatter3d"
           }
          ],
          "scattercarpet": [
           {
            "marker": {
             "colorbar": {
              "outlinewidth": 0,
              "ticks": ""
             }
            },
            "type": "scattercarpet"
           }
          ],
          "scattergeo": [
           {
            "marker": {
             "colorbar": {
              "outlinewidth": 0,
              "ticks": ""
             }
            },
            "type": "scattergeo"
           }
          ],
          "scattergl": [
           {
            "marker": {
             "colorbar": {
              "outlinewidth": 0,
              "ticks": ""
             }
            },
            "type": "scattergl"
           }
          ],
          "scattermapbox": [
           {
            "marker": {
             "colorbar": {
              "outlinewidth": 0,
              "ticks": ""
             }
            },
            "type": "scattermapbox"
           }
          ],
          "scatterpolar": [
           {
            "marker": {
             "colorbar": {
              "outlinewidth": 0,
              "ticks": ""
             }
            },
            "type": "scatterpolar"
           }
          ],
          "scatterpolargl": [
           {
            "marker": {
             "colorbar": {
              "outlinewidth": 0,
              "ticks": ""
             }
            },
            "type": "scatterpolargl"
           }
          ],
          "scatterternary": [
           {
            "marker": {
             "colorbar": {
              "outlinewidth": 0,
              "ticks": ""
             }
            },
            "type": "scatterternary"
           }
          ],
          "surface": [
           {
            "colorbar": {
             "outlinewidth": 0,
             "ticks": ""
            },
            "colorscale": [
             [
              0,
              "#0d0887"
             ],
             [
              0.1111111111111111,
              "#46039f"
             ],
             [
              0.2222222222222222,
              "#7201a8"
             ],
             [
              0.3333333333333333,
              "#9c179e"
             ],
             [
              0.4444444444444444,
              "#bd3786"
             ],
             [
              0.5555555555555556,
              "#d8576b"
             ],
             [
              0.6666666666666666,
              "#ed7953"
             ],
             [
              0.7777777777777778,
              "#fb9f3a"
             ],
             [
              0.8888888888888888,
              "#fdca26"
             ],
             [
              1,
              "#f0f921"
             ]
            ],
            "type": "surface"
           }
          ],
          "table": [
           {
            "cells": {
             "fill": {
              "color": "#EBF0F8"
             },
             "line": {
              "color": "white"
             }
            },
            "header": {
             "fill": {
              "color": "#C8D4E3"
             },
             "line": {
              "color": "white"
             }
            },
            "type": "table"
           }
          ]
         },
         "layout": {
          "annotationdefaults": {
           "arrowcolor": "#2a3f5f",
           "arrowhead": 0,
           "arrowwidth": 1
          },
          "autotypenumbers": "strict",
          "coloraxis": {
           "colorbar": {
            "outlinewidth": 0,
            "ticks": ""
           }
          },
          "colorscale": {
           "diverging": [
            [
             0,
             "#8e0152"
            ],
            [
             0.1,
             "#c51b7d"
            ],
            [
             0.2,
             "#de77ae"
            ],
            [
             0.3,
             "#f1b6da"
            ],
            [
             0.4,
             "#fde0ef"
            ],
            [
             0.5,
             "#f7f7f7"
            ],
            [
             0.6,
             "#e6f5d0"
            ],
            [
             0.7,
             "#b8e186"
            ],
            [
             0.8,
             "#7fbc41"
            ],
            [
             0.9,
             "#4d9221"
            ],
            [
             1,
             "#276419"
            ]
           ],
           "sequential": [
            [
             0,
             "#0d0887"
            ],
            [
             0.1111111111111111,
             "#46039f"
            ],
            [
             0.2222222222222222,
             "#7201a8"
            ],
            [
             0.3333333333333333,
             "#9c179e"
            ],
            [
             0.4444444444444444,
             "#bd3786"
            ],
            [
             0.5555555555555556,
             "#d8576b"
            ],
            [
             0.6666666666666666,
             "#ed7953"
            ],
            [
             0.7777777777777778,
             "#fb9f3a"
            ],
            [
             0.8888888888888888,
             "#fdca26"
            ],
            [
             1,
             "#f0f921"
            ]
           ],
           "sequentialminus": [
            [
             0,
             "#0d0887"
            ],
            [
             0.1111111111111111,
             "#46039f"
            ],
            [
             0.2222222222222222,
             "#7201a8"
            ],
            [
             0.3333333333333333,
             "#9c179e"
            ],
            [
             0.4444444444444444,
             "#bd3786"
            ],
            [
             0.5555555555555556,
             "#d8576b"
            ],
            [
             0.6666666666666666,
             "#ed7953"
            ],
            [
             0.7777777777777778,
             "#fb9f3a"
            ],
            [
             0.8888888888888888,
             "#fdca26"
            ],
            [
             1,
             "#f0f921"
            ]
           ]
          },
          "colorway": [
           "#636efa",
           "#EF553B",
           "#00cc96",
           "#ab63fa",
           "#FFA15A",
           "#19d3f3",
           "#FF6692",
           "#B6E880",
           "#FF97FF",
           "#FECB52"
          ],
          "font": {
           "color": "#2a3f5f"
          },
          "geo": {
           "bgcolor": "white",
           "lakecolor": "white",
           "landcolor": "#E5ECF6",
           "showlakes": true,
           "showland": true,
           "subunitcolor": "white"
          },
          "hoverlabel": {
           "align": "left"
          },
          "hovermode": "closest",
          "mapbox": {
           "style": "light"
          },
          "paper_bgcolor": "white",
          "plot_bgcolor": "#E5ECF6",
          "polar": {
           "angularaxis": {
            "gridcolor": "white",
            "linecolor": "white",
            "ticks": ""
           },
           "bgcolor": "#E5ECF6",
           "radialaxis": {
            "gridcolor": "white",
            "linecolor": "white",
            "ticks": ""
           }
          },
          "scene": {
           "xaxis": {
            "backgroundcolor": "#E5ECF6",
            "gridcolor": "white",
            "gridwidth": 2,
            "linecolor": "white",
            "showbackground": true,
            "ticks": "",
            "zerolinecolor": "white"
           },
           "yaxis": {
            "backgroundcolor": "#E5ECF6",
            "gridcolor": "white",
            "gridwidth": 2,
            "linecolor": "white",
            "showbackground": true,
            "ticks": "",
            "zerolinecolor": "white"
           },
           "zaxis": {
            "backgroundcolor": "#E5ECF6",
            "gridcolor": "white",
            "gridwidth": 2,
            "linecolor": "white",
            "showbackground": true,
            "ticks": "",
            "zerolinecolor": "white"
           }
          },
          "shapedefaults": {
           "line": {
            "color": "#2a3f5f"
           }
          },
          "ternary": {
           "aaxis": {
            "gridcolor": "white",
            "linecolor": "white",
            "ticks": ""
           },
           "baxis": {
            "gridcolor": "white",
            "linecolor": "white",
            "ticks": ""
           },
           "bgcolor": "#E5ECF6",
           "caxis": {
            "gridcolor": "white",
            "linecolor": "white",
            "ticks": ""
           }
          },
          "title": {
           "x": 0.05
          },
          "xaxis": {
           "automargin": true,
           "gridcolor": "white",
           "linecolor": "white",
           "ticks": "",
           "title": {
            "standoff": 15
           },
           "zerolinecolor": "white",
           "zerolinewidth": 2
          },
          "yaxis": {
           "automargin": true,
           "gridcolor": "white",
           "linecolor": "white",
           "ticks": "",
           "title": {
            "standoff": 15
           },
           "zerolinecolor": "white",
           "zerolinewidth": 2
          }
         }
        },
        "title": {
         "text": "Intermediate Values Plot"
        },
        "xaxis": {
         "title": {
          "text": "Step"
         }
        },
        "yaxis": {
         "title": {
          "text": "Intermediate Value"
         }
        }
       }
      }
     },
     "metadata": {},
     "output_type": "display_data"
    }
   ],
   "source": [
    "# create graph directory for this model\n",
    "graph_path = pathlib.Path(\n",
    "    f\"../../figures/{mlp_params.MODEL_TYPE}/{mlp_params.MODEL_NAME}/{mlp_params.CELL_TYPE}/hyperparameter_optimization\"\n",
    ").resolve(strict=True)\n",
    "\n",
    "pathlib.Path(graph_path).mkdir(parents=True, exist_ok=True)\n",
    "fig = optuna.visualization.plot_intermediate_values(study)\n",
    "\n",
    "graph_path = f\"{graph_path}/plot_intermediate_values_graph\"\n",
    "\n",
    "fig.write_image(pathlib.Path(f\"{graph_path}.png\"))\n",
    "fig.show()"
   ]
  },
  {
   "cell_type": "code",
   "execution_count": 17,
   "id": "325a1ec3",
   "metadata": {
    "execution": {
     "iopub.execute_input": "2023-08-06T05:45:53.800067Z",
     "iopub.status.busy": "2023-08-06T05:45:53.799555Z",
     "iopub.status.idle": "2023-08-06T05:45:53.803285Z",
     "shell.execute_reply": "2023-08-06T05:45:53.802900Z"
    },
    "papermill": {
     "duration": 0.041901,
     "end_time": "2023-08-06T05:45:53.804190",
     "exception": false,
     "start_time": "2023-08-06T05:45:53.762289",
     "status": "completed"
    },
    "tags": []
   },
   "outputs": [],
   "source": [
    "param_dict = extract_best_trial_params(\n",
    "    study.best_params, params, model_name=mlp_params.MODEL_NAME\n",
    ")"
   ]
  },
  {
   "cell_type": "code",
   "execution_count": null,
   "id": "2b560ea3",
   "metadata": {},
   "outputs": [],
   "source": []
  }
 ],
 "metadata": {
  "jupytext": {
   "cell_metadata_filter": "-all",
   "encoding": "# coding: utf-8",
   "executable": "/usr/bin/env python",
   "formats": "ipynb,py",
   "main_language": "python"
  },
  "kernelspec": {
   "display_name": "Python 3 (ipykernel)",
   "language": "python",
   "name": "python3"
  },
  "language_info": {
   "codemirror_mode": {
    "name": "ipython",
    "version": 3
   },
   "file_extension": ".py",
   "mimetype": "text/x-python",
   "name": "python",
   "nbconvert_exporter": "python",
   "pygments_lexer": "ipython3",
   "version": "3.10.12"
  },
  "papermill": {
   "default_parameters": {},
   "duration": 1376.906731,
   "end_time": "2023-08-06T05:50:54.011988",
   "environment_variables": {},
   "exception": null,
   "input_path": "Hyperparameter_Optimization_model_binary.ipynb",
   "output_path": "Hyperparameter_Optimization_model_binary.ipynb",
   "parameters": {
    "CELL_TYPE": "PBMC",
    "CONTROL_NAME": "DMSO_0.100_DMSO_0.025",
    "MODEL_NAME": "DMSO_0.025_vs_Thapsigargin_1",
    "TREATMENT_NAME": "Thapsigargin_1.000_DMSO_0.025"
   },
   "start_time": "2023-08-06T05:27:57.105257",
   "version": "2.4.0"
  },
  "vscode": {
   "interpreter": {
    "hash": "72ae02083a9ca7d143c492d1aec380c7bf553ec51bd66e90e72bba65228121b6"
   }
  }
 },
 "nbformat": 4,
 "nbformat_minor": 5
}
