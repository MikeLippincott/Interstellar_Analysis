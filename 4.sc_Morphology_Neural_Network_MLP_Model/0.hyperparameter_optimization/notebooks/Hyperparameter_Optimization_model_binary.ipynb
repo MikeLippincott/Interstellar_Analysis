{
 "cells": [
  {
   "attachments": {},
   "cell_type": "markdown",
   "id": "8e60628c",
   "metadata": {
    "papermill": {
     "duration": 0.005982,
     "end_time": "2023-08-06T05:27:58.825812",
     "exception": false,
     "start_time": "2023-08-06T05:27:58.819830",
     "status": "completed"
    },
    "tags": []
   },
   "source": [
    "## Hyperparameter tuning via Optuna"
   ]
  },
  {
   "cell_type": "markdown",
   "id": "8fac71a5",
   "metadata": {
    "papermill": {
     "duration": 0.004575,
     "end_time": "2023-08-06T05:27:58.835211",
     "exception": false,
     "start_time": "2023-08-06T05:27:58.830636",
     "status": "completed"
    },
    "tags": []
   },
   "source": [
    "### Being a binary model this notebook will be limited to predicting one class 1 or 0, yes or no.\n",
    "### Here I will be predicting if a cell received a treatment or not"
   ]
  },
  {
   "cell_type": "code",
   "execution_count": 1,
   "id": "860a61dd",
   "metadata": {
    "execution": {
     "iopub.execute_input": "2023-08-06T05:27:58.845086Z",
     "iopub.status.busy": "2023-08-06T05:27:58.844836Z",
     "iopub.status.idle": "2023-08-06T05:28:02.521728Z",
     "shell.execute_reply": "2023-08-06T05:28:02.521237Z"
    },
    "papermill": {
     "duration": 3.683586,
     "end_time": "2023-08-06T05:28:02.523336",
     "exception": false,
     "start_time": "2023-08-06T05:27:58.839750",
     "status": "completed"
    },
    "tags": []
   },
   "outputs": [],
   "source": [
    "import pathlib\n",
    "import sys\n",
    "\n",
    "import numpy as np\n",
    "import optuna\n",
    "import pandas as pd\n",
    "import pyarrow.parquet as pq\n",
    "import toml\n",
    "import torch\n",
    "from sklearn import preprocessing\n",
    "\n",
    "sys.path.append(\"../..\")\n",
    "\n",
    "from MLP_utils.parameters import Parameters\n",
    "from MLP_utils.utils import (\n",
    "    Dataset_formatter,\n",
    "    data_split,\n",
    "    extract_best_trial_params,\n",
    "    objective_model_optimizer,\n",
    "    parameter_set,\n",
    "    plot_metric_vs_epoch,\n",
    "    results_output,\n",
    "    test_optimized_model,\n",
    "    train_optimized_model,\n",
    "    un_nest,\n",
    ")\n",
    "\n",
    "sys.path.append(\"../../..\")\n",
    "from utils.utils import df_stats"
   ]
  },
  {
   "cell_type": "markdown",
   "id": "edca0d0e",
   "metadata": {},
   "source": [
    "## Papermill is used for executing notebooks in the CLI with multiple parameters\n",
    "Here the `injected-parameters` cell is used to inject parameters into the notebook via papermill.\n",
    "This enables multiple notebooks to be executed with different parameters, preventing to manually update parameters or have multiple copies of the notebook."
   ]
  },
  {
   "cell_type": "code",
   "execution_count": 2,
   "id": "335858ee",
   "metadata": {
    "execution": {
     "iopub.execute_input": "2023-08-06T05:28:02.534866Z",
     "iopub.status.busy": "2023-08-06T05:28:02.534438Z",
     "iopub.status.idle": "2023-08-06T05:28:02.537108Z",
     "shell.execute_reply": "2023-08-06T05:28:02.536711Z"
    },
    "papermill": {
     "duration": 0.008924,
     "end_time": "2023-08-06T05:28:02.538051",
     "exception": false,
     "start_time": "2023-08-06T05:28:02.529127",
     "status": "completed"
    },
    "tags": [
     "injected-parameters"
    ]
   },
   "outputs": [],
   "source": [
    "# Parameters\n",
    "CELL_TYPE = \"SHSY5Y\"\n",
    "CONTROL_NAME = \"DMSO_0.100_DMSO_0.025\"\n",
    "TREATMENT_NAME = \"LPS_100.000_DMSO_0.025\"\n",
    "MODEL_NAME = \"DMSO_0.025_vs_LPS_100\"\n",
    "SHUFFLE = False"
   ]
  },
  {
   "cell_type": "code",
   "execution_count": 3,
   "id": "394294ce",
   "metadata": {
    "execution": {
     "iopub.execute_input": "2023-08-06T05:28:02.547989Z",
     "iopub.status.busy": "2023-08-06T05:28:02.547719Z",
     "iopub.status.idle": "2023-08-06T05:28:02.551051Z",
     "shell.execute_reply": "2023-08-06T05:28:02.550682Z"
    },
    "papermill": {
     "duration": 0.009353,
     "end_time": "2023-08-06T05:28:02.551968",
     "exception": false,
     "start_time": "2023-08-06T05:28:02.542615",
     "status": "completed"
    },
    "tags": []
   },
   "outputs": [],
   "source": [
    "ml_configs_file = pathlib.Path(\"../../MLP_utils/binary_config.toml\").resolve(\n",
    "    strict=True\n",
    ")\n",
    "ml_configs = toml.load(ml_configs_file)\n",
    "params = Parameters()\n",
    "mlp_params = parameter_set(params, ml_configs)\n",
    "\n",
    "# overwrite params via command line arguments from papermill\n",
    "mlp_params.CELL_TYPE = CELL_TYPE\n",
    "mlp_params.MODEL_NAME = MODEL_NAME\n",
    "mlp_params.CONTROL_NAME = CONTROL_NAME\n",
    "mlp_params.TREATMENT_NAME = TREATMENT_NAME\n",
    "mlp_params.MODEL_NAME = MODEL_NAME\n",
    "mlp_params.SHUFFLE = SHUFFLE"
   ]
  },
  {
   "cell_type": "code",
   "execution_count": 4,
   "id": "44baa945",
   "metadata": {
    "execution": {
     "iopub.execute_input": "2023-08-06T05:28:02.561876Z",
     "iopub.status.busy": "2023-08-06T05:28:02.561531Z",
     "iopub.status.idle": "2023-08-06T05:29:29.197385Z",
     "shell.execute_reply": "2023-08-06T05:29:29.196845Z"
    },
    "papermill": {
     "duration": 86.642544,
     "end_time": "2023-08-06T05:29:29.199014",
     "exception": false,
     "start_time": "2023-08-06T05:28:02.556470",
     "status": "completed"
    },
    "tags": []
   },
   "outputs": [],
   "source": [
    "# Import Data\n",
    "# set data file path under pathlib path for multi-system use\n",
    "\n",
    "file_path = pathlib.Path(\n",
    "    f\"../../../data/{mlp_params.CELL_TYPE}_preprocessed_sc_norm.parquet\"\n",
    ").resolve(strict=True)\n",
    "\n",
    "df = pq.read_table(file_path).to_pandas()"
   ]
  },
  {
   "attachments": {},
   "cell_type": "markdown",
   "id": "5c486e00",
   "metadata": {
    "papermill": {
     "duration": 0.00506,
     "end_time": "2023-08-06T05:29:29.225245",
     "exception": false,
     "start_time": "2023-08-06T05:29:29.220185",
     "status": "completed"
    },
    "tags": []
   },
   "source": [
    "#### Set up Data to be compatible with model"
   ]
  },
  {
   "attachments": {},
   "cell_type": "markdown",
   "id": "95754baa",
   "metadata": {
    "papermill": {
     "duration": 0.004738,
     "end_time": "2023-08-06T05:29:29.234468",
     "exception": false,
     "start_time": "2023-08-06T05:29:29.229730",
     "status": "completed"
    },
    "tags": []
   },
   "source": [
    "##### Classification Models:\n",
    "Comment out code if using regression"
   ]
  },
  {
   "cell_type": "code",
   "execution_count": 5,
   "id": "b6ea8ac9",
   "metadata": {
    "execution": {
     "iopub.execute_input": "2023-08-06T05:29:29.244568Z",
     "iopub.status.busy": "2023-08-06T05:29:29.244133Z",
     "iopub.status.idle": "2023-08-06T05:29:30.577193Z",
     "shell.execute_reply": "2023-08-06T05:29:30.576719Z"
    },
    "papermill": {
     "duration": 1.339321,
     "end_time": "2023-08-06T05:29:30.578198",
     "exception": false,
     "start_time": "2023-08-06T05:29:29.238877",
     "status": "completed"
    },
    "tags": []
   },
   "outputs": [
    {
     "name": "stdout",
     "output_type": "stream",
     "text": [
      "Selected Catagories are:\n",
      "['DMSO_0.100_DMSO_0.025' 'LPS_100.000_DMSO_0.025']\n",
      "The dimensions of the data are: (51630, 1276)\n",
      "Number of total missing values across all columns: 103260\n",
      "Data Subset Is Off\n"
     ]
    }
   ],
   "source": [
    "# filter the oneb_Metadata_Treatment_Dose_Inhibitor_Dose column to only include the treatment and control via loc\n",
    "df = df.loc[\n",
    "    df[\"oneb_Metadata_Treatment_Dose_Inhibitor_Dose\"].isin(\n",
    "        [mlp_params.TREATMENT_NAME, mlp_params.CONTROL_NAME]\n",
    "    )\n",
    "]\n",
    "\n",
    "\n",
    "print(\"Selected Catagories are:\")\n",
    "print(df[\"oneb_Metadata_Treatment_Dose_Inhibitor_Dose\"].unique())\n",
    "df_stats(df)\n",
    "\n",
    "if mlp_params.DATA_SUBSET_OPTION == \"True\":\n",
    "    df = df.sample(n=mlp_params.DATA_SUBSET_NUMBER)\n",
    "    print(\"Data Subset Is On\")\n",
    "    print(f\"Data is subset to {mlp_params.DATA_SUBSET_NUMBER}\")\n",
    "else:\n",
    "    print(\"Data Subset Is Off\")"
   ]
  },
  {
   "cell_type": "code",
   "execution_count": 6,
   "id": "088cff07",
   "metadata": {
    "execution": {
     "iopub.execute_input": "2023-08-06T05:29:30.589393Z",
     "iopub.status.busy": "2023-08-06T05:29:30.589080Z",
     "iopub.status.idle": "2023-08-06T05:29:33.905664Z",
     "shell.execute_reply": "2023-08-06T05:29:33.905176Z"
    },
    "papermill": {
     "duration": 3.323065,
     "end_time": "2023-08-06T05:29:33.906617",
     "exception": false,
     "start_time": "2023-08-06T05:29:30.583552",
     "status": "completed"
    },
    "tags": []
   },
   "outputs": [
    {
     "name": "stdout",
     "output_type": "stream",
     "text": [
      "Wells held out for testing: ['I14' 'J21']\n",
      "Wells to use for training, validation, and testing ['B14' 'C14' 'B15' 'C15' 'J14' 'I15' 'J15' 'J16' 'J17' 'J20']\n"
     ]
    }
   ],
   "source": [
    "np.random.seed(seed=0)\n",
    "wells_to_hold = (\n",
    "    df.groupby(\"oneb_Metadata_Treatment_Dose_Inhibitor_Dose\")\n",
    "    .agg(np.random.choice)[\"Metadata_Well\"]\n",
    "    .to_list()\n",
    ")\n",
    "df_holdout = df[df[\"Metadata_Well\"].isin(wells_to_hold)]\n",
    "df = df[~df[\"Metadata_Well\"].isin(wells_to_hold)]\n",
    "\n",
    "\n",
    "print(\"Wells held out for testing:\", df_holdout[\"Metadata_Well\"].unique())\n",
    "print(\n",
    "    \"Wells to use for training, validation, and testing\", df[\"Metadata_Well\"].unique()\n",
    ")"
   ]
  },
  {
   "cell_type": "code",
   "execution_count": 7,
   "id": "786e3a76",
   "metadata": {
    "execution": {
     "iopub.execute_input": "2023-08-06T05:29:33.918497Z",
     "iopub.status.busy": "2023-08-06T05:29:33.918132Z",
     "iopub.status.idle": "2023-08-06T05:29:34.222857Z",
     "shell.execute_reply": "2023-08-06T05:29:34.222348Z"
    },
    "papermill": {
     "duration": 0.311452,
     "end_time": "2023-08-06T05:29:34.224180",
     "exception": false,
     "start_time": "2023-08-06T05:29:33.912728",
     "status": "completed"
    },
    "tags": []
   },
   "outputs": [],
   "source": [
    "# Code snippet for metadata extraction by Jenna Tomkinson\n",
    "df_metadata = list(df.columns[df.columns.str.startswith(\"Metadata\")])\n",
    "\n",
    "# define which columns are data and which are descriptive\n",
    "df_descriptive = df[df_metadata]\n",
    "df_values = df.drop(columns=df_metadata)"
   ]
  },
  {
   "cell_type": "code",
   "execution_count": 8,
   "id": "595afb65",
   "metadata": {
    "execution": {
     "iopub.execute_input": "2023-08-06T05:29:34.235047Z",
     "iopub.status.busy": "2023-08-06T05:29:34.234534Z",
     "iopub.status.idle": "2023-08-06T05:29:34.587541Z",
     "shell.execute_reply": "2023-08-06T05:29:34.587031Z"
    },
    "papermill": {
     "duration": 0.359844,
     "end_time": "2023-08-06T05:29:34.588903",
     "exception": false,
     "start_time": "2023-08-06T05:29:34.229059",
     "status": "completed"
    },
    "tags": []
   },
   "outputs": [],
   "source": [
    "# Creating label encoder\n",
    "le = preprocessing.LabelEncoder()\n",
    "# Converting strings into numbers\n",
    "df_values[\"oneb_Metadata_Treatment_Dose_Inhibitor_Dose\"] = le.fit_transform(\n",
    "    df_values[\"oneb_Metadata_Treatment_Dose_Inhibitor_Dose\"]\n",
    ")\n",
    "# split into X and Y where Y are the predictive column and x are the observable data\n",
    "df_values_X = df_values.drop(\n",
    "    [\n",
    "        \"oneb_Metadata_Treatment_Dose_Inhibitor_Dose\",\n",
    "        \"twob_Metadata_Treatment_Dose_Inhibitor_Dose\",\n",
    "        \"threeb_Metadata_Treatment_Dose_Inhibitor_Dose\",\n",
    "        \"fourb_Metadata_Treatment_Dose_Inhibitor_Dose\",\n",
    "    ],\n",
    "    axis=1,\n",
    ")\n",
    "df_values_Y = df_values[\"oneb_Metadata_Treatment_Dose_Inhibitor_Dose\"]"
   ]
  },
  {
   "attachments": {},
   "cell_type": "markdown",
   "id": "260a048e",
   "metadata": {
    "papermill": {
     "duration": 0.004607,
     "end_time": "2023-08-06T05:29:34.599076",
     "exception": false,
     "start_time": "2023-08-06T05:29:34.594469",
     "status": "completed"
    },
    "tags": []
   },
   "source": [
    "#### Split Data - All Models can proceed through this point"
   ]
  },
  {
   "cell_type": "code",
   "execution_count": 9,
   "id": "f4feb87f",
   "metadata": {
    "execution": {
     "iopub.execute_input": "2023-08-06T05:29:34.609270Z",
     "iopub.status.busy": "2023-08-06T05:29:34.608901Z",
     "iopub.status.idle": "2023-08-06T05:29:38.108413Z",
     "shell.execute_reply": "2023-08-06T05:29:38.107910Z"
    },
    "papermill": {
     "duration": 3.50601,
     "end_time": "2023-08-06T05:29:38.109741",
     "exception": false,
     "start_time": "2023-08-06T05:29:34.603731",
     "status": "completed"
    },
    "tags": []
   },
   "outputs": [],
   "source": [
    "X_train, X_test, X_val, Y_train, Y_test, Y_val = data_split(\n",
    "    X_vals=df_values_X,\n",
    "    y_vals=df_values_Y,\n",
    "    train_proportion=0.8,\n",
    "    val_proportion=0.1,\n",
    "    test_proportion=0.1,\n",
    "    seed=1,\n",
    "    params=params,\n",
    ")"
   ]
  },
  {
   "cell_type": "code",
   "execution_count": 10,
   "id": "36894826",
   "metadata": {
    "execution": {
     "iopub.execute_input": "2023-08-06T05:29:38.120755Z",
     "iopub.status.busy": "2023-08-06T05:29:38.120394Z",
     "iopub.status.idle": "2023-08-06T05:29:38.207360Z",
     "shell.execute_reply": "2023-08-06T05:29:38.206833Z"
    },
    "papermill": {
     "duration": 0.093498,
     "end_time": "2023-08-06T05:29:38.208610",
     "exception": false,
     "start_time": "2023-08-06T05:29:38.115112",
     "status": "completed"
    },
    "tags": []
   },
   "outputs": [],
   "source": [
    "# produce data objects for train, val and test datasets\n",
    "train_data = Dataset_formatter(\n",
    "    torch.FloatTensor(X_train.values), torch.FloatTensor(Y_train.values)\n",
    ")\n",
    "val_data = Dataset_formatter(\n",
    "    torch.FloatTensor(X_val.values), torch.FloatTensor(Y_val.values)\n",
    ")\n",
    "test_data = Dataset_formatter(\n",
    "    torch.FloatTensor(X_test.values), torch.FloatTensor(Y_test.values)\n",
    ")"
   ]
  },
  {
   "cell_type": "code",
   "execution_count": 11,
   "id": "4382d712",
   "metadata": {
    "execution": {
     "iopub.execute_input": "2023-08-06T05:29:38.219174Z",
     "iopub.status.busy": "2023-08-06T05:29:38.218823Z",
     "iopub.status.idle": "2023-08-06T05:29:38.223877Z",
     "shell.execute_reply": "2023-08-06T05:29:38.223480Z"
    },
    "papermill": {
     "duration": 0.011186,
     "end_time": "2023-08-06T05:29:38.224794",
     "exception": false,
     "start_time": "2023-08-06T05:29:38.213608",
     "status": "completed"
    },
    "tags": []
   },
   "outputs": [
    {
     "name": "stdout",
     "output_type": "stream",
     "text": [
      "Number of in features:  1251\n",
      "Number of out features:  2\n",
      "Binary_Classification\n"
     ]
    }
   ],
   "source": [
    "mlp_params.IN_FEATURES = X_train.shape[1]\n",
    "print(\"Number of in features: \", mlp_params.IN_FEATURES)\n",
    "if mlp_params.MODEL_TYPE == \"Regression\":\n",
    "    mlp_params.OUT_FEATURES = 1\n",
    "else:\n",
    "    mlp_params.OUT_FEATURES = len(\n",
    "        df_values[\"oneb_Metadata_Treatment_Dose_Inhibitor_Dose\"].unique()\n",
    "    )\n",
    "\n",
    "print(\"Number of out features: \", mlp_params.OUT_FEATURES)\n",
    "\n",
    "if mlp_params.OUT_FEATURES > 2:\n",
    "    mlp_params.MODEL_TYPE = \"Multi_Class\"\n",
    "elif mlp_params.OUT_FEATURES == 2:\n",
    "    mlp_params.OUT_FEATURES = mlp_params.OUT_FEATURES - 1\n",
    "    mlp_params.MODEL_TYPE = \"Binary_Classification\"\n",
    "elif mlp_params.OUT_FEATURES == 1:\n",
    "    mlp_params.MODEL_TYPE = \"Regression\"\n",
    "else:\n",
    "    pass\n",
    "print(mlp_params.MODEL_TYPE)"
   ]
  },
  {
   "cell_type": "code",
   "execution_count": 12,
   "id": "77effa5c",
   "metadata": {
    "execution": {
     "iopub.execute_input": "2023-08-06T05:29:38.234900Z",
     "iopub.status.busy": "2023-08-06T05:29:38.234608Z",
     "iopub.status.idle": "2023-08-06T05:29:38.237547Z",
     "shell.execute_reply": "2023-08-06T05:29:38.237153Z"
    },
    "papermill": {
     "duration": 0.008969,
     "end_time": "2023-08-06T05:29:38.238513",
     "exception": false,
     "start_time": "2023-08-06T05:29:38.229544",
     "status": "completed"
    },
    "tags": []
   },
   "outputs": [],
   "source": [
    "# convert data class into a dataloader to be compatible with pytorch\n",
    "train_loader = torch.utils.data.DataLoader(\n",
    "    dataset=train_data, batch_size=mlp_params.BATCH_SIZE\n",
    ")\n",
    "valid_loader = torch.utils.data.DataLoader(\n",
    "    dataset=val_data, batch_size=mlp_params.BATCH_SIZE\n",
    ")\n",
    "test_loader = torch.utils.data.DataLoader(\n",
    "    dataset=test_data, batch_size=1, shuffle=mlp_params.SHUFFLE\n",
    ")"
   ]
  },
  {
   "cell_type": "code",
   "execution_count": 13,
   "id": "cb7635c8",
   "metadata": {
    "execution": {
     "iopub.execute_input": "2023-08-06T05:29:38.248235Z",
     "iopub.status.busy": "2023-08-06T05:29:38.248086Z",
     "iopub.status.idle": "2023-08-06T05:29:38.250524Z",
     "shell.execute_reply": "2023-08-06T05:29:38.250146Z"
    },
    "papermill": {
     "duration": 0.008285,
     "end_time": "2023-08-06T05:29:38.251402",
     "exception": false,
     "start_time": "2023-08-06T05:29:38.243117",
     "status": "completed"
    },
    "tags": []
   },
   "outputs": [
    {
     "name": "stdout",
     "output_type": "stream",
     "text": [
      "cuda\n"
     ]
    }
   ],
   "source": [
    "print(mlp_params.DEVICE)"
   ]
  },
  {
   "cell_type": "code",
   "execution_count": 14,
   "id": "a969042f",
   "metadata": {
    "execution": {
     "iopub.execute_input": "2023-08-06T05:29:38.269729Z",
     "iopub.status.busy": "2023-08-06T05:29:38.269483Z",
     "iopub.status.idle": "2023-08-06T05:45:52.357257Z",
     "shell.execute_reply": "2023-08-06T05:45:52.356779Z"
    },
    "papermill": {
     "duration": 974.106841,
     "end_time": "2023-08-06T05:45:52.366898",
     "exception": false,
     "start_time": "2023-08-06T05:29:38.260057",
     "status": "completed"
    },
    "tags": []
   },
   "outputs": [
    {
     "name": "stderr",
     "output_type": "stream",
     "text": [
      "[I 2023-08-17 17:30:21,277] A new study created in memory with name: no-name-0468db6b-7f3e-491a-bd95-fe3c456461df\n",
      "[I 2023-08-17 17:30:36,551] Trial 0 finished with value: 0.3045150886774063 and parameters: {'n_layers': 3, 'n_units_l0': 8, 'dropout_0': 0.28659701478898725, 'n_units_l1': 7, 'dropout_1': 0.3234310134691039, 'n_units_l2': 9, 'dropout_2': 0.2657155542337061, 'learning_rate': 0.018643629478251884, 'optimizer': 'SGD'}. Best is trial 0 with value: 0.3045150886774063.\n",
      "[I 2023-08-17 17:30:50,038] Trial 1 finished with value: 0.13727582335472108 and parameters: {'n_layers': 1, 'n_units_l0': 2, 'dropout_0': 0.17805620340298034, 'learning_rate': 0.07583833194418184, 'optimizer': 'Adam'}. Best is trial 1 with value: 0.13727582335472108.\n",
      "[I 2023-08-17 17:31:04,259] Trial 2 finished with value: 0.522242093205452 and parameters: {'n_layers': 3, 'n_units_l0': 8, 'dropout_0': 0.12255614041485155, 'n_units_l1': 5, 'dropout_1': 0.30759039803784005, 'n_units_l2': 10, 'dropout_2': 0.26351545895911577, 'learning_rate': 0.0066547372170247445, 'optimizer': 'SGD'}. Best is trial 1 with value: 0.13727582335472108.\n",
      "[I 2023-08-17 17:31:18,848] Trial 3 finished with value: 0.26900296860933304 and parameters: {'n_layers': 3, 'n_units_l0': 2, 'dropout_0': 0.1665096066136435, 'n_units_l1': 5, 'dropout_1': 0.36760352350454395, 'n_units_l2': 10, 'dropout_2': 0.1962631478813397, 'learning_rate': 0.08008254158684981, 'optimizer': 'Adam'}. Best is trial 1 with value: 0.13727582335472108.\n",
      "[I 2023-08-17 17:31:32,925] Trial 4 finished with value: 0.5894704666137696 and parameters: {'n_layers': 2, 'n_units_l0': 9, 'dropout_0': 0.17608710743680195, 'n_units_l1': 2, 'dropout_1': 0.32770897933907006, 'learning_rate': 0.04681742491917435, 'optimizer': 'RMSprop'}. Best is trial 1 with value: 0.13727582335472108.\n",
      "[I 2023-08-17 17:31:47,061] Trial 5 finished with value: 0.16324468958377836 and parameters: {'n_layers': 1, 'n_units_l0': 9, 'dropout_0': 0.1519273813703598, 'learning_rate': 0.010620336001419803, 'optimizer': 'Adam'}. Best is trial 1 with value: 0.13727582335472108.\n",
      "[I 2023-08-17 17:32:01,728] Trial 6 finished with value: 0.5379540367722512 and parameters: {'n_layers': 3, 'n_units_l0': 10, 'dropout_0': 0.3847325485268619, 'n_units_l1': 9, 'dropout_1': 0.3710713327437265, 'n_units_l2': 8, 'dropout_2': 0.3977652672401284, 'learning_rate': 0.08653730607255561, 'optimizer': 'Adam'}. Best is trial 1 with value: 0.13727582335472108.\n",
      "[I 2023-08-17 17:32:01,986] Trial 7 pruned. \n",
      "[I 2023-08-17 17:32:16,451] Trial 8 finished with value: 0.15758687707781793 and parameters: {'n_layers': 2, 'n_units_l0': 9, 'dropout_0': 0.15800416551887897, 'n_units_l1': 9, 'dropout_1': 0.2590745127239873, 'learning_rate': 0.053684051063057306, 'optimizer': 'Adam'}. Best is trial 1 with value: 0.13727582335472108.\n",
      "[I 2023-08-17 17:32:30,642] Trial 9 finished with value: 0.14503339499235154 and parameters: {'n_layers': 1, 'n_units_l0': 4, 'dropout_0': 0.37761366066781443, 'learning_rate': 0.019801066760392443, 'optimizer': 'Adam'}. Best is trial 1 with value: 0.13727582335472108.\n"
     ]
    },
    {
     "name": "stdout",
     "output_type": "stream",
     "text": [
      "Validation Accuracy: 94.91539723459104\n",
      "Validation Loss: 0.15486417135596275\n",
      "Training Accuracy: 90.79676559341401\n",
      "Training Loss: 0.23051746004819876\n"
     ]
    },
    {
     "data": {
      "text/plain": [
       "(94.91539723459104,\n",
       " 0.15486417135596275,\n",
       " 90.79676559341401,\n",
       " 0.23051746004819876)"
      ]
     },
     "execution_count": 14,
     "metadata": {},
     "output_type": "execute_result"
    }
   ],
   "source": [
    "# no accuracy function must be loss for regression\n",
    "if mlp_params.MODEL_TYPE == \"Regression\":\n",
    "    mlp_params.METRIC = \"loss\"\n",
    "    pass\n",
    "\n",
    "\n",
    "# wrap the objective function inside of a lambda function to pass args...\n",
    "objective_lambda_func = lambda trial: objective_model_optimizer(\n",
    "    train_loader,\n",
    "    valid_loader,\n",
    "    trial=trial,\n",
    "    params=params,\n",
    "    metric=mlp_params.METRIC,\n",
    "    return_info=False,\n",
    ")\n",
    "\n",
    "\n",
    "# Study is the object for model optimization\n",
    "study = optuna.create_study(direction=f\"{mlp_params.DIRECTION}\")\n",
    "# Here I apply the optimize function of the study to the objective function\n",
    "# This optimizes each parameter specified to be optimized from the defined search space\n",
    "study.optimize(objective_lambda_func, n_trials=mlp_params.N_TRIALS)\n",
    "# Prints out the best trial's optimized parameters\n",
    "objective_model_optimizer(\n",
    "    train_loader,\n",
    "    valid_loader,\n",
    "    trial=study.best_trial,\n",
    "    params=params,\n",
    "    metric=mlp_params.METRIC,\n",
    "    return_info=True,\n",
    ")"
   ]
  },
  {
   "cell_type": "code",
   "execution_count": 15,
   "id": "b2620589",
   "metadata": {
    "execution": {
     "iopub.execute_input": "2023-08-06T05:45:52.393419Z",
     "iopub.status.busy": "2023-08-06T05:45:52.393224Z",
     "iopub.status.idle": "2023-08-06T05:45:53.529740Z",
     "shell.execute_reply": "2023-08-06T05:45:53.529256Z"
    },
    "papermill": {
     "duration": 1.180018,
     "end_time": "2023-08-06T05:45:53.567009",
     "exception": false,
     "start_time": "2023-08-06T05:45:52.386991",
     "status": "completed"
    },
    "tags": []
   },
   "outputs": [
    {
     "data": {
      "application/vnd.plotly.v1+json": {
       "config": {
        "plotlyServerURL": "https://plot.ly"
       },
       "data": [
        {
         "mode": "markers",
         "name": "Objective Value",
         "type": "scatter",
         "x": [
          0,
          1,
          2,
          3,
          4,
          5,
          6,
          8,
          9
         ],
         "y": [
          0.3045150886774063,
          0.13727582335472108,
          0.522242093205452,
          0.26900296860933304,
          0.5894704666137696,
          0.16324468958377836,
          0.5379540367722512,
          0.15758687707781793,
          0.14503339499235154
         ]
        },
        {
         "name": "Best Value",
         "type": "scatter",
         "x": [
          0,
          1,
          2,
          3,
          4,
          5,
          6,
          8,
          9
         ],
         "y": [
          0.3045150886774063,
          0.13727582335472108,
          0.13727582335472108,
          0.13727582335472108,
          0.13727582335472108,
          0.13727582335472108,
          0.13727582335472108,
          0.13727582335472108,
          0.13727582335472108
         ]
        }
       ],
       "layout": {
        "template": {
         "data": {
          "bar": [
           {
            "error_x": {
             "color": "#2a3f5f"
            },
            "error_y": {
             "color": "#2a3f5f"
            },
            "marker": {
             "line": {
              "color": "#E5ECF6",
              "width": 0.5
             },
             "pattern": {
              "fillmode": "overlay",
              "size": 10,
              "solidity": 0.2
             }
            },
            "type": "bar"
           }
          ],
          "barpolar": [
           {
            "marker": {
             "line": {
              "color": "#E5ECF6",
              "width": 0.5
             },
             "pattern": {
              "fillmode": "overlay",
              "size": 10,
              "solidity": 0.2
             }
            },
            "type": "barpolar"
           }
          ],
          "carpet": [
           {
            "aaxis": {
             "endlinecolor": "#2a3f5f",
             "gridcolor": "white",
             "linecolor": "white",
             "minorgridcolor": "white",
             "startlinecolor": "#2a3f5f"
            },
            "baxis": {
             "endlinecolor": "#2a3f5f",
             "gridcolor": "white",
             "linecolor": "white",
             "minorgridcolor": "white",
             "startlinecolor": "#2a3f5f"
            },
            "type": "carpet"
           }
          ],
          "choropleth": [
           {
            "colorbar": {
             "outlinewidth": 0,
             "ticks": ""
            },
            "type": "choropleth"
           }
          ],
          "contour": [
           {
            "colorbar": {
             "outlinewidth": 0,
             "ticks": ""
            },
            "colorscale": [
             [
              0,
              "#0d0887"
             ],
             [
              0.1111111111111111,
              "#46039f"
             ],
             [
              0.2222222222222222,
              "#7201a8"
             ],
             [
              0.3333333333333333,
              "#9c179e"
             ],
             [
              0.4444444444444444,
              "#bd3786"
             ],
             [
              0.5555555555555556,
              "#d8576b"
             ],
             [
              0.6666666666666666,
              "#ed7953"
             ],
             [
              0.7777777777777778,
              "#fb9f3a"
             ],
             [
              0.8888888888888888,
              "#fdca26"
             ],
             [
              1,
              "#f0f921"
             ]
            ],
            "type": "contour"
           }
          ],
          "contourcarpet": [
           {
            "colorbar": {
             "outlinewidth": 0,
             "ticks": ""
            },
            "type": "contourcarpet"
           }
          ],
          "heatmap": [
           {
            "colorbar": {
             "outlinewidth": 0,
             "ticks": ""
            },
            "colorscale": [
             [
              0,
              "#0d0887"
             ],
             [
              0.1111111111111111,
              "#46039f"
             ],
             [
              0.2222222222222222,
              "#7201a8"
             ],
             [
              0.3333333333333333,
              "#9c179e"
             ],
             [
              0.4444444444444444,
              "#bd3786"
             ],
             [
              0.5555555555555556,
              "#d8576b"
             ],
             [
              0.6666666666666666,
              "#ed7953"
             ],
             [
              0.7777777777777778,
              "#fb9f3a"
             ],
             [
              0.8888888888888888,
              "#fdca26"
             ],
             [
              1,
              "#f0f921"
             ]
            ],
            "type": "heatmap"
           }
          ],
          "heatmapgl": [
           {
            "colorbar": {
             "outlinewidth": 0,
             "ticks": ""
            },
            "colorscale": [
             [
              0,
              "#0d0887"
             ],
             [
              0.1111111111111111,
              "#46039f"
             ],
             [
              0.2222222222222222,
              "#7201a8"
             ],
             [
              0.3333333333333333,
              "#9c179e"
             ],
             [
              0.4444444444444444,
              "#bd3786"
             ],
             [
              0.5555555555555556,
              "#d8576b"
             ],
             [
              0.6666666666666666,
              "#ed7953"
             ],
             [
              0.7777777777777778,
              "#fb9f3a"
             ],
             [
              0.8888888888888888,
              "#fdca26"
             ],
             [
              1,
              "#f0f921"
             ]
            ],
            "type": "heatmapgl"
           }
          ],
          "histogram": [
           {
            "marker": {
             "pattern": {
              "fillmode": "overlay",
              "size": 10,
              "solidity": 0.2
             }
            },
            "type": "histogram"
           }
          ],
          "histogram2d": [
           {
            "colorbar": {
             "outlinewidth": 0,
             "ticks": ""
            },
            "colorscale": [
             [
              0,
              "#0d0887"
             ],
             [
              0.1111111111111111,
              "#46039f"
             ],
             [
              0.2222222222222222,
              "#7201a8"
             ],
             [
              0.3333333333333333,
              "#9c179e"
             ],
             [
              0.4444444444444444,
              "#bd3786"
             ],
             [
              0.5555555555555556,
              "#d8576b"
             ],
             [
              0.6666666666666666,
              "#ed7953"
             ],
             [
              0.7777777777777778,
              "#fb9f3a"
             ],
             [
              0.8888888888888888,
              "#fdca26"
             ],
             [
              1,
              "#f0f921"
             ]
            ],
            "type": "histogram2d"
           }
          ],
          "histogram2dcontour": [
           {
            "colorbar": {
             "outlinewidth": 0,
             "ticks": ""
            },
            "colorscale": [
             [
              0,
              "#0d0887"
             ],
             [
              0.1111111111111111,
              "#46039f"
             ],
             [
              0.2222222222222222,
              "#7201a8"
             ],
             [
              0.3333333333333333,
              "#9c179e"
             ],
             [
              0.4444444444444444,
              "#bd3786"
             ],
             [
              0.5555555555555556,
              "#d8576b"
             ],
             [
              0.6666666666666666,
              "#ed7953"
             ],
             [
              0.7777777777777778,
              "#fb9f3a"
             ],
             [
              0.8888888888888888,
              "#fdca26"
             ],
             [
              1,
              "#f0f921"
             ]
            ],
            "type": "histogram2dcontour"
           }
          ],
          "mesh3d": [
           {
            "colorbar": {
             "outlinewidth": 0,
             "ticks": ""
            },
            "type": "mesh3d"
           }
          ],
          "parcoords": [
           {
            "line": {
             "colorbar": {
              "outlinewidth": 0,
              "ticks": ""
             }
            },
            "type": "parcoords"
           }
          ],
          "pie": [
           {
            "automargin": true,
            "type": "pie"
           }
          ],
          "scatter": [
           {
            "fillpattern": {
             "fillmode": "overlay",
             "size": 10,
             "solidity": 0.2
            },
            "type": "scatter"
           }
          ],
          "scatter3d": [
           {
            "line": {
             "colorbar": {
              "outlinewidth": 0,
              "ticks": ""
             }
            },
            "marker": {
             "colorbar": {
              "outlinewidth": 0,
              "ticks": ""
             }
            },
            "type": "scatter3d"
           }
          ],
          "scattercarpet": [
           {
            "marker": {
             "colorbar": {
              "outlinewidth": 0,
              "ticks": ""
             }
            },
            "type": "scattercarpet"
           }
          ],
          "scattergeo": [
           {
            "marker": {
             "colorbar": {
              "outlinewidth": 0,
              "ticks": ""
             }
            },
            "type": "scattergeo"
           }
          ],
          "scattergl": [
           {
            "marker": {
             "colorbar": {
              "outlinewidth": 0,
              "ticks": ""
             }
            },
            "type": "scattergl"
           }
          ],
          "scattermapbox": [
           {
            "marker": {
             "colorbar": {
              "outlinewidth": 0,
              "ticks": ""
             }
            },
            "type": "scattermapbox"
           }
          ],
          "scatterpolar": [
           {
            "marker": {
             "colorbar": {
              "outlinewidth": 0,
              "ticks": ""
             }
            },
            "type": "scatterpolar"
           }
          ],
          "scatterpolargl": [
           {
            "marker": {
             "colorbar": {
              "outlinewidth": 0,
              "ticks": ""
             }
            },
            "type": "scatterpolargl"
           }
          ],
          "scatterternary": [
           {
            "marker": {
             "colorbar": {
              "outlinewidth": 0,
              "ticks": ""
             }
            },
            "type": "scatterternary"
           }
          ],
          "surface": [
           {
            "colorbar": {
             "outlinewidth": 0,
             "ticks": ""
            },
            "colorscale": [
             [
              0,
              "#0d0887"
             ],
             [
              0.1111111111111111,
              "#46039f"
             ],
             [
              0.2222222222222222,
              "#7201a8"
             ],
             [
              0.3333333333333333,
              "#9c179e"
             ],
             [
              0.4444444444444444,
              "#bd3786"
             ],
             [
              0.5555555555555556,
              "#d8576b"
             ],
             [
              0.6666666666666666,
              "#ed7953"
             ],
             [
              0.7777777777777778,
              "#fb9f3a"
             ],
             [
              0.8888888888888888,
              "#fdca26"
             ],
             [
              1,
              "#f0f921"
             ]
            ],
            "type": "surface"
           }
          ],
          "table": [
           {
            "cells": {
             "fill": {
              "color": "#EBF0F8"
             },
             "line": {
              "color": "white"
             }
            },
            "header": {
             "fill": {
              "color": "#C8D4E3"
             },
             "line": {
              "color": "white"
             }
            },
            "type": "table"
           }
          ]
         },
         "layout": {
          "annotationdefaults": {
           "arrowcolor": "#2a3f5f",
           "arrowhead": 0,
           "arrowwidth": 1
          },
          "autotypenumbers": "strict",
          "coloraxis": {
           "colorbar": {
            "outlinewidth": 0,
            "ticks": ""
           }
          },
          "colorscale": {
           "diverging": [
            [
             0,
             "#8e0152"
            ],
            [
             0.1,
             "#c51b7d"
            ],
            [
             0.2,
             "#de77ae"
            ],
            [
             0.3,
             "#f1b6da"
            ],
            [
             0.4,
             "#fde0ef"
            ],
            [
             0.5,
             "#f7f7f7"
            ],
            [
             0.6,
             "#e6f5d0"
            ],
            [
             0.7,
             "#b8e186"
            ],
            [
             0.8,
             "#7fbc41"
            ],
            [
             0.9,
             "#4d9221"
            ],
            [
             1,
             "#276419"
            ]
           ],
           "sequential": [
            [
             0,
             "#0d0887"
            ],
            [
             0.1111111111111111,
             "#46039f"
            ],
            [
             0.2222222222222222,
             "#7201a8"
            ],
            [
             0.3333333333333333,
             "#9c179e"
            ],
            [
             0.4444444444444444,
             "#bd3786"
            ],
            [
             0.5555555555555556,
             "#d8576b"
            ],
            [
             0.6666666666666666,
             "#ed7953"
            ],
            [
             0.7777777777777778,
             "#fb9f3a"
            ],
            [
             0.8888888888888888,
             "#fdca26"
            ],
            [
             1,
             "#f0f921"
            ]
           ],
           "sequentialminus": [
            [
             0,
             "#0d0887"
            ],
            [
             0.1111111111111111,
             "#46039f"
            ],
            [
             0.2222222222222222,
             "#7201a8"
            ],
            [
             0.3333333333333333,
             "#9c179e"
            ],
            [
             0.4444444444444444,
             "#bd3786"
            ],
            [
             0.5555555555555556,
             "#d8576b"
            ],
            [
             0.6666666666666666,
             "#ed7953"
            ],
            [
             0.7777777777777778,
             "#fb9f3a"
            ],
            [
             0.8888888888888888,
             "#fdca26"
            ],
            [
             1,
             "#f0f921"
            ]
           ]
          },
          "colorway": [
           "#636efa",
           "#EF553B",
           "#00cc96",
           "#ab63fa",
           "#FFA15A",
           "#19d3f3",
           "#FF6692",
           "#B6E880",
           "#FF97FF",
           "#FECB52"
          ],
          "font": {
           "color": "#2a3f5f"
          },
          "geo": {
           "bgcolor": "white",
           "lakecolor": "white",
           "landcolor": "#E5ECF6",
           "showlakes": true,
           "showland": true,
           "subunitcolor": "white"
          },
          "hoverlabel": {
           "align": "left"
          },
          "hovermode": "closest",
          "mapbox": {
           "style": "light"
          },
          "paper_bgcolor": "white",
          "plot_bgcolor": "#E5ECF6",
          "polar": {
           "angularaxis": {
            "gridcolor": "white",
            "linecolor": "white",
            "ticks": ""
           },
           "bgcolor": "#E5ECF6",
           "radialaxis": {
            "gridcolor": "white",
            "linecolor": "white",
            "ticks": ""
           }
          },
          "scene": {
           "xaxis": {
            "backgroundcolor": "#E5ECF6",
            "gridcolor": "white",
            "gridwidth": 2,
            "linecolor": "white",
            "showbackground": true,
            "ticks": "",
            "zerolinecolor": "white"
           },
           "yaxis": {
            "backgroundcolor": "#E5ECF6",
            "gridcolor": "white",
            "gridwidth": 2,
            "linecolor": "white",
            "showbackground": true,
            "ticks": "",
            "zerolinecolor": "white"
           },
           "zaxis": {
            "backgroundcolor": "#E5ECF6",
            "gridcolor": "white",
            "gridwidth": 2,
            "linecolor": "white",
            "showbackground": true,
            "ticks": "",
            "zerolinecolor": "white"
           }
          },
          "shapedefaults": {
           "line": {
            "color": "#2a3f5f"
           }
          },
          "ternary": {
           "aaxis": {
            "gridcolor": "white",
            "linecolor": "white",
            "ticks": ""
           },
           "baxis": {
            "gridcolor": "white",
            "linecolor": "white",
            "ticks": ""
           },
           "bgcolor": "#E5ECF6",
           "caxis": {
            "gridcolor": "white",
            "linecolor": "white",
            "ticks": ""
           }
          },
          "title": {
           "x": 0.05
          },
          "xaxis": {
           "automargin": true,
           "gridcolor": "white",
           "linecolor": "white",
           "ticks": "",
           "title": {
            "standoff": 15
           },
           "zerolinecolor": "white",
           "zerolinewidth": 2
          },
          "yaxis": {
           "automargin": true,
           "gridcolor": "white",
           "linecolor": "white",
           "ticks": "",
           "title": {
            "standoff": 15
           },
           "zerolinecolor": "white",
           "zerolinewidth": 2
          }
         }
        },
        "title": {
         "text": "Optimization History Plot"
        },
        "xaxis": {
         "title": {
          "text": "Trial"
         }
        },
        "yaxis": {
         "title": {
          "text": "Objective Value"
         }
        }
       }
      }
     },
     "metadata": {},
     "output_type": "display_data"
    }
   ],
   "source": [
    "# create graph directory for this model\n",
    "graph_path = pathlib.Path(\n",
    "    f\"../../figures/{mlp_params.MODEL_TYPE}/{mlp_params.MODEL_NAME}/{mlp_params.CELL_TYPE}/hyperparameter_optimization\"\n",
    ")\n",
    "\n",
    "pathlib.Path(graph_path).mkdir(parents=True, exist_ok=True)\n",
    "fig = optuna.visualization.plot_optimization_history(study)\n",
    "\n",
    "\n",
    "graph_path = f\"{graph_path}/plot_optimization_history_graph\"\n",
    "\n",
    "fig.write_image(pathlib.Path(f\"{graph_path}.png\"))\n",
    "fig.show()"
   ]
  },
  {
   "cell_type": "code",
   "execution_count": 16,
   "id": "92103de1",
   "metadata": {
    "execution": {
     "iopub.execute_input": "2023-08-06T05:45:53.632524Z",
     "iopub.status.busy": "2023-08-06T05:45:53.632052Z",
     "iopub.status.idle": "2023-08-06T05:45:53.723082Z",
     "shell.execute_reply": "2023-08-06T05:45:53.722632Z"
    },
    "papermill": {
     "duration": 0.125349,
     "end_time": "2023-08-06T05:45:53.724551",
     "exception": false,
     "start_time": "2023-08-06T05:45:53.599202",
     "status": "completed"
    },
    "tags": []
   },
   "outputs": [
    {
     "data": {
      "application/vnd.plotly.v1+json": {
       "config": {
        "plotlyServerURL": "https://plot.ly"
       },
       "data": [
        {
         "marker": {
          "maxdisplayed": 10
         },
         "mode": "lines+markers",
         "name": "Trial0",
         "type": "scatter",
         "x": [
          0,
          1,
          2,
          3,
          4,
          5,
          6,
          7,
          8,
          9,
          10,
          11,
          12,
          13,
          14,
          15,
          16,
          17,
          18,
          19,
          20,
          21,
          22,
          23,
          24,
          25,
          26,
          27,
          28,
          29,
          30,
          31,
          32,
          33,
          34,
          35,
          36,
          37,
          38,
          39,
          40,
          41,
          42,
          43,
          44,
          45,
          46,
          47,
          48,
          49
         ],
         "y": [
          0.6363815546035767,
          0.6244312286376954,
          0.6136656284332276,
          0.6035267263650894,
          0.5939305663108826,
          0.5847149948279063,
          0.5756797262600489,
          0.5666931293904781,
          0.5576762676239013,
          0.5485744243860244,
          0.539345354383642,
          0.5300501018762588,
          0.5207250283314632,
          0.5114205087934222,
          0.5022108681996663,
          0.4931217763572931,
          0.4842455744743347,
          0.4755265643199284,
          0.467080744630412,
          0.45885178357362744,
          0.4508554969515119,
          0.44310354915532196,
          0.4355478608089945,
          0.4281992038091024,
          0.42110718619823456,
          0.41428650457125443,
          0.4076784548936067,
          0.4013396623943533,
          0.39519621575700825,
          0.3892906298240026,
          0.3835531657741916,
          0.3780490496195853,
          0.37273890213532884,
          0.3675889681367313,
          0.36263668571199686,
          0.357867088003291,
          0.35323941675392356,
          0.3487866933408536,
          0.34442744927528574,
          0.3401845391839743,
          0.336078832643788,
          0.33212088708366666,
          0.32831160537032195,
          0.3245979717509313,
          0.32097593095567495,
          0.31750510529331544,
          0.3140930081301547,
          0.3107919198771318,
          0.30758314065787257,
          0.3045150886774063
         ]
        },
        {
         "marker": {
          "maxdisplayed": 10
         },
         "mode": "lines+markers",
         "name": "Trial1",
         "type": "scatter",
         "x": [
          0,
          1,
          2,
          3,
          4,
          5,
          6,
          7,
          8,
          9,
          10,
          11,
          12,
          13,
          14,
          15,
          16,
          17,
          18,
          19,
          20,
          21,
          22,
          23,
          24,
          25,
          26,
          27,
          28,
          29,
          30,
          31,
          32,
          33,
          34,
          35,
          36,
          37,
          38,
          39,
          40,
          41,
          42,
          43,
          44,
          45,
          46,
          47,
          48,
          49
         ],
         "y": [
          0.3719632148742676,
          0.299655944108963,
          0.2630535473426183,
          0.24108863025903704,
          0.22558209121227266,
          0.21359738955895105,
          0.20533451523099627,
          0.1986269224435091,
          0.19337998827298483,
          0.18819877594709394,
          0.18394118682904678,
          0.1803071826696396,
          0.1775303668700732,
          0.17428949613656317,
          0.17125764797131224,
          0.16891587022691967,
          0.16666849378277274,
          0.1645656853914261,
          0.16282080427596446,
          0.16110229022800923,
          0.15969472492025014,
          0.15829194188117982,
          0.15666082326484765,
          0.15542217654486495,
          0.15405791807174682,
          0.15317305229031122,
          0.15194881398368765,
          0.15083983439419948,
          0.149863365600849,
          0.14900763750076293,
          0.14815450267445657,
          0.14759840886108577,
          0.14674792836109798,
          0.14607501249102986,
          0.14520148724317553,
          0.14438756948543918,
          0.14361955765131357,
          0.14295981436183577,
          0.14217777618995078,
          0.14157255318015813,
          0.14122056255980234,
          0.1408118236632574,
          0.14029079148935716,
          0.13964861821044575,
          0.13948999212847812,
          0.13885592445731162,
          0.13839274625828926,
          0.13810352329164743,
          0.13766634519002877,
          0.13727582335472108
         ]
        },
        {
         "marker": {
          "maxdisplayed": 10
         },
         "mode": "lines+markers",
         "name": "Trial2",
         "type": "scatter",
         "x": [
          0,
          1,
          2,
          3,
          4,
          5,
          6,
          7,
          8,
          9,
          10,
          11,
          12,
          13,
          14,
          15,
          16,
          17,
          18,
          19,
          20,
          21,
          22,
          23,
          24,
          25,
          26,
          27,
          28,
          29,
          30,
          31,
          32,
          33,
          34,
          35,
          36,
          37,
          38,
          39,
          40,
          41,
          42,
          43,
          44,
          45,
          46,
          47,
          48,
          49
         ],
         "y": [
          0.662359642982483,
          0.6580590903759003,
          0.6541271924972535,
          0.6505194038152695,
          0.6471997094154358,
          0.6441353440284728,
          0.6412972671645027,
          0.638661476969719,
          0.6362028280893962,
          0.6338994574546815,
          0.6317312923344699,
          0.6296814282735189,
          0.6277292031508226,
          0.6258557362215859,
          0.624037971496582,
          0.6222478605806827,
          0.6204536311766681,
          0.6186312231752608,
          0.6167411007379231,
          0.6147451806068421,
          0.6126202651432583,
          0.6103323898532174,
          0.6078775162282197,
          0.6052565917372704,
          0.6024711689949036,
          0.5995457034844619,
          0.5965022897278821,
          0.5933733126946859,
          0.5901885647198251,
          0.5869396913051605,
          0.583657116851499,
          0.5803530272096395,
          0.5770390797745097,
          0.5737198372097576,
          0.5704052657740457,
          0.5670979946851731,
          0.5637934921561061,
          0.5604955808112496,
          0.5572079832737262,
          0.553938959389925,
          0.5506825505233393,
          0.5474468835762569,
          0.5442333885403567,
          0.5410318275744266,
          0.5378445573647818,
          0.5346731494302336,
          0.5315327710293709,
          0.5284141371647517,
          0.5253128059056341,
          0.522242093205452
         ]
        },
        {
         "marker": {
          "maxdisplayed": 10
         },
         "mode": "lines+markers",
         "name": "Trial3",
         "type": "scatter",
         "x": [
          0,
          1,
          2,
          3,
          4,
          5,
          6,
          7,
          8,
          9,
          10,
          11,
          12,
          13,
          14,
          15,
          16,
          17,
          18,
          19,
          20,
          21,
          22,
          23,
          24,
          25,
          26,
          27,
          28,
          29,
          30,
          31,
          32,
          33,
          34,
          35,
          36,
          37,
          38,
          39,
          40,
          41,
          42,
          43,
          44,
          45,
          46,
          47,
          48,
          49
         ],
         "y": [
          0.3996566653251648,
          0.38497271239757536,
          0.3700117250283559,
          0.35536525845527644,
          0.3471339333057403,
          0.33866824706395465,
          0.33043057407651627,
          0.32328066304326053,
          0.3181542343563504,
          0.3173066347837448,
          0.3149099371650002,
          0.31113438308238983,
          0.30769192966131065,
          0.3048705878002303,
          0.30210975587368005,
          0.2988072933629155,
          0.29606854494880225,
          0.2938208036952548,
          0.29107369953080225,
          0.28865878999233247,
          0.2870100316547212,
          0.28516591408035974,
          0.283543090198351,
          0.28172967160741486,
          0.28005018055438996,
          0.2788286703137251,
          0.27789168269545944,
          0.2758432717195579,
          0.27487872571780764,
          0.27357590009768806,
          0.27232655777085213,
          0.27084972616285086,
          0.26940936292662765,
          0.26786030758829676,
          0.26660733895642413,
          0.2660545533729924,
          0.26498123850371386,
          0.26379909813404084,
          0.2625612949713682,
          0.2615801502764225,
          0.2611125620400033,
          0.26101338870468593,
          0.2601767634236536,
          0.26026238954880027,
          0.2597930698262321,
          0.26027791143759443,
          0.261811886252241,
          0.2620888411377867,
          0.26469786112405813,
          0.26900296860933304
         ]
        },
        {
         "marker": {
          "maxdisplayed": 10
         },
         "mode": "lines+markers",
         "name": "Trial4",
         "type": "scatter",
         "x": [
          0,
          1,
          2,
          3,
          4,
          5,
          6,
          7,
          8,
          9,
          10,
          11,
          12,
          13,
          14,
          15,
          16,
          17,
          18,
          19,
          20,
          21,
          22,
          23,
          24,
          25,
          26,
          27,
          28,
          29,
          30,
          31,
          32,
          33,
          34,
          35,
          36,
          37,
          38,
          39,
          40,
          41,
          42,
          43,
          44,
          45,
          46,
          47,
          48,
          49
         ],
         "y": [
          0.5894638538360596,
          0.5894649922847748,
          0.5894659399986267,
          0.5894666910171509,
          0.5894672560691834,
          0.5894677042961121,
          0.58946807043893,
          0.5894683748483658,
          0.5894686261812846,
          0.5894688355922699,
          0.5894690112634139,
          0.5894691626230876,
          0.5894692971156194,
          0.5894694089889526,
          0.5894695043563842,
          0.5894695930182934,
          0.5894696677432341,
          0.589469736814499,
          0.5894697948506004,
          0.5894698464870454,
          0.5894698932057336,
          0.5894699356772684,
          0.5894699744556262,
          0.5894700129826864,
          0.5894700455665589,
          0.5894700756439797,
          0.5894701034934433,
          0.5894701293536596,
          0.5894701534304126,
          0.5894701782862346,
          0.5894702015384552,
          0.5894702233374118,
          0.5894702438152197,
          0.5894702630884507,
          0.5894702812603543,
          0.5894702984227076,
          0.5894703146573661,
          0.5894703300375689,
          0.5894703446290434,
          0.589470358490944,
          0.5894703716766545,
          0.589470384234474,
          0.5894703962082088,
          0.589470407637683,
          0.5894704185591806,
          0.5894704290058305,
          0.5894704390079419,
          0.5894704485932986,
          0.5894704577874165,
          0.5894704666137696
         ]
        },
        {
         "marker": {
          "maxdisplayed": 10
         },
         "mode": "lines+markers",
         "name": "Trial5",
         "type": "scatter",
         "x": [
          0,
          1,
          2,
          3,
          4,
          5,
          6,
          7,
          8,
          9,
          10,
          11,
          12,
          13,
          14,
          15,
          16,
          17,
          18,
          19,
          20,
          21,
          22,
          23,
          24,
          25,
          26,
          27,
          28,
          29,
          30,
          31,
          32,
          33,
          34,
          35,
          36,
          37,
          38,
          39,
          40,
          41,
          42,
          43,
          44,
          45,
          46,
          47,
          48,
          49
         ],
         "y": [
          0.21727390587329865,
          0.1891927167773247,
          0.17382739832003913,
          0.16213339418172837,
          0.15488870948553085,
          0.15075030227502187,
          0.14788596481084823,
          0.14630414303392172,
          0.14463412099414402,
          0.143436184078455,
          0.1445190737193281,
          0.1441933816919724,
          0.1445398856814091,
          0.14518870509096554,
          0.14667201906442645,
          0.14764886228367685,
          0.14799133968703887,
          0.14801314481430583,
          0.1486364917535531,
          0.14859238766133784,
          0.14909592533395402,
          0.14861550337888976,
          0.14860046946484107,
          0.1481465441485246,
          0.14809311693906785,
          0.14793981961332836,
          0.14791509426302382,
          0.14839827311890466,
          0.1487902240506534,
          0.14941552221775056,
          0.1495406474317274,
          0.1497924707829952,
          0.1502497666712963,
          0.15114238709211347,
          0.15195850653307777,
          0.15270325367649396,
          0.15310206195792636,
          0.15401016332601247,
          0.15513296058544745,
          0.15594930067658425,
          0.15687775401080525,
          0.15731736939577828,
          0.1579353017169376,
          0.15865591479973362,
          0.159599486456977,
          0.16014155732548757,
          0.16088276473765678,
          0.16138050202280282,
          0.16241281725922407,
          0.16324468958377836
         ]
        },
        {
         "marker": {
          "maxdisplayed": 10
         },
         "mode": "lines+markers",
         "name": "Trial6",
         "type": "scatter",
         "x": [
          0,
          1,
          2,
          3,
          4,
          5,
          6,
          7,
          8,
          9,
          10,
          11,
          12,
          13,
          14,
          15,
          16,
          17,
          18,
          19,
          20,
          21,
          22,
          23,
          24,
          25,
          26,
          27,
          28,
          29,
          30,
          31,
          32,
          33,
          34,
          35,
          36,
          37,
          38,
          39,
          40,
          41,
          42,
          43,
          44,
          45,
          46,
          47,
          48,
          49
         ],
         "y": [
          0.35674706697463987,
          0.3400029391050339,
          0.3083583215872447,
          0.28407331109046935,
          0.27485928535461424,
          0.2767184302210808,
          0.302352700488908,
          0.32117029614746573,
          0.3270722524987327,
          0.335397906601429,
          0.35843752324581146,
          0.37696878835558895,
          0.39326219948438496,
          0.40722798385790415,
          0.41933165252208704,
          0.42992234993726014,
          0.43926709346911486,
          0.44757355203231175,
          0.45500567226033456,
          0.461694616228342,
          0.46774655878543847,
          0.4732483680952679,
          0.4782718037781507,
          0.48287666204075014,
          0.4871131702661514,
          0.49102382900623176,
          0.4946448477330031,
          0.4980072529188225,
          0.5011377960443497,
          0.5040596585472426,
          0.5067930349419194,
          0.5093555917032063,
          0.5117628560824827,
          0.5140285254401319,
          0.5161647364922932,
          0.5181822747819953,
          0.5200907621029262,
          0.5218988042912985,
          0.5236141251447873,
          0.5252436802536249,
          0.5267937425433136,
          0.528269990072364,
          0.5296775702127191,
          0.5310211664573713,
          0.532305044134458,
          0.5335330966374149,
          0.5347088865143188,
          0.535835680179298,
          0.5369164776437138,
          0.5379540367722512
         ]
        },
        {
         "marker": {
          "maxdisplayed": 10
         },
         "mode": "lines+markers",
         "name": "Trial7",
         "type": "scatter",
         "x": [
          0
         ],
         "y": [
          0.5574398040771484
         ]
        },
        {
         "marker": {
          "maxdisplayed": 10
         },
         "mode": "lines+markers",
         "name": "Trial8",
         "type": "scatter",
         "x": [
          0,
          1,
          2,
          3,
          4,
          5,
          6,
          7,
          8,
          9,
          10,
          11,
          12,
          13,
          14,
          15,
          16,
          17,
          18,
          19,
          20,
          21,
          22,
          23,
          24,
          25,
          26,
          27,
          28,
          29,
          30,
          31,
          32,
          33,
          34,
          35,
          36,
          37,
          38,
          39,
          40,
          41,
          42,
          43,
          44,
          45,
          46,
          47,
          48,
          49
         ],
         "y": [
          0.24589870870113373,
          0.20868164896965027,
          0.19019264181454976,
          0.17884968593716621,
          0.1719537478685379,
          0.16548412119348843,
          0.16138314540897095,
          0.15822877697646617,
          0.15569142864810095,
          0.1537066739797592,
          0.15164470428770238,
          0.15043890327215195,
          0.14921282334969593,
          0.14869091234036855,
          0.14780397365490597,
          0.1464173405431211,
          0.14637863451943678,
          0.1464262717299991,
          0.1462745472004539,
          0.14546224802732466,
          0.1462937113784608,
          0.14566340561617502,
          0.14621676511090734,
          0.14637278709560633,
          0.1470035530924797,
          0.14720306104192366,
          0.14728811626081112,
          0.14898021881069454,
          0.14941555343825239,
          0.15028742015361785,
          0.15088369581968553,
          0.15262139751575887,
          0.15416576957160774,
          0.1562239039908437,
          0.15662826312439782,
          0.15638272476692994,
          0.15606999816121284,
          0.1559011983244043,
          0.15567659491147753,
          0.1552434454858303,
          0.15497744286932594,
          0.15513940897016298,
          0.15469511650329412,
          0.15454077067022973,
          0.15415003663963742,
          0.15388279213853504,
          0.1536955013237101,
          0.1556313306403657,
          0.15710818965216072,
          0.15758687707781793
         ]
        },
        {
         "marker": {
          "maxdisplayed": 10
         },
         "mode": "lines+markers",
         "name": "Trial9",
         "type": "scatter",
         "x": [
          0,
          1,
          2,
          3,
          4,
          5,
          6,
          7,
          8,
          9,
          10,
          11,
          12,
          13,
          14,
          15,
          16,
          17,
          18,
          19,
          20,
          21,
          22,
          23,
          24,
          25,
          26,
          27,
          28,
          29,
          30,
          31,
          32,
          33,
          34,
          35,
          36,
          37,
          38,
          39,
          40,
          41,
          42,
          43,
          44,
          45,
          46,
          47,
          48,
          49
         ],
         "y": [
          0.27883459329605104,
          0.24686934500932695,
          0.231775105992953,
          0.2202234022319317,
          0.21269068181514741,
          0.20696787635485334,
          0.2032330598149981,
          0.20097343660891054,
          0.19760143558184304,
          0.19450812280178068,
          0.1912081653421575,
          0.18806048308809595,
          0.18473379932917078,
          0.18301301108939305,
          0.18094326118628185,
          0.178899259865284,
          0.17650940146516353,
          0.1744196526706219,
          0.17244804085869542,
          0.17119876645505433,
          0.16929125601337072,
          0.16775689843026076,
          0.16677025141923327,
          0.1656070321177443,
          0.1644205440878868,
          0.16296188613543144,
          0.16177528908959143,
          0.16047098514224803,
          0.15916620806373397,
          0.1581413544714451,
          0.1570753802695582,
          0.1559673861134797,
          0.1552582251754674,
          0.15454625237513991,
          0.15409606026751654,
          0.15325571704241966,
          0.15242109520209804,
          0.1516704251107417,
          0.15124341383194315,
          0.15069800205528736,
          0.15030228183036898,
          0.14967440026147025,
          0.14919623015231864,
          0.14858569099821828,
          0.14801206174823975,
          0.14756629586867667,
          0.14686367286646623,
          0.14624655498191716,
          0.14563413831044217,
          0.14503339499235154
         ]
        }
       ],
       "layout": {
        "showlegend": false,
        "template": {
         "data": {
          "bar": [
           {
            "error_x": {
             "color": "#2a3f5f"
            },
            "error_y": {
             "color": "#2a3f5f"
            },
            "marker": {
             "line": {
              "color": "#E5ECF6",
              "width": 0.5
             },
             "pattern": {
              "fillmode": "overlay",
              "size": 10,
              "solidity": 0.2
             }
            },
            "type": "bar"
           }
          ],
          "barpolar": [
           {
            "marker": {
             "line": {
              "color": "#E5ECF6",
              "width": 0.5
             },
             "pattern": {
              "fillmode": "overlay",
              "size": 10,
              "solidity": 0.2
             }
            },
            "type": "barpolar"
           }
          ],
          "carpet": [
           {
            "aaxis": {
             "endlinecolor": "#2a3f5f",
             "gridcolor": "white",
             "linecolor": "white",
             "minorgridcolor": "white",
             "startlinecolor": "#2a3f5f"
            },
            "baxis": {
             "endlinecolor": "#2a3f5f",
             "gridcolor": "white",
             "linecolor": "white",
             "minorgridcolor": "white",
             "startlinecolor": "#2a3f5f"
            },
            "type": "carpet"
           }
          ],
          "choropleth": [
           {
            "colorbar": {
             "outlinewidth": 0,
             "ticks": ""
            },
            "type": "choropleth"
           }
          ],
          "contour": [
           {
            "colorbar": {
             "outlinewidth": 0,
             "ticks": ""
            },
            "colorscale": [
             [
              0,
              "#0d0887"
             ],
             [
              0.1111111111111111,
              "#46039f"
             ],
             [
              0.2222222222222222,
              "#7201a8"
             ],
             [
              0.3333333333333333,
              "#9c179e"
             ],
             [
              0.4444444444444444,
              "#bd3786"
             ],
             [
              0.5555555555555556,
              "#d8576b"
             ],
             [
              0.6666666666666666,
              "#ed7953"
             ],
             [
              0.7777777777777778,
              "#fb9f3a"
             ],
             [
              0.8888888888888888,
              "#fdca26"
             ],
             [
              1,
              "#f0f921"
             ]
            ],
            "type": "contour"
           }
          ],
          "contourcarpet": [
           {
            "colorbar": {
             "outlinewidth": 0,
             "ticks": ""
            },
            "type": "contourcarpet"
           }
          ],
          "heatmap": [
           {
            "colorbar": {
             "outlinewidth": 0,
             "ticks": ""
            },
            "colorscale": [
             [
              0,
              "#0d0887"
             ],
             [
              0.1111111111111111,
              "#46039f"
             ],
             [
              0.2222222222222222,
              "#7201a8"
             ],
             [
              0.3333333333333333,
              "#9c179e"
             ],
             [
              0.4444444444444444,
              "#bd3786"
             ],
             [
              0.5555555555555556,
              "#d8576b"
             ],
             [
              0.6666666666666666,
              "#ed7953"
             ],
             [
              0.7777777777777778,
              "#fb9f3a"
             ],
             [
              0.8888888888888888,
              "#fdca26"
             ],
             [
              1,
              "#f0f921"
             ]
            ],
            "type": "heatmap"
           }
          ],
          "heatmapgl": [
           {
            "colorbar": {
             "outlinewidth": 0,
             "ticks": ""
            },
            "colorscale": [
             [
              0,
              "#0d0887"
             ],
             [
              0.1111111111111111,
              "#46039f"
             ],
             [
              0.2222222222222222,
              "#7201a8"
             ],
             [
              0.3333333333333333,
              "#9c179e"
             ],
             [
              0.4444444444444444,
              "#bd3786"
             ],
             [
              0.5555555555555556,
              "#d8576b"
             ],
             [
              0.6666666666666666,
              "#ed7953"
             ],
             [
              0.7777777777777778,
              "#fb9f3a"
             ],
             [
              0.8888888888888888,
              "#fdca26"
             ],
             [
              1,
              "#f0f921"
             ]
            ],
            "type": "heatmapgl"
           }
          ],
          "histogram": [
           {
            "marker": {
             "pattern": {
              "fillmode": "overlay",
              "size": 10,
              "solidity": 0.2
             }
            },
            "type": "histogram"
           }
          ],
          "histogram2d": [
           {
            "colorbar": {
             "outlinewidth": 0,
             "ticks": ""
            },
            "colorscale": [
             [
              0,
              "#0d0887"
             ],
             [
              0.1111111111111111,
              "#46039f"
             ],
             [
              0.2222222222222222,
              "#7201a8"
             ],
             [
              0.3333333333333333,
              "#9c179e"
             ],
             [
              0.4444444444444444,
              "#bd3786"
             ],
             [
              0.5555555555555556,
              "#d8576b"
             ],
             [
              0.6666666666666666,
              "#ed7953"
             ],
             [
              0.7777777777777778,
              "#fb9f3a"
             ],
             [
              0.8888888888888888,
              "#fdca26"
             ],
             [
              1,
              "#f0f921"
             ]
            ],
            "type": "histogram2d"
           }
          ],
          "histogram2dcontour": [
           {
            "colorbar": {
             "outlinewidth": 0,
             "ticks": ""
            },
            "colorscale": [
             [
              0,
              "#0d0887"
             ],
             [
              0.1111111111111111,
              "#46039f"
             ],
             [
              0.2222222222222222,
              "#7201a8"
             ],
             [
              0.3333333333333333,
              "#9c179e"
             ],
             [
              0.4444444444444444,
              "#bd3786"
             ],
             [
              0.5555555555555556,
              "#d8576b"
             ],
             [
              0.6666666666666666,
              "#ed7953"
             ],
             [
              0.7777777777777778,
              "#fb9f3a"
             ],
             [
              0.8888888888888888,
              "#fdca26"
             ],
             [
              1,
              "#f0f921"
             ]
            ],
            "type": "histogram2dcontour"
           }
          ],
          "mesh3d": [
           {
            "colorbar": {
             "outlinewidth": 0,
             "ticks": ""
            },
            "type": "mesh3d"
           }
          ],
          "parcoords": [
           {
            "line": {
             "colorbar": {
              "outlinewidth": 0,
              "ticks": ""
             }
            },
            "type": "parcoords"
           }
          ],
          "pie": [
           {
            "automargin": true,
            "type": "pie"
           }
          ],
          "scatter": [
           {
            "fillpattern": {
             "fillmode": "overlay",
             "size": 10,
             "solidity": 0.2
            },
            "type": "scatter"
           }
          ],
          "scatter3d": [
           {
            "line": {
             "colorbar": {
              "outlinewidth": 0,
              "ticks": ""
             }
            },
            "marker": {
             "colorbar": {
              "outlinewidth": 0,
              "ticks": ""
             }
            },
            "type": "scatter3d"
           }
          ],
          "scattercarpet": [
           {
            "marker": {
             "colorbar": {
              "outlinewidth": 0,
              "ticks": ""
             }
            },
            "type": "scattercarpet"
           }
          ],
          "scattergeo": [
           {
            "marker": {
             "colorbar": {
              "outlinewidth": 0,
              "ticks": ""
             }
            },
            "type": "scattergeo"
           }
          ],
          "scattergl": [
           {
            "marker": {
             "colorbar": {
              "outlinewidth": 0,
              "ticks": ""
             }
            },
            "type": "scattergl"
           }
          ],
          "scattermapbox": [
           {
            "marker": {
             "colorbar": {
              "outlinewidth": 0,
              "ticks": ""
             }
            },
            "type": "scattermapbox"
           }
          ],
          "scatterpolar": [
           {
            "marker": {
             "colorbar": {
              "outlinewidth": 0,
              "ticks": ""
             }
            },
            "type": "scatterpolar"
           }
          ],
          "scatterpolargl": [
           {
            "marker": {
             "colorbar": {
              "outlinewidth": 0,
              "ticks": ""
             }
            },
            "type": "scatterpolargl"
           }
          ],
          "scatterternary": [
           {
            "marker": {
             "colorbar": {
              "outlinewidth": 0,
              "ticks": ""
             }
            },
            "type": "scatterternary"
           }
          ],
          "surface": [
           {
            "colorbar": {
             "outlinewidth": 0,
             "ticks": ""
            },
            "colorscale": [
             [
              0,
              "#0d0887"
             ],
             [
              0.1111111111111111,
              "#46039f"
             ],
             [
              0.2222222222222222,
              "#7201a8"
             ],
             [
              0.3333333333333333,
              "#9c179e"
             ],
             [
              0.4444444444444444,
              "#bd3786"
             ],
             [
              0.5555555555555556,
              "#d8576b"
             ],
             [
              0.6666666666666666,
              "#ed7953"
             ],
             [
              0.7777777777777778,
              "#fb9f3a"
             ],
             [
              0.8888888888888888,
              "#fdca26"
             ],
             [
              1,
              "#f0f921"
             ]
            ],
            "type": "surface"
           }
          ],
          "table": [
           {
            "cells": {
             "fill": {
              "color": "#EBF0F8"
             },
             "line": {
              "color": "white"
             }
            },
            "header": {
             "fill": {
              "color": "#C8D4E3"
             },
             "line": {
              "color": "white"
             }
            },
            "type": "table"
           }
          ]
         },
         "layout": {
          "annotationdefaults": {
           "arrowcolor": "#2a3f5f",
           "arrowhead": 0,
           "arrowwidth": 1
          },
          "autotypenumbers": "strict",
          "coloraxis": {
           "colorbar": {
            "outlinewidth": 0,
            "ticks": ""
           }
          },
          "colorscale": {
           "diverging": [
            [
             0,
             "#8e0152"
            ],
            [
             0.1,
             "#c51b7d"
            ],
            [
             0.2,
             "#de77ae"
            ],
            [
             0.3,
             "#f1b6da"
            ],
            [
             0.4,
             "#fde0ef"
            ],
            [
             0.5,
             "#f7f7f7"
            ],
            [
             0.6,
             "#e6f5d0"
            ],
            [
             0.7,
             "#b8e186"
            ],
            [
             0.8,
             "#7fbc41"
            ],
            [
             0.9,
             "#4d9221"
            ],
            [
             1,
             "#276419"
            ]
           ],
           "sequential": [
            [
             0,
             "#0d0887"
            ],
            [
             0.1111111111111111,
             "#46039f"
            ],
            [
             0.2222222222222222,
             "#7201a8"
            ],
            [
             0.3333333333333333,
             "#9c179e"
            ],
            [
             0.4444444444444444,
             "#bd3786"
            ],
            [
             0.5555555555555556,
             "#d8576b"
            ],
            [
             0.6666666666666666,
             "#ed7953"
            ],
            [
             0.7777777777777778,
             "#fb9f3a"
            ],
            [
             0.8888888888888888,
             "#fdca26"
            ],
            [
             1,
             "#f0f921"
            ]
           ],
           "sequentialminus": [
            [
             0,
             "#0d0887"
            ],
            [
             0.1111111111111111,
             "#46039f"
            ],
            [
             0.2222222222222222,
             "#7201a8"
            ],
            [
             0.3333333333333333,
             "#9c179e"
            ],
            [
             0.4444444444444444,
             "#bd3786"
            ],
            [
             0.5555555555555556,
             "#d8576b"
            ],
            [
             0.6666666666666666,
             "#ed7953"
            ],
            [
             0.7777777777777778,
             "#fb9f3a"
            ],
            [
             0.8888888888888888,
             "#fdca26"
            ],
            [
             1,
             "#f0f921"
            ]
           ]
          },
          "colorway": [
           "#636efa",
           "#EF553B",
           "#00cc96",
           "#ab63fa",
           "#FFA15A",
           "#19d3f3",
           "#FF6692",
           "#B6E880",
           "#FF97FF",
           "#FECB52"
          ],
          "font": {
           "color": "#2a3f5f"
          },
          "geo": {
           "bgcolor": "white",
           "lakecolor": "white",
           "landcolor": "#E5ECF6",
           "showlakes": true,
           "showland": true,
           "subunitcolor": "white"
          },
          "hoverlabel": {
           "align": "left"
          },
          "hovermode": "closest",
          "mapbox": {
           "style": "light"
          },
          "paper_bgcolor": "white",
          "plot_bgcolor": "#E5ECF6",
          "polar": {
           "angularaxis": {
            "gridcolor": "white",
            "linecolor": "white",
            "ticks": ""
           },
           "bgcolor": "#E5ECF6",
           "radialaxis": {
            "gridcolor": "white",
            "linecolor": "white",
            "ticks": ""
           }
          },
          "scene": {
           "xaxis": {
            "backgroundcolor": "#E5ECF6",
            "gridcolor": "white",
            "gridwidth": 2,
            "linecolor": "white",
            "showbackground": true,
            "ticks": "",
            "zerolinecolor": "white"
           },
           "yaxis": {
            "backgroundcolor": "#E5ECF6",
            "gridcolor": "white",
            "gridwidth": 2,
            "linecolor": "white",
            "showbackground": true,
            "ticks": "",
            "zerolinecolor": "white"
           },
           "zaxis": {
            "backgroundcolor": "#E5ECF6",
            "gridcolor": "white",
            "gridwidth": 2,
            "linecolor": "white",
            "showbackground": true,
            "ticks": "",
            "zerolinecolor": "white"
           }
          },
          "shapedefaults": {
           "line": {
            "color": "#2a3f5f"
           }
          },
          "ternary": {
           "aaxis": {
            "gridcolor": "white",
            "linecolor": "white",
            "ticks": ""
           },
           "baxis": {
            "gridcolor": "white",
            "linecolor": "white",
            "ticks": ""
           },
           "bgcolor": "#E5ECF6",
           "caxis": {
            "gridcolor": "white",
            "linecolor": "white",
            "ticks": ""
           }
          },
          "title": {
           "x": 0.05
          },
          "xaxis": {
           "automargin": true,
           "gridcolor": "white",
           "linecolor": "white",
           "ticks": "",
           "title": {
            "standoff": 15
           },
           "zerolinecolor": "white",
           "zerolinewidth": 2
          },
          "yaxis": {
           "automargin": true,
           "gridcolor": "white",
           "linecolor": "white",
           "ticks": "",
           "title": {
            "standoff": 15
           },
           "zerolinecolor": "white",
           "zerolinewidth": 2
          }
         }
        },
        "title": {
         "text": "Intermediate Values Plot"
        },
        "xaxis": {
         "title": {
          "text": "Step"
         }
        },
        "yaxis": {
         "title": {
          "text": "Intermediate Value"
         }
        }
       }
      }
     },
     "metadata": {},
     "output_type": "display_data"
    }
   ],
   "source": [
    "# create graph directory for this model\n",
    "graph_path = pathlib.Path(\n",
    "    f\"../../figures/{mlp_params.MODEL_TYPE}/{mlp_params.MODEL_NAME}/{mlp_params.CELL_TYPE}/hyperparameter_optimization\"\n",
    ").resolve(strict=True)\n",
    "\n",
    "pathlib.Path(graph_path).mkdir(parents=True, exist_ok=True)\n",
    "fig = optuna.visualization.plot_intermediate_values(study)\n",
    "\n",
    "graph_path = f\"{graph_path}/plot_intermediate_values_graph\"\n",
    "\n",
    "fig.write_image(pathlib.Path(f\"{graph_path}.png\"))\n",
    "fig.show()"
   ]
  },
  {
   "cell_type": "code",
   "execution_count": 17,
   "id": "325a1ec3",
   "metadata": {
    "execution": {
     "iopub.execute_input": "2023-08-06T05:45:53.800067Z",
     "iopub.status.busy": "2023-08-06T05:45:53.799555Z",
     "iopub.status.idle": "2023-08-06T05:45:53.803285Z",
     "shell.execute_reply": "2023-08-06T05:45:53.802900Z"
    },
    "papermill": {
     "duration": 0.041901,
     "end_time": "2023-08-06T05:45:53.804190",
     "exception": false,
     "start_time": "2023-08-06T05:45:53.762289",
     "status": "completed"
    },
    "tags": []
   },
   "outputs": [],
   "source": [
    "param_dict = extract_best_trial_params(\n",
    "    study.best_params, params, model_name=mlp_params.MODEL_NAME\n",
    ")"
   ]
  },
  {
   "cell_type": "code",
   "execution_count": null,
   "id": "2b560ea3",
   "metadata": {},
   "outputs": [],
   "source": []
  }
 ],
 "metadata": {
  "jupytext": {
   "cell_metadata_filter": "-all",
   "encoding": "# coding: utf-8",
   "executable": "/usr/bin/env python",
   "formats": "ipynb,py",
   "main_language": "python"
  },
  "kernelspec": {
   "display_name": "Python 3 (ipykernel)",
   "language": "python",
   "name": "python3"
  },
  "language_info": {
   "codemirror_mode": {
    "name": "ipython",
    "version": 3
   },
   "file_extension": ".py",
   "mimetype": "text/x-python",
   "name": "python",
   "nbconvert_exporter": "python",
   "pygments_lexer": "ipython3",
   "version": "3.10.12"
  },
  "papermill": {
   "default_parameters": {},
   "duration": 1376.906731,
   "end_time": "2023-08-06T05:50:54.011988",
   "environment_variables": {},
   "exception": null,
   "input_path": "Hyperparameter_Optimization_model_binary.ipynb",
   "output_path": "Hyperparameter_Optimization_model_binary.ipynb",
   "parameters": {
    "CELL_TYPE": "PBMC",
    "CONTROL_NAME": "DMSO_0.100_DMSO_0.025",
    "MODEL_NAME": "DMSO_0.025_vs_Thapsigargin_1",
    "TREATMENT_NAME": "Thapsigargin_1.000_DMSO_0.025"
   },
   "start_time": "2023-08-06T05:27:57.105257",
   "version": "2.4.0"
  },
  "vscode": {
   "interpreter": {
    "hash": "72ae02083a9ca7d143c492d1aec380c7bf553ec51bd66e90e72bba65228121b6"
   }
  }
 },
 "nbformat": 4,
 "nbformat_minor": 5
}
