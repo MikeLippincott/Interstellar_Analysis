{
 "cells": [
  {
   "cell_type": "code",
   "execution_count": 1,
   "metadata": {
    "vscode": {
     "languageId": "r"
    }
   },
   "outputs": [
    {
     "name": "stderr",
     "output_type": "stream",
     "text": [
      "Warning message:\n",
      "“package ‘ggplot2’ was built under R version 4.2.3”\n"
     ]
    },
    {
     "name": "stdout",
     "output_type": "stream",
     "text": [
      "[1] \"../visulaization_utils/figure_themes.R\"\n"
     ]
    }
   ],
   "source": [
    "\n",
    "\n",
    "suppressPackageStartupMessages(library(dplyr))\n",
    "suppressPackageStartupMessages(library(ggplot2))\n",
    "suppressPackageStartupMessages(library(argparse))\n",
    "\n",
    "figure_theme_path <- file.path(\n",
    "    \"..\",\"visulaization_utils\", \"figure_themes.R\")\n",
    "source(figure_theme_path)"
   ]
  },
  {
   "cell_type": "code",
   "execution_count": 2,
   "metadata": {
    "vscode": {
     "languageId": "r"
    }
   },
   "outputs": [
    {
     "ename": "ERROR",
     "evalue": "Error in \"argparse::parse_args_output(output)\": parse error:\nusage: PROGRAM [-h] [--celltype CELLTYPE] [--model_name MODEL_NAME]\nPROGRAM: error: unrecognized arguments: /home/lippincm/.local/share/jupyter/runtime/kernel-v2-159567eWfEVfcPzrAv.json\n",
     "output_type": "error",
     "traceback": [
      "Error in \"argparse::parse_args_output(output)\": parse error:\nusage: PROGRAM [-h] [--celltype CELLTYPE] [--model_name MODEL_NAME]\nPROGRAM: error: unrecognized arguments: /home/lippincm/.local/share/jupyter/runtime/kernel-v2-159567eWfEVfcPzrAv.json\nTraceback:\n",
      "1. parser$parse_args()",
      "2. parse_args_output(output)",
      "3. pa_stop(output, \"parse error:\")"
     ]
    }
   ],
   "source": [
    "# define command line arguments\n",
    "parser <- ArgumentParser(description = \"Visualize MLP results\")\n",
    "# add arguments\n",
    "parser$add_argument('--celltype', type='character', help='Cell type to visualize')\n",
    "parser$add_argument('--model_name', type='character', help='Model name to visualize')\n",
    "\n",
    "# parse arguments from command line\n",
    "args <- parser$parse_args()\n",
    "\n",
    "# define cell type\n",
    "celltype <- args$celltype\n",
    "model_name <- args$model_name\n"
   ]
  },
  {
   "cell_type": "code",
   "execution_count": null,
   "metadata": {
    "vscode": {
     "languageId": "r"
    }
   },
   "outputs": [],
   "source": [
    "output_file <- file.path(\n",
    "    \"..\",\"..\",\"figures\",\"Binary_Classification\",model_name,celltype,\"pr_curves.png\"\n",
    ")"
   ]
  },
  {
   "cell_type": "code",
   "execution_count": null,
   "metadata": {
    "vscode": {
     "languageId": "r"
    }
   },
   "outputs": [],
   "source": [
    "results_dir <- file.path(\n",
    "    \"..\",\"..\",\"results\",\"Binary_Classification\",\"DMSO_0.025_vs_LPS_100\",\"SHSY5Y\"\n",
    ")\n",
    "results_file <- file.path(\n",
    "    results_dir,\"training_metrics.csv\"\n",
    ")\n",
    "\n",
    "# Read in the results file\n",
    "df <- read.csv(results_file)\n",
    "head(df,3)"
   ]
  },
  {
   "cell_type": "code",
   "execution_count": null,
   "metadata": {
    "vscode": {
     "languageId": "r"
    }
   },
   "outputs": [],
   "source": [
    "pr_curve_gg <- (\n",
    "    ggplot(df, aes(x = Recall, y = Precision))\n",
    "    + geom_line(aes(color = group, linetype = shuffled_data))\n",
    "    + theme_bw()\n",
    "    + xlab(\"Recall\")\n",
    "    + ylab(\"Precision\")\n",
    "    # set the colors of the lines\n",
    "    + scale_color_manual(\n",
    "        name = \"Data\\nsplit\",\n",
    "        labels = data_split_labels,\n",
    "        values = data_split_colors\n",
    "    )\n",
    "\n",
    "    + scale_linetype_manual(\n",
    "        name = \"Shuffled\\ntraining\\ndata\",\n",
    "        labels = shuffled_labels,\n",
    "        values = shuffled_linetypes\n",
    "    )\n",
    "\n",
    "    + guides(\n",
    "        color = guide_legend(order = 1),\n",
    "        linetype = guide_legend(order = 2),\n",
    "    )\n",
    "    + coord_fixed()\n",
    "    + figure_theme\n",
    "    # Decrease spacing in legend\n",
    "    + theme(\n",
    "        legend.spacing.y = unit(0.1, \"cm\"),\n",
    "        legend.box.spacing = unit(0.2, \"cm\"),\n",
    "        legend.key.size = unit(0.7, \"lines\"),\n",
    "        legend.key.width = unit(1, \"lines\")\n",
    "    )\n",
    "    + ggtitle(paste0(\"Precision-Recall Curve for \", model_name))\n",
    ")\n",
    "\n",
    "ggsave(output_file, pr_curve_gg, height = 5.5, width = 8.5, dpi = 500)"
   ]
  }
 ],
 "metadata": {
  "kernelspec": {
   "display_name": "R",
   "language": "R",
   "name": "ir"
  },
  "language_info": {
   "codemirror_mode": "r",
   "file_extension": ".r",
   "mimetype": "text/x-r-source",
   "name": "R",
   "pygments_lexer": "r",
   "version": "4.2.2"
  },
  "orig_nbformat": 4
 },
 "nbformat": 4,
 "nbformat_minor": 2
}
