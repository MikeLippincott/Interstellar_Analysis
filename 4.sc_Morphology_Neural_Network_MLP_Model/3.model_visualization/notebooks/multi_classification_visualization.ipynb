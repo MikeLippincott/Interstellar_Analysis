{
    "cells": [
        {
            "cell_type": "code",
            "execution_count": null,
            "metadata": {
                "vscode": {
                    "languageId": "r"
                }
            },
            "outputs": [],
            "source": [
                "suppressPackageStartupMessages(suppressWarnings(library(ggplot2))) # plotting\n",
                "suppressPackageStartupMessages(suppressWarnings(library(dplyr))) # data manipulation\n",
                "suppressPackageStartupMessages(suppressWarnings(library(argparser))) # command line arguments\n",
                "source(\"../../../figures/utils/figure_themes.r\")\n"
            ]
        },
        {
            "cell_type": "code",
            "execution_count": null,
            "metadata": {
                "vscode": {
                    "languageId": "r"
                }
            },
            "outputs": [],
            "source": [
                "cell_type <- \"PBMC\"\n",
                "model_name <- \"MultiClass_MLP\"\n"
            ]
        },
        {
            "cell_type": "code",
            "execution_count": null,
            "metadata": {
                "vscode": {
                    "languageId": "r"
                }
            },
            "outputs": [],
            "source": [
                "# set file path for importing the data\n",
                "training_metrics_file <- file.path(paste0(\n",
                "    \"../../results/Multi_Class/\",model_name,\"/\",cell_type,\"/training_metrics.parquet\"\n",
                "))\n",
                "confusion_matrix_file <- file.path(paste0(\n",
                "    \"../../results/Multi_Class/\",model_name,\"/\",cell_type,\"/confusion_matrices.parquet\"\n",
                "))\n",
                "\n",
                "# set output file path for graphs\n",
                "f1_plot_path <- file.path(paste0(\n",
                "    \"../../figures/Multi_Class/\",model_name,\"/\",cell_type,\"/f1_score.png\"\n",
                "))\n",
                "\n",
                "confusion_matrix_plot_path <- file.path(paste0(\n",
                "    \"../../figures/Multi_Class/\",model_name,\"/\",cell_type,\"/confusion_matrix.png\"\n",
                "))\n",
                "# set the path to the results\n",
                "pr_curves_path <- file.path(paste0(\n",
                "        \"../../results/Multi_Class/\",model_name,\"/\",cell_type,\"/PR_curves.parquet\"\n",
                "))\n",
                "\n",
                "\n",
                "# read in the data\n",
                "training_metrics <- arrow::read_parquet(training_metrics_file)\n",
                "confusion_matrix <- arrow::read_parquet(confusion_matrix_file)\n",
                "PR_curves <- arrow::read_parquet(pr_curves_path)"
            ]
        },
        {
            "cell_type": "code",
            "execution_count": null,
            "metadata": {
                "vscode": {
                    "languageId": "r"
                }
            },
            "outputs": [],
            "source": [
                "\n",
                "support <- training_metrics[training_metrics$metric == \"support\",]\n",
                "# get apoptosis, healthy, and pyroptosis support rows in one df\n",
                "support <- support[support$label %in% c(\"apoptosis\", \"healthy\", \"pyroptosis\"),]\n"
            ]
        },
        {
            "cell_type": "code",
            "execution_count": null,
            "metadata": {
                "vscode": {
                    "languageId": "r"
                }
            },
            "outputs": [],
            "source": [
                "# get the rows that contain the F1 scores\n",
                "f1_scores <- training_metrics[training_metrics$metric == \"f1-score\",]\n",
                "# remove the rows that contain the macro and weighted averages\n",
                "f1_scores <- f1_scores[!grepl(\"macro avg\", f1_scores$label),]\n",
                "f1_scores <- f1_scores[!grepl(\"weighted avg\", f1_scores$label),]\n",
                "# muatate the label column for multiple cases\n",
                "f1_scores$label <- gsub(\"healthy\", \"Control\", f1_scores$label)\n",
                "f1_scores$label <- gsub(\"apoptosis\", \"Apoptosis\", f1_scores$label)\n",
                "f1_scores$label <- gsub(\"pyroptosis\", \"Pyroptosis\", f1_scores$label)\n",
                "# mutate the data type column\n",
                "f1_scores$group <- gsub(\"train\", \"Training\", f1_scores$group)\n",
                "f1_scores$group <- gsub(\"test\", \"Testing\", f1_scores$group)\n",
                "f1_scores$group <- gsub(\"validation\", \"Validation\", f1_scores$group)\n",
                "f1_scores$group <- gsub(\"treatment_holdout\", \"Treatment Holdout\", f1_scores$group)\n",
                "f1_scores$group <- gsub(\"holdout\", \"Holdout\", f1_scores$group)\n",
                "# factorize the group column\n",
                "f1_scores$group <- factor(f1_scores$group, levels = c(\n",
                "    \"Training\", \"Validation\", \"Testing\",\"Treatment Holdout\", \"Holdout\"\n",
                "))\n",
                "# mutate the shuffled_data column\n",
                "f1_scores$shuffled_data <- gsub(\"TRUE\", \"Shuffled\", f1_scores$shuffled_data)\n",
                "f1_scores$shuffled_data <- gsub(\"FALSE\", \"Not Shuffled\", f1_scores$shuffled_data)\n",
                "# cbind the support column to the f1_scores df\n",
                "f1_scores <- cbind(f1_scores, support$value)\n",
                "# rename the support column\n",
                "colnames(f1_scores)[colnames(f1_scores) == \"support$value\"] <- \"support\"\n",
                "# dived the support by 10,000 to get the number of cells\n",
                "f1_scores$support <- f1_scores$support / 10000\n",
                "# round the support column to 2 decimal places\n",
                "f1_scores$support <- round(f1_scores$support, 2)\n"
            ]
        },
        {
            "cell_type": "code",
            "execution_count": null,
            "metadata": {
                "vscode": {
                    "languageId": "r"
                }
            },
            "outputs": [],
            "source": [
                "# make the label a factor so that the order is preserved\n",
                "f1_scores$label <- factor(\n",
                "    f1_scores$label, levels = c(\n",
                "        \"Control\", \"Apoptosis\", \"Pyroptosis\"\n",
                "        )\n",
                "    )\n"
            ]
        },
        {
            "cell_type": "markdown",
            "metadata": {},
            "source": [
                "F1 score  \n",
                "### $F1 Score = 2 * \\frac{precision * recall}{precision + recall}$\n",
                "### $Precision = \\frac{TP}{TP + FP}$\n",
                "### $Recall = \\frac{TP}{TP + FN}$\n",
                "### $F1 Score = \\frac{2 * TP}{2 * TP + FP + FN}$"
            ]
        },
        {
            "cell_type": "code",
            "execution_count": null,
            "metadata": {
                "vscode": {
                    "languageId": "r"
                }
            },
            "outputs": [],
            "source": [
                "head(f1_scores, 1)\n"
            ]
        },
        {
            "cell_type": "code",
            "execution_count": null,
            "metadata": {
                "vscode": {
                    "languageId": "r"
                }
            },
            "outputs": [],
            "source": [
                "# set plot size\n",
                "width <- 10\n",
                "height <- 5\n",
                "options(repr.plot.width = width, repr.plot.height = height)\n",
                "# bar plot of the F1 scores\n",
                "f1_score_plot <- (\n",
                "    ggplot(f1_scores, aes(x = shuffled_data, y = value, fill = group))\n",
                "    + geom_bar(stat = \"identity\", position = \"dodge\")\n",
                "\n",
                "    + ylim(0, 1)\n",
                "    + facet_wrap(~label)\n",
                "    + ylab(\"F1 Score\")\n",
                "    + xlab(\"Data Split\")\n",
                "    # change the legend title\n",
                "    + labs(fill = \"Predicted Class\")\n",
                "    # change the colours\n",
                "    + scale_fill_manual(values = c(\n",
                "        \"Training\" = \"#88F2F2\",\n",
                "        \"Validation\" = \"#056CF2\",\n",
                "        \"Testing\" = \"#A6382E\",\n",
                "        \"Treatment Holdout\" = \"#04B404\",\n",
                "        \"Holdout\" = \"#F2A900\"\n",
                "    ))\n",
                "    + figure_theme_wide\n",
                "\n",
                ")\n",
                "ggsave(f1_plot_path, f1_score_plot, width = width, height = height, dpi = 600)\n",
                "f1_score_plot\n"
            ]
        },
        {
            "cell_type": "markdown",
            "metadata": {},
            "source": [
                "#### Confusion Matrix data plot"
            ]
        },
        {
            "cell_type": "code",
            "execution_count": null,
            "metadata": {
                "vscode": {
                    "languageId": "r"
                }
            },
            "outputs": [],
            "source": [
                "confusion_matrix"
            ]
        },
        {
            "cell_type": "code",
            "execution_count": null,
            "metadata": {
                "vscode": {
                    "languageId": "r"
                }
            },
            "outputs": [],
            "source": []
        },
        {
            "cell_type": "code",
            "execution_count": null,
            "metadata": {
                "vscode": {
                    "languageId": "r"
                }
            },
            "outputs": [],
            "source": [
                "# round the Recall vlaues to 2 decimal places\n",
                "confusion_matrix$Recall <- round(confusion_matrix$Recall, 2)\n",
                "# mutate the label column for multiple cases\n",
                "confusion_matrix$True_Label <- gsub(\"healthy\", \"Control\", confusion_matrix$True_Label)\n",
                "confusion_matrix$True_Label <- gsub(\"apoptosis\", \"Apoptosis\", confusion_matrix$True_Label)\n",
                "confusion_matrix$True_Label <- gsub(\"pyroptosis\", \"Pyroptosis\", confusion_matrix$True_Label)\n",
                "confusion_matrix$Predicted_Label <- gsub(\"healthy\", \"Control\", confusion_matrix$Predicted_Label)\n",
                "confusion_matrix$Predicted_Label <- gsub(\"apoptosis\", \"Apoptosis\", confusion_matrix$Predicted_Label)\n",
                "confusion_matrix$Predicted_Label <- gsub(\"pyroptosis\", \"Pyroptosis\", confusion_matrix$Predicted_Label)\n",
                "\n",
                "# make the True Label and Predicted Label columns factors\n",
                "confusion_matrix$True_Label <- factor(\n",
                "    confusion_matrix$True_Label, levels = c(\n",
                "        \"Control\", \"Apoptosis\", \"Pyroptosis\"\n",
                "        )\n",
                "    )\n",
                "confusion_matrix$Predicted_Label <- factor(\n",
                "    confusion_matrix$Predicted_Label, levels = c(\n",
                "       \"Pyroptosis\", \"Apoptosis\", \"Control\"\n",
                "        )\n",
                "    )\n",
                "    \n",
                "\n",
                "# mutate the shuffled_data column\n",
                "confusion_matrix$shuffled_data <- gsub(\"TRUE\", \"Shuffled\", confusion_matrix$shuffled_data)\n",
                "confusion_matrix$shuffled_data <- gsub(\"FALSE\", \"Not Shuffled\", confusion_matrix$shuffled_data)\n",
                "# mutate the data type column\n",
                "confusion_matrix$data_split <- gsub(\"testing\", \"Testing\", confusion_matrix$data_split)\n",
                "confusion_matrix$data_split <- gsub(\"treatment_holdout\", \"Treatment Holdout\", confusion_matrix$data_split)\n",
                "confusion_matrix$data_split <- gsub(\"holdout\", \"Hold Out Wells\", confusion_matrix$data_split)\n",
                "# make the data split column a factor\n",
                "confusion_matrix$data_split <- factor(confusion_matrix$data_split, levels = c(\n",
                "    \"Testing\", \"Hold Out Wells\",\"Treatment Holdout\"\n",
                "))\n"
            ]
        },
        {
            "cell_type": "code",
            "execution_count": null,
            "metadata": {
                "vscode": {
                    "languageId": "r"
                }
            },
            "outputs": [],
            "source": [
                "# split the confusion matrix into testing/holdout and treatment holdout\n",
                "confusion_matrix_testing <- confusion_matrix[confusion_matrix$data_split == \"Testing\",]\n",
                "confusion_matrix_holdout <- confusion_matrix[confusion_matrix$data_split == \"Hold Out Wells\",]\n",
                "confusion_matrix_treatment_holdout <- confusion_matrix[confusion_matrix$data_split == \"Treatment Holdout\",]\n",
                "\n",
                "# combine the testing and holdout dataframes\n",
                "confusion_matrix_testing_holdout <- rbind(confusion_matrix_testing, confusion_matrix_holdout)\n"
            ]
        },
        {
            "cell_type": "markdown",
            "metadata": {},
            "source": [
                "#### Plot the confusion matrix of test data and holdout data"
            ]
        },
        {
            "cell_type": "code",
            "execution_count": null,
            "metadata": {
                "vscode": {
                    "languageId": "r"
                }
            },
            "outputs": [],
            "source": [
                "confusion_matrix_testing_holdout"
            ]
        },
        {
            "cell_type": "code",
            "execution_count": null,
            "metadata": {
                "vscode": {
                    "languageId": "r"
                }
            },
            "outputs": [],
            "source": []
        },
        {
            "cell_type": "code",
            "execution_count": null,
            "metadata": {
                "vscode": {
                    "languageId": "r"
                }
            },
            "outputs": [],
            "source": [
                "# plot dimensions\n",
                "width <- 14\n",
                "height <- 11\n",
                "options(repr.plot.width = width, repr.plot.height = height)\n",
                "# plot a confusion matrix\n",
                "confusion_matrix_plot <- (\n",
                "    ggplot((confusion_matrix_testing_holdout), aes(x = True_Label, y = Predicted_Label))\n",
                "    + facet_grid(data_split~shuffled_data)\n",
                "    + geom_point(aes(color = Recall), size = 50, shape = 15)\n",
                "    + geom_text(aes(label = Count))\n",
                "    + scale_color_gradient(\"Recall\", low = \"white\", high = \"dark red\",limits = c(0, 1))\n",
                "    + theme_bw()\n",
                "    + ylab(\"Predicted Class\")\n",
                "    + xlab(\"True Class\")\n",
                "    + figure_theme\n",
                "\n",
                "\n",
                ")\n",
                "ggsave(confusion_matrix_plot_path, confusion_matrix_plot, width = width, height = height, dpi = 600)\n",
                "confusion_matrix_plot\n"
            ]
        },
        {
            "cell_type": "code",
            "execution_count": null,
            "metadata": {
                "vscode": {
                    "languageId": "r"
                }
            },
            "outputs": [],
            "source": [
                "# read in the data\n",
                "treatment_holdout_single_cell_predictions_path <- file.path(\n",
                "    paste0(\n",
                "        \"../../results/Multi_Class/\",model_name,\"/\",cell_type,\"/treatment_holdout_single_cell_predictions.parquet\"\n",
                "    )\n",
                ")\n",
                "# read in the data from the parquet file\n",
                "treatment_holdout_single_cell_predictions <- arrow::read_parquet(\n",
                "    treatment_holdout_single_cell_predictions_path\n",
                ")\n",
                "head(treatment_holdout_single_cell_predictions)"
            ]
        },
        {
            "cell_type": "code",
            "execution_count": null,
            "metadata": {
                "vscode": {
                    "languageId": "r"
                }
            },
            "outputs": [],
            "source": [
                "unique(treatment_holdout_single_cell_predictions$shuffle)\n",
                "# split the data into shuffled and not shuffled\n",
                "treatment_holdout_single_cell_predictions_shuffled <- treatment_holdout_single_cell_predictions[\n",
                "    treatment_holdout_single_cell_predictions$shuffle == \"TRUE\",]\n",
                "treatment_holdout_single_cell_predictions_not_shuffled <- treatment_holdout_single_cell_predictions[\n",
                "    treatment_holdout_single_cell_predictions$shuffle == \"FALSE\",]"
            ]
        },
        {
            "cell_type": "code",
            "execution_count": null,
            "metadata": {
                "vscode": {
                    "languageId": "r"
                }
            },
            "outputs": [],
            "source": [
                "# calculate the recall of class 2 (pyroptosis)\n",
                "recall_shuffle <- treatment_holdout_single_cell_predictions_shuffled %>% \n",
                "    filter(true_label == 2 & predicted_label == 2) %>% \n",
                "    nrow() / treatment_holdout_single_cell_predictions_shuffled %>% \n",
                "    filter(true_label == 2) %>% \n",
                "    nrow()\n",
                "# calculate the precision of class 2 (pyroptosis)\n",
                "precision_shuffle <- treatment_holdout_single_cell_predictions_shuffled %>% \n",
                "    filter(true_label == 2 & predicted_label == 2) %>% \n",
                "    nrow() / treatment_holdout_single_cell_predictions_shuffled %>% \n",
                "    filter(predicted_label == 2) %>% \n",
                "    nrow()\n",
                "# calculate the F1 score which is the harmonic mean of precision and recall\n",
                "f1_score_shuffle <- 2 * (precision_shuffle * recall_shuffle) / (precision_shuffle + recall_shuffle)\n",
                "\n",
                "\n",
                "# calculate the recall of class 2 (pyroptosis)\n",
                "recall <- treatment_holdout_single_cell_predictions_not_shuffled %>% \n",
                "    filter(true_label == 2 & predicted_label == 2) %>% \n",
                "    nrow() / treatment_holdout_single_cell_predictions_not_shuffled %>% \n",
                "    filter(true_label == 2) %>% \n",
                "    nrow()\n",
                "# calculate the precision of class 2 (pyroptosis)\n",
                "precision <- treatment_holdout_single_cell_predictions_not_shuffled %>% \n",
                "    filter(true_label == 2 & predicted_label == 2) %>% \n",
                "    nrow() / treatment_holdout_single_cell_predictions_not_shuffled %>% \n",
                "    filter(predicted_label == 2) %>% \n",
                "    nrow()\n",
                "# calculate the F1 score which is the harmonic mean of precision and recall\n",
                "f1_score <- 2 * (precision * recall) / (precision + recall)\n",
                "\n",
                "print(paste(\"F1 score for shuffled data:\", f1_score_shuffle))\n",
                "print(paste(\"F1 score for not shuffled data:\", f1_score))\n"
            ]
        },
        {
            "cell_type": "markdown",
            "metadata": {},
            "source": [
                "## PR Curves"
            ]
        },
        {
            "cell_type": "code",
            "execution_count": null,
            "metadata": {
                "vscode": {
                    "languageId": "r"
                }
            },
            "outputs": [],
            "source": [
                "# replace strings in pr_curves\n",
                "PR_curves$label <- gsub(\"apoptosis\", \"Apoptosis\", PR_curves$label)\n",
                "PR_curves$label <- gsub(\"healthy\", \"Control\", PR_curves$label)\n",
                "PR_curves$label <- gsub(\"pyroptosis\", \"Pyroptosis\", PR_curves$label)\n",
                "\n",
                "PR_curves$data_split <- gsub(\"train\", \"Training\", PR_curves$data_split)\n",
                "PR_curves$data_split <- gsub(\"testing\", \"Testing\", PR_curves$data_split)\n",
                "PR_curves$data_split <- gsub(\"validation\", \"Validation\", PR_curves$data_split)\n",
                "PR_curves$data_split <- gsub(\"treatment_holdout\", \"Treatment Holdout\", PR_curves$data_split)\n",
                "PR_curves$data_split <- gsub(\"holdout\", \"Holdout\", PR_curves$data_split)\n",
                "\n",
                "# factorize the data_split column\n",
                "PR_curves$data_split <- factor(PR_curves$data_split, levels = c(\n",
                "    \"Training\", \"Validation\", \"Testing\",\"Treatment Holdout\", \"Holdout\"\n",
                "))\n",
                "\n",
                "unique(PR_curves$label)\n",
                "unique(PR_curves$data_split)\n",
                "\n",
                "# replace strings in pr_curves shuffle\n",
                "PR_curves$shuffle <- gsub(\"TRUE\", \"Shuffled\", PR_curves$shuffle)\n",
                "PR_curves$shuffle <- gsub(\"FALSE\", \"Not Shuffled\", PR_curves$shuffle)\n",
                "\n",
                "# factorize the shuffled_data column\n",
                "PR_curves$shuffle <- factor(PR_curves$shuffle, levels = c(\n",
                "    \"Not Shuffled\", \"Shuffled\"\n",
                "))\n",
                "\n"
            ]
        },
        {
            "cell_type": "code",
            "execution_count": null,
            "metadata": {
                "vscode": {
                    "languageId": "r"
                }
            },
            "outputs": [],
            "source": [
                "# make a line plot that has the shuffled and not shuffled lines\n",
                "# with shuffled lines dashed and not shuffled lines solid\n",
                "# color by label \n",
                "pr_plot <- (\n",
                "    ggplot(PR_curves, aes(x = recall, y = precision, color = label, linetype = label))\n",
                "    + geom_line(aes(linetype = shuffle))\n",
                "    # + scale_linetype_manual(values = c(\"solid\", \"dashed\"))\n",
                "    + facet_wrap(~data_split)\n",
                "    + theme_bw()\n",
                ")\n",
                "pr_plot\n"
            ]
        }
    ],
    "metadata": {
        "kernelspec": {
            "display_name": "R",
            "language": "R",
            "name": "ir"
        },
        "language_info": {
            "codemirror_mode": "r",
            "file_extension": ".r",
            "mimetype": "text/x-r-source",
            "name": "R",
            "pygments_lexer": "r",
            "version": "4.2.2"
        },
        "orig_nbformat": 4
    },
    "nbformat": 4,
    "nbformat_minor": 2
}
