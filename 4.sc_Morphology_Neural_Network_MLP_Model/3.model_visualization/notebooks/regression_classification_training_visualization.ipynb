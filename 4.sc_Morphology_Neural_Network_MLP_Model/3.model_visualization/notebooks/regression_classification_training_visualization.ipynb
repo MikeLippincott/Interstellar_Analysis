{
 "cells": [
  {
   "cell_type": "code",
   "execution_count": 1,
   "metadata": {
    "vscode": {
     "languageId": "r"
    }
   },
   "outputs": [
    {
     "name": "stderr",
     "output_type": "stream",
     "text": [
      "Warning message:\n",
      "“package ‘ggplot2’ was built under R version 4.2.3”\n"
     ]
    }
   ],
   "source": [
    "\n",
    "suppressPackageStartupMessages(library(dplyr))\n",
    "suppressPackageStartupMessages(library(ggplot2))\n",
    "suppressPackageStartupMessages(library(argparse))"
   ]
  },
  {
   "cell_type": "code",
   "execution_count": 2,
   "metadata": {
    "vscode": {
     "languageId": "r"
    }
   },
   "outputs": [],
   "source": [
    "model_name <- \"DMSO_0.025_vs_LPS_100\"\n",
    "celltype <- \"SHSY5Y\""
   ]
  },
  {
   "cell_type": "code",
   "execution_count": 3,
   "metadata": {
    "vscode": {
     "languageId": "r"
    }
   },
   "outputs": [
    {
     "data": {
      "text/html": [
       "<table class=\"dataframe\">\n",
       "<caption>A data.frame: 3 × 7</caption>\n",
       "<thead>\n",
       "\t<tr><th></th><th scope=col>Actual</th><th scope=col>Average.Predicted</th><th scope=col>cytokine</th><th scope=col>Metadata_Well</th><th scope=col>model_type</th><th scope=col>shuffled_data</th><th scope=col>oneb_Metadata_Treatment_Dose_Inhibitor_Dose</th></tr>\n",
       "\t<tr><th></th><th scope=col>&lt;dbl&gt;</th><th scope=col>&lt;dbl&gt;</th><th scope=col>&lt;chr&gt;</th><th scope=col>&lt;chr&gt;</th><th scope=col>&lt;chr&gt;</th><th scope=col>&lt;chr&gt;</th><th scope=col>&lt;chr&gt;</th></tr>\n",
       "</thead>\n",
       "<tbody>\n",
       "\t<tr><th scope=row>1</th><td>0.2190074</td><td>0.596817</td><td>IL-1 beta [NSU]</td><td>J20</td><td>train</td><td>True</td><td>LPS_100.000_DMSO_0.025</td></tr>\n",
       "\t<tr><th scope=row>2</th><td>0.9226051</td><td>0.596817</td><td>IL-1 beta [NSU]</td><td>I15</td><td>train</td><td>True</td><td>DMSO_0.100_DMSO_0.025 </td></tr>\n",
       "\t<tr><th scope=row>3</th><td>0.6478423</td><td>0.596817</td><td>IL-1 beta [NSU]</td><td>J15</td><td>train</td><td>True</td><td>DMSO_0.100_DMSO_0.025 </td></tr>\n",
       "</tbody>\n",
       "</table>\n"
      ],
      "text/latex": [
       "A data.frame: 3 × 7\n",
       "\\begin{tabular}{r|lllllll}\n",
       "  & Actual & Average.Predicted & cytokine & Metadata\\_Well & model\\_type & shuffled\\_data & oneb\\_Metadata\\_Treatment\\_Dose\\_Inhibitor\\_Dose\\\\\n",
       "  & <dbl> & <dbl> & <chr> & <chr> & <chr> & <chr> & <chr>\\\\\n",
       "\\hline\n",
       "\t1 & 0.2190074 & 0.596817 & IL-1 beta {[}NSU{]} & J20 & train & True & LPS\\_100.000\\_DMSO\\_0.025\\\\\n",
       "\t2 & 0.9226051 & 0.596817 & IL-1 beta {[}NSU{]} & I15 & train & True & DMSO\\_0.100\\_DMSO\\_0.025 \\\\\n",
       "\t3 & 0.6478423 & 0.596817 & IL-1 beta {[}NSU{]} & J15 & train & True & DMSO\\_0.100\\_DMSO\\_0.025 \\\\\n",
       "\\end{tabular}\n"
      ],
      "text/markdown": [
       "\n",
       "A data.frame: 3 × 7\n",
       "\n",
       "| <!--/--> | Actual &lt;dbl&gt; | Average.Predicted &lt;dbl&gt; | cytokine &lt;chr&gt; | Metadata_Well &lt;chr&gt; | model_type &lt;chr&gt; | shuffled_data &lt;chr&gt; | oneb_Metadata_Treatment_Dose_Inhibitor_Dose &lt;chr&gt; |\n",
       "|---|---|---|---|---|---|---|---|\n",
       "| 1 | 0.2190074 | 0.596817 | IL-1 beta [NSU] | J20 | train | True | LPS_100.000_DMSO_0.025 |\n",
       "| 2 | 0.9226051 | 0.596817 | IL-1 beta [NSU] | I15 | train | True | DMSO_0.100_DMSO_0.025  |\n",
       "| 3 | 0.6478423 | 0.596817 | IL-1 beta [NSU] | J15 | train | True | DMSO_0.100_DMSO_0.025  |\n",
       "\n"
      ],
      "text/plain": [
       "  Actual    Average.Predicted cytokine        Metadata_Well model_type\n",
       "1 0.2190074 0.596817          IL-1 beta [NSU] J20           train     \n",
       "2 0.9226051 0.596817          IL-1 beta [NSU] I15           train     \n",
       "3 0.6478423 0.596817          IL-1 beta [NSU] J15           train     \n",
       "  shuffled_data oneb_Metadata_Treatment_Dose_Inhibitor_Dose\n",
       "1 True          LPS_100.000_DMSO_0.025                     \n",
       "2 True          DMSO_0.100_DMSO_0.025                      \n",
       "3 True          DMSO_0.100_DMSO_0.025                      "
      ]
     },
     "metadata": {},
     "output_type": "display_data"
    }
   ],
   "source": [
    "# read in the data\n",
    "output_file <- file.path(\n",
    "    \"..\",\"..\",\"figures\",\"Regression\",model_name,celltype,\"regression_plots.pdf\"\n",
    ")\n",
    "results_dir <- file.path(\n",
    "    \"..\",\"..\",\"results\",\"Regression\",model_name,celltype\n",
    ")\n",
    "results_file <- file.path(\n",
    "    results_dir,\"regression_results_training.csv\"\n",
    ")\n",
    "\n",
    "# Read in the results file\n",
    "df <- read.csv(results_file)\n",
    "head(df,3)"
   ]
  },
  {
   "cell_type": "code",
   "execution_count": 4,
   "metadata": {
    "vscode": {
     "languageId": "r"
    }
   },
   "outputs": [
    {
     "name": "stdout",
     "output_type": "stream",
     "text": [
      "[1] \"True\"  \"False\"\n",
      "[1] \"train\"      \"validation\" \"test\"       \"holdout\"   \n",
      "[1] 2\n",
      "[1] \"LPS_100.000_DMSO_0.025\" \"DMSO_0.100_DMSO_0.025\" \n"
     ]
    }
   ],
   "source": [
    "print(unique(df$shuffled_data))\n",
    "print(unique(df$model_type))\n",
    "print(length(unique(df$cytokine)))\n",
    "print((unique(df$oneb_Metadata_Treatment_Dose_Inhibitor_Dose)))"
   ]
  },
  {
   "cell_type": "code",
   "execution_count": 5,
   "metadata": {
    "vscode": {
     "languageId": "r"
    }
   },
   "outputs": [],
   "source": [
    "# # select rwos that are training data only \n",
    "# df <- df %>% filter(model_type == \"validation\")"
   ]
  },
  {
   "cell_type": "code",
   "execution_count": 6,
   "metadata": {
    "vscode": {
     "languageId": "r"
    }
   },
   "outputs": [
    {
     "data": {
      "text/html": [
       "<strong>png:</strong> 2"
      ],
      "text/latex": [
       "\\textbf{png:} 2"
      ],
      "text/markdown": [
       "**png:** 2"
      ],
      "text/plain": [
       "png \n",
       "  2 "
      ]
     },
     "metadata": {},
     "output_type": "display_data"
    }
   ],
   "source": [
    "pdf(file=output_file)\n",
    "for (i in 1:length(unique(df$cytokine))){\n",
    "    tmpdf <- df %>% filter(cytokine == unique(df$cytokine)[i])\n",
    "    # linear trend + confidence interval\n",
    "    p3 <- (\n",
    "    ggplot(tmpdf, aes(\n",
    "        x=Actual, \n",
    "        y=Average.Predicted, \n",
    "        shape=shuffled_data,\n",
    "        color=oneb_Metadata_Treatment_Dose_Inhibitor_Dose, \n",
    "        linetype=shuffled_data\n",
    "        )) \n",
    "    + geom_point() \n",
    "    # + geom_smooth(method=lm , color=\"red\", fill=\"#69b3a2\", se=TRUE) \n",
    "    + geom_smooth(method=lm , se=TRUE, formula = y ~ x)\n",
    "    + labs(x=\"Actual\", y=\"Predicted\", title=\"Regression Plot\")\n",
    "    + theme(plot.title = element_text(hjust = 0.5))\n",
    "    + theme(legend.title=element_blank())\n",
    "    + ggtitle(paste0(\"Regression for \",unique(df$cytokine)[i])\n",
    "        )\n",
    "    )\n",
    "    plot(p3) \n",
    "}\n",
    "dev.off()"
   ]
  },
  {
   "cell_type": "code",
   "execution_count": 10,
   "metadata": {
    "vscode": {
     "languageId": "r"
    }
   },
   "outputs": [
    {
     "data": {
      "image/png": "[encoded data removed]",
      "text/plain": [
       "plot without title"
      ]
     },
     "metadata": {
      "image/png": {
       "height": 420,
       "width": 420
      }
     },
     "output_type": "display_data"
    }
   ],
   "source": [
    "# linear trend + confidence interval\n",
    "p3 <- (\n",
    "    ggplot(tmpdf, aes(\n",
    "        x=Actual, \n",
    "        y=Average.Predicted, \n",
    "        color=oneb_Metadata_Treatment_Dose_Inhibitor_Dose, \n",
    "        linetype=shuffled_data\n",
    "        )) \n",
    "    + geom_point() \n",
    "    # + geom_smooth(method=lm , color=\"red\", fill=\"#69b3a2\", se=TRUE) \n",
    "    + geom_smooth(method=lm , se=TRUE, formula = y ~ x)\n",
    "    + labs(x=\"Actual\", y=\"Predicted\", title=\"Regression Plot\")\n",
    "    + theme(plot.title = element_text(hjust = 0.5))\n",
    "    + theme(legend.title=element_blank())\n",
    "    + ggtitle(paste0(\"Regression for \",unique(df$cytokine)[i])\n",
    "        )\n",
    "    )\n",
    "p3"
   ]
  }
 ],
 "metadata": {
  "kernelspec": {
   "display_name": "R",
   "language": "R",
   "name": "ir"
  },
  "language_info": {
   "codemirror_mode": "r",
   "file_extension": ".r",
   "mimetype": "text/x-r-source",
   "name": "R",
   "pygments_lexer": "r",
   "version": "4.2.2"
  },
  "orig_nbformat": 4
 },
 "nbformat": 4,
 "nbformat_minor": 2
}
