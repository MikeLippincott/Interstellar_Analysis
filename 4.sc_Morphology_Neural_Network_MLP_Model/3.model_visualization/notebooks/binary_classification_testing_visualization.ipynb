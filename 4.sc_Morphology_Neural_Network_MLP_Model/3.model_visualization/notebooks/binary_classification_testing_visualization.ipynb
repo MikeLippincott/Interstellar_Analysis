{
 "cells": [
  {
   "cell_type": "code",
   "execution_count": null,
   "metadata": {
    "vscode": {
     "languageId": "r"
    }
   },
   "outputs": [],
   "source": [
    "\n",
    "\n",
    "suppressPackageStartupMessages(library(dplyr))\n",
    "suppressPackageStartupMessages(library(ggplot2))\n",
    "suppressPackageStartupMessages(library(argparse))\n",
    "\n",
    "figure_theme_path <- file.path(\n",
    "    \"..\",\"visulaization_utils\", \"figure_themes.R\")\n",
    "source(figure_theme_path)"
   ]
  },
  {
   "cell_type": "code",
   "execution_count": null,
   "metadata": {
    "vscode": {
     "languageId": "r"
    }
   },
   "outputs": [],
   "source": [
    "# define command line arguments\n",
    "parser <- ArgumentParser(description = \"Visualize MLP results\")\n",
    "# add arguments\n",
    "parser$add_argument('--celltype', type='character', help='Cell type to visualize')\n",
    "parser$add_argument('--model_name', type='character', help='Model name to visualize')\n",
    "parser$add_argument('--selected_treatment_comparisons', type='character', help='Selected treatment comparisons to visualize')\n",
    "\n",
    "# parse arguments from command line\n",
    "args <- parser$parse_args()\n",
    "\n",
    "# define cell type\n",
    "celltype <- args$celltype\n",
    "model_name <- args$model_name\n",
    "selected_treatment_comparisons <- args$selected_treatment_comparisons"
   ]
  },
  {
   "cell_type": "code",
   "execution_count": null,
   "metadata": {
    "vscode": {
     "languageId": "r"
    }
   },
   "outputs": [],
   "source": [
    "output_file <- file.path(\n",
    "    \"..\",\"..\",\"figures\",\"Binary_Classification\",model_name,celltype,\"pr_curves_testing.png\"\n",
    ")"
   ]
  },
  {
   "cell_type": "code",
   "execution_count": null,
   "metadata": {
    "vscode": {
     "languageId": "r"
    }
   },
   "outputs": [],
   "source": [
    "results_dir <- file.path(\n",
    "    \"..\",\"..\",\"results\",\"Binary_Classification\",model_name,celltype\n",
    ")\n",
    "results_file <- file.path(\n",
    "    results_dir,\"testing_metrics.csv\"\n",
    ")\n",
    "\n",
    "# Read in the results file\n",
    "df <- read.csv(results_file)\n",
    "head(df,3)"
   ]
  },
  {
   "cell_type": "code",
   "execution_count": null,
   "metadata": {
    "vscode": {
     "languageId": "r"
    }
   },
   "outputs": [],
   "source": [
    "unique_treatments <- unique(df$treatments_tested)"
   ]
  },
  {
   "cell_type": "code",
   "execution_count": null,
   "metadata": {
    "vscode": {
     "languageId": "r"
    }
   },
   "outputs": [],
   "source": [
    "# split string in R\n",
    "selected_treatment_comparisons <- unlist(strsplit(selected_treatment_comparisons, split = \",\"))\n",
    "selected_treatment_comparisons\n"
   ]
  },
  {
   "cell_type": "code",
   "execution_count": null,
   "metadata": {
    "vscode": {
     "languageId": "r"
    }
   },
   "outputs": [],
   "source": [
    "# subset the df to only include unique_treatments = treatment\n",
    "tmp_df <- df[df$treatments_tested %in% selected_treatment_comparisons,]\n"
   ]
  },
  {
   "cell_type": "code",
   "execution_count": null,
   "metadata": {
    "vscode": {
     "languageId": "r"
    }
   },
   "outputs": [],
   "source": [
    "tmp_df$treatments_tested <- gsub(\" vs \", \"\\n\", tmp_df$treatments_tested)"
   ]
  },
  {
   "cell_type": "code",
   "execution_count": null,
   "metadata": {
    "vscode": {
     "languageId": "r"
    }
   },
   "outputs": [],
   "source": [
    "head(tmp_df)"
   ]
  },
  {
   "cell_type": "code",
   "execution_count": null,
   "metadata": {
    "vscode": {
     "languageId": "r"
    }
   },
   "outputs": [],
   "source": [
    "pr_curve_gg <- (\n",
    "    ggplot(tmp_df, aes(x = Recall, y = Precision))\n",
    "    + geom_line(aes(color = treatments_tested, linetype = shuffled_data))\n",
    "    + theme_bw()\n",
    "    + xlab(\"Recall\")\n",
    "    + ylab(\"Precision\")\n",
    "\n",
    "    + scale_linetype_manual(\n",
    "        name = \"Shuffled\\ntraining\\ndata\",\n",
    "        labels = shuffled_labels,\n",
    "        values = shuffled_linetypes\n",
    "    )\n",
    "\n",
    "    + guides(\n",
    "        color = guide_legend(order = 1),\n",
    "        linetype = guide_legend(order = 2),\n",
    "    )\n",
    "    + coord_fixed()\n",
    "    + figure_theme\n",
    "    # Decrease spacing in legend\n",
    "    + theme(\n",
    "        legend.spacing.y = unit(0.1, \"cm\"),\n",
    "        legend.box.spacing = unit(0.2, \"cm\"),\n",
    "        legend.key.size = unit(2.5, \"lines\"),\n",
    "        legend.key.width = unit(1, \"lines\")\n",
    "    )\n",
    "    + ggtitle(paste0(\"Precision-Recall Curve for \",\"\\n\", model_name, \" model\"))\n",
    ")\n",
    "\n",
    "ggsave(output_file, pr_curve_gg, height = 5.5, width = 8.5, dpi = 500)"
   ]
  }
 ],
 "metadata": {
  "kernelspec": {
   "display_name": "R",
   "language": "R",
   "name": "ir"
  },
  "language_info": {
   "codemirror_mode": "r",
   "file_extension": ".r",
   "mimetype": "text/x-r-source",
   "name": "R",
   "pygments_lexer": "r",
   "version": "4.2.2"
  },
  "orig_nbformat": 4
 },
 "nbformat": 4,
 "nbformat_minor": 2
}
