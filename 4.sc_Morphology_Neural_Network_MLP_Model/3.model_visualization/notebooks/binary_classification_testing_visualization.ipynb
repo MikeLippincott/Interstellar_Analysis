{
    "cells": [
        {
            "cell_type": "code",
            "execution_count": 1,
            "metadata": {
                "vscode": {
                    "languageId": "r"
                }
            },
            "outputs": [
                {
                    "name": "stderr",
                    "output_type": "stream",
                    "text": [
                        "Warning message:\n",
                        "\u201cpackage \u2018dplyr\u2019 was built under R version 4.2.3\u201d\n",
                        "Warning message:\n",
                        "\u201cpackage \u2018ggplot2\u2019 was built under R version 4.2.3\u201d\n",
                        "Warning message:\n",
                        "\u201cpackage \u2018argparse\u2019 was built under R version 4.2.3\u201d\n",
                        "Warning message:\n",
                        "\u201cpackage \u2018cowplot\u2019 was built under R version 4.2.3\u201d\n"
                    ]
                }
            ],
            "source": [
                "# import the libraries \n",
                "suppressPackageStartupMessages(library(dplyr))\n",
                "suppressPackageStartupMessages(library(ggplot2))\n",
                "suppressPackageStartupMessages(library(argparse))\n",
                "suppressPackageStartupMessages(library(cowplot))\n",
                "\n",
                "figure_theme_path <- file.path(\n",
                "    \"..\",\"visulaization_utils\", \"figure_themes.R\")\n",
                "source(figure_theme_path)"
            ]
        },
        {
            "cell_type": "code",
            "execution_count": null,
            "metadata": {
                "vscode": {
                    "languageId": "r"
                }
            },
            "outputs": [],
            "source": [
                "# define command line arguments\n",
                "parser <- ArgumentParser(description = \"Visualize MLP results\")\n",
                "# add arguments\n",
                "parser$add_argument('--cell_type', type='character', help='Cell type to visualize')\n",
                "parser$add_argument('--model_name', type='character', help='Model name to visualize')\n",
                "parser$add_argument('--selected_treatment_comparisons', type='character', help='Selected treatment comparisons to visualize')\n",
                "\n",
                "# parse arguments from command line\n",
                "args <- parser$parse_args()\n",
                "\n",
                "# define cell type\n",
                "celltype <- args$cell_type\n",
                "model_name <- args$model_name\n",
                "selected_treatment_comparisons <- args$selected_treatment_comparisons"
            ]
        },
        {
            "cell_type": "code",
            "execution_count": 2,
            "metadata": {
                "vscode": {
                    "languageId": "r"
                }
            },
            "outputs": [],
            "source": [
                "celltype <- \"PBMC\"\n",
                "model_name <- \"LPS_100.000_DMSO_0.025_vs_DMSO_0.100_DMSO_0.025\"\n",
                "selected_treatment_comparisons <- \"DMSO_0.100_DMSO_0.025 vs LPS_100.000_DMSO_0.025, DMSO_0.100_DMSO_0.025 vs Thapsigargin_10.000_DMSO_0.025, LPS_100.000_DMSO_0.025 vs Thapsigargin_10.000_DMSO_0.025\"\n"
            ]
        },
        {
            "cell_type": "code",
            "execution_count": 3,
            "metadata": {
                "vscode": {
                    "languageId": "r"
                }
            },
            "outputs": [],
            "source": [
                "output_file_plot <- file.path(\n",
                "    \"..\",\"..\",\"figures\",\"Binary_Classification\",model_name,celltype,\"pr_curves_testing_plot.png\"\n",
                ")\n",
                "output_file_legend <- file.path(\n",
                "    \"..\",\"..\",\"figures\",\"Binary_Classification\",model_name,celltype,\"pr_curves_testing_legend.png\"\n",
                ")"
            ]
        },
        {
            "cell_type": "code",
            "execution_count": 4,
            "metadata": {
                "vscode": {
                    "languageId": "r"
                }
            },
            "outputs": [
                {
                    "data": {
                        "text/html": [
                            "<table class=\"dataframe\">\n",
                            "<caption>A data.frame: 3 \u00d7 7</caption>\n",
                            "<thead>\n",
                            "\t<tr><th></th><th scope=col>treatments_tested</th><th scope=col>model</th><th scope=col>group</th><th scope=col>shuffled_data</th><th scope=col>PR_Threshold</th><th scope=col>Precision</th><th scope=col>Recall</th></tr>\n",
                            "\t<tr><th></th><th scope=col>&lt;chr&gt;</th><th scope=col>&lt;chr&gt;</th><th scope=col>&lt;chr&gt;</th><th scope=col>&lt;chr&gt;</th><th scope=col>&lt;dbl&gt;</th><th scope=col>&lt;dbl&gt;</th><th scope=col>&lt;dbl&gt;</th></tr>\n",
                            "</thead>\n",
                            "<tbody>\n",
                            "\t<tr><th scope=row>1</th><td>DMSO_0.100_DMSO_0.025 vs LPS_100.000_DMSO_0.025</td><td>LPS_100.000_DMSO_0.025_vs_DMSO_0.100_DMSO_0.025</td><td>test</td><td>False</td><td>0.000000e+00</td><td>0.4256538</td><td>1.0000000</td></tr>\n",
                            "\t<tr><th scope=row>2</th><td>DMSO_0.100_DMSO_0.025 vs LPS_100.000_DMSO_0.025</td><td>LPS_100.000_DMSO_0.025_vs_DMSO_0.100_DMSO_0.025</td><td>test</td><td>False</td><td>5.971659e-39</td><td>0.4256675</td><td>0.9997867</td></tr>\n",
                            "\t<tr><th scope=row>3</th><td>DMSO_0.100_DMSO_0.025 vs LPS_100.000_DMSO_0.025</td><td>LPS_100.000_DMSO_0.025_vs_DMSO_0.100_DMSO_0.025</td><td>test</td><td>False</td><td>4.875546e-38</td><td>0.4256660</td><td>0.9997805</td></tr>\n",
                            "</tbody>\n",
                            "</table>\n"
                        ],
                        "text/latex": [
                            "A data.frame: 3 \u00d7 7\n",
                            "\\begin{tabular}{r|lllllll}\n",
                            "  & treatments\\_tested & model & group & shuffled\\_data & PR\\_Threshold & Precision & Recall\\\\\n",
                            "  & <chr> & <chr> & <chr> & <chr> & <dbl> & <dbl> & <dbl>\\\\\n",
                            "\\hline\n",
                            "\t1 & DMSO\\_0.100\\_DMSO\\_0.025 vs LPS\\_100.000\\_DMSO\\_0.025 & LPS\\_100.000\\_DMSO\\_0.025\\_vs\\_DMSO\\_0.100\\_DMSO\\_0.025 & test & False & 0.000000e+00 & 0.4256538 & 1.0000000\\\\\n",
                            "\t2 & DMSO\\_0.100\\_DMSO\\_0.025 vs LPS\\_100.000\\_DMSO\\_0.025 & LPS\\_100.000\\_DMSO\\_0.025\\_vs\\_DMSO\\_0.100\\_DMSO\\_0.025 & test & False & 5.971659e-39 & 0.4256675 & 0.9997867\\\\\n",
                            "\t3 & DMSO\\_0.100\\_DMSO\\_0.025 vs LPS\\_100.000\\_DMSO\\_0.025 & LPS\\_100.000\\_DMSO\\_0.025\\_vs\\_DMSO\\_0.100\\_DMSO\\_0.025 & test & False & 4.875546e-38 & 0.4256660 & 0.9997805\\\\\n",
                            "\\end{tabular}\n"
                        ],
                        "text/markdown": [
                            "\n",
                            "A data.frame: 3 \u00d7 7\n",
                            "\n",
                            "| <!--/--> | treatments_tested &lt;chr&gt; | model &lt;chr&gt; | group &lt;chr&gt; | shuffled_data &lt;chr&gt; | PR_Threshold &lt;dbl&gt; | Precision &lt;dbl&gt; | Recall &lt;dbl&gt; |\n",
                            "|---|---|---|---|---|---|---|---|\n",
                            "| 1 | DMSO_0.100_DMSO_0.025 vs LPS_100.000_DMSO_0.025 | LPS_100.000_DMSO_0.025_vs_DMSO_0.100_DMSO_0.025 | test | False | 0.000000e+00 | 0.4256538 | 1.0000000 |\n",
                            "| 2 | DMSO_0.100_DMSO_0.025 vs LPS_100.000_DMSO_0.025 | LPS_100.000_DMSO_0.025_vs_DMSO_0.100_DMSO_0.025 | test | False | 5.971659e-39 | 0.4256675 | 0.9997867 |\n",
                            "| 3 | DMSO_0.100_DMSO_0.025 vs LPS_100.000_DMSO_0.025 | LPS_100.000_DMSO_0.025_vs_DMSO_0.100_DMSO_0.025 | test | False | 4.875546e-38 | 0.4256660 | 0.9997805 |\n",
                            "\n"
                        ],
                        "text/plain": [
                            "  treatments_tested                              \n",
                            "1 DMSO_0.100_DMSO_0.025 vs LPS_100.000_DMSO_0.025\n",
                            "2 DMSO_0.100_DMSO_0.025 vs LPS_100.000_DMSO_0.025\n",
                            "3 DMSO_0.100_DMSO_0.025 vs LPS_100.000_DMSO_0.025\n",
                            "  model                                           group shuffled_data\n",
                            "1 LPS_100.000_DMSO_0.025_vs_DMSO_0.100_DMSO_0.025 test  False        \n",
                            "2 LPS_100.000_DMSO_0.025_vs_DMSO_0.100_DMSO_0.025 test  False        \n",
                            "3 LPS_100.000_DMSO_0.025_vs_DMSO_0.100_DMSO_0.025 test  False        \n",
                            "  PR_Threshold Precision Recall   \n",
                            "1 0.000000e+00 0.4256538 1.0000000\n",
                            "2 5.971659e-39 0.4256675 0.9997867\n",
                            "3 4.875546e-38 0.4256660 0.9997805"
                        ]
                    },
                    "metadata": {},
                    "output_type": "display_data"
                }
            ],
            "source": [
                "results_dir <- file.path(\n",
                "    \"..\",\"..\",\"results\",\"Binary_Classification\",model_name,celltype\n",
                ")\n",
                "results_file <- file.path(\n",
                "    results_dir,\"testing_metrics.csv\"\n",
                ")\n",
                "\n",
                "# Read in the results file\n",
                "df <- read.csv(results_file)\n",
                "head(df,3)"
            ]
        },
        {
            "cell_type": "code",
            "execution_count": 5,
            "metadata": {
                "vscode": {
                    "languageId": "r"
                }
            },
            "outputs": [
                {
                    "data": {
                        "text/html": [
                            "<style>\n",
                            ".list-inline {list-style: none; margin:0; padding: 0}\n",
                            ".list-inline>li {display: inline-block}\n",
                            ".list-inline>li:not(:last-child)::after {content: \"\\00b7\"; padding: 0 .5ex}\n",
                            "</style>\n",
                            "<ol class=list-inline><li>'DMSO_0.100_DMSO_0.025 vs LPS_100.000_DMSO_0.025'</li><li>'DMSO_0.100_DMSO_0.025 vs Thapsigargin_1.000_DMSO_0.025'</li><li>'DMSO_0.100_DMSO_0.025 vs Thapsigargin_10.000_DMSO_0.025'</li><li>'DMSO_0.100_DMSO_0.025 vs LPS_0.100_DMSO_0.025'</li><li>'DMSO_0.100_DMSO_0.025 vs LPS_1.000_DMSO_0.025'</li><li>'DMSO_0.100_DMSO_0.025 vs LPS_10.000_DMSO_0.025'</li><li>'DMSO_0.100_DMSO_0.025 vs Flagellin_0.100_DMSO_0.025'</li><li>'DMSO_0.100_DMSO_0.025 vs Flagellin_1.000_DMSO_0.025'</li><li>'DMSO_0.100_DMSO_0.025 vs Flagellin_1.000_Disulfiram_1.0'</li><li>'DMSO_0.100_DMSO_0.025 vs LPS_Nigericin_100.000_1.0_DMSO_0.025'</li><li>'DMSO_0.100_DMSO_0.025 vs LPS_Nigericin_100.000_3.0_DMSO_0.025'</li><li>'DMSO_0.100_DMSO_0.025 vs LPS_Nigericin_100.000_10.0_DMSO_0.025'</li><li>'DMSO_0.100_DMSO_0.025 vs LPS_Nigericin_1.000_1.0_DMSO_0.025'</li><li>'DMSO_0.100_DMSO_0.025 vs LPS_Nigericin_1.000_3.0_DMSO_0.025'</li><li>'DMSO_0.100_DMSO_0.025 vs LPS_Nigericin_1.000_10.0_DMSO_0.025'</li><li>'DMSO_0.100_DMSO_0.025 vs H2O2_100.000_Z-VAD-FMK_100.0'</li><li>'DMSO_0.100_DMSO_0.025 vs H2O2_100.000_DMSO_0.025'</li><li>'LPS_100.000_DMSO_0.025 vs Thapsigargin_1.000_DMSO_0.025'</li><li>'LPS_100.000_DMSO_0.025 vs Thapsigargin_10.000_DMSO_0.025'</li><li>'LPS_10.000_DMSO_0.025 vs Thapsigargin_1.000_DMSO_0.025'</li><li>'LPS_10.000_DMSO_0.025 vs Thapsigargin_10.000_DMSO_0.025'</li><li>'LPS_1.000_DMSO_0.025 vs Thapsigargin_1.000_DMSO_0.025'</li><li>'LPS_1.000_DMSO_0.025 vs Thapsigargin_10.000_DMSO_0.025'</li><li>'LPS_0.100_DMSO_0.025 vs Thapsigargin_1.000_DMSO_0.025'</li><li>'LPS_0.100_DMSO_0.025 vs Thapsigargin_10.000_DMSO_0.025'</li><li>'LPS_0.010_DMSO_0.025 vs Thapsigargin_1.000_DMSO_0.025'</li><li>'LPS_0.010_DMSO_0.025 vs Thapsigargin_10.000_DMSO_0.025'</li></ol>\n"
                        ],
                        "text/latex": [
                            "\\begin{enumerate*}\n",
                            "\\item 'DMSO\\_0.100\\_DMSO\\_0.025 vs LPS\\_100.000\\_DMSO\\_0.025'\n",
                            "\\item 'DMSO\\_0.100\\_DMSO\\_0.025 vs Thapsigargin\\_1.000\\_DMSO\\_0.025'\n",
                            "\\item 'DMSO\\_0.100\\_DMSO\\_0.025 vs Thapsigargin\\_10.000\\_DMSO\\_0.025'\n",
                            "\\item 'DMSO\\_0.100\\_DMSO\\_0.025 vs LPS\\_0.100\\_DMSO\\_0.025'\n",
                            "\\item 'DMSO\\_0.100\\_DMSO\\_0.025 vs LPS\\_1.000\\_DMSO\\_0.025'\n",
                            "\\item 'DMSO\\_0.100\\_DMSO\\_0.025 vs LPS\\_10.000\\_DMSO\\_0.025'\n",
                            "\\item 'DMSO\\_0.100\\_DMSO\\_0.025 vs Flagellin\\_0.100\\_DMSO\\_0.025'\n",
                            "\\item 'DMSO\\_0.100\\_DMSO\\_0.025 vs Flagellin\\_1.000\\_DMSO\\_0.025'\n",
                            "\\item 'DMSO\\_0.100\\_DMSO\\_0.025 vs Flagellin\\_1.000\\_Disulfiram\\_1.0'\n",
                            "\\item 'DMSO\\_0.100\\_DMSO\\_0.025 vs LPS\\_Nigericin\\_100.000\\_1.0\\_DMSO\\_0.025'\n",
                            "\\item 'DMSO\\_0.100\\_DMSO\\_0.025 vs LPS\\_Nigericin\\_100.000\\_3.0\\_DMSO\\_0.025'\n",
                            "\\item 'DMSO\\_0.100\\_DMSO\\_0.025 vs LPS\\_Nigericin\\_100.000\\_10.0\\_DMSO\\_0.025'\n",
                            "\\item 'DMSO\\_0.100\\_DMSO\\_0.025 vs LPS\\_Nigericin\\_1.000\\_1.0\\_DMSO\\_0.025'\n",
                            "\\item 'DMSO\\_0.100\\_DMSO\\_0.025 vs LPS\\_Nigericin\\_1.000\\_3.0\\_DMSO\\_0.025'\n",
                            "\\item 'DMSO\\_0.100\\_DMSO\\_0.025 vs LPS\\_Nigericin\\_1.000\\_10.0\\_DMSO\\_0.025'\n",
                            "\\item 'DMSO\\_0.100\\_DMSO\\_0.025 vs H2O2\\_100.000\\_Z-VAD-FMK\\_100.0'\n",
                            "\\item 'DMSO\\_0.100\\_DMSO\\_0.025 vs H2O2\\_100.000\\_DMSO\\_0.025'\n",
                            "\\item 'LPS\\_100.000\\_DMSO\\_0.025 vs Thapsigargin\\_1.000\\_DMSO\\_0.025'\n",
                            "\\item 'LPS\\_100.000\\_DMSO\\_0.025 vs Thapsigargin\\_10.000\\_DMSO\\_0.025'\n",
                            "\\item 'LPS\\_10.000\\_DMSO\\_0.025 vs Thapsigargin\\_1.000\\_DMSO\\_0.025'\n",
                            "\\item 'LPS\\_10.000\\_DMSO\\_0.025 vs Thapsigargin\\_10.000\\_DMSO\\_0.025'\n",
                            "\\item 'LPS\\_1.000\\_DMSO\\_0.025 vs Thapsigargin\\_1.000\\_DMSO\\_0.025'\n",
                            "\\item 'LPS\\_1.000\\_DMSO\\_0.025 vs Thapsigargin\\_10.000\\_DMSO\\_0.025'\n",
                            "\\item 'LPS\\_0.100\\_DMSO\\_0.025 vs Thapsigargin\\_1.000\\_DMSO\\_0.025'\n",
                            "\\item 'LPS\\_0.100\\_DMSO\\_0.025 vs Thapsigargin\\_10.000\\_DMSO\\_0.025'\n",
                            "\\item 'LPS\\_0.010\\_DMSO\\_0.025 vs Thapsigargin\\_1.000\\_DMSO\\_0.025'\n",
                            "\\item 'LPS\\_0.010\\_DMSO\\_0.025 vs Thapsigargin\\_10.000\\_DMSO\\_0.025'\n",
                            "\\end{enumerate*}\n"
                        ],
                        "text/markdown": [
                            "1. 'DMSO_0.100_DMSO_0.025 vs LPS_100.000_DMSO_0.025'\n",
                            "2. 'DMSO_0.100_DMSO_0.025 vs Thapsigargin_1.000_DMSO_0.025'\n",
                            "3. 'DMSO_0.100_DMSO_0.025 vs Thapsigargin_10.000_DMSO_0.025'\n",
                            "4. 'DMSO_0.100_DMSO_0.025 vs LPS_0.100_DMSO_0.025'\n",
                            "5. 'DMSO_0.100_DMSO_0.025 vs LPS_1.000_DMSO_0.025'\n",
                            "6. 'DMSO_0.100_DMSO_0.025 vs LPS_10.000_DMSO_0.025'\n",
                            "7. 'DMSO_0.100_DMSO_0.025 vs Flagellin_0.100_DMSO_0.025'\n",
                            "8. 'DMSO_0.100_DMSO_0.025 vs Flagellin_1.000_DMSO_0.025'\n",
                            "9. 'DMSO_0.100_DMSO_0.025 vs Flagellin_1.000_Disulfiram_1.0'\n",
                            "10. 'DMSO_0.100_DMSO_0.025 vs LPS_Nigericin_100.000_1.0_DMSO_0.025'\n",
                            "11. 'DMSO_0.100_DMSO_0.025 vs LPS_Nigericin_100.000_3.0_DMSO_0.025'\n",
                            "12. 'DMSO_0.100_DMSO_0.025 vs LPS_Nigericin_100.000_10.0_DMSO_0.025'\n",
                            "13. 'DMSO_0.100_DMSO_0.025 vs LPS_Nigericin_1.000_1.0_DMSO_0.025'\n",
                            "14. 'DMSO_0.100_DMSO_0.025 vs LPS_Nigericin_1.000_3.0_DMSO_0.025'\n",
                            "15. 'DMSO_0.100_DMSO_0.025 vs LPS_Nigericin_1.000_10.0_DMSO_0.025'\n",
                            "16. 'DMSO_0.100_DMSO_0.025 vs H2O2_100.000_Z-VAD-FMK_100.0'\n",
                            "17. 'DMSO_0.100_DMSO_0.025 vs H2O2_100.000_DMSO_0.025'\n",
                            "18. 'LPS_100.000_DMSO_0.025 vs Thapsigargin_1.000_DMSO_0.025'\n",
                            "19. 'LPS_100.000_DMSO_0.025 vs Thapsigargin_10.000_DMSO_0.025'\n",
                            "20. 'LPS_10.000_DMSO_0.025 vs Thapsigargin_1.000_DMSO_0.025'\n",
                            "21. 'LPS_10.000_DMSO_0.025 vs Thapsigargin_10.000_DMSO_0.025'\n",
                            "22. 'LPS_1.000_DMSO_0.025 vs Thapsigargin_1.000_DMSO_0.025'\n",
                            "23. 'LPS_1.000_DMSO_0.025 vs Thapsigargin_10.000_DMSO_0.025'\n",
                            "24. 'LPS_0.100_DMSO_0.025 vs Thapsigargin_1.000_DMSO_0.025'\n",
                            "25. 'LPS_0.100_DMSO_0.025 vs Thapsigargin_10.000_DMSO_0.025'\n",
                            "26. 'LPS_0.010_DMSO_0.025 vs Thapsigargin_1.000_DMSO_0.025'\n",
                            "27. 'LPS_0.010_DMSO_0.025 vs Thapsigargin_10.000_DMSO_0.025'\n",
                            "\n",
                            "\n"
                        ],
                        "text/plain": [
                            " [1] \"DMSO_0.100_DMSO_0.025 vs LPS_100.000_DMSO_0.025\"               \n",
                            " [2] \"DMSO_0.100_DMSO_0.025 vs Thapsigargin_1.000_DMSO_0.025\"        \n",
                            " [3] \"DMSO_0.100_DMSO_0.025 vs Thapsigargin_10.000_DMSO_0.025\"       \n",
                            " [4] \"DMSO_0.100_DMSO_0.025 vs LPS_0.100_DMSO_0.025\"                 \n",
                            " [5] \"DMSO_0.100_DMSO_0.025 vs LPS_1.000_DMSO_0.025\"                 \n",
                            " [6] \"DMSO_0.100_DMSO_0.025 vs LPS_10.000_DMSO_0.025\"                \n",
                            " [7] \"DMSO_0.100_DMSO_0.025 vs Flagellin_0.100_DMSO_0.025\"           \n",
                            " [8] \"DMSO_0.100_DMSO_0.025 vs Flagellin_1.000_DMSO_0.025\"           \n",
                            " [9] \"DMSO_0.100_DMSO_0.025 vs Flagellin_1.000_Disulfiram_1.0\"       \n",
                            "[10] \"DMSO_0.100_DMSO_0.025 vs LPS_Nigericin_100.000_1.0_DMSO_0.025\" \n",
                            "[11] \"DMSO_0.100_DMSO_0.025 vs LPS_Nigericin_100.000_3.0_DMSO_0.025\" \n",
                            "[12] \"DMSO_0.100_DMSO_0.025 vs LPS_Nigericin_100.000_10.0_DMSO_0.025\"\n",
                            "[13] \"DMSO_0.100_DMSO_0.025 vs LPS_Nigericin_1.000_1.0_DMSO_0.025\"   \n",
                            "[14] \"DMSO_0.100_DMSO_0.025 vs LPS_Nigericin_1.000_3.0_DMSO_0.025\"   \n",
                            "[15] \"DMSO_0.100_DMSO_0.025 vs LPS_Nigericin_1.000_10.0_DMSO_0.025\"  \n",
                            "[16] \"DMSO_0.100_DMSO_0.025 vs H2O2_100.000_Z-VAD-FMK_100.0\"         \n",
                            "[17] \"DMSO_0.100_DMSO_0.025 vs H2O2_100.000_DMSO_0.025\"              \n",
                            "[18] \"LPS_100.000_DMSO_0.025 vs Thapsigargin_1.000_DMSO_0.025\"       \n",
                            "[19] \"LPS_100.000_DMSO_0.025 vs Thapsigargin_10.000_DMSO_0.025\"      \n",
                            "[20] \"LPS_10.000_DMSO_0.025 vs Thapsigargin_1.000_DMSO_0.025\"        \n",
                            "[21] \"LPS_10.000_DMSO_0.025 vs Thapsigargin_10.000_DMSO_0.025\"       \n",
                            "[22] \"LPS_1.000_DMSO_0.025 vs Thapsigargin_1.000_DMSO_0.025\"         \n",
                            "[23] \"LPS_1.000_DMSO_0.025 vs Thapsigargin_10.000_DMSO_0.025\"        \n",
                            "[24] \"LPS_0.100_DMSO_0.025 vs Thapsigargin_1.000_DMSO_0.025\"         \n",
                            "[25] \"LPS_0.100_DMSO_0.025 vs Thapsigargin_10.000_DMSO_0.025\"        \n",
                            "[26] \"LPS_0.010_DMSO_0.025 vs Thapsigargin_1.000_DMSO_0.025\"         \n",
                            "[27] \"LPS_0.010_DMSO_0.025 vs Thapsigargin_10.000_DMSO_0.025\"        "
                        ]
                    },
                    "metadata": {},
                    "output_type": "display_data"
                }
            ],
            "source": [
                "unique(df$treatments_tested)"
            ]
        },
        {
            "cell_type": "code",
            "execution_count": 6,
            "metadata": {
                "vscode": {
                    "languageId": "r"
                }
            },
            "outputs": [
                {
                    "data": {
                        "text/html": [
                            "<style>\n",
                            ".list-inline {list-style: none; margin:0; padding: 0}\n",
                            ".list-inline>li {display: inline-block}\n",
                            ".list-inline>li:not(:last-child)::after {content: \"\\00b7\"; padding: 0 .5ex}\n",
                            "</style>\n",
                            "<ol class=list-inline><li>'DMSO_0.100_DMSO_0.025 vs LPS_100.000_DMSO_0.025'</li><li>'DMSO_0.100_DMSO_0.025 vs Thapsigargin_10.000_DMSO_0.025'</li><li>'LPS_100.000_DMSO_0.025 vs Thapsigargin_10.000_DMSO_0.025'</li></ol>\n"
                        ],
                        "text/latex": [
                            "\\begin{enumerate*}\n",
                            "\\item 'DMSO\\_0.100\\_DMSO\\_0.025 vs LPS\\_100.000\\_DMSO\\_0.025'\n",
                            "\\item 'DMSO\\_0.100\\_DMSO\\_0.025 vs Thapsigargin\\_10.000\\_DMSO\\_0.025'\n",
                            "\\item 'LPS\\_100.000\\_DMSO\\_0.025 vs Thapsigargin\\_10.000\\_DMSO\\_0.025'\n",
                            "\\end{enumerate*}\n"
                        ],
                        "text/markdown": [
                            "1. 'DMSO_0.100_DMSO_0.025 vs LPS_100.000_DMSO_0.025'\n",
                            "2. 'DMSO_0.100_DMSO_0.025 vs Thapsigargin_10.000_DMSO_0.025'\n",
                            "3. 'LPS_100.000_DMSO_0.025 vs Thapsigargin_10.000_DMSO_0.025'\n",
                            "\n",
                            "\n"
                        ],
                        "text/plain": [
                            "[1] \"DMSO_0.100_DMSO_0.025 vs LPS_100.000_DMSO_0.025\"         \n",
                            "[2] \"DMSO_0.100_DMSO_0.025 vs Thapsigargin_10.000_DMSO_0.025\" \n",
                            "[3] \"LPS_100.000_DMSO_0.025 vs Thapsigargin_10.000_DMSO_0.025\""
                        ]
                    },
                    "metadata": {},
                    "output_type": "display_data"
                }
            ],
            "source": [
                "selected_treatment_comparisons <- unlist(strsplit(selected_treatment_comparisons,\", \"))\n",
                "selected_treatment_comparisons"
            ]
        },
        {
            "cell_type": "code",
            "execution_count": 7,
            "metadata": {
                "vscode": {
                    "languageId": "r"
                }
            },
            "outputs": [
                {
                    "data": {
                        "text/html": [
                            "<style>\n",
                            ".list-inline {list-style: none; margin:0; padding: 0}\n",
                            ".list-inline>li {display: inline-block}\n",
                            ".list-inline>li:not(:last-child)::after {content: \"\\00b7\"; padding: 0 .5ex}\n",
                            "</style>\n",
                            "<ol class=list-inline><li>'DMSO_0.100_DMSO_0.025 vs LPS_100.000_DMSO_0.025'</li><li>'DMSO_0.100_DMSO_0.025 vs Thapsigargin_10.000_DMSO_0.025'</li><li>'LPS_100.000_DMSO_0.025 vs Thapsigargin_10.000_DMSO_0.025'</li></ol>\n"
                        ],
                        "text/latex": [
                            "\\begin{enumerate*}\n",
                            "\\item 'DMSO\\_0.100\\_DMSO\\_0.025 vs LPS\\_100.000\\_DMSO\\_0.025'\n",
                            "\\item 'DMSO\\_0.100\\_DMSO\\_0.025 vs Thapsigargin\\_10.000\\_DMSO\\_0.025'\n",
                            "\\item 'LPS\\_100.000\\_DMSO\\_0.025 vs Thapsigargin\\_10.000\\_DMSO\\_0.025'\n",
                            "\\end{enumerate*}\n"
                        ],
                        "text/markdown": [
                            "1. 'DMSO_0.100_DMSO_0.025 vs LPS_100.000_DMSO_0.025'\n",
                            "2. 'DMSO_0.100_DMSO_0.025 vs Thapsigargin_10.000_DMSO_0.025'\n",
                            "3. 'LPS_100.000_DMSO_0.025 vs Thapsigargin_10.000_DMSO_0.025'\n",
                            "\n",
                            "\n"
                        ],
                        "text/plain": [
                            "[1] \"DMSO_0.100_DMSO_0.025 vs LPS_100.000_DMSO_0.025\"         \n",
                            "[2] \"DMSO_0.100_DMSO_0.025 vs Thapsigargin_10.000_DMSO_0.025\" \n",
                            "[3] \"LPS_100.000_DMSO_0.025 vs Thapsigargin_10.000_DMSO_0.025\""
                        ]
                    },
                    "metadata": {},
                    "output_type": "display_data"
                }
            ],
            "source": [
                "# filter the df by selected treatment comparisons in the treatment column\n",
                "tmp_df <- df[which(df$treatment %in% selected_treatment_comparisons),]\n",
                "unique(tmp_df$treatments_tested)"
            ]
        },
        {
            "cell_type": "code",
            "execution_count": 8,
            "metadata": {
                "vscode": {
                    "languageId": "r"
                }
            },
            "outputs": [
                {
                    "data": {
                        "text/html": [
                            "<table class=\"dataframe\">\n",
                            "<caption>A data.frame: 6 \u00d7 7</caption>\n",
                            "<thead>\n",
                            "\t<tr><th></th><th scope=col>treatments_tested</th><th scope=col>model</th><th scope=col>group</th><th scope=col>shuffled_data</th><th scope=col>PR_Threshold</th><th scope=col>Precision</th><th scope=col>Recall</th></tr>\n",
                            "\t<tr><th></th><th scope=col>&lt;chr&gt;</th><th scope=col>&lt;chr&gt;</th><th scope=col>&lt;chr&gt;</th><th scope=col>&lt;chr&gt;</th><th scope=col>&lt;dbl&gt;</th><th scope=col>&lt;dbl&gt;</th><th scope=col>&lt;dbl&gt;</th></tr>\n",
                            "</thead>\n",
                            "<tbody>\n",
                            "\t<tr><th scope=row>1</th><td>DMSO_0.100_DMSO_0.025 vs LPS_100.000_DMSO_0.025</td><td>LPS_100.000_DMSO_0.025_vs_DMSO_0.100_DMSO_0.025</td><td>test</td><td>False</td><td>0.000000e+00</td><td>0.4256538</td><td>1.0000000</td></tr>\n",
                            "\t<tr><th scope=row>2</th><td>DMSO_0.100_DMSO_0.025 vs LPS_100.000_DMSO_0.025</td><td>LPS_100.000_DMSO_0.025_vs_DMSO_0.100_DMSO_0.025</td><td>test</td><td>False</td><td>5.971659e-39</td><td>0.4256675</td><td>0.9997867</td></tr>\n",
                            "\t<tr><th scope=row>3</th><td>DMSO_0.100_DMSO_0.025 vs LPS_100.000_DMSO_0.025</td><td>LPS_100.000_DMSO_0.025_vs_DMSO_0.100_DMSO_0.025</td><td>test</td><td>False</td><td>4.875546e-38</td><td>0.4256660</td><td>0.9997805</td></tr>\n",
                            "\t<tr><th scope=row>4</th><td>DMSO_0.100_DMSO_0.025 vs LPS_100.000_DMSO_0.025</td><td>LPS_100.000_DMSO_0.025_vs_DMSO_0.100_DMSO_0.025</td><td>test</td><td>False</td><td>5.259710e-38</td><td>0.4256671</td><td>0.9997805</td></tr>\n",
                            "\t<tr><th scope=row>5</th><td>DMSO_0.100_DMSO_0.025 vs LPS_100.000_DMSO_0.025</td><td>LPS_100.000_DMSO_0.025_vs_DMSO_0.100_DMSO_0.025</td><td>test</td><td>False</td><td>1.382549e-37</td><td>0.4256683</td><td>0.9997805</td></tr>\n",
                            "\t<tr><th scope=row>6</th><td>DMSO_0.100_DMSO_0.025 vs LPS_100.000_DMSO_0.025</td><td>LPS_100.000_DMSO_0.025_vs_DMSO_0.100_DMSO_0.025</td><td>test</td><td>False</td><td>3.361680e-37</td><td>0.4256694</td><td>0.9997805</td></tr>\n",
                            "</tbody>\n",
                            "</table>\n"
                        ],
                        "text/latex": [
                            "A data.frame: 6 \u00d7 7\n",
                            "\\begin{tabular}{r|lllllll}\n",
                            "  & treatments\\_tested & model & group & shuffled\\_data & PR\\_Threshold & Precision & Recall\\\\\n",
                            "  & <chr> & <chr> & <chr> & <chr> & <dbl> & <dbl> & <dbl>\\\\\n",
                            "\\hline\n",
                            "\t1 & DMSO\\_0.100\\_DMSO\\_0.025 vs LPS\\_100.000\\_DMSO\\_0.025 & LPS\\_100.000\\_DMSO\\_0.025\\_vs\\_DMSO\\_0.100\\_DMSO\\_0.025 & test & False & 0.000000e+00 & 0.4256538 & 1.0000000\\\\\n",
                            "\t2 & DMSO\\_0.100\\_DMSO\\_0.025 vs LPS\\_100.000\\_DMSO\\_0.025 & LPS\\_100.000\\_DMSO\\_0.025\\_vs\\_DMSO\\_0.100\\_DMSO\\_0.025 & test & False & 5.971659e-39 & 0.4256675 & 0.9997867\\\\\n",
                            "\t3 & DMSO\\_0.100\\_DMSO\\_0.025 vs LPS\\_100.000\\_DMSO\\_0.025 & LPS\\_100.000\\_DMSO\\_0.025\\_vs\\_DMSO\\_0.100\\_DMSO\\_0.025 & test & False & 4.875546e-38 & 0.4256660 & 0.9997805\\\\\n",
                            "\t4 & DMSO\\_0.100\\_DMSO\\_0.025 vs LPS\\_100.000\\_DMSO\\_0.025 & LPS\\_100.000\\_DMSO\\_0.025\\_vs\\_DMSO\\_0.100\\_DMSO\\_0.025 & test & False & 5.259710e-38 & 0.4256671 & 0.9997805\\\\\n",
                            "\t5 & DMSO\\_0.100\\_DMSO\\_0.025 vs LPS\\_100.000\\_DMSO\\_0.025 & LPS\\_100.000\\_DMSO\\_0.025\\_vs\\_DMSO\\_0.100\\_DMSO\\_0.025 & test & False & 1.382549e-37 & 0.4256683 & 0.9997805\\\\\n",
                            "\t6 & DMSO\\_0.100\\_DMSO\\_0.025 vs LPS\\_100.000\\_DMSO\\_0.025 & LPS\\_100.000\\_DMSO\\_0.025\\_vs\\_DMSO\\_0.100\\_DMSO\\_0.025 & test & False & 3.361680e-37 & 0.4256694 & 0.9997805\\\\\n",
                            "\\end{tabular}\n"
                        ],
                        "text/markdown": [
                            "\n",
                            "A data.frame: 6 \u00d7 7\n",
                            "\n",
                            "| <!--/--> | treatments_tested &lt;chr&gt; | model &lt;chr&gt; | group &lt;chr&gt; | shuffled_data &lt;chr&gt; | PR_Threshold &lt;dbl&gt; | Precision &lt;dbl&gt; | Recall &lt;dbl&gt; |\n",
                            "|---|---|---|---|---|---|---|---|\n",
                            "| 1 | DMSO_0.100_DMSO_0.025 vs LPS_100.000_DMSO_0.025 | LPS_100.000_DMSO_0.025_vs_DMSO_0.100_DMSO_0.025 | test | False | 0.000000e+00 | 0.4256538 | 1.0000000 |\n",
                            "| 2 | DMSO_0.100_DMSO_0.025 vs LPS_100.000_DMSO_0.025 | LPS_100.000_DMSO_0.025_vs_DMSO_0.100_DMSO_0.025 | test | False | 5.971659e-39 | 0.4256675 | 0.9997867 |\n",
                            "| 3 | DMSO_0.100_DMSO_0.025 vs LPS_100.000_DMSO_0.025 | LPS_100.000_DMSO_0.025_vs_DMSO_0.100_DMSO_0.025 | test | False | 4.875546e-38 | 0.4256660 | 0.9997805 |\n",
                            "| 4 | DMSO_0.100_DMSO_0.025 vs LPS_100.000_DMSO_0.025 | LPS_100.000_DMSO_0.025_vs_DMSO_0.100_DMSO_0.025 | test | False | 5.259710e-38 | 0.4256671 | 0.9997805 |\n",
                            "| 5 | DMSO_0.100_DMSO_0.025 vs LPS_100.000_DMSO_0.025 | LPS_100.000_DMSO_0.025_vs_DMSO_0.100_DMSO_0.025 | test | False | 1.382549e-37 | 0.4256683 | 0.9997805 |\n",
                            "| 6 | DMSO_0.100_DMSO_0.025 vs LPS_100.000_DMSO_0.025 | LPS_100.000_DMSO_0.025_vs_DMSO_0.100_DMSO_0.025 | test | False | 3.361680e-37 | 0.4256694 | 0.9997805 |\n",
                            "\n"
                        ],
                        "text/plain": [
                            "  treatments_tested                              \n",
                            "1 DMSO_0.100_DMSO_0.025 vs LPS_100.000_DMSO_0.025\n",
                            "2 DMSO_0.100_DMSO_0.025 vs LPS_100.000_DMSO_0.025\n",
                            "3 DMSO_0.100_DMSO_0.025 vs LPS_100.000_DMSO_0.025\n",
                            "4 DMSO_0.100_DMSO_0.025 vs LPS_100.000_DMSO_0.025\n",
                            "5 DMSO_0.100_DMSO_0.025 vs LPS_100.000_DMSO_0.025\n",
                            "6 DMSO_0.100_DMSO_0.025 vs LPS_100.000_DMSO_0.025\n",
                            "  model                                           group shuffled_data\n",
                            "1 LPS_100.000_DMSO_0.025_vs_DMSO_0.100_DMSO_0.025 test  False        \n",
                            "2 LPS_100.000_DMSO_0.025_vs_DMSO_0.100_DMSO_0.025 test  False        \n",
                            "3 LPS_100.000_DMSO_0.025_vs_DMSO_0.100_DMSO_0.025 test  False        \n",
                            "4 LPS_100.000_DMSO_0.025_vs_DMSO_0.100_DMSO_0.025 test  False        \n",
                            "5 LPS_100.000_DMSO_0.025_vs_DMSO_0.100_DMSO_0.025 test  False        \n",
                            "6 LPS_100.000_DMSO_0.025_vs_DMSO_0.100_DMSO_0.025 test  False        \n",
                            "  PR_Threshold Precision Recall   \n",
                            "1 0.000000e+00 0.4256538 1.0000000\n",
                            "2 5.971659e-39 0.4256675 0.9997867\n",
                            "3 4.875546e-38 0.4256660 0.9997805\n",
                            "4 5.259710e-38 0.4256671 0.9997805\n",
                            "5 1.382549e-37 0.4256683 0.9997805\n",
                            "6 3.361680e-37 0.4256694 0.9997805"
                        ]
                    },
                    "metadata": {},
                    "output_type": "display_data"
                },
                {
                    "data": {
                        "text/html": [
                            "<table class=\"dataframe\">\n",
                            "<caption>A data.frame: 6 \u00d7 7</caption>\n",
                            "<thead>\n",
                            "\t<tr><th></th><th scope=col>treatments_tested</th><th scope=col>model</th><th scope=col>group</th><th scope=col>shuffled_data</th><th scope=col>PR_Threshold</th><th scope=col>Precision</th><th scope=col>Recall</th></tr>\n",
                            "\t<tr><th></th><th scope=col>&lt;chr&gt;</th><th scope=col>&lt;chr&gt;</th><th scope=col>&lt;chr&gt;</th><th scope=col>&lt;chr&gt;</th><th scope=col>&lt;dbl&gt;</th><th scope=col>&lt;dbl&gt;</th><th scope=col>&lt;dbl&gt;</th></tr>\n",
                            "</thead>\n",
                            "<tbody>\n",
                            "\t<tr><th scope=row>1</th><td>DMSO_0.100_DMSO_0.025\n",
                            "LPS_100.000_DMSO_0.025</td><td>LPS_100.000_DMSO_0.025_vs_DMSO_0.100_DMSO_0.025</td><td>test</td><td>False</td><td>0.000000e+00</td><td>0.4256538</td><td>1.0000000</td></tr>\n",
                            "\t<tr><th scope=row>2</th><td>DMSO_0.100_DMSO_0.025\n",
                            "LPS_100.000_DMSO_0.025</td><td>LPS_100.000_DMSO_0.025_vs_DMSO_0.100_DMSO_0.025</td><td>test</td><td>False</td><td>5.971659e-39</td><td>0.4256675</td><td>0.9997867</td></tr>\n",
                            "\t<tr><th scope=row>3</th><td>DMSO_0.100_DMSO_0.025\n",
                            "LPS_100.000_DMSO_0.025</td><td>LPS_100.000_DMSO_0.025_vs_DMSO_0.100_DMSO_0.025</td><td>test</td><td>False</td><td>4.875546e-38</td><td>0.4256660</td><td>0.9997805</td></tr>\n",
                            "\t<tr><th scope=row>4</th><td>DMSO_0.100_DMSO_0.025\n",
                            "LPS_100.000_DMSO_0.025</td><td>LPS_100.000_DMSO_0.025_vs_DMSO_0.100_DMSO_0.025</td><td>test</td><td>False</td><td>5.259710e-38</td><td>0.4256671</td><td>0.9997805</td></tr>\n",
                            "\t<tr><th scope=row>5</th><td>DMSO_0.100_DMSO_0.025\n",
                            "LPS_100.000_DMSO_0.025</td><td>LPS_100.000_DMSO_0.025_vs_DMSO_0.100_DMSO_0.025</td><td>test</td><td>False</td><td>1.382549e-37</td><td>0.4256683</td><td>0.9997805</td></tr>\n",
                            "\t<tr><th scope=row>6</th><td>DMSO_0.100_DMSO_0.025\n",
                            "LPS_100.000_DMSO_0.025</td><td>LPS_100.000_DMSO_0.025_vs_DMSO_0.100_DMSO_0.025</td><td>test</td><td>False</td><td>3.361680e-37</td><td>0.4256694</td><td>0.9997805</td></tr>\n",
                            "</tbody>\n",
                            "</table>\n"
                        ],
                        "text/latex": [
                            "A data.frame: 6 \u00d7 7\n",
                            "\\begin{tabular}{r|lllllll}\n",
                            "  & treatments\\_tested & model & group & shuffled\\_data & PR\\_Threshold & Precision & Recall\\\\\n",
                            "  & <chr> & <chr> & <chr> & <chr> & <dbl> & <dbl> & <dbl>\\\\\n",
                            "\\hline\n",
                            "\t1 & DMSO\\_0.100\\_DMSO\\_0.025\n",
                            "LPS\\_100.000\\_DMSO\\_0.025 & LPS\\_100.000\\_DMSO\\_0.025\\_vs\\_DMSO\\_0.100\\_DMSO\\_0.025 & test & False & 0.000000e+00 & 0.4256538 & 1.0000000\\\\\n",
                            "\t2 & DMSO\\_0.100\\_DMSO\\_0.025\n",
                            "LPS\\_100.000\\_DMSO\\_0.025 & LPS\\_100.000\\_DMSO\\_0.025\\_vs\\_DMSO\\_0.100\\_DMSO\\_0.025 & test & False & 5.971659e-39 & 0.4256675 & 0.9997867\\\\\n",
                            "\t3 & DMSO\\_0.100\\_DMSO\\_0.025\n",
                            "LPS\\_100.000\\_DMSO\\_0.025 & LPS\\_100.000\\_DMSO\\_0.025\\_vs\\_DMSO\\_0.100\\_DMSO\\_0.025 & test & False & 4.875546e-38 & 0.4256660 & 0.9997805\\\\\n",
                            "\t4 & DMSO\\_0.100\\_DMSO\\_0.025\n",
                            "LPS\\_100.000\\_DMSO\\_0.025 & LPS\\_100.000\\_DMSO\\_0.025\\_vs\\_DMSO\\_0.100\\_DMSO\\_0.025 & test & False & 5.259710e-38 & 0.4256671 & 0.9997805\\\\\n",
                            "\t5 & DMSO\\_0.100\\_DMSO\\_0.025\n",
                            "LPS\\_100.000\\_DMSO\\_0.025 & LPS\\_100.000\\_DMSO\\_0.025\\_vs\\_DMSO\\_0.100\\_DMSO\\_0.025 & test & False & 1.382549e-37 & 0.4256683 & 0.9997805\\\\\n",
                            "\t6 & DMSO\\_0.100\\_DMSO\\_0.025\n",
                            "LPS\\_100.000\\_DMSO\\_0.025 & LPS\\_100.000\\_DMSO\\_0.025\\_vs\\_DMSO\\_0.100\\_DMSO\\_0.025 & test & False & 3.361680e-37 & 0.4256694 & 0.9997805\\\\\n",
                            "\\end{tabular}\n"
                        ],
                        "text/markdown": [
                            "\n",
                            "A data.frame: 6 \u00d7 7\n",
                            "\n",
                            "| <!--/--> | treatments_tested &lt;chr&gt; | model &lt;chr&gt; | group &lt;chr&gt; | shuffled_data &lt;chr&gt; | PR_Threshold &lt;dbl&gt; | Precision &lt;dbl&gt; | Recall &lt;dbl&gt; |\n",
                            "|---|---|---|---|---|---|---|---|\n",
                            "| 1 | DMSO_0.100_DMSO_0.025\n",
                            "LPS_100.000_DMSO_0.025 | LPS_100.000_DMSO_0.025_vs_DMSO_0.100_DMSO_0.025 | test | False | 0.000000e+00 | 0.4256538 | 1.0000000 |\n",
                            "| 2 | DMSO_0.100_DMSO_0.025\n",
                            "LPS_100.000_DMSO_0.025 | LPS_100.000_DMSO_0.025_vs_DMSO_0.100_DMSO_0.025 | test | False | 5.971659e-39 | 0.4256675 | 0.9997867 |\n",
                            "| 3 | DMSO_0.100_DMSO_0.025\n",
                            "LPS_100.000_DMSO_0.025 | LPS_100.000_DMSO_0.025_vs_DMSO_0.100_DMSO_0.025 | test | False | 4.875546e-38 | 0.4256660 | 0.9997805 |\n",
                            "| 4 | DMSO_0.100_DMSO_0.025\n",
                            "LPS_100.000_DMSO_0.025 | LPS_100.000_DMSO_0.025_vs_DMSO_0.100_DMSO_0.025 | test | False | 5.259710e-38 | 0.4256671 | 0.9997805 |\n",
                            "| 5 | DMSO_0.100_DMSO_0.025\n",
                            "LPS_100.000_DMSO_0.025 | LPS_100.000_DMSO_0.025_vs_DMSO_0.100_DMSO_0.025 | test | False | 1.382549e-37 | 0.4256683 | 0.9997805 |\n",
                            "| 6 | DMSO_0.100_DMSO_0.025\n",
                            "LPS_100.000_DMSO_0.025 | LPS_100.000_DMSO_0.025_vs_DMSO_0.100_DMSO_0.025 | test | False | 3.361680e-37 | 0.4256694 | 0.9997805 |\n",
                            "\n"
                        ],
                        "text/plain": [
                            "  treatments_tested                            \n",
                            "1 DMSO_0.100_DMSO_0.025\\nLPS_100.000_DMSO_0.025\n",
                            "2 DMSO_0.100_DMSO_0.025\\nLPS_100.000_DMSO_0.025\n",
                            "3 DMSO_0.100_DMSO_0.025\\nLPS_100.000_DMSO_0.025\n",
                            "4 DMSO_0.100_DMSO_0.025\\nLPS_100.000_DMSO_0.025\n",
                            "5 DMSO_0.100_DMSO_0.025\\nLPS_100.000_DMSO_0.025\n",
                            "6 DMSO_0.100_DMSO_0.025\\nLPS_100.000_DMSO_0.025\n",
                            "  model                                           group shuffled_data\n",
                            "1 LPS_100.000_DMSO_0.025_vs_DMSO_0.100_DMSO_0.025 test  False        \n",
                            "2 LPS_100.000_DMSO_0.025_vs_DMSO_0.100_DMSO_0.025 test  False        \n",
                            "3 LPS_100.000_DMSO_0.025_vs_DMSO_0.100_DMSO_0.025 test  False        \n",
                            "4 LPS_100.000_DMSO_0.025_vs_DMSO_0.100_DMSO_0.025 test  False        \n",
                            "5 LPS_100.000_DMSO_0.025_vs_DMSO_0.100_DMSO_0.025 test  False        \n",
                            "6 LPS_100.000_DMSO_0.025_vs_DMSO_0.100_DMSO_0.025 test  False        \n",
                            "  PR_Threshold Precision Recall   \n",
                            "1 0.000000e+00 0.4256538 1.0000000\n",
                            "2 5.971659e-39 0.4256675 0.9997867\n",
                            "3 4.875546e-38 0.4256660 0.9997805\n",
                            "4 5.259710e-38 0.4256671 0.9997805\n",
                            "5 1.382549e-37 0.4256683 0.9997805\n",
                            "6 3.361680e-37 0.4256694 0.9997805"
                        ]
                    },
                    "metadata": {},
                    "output_type": "display_data"
                }
            ],
            "source": [
                "head(tmp_df)\n",
                "tmp_df$treatments_tested <- gsub(\" vs \", \"\\n\", tmp_df$treatments_tested)\n",
                "head(tmp_df)"
            ]
        },
        {
            "cell_type": "code",
            "execution_count": 9,
            "metadata": {
                "vscode": {
                    "languageId": "r"
                }
            },
            "outputs": [],
            "source": [
                "pr_curve_gg <- (\n",
                "    ggplot(tmp_df, aes(x = Recall, y = Precision))\n",
                "    + geom_line(aes(color = treatments_tested, linetype = shuffled_data))\n",
                "    + theme_bw()\n",
                "    + xlab(\"Recall\")\n",
                "    + ylab(\"Precision\")\n",
                "\n",
                "    + scale_linetype_manual(\n",
                "        name = \"Shuffled\\ntraining\\ndata\",\n",
                "        labels = shuffled_labels,\n",
                "        values = shuffled_linetypes\n",
                "    )\n",
                "\n",
                "    + guides(\n",
                "        color = guide_legend(order = 1),\n",
                "        linetype = guide_legend(order = 2),\n",
                "    )\n",
                "    + coord_fixed()\n",
                "    + figure_theme\n",
                "    # Decrease spacing in legend\n",
                "    + theme(\n",
                "        legend.spacing.y = unit(0.1, \"cm\"),\n",
                "        legend.box.spacing = unit(0.2, \"cm\"),\n",
                "        legend.key.size = unit(2.5, \"lines\"),\n",
                "        legend.key.width = unit(1, \"lines\")\n",
                "    )\n",
                "    + ggtitle(paste0(\"Precision-Recall Curve for \",\"\\n\", model_name, \" model\"))\n",
                ")\n",
                "# detach the legend \n",
                "legend <- get_legend(pr_curve_gg)\n",
                "pr_curve_gg <- pr_curve_gg + theme(legend.position = \"none\")\n",
                "\n",
                "\n",
                "\n",
                "ggsave(output_file_plot, pr_curve_gg, height = 5.5, width = 8.5, dpi = 500)\n",
                "ggsave(output_file_legend, legend, height = 5.5, width = 8.5, dpi = 500)"
            ]
        }
    ],
    "metadata": {
        "kernelspec": {
            "display_name": "R",
            "language": "R",
            "name": "ir"
        },
        "language_info": {
            "codemirror_mode": "r",
            "file_extension": ".r",
            "mimetype": "text/x-r-source",
            "name": "R",
            "pygments_lexer": "r",
            "version": "4.2.2"
        },
        "orig_nbformat": 4
    },
    "nbformat": 4,
    "nbformat_minor": 2
}
