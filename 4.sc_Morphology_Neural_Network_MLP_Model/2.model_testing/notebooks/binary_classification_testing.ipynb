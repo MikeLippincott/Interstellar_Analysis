{
 "cells": [
  {
   "cell_type": "code",
   "execution_count": 1,
   "id": "e5d22684",
   "metadata": {
    "execution": {
     "iopub.execute_input": "2023-10-31T07:59:23.745100Z",
     "iopub.status.busy": "2023-10-31T07:59:23.744719Z",
     "iopub.status.idle": "2023-10-31T07:59:28.550295Z",
     "shell.execute_reply": "2023-10-31T07:59:28.549738Z"
    },
    "papermill": {
     "duration": 4.811355,
     "end_time": "2023-10-31T07:59:28.552086",
     "exception": false,
     "start_time": "2023-10-31T07:59:23.740731",
     "status": "completed"
    },
    "tags": []
   },
   "outputs": [],
   "source": [
    "import pathlib\n",
    "import sys\n",
    "\n",
    "import numpy as np\n",
    "import pandas as pd\n",
    "import pyarrow.parquet as pq\n",
    "import toml\n",
    "import torch\n",
    "from sklearn import preprocessing\n",
    "\n",
    "sys.path.append(\"../..\")\n",
    "from MLP_utils.parameters import Parameters\n",
    "from MLP_utils.utils import (\n",
    "    Dataset_formatter,\n",
    "    optimized_model_create,\n",
    "    output_stats,\n",
    "    parameter_set,\n",
    "    results_output,\n",
    "    test_optimized_model,\n",
    "    un_nest,\n",
    ")\n",
    "from sklearn.metrics import (\n",
    "    accuracy_score,\n",
    "    auc,\n",
    "    confusion_matrix,\n",
    "    f1_score,\n",
    "    precision_score,\n",
    "    recall_score,\n",
    "    roc_auc_score,\n",
    "    roc_curve,\n",
    ")\n",
    "\n",
    "sys.path.append(\"../../..\")"
   ]
  },
  {
   "cell_type": "code",
   "execution_count": 2,
   "id": "fc121060",
   "metadata": {
    "execution": {
     "iopub.execute_input": "2023-10-31T07:59:28.560932Z",
     "iopub.status.busy": "2023-10-31T07:59:28.560609Z",
     "iopub.status.idle": "2023-10-31T07:59:28.563491Z",
     "shell.execute_reply": "2023-10-31T07:59:28.563062Z"
    },
    "papermill": {
     "duration": 0.006664,
     "end_time": "2023-10-31T07:59:28.564406",
     "exception": false,
     "start_time": "2023-10-31T07:59:28.557742",
     "status": "completed"
    },
    "tags": [
     "injected-parameters"
    ]
   },
   "outputs": [],
   "source": [
    "# Parameters\n",
    "SHUFFLE = False\n",
    "CELL_TYPE = \"PBMC\"\n",
    "CONTROL_NAME = \"DMSO_0.100_%_DMSO_0.025_%\"\n",
    "TREATMENT_NAME = \"Thapsigargin_1.000_uM_DMSO_0.025_%\"\n",
    "MODEL_NAME = \"DMSO_0.025_vs_Thapsigargin_1\"\n",
    "SHUFFLE_DATA = False"
   ]
  },
  {
   "cell_type": "code",
   "execution_count": 3,
   "id": "c55e810d",
   "metadata": {
    "execution": {
     "iopub.execute_input": "2023-10-31T07:59:28.569120Z",
     "iopub.status.busy": "2023-10-31T07:59:28.568704Z",
     "iopub.status.idle": "2023-10-31T07:59:28.572699Z",
     "shell.execute_reply": "2023-10-31T07:59:28.572267Z"
    },
    "papermill": {
     "duration": 0.007238,
     "end_time": "2023-10-31T07:59:28.573610",
     "exception": false,
     "start_time": "2023-10-31T07:59:28.566372",
     "status": "completed"
    },
    "tags": []
   },
   "outputs": [],
   "source": [
    "ml_configs_file = pathlib.Path(\"../../MLP_utils/binary_config.toml\").resolve(\n",
    "    strict=True\n",
    ")\n",
    "ml_configs = toml.load(ml_configs_file)\n",
    "params = Parameters()\n",
    "mlp_params = parameter_set(params, ml_configs)\n",
    "\n",
    "# overwrite mlp_params via command line arguments from papermill\n",
    "mlp_params.CELL_TYPE = CELL_TYPE\n",
    "mlp_params.MODEL_NAME = MODEL_NAME\n",
    "mlp_params.CONTROL_NAME = CONTROL_NAME\n",
    "mlp_params.TREATMENT_NAME = TREATMENT_NAME\n",
    "mlp_params.MODEL_NAME = MODEL_NAME\n",
    "mlp_params.SHUFFLE = SHUFFLE"
   ]
  },
  {
   "cell_type": "code",
   "execution_count": 4,
   "id": "eed3021f",
   "metadata": {
    "execution": {
     "iopub.execute_input": "2023-10-31T07:59:28.578198Z",
     "iopub.status.busy": "2023-10-31T07:59:28.577886Z",
     "iopub.status.idle": "2023-10-31T08:00:35.639472Z",
     "shell.execute_reply": "2023-10-31T08:00:35.638801Z"
    },
    "papermill": {
     "duration": 67.065914,
     "end_time": "2023-10-31T08:00:35.641413",
     "exception": false,
     "start_time": "2023-10-31T07:59:28.575499",
     "status": "completed"
    },
    "tags": []
   },
   "outputs": [],
   "source": [
    "# Import Data\n",
    "# set data file path under pathlib path for multi-system use\n",
    "file_path = pathlib.Path(\n",
    "    f\"../../../data/{mlp_params.CELL_TYPE}_preprocessed_sc_norm.parquet\"\n",
    ").resolve(strict=True)\n",
    "\n",
    "df = pq.read_table(file_path).to_pandas()"
   ]
  },
  {
   "cell_type": "code",
   "execution_count": 5,
   "id": "bfe1e780",
   "metadata": {
    "execution": {
     "iopub.execute_input": "2023-10-31T08:00:35.698291Z",
     "iopub.status.busy": "2023-10-31T08:00:35.697772Z",
     "iopub.status.idle": "2023-10-31T08:00:35.706897Z",
     "shell.execute_reply": "2023-10-31T08:00:35.706412Z"
    },
    "papermill": {
     "duration": 0.014258,
     "end_time": "2023-10-31T08:00:35.708190",
     "exception": false,
     "start_time": "2023-10-31T08:00:35.693932",
     "status": "completed"
    },
    "tags": []
   },
   "outputs": [],
   "source": [
    "def test_loop(df, output_name, title):\n",
    "    # Code snippet for metadata extraction by Jenna Tomkinson\n",
    "    df_metadata = list(df.columns[df.columns.str.startswith(\"Metadata\")])\n",
    "\n",
    "    # define which columns are data and which are descriptive\n",
    "    df_descriptive = df[df_metadata]\n",
    "    df_values = df.drop(columns=df_metadata)\n",
    "    # Creating label encoder\n",
    "    le = preprocessing.LabelEncoder()\n",
    "    # Converting strings into numbers\n",
    "    print(df_values[\"oneb_Metadata_Treatment_Dose_Inhibitor_Dose\"].unique().tolist())\n",
    "    lst_of_treatments = (\n",
    "        df_values[\"oneb_Metadata_Treatment_Dose_Inhibitor_Dose\"].unique().tolist()\n",
    "    )\n",
    "\n",
    "    df_values[\"oneb_Metadata_Treatment_Dose_Inhibitor_Dose\"] = le.fit_transform(\n",
    "        df_values[\"oneb_Metadata_Treatment_Dose_Inhibitor_Dose\"]\n",
    "    )\n",
    "    print(df_values[\"oneb_Metadata_Treatment_Dose_Inhibitor_Dose\"].unique().tolist())\n",
    "    lst_of_coded_treatments = (\n",
    "        df_values[\"oneb_Metadata_Treatment_Dose_Inhibitor_Dose\"].unique().tolist()\n",
    "    )\n",
    "    # make a dictionary of the treatments and their corresponding codes to decode later\n",
    "    dict_of_treatments = {}\n",
    "    for i, j in zip(\n",
    "        lst_of_coded_treatments,\n",
    "        lst_of_treatments,\n",
    "    ):\n",
    "        dict_of_treatments[i] = j\n",
    "    # split into X and Y where Y are the predictive column and x are the observable data\n",
    "    df_values_X = df_values.drop(\n",
    "        [\n",
    "            \"oneb_Metadata_Treatment_Dose_Inhibitor_Dose\",\n",
    "            \"twob_Metadata_Treatment_Dose_Inhibitor_Dose\",\n",
    "            \"threeb_Metadata_Treatment_Dose_Inhibitor_Dose\",\n",
    "            \"fourb_Metadata_Treatment_Dose_Inhibitor_Dose\",\n",
    "        ],\n",
    "        axis=1,\n",
    "    )\n",
    "    df_values_Y = df_values[\"oneb_Metadata_Treatment_Dose_Inhibitor_Dose\"]\n",
    "    test_data = Dataset_formatter(\n",
    "        torch.FloatTensor(df_values_X.values), torch.FloatTensor(df_values_Y.values)\n",
    "    )\n",
    "\n",
    "    mlp_params.IN_FEATURES = df_values_X.shape[1]\n",
    "    print(\"Number of in features: \", mlp_params.IN_FEATURES)\n",
    "    if mlp_params.MODEL_TYPE == \"Regression\":\n",
    "        mlp_params.OUT_FEATURES = 1\n",
    "    else:\n",
    "        mlp_params.OUT_FEATURES = len(\n",
    "            df_values[\"oneb_Metadata_Treatment_Dose_Inhibitor_Dose\"].unique()\n",
    "        )\n",
    "\n",
    "    print(\"Number of out features: \", mlp_params.OUT_FEATURES)\n",
    "\n",
    "    if mlp_params.OUT_FEATURES > 2:\n",
    "        mlp_params.MODEL_TYPE = \"Multi_Class\"\n",
    "    elif mlp_params.OUT_FEATURES == 2:\n",
    "        mlp_params.OUT_FEATURES = mlp_params.OUT_FEATURES - 1\n",
    "        mlp_params.MODEL_TYPE = \"Binary_Classification\"\n",
    "    elif mlp_params.OUT_FEATURES == 1:\n",
    "        mlp_params.MODEL_TYPE = \"Regression\"\n",
    "    else:\n",
    "        pass\n",
    "    # convert data class into a dataloader to be compatible with pytorch\n",
    "    test_loader = torch.utils.data.DataLoader(\n",
    "        dataset=test_data, batch_size=1, shuffle=mlp_params.SHUFFLE\n",
    "    )\n",
    "    model, _ = optimized_model_create(mlp_params, mlp_params.MODEL_NAME)\n",
    "    # calling the testing function and outputting list values of tested model\n",
    "    if mlp_params.MODEL_TYPE == \"Multi_Class\" or mlp_params.MODEL_TYPE == \"Regression\":\n",
    "        y_pred_list = test_optimized_model(\n",
    "            model,\n",
    "            test_loader,\n",
    "            mlp_params,\n",
    "            model_name=mlp_params.MODEL_NAME,\n",
    "            shuffle=mlp_params.SHUFFLE,\n",
    "        )\n",
    "    elif mlp_params.MODEL_TYPE == \"Binary_Classification\":\n",
    "        y_pred_list, y_pred_prob_list = test_optimized_model(\n",
    "            model,\n",
    "            test_loader,\n",
    "            mlp_params,\n",
    "            model_name=mlp_params.MODEL_NAME,\n",
    "            shuffle=mlp_params.SHUFFLE,\n",
    "        )\n",
    "    else:\n",
    "        raise Exception(\"Model type must be specified for proper model testing\")\n",
    "\n",
    "    # un-nest list if nested i.e. length of input data does not match length of output data\n",
    "    if len(y_pred_list) != len(df_values_Y):\n",
    "        y_pred_list = un_nest(y_pred_list)\n",
    "        y_pred_prob_list = un_nest(y_pred_prob_list)\n",
    "    else:\n",
    "        pass\n",
    "\n",
    "    stats, recall, precision, f1, precision_, recall_, threshold_ = output_stats(\n",
    "        y_pred_list,\n",
    "        df_values_Y,\n",
    "        mlp_params,\n",
    "        y_pred_prob_list,\n",
    "        test_name=f\"{output_name}_all_testing\",\n",
    "        model_name=mlp_params.MODEL_NAME,\n",
    "        title=title,\n",
    "        shuffle=mlp_params.SHUFFLE,\n",
    "    )\n",
    "    return (\n",
    "        stats,\n",
    "        recall,\n",
    "        precision,\n",
    "        f1,\n",
    "        precision_,\n",
    "        recall_,\n",
    "        threshold_,\n",
    "        dict_of_treatments,\n",
    "    )"
   ]
  },
  {
   "cell_type": "code",
   "execution_count": 6,
   "id": "42485ec2",
   "metadata": {
    "execution": {
     "iopub.execute_input": "2023-10-31T08:00:35.713630Z",
     "iopub.status.busy": "2023-10-31T08:00:35.713194Z",
     "iopub.status.idle": "2023-10-31T08:00:36.055734Z",
     "shell.execute_reply": "2023-10-31T08:00:36.055193Z"
    },
    "papermill": {
     "duration": 0.346362,
     "end_time": "2023-10-31T08:00:36.056983",
     "exception": false,
     "start_time": "2023-10-31T08:00:35.710621",
     "status": "completed"
    },
    "tags": []
   },
   "outputs": [
    {
     "name": "stdout",
     "output_type": "stream",
     "text": [
      "['LPS_0.010_ug_per_ml_DMSO_0.025_%' 'LPS_0.100_ug_per_ml_DMSO_0.025_%'\n",
      " 'LPS_Nigericin_100.000_ug_per_ml_1.000_uM_DMSO_0.025_%'\n",
      " 'LPS_Nigericin_100.000_ug_per_ml_3.000_uM_DMSO_0.025_%'\n",
      " 'DMSO_0.100_%_DMSO_0.025_%' 'media_ctr_0.0_0_Media_ctr_0.0_0'\n",
      " 'DMSO_0.100_%_DMSO_1.000_%' 'LPS_1.000_ug_per_ml_DMSO_0.025_%'\n",
      " 'LPS_10.000_ug_per_ml_DMSO_0.025_%'\n",
      " 'LPS_Nigericin_100.000_ug_per_ml_10.000_uM_DMSO_0.025_%'\n",
      " 'Disulfiram_0.100_uM_DMSO_0.025_%' 'Thapsigargin_1.000_uM_DMSO_0.025_%'\n",
      " 'Thapsigargin_10.000_uM_DMSO_0.025_%' 'DMSO_0.100_%_Z-VAD-FMK_100.000_uM'\n",
      " 'DMSO_0.100_%_Z-VAD-FMK_30.000_uM'\n",
      " 'LPS_10.000_ug_per_ml_Disulfiram_0.100_uM'\n",
      " 'LPS_10.000_ug_per_ml_Disulfiram_1.000_uM'\n",
      " 'Disulfiram_1.000_uM_DMSO_0.025_%' 'Disulfiram_2.500_uM_DMSO_0.025_%'\n",
      " 'Topotecan_5.000_nM_DMSO_0.025_%' 'Topotecan_10.000_nM_DMSO_0.025_%'\n",
      " 'LPS_10.000_ug_per_ml_Disulfiram_2.500_uM'\n",
      " 'LPS_10.000_ug_per_ml_Z-VAD-FMK_100.000_uM'\n",
      " 'H2O2_100.000_nM_DMSO_0.025_%' 'H2O2_100.000_uM_DMSO_0.025_%'\n",
      " 'Topotecan_20.000_nM_DMSO_0.025_%' 'LPS_100.000_ug_per_ml_DMSO_0.025_%'\n",
      " 'LPS_Nigericin_1.000_ug_per_ml_1.000_uM_DMSO_0.025_%'\n",
      " 'H2O2_100.000_uM_Disulfiram_1.000_uM'\n",
      " 'H2O2_100.000_uM_Z-VAD-FMK_100.000_uM'\n",
      " 'LPS_Nigericin_1.000_ug_per_ml_3.000_uM_DMSO_0.025_%'\n",
      " 'LPS_Nigericin_1.000_ug_per_ml_10.000_uM_DMSO_0.025_%'\n",
      " 'Flagellin_0.100_ug_per_ml_DMSO_0.000_%'\n",
      " 'Flagellin_1.000_ug_per_ml_DMSO_0.000_%'\n",
      " 'Flagellin_0.100_ug_per_ml_DMSO_0.025_%' 'Flagellin_1.000_0_DMSO_0.025_%'\n",
      " 'Flagellin_1.000_ug_per_ml_DMSO_0.025_%'\n",
      " 'LPS_Nigericin_1.000_ug_per_ml_10.000_uM_Disulfiram_1.000_uM'\n",
      " 'LPS_Nigericin_1.000_ug_per_ml_10.000_uM_Z-VAD-FMK_100.000_uM'\n",
      " 'Flagellin_1.000_ug_per_ml_Disulfiram_1.000_uM'\n",
      " 'Flagellin_1.000_0_Disulfiram_1.000_uM' 'media_ctr_0.0_0_Media_0_0']\n"
     ]
    }
   ],
   "source": [
    "print(df[\"oneb_Metadata_Treatment_Dose_Inhibitor_Dose\"].unique())"
   ]
  },
  {
   "cell_type": "code",
   "execution_count": 7,
   "id": "6d720af4",
   "metadata": {
    "execution": {
     "iopub.execute_input": "2023-10-31T08:00:36.062959Z",
     "iopub.status.busy": "2023-10-31T08:00:36.062636Z",
     "iopub.status.idle": "2023-10-31T08:00:36.067625Z",
     "shell.execute_reply": "2023-10-31T08:00:36.067161Z"
    },
    "papermill": {
     "duration": 0.00894,
     "end_time": "2023-10-31T08:00:36.068550",
     "exception": false,
     "start_time": "2023-10-31T08:00:36.059610",
     "status": "completed"
    },
    "tags": []
   },
   "outputs": [],
   "source": [
    "# list of treatments to test with controls varying\n",
    "paired_treatment_list = [\n",
    "    # DMSO control\n",
    "    [\"DMSO_0.100_%_DMSO_0.025_%\", \"LPS_100.000_ug_per_ml_DMSO_0.025_%\"],\n",
    "    [\"DMSO_0.100_%_DMSO_0.025_%\", \"Thapsigargin_1.000_uM_DMSO_0.025_%\"],\n",
    "    [\"DMSO_0.100_%_DMSO_0.025_%\", \"Thapsigargin_10.000_uM_DMSO_0.025_%\"],\n",
    "    [\"DMSO_0.100_%_DMSO_0.025_%\", \"LPS_0.010_ug_per_ml_DMSO_0.025_%\"],\n",
    "    [\"DMSO_0.100_%_DMSO_0.025_%\", \"LPS_0.100_ug_per_ml_DMSO_0.025_%\"],\n",
    "    [\"DMSO_0.100_%_DMSO_0.025_%\", \"LPS_1.000_ug_per_ml_DMSO_0.025_%\"],\n",
    "    [\"DMSO_0.100_%_DMSO_0.025_%\", \"LPS_10.000_ug_per_ml_DMSO_0.025_%\"],\n",
    "    [\"DMSO_0.100_%_DMSO_0.025_%\", \"Flagellin_0.100_ug_per_ml_DMSO_0.025_%\"],\n",
    "    [\"DMSO_0.100_%_DMSO_0.025_%\", \"Flagellin_1.000_ug_per_ml_DMSO_0.025_%\"],\n",
    "    [\"DMSO_0.100_%_DMSO_0.025_%\", \"Flagellin_1.000_ug_per_ml_Disulfiram_1.000_uM\"],\n",
    "    [\n",
    "        \"DMSO_0.100_%_DMSO_0.025_%\",\n",
    "        \"LPS_Nigericin_100.000_ug_per_ml_1.000_uM_DMSO_0.025_%\",\n",
    "    ],\n",
    "    [\n",
    "        \"DMSO_0.100_%_DMSO_0.025_%\",\n",
    "        \"LPS_Nigericin_100.000_ug_per_ml_3.000_uM_DMSO_0.025_%\",\n",
    "    ],\n",
    "    [\n",
    "        \"DMSO_0.100_%_DMSO_0.025_%\",\n",
    "        \"LPS_Nigericin_100.000_ug_per_ml_10.000_uM_DMSO_0.025_%\",\n",
    "    ],\n",
    "    [\n",
    "        \"DMSO_0.100_%_DMSO_0.025_%\",\n",
    "        \"LPS_Nigericin_1.000_ug_per_ml_1.000_uM_DMSO_0.025_%\",\n",
    "    ],\n",
    "    [\n",
    "        \"DMSO_0.100_%_DMSO_0.025_%\",\n",
    "        \"LPS_Nigericin_1.000_ug_per_ml_3.000_uM_DMSO_0.025_%\",\n",
    "    ],\n",
    "    [\n",
    "        \"DMSO_0.100_%_DMSO_0.025_%\",\n",
    "        \"LPS_Nigericin_1.000_ug_per_ml_10.000_uM_DMSO_0.025_%\",\n",
    "    ],\n",
    "    [\"DMSO_0.100_%_DMSO_0.025_%\", \"H2O2_100.000_uM_Z-VAD-FMK_100.000_uM\"],\n",
    "    [\"DMSO_0.100_%_DMSO_0.025_%\", \"H2O2_100.000_uM_DMSO_0.025_%\"],\n",
    "    [\"DMSO_0.100_%_DMSO_0.025_%\", \"H2O2_100.000_nM_DMSO_0.025_%\"],\n",
    "    # LPS (pyroptosis) control\n",
    "    [\"LPS_100.000_ug_per_ml_DMSO_0.025_%\", \"Thapsigargin_1.000_uM_DMSO_0.025_%\"],\n",
    "    [\"LPS_100.000_ug_per_ml_DMSO_0.025_%\", \"Thapsigargin_10.000_uM_DMSO_0.025_%\"],\n",
    "    [\"LPS_10.000_ug_per_ml_DMSO_0.025_%\", \"Thapsigargin_1.000_uM_DMSO_0.025_%\"],\n",
    "    [\"LPS_10.000_ug_per_ml_DMSO_0.025_%\", \"Thapsigargin_10.000_uM_DMSO_0.025_%\"],\n",
    "    [\"LPS_1.000_ug_per_ml_DMSO_0.025_%\", \"Thapsigargin_1.000_uM_DMSO_0.025_%\"],\n",
    "    [\"LPS_1.000_ug_per_ml_DMSO_0.025_%\", \"Thapsigargin_10.000_uM_DMSO_0.025_%\"],\n",
    "    [\"LPS_0.100_ug_per_ml_DMSO_0.025_%\", \"Thapsigargin_1.000_uM_DMSO_0.025_%\"],\n",
    "    [\"LPS_0.100_ug_per_ml_DMSO_0.025_%\", \"Thapsigargin_10.000_uM_DMSO_0.025_%\"],\n",
    "    [\"LPS_0.010_ug_per_ml_DMSO_0.025_%\", \"Thapsigargin_1.000_uM_DMSO_0.025_%\"],\n",
    "    [\"LPS_0.010_ug_per_ml_DMSO_0.025_%\", \"Thapsigargin_10.000_uM_DMSO_0.025_%\"],\n",
    "]"
   ]
  },
  {
   "cell_type": "code",
   "execution_count": 8,
   "id": "cc1c3ba3",
   "metadata": {
    "execution": {
     "iopub.execute_input": "2023-10-31T08:00:36.073409Z",
     "iopub.status.busy": "2023-10-31T08:00:36.073109Z",
     "iopub.status.idle": "2023-10-31T08:00:36.088497Z",
     "shell.execute_reply": "2023-10-31T08:00:36.088040Z"
    },
    "papermill": {
     "duration": 0.019885,
     "end_time": "2023-10-31T08:00:36.090436",
     "exception": false,
     "start_time": "2023-10-31T08:00:36.070551",
     "status": "completed"
    },
    "tags": []
   },
   "outputs": [
    {
     "data": {
      "text/html": [
       "<div>\n",
       "<style scoped>\n",
       "    .dataframe tbody tr th:only-of-type {\n",
       "        vertical-align: middle;\n",
       "    }\n",
       "\n",
       "    .dataframe tbody tr th {\n",
       "        vertical-align: top;\n",
       "    }\n",
       "\n",
       "    .dataframe thead th {\n",
       "        text-align: right;\n",
       "    }\n",
       "</style>\n",
       "<table border=\"1\" class=\"dataframe\">\n",
       "  <thead>\n",
       "    <tr style=\"text-align: right;\">\n",
       "      <th></th>\n",
       "      <th>treatments_tested</th>\n",
       "      <th>model</th>\n",
       "      <th>group</th>\n",
       "      <th>shuffled_data</th>\n",
       "      <th>PR_Threshold</th>\n",
       "      <th>Precision</th>\n",
       "      <th>Recall</th>\n",
       "    </tr>\n",
       "  </thead>\n",
       "  <tbody>\n",
       "  </tbody>\n",
       "</table>\n",
       "</div>"
      ],
      "text/plain": [
       "Empty DataFrame\n",
       "Columns: [treatments_tested, model, group, shuffled_data, PR_Threshold, Precision, Recall]\n",
       "Index: []"
      ]
     },
     "execution_count": 8,
     "metadata": {},
     "output_type": "execute_result"
    }
   ],
   "source": [
    "# create a dataframe to store the model stats\n",
    "model_stats_df = pd.DataFrame(\n",
    "    columns=[\n",
    "        \"treatments_tested\",\n",
    "        \"model\",\n",
    "        \"group\",\n",
    "        \"shuffled_data\",\n",
    "        \"PR_Threshold\",\n",
    "        \"Precision\",\n",
    "        \"Recall\",\n",
    "    ]\n",
    ")\n",
    "model_stats_df"
   ]
  },
  {
   "cell_type": "code",
   "execution_count": 9,
   "id": "f1b0c095",
   "metadata": {
    "execution": {
     "iopub.execute_input": "2023-10-31T08:00:36.097084Z",
     "iopub.status.busy": "2023-10-31T08:00:36.096676Z",
     "iopub.status.idle": "2023-10-31T08:20:35.437704Z",
     "shell.execute_reply": "2023-10-31T08:20:35.437048Z"
    },
    "papermill": {
     "duration": 1199.345432,
     "end_time": "2023-10-31T08:20:35.439109",
     "exception": false,
     "start_time": "2023-10-31T08:00:36.093677",
     "status": "completed"
    },
    "tags": []
   },
   "outputs": [
    {
     "name": "stdout",
     "output_type": "stream",
     "text": [
      "DMSO_0.100_%_DMSO_0.025_%__LPS_100.000_ug_per_ml_DMSO_0.025_%\n",
      "DMSO vs LPS__100.000\n"
     ]
    },
    {
     "name": "stdout",
     "output_type": "stream",
     "text": [
      "['DMSO_0.100_%_DMSO_0.025_%', 'LPS_100.000_ug_per_ml_DMSO_0.025_%']\n",
      "[0, 1]\n"
     ]
    },
    {
     "name": "stdout",
     "output_type": "stream",
     "text": [
      "Number of in features:  1245\n",
      "Number of out features:  2\n",
      "DMSO_0.025_vs_Thapsigargin_1\n"
     ]
    },
    {
     "name": "stdout",
     "output_type": "stream",
     "text": [
      "              precision    recall  f1-score   support\n",
      "\n",
      "           0       0.70      0.90      0.79    215130\n",
      "           1       0.79      0.48      0.59    159435\n",
      "\n",
      "    accuracy                           0.72    374565\n",
      "   macro avg       0.74      0.69      0.69    374565\n",
      "weighted avg       0.74      0.72      0.71    374565\n",
      "\n"
     ]
    },
    {
     "name": "stdout",
     "output_type": "stream",
     "text": [
      "0.47706588892024965 0.7856648521345715 0.5936560960951585\n"
     ]
    },
    {
     "name": "stdout",
     "output_type": "stream",
     "text": [
      "DMSO_0.100_%_DMSO_0.025_%__Thapsigargin_1.000_uM_DMSO_0.025_%\n",
      "DMSO vs Thapsigargin__1.000\n"
     ]
    },
    {
     "name": "stdout",
     "output_type": "stream",
     "text": [
      "['DMSO_0.100_%_DMSO_0.025_%', 'Thapsigargin_1.000_uM_DMSO_0.025_%']\n",
      "[0, 1]\n"
     ]
    },
    {
     "name": "stdout",
     "output_type": "stream",
     "text": [
      "Number of in features:  1245\n",
      "Number of out features:  2\n",
      "DMSO_0.025_vs_Thapsigargin_1\n"
     ]
    },
    {
     "name": "stdout",
     "output_type": "stream",
     "text": [
      "              precision    recall  f1-score   support\n",
      "\n",
      "           0       0.86      0.90      0.88    215130\n",
      "           1       0.85      0.79      0.82    148456\n",
      "\n",
      "    accuracy                           0.86    363586\n",
      "   macro avg       0.86      0.85      0.85    363586\n",
      "weighted avg       0.86      0.86      0.86    363586\n",
      "\n"
     ]
    },
    {
     "name": "stdout",
     "output_type": "stream",
     "text": [
      "0.7926456323759228 0.850097165933407 0.820366774842355\n"
     ]
    },
    {
     "name": "stdout",
     "output_type": "stream",
     "text": [
      "DMSO_0.100_%_DMSO_0.025_%__Thapsigargin_10.000_uM_DMSO_0.025_%\n",
      "DMSO vs Thapsigargin__10.000\n"
     ]
    },
    {
     "name": "stdout",
     "output_type": "stream",
     "text": [
      "['DMSO_0.100_%_DMSO_0.025_%', 'Thapsigargin_10.000_uM_DMSO_0.025_%']\n",
      "[0, 1]\n"
     ]
    },
    {
     "name": "stdout",
     "output_type": "stream",
     "text": [
      "Number of in features:  1245\n",
      "Number of out features:  2\n",
      "DMSO_0.025_vs_Thapsigargin_1\n"
     ]
    },
    {
     "name": "stdout",
     "output_type": "stream",
     "text": [
      "              precision    recall  f1-score   support\n",
      "\n",
      "           0       0.87      0.90      0.89    215130\n",
      "           1       0.87      0.82      0.85    166984\n",
      "\n",
      "    accuracy                           0.87    382114\n",
      "   macro avg       0.87      0.86      0.87    382114\n",
      "weighted avg       0.87      0.87      0.87    382114\n",
      "\n"
     ]
    },
    {
     "name": "stdout",
     "output_type": "stream",
     "text": [
      "0.8249233459493125 0.8690843475353157 0.8464282312747516\n"
     ]
    },
    {
     "name": "stdout",
     "output_type": "stream",
     "text": [
      "LPS_0.010_ug_per_ml_DMSO_0.025_%__DMSO_0.100_%_DMSO_0.025_%\n",
      "LPS vs DMSO__0.100\n"
     ]
    },
    {
     "name": "stdout",
     "output_type": "stream",
     "text": [
      "['LPS_0.010_ug_per_ml_DMSO_0.025_%', 'DMSO_0.100_%_DMSO_0.025_%']\n",
      "[1, 0]\n"
     ]
    },
    {
     "name": "stdout",
     "output_type": "stream",
     "text": [
      "Number of in features:  1245\n",
      "Number of out features:  2\n",
      "DMSO_0.025_vs_Thapsigargin_1\n"
     ]
    },
    {
     "name": "stdout",
     "output_type": "stream",
     "text": [
      "              precision    recall  f1-score   support\n",
      "\n",
      "           0       0.71      0.90      0.79    215130\n",
      "           1       0.75      0.44      0.56    143080\n",
      "\n",
      "    accuracy                           0.72    358210\n",
      "   macro avg       0.73      0.67      0.67    358210\n",
      "weighted avg       0.73      0.72      0.70    358210\n",
      "\n"
     ]
    },
    {
     "name": "stdout",
     "output_type": "stream",
     "text": [
      "0.4403690243220576 0.7522624704505838 0.5555330235674798\n"
     ]
    },
    {
     "name": "stdout",
     "output_type": "stream",
     "text": [
      "LPS_0.100_ug_per_ml_DMSO_0.025_%__DMSO_0.100_%_DMSO_0.025_%\n",
      "LPS vs DMSO__0.100\n"
     ]
    },
    {
     "name": "stdout",
     "output_type": "stream",
     "text": [
      "['LPS_0.100_ug_per_ml_DMSO_0.025_%', 'DMSO_0.100_%_DMSO_0.025_%']\n",
      "[1, 0]\n"
     ]
    },
    {
     "name": "stdout",
     "output_type": "stream",
     "text": [
      "Number of in features:  1245\n",
      "Number of out features:  2\n",
      "DMSO_0.025_vs_Thapsigargin_1\n"
     ]
    },
    {
     "name": "stdout",
     "output_type": "stream",
     "text": [
      "              precision    recall  f1-score   support\n",
      "\n",
      "           0       0.75      0.90      0.82    215130\n",
      "           1       0.78      0.54      0.64    138597\n",
      "\n",
      "    accuracy                           0.76    353727\n",
      "   macro avg       0.77      0.72      0.73    353727\n",
      "weighted avg       0.77      0.76      0.75    353727\n",
      "\n"
     ]
    },
    {
     "name": "stdout",
     "output_type": "stream",
     "text": [
      "0.5417938339213692 0.7834955812230674 0.6406043388870405\n"
     ]
    },
    {
     "name": "stdout",
     "output_type": "stream",
     "text": [
      "DMSO_0.100_%_DMSO_0.025_%__LPS_1.000_ug_per_ml_DMSO_0.025_%\n",
      "DMSO vs LPS__1.000\n"
     ]
    },
    {
     "name": "stdout",
     "output_type": "stream",
     "text": [
      "['DMSO_0.100_%_DMSO_0.025_%', 'LPS_1.000_ug_per_ml_DMSO_0.025_%']\n",
      "[0, 1]\n"
     ]
    },
    {
     "name": "stdout",
     "output_type": "stream",
     "text": [
      "Number of in features:  1245\n",
      "Number of out features:  2\n",
      "DMSO_0.025_vs_Thapsigargin_1\n"
     ]
    },
    {
     "name": "stdout",
     "output_type": "stream",
     "text": [
      "              precision    recall  f1-score   support\n",
      "\n",
      "           0       0.79      0.90      0.84    215130\n",
      "           1       0.81      0.62      0.70    139433\n",
      "\n",
      "    accuracy                           0.79    354563\n",
      "   macro avg       0.80      0.76      0.77    354563\n",
      "weighted avg       0.79      0.79      0.79    354563\n",
      "\n"
     ]
    },
    {
     "name": "stdout",
     "output_type": "stream",
     "text": [
      "0.6204843903523556 0.806555665355285 0.7013891422340585\n"
     ]
    },
    {
     "name": "stdout",
     "output_type": "stream",
     "text": [
      "DMSO_0.100_%_DMSO_0.025_%__LPS_10.000_ug_per_ml_DMSO_0.025_%\n",
      "DMSO vs LPS__10.000\n"
     ]
    },
    {
     "name": "stdout",
     "output_type": "stream",
     "text": [
      "['DMSO_0.100_%_DMSO_0.025_%', 'LPS_10.000_ug_per_ml_DMSO_0.025_%']\n",
      "[0, 1]\n"
     ]
    },
    {
     "name": "stdout",
     "output_type": "stream",
     "text": [
      "Number of in features:  1245\n",
      "Number of out features:  2\n",
      "DMSO_0.025_vs_Thapsigargin_1\n"
     ]
    },
    {
     "name": "stdout",
     "output_type": "stream",
     "text": [
      "              precision    recall  f1-score   support\n",
      "\n",
      "           0       0.80      0.90      0.85    215130\n",
      "           1       0.84      0.69      0.76    156490\n",
      "\n",
      "    accuracy                           0.81    371620\n",
      "   macro avg       0.82      0.80      0.80    371620\n",
      "weighted avg       0.82      0.81      0.81    371620\n",
      "\n"
     ]
    },
    {
     "name": "stdout",
     "output_type": "stream",
     "text": [
      "0.6893220014058407 0.8386745657819036 0.7566991217486462\n"
     ]
    },
    {
     "name": "stdout",
     "output_type": "stream",
     "text": [
      "DMSO_0.100_%_DMSO_0.025_%__Flagellin_0.100_ug_per_ml_DMSO_0.025_%\n",
      "DMSO vs Flagellin__0.100\n"
     ]
    },
    {
     "name": "stdout",
     "output_type": "stream",
     "text": [
      "['DMSO_0.100_%_DMSO_0.025_%', 'Flagellin_0.100_ug_per_ml_DMSO_0.025_%']\n",
      "[0, 1]\n"
     ]
    },
    {
     "name": "stdout",
     "output_type": "stream",
     "text": [
      "Number of in features:  1245\n",
      "Number of out features:  2\n",
      "DMSO_0.025_vs_Thapsigargin_1\n"
     ]
    },
    {
     "name": "stdout",
     "output_type": "stream",
     "text": [
      "              precision    recall  f1-score   support\n",
      "\n",
      "           0       0.79      0.90      0.85    215130\n",
      "           1       0.69      0.47      0.56     95915\n",
      "\n",
      "    accuracy                           0.77    311045\n",
      "   macro avg       0.74      0.69      0.70    311045\n",
      "weighted avg       0.76      0.77      0.76    311045\n",
      "\n"
     ]
    },
    {
     "name": "stdout",
     "output_type": "stream",
     "text": [
      "0.4746285773862274 0.6869058756073272 0.5613697599713914\n"
     ]
    },
    {
     "name": "stdout",
     "output_type": "stream",
     "text": [
      "DMSO_0.100_%_DMSO_0.025_%__Flagellin_1.000_ug_per_ml_DMSO_0.025_%\n",
      "DMSO vs Flagellin__1.000\n"
     ]
    },
    {
     "name": "stdout",
     "output_type": "stream",
     "text": [
      "['DMSO_0.100_%_DMSO_0.025_%', 'Flagellin_1.000_ug_per_ml_DMSO_0.025_%']\n",
      "[0, 1]\n"
     ]
    },
    {
     "name": "stdout",
     "output_type": "stream",
     "text": [
      "Number of in features:  1245\n",
      "Number of out features:  2\n",
      "DMSO_0.025_vs_Thapsigargin_1\n"
     ]
    },
    {
     "name": "stdout",
     "output_type": "stream",
     "text": [
      "              precision    recall  f1-score   support\n",
      "\n",
      "           0       0.84      0.90      0.87    215130\n",
      "           1       0.60      0.47      0.53     67931\n",
      "\n",
      "    accuracy                           0.80    283061\n",
      "   macro avg       0.72      0.69      0.70    283061\n",
      "weighted avg       0.79      0.80      0.79    283061\n",
      "\n"
     ]
    },
    {
     "name": "stdout",
     "output_type": "stream",
     "text": [
      "0.4676804404469241 0.604912414318355 0.5275174137201021\n"
     ]
    },
    {
     "name": "stdout",
     "output_type": "stream",
     "text": [
      "DMSO_0.100_%_DMSO_0.025_%__Flagellin_1.000_ug_per_ml_Disulfiram_1.000_uM\n",
      "DMSO vs Flagellin__1.000\n"
     ]
    },
    {
     "name": "stdout",
     "output_type": "stream",
     "text": [
      "['DMSO_0.100_%_DMSO_0.025_%', 'Flagellin_1.000_ug_per_ml_Disulfiram_1.000_uM']\n",
      "[0, 1]\n"
     ]
    },
    {
     "name": "stdout",
     "output_type": "stream",
     "text": [
      "Number of in features:  1245\n",
      "Number of out features:  2\n",
      "DMSO_0.025_vs_Thapsigargin_1\n"
     ]
    },
    {
     "name": "stdout",
     "output_type": "stream",
     "text": [
      "              precision    recall  f1-score   support\n",
      "\n",
      "           0       0.91      0.90      0.90    215130\n",
      "           1       0.81      0.81      0.81    107300\n",
      "\n",
      "    accuracy                           0.87    322430\n",
      "   macro avg       0.86      0.86      0.86    322430\n",
      "weighted avg       0.87      0.87      0.87    322430\n",
      "\n"
     ]
    },
    {
     "name": "stdout",
     "output_type": "stream",
     "text": [
      "0.8112861136999068 0.8075157002254153 0.8093965160552483\n"
     ]
    },
    {
     "name": "stdout",
     "output_type": "stream",
     "text": [
      "LPS_Nigericin_100.000_ug_per_ml_1.000_uM_DMSO_0.025_%__DMSO_0.100_%_DMSO_0.025_%\n",
      "LPS vs DMSO__0.100\n"
     ]
    },
    {
     "name": "stdout",
     "output_type": "stream",
     "text": [
      "['LPS_Nigericin_100.000_ug_per_ml_1.000_uM_DMSO_0.025_%', 'DMSO_0.100_%_DMSO_0.025_%']\n",
      "[1, 0]\n"
     ]
    },
    {
     "name": "stdout",
     "output_type": "stream",
     "text": [
      "Number of in features:  1245\n",
      "Number of out features:  2\n",
      "DMSO_0.025_vs_Thapsigargin_1\n"
     ]
    },
    {
     "name": "stdout",
     "output_type": "stream",
     "text": [
      "              precision    recall  f1-score   support\n",
      "\n",
      "           0       0.74      0.90      0.81    215130\n",
      "           1       0.83      0.60      0.70    170659\n",
      "\n",
      "    accuracy                           0.77    385789\n",
      "   macro avg       0.79      0.75      0.76    385789\n",
      "weighted avg       0.78      0.77      0.76    385789\n",
      "\n"
     ]
    },
    {
     "name": "stdout",
     "output_type": "stream",
     "text": [
      "0.6036071932918862 0.8323381356000679 0.699755451395965\n"
     ]
    },
    {
     "name": "stdout",
     "output_type": "stream",
     "text": [
      "LPS_Nigericin_100.000_ug_per_ml_3.000_uM_DMSO_0.025_%__DMSO_0.100_%_DMSO_0.025_%\n",
      "LPS vs DMSO__0.100\n"
     ]
    },
    {
     "name": "stdout",
     "output_type": "stream",
     "text": [
      "['LPS_Nigericin_100.000_ug_per_ml_3.000_uM_DMSO_0.025_%', 'DMSO_0.100_%_DMSO_0.025_%']\n",
      "[1, 0]\n"
     ]
    },
    {
     "name": "stdout",
     "output_type": "stream",
     "text": [
      "Number of in features:  1245\n",
      "Number of out features:  2\n",
      "DMSO_0.025_vs_Thapsigargin_1\n"
     ]
    },
    {
     "name": "stdout",
     "output_type": "stream",
     "text": [
      "              precision    recall  f1-score   support\n",
      "\n",
      "           0       0.74      0.90      0.81    215130\n",
      "           1       0.85      0.62      0.72    184854\n",
      "\n",
      "    accuracy                           0.77    399984\n",
      "   macro avg       0.79      0.76      0.76    399984\n",
      "weighted avg       0.79      0.77      0.77    399984\n",
      "\n"
     ]
    },
    {
     "name": "stdout",
     "output_type": "stream",
     "text": [
      "0.6226102762179883 0.8472490098791243 0.7177638635966771\n"
     ]
    },
    {
     "name": "stdout",
     "output_type": "stream",
     "text": [
      "DMSO_0.100_%_DMSO_0.025_%__LPS_Nigericin_100.000_ug_per_ml_10.000_uM_DMSO_0.025_%\n",
      "DMSO vs LPS__Nigericin\n"
     ]
    },
    {
     "name": "stdout",
     "output_type": "stream",
     "text": [
      "['DMSO_0.100_%_DMSO_0.025_%', 'LPS_Nigericin_100.000_ug_per_ml_10.000_uM_DMSO_0.025_%']\n",
      "[0, 1]\n"
     ]
    },
    {
     "name": "stdout",
     "output_type": "stream",
     "text": [
      "Number of in features:  1245\n",
      "Number of out features:  2\n",
      "DMSO_0.025_vs_Thapsigargin_1\n"
     ]
    },
    {
     "name": "stdout",
     "output_type": "stream",
     "text": [
      "              precision    recall  f1-score   support\n",
      "\n",
      "           0       0.68      0.90      0.78    215130\n",
      "           1       0.80      0.48      0.60    176090\n",
      "\n",
      "    accuracy                           0.71    391220\n",
      "   macro avg       0.74      0.69      0.69    391220\n",
      "weighted avg       0.73      0.71      0.70    391220\n",
      "\n"
     ]
    },
    {
     "name": "stdout",
     "output_type": "stream",
     "text": [
      "0.47922085297291156 0.8026365849946736 0.6001294332671944\n"
     ]
    },
    {
     "name": "stdout",
     "output_type": "stream",
     "text": [
      "DMSO_0.100_%_DMSO_0.025_%__LPS_Nigericin_1.000_ug_per_ml_1.000_uM_DMSO_0.025_%\n",
      "DMSO vs LPS__Nigericin\n"
     ]
    },
    {
     "name": "stdout",
     "output_type": "stream",
     "text": [
      "['DMSO_0.100_%_DMSO_0.025_%', 'LPS_Nigericin_1.000_ug_per_ml_1.000_uM_DMSO_0.025_%']\n",
      "[0, 1]\n"
     ]
    },
    {
     "name": "stdout",
     "output_type": "stream",
     "text": [
      "Number of in features:  1245\n",
      "Number of out features:  2\n",
      "DMSO_0.025_vs_Thapsigargin_1\n"
     ]
    },
    {
     "name": "stdout",
     "output_type": "stream",
     "text": [
      "              precision    recall  f1-score   support\n",
      "\n",
      "           0       0.64      0.90      0.75    215130\n",
      "           1       0.73      0.34      0.47    166013\n",
      "\n",
      "    accuracy                           0.66    381143\n",
      "   macro avg       0.69      0.62      0.61    381143\n",
      "weighted avg       0.68      0.66      0.63    381143\n",
      "\n"
     ]
    },
    {
     "name": "stdout",
     "output_type": "stream",
     "text": [
      "0.34234066006878977 0.7325445007282523 0.466616857419662\n"
     ]
    },
    {
     "name": "stdout",
     "output_type": "stream",
     "text": [
      "DMSO_0.100_%_DMSO_0.025_%__LPS_Nigericin_1.000_ug_per_ml_3.000_uM_DMSO_0.025_%\n",
      "DMSO vs LPS__Nigericin\n"
     ]
    },
    {
     "name": "stdout",
     "output_type": "stream",
     "text": [
      "['DMSO_0.100_%_DMSO_0.025_%', 'LPS_Nigericin_1.000_ug_per_ml_3.000_uM_DMSO_0.025_%']\n",
      "[0, 1]\n"
     ]
    },
    {
     "name": "stdout",
     "output_type": "stream",
     "text": [
      "Number of in features:  1245\n",
      "Number of out features:  2\n",
      "DMSO_0.025_vs_Thapsigargin_1\n"
     ]
    },
    {
     "name": "stdout",
     "output_type": "stream",
     "text": [
      "              precision    recall  f1-score   support\n",
      "\n",
      "           0       0.62      0.90      0.74    215130\n",
      "           1       0.73      0.32      0.44    174261\n",
      "\n",
      "    accuracy                           0.64    389391\n",
      "   macro avg       0.67      0.61      0.59    389391\n",
      "weighted avg       0.67      0.64      0.60    389391\n",
      "\n"
     ]
    },
    {
     "name": "stdout",
     "output_type": "stream",
     "text": [
      "0.3165252121817274 0.726642778099805 0.4409659070468363\n"
     ]
    },
    {
     "name": "stdout",
     "output_type": "stream",
     "text": [
      "DMSO_0.100_%_DMSO_0.025_%__LPS_Nigericin_1.000_ug_per_ml_10.000_uM_DMSO_0.025_%\n",
      "DMSO vs LPS__Nigericin\n"
     ]
    },
    {
     "name": "stdout",
     "output_type": "stream",
     "text": [
      "['DMSO_0.100_%_DMSO_0.025_%', 'LPS_Nigericin_1.000_ug_per_ml_10.000_uM_DMSO_0.025_%']\n",
      "[0, 1]\n"
     ]
    },
    {
     "name": "stdout",
     "output_type": "stream",
     "text": [
      "Number of in features:  1245\n",
      "Number of out features:  2\n",
      "DMSO_0.025_vs_Thapsigargin_1\n"
     ]
    },
    {
     "name": "stdout",
     "output_type": "stream",
     "text": [
      "              precision    recall  f1-score   support\n",
      "\n",
      "           0       0.59      0.90      0.71    215130\n",
      "           1       0.68      0.24      0.36    181166\n",
      "\n",
      "    accuracy                           0.60    396296\n",
      "   macro avg       0.63      0.57      0.54    396296\n",
      "weighted avg       0.63      0.60      0.55    396296\n",
      "\n"
     ]
    },
    {
     "name": "stdout",
     "output_type": "stream",
     "text": [
      "0.24433392579181523 0.6808428824117512 0.3596134551407298\n"
     ]
    },
    {
     "name": "stdout",
     "output_type": "stream",
     "text": [
      "DMSO_0.100_%_DMSO_0.025_%__H2O2_100.000_uM_Z-VAD-FMK_100.000_uM\n",
      "DMSO vs H2O2__100.000\n"
     ]
    },
    {
     "name": "stdout",
     "output_type": "stream",
     "text": [
      "['DMSO_0.100_%_DMSO_0.025_%', 'H2O2_100.000_uM_Z-VAD-FMK_100.000_uM']\n",
      "[0, 1]\n"
     ]
    },
    {
     "name": "stdout",
     "output_type": "stream",
     "text": [
      "Number of in features:  1245\n",
      "Number of out features:  2\n",
      "DMSO_0.025_vs_Thapsigargin_1\n"
     ]
    },
    {
     "name": "stdout",
     "output_type": "stream",
     "text": [
      "              precision    recall  f1-score   support\n",
      "\n",
      "           0       0.88      0.90      0.89    215130\n",
      "           1       0.88      0.84      0.86    173437\n",
      "\n",
      "    accuracy                           0.88    388567\n",
      "   macro avg       0.88      0.87      0.88    388567\n",
      "weighted avg       0.88      0.88      0.88    388567\n",
      "\n"
     ]
    },
    {
     "name": "stdout",
     "output_type": "stream",
     "text": [
      "0.8444334253936588 0.8759015824790977 0.8598796981003572\n"
     ]
    },
    {
     "name": "stdout",
     "output_type": "stream",
     "text": [
      "DMSO_0.100_%_DMSO_0.025_%__H2O2_100.000_uM_DMSO_0.025_%\n",
      "DMSO vs H2O2__100.000\n"
     ]
    },
    {
     "name": "stdout",
     "output_type": "stream",
     "text": [
      "['DMSO_0.100_%_DMSO_0.025_%', 'H2O2_100.000_uM_DMSO_0.025_%']\n",
      "[0, 1]\n"
     ]
    },
    {
     "name": "stdout",
     "output_type": "stream",
     "text": [
      "Number of in features:  1245\n",
      "Number of out features:  2\n",
      "DMSO_0.025_vs_Thapsigargin_1\n"
     ]
    },
    {
     "name": "stdout",
     "output_type": "stream",
     "text": [
      "              precision    recall  f1-score   support\n",
      "\n",
      "           0       0.66      0.90      0.76    215130\n",
      "           1       0.50      0.17      0.26    120247\n",
      "\n",
      "    accuracy                           0.64    335377\n",
      "   macro avg       0.58      0.54      0.51    335377\n",
      "weighted avg       0.60      0.64      0.58    335377\n",
      "\n"
     ]
    },
    {
     "name": "stdout",
     "output_type": "stream",
     "text": [
      "0.1717797533410397 0.4988648988069362 0.25555974834986056\n"
     ]
    },
    {
     "name": "stdout",
     "output_type": "stream",
     "text": [
      "DMSO_0.100_%_DMSO_0.025_%__H2O2_100.000_nM_DMSO_0.025_%\n",
      "DMSO vs H2O2__100.000\n"
     ]
    },
    {
     "name": "stdout",
     "output_type": "stream",
     "text": [
      "['DMSO_0.100_%_DMSO_0.025_%', 'H2O2_100.000_nM_DMSO_0.025_%']\n",
      "[0, 1]\n"
     ]
    },
    {
     "name": "stdout",
     "output_type": "stream",
     "text": [
      "Number of in features:  1245\n",
      "Number of out features:  2\n",
      "DMSO_0.025_vs_Thapsigargin_1\n"
     ]
    },
    {
     "name": "stdout",
     "output_type": "stream",
     "text": [
      "              precision    recall  f1-score   support\n",
      "\n",
      "           0       0.66      0.90      0.76    215130\n",
      "           1       0.50      0.17      0.25    120289\n",
      "\n",
      "    accuracy                           0.64    335419\n",
      "   macro avg       0.58      0.54      0.51    335419\n",
      "weighted avg       0.60      0.64      0.58    335419\n",
      "\n"
     ]
    },
    {
     "name": "stdout",
     "output_type": "stream",
     "text": [
      "0.1703979582505466 0.49693311028680875 0.25377624801901744\n"
     ]
    },
    {
     "name": "stdout",
     "output_type": "stream",
     "text": [
      "Thapsigargin_1.000_uM_DMSO_0.025_%__LPS_100.000_ug_per_ml_DMSO_0.025_%\n",
      "Thapsigargin vs LPS__100.000\n"
     ]
    },
    {
     "name": "stdout",
     "output_type": "stream",
     "text": [
      "['Thapsigargin_1.000_uM_DMSO_0.025_%', 'LPS_100.000_ug_per_ml_DMSO_0.025_%']\n",
      "[1, 0]\n"
     ]
    },
    {
     "name": "stdout",
     "output_type": "stream",
     "text": [
      "Number of in features:  1245\n",
      "Number of out features:  2\n",
      "DMSO_0.025_vs_Thapsigargin_1\n"
     ]
    },
    {
     "name": "stdout",
     "output_type": "stream",
     "text": [
      "              precision    recall  f1-score   support\n",
      "\n",
      "           0       0.73      0.52      0.61    159435\n",
      "           1       0.61      0.79      0.69    148456\n",
      "\n",
      "    accuracy                           0.65    307891\n",
      "   macro avg       0.67      0.66      0.65    307891\n",
      "weighted avg       0.67      0.65      0.65    307891\n",
      "\n"
     ]
    },
    {
     "name": "stdout",
     "output_type": "stream",
     "text": [
      "0.7926456323759228 0.6073946751731756 0.6877641076594874\n"
     ]
    },
    {
     "name": "stdout",
     "output_type": "stream",
     "text": [
      "Thapsigargin_10.000_uM_DMSO_0.025_%__LPS_100.000_ug_per_ml_DMSO_0.025_%\n",
      "Thapsigargin vs LPS__100.000\n"
     ]
    },
    {
     "name": "stdout",
     "output_type": "stream",
     "text": [
      "['Thapsigargin_10.000_uM_DMSO_0.025_%', 'LPS_100.000_ug_per_ml_DMSO_0.025_%']\n",
      "[1, 0]\n"
     ]
    },
    {
     "name": "stdout",
     "output_type": "stream",
     "text": [
      "Number of in features:  1245\n",
      "Number of out features:  2\n",
      "DMSO_0.025_vs_Thapsigargin_1\n"
     ]
    },
    {
     "name": "stdout",
     "output_type": "stream",
     "text": [
      "              precision    recall  f1-score   support\n",
      "\n",
      "           0       0.74      0.52      0.61    159435\n",
      "           1       0.64      0.82      0.72    166984\n",
      "\n",
      "    accuracy                           0.68    326419\n",
      "   macro avg       0.69      0.67      0.67    326419\n",
      "weighted avg       0.69      0.68      0.67    326419\n",
      "\n"
     ]
    },
    {
     "name": "stdout",
     "output_type": "stream",
     "text": [
      "0.8249233459493125 0.6442589214723352 0.7234830380730788\n"
     ]
    },
    {
     "name": "stdout",
     "output_type": "stream",
     "text": [
      "LPS_10.000_ug_per_ml_DMSO_0.025_%__Thapsigargin_1.000_uM_DMSO_0.025_%\n",
      "LPS vs Thapsigargin__1.000\n"
     ]
    },
    {
     "name": "stdout",
     "output_type": "stream",
     "text": [
      "['LPS_10.000_ug_per_ml_DMSO_0.025_%', 'Thapsigargin_1.000_uM_DMSO_0.025_%']\n",
      "[0, 1]\n"
     ]
    },
    {
     "name": "stdout",
     "output_type": "stream",
     "text": [
      "Number of in features:  1245\n",
      "Number of out features:  2\n",
      "DMSO_0.025_vs_Thapsigargin_1\n"
     ]
    },
    {
     "name": "stdout",
     "output_type": "stream",
     "text": [
      "              precision    recall  f1-score   support\n",
      "\n",
      "           0       0.61      0.31      0.41    156490\n",
      "           1       0.52      0.79      0.63    148456\n",
      "\n",
      "    accuracy                           0.55    304946\n",
      "   macro avg       0.57      0.55      0.52    304946\n",
      "weighted avg       0.57      0.55      0.52    304946\n",
      "\n"
     ]
    },
    {
     "name": "stdout",
     "output_type": "stream",
     "text": [
      "0.7926456323759228 0.5217273714779755 0.6292656971505424\n"
     ]
    },
    {
     "name": "stdout",
     "output_type": "stream",
     "text": [
      "LPS_10.000_ug_per_ml_DMSO_0.025_%__Thapsigargin_10.000_uM_DMSO_0.025_%\n",
      "LPS vs Thapsigargin__10.000\n"
     ]
    },
    {
     "name": "stdout",
     "output_type": "stream",
     "text": [
      "['LPS_10.000_ug_per_ml_DMSO_0.025_%', 'Thapsigargin_10.000_uM_DMSO_0.025_%']\n",
      "[0, 1]\n"
     ]
    },
    {
     "name": "stdout",
     "output_type": "stream",
     "text": [
      "Number of in features:  1245\n",
      "Number of out features:  2\n",
      "DMSO_0.025_vs_Thapsigargin_1\n"
     ]
    },
    {
     "name": "stdout",
     "output_type": "stream",
     "text": [
      "              precision    recall  f1-score   support\n",
      "\n",
      "           0       0.62      0.31      0.41    156490\n",
      "           1       0.56      0.82      0.67    166984\n",
      "\n",
      "    accuracy                           0.58    323474\n",
      "   macro avg       0.59      0.57      0.54    323474\n",
      "weighted avg       0.59      0.58      0.55    323474\n",
      "\n"
     ]
    },
    {
     "name": "stdout",
     "output_type": "stream",
     "text": [
      "0.8249233459493125 0.5608193110523937 0.6677039783812605\n"
     ]
    },
    {
     "name": "stdout",
     "output_type": "stream",
     "text": [
      "LPS_1.000_ug_per_ml_DMSO_0.025_%__Thapsigargin_1.000_uM_DMSO_0.025_%\n",
      "LPS vs Thapsigargin__1.000\n"
     ]
    },
    {
     "name": "stdout",
     "output_type": "stream",
     "text": [
      "['LPS_1.000_ug_per_ml_DMSO_0.025_%', 'Thapsigargin_1.000_uM_DMSO_0.025_%']\n",
      "[0, 1]\n"
     ]
    },
    {
     "name": "stdout",
     "output_type": "stream",
     "text": [
      "Number of in features:  1245\n",
      "Number of out features:  2\n",
      "DMSO_0.025_vs_Thapsigargin_1\n"
     ]
    },
    {
     "name": "stdout",
     "output_type": "stream",
     "text": [
      "              precision    recall  f1-score   support\n",
      "\n",
      "           0       0.63      0.38      0.47    139433\n",
      "           1       0.58      0.79      0.67    148456\n",
      "\n",
      "    accuracy                           0.59    287889\n",
      "   macro avg       0.60      0.59      0.57    287889\n",
      "weighted avg       0.60      0.59      0.57    287889\n",
      "\n"
     ]
    },
    {
     "name": "stdout",
     "output_type": "stream",
     "text": [
      "0.7926456323759228 0.5762945114575222 0.6673737044336372\n"
     ]
    },
    {
     "name": "stdout",
     "output_type": "stream",
     "text": [
      "LPS_1.000_ug_per_ml_DMSO_0.025_%__Thapsigargin_10.000_uM_DMSO_0.025_%\n",
      "LPS vs Thapsigargin__10.000\n"
     ]
    },
    {
     "name": "stdout",
     "output_type": "stream",
     "text": [
      "['LPS_1.000_ug_per_ml_DMSO_0.025_%', 'Thapsigargin_10.000_uM_DMSO_0.025_%']\n",
      "[0, 1]\n"
     ]
    },
    {
     "name": "stdout",
     "output_type": "stream",
     "text": [
      "Number of in features:  1245\n",
      "Number of out features:  2\n",
      "DMSO_0.025_vs_Thapsigargin_1\n"
     ]
    },
    {
     "name": "stdout",
     "output_type": "stream",
     "text": [
      "              precision    recall  f1-score   support\n",
      "\n",
      "           0       0.64      0.38      0.48    139433\n",
      "           1       0.61      0.82      0.70    166984\n",
      "\n",
      "    accuracy                           0.62    306417\n",
      "   macro avg       0.63      0.60      0.59    306417\n",
      "weighted avg       0.63      0.62      0.60    306417\n",
      "\n"
     ]
    },
    {
     "name": "stdout",
     "output_type": "stream",
     "text": [
      "0.8249233459493125 0.6142242436403362 0.7041500425560193\n"
     ]
    },
    {
     "name": "stdout",
     "output_type": "stream",
     "text": [
      "LPS_0.100_ug_per_ml_DMSO_0.025_%__Thapsigargin_1.000_uM_DMSO_0.025_%\n",
      "LPS vs Thapsigargin__1.000\n"
     ]
    },
    {
     "name": "stdout",
     "output_type": "stream",
     "text": [
      "['LPS_0.100_ug_per_ml_DMSO_0.025_%', 'Thapsigargin_1.000_uM_DMSO_0.025_%']\n",
      "[0, 1]\n"
     ]
    },
    {
     "name": "stdout",
     "output_type": "stream",
     "text": [
      "Number of in features:  1245\n",
      "Number of out features:  2\n",
      "DMSO_0.025_vs_Thapsigargin_1\n"
     ]
    },
    {
     "name": "stdout",
     "output_type": "stream",
     "text": [
      "              precision    recall  f1-score   support\n",
      "\n",
      "           0       0.67      0.46      0.55    138597\n",
      "           1       0.61      0.79      0.69    148456\n",
      "\n",
      "    accuracy                           0.63    287053\n",
      "   macro avg       0.64      0.63      0.62    287053\n",
      "weighted avg       0.64      0.63      0.62    287053\n",
      "\n"
     ]
    },
    {
     "name": "stdout",
     "output_type": "stream",
     "text": [
      "0.7926456323759228 0.6104511215787181 0.6897192427173086\n"
     ]
    },
    {
     "name": "stdout",
     "output_type": "stream",
     "text": [
      "LPS_0.100_ug_per_ml_DMSO_0.025_%__Thapsigargin_10.000_uM_DMSO_0.025_%\n",
      "LPS vs Thapsigargin__10.000\n"
     ]
    },
    {
     "name": "stdout",
     "output_type": "stream",
     "text": [
      "['LPS_0.100_ug_per_ml_DMSO_0.025_%', 'Thapsigargin_10.000_uM_DMSO_0.025_%']\n",
      "[0, 1]\n"
     ]
    },
    {
     "name": "stdout",
     "output_type": "stream",
     "text": [
      "Number of in features:  1245\n",
      "Number of out features:  2\n",
      "DMSO_0.025_vs_Thapsigargin_1\n"
     ]
    },
    {
     "name": "stdout",
     "output_type": "stream",
     "text": [
      "              precision    recall  f1-score   support\n",
      "\n",
      "           0       0.68      0.46      0.55    138597\n",
      "           1       0.65      0.82      0.73    166984\n",
      "\n",
      "    accuracy                           0.66    305581\n",
      "   macro avg       0.67      0.64      0.64    305581\n",
      "weighted avg       0.66      0.66      0.65    305581\n",
      "\n"
     ]
    },
    {
     "name": "stdout",
     "output_type": "stream",
     "text": [
      "0.8249233459493125 0.6471950761135125 0.7253306794725978\n"
     ]
    },
    {
     "name": "stdout",
     "output_type": "stream",
     "text": [
      "LPS_0.010_ug_per_ml_DMSO_0.025_%__Thapsigargin_1.000_uM_DMSO_0.025_%\n",
      "LPS vs Thapsigargin__1.000\n"
     ]
    },
    {
     "name": "stdout",
     "output_type": "stream",
     "text": [
      "['LPS_0.010_ug_per_ml_DMSO_0.025_%', 'Thapsigargin_1.000_uM_DMSO_0.025_%']\n",
      "[0, 1]\n"
     ]
    },
    {
     "name": "stdout",
     "output_type": "stream",
     "text": [
      "Number of in features:  1245\n",
      "Number of out features:  2\n",
      "DMSO_0.025_vs_Thapsigargin_1\n"
     ]
    },
    {
     "name": "stdout",
     "output_type": "stream",
     "text": [
      "              precision    recall  f1-score   support\n",
      "\n",
      "           0       0.72      0.56      0.63    143080\n",
      "           1       0.65      0.79      0.72    148456\n",
      "\n",
      "    accuracy                           0.68    291536\n",
      "   macro avg       0.69      0.68      0.67    291536\n",
      "weighted avg       0.69      0.68      0.67    291536\n",
      "\n"
     ]
    },
    {
     "name": "stdout",
     "output_type": "stream",
     "text": [
      "0.7926456323759228 0.6512748988548879 0.7150396339518194\n"
     ]
    },
    {
     "name": "stdout",
     "output_type": "stream",
     "text": [
      "LPS_0.010_ug_per_ml_DMSO_0.025_%__Thapsigargin_10.000_uM_DMSO_0.025_%\n",
      "LPS vs Thapsigargin__10.000\n"
     ]
    },
    {
     "name": "stdout",
     "output_type": "stream",
     "text": [
      "['LPS_0.010_ug_per_ml_DMSO_0.025_%', 'Thapsigargin_10.000_uM_DMSO_0.025_%']\n",
      "[0, 1]\n"
     ]
    },
    {
     "name": "stdout",
     "output_type": "stream",
     "text": [
      "Number of in features:  1245\n",
      "Number of out features:  2\n",
      "DMSO_0.025_vs_Thapsigargin_1\n"
     ]
    },
    {
     "name": "stdout",
     "output_type": "stream",
     "text": [
      "              precision    recall  f1-score   support\n",
      "\n",
      "           0       0.73      0.56      0.63    143080\n",
      "           1       0.69      0.82      0.75    166984\n",
      "\n",
      "    accuracy                           0.70    310064\n",
      "   macro avg       0.71      0.69      0.69    310064\n",
      "weighted avg       0.71      0.70      0.70    310064\n",
      "\n"
     ]
    },
    {
     "name": "stdout",
     "output_type": "stream",
     "text": [
      "0.8249233459493125 0.6861479300846297 0.7491631338360423\n"
     ]
    }
   ],
   "source": [
    "for i in paired_treatment_list:\n",
    "    # filter df to only include the two treatments to test\n",
    "    test_df = df.query(\n",
    "        f\"oneb_Metadata_Treatment_Dose_Inhibitor_Dose == '{i[0]}' | oneb_Metadata_Treatment_Dose_Inhibitor_Dose == '{i[1]}'\"\n",
    "    )\n",
    "    output_name = (\"__\").join(\n",
    "        test_df[\"oneb_Metadata_Treatment_Dose_Inhibitor_Dose\"].unique()\n",
    "    )\n",
    "\n",
    "    print(output_name)\n",
    "\n",
    "    title = f'{output_name.split(\"__\")[0].split(\"_\")[0]} vs {(\"__\").join(output_name.split(\"__\")[1].split(\"_\")[:2])}'\n",
    "    print(title)\n",
    "    (\n",
    "        stats,\n",
    "        recall,\n",
    "        precision,\n",
    "        f1,\n",
    "        precision_,\n",
    "        recall_,\n",
    "        threshold_,\n",
    "        dict_of_treatments,\n",
    "    ) = test_loop(test_df, output_name, title)\n",
    "    print(recall, precision, f1)\n",
    "\n",
    "    threshold_ = np.append(threshold_, None)\n",
    "    stats_df = pd.DataFrame(\n",
    "        {\n",
    "            \"PR_Threshold\": threshold_,\n",
    "            \"Precision\": precision_,\n",
    "            \"Recall\": recall_,\n",
    "        }\n",
    "    )\n",
    "\n",
    "    stats_df[\"treatments_tested\"] = \"0 vs 1\"\n",
    "    # make it so that the second treatment is always the one that is being tested as the positive label\n",
    "    stats_df[\"treatments_tested\"] = stats_df[\"treatments_tested\"].replace(\n",
    "        \"0 vs 1\", f\"{dict_of_treatments[0]} vs {dict_of_treatments[1]}\"\n",
    "    )\n",
    "    stats_df[\"model\"] = mlp_params.MODEL_NAME\n",
    "    stats_df[\"group\"] = \"test\"\n",
    "    stats_df[\"shuffled_data\"] = mlp_params.SHUFFLE\n",
    "    stats_df\n",
    "    model_stats_df = pd.concat([model_stats_df, stats_df], axis=0)"
   ]
  },
  {
   "cell_type": "code",
   "execution_count": 10,
   "id": "eb39bde7",
   "metadata": {
    "execution": {
     "iopub.execute_input": "2023-10-31T08:20:35.459632Z",
     "iopub.status.busy": "2023-10-31T08:20:35.459133Z",
     "iopub.status.idle": "2023-10-31T08:20:35.468949Z",
     "shell.execute_reply": "2023-10-31T08:20:35.468413Z"
    },
    "papermill": {
     "duration": 0.019498,
     "end_time": "2023-10-31T08:20:35.470375",
     "exception": false,
     "start_time": "2023-10-31T08:20:35.450877",
     "status": "completed"
    },
    "tags": []
   },
   "outputs": [
    {
     "data": {
      "text/html": [
       "<div>\n",
       "<style scoped>\n",
       "    .dataframe tbody tr th:only-of-type {\n",
       "        vertical-align: middle;\n",
       "    }\n",
       "\n",
       "    .dataframe tbody tr th {\n",
       "        vertical-align: top;\n",
       "    }\n",
       "\n",
       "    .dataframe thead th {\n",
       "        text-align: right;\n",
       "    }\n",
       "</style>\n",
       "<table border=\"1\" class=\"dataframe\">\n",
       "  <thead>\n",
       "    <tr style=\"text-align: right;\">\n",
       "      <th></th>\n",
       "      <th>treatments_tested</th>\n",
       "      <th>model</th>\n",
       "      <th>group</th>\n",
       "      <th>shuffled_data</th>\n",
       "      <th>PR_Threshold</th>\n",
       "      <th>Precision</th>\n",
       "      <th>Recall</th>\n",
       "    </tr>\n",
       "  </thead>\n",
       "  <tbody>\n",
       "    <tr>\n",
       "      <th>0</th>\n",
       "      <td>DMSO_0.100_%_DMSO_0.025_% vs LPS_100.000_ug_pe...</td>\n",
       "      <td>DMSO_0.025_vs_Thapsigargin_1</td>\n",
       "      <td>test</td>\n",
       "      <td>False</td>\n",
       "      <td>0.0</td>\n",
       "      <td>0.425654</td>\n",
       "      <td>1.000000</td>\n",
       "    </tr>\n",
       "    <tr>\n",
       "      <th>1</th>\n",
       "      <td>DMSO_0.100_%_DMSO_0.025_% vs LPS_100.000_ug_pe...</td>\n",
       "      <td>DMSO_0.025_vs_Thapsigargin_1</td>\n",
       "      <td>test</td>\n",
       "      <td>False</td>\n",
       "      <td>0.0</td>\n",
       "      <td>0.425657</td>\n",
       "      <td>0.999912</td>\n",
       "    </tr>\n",
       "    <tr>\n",
       "      <th>2</th>\n",
       "      <td>DMSO_0.100_%_DMSO_0.025_% vs LPS_100.000_ug_pe...</td>\n",
       "      <td>DMSO_0.025_vs_Thapsigargin_1</td>\n",
       "      <td>test</td>\n",
       "      <td>False</td>\n",
       "      <td>0.0</td>\n",
       "      <td>0.425656</td>\n",
       "      <td>0.999906</td>\n",
       "    </tr>\n",
       "    <tr>\n",
       "      <th>3</th>\n",
       "      <td>DMSO_0.100_%_DMSO_0.025_% vs LPS_100.000_ug_pe...</td>\n",
       "      <td>DMSO_0.025_vs_Thapsigargin_1</td>\n",
       "      <td>test</td>\n",
       "      <td>False</td>\n",
       "      <td>0.0</td>\n",
       "      <td>0.425657</td>\n",
       "      <td>0.999906</td>\n",
       "    </tr>\n",
       "    <tr>\n",
       "      <th>4</th>\n",
       "      <td>DMSO_0.100_%_DMSO_0.025_% vs LPS_100.000_ug_pe...</td>\n",
       "      <td>DMSO_0.025_vs_Thapsigargin_1</td>\n",
       "      <td>test</td>\n",
       "      <td>False</td>\n",
       "      <td>0.0</td>\n",
       "      <td>0.425658</td>\n",
       "      <td>0.999906</td>\n",
       "    </tr>\n",
       "    <tr>\n",
       "      <th>...</th>\n",
       "      <td>...</td>\n",
       "      <td>...</td>\n",
       "      <td>...</td>\n",
       "      <td>...</td>\n",
       "      <td>...</td>\n",
       "      <td>...</td>\n",
       "      <td>...</td>\n",
       "    </tr>\n",
       "    <tr>\n",
       "      <th>269669</th>\n",
       "      <td>LPS_0.010_ug_per_ml_DMSO_0.025_% vs Thapsigarg...</td>\n",
       "      <td>DMSO_0.025_vs_Thapsigargin_1</td>\n",
       "      <td>test</td>\n",
       "      <td>False</td>\n",
       "      <td>0.999999</td>\n",
       "      <td>0.700000</td>\n",
       "      <td>0.000084</td>\n",
       "    </tr>\n",
       "    <tr>\n",
       "      <th>269670</th>\n",
       "      <td>LPS_0.010_ug_per_ml_DMSO_0.025_% vs Thapsigarg...</td>\n",
       "      <td>DMSO_0.025_vs_Thapsigargin_1</td>\n",
       "      <td>test</td>\n",
       "      <td>False</td>\n",
       "      <td>1.0</td>\n",
       "      <td>0.777778</td>\n",
       "      <td>0.000084</td>\n",
       "    </tr>\n",
       "    <tr>\n",
       "      <th>269671</th>\n",
       "      <td>LPS_0.010_ug_per_ml_DMSO_0.025_% vs Thapsigarg...</td>\n",
       "      <td>DMSO_0.025_vs_Thapsigargin_1</td>\n",
       "      <td>test</td>\n",
       "      <td>False</td>\n",
       "      <td>1.0</td>\n",
       "      <td>0.764706</td>\n",
       "      <td>0.000078</td>\n",
       "    </tr>\n",
       "    <tr>\n",
       "      <th>269672</th>\n",
       "      <td>LPS_0.010_ug_per_ml_DMSO_0.025_% vs Thapsigarg...</td>\n",
       "      <td>DMSO_0.025_vs_Thapsigargin_1</td>\n",
       "      <td>test</td>\n",
       "      <td>False</td>\n",
       "      <td>1.0</td>\n",
       "      <td>0.769231</td>\n",
       "      <td>0.000060</td>\n",
       "    </tr>\n",
       "    <tr>\n",
       "      <th>269673</th>\n",
       "      <td>LPS_0.010_ug_per_ml_DMSO_0.025_% vs Thapsigarg...</td>\n",
       "      <td>DMSO_0.025_vs_Thapsigargin_1</td>\n",
       "      <td>test</td>\n",
       "      <td>False</td>\n",
       "      <td>None</td>\n",
       "      <td>1.000000</td>\n",
       "      <td>0.000000</td>\n",
       "    </tr>\n",
       "  </tbody>\n",
       "</table>\n",
       "<p>8859610 rows × 7 columns</p>\n",
       "</div>"
      ],
      "text/plain": [
       "                                        treatments_tested  \\\n",
       "0       DMSO_0.100_%_DMSO_0.025_% vs LPS_100.000_ug_pe...   \n",
       "1       DMSO_0.100_%_DMSO_0.025_% vs LPS_100.000_ug_pe...   \n",
       "2       DMSO_0.100_%_DMSO_0.025_% vs LPS_100.000_ug_pe...   \n",
       "3       DMSO_0.100_%_DMSO_0.025_% vs LPS_100.000_ug_pe...   \n",
       "4       DMSO_0.100_%_DMSO_0.025_% vs LPS_100.000_ug_pe...   \n",
       "...                                                   ...   \n",
       "269669  LPS_0.010_ug_per_ml_DMSO_0.025_% vs Thapsigarg...   \n",
       "269670  LPS_0.010_ug_per_ml_DMSO_0.025_% vs Thapsigarg...   \n",
       "269671  LPS_0.010_ug_per_ml_DMSO_0.025_% vs Thapsigarg...   \n",
       "269672  LPS_0.010_ug_per_ml_DMSO_0.025_% vs Thapsigarg...   \n",
       "269673  LPS_0.010_ug_per_ml_DMSO_0.025_% vs Thapsigarg...   \n",
       "\n",
       "                               model group shuffled_data PR_Threshold  \\\n",
       "0       DMSO_0.025_vs_Thapsigargin_1  test         False          0.0   \n",
       "1       DMSO_0.025_vs_Thapsigargin_1  test         False          0.0   \n",
       "2       DMSO_0.025_vs_Thapsigargin_1  test         False          0.0   \n",
       "3       DMSO_0.025_vs_Thapsigargin_1  test         False          0.0   \n",
       "4       DMSO_0.025_vs_Thapsigargin_1  test         False          0.0   \n",
       "...                              ...   ...           ...          ...   \n",
       "269669  DMSO_0.025_vs_Thapsigargin_1  test         False     0.999999   \n",
       "269670  DMSO_0.025_vs_Thapsigargin_1  test         False          1.0   \n",
       "269671  DMSO_0.025_vs_Thapsigargin_1  test         False          1.0   \n",
       "269672  DMSO_0.025_vs_Thapsigargin_1  test         False          1.0   \n",
       "269673  DMSO_0.025_vs_Thapsigargin_1  test         False         None   \n",
       "\n",
       "        Precision    Recall  \n",
       "0        0.425654  1.000000  \n",
       "1        0.425657  0.999912  \n",
       "2        0.425656  0.999906  \n",
       "3        0.425657  0.999906  \n",
       "4        0.425658  0.999906  \n",
       "...           ...       ...  \n",
       "269669   0.700000  0.000084  \n",
       "269670   0.777778  0.000084  \n",
       "269671   0.764706  0.000078  \n",
       "269672   0.769231  0.000060  \n",
       "269673   1.000000  0.000000  \n",
       "\n",
       "[8859610 rows x 7 columns]"
      ]
     },
     "execution_count": 10,
     "metadata": {},
     "output_type": "execute_result"
    }
   ],
   "source": [
    "model_stats_df"
   ]
  },
  {
   "cell_type": "code",
   "execution_count": 11,
   "id": "380dd6b8",
   "metadata": {
    "execution": {
     "iopub.execute_input": "2023-10-31T08:20:35.487214Z",
     "iopub.status.busy": "2023-10-31T08:20:35.486726Z",
     "iopub.status.idle": "2023-10-31T08:20:52.241200Z",
     "shell.execute_reply": "2023-10-31T08:20:52.240544Z"
    },
    "papermill": {
     "duration": 16.764335,
     "end_time": "2023-10-31T08:20:52.242988",
     "exception": false,
     "start_time": "2023-10-31T08:20:35.478653",
     "status": "completed"
    },
    "tags": []
   },
   "outputs": [],
   "source": [
    "# set path for the model training metrics\n",
    "metrics_path = pathlib.Path(\n",
    "    f\"../../results/{mlp_params.MODEL_TYPE}/{mlp_params.MODEL_NAME}/{mlp_params.CELL_TYPE}\"\n",
    ")\n",
    "metrics_path.mkdir(parents=True, exist_ok=True)\n",
    "# check if the model training metrics file exists\n",
    "metrics_file = pathlib.Path(f\"{metrics_path}/testing_metrics.csv\")\n",
    "if metrics_file.exists():\n",
    "    metrics_df = pd.read_csv(metrics_file)\n",
    "    if len(metrics_df[\"shuffled_data\"].unique()) > 1:\n",
    "        pass\n",
    "    elif metrics_df[\"shuffled_data\"].unique() == mlp_params.SHUFFLE:\n",
    "        pass\n",
    "    else:\n",
    "        metrics_df = pd.concat([metrics_df, model_stats_df], axis=0)\n",
    "        metrics_df.to_csv(metrics_file, index=False)\n",
    "else:\n",
    "    model_stats_df.to_csv(metrics_file, index=False)"
   ]
  }
 ],
 "metadata": {
  "jupytext": {
   "formats": "ipynb,py"
  },
  "kernelspec": {
   "display_name": "Interstellar",
   "language": "python",
   "name": "python3"
  },
  "language_info": {
   "codemirror_mode": {
    "name": "ipython",
    "version": 3
   },
   "file_extension": ".py",
   "mimetype": "text/x-python",
   "name": "python",
   "nbconvert_exporter": "python",
   "pygments_lexer": "ipython3",
   "version": "3.10.12"
  },
  "papermill": {
   "default_parameters": {},
   "duration": 1292.123951,
   "end_time": "2023-10-31T08:20:53.275789",
   "environment_variables": {},
   "exception": null,
   "input_path": "binary_classification_testing.ipynb",
   "output_path": "binary_classification_testing.ipynb",
   "parameters": {
    "CELL_TYPE": "PBMC",
    "CONTROL_NAME": "DMSO_0.100_%_DMSO_0.025_%",
    "MODEL_NAME": "DMSO_0.025_vs_Thapsigargin_1",
    "SHUFFLE": false,
    "SHUFFLE_DATA": false,
    "TREATMENT_NAME": "Thapsigargin_1.000_uM_DMSO_0.025_%"
   },
   "start_time": "2023-10-31T07:59:21.151838",
   "version": "2.4.0"
  },
  "vscode": {
   "interpreter": {
    "hash": "72ae02083a9ca7d143c492d1aec380c7bf553ec51bd66e90e72bba65228121b6"
   }
  }
 },
 "nbformat": 4,
 "nbformat_minor": 5
}