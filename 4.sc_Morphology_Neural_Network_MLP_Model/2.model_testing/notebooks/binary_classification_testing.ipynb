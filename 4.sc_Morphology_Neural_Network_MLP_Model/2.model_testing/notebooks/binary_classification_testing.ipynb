{
 "cells": [
  {
   "cell_type": "code",
   "execution_count": 1,
   "id": "e5d22684",
   "metadata": {
    "execution": {
     "iopub.execute_input": "2023-08-20T02:37:13.254493Z",
     "iopub.status.busy": "2023-08-20T02:37:13.254127Z",
     "iopub.status.idle": "2023-08-20T02:37:17.004698Z",
     "shell.execute_reply": "2023-08-20T02:37:17.004161Z"
    },
    "papermill": {
     "duration": 3.757395,
     "end_time": "2023-08-20T02:37:17.006415",
     "exception": false,
     "start_time": "2023-08-20T02:37:13.249020",
     "status": "completed"
    },
    "tags": []
   },
   "outputs": [],
   "source": [
    "import pathlib\n",
    "import sys\n",
    "\n",
    "import numpy as np\n",
    "import pandas as pd\n",
    "import pyarrow.parquet as pq\n",
    "import toml\n",
    "import torch\n",
    "from sklearn import preprocessing\n",
    "\n",
    "sys.path.append(\"../..\")\n",
    "from MLP_utils.parameters import Parameters\n",
    "from MLP_utils.utils import (\n",
    "    Dataset_formatter,\n",
    "    optimized_model_create,\n",
    "    output_stats,\n",
    "    parameter_set,\n",
    "    results_output,\n",
    "    test_optimized_model,\n",
    "    un_nest,\n",
    ")\n",
    "from sklearn.metrics import (\n",
    "    accuracy_score,\n",
    "    auc,\n",
    "    confusion_matrix,\n",
    "    f1_score,\n",
    "    precision_score,\n",
    "    recall_score,\n",
    "    roc_auc_score,\n",
    "    roc_curve,\n",
    ")\n",
    "\n",
    "sys.path.append(\"../../..\")"
   ]
  },
  {
   "cell_type": "code",
   "execution_count": 2,
   "id": "914cc7c5",
   "metadata": {
    "execution": {
     "iopub.execute_input": "2023-08-20T02:37:17.017071Z",
     "iopub.status.busy": "2023-08-20T02:37:17.016570Z",
     "iopub.status.idle": "2023-08-20T02:37:17.019504Z",
     "shell.execute_reply": "2023-08-20T02:37:17.019097Z"
    },
    "papermill": {
     "duration": 0.006808,
     "end_time": "2023-08-20T02:37:17.020385",
     "exception": false,
     "start_time": "2023-08-20T02:37:17.013577",
     "status": "completed"
    },
    "tags": [
     "injected-parameters"
    ]
   },
   "outputs": [],
   "source": [
    "# Parameters\n",
    "SHUFFLE_DATA = False\n",
    "CELL_TYPE = \"PBMC\"\n",
    "CONTROL_NAME = \"DMSO_0.100_DMSO_0.025\"\n",
    "TREATMENT_NAME = \"Thapsigargin_1.000_DMSO_0.025\"\n",
    "MODEL_NAME = \"DMSO_0.025_vs_Thapsigargin_1\"\n",
    "SHUFFLE = False"
   ]
  },
  {
   "cell_type": "code",
   "execution_count": 3,
   "id": "c55e810d",
   "metadata": {
    "execution": {
     "iopub.execute_input": "2023-08-20T02:37:17.025505Z",
     "iopub.status.busy": "2023-08-20T02:37:17.025099Z",
     "iopub.status.idle": "2023-08-20T02:37:17.029238Z",
     "shell.execute_reply": "2023-08-20T02:37:17.028834Z"
    },
    "papermill": {
     "duration": 0.007664,
     "end_time": "2023-08-20T02:37:17.030110",
     "exception": false,
     "start_time": "2023-08-20T02:37:17.022446",
     "status": "completed"
    },
    "tags": []
   },
   "outputs": [],
   "source": [
    "ml_configs_file = pathlib.Path(\"../../MLP_utils/binary_config.toml\").resolve(\n",
    "    strict=True\n",
    ")\n",
    "ml_configs = toml.load(ml_configs_file)\n",
    "params = Parameters()\n",
    "mlp_params = parameter_set(params, ml_configs)\n",
    "\n",
    "# overwrite mlp_params via command line arguments from papermill\n",
    "mlp_params.CELL_TYPE = CELL_TYPE\n",
    "mlp_params.MODEL_NAME = MODEL_NAME\n",
    "mlp_params.CONTROL_NAME = CONTROL_NAME\n",
    "mlp_params.TREATMENT_NAME = TREATMENT_NAME\n",
    "mlp_params.MODEL_NAME = MODEL_NAME\n",
    "mlp_params.SHUFFLE = SHUFFLE"
   ]
  },
  {
   "cell_type": "code",
   "execution_count": 4,
   "id": "eed3021f",
   "metadata": {
    "execution": {
     "iopub.execute_input": "2023-08-20T02:37:17.034973Z",
     "iopub.status.busy": "2023-08-20T02:37:17.034612Z",
     "iopub.status.idle": "2023-08-20T02:38:17.313890Z",
     "shell.execute_reply": "2023-08-20T02:38:17.313300Z"
    },
    "papermill": {
     "duration": 60.283394,
     "end_time": "2023-08-20T02:38:17.315507",
     "exception": false,
     "start_time": "2023-08-20T02:37:17.032113",
     "status": "completed"
    },
    "tags": []
   },
   "outputs": [],
   "source": [
    "# Import Data\n",
    "# set data file path under pathlib path for multi-system use\n",
    "file_path = pathlib.Path(\n",
    "    f\"../../../data/{mlp_params.CELL_TYPE}_preprocessed_sc_norm.parquet\"\n",
    ").resolve(strict=True)\n",
    "\n",
    "df = pq.read_table(file_path).to_pandas()"
   ]
  },
  {
   "cell_type": "code",
   "execution_count": 5,
   "id": "bfe1e780",
   "metadata": {
    "execution": {
     "iopub.execute_input": "2023-08-20T02:38:17.337218Z",
     "iopub.status.busy": "2023-08-20T02:38:17.336843Z",
     "iopub.status.idle": "2023-08-20T02:38:17.345463Z",
     "shell.execute_reply": "2023-08-20T02:38:17.345067Z"
    },
    "papermill": {
     "duration": 0.012831,
     "end_time": "2023-08-20T02:38:17.346375",
     "exception": false,
     "start_time": "2023-08-20T02:38:17.333544",
     "status": "completed"
    },
    "tags": []
   },
   "outputs": [],
   "source": [
    "def test_loop(df, output_name, title):\n",
    "    # Code snippet for metadata extraction by Jenna Tomkinson\n",
    "    df_metadata = list(df.columns[df.columns.str.startswith(\"Metadata\")])\n",
    "\n",
    "    # define which columns are data and which are descriptive\n",
    "    df_descriptive = df[df_metadata]\n",
    "    df_values = df.drop(columns=df_metadata)\n",
    "    # Creating label encoder\n",
    "    le = preprocessing.LabelEncoder()\n",
    "    # Converting strings into numbers\n",
    "    print(df_values[\"oneb_Metadata_Treatment_Dose_Inhibitor_Dose\"].unique().tolist())\n",
    "    lst_of_treatments = (\n",
    "        df_values[\"oneb_Metadata_Treatment_Dose_Inhibitor_Dose\"].unique().tolist()\n",
    "    )\n",
    "\n",
    "    df_values[\"oneb_Metadata_Treatment_Dose_Inhibitor_Dose\"] = le.fit_transform(\n",
    "        df_values[\"oneb_Metadata_Treatment_Dose_Inhibitor_Dose\"]\n",
    "    )\n",
    "    print(df_values[\"oneb_Metadata_Treatment_Dose_Inhibitor_Dose\"].unique().tolist())\n",
    "    lst_of_coded_treatments = (\n",
    "        df_values[\"oneb_Metadata_Treatment_Dose_Inhibitor_Dose\"].unique().tolist()\n",
    "    )\n",
    "    # make a dictionary of the treatments and their corresponding codes to decode later\n",
    "    dict_of_treatments = {}\n",
    "    for i, j in zip(\n",
    "        lst_of_coded_treatments,\n",
    "        lst_of_treatments,\n",
    "    ):\n",
    "        dict_of_treatments[i] = j\n",
    "    # split into X and Y where Y are the predictive column and x are the observable data\n",
    "    df_values_X = df_values.drop(\n",
    "        [\n",
    "            \"oneb_Metadata_Treatment_Dose_Inhibitor_Dose\",\n",
    "            \"twob_Metadata_Treatment_Dose_Inhibitor_Dose\",\n",
    "            \"threeb_Metadata_Treatment_Dose_Inhibitor_Dose\",\n",
    "            \"fourb_Metadata_Treatment_Dose_Inhibitor_Dose\",\n",
    "        ],\n",
    "        axis=1,\n",
    "    )\n",
    "    df_values_Y = df_values[\"oneb_Metadata_Treatment_Dose_Inhibitor_Dose\"]\n",
    "    test_data = Dataset_formatter(\n",
    "        torch.FloatTensor(df_values_X.values), torch.FloatTensor(df_values_Y.values)\n",
    "    )\n",
    "\n",
    "    mlp_params.IN_FEATURES = df_values_X.shape[1]\n",
    "    print(\"Number of in features: \", mlp_params.IN_FEATURES)\n",
    "    if mlp_params.MODEL_TYPE == \"Regression\":\n",
    "        mlp_params.OUT_FEATURES = 1\n",
    "    else:\n",
    "        mlp_params.OUT_FEATURES = len(\n",
    "            df_values[\"oneb_Metadata_Treatment_Dose_Inhibitor_Dose\"].unique()\n",
    "        )\n",
    "\n",
    "    print(\"Number of out features: \", mlp_params.OUT_FEATURES)\n",
    "\n",
    "    if mlp_params.OUT_FEATURES > 2:\n",
    "        mlp_params.MODEL_TYPE = \"Multi_Class\"\n",
    "    elif mlp_params.OUT_FEATURES == 2:\n",
    "        mlp_params.OUT_FEATURES = mlp_params.OUT_FEATURES - 1\n",
    "        mlp_params.MODEL_TYPE = \"Binary_Classification\"\n",
    "    elif mlp_params.OUT_FEATURES == 1:\n",
    "        mlp_params.MODEL_TYPE = \"Regression\"\n",
    "    else:\n",
    "        pass\n",
    "    # convert data class into a dataloader to be compatible with pytorch\n",
    "    test_loader = torch.utils.data.DataLoader(\n",
    "        dataset=test_data, batch_size=1, shuffle=mlp_params.SHUFFLE\n",
    "    )\n",
    "    model, _ = optimized_model_create(mlp_params, mlp_params.MODEL_NAME)\n",
    "    # calling the testing function and outputting list values of tested model\n",
    "    if mlp_params.MODEL_TYPE == \"Multi_Class\" or mlp_params.MODEL_TYPE == \"Regression\":\n",
    "        y_pred_list = test_optimized_model(\n",
    "            model,\n",
    "            test_loader,\n",
    "            mlp_params,\n",
    "            model_name=mlp_params.MODEL_NAME,\n",
    "            shuffle=mlp_params.SHUFFLE,\n",
    "        )\n",
    "    elif mlp_params.MODEL_TYPE == \"Binary_Classification\":\n",
    "        y_pred_list, y_pred_prob_list = test_optimized_model(\n",
    "            model,\n",
    "            test_loader,\n",
    "            mlp_params,\n",
    "            model_name=mlp_params.MODEL_NAME,\n",
    "            shuffle=mlp_params.SHUFFLE,\n",
    "        )\n",
    "    else:\n",
    "        raise Exception(\"Model type must be specified for proper model testing\")\n",
    "\n",
    "    # un-nest list if nested i.e. length of input data does not match length of output data\n",
    "    if len(y_pred_list) != len(df_values_Y):\n",
    "        y_pred_list = un_nest(y_pred_list)\n",
    "        y_pred_prob_list = un_nest(y_pred_prob_list)\n",
    "    else:\n",
    "        pass\n",
    "\n",
    "    stats, recall, precision, f1, precision_, recall_, threshold_ = output_stats(\n",
    "        y_pred_list,\n",
    "        df_values_Y,\n",
    "        mlp_params,\n",
    "        y_pred_prob_list,\n",
    "        test_name=f\"{output_name}_all_testing\",\n",
    "        model_name=mlp_params.MODEL_NAME,\n",
    "        title=title,\n",
    "        shuffle=mlp_params.SHUFFLE,\n",
    "    )\n",
    "    return (\n",
    "        stats,\n",
    "        recall,\n",
    "        precision,\n",
    "        f1,\n",
    "        precision_,\n",
    "        recall_,\n",
    "        threshold_,\n",
    "        dict_of_treatments,\n",
    "    )"
   ]
  },
  {
   "cell_type": "code",
   "execution_count": 6,
   "id": "42485ec2",
   "metadata": {
    "execution": {
     "iopub.execute_input": "2023-08-20T02:38:17.351891Z",
     "iopub.status.busy": "2023-08-20T02:38:17.351210Z",
     "iopub.status.idle": "2023-08-20T02:38:17.628248Z",
     "shell.execute_reply": "2023-08-20T02:38:17.627749Z"
    },
    "papermill": {
     "duration": 0.280768,
     "end_time": "2023-08-20T02:38:17.629230",
     "exception": false,
     "start_time": "2023-08-20T02:38:17.348462",
     "status": "completed"
    },
    "tags": []
   },
   "outputs": [
    {
     "name": "stdout",
     "output_type": "stream",
     "text": [
      "['LPS_0.010_DMSO_0.025', 'LPS_0.100_DMSO_0.025', 'LPS_Nigericin_100.000_1.0_DMSO_0.025', 'LPS_Nigericin_100.000_3.0_DMSO_0.025', 'DMSO_0.100_DMSO_0.025', 'media_ctr_0_Media_ctr_0.0', 'DMSO_0.100_DMSO_1.0', 'LPS_1.000_DMSO_0.025', 'LPS_10.000_DMSO_0.025', 'LPS_Nigericin_100.000_10.0_DMSO_0.025', 'Disulfiram_0.100_DMSO_0.025', 'Thapsigargin_1.000_DMSO_0.025', 'Thapsigargin_10.000_DMSO_0.025', 'DMSO_0.100_Z-VAD-FMK_100.0', 'DMSO_0.100_Z-VAD-FMK_30.0', 'LPS_10.000_Disulfiram_0.1', 'LPS_10.000_Disulfiram_1.0', 'Disulfiram_1.000_DMSO_0.025', 'Disulfiram_2.5_DMSO_0.025', 'Disulfiram_2.500_DMSO_0.025', 'Topotecan_5.000_DMSO_0.025', 'Topotecan_10.000_DMSO_0.025', 'LPS_10.000_Disulfiram_2.5', 'LPS_10.000_Z-VAD-FMK_100.0', 'H2O2_100.000_DMSO_0.025', 'Topotecan_20.000_DMSO_0.025', 'LPS_100.000_DMSO_0.025', 'LPS_Nigericin_1.000_1.0_DMSO_0.025', 'H2O2_100.000_Disulfiram_1.0', 'H2O2_100.000_Z-VAD-FMK_100.0', 'LPS_Nigericin_1.000_3.0_DMSO_0.025', 'LPS_Nigericin_1.000_10.0_DMSO_0.025', 'Flagellin_0.100_DMSO_0.00025', 'Flagellin_1.000_DMSO_0.00025', 'Flagellin_0.100_DMSO_0.025', 'Flagellin_1.000_DMSO_0.025', 'LPS_Nigericin_1.000_10.0_Disulfiram_1.0', 'LPS_Nigericin_1.000_10.0_Z-VAD-FMK_100.0', 'Flagellin_1.000_Disulfiram_1.0', 'media_ctr_0_Media_0.0']\n"
     ]
    }
   ],
   "source": [
    "print(df[\"oneb_Metadata_Treatment_Dose_Inhibitor_Dose\"].unique().tolist())"
   ]
  },
  {
   "cell_type": "code",
   "execution_count": 7,
   "id": "6d720af4",
   "metadata": {
    "execution": {
     "iopub.execute_input": "2023-08-20T02:38:17.634752Z",
     "iopub.status.busy": "2023-08-20T02:38:17.634461Z",
     "iopub.status.idle": "2023-08-20T02:38:17.638732Z",
     "shell.execute_reply": "2023-08-20T02:38:17.638312Z"
    },
    "papermill": {
     "duration": 0.007987,
     "end_time": "2023-08-20T02:38:17.639620",
     "exception": false,
     "start_time": "2023-08-20T02:38:17.631633",
     "status": "completed"
    },
    "tags": []
   },
   "outputs": [],
   "source": [
    "paired_treatment_list = [\n",
    "    [\"DMSO_0.100_DMSO_0.025\", \"LPS_100.000_DMSO_0.025\"],\n",
    "    [\"DMSO_0.100_DMSO_0.025\", \"Thapsigargin_1.000_DMSO_0.025\"],\n",
    "    [\"DMSO_0.100_DMSO_0.025\", \"Thapsigargin_10.000_DMSO_0.025\"],\n",
    "    [\"DMSO_0.100_DMSO_0.025\", \"LPS_0.100_DMSO_0.025\"],\n",
    "    [\"DMSO_0.100_DMSO_0.025\", \"LPS_1.000_DMSO_0.025\"],\n",
    "    [\"DMSO_0.100_DMSO_0.025\", \"LPS_10.000_DMSO_0.025\"],\n",
    "    [\"DMSO_0.100_DMSO_0.025\", \"LPS_100.000_DMSO_0.025\"],\n",
    "    [\"DMSO_0.100_DMSO_0.025\", \"Flagellin_0.100_DMSO_0.025\"],\n",
    "    [\"DMSO_0.100_DMSO_0.025\", \"Flagellin_1.000_DMSO_0.025\"],\n",
    "    [\"DMSO_0.100_DMSO_0.025\", \"Flagellin_1.000_Disulfiram_1.0\"],\n",
    "    [\"DMSO_0.100_DMSO_0.025\", \"LPS_Nigericin_100.000_1.0_DMSO_0.025\"],\n",
    "    [\"DMSO_0.100_DMSO_0.025\", \"LPS_Nigericin_100.000_3.0_DMSO_0.025\"],\n",
    "    [\"DMSO_0.100_DMSO_0.025\", \"LPS_Nigericin_100.000_10.0_DMSO_0.025\"],\n",
    "    [\"DMSO_0.100_DMSO_0.025\", \"LPS_Nigericin_1.000_1.0_DMSO_0.025\"],\n",
    "    [\"DMSO_0.100_DMSO_0.025\", \"LPS_Nigericin_1.000_3.0_DMSO_0.025\"],\n",
    "    [\"DMSO_0.100_DMSO_0.025\", \"LPS_Nigericin_1.000_10.0_DMSO_0.025\"],\n",
    "    [\"DMSO_0.100_DMSO_0.025\", \"H2O2_100.000_Z-VAD-FMK_100.0\"],\n",
    "    [\"DMSO_0.100_DMSO_0.025\", \"H2O2_100.000_DMSO_0.025\"],\n",
    "    [\"LPS_100.000_DMSO_0.025\", \"Thapsigargin_1.000_DMSO_0.025\"],\n",
    "    [\"LPS_100.000_DMSO_0.025\", \"Thapsigargin_10.000_DMSO_0.025\"],\n",
    "    [\"LPS_10.000_DMSO_0.025\", \"Thapsigargin_1.000_DMSO_0.025\"],\n",
    "    [\"LPS_10.000_DMSO_0.025\", \"Thapsigargin_10.000_DMSO_0.025\"],\n",
    "    [\"LPS_1.000_DMSO_0.025\", \"Thapsigargin_1.000_DMSO_0.025\"],\n",
    "    [\"LPS_1.000_DMSO_0.025\", \"Thapsigargin_10.000_DMSO_0.025\"],\n",
    "    [\"LPS_0.100_DMSO_0.025\", \"Thapsigargin_1.000_DMSO_0.025\"],\n",
    "    [\"LPS_0.100_DMSO_0.025\", \"Thapsigargin_10.000_DMSO_0.025\"],\n",
    "    [\"LPS_0.010_DMSO_0.025\", \"Thapsigargin_1.000_DMSO_0.025\"],\n",
    "    [\"LPS_0.010_DMSO_0.025\", \"Thapsigargin_10.000_DMSO_0.025\"],\n",
    "]"
   ]
  },
  {
   "cell_type": "code",
   "execution_count": 8,
   "id": "cc1c3ba3",
   "metadata": {
    "execution": {
     "iopub.execute_input": "2023-08-20T02:38:17.644569Z",
     "iopub.status.busy": "2023-08-20T02:38:17.644278Z",
     "iopub.status.idle": "2023-08-20T02:38:17.657930Z",
     "shell.execute_reply": "2023-08-20T02:38:17.657524Z"
    },
    "papermill": {
     "duration": 0.017233,
     "end_time": "2023-08-20T02:38:17.658923",
     "exception": false,
     "start_time": "2023-08-20T02:38:17.641690",
     "status": "completed"
    },
    "tags": []
   },
   "outputs": [
    {
     "data": {
      "text/html": [
       "<div>\n",
       "<style scoped>\n",
       "    .dataframe tbody tr th:only-of-type {\n",
       "        vertical-align: middle;\n",
       "    }\n",
       "\n",
       "    .dataframe tbody tr th {\n",
       "        vertical-align: top;\n",
       "    }\n",
       "\n",
       "    .dataframe thead th {\n",
       "        text-align: right;\n",
       "    }\n",
       "</style>\n",
       "<table border=\"1\" class=\"dataframe\">\n",
       "  <thead>\n",
       "    <tr style=\"text-align: right;\">\n",
       "      <th></th>\n",
       "      <th>treatments_tested</th>\n",
       "      <th>model</th>\n",
       "      <th>group</th>\n",
       "      <th>shuffled_data</th>\n",
       "      <th>PR_Threshold</th>\n",
       "      <th>Precision</th>\n",
       "      <th>Recall</th>\n",
       "    </tr>\n",
       "  </thead>\n",
       "  <tbody>\n",
       "  </tbody>\n",
       "</table>\n",
       "</div>"
      ],
      "text/plain": [
       "Empty DataFrame\n",
       "Columns: [treatments_tested, model, group, shuffled_data, PR_Threshold, Precision, Recall]\n",
       "Index: []"
      ]
     },
     "execution_count": 8,
     "metadata": {},
     "output_type": "execute_result"
    }
   ],
   "source": [
    "# create a dataframe to store the model stats\n",
    "model_stats_df = pd.DataFrame(\n",
    "    columns=[\n",
    "        \"treatments_tested\",\n",
    "        \"model\",\n",
    "        \"group\",\n",
    "        \"shuffled_data\",\n",
    "        \"PR_Threshold\",\n",
    "        \"Precision\",\n",
    "        \"Recall\",\n",
    "    ]\n",
    ")\n",
    "model_stats_df"
   ]
  },
  {
   "cell_type": "code",
   "execution_count": 9,
   "id": "f1b0c095",
   "metadata": {
    "execution": {
     "iopub.execute_input": "2023-08-20T02:38:17.664403Z",
     "iopub.status.busy": "2023-08-20T02:38:17.664006Z",
     "iopub.status.idle": "2023-08-20T02:58:07.243389Z",
     "shell.execute_reply": "2023-08-20T02:58:07.242719Z"
    },
    "papermill": {
     "duration": 1189.58362,
     "end_time": "2023-08-20T02:58:07.244848",
     "exception": false,
     "start_time": "2023-08-20T02:38:17.661228",
     "status": "completed"
    },
    "tags": []
   },
   "outputs": [
    {
     "name": "stdout",
     "output_type": "stream",
     "text": [
      "DMSO_0.100_DMSO_0.025__LPS_100.000_DMSO_0.025\n",
      "DMSO vs LPS__100.000\n"
     ]
    },
    {
     "name": "stdout",
     "output_type": "stream",
     "text": [
      "['DMSO_0.100_DMSO_0.025', 'LPS_100.000_DMSO_0.025']\n",
      "[0, 1]\n"
     ]
    },
    {
     "name": "stdout",
     "output_type": "stream",
     "text": [
      "Number of in features:  1245\n",
      "Number of out features:  2\n",
      "DMSO_0.025_vs_Thapsigargin_1\n"
     ]
    },
    {
     "name": "stdout",
     "output_type": "stream",
     "text": [
      "              precision    recall  f1-score   support\n",
      "\n",
      "           0       0.69      0.91      0.78    215130\n",
      "           1       0.79      0.44      0.57    159435\n",
      "\n",
      "    accuracy                           0.71    374565\n",
      "   macro avg       0.74      0.68      0.67    374565\n",
      "weighted avg       0.73      0.71      0.69    374565\n",
      "\n"
     ]
    },
    {
     "name": "stdout",
     "output_type": "stream",
     "text": [
      "0.439364004139618 0.7916864447006171 0.5651084838877527\n"
     ]
    },
    {
     "name": "stdout",
     "output_type": "stream",
     "text": [
      "DMSO_0.100_DMSO_0.025__Thapsigargin_1.000_DMSO_0.025\n",
      "DMSO vs Thapsigargin__1.000\n"
     ]
    },
    {
     "name": "stdout",
     "output_type": "stream",
     "text": [
      "['DMSO_0.100_DMSO_0.025', 'Thapsigargin_1.000_DMSO_0.025']\n",
      "[0, 1]\n"
     ]
    },
    {
     "name": "stdout",
     "output_type": "stream",
     "text": [
      "Number of in features:  1245\n",
      "Number of out features:  2\n",
      "DMSO_0.025_vs_Thapsigargin_1\n"
     ]
    },
    {
     "name": "stdout",
     "output_type": "stream",
     "text": [
      "              precision    recall  f1-score   support\n",
      "\n",
      "           0       0.87      0.91      0.89    215130\n",
      "           1       0.87      0.81      0.83    148456\n",
      "\n",
      "    accuracy                           0.87    363586\n",
      "   macro avg       0.87      0.86      0.86    363586\n",
      "weighted avg       0.87      0.87      0.87    363586\n",
      "\n"
     ]
    },
    {
     "name": "stdout",
     "output_type": "stream",
     "text": [
      "0.8054036212749905 0.8664338147377879 0.8348047686373078\n"
     ]
    },
    {
     "name": "stdout",
     "output_type": "stream",
     "text": [
      "DMSO_0.100_DMSO_0.025__Thapsigargin_10.000_DMSO_0.025\n",
      "DMSO vs Thapsigargin__10.000\n"
     ]
    },
    {
     "name": "stdout",
     "output_type": "stream",
     "text": [
      "['DMSO_0.100_DMSO_0.025', 'Thapsigargin_10.000_DMSO_0.025']\n",
      "[0, 1]\n"
     ]
    },
    {
     "name": "stdout",
     "output_type": "stream",
     "text": [
      "Number of in features:  1245\n",
      "Number of out features:  2\n",
      "DMSO_0.025_vs_Thapsigargin_1\n"
     ]
    },
    {
     "name": "stdout",
     "output_type": "stream",
     "text": [
      "              precision    recall  f1-score   support\n",
      "\n",
      "           0       0.86      0.91      0.89    215130\n",
      "           1       0.88      0.81      0.84    166984\n",
      "\n",
      "    accuracy                           0.87    382114\n",
      "   macro avg       0.87      0.86      0.87    382114\n",
      "weighted avg       0.87      0.87      0.87    382114\n",
      "\n"
     ]
    },
    {
     "name": "stdout",
     "output_type": "stream",
     "text": [
      "0.8115807502515211 0.8802751489090826 0.8445333507822408\n"
     ]
    },
    {
     "name": "stdout",
     "output_type": "stream",
     "text": [
      "LPS_0.100_DMSO_0.025__DMSO_0.100_DMSO_0.025\n",
      "LPS vs DMSO__0.100\n"
     ]
    },
    {
     "name": "stdout",
     "output_type": "stream",
     "text": [
      "['LPS_0.100_DMSO_0.025', 'DMSO_0.100_DMSO_0.025']\n",
      "[1, 0]\n"
     ]
    },
    {
     "name": "stdout",
     "output_type": "stream",
     "text": [
      "Number of in features:  1245\n",
      "Number of out features:  2\n",
      "DMSO_0.025_vs_Thapsigargin_1\n"
     ]
    },
    {
     "name": "stdout",
     "output_type": "stream",
     "text": [
      "              precision    recall  f1-score   support\n",
      "\n",
      "           0       0.75      0.91      0.82    215130\n",
      "           1       0.80      0.52      0.63    138597\n",
      "\n",
      "    accuracy                           0.76    353727\n",
      "   macro avg       0.77      0.72      0.73    353727\n",
      "weighted avg       0.77      0.76      0.75    353727\n",
      "\n"
     ]
    },
    {
     "name": "stdout",
     "output_type": "stream",
     "text": [
      "0.5215047944760709 0.796805238614942 0.6304097545659114\n"
     ]
    },
    {
     "name": "stdout",
     "output_type": "stream",
     "text": [
      "DMSO_0.100_DMSO_0.025__LPS_1.000_DMSO_0.025\n",
      "DMSO vs LPS__1.000\n"
     ]
    },
    {
     "name": "stdout",
     "output_type": "stream",
     "text": [
      "['DMSO_0.100_DMSO_0.025', 'LPS_1.000_DMSO_0.025']\n",
      "[0, 1]\n"
     ]
    },
    {
     "name": "stdout",
     "output_type": "stream",
     "text": [
      "Number of in features:  1245\n",
      "Number of out features:  2\n",
      "DMSO_0.025_vs_Thapsigargin_1\n"
     ]
    },
    {
     "name": "stdout",
     "output_type": "stream",
     "text": [
      "              precision    recall  f1-score   support\n",
      "\n",
      "           0       0.79      0.91      0.84    215130\n",
      "           1       0.82      0.61      0.70    139433\n",
      "\n",
      "    accuracy                           0.80    354563\n",
      "   macro avg       0.80      0.76      0.77    354563\n",
      "weighted avg       0.80      0.80      0.79    354563\n",
      "\n"
     ]
    },
    {
     "name": "stdout",
     "output_type": "stream",
     "text": [
      "0.6146106015075341 0.8229887927474575 0.7036976211395868\n"
     ]
    },
    {
     "name": "stdout",
     "output_type": "stream",
     "text": [
      "DMSO_0.100_DMSO_0.025__LPS_10.000_DMSO_0.025\n",
      "DMSO vs LPS__10.000\n"
     ]
    },
    {
     "name": "stdout",
     "output_type": "stream",
     "text": [
      "['DMSO_0.100_DMSO_0.025', 'LPS_10.000_DMSO_0.025']\n",
      "[0, 1]\n"
     ]
    },
    {
     "name": "stdout",
     "output_type": "stream",
     "text": [
      "Number of in features:  1245\n",
      "Number of out features:  2\n",
      "DMSO_0.025_vs_Thapsigargin_1\n"
     ]
    },
    {
     "name": "stdout",
     "output_type": "stream",
     "text": [
      "              precision    recall  f1-score   support\n",
      "\n",
      "           0       0.80      0.91      0.85    215130\n",
      "           1       0.85      0.68      0.75    156490\n",
      "\n",
      "    accuracy                           0.81    371620\n",
      "   macro avg       0.82      0.80      0.80    371620\n",
      "weighted avg       0.82      0.81      0.81    371620\n",
      "\n"
     ]
    },
    {
     "name": "stdout",
     "output_type": "stream",
     "text": [
      "0.6768036296248962 0.8517672604447304 0.7542720814713265\n"
     ]
    },
    {
     "name": "stdout",
     "output_type": "stream",
     "text": [
      "DMSO_0.100_DMSO_0.025__LPS_100.000_DMSO_0.025\n",
      "DMSO vs LPS__100.000\n"
     ]
    },
    {
     "name": "stdout",
     "output_type": "stream",
     "text": [
      "['DMSO_0.100_DMSO_0.025', 'LPS_100.000_DMSO_0.025']\n",
      "[0, 1]\n"
     ]
    },
    {
     "name": "stdout",
     "output_type": "stream",
     "text": [
      "Number of in features:  1245\n",
      "Number of out features:  2\n",
      "DMSO_0.025_vs_Thapsigargin_1\n"
     ]
    },
    {
     "name": "stdout",
     "output_type": "stream",
     "text": [
      "              precision    recall  f1-score   support\n",
      "\n",
      "           0       0.69      0.91      0.78    215130\n",
      "           1       0.79      0.44      0.57    159435\n",
      "\n",
      "    accuracy                           0.71    374565\n",
      "   macro avg       0.74      0.68      0.67    374565\n",
      "weighted avg       0.73      0.71      0.69    374565\n",
      "\n"
     ]
    },
    {
     "name": "stdout",
     "output_type": "stream",
     "text": [
      "0.439364004139618 0.7916864447006171 0.5651084838877527\n"
     ]
    },
    {
     "name": "stdout",
     "output_type": "stream",
     "text": [
      "DMSO_0.100_DMSO_0.025__Flagellin_0.100_DMSO_0.025\n",
      "DMSO vs Flagellin__0.100\n"
     ]
    },
    {
     "name": "stdout",
     "output_type": "stream",
     "text": [
      "['DMSO_0.100_DMSO_0.025', 'Flagellin_0.100_DMSO_0.025']\n",
      "[0, 1]\n"
     ]
    },
    {
     "name": "stdout",
     "output_type": "stream",
     "text": [
      "Number of in features:  1245\n",
      "Number of out features:  2\n",
      "DMSO_0.025_vs_Thapsigargin_1\n"
     ]
    },
    {
     "name": "stdout",
     "output_type": "stream",
     "text": [
      "              precision    recall  f1-score   support\n",
      "\n",
      "           0       0.79      0.91      0.85    215130\n",
      "           1       0.71      0.46      0.56     95915\n",
      "\n",
      "    accuracy                           0.77    311045\n",
      "   macro avg       0.75      0.69      0.70    311045\n",
      "weighted avg       0.77      0.77      0.76    311045\n",
      "\n"
     ]
    },
    {
     "name": "stdout",
     "output_type": "stream",
     "text": [
      "0.4603763749152896 0.7055073575228874 0.557172058749306\n"
     ]
    },
    {
     "name": "stdout",
     "output_type": "stream",
     "text": [
      "DMSO_0.100_DMSO_0.025__Flagellin_1.000_DMSO_0.025\n",
      "DMSO vs Flagellin__1.000\n"
     ]
    },
    {
     "name": "stdout",
     "output_type": "stream",
     "text": [
      "['DMSO_0.100_DMSO_0.025', 'Flagellin_1.000_DMSO_0.025']\n",
      "[0, 1]\n"
     ]
    },
    {
     "name": "stdout",
     "output_type": "stream",
     "text": [
      "Number of in features:  1245\n",
      "Number of out features:  2\n",
      "DMSO_0.025_vs_Thapsigargin_1\n"
     ]
    },
    {
     "name": "stdout",
     "output_type": "stream",
     "text": [
      "              precision    recall  f1-score   support\n",
      "\n",
      "           0       0.80      0.91      0.85    215130\n",
      "           1       0.74      0.51      0.61    104547\n",
      "\n",
      "    accuracy                           0.78    319677\n",
      "   macro avg       0.77      0.71      0.73    319677\n",
      "weighted avg       0.78      0.78      0.77    319677\n",
      "\n"
     ]
    },
    {
     "name": "stdout",
     "output_type": "stream",
     "text": [
      "0.5148784757094895 0.7449246481504546 0.608897787430433\n"
     ]
    },
    {
     "name": "stdout",
     "output_type": "stream",
     "text": [
      "DMSO_0.100_DMSO_0.025__Flagellin_1.000_Disulfiram_1.0\n",
      "DMSO vs Flagellin__1.000\n"
     ]
    },
    {
     "name": "stdout",
     "output_type": "stream",
     "text": [
      "['DMSO_0.100_DMSO_0.025', 'Flagellin_1.000_Disulfiram_1.0']\n",
      "[0, 1]\n"
     ]
    },
    {
     "name": "stdout",
     "output_type": "stream",
     "text": [
      "Number of in features:  1245\n",
      "Number of out features:  2\n",
      "DMSO_0.025_vs_Thapsigargin_1\n"
     ]
    },
    {
     "name": "stdout",
     "output_type": "stream",
     "text": [
      "              precision    recall  f1-score   support\n",
      "\n",
      "           0       0.88      0.91      0.90    215130\n",
      "           1       0.87      0.82      0.84    145552\n",
      "\n",
      "    accuracy                           0.88    360682\n",
      "   macro avg       0.87      0.87      0.87    360682\n",
      "weighted avg       0.88      0.88      0.88    360682\n",
      "\n"
     ]
    },
    {
     "name": "stdout",
     "output_type": "stream",
     "text": [
      "0.8190680993734198 0.8660941961074908 0.8419249932027076\n"
     ]
    },
    {
     "name": "stdout",
     "output_type": "stream",
     "text": [
      "LPS_Nigericin_100.000_1.0_DMSO_0.025__DMSO_0.100_DMSO_0.025\n",
      "LPS vs DMSO__0.100\n"
     ]
    },
    {
     "name": "stdout",
     "output_type": "stream",
     "text": [
      "['LPS_Nigericin_100.000_1.0_DMSO_0.025', 'DMSO_0.100_DMSO_0.025']\n",
      "[1, 0]\n"
     ]
    },
    {
     "name": "stdout",
     "output_type": "stream",
     "text": [
      "Number of in features:  1245\n",
      "Number of out features:  2\n",
      "DMSO_0.025_vs_Thapsigargin_1\n"
     ]
    },
    {
     "name": "stdout",
     "output_type": "stream",
     "text": [
      "              precision    recall  f1-score   support\n",
      "\n",
      "           0       0.75      0.91      0.83    215130\n",
      "           1       0.85      0.63      0.72    170659\n",
      "\n",
      "    accuracy                           0.79    385789\n",
      "   macro avg       0.80      0.77      0.77    385789\n",
      "weighted avg       0.80      0.79      0.78    385789\n",
      "\n"
     ]
    },
    {
     "name": "stdout",
     "output_type": "stream",
     "text": [
      "0.6255163806186606 0.8527583837931971 0.7216714383739914\n"
     ]
    },
    {
     "name": "stdout",
     "output_type": "stream",
     "text": [
      "LPS_Nigericin_100.000_3.0_DMSO_0.025__DMSO_0.100_DMSO_0.025\n",
      "LPS vs DMSO__0.100\n"
     ]
    },
    {
     "name": "stdout",
     "output_type": "stream",
     "text": [
      "['LPS_Nigericin_100.000_3.0_DMSO_0.025', 'DMSO_0.100_DMSO_0.025']\n",
      "[1, 0]\n"
     ]
    },
    {
     "name": "stdout",
     "output_type": "stream",
     "text": [
      "Number of in features:  1245\n",
      "Number of out features:  2\n",
      "DMSO_0.025_vs_Thapsigargin_1\n"
     ]
    },
    {
     "name": "stdout",
     "output_type": "stream",
     "text": [
      "              precision    recall  f1-score   support\n",
      "\n",
      "           0       0.76      0.91      0.83    215130\n",
      "           1       0.87      0.67      0.76    184854\n",
      "\n",
      "    accuracy                           0.80    399984\n",
      "   macro avg       0.82      0.79      0.80    399984\n",
      "weighted avg       0.81      0.80      0.80    399984\n",
      "\n"
     ]
    },
    {
     "name": "stdout",
     "output_type": "stream",
     "text": [
      "0.6729851666720763 0.87095690162144 0.7592785864689188\n"
     ]
    },
    {
     "name": "stdout",
     "output_type": "stream",
     "text": [
      "DMSO_0.100_DMSO_0.025__LPS_Nigericin_100.000_10.0_DMSO_0.025\n",
      "DMSO vs LPS__Nigericin\n"
     ]
    },
    {
     "name": "stdout",
     "output_type": "stream",
     "text": [
      "['DMSO_0.100_DMSO_0.025', 'LPS_Nigericin_100.000_10.0_DMSO_0.025']\n",
      "[0, 1]\n"
     ]
    },
    {
     "name": "stdout",
     "output_type": "stream",
     "text": [
      "Number of in features:  1245\n",
      "Number of out features:  2\n",
      "DMSO_0.025_vs_Thapsigargin_1\n"
     ]
    },
    {
     "name": "stdout",
     "output_type": "stream",
     "text": [
      "              precision    recall  f1-score   support\n",
      "\n",
      "           0       0.70      0.91      0.80    215130\n",
      "           1       0.84      0.53      0.65    176090\n",
      "\n",
      "    accuracy                           0.74    391220\n",
      "   macro avg       0.77      0.72      0.72    391220\n",
      "weighted avg       0.76      0.74      0.73    391220\n",
      "\n"
     ]
    },
    {
     "name": "stdout",
     "output_type": "stream",
     "text": [
      "0.5308648986313816 0.8352991636285653 0.6491621585961208\n"
     ]
    },
    {
     "name": "stdout",
     "output_type": "stream",
     "text": [
      "DMSO_0.100_DMSO_0.025__LPS_Nigericin_1.000_1.0_DMSO_0.025\n",
      "DMSO vs LPS__Nigericin\n"
     ]
    },
    {
     "name": "stdout",
     "output_type": "stream",
     "text": [
      "['DMSO_0.100_DMSO_0.025', 'LPS_Nigericin_1.000_1.0_DMSO_0.025']\n",
      "[0, 1]\n"
     ]
    },
    {
     "name": "stdout",
     "output_type": "stream",
     "text": [
      "Number of in features:  1245\n",
      "Number of out features:  2\n",
      "DMSO_0.025_vs_Thapsigargin_1\n"
     ]
    },
    {
     "name": "stdout",
     "output_type": "stream",
     "text": [
      "              precision    recall  f1-score   support\n",
      "\n",
      "           0       0.64      0.91      0.75    215130\n",
      "           1       0.75      0.33      0.46    166013\n",
      "\n",
      "    accuracy                           0.66    381143\n",
      "   macro avg       0.69      0.62      0.60    381143\n",
      "weighted avg       0.69      0.66      0.62    381143\n",
      "\n"
     ]
    },
    {
     "name": "stdout",
     "output_type": "stream",
     "text": [
      "0.3289621897080349 0.747658945293248 0.4568952174585978\n"
     ]
    },
    {
     "name": "stdout",
     "output_type": "stream",
     "text": [
      "DMSO_0.100_DMSO_0.025__LPS_Nigericin_1.000_3.0_DMSO_0.025\n",
      "DMSO vs LPS__Nigericin\n"
     ]
    },
    {
     "name": "stdout",
     "output_type": "stream",
     "text": [
      "['DMSO_0.100_DMSO_0.025', 'LPS_Nigericin_1.000_3.0_DMSO_0.025']\n",
      "[0, 1]\n"
     ]
    },
    {
     "name": "stdout",
     "output_type": "stream",
     "text": [
      "Number of in features:  1245\n",
      "Number of out features:  2\n",
      "DMSO_0.025_vs_Thapsigargin_1\n"
     ]
    },
    {
     "name": "stdout",
     "output_type": "stream",
     "text": [
      "              precision    recall  f1-score   support\n",
      "\n",
      "           0       0.62      0.91      0.74    215130\n",
      "           1       0.75      0.32      0.45    174261\n",
      "\n",
      "    accuracy                           0.65    389391\n",
      "   macro avg       0.69      0.62      0.60    389391\n",
      "weighted avg       0.68      0.65      0.61    389391\n",
      "\n"
     ]
    },
    {
     "name": "stdout",
     "output_type": "stream",
     "text": [
      "0.31963548929479346 0.7513624345761615 0.4484828477453068\n"
     ]
    },
    {
     "name": "stdout",
     "output_type": "stream",
     "text": [
      "DMSO_0.100_DMSO_0.025__LPS_Nigericin_1.000_10.0_DMSO_0.025\n",
      "DMSO vs LPS__Nigericin\n"
     ]
    },
    {
     "name": "stdout",
     "output_type": "stream",
     "text": [
      "['DMSO_0.100_DMSO_0.025', 'LPS_Nigericin_1.000_10.0_DMSO_0.025']\n",
      "[0, 1]\n"
     ]
    },
    {
     "name": "stdout",
     "output_type": "stream",
     "text": [
      "Number of in features:  1245\n",
      "Number of out features:  2\n",
      "DMSO_0.025_vs_Thapsigargin_1\n"
     ]
    },
    {
     "name": "stdout",
     "output_type": "stream",
     "text": [
      "              precision    recall  f1-score   support\n",
      "\n",
      "           0       0.59      0.91      0.72    215130\n",
      "           1       0.71      0.25      0.38    181166\n",
      "\n",
      "    accuracy                           0.61    396296\n",
      "   macro avg       0.65      0.58      0.55    396296\n",
      "weighted avg       0.65      0.61      0.56    396296\n",
      "\n"
     ]
    },
    {
     "name": "stdout",
     "output_type": "stream",
     "text": [
      "0.25452347570736233 0.7144229428443053 0.3753301669861503\n"
     ]
    },
    {
     "name": "stdout",
     "output_type": "stream",
     "text": [
      "DMSO_0.100_DMSO_0.025__H2O2_100.000_Z-VAD-FMK_100.0\n",
      "DMSO vs H2O2__100.000\n"
     ]
    },
    {
     "name": "stdout",
     "output_type": "stream",
     "text": [
      "['DMSO_0.100_DMSO_0.025', 'H2O2_100.000_Z-VAD-FMK_100.0']\n",
      "[0, 1]\n"
     ]
    },
    {
     "name": "stdout",
     "output_type": "stream",
     "text": [
      "Number of in features:  1245\n",
      "Number of out features:  2\n",
      "DMSO_0.025_vs_Thapsigargin_1\n"
     ]
    },
    {
     "name": "stdout",
     "output_type": "stream",
     "text": [
      "              precision    recall  f1-score   support\n",
      "\n",
      "           0       0.90      0.91      0.91    215130\n",
      "           1       0.89      0.87      0.88    173437\n",
      "\n",
      "    accuracy                           0.89    388567\n",
      "   macro avg       0.89      0.89      0.89    388567\n",
      "weighted avg       0.89      0.89      0.89    388567\n",
      "\n"
     ]
    },
    {
     "name": "stdout",
     "output_type": "stream",
     "text": [
      "0.8709444928129523 0.8912476546735424 0.880979111928917\n"
     ]
    },
    {
     "name": "stdout",
     "output_type": "stream",
     "text": [
      "DMSO_0.100_DMSO_0.025__H2O2_100.000_DMSO_0.025\n",
      "DMSO vs H2O2__100.000\n"
     ]
    },
    {
     "name": "stdout",
     "output_type": "stream",
     "text": [
      "['DMSO_0.100_DMSO_0.025', 'H2O2_100.000_DMSO_0.025']\n",
      "[0, 1]\n"
     ]
    },
    {
     "name": "stdout",
     "output_type": "stream",
     "text": [
      "Number of in features:  1245\n",
      "Number of out features:  2\n",
      "DMSO_0.025_vs_Thapsigargin_1\n"
     ]
    },
    {
     "name": "stdout",
     "output_type": "stream",
     "text": [
      "              precision    recall  f1-score   support\n",
      "\n",
      "           0       0.50      0.91      0.64    215130\n",
      "           1       0.69      0.17      0.28    240536\n",
      "\n",
      "    accuracy                           0.52    455666\n",
      "   macro avg       0.60      0.54      0.46    455666\n",
      "weighted avg       0.60      0.52      0.45    455666\n",
      "\n"
     ]
    },
    {
     "name": "stdout",
     "output_type": "stream",
     "text": [
      "0.1733545082648751 0.6934641609845336 0.2773709032614263\n"
     ]
    },
    {
     "name": "stdout",
     "output_type": "stream",
     "text": [
      "Thapsigargin_1.000_DMSO_0.025__LPS_100.000_DMSO_0.025\n",
      "Thapsigargin vs LPS__100.000\n"
     ]
    },
    {
     "name": "stdout",
     "output_type": "stream",
     "text": [
      "['Thapsigargin_1.000_DMSO_0.025', 'LPS_100.000_DMSO_0.025']\n",
      "[1, 0]\n"
     ]
    },
    {
     "name": "stdout",
     "output_type": "stream",
     "text": [
      "Number of in features:  1245\n",
      "Number of out features:  2\n",
      "DMSO_0.025_vs_Thapsigargin_1\n"
     ]
    },
    {
     "name": "stdout",
     "output_type": "stream",
     "text": [
      "              precision    recall  f1-score   support\n",
      "\n",
      "           0       0.76      0.56      0.64    159435\n",
      "           1       0.63      0.81      0.71    148456\n",
      "\n",
      "    accuracy                           0.68    307891\n",
      "   macro avg       0.69      0.68      0.68    307891\n",
      "weighted avg       0.70      0.68      0.67    307891\n",
      "\n"
     ]
    },
    {
     "name": "stdout",
     "output_type": "stream",
     "text": [
      "0.8054036212749905 0.6305710985829329 0.7073442717992859\n"
     ]
    },
    {
     "name": "stdout",
     "output_type": "stream",
     "text": [
      "Thapsigargin_10.000_DMSO_0.025__LPS_100.000_DMSO_0.025\n",
      "Thapsigargin vs LPS__100.000\n"
     ]
    },
    {
     "name": "stdout",
     "output_type": "stream",
     "text": [
      "['Thapsigargin_10.000_DMSO_0.025', 'LPS_100.000_DMSO_0.025']\n",
      "[1, 0]\n"
     ]
    },
    {
     "name": "stdout",
     "output_type": "stream",
     "text": [
      "Number of in features:  1245\n",
      "Number of out features:  2\n",
      "DMSO_0.025_vs_Thapsigargin_1\n"
     ]
    },
    {
     "name": "stdout",
     "output_type": "stream",
     "text": [
      "              precision    recall  f1-score   support\n",
      "\n",
      "           0       0.74      0.56      0.64    159435\n",
      "           1       0.66      0.81      0.73    166984\n",
      "\n",
      "    accuracy                           0.69    326419\n",
      "   macro avg       0.70      0.69      0.68    326419\n",
      "weighted avg       0.70      0.69      0.68    326419\n",
      "\n"
     ]
    },
    {
     "name": "stdout",
     "output_type": "stream",
     "text": [
      "0.8115807502515211 0.6592418191281845 0.7275221108292735\n"
     ]
    },
    {
     "name": "stdout",
     "output_type": "stream",
     "text": [
      "LPS_10.000_DMSO_0.025__Thapsigargin_1.000_DMSO_0.025\n",
      "LPS vs Thapsigargin__1.000\n"
     ]
    },
    {
     "name": "stdout",
     "output_type": "stream",
     "text": [
      "['LPS_10.000_DMSO_0.025', 'Thapsigargin_1.000_DMSO_0.025']\n",
      "[0, 1]\n"
     ]
    },
    {
     "name": "stdout",
     "output_type": "stream",
     "text": [
      "Number of in features:  1245\n",
      "Number of out features:  2\n",
      "DMSO_0.025_vs_Thapsigargin_1\n"
     ]
    },
    {
     "name": "stdout",
     "output_type": "stream",
     "text": [
      "              precision    recall  f1-score   support\n",
      "\n",
      "           0       0.64      0.32      0.43    156490\n",
      "           1       0.53      0.81      0.64    148456\n",
      "\n",
      "    accuracy                           0.56    304946\n",
      "   macro avg       0.58      0.56      0.53    304946\n",
      "weighted avg       0.58      0.56      0.53    304946\n",
      "\n"
     ]
    },
    {
     "name": "stdout",
     "output_type": "stream",
     "text": [
      "0.8054036212749905 0.5302776299450062 0.6395051559625177\n"
     ]
    },
    {
     "name": "stdout",
     "output_type": "stream",
     "text": [
      "LPS_10.000_DMSO_0.025__Thapsigargin_10.000_DMSO_0.025\n",
      "LPS vs Thapsigargin__10.000\n"
     ]
    },
    {
     "name": "stdout",
     "output_type": "stream",
     "text": [
      "['LPS_10.000_DMSO_0.025', 'Thapsigargin_10.000_DMSO_0.025']\n",
      "[0, 1]\n"
     ]
    },
    {
     "name": "stdout",
     "output_type": "stream",
     "text": [
      "Number of in features:  1245\n",
      "Number of out features:  2\n",
      "DMSO_0.025_vs_Thapsigargin_1\n"
     ]
    },
    {
     "name": "stdout",
     "output_type": "stream",
     "text": [
      "              precision    recall  f1-score   support\n",
      "\n",
      "           0       0.62      0.32      0.42    156490\n",
      "           1       0.56      0.81      0.66    166984\n",
      "\n",
      "    accuracy                           0.58    323474\n",
      "   macro avg       0.59      0.57      0.54    323474\n",
      "weighted avg       0.59      0.58      0.55    323474\n",
      "\n"
     ]
    },
    {
     "name": "stdout",
     "output_type": "stream",
     "text": [
      "0.8115807502515211 0.5613169644706214 0.6636387230729303\n"
     ]
    },
    {
     "name": "stdout",
     "output_type": "stream",
     "text": [
      "LPS_1.000_DMSO_0.025__Thapsigargin_1.000_DMSO_0.025\n",
      "LPS vs Thapsigargin__1.000\n"
     ]
    },
    {
     "name": "stdout",
     "output_type": "stream",
     "text": [
      "['LPS_1.000_DMSO_0.025', 'Thapsigargin_1.000_DMSO_0.025']\n",
      "[0, 1]\n"
     ]
    },
    {
     "name": "stdout",
     "output_type": "stream",
     "text": [
      "Number of in features:  1245\n",
      "Number of out features:  2\n",
      "DMSO_0.025_vs_Thapsigargin_1\n"
     ]
    },
    {
     "name": "stdout",
     "output_type": "stream",
     "text": [
      "              precision    recall  f1-score   support\n",
      "\n",
      "           0       0.65      0.39      0.48    139433\n",
      "           1       0.58      0.81      0.68    148456\n",
      "\n",
      "    accuracy                           0.60    287889\n",
      "   macro avg       0.62      0.60      0.58    287889\n",
      "weighted avg       0.62      0.60      0.58    287889\n",
      "\n"
     ]
    },
    {
     "name": "stdout",
     "output_type": "stream",
     "text": [
      "0.8054036212749905 0.5825035076779173 0.6760545063892345\n"
     ]
    },
    {
     "name": "stdout",
     "output_type": "stream",
     "text": [
      "LPS_1.000_DMSO_0.025__Thapsigargin_10.000_DMSO_0.025\n",
      "LPS vs Thapsigargin__10.000\n"
     ]
    },
    {
     "name": "stdout",
     "output_type": "stream",
     "text": [
      "['LPS_1.000_DMSO_0.025', 'Thapsigargin_10.000_DMSO_0.025']\n",
      "[0, 1]\n"
     ]
    },
    {
     "name": "stdout",
     "output_type": "stream",
     "text": [
      "Number of in features:  1245\n",
      "Number of out features:  2\n",
      "DMSO_0.025_vs_Thapsigargin_1\n"
     ]
    },
    {
     "name": "stdout",
     "output_type": "stream",
     "text": [
      "              precision    recall  f1-score   support\n",
      "\n",
      "           0       0.63      0.39      0.48    139433\n",
      "           1       0.61      0.81      0.70    166984\n",
      "\n",
      "    accuracy                           0.62    306417\n",
      "   macro avg       0.62      0.60      0.59    306417\n",
      "weighted avg       0.62      0.62      0.60    306417\n",
      "\n"
     ]
    },
    {
     "name": "stdout",
     "output_type": "stream",
     "text": [
      "0.8115807502515211 0.6126128976846369 0.6981983606472919\n"
     ]
    },
    {
     "name": "stdout",
     "output_type": "stream",
     "text": [
      "LPS_0.100_DMSO_0.025__Thapsigargin_1.000_DMSO_0.025\n",
      "LPS vs Thapsigargin__1.000\n"
     ]
    },
    {
     "name": "stdout",
     "output_type": "stream",
     "text": [
      "['LPS_0.100_DMSO_0.025', 'Thapsigargin_1.000_DMSO_0.025']\n",
      "[0, 1]\n"
     ]
    },
    {
     "name": "stdout",
     "output_type": "stream",
     "text": [
      "Number of in features:  1245\n",
      "Number of out features:  2\n",
      "DMSO_0.025_vs_Thapsigargin_1\n"
     ]
    },
    {
     "name": "stdout",
     "output_type": "stream",
     "text": [
      "              precision    recall  f1-score   support\n",
      "\n",
      "           0       0.70      0.48      0.57    138597\n",
      "           1       0.62      0.81      0.70    148456\n",
      "\n",
      "    accuracy                           0.65    287053\n",
      "   macro avg       0.66      0.64      0.64    287053\n",
      "weighted avg       0.66      0.65      0.64    287053\n",
      "\n"
     ]
    },
    {
     "name": "stdout",
     "output_type": "stream",
     "text": [
      "0.8054036212749905 0.623244685841769 0.7027111212981412\n"
     ]
    },
    {
     "name": "stdout",
     "output_type": "stream",
     "text": [
      "LPS_0.100_DMSO_0.025__Thapsigargin_10.000_DMSO_0.025\n",
      "LPS vs Thapsigargin__10.000\n"
     ]
    },
    {
     "name": "stdout",
     "output_type": "stream",
     "text": [
      "['LPS_0.100_DMSO_0.025', 'Thapsigargin_10.000_DMSO_0.025']\n",
      "[0, 1]\n"
     ]
    },
    {
     "name": "stdout",
     "output_type": "stream",
     "text": [
      "Number of in features:  1245\n",
      "Number of out features:  2\n",
      "DMSO_0.025_vs_Thapsigargin_1\n"
     ]
    },
    {
     "name": "stdout",
     "output_type": "stream",
     "text": [
      "              precision    recall  f1-score   support\n",
      "\n",
      "           0       0.68      0.48      0.56    138597\n",
      "           1       0.65      0.81      0.72    166984\n",
      "\n",
      "    accuracy                           0.66    305581\n",
      "   macro avg       0.67      0.65      0.64    305581\n",
      "weighted avg       0.66      0.66      0.65    305581\n",
      "\n"
     ]
    },
    {
     "name": "stdout",
     "output_type": "stream",
     "text": [
      "0.8115807502515211 0.6521703561116459 0.7231952271174864\n"
     ]
    },
    {
     "name": "stdout",
     "output_type": "stream",
     "text": [
      "LPS_0.010_DMSO_0.025__Thapsigargin_1.000_DMSO_0.025\n",
      "LPS vs Thapsigargin__1.000\n"
     ]
    },
    {
     "name": "stdout",
     "output_type": "stream",
     "text": [
      "['LPS_0.010_DMSO_0.025', 'Thapsigargin_1.000_DMSO_0.025']\n",
      "[0, 1]\n"
     ]
    },
    {
     "name": "stdout",
     "output_type": "stream",
     "text": [
      "Number of in features:  1245\n",
      "Number of out features:  2\n",
      "DMSO_0.025_vs_Thapsigargin_1\n"
     ]
    },
    {
     "name": "stdout",
     "output_type": "stream",
     "text": [
      "              precision    recall  f1-score   support\n",
      "\n",
      "           0       0.75      0.59      0.66    143080\n",
      "           1       0.67      0.81      0.73    148456\n",
      "\n",
      "    accuracy                           0.70    291536\n",
      "   macro avg       0.71      0.70      0.70    291536\n",
      "weighted avg       0.71      0.70      0.70    291536\n",
      "\n"
     ]
    },
    {
     "name": "stdout",
     "output_type": "stream",
     "text": [
      "0.8054036212749905 0.6714644323267946 0.7323604624454482\n"
     ]
    },
    {
     "name": "stdout",
     "output_type": "stream",
     "text": [
      "LPS_0.010_DMSO_0.025__Thapsigargin_10.000_DMSO_0.025\n",
      "LPS vs Thapsigargin__10.000\n"
     ]
    },
    {
     "name": "stdout",
     "output_type": "stream",
     "text": [
      "['LPS_0.010_DMSO_0.025', 'Thapsigargin_10.000_DMSO_0.025']\n",
      "[0, 1]\n"
     ]
    },
    {
     "name": "stdout",
     "output_type": "stream",
     "text": [
      "Number of in features:  1245\n",
      "Number of out features:  2\n",
      "DMSO_0.025_vs_Thapsigargin_1\n"
     ]
    },
    {
     "name": "stdout",
     "output_type": "stream",
     "text": [
      "              precision    recall  f1-score   support\n",
      "\n",
      "           0       0.73      0.59      0.65    143080\n",
      "           1       0.70      0.81      0.75    166984\n",
      "\n",
      "    accuracy                           0.71    310064\n",
      "   macro avg       0.71      0.70      0.70    310064\n",
      "weighted avg       0.71      0.71      0.71    310064\n",
      "\n"
     ]
    },
    {
     "name": "stdout",
     "output_type": "stream",
     "text": [
      "0.8115807502515211 0.6984790462986347 0.7507943059275859\n"
     ]
    }
   ],
   "source": [
    "for i in paired_treatment_list:\n",
    "    # filter df to only include the two treatments to test\n",
    "    test_df = df.query(\n",
    "        f\"oneb_Metadata_Treatment_Dose_Inhibitor_Dose == '{i[0]}' | oneb_Metadata_Treatment_Dose_Inhibitor_Dose == '{i[1]}'\"\n",
    "    )\n",
    "    output_name = (\"__\").join(\n",
    "        test_df[\"oneb_Metadata_Treatment_Dose_Inhibitor_Dose\"].unique()\n",
    "    )\n",
    "\n",
    "    print(output_name)\n",
    "\n",
    "    title = f'{output_name.split(\"__\")[0].split(\"_\")[0]} vs {(\"__\").join(output_name.split(\"__\")[1].split(\"_\")[:2])}'\n",
    "    print(title)\n",
    "    (\n",
    "        stats,\n",
    "        recall,\n",
    "        precision,\n",
    "        f1,\n",
    "        precision_,\n",
    "        recall_,\n",
    "        threshold_,\n",
    "        dict_of_treatments,\n",
    "    ) = test_loop(test_df, output_name, title)\n",
    "    print(recall, precision, f1)\n",
    "\n",
    "    threshold_ = np.append(threshold_, None)\n",
    "    stats_df = pd.DataFrame(\n",
    "        {\n",
    "            \"PR_Threshold\": threshold_,\n",
    "            \"Precision\": precision_,\n",
    "            \"Recall\": recall_,\n",
    "        }\n",
    "    )\n",
    "\n",
    "    stats_df[\"treatments_tested\"] = \"0 vs 1\"\n",
    "    # make it so that the second treatment is always the one that is being tested as the positive label\n",
    "    stats_df[\"treatments_tested\"] = stats_df[\"treatments_tested\"].replace(\n",
    "        \"0 vs 1\", f\"{dict_of_treatments[0]} vs {dict_of_treatments[1]}\"\n",
    "    )\n",
    "    stats_df[\"model\"] = mlp_params.MODEL_NAME\n",
    "    stats_df[\"group\"] = \"test\"\n",
    "    stats_df[\"shuffled_data\"] = mlp_params.SHUFFLE\n",
    "    stats_df\n",
    "    model_stats_df = pd.concat([model_stats_df, stats_df], axis=0)"
   ]
  },
  {
   "cell_type": "code",
   "execution_count": 10,
   "id": "eb39bde7",
   "metadata": {
    "execution": {
     "iopub.execute_input": "2023-08-20T02:58:07.262922Z",
     "iopub.status.busy": "2023-08-20T02:58:07.262671Z",
     "iopub.status.idle": "2023-08-20T02:58:07.272073Z",
     "shell.execute_reply": "2023-08-20T02:58:07.271608Z"
    },
    "papermill": {
     "duration": 0.018,
     "end_time": "2023-08-20T02:58:07.273042",
     "exception": false,
     "start_time": "2023-08-20T02:58:07.255042",
     "status": "completed"
    },
    "tags": []
   },
   "outputs": [
    {
     "data": {
      "text/html": [
       "<div>\n",
       "<style scoped>\n",
       "    .dataframe tbody tr th:only-of-type {\n",
       "        vertical-align: middle;\n",
       "    }\n",
       "\n",
       "    .dataframe tbody tr th {\n",
       "        vertical-align: top;\n",
       "    }\n",
       "\n",
       "    .dataframe thead th {\n",
       "        text-align: right;\n",
       "    }\n",
       "</style>\n",
       "<table border=\"1\" class=\"dataframe\">\n",
       "  <thead>\n",
       "    <tr style=\"text-align: right;\">\n",
       "      <th></th>\n",
       "      <th>treatments_tested</th>\n",
       "      <th>model</th>\n",
       "      <th>group</th>\n",
       "      <th>shuffled_data</th>\n",
       "      <th>PR_Threshold</th>\n",
       "      <th>Precision</th>\n",
       "      <th>Recall</th>\n",
       "    </tr>\n",
       "  </thead>\n",
       "  <tbody>\n",
       "    <tr>\n",
       "      <th>0</th>\n",
       "      <td>DMSO_0.100_DMSO_0.025 vs LPS_100.000_DMSO_0.025</td>\n",
       "      <td>DMSO_0.025_vs_Thapsigargin_1</td>\n",
       "      <td>test</td>\n",
       "      <td>False</td>\n",
       "      <td>0.0</td>\n",
       "      <td>0.425654</td>\n",
       "      <td>1.000000</td>\n",
       "    </tr>\n",
       "    <tr>\n",
       "      <th>1</th>\n",
       "      <td>DMSO_0.100_DMSO_0.025 vs LPS_100.000_DMSO_0.025</td>\n",
       "      <td>DMSO_0.025_vs_Thapsigargin_1</td>\n",
       "      <td>test</td>\n",
       "      <td>False</td>\n",
       "      <td>0.0</td>\n",
       "      <td>0.425716</td>\n",
       "      <td>0.999586</td>\n",
       "    </tr>\n",
       "    <tr>\n",
       "      <th>2</th>\n",
       "      <td>DMSO_0.100_DMSO_0.025 vs LPS_100.000_DMSO_0.025</td>\n",
       "      <td>DMSO_0.025_vs_Thapsigargin_1</td>\n",
       "      <td>test</td>\n",
       "      <td>False</td>\n",
       "      <td>0.0</td>\n",
       "      <td>0.425715</td>\n",
       "      <td>0.999580</td>\n",
       "    </tr>\n",
       "    <tr>\n",
       "      <th>3</th>\n",
       "      <td>DMSO_0.100_DMSO_0.025 vs LPS_100.000_DMSO_0.025</td>\n",
       "      <td>DMSO_0.025_vs_Thapsigargin_1</td>\n",
       "      <td>test</td>\n",
       "      <td>False</td>\n",
       "      <td>0.0</td>\n",
       "      <td>0.425716</td>\n",
       "      <td>0.999580</td>\n",
       "    </tr>\n",
       "    <tr>\n",
       "      <th>4</th>\n",
       "      <td>DMSO_0.100_DMSO_0.025 vs LPS_100.000_DMSO_0.025</td>\n",
       "      <td>DMSO_0.025_vs_Thapsigargin_1</td>\n",
       "      <td>test</td>\n",
       "      <td>False</td>\n",
       "      <td>0.0</td>\n",
       "      <td>0.425714</td>\n",
       "      <td>0.999573</td>\n",
       "    </tr>\n",
       "    <tr>\n",
       "      <th>...</th>\n",
       "      <td>...</td>\n",
       "      <td>...</td>\n",
       "      <td>...</td>\n",
       "      <td>...</td>\n",
       "      <td>...</td>\n",
       "      <td>...</td>\n",
       "      <td>...</td>\n",
       "    </tr>\n",
       "    <tr>\n",
       "      <th>278227</th>\n",
       "      <td>LPS_0.010_DMSO_0.025 vs Thapsigargin_10.000_DM...</td>\n",
       "      <td>DMSO_0.025_vs_Thapsigargin_1</td>\n",
       "      <td>test</td>\n",
       "      <td>False</td>\n",
       "      <td>1.0</td>\n",
       "      <td>0.772727</td>\n",
       "      <td>0.000102</td>\n",
       "    </tr>\n",
       "    <tr>\n",
       "      <th>278228</th>\n",
       "      <td>LPS_0.010_DMSO_0.025 vs Thapsigargin_10.000_DM...</td>\n",
       "      <td>DMSO_0.025_vs_Thapsigargin_1</td>\n",
       "      <td>test</td>\n",
       "      <td>False</td>\n",
       "      <td>1.0</td>\n",
       "      <td>0.761905</td>\n",
       "      <td>0.000096</td>\n",
       "    </tr>\n",
       "    <tr>\n",
       "      <th>278229</th>\n",
       "      <td>LPS_0.010_DMSO_0.025 vs Thapsigargin_10.000_DM...</td>\n",
       "      <td>DMSO_0.025_vs_Thapsigargin_1</td>\n",
       "      <td>test</td>\n",
       "      <td>False</td>\n",
       "      <td>1.0</td>\n",
       "      <td>0.750000</td>\n",
       "      <td>0.000090</td>\n",
       "    </tr>\n",
       "    <tr>\n",
       "      <th>278230</th>\n",
       "      <td>LPS_0.010_DMSO_0.025 vs Thapsigargin_10.000_DM...</td>\n",
       "      <td>DMSO_0.025_vs_Thapsigargin_1</td>\n",
       "      <td>test</td>\n",
       "      <td>False</td>\n",
       "      <td>1.0</td>\n",
       "      <td>0.764706</td>\n",
       "      <td>0.000078</td>\n",
       "    </tr>\n",
       "    <tr>\n",
       "      <th>278231</th>\n",
       "      <td>LPS_0.010_DMSO_0.025 vs Thapsigargin_10.000_DM...</td>\n",
       "      <td>DMSO_0.025_vs_Thapsigargin_1</td>\n",
       "      <td>test</td>\n",
       "      <td>False</td>\n",
       "      <td>None</td>\n",
       "      <td>1.000000</td>\n",
       "      <td>0.000000</td>\n",
       "    </tr>\n",
       "  </tbody>\n",
       "</table>\n",
       "<p>8746247 rows × 7 columns</p>\n",
       "</div>"
      ],
      "text/plain": [
       "                                        treatments_tested  \\\n",
       "0         DMSO_0.100_DMSO_0.025 vs LPS_100.000_DMSO_0.025   \n",
       "1         DMSO_0.100_DMSO_0.025 vs LPS_100.000_DMSO_0.025   \n",
       "2         DMSO_0.100_DMSO_0.025 vs LPS_100.000_DMSO_0.025   \n",
       "3         DMSO_0.100_DMSO_0.025 vs LPS_100.000_DMSO_0.025   \n",
       "4         DMSO_0.100_DMSO_0.025 vs LPS_100.000_DMSO_0.025   \n",
       "...                                                   ...   \n",
       "278227  LPS_0.010_DMSO_0.025 vs Thapsigargin_10.000_DM...   \n",
       "278228  LPS_0.010_DMSO_0.025 vs Thapsigargin_10.000_DM...   \n",
       "278229  LPS_0.010_DMSO_0.025 vs Thapsigargin_10.000_DM...   \n",
       "278230  LPS_0.010_DMSO_0.025 vs Thapsigargin_10.000_DM...   \n",
       "278231  LPS_0.010_DMSO_0.025 vs Thapsigargin_10.000_DM...   \n",
       "\n",
       "                               model group shuffled_data PR_Threshold  \\\n",
       "0       DMSO_0.025_vs_Thapsigargin_1  test         False          0.0   \n",
       "1       DMSO_0.025_vs_Thapsigargin_1  test         False          0.0   \n",
       "2       DMSO_0.025_vs_Thapsigargin_1  test         False          0.0   \n",
       "3       DMSO_0.025_vs_Thapsigargin_1  test         False          0.0   \n",
       "4       DMSO_0.025_vs_Thapsigargin_1  test         False          0.0   \n",
       "...                              ...   ...           ...          ...   \n",
       "278227  DMSO_0.025_vs_Thapsigargin_1  test         False          1.0   \n",
       "278228  DMSO_0.025_vs_Thapsigargin_1  test         False          1.0   \n",
       "278229  DMSO_0.025_vs_Thapsigargin_1  test         False          1.0   \n",
       "278230  DMSO_0.025_vs_Thapsigargin_1  test         False          1.0   \n",
       "278231  DMSO_0.025_vs_Thapsigargin_1  test         False         None   \n",
       "\n",
       "        Precision    Recall  \n",
       "0        0.425654  1.000000  \n",
       "1        0.425716  0.999586  \n",
       "2        0.425715  0.999580  \n",
       "3        0.425716  0.999580  \n",
       "4        0.425714  0.999573  \n",
       "...           ...       ...  \n",
       "278227   0.772727  0.000102  \n",
       "278228   0.761905  0.000096  \n",
       "278229   0.750000  0.000090  \n",
       "278230   0.764706  0.000078  \n",
       "278231   1.000000  0.000000  \n",
       "\n",
       "[8746247 rows x 7 columns]"
      ]
     },
     "execution_count": 10,
     "metadata": {},
     "output_type": "execute_result"
    }
   ],
   "source": [
    "model_stats_df"
   ]
  },
  {
   "cell_type": "code",
   "execution_count": 11,
   "id": "380dd6b8",
   "metadata": {
    "execution": {
     "iopub.execute_input": "2023-08-20T02:58:07.288193Z",
     "iopub.status.busy": "2023-08-20T02:58:07.287861Z",
     "iopub.status.idle": "2023-08-20T02:58:22.000443Z",
     "shell.execute_reply": "2023-08-20T02:58:21.999749Z"
    },
    "papermill": {
     "duration": 14.721825,
     "end_time": "2023-08-20T02:58:22.002079",
     "exception": false,
     "start_time": "2023-08-20T02:58:07.280254",
     "status": "completed"
    },
    "tags": []
   },
   "outputs": [],
   "source": [
    "# set path for the model training metrics\n",
    "metrics_path = pathlib.Path(\n",
    "    f\"../../results/{mlp_params.MODEL_TYPE}/{mlp_params.MODEL_NAME}/{mlp_params.CELL_TYPE}\"\n",
    ")\n",
    "metrics_path.mkdir(parents=True, exist_ok=True)\n",
    "# check if the model training metrics file exists\n",
    "metrics_file = pathlib.Path(f\"{metrics_path}/testing_metrics.csv\")\n",
    "if metrics_file.exists():\n",
    "    metrics_df = pd.read_csv(metrics_file)\n",
    "    if len(metrics_df[\"shuffled_data\"].unique()) > 1:\n",
    "        pass\n",
    "    elif metrics_df[\"shuffled_data\"].unique() == mlp_params.SHUFFLE:\n",
    "        pass\n",
    "    else:\n",
    "        metrics_df = pd.concat([metrics_df, model_stats_df], axis=0)\n",
    "        metrics_df.to_csv(metrics_file, index=False)\n",
    "else:\n",
    "    model_stats_df.to_csv(metrics_file, index=False)"
   ]
  },
  {
   "cell_type": "code",
   "execution_count": null,
   "id": "585460ab",
   "metadata": {
    "papermill": {
     "duration": 0.007193,
     "end_time": "2023-08-20T02:58:22.020877",
     "exception": false,
     "start_time": "2023-08-20T02:58:22.013684",
     "status": "completed"
    },
    "tags": []
   },
   "outputs": [],
   "source": []
  }
 ],
 "metadata": {
  "jupytext": {
   "formats": "ipynb,py"
  },
  "kernelspec": {
   "display_name": "Interstellar",
   "language": "python",
   "name": "python3"
  },
  "language_info": {
   "codemirror_mode": {
    "name": "ipython",
    "version": 3
   },
   "file_extension": ".py",
   "mimetype": "text/x-python",
   "name": "python",
   "nbconvert_exporter": "python",
   "pygments_lexer": "ipython3",
   "version": "3.10.12"
  },
  "papermill": {
   "default_parameters": {},
   "duration": 1271.933644,
   "end_time": "2023-08-20T02:58:23.046329",
   "environment_variables": {},
   "exception": null,
   "input_path": "binary_classification_testing.ipynb",
   "output_path": "binary_classification_testing.ipynb",
   "parameters": {
    "CELL_TYPE": "PBMC",
    "CONTROL_NAME": "DMSO_0.100_DMSO_0.025",
    "MODEL_NAME": "DMSO_0.025_vs_Thapsigargin_1",
    "SHUFFLE": false,
    "SHUFFLE_DATA": false,
    "TREATMENT_NAME": "Thapsigargin_1.000_DMSO_0.025"
   },
   "start_time": "2023-08-20T02:37:11.112685",
   "version": "2.4.0"
  },
  "vscode": {
   "interpreter": {
    "hash": "72ae02083a9ca7d143c492d1aec380c7bf553ec51bd66e90e72bba65228121b6"
   }
  }
 },
 "nbformat": 4,
 "nbformat_minor": 5
}