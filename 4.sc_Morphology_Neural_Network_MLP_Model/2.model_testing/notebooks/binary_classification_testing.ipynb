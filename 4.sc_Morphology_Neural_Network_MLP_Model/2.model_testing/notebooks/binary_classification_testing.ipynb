{
    "cells": [
        {
            "cell_type": "code",
            "execution_count": 1,
            "id": "e5d22684",
            "metadata": {
                "execution": {
                    "iopub.execute_input": "2023-09-18T19:27:16.300413Z",
                    "iopub.status.busy": "2023-09-18T19:27:16.300092Z",
                    "iopub.status.idle": "2023-09-18T19:27:19.758961Z",
                    "shell.execute_reply": "2023-09-18T19:27:19.758368Z"
                },
                "papermill": {
                    "duration": 3.463583,
                    "end_time": "2023-09-18T19:27:19.760485",
                    "exception": false,
                    "start_time": "2023-09-18T19:27:16.296902",
                    "status": "completed"
                },
                "tags": []
            },
            "outputs": [],
            "source": [
                "import argparse\n",
                "import ast\n",
                "import pathlib\n",
                "import sys\n",
                "\n",
                "import numpy as np\n",
                "import pandas as pd\n",
                "import pyarrow.parquet as pq\n",
                "import toml\n",
                "import torch\n",
                "from sklearn import preprocessing\n",
                "\n",
                "sys.path.append(\"../..\")\n",
                "from MLP_utils.parameters import Parameters\n",
                "from MLP_utils.utils import (\n",
                "    Dataset_formatter,\n",
                "    optimized_model_create,\n",
                "    output_stats,\n",
                "    parameter_set,\n",
                "    results_output,\n",
                "    test_optimized_model,\n",
                "    un_nest,\n",
                ")\n",
                "from sklearn.metrics import (\n",
                "    accuracy_score,\n",
                "    auc,\n",
                "    confusion_matrix,\n",
                "    f1_score,\n",
                "    precision_score,\n",
                "    recall_score,\n",
                "    roc_auc_score,\n",
                "    roc_curve,\n",
                ")\n",
                "\n",
                "sys.path.append(\"../../..\")"
            ]
        },
        {
            "cell_type": "code",
            "execution_count": null,
            "id": "8132d7b1",
            "metadata": {},
            "outputs": [],
            "source": [
                "# set up the argument parser\n",
                "argparser = argparse.ArgumentParser(description=\"MLP binary classification testing\")\n",
                "\n",
                "argparser.add_argument(\n",
                "    \"--cell_type\",\n",
                "    type=str,\n",
                "    default=\"cells\",\n",
                "    help=\"The type of data to be used.\",\n",
                ")   \n",
                "argparser.add_argument(\n",
                "    \"--control_name\",\n",
                "    type=str,\n",
                "    default=\"control\",\n",
                "    help=\"The name of the control condition.\",\n",
                ")\n",
                "argparser.add_argument(\n",
                "    \"--treatment_name\",\n",
                "    type=str,\n",
                "    default=\"treatment\",\n",
                "    help=\"The name of the treatment condition.\",\n",
                ")\n",
                "argparser.add_argument(\n",
                "    \"--shuffle\",\n",
                "    type=str\n",
                "    default=\"False\",\n",
                "    help=\"Whether to shuffle the data before training.\",\n",
                ")\n",
                "\n",
                "# get the arguments\n",
                "args = argparser.parse_args()\n",
                "\n",
                "CELL_TYPE = args.cell_type\n",
                "CONTROL_NAME = args.control_name\n",
                "TREATMENT_NAME = args.treatment_name\n",
                "SHUFFLE = ast.literal_eval(args.shuffle)\n",
                "print(f\"CELL_TYPE: {CELL_TYPE} CONTROL_NAME: {CONTROL_NAME} TREATMENT_NAME: {TREATMENT_NAME} SHUFFLE: {SHUFFLE}\")"
            ]
        },
        {
            "cell_type": "code",
            "execution_count": 3,
            "id": "4a054dff",
            "metadata": {
                "execution": {
                    "iopub.execute_input": "2023-09-18T19:27:19.779145Z",
                    "iopub.status.busy": "2023-09-18T19:27:19.778842Z",
                    "iopub.status.idle": "2023-09-18T19:27:19.781317Z",
                    "shell.execute_reply": "2023-09-18T19:27:19.780874Z"
                },
                "papermill": {
                    "duration": 0.005965,
                    "end_time": "2023-09-18T19:27:19.782270",
                    "exception": false,
                    "start_time": "2023-09-18T19:27:19.776305",
                    "status": "completed"
                },
                "tags": []
            },
            "outputs": [],
            "source": [
                "MODEL_NAME = CONTROL_NAME + \"_vs_\" + TREATMENT_NAME"
            ]
        },
        {
            "cell_type": "code",
            "execution_count": 4,
            "id": "c55e810d",
            "metadata": {
                "execution": {
                    "iopub.execute_input": "2023-09-18T19:27:19.787148Z",
                    "iopub.status.busy": "2023-09-18T19:27:19.786863Z",
                    "iopub.status.idle": "2023-09-18T19:27:19.791181Z",
                    "shell.execute_reply": "2023-09-18T19:27:19.790699Z"
                },
                "papermill": {
                    "duration": 0.007692,
                    "end_time": "2023-09-18T19:27:19.792091",
                    "exception": false,
                    "start_time": "2023-09-18T19:27:19.784399",
                    "status": "completed"
                },
                "tags": []
            },
            "outputs": [],
            "source": [
                "ml_configs_file = pathlib.Path(\"../../MLP_utils/binary_config.toml\").resolve(\n",
                "    strict=True\n",
                ")\n",
                "ml_configs = toml.load(ml_configs_file)\n",
                "params = Parameters()\n",
                "mlp_params = parameter_set(params, ml_configs)\n",
                "\n",
                "# overwrite mlp_params via command line arguments from papermill\n",
                "mlp_params.CELL_TYPE = CELL_TYPE\n",
                "mlp_params.MODEL_NAME = MODEL_NAME\n",
                "mlp_params.CONTROL_NAME = CONTROL_NAME\n",
                "mlp_params.TREATMENT_NAME = TREATMENT_NAME\n",
                "mlp_params.MODEL_NAME = MODEL_NAME\n",
                "mlp_params.SHUFFLE = SHUFFLE"
            ]
        },
        {
            "cell_type": "code",
            "execution_count": 5,
            "id": "eed3021f",
            "metadata": {
                "execution": {
                    "iopub.execute_input": "2023-09-18T19:27:19.796947Z",
                    "iopub.status.busy": "2023-09-18T19:27:19.796750Z",
                    "iopub.status.idle": "2023-09-18T19:27:21.592553Z",
                    "shell.execute_reply": "2023-09-18T19:27:21.592018Z"
                },
                "papermill": {
                    "duration": 1.800296,
                    "end_time": "2023-09-18T19:27:21.594368",
                    "exception": false,
                    "start_time": "2023-09-18T19:27:19.794072",
                    "status": "completed"
                },
                "tags": []
            },
            "outputs": [],
            "source": [
                "# Import Data\n",
                "# set data file path under pathlib path for multi-system use\n",
                "file_path = pathlib.Path(\n",
                "    f\"../../../data/{mlp_params.CELL_TYPE}_preprocessed_sc_norm.parquet\"\n",
                ").resolve(strict=True)\n",
                "\n",
                "df = pq.read_table(file_path).to_pandas()"
            ]
        },
        {
            "cell_type": "code",
            "execution_count": 6,
            "id": "bfe1e780",
            "metadata": {
                "execution": {
                    "iopub.execute_input": "2023-09-18T19:27:21.601666Z",
                    "iopub.status.busy": "2023-09-18T19:27:21.601283Z",
                    "iopub.status.idle": "2023-09-18T19:27:21.610218Z",
                    "shell.execute_reply": "2023-09-18T19:27:21.609813Z"
                },
                "papermill": {
                    "duration": 0.013007,
                    "end_time": "2023-09-18T19:27:21.611141",
                    "exception": false,
                    "start_time": "2023-09-18T19:27:21.598134",
                    "status": "completed"
                },
                "tags": []
            },
            "outputs": [],
            "source": [
                "def test_loop(df, output_name, title, mlp_params):\n",
                "    # Code snippet for metadata extraction by Jenna Tomkinson\n",
                "    df_metadata = list(df.columns[df.columns.str.startswith(\"Metadata\")])\n",
                "\n",
                "    # define which columns are data and which are descriptive\n",
                "    df_descriptive = df[df_metadata]\n",
                "    df_values = df.drop(columns=df_metadata)\n",
                "    # Creating label encoder\n",
                "    le = preprocessing.LabelEncoder()\n",
                "    # Converting strings into numbers\n",
                "    print(df_values[\"oneb_Metadata_Treatment_Dose_Inhibitor_Dose\"].unique().tolist())\n",
                "    lst_of_treatments = (\n",
                "        df_values[\"oneb_Metadata_Treatment_Dose_Inhibitor_Dose\"].unique().tolist()\n",
                "    )\n",
                "\n",
                "    df_values[\"oneb_Metadata_Treatment_Dose_Inhibitor_Dose\"] = le.fit_transform(\n",
                "        df_values[\"oneb_Metadata_Treatment_Dose_Inhibitor_Dose\"]\n",
                "    )\n",
                "    print(df_values[\"oneb_Metadata_Treatment_Dose_Inhibitor_Dose\"].unique().tolist())\n",
                "    lst_of_coded_treatments = (\n",
                "        df_values[\"oneb_Metadata_Treatment_Dose_Inhibitor_Dose\"].unique().tolist()\n",
                "    )\n",
                "    # make a dictionary of the treatments and their corresponding codes to decode later\n",
                "    dict_of_treatments = {}\n",
                "    for i, j in zip(\n",
                "        lst_of_coded_treatments,\n",
                "        lst_of_treatments,\n",
                "    ):\n",
                "        dict_of_treatments[i] = j\n",
                "    # split into X and Y where Y are the predictive column and x are the observable data\n",
                "    df_values_X = df_values.drop(\n",
                "        [\n",
                "            \"oneb_Metadata_Treatment_Dose_Inhibitor_Dose\",\n",
                "            \"twob_Metadata_Treatment_Dose_Inhibitor_Dose\",\n",
                "            \"threeb_Metadata_Treatment_Dose_Inhibitor_Dose\",\n",
                "            \"fourb_Metadata_Treatment_Dose_Inhibitor_Dose\",\n",
                "        ],\n",
                "        axis=1,\n",
                "    )\n",
                "    df_values_Y = df_values[\"oneb_Metadata_Treatment_Dose_Inhibitor_Dose\"]\n",
                "    test_data = Dataset_formatter(\n",
                "        torch.FloatTensor(df_values_X.values), torch.FloatTensor(df_values_Y.values)\n",
                "    )\n",
                "\n",
                "    mlp_params.IN_FEATURES = df_values_X.shape[1]\n",
                "    print(\"Number of in features: \", mlp_params.IN_FEATURES)\n",
                "    if mlp_params.MODEL_TYPE == \"Regression\":\n",
                "        mlp_params.OUT_FEATURES = 1\n",
                "    else:\n",
                "        mlp_params.OUT_FEATURES = len(\n",
                "            df_values[\"oneb_Metadata_Treatment_Dose_Inhibitor_Dose\"].unique()\n",
                "        )\n",
                "\n",
                "    print(\"Number of out features: \", mlp_params.OUT_FEATURES)\n",
                "\n",
                "    if mlp_params.OUT_FEATURES > 2:\n",
                "        mlp_params.MODEL_TYPE = \"Multi_Class\"\n",
                "    elif mlp_params.OUT_FEATURES == 2:\n",
                "        mlp_params.OUT_FEATURES = mlp_params.OUT_FEATURES - 1\n",
                "        mlp_params.MODEL_TYPE = \"Binary_Classification\"\n",
                "    elif mlp_params.OUT_FEATURES == 1:\n",
                "        mlp_params.MODEL_TYPE = \"Regression\"\n",
                "    else:\n",
                "        pass\n",
                "    # convert data class into a dataloader to be compatible with pytorch\n",
                "    test_loader = torch.utils.data.DataLoader(\n",
                "        dataset=test_data, batch_size=1, shuffle=mlp_params.SHUFFLE\n",
                "    )\n",
                "    model, _ = optimized_model_create(mlp_params, mlp_params.MODEL_NAME)\n",
                "    # calling the testing function and outputting list values of tested model\n",
                "    if mlp_params.MODEL_TYPE == \"Multi_Class\" or mlp_params.MODEL_TYPE == \"Regression\":\n",
                "        y_pred_list = test_optimized_model(\n",
                "            model,\n",
                "            test_loader,\n",
                "            mlp_params,\n",
                "            model_name=mlp_params.MODEL_NAME,\n",
                "            shuffle=mlp_params.SHUFFLE,\n",
                "        )\n",
                "    elif mlp_params.MODEL_TYPE == \"Binary_Classification\":\n",
                "        y_pred_list, y_pred_prob_list = test_optimized_model(\n",
                "            model,\n",
                "            test_loader,\n",
                "            mlp_params,\n",
                "            model_name=mlp_params.MODEL_NAME,\n",
                "            shuffle=mlp_params.SHUFFLE,\n",
                "        )\n",
                "    else:\n",
                "        raise Exception(\"Model type must be specified for proper model testing\")\n",
                "\n",
                "    # un-nest list if nested i.e. length of input data does not match length of output data\n",
                "    if len(y_pred_list) != len(df_values_Y):\n",
                "        y_pred_list = un_nest(y_pred_list)\n",
                "        y_pred_prob_list = un_nest(y_pred_prob_list)\n",
                "    else:\n",
                "        pass\n",
                "\n",
                "    stats, recall, precision, f1, precision_, recall_, threshold_ = output_stats(\n",
                "        y_pred_list,\n",
                "        df_values_Y,\n",
                "        mlp_params,\n",
                "        y_pred_prob_list,\n",
                "        test_name=f\"{output_name}_all_testing\",\n",
                "        model_name=mlp_params.MODEL_NAME,\n",
                "        title=title,\n",
                "        shuffle=mlp_params.SHUFFLE,\n",
                "    )\n",
                "    return (\n",
                "        stats,\n",
                "        recall,\n",
                "        precision,\n",
                "        f1,\n",
                "        precision_,\n",
                "        recall_,\n",
                "        threshold_,\n",
                "        dict_of_treatments,\n",
                "    )"
            ]
        },
        {
            "cell_type": "code",
            "execution_count": 7,
            "id": "42485ec2",
            "metadata": {
                "execution": {
                    "iopub.execute_input": "2023-09-18T19:27:21.616248Z",
                    "iopub.status.busy": "2023-09-18T19:27:21.615836Z",
                    "iopub.status.idle": "2023-09-18T19:27:21.648783Z",
                    "shell.execute_reply": "2023-09-18T19:27:21.648388Z"
                },
                "papermill": {
                    "duration": 0.036576,
                    "end_time": "2023-09-18T19:27:21.649741",
                    "exception": false,
                    "start_time": "2023-09-18T19:27:21.613165",
                    "status": "completed"
                },
                "tags": []
            },
            "outputs": [
                {
                    "name": "stdout",
                    "output_type": "stream",
                    "text": [
                        "['media_ctr_0_Media_ctr_0.0', 'DMSO_0.100_DMSO_1.0', 'DMSO_0.100_Z-VAD-FMK_100.0', 'DMSO_0.100_Z-VAD-FMK_30.0', 'DMSO_0.100_DMSO_0.025', 'Thapsigargin_1.000_DMSO_0.025', 'Thapsigargin_10.000_DMSO_0.025', 'Topotecan_5.000_DMSO_0.025', 'Topotecan_10.000_DMSO_0.025', 'Topotecan_20.000_DMSO_0.025', 'LPS_0.010_DMSO_0.025', 'LPS_0.100_DMSO_0.025', 'LPS_1.000_DMSO_0.025', 'LPS_10.000_DMSO_0.025', 'LPS_10.000_Disulfiram_0.1', 'LPS_10.000_Disulfiram_1.0', 'LPS_10.000_Disulfiram_2.5', 'LPS_Nigericin_100.000_1.0_DMSO_0.025', 'LPS_Nigericin_100.000_3.0_DMSO_0.025', 'LPS_Nigericin_100.000_10.0_DMSO_0.025', 'Disulfiram_0.100_DMSO_0.025', 'Disulfiram_1.000_DMSO_0.025', 'Disulfiram_2.500_DMSO_0.025', 'H2O2_100.000_DMSO_0.025', 'LPS_10.000_Z-VAD-FMK_100.0', 'LPS_100.000_DMSO_0.025', 'LPS_Nigericin_1.000_1.0_DMSO_0.025', 'LPS_Nigericin_1.000_3.0_DMSO_0.025', 'LPS_Nigericin_1.000_10.0_DMSO_0.025', 'LPS_Nigericin_1.000_10.0_Disulfiram_1.0', 'LPS_Nigericin_1.000_10.0_Z-VAD-FMK_100.0', 'H2O2_100.000_Disulfiram_1.0', 'H2O2_100.000_Z-VAD-FMK_100.0', 'Flagellin_0.100_DMSO_0.025', 'Flagellin_1.000_DMSO_0.025', 'Flagellin_1.000_Disulfiram_1.0']\n"
                    ]
                }
            ],
            "source": [
                "print(df[\"oneb_Metadata_Treatment_Dose_Inhibitor_Dose\"].unique().tolist())"
            ]
        },
        {
            "cell_type": "code",
            "execution_count": 8,
            "id": "6d720af4",
            "metadata": {
                "execution": {
                    "iopub.execute_input": "2023-09-18T19:27:21.655116Z",
                    "iopub.status.busy": "2023-09-18T19:27:21.654634Z",
                    "iopub.status.idle": "2023-09-18T19:27:21.658554Z",
                    "shell.execute_reply": "2023-09-18T19:27:21.658169Z"
                },
                "papermill": {
                    "duration": 0.007563,
                    "end_time": "2023-09-18T19:27:21.659427",
                    "exception": false,
                    "start_time": "2023-09-18T19:27:21.651864",
                    "status": "completed"
                },
                "tags": []
            },
            "outputs": [],
            "source": [
                "paired_treatment_list = [\n",
                "    [\"DMSO_0.100_DMSO_0.025\", \"LPS_100.000_DMSO_0.025\"],\n",
                "    [\"DMSO_0.100_DMSO_0.025\", \"Thapsigargin_1.000_DMSO_0.025\"],\n",
                "    [\"DMSO_0.100_DMSO_0.025\", \"Thapsigargin_10.000_DMSO_0.025\"],\n",
                "    [\"DMSO_0.100_DMSO_0.025\", \"LPS_0.100_DMSO_0.025\"],\n",
                "    [\"DMSO_0.100_DMSO_0.025\", \"LPS_1.000_DMSO_0.025\"],\n",
                "    [\"DMSO_0.100_DMSO_0.025\", \"LPS_10.000_DMSO_0.025\"],\n",
                "    [\"DMSO_0.100_DMSO_0.025\", \"LPS_100.000_DMSO_0.025\"],\n",
                "    [\"DMSO_0.100_DMSO_0.025\", \"Flagellin_0.100_DMSO_0.025\"],\n",
                "    [\"DMSO_0.100_DMSO_0.025\", \"Flagellin_1.000_DMSO_0.025\"],\n",
                "    [\"DMSO_0.100_DMSO_0.025\", \"Flagellin_1.000_Disulfiram_1.0\"],\n",
                "    [\"DMSO_0.100_DMSO_0.025\", \"LPS_Nigericin_100.000_1.0_DMSO_0.025\"],\n",
                "    [\"DMSO_0.100_DMSO_0.025\", \"LPS_Nigericin_100.000_3.0_DMSO_0.025\"],\n",
                "    [\"DMSO_0.100_DMSO_0.025\", \"LPS_Nigericin_100.000_10.0_DMSO_0.025\"],\n",
                "    [\"DMSO_0.100_DMSO_0.025\", \"LPS_Nigericin_1.000_1.0_DMSO_0.025\"],\n",
                "    [\"DMSO_0.100_DMSO_0.025\", \"LPS_Nigericin_1.000_3.0_DMSO_0.025\"],\n",
                "    [\"DMSO_0.100_DMSO_0.025\", \"LPS_Nigericin_1.000_10.0_DMSO_0.025\"],\n",
                "    [\"DMSO_0.100_DMSO_0.025\", \"H2O2_100.000_Z-VAD-FMK_100.0\"],\n",
                "    [\"DMSO_0.100_DMSO_0.025\", \"H2O2_100.000_DMSO_0.025\"],\n",
                "    [\"LPS_100.000_DMSO_0.025\", \"Thapsigargin_1.000_DMSO_0.025\"],\n",
                "    [\"LPS_100.000_DMSO_0.025\", \"Thapsigargin_10.000_DMSO_0.025\"],\n",
                "    [\"LPS_10.000_DMSO_0.025\", \"Thapsigargin_1.000_DMSO_0.025\"],\n",
                "    [\"LPS_10.000_DMSO_0.025\", \"Thapsigargin_10.000_DMSO_0.025\"],\n",
                "    [\"LPS_1.000_DMSO_0.025\", \"Thapsigargin_1.000_DMSO_0.025\"],\n",
                "    [\"LPS_1.000_DMSO_0.025\", \"Thapsigargin_10.000_DMSO_0.025\"],\n",
                "    [\"LPS_0.100_DMSO_0.025\", \"Thapsigargin_1.000_DMSO_0.025\"],\n",
                "    [\"LPS_0.100_DMSO_0.025\", \"Thapsigargin_10.000_DMSO_0.025\"],\n",
                "    [\"LPS_0.010_DMSO_0.025\", \"Thapsigargin_1.000_DMSO_0.025\"],\n",
                "    [\"LPS_0.010_DMSO_0.025\", \"Thapsigargin_10.000_DMSO_0.025\"],\n",
                "]"
            ]
        },
        {
            "cell_type": "code",
            "execution_count": 9,
            "id": "cc1c3ba3",
            "metadata": {
                "execution": {
                    "iopub.execute_input": "2023-09-18T19:27:21.664387Z",
                    "iopub.status.busy": "2023-09-18T19:27:21.664127Z",
                    "iopub.status.idle": "2023-09-18T19:27:21.674895Z",
                    "shell.execute_reply": "2023-09-18T19:27:21.674520Z"
                },
                "papermill": {
                    "duration": 0.014218,
                    "end_time": "2023-09-18T19:27:21.675781",
                    "exception": false,
                    "start_time": "2023-09-18T19:27:21.661563",
                    "status": "completed"
                },
                "tags": []
            },
            "outputs": [
                {
                    "data": {
                        "text/html": [
                            "<div>\n",
                            "<style scoped>\n",
                            "    .dataframe tbody tr th:only-of-type {\n",
                            "        vertical-align: middle;\n",
                            "    }\n",
                            "\n",
                            "    .dataframe tbody tr th {\n",
                            "        vertical-align: top;\n",
                            "    }\n",
                            "\n",
                            "    .dataframe thead th {\n",
                            "        text-align: right;\n",
                            "    }\n",
                            "</style>\n",
                            "<table border=\"1\" class=\"dataframe\">\n",
                            "  <thead>\n",
                            "    <tr style=\"text-align: right;\">\n",
                            "      <th></th>\n",
                            "      <th>treatments_tested</th>\n",
                            "      <th>model</th>\n",
                            "      <th>group</th>\n",
                            "      <th>shuffled_data</th>\n",
                            "      <th>PR_Threshold</th>\n",
                            "      <th>Precision</th>\n",
                            "      <th>Recall</th>\n",
                            "    </tr>\n",
                            "  </thead>\n",
                            "  <tbody>\n",
                            "  </tbody>\n",
                            "</table>\n",
                            "</div>"
                        ],
                        "text/plain": [
                            "Empty DataFrame\n",
                            "Columns: [treatments_tested, model, group, shuffled_data, PR_Threshold, Precision, Recall]\n",
                            "Index: []"
                        ]
                    },
                    "execution_count": 9,
                    "metadata": {},
                    "output_type": "execute_result"
                }
            ],
            "source": [
                "# create a dataframe to store the model stats\n",
                "model_stats_df = pd.DataFrame(\n",
                "    columns=[\n",
                "        \"treatments_tested\",\n",
                "        \"model\",\n",
                "        \"group\",\n",
                "        \"shuffled_data\",\n",
                "        \"PR_Threshold\",\n",
                "        \"Precision\",\n",
                "        \"Recall\",\n",
                "    ]\n",
                ")\n",
                "model_stats_df"
            ]
        },
        {
            "cell_type": "code",
            "execution_count": 10,
            "id": "f1b0c095",
            "metadata": {
                "execution": {
                    "iopub.execute_input": "2023-09-18T19:27:21.681330Z",
                    "iopub.status.busy": "2023-09-18T19:27:21.680847Z",
                    "iopub.status.idle": "2023-09-18T19:29:52.174910Z",
                    "shell.execute_reply": "2023-09-18T19:29:52.174414Z"
                },
                "papermill": {
                    "duration": 150.497879,
                    "end_time": "2023-09-18T19:29:52.175873",
                    "exception": false,
                    "start_time": "2023-09-18T19:27:21.677994",
                    "status": "completed"
                },
                "tags": []
            },
            "outputs": [
                {
                    "name": "stdout",
                    "output_type": "stream",
                    "text": [
                        "DMSO_0.100_DMSO_0.025__LPS_100.000_DMSO_0.025\n",
                        "DMSO vs LPS__100.000\n",
                        "['DMSO_0.100_DMSO_0.025', 'LPS_100.000_DMSO_0.025']\n",
                        "[0, 1]\n",
                        "Number of in features:  1251\n",
                        "Number of out features:  2\n",
                        "DMSO_0.100_DMSO_0.025_vs_LPS_100.000_DMSO_0.025_shuffle\n",
                        "../../trained_models/model_save_states/Binary_Classification/SHSY5Y\n",
                        "DMSO_0.100_DMSO_0.025_vs_LPS_100.000_DMSO_0.025_shuffle\n",
                        "              precision    recall  f1-score   support\n",
                        "\n",
                        "           0       0.69      0.69      0.69     35643\n",
                        "           1       0.31      0.31      0.31     15987\n",
                        "\n",
                        "    accuracy                           0.57     51630\n",
                        "   macro avg       0.50      0.50      0.50     51630\n",
                        "weighted avg       0.57      0.57      0.57     51630\n",
                        "\n",
                        "0.3102520798148496 0.3090342679127726 0.3096419764647127\n",
                        "DMSO_0.100_DMSO_0.025__Thapsigargin_1.000_DMSO_0.025\n",
                        "DMSO vs Thapsigargin__1.000\n",
                        "['DMSO_0.100_DMSO_0.025', 'Thapsigargin_1.000_DMSO_0.025']\n",
                        "[0, 1]\n",
                        "Number of in features:  1251\n",
                        "Number of out features:  2\n",
                        "DMSO_0.100_DMSO_0.025_vs_LPS_100.000_DMSO_0.025_shuffle\n",
                        "../../trained_models/model_save_states/Binary_Classification/SHSY5Y\n",
                        "DMSO_0.100_DMSO_0.025_vs_LPS_100.000_DMSO_0.025_shuffle\n",
                        "              precision    recall  f1-score   support\n",
                        "\n",
                        "           0       0.72      0.97      0.83     35643\n",
                        "           1       0.29      0.03      0.05     13766\n",
                        "\n",
                        "    accuracy                           0.71     49409\n",
                        "   macro avg       0.51      0.50      0.44     49409\n",
                        "weighted avg       0.60      0.71      0.61     49409\n",
                        "\n",
                        "0.02876652622403022 0.2907488986784141 0.052353252247488095\n"
                    ]
                },
                {
                    "name": "stderr",
                    "output_type": "stream",
                    "text": [
                        "/tmp/ipykernel_1813769/4170310430.py:44: FutureWarning: In a future version, object-dtype columns with all-bool values will not be included in reductions with bool_only=True. Explicitly cast to bool dtype instead.\n",
                        "  model_stats_df = pd.concat([model_stats_df, stats_df], axis=0)\n"
                    ]
                },
                {
                    "name": "stdout",
                    "output_type": "stream",
                    "text": [
                        "DMSO_0.100_DMSO_0.025__Thapsigargin_10.000_DMSO_0.025\n",
                        "DMSO vs Thapsigargin__10.000\n",
                        "['DMSO_0.100_DMSO_0.025', 'Thapsigargin_10.000_DMSO_0.025']\n",
                        "[0, 1]\n",
                        "Number of in features:  1251\n",
                        "Number of out features:  2\n",
                        "DMSO_0.100_DMSO_0.025_vs_LPS_100.000_DMSO_0.025_shuffle\n",
                        "../../trained_models/model_save_states/Binary_Classification/SHSY5Y\n",
                        "DMSO_0.100_DMSO_0.025_vs_LPS_100.000_DMSO_0.025_shuffle\n",
                        "              precision    recall  f1-score   support\n",
                        "\n",
                        "           0       0.73      0.97      0.83     35643\n",
                        "           1       0.26      0.03      0.05     13212\n",
                        "\n",
                        "    accuracy                           0.72     48855\n",
                        "   macro avg       0.50      0.50      0.44     48855\n",
                        "weighted avg       0.60      0.72      0.62     48855\n",
                        "\n",
                        "0.02512867090523766 0.2637013502779984 0.045884873194665186\n"
                    ]
                },
                {
                    "name": "stderr",
                    "output_type": "stream",
                    "text": [
                        "/tmp/ipykernel_1813769/4170310430.py:44: FutureWarning: In a future version, object-dtype columns with all-bool values will not be included in reductions with bool_only=True. Explicitly cast to bool dtype instead.\n",
                        "  model_stats_df = pd.concat([model_stats_df, stats_df], axis=0)\n"
                    ]
                },
                {
                    "name": "stdout",
                    "output_type": "stream",
                    "text": [
                        "DMSO_0.100_DMSO_0.025__LPS_0.100_DMSO_0.025\n",
                        "DMSO vs LPS__0.100\n",
                        "['DMSO_0.100_DMSO_0.025', 'LPS_0.100_DMSO_0.025']\n",
                        "[0, 1]\n",
                        "Number of in features:  1251\n",
                        "Number of out features:  2\n",
                        "DMSO_0.100_DMSO_0.025_vs_LPS_100.000_DMSO_0.025_shuffle\n",
                        "../../trained_models/model_save_states/Binary_Classification/SHSY5Y\n",
                        "DMSO_0.100_DMSO_0.025_vs_LPS_100.000_DMSO_0.025_shuffle\n",
                        "              precision    recall  f1-score   support\n",
                        "\n",
                        "           0       0.67      0.97      0.79     35643\n",
                        "           1       0.33      0.03      0.06     17510\n",
                        "\n",
                        "    accuracy                           0.66     53153\n",
                        "   macro avg       0.50      0.50      0.43     53153\n",
                        "weighted avg       0.56      0.66      0.55     53153\n",
                        "\n",
                        "0.03409480296973158 0.3325905292479109 0.06184926184926185\n"
                    ]
                },
                {
                    "name": "stderr",
                    "output_type": "stream",
                    "text": [
                        "/tmp/ipykernel_1813769/4170310430.py:44: FutureWarning: In a future version, object-dtype columns with all-bool values will not be included in reductions with bool_only=True. Explicitly cast to bool dtype instead.\n",
                        "  model_stats_df = pd.concat([model_stats_df, stats_df], axis=0)\n"
                    ]
                },
                {
                    "name": "stdout",
                    "output_type": "stream",
                    "text": [
                        "DMSO_0.100_DMSO_0.025__LPS_1.000_DMSO_0.025\n",
                        "DMSO vs LPS__1.000\n",
                        "['DMSO_0.100_DMSO_0.025', 'LPS_1.000_DMSO_0.025']\n",
                        "[0, 1]\n",
                        "Number of in features:  1251\n",
                        "Number of out features:  2\n",
                        "DMSO_0.100_DMSO_0.025_vs_LPS_100.000_DMSO_0.025_shuffle\n",
                        "../../trained_models/model_save_states/Binary_Classification/SHSY5Y\n",
                        "DMSO_0.100_DMSO_0.025_vs_LPS_100.000_DMSO_0.025_shuffle\n",
                        "              precision    recall  f1-score   support\n",
                        "\n",
                        "           0       0.68      0.97      0.80     35643\n",
                        "           1       0.32      0.03      0.06     16458\n",
                        "\n",
                        "    accuracy                           0.67     52101\n",
                        "   macro avg       0.50      0.50      0.43     52101\n",
                        "weighted avg       0.57      0.67      0.57     52101\n",
                        "\n",
                        "0.03147405517073763 0.315468940316687 0.05723756906077348\n"
                    ]
                },
                {
                    "name": "stderr",
                    "output_type": "stream",
                    "text": [
                        "/tmp/ipykernel_1813769/4170310430.py:44: FutureWarning: In a future version, object-dtype columns with all-bool values will not be included in reductions with bool_only=True. Explicitly cast to bool dtype instead.\n",
                        "  model_stats_df = pd.concat([model_stats_df, stats_df], axis=0)\n"
                    ]
                },
                {
                    "name": "stdout",
                    "output_type": "stream",
                    "text": [
                        "DMSO_0.100_DMSO_0.025__LPS_10.000_DMSO_0.025\n",
                        "DMSO vs LPS__10.000\n",
                        "['DMSO_0.100_DMSO_0.025', 'LPS_10.000_DMSO_0.025']\n",
                        "[0, 1]\n",
                        "Number of in features:  1251\n",
                        "Number of out features:  2\n",
                        "DMSO_0.100_DMSO_0.025_vs_LPS_100.000_DMSO_0.025_shuffle\n",
                        "../../trained_models/model_save_states/Binary_Classification/SHSY5Y\n",
                        "DMSO_0.100_DMSO_0.025_vs_LPS_100.000_DMSO_0.025_shuffle\n",
                        "              precision    recall  f1-score   support\n",
                        "\n",
                        "           0       0.68      0.97      0.80     35643\n",
                        "           1       0.32      0.03      0.06     16810\n",
                        "\n",
                        "    accuracy                           0.67     52453\n",
                        "   macro avg       0.50      0.50      0.43     52453\n",
                        "weighted avg       0.56      0.67      0.56     52453\n",
                        "\n",
                        "0.03271861986912552 0.31554790590935167 0.05928960275966151\n"
                    ]
                },
                {
                    "name": "stderr",
                    "output_type": "stream",
                    "text": [
                        "/tmp/ipykernel_1813769/4170310430.py:44: FutureWarning: In a future version, object-dtype columns with all-bool values will not be included in reductions with bool_only=True. Explicitly cast to bool dtype instead.\n",
                        "  model_stats_df = pd.concat([model_stats_df, stats_df], axis=0)\n"
                    ]
                },
                {
                    "name": "stdout",
                    "output_type": "stream",
                    "text": [
                        "DMSO_0.100_DMSO_0.025__LPS_100.000_DMSO_0.025\n",
                        "DMSO vs LPS__100.000\n",
                        "['DMSO_0.100_DMSO_0.025', 'LPS_100.000_DMSO_0.025']\n",
                        "[0, 1]\n",
                        "Number of in features:  1251\n",
                        "Number of out features:  2\n",
                        "DMSO_0.100_DMSO_0.025_vs_LPS_100.000_DMSO_0.025_shuffle\n",
                        "../../trained_models/model_save_states/Binary_Classification/SHSY5Y\n",
                        "DMSO_0.100_DMSO_0.025_vs_LPS_100.000_DMSO_0.025_shuffle\n",
                        "              precision    recall  f1-score   support\n",
                        "\n",
                        "           0       0.69      0.69      0.69     35643\n",
                        "           1       0.31      0.31      0.31     15987\n",
                        "\n",
                        "    accuracy                           0.57     51630\n",
                        "   macro avg       0.50      0.50      0.50     51630\n",
                        "weighted avg       0.57      0.57      0.57     51630\n",
                        "\n",
                        "0.31144054544317257 0.31021806853582556 0.3108281050035896\n"
                    ]
                },
                {
                    "name": "stderr",
                    "output_type": "stream",
                    "text": [
                        "/tmp/ipykernel_1813769/4170310430.py:44: FutureWarning: In a future version, object-dtype columns with all-bool values will not be included in reductions with bool_only=True. Explicitly cast to bool dtype instead.\n",
                        "  model_stats_df = pd.concat([model_stats_df, stats_df], axis=0)\n"
                    ]
                },
                {
                    "name": "stdout",
                    "output_type": "stream",
                    "text": [
                        "DMSO_0.100_DMSO_0.025__Flagellin_0.100_DMSO_0.025\n",
                        "DMSO vs Flagellin__0.100\n",
                        "['DMSO_0.100_DMSO_0.025', 'Flagellin_0.100_DMSO_0.025']\n",
                        "[0, 1]\n",
                        "Number of in features:  1251\n",
                        "Number of out features:  2\n",
                        "DMSO_0.100_DMSO_0.025_vs_LPS_100.000_DMSO_0.025_shuffle\n",
                        "../../trained_models/model_save_states/Binary_Classification/SHSY5Y\n",
                        "DMSO_0.100_DMSO_0.025_vs_LPS_100.000_DMSO_0.025_shuffle\n",
                        "              precision    recall  f1-score   support\n",
                        "\n",
                        "           0       0.70      0.97      0.82     35643\n",
                        "           1       0.28      0.03      0.05     14928\n",
                        "\n",
                        "    accuracy                           0.69     50571\n",
                        "   macro avg       0.49      0.50      0.43     50571\n",
                        "weighted avg       0.58      0.69      0.59     50571\n",
                        "\n",
                        "0.029139871382636656 0.283203125 0.05284256559766764\n"
                    ]
                },
                {
                    "name": "stderr",
                    "output_type": "stream",
                    "text": [
                        "/tmp/ipykernel_1813769/4170310430.py:44: FutureWarning: In a future version, object-dtype columns with all-bool values will not be included in reductions with bool_only=True. Explicitly cast to bool dtype instead.\n",
                        "  model_stats_df = pd.concat([model_stats_df, stats_df], axis=0)\n"
                    ]
                },
                {
                    "name": "stdout",
                    "output_type": "stream",
                    "text": [
                        "DMSO_0.100_DMSO_0.025__Flagellin_1.000_DMSO_0.025\n",
                        "DMSO vs Flagellin__1.000\n",
                        "['DMSO_0.100_DMSO_0.025', 'Flagellin_1.000_DMSO_0.025']\n",
                        "[0, 1]\n",
                        "Number of in features:  1251\n",
                        "Number of out features:  2\n",
                        "DMSO_0.100_DMSO_0.025_vs_LPS_100.000_DMSO_0.025_shuffle\n",
                        "../../trained_models/model_save_states/Binary_Classification/SHSY5Y\n",
                        "DMSO_0.100_DMSO_0.025_vs_LPS_100.000_DMSO_0.025_shuffle\n",
                        "              precision    recall  f1-score   support\n",
                        "\n",
                        "           0       0.69      0.96      0.80     35643\n",
                        "           1       0.30      0.04      0.07     15809\n",
                        "\n",
                        "    accuracy                           0.68     51452\n",
                        "   macro avg       0.50      0.50      0.44     51452\n",
                        "weighted avg       0.57      0.68      0.58     51452\n",
                        "\n",
                        "0.03966095262192422 0.3045167557066537 0.07018132975151108\n"
                    ]
                },
                {
                    "name": "stderr",
                    "output_type": "stream",
                    "text": [
                        "/tmp/ipykernel_1813769/4170310430.py:44: FutureWarning: In a future version, object-dtype columns with all-bool values will not be included in reductions with bool_only=True. Explicitly cast to bool dtype instead.\n",
                        "  model_stats_df = pd.concat([model_stats_df, stats_df], axis=0)\n"
                    ]
                },
                {
                    "name": "stdout",
                    "output_type": "stream",
                    "text": [
                        "DMSO_0.100_DMSO_0.025__Flagellin_1.000_Disulfiram_1.0\n",
                        "DMSO vs Flagellin__1.000\n",
                        "['DMSO_0.100_DMSO_0.025', 'Flagellin_1.000_Disulfiram_1.0']\n",
                        "[0, 1]\n",
                        "Number of in features:  1251\n",
                        "Number of out features:  2\n",
                        "DMSO_0.100_DMSO_0.025_vs_LPS_100.000_DMSO_0.025_shuffle\n",
                        "../../trained_models/model_save_states/Binary_Classification/SHSY5Y\n",
                        "DMSO_0.100_DMSO_0.025_vs_LPS_100.000_DMSO_0.025_shuffle\n",
                        "              precision    recall  f1-score   support\n",
                        "\n",
                        "           0       0.73      0.96      0.83     35643\n",
                        "           1       0.27      0.04      0.07     12885\n",
                        "\n",
                        "    accuracy                           0.72     48528\n",
                        "   macro avg       0.50      0.50      0.45     48528\n",
                        "weighted avg       0.61      0.72      0.63     48528\n",
                        "\n",
                        "0.037252619324796274 0.269209197980931 0.06544859558221978\n"
                    ]
                },
                {
                    "name": "stderr",
                    "output_type": "stream",
                    "text": [
                        "/tmp/ipykernel_1813769/4170310430.py:44: FutureWarning: In a future version, object-dtype columns with all-bool values will not be included in reductions with bool_only=True. Explicitly cast to bool dtype instead.\n",
                        "  model_stats_df = pd.concat([model_stats_df, stats_df], axis=0)\n"
                    ]
                },
                {
                    "name": "stdout",
                    "output_type": "stream",
                    "text": [
                        "DMSO_0.100_DMSO_0.025__LPS_Nigericin_100.000_1.0_DMSO_0.025\n",
                        "DMSO vs LPS__Nigericin\n",
                        "['DMSO_0.100_DMSO_0.025', 'LPS_Nigericin_100.000_1.0_DMSO_0.025']\n",
                        "[0, 1]\n",
                        "Number of in features:  1251\n",
                        "Number of out features:  2\n",
                        "DMSO_0.100_DMSO_0.025_vs_LPS_100.000_DMSO_0.025_shuffle\n",
                        "../../trained_models/model_save_states/Binary_Classification/SHSY5Y\n",
                        "DMSO_0.100_DMSO_0.025_vs_LPS_100.000_DMSO_0.025_shuffle\n",
                        "              precision    recall  f1-score   support\n",
                        "\n",
                        "           0       0.71      0.78      0.74     35643\n",
                        "           1       0.29      0.22      0.25     14690\n",
                        "\n",
                        "    accuracy                           0.61     50333\n",
                        "   macro avg       0.50      0.50      0.49     50333\n",
                        "weighted avg       0.58      0.61      0.60     50333\n",
                        "\n",
                        "0.21688223281143634 0.28630481667864843 0.24680455496165465\n"
                    ]
                },
                {
                    "name": "stderr",
                    "output_type": "stream",
                    "text": [
                        "/tmp/ipykernel_1813769/4170310430.py:44: FutureWarning: In a future version, object-dtype columns with all-bool values will not be included in reductions with bool_only=True. Explicitly cast to bool dtype instead.\n",
                        "  model_stats_df = pd.concat([model_stats_df, stats_df], axis=0)\n"
                    ]
                },
                {
                    "name": "stdout",
                    "output_type": "stream",
                    "text": [
                        "DMSO_0.100_DMSO_0.025__LPS_Nigericin_100.000_3.0_DMSO_0.025\n",
                        "DMSO vs LPS__Nigericin\n",
                        "['DMSO_0.100_DMSO_0.025', 'LPS_Nigericin_100.000_3.0_DMSO_0.025']\n",
                        "[0, 1]\n",
                        "Number of in features:  1251\n",
                        "Number of out features:  2\n",
                        "DMSO_0.100_DMSO_0.025_vs_LPS_100.000_DMSO_0.025_shuffle\n",
                        "../../trained_models/model_save_states/Binary_Classification/SHSY5Y\n",
                        "DMSO_0.100_DMSO_0.025_vs_LPS_100.000_DMSO_0.025_shuffle\n",
                        "              precision    recall  f1-score   support\n",
                        "\n",
                        "           0       0.68      0.71      0.69     35643\n",
                        "           1       0.32      0.29      0.31     16726\n",
                        "\n",
                        "    accuracy                           0.58     52369\n",
                        "   macro avg       0.50      0.50      0.50     52369\n",
                        "weighted avg       0.57      0.58      0.57     52369\n",
                        "\n",
                        "0.2920004782972617 0.3192574192704929 0.3050212340744442\n"
                    ]
                },
                {
                    "name": "stderr",
                    "output_type": "stream",
                    "text": [
                        "/tmp/ipykernel_1813769/4170310430.py:44: FutureWarning: In a future version, object-dtype columns with all-bool values will not be included in reductions with bool_only=True. Explicitly cast to bool dtype instead.\n",
                        "  model_stats_df = pd.concat([model_stats_df, stats_df], axis=0)\n"
                    ]
                },
                {
                    "name": "stdout",
                    "output_type": "stream",
                    "text": [
                        "DMSO_0.100_DMSO_0.025__LPS_Nigericin_100.000_10.0_DMSO_0.025\n",
                        "DMSO vs LPS__Nigericin\n",
                        "['DMSO_0.100_DMSO_0.025', 'LPS_Nigericin_100.000_10.0_DMSO_0.025']\n",
                        "[0, 1]\n",
                        "Number of in features:  1251\n",
                        "Number of out features:  2\n",
                        "DMSO_0.100_DMSO_0.025_vs_LPS_100.000_DMSO_0.025_shuffle\n",
                        "../../trained_models/model_save_states/Binary_Classification/SHSY5Y\n",
                        "DMSO_0.100_DMSO_0.025_vs_LPS_100.000_DMSO_0.025_shuffle\n",
                        "              precision    recall  f1-score   support\n",
                        "\n",
                        "           0       0.72      0.71      0.72     35643\n",
                        "           1       0.27      0.28      0.27     13677\n",
                        "\n",
                        "    accuracy                           0.59     49320\n",
                        "   macro avg       0.50      0.50      0.50     49320\n",
                        "weighted avg       0.60      0.59      0.59     49320\n",
                        "\n",
                        "0.2776193609709732 0.27160228898426325 0.2745778645550855\n"
                    ]
                },
                {
                    "name": "stderr",
                    "output_type": "stream",
                    "text": [
                        "/tmp/ipykernel_1813769/4170310430.py:44: FutureWarning: In a future version, object-dtype columns with all-bool values will not be included in reductions with bool_only=True. Explicitly cast to bool dtype instead.\n",
                        "  model_stats_df = pd.concat([model_stats_df, stats_df], axis=0)\n"
                    ]
                },
                {
                    "name": "stdout",
                    "output_type": "stream",
                    "text": [
                        "DMSO_0.100_DMSO_0.025__LPS_Nigericin_1.000_1.0_DMSO_0.025\n",
                        "DMSO vs LPS__Nigericin\n",
                        "['DMSO_0.100_DMSO_0.025', 'LPS_Nigericin_1.000_1.0_DMSO_0.025']\n",
                        "[0, 1]\n",
                        "Number of in features:  1251\n",
                        "Number of out features:  2\n",
                        "DMSO_0.100_DMSO_0.025_vs_LPS_100.000_DMSO_0.025_shuffle\n",
                        "../../trained_models/model_save_states/Binary_Classification/SHSY5Y\n",
                        "DMSO_0.100_DMSO_0.025_vs_LPS_100.000_DMSO_0.025_shuffle\n",
                        "              precision    recall  f1-score   support\n",
                        "\n",
                        "           0       0.69      0.92      0.79     35643\n",
                        "           1       0.30      0.08      0.13     16218\n",
                        "\n",
                        "    accuracy                           0.66     51861\n",
                        "   macro avg       0.50      0.50      0.46     51861\n",
                        "weighted avg       0.57      0.66      0.58     51861\n",
                        "\n",
                        "0.0797878899987668 0.3046856604662114 0.1264598094307354\n"
                    ]
                },
                {
                    "name": "stderr",
                    "output_type": "stream",
                    "text": [
                        "/tmp/ipykernel_1813769/4170310430.py:44: FutureWarning: In a future version, object-dtype columns with all-bool values will not be included in reductions with bool_only=True. Explicitly cast to bool dtype instead.\n",
                        "  model_stats_df = pd.concat([model_stats_df, stats_df], axis=0)\n"
                    ]
                },
                {
                    "name": "stdout",
                    "output_type": "stream",
                    "text": [
                        "DMSO_0.100_DMSO_0.025__LPS_Nigericin_1.000_3.0_DMSO_0.025\n",
                        "DMSO vs LPS__Nigericin\n",
                        "['DMSO_0.100_DMSO_0.025', 'LPS_Nigericin_1.000_3.0_DMSO_0.025']\n",
                        "[0, 1]\n",
                        "Number of in features:  1251\n",
                        "Number of out features:  2\n",
                        "DMSO_0.100_DMSO_0.025_vs_LPS_100.000_DMSO_0.025_shuffle\n",
                        "../../trained_models/model_save_states/Binary_Classification/SHSY5Y\n",
                        "DMSO_0.100_DMSO_0.025_vs_LPS_100.000_DMSO_0.025_shuffle\n",
                        "              precision    recall  f1-score   support\n",
                        "\n",
                        "           0       0.72      0.79      0.76     35643\n",
                        "           1       0.28      0.21      0.24     13652\n",
                        "\n",
                        "    accuracy                           0.63     49295\n",
                        "   macro avg       0.50      0.50      0.50     49295\n",
                        "weighted avg       0.60      0.63      0.61     49295\n",
                        "\n",
                        "0.20531790213888074 0.2752356637863315 0.23519046819936232\n"
                    ]
                },
                {
                    "name": "stderr",
                    "output_type": "stream",
                    "text": [
                        "/tmp/ipykernel_1813769/4170310430.py:44: FutureWarning: In a future version, object-dtype columns with all-bool values will not be included in reductions with bool_only=True. Explicitly cast to bool dtype instead.\n",
                        "  model_stats_df = pd.concat([model_stats_df, stats_df], axis=0)\n"
                    ]
                },
                {
                    "name": "stdout",
                    "output_type": "stream",
                    "text": [
                        "DMSO_0.100_DMSO_0.025__LPS_Nigericin_1.000_10.0_DMSO_0.025\n",
                        "DMSO vs LPS__Nigericin\n",
                        "['DMSO_0.100_DMSO_0.025', 'LPS_Nigericin_1.000_10.0_DMSO_0.025']\n",
                        "[0, 1]\n",
                        "Number of in features:  1251\n",
                        "Number of out features:  2\n",
                        "DMSO_0.100_DMSO_0.025_vs_LPS_100.000_DMSO_0.025_shuffle\n",
                        "../../trained_models/model_save_states/Binary_Classification/SHSY5Y\n",
                        "DMSO_0.100_DMSO_0.025_vs_LPS_100.000_DMSO_0.025_shuffle\n",
                        "              precision    recall  f1-score   support\n",
                        "\n",
                        "           0       0.71      0.84      0.77     35643\n",
                        "           1       0.28      0.15      0.20     14402\n",
                        "\n",
                        "    accuracy                           0.64     50045\n",
                        "   macro avg       0.49      0.50      0.48     50045\n",
                        "weighted avg       0.59      0.64      0.61     50045\n",
                        "\n",
                        "0.1519927787807249 0.27913797500637594 0.19681711922316128\n"
                    ]
                },
                {
                    "name": "stderr",
                    "output_type": "stream",
                    "text": [
                        "/tmp/ipykernel_1813769/4170310430.py:44: FutureWarning: In a future version, object-dtype columns with all-bool values will not be included in reductions with bool_only=True. Explicitly cast to bool dtype instead.\n",
                        "  model_stats_df = pd.concat([model_stats_df, stats_df], axis=0)\n"
                    ]
                },
                {
                    "name": "stdout",
                    "output_type": "stream",
                    "text": [
                        "DMSO_0.100_DMSO_0.025__H2O2_100.000_Z-VAD-FMK_100.0\n",
                        "DMSO vs H2O2__100.000\n",
                        "['DMSO_0.100_DMSO_0.025', 'H2O2_100.000_Z-VAD-FMK_100.0']\n",
                        "[0, 1]\n",
                        "Number of in features:  1251\n",
                        "Number of out features:  2\n",
                        "DMSO_0.100_DMSO_0.025_vs_LPS_100.000_DMSO_0.025_shuffle\n",
                        "../../trained_models/model_save_states/Binary_Classification/SHSY5Y\n",
                        "DMSO_0.100_DMSO_0.025_vs_LPS_100.000_DMSO_0.025_shuffle\n",
                        "              precision    recall  f1-score   support\n",
                        "\n",
                        "           0       0.71      0.98      0.82     35643\n",
                        "           1       0.31      0.02      0.04     14747\n",
                        "\n",
                        "    accuracy                           0.70     50390\n",
                        "   macro avg       0.51      0.50      0.43     50390\n",
                        "weighted avg       0.59      0.70      0.59     50390\n",
                        "\n",
                        "0.021360276666440633 0.3073170731707317 0.039944204920111595\n"
                    ]
                },
                {
                    "name": "stderr",
                    "output_type": "stream",
                    "text": [
                        "/tmp/ipykernel_1813769/4170310430.py:44: FutureWarning: In a future version, object-dtype columns with all-bool values will not be included in reductions with bool_only=True. Explicitly cast to bool dtype instead.\n",
                        "  model_stats_df = pd.concat([model_stats_df, stats_df], axis=0)\n"
                    ]
                },
                {
                    "name": "stdout",
                    "output_type": "stream",
                    "text": [
                        "DMSO_0.100_DMSO_0.025__H2O2_100.000_DMSO_0.025\n",
                        "DMSO vs H2O2__100.000\n",
                        "['DMSO_0.100_DMSO_0.025', 'H2O2_100.000_DMSO_0.025']\n",
                        "[0, 1]\n",
                        "Number of in features:  1251\n",
                        "Number of out features:  2\n",
                        "DMSO_0.100_DMSO_0.025_vs_LPS_100.000_DMSO_0.025_shuffle\n",
                        "../../trained_models/model_save_states/Binary_Classification/SHSY5Y\n",
                        "DMSO_0.100_DMSO_0.025_vs_LPS_100.000_DMSO_0.025_shuffle\n",
                        "              precision    recall  f1-score   support\n",
                        "\n",
                        "           0       0.57      0.95      0.71     35643\n",
                        "           1       0.42      0.04      0.08     26900\n",
                        "\n",
                        "    accuracy                           0.56     62543\n",
                        "   macro avg       0.49      0.50      0.40     62543\n",
                        "weighted avg       0.51      0.56      0.44     62543\n",
                        "\n",
                        "0.04464684014869889 0.42051820728291317 0.0807232154859524\n"
                    ]
                },
                {
                    "name": "stderr",
                    "output_type": "stream",
                    "text": [
                        "/tmp/ipykernel_1813769/4170310430.py:44: FutureWarning: In a future version, object-dtype columns with all-bool values will not be included in reductions with bool_only=True. Explicitly cast to bool dtype instead.\n",
                        "  model_stats_df = pd.concat([model_stats_df, stats_df], axis=0)\n"
                    ]
                },
                {
                    "name": "stdout",
                    "output_type": "stream",
                    "text": [
                        "Thapsigargin_1.000_DMSO_0.025__LPS_100.000_DMSO_0.025\n",
                        "Thapsigargin vs LPS__100.000\n",
                        "['Thapsigargin_1.000_DMSO_0.025', 'LPS_100.000_DMSO_0.025']\n",
                        "[1, 0]\n",
                        "Number of in features:  1251\n",
                        "Number of out features:  2\n",
                        "DMSO_0.100_DMSO_0.025_vs_LPS_100.000_DMSO_0.025_shuffle\n",
                        "../../trained_models/model_save_states/Binary_Classification/SHSY5Y\n",
                        "DMSO_0.100_DMSO_0.025_vs_LPS_100.000_DMSO_0.025_shuffle\n",
                        "              precision    recall  f1-score   support\n",
                        "\n",
                        "           0       0.53      0.47      0.50     15987\n",
                        "           1       0.46      0.53      0.49     13766\n",
                        "\n",
                        "    accuracy                           0.49     29753\n",
                        "   macro avg       0.50      0.50      0.49     29753\n",
                        "weighted avg       0.50      0.49      0.49     29753\n",
                        "\n",
                        "0.5270957431352608 0.45953134895503484 0.49100013533631076\n",
                        "Thapsigargin_10.000_DMSO_0.025__LPS_100.000_DMSO_0.025\n",
                        "Thapsigargin vs LPS__100.000\n",
                        "['Thapsigargin_10.000_DMSO_0.025', 'LPS_100.000_DMSO_0.025']\n",
                        "[1, 0]\n"
                    ]
                },
                {
                    "name": "stderr",
                    "output_type": "stream",
                    "text": [
                        "/tmp/ipykernel_1813769/4170310430.py:44: FutureWarning: In a future version, object-dtype columns with all-bool values will not be included in reductions with bool_only=True. Explicitly cast to bool dtype instead.\n",
                        "  model_stats_df = pd.concat([model_stats_df, stats_df], axis=0)\n"
                    ]
                },
                {
                    "name": "stdout",
                    "output_type": "stream",
                    "text": [
                        "Number of in features:  1251\n",
                        "Number of out features:  2\n",
                        "DMSO_0.100_DMSO_0.025_vs_LPS_100.000_DMSO_0.025_shuffle\n",
                        "../../trained_models/model_save_states/Binary_Classification/SHSY5Y\n",
                        "DMSO_0.100_DMSO_0.025_vs_LPS_100.000_DMSO_0.025_shuffle\n",
                        "              precision    recall  f1-score   support\n",
                        "\n",
                        "           0       0.55      0.46      0.50     15987\n",
                        "           1       0.45      0.54      0.49     13212\n",
                        "\n",
                        "    accuracy                           0.50     29199\n",
                        "   macro avg       0.50      0.50      0.50     29199\n",
                        "weighted avg       0.51      0.50      0.50     29199\n",
                        "\n",
                        "0.5389040266424463 0.45387900809587556 0.4927506142081041\n",
                        "Thapsigargin_1.000_DMSO_0.025__LPS_10.000_DMSO_0.025\n",
                        "Thapsigargin vs LPS__10.000\n",
                        "['Thapsigargin_1.000_DMSO_0.025', 'LPS_10.000_DMSO_0.025']\n",
                        "[1, 0]\n"
                    ]
                },
                {
                    "name": "stderr",
                    "output_type": "stream",
                    "text": [
                        "/tmp/ipykernel_1813769/4170310430.py:44: FutureWarning: In a future version, object-dtype columns with all-bool values will not be included in reductions with bool_only=True. Explicitly cast to bool dtype instead.\n",
                        "  model_stats_df = pd.concat([model_stats_df, stats_df], axis=0)\n"
                    ]
                },
                {
                    "name": "stdout",
                    "output_type": "stream",
                    "text": [
                        "Number of in features:  1251\n",
                        "Number of out features:  2\n",
                        "DMSO_0.100_DMSO_0.025_vs_LPS_100.000_DMSO_0.025_shuffle\n",
                        "../../trained_models/model_save_states/Binary_Classification/SHSY5Y\n",
                        "DMSO_0.100_DMSO_0.025_vs_LPS_100.000_DMSO_0.025_shuffle\n",
                        "              precision    recall  f1-score   support\n",
                        "\n",
                        "           0       0.55      0.95      0.70     16810\n",
                        "           1       0.45      0.05      0.09     13766\n",
                        "\n",
                        "    accuracy                           0.54     30576\n",
                        "   macro avg       0.50      0.50      0.39     30576\n",
                        "weighted avg       0.50      0.54      0.42     30576\n",
                        "\n",
                        "0.048452709574313524 0.449763991908294 0.08748114630467571\n",
                        "Thapsigargin_10.000_DMSO_0.025__LPS_10.000_DMSO_0.025\n",
                        "Thapsigargin vs LPS__10.000\n",
                        "['Thapsigargin_10.000_DMSO_0.025', 'LPS_10.000_DMSO_0.025']\n",
                        "[1, 0]\n"
                    ]
                },
                {
                    "name": "stderr",
                    "output_type": "stream",
                    "text": [
                        "/tmp/ipykernel_1813769/4170310430.py:44: FutureWarning: In a future version, object-dtype columns with all-bool values will not be included in reductions with bool_only=True. Explicitly cast to bool dtype instead.\n",
                        "  model_stats_df = pd.concat([model_stats_df, stats_df], axis=0)\n"
                    ]
                },
                {
                    "name": "stdout",
                    "output_type": "stream",
                    "text": [
                        "Number of in features:  1251\n",
                        "Number of out features:  2\n",
                        "DMSO_0.100_DMSO_0.025_vs_LPS_100.000_DMSO_0.025_shuffle\n",
                        "../../trained_models/model_save_states/Binary_Classification/SHSY5Y\n",
                        "DMSO_0.100_DMSO_0.025_vs_LPS_100.000_DMSO_0.025_shuffle\n",
                        "              precision    recall  f1-score   support\n",
                        "\n",
                        "           0       0.56      0.95      0.71     16810\n",
                        "           1       0.45      0.05      0.08     13212\n",
                        "\n",
                        "    accuracy                           0.56     30022\n",
                        "   macro avg       0.50      0.50      0.40     30022\n",
                        "weighted avg       0.51      0.56      0.43     30022\n",
                        "\n",
                        "0.04692703602785347 0.4492753623188406 0.0849780701754386\n",
                        "Thapsigargin_1.000_DMSO_0.025__LPS_1.000_DMSO_0.025\n",
                        "Thapsigargin vs LPS__1.000\n",
                        "['Thapsigargin_1.000_DMSO_0.025', 'LPS_1.000_DMSO_0.025']\n",
                        "[1, 0]\n"
                    ]
                },
                {
                    "name": "stderr",
                    "output_type": "stream",
                    "text": [
                        "/tmp/ipykernel_1813769/4170310430.py:44: FutureWarning: In a future version, object-dtype columns with all-bool values will not be included in reductions with bool_only=True. Explicitly cast to bool dtype instead.\n",
                        "  model_stats_df = pd.concat([model_stats_df, stats_df], axis=0)\n"
                    ]
                },
                {
                    "name": "stdout",
                    "output_type": "stream",
                    "text": [
                        "Number of in features:  1251\n",
                        "Number of out features:  2\n",
                        "DMSO_0.100_DMSO_0.025_vs_LPS_100.000_DMSO_0.025_shuffle\n",
                        "../../trained_models/model_save_states/Binary_Classification/SHSY5Y\n",
                        "DMSO_0.100_DMSO_0.025_vs_LPS_100.000_DMSO_0.025_shuffle\n",
                        "              precision    recall  f1-score   support\n",
                        "\n",
                        "           0       0.54      0.95      0.69     16458\n",
                        "           1       0.44      0.04      0.08     13766\n",
                        "\n",
                        "    accuracy                           0.54     30224\n",
                        "   macro avg       0.49      0.50      0.39     30224\n",
                        "weighted avg       0.49      0.54      0.41     30224\n",
                        "\n",
                        "0.04373093127996513 0.4356005788712012 0.07948243992606284\n",
                        "Thapsigargin_10.000_DMSO_0.025__LPS_1.000_DMSO_0.025\n",
                        "Thapsigargin vs LPS__1.000\n"
                    ]
                },
                {
                    "name": "stderr",
                    "output_type": "stream",
                    "text": [
                        "/tmp/ipykernel_1813769/4170310430.py:44: FutureWarning: In a future version, object-dtype columns with all-bool values will not be included in reductions with bool_only=True. Explicitly cast to bool dtype instead.\n",
                        "  model_stats_df = pd.concat([model_stats_df, stats_df], axis=0)\n"
                    ]
                },
                {
                    "name": "stdout",
                    "output_type": "stream",
                    "text": [
                        "['Thapsigargin_10.000_DMSO_0.025', 'LPS_1.000_DMSO_0.025']\n",
                        "[1, 0]\n",
                        "Number of in features:  1251\n",
                        "Number of out features:  2\n",
                        "DMSO_0.100_DMSO_0.025_vs_LPS_100.000_DMSO_0.025_shuffle\n",
                        "../../trained_models/model_save_states/Binary_Classification/SHSY5Y\n",
                        "DMSO_0.100_DMSO_0.025_vs_LPS_100.000_DMSO_0.025_shuffle\n",
                        "              precision    recall  f1-score   support\n",
                        "\n",
                        "           0       0.55      0.96      0.70     16458\n",
                        "           1       0.43      0.04      0.08     13212\n",
                        "\n",
                        "    accuracy                           0.55     29670\n",
                        "   macro avg       0.49      0.50      0.39     29670\n",
                        "weighted avg       0.50      0.55      0.42     29670\n",
                        "\n",
                        "0.04178019981834696 0.43158717748240816 0.07618521841142778\n",
                        "Thapsigargin_1.000_DMSO_0.025__LPS_0.100_DMSO_0.025\n",
                        "Thapsigargin vs LPS__0.100\n",
                        "['Thapsigargin_1.000_DMSO_0.025', 'LPS_0.100_DMSO_0.025']\n",
                        "[1, 0]\n"
                    ]
                },
                {
                    "name": "stderr",
                    "output_type": "stream",
                    "text": [
                        "/tmp/ipykernel_1813769/4170310430.py:44: FutureWarning: In a future version, object-dtype columns with all-bool values will not be included in reductions with bool_only=True. Explicitly cast to bool dtype instead.\n",
                        "  model_stats_df = pd.concat([model_stats_df, stats_df], axis=0)\n"
                    ]
                },
                {
                    "name": "stdout",
                    "output_type": "stream",
                    "text": [
                        "Number of in features:  1251\n",
                        "Number of out features:  2\n",
                        "DMSO_0.100_DMSO_0.025_vs_LPS_100.000_DMSO_0.025_shuffle\n",
                        "../../trained_models/model_save_states/Binary_Classification/SHSY5Y\n",
                        "DMSO_0.100_DMSO_0.025_vs_LPS_100.000_DMSO_0.025_shuffle\n",
                        "              precision    recall  f1-score   support\n",
                        "\n",
                        "           0       0.56      0.95      0.70     17510\n",
                        "           1       0.43      0.05      0.09     13766\n",
                        "\n",
                        "    accuracy                           0.55     31276\n",
                        "   macro avg       0.50      0.50      0.40     31276\n",
                        "weighted avg       0.50      0.55      0.43     31276\n",
                        "\n",
                        "0.048162138602353625 0.4319218241042345 0.08666100254885302\n",
                        "Thapsigargin_10.000_DMSO_0.025__LPS_0.100_DMSO_0.025\n",
                        "Thapsigargin vs LPS__0.100\n",
                        "['Thapsigargin_10.000_DMSO_0.025', 'LPS_0.100_DMSO_0.025']\n"
                    ]
                },
                {
                    "name": "stderr",
                    "output_type": "stream",
                    "text": [
                        "/tmp/ipykernel_1813769/4170310430.py:44: FutureWarning: In a future version, object-dtype columns with all-bool values will not be included in reductions with bool_only=True. Explicitly cast to bool dtype instead.\n",
                        "  model_stats_df = pd.concat([model_stats_df, stats_df], axis=0)\n"
                    ]
                },
                {
                    "name": "stdout",
                    "output_type": "stream",
                    "text": [
                        "[1, 0]\n",
                        "Number of in features:  1251\n",
                        "Number of out features:  2\n",
                        "DMSO_0.100_DMSO_0.025_vs_LPS_100.000_DMSO_0.025_shuffle\n",
                        "../../trained_models/model_save_states/Binary_Classification/SHSY5Y\n",
                        "DMSO_0.100_DMSO_0.025_vs_LPS_100.000_DMSO_0.025_shuffle\n",
                        "              precision    recall  f1-score   support\n",
                        "\n",
                        "           0       0.57      0.95      0.71     17510\n",
                        "           1       0.45      0.05      0.09     13212\n",
                        "\n",
                        "    accuracy                           0.57     30722\n",
                        "   macro avg       0.51      0.50      0.40     30722\n",
                        "weighted avg       0.52      0.57      0.45     30722\n",
                        "\n",
                        "0.04874356645473812 0.44972067039106145 0.08795411089866156\n",
                        "Thapsigargin_1.000_DMSO_0.025__LPS_0.010_DMSO_0.025\n",
                        "Thapsigargin vs LPS__0.010\n",
                        "['Thapsigargin_1.000_DMSO_0.025', 'LPS_0.010_DMSO_0.025']\n",
                        "[1, 0]\n"
                    ]
                },
                {
                    "name": "stderr",
                    "output_type": "stream",
                    "text": [
                        "/tmp/ipykernel_1813769/4170310430.py:44: FutureWarning: In a future version, object-dtype columns with all-bool values will not be included in reductions with bool_only=True. Explicitly cast to bool dtype instead.\n",
                        "  model_stats_df = pd.concat([model_stats_df, stats_df], axis=0)\n"
                    ]
                },
                {
                    "name": "stdout",
                    "output_type": "stream",
                    "text": [
                        "Number of in features:  1251\n",
                        "Number of out features:  2\n",
                        "DMSO_0.100_DMSO_0.025_vs_LPS_100.000_DMSO_0.025_shuffle\n",
                        "../../trained_models/model_save_states/Binary_Classification/SHSY5Y\n",
                        "DMSO_0.100_DMSO_0.025_vs_LPS_100.000_DMSO_0.025_shuffle\n",
                        "              precision    recall  f1-score   support\n",
                        "\n",
                        "           0       0.54      0.97      0.69     15859\n",
                        "           1       0.49      0.03      0.06     13766\n",
                        "\n",
                        "    accuracy                           0.53     29625\n",
                        "   macro avg       0.51      0.50      0.38     29625\n",
                        "weighted avg       0.51      0.53      0.40     29625\n",
                        "\n",
                        "0.03174487868661921 0.48936170212765956 0.05962207517566001\n",
                        "Thapsigargin_10.000_DMSO_0.025__LPS_0.010_DMSO_0.025\n",
                        "Thapsigargin vs LPS__0.010\n",
                        "['Thapsigargin_10.000_DMSO_0.025', 'LPS_0.010_DMSO_0.025']\n",
                        "[1, 0]\n"
                    ]
                },
                {
                    "name": "stderr",
                    "output_type": "stream",
                    "text": [
                        "/tmp/ipykernel_1813769/4170310430.py:44: FutureWarning: In a future version, object-dtype columns with all-bool values will not be included in reductions with bool_only=True. Explicitly cast to bool dtype instead.\n",
                        "  model_stats_df = pd.concat([model_stats_df, stats_df], axis=0)\n"
                    ]
                },
                {
                    "name": "stdout",
                    "output_type": "stream",
                    "text": [
                        "Number of in features:  1251\n",
                        "Number of out features:  2\n",
                        "DMSO_0.100_DMSO_0.025_vs_LPS_100.000_DMSO_0.025_shuffle\n",
                        "../../trained_models/model_save_states/Binary_Classification/SHSY5Y\n",
                        "DMSO_0.100_DMSO_0.025_vs_LPS_100.000_DMSO_0.025_shuffle\n",
                        "              precision    recall  f1-score   support\n",
                        "\n",
                        "           0       0.55      0.97      0.70     15859\n",
                        "           1       0.48      0.03      0.05     13212\n",
                        "\n",
                        "    accuracy                           0.54     29071\n",
                        "   macro avg       0.51      0.50      0.38     29071\n",
                        "weighted avg       0.51      0.54      0.41     29071\n",
                        "\n",
                        "0.028458976687859523 0.4759493670886076 0.05370661334095129\n"
                    ]
                },
                {
                    "name": "stderr",
                    "output_type": "stream",
                    "text": [
                        "/tmp/ipykernel_1813769/4170310430.py:44: FutureWarning: In a future version, object-dtype columns with all-bool values will not be included in reductions with bool_only=True. Explicitly cast to bool dtype instead.\n",
                        "  model_stats_df = pd.concat([model_stats_df, stats_df], axis=0)\n"
                    ]
                }
            ],
            "source": [
                "for i in paired_treatment_list:\n",
                "    # filter df to only include the two treatments to test\n",
                "    test_df = df.query(\n",
                "        f\"oneb_Metadata_Treatment_Dose_Inhibitor_Dose == '{i[0]}' | oneb_Metadata_Treatment_Dose_Inhibitor_Dose == '{i[1]}'\"\n",
                "    )\n",
                "    output_name = (\"__\").join(\n",
                "        test_df[\"oneb_Metadata_Treatment_Dose_Inhibitor_Dose\"].unique()\n",
                "    )\n",
                "\n",
                "    print(output_name)\n",
                "\n",
                "    title = f'{output_name.split(\"__\")[0].split(\"_\")[0]} vs {(\"__\").join(output_name.split(\"__\")[1].split(\"_\")[:2])}'\n",
                "    print(title)\n",
                "    (\n",
                "        stats,\n",
                "        recall,\n",
                "        precision,\n",
                "        f1,\n",
                "        precision_,\n",
                "        recall_,\n",
                "        threshold_,\n",
                "        dict_of_treatments,\n",
                "    ) = test_loop(test_df, output_name, title, mlp_params)\n",
                "    print(recall, precision, f1)\n",
                "\n",
                "    threshold_ = np.append(threshold_, None)\n",
                "    stats_df = pd.DataFrame(\n",
                "        {\n",
                "            \"PR_Threshold\": threshold_,\n",
                "            \"Precision\": precision_,\n",
                "            \"Recall\": recall_,\n",
                "        }\n",
                "    )\n",
                "\n",
                "    stats_df[\"treatments_tested\"] = \"0 vs 1\"\n",
                "    # make it so that the second treatment is always the one that is being tested as the positive label\n",
                "    stats_df[\"treatments_tested\"] = stats_df[\"treatments_tested\"].replace(\n",
                "        \"0 vs 1\", f\"{dict_of_treatments[0]} vs {dict_of_treatments[1]}\"\n",
                "    )\n",
                "    stats_df[\"model\"] = mlp_params.MODEL_NAME\n",
                "    stats_df[\"group\"] = \"test\"\n",
                "    stats_df[\"shuffled_data\"] = mlp_params.SHUFFLE\n",
                "    stats_df\n",
                "    model_stats_df = pd.concat([model_stats_df, stats_df], axis=0)"
            ]
        },
        {
            "cell_type": "code",
            "execution_count": 11,
            "id": "eb39bde7",
            "metadata": {
                "execution": {
                    "iopub.execute_input": "2023-09-18T19:29:52.189189Z",
                    "iopub.status.busy": "2023-09-18T19:29:52.188820Z",
                    "iopub.status.idle": "2023-09-18T19:29:52.198467Z",
                    "shell.execute_reply": "2023-09-18T19:29:52.198041Z"
                },
                "papermill": {
                    "duration": 0.015659,
                    "end_time": "2023-09-18T19:29:52.199425",
                    "exception": false,
                    "start_time": "2023-09-18T19:29:52.183766",
                    "status": "completed"
                },
                "tags": []
            },
            "outputs": [
                {
                    "data": {
                        "text/html": [
                            "<div>\n",
                            "<style scoped>\n",
                            "    .dataframe tbody tr th:only-of-type {\n",
                            "        vertical-align: middle;\n",
                            "    }\n",
                            "\n",
                            "    .dataframe tbody tr th {\n",
                            "        vertical-align: top;\n",
                            "    }\n",
                            "\n",
                            "    .dataframe thead th {\n",
                            "        text-align: right;\n",
                            "    }\n",
                            "</style>\n",
                            "<table border=\"1\" class=\"dataframe\">\n",
                            "  <thead>\n",
                            "    <tr style=\"text-align: right;\">\n",
                            "      <th></th>\n",
                            "      <th>treatments_tested</th>\n",
                            "      <th>model</th>\n",
                            "      <th>group</th>\n",
                            "      <th>shuffled_data</th>\n",
                            "      <th>PR_Threshold</th>\n",
                            "      <th>Precision</th>\n",
                            "      <th>Recall</th>\n",
                            "    </tr>\n",
                            "  </thead>\n",
                            "  <tbody>\n",
                            "    <tr>\n",
                            "      <th>0</th>\n",
                            "      <td>DMSO_0.100_DMSO_0.025 vs LPS_100.000_DMSO_0.025</td>\n",
                            "      <td>DMSO_0.100_DMSO_0.025_vs_LPS_100.000_DMSO_0.025</td>\n",
                            "      <td>test</td>\n",
                            "      <td>True</td>\n",
                            "      <td>0.0</td>\n",
                            "      <td>0.309646</td>\n",
                            "      <td>1.000000</td>\n",
                            "    </tr>\n",
                            "    <tr>\n",
                            "      <th>1</th>\n",
                            "      <td>DMSO_0.100_DMSO_0.025 vs LPS_100.000_DMSO_0.025</td>\n",
                            "      <td>DMSO_0.100_DMSO_0.025_vs_LPS_100.000_DMSO_0.025</td>\n",
                            "      <td>test</td>\n",
                            "      <td>True</td>\n",
                            "      <td>0.0</td>\n",
                            "      <td>0.309655</td>\n",
                            "      <td>0.999875</td>\n",
                            "    </tr>\n",
                            "    <tr>\n",
                            "      <th>2</th>\n",
                            "      <td>DMSO_0.100_DMSO_0.025 vs LPS_100.000_DMSO_0.025</td>\n",
                            "      <td>DMSO_0.100_DMSO_0.025_vs_LPS_100.000_DMSO_0.025</td>\n",
                            "      <td>test</td>\n",
                            "      <td>True</td>\n",
                            "      <td>0.0</td>\n",
                            "      <td>0.309661</td>\n",
                            "      <td>0.999875</td>\n",
                            "    </tr>\n",
                            "    <tr>\n",
                            "      <th>3</th>\n",
                            "      <td>DMSO_0.100_DMSO_0.025 vs LPS_100.000_DMSO_0.025</td>\n",
                            "      <td>DMSO_0.100_DMSO_0.025_vs_LPS_100.000_DMSO_0.025</td>\n",
                            "      <td>test</td>\n",
                            "      <td>True</td>\n",
                            "      <td>0.0</td>\n",
                            "      <td>0.309647</td>\n",
                            "      <td>0.999812</td>\n",
                            "    </tr>\n",
                            "    <tr>\n",
                            "      <th>4</th>\n",
                            "      <td>DMSO_0.100_DMSO_0.025 vs LPS_100.000_DMSO_0.025</td>\n",
                            "      <td>DMSO_0.100_DMSO_0.025_vs_LPS_100.000_DMSO_0.025</td>\n",
                            "      <td>test</td>\n",
                            "      <td>True</td>\n",
                            "      <td>0.0</td>\n",
                            "      <td>0.309653</td>\n",
                            "      <td>0.999812</td>\n",
                            "    </tr>\n",
                            "    <tr>\n",
                            "      <th>...</th>\n",
                            "      <td>...</td>\n",
                            "      <td>...</td>\n",
                            "      <td>...</td>\n",
                            "      <td>...</td>\n",
                            "      <td>...</td>\n",
                            "      <td>...</td>\n",
                            "      <td>...</td>\n",
                            "    </tr>\n",
                            "    <tr>\n",
                            "      <th>28440</th>\n",
                            "      <td>LPS_0.010_DMSO_0.025 vs Thapsigargin_10.000_DM...</td>\n",
                            "      <td>DMSO_0.100_DMSO_0.025_vs_LPS_100.000_DMSO_0.025</td>\n",
                            "      <td>test</td>\n",
                            "      <td>True</td>\n",
                            "      <td>0.827824</td>\n",
                            "      <td>0.467227</td>\n",
                            "      <td>0.021041</td>\n",
                            "    </tr>\n",
                            "    <tr>\n",
                            "      <th>28441</th>\n",
                            "      <td>LPS_0.010_DMSO_0.025 vs Thapsigargin_10.000_DM...</td>\n",
                            "      <td>DMSO_0.100_DMSO_0.025_vs_LPS_100.000_DMSO_0.025</td>\n",
                            "      <td>test</td>\n",
                            "      <td>True</td>\n",
                            "      <td>0.830851</td>\n",
                            "      <td>0.468013</td>\n",
                            "      <td>0.021041</td>\n",
                            "    </tr>\n",
                            "    <tr>\n",
                            "      <th>28442</th>\n",
                            "      <td>LPS_0.010_DMSO_0.025 vs Thapsigargin_10.000_DM...</td>\n",
                            "      <td>DMSO_0.100_DMSO_0.025_vs_LPS_100.000_DMSO_0.025</td>\n",
                            "      <td>test</td>\n",
                            "      <td>True</td>\n",
                            "      <td>0.831917</td>\n",
                            "      <td>0.468803</td>\n",
                            "      <td>0.021041</td>\n",
                            "    </tr>\n",
                            "    <tr>\n",
                            "      <th>28443</th>\n",
                            "      <td>LPS_0.010_DMSO_0.025 vs Thapsigargin_10.000_DM...</td>\n",
                            "      <td>DMSO_0.100_DMSO_0.025_vs_LPS_100.000_DMSO_0.025</td>\n",
                            "      <td>test</td>\n",
                            "      <td>True</td>\n",
                            "      <td>0.835869</td>\n",
                            "      <td>0.469595</td>\n",
                            "      <td>0.021041</td>\n",
                            "    </tr>\n",
                            "    <tr>\n",
                            "      <th>28444</th>\n",
                            "      <td>LPS_0.010_DMSO_0.025 vs Thapsigargin_10.000_DM...</td>\n",
                            "      <td>DMSO_0.100_DMSO_0.025_vs_LPS_100.000_DMSO_0.025</td>\n",
                            "      <td>test</td>\n",
                            "      <td>True</td>\n",
                            "      <td>None</td>\n",
                            "      <td>1.000000</td>\n",
                            "      <td>0.000000</td>\n",
                            "    </tr>\n",
                            "  </tbody>\n",
                            "</table>\n",
                            "<p>1088982 rows \u00d7 7 columns</p>\n",
                            "</div>"
                        ],
                        "text/plain": [
                            "                                       treatments_tested  \\\n",
                            "0        DMSO_0.100_DMSO_0.025 vs LPS_100.000_DMSO_0.025   \n",
                            "1        DMSO_0.100_DMSO_0.025 vs LPS_100.000_DMSO_0.025   \n",
                            "2        DMSO_0.100_DMSO_0.025 vs LPS_100.000_DMSO_0.025   \n",
                            "3        DMSO_0.100_DMSO_0.025 vs LPS_100.000_DMSO_0.025   \n",
                            "4        DMSO_0.100_DMSO_0.025 vs LPS_100.000_DMSO_0.025   \n",
                            "...                                                  ...   \n",
                            "28440  LPS_0.010_DMSO_0.025 vs Thapsigargin_10.000_DM...   \n",
                            "28441  LPS_0.010_DMSO_0.025 vs Thapsigargin_10.000_DM...   \n",
                            "28442  LPS_0.010_DMSO_0.025 vs Thapsigargin_10.000_DM...   \n",
                            "28443  LPS_0.010_DMSO_0.025 vs Thapsigargin_10.000_DM...   \n",
                            "28444  LPS_0.010_DMSO_0.025 vs Thapsigargin_10.000_DM...   \n",
                            "\n",
                            "                                                 model group shuffled_data  \\\n",
                            "0      DMSO_0.100_DMSO_0.025_vs_LPS_100.000_DMSO_0.025  test          True   \n",
                            "1      DMSO_0.100_DMSO_0.025_vs_LPS_100.000_DMSO_0.025  test          True   \n",
                            "2      DMSO_0.100_DMSO_0.025_vs_LPS_100.000_DMSO_0.025  test          True   \n",
                            "3      DMSO_0.100_DMSO_0.025_vs_LPS_100.000_DMSO_0.025  test          True   \n",
                            "4      DMSO_0.100_DMSO_0.025_vs_LPS_100.000_DMSO_0.025  test          True   \n",
                            "...                                                ...   ...           ...   \n",
                            "28440  DMSO_0.100_DMSO_0.025_vs_LPS_100.000_DMSO_0.025  test          True   \n",
                            "28441  DMSO_0.100_DMSO_0.025_vs_LPS_100.000_DMSO_0.025  test          True   \n",
                            "28442  DMSO_0.100_DMSO_0.025_vs_LPS_100.000_DMSO_0.025  test          True   \n",
                            "28443  DMSO_0.100_DMSO_0.025_vs_LPS_100.000_DMSO_0.025  test          True   \n",
                            "28444  DMSO_0.100_DMSO_0.025_vs_LPS_100.000_DMSO_0.025  test          True   \n",
                            "\n",
                            "      PR_Threshold  Precision    Recall  \n",
                            "0              0.0   0.309646  1.000000  \n",
                            "1              0.0   0.309655  0.999875  \n",
                            "2              0.0   0.309661  0.999875  \n",
                            "3              0.0   0.309647  0.999812  \n",
                            "4              0.0   0.309653  0.999812  \n",
                            "...            ...        ...       ...  \n",
                            "28440     0.827824   0.467227  0.021041  \n",
                            "28441     0.830851   0.468013  0.021041  \n",
                            "28442     0.831917   0.468803  0.021041  \n",
                            "28443     0.835869   0.469595  0.021041  \n",
                            "28444         None   1.000000  0.000000  \n",
                            "\n",
                            "[1088982 rows x 7 columns]"
                        ]
                    },
                    "execution_count": 11,
                    "metadata": {},
                    "output_type": "execute_result"
                }
            ],
            "source": [
                "model_stats_df"
            ]
        },
        {
            "cell_type": "code",
            "execution_count": 12,
            "id": "380dd6b8",
            "metadata": {
                "execution": {
                    "iopub.execute_input": "2023-09-18T19:26:44.307699Z",
                    "iopub.status.busy": "2023-09-18T19:26:44.307297Z",
                    "iopub.status.idle": "2023-09-18T19:26:49.448999Z",
                    "shell.execute_reply": "2023-09-18T19:26:49.448490Z"
                },
                "papermill": {
                    "duration": null,
                    "end_time": null,
                    "exception": false,
                    "start_time": "2023-09-18T19:29:52.204013",
                    "status": "running"
                },
                "tags": []
            },
            "outputs": [],
            "source": [
                "# set path for the model training metrics\n",
                "metrics_path = pathlib.Path(\n",
                "    f\"../../results/{mlp_params.MODEL_TYPE}/{mlp_params.MODEL_NAME}/{mlp_params.CELL_TYPE}\"\n",
                ")\n",
                "metrics_path.mkdir(parents=True, exist_ok=True)\n",
                "# check if the model training metrics file exists\n",
                "metrics_file = pathlib.Path(f\"{metrics_path}/testing_metrics.csv\")\n",
                "if metrics_file.exists():\n",
                "    metrics_df = pd.read_csv(metrics_file)\n",
                "    if len(metrics_df[\"shuffled_data\"].unique()) > 1:\n",
                "        pass\n",
                "    elif metrics_df[\"shuffled_data\"].unique() == mlp_params.SHUFFLE:\n",
                "        pass\n",
                "    else:\n",
                "        metrics_df = pd.concat([metrics_df, model_stats_df], axis=0)\n",
                "        metrics_df.to_csv(metrics_file, index=False)\n",
                "else:\n",
                "    model_stats_df.to_csv(metrics_file, index=False)"
            ]
        }
    ],
    "metadata": {
        "jupytext": {
            "formats": "ipynb,py"
        },
        "kernelspec": {
            "display_name": "Interstellar",
            "language": "python",
            "name": "python3"
        },
        "language_info": {
            "codemirror_mode": {
                "name": "ipython",
                "version": 3
            },
            "file_extension": ".py",
            "mimetype": "text/x-python",
            "name": "python",
            "nbconvert_exporter": "python",
            "pygments_lexer": "ipython3",
            "version": "3.10.12"
        },
        "papermill": {
            "default_parameters": {},
            "duration": null,
            "end_time": null,
            "environment_variables": {},
            "exception": null,
            "input_path": "binary_classification_testing.ipynb",
            "output_path": "binary_classification_testing.ipynb",
            "parameters": {
                "CELL_TYPE": "SHSY5Y",
                "CONTROL_NAME": "DMSO_0.100_DMSO_0.025",
                "SHUFFLE": true,
                "TREATMENT_NAME": "LPS_Nigericin_1.000_10.0_DMSO_0.025"
            },
            "start_time": "2023-09-18T19:27:13.768446",
            "version": "2.4.0"
        },
        "vscode": {
            "interpreter": {
                "hash": "72ae02083a9ca7d143c492d1aec380c7bf553ec51bd66e90e72bba65228121b6"
            }
        }
    },
    "nbformat": 4,
    "nbformat_minor": 5
}
