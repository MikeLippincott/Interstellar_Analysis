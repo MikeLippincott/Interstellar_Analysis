{
 "cells": [
  {
   "cell_type": "code",
   "execution_count": null,
   "id": "e5d22684",
   "metadata": {
    "execution": {
     "iopub.execute_input": "2023-08-19T14:14:33.479421Z",
     "iopub.status.busy": "2023-08-19T14:14:33.478818Z",
     "iopub.status.idle": "2023-08-19T14:14:36.403156Z",
     "shell.execute_reply": "2023-08-19T14:14:36.402563Z"
    },
    "papermill": {
     "duration": null,
     "end_time": null,
     "exception": null,
     "start_time": null,
     "status": "pending"
    },
    "tags": []
   },
   "outputs": [],
   "source": [
    "import pathlib\n",
    "import sys\n",
    "\n",
    "import numpy as np\n",
    "import pandas as pd\n",
    "import pyarrow.parquet as pq\n",
    "import toml\n",
    "import torch\n",
    "from sklearn import preprocessing\n",
    "\n",
    "sys.path.append(\"../..\")\n",
    "from MLP_utils.parameters import Parameters\n",
    "from MLP_utils.utils import (\n",
    "    Dataset_formatter,\n",
    "    optimized_model_create,\n",
    "    output_stats,\n",
    "    parameter_set,\n",
    "    results_output,\n",
    "    test_optimized_model,\n",
    "    un_nest,\n",
    ")\n",
    "from sklearn.metrics import (\n",
    "    accuracy_score,\n",
    "    auc,\n",
    "    confusion_matrix,\n",
    "    f1_score,\n",
    "    precision_score,\n",
    "    recall_score,\n",
    "    roc_auc_score,\n",
    "    roc_curve,\n",
    ")\n",
    "\n",
    "sys.path.append(\"../../..\")"
   ]
  },
  {
   "cell_type": "code",
   "execution_count": null,
   "id": "35e99302",
   "metadata": {
    "papermill": {
     "duration": null,
     "end_time": null,
     "exception": null,
     "start_time": null,
     "status": "pending"
    },
    "tags": [
     "injected-parameters"
    ]
   },
   "outputs": [],
   "source": [
    "# Parameters\n",
    "SHUFFLE_DATA = False\n",
    "CELL_TYPE = \"SHSY5Y\"\n",
    "CONTROL_NAME = \"DMSO_0.100_DMSO_0.025\"\n",
    "TREATMENT_NAME = \"LPS_10.000_DMSO_0.025\"\n",
    "MODEL_NAME = \"DMSO_0.025_vs_LPS_10\""
   ]
  },
  {
   "cell_type": "code",
   "execution_count": null,
   "id": "c55e810d",
   "metadata": {
    "execution": {
     "iopub.execute_input": "2023-08-19T14:14:36.418719Z",
     "iopub.status.busy": "2023-08-19T14:14:36.418252Z",
     "iopub.status.idle": "2023-08-19T14:14:36.711209Z",
     "shell.execute_reply": "2023-08-19T14:14:36.710570Z"
    },
    "papermill": {
     "duration": null,
     "end_time": null,
     "exception": null,
     "start_time": null,
     "status": "pending"
    },
    "tags": []
   },
   "outputs": [],
   "source": [
    "ml_configs_file = pathlib.Path(\"../../MLP_utils/binary_config.toml\").resolve(\n",
    "    strict=True\n",
    ")\n",
    "ml_configs = toml.load(ml_configs_file)\n",
    "params = Parameters()\n",
    "mlp_params = parameter_set(params, ml_configs)\n",
    "\n",
    "# overwrite mlp_params via command line arguments from papermill\n",
    "mlp_params.CELL_TYPE = CELL_TYPE\n",
    "mlp_params.MODEL_NAME = MODEL_NAME\n",
    "mlp_params.CONTROL_NAME = CONTROL_NAME\n",
    "mlp_params.TREATMENT_NAME = TREATMENT_NAME\n",
    "mlp_params.MODEL_NAME = MODEL_NAME\n",
    "mlp_params.SHUFFLE = SHUFFLE"
   ]
  },
  {
   "cell_type": "code",
   "execution_count": null,
   "id": "eed3021f",
   "metadata": {
    "execution": {
     "iopub.execute_input": "2023-08-06T18:56:40.973278Z",
     "iopub.status.busy": "2023-08-06T18:56:40.972714Z",
     "iopub.status.idle": "2023-08-06T18:57:37.165088Z",
     "shell.execute_reply": "2023-08-06T18:57:37.164546Z"
    },
    "papermill": {
     "duration": null,
     "end_time": null,
     "exception": null,
     "start_time": null,
     "status": "pending"
    },
    "tags": []
   },
   "outputs": [],
   "source": [
    "# Import Data\n",
    "# set data file path under pathlib path for multi-system use\n",
    "file_path = pathlib.Path(\n",
    "    f\"../../../data/{mlp_params.CELL_TYPE}_preprocessed_sc_norm.parquet\"\n",
    ").resolve(strict=True)\n",
    "\n",
    "df = pq.read_table(file_path).to_pandas()"
   ]
  },
  {
   "cell_type": "code",
   "execution_count": null,
   "id": "bfe1e780",
   "metadata": {
    "execution": {
     "iopub.execute_input": "2023-08-06T18:57:37.174512Z",
     "iopub.status.busy": "2023-08-06T18:57:37.174239Z",
     "iopub.status.idle": "2023-08-06T18:57:37.181610Z",
     "shell.execute_reply": "2023-08-06T18:57:37.181216Z"
    },
    "papermill": {
     "duration": null,
     "end_time": null,
     "exception": null,
     "start_time": null,
     "status": "pending"
    },
    "tags": []
   },
   "outputs": [],
   "source": [
    "def test_loop(df, output_name, title):\n",
    "    # Code snippet for metadata extraction by Jenna Tomkinson\n",
    "    df_metadata = list(df.columns[df.columns.str.startswith(\"Metadata\")])\n",
    "\n",
    "    # define which columns are data and which are descriptive\n",
    "    df_descriptive = df[df_metadata]\n",
    "    df_values = df.drop(columns=df_metadata)\n",
    "    # Creating label encoder\n",
    "    le = preprocessing.LabelEncoder()\n",
    "    # Converting strings into numbers\n",
    "    print(df_values[\"oneb_Metadata_Treatment_Dose_Inhibitor_Dose\"].unique().tolist())\n",
    "    lst_of_treatments = (\n",
    "        df_values[\"oneb_Metadata_Treatment_Dose_Inhibitor_Dose\"].unique().tolist()\n",
    "    )\n",
    "\n",
    "    df_values[\"oneb_Metadata_Treatment_Dose_Inhibitor_Dose\"] = le.fit_transform(\n",
    "        df_values[\"oneb_Metadata_Treatment_Dose_Inhibitor_Dose\"]\n",
    "    )\n",
    "    print(df_values[\"oneb_Metadata_Treatment_Dose_Inhibitor_Dose\"].unique().tolist())\n",
    "    lst_of_coded_treatments = (\n",
    "        df_values[\"oneb_Metadata_Treatment_Dose_Inhibitor_Dose\"].unique().tolist()\n",
    "    )\n",
    "    # make a dictionary of the treatments and their corresponding codes to decode later\n",
    "    dict_of_treatments = {}\n",
    "    for i, j in zip(\n",
    "        lst_of_coded_treatments,\n",
    "        lst_of_treatments,\n",
    "    ):\n",
    "        dict_of_treatments[i] = j\n",
    "    # split into X and Y where Y are the predictive column and x are the observable data\n",
    "    df_values_X = df_values.drop(\n",
    "        [\n",
    "            \"oneb_Metadata_Treatment_Dose_Inhibitor_Dose\",\n",
    "            \"twob_Metadata_Treatment_Dose_Inhibitor_Dose\",\n",
    "            \"threeb_Metadata_Treatment_Dose_Inhibitor_Dose\",\n",
    "            \"fourb_Metadata_Treatment_Dose_Inhibitor_Dose\",\n",
    "        ],\n",
    "        axis=1,\n",
    "    )\n",
    "    df_values_Y = df_values[\"oneb_Metadata_Treatment_Dose_Inhibitor_Dose\"]\n",
    "    test_data = Dataset_formatter(\n",
    "        torch.FloatTensor(df_values_X.values), torch.FloatTensor(df_values_Y.values)\n",
    "    )\n",
    "\n",
    "    mlp_params.IN_FEATURES = df_values_X.shape[1]\n",
    "    print(\"Number of in features: \", mlp_params.IN_FEATURES)\n",
    "    if mlp_params.MODEL_TYPE == \"Regression\":\n",
    "        mlp_params.OUT_FEATURES = 1\n",
    "    else:\n",
    "        mlp_params.OUT_FEATURES = len(\n",
    "            df_values[\"oneb_Metadata_Treatment_Dose_Inhibitor_Dose\"].unique()\n",
    "        )\n",
    "\n",
    "    print(\"Number of out features: \", mlp_params.OUT_FEATURES)\n",
    "\n",
    "    if mlp_params.OUT_FEATURES > 2:\n",
    "        mlp_params.MODEL_TYPE = \"Multi_Class\"\n",
    "    elif mlp_params.OUT_FEATURES == 2:\n",
    "        mlp_params.OUT_FEATURES = mlp_params.OUT_FEATURES - 1\n",
    "        mlp_params.MODEL_TYPE = \"Binary_Classification\"\n",
    "    elif mlp_params.OUT_FEATURES == 1:\n",
    "        mlp_params.MODEL_TYPE = \"Regression\"\n",
    "    else:\n",
    "        pass\n",
    "    # convert data class into a dataloader to be compatible with pytorch\n",
    "    test_loader = torch.utils.data.DataLoader(\n",
    "        dataset=test_data, batch_size=1, shuffle=mlp_params.SHUFFLE\n",
    "    )\n",
    "    model, _ = optimized_model_create(mlp_params, mlp_params.MODEL_NAME)\n",
    "    # calling the testing function and outputting list values of tested model\n",
    "    if mlp_params.MODEL_TYPE == \"Multi_Class\" or mlp_params.MODEL_TYPE == \"Regression\":\n",
    "        y_pred_list = test_optimized_model(\n",
    "            model,\n",
    "            test_loader,\n",
    "            mlp_params,\n",
    "            model_name=mlp_params.MODEL_NAME,\n",
    "            shuffle=mlp_params.SHUFFLE,\n",
    "        )\n",
    "    elif mlp_params.MODEL_TYPE == \"Binary_Classification\":\n",
    "        y_pred_list, y_pred_prob_list = test_optimized_model(\n",
    "            model,\n",
    "            test_loader,\n",
    "            mlp_params,\n",
    "            model_name=mlp_params.MODEL_NAME,\n",
    "            shuffle=mlp_params.SHUFFLE,\n",
    "        )\n",
    "    else:\n",
    "        raise Exception(\"Model type must be specified for proper model testing\")\n",
    "\n",
    "    # un-nest list if nested i.e. length of input data does not match length of output data\n",
    "    if len(y_pred_list) != len(df_values_Y):\n",
    "        y_pred_list = un_nest(y_pred_list)\n",
    "        y_pred_prob_list = un_nest(y_pred_prob_list)\n",
    "    else:\n",
    "        pass\n",
    "\n",
    "    stats, recall, precision, f1, precision_, recall_, threshold_ = output_stats(\n",
    "        y_pred_list,\n",
    "        df_values_Y,\n",
    "        mlp_params,\n",
    "        y_pred_prob_list,\n",
    "        test_name=f\"{output_name}_all_testing\",\n",
    "        model_name=mlp_params.MODEL_NAME,\n",
    "        title=title,\n",
    "        shuffle=mlp_params.SHUFFLE,\n",
    "    )\n",
    "    return (\n",
    "        stats,\n",
    "        recall,\n",
    "        precision,\n",
    "        f1,\n",
    "        precision_,\n",
    "        recall_,\n",
    "        threshold_,\n",
    "        dict_of_treatments,\n",
    "    )"
   ]
  },
  {
   "cell_type": "code",
   "execution_count": null,
   "id": "42485ec2",
   "metadata": {
    "execution": {
     "iopub.execute_input": "2023-08-06T18:57:37.186752Z",
     "iopub.status.busy": "2023-08-06T18:57:37.186343Z",
     "iopub.status.idle": "2023-08-06T18:57:37.466630Z",
     "shell.execute_reply": "2023-08-06T18:57:37.466170Z"
    },
    "papermill": {
     "duration": null,
     "end_time": null,
     "exception": null,
     "start_time": null,
     "status": "pending"
    },
    "tags": []
   },
   "outputs": [],
   "source": [
    "print(df[\"oneb_Metadata_Treatment_Dose_Inhibitor_Dose\"].unique().tolist())"
   ]
  },
  {
   "cell_type": "code",
   "execution_count": null,
   "id": "6d720af4",
   "metadata": {
    "execution": {
     "iopub.execute_input": "2023-08-06T18:57:37.473412Z",
     "iopub.status.busy": "2023-08-06T18:57:37.473038Z",
     "iopub.status.idle": "2023-08-06T18:57:37.477109Z",
     "shell.execute_reply": "2023-08-06T18:57:37.476712Z"
    },
    "papermill": {
     "duration": null,
     "end_time": null,
     "exception": null,
     "start_time": null,
     "status": "pending"
    },
    "tags": []
   },
   "outputs": [],
   "source": [
    "paired_treatment_list = [\n",
    "    [\"DMSO_0.100_DMSO_0.025\", \"LPS_100.000_DMSO_0.025\"],\n",
    "    [\"DMSO_0.100_DMSO_0.025\", \"Thapsigargin_1.000_DMSO_0.025\"],\n",
    "    [\"DMSO_0.100_DMSO_0.025\", \"Thapsigargin_10.000_DMSO_0.025\"],\n",
    "    [\"DMSO_0.100_DMSO_0.025\", \"LPS_0.100_DMSO_0.025\"],\n",
    "    [\"DMSO_0.100_DMSO_0.025\", \"LPS_1.000_DMSO_0.025\"],\n",
    "    [\"DMSO_0.100_DMSO_0.025\", \"LPS_10.000_DMSO_0.025\"],\n",
    "    [\"DMSO_0.100_DMSO_0.025\", \"LPS_100.000_DMSO_0.025\"],\n",
    "    [\"DMSO_0.100_DMSO_0.025\", \"Flagellin_0.100_DMSO_0.025\"],\n",
    "    [\"DMSO_0.100_DMSO_0.025\", \"Flagellin_1.000_DMSO_0.025\"],\n",
    "    [\"DMSO_0.100_DMSO_0.025\", \"Flagellin_1.000_Disulfiram_1.0\"],\n",
    "    [\"DMSO_0.100_DMSO_0.025\", \"LPS_Nigericin_100.000_1.0_DMSO_0.025\"],\n",
    "    [\"DMSO_0.100_DMSO_0.025\", \"LPS_Nigericin_100.000_3.0_DMSO_0.025\"],\n",
    "    [\"DMSO_0.100_DMSO_0.025\", \"LPS_Nigericin_100.000_10.0_DMSO_0.025\"],\n",
    "    [\"DMSO_0.100_DMSO_0.025\", \"LPS_Nigericin_1.000_1.0_DMSO_0.025\"],\n",
    "    [\"DMSO_0.100_DMSO_0.025\", \"LPS_Nigericin_1.000_3.0_DMSO_0.025\"],\n",
    "    [\"DMSO_0.100_DMSO_0.025\", \"LPS_Nigericin_1.000_10.0_DMSO_0.025\"],\n",
    "    [\"DMSO_0.100_DMSO_0.025\", \"H2O2_100.000_Z-VAD-FMK_100.0\"],\n",
    "    [\"DMSO_0.100_DMSO_0.025\", \"H2O2_100.000_DMSO_0.025\"],\n",
    "    [\"LPS_100.000_DMSO_0.025\", \"Thapsigargin_1.000_DMSO_0.025\"],\n",
    "    [\"LPS_100.000_DMSO_0.025\", \"Thapsigargin_10.000_DMSO_0.025\"],\n",
    "    [\"LPS_10.000_DMSO_0.025\", \"Thapsigargin_1.000_DMSO_0.025\"],\n",
    "    [\"LPS_10.000_DMSO_0.025\", \"Thapsigargin_10.000_DMSO_0.025\"],\n",
    "    [\"LPS_1.000_DMSO_0.025\", \"Thapsigargin_1.000_DMSO_0.025\"],\n",
    "    [\"LPS_1.000_DMSO_0.025\", \"Thapsigargin_10.000_DMSO_0.025\"],\n",
    "    [\"LPS_0.100_DMSO_0.025\", \"Thapsigargin_1.000_DMSO_0.025\"],\n",
    "    [\"LPS_0.100_DMSO_0.025\", \"Thapsigargin_10.000_DMSO_0.025\"],\n",
    "    [\"LPS_0.010_DMSO_0.025\", \"Thapsigargin_1.000_DMSO_0.025\"],\n",
    "    [\"LPS_0.010_DMSO_0.025\", \"Thapsigargin_10.000_DMSO_0.025\"],\n",
    "]"
   ]
  },
  {
   "cell_type": "code",
   "execution_count": null,
   "id": "cc1c3ba3",
   "metadata": {
    "papermill": {
     "duration": null,
     "end_time": null,
     "exception": null,
     "start_time": null,
     "status": "pending"
    },
    "tags": []
   },
   "outputs": [],
   "source": [
    "# create a dataframe to store the model stats\n",
    "model_stats_df = pd.DataFrame(\n",
    "    columns=[\n",
    "        \"treatments_tested\",\n",
    "        \"model\",\n",
    "        \"group\",\n",
    "        \"shuffled_data\",\n",
    "        \"PR_Threshold\",\n",
    "        \"Precision\",\n",
    "        \"Recall\",\n",
    "    ]\n",
    ")\n",
    "model_stats_df"
   ]
  },
  {
   "cell_type": "code",
   "execution_count": null,
   "id": "f1b0c095",
   "metadata": {
    "execution": {
     "iopub.execute_input": "2023-08-06T18:57:37.482321Z",
     "iopub.status.busy": "2023-08-06T18:57:37.481983Z",
     "iopub.status.idle": "2023-08-06T19:21:45.854845Z",
     "shell.execute_reply": "2023-08-06T19:21:45.854322Z"
    },
    "papermill": {
     "duration": null,
     "end_time": null,
     "exception": null,
     "start_time": null,
     "status": "pending"
    },
    "tags": []
   },
   "outputs": [],
   "source": [
    "for i in paired_treatment_list:\n",
    "    # filter df to only include the two treatments to test\n",
    "    test_df = df.query(\n",
    "        f\"oneb_Metadata_Treatment_Dose_Inhibitor_Dose == '{i[0]}' | oneb_Metadata_Treatment_Dose_Inhibitor_Dose == '{i[1]}'\"\n",
    "    )\n",
    "    output_name = (\"__\").join(\n",
    "        test_df[\"oneb_Metadata_Treatment_Dose_Inhibitor_Dose\"].unique()\n",
    "    )\n",
    "\n",
    "    print(output_name)\n",
    "\n",
    "    title = f'{output_name.split(\"__\")[0].split(\"_\")[0]} vs {(\"__\").join(output_name.split(\"__\")[1].split(\"_\")[:2])}'\n",
    "    print(title)\n",
    "    (\n",
    "        stats,\n",
    "        recall,\n",
    "        precision,\n",
    "        f1,\n",
    "        precision_,\n",
    "        recall_,\n",
    "        threshold_,\n",
    "        dict_of_treatments,\n",
    "    ) = test_loop(test_df, output_name, title)\n",
    "    print(recall, precision, f1)\n",
    "\n",
    "    threshold_ = np.append(threshold_, None)\n",
    "    stats_df = pd.DataFrame(\n",
    "        {\n",
    "            \"PR_Threshold\": threshold_,\n",
    "            \"Precision\": precision_,\n",
    "            \"Recall\": recall_,\n",
    "        }\n",
    "    )\n",
    "\n",
    "    stats_df[\"treatments_tested\"] = \"0 vs 1\"\n",
    "    # make it so that the second treatment is always the one that is being tested as the positive label\n",
    "    stats_df[\"treatments_tested\"] = stats_df[\"treatments_tested\"].replace(\n",
    "        \"0 vs 1\", f\"{dict_of_treatments[0]} vs {dict_of_treatments[1]}\"\n",
    "    )\n",
    "    stats_df[\"model\"] = mlp_params.MODEL_NAME\n",
    "    stats_df[\"group\"] = \"test\"\n",
    "    stats_df[\"shuffled_data\"] = mlp_params.SHUFFLE\n",
    "    stats_df\n",
    "    model_stats_df = pd.concat([model_stats_df, stats_df], axis=0)"
   ]
  },
  {
   "cell_type": "code",
   "execution_count": null,
   "id": "eb39bde7",
   "metadata": {
    "papermill": {
     "duration": null,
     "end_time": null,
     "exception": null,
     "start_time": null,
     "status": "pending"
    },
    "tags": []
   },
   "outputs": [],
   "source": [
    "model_stats_df"
   ]
  },
  {
   "cell_type": "code",
   "execution_count": null,
   "id": "380dd6b8",
   "metadata": {
    "papermill": {
     "duration": null,
     "end_time": null,
     "exception": null,
     "start_time": null,
     "status": "pending"
    },
    "tags": []
   },
   "outputs": [],
   "source": [
    "# set path for the model training metrics\n",
    "metrics_path = pathlib.Path(\n",
    "    f\"../../results/{mlp_params.MODEL_TYPE}/{mlp_params.MODEL_NAME}/{mlp_params.CELL_TYPE}\"\n",
    ")\n",
    "metrics_path.mkdir(parents=True, exist_ok=True)\n",
    "# check if the model training metrics file exists\n",
    "metrics_file = pathlib.Path(f\"{metrics_path}/testing_metrics.csv\")\n",
    "if metrics_file.exists():\n",
    "    metrics_df = pd.read_csv(metrics_file)\n",
    "    if len(metrics_df[\"shuffled_data\"].unique()) > 1:\n",
    "        pass\n",
    "    elif metrics_df[\"shuffled_data\"].unique() == mlp_params.SHUFFLE:\n",
    "        pass\n",
    "    else:\n",
    "        metrics_df = pd.concat([metrics_df, model_stats_df], axis=0)\n",
    "        metrics_df.to_csv(metrics_file, index=False)\n",
    "else:\n",
    "    model_stats_df.to_csv(metrics_file, index=False)"
   ]
  },
  {
   "cell_type": "code",
   "execution_count": null,
   "id": "585460ab",
   "metadata": {
    "papermill": {
     "duration": null,
     "end_time": null,
     "exception": null,
     "start_time": null,
     "status": "pending"
    },
    "tags": []
   },
   "outputs": [],
   "source": []
  }
 ],
 "metadata": {
  "jupytext": {
   "formats": "ipynb,py"
  },
  "kernelspec": {
   "display_name": "Interstellar",
   "language": "python",
   "name": "python3"
  },
  "language_info": {
   "codemirror_mode": {
    "name": "ipython",
    "version": 3
   },
   "file_extension": ".py",
   "mimetype": "text/x-python",
   "name": "python",
   "nbconvert_exporter": "python",
   "pygments_lexer": "ipython3",
   "version": "3.10.12"
  },
  "papermill": {
   "default_parameters": {},
   "duration": null,
   "end_time": null,
   "environment_variables": {},
   "exception": null,
   "input_path": "binary_classification_testing.ipynb",
   "output_path": "binary_classification_testing.ipynb",
   "parameters": {
    "CELL_TYPE": "SHSY5Y",
    "CONTROL_NAME": "DMSO_0.100_DMSO_0.025",
    "MODEL_NAME": "DMSO_0.025_vs_LPS_10",
    "SHUFFLE_DATA": false,
    "TREATMENT_NAME": "LPS_10.000_DMSO_0.025"
   },
   "start_time": "2023-08-19T14:14:38.342089",
   "version": "2.4.0"
  },
  "vscode": {
   "interpreter": {
    "hash": "72ae02083a9ca7d143c492d1aec380c7bf553ec51bd66e90e72bba65228121b6"
   }
  }
 },
 "nbformat": 4,
 "nbformat_minor": 5
}