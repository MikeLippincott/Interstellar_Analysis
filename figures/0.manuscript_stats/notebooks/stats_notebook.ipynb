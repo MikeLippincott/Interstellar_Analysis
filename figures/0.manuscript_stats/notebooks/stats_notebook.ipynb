{
    "cells": [
        {
            "cell_type": "code",
            "execution_count": 1,
            "metadata": {},
            "outputs": [],
            "source": [
                "import gc\n",
                "import pathlib\n",
                "\n",
                "import numpy as np\n",
                "import pandas as pd\n",
                "import pyarrow.parquet as pq\n",
                "import toml"
            ]
        },
        {
            "cell_type": "markdown",
            "metadata": {},
            "source": [
                "## Morphology Feature space stats"
            ]
        },
        {
            "cell_type": "code",
            "execution_count": null,
            "metadata": {},
            "outputs": [],
            "source": []
        },
        {
            "cell_type": "code",
            "execution_count": 2,
            "metadata": {},
            "outputs": [],
            "source": [
                "# set paths to data\n",
                "norm_data_path = pathlib.Path(\"../../../data/PBMC_sc_norm.parquet\").resolve(strict=True)\n",
                "\n",
                "# fs data\n",
                "norm_fs_data_path = pathlib.Path(\n",
                "    \"../../../data/PBMC_preprocessed_sc_norm.parquet\"\n",
                ").resolve(strict=True)"
            ]
        },
        {
            "cell_type": "markdown",
            "metadata": {},
            "source": [
                "## Check Raw features shape"
            ]
        },
        {
            "cell_type": "code",
            "execution_count": 3,
            "metadata": {},
            "outputs": [
                {
                    "name": "stdout",
                    "output_type": "stream",
                    "text": [
                        "2926\n",
                        "There are 2907 data columns\n",
                        "There are 19 metadata columns\n"
                    ]
                }
            ],
            "source": [
                "# load in the normalized data\n",
                "# norm_data = pd.read_parquet(norm_data_path)\n",
                "\n",
                "norm_schema = pq.read_schema(norm_data_path)\n",
                "\n",
                "# get a list of column names\n",
                "norm_cols = [col.name for col in norm_schema]\n",
                "print(len(norm_cols))\n",
                "# get columns that contain Metadata\n",
                "metadata_cols = [col for col in norm_cols if \"Metadata\" in col]\n",
                "# remove metadata columns from the list of columns\n",
                "data_cols = [col for col in norm_cols if col not in metadata_cols]\n",
                "\n",
                "print(f\"There are {len(data_cols)} data columns\")\n",
                "print(f\"There are {len(metadata_cols)} metadata columns\")"
            ]
        },
        {
            "cell_type": "code",
            "execution_count": null,
            "metadata": {},
            "outputs": [],
            "source": []
        },
        {
            "cell_type": "markdown",
            "metadata": {},
            "source": [
                "## Check feature selected shape"
            ]
        },
        {
            "cell_type": "code",
            "execution_count": 4,
            "metadata": {},
            "outputs": [
                {
                    "name": "stdout",
                    "output_type": "stream",
                    "text": [
                        "2926\n",
                        "There are 2907 data columns\n",
                        "There are 19 metadata columns\n",
                        "(8318724, 2)\n"
                    ]
                },
                {
                    "data": {
                        "text/html": [
                            "<div>\n",
                            "<style scoped>\n",
                            "    .dataframe tbody tr th:only-of-type {\n",
                            "        vertical-align: middle;\n",
                            "    }\n",
                            "\n",
                            "    .dataframe tbody tr th {\n",
                            "        vertical-align: top;\n",
                            "    }\n",
                            "\n",
                            "    .dataframe thead th {\n",
                            "        text-align: right;\n",
                            "    }\n",
                            "</style>\n",
                            "<table border=\"1\" class=\"dataframe\">\n",
                            "  <thead>\n",
                            "    <tr style=\"text-align: right;\">\n",
                            "      <th></th>\n",
                            "      <th>Metadata_Well</th>\n",
                            "      <th>oneb_Metadata_Treatment_Dose_Inhibitor_Dose</th>\n",
                            "    </tr>\n",
                            "  </thead>\n",
                            "  <tbody>\n",
                            "    <tr>\n",
                            "      <th>0</th>\n",
                            "      <td>B02</td>\n",
                            "      <td>LPS_0.010_ug_per_ml_DMSO_0.025_%</td>\n",
                            "    </tr>\n",
                            "    <tr>\n",
                            "      <th>1</th>\n",
                            "      <td>B02</td>\n",
                            "      <td>LPS_0.010_ug_per_ml_DMSO_0.025_%</td>\n",
                            "    </tr>\n",
                            "    <tr>\n",
                            "      <th>2</th>\n",
                            "      <td>B02</td>\n",
                            "      <td>LPS_0.010_ug_per_ml_DMSO_0.025_%</td>\n",
                            "    </tr>\n",
                            "    <tr>\n",
                            "      <th>3</th>\n",
                            "      <td>B02</td>\n",
                            "      <td>LPS_0.010_ug_per_ml_DMSO_0.025_%</td>\n",
                            "    </tr>\n",
                            "    <tr>\n",
                            "      <th>4</th>\n",
                            "      <td>B02</td>\n",
                            "      <td>LPS_0.010_ug_per_ml_DMSO_0.025_%</td>\n",
                            "    </tr>\n",
                            "  </tbody>\n",
                            "</table>\n",
                            "</div>"
                        ],
                        "text/plain": [
                            "  Metadata_Well oneb_Metadata_Treatment_Dose_Inhibitor_Dose\n",
                            "0           B02            LPS_0.010_ug_per_ml_DMSO_0.025_%\n",
                            "1           B02            LPS_0.010_ug_per_ml_DMSO_0.025_%\n",
                            "2           B02            LPS_0.010_ug_per_ml_DMSO_0.025_%\n",
                            "3           B02            LPS_0.010_ug_per_ml_DMSO_0.025_%\n",
                            "4           B02            LPS_0.010_ug_per_ml_DMSO_0.025_%"
                        ]
                    },
                    "execution_count": 4,
                    "metadata": {},
                    "output_type": "execute_result"
                }
            ],
            "source": [
                "norm_fs_schema = pq.read_schema(norm_fs_data_path)\n",
                "\n",
                "# get a list of column names\n",
                "norm_cols = [col.name for col in norm_schema]\n",
                "print(len(norm_cols))\n",
                "# get columns that contain Metadata\n",
                "metadata_cols = [col for col in norm_cols if \"Metadata\" in col]\n",
                "# remove metadata columns from the list of columns\n",
                "data_cols = [col for col in norm_cols if col not in metadata_cols]\n",
                "\n",
                "print(f\"There are {len(data_cols)} data columns\")\n",
                "print(f\"There are {len(metadata_cols)} metadata columns\")\n",
                "\n",
                "# get columns that contain Metadata\n",
                "\n",
                "norm_fs_df_subset = pd.read_parquet(\n",
                "    norm_fs_data_path,\n",
                "    columns=[\"Metadata_Well\", \"oneb_Metadata_Treatment_Dose_Inhibitor_Dose\"],\n",
                ")\n",
                "print(norm_fs_df_subset.shape)\n",
                "norm_fs_df_subset.head()"
            ]
        },
        {
            "cell_type": "code",
            "execution_count": 5,
            "metadata": {},
            "outputs": [],
            "source": [
                "# paht to the ground truth file\n",
                "ground_truth_file_path = pathlib.Path(\n",
                "    \"../../../4.sc_Morphology_Neural_Network_MLP_Model/MLP_utils/ground_truth.toml\"\n",
                ").resolve(strict=True)\n",
                "# read in the ground truth toml file\n",
                "ground_truth = toml.load(ground_truth_file_path)\n",
                "# get information from toml files\n",
                "apoptosis_groups_list = ground_truth[\"Apoptosis\"][\"apoptosis_groups_list\"]\n",
                "pyroptosis_groups_list = ground_truth[\"Pyroptosis\"][\"pyroptosis_groups_list\"]\n",
                "healthy_groups_list = ground_truth[\"Healthy\"][\"healthy_groups_list\"]\n",
                "# add apoptosis, pyroptosis and healthy columns to dataframe\n",
                "norm_fs_df_subset[\"apoptosis\"] = norm_fs_df_subset.apply(\n",
                "    lambda row: row[\"oneb_Metadata_Treatment_Dose_Inhibitor_Dose\"]\n",
                "    in apoptosis_groups_list,\n",
                "    axis=1,\n",
                ")\n",
                "norm_fs_df_subset[\"pyroptosis\"] = norm_fs_df_subset.apply(\n",
                "    lambda row: row[\"oneb_Metadata_Treatment_Dose_Inhibitor_Dose\"]\n",
                "    in pyroptosis_groups_list,\n",
                "    axis=1,\n",
                ")\n",
                "norm_fs_df_subset[\"healthy\"] = norm_fs_df_subset.apply(\n",
                "    lambda row: row[\"oneb_Metadata_Treatment_Dose_Inhibitor_Dose\"]\n",
                "    in healthy_groups_list,\n",
                "    axis=1,\n",
                ")\n",
                "\n",
                "# merge apoptosis, pyroptosis, and healthy columns into one column\n",
                "norm_fs_df_subset[\"labels\"] = norm_fs_df_subset.apply(\n",
                "    lambda row: \"apoptosis\"\n",
                "    if row[\"apoptosis\"]\n",
                "    else \"pyroptosis\"\n",
                "    if row[\"pyroptosis\"]\n",
                "    else \"healthy\",\n",
                "    axis=1,\n",
                ")\n",
                "# drop apoptosis, pyroptosis, and healthy columns\n",
                "norm_fs_df_subset.drop(columns=[\"apoptosis\", \"pyroptosis\", \"healthy\"], inplace=True)"
            ]
        },
        {
            "cell_type": "code",
            "execution_count": 6,
            "metadata": {},
            "outputs": [
                {
                    "name": "stdout",
                    "output_type": "stream",
                    "text": [
                        "healthy       4301036\n",
                        "pyroptosis    3578372\n",
                        "apoptosis      439316\n",
                        "Name: labels, dtype: int64\n"
                    ]
                }
            ],
            "source": [
                "# print the number of samples in each class\n",
                "print(norm_fs_df_subset[\"labels\"].value_counts())"
            ]
        },
        {
            "cell_type": "markdown",
            "metadata": {},
            "source": [
                "## Stats for the Elastic Net models"
            ]
        },
        {
            "cell_type": "code",
            "execution_count": 9,
            "metadata": {},
            "outputs": [],
            "source": [
                "# set path for models performances\n",
                "model_performances_path = pathlib.Path(\n",
                "    \"../../../6.bulk_Morphology_Elastic_Network/4.model_performance/results/regression/PBMC/all_model_performance.csv\"\n",
                ").resolve(strict=True)\n",
                "# load in the model performances\n",
                "model_performances = pd.read_csv(model_performances_path)"
            ]
        },
        {
            "cell_type": "code",
            "execution_count": 10,
            "metadata": {},
            "outputs": [
                {
                    "name": "stdout",
                    "output_type": "stream",
                    "text": [
                        "(448426, 3)\n",
                        "(374, 3)\n"
                    ]
                },
                {
                    "data": {
                        "text/html": [
                            "<div>\n",
                            "<style scoped>\n",
                            "    .dataframe tbody tr th:only-of-type {\n",
                            "        vertical-align: middle;\n",
                            "    }\n",
                            "\n",
                            "    .dataframe tbody tr th {\n",
                            "        vertical-align: top;\n",
                            "    }\n",
                            "\n",
                            "    .dataframe thead th {\n",
                            "        text-align: right;\n",
                            "    }\n",
                            "</style>\n",
                            "<table border=\"1\" class=\"dataframe\">\n",
                            "  <thead>\n",
                            "    <tr style=\"text-align: right;\">\n",
                            "      <th></th>\n",
                            "      <th>secreted_proteins</th>\n",
                            "      <th>shuffle</th>\n",
                            "      <th>r2</th>\n",
                            "    </tr>\n",
                            "  </thead>\n",
                            "  <tbody>\n",
                            "    <tr>\n",
                            "      <th>0</th>\n",
                            "      <td>CXCL17 [NSU]</td>\n",
                            "      <td>final</td>\n",
                            "      <td>0.301493</td>\n",
                            "    </tr>\n",
                            "    <tr>\n",
                            "      <th>1199</th>\n",
                            "      <td>IL-7 [NSU]</td>\n",
                            "      <td>shuffled</td>\n",
                            "      <td>-0.206494</td>\n",
                            "    </tr>\n",
                            "    <tr>\n",
                            "      <th>2398</th>\n",
                            "      <td>CXCL7 [NSU]</td>\n",
                            "      <td>shuffled</td>\n",
                            "      <td>-0.001184</td>\n",
                            "    </tr>\n",
                            "    <tr>\n",
                            "      <th>3597</th>\n",
                            "      <td>CCL20 [NSU]</td>\n",
                            "      <td>final</td>\n",
                            "      <td>0.957082</td>\n",
                            "    </tr>\n",
                            "    <tr>\n",
                            "      <th>4796</th>\n",
                            "      <td>IL-31 [NSU]</td>\n",
                            "      <td>final</td>\n",
                            "      <td>-0.171904</td>\n",
                            "    </tr>\n",
                            "  </tbody>\n",
                            "</table>\n",
                            "</div>"
                        ],
                        "text/plain": [
                            "     secreted_proteins   shuffle        r2\n",
                            "0         CXCL17 [NSU]     final  0.301493\n",
                            "1199        IL-7 [NSU]  shuffled -0.206494\n",
                            "2398       CXCL7 [NSU]  shuffled -0.001184\n",
                            "3597       CCL20 [NSU]     final  0.957082\n",
                            "4796       IL-31 [NSU]     final -0.171904"
                        ]
                    },
                    "execution_count": 10,
                    "metadata": {},
                    "output_type": "execute_result"
                }
            ],
            "source": [
                "# drop uneeded columns\n",
                "columns_to_drop = [\n",
                "    \"feature_names\",\n",
                "    \"coefficients\",\n",
                "    \"cell_type\",\n",
                "    \"alpha\",\n",
                "    \"l1_ratio\",\n",
                "]\n",
                "model_performances.drop(columns=columns_to_drop, inplace=True)\n",
                "# drop duplicates\n",
                "print(model_performances.shape)\n",
                "model_performances.drop_duplicates(inplace=True)\n",
                "print(model_performances.shape)\n",
                "model_performances.head()"
            ]
        },
        {
            "cell_type": "code",
            "execution_count": 11,
            "metadata": {},
            "outputs": [
                {
                    "name": "stdout",
                    "output_type": "stream",
                    "text": [
                        "(187, 3)\n",
                        "(187, 3)\n"
                    ]
                }
            ],
            "source": [
                "# split the shuffled and final model performances\n",
                "suffled_models = model_performances.loc[model_performances[\"shuffle\"] == \"shuffled\"]\n",
                "final_models = model_performances.loc[model_performances[\"shuffle\"] == \"final\"]\n",
                "print(suffled_models.shape)\n",
                "print(final_models.shape)"
            ]
        },
        {
            "cell_type": "code",
            "execution_count": 12,
            "metadata": {},
            "outputs": [
                {
                    "name": "stderr",
                    "output_type": "stream",
                    "text": [
                        "/tmp/ipykernel_1108838/3314558135.py:2: SettingWithCopyWarning: \n",
                        "A value is trying to be set on a copy of a slice from a DataFrame\n",
                        "\n",
                        "See the caveats in the documentation: https://pandas.pydata.org/pandas-docs/stable/user_guide/indexing.html#returning-a-view-versus-a-copy\n",
                        "  final_models.sort_values(by=\"r2\", ascending=False, inplace=True)\n"
                    ]
                },
                {
                    "data": {
                        "text/html": [
                            "<div>\n",
                            "<style scoped>\n",
                            "    .dataframe tbody tr th:only-of-type {\n",
                            "        vertical-align: middle;\n",
                            "    }\n",
                            "\n",
                            "    .dataframe tbody tr th {\n",
                            "        vertical-align: top;\n",
                            "    }\n",
                            "\n",
                            "    .dataframe thead th {\n",
                            "        text-align: right;\n",
                            "    }\n",
                            "</style>\n",
                            "<table border=\"1\" class=\"dataframe\">\n",
                            "  <thead>\n",
                            "    <tr style=\"text-align: right;\">\n",
                            "      <th></th>\n",
                            "      <th>secreted_proteins</th>\n",
                            "      <th>shuffle</th>\n",
                            "      <th>r2</th>\n",
                            "    </tr>\n",
                            "  </thead>\n",
                            "  <tbody>\n",
                            "    <tr>\n",
                            "      <th>402864</th>\n",
                            "      <td>TNF alpha [NSU]</td>\n",
                            "      <td>final</td>\n",
                            "      <td>0.981769</td>\n",
                            "    </tr>\n",
                            "    <tr>\n",
                            "      <th>86328</th>\n",
                            "      <td>IL-1 beta [NSU]</td>\n",
                            "      <td>final</td>\n",
                            "      <td>0.979441</td>\n",
                            "    </tr>\n",
                            "    <tr>\n",
                            "      <th>275770</th>\n",
                            "      <td>IL-6 [NSU]</td>\n",
                            "      <td>final</td>\n",
                            "      <td>0.977715</td>\n",
                            "    </tr>\n",
                            "    <tr>\n",
                            "      <th>394471</th>\n",
                            "      <td>CCL4 [NSU]</td>\n",
                            "      <td>final</td>\n",
                            "      <td>0.970054</td>\n",
                            "    </tr>\n",
                            "    <tr>\n",
                            "      <th>196636</th>\n",
                            "      <td>CCL3 [NSU]</td>\n",
                            "      <td>final</td>\n",
                            "      <td>0.965891</td>\n",
                            "    </tr>\n",
                            "  </tbody>\n",
                            "</table>\n",
                            "</div>"
                        ],
                        "text/plain": [
                            "       secreted_proteins shuffle        r2\n",
                            "402864   TNF alpha [NSU]   final  0.981769\n",
                            "86328    IL-1 beta [NSU]   final  0.979441\n",
                            "275770        IL-6 [NSU]   final  0.977715\n",
                            "394471        CCL4 [NSU]   final  0.970054\n",
                            "196636        CCL3 [NSU]   final  0.965891"
                        ]
                    },
                    "execution_count": 12,
                    "metadata": {},
                    "output_type": "execute_result"
                }
            ],
            "source": [
                "# sort the final models by r2 score\n",
                "final_models.sort_values(by=\"r2\", ascending=False, inplace=True)\n",
                "final_models.head()"
            ]
        },
        {
            "cell_type": "code",
            "execution_count": 13,
            "metadata": {},
            "outputs": [
                {
                    "name": "stdout",
                    "output_type": "stream",
                    "text": [
                        "Percentage of models with r2 score above 0.8: 21.390374331550802 \n",
                        "The total number of models above the threshold is: 40\n"
                    ]
                }
            ],
            "source": [
                "# get the percentage of models that are above the threshold\n",
                "threshold = 0.8\n",
                "final_models_above_threshold = final_models.loc[final_models[\"r2\"] >= threshold]\n",
                "print(\n",
                "    f\"Percentage of models with r2 score above {threshold}: \"\n",
                "    f\"{(final_models_above_threshold.shape[0] / final_models.shape[0]) * 100}\",\n",
                "    f\"\\n\"\n",
                "    f\"The total number of models above the threshold is: {final_models_above_threshold.shape[0]}\",\n",
                ")"
            ]
        },
        {
            "cell_type": "code",
            "execution_count": 14,
            "metadata": {},
            "outputs": [
                {
                    "name": "stderr",
                    "output_type": "stream",
                    "text": [
                        "/tmp/ipykernel_1108838/3832736824.py:2: SettingWithCopyWarning: \n",
                        "A value is trying to be set on a copy of a slice from a DataFrame\n",
                        "\n",
                        "See the caveats in the documentation: https://pandas.pydata.org/pandas-docs/stable/user_guide/indexing.html#returning-a-view-versus-a-copy\n",
                        "  final_models.sort_values(by=\"r2\", ascending=True, inplace=True)\n"
                    ]
                },
                {
                    "data": {
                        "text/html": [
                            "<div>\n",
                            "<style scoped>\n",
                            "    .dataframe tbody tr th:only-of-type {\n",
                            "        vertical-align: middle;\n",
                            "    }\n",
                            "\n",
                            "    .dataframe tbody tr th {\n",
                            "        vertical-align: top;\n",
                            "    }\n",
                            "\n",
                            "    .dataframe thead th {\n",
                            "        text-align: right;\n",
                            "    }\n",
                            "</style>\n",
                            "<table border=\"1\" class=\"dataframe\">\n",
                            "  <thead>\n",
                            "    <tr style=\"text-align: right;\">\n",
                            "      <th></th>\n",
                            "      <th>secreted_proteins</th>\n",
                            "      <th>shuffle</th>\n",
                            "      <th>r2</th>\n",
                            "    </tr>\n",
                            "  </thead>\n",
                            "  <tbody>\n",
                            "    <tr>\n",
                            "      <th>426844</th>\n",
                            "      <td>FGF-21 [NSU]</td>\n",
                            "      <td>final</td>\n",
                            "      <td>-0.331974</td>\n",
                            "    </tr>\n",
                            "    <tr>\n",
                            "      <th>437635</th>\n",
                            "      <td>IL-17C [NSU]</td>\n",
                            "      <td>final</td>\n",
                            "      <td>-0.306111</td>\n",
                            "    </tr>\n",
                            "    <tr>\n",
                            "      <th>326128</th>\n",
                            "      <td>CX3CL1 [NSU]</td>\n",
                            "      <td>final</td>\n",
                            "      <td>-0.293323</td>\n",
                            "    </tr>\n",
                            "    <tr>\n",
                            "      <th>153472</th>\n",
                            "      <td>IL-11 [NSU]</td>\n",
                            "      <td>final</td>\n",
                            "      <td>-0.266779</td>\n",
                            "    </tr>\n",
                            "    <tr>\n",
                            "      <th>74338</th>\n",
                            "      <td>AITRL (GITR Ligand) [NSU]</td>\n",
                            "      <td>final</td>\n",
                            "      <td>-0.230527</td>\n",
                            "    </tr>\n",
                            "  </tbody>\n",
                            "</table>\n",
                            "</div>"
                        ],
                        "text/plain": [
                            "                secreted_proteins shuffle        r2\n",
                            "426844               FGF-21 [NSU]   final -0.331974\n",
                            "437635               IL-17C [NSU]   final -0.306111\n",
                            "326128               CX3CL1 [NSU]   final -0.293323\n",
                            "153472                IL-11 [NSU]   final -0.266779\n",
                            "74338   AITRL (GITR Ligand) [NSU]   final -0.230527"
                        ]
                    },
                    "execution_count": 14,
                    "metadata": {},
                    "output_type": "execute_result"
                }
            ],
            "source": [
                "# sort the shuffled models by r2 score from low to high\n",
                "final_models.sort_values(by=\"r2\", ascending=True, inplace=True)\n",
                "final_models.head()"
            ]
        },
        {
            "cell_type": "markdown",
            "metadata": {},
            "source": [
                "## LOCO ENET stats"
            ]
        },
        {
            "cell_type": "code",
            "execution_count": null,
            "metadata": {},
            "outputs": [],
            "source": [
                "# set path for models performances\n",
                "model_performances_path = pathlib.Path(\n",
                "    \"../../../11.bulk_Morphology_Elastic_Network_LOCO/2.test_models/results/regression/PBMC_aggregated_with_nomic\"\n",
                ").resolve(strict=True)\n",
                "#"
            ]
        },
        {
            "cell_type": "code",
            "execution_count": 17,
            "metadata": {},
            "outputs": [
                {
                    "name": "stdout",
                    "output_type": "stream",
                    "text": [
                        "47874\n"
                    ]
                },
                {
                    "ename": "KeyboardInterrupt",
                    "evalue": "",
                    "output_type": "error",
                    "traceback": [
                        "\u001b[0;31m---------------------------------------------------------------------------\u001b[0m",
                        "\u001b[0;31mKeyboardInterrupt\u001b[0m                         Traceback (most recent call last)",
                        "Cell \u001b[0;32mIn[17], line 5\u001b[0m\n\u001b[1;32m      3\u001b[0m \u001b[38;5;28mprint\u001b[39m(\u001b[38;5;28mlen\u001b[39m(model_performances_list))\n\u001b[1;32m      4\u001b[0m \u001b[38;5;66;03m# load in the model performances to a df\u001b[39;00m\n\u001b[0;32m----> 5\u001b[0m model_performances \u001b[38;5;241m=\u001b[39m \u001b[43mpd\u001b[49m\u001b[38;5;241;43m.\u001b[39;49m\u001b[43mconcat\u001b[49m\u001b[43m(\u001b[49m\n\u001b[1;32m      6\u001b[0m \u001b[43m    \u001b[49m\u001b[43m[\u001b[49m\u001b[43mpd\u001b[49m\u001b[38;5;241;43m.\u001b[39;49m\u001b[43mread_csv\u001b[49m\u001b[43m(\u001b[49m\u001b[43mmodel\u001b[49m\u001b[43m)\u001b[49m\u001b[43m \u001b[49m\u001b[38;5;28;43;01mfor\u001b[39;49;00m\u001b[43m \u001b[49m\u001b[43mmodel\u001b[49m\u001b[43m \u001b[49m\u001b[38;5;129;43;01min\u001b[39;49;00m\u001b[43m \u001b[49m\u001b[43mmodel_performances_list\u001b[49m\u001b[43m]\u001b[49m\n\u001b[1;32m      7\u001b[0m \u001b[43m)\u001b[49m\n\u001b[1;32m      8\u001b[0m model_performances\u001b[38;5;241m.\u001b[39mhead()\n",
                        "File \u001b[0;32m~/miniforge3/envs/Interstellar_python/lib/python3.10/site-packages/pandas/util/_decorators.py:331\u001b[0m, in \u001b[0;36mdeprecate_nonkeyword_arguments.<locals>.decorate.<locals>.wrapper\u001b[0;34m(*args, **kwargs)\u001b[0m\n\u001b[1;32m    325\u001b[0m \u001b[38;5;28;01mif\u001b[39;00m \u001b[38;5;28mlen\u001b[39m(args) \u001b[38;5;241m>\u001b[39m num_allow_args:\n\u001b[1;32m    326\u001b[0m     warnings\u001b[38;5;241m.\u001b[39mwarn(\n\u001b[1;32m    327\u001b[0m         msg\u001b[38;5;241m.\u001b[39mformat(arguments\u001b[38;5;241m=\u001b[39m_format_argument_list(allow_args)),\n\u001b[1;32m    328\u001b[0m         \u001b[38;5;167;01mFutureWarning\u001b[39;00m,\n\u001b[1;32m    329\u001b[0m         stacklevel\u001b[38;5;241m=\u001b[39mfind_stack_level(),\n\u001b[1;32m    330\u001b[0m     )\n\u001b[0;32m--> 331\u001b[0m \u001b[38;5;28;01mreturn\u001b[39;00m \u001b[43mfunc\u001b[49m\u001b[43m(\u001b[49m\u001b[38;5;241;43m*\u001b[39;49m\u001b[43margs\u001b[49m\u001b[43m,\u001b[49m\u001b[43m \u001b[49m\u001b[38;5;241;43m*\u001b[39;49m\u001b[38;5;241;43m*\u001b[39;49m\u001b[43mkwargs\u001b[49m\u001b[43m)\u001b[49m\n",
                        "File \u001b[0;32m~/miniforge3/envs/Interstellar_python/lib/python3.10/site-packages/pandas/core/reshape/concat.py:381\u001b[0m, in \u001b[0;36mconcat\u001b[0;34m(objs, axis, join, ignore_index, keys, levels, names, verify_integrity, sort, copy)\u001b[0m\n\u001b[1;32m    159\u001b[0m \u001b[38;5;250m\u001b[39m\u001b[38;5;124;03m\"\"\"\u001b[39;00m\n\u001b[1;32m    160\u001b[0m \u001b[38;5;124;03mConcatenate pandas objects along a particular axis.\u001b[39;00m\n\u001b[1;32m    161\u001b[0m \n\u001b[0;32m   (...)\u001b[0m\n\u001b[1;32m    366\u001b[0m \u001b[38;5;124;03m1   3   4\u001b[39;00m\n\u001b[1;32m    367\u001b[0m \u001b[38;5;124;03m\"\"\"\u001b[39;00m\n\u001b[1;32m    368\u001b[0m op \u001b[38;5;241m=\u001b[39m _Concatenator(\n\u001b[1;32m    369\u001b[0m     objs,\n\u001b[1;32m    370\u001b[0m     axis\u001b[38;5;241m=\u001b[39maxis,\n\u001b[0;32m   (...)\u001b[0m\n\u001b[1;32m    378\u001b[0m     sort\u001b[38;5;241m=\u001b[39msort,\n\u001b[1;32m    379\u001b[0m )\n\u001b[0;32m--> 381\u001b[0m \u001b[38;5;28;01mreturn\u001b[39;00m \u001b[43mop\u001b[49m\u001b[38;5;241;43m.\u001b[39;49m\u001b[43mget_result\u001b[49m\u001b[43m(\u001b[49m\u001b[43m)\u001b[49m\n",
                        "File \u001b[0;32m~/miniforge3/envs/Interstellar_python/lib/python3.10/site-packages/pandas/core/reshape/concat.py:616\u001b[0m, in \u001b[0;36m_Concatenator.get_result\u001b[0;34m(self)\u001b[0m\n\u001b[1;32m    612\u001b[0m             indexers[ax] \u001b[38;5;241m=\u001b[39m obj_labels\u001b[38;5;241m.\u001b[39mget_indexer(new_labels)\n\u001b[1;32m    614\u001b[0m     mgrs_indexers\u001b[38;5;241m.\u001b[39mappend((obj\u001b[38;5;241m.\u001b[39m_mgr, indexers))\n\u001b[0;32m--> 616\u001b[0m new_data \u001b[38;5;241m=\u001b[39m \u001b[43mconcatenate_managers\u001b[49m\u001b[43m(\u001b[49m\n\u001b[1;32m    617\u001b[0m \u001b[43m    \u001b[49m\u001b[43mmgrs_indexers\u001b[49m\u001b[43m,\u001b[49m\u001b[43m \u001b[49m\u001b[38;5;28;43mself\u001b[39;49m\u001b[38;5;241;43m.\u001b[39;49m\u001b[43mnew_axes\u001b[49m\u001b[43m,\u001b[49m\u001b[43m \u001b[49m\u001b[43mconcat_axis\u001b[49m\u001b[38;5;241;43m=\u001b[39;49m\u001b[38;5;28;43mself\u001b[39;49m\u001b[38;5;241;43m.\u001b[39;49m\u001b[43mbm_axis\u001b[49m\u001b[43m,\u001b[49m\u001b[43m \u001b[49m\u001b[43mcopy\u001b[49m\u001b[38;5;241;43m=\u001b[39;49m\u001b[38;5;28;43mself\u001b[39;49m\u001b[38;5;241;43m.\u001b[39;49m\u001b[43mcopy\u001b[49m\n\u001b[1;32m    618\u001b[0m \u001b[43m\u001b[49m\u001b[43m)\u001b[49m\n\u001b[1;32m    619\u001b[0m \u001b[38;5;28;01mif\u001b[39;00m \u001b[38;5;129;01mnot\u001b[39;00m \u001b[38;5;28mself\u001b[39m\u001b[38;5;241m.\u001b[39mcopy:\n\u001b[1;32m    620\u001b[0m     new_data\u001b[38;5;241m.\u001b[39m_consolidate_inplace()\n",
                        "File \u001b[0;32m~/miniforge3/envs/Interstellar_python/lib/python3.10/site-packages/pandas/core/internals/concat.py:216\u001b[0m, in \u001b[0;36mconcatenate_managers\u001b[0;34m(mgrs_indexers, axes, concat_axis, copy)\u001b[0m\n\u001b[1;32m    214\u001b[0m         values \u001b[38;5;241m=\u001b[39m values\u001b[38;5;241m.\u001b[39mview()\n\u001b[1;32m    215\u001b[0m     fastpath \u001b[38;5;241m=\u001b[39m \u001b[38;5;28;01mTrue\u001b[39;00m\n\u001b[0;32m--> 216\u001b[0m \u001b[38;5;28;01melif\u001b[39;00m \u001b[43m_is_uniform_join_units\u001b[49m\u001b[43m(\u001b[49m\u001b[43mjoin_units\u001b[49m\u001b[43m)\u001b[49m:\n\u001b[1;32m    217\u001b[0m     vals \u001b[38;5;241m=\u001b[39m [ju\u001b[38;5;241m.\u001b[39mblock\u001b[38;5;241m.\u001b[39mvalues \u001b[38;5;28;01mfor\u001b[39;00m ju \u001b[38;5;129;01min\u001b[39;00m join_units]\n\u001b[1;32m    219\u001b[0m     \u001b[38;5;28;01mif\u001b[39;00m \u001b[38;5;129;01mnot\u001b[39;00m blk\u001b[38;5;241m.\u001b[39mis_extension:\n\u001b[1;32m    220\u001b[0m         \u001b[38;5;66;03m# _is_uniform_join_units ensures a single dtype, so\u001b[39;00m\n\u001b[1;32m    221\u001b[0m         \u001b[38;5;66;03m#  we can use np.concatenate, which is more performant\u001b[39;00m\n\u001b[1;32m    222\u001b[0m         \u001b[38;5;66;03m#  than concat_compat\u001b[39;00m\n",
                        "File \u001b[0;32m~/miniforge3/envs/Interstellar_python/lib/python3.10/site-packages/pandas/core/internals/concat.py:650\u001b[0m, in \u001b[0;36m_is_uniform_join_units\u001b[0;34m(join_units)\u001b[0m\n\u001b[1;32m    643\u001b[0m \u001b[38;5;28;01mif\u001b[39;00m first\u001b[38;5;241m.\u001b[39mdtype\u001b[38;5;241m.\u001b[39mkind \u001b[38;5;241m==\u001b[39m \u001b[38;5;124m\"\u001b[39m\u001b[38;5;124mV\u001b[39m\u001b[38;5;124m\"\u001b[39m:\n\u001b[1;32m    644\u001b[0m     \u001b[38;5;28;01mreturn\u001b[39;00m \u001b[38;5;28;01mFalse\u001b[39;00m\n\u001b[1;32m    645\u001b[0m \u001b[38;5;28;01mreturn\u001b[39;00m (\n\u001b[1;32m    646\u001b[0m     \u001b[38;5;66;03m# exclude cases where a) ju.block is None or b) we have e.g. Int64+int64\u001b[39;00m\n\u001b[1;32m    647\u001b[0m     \u001b[38;5;28mall\u001b[39m(\u001b[38;5;28mtype\u001b[39m(ju\u001b[38;5;241m.\u001b[39mblock) \u001b[38;5;129;01mis\u001b[39;00m \u001b[38;5;28mtype\u001b[39m(first) \u001b[38;5;28;01mfor\u001b[39;00m ju \u001b[38;5;129;01min\u001b[39;00m join_units)\n\u001b[1;32m    648\u001b[0m     \u001b[38;5;129;01mand\u001b[39;00m\n\u001b[1;32m    649\u001b[0m     \u001b[38;5;66;03m# e.g. DatetimeLikeBlock can be dt64 or td64, but these are not uniform\u001b[39;00m\n\u001b[0;32m--> 650\u001b[0m     \u001b[38;5;28;43mall\u001b[39;49m\u001b[43m(\u001b[49m\n\u001b[1;32m    651\u001b[0m \u001b[43m        \u001b[49m\u001b[43mis_dtype_equal\u001b[49m\u001b[43m(\u001b[49m\u001b[43mju\u001b[49m\u001b[38;5;241;43m.\u001b[39;49m\u001b[43mblock\u001b[49m\u001b[38;5;241;43m.\u001b[39;49m\u001b[43mdtype\u001b[49m\u001b[43m,\u001b[49m\u001b[43m \u001b[49m\u001b[43mfirst\u001b[49m\u001b[38;5;241;43m.\u001b[39;49m\u001b[43mdtype\u001b[49m\u001b[43m)\u001b[49m\n\u001b[1;32m    652\u001b[0m \u001b[43m        \u001b[49m\u001b[38;5;66;43;03m# GH#42092 we only want the dtype_equal check for non-numeric blocks\u001b[39;49;00m\n\u001b[1;32m    653\u001b[0m \u001b[43m        \u001b[49m\u001b[38;5;66;43;03m#  (for now, may change but that would need a deprecation)\u001b[39;49;00m\n\u001b[1;32m    654\u001b[0m \u001b[43m        \u001b[49m\u001b[38;5;129;43;01mor\u001b[39;49;00m\u001b[43m \u001b[49m\u001b[43mju\u001b[49m\u001b[38;5;241;43m.\u001b[39;49m\u001b[43mblock\u001b[49m\u001b[38;5;241;43m.\u001b[39;49m\u001b[43mdtype\u001b[49m\u001b[38;5;241;43m.\u001b[39;49m\u001b[43mkind\u001b[49m\u001b[43m \u001b[49m\u001b[38;5;129;43;01min\u001b[39;49;00m\u001b[43m \u001b[49m\u001b[43m[\u001b[49m\u001b[38;5;124;43m\"\u001b[39;49m\u001b[38;5;124;43mb\u001b[39;49m\u001b[38;5;124;43m\"\u001b[39;49m\u001b[43m,\u001b[49m\u001b[43m \u001b[49m\u001b[38;5;124;43m\"\u001b[39;49m\u001b[38;5;124;43mi\u001b[39;49m\u001b[38;5;124;43m\"\u001b[39;49m\u001b[43m,\u001b[49m\u001b[43m \u001b[49m\u001b[38;5;124;43m\"\u001b[39;49m\u001b[38;5;124;43mu\u001b[39;49m\u001b[38;5;124;43m\"\u001b[39;49m\u001b[43m]\u001b[49m\n\u001b[1;32m    655\u001b[0m \u001b[43m        \u001b[49m\u001b[38;5;28;43;01mfor\u001b[39;49;00m\u001b[43m \u001b[49m\u001b[43mju\u001b[49m\u001b[43m \u001b[49m\u001b[38;5;129;43;01min\u001b[39;49;00m\u001b[43m \u001b[49m\u001b[43mjoin_units\u001b[49m\n\u001b[1;32m    656\u001b[0m \u001b[43m    \u001b[49m\u001b[43m)\u001b[49m\n\u001b[1;32m    657\u001b[0m     \u001b[38;5;129;01mand\u001b[39;00m\n\u001b[1;32m    658\u001b[0m     \u001b[38;5;66;03m# no blocks that would get missing values (can lead to type upcasts)\u001b[39;00m\n\u001b[1;32m    659\u001b[0m     \u001b[38;5;66;03m# unless we're an extension dtype.\u001b[39;00m\n\u001b[1;32m    660\u001b[0m     \u001b[38;5;28mall\u001b[39m(\u001b[38;5;129;01mnot\u001b[39;00m ju\u001b[38;5;241m.\u001b[39mis_na \u001b[38;5;129;01mor\u001b[39;00m ju\u001b[38;5;241m.\u001b[39mblock\u001b[38;5;241m.\u001b[39mis_extension \u001b[38;5;28;01mfor\u001b[39;00m ju \u001b[38;5;129;01min\u001b[39;00m join_units)\n\u001b[1;32m    661\u001b[0m     \u001b[38;5;129;01mand\u001b[39;00m\n\u001b[1;32m    662\u001b[0m     \u001b[38;5;66;03m# no blocks with indexers (as then the dimensions do not fit)\u001b[39;00m\n\u001b[1;32m    663\u001b[0m     \u001b[38;5;28mall\u001b[39m(\u001b[38;5;129;01mnot\u001b[39;00m ju\u001b[38;5;241m.\u001b[39mindexers \u001b[38;5;28;01mfor\u001b[39;00m ju \u001b[38;5;129;01min\u001b[39;00m join_units)\n\u001b[1;32m    664\u001b[0m     \u001b[38;5;129;01mand\u001b[39;00m\n\u001b[1;32m    665\u001b[0m     \u001b[38;5;66;03m# only use this path when there is something to concatenate\u001b[39;00m\n\u001b[1;32m    666\u001b[0m     \u001b[38;5;28mlen\u001b[39m(join_units) \u001b[38;5;241m>\u001b[39m \u001b[38;5;241m1\u001b[39m\n\u001b[1;32m    667\u001b[0m )\n",
                        "File \u001b[0;32m~/miniforge3/envs/Interstellar_python/lib/python3.10/site-packages/pandas/core/internals/concat.py:651\u001b[0m, in \u001b[0;36m<genexpr>\u001b[0;34m(.0)\u001b[0m\n\u001b[1;32m    643\u001b[0m \u001b[38;5;28;01mif\u001b[39;00m first\u001b[38;5;241m.\u001b[39mdtype\u001b[38;5;241m.\u001b[39mkind \u001b[38;5;241m==\u001b[39m \u001b[38;5;124m\"\u001b[39m\u001b[38;5;124mV\u001b[39m\u001b[38;5;124m\"\u001b[39m:\n\u001b[1;32m    644\u001b[0m     \u001b[38;5;28;01mreturn\u001b[39;00m \u001b[38;5;28;01mFalse\u001b[39;00m\n\u001b[1;32m    645\u001b[0m \u001b[38;5;28;01mreturn\u001b[39;00m (\n\u001b[1;32m    646\u001b[0m     \u001b[38;5;66;03m# exclude cases where a) ju.block is None or b) we have e.g. Int64+int64\u001b[39;00m\n\u001b[1;32m    647\u001b[0m     \u001b[38;5;28mall\u001b[39m(\u001b[38;5;28mtype\u001b[39m(ju\u001b[38;5;241m.\u001b[39mblock) \u001b[38;5;129;01mis\u001b[39;00m \u001b[38;5;28mtype\u001b[39m(first) \u001b[38;5;28;01mfor\u001b[39;00m ju \u001b[38;5;129;01min\u001b[39;00m join_units)\n\u001b[1;32m    648\u001b[0m     \u001b[38;5;129;01mand\u001b[39;00m\n\u001b[1;32m    649\u001b[0m     \u001b[38;5;66;03m# e.g. DatetimeLikeBlock can be dt64 or td64, but these are not uniform\u001b[39;00m\n\u001b[1;32m    650\u001b[0m     \u001b[38;5;28mall\u001b[39m(\n\u001b[0;32m--> 651\u001b[0m         is_dtype_equal(\u001b[43mju\u001b[49m\u001b[38;5;241;43m.\u001b[39;49m\u001b[43mblock\u001b[49m\u001b[38;5;241;43m.\u001b[39;49m\u001b[43mdtype\u001b[49m, first\u001b[38;5;241m.\u001b[39mdtype)\n\u001b[1;32m    652\u001b[0m         \u001b[38;5;66;03m# GH#42092 we only want the dtype_equal check for non-numeric blocks\u001b[39;00m\n\u001b[1;32m    653\u001b[0m         \u001b[38;5;66;03m#  (for now, may change but that would need a deprecation)\u001b[39;00m\n\u001b[1;32m    654\u001b[0m         \u001b[38;5;129;01mor\u001b[39;00m ju\u001b[38;5;241m.\u001b[39mblock\u001b[38;5;241m.\u001b[39mdtype\u001b[38;5;241m.\u001b[39mkind \u001b[38;5;129;01min\u001b[39;00m [\u001b[38;5;124m\"\u001b[39m\u001b[38;5;124mb\u001b[39m\u001b[38;5;124m\"\u001b[39m, \u001b[38;5;124m\"\u001b[39m\u001b[38;5;124mi\u001b[39m\u001b[38;5;124m\"\u001b[39m, \u001b[38;5;124m\"\u001b[39m\u001b[38;5;124mu\u001b[39m\u001b[38;5;124m\"\u001b[39m]\n\u001b[1;32m    655\u001b[0m         \u001b[38;5;28;01mfor\u001b[39;00m ju \u001b[38;5;129;01min\u001b[39;00m join_units\n\u001b[1;32m    656\u001b[0m     )\n\u001b[1;32m    657\u001b[0m     \u001b[38;5;129;01mand\u001b[39;00m\n\u001b[1;32m    658\u001b[0m     \u001b[38;5;66;03m# no blocks that would get missing values (can lead to type upcasts)\u001b[39;00m\n\u001b[1;32m    659\u001b[0m     \u001b[38;5;66;03m# unless we're an extension dtype.\u001b[39;00m\n\u001b[1;32m    660\u001b[0m     \u001b[38;5;28mall\u001b[39m(\u001b[38;5;129;01mnot\u001b[39;00m ju\u001b[38;5;241m.\u001b[39mis_na \u001b[38;5;129;01mor\u001b[39;00m ju\u001b[38;5;241m.\u001b[39mblock\u001b[38;5;241m.\u001b[39mis_extension \u001b[38;5;28;01mfor\u001b[39;00m ju \u001b[38;5;129;01min\u001b[39;00m join_units)\n\u001b[1;32m    661\u001b[0m     \u001b[38;5;129;01mand\u001b[39;00m\n\u001b[1;32m    662\u001b[0m     \u001b[38;5;66;03m# no blocks with indexers (as then the dimensions do not fit)\u001b[39;00m\n\u001b[1;32m    663\u001b[0m     \u001b[38;5;28mall\u001b[39m(\u001b[38;5;129;01mnot\u001b[39;00m ju\u001b[38;5;241m.\u001b[39mindexers \u001b[38;5;28;01mfor\u001b[39;00m ju \u001b[38;5;129;01min\u001b[39;00m join_units)\n\u001b[1;32m    664\u001b[0m     \u001b[38;5;129;01mand\u001b[39;00m\n\u001b[1;32m    665\u001b[0m     \u001b[38;5;66;03m# only use this path when there is something to concatenate\u001b[39;00m\n\u001b[1;32m    666\u001b[0m     \u001b[38;5;28mlen\u001b[39m(join_units) \u001b[38;5;241m>\u001b[39m \u001b[38;5;241m1\u001b[39m\n\u001b[1;32m    667\u001b[0m )\n",
                        "File \u001b[0;32m~/miniforge3/envs/Interstellar_python/lib/python3.10/site-packages/pandas/_libs/properties.pyx:36\u001b[0m, in \u001b[0;36mpandas._libs.properties.CachedProperty.__get__\u001b[0;34m()\u001b[0m\n",
                        "File \u001b[0;32m~/miniforge3/envs/Interstellar_python/lib/python3.10/site-packages/pandas/core/internals/blocks.py:500\u001b[0m, in \u001b[0;36mBlock.dtype\u001b[0;34m(self)\u001b[0m\n\u001b[1;32m    495\u001b[0m     \u001b[38;5;28;01mreturn\u001b[39;00m [\u001b[38;5;28mself\u001b[39m\u001b[38;5;241m.\u001b[39mcopy()] \u001b[38;5;28;01mif\u001b[39;00m copy \u001b[38;5;28;01melse\u001b[39;00m [\u001b[38;5;28mself\u001b[39m]\n\u001b[1;32m    497\u001b[0m \u001b[38;5;66;03m# ---------------------------------------------------------------------\u001b[39;00m\n\u001b[1;32m    498\u001b[0m \u001b[38;5;66;03m# Array-Like Methods\u001b[39;00m\n\u001b[0;32m--> 500\u001b[0m \u001b[38;5;129m@cache_readonly\u001b[39m\n\u001b[1;32m    501\u001b[0m \u001b[38;5;28;01mdef\u001b[39;00m \u001b[38;5;21mdtype\u001b[39m(\u001b[38;5;28mself\u001b[39m) \u001b[38;5;241m-\u001b[39m\u001b[38;5;241m>\u001b[39m DtypeObj:\n\u001b[1;32m    502\u001b[0m     \u001b[38;5;28;01mreturn\u001b[39;00m \u001b[38;5;28mself\u001b[39m\u001b[38;5;241m.\u001b[39mvalues\u001b[38;5;241m.\u001b[39mdtype\n\u001b[1;32m    504\u001b[0m \u001b[38;5;129m@final\u001b[39m\n\u001b[1;32m    505\u001b[0m \u001b[38;5;28;01mdef\u001b[39;00m \u001b[38;5;21mastype\u001b[39m(\n\u001b[1;32m    506\u001b[0m     \u001b[38;5;28mself\u001b[39m, dtype: DtypeObj, copy: \u001b[38;5;28mbool\u001b[39m \u001b[38;5;241m=\u001b[39m \u001b[38;5;28;01mFalse\u001b[39;00m, errors: IgnoreRaise \u001b[38;5;241m=\u001b[39m \u001b[38;5;124m\"\u001b[39m\u001b[38;5;124mraise\u001b[39m\u001b[38;5;124m\"\u001b[39m\n\u001b[1;32m    507\u001b[0m ) \u001b[38;5;241m-\u001b[39m\u001b[38;5;241m>\u001b[39m Block:\n",
                        "\u001b[0;31mKeyboardInterrupt\u001b[0m: "
                    ]
                }
            ],
            "source": [
                "# get a list of all the model performances\n",
                "model_performances_list = list(model_performances_path.glob(\"*.csv\"))\n",
                "print(len(model_performances_list))\n",
                "# load in the model performances to a df\n",
                "model_performances = pd.concat(\n",
                "    [pd.read_csv(model) for model in model_performances_list]\n",
                ")\n",
                "model_performances.head()"
            ]
        },
        {
            "cell_type": "code",
            "execution_count": null,
            "metadata": {},
            "outputs": [],
            "source": []
        }
    ],
    "metadata": {
        "kernelspec": {
            "display_name": "Interstellar_python",
            "language": "python",
            "name": "python3"
        },
        "language_info": {
            "codemirror_mode": {
                "name": "ipython",
                "version": 3
            },
            "file_extension": ".py",
            "mimetype": "text/x-python",
            "name": "python",
            "nbconvert_exporter": "python",
            "pygments_lexer": "ipython3",
            "version": "3.10.15"
        }
    },
    "nbformat": 4,
    "nbformat_minor": 2
}
