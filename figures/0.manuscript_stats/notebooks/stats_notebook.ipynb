{
 "cells": [
  {
   "cell_type": "code",
   "execution_count": 1,
   "metadata": {},
   "outputs": [],
   "source": [
    "import gc\n",
    "import pathlib\n",
    "\n",
    "import numpy as np\n",
    "import pandas as pd\n",
    "import toml"
   ]
  },
  {
   "cell_type": "markdown",
   "metadata": {},
   "source": [
    "## Morphology Feature space stats"
   ]
  },
  {
   "cell_type": "code",
   "execution_count": 2,
   "metadata": {},
   "outputs": [],
   "source": [
    "# set paths to data\n",
    "norm_data_path = pathlib.Path(\"../../../data/PBMC_sc_norm.parquet\").resolve(strict=True)\n",
    "\n",
    "# fs data\n",
    "norm_fs_data_path = pathlib.Path(\n",
    "    \"../../../data/PBMC_preprocessed_sc_norm.parquet\"\n",
    ").resolve(strict=True)"
   ]
  },
  {
   "cell_type": "markdown",
   "metadata": {},
   "source": [
    "## Check Raw features shape"
   ]
  },
  {
   "cell_type": "code",
   "execution_count": 3,
   "metadata": {},
   "outputs": [],
   "source": [
    "# load in the normalized data\n",
    "norm_data = pd.read_parquet(norm_data_path)"
   ]
  },
  {
   "cell_type": "code",
   "execution_count": 4,
   "metadata": {},
   "outputs": [
    {
     "name": "stdout",
     "output_type": "stream",
     "text": [
      "metadata_df shape: (8318751, 19)\n",
      "features_df shape: (8318751, 2907)\n",
      "There are 8318751 cells in the dataset\n",
      "There are 2907 features in the dataset\n"
     ]
    }
   ],
   "source": [
    "# get columns that contain Metadata\n",
    "metadata_cols = [col for col in norm_data.columns if \"Metadata\" in col]\n",
    "metadata_df = norm_data[metadata_cols]\n",
    "features_df = norm_data.drop(metadata_cols, axis=\"columns\")\n",
    "print(f\"metadata_df shape: {metadata_df.shape}\")\n",
    "print(f\"features_df shape: {features_df.shape}\")\n",
    "print(f\"There are {metadata_df.shape[0]} cells in the dataset\")\n",
    "print(f\"There are {features_df.shape[1]} features in the dataset\")"
   ]
  },
  {
   "cell_type": "code",
   "execution_count": 5,
   "metadata": {},
   "outputs": [
    {
     "data": {
      "text/plain": [
       "0"
      ]
     },
     "execution_count": 5,
     "metadata": {},
     "output_type": "execute_result"
    }
   ],
   "source": [
    "# remove the dfs from memory\n",
    "del norm_data\n",
    "del metadata_df\n",
    "del features_df\n",
    "# collect the garbage\n",
    "gc.collect()"
   ]
  },
  {
   "cell_type": "markdown",
   "metadata": {},
   "source": [
    "## Check feature selected shape"
   ]
  },
  {
   "cell_type": "code",
   "execution_count": 6,
   "metadata": {},
   "outputs": [
    {
     "name": "stdout",
     "output_type": "stream",
     "text": [
      "metadata_df shape: (8318724, 25)\n",
      "features_df shape: (8318724, 1199)\n",
      "There are 8318724 cells in the dataset\n",
      "There are 1199 features in the dataset\n",
      "(8318724, 2)\n"
     ]
    },
    {
     "data": {
      "text/html": [
       "<div>\n",
       "<style scoped>\n",
       "    .dataframe tbody tr th:only-of-type {\n",
       "        vertical-align: middle;\n",
       "    }\n",
       "\n",
       "    .dataframe tbody tr th {\n",
       "        vertical-align: top;\n",
       "    }\n",
       "\n",
       "    .dataframe thead th {\n",
       "        text-align: right;\n",
       "    }\n",
       "</style>\n",
       "<table border=\"1\" class=\"dataframe\">\n",
       "  <thead>\n",
       "    <tr style=\"text-align: right;\">\n",
       "      <th></th>\n",
       "      <th>Metadata_Well</th>\n",
       "      <th>oneb_Metadata_Treatment_Dose_Inhibitor_Dose</th>\n",
       "    </tr>\n",
       "  </thead>\n",
       "  <tbody>\n",
       "    <tr>\n",
       "      <th>0</th>\n",
       "      <td>B02</td>\n",
       "      <td>LPS_0.010_ug_per_ml_DMSO_0.025_%</td>\n",
       "    </tr>\n",
       "    <tr>\n",
       "      <th>1</th>\n",
       "      <td>B02</td>\n",
       "      <td>LPS_0.010_ug_per_ml_DMSO_0.025_%</td>\n",
       "    </tr>\n",
       "    <tr>\n",
       "      <th>2</th>\n",
       "      <td>B02</td>\n",
       "      <td>LPS_0.010_ug_per_ml_DMSO_0.025_%</td>\n",
       "    </tr>\n",
       "    <tr>\n",
       "      <th>3</th>\n",
       "      <td>B02</td>\n",
       "      <td>LPS_0.010_ug_per_ml_DMSO_0.025_%</td>\n",
       "    </tr>\n",
       "    <tr>\n",
       "      <th>4</th>\n",
       "      <td>B02</td>\n",
       "      <td>LPS_0.010_ug_per_ml_DMSO_0.025_%</td>\n",
       "    </tr>\n",
       "  </tbody>\n",
       "</table>\n",
       "</div>"
      ],
      "text/plain": [
       "  Metadata_Well oneb_Metadata_Treatment_Dose_Inhibitor_Dose\n",
       "0           B02            LPS_0.010_ug_per_ml_DMSO_0.025_%\n",
       "1           B02            LPS_0.010_ug_per_ml_DMSO_0.025_%\n",
       "2           B02            LPS_0.010_ug_per_ml_DMSO_0.025_%\n",
       "3           B02            LPS_0.010_ug_per_ml_DMSO_0.025_%\n",
       "4           B02            LPS_0.010_ug_per_ml_DMSO_0.025_%"
      ]
     },
     "execution_count": 6,
     "metadata": {},
     "output_type": "execute_result"
    }
   ],
   "source": [
    "# load in the feature selected data\n",
    "norm_fs_df = pd.read_parquet(norm_fs_data_path)\n",
    "# get columns that contain Metadata\n",
    "metadata_cols = [col for col in norm_fs_df.columns if \"Metadata\" in col]\n",
    "metadata_df = norm_fs_df[metadata_cols]\n",
    "features_df = norm_fs_df.drop(metadata_cols, axis=\"columns\")\n",
    "print(f\"metadata_df shape: {metadata_df.shape}\")\n",
    "print(f\"features_df shape: {features_df.shape}\")\n",
    "print(f\"There are {metadata_df.shape[0]} cells in the dataset\")\n",
    "print(f\"There are {features_df.shape[1]} features in the dataset\")\n",
    "\n",
    "# remove the dfs from memory\n",
    "del norm_fs_df\n",
    "del metadata_df\n",
    "del features_df\n",
    "# collect the garbage\n",
    "gc.collect()\n",
    "\n",
    "norm_fs_df_subset = pd.read_parquet(\n",
    "    norm_fs_data_path,\n",
    "    columns=[\"Metadata_Well\", \"oneb_Metadata_Treatment_Dose_Inhibitor_Dose\"],\n",
    ")\n",
    "print(norm_fs_df_subset.shape)\n",
    "norm_fs_df_subset.head()"
   ]
  },
  {
   "cell_type": "code",
   "execution_count": 7,
   "metadata": {},
   "outputs": [],
   "source": [
    "import toml\n",
    "\n",
    "# load in the ground truth\n",
    "ground_truth_file_path = pathlib.Path(\n",
    "    \"../../../4.sc_Morphology_Neural_Network_MLP_Model/MLP_utils/ground_truth.toml\"\n",
    ").resolve(strict=True)\n",
    "# read in the ground truth toml file\n",
    "ground_truth = toml.load(ground_truth_file_path)\n",
    "# get information from toml files\n",
    "apoptosis_groups_list = ground_truth[\"Apoptosis\"][\"apoptosis_groups_list\"]\n",
    "pyroptosis_groups_list = ground_truth[\"Pyroptosis\"][\"pyroptosis_groups_list\"]\n",
    "healthy_groups_list = ground_truth[\"Healthy\"][\"healthy_groups_list\"]\n",
    "# add apoptosis, pyroptosis and healthy columns to dataframe\n",
    "norm_fs_df_subset[\"apoptosis\"] = norm_fs_df_subset.apply(\n",
    "    lambda row: row[\"oneb_Metadata_Treatment_Dose_Inhibitor_Dose\"]\n",
    "    in apoptosis_groups_list,\n",
    "    axis=1,\n",
    ")\n",
    "norm_fs_df_subset[\"pyroptosis\"] = norm_fs_df_subset.apply(\n",
    "    lambda row: row[\"oneb_Metadata_Treatment_Dose_Inhibitor_Dose\"]\n",
    "    in pyroptosis_groups_list,\n",
    "    axis=1,\n",
    ")\n",
    "norm_fs_df_subset[\"healthy\"] = norm_fs_df_subset.apply(\n",
    "    lambda row: row[\"oneb_Metadata_Treatment_Dose_Inhibitor_Dose\"]\n",
    "    in healthy_groups_list,\n",
    "    axis=1,\n",
    ")\n",
    "\n",
    "# merge apoptosis, pyroptosis, and healthy columns into one column\n",
    "norm_fs_df_subset[\"labels\"] = norm_fs_df_subset.apply(\n",
    "    lambda row: \"apoptosis\"\n",
    "    if row[\"apoptosis\"]\n",
    "    else \"pyroptosis\"\n",
    "    if row[\"pyroptosis\"]\n",
    "    else \"healthy\",\n",
    "    axis=1,\n",
    ")\n",
    "# drop apoptosis, pyroptosis, and healthy columns\n",
    "norm_fs_df_subset.drop(columns=[\"apoptosis\", \"pyroptosis\", \"healthy\"], inplace=True)"
   ]
  },
  {
   "cell_type": "code",
   "execution_count": 8,
   "metadata": {},
   "outputs": [
    {
     "name": "stdout",
     "output_type": "stream",
     "text": [
      "healthy       4301036\n",
      "pyroptosis    3578372\n",
      "apoptosis      439316\n",
      "Name: labels, dtype: int64\n"
     ]
    }
   ],
   "source": [
    "# print the number of samples in each class\n",
    "print(norm_fs_df_subset[\"labels\"].value_counts())"
   ]
  },
  {
   "cell_type": "markdown",
   "metadata": {},
   "source": [
    "## Stats for the Elastic Net models"
   ]
  },
  {
   "cell_type": "code",
   "execution_count": 9,
   "metadata": {},
   "outputs": [],
   "source": [
    "# set path for models performances\n",
    "model_performances_path = pathlib.Path(\n",
    "    \"../../../6.bulk_Morphology_Elastic_Network/4.model_performance/results/regression/PBMC/all_model_performance.csv\"\n",
    ").resolve(strict=True)\n",
    "# load in the model performances\n",
    "model_performances = pd.read_csv(model_performances_path)"
   ]
  },
  {
   "cell_type": "code",
   "execution_count": 10,
   "metadata": {},
   "outputs": [
    {
     "name": "stdout",
     "output_type": "stream",
     "text": [
      "(448426, 3)\n",
      "(374, 3)\n"
     ]
    },
    {
     "data": {
      "text/html": [
       "<div>\n",
       "<style scoped>\n",
       "    .dataframe tbody tr th:only-of-type {\n",
       "        vertical-align: middle;\n",
       "    }\n",
       "\n",
       "    .dataframe tbody tr th {\n",
       "        vertical-align: top;\n",
       "    }\n",
       "\n",
       "    .dataframe thead th {\n",
       "        text-align: right;\n",
       "    }\n",
       "</style>\n",
       "<table border=\"1\" class=\"dataframe\">\n",
       "  <thead>\n",
       "    <tr style=\"text-align: right;\">\n",
       "      <th></th>\n",
       "      <th>secreted_proteins</th>\n",
       "      <th>shuffle</th>\n",
       "      <th>r2</th>\n",
       "    </tr>\n",
       "  </thead>\n",
       "  <tbody>\n",
       "    <tr>\n",
       "      <th>0</th>\n",
       "      <td>Tie-2 [NSU]</td>\n",
       "      <td>final</td>\n",
       "      <td>0.598486</td>\n",
       "    </tr>\n",
       "    <tr>\n",
       "      <th>1199</th>\n",
       "      <td>MMP-3 [NSU]</td>\n",
       "      <td>final</td>\n",
       "      <td>0.005780</td>\n",
       "    </tr>\n",
       "    <tr>\n",
       "      <th>2398</th>\n",
       "      <td>IL-28A [NSU]</td>\n",
       "      <td>shuffled</td>\n",
       "      <td>-0.065951</td>\n",
       "    </tr>\n",
       "    <tr>\n",
       "      <th>3597</th>\n",
       "      <td>GM-CSF [NSU]</td>\n",
       "      <td>final</td>\n",
       "      <td>0.269700</td>\n",
       "    </tr>\n",
       "    <tr>\n",
       "      <th>4796</th>\n",
       "      <td>TNF RII [NSU]</td>\n",
       "      <td>final</td>\n",
       "      <td>0.909518</td>\n",
       "    </tr>\n",
       "  </tbody>\n",
       "</table>\n",
       "</div>"
      ],
      "text/plain": [
       "     secreted_proteins   shuffle        r2\n",
       "0          Tie-2 [NSU]     final  0.598486\n",
       "1199       MMP-3 [NSU]     final  0.005780\n",
       "2398      IL-28A [NSU]  shuffled -0.065951\n",
       "3597      GM-CSF [NSU]     final  0.269700\n",
       "4796     TNF RII [NSU]     final  0.909518"
      ]
     },
     "execution_count": 10,
     "metadata": {},
     "output_type": "execute_result"
    }
   ],
   "source": [
    "# drop uneeded columns\n",
    "columns_to_drop = [\n",
    "    \"feature_names\",\n",
    "    \"coefficients\",\n",
    "    \"cell_type\",\n",
    "    \"alpha\",\n",
    "    \"l1_ratio\",\n",
    "]\n",
    "model_performances.drop(columns=columns_to_drop, inplace=True)\n",
    "# drop duplicates\n",
    "print(model_performances.shape)\n",
    "model_performances.drop_duplicates(inplace=True)\n",
    "print(model_performances.shape)\n",
    "model_performances.head()"
   ]
  },
  {
   "cell_type": "code",
   "execution_count": 11,
   "metadata": {},
   "outputs": [
    {
     "name": "stdout",
     "output_type": "stream",
     "text": [
      "(187, 3)\n",
      "(187, 3)\n"
     ]
    }
   ],
   "source": [
    "# split the shuffled and final model performances\n",
    "suffled_models = model_performances.loc[model_performances[\"shuffle\"] == \"shuffled\"]\n",
    "final_models = model_performances.loc[model_performances[\"shuffle\"] == \"final\"]\n",
    "print(suffled_models.shape)\n",
    "print(final_models.shape)"
   ]
  },
  {
   "cell_type": "code",
   "execution_count": 12,
   "metadata": {},
   "outputs": [
    {
     "name": "stderr",
     "output_type": "stream",
     "text": [
      "/tmp/ipykernel_511385/3314558135.py:2: SettingWithCopyWarning: \n",
      "A value is trying to be set on a copy of a slice from a DataFrame\n",
      "\n",
      "See the caveats in the documentation: https://pandas.pydata.org/pandas-docs/stable/user_guide/indexing.html#returning-a-view-versus-a-copy\n",
      "  final_models.sort_values(by=\"r2\", ascending=False, inplace=True)\n"
     ]
    },
    {
     "data": {
      "text/html": [
       "<div>\n",
       "<style scoped>\n",
       "    .dataframe tbody tr th:only-of-type {\n",
       "        vertical-align: middle;\n",
       "    }\n",
       "\n",
       "    .dataframe tbody tr th {\n",
       "        vertical-align: top;\n",
       "    }\n",
       "\n",
       "    .dataframe thead th {\n",
       "        text-align: right;\n",
       "    }\n",
       "</style>\n",
       "<table border=\"1\" class=\"dataframe\">\n",
       "  <thead>\n",
       "    <tr style=\"text-align: right;\">\n",
       "      <th></th>\n",
       "      <th>secreted_proteins</th>\n",
       "      <th>shuffle</th>\n",
       "      <th>r2</th>\n",
       "    </tr>\n",
       "  </thead>\n",
       "  <tbody>\n",
       "    <tr>\n",
       "      <th>176253</th>\n",
       "      <td>TNF alpha [NSU]</td>\n",
       "      <td>final</td>\n",
       "      <td>0.981769</td>\n",
       "    </tr>\n",
       "    <tr>\n",
       "      <th>305745</th>\n",
       "      <td>IL-1 beta [NSU]</td>\n",
       "      <td>final</td>\n",
       "      <td>0.979441</td>\n",
       "    </tr>\n",
       "    <tr>\n",
       "      <th>112706</th>\n",
       "      <td>IL-6 [NSU]</td>\n",
       "      <td>final</td>\n",
       "      <td>0.977715</td>\n",
       "    </tr>\n",
       "    <tr>\n",
       "      <th>392073</th>\n",
       "      <td>CCL4 [NSU]</td>\n",
       "      <td>final</td>\n",
       "      <td>0.970054</td>\n",
       "    </tr>\n",
       "    <tr>\n",
       "      <th>417252</th>\n",
       "      <td>CCL3 [NSU]</td>\n",
       "      <td>final</td>\n",
       "      <td>0.965891</td>\n",
       "    </tr>\n",
       "  </tbody>\n",
       "</table>\n",
       "</div>"
      ],
      "text/plain": [
       "       secreted_proteins shuffle        r2\n",
       "176253   TNF alpha [NSU]   final  0.981769\n",
       "305745   IL-1 beta [NSU]   final  0.979441\n",
       "112706        IL-6 [NSU]   final  0.977715\n",
       "392073        CCL4 [NSU]   final  0.970054\n",
       "417252        CCL3 [NSU]   final  0.965891"
      ]
     },
     "execution_count": 12,
     "metadata": {},
     "output_type": "execute_result"
    }
   ],
   "source": [
    "# sort the final models by r2 score\n",
    "final_models.sort_values(by=\"r2\", ascending=False, inplace=True)\n",
    "final_models.head()"
   ]
  },
  {
   "cell_type": "code",
   "execution_count": 13,
   "metadata": {},
   "outputs": [
    {
     "name": "stdout",
     "output_type": "stream",
     "text": [
      "Percentage of models with r2 score above 0.8: 21.390374331550802 \n",
      "The total number of models above the threshold is: 40\n"
     ]
    }
   ],
   "source": [
    "# get the percentage of models that are above the threshold\n",
    "threshold = 0.8\n",
    "final_models_above_threshold = final_models.loc[final_models[\"r2\"] >= threshold]\n",
    "print(\n",
    "    f\"Percentage of models with r2 score above {threshold}: \"\n",
    "    f\"{(final_models_above_threshold.shape[0] / final_models.shape[0]) * 100}\",\n",
    "    f\"\\n\"\n",
    "    f\"The total number of models above the threshold is: {final_models_above_threshold.shape[0]}\",\n",
    ")"
   ]
  },
  {
   "cell_type": "code",
   "execution_count": 14,
   "metadata": {},
   "outputs": [
    {
     "name": "stderr",
     "output_type": "stream",
     "text": [
      "/tmp/ipykernel_511385/3832736824.py:2: SettingWithCopyWarning: \n",
      "A value is trying to be set on a copy of a slice from a DataFrame\n",
      "\n",
      "See the caveats in the documentation: https://pandas.pydata.org/pandas-docs/stable/user_guide/indexing.html#returning-a-view-versus-a-copy\n",
      "  final_models.sort_values(by=\"r2\", ascending=True, inplace=True)\n"
     ]
    },
    {
     "data": {
      "text/html": [
       "<div>\n",
       "<style scoped>\n",
       "    .dataframe tbody tr th:only-of-type {\n",
       "        vertical-align: middle;\n",
       "    }\n",
       "\n",
       "    .dataframe tbody tr th {\n",
       "        vertical-align: top;\n",
       "    }\n",
       "\n",
       "    .dataframe thead th {\n",
       "        text-align: right;\n",
       "    }\n",
       "</style>\n",
       "<table border=\"1\" class=\"dataframe\">\n",
       "  <thead>\n",
       "    <tr style=\"text-align: right;\">\n",
       "      <th></th>\n",
       "      <th>secreted_proteins</th>\n",
       "      <th>shuffle</th>\n",
       "      <th>r2</th>\n",
       "    </tr>\n",
       "  </thead>\n",
       "  <tbody>\n",
       "    <tr>\n",
       "      <th>344113</th>\n",
       "      <td>FGF-21 [NSU]</td>\n",
       "      <td>final</td>\n",
       "      <td>-0.331974</td>\n",
       "    </tr>\n",
       "    <tr>\n",
       "      <th>327327</th>\n",
       "      <td>IL-17C [NSU]</td>\n",
       "      <td>final</td>\n",
       "      <td>-0.306111</td>\n",
       "    </tr>\n",
       "    <tr>\n",
       "      <th>76736</th>\n",
       "      <td>CX3CL1 [NSU]</td>\n",
       "      <td>final</td>\n",
       "      <td>-0.293323</td>\n",
       "    </tr>\n",
       "    <tr>\n",
       "      <th>58751</th>\n",
       "      <td>IL-11 [NSU]</td>\n",
       "      <td>final</td>\n",
       "      <td>-0.266779</td>\n",
       "    </tr>\n",
       "    <tr>\n",
       "      <th>125895</th>\n",
       "      <td>AITRL (GITR Ligand) [NSU]</td>\n",
       "      <td>final</td>\n",
       "      <td>-0.230527</td>\n",
       "    </tr>\n",
       "  </tbody>\n",
       "</table>\n",
       "</div>"
      ],
      "text/plain": [
       "                secreted_proteins shuffle        r2\n",
       "344113               FGF-21 [NSU]   final -0.331974\n",
       "327327               IL-17C [NSU]   final -0.306111\n",
       "76736                CX3CL1 [NSU]   final -0.293323\n",
       "58751                 IL-11 [NSU]   final -0.266779\n",
       "125895  AITRL (GITR Ligand) [NSU]   final -0.230527"
      ]
     },
     "execution_count": 14,
     "metadata": {},
     "output_type": "execute_result"
    }
   ],
   "source": [
    "# sort the shuffled models by r2 score from low to high\n",
    "final_models.sort_values(by=\"r2\", ascending=True, inplace=True)\n",
    "final_models.head()"
   ]
  }
 ],
 "metadata": {
  "kernelspec": {
   "display_name": "Interstellar_python",
   "language": "python",
   "name": "python3"
  },
  "language_info": {
   "codemirror_mode": {
    "name": "ipython",
    "version": 3
   },
   "file_extension": ".py",
   "mimetype": "text/x-python",
   "name": "python",
   "nbconvert_exporter": "python",
   "pygments_lexer": "ipython3",
   "version": "3.10.14"
  }
 },
 "nbformat": 4,
 "nbformat_minor": 2
}
