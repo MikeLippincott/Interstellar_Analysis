{
    "cells": [
        {
            "cell_type": "markdown",
            "metadata": {},
            "source": [
                "This file generates a csv and markdown table for the features of the dataset."
            ]
        },
        {
            "cell_type": "code",
            "execution_count": 1,
            "metadata": {},
            "outputs": [],
            "source": [
                "import pathlib\n",
                "\n",
                "import pandas as pd\n",
                "import toml"
            ]
        },
        {
            "cell_type": "code",
            "execution_count": 2,
            "metadata": {},
            "outputs": [],
            "source": [
                "# set the path to the data\n",
                "path = pathlib.Path(\n",
                "    \"../../../1.Exploratory_Data_Analysis/results/PBMC_combined.parquet\"\n",
                ")\n",
                "\n",
                "# load in the data\n",
                "df = pd.read_parquet(path)"
            ]
        },
        {
            "cell_type": "code",
            "execution_count": 3,
            "metadata": {},
            "outputs": [],
            "source": [
                "# path to the ground truth\n",
                "ground_truth_path = pathlib.Path(\n",
                "    \"../../../4.sc_Morphology_Neural_Network_MLP_Model/MLP_utils/ground_truth.toml\"\n",
                ")\n",
                "# load in the ground truth\n",
                "ground_truth = toml.load(ground_truth_path)\n",
                "apoptosis_ground_truth = ground_truth[\"Apoptosis\"][\"apoptosis_groups_list\"]\n",
                "pyroptosis_ground_truth = ground_truth[\"Pyroptosis\"][\"pyroptosis_groups_list\"]\n",
                "control_ground_truth = ground_truth[\"Healthy\"][\"healthy_groups_list\"]"
            ]
        },
        {
            "cell_type": "code",
            "execution_count": 4,
            "metadata": {},
            "outputs": [],
            "source": [
                "# change the p-adj into absolute values\n",
                "df[\"p-adj\"] = df[\"p-adj\"].abs()\n",
                "df.head()\n",
                "# select row that have p-adj < 0.05\n",
                "df = df[df[\"p-adj\"] < 0.05]"
            ]
        },
        {
            "cell_type": "code",
            "execution_count": 5,
            "metadata": {},
            "outputs": [],
            "source": [
                "# add the group1 and group2 columns into 1 column\n",
                "df[\"group\"] = df[\"group1\"] + \"_\" + df[\"group2\"]"
            ]
        },
        {
            "cell_type": "code",
            "execution_count": 6,
            "metadata": {},
            "outputs": [],
            "source": [
                "# set theory for apoptosis control and pyroptosis\n",
                "apoptosis_vs_healthy = df[df[\"group\"] == \"apoptosis_healthy\"]\n",
                "pyroptosis_vs_healthy = df[df[\"group\"] == \"healthy_pyroptosis\"]\n",
                "pyroptosis_vs_apoptosis = df[df[\"group\"] == \"apoptosis_pyroptosis\"]\n",
                "\n",
                "# get thee list of genes that are significant from each comparision\n",
                "# define the sets\n",
                "A = set(apoptosis_vs_healthy[\"features\"].tolist())  # apoptosis_vs_healthy_list\n",
                "B = set(pyroptosis_vs_apoptosis[\"features\"].tolist())  # pyroptosis_vs_apoptosis_list\n",
                "C = set(pyroptosis_vs_healthy[\"features\"].tolist())  # pyroptosis_vs_healthy_list"
            ]
        },
        {
            "cell_type": "code",
            "execution_count": 7,
            "metadata": {},
            "outputs": [
                {
                    "name": "stdout",
                    "output_type": "stream",
                    "text": [
                        "244 40 136\n"
                    ]
                }
            ],
            "source": [
                "# get the the intersections and union of the genes\n",
                "U = set(df[\"features\"].tolist())\n",
                "\n",
                "# get the union of the genes\n",
                "# Apoptosis vs control\n",
                "A_int_b_un = U.difference(B.union(C))\n",
                "# Pyroptosis vs apoptosis\n",
                "B_int_c_un = U.difference(A.union(C))\n",
                "# Pyroptosis vs control\n",
                "C_int_a_un = U.difference(A.union(B))\n",
                "\n",
                "# get the inersection of each of the groups\n",
                "\n",
                "\n",
                "print(len(A_int_b_un), len(B_int_c_un), len(C_int_a_un))"
            ]
        },
        {
            "cell_type": "code",
            "execution_count": 8,
            "metadata": {},
            "outputs": [
                {
                    "name": "stdout",
                    "output_type": "stream",
                    "text": [
                        "(244, 11) (40, 11) (136, 11)\n"
                    ]
                }
            ],
            "source": [
                "# get the features that are in A_int_b_un\n",
                "A_int_b_un_df = df[df[\"features\"].isin(A_int_b_un)]\n",
                "B_int_c_un_df = df[df[\"features\"].isin(B_int_c_un)]\n",
                "C_int_a_un_df = df[df[\"features\"].isin(C_int_a_un)]\n",
                "\n",
                "print(A_int_b_un_df.shape, B_int_c_un_df.shape, C_int_a_un_df.shape)\n",
                "# concat all the dataframes\n",
                "all_selected_features_df = pd.concat([A_int_b_un_df, B_int_c_un_df, C_int_a_un_df])"
            ]
        },
        {
            "cell_type": "code",
            "execution_count": 9,
            "metadata": {},
            "outputs": [
                {
                    "data": {
                        "text/html": [
                            "<div>\n",
                            "<style scoped>\n",
                            "    .dataframe tbody tr th:only-of-type {\n",
                            "        vertical-align: middle;\n",
                            "    }\n",
                            "\n",
                            "    .dataframe tbody tr th {\n",
                            "        vertical-align: top;\n",
                            "    }\n",
                            "\n",
                            "    .dataframe thead th {\n",
                            "        text-align: right;\n",
                            "    }\n",
                            "</style>\n",
                            "<table border=\"1\" class=\"dataframe\">\n",
                            "  <thead>\n",
                            "    <tr style=\"text-align: right;\">\n",
                            "      <th></th>\n",
                            "      <th>features</th>\n",
                            "      <th>p.adj.value</th>\n",
                            "      <th>group</th>\n",
                            "    </tr>\n",
                            "  </thead>\n",
                            "  <tbody>\n",
                            "    <tr>\n",
                            "      <th>0</th>\n",
                            "      <td>Cytoplasm_Texture_DifferenceVariance_CorrMito_...</td>\n",
                            "      <td>0.0022</td>\n",
                            "      <td>apoptosis_healthy</td>\n",
                            "    </tr>\n",
                            "    <tr>\n",
                            "      <th>1</th>\n",
                            "      <td>Cells_Texture_InfoMeas1_CorrDNA_3_03_256</td>\n",
                            "      <td>0.0046</td>\n",
                            "      <td>apoptosis_healthy</td>\n",
                            "    </tr>\n",
                            "    <tr>\n",
                            "      <th>2</th>\n",
                            "      <td>Cells_Correlation_Correlation_CorrDNA_CorrMito</td>\n",
                            "      <td>0.0123</td>\n",
                            "      <td>apoptosis_healthy</td>\n",
                            "    </tr>\n",
                            "    <tr>\n",
                            "      <th>3</th>\n",
                            "      <td>Nuclei_Correlation_K_CorrMito_CorrER</td>\n",
                            "      <td>0.0375</td>\n",
                            "      <td>apoptosis_healthy</td>\n",
                            "    </tr>\n",
                            "    <tr>\n",
                            "      <th>4</th>\n",
                            "      <td>Nuclei_RadialDistribution_ZernikeMagnitude_Cor...</td>\n",
                            "      <td>0.0439</td>\n",
                            "      <td>apoptosis_healthy</td>\n",
                            "    </tr>\n",
                            "  </tbody>\n",
                            "</table>\n",
                            "</div>"
                        ],
                        "text/plain": [
                            "                                            features  p.adj.value  \\\n",
                            "0  Cytoplasm_Texture_DifferenceVariance_CorrMito_...       0.0022   \n",
                            "1           Cells_Texture_InfoMeas1_CorrDNA_3_03_256       0.0046   \n",
                            "2     Cells_Correlation_Correlation_CorrDNA_CorrMito       0.0123   \n",
                            "3               Nuclei_Correlation_K_CorrMito_CorrER       0.0375   \n",
                            "4  Nuclei_RadialDistribution_ZernikeMagnitude_Cor...       0.0439   \n",
                            "\n",
                            "               group  \n",
                            "0  apoptosis_healthy  \n",
                            "1  apoptosis_healthy  \n",
                            "2  apoptosis_healthy  \n",
                            "3  apoptosis_healthy  \n",
                            "4  apoptosis_healthy  "
                        ]
                    },
                    "execution_count": 9,
                    "metadata": {},
                    "output_type": "execute_result"
                }
            ],
            "source": [
                "# drop columns from the df\n",
                "all_selected_features_df = all_selected_features_df.drop(\n",
                "    columns=[\n",
                "        \"group1\",\n",
                "        \"group2\",\n",
                "        \"meandiff\",\n",
                "        \"lower\",\n",
                "        \"upper\",\n",
                "        \"reject\",\n",
                "        \"p-adj\",\n",
                "        \"pos_neg\",\n",
                "    ]\n",
                ")\n",
                "all_selected_features_df.rename(columns={\"p-adj_abs\": \"p.adj.value\"}, inplace=True)\n",
                "all_selected_features_df.reset_index(drop=True, inplace=True)\n",
                "all_selected_features_df.head()"
            ]
        },
        {
            "cell_type": "code",
            "execution_count": 10,
            "metadata": {},
            "outputs": [
                {
                    "data": {
                        "text/html": [
                            "<div>\n",
                            "<style scoped>\n",
                            "    .dataframe tbody tr th:only-of-type {\n",
                            "        vertical-align: middle;\n",
                            "    }\n",
                            "\n",
                            "    .dataframe tbody tr th {\n",
                            "        vertical-align: top;\n",
                            "    }\n",
                            "\n",
                            "    .dataframe thead th {\n",
                            "        text-align: right;\n",
                            "    }\n",
                            "</style>\n",
                            "<table border=\"1\" class=\"dataframe\">\n",
                            "  <thead>\n",
                            "    <tr style=\"text-align: right;\">\n",
                            "      <th></th>\n",
                            "      <th>features</th>\n",
                            "      <th>p-adj_abs</th>\n",
                            "      <th>group</th>\n",
                            "    </tr>\n",
                            "  </thead>\n",
                            "  <tbody>\n",
                            "    <tr>\n",
                            "      <th>0</th>\n",
                            "      <td>Cytoplasm_RadialDistribution_ZernikePhase_Corr...</td>\n",
                            "      <td>0.0003</td>\n",
                            "      <td>apoptosis_healthy</td>\n",
                            "    </tr>\n",
                            "    <tr>\n",
                            "      <th>1</th>\n",
                            "      <td>Cytoplasm_RadialDistribution_ZernikePhase_Corr...</td>\n",
                            "      <td>0.0004</td>\n",
                            "      <td>apoptosis_pyroptosis</td>\n",
                            "    </tr>\n",
                            "    <tr>\n",
                            "      <th>2</th>\n",
                            "      <td>Cytoplasm_RadialDistribution_ZernikePhase_Corr...</td>\n",
                            "      <td>0.0030</td>\n",
                            "      <td>healthy_pyroptosis</td>\n",
                            "    </tr>\n",
                            "    <tr>\n",
                            "      <th>0</th>\n",
                            "      <td>Cells_RadialDistribution_ZernikeMagnitude_Corr...</td>\n",
                            "      <td>0.0259</td>\n",
                            "      <td>apoptosis_healthy</td>\n",
                            "    </tr>\n",
                            "    <tr>\n",
                            "      <th>1</th>\n",
                            "      <td>Cells_RadialDistribution_ZernikeMagnitude_Corr...</td>\n",
                            "      <td>0.0482</td>\n",
                            "      <td>apoptosis_pyroptosis</td>\n",
                            "    </tr>\n",
                            "  </tbody>\n",
                            "</table>\n",
                            "</div>"
                        ],
                        "text/plain": [
                            "                                            features  p-adj_abs  \\\n",
                            "0  Cytoplasm_RadialDistribution_ZernikePhase_Corr...     0.0003   \n",
                            "1  Cytoplasm_RadialDistribution_ZernikePhase_Corr...     0.0004   \n",
                            "2  Cytoplasm_RadialDistribution_ZernikePhase_Corr...     0.0030   \n",
                            "0  Cells_RadialDistribution_ZernikeMagnitude_Corr...     0.0259   \n",
                            "1  Cells_RadialDistribution_ZernikeMagnitude_Corr...     0.0482   \n",
                            "\n",
                            "                  group  \n",
                            "0     apoptosis_healthy  \n",
                            "1  apoptosis_pyroptosis  \n",
                            "2    healthy_pyroptosis  \n",
                            "0     apoptosis_healthy  \n",
                            "1  apoptosis_pyroptosis  "
                        ]
                    },
                    "execution_count": 10,
                    "metadata": {},
                    "output_type": "execute_result"
                }
            ],
            "source": [
                "# drop columns from the df\n",
                "df = df.drop(\n",
                "    columns=[\n",
                "        \"group1\",\n",
                "        \"group2\",\n",
                "        \"meandiff\",\n",
                "        \"lower\",\n",
                "        \"upper\",\n",
                "        \"reject\",\n",
                "        \"p-adj\",\n",
                "        \"pos_neg\",\n",
                "    ]\n",
                ")\n",
                "df.head()"
            ]
        },
        {
            "cell_type": "code",
            "execution_count": 11,
            "metadata": {},
            "outputs": [],
            "source": [
                "# set the output file path\n",
                "output_file_path = pathlib.Path(\"../results/\")\n",
                "output_file_path.mkdir(exist_ok=True, parents=True)"
            ]
        },
        {
            "cell_type": "code",
            "execution_count": 12,
            "metadata": {},
            "outputs": [],
            "source": [
                "# print the table to a csv\n",
                "df.to_csv(\"../results/all_features.csv\", index=False)"
            ]
        },
        {
            "cell_type": "code",
            "execution_count": 13,
            "metadata": {},
            "outputs": [],
            "source": [
                "all_selected_features_df.to_markdown(\"../results/all_features.md\", index=False)"
            ]
        },
        {
            "cell_type": "code",
            "execution_count": 14,
            "metadata": {},
            "outputs": [],
            "source": [
                "# print the table to a csv\n",
                "all_selected_features_df.to_csv(\"../results/STable_features.csv\", index=False)"
            ]
        },
        {
            "cell_type": "code",
            "execution_count": 15,
            "metadata": {},
            "outputs": [],
            "source": [
                "# csv to markdown\n",
                "all_selected_features_df.to_markdown(\"../results/STable_features.md\", index=False)"
            ]
        }
    ],
    "metadata": {
        "kernelspec": {
            "display_name": "Interstellar",
            "language": "python",
            "name": "python3"
        },
        "language_info": {
            "codemirror_mode": {
                "name": "ipython",
                "version": 3
            },
            "file_extension": ".py",
            "mimetype": "text/x-python",
            "name": "python",
            "nbconvert_exporter": "python",
            "pygments_lexer": "ipython3",
            "version": "3.10.12"
        }
    },
    "nbformat": 4,
    "nbformat_minor": 2
}
