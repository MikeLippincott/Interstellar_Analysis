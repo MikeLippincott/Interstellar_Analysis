{
    "cells": [
        {
            "cell_type": "markdown",
            "metadata": {},
            "source": [
                "## Imports and Constants"
            ]
        },
        {
            "cell_type": "code",
            "execution_count": 1,
            "metadata": {
                "vscode": {
                    "languageId": "r"
                }
            },
            "outputs": [],
            "source": [
                "suppressPackageStartupMessages(suppressWarnings(library(ggplot2))) # plotting\n",
                "suppressPackageStartupMessages(suppressWarnings(library(dplyr))) # data manipulation\n",
                "suppressPackageStartupMessages(suppressWarnings(library(patchwork))) # figure composition\n",
                "suppressPackageStartupMessages(suppressWarnings(library(cowplot))) # figure composition\n",
                "suppressPackageStartupMessages(suppressWarnings(library(RcppTOML))) # parsing config file\n",
                "suppressPackageStartupMessages(suppressWarnings(library(lattice))) # heatmap\n",
                "suppressPackageStartupMessages(suppressWarnings(library(RColorBrewer))) # heatmap\n",
                "suppressPackageStartupMessages(suppressWarnings(library(ComplexHeatmap))) # heatmap\n",
                "suppressPackageStartupMessages(suppressWarnings(library(ggplotify))) # grob\n",
                "suppressPackageStartupMessages(suppressWarnings(library(viridis))) # color\n",
                "suppressPackageStartupMessages(suppressWarnings(library(platetools))) # make plate plot\n",
                "suppressPackageStartupMessages(suppressWarnings(library(circlize))) \n",
                "suppressPackageStartupMessages(suppressWarnings(library(reshape2))) # data manipulation\n",
                "suppressPackageStartupMessages(suppressWarnings(library(stringr))) # string manipulation\n",
                "suppressPackageStartupMessages(suppressWarnings(library(purrr))) # data manipulation\n",
                "suppressPackageStartupMessages(suppressWarnings(library(VennDiagram))) # venn diagram\n",
                "suppressPackageStartupMessages(suppressWarnings(library(tidyverse))) # data manipulation\n",
                "suppressPackageStartupMessages(suppressWarnings(library(ggvenn))) # venn diagram\n",
                "suppressPackageStartupMessages(suppressWarnings(library(grid))) # grid\n",
                "suppressPackageStartupMessages(suppressWarnings(library(Polychrome)))\n",
                "\n",
                "source(\"../../utils/figure_themes.r\")\n"
            ]
        },
        {
            "cell_type": "code",
            "execution_count": 2,
            "metadata": {
                "vscode": {
                    "languageId": "r"
                }
            },
            "outputs": [],
            "source": [
                "cell_type <- \"PBMC\"\n"
            ]
        },
        {
            "cell_type": "code",
            "execution_count": 3,
            "metadata": {
                "vscode": {
                    "languageId": "r"
                }
            },
            "outputs": [],
            "source": [
                "# set path to anova results\n",
                "anova_results_path = file.path(paste0(\n",
                "    \"../../../1.Exploratory_Data_Analysis/results/\",cell_type,\"_combined.parquet\"\n",
                "))\n",
                "figures_path = \"../figures\"\n",
                "if (!dir.exists(figures_path)) dir.create(figures_path)\n",
                "# read in path\n",
                "anova_results = arrow::read_parquet(anova_results_path)\n",
                "anova_results = anova_results %>% filter(shuffled == TRUE)"
            ]
        },
        {
            "cell_type": "code",
            "execution_count": 4,
            "metadata": {
                "vscode": {
                    "languageId": "r"
                }
            },
            "outputs": [
                {
                    "data": {
                        "text/html": [
                            "<table class=\"dataframe\">\n",
                            "<caption>A tibble: 3 \u00d7 11</caption>\n",
                            "<thead>\n",
                            "\t<tr><th scope=col>group1</th><th scope=col>group2</th><th scope=col>meandiff</th><th scope=col>lower</th><th scope=col>upper</th><th scope=col>p-adj</th><th scope=col>reject</th><th scope=col>features</th><th scope=col>p-adj_abs</th><th scope=col>pos_neg</th><th scope=col>shuffled</th></tr>\n",
                            "\t<tr><th scope=col>&lt;chr&gt;</th><th scope=col>&lt;chr&gt;</th><th scope=col>&lt;dbl&gt;</th><th scope=col>&lt;dbl&gt;</th><th scope=col>&lt;dbl&gt;</th><th scope=col>&lt;dbl&gt;</th><th scope=col>&lt;lgl&gt;</th><th scope=col>&lt;chr&gt;</th><th scope=col>&lt;dbl&gt;</th><th scope=col>&lt;chr&gt;</th><th scope=col>&lt;lgl&gt;</th></tr>\n",
                            "</thead>\n",
                            "<tbody>\n",
                            "\t<tr><td>healthy  </td><td>pyroptosis</td><td> 0.1344</td><td>0</td><td> 0.1262</td><td> 0.1426</td><td>TRUE</td><td>Cytoplasm_AreaShape_Compactness</td><td>0.1426</td><td>positive</td><td>TRUE</td></tr>\n",
                            "\t<tr><td>apoptosis</td><td>pyroptosis</td><td> 0.0940</td><td>0</td><td> 0.0757</td><td> 0.1124</td><td>TRUE</td><td>Cytoplasm_AreaShape_Compactness</td><td>0.1124</td><td>positive</td><td>TRUE</td></tr>\n",
                            "\t<tr><td>apoptosis</td><td>healthy   </td><td>-0.0404</td><td>0</td><td>-0.0585</td><td>-0.0222</td><td>TRUE</td><td>Cytoplasm_AreaShape_Compactness</td><td>0.0222</td><td>negative</td><td>TRUE</td></tr>\n",
                            "</tbody>\n",
                            "</table>\n"
                        ],
                        "text/latex": [
                            "A tibble: 3 \u00d7 11\n",
                            "\\begin{tabular}{lllllllllll}\n",
                            " group1 & group2 & meandiff & lower & upper & p-adj & reject & features & p-adj\\_abs & pos\\_neg & shuffled\\\\\n",
                            " <chr> & <chr> & <dbl> & <dbl> & <dbl> & <dbl> & <lgl> & <chr> & <dbl> & <chr> & <lgl>\\\\\n",
                            "\\hline\n",
                            "\t healthy   & pyroptosis &  0.1344 & 0 &  0.1262 &  0.1426 & TRUE & Cytoplasm\\_AreaShape\\_Compactness & 0.1426 & positive & TRUE\\\\\n",
                            "\t apoptosis & pyroptosis &  0.0940 & 0 &  0.0757 &  0.1124 & TRUE & Cytoplasm\\_AreaShape\\_Compactness & 0.1124 & positive & TRUE\\\\\n",
                            "\t apoptosis & healthy    & -0.0404 & 0 & -0.0585 & -0.0222 & TRUE & Cytoplasm\\_AreaShape\\_Compactness & 0.0222 & negative & TRUE\\\\\n",
                            "\\end{tabular}\n"
                        ],
                        "text/markdown": [
                            "\n",
                            "A tibble: 3 \u00d7 11\n",
                            "\n",
                            "| group1 &lt;chr&gt; | group2 &lt;chr&gt; | meandiff &lt;dbl&gt; | lower &lt;dbl&gt; | upper &lt;dbl&gt; | p-adj &lt;dbl&gt; | reject &lt;lgl&gt; | features &lt;chr&gt; | p-adj_abs &lt;dbl&gt; | pos_neg &lt;chr&gt; | shuffled &lt;lgl&gt; |\n",
                            "|---|---|---|---|---|---|---|---|---|---|---|\n",
                            "| healthy   | pyroptosis |  0.1344 | 0 |  0.1262 |  0.1426 | TRUE | Cytoplasm_AreaShape_Compactness | 0.1426 | positive | TRUE |\n",
                            "| apoptosis | pyroptosis |  0.0940 | 0 |  0.0757 |  0.1124 | TRUE | Cytoplasm_AreaShape_Compactness | 0.1124 | positive | TRUE |\n",
                            "| apoptosis | healthy    | -0.0404 | 0 | -0.0585 | -0.0222 | TRUE | Cytoplasm_AreaShape_Compactness | 0.0222 | negative | TRUE |\n",
                            "\n"
                        ],
                        "text/plain": [
                            "  group1    group2     meandiff lower upper   p-adj   reject\n",
                            "1 healthy   pyroptosis  0.1344  0      0.1262  0.1426 TRUE  \n",
                            "2 apoptosis pyroptosis  0.0940  0      0.0757  0.1124 TRUE  \n",
                            "3 apoptosis healthy    -0.0404  0     -0.0585 -0.0222 TRUE  \n",
                            "  features                        p-adj_abs pos_neg  shuffled\n",
                            "1 Cytoplasm_AreaShape_Compactness 0.1426    positive TRUE    \n",
                            "2 Cytoplasm_AreaShape_Compactness 0.1124    positive TRUE    \n",
                            "3 Cytoplasm_AreaShape_Compactness 0.0222    negative TRUE    "
                        ]
                    },
                    "metadata": {},
                    "output_type": "display_data"
                }
            ],
            "source": [
                "# filter for the Cytoplasm_AreaShape_Compactness feature\n",
                "anova_results %>% filter(features == \"Cytoplasm_AreaShape_Compactness\")"
            ]
        },
        {
            "cell_type": "code",
            "execution_count": 5,
            "metadata": {
                "vscode": {
                    "languageId": "r"
                }
            },
            "outputs": [
                {
                    "data": {
                        "text/html": [
                            "<table class=\"dataframe\">\n",
                            "<caption>A tibble: 6 \u00d7 11</caption>\n",
                            "<thead>\n",
                            "\t<tr><th scope=col>group1</th><th scope=col>group2</th><th scope=col>meandiff</th><th scope=col>lower</th><th scope=col>upper</th><th scope=col>p-adj</th><th scope=col>reject</th><th scope=col>features</th><th scope=col>p-adj_abs</th><th scope=col>pos_neg</th><th scope=col>shuffled</th></tr>\n",
                            "\t<tr><th scope=col>&lt;chr&gt;</th><th scope=col>&lt;chr&gt;</th><th scope=col>&lt;dbl&gt;</th><th scope=col>&lt;dbl&gt;</th><th scope=col>&lt;dbl&gt;</th><th scope=col>&lt;dbl&gt;</th><th scope=col>&lt;lgl&gt;</th><th scope=col>&lt;chr&gt;</th><th scope=col>&lt;dbl&gt;</th><th scope=col>&lt;chr&gt;</th><th scope=col>&lt;lgl&gt;</th></tr>\n",
                            "</thead>\n",
                            "<tbody>\n",
                            "\t<tr><td>apoptosis</td><td>healthy   </td><td>-0.0084</td><td>0.2131</td><td>-0.0263</td><td>0.0095</td><td>FALSE</td><td>Nuclei_RadialDistribution_ZernikePhase_CorrPM_1_1     </td><td>0.0095</td><td>positive</td><td>TRUE</td></tr>\n",
                            "\t<tr><td>apoptosis</td><td>pyroptosis</td><td>-0.0093</td><td>0.1532</td><td>-0.0274</td><td>0.0087</td><td>FALSE</td><td>Nuclei_RadialDistribution_ZernikePhase_CorrPM_1_1     </td><td>0.0087</td><td>positive</td><td>TRUE</td></tr>\n",
                            "\t<tr><td>healthy  </td><td>pyroptosis</td><td>-0.0009</td><td>0.9083</td><td>-0.0090</td><td>0.0071</td><td>FALSE</td><td>Nuclei_RadialDistribution_ZernikePhase_CorrPM_1_1     </td><td>0.0071</td><td>positive</td><td>TRUE</td></tr>\n",
                            "\t<tr><td>apoptosis</td><td>pyroptosis</td><td> 0.0039</td><td>0.7181</td><td>-0.0142</td><td>0.0220</td><td>FALSE</td><td>Cytoplasm_RadialDistribution_ZernikePhase_CorrMito_7_3</td><td>0.0220</td><td>positive</td><td>TRUE</td></tr>\n",
                            "\t<tr><td>apoptosis</td><td>healthy   </td><td> 0.0022</td><td>0.9021</td><td>-0.0158</td><td>0.0201</td><td>FALSE</td><td>Cytoplasm_RadialDistribution_ZernikePhase_CorrMito_7_3</td><td>0.0201</td><td>positive</td><td>TRUE</td></tr>\n",
                            "\t<tr><td>healthy  </td><td>pyroptosis</td><td> 0.0018</td><td>0.7182</td><td>-0.0064</td><td>0.0099</td><td>FALSE</td><td>Cytoplasm_RadialDistribution_ZernikePhase_CorrMito_7_3</td><td>0.0099</td><td>positive</td><td>TRUE</td></tr>\n",
                            "</tbody>\n",
                            "</table>\n"
                        ],
                        "text/latex": [
                            "A tibble: 6 \u00d7 11\n",
                            "\\begin{tabular}{lllllllllll}\n",
                            " group1 & group2 & meandiff & lower & upper & p-adj & reject & features & p-adj\\_abs & pos\\_neg & shuffled\\\\\n",
                            " <chr> & <chr> & <dbl> & <dbl> & <dbl> & <dbl> & <lgl> & <chr> & <dbl> & <chr> & <lgl>\\\\\n",
                            "\\hline\n",
                            "\t apoptosis & healthy    & -0.0084 & 0.2131 & -0.0263 & 0.0095 & FALSE & Nuclei\\_RadialDistribution\\_ZernikePhase\\_CorrPM\\_1\\_1      & 0.0095 & positive & TRUE\\\\\n",
                            "\t apoptosis & pyroptosis & -0.0093 & 0.1532 & -0.0274 & 0.0087 & FALSE & Nuclei\\_RadialDistribution\\_ZernikePhase\\_CorrPM\\_1\\_1      & 0.0087 & positive & TRUE\\\\\n",
                            "\t healthy   & pyroptosis & -0.0009 & 0.9083 & -0.0090 & 0.0071 & FALSE & Nuclei\\_RadialDistribution\\_ZernikePhase\\_CorrPM\\_1\\_1      & 0.0071 & positive & TRUE\\\\\n",
                            "\t apoptosis & pyroptosis &  0.0039 & 0.7181 & -0.0142 & 0.0220 & FALSE & Cytoplasm\\_RadialDistribution\\_ZernikePhase\\_CorrMito\\_7\\_3 & 0.0220 & positive & TRUE\\\\\n",
                            "\t apoptosis & healthy    &  0.0022 & 0.9021 & -0.0158 & 0.0201 & FALSE & Cytoplasm\\_RadialDistribution\\_ZernikePhase\\_CorrMito\\_7\\_3 & 0.0201 & positive & TRUE\\\\\n",
                            "\t healthy   & pyroptosis &  0.0018 & 0.7182 & -0.0064 & 0.0099 & FALSE & Cytoplasm\\_RadialDistribution\\_ZernikePhase\\_CorrMito\\_7\\_3 & 0.0099 & positive & TRUE\\\\\n",
                            "\\end{tabular}\n"
                        ],
                        "text/markdown": [
                            "\n",
                            "A tibble: 6 \u00d7 11\n",
                            "\n",
                            "| group1 &lt;chr&gt; | group2 &lt;chr&gt; | meandiff &lt;dbl&gt; | lower &lt;dbl&gt; | upper &lt;dbl&gt; | p-adj &lt;dbl&gt; | reject &lt;lgl&gt; | features &lt;chr&gt; | p-adj_abs &lt;dbl&gt; | pos_neg &lt;chr&gt; | shuffled &lt;lgl&gt; |\n",
                            "|---|---|---|---|---|---|---|---|---|---|---|\n",
                            "| apoptosis | healthy    | -0.0084 | 0.2131 | -0.0263 | 0.0095 | FALSE | Nuclei_RadialDistribution_ZernikePhase_CorrPM_1_1      | 0.0095 | positive | TRUE |\n",
                            "| apoptosis | pyroptosis | -0.0093 | 0.1532 | -0.0274 | 0.0087 | FALSE | Nuclei_RadialDistribution_ZernikePhase_CorrPM_1_1      | 0.0087 | positive | TRUE |\n",
                            "| healthy   | pyroptosis | -0.0009 | 0.9083 | -0.0090 | 0.0071 | FALSE | Nuclei_RadialDistribution_ZernikePhase_CorrPM_1_1      | 0.0071 | positive | TRUE |\n",
                            "| apoptosis | pyroptosis |  0.0039 | 0.7181 | -0.0142 | 0.0220 | FALSE | Cytoplasm_RadialDistribution_ZernikePhase_CorrMito_7_3 | 0.0220 | positive | TRUE |\n",
                            "| apoptosis | healthy    |  0.0022 | 0.9021 | -0.0158 | 0.0201 | FALSE | Cytoplasm_RadialDistribution_ZernikePhase_CorrMito_7_3 | 0.0201 | positive | TRUE |\n",
                            "| healthy   | pyroptosis |  0.0018 | 0.7182 | -0.0064 | 0.0099 | FALSE | Cytoplasm_RadialDistribution_ZernikePhase_CorrMito_7_3 | 0.0099 | positive | TRUE |\n",
                            "\n"
                        ],
                        "text/plain": [
                            "  group1    group2     meandiff lower  upper   p-adj  reject\n",
                            "1 apoptosis healthy    -0.0084  0.2131 -0.0263 0.0095 FALSE \n",
                            "2 apoptosis pyroptosis -0.0093  0.1532 -0.0274 0.0087 FALSE \n",
                            "3 healthy   pyroptosis -0.0009  0.9083 -0.0090 0.0071 FALSE \n",
                            "4 apoptosis pyroptosis  0.0039  0.7181 -0.0142 0.0220 FALSE \n",
                            "5 apoptosis healthy     0.0022  0.9021 -0.0158 0.0201 FALSE \n",
                            "6 healthy   pyroptosis  0.0018  0.7182 -0.0064 0.0099 FALSE \n",
                            "  features                                               p-adj_abs pos_neg \n",
                            "1 Nuclei_RadialDistribution_ZernikePhase_CorrPM_1_1      0.0095    positive\n",
                            "2 Nuclei_RadialDistribution_ZernikePhase_CorrPM_1_1      0.0087    positive\n",
                            "3 Nuclei_RadialDistribution_ZernikePhase_CorrPM_1_1      0.0071    positive\n",
                            "4 Cytoplasm_RadialDistribution_ZernikePhase_CorrMito_7_3 0.0220    positive\n",
                            "5 Cytoplasm_RadialDistribution_ZernikePhase_CorrMito_7_3 0.0201    positive\n",
                            "6 Cytoplasm_RadialDistribution_ZernikePhase_CorrMito_7_3 0.0099    positive\n",
                            "  shuffled\n",
                            "1 TRUE    \n",
                            "2 TRUE    \n",
                            "3 TRUE    \n",
                            "4 TRUE    \n",
                            "5 TRUE    \n",
                            "6 TRUE    "
                        ]
                    },
                    "metadata": {},
                    "output_type": "display_data"
                }
            ],
            "source": [
                "head(anova_results)"
            ]
        },
        {
            "cell_type": "code",
            "execution_count": 6,
            "metadata": {
                "vscode": {
                    "languageId": "r"
                }
            },
            "outputs": [],
            "source": [
                "# create a column that adds group1 and group2 together\n",
                "anova_results$group = paste0(anova_results$group1,\"_\",anova_results$group2)\n"
            ]
        },
        {
            "cell_type": "code",
            "execution_count": 7,
            "metadata": {
                "vscode": {
                    "languageId": "r"
                }
            },
            "outputs": [
                {
                    "ename": "ERROR",
                    "evalue": "\u001b[1m\u001b[33mError\u001b[39m in `filter()`:\u001b[22m\n\u001b[1m\u001b[22m\u001b[33m!\u001b[39m Problem while computing `..1 = `p-adj_fdr_bh` < 0.05`.\n\u001b[1mCaused by error in `mask$eval_all_filter()`:\u001b[22m\n\u001b[33m!\u001b[39m object 'p-adj_fdr_bh' not found\n",
                    "output_type": "error",
                    "traceback": [
                        "\u001b[1m\u001b[33mError\u001b[39m in `filter()`:\u001b[22m\n\u001b[1m\u001b[22m\u001b[33m!\u001b[39m Problem while computing `..1 = `p-adj_fdr_bh` < 0.05`.\n\u001b[1mCaused by error in `mask$eval_all_filter()`:\u001b[22m\n\u001b[33m!\u001b[39m object 'p-adj_fdr_bh' not found\nTraceback:\n",
                        "1. anova_results %>% filter(`p-adj_fdr_bh` < 0.05)",
                        "2. filter(., `p-adj_fdr_bh` < 0.05)",
                        "3. filter.data.frame(., `p-adj_fdr_bh` < 0.05)",
                        "4. filter_rows(.data, ..., caller_env = caller_env())",
                        "5. filter_eval(dots, mask = mask, error_call = error_call)",
                        "6. withCallingHandlers({\n .     mask$eval_all_filter(dots, env_filter)\n . }, error = function(e) {\n .     local_error_context(dots = dots, .index = env_filter$current_expression, \n .         mask = mask)\n .     bullets <- c(cnd_bullet_header(\"computing\"), filter_bullets(e))\n .     abort(bullets, call = error_call, parent = skip_internal_condition(e))\n . })",
                        "7. mask$eval_all_filter(dots, env_filter)",
                        "8. .handleSimpleError(function (e) \n . {\n .     local_error_context(dots = dots, .index = env_filter$current_expression, \n .         mask = mask)\n .     bullets <- c(cnd_bullet_header(\"computing\"), filter_bullets(e))\n .     abort(bullets, call = error_call, parent = skip_internal_condition(e))\n . }, \"object 'p-adj_fdr_bh' not found\", base::quote(mask$eval_all_filter(dots, \n .     env_filter)))",
                        "9. h(simpleError(msg, call))",
                        "10. abort(bullets, call = error_call, parent = skip_internal_condition(e))",
                        "11. signal_abort(cnd, .file)"
                    ]
                },
                {
                    "ename": "",
                    "evalue": "",
                    "output_type": "error",
                    "traceback": [
                        "\u001b[1;31mThe Kernel crashed while executing code in the current cell or a previous cell. \n",
                        "\u001b[1;31mPlease review the code in the cell(s) to identify a possible cause of the failure. \n",
                        "\u001b[1;31mClick <a href='https://aka.ms/vscodeJupyterKernelCrash'>here</a> for more info. \n",
                        "\u001b[1;31mView Jupyter <a href='command:jupyter.viewOutput'>log</a> for further details."
                    ]
                }
            ],
            "source": [
                "# filter out rows that have p-adj_abs > 0.05\n",
                "anova_results = anova_results %>% filter(`p-adj_fdr_bh` < 0.05)\n"
            ]
        },
        {
            "cell_type": "code",
            "execution_count": 8,
            "metadata": {
                "vscode": {
                    "languageId": "r"
                }
            },
            "outputs": [],
            "source": [
                "# change the group names to replace healhty with    control\n",
                "anova_results$group = str_replace_all(anova_results$group,\"healthy\",\"control\")\n"
            ]
        },
        {
            "cell_type": "code",
            "execution_count": 9,
            "metadata": {
                "vscode": {
                    "languageId": "r"
                }
            },
            "outputs": [],
            "source": [
                "# create the three df sets for a venn diagram\n",
                "a_h <- anova_results %>% filter(group == \"apoptosis_control\")\n",
                "a_p <- anova_results %>% filter(group == \"apoptosis_pyroptosis\")\n",
                "h_p <- anova_results %>% filter(group == \"control_pyroptosis\")\n",
                "a_h <- a_h %>% select(features)\n",
                "a_p <- a_p %>% select(features)\n",
                "h_p <- h_p %>% select(features)\n",
                "\n",
                "# create a list of the three df sets\n",
                "a_h_list <- a_h %>% pull(features)\n",
                "a_p_list <- a_p %>% pull(features)\n",
                "h_p_list <- h_p %>% pull(features)\n",
                "\n",
                "x=list(a_h_list,a_p_list,h_p_list)\n"
            ]
        },
        {
            "cell_type": "code",
            "execution_count": null,
            "metadata": {
                "vscode": {
                    "languageId": "r"
                }
            },
            "outputs": [],
            "source": [
                "# set plot size \n",
                "width <- 10\n",
                "height <- 10\n",
                "options(repr.plot.width=width, repr.plot.height=height)\n",
                "myCol <- brewer.pal(3, \"Dark2\")\n",
                "venn_diagram_plot <- venn.diagram(\n",
                "    x=x,\n",
                "    show=TRUE,\n",
                "    category.names = c(\"Apoptosis \\nvs \\nControl\",\"Apoptosis \\nvs \\nPyroptosis\",\"Control \\nvs \\nPyroptosis\"),\n",
                "    filename = paste0(\"../figures/\",cell_type,\"_venn_diagram.png\"),\n",
                "    # Output features\n",
                "    imagetype=\"png\" , \n",
                "    resolution = 600,\n",
                "    compression = \"lzw\",\n",
                "    \n",
                "    # Circles\n",
                "    lwd = 2,\n",
                "    lty = 'blank',\n",
                "    fill = myCol,\n",
                "    \n",
                "    # Numbers\n",
                "    cex = 1,\n",
                "    fontface = \"bold\",\n",
                "    fontfamily = \"sans\",\n",
                "    \n",
                "    # Set names\n",
                "    cat.cex = 0.8,\n",
                "    cat.fontface = \"bold\",\n",
                "    cat.default.pos = \"outer\",\n",
                "    cat.pos = c(-26, 23, 0),\n",
                "    cat.dist = c(-0.03, -0.03, -0.39),\n",
                "    cat.fontfamily = \"sans\",\n",
                "    rotation = 1\n",
                "\n",
                ")\n",
                "# Set the directory path\n",
                "directory <- \"../figures\"\n",
                "# List all files in the directory\n",
                "files <- list.files(directory, full.names = TRUE)\n",
                "# Filter files that end with \".log\"\n",
                "log_files <- files[grep(\".log$\", files)]\n",
                "# Remove the log files\n",
                "file.remove(log_files)\n",
                "# read in the venn diagram from PNG\n",
                "venn_diagram_image_path = file.path(paste0(\"../figures/\",cell_type,\"_venn_diagram.png\"))\n",
                "venn_diagram_image = png::readPNG(venn_diagram_image_path)\n",
                "# plot the montage image to a ggplot object\n",
                "venn_diagram_image <- (\n",
                "    ggplot()\n",
                "    + annotation_custom(\n",
                "        rasterGrob(venn_diagram_image, interpolate = TRUE),\n",
                "        xmin=-Inf, xmax=Inf, ymin=-Inf, ymax=Inf\n",
                "    )\n",
                "    + theme_void()\n",
                ")\n",
                "# get the type of the object\n",
                "class(venn_diagram_image)\n",
                "venn_diagram_image\n"
            ]
        },
        {
            "cell_type": "code",
            "execution_count": null,
            "metadata": {
                "vscode": {
                    "languageId": "r"
                }
            },
            "outputs": [],
            "source": [
                "sessionInfo()"
            ]
        }
    ],
    "metadata": {
        "kernelspec": {
            "display_name": "R",
            "language": "R",
            "name": "ir"
        },
        "language_info": {
            "codemirror_mode": "r",
            "file_extension": ".r",
            "mimetype": "text/x-r-source",
            "name": "R",
            "pygments_lexer": "r",
            "version": "4.2.2"
        },
        "orig_nbformat": 4
    },
    "nbformat": 4,
    "nbformat_minor": 2
}
