{
    "cells": [
        {
            "cell_type": "markdown",
            "metadata": {},
            "source": [
                "## Imports and Constants"
            ]
        },
        {
            "cell_type": "code",
            "execution_count": 1,
            "metadata": {
                "vscode": {
                    "languageId": "r"
                }
            },
            "outputs": [],
            "source": [
                "suppressPackageStartupMessages(suppressWarnings(library(ggplot2))) # plotting\n",
                "suppressPackageStartupMessages(suppressWarnings(library(dplyr))) # data manipulation\n",
                "suppressPackageStartupMessages(suppressWarnings(library(patchwork))) # figure composition\n",
                "suppressPackageStartupMessages(suppressWarnings(library(cowplot))) # figure composition\n",
                "suppressPackageStartupMessages(suppressWarnings(library(RcppTOML))) # parsing config file\n",
                "suppressPackageStartupMessages(suppressWarnings(library(lattice))) # heatmap\n",
                "suppressPackageStartupMessages(suppressWarnings(library(RColorBrewer))) # heatmap\n",
                "suppressPackageStartupMessages(suppressWarnings(library(ComplexHeatmap))) # heatmap\n",
                "suppressPackageStartupMessages(suppressWarnings(library(ggplotify))) # grob\n",
                "suppressPackageStartupMessages(suppressWarnings(library(viridis))) # color\n",
                "suppressPackageStartupMessages(suppressWarnings(library(platetools))) # make plate plot\n",
                "suppressPackageStartupMessages(suppressWarnings(library(circlize))) \n",
                "suppressPackageStartupMessages(suppressWarnings(library(reshape2))) # data manipulation\n",
                "suppressPackageStartupMessages(suppressWarnings(library(stringr))) # string manipulation\n",
                "suppressPackageStartupMessages(suppressWarnings(library(purrr))) # data manipulation\n",
                "suppressPackageStartupMessages(suppressWarnings(library(VennDiagram))) # venn diagram\n",
                "suppressPackageStartupMessages(suppressWarnings(library(tidyverse))) # data manipulation\n",
                "suppressPackageStartupMessages(suppressWarnings(library(ggvenn))) # venn diagram\n",
                "suppressPackageStartupMessages(suppressWarnings(library(grid))) # grid\n",
                "suppressPackageStartupMessages(suppressWarnings(library(Polychrome)))\n",
                "\n",
                "source(\"../../utils/figure_themes.r\")\n"
            ]
        },
        {
            "cell_type": "code",
            "execution_count": 2,
            "metadata": {
                "vscode": {
                    "languageId": "r"
                }
            },
            "outputs": [],
            "source": [
                "cell_type <- \"PBMC\"\n"
            ]
        },
        {
            "cell_type": "code",
            "execution_count": 3,
            "metadata": {
                "vscode": {
                    "languageId": "r"
                }
            },
            "outputs": [],
            "source": [
                "# set path to anova results\n",
                "anova_results_path = file.path(paste0(\n",
                "    \"../../../1.Exploratory_Data_Analysis/results/\",cell_type,\"_combined.parquet\"\n",
                "))\n",
                "figures_path = \"../figures\"\n",
                "if (!dir.exists(figures_path)) dir.create(figures_path)\n",
                "# read in path\n",
                "anova_results = arrow::read_parquet(anova_results_path)\n",
                "anova_results = anova_results %>% filter(shuffled == TRUE)"
            ]
        },
        {
            "cell_type": "code",
            "execution_count": 4,
            "metadata": {
                "vscode": {
                    "languageId": "r"
                }
            },
            "outputs": [
                {
                    "data": {
                        "text/html": [
                            "<table class=\"dataframe\">\n",
                            "<caption>A tibble: 6 \u00d7 12</caption>\n",
                            "<thead>\n",
                            "\t<tr><th scope=col>group1</th><th scope=col>group2</th><th scope=col>meandiff</th><th scope=col>lower</th><th scope=col>upper</th><th scope=col>p-adj</th><th scope=col>reject</th><th scope=col>features</th><th scope=col>p-adj_abs</th><th scope=col>pos_neg</th><th scope=col>shuffled</th><th scope=col>__index_level_0__</th></tr>\n",
                            "\t<tr><th scope=col>&lt;chr&gt;</th><th scope=col>&lt;chr&gt;</th><th scope=col>&lt;dbl&gt;</th><th scope=col>&lt;dbl&gt;</th><th scope=col>&lt;dbl&gt;</th><th scope=col>&lt;dbl&gt;</th><th scope=col>&lt;lgl&gt;</th><th scope=col>&lt;chr&gt;</th><th scope=col>&lt;dbl&gt;</th><th scope=col>&lt;chr&gt;</th><th scope=col>&lt;lgl&gt;</th><th scope=col>&lt;int&gt;</th></tr>\n",
                            "</thead>\n",
                            "<tbody>\n",
                            "\t<tr><td>apoptosis</td><td>healthy   </td><td>-0.0084</td><td>0.2131</td><td>-0.0263</td><td>0.0095</td><td>FALSE</td><td>Nuclei_RadialDistribution_ZernikePhase_CorrPM_1_1     </td><td>0.0095</td><td>positive</td><td>TRUE</td><td>0</td></tr>\n",
                            "\t<tr><td>apoptosis</td><td>pyroptosis</td><td>-0.0093</td><td>0.1532</td><td>-0.0274</td><td>0.0087</td><td>FALSE</td><td>Nuclei_RadialDistribution_ZernikePhase_CorrPM_1_1     </td><td>0.0087</td><td>positive</td><td>TRUE</td><td>1</td></tr>\n",
                            "\t<tr><td>healthy  </td><td>pyroptosis</td><td>-0.0009</td><td>0.9083</td><td>-0.0090</td><td>0.0071</td><td>FALSE</td><td>Nuclei_RadialDistribution_ZernikePhase_CorrPM_1_1     </td><td>0.0071</td><td>positive</td><td>TRUE</td><td>2</td></tr>\n",
                            "\t<tr><td>apoptosis</td><td>pyroptosis</td><td> 0.0039</td><td>0.7181</td><td>-0.0142</td><td>0.0220</td><td>FALSE</td><td>Cytoplasm_RadialDistribution_ZernikePhase_CorrMito_7_3</td><td>0.0220</td><td>positive</td><td>TRUE</td><td>1</td></tr>\n",
                            "\t<tr><td>apoptosis</td><td>healthy   </td><td> 0.0022</td><td>0.9021</td><td>-0.0158</td><td>0.0201</td><td>FALSE</td><td>Cytoplasm_RadialDistribution_ZernikePhase_CorrMito_7_3</td><td>0.0201</td><td>positive</td><td>TRUE</td><td>0</td></tr>\n",
                            "\t<tr><td>healthy  </td><td>pyroptosis</td><td> 0.0018</td><td>0.7182</td><td>-0.0064</td><td>0.0099</td><td>FALSE</td><td>Cytoplasm_RadialDistribution_ZernikePhase_CorrMito_7_3</td><td>0.0099</td><td>positive</td><td>TRUE</td><td>2</td></tr>\n",
                            "</tbody>\n",
                            "</table>\n"
                        ],
                        "text/latex": [
                            "A tibble: 6 \u00d7 12\n",
                            "\\begin{tabular}{llllllllllll}\n",
                            " group1 & group2 & meandiff & lower & upper & p-adj & reject & features & p-adj\\_abs & pos\\_neg & shuffled & \\_\\_index\\_level\\_0\\_\\_\\\\\n",
                            " <chr> & <chr> & <dbl> & <dbl> & <dbl> & <dbl> & <lgl> & <chr> & <dbl> & <chr> & <lgl> & <int>\\\\\n",
                            "\\hline\n",
                            "\t apoptosis & healthy    & -0.0084 & 0.2131 & -0.0263 & 0.0095 & FALSE & Nuclei\\_RadialDistribution\\_ZernikePhase\\_CorrPM\\_1\\_1      & 0.0095 & positive & TRUE & 0\\\\\n",
                            "\t apoptosis & pyroptosis & -0.0093 & 0.1532 & -0.0274 & 0.0087 & FALSE & Nuclei\\_RadialDistribution\\_ZernikePhase\\_CorrPM\\_1\\_1      & 0.0087 & positive & TRUE & 1\\\\\n",
                            "\t healthy   & pyroptosis & -0.0009 & 0.9083 & -0.0090 & 0.0071 & FALSE & Nuclei\\_RadialDistribution\\_ZernikePhase\\_CorrPM\\_1\\_1      & 0.0071 & positive & TRUE & 2\\\\\n",
                            "\t apoptosis & pyroptosis &  0.0039 & 0.7181 & -0.0142 & 0.0220 & FALSE & Cytoplasm\\_RadialDistribution\\_ZernikePhase\\_CorrMito\\_7\\_3 & 0.0220 & positive & TRUE & 1\\\\\n",
                            "\t apoptosis & healthy    &  0.0022 & 0.9021 & -0.0158 & 0.0201 & FALSE & Cytoplasm\\_RadialDistribution\\_ZernikePhase\\_CorrMito\\_7\\_3 & 0.0201 & positive & TRUE & 0\\\\\n",
                            "\t healthy   & pyroptosis &  0.0018 & 0.7182 & -0.0064 & 0.0099 & FALSE & Cytoplasm\\_RadialDistribution\\_ZernikePhase\\_CorrMito\\_7\\_3 & 0.0099 & positive & TRUE & 2\\\\\n",
                            "\\end{tabular}\n"
                        ],
                        "text/markdown": [
                            "\n",
                            "A tibble: 6 \u00d7 12\n",
                            "\n",
                            "| group1 &lt;chr&gt; | group2 &lt;chr&gt; | meandiff &lt;dbl&gt; | lower &lt;dbl&gt; | upper &lt;dbl&gt; | p-adj &lt;dbl&gt; | reject &lt;lgl&gt; | features &lt;chr&gt; | p-adj_abs &lt;dbl&gt; | pos_neg &lt;chr&gt; | shuffled &lt;lgl&gt; | __index_level_0__ &lt;int&gt; |\n",
                            "|---|---|---|---|---|---|---|---|---|---|---|---|\n",
                            "| apoptosis | healthy    | -0.0084 | 0.2131 | -0.0263 | 0.0095 | FALSE | Nuclei_RadialDistribution_ZernikePhase_CorrPM_1_1      | 0.0095 | positive | TRUE | 0 |\n",
                            "| apoptosis | pyroptosis | -0.0093 | 0.1532 | -0.0274 | 0.0087 | FALSE | Nuclei_RadialDistribution_ZernikePhase_CorrPM_1_1      | 0.0087 | positive | TRUE | 1 |\n",
                            "| healthy   | pyroptosis | -0.0009 | 0.9083 | -0.0090 | 0.0071 | FALSE | Nuclei_RadialDistribution_ZernikePhase_CorrPM_1_1      | 0.0071 | positive | TRUE | 2 |\n",
                            "| apoptosis | pyroptosis |  0.0039 | 0.7181 | -0.0142 | 0.0220 | FALSE | Cytoplasm_RadialDistribution_ZernikePhase_CorrMito_7_3 | 0.0220 | positive | TRUE | 1 |\n",
                            "| apoptosis | healthy    |  0.0022 | 0.9021 | -0.0158 | 0.0201 | FALSE | Cytoplasm_RadialDistribution_ZernikePhase_CorrMito_7_3 | 0.0201 | positive | TRUE | 0 |\n",
                            "| healthy   | pyroptosis |  0.0018 | 0.7182 | -0.0064 | 0.0099 | FALSE | Cytoplasm_RadialDistribution_ZernikePhase_CorrMito_7_3 | 0.0099 | positive | TRUE | 2 |\n",
                            "\n"
                        ],
                        "text/plain": [
                            "  group1    group2     meandiff lower  upper   p-adj  reject\n",
                            "1 apoptosis healthy    -0.0084  0.2131 -0.0263 0.0095 FALSE \n",
                            "2 apoptosis pyroptosis -0.0093  0.1532 -0.0274 0.0087 FALSE \n",
                            "3 healthy   pyroptosis -0.0009  0.9083 -0.0090 0.0071 FALSE \n",
                            "4 apoptosis pyroptosis  0.0039  0.7181 -0.0142 0.0220 FALSE \n",
                            "5 apoptosis healthy     0.0022  0.9021 -0.0158 0.0201 FALSE \n",
                            "6 healthy   pyroptosis  0.0018  0.7182 -0.0064 0.0099 FALSE \n",
                            "  features                                               p-adj_abs pos_neg \n",
                            "1 Nuclei_RadialDistribution_ZernikePhase_CorrPM_1_1      0.0095    positive\n",
                            "2 Nuclei_RadialDistribution_ZernikePhase_CorrPM_1_1      0.0087    positive\n",
                            "3 Nuclei_RadialDistribution_ZernikePhase_CorrPM_1_1      0.0071    positive\n",
                            "4 Cytoplasm_RadialDistribution_ZernikePhase_CorrMito_7_3 0.0220    positive\n",
                            "5 Cytoplasm_RadialDistribution_ZernikePhase_CorrMito_7_3 0.0201    positive\n",
                            "6 Cytoplasm_RadialDistribution_ZernikePhase_CorrMito_7_3 0.0099    positive\n",
                            "  shuffled __index_level_0__\n",
                            "1 TRUE     0                \n",
                            "2 TRUE     1                \n",
                            "3 TRUE     2                \n",
                            "4 TRUE     1                \n",
                            "5 TRUE     0                \n",
                            "6 TRUE     2                "
                        ]
                    },
                    "metadata": {},
                    "output_type": "display_data"
                }
            ],
            "source": [
                "head(anova_results)"
            ]
        },
        {
            "cell_type": "code",
            "execution_count": 5,
            "metadata": {
                "vscode": {
                    "languageId": "r"
                }
            },
            "outputs": [],
            "source": [
                "# create a column that adds group1 and group2 together\n",
                "anova_results$group = paste0(anova_results$group1,\"_\",anova_results$group2)\n"
            ]
        },
        {
            "cell_type": "code",
            "execution_count": 6,
            "metadata": {
                "vscode": {
                    "languageId": "r"
                }
            },
            "outputs": [],
            "source": [
                "# filter out rows that have p-adj_abs > 0.05\n",
                "anova_results = anova_results %>% filter(`p-adj_abs` < 0.05)\n"
            ]
        },
        {
            "cell_type": "code",
            "execution_count": 7,
            "metadata": {
                "vscode": {
                    "languageId": "r"
                }
            },
            "outputs": [],
            "source": [
                "# change the group names to replace healhty with    control\n",
                "anova_results$group = str_replace_all(anova_results$group,\"healthy\",\"control\")\n"
            ]
        },
        {
            "cell_type": "code",
            "execution_count": 8,
            "metadata": {
                "vscode": {
                    "languageId": "r"
                }
            },
            "outputs": [],
            "source": [
                "# create the three df sets for a venn diagram\n",
                "a_h <- anova_results %>% filter(group == \"apoptosis_control\")\n",
                "a_p <- anova_results %>% filter(group == \"apoptosis_pyroptosis\")\n",
                "h_p <- anova_results %>% filter(group == \"control_pyroptosis\")\n",
                "a_h <- a_h %>% select(features)\n",
                "a_p <- a_p %>% select(features)\n",
                "h_p <- h_p %>% select(features)\n",
                "\n",
                "# create a list of the three df sets\n",
                "a_h_list <- a_h %>% pull(features)\n",
                "a_p_list <- a_p %>% pull(features)\n",
                "h_p_list <- h_p %>% pull(features)\n",
                "\n",
                "x=list(a_h_list,a_p_list,h_p_list)\n"
            ]
        },
        {
            "cell_type": "code",
            "execution_count": 9,
            "metadata": {
                "vscode": {
                    "languageId": "r"
                }
            },
            "outputs": [
                {
                    "data": {
                        "text/html": [
                            "889"
                        ],
                        "text/latex": [
                            "889"
                        ],
                        "text/markdown": [
                            "889"
                        ],
                        "text/plain": [
                            "[1] 889"
                        ]
                    },
                    "metadata": {},
                    "output_type": "display_data"
                },
                {
                    "data": {
                        "text/html": [
                            "593"
                        ],
                        "text/latex": [
                            "593"
                        ],
                        "text/markdown": [
                            "593"
                        ],
                        "text/plain": [
                            "[1] 593"
                        ]
                    },
                    "metadata": {},
                    "output_type": "display_data"
                },
                {
                    "data": {
                        "text/html": [
                            "567"
                        ],
                        "text/latex": [
                            "567"
                        ],
                        "text/markdown": [
                            "567"
                        ],
                        "text/plain": [
                            "[1] 567"
                        ]
                    },
                    "metadata": {},
                    "output_type": "display_data"
                }
            ],
            "source": [
                "length(a_h_list)\n",
                "length(a_p_list)\n",
                "length(h_p_list)\n"
            ]
        },
        {
            "cell_type": "code",
            "execution_count": 10,
            "metadata": {
                "vscode": {
                    "languageId": "r"
                }
            },
            "outputs": [
                {
                    "data": {
                        "text/html": [
                            "TRUE"
                        ],
                        "text/latex": [
                            "TRUE"
                        ],
                        "text/markdown": [
                            "TRUE"
                        ],
                        "text/plain": [
                            "[1] TRUE"
                        ]
                    },
                    "metadata": {},
                    "output_type": "display_data"
                },
                {
                    "data": {
                        "text/html": [
                            "<style>\n",
                            ".list-inline {list-style: none; margin:0; padding: 0}\n",
                            ".list-inline>li {display: inline-block}\n",
                            ".list-inline>li:not(:last-child)::after {content: \"\\00b7\"; padding: 0 .5ex}\n",
                            "</style>\n",
                            "<ol class=list-inline><li>'gg'</li><li>'ggplot'</li></ol>\n"
                        ],
                        "text/latex": [
                            "\\begin{enumerate*}\n",
                            "\\item 'gg'\n",
                            "\\item 'ggplot'\n",
                            "\\end{enumerate*}\n"
                        ],
                        "text/markdown": [
                            "1. 'gg'\n",
                            "2. 'ggplot'\n",
                            "\n",
                            "\n"
                        ],
                        "text/plain": [
                            "[1] \"gg\"     \"ggplot\""
                        ]
                    },
                    "metadata": {},
                    "output_type": "display_data"
                },
                {
                    "data": {
                        "image/png": "[encoded data removed]",
                        "text/plain": [
                            "plot without title"
                        ]
                    },
                    "metadata": {
                        "image/png": {
                            "height": 600,
                            "width": 600
                        }
                    },
                    "output_type": "display_data"
                }
            ],
            "source": [
                "# set plot size \n",
                "width <- 10\n",
                "height <- 10\n",
                "options(repr.plot.width=width, repr.plot.height=height)\n",
                "myCol <- brewer.pal(3, \"Dark2\")\n",
                "venn_diagram_plot <- venn.diagram(\n",
                "    x=x,\n",
                "    show=TRUE,\n",
                "    category.names = c(\"\",\"\",\"\"),\n",
                "    filename = paste0(\"../figures/\",cell_type,\"_venn_diagram.png\"),\n",
                "    # Output features\n",
                "    imagetype=\"png\" , \n",
                "    resolution = 600,\n",
                "    compression = \"lzw\",\n",
                "    \n",
                "    # Circles\n",
                "    lwd = 2,\n",
                "    lty = 'blank',\n",
                "    fill = myCol,\n",
                "    \n",
                "    # Numbers\n",
                "    cex = 1,\n",
                "    fontface = \"bold\",\n",
                "    fontfamily = \"sans\",\n",
                "    \n",
                "    # Set names\n",
                "    cat.cex = 0.8,\n",
                "    cat.fontface = \"bold\",\n",
                "    cat.default.pos = \"outer\",\n",
                "    cat.pos = c(-26, 23, 50),\n",
                "    cat.dist = c(0, 0, -0.4),\n",
                "    cat.fontfamily = \"sans\",\n",
                "    rotation = 1\n",
                "\n",
                ")\n",
                "# Set the directory path\n",
                "directory <- \"../figures\"\n",
                "# List all files in the directory\n",
                "files <- list.files(directory, full.names = TRUE)\n",
                "# Filter files that end with \".log\"\n",
                "log_files <- files[grep(\".log$\", files)]\n",
                "# Remove the log files\n",
                "file.remove(log_files)\n",
                "# read in the venn diagram from PNG\n",
                "venn_diagram_image_path = file.path(paste0(\"../figures/\",cell_type,\"_venn_diagram.png\"))\n",
                "venn_diagram_image = png::readPNG(venn_diagram_image_path)\n",
                "# plot the montage image to a ggplot object\n",
                "venn_diagram_image <- (\n",
                "    ggplot()\n",
                "    + annotation_custom(\n",
                "        rasterGrob(venn_diagram_image, interpolate = TRUE),\n",
                "        xmin=-Inf, xmax=Inf, ymin=-Inf, ymax=Inf\n",
                "    )\n",
                "    + theme_void()\n",
                ")\n",
                "# get the type of the object\n",
                "class(venn_diagram_image)\n",
                "venn_diagram_image\n",
                "\n"
            ]
        },
        {
            "cell_type": "code",
            "execution_count": 11,
            "metadata": {
                "vscode": {
                    "languageId": "r"
                }
            },
            "outputs": [
                {
                    "data": {
                        "text/plain": [
                            "R version 4.2.2 (2022-10-31)\n",
                            "Platform: x86_64-conda-linux-gnu (64-bit)\n",
                            "Running under: Pop!_OS 22.04 LTS\n",
                            "\n",
                            "Matrix products: default\n",
                            "BLAS/LAPACK: /home/lippincm/miniforge3/envs/Interstellar_R/lib/libopenblasp-r0.3.27.so\n",
                            "\n",
                            "locale:\n",
                            " [1] LC_CTYPE=en_US.UTF-8       LC_NUMERIC=C              \n",
                            " [3] LC_TIME=en_US.UTF-8        LC_COLLATE=en_US.UTF-8    \n",
                            " [5] LC_MONETARY=en_US.UTF-8    LC_MESSAGES=en_US.UTF-8   \n",
                            " [7] LC_PAPER=en_US.UTF-8       LC_NAME=C                 \n",
                            " [9] LC_ADDRESS=C               LC_TELEPHONE=C            \n",
                            "[11] LC_MEASUREMENT=en_US.UTF-8 LC_IDENTIFICATION=C       \n",
                            "\n",
                            "attached base packages:\n",
                            "[1] grid      stats     graphics  grDevices utils     datasets  methods  \n",
                            "[8] base     \n",
                            "\n",
                            "other attached packages:\n",
                            " [1] Polychrome_1.5.1      ggvenn_0.1.10         forcats_1.0.0        \n",
                            " [4] readr_2.1.5           tidyr_1.3.1           tibble_3.2.1         \n",
                            " [7] tidyverse_1.3.2       VennDiagram_1.7.3     futile.logger_1.4.3  \n",
                            "[10] purrr_1.0.2           stringr_1.5.1         reshape2_1.4.4       \n",
                            "[13] circlize_0.4.16       platetools_0.1.7      viridis_0.6.5        \n",
                            "[16] viridisLite_0.4.2     ggplotify_0.1.2       ComplexHeatmap_2.14.0\n",
                            "[19] RColorBrewer_1.1-3    lattice_0.22-6        RcppTOML_0.2.2       \n",
                            "[22] cowplot_1.1.3         patchwork_1.2.0       dplyr_1.0.10         \n",
                            "[25] ggplot2_3.5.1        \n",
                            "\n",
                            "loaded via a namespace (and not attached):\n",
                            " [1] matrixStats_1.3.0    fs_1.6.4             bit64_4.0.5         \n",
                            " [4] lubridate_1.9.3      doParallel_1.0.17    httr_1.4.7          \n",
                            " [7] repr_1.1.7           tools_4.2.2          backports_1.5.0     \n",
                            "[10] utf8_1.2.4           R6_2.5.1             DBI_1.2.3           \n",
                            "[13] BiocGenerics_0.44.0  colorspace_2.1-0     GetoptLong_1.0.5    \n",
                            "[16] withr_3.0.0          tidyselect_1.2.1     gridExtra_2.3       \n",
                            "[19] bit_4.0.5            compiler_4.2.2       rvest_1.0.4         \n",
                            "[22] cli_3.6.3            formatR_1.14         xml2_1.3.3          \n",
                            "[25] scales_1.3.0         arrow_16.1.0         pbdZMQ_0.3-11       \n",
                            "[28] digest_0.6.36        yulab.utils_0.1.4    base64enc_0.1-3     \n",
                            "[31] pkgconfig_2.0.3      htmltools_0.5.8.1    dbplyr_2.3.0        \n",
                            "[34] fastmap_1.2.0        readxl_1.4.3         rlang_1.1.4         \n",
                            "[37] GlobalOptions_0.1.2  shape_1.4.6.1        gridGraphics_0.5-1  \n",
                            "[40] generics_0.1.3       jsonlite_1.8.8       googlesheets4_1.1.1 \n",
                            "[43] magrittr_2.0.3       Rcpp_1.0.12          IRkernel_1.3.2      \n",
                            "[46] munsell_0.5.1        S4Vectors_0.36.0     fansi_1.0.6         \n",
                            "[49] lifecycle_1.0.4      scatterplot3d_0.3-44 stringi_1.7.12      \n",
                            "[52] plyr_1.8.9           parallel_4.2.2       crayon_1.5.3        \n",
                            "[55] IRdisplay_1.1        haven_2.5.4          hms_1.1.3           \n",
                            "[58] pillar_1.9.0         uuid_1.2-0           rjson_0.2.21        \n",
                            "[61] codetools_0.2-20     stats4_4.2.2         futile.options_1.0.1\n",
                            "[64] reprex_2.1.0         glue_1.7.0           evaluate_0.24.0     \n",
                            "[67] modelr_0.1.11        lambda.r_1.2.4       tzdb_0.4.0          \n",
                            "[70] png_0.1-8            vctrs_0.6.5          foreach_1.5.2       \n",
                            "[73] cellranger_1.1.0     gtable_0.3.5         clue_0.3-65         \n",
                            "[76] assertthat_0.2.1     cachem_1.1.0         broom_1.0.6         \n",
                            "[79] googledrive_2.1.1    gargle_1.5.2         iterators_1.0.14    \n",
                            "[82] memoise_2.0.1        IRanges_2.32.0       cluster_2.1.6       \n",
                            "[85] timechange_0.3.0    "
                        ]
                    },
                    "metadata": {},
                    "output_type": "display_data"
                }
            ],
            "source": [
                "sessionInfo()"
            ]
        }
    ],
    "metadata": {
        "kernelspec": {
            "display_name": "R",
            "language": "R",
            "name": "ir"
        },
        "language_info": {
            "codemirror_mode": "r",
            "file_extension": ".r",
            "mimetype": "text/x-r-source",
            "name": "R",
            "pygments_lexer": "r",
            "version": "4.2.2"
        },
        "orig_nbformat": 4
    },
    "nbformat": 4,
    "nbformat_minor": 2
}
