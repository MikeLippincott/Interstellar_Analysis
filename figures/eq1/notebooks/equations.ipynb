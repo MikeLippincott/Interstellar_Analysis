{
    "cells": [
        {
            "cell_type": "code",
            "execution_count": 1,
            "metadata": {},
            "outputs": [],
            "source": [
                "import pathlib\n",
                "\n",
                "import matplotlib.pyplot as plt\n",
                "from IPython.display import Math"
            ]
        },
        {
            "cell_type": "code",
            "execution_count": 2,
            "metadata": {},
            "outputs": [],
            "source": [
                "def latex2png(latex, filename, fontsize=300):\n",
                "    \"\"\"\n",
                "    Render latex code to png image\n",
                "    \"\"\"\n",
                "    from sympy import preview\n",
                "\n",
                "    return preview(\n",
                "        latex,\n",
                "        viewer=\"file\",\n",
                "        filename=filename,\n",
                "        euler=False,\n",
                "        dvioptions=[\"-D\", f\"{str(fontsize)}\"],\n",
                "    )"
            ]
        },
        {
            "cell_type": "markdown",
            "metadata": {},
            "source": [
                "$$eq1: A \\cap (B \\cup C)^c$$\n",
                "$$eq2: B \\cap (A \\cup C)^c$$\n",
                "$$eq3: C \\cap (A \\cup B)^c$$\n",
                "\n",
                "$$ Where: \n",
                "\\newline\n",
                "A = Apoptosis \\; vs. \\; Control\n",
                "\\newline\n",
                "B = Apoptosis \\; vs. \\; Pyroptosis\n",
                "\\newline\n",
                "C = Pyroptosis \\; vs. \\; Control$$"
            ]
        },
        {
            "cell_type": "code",
            "execution_count": 3,
            "metadata": {},
            "outputs": [],
            "source": [
                "# set output path\n",
                "out_path = pathlib.Path(\"../figures\").resolve()\n",
                "# make sure output path exists\n",
                "out_path.mkdir(parents=True, exist_ok=True)"
            ]
        },
        {
            "cell_type": "code",
            "execution_count": 4,
            "metadata": {},
            "outputs": [
                {
                    "data": {
                        "text/latex": [
                            "$\\displaystyle \n",
                            "$$\\textbf{eq.1:}\\; A \\cap (B \\cup C)^c ; \\; \\; \\textbf{eq.2:} \\; B \\cap (A \\cup C)^c ; \\; \\; \\textbf{eq.3:}\\; C \\cap (A \\cup B)^c\\; $$\n",
                            "$$Where: $$\n",
                            "$$A = Apoptosis \\; vs. \\; Control \\; ANOVA \\; features$$\n",
                            "$$B = Apoptosis \\; vs. \\; Pyroptosis \\; ANOVA \\; features$$\n",
                            "$$C = Pyroptosis \\; vs. \\; Control \\; ANOVA \\; features$$\n",
                            "$"
                        ],
                        "text/plain": [
                            "<IPython.core.display.Math object>"
                        ]
                    },
                    "execution_count": 4,
                    "metadata": {},
                    "output_type": "execute_result"
                }
            ],
            "source": [
                "latex_string = r\"\"\"\n",
                "$$\\textbf{eq.1:}\\; A \\cap (B \\cup C)^c ; \\; \\; \\textbf{eq.2:} \\; B \\cap (A \\cup C)^c ; \\; \\; \\textbf{eq.3:}\\; C \\cap (A \\cup B)^c\\; $$\n",
                "$$Where: $$\n",
                "$$A = Apoptosis \\; vs. \\; Control \\; ANOVA \\; features$$\n",
                "$$B = Apoptosis \\; vs. \\; Pyroptosis \\; ANOVA \\; features$$\n",
                "$$C = Pyroptosis \\; vs. \\; Control \\; ANOVA \\; features$$\n",
                "\"\"\"\n",
                "\n",
                "latex2png(latex_string, \"../figures/equations.png\", fontsize=300)\n",
                "Math(latex_string)"
            ]
        },
        {
            "cell_type": "markdown",
            "metadata": {},
            "source": [
                "Equations 4-6"
            ]
        },
        {
            "cell_type": "markdown",
            "metadata": {},
            "source": [
                "$\\tilde{A} = corr(Y,U)$  \n",
                "$\\tilde{B} = corr(X,V)$  \n",
                "$u_k = \\frac{1}{P} \\sum^P_{p=1} \\tilde a^2_{pk}$  \n",
                "$v_k = \\frac{1}{Q} \\sum^Q_{q=1} \\tilde b^2_{qk}$  \n",
                "$RI_u = u_k * r^2_k$  \n",
                "$RI_v = v_k * r^2_k$"
            ]
        },
        {
            "cell_type": "code",
            "execution_count": 5,
            "metadata": {},
            "outputs": [
                {
                    "data": {
                        "text/latex": [
                            "$\\displaystyle \n",
                            "$$\\textbf{eq.4:}\\; \\tilde{A} = corr(Y,U) ;\\; \\;  \\textbf{eq.5:}\\; \\tilde{B} = corr(X,V)$$  \n",
                            "$$\\textbf{eq.6:}\\; u_k = \\frac{1}{P} \\sum^P_{p=1} \\tilde a^2_{pk} ;\\; \\; \\textbf{eq.7:}\\;v_k = \\frac{1}{Q} \\sum^Q_{q=1} \\tilde b^2_{qk}$$\n",
                            "$$\\textbf{eq.8:}\\; RI_u = u_k * r^2_k ;\\; \\; \\textbf{eq.9:}\\;RI_v = v_k * r^2_k$$\n",
                            "$"
                        ],
                        "text/plain": [
                            "<IPython.core.display.Math object>"
                        ]
                    },
                    "execution_count": 5,
                    "metadata": {},
                    "output_type": "execute_result"
                }
            ],
            "source": [
                "latex_string = r\"\"\"\n",
                "$$\\textbf{eq.4:}\\; \\tilde{A} = corr(Y,U) ;\\; \\;  \\textbf{eq.5:}\\; \\tilde{B} = corr(X,V)$$  \n",
                "$$\\textbf{eq.6:}\\; u_k = \\frac{1}{P} \\sum^P_{p=1} \\tilde a^2_{pk} ;\\; \\; \\textbf{eq.7:}\\;v_k = \\frac{1}{Q} \\sum^Q_{q=1} \\tilde b^2_{qk}$$\n",
                "$$\\textbf{eq.8:}\\; RI_u = u_k * r^2_k ;\\; \\; \\textbf{eq.9:}\\;RI_v = v_k * r^2_k$$\n",
                "\"\"\"\n",
                "\n",
                "latex2png(latex_string, \"../figures/equations4_9.png\", fontsize=300)\n",
                "Math(latex_string)"
            ]
        }
    ],
    "metadata": {
        "kernelspec": {
            "display_name": "Interstellar",
            "language": "python",
            "name": "python3"
        },
        "language_info": {
            "codemirror_mode": {
                "name": "ipython",
                "version": 3
            },
            "file_extension": ".py",
            "mimetype": "text/x-python",
            "name": "python",
            "nbconvert_exporter": "python",
            "pygments_lexer": "ipython3",
            "version": "3.10.12"
        }
    },
    "nbformat": 4,
    "nbformat_minor": 2
}
