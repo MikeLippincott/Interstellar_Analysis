{
 "cells": [
  {
   "cell_type": "markdown",
   "metadata": {},
   "source": [
    "## Imports"
   ]
  },
  {
   "cell_type": "code",
   "execution_count": 1,
   "metadata": {},
   "outputs": [],
   "source": [
    "import pathlib\n",
    "\n",
    "import cv2\n",
    "import matplotlib.pyplot as plt\n",
    "import numpy as np\n",
    "import pandas as pd\n",
    "import seaborn as sns\n",
    "import tifffile as tf  # write tiff files\n",
    "from cytocherrypick.calculations import find_median\n",
    "from PIL import Image  # read tiff files\n",
    "from toml import load\n",
    "from tqdm import tqdm  # progress bar"
   ]
  },
  {
   "cell_type": "code",
   "execution_count": 2,
   "metadata": {},
   "outputs": [],
   "source": [
    "CELL_TYPE = \"SHSY5Y\""
   ]
  },
  {
   "cell_type": "code",
   "execution_count": 3,
   "metadata": {},
   "outputs": [],
   "source": [
    "agg_cell_path = pathlib.Path(f\"../../../data/{CELL_TYPE}_preprocessed_sc_norm.parquet\")\n",
    "agg_cell_df = pd.read_parquet(agg_cell_path)\n",
    "\n",
    "columns_to_load = [\n",
    "    \"Metadata_Nuclei_Location_Center_Y\",\n",
    "    \"Metadata_Nuclei_Location_Center_X\",\n",
    "]\n",
    "# get the unfeature selected data\n",
    "unselected_df_path = pathlib.Path(\n",
    "    \"data/{CELL_TYPE}_sc.parquet\",\n",
    "    columns=columns_to_load,\n",
    ")"
   ]
  },
  {
   "cell_type": "code",
   "execution_count": 4,
   "metadata": {},
   "outputs": [
    {
     "data": {
      "text/plain": [
       "PosixPath('/home/lippincm/Documents/ML/Interstellar_Analysis')"
      ]
     },
     "execution_count": 4,
     "metadata": {},
     "output_type": "execute_result"
    }
   ],
   "source": [
    "# Get the current working directory of the repository\n",
    "cwd = pathlib.Path.cwd()\n",
    "\n",
    "if (cwd / \".git\").is_dir():\n",
    "    root_dir = cwd\n",
    "\n",
    "else:\n",
    "    root_dir = None\n",
    "    for parent in cwd.parents:\n",
    "        if (parent / \".git\").is_dir():\n",
    "            root_dir = parent\n",
    "            break\n",
    "\n",
    "# Check if a Git root directory was found\n",
    "if root_dir is None:\n",
    "    raise FileNotFoundError(\"No Git root directory found.\")\n",
    "root_dir"
   ]
  },
  {
   "cell_type": "code",
   "execution_count": 5,
   "metadata": {},
   "outputs": [],
   "source": [
    "image_out_dir_path = pathlib.Path(f\"{root_dir}/8.cytopick_analysis/figures/PBMC/\")\n",
    "\n",
    "\n",
    "# if path does not exist, create it\n",
    "image_out_dir_path.mkdir(parents=True, exist_ok=True)"
   ]
  },
  {
   "cell_type": "code",
   "execution_count": 6,
   "metadata": {},
   "outputs": [],
   "source": [
    "# define directories\n",
    "# where the images are on a local machine\n",
    "# this is a hard coded path to the 1TB image directory\n",
    "\n",
    "#####\n",
    "# THIS PATH NEEDS TO BE CHANGED TO THE LOCAL IMAGE DIRECTORY ON YOUR MACHINE\n",
    "#####\n",
    "\n",
    "image_dir_path = pathlib.Path(\n",
    "    \"/media/lippincm/18T/interstellar_data/70117_20230210MM1_Gasdermin514_CP_BC430856__2023-03-22T15_42_38-Measurement1/2.IC/\"\n",
    ").resolve(strict=True)"
   ]
  },
  {
   "cell_type": "code",
   "execution_count": 7,
   "metadata": {},
   "outputs": [],
   "source": [
    "# path\n",
    "anova_path = pathlib.Path(\n",
    "    f\"../../../1.Exploratory_Data_Analysis/results/{CELL_TYPE}_combined.parquet\"\n",
    ")\n",
    "# read in the anova results\n",
    "anova_results = pd.read_parquet(anova_path)"
   ]
  },
  {
   "cell_type": "markdown",
   "metadata": {},
   "source": [
    "## define the groups"
   ]
  },
  {
   "cell_type": "code",
   "execution_count": 8,
   "metadata": {},
   "outputs": [
    {
     "data": {
      "text/plain": [
       "['Control', 'Apoptosis', 'Pyroptosis']\n",
       "Categories (3, object): ['Control' < 'Apoptosis' < 'Pyroptosis']"
      ]
     },
     "execution_count": 8,
     "metadata": {},
     "output_type": "execute_result"
    }
   ],
   "source": [
    "# read in the ground truth data\n",
    "data_path_ground_truth = (\n",
    "    \"../../../4.sc_Morphology_Neural_Network_MLP_Model/MLP_utils/ground_truth.toml\"\n",
    ")\n",
    "ground_truth = load(data_path_ground_truth)\n",
    "\n",
    "# make a a list of the treatments that are in the ground truth data\n",
    "apoptosis_ground_truth_list = ground_truth[\"Apoptosis\"][\"apoptosis_groups_list\"]\n",
    "pyroptosis_ground_truth_list = ground_truth[\"Pyroptosis\"][\"pyroptosis_groups_list\"]\n",
    "control_ground_truth_list = ground_truth[\"Healthy\"][\"healthy_groups_list\"]\n",
    "\n",
    "# replace Flagellin_1.000_ug_per_ml_DMSO_0.0_% with Flagellin_1.000_ug_per_ml_DMSO_0.025_%\n",
    "agg_cell_df[\"oneb_Metadata_Treatment_Dose_Inhibitor_Dose\"] = agg_cell_df[\n",
    "    \"oneb_Metadata_Treatment_Dose_Inhibitor_Dose\"\n",
    "].replace(\n",
    "    \"Flagellin_1.000_ug_per_ml_DMSO_0.0_%\", \"Flagellin_1.000_ug_per_ml_DMSO_0.025_%\"\n",
    ")\n",
    "# convert media_ctr_0.0_ug_per_ml_Media_ctr_0_0 to media_ctr_0.0_ug_per_ml_Media_ctr_0_025\n",
    "agg_cell_df[\"oneb_Metadata_Treatment_Dose_Inhibitor_Dose\"] = agg_cell_df[\n",
    "    \"oneb_Metadata_Treatment_Dose_Inhibitor_Dose\"\n",
    "].replace(\"media_ctr_0.0_ug_per_ml_Media_ctr_0_0\", \"media_ctr_0.0_0_Media_ctr_0.0_0\")\n",
    "\n",
    "# make a new column that is the treatment group based on the ground truth data\n",
    "agg_cell_df[\"group\"] = \"NA\"\n",
    "agg_cell_df.loc[\n",
    "    agg_cell_df[\"oneb_Metadata_Treatment_Dose_Inhibitor_Dose\"].isin(\n",
    "        apoptosis_ground_truth_list\n",
    "    ),\n",
    "    \"group\",\n",
    "] = \"Apoptosis\"\n",
    "agg_cell_df.loc[\n",
    "    agg_cell_df[\"oneb_Metadata_Treatment_Dose_Inhibitor_Dose\"].isin(\n",
    "        pyroptosis_ground_truth_list\n",
    "    ),\n",
    "    \"group\",\n",
    "] = \"Pyroptosis\"\n",
    "agg_cell_df.loc[\n",
    "    agg_cell_df[\"oneb_Metadata_Treatment_Dose_Inhibitor_Dose\"].isin(\n",
    "        control_ground_truth_list\n",
    "    ),\n",
    "    \"group\",\n",
    "] = \"Control\"\n",
    "\n",
    "# make the group column a category\n",
    "agg_cell_df[\"group\"] = pd.Categorical(\n",
    "    agg_cell_df[\"group\"],\n",
    "    categories=[\"Control\", \"Apoptosis\", \"Pyroptosis\"],\n",
    "    ordered=True,\n",
    ")\n",
    "\n",
    "agg_cell_df[\"group\"].unique()"
   ]
  },
  {
   "cell_type": "code",
   "execution_count": 9,
   "metadata": {},
   "outputs": [],
   "source": [
    "# sperate the data into the different groups\n",
    "control_df = agg_cell_df[agg_cell_df[\"group\"] == \"Control\"]\n",
    "apoptosis_df = agg_cell_df[agg_cell_df[\"group\"] == \"Apoptosis\"]\n",
    "pyroptosis_df = agg_cell_df[agg_cell_df[\"group\"] == \"Pyroptosis\"]"
   ]
  },
  {
   "cell_type": "code",
   "execution_count": 10,
   "metadata": {},
   "outputs": [
    {
     "name": "stdout",
     "output_type": "stream",
     "text": [
      "(3753, 11)\n",
      "(1753, 11)\n"
     ]
    },
    {
     "name": "stderr",
     "output_type": "stream",
     "text": [
      "/home/lippincm/miniconda3/envs/Interstellar/lib/python3.10/site-packages/pandas/core/arraylike.py:402: RuntimeWarning: divide by zero encountered in log10\n",
      "  result = getattr(ufunc, method)(*inputs, **kwargs)\n"
     ]
    }
   ],
   "source": [
    "# create a column that adds group1 and group2 together\n",
    "anova_results[\"group\"] = anova_results[\"group1\"] + \"_\" + anova_results[\"group2\"]\n",
    "print(anova_results.shape)\n",
    "\n",
    "# filter out rows that have p-adj_abs > 0.05\n",
    "anova_results = anova_results[anova_results[\"p-adj_abs\"] < 0.05]\n",
    "print(anova_results.shape)\n",
    "\n",
    "# change the group names to replace healthy with control\n",
    "anova_results[\"group\"] = anova_results[\"group\"].str.replace(\"healthy\", \"control\")\n",
    "# make a -log10(p-adj) column\n",
    "anova_results[\"neg-log10(p-adj_abs)\"] = -np.log10(anova_results[\"p-adj_abs\"])\n",
    "# sort by neg-log10(p-adj_abs)\n",
    "anova_results = anova_results.sort_values(by=\"neg-log10(p-adj_abs)\", ascending=False)\n",
    "# split the dfs into comparisons\n",
    "c_p_df = anova_results[anova_results[\"group\"] == \"control_pyroptosis\"]\n",
    "a_c_df = anova_results[anova_results[\"group\"] == \"apoptosis_control\"]\n",
    "a_p_df = anova_results[anova_results[\"group\"] == \"apoptosis_pyroptosis\"]\n",
    "# sort by neg-log10(p-adj_abs)\n",
    "c_p_df = c_p_df.sort_values(by=\"neg-log10(p-adj_abs)\", ascending=False)\n",
    "a_c_df = a_c_df.sort_values(by=\"neg-log10(p-adj_abs)\", ascending=False)\n",
    "a_p_df = a_p_df.sort_values(by=\"neg-log10(p-adj_abs)\", ascending=False)"
   ]
  },
  {
   "cell_type": "code",
   "execution_count": 11,
   "metadata": {},
   "outputs": [],
   "source": [
    "# get the top 10 features for each comparison\n",
    "c_p_top10 = c_p_df.iloc[:10, :]\n",
    "a_c_top10 = a_c_df.iloc[:10, :]\n",
    "a_p_top10 = a_p_df.iloc[:10, :]\n",
    "\n",
    "c_p_top10[\"features\"].to_list()\n",
    "a_c_top10[\"features\"].to_list()\n",
    "a_p_top10[\"features\"].to_list()\n",
    "dict_of_top_all = {}\n",
    "dict_of_top_all[\"control_pyroptosis\"] = c_p_top10[\"features\"].to_list()\n",
    "dict_of_top_all[\"apoptosis_control\"] = a_c_top10[\"features\"].to_list()\n",
    "dict_of_top_all[\"apoptosis_pyroptosis\"] = a_p_top10[\"features\"].to_list()"
   ]
  },
  {
   "cell_type": "code",
   "execution_count": 12,
   "metadata": {},
   "outputs": [
    {
     "name": "stderr",
     "output_type": "stream",
     "text": [
      "100%|██████████| 3/3 [01:15<00:00, 25.28s/it]\n"
     ]
    }
   ],
   "source": [
    "group_dict = {}\n",
    "final_dict = {}\n",
    "\n",
    "for i in tqdm(dict_of_top_all):\n",
    "    for feature in dict_of_top_all[i]:\n",
    "        for df in [control_df, apoptosis_df, pyroptosis_df]:\n",
    "            df = df.sort_values(by=feature, ascending=False, inplace=False)\n",
    "            df.reset_index(inplace=True, drop=True)\n",
    "            df = df.iloc[0, :]\n",
    "            group_dict[feature] = df\n",
    "    final_dict[i] = group_dict"
   ]
  },
  {
   "cell_type": "code",
   "execution_count": null,
   "metadata": {},
   "outputs": [],
   "source": []
  },
  {
   "cell_type": "markdown",
   "metadata": {},
   "source": [
    "## Get the images"
   ]
  },
  {
   "cell_type": "code",
   "execution_count": 13,
   "metadata": {},
   "outputs": [],
   "source": [
    "# define a dictionary for coding the wells and FOVs correctly\n",
    "well_dict = {\n",
    "    \"A\": \"01\",\n",
    "    \"B\": \"02\",\n",
    "    \"C\": \"03\",\n",
    "    \"D\": \"04\",\n",
    "    \"E\": \"05\",\n",
    "    \"F\": \"06\",\n",
    "    \"G\": \"07\",\n",
    "    \"H\": \"08\",\n",
    "    \"I\": \"09\",\n",
    "    \"J\": \"10\",\n",
    "    \"K\": \"11\",\n",
    "    \"L\": \"12\",\n",
    "    \"M\": \"13\",\n",
    "    \"N\": \"14\",\n",
    "    \"O\": \"15\",\n",
    "    \"P\": \"16\",\n",
    "}\n",
    "column_dict = {\n",
    "    \"1\": \"01\",\n",
    "    \"2\": \"02\",\n",
    "    \"3\": \"03\",\n",
    "    \"4\": \"04\",\n",
    "    \"5\": \"05\",\n",
    "    \"6\": \"06\",\n",
    "    \"7\": \"07\",\n",
    "    \"8\": \"08\",\n",
    "    \"9\": \"09\",\n",
    "    \"10\": \"10\",\n",
    "    \"11\": \"11\",\n",
    "    \"12\": \"12\",\n",
    "    \"13\": \"13\",\n",
    "    \"14\": \"14\",\n",
    "    \"15\": \"15\",\n",
    "    \"16\": \"16\",\n",
    "    \"17\": \"17\",\n",
    "    \"18\": \"18\",\n",
    "    \"19\": \"19\",\n",
    "    \"20\": \"20\",\n",
    "    \"21\": \"21\",\n",
    "    \"22\": \"22\",\n",
    "    \"23\": \"23\",\n",
    "    \"24\": \"24\",\n",
    "}\n",
    "fov_dict = {\n",
    "    \"1\": \"01\",\n",
    "    \"2\": \"02\",\n",
    "    \"3\": \"03\",\n",
    "    \"4\": \"04\",\n",
    "    \"5\": \"05\",\n",
    "    \"6\": \"06\",\n",
    "    \"7\": \"07\",\n",
    "    \"8\": \"08\",\n",
    "    \"9\": \"09\",\n",
    "    \"10\": \"10\",\n",
    "    \"11\": \"11\",\n",
    "    \"12\": \"12\",\n",
    "    \"13\": \"13\",\n",
    "    \"14\": \"14\",\n",
    "    \"15\": \"15\",\n",
    "    \"16\": \"16\",\n",
    "}"
   ]
  },
  {
   "cell_type": "code",
   "execution_count": 14,
   "metadata": {},
   "outputs": [],
   "source": [
    "image_basename_1 = \"p04-ch1sk1fk1fl1_IC.tiff\"\n",
    "image_basename_2 = \"p04-ch2sk1fk1fl1_IC.tiff\"\n",
    "image_basename_3 = \"p04-ch3sk1fk1fl1_IC.tiff\"\n",
    "image_basename_4 = \"p04-ch4sk1fk1fl1_IC.tiff\"\n",
    "image_basename_5 = \"p04-ch5sk1fk1fl1_IC.tiff\""
   ]
  },
  {
   "cell_type": "code",
   "execution_count": 15,
   "metadata": {},
   "outputs": [],
   "source": [
    "# set constants for the loop\n",
    "radius = 50\n",
    "# define the number of cells to select\n",
    "n = 5"
   ]
  },
  {
   "cell_type": "code",
   "execution_count": 16,
   "metadata": {},
   "outputs": [],
   "source": [
    "# define an empty df\n",
    "main_df = apoptosis_df.drop(apoptosis_df.index)"
   ]
  },
  {
   "cell_type": "code",
   "execution_count": 17,
   "metadata": {},
   "outputs": [
    {
     "name": "stdout",
     "output_type": "stream",
     "text": [
      "control_pyroptosis\n"
     ]
    },
    {
     "ename": "KeyError",
     "evalue": "'Metadata_Nuclei_Location_Center_X'",
     "output_type": "error",
     "traceback": [
      "\u001b[0;31m---------------------------------------------------------------------------\u001b[0m",
      "\u001b[0;31mKeyError\u001b[0m                                  Traceback (most recent call last)",
      "File \u001b[0;32m~/miniconda3/envs/Interstellar/lib/python3.10/site-packages/pandas/core/indexes/base.py:3802\u001b[0m, in \u001b[0;36mIndex.get_loc\u001b[0;34m(self, key, method, tolerance)\u001b[0m\n\u001b[1;32m   3801\u001b[0m \u001b[38;5;28;01mtry\u001b[39;00m:\n\u001b[0;32m-> 3802\u001b[0m     \u001b[38;5;28;01mreturn\u001b[39;00m \u001b[38;5;28;43mself\u001b[39;49m\u001b[38;5;241;43m.\u001b[39;49m\u001b[43m_engine\u001b[49m\u001b[38;5;241;43m.\u001b[39;49m\u001b[43mget_loc\u001b[49m\u001b[43m(\u001b[49m\u001b[43mcasted_key\u001b[49m\u001b[43m)\u001b[49m\n\u001b[1;32m   3803\u001b[0m \u001b[38;5;28;01mexcept\u001b[39;00m \u001b[38;5;167;01mKeyError\u001b[39;00m \u001b[38;5;28;01mas\u001b[39;00m err:\n",
      "File \u001b[0;32m~/miniconda3/envs/Interstellar/lib/python3.10/site-packages/pandas/_libs/index.pyx:138\u001b[0m, in \u001b[0;36mpandas._libs.index.IndexEngine.get_loc\u001b[0;34m()\u001b[0m\n",
      "File \u001b[0;32m~/miniconda3/envs/Interstellar/lib/python3.10/site-packages/pandas/_libs/index.pyx:165\u001b[0m, in \u001b[0;36mpandas._libs.index.IndexEngine.get_loc\u001b[0;34m()\u001b[0m\n",
      "File \u001b[0;32mpandas/_libs/hashtable_class_helper.pxi:5745\u001b[0m, in \u001b[0;36mpandas._libs.hashtable.PyObjectHashTable.get_item\u001b[0;34m()\u001b[0m\n",
      "File \u001b[0;32mpandas/_libs/hashtable_class_helper.pxi:5753\u001b[0m, in \u001b[0;36mpandas._libs.hashtable.PyObjectHashTable.get_item\u001b[0;34m()\u001b[0m\n",
      "\u001b[0;31mKeyError\u001b[0m: 'Metadata_Nuclei_Location_Center_X'",
      "\nThe above exception was the direct cause of the following exception:\n",
      "\u001b[0;31mKeyError\u001b[0m                                  Traceback (most recent call last)",
      "Cell \u001b[0;32mIn[17], line 11\u001b[0m\n\u001b[1;32m      9\u001b[0m row_id \u001b[38;5;241m=\u001b[39m well_id[\u001b[38;5;241m0\u001b[39m]\n\u001b[1;32m     10\u001b[0m column_id \u001b[38;5;241m=\u001b[39m well_id[\u001b[38;5;241m1\u001b[39m:]\n\u001b[0;32m---> 11\u001b[0m center_x \u001b[38;5;241m=\u001b[39m \u001b[43mtmp_df\u001b[49m\u001b[43m[\u001b[49m\u001b[38;5;124;43m\"\u001b[39;49m\u001b[38;5;124;43mMetadata_Nuclei_Location_Center_X\u001b[39;49m\u001b[38;5;124;43m\"\u001b[39;49m\u001b[43m]\u001b[49m\u001b[38;5;241m.\u001b[39mastype(\u001b[38;5;28mint\u001b[39m)\n\u001b[1;32m     12\u001b[0m center_y \u001b[38;5;241m=\u001b[39m tmp_df[\u001b[38;5;124m\"\u001b[39m\u001b[38;5;124mMetadata_Nuclei_Location_Center_Y\u001b[39m\u001b[38;5;124m\"\u001b[39m]\u001b[38;5;241m.\u001b[39mastype(\u001b[38;5;28mint\u001b[39m)\n\u001b[1;32m     13\u001b[0m \u001b[38;5;66;03m# create a custom and contstant bounding box for the images\u001b[39;00m\n\u001b[1;32m     14\u001b[0m \u001b[38;5;66;03m# this is made from the extracted center_x and center_y of the cell (nucleus)\u001b[39;00m\n",
      "File \u001b[0;32m~/miniconda3/envs/Interstellar/lib/python3.10/site-packages/pandas/core/frame.py:3807\u001b[0m, in \u001b[0;36mDataFrame.__getitem__\u001b[0;34m(self, key)\u001b[0m\n\u001b[1;32m   3805\u001b[0m \u001b[38;5;28;01mif\u001b[39;00m \u001b[38;5;28mself\u001b[39m\u001b[38;5;241m.\u001b[39mcolumns\u001b[38;5;241m.\u001b[39mnlevels \u001b[38;5;241m>\u001b[39m \u001b[38;5;241m1\u001b[39m:\n\u001b[1;32m   3806\u001b[0m     \u001b[38;5;28;01mreturn\u001b[39;00m \u001b[38;5;28mself\u001b[39m\u001b[38;5;241m.\u001b[39m_getitem_multilevel(key)\n\u001b[0;32m-> 3807\u001b[0m indexer \u001b[38;5;241m=\u001b[39m \u001b[38;5;28;43mself\u001b[39;49m\u001b[38;5;241;43m.\u001b[39;49m\u001b[43mcolumns\u001b[49m\u001b[38;5;241;43m.\u001b[39;49m\u001b[43mget_loc\u001b[49m\u001b[43m(\u001b[49m\u001b[43mkey\u001b[49m\u001b[43m)\u001b[49m\n\u001b[1;32m   3808\u001b[0m \u001b[38;5;28;01mif\u001b[39;00m is_integer(indexer):\n\u001b[1;32m   3809\u001b[0m     indexer \u001b[38;5;241m=\u001b[39m [indexer]\n",
      "File \u001b[0;32m~/miniconda3/envs/Interstellar/lib/python3.10/site-packages/pandas/core/indexes/base.py:3804\u001b[0m, in \u001b[0;36mIndex.get_loc\u001b[0;34m(self, key, method, tolerance)\u001b[0m\n\u001b[1;32m   3802\u001b[0m     \u001b[38;5;28;01mreturn\u001b[39;00m \u001b[38;5;28mself\u001b[39m\u001b[38;5;241m.\u001b[39m_engine\u001b[38;5;241m.\u001b[39mget_loc(casted_key)\n\u001b[1;32m   3803\u001b[0m \u001b[38;5;28;01mexcept\u001b[39;00m \u001b[38;5;167;01mKeyError\u001b[39;00m \u001b[38;5;28;01mas\u001b[39;00m err:\n\u001b[0;32m-> 3804\u001b[0m     \u001b[38;5;28;01mraise\u001b[39;00m \u001b[38;5;167;01mKeyError\u001b[39;00m(key) \u001b[38;5;28;01mfrom\u001b[39;00m \u001b[38;5;21;01merr\u001b[39;00m\n\u001b[1;32m   3805\u001b[0m \u001b[38;5;28;01mexcept\u001b[39;00m \u001b[38;5;167;01mTypeError\u001b[39;00m:\n\u001b[1;32m   3806\u001b[0m     \u001b[38;5;66;03m# If we have a listlike key, _check_indexing_error will raise\u001b[39;00m\n\u001b[1;32m   3807\u001b[0m     \u001b[38;5;66;03m#  InvalidIndexError. Otherwise we fall through and re-raise\u001b[39;00m\n\u001b[1;32m   3808\u001b[0m     \u001b[38;5;66;03m#  the TypeError.\u001b[39;00m\n\u001b[1;32m   3809\u001b[0m     \u001b[38;5;28mself\u001b[39m\u001b[38;5;241m.\u001b[39m_check_indexing_error(key)\n",
      "\u001b[0;31mKeyError\u001b[0m: 'Metadata_Nuclei_Location_Center_X'"
     ]
    }
   ],
   "source": [
    "for group in final_dict:\n",
    "    print(group)\n",
    "    for df in final_dict[group]:\n",
    "        tmp_df = pd.DataFrame(final_dict[group][df]).T\n",
    "        image_id = tmp_df[\"Metadata_ImageNumber\"].astype(int).astype(str)\n",
    "        fov_id = tmp_df[\"Metadata_Site\"].astype(int).astype(str)\n",
    "        cell_id = tmp_df[\"Metadata_Cells_Number_Object_Number\"]\n",
    "        well_id = tmp_df[\"Metadata_Well\"]\n",
    "        row_id = well_id[0]\n",
    "        column_id = well_id[1:]\n",
    "        center_x = tmp_df[\"Metadata_Nuclei_Location_Center_X\"].astype(int)\n",
    "        center_y = tmp_df[\"Metadata_Nuclei_Location_Center_Y\"].astype(int)\n",
    "        # create a custom and contstant bounding box for the images\n",
    "        # this is made from the extracted center_x and center_y of the cell (nucleus)\n",
    "        min_x_box = center_x - radius\n",
    "        max_x_box = center_x + radius\n",
    "        min_y_box = center_y - radius\n",
    "        max_y_box = center_y + radius\n",
    "\n",
    "print(center_x, center_y)"
   ]
  },
  {
   "cell_type": "code",
   "execution_count": null,
   "metadata": {},
   "outputs": [],
   "source": [
    "tmp_df"
   ]
  },
  {
   "cell_type": "code",
   "execution_count": null,
   "metadata": {},
   "outputs": [],
   "source": []
  }
 ],
 "metadata": {
  "kernelspec": {
   "display_name": "Interstellar",
   "language": "python",
   "name": "python3"
  },
  "language_info": {
   "codemirror_mode": {
    "name": "ipython",
    "version": 3
   },
   "file_extension": ".py",
   "mimetype": "text/x-python",
   "name": "python",
   "nbconvert_exporter": "python",
   "pygments_lexer": "ipython3",
   "version": "3.10.12"
  }
 },
 "nbformat": 4,
 "nbformat_minor": 2
}
