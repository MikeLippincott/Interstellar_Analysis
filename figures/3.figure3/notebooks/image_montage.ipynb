{
 "cells": [
  {
   "cell_type": "code",
   "execution_count": 1,
   "metadata": {},
   "outputs": [],
   "source": [
    "import pathlib\n",
    "\n",
    "import cv2\n",
    "import matplotlib.pyplot as plt\n",
    "import numpy as np\n",
    "import pandas as pd\n",
    "import seaborn as sns\n",
    "import tifffile as tf  # write tiff files\n",
    "from cytocherrypick.calculations import find_median\n",
    "from PIL import Image  # read tiff files\n",
    "from tqdm import tqdm  # progress bar"
   ]
  },
  {
   "cell_type": "code",
   "execution_count": 2,
   "metadata": {},
   "outputs": [],
   "source": [
    "CELL_TYPE = \"SHSY5Y\""
   ]
  },
  {
   "cell_type": "code",
   "execution_count": 3,
   "metadata": {},
   "outputs": [],
   "source": [
    "agg_cell_path = pathlib.Path(f\"../../../data/{CELL_TYPE}_preprocessed_sc_norm.parquet\")\n",
    "agg_cell_df = pd.read_parquet(agg_cell_path)"
   ]
  },
  {
   "cell_type": "code",
   "execution_count": 4,
   "metadata": {},
   "outputs": [
    {
     "data": {
      "text/plain": [
       "PosixPath('/home/lippincm/Documents/ML/Interstellar_Analysis')"
      ]
     },
     "execution_count": 4,
     "metadata": {},
     "output_type": "execute_result"
    }
   ],
   "source": [
    "# Get the current working directory of the repository\n",
    "cwd = pathlib.Path.cwd()\n",
    "\n",
    "if (cwd / \".git\").is_dir():\n",
    "    root_dir = cwd\n",
    "\n",
    "else:\n",
    "    root_dir = None\n",
    "    for parent in cwd.parents:\n",
    "        if (parent / \".git\").is_dir():\n",
    "            root_dir = parent\n",
    "            break\n",
    "\n",
    "# Check if a Git root directory was found\n",
    "if root_dir is None:\n",
    "    raise FileNotFoundError(\"No Git root directory found.\")\n",
    "root_dir"
   ]
  },
  {
   "cell_type": "code",
   "execution_count": 5,
   "metadata": {},
   "outputs": [],
   "source": [
    "image_out_dir_path = pathlib.Path(f\"{root_dir}/8.cytopick_analysis/figures/PBMC/\")\n",
    "\n",
    "\n",
    "# if path does not exist, create it\n",
    "image_out_dir_path.mkdir(parents=True, exist_ok=True)"
   ]
  },
  {
   "cell_type": "code",
   "execution_count": 6,
   "metadata": {},
   "outputs": [],
   "source": [
    "# define directories\n",
    "# where the images are on a local machine\n",
    "# this is a hard coded path to the 1TB image directory\n",
    "\n",
    "#####\n",
    "# THIS PATH NEEDS TO BE CHANGED TO THE LOCAL IMAGE DIRECTORY ON YOUR MACHINE\n",
    "#####\n",
    "\n",
    "image_dir_path = pathlib.Path(\n",
    "    \"/media/lippincm/18T/interstellar_data/70117_20230210MM1_Gasdermin514_CP_BC430856__2023-03-22T15_42_38-Measurement1/2.IC/\"\n",
    ").resolve(strict=True)"
   ]
  },
  {
   "cell_type": "code",
   "execution_count": 7,
   "metadata": {},
   "outputs": [],
   "source": [
    "# path\n",
    "anova_path = pathlib.Path(\n",
    "    f\"../../../1.Exploratory_Data_Analysis/results/PBMC_combined.parquet\"\n",
    ")\n",
    "# read in the anova results\n",
    "anova_results = pd.read_parquet(anova_path)"
   ]
  },
  {
   "cell_type": "code",
   "execution_count": 8,
   "metadata": {},
   "outputs": [
    {
     "name": "stdout",
     "output_type": "stream",
     "text": [
      "(3735, 11)\n",
      "(2415, 11)\n"
     ]
    },
    {
     "name": "stderr",
     "output_type": "stream",
     "text": [
      "/home/lippincm/miniconda3/envs/Interstellar/lib/python3.10/site-packages/pandas/core/arraylike.py:402: RuntimeWarning: divide by zero encountered in log10\n",
      "  result = getattr(ufunc, method)(*inputs, **kwargs)\n"
     ]
    }
   ],
   "source": [
    "# create a column that adds group1 and group2 together\n",
    "anova_results[\"group\"] = anova_results[\"group1\"] + \"_\" + anova_results[\"group2\"]\n",
    "print(anova_results.shape)\n",
    "\n",
    "# filter out rows that have p-adj_abs > 0.05\n",
    "anova_results = anova_results[anova_results[\"p-adj_abs\"] < 0.05]\n",
    "print(anova_results.shape)\n",
    "\n",
    "# change the group names to replace healthy with control\n",
    "anova_results[\"group\"] = anova_results[\"group\"].str.replace(\"healthy\", \"control\")\n",
    "# make a -log10(p-adj) column\n",
    "anova_results[\"neg-log10(p-adj_abs)\"] = -np.log10(anova_results[\"p-adj_abs\"])\n",
    "# sort by neg-log10(p-adj_abs)\n",
    "anova_results = anova_results.sort_values(by=\"neg-log10(p-adj_abs)\", ascending=False)\n",
    "# split the dfs into comparisons\n",
    "c_p_df = anova_results[anova_results[\"group\"] == \"control_pyroptosis\"]\n",
    "a_c_df = anova_results[anova_results[\"group\"] == \"apoptosis_control\"]\n",
    "a_p_df = anova_results[anova_results[\"group\"] == \"apoptosis_pyroptosis\"]\n",
    "# sort by neg-log10(p-adj_abs)\n",
    "c_p_df = c_p_df.sort_values(by=\"neg-log10(p-adj_abs)\", ascending=False)\n",
    "a_c_df = a_c_df.sort_values(by=\"neg-log10(p-adj_abs)\", ascending=False)\n",
    "a_p_df = a_p_df.sort_values(by=\"neg-log10(p-adj_abs)\", ascending=False)"
   ]
  },
  {
   "cell_type": "code",
   "execution_count": 9,
   "metadata": {},
   "outputs": [
    {
     "data": {
      "text/plain": [
       "['Cytoplasm_RadialDistribution_ZernikePhase_CorrGasdermin_9_1',\n",
       " 'Cells_RadialDistribution_ZernikePhase_CorrMito_7_1',\n",
       " 'Nuclei_RadialDistribution_ZernikePhase_CorrPM_7_1',\n",
       " 'Cells_Intensity_IntegratedIntensityEdge_CorrER',\n",
       " 'Cytoplasm_RadialDistribution_ZernikePhase_CorrGasdermin_6_4',\n",
       " 'Cytoplasm_RadialDistribution_ZernikePhase_CorrMito_8_4',\n",
       " 'Nuclei_RadialDistribution_ZernikePhase_CorrPM_1_1',\n",
       " 'Cells_RadialDistribution_FracAtD_CorrPM_1of4',\n",
       " 'Cytoplasm_Texture_AngularSecondMoment_CorrPM_3_02_256',\n",
       " 'Cytoplasm_AreaShape_Zernike_8_2']"
      ]
     },
     "execution_count": 9,
     "metadata": {},
     "output_type": "execute_result"
    }
   ],
   "source": [
    "# get the top 10 features for each comparison\n",
    "c_p_top10 = c_p_df.iloc[:10, :]\n",
    "a_c_top10 = a_c_df.iloc[:10, :]\n",
    "a_p_top10 = a_p_df.iloc[:10, :]\n",
    "\n",
    "c_p_top10[\"features\"].to_list()\n",
    "a_c_top10[\"features\"].to_list()\n",
    "a_p_top10[\"features\"].to_list()"
   ]
  }
 ],
 "metadata": {
  "kernelspec": {
   "display_name": "Interstellar",
   "language": "python",
   "name": "python3"
  },
  "language_info": {
   "codemirror_mode": {
    "name": "ipython",
    "version": 3
   },
   "file_extension": ".py",
   "mimetype": "text/x-python",
   "name": "python",
   "nbconvert_exporter": "python",
   "pygments_lexer": "ipython3",
   "version": "3.10.12"
  }
 },
 "nbformat": 4,
 "nbformat_minor": 2
}
