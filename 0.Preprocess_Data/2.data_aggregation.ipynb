{
 "cells": [
  {
   "cell_type": "code",
   "execution_count": 1,
   "id": "245d2e40",
   "metadata": {
    "execution": {
     "iopub.execute_input": "2023-09-13T21:05:26.933580Z",
     "iopub.status.busy": "2023-09-13T21:05:26.933453Z",
     "iopub.status.idle": "2023-09-13T21:05:26.937191Z",
     "shell.execute_reply": "2023-09-13T21:05:26.936945Z"
    },
    "papermill": {
     "duration": 0.007937,
     "end_time": "2023-09-13T21:05:26.938116",
     "exception": false,
     "start_time": "2023-09-13T21:05:26.930179",
     "status": "completed"
    },
    "tags": [
     "injected-parameters"
    ]
   },
   "outputs": [],
   "source": [
    "# Parameters\n",
    "celltype = \"SHSY5Y\""
   ]
  },
  {
   "cell_type": "code",
   "execution_count": 2,
   "id": "3ebfd6b0",
   "metadata": {
    "execution": {
     "iopub.execute_input": "2023-09-13T21:05:26.941054Z",
     "iopub.status.busy": "2023-09-13T21:05:26.940787Z",
     "iopub.status.idle": "2023-09-13T21:05:27.116886Z",
     "shell.execute_reply": "2023-09-13T21:05:27.116552Z"
    },
    "papermill": {
     "duration": 0.178297,
     "end_time": "2023-09-13T21:05:27.117989",
     "exception": false,
     "start_time": "2023-09-13T21:05:26.939692",
     "status": "completed"
    },
    "tags": []
   },
   "outputs": [],
   "source": [
    "import pathlib\n",
    "\n",
    "import numpy as np\n",
    "import pandas as pd"
   ]
  },
  {
   "cell_type": "code",
   "execution_count": 3,
   "id": "27aaed96",
   "metadata": {
    "execution": {
     "iopub.execute_input": "2023-09-13T21:05:27.120819Z",
     "iopub.status.busy": "2023-09-13T21:05:27.120540Z",
     "iopub.status.idle": "2023-09-13T21:05:27.122636Z",
     "shell.execute_reply": "2023-09-13T21:05:27.122405Z"
    },
    "papermill": {
     "duration": 0.004024,
     "end_time": "2023-09-13T21:05:27.123195",
     "exception": false,
     "start_time": "2023-09-13T21:05:27.119171",
     "status": "completed"
    },
    "tags": []
   },
   "outputs": [],
   "source": [
    "cell_type = \"SHSY5Y\""
   ]
  },
  {
   "cell_type": "code",
   "execution_count": 4,
   "id": "3b012b42",
   "metadata": {
    "execution": {
     "iopub.execute_input": "2023-09-13T21:05:27.125436Z",
     "iopub.status.busy": "2023-09-13T21:05:27.125206Z",
     "iopub.status.idle": "2023-09-13T21:05:27.126868Z",
     "shell.execute_reply": "2023-09-13T21:05:27.126644Z"
    },
    "papermill": {
     "duration": 0.003464,
     "end_time": "2023-09-13T21:05:27.127453",
     "exception": false,
     "start_time": "2023-09-13T21:05:27.123989",
     "status": "completed"
    },
    "tags": []
   },
   "outputs": [],
   "source": [
    "# Parameters\n",
    "aggregation = True\n",
    "nomic = True"
   ]
  },
  {
   "cell_type": "code",
   "execution_count": 5,
   "id": "ba5278c5",
   "metadata": {
    "execution": {
     "iopub.execute_input": "2023-09-13T21:05:27.129694Z",
     "iopub.status.busy": "2023-09-13T21:05:27.129417Z",
     "iopub.status.idle": "2023-09-13T21:05:48.101545Z",
     "shell.execute_reply": "2023-09-13T21:05:48.101228Z"
    },
    "papermill": {
     "duration": 20.974253,
     "end_time": "2023-09-13T21:05:48.102515",
     "exception": false,
     "start_time": "2023-09-13T21:05:27.128262",
     "status": "completed"
    },
    "tags": []
   },
   "outputs": [],
   "source": [
    "path = pathlib.Path(f\"../data/{cell_type}_preprocessed_sc_norm.parquet\")\n",
    "\n",
    "data_df = pd.read_parquet(path)\n",
    "\n",
    "data_df.head()\n",
    "\n",
    "if nomic == True:\n",
    "    # import nomic data\n",
    "    nomic_df_path = pathlib.Path(\n",
    "        f\"../2.Nomic_nELISA_Analysis/Data/clean/Plate2/nELISA_plate_430420_{cell_type}_cleanup4correlation.csv\"\n",
    "    )\n",
    "    df_nomic = pd.read_csv(nomic_df_path)\n",
    "\n",
    "    # drop columns that contain [pgML]\n",
    "    df_nomic = df_nomic.drop(\n",
    "        columns=[col for col in df_nomic.columns if \"[pgML]\" in col]\n",
    "    )\n",
    "    # drop first 25 columns\n",
    "    # df_nomic = df_nomic.drop(columns=df_nomic.columns[3:25])\n",
    "    # df_nomic = df_nomic.drop(columns=df_nomic.columns[0:2])\n",
    "else:\n",
    "    df_nomic = None"
   ]
  },
  {
   "cell_type": "code",
   "execution_count": 6,
   "id": "073ab83f",
   "metadata": {
    "execution": {
     "iopub.execute_input": "2023-09-13T21:05:48.105233Z",
     "iopub.status.busy": "2023-09-13T21:05:48.105019Z"
    },
    "papermill": {
     "duration": 0.096296,
     "end_time": "2023-09-13T21:05:48.199934",
     "exception": false,
     "start_time": "2023-09-13T21:05:48.103638",
     "status": "completed"
    },
    "tags": []
   },
   "outputs": [],
   "source": [
    "# subset each column that contains metadata\n",
    "metadata = data_df.filter(regex=\"Metadata\")\n",
    "\n",
    "# get all columns that are not metadata except for metadata_Well\n",
    "data = data_df.drop(metadata.columns, axis=1)\n",
    "\n",
    "# get the metadata_Well column\n",
    "metadata_well = metadata[\n",
    "    [\"Metadata_Well\", \"oneb_Metadata_Treatment_Dose_Inhibitor_Dose\"]\n",
    "]\n",
    "\n",
    "data_df = pd.merge(data, metadata_well, left_index=True, right_index=True)"
   ]
  },
  {
   "cell_type": "code",
   "execution_count": null,
   "id": "510c7356",
   "metadata": {
    "papermill": {
     "duration": null,
     "end_time": null,
     "exception": null,
     "start_time": null,
     "status": "completed"
    },
    "tags": []
   },
   "outputs": [],
   "source": [
    "if (aggregation == True) and (nomic == True):\n",
    "\n",
    "    # subset each column that contains metadata\n",
    "    metadata = data_df.filter(regex=\"Metadata\")\n",
    "    data_df = data_df.drop(metadata.columns, axis=1)\n",
    "    data_df = pd.concat([data_df, metadata[\"Metadata_Well\"]], axis=1)\n",
    "    # groupby well and take mean of each well\n",
    "    data_df = data_df.groupby(\"Metadata_Well\").mean()\n",
    "    # drop duplicate rows in the metadata_well column\n",
    "    metadata = metadata.drop_duplicates(subset=[\"Metadata_Well\"])\n",
    "    # get the metadata for each well\n",
    "    data_df = pd.merge(\n",
    "        data_df, metadata, left_on=\"Metadata_Well\", right_on=\"Metadata_Well\"\n",
    "    )\n",
    "    data_df = pd.merge(\n",
    "        data_df,\n",
    "        df_nomic,\n",
    "        left_on=[\"Metadata_Well\", \"oneb_Metadata_Treatment_Dose_Inhibitor_Dose\"],\n",
    "        right_on=[\"Metadata_position_x\", \"oneb_Metadata_Treatment_Dose_Inhibitor_Dose\"],\n",
    "    )\n",
    "    data_df = data_df.drop(columns=[\"Metadata_position_x\"])\n",
    "    # drop all metadata columns\n",
    "    labeled_data = data_df[\"oneb_Metadata_Treatment_Dose_Inhibitor_Dose\"]\n",
    "    data_x = data_df.drop(metadata.columns, axis=1)\n",
    "\n",
    "elif (aggregation == True) and (nomic == False):\n",
    "    # subset each column that contains metadata\n",
    "    metadata = data.filter(regex=\"Metadata\")\n",
    "    data_df = data_df.drop(metadata.columns, axis=1)\n",
    "    data_df = pd.concat([data_df, metadata[\"Metadata_Well\"]], axis=1)\n",
    "    # groupby well and take mean of each well\n",
    "    data_df = data_df.groupby(\"Metadata_Well\").mean()\n",
    "    # drop duplicate rows in the metadata_well column\n",
    "    metadata = metadata.drop_duplicates(subset=[\"Metadata_Well\"])\n",
    "    # get the metadata for each well\n",
    "    data_df = pd.merge(\n",
    "        data_df,\n",
    "        df_nomic,\n",
    "        left_on=[\"Metadata_Well\", \"oneb_Metadata_Treatment_Dose_Inhibitor_Dose\"],\n",
    "        right_on=[\"Metadata_position_x\", \"oneb_Metadata_Treatment_Dose_Inhibitor_Dose\"],\n",
    "    )\n",
    "elif (aggregation == False) and (nomic == True):\n",
    "    data_df = pd.merge(\n",
    "        data_df,\n",
    "        df_nomic,\n",
    "        left_on=[\"Metadata_Well\", \"oneb_Metadata_Treatment_Dose_Inhibitor_Dose\"],\n",
    "        right_on=[\"Metadata_position_x\", \"oneb_Metadata_Treatment_Dose_Inhibitor_Dose\"],\n",
    "    )\n",
    "    data_df = data_df.drop(columns=[\"Metadata_position_x\"])\n",
    "elif aggregation == False and nomic == False:\n",
    "    pass\n",
    "else:\n",
    "    print(\"Error\")"
   ]
  },
  {
   "cell_type": "code",
   "execution_count": null,
   "id": "8977efc6",
   "metadata": {
    "papermill": {
     "duration": null,
     "end_time": null,
     "exception": null,
     "start_time": null,
     "status": "completed"
    },
    "tags": []
   },
   "outputs": [],
   "source": [
    "# set path to save the data\n",
    "aggregated_data_path = pathlib.Path(\n",
    "    f\"../data/{cell_type}_preprocessed_sc_norm_aggregated.parquet\"\n",
    ")\n",
    "# save the data\n",
    "data_df.to_parquet(aggregated_data_path)"
   ]
  }
 ],
 "metadata": {
  "kernelspec": {
   "display_name": "Interstellar",
   "language": "python",
   "name": "python3"
  },
  "language_info": {
   "codemirror_mode": {
    "name": "ipython",
    "version": 3
   },
   "file_extension": ".py",
   "mimetype": "text/x-python",
   "name": "python",
   "nbconvert_exporter": "python",
   "pygments_lexer": "ipython3",
   "version": "3.10.12"
  },
  "papermill": {
   "default_parameters": {},
   "duration": 22.724779,
   "end_time": "2023-09-13T21:05:48.965688",
   "environment_variables": {},
   "exception": null,
   "input_path": "2.data_aggregation.ipynb",
   "output_path": "2.data_aggregation.ipynb",
   "parameters": {
    "celltype": "SHSY5Y"
   },
   "start_time": "2023-09-13T21:05:26.240909",
   "version": "2.4.0"
  }
 },
 "nbformat": 4,
 "nbformat_minor": 5
}