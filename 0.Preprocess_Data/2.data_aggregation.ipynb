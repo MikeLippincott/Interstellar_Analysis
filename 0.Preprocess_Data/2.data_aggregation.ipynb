{
 "cells": [
  {
   "cell_type": "code",
   "execution_count": 1,
   "id": "a0fd24fa",
   "metadata": {
    "execution": {
     "iopub.execute_input": "2023-09-13T21:15:46.415608Z",
     "iopub.status.busy": "2023-09-13T21:15:46.415207Z",
     "iopub.status.idle": "2023-09-13T21:15:46.420539Z",
     "shell.execute_reply": "2023-09-13T21:15:46.420072Z"
    },
    "papermill": {
     "duration": 0.01067,
     "end_time": "2023-09-13T21:15:46.421479",
     "exception": false,
     "start_time": "2023-09-13T21:15:46.410809",
     "status": "completed"
    },
    "tags": [
     "injected-parameters"
    ]
   },
   "outputs": [],
   "source": [
    "# Parameters\n",
    "celltype = \"PBMC\""
   ]
  },
  {
   "cell_type": "code",
   "execution_count": 2,
   "id": "3ebfd6b0",
   "metadata": {
    "execution": {
     "iopub.execute_input": "2023-09-13T21:15:46.425856Z",
     "iopub.status.busy": "2023-09-13T21:15:46.425489Z",
     "iopub.status.idle": "2023-09-13T21:15:46.867327Z",
     "shell.execute_reply": "2023-09-13T21:15:46.866827Z"
    },
    "papermill": {
     "duration": 0.445213,
     "end_time": "2023-09-13T21:15:46.868539",
     "exception": false,
     "start_time": "2023-09-13T21:15:46.423326",
     "status": "completed"
    },
    "tags": []
   },
   "outputs": [],
   "source": [
    "import pathlib\n",
    "\n",
    "import numpy as np\n",
    "import pandas as pd"
   ]
  },
  {
   "cell_type": "code",
   "execution_count": 3,
   "id": "27aaed96",
   "metadata": {
    "execution": {
     "iopub.execute_input": "2023-09-13T21:15:46.872619Z",
     "iopub.status.busy": "2023-09-13T21:15:46.872201Z",
     "iopub.status.idle": "2023-09-13T21:15:46.874649Z",
     "shell.execute_reply": "2023-09-13T21:15:46.874268Z"
    },
    "papermill": {
     "duration": 0.005415,
     "end_time": "2023-09-13T21:15:46.875596",
     "exception": false,
     "start_time": "2023-09-13T21:15:46.870181",
     "status": "completed"
    },
    "tags": []
   },
   "outputs": [],
   "source": [
    "cell_type = \"SHSY5Y\""
   ]
  },
  {
   "cell_type": "code",
   "execution_count": 4,
   "id": "3b012b42",
   "metadata": {
    "execution": {
     "iopub.execute_input": "2023-09-13T21:15:46.879328Z",
     "iopub.status.busy": "2023-09-13T21:15:46.878972Z",
     "iopub.status.idle": "2023-09-13T21:15:46.881183Z",
     "shell.execute_reply": "2023-09-13T21:15:46.880814Z"
    },
    "papermill": {
     "duration": 0.005019,
     "end_time": "2023-09-13T21:15:46.882078",
     "exception": false,
     "start_time": "2023-09-13T21:15:46.877059",
     "status": "completed"
    },
    "tags": []
   },
   "outputs": [],
   "source": [
    "# Parameters\n",
    "aggregation = True\n",
    "nomic = True"
   ]
  },
  {
   "cell_type": "code",
   "execution_count": 5,
   "id": "ba5278c5",
   "metadata": {
    "execution": {
     "iopub.execute_input": "2023-09-13T21:15:46.885784Z",
     "iopub.status.busy": "2023-09-13T21:15:46.885425Z",
     "iopub.status.idle": "2023-09-13T21:15:53.370230Z",
     "shell.execute_reply": "2023-09-13T21:15:53.369720Z"
    },
    "papermill": {
     "duration": 6.488282,
     "end_time": "2023-09-13T21:15:53.371770",
     "exception": false,
     "start_time": "2023-09-13T21:15:46.883488",
     "status": "completed"
    },
    "tags": []
   },
   "outputs": [],
   "source": [
    "path = pathlib.Path(f\"../data/{cell_type}_preprocessed_sc_norm.parquet\")\n",
    "\n",
    "data_df = pd.read_parquet(path)\n",
    "\n",
    "data_df.head()\n",
    "\n",
    "if nomic == True:\n",
    "    # import nomic data\n",
    "    nomic_df_path = pathlib.Path(\n",
    "        f\"../2.Nomic_nELISA_Analysis/Data/clean/Plate2/nELISA_plate_430420_{cell_type}_cleanup4correlation.csv\"\n",
    "    )\n",
    "    df_nomic = pd.read_csv(nomic_df_path)\n",
    "\n",
    "    # drop columns that contain [pgML]\n",
    "    df_nomic = df_nomic.drop(\n",
    "        columns=[col for col in df_nomic.columns if \"[pgML]\" in col]\n",
    "    )\n",
    "    # drop first 25 columns\n",
    "    # df_nomic = df_nomic.drop(columns=df_nomic.columns[3:25])\n",
    "    # df_nomic = df_nomic.drop(columns=df_nomic.columns[0:2])\n",
    "else:\n",
    "    df_nomic = None"
   ]
  },
  {
   "cell_type": "code",
   "execution_count": 6,
   "id": "073ab83f",
   "metadata": {
    "execution": {
     "iopub.execute_input": "2023-09-13T21:15:53.383645Z",
     "iopub.status.busy": "2023-09-13T21:15:53.383195Z",
     "iopub.status.idle": "2023-09-13T21:15:54.798437Z",
     "shell.execute_reply": "2023-09-13T21:15:54.797924Z"
    },
    "papermill": {
     "duration": 1.418967,
     "end_time": "2023-09-13T21:15:54.799959",
     "exception": false,
     "start_time": "2023-09-13T21:15:53.380992",
     "status": "completed"
    },
    "tags": []
   },
   "outputs": [],
   "source": [
    "# subset each column that contains metadata\n",
    "metadata = data_df.filter(regex=\"Metadata\")\n",
    "\n",
    "# get all columns that are not metadata except for metadata_Well\n",
    "data = data_df.drop(metadata.columns, axis=1)\n",
    "\n",
    "# get the metadata_Well column\n",
    "metadata_well = metadata[\n",
    "    [\"Metadata_Well\", \"oneb_Metadata_Treatment_Dose_Inhibitor_Dose\"]\n",
    "]\n",
    "\n",
    "data_df = pd.merge(data, metadata_well, left_index=True, right_index=True)"
   ]
  },
  {
   "cell_type": "code",
   "execution_count": 7,
   "id": "510c7356",
   "metadata": {
    "execution": {
     "iopub.execute_input": "2023-09-13T21:15:54.804340Z",
     "iopub.status.busy": "2023-09-13T21:15:54.803954Z",
     "iopub.status.idle": "2023-09-13T21:15:58.578994Z",
     "shell.execute_reply": "2023-09-13T21:15:58.578497Z"
    },
    "papermill": {
     "duration": 3.778578,
     "end_time": "2023-09-13T21:15:58.580422",
     "exception": false,
     "start_time": "2023-09-13T21:15:54.801844",
     "status": "completed"
    },
    "tags": []
   },
   "outputs": [],
   "source": [
    "if (aggregation == True) and (nomic == True):\n",
    "\n",
    "    # subset each column that contains metadata\n",
    "    metadata = data_df.filter(regex=\"Metadata\")\n",
    "    data_df = data_df.drop(metadata.columns, axis=1)\n",
    "    data_df = pd.concat([data_df, metadata[\"Metadata_Well\"]], axis=1)\n",
    "    # groupby well and take mean of each well\n",
    "    data_df = data_df.groupby(\"Metadata_Well\").mean()\n",
    "    # drop duplicate rows in the metadata_well column\n",
    "    metadata = metadata.drop_duplicates(subset=[\"Metadata_Well\"])\n",
    "    # get the metadata for each well\n",
    "    data_df = pd.merge(\n",
    "        data_df, metadata, left_on=\"Metadata_Well\", right_on=\"Metadata_Well\"\n",
    "    )\n",
    "    data_df = pd.merge(\n",
    "        data_df,\n",
    "        df_nomic,\n",
    "        left_on=[\"Metadata_Well\", \"oneb_Metadata_Treatment_Dose_Inhibitor_Dose\"],\n",
    "        right_on=[\"Metadata_position_x\", \"oneb_Metadata_Treatment_Dose_Inhibitor_Dose\"],\n",
    "    )\n",
    "    data_df = data_df.drop(columns=[\"Metadata_position_x\"])\n",
    "    # drop all metadata columns\n",
    "    labeled_data = data_df[\"oneb_Metadata_Treatment_Dose_Inhibitor_Dose\"]\n",
    "    data_x = data_df.drop(metadata.columns, axis=1)\n",
    "\n",
    "elif (aggregation == True) and (nomic == False):\n",
    "    # subset each column that contains metadata\n",
    "    metadata = data.filter(regex=\"Metadata\")\n",
    "    data_df = data_df.drop(metadata.columns, axis=1)\n",
    "    data_df = pd.concat([data_df, metadata[\"Metadata_Well\"]], axis=1)\n",
    "    # groupby well and take mean of each well\n",
    "    data_df = data_df.groupby(\"Metadata_Well\").mean()\n",
    "    # drop duplicate rows in the metadata_well column\n",
    "    metadata = metadata.drop_duplicates(subset=[\"Metadata_Well\"])\n",
    "    # get the metadata for each well\n",
    "    data_df = pd.merge(\n",
    "        data_df,\n",
    "        df_nomic,\n",
    "        left_on=[\"Metadata_Well\", \"oneb_Metadata_Treatment_Dose_Inhibitor_Dose\"],\n",
    "        right_on=[\"Metadata_position_x\", \"oneb_Metadata_Treatment_Dose_Inhibitor_Dose\"],\n",
    "    )\n",
    "elif (aggregation == False) and (nomic == True):\n",
    "    data_df = pd.merge(\n",
    "        data_df,\n",
    "        df_nomic,\n",
    "        left_on=[\"Metadata_Well\", \"oneb_Metadata_Treatment_Dose_Inhibitor_Dose\"],\n",
    "        right_on=[\"Metadata_position_x\", \"oneb_Metadata_Treatment_Dose_Inhibitor_Dose\"],\n",
    "    )\n",
    "    data_df = data_df.drop(columns=[\"Metadata_position_x\"])\n",
    "elif aggregation == False and nomic == False:\n",
    "    pass\n",
    "else:\n",
    "    print(\"Error\")"
   ]
  },
  {
   "cell_type": "code",
   "execution_count": 8,
   "id": "8977efc6",
   "metadata": {
    "execution": {
     "iopub.execute_input": "2023-09-13T21:15:58.587326Z",
     "iopub.status.busy": "2023-09-13T21:15:58.586943Z",
     "iopub.status.idle": "2023-09-13T21:15:58.708532Z",
     "shell.execute_reply": "2023-09-13T21:15:58.708054Z"
    },
    "papermill": {
     "duration": 0.124792,
     "end_time": "2023-09-13T21:15:58.709615",
     "exception": false,
     "start_time": "2023-09-13T21:15:58.584823",
     "status": "completed"
    },
    "tags": []
   },
   "outputs": [],
   "source": [
    "# set path to save the data\n",
    "aggregated_data_path = pathlib.Path(\n",
    "    f\"../data/{cell_type}_preprocessed_sc_norm_aggregated.parquet\"\n",
    ")\n",
    "# save the data\n",
    "data_df.to_parquet(aggregated_data_path)"
   ]
  }
 ],
 "metadata": {
  "kernelspec": {
   "display_name": "Interstellar",
   "language": "python",
   "name": "python3"
  },
  "language_info": {
   "codemirror_mode": {
    "name": "ipython",
    "version": 3
   },
   "file_extension": ".py",
   "mimetype": "text/x-python",
   "name": "python",
   "nbconvert_exporter": "python",
   "pygments_lexer": "ipython3",
   "version": "3.10.12"
  },
  "papermill": {
   "default_parameters": {},
   "duration": 14.480243,
   "end_time": "2023-09-13T21:15:58.926440",
   "environment_variables": {},
   "exception": null,
   "input_path": "2.data_aggregation.ipynb",
   "output_path": "2.data_aggregation.ipynb",
   "parameters": {
    "celltype": "PBMC"
   },
   "start_time": "2023-09-13T21:15:44.446197",
   "version": "2.4.0"
  }
 },
 "nbformat": 4,
 "nbformat_minor": 5
}