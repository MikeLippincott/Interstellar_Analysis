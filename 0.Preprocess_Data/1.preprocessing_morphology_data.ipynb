{
 "cells": [
  {
   "cell_type": "markdown",
   "id": "d040972a",
   "metadata": {
    "papermill": {
     "duration": 0.003752,
     "end_time": "2023-10-29T21:53:20.257619",
     "exception": false,
     "start_time": "2023-10-29T21:53:20.253867",
     "status": "completed"
    },
    "tags": []
   },
   "source": [
    "This noteboook pre-processes the single cell morphology data to be ready for exploratory analysis and machine learning."
   ]
  },
  {
   "cell_type": "code",
   "execution_count": 1,
   "id": "1ed18d57",
   "metadata": {
    "execution": {
     "iopub.execute_input": "2023-10-29T21:53:20.264951Z",
     "iopub.status.busy": "2023-10-29T21:53:20.264533Z",
     "iopub.status.idle": "2023-10-29T21:53:21.156358Z",
     "shell.execute_reply": "2023-10-29T21:53:21.155805Z"
    },
    "papermill": {
     "duration": 0.896963,
     "end_time": "2023-10-29T21:53:21.157693",
     "exception": false,
     "start_time": "2023-10-29T21:53:20.260730",
     "status": "completed"
    },
    "tags": []
   },
   "outputs": [],
   "source": [
    "import pathlib\n",
    "\n",
    "import numpy as np\n",
    "import pandas as pd\n",
    "import papermill as pm\n",
    "import pyarrow as pa\n",
    "import pyarrow.parquet as pq"
   ]
  },
  {
   "cell_type": "code",
   "execution_count": 2,
   "id": "4fc0ae26",
   "metadata": {
    "execution": {
     "iopub.execute_input": "2023-10-29T21:53:21.165676Z",
     "iopub.status.busy": "2023-10-29T21:53:21.165389Z",
     "iopub.status.idle": "2023-10-29T21:53:21.168207Z",
     "shell.execute_reply": "2023-10-29T21:53:21.167744Z"
    },
    "papermill": {
     "duration": 0.007356,
     "end_time": "2023-10-29T21:53:21.169156",
     "exception": false,
     "start_time": "2023-10-29T21:53:21.161800",
     "status": "completed"
    },
    "tags": [
     "injected-parameters"
    ]
   },
   "outputs": [],
   "source": [
    "# Parameters\n",
    "cell_type = \"SHSY5Y\""
   ]
  },
  {
   "cell_type": "code",
   "execution_count": 3,
   "id": "7e41be25",
   "metadata": {
    "execution": {
     "iopub.execute_input": "2023-10-29T21:53:21.175900Z",
     "iopub.status.busy": "2023-10-29T21:53:21.175513Z",
     "iopub.status.idle": "2023-10-29T21:53:31.443664Z",
     "shell.execute_reply": "2023-10-29T21:53:31.443145Z"
    },
    "papermill": {
     "duration": 10.273031,
     "end_time": "2023-10-29T21:53:31.445137",
     "exception": false,
     "start_time": "2023-10-29T21:53:21.172106",
     "status": "completed"
    },
    "tags": []
   },
   "outputs": [],
   "source": [
    "# Define inputs\n",
    "feature_file = pathlib.Path(f\"../data/{cell_type}_sc_norm_fs.parquet\")\n",
    "feature_df = pd.read_parquet(feature_file)"
   ]
  },
  {
   "cell_type": "code",
   "execution_count": 4,
   "id": "128e48fe",
   "metadata": {
    "execution": {
     "iopub.execute_input": "2023-10-29T21:53:31.454863Z",
     "iopub.status.busy": "2023-10-29T21:53:31.454499Z",
     "iopub.status.idle": "2023-10-29T21:53:35.562594Z",
     "shell.execute_reply": "2023-10-29T21:53:35.562003Z"
    },
    "papermill": {
     "duration": 4.112981,
     "end_time": "2023-10-29T21:53:35.563858",
     "exception": false,
     "start_time": "2023-10-29T21:53:31.450877",
     "status": "completed"
    },
    "tags": []
   },
   "outputs": [],
   "source": [
    "# replace all \" \" with \"_\" in all values of the dataframe\n",
    "feature_df = feature_df.replace(to_replace=\" \", value=\"_\", regex=True)"
   ]
  },
  {
   "cell_type": "code",
   "execution_count": 5,
   "id": "aa6d40a8",
   "metadata": {
    "execution": {
     "iopub.execute_input": "2023-10-29T21:53:35.573900Z",
     "iopub.status.busy": "2023-10-29T21:53:35.573384Z",
     "iopub.status.idle": "2023-10-29T21:53:35.676692Z",
     "shell.execute_reply": "2023-10-29T21:53:35.676245Z"
    },
    "papermill": {
     "duration": 0.108129,
     "end_time": "2023-10-29T21:53:35.677803",
     "exception": false,
     "start_time": "2023-10-29T21:53:35.569674",
     "status": "completed"
    },
    "tags": []
   },
   "outputs": [],
   "source": [
    "# remove uM in each row of the Metadata_inducer1_concentration column\n",
    "feature_df[\"Metadata_inducer1_concentration\"] = feature_df[\n",
    "    \"Metadata_inducer1_concentration\"\n",
    "].str.replace(\"µM\", \"\")"
   ]
  },
  {
   "cell_type": "code",
   "execution_count": 6,
   "id": "ba5ba736",
   "metadata": {
    "execution": {
     "iopub.execute_input": "2023-10-29T21:53:35.684923Z",
     "iopub.status.busy": "2023-10-29T21:53:35.684529Z",
     "iopub.status.idle": "2023-10-29T21:53:35.704867Z",
     "shell.execute_reply": "2023-10-29T21:53:35.704435Z"
    },
    "papermill": {
     "duration": 0.024989,
     "end_time": "2023-10-29T21:53:35.705816",
     "exception": false,
     "start_time": "2023-10-29T21:53:35.680827",
     "status": "completed"
    },
    "tags": []
   },
   "outputs": [
    {
     "data": {
      "text/plain": [
       "array([None, '0.100', '1.000', '10.000', '5.000', '20.000', '0.010',\n",
       "       '100.000', '2.500'], dtype=object)"
      ]
     },
     "execution_count": 6,
     "metadata": {},
     "output_type": "execute_result"
    }
   ],
   "source": [
    "feature_df[\"Metadata_inducer1_concentration\"].unique()"
   ]
  },
  {
   "cell_type": "code",
   "execution_count": 7,
   "id": "8418a230",
   "metadata": {
    "execution": {
     "iopub.execute_input": "2023-10-29T21:53:35.712901Z",
     "iopub.status.busy": "2023-10-29T21:53:35.712377Z",
     "iopub.status.idle": "2023-10-29T21:53:35.714923Z",
     "shell.execute_reply": "2023-10-29T21:53:35.714492Z"
    },
    "papermill": {
     "duration": 0.007022,
     "end_time": "2023-10-29T21:53:35.715831",
     "exception": false,
     "start_time": "2023-10-29T21:53:35.708809",
     "status": "completed"
    },
    "tags": []
   },
   "outputs": [],
   "source": [
    "# define output file path\n",
    "feature_df_out_path = pathlib.Path(f\"../data/{cell_type}_preprocessed_sc_norm.parquet\")"
   ]
  },
  {
   "cell_type": "code",
   "execution_count": 8,
   "id": "79df4337",
   "metadata": {
    "execution": {
     "iopub.execute_input": "2023-10-29T21:53:35.722746Z",
     "iopub.status.busy": "2023-10-29T21:53:35.722310Z",
     "iopub.status.idle": "2023-10-29T21:53:35.738740Z",
     "shell.execute_reply": "2023-10-29T21:53:35.738300Z"
    },
    "papermill": {
     "duration": 0.020877,
     "end_time": "2023-10-29T21:53:35.739677",
     "exception": false,
     "start_time": "2023-10-29T21:53:35.718800",
     "status": "completed"
    },
    "tags": []
   },
   "outputs": [
    {
     "name": "stdout",
     "output_type": "stream",
     "text": [
      "(597902, 1270)\n"
     ]
    },
    {
     "data": {
      "text/html": [
       "<div>\n",
       "<style scoped>\n",
       "    .dataframe tbody tr th:only-of-type {\n",
       "        vertical-align: middle;\n",
       "    }\n",
       "\n",
       "    .dataframe tbody tr th {\n",
       "        vertical-align: top;\n",
       "    }\n",
       "\n",
       "    .dataframe thead th {\n",
       "        text-align: right;\n",
       "    }\n",
       "</style>\n",
       "<table border=\"1\" class=\"dataframe\">\n",
       "  <thead>\n",
       "    <tr style=\"text-align: right;\">\n",
       "      <th></th>\n",
       "      <th>Metadata_cell_type</th>\n",
       "      <th>Metadata_Well</th>\n",
       "      <th>Metadata_number_of_singlecells</th>\n",
       "      <th>Metadata_incubation inducer (h)</th>\n",
       "      <th>Metadata_inhibitor</th>\n",
       "      <th>Metadata_inhibitor_concentration</th>\n",
       "      <th>Metadata_inhibitor_concentration_unit</th>\n",
       "      <th>Metadata_inducer1</th>\n",
       "      <th>Metadata_inducer1_concentration</th>\n",
       "      <th>Metadata_inducer1_concentration_unit</th>\n",
       "      <th>...</th>\n",
       "      <th>Nuclei_Texture_InverseDifferenceMoment_CorrER_3_01_256</th>\n",
       "      <th>Nuclei_Texture_InverseDifferenceMoment_CorrER_3_02_256</th>\n",
       "      <th>Nuclei_Texture_InverseDifferenceMoment_CorrER_3_03_256</th>\n",
       "      <th>Nuclei_Texture_InverseDifferenceMoment_CorrMito_3_00_256</th>\n",
       "      <th>Nuclei_Texture_InverseDifferenceMoment_CorrPM_3_00_256</th>\n",
       "      <th>Nuclei_Texture_InverseDifferenceMoment_CorrPM_3_02_256</th>\n",
       "      <th>Nuclei_Texture_SumEntropy_CorrPM_3_01_256</th>\n",
       "      <th>Nuclei_Texture_SumVariance_CorrGasdermin_3_01_256</th>\n",
       "      <th>Nuclei_Texture_SumVariance_CorrMito_3_03_256</th>\n",
       "      <th>Nuclei_Texture_SumVariance_CorrPM_3_03_256</th>\n",
       "    </tr>\n",
       "  </thead>\n",
       "  <tbody>\n",
       "    <tr>\n",
       "      <th>0</th>\n",
       "      <td>SH-SY5Y</td>\n",
       "      <td>B13</td>\n",
       "      <td>3765</td>\n",
       "      <td>6</td>\n",
       "      <td>Media_ctr</td>\n",
       "      <td>NaN</td>\n",
       "      <td>None</td>\n",
       "      <td>media_ctr</td>\n",
       "      <td>None</td>\n",
       "      <td>None</td>\n",
       "      <td>...</td>\n",
       "      <td>-1.841853</td>\n",
       "      <td>-0.597438</td>\n",
       "      <td>-1.295016</td>\n",
       "      <td>-3.127056</td>\n",
       "      <td>-3.004511</td>\n",
       "      <td>-1.481117</td>\n",
       "      <td>1.851482</td>\n",
       "      <td>0.024721</td>\n",
       "      <td>0.307472</td>\n",
       "      <td>0.092086</td>\n",
       "    </tr>\n",
       "    <tr>\n",
       "      <th>1</th>\n",
       "      <td>SH-SY5Y</td>\n",
       "      <td>B13</td>\n",
       "      <td>3765</td>\n",
       "      <td>6</td>\n",
       "      <td>Media_ctr</td>\n",
       "      <td>NaN</td>\n",
       "      <td>None</td>\n",
       "      <td>media_ctr</td>\n",
       "      <td>None</td>\n",
       "      <td>None</td>\n",
       "      <td>...</td>\n",
       "      <td>-0.841272</td>\n",
       "      <td>-0.681935</td>\n",
       "      <td>-0.330951</td>\n",
       "      <td>-3.725197</td>\n",
       "      <td>-0.827474</td>\n",
       "      <td>-0.461348</td>\n",
       "      <td>0.897731</td>\n",
       "      <td>-0.041156</td>\n",
       "      <td>1.443262</td>\n",
       "      <td>0.009843</td>\n",
       "    </tr>\n",
       "    <tr>\n",
       "      <th>2</th>\n",
       "      <td>SH-SY5Y</td>\n",
       "      <td>B13</td>\n",
       "      <td>3765</td>\n",
       "      <td>6</td>\n",
       "      <td>Media_ctr</td>\n",
       "      <td>NaN</td>\n",
       "      <td>None</td>\n",
       "      <td>media_ctr</td>\n",
       "      <td>None</td>\n",
       "      <td>None</td>\n",
       "      <td>...</td>\n",
       "      <td>0.500885</td>\n",
       "      <td>-0.229003</td>\n",
       "      <td>-1.254209</td>\n",
       "      <td>-0.691997</td>\n",
       "      <td>-1.374967</td>\n",
       "      <td>-1.337252</td>\n",
       "      <td>0.825970</td>\n",
       "      <td>-0.044386</td>\n",
       "      <td>-0.020445</td>\n",
       "      <td>0.000848</td>\n",
       "    </tr>\n",
       "    <tr>\n",
       "      <th>3</th>\n",
       "      <td>SH-SY5Y</td>\n",
       "      <td>B13</td>\n",
       "      <td>3765</td>\n",
       "      <td>6</td>\n",
       "      <td>Media_ctr</td>\n",
       "      <td>NaN</td>\n",
       "      <td>None</td>\n",
       "      <td>media_ctr</td>\n",
       "      <td>None</td>\n",
       "      <td>None</td>\n",
       "      <td>...</td>\n",
       "      <td>-0.560136</td>\n",
       "      <td>-0.276664</td>\n",
       "      <td>-0.313186</td>\n",
       "      <td>-0.844206</td>\n",
       "      <td>-0.798213</td>\n",
       "      <td>-1.032992</td>\n",
       "      <td>0.546308</td>\n",
       "      <td>-0.058328</td>\n",
       "      <td>-0.009632</td>\n",
       "      <td>-0.005811</td>\n",
       "    </tr>\n",
       "    <tr>\n",
       "      <th>4</th>\n",
       "      <td>SH-SY5Y</td>\n",
       "      <td>B13</td>\n",
       "      <td>3765</td>\n",
       "      <td>6</td>\n",
       "      <td>Media_ctr</td>\n",
       "      <td>NaN</td>\n",
       "      <td>None</td>\n",
       "      <td>media_ctr</td>\n",
       "      <td>None</td>\n",
       "      <td>None</td>\n",
       "      <td>...</td>\n",
       "      <td>-0.828550</td>\n",
       "      <td>-0.761657</td>\n",
       "      <td>-0.309806</td>\n",
       "      <td>-0.501700</td>\n",
       "      <td>-0.616252</td>\n",
       "      <td>-0.681687</td>\n",
       "      <td>1.034724</td>\n",
       "      <td>-0.035518</td>\n",
       "      <td>-0.038205</td>\n",
       "      <td>0.017690</td>\n",
       "    </tr>\n",
       "  </tbody>\n",
       "</table>\n",
       "<p>5 rows × 1270 columns</p>\n",
       "</div>"
      ],
      "text/plain": [
       "  Metadata_cell_type Metadata_Well  Metadata_number_of_singlecells  \\\n",
       "0            SH-SY5Y           B13                            3765   \n",
       "1            SH-SY5Y           B13                            3765   \n",
       "2            SH-SY5Y           B13                            3765   \n",
       "3            SH-SY5Y           B13                            3765   \n",
       "4            SH-SY5Y           B13                            3765   \n",
       "\n",
       "   Metadata_incubation inducer (h) Metadata_inhibitor  \\\n",
       "0                                6          Media_ctr   \n",
       "1                                6          Media_ctr   \n",
       "2                                6          Media_ctr   \n",
       "3                                6          Media_ctr   \n",
       "4                                6          Media_ctr   \n",
       "\n",
       "   Metadata_inhibitor_concentration Metadata_inhibitor_concentration_unit  \\\n",
       "0                               NaN                                  None   \n",
       "1                               NaN                                  None   \n",
       "2                               NaN                                  None   \n",
       "3                               NaN                                  None   \n",
       "4                               NaN                                  None   \n",
       "\n",
       "  Metadata_inducer1 Metadata_inducer1_concentration  \\\n",
       "0         media_ctr                            None   \n",
       "1         media_ctr                            None   \n",
       "2         media_ctr                            None   \n",
       "3         media_ctr                            None   \n",
       "4         media_ctr                            None   \n",
       "\n",
       "  Metadata_inducer1_concentration_unit  ...  \\\n",
       "0                                 None  ...   \n",
       "1                                 None  ...   \n",
       "2                                 None  ...   \n",
       "3                                 None  ...   \n",
       "4                                 None  ...   \n",
       "\n",
       "  Nuclei_Texture_InverseDifferenceMoment_CorrER_3_01_256  \\\n",
       "0                                          -1.841853       \n",
       "1                                          -0.841272       \n",
       "2                                           0.500885       \n",
       "3                                          -0.560136       \n",
       "4                                          -0.828550       \n",
       "\n",
       "   Nuclei_Texture_InverseDifferenceMoment_CorrER_3_02_256  \\\n",
       "0                                          -0.597438        \n",
       "1                                          -0.681935        \n",
       "2                                          -0.229003        \n",
       "3                                          -0.276664        \n",
       "4                                          -0.761657        \n",
       "\n",
       "  Nuclei_Texture_InverseDifferenceMoment_CorrER_3_03_256  \\\n",
       "0                                          -1.295016       \n",
       "1                                          -0.330951       \n",
       "2                                          -1.254209       \n",
       "3                                          -0.313186       \n",
       "4                                          -0.309806       \n",
       "\n",
       "   Nuclei_Texture_InverseDifferenceMoment_CorrMito_3_00_256  \\\n",
       "0                                          -3.127056          \n",
       "1                                          -3.725197          \n",
       "2                                          -0.691997          \n",
       "3                                          -0.844206          \n",
       "4                                          -0.501700          \n",
       "\n",
       "  Nuclei_Texture_InverseDifferenceMoment_CorrPM_3_00_256  \\\n",
       "0                                          -3.004511       \n",
       "1                                          -0.827474       \n",
       "2                                          -1.374967       \n",
       "3                                          -0.798213       \n",
       "4                                          -0.616252       \n",
       "\n",
       "   Nuclei_Texture_InverseDifferenceMoment_CorrPM_3_02_256  \\\n",
       "0                                          -1.481117        \n",
       "1                                          -0.461348        \n",
       "2                                          -1.337252        \n",
       "3                                          -1.032992        \n",
       "4                                          -0.681687        \n",
       "\n",
       "   Nuclei_Texture_SumEntropy_CorrPM_3_01_256  \\\n",
       "0                                   1.851482   \n",
       "1                                   0.897731   \n",
       "2                                   0.825970   \n",
       "3                                   0.546308   \n",
       "4                                   1.034724   \n",
       "\n",
       "   Nuclei_Texture_SumVariance_CorrGasdermin_3_01_256  \\\n",
       "0                                           0.024721   \n",
       "1                                          -0.041156   \n",
       "2                                          -0.044386   \n",
       "3                                          -0.058328   \n",
       "4                                          -0.035518   \n",
       "\n",
       "   Nuclei_Texture_SumVariance_CorrMito_3_03_256  \\\n",
       "0                                      0.307472   \n",
       "1                                      1.443262   \n",
       "2                                     -0.020445   \n",
       "3                                     -0.009632   \n",
       "4                                     -0.038205   \n",
       "\n",
       "   Nuclei_Texture_SumVariance_CorrPM_3_03_256  \n",
       "0                                    0.092086  \n",
       "1                                    0.009843  \n",
       "2                                    0.000848  \n",
       "3                                   -0.005811  \n",
       "4                                    0.017690  \n",
       "\n",
       "[5 rows x 1270 columns]"
      ]
     },
     "execution_count": 8,
     "metadata": {},
     "output_type": "execute_result"
    }
   ],
   "source": [
    "print(feature_df.shape)\n",
    "feature_df.head()"
   ]
  },
  {
   "cell_type": "code",
   "execution_count": 9,
   "id": "029dfdb7",
   "metadata": {
    "execution": {
     "iopub.execute_input": "2023-10-29T21:53:35.747208Z",
     "iopub.status.busy": "2023-10-29T21:53:35.746801Z",
     "iopub.status.idle": "2023-10-29T21:53:36.538273Z",
     "shell.execute_reply": "2023-10-29T21:53:36.537755Z"
    },
    "papermill": {
     "duration": 0.796333,
     "end_time": "2023-10-29T21:53:36.539256",
     "exception": false,
     "start_time": "2023-10-29T21:53:35.742923",
     "status": "completed"
    },
    "tags": []
   },
   "outputs": [
    {
     "name": "stdout",
     "output_type": "stream",
     "text": [
      "(597902, 1270)\n"
     ]
    },
    {
     "data": {
      "text/html": [
       "<div>\n",
       "<style scoped>\n",
       "    .dataframe tbody tr th:only-of-type {\n",
       "        vertical-align: middle;\n",
       "    }\n",
       "\n",
       "    .dataframe tbody tr th {\n",
       "        vertical-align: top;\n",
       "    }\n",
       "\n",
       "    .dataframe thead th {\n",
       "        text-align: right;\n",
       "    }\n",
       "</style>\n",
       "<table border=\"1\" class=\"dataframe\">\n",
       "  <thead>\n",
       "    <tr style=\"text-align: right;\">\n",
       "      <th></th>\n",
       "      <th>Metadata_cell_type</th>\n",
       "      <th>Metadata_Well</th>\n",
       "      <th>Metadata_number_of_singlecells</th>\n",
       "      <th>Metadata_incubation inducer (h)</th>\n",
       "      <th>Metadata_inhibitor</th>\n",
       "      <th>Metadata_inhibitor_concentration</th>\n",
       "      <th>Metadata_inhibitor_concentration_unit</th>\n",
       "      <th>Metadata_inducer1</th>\n",
       "      <th>Metadata_inducer1_concentration</th>\n",
       "      <th>Metadata_inducer1_concentration_unit</th>\n",
       "      <th>...</th>\n",
       "      <th>Nuclei_Texture_InverseDifferenceMoment_CorrER_3_01_256</th>\n",
       "      <th>Nuclei_Texture_InverseDifferenceMoment_CorrER_3_02_256</th>\n",
       "      <th>Nuclei_Texture_InverseDifferenceMoment_CorrER_3_03_256</th>\n",
       "      <th>Nuclei_Texture_InverseDifferenceMoment_CorrMito_3_00_256</th>\n",
       "      <th>Nuclei_Texture_InverseDifferenceMoment_CorrPM_3_00_256</th>\n",
       "      <th>Nuclei_Texture_InverseDifferenceMoment_CorrPM_3_02_256</th>\n",
       "      <th>Nuclei_Texture_SumEntropy_CorrPM_3_01_256</th>\n",
       "      <th>Nuclei_Texture_SumVariance_CorrGasdermin_3_01_256</th>\n",
       "      <th>Nuclei_Texture_SumVariance_CorrMito_3_03_256</th>\n",
       "      <th>Nuclei_Texture_SumVariance_CorrPM_3_03_256</th>\n",
       "    </tr>\n",
       "  </thead>\n",
       "  <tbody>\n",
       "    <tr>\n",
       "      <th>0</th>\n",
       "      <td>SH-SY5Y</td>\n",
       "      <td>B13</td>\n",
       "      <td>3765</td>\n",
       "      <td>6</td>\n",
       "      <td>Media_ctr</td>\n",
       "      <td>NaN</td>\n",
       "      <td>None</td>\n",
       "      <td>media_ctr</td>\n",
       "      <td>None</td>\n",
       "      <td>None</td>\n",
       "      <td>...</td>\n",
       "      <td>-1.841853</td>\n",
       "      <td>-0.597438</td>\n",
       "      <td>-1.295016</td>\n",
       "      <td>-3.127056</td>\n",
       "      <td>-3.004511</td>\n",
       "      <td>-1.481117</td>\n",
       "      <td>1.851482</td>\n",
       "      <td>0.024721</td>\n",
       "      <td>0.307472</td>\n",
       "      <td>0.092086</td>\n",
       "    </tr>\n",
       "    <tr>\n",
       "      <th>1</th>\n",
       "      <td>SH-SY5Y</td>\n",
       "      <td>B13</td>\n",
       "      <td>3765</td>\n",
       "      <td>6</td>\n",
       "      <td>Media_ctr</td>\n",
       "      <td>NaN</td>\n",
       "      <td>None</td>\n",
       "      <td>media_ctr</td>\n",
       "      <td>None</td>\n",
       "      <td>None</td>\n",
       "      <td>...</td>\n",
       "      <td>-0.841272</td>\n",
       "      <td>-0.681935</td>\n",
       "      <td>-0.330951</td>\n",
       "      <td>-3.725197</td>\n",
       "      <td>-0.827474</td>\n",
       "      <td>-0.461348</td>\n",
       "      <td>0.897731</td>\n",
       "      <td>-0.041156</td>\n",
       "      <td>1.443262</td>\n",
       "      <td>0.009843</td>\n",
       "    </tr>\n",
       "    <tr>\n",
       "      <th>2</th>\n",
       "      <td>SH-SY5Y</td>\n",
       "      <td>B13</td>\n",
       "      <td>3765</td>\n",
       "      <td>6</td>\n",
       "      <td>Media_ctr</td>\n",
       "      <td>NaN</td>\n",
       "      <td>None</td>\n",
       "      <td>media_ctr</td>\n",
       "      <td>None</td>\n",
       "      <td>None</td>\n",
       "      <td>...</td>\n",
       "      <td>0.500885</td>\n",
       "      <td>-0.229003</td>\n",
       "      <td>-1.254209</td>\n",
       "      <td>-0.691997</td>\n",
       "      <td>-1.374967</td>\n",
       "      <td>-1.337252</td>\n",
       "      <td>0.825970</td>\n",
       "      <td>-0.044386</td>\n",
       "      <td>-0.020445</td>\n",
       "      <td>0.000848</td>\n",
       "    </tr>\n",
       "    <tr>\n",
       "      <th>3</th>\n",
       "      <td>SH-SY5Y</td>\n",
       "      <td>B13</td>\n",
       "      <td>3765</td>\n",
       "      <td>6</td>\n",
       "      <td>Media_ctr</td>\n",
       "      <td>NaN</td>\n",
       "      <td>None</td>\n",
       "      <td>media_ctr</td>\n",
       "      <td>None</td>\n",
       "      <td>None</td>\n",
       "      <td>...</td>\n",
       "      <td>-0.560136</td>\n",
       "      <td>-0.276664</td>\n",
       "      <td>-0.313186</td>\n",
       "      <td>-0.844206</td>\n",
       "      <td>-0.798213</td>\n",
       "      <td>-1.032992</td>\n",
       "      <td>0.546308</td>\n",
       "      <td>-0.058328</td>\n",
       "      <td>-0.009632</td>\n",
       "      <td>-0.005811</td>\n",
       "    </tr>\n",
       "    <tr>\n",
       "      <th>4</th>\n",
       "      <td>SH-SY5Y</td>\n",
       "      <td>B13</td>\n",
       "      <td>3765</td>\n",
       "      <td>6</td>\n",
       "      <td>Media_ctr</td>\n",
       "      <td>NaN</td>\n",
       "      <td>None</td>\n",
       "      <td>media_ctr</td>\n",
       "      <td>None</td>\n",
       "      <td>None</td>\n",
       "      <td>...</td>\n",
       "      <td>-0.828550</td>\n",
       "      <td>-0.761657</td>\n",
       "      <td>-0.309806</td>\n",
       "      <td>-0.501700</td>\n",
       "      <td>-0.616252</td>\n",
       "      <td>-0.681687</td>\n",
       "      <td>1.034724</td>\n",
       "      <td>-0.035518</td>\n",
       "      <td>-0.038205</td>\n",
       "      <td>0.017690</td>\n",
       "    </tr>\n",
       "  </tbody>\n",
       "</table>\n",
       "<p>5 rows × 1270 columns</p>\n",
       "</div>"
      ],
      "text/plain": [
       "  Metadata_cell_type Metadata_Well  Metadata_number_of_singlecells  \\\n",
       "0            SH-SY5Y           B13                            3765   \n",
       "1            SH-SY5Y           B13                            3765   \n",
       "2            SH-SY5Y           B13                            3765   \n",
       "3            SH-SY5Y           B13                            3765   \n",
       "4            SH-SY5Y           B13                            3765   \n",
       "\n",
       "   Metadata_incubation inducer (h) Metadata_inhibitor  \\\n",
       "0                                6          Media_ctr   \n",
       "1                                6          Media_ctr   \n",
       "2                                6          Media_ctr   \n",
       "3                                6          Media_ctr   \n",
       "4                                6          Media_ctr   \n",
       "\n",
       "   Metadata_inhibitor_concentration Metadata_inhibitor_concentration_unit  \\\n",
       "0                               NaN                                  None   \n",
       "1                               NaN                                  None   \n",
       "2                               NaN                                  None   \n",
       "3                               NaN                                  None   \n",
       "4                               NaN                                  None   \n",
       "\n",
       "  Metadata_inducer1 Metadata_inducer1_concentration  \\\n",
       "0         media_ctr                            None   \n",
       "1         media_ctr                            None   \n",
       "2         media_ctr                            None   \n",
       "3         media_ctr                            None   \n",
       "4         media_ctr                            None   \n",
       "\n",
       "  Metadata_inducer1_concentration_unit  ...  \\\n",
       "0                                 None  ...   \n",
       "1                                 None  ...   \n",
       "2                                 None  ...   \n",
       "3                                 None  ...   \n",
       "4                                 None  ...   \n",
       "\n",
       "  Nuclei_Texture_InverseDifferenceMoment_CorrER_3_01_256  \\\n",
       "0                                          -1.841853       \n",
       "1                                          -0.841272       \n",
       "2                                           0.500885       \n",
       "3                                          -0.560136       \n",
       "4                                          -0.828550       \n",
       "\n",
       "   Nuclei_Texture_InverseDifferenceMoment_CorrER_3_02_256  \\\n",
       "0                                          -0.597438        \n",
       "1                                          -0.681935        \n",
       "2                                          -0.229003        \n",
       "3                                          -0.276664        \n",
       "4                                          -0.761657        \n",
       "\n",
       "  Nuclei_Texture_InverseDifferenceMoment_CorrER_3_03_256  \\\n",
       "0                                          -1.295016       \n",
       "1                                          -0.330951       \n",
       "2                                          -1.254209       \n",
       "3                                          -0.313186       \n",
       "4                                          -0.309806       \n",
       "\n",
       "   Nuclei_Texture_InverseDifferenceMoment_CorrMito_3_00_256  \\\n",
       "0                                          -3.127056          \n",
       "1                                          -3.725197          \n",
       "2                                          -0.691997          \n",
       "3                                          -0.844206          \n",
       "4                                          -0.501700          \n",
       "\n",
       "  Nuclei_Texture_InverseDifferenceMoment_CorrPM_3_00_256  \\\n",
       "0                                          -3.004511       \n",
       "1                                          -0.827474       \n",
       "2                                          -1.374967       \n",
       "3                                          -0.798213       \n",
       "4                                          -0.616252       \n",
       "\n",
       "   Nuclei_Texture_InverseDifferenceMoment_CorrPM_3_02_256  \\\n",
       "0                                          -1.481117        \n",
       "1                                          -0.461348        \n",
       "2                                          -1.337252        \n",
       "3                                          -1.032992        \n",
       "4                                          -0.681687        \n",
       "\n",
       "   Nuclei_Texture_SumEntropy_CorrPM_3_01_256  \\\n",
       "0                                   1.851482   \n",
       "1                                   0.897731   \n",
       "2                                   0.825970   \n",
       "3                                   0.546308   \n",
       "4                                   1.034724   \n",
       "\n",
       "   Nuclei_Texture_SumVariance_CorrGasdermin_3_01_256  \\\n",
       "0                                           0.024721   \n",
       "1                                          -0.041156   \n",
       "2                                          -0.044386   \n",
       "3                                          -0.058328   \n",
       "4                                          -0.035518   \n",
       "\n",
       "   Nuclei_Texture_SumVariance_CorrMito_3_03_256  \\\n",
       "0                                      0.307472   \n",
       "1                                      1.443262   \n",
       "2                                     -0.020445   \n",
       "3                                     -0.009632   \n",
       "4                                     -0.038205   \n",
       "\n",
       "   Nuclei_Texture_SumVariance_CorrPM_3_03_256  \n",
       "0                                    0.092086  \n",
       "1                                    0.009843  \n",
       "2                                    0.000848  \n",
       "3                                   -0.005811  \n",
       "4                                    0.017690  \n",
       "\n",
       "[5 rows x 1270 columns]"
      ]
     },
     "execution_count": 9,
     "metadata": {},
     "output_type": "execute_result"
    }
   ],
   "source": [
    "# removing costes features as they behave with great variance across all data\n",
    "feature_df = feature_df.drop(feature_df.filter(regex=\"Costes\").columns, axis=1)\n",
    "print(feature_df.shape)\n",
    "feature_df.head()"
   ]
  },
  {
   "cell_type": "code",
   "execution_count": 10,
   "id": "34d8981d",
   "metadata": {
    "execution": {
     "iopub.execute_input": "2023-10-29T21:53:36.547532Z",
     "iopub.status.busy": "2023-10-29T21:53:36.547147Z",
     "iopub.status.idle": "2023-10-29T21:53:40.780650Z",
     "shell.execute_reply": "2023-10-29T21:53:40.780072Z"
    },
    "papermill": {
     "duration": 4.238996,
     "end_time": "2023-10-29T21:53:40.781936",
     "exception": false,
     "start_time": "2023-10-29T21:53:36.542940",
     "status": "completed"
    },
    "tags": []
   },
   "outputs": [],
   "source": [
    "# replacing '/' in treatment dosage column to avoid errors in file interpolation including such strings\n",
    "feature_df = feature_df.replace(to_replace=\"/\", value=\"_per_\", regex=True)"
   ]
  },
  {
   "cell_type": "code",
   "execution_count": 11,
   "id": "018fdc98",
   "metadata": {
    "execution": {
     "iopub.execute_input": "2023-10-29T21:53:40.794525Z",
     "iopub.status.busy": "2023-10-29T21:53:40.794150Z",
     "iopub.status.idle": "2023-10-29T21:53:40.832940Z",
     "shell.execute_reply": "2023-10-29T21:53:40.832364Z"
    },
    "papermill": {
     "duration": 0.043902,
     "end_time": "2023-10-29T21:53:40.833904",
     "exception": false,
     "start_time": "2023-10-29T21:53:40.790002",
     "status": "completed"
    },
    "tags": []
   },
   "outputs": [
    {
     "name": "stderr",
     "output_type": "stream",
     "text": [
      "/tmp/ipykernel_3044339/2784960678.py:8: SettingWithCopyWarning: \n",
      "A value is trying to be set on a copy of a slice from a DataFrame\n",
      "\n",
      "See the caveats in the documentation: https://pandas.pydata.org/pandas-docs/stable/user_guide/indexing.html#returning-a-view-versus-a-copy\n",
      "  feature_df[columns_to_fill].fillna(0, inplace=True)\n"
     ]
    }
   ],
   "source": [
    "# replace nan values with 0\n",
    "\n",
    "columns_to_fill = [\n",
    "    \"Metadata_inducer1_concentration\",\n",
    "    \"Metadata_inducer2_concentration\",\n",
    "    \"Metadata_inhibitor_concentration\",\n",
    "]\n",
    "feature_df[columns_to_fill].fillna(0, inplace=True)"
   ]
  },
  {
   "cell_type": "code",
   "execution_count": 12,
   "id": "70746fb9",
   "metadata": {
    "execution": {
     "iopub.execute_input": "2023-10-29T21:53:40.841997Z",
     "iopub.status.busy": "2023-10-29T21:53:40.841605Z",
     "iopub.status.idle": "2023-10-29T21:53:40.862849Z",
     "shell.execute_reply": "2023-10-29T21:53:40.862368Z"
    },
    "papermill": {
     "duration": 0.026431,
     "end_time": "2023-10-29T21:53:40.863868",
     "exception": false,
     "start_time": "2023-10-29T21:53:40.837437",
     "status": "completed"
    },
    "tags": []
   },
   "outputs": [],
   "source": [
    "# replace all None values with 0\n",
    "feature_df[\"Metadata_inducer1_concentration\"].fillna(0, inplace=True)"
   ]
  },
  {
   "cell_type": "code",
   "execution_count": 13,
   "id": "356e046c",
   "metadata": {
    "execution": {
     "iopub.execute_input": "2023-10-29T21:53:40.872010Z",
     "iopub.status.busy": "2023-10-29T21:53:40.871638Z",
     "iopub.status.idle": "2023-10-29T21:53:41.520638Z",
     "shell.execute_reply": "2023-10-29T21:53:41.519998Z"
    },
    "papermill": {
     "duration": 0.654439,
     "end_time": "2023-10-29T21:53:41.521839",
     "exception": false,
     "start_time": "2023-10-29T21:53:40.867400",
     "status": "completed"
    },
    "tags": []
   },
   "outputs": [],
   "source": [
    "# create a list of columns to be converted to float\n",
    "col_list = [\n",
    "    \"Metadata_inducer1_concentration\",\n",
    "    \"Metadata_inducer2_concentration\",\n",
    "    \"Metadata_inhibitor_concentration\",\n",
    "]\n",
    "# loop through the list and convert each column to float\n",
    "for i in col_list:\n",
    "    feature_df[i] = feature_df[i].apply(\n",
    "        lambda x: f\"{float(x):.3f}\" if float(x) != 0 else float(x)\n",
    "    )"
   ]
  },
  {
   "attachments": {},
   "cell_type": "markdown",
   "id": "d109a042",
   "metadata": {
    "papermill": {
     "duration": 0.003619,
     "end_time": "2023-10-29T21:53:41.529906",
     "exception": false,
     "start_time": "2023-10-29T21:53:41.526287",
     "status": "completed"
    },
    "tags": []
   },
   "source": [
    "#### Combine Inducer1 and Inducer2 into one column"
   ]
  },
  {
   "cell_type": "code",
   "execution_count": 14,
   "id": "c99c7fb9",
   "metadata": {
    "execution": {
     "iopub.execute_input": "2023-10-29T21:53:41.538180Z",
     "iopub.status.busy": "2023-10-29T21:53:41.537739Z",
     "iopub.status.idle": "2023-10-29T21:53:42.067398Z",
     "shell.execute_reply": "2023-10-29T21:53:42.066792Z"
    },
    "papermill": {
     "duration": 0.535102,
     "end_time": "2023-10-29T21:53:42.068527",
     "exception": false,
     "start_time": "2023-10-29T21:53:41.533425",
     "status": "completed"
    },
    "tags": []
   },
   "outputs": [],
   "source": [
    "# treatment column merge\n",
    "conditions = [\n",
    "    (feature_df[\"Metadata_inducer2\"].isnull()),\n",
    "    feature_df[\"Metadata_inducer2\"].notnull(),\n",
    "]\n",
    "\n",
    "results = [\n",
    "    (feature_df[\"Metadata_inducer1\"]).astype(str),\n",
    "    (\n",
    "        feature_df[\"Metadata_inducer1\"]\n",
    "        + \"_\"\n",
    "        + feature_df[\"Metadata_inducer2\"].astype(str)\n",
    "    ),\n",
    "]\n",
    "feature_df[\"Metadata_Treatment\"] = np.select(condlist=conditions, choicelist=results)\n",
    "\n",
    "\n",
    "# dose column merge\n",
    "results = [\n",
    "    (\n",
    "        feature_df[\"Metadata_inducer1_concentration\"].astype(str)\n",
    "        + \"_\"\n",
    "        + feature_df[\"Metadata_inducer1_concentration_unit\"].astype(str)\n",
    "    ),\n",
    "    (\n",
    "        feature_df[\"Metadata_inducer1_concentration\"].astype(str)\n",
    "        + \"_\"\n",
    "        + feature_df[\"Metadata_inducer1_concentration_unit\"].astype(str)\n",
    "        + \"_\"\n",
    "        + feature_df[\"Metadata_inducer2_concentration\"].astype(str)\n",
    "        + \"_\"\n",
    "        + feature_df[\"Metadata_inducer2_concentration_unit\"].astype(str)\n",
    "    ),\n",
    "]\n",
    "feature_df[\"Metadata_Dose\"] = np.select(condlist=conditions, choicelist=results)"
   ]
  },
  {
   "attachments": {},
   "cell_type": "markdown",
   "id": "44811a4f",
   "metadata": {
    "papermill": {
     "duration": 0.003461,
     "end_time": "2023-10-29T21:53:42.075786",
     "exception": false,
     "start_time": "2023-10-29T21:53:42.072325",
     "status": "completed"
    },
    "tags": []
   },
   "source": [
    "## N Beta Column condition generation\n",
    "columns generated to used for linear modeling where terms separated by '__' will be a beta coefficient "
   ]
  },
  {
   "cell_type": "code",
   "execution_count": 15,
   "id": "2ceddf6b",
   "metadata": {
    "execution": {
     "iopub.execute_input": "2023-10-29T21:53:42.083957Z",
     "iopub.status.busy": "2023-10-29T21:53:42.083515Z",
     "iopub.status.idle": "2023-10-29T21:53:43.244311Z",
     "shell.execute_reply": "2023-10-29T21:53:43.243672Z"
    },
    "papermill": {
     "duration": 1.166189,
     "end_time": "2023-10-29T21:53:43.245444",
     "exception": false,
     "start_time": "2023-10-29T21:53:42.079255",
     "status": "completed"
    },
    "tags": []
   },
   "outputs": [],
   "source": [
    "# one beta of inudcer1, inducer1 concentration, inhibitor, and inhibitor concentration all as 1 beta term\n",
    "feature_df[\"oneb_Metadata_Treatment_Dose_Inhibitor_Dose\"] = (\n",
    "    feature_df[\"Metadata_Treatment\"]\n",
    "    + \"_\"\n",
    "    + feature_df[\"Metadata_Dose\"].astype(str)\n",
    "    # + \"_\"\n",
    "    # + feature_df['Metadata_inducer1_concentration_unit'].astype(str)\n",
    "    + \"_\"\n",
    "    + feature_df[\"Metadata_inhibitor\"].astype(str)\n",
    "    + \"_\"\n",
    "    + feature_df[\"Metadata_inhibitor_concentration\"].astype(str)\n",
    "    + \"_\"\n",
    "    + feature_df[\"Metadata_inhibitor_concentration_unit\"].astype(str)\n",
    ").astype(str)\n",
    "\n",
    "\n",
    "# two beta of inducer1, inhibitor, and inhibitor concentration all as 1 beta term + inducer1 concentration as 2nd beta term\n",
    "feature_df[\"twob_Metadata_Treatment_Dose_Inhibitor_Dose\"] = (\n",
    "    feature_df[\"Metadata_Treatment\"]\n",
    "    + \"_\"\n",
    "    + feature_df[\"Metadata_inhibitor\"].astype(str)\n",
    "    + \"_\"\n",
    "    + feature_df[\"Metadata_inhibitor_concentration\"].astype(str)\n",
    "    + \"__\"\n",
    "    + feature_df[\"Metadata_Dose\"].astype(str)\n",
    ").astype(str)\n",
    "\n",
    "# three beta of inducer 1 as 1 beta term, inducer1 concentration as 2nd beta term, inhibitor and inhibitor concentration as 3rd beta term\n",
    "feature_df[\"threeb_Metadata_Treatment_Dose_Inhibitor_Dose\"] = (\n",
    "    feature_df[\"Metadata_Treatment\"]\n",
    "    + \"__\"\n",
    "    + feature_df[\"Metadata_Dose\"].astype(str)\n",
    "    + \"__\"\n",
    "    + feature_df[\"Metadata_inducer1_concentration_unit\"].astype(str)\n",
    "    + \"_\"\n",
    "    + feature_df[\"Metadata_inhibitor\"].astype(str)\n",
    "    + \"_\"\n",
    "    + feature_df[\"Metadata_inhibitor_concentration\"].astype(str)\n",
    ").astype(str)\n",
    "\n",
    "# four beta of inducer 1 as 1 beta term, inducer1 concentration as 2nd beta term, inhibitor as 3rd beta term, and inhibitor concentration as 4th beta term\n",
    "feature_df[\"fourb_Metadata_Treatment_Dose_Inhibitor_Dose\"] = (\n",
    "    feature_df[\"Metadata_Treatment\"]\n",
    "    + \"__\"\n",
    "    + feature_df[\"Metadata_Dose\"].astype(str)\n",
    "    + \"__\"\n",
    "    + feature_df[\"Metadata_inducer1_concentration_unit\"].astype(str)\n",
    "    + \"_\"\n",
    "    + feature_df[\"Metadata_inhibitor\"].astype(str)\n",
    "    + \"__\"\n",
    "    + feature_df[\"Metadata_inhibitor_concentration\"].astype(str)\n",
    ").astype(str)"
   ]
  },
  {
   "cell_type": "code",
   "execution_count": 16,
   "id": "4d5a6c1f",
   "metadata": {
    "execution": {
     "iopub.execute_input": "2023-10-29T21:53:43.254251Z",
     "iopub.status.busy": "2023-10-29T21:53:43.253715Z",
     "iopub.status.idle": "2023-10-29T21:53:44.500656Z",
     "shell.execute_reply": "2023-10-29T21:53:44.500055Z"
    },
    "papermill": {
     "duration": 1.252619,
     "end_time": "2023-10-29T21:53:44.501758",
     "exception": false,
     "start_time": "2023-10-29T21:53:43.249139",
     "status": "completed"
    },
    "tags": []
   },
   "outputs": [
    {
     "name": "stdout",
     "output_type": "stream",
     "text": [
      "None 0\n"
     ]
    },
    {
     "name": "stdout",
     "output_type": "stream",
     "text": [
      "µ u\n"
     ]
    },
    {
     "name": "stdout",
     "output_type": "stream",
     "text": [
      "nan 0\n"
     ]
    }
   ],
   "source": [
    "replacement_dict = {\n",
    "    \"None\": \"0\",\n",
    "    \"µ\": \"u\",\n",
    "    \"nan\": \"0\",\n",
    "}\n",
    "for pattern, replacement in replacement_dict.items():\n",
    "    print(pattern, replacement)\n",
    "    feature_df[\"oneb_Metadata_Treatment_Dose_Inhibitor_Dose\"] = feature_df[\n",
    "        \"oneb_Metadata_Treatment_Dose_Inhibitor_Dose\"\n",
    "    ].replace(to_replace=str(pattern), value=str(replacement), regex=True)"
   ]
  },
  {
   "cell_type": "code",
   "execution_count": 17,
   "id": "d6110d9d",
   "metadata": {
    "execution": {
     "iopub.execute_input": "2023-10-29T21:53:44.511476Z",
     "iopub.status.busy": "2023-10-29T21:53:44.510980Z",
     "iopub.status.idle": "2023-10-29T21:53:44.637129Z",
     "shell.execute_reply": "2023-10-29T21:53:44.636519Z"
    },
    "papermill": {
     "duration": 0.131662,
     "end_time": "2023-10-29T21:53:44.638216",
     "exception": false,
     "start_time": "2023-10-29T21:53:44.506554",
     "status": "completed"
    },
    "tags": []
   },
   "outputs": [],
   "source": [
    "feature_df[\"oneb_Metadata_Treatment_Dose_Inhibitor_Dose\"] = feature_df[\n",
    "    \"oneb_Metadata_Treatment_Dose_Inhibitor_Dose\"\n",
    "].str.replace(\"media_ctr_0.0_0_Media_ctr_0_0\", \"media_ctr_0.0_0_Media_ctr_0.0_0\")"
   ]
  },
  {
   "cell_type": "code",
   "execution_count": 18,
   "id": "ae6971b5",
   "metadata": {
    "execution": {
     "iopub.execute_input": "2023-10-29T21:53:44.646829Z",
     "iopub.status.busy": "2023-10-29T21:53:44.646369Z",
     "iopub.status.idle": "2023-10-29T21:53:45.043862Z",
     "shell.execute_reply": "2023-10-29T21:53:45.043242Z"
    },
    "papermill": {
     "duration": 0.403022,
     "end_time": "2023-10-29T21:53:45.045029",
     "exception": false,
     "start_time": "2023-10-29T21:53:44.642007",
     "status": "completed"
    },
    "tags": []
   },
   "outputs": [],
   "source": [
    "# need to convert to strings to save as parquet\n",
    "# if the column is an object then convert it to a string\n",
    "for column in feature_df.columns:\n",
    "    if feature_df[column].dtype == \"object\":\n",
    "        feature_df[column] = feature_df[column].astype(str)"
   ]
  },
  {
   "cell_type": "code",
   "execution_count": 19,
   "id": "28cbc3d6",
   "metadata": {
    "execution": {
     "iopub.execute_input": "2023-10-29T21:53:45.053732Z",
     "iopub.status.busy": "2023-10-29T21:53:45.053289Z",
     "iopub.status.idle": "2023-10-29T21:54:02.807542Z",
     "shell.execute_reply": "2023-10-29T21:54:02.807015Z"
    },
    "papermill": {
     "duration": 17.760135,
     "end_time": "2023-10-29T21:54:02.809071",
     "exception": false,
     "start_time": "2023-10-29T21:53:45.048936",
     "status": "completed"
    },
    "tags": []
   },
   "outputs": [],
   "source": [
    "# write to parquet file\n",
    "feature_df.to_parquet(feature_df_out_path)"
   ]
  }
 ],
 "metadata": {
  "kernelspec": {
   "display_name": "Interstellar",
   "language": "python",
   "name": "python3"
  },
  "language_info": {
   "codemirror_mode": {
    "name": "ipython",
    "version": 3
   },
   "file_extension": ".py",
   "mimetype": "text/x-python",
   "name": "python",
   "nbconvert_exporter": "python",
   "pygments_lexer": "ipython3",
   "version": "3.10.12"
  },
  "papermill": {
   "default_parameters": {},
   "duration": 45.160648,
   "end_time": "2023-10-29T21:54:03.230758",
   "environment_variables": {},
   "exception": null,
   "input_path": "1.preprocessing_morphology_data.ipynb",
   "output_path": "1.preprocessing_morphology_data.ipynb",
   "parameters": {
    "cell_type": "SHSY5Y"
   },
   "start_time": "2023-10-29T21:53:18.070110",
   "version": "2.4.0"
  },
  "vscode": {
   "interpreter": {
    "hash": "72ae02083a9ca7d143c492d1aec380c7bf553ec51bd66e90e72bba65228121b6"
   }
  }
 },
 "nbformat": 4,
 "nbformat_minor": 5
}