{
 "cells": [
  {
   "cell_type": "markdown",
   "id": "d040972a",
   "metadata": {
    "papermill": {
     "duration": 0.003524,
     "end_time": "2023-10-27T21:23:12.851498",
     "exception": false,
     "start_time": "2023-10-27T21:23:12.847974",
     "status": "completed"
    },
    "tags": []
   },
   "source": [
    "This noteboook pre-processes the single cell morphology data to be ready for exploratory analysis and machine learning."
   ]
  },
  {
   "cell_type": "code",
   "execution_count": 1,
   "id": "1ed18d57",
   "metadata": {
    "execution": {
     "iopub.execute_input": "2023-10-27T21:23:12.858705Z",
     "iopub.status.busy": "2023-10-27T21:23:12.858124Z",
     "iopub.status.idle": "2023-10-27T21:23:14.130231Z",
     "shell.execute_reply": "2023-10-27T21:23:14.129764Z"
    },
    "papermill": {
     "duration": 1.27713,
     "end_time": "2023-10-27T21:23:14.131732",
     "exception": false,
     "start_time": "2023-10-27T21:23:12.854602",
     "status": "completed"
    },
    "tags": []
   },
   "outputs": [],
   "source": [
    "import pathlib\n",
    "\n",
    "import numpy as np\n",
    "import pandas as pd\n",
    "import papermill as pm\n",
    "import pyarrow as pa\n",
    "import pyarrow.parquet as pq"
   ]
  },
  {
   "cell_type": "code",
   "execution_count": 2,
   "id": "8694ef97",
   "metadata": {
    "execution": {
     "iopub.execute_input": "2023-10-27T21:23:14.142667Z",
     "iopub.status.busy": "2023-10-27T21:23:14.142452Z",
     "iopub.status.idle": "2023-10-27T21:23:14.144697Z",
     "shell.execute_reply": "2023-10-27T21:23:14.144321Z"
    },
    "papermill": {
     "duration": 0.007213,
     "end_time": "2023-10-27T21:23:14.145584",
     "exception": false,
     "start_time": "2023-10-27T21:23:14.138371",
     "status": "completed"
    },
    "tags": [
     "injected-parameters"
    ]
   },
   "outputs": [],
   "source": [
    "# Parameters\n",
    "cell_type = \"PBMC\""
   ]
  },
  {
   "cell_type": "code",
   "execution_count": 3,
   "id": "7e41be25",
   "metadata": {
    "execution": {
     "iopub.execute_input": "2023-10-27T21:23:14.152598Z",
     "iopub.status.busy": "2023-10-27T21:23:14.152139Z",
     "iopub.status.idle": "2023-10-27T21:23:47.061624Z",
     "shell.execute_reply": "2023-10-27T21:23:47.061091Z"
    },
    "papermill": {
     "duration": 32.914749,
     "end_time": "2023-10-27T21:23:47.063301",
     "exception": false,
     "start_time": "2023-10-27T21:23:14.148552",
     "status": "completed"
    },
    "tags": []
   },
   "outputs": [],
   "source": [
    "# Define inputs\n",
    "feature_file = pathlib.Path(f\"../data/{cell_type}_sc_norm_fs.parquet\")\n",
    "feature_df = pd.read_parquet(feature_file)"
   ]
  },
  {
   "cell_type": "code",
   "execution_count": 4,
   "id": "128e48fe",
   "metadata": {
    "execution": {
     "iopub.execute_input": "2023-10-27T21:23:47.073813Z",
     "iopub.status.busy": "2023-10-27T21:23:47.073532Z",
     "iopub.status.idle": "2023-10-27T21:24:26.573995Z",
     "shell.execute_reply": "2023-10-27T21:24:26.573492Z"
    },
    "papermill": {
     "duration": 39.505985,
     "end_time": "2023-10-27T21:24:26.575632",
     "exception": false,
     "start_time": "2023-10-27T21:23:47.069647",
     "status": "completed"
    },
    "tags": []
   },
   "outputs": [],
   "source": [
    "# replace all \" \" with \"_\" in all values of the dataframe\n",
    "feature_df = feature_df.replace(to_replace=\" \", value=\"_\", regex=True)"
   ]
  },
  {
   "cell_type": "code",
   "execution_count": 5,
   "id": "aa6d40a8",
   "metadata": {
    "execution": {
     "iopub.execute_input": "2023-10-27T21:24:26.587479Z",
     "iopub.status.busy": "2023-10-27T21:24:26.587231Z",
     "iopub.status.idle": "2023-10-27T21:24:27.527580Z",
     "shell.execute_reply": "2023-10-27T21:24:27.527062Z"
    },
    "papermill": {
     "duration": 0.945658,
     "end_time": "2023-10-27T21:24:27.528954",
     "exception": false,
     "start_time": "2023-10-27T21:24:26.583296",
     "status": "completed"
    },
    "tags": []
   },
   "outputs": [],
   "source": [
    "# remove uM in each row of the Metadata_inducer1_concentration column\n",
    "feature_df[\"Metadata_inducer1_concentration\"] = feature_df[\n",
    "    \"Metadata_inducer1_concentration\"\n",
    "].str.replace(\"µM\", \"\")"
   ]
  },
  {
   "cell_type": "code",
   "execution_count": 6,
   "id": "ba5ba736",
   "metadata": {
    "execution": {
     "iopub.execute_input": "2023-10-27T21:24:27.536679Z",
     "iopub.status.busy": "2023-10-27T21:24:27.536273Z",
     "iopub.status.idle": "2023-10-27T21:24:27.704350Z",
     "shell.execute_reply": "2023-10-27T21:24:27.703928Z"
    },
    "papermill": {
     "duration": 0.172904,
     "end_time": "2023-10-27T21:24:27.705400",
     "exception": false,
     "start_time": "2023-10-27T21:24:27.532496",
     "status": "completed"
    },
    "tags": []
   },
   "outputs": [
    {
     "data": {
      "text/plain": [
       "array(['0.010', '0.100', '100.000', None, '1.000', '10.000', '2.5',\n",
       "       '2.500', '5.000', '20.000'], dtype=object)"
      ]
     },
     "execution_count": 6,
     "metadata": {},
     "output_type": "execute_result"
    }
   ],
   "source": [
    "feature_df[\"Metadata_inducer1_concentration\"].unique()"
   ]
  },
  {
   "cell_type": "code",
   "execution_count": 7,
   "id": "8418a230",
   "metadata": {
    "execution": {
     "iopub.execute_input": "2023-10-27T21:24:27.712772Z",
     "iopub.status.busy": "2023-10-27T21:24:27.712382Z",
     "iopub.status.idle": "2023-10-27T21:24:27.714833Z",
     "shell.execute_reply": "2023-10-27T21:24:27.714438Z"
    },
    "papermill": {
     "duration": 0.006909,
     "end_time": "2023-10-27T21:24:27.715697",
     "exception": false,
     "start_time": "2023-10-27T21:24:27.708788",
     "status": "completed"
    },
    "tags": []
   },
   "outputs": [],
   "source": [
    "# define output file path\n",
    "feature_df_out_path = pathlib.Path(f\"../data/{cell_type}_preprocessed_sc_norm.parquet\")"
   ]
  },
  {
   "cell_type": "code",
   "execution_count": 8,
   "id": "79df4337",
   "metadata": {
    "execution": {
     "iopub.execute_input": "2023-10-27T21:24:27.722443Z",
     "iopub.status.busy": "2023-10-27T21:24:27.722148Z",
     "iopub.status.idle": "2023-10-27T21:24:27.744565Z",
     "shell.execute_reply": "2023-10-27T21:24:27.744174Z"
    },
    "papermill": {
     "duration": 0.0268,
     "end_time": "2023-10-27T21:24:27.745462",
     "exception": false,
     "start_time": "2023-10-27T21:24:27.718662",
     "status": "completed"
    },
    "tags": []
   },
   "outputs": [
    {
     "name": "stdout",
     "output_type": "stream",
     "text": [
      "(5598682, 1266)\n"
     ]
    },
    {
     "data": {
      "text/html": [
       "<div>\n",
       "<style scoped>\n",
       "    .dataframe tbody tr th:only-of-type {\n",
       "        vertical-align: middle;\n",
       "    }\n",
       "\n",
       "    .dataframe tbody tr th {\n",
       "        vertical-align: top;\n",
       "    }\n",
       "\n",
       "    .dataframe thead th {\n",
       "        text-align: right;\n",
       "    }\n",
       "</style>\n",
       "<table border=\"1\" class=\"dataframe\">\n",
       "  <thead>\n",
       "    <tr style=\"text-align: right;\">\n",
       "      <th></th>\n",
       "      <th>Metadata_cell_type</th>\n",
       "      <th>Metadata_Well</th>\n",
       "      <th>Metadata_number_of_singlecells</th>\n",
       "      <th>Metadata_incubation inducer (h)</th>\n",
       "      <th>Metadata_inhibitor</th>\n",
       "      <th>Metadata_inhibitor_concentration</th>\n",
       "      <th>Metadata_inhibitor_concentration_unit</th>\n",
       "      <th>Metadata_inducer1</th>\n",
       "      <th>Metadata_inducer1_concentration</th>\n",
       "      <th>Metadata_inducer1_concentration_unit</th>\n",
       "      <th>...</th>\n",
       "      <th>Nuclei_Texture_InverseDifferenceMoment_CorrER_3_03_256</th>\n",
       "      <th>Nuclei_Texture_InverseDifferenceMoment_CorrMito_3_02_256</th>\n",
       "      <th>Nuclei_Texture_InverseDifferenceMoment_CorrPM_3_00_256</th>\n",
       "      <th>Nuclei_Texture_InverseDifferenceMoment_CorrPM_3_01_256</th>\n",
       "      <th>Nuclei_Texture_InverseDifferenceMoment_CorrPM_3_02_256</th>\n",
       "      <th>Nuclei_Texture_InverseDifferenceMoment_CorrPM_3_03_256</th>\n",
       "      <th>Nuclei_Texture_SumEntropy_CorrPM_3_01_256</th>\n",
       "      <th>Nuclei_Texture_SumVariance_CorrPM_3_01_256</th>\n",
       "      <th>Nuclei_Texture_Variance_CorrER_3_00_256</th>\n",
       "      <th>Nuclei_Texture_Variance_CorrGasdermin_3_00_256</th>\n",
       "    </tr>\n",
       "  </thead>\n",
       "  <tbody>\n",
       "    <tr>\n",
       "      <th>0</th>\n",
       "      <td>PBMC</td>\n",
       "      <td>B02</td>\n",
       "      <td>34618</td>\n",
       "      <td>6</td>\n",
       "      <td>DMSO</td>\n",
       "      <td>0.025</td>\n",
       "      <td>%</td>\n",
       "      <td>LPS</td>\n",
       "      <td>0.010</td>\n",
       "      <td>µg/ml</td>\n",
       "      <td>...</td>\n",
       "      <td>1.326095</td>\n",
       "      <td>0.584946</td>\n",
       "      <td>0.133380</td>\n",
       "      <td>0.729722</td>\n",
       "      <td>0.267700</td>\n",
       "      <td>-0.122157</td>\n",
       "      <td>0.108250</td>\n",
       "      <td>-0.068544</td>\n",
       "      <td>-0.205295</td>\n",
       "      <td>-0.197257</td>\n",
       "    </tr>\n",
       "    <tr>\n",
       "      <th>1</th>\n",
       "      <td>PBMC</td>\n",
       "      <td>B02</td>\n",
       "      <td>34618</td>\n",
       "      <td>6</td>\n",
       "      <td>DMSO</td>\n",
       "      <td>0.025</td>\n",
       "      <td>%</td>\n",
       "      <td>LPS</td>\n",
       "      <td>0.010</td>\n",
       "      <td>µg/ml</td>\n",
       "      <td>...</td>\n",
       "      <td>0.908872</td>\n",
       "      <td>0.230972</td>\n",
       "      <td>0.994988</td>\n",
       "      <td>0.866751</td>\n",
       "      <td>0.636846</td>\n",
       "      <td>0.874833</td>\n",
       "      <td>-0.929131</td>\n",
       "      <td>-0.158906</td>\n",
       "      <td>-0.198572</td>\n",
       "      <td>-0.185623</td>\n",
       "    </tr>\n",
       "    <tr>\n",
       "      <th>2</th>\n",
       "      <td>PBMC</td>\n",
       "      <td>B02</td>\n",
       "      <td>34618</td>\n",
       "      <td>6</td>\n",
       "      <td>DMSO</td>\n",
       "      <td>0.025</td>\n",
       "      <td>%</td>\n",
       "      <td>LPS</td>\n",
       "      <td>0.010</td>\n",
       "      <td>µg/ml</td>\n",
       "      <td>...</td>\n",
       "      <td>0.129185</td>\n",
       "      <td>1.223301</td>\n",
       "      <td>0.798990</td>\n",
       "      <td>0.717814</td>\n",
       "      <td>0.883606</td>\n",
       "      <td>0.699406</td>\n",
       "      <td>-1.227278</td>\n",
       "      <td>-0.163521</td>\n",
       "      <td>-0.165140</td>\n",
       "      <td>-0.174762</td>\n",
       "    </tr>\n",
       "    <tr>\n",
       "      <th>3</th>\n",
       "      <td>PBMC</td>\n",
       "      <td>B02</td>\n",
       "      <td>34618</td>\n",
       "      <td>6</td>\n",
       "      <td>DMSO</td>\n",
       "      <td>0.025</td>\n",
       "      <td>%</td>\n",
       "      <td>LPS</td>\n",
       "      <td>0.010</td>\n",
       "      <td>µg/ml</td>\n",
       "      <td>...</td>\n",
       "      <td>-1.393037</td>\n",
       "      <td>0.476057</td>\n",
       "      <td>-2.821609</td>\n",
       "      <td>-1.176345</td>\n",
       "      <td>-1.087953</td>\n",
       "      <td>-2.883989</td>\n",
       "      <td>2.153910</td>\n",
       "      <td>0.586555</td>\n",
       "      <td>0.258023</td>\n",
       "      <td>0.218118</td>\n",
       "    </tr>\n",
       "    <tr>\n",
       "      <th>4</th>\n",
       "      <td>PBMC</td>\n",
       "      <td>B02</td>\n",
       "      <td>34618</td>\n",
       "      <td>6</td>\n",
       "      <td>DMSO</td>\n",
       "      <td>0.025</td>\n",
       "      <td>%</td>\n",
       "      <td>LPS</td>\n",
       "      <td>0.010</td>\n",
       "      <td>µg/ml</td>\n",
       "      <td>...</td>\n",
       "      <td>-0.874583</td>\n",
       "      <td>-0.399795</td>\n",
       "      <td>-0.078365</td>\n",
       "      <td>0.232356</td>\n",
       "      <td>0.014621</td>\n",
       "      <td>0.206520</td>\n",
       "      <td>-0.557309</td>\n",
       "      <td>-0.148980</td>\n",
       "      <td>-0.122860</td>\n",
       "      <td>-0.110851</td>\n",
       "    </tr>\n",
       "  </tbody>\n",
       "</table>\n",
       "<p>5 rows × 1266 columns</p>\n",
       "</div>"
      ],
      "text/plain": [
       "  Metadata_cell_type Metadata_Well  Metadata_number_of_singlecells  \\\n",
       "0               PBMC           B02                           34618   \n",
       "1               PBMC           B02                           34618   \n",
       "2               PBMC           B02                           34618   \n",
       "3               PBMC           B02                           34618   \n",
       "4               PBMC           B02                           34618   \n",
       "\n",
       "   Metadata_incubation inducer (h) Metadata_inhibitor  \\\n",
       "0                                6               DMSO   \n",
       "1                                6               DMSO   \n",
       "2                                6               DMSO   \n",
       "3                                6               DMSO   \n",
       "4                                6               DMSO   \n",
       "\n",
       "   Metadata_inhibitor_concentration Metadata_inhibitor_concentration_unit  \\\n",
       "0                             0.025                                     %   \n",
       "1                             0.025                                     %   \n",
       "2                             0.025                                     %   \n",
       "3                             0.025                                     %   \n",
       "4                             0.025                                     %   \n",
       "\n",
       "  Metadata_inducer1 Metadata_inducer1_concentration  \\\n",
       "0               LPS                           0.010   \n",
       "1               LPS                           0.010   \n",
       "2               LPS                           0.010   \n",
       "3               LPS                           0.010   \n",
       "4               LPS                           0.010   \n",
       "\n",
       "  Metadata_inducer1_concentration_unit  ...  \\\n",
       "0                                µg/ml  ...   \n",
       "1                                µg/ml  ...   \n",
       "2                                µg/ml  ...   \n",
       "3                                µg/ml  ...   \n",
       "4                                µg/ml  ...   \n",
       "\n",
       "  Nuclei_Texture_InverseDifferenceMoment_CorrER_3_03_256  \\\n",
       "0                                           1.326095       \n",
       "1                                           0.908872       \n",
       "2                                           0.129185       \n",
       "3                                          -1.393037       \n",
       "4                                          -0.874583       \n",
       "\n",
       "   Nuclei_Texture_InverseDifferenceMoment_CorrMito_3_02_256  \\\n",
       "0                                           0.584946          \n",
       "1                                           0.230972          \n",
       "2                                           1.223301          \n",
       "3                                           0.476057          \n",
       "4                                          -0.399795          \n",
       "\n",
       "  Nuclei_Texture_InverseDifferenceMoment_CorrPM_3_00_256  \\\n",
       "0                                           0.133380       \n",
       "1                                           0.994988       \n",
       "2                                           0.798990       \n",
       "3                                          -2.821609       \n",
       "4                                          -0.078365       \n",
       "\n",
       "   Nuclei_Texture_InverseDifferenceMoment_CorrPM_3_01_256  \\\n",
       "0                                           0.729722        \n",
       "1                                           0.866751        \n",
       "2                                           0.717814        \n",
       "3                                          -1.176345        \n",
       "4                                           0.232356        \n",
       "\n",
       "  Nuclei_Texture_InverseDifferenceMoment_CorrPM_3_02_256  \\\n",
       "0                                           0.267700       \n",
       "1                                           0.636846       \n",
       "2                                           0.883606       \n",
       "3                                          -1.087953       \n",
       "4                                           0.014621       \n",
       "\n",
       "   Nuclei_Texture_InverseDifferenceMoment_CorrPM_3_03_256  \\\n",
       "0                                          -0.122157        \n",
       "1                                           0.874833        \n",
       "2                                           0.699406        \n",
       "3                                          -2.883989        \n",
       "4                                           0.206520        \n",
       "\n",
       "   Nuclei_Texture_SumEntropy_CorrPM_3_01_256  \\\n",
       "0                                   0.108250   \n",
       "1                                  -0.929131   \n",
       "2                                  -1.227278   \n",
       "3                                   2.153910   \n",
       "4                                  -0.557309   \n",
       "\n",
       "   Nuclei_Texture_SumVariance_CorrPM_3_01_256  \\\n",
       "0                                   -0.068544   \n",
       "1                                   -0.158906   \n",
       "2                                   -0.163521   \n",
       "3                                    0.586555   \n",
       "4                                   -0.148980   \n",
       "\n",
       "   Nuclei_Texture_Variance_CorrER_3_00_256  \\\n",
       "0                                -0.205295   \n",
       "1                                -0.198572   \n",
       "2                                -0.165140   \n",
       "3                                 0.258023   \n",
       "4                                -0.122860   \n",
       "\n",
       "   Nuclei_Texture_Variance_CorrGasdermin_3_00_256  \n",
       "0                                       -0.197257  \n",
       "1                                       -0.185623  \n",
       "2                                       -0.174762  \n",
       "3                                        0.218118  \n",
       "4                                       -0.110851  \n",
       "\n",
       "[5 rows x 1266 columns]"
      ]
     },
     "execution_count": 8,
     "metadata": {},
     "output_type": "execute_result"
    }
   ],
   "source": [
    "print(feature_df.shape)\n",
    "feature_df.head()"
   ]
  },
  {
   "cell_type": "code",
   "execution_count": 9,
   "id": "029dfdb7",
   "metadata": {
    "execution": {
     "iopub.execute_input": "2023-10-27T21:24:27.752718Z",
     "iopub.status.busy": "2023-10-27T21:24:27.752469Z",
     "iopub.status.idle": "2023-10-27T21:24:34.567170Z",
     "shell.execute_reply": "2023-10-27T21:24:34.566736Z"
    },
    "papermill": {
     "duration": 6.819381,
     "end_time": "2023-10-27T21:24:34.568148",
     "exception": false,
     "start_time": "2023-10-27T21:24:27.748767",
     "status": "completed"
    },
    "tags": []
   },
   "outputs": [
    {
     "name": "stdout",
     "output_type": "stream",
     "text": [
      "(5598682, 1264)\n"
     ]
    },
    {
     "data": {
      "text/html": [
       "<div>\n",
       "<style scoped>\n",
       "    .dataframe tbody tr th:only-of-type {\n",
       "        vertical-align: middle;\n",
       "    }\n",
       "\n",
       "    .dataframe tbody tr th {\n",
       "        vertical-align: top;\n",
       "    }\n",
       "\n",
       "    .dataframe thead th {\n",
       "        text-align: right;\n",
       "    }\n",
       "</style>\n",
       "<table border=\"1\" class=\"dataframe\">\n",
       "  <thead>\n",
       "    <tr style=\"text-align: right;\">\n",
       "      <th></th>\n",
       "      <th>Metadata_cell_type</th>\n",
       "      <th>Metadata_Well</th>\n",
       "      <th>Metadata_number_of_singlecells</th>\n",
       "      <th>Metadata_incubation inducer (h)</th>\n",
       "      <th>Metadata_inhibitor</th>\n",
       "      <th>Metadata_inhibitor_concentration</th>\n",
       "      <th>Metadata_inhibitor_concentration_unit</th>\n",
       "      <th>Metadata_inducer1</th>\n",
       "      <th>Metadata_inducer1_concentration</th>\n",
       "      <th>Metadata_inducer1_concentration_unit</th>\n",
       "      <th>...</th>\n",
       "      <th>Nuclei_Texture_InverseDifferenceMoment_CorrER_3_03_256</th>\n",
       "      <th>Nuclei_Texture_InverseDifferenceMoment_CorrMito_3_02_256</th>\n",
       "      <th>Nuclei_Texture_InverseDifferenceMoment_CorrPM_3_00_256</th>\n",
       "      <th>Nuclei_Texture_InverseDifferenceMoment_CorrPM_3_01_256</th>\n",
       "      <th>Nuclei_Texture_InverseDifferenceMoment_CorrPM_3_02_256</th>\n",
       "      <th>Nuclei_Texture_InverseDifferenceMoment_CorrPM_3_03_256</th>\n",
       "      <th>Nuclei_Texture_SumEntropy_CorrPM_3_01_256</th>\n",
       "      <th>Nuclei_Texture_SumVariance_CorrPM_3_01_256</th>\n",
       "      <th>Nuclei_Texture_Variance_CorrER_3_00_256</th>\n",
       "      <th>Nuclei_Texture_Variance_CorrGasdermin_3_00_256</th>\n",
       "    </tr>\n",
       "  </thead>\n",
       "  <tbody>\n",
       "    <tr>\n",
       "      <th>0</th>\n",
       "      <td>PBMC</td>\n",
       "      <td>B02</td>\n",
       "      <td>34618</td>\n",
       "      <td>6</td>\n",
       "      <td>DMSO</td>\n",
       "      <td>0.025</td>\n",
       "      <td>%</td>\n",
       "      <td>LPS</td>\n",
       "      <td>0.010</td>\n",
       "      <td>µg/ml</td>\n",
       "      <td>...</td>\n",
       "      <td>1.326095</td>\n",
       "      <td>0.584946</td>\n",
       "      <td>0.133380</td>\n",
       "      <td>0.729722</td>\n",
       "      <td>0.267700</td>\n",
       "      <td>-0.122157</td>\n",
       "      <td>0.108250</td>\n",
       "      <td>-0.068544</td>\n",
       "      <td>-0.205295</td>\n",
       "      <td>-0.197257</td>\n",
       "    </tr>\n",
       "    <tr>\n",
       "      <th>1</th>\n",
       "      <td>PBMC</td>\n",
       "      <td>B02</td>\n",
       "      <td>34618</td>\n",
       "      <td>6</td>\n",
       "      <td>DMSO</td>\n",
       "      <td>0.025</td>\n",
       "      <td>%</td>\n",
       "      <td>LPS</td>\n",
       "      <td>0.010</td>\n",
       "      <td>µg/ml</td>\n",
       "      <td>...</td>\n",
       "      <td>0.908872</td>\n",
       "      <td>0.230972</td>\n",
       "      <td>0.994988</td>\n",
       "      <td>0.866751</td>\n",
       "      <td>0.636846</td>\n",
       "      <td>0.874833</td>\n",
       "      <td>-0.929131</td>\n",
       "      <td>-0.158906</td>\n",
       "      <td>-0.198572</td>\n",
       "      <td>-0.185623</td>\n",
       "    </tr>\n",
       "    <tr>\n",
       "      <th>2</th>\n",
       "      <td>PBMC</td>\n",
       "      <td>B02</td>\n",
       "      <td>34618</td>\n",
       "      <td>6</td>\n",
       "      <td>DMSO</td>\n",
       "      <td>0.025</td>\n",
       "      <td>%</td>\n",
       "      <td>LPS</td>\n",
       "      <td>0.010</td>\n",
       "      <td>µg/ml</td>\n",
       "      <td>...</td>\n",
       "      <td>0.129185</td>\n",
       "      <td>1.223301</td>\n",
       "      <td>0.798990</td>\n",
       "      <td>0.717814</td>\n",
       "      <td>0.883606</td>\n",
       "      <td>0.699406</td>\n",
       "      <td>-1.227278</td>\n",
       "      <td>-0.163521</td>\n",
       "      <td>-0.165140</td>\n",
       "      <td>-0.174762</td>\n",
       "    </tr>\n",
       "    <tr>\n",
       "      <th>3</th>\n",
       "      <td>PBMC</td>\n",
       "      <td>B02</td>\n",
       "      <td>34618</td>\n",
       "      <td>6</td>\n",
       "      <td>DMSO</td>\n",
       "      <td>0.025</td>\n",
       "      <td>%</td>\n",
       "      <td>LPS</td>\n",
       "      <td>0.010</td>\n",
       "      <td>µg/ml</td>\n",
       "      <td>...</td>\n",
       "      <td>-1.393037</td>\n",
       "      <td>0.476057</td>\n",
       "      <td>-2.821609</td>\n",
       "      <td>-1.176345</td>\n",
       "      <td>-1.087953</td>\n",
       "      <td>-2.883989</td>\n",
       "      <td>2.153910</td>\n",
       "      <td>0.586555</td>\n",
       "      <td>0.258023</td>\n",
       "      <td>0.218118</td>\n",
       "    </tr>\n",
       "    <tr>\n",
       "      <th>4</th>\n",
       "      <td>PBMC</td>\n",
       "      <td>B02</td>\n",
       "      <td>34618</td>\n",
       "      <td>6</td>\n",
       "      <td>DMSO</td>\n",
       "      <td>0.025</td>\n",
       "      <td>%</td>\n",
       "      <td>LPS</td>\n",
       "      <td>0.010</td>\n",
       "      <td>µg/ml</td>\n",
       "      <td>...</td>\n",
       "      <td>-0.874583</td>\n",
       "      <td>-0.399795</td>\n",
       "      <td>-0.078365</td>\n",
       "      <td>0.232356</td>\n",
       "      <td>0.014621</td>\n",
       "      <td>0.206520</td>\n",
       "      <td>-0.557309</td>\n",
       "      <td>-0.148980</td>\n",
       "      <td>-0.122860</td>\n",
       "      <td>-0.110851</td>\n",
       "    </tr>\n",
       "  </tbody>\n",
       "</table>\n",
       "<p>5 rows × 1264 columns</p>\n",
       "</div>"
      ],
      "text/plain": [
       "  Metadata_cell_type Metadata_Well  Metadata_number_of_singlecells  \\\n",
       "0               PBMC           B02                           34618   \n",
       "1               PBMC           B02                           34618   \n",
       "2               PBMC           B02                           34618   \n",
       "3               PBMC           B02                           34618   \n",
       "4               PBMC           B02                           34618   \n",
       "\n",
       "   Metadata_incubation inducer (h) Metadata_inhibitor  \\\n",
       "0                                6               DMSO   \n",
       "1                                6               DMSO   \n",
       "2                                6               DMSO   \n",
       "3                                6               DMSO   \n",
       "4                                6               DMSO   \n",
       "\n",
       "   Metadata_inhibitor_concentration Metadata_inhibitor_concentration_unit  \\\n",
       "0                             0.025                                     %   \n",
       "1                             0.025                                     %   \n",
       "2                             0.025                                     %   \n",
       "3                             0.025                                     %   \n",
       "4                             0.025                                     %   \n",
       "\n",
       "  Metadata_inducer1 Metadata_inducer1_concentration  \\\n",
       "0               LPS                           0.010   \n",
       "1               LPS                           0.010   \n",
       "2               LPS                           0.010   \n",
       "3               LPS                           0.010   \n",
       "4               LPS                           0.010   \n",
       "\n",
       "  Metadata_inducer1_concentration_unit  ...  \\\n",
       "0                                µg/ml  ...   \n",
       "1                                µg/ml  ...   \n",
       "2                                µg/ml  ...   \n",
       "3                                µg/ml  ...   \n",
       "4                                µg/ml  ...   \n",
       "\n",
       "  Nuclei_Texture_InverseDifferenceMoment_CorrER_3_03_256  \\\n",
       "0                                           1.326095       \n",
       "1                                           0.908872       \n",
       "2                                           0.129185       \n",
       "3                                          -1.393037       \n",
       "4                                          -0.874583       \n",
       "\n",
       "   Nuclei_Texture_InverseDifferenceMoment_CorrMito_3_02_256  \\\n",
       "0                                           0.584946          \n",
       "1                                           0.230972          \n",
       "2                                           1.223301          \n",
       "3                                           0.476057          \n",
       "4                                          -0.399795          \n",
       "\n",
       "  Nuclei_Texture_InverseDifferenceMoment_CorrPM_3_00_256  \\\n",
       "0                                           0.133380       \n",
       "1                                           0.994988       \n",
       "2                                           0.798990       \n",
       "3                                          -2.821609       \n",
       "4                                          -0.078365       \n",
       "\n",
       "   Nuclei_Texture_InverseDifferenceMoment_CorrPM_3_01_256  \\\n",
       "0                                           0.729722        \n",
       "1                                           0.866751        \n",
       "2                                           0.717814        \n",
       "3                                          -1.176345        \n",
       "4                                           0.232356        \n",
       "\n",
       "  Nuclei_Texture_InverseDifferenceMoment_CorrPM_3_02_256  \\\n",
       "0                                           0.267700       \n",
       "1                                           0.636846       \n",
       "2                                           0.883606       \n",
       "3                                          -1.087953       \n",
       "4                                           0.014621       \n",
       "\n",
       "   Nuclei_Texture_InverseDifferenceMoment_CorrPM_3_03_256  \\\n",
       "0                                          -0.122157        \n",
       "1                                           0.874833        \n",
       "2                                           0.699406        \n",
       "3                                          -2.883989        \n",
       "4                                           0.206520        \n",
       "\n",
       "   Nuclei_Texture_SumEntropy_CorrPM_3_01_256  \\\n",
       "0                                   0.108250   \n",
       "1                                  -0.929131   \n",
       "2                                  -1.227278   \n",
       "3                                   2.153910   \n",
       "4                                  -0.557309   \n",
       "\n",
       "   Nuclei_Texture_SumVariance_CorrPM_3_01_256  \\\n",
       "0                                   -0.068544   \n",
       "1                                   -0.158906   \n",
       "2                                   -0.163521   \n",
       "3                                    0.586555   \n",
       "4                                   -0.148980   \n",
       "\n",
       "   Nuclei_Texture_Variance_CorrER_3_00_256  \\\n",
       "0                                -0.205295   \n",
       "1                                -0.198572   \n",
       "2                                -0.165140   \n",
       "3                                 0.258023   \n",
       "4                                -0.122860   \n",
       "\n",
       "   Nuclei_Texture_Variance_CorrGasdermin_3_00_256  \n",
       "0                                       -0.197257  \n",
       "1                                       -0.185623  \n",
       "2                                       -0.174762  \n",
       "3                                        0.218118  \n",
       "4                                       -0.110851  \n",
       "\n",
       "[5 rows x 1264 columns]"
      ]
     },
     "execution_count": 9,
     "metadata": {},
     "output_type": "execute_result"
    }
   ],
   "source": [
    "# removing costes features as they behave with great variance across all data\n",
    "feature_df = feature_df.drop(feature_df.filter(regex=\"Costes\").columns, axis=1)\n",
    "print(feature_df.shape)\n",
    "feature_df.head()"
   ]
  },
  {
   "cell_type": "code",
   "execution_count": 10,
   "id": "34d8981d",
   "metadata": {
    "execution": {
     "iopub.execute_input": "2023-10-27T21:24:34.582178Z",
     "iopub.status.busy": "2023-10-27T21:24:34.581792Z",
     "iopub.status.idle": "2023-10-27T21:25:13.836187Z",
     "shell.execute_reply": "2023-10-27T21:25:13.835693Z"
    },
    "papermill": {
     "duration": 39.260355,
     "end_time": "2023-10-27T21:25:13.837860",
     "exception": false,
     "start_time": "2023-10-27T21:24:34.577505",
     "status": "completed"
    },
    "tags": []
   },
   "outputs": [],
   "source": [
    "# replacing '/' in treatment dosage column to avoid errors in file interpolation including such strings\n",
    "feature_df = feature_df.replace(to_replace=\"/\", value=\"_per_\", regex=True)"
   ]
  },
  {
   "cell_type": "code",
   "execution_count": 11,
   "id": "018fdc98",
   "metadata": {
    "execution": {
     "iopub.execute_input": "2023-10-27T21:25:13.849701Z",
     "iopub.status.busy": "2023-10-27T21:25:13.849378Z",
     "iopub.status.idle": "2023-10-27T21:25:14.171799Z",
     "shell.execute_reply": "2023-10-27T21:25:14.171336Z"
    },
    "papermill": {
     "duration": 0.327853,
     "end_time": "2023-10-27T21:25:14.172763",
     "exception": false,
     "start_time": "2023-10-27T21:25:13.844910",
     "status": "completed"
    },
    "tags": []
   },
   "outputs": [
    {
     "name": "stderr",
     "output_type": "stream",
     "text": [
      "/tmp/ipykernel_1273353/2784960678.py:8: SettingWithCopyWarning: \n",
      "A value is trying to be set on a copy of a slice from a DataFrame\n",
      "\n",
      "See the caveats in the documentation: https://pandas.pydata.org/pandas-docs/stable/user_guide/indexing.html#returning-a-view-versus-a-copy\n",
      "  feature_df[columns_to_fill].fillna(0, inplace=True)\n"
     ]
    }
   ],
   "source": [
    "# replace nan values with 0\n",
    "\n",
    "columns_to_fill = [\n",
    "    \"Metadata_inducer1_concentration\",\n",
    "    \"Metadata_inducer2_concentration\",\n",
    "    \"Metadata_inhibitor_concentration\",\n",
    "]\n",
    "feature_df[columns_to_fill].fillna(0, inplace=True)"
   ]
  },
  {
   "cell_type": "code",
   "execution_count": 12,
   "id": "70746fb9",
   "metadata": {
    "execution": {
     "iopub.execute_input": "2023-10-27T21:25:14.181441Z",
     "iopub.status.busy": "2023-10-27T21:25:14.181089Z",
     "iopub.status.idle": "2023-10-27T21:25:14.363318Z",
     "shell.execute_reply": "2023-10-27T21:25:14.362822Z"
    },
    "papermill": {
     "duration": 0.188082,
     "end_time": "2023-10-27T21:25:14.364692",
     "exception": false,
     "start_time": "2023-10-27T21:25:14.176610",
     "status": "completed"
    },
    "tags": []
   },
   "outputs": [],
   "source": [
    "# replace all None values with 0\n",
    "feature_df[\"Metadata_inducer1_concentration\"].fillna(0, inplace=True)"
   ]
  },
  {
   "cell_type": "code",
   "execution_count": 13,
   "id": "356e046c",
   "metadata": {
    "execution": {
     "iopub.execute_input": "2023-10-27T21:25:14.372949Z",
     "iopub.status.busy": "2023-10-27T21:25:14.372771Z",
     "iopub.status.idle": "2023-10-27T21:25:20.619329Z",
     "shell.execute_reply": "2023-10-27T21:25:20.618837Z"
    },
    "papermill": {
     "duration": 6.252362,
     "end_time": "2023-10-27T21:25:20.620782",
     "exception": false,
     "start_time": "2023-10-27T21:25:14.368420",
     "status": "completed"
    },
    "tags": []
   },
   "outputs": [],
   "source": [
    "# create a list of columns to be converted to float\n",
    "col_list = [\n",
    "    \"Metadata_inducer1_concentration\",\n",
    "    \"Metadata_inducer2_concentration\",\n",
    "    \"Metadata_inhibitor_concentration\",\n",
    "]\n",
    "# loop through the list and convert each column to float\n",
    "for i in col_list:\n",
    "    feature_df[i] = feature_df[i].apply(\n",
    "        lambda x: f\"{float(x):.3f}\" if float(x) != 0 else float(x)\n",
    "    )"
   ]
  },
  {
   "attachments": {},
   "cell_type": "markdown",
   "id": "d109a042",
   "metadata": {
    "papermill": {
     "duration": 0.003708,
     "end_time": "2023-10-27T21:25:20.632689",
     "exception": false,
     "start_time": "2023-10-27T21:25:20.628981",
     "status": "completed"
    },
    "tags": []
   },
   "source": [
    "#### Combine Inducer1 and Inducer2 into one column"
   ]
  },
  {
   "cell_type": "code",
   "execution_count": 14,
   "id": "c99c7fb9",
   "metadata": {
    "execution": {
     "iopub.execute_input": "2023-10-27T21:25:20.641375Z",
     "iopub.status.busy": "2023-10-27T21:25:20.640767Z",
     "iopub.status.idle": "2023-10-27T21:25:25.939618Z",
     "shell.execute_reply": "2023-10-27T21:25:25.939121Z"
    },
    "papermill": {
     "duration": 5.304685,
     "end_time": "2023-10-27T21:25:25.941002",
     "exception": false,
     "start_time": "2023-10-27T21:25:20.636317",
     "status": "completed"
    },
    "tags": []
   },
   "outputs": [],
   "source": [
    "# treatment column merge\n",
    "conditions = [\n",
    "    (feature_df[\"Metadata_inducer2\"].isnull()),\n",
    "    feature_df[\"Metadata_inducer2\"].notnull(),\n",
    "]\n",
    "\n",
    "results = [\n",
    "    (feature_df[\"Metadata_inducer1\"]).astype(str),\n",
    "    (\n",
    "        feature_df[\"Metadata_inducer1\"]\n",
    "        + \"_\"\n",
    "        + feature_df[\"Metadata_inducer2\"].astype(str)\n",
    "    ),\n",
    "]\n",
    "feature_df[\"Metadata_Treatment\"] = np.select(condlist=conditions, choicelist=results)\n",
    "\n",
    "\n",
    "# dose column merge\n",
    "results = [\n",
    "    (\n",
    "        feature_df[\"Metadata_inducer1_concentration\"].astype(str)\n",
    "        + \"_\"\n",
    "        + feature_df[\"Metadata_inducer1_concentration_unit\"].astype(str)\n",
    "    ),\n",
    "    (\n",
    "        feature_df[\"Metadata_inducer1_concentration\"].astype(str)\n",
    "        + \"_\"\n",
    "        + feature_df[\"Metadata_inducer1_concentration_unit\"].astype(str)\n",
    "        + \"_\"\n",
    "        + feature_df[\"Metadata_inducer2_concentration\"].astype(str)\n",
    "        + \"_\"\n",
    "        + feature_df[\"Metadata_inducer2_concentration_unit\"].astype(str)\n",
    "    ),\n",
    "]\n",
    "feature_df[\"Metadata_Dose\"] = np.select(condlist=conditions, choicelist=results)"
   ]
  },
  {
   "attachments": {},
   "cell_type": "markdown",
   "id": "44811a4f",
   "metadata": {
    "papermill": {
     "duration": 0.003652,
     "end_time": "2023-10-27T21:25:25.953033",
     "exception": false,
     "start_time": "2023-10-27T21:25:25.949381",
     "status": "completed"
    },
    "tags": []
   },
   "source": [
    "## N Beta Column condition generation\n",
    "columns generated to used for linear modeling where terms separated by '__' will be a beta coefficient "
   ]
  },
  {
   "cell_type": "code",
   "execution_count": 15,
   "id": "2ceddf6b",
   "metadata": {
    "execution": {
     "iopub.execute_input": "2023-10-27T21:25:25.961470Z",
     "iopub.status.busy": "2023-10-27T21:25:25.960972Z",
     "iopub.status.idle": "2023-10-27T21:25:39.009787Z",
     "shell.execute_reply": "2023-10-27T21:25:39.009262Z"
    },
    "papermill": {
     "duration": 13.054645,
     "end_time": "2023-10-27T21:25:39.011232",
     "exception": false,
     "start_time": "2023-10-27T21:25:25.956587",
     "status": "completed"
    },
    "tags": []
   },
   "outputs": [],
   "source": [
    "# one beta of inudcer1, inducer1 concentration, inhibitor, and inhibitor concentration all as 1 beta term\n",
    "feature_df[\"oneb_Metadata_Treatment_Dose_Inhibitor_Dose\"] = (\n",
    "    feature_df[\"Metadata_Treatment\"]\n",
    "    + \"_\"\n",
    "    + feature_df[\"Metadata_Dose\"].astype(str)\n",
    "    # + \"_\"\n",
    "    # + feature_df['Metadata_inducer1_concentration_unit'].astype(str)\n",
    "    + \"_\"\n",
    "    + feature_df[\"Metadata_inhibitor\"].astype(str)\n",
    "    + \"_\"\n",
    "    + feature_df[\"Metadata_inhibitor_concentration\"].astype(str)\n",
    "    + \"_\"\n",
    "    + feature_df[\"Metadata_inhibitor_concentration_unit\"].astype(str)\n",
    ").astype(str)\n",
    "\n",
    "\n",
    "# two beta of inducer1, inhibitor, and inhibitor concentration all as 1 beta term + inducer1 concentration as 2nd beta term\n",
    "feature_df[\"twob_Metadata_Treatment_Dose_Inhibitor_Dose\"] = (\n",
    "    feature_df[\"Metadata_Treatment\"]\n",
    "    + \"_\"\n",
    "    + feature_df[\"Metadata_inhibitor\"].astype(str)\n",
    "    + \"_\"\n",
    "    + feature_df[\"Metadata_inhibitor_concentration\"].astype(str)\n",
    "    + \"__\"\n",
    "    + feature_df[\"Metadata_Dose\"].astype(str)\n",
    ").astype(str)\n",
    "\n",
    "# three beta of inducer 1 as 1 beta term, inducer1 concentration as 2nd beta term, inhibitor and inhibitor concentration as 3rd beta term\n",
    "feature_df[\"threeb_Metadata_Treatment_Dose_Inhibitor_Dose\"] = (\n",
    "    feature_df[\"Metadata_Treatment\"]\n",
    "    + \"__\"\n",
    "    + feature_df[\"Metadata_Dose\"].astype(str)\n",
    "    + \"__\"\n",
    "    + feature_df[\"Metadata_inducer1_concentration_unit\"].astype(str)\n",
    "    + \"_\"\n",
    "    + feature_df[\"Metadata_inhibitor\"].astype(str)\n",
    "    + \"_\"\n",
    "    + feature_df[\"Metadata_inhibitor_concentration\"].astype(str)\n",
    ").astype(str)\n",
    "\n",
    "# four beta of inducer 1 as 1 beta term, inducer1 concentration as 2nd beta term, inhibitor as 3rd beta term, and inhibitor concentration as 4th beta term\n",
    "feature_df[\"fourb_Metadata_Treatment_Dose_Inhibitor_Dose\"] = (\n",
    "    feature_df[\"Metadata_Treatment\"]\n",
    "    + \"__\"\n",
    "    + feature_df[\"Metadata_Dose\"].astype(str)\n",
    "    + \"__\"\n",
    "    + feature_df[\"Metadata_inducer1_concentration_unit\"].astype(str)\n",
    "    + \"_\"\n",
    "    + feature_df[\"Metadata_inhibitor\"].astype(str)\n",
    "    + \"__\"\n",
    "    + feature_df[\"Metadata_inhibitor_concentration\"].astype(str)\n",
    ").astype(str)"
   ]
  },
  {
   "cell_type": "code",
   "execution_count": 16,
   "id": "4d5a6c1f",
   "metadata": {
    "execution": {
     "iopub.execute_input": "2023-10-27T21:25:39.023471Z",
     "iopub.status.busy": "2023-10-27T21:25:39.023134Z",
     "iopub.status.idle": "2023-10-27T21:25:51.008811Z",
     "shell.execute_reply": "2023-10-27T21:25:51.008311Z"
    },
    "papermill": {
     "duration": 11.991416,
     "end_time": "2023-10-27T21:25:51.010080",
     "exception": false,
     "start_time": "2023-10-27T21:25:39.018664",
     "status": "completed"
    },
    "tags": []
   },
   "outputs": [
    {
     "name": "stdout",
     "output_type": "stream",
     "text": [
      "None 0\n"
     ]
    },
    {
     "name": "stdout",
     "output_type": "stream",
     "text": [
      "µ u\n"
     ]
    },
    {
     "name": "stdout",
     "output_type": "stream",
     "text": [
      "nan 0\n"
     ]
    }
   ],
   "source": [
    "replacement_dict = {\n",
    "    \"None\": \"0\",\n",
    "    \"µ\": \"u\",\n",
    "    \"nan\": \"0\",\n",
    "}\n",
    "for pattern, replacement in replacement_dict.items():\n",
    "    print(pattern, replacement)\n",
    "    feature_df[\"oneb_Metadata_Treatment_Dose_Inhibitor_Dose\"] = feature_df[\n",
    "        \"oneb_Metadata_Treatment_Dose_Inhibitor_Dose\"\n",
    "    ].replace(to_replace=str(pattern), value=str(replacement), regex=True)"
   ]
  },
  {
   "cell_type": "code",
   "execution_count": 17,
   "id": "d6110d9d",
   "metadata": {
    "execution": {
     "iopub.execute_input": "2023-10-27T21:25:51.023185Z",
     "iopub.status.busy": "2023-10-27T21:25:51.022907Z",
     "iopub.status.idle": "2023-10-27T21:25:52.158631Z",
     "shell.execute_reply": "2023-10-27T21:25:52.158126Z"
    },
    "papermill": {
     "duration": 1.142078,
     "end_time": "2023-10-27T21:25:52.160121",
     "exception": false,
     "start_time": "2023-10-27T21:25:51.018043",
     "status": "completed"
    },
    "tags": []
   },
   "outputs": [],
   "source": [
    "feature_df[\"oneb_Metadata_Treatment_Dose_Inhibitor_Dose\"] = feature_df[\n",
    "    \"oneb_Metadata_Treatment_Dose_Inhibitor_Dose\"\n",
    "].str.replace(\"media_ctr_0.0_0_Media_ctr_0_0\", \"media_ctr_0.0_0_Media_ctr_0.0_0\")"
   ]
  },
  {
   "cell_type": "code",
   "execution_count": 18,
   "id": "ae6971b5",
   "metadata": {
    "execution": {
     "iopub.execute_input": "2023-10-27T21:25:52.170473Z",
     "iopub.status.busy": "2023-10-27T21:25:52.170117Z",
     "iopub.status.idle": "2023-10-27T21:25:55.501834Z",
     "shell.execute_reply": "2023-10-27T21:25:55.501319Z"
    },
    "papermill": {
     "duration": 3.337744,
     "end_time": "2023-10-27T21:25:55.503413",
     "exception": false,
     "start_time": "2023-10-27T21:25:52.165669",
     "status": "completed"
    },
    "tags": []
   },
   "outputs": [],
   "source": [
    "# need to convert to strings to save as parquet\n",
    "# if the column is an object then convert it to a string\n",
    "for column in feature_df.columns:\n",
    "    if feature_df[column].dtype == \"object\":\n",
    "        feature_df[column] = feature_df[column].astype(str)"
   ]
  },
  {
   "cell_type": "code",
   "execution_count": 19,
   "id": "28cbc3d6",
   "metadata": {
    "execution": {
     "iopub.execute_input": "2023-10-27T21:25:55.512551Z",
     "iopub.status.busy": "2023-10-27T21:25:55.512176Z",
     "iopub.status.idle": "2023-10-27T21:26:59.378030Z",
     "shell.execute_reply": "2023-10-27T21:26:59.377377Z"
    },
    "papermill": {
     "duration": 63.871985,
     "end_time": "2023-10-27T21:26:59.379578",
     "exception": false,
     "start_time": "2023-10-27T21:25:55.507593",
     "status": "completed"
    },
    "tags": []
   },
   "outputs": [],
   "source": [
    "# write to parquet file\n",
    "feature_df.to_parquet(feature_df_out_path)"
   ]
  }
 ],
 "metadata": {
  "kernelspec": {
   "display_name": "Interstellar",
   "language": "python",
   "name": "python3"
  },
  "language_info": {
   "codemirror_mode": {
    "name": "ipython",
    "version": 3
   },
   "file_extension": ".py",
   "mimetype": "text/x-python",
   "name": "python",
   "nbconvert_exporter": "python",
   "pygments_lexer": "ipython3",
   "version": "3.10.12"
  },
  "papermill": {
   "default_parameters": {},
   "duration": 230.874522,
   "end_time": "2023-10-27T21:27:00.805295",
   "environment_variables": {},
   "exception": null,
   "input_path": "1.preprocessing_morphology_data.ipynb",
   "output_path": "1.preprocessing_morphology_data.ipynb",
   "parameters": {
    "cell_type": "PBMC"
   },
   "start_time": "2023-10-27T21:23:09.930773",
   "version": "2.4.0"
  },
  "vscode": {
   "interpreter": {
    "hash": "72ae02083a9ca7d143c492d1aec380c7bf553ec51bd66e90e72bba65228121b6"
   }
  }
 },
 "nbformat": 4,
 "nbformat_minor": 5
}