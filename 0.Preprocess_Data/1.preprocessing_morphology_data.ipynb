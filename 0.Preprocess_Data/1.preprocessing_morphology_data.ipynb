{
    "attachments": {},
    "cell_type": "code",
    "cells": [
        {
            "cell_type": "markdown",
            "id": "d040972a",
            "metadata": {
                "papermill": {
                    "duration": 0.005433,
                    "end_time": "2023-12-31T05:46:29.728457",
                    "exception": false,
                    "start_time": "2023-12-31T05:46:29.723024",
                    "status": "completed"
                },
                "tags": []
            },
            "source": [
                "This noteboook pre-processes the single cell morphology data to be ready for exploratory analysis and machine learning."
            ]
        },
        {
            "cell_type": "code",
            "execution_count": 1,
            "id": "1ed18d57",
            "metadata": {
                "execution": {
                    "iopub.execute_input": "2023-12-31T05:46:29.735954Z",
                    "iopub.status.busy": "2023-12-31T05:46:29.735387Z",
                    "iopub.status.idle": "2023-12-31T05:46:36.135542Z",
                    "shell.execute_reply": "2023-12-31T05:46:36.135073Z"
                },
                "papermill": {
                    "duration": 6.405721,
                    "end_time": "2023-12-31T05:46:36.137373",
                    "exception": false,
                    "start_time": "2023-12-31T05:46:29.731652",
                    "status": "completed"
                },
                "tags": []
            },
            "outputs": [],
            "source": [
                "import pathlib\n",
                "\n",
                "import numpy as np\n",
                "import pandas as pd\n",
                "import papermill as pm\n",
                "import pyarrow as pa\n",
                "import pyarrow.parquet as pq"
            ]
        },
        {
            "cell_type": "code",
            "execution_count": 2,
            "id": "27fcff13",
            "metadata": {
                "execution": {
                    "iopub.execute_input": "2023-12-31T05:46:36.149620Z",
                    "iopub.status.busy": "2023-12-31T05:46:36.149293Z",
                    "iopub.status.idle": "2023-12-31T05:46:36.151595Z",
                    "shell.execute_reply": "2023-12-31T05:46:36.151215Z"
                },
                "papermill": {
                    "duration": 0.007291,
                    "end_time": "2023-12-31T05:46:36.152511",
                    "exception": false,
                    "start_time": "2023-12-31T05:46:36.145220",
                    "status": "completed"
                },
                "tags": [
                    "injected-parameters"
                ]
            },
            "outputs": [],
            "source": [
                "# Parameters\n",
                "cell_type = \"PBMC\""
            ]
        },
        {
            "cell_type": "code",
            "execution_count": 3,
            "id": "7e41be25",
            "metadata": {
                "execution": {
                    "iopub.execute_input": "2023-12-31T05:46:36.159157Z",
                    "iopub.status.busy": "2023-12-31T05:46:36.158807Z",
                    "iopub.status.idle": "2023-12-31T05:47:22.844486Z",
                    "shell.execute_reply": "2023-12-31T05:47:22.843811Z"
                },
                "papermill": {
                    "duration": 46.690622,
                    "end_time": "2023-12-31T05:47:22.845993",
                    "exception": false,
                    "start_time": "2023-12-31T05:46:36.155371",
                    "status": "completed"
                },
                "tags": []
            },
            "outputs": [],
            "source": [
                "# Define inputs\n",
                "feature_file = pathlib.Path(f\"../data/{cell_type}_sc_norm_fs.parquet\")\n",
                "feature_df = pd.read_parquet(feature_file)"
            ]
        },
        {
            "cell_type": "code",
            "execution_count": 4,
            "id": "128e48fe",
            "metadata": {
                "execution": {
                    "iopub.execute_input": "2023-12-31T05:47:22.857114Z",
                    "iopub.status.busy": "2023-12-31T05:47:22.856898Z",
                    "iopub.status.idle": "2023-12-31T05:47:43.664893Z",
                    "shell.execute_reply": "2023-12-31T05:47:43.664250Z"
                },
                "papermill": {
                    "duration": 20.813504,
                    "end_time": "2023-12-31T05:47:43.666448",
                    "exception": false,
                    "start_time": "2023-12-31T05:47:22.852944",
                    "status": "completed"
                },
                "tags": []
            },
            "outputs": [],
            "source": [
                "# replace all \" \" with \"_\" in all values of the dataframe\n",
                "feature_df = feature_df.replace(to_replace=\" \", value=\"_\", regex=True)"
            ]
        },
        {
            "cell_type": "code",
            "execution_count": 5,
            "id": "aa6d40a8",
            "metadata": {
                "execution": {
                    "iopub.execute_input": "2023-12-31T05:47:43.678643Z",
                    "iopub.status.busy": "2023-12-31T05:47:43.678054Z",
                    "iopub.status.idle": "2023-12-31T05:47:44.543600Z",
                    "shell.execute_reply": "2023-12-31T05:47:44.542978Z"
                },
                "papermill": {
                    "duration": 0.87091,
                    "end_time": "2023-12-31T05:47:44.544881",
                    "exception": false,
                    "start_time": "2023-12-31T05:47:43.673971",
                    "status": "completed"
                },
                "tags": []
            },
            "outputs": [],
            "source": [
                "# remove uM in each row of the Metadata_inducer1_concentration column\n",
                "feature_df[\"Metadata_inducer1_concentration\"] = feature_df[\n",
                "    \"Metadata_inducer1_concentration\"\n",
                "].str.replace(\"µM\", \"\")"
            ]
        },
        {
            "cell_type": "code",
            "execution_count": 6,
            "id": "ba5ba736",
            "metadata": {
                "execution": {
                    "iopub.execute_input": "2023-12-31T05:47:44.552463Z",
                    "iopub.status.busy": "2023-12-31T05:47:44.551974Z",
                    "iopub.status.idle": "2023-12-31T05:47:44.653020Z",
                    "shell.execute_reply": "2023-12-31T05:47:44.652505Z"
                },
                "papermill": {
                    "duration": 0.105719,
                    "end_time": "2023-12-31T05:47:44.653988",
                    "exception": false,
                    "start_time": "2023-12-31T05:47:44.548269",
                    "status": "completed"
                },
                "tags": []
            },
            "outputs": [
                {
                    "data": {
                        "text/plain": [
                            "array(['0.010', '0.100', '100.000', None, '1.000', '10.000', '2.5',\n",
                            "       '2.500', '5.000', '20.000'], dtype=object)"
                        ]
                    },
                    "execution_count": 6,
                    "metadata": {},
                    "output_type": "execute_result"
                }
            ],
            "source": [
                "feature_df[\"Metadata_inducer1_concentration\"].unique()"
            ]
        },
        {
            "cell_type": "code",
            "execution_count": 7,
            "id": "8418a230",
            "metadata": {
                "execution": {
                    "iopub.execute_input": "2023-12-31T05:47:44.660974Z",
                    "iopub.status.busy": "2023-12-31T05:47:44.660756Z",
                    "iopub.status.idle": "2023-12-31T05:47:44.663438Z",
                    "shell.execute_reply": "2023-12-31T05:47:44.662966Z"
                },
                "papermill": {
                    "duration": 0.007293,
                    "end_time": "2023-12-31T05:47:44.664411",
                    "exception": false,
                    "start_time": "2023-12-31T05:47:44.657118",
                    "status": "completed"
                },
                "tags": []
            },
            "outputs": [],
            "source": [
                "# define output file path\n",
                "feature_df_out_path = pathlib.Path(f\"../data/{cell_type}_preprocessed_sc_norm.parquet\")"
            ]
        },
        {
            "cell_type": "code",
            "execution_count": 8,
            "id": "79df4337",
            "metadata": {
                "execution": {
                    "iopub.execute_input": "2023-12-31T05:47:44.671019Z",
                    "iopub.status.busy": "2023-12-31T05:47:44.670815Z",
                    "iopub.status.idle": "2023-12-31T05:47:44.735677Z",
                    "shell.execute_reply": "2023-12-31T05:47:44.734560Z"
                },
                "papermill": {
                    "duration": 0.069707,
                    "end_time": "2023-12-31T05:47:44.737021",
                    "exception": false,
                    "start_time": "2023-12-31T05:47:44.667314",
                    "status": "completed"
                },
                "tags": []
            },
            "outputs": [
                {
                    "name": "stdout",
                    "output_type": "stream",
                    "text": [
                        "(5598682, 1267)\n"
                    ]
                },
                {
                    "data": {
                        "text/html": [
                            "<div>\n",
                            "<style scoped>\n",
                            "    .dataframe tbody tr th:only-of-type {\n",
                            "        vertical-align: middle;\n",
                            "    }\n",
                            "\n",
                            "    .dataframe tbody tr th {\n",
                            "        vertical-align: top;\n",
                            "    }\n",
                            "\n",
                            "    .dataframe thead th {\n",
                            "        text-align: right;\n",
                            "    }\n",
                            "</style>\n",
                            "<table border=\"1\" class=\"dataframe\">\n",
                            "  <thead>\n",
                            "    <tr style=\"text-align: right;\">\n",
                            "      <th></th>\n",
                            "      <th>Metadata_cell_type</th>\n",
                            "      <th>Metadata_Well</th>\n",
                            "      <th>Metadata_number_of_singlecells</th>\n",
                            "      <th>Metadata_Site</th>\n",
                            "      <th>Metadata_incubation inducer (h)</th>\n",
                            "      <th>Metadata_inhibitor</th>\n",
                            "      <th>Metadata_inhibitor_concentration</th>\n",
                            "      <th>Metadata_inhibitor_concentration_unit</th>\n",
                            "      <th>Metadata_inducer1</th>\n",
                            "      <th>Metadata_inducer1_concentration</th>\n",
                            "      <th>...</th>\n",
                            "      <th>Nuclei_Texture_InverseDifferenceMoment_CorrER_3_03_256</th>\n",
                            "      <th>Nuclei_Texture_InverseDifferenceMoment_CorrMito_3_02_256</th>\n",
                            "      <th>Nuclei_Texture_InverseDifferenceMoment_CorrPM_3_00_256</th>\n",
                            "      <th>Nuclei_Texture_InverseDifferenceMoment_CorrPM_3_01_256</th>\n",
                            "      <th>Nuclei_Texture_InverseDifferenceMoment_CorrPM_3_02_256</th>\n",
                            "      <th>Nuclei_Texture_InverseDifferenceMoment_CorrPM_3_03_256</th>\n",
                            "      <th>Nuclei_Texture_SumEntropy_CorrPM_3_01_256</th>\n",
                            "      <th>Nuclei_Texture_SumVariance_CorrPM_3_01_256</th>\n",
                            "      <th>Nuclei_Texture_Variance_CorrER_3_00_256</th>\n",
                            "      <th>Nuclei_Texture_Variance_CorrGasdermin_3_00_256</th>\n",
                            "    </tr>\n",
                            "  </thead>\n",
                            "  <tbody>\n",
                            "    <tr>\n",
                            "      <th>0</th>\n",
                            "      <td>PBMC</td>\n",
                            "      <td>B02</td>\n",
                            "      <td>34618</td>\n",
                            "      <td>1</td>\n",
                            "      <td>6</td>\n",
                            "      <td>DMSO</td>\n",
                            "      <td>0.025</td>\n",
                            "      <td>%</td>\n",
                            "      <td>LPS</td>\n",
                            "      <td>0.010</td>\n",
                            "      <td>...</td>\n",
                            "      <td>1.086193</td>\n",
                            "      <td>0.288105</td>\n",
                            "      <td>0.262717</td>\n",
                            "      <td>0.307292</td>\n",
                            "      <td>0.127749</td>\n",
                            "      <td>0.923354</td>\n",
                            "      <td>-1.279059</td>\n",
                            "      <td>-0.164071</td>\n",
                            "      <td>-0.176928</td>\n",
                            "      <td>-0.182007</td>\n",
                            "    </tr>\n",
                            "    <tr>\n",
                            "      <th>1</th>\n",
                            "      <td>PBMC</td>\n",
                            "      <td>B02</td>\n",
                            "      <td>34618</td>\n",
                            "      <td>1</td>\n",
                            "      <td>6</td>\n",
                            "      <td>DMSO</td>\n",
                            "      <td>0.025</td>\n",
                            "      <td>%</td>\n",
                            "      <td>LPS</td>\n",
                            "      <td>0.010</td>\n",
                            "      <td>...</td>\n",
                            "      <td>1.326095</td>\n",
                            "      <td>0.584946</td>\n",
                            "      <td>0.133380</td>\n",
                            "      <td>0.729722</td>\n",
                            "      <td>0.267700</td>\n",
                            "      <td>-0.122157</td>\n",
                            "      <td>0.108250</td>\n",
                            "      <td>-0.068544</td>\n",
                            "      <td>-0.205295</td>\n",
                            "      <td>-0.197257</td>\n",
                            "    </tr>\n",
                            "    <tr>\n",
                            "      <th>2</th>\n",
                            "      <td>PBMC</td>\n",
                            "      <td>B02</td>\n",
                            "      <td>34618</td>\n",
                            "      <td>1</td>\n",
                            "      <td>6</td>\n",
                            "      <td>DMSO</td>\n",
                            "      <td>0.025</td>\n",
                            "      <td>%</td>\n",
                            "      <td>LPS</td>\n",
                            "      <td>0.010</td>\n",
                            "      <td>...</td>\n",
                            "      <td>0.908872</td>\n",
                            "      <td>0.230972</td>\n",
                            "      <td>0.994988</td>\n",
                            "      <td>0.866751</td>\n",
                            "      <td>0.636846</td>\n",
                            "      <td>0.874833</td>\n",
                            "      <td>-0.929131</td>\n",
                            "      <td>-0.158906</td>\n",
                            "      <td>-0.198572</td>\n",
                            "      <td>-0.185623</td>\n",
                            "    </tr>\n",
                            "    <tr>\n",
                            "      <th>3</th>\n",
                            "      <td>PBMC</td>\n",
                            "      <td>B02</td>\n",
                            "      <td>34618</td>\n",
                            "      <td>1</td>\n",
                            "      <td>6</td>\n",
                            "      <td>DMSO</td>\n",
                            "      <td>0.025</td>\n",
                            "      <td>%</td>\n",
                            "      <td>LPS</td>\n",
                            "      <td>0.010</td>\n",
                            "      <td>...</td>\n",
                            "      <td>0.129185</td>\n",
                            "      <td>1.223301</td>\n",
                            "      <td>0.798990</td>\n",
                            "      <td>0.717814</td>\n",
                            "      <td>0.883606</td>\n",
                            "      <td>0.699406</td>\n",
                            "      <td>-1.227278</td>\n",
                            "      <td>-0.163521</td>\n",
                            "      <td>-0.165140</td>\n",
                            "      <td>-0.174762</td>\n",
                            "    </tr>\n",
                            "    <tr>\n",
                            "      <th>4</th>\n",
                            "      <td>PBMC</td>\n",
                            "      <td>B02</td>\n",
                            "      <td>34618</td>\n",
                            "      <td>1</td>\n",
                            "      <td>6</td>\n",
                            "      <td>DMSO</td>\n",
                            "      <td>0.025</td>\n",
                            "      <td>%</td>\n",
                            "      <td>LPS</td>\n",
                            "      <td>0.010</td>\n",
                            "      <td>...</td>\n",
                            "      <td>-1.393037</td>\n",
                            "      <td>0.476057</td>\n",
                            "      <td>-2.821609</td>\n",
                            "      <td>-1.176345</td>\n",
                            "      <td>-1.087953</td>\n",
                            "      <td>-2.883989</td>\n",
                            "      <td>2.153910</td>\n",
                            "      <td>0.586555</td>\n",
                            "      <td>0.258023</td>\n",
                            "      <td>0.218118</td>\n",
                            "    </tr>\n",
                            "  </tbody>\n",
                            "</table>\n",
                            "<p>5 rows × 1267 columns</p>\n",
                            "</div>"
                        ],
                        "text/plain": [
                            "  Metadata_cell_type Metadata_Well  Metadata_number_of_singlecells  \\\n",
                            "0               PBMC           B02                           34618   \n",
                            "1               PBMC           B02                           34618   \n",
                            "2               PBMC           B02                           34618   \n",
                            "3               PBMC           B02                           34618   \n",
                            "4               PBMC           B02                           34618   \n",
                            "\n",
                            "   Metadata_Site  Metadata_incubation inducer (h) Metadata_inhibitor  \\\n",
                            "0              1                                6               DMSO   \n",
                            "1              1                                6               DMSO   \n",
                            "2              1                                6               DMSO   \n",
                            "3              1                                6               DMSO   \n",
                            "4              1                                6               DMSO   \n",
                            "\n",
                            "   Metadata_inhibitor_concentration Metadata_inhibitor_concentration_unit  \\\n",
                            "0                             0.025                                     %   \n",
                            "1                             0.025                                     %   \n",
                            "2                             0.025                                     %   \n",
                            "3                             0.025                                     %   \n",
                            "4                             0.025                                     %   \n",
                            "\n",
                            "  Metadata_inducer1 Metadata_inducer1_concentration  ...  \\\n",
                            "0               LPS                           0.010  ...   \n",
                            "1               LPS                           0.010  ...   \n",
                            "2               LPS                           0.010  ...   \n",
                            "3               LPS                           0.010  ...   \n",
                            "4               LPS                           0.010  ...   \n",
                            "\n",
                            "  Nuclei_Texture_InverseDifferenceMoment_CorrER_3_03_256  \\\n",
                            "0                                           1.086193       \n",
                            "1                                           1.326095       \n",
                            "2                                           0.908872       \n",
                            "3                                           0.129185       \n",
                            "4                                          -1.393037       \n",
                            "\n",
                            "  Nuclei_Texture_InverseDifferenceMoment_CorrMito_3_02_256  \\\n",
                            "0                                           0.288105         \n",
                            "1                                           0.584946         \n",
                            "2                                           0.230972         \n",
                            "3                                           1.223301         \n",
                            "4                                           0.476057         \n",
                            "\n",
                            "   Nuclei_Texture_InverseDifferenceMoment_CorrPM_3_00_256  \\\n",
                            "0                                           0.262717        \n",
                            "1                                           0.133380        \n",
                            "2                                           0.994988        \n",
                            "3                                           0.798990        \n",
                            "4                                          -2.821609        \n",
                            "\n",
                            "  Nuclei_Texture_InverseDifferenceMoment_CorrPM_3_01_256  \\\n",
                            "0                                           0.307292       \n",
                            "1                                           0.729722       \n",
                            "2                                           0.866751       \n",
                            "3                                           0.717814       \n",
                            "4                                          -1.176345       \n",
                            "\n",
                            "   Nuclei_Texture_InverseDifferenceMoment_CorrPM_3_02_256  \\\n",
                            "0                                           0.127749        \n",
                            "1                                           0.267700        \n",
                            "2                                           0.636846        \n",
                            "3                                           0.883606        \n",
                            "4                                          -1.087953        \n",
                            "\n",
                            "  Nuclei_Texture_InverseDifferenceMoment_CorrPM_3_03_256  \\\n",
                            "0                                           0.923354       \n",
                            "1                                          -0.122157       \n",
                            "2                                           0.874833       \n",
                            "3                                           0.699406       \n",
                            "4                                          -2.883989       \n",
                            "\n",
                            "   Nuclei_Texture_SumEntropy_CorrPM_3_01_256  \\\n",
                            "0                                  -1.279059   \n",
                            "1                                   0.108250   \n",
                            "2                                  -0.929131   \n",
                            "3                                  -1.227278   \n",
                            "4                                   2.153910   \n",
                            "\n",
                            "   Nuclei_Texture_SumVariance_CorrPM_3_01_256  \\\n",
                            "0                                   -0.164071   \n",
                            "1                                   -0.068544   \n",
                            "2                                   -0.158906   \n",
                            "3                                   -0.163521   \n",
                            "4                                    0.586555   \n",
                            "\n",
                            "   Nuclei_Texture_Variance_CorrER_3_00_256  \\\n",
                            "0                                -0.176928   \n",
                            "1                                -0.205295   \n",
                            "2                                -0.198572   \n",
                            "3                                -0.165140   \n",
                            "4                                 0.258023   \n",
                            "\n",
                            "   Nuclei_Texture_Variance_CorrGasdermin_3_00_256  \n",
                            "0                                       -0.182007  \n",
                            "1                                       -0.197257  \n",
                            "2                                       -0.185623  \n",
                            "3                                       -0.174762  \n",
                            "4                                        0.218118  \n",
                            "\n",
                            "[5 rows x 1267 columns]"
                        ]
                    },
                    "execution_count": 8,
                    "metadata": {},
                    "output_type": "execute_result"
                }
            ],
            "source": [
                "print(feature_df.shape)\n",
                "feature_df.head()"
            ]
        },
        {
            "cell_type": "code",
            "execution_count": 9,
            "id": "029dfdb7",
            "metadata": {
                "execution": {
                    "iopub.execute_input": "2023-12-31T05:47:44.745612Z",
                    "iopub.status.busy": "2023-12-31T05:47:44.744787Z",
                    "iopub.status.idle": "2023-12-31T05:47:51.360627Z",
                    "shell.execute_reply": "2023-12-31T05:47:51.360054Z"
                },
                "papermill": {
                    "duration": 6.621331,
                    "end_time": "2023-12-31T05:47:51.361705",
                    "exception": false,
                    "start_time": "2023-12-31T05:47:44.740374",
                    "status": "completed"
                },
                "tags": []
            },
            "outputs": [
                {
                    "name": "stdout",
                    "output_type": "stream",
                    "text": [
                        "(5598682, 1265)\n"
                    ]
                },
                {
                    "data": {
                        "text/html": [
                            "<div>\n",
                            "<style scoped>\n",
                            "    .dataframe tbody tr th:only-of-type {\n",
                            "        vertical-align: middle;\n",
                            "    }\n",
                            "\n",
                            "    .dataframe tbody tr th {\n",
                            "        vertical-align: top;\n",
                            "    }\n",
                            "\n",
                            "    .dataframe thead th {\n",
                            "        text-align: right;\n",
                            "    }\n",
                            "</style>\n",
                            "<table border=\"1\" class=\"dataframe\">\n",
                            "  <thead>\n",
                            "    <tr style=\"text-align: right;\">\n",
                            "      <th></th>\n",
                            "      <th>Metadata_cell_type</th>\n",
                            "      <th>Metadata_Well</th>\n",
                            "      <th>Metadata_number_of_singlecells</th>\n",
                            "      <th>Metadata_Site</th>\n",
                            "      <th>Metadata_incubation inducer (h)</th>\n",
                            "      <th>Metadata_inhibitor</th>\n",
                            "      <th>Metadata_inhibitor_concentration</th>\n",
                            "      <th>Metadata_inhibitor_concentration_unit</th>\n",
                            "      <th>Metadata_inducer1</th>\n",
                            "      <th>Metadata_inducer1_concentration</th>\n",
                            "      <th>...</th>\n",
                            "      <th>Nuclei_Texture_InverseDifferenceMoment_CorrER_3_03_256</th>\n",
                            "      <th>Nuclei_Texture_InverseDifferenceMoment_CorrMito_3_02_256</th>\n",
                            "      <th>Nuclei_Texture_InverseDifferenceMoment_CorrPM_3_00_256</th>\n",
                            "      <th>Nuclei_Texture_InverseDifferenceMoment_CorrPM_3_01_256</th>\n",
                            "      <th>Nuclei_Texture_InverseDifferenceMoment_CorrPM_3_02_256</th>\n",
                            "      <th>Nuclei_Texture_InverseDifferenceMoment_CorrPM_3_03_256</th>\n",
                            "      <th>Nuclei_Texture_SumEntropy_CorrPM_3_01_256</th>\n",
                            "      <th>Nuclei_Texture_SumVariance_CorrPM_3_01_256</th>\n",
                            "      <th>Nuclei_Texture_Variance_CorrER_3_00_256</th>\n",
                            "      <th>Nuclei_Texture_Variance_CorrGasdermin_3_00_256</th>\n",
                            "    </tr>\n",
                            "  </thead>\n",
                            "  <tbody>\n",
                            "    <tr>\n",
                            "      <th>0</th>\n",
                            "      <td>PBMC</td>\n",
                            "      <td>B02</td>\n",
                            "      <td>34618</td>\n",
                            "      <td>1</td>\n",
                            "      <td>6</td>\n",
                            "      <td>DMSO</td>\n",
                            "      <td>0.025</td>\n",
                            "      <td>%</td>\n",
                            "      <td>LPS</td>\n",
                            "      <td>0.010</td>\n",
                            "      <td>...</td>\n",
                            "      <td>1.086193</td>\n",
                            "      <td>0.288105</td>\n",
                            "      <td>0.262717</td>\n",
                            "      <td>0.307292</td>\n",
                            "      <td>0.127749</td>\n",
                            "      <td>0.923354</td>\n",
                            "      <td>-1.279059</td>\n",
                            "      <td>-0.164071</td>\n",
                            "      <td>-0.176928</td>\n",
                            "      <td>-0.182007</td>\n",
                            "    </tr>\n",
                            "    <tr>\n",
                            "      <th>1</th>\n",
                            "      <td>PBMC</td>\n",
                            "      <td>B02</td>\n",
                            "      <td>34618</td>\n",
                            "      <td>1</td>\n",
                            "      <td>6</td>\n",
                            "      <td>DMSO</td>\n",
                            "      <td>0.025</td>\n",
                            "      <td>%</td>\n",
                            "      <td>LPS</td>\n",
                            "      <td>0.010</td>\n",
                            "      <td>...</td>\n",
                            "      <td>1.326095</td>\n",
                            "      <td>0.584946</td>\n",
                            "      <td>0.133380</td>\n",
                            "      <td>0.729722</td>\n",
                            "      <td>0.267700</td>\n",
                            "      <td>-0.122157</td>\n",
                            "      <td>0.108250</td>\n",
                            "      <td>-0.068544</td>\n",
                            "      <td>-0.205295</td>\n",
                            "      <td>-0.197257</td>\n",
                            "    </tr>\n",
                            "    <tr>\n",
                            "      <th>2</th>\n",
                            "      <td>PBMC</td>\n",
                            "      <td>B02</td>\n",
                            "      <td>34618</td>\n",
                            "      <td>1</td>\n",
                            "      <td>6</td>\n",
                            "      <td>DMSO</td>\n",
                            "      <td>0.025</td>\n",
                            "      <td>%</td>\n",
                            "      <td>LPS</td>\n",
                            "      <td>0.010</td>\n",
                            "      <td>...</td>\n",
                            "      <td>0.908872</td>\n",
                            "      <td>0.230972</td>\n",
                            "      <td>0.994988</td>\n",
                            "      <td>0.866751</td>\n",
                            "      <td>0.636846</td>\n",
                            "      <td>0.874833</td>\n",
                            "      <td>-0.929131</td>\n",
                            "      <td>-0.158906</td>\n",
                            "      <td>-0.198572</td>\n",
                            "      <td>-0.185623</td>\n",
                            "    </tr>\n",
                            "    <tr>\n",
                            "      <th>3</th>\n",
                            "      <td>PBMC</td>\n",
                            "      <td>B02</td>\n",
                            "      <td>34618</td>\n",
                            "      <td>1</td>\n",
                            "      <td>6</td>\n",
                            "      <td>DMSO</td>\n",
                            "      <td>0.025</td>\n",
                            "      <td>%</td>\n",
                            "      <td>LPS</td>\n",
                            "      <td>0.010</td>\n",
                            "      <td>...</td>\n",
                            "      <td>0.129185</td>\n",
                            "      <td>1.223301</td>\n",
                            "      <td>0.798990</td>\n",
                            "      <td>0.717814</td>\n",
                            "      <td>0.883606</td>\n",
                            "      <td>0.699406</td>\n",
                            "      <td>-1.227278</td>\n",
                            "      <td>-0.163521</td>\n",
                            "      <td>-0.165140</td>\n",
                            "      <td>-0.174762</td>\n",
                            "    </tr>\n",
                            "    <tr>\n",
                            "      <th>4</th>\n",
                            "      <td>PBMC</td>\n",
                            "      <td>B02</td>\n",
                            "      <td>34618</td>\n",
                            "      <td>1</td>\n",
                            "      <td>6</td>\n",
                            "      <td>DMSO</td>\n",
                            "      <td>0.025</td>\n",
                            "      <td>%</td>\n",
                            "      <td>LPS</td>\n",
                            "      <td>0.010</td>\n",
                            "      <td>...</td>\n",
                            "      <td>-1.393037</td>\n",
                            "      <td>0.476057</td>\n",
                            "      <td>-2.821609</td>\n",
                            "      <td>-1.176345</td>\n",
                            "      <td>-1.087953</td>\n",
                            "      <td>-2.883989</td>\n",
                            "      <td>2.153910</td>\n",
                            "      <td>0.586555</td>\n",
                            "      <td>0.258023</td>\n",
                            "      <td>0.218118</td>\n",
                            "    </tr>\n",
                            "  </tbody>\n",
                            "</table>\n",
                            "<p>5 rows × 1265 columns</p>\n",
                            "</div>"
                        ],
                        "text/plain": [
                            "  Metadata_cell_type Metadata_Well  Metadata_number_of_singlecells  \\\n",
                            "0               PBMC           B02                           34618   \n",
                            "1               PBMC           B02                           34618   \n",
                            "2               PBMC           B02                           34618   \n",
                            "3               PBMC           B02                           34618   \n",
                            "4               PBMC           B02                           34618   \n",
                            "\n",
                            "   Metadata_Site  Metadata_incubation inducer (h) Metadata_inhibitor  \\\n",
                            "0              1                                6               DMSO   \n",
                            "1              1                                6               DMSO   \n",
                            "2              1                                6               DMSO   \n",
                            "3              1                                6               DMSO   \n",
                            "4              1                                6               DMSO   \n",
                            "\n",
                            "   Metadata_inhibitor_concentration Metadata_inhibitor_concentration_unit  \\\n",
                            "0                             0.025                                     %   \n",
                            "1                             0.025                                     %   \n",
                            "2                             0.025                                     %   \n",
                            "3                             0.025                                     %   \n",
                            "4                             0.025                                     %   \n",
                            "\n",
                            "  Metadata_inducer1 Metadata_inducer1_concentration  ...  \\\n",
                            "0               LPS                           0.010  ...   \n",
                            "1               LPS                           0.010  ...   \n",
                            "2               LPS                           0.010  ...   \n",
                            "3               LPS                           0.010  ...   \n",
                            "4               LPS                           0.010  ...   \n",
                            "\n",
                            "  Nuclei_Texture_InverseDifferenceMoment_CorrER_3_03_256  \\\n",
                            "0                                           1.086193       \n",
                            "1                                           1.326095       \n",
                            "2                                           0.908872       \n",
                            "3                                           0.129185       \n",
                            "4                                          -1.393037       \n",
                            "\n",
                            "  Nuclei_Texture_InverseDifferenceMoment_CorrMito_3_02_256  \\\n",
                            "0                                           0.288105         \n",
                            "1                                           0.584946         \n",
                            "2                                           0.230972         \n",
                            "3                                           1.223301         \n",
                            "4                                           0.476057         \n",
                            "\n",
                            "   Nuclei_Texture_InverseDifferenceMoment_CorrPM_3_00_256  \\\n",
                            "0                                           0.262717        \n",
                            "1                                           0.133380        \n",
                            "2                                           0.994988        \n",
                            "3                                           0.798990        \n",
                            "4                                          -2.821609        \n",
                            "\n",
                            "  Nuclei_Texture_InverseDifferenceMoment_CorrPM_3_01_256  \\\n",
                            "0                                           0.307292       \n",
                            "1                                           0.729722       \n",
                            "2                                           0.866751       \n",
                            "3                                           0.717814       \n",
                            "4                                          -1.176345       \n",
                            "\n",
                            "   Nuclei_Texture_InverseDifferenceMoment_CorrPM_3_02_256  \\\n",
                            "0                                           0.127749        \n",
                            "1                                           0.267700        \n",
                            "2                                           0.636846        \n",
                            "3                                           0.883606        \n",
                            "4                                          -1.087953        \n",
                            "\n",
                            "  Nuclei_Texture_InverseDifferenceMoment_CorrPM_3_03_256  \\\n",
                            "0                                           0.923354       \n",
                            "1                                          -0.122157       \n",
                            "2                                           0.874833       \n",
                            "3                                           0.699406       \n",
                            "4                                          -2.883989       \n",
                            "\n",
                            "   Nuclei_Texture_SumEntropy_CorrPM_3_01_256  \\\n",
                            "0                                  -1.279059   \n",
                            "1                                   0.108250   \n",
                            "2                                  -0.929131   \n",
                            "3                                  -1.227278   \n",
                            "4                                   2.153910   \n",
                            "\n",
                            "   Nuclei_Texture_SumVariance_CorrPM_3_01_256  \\\n",
                            "0                                   -0.164071   \n",
                            "1                                   -0.068544   \n",
                            "2                                   -0.158906   \n",
                            "3                                   -0.163521   \n",
                            "4                                    0.586555   \n",
                            "\n",
                            "   Nuclei_Texture_Variance_CorrER_3_00_256  \\\n",
                            "0                                -0.176928   \n",
                            "1                                -0.205295   \n",
                            "2                                -0.198572   \n",
                            "3                                -0.165140   \n",
                            "4                                 0.258023   \n",
                            "\n",
                            "   Nuclei_Texture_Variance_CorrGasdermin_3_00_256  \n",
                            "0                                       -0.182007  \n",
                            "1                                       -0.197257  \n",
                            "2                                       -0.185623  \n",
                            "3                                       -0.174762  \n",
                            "4                                        0.218118  \n",
                            "\n",
                            "[5 rows x 1265 columns]"
                        ]
                    },
                    "execution_count": 9,
                    "metadata": {},
                    "output_type": "execute_result"
                }
            ],
            "source": [
                "# removing costes features as they behave with great variance across all data\n",
                "feature_df = feature_df.drop(feature_df.filter(regex=\"Costes\").columns, axis=1)\n",
                "print(feature_df.shape)\n",
                "feature_df.head()"
            ]
        },
        {
            "cell_type": "code",
            "execution_count": 10,
            "id": "34d8981d",
            "metadata": {
                "execution": {
                    "iopub.execute_input": "2023-12-31T05:47:51.373655Z",
                    "iopub.status.busy": "2023-12-31T05:47:51.373265Z",
                    "iopub.status.idle": "2023-12-31T05:48:32.985685Z",
                    "shell.execute_reply": "2023-12-31T05:48:32.985082Z"
                },
                "papermill": {
                    "duration": 41.618357,
                    "end_time": "2023-12-31T05:48:32.987183",
                    "exception": false,
                    "start_time": "2023-12-31T05:47:51.368826",
                    "status": "completed"
                },
                "tags": []
            },
            "outputs": [],
            "source": [
                "# replacing '/' in treatment dosage column to avoid errors in file interpolation including such strings\n",
                "feature_df = feature_df.replace(to_replace=\"/\", value=\"_per_\", regex=True)"
            ]
        },
        {
            "cell_type": "code",
            "execution_count": 11,
            "id": "018fdc98",
            "metadata": {
                "execution": {
                    "iopub.execute_input": "2023-12-31T05:48:32.998024Z",
                    "iopub.status.busy": "2023-12-31T05:48:32.997563Z",
                    "iopub.status.idle": "2023-12-31T05:48:33.430591Z",
                    "shell.execute_reply": "2023-12-31T05:48:33.429976Z"
                },
                "papermill": {
                    "duration": 0.438489,
                    "end_time": "2023-12-31T05:48:33.431672",
                    "exception": false,
                    "start_time": "2023-12-31T05:48:32.993183",
                    "status": "completed"
                },
                "tags": []
            },
            "outputs": [
                {
                    "name": "stderr",
                    "output_type": "stream",
                    "text": [
                        "/scratch/alpine/mlippincott@xsede.org/.tmp/ipykernel_1884026/2784960678.py:8: SettingWithCopyWarning: \n",
                        "A value is trying to be set on a copy of a slice from a DataFrame\n",
                        "\n",
                        "See the caveats in the documentation: https://pandas.pydata.org/pandas-docs/stable/user_guide/indexing.html#returning-a-view-versus-a-copy\n",
                        "  feature_df[columns_to_fill].fillna(0, inplace=True)\n"
                    ]
                }
            ],
            "source": [
                "# replace nan values with 0\n",
                "\n",
                "columns_to_fill = [\n",
                "    \"Metadata_inducer1_concentration\",\n",
                "    \"Metadata_inducer2_concentration\",\n",
                "    \"Metadata_inhibitor_concentration\",\n",
                "]\n",
                "feature_df[columns_to_fill].fillna(0, inplace=True)"
            ]
        },
        {
            "cell_type": "code",
            "execution_count": 12,
            "id": "70746fb9",
            "metadata": {
                "execution": {
                    "iopub.execute_input": "2023-12-31T05:48:33.441129Z",
                    "iopub.status.busy": "2023-12-31T05:48:33.440734Z",
                    "iopub.status.idle": "2023-12-31T05:48:33.623639Z",
                    "shell.execute_reply": "2023-12-31T05:48:33.623013Z"
                },
                "papermill": {
                    "duration": 0.18861,
                    "end_time": "2023-12-31T05:48:33.625016",
                    "exception": false,
                    "start_time": "2023-12-31T05:48:33.436406",
                    "status": "completed"
                },
                "tags": []
            },
            "outputs": [],
            "source": [
                "# replace all None values with 0\n",
                "feature_df[\"Metadata_inducer1_concentration\"].fillna(0, inplace=True)"
            ]
        },
        {
            "cell_type": "code",
            "execution_count": 13,
            "id": "356e046c",
            "metadata": {
                "execution": {
                    "iopub.execute_input": "2023-12-31T05:48:33.633938Z",
                    "iopub.status.busy": "2023-12-31T05:48:33.633406Z",
                    "iopub.status.idle": "2023-12-31T05:48:39.937932Z",
                    "shell.execute_reply": "2023-12-31T05:48:39.937307Z"
                },
                "papermill": {
                    "duration": 6.310459,
                    "end_time": "2023-12-31T05:48:39.939476",
                    "exception": false,
                    "start_time": "2023-12-31T05:48:33.629017",
                    "status": "completed"
                },
                "tags": []
            },
            "outputs": [],
            "source": [
                "# create a list of columns to be converted to float\n",
                "col_list = [\n",
                "    \"Metadata_inducer1_concentration\",\n",
                "    \"Metadata_inducer2_concentration\",\n",
                "    \"Metadata_inhibitor_concentration\",\n",
                "]\n",
                "# loop through the list and convert each column to float\n",
                "for i in col_list:\n",
                "    feature_df[i] = feature_df[i].apply(\n",
                "        lambda x: f\"{float(x):.3f}\" if float(x) != 0 else float(x)\n",
                "    )"
            ]
        },
        {
            "attachments": {},
            "cell_type": "markdown",
            "id": "d109a042",
            "metadata": {
                "papermill": {
                    "duration": 0.003759,
                    "end_time": "2023-12-31T05:48:39.952153",
                    "exception": false,
                    "start_time": "2023-12-31T05:48:39.948394",
                    "status": "completed"
                },
                "tags": []
            },
            "source": [
                "#### Combine Inducer1 and Inducer2 into one column"
            ]
        },
        {
            "cell_type": "code",
            "execution_count": 14,
            "id": "c99c7fb9",
            "metadata": {
                "execution": {
                    "iopub.execute_input": "2023-12-31T05:48:39.960412Z",
                    "iopub.status.busy": "2023-12-31T05:48:39.960041Z",
                    "iopub.status.idle": "2023-12-31T05:48:45.601979Z",
                    "shell.execute_reply": "2023-12-31T05:48:45.601254Z"
                },
                "papermill": {
                    "duration": 5.647782,
                    "end_time": "2023-12-31T05:48:45.603523",
                    "exception": false,
                    "start_time": "2023-12-31T05:48:39.955741",
                    "status": "completed"
                },
                "tags": []
            },
            "outputs": [],
            "source": [
                "# treatment column merge\n",
                "conditions = [\n",
                "    (feature_df[\"Metadata_inducer2\"].isnull()),\n",
                "    feature_df[\"Metadata_inducer2\"].notnull(),\n",
                "]\n",
                "\n",
                "results = [\n",
                "    (feature_df[\"Metadata_inducer1\"]).astype(str),\n",
                "    (\n",
                "        feature_df[\"Metadata_inducer1\"]\n",
                "        + \"_\"\n",
                "        + feature_df[\"Metadata_inducer2\"].astype(str)\n",
                "    ),\n",
                "]\n",
                "feature_df[\"Metadata_Treatment\"] = np.select(condlist=conditions, choicelist=results)\n",
                "\n",
                "\n",
                "# dose column merge\n",
                "results = [\n",
                "    (\n",
                "        feature_df[\"Metadata_inducer1_concentration\"].astype(str)\n",
                "        + \"_\"\n",
                "        + feature_df[\"Metadata_inducer1_concentration_unit\"].astype(str)\n",
                "    ),\n",
                "    (\n",
                "        feature_df[\"Metadata_inducer1_concentration\"].astype(str)\n",
                "        + \"_\"\n",
                "        + feature_df[\"Metadata_inducer1_concentration_unit\"].astype(str)\n",
                "        + \"_\"\n",
                "        + feature_df[\"Metadata_inducer2_concentration\"].astype(str)\n",
                "        + \"_\"\n",
                "        + feature_df[\"Metadata_inducer2_concentration_unit\"].astype(str)\n",
                "    ),\n",
                "]\n",
                "feature_df[\"Metadata_Dose\"] = np.select(condlist=conditions, choicelist=results)"
            ]
        },
        {
            "attachments": {},
            "cell_type": "markdown",
            "id": "44811a4f",
            "metadata": {
                "papermill": {
                    "duration": 0.003649,
                    "end_time": "2023-12-31T05:48:45.614799",
                    "exception": false,
                    "start_time": "2023-12-31T05:48:45.611150",
                    "status": "completed"
                },
                "tags": []
            },
            "source": [
                "## N Beta Column condition generation\n",
                "columns generated to used for linear modeling where terms separated by '__' will be a beta coefficient "
            ]
        },
        {
            "cell_type": "code",
            "execution_count": 15,
            "id": "2ceddf6b",
            "metadata": {
                "execution": {
                    "iopub.execute_input": "2023-12-31T05:48:45.623282Z",
                    "iopub.status.busy": "2023-12-31T05:48:45.622718Z",
                    "iopub.status.idle": "2023-12-31T05:48:59.775959Z",
                    "shell.execute_reply": "2023-12-31T05:48:59.775327Z"
                },
                "papermill": {
                    "duration": 14.159,
                    "end_time": "2023-12-31T05:48:59.777396",
                    "exception": false,
                    "start_time": "2023-12-31T05:48:45.618396",
                    "status": "completed"
                },
                "tags": []
            },
            "outputs": [],
            "source": [
                "# one beta of inudcer1, inducer1 concentration, inhibitor, and inhibitor concentration all as 1 beta term\n",
                "feature_df[\"oneb_Metadata_Treatment_Dose_Inhibitor_Dose\"] = (\n",
                "    feature_df[\"Metadata_Treatment\"]\n",
                "    + \"_\"\n",
                "    + feature_df[\"Metadata_Dose\"].astype(str)\n",
                "    # + \"_\"\n",
                "    # + feature_df['Metadata_inducer1_concentration_unit'].astype(str)\n",
                "    + \"_\"\n",
                "    + feature_df[\"Metadata_inhibitor\"].astype(str)\n",
                "    + \"_\"\n",
                "    + feature_df[\"Metadata_inhibitor_concentration\"].astype(str)\n",
                "    + \"_\"\n",
                "    + feature_df[\"Metadata_inhibitor_concentration_unit\"].astype(str)\n",
                ").astype(str)\n",
                "\n",
                "\n",
                "# two beta of inducer1, inhibitor, and inhibitor concentration all as 1 beta term + inducer1 concentration as 2nd beta term\n",
                "feature_df[\"twob_Metadata_Treatment_Dose_Inhibitor_Dose\"] = (\n",
                "    feature_df[\"Metadata_Treatment\"]\n",
                "    + \"_\"\n",
                "    + feature_df[\"Metadata_inhibitor\"].astype(str)\n",
                "    + \"_\"\n",
                "    + feature_df[\"Metadata_inhibitor_concentration\"].astype(str)\n",
                "    + \"__\"\n",
                "    + feature_df[\"Metadata_Dose\"].astype(str)\n",
                ").astype(str)\n",
                "\n",
                "# three beta of inducer 1 as 1 beta term, inducer1 concentration as 2nd beta term, inhibitor and inhibitor concentration as 3rd beta term\n",
                "feature_df[\"threeb_Metadata_Treatment_Dose_Inhibitor_Dose\"] = (\n",
                "    feature_df[\"Metadata_Treatment\"]\n",
                "    + \"__\"\n",
                "    + feature_df[\"Metadata_Dose\"].astype(str)\n",
                "    + \"__\"\n",
                "    + feature_df[\"Metadata_inducer1_concentration_unit\"].astype(str)\n",
                "    + \"_\"\n",
                "    + feature_df[\"Metadata_inhibitor\"].astype(str)\n",
                "    + \"_\"\n",
                "    + feature_df[\"Metadata_inhibitor_concentration\"].astype(str)\n",
                ").astype(str)\n",
                "\n",
                "# four beta of inducer 1 as 1 beta term, inducer1 concentration as 2nd beta term, inhibitor as 3rd beta term, and inhibitor concentration as 4th beta term\n",
                "feature_df[\"fourb_Metadata_Treatment_Dose_Inhibitor_Dose\"] = (\n",
                "    feature_df[\"Metadata_Treatment\"]\n",
                "    + \"__\"\n",
                "    + feature_df[\"Metadata_Dose\"].astype(str)\n",
                "    + \"__\"\n",
                "    + feature_df[\"Metadata_inducer1_concentration_unit\"].astype(str)\n",
                "    + \"_\"\n",
                "    + feature_df[\"Metadata_inhibitor\"].astype(str)\n",
                "    + \"__\"\n",
                "    + feature_df[\"Metadata_inhibitor_concentration\"].astype(str)\n",
                ").astype(str)"
            ]
        },
        {
            "cell_type": "code",
            "execution_count": 16,
            "id": "4d5a6c1f",
            "metadata": {
                "execution": {
                    "iopub.execute_input": "2023-12-31T05:48:59.789605Z",
                    "iopub.status.busy": "2023-12-31T05:48:59.789007Z",
                    "iopub.status.idle": "2023-12-31T05:49:06.204336Z",
                    "shell.execute_reply": "2023-12-31T05:49:06.203712Z"
                },
                "papermill": {
                    "duration": 6.421144,
                    "end_time": "2023-12-31T05:49:06.205716",
                    "exception": false,
                    "start_time": "2023-12-31T05:48:59.784572",
                    "status": "completed"
                },
                "tags": []
            },
            "outputs": [
                {
                    "name": "stdout",
                    "output_type": "stream",
                    "text": [
                        "None 0\n"
                    ]
                },
                {
                    "name": "stdout",
                    "output_type": "stream",
                    "text": [
                        "µ u\n"
                    ]
                },
                {
                    "name": "stdout",
                    "output_type": "stream",
                    "text": [
                        "nan 0\n"
                    ]
                }
            ],
            "source": [
                "replacement_dict = {\n",
                "    \"None\": \"0\",\n",
                "    \"µ\": \"u\",\n",
                "    \"nan\": \"0\",\n",
                "}\n",
                "for pattern, replacement in replacement_dict.items():\n",
                "    print(pattern, replacement)\n",
                "    feature_df[\"oneb_Metadata_Treatment_Dose_Inhibitor_Dose\"] = feature_df[\n",
                "        \"oneb_Metadata_Treatment_Dose_Inhibitor_Dose\"\n",
                "    ].replace(to_replace=str(pattern), value=str(replacement), regex=True)"
            ]
        },
        {
            "cell_type": "code",
            "execution_count": 17,
            "id": "d6110d9d",
            "metadata": {
                "execution": {
                    "iopub.execute_input": "2023-12-31T05:49:06.217242Z",
                    "iopub.status.busy": "2023-12-31T05:49:06.216721Z",
                    "iopub.status.idle": "2023-12-31T05:49:07.295971Z",
                    "shell.execute_reply": "2023-12-31T05:49:07.295362Z"
                },
                "papermill": {
                    "duration": 1.085374,
                    "end_time": "2023-12-31T05:49:07.297366",
                    "exception": false,
                    "start_time": "2023-12-31T05:49:06.211992",
                    "status": "completed"
                },
                "tags": []
            },
            "outputs": [],
            "source": [
                "feature_df[\"oneb_Metadata_Treatment_Dose_Inhibitor_Dose\"] = feature_df[\n",
                "    \"oneb_Metadata_Treatment_Dose_Inhibitor_Dose\"\n",
                "].str.replace(\"media_ctr_0.0_0_Media_ctr_0_0\", \"media_ctr_0.0_0_Media_ctr_0.0_0\")"
            ]
        },
        {
            "cell_type": "code",
            "execution_count": 18,
            "id": "ae6971b5",
            "metadata": {
                "execution": {
                    "iopub.execute_input": "2023-12-31T05:49:07.309079Z",
                    "iopub.status.busy": "2023-12-31T05:49:07.308638Z",
                    "iopub.status.idle": "2023-12-31T05:49:10.680810Z",
                    "shell.execute_reply": "2023-12-31T05:49:10.680188Z"
                },
                "papermill": {
                    "duration": 3.378476,
                    "end_time": "2023-12-31T05:49:10.682255",
                    "exception": false,
                    "start_time": "2023-12-31T05:49:07.303779",
                    "status": "completed"
                },
                "tags": []
            },
            "outputs": [],
            "source": [
                "# need to convert to strings to save as parquet\n",
                "# if the column is an object then convert it to a string\n",
                "for column in feature_df.columns:\n",
                "    if feature_df[column].dtype == \"object\":\n",
                "        feature_df[column] = feature_df[column].astype(str)"
            ]
        },
        {
            "cell_type": "code",
            "execution_count": 19,
            "id": "28cbc3d6",
            "metadata": {
                "execution": {
                    "iopub.execute_input": "2023-12-31T05:49:10.694970Z",
                    "iopub.status.busy": "2023-12-31T05:49:10.694637Z",
                    "iopub.status.idle": "2023-12-31T05:51:54.441532Z",
                    "shell.execute_reply": "2023-12-31T05:51:54.441008Z"
                },
                "papermill": {
                    "duration": 163.753258,
                    "end_time": "2023-12-31T05:51:54.443052",
                    "exception": false,
                    "start_time": "2023-12-31T05:49:10.689794",
                    "status": "completed"
                },
                "tags": []
            },
            "outputs": [],
            "source": [
                "# write to parquet file\n",
                "feature_df.to_parquet(feature_df_out_path)"
            ]
        }
    ],
    "execution_count": 19,
    "id": "28cbc3d6",
    "metadata": {
        "kernelspec": {
            "display_name": "Interstellar",
            "language": "python",
            "name": "python3"
        },
        "language_info": {
            "codemirror_mode": {
                "name": "ipython",
                "version": 3
            },
            "file_extension": ".py",
            "mimetype": "text/x-python",
            "name": "python",
            "nbconvert_exporter": "python",
            "pygments_lexer": "ipython3",
            "version": "3.10.14"
        },
        "papermill": {
            "default_parameters": {},
            "duration": 45.160648,
            "end_time": "2023-10-29T21:54:03.230758",
            "environment_variables": {},
            "exception": null,
            "input_path": "1.preprocessing_morphology_data.ipynb",
            "output_path": "1.preprocessing_morphology_data.ipynb",
            "parameters": {
                "cell_type": "SHSY5Y"
            },
            "start_time": "2023-10-29T21:53:18.070110",
            "version": "2.4.0"
        },
        "vscode": {
            "interpreter": {
                "hash": "72ae02083a9ca7d143c492d1aec380c7bf553ec51bd66e90e72bba65228121b6"
            }
        }
    },
    "nbformat": 4,
    "nbformat_minor": 5,
    "outputs": [],
    "source": [
        "# write to parquet file\n",
        "feature_df.to_parquet(feature_df_out_path)"
    ],
    "tags": []
}
