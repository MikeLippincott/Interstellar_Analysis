{
 "cells": [
  {
   "cell_type": "markdown",
   "id": "d040972a",
   "metadata": {},
   "source": [
    "This noteboook pre-processes the single cell morphology data to be ready for exploratory analysis and machine learning."
   ]
  },
  {
   "cell_type": "code",
   "execution_count": null,
   "id": "1ed18d57",
   "metadata": {
    "execution": {
     "iopub.execute_input": "2023-09-21T20:07:37.582863Z",
     "iopub.status.busy": "2023-09-21T20:07:37.582461Z",
     "iopub.status.idle": "2023-09-21T20:07:39.550776Z",
     "shell.execute_reply": "2023-09-21T20:07:39.550137Z"
    },
    "papermill": {
     "duration": 1.974609,
     "end_time": "2023-09-21T20:07:39.552424",
     "exception": false,
     "start_time": "2023-09-21T20:07:37.577815",
     "status": "completed"
    },
    "tags": []
   },
   "outputs": [],
   "source": [
    "import pathlib\n",
    "\n",
    "import numpy as np\n",
    "import pandas as pd\n",
    "import papermill as pm\n",
    "import pyarrow as pa\n",
    "import pyarrow.parquet as pq"
   ]
  },
  {
   "cell_type": "code",
   "execution_count": null,
   "id": "9797b304",
   "metadata": {
    "execution": {
     "iopub.execute_input": "2023-09-21T20:07:39.562182Z",
     "iopub.status.busy": "2023-09-21T20:07:39.561721Z",
     "iopub.status.idle": "2023-09-21T20:07:39.564593Z",
     "shell.execute_reply": "2023-09-21T20:07:39.564061Z"
    },
    "papermill": {
     "duration": 0.007562,
     "end_time": "2023-09-21T20:07:39.565933",
     "exception": false,
     "start_time": "2023-09-21T20:07:39.558371",
     "status": "completed"
    },
    "tags": [
     "injected-parameters"
    ]
   },
   "outputs": [],
   "source": [
    "# Parameters\n",
    "cell_type = \"SHSY5Y\""
   ]
  },
  {
   "cell_type": "code",
   "execution_count": null,
   "id": "7e41be25",
   "metadata": {
    "execution": {
     "iopub.execute_input": "2023-09-21T20:07:39.572164Z",
     "iopub.status.busy": "2023-09-21T20:07:39.571921Z",
     "iopub.status.idle": "2023-09-21T20:10:29.878333Z",
     "shell.execute_reply": "2023-09-21T20:10:29.877644Z"
    },
    "papermill": {
     "duration": 170.311024,
     "end_time": "2023-09-21T20:10:29.880022",
     "exception": false,
     "start_time": "2023-09-21T20:07:39.568998",
     "status": "completed"
    },
    "tags": []
   },
   "outputs": [],
   "source": [
    "# Define inputs\n",
    "feature_file = pathlib.Path(f\"../data/{cell_type}_sc_norm_fs.parquet\")\n",
    "feature_df = pd.read_parquet(feature_file)"
   ]
  },
  {
   "cell_type": "code",
   "execution_count": null,
   "id": "128e48fe",
   "metadata": {
    "execution": {
     "iopub.execute_input": "2023-09-21T20:10:29.889633Z",
     "iopub.status.busy": "2023-09-21T20:10:29.889087Z",
     "iopub.status.idle": "2023-09-21T20:11:08.368440Z",
     "shell.execute_reply": "2023-09-21T20:11:08.367881Z"
    },
    "papermill": {
     "duration": 38.484656,
     "end_time": "2023-09-21T20:11:08.370324",
     "exception": false,
     "start_time": "2023-09-21T20:10:29.885668",
     "status": "completed"
    },
    "tags": []
   },
   "outputs": [],
   "source": [
    "# replace all \" \" with \"_\" in all values of the dataframe\n",
    "feature_df = feature_df.replace(to_replace=\" \", value=\"_\", regex=True)"
   ]
  },
  {
   "cell_type": "code",
   "execution_count": null,
   "id": "aa6d40a8",
   "metadata": {
    "execution": {
     "iopub.execute_input": "2023-09-21T20:11:08.380513Z",
     "iopub.status.busy": "2023-09-21T20:11:08.380293Z",
     "iopub.status.idle": "2023-09-21T20:11:09.339632Z",
     "shell.execute_reply": "2023-09-21T20:11:09.339086Z"
    },
    "papermill": {
     "duration": 0.96435,
     "end_time": "2023-09-21T20:11:09.341109",
     "exception": false,
     "start_time": "2023-09-21T20:11:08.376759",
     "status": "completed"
    },
    "tags": []
   },
   "outputs": [],
   "source": [
    "# remove uM in each row of the Metadata_inducer1_concentration column\n",
    "feature_df[\"Metadata_inducer1_concentration\"] = feature_df[\n",
    "    \"Metadata_inducer1_concentration\"\n",
    "].str.replace(\"µM\", \"\")"
   ]
  },
  {
   "cell_type": "code",
   "execution_count": null,
   "id": "ba5ba736",
   "metadata": {
    "execution": {
     "iopub.execute_input": "2023-09-21T20:11:09.347352Z",
     "iopub.status.busy": "2023-09-21T20:11:09.346959Z",
     "iopub.status.idle": "2023-09-21T20:11:09.511035Z",
     "shell.execute_reply": "2023-09-21T20:11:09.510578Z"
    },
    "papermill": {
     "duration": 0.168131,
     "end_time": "2023-09-21T20:11:09.512223",
     "exception": false,
     "start_time": "2023-09-21T20:11:09.344092",
     "status": "completed"
    },
    "tags": []
   },
   "outputs": [],
   "source": [
    "feature_df[\"Metadata_inducer1_concentration\"].unique()"
   ]
  },
  {
   "cell_type": "code",
   "execution_count": null,
   "id": "8418a230",
   "metadata": {
    "execution": {
     "iopub.execute_input": "2023-09-21T20:11:09.518367Z",
     "iopub.status.busy": "2023-09-21T20:11:09.518150Z",
     "iopub.status.idle": "2023-09-21T20:11:09.520721Z",
     "shell.execute_reply": "2023-09-21T20:11:09.520290Z"
    },
    "papermill": {
     "duration": 0.006384,
     "end_time": "2023-09-21T20:11:09.521601",
     "exception": false,
     "start_time": "2023-09-21T20:11:09.515217",
     "status": "completed"
    },
    "tags": []
   },
   "outputs": [],
   "source": [
    "# define output file path\n",
    "feature_df_out_path = pathlib.Path(f\"../data/{cell_type}_preprocessed_sc_norm.parquet\")"
   ]
  },
  {
   "cell_type": "code",
   "execution_count": null,
   "id": "79df4337",
   "metadata": {
    "execution": {
     "iopub.execute_input": "2023-09-21T20:11:09.527344Z",
     "iopub.status.busy": "2023-09-21T20:11:09.527016Z",
     "iopub.status.idle": "2023-09-21T20:11:09.581675Z",
     "shell.execute_reply": "2023-09-21T20:11:09.581282Z"
    },
    "papermill": {
     "duration": 0.058898,
     "end_time": "2023-09-21T20:11:09.582973",
     "exception": false,
     "start_time": "2023-09-21T20:11:09.524075",
     "status": "completed"
    },
    "tags": []
   },
   "outputs": [],
   "source": [
    "print(feature_df.shape)\n",
    "feature_df.head()"
   ]
  },
  {
   "cell_type": "code",
   "execution_count": null,
   "id": "029dfdb7",
   "metadata": {
    "execution": {
     "iopub.execute_input": "2023-09-21T20:11:09.589759Z",
     "iopub.status.busy": "2023-09-21T20:11:09.589251Z",
     "iopub.status.idle": "2023-09-21T20:11:16.382736Z",
     "shell.execute_reply": "2023-09-21T20:11:16.382256Z"
    },
    "papermill": {
     "duration": 6.798046,
     "end_time": "2023-09-21T20:11:16.384053",
     "exception": false,
     "start_time": "2023-09-21T20:11:09.586007",
     "status": "completed"
    },
    "tags": []
   },
   "outputs": [],
   "source": [
    "# removing costes features as they behave with great variance across all data\n",
    "feature_df = feature_df.drop(feature_df.filter(regex=\"Costes\").columns, axis=1)\n",
    "print(feature_df.shape)\n",
    "feature_df.head()"
   ]
  },
  {
   "cell_type": "code",
   "execution_count": null,
   "id": "34d8981d",
   "metadata": {
    "execution": {
     "iopub.execute_input": "2023-09-21T20:11:16.396705Z",
     "iopub.status.busy": "2023-09-21T20:11:16.396187Z",
     "iopub.status.idle": "2023-09-21T20:11:55.101823Z",
     "shell.execute_reply": "2023-09-21T20:11:55.101298Z"
    },
    "papermill": {
     "duration": 38.711851,
     "end_time": "2023-09-21T20:11:55.103628",
     "exception": false,
     "start_time": "2023-09-21T20:11:16.391777",
     "status": "completed"
    },
    "tags": []
   },
   "outputs": [],
   "source": [
    "# replacing '/' in treatment dosage column to avoid errors in file interpolation including such strings\n",
    "feature_df = feature_df.replace(to_replace=\"/\", value=\"_per_\", regex=True)"
   ]
  },
  {
   "cell_type": "code",
   "execution_count": null,
   "id": "018fdc98",
   "metadata": {
    "execution": {
     "iopub.execute_input": "2023-09-21T20:11:55.116560Z",
     "iopub.status.busy": "2023-09-21T20:11:55.116148Z",
     "iopub.status.idle": "2023-09-21T20:11:55.446699Z",
     "shell.execute_reply": "2023-09-21T20:11:55.446229Z"
    },
    "papermill": {
     "duration": 0.335934,
     "end_time": "2023-09-21T20:11:55.447885",
     "exception": false,
     "start_time": "2023-09-21T20:11:55.111951",
     "status": "completed"
    },
    "tags": []
   },
   "outputs": [],
   "source": [
    "# replace nan values with 0\n",
    "\n",
    "columns_to_fill = [\n",
    "    \"Metadata_inducer1_concentration\",\n",
    "    \"Metadata_inducer2_concentration\",\n",
    "    \"Metadata_inhibitor_concentration\",\n",
    "]\n",
    "feature_df[columns_to_fill].fillna(0, inplace=True)"
   ]
  },
  {
   "cell_type": "code",
   "execution_count": null,
   "id": "70746fb9",
   "metadata": {},
   "outputs": [],
   "source": [
    "# replace all None values with 0\n",
    "feature_df[\"Metadata_inducer1_concentration\"].fillna(0, inplace=True)"
   ]
  },
  {
   "cell_type": "code",
   "execution_count": null,
   "id": "356e046c",
   "metadata": {},
   "outputs": [],
   "source": [
    "# create a list of columns to be converted to float\n",
    "col_list = [\n",
    "    \"Metadata_inducer1_concentration\",\n",
    "    \"Metadata_inducer2_concentration\",\n",
    "    \"Metadata_inhibitor_concentration\",\n",
    "]\n",
    "# loop through the list and convert each column to float\n",
    "for i in col_list:\n",
    "    feature_df[i] = feature_df[i].apply(\n",
    "        lambda x: f\"{float(x):.3f}\" if float(x) != 0 else float(x)\n",
    "    )"
   ]
  },
  {
   "attachments": {},
   "cell_type": "markdown",
   "id": "d109a042",
   "metadata": {
    "papermill": {
     "duration": 0.003102,
     "end_time": "2023-09-21T20:11:55.454477",
     "exception": false,
     "start_time": "2023-09-21T20:11:55.451375",
     "status": "completed"
    },
    "tags": []
   },
   "source": [
    "#### Combine Inducer1 and Inducer2 into one column"
   ]
  },
  {
   "cell_type": "code",
   "execution_count": null,
   "id": "c99c7fb9",
   "metadata": {
    "execution": {
     "iopub.execute_input": "2023-09-21T20:11:55.461238Z",
     "iopub.status.busy": "2023-09-21T20:11:55.460951Z",
     "iopub.status.idle": "2023-09-21T20:11:59.554257Z",
     "shell.execute_reply": "2023-09-21T20:11:59.553742Z"
    },
    "papermill": {
     "duration": 4.098506,
     "end_time": "2023-09-21T20:11:59.555979",
     "exception": false,
     "start_time": "2023-09-21T20:11:55.457473",
     "status": "completed"
    },
    "tags": []
   },
   "outputs": [],
   "source": [
    "# treatment column merge\n",
    "conditions = [\n",
    "    (feature_df[\"Metadata_inducer2\"].isnull()),\n",
    "    feature_df[\"Metadata_inducer2\"].notnull(),\n",
    "]\n",
    "\n",
    "results = [\n",
    "    (feature_df[\"Metadata_inducer1\"]).astype(str),\n",
    "    (\n",
    "        feature_df[\"Metadata_inducer1\"]\n",
    "        + \"_\"\n",
    "        + feature_df[\"Metadata_inducer2\"].astype(str)\n",
    "    ),\n",
    "]\n",
    "feature_df[\"Metadata_Treatment\"] = np.select(condlist=conditions, choicelist=results)\n",
    "\n",
    "\n",
    "# dose column merge\n",
    "results = [\n",
    "    (\n",
    "        feature_df[\"Metadata_inducer1_concentration\"].astype(str)\n",
    "        + \"_\"\n",
    "        + feature_df[\"Metadata_inducer1_concentration_unit\"].astype(str)\n",
    "    ),\n",
    "    (\n",
    "        feature_df[\"Metadata_inducer1_concentration\"].astype(str)\n",
    "        + \"_\"\n",
    "        + feature_df[\"Metadata_inducer1_concentration_unit\"].astype(str)\n",
    "        + \"_\"\n",
    "        + feature_df[\"Metadata_inducer2_concentration\"].astype(str)\n",
    "        + \"_\"\n",
    "        + feature_df[\"Metadata_inducer2_concentration_unit\"].astype(str)\n",
    "    ),\n",
    "]\n",
    "feature_df[\"Metadata_Dose\"] = np.select(condlist=conditions, choicelist=results)"
   ]
  },
  {
   "attachments": {},
   "cell_type": "markdown",
   "id": "44811a4f",
   "metadata": {
    "papermill": {
     "duration": 0.004329,
     "end_time": "2023-09-21T20:12:00.685347",
     "exception": false,
     "start_time": "2023-09-21T20:12:00.681018",
     "status": "completed"
    },
    "tags": []
   },
   "source": [
    "## N Beta Column condition generation\n",
    "columns generated to used for linear modeling where terms separated by '__' will be a beta coefficient "
   ]
  },
  {
   "cell_type": "code",
   "execution_count": null,
   "id": "2ceddf6b",
   "metadata": {
    "execution": {
     "iopub.execute_input": "2023-09-21T20:12:00.692604Z",
     "iopub.status.busy": "2023-09-21T20:12:00.692328Z",
     "iopub.status.idle": "2023-09-21T20:12:15.966513Z",
     "shell.execute_reply": "2023-09-21T20:12:15.965995Z"
    },
    "papermill": {
     "duration": 15.279606,
     "end_time": "2023-09-21T20:12:15.968192",
     "exception": false,
     "start_time": "2023-09-21T20:12:00.688586",
     "status": "completed"
    },
    "tags": []
   },
   "outputs": [],
   "source": [
    "# one beta of inudcer1, inducer1 concentration, inhibitor, and inhibitor concentration all as 1 beta term\n",
    "feature_df[\"oneb_Metadata_Treatment_Dose_Inhibitor_Dose\"] = (\n",
    "    feature_df[\"Metadata_Treatment\"]\n",
    "    + \"_\"\n",
    "    + feature_df[\"Metadata_Dose\"].astype(str)\n",
    "    # + \"_\"\n",
    "    # + feature_df['Metadata_inducer1_concentration_unit'].astype(str)\n",
    "    + \"_\"\n",
    "    + feature_df[\"Metadata_inhibitor\"].astype(str)\n",
    "    + \"_\"\n",
    "    + feature_df[\"Metadata_inhibitor_concentration\"].astype(str)\n",
    "    + \"_\"\n",
    "    + feature_df[\"Metadata_inhibitor_concentration_unit\"].astype(str)\n",
    ").astype(str)\n",
    "\n",
    "\n",
    "# two beta of inducer1, inhibitor, and inhibitor concentration all as 1 beta term + inducer1 concentration as 2nd beta term\n",
    "feature_df[\"twob_Metadata_Treatment_Dose_Inhibitor_Dose\"] = (\n",
    "    feature_df[\"Metadata_Treatment\"]\n",
    "    + \"_\"\n",
    "    + feature_df[\"Metadata_inhibitor\"].astype(str)\n",
    "    + \"_\"\n",
    "    + feature_df[\"Metadata_inhibitor_concentration\"].astype(str)\n",
    "    + \"__\"\n",
    "    + feature_df[\"Metadata_Dose\"].astype(str)\n",
    ").astype(str)\n",
    "\n",
    "# three beta of inducer 1 as 1 beta term, inducer1 concentration as 2nd beta term, inhibitor and inhibitor concentration as 3rd beta term\n",
    "feature_df[\"threeb_Metadata_Treatment_Dose_Inhibitor_Dose\"] = (\n",
    "    feature_df[\"Metadata_Treatment\"]\n",
    "    + \"__\"\n",
    "    + feature_df[\"Metadata_Dose\"].astype(str)\n",
    "    + \"__\"\n",
    "    + feature_df[\"Metadata_inducer1_concentration_unit\"].astype(str)\n",
    "    + \"_\"\n",
    "    + feature_df[\"Metadata_inhibitor\"].astype(str)\n",
    "    + \"_\"\n",
    "    + feature_df[\"Metadata_inhibitor_concentration\"].astype(str)\n",
    ").astype(str)\n",
    "\n",
    "# four beta of inducer 1 as 1 beta term, inducer1 concentration as 2nd beta term, inhibitor as 3rd beta term, and inhibitor concentration as 4th beta term\n",
    "feature_df[\"fourb_Metadata_Treatment_Dose_Inhibitor_Dose\"] = (\n",
    "    feature_df[\"Metadata_Treatment\"]\n",
    "    + \"__\"\n",
    "    + feature_df[\"Metadata_Dose\"].astype(str)\n",
    "    + \"__\"\n",
    "    + feature_df[\"Metadata_inducer1_concentration_unit\"].astype(str)\n",
    "    + \"_\"\n",
    "    + feature_df[\"Metadata_inhibitor\"].astype(str)\n",
    "    + \"__\"\n",
    "    + feature_df[\"Metadata_inhibitor_concentration\"].astype(str)\n",
    ").astype(str)"
   ]
  },
  {
   "cell_type": "code",
   "execution_count": null,
   "id": "4d5a6c1f",
   "metadata": {},
   "outputs": [],
   "source": [
    "replacement_dict = {\n",
    "    \"None\": \"0\",\n",
    "    \"µ\": \"u\",\n",
    "    \"nan\": \"0\",\n",
    "}\n",
    "for pattern, replacement in replacement_dict.items():\n",
    "    print(pattern, replacement)\n",
    "    feature_df[\"oneb_Metadata_Treatment_Dose_Inhibitor_Dose\"] = feature_df[\n",
    "        \"oneb_Metadata_Treatment_Dose_Inhibitor_Dose\"\n",
    "    ].replace(to_replace=str(pattern), value=str(replacement), regex=True)"
   ]
  },
  {
   "cell_type": "code",
   "execution_count": null,
   "id": "d6110d9d",
   "metadata": {},
   "outputs": [],
   "source": [
    "feature_df[\"oneb_Metadata_Treatment_Dose_Inhibitor_Dose\"] = feature_df[\n",
    "    \"oneb_Metadata_Treatment_Dose_Inhibitor_Dose\"\n",
    "].str.replace(\"media_ctr_0.0_0_Media_ctr_0_0\", \"media_ctr_0.0_0_Media_ctr_0.0_0\")"
   ]
  },
  {
   "cell_type": "code",
   "execution_count": null,
   "id": "ae6971b5",
   "metadata": {},
   "outputs": [],
   "source": [
    "# need to convert to strings to save as parquet\n",
    "# if the column is an object then convert it to a string\n",
    "for column in feature_df.columns:\n",
    "    if feature_df[column].dtype == \"object\":\n",
    "        feature_df[column] = feature_df[column].astype(str)"
   ]
  },
  {
   "cell_type": "code",
   "execution_count": null,
   "id": "28cbc3d6",
   "metadata": {
    "execution": {
     "iopub.execute_input": "2023-09-21T20:12:15.979861Z",
     "iopub.status.busy": "2023-09-21T20:12:15.979607Z",
     "iopub.status.idle": "2023-09-21T20:13:24.612557Z",
     "shell.execute_reply": "2023-09-21T20:13:24.611849Z"
    },
    "papermill": {
     "duration": 68.638924,
     "end_time": "2023-09-21T20:13:24.614445",
     "exception": false,
     "start_time": "2023-09-21T20:12:15.975521",
     "status": "completed"
    },
    "tags": []
   },
   "outputs": [],
   "source": [
    "# write to parquet file\n",
    "feature_df.to_parquet(feature_df_out_path)"
   ]
  },
  {
   "cell_type": "code",
   "execution_count": null,
   "id": "0a4aac0d",
   "metadata": {},
   "outputs": [],
   "source": [
    "del feature_df\n",
    "import gc\n",
    "\n",
    "gc.collect()"
   ]
  },
  {
   "cell_type": "code",
   "execution_count": null,
   "id": "fb0db222",
   "metadata": {},
   "outputs": [],
   "source": [
    "# Define inputs\n",
    "feature_file = pathlib.Path(f\"../data/{cell_type}_sc.parquet\")\n",
    "feature_df = pd.read_parquet(feature_file)\n",
    "# quick check for site\n",
    "print(feature_df[\"Metadata_Site\"])"
   ]
  }
 ],
 "metadata": {
  "kernelspec": {
   "display_name": "Interstellar",
   "language": "python",
   "name": "python3"
  },
  "language_info": {
   "codemirror_mode": {
    "name": "ipython",
    "version": 3
   },
   "file_extension": ".py",
   "mimetype": "text/x-python",
   "name": "python",
   "nbconvert_exporter": "python",
   "pygments_lexer": "ipython3",
   "version": "3.10.12"
  },
  "papermill": {
   "default_parameters": {},
   "duration": 350.726592,
   "end_time": "2023-09-21T20:13:25.540571",
   "environment_variables": {},
   "exception": null,
   "input_path": "1.preprocessing.ipynb",
   "output_path": "1.preprocessing.ipynb",
   "parameters": {
    "cell_type": "PBMC"
   },
   "start_time": "2023-09-21T20:07:34.813979",
   "version": "2.4.0"
  },
  "vscode": {
   "interpreter": {
    "hash": "72ae02083a9ca7d143c492d1aec380c7bf553ec51bd66e90e72bba65228121b6"
   }
  }
 },
 "nbformat": 4,
 "nbformat_minor": 5
}
