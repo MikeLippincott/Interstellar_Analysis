{
    "attachments": {},
    "cell_type": "code",
    "cells": [
        {
            "cell_type": "markdown",
            "id": "d040972a",
            "metadata": {
                "papermill": {
                    "duration": 0.005192,
                    "end_time": "2024-04-03T14:37:07.570529",
                    "exception": false,
                    "start_time": "2024-04-03T14:37:07.565337",
                    "status": "completed"
                },
                "tags": []
            },
            "source": [
                "This noteboook pre-processes the single cell morphology data to be ready for exploratory analysis and machine learning."
            ]
        },
        {
            "cell_type": "code",
            "execution_count": null,
            "id": "1ed18d57",
            "metadata": {
                "execution": {
                    "iopub.execute_input": "2024-04-03T14:37:07.578314Z",
                    "iopub.status.busy": "2024-04-03T14:37:07.577962Z",
                    "iopub.status.idle": "2024-04-03T14:37:08.827800Z",
                    "shell.execute_reply": "2024-04-03T14:37:08.827400Z"
                },
                "papermill": {
                    "duration": 0.953978,
                    "end_time": "2024-04-03T14:37:08.527927",
                    "exception": false,
                    "start_time": "2024-04-03T14:37:07.573949",
                    "status": "completed"
                },
                "tags": []
            },
            "outputs": [],
            "source": [
                "import pathlib\n",
                "\n",
                "import numpy as np\n",
                "import pandas as pd\n",
                "import papermill as pm\n",
                "import pyarrow as pa\n",
                "import pyarrow.parquet as pq"
            ]
        },
        {
            "cell_type": "code",

            "execution_count": 2,
            "id": "6019d30d",

            "metadata": {
                "papermill": {
                    "duration": null,
                    "end_time": null,
                    "exception": null,
                    "start_time": null,
                    "status": "completed"
                },
                "tags": []
            },
            "outputs": [],
            "source": [
                "# Parameters\n",
                "cell_type = \"SHSY5Y\""
            ]
        },
        {
            "cell_type": "code",
            "execution_count": null,
            "id": "7e41be25",
            "metadata": {
                "execution": {
                    "iopub.execute_input": "2024-04-03T14:36:32.620356Z",
                    "iopub.status.busy": "2024-04-03T14:36:32.620142Z"
                },
                "papermill": {
                    "duration": null,
                    "end_time": null,
                    "exception": null,
                    "start_time": null,
                    "status": "completed"
                },
                "tags": []
            },
            "outputs": [],
            "source": [
                "# Define inputs\n",
                "feature_file = pathlib.Path(f\"../data/{cell_type}_sc_norm_fs.parquet\")\n",
                "feature_df = pd.read_parquet(feature_file)"
            ]
        },
        {
            "cell_type": "code",
            "execution_count": null,
            "id": "128e48fe",
            "metadata": {
                "execution": {
                    "iopub.execute_input": "2023-12-31T05:47:22.857114Z",
                    "iopub.status.busy": "2023-12-31T05:47:22.856898Z",
                    "iopub.status.idle": "2023-12-31T05:47:43.664893Z",
                    "shell.execute_reply": "2023-12-31T05:47:43.664250Z"
                },
                "papermill": {
                    "duration": null,
                    "end_time": null,
                    "exception": null,
                    "start_time": null,
                    "status": "completed"
                },
                "tags": []
            },
            "outputs": [],
            "source": [
                "# replace all \" \" with \"_\" in all values of the dataframe\n",
                "feature_df = feature_df.replace(to_replace=\" \", value=\"_\", regex=True)"
            ]
        },
        {
            "cell_type": "code",
            "execution_count": null,
            "id": "aa6d40a8",
            "metadata": {
                "execution": {
                    "iopub.execute_input": "2023-12-31T05:47:43.678643Z",
                    "iopub.status.busy": "2023-12-31T05:47:43.678054Z",
                    "iopub.status.idle": "2023-12-31T05:47:44.543600Z",
                    "shell.execute_reply": "2023-12-31T05:47:44.542978Z"
                },
                "papermill": {
                    "duration": null,
                    "end_time": null,
                    "exception": null,
                    "start_time": null,
                    "status": "completed"
                },
                "tags": []
            },
            "outputs": [],
            "source": [
                "# remove uM in each row of the Metadata_inducer1_concentration column\n",
                "feature_df[\"Metadata_inducer1_concentration\"] = feature_df[\n",
                "    \"Metadata_inducer1_concentration\"\n",
                "].str.replace(\"µM\", \"\")"
            ]
        },
        {
            "cell_type": "code",
            "execution_count": null,
            "id": "ba5ba736",
            "metadata": {
                "execution": {
                    "iopub.execute_input": "2023-12-31T05:47:44.552463Z",
                    "iopub.status.busy": "2023-12-31T05:47:44.551974Z",
                    "iopub.status.idle": "2023-12-31T05:47:44.653020Z",
                    "shell.execute_reply": "2023-12-31T05:47:44.652505Z"
                },
                "papermill": {
                    "duration": null,
                    "end_time": null,
                    "exception": null,
                    "start_time": null,
                    "status": "completed"
                },
                "tags": []
            },

            "outputs": [
                {
                    "data": {
                        "text/plain": [
                            "array([None, '0.100', '1.000', '10.000', '5.000', '20.000', '0.010',\n",
                            "       '100.000', '2.500'], dtype=object)"
                        ]
                    },
                    "execution_count": 6,
                    "metadata": {},
                    "output_type": "execute_result"
                }
            ],

            "source": [
                "feature_df[\"Metadata_inducer1_concentration\"].unique()"
            ]
        },
        {
            "cell_type": "code",
            "execution_count": null,
            "id": "8418a230",
            "metadata": {
                "execution": {
                    "iopub.execute_input": "2023-12-31T05:47:44.660974Z",
                    "iopub.status.busy": "2023-12-31T05:47:44.660756Z",
                    "iopub.status.idle": "2023-12-31T05:47:44.663438Z",
                    "shell.execute_reply": "2023-12-31T05:47:44.662966Z"
                },
                "papermill": {
                    "duration": null,
                    "end_time": null,
                    "exception": null,
                    "start_time": null,
                    "status": "completed"
                },
                "tags": []
            },
            "outputs": [],
            "source": [
                "# define output file path\n",
                "feature_df_out_path = pathlib.Path(f\"../data/{cell_type}_preprocessed_sc_norm.parquet\")"
            ]
        },
        {
            "cell_type": "code",
            "execution_count": null,
            "id": "79df4337",
            "metadata": {
                "execution": {
                    "iopub.execute_input": "2023-12-31T05:47:44.671019Z",
                    "iopub.status.busy": "2023-12-31T05:47:44.670815Z",
                    "iopub.status.idle": "2023-12-31T05:47:44.735677Z",
                    "shell.execute_reply": "2023-12-31T05:47:44.734560Z"
                },
                "papermill": {
                    "duration": null,
                    "end_time": null,
                    "exception": null,
                    "start_time": null,
                    "status": "completed"
                },
                "tags": []
            },

            "outputs": [
                {
                    "name": "stdout",
                    "output_type": "stream",
                    "text": [
                        "(600816, 1246)\n"
                    ]
                },
                {
                    "data": {
                        "text/html": [
                            "<div>\n",
                            "<style scoped>\n",
                            "    .dataframe tbody tr th:only-of-type {\n",
                            "        vertical-align: middle;\n",
                            "    }\n",
                            "\n",
                            "    .dataframe tbody tr th {\n",
                            "        vertical-align: top;\n",
                            "    }\n",
                            "\n",
                            "    .dataframe thead th {\n",
                            "        text-align: right;\n",
                            "    }\n",
                            "</style>\n",
                            "<table border=\"1\" class=\"dataframe\">\n",
                            "  <thead>\n",
                            "    <tr style=\"text-align: right;\">\n",
                            "      <th></th>\n",
                            "      <th>Metadata_cell_type</th>\n",
                            "      <th>Metadata_Well</th>\n",
                            "      <th>Metadata_number_of_singlecells</th>\n",
                            "      <th>Metadata_incubation inducer (h)</th>\n",
                            "      <th>Metadata_inhibitor</th>\n",
                            "      <th>Metadata_inhibitor_concentration</th>\n",
                            "      <th>Metadata_inhibitor_concentration_unit</th>\n",
                            "      <th>Metadata_inducer1</th>\n",
                            "      <th>Metadata_inducer1_concentration</th>\n",
                            "      <th>Metadata_inducer1_concentration_unit</th>\n",
                            "      <th>...</th>\n",
                            "      <th>Nuclei_Texture_InverseDifferenceMoment_CorrER_3_01_256</th>\n",
                            "      <th>Nuclei_Texture_InverseDifferenceMoment_CorrER_3_02_256</th>\n",
                            "      <th>Nuclei_Texture_InverseDifferenceMoment_CorrER_3_03_256</th>\n",
                            "      <th>Nuclei_Texture_InverseDifferenceMoment_CorrMito_3_00_256</th>\n",
                            "      <th>Nuclei_Texture_InverseDifferenceMoment_CorrPM_3_00_256</th>\n",
                            "      <th>Nuclei_Texture_InverseDifferenceMoment_CorrPM_3_02_256</th>\n",
                            "      <th>Nuclei_Texture_SumEntropy_CorrPM_3_01_256</th>\n",
                            "      <th>Nuclei_Texture_SumVariance_CorrER_3_01_256</th>\n",
                            "      <th>Nuclei_Texture_SumVariance_CorrMito_3_03_256</th>\n",
                            "      <th>Nuclei_Texture_SumVariance_CorrPM_3_03_256</th>\n",
                            "    </tr>\n",
                            "  </thead>\n",
                            "  <tbody>\n",
                            "    <tr>\n",
                            "      <th>0</th>\n",
                            "      <td>SH-SY5Y</td>\n",
                            "      <td>B13</td>\n",
                            "      <td>3780</td>\n",
                            "      <td>6</td>\n",
                            "      <td>Media_ctr</td>\n",
                            "      <td>NaN</td>\n",
                            "      <td>None</td>\n",
                            "      <td>media_ctr</td>\n",
                            "      <td>None</td>\n",
                            "      <td>None</td>\n",
                            "      <td>...</td>\n",
                            "      <td>-1.837110</td>\n",
                            "      <td>-0.594605</td>\n",
                            "      <td>-1.290898</td>\n",
                            "      <td>-3.120176</td>\n",
                            "      <td>-3.002434</td>\n",
                            "      <td>-1.479849</td>\n",
                            "      <td>1.850378</td>\n",
                            "      <td>0.024153</td>\n",
                            "      <td>0.307726</td>\n",
                            "      <td>0.092313</td>\n",
                            "    </tr>\n",
                            "    <tr>\n",
                            "      <th>1</th>\n",
                            "      <td>SH-SY5Y</td>\n",
                            "      <td>B13</td>\n",
                            "      <td>3780</td>\n",
                            "      <td>6</td>\n",
                            "      <td>Media_ctr</td>\n",
                            "      <td>NaN</td>\n",
                            "      <td>None</td>\n",
                            "      <td>media_ctr</td>\n",
                            "      <td>None</td>\n",
                            "      <td>None</td>\n",
                            "      <td>...</td>\n",
                            "      <td>-0.838109</td>\n",
                            "      <td>-0.678986</td>\n",
                            "      <td>-0.328452</td>\n",
                            "      <td>-3.717218</td>\n",
                            "      <td>-0.826658</td>\n",
                            "      <td>-0.460672</td>\n",
                            "      <td>0.897067</td>\n",
                            "      <td>-0.042456</td>\n",
                            "      <td>1.445562</td>\n",
                            "      <td>0.009877</td>\n",
                            "    </tr>\n",
                            "    <tr>\n",
                            "      <th>2</th>\n",
                            "      <td>SH-SY5Y</td>\n",
                            "      <td>B13</td>\n",
                            "      <td>3780</td>\n",
                            "      <td>6</td>\n",
                            "      <td>Media_ctr</td>\n",
                            "      <td>NaN</td>\n",
                            "      <td>None</td>\n",
                            "      <td>media_ctr</td>\n",
                            "      <td>None</td>\n",
                            "      <td>None</td>\n",
                            "      <td>...</td>\n",
                            "      <td>0.501930</td>\n",
                            "      <td>-0.226678</td>\n",
                            "      <td>-1.250159</td>\n",
                            "      <td>-0.689588</td>\n",
                            "      <td>-1.373834</td>\n",
                            "      <td>-1.336068</td>\n",
                            "      <td>0.825340</td>\n",
                            "      <td>-0.036940</td>\n",
                            "      <td>-0.020781</td>\n",
                            "      <td>0.000861</td>\n",
                            "    </tr>\n",
                            "    <tr>\n",
                            "      <th>3</th>\n",
                            "      <td>SH-SY5Y</td>\n",
                            "      <td>B13</td>\n",
                            "      <td>3780</td>\n",
                            "      <td>6</td>\n",
                            "      <td>Media_ctr</td>\n",
                            "      <td>NaN</td>\n",
                            "      <td>None</td>\n",
                            "      <td>media_ctr</td>\n",
                            "      <td>None</td>\n",
                            "      <td>None</td>\n",
                            "      <td>...</td>\n",
                            "      <td>0.613212</td>\n",
                            "      <td>1.059709</td>\n",
                            "      <td>0.802273</td>\n",
                            "      <td>-0.485147</td>\n",
                            "      <td>0.050987</td>\n",
                            "      <td>-0.200275</td>\n",
                            "      <td>0.458627</td>\n",
                            "      <td>-0.072012</td>\n",
                            "      <td>-0.070032</td>\n",
                            "      <td>-0.029253</td>\n",
                            "    </tr>\n",
                            "    <tr>\n",
                            "      <th>4</th>\n",
                            "      <td>SH-SY5Y</td>\n",
                            "      <td>B13</td>\n",
                            "      <td>3780</td>\n",
                            "      <td>6</td>\n",
                            "      <td>Media_ctr</td>\n",
                            "      <td>NaN</td>\n",
                            "      <td>None</td>\n",
                            "      <td>media_ctr</td>\n",
                            "      <td>None</td>\n",
                            "      <td>None</td>\n",
                            "      <td>...</td>\n",
                            "      <td>0.189899</td>\n",
                            "      <td>-0.535990</td>\n",
                            "      <td>-0.798744</td>\n",
                            "      <td>-0.505780</td>\n",
                            "      <td>0.419497</td>\n",
                            "      <td>-0.052682</td>\n",
                            "      <td>-0.488302</td>\n",
                            "      <td>-0.055926</td>\n",
                            "      <td>0.005790</td>\n",
                            "      <td>-0.060486</td>\n",
                            "    </tr>\n",
                            "  </tbody>\n",
                            "</table>\n",
                            "<p>5 rows × 1246 columns</p>\n",
                            "</div>"
                        ],
                        "text/plain": [
                            "  Metadata_cell_type Metadata_Well  Metadata_number_of_singlecells  \\\n",
                            "0            SH-SY5Y           B13                            3780   \n",
                            "1            SH-SY5Y           B13                            3780   \n",
                            "2            SH-SY5Y           B13                            3780   \n",
                            "3            SH-SY5Y           B13                            3780   \n",
                            "4            SH-SY5Y           B13                            3780   \n",
                            "\n",
                            "   Metadata_incubation inducer (h) Metadata_inhibitor  \\\n",
                            "0                                6          Media_ctr   \n",
                            "1                                6          Media_ctr   \n",
                            "2                                6          Media_ctr   \n",
                            "3                                6          Media_ctr   \n",
                            "4                                6          Media_ctr   \n",
                            "\n",
                            "   Metadata_inhibitor_concentration Metadata_inhibitor_concentration_unit  \\\n",
                            "0                               NaN                                  None   \n",
                            "1                               NaN                                  None   \n",
                            "2                               NaN                                  None   \n",
                            "3                               NaN                                  None   \n",
                            "4                               NaN                                  None   \n",
                            "\n",
                            "  Metadata_inducer1 Metadata_inducer1_concentration  \\\n",
                            "0         media_ctr                            None   \n",
                            "1         media_ctr                            None   \n",
                            "2         media_ctr                            None   \n",
                            "3         media_ctr                            None   \n",
                            "4         media_ctr                            None   \n",
                            "\n",
                            "  Metadata_inducer1_concentration_unit  ...  \\\n",
                            "0                                 None  ...   \n",
                            "1                                 None  ...   \n",
                            "2                                 None  ...   \n",
                            "3                                 None  ...   \n",
                            "4                                 None  ...   \n",
                            "\n",
                            "  Nuclei_Texture_InverseDifferenceMoment_CorrER_3_01_256  \\\n",
                            "0                                          -1.837110       \n",
                            "1                                          -0.838109       \n",
                            "2                                           0.501930       \n",
                            "3                                           0.613212       \n",
                            "4                                           0.189899       \n",
                            "\n",
                            "   Nuclei_Texture_InverseDifferenceMoment_CorrER_3_02_256  \\\n",
                            "0                                          -0.594605        \n",
                            "1                                          -0.678986        \n",
                            "2                                          -0.226678        \n",
                            "3                                           1.059709        \n",
                            "4                                          -0.535990        \n",
                            "\n",
                            "  Nuclei_Texture_InverseDifferenceMoment_CorrER_3_03_256  \\\n",
                            "0                                          -1.290898       \n",
                            "1                                          -0.328452       \n",
                            "2                                          -1.250159       \n",
                            "3                                           0.802273       \n",
                            "4                                          -0.798744       \n",
                            "\n",
                            "   Nuclei_Texture_InverseDifferenceMoment_CorrMito_3_00_256  \\\n",
                            "0                                          -3.120176          \n",
                            "1                                          -3.717218          \n",
                            "2                                          -0.689588          \n",
                            "3                                          -0.485147          \n",
                            "4                                          -0.505780          \n",
                            "\n",
                            "  Nuclei_Texture_InverseDifferenceMoment_CorrPM_3_00_256  \\\n",
                            "0                                          -3.002434       \n",
                            "1                                          -0.826658       \n",
                            "2                                          -1.373834       \n",
                            "3                                           0.050987       \n",
                            "4                                           0.419497       \n",
                            "\n",
                            "   Nuclei_Texture_InverseDifferenceMoment_CorrPM_3_02_256  \\\n",
                            "0                                          -1.479849        \n",
                            "1                                          -0.460672        \n",
                            "2                                          -1.336068        \n",
                            "3                                          -0.200275        \n",
                            "4                                          -0.052682        \n",
                            "\n",
                            "   Nuclei_Texture_SumEntropy_CorrPM_3_01_256  \\\n",
                            "0                                   1.850378   \n",
                            "1                                   0.897067   \n",
                            "2                                   0.825340   \n",
                            "3                                   0.458627   \n",
                            "4                                  -0.488302   \n",
                            "\n",
                            "   Nuclei_Texture_SumVariance_CorrER_3_01_256  \\\n",
                            "0                                    0.024153   \n",
                            "1                                   -0.042456   \n",
                            "2                                   -0.036940   \n",
                            "3                                   -0.072012   \n",
                            "4                                   -0.055926   \n",
                            "\n",
                            "   Nuclei_Texture_SumVariance_CorrMito_3_03_256  \\\n",
                            "0                                      0.307726   \n",
                            "1                                      1.445562   \n",
                            "2                                     -0.020781   \n",
                            "3                                     -0.070032   \n",
                            "4                                      0.005790   \n",
                            "\n",
                            "   Nuclei_Texture_SumVariance_CorrPM_3_03_256  \n",
                            "0                                    0.092313  \n",
                            "1                                    0.009877  \n",
                            "2                                    0.000861  \n",
                            "3                                   -0.029253  \n",
                            "4                                   -0.060486  \n",
                            "\n",
                            "[5 rows x 1246 columns]"
                        ]
                    },
                    "execution_count": 8,
                    "metadata": {},
                    "output_type": "execute_result"
                }
            ],

            "source": [
                "print(feature_df.shape)\n",
                "feature_df.head()"
            ]
        },
        {
            "cell_type": "code",
            "execution_count": null,
            "id": "029dfdb7",
            "metadata": {
                "execution": {
                    "iopub.execute_input": "2023-12-31T05:47:44.745612Z",
                    "iopub.status.busy": "2023-12-31T05:47:44.744787Z",
                    "iopub.status.idle": "2023-12-31T05:47:51.360627Z",
                    "shell.execute_reply": "2023-12-31T05:47:51.360054Z"
                },
                "papermill": {
                    "duration": null,
                    "end_time": null,
                    "exception": null,
                    "start_time": null,
                    "status": "completed"
                },
                "tags": []
            },
            "outputs": [
                {
                    "name": "stdout",
                    "output_type": "stream",
                    "text": [
                        "(600816, 1246)\n"
                    ]
                },
                {
                    "data": {
                        "text/html": [
                            "<div>\n",
                            "<style scoped>\n",
                            "    .dataframe tbody tr th:only-of-type {\n",
                            "        vertical-align: middle;\n",
                            "    }\n",
                            "\n",
                            "    .dataframe tbody tr th {\n",
                            "        vertical-align: top;\n",
                            "    }\n",
                            "\n",
                            "    .dataframe thead th {\n",
                            "        text-align: right;\n",
                            "    }\n",
                            "</style>\n",
                            "<table border=\"1\" class=\"dataframe\">\n",
                            "  <thead>\n",
                            "    <tr style=\"text-align: right;\">\n",
                            "      <th></th>\n",
                            "      <th>Metadata_cell_type</th>\n",
                            "      <th>Metadata_Well</th>\n",
                            "      <th>Metadata_number_of_singlecells</th>\n",
                            "      <th>Metadata_incubation inducer (h)</th>\n",
                            "      <th>Metadata_inhibitor</th>\n",
                            "      <th>Metadata_inhibitor_concentration</th>\n",
                            "      <th>Metadata_inhibitor_concentration_unit</th>\n",
                            "      <th>Metadata_inducer1</th>\n",
                            "      <th>Metadata_inducer1_concentration</th>\n",
                            "      <th>Metadata_inducer1_concentration_unit</th>\n",
                            "      <th>...</th>\n",
                            "      <th>Nuclei_Texture_InverseDifferenceMoment_CorrER_3_01_256</th>\n",
                            "      <th>Nuclei_Texture_InverseDifferenceMoment_CorrER_3_02_256</th>\n",
                            "      <th>Nuclei_Texture_InverseDifferenceMoment_CorrER_3_03_256</th>\n",
                            "      <th>Nuclei_Texture_InverseDifferenceMoment_CorrMito_3_00_256</th>\n",
                            "      <th>Nuclei_Texture_InverseDifferenceMoment_CorrPM_3_00_256</th>\n",
                            "      <th>Nuclei_Texture_InverseDifferenceMoment_CorrPM_3_02_256</th>\n",
                            "      <th>Nuclei_Texture_SumEntropy_CorrPM_3_01_256</th>\n",
                            "      <th>Nuclei_Texture_SumVariance_CorrER_3_01_256</th>\n",
                            "      <th>Nuclei_Texture_SumVariance_CorrMito_3_03_256</th>\n",
                            "      <th>Nuclei_Texture_SumVariance_CorrPM_3_03_256</th>\n",
                            "    </tr>\n",
                            "  </thead>\n",
                            "  <tbody>\n",
                            "    <tr>\n",
                            "      <th>0</th>\n",
                            "      <td>SH-SY5Y</td>\n",
                            "      <td>B13</td>\n",
                            "      <td>3780</td>\n",
                            "      <td>6</td>\n",
                            "      <td>Media_ctr</td>\n",
                            "      <td>NaN</td>\n",
                            "      <td>None</td>\n",
                            "      <td>media_ctr</td>\n",
                            "      <td>None</td>\n",
                            "      <td>None</td>\n",
                            "      <td>...</td>\n",
                            "      <td>-1.837110</td>\n",
                            "      <td>-0.594605</td>\n",
                            "      <td>-1.290898</td>\n",
                            "      <td>-3.120176</td>\n",
                            "      <td>-3.002434</td>\n",
                            "      <td>-1.479849</td>\n",
                            "      <td>1.850378</td>\n",
                            "      <td>0.024153</td>\n",
                            "      <td>0.307726</td>\n",
                            "      <td>0.092313</td>\n",
                            "    </tr>\n",
                            "    <tr>\n",
                            "      <th>1</th>\n",
                            "      <td>SH-SY5Y</td>\n",
                            "      <td>B13</td>\n",
                            "      <td>3780</td>\n",
                            "      <td>6</td>\n",
                            "      <td>Media_ctr</td>\n",
                            "      <td>NaN</td>\n",
                            "      <td>None</td>\n",
                            "      <td>media_ctr</td>\n",
                            "      <td>None</td>\n",
                            "      <td>None</td>\n",
                            "      <td>...</td>\n",
                            "      <td>-0.838109</td>\n",
                            "      <td>-0.678986</td>\n",
                            "      <td>-0.328452</td>\n",
                            "      <td>-3.717218</td>\n",
                            "      <td>-0.826658</td>\n",
                            "      <td>-0.460672</td>\n",
                            "      <td>0.897067</td>\n",
                            "      <td>-0.042456</td>\n",
                            "      <td>1.445562</td>\n",
                            "      <td>0.009877</td>\n",
                            "    </tr>\n",
                            "    <tr>\n",
                            "      <th>2</th>\n",
                            "      <td>SH-SY5Y</td>\n",
                            "      <td>B13</td>\n",
                            "      <td>3780</td>\n",
                            "      <td>6</td>\n",
                            "      <td>Media_ctr</td>\n",
                            "      <td>NaN</td>\n",
                            "      <td>None</td>\n",
                            "      <td>media_ctr</td>\n",
                            "      <td>None</td>\n",
                            "      <td>None</td>\n",
                            "      <td>...</td>\n",
                            "      <td>0.501930</td>\n",
                            "      <td>-0.226678</td>\n",
                            "      <td>-1.250159</td>\n",
                            "      <td>-0.689588</td>\n",
                            "      <td>-1.373834</td>\n",
                            "      <td>-1.336068</td>\n",
                            "      <td>0.825340</td>\n",
                            "      <td>-0.036940</td>\n",
                            "      <td>-0.020781</td>\n",
                            "      <td>0.000861</td>\n",
                            "    </tr>\n",
                            "    <tr>\n",
                            "      <th>3</th>\n",
                            "      <td>SH-SY5Y</td>\n",
                            "      <td>B13</td>\n",
                            "      <td>3780</td>\n",
                            "      <td>6</td>\n",
                            "      <td>Media_ctr</td>\n",
                            "      <td>NaN</td>\n",
                            "      <td>None</td>\n",
                            "      <td>media_ctr</td>\n",
                            "      <td>None</td>\n",
                            "      <td>None</td>\n",
                            "      <td>...</td>\n",
                            "      <td>0.613212</td>\n",
                            "      <td>1.059709</td>\n",
                            "      <td>0.802273</td>\n",
                            "      <td>-0.485147</td>\n",
                            "      <td>0.050987</td>\n",
                            "      <td>-0.200275</td>\n",
                            "      <td>0.458627</td>\n",
                            "      <td>-0.072012</td>\n",
                            "      <td>-0.070032</td>\n",
                            "      <td>-0.029253</td>\n",
                            "    </tr>\n",
                            "    <tr>\n",
                            "      <th>4</th>\n",
                            "      <td>SH-SY5Y</td>\n",
                            "      <td>B13</td>\n",
                            "      <td>3780</td>\n",
                            "      <td>6</td>\n",
                            "      <td>Media_ctr</td>\n",
                            "      <td>NaN</td>\n",
                            "      <td>None</td>\n",
                            "      <td>media_ctr</td>\n",
                            "      <td>None</td>\n",
                            "      <td>None</td>\n",
                            "      <td>...</td>\n",
                            "      <td>0.189899</td>\n",
                            "      <td>-0.535990</td>\n",
                            "      <td>-0.798744</td>\n",
                            "      <td>-0.505780</td>\n",
                            "      <td>0.419497</td>\n",
                            "      <td>-0.052682</td>\n",
                            "      <td>-0.488302</td>\n",
                            "      <td>-0.055926</td>\n",
                            "      <td>0.005790</td>\n",
                            "      <td>-0.060486</td>\n",
                            "    </tr>\n",
                            "  </tbody>\n",
                            "</table>\n",
                            "<p>5 rows × 1246 columns</p>\n",
                            "</div>"
                        ],
                        "text/plain": [
                            "  Metadata_cell_type Metadata_Well  Metadata_number_of_singlecells  \\\n",
                            "0            SH-SY5Y           B13                            3780   \n",
                            "1            SH-SY5Y           B13                            3780   \n",
                            "2            SH-SY5Y           B13                            3780   \n",
                            "3            SH-SY5Y           B13                            3780   \n",
                            "4            SH-SY5Y           B13                            3780   \n",
                            "\n",
                            "   Metadata_incubation inducer (h) Metadata_inhibitor  \\\n",
                            "0                                6          Media_ctr   \n",
                            "1                                6          Media_ctr   \n",
                            "2                                6          Media_ctr   \n",
                            "3                                6          Media_ctr   \n",
                            "4                                6          Media_ctr   \n",
                            "\n",
                            "   Metadata_inhibitor_concentration Metadata_inhibitor_concentration_unit  \\\n",
                            "0                               NaN                                  None   \n",
                            "1                               NaN                                  None   \n",
                            "2                               NaN                                  None   \n",
                            "3                               NaN                                  None   \n",
                            "4                               NaN                                  None   \n",
                            "\n",
                            "  Metadata_inducer1 Metadata_inducer1_concentration  \\\n",
                            "0         media_ctr                            None   \n",
                            "1         media_ctr                            None   \n",
                            "2         media_ctr                            None   \n",
                            "3         media_ctr                            None   \n",
                            "4         media_ctr                            None   \n",
                            "\n",
                            "  Metadata_inducer1_concentration_unit  ...  \\\n",
                            "0                                 None  ...   \n",
                            "1                                 None  ...   \n",
                            "2                                 None  ...   \n",
                            "3                                 None  ...   \n",
                            "4                                 None  ...   \n",
                            "\n",
                            "  Nuclei_Texture_InverseDifferenceMoment_CorrER_3_01_256  \\\n",
                            "0                                          -1.837110       \n",
                            "1                                          -0.838109       \n",
                            "2                                           0.501930       \n",
                            "3                                           0.613212       \n",
                            "4                                           0.189899       \n",
                            "\n",
                            "   Nuclei_Texture_InverseDifferenceMoment_CorrER_3_02_256  \\\n",
                            "0                                          -0.594605        \n",
                            "1                                          -0.678986        \n",
                            "2                                          -0.226678        \n",
                            "3                                           1.059709        \n",
                            "4                                          -0.535990        \n",
                            "\n",
                            "  Nuclei_Texture_InverseDifferenceMoment_CorrER_3_03_256  \\\n",
                            "0                                          -1.290898       \n",
                            "1                                          -0.328452       \n",
                            "2                                          -1.250159       \n",
                            "3                                           0.802273       \n",
                            "4                                          -0.798744       \n",
                            "\n",
                            "   Nuclei_Texture_InverseDifferenceMoment_CorrMito_3_00_256  \\\n",
                            "0                                          -3.120176          \n",
                            "1                                          -3.717218          \n",
                            "2                                          -0.689588          \n",
                            "3                                          -0.485147          \n",
                            "4                                          -0.505780          \n",
                            "\n",
                            "  Nuclei_Texture_InverseDifferenceMoment_CorrPM_3_00_256  \\\n",
                            "0                                          -3.002434       \n",
                            "1                                          -0.826658       \n",
                            "2                                          -1.373834       \n",
                            "3                                           0.050987       \n",
                            "4                                           0.419497       \n",
                            "\n",
                            "   Nuclei_Texture_InverseDifferenceMoment_CorrPM_3_02_256  \\\n",
                            "0                                          -1.479849        \n",
                            "1                                          -0.460672        \n",
                            "2                                          -1.336068        \n",
                            "3                                          -0.200275        \n",
                            "4                                          -0.052682        \n",
                            "\n",
                            "   Nuclei_Texture_SumEntropy_CorrPM_3_01_256  \\\n",
                            "0                                   1.850378   \n",
                            "1                                   0.897067   \n",
                            "2                                   0.825340   \n",
                            "3                                   0.458627   \n",
                            "4                                  -0.488302   \n",
                            "\n",
                            "   Nuclei_Texture_SumVariance_CorrER_3_01_256  \\\n",
                            "0                                    0.024153   \n",
                            "1                                   -0.042456   \n",
                            "2                                   -0.036940   \n",
                            "3                                   -0.072012   \n",
                            "4                                   -0.055926   \n",
                            "\n",
                            "   Nuclei_Texture_SumVariance_CorrMito_3_03_256  \\\n",
                            "0                                      0.307726   \n",
                            "1                                      1.445562   \n",
                            "2                                     -0.020781   \n",
                            "3                                     -0.070032   \n",
                            "4                                      0.005790   \n",
                            "\n",
                            "   Nuclei_Texture_SumVariance_CorrPM_3_03_256  \n",
                            "0                                    0.092313  \n",
                            "1                                    0.009877  \n",
                            "2                                    0.000861  \n",
                            "3                                   -0.029253  \n",
                            "4                                   -0.060486  \n",
                            "\n",
                            "[5 rows x 1246 columns]"
                        ]
                    },
                    "execution_count": 9,
                    "metadata": {},
                    "output_type": "execute_result"
                }
            ],

            "source": [
                "# removing costes features as they behave with great variance across all data\n",
                "feature_df = feature_df.drop(feature_df.filter(regex=\"Costes\").columns, axis=1)\n",
                "print(feature_df.shape)\n",
                "feature_df.head()"
            ]
        },
        {
            "cell_type": "code",
            "execution_count": null,
            "id": "34d8981d",
            "metadata": {
                "execution": {
                    "iopub.execute_input": "2023-12-31T05:47:51.373655Z",
                    "iopub.status.busy": "2023-12-31T05:47:51.373265Z",
                    "iopub.status.idle": "2023-12-31T05:48:32.985685Z",
                    "shell.execute_reply": "2023-12-31T05:48:32.985082Z"
                },
                "papermill": {
                    "duration": null,
                    "end_time": null,
                    "exception": null,
                    "start_time": null,
                    "status": "completed"
                },
                "tags": []
            },
            "outputs": [],
            "source": [
                "# replacing '/' in treatment dosage column to avoid errors in file interpolation including such strings\n",
                "feature_df = feature_df.replace(to_replace=\"/\", value=\"_per_\", regex=True)"
            ]
        },
        {
            "cell_type": "code",
            "execution_count": null,
            "id": "018fdc98",
            "metadata": {
                "execution": {
                    "iopub.execute_input": "2023-12-31T05:48:32.998024Z",
                    "iopub.status.busy": "2023-12-31T05:48:32.997563Z",
                    "iopub.status.idle": "2023-12-31T05:48:33.430591Z",
                    "shell.execute_reply": "2023-12-31T05:48:33.429976Z"
                },
                "papermill": {
                    "duration": null,
                    "end_time": null,
                    "exception": null,
                    "start_time": null,
                    "status": "completed"
                },
                "tags": []
            },
            "outputs": [
                {
                    "name": "stderr",
                    "output_type": "stream",
                    "text": [
                        "/tmp/ipykernel_840915/2784960678.py:8: SettingWithCopyWarning: \n",
                        "A value is trying to be set on a copy of a slice from a DataFrame\n",
                        "\n",
                        "See the caveats in the documentation: https://pandas.pydata.org/pandas-docs/stable/user_guide/indexing.html#returning-a-view-versus-a-copy\n",
                        "  feature_df[columns_to_fill].fillna(0, inplace=True)\n"
                    ]
                }
            ],

            "source": [
                "# replace nan values with 0\n",
                "\n",
                "columns_to_fill = [\n",
                "    \"Metadata_inducer1_concentration\",\n",
                "    \"Metadata_inducer2_concentration\",\n",
                "    \"Metadata_inhibitor_concentration\",\n",
                "]\n",
                "feature_df[columns_to_fill].fillna(0, inplace=True)"
            ]
        },
        {
            "cell_type": "code",
            "execution_count": null,
            "id": "70746fb9",
            "metadata": {
                "execution": {
                    "iopub.execute_input": "2023-12-31T05:48:33.441129Z",
                    "iopub.status.busy": "2023-12-31T05:48:33.440734Z",
                    "iopub.status.idle": "2023-12-31T05:48:33.623639Z",
                    "shell.execute_reply": "2023-12-31T05:48:33.623013Z"
                },
                "papermill": {
                    "duration": null,
                    "end_time": null,
                    "exception": null,
                    "start_time": null,
                    "status": "completed"
                },
                "tags": []
            },
            "outputs": [],
            "source": [
                "# replace all None values with 0\n",
                "feature_df[\"Metadata_inducer1_concentration\"].fillna(0, inplace=True)"
            ]
        },
        {
            "cell_type": "code",
            "execution_count": null,
            "id": "356e046c",
            "metadata": {
                "execution": {
                    "iopub.execute_input": "2023-12-31T05:48:33.633938Z",
                    "iopub.status.busy": "2023-12-31T05:48:33.633406Z",
                    "iopub.status.idle": "2023-12-31T05:48:39.937932Z",
                    "shell.execute_reply": "2023-12-31T05:48:39.937307Z"
                },
                "papermill": {
                    "duration": null,
                    "end_time": null,
                    "exception": null,
                    "start_time": null,
                    "status": "completed"
                },
                "tags": []
            },
            "outputs": [],
            "source": [
                "# create a list of columns to be converted to float\n",
                "col_list = [\n",
                "    \"Metadata_inducer1_concentration\",\n",
                "    \"Metadata_inducer2_concentration\",\n",
                "    \"Metadata_inhibitor_concentration\",\n",
                "]\n",
                "# loop through the list and convert each column to float\n",
                "for i in col_list:\n",
                "    feature_df[i] = feature_df[i].apply(\n",
                "        lambda x: f\"{float(x):.3f}\" if float(x) != 0 else float(x)\n",
                "    )"
            ]
        },
        {
            "attachments": {},
            "cell_type": "markdown",
            "id": "d109a042",
            "metadata": {
                "papermill": {
                    "duration": null,
                    "end_time": null,
                    "exception": null,
                    "start_time": null,
                    "status": "completed"
                },
                "tags": []
            },
            "source": [
                "#### Combine Inducer1 and Inducer2 into one column"
            ]
        },
        {
            "cell_type": "code",
            "execution_count": null,
            "id": "c99c7fb9",
            "metadata": {
                "execution": {
                    "iopub.execute_input": "2023-12-31T05:48:39.960412Z",
                    "iopub.status.busy": "2023-12-31T05:48:39.960041Z",
                    "iopub.status.idle": "2023-12-31T05:48:45.601979Z",
                    "shell.execute_reply": "2023-12-31T05:48:45.601254Z"
                },
                "papermill": {
                    "duration": null,
                    "end_time": null,
                    "exception": null,
                    "start_time": null,
                    "status": "completed"
                },
                "tags": []
            },
            "outputs": [],
            "source": [
                "# treatment column merge\n",
                "conditions = [\n",
                "    (feature_df[\"Metadata_inducer2\"].isnull()),\n",
                "    feature_df[\"Metadata_inducer2\"].notnull(),\n",
                "]\n",
                "\n",
                "results = [\n",
                "    (feature_df[\"Metadata_inducer1\"]).astype(str),\n",
                "    (\n",
                "        feature_df[\"Metadata_inducer1\"]\n",
                "        + \"_\"\n",
                "        + feature_df[\"Metadata_inducer2\"].astype(str)\n",
                "    ),\n",
                "]\n",
                "feature_df[\"Metadata_Treatment\"] = np.select(condlist=conditions, choicelist=results)\n",
                "\n",
                "\n",
                "# dose column merge\n",
                "results = [\n",
                "    (\n",
                "        feature_df[\"Metadata_inducer1_concentration\"].astype(str)\n",
                "        + \"_\"\n",
                "        + feature_df[\"Metadata_inducer1_concentration_unit\"].astype(str)\n",
                "    ),\n",
                "    (\n",
                "        feature_df[\"Metadata_inducer1_concentration\"].astype(str)\n",
                "        + \"_\"\n",
                "        + feature_df[\"Metadata_inducer1_concentration_unit\"].astype(str)\n",
                "        + \"_\"\n",
                "        + feature_df[\"Metadata_inducer2_concentration\"].astype(str)\n",
                "        + \"_\"\n",
                "        + feature_df[\"Metadata_inducer2_concentration_unit\"].astype(str)\n",
                "    ),\n",
                "]\n",
                "feature_df[\"Metadata_Dose\"] = np.select(condlist=conditions, choicelist=results)"
            ]
        },
        {
            "attachments": {},
            "I run via scriptscell_type": "markdown",
            "id": "44811a4f",
            "metadata": {
                "papermill": {
                    "duration": null,
                    "end_time": null,
                    "exception": null,
                    "start_time": null,
                    "status": "completed"
                },
                "tags": []
            },
            "source": [
                "## N Beta Column condition generation\n",
                "columns generated to used for linear modeling where terms separated by '__' will be a beta coefficient "
            ]
        },
        {
            "cell_type": "code",
            "execution_count": null,
            "id": "2ceddf6b",
            "metadata": {
                "execution": {
                    "iopub.execute_input": "2023-12-31T05:48:45.623282Z",
                    "iopub.status.busy": "2023-12-31T05:48:45.622718Z",
                    "iopub.status.idle": "2023-12-31T05:48:59.775959Z",
                    "shell.execute_reply": "2023-12-31T05:48:59.775327Z"
                },
                "papermill": {
                    "duration": null,
                    "end_time": null,
                    "exception": null,
                    "start_time": null,
                    "status": "completed"
                },
                "tags": []
            },
            "outputs": [],
            "source": [
                "# one beta of inudcer1, inducer1 concentration, inhibitor, and inhibitor concentration all as 1 beta term\n",
                "feature_df[\"oneb_Metadata_Treatment_Dose_Inhibitor_Dose\"] = (\n",
                "    feature_df[\"Metadata_Treatment\"]\n",
                "    + \"_\"\n",
                "    + feature_df[\"Metadata_Dose\"].astype(str)\n",
                "    # + \"_\"\n",
                "    # + feature_df['Metadata_inducer1_concentration_unit'].astype(str)\n",
                "    + \"_\"\n",
                "    + feature_df[\"Metadata_inhibitor\"].astype(str)\n",
                "    + \"_\"\n",
                "    + feature_df[\"Metadata_inhibitor_concentration\"].astype(str)\n",
                "    + \"_\"\n",
                "    + feature_df[\"Metadata_inhibitor_concentration_unit\"].astype(str)\n",
                ").astype(str)\n",
                "\n",
                "\n",
                "# two beta of inducer1, inhibitor, and inhibitor concentration all as 1 beta term + inducer1 concentration as 2nd beta term\n",
                "feature_df[\"twob_Metadata_Treatment_Dose_Inhibitor_Dose\"] = (\n",
                "    feature_df[\"Metadata_Treatment\"]\n",
                "    + \"_\"\n",
                "    + feature_df[\"Metadata_inhibitor\"].astype(str)\n",
                "    + \"_\"\n",
                "    + feature_df[\"Metadata_inhibitor_concentration\"].astype(str)\n",
                "    + \"__\"\n",
                "    + feature_df[\"Metadata_Dose\"].astype(str)\n",
                ").astype(str)\n",
                "\n",
                "# three beta of inducer 1 as 1 beta term, inducer1 concentration as 2nd beta term, inhibitor and inhibitor concentration as 3rd beta term\n",
                "feature_df[\"threeb_Metadata_Treatment_Dose_Inhibitor_Dose\"] = (\n",
                "    feature_df[\"Metadata_Treatment\"]\n",
                "    + \"__\"\n",
                "    + feature_df[\"Metadata_Dose\"].astype(str)\n",
                "    + \"__\"\n",
                "    + feature_df[\"Metadata_inducer1_concentration_unit\"].astype(str)\n",
                "    + \"_\"\n",
                "    + feature_df[\"Metadata_inhibitor\"].astype(str)\n",
                "    + \"_\"\n",
                "    + feature_df[\"Metadata_inhibitor_concentration\"].astype(str)\n",
                ").astype(str)\n",
                "\n",
                "# four beta of inducer 1 as 1 beta term, inducer1 concentration as 2nd beta term, inhibitor as 3rd beta term, and inhibitor concentration as 4th beta term\n",
                "feature_df[\"fourb_Metadata_Treatment_Dose_Inhibitor_Dose\"] = (\n",
                "    feature_df[\"Metadata_Treatment\"]\n",
                "    + \"__\"\n",
                "    + feature_df[\"Metadata_Dose\"].astype(str)\n",
                "    + \"__\"\n",
                "    + feature_df[\"Metadata_inducer1_concentration_unit\"].astype(str)\n",
                "    + \"_\"\n",
                "    + feature_df[\"Metadata_inhibitor\"].astype(str)\n",
                "    + \"__\"\n",
                "    + feature_df[\"Metadata_inhibitor_concentration\"].astype(str)\n",
                ").astype(str)"
            ]
        },
        {
            "cell_type": "code",
            "execution_count": null,
            "id": "4d5a6c1f",
            "metadata": {
                "execution": {
                    "iopub.execute_input": "2023-12-31T05:48:59.789605Z",
                    "iopub.status.busy": "2023-12-31T05:48:59.789007Z",
                    "iopub.status.idle": "2023-12-31T05:49:06.204336Z",
                    "shell.execute_reply": "2023-12-31T05:49:06.203712Z"
                },
                "papermill": {
                    "duration": null,
                    "end_time": null,
                    "exception": null,
                    "start_time": null,
                    "status": "completed"
                },
                "tags": []
            },
            "outputs": [
                {
                    "name": "stdout",
                    "output_type": "stream",
                    "text": [
                        "None 0\n",
                        "µ u\n",
                        "nan 0\n"
                    ]
                }
            ],

            "source": [
                "replacement_dict = {\n",
                "    \"None\": \"0\",\n",
                "    \"µ\": \"u\",\n",
                "    \"nan\": \"0\",\n",
                "}\n",
                "for pattern, replacement in replacement_dict.items():\n",
                "    print(pattern, replacement)\n",
                "    feature_df[\"oneb_Metadata_Treatment_Dose_Inhibitor_Dose\"] = feature_df[\n",
                "        \"oneb_Metadata_Treatment_Dose_Inhibitor_Dose\"\n",
                "    ].replace(to_replace=str(pattern), value=str(replacement), regex=True)"
            ]
        },
        {
            "cell_type": "code",
            "execution_count": null,
            "id": "d6110d9d",
            "metadata": {
                "execution": {
                    "iopub.execute_input": "2023-12-31T05:49:06.217242Z",
                    "iopub.status.busy": "2023-12-31T05:49:06.216721Z",
                    "iopub.status.idle": "2023-12-31T05:49:07.295971Z",
                    "shell.execute_reply": "2023-12-31T05:49:07.295362Z"
                },
                "papermill": {
                    "duration": null,
                    "end_time": null,
                    "exception": null,
                    "start_time": null,
                    "status": "completed"
                },
                "tags": []
            },
            "outputs": [],
            "source": [
                "feature_df[\"oneb_Metadata_Treatment_Dose_Inhibitor_Dose\"] = feature_df[\n",
                "    \"oneb_Metadata_Treatment_Dose_Inhibitor_Dose\"\n",
                "].str.replace(\"media_ctr_0.0_0_Media_ctr_0_0\", \"Media\", regex=False)\n",
                "\n",
                "feature_df[\"oneb_Metadata_Treatment_Dose_Inhibitor_Dose\"] = feature_df[\n",
                "    \"oneb_Metadata_Treatment_Dose_Inhibitor_Dose\"\n",
                "].str.replace(\"media_ctr_0.0_0_Media_0_0\", \"Media\", regex=False)\n",
                "\n",
                "feature_df[\"oneb_Metadata_Treatment_Dose_Inhibitor_Dose\"] = feature_df[\n",
                "    \"oneb_Metadata_Treatment_Dose_Inhibitor_Dose\"\n",
                "].str.replace(\"media_ctr_0.0_0_Media_ctr_0.0_0\", \"Media\", regex=False)\n",
                "\n",
                "feature_df[\"oneb_Metadata_Treatment_Dose_Inhibitor_Dose\"] = feature_df[\n",
                "    \"oneb_Metadata_Treatment_Dose_Inhibitor_Dose\"\n",
                "].str.replace(\n",
                "    \"Flagellin_1.000_0_Disulfiram_1.000_uM\",\n",
                "    \"Flagellin_1.000_ug_per_ml_Disulfiram_1.000_uM\",\n",
                "    regex=False,\n",
                ")\n",
                "\n",
                "feature_df[\"oneb_Metadata_Treatment_Dose_Inhibitor_Dose\"] = feature_df[\n",
                "    \"oneb_Metadata_Treatment_Dose_Inhibitor_Dose\"\n",
                "].str.replace(\n",
                "    \"Flagellin_1.000_0_DMSO_0.025_%\",\n",
                "    \"Flagellin_1.000_ug_per_ml_DMSO_0.025_%\",\n",
                "    regex=False,\n",
                ")\n",
                "\n",
                "feature_df[\"oneb_Metadata_Treatment_Dose_Inhibitor_Dose\"] = feature_df[\n",
                "    \"oneb_Metadata_Treatment_Dose_Inhibitor_Dose\"\n",
                "].str.replace(\n",
                "    \"Flagellin_0.100_ug_per_ml_DMSO_0.000_%\",\n",
                "    \"Flagellin_0.100_ug_per_ml_DMSO_0.025_%\",\n",
                "    regex=False,\n",
                ")\n",
                "\n",
                "feature_df[\"oneb_Metadata_Treatment_Dose_Inhibitor_Dose\"] = feature_df[\n",
                "    \"oneb_Metadata_Treatment_Dose_Inhibitor_Dose\"\n",
                "].str.replace(\n",
                "    \"Flagellin_1.000_ug_per_ml_DMSO_0.000_%\",\n",
                "    \"Flagellin_1.000_ug_per_ml_DMSO_0.025_%\",\n",
                "    regex=False,\n",
                ")\n",
                "\n",
                "feature_df[\"oneb_Metadata_Treatment_Dose_Inhibitor_Dose\"] = feature_df[\n",
                "    \"oneb_Metadata_Treatment_Dose_Inhibitor_Dose\"\n",
                "].str.replace(\"media_ctr_Media_ctr_nan__0.0_µg_per_ml\", \"Media\", regex=False)\n",
                "\n",
                "feature_df[\"oneb_Metadata_Treatment_Dose_Inhibitor_Dose\"] = feature_df[\n",
                "    \"oneb_Metadata_Treatment_Dose_Inhibitor_Dose\"\n",
                "].str.replace(\"media_ctr_0.0_ug_per_ml_Media_ctr_0_0\", \"Media\", regex=False)"
            ]
        },
        {
            "cell_type": "code",
            "execution_count": 18,
            "id": "ed85c7b9",
            "metadata": {
                "papermill": {
                    "duration": null,
                    "end_time": null,
                    "exception": null,
                    "start_time": null,
                    "status": "completed"
                },
                "tags": []
            },
            "outputs": [
                {
                    "name": "stdout",
                    "output_type": "stream",
                    "text": [
                        "37\n"
                    ]
                }
            ],
            "source": [
                "print(len(feature_df[\"oneb_Metadata_Treatment_Dose_Inhibitor_Dose\"].unique()))"
            ]
        },
        {
            "cell_type": "code",
            "execution_count": 19,

            "id": "ae6971b5",
            "metadata": {
                "execution": {
                    "iopub.execute_input": "2023-12-31T05:49:07.309079Z",
                    "iopub.status.busy": "2023-12-31T05:49:07.308638Z",
                    "iopub.status.idle": "2023-12-31T05:49:10.680810Z",
                    "shell.execute_reply": "2023-12-31T05:49:10.680188Z"
                },
                "papermill": {
                    "duration": null,
                    "end_time": null,
                    "exception": null,
                    "start_time": null,
                    "status": "completed"
                },
                "tags": []
            },
            "outputs": [],
            "source": [
                "# need to convert to strings to save as parquet\n",
                "# if the column is an object then convert it to a string\n",
                "for column in feature_df.columns:\n",
                "    if feature_df[column].dtype == \"object\":\n",
                "        feature_df[column] = feature_df[column].astype(str)"
            ]
        },
        {
            "cell_type": "code",
            "execution_count": 20,
            "id": "a1684af7",
            "metadata": {
                "papermill": {
                    "duration": null,
                    "end_time": null,
                    "exception": null,
                    "start_time": null,
                    "status": "completed"
                },
                "tags": []
            },
            "outputs": [
                {
                    "name": "stdout",
                    "output_type": "stream",
                    "text": [
                        "(600816, 1252)\n",
                        "(598156, 1252)\n"
                    ]
                }
            ],
            "source": [
                "# clean up any NaN values\n",
                "print(feature_df.shape)\n",
                "# drop rows that contain any NaN values\n",
                "feature_df = feature_df.dropna()\n",
                "print(feature_df.shape)"
            ]
        },
        {
            "cell_type": "code",
            "execution_count": 21,

            "id": "28cbc3d6",
            "metadata": {
                "execution": {
                    "iopub.execute_input": "2023-12-31T05:49:10.694970Z",
                    "iopub.status.busy": "2023-12-31T05:49:10.694637Z",
                    "iopub.status.idle": "2023-12-31T05:51:54.441532Z",
                    "shell.execute_reply": "2023-12-31T05:51:54.441008Z"
                },
                "papermill": {
                    "duration": null,
                    "end_time": null,
                    "exception": null,
                    "start_time": null,
                    "status": "completed"
                },
                "tags": []
            },
            "outputs": [],
            "source": [
                "# write to parquet file\n",
                "feature_df.to_parquet(feature_df_out_path)"
            ]
        }
    ],
    "execution_count": 19,
    "id": "28cbc3d6",
    "metadata": {
        "kernelspec": {
            "display_name": "Interstellar",
            "language": "python",
            "name": "python3"
        },
        "language_info": {
            "codemirror_mode": {
                "name": "ipython",
                "version": 3
            },
            "file_extension": ".py",
            "mimetype": "text/x-python",
            "name": "python",
            "nbconvert_exporter": "python",
            "pygments_lexer": "ipython3",
            "version": "3.10.14"
        },
        "papermill": {
            "default_parameters": {},
            "duration": 2.9381,
            "end_time": "2024-04-03T14:37:08.987773",

            "environment_variables": {},
            "exception": null,
            "input_path": "1.preprocessing_morphology_data.ipynb",
            "output_path": "1.preprocessing_morphology_data.ipynb",
            "parameters": {
                "cell_type": "SHSY5Y"
            },
            "start_time": "2024-04-03T14:37:06.049673",

            "version": "2.4.0"
        },
        "vscode": {
            "interpreter": {
                "hash": "72ae02083a9ca7d143c492d1aec380c7bf553ec51bd66e90e72bba65228121b6"
            }
        }
    },
    "nbformat": 4,
    "nbformat_minor": 5,
    "outputs": [],
    "source": [
        "# write to parquet file\n",
        "feature_df.to_parquet(feature_df_out_path)"
    ],
    "tags": []
}
