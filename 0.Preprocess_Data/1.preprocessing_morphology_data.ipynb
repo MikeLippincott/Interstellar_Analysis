{
    "cells": [
        {
            "cell_type": "markdown",
            "id": "d040972a",
            "metadata": {},
            "source": [
                "This noteboook pre-processes the single cell morphology data to be ready for exploratory analysis and machine learning."
            ]
        },
        {
            "cell_type": "code",
            "execution_count": 1,
            "id": "1ed18d57",
            "metadata": {
                "execution": {
                    "iopub.execute_input": "2023-09-21T20:07:37.582863Z",
                    "iopub.status.busy": "2023-09-21T20:07:37.582461Z",
                    "iopub.status.idle": "2023-09-21T20:07:39.550776Z",
                    "shell.execute_reply": "2023-09-21T20:07:39.550137Z"
                },
                "papermill": {
                    "duration": 1.974609,
                    "end_time": "2023-09-21T20:07:39.552424",
                    "exception": false,
                    "start_time": "2023-09-21T20:07:37.577815",
                    "status": "completed"
                },
                "tags": []
            },
            "outputs": [],
            "source": [
                "import pathlib\n",
                "\n",
                "import numpy as np\n",
                "import pandas as pd\n",
                "import papermill as pm\n",
                "import pyarrow as pa\n",
                "import pyarrow.parquet as pq"
            ]
        },
        {
            "cell_type": "code",
            "execution_count": 2,
            "id": "9797b304",
            "metadata": {
                "execution": {
                    "iopub.execute_input": "2023-09-21T20:07:39.562182Z",
                    "iopub.status.busy": "2023-09-21T20:07:39.561721Z",
                    "iopub.status.idle": "2023-09-21T20:07:39.564593Z",
                    "shell.execute_reply": "2023-09-21T20:07:39.564061Z"
                },
                "papermill": {
                    "duration": 0.007562,
                    "end_time": "2023-09-21T20:07:39.565933",
                    "exception": false,
                    "start_time": "2023-09-21T20:07:39.558371",
                    "status": "completed"
                },
                "tags": [
                    "injected-parameters"
                ]
            },
            "outputs": [],
            "source": [
                "# Parameters\n",
                "cell_type = \"SHSY5Y\""
            ]
        },
        {
            "cell_type": "code",
            "execution_count": 3,
            "id": "7e41be25",
            "metadata": {
                "execution": {
                    "iopub.execute_input": "2023-09-21T20:07:39.572164Z",
                    "iopub.status.busy": "2023-09-21T20:07:39.571921Z",
                    "iopub.status.idle": "2023-09-21T20:10:29.878333Z",
                    "shell.execute_reply": "2023-09-21T20:10:29.877644Z"
                },
                "papermill": {
                    "duration": 170.311024,
                    "end_time": "2023-09-21T20:10:29.880022",
                    "exception": false,
                    "start_time": "2023-09-21T20:07:39.568998",
                    "status": "completed"
                },
                "tags": []
            },
            "outputs": [],
            "source": [
                "# Define inputs\n",
                "feature_file = pathlib.Path(f\"../data/{cell_type}_sc_norm_fs.parquet\")\n",
                "feature_df = pq.read_table(feature_file).to_pandas()"
            ]
        },
        {
            "cell_type": "code",
            "execution_count": 4,
            "id": "128e48fe",
            "metadata": {
                "execution": {
                    "iopub.execute_input": "2023-09-21T20:10:29.889633Z",
                    "iopub.status.busy": "2023-09-21T20:10:29.889087Z",
                    "iopub.status.idle": "2023-09-21T20:11:08.368440Z",
                    "shell.execute_reply": "2023-09-21T20:11:08.367881Z"
                },
                "papermill": {
                    "duration": 38.484656,
                    "end_time": "2023-09-21T20:11:08.370324",
                    "exception": false,
                    "start_time": "2023-09-21T20:10:29.885668",
                    "status": "completed"
                },
                "tags": []
            },
            "outputs": [],
            "source": [
                "# replace all \" \" with \"_\" in all values of the dataframe\n",
                "feature_df = feature_df.replace(to_replace=\" \", value=\"_\", regex=True)"
            ]
        },
        {
            "cell_type": "code",
            "execution_count": 5,
            "id": "aa6d40a8",
            "metadata": {
                "execution": {
                    "iopub.execute_input": "2023-09-21T20:11:08.380513Z",
                    "iopub.status.busy": "2023-09-21T20:11:08.380293Z",
                    "iopub.status.idle": "2023-09-21T20:11:09.339632Z",
                    "shell.execute_reply": "2023-09-21T20:11:09.339086Z"
                },
                "papermill": {
                    "duration": 0.96435,
                    "end_time": "2023-09-21T20:11:09.341109",
                    "exception": false,
                    "start_time": "2023-09-21T20:11:08.376759",
                    "status": "completed"
                },
                "tags": []
            },
            "outputs": [],
            "source": [
                "# remove uM in each row of the Metadata_inducer1_concentration column\n",
                "feature_df[\"Metadata_inducer1_concentration\"] = feature_df[\n",
                "    \"Metadata_inducer1_concentration\"\n",
                "].str.replace(\"\u00b5M\", \"\")"
            ]
        },
        {
            "cell_type": "code",
            "execution_count": 6,
            "id": "ba5ba736",
            "metadata": {
                "execution": {
                    "iopub.execute_input": "2023-09-21T20:11:09.347352Z",
                    "iopub.status.busy": "2023-09-21T20:11:09.346959Z",
                    "iopub.status.idle": "2023-09-21T20:11:09.511035Z",
                    "shell.execute_reply": "2023-09-21T20:11:09.510578Z"
                },
                "papermill": {
                    "duration": 0.168131,
                    "end_time": "2023-09-21T20:11:09.512223",
                    "exception": false,
                    "start_time": "2023-09-21T20:11:09.344092",
                    "status": "completed"
                },
                "tags": []
            },
            "outputs": [
                {
                    "data": {
                        "text/plain": [
                            "array([None, '0.100', '1.000', '10.000', '5.000', '20.000', '0.010',\n",
                            "       '100.000', '2.500'], dtype=object)"
                        ]
                    },
                    "execution_count": 6,
                    "metadata": {},
                    "output_type": "execute_result"
                }
            ],
            "source": [
                "feature_df[\"Metadata_inducer1_concentration\"].unique()"
            ]
        },
        {
            "cell_type": "code",
            "execution_count": 7,
            "id": "8418a230",
            "metadata": {
                "execution": {
                    "iopub.execute_input": "2023-09-21T20:11:09.518367Z",
                    "iopub.status.busy": "2023-09-21T20:11:09.518150Z",
                    "iopub.status.idle": "2023-09-21T20:11:09.520721Z",
                    "shell.execute_reply": "2023-09-21T20:11:09.520290Z"
                },
                "papermill": {
                    "duration": 0.006384,
                    "end_time": "2023-09-21T20:11:09.521601",
                    "exception": false,
                    "start_time": "2023-09-21T20:11:09.515217",
                    "status": "completed"
                },
                "tags": []
            },
            "outputs": [],
            "source": [
                "# define output file path\n",
                "feature_df_out_path = pathlib.Path(f\"../data/{cell_type}_preprocessed_sc_norm.parquet\")"
            ]
        },
        {
            "cell_type": "code",
            "execution_count": 8,
            "id": "79df4337",
            "metadata": {
                "execution": {
                    "iopub.execute_input": "2023-09-21T20:11:09.527344Z",
                    "iopub.status.busy": "2023-09-21T20:11:09.527016Z",
                    "iopub.status.idle": "2023-09-21T20:11:09.581675Z",
                    "shell.execute_reply": "2023-09-21T20:11:09.581282Z"
                },
                "papermill": {
                    "duration": 0.058898,
                    "end_time": "2023-09-21T20:11:09.582973",
                    "exception": false,
                    "start_time": "2023-09-21T20:11:09.524075",
                    "status": "completed"
                },
                "tags": []
            },
            "outputs": [
                {
                    "name": "stdout",
                    "output_type": "stream",
                    "text": [
                        "(597902, 1270)\n"
                    ]
                },
                {
                    "data": {
                        "text/html": [
                            "<div>\n",
                            "<style scoped>\n",
                            "    .dataframe tbody tr th:only-of-type {\n",
                            "        vertical-align: middle;\n",
                            "    }\n",
                            "\n",
                            "    .dataframe tbody tr th {\n",
                            "        vertical-align: top;\n",
                            "    }\n",
                            "\n",
                            "    .dataframe thead th {\n",
                            "        text-align: right;\n",
                            "    }\n",
                            "</style>\n",
                            "<table border=\"1\" class=\"dataframe\">\n",
                            "  <thead>\n",
                            "    <tr style=\"text-align: right;\">\n",
                            "      <th></th>\n",
                            "      <th>Metadata_cell_type</th>\n",
                            "      <th>Metadata_Well</th>\n",
                            "      <th>Metadata_number_of_singlecells</th>\n",
                            "      <th>Metadata_incubation inducer (h)</th>\n",
                            "      <th>Metadata_inhibitor</th>\n",
                            "      <th>Metadata_inhibitor_concentration</th>\n",
                            "      <th>Metadata_inhibitor_concentration_unit</th>\n",
                            "      <th>Metadata_inducer1</th>\n",
                            "      <th>Metadata_inducer1_concentration</th>\n",
                            "      <th>Metadata_inducer1_concentration_unit</th>\n",
                            "      <th>...</th>\n",
                            "      <th>Nuclei_Texture_InverseDifferenceMoment_CorrER_3_01_256</th>\n",
                            "      <th>Nuclei_Texture_InverseDifferenceMoment_CorrER_3_02_256</th>\n",
                            "      <th>Nuclei_Texture_InverseDifferenceMoment_CorrER_3_03_256</th>\n",
                            "      <th>Nuclei_Texture_InverseDifferenceMoment_CorrMito_3_00_256</th>\n",
                            "      <th>Nuclei_Texture_InverseDifferenceMoment_CorrPM_3_00_256</th>\n",
                            "      <th>Nuclei_Texture_InverseDifferenceMoment_CorrPM_3_02_256</th>\n",
                            "      <th>Nuclei_Texture_SumEntropy_CorrPM_3_01_256</th>\n",
                            "      <th>Nuclei_Texture_SumVariance_CorrGasdermin_3_01_256</th>\n",
                            "      <th>Nuclei_Texture_SumVariance_CorrMito_3_03_256</th>\n",
                            "      <th>Nuclei_Texture_SumVariance_CorrPM_3_03_256</th>\n",
                            "    </tr>\n",
                            "  </thead>\n",
                            "  <tbody>\n",
                            "    <tr>\n",
                            "      <th>0</th>\n",
                            "      <td>SH-SY5Y</td>\n",
                            "      <td>B13</td>\n",
                            "      <td>3765</td>\n",
                            "      <td>6</td>\n",
                            "      <td>Media_ctr</td>\n",
                            "      <td>NaN</td>\n",
                            "      <td>None</td>\n",
                            "      <td>media_ctr</td>\n",
                            "      <td>None</td>\n",
                            "      <td>None</td>\n",
                            "      <td>...</td>\n",
                            "      <td>-1.841853</td>\n",
                            "      <td>-0.597438</td>\n",
                            "      <td>-1.295016</td>\n",
                            "      <td>-3.127056</td>\n",
                            "      <td>-3.004511</td>\n",
                            "      <td>-1.481117</td>\n",
                            "      <td>1.851482</td>\n",
                            "      <td>0.024721</td>\n",
                            "      <td>0.307472</td>\n",
                            "      <td>0.092086</td>\n",
                            "    </tr>\n",
                            "    <tr>\n",
                            "      <th>1</th>\n",
                            "      <td>SH-SY5Y</td>\n",
                            "      <td>B13</td>\n",
                            "      <td>3765</td>\n",
                            "      <td>6</td>\n",
                            "      <td>Media_ctr</td>\n",
                            "      <td>NaN</td>\n",
                            "      <td>None</td>\n",
                            "      <td>media_ctr</td>\n",
                            "      <td>None</td>\n",
                            "      <td>None</td>\n",
                            "      <td>...</td>\n",
                            "      <td>-0.841272</td>\n",
                            "      <td>-0.681935</td>\n",
                            "      <td>-0.330951</td>\n",
                            "      <td>-3.725197</td>\n",
                            "      <td>-0.827474</td>\n",
                            "      <td>-0.461348</td>\n",
                            "      <td>0.897731</td>\n",
                            "      <td>-0.041156</td>\n",
                            "      <td>1.443262</td>\n",
                            "      <td>0.009843</td>\n",
                            "    </tr>\n",
                            "    <tr>\n",
                            "      <th>2</th>\n",
                            "      <td>SH-SY5Y</td>\n",
                            "      <td>B13</td>\n",
                            "      <td>3765</td>\n",
                            "      <td>6</td>\n",
                            "      <td>Media_ctr</td>\n",
                            "      <td>NaN</td>\n",
                            "      <td>None</td>\n",
                            "      <td>media_ctr</td>\n",
                            "      <td>None</td>\n",
                            "      <td>None</td>\n",
                            "      <td>...</td>\n",
                            "      <td>0.500885</td>\n",
                            "      <td>-0.229003</td>\n",
                            "      <td>-1.254209</td>\n",
                            "      <td>-0.691997</td>\n",
                            "      <td>-1.374967</td>\n",
                            "      <td>-1.337252</td>\n",
                            "      <td>0.825970</td>\n",
                            "      <td>-0.044386</td>\n",
                            "      <td>-0.020445</td>\n",
                            "      <td>0.000848</td>\n",
                            "    </tr>\n",
                            "    <tr>\n",
                            "      <th>3</th>\n",
                            "      <td>SH-SY5Y</td>\n",
                            "      <td>B13</td>\n",
                            "      <td>3765</td>\n",
                            "      <td>6</td>\n",
                            "      <td>Media_ctr</td>\n",
                            "      <td>NaN</td>\n",
                            "      <td>None</td>\n",
                            "      <td>media_ctr</td>\n",
                            "      <td>None</td>\n",
                            "      <td>None</td>\n",
                            "      <td>...</td>\n",
                            "      <td>-0.560136</td>\n",
                            "      <td>-0.276664</td>\n",
                            "      <td>-0.313186</td>\n",
                            "      <td>-0.844206</td>\n",
                            "      <td>-0.798213</td>\n",
                            "      <td>-1.032992</td>\n",
                            "      <td>0.546308</td>\n",
                            "      <td>-0.058328</td>\n",
                            "      <td>-0.009632</td>\n",
                            "      <td>-0.005811</td>\n",
                            "    </tr>\n",
                            "    <tr>\n",
                            "      <th>4</th>\n",
                            "      <td>SH-SY5Y</td>\n",
                            "      <td>B13</td>\n",
                            "      <td>3765</td>\n",
                            "      <td>6</td>\n",
                            "      <td>Media_ctr</td>\n",
                            "      <td>NaN</td>\n",
                            "      <td>None</td>\n",
                            "      <td>media_ctr</td>\n",
                            "      <td>None</td>\n",
                            "      <td>None</td>\n",
                            "      <td>...</td>\n",
                            "      <td>-0.828550</td>\n",
                            "      <td>-0.761657</td>\n",
                            "      <td>-0.309806</td>\n",
                            "      <td>-0.501700</td>\n",
                            "      <td>-0.616252</td>\n",
                            "      <td>-0.681687</td>\n",
                            "      <td>1.034724</td>\n",
                            "      <td>-0.035518</td>\n",
                            "      <td>-0.038205</td>\n",
                            "      <td>0.017690</td>\n",
                            "    </tr>\n",
                            "  </tbody>\n",
                            "</table>\n",
                            "<p>5 rows \u00d7 1270 columns</p>\n",
                            "</div>"
                        ],
                        "text/plain": [
                            "  Metadata_cell_type Metadata_Well  Metadata_number_of_singlecells  \\\n",
                            "0            SH-SY5Y           B13                            3765   \n",
                            "1            SH-SY5Y           B13                            3765   \n",
                            "2            SH-SY5Y           B13                            3765   \n",
                            "3            SH-SY5Y           B13                            3765   \n",
                            "4            SH-SY5Y           B13                            3765   \n",
                            "\n",
                            "   Metadata_incubation inducer (h) Metadata_inhibitor  \\\n",
                            "0                                6          Media_ctr   \n",
                            "1                                6          Media_ctr   \n",
                            "2                                6          Media_ctr   \n",
                            "3                                6          Media_ctr   \n",
                            "4                                6          Media_ctr   \n",
                            "\n",
                            "   Metadata_inhibitor_concentration Metadata_inhibitor_concentration_unit  \\\n",
                            "0                               NaN                                  None   \n",
                            "1                               NaN                                  None   \n",
                            "2                               NaN                                  None   \n",
                            "3                               NaN                                  None   \n",
                            "4                               NaN                                  None   \n",
                            "\n",
                            "  Metadata_inducer1 Metadata_inducer1_concentration  \\\n",
                            "0         media_ctr                            None   \n",
                            "1         media_ctr                            None   \n",
                            "2         media_ctr                            None   \n",
                            "3         media_ctr                            None   \n",
                            "4         media_ctr                            None   \n",
                            "\n",
                            "  Metadata_inducer1_concentration_unit  ...  \\\n",
                            "0                                 None  ...   \n",
                            "1                                 None  ...   \n",
                            "2                                 None  ...   \n",
                            "3                                 None  ...   \n",
                            "4                                 None  ...   \n",
                            "\n",
                            "  Nuclei_Texture_InverseDifferenceMoment_CorrER_3_01_256  \\\n",
                            "0                                          -1.841853       \n",
                            "1                                          -0.841272       \n",
                            "2                                           0.500885       \n",
                            "3                                          -0.560136       \n",
                            "4                                          -0.828550       \n",
                            "\n",
                            "   Nuclei_Texture_InverseDifferenceMoment_CorrER_3_02_256  \\\n",
                            "0                                          -0.597438        \n",
                            "1                                          -0.681935        \n",
                            "2                                          -0.229003        \n",
                            "3                                          -0.276664        \n",
                            "4                                          -0.761657        \n",
                            "\n",
                            "  Nuclei_Texture_InverseDifferenceMoment_CorrER_3_03_256  \\\n",
                            "0                                          -1.295016       \n",
                            "1                                          -0.330951       \n",
                            "2                                          -1.254209       \n",
                            "3                                          -0.313186       \n",
                            "4                                          -0.309806       \n",
                            "\n",
                            "   Nuclei_Texture_InverseDifferenceMoment_CorrMito_3_00_256  \\\n",
                            "0                                          -3.127056          \n",
                            "1                                          -3.725197          \n",
                            "2                                          -0.691997          \n",
                            "3                                          -0.844206          \n",
                            "4                                          -0.501700          \n",
                            "\n",
                            "  Nuclei_Texture_InverseDifferenceMoment_CorrPM_3_00_256  \\\n",
                            "0                                          -3.004511       \n",
                            "1                                          -0.827474       \n",
                            "2                                          -1.374967       \n",
                            "3                                          -0.798213       \n",
                            "4                                          -0.616252       \n",
                            "\n",
                            "   Nuclei_Texture_InverseDifferenceMoment_CorrPM_3_02_256  \\\n",
                            "0                                          -1.481117        \n",
                            "1                                          -0.461348        \n",
                            "2                                          -1.337252        \n",
                            "3                                          -1.032992        \n",
                            "4                                          -0.681687        \n",
                            "\n",
                            "   Nuclei_Texture_SumEntropy_CorrPM_3_01_256  \\\n",
                            "0                                   1.851482   \n",
                            "1                                   0.897731   \n",
                            "2                                   0.825970   \n",
                            "3                                   0.546308   \n",
                            "4                                   1.034724   \n",
                            "\n",
                            "   Nuclei_Texture_SumVariance_CorrGasdermin_3_01_256  \\\n",
                            "0                                           0.024721   \n",
                            "1                                          -0.041156   \n",
                            "2                                          -0.044386   \n",
                            "3                                          -0.058328   \n",
                            "4                                          -0.035518   \n",
                            "\n",
                            "   Nuclei_Texture_SumVariance_CorrMito_3_03_256  \\\n",
                            "0                                      0.307472   \n",
                            "1                                      1.443262   \n",
                            "2                                     -0.020445   \n",
                            "3                                     -0.009632   \n",
                            "4                                     -0.038205   \n",
                            "\n",
                            "   Nuclei_Texture_SumVariance_CorrPM_3_03_256  \n",
                            "0                                    0.092086  \n",
                            "1                                    0.009843  \n",
                            "2                                    0.000848  \n",
                            "3                                   -0.005811  \n",
                            "4                                    0.017690  \n",
                            "\n",
                            "[5 rows x 1270 columns]"
                        ]
                    },
                    "execution_count": 8,
                    "metadata": {},
                    "output_type": "execute_result"
                }
            ],
            "source": [
                "print(feature_df.shape)\n",
                "feature_df.head()"
            ]
        },
        {
            "cell_type": "code",
            "execution_count": 9,
            "id": "029dfdb7",
            "metadata": {
                "execution": {
                    "iopub.execute_input": "2023-09-21T20:11:09.589759Z",
                    "iopub.status.busy": "2023-09-21T20:11:09.589251Z",
                    "iopub.status.idle": "2023-09-21T20:11:16.382736Z",
                    "shell.execute_reply": "2023-09-21T20:11:16.382256Z"
                },
                "papermill": {
                    "duration": 6.798046,
                    "end_time": "2023-09-21T20:11:16.384053",
                    "exception": false,
                    "start_time": "2023-09-21T20:11:09.586007",
                    "status": "completed"
                },
                "tags": []
            },
            "outputs": [
                {
                    "name": "stdout",
                    "output_type": "stream",
                    "text": [
                        "(597902, 1270)\n"
                    ]
                },
                {
                    "data": {
                        "text/html": [
                            "<div>\n",
                            "<style scoped>\n",
                            "    .dataframe tbody tr th:only-of-type {\n",
                            "        vertical-align: middle;\n",
                            "    }\n",
                            "\n",
                            "    .dataframe tbody tr th {\n",
                            "        vertical-align: top;\n",
                            "    }\n",
                            "\n",
                            "    .dataframe thead th {\n",
                            "        text-align: right;\n",
                            "    }\n",
                            "</style>\n",
                            "<table border=\"1\" class=\"dataframe\">\n",
                            "  <thead>\n",
                            "    <tr style=\"text-align: right;\">\n",
                            "      <th></th>\n",
                            "      <th>Metadata_cell_type</th>\n",
                            "      <th>Metadata_Well</th>\n",
                            "      <th>Metadata_number_of_singlecells</th>\n",
                            "      <th>Metadata_incubation inducer (h)</th>\n",
                            "      <th>Metadata_inhibitor</th>\n",
                            "      <th>Metadata_inhibitor_concentration</th>\n",
                            "      <th>Metadata_inhibitor_concentration_unit</th>\n",
                            "      <th>Metadata_inducer1</th>\n",
                            "      <th>Metadata_inducer1_concentration</th>\n",
                            "      <th>Metadata_inducer1_concentration_unit</th>\n",
                            "      <th>...</th>\n",
                            "      <th>Nuclei_Texture_InverseDifferenceMoment_CorrER_3_01_256</th>\n",
                            "      <th>Nuclei_Texture_InverseDifferenceMoment_CorrER_3_02_256</th>\n",
                            "      <th>Nuclei_Texture_InverseDifferenceMoment_CorrER_3_03_256</th>\n",
                            "      <th>Nuclei_Texture_InverseDifferenceMoment_CorrMito_3_00_256</th>\n",
                            "      <th>Nuclei_Texture_InverseDifferenceMoment_CorrPM_3_00_256</th>\n",
                            "      <th>Nuclei_Texture_InverseDifferenceMoment_CorrPM_3_02_256</th>\n",
                            "      <th>Nuclei_Texture_SumEntropy_CorrPM_3_01_256</th>\n",
                            "      <th>Nuclei_Texture_SumVariance_CorrGasdermin_3_01_256</th>\n",
                            "      <th>Nuclei_Texture_SumVariance_CorrMito_3_03_256</th>\n",
                            "      <th>Nuclei_Texture_SumVariance_CorrPM_3_03_256</th>\n",
                            "    </tr>\n",
                            "  </thead>\n",
                            "  <tbody>\n",
                            "    <tr>\n",
                            "      <th>0</th>\n",
                            "      <td>SH-SY5Y</td>\n",
                            "      <td>B13</td>\n",
                            "      <td>3765</td>\n",
                            "      <td>6</td>\n",
                            "      <td>Media_ctr</td>\n",
                            "      <td>NaN</td>\n",
                            "      <td>None</td>\n",
                            "      <td>media_ctr</td>\n",
                            "      <td>None</td>\n",
                            "      <td>None</td>\n",
                            "      <td>...</td>\n",
                            "      <td>-1.841853</td>\n",
                            "      <td>-0.597438</td>\n",
                            "      <td>-1.295016</td>\n",
                            "      <td>-3.127056</td>\n",
                            "      <td>-3.004511</td>\n",
                            "      <td>-1.481117</td>\n",
                            "      <td>1.851482</td>\n",
                            "      <td>0.024721</td>\n",
                            "      <td>0.307472</td>\n",
                            "      <td>0.092086</td>\n",
                            "    </tr>\n",
                            "    <tr>\n",
                            "      <th>1</th>\n",
                            "      <td>SH-SY5Y</td>\n",
                            "      <td>B13</td>\n",
                            "      <td>3765</td>\n",
                            "      <td>6</td>\n",
                            "      <td>Media_ctr</td>\n",
                            "      <td>NaN</td>\n",
                            "      <td>None</td>\n",
                            "      <td>media_ctr</td>\n",
                            "      <td>None</td>\n",
                            "      <td>None</td>\n",
                            "      <td>...</td>\n",
                            "      <td>-0.841272</td>\n",
                            "      <td>-0.681935</td>\n",
                            "      <td>-0.330951</td>\n",
                            "      <td>-3.725197</td>\n",
                            "      <td>-0.827474</td>\n",
                            "      <td>-0.461348</td>\n",
                            "      <td>0.897731</td>\n",
                            "      <td>-0.041156</td>\n",
                            "      <td>1.443262</td>\n",
                            "      <td>0.009843</td>\n",
                            "    </tr>\n",
                            "    <tr>\n",
                            "      <th>2</th>\n",
                            "      <td>SH-SY5Y</td>\n",
                            "      <td>B13</td>\n",
                            "      <td>3765</td>\n",
                            "      <td>6</td>\n",
                            "      <td>Media_ctr</td>\n",
                            "      <td>NaN</td>\n",
                            "      <td>None</td>\n",
                            "      <td>media_ctr</td>\n",
                            "      <td>None</td>\n",
                            "      <td>None</td>\n",
                            "      <td>...</td>\n",
                            "      <td>0.500885</td>\n",
                            "      <td>-0.229003</td>\n",
                            "      <td>-1.254209</td>\n",
                            "      <td>-0.691997</td>\n",
                            "      <td>-1.374967</td>\n",
                            "      <td>-1.337252</td>\n",
                            "      <td>0.825970</td>\n",
                            "      <td>-0.044386</td>\n",
                            "      <td>-0.020445</td>\n",
                            "      <td>0.000848</td>\n",
                            "    </tr>\n",
                            "    <tr>\n",
                            "      <th>3</th>\n",
                            "      <td>SH-SY5Y</td>\n",
                            "      <td>B13</td>\n",
                            "      <td>3765</td>\n",
                            "      <td>6</td>\n",
                            "      <td>Media_ctr</td>\n",
                            "      <td>NaN</td>\n",
                            "      <td>None</td>\n",
                            "      <td>media_ctr</td>\n",
                            "      <td>None</td>\n",
                            "      <td>None</td>\n",
                            "      <td>...</td>\n",
                            "      <td>-0.560136</td>\n",
                            "      <td>-0.276664</td>\n",
                            "      <td>-0.313186</td>\n",
                            "      <td>-0.844206</td>\n",
                            "      <td>-0.798213</td>\n",
                            "      <td>-1.032992</td>\n",
                            "      <td>0.546308</td>\n",
                            "      <td>-0.058328</td>\n",
                            "      <td>-0.009632</td>\n",
                            "      <td>-0.005811</td>\n",
                            "    </tr>\n",
                            "    <tr>\n",
                            "      <th>4</th>\n",
                            "      <td>SH-SY5Y</td>\n",
                            "      <td>B13</td>\n",
                            "      <td>3765</td>\n",
                            "      <td>6</td>\n",
                            "      <td>Media_ctr</td>\n",
                            "      <td>NaN</td>\n",
                            "      <td>None</td>\n",
                            "      <td>media_ctr</td>\n",
                            "      <td>None</td>\n",
                            "      <td>None</td>\n",
                            "      <td>...</td>\n",
                            "      <td>-0.828550</td>\n",
                            "      <td>-0.761657</td>\n",
                            "      <td>-0.309806</td>\n",
                            "      <td>-0.501700</td>\n",
                            "      <td>-0.616252</td>\n",
                            "      <td>-0.681687</td>\n",
                            "      <td>1.034724</td>\n",
                            "      <td>-0.035518</td>\n",
                            "      <td>-0.038205</td>\n",
                            "      <td>0.017690</td>\n",
                            "    </tr>\n",
                            "  </tbody>\n",
                            "</table>\n",
                            "<p>5 rows \u00d7 1270 columns</p>\n",
                            "</div>"
                        ],
                        "text/plain": [
                            "  Metadata_cell_type Metadata_Well  Metadata_number_of_singlecells  \\\n",
                            "0            SH-SY5Y           B13                            3765   \n",
                            "1            SH-SY5Y           B13                            3765   \n",
                            "2            SH-SY5Y           B13                            3765   \n",
                            "3            SH-SY5Y           B13                            3765   \n",
                            "4            SH-SY5Y           B13                            3765   \n",
                            "\n",
                            "   Metadata_incubation inducer (h) Metadata_inhibitor  \\\n",
                            "0                                6          Media_ctr   \n",
                            "1                                6          Media_ctr   \n",
                            "2                                6          Media_ctr   \n",
                            "3                                6          Media_ctr   \n",
                            "4                                6          Media_ctr   \n",
                            "\n",
                            "   Metadata_inhibitor_concentration Metadata_inhibitor_concentration_unit  \\\n",
                            "0                               NaN                                  None   \n",
                            "1                               NaN                                  None   \n",
                            "2                               NaN                                  None   \n",
                            "3                               NaN                                  None   \n",
                            "4                               NaN                                  None   \n",
                            "\n",
                            "  Metadata_inducer1 Metadata_inducer1_concentration  \\\n",
                            "0         media_ctr                            None   \n",
                            "1         media_ctr                            None   \n",
                            "2         media_ctr                            None   \n",
                            "3         media_ctr                            None   \n",
                            "4         media_ctr                            None   \n",
                            "\n",
                            "  Metadata_inducer1_concentration_unit  ...  \\\n",
                            "0                                 None  ...   \n",
                            "1                                 None  ...   \n",
                            "2                                 None  ...   \n",
                            "3                                 None  ...   \n",
                            "4                                 None  ...   \n",
                            "\n",
                            "  Nuclei_Texture_InverseDifferenceMoment_CorrER_3_01_256  \\\n",
                            "0                                          -1.841853       \n",
                            "1                                          -0.841272       \n",
                            "2                                           0.500885       \n",
                            "3                                          -0.560136       \n",
                            "4                                          -0.828550       \n",
                            "\n",
                            "   Nuclei_Texture_InverseDifferenceMoment_CorrER_3_02_256  \\\n",
                            "0                                          -0.597438        \n",
                            "1                                          -0.681935        \n",
                            "2                                          -0.229003        \n",
                            "3                                          -0.276664        \n",
                            "4                                          -0.761657        \n",
                            "\n",
                            "  Nuclei_Texture_InverseDifferenceMoment_CorrER_3_03_256  \\\n",
                            "0                                          -1.295016       \n",
                            "1                                          -0.330951       \n",
                            "2                                          -1.254209       \n",
                            "3                                          -0.313186       \n",
                            "4                                          -0.309806       \n",
                            "\n",
                            "   Nuclei_Texture_InverseDifferenceMoment_CorrMito_3_00_256  \\\n",
                            "0                                          -3.127056          \n",
                            "1                                          -3.725197          \n",
                            "2                                          -0.691997          \n",
                            "3                                          -0.844206          \n",
                            "4                                          -0.501700          \n",
                            "\n",
                            "  Nuclei_Texture_InverseDifferenceMoment_CorrPM_3_00_256  \\\n",
                            "0                                          -3.004511       \n",
                            "1                                          -0.827474       \n",
                            "2                                          -1.374967       \n",
                            "3                                          -0.798213       \n",
                            "4                                          -0.616252       \n",
                            "\n",
                            "   Nuclei_Texture_InverseDifferenceMoment_CorrPM_3_02_256  \\\n",
                            "0                                          -1.481117        \n",
                            "1                                          -0.461348        \n",
                            "2                                          -1.337252        \n",
                            "3                                          -1.032992        \n",
                            "4                                          -0.681687        \n",
                            "\n",
                            "   Nuclei_Texture_SumEntropy_CorrPM_3_01_256  \\\n",
                            "0                                   1.851482   \n",
                            "1                                   0.897731   \n",
                            "2                                   0.825970   \n",
                            "3                                   0.546308   \n",
                            "4                                   1.034724   \n",
                            "\n",
                            "   Nuclei_Texture_SumVariance_CorrGasdermin_3_01_256  \\\n",
                            "0                                           0.024721   \n",
                            "1                                          -0.041156   \n",
                            "2                                          -0.044386   \n",
                            "3                                          -0.058328   \n",
                            "4                                          -0.035518   \n",
                            "\n",
                            "   Nuclei_Texture_SumVariance_CorrMito_3_03_256  \\\n",
                            "0                                      0.307472   \n",
                            "1                                      1.443262   \n",
                            "2                                     -0.020445   \n",
                            "3                                     -0.009632   \n",
                            "4                                     -0.038205   \n",
                            "\n",
                            "   Nuclei_Texture_SumVariance_CorrPM_3_03_256  \n",
                            "0                                    0.092086  \n",
                            "1                                    0.009843  \n",
                            "2                                    0.000848  \n",
                            "3                                   -0.005811  \n",
                            "4                                    0.017690  \n",
                            "\n",
                            "[5 rows x 1270 columns]"
                        ]
                    },
                    "execution_count": 9,
                    "metadata": {},
                    "output_type": "execute_result"
                }
            ],
            "source": [
                "# removing costes features as they behave with great variance across all data\n",
                "feature_df = feature_df.drop(feature_df.filter(regex=\"Costes\").columns, axis=1)\n",
                "print(feature_df.shape)\n",
                "feature_df.head()"
            ]
        },
        {
            "cell_type": "code",
            "execution_count": 10,
            "id": "34d8981d",
            "metadata": {
                "execution": {
                    "iopub.execute_input": "2023-09-21T20:11:16.396705Z",
                    "iopub.status.busy": "2023-09-21T20:11:16.396187Z",
                    "iopub.status.idle": "2023-09-21T20:11:55.101823Z",
                    "shell.execute_reply": "2023-09-21T20:11:55.101298Z"
                },
                "papermill": {
                    "duration": 38.711851,
                    "end_time": "2023-09-21T20:11:55.103628",
                    "exception": false,
                    "start_time": "2023-09-21T20:11:16.391777",
                    "status": "completed"
                },
                "tags": []
            },
            "outputs": [],
            "source": [
                "# replacing '/' in treatment dosage column to avoid errors in file interpolation including such strings\n",
                "feature_df = feature_df.replace(to_replace=\"/\", value=\"_per_\", regex=True)"
            ]
        },
        {
            "cell_type": "code",
            "execution_count": 11,
            "id": "018fdc98",
            "metadata": {
                "execution": {
                    "iopub.execute_input": "2023-09-21T20:11:55.116560Z",
                    "iopub.status.busy": "2023-09-21T20:11:55.116148Z",
                    "iopub.status.idle": "2023-09-21T20:11:55.446699Z",
                    "shell.execute_reply": "2023-09-21T20:11:55.446229Z"
                },
                "papermill": {
                    "duration": 0.335934,
                    "end_time": "2023-09-21T20:11:55.447885",
                    "exception": false,
                    "start_time": "2023-09-21T20:11:55.111951",
                    "status": "completed"
                },
                "tags": []
            },
            "outputs": [
                {
                    "name": "stderr",
                    "output_type": "stream",
                    "text": [
                        "/tmp/ipykernel_1756284/4220673082.py:8: SettingWithCopyWarning: \n",
                        "A value is trying to be set on a copy of a slice from a DataFrame\n",
                        "\n",
                        "See the caveats in the documentation: https://pandas.pydata.org/pandas-docs/stable/user_guide/indexing.html#returning-a-view-versus-a-copy\n",
                        "  feature_df[columns_to_fill].fillna(0, inplace=True)\n"
                    ]
                }
            ],
            "source": [
                "# replace nan values with 0\n",
                "\n",
                "columns_to_fill = [\n",
                "    \"Metadata_inducer1_concentration\",\n",
                "    \"Metadata_inducer2_concentration\",\n",
                "    \"Metadata_inhibitor_concentration\",\n",
                "]\n",
                "feature_df[columns_to_fill].fillna(0, inplace=True)"
            ]
        },
        {
            "cell_type": "code",
            "execution_count": 12,
            "id": "70746fb9",
            "metadata": {},
            "outputs": [],
            "source": [
                "# replace all None values with 0\n",
                "feature_df[\"Metadata_inducer1_concentration\"].fillna(0, inplace=True)"
            ]
        },
        {
            "cell_type": "code",
            "execution_count": 13,
            "id": "356e046c",
            "metadata": {},
            "outputs": [],
            "source": [
                "# using an f string make \"inducer1_concentration\" have 3 decimal places\n",
                "feature_df[\"Metadata_inducer1_concentration\"] = feature_df[\n",
                "    \"Metadata_inducer1_concentration\"\n",
                "].apply(lambda x: f\"{float(x):.3f}\" if float(x) != 0 else float(x))\n",
                "feature_df[\"Metadata_inducer2_concentration\"] = feature_df[\n",
                "    \"Metadata_inducer2_concentration\"\n",
                "].apply(lambda x: f\"{float(x):.3f}\" if float(x) != 0 else float(x))\n",
                "feature_df[\"Metadata_inhibitor_concentration\"] = feature_df[\n",
                "    \"Metadata_inhibitor_concentration\"\n",
                "].apply(lambda x: f\"{float(x):.3f}\" if float(x) != 0 else float(x))"
            ]
        },
        {
            "attachments": {},
            "cell_type": "markdown",
            "id": "d109a042",
            "metadata": {
                "papermill": {
                    "duration": 0.003102,
                    "end_time": "2023-09-21T20:11:55.454477",
                    "exception": false,
                    "start_time": "2023-09-21T20:11:55.451375",
                    "status": "completed"
                },
                "tags": []
            },
            "source": [
                "#### Combine Inducer1 and Inducer2 into one column"
            ]
        },
        {
            "cell_type": "code",
            "execution_count": 14,
            "id": "c99c7fb9",
            "metadata": {
                "execution": {
                    "iopub.execute_input": "2023-09-21T20:11:55.461238Z",
                    "iopub.status.busy": "2023-09-21T20:11:55.460951Z",
                    "iopub.status.idle": "2023-09-21T20:11:59.554257Z",
                    "shell.execute_reply": "2023-09-21T20:11:59.553742Z"
                },
                "papermill": {
                    "duration": 4.098506,
                    "end_time": "2023-09-21T20:11:59.555979",
                    "exception": false,
                    "start_time": "2023-09-21T20:11:55.457473",
                    "status": "completed"
                },
                "tags": []
            },
            "outputs": [],
            "source": [
                "# treatment column merge\n",
                "conditions = [\n",
                "    (feature_df[\"Metadata_inducer2\"].isnull()),\n",
                "    feature_df[\"Metadata_inducer2\"].notnull(),\n",
                "]\n",
                "\n",
                "results = [\n",
                "    (feature_df[\"Metadata_inducer1\"]).astype(str),\n",
                "    (\n",
                "        feature_df[\"Metadata_inducer1\"]\n",
                "        + \"_\"\n",
                "        + feature_df[\"Metadata_inducer2\"].astype(str)\n",
                "    ),\n",
                "]\n",
                "feature_df[\"Metadata_Treatment\"] = np.select(condlist=conditions, choicelist=results)\n",
                "\n",
                "\n",
                "# dose column merge\n",
                "results = [\n",
                "    (\n",
                "        feature_df[\"Metadata_inducer1_concentration\"].astype(str)\n",
                "        + \"_\"\n",
                "        + feature_df[\"Metadata_inducer1_concentration_unit\"].astype(str)\n",
                "    ),\n",
                "    (\n",
                "        feature_df[\"Metadata_inducer1_concentration\"].astype(str)\n",
                "        + \"_\"\n",
                "        + feature_df[\"Metadata_inducer1_concentration_unit\"].astype(str)\n",
                "        + \"_\"\n",
                "        + feature_df[\"Metadata_inducer2_concentration\"].astype(str)\n",
                "        + \"_\"\n",
                "        + feature_df[\"Metadata_inducer2_concentration_unit\"].astype(str)\n",
                "    ),\n",
                "]\n",
                "feature_df[\"Metadata_Dose\"] = np.select(condlist=conditions, choicelist=results)"
            ]
        },
        {
            "attachments": {},
            "cell_type": "markdown",
            "id": "44811a4f",
            "metadata": {
                "papermill": {
                    "duration": 0.004329,
                    "end_time": "2023-09-21T20:12:00.685347",
                    "exception": false,
                    "start_time": "2023-09-21T20:12:00.681018",
                    "status": "completed"
                },
                "tags": []
            },
            "source": [
                "## N Beta Column condition generation\n",
                "columns generated to used for linear modeling where terms separated by '__' will be a beta coefficient "
            ]
        },
        {
            "cell_type": "code",
            "execution_count": 15,
            "id": "2ceddf6b",
            "metadata": {
                "execution": {
                    "iopub.execute_input": "2023-09-21T20:12:00.692604Z",
                    "iopub.status.busy": "2023-09-21T20:12:00.692328Z",
                    "iopub.status.idle": "2023-09-21T20:12:15.966513Z",
                    "shell.execute_reply": "2023-09-21T20:12:15.965995Z"
                },
                "papermill": {
                    "duration": 15.279606,
                    "end_time": "2023-09-21T20:12:15.968192",
                    "exception": false,
                    "start_time": "2023-09-21T20:12:00.688586",
                    "status": "completed"
                },
                "tags": []
            },
            "outputs": [],
            "source": [
                "# one beta of inudcer1, inducer1 concentration, inhibitor, and inhibitor concentration all as 1 beta term\n",
                "feature_df[\"oneb_Metadata_Treatment_Dose_Inhibitor_Dose\"] = (\n",
                "    feature_df[\"Metadata_Treatment\"]\n",
                "    + \"_\"\n",
                "    + feature_df[\"Metadata_Dose\"].astype(str)\n",
                "    # + \"_\"\n",
                "    # + feature_df['Metadata_inducer1_concentration_unit'].astype(str)\n",
                "    + \"_\"\n",
                "    + feature_df[\"Metadata_inhibitor\"].astype(str)\n",
                "    + \"_\"\n",
                "    + feature_df[\"Metadata_inhibitor_concentration\"].astype(str)\n",
                "    + \"_\"\n",
                "    + feature_df[\"Metadata_inhibitor_concentration_unit\"].astype(str)\n",
                ").astype(str)\n",
                "\n",
                "\n",
                "# two beta of inducer1, inhibitor, and inhibitor concentration all as 1 beta term + inducer1 concentration as 2nd beta term\n",
                "feature_df[\"twob_Metadata_Treatment_Dose_Inhibitor_Dose\"] = (\n",
                "    feature_df[\"Metadata_Treatment\"]\n",
                "    + \"_\"\n",
                "    + feature_df[\"Metadata_inhibitor\"].astype(str)\n",
                "    + \"_\"\n",
                "    + feature_df[\"Metadata_inhibitor_concentration\"].astype(str)\n",
                "    + \"__\"\n",
                "    + feature_df[\"Metadata_Dose\"].astype(str)\n",
                ").astype(str)\n",
                "\n",
                "# three beta of inducer 1 as 1 beta term, inducer1 concentration as 2nd beta term, inhibitor and inhibitor concentration as 3rd beta term\n",
                "feature_df[\"threeb_Metadata_Treatment_Dose_Inhibitor_Dose\"] = (\n",
                "    feature_df[\"Metadata_Treatment\"]\n",
                "    + \"__\"\n",
                "    + feature_df[\"Metadata_Dose\"].astype(str)\n",
                "    + \"__\"\n",
                "    + feature_df[\"Metadata_inducer1_concentration_unit\"].astype(str)\n",
                "    + \"_\"\n",
                "    + feature_df[\"Metadata_inhibitor\"].astype(str)\n",
                "    + \"_\"\n",
                "    + feature_df[\"Metadata_inhibitor_concentration\"].astype(str)\n",
                ").astype(str)\n",
                "\n",
                "# four beta of inducer 1 as 1 beta term, inducer1 concentration as 2nd beta term, inhibitor as 3rd beta term, and inhibitor concentration as 4th beta term\n",
                "feature_df[\"fourb_Metadata_Treatment_Dose_Inhibitor_Dose\"] = (\n",
                "    feature_df[\"Metadata_Treatment\"]\n",
                "    + \"__\"\n",
                "    + feature_df[\"Metadata_Dose\"].astype(str)\n",
                "    + \"__\"\n",
                "    + feature_df[\"Metadata_inducer1_concentration_unit\"].astype(str)\n",
                "    + \"_\"\n",
                "    + feature_df[\"Metadata_inhibitor\"].astype(str)\n",
                "    + \"__\"\n",
                "    + feature_df[\"Metadata_inhibitor_concentration\"].astype(str)\n",
                ").astype(str)"
            ]
        },
        {
            "cell_type": "code",
            "execution_count": 16,
            "id": "4d5a6c1f",
            "metadata": {},
            "outputs": [
                {
                    "name": "stdout",
                    "output_type": "stream",
                    "text": [
                        "None 0\n",
                        "\u00b5 u\n",
                        "nan 0\n"
                    ]
                }
            ],
            "source": [
                "replacement_dict = {\n",
                "    \"None\": \"0\",\n",
                "    \"\u00b5\": \"u\",\n",
                "    \"nan\": \"0\",\n",
                "}\n",
                "for pattern, replacement in replacement_dict.items():\n",
                "    print(pattern, replacement)\n",
                "    feature_df[\"oneb_Metadata_Treatment_Dose_Inhibitor_Dose\"] = feature_df[\n",
                "        \"oneb_Metadata_Treatment_Dose_Inhibitor_Dose\"\n",
                "    ].replace(to_replace=str(pattern), value=str(replacement), regex=True)"
            ]
        },
        {
            "cell_type": "code",
            "execution_count": 17,
            "id": "d6110d9d",
            "metadata": {},
            "outputs": [
                {
                    "name": "stderr",
                    "output_type": "stream",
                    "text": [
                        "/tmp/ipykernel_1756284/2973488112.py:3: FutureWarning: The default value of regex will change from True to False in a future version.\n",
                        "  ].str.replace(\"media_ctr_0.0_0_Media_ctr_0_0\", \"media_ctr_0.0_0_Media_ctr_0.0_0\")\n"
                    ]
                }
            ],
            "source": [
                "feature_df[\"oneb_Metadata_Treatment_Dose_Inhibitor_Dose\"] = feature_df[\n",
                "    \"oneb_Metadata_Treatment_Dose_Inhibitor_Dose\"\n",
                "].str.replace(\"media_ctr_0.0_0_Media_ctr_0_0\", \"media_ctr_0.0_0_Media_ctr_0.0_0\")"
            ]
        },
        {
            "cell_type": "code",
            "execution_count": 18,
            "id": "ae6971b5",
            "metadata": {},
            "outputs": [],
            "source": [
                "# need to convert to strings to save as parquet\n",
                "# if the column is an object then convert it to a string\n",
                "for column in feature_df.columns:\n",
                "    if feature_df[column].dtype == \"object\":\n",
                "        feature_df[column] = feature_df[column].astype(str)"
            ]
        },
        {
            "cell_type": "code",
            "execution_count": 19,
            "id": "28cbc3d6",
            "metadata": {
                "execution": {
                    "iopub.execute_input": "2023-09-21T20:12:15.979861Z",
                    "iopub.status.busy": "2023-09-21T20:12:15.979607Z",
                    "iopub.status.idle": "2023-09-21T20:13:24.612557Z",
                    "shell.execute_reply": "2023-09-21T20:13:24.611849Z"
                },
                "papermill": {
                    "duration": 68.638924,
                    "end_time": "2023-09-21T20:13:24.614445",
                    "exception": false,
                    "start_time": "2023-09-21T20:12:15.975521",
                    "status": "completed"
                },
                "tags": []
            },
            "outputs": [],
            "source": [
                "# write to parquet file\n",
                "feature_df.to_parquet(feature_df_out_path)"
            ]
        }
    ],
    "metadata": {
        "kernelspec": {
            "display_name": "Interstellar",
            "language": "python",
            "name": "python3"
        },
        "language_info": {
            "codemirror_mode": {
                "name": "ipython",
                "version": 3
            },
            "file_extension": ".py",
            "mimetype": "text/x-python",
            "name": "python",
            "nbconvert_exporter": "python",
            "pygments_lexer": "ipython3",
            "version": "3.10.12"
        },
        "papermill": {
            "default_parameters": {},
            "duration": 350.726592,
            "end_time": "2023-09-21T20:13:25.540571",
            "environment_variables": {},
            "exception": null,
            "input_path": "1.preprocessing.ipynb",
            "output_path": "1.preprocessing.ipynb",
            "parameters": {
                "cell_type": "PBMC"
            },
            "start_time": "2023-09-21T20:07:34.813979",
            "version": "2.4.0"
        },
        "vscode": {
            "interpreter": {
                "hash": "72ae02083a9ca7d143c492d1aec380c7bf553ec51bd66e90e72bba65228121b6"
            }
        }
    },
    "nbformat": 4,
    "nbformat_minor": 5
}
