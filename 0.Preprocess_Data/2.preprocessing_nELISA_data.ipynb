{
    "cells": [
        {
            "cell_type": "markdown",
            "id": "f14ea260",
            "metadata": {
                "papermill": {
                    "duration": 0.003683,
                    "end_time": "2023-12-31T05:54:00.209350",
                    "exception": false,
                    "start_time": "2023-12-31T05:54:00.205667",
                    "status": "completed"
                },
                "tags": []
            },
            "source": [
                "This noteboook pre-processes the nELISA data to be ready for exploratory analysis and machine learning."
            ]
        },
        {
            "cell_type": "code",
            "execution_count": 1,
            "id": "a38d066b",
            "metadata": {
                "execution": {
                    "iopub.execute_input": "2023-12-31T05:54:00.214813Z",
                    "iopub.status.busy": "2023-12-31T05:54:00.214499Z",
                    "iopub.status.idle": "2023-12-31T05:54:19.228728Z",
                    "shell.execute_reply": "2023-12-31T05:54:19.228120Z"
                },
                "papermill": {
                    "duration": 19.018516,
                    "end_time": "2023-12-31T05:54:19.230173",
                    "exception": false,
                    "start_time": "2023-12-31T05:54:00.211657",
                    "status": "completed"
                },
                "tags": []
            },
            "outputs": [],
            "source": [
                "import pathlib\n",
                "\n",
                "import matplotlib.pyplot as plt\n",
                "import numpy as np\n",
                "import pandas as pd\n",
                "import seaborn as sns\n",
                "from matplotlib.backends.backend_pdf import PdfPages\n",
                "from sklearn import preprocessing"
            ]
        },
        {
            "cell_type": "code",
            "execution_count": 2,
            "id": "54fdcc1d",
            "metadata": {
                "execution": {
                    "iopub.execute_input": "2023-12-31T05:54:19.238901Z",
                    "iopub.status.busy": "2023-12-31T05:54:19.238474Z",
                    "iopub.status.idle": "2023-12-31T05:54:19.241063Z",
                    "shell.execute_reply": "2023-12-31T05:54:19.240587Z"
                },
                "papermill": {
                    "duration": 0.006636,
                    "end_time": "2023-12-31T05:54:19.242037",
                    "exception": false,
                    "start_time": "2023-12-31T05:54:19.235401",
                    "status": "completed"
                },
                "tags": [
                    "injected-parameters"
                ]
            },
            "outputs": [],
            "source": [
                "# Parameters\n",
                "cell_type = \"PBMC\""
            ]
        },
        {
            "cell_type": "code",
            "execution_count": 3,
            "id": "c516a243",
            "metadata": {
                "execution": {
                    "iopub.execute_input": "2023-12-31T05:54:19.247167Z",
                    "iopub.status.busy": "2023-12-31T05:54:19.246862Z",
                    "iopub.status.idle": "2023-12-31T05:54:19.293054Z",
                    "shell.execute_reply": "2023-12-31T05:54:19.292490Z"
                },
                "papermill": {
                    "duration": 0.049862,
                    "end_time": "2023-12-31T05:54:19.294059",
                    "exception": false,
                    "start_time": "2023-12-31T05:54:19.244197",
                    "status": "completed"
                },
                "tags": []
            },
            "outputs": [],
            "source": [
                "# set path to data\n",
                "data_path = pathlib.Path(\n",
                "    f\"../2.Nomic_nELISA_Analysis/Data/clean/Plate2/nELISA_plate_430420_{cell_type}.csv\"\n",
                ").resolve(strict=True)\n",
                "\n",
                "preprocessing_path = pathlib.Path(\n",
                "    f\"../2.Nomic_nELISA_Analysis/Data/clean/Plate2/nELISA_plate_430420_{cell_type}_clean.parquet\"\n",
                ").resolve(strict=True)\n",
                "\n",
                "# read in data\n",
                "nomic_df = pd.read_csv(data_path)"
            ]
        },
        {
            "cell_type": "code",
            "execution_count": 4,
            "id": "b09c5cb0",
            "metadata": {
                "execution": {
                    "iopub.execute_input": "2023-12-31T05:54:19.299722Z",
                    "iopub.status.busy": "2023-12-31T05:54:19.299184Z",
                    "iopub.status.idle": "2023-12-31T05:54:19.303067Z",
                    "shell.execute_reply": "2023-12-31T05:54:19.302686Z"
                },
                "papermill": {
                    "duration": 0.007858,
                    "end_time": "2023-12-31T05:54:19.304141",
                    "exception": false,
                    "start_time": "2023-12-31T05:54:19.296283",
                    "status": "completed"
                },
                "tags": []
            },
            "outputs": [],
            "source": [
                "# select data only columns and make floats\n",
                "nELISA_data_values = nomic_df.filter(like=\"NSU\", axis=1).astype(\"float\")"
            ]
        },
        {
            "cell_type": "code",
            "execution_count": 5,
            "id": "0a357620",
            "metadata": {
                "execution": {
                    "iopub.execute_input": "2023-12-31T05:54:19.309547Z",
                    "iopub.status.busy": "2023-12-31T05:54:19.309181Z",
                    "iopub.status.idle": "2023-12-31T05:54:19.318093Z",
                    "shell.execute_reply": "2023-12-31T05:54:19.317571Z"
                },
                "papermill": {
                    "duration": 0.012775,
                    "end_time": "2023-12-31T05:54:19.319236",
                    "exception": false,
                    "start_time": "2023-12-31T05:54:19.306461",
                    "status": "completed"
                },
                "tags": []
            },
            "outputs": [],
            "source": [
                "# normalize data via max value in each column\n",
                "max_values = nELISA_data_values.max()  # find max value in each column\n",
                "nELISA_data_values_sensor_max_norm = nELISA_data_values.div(\n",
                "    max_values\n",
                ")  # divide each value in each column by max value in that column\n",
                "nELISA_data_values_sensor_max_norm.head()\n",
                "# min max normalization via sklearn\n",
                "\n",
                "# normalize data via min max normalization\n",
                "min_max_scaler = preprocessing.MinMaxScaler()\n",
                "nELISA_data_values_min_max_norm = min_max_scaler.fit_transform(nELISA_data_values)\n",
                "nELISA_data_values_min_max_norm = pd.DataFrame(\n",
                "    nELISA_data_values_min_max_norm, columns=nELISA_data_values.columns\n",
                ")"
            ]
        },
        {
            "cell_type": "code",
            "execution_count": 6,
            "id": "2e1d0206",
            "metadata": {
                "execution": {
                    "iopub.execute_input": "2023-12-31T05:54:19.324922Z",
                    "iopub.status.busy": "2023-12-31T05:54:19.324568Z",
                    "iopub.status.idle": "2023-12-31T05:54:19.330062Z",
                    "shell.execute_reply": "2023-12-31T05:54:19.329586Z"
                },
                "papermill": {
                    "duration": 0.00957,
                    "end_time": "2023-12-31T05:54:19.331154",
                    "exception": false,
                    "start_time": "2023-12-31T05:54:19.321584",
                    "status": "completed"
                },
                "tags": []
            },
            "outputs": [],
            "source": [
                "# drop columns that are named with NSU\n",
                "Metadata = nomic_df.drop(nomic_df.filter(like=\"NSU\", axis=1), axis=1).drop(\n",
                "    nomic_df.filter(like=\"pgML\", axis=1), axis=1\n",
                ")"
            ]
        },
        {
            "cell_type": "code",
            "execution_count": 7,
            "id": "51a0ac4d",
            "metadata": {
                "execution": {
                    "iopub.execute_input": "2023-12-31T05:54:19.336599Z",
                    "iopub.status.busy": "2023-12-31T05:54:19.336248Z",
                    "iopub.status.idle": "2023-12-31T05:54:19.339349Z",
                    "shell.execute_reply": "2023-12-31T05:54:19.338881Z"
                },
                "papermill": {
                    "duration": 0.006801,
                    "end_time": "2023-12-31T05:54:19.340290",
                    "exception": false,
                    "start_time": "2023-12-31T05:54:19.333489",
                    "status": "completed"
                },
                "tags": []
            },
            "outputs": [],
            "source": [
                "# merge metadata and normalized data values\n",
                "analysis_df = pd.concat([Metadata, nELISA_data_values_min_max_norm], axis=1)"
            ]
        },
        {
            "cell_type": "code",
            "execution_count": 8,
            "id": "a57468da",
            "metadata": {
                "execution": {
                    "iopub.execute_input": "2023-12-31T05:54:19.345949Z",
                    "iopub.status.busy": "2023-12-31T05:54:19.345533Z",
                    "iopub.status.idle": "2023-12-31T05:54:19.350485Z",
                    "shell.execute_reply": "2023-12-31T05:54:19.350109Z"
                },
                "papermill": {
                    "duration": 0.008739,
                    "end_time": "2023-12-31T05:54:19.351378",
                    "exception": false,
                    "start_time": "2023-12-31T05:54:19.342639",
                    "status": "completed"
                },
                "tags": []
            },
            "outputs": [],
            "source": [
                "# get rid of spaces\n",
                "analysis_df.replace(\" \", \"_\", regex=True, inplace=True)\n",
                "# replace all \"/\" with \"_per_\"\n",
                "analysis_df.replace(\"/\", \"_per_\", regex=True, inplace=True)"
            ]
        },
        {
            "cell_type": "code",
            "execution_count": 9,
            "id": "de7c14f9",
            "metadata": {
                "execution": {
                    "iopub.execute_input": "2023-12-31T05:54:19.356804Z",
                    "iopub.status.busy": "2023-12-31T05:54:19.356466Z",
                    "iopub.status.idle": "2023-12-31T05:54:19.360007Z",
                    "shell.execute_reply": "2023-12-31T05:54:19.359630Z"
                },
                "papermill": {
                    "duration": 0.00721,
                    "end_time": "2023-12-31T05:54:19.360895",
                    "exception": false,
                    "start_time": "2023-12-31T05:54:19.353685",
                    "status": "completed"
                },
                "tags": []
            },
            "outputs": [],
            "source": [
                "# replace nans with 0 in this case this is okay because the real nans were already removed on the basis of treatment name\n",
                "analysis_df[\"inducer1_concentration\"].replace(np.nan, 0, inplace=True)\n",
                "analysis_df[\"inducer2_concentration\"].replace(np.nan, 0, inplace=True)\n",
                "analysis_df[\"inhibitor_concentration\"].replace(np.nan, 0, inplace=True)"
            ]
        },
        {
            "cell_type": "code",
            "execution_count": 10,
            "id": "462263d7",
            "metadata": {
                "execution": {
                    "iopub.execute_input": "2023-12-31T05:54:19.366378Z",
                    "iopub.status.busy": "2023-12-31T05:54:19.366019Z",
                    "iopub.status.idle": "2023-12-31T05:54:19.371621Z",
                    "shell.execute_reply": "2023-12-31T05:54:19.371245Z"
                },
                "papermill": {
                    "duration": 0.009315,
                    "end_time": "2023-12-31T05:54:19.372513",
                    "exception": false,
                    "start_time": "2023-12-31T05:54:19.363198",
                    "status": "completed"
                },
                "tags": []
            },
            "outputs": [],
            "source": [
                "def perform_replacements(text: str) -> str:\n",
                "    \"\"\"\n",
                "    Function to replace special characters in text.\n",
                "    Replaces `%`, `_\u00b5M`, `_nM`, `_\u00b5g_per_ml` with empty string.\n",
                "\n",
                "    Parameters\n",
                "    ----------\n",
                "    text : str\n",
                "        Text to be modified.\n",
                "\n",
                "    Returns\n",
                "    -------\n",
                "    str\n",
                "        Modified text.\n",
                "    \"\"\"\n",
                "    replacements = {\n",
                "        \"%\": \"\",\n",
                "        \"_\u00b5M\": \"\",\n",
                "        \"_nM\": \"\",\n",
                "        \"_\u00b5g_per_ml\": \"\",\n",
                "    }\n",
                "    for key, value in replacements.items():\n",
                "        text = str(text).replace(key, value)\n",
                "    return text\n",
                "\n",
                "\n",
                "# Columns to which you want to apply the changes\n",
                "columns_to_apply = [\n",
                "    \"inducer1_concentration\",\n",
                "    \"inducer2_concentration\",\n",
                "    \"inhibitor_concentration\",\n",
                "]\n",
                "\n",
                "# Applying the custom function to selected columns using apply\n",
                "analysis_df[columns_to_apply] = analysis_df[columns_to_apply].apply(\n",
                "    lambda x: x.apply(perform_replacements)\n",
                ")"
            ]
        },
        {
            "cell_type": "code",
            "execution_count": 11,
            "id": "03bdc647",
            "metadata": {
                "execution": {
                    "iopub.execute_input": "2023-12-31T05:54:19.378011Z",
                    "iopub.status.busy": "2023-12-31T05:54:19.377714Z",
                    "iopub.status.idle": "2023-12-31T05:54:19.381762Z",
                    "shell.execute_reply": "2023-12-31T05:54:19.381389Z"
                },
                "papermill": {
                    "duration": 0.00779,
                    "end_time": "2023-12-31T05:54:19.382665",
                    "exception": false,
                    "start_time": "2023-12-31T05:54:19.374875",
                    "status": "completed"
                },
                "tags": []
            },
            "outputs": [],
            "source": [
                "# using an f string make \"inducer1_concentration\" have 3 decimal places\n",
                "analysis_df[\"inducer1_concentration\"] = analysis_df[\"inducer1_concentration\"].apply(\n",
                "    lambda x: f\"{float(x):.3f}\" if float(x) != 0 else float(x)\n",
                ")\n",
                "analysis_df[\"inducer2_concentration\"] = analysis_df[\"inducer2_concentration\"].apply(\n",
                "    lambda x: f\"{float(x):.3f}\" if float(x) != 0 else float(x)\n",
                ")\n",
                "analysis_df[\"inhibitor_concentration\"] = analysis_df[\"inhibitor_concentration\"].apply(\n",
                "    lambda x: f\"{float(x):.3f}\" if float(x) != 0 else float(x)\n",
                ")"
            ]
        },
        {
            "cell_type": "code",
            "execution_count": 12,
            "id": "7df7b3e3",
            "metadata": {
                "execution": {
                    "iopub.execute_input": "2023-12-31T05:54:19.388261Z",
                    "iopub.status.busy": "2023-12-31T05:54:19.387911Z",
                    "iopub.status.idle": "2023-12-31T05:54:19.394212Z",
                    "shell.execute_reply": "2023-12-31T05:54:19.393836Z"
                },
                "papermill": {
                    "duration": 0.010071,
                    "end_time": "2023-12-31T05:54:19.395113",
                    "exception": false,
                    "start_time": "2023-12-31T05:54:19.385042",
                    "status": "completed"
                },
                "tags": []
            },
            "outputs": [],
            "source": [
                "# treatment column merge\n",
                "conditions = [\n",
                "    (analysis_df[\"inducer2\"].isnull()),\n",
                "    analysis_df[\"inducer2\"].notnull(),\n",
                "]\n",
                "\n",
                "results = [\n",
                "    (analysis_df[\"inducer1\"]).astype(str),\n",
                "    (analysis_df[\"inducer1\"] + \"_\" + analysis_df[\"inducer2\"].astype(str)),\n",
                "]\n",
                "analysis_df[\"Treatment\"] = np.select(condlist=conditions, choicelist=results)\n",
                "\n",
                "\n",
                "# dose column merge\n",
                "results = [\n",
                "    (\n",
                "        analysis_df[\"inducer1_concentration\"].astype(str)\n",
                "        + \"_\"\n",
                "        + analysis_df[\"inducer1_concentration_unit\"].astype(str)\n",
                "    ),\n",
                "    (\n",
                "        analysis_df[\"inducer1_concentration\"].astype(str)\n",
                "        + \"_\"\n",
                "        + analysis_df[\"inducer1_concentration_unit\"].astype(str)\n",
                "        + \"_\"\n",
                "        + analysis_df[\"inducer2_concentration\"].astype(str)\n",
                "        + \"_\"\n",
                "        + analysis_df[\"inducer2_concentration_unit\"].astype(str)\n",
                "    ),\n",
                "]\n",
                "analysis_df[\"Dose\"] = np.select(condlist=conditions, choicelist=results)"
            ]
        },
        {
            "cell_type": "code",
            "execution_count": 13,
            "id": "bfbca76f",
            "metadata": {
                "execution": {
                    "iopub.execute_input": "2023-12-31T05:54:19.400694Z",
                    "iopub.status.busy": "2023-12-31T05:54:19.400336Z",
                    "iopub.status.idle": "2023-12-31T05:54:19.408239Z",
                    "shell.execute_reply": "2023-12-31T05:54:19.407866Z"
                },
                "papermill": {
                    "duration": 0.011629,
                    "end_time": "2023-12-31T05:54:19.409116",
                    "exception": false,
                    "start_time": "2023-12-31T05:54:19.397487",
                    "status": "completed"
                },
                "tags": []
            },
            "outputs": [],
            "source": [
                "# one beta of inudcer1, inducer1 concentration, inhibitor, and inhibitor concentration all as 1 beta term\n",
                "analysis_df[\"oneb_Treatment_Dose_Inhibitor_Dose\"] = (\n",
                "    analysis_df[\"Treatment\"]\n",
                "    + \"_\"\n",
                "    + analysis_df[\"Dose\"].astype(str)\n",
                "    + \"_\"\n",
                "    + analysis_df[\"inhibitor\"].astype(str)\n",
                "    + \"_\"\n",
                "    + analysis_df[\"inhibitor_concentration\"].astype(str)\n",
                "    + \"_\"\n",
                "    + analysis_df[\"inhibitor_concentration_unit\"].astype(str)\n",
                ").astype(str)\n",
                "\n",
                "\n",
                "# two beta of inducer1, inhibitor, and inhibitor concentration all as 1 beta term + inducer1 concentration as 2nd beta term\n",
                "analysis_df[\"twob_Treatment_Dose_Inhibitor_Dose\"] = (\n",
                "    analysis_df[\"Treatment\"]\n",
                "    + \"_\"\n",
                "    + analysis_df[\"inhibitor\"].astype(str)\n",
                "    + \"_\"\n",
                "    + analysis_df[\"Dose\"].astype(str)\n",
                ").astype(str)\n",
                "\n",
                "# three beta of inducer 1 as 1 beta term, inducer1 concentration as 2nd beta term, inhibitor and inhibitor concentration as 3rd beta term\n",
                "analysis_df[\"threeb_Treatment_Dose_Inhibitor_Dose\"] = (\n",
                "    analysis_df[\"Treatment\"]\n",
                "    + \"__\"\n",
                "    + analysis_df[\"Dose\"].astype(str)\n",
                "    + \"__\"\n",
                "    + analysis_df[\"inhibitor\"].astype(str)\n",
                "    + \"_\"\n",
                "    + analysis_df[\"inhibitor_concentration\"].astype(str)\n",
                ").astype(str)\n",
                "\n",
                "# four beta of inducer 1 as 1 beta term, inducer1 concentration as 2nd beta term, inhibitor as 3rd beta term, and inhibitor concentration as 4th beta term\n",
                "analysis_df[\"fourb_Treatment_Dose_Inhibitor_Dose\"] = (\n",
                "    analysis_df[\"Treatment\"]\n",
                "    + \"__\"\n",
                "    + analysis_df[\"Dose\"].astype(str)\n",
                "    + \"__\"\n",
                "    + analysis_df[\"inhibitor\"].astype(str)\n",
                "    + \"__\"\n",
                "    + analysis_df[\"inhibitor_concentration\"].astype(str)\n",
                ").astype(str)"
            ]
        },
        {
            "cell_type": "code",
            "execution_count": 14,
            "id": "df4712f7",
            "metadata": {
                "execution": {
                    "iopub.execute_input": "2023-12-31T05:54:19.414857Z",
                    "iopub.status.busy": "2023-12-31T05:54:19.414486Z",
                    "iopub.status.idle": "2023-12-31T05:54:19.418508Z",
                    "shell.execute_reply": "2023-12-31T05:54:19.418132Z"
                },
                "papermill": {
                    "duration": 0.007871,
                    "end_time": "2023-12-31T05:54:19.419421",
                    "exception": false,
                    "start_time": "2023-12-31T05:54:19.411550",
                    "status": "completed"
                },
                "tags": []
            },
            "outputs": [
                {
                    "name": "stdout",
                    "output_type": "stream",
                    "text": [
                        "None 0\n",
                        "\u00b5 u\n",
                        "nan 0\n"
                    ]
                }
            ],
            "source": [
                "replacement_dict = {\n",
                "    \"None\": \"0\",\n",
                "    \"\u00b5\": \"u\",\n",
                "    \"nan\": \"0\",\n",
                "}\n",
                "for pattern, replacement in replacement_dict.items():\n",
                "    print(pattern, replacement)\n",
                "    analysis_df[\"oneb_Treatment_Dose_Inhibitor_Dose\"] = analysis_df[\n",
                "        \"oneb_Treatment_Dose_Inhibitor_Dose\"\n",
                "    ].replace(to_replace=str(pattern), value=str(replacement), regex=True)"
            ]
        },
        {
            "cell_type": "code",
            "execution_count": 15,
            "id": "188ca8e8",
            "metadata": {
                "execution": {
                    "iopub.execute_input": "2023-12-31T05:54:19.425210Z",
                    "iopub.status.busy": "2023-12-31T05:54:19.424868Z",
                    "iopub.status.idle": "2023-12-31T05:54:19.428215Z",
                    "shell.execute_reply": "2023-12-31T05:54:19.427844Z"
                },
                "papermill": {
                    "duration": 0.007166,
                    "end_time": "2023-12-31T05:54:19.429092",
                    "exception": false,
                    "start_time": "2023-12-31T05:54:19.421926",
                    "status": "completed"
                },
                "tags": []
            },
            "outputs": [],
            "source": [
                "# _0.03 to _0.025 for the DMSO concentration\n",
                "analysis_df[\"oneb_Treatment_Dose_Inhibitor_Dose\"] = analysis_df[\n",
                "    \"oneb_Treatment_Dose_Inhibitor_Dose\"\n",
                "].str.replace(\"_0.03\", \"_0.025\", regex=False)\n",
                "\n",
                "# _0.0250 to _0.025 for the DMSO concentration\n",
                "analysis_df[\"oneb_Treatment_Dose_Inhibitor_Dose\"] = analysis_df[\n",
                "    \"oneb_Treatment_Dose_Inhibitor_Dose\"\n",
                "].str.replace(\"_0.0250\", \"_0.025\", regex=False)"
            ]
        },
        {
            "cell_type": "code",
            "execution_count": 16,
            "id": "2675b1bb",
            "metadata": {
                "execution": {
                    "iopub.execute_input": "2023-12-31T05:54:19.434893Z",
                    "iopub.status.busy": "2023-12-31T05:54:19.434584Z",
                    "iopub.status.idle": "2023-12-31T05:54:19.443852Z",
                    "shell.execute_reply": "2023-12-31T05:54:19.443470Z"
                },
                "papermill": {
                    "duration": 0.013156,
                    "end_time": "2023-12-31T05:54:19.444750",
                    "exception": false,
                    "start_time": "2023-12-31T05:54:19.431594",
                    "status": "completed"
                },
                "tags": []
            },
            "outputs": [],
            "source": [
                "# need to convert to strings to save as parquet\n",
                "# if the column is an object then convert it to a string\n",
                "for column in analysis_df.columns:\n",
                "    if analysis_df[column].dtype == \"object\":\n",
                "        analysis_df[column] = analysis_df[column].astype(str)"
            ]
        },
        {
            "cell_type": "code",
            "execution_count": 17,
            "id": "1252187c",
            "metadata": {
                "execution": {
                    "iopub.execute_input": "2023-12-31T05:54:19.450804Z",
                    "iopub.status.busy": "2023-12-31T05:54:19.450477Z",
                    "iopub.status.idle": "2023-12-31T05:54:19.493014Z",
                    "shell.execute_reply": "2023-12-31T05:54:19.492603Z"
                },
                "papermill": {
                    "duration": 0.046715,
                    "end_time": "2023-12-31T05:54:19.494092",
                    "exception": false,
                    "start_time": "2023-12-31T05:54:19.447377",
                    "status": "completed"
                },
                "tags": []
            },
            "outputs": [],
            "source": [
                "analysis_df.to_parquet(preprocessing_path)"
            ]
        }
    ],
    "metadata": {
        "kernelspec": {
            "display_name": "Interstellar",
            "language": "python",
            "name": "python3"
        },
        "language_info": {
            "codemirror_mode": {
                "name": "ipython",
                "version": 3
            },
            "file_extension": ".py",
            "mimetype": "text/x-python",
            "name": "python",
            "nbconvert_exporter": "python",
            "pygments_lexer": "ipython3",
            "version": "3.10.13"
        },
        "papermill": {
            "default_parameters": {},
            "duration": 21.420732,
            "end_time": "2023-12-31T05:54:19.913744",
            "environment_variables": {},
            "exception": null,
            "input_path": "2.preprocessing_nELISA_data.ipynb",
            "output_path": "2.preprocessing_nELISA_data.ipynb",
            "parameters": {
                "cell_type": "PBMC"
            },
            "start_time": "2023-12-31T05:53:58.493012",
            "version": "2.5.0"
        },
        "vscode": {
            "interpreter": {
                "hash": "72ae02083a9ca7d143c492d1aec380c7bf553ec51bd66e90e72bba65228121b6"
            }
        }
    },
    "nbformat": 4,
    "nbformat_minor": 5
}
