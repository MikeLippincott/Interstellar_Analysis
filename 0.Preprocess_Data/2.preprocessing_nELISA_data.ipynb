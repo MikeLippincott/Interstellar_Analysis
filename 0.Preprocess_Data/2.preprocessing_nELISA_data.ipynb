{
 "cells": [
  {
   "cell_type": "code",
   "execution_count": null,
   "metadata": {},
   "outputs": [],
   "source": [
    "import pathlib\n",
    "\n",
    "import matplotlib.pyplot as plt\n",
    "import numpy as np\n",
    "import pandas as pd\n",
    "import seaborn as sns\n",
    "from matplotlib.backends.backend_pdf import PdfPages\n",
    "from sklearn import preprocessing"
   ]
  },
  {
   "cell_type": "code",
   "execution_count": null,
   "metadata": {
    "tags": [
     "injected-parameters"
    ]
   },
   "outputs": [],
   "source": [
    "# Parameters\n",
    "cell_type = \"SHSY5Y\""
   ]
  },
  {
   "cell_type": "code",
   "execution_count": null,
   "metadata": {},
   "outputs": [],
   "source": [
    "# set path to data\n",
    "data_path = pathlib.Path(\n",
    "    f\"../2.Nomic_nELISA_Analysis/Data/clean/Plate2/nELISA_plate_430420_{cell_type}.csv\"\n",
    ")\n",
    "\n",
    "preprocessing_path = pathlib.Path(\n",
    "    f\"../2.Nomic_nELISA_Analysis/Data/clean/Plate2/nELISA_plate_430420_{cell_type}_clean.csv\"\n",
    ")\n",
    "\n",
    "# read in data\n",
    "nomic_df = pd.read_csv(data_path)"
   ]
  },
  {
   "cell_type": "code",
   "execution_count": null,
   "metadata": {},
   "outputs": [],
   "source": [
    "# select data only columns and make floats\n",
    "nELISA_data_values = nomic_df.filter(like=\"NSU\", axis=1)\n",
    "nELISA_data_values = nELISA_data_values.astype(\"float\")"
   ]
  },
  {
   "cell_type": "code",
   "execution_count": null,
   "metadata": {},
   "outputs": [],
   "source": [
    "# normalize data via max value in each column\n",
    "max_values = nELISA_data_values.max()  # find max value in each column\n",
    "nELISA_data_values_sensor_max_norm = nELISA_data_values.div(\n",
    "    max_values\n",
    ")  # divide each value in each column by max value in that column\n",
    "nELISA_data_values_sensor_max_norm.head()\n",
    "# min max normalization via sklearn\n",
    "\n",
    "# normalize data via min max normalization\n",
    "min_max_scaler = preprocessing.MinMaxScaler()\n",
    "nELISA_data_values_min_max_norm = min_max_scaler.fit_transform(nELISA_data_values)\n",
    "nELISA_data_values_min_max_norm = pd.DataFrame(\n",
    "    nELISA_data_values_min_max_norm, columns=nELISA_data_values.columns\n",
    ")"
   ]
  },
  {
   "cell_type": "code",
   "execution_count": null,
   "metadata": {},
   "outputs": [],
   "source": [
    "# drop columns that are named with NSU\n",
    "Metadata = nomic_df.drop(nomic_df.filter(like=\"NSU\", axis=1), axis=1)\n",
    "Metadata = Metadata.drop(nomic_df.filter(like=\"pgML\", axis=1), axis=1)"
   ]
  },
  {
   "cell_type": "code",
   "execution_count": null,
   "metadata": {},
   "outputs": [],
   "source": [
    "# merge metadata and normalized data values\n",
    "analysis_df = pd.concat([Metadata, nELISA_data_values_min_max_norm], axis=1)"
   ]
  },
  {
   "cell_type": "code",
   "execution_count": null,
   "metadata": {},
   "outputs": [],
   "source": [
    "# get rid of spaces\n",
    "analysis_df.replace(\" \", \"_\", regex=True, inplace=True)\n",
    "# replace all \"/\" with \"_per_\"\n",
    "analysis_df.replace(\"/\", \"_per_\", regex=True, inplace=True)"
   ]
  },
  {
   "cell_type": "code",
   "execution_count": null,
   "metadata": {},
   "outputs": [],
   "source": [
    "analysis_df[\"inducer1_concentration\"].replace(np.nan, 0, inplace=True)\n",
    "analysis_df[\"inducer2_concentration\"].replace(np.nan, 0, inplace=True)\n",
    "analysis_df[\"inhibitor_concentration\"].replace(np.nan, 0, inplace=True)"
   ]
  },
  {
   "cell_type": "code",
   "execution_count": null,
   "metadata": {},
   "outputs": [],
   "source": [
    "# replace %, µg/ml, µM, nM, and nan with \"\"\n",
    "analysis_df[\"inducer1_concentration\"].replace(\"%\", \"\", regex=True, inplace=True)\n",
    "analysis_df[\"inducer1_concentration\"].replace(\n",
    "    \"_µg_per_ml\", \"\", regex=True, inplace=True\n",
    ")\n",
    "analysis_df[\"inducer1_concentration\"].replace(\"_µM\", \"\", regex=True, inplace=True)\n",
    "analysis_df[\"inducer1_concentration\"].replace(\"_nM\", \"\", regex=True, inplace=True)"
   ]
  },
  {
   "cell_type": "code",
   "execution_count": null,
   "metadata": {},
   "outputs": [],
   "source": [
    "# replace %, µg/ml, µM, nM, and nan with \"\"\n",
    "analysis_df[\"inducer2_concentration\"].replace(\"%\", \"\", regex=True, inplace=True)\n",
    "analysis_df[\"inducer2_concentration\"].replace(\n",
    "    \"_µg_per_ml\", \"\", regex=True, inplace=True\n",
    ")\n",
    "analysis_df[\"inducer2_concentration\"].replace(\"_µM\", \"\", regex=True, inplace=True)\n",
    "analysis_df[\"inducer2_concentration\"].replace(\"_nM\", \"\", regex=True, inplace=True)"
   ]
  },
  {
   "cell_type": "code",
   "execution_count": null,
   "metadata": {},
   "outputs": [],
   "source": [
    "# replace %, µg/ml, µM, nM, and nan with \"\"\n",
    "analysis_df[\"inhibitor_concentration\"].replace(\"%\", \"\", regex=True, inplace=True)\n",
    "analysis_df[\"inhibitor_concentration\"].replace(\n",
    "    \"_µg_per_ml\", \"\", regex=True, inplace=True\n",
    ")\n",
    "analysis_df[\"inhibitor_concentration\"].replace(\"_µM\", \"\", regex=True, inplace=True)\n",
    "analysis_df[\"inhibitor_concentration\"].replace(\"_nM\", \"\", regex=True, inplace=True)"
   ]
  },
  {
   "cell_type": "code",
   "execution_count": null,
   "metadata": {},
   "outputs": [],
   "source": [
    "# analysis_df['inhibitor_concentration'] to numeric\n",
    "analysis_df[\"inhibitor_concentration\"] = pd.to_numeric(\n",
    "    analysis_df[\"inhibitor_concentration\"]\n",
    ")\n",
    "\n",
    "# make each 3 decimal places\n",
    "analysis_df[\"inhibitor_concentration\"] = analysis_df[\"inhibitor_concentration\"].round(3)"
   ]
  },
  {
   "cell_type": "code",
   "execution_count": null,
   "metadata": {},
   "outputs": [],
   "source": [
    "# treatment column merge\n",
    "conditions = [\n",
    "    (analysis_df[\"inducer2\"].isnull()),\n",
    "    analysis_df[\"inducer2\"].notnull(),\n",
    "]\n",
    "\n",
    "results = [\n",
    "    (analysis_df[\"inducer1\"]).astype(str),\n",
    "    (analysis_df[\"inducer1\"] + \"_\" + analysis_df[\"inducer2\"].astype(str)),\n",
    "]\n",
    "analysis_df[\"Treatment\"] = np.select(condlist=conditions, choicelist=results)\n",
    "\n",
    "\n",
    "# dose column merge\n",
    "results = [\n",
    "    (\n",
    "        analysis_df[\"inducer1_concentration\"].astype(str)\n",
    "        + \"_\"\n",
    "        + analysis_df[\"inducer1_concentration_unit\"].astype(str)\n",
    "    ),\n",
    "    (\n",
    "        analysis_df[\"inducer1_concentration\"].astype(str)\n",
    "        + \"_\"\n",
    "        + analysis_df[\"inducer1_concentration_unit\"].astype(str)\n",
    "        + \"_\"\n",
    "        + analysis_df[\"inducer2_concentration\"].astype(str)\n",
    "        + \"_\"\n",
    "        + analysis_df[\"inducer2_concentration_unit\"].astype(str)\n",
    "    ),\n",
    "]\n",
    "analysis_df[\"Dose\"] = np.select(condlist=conditions, choicelist=results)"
   ]
  },
  {
   "cell_type": "code",
   "execution_count": null,
   "metadata": {},
   "outputs": [],
   "source": [
    "# one beta of inudcer1, inducer1 concentration, inhibitor, and inhibitor concentration all as 1 beta term\n",
    "analysis_df[\"oneb_Treatment_Dose_Inhibitor_Dose\"] = (\n",
    "    analysis_df[\"Treatment\"]\n",
    "    + \"_\"\n",
    "    + analysis_df[\"Dose\"].astype(str)\n",
    "    + \"_\"\n",
    "    # + analysis_df['inducer1_concentration_unit'].astype(str)\n",
    "    # + \"_\"\n",
    "    + analysis_df[\"inhibitor\"].astype(str)\n",
    "    + \"_\"\n",
    "    + analysis_df[\"inhibitor_concentration\"].astype(str)\n",
    "    + \"_\"\n",
    "    + analysis_df[\"inhibitor_concentration_unit\"].astype(str)\n",
    ").astype(str)\n",
    "\n",
    "\n",
    "# two beta of inducer1, inhibitor, and inhibitor concentration all as 1 beta term + inducer1 concentration as 2nd beta term\n",
    "analysis_df[\"twob_Treatment_Dose_Inhibitor_Dose\"] = (\n",
    "    analysis_df[\"Treatment\"]\n",
    "    + \"_\"\n",
    "    + analysis_df[\"inhibitor\"].astype(str)\n",
    "    + \"_\"\n",
    "    # + analysis_df[\"inhibitor_concentration\"].astype(str)\n",
    "    # + \"__\"\n",
    "    + analysis_df[\"Dose\"].astype(str)\n",
    ").astype(str)\n",
    "\n",
    "# three beta of inducer 1 as 1 beta term, inducer1 concentration as 2nd beta term, inhibitor and inhibitor concentration as 3rd beta term\n",
    "analysis_df[\"threeb_Treatment_Dose_Inhibitor_Dose\"] = (\n",
    "    analysis_df[\"Treatment\"]\n",
    "    + \"__\"\n",
    "    + analysis_df[\"Dose\"].astype(str)\n",
    "    + \"__\"\n",
    "    # + analysis_df['inducer1_concentration_unit'].astype(str)\n",
    "    # + \"_\"\n",
    "    + analysis_df[\"inhibitor\"].astype(str)\n",
    "    + \"_\"\n",
    "    + analysis_df[\"inhibitor_concentration\"].astype(str)\n",
    ").astype(str)\n",
    "\n",
    "# four beta of inducer 1 as 1 beta term, inducer1 concentration as 2nd beta term, inhibitor as 3rd beta term, and inhibitor concentration as 4th beta term\n",
    "analysis_df[\"fourb_Treatment_Dose_Inhibitor_Dose\"] = (\n",
    "    analysis_df[\"Treatment\"]\n",
    "    + \"__\"\n",
    "    + analysis_df[\"Dose\"].astype(str)\n",
    "    + \"__\"\n",
    "    # + analysis_df['inducer1_concentration_unit'].astype(str)\n",
    "    # + \"_\"\n",
    "    + analysis_df[\"inhibitor\"].astype(str)\n",
    "    + \"__\"\n",
    "    + analysis_df[\"inhibitor_concentration\"].astype(str)\n",
    ").astype(str)"
   ]
  },
  {
   "cell_type": "code",
   "execution_count": null,
   "metadata": {},
   "outputs": [],
   "source": [
    "# fix strings in Metadata_Treatment column\n",
    "# replaceall \"None\" with \"0\"\n",
    "analysis_df[\"oneb_Treatment_Dose_Inhibitor_Dose\"] = analysis_df[\n",
    "    \"oneb_Treatment_Dose_Inhibitor_Dose\"\n",
    "].str.replace(\"None\", \"0\")\n",
    "# replace all mu with u\n",
    "analysis_df[\"oneb_Treatment_Dose_Inhibitor_Dose\"] = analysis_df[\n",
    "    \"oneb_Treatment_Dose_Inhibitor_Dose\"\n",
    "].str.replace(\"µ\", \"u\")\n",
    "# replace all \"nan\" with \"0\"\n",
    "analysis_df[\"oneb_Treatment_Dose_Inhibitor_Dose\"] = analysis_df[\n",
    "    \"oneb_Treatment_Dose_Inhibitor_Dose\"\n",
    "].str.replace(\"nan\", \"0\")"
   ]
  },
  {
   "cell_type": "code",
   "execution_count": null,
   "metadata": {},
   "outputs": [],
   "source": [
    "# _0.03 to _0.025\n",
    "analysis_df[\"oneb_Treatment_Dose_Inhibitor_Dose\"] = analysis_df[\n",
    "    \"oneb_Treatment_Dose_Inhibitor_Dose\"\n",
    "].str.replace(\"_0.03\", \"_0.025\", regex=False)\n",
    "# _0.010_ to _0.100_\n",
    "analysis_df[\"oneb_Treatment_Dose_Inhibitor_Dose\"] = analysis_df[\n",
    "    \"oneb_Treatment_Dose_Inhibitor_Dose\"\n",
    "].str.replace(\"_0.01_\", \"_0.010_\", regex=False)\n",
    "# _0.10_ to _0.100_\n",
    "analysis_df[\"oneb_Treatment_Dose_Inhibitor_Dose\"] = analysis_df[\n",
    "    \"oneb_Treatment_Dose_Inhibitor_Dose\"\n",
    "].str.replace(\"_0.10_\", \"_0.100_\", regex=False)\n",
    "# _0.10_ to _0.100_\n",
    "analysis_df[\"oneb_Treatment_Dose_Inhibitor_Dose\"] = analysis_df[\n",
    "    \"oneb_Treatment_Dose_Inhibitor_Dose\"\n",
    "].str.replace(\"_0.1_\", \"_0.100_\", regex=False)\n",
    "# _1_ to _1.000_\n",
    "analysis_df[\"oneb_Treatment_Dose_Inhibitor_Dose\"] = analysis_df[\n",
    "    \"oneb_Treatment_Dose_Inhibitor_Dose\"\n",
    "].str.replace(\"_1_\", \"_1.000_\", regex=False)\n",
    "# _1.0_ to _1.000_\n",
    "analysis_df[\"oneb_Treatment_Dose_Inhibitor_Dose\"] = analysis_df[\n",
    "    \"oneb_Treatment_Dose_Inhibitor_Dose\"\n",
    "].str.replace(\"_1.0_\", \"_1.000_\", regex=False)\n",
    "# _10_ to _10.000_\n",
    "analysis_df[\"oneb_Treatment_Dose_Inhibitor_Dose\"] = analysis_df[\n",
    "    \"oneb_Treatment_Dose_Inhibitor_Dose\"\n",
    "].str.replace(\"_10_\", \"_10.000_\", regex=False)\n",
    "# _100_ to _100.000_\n",
    "analysis_df[\"oneb_Treatment_Dose_Inhibitor_Dose\"] = analysis_df[\n",
    "    \"oneb_Treatment_Dose_Inhibitor_Dose\"\n",
    "].str.replace(\"_100_\", \"_100.000_\", regex=False)\n",
    "# _100.0_ to _100.000_\n",
    "analysis_df[\"oneb_Treatment_Dose_Inhibitor_Dose\"] = analysis_df[\n",
    "    \"oneb_Treatment_Dose_Inhibitor_Dose\"\n",
    "].str.replace(\"_100.0_\", \"_100.000_\", regex=False)\n",
    "# _5_ to _5.000_\n",
    "analysis_df[\"oneb_Treatment_Dose_Inhibitor_Dose\"] = analysis_df[\n",
    "    \"oneb_Treatment_Dose_Inhibitor_Dose\"\n",
    "].str.replace(\"_5_\", \"_5.000_\", regex=False)\n",
    "# _20_ to _20.000_\n",
    "analysis_df[\"oneb_Treatment_Dose_Inhibitor_Dose\"] = analysis_df[\n",
    "    \"oneb_Treatment_Dose_Inhibitor_Dose\"\n",
    "].str.replace(\"_20_\", \"_20.000_\", regex=False)\n",
    "# _30_ to _30.000_\n",
    "analysis_df[\"oneb_Treatment_Dose_Inhibitor_Dose\"] = analysis_df[\n",
    "    \"oneb_Treatment_Dose_Inhibitor_Dose\"\n",
    "].str.replace(\"_30_\", \"_30.000_\", regex=False)\n",
    "# _2.5 to _2.500_\n",
    "analysis_df[\"oneb_Treatment_Dose_Inhibitor_Dose\"] = analysis_df[\n",
    "    \"oneb_Treatment_Dose_Inhibitor_Dose\"\n",
    "].str.replace(\"_2.5_\", \"_2.500_\", regex=False)\n",
    "# _3.0 to _3.000_\n",
    "analysis_df[\"oneb_Treatment_Dose_Inhibitor_Dose\"] = analysis_df[\n",
    "    \"oneb_Treatment_Dose_Inhibitor_Dose\"\n",
    "].str.replace(\"_3.0_\", \"_3.000_\", regex=False)\n",
    "# _3 to _3.000_\n",
    "analysis_df[\"oneb_Treatment_Dose_Inhibitor_Dose\"] = analysis_df[\n",
    "    \"oneb_Treatment_Dose_Inhibitor_Dose\"\n",
    "].str.replace(\"_3_\", \"_3.000_\", regex=False)"
   ]
  },
  {
   "cell_type": "code",
   "execution_count": null,
   "metadata": {},
   "outputs": [],
   "source": [
    "# save nELISA_plate_430420_no_inhibitors dataframe to csv file\n",
    "analysis_df.to_csv(preprocessing_path, index=False)"
   ]
  }
 ],
 "metadata": {
  "kernelspec": {
   "display_name": "Interstellar",
   "language": "python",
   "name": "python3"
  },
  "language_info": {
   "codemirror_mode": {
    "name": "ipython",
    "version": 3
   },
   "file_extension": ".py",
   "mimetype": "text/x-python",
   "name": "python",
   "nbconvert_exporter": "python",
   "pygments_lexer": "ipython3",
   "version": "3.10.12"
  },
  "orig_nbformat": 4,
  "vscode": {
   "interpreter": {
    "hash": "72ae02083a9ca7d143c492d1aec380c7bf553ec51bd66e90e72bba65228121b6"
   }
  }
 },
 "nbformat": 4,
 "nbformat_minor": 2
}
