{
 "cells": [
  {
   "cell_type": "markdown",
   "id": "7a24019d",
   "metadata": {
    "papermill": {
     "duration": 0.003504,
     "end_time": "2023-10-27T21:27:04.214930",
     "exception": false,
     "start_time": "2023-10-27T21:27:04.211426",
     "status": "completed"
    },
    "tags": []
   },
   "source": [
    "This noteboook pre-processes the nELISA data to be ready for exploratory analysis and machine learning."
   ]
  },
  {
   "cell_type": "code",
   "execution_count": 1,
   "id": "e8437bec",
   "metadata": {
    "execution": {
     "iopub.execute_input": "2023-10-27T21:27:04.221070Z",
     "iopub.status.busy": "2023-10-27T21:27:04.220738Z",
     "iopub.status.idle": "2023-10-27T21:27:09.090922Z",
     "shell.execute_reply": "2023-10-27T21:27:09.090452Z"
    },
    "papermill": {
     "duration": 4.874728,
     "end_time": "2023-10-27T21:27:09.092394",
     "exception": false,
     "start_time": "2023-10-27T21:27:04.217666",
     "status": "completed"
    },
    "tags": []
   },
   "outputs": [],
   "source": [
    "import pathlib\n",
    "\n",
    "import matplotlib.pyplot as plt\n",
    "import numpy as np\n",
    "import pandas as pd\n",
    "import seaborn as sns\n",
    "from matplotlib.backends.backend_pdf import PdfPages\n",
    "from sklearn import preprocessing"
   ]
  },
  {
   "cell_type": "code",
   "execution_count": 2,
   "id": "825123de",
   "metadata": {
    "execution": {
     "iopub.execute_input": "2023-10-27T21:27:09.104607Z",
     "iopub.status.busy": "2023-10-27T21:27:09.104293Z",
     "iopub.status.idle": "2023-10-27T21:27:09.106650Z",
     "shell.execute_reply": "2023-10-27T21:27:09.106267Z"
    },
    "papermill": {
     "duration": 0.007006,
     "end_time": "2023-10-27T21:27:09.107526",
     "exception": false,
     "start_time": "2023-10-27T21:27:09.100520",
     "status": "completed"
    },
    "tags": [
     "injected-parameters"
    ]
   },
   "outputs": [],
   "source": [
    "# Parameters\n",
    "cell_type = \"PBMC\""
   ]
  },
  {
   "cell_type": "code",
   "execution_count": 3,
   "id": "5ed0a049",
   "metadata": {
    "execution": {
     "iopub.execute_input": "2023-10-27T21:27:09.113476Z",
     "iopub.status.busy": "2023-10-27T21:27:09.113187Z",
     "iopub.status.idle": "2023-10-27T21:27:09.164582Z",
     "shell.execute_reply": "2023-10-27T21:27:09.164154Z"
    },
    "papermill": {
     "duration": 0.055538,
     "end_time": "2023-10-27T21:27:09.165642",
     "exception": false,
     "start_time": "2023-10-27T21:27:09.110104",
     "status": "completed"
    },
    "tags": []
   },
   "outputs": [],
   "source": [
    "# set path to data\n",
    "data_path = pathlib.Path(\n",
    "    f\"../2.Nomic_nELISA_Analysis/Data/clean/Plate2/nELISA_plate_430420_{cell_type}.csv\"\n",
    ").resolve(strict=True)\n",
    "\n",
    "preprocessing_path = pathlib.Path(\n",
    "    f\"../2.Nomic_nELISA_Analysis/Data/clean/Plate2/nELISA_plate_430420_{cell_type}_clean.parquet\"\n",
    ").resolve(strict=True)\n",
    "\n",
    "# read in data\n",
    "nomic_df = pd.read_csv(data_path)"
   ]
  },
  {
   "cell_type": "code",
   "execution_count": 4,
   "id": "3d82e564",
   "metadata": {
    "execution": {
     "iopub.execute_input": "2023-10-27T21:27:09.171629Z",
     "iopub.status.busy": "2023-10-27T21:27:09.171350Z",
     "iopub.status.idle": "2023-10-27T21:27:09.174370Z",
     "shell.execute_reply": "2023-10-27T21:27:09.173989Z"
    },
    "papermill": {
     "duration": 0.006944,
     "end_time": "2023-10-27T21:27:09.175233",
     "exception": false,
     "start_time": "2023-10-27T21:27:09.168289",
     "status": "completed"
    },
    "tags": []
   },
   "outputs": [],
   "source": [
    "# select data only columns and make floats\n",
    "nELISA_data_values = nomic_df.filter(like=\"NSU\", axis=1).astype(\"float\")"
   ]
  },
  {
   "cell_type": "code",
   "execution_count": 5,
   "id": "b69291c3",
   "metadata": {
    "execution": {
     "iopub.execute_input": "2023-10-27T21:27:09.181143Z",
     "iopub.status.busy": "2023-10-27T21:27:09.180858Z",
     "iopub.status.idle": "2023-10-27T21:27:09.187774Z",
     "shell.execute_reply": "2023-10-27T21:27:09.187398Z"
    },
    "papermill": {
     "duration": 0.011007,
     "end_time": "2023-10-27T21:27:09.188796",
     "exception": false,
     "start_time": "2023-10-27T21:27:09.177789",
     "status": "completed"
    },
    "tags": []
   },
   "outputs": [],
   "source": [
    "# normalize data via max value in each column\n",
    "max_values = nELISA_data_values.max()  # find max value in each column\n",
    "nELISA_data_values_sensor_max_norm = nELISA_data_values.div(\n",
    "    max_values\n",
    ")  # divide each value in each column by max value in that column\n",
    "nELISA_data_values_sensor_max_norm.head()\n",
    "# min max normalization via sklearn\n",
    "\n",
    "# normalize data via min max normalization\n",
    "min_max_scaler = preprocessing.MinMaxScaler()\n",
    "nELISA_data_values_min_max_norm = min_max_scaler.fit_transform(nELISA_data_values)\n",
    "nELISA_data_values_min_max_norm = pd.DataFrame(\n",
    "    nELISA_data_values_min_max_norm, columns=nELISA_data_values.columns\n",
    ")"
   ]
  },
  {
   "cell_type": "code",
   "execution_count": 6,
   "id": "60edc44c",
   "metadata": {
    "execution": {
     "iopub.execute_input": "2023-10-27T21:27:09.194693Z",
     "iopub.status.busy": "2023-10-27T21:27:09.194428Z",
     "iopub.status.idle": "2023-10-27T21:27:09.198752Z",
     "shell.execute_reply": "2023-10-27T21:27:09.198373Z"
    },
    "papermill": {
     "duration": 0.00825,
     "end_time": "2023-10-27T21:27:09.199635",
     "exception": false,
     "start_time": "2023-10-27T21:27:09.191385",
     "status": "completed"
    },
    "tags": []
   },
   "outputs": [],
   "source": [
    "# drop columns that are named with NSU\n",
    "Metadata = nomic_df.drop(nomic_df.filter(like=\"NSU\", axis=1), axis=1).drop(\n",
    "    nomic_df.filter(like=\"pgML\", axis=1), axis=1\n",
    ")"
   ]
  },
  {
   "cell_type": "code",
   "execution_count": 7,
   "id": "8a9468bd",
   "metadata": {
    "execution": {
     "iopub.execute_input": "2023-10-27T21:27:09.205620Z",
     "iopub.status.busy": "2023-10-27T21:27:09.205358Z",
     "iopub.status.idle": "2023-10-27T21:27:09.207999Z",
     "shell.execute_reply": "2023-10-27T21:27:09.207630Z"
    },
    "papermill": {
     "duration": 0.00658,
     "end_time": "2023-10-27T21:27:09.208871",
     "exception": false,
     "start_time": "2023-10-27T21:27:09.202291",
     "status": "completed"
    },
    "tags": []
   },
   "outputs": [],
   "source": [
    "# merge metadata and normalized data values\n",
    "analysis_df = pd.concat([Metadata, nELISA_data_values_min_max_norm], axis=1)"
   ]
  },
  {
   "cell_type": "code",
   "execution_count": 8,
   "id": "99ce409c",
   "metadata": {
    "execution": {
     "iopub.execute_input": "2023-10-27T21:27:09.214745Z",
     "iopub.status.busy": "2023-10-27T21:27:09.214504Z",
     "iopub.status.idle": "2023-10-27T21:27:09.220982Z",
     "shell.execute_reply": "2023-10-27T21:27:09.220613Z"
    },
    "papermill": {
     "duration": 0.01044,
     "end_time": "2023-10-27T21:27:09.221920",
     "exception": false,
     "start_time": "2023-10-27T21:27:09.211480",
     "status": "completed"
    },
    "tags": []
   },
   "outputs": [],
   "source": [
    "# get rid of spaces\n",
    "analysis_df.replace(\" \", \"_\", regex=True, inplace=True)\n",
    "# replace all \"/\" with \"_per_\"\n",
    "analysis_df.replace(\"/\", \"_per_\", regex=True, inplace=True)"
   ]
  },
  {
   "cell_type": "code",
   "execution_count": 9,
   "id": "e924c3b9",
   "metadata": {
    "execution": {
     "iopub.execute_input": "2023-10-27T21:27:09.227749Z",
     "iopub.status.busy": "2023-10-27T21:27:09.227497Z",
     "iopub.status.idle": "2023-10-27T21:27:09.230896Z",
     "shell.execute_reply": "2023-10-27T21:27:09.230528Z"
    },
    "papermill": {
     "duration": 0.007291,
     "end_time": "2023-10-27T21:27:09.231768",
     "exception": false,
     "start_time": "2023-10-27T21:27:09.224477",
     "status": "completed"
    },
    "tags": []
   },
   "outputs": [],
   "source": [
    "# replace nans with 0 in this case this is okay because the real nans were already removed on the basis of treatment name\n",
    "analysis_df[\"inducer1_concentration\"].replace(np.nan, 0, inplace=True)\n",
    "analysis_df[\"inducer2_concentration\"].replace(np.nan, 0, inplace=True)\n",
    "analysis_df[\"inhibitor_concentration\"].replace(np.nan, 0, inplace=True)"
   ]
  },
  {
   "cell_type": "code",
   "execution_count": 10,
   "id": "6966a475",
   "metadata": {
    "execution": {
     "iopub.execute_input": "2023-10-27T21:27:09.237684Z",
     "iopub.status.busy": "2023-10-27T21:27:09.237427Z",
     "iopub.status.idle": "2023-10-27T21:27:09.242972Z",
     "shell.execute_reply": "2023-10-27T21:27:09.242590Z"
    },
    "papermill": {
     "duration": 0.009515,
     "end_time": "2023-10-27T21:27:09.243904",
     "exception": false,
     "start_time": "2023-10-27T21:27:09.234389",
     "status": "completed"
    },
    "tags": []
   },
   "outputs": [],
   "source": [
    "def perform_replacements(text: str) -> str:\n",
    "    \"\"\"\n",
    "    Function to replace special characters in text.\n",
    "    Replaces `%`, `_µM`, `_nM`, `_µg_per_ml` with empty string.\n",
    "\n",
    "    Parameters\n",
    "    ----------\n",
    "    text : str\n",
    "        Text to be modified.\n",
    "\n",
    "    Returns\n",
    "    -------\n",
    "    str\n",
    "        Modified text.\n",
    "    \"\"\"\n",
    "    replacements = {\n",
    "        \"%\": \"\",\n",
    "        \"_µM\": \"\",\n",
    "        \"_nM\": \"\",\n",
    "        \"_µg_per_ml\": \"\",\n",
    "    }\n",
    "    for key, value in replacements.items():\n",
    "        text = str(text).replace(key, value)\n",
    "    return text\n",
    "\n",
    "\n",
    "# Columns to which you want to apply the changes\n",
    "columns_to_apply = [\n",
    "    \"inducer1_concentration\",\n",
    "    \"inducer2_concentration\",\n",
    "    \"inhibitor_concentration\",\n",
    "]\n",
    "\n",
    "# Applying the custom function to selected columns using apply\n",
    "analysis_df[columns_to_apply] = analysis_df[columns_to_apply].apply(\n",
    "    lambda x: x.apply(perform_replacements)\n",
    ")"
   ]
  },
  {
   "cell_type": "code",
   "execution_count": 11,
   "id": "998d3eef",
   "metadata": {
    "execution": {
     "iopub.execute_input": "2023-10-27T21:27:09.250037Z",
     "iopub.status.busy": "2023-10-27T21:27:09.249752Z",
     "iopub.status.idle": "2023-10-27T21:27:09.253942Z",
     "shell.execute_reply": "2023-10-27T21:27:09.253573Z"
    },
    "papermill": {
     "duration": 0.008256,
     "end_time": "2023-10-27T21:27:09.254831",
     "exception": false,
     "start_time": "2023-10-27T21:27:09.246575",
     "status": "completed"
    },
    "tags": []
   },
   "outputs": [],
   "source": [
    "# using an f string make \"inducer1_concentration\" have 3 decimal places\n",
    "analysis_df[\"inducer1_concentration\"] = analysis_df[\"inducer1_concentration\"].apply(\n",
    "    lambda x: f\"{float(x):.3f}\" if float(x) != 0 else float(x)\n",
    ")\n",
    "analysis_df[\"inducer2_concentration\"] = analysis_df[\"inducer2_concentration\"].apply(\n",
    "    lambda x: f\"{float(x):.3f}\" if float(x) != 0 else float(x)\n",
    ")\n",
    "analysis_df[\"inhibitor_concentration\"] = analysis_df[\"inhibitor_concentration\"].apply(\n",
    "    lambda x: f\"{float(x):.3f}\" if float(x) != 0 else float(x)\n",
    ")"
   ]
  },
  {
   "cell_type": "code",
   "execution_count": 12,
   "id": "e8a85a9c",
   "metadata": {
    "execution": {
     "iopub.execute_input": "2023-10-27T21:27:09.260811Z",
     "iopub.status.busy": "2023-10-27T21:27:09.260569Z",
     "iopub.status.idle": "2023-10-27T21:27:09.266681Z",
     "shell.execute_reply": "2023-10-27T21:27:09.266307Z"
    },
    "papermill": {
     "duration": 0.010117,
     "end_time": "2023-10-27T21:27:09.267616",
     "exception": false,
     "start_time": "2023-10-27T21:27:09.257499",
     "status": "completed"
    },
    "tags": []
   },
   "outputs": [],
   "source": [
    "# treatment column merge\n",
    "conditions = [\n",
    "    (analysis_df[\"inducer2\"].isnull()),\n",
    "    analysis_df[\"inducer2\"].notnull(),\n",
    "]\n",
    "\n",
    "results = [\n",
    "    (analysis_df[\"inducer1\"]).astype(str),\n",
    "    (analysis_df[\"inducer1\"] + \"_\" + analysis_df[\"inducer2\"].astype(str)),\n",
    "]\n",
    "analysis_df[\"Treatment\"] = np.select(condlist=conditions, choicelist=results)\n",
    "\n",
    "\n",
    "# dose column merge\n",
    "results = [\n",
    "    (\n",
    "        analysis_df[\"inducer1_concentration\"].astype(str)\n",
    "        + \"_\"\n",
    "        + analysis_df[\"inducer1_concentration_unit\"].astype(str)\n",
    "    ),\n",
    "    (\n",
    "        analysis_df[\"inducer1_concentration\"].astype(str)\n",
    "        + \"_\"\n",
    "        + analysis_df[\"inducer1_concentration_unit\"].astype(str)\n",
    "        + \"_\"\n",
    "        + analysis_df[\"inducer2_concentration\"].astype(str)\n",
    "        + \"_\"\n",
    "        + analysis_df[\"inducer2_concentration_unit\"].astype(str)\n",
    "    ),\n",
    "]\n",
    "analysis_df[\"Dose\"] = np.select(condlist=conditions, choicelist=results)"
   ]
  },
  {
   "cell_type": "code",
   "execution_count": 13,
   "id": "e1e317ca",
   "metadata": {
    "execution": {
     "iopub.execute_input": "2023-10-27T21:27:09.273546Z",
     "iopub.status.busy": "2023-10-27T21:27:09.273264Z",
     "iopub.status.idle": "2023-10-27T21:27:09.281503Z",
     "shell.execute_reply": "2023-10-27T21:27:09.281123Z"
    },
    "papermill": {
     "duration": 0.012235,
     "end_time": "2023-10-27T21:27:09.282435",
     "exception": false,
     "start_time": "2023-10-27T21:27:09.270200",
     "status": "completed"
    },
    "tags": []
   },
   "outputs": [],
   "source": [
    "# one beta of inudcer1, inducer1 concentration, inhibitor, and inhibitor concentration all as 1 beta term\n",
    "analysis_df[\"oneb_Treatment_Dose_Inhibitor_Dose\"] = (\n",
    "    analysis_df[\"Treatment\"]\n",
    "    + \"_\"\n",
    "    + analysis_df[\"Dose\"].astype(str)\n",
    "    + \"_\"\n",
    "    + analysis_df[\"inhibitor\"].astype(str)\n",
    "    + \"_\"\n",
    "    + analysis_df[\"inhibitor_concentration\"].astype(str)\n",
    "    + \"_\"\n",
    "    + analysis_df[\"inhibitor_concentration_unit\"].astype(str)\n",
    ").astype(str)\n",
    "\n",
    "\n",
    "# two beta of inducer1, inhibitor, and inhibitor concentration all as 1 beta term + inducer1 concentration as 2nd beta term\n",
    "analysis_df[\"twob_Treatment_Dose_Inhibitor_Dose\"] = (\n",
    "    analysis_df[\"Treatment\"]\n",
    "    + \"_\"\n",
    "    + analysis_df[\"inhibitor\"].astype(str)\n",
    "    + \"_\"\n",
    "    + analysis_df[\"Dose\"].astype(str)\n",
    ").astype(str)\n",
    "\n",
    "# three beta of inducer 1 as 1 beta term, inducer1 concentration as 2nd beta term, inhibitor and inhibitor concentration as 3rd beta term\n",
    "analysis_df[\"threeb_Treatment_Dose_Inhibitor_Dose\"] = (\n",
    "    analysis_df[\"Treatment\"]\n",
    "    + \"__\"\n",
    "    + analysis_df[\"Dose\"].astype(str)\n",
    "    + \"__\"\n",
    "    + analysis_df[\"inhibitor\"].astype(str)\n",
    "    + \"_\"\n",
    "    + analysis_df[\"inhibitor_concentration\"].astype(str)\n",
    ").astype(str)\n",
    "\n",
    "# four beta of inducer 1 as 1 beta term, inducer1 concentration as 2nd beta term, inhibitor as 3rd beta term, and inhibitor concentration as 4th beta term\n",
    "analysis_df[\"fourb_Treatment_Dose_Inhibitor_Dose\"] = (\n",
    "    analysis_df[\"Treatment\"]\n",
    "    + \"__\"\n",
    "    + analysis_df[\"Dose\"].astype(str)\n",
    "    + \"__\"\n",
    "    + analysis_df[\"inhibitor\"].astype(str)\n",
    "    + \"__\"\n",
    "    + analysis_df[\"inhibitor_concentration\"].astype(str)\n",
    ").astype(str)"
   ]
  },
  {
   "cell_type": "code",
   "execution_count": 14,
   "id": "807e3ff3",
   "metadata": {
    "execution": {
     "iopub.execute_input": "2023-10-27T21:27:09.288327Z",
     "iopub.status.busy": "2023-10-27T21:27:09.288054Z",
     "iopub.status.idle": "2023-10-27T21:27:09.292323Z",
     "shell.execute_reply": "2023-10-27T21:27:09.291945Z"
    },
    "papermill": {
     "duration": 0.008208,
     "end_time": "2023-10-27T21:27:09.293211",
     "exception": false,
     "start_time": "2023-10-27T21:27:09.285003",
     "status": "completed"
    },
    "tags": []
   },
   "outputs": [
    {
     "name": "stdout",
     "output_type": "stream",
     "text": [
      "None 0\n",
      "µ u\n",
      "nan 0\n"
     ]
    }
   ],
   "source": [
    "replacement_dict = {\n",
    "    \"None\": \"0\",\n",
    "    \"µ\": \"u\",\n",
    "    \"nan\": \"0\",\n",
    "}\n",
    "for pattern, replacement in replacement_dict.items():\n",
    "    print(pattern, replacement)\n",
    "    analysis_df[\"oneb_Treatment_Dose_Inhibitor_Dose\"] = analysis_df[\n",
    "        \"oneb_Treatment_Dose_Inhibitor_Dose\"\n",
    "    ].replace(to_replace=str(pattern), value=str(replacement), regex=True)"
   ]
  },
  {
   "cell_type": "code",
   "execution_count": 15,
   "id": "91ca1499",
   "metadata": {
    "execution": {
     "iopub.execute_input": "2023-10-27T21:27:09.299305Z",
     "iopub.status.busy": "2023-10-27T21:27:09.299027Z",
     "iopub.status.idle": "2023-10-27T21:27:09.302332Z",
     "shell.execute_reply": "2023-10-27T21:27:09.301963Z"
    },
    "papermill": {
     "duration": 0.007312,
     "end_time": "2023-10-27T21:27:09.303235",
     "exception": false,
     "start_time": "2023-10-27T21:27:09.295923",
     "status": "completed"
    },
    "tags": []
   },
   "outputs": [],
   "source": [
    "# _0.03 to _0.025 for the DMSO concentration\n",
    "analysis_df[\"oneb_Treatment_Dose_Inhibitor_Dose\"] = analysis_df[\n",
    "    \"oneb_Treatment_Dose_Inhibitor_Dose\"\n",
    "].str.replace(\"_0.03\", \"_0.025\", regex=False)\n",
    "\n",
    "# _0.0250 to _0.025 for the DMSO concentration\n",
    "analysis_df[\"oneb_Treatment_Dose_Inhibitor_Dose\"] = analysis_df[\n",
    "    \"oneb_Treatment_Dose_Inhibitor_Dose\"\n",
    "].str.replace(\"_0.0250\", \"_0.025\", regex=False)"
   ]
  },
  {
   "cell_type": "code",
   "execution_count": 16,
   "id": "1666f5cd",
   "metadata": {
    "execution": {
     "iopub.execute_input": "2023-10-27T21:27:09.309316Z",
     "iopub.status.busy": "2023-10-27T21:27:09.309042Z",
     "iopub.status.idle": "2023-10-27T21:27:09.317912Z",
     "shell.execute_reply": "2023-10-27T21:27:09.317542Z"
    },
    "papermill": {
     "duration": 0.012881,
     "end_time": "2023-10-27T21:27:09.318817",
     "exception": false,
     "start_time": "2023-10-27T21:27:09.305936",
     "status": "completed"
    },
    "tags": []
   },
   "outputs": [],
   "source": [
    "# need to convert to strings to save as parquet\n",
    "# if the column is an object then convert it to a string\n",
    "for column in analysis_df.columns:\n",
    "    if analysis_df[column].dtype == \"object\":\n",
    "        analysis_df[column] = analysis_df[column].astype(str)"
   ]
  },
  {
   "cell_type": "code",
   "execution_count": 17,
   "id": "2c7c0f16",
   "metadata": {
    "execution": {
     "iopub.execute_input": "2023-10-27T21:27:09.324829Z",
     "iopub.status.busy": "2023-10-27T21:27:09.324565Z",
     "iopub.status.idle": "2023-10-27T21:27:09.409015Z",
     "shell.execute_reply": "2023-10-27T21:27:09.408597Z"
    },
    "papermill": {
     "duration": 0.088653,
     "end_time": "2023-10-27T21:27:09.410100",
     "exception": false,
     "start_time": "2023-10-27T21:27:09.321447",
     "status": "completed"
    },
    "tags": []
   },
   "outputs": [],
   "source": [
    "analysis_df.to_parquet(preprocessing_path)"
   ]
  }
 ],
 "metadata": {
  "kernelspec": {
   "display_name": "Interstellar",
   "language": "python",
   "name": "python3"
  },
  "language_info": {
   "codemirror_mode": {
    "name": "ipython",
    "version": 3
   },
   "file_extension": ".py",
   "mimetype": "text/x-python",
   "name": "python",
   "nbconvert_exporter": "python",
   "pygments_lexer": "ipython3",
   "version": "3.10.12"
  },
  "papermill": {
   "default_parameters": {},
   "duration": 7.669902,
   "end_time": "2023-10-27T21:27:09.728002",
   "environment_variables": {},
   "exception": null,
   "input_path": "2.preprocessing_nELISA_data.ipynb",
   "output_path": "2.preprocessing_nELISA_data.ipynb",
   "parameters": {
    "cell_type": "PBMC"
   },
   "start_time": "2023-10-27T21:27:02.058100",
   "version": "2.4.0"
  },
  "vscode": {
   "interpreter": {
    "hash": "72ae02083a9ca7d143c492d1aec380c7bf553ec51bd66e90e72bba65228121b6"
   }
  }
 },
 "nbformat": 4,
 "nbformat_minor": 5
}