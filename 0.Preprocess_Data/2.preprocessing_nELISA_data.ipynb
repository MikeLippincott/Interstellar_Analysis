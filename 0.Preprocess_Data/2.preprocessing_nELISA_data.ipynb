{
    "cells": [
        {
            "cell_type": "markdown",
            "id": "7a24019d",
            "metadata": {
                "papermill": {
                    "duration": 0.003291,
                    "end_time": "2023-10-29T21:54:06.051186",
                    "exception": false,
                    "start_time": "2023-10-29T21:54:06.047895",
                    "status": "completed"
                },
                "tags": []
            },
            "source": [
                "This noteboook pre-processes the nELISA data to be ready for exploratory analysis and machine learning."
            ]
        },
        {
            "cell_type": "code",
            "execution_count": 1,
            "id": "e8437bec",
            "metadata": {
                "execution": {
                    "iopub.execute_input": "2023-10-29T21:54:06.057437Z",
                    "iopub.status.busy": "2023-10-29T21:54:06.057105Z",
                    "iopub.status.idle": "2023-10-29T21:54:07.747238Z",
                    "shell.execute_reply": "2023-10-29T21:54:07.746669Z"
                },
                "papermill": {
                    "duration": 1.694662,
                    "end_time": "2023-10-29T21:54:07.748664",
                    "exception": false,
                    "start_time": "2023-10-29T21:54:06.054002",
                    "status": "completed"
                },
                "tags": []
            },
            "outputs": [],
            "source": [
                "import pathlib\n",
                "\n",
                "import matplotlib.pyplot as plt\n",
                "import numpy as np\n",
                "import pandas as pd\n",
                "import seaborn as sns\n",
                "from matplotlib.backends.backend_pdf import PdfPages\n",
                "from sklearn import preprocessing"
            ]
        },
        {
            "cell_type": "code",
            "execution_count": 2,
            "id": "b7eab47a",
            "metadata": {
                "execution": {
                    "iopub.execute_input": "2023-10-29T21:54:07.756562Z",
                    "iopub.status.busy": "2023-10-29T21:54:07.755869Z",
                    "iopub.status.idle": "2023-10-29T21:54:07.758587Z",
                    "shell.execute_reply": "2023-10-29T21:54:07.758136Z"
                },
                "papermill": {
                    "duration": 0.007013,
                    "end_time": "2023-10-29T21:54:07.759498",
                    "exception": false,
                    "start_time": "2023-10-29T21:54:07.752485",
                    "status": "completed"
                },
                "tags": [
                    "injected-parameters"
                ]
            },
            "outputs": [],
            "source": [
                "# Parameters\n",
                "cell_type = \"PBMC\""
            ]
        },
        {
            "cell_type": "code",
            "execution_count": 3,
            "id": "5ed0a049",
            "metadata": {
                "execution": {
                    "iopub.execute_input": "2023-10-29T21:54:07.765612Z",
                    "iopub.status.busy": "2023-10-29T21:54:07.765176Z",
                    "iopub.status.idle": "2023-10-29T21:54:07.828072Z",
                    "shell.execute_reply": "2023-10-29T21:54:07.827605Z"
                },
                "papermill": {
                    "duration": 0.067147,
                    "end_time": "2023-10-29T21:54:07.829144",
                    "exception": false,
                    "start_time": "2023-10-29T21:54:07.761997",
                    "status": "completed"
                },
                "tags": []
            },
            "outputs": [],
            "source": [
                "# set path to data\n",
                "data_path = pathlib.Path(\n",
                "    f\"../2.Nomic_nELISA_Analysis/Data/clean/Plate2/nELISA_plate_430420_{cell_type}.csv\"\n",
                ").resolve(strict=True)\n",
                "\n",
                "preprocessing_path = pathlib.Path(\n",
                "    f\"../2.Nomic_nELISA_Analysis/Data/clean/Plate2/nELISA_plate_430420_{cell_type}_clean.parquet\"\n",
                ").resolve(strict=True)\n",
                "\n",
                "# read in data\n",
                "nomic_df = pd.read_csv(data_path)"
            ]
        },
        {
            "cell_type": "code",
            "execution_count": 4,
            "id": "3d82e564",
            "metadata": {
                "execution": {
                    "iopub.execute_input": "2023-10-29T21:54:07.835518Z",
                    "iopub.status.busy": "2023-10-29T21:54:07.834974Z",
                    "iopub.status.idle": "2023-10-29T21:54:07.838709Z",
                    "shell.execute_reply": "2023-10-29T21:54:07.838298Z"
                },
                "papermill": {
                    "duration": 0.007834,
                    "end_time": "2023-10-29T21:54:07.839604",
                    "exception": false,
                    "start_time": "2023-10-29T21:54:07.831770",
                    "status": "completed"
                },
                "tags": []
            },
            "outputs": [],
            "source": [
                "# select data only columns and make floats\n",
                "nELISA_data_values = nomic_df.filter(like=\"NSU\", axis=1).astype(\"float\")"
            ]
        },
        {
            "cell_type": "code",
            "execution_count": 5,
            "id": "b69291c3",
            "metadata": {
                "execution": {
                    "iopub.execute_input": "2023-10-29T21:54:07.845534Z",
                    "iopub.status.busy": "2023-10-29T21:54:07.845171Z",
                    "iopub.status.idle": "2023-10-29T21:54:07.852309Z",
                    "shell.execute_reply": "2023-10-29T21:54:07.851917Z"
                },
                "papermill": {
                    "duration": 0.011089,
                    "end_time": "2023-10-29T21:54:07.853192",
                    "exception": false,
                    "start_time": "2023-10-29T21:54:07.842103",
                    "status": "completed"
                },
                "tags": []
            },
            "outputs": [],
            "source": [
                "# normalize data via max value in each column\n",
                "max_values = nELISA_data_values.max()  # find max value in each column\n",
                "nELISA_data_values_sensor_max_norm = nELISA_data_values.div(\n",
                "    max_values\n",
                ")  # divide each value in each column by max value in that column\n",
                "nELISA_data_values_sensor_max_norm.head()\n",
                "# min max normalization via sklearn\n",
                "\n",
                "# normalize data via min max normalization\n",
                "min_max_scaler = preprocessing.MinMaxScaler()\n",
                "nELISA_data_values_min_max_norm = min_max_scaler.fit_transform(nELISA_data_values)\n",
                "nELISA_data_values_min_max_norm = pd.DataFrame(\n",
                "    nELISA_data_values_min_max_norm, columns=nELISA_data_values.columns\n",
                ")"
            ]
        },
        {
            "cell_type": "code",
            "execution_count": 6,
            "id": "60edc44c",
            "metadata": {
                "execution": {
                    "iopub.execute_input": "2023-10-29T21:54:07.859170Z",
                    "iopub.status.busy": "2023-10-29T21:54:07.858868Z",
                    "iopub.status.idle": "2023-10-29T21:54:07.863348Z",
                    "shell.execute_reply": "2023-10-29T21:54:07.862965Z"
                },
                "papermill": {
                    "duration": 0.008362,
                    "end_time": "2023-10-29T21:54:07.864214",
                    "exception": false,
                    "start_time": "2023-10-29T21:54:07.855852",
                    "status": "completed"
                },
                "tags": []
            },
            "outputs": [],
            "source": [
                "# drop columns that are named with NSU\n",
                "Metadata = nomic_df.drop(nomic_df.filter(like=\"NSU\", axis=1), axis=1).drop(\n",
                "    nomic_df.filter(like=\"pgML\", axis=1), axis=1\n",
                ")"
            ]
        },
        {
            "cell_type": "code",
            "execution_count": 7,
            "id": "8a9468bd",
            "metadata": {
                "execution": {
                    "iopub.execute_input": "2023-10-29T21:54:07.869935Z",
                    "iopub.status.busy": "2023-10-29T21:54:07.869642Z",
                    "iopub.status.idle": "2023-10-29T21:54:07.872491Z",
                    "shell.execute_reply": "2023-10-29T21:54:07.872114Z"
                },
                "papermill": {
                    "duration": 0.006707,
                    "end_time": "2023-10-29T21:54:07.873381",
                    "exception": false,
                    "start_time": "2023-10-29T21:54:07.866674",
                    "status": "completed"
                },
                "tags": []
            },
            "outputs": [],
            "source": [
                "# merge metadata and normalized data values\n",
                "analysis_df = pd.concat([Metadata, nELISA_data_values_min_max_norm], axis=1)"
            ]
        },
        {
            "cell_type": "code",
            "execution_count": 8,
            "id": "99ce409c",
            "metadata": {
                "execution": {
                    "iopub.execute_input": "2023-10-29T21:54:07.879238Z",
                    "iopub.status.busy": "2023-10-29T21:54:07.878953Z",
                    "iopub.status.idle": "2023-10-29T21:54:07.885570Z",
                    "shell.execute_reply": "2023-10-29T21:54:07.885188Z"
                },
                "papermill": {
                    "duration": 0.010552,
                    "end_time": "2023-10-29T21:54:07.886489",
                    "exception": false,
                    "start_time": "2023-10-29T21:54:07.875937",
                    "status": "completed"
                },
                "tags": []
            },
            "outputs": [],
            "source": [
                "# get rid of spaces\n",
                "analysis_df.replace(\" \", \"_\", regex=True, inplace=True)\n",
                "# replace all \"/\" with \"_per_\"\n",
                "analysis_df.replace(\"/\", \"_per_\", regex=True, inplace=True)"
            ]
        },
        {
            "cell_type": "code",
            "execution_count": 9,
            "id": "e924c3b9",
            "metadata": {
                "execution": {
                    "iopub.execute_input": "2023-10-29T21:54:07.892260Z",
                    "iopub.status.busy": "2023-10-29T21:54:07.891971Z",
                    "iopub.status.idle": "2023-10-29T21:54:07.895444Z",
                    "shell.execute_reply": "2023-10-29T21:54:07.895063Z"
                },
                "papermill": {
                    "duration": 0.007323,
                    "end_time": "2023-10-29T21:54:07.896313",
                    "exception": false,
                    "start_time": "2023-10-29T21:54:07.888990",
                    "status": "completed"
                },
                "tags": []
            },
            "outputs": [],
            "source": [
                "# replace nans with 0 in this case this is okay because the real nans were already removed on the basis of treatment name\n",
                "analysis_df[\"inducer1_concentration\"].replace(np.nan, 0, inplace=True)\n",
                "analysis_df[\"inducer2_concentration\"].replace(np.nan, 0, inplace=True)\n",
                "analysis_df[\"inhibitor_concentration\"].replace(np.nan, 0, inplace=True)"
            ]
        },
        {
            "cell_type": "code",
            "execution_count": 10,
            "id": "6966a475",
            "metadata": {
                "execution": {
                    "iopub.execute_input": "2023-10-29T21:54:07.902157Z",
                    "iopub.status.busy": "2023-10-29T21:54:07.901865Z",
                    "iopub.status.idle": "2023-10-29T21:54:07.907565Z",
                    "shell.execute_reply": "2023-10-29T21:54:07.907180Z"
                },
                "papermill": {
                    "duration": 0.009608,
                    "end_time": "2023-10-29T21:54:07.908479",
                    "exception": false,
                    "start_time": "2023-10-29T21:54:07.898871",
                    "status": "completed"
                },
                "tags": []
            },
            "outputs": [],
            "source": [
                "def perform_replacements(text: str) -> str:\n",
                "    \"\"\"\n",
                "    Function to replace special characters in text.\n",
                "    Replaces `%`, `_µM`, `_nM`, `_µg_per_ml` with empty string.\n",
                "\n",
                "    Parameters\n",
                "    ----------\n",
                "    text : str\n",
                "        Text to be modified.\n",
                "\n",
                "    Returns\n",
                "    -------\n",
                "    str\n",
                "        Modified text.\n",
                "    \"\"\"\n",
                "    replacements = {\n",
                "        \"%\": \"\",\n",
                "        \"_µM\": \"\",\n",
                "        \"_nM\": \"\",\n",
                "        \"_µg_per_ml\": \"\",\n",
                "    }\n",
                "    for key, value in replacements.items():\n",
                "        text = str(text).replace(key, value)\n",
                "    return text\n",
                "\n",
                "\n",
                "# Columns to which you want to apply the changes\n",
                "columns_to_apply = [\n",
                "    \"inducer1_concentration\",\n",
                "    \"inducer2_concentration\",\n",
                "    \"inhibitor_concentration\",\n",
                "]\n",
                "\n",
                "# Applying the custom function to selected columns using apply\n",
                "analysis_df[columns_to_apply] = analysis_df[columns_to_apply].apply(\n",
                "    lambda x: x.apply(perform_replacements)\n",
                ")"
            ]
        },
        {
            "cell_type": "code",
            "execution_count": 11,
            "id": "998d3eef",
            "metadata": {
                "execution": {
                    "iopub.execute_input": "2023-10-29T21:54:07.914221Z",
                    "iopub.status.busy": "2023-10-29T21:54:07.913938Z",
                    "iopub.status.idle": "2023-10-29T21:54:07.918173Z",
                    "shell.execute_reply": "2023-10-29T21:54:07.917792Z"
                },
                "papermill": {
                    "duration": 0.008111,
                    "end_time": "2023-10-29T21:54:07.919088",
                    "exception": false,
                    "start_time": "2023-10-29T21:54:07.910977",
                    "status": "completed"
                },
                "tags": []
            },
            "outputs": [],
            "source": [
                "# using an f string make \"inducer1_concentration\" have 3 decimal places\n",
                "analysis_df[\"inducer1_concentration\"] = analysis_df[\"inducer1_concentration\"].apply(\n",
                "    lambda x: f\"{float(x):.3f}\" if float(x) != 0 else float(x)\n",
                ")\n",
                "analysis_df[\"inducer2_concentration\"] = analysis_df[\"inducer2_concentration\"].apply(\n",
                "    lambda x: f\"{float(x):.3f}\" if float(x) != 0 else float(x)\n",
                ")\n",
                "analysis_df[\"inhibitor_concentration\"] = analysis_df[\"inhibitor_concentration\"].apply(\n",
                "    lambda x: f\"{float(x):.3f}\" if float(x) != 0 else float(x)\n",
                ")"
            ]
        },
        {
            "cell_type": "code",
            "execution_count": 12,
            "id": "e8a85a9c",
            "metadata": {
                "execution": {
                    "iopub.execute_input": "2023-10-29T21:54:07.924878Z",
                    "iopub.status.busy": "2023-10-29T21:54:07.924628Z",
                    "iopub.status.idle": "2023-10-29T21:54:07.930810Z",
                    "shell.execute_reply": "2023-10-29T21:54:07.930432Z"
                },
                "papermill": {
                    "duration": 0.010022,
                    "end_time": "2023-10-29T21:54:07.931673",
                    "exception": false,
                    "start_time": "2023-10-29T21:54:07.921651",
                    "status": "completed"
                },
                "tags": []
            },
            "outputs": [],
            "source": [
                "# treatment column merge\n",
                "conditions = [\n",
                "    (analysis_df[\"inducer2\"].isnull()),\n",
                "    analysis_df[\"inducer2\"].notnull(),\n",
                "]\n",
                "\n",
                "results = [\n",
                "    (analysis_df[\"inducer1\"]).astype(str),\n",
                "    (analysis_df[\"inducer1\"] + \"_\" + analysis_df[\"inducer2\"].astype(str)),\n",
                "]\n",
                "analysis_df[\"Treatment\"] = np.select(condlist=conditions, choicelist=results)\n",
                "\n",
                "\n",
                "# dose column merge\n",
                "results = [\n",
                "    (\n",
                "        analysis_df[\"inducer1_concentration\"].astype(str)\n",
                "        + \"_\"\n",
                "        + analysis_df[\"inducer1_concentration_unit\"].astype(str)\n",
                "    ),\n",
                "    (\n",
                "        analysis_df[\"inducer1_concentration\"].astype(str)\n",
                "        + \"_\"\n",
                "        + analysis_df[\"inducer1_concentration_unit\"].astype(str)\n",
                "        + \"_\"\n",
                "        + analysis_df[\"inducer2_concentration\"].astype(str)\n",
                "        + \"_\"\n",
                "        + analysis_df[\"inducer2_concentration_unit\"].astype(str)\n",
                "    ),\n",
                "]\n",
                "analysis_df[\"Dose\"] = np.select(condlist=conditions, choicelist=results)"
            ]
        },
        {
            "cell_type": "code",
            "execution_count": 13,
            "id": "e1e317ca",
            "metadata": {
                "execution": {
                    "iopub.execute_input": "2023-10-29T21:54:07.937342Z",
                    "iopub.status.busy": "2023-10-29T21:54:07.937086Z",
                    "iopub.status.idle": "2023-10-29T21:54:07.945406Z",
                    "shell.execute_reply": "2023-10-29T21:54:07.945027Z"
                },
                "papermill": {
                    "duration": 0.012116,
                    "end_time": "2023-10-29T21:54:07.946269",
                    "exception": false,
                    "start_time": "2023-10-29T21:54:07.934153",
                    "status": "completed"
                },
                "tags": []
            },
            "outputs": [],
            "source": [
                "# one beta of inudcer1, inducer1 concentration, inhibitor, and inhibitor concentration all as 1 beta term\n",
                "analysis_df[\"oneb_Treatment_Dose_Inhibitor_Dose\"] = (\n",
                "    analysis_df[\"Treatment\"]\n",
                "    + \"_\"\n",
                "    + analysis_df[\"Dose\"].astype(str)\n",
                "    + \"_\"\n",
                "    + analysis_df[\"inhibitor\"].astype(str)\n",
                "    + \"_\"\n",
                "    + analysis_df[\"inhibitor_concentration\"].astype(str)\n",
                "    + \"_\"\n",
                "    + analysis_df[\"inhibitor_concentration_unit\"].astype(str)\n",
                ").astype(str)\n",
                "\n",
                "\n",
                "# two beta of inducer1, inhibitor, and inhibitor concentration all as 1 beta term + inducer1 concentration as 2nd beta term\n",
                "analysis_df[\"twob_Treatment_Dose_Inhibitor_Dose\"] = (\n",
                "    analysis_df[\"Treatment\"]\n",
                "    + \"_\"\n",
                "    + analysis_df[\"inhibitor\"].astype(str)\n",
                "    + \"_\"\n",
                "    + analysis_df[\"Dose\"].astype(str)\n",
                ").astype(str)\n",
                "\n",
                "# three beta of inducer 1 as 1 beta term, inducer1 concentration as 2nd beta term, inhibitor and inhibitor concentration as 3rd beta term\n",
                "analysis_df[\"threeb_Treatment_Dose_Inhibitor_Dose\"] = (\n",
                "    analysis_df[\"Treatment\"]\n",
                "    + \"__\"\n",
                "    + analysis_df[\"Dose\"].astype(str)\n",
                "    + \"__\"\n",
                "    + analysis_df[\"inhibitor\"].astype(str)\n",
                "    + \"_\"\n",
                "    + analysis_df[\"inhibitor_concentration\"].astype(str)\n",
                ").astype(str)\n",
                "\n",
                "# four beta of inducer 1 as 1 beta term, inducer1 concentration as 2nd beta term, inhibitor as 3rd beta term, and inhibitor concentration as 4th beta term\n",
                "analysis_df[\"fourb_Treatment_Dose_Inhibitor_Dose\"] = (\n",
                "    analysis_df[\"Treatment\"]\n",
                "    + \"__\"\n",
                "    + analysis_df[\"Dose\"].astype(str)\n",
                "    + \"__\"\n",
                "    + analysis_df[\"inhibitor\"].astype(str)\n",
                "    + \"__\"\n",
                "    + analysis_df[\"inhibitor_concentration\"].astype(str)\n",
                ").astype(str)"
            ]
        },
        {
            "cell_type": "code",
            "execution_count": 14,
            "id": "807e3ff3",
            "metadata": {
                "execution": {
                    "iopub.execute_input": "2023-10-29T21:54:07.952049Z",
                    "iopub.status.busy": "2023-10-29T21:54:07.951725Z",
                    "iopub.status.idle": "2023-10-29T21:54:07.955982Z",
                    "shell.execute_reply": "2023-10-29T21:54:07.955587Z"
                },
                "papermill": {
                    "duration": 0.008089,
                    "end_time": "2023-10-29T21:54:07.956856",
                    "exception": false,
                    "start_time": "2023-10-29T21:54:07.948767",
                    "status": "completed"
                },
                "tags": []
            },
            "outputs": [
                {
                    "name": "stdout",
                    "output_type": "stream",
                    "text": [
                        "None 0\n",
                        "µ u\n",
                        "nan 0\n"
                    ]
                }
            ],
            "source": [
                "replacement_dict = {\n",
                "    \"None\": \"0\",\n",
                "    \"µ\": \"u\",\n",
                "    \"nan\": \"0\",\n",
                "}\n",
                "for pattern, replacement in replacement_dict.items():\n",
                "    print(pattern, replacement)\n",
                "    analysis_df[\"oneb_Treatment_Dose_Inhibitor_Dose\"] = analysis_df[\n",
                "        \"oneb_Treatment_Dose_Inhibitor_Dose\"\n",
                "    ].replace(to_replace=str(pattern), value=str(replacement), regex=True)"
            ]
        },
        {
            "cell_type": "code",
            "execution_count": 15,
            "id": "91ca1499",
            "metadata": {
                "execution": {
                    "iopub.execute_input": "2023-10-29T21:54:07.994330Z",
                    "iopub.status.busy": "2023-10-29T21:54:07.994053Z",
                    "iopub.status.idle": "2023-10-29T21:54:07.997466Z",
                    "shell.execute_reply": "2023-10-29T21:54:07.997090Z"
                },
                "papermill": {
                    "duration": 0.007345,
                    "end_time": "2023-10-29T21:54:07.998331",
                    "exception": false,
                    "start_time": "2023-10-29T21:54:07.990986",
                    "status": "completed"
                },
                "tags": []
            },
            "outputs": [],
            "source": [
                "# _0.03 to _0.025 for the DMSO concentration\n",
                "analysis_df[\"oneb_Treatment_Dose_Inhibitor_Dose\"] = analysis_df[\n",
                "    \"oneb_Treatment_Dose_Inhibitor_Dose\"\n",
                "].str.replace(\"_0.03\", \"_0.025\", regex=False)\n",
                "\n",
                "# _0.0250 to _0.025 for the DMSO concentration\n",
                "analysis_df[\"oneb_Treatment_Dose_Inhibitor_Dose\"] = analysis_df[\n",
                "    \"oneb_Treatment_Dose_Inhibitor_Dose\"\n",
                "].str.replace(\"_0.0250\", \"_0.025\", regex=False)"
            ]
        },
        {
            "cell_type": "code",
            "execution_count": 16,
            "id": "e9b16b37",
            "metadata": {},
            "outputs": [
                {
                    "name": "stderr",
                    "output_type": "stream",
                    "text": [
                        "/tmp/ipykernel_272637/3225102891.py:3: FutureWarning: The default value of regex will change from True to False in a future version.\n",
                        "  ].str.replace(\"media_ctr_0.0_0_Media_ctr_0.0_0\", \"Media\")\n",
                        "/tmp/ipykernel_272637/3225102891.py:7: FutureWarning: The default value of regex will change from True to False in a future version.\n",
                        "  ].str.replace(\"media_ctr_0.0_0_Media_0.0_0\", \"Media\")\n",
                        "/tmp/ipykernel_272637/3225102891.py:11: FutureWarning: The default value of regex will change from True to False in a future version.\n",
                        "  ].str.replace(\n",
                        "/tmp/ipykernel_272637/3225102891.py:17: FutureWarning: The default value of regex will change from True to False in a future version.\n",
                        "  ].str.replace(\n"
                    ]
                }
            ],
            "source": [
                "analysis_df[\"oneb_Treatment_Dose_Inhibitor_Dose\"] = analysis_df[\n",
                "    \"oneb_Treatment_Dose_Inhibitor_Dose\"\n",
                "].str.replace(\"media_ctr_0.0_0_Media_ctr_0.0_0\", \"Media\")\n",
                "\n",
                "analysis_df[\"oneb_Treatment_Dose_Inhibitor_Dose\"] = analysis_df[\n",
                "    \"oneb_Treatment_Dose_Inhibitor_Dose\"\n",
                "].str.replace(\"media_ctr_0.0_0_Media_0.0_0\", \"Media\")\n",
                "\n",
                "analysis_df[\"oneb_Treatment_Dose_Inhibitor_Dose\"] = analysis_df[\n",
                "    \"oneb_Treatment_Dose_Inhibitor_Dose\"\n",
                "].str.replace(\n",
                "    \"Flagellin_0.100_ug_per_ml_DMSO_0.0_%\", \"Flagellin_0.100_ug_per_ml_DMSO_0.025_%\"\n",
                ")\n",
                "\n",
                "analysis_df[\"oneb_Treatment_Dose_Inhibitor_Dose\"] = analysis_df[\n",
                "    \"oneb_Treatment_Dose_Inhibitor_Dose\"\n",
                "].str.replace(\n",
                "    \"Flagellin_1.000_ug_per_ml_DMSO_0.0_%\", \"Flagellin_1.000_ug_per_ml_DMSO_0.025_%\"\n",
                ")"
            ]
        },
        {
            "cell_type": "code",
            "execution_count": 17,
            "id": "1666f5cd",
            "metadata": {
                "execution": {
                    "iopub.execute_input": "2023-10-29T21:54:08.004178Z",
                    "iopub.status.busy": "2023-10-29T21:54:08.003903Z",
                    "iopub.status.idle": "2023-10-29T21:54:08.012987Z",
                    "shell.execute_reply": "2023-10-29T21:54:08.012603Z"
                },
                "papermill": {
                    "duration": 0.013001,
                    "end_time": "2023-10-29T21:54:08.013895",
                    "exception": false,
                    "start_time": "2023-10-29T21:54:08.000894",
                    "status": "completed"
                },
                "tags": []
            },
            "outputs": [],
            "source": [
                "# need to convert to strings to save as parquet\n",
                "# if the column is an object then convert it to a string\n",
                "for column in analysis_df.columns:\n",
                "    if analysis_df[column].dtype == \"object\":\n",
                "        analysis_df[column] = analysis_df[column].astype(str)"
            ]
        },
        {
            "cell_type": "code",
            "execution_count": 18,
            "id": "76ce4f5c",
            "metadata": {},
            "outputs": [
                {
                    "name": "stdout",
                    "output_type": "stream",
                    "text": [
                        "37\n"
                    ]
                }
            ],
            "source": [
                "print(len(analysis_df[\"oneb_Treatment_Dose_Inhibitor_Dose\"].unique()))"
            ]
        },
        {
            "cell_type": "code",
            "execution_count": 19,
            "id": "2c7c0f16",
            "metadata": {
                "execution": {
                    "iopub.execute_input": "2023-10-29T21:54:08.019724Z",
                    "iopub.status.busy": "2023-10-29T21:54:08.019454Z",
                    "iopub.status.idle": "2023-10-29T21:54:08.103139Z",
                    "shell.execute_reply": "2023-10-29T21:54:08.102698Z"
                },
                "papermill": {
                    "duration": 0.087834,
                    "end_time": "2023-10-29T21:54:08.104275",
                    "exception": false,
                    "start_time": "2023-10-29T21:54:08.016441",
                    "status": "completed"
                },
                "tags": []
            },
            "outputs": [],
            "source": [
                "analysis_df.to_parquet(preprocessing_path)"
            ]
        }
    ],
    "metadata": {
        "kernelspec": {
            "display_name": "Interstellar",
            "language": "python",
            "name": "python3"
        },
        "language_info": {
            "codemirror_mode": {
                "name": "ipython",
                "version": 3
            },
            "file_extension": ".py",
            "mimetype": "text/x-python",
            "name": "python",
            "nbconvert_exporter": "python",
            "pygments_lexer": "ipython3",
            "version": "3.10.14"
        },
        "papermill": {
            "default_parameters": {},
            "duration": 4.299884,
            "end_time": "2023-10-29T21:54:08.421508",
            "environment_variables": {},
            "exception": null,
            "input_path": "2.preprocessing_nELISA_data.ipynb",
            "output_path": "2.preprocessing_nELISA_data.ipynb",
            "parameters": {
                "cell_type": "SHSY5Y"
            },
            "start_time": "2023-10-29T21:54:04.121624",
            "version": "2.4.0"
        },
        "vscode": {
            "interpreter": {
                "hash": "72ae02083a9ca7d143c492d1aec380c7bf553ec51bd66e90e72bba65228121b6"
            }
        }
    },
    "nbformat": 4,
    "nbformat_minor": 5
}
