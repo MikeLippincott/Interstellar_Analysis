{
 "cells": [
  {
   "cell_type": "markdown",
   "id": "7a24019d",
   "metadata": {
    "papermill": {
     "duration": 0.004484,
     "end_time": "2023-10-29T21:15:27.786355",
     "exception": false,
     "start_time": "2023-10-29T21:15:27.781871",
     "status": "completed"
    },
    "tags": []
   },
   "source": [
    "This noteboook pre-processes the nELISA data to be ready for exploratory analysis and machine learning."
   ]
  },
  {
   "cell_type": "code",
   "execution_count": 1,
   "id": "e8437bec",
   "metadata": {
    "execution": {
     "iopub.execute_input": "2023-10-29T21:15:27.793699Z",
     "iopub.status.busy": "2023-10-29T21:15:27.793215Z",
     "iopub.status.idle": "2023-10-29T21:15:29.763167Z",
     "shell.execute_reply": "2023-10-29T21:15:29.762507Z"
    },
    "papermill": {
     "duration": 1.975422,
     "end_time": "2023-10-29T21:15:29.765152",
     "exception": false,
     "start_time": "2023-10-29T21:15:27.789730",
     "status": "completed"
    },
    "tags": []
   },
   "outputs": [],
   "source": [
    "import pathlib\n",
    "\n",
    "import matplotlib.pyplot as plt\n",
    "import numpy as np\n",
    "import pandas as pd\n",
    "import seaborn as sns\n",
    "from matplotlib.backends.backend_pdf import PdfPages\n",
    "from sklearn import preprocessing"
   ]
  },
  {
   "cell_type": "code",
   "execution_count": 2,
   "id": "aa0385d4",
   "metadata": {
    "execution": {
     "iopub.execute_input": "2023-10-29T21:15:29.775129Z",
     "iopub.status.busy": "2023-10-29T21:15:29.774798Z",
     "iopub.status.idle": "2023-10-29T21:15:29.777758Z",
     "shell.execute_reply": "2023-10-29T21:15:29.777237Z"
    },
    "papermill": {
     "duration": 0.007951,
     "end_time": "2023-10-29T21:15:29.778827",
     "exception": false,
     "start_time": "2023-10-29T21:15:29.770876",
     "status": "completed"
    },
    "tags": [
     "injected-parameters"
    ]
   },
   "outputs": [],
   "source": [
    "# Parameters\n",
    "cell_type = \"SHSY5Y\""
   ]
  },
  {
   "cell_type": "code",
   "execution_count": 3,
   "id": "5ed0a049",
   "metadata": {
    "execution": {
     "iopub.execute_input": "2023-10-29T21:15:29.785285Z",
     "iopub.status.busy": "2023-10-29T21:15:29.784842Z",
     "iopub.status.idle": "2023-10-29T21:15:29.896701Z",
     "shell.execute_reply": "2023-10-29T21:15:29.896146Z"
    },
    "papermill": {
     "duration": 0.116925,
     "end_time": "2023-10-29T21:15:29.898675",
     "exception": false,
     "start_time": "2023-10-29T21:15:29.781750",
     "status": "completed"
    },
    "tags": []
   },
   "outputs": [],
   "source": [
    "# set path to data\n",
    "data_path = pathlib.Path(\n",
    "    f\"../2.Nomic_nELISA_Analysis/Data/clean/Plate2/nELISA_plate_430420_{cell_type}.csv\"\n",
    ").resolve(strict=True)\n",
    "\n",
    "preprocessing_path = pathlib.Path(\n",
    "    f\"../2.Nomic_nELISA_Analysis/Data/clean/Plate2/nELISA_plate_430420_{cell_type}_clean.parquet\"\n",
    ").resolve(strict=True)\n",
    "\n",
    "# read in data\n",
    "nomic_df = pd.read_csv(data_path)"
   ]
  },
  {
   "cell_type": "code",
   "execution_count": 4,
   "id": "3d82e564",
   "metadata": {
    "execution": {
     "iopub.execute_input": "2023-10-29T21:15:29.907910Z",
     "iopub.status.busy": "2023-10-29T21:15:29.907337Z",
     "iopub.status.idle": "2023-10-29T21:15:29.911152Z",
     "shell.execute_reply": "2023-10-29T21:15:29.910627Z"
    },
    "papermill": {
     "duration": 0.008998,
     "end_time": "2023-10-29T21:15:29.912185",
     "exception": false,
     "start_time": "2023-10-29T21:15:29.903187",
     "status": "completed"
    },
    "tags": []
   },
   "outputs": [],
   "source": [
    "# select data only columns and make floats\n",
    "nELISA_data_values = nomic_df.filter(like=\"NSU\", axis=1).astype(\"float\")"
   ]
  },
  {
   "cell_type": "code",
   "execution_count": 5,
   "id": "b69291c3",
   "metadata": {
    "execution": {
     "iopub.execute_input": "2023-10-29T21:15:29.919092Z",
     "iopub.status.busy": "2023-10-29T21:15:29.918600Z",
     "iopub.status.idle": "2023-10-29T21:15:29.928549Z",
     "shell.execute_reply": "2023-10-29T21:15:29.928017Z"
    },
    "papermill": {
     "duration": 0.014749,
     "end_time": "2023-10-29T21:15:29.930023",
     "exception": false,
     "start_time": "2023-10-29T21:15:29.915274",
     "status": "completed"
    },
    "tags": []
   },
   "outputs": [],
   "source": [
    "# normalize data via max value in each column\n",
    "max_values = nELISA_data_values.max()  # find max value in each column\n",
    "nELISA_data_values_sensor_max_norm = nELISA_data_values.div(\n",
    "    max_values\n",
    ")  # divide each value in each column by max value in that column\n",
    "nELISA_data_values_sensor_max_norm.head()\n",
    "# min max normalization via sklearn\n",
    "\n",
    "# normalize data via min max normalization\n",
    "min_max_scaler = preprocessing.MinMaxScaler()\n",
    "nELISA_data_values_min_max_norm = min_max_scaler.fit_transform(nELISA_data_values)\n",
    "nELISA_data_values_min_max_norm = pd.DataFrame(\n",
    "    nELISA_data_values_min_max_norm, columns=nELISA_data_values.columns\n",
    ")"
   ]
  },
  {
   "cell_type": "code",
   "execution_count": 6,
   "id": "60edc44c",
   "metadata": {
    "execution": {
     "iopub.execute_input": "2023-10-29T21:15:29.937115Z",
     "iopub.status.busy": "2023-10-29T21:15:29.936869Z",
     "iopub.status.idle": "2023-10-29T21:15:29.942280Z",
     "shell.execute_reply": "2023-10-29T21:15:29.941851Z"
    },
    "papermill": {
     "duration": 0.009782,
     "end_time": "2023-10-29T21:15:29.943259",
     "exception": false,
     "start_time": "2023-10-29T21:15:29.933477",
     "status": "completed"
    },
    "tags": []
   },
   "outputs": [],
   "source": [
    "# drop columns that are named with NSU\n",
    "Metadata = nomic_df.drop(nomic_df.filter(like=\"NSU\", axis=1), axis=1).drop(\n",
    "    nomic_df.filter(like=\"pgML\", axis=1), axis=1\n",
    ")"
   ]
  },
  {
   "cell_type": "code",
   "execution_count": 7,
   "id": "8a9468bd",
   "metadata": {
    "execution": {
     "iopub.execute_input": "2023-10-29T21:15:29.949500Z",
     "iopub.status.busy": "2023-10-29T21:15:29.949123Z",
     "iopub.status.idle": "2023-10-29T21:15:29.952582Z",
     "shell.execute_reply": "2023-10-29T21:15:29.952076Z"
    },
    "papermill": {
     "duration": 0.007617,
     "end_time": "2023-10-29T21:15:29.953708",
     "exception": false,
     "start_time": "2023-10-29T21:15:29.946091",
     "status": "completed"
    },
    "tags": []
   },
   "outputs": [],
   "source": [
    "# merge metadata and normalized data values\n",
    "analysis_df = pd.concat([Metadata, nELISA_data_values_min_max_norm], axis=1)"
   ]
  },
  {
   "cell_type": "code",
   "execution_count": 8,
   "id": "99ce409c",
   "metadata": {
    "execution": {
     "iopub.execute_input": "2023-10-29T21:15:29.960309Z",
     "iopub.status.busy": "2023-10-29T21:15:29.959854Z",
     "iopub.status.idle": "2023-10-29T21:15:29.968364Z",
     "shell.execute_reply": "2023-10-29T21:15:29.967934Z"
    },
    "papermill": {
     "duration": 0.012814,
     "end_time": "2023-10-29T21:15:29.969448",
     "exception": false,
     "start_time": "2023-10-29T21:15:29.956634",
     "status": "completed"
    },
    "tags": []
   },
   "outputs": [],
   "source": [
    "# get rid of spaces\n",
    "analysis_df.replace(\" \", \"_\", regex=True, inplace=True)\n",
    "# replace all \"/\" with \"_per_\"\n",
    "analysis_df.replace(\"/\", \"_per_\", regex=True, inplace=True)"
   ]
  },
  {
   "cell_type": "code",
   "execution_count": 9,
   "id": "e924c3b9",
   "metadata": {
    "execution": {
     "iopub.execute_input": "2023-10-29T21:15:29.975641Z",
     "iopub.status.busy": "2023-10-29T21:15:29.975266Z",
     "iopub.status.idle": "2023-10-29T21:15:29.979058Z",
     "shell.execute_reply": "2023-10-29T21:15:29.978633Z"
    },
    "papermill": {
     "duration": 0.007648,
     "end_time": "2023-10-29T21:15:29.979926",
     "exception": false,
     "start_time": "2023-10-29T21:15:29.972278",
     "status": "completed"
    },
    "tags": []
   },
   "outputs": [],
   "source": [
    "# replace nans with 0 in this case this is okay because the real nans were already removed on the basis of treatment name\n",
    "analysis_df[\"inducer1_concentration\"].replace(np.nan, 0, inplace=True)\n",
    "analysis_df[\"inducer2_concentration\"].replace(np.nan, 0, inplace=True)\n",
    "analysis_df[\"inhibitor_concentration\"].replace(np.nan, 0, inplace=True)"
   ]
  },
  {
   "cell_type": "code",
   "execution_count": 10,
   "id": "6966a475",
   "metadata": {
    "execution": {
     "iopub.execute_input": "2023-10-29T21:15:29.985931Z",
     "iopub.status.busy": "2023-10-29T21:15:29.985529Z",
     "iopub.status.idle": "2023-10-29T21:15:29.991982Z",
     "shell.execute_reply": "2023-10-29T21:15:29.991552Z"
    },
    "papermill": {
     "duration": 0.010355,
     "end_time": "2023-10-29T21:15:29.992859",
     "exception": false,
     "start_time": "2023-10-29T21:15:29.982504",
     "status": "completed"
    },
    "tags": []
   },
   "outputs": [],
   "source": [
    "def perform_replacements(text: str) -> str:\n",
    "    \"\"\"\n",
    "    Function to replace special characters in text.\n",
    "    Replaces `%`, `_µM`, `_nM`, `_µg_per_ml` with empty string.\n",
    "\n",
    "    Parameters\n",
    "    ----------\n",
    "    text : str\n",
    "        Text to be modified.\n",
    "\n",
    "    Returns\n",
    "    -------\n",
    "    str\n",
    "        Modified text.\n",
    "    \"\"\"\n",
    "    replacements = {\n",
    "        \"%\": \"\",\n",
    "        \"_µM\": \"\",\n",
    "        \"_nM\": \"\",\n",
    "        \"_µg_per_ml\": \"\",\n",
    "    }\n",
    "    for key, value in replacements.items():\n",
    "        text = str(text).replace(key, value)\n",
    "    return text\n",
    "\n",
    "\n",
    "# Columns to which you want to apply the changes\n",
    "columns_to_apply = [\n",
    "    \"inducer1_concentration\",\n",
    "    \"inducer2_concentration\",\n",
    "    \"inhibitor_concentration\",\n",
    "]\n",
    "\n",
    "# Applying the custom function to selected columns using apply\n",
    "analysis_df[columns_to_apply] = analysis_df[columns_to_apply].apply(\n",
    "    lambda x: x.apply(perform_replacements)\n",
    ")"
   ]
  },
  {
   "cell_type": "code",
   "execution_count": 11,
   "id": "998d3eef",
   "metadata": {
    "execution": {
     "iopub.execute_input": "2023-10-29T21:15:29.998663Z",
     "iopub.status.busy": "2023-10-29T21:15:29.998365Z",
     "iopub.status.idle": "2023-10-29T21:15:30.003241Z",
     "shell.execute_reply": "2023-10-29T21:15:30.002761Z"
    },
    "papermill": {
     "duration": 0.008814,
     "end_time": "2023-10-29T21:15:30.004206",
     "exception": false,
     "start_time": "2023-10-29T21:15:29.995392",
     "status": "completed"
    },
    "tags": []
   },
   "outputs": [],
   "source": [
    "# using an f string make \"inducer1_concentration\" have 3 decimal places\n",
    "analysis_df[\"inducer1_concentration\"] = analysis_df[\"inducer1_concentration\"].apply(\n",
    "    lambda x: f\"{float(x):.3f}\" if float(x) != 0 else float(x)\n",
    ")\n",
    "analysis_df[\"inducer2_concentration\"] = analysis_df[\"inducer2_concentration\"].apply(\n",
    "    lambda x: f\"{float(x):.3f}\" if float(x) != 0 else float(x)\n",
    ")\n",
    "analysis_df[\"inhibitor_concentration\"] = analysis_df[\"inhibitor_concentration\"].apply(\n",
    "    lambda x: f\"{float(x):.3f}\" if float(x) != 0 else float(x)\n",
    ")"
   ]
  },
  {
   "cell_type": "code",
   "execution_count": 12,
   "id": "e8a85a9c",
   "metadata": {
    "execution": {
     "iopub.execute_input": "2023-10-29T21:15:30.010816Z",
     "iopub.status.busy": "2023-10-29T21:15:30.010457Z",
     "iopub.status.idle": "2023-10-29T21:15:30.018134Z",
     "shell.execute_reply": "2023-10-29T21:15:30.017656Z"
    },
    "papermill": {
     "duration": 0.012256,
     "end_time": "2023-10-29T21:15:30.019443",
     "exception": false,
     "start_time": "2023-10-29T21:15:30.007187",
     "status": "completed"
    },
    "tags": []
   },
   "outputs": [],
   "source": [
    "# treatment column merge\n",
    "conditions = [\n",
    "    (analysis_df[\"inducer2\"].isnull()),\n",
    "    analysis_df[\"inducer2\"].notnull(),\n",
    "]\n",
    "\n",
    "results = [\n",
    "    (analysis_df[\"inducer1\"]).astype(str),\n",
    "    (analysis_df[\"inducer1\"] + \"_\" + analysis_df[\"inducer2\"].astype(str)),\n",
    "]\n",
    "analysis_df[\"Treatment\"] = np.select(condlist=conditions, choicelist=results)\n",
    "\n",
    "\n",
    "# dose column merge\n",
    "results = [\n",
    "    (\n",
    "        analysis_df[\"inducer1_concentration\"].astype(str)\n",
    "        + \"_\"\n",
    "        + analysis_df[\"inducer1_concentration_unit\"].astype(str)\n",
    "    ),\n",
    "    (\n",
    "        analysis_df[\"inducer1_concentration\"].astype(str)\n",
    "        + \"_\"\n",
    "        + analysis_df[\"inducer1_concentration_unit\"].astype(str)\n",
    "        + \"_\"\n",
    "        + analysis_df[\"inducer2_concentration\"].astype(str)\n",
    "        + \"_\"\n",
    "        + analysis_df[\"inducer2_concentration_unit\"].astype(str)\n",
    "    ),\n",
    "]\n",
    "analysis_df[\"Dose\"] = np.select(condlist=conditions, choicelist=results)"
   ]
  },
  {
   "cell_type": "code",
   "execution_count": 13,
   "id": "e1e317ca",
   "metadata": {
    "execution": {
     "iopub.execute_input": "2023-10-29T21:15:30.026642Z",
     "iopub.status.busy": "2023-10-29T21:15:30.026324Z",
     "iopub.status.idle": "2023-10-29T21:15:30.035769Z",
     "shell.execute_reply": "2023-10-29T21:15:30.035295Z"
    },
    "papermill": {
     "duration": 0.013908,
     "end_time": "2023-10-29T21:15:30.036865",
     "exception": false,
     "start_time": "2023-10-29T21:15:30.022957",
     "status": "completed"
    },
    "tags": []
   },
   "outputs": [],
   "source": [
    "# one beta of inudcer1, inducer1 concentration, inhibitor, and inhibitor concentration all as 1 beta term\n",
    "analysis_df[\"oneb_Treatment_Dose_Inhibitor_Dose\"] = (\n",
    "    analysis_df[\"Treatment\"]\n",
    "    + \"_\"\n",
    "    + analysis_df[\"Dose\"].astype(str)\n",
    "    + \"_\"\n",
    "    + analysis_df[\"inhibitor\"].astype(str)\n",
    "    + \"_\"\n",
    "    + analysis_df[\"inhibitor_concentration\"].astype(str)\n",
    "    + \"_\"\n",
    "    + analysis_df[\"inhibitor_concentration_unit\"].astype(str)\n",
    ").astype(str)\n",
    "\n",
    "\n",
    "# two beta of inducer1, inhibitor, and inhibitor concentration all as 1 beta term + inducer1 concentration as 2nd beta term\n",
    "analysis_df[\"twob_Treatment_Dose_Inhibitor_Dose\"] = (\n",
    "    analysis_df[\"Treatment\"]\n",
    "    + \"_\"\n",
    "    + analysis_df[\"inhibitor\"].astype(str)\n",
    "    + \"_\"\n",
    "    + analysis_df[\"Dose\"].astype(str)\n",
    ").astype(str)\n",
    "\n",
    "# three beta of inducer 1 as 1 beta term, inducer1 concentration as 2nd beta term, inhibitor and inhibitor concentration as 3rd beta term\n",
    "analysis_df[\"threeb_Treatment_Dose_Inhibitor_Dose\"] = (\n",
    "    analysis_df[\"Treatment\"]\n",
    "    + \"__\"\n",
    "    + analysis_df[\"Dose\"].astype(str)\n",
    "    + \"__\"\n",
    "    + analysis_df[\"inhibitor\"].astype(str)\n",
    "    + \"_\"\n",
    "    + analysis_df[\"inhibitor_concentration\"].astype(str)\n",
    ").astype(str)\n",
    "\n",
    "# four beta of inducer 1 as 1 beta term, inducer1 concentration as 2nd beta term, inhibitor as 3rd beta term, and inhibitor concentration as 4th beta term\n",
    "analysis_df[\"fourb_Treatment_Dose_Inhibitor_Dose\"] = (\n",
    "    analysis_df[\"Treatment\"]\n",
    "    + \"__\"\n",
    "    + analysis_df[\"Dose\"].astype(str)\n",
    "    + \"__\"\n",
    "    + analysis_df[\"inhibitor\"].astype(str)\n",
    "    + \"__\"\n",
    "    + analysis_df[\"inhibitor_concentration\"].astype(str)\n",
    ").astype(str)"
   ]
  },
  {
   "cell_type": "code",
   "execution_count": 14,
   "id": "807e3ff3",
   "metadata": {
    "execution": {
     "iopub.execute_input": "2023-10-29T21:15:30.043550Z",
     "iopub.status.busy": "2023-10-29T21:15:30.043179Z",
     "iopub.status.idle": "2023-10-29T21:15:30.048585Z",
     "shell.execute_reply": "2023-10-29T21:15:30.048093Z"
    },
    "papermill": {
     "duration": 0.009618,
     "end_time": "2023-10-29T21:15:30.049567",
     "exception": false,
     "start_time": "2023-10-29T21:15:30.039949",
     "status": "completed"
    },
    "tags": []
   },
   "outputs": [
    {
     "name": "stdout",
     "output_type": "stream",
     "text": [
      "None 0\n",
      "µ u\n",
      "nan 0\n"
     ]
    }
   ],
   "source": [
    "replacement_dict = {\n",
    "    \"None\": \"0\",\n",
    "    \"µ\": \"u\",\n",
    "    \"nan\": \"0\",\n",
    "}\n",
    "for pattern, replacement in replacement_dict.items():\n",
    "    print(pattern, replacement)\n",
    "    analysis_df[\"oneb_Treatment_Dose_Inhibitor_Dose\"] = analysis_df[\n",
    "        \"oneb_Treatment_Dose_Inhibitor_Dose\"\n",
    "    ].replace(to_replace=str(pattern), value=str(replacement), regex=True)"
   ]
  },
  {
   "cell_type": "code",
   "execution_count": 15,
   "id": "91ca1499",
   "metadata": {
    "execution": {
     "iopub.execute_input": "2023-10-29T21:15:30.056002Z",
     "iopub.status.busy": "2023-10-29T21:15:30.055698Z",
     "iopub.status.idle": "2023-10-29T21:15:30.059859Z",
     "shell.execute_reply": "2023-10-29T21:15:30.059382Z"
    },
    "papermill": {
     "duration": 0.008273,
     "end_time": "2023-10-29T21:15:30.060762",
     "exception": false,
     "start_time": "2023-10-29T21:15:30.052489",
     "status": "completed"
    },
    "tags": []
   },
   "outputs": [],
   "source": [
    "# _0.03 to _0.025 for the DMSO concentration\n",
    "analysis_df[\"oneb_Treatment_Dose_Inhibitor_Dose\"] = analysis_df[\n",
    "    \"oneb_Treatment_Dose_Inhibitor_Dose\"\n",
    "].str.replace(\"_0.03\", \"_0.025\", regex=False)\n",
    "\n",
    "# _0.0250 to _0.025 for the DMSO concentration\n",
    "analysis_df[\"oneb_Treatment_Dose_Inhibitor_Dose\"] = analysis_df[\n",
    "    \"oneb_Treatment_Dose_Inhibitor_Dose\"\n",
    "].str.replace(\"_0.0250\", \"_0.025\", regex=False)"
   ]
  },
  {
   "cell_type": "code",
   "execution_count": 16,
   "id": "1666f5cd",
   "metadata": {
    "execution": {
     "iopub.execute_input": "2023-10-29T21:15:30.066790Z",
     "iopub.status.busy": "2023-10-29T21:15:30.066491Z",
     "iopub.status.idle": "2023-10-29T21:15:30.075923Z",
     "shell.execute_reply": "2023-10-29T21:15:30.075449Z"
    },
    "papermill": {
     "duration": 0.013513,
     "end_time": "2023-10-29T21:15:30.076918",
     "exception": false,
     "start_time": "2023-10-29T21:15:30.063405",
     "status": "completed"
    },
    "tags": []
   },
   "outputs": [],
   "source": [
    "# need to convert to strings to save as parquet\n",
    "# if the column is an object then convert it to a string\n",
    "for column in analysis_df.columns:\n",
    "    if analysis_df[column].dtype == \"object\":\n",
    "        analysis_df[column] = analysis_df[column].astype(str)"
   ]
  },
  {
   "cell_type": "code",
   "execution_count": 17,
   "id": "2c7c0f16",
   "metadata": {
    "execution": {
     "iopub.execute_input": "2023-10-29T21:15:30.083383Z",
     "iopub.status.busy": "2023-10-29T21:15:30.082858Z",
     "iopub.status.idle": "2023-10-29T21:15:30.195932Z",
     "shell.execute_reply": "2023-10-29T21:15:30.195429Z"
    },
    "papermill": {
     "duration": 0.117735,
     "end_time": "2023-10-29T21:15:30.197488",
     "exception": false,
     "start_time": "2023-10-29T21:15:30.079753",
     "status": "completed"
    },
    "tags": []
   },
   "outputs": [],
   "source": [
    "analysis_df.to_parquet(preprocessing_path)"
   ]
  }
 ],
 "metadata": {
  "kernelspec": {
   "display_name": "Interstellar",
   "language": "python",
   "name": "python3"
  },
  "language_info": {
   "codemirror_mode": {
    "name": "ipython",
    "version": 3
   },
   "file_extension": ".py",
   "mimetype": "text/x-python",
   "name": "python",
   "nbconvert_exporter": "python",
   "pygments_lexer": "ipython3",
   "version": "3.10.12"
  },
  "papermill": {
   "default_parameters": {},
   "duration": 5.022043,
   "end_time": "2023-10-29T21:15:30.616824",
   "environment_variables": {},
   "exception": null,
   "input_path": "2.preprocessing_nELISA_data.ipynb",
   "output_path": "2.preprocessing_nELISA_data.ipynb",
   "parameters": {
    "cell_type": "SHSY5Y"
   },
   "start_time": "2023-10-29T21:15:25.594781",
   "version": "2.4.0"
  },
  "vscode": {
   "interpreter": {
    "hash": "72ae02083a9ca7d143c492d1aec380c7bf553ec51bd66e90e72bba65228121b6"
   }
  }
 },
 "nbformat": 4,
 "nbformat_minor": 5
}