{
    "cells": [
        {
            "cell_type": "markdown",
            "id": "67de461b",
            "metadata": {},
            "source": [
                "This noteboook aggregates the data from the previous notebooks and creates the final dataset for the analysis barring the data are aggregated in the analysis."
            ]
        },
        {
            "cell_type": "code",
            "execution_count": 1,
            "id": "3ebfd6b0",
            "metadata": {
                "execution": {
                    "iopub.execute_input": "2023-09-21T20:13:29.060520Z",
                    "iopub.status.busy": "2023-09-21T20:13:29.060125Z",
                    "iopub.status.idle": "2023-09-21T20:13:29.650996Z",
                    "shell.execute_reply": "2023-09-21T20:13:29.650444Z"
                },
                "papermill": {
                    "duration": 0.595713,
                    "end_time": "2023-09-21T20:13:29.652772",
                    "exception": false,
                    "start_time": "2023-09-21T20:13:29.057059",
                    "status": "completed"
                },
                "tags": []
            },
            "outputs": [],
            "source": [
                "import pathlib\n",
                "\n",
                "import numpy as np\n",
                "import pandas as pd"
            ]
        },
        {
            "cell_type": "code",
            "execution_count": 2,
            "id": "9227a64e",
            "metadata": {
                "execution": {
                    "iopub.execute_input": "2023-09-21T20:13:29.657313Z",
                    "iopub.status.busy": "2023-09-21T20:13:29.657025Z",
                    "iopub.status.idle": "2023-09-21T20:13:29.659797Z",
                    "shell.execute_reply": "2023-09-21T20:13:29.659287Z"
                },
                "papermill": {
                    "duration": 0.005813,
                    "end_time": "2023-09-21T20:13:29.660772",
                    "exception": false,
                    "start_time": "2023-09-21T20:13:29.654959",
                    "status": "completed"
                },
                "tags": [
                    "injected-parameters"
                ]
            },
            "outputs": [],
            "source": [
                "# Parameters\n",
                "cell_type = \"SHSY5Y\"\n",
                "aggregation = True\n",
                "nomic = True"
            ]
        },
        {
            "cell_type": "code",
            "execution_count": 3,
            "id": "41eb9cfd",
            "metadata": {},
            "outputs": [],
            "source": [
                "if aggregation and nomic:\n",
                "    aggregated_data_path = pathlib.Path(\n",
                "        f\"../data/{cell_type}_preprocessed_sc_norm_aggregated_nomic.parquet\"\n",
                "    )\n",
                "elif not aggregation and nomic:\n",
                "    aggregated_data_path = pathlib.Path(\n",
                "        f\"../data/{cell_type}_preprocessed_sc_norm_nomic.parquet\"\n",
                "    )\n",
                "elif aggregation and not nomic:\n",
                "    aggregated_data_path = pathlib.Path(\n",
                "        f\"../data/{cell_type}_preprocessed_sc_norm_aggregated.parquet\"\n",
                "    )\n",
                "elif not aggregation and not nomic:\n",
                "    pass\n",
                "else:\n",
                "    raise ValueError(\"Wrong parameters\")"
            ]
        },
        {
            "cell_type": "code",
            "execution_count": 5,
            "id": "ba5278c5",
            "metadata": {
                "execution": {
                    "iopub.execute_input": "2023-09-21T20:13:29.664431Z",
                    "iopub.status.busy": "2023-09-21T20:13:29.663940Z",
                    "iopub.status.idle": "2023-09-21T20:14:18.232360Z",
                    "shell.execute_reply": "2023-09-21T20:14:18.231823Z"
                },
                "papermill": {
                    "duration": 48.571663,
                    "end_time": "2023-09-21T20:14:18.233768",
                    "exception": false,
                    "start_time": "2023-09-21T20:13:29.662105",
                    "status": "completed"
                },
                "tags": []
            },
            "outputs": [],
            "source": [
                "path = pathlib.Path(f\"../data/{cell_type}_preprocessed_sc_norm.parquet\")\n",
                "\n",
                "data_df = pd.read_parquet(path)\n",
                "\n",
                "data_df.head()\n",
                "\n",
                "if nomic:\n",
                "    # import nomic data\n",
                "    nomic_df_path = pathlib.Path(\n",
                "        f\"../2.Nomic_nELISA_Analysis/Data/clean/Plate2/nELISA_plate_430420_{cell_type}_clean.parquet\"\n",
                "    )\n",
                "    df_nomic = pd.read_parquet(nomic_df_path)\n",
                "\n",
                "    # drop columns that contain [pgML]\n",
                "    df_nomic = df_nomic.drop(\n",
                "        columns=[col for col in df_nomic.columns if \"[pgML]\" in col]\n",
                "    )\n",
                "    # drop first 25 columns\n",
                "    df_nomic = df_nomic.drop(columns=df_nomic.columns[3:25])\n",
                "    df_nomic = df_nomic.drop(columns=df_nomic.columns[0:2])\n",
                "else:\n",
                "    raise ValueError(\"Nomic data not imported\")"
            ]
        },
        {
            "cell_type": "code",
            "execution_count": null,
            "id": "073ab83f",
            "metadata": {
                "execution": {
                    "iopub.execute_input": "2023-09-21T20:14:18.240442Z",
                    "iopub.status.busy": "2023-09-21T20:14:18.240165Z",
                    "iopub.status.idle": "2023-09-21T20:14:31.461436Z",
                    "shell.execute_reply": "2023-09-21T20:14:31.460854Z"
                },
                "papermill": {
                    "duration": 13.225259,
                    "end_time": "2023-09-21T20:14:31.463212",
                    "exception": false,
                    "start_time": "2023-09-21T20:14:18.237953",
                    "status": "completed"
                },
                "tags": []
            },
            "outputs": [],
            "source": [
                "# subset each column that contains metadata\n",
                "metadata = data_df.filter(regex=\"Metadata\")\n",
                "\n",
                "# get all columns that are not metadata except for metadata_Well\n",
                "data = data_df.drop(metadata.columns, axis=1)\n",
                "\n",
                "# get the metadata_Well column\n",
                "metadata_well = metadata[\n",
                "    [\"Metadata_Well\", \"oneb_Metadata_Treatment_Dose_Inhibitor_Dose\"]\n",
                "]\n",
                "\n",
                "data_df = pd.merge(data, metadata_well, left_index=True, right_index=True)"
            ]
        },
        {
            "cell_type": "code",
            "execution_count": null,
            "id": "d3712b16",
            "metadata": {},
            "outputs": [],
            "source": [
                "if nomic:\n",
                "    df_nomic.drop(\n",
                "        columns=[\n",
                "            \"Treatment\",\n",
                "            \"Dose\",\n",
                "            \"twob_Treatment_Dose_Inhibitor_Dose\",\n",
                "            \"threeb_Treatment_Dose_Inhibitor_Dose\",\n",
                "            \"fourb_Treatment_Dose_Inhibitor_Dose\",\n",
                "        ],\n",
                "        inplace=True,\n",
                "    )"
            ]
        },
        {
            "cell_type": "code",
            "execution_count": null,
            "id": "510c7356",
            "metadata": {
                "execution": {
                    "iopub.execute_input": "2023-09-21T20:14:31.471749Z",
                    "iopub.status.busy": "2023-09-21T20:14:31.471378Z",
                    "iopub.status.idle": "2023-09-21T20:15:12.509931Z",
                    "shell.execute_reply": "2023-09-21T20:15:12.509408Z"
                },
                "papermill": {
                    "duration": 41.042786,
                    "end_time": "2023-09-21T20:15:12.511625",
                    "exception": false,
                    "start_time": "2023-09-21T20:14:31.468839",
                    "status": "completed"
                },
                "tags": []
            },
            "outputs": [],
            "source": [
                "if aggregation and nomic:\n",
                "\n",
                "    # subset each column that contains metadata\n",
                "    metadata = data_df.filter(regex=\"Metadata\")\n",
                "    data_df = data_df.drop(metadata.columns, axis=1)\n",
                "    data_df = pd.concat([data_df, metadata[\"Metadata_Well\"]], axis=1)\n",
                "    # groupby well and take mean of each well\n",
                "    data_df = data_df.groupby(\"Metadata_Well\").mean()\n",
                "    # drop duplicate rows in the metadata_well column\n",
                "    metadata = metadata.drop_duplicates(subset=[\"Metadata_Well\"])\n",
                "    # get the metadata for each well\n",
                "    data_df = pd.merge(\n",
                "        data_df, metadata, left_on=\"Metadata_Well\", right_on=\"Metadata_Well\"\n",
                "    )\n",
                "    data_df = pd.merge(\n",
                "        data_df,\n",
                "        df_nomic,\n",
                "        left_on=[\"Metadata_Well\", \"oneb_Metadata_Treatment_Dose_Inhibitor_Dose\"],\n",
                "        right_on=[\"position_x\", \"oneb_Treatment_Dose_Inhibitor_Dose\"],\n",
                "    )\n",
                "    data_df = data_df.drop(columns=[\"position_x\"])\n",
                "    # drop all metadata columns\n",
                "    labeled_data = data_df[\"oneb_Metadata_Treatment_Dose_Inhibitor_Dose\"]\n",
                "    data_x = data_df.drop(metadata.columns, axis=1)\n",
                "    # set path to save the data\n",
                "    aggregated_data_path = pathlib.Path(\n",
                "        f\"../data/{cell_type}_preprocessed_sc_norm_aggregated_nomic.parquet\"\n",
                "    )\n",
                "\n",
                "\n",
                "elif aggregation and not nomic:\n",
                "    # subset each column that contains metadata\n",
                "    metadata = data.filter(regex=\"Metadata\")\n",
                "    data_df = data_df.drop(metadata.columns, axis=1)\n",
                "    data_df = pd.concat([data_df, metadata[\"Metadata_Well\"]], axis=1)\n",
                "    # groupby well and take mean of each well\n",
                "    data_df = data_df.groupby(\"Metadata_Well\").mean()\n",
                "    # drop duplicate rows in the metadata_well column\n",
                "    metadata = metadata.drop_duplicates(subset=[\"Metadata_Well\"])\n",
                "    # get the metadata for each well\n",
                "    data_df = pd.merge(\n",
                "        data_df,\n",
                "        df_nomic,\n",
                "        left_on=[\"Metadata_Well\", \"oneb_Metadata_Treatment_Dose_Inhibitor_Dose\"],\n",
                "        right_on=[\"position_x\", \"oneb_Treatment_Dose_Inhibitor_Dose\"],\n",
                "    )\n",
                "    # set path to save the data\n",
                "    aggregated_data_path = pathlib.Path(\n",
                "        f\"../data/{cell_type}_preprocessed_sc_norm_aggregated.parquet\"\n",
                "    )\n",
                "elif not aggregation and nomic:\n",
                "    data_df = pd.merge(\n",
                "        data_df,\n",
                "        df_nomic,\n",
                "        left_on=[\"Metadata_Well\", \"oneb_Metadata_Treatment_Dose_Inhibitor_Dose\"],\n",
                "        right_on=[\"position_x\", \"oneb_Treatment_Dose_Inhibitor_Dose\"],\n",
                "    )\n",
                "    data_df = data_df.drop(columns=[\"position_x\"])\n",
                "    # set path to save the data\n",
                "    aggregated_data_path = pathlib.Path(\n",
                "        f\"../data/{cell_type}_preprocessed_sc_norm_with_nomic.parquet\"\n",
                "    )\n",
                "elif aggregation == False and nomic == False:\n",
                "    pass\n",
                "else:\n",
                "    raise ValueError(\"Wrong parameters nomica and/or aggregation not defined\")"
            ]
        },
        {
            "cell_type": "code",
            "execution_count": null,
            "id": "8977efc6",
            "metadata": {
                "execution": {
                    "iopub.execute_input": "2023-09-21T20:15:12.799361Z",
                    "iopub.status.busy": "2023-09-21T20:15:12.798869Z",
                    "iopub.status.idle": "2023-09-21T20:15:14.993926Z",
                    "shell.execute_reply": "2023-09-21T20:15:14.993375Z"
                },
                "papermill": {
                    "duration": 2.19905,
                    "end_time": "2023-09-21T20:15:14.995395",
                    "exception": false,
                    "start_time": "2023-09-21T20:15:12.796345",
                    "status": "completed"
                },
                "tags": []
            },
            "outputs": [],
            "source": [
                "# save the data\n",
                "data_df.to_parquet(aggregated_data_path)"
            ]
        }
    ],
    "metadata": {
        "kernelspec": {
            "display_name": "Interstellar",
            "language": "python",
            "name": "python3"
        },
        "language_info": {
            "codemirror_mode": {
                "name": "ipython",
                "version": 3
            },
            "file_extension": ".py",
            "mimetype": "text/x-python",
            "name": "python",
            "nbconvert_exporter": "python",
            "pygments_lexer": "ipython3",
            "version": "3.10.12"
        },
        "papermill": {
            "default_parameters": {},
            "duration": 108.811803,
            "end_time": "2023-09-21T20:15:15.695607",
            "environment_variables": {},
            "exception": null,
            "input_path": "2.data_aggregation.ipynb",
            "output_path": "2.data_aggregation.ipynb",
            "parameters": {
                "aggregation": true,
                "cell_type": "PBMC",
                "nomic": true
            },
            "start_time": "2023-09-21T20:13:26.883804",
            "version": "2.4.0"
        }
    },
    "nbformat": 4,
    "nbformat_minor": 5
}
