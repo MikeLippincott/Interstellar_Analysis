{
 "cells": [
  {
   "cell_type": "markdown",
   "id": "01eb21de",
   "metadata": {
    "tags": [
     "papermill-error-cell-tag"
    ]
   },
   "source": [
    "<span style=\"color:red; font-family:Helvetica Neue, Helvetica, Arial, sans-serif; font-size:2em;\">An Exception was encountered at '<a href=\"#papermill-error-cell\">In [8]</a>'.</span>"
   ]
  },
  {
   "cell_type": "markdown",
   "id": "67de461b",
   "metadata": {
    "papermill": {
     "duration": 0.005625,
     "end_time": "2023-10-29T21:16:59.738945",
     "exception": false,
     "start_time": "2023-10-29T21:16:59.733320",
     "status": "completed"
    },
    "tags": []
   },
   "source": [
    "This noteboook aggregates the data from the previous notebooks and creates the final dataset for the analysis barring the data are aggregated in the analysis."
   ]
  },
  {
   "cell_type": "code",
   "execution_count": 1,
   "id": "3ebfd6b0",
   "metadata": {
    "execution": {
     "iopub.execute_input": "2023-10-29T21:16:59.746042Z",
     "iopub.status.busy": "2023-10-29T21:16:59.745605Z",
     "iopub.status.idle": "2023-10-29T21:17:00.443455Z",
     "shell.execute_reply": "2023-10-29T21:17:00.442829Z"
    },
    "papermill": {
     "duration": 0.70338,
     "end_time": "2023-10-29T21:17:00.445590",
     "exception": false,
     "start_time": "2023-10-29T21:16:59.742210",
     "status": "completed"
    },
    "tags": []
   },
   "outputs": [],
   "source": [
    "import pathlib\n",
    "\n",
    "import numpy as np\n",
    "import pandas as pd"
   ]
  },
  {
   "cell_type": "code",
   "execution_count": 2,
   "id": "6a65a92d",
   "metadata": {
    "execution": {
     "iopub.execute_input": "2023-10-29T21:17:00.453472Z",
     "iopub.status.busy": "2023-10-29T21:17:00.452829Z",
     "iopub.status.idle": "2023-10-29T21:17:00.455904Z",
     "shell.execute_reply": "2023-10-29T21:17:00.455478Z"
    },
    "papermill": {
     "duration": 0.00834,
     "end_time": "2023-10-29T21:17:00.457367",
     "exception": false,
     "start_time": "2023-10-29T21:17:00.449027",
     "status": "completed"
    },
    "tags": [
     "injected-parameters"
    ]
   },
   "outputs": [],
   "source": [
    "# Parameters\n",
    "cell_type = \"SHSY5Y\"\n",
    "aggregation = False\n",
    "nomic = False"
   ]
  },
  {
   "cell_type": "code",
   "execution_count": 3,
   "id": "41eb9cfd",
   "metadata": {
    "execution": {
     "iopub.execute_input": "2023-10-29T21:17:00.463121Z",
     "iopub.status.busy": "2023-10-29T21:17:00.462779Z",
     "iopub.status.idle": "2023-10-29T21:17:00.466777Z",
     "shell.execute_reply": "2023-10-29T21:17:00.466231Z"
    },
    "papermill": {
     "duration": 0.008662,
     "end_time": "2023-10-29T21:17:00.468727",
     "exception": false,
     "start_time": "2023-10-29T21:17:00.460065",
     "status": "completed"
    },
    "tags": []
   },
   "outputs": [],
   "source": [
    "if aggregation and nomic:\n",
    "    aggregated_data_path = pathlib.Path(\n",
    "        f\"../data/{cell_type}_preprocessed_sc_norm_aggregated_nomic.parquet\"\n",
    "    )\n",
    "elif not aggregation and nomic:\n",
    "    aggregated_data_path = pathlib.Path(\n",
    "        f\"../data/{cell_type}_preprocessed_sc_norm_nomic.parquet\"\n",
    "    )\n",
    "elif aggregation and not nomic:\n",
    "    aggregated_data_path = pathlib.Path(\n",
    "        f\"../data/{cell_type}_preprocessed_sc_norm_aggregated.parquet\"\n",
    "    )\n",
    "elif not aggregation and not nomic:\n",
    "    pass\n",
    "else:\n",
    "    raise ValueError(\"Wrong parameters\")"
   ]
  },
  {
   "cell_type": "code",
   "execution_count": 4,
   "id": "ba5278c5",
   "metadata": {
    "execution": {
     "iopub.execute_input": "2023-10-29T21:17:00.475293Z",
     "iopub.status.busy": "2023-10-29T21:17:00.474751Z",
     "iopub.status.idle": "2023-10-29T21:17:08.241442Z",
     "shell.execute_reply": "2023-10-29T21:17:08.240790Z"
    },
    "papermill": {
     "duration": 7.771718,
     "end_time": "2023-10-29T21:17:08.243372",
     "exception": false,
     "start_time": "2023-10-29T21:17:00.471654",
     "status": "completed"
    },
    "tags": []
   },
   "outputs": [],
   "source": [
    "path = pathlib.Path(f\"../data/{cell_type}_preprocessed_sc_norm.parquet\")\n",
    "\n",
    "data_df = pd.read_parquet(path)\n",
    "\n",
    "data_df.head()\n",
    "\n",
    "if nomic:\n",
    "    # import nomic data\n",
    "    nomic_df_path = pathlib.Path(\n",
    "        f\"../2.Nomic_nELISA_Analysis/Data/clean/Plate2/nELISA_plate_430420_{cell_type}_clean.parquet\"\n",
    "    )\n",
    "    df_nomic = pd.read_parquet(nomic_df_path)\n",
    "\n",
    "    # drop columns that contain [pgML]\n",
    "    df_nomic = df_nomic.drop(\n",
    "        columns=[col for col in df_nomic.columns if \"[pgML]\" in col]\n",
    "    )\n",
    "    # drop first 25 columns (metadata that does not contain metadata in the title)\n",
    "    df_nomic = df_nomic.drop(columns=df_nomic.columns[3:25])\n",
    "    df_nomic = df_nomic.drop(columns=df_nomic.columns[0:2])\n",
    "elif not nomic:\n",
    "    pass\n",
    "else:\n",
    "    raise ValueError(\"Nomic data not imported\")"
   ]
  },
  {
   "cell_type": "code",
   "execution_count": 5,
   "id": "073ab83f",
   "metadata": {
    "execution": {
     "iopub.execute_input": "2023-10-29T21:17:08.252996Z",
     "iopub.status.busy": "2023-10-29T21:17:08.252526Z",
     "iopub.status.idle": "2023-10-29T21:17:09.588102Z",
     "shell.execute_reply": "2023-10-29T21:17:09.587427Z"
    },
    "papermill": {
     "duration": 1.340437,
     "end_time": "2023-10-29T21:17:09.589992",
     "exception": false,
     "start_time": "2023-10-29T21:17:08.249555",
     "status": "completed"
    },
    "tags": []
   },
   "outputs": [],
   "source": [
    "# subset each column that contains metadata\n",
    "metadata = data_df.filter(regex=\"Metadata\")\n",
    "\n",
    "# get all columns that are not metadata except for metadata_Well\n",
    "data = data_df.drop(metadata.columns, axis=1)\n",
    "\n",
    "# get the metadata_Well column\n",
    "metadata_well = metadata[\n",
    "    [\"Metadata_Well\", \"oneb_Metadata_Treatment_Dose_Inhibitor_Dose\"]\n",
    "]\n",
    "\n",
    "data_df = pd.merge(data, metadata_well, left_index=True, right_index=True)"
   ]
  },
  {
   "cell_type": "code",
   "execution_count": 6,
   "id": "d3712b16",
   "metadata": {
    "execution": {
     "iopub.execute_input": "2023-10-29T21:17:09.596600Z",
     "iopub.status.busy": "2023-10-29T21:17:09.596286Z",
     "iopub.status.idle": "2023-10-29T21:17:09.599990Z",
     "shell.execute_reply": "2023-10-29T21:17:09.599451Z"
    },
    "papermill": {
     "duration": 0.008469,
     "end_time": "2023-10-29T21:17:09.601469",
     "exception": false,
     "start_time": "2023-10-29T21:17:09.593000",
     "status": "completed"
    },
    "tags": []
   },
   "outputs": [],
   "source": [
    "if nomic:\n",
    "    df_nomic.drop(\n",
    "        columns=[\n",
    "            \"Treatment\",\n",
    "            \"Dose\",\n",
    "            \"twob_Treatment_Dose_Inhibitor_Dose\",\n",
    "            \"threeb_Treatment_Dose_Inhibitor_Dose\",\n",
    "            \"fourb_Treatment_Dose_Inhibitor_Dose\",\n",
    "        ],\n",
    "        inplace=True,\n",
    "    )"
   ]
  },
  {
   "cell_type": "code",
   "execution_count": 7,
   "id": "510c7356",
   "metadata": {
    "execution": {
     "iopub.execute_input": "2023-10-29T21:17:09.607501Z",
     "iopub.status.busy": "2023-10-29T21:17:09.607276Z",
     "iopub.status.idle": "2023-10-29T21:17:09.614315Z",
     "shell.execute_reply": "2023-10-29T21:17:09.613831Z"
    },
    "papermill": {
     "duration": 0.011377,
     "end_time": "2023-10-29T21:17:09.615453",
     "exception": false,
     "start_time": "2023-10-29T21:17:09.604076",
     "status": "completed"
    },
    "tags": []
   },
   "outputs": [],
   "source": [
    "if aggregation and nomic:\n",
    "\n",
    "    # subset each column that contains metadata\n",
    "    metadata = data_df.filter(regex=\"Metadata\")\n",
    "    data_df = data_df.drop(metadata.columns, axis=1)\n",
    "    data_df = pd.concat([data_df, metadata[\"Metadata_Well\"]], axis=1)\n",
    "    # groupby well and take mean of each well\n",
    "    data_df = data_df.groupby(\"Metadata_Well\").mean()\n",
    "    # drop duplicate rows in the metadata_well column\n",
    "    metadata = metadata.drop_duplicates(subset=[\"Metadata_Well\"])\n",
    "    # get the metadata for each well\n",
    "    data_df = pd.merge(\n",
    "        data_df, metadata, left_on=\"Metadata_Well\", right_on=\"Metadata_Well\"\n",
    "    )\n",
    "    data_df = pd.merge(\n",
    "        data_df,\n",
    "        df_nomic,\n",
    "        left_on=[\"Metadata_Well\", \"oneb_Metadata_Treatment_Dose_Inhibitor_Dose\"],\n",
    "        right_on=[\"position_x\", \"oneb_Treatment_Dose_Inhibitor_Dose\"],\n",
    "    )\n",
    "    data_df = data_df.drop(columns=[\"position_x\"])\n",
    "    # drop all metadata columns\n",
    "    labeled_data = data_df[\"oneb_Metadata_Treatment_Dose_Inhibitor_Dose\"]\n",
    "    data_x = data_df.drop(metadata.columns, axis=1)\n",
    "    # set path to save the data\n",
    "    aggregated_data_path = pathlib.Path(\n",
    "        f\"../data/{cell_type}_preprocessed_sc_norm_aggregated_nomic.parquet\"\n",
    "    )\n",
    "\n",
    "\n",
    "elif aggregation and not nomic:\n",
    "    # get metadata columns\n",
    "    metadata = data_df.filter(regex=\"Metadata\")\n",
    "    data_df = data_df.drop(metadata.columns, axis=1)\n",
    "    metadata\n",
    "    data_df = pd.concat([data_df, metadata], axis=1)\n",
    "    # groupby well and take mean of each well\n",
    "    data_df = data_df.groupby(\n",
    "        [\"Metadata_Well\", \"oneb_Metadata_Treatment_Dose_Inhibitor_Dose\"]\n",
    "    ).mean()\n",
    "    # # drop duplicate rows in the metadata_well column\n",
    "    metadata = metadata.drop_duplicates(subset=[\"Metadata_Well\"])\n",
    "    # # get the metadata for each well\n",
    "    # # set path to save the data\n",
    "    aggregated_data_path = pathlib.Path(\n",
    "        f\"../data/{cell_type}_preprocessed_sc_norm_aggregated.parquet\"\n",
    "    )\n",
    "    # reset the index\n",
    "    data_df = data_df.reset_index()\n",
    "\n",
    "elif not aggregation and nomic:\n",
    "    data_df = pd.merge(\n",
    "        data_df,\n",
    "        df_nomic,\n",
    "        left_on=[\"Metadata_Well\", \"oneb_Metadata_Treatment_Dose_Inhibitor_Dose\"],\n",
    "        right_on=[\"position_x\", \"oneb_Treatment_Dose_Inhibitor_Dose\"],\n",
    "    )\n",
    "    data_df = data_df.drop(columns=[\"position_x\"])\n",
    "    # set path to save the data\n",
    "    aggregated_data_path = pathlib.Path(\n",
    "        f\"../data/{cell_type}_preprocessed_sc_norm_with_nomic.parquet\"\n",
    "    )\n",
    "elif aggregation == False and nomic == False:\n",
    "    pass\n",
    "else:\n",
    "    raise ValueError(\"Wrong parameters nomica and/or aggregation not defined\")"
   ]
  },
  {
   "cell_type": "markdown",
   "id": "ee21948c",
   "metadata": {
    "tags": [
     "papermill-error-cell-tag"
    ]
   },
   "source": [
    "<span id=\"papermill-error-cell\" style=\"color:red; font-family:Helvetica Neue, Helvetica, Arial, sans-serif; font-size:2em;\">Execution using papermill encountered an exception here and stopped:</span>"
   ]
  },
  {
   "cell_type": "code",
   "execution_count": 8,
   "id": "8977efc6",
   "metadata": {
    "execution": {
     "iopub.execute_input": "2023-10-29T21:17:09.620350Z",
     "iopub.status.busy": "2023-10-29T21:17:09.620031Z",
     "iopub.status.idle": "2023-10-29T21:17:09.816549Z",
     "shell.execute_reply": "2023-10-29T21:17:09.815923Z"
    },
    "papermill": {
     "duration": 0.200138,
     "end_time": "2023-10-29T21:17:09.817774",
     "exception": true,
     "start_time": "2023-10-29T21:17:09.617636",
     "status": "failed"
    },
    "tags": []
   },
   "outputs": [
    {
     "ename": "NameError",
     "evalue": "name 'aggregated_data_path' is not defined",
     "output_type": "error",
     "traceback": [
      "\u001b[0;31m---------------------------------------------------------------------------\u001b[0m",
      "\u001b[0;31mNameError\u001b[0m                                 Traceback (most recent call last)",
      "Cell \u001b[0;32mIn[8], line 2\u001b[0m\n\u001b[1;32m      1\u001b[0m \u001b[38;5;66;03m# save the data\u001b[39;00m\n\u001b[0;32m----> 2\u001b[0m data_df\u001b[38;5;241m.\u001b[39mto_parquet(\u001b[43maggregated_data_path\u001b[49m)\n",
      "\u001b[0;31mNameError\u001b[0m: name 'aggregated_data_path' is not defined"
     ]
    }
   ],
   "source": [
    "# save the data\n",
    "data_df.to_parquet(aggregated_data_path)"
   ]
  }
 ],
 "metadata": {
  "kernelspec": {
   "display_name": "Interstellar",
   "language": "python",
   "name": "python3"
  },
  "language_info": {
   "codemirror_mode": {
    "name": "ipython",
    "version": 3
   },
   "file_extension": ".py",
   "mimetype": "text/x-python",
   "name": "python",
   "nbconvert_exporter": "python",
   "pygments_lexer": "ipython3",
   "version": "3.10.12"
  },
  "papermill": {
   "default_parameters": {},
   "duration": 12.576993,
   "end_time": "2023-10-29T21:17:10.136315",
   "environment_variables": {},
   "exception": true,
   "input_path": "3.data_aggregation.ipynb",
   "output_path": "3.data_aggregation.ipynb",
   "parameters": {
    "aggregation": false,
    "cell_type": "SHSY5Y",
    "nomic": false
   },
   "start_time": "2023-10-29T21:16:57.559322",
   "version": "2.4.0"
  }
 },
 "nbformat": 4,
 "nbformat_minor": 5
}