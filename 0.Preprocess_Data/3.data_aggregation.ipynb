{
 "cells": [
  {
   "cell_type": "markdown",
   "id": "67de461b",
   "metadata": {
    "papermill": {
     "duration": 0.002044,
     "end_time": "2023-10-29T21:54:44.897470",
     "exception": false,
     "start_time": "2023-10-29T21:54:44.895426",
     "status": "completed"
    },
    "tags": []
   },
   "source": [
    "This noteboook aggregates the data from the previous notebooks and creates the final dataset for the analysis barring the data are aggregated in the analysis."
   ]
  },
  {
   "cell_type": "code",
   "execution_count": 1,
   "id": "3ebfd6b0",
   "metadata": {
    "execution": {
     "iopub.execute_input": "2023-10-29T21:54:44.901791Z",
     "iopub.status.busy": "2023-10-29T21:54:44.901502Z",
     "iopub.status.idle": "2023-10-29T21:54:45.321300Z",
     "shell.execute_reply": "2023-10-29T21:54:45.320823Z"
    },
    "papermill": {
     "duration": 0.423613,
     "end_time": "2023-10-29T21:54:45.322859",
     "exception": false,
     "start_time": "2023-10-29T21:54:44.899246",
     "status": "completed"
    },
    "tags": []
   },
   "outputs": [],
   "source": [
    "import pathlib\n",
    "\n",
    "import numpy as np\n",
    "import pandas as pd"
   ]
  },
  {
   "cell_type": "code",
   "execution_count": 2,
   "id": "e74c7c1f",
   "metadata": {
    "execution": {
     "iopub.execute_input": "2023-10-29T21:54:45.327998Z",
     "iopub.status.busy": "2023-10-29T21:54:45.327332Z",
     "iopub.status.idle": "2023-10-29T21:54:45.330190Z",
     "shell.execute_reply": "2023-10-29T21:54:45.329763Z"
    },
    "papermill": {
     "duration": 0.006254,
     "end_time": "2023-10-29T21:54:45.331128",
     "exception": false,
     "start_time": "2023-10-29T21:54:45.324874",
     "status": "completed"
    },
    "tags": [
     "injected-parameters"
    ]
   },
   "outputs": [],
   "source": [
    "# Parameters\n",
    "cell_type = \"SHSY5Y\"\n",
    "aggregation = False\n",
    "nomic = True"
   ]
  },
  {
   "cell_type": "code",
   "execution_count": 3,
   "id": "41eb9cfd",
   "metadata": {
    "execution": {
     "iopub.execute_input": "2023-10-29T21:54:45.335412Z",
     "iopub.status.busy": "2023-10-29T21:54:45.335001Z",
     "iopub.status.idle": "2023-10-29T21:54:45.338586Z",
     "shell.execute_reply": "2023-10-29T21:54:45.338072Z"
    },
    "papermill": {
     "duration": 0.006802,
     "end_time": "2023-10-29T21:54:45.339532",
     "exception": false,
     "start_time": "2023-10-29T21:54:45.332730",
     "status": "completed"
    },
    "tags": []
   },
   "outputs": [],
   "source": [
    "if aggregation and nomic:\n",
    "    aggregated_data_path = pathlib.Path(\n",
    "        f\"../data/{cell_type}_preprocessed_sc_norm_aggregated_nomic.parquet\"\n",
    "    )\n",
    "elif not aggregation and nomic:\n",
    "    aggregated_data_path = pathlib.Path(\n",
    "        f\"../data/{cell_type}_preprocessed_sc_norm_nomic.parquet\"\n",
    "    )\n",
    "elif aggregation and not nomic:\n",
    "    aggregated_data_path = pathlib.Path(\n",
    "        f\"../data/{cell_type}_preprocessed_sc_norm_aggregated.parquet\"\n",
    "    )\n",
    "elif not aggregation and not nomic:\n",
    "    pass\n",
    "else:\n",
    "    raise ValueError(\"Wrong parameters\")"
   ]
  },
  {
   "cell_type": "code",
   "execution_count": 4,
   "id": "ba5278c5",
   "metadata": {
    "execution": {
     "iopub.execute_input": "2023-10-29T21:54:45.343721Z",
     "iopub.status.busy": "2023-10-29T21:54:45.343338Z",
     "iopub.status.idle": "2023-10-29T21:54:51.572904Z",
     "shell.execute_reply": "2023-10-29T21:54:51.572335Z"
    },
    "papermill": {
     "duration": 6.233275,
     "end_time": "2023-10-29T21:54:51.574409",
     "exception": false,
     "start_time": "2023-10-29T21:54:45.341134",
     "status": "completed"
    },
    "tags": []
   },
   "outputs": [],
   "source": [
    "path = pathlib.Path(f\"../data/{cell_type}_preprocessed_sc_norm.parquet\")\n",
    "\n",
    "data_df = pd.read_parquet(path)\n",
    "\n",
    "data_df.head()\n",
    "\n",
    "if nomic:\n",
    "    # import nomic data\n",
    "    nomic_df_path = pathlib.Path(\n",
    "        f\"../2.Nomic_nELISA_Analysis/Data/clean/Plate2/nELISA_plate_430420_{cell_type}_clean.parquet\"\n",
    "    )\n",
    "    df_nomic = pd.read_parquet(nomic_df_path)\n",
    "\n",
    "    # drop columns that contain [pgML]\n",
    "    df_nomic = df_nomic.drop(\n",
    "        columns=[col for col in df_nomic.columns if \"[pgML]\" in col]\n",
    "    )\n",
    "    # drop first 25 columns (metadata that does not contain metadata in the title)\n",
    "    df_nomic = df_nomic.drop(columns=df_nomic.columns[3:25])\n",
    "    df_nomic = df_nomic.drop(columns=df_nomic.columns[0:2])\n",
    "elif not nomic:\n",
    "    pass\n",
    "else:\n",
    "    raise ValueError(\"Nomic data not imported\")"
   ]
  },
  {
   "cell_type": "code",
   "execution_count": 5,
   "id": "073ab83f",
   "metadata": {
    "execution": {
     "iopub.execute_input": "2023-10-29T21:54:51.581836Z",
     "iopub.status.busy": "2023-10-29T21:54:51.581584Z",
     "iopub.status.idle": "2023-10-29T21:54:53.002244Z",
     "shell.execute_reply": "2023-10-29T21:54:53.001727Z"
    },
    "papermill": {
     "duration": 1.424241,
     "end_time": "2023-10-29T21:54:53.003545",
     "exception": false,
     "start_time": "2023-10-29T21:54:51.579304",
     "status": "completed"
    },
    "tags": []
   },
   "outputs": [],
   "source": [
    "# subset each column that contains metadata\n",
    "metadata = data_df.filter(regex=\"Metadata\")\n",
    "\n",
    "# get all columns that are not metadata except for metadata_Well\n",
    "data = data_df.drop(metadata.columns, axis=1)\n",
    "\n",
    "# get the metadata_Well column\n",
    "metadata_well = metadata[\n",
    "    [\"Metadata_Well\", \"oneb_Metadata_Treatment_Dose_Inhibitor_Dose\"]\n",
    "]\n",
    "\n",
    "data_df = pd.merge(data, metadata_well, left_index=True, right_index=True)"
   ]
  },
  {
   "cell_type": "code",
   "execution_count": 6,
   "id": "d3712b16",
   "metadata": {
    "execution": {
     "iopub.execute_input": "2023-10-29T21:54:53.011003Z",
     "iopub.status.busy": "2023-10-29T21:54:53.010370Z",
     "iopub.status.idle": "2023-10-29T21:54:53.014319Z",
     "shell.execute_reply": "2023-10-29T21:54:53.013832Z"
    },
    "papermill": {
     "duration": 0.007251,
     "end_time": "2023-10-29T21:54:53.015312",
     "exception": false,
     "start_time": "2023-10-29T21:54:53.008061",
     "status": "completed"
    },
    "tags": []
   },
   "outputs": [],
   "source": [
    "if nomic:\n",
    "    df_nomic.drop(\n",
    "        columns=[\n",
    "            \"Treatment\",\n",
    "            \"Dose\",\n",
    "            \"twob_Treatment_Dose_Inhibitor_Dose\",\n",
    "            \"threeb_Treatment_Dose_Inhibitor_Dose\",\n",
    "            \"fourb_Treatment_Dose_Inhibitor_Dose\",\n",
    "        ],\n",
    "        inplace=True,\n",
    "    )"
   ]
  },
  {
   "cell_type": "code",
   "execution_count": 7,
   "id": "510c7356",
   "metadata": {
    "execution": {
     "iopub.execute_input": "2023-10-29T21:54:53.019750Z",
     "iopub.status.busy": "2023-10-29T21:54:53.019305Z",
     "iopub.status.idle": "2023-10-29T21:54:56.083208Z",
     "shell.execute_reply": "2023-10-29T21:54:56.082599Z"
    },
    "papermill": {
     "duration": 3.067633,
     "end_time": "2023-10-29T21:54:56.084563",
     "exception": false,
     "start_time": "2023-10-29T21:54:53.016930",
     "status": "completed"
    },
    "tags": []
   },
   "outputs": [],
   "source": [
    "if aggregation and nomic:\n",
    "\n",
    "    # subset each column that contains metadata\n",
    "    metadata = data_df.filter(regex=\"Metadata\")\n",
    "    data_df = data_df.drop(metadata.columns, axis=1)\n",
    "    data_df = pd.concat([data_df, metadata[\"Metadata_Well\"]], axis=1)\n",
    "    # groupby well and take mean of each well\n",
    "    data_df = data_df.groupby(\"Metadata_Well\").mean()\n",
    "    # drop duplicate rows in the metadata_well column\n",
    "    metadata = metadata.drop_duplicates(subset=[\"Metadata_Well\"])\n",
    "    # get the metadata for each well\n",
    "    data_df = pd.merge(\n",
    "        data_df, metadata, left_on=\"Metadata_Well\", right_on=\"Metadata_Well\"\n",
    "    )\n",
    "    data_df = pd.merge(\n",
    "        data_df,\n",
    "        df_nomic,\n",
    "        left_on=[\"Metadata_Well\", \"oneb_Metadata_Treatment_Dose_Inhibitor_Dose\"],\n",
    "        right_on=[\"position_x\", \"oneb_Treatment_Dose_Inhibitor_Dose\"],\n",
    "    )\n",
    "    data_df = data_df.drop(columns=[\"position_x\"])\n",
    "    # drop all metadata columns\n",
    "    labeled_data = data_df[\"oneb_Metadata_Treatment_Dose_Inhibitor_Dose\"]\n",
    "    data_x = data_df.drop(metadata.columns, axis=1)\n",
    "    # set path to save the data\n",
    "    aggregated_data_path = pathlib.Path(\n",
    "        f\"../data/{cell_type}_preprocessed_sc_norm_aggregated_nomic.parquet\"\n",
    "    )\n",
    "\n",
    "\n",
    "elif aggregation and not nomic:\n",
    "    # get metadata columns\n",
    "    metadata = data_df.filter(regex=\"Metadata\")\n",
    "    data_df = data_df.drop(metadata.columns, axis=1)\n",
    "    metadata\n",
    "    data_df = pd.concat([data_df, metadata], axis=1)\n",
    "    # groupby well and take mean of each well\n",
    "    data_df = data_df.groupby(\n",
    "        [\"Metadata_Well\", \"oneb_Metadata_Treatment_Dose_Inhibitor_Dose\"]\n",
    "    ).mean()\n",
    "    # # drop duplicate rows in the metadata_well column\n",
    "    metadata = metadata.drop_duplicates(subset=[\"Metadata_Well\"])\n",
    "    # # get the metadata for each well\n",
    "    # # set path to save the data\n",
    "    aggregated_data_path = pathlib.Path(\n",
    "        f\"../data/{cell_type}_preprocessed_sc_norm_aggregated.parquet\"\n",
    "    )\n",
    "    # reset the index\n",
    "    data_df = data_df.reset_index()\n",
    "\n",
    "elif not aggregation and nomic:\n",
    "    data_df = pd.merge(\n",
    "        data_df,\n",
    "        df_nomic,\n",
    "        left_on=[\"Metadata_Well\", \"oneb_Metadata_Treatment_Dose_Inhibitor_Dose\"],\n",
    "        right_on=[\"position_x\", \"oneb_Treatment_Dose_Inhibitor_Dose\"],\n",
    "    )\n",
    "    data_df = data_df.drop(columns=[\"position_x\"])\n",
    "    # set path to save the data\n",
    "    aggregated_data_path = pathlib.Path(\n",
    "        f\"../data/{cell_type}_preprocessed_sc_norm_with_nomic.parquet\"\n",
    "    )\n",
    "elif aggregation == False and nomic == False:\n",
    "    pass\n",
    "else:\n",
    "    raise ValueError(\"Wrong parameters nomica and/or aggregation not defined\")"
   ]
  },
  {
   "cell_type": "code",
   "execution_count": 8,
   "id": "8977efc6",
   "metadata": {
    "execution": {
     "iopub.execute_input": "2023-10-29T21:54:56.090427Z",
     "iopub.status.busy": "2023-10-29T21:54:56.089957Z",
     "iopub.status.idle": "2023-10-29T21:55:13.191602Z",
     "shell.execute_reply": "2023-10-29T21:55:13.191085Z"
    },
    "papermill": {
     "duration": 17.105666,
     "end_time": "2023-10-29T21:55:13.193149",
     "exception": false,
     "start_time": "2023-10-29T21:54:56.087483",
     "status": "completed"
    },
    "tags": []
   },
   "outputs": [],
   "source": [
    "# save the data\n",
    "data_df.to_parquet(aggregated_data_path)"
   ]
  }
 ],
 "metadata": {
  "kernelspec": {
   "display_name": "Interstellar",
   "language": "python",
   "name": "python3"
  },
  "language_info": {
   "codemirror_mode": {
    "name": "ipython",
    "version": 3
   },
   "file_extension": ".py",
   "mimetype": "text/x-python",
   "name": "python",
   "nbconvert_exporter": "python",
   "pygments_lexer": "ipython3",
   "version": "3.10.12"
  },
  "papermill": {
   "default_parameters": {},
   "duration": 30.545469,
   "end_time": "2023-10-29T21:55:13.514438",
   "environment_variables": {},
   "exception": null,
   "input_path": "3.data_aggregation.ipynb",
   "output_path": "3.data_aggregation.ipynb",
   "parameters": {
    "aggregation": false,
    "cell_type": "SHSY5Y",
    "nomic": true
   },
   "start_time": "2023-10-29T21:54:42.968969",
   "version": "2.4.0"
  }
 },
 "nbformat": 4,
 "nbformat_minor": 5
}