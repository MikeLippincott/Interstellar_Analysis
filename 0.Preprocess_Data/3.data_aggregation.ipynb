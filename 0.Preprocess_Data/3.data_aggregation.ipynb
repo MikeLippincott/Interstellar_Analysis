{
    "cells": [
        {
            "cell_type": "markdown",
            "id": "67de461b",
            "metadata": {
                "papermill": {
                    "duration": 0.0023,
                    "end_time": "2023-12-31T05:54:22.569458",
                    "exception": false,
                    "start_time": "2023-12-31T05:54:22.567158",
                    "status": "completed"
                },
                "tags": []
            },
            "source": [
                "This noteboook aggregates the data from the previous notebooks and creates the final dataset for the analysis barring the data are aggregated in the analysis."
            ]
        },
        {
            "cell_type": "code",
            "execution_count": 1,
            "id": "3ebfd6b0",
            "metadata": {
                "execution": {
                    "iopub.execute_input": "2023-12-31T05:54:22.573792Z",
                    "iopub.status.busy": "2023-12-31T05:54:22.573327Z",
                    "iopub.status.idle": "2023-12-31T05:54:23.095507Z",
                    "shell.execute_reply": "2023-12-31T05:54:23.094914Z"
                },
                "papermill": {
                    "duration": 0.525468,
                    "end_time": "2023-12-31T05:54:23.096740",
                    "exception": false,
                    "start_time": "2023-12-31T05:54:22.571272",
                    "status": "completed"
                },
                "tags": []
            },
            "outputs": [],
            "source": [
                "import pathlib\n",
                "\n",
                "import numpy as np\n",
                "import pandas as pd"
            ]
        },
        {
            "cell_type": "code",
            "execution_count": 2,
            "id": "ac81885f",
            "metadata": {
                "execution": {
                    "iopub.execute_input": "2023-12-31T05:54:23.101243Z",
                    "iopub.status.busy": "2023-12-31T05:54:23.100677Z",
                    "iopub.status.idle": "2023-12-31T05:54:23.103511Z",
                    "shell.execute_reply": "2023-12-31T05:54:23.103041Z"
                },
                "papermill": {
                    "duration": 0.006103,
                    "end_time": "2023-12-31T05:54:23.104475",
                    "exception": false,
                    "start_time": "2023-12-31T05:54:23.098372",
                    "status": "completed"
                },
                "tags": [
                    "injected-parameters"
                ]
            },
            "outputs": [],
            "source": [
                "# Parameters\n",
                "cell_type = \"PBMC\"\n",
                "aggregation = True\n",
                "nomic = True"
            ]
        },
        {
            "cell_type": "code",
            "execution_count": 3,
            "id": "41eb9cfd",
            "metadata": {
                "execution": {
                    "iopub.execute_input": "2023-12-31T05:54:23.108606Z",
                    "iopub.status.busy": "2023-12-31T05:54:23.107998Z",
                    "iopub.status.idle": "2023-12-31T05:54:23.112528Z",
                    "shell.execute_reply": "2023-12-31T05:54:23.112059Z"
                },
                "papermill": {
                    "duration": 0.00771,
                    "end_time": "2023-12-31T05:54:23.113631",
                    "exception": false,
                    "start_time": "2023-12-31T05:54:23.105921",
                    "status": "completed"
                },
                "tags": []
            },
            "outputs": [],
            "source": [
                "if aggregation and nomic:\n",
                "    aggregated_data_path = pathlib.Path(\n",
                "        f\"../data/{cell_type}_preprocessed_sc_norm_aggregated_nomic.parquet\"\n",
                "    ).resolve(strict=True)\n",
                "elif not aggregation and nomic:\n",
                "    aggregated_data_path = pathlib.Path(\n",
                "        f\"../data/{cell_type}_preprocessed_sc_norm_nomic.parquet\"\n",
                "    ).resolve(strict=True)\n",
                "elif aggregation and not nomic:\n",
                "    aggregated_data_path = pathlib.Path(\n",
                "        f\"../data/{cell_type}_preprocessed_sc_norm_aggregated.parquet\"\n",
                "    ).resolve(strict=True)\n",
                "elif not aggregation and not nomic:\n",
                "    pass\n",
                "else:\n",
                "    raise ValueError(\"Wrong parameters\")"
            ]
        },
        {
            "cell_type": "code",
            "execution_count": 4,
            "id": "ba5278c5",
            "metadata": {
                "execution": {
                    "iopub.execute_input": "2023-12-31T05:54:23.117876Z",
                    "iopub.status.busy": "2023-12-31T05:54:23.117353Z",
                    "iopub.status.idle": "2023-12-31T05:55:03.648432Z",
                    "shell.execute_reply": "2023-12-31T05:55:03.647851Z"
                },
                "papermill": {
                    "duration": 40.534621,
                    "end_time": "2023-12-31T05:55:03.649805",
                    "exception": false,
                    "start_time": "2023-12-31T05:54:23.115184",
                    "status": "completed"
                },
                "tags": []
            },
            "outputs": [],
            "source": [
                "path = pathlib.Path(f\"../data/{cell_type}_preprocessed_sc_norm.parquet\")\n",
                "\n",
                "data_df = pd.read_parquet(path)\n",
                "\n",
                "data_df.head()\n",
                "\n",
                "if nomic:\n",
                "    # import nomic data\n",
                "    nomic_df_path = pathlib.Path(\n",
                "        f\"../2.Nomic_nELISA_Analysis/Data/clean/Plate2/nELISA_plate_430420_{cell_type}_clean.parquet\"\n",
                "    )\n",
                "    df_nomic = pd.read_parquet(nomic_df_path)\n",
                "\n",
                "    # drop columns that contain [pgML]\n",
                "    df_nomic = df_nomic.drop(\n",
                "        columns=[col for col in df_nomic.columns if \"[pgML]\" in col]\n",
                "    )\n",
                "    # drop first 25 columns (metadata that does not contain metadata in the title)\n",
                "    df_nomic = df_nomic.drop(columns=df_nomic.columns[3:25])\n",
                "    df_nomic = df_nomic.drop(columns=df_nomic.columns[0:2])\n",
                "elif not nomic:\n",
                "    pass\n",
                "else:\n",
                "    raise ValueError(\"Nomic data not imported\")"
            ]
        },
        {
            "cell_type": "code",
            "execution_count": 5,
            "id": "073ab83f",
            "metadata": {
                "execution": {
                    "iopub.execute_input": "2023-12-31T05:55:03.658473Z",
                    "iopub.status.busy": "2023-12-31T05:55:03.657959Z",
                    "iopub.status.idle": "2023-12-31T05:55:16.670827Z",
                    "shell.execute_reply": "2023-12-31T05:55:16.670189Z"
                },
                "papermill": {
                    "duration": 13.016588,
                    "end_time": "2023-12-31T05:55:16.672123",
                    "exception": false,
                    "start_time": "2023-12-31T05:55:03.655535",
                    "status": "completed"
                },
                "tags": []
            },
            "outputs": [],
            "source": [
                "# subset each column that contains metadata\n",
                "metadata = data_df.filter(regex=\"Metadata\")\n",
                "\n",
                "# get all columns that are not metadata except for metadata_Well\n",
                "data = data_df.drop(metadata.columns, axis=1)\n",
                "\n",
                "# get the metadata_Well column\n",
                "metadata_well = metadata[\n",
                "    [\"Metadata_Well\", \"oneb_Metadata_Treatment_Dose_Inhibitor_Dose\"]\n",
                "]\n",
                "\n",
                "data_df = pd.merge(data, metadata_well, left_index=True, right_index=True)"
            ]
        },
        {
            "cell_type": "code",
            "execution_count": 6,
            "id": "d3712b16",
            "metadata": {
                "execution": {
                    "iopub.execute_input": "2023-12-31T05:55:16.681219Z",
                    "iopub.status.busy": "2023-12-31T05:55:16.680625Z",
                    "iopub.status.idle": "2023-12-31T05:55:16.685028Z",
                    "shell.execute_reply": "2023-12-31T05:55:16.684500Z"
                },
                "papermill": {
                    "duration": 0.00882,
                    "end_time": "2023-12-31T05:55:16.686570",
                    "exception": false,
                    "start_time": "2023-12-31T05:55:16.677750",
                    "status": "completed"
                },
                "tags": []
            },
            "outputs": [],
            "source": [
                "if nomic:\n",
                "    df_nomic.drop(\n",
                "        columns=[\n",
                "            \"Treatment\",\n",
                "            \"Dose\",\n",
                "            \"twob_Treatment_Dose_Inhibitor_Dose\",\n",
                "            \"threeb_Treatment_Dose_Inhibitor_Dose\",\n",
                "            \"fourb_Treatment_Dose_Inhibitor_Dose\",\n",
                "        ],\n",
                "        inplace=True,\n",
                "    )"
            ]
        },
        {
            "cell_type": "code",
            "execution_count": 7,
            "id": "510c7356",
            "metadata": {
                "execution": {
                    "iopub.execute_input": "2023-12-31T05:55:16.690970Z",
                    "iopub.status.busy": "2023-12-31T05:55:16.690778Z",
                    "iopub.status.idle": "2023-12-31T05:55:57.884854Z",
                    "shell.execute_reply": "2023-12-31T05:55:57.884363Z"
                },
                "papermill": {
                    "duration": 41.197928,
                    "end_time": "2023-12-31T05:55:57.886421",
                    "exception": false,
                    "start_time": "2023-12-31T05:55:16.688493",
                    "status": "completed"
                },
                "tags": []
            },
            "outputs": [],
            "source": [
                "if aggregation and nomic:\n",
                "\n",
                "    # subset each column that contains metadata\n",
                "    metadata = data_df.filter(regex=\"Metadata\")\n",
                "    data_df = data_df.drop(metadata.columns, axis=1)\n",
                "    data_df = pd.concat([data_df, metadata[\"Metadata_Well\"]], axis=1)\n",
                "    # groupby well and take mean of each well\n",
                "    data_df = data_df.groupby(\"Metadata_Well\").mean()\n",
                "    # drop duplicate rows in the metadata_well column\n",
                "    metadata = metadata.drop_duplicates(subset=[\"Metadata_Well\"])\n",
                "    # get the metadata for each well\n",
                "    data_df = pd.merge(\n",
                "        data_df, metadata, left_on=\"Metadata_Well\", right_on=\"Metadata_Well\"\n",
                "    )\n",
                "    data_df = pd.merge(\n",
                "        data_df,\n",
                "        df_nomic,\n",
                "        left_on=[\"Metadata_Well\", \"oneb_Metadata_Treatment_Dose_Inhibitor_Dose\"],\n",
                "        right_on=[\"position_x\", \"oneb_Treatment_Dose_Inhibitor_Dose\"],\n",
                "    )\n",
                "    data_df = data_df.drop(columns=[\"position_x\"])\n",
                "    # drop all metadata columns\n",
                "    labeled_data = data_df[\"oneb_Metadata_Treatment_Dose_Inhibitor_Dose\"]\n",
                "    data_x = data_df.drop(metadata.columns, axis=1)\n",
                "    # set path to save the data\n",
                "    aggregated_data_path = pathlib.Path(\n",
                "        f\"../data/{cell_type}_preprocessed_sc_norm_aggregated_nomic.parquet\"\n",
                "    )\n",
                "\n",
                "\n",
                "elif aggregation and not nomic:\n",
                "    # get metadata columns\n",
                "    metadata = data_df.filter(regex=\"Metadata\")\n",
                "    data_df = data_df.drop(metadata.columns, axis=1)\n",
                "    metadata\n",
                "    data_df = pd.concat([data_df, metadata], axis=1)\n",
                "    # groupby well and take mean of each well\n",
                "    data_df = data_df.groupby(\n",
                "        [\"Metadata_Well\", \"oneb_Metadata_Treatment_Dose_Inhibitor_Dose\"]\n",
                "    ).mean()\n",
                "    # # drop duplicate rows in the metadata_well column\n",
                "    metadata = metadata.drop_duplicates(subset=[\"Metadata_Well\"])\n",
                "    # # get the metadata for each well\n",
                "    # # set path to save the data\n",
                "    aggregated_data_path = pathlib.Path(\n",
                "        f\"../data/{cell_type}_preprocessed_sc_norm_aggregated.parquet\"\n",
                "    )\n",
                "    # reset the index\n",
                "    data_df = data_df.reset_index()\n",
                "\n",
                "elif not aggregation and nomic:\n",
                "    data_df = pd.merge(\n",
                "        data_df,\n",
                "        df_nomic,\n",
                "        left_on=[\"Metadata_Well\", \"oneb_Metadata_Treatment_Dose_Inhibitor_Dose\"],\n",
                "        right_on=[\"position_x\", \"oneb_Treatment_Dose_Inhibitor_Dose\"],\n",
                "    )\n",
                "    data_df = data_df.drop(columns=[\"position_x\"])\n",
                "    # set path to save the data\n",
                "    aggregated_data_path = pathlib.Path(\n",
                "        f\"../data/{cell_type}_preprocessed_sc_norm_with_nomic.parquet\"\n",
                "    )\n",
                "elif aggregation == False and nomic == False:\n",
                "    pass\n",
                "else:\n",
                "    raise ValueError(\"Wrong parameters nomica and/or aggregation not defined\")"
            ]
        },
        {
            "cell_type": "code",
            "execution_count": 8,
            "id": "8977efc6",
            "metadata": {
                "execution": {
                    "iopub.execute_input": "2023-12-31T05:55:57.894468Z",
                    "iopub.status.busy": "2023-12-31T05:55:57.894057Z",
                    "iopub.status.idle": "2023-12-31T05:55:58.019632Z",
                    "shell.execute_reply": "2023-12-31T05:55:58.019190Z"
                },
                "papermill": {
                    "duration": 0.129492,
                    "end_time": "2023-12-31T05:55:58.021040",
                    "exception": false,
                    "start_time": "2023-12-31T05:55:57.891548",
                    "status": "completed"
                },
                "tags": []
            },
            "outputs": [],
            "source": [
                "# save the data\n",
                "data_df.to_parquet(aggregated_data_path)"
            ]
        }
    ],
    "metadata": {
        "kernelspec": {
            "display_name": "Interstellar",
            "language": "python",
            "name": "python3"
        },
        "language_info": {
            "codemirror_mode": {
                "name": "ipython",
                "version": 3
            },
            "file_extension": ".py",
            "mimetype": "text/x-python",
            "name": "python",
            "nbconvert_exporter": "python",
            "pygments_lexer": "ipython3",
            "version": "3.10.13"
        },
        "papermill": {
            "default_parameters": {},
            "duration": 97.335813,
            "end_time": "2023-12-31T05:55:58.340253",
            "environment_variables": {},
            "exception": null,
            "input_path": "3.data_aggregation.ipynb",
            "output_path": "3.data_aggregation.ipynb",
            "parameters": {
                "aggregation": true,
                "cell_type": "PBMC",
                "nomic": true
            },
            "start_time": "2023-12-31T05:54:21.004440",
            "version": "2.4.0"
        }
    },
    "nbformat": 4,
    "nbformat_minor": 5
}
