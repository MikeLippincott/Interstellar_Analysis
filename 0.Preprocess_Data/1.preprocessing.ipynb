{
 "cells": [
  {
   "cell_type": "code",
   "execution_count": null,
   "id": "1ed18d57",
   "metadata": {
    "execution": {
     "iopub.execute_input": "2023-07-11T22:18:40.380112Z",
     "iopub.status.busy": "2023-07-11T22:18:40.379653Z",
     "iopub.status.idle": "2023-07-11T22:18:40.844513Z",
     "shell.execute_reply": "2023-07-11T22:18:40.843850Z"
    },
    "papermill": {
     "duration": 0.473281,
     "end_time": "2023-07-11T22:18:40.846614",
     "exception": false,
     "start_time": "2023-07-11T22:18:40.373333",
     "status": "completed"
    },
    "tags": []
   },
   "outputs": [],
   "source": [
    "import pathlib\n",
    "import pandas as pd\n",
    "import numpy as np\n",
    "import pyarrow.parquet as pq\n",
    "import pyarrow as pa\n",
    "import papermill as pm"
   ]
  },
  {
   "cell_type": "code",
   "execution_count": null,
   "id": "15da0914",
   "metadata": {
    "execution": {
     "iopub.execute_input": "2023-07-11T22:18:40.857685Z",
     "iopub.status.busy": "2023-07-11T22:18:40.857082Z",
     "iopub.status.idle": "2023-07-11T22:18:40.860561Z",
     "shell.execute_reply": "2023-07-11T22:18:40.859941Z"
    },
    "papermill": {
     "duration": 0.010773,
     "end_time": "2023-07-11T22:18:40.862291",
     "exception": false,
     "start_time": "2023-07-11T22:18:40.851518",
     "status": "completed"
    },
    "tags": [
     "injected-parameters"
    ]
   },
   "outputs": [],
   "source": [
    "# Parameters\n",
    "celltype = \"PBMC\""
   ]
  },
  {
   "cell_type": "code",
   "execution_count": null,
   "id": "7e41be25",
   "metadata": {
    "execution": {
     "iopub.execute_input": "2023-07-11T22:18:40.874269Z",
     "iopub.status.busy": "2023-07-11T22:18:40.873915Z",
     "iopub.status.idle": "2023-07-11T22:19:03.002857Z",
     "shell.execute_reply": "2023-07-11T22:19:03.002365Z"
    },
    "papermill": {
     "duration": 22.136838,
     "end_time": "2023-07-11T22:19:03.004264",
     "exception": false,
     "start_time": "2023-07-11T22:18:40.867426",
     "status": "completed"
    },
    "tags": []
   },
   "outputs": [],
   "source": [
    "# Define inputs\n",
    "feature_file = pathlib.Path(f\"../data/{celltype}_sc_norm_fs.parquet\")\n",
    "feature_df = pq.read_table(feature_file).to_pandas()"
   ]
  },
  {
   "cell_type": "code",
   "execution_count": null,
   "id": "aa6d40a8",
   "metadata": {},
   "outputs": [],
   "source": [
    "# remove uM in each row of the Metadata_inducer1_concentration column if it is present\n",
    "if \"Metadata_inducer1_concentration\" in feature_df.columns:\n",
    "    feature_df[\"Metadata_inducer1_concentration\"] = feature_df[\n",
    "        \"Metadata_inducer1_concentration\"\n",
    "    ].str.replace(\"µM\", \"\")"
   ]
  },
  {
   "cell_type": "code",
   "execution_count": null,
   "id": "ba5ba736",
   "metadata": {},
   "outputs": [],
   "source": [
    "feature_df[\"Metadata_inducer1_concentration\"].unique()"
   ]
  },
  {
   "cell_type": "code",
   "execution_count": null,
   "id": "8418a230",
   "metadata": {
    "execution": {
     "iopub.execute_input": "2023-07-11T22:19:03.010547Z",
     "iopub.status.busy": "2023-07-11T22:19:03.010135Z",
     "iopub.status.idle": "2023-07-11T22:19:03.013144Z",
     "shell.execute_reply": "2023-07-11T22:19:03.012570Z"
    },
    "papermill": {
     "duration": 0.007405,
     "end_time": "2023-07-11T22:19:03.014357",
     "exception": false,
     "start_time": "2023-07-11T22:19:03.006952",
     "status": "completed"
    },
    "tags": []
   },
   "outputs": [],
   "source": [
    "# define output file path\n",
    "feature_df_out_path = pathlib.Path(f\"../data/{celltype}_preprocessed_sc_norm.parquet\")"
   ]
  },
  {
   "cell_type": "code",
   "execution_count": null,
   "id": "79df4337",
   "metadata": {
    "execution": {
     "iopub.execute_input": "2023-07-11T22:19:03.020270Z",
     "iopub.status.busy": "2023-07-11T22:19:03.019876Z",
     "iopub.status.idle": "2023-07-11T22:19:03.040675Z",
     "shell.execute_reply": "2023-07-11T22:19:03.040107Z"
    },
    "papermill": {
     "duration": 0.024958,
     "end_time": "2023-07-11T22:19:03.041857",
     "exception": false,
     "start_time": "2023-07-11T22:19:03.016899",
     "status": "completed"
    },
    "tags": []
   },
   "outputs": [],
   "source": [
    "print(feature_df.shape)\n",
    "feature_df.head()"
   ]
  },
  {
   "cell_type": "code",
   "execution_count": null,
   "id": "029dfdb7",
   "metadata": {
    "execution": {
     "iopub.execute_input": "2023-07-11T22:19:03.048617Z",
     "iopub.status.busy": "2023-07-11T22:19:03.048316Z",
     "iopub.status.idle": "2023-07-11T22:19:04.351254Z",
     "shell.execute_reply": "2023-07-11T22:19:04.350342Z"
    },
    "papermill": {
     "duration": 1.308515,
     "end_time": "2023-07-11T22:19:04.353230",
     "exception": false,
     "start_time": "2023-07-11T22:19:03.044715",
     "status": "completed"
    },
    "tags": []
   },
   "outputs": [],
   "source": [
    "# removing costes features as they behave with great variance across all data\n",
    "feature_df = feature_df.drop(feature_df.filter(regex=\"Costes\").columns, axis=1)\n",
    "print(feature_df.shape)\n",
    "feature_df.head()"
   ]
  },
  {
   "cell_type": "code",
   "execution_count": null,
   "id": "34d8981d",
   "metadata": {
    "execution": {
     "iopub.execute_input": "2023-07-11T22:19:04.366830Z",
     "iopub.status.busy": "2023-07-11T22:19:04.366539Z",
     "iopub.status.idle": "2023-07-11T22:19:09.008489Z",
     "shell.execute_reply": "2023-07-11T22:19:09.007822Z"
    },
    "papermill": {
     "duration": 4.650329,
     "end_time": "2023-07-11T22:19:09.010030",
     "exception": false,
     "start_time": "2023-07-11T22:19:04.359701",
     "status": "completed"
    },
    "tags": []
   },
   "outputs": [],
   "source": [
    "# replacing '/' in treatment dosage column to avoid errors in file interpolation including such strings\n",
    "feature_df = feature_df.replace(to_replace=\"/\", value=\"_per_\", regex=True)"
   ]
  },
  {
   "cell_type": "code",
   "execution_count": null,
   "id": "018fdc98",
   "metadata": {
    "execution": {
     "iopub.execute_input": "2023-07-11T22:19:09.017648Z",
     "iopub.status.busy": "2023-07-11T22:19:09.017366Z",
     "iopub.status.idle": "2023-07-11T22:19:09.051848Z",
     "shell.execute_reply": "2023-07-11T22:19:09.051316Z"
    },
    "papermill": {
     "duration": 0.040941,
     "end_time": "2023-07-11T22:19:09.054271",
     "exception": false,
     "start_time": "2023-07-11T22:19:09.013330",
     "status": "completed"
    },
    "tags": []
   },
   "outputs": [],
   "source": [
    "# replace nan values with 0\n",
    "feature_df[\"Metadata_inducer1_concentration\"] = feature_df[\n",
    "    \"Metadata_inducer1_concentration\"\n",
    "].fillna(0)\n",
    "feature_df[\"Metadata_inducer2_concentration\"] = feature_df[\n",
    "    \"Metadata_inducer2_concentration\"\n",
    "].fillna(0)\n",
    "feature_df[\"Metadata_inhibitor_concentration\"] = feature_df[\n",
    "    \"Metadata_inhibitor_concentration\"\n",
    "].fillna(0)"
   ]
  },
  {
   "attachments": {},
   "cell_type": "markdown",
   "id": "d109a042",
   "metadata": {
    "papermill": {
     "duration": 0.0066,
     "end_time": "2023-07-11T22:19:09.069431",
     "exception": false,
     "start_time": "2023-07-11T22:19:09.062831",
     "status": "completed"
    },
    "tags": []
   },
   "source": [
    "#### Combine Inducer1 and Inducer2 into one column"
   ]
  },
  {
   "cell_type": "code",
   "execution_count": null,
   "id": "c99c7fb9",
   "metadata": {
    "execution": {
     "iopub.execute_input": "2023-07-11T22:19:09.081074Z",
     "iopub.status.busy": "2023-07-11T22:19:09.080868Z",
     "iopub.status.idle": "2023-07-11T22:19:09.571242Z",
     "shell.execute_reply": "2023-07-11T22:19:09.570706Z"
    },
    "papermill": {
     "duration": 0.497908,
     "end_time": "2023-07-11T22:19:09.572928",
     "exception": false,
     "start_time": "2023-07-11T22:19:09.075020",
     "status": "completed"
    },
    "tags": []
   },
   "outputs": [],
   "source": [
    "# treatment column merge\n",
    "conditions = [\n",
    "    (feature_df[\"Metadata_inducer2\"].isnull()),\n",
    "    feature_df[\"Metadata_inducer2\"].notnull(),\n",
    "]\n",
    "\n",
    "results = [\n",
    "    (feature_df[\"Metadata_inducer1\"]).astype(str),\n",
    "    (feature_df[\"Metadata_inducer1\"] + \"_\" + feature_df[\"Metadata_inducer2\"]).astype(\n",
    "        str\n",
    "    ),\n",
    "]\n",
    "feature_df[\"Metadata_Treatment\"] = np.select(condlist=conditions, choicelist=results)\n",
    "\n",
    "# dose column merge\n",
    "conditions = [\n",
    "    (feature_df[\"Metadata_inducer2\"].isnull()),\n",
    "    feature_df[\"Metadata_inducer2\"].notnull(),\n",
    "]\n",
    "\n",
    "results = [\n",
    "    (feature_df[\"Metadata_inducer1_concentration\"].astype(str)).astype(str),\n",
    "    (\n",
    "        feature_df[\"Metadata_inducer1_concentration\"].astype(str)\n",
    "        + \"_\"\n",
    "        + feature_df[\"Metadata_inducer2_concentration\"].astype(str)\n",
    "    ).astype(str),\n",
    "]\n",
    "feature_df[\"Metadata_Dose\"] = np.select(condlist=conditions, choicelist=results)"
   ]
  },
  {
   "cell_type": "code",
   "execution_count": null,
   "id": "e14215dd",
   "metadata": {
    "execution": {
     "iopub.execute_input": "2023-07-11T22:19:09.587220Z",
     "iopub.status.busy": "2023-07-11T22:19:09.586921Z",
     "iopub.status.idle": "2023-07-11T22:19:09.714666Z",
     "shell.execute_reply": "2023-07-11T22:19:09.713760Z"
    },
    "papermill": {
     "duration": 0.136969,
     "end_time": "2023-07-11T22:19:09.716606",
     "exception": false,
     "start_time": "2023-07-11T22:19:09.579637",
     "status": "completed"
    },
    "tags": []
   },
   "outputs": [],
   "source": [
    "feature_df[\"Metadata_inducer1_concentration\"] = pd.to_numeric(\n",
    "    feature_df[\"Metadata_inducer1_concentration\"]\n",
    ")"
   ]
  },
  {
   "attachments": {},
   "cell_type": "markdown",
   "id": "44811a4f",
   "metadata": {
    "papermill": {
     "duration": 0.0057,
     "end_time": "2023-07-11T22:19:09.728297",
     "exception": false,
     "start_time": "2023-07-11T22:19:09.722597",
     "status": "completed"
    },
    "tags": []
   },
   "source": [
    "## N Beta Column condition generation\n",
    "columns generated to used for linear modeling where terms separated by '__' will be a beta coefficient "
   ]
  },
  {
   "cell_type": "code",
   "execution_count": null,
   "id": "2ceddf6b",
   "metadata": {
    "execution": {
     "iopub.execute_input": "2023-07-11T22:19:09.741564Z",
     "iopub.status.busy": "2023-07-11T22:19:09.741280Z",
     "iopub.status.idle": "2023-07-11T22:19:11.623346Z",
     "shell.execute_reply": "2023-07-11T22:19:11.622666Z"
    },
    "papermill": {
     "duration": 1.890996,
     "end_time": "2023-07-11T22:19:11.625322",
     "exception": false,
     "start_time": "2023-07-11T22:19:09.734326",
     "status": "completed"
    },
    "tags": []
   },
   "outputs": [],
   "source": [
    "# one beta of inudcer1, inducer1 concentration, inhibitor, and inhibitor concentration all as 1 beta term\n",
    "feature_df[\"oneb_Metadata_Treatment_Dose_Inhibitor_Dose\"] = (\n",
    "    feature_df[\"Metadata_Treatment\"]\n",
    "    + \"_\"\n",
    "    + feature_df[\"Metadata_Dose\"].astype(str)\n",
    "    + \"_\"\n",
    "    + feature_df[\"Metadata_inhibitor\"].astype(str)\n",
    "    + \"_\"\n",
    "    + feature_df[\"Metadata_inhibitor_concentration\"].astype(str)\n",
    ").astype(str)\n",
    "\n",
    "\n",
    "# two beta of inducer1, inhibitor, and inhibitor concentration all as 1 beta term + inducer1 concentration as 2nd beta term\n",
    "feature_df[\"twob_Metadata_Treatment_Dose_Inhibitor_Dose\"] = (\n",
    "    feature_df[\"Metadata_Treatment\"]\n",
    "    + \"_\"\n",
    "    + feature_df[\"Metadata_inhibitor\"].astype(str)\n",
    "    + \"_\"\n",
    "    + feature_df[\"Metadata_inhibitor_concentration\"].astype(str)\n",
    "    + \"__\"\n",
    "    + feature_df[\"Metadata_Dose\"].astype(str)\n",
    ").astype(str)\n",
    "\n",
    "# three beta of inducer 1 as 1 beta term, inducer1 concentration as 2nd beta term, inhibitor and inhibitor concentration as 3rd beta term\n",
    "feature_df[\"threeb_Metadata_Treatment_Dose_Inhibitor_Dose\"] = (\n",
    "    feature_df[\"Metadata_Treatment\"]\n",
    "    + \"__\"\n",
    "    + feature_df[\"Metadata_Dose\"].astype(str)\n",
    "    + \"__\"\n",
    "    + feature_df[\"Metadata_inhibitor\"].astype(str)\n",
    "    + \"_\"\n",
    "    + feature_df[\"Metadata_inhibitor_concentration\"].astype(str)\n",
    ").astype(str)\n",
    "\n",
    "# four beta of inducer 1 as 1 beta term, inducer1 concentration as 2nd beta term, inhibitor as 3rd beta term, and inhibitor concentration as 4th beta term\n",
    "feature_df[\"fourb_Metadata_Treatment_Dose_Inhibitor_Dose\"] = (\n",
    "    feature_df[\"Metadata_Treatment\"]\n",
    "    + \"__\"\n",
    "    + feature_df[\"Metadata_Dose\"].astype(str)\n",
    "    + \"__\"\n",
    "    + feature_df[\"Metadata_inhibitor\"].astype(str)\n",
    "    + \"__\"\n",
    "    + feature_df[\"Metadata_inhibitor_concentration\"].astype(str)\n",
    ").astype(str)"
   ]
  },
  {
   "cell_type": "code",
   "execution_count": null,
   "id": "28cbc3d6",
   "metadata": {
    "execution": {
     "iopub.execute_input": "2023-07-11T22:19:11.637225Z",
     "iopub.status.busy": "2023-07-11T22:19:11.637014Z",
     "iopub.status.idle": "2023-07-11T22:20:24.279162Z",
     "shell.execute_reply": "2023-07-11T22:20:24.278333Z"
    },
    "papermill": {
     "duration": 72.650599,
     "end_time": "2023-07-11T22:20:24.281411",
     "exception": false,
     "start_time": "2023-07-11T22:19:11.630812",
     "status": "completed"
    },
    "tags": []
   },
   "outputs": [],
   "source": [
    "feature_df_table = pa.Table.from_pandas(feature_df)\n",
    "pq.write_table(feature_df_table, feature_df_out_path)"
   ]
  }
 ],
 "metadata": {
  "kernelspec": {
   "display_name": "Interstellar",
   "language": "python",
   "name": "python3"
  },
  "language_info": {
   "codemirror_mode": {
    "name": "ipython",
    "version": 3
   },
   "file_extension": ".py",
   "mimetype": "text/x-python",
   "name": "python",
   "nbconvert_exporter": "python",
   "pygments_lexer": "ipython3",
   "version": "3.10.12"
  },
  "papermill": {
   "default_parameters": {},
   "duration": 105.729511,
   "end_time": "2023-07-11T22:20:25.142005",
   "environment_variables": {},
   "exception": null,
   "input_path": "1.preprocessing.ipynb",
   "output_path": "1.preprocessing.ipynb",
   "parameters": {
    "celltype": "SHSY5Y"
   },
   "start_time": "2023-07-11T22:18:39.412494",
   "version": "2.4.0"
  },
  "vscode": {
   "interpreter": {
    "hash": "72ae02083a9ca7d143c492d1aec380c7bf553ec51bd66e90e72bba65228121b6"
   }
  }
 },
 "nbformat": 4,
 "nbformat_minor": 5
}
