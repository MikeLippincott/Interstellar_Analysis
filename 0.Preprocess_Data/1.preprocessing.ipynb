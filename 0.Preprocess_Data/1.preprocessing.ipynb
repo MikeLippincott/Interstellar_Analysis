{
 "cells": [
  {
   "cell_type": "code",
   "execution_count": null,
   "id": "1ed18d57",
   "metadata": {
    "execution": {
     "iopub.execute_input": "2023-07-12T03:29:47.328580Z",
     "iopub.status.busy": "2023-07-12T03:29:47.328221Z",
     "iopub.status.idle": "2023-07-12T03:29:48.136048Z",
     "shell.execute_reply": "2023-07-12T03:29:48.135466Z"
    },
    "papermill": {
     "duration": 0.814012,
     "end_time": "2023-07-12T03:29:48.137486",
     "exception": false,
     "start_time": "2023-07-12T03:29:47.323474",
     "status": "completed"
    },
    "tags": []
   },
   "outputs": [],
   "source": [
    "import pathlib\n",
    "\n",
    "import numpy as np\n",
    "import pandas as pd\n",
    "import papermill as pm\n",
    "import pyarrow as pa\n",
    "import pyarrow.parquet as pq"
   ]
  },
  {
   "cell_type": "code",
   "execution_count": null,
   "id": "1df64fc1",
   "metadata": {
    "execution": {
     "iopub.execute_input": "2023-07-12T03:29:48.144059Z",
     "iopub.status.busy": "2023-07-12T03:29:48.143577Z",
     "iopub.status.idle": "2023-07-12T03:29:48.146346Z",
     "shell.execute_reply": "2023-07-12T03:29:48.145925Z"
    },
    "papermill": {
     "duration": 0.006895,
     "end_time": "2023-07-12T03:29:48.147258",
     "exception": false,
     "start_time": "2023-07-12T03:29:48.140363",
     "status": "completed"
    },
    "tags": [
     "injected-parameters"
    ]
   },
   "outputs": [],
   "source": [
    "# Parameters\n",
    "celltype = \"SHSY5Y\""
   ]
  },
  {
   "cell_type": "code",
   "execution_count": null,
   "id": "7e41be25",
   "metadata": {
    "execution": {
     "iopub.execute_input": "2023-07-12T03:29:48.152886Z",
     "iopub.status.busy": "2023-07-12T03:29:48.152442Z",
     "iopub.status.idle": "2023-07-12T03:31:25.093376Z",
     "shell.execute_reply": "2023-07-12T03:31:25.092840Z"
    },
    "papermill": {
     "duration": 96.945255,
     "end_time": "2023-07-12T03:31:25.094832",
     "exception": false,
     "start_time": "2023-07-12T03:29:48.149577",
     "status": "completed"
    },
    "tags": []
   },
   "outputs": [],
   "source": [
    "# Define inputs\n",
    "feature_file = pathlib.Path(f\"../data/{celltype}_sc_norm_fs.parquet\")\n",
    "feature_df = pq.read_table(feature_file).to_pandas()"
   ]
  },
  {
   "cell_type": "code",
   "execution_count": null,
   "id": "128e48fe",
   "metadata": {},
   "outputs": [],
   "source": [
    "# replace all \" \" with \"_\" in all values of the dataframe\n",
    "feature_df = feature_df.replace(to_replace=\" \", value=\"_\", regex=True)"
   ]
  },
  {
   "cell_type": "code",
   "execution_count": null,
   "id": "aa6d40a8",
   "metadata": {
    "execution": {
     "iopub.execute_input": "2023-07-12T03:31:25.106108Z",
     "iopub.status.busy": "2023-07-12T03:31:25.105740Z",
     "iopub.status.idle": "2023-07-12T03:31:26.113567Z",
     "shell.execute_reply": "2023-07-12T03:31:26.113026Z"
    },
    "papermill": {
     "duration": 1.012304,
     "end_time": "2023-07-12T03:31:26.114946",
     "exception": false,
     "start_time": "2023-07-12T03:31:25.102642",
     "status": "completed"
    },
    "tags": []
   },
   "outputs": [],
   "source": [
    "# remove uM in each row of the Metadata_inducer1_concentration column if it is present\n",
    "if \"Metadata_inducer1_concentration\" in feature_df.columns:\n",
    "    feature_df[\"Metadata_inducer1_concentration\"] = feature_df[\n",
    "        \"Metadata_inducer1_concentration\"\n",
    "    ].str.replace(\"µM\", \"\")"
   ]
  },
  {
   "cell_type": "code",
   "execution_count": null,
   "id": "ba5ba736",
   "metadata": {
    "execution": {
     "iopub.execute_input": "2023-07-12T03:31:26.121023Z",
     "iopub.status.busy": "2023-07-12T03:31:26.120716Z",
     "iopub.status.idle": "2023-07-12T03:31:26.262803Z",
     "shell.execute_reply": "2023-07-12T03:31:26.262333Z"
    },
    "papermill": {
     "duration": 0.146026,
     "end_time": "2023-07-12T03:31:26.263741",
     "exception": false,
     "start_time": "2023-07-12T03:31:26.117715",
     "status": "completed"
    },
    "tags": []
   },
   "outputs": [],
   "source": [
    "feature_df[\"Metadata_inducer1_concentration\"].unique()"
   ]
  },
  {
   "cell_type": "code",
   "execution_count": null,
   "id": "8418a230",
   "metadata": {
    "execution": {
     "iopub.execute_input": "2023-07-12T03:31:26.270115Z",
     "iopub.status.busy": "2023-07-12T03:31:26.269625Z",
     "iopub.status.idle": "2023-07-12T03:31:26.272254Z",
     "shell.execute_reply": "2023-07-12T03:31:26.271841Z"
    },
    "papermill": {
     "duration": 0.006465,
     "end_time": "2023-07-12T03:31:26.273129",
     "exception": false,
     "start_time": "2023-07-12T03:31:26.266664",
     "status": "completed"
    },
    "tags": []
   },
   "outputs": [],
   "source": [
    "# define output file path\n",
    "feature_df_out_path = pathlib.Path(f\"../data/{celltype}_preprocessed_sc_norm.parquet\")"
   ]
  },
  {
   "cell_type": "code",
   "execution_count": null,
   "id": "79df4337",
   "metadata": {
    "execution": {
     "iopub.execute_input": "2023-07-12T03:31:26.278716Z",
     "iopub.status.busy": "2023-07-12T03:31:26.278302Z",
     "iopub.status.idle": "2023-07-12T03:31:26.298706Z",
     "shell.execute_reply": "2023-07-12T03:31:26.298284Z"
    },
    "papermill": {
     "duration": 0.02419,
     "end_time": "2023-07-12T03:31:26.299612",
     "exception": false,
     "start_time": "2023-07-12T03:31:26.275422",
     "status": "completed"
    },
    "tags": []
   },
   "outputs": [],
   "source": [
    "print(feature_df.shape)\n",
    "feature_df.head()"
   ]
  },
  {
   "cell_type": "code",
   "execution_count": null,
   "id": "029dfdb7",
   "metadata": {
    "execution": {
     "iopub.execute_input": "2023-07-12T03:31:26.305845Z",
     "iopub.status.busy": "2023-07-12T03:31:26.305454Z",
     "iopub.status.idle": "2023-07-12T03:31:34.235738Z",
     "shell.execute_reply": "2023-07-12T03:31:34.235295Z"
    },
    "papermill": {
     "duration": 7.934358,
     "end_time": "2023-07-12T03:31:34.236682",
     "exception": false,
     "start_time": "2023-07-12T03:31:26.302324",
     "status": "completed"
    },
    "tags": []
   },
   "outputs": [],
   "source": [
    "# removing costes features as they behave with great variance across all data\n",
    "feature_df = feature_df.drop(feature_df.filter(regex=\"Costes\").columns, axis=1)\n",
    "print(feature_df.shape)\n",
    "feature_df.head()"
   ]
  },
  {
   "cell_type": "code",
   "execution_count": null,
   "id": "34d8981d",
   "metadata": {
    "execution": {
     "iopub.execute_input": "2023-07-12T03:31:34.248034Z",
     "iopub.status.busy": "2023-07-12T03:31:34.247518Z",
     "iopub.status.idle": "2023-07-12T03:32:14.851929Z",
     "shell.execute_reply": "2023-07-12T03:32:14.851422Z"
    },
    "papermill": {
     "duration": 40.6094,
     "end_time": "2023-07-12T03:32:14.853248",
     "exception": false,
     "start_time": "2023-07-12T03:31:34.243848",
     "status": "completed"
    },
    "tags": []
   },
   "outputs": [],
   "source": [
    "# replacing '/' in treatment dosage column to avoid errors in file interpolation including such strings\n",
    "feature_df = feature_df.replace(to_replace=\"/\", value=\"_per_\", regex=True)"
   ]
  },
  {
   "cell_type": "code",
   "execution_count": null,
   "id": "018fdc98",
   "metadata": {
    "execution": {
     "iopub.execute_input": "2023-07-12T03:32:14.862600Z",
     "iopub.status.busy": "2023-07-12T03:32:14.862289Z",
     "iopub.status.idle": "2023-07-12T03:32:15.118894Z",
     "shell.execute_reply": "2023-07-12T03:32:15.118378Z"
    },
    "papermill": {
     "duration": 0.261667,
     "end_time": "2023-07-12T03:32:15.120248",
     "exception": false,
     "start_time": "2023-07-12T03:32:14.858581",
     "status": "completed"
    },
    "tags": []
   },
   "outputs": [],
   "source": [
    "# replace nan values with 0\n",
    "feature_df[\"Metadata_inducer1_concentration\"] = feature_df[\n",
    "    \"Metadata_inducer1_concentration\"\n",
    "].fillna(0)\n",
    "feature_df[\"Metadata_inducer2_concentration\"] = feature_df[\n",
    "    \"Metadata_inducer2_concentration\"\n",
    "].fillna(0)\n",
    "feature_df[\"Metadata_inhibitor_concentration\"] = feature_df[\n",
    "    \"Metadata_inhibitor_concentration\"\n",
    "].fillna(0)"
   ]
  },
  {
   "attachments": {},
   "cell_type": "markdown",
   "id": "d109a042",
   "metadata": {
    "papermill": {
     "duration": 0.003043,
     "end_time": "2023-07-12T03:32:15.126631",
     "exception": false,
     "start_time": "2023-07-12T03:32:15.123588",
     "status": "completed"
    },
    "tags": []
   },
   "source": [
    "#### Combine Inducer1 and Inducer2 into one column"
   ]
  },
  {
   "cell_type": "code",
   "execution_count": null,
   "id": "c99c7fb9",
   "metadata": {
    "execution": {
     "iopub.execute_input": "2023-07-12T03:32:15.133411Z",
     "iopub.status.busy": "2023-07-12T03:32:15.132957Z",
     "iopub.status.idle": "2023-07-12T03:32:18.862795Z",
     "shell.execute_reply": "2023-07-12T03:32:18.862255Z"
    },
    "papermill": {
     "duration": 3.734761,
     "end_time": "2023-07-12T03:32:18.864229",
     "exception": false,
     "start_time": "2023-07-12T03:32:15.129468",
     "status": "completed"
    },
    "tags": []
   },
   "outputs": [],
   "source": [
    "# treatment column merge\n",
    "conditions = [\n",
    "    (feature_df[\"Metadata_inducer2\"].isnull()),\n",
    "    feature_df[\"Metadata_inducer2\"].notnull(),\n",
    "]\n",
    "\n",
    "results = [\n",
    "    (feature_df[\"Metadata_inducer1\"]).astype(str),\n",
    "    (feature_df[\"Metadata_inducer1\"] + \"_\" + feature_df[\"Metadata_inducer2\"]).astype(\n",
    "        str\n",
    "    ),\n",
    "]\n",
    "feature_df[\"Metadata_Treatment\"] = np.select(condlist=conditions, choicelist=results)\n",
    "\n",
    "# dose column merge\n",
    "conditions = [\n",
    "    (feature_df[\"Metadata_inducer2\"].isnull()),\n",
    "    feature_df[\"Metadata_inducer2\"].notnull(),\n",
    "]\n",
    "\n",
    "results = [\n",
    "    (feature_df[\"Metadata_inducer1_concentration\"].astype(str)).astype(str),\n",
    "    (\n",
    "        feature_df[\"Metadata_inducer1_concentration\"].astype(str)\n",
    "        + \"_\"\n",
    "        + feature_df[\"Metadata_inducer2_concentration\"].astype(str)\n",
    "    ).astype(str),\n",
    "]\n",
    "feature_df[\"Metadata_Dose\"] = np.select(condlist=conditions, choicelist=results)"
   ]
  },
  {
   "cell_type": "code",
   "execution_count": null,
   "id": "e14215dd",
   "metadata": {
    "execution": {
     "iopub.execute_input": "2023-07-12T03:32:18.874556Z",
     "iopub.status.busy": "2023-07-12T03:32:18.874069Z",
     "iopub.status.idle": "2023-07-12T03:32:19.980211Z",
     "shell.execute_reply": "2023-07-12T03:32:19.979659Z"
    },
    "papermill": {
     "duration": 1.111293,
     "end_time": "2023-07-12T03:32:19.981632",
     "exception": false,
     "start_time": "2023-07-12T03:32:18.870339",
     "status": "completed"
    },
    "tags": []
   },
   "outputs": [],
   "source": [
    "feature_df[\"Metadata_inducer1_concentration\"] = pd.to_numeric(\n",
    "    feature_df[\"Metadata_inducer1_concentration\"]\n",
    ")"
   ]
  },
  {
   "attachments": {},
   "cell_type": "markdown",
   "id": "44811a4f",
   "metadata": {
    "papermill": {
     "duration": 0.003248,
     "end_time": "2023-07-12T03:32:19.990305",
     "exception": false,
     "start_time": "2023-07-12T03:32:19.987057",
     "status": "completed"
    },
    "tags": []
   },
   "source": [
    "## N Beta Column condition generation\n",
    "columns generated to used for linear modeling where terms separated by '__' will be a beta coefficient "
   ]
  },
  {
   "cell_type": "code",
   "execution_count": null,
   "id": "2ceddf6b",
   "metadata": {
    "execution": {
     "iopub.execute_input": "2023-07-12T03:32:19.997520Z",
     "iopub.status.busy": "2023-07-12T03:32:19.996930Z",
     "iopub.status.idle": "2023-07-12T03:32:35.021648Z",
     "shell.execute_reply": "2023-07-12T03:32:35.021008Z"
    },
    "papermill": {
     "duration": 15.02988,
     "end_time": "2023-07-12T03:32:35.023139",
     "exception": false,
     "start_time": "2023-07-12T03:32:19.993259",
     "status": "completed"
    },
    "tags": []
   },
   "outputs": [],
   "source": [
    "# one beta of inudcer1, inducer1 concentration, inhibitor, and inhibitor concentration all as 1 beta term\n",
    "feature_df[\"oneb_Metadata_Treatment_Dose_Inhibitor_Dose\"] = (\n",
    "    feature_df[\"Metadata_Treatment\"]\n",
    "    + \"_\"\n",
    "    + feature_df[\"Metadata_Dose\"].astype(str)\n",
    "    + \"_\"\n",
    "    + feature_df[\"Metadata_inhibitor\"].astype(str)\n",
    "    + \"_\"\n",
    "    + feature_df[\"Metadata_inhibitor_concentration\"].astype(str)\n",
    ").astype(str)\n",
    "\n",
    "\n",
    "# two beta of inducer1, inhibitor, and inhibitor concentration all as 1 beta term + inducer1 concentration as 2nd beta term\n",
    "feature_df[\"twob_Metadata_Treatment_Dose_Inhibitor_Dose\"] = (\n",
    "    feature_df[\"Metadata_Treatment\"]\n",
    "    + \"_\"\n",
    "    + feature_df[\"Metadata_inhibitor\"].astype(str)\n",
    "    + \"_\"\n",
    "    + feature_df[\"Metadata_inhibitor_concentration\"].astype(str)\n",
    "    + \"__\"\n",
    "    + feature_df[\"Metadata_Dose\"].astype(str)\n",
    ").astype(str)\n",
    "\n",
    "# three beta of inducer 1 as 1 beta term, inducer1 concentration as 2nd beta term, inhibitor and inhibitor concentration as 3rd beta term\n",
    "feature_df[\"threeb_Metadata_Treatment_Dose_Inhibitor_Dose\"] = (\n",
    "    feature_df[\"Metadata_Treatment\"]\n",
    "    + \"__\"\n",
    "    + feature_df[\"Metadata_Dose\"].astype(str)\n",
    "    + \"__\"\n",
    "    + feature_df[\"Metadata_inhibitor\"].astype(str)\n",
    "    + \"_\"\n",
    "    + feature_df[\"Metadata_inhibitor_concentration\"].astype(str)\n",
    ").astype(str)\n",
    "\n",
    "# four beta of inducer 1 as 1 beta term, inducer1 concentration as 2nd beta term, inhibitor as 3rd beta term, and inhibitor concentration as 4th beta term\n",
    "feature_df[\"fourb_Metadata_Treatment_Dose_Inhibitor_Dose\"] = (\n",
    "    feature_df[\"Metadata_Treatment\"]\n",
    "    + \"__\"\n",
    "    + feature_df[\"Metadata_Dose\"].astype(str)\n",
    "    + \"__\"\n",
    "    + feature_df[\"Metadata_inhibitor\"].astype(str)\n",
    "    + \"__\"\n",
    "    + feature_df[\"Metadata_inhibitor_concentration\"].astype(str)\n",
    ").astype(str)"
   ]
  },
  {
   "cell_type": "code",
   "execution_count": null,
   "id": "28cbc3d6",
   "metadata": {
    "execution": {
     "iopub.execute_input": "2023-07-12T03:32:35.032976Z",
     "iopub.status.busy": "2023-07-12T03:32:35.032525Z",
     "iopub.status.idle": "2023-07-12T03:33:46.565504Z",
     "shell.execute_reply": "2023-07-12T03:33:46.564863Z"
    },
    "papermill": {
     "duration": 71.538269,
     "end_time": "2023-07-12T03:33:46.567036",
     "exception": false,
     "start_time": "2023-07-12T03:32:35.028767",
     "status": "completed"
    },
    "tags": []
   },
   "outputs": [],
   "source": [
    "feature_df_table = pa.Table.from_pandas(feature_df)\n",
    "pq.write_table(feature_df_table, feature_df_out_path)"
   ]
  }
 ],
 "metadata": {
  "kernelspec": {
   "display_name": "Interstellar",
   "language": "python",
   "name": "python3"
  },
  "language_info": {
   "codemirror_mode": {
    "name": "ipython",
    "version": 3
   },
   "file_extension": ".py",
   "mimetype": "text/x-python",
   "name": "python",
   "nbconvert_exporter": "python",
   "pygments_lexer": "ipython3",
   "version": "3.10.12 | packaged by conda-forge | (main, Jun 23 2023, 22:40:32) [GCC 12.3.0]"
  },
  "papermill": {
   "default_parameters": {},
   "duration": 242.168727,
   "end_time": "2023-07-12T03:33:47.590744",
   "environment_variables": {},
   "exception": null,
   "input_path": "1.preprocessing.ipynb",
   "output_path": "1.preprocessing.ipynb",
   "parameters": {
    "celltype": "PBMC"
   },
   "start_time": "2023-07-12T03:29:45.422017",
   "version": "2.4.0"
  },
  "vscode": {
   "interpreter": {
    "hash": "72ae02083a9ca7d143c492d1aec380c7bf553ec51bd66e90e72bba65228121b6"
   }
  }
 },
 "nbformat": 4,
 "nbformat_minor": 5
}
