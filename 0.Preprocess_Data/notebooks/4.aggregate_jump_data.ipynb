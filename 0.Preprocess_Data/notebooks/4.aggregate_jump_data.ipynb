{
    "cells": [
        {
            "cell_type": "code",
            "execution_count": 1,
            "metadata": {},
            "outputs": [],
            "source": [
                "import gc\n",
                "import pathlib\n",
                "\n",
                "import pandas as pd\n",
                "import tqdm"
            ]
        },
        {
            "cell_type": "code",
            "execution_count": 2,
            "metadata": {},
            "outputs": [],
            "source": [
                "# import jump data # absolute paths\n",
                "jump_data_path = pathlib.Path(\"/home/lippincm/Desktop/18TB/normalized_sc_data\").resolve(\n",
                "    strict=True\n",
                ")\n",
                "\n",
                "# get the list of parquet files in the directory that are not aggregated\n",
                "jump_data_files = list(jump_data_path.glob(\"*.parquet\"))\n",
                "jump_data_files = [x for x in jump_data_files if \"agg\" not in str(x)]"
            ]
        },
        {
            "cell_type": "code",
            "execution_count": 3,
            "metadata": {},
            "outputs": [
                {
                    "name": "stderr",
                    "output_type": "stream",
                    "text": [
                        "  2%|\u258f         | 1/51 [00:58<49:03, 58.88s/it]"
                    ]
                },
                {
                    "name": "stdout",
                    "output_type": "stream",
                    "text": [
                        "(384, 5810)\n"
                    ]
                },
                {
                    "name": "stderr",
                    "output_type": "stream",
                    "text": [
                        "  4%|\u258d         | 2/51 [02:44<1:10:18, 86.08s/it]"
                    ]
                },
                {
                    "name": "stdout",
                    "output_type": "stream",
                    "text": [
                        "(384, 5810)\n"
                    ]
                },
                {
                    "name": "stderr",
                    "output_type": "stream",
                    "text": [
                        "  6%|\u258c         | 3/51 [05:56<1:47:38, 134.56s/it]"
                    ]
                },
                {
                    "name": "stdout",
                    "output_type": "stream",
                    "text": [
                        "(384, 5810)\n"
                    ]
                },
                {
                    "name": "stderr",
                    "output_type": "stream",
                    "text": [
                        "  8%|\u258a         | 4/51 [07:00<1:23:32, 106.64s/it]"
                    ]
                },
                {
                    "name": "stdout",
                    "output_type": "stream",
                    "text": [
                        "(384, 5810)\n"
                    ]
                },
                {
                    "name": "stderr",
                    "output_type": "stream",
                    "text": [
                        " 10%|\u2589         | 5/51 [08:14<1:12:47, 94.95s/it] "
                    ]
                },
                {
                    "name": "stdout",
                    "output_type": "stream",
                    "text": [
                        "(384, 5806)\n"
                    ]
                },
                {
                    "name": "stderr",
                    "output_type": "stream",
                    "text": [
                        " 12%|\u2588\u258f        | 6/51 [09:20<1:03:49, 85.10s/it]"
                    ]
                },
                {
                    "name": "stdout",
                    "output_type": "stream",
                    "text": [
                        "(384, 5810)\n",
                        "(384, 5806)\n"
                    ]
                },
                {
                    "name": "stderr",
                    "output_type": "stream",
                    "text": [
                        " 16%|\u2588\u258c        | 8/51 [11:55<57:26, 80.14s/it]  "
                    ]
                },
                {
                    "name": "stdout",
                    "output_type": "stream",
                    "text": [
                        "(384, 5806)\n",
                        "(384, 5810)\n"
                    ]
                },
                {
                    "name": "stderr",
                    "output_type": "stream",
                    "text": [
                        " 20%|\u2588\u2589        | 10/51 [18:20<1:39:36, 145.76s/it]"
                    ]
                },
                {
                    "name": "stdout",
                    "output_type": "stream",
                    "text": [
                        "(384, 5810)\n"
                    ]
                },
                {
                    "name": "stderr",
                    "output_type": "stream",
                    "text": [
                        " 22%|\u2588\u2588\u258f       | 11/51 [19:33<1:22:13, 123.35s/it]"
                    ]
                },
                {
                    "name": "stdout",
                    "output_type": "stream",
                    "text": [
                        "(384, 5804)\n"
                    ]
                },
                {
                    "name": "stderr",
                    "output_type": "stream",
                    "text": [
                        " 24%|\u2588\u2588\u258e       | 12/51 [20:30<1:07:03, 103.18s/it]"
                    ]
                },
                {
                    "name": "stdout",
                    "output_type": "stream",
                    "text": [
                        "(384, 5810)\n",
                        "(383, 5810)\n"
                    ]
                },
                {
                    "name": "stderr",
                    "output_type": "stream",
                    "text": [
                        " 27%|\u2588\u2588\u258b       | 14/51 [24:33<1:10:32, 114.39s/it]"
                    ]
                },
                {
                    "name": "stdout",
                    "output_type": "stream",
                    "text": [
                        "(384, 5810)\n"
                    ]
                },
                {
                    "name": "stderr",
                    "output_type": "stream",
                    "text": [
                        " 29%|\u2588\u2588\u2589       | 15/51 [25:24<57:10, 95.28s/it]   "
                    ]
                },
                {
                    "name": "stdout",
                    "output_type": "stream",
                    "text": [
                        "(384, 5806)\n"
                    ]
                },
                {
                    "name": "stderr",
                    "output_type": "stream",
                    "text": [
                        " 31%|\u2588\u2588\u2588\u258f      | 16/51 [26:11<47:12, 80.92s/it]"
                    ]
                },
                {
                    "name": "stdout",
                    "output_type": "stream",
                    "text": [
                        "(384, 5806)\n"
                    ]
                },
                {
                    "name": "stderr",
                    "output_type": "stream",
                    "text": [
                        " 33%|\u2588\u2588\u2588\u258e      | 17/51 [27:36<46:27, 81.99s/it]"
                    ]
                },
                {
                    "name": "stdout",
                    "output_type": "stream",
                    "text": [
                        "(384, 5806)\n"
                    ]
                },
                {
                    "name": "stderr",
                    "output_type": "stream",
                    "text": [
                        " 35%|\u2588\u2588\u2588\u258c      | 18/51 [28:54<44:24, 80.75s/it]"
                    ]
                },
                {
                    "name": "stdout",
                    "output_type": "stream",
                    "text": [
                        "(384, 5804)\n",
                        "(384, 5806)\n"
                    ]
                },
                {
                    "name": "stderr",
                    "output_type": "stream",
                    "text": [
                        " 39%|\u2588\u2588\u2588\u2589      | 20/51 [31:21<39:13, 75.92s/it]"
                    ]
                },
                {
                    "name": "stdout",
                    "output_type": "stream",
                    "text": [
                        "(384, 5810)\n"
                    ]
                },
                {
                    "name": "stderr",
                    "output_type": "stream",
                    "text": [
                        " 41%|\u2588\u2588\u2588\u2588      | 21/51 [33:01<41:33, 83.11s/it]"
                    ]
                },
                {
                    "name": "stdout",
                    "output_type": "stream",
                    "text": [
                        "(384, 5806)\n",
                        "(384, 5810)\n"
                    ]
                },
                {
                    "name": "stderr",
                    "output_type": "stream",
                    "text": [
                        " 43%|\u2588\u2588\u2588\u2588\u258e     | 22/51 [34:56<44:51, 92.81s/it]"
                    ]
                },
                {
                    "name": "stdout",
                    "output_type": "stream",
                    "text": [
                        "(383, 5810)\n"
                    ]
                },
                {
                    "name": "stderr",
                    "output_type": "stream",
                    "text": [
                        " 47%|\u2588\u2588\u2588\u2588\u258b     | 24/51 [37:47<39:25, 87.59s/it]"
                    ]
                },
                {
                    "name": "stdout",
                    "output_type": "stream",
                    "text": [
                        "(383, 5806)\n"
                    ]
                },
                {
                    "name": "stderr",
                    "output_type": "stream",
                    "text": [
                        " 49%|\u2588\u2588\u2588\u2588\u2589     | 25/51 [38:46<34:17, 79.13s/it]"
                    ]
                },
                {
                    "name": "stdout",
                    "output_type": "stream",
                    "text": [
                        "(384, 5806)\n"
                    ]
                },
                {
                    "name": "stderr",
                    "output_type": "stream",
                    "text": [
                        " 51%|\u2588\u2588\u2588\u2588\u2588     | 26/51 [40:39<37:12, 89.28s/it]"
                    ]
                },
                {
                    "name": "stdout",
                    "output_type": "stream",
                    "text": [
                        "(384, 5804)\n"
                    ]
                },
                {
                    "name": "stderr",
                    "output_type": "stream",
                    "text": [
                        " 53%|\u2588\u2588\u2588\u2588\u2588\u258e    | 27/51 [42:03<35:04, 87.69s/it]"
                    ]
                },
                {
                    "name": "stdout",
                    "output_type": "stream",
                    "text": [
                        "(384, 5806)\n"
                    ]
                },
                {
                    "name": "stderr",
                    "output_type": "stream",
                    "text": [
                        " 55%|\u2588\u2588\u2588\u2588\u2588\u258d    | 28/51 [42:55<29:25, 76.78s/it]"
                    ]
                },
                {
                    "name": "stdout",
                    "output_type": "stream",
                    "text": [
                        "(384, 5804)\n"
                    ]
                },
                {
                    "name": "stderr",
                    "output_type": "stream",
                    "text": [
                        " 57%|\u2588\u2588\u2588\u2588\u2588\u258b    | 29/51 [44:17<28:46, 78.49s/it]"
                    ]
                },
                {
                    "name": "stdout",
                    "output_type": "stream",
                    "text": [
                        "(384, 5806)\n"
                    ]
                },
                {
                    "name": "stderr",
                    "output_type": "stream",
                    "text": [
                        " 59%|\u2588\u2588\u2588\u2588\u2588\u2589    | 30/51 [45:54<29:21, 83.89s/it]"
                    ]
                },
                {
                    "name": "stdout",
                    "output_type": "stream",
                    "text": [
                        "(384, 5810)\n"
                    ]
                },
                {
                    "name": "stderr",
                    "output_type": "stream",
                    "text": [
                        " 61%|\u2588\u2588\u2588\u2588\u2588\u2588    | 31/51 [47:11<27:19, 81.99s/it]"
                    ]
                },
                {
                    "name": "stdout",
                    "output_type": "stream",
                    "text": [
                        "(384, 5804)\n"
                    ]
                },
                {
                    "name": "stderr",
                    "output_type": "stream",
                    "text": [
                        " 63%|\u2588\u2588\u2588\u2588\u2588\u2588\u258e   | 32/51 [48:13<24:02, 75.91s/it]"
                    ]
                },
                {
                    "name": "stdout",
                    "output_type": "stream",
                    "text": [
                        "(384, 5804)\n"
                    ]
                },
                {
                    "name": "stderr",
                    "output_type": "stream",
                    "text": [
                        " 65%|\u2588\u2588\u2588\u2588\u2588\u2588\u258d   | 33/51 [49:56<25:10, 83.93s/it]"
                    ]
                },
                {
                    "name": "stdout",
                    "output_type": "stream",
                    "text": [
                        "(384, 5810)\n"
                    ]
                },
                {
                    "name": "stderr",
                    "output_type": "stream",
                    "text": [
                        " 67%|\u2588\u2588\u2588\u2588\u2588\u2588\u258b   | 34/51 [51:13<23:14, 82.04s/it]"
                    ]
                },
                {
                    "name": "stdout",
                    "output_type": "stream",
                    "text": [
                        "(384, 5806)\n"
                    ]
                },
                {
                    "name": "stderr",
                    "output_type": "stream",
                    "text": [
                        " 69%|\u2588\u2588\u2588\u2588\u2588\u2588\u258a   | 35/51 [51:52<18:25, 69.08s/it]"
                    ]
                },
                {
                    "name": "stdout",
                    "output_type": "stream",
                    "text": [
                        "(384, 5806)\n"
                    ]
                },
                {
                    "name": "stderr",
                    "output_type": "stream",
                    "text": [
                        " 71%|\u2588\u2588\u2588\u2588\u2588\u2588\u2588   | 36/51 [52:59<17:07, 68.49s/it]"
                    ]
                },
                {
                    "name": "stdout",
                    "output_type": "stream",
                    "text": [
                        "(384, 5806)\n"
                    ]
                },
                {
                    "name": "stderr",
                    "output_type": "stream",
                    "text": [
                        " 73%|\u2588\u2588\u2588\u2588\u2588\u2588\u2588\u258e  | 37/51 [54:19<16:47, 71.94s/it]"
                    ]
                },
                {
                    "name": "stdout",
                    "output_type": "stream",
                    "text": [
                        "(384, 5804)\n"
                    ]
                },
                {
                    "name": "stderr",
                    "output_type": "stream",
                    "text": [
                        " 75%|\u2588\u2588\u2588\u2588\u2588\u2588\u2588\u258d  | 38/51 [56:18<18:39, 86.13s/it]"
                    ]
                },
                {
                    "name": "stdout",
                    "output_type": "stream",
                    "text": [
                        "(384, 5810)\n"
                    ]
                },
                {
                    "name": "stderr",
                    "output_type": "stream",
                    "text": [
                        " 76%|\u2588\u2588\u2588\u2588\u2588\u2588\u2588\u258b  | 39/51 [57:26<16:08, 80.68s/it]"
                    ]
                },
                {
                    "name": "stdout",
                    "output_type": "stream",
                    "text": [
                        "(384, 5806)\n"
                    ]
                },
                {
                    "name": "stderr",
                    "output_type": "stream",
                    "text": [
                        " 78%|\u2588\u2588\u2588\u2588\u2588\u2588\u2588\u258a  | 40/51 [58:27<13:41, 74.68s/it]"
                    ]
                },
                {
                    "name": "stdout",
                    "output_type": "stream",
                    "text": [
                        "(384, 5810)\n",
                        "(384, 5810)\n"
                    ]
                },
                {
                    "name": "stderr",
                    "output_type": "stream",
                    "text": [
                        " 80%|\u2588\u2588\u2588\u2588\u2588\u2588\u2588\u2588  | 41/51 [1:00:17<14:12, 85.24s/it]"
                    ]
                },
                {
                    "name": "stdout",
                    "output_type": "stream",
                    "text": [
                        "(384, 5804)\n"
                    ]
                },
                {
                    "name": "stderr",
                    "output_type": "stream",
                    "text": [
                        " 84%|\u2588\u2588\u2588\u2588\u2588\u2588\u2588\u2588\u258d | 43/51 [1:02:31<09:59, 74.90s/it]"
                    ]
                },
                {
                    "name": "stdout",
                    "output_type": "stream",
                    "text": [
                        "(384, 5806)\n"
                    ]
                },
                {
                    "name": "stderr",
                    "output_type": "stream",
                    "text": [
                        " 86%|\u2588\u2588\u2588\u2588\u2588\u2588\u2588\u2588\u258b | 44/51 [1:03:09<07:27, 63.87s/it]"
                    ]
                },
                {
                    "name": "stdout",
                    "output_type": "stream",
                    "text": [
                        "(384, 5806)\n",
                        "(384, 5810)\n"
                    ]
                },
                {
                    "name": "stderr",
                    "output_type": "stream",
                    "text": [
                        " 90%|\u2588\u2588\u2588\u2588\u2588\u2588\u2588\u2588\u2588 | 46/51 [1:08:00<08:07, 97.41s/it] "
                    ]
                },
                {
                    "name": "stdout",
                    "output_type": "stream",
                    "text": [
                        "(384, 5810)\n"
                    ]
                },
                {
                    "name": "stderr",
                    "output_type": "stream",
                    "text": [
                        " 92%|\u2588\u2588\u2588\u2588\u2588\u2588\u2588\u2588\u2588\u258f| 47/51 [1:08:57<05:41, 85.41s/it]"
                    ]
                },
                {
                    "name": "stdout",
                    "output_type": "stream",
                    "text": [
                        "(384, 5810)\n"
                    ]
                },
                {
                    "name": "stderr",
                    "output_type": "stream",
                    "text": [
                        " 94%|\u2588\u2588\u2588\u2588\u2588\u2588\u2588\u2588\u2588\u258d| 48/51 [1:09:58<03:53, 77.95s/it]"
                    ]
                },
                {
                    "name": "stdout",
                    "output_type": "stream",
                    "text": [
                        "(384, 5804)\n"
                    ]
                },
                {
                    "name": "stderr",
                    "output_type": "stream",
                    "text": [
                        " 96%|\u2588\u2588\u2588\u2588\u2588\u2588\u2588\u2588\u2588\u258c| 49/51 [1:10:57<02:24, 72.13s/it]"
                    ]
                },
                {
                    "name": "stdout",
                    "output_type": "stream",
                    "text": [
                        "(384, 5810)\n"
                    ]
                },
                {
                    "name": "stderr",
                    "output_type": "stream",
                    "text": [
                        " 98%|\u2588\u2588\u2588\u2588\u2588\u2588\u2588\u2588\u2588\u258a| 50/51 [1:11:39<01:03, 63.32s/it]"
                    ]
                },
                {
                    "name": "stdout",
                    "output_type": "stream",
                    "text": [
                        "(301, 5810)\n"
                    ]
                },
                {
                    "name": "stderr",
                    "output_type": "stream",
                    "text": [
                        "100%|\u2588\u2588\u2588\u2588\u2588\u2588\u2588\u2588\u2588\u2588| 51/51 [1:15:07<00:00, 88.37s/it] "
                    ]
                },
                {
                    "name": "stdout",
                    "output_type": "stream",
                    "text": [
                        "(384, 5810)\n"
                    ]
                },
                {
                    "name": "stderr",
                    "output_type": "stream",
                    "text": [
                        "\n"
                    ]
                }
            ],
            "source": [
                "# loop through the files and aggregate the data\n",
                "for file in tqdm.tqdm(jump_data_files):\n",
                "    # read file\n",
                "    # read file\n",
                "    jump_df = pd.read_parquet(file)\n",
                "    # extract the file name and path\n",
                "    file_name = file.stem\n",
                "    file_path = file.parent\n",
                "    # define save path\n",
                "    agg_file_name = file_path / f\"{file_name}_agg.parquet\"\n",
                "\n",
                "    # separate the data into the different types metadata, data\n",
                "    metadata = jump_df[jump_df.columns[jump_df.columns.str.contains(\"Metadata\")]]\n",
                "    features = jump_df[jump_df.columns[~jump_df.columns.str.contains(\"Metadata\")]]\n",
                "    features = features.copy()\n",
                "    features.loc[:, \"Metadata_Well\"] = metadata[\"Metadata_Well\"]\n",
                "    # aggregate the data\n",
                "    agg_df = features.groupby(\"Metadata_Well\").agg(\"mean\")\n",
                "    metadata = metadata.drop_duplicates(subset=\"Metadata_Well\")\n",
                "    # add the metadata back to the aggregated data\n",
                "    agg_df = agg_df.merge(metadata, on=\"Metadata_Well\", how=\"left\")\n",
                "    # save the aggregated data\n",
                "    agg_df.to_parquet(agg_file_name)\n",
                "    print(agg_df.shape)\n",
                "    agg_df.head()\n",
                "    del jump_df, agg_df, metadata, features\n",
                "    gc.collect()"
            ]
        }
    ],
    "metadata": {
        "kernelspec": {
            "display_name": "Interstellar_python",
            "language": "python",
            "name": "python3"
        },
        "language_info": {
            "codemirror_mode": {
                "name": "ipython",
                "version": 3
            },
            "file_extension": ".py",
            "mimetype": "text/x-python",
            "name": "python",
            "nbconvert_exporter": "python",
            "pygments_lexer": "ipython3",
            "version": "3.10.14"
        }
    },
    "nbformat": 4,
    "nbformat_minor": 2
}
