{
    "cells": [
        {
            "cell_type": "markdown",
            "id": "67de461b",
            "metadata": {
                "papermill": {
                    "duration": 0.002024,
                    "end_time": "2024-03-29T03:36:15.367119",
                    "exception": false,
                    "start_time": "2024-03-29T03:36:15.365095",
                    "status": "completed"
                },
                "tags": []
            },
            "source": [
                "This noteboook aggregates the data from the previous notebooks and creates the final dataset for the analysis barring the data are aggregated in the analysis."
            ]
        },
        {
            "cell_type": "code",
            "execution_count": 1,
            "id": "3ebfd6b0",
            "metadata": {
                "execution": {
                    "iopub.execute_input": "2024-03-29T03:36:15.371221Z",
                    "iopub.status.busy": "2024-03-29T03:36:15.371048Z",
                    "iopub.status.idle": "2024-03-29T03:36:16.026269Z",
                    "shell.execute_reply": "2024-03-29T03:36:16.025785Z"
                },
                "papermill": {
                    "duration": 0.65863,
                    "end_time": "2024-03-29T03:36:16.027447",
                    "exception": false,
                    "start_time": "2024-03-29T03:36:15.368817",
                    "status": "completed"
                },
                "tags": []
            },
            "outputs": [],
            "source": [
                "import pathlib\n",
                "\n",
                "import numpy as np\n",
                "import pandas as pd"
            ]
        },
        {
            "cell_type": "code",
            "execution_count": null,
            "id": "a5a2bcec",
            "metadata": {
                "execution": {
                    "iopub.execute_input": "2024-03-29T03:36:16.030992Z",
                    "iopub.status.busy": "2024-03-29T03:36:16.030611Z",
                    "iopub.status.idle": "2024-03-29T03:36:16.032898Z",
                    "shell.execute_reply": "2024-03-29T03:36:16.032503Z"
                },
                "papermill": {
                    "duration": 0.004773,
                    "end_time": "2024-03-29T03:36:16.033665",
                    "exception": false,
                    "start_time": "2024-03-29T03:36:16.028892",
                    "status": "completed"
                },
                "tags": [
                    "injected-parameters"
                ]
            },
            "outputs": [],
            "source": [
                "# Parameters\n",
                "cell_type = \"PBMC\"\n",
                "aggregation = True\n",
                "fs = False\n",
                "nomic = False"
            ]
        },
        {
            "cell_type": "code",
            "execution_count": null,
            "id": "41eb9cfd",
            "metadata": {
                "execution": {
                    "iopub.execute_input": "2024-03-29T03:36:16.037467Z",
                    "iopub.status.busy": "2024-03-29T03:36:16.037206Z",
                    "iopub.status.idle": "2024-03-29T03:36:16.040227Z",
                    "shell.execute_reply": "2024-03-29T03:36:16.039811Z"
                },
                "papermill": {
                    "duration": 0.005435,
                    "end_time": "2024-03-29T03:36:16.040993",
                    "exception": false,
                    "start_time": "2024-03-29T03:36:16.035558",
                    "status": "completed"
                },
                "tags": []
            },
            "outputs": [],
            "source": [
                "if aggregation and nomic:\n",
                "    aggregated_data_path = pathlib.Path(\n",
                "        f\"../../data/{cell_type}_preprocessed_sc_norm_aggregated_nomic.parquet\"\n",
                "    )\n",
                "elif not aggregation and nomic:\n",
                "    aggregated_data_path = pathlib.Path(\n",
                "        f\"../../data/{cell_type}_preprocessed_sc_norm_nomic.parquet\"\n",
                "    )\n",
                "elif aggregation and not nomic:\n",
                "    aggregated_data_path = pathlib.Path(\n",
                "        f\"../../data/{cell_type}_preprocessed_sc_norm_aggregated.parquet\"\n",
                "    )\n",
                "elif not aggregation and not nomic:\n",
                "    pass\n",
                "else:\n",
                "    raise ValueError(\"Wrong parameters\")"
            ]
        },
        {
            "cell_type": "code",
            "execution_count": null,
            "id": "ba5278c5",
            "metadata": {
                "execution": {
                    "iopub.execute_input": "2024-03-29T03:36:16.043971Z",
                    "iopub.status.busy": "2024-03-29T03:36:16.043719Z",
                    "iopub.status.idle": "2024-03-29T03:38:45.672219Z",
                    "shell.execute_reply": "2024-03-29T03:38:45.650331Z"
                },
                "papermill": {
                    "duration": 149.665575,
                    "end_time": "2024-03-29T03:38:45.707713",
                    "exception": false,
                    "start_time": "2024-03-29T03:36:16.042138",
                    "status": "completed"
                },
                "tags": []
            },
            "outputs": [],
            "source": [
                "if fs:\n",
                "    path = pathlib.Path(f\"../../data/{cell_type}_preprocessed_sc_norm.parquet\")\n",
                "else:\n",
                "    path = pathlib.Path(f\"../../data/{cell_type}_sc_norm.parquet\")\n",
                "\n",
                "\n",
                "data_df = pd.read_parquet(path)\n",
                "\n",
                "data_df.head()\n",
                "\n",
                "if nomic:\n",
                "    # import nomic data\n",
                "    nomic_df_path = pathlib.Path(\n",
                "        f\"../../2.Nomic_nELISA_Analysis/Data/clean/Plate2/nELISA_plate_430420_{cell_type}_clean.parquet\"\n",
                "    )\n",
                "    df_nomic = pd.read_parquet(nomic_df_path)\n",
                "\n",
                "    # drop columns that contain [pgML]\n",
                "    df_nomic = df_nomic.drop(\n",
                "        columns=[col for col in df_nomic.columns if \"[pgML]\" in col]\n",
                "    )\n",
                "    # drop first 25 columns (metadata that does not contain metadata in the title)\n",
                "    df_nomic = df_nomic.drop(columns=df_nomic.columns[3:25])\n",
                "    df_nomic = df_nomic.drop(columns=df_nomic.columns[0:2])\n",
                "elif not nomic:\n",
                "    pass\n",
                "else:\n",
                "    raise ValueError(\"Nomic data not imported\")"
            ]
        },
        {
            "cell_type": "code",
            "execution_count": null,
            "id": "073ab83f",
            "metadata": {
                "execution": {
                    "iopub.execute_input": "2024-03-29T03:38:45.759170Z",
                    "iopub.status.busy": "2024-03-29T03:38:45.758162Z",
                    "iopub.status.idle": "2024-03-29T03:49:48.125124Z",
                    "shell.execute_reply": "2024-03-29T03:49:48.095508Z"
                },
                "papermill": {
                    "duration": 662.42849,
                    "end_time": "2024-03-29T03:49:48.168055",
                    "exception": false,
                    "start_time": "2024-03-29T03:38:45.739565",
                    "status": "completed"
                },
                "tags": []
            },
            "outputs": [],
            "source": [
                "# subset each column that contains metadata\n",
                "metadata = data_df.filter(regex=\"Metadata\")\n",
                "\n",
                "# get all columns that are not metadata except for metadata_Well\n",
                "data = data_df.drop(metadata.columns, axis=1)\n",
                "\n",
                "# get the metadata_Well column\n",
                "metadata_well = metadata[\n",
                "    [\"Metadata_Well\", \"oneb_Metadata_Treatment_Dose_Inhibitor_Dose\"]\n",
                "]\n",
                "\n",
                "data_df = pd.merge(data, metadata_well, left_index=True, right_index=True)"
            ]
        },
        {
            "cell_type": "code",
            "execution_count": null,
            "id": "d3712b16",
            "metadata": {
                "execution": {
                    "iopub.execute_input": "2024-03-29T03:49:48.255138Z",
                    "iopub.status.busy": "2024-03-29T03:49:48.253438Z",
                    "iopub.status.idle": "2024-03-29T03:49:48.396244Z",
                    "shell.execute_reply": "2024-03-29T03:49:48.395735Z"
                },
                "papermill": {
                    "duration": 0.193983,
                    "end_time": "2024-03-29T03:49:48.398109",
                    "exception": false,
                    "start_time": "2024-03-29T03:49:48.204126",
                    "status": "completed"
                },
                "tags": []
            },
            "outputs": [],
            "source": [
                "if nomic:\n",
                "    df_nomic.drop(\n",
                "        columns=[\n",
                "            \"Treatment\",\n",
                "            \"Dose\",\n",
                "            \"twob_Treatment_Dose_Inhibitor_Dose\",\n",
                "            \"threeb_Treatment_Dose_Inhibitor_Dose\",\n",
                "            \"fourb_Treatment_Dose_Inhibitor_Dose\",\n",
                "        ],\n",
                "        inplace=True,\n",
                "    )"
            ]
        },
        {
            "cell_type": "code",
            "execution_count": null,
            "id": "510c7356",
            "metadata": {
                "execution": {
                    "iopub.execute_input": "2024-03-29T03:49:48.403249Z",
                    "iopub.status.busy": "2024-03-29T03:49:48.402909Z",
                    "iopub.status.idle": "2024-03-29T04:14:51.992201Z",
                    "shell.execute_reply": "2024-03-29T04:14:51.968993Z"
                },
                "papermill": {
                    "duration": 1503.631773,
                    "end_time": "2024-03-29T04:14:52.031195",
                    "exception": false,
                    "start_time": "2024-03-29T03:49:48.399422",
                    "status": "completed"
                },
                "tags": []
            },
            "outputs": [],
            "source": [
                "if aggregation and nomic:\n",
                "\n",
                "    # subset each column that contains metadata\n",
                "    metadata = data_df.filter(regex=\"Metadata\")\n",
                "    data_df = data_df.drop(metadata.columns, axis=1)\n",
                "    data_df = pd.concat([data_df, metadata[\"Metadata_Well\"]], axis=1)\n",
                "    # groupby well and take mean of each well\n",
                "    data_df = data_df.groupby(\"Metadata_Well\").mean()\n",
                "    # drop duplicate rows in the metadata_well column\n",
                "    metadata = metadata.drop_duplicates(subset=[\"Metadata_Well\"])\n",
                "    # get the metadata for each well\n",
                "    data_df = pd.merge(\n",
                "        data_df, metadata, left_on=\"Metadata_Well\", right_on=\"Metadata_Well\"\n",
                "    )\n",
                "    data_df = pd.merge(\n",
                "        data_df,\n",
                "        df_nomic,\n",
                "        left_on=[\"Metadata_Well\", \"oneb_Metadata_Treatment_Dose_Inhibitor_Dose\"],\n",
                "        right_on=[\"position_x\", \"oneb_Treatment_Dose_Inhibitor_Dose\"],\n",
                "    )\n",
                "    data_df = data_df.drop(columns=[\"position_x\"])\n",
                "    # drop all metadata columns\n",
                "    labeled_data = data_df[\"oneb_Metadata_Treatment_Dose_Inhibitor_Dose\"]\n",
                "    data_x = data_df.drop(metadata.columns, axis=1)\n",
                "    # set path to save the data\n",
                "    aggregated_data_path = pathlib.Path(\n",
                "        f\"../data/{cell_type}_preprocessed_sc_norm_aggregated_nomic.parquet\"\n",
                "    )\n",
                "\n",
                "\n",
                "elif aggregation and not nomic:\n",
                "    # get metadata columns\n",
                "    metadata = data_df.filter(regex=\"Metadata\")\n",
                "    data_df = data_df.drop(metadata.columns, axis=1)\n",
                "    metadata\n",
                "    data_df = pd.concat([data_df, metadata], axis=1)\n",
                "    # groupby well and take mean of each well\n",
                "    data_df = data_df.groupby(\n",
                "        [\"Metadata_Well\", \"oneb_Metadata_Treatment_Dose_Inhibitor_Dose\"]\n",
                "    ).mean()\n",
                "    # # drop duplicate rows in the metadata_well column\n",
                "    metadata = metadata.drop_duplicates(subset=[\"Metadata_Well\"])\n",
                "    # # get the metadata for each well\n",
                "    # # set path to save the data\n",
                "    aggregated_data_path = pathlib.Path(\n",
                "        f\"../data/{cell_type}_preprocessed_sc_norm_aggregated.parquet\"\n",
                "    )\n",
                "    # reset the index\n",
                "    data_df = data_df.reset_index()\n",
                "\n",
                "elif not aggregation and nomic:\n",
                "    data_df = pd.merge(\n",
                "        data_df,\n",
                "        df_nomic,\n",
                "        left_on=[\"Metadata_Well\", \"oneb_Metadata_Treatment_Dose_Inhibitor_Dose\"],\n",
                "        right_on=[\"position_x\", \"oneb_Treatment_Dose_Inhibitor_Dose\"],\n",
                "    )\n",
                "    data_df = data_df.drop(columns=[\"position_x\"])\n",
                "    # set path to save the data\n",
                "    aggregated_data_path = pathlib.Path(\n",
                "        f\"../data/{cell_type}_preprocessed_sc_norm_with_nomic.parquet\"\n",
                "    )\n",
                "elif aggregation == False and nomic == False:\n",
                "    pass\n",
                "else:\n",
                "    raise ValueError(\"Wrong parameters nomic and/or aggregation not defined\")"
            ]
        },
        {
            "cell_type": "code",
            "execution_count": null,
            "id": "83aea516",
            "metadata": {},
            "outputs": [],
            "source": [
                "print(len(data_df[\"oneb_Metadata_Treatment_Dose_Inhibitor_Dose\"].unique()))\n",
                "print(data_df[\"oneb_Metadata_Treatment_Dose_Inhibitor_Dose\"].unique())"
            ]
        },
        {
            "cell_type": "code",
            "execution_count": null,
            "id": "f69e3548",
            "metadata": {},
            "outputs": [],
            "source": [
                "print(len(data_df[\"Metadata_Well\"].unique()))"
            ]
        },
        {
            "cell_type": "code",
            "execution_count": null,
            "id": "8977efc6",
            "metadata": {
                "execution": {
                    "iopub.execute_input": "2024-03-29T04:14:52.082741Z",
                    "iopub.status.busy": "2024-03-29T04:14:52.081803Z",
                    "iopub.status.idle": "2024-03-29T04:14:52.381378Z",
                    "shell.execute_reply": "2024-03-29T04:14:52.380903Z"
                },
                "papermill": {
                    "duration": 0.320804,
                    "end_time": "2024-03-29T04:14:52.383372",
                    "exception": false,
                    "start_time": "2024-03-29T04:14:52.062568",
                    "status": "completed"
                },
                "tags": []
            },
            "outputs": [],
            "source": [
                "# save the data\n",
                "data_df.to_parquet(aggregated_data_path)"
            ]
        }
    ],
    "metadata": {
        "kernelspec": {
            "display_name": "Interstellar",
            "language": "python",
            "name": "python3"
        },
        "language_info": {
            "codemirror_mode": {
                "name": "ipython",
                "version": 3
            },
            "file_extension": ".py",
            "mimetype": "text/x-python",
            "name": "python",
            "nbconvert_exporter": "python",
            "pygments_lexer": "ipython3",
            "version": "3.10.14"
        },
        "papermill": {
            "default_parameters": {},
            "duration": 2324.31829,
            "end_time": "2024-03-29T04:14:58.640813",
            "environment_variables": {},
            "exception": null,
            "input_path": "3.data_aggregation.ipynb",
            "output_path": "3.data_aggregation.ipynb",
            "parameters": {
                "aggregation": true,
                "cell_type": "PBMC",
                "nomic": true
            },
            "start_time": "2024-03-29T03:36:14.322523",
            "version": "2.4.0"
        }
    },
    "nbformat": 4,
    "nbformat_minor": 5
}
